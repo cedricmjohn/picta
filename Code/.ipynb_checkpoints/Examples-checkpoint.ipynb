{
 "cells": [
  {
   "cell_type": "code",
   "execution_count": 1,
   "metadata": {
    "scrolled": true
   },
   "outputs": [],
   "source": [
    "interp.repositories() ++= Seq(coursierapi.MavenRepository.of(\n",
    "\"https://jitpack.io\"\n",
    "))"
   ]
  },
  {
   "cell_type": "code",
   "execution_count": 2,
   "metadata": {},
   "outputs": [
    {
     "data": {
      "text/plain": [
       "\u001b[32mimport \u001b[39m\u001b[36m$ivy.$                                  \u001b[39m"
      ]
     },
     "execution_count": 2,
     "metadata": {},
     "output_type": "execute_result"
    }
   ],
   "source": [
    "import $ivy. `org.carbonateresearch::picta:0.1`"
   ]
  },
  {
   "cell_type": "code",
   "execution_count": 3,
   "metadata": {
    "scrolled": true
   },
   "outputs": [
    {
     "data": {
      "text/html": [
       "\n",
       "<script> /** vim: et:ts=4:sw=4:sts=4\n",
       " * @license RequireJS 2.3.6 Copyright jQuery Foundation and other contributors.\n",
       " * Released under MIT license, https://github.com/requirejs/requirejs/blob/master/LICENSE\n",
       " */\n",
       "var requirejs,require,define;!function(global,setTimeout){var req,s,head,baseElement,dataMain,src,interactiveScript,currentlyAddingScript,mainScript,subPath,version=\"2.3.6\",commentRegExp=/\\/\\*[\\s\\S]*?\\*\\/|([^:\"'=]|^)\\/\\/.*$/gm,cjsRequireRegExp=/[^.]\\s*require\\s*\\(\\s*[\"']([^'\"\\s]+)[\"']\\s*\\)/g,jsSuffixRegExp=/\\.js$/,currDirRegExp=/^\\.\\//,op=Object.prototype,ostring=op.toString,hasOwn=op.hasOwnProperty,isBrowser=!(\"undefined\"==typeof window||\"undefined\"==typeof navigator||!window.document),isWebWorker=!isBrowser&&\"undefined\"!=typeof importScripts,readyRegExp=isBrowser&&\"PLAYSTATION 3\"===navigator.platform?/^complete$/:/^(complete|loaded)$/,defContextName=\"_\",isOpera=\"undefined\"!=typeof opera&&\"[object Opera]\"===opera.toString(),contexts={},cfg={},globalDefQueue=[],useInteractive=!1;function commentReplace(e,t){return t||\"\"}function isFunction(e){return\"[object Function]\"===ostring.call(e)}function isArray(e){return\"[object Array]\"===ostring.call(e)}function each(e,t){var i;if(e)for(i=0;i<e.length&&(!e[i]||!t(e[i],i,e));i+=1);}function eachReverse(e,t){var i;if(e)for(i=e.length-1;-1<i&&(!e[i]||!t(e[i],i,e));i-=1);}function hasProp(e,t){return hasOwn.call(e,t)}function getOwn(e,t){return hasProp(e,t)&&e[t]}function eachProp(e,t){var i;for(i in e)if(hasProp(e,i)&&t(e[i],i))break}function mixin(i,e,r,n){return e&&eachProp(e,function(e,t){!r&&hasProp(i,t)||(!n||\"object\"!=typeof e||!e||isArray(e)||isFunction(e)||e instanceof RegExp?i[t]=e:(i[t]||(i[t]={}),mixin(i[t],e,r,n)))}),i}function bind(e,t){return function(){return t.apply(e,arguments)}}function scripts(){return document.getElementsByTagName(\"script\")}function defaultOnError(e){throw e}function getGlobal(e){if(!e)return e;var t=global;return each(e.split(\".\"),function(e){t=t[e]}),t}function makeError(e,t,i,r){var n=new Error(t+\"\\nhttps://requirejs.org/docs/errors.html#\"+e);return n.requireType=e,n.requireModules=r,i&&(n.originalError=i),n}if(void 0===define){if(void 0!==requirejs){if(isFunction(requirejs))return;cfg=requirejs,requirejs=void 0}void 0===require||isFunction(require)||(cfg=require,require=void 0),req=requirejs=function(e,t,i,r){var n,o,a=defContextName;return isArray(e)||\"string\"==typeof e||(o=e,isArray(t)?(e=t,t=i,i=r):e=[]),o&&o.context&&(a=o.context),(n=getOwn(contexts,a))||(n=contexts[a]=req.s.newContext(a)),o&&n.configure(o),n.require(e,t,i)},req.config=function(e){return req(e)},req.nextTick=void 0!==setTimeout?function(e){setTimeout(e,4)}:function(e){e()},require||(require=req),req.version=version,req.jsExtRegExp=/^\\/|:|\\?|\\.js$/,req.isBrowser=isBrowser,s=req.s={contexts:contexts,newContext:newContext},req({}),each([\"toUrl\",\"undef\",\"defined\",\"specified\"],function(t){req[t]=function(){var e=contexts[defContextName];return e.require[t].apply(e,arguments)}}),isBrowser&&(head=s.head=document.getElementsByTagName(\"head\")[0],baseElement=document.getElementsByTagName(\"base\")[0],baseElement&&(head=s.head=baseElement.parentNode)),req.onError=defaultOnError,req.createNode=function(e,t,i){var r=e.xhtml?document.createElementNS(\"http://www.w3.org/1999/xhtml\",\"html:script\"):document.createElement(\"script\");return r.type=e.scriptType||\"text/javascript\",r.charset=\"utf-8\",r.async=!0,r},req.load=function(t,i,r){var e,n=t&&t.config||{};if(isBrowser)return(e=req.createNode(n,i,r)).setAttribute(\"data-requirecontext\",t.contextName),e.setAttribute(\"data-requiremodule\",i),!e.attachEvent||e.attachEvent.toString&&e.attachEvent.toString().indexOf(\"[native code\")<0||isOpera?(e.addEventListener(\"load\",t.onScriptLoad,!1),e.addEventListener(\"error\",t.onScriptError,!1)):(useInteractive=!0,e.attachEvent(\"onreadystatechange\",t.onScriptLoad)),e.src=r,n.onNodeCreated&&n.onNodeCreated(e,n,i,r),currentlyAddingScript=e,baseElement?head.insertBefore(e,baseElement):head.appendChild(e),currentlyAddingScript=null,e;if(isWebWorker)try{setTimeout(function(){},0),importScripts(r),t.completeLoad(i)}catch(e){t.onError(makeError(\"importscripts\",\"importScripts failed for \"+i+\" at \"+r,e,[i]))}},isBrowser&&!cfg.skipDataMain&&eachReverse(scripts(),function(e){if(head||(head=e.parentNode),dataMain=e.getAttribute(\"data-main\"))return mainScript=dataMain,cfg.baseUrl||-1!==mainScript.indexOf(\"!\")||(mainScript=(src=mainScript.split(\"/\")).pop(),subPath=src.length?src.join(\"/\")+\"/\":\"./\",cfg.baseUrl=subPath),mainScript=mainScript.replace(jsSuffixRegExp,\"\"),req.jsExtRegExp.test(mainScript)&&(mainScript=dataMain),cfg.deps=cfg.deps?cfg.deps.concat(mainScript):[mainScript],!0}),define=function(e,i,t){var r,n;\"string\"!=typeof e&&(t=i,i=e,e=null),isArray(i)||(t=i,i=null),!i&&isFunction(t)&&(i=[],t.length&&(t.toString().replace(commentRegExp,commentReplace).replace(cjsRequireRegExp,function(e,t){i.push(t)}),i=(1===t.length?[\"require\"]:[\"require\",\"exports\",\"module\"]).concat(i))),useInteractive&&(r=currentlyAddingScript||getInteractiveScript())&&(e||(e=r.getAttribute(\"data-requiremodule\")),n=contexts[r.getAttribute(\"data-requirecontext\")]),n?(n.defQueue.push([e,i,t]),n.defQueueMap[e]=!0):globalDefQueue.push([e,i,t])},define.amd={jQuery:!0},req.exec=function(text){return eval(text)},req(cfg)}function newContext(u){var i,e,l,c,d,g={waitSeconds:7,baseUrl:\"./\",paths:{},bundles:{},pkgs:{},shim:{},config:{}},p={},f={},r={},h=[],m={},n={},v={},x=1,b=1;function q(e,t,i){var r,n,o,a,s,u,c,d,p,f,l=t&&t.split(\"/\"),h=g.map,m=h&&h[\"*\"];if(e&&(u=(e=e.split(\"/\")).length-1,g.nodeIdCompat&&jsSuffixRegExp.test(e[u])&&(e[u]=e[u].replace(jsSuffixRegExp,\"\")),\".\"===e[0].charAt(0)&&l&&(e=l.slice(0,l.length-1).concat(e)),function(e){var t,i;for(t=0;t<e.length;t++)if(\".\"===(i=e[t]))e.splice(t,1),t-=1;else if(\"..\"===i){if(0===t||1===t&&\"..\"===e[2]||\"..\"===e[t-1])continue;0<t&&(e.splice(t-1,2),t-=2)}}(e),e=e.join(\"/\")),i&&h&&(l||m)){e:for(o=(n=e.split(\"/\")).length;0<o;o-=1){if(s=n.slice(0,o).join(\"/\"),l)for(a=l.length;0<a;a-=1)if((r=getOwn(h,l.slice(0,a).join(\"/\")))&&(r=getOwn(r,s))){c=r,d=o;break e}!p&&m&&getOwn(m,s)&&(p=getOwn(m,s),f=o)}!c&&p&&(c=p,d=f),c&&(n.splice(0,d,c),e=n.join(\"/\"))}return getOwn(g.pkgs,e)||e}function E(t){isBrowser&&each(scripts(),function(e){if(e.getAttribute(\"data-requiremodule\")===t&&e.getAttribute(\"data-requirecontext\")===l.contextName)return e.parentNode.removeChild(e),!0})}function w(e){var t=getOwn(g.paths,e);if(t&&isArray(t)&&1<t.length)return t.shift(),l.require.undef(e),l.makeRequire(null,{skipMap:!0})([e]),!0}function y(e){var t,i=e?e.indexOf(\"!\"):-1;return-1<i&&(t=e.substring(0,i),e=e.substring(i+1,e.length)),[t,e]}function S(e,t,i,r){var n,o,a,s,u=null,c=t?t.name:null,d=e,p=!0,f=\"\";return e||(p=!1,e=\"_@r\"+(x+=1)),u=(s=y(e))[0],e=s[1],u&&(u=q(u,c,r),o=getOwn(m,u)),e&&(u?f=i?e:o&&o.normalize?o.normalize(e,function(e){return q(e,c,r)}):-1===e.indexOf(\"!\")?q(e,c,r):e:(u=(s=y(f=q(e,c,r)))[0],f=s[1],i=!0,n=l.nameToUrl(f))),{prefix:u,name:f,parentMap:t,unnormalized:!!(a=!u||o||i?\"\":\"_unnormalized\"+(b+=1)),url:n,originalName:d,isDefine:p,id:(u?u+\"!\"+f:f)+a}}function k(e){var t=e.id,i=getOwn(p,t);return i||(i=p[t]=new l.Module(e)),i}function M(e,t,i){var r=e.id,n=getOwn(p,r);!hasProp(m,r)||n&&!n.defineEmitComplete?(n=k(e)).error&&\"error\"===t?i(n.error):n.on(t,i):\"defined\"===t&&i(m[r])}function O(i,e){var t=i.requireModules,r=!1;e?e(i):(each(t,function(e){var t=getOwn(p,e);t&&(t.error=i,t.events.error&&(r=!0,t.emit(\"error\",i)))}),r||req.onError(i))}function j(){globalDefQueue.length&&(each(globalDefQueue,function(e){var t=e[0];\"string\"==typeof t&&(l.defQueueMap[t]=!0),h.push(e)}),globalDefQueue=[])}function P(e){delete p[e],delete f[e]}function R(){var e,r,t=1e3*g.waitSeconds,n=t&&l.startTime+t<(new Date).getTime(),o=[],a=[],s=!1,u=!0;if(!i){if(i=!0,eachProp(f,function(e){var t=e.map,i=t.id;if(e.enabled&&(t.isDefine||a.push(e),!e.error))if(!e.inited&&n)w(i)?s=r=!0:(o.push(i),E(i));else if(!e.inited&&e.fetched&&t.isDefine&&(s=!0,!t.prefix))return u=!1}),n&&o.length)return(e=makeError(\"timeout\",\"Load timeout for modules: \"+o,null,o)).contextName=l.contextName,O(e);u&&each(a,function(e){!function n(o,a,s){var e=o.map.id;o.error?o.emit(\"error\",o.error):(a[e]=!0,each(o.depMaps,function(e,t){var i=e.id,r=getOwn(p,i);!r||o.depMatched[t]||s[i]||(getOwn(a,i)?(o.defineDep(t,m[i]),o.check()):n(r,a,s))}),s[e]=!0)}(e,{},{})}),n&&!r||!s||!isBrowser&&!isWebWorker||d||(d=setTimeout(function(){d=0,R()},50)),i=!1}}function a(e){hasProp(m,e[0])||k(S(e[0],null,!0)).init(e[1],e[2])}function o(e,t,i,r){e.detachEvent&&!isOpera?r&&e.detachEvent(r,t):e.removeEventListener(i,t,!1)}function s(e){var t=e.currentTarget||e.srcElement;return o(t,l.onScriptLoad,\"load\",\"onreadystatechange\"),o(t,l.onScriptError,\"error\"),{node:t,id:t&&t.getAttribute(\"data-requiremodule\")}}function T(){var e;for(j();h.length;){if(null===(e=h.shift())[0])return O(makeError(\"mismatch\",\"Mismatched anonymous define() module: \"+e[e.length-1]));a(e)}l.defQueueMap={}}return c={require:function(e){return e.require?e.require:e.require=l.makeRequire(e.map)},exports:function(e){if(e.usingExports=!0,e.map.isDefine)return e.exports?m[e.map.id]=e.exports:e.exports=m[e.map.id]={}},module:function(e){return e.module?e.module:e.module={id:e.map.id,uri:e.map.url,config:function(){return getOwn(g.config,e.map.id)||{}},exports:e.exports||(e.exports={})}}},(e=function(e){this.events=getOwn(r,e.id)||{},this.map=e,this.shim=getOwn(g.shim,e.id),this.depExports=[],this.depMaps=[],this.depMatched=[],this.pluginMaps={},this.depCount=0}).prototype={init:function(e,t,i,r){r=r||{},this.inited||(this.factory=t,i?this.on(\"error\",i):this.events.error&&(i=bind(this,function(e){this.emit(\"error\",e)})),this.depMaps=e&&e.slice(0),this.errback=i,this.inited=!0,this.ignore=r.ignore,r.enabled||this.enabled?this.enable():this.check())},defineDep:function(e,t){this.depMatched[e]||(this.depMatched[e]=!0,this.depCount-=1,this.depExports[e]=t)},fetch:function(){if(!this.fetched){this.fetched=!0,l.startTime=(new Date).getTime();var e=this.map;if(!this.shim)return e.prefix?this.callPlugin():this.load();l.makeRequire(this.map,{enableBuildCallback:!0})(this.shim.deps||[],bind(this,function(){return e.prefix?this.callPlugin():this.load()}))}},load:function(){var e=this.map.url;n[e]||(n[e]=!0,l.load(this.map.id,e))},check:function(){if(this.enabled&&!this.enabling){var t,e,i=this.map.id,r=this.depExports,n=this.exports,o=this.factory;if(this.inited){if(this.error)this.emit(\"error\",this.error);else if(!this.defining){if(this.defining=!0,this.depCount<1&&!this.defined){if(isFunction(o)){if(this.events.error&&this.map.isDefine||req.onError!==defaultOnError)try{n=l.execCb(i,o,r,n)}catch(e){t=e}else n=l.execCb(i,o,r,n);if(this.map.isDefine&&void 0===n&&((e=this.module)?n=e.exports:this.usingExports&&(n=this.exports)),t)return t.requireMap=this.map,t.requireModules=this.map.isDefine?[this.map.id]:null,t.requireType=this.map.isDefine?\"define\":\"require\",O(this.error=t)}else n=o;if(this.exports=n,this.map.isDefine&&!this.ignore&&(m[i]=n,req.onResourceLoad)){var a=[];each(this.depMaps,function(e){a.push(e.normalizedMap||e)}),req.onResourceLoad(l,this.map,a)}P(i),this.defined=!0}this.defining=!1,this.defined&&!this.defineEmitted&&(this.defineEmitted=!0,this.emit(\"defined\",this.exports),this.defineEmitComplete=!0)}}else hasProp(l.defQueueMap,i)||this.fetch()}},callPlugin:function(){var u=this.map,c=u.id,e=S(u.prefix);this.depMaps.push(e),M(e,\"defined\",bind(this,function(e){var o,t,i,r=getOwn(v,this.map.id),n=this.map.name,a=this.map.parentMap?this.map.parentMap.name:null,s=l.makeRequire(u.parentMap,{enableBuildCallback:!0});return this.map.unnormalized?(e.normalize&&(n=e.normalize(n,function(e){return q(e,a,!0)})||\"\"),M(t=S(u.prefix+\"!\"+n,this.map.parentMap,!0),\"defined\",bind(this,function(e){this.map.normalizedMap=t,this.init([],function(){return e},null,{enabled:!0,ignore:!0})})),void((i=getOwn(p,t.id))&&(this.depMaps.push(t),this.events.error&&i.on(\"error\",bind(this,function(e){this.emit(\"error\",e)})),i.enable()))):r?(this.map.url=l.nameToUrl(r),void this.load()):((o=bind(this,function(e){this.init([],function(){return e},null,{enabled:!0})})).error=bind(this,function(e){this.inited=!0,(this.error=e).requireModules=[c],eachProp(p,function(e){0===e.map.id.indexOf(c+\"_unnormalized\")&&P(e.map.id)}),O(e)}),o.fromText=bind(this,function(e,t){var i=u.name,r=S(i),n=useInteractive;t&&(e=t),n&&(useInteractive=!1),k(r),hasProp(g.config,c)&&(g.config[i]=g.config[c]);try{req.exec(e)}catch(e){return O(makeError(\"fromtexteval\",\"fromText eval for \"+c+\" failed: \"+e,e,[c]))}n&&(useInteractive=!0),this.depMaps.push(r),l.completeLoad(i),s([i],o)}),void e.load(u.name,s,o,g))})),l.enable(e,this),this.pluginMaps[e.id]=e},enable:function(){(f[this.map.id]=this).enabled=!0,this.enabling=!0,each(this.depMaps,bind(this,function(e,t){var i,r,n;if(\"string\"==typeof e){if(e=S(e,this.map.isDefine?this.map:this.map.parentMap,!1,!this.skipMap),this.depMaps[t]=e,n=getOwn(c,e.id))return void(this.depExports[t]=n(this));this.depCount+=1,M(e,\"defined\",bind(this,function(e){this.undefed||(this.defineDep(t,e),this.check())})),this.errback?M(e,\"error\",bind(this,this.errback)):this.events.error&&M(e,\"error\",bind(this,function(e){this.emit(\"error\",e)}))}i=e.id,r=p[i],hasProp(c,i)||!r||r.enabled||l.enable(e,this)})),eachProp(this.pluginMaps,bind(this,function(e){var t=getOwn(p,e.id);t&&!t.enabled&&l.enable(e,this)})),this.enabling=!1,this.check()},on:function(e,t){var i=this.events[e];i||(i=this.events[e]=[]),i.push(t)},emit:function(e,t){each(this.events[e],function(e){e(t)}),\"error\"===e&&delete this.events[e]}},(l={config:g,contextName:u,registry:p,defined:m,urlFetched:n,defQueue:h,defQueueMap:{},Module:e,makeModuleMap:S,nextTick:req.nextTick,onError:O,configure:function(e){if(e.baseUrl&&\"/\"!==e.baseUrl.charAt(e.baseUrl.length-1)&&(e.baseUrl+=\"/\"),\"string\"==typeof e.urlArgs){var i=e.urlArgs;e.urlArgs=function(e,t){return(-1===t.indexOf(\"?\")?\"?\":\"&\")+i}}var r=g.shim,n={paths:!0,bundles:!0,config:!0,map:!0};eachProp(e,function(e,t){n[t]?(g[t]||(g[t]={}),mixin(g[t],e,!0,!0)):g[t]=e}),e.bundles&&eachProp(e.bundles,function(e,t){each(e,function(e){e!==t&&(v[e]=t)})}),e.shim&&(eachProp(e.shim,function(e,t){isArray(e)&&(e={deps:e}),!e.exports&&!e.init||e.exportsFn||(e.exportsFn=l.makeShimExports(e)),r[t]=e}),g.shim=r),e.packages&&each(e.packages,function(e){var t;t=(e=\"string\"==typeof e?{name:e}:e).name,e.location&&(g.paths[t]=e.location),g.pkgs[t]=e.name+\"/\"+(e.main||\"main\").replace(currDirRegExp,\"\").replace(jsSuffixRegExp,\"\")}),eachProp(p,function(e,t){e.inited||e.map.unnormalized||(e.map=S(t,null,!0))}),(e.deps||e.callback)&&l.require(e.deps||[],e.callback)},makeShimExports:function(t){return function(){var e;return t.init&&(e=t.init.apply(global,arguments)),e||t.exports&&getGlobal(t.exports)}},makeRequire:function(o,a){function s(e,t,i){var r,n;return a.enableBuildCallback&&t&&isFunction(t)&&(t.__requireJsBuild=!0),\"string\"==typeof e?isFunction(t)?O(makeError(\"requireargs\",\"Invalid require call\"),i):o&&hasProp(c,e)?c[e](p[o.id]):req.get?req.get(l,e,o,s):(r=S(e,o,!1,!0).id,hasProp(m,r)?m[r]:O(makeError(\"notloaded\",'Module name \"'+r+'\" has not been loaded yet for context: '+u+(o?\"\":\". Use require([])\")))):(T(),l.nextTick(function(){T(),(n=k(S(null,o))).skipMap=a.skipMap,n.init(e,t,i,{enabled:!0}),R()}),s)}return a=a||{},mixin(s,{isBrowser:isBrowser,toUrl:function(e){var t,i=e.lastIndexOf(\".\"),r=e.split(\"/\")[0];return-1!==i&&(!(\".\"===r||\"..\"===r)||1<i)&&(t=e.substring(i,e.length),e=e.substring(0,i)),l.nameToUrl(q(e,o&&o.id,!0),t,!0)},defined:function(e){return hasProp(m,S(e,o,!1,!0).id)},specified:function(e){return e=S(e,o,!1,!0).id,hasProp(m,e)||hasProp(p,e)}}),o||(s.undef=function(i){j();var e=S(i,o,!0),t=getOwn(p,i);t.undefed=!0,E(i),delete m[i],delete n[e.url],delete r[i],eachReverse(h,function(e,t){e[0]===i&&h.splice(t,1)}),delete l.defQueueMap[i],t&&(t.events.defined&&(r[i]=t.events),P(i))}),s},enable:function(e){getOwn(p,e.id)&&k(e).enable()},completeLoad:function(e){var t,i,r,n=getOwn(g.shim,e)||{},o=n.exports;for(j();h.length;){if(null===(i=h.shift())[0]){if(i[0]=e,t)break;t=!0}else i[0]===e&&(t=!0);a(i)}if(l.defQueueMap={},r=getOwn(p,e),!t&&!hasProp(m,e)&&r&&!r.inited){if(!(!g.enforceDefine||o&&getGlobal(o)))return w(e)?void 0:O(makeError(\"nodefine\",\"No define call for \"+e,null,[e]));a([e,n.deps||[],n.exportsFn])}R()},nameToUrl:function(e,t,i){var r,n,o,a,s,u,c=getOwn(g.pkgs,e);if(c&&(e=c),u=getOwn(v,e))return l.nameToUrl(u,t,i);if(req.jsExtRegExp.test(e))a=e+(t||\"\");else{for(r=g.paths,o=(n=e.split(\"/\")).length;0<o;o-=1)if(s=getOwn(r,n.slice(0,o).join(\"/\"))){isArray(s)&&(s=s[0]),n.splice(0,o,s);break}a=n.join(\"/\"),a=(\"/\"===(a+=t||(/^data\\:|^blob\\:|\\?/.test(a)||i?\"\":\".js\")).charAt(0)||a.match(/^[\\w\\+\\.\\-]+:/)?\"\":g.baseUrl)+a}return g.urlArgs&&!/^blob\\:/.test(a)?a+g.urlArgs(e,a):a},load:function(e,t){req.load(l,e,t)},execCb:function(e,t,i,r){return t.apply(r,i)},onScriptLoad:function(e){if(\"load\"===e.type||readyRegExp.test((e.currentTarget||e.srcElement).readyState)){interactiveScript=null;var t=s(e);l.completeLoad(t.id)}},onScriptError:function(e){var i=s(e);if(!w(i.id)){var r=[];return eachProp(p,function(e,t){0!==t.indexOf(\"_@r\")&&each(e.depMaps,function(e){if(e.id===i.id)return r.push(t),!0})}),O(makeError(\"scripterror\",'Script error for \"'+i.id+(r.length?'\", needed by: '+r.join(\", \"):'\"'),e,[i.id]))}}}).require=l.makeRequire(),l}function getInteractiveScript(){return interactiveScript&&\"interactive\"===interactiveScript.readyState||eachReverse(scripts(),function(e){if(\"interactive\"===e.readyState)return interactiveScript=e}),interactiveScript}}(this,\"undefined\"==typeof setTimeout?void 0:setTimeout); </script>\n",
       "<script>\n",
       " require.config({\n",
       "   paths: {\n",
       "     'plotly': \"https://cdn.plot.ly/plotly-latest.min\",\n",
       "     'macy': \"https://cdn.jsdelivr.net/npm/macy@2.5.1/dist/macy.min\"\n",
       "   },\n",
       " })\n",
       "require( ['plotly', 'macy'], function(Plotly, Macy) {\n",
       " window.Plotly = Plotly;\n",
       " window.Macy = Macy;\n",
       "})\n",
       "</script>\n"
      ]
     },
     "metadata": {},
     "output_type": "display_data"
    },
    {
     "data": {
      "text/plain": [
       "\u001b[32mimport \u001b[39m\u001b[36morg.carbonateresearch. picta.charts.Html.initNotebook // required to initialize jupyter notebook mode\n",
       "\u001b[39m"
      ]
     },
     "execution_count": 3,
     "metadata": {},
     "output_type": "execute_result"
    }
   ],
   "source": [
    "import org.carbonateresearch. picta.charts.Html.initNotebook // required to initialize jupyter notebook mode\n",
    "initNotebook() // stops ugly output"
   ]
  },
  {
   "cell_type": "markdown",
   "metadata": {},
   "source": [
    "# 1. Basics\n",
    "\n",
    "The aim of the Picta library is to be a highly configurable and composable charting library for data exploration. The library takes a grammatical approach to chart construction. \n",
    "\n",
    "The following examples are aimed at demonstrating the libraries capabilities, and eventually make constructing charts using this library easy and intuitive."
   ]
  },
  {
   "cell_type": "markdown",
   "metadata": {},
   "source": [
    "### Main Components\n",
    "\n",
    "Picta graphs are constructed in a modular manner. The main components are:\n",
    "\n",
    "1. `Series`\n",
    "2. `Layout`\n",
    "3. `Chart`\n",
    "4. `Canvas`\n",
    "\n",
    "Charts may occassionally also make use of the `Config` component for further configuration, but the defaults are generally enough."
   ]
  },
  {
   "cell_type": "markdown",
   "metadata": {},
   "source": [
    "#### Series\n",
    "\n",
    "A `Series` is basically the data that the plot will utilise. `Series` comes in different forms:\n",
    "\n",
    "- **XY**:   This is series data for constructing a 2D chart\n",
    "- **XYZ**:  This is series data for constructing a 3D chart\n",
    "- **Map**:  This is series data that constructs a Map chart"
   ]
  },
  {
   "cell_type": "markdown",
   "metadata": {},
   "source": [
    "#### Scatter Charts and Line Charts"
   ]
  },
  {
   "cell_type": "code",
   "execution_count": 6,
   "metadata": {},
   "outputs": [],
   "source": [
    "// lets create some dummy data for x and y variables\n",
    "val x = List.range(1, 50)\n",
    "val y = x.map(x => x + scala.util.Random.nextDouble()*100)"
   ]
  },
  {
   "cell_type": "code",
   "execution_count": 7,
   "metadata": {},
   "outputs": [],
   "source": [
    "import picta.series.XY\n",
    "import picta.series.XYChart._\n",
    "import picta.series.Mode._\n",
    "import picta.common.OptionWrapper._\n",
    "\n",
    "// the two data series are then wrapped inside \n",
    "val data = XY(x, y, series_name=\"test\", series_type=SCATTER, series_mode=MARKERS)"
   ]
  },
  {
   "cell_type": "code",
   "execution_count": 8,
   "metadata": {},
   "outputs": [],
   "source": [
    "import picta.options.{Layout, Config}\n",
    "\n",
    "// The layout is a composable object which determines how the chart is displayed\n",
    "val layout = Layout(title=\"Chart\")\n",
    "// the configuration option allows us to set whether the chart is responsible and zoomable using scroll\n",
    "val config = Config(responsive=false, scrollZoom=true)"
   ]
  },
  {
   "cell_type": "markdown",
   "metadata": {},
   "source": [
    "Picta's grammar is implemented as DSL. Using the set commands, the various options for a chart may be specified:"
   ]
  },
  {
   "cell_type": "code",
   "execution_count": 9,
   "metadata": {},
   "outputs": [
    {
     "data": {
      "text/html": [
       "\n",
       "<div align=\"center\">\n",
       "<div id='graph_6840e0f74173c8' class='graph'></div>\n",
       "</div>\n",
       "<script>\n",
       " var traces_6840e0f74173c8 = [{\"name\":\"test\",\"type\":\"scatter\",\"mode\":\"markers\",\"x\":[1,2,3,4,5,6,7,8,9,10,11,12,13,14,15,16,17,18,19,20,21,22,23,24,25,26,27,28,29,30,31,32,33,34,35,36,37,38,39,40,41,42,43,44,45,46,47,48,49],\"y\":[75.03221743667179,39.8020598799443,8.48300244133536,40.40071383335878,24.22522789029413,46.56142697546291,54.55883968890669,29.25658299777713,105.81768739898618,102.47720192924804,27.42001164978968,103.52456848235892,66.99816882569428,96.3391391222279,16.73904620787628,23.205590069471036,29.00860906523141,20.52510848589469,68.07796592724176,117.03351505872352,26.83387229889759,37.41720774979015,25.57565985778111,38.10164394367788,97.51771823577094,35.2348583124522,70.88896458854319,35.5495358839559,69.31773349994086,119.66244174665069,54.59405454372012,33.07252362348048,33.3062612433799,124.07482295445648,90.96191124372947,99.25451630044293,124.04392149741142,98.2148894510336,127.35354206191424,79.5879892175563,96.59683053230657,52.85301715825434,105.43772922335354,135.53332566548545,63.438193961633374,96.25914397972774,103.0161039423212,102.08297288315094,146.66942394455475]}];\n",
       " var layout_6840e0f74173c8 = {\"height\":550,\"width\":600,\"title\":{\"text\":\"Chart\"},\"showlegend\":false};\n",
       " var config_6840e0f74173c8 = {\"responsive\":false,\"scrollZoom\":true,\"displaylogo\":false};\n",
       " Plotly.newPlot(\"graph_6840e0f74173c8\", traces_6840e0f74173c8, layout_6840e0f74173c8, config_6840e0f74173c8);\n",
       "</script>\n"
      ]
     },
     "metadata": {},
     "output_type": "display_data"
    }
   ],
   "source": [
    "import picta.charts.Chart\n",
    "\n",
    "val chart = Chart() setData data setLayout layout setConfig config\n",
    "\n",
    "chart.plot_inline()"
   ]
  },
  {
   "cell_type": "markdown",
   "metadata": {},
   "source": [
    "#### Adding Additional Traces to a Chart\n",
    "\n",
    "We can compose an existing chart with more data series using the same composition technique as shown above for other components:"
   ]
  },
  {
   "cell_type": "code",
   "execution_count": 10,
   "metadata": {},
   "outputs": [
    {
     "data": {
      "text/html": [
       "\n",
       "<div align=\"center\">\n",
       "<div id='graph_585c41a4aca859' class='graph'></div>\n",
       "</div>\n",
       "<script>\n",
       " var traces_585c41a4aca859 = [{\"name\":\"data1\",\"type\":\"bar\",\"x\":[1,2,3,4,5,6,7,8,9,10,11,12,13,14,15,16,17,18,19,20,21,22,23,24,25,26,27,28,29,30,31,32,33,34,35,36,37,38,39,40,41,42,43,44,45,46,47,48,49],\"y\":[122.2761345861365,71.24941541654232,88.51714354246083,95.9162231537809,119.30141572816487,66.0558653185027,141.09590468166488,118.45047390121066,136.57753836180555,138.35284877227042,84.89414110932427,118.55015181479969,151.95204405193098,158.22163203875505,100.57747227957307,44.25747889328507,128.25370723445957,40.659423385947655,111.59658565477626,154.47302567235423,76.36804697587313,79.28880606555917,57.33590485327093,97.7030950429992,154.48853856293593,88.38188402458248,124.95084368338293,95.78011684937053,120.4930478927318,123.51774124633,138.97192481266745,76.40984565687782,107.71520659149664,149.82459907278727,164.19954583907747,125.15691616471638,203.9508602618135,131.64095377695332,190.10829109387464,160.48814704684514,179.35995391020776,128.5626984575741,133.9251775540155,174.75078278298378,130.9946012270379,100.22608747334353,124.74137996931297,129.47070326259572,190.0043318755308]},{\"name\":\"test\",\"type\":\"scatter\",\"mode\":\"markers\",\"x\":[1,2,3,4,5,6,7,8,9,10,11,12,13,14,15,16,17,18,19,20,21,22,23,24,25,26,27,28,29,30,31,32,33,34,35,36,37,38,39,40,41,42,43,44,45,46,47,48,49],\"y\":[75.03221743667179,39.8020598799443,8.48300244133536,40.40071383335878,24.22522789029413,46.56142697546291,54.55883968890669,29.25658299777713,105.81768739898618,102.47720192924804,27.42001164978968,103.52456848235892,66.99816882569428,96.3391391222279,16.73904620787628,23.205590069471036,29.00860906523141,20.52510848589469,68.07796592724176,117.03351505872352,26.83387229889759,37.41720774979015,25.57565985778111,38.10164394367788,97.51771823577094,35.2348583124522,70.88896458854319,35.5495358839559,69.31773349994086,119.66244174665069,54.59405454372012,33.07252362348048,33.3062612433799,124.07482295445648,90.96191124372947,99.25451630044293,124.04392149741142,98.2148894510336,127.35354206191424,79.5879892175563,96.59683053230657,52.85301715825434,105.43772922335354,135.53332566548545,63.438193961633374,96.25914397972774,103.0161039423212,102.08297288315094,146.66942394455475]}];\n",
       " var layout_585c41a4aca859 = {\"height\":550,\"width\":600,\"title\":{\"text\":\"Chart\"},\"showlegend\":false};\n",
       " var config_585c41a4aca859 = {\"responsive\":false,\"scrollZoom\":true,\"displaylogo\":false};\n",
       " Plotly.newPlot(\"graph_585c41a4aca859\", traces_585c41a4aca859, layout_585c41a4aca859, config_585c41a4aca859);\n",
       "</script>\n"
      ]
     },
     "metadata": {},
     "output_type": "display_data"
    }
   ],
   "source": [
    "// additional traces can simply be composed with an existing chart and added on\n",
    "val data1 = XY(x, y.map(x => x + scala.util.Random.nextDouble()*100), series_name=\"data1\", series_type=BAR)\n",
    "\n",
    "val chart1 = chart setData data1\n",
    "chart1.plot_inline()"
   ]
  },
  {
   "cell_type": "markdown",
   "metadata": {},
   "source": [
    "#### Pie Chart"
   ]
  },
  {
   "cell_type": "code",
   "execution_count": 11,
   "metadata": {},
   "outputs": [
    {
     "data": {
      "text/html": [
       "\n",
       "<div align=\"center\">\n",
       "<div id='graph_376459d73c34f1' class='graph'></div>\n",
       "</div>\n",
       "<script>\n",
       " var traces_376459d73c34f1 = [{\"name\":\"d8fb192\",\"type\":\"pie\",\"values\":[19,26,55],\"labels\":[\"Residential\",\"Non-Residential\",\"Utility\"]}];\n",
       " var layout_376459d73c34f1 = {\"height\":550,\"width\":600,\"title\":{\"text\":\"Pie Chart\"},\"showlegend\":false};\n",
       " var config_376459d73c34f1 = {\"responsive\":false,\"scrollZoom\":true,\"displaylogo\":false};\n",
       " Plotly.newPlot(\"graph_376459d73c34f1\", traces_376459d73c34f1, layout_376459d73c34f1, config_376459d73c34f1);\n",
       "</script>\n"
      ]
     },
     "metadata": {},
     "output_type": "display_data"
    }
   ],
   "source": [
    "// pie charts can be composed in a similar way:\n",
    "val data = XY(List(19, 26, 55), List(\"Residential\", \"Non-Residential\", \"Utility\"), series_type=PIE)\n",
    "\n",
    "val layout = Layout(\"Pie Chart\")\n",
    "\n",
    "val chart = Chart() setData data setLayout layout setConfig config\n",
    "\n",
    "chart.plot_inline()"
   ]
  },
  {
   "cell_type": "markdown",
   "metadata": {},
   "source": [
    "#### Setting Axes\n",
    "\n",
    "For all charts, each axis can be composed invidiually. The following is an example for a `Histogram` chart:"
   ]
  },
  {
   "cell_type": "code",
   "execution_count": 12,
   "metadata": {},
   "outputs": [],
   "source": [
    "val x = List.range(1, 1000).map(_+scala.util.Random.nextDouble()*1000)\n",
    "\n",
    "val data = XY(x=x, series_type=HISTOGRAM)"
   ]
  },
  {
   "cell_type": "code",
   "execution_count": 13,
   "metadata": {},
   "outputs": [
    {
     "data": {
      "text/html": [
       "\n",
       "<div align=\"center\">\n",
       "<div id='graph_1472d26e7faef2' class='graph'></div>\n",
       "</div>\n",
       "<script>\n",
       " var traces_1472d26e7faef2 = [{\"name\":\"94d8c49\",\"type\":\"histogram\",\"x\":[486.6530109655587,302.15082969761886,133.79252299661593,640.2436580605998,855.4132034596737,92.02698349142224,416.2126649698956,976.0324784204901,283.91606587106855,619.5498118023131,686.2111724931685,416.8770907914263,95.83901336209476,640.4020280069324,479.20037723073625,240.95437066588497,920.9275429507469,313.8297556838836,731.5485243611137,225.08051313384922,135.96037238147892,312.73280261999855,608.3730727573468,651.2766377389905,799.2575234665396,224.97356509014963,429.3229438102094,454.238589853797,95.48514728854671,895.7154083929117,438.10811113890475,954.9323200361343,804.5815987278975,52.984420091844754,361.7295254657364,146.04324907519947,461.94959833753734,157.28051104453084,61.8084019401974,421.76641287690916,686.6295388534887,920.947464395,93.10844055644347,977.4316630009776,619.9893698232755,354.14369422524726,653.29085246932,843.7161464510908,539.5367140315795,511.63884081604823,233.13625167608637,665.7041061892428,490.7792167251989,338.2936036773797,257.91365541421845,888.8118659059076,214.6296328899651,140.96342323238605,148.2717990793477,971.6034355095384,738.6721186561404,250.6994112703162,522.9733516192498,609.7803320669472,747.676802398854,381.5023586278466,715.987640349443,726.1371051642204,252.06973245997037,1040.5188932064357,386.90348616674015,158.03100041257437,132.63616215887936,99.45171539175495,766.3183270232337,556.9233491411021,855.5546335102155,298.0879435819679,996.8055322643972,1003.8069572341107,1023.9303943551889,1018.2335377555349,105.25701410121495,239.8421539098157,460.3164386147918,139.97339129353173,373.84367013555556,213.281718802165,199.2812355699162,172.06050566799252,264.53123154278046,851.7730039053043,109.90219352374257,134.36982971580005,596.0346542066575,583.3830136778206,865.1342183938549,862.7353882345323,372.28951483981035,150.20023867773526,628.3232148026664,505.1221408765172,517.9638267977258,685.124895550097,136.70485727093032,982.9667358905959,789.229731219564,855.467043127349,827.5485828042115,1102.65444590606,296.95874257822834,116.22937379361876,274.67787787964295,819.4817535654165,404.7007613170205,761.4601390493356,481.41764686367515,880.087498763892,245.25146944467292,513.8188569738468,510.5903033194036,699.2180607766999,737.3083505159082,850.5053425904821,523.001776703987,862.8248154348512,777.6610524340736,1127.9606784501889,542.9299889553522,1091.8749754385217,234.55681215030543,838.2562123048772,172.44738589998943,849.8896822574874,474.3271690767229,1006.8448875456357,1035.9807842680307,1032.1062135875677,416.05749362360433,824.3564515993165,952.33094567503,335.2937006558392,528.0261424274474,1094.3766275873068,703.4453845702786,974.6347982721952,754.8353672617533,974.6574334389231,797.5576498013335,387.71837863751796,1095.6011224897425,790.9642321324832,808.8773862138495,445.57152591706426,441.26517104762917,410.77232321691554,716.834635141681,476.7910000241944,323.0368199610003,778.284487344386,164.95364540102062,1103.218521015293,424.16806617268594,732.7477280747817,712.7502025370251,484.235812390774,1063.7108637835495,1158.8061396782114,963.6181636510478,1071.638668667338,373.6001843986659,850.634266620403,917.4902629525391,388.1822787694231,559.3525613104927,210.85288077484296,1019.1289055105444,660.2725079726258,459.86439724396814,1050.7375014204488,1151.2232524210476,358.9109200046681,603.2402906554489,309.98729850468817,256.03858529312276,832.8837855750629,1093.2763596124962,472.3300843222035,360.1847630480811,254.3187237837267,955.1691757531216,817.4967354864124,524.1408507891156,1039.1147382783888,1019.216390847577,420.6066091352084,641.4929920564721,753.3848483939734,1027.7198341155422,986.7624918689561,1072.4131167975547,271.93271381443924,412.99804466309854,1191.662565620264,811.7266361143414,615.9181725486013,1113.3596615463925,1188.2936042742508,263.9870219358103,464.2488037995047,869.0849830885206,335.27825601682895,726.2960274505913,806.8677099050266,671.9080323941301,1004.2064067210208,364.1782160644784,587.9905375461097,429.1870729351316,531.2892096173847,806.6391166500116,473.47747687000066,447.8962910104425,992.9311426799899,483.6062953207348,1068.9090052915967,1043.7673422719504,505.3243813029023,482.2733146989511,1013.566526842172,437.35423336972883,1174.9268415314593,1008.4364207343842,380.4023924556068,1111.4906483634165,659.6931107544358,504.73462781030975,723.2161194656733,973.5539768678744,540.18587013661,1099.7736981901448,929.6367926767499,991.1455827985615,345.2023294206476,340.43519445634905,762.1444623739931,451.2425968810478,1128.3090524185266,1094.2417439516898,599.2455436330715,630.5707856387708,949.6852080231378,1099.4705314782054,425.05106105293373,458.894912390528,481.9331774462312,887.7764464557575,557.8885121901558,707.1167398284097,1229.0224858102151,707.4077402616382,957.2113154675908,338.5173298677122,524.2914089381145,634.6663709435982,1202.952565430891,924.1747764889705,556.4376668904035,277.08601710080023,402.60288499209327,442.53447790260134,1161.688602942564,343.871123111868,348.67421452648216,358.3038631521138,1015.8474813185178,887.4603983645919,1222.8452127956825,607.2892362961079,1161.6722328766946,1204.6485148532136,1022.966018180025,1001.4870769156125,515.0486845068868,1226.5204198635174,675.2330532210332,612.6882720790943,1107.6803400851152,723.5223474575585,486.22781455861184,893.048505940928,344.5225255793377,805.3147029879939,1188.1456540787146,647.523365803519,480.94799141059457,1004.6216031902665,335.4240927738019,485.7622652095887,857.6382935166445,700.1126031236399,1222.1126087570506,1050.0005735133777,1170.4529988368922,755.422465737425,806.7086249804913,1140.6844072100034,1198.0368619291216,1029.7345215103696,354.81769479515054,843.0080665343563,961.6826881694194,849.9245937337739,639.8778415173692,895.2394358236214,1249.975708360293,625.08171057701,578.3219894898476,833.653897277762,805.0025835727032,531.2925388722995,1117.9339434991234,899.092390346586,1237.4166940357604,597.8972558746535,1046.7873929198063,1296.6052261016448,914.4084298518745,585.9938147674056,1145.0392576353252,1162.3377385292174,647.637655278118,765.7890869922105,762.9820799255338,510.75987744506324,997.4427992767592,1071.4647390386804,476.14290964254235,510.53658946185476,405.149234063058,1140.546514312852,941.8486314489409,668.7817677289909,1167.0573546585053,429.33559204007565,461.5609857484868,891.1331448144258,471.69814049855074,936.7815239744218,1039.4167020473212,929.0313787136178,1336.2024848639062,1066.2457602160966,919.7917876459618,425.78186200537306,1298.1380288330865,807.9259032094153,685.3409963371341,629.4224090236131,1145.9247809803212,734.2806831813048,1001.8470002181308,853.1165085776261,803.9493511382082,1266.6157488025656,1007.3460759063295,932.7359488944571,727.7544939994489,1293.0616226820184,1160.3803401399723,1256.4924248950533,810.1894522277182,496.4941849724779,1085.8590898255688,422.92357162172664,851.1635390904028,685.5194392371628,586.8947356454362,1221.2329583702494,1101.653904880333,1012.4640892845126,527.1117491314056,421.9302620833527,1256.8756285367976,1209.3837596956037,730.3094640041379,815.9118855259896,544.0306842042972,876.4214964391622,392.9928842809369,1046.5687471800845,1226.809672103006,416.4186395505299,760.1682895465251,1042.2023455169508,931.828232364797,425.5014263890624,975.9326600818288,1274.9761858170823,691.4378406397739,1221.4362150069273,1087.770095836576,647.8243174808707,492.8586474342318,719.8670375968784,1157.0996902396828,542.1848801294223,425.3392752321654,1053.1192772793572,1308.503032479226,447.121098290519,1225.057323257668,1167.0734868087586,1336.192550709738,634.3377495075987,1131.730919656412,1128.6842268631763,1178.6634987982266,543.7967609215839,491.42037095108265,1030.0378804433344,1171.106792433844,901.0802216752224,466.75664471314855,1184.4156904337,490.04137975240064,1100.3452660746902,548.8406944393033,775.6462444855429,615.7585130654461,1055.6596027499713,1304.3160155437456,1244.1039228403247,955.5525061487189,548.7028719905251,936.6245796424728,471.0290544474444,994.3460278477723,1082.2632303627026,792.213654430378,1257.416120387908,469.19980667421817,1386.654835471248,900.4694685522699,684.5365726602759,1100.3308408089938,1020.1265984256478,1000.4108854626706,690.2334309741016,1353.6443100697024,954.5278776838129,1277.6845170363977,598.4448713582382,558.4190019541326,643.9428395809955,1212.1604273070438,1398.9841837779122,458.66718929576894,836.6993556043146,519.4349875921747,1290.424362512967,937.8241931785221,1310.104642162067,1158.80596202263,1371.0051613210785,1223.8043263890622,782.4547542400142,775.7919790301962,1390.801526614669,1355.0939489575555,488.30999514897155,749.0271449942128,1162.9618761818,1068.4342843854968,1290.724552246869,1219.3683729455474,572.6455943036467,554.7799000521135,748.0629050061751,1093.311980783601,1119.3592206969893,722.6013661740219,1253.231621593805,1033.3226852220498,581.7109550045824,706.2337070547277,1219.6003661251568,874.4372566297621,703.1736829005815,1361.8545647012916,1300.5806385746464,739.5115757671526,763.2669198074312,1404.809549664129,798.7770193322307,1364.7386976288094,520.6383107695574,659.3840620390635,745.820480554434,792.5728164816592,1292.8458586164575,615.7548459638168,615.4383107981325,640.9518407979677,872.2119682025015,1118.7362530980467,1270.0113614225215,615.7194781124805,567.941227052552,549.0699111301077,534.8139061844107,797.4049269761645,911.7636997239043,1300.3885715204126,744.3271213456384,1504.026845419965,1467.68616785424,703.6183118016847,711.4621947149648,1208.3452324484647,746.0037100861243,805.4656076247476,833.2248037729221,1070.9933950027,1437.5447461548993,568.7689459110702,1465.2974666444184,1140.179744366226,1056.1924388638931,1129.8773861537315,1273.2122407599097,1164.1566523073373,606.0464214252112,721.8509858118582,999.2307999773425,1264.4118775216725,1074.1582899895461,752.1614352593488,971.7449972525301,1425.5457762564038,1390.5951970601777,1309.7032434933476,727.9558450292477,872.0550098888946,994.6560253150794,1068.3095815311463,1320.7840137962748,922.75172527455,1299.384847611848,1152.5987753414474,1237.4111163780665,840.3045419405557,1156.096672721863,1036.8609460401467,1369.5451120470775,1526.3961751433635,886.4512548651558,958.8265609089777,1144.4496455209155,652.2492198994056,571.6801010473397,647.5422326661289,750.9716652961724,959.7808694796431,1066.8932751097516,1388.2108123839182,1376.247372816862,1020.4036290995627,642.9618946605058,576.7367464279769,1506.46166544069,696.4983124969482,1249.2932507616224,952.8497715704668,638.9816908240291,914.8423815498231,1137.885404284015,643.0630766226193,1203.3804066558746,1131.7850005575715,992.3685216321503,993.354886347589,1095.3111823356378,1046.7178666210598,765.3105547406428,926.3451432625824,989.8901289593878,703.398750375264,1142.885175658278,1218.8718136379875,1520.187823662287,1107.9423795226098,928.0702042655657,663.2543702543212,1481.6276854613916,887.801134111352,661.865044214145,1549.1642675120424,1454.5331211481644,1317.8161314112654,1486.585881931348,1282.9056763567742,624.7617329530698,1247.4263631577273,1596.117830018367,1247.0422265148777,1126.30905658772,1077.382365579698,615.0736754753556,1195.6881293186916,929.9605319790192,954.8178022127101,902.1286798533388,1579.4155709951672,1158.5154510915238,782.2906290825185,1082.3717608003535,1198.6119318824417,721.8015356712053,1469.413433091525,1079.333380683367,1495.2545527651266,1333.6448540358365,1094.9497148194416,1539.4207850222715,1610.4525179976192,1298.1543228764954,1292.7615616360933,819.8117968618192,1058.7381008150824,934.1260823568809,1226.751301082016,645.4282292574404,1499.9735545920303,1144.0677046781677,977.9477816920855,1131.4309894066191,1625.8714324672874,1428.2878968039518,1031.1457961328128,1114.7482535959232,1620.5095005835074,1594.6926417998034,819.0148545963773,1641.4695663568484,1002.8542195615298,1521.3738733571217,958.3513626694644,1016.5080237933812,914.1895557330333,1591.7720478611163,896.1562424713752,1037.7538036695314,1074.4804586822488,841.1398297638152,1172.477458379093,909.0118507647417,699.0837478801747,1428.2285422794216,1402.4650804292305,854.3376593640678,1640.8511832609865,777.5650516645242,1381.8443219209407,1640.9545521940368,902.5528197979487,1625.3818908879716,1428.019348334139,1058.7571682193309,1450.6816806539534,1246.2084472939364,1183.2793307608054,901.4749426605938,954.0828653738029,1337.326847887573,1627.0848856647203,1147.8909895536026,1669.484001851249,1394.7410465911023,971.1719507677353,851.0810627616149,1200.8860261765399,927.0030701474857,1444.2172708949972,709.4580945812651,1270.9062257518394,1522.1860109578188,712.0677793134992,1415.4781802912016,959.5487569094157,1608.4880037365351,825.0437842528671,1656.1838368851984,1089.5097946520568,730.3973832343373,1135.5838562706922,1074.3309429878625,1567.0084716203394,1300.0442870405682,1587.5070340681373,1589.6659512923488,1523.266047605589,1077.3089154949298,1142.4257371994217,1226.9906637564932,1044.14026543392,1082.4528460186616,879.3509365777932,1000.9712106013542,1124.053186346348,1251.4840626713885,1480.2879890283693,1467.219482955319,1235.2345460280326,907.1626373583535,1397.6309348743716,1264.99450151653,1564.4350910048224,1037.4985615633796,988.4191315113939,1348.942098081146,1536.6471876632563,1448.788893085138,1296.0292139203384,1635.6113547109067,1719.003034044786,1091.6868695082408,961.6325283032801,1475.056723487021,1577.9031984500543,1246.490427505717,955.7563130266001,1698.6550123697873,848.5616425957477,797.7834128825664,1434.5442285840584,991.3363802475812,1468.535342298694,1528.757763182709,1045.8205707208845,989.7496716345455,1125.440433279493,1221.990299687781,1436.8190917121447,817.4516349138153,1473.9387434896798,1366.1431807126908,1548.446378721027,1734.0307563301308,988.2119344299784,1437.0024091391406,1520.206546013011,1197.1463417579214,1233.5230121672394,1046.4637859035934,1675.422597982511,914.7837734396196,1064.0979656740865,1734.5214156528132,1108.147068314482,1399.597425293609,884.4428665395831,817.0090642017836,851.1625382183903,1128.032763171469,1647.344978013792,1495.7896377987418,1468.7307576871071,1653.9898180882697,1704.1886485274376,1388.2840234154307,1188.2563397708823,930.1098320275846,971.8501212347993,1739.6752323610335,1361.789231561731,1649.338298457518,1135.317969414893,843.8193126281031,1131.297718026306,1635.2367553661218,1766.3187108142024,1617.8400487566714,1660.9019867147204,1181.5868736719558,1305.609725781877,850.5793810962906,1194.7653504591099,1770.150161218869,830.2350666260276,1376.5210306549457,1501.098669359803,1780.0173564091097,1406.921685019392,1314.5001320800247,970.7411719704614,1642.8013340112007,1618.9272838585043,1554.456785522204,1753.0383446829142,1394.9983388739397,1546.0329924655352,875.6870981473883,832.246029970505,1732.1620232845758,1076.0076327704446,1436.490290890703,874.4469492886833,1479.105638626164,930.7526728035679,887.8056897596335,1007.9743613727279,856.167467432923,1201.4697213952777,1032.3793357244176,1439.5946203919873,1043.6456217034724,1504.575753431536,1776.1943872155098,954.2091699639867,1324.8277865848925,1093.7235143230953,1100.3455092184045,897.5934072203687,1522.612633541071,1393.1676428604546,919.2324799155829,1199.6981840076737,1535.5392154136334,1453.8497514511848,984.8933279539857,1360.2973788357071,1526.1116974074635,1775.9586824232024,1447.4933645861765,1089.2728674243442,1717.626203346209,1790.3547480746993,1288.430589417839,1470.5858201054634,1815.2778822202667,1046.1296757144864,1605.2147903568864,1101.991350671802,1783.1457113932756,1812.7069339434238,1646.2212969380985,1651.8111202499456,1080.7233877032666,1372.2696956458403,1568.617248595806,1669.5864703812233,1490.9850087426203,1751.9364628335786,1124.202266397292,1289.1923660708865,1356.5438903095298,1024.987726044656,865.601649527257,1671.000229740478,1381.28424618312,1596.5789596879722,1009.1948417316082,1643.9359388139742,1151.9149222003023,1081.7589831957905,1791.3578188122924,1028.7860251434174,1187.2147742265877,1482.244833730991,1011.042837026899,1550.8646259595291,1632.3102215852828,1373.287466804172,1464.4147400499264,1083.1596605236477,1681.1449225783267,1723.0953214692954,1146.2079906598797,1200.3360626062258,1432.3726255483225,1784.6656826344945,1417.664039126455,1669.4807258595583,1162.2240076581797,1223.5063676097304,1822.3541908559632,1555.232110599603,932.4690487833705,1274.613272570936,1868.8878077341747,1074.945189905762,1042.4162475699927,1258.2020815000371,1893.4517953650939,1203.8001018289713,1080.9610357861259,1226.0752633849968,1065.322060821193,1300.270805989468,1238.0154629799883,1859.1382736268415,1704.9330587578556,1699.127740108971,1094.2216327140975,991.4615432945177,1346.7871413604676,1302.1564864007462,1323.6721017409375,1297.4180854479825,1398.430250813546,1686.0321335839806,1616.4301633180762,1745.808672482749,1821.916285243384,1142.29665561933,1655.9636966906235,1398.5203139512178,995.6274422495848,1366.1449234349748,1171.1762884570694,1011.1452864832411,1802.0134436191752,1218.732192392342,1923.539974086519,1679.1222132483567,1030.7573549994288,1101.9742863008419,986.9039873759747,1465.3423848639443,1387.0719256627758,1005.3190081584883,1830.8739977766563,1543.7976800706683,1751.2744544540478,1210.7254409176328,1528.2275629643525,1898.7297715668658,1848.4848324325458,975.0956110627836,1872.65046971106,1029.8720913845584,1156.2355542142557,1248.6604885418108,1315.1502123180285,1431.7597977756427,1702.9786436347822,1633.3306509032914,1405.8224452338527,1838.715304490381,1391.9192374288236,1336.7791208034316,1862.2166613248605,1356.9997407226042,1622.3012185290954,1836.0321593323904,1476.36788923421,1641.753812151906,1274.215253506962,1328.6014790407385,1819.6313508201356,1218.7340214617452,1573.1954312305352,1819.6991900814046,1107.7771304305973,1899.4833023489832,1957.3152315329985,1870.8342144743597,1648.3729652277702,993.4575726674437,1832.1897537966115,1618.0976405863382,1008.3023790961417,1681.7631143898197,1018.2358170177769,1657.70108542666,1411.3369476949788,1484.5416116394058,1769.7368806952231,1791.8410566411007,1904.0009391942826,1227.673639809747,1476.7056850733115,1429.7194315170798,1512.537068308062,1294.352913506838,1548.2317899980226,1646.5580151914419,1954.6029598575844,1233.2177798132723,1519.9475440958036,1517.7036598733298,1466.397190208081,1987.107951571034,1128.4405211597518,1365.4269986546974,1959.2352156178258,1105.1482154914513,1951.886366976717]}];\n",
       " var layout_1472d26e7faef2 = {\"height\":550,\"width\":600,\"title\":{\"text\":\"Histogram with axes\"},\"showlegend\":false,\"xaxis\":{\"title\":{\"text\":\"my x data\"},\"showgrid\":true,\"zeroline\":false,\"showline\":false},\"yaxis\":{\"title\":{\"text\":\"my y data\"},\"showgrid\":true,\"zeroline\":false,\"showline\":false}};\n",
       " var config_1472d26e7faef2 = {\"responsive\":false,\"scrollZoom\":true,\"displaylogo\":false};\n",
       " Plotly.newPlot(\"graph_1472d26e7faef2\", traces_1472d26e7faef2, layout_1472d26e7faef2, config_1472d26e7faef2);\n",
       "</script>\n"
      ]
     },
     "metadata": {},
     "output_type": "display_data"
    }
   ],
   "source": [
    "import picta.options.Axis\n",
    "\n",
    "// axis can be set composed like any other chart component. We need to make \n",
    "val xaxis = Axis(position=\"x\", title = \"my x data\")\n",
    "val yaxis = Axis(position=\"y\", title = \"my y data\")\n",
    "\n",
    "// these are added to the layout object\n",
    "val layout = Layout(\"Histogram with axes\") setAxes(xaxis, yaxis)\n",
    "\n",
    "val chart = Chart() setData data setLayout layout setConfig config\n",
    "\n",
    "chart.plot_inline()"
   ]
  },
  {
   "cell_type": "markdown",
   "metadata": {},
   "source": [
    "#### Customizing colors for a Histogram\n",
    "\n",
    "We can use the `HistOptions` class to further specify options for a histogram. For example, if we wanted to create a horizontally positioned histogram, we can do the following:"
   ]
  },
  {
   "cell_type": "code",
   "execution_count": 14,
   "metadata": {},
   "outputs": [
    {
     "data": {
      "text/html": [
       "\n",
       "<div align=\"center\">\n",
       "<div id='graph_174c412ef9237b' class='graph'></div>\n",
       "</div>\n",
       "<script>\n",
       " var traces_174c412ef9237b = [{\"name\":\"4015390\",\"type\":\"histogram\",\"marker\":{\"color\":\"rgba(255, 100, 102, 0.4)\",\"line\":{\"width\":0.5}},\"y\":[486.6530109655587,302.15082969761886,133.79252299661593,640.2436580605998,855.4132034596737,92.02698349142224,416.2126649698956,976.0324784204901,283.91606587106855,619.5498118023131,686.2111724931685,416.8770907914263,95.83901336209476,640.4020280069324,479.20037723073625,240.95437066588497,920.9275429507469,313.8297556838836,731.5485243611137,225.08051313384922,135.96037238147892,312.73280261999855,608.3730727573468,651.2766377389905,799.2575234665396,224.97356509014963,429.3229438102094,454.238589853797,95.48514728854671,895.7154083929117,438.10811113890475,954.9323200361343,804.5815987278975,52.984420091844754,361.7295254657364,146.04324907519947,461.94959833753734,157.28051104453084,61.8084019401974,421.76641287690916,686.6295388534887,920.947464395,93.10844055644347,977.4316630009776,619.9893698232755,354.14369422524726,653.29085246932,843.7161464510908,539.5367140315795,511.63884081604823,233.13625167608637,665.7041061892428,490.7792167251989,338.2936036773797,257.91365541421845,888.8118659059076,214.6296328899651,140.96342323238605,148.2717990793477,971.6034355095384,738.6721186561404,250.6994112703162,522.9733516192498,609.7803320669472,747.676802398854,381.5023586278466,715.987640349443,726.1371051642204,252.06973245997037,1040.5188932064357,386.90348616674015,158.03100041257437,132.63616215887936,99.45171539175495,766.3183270232337,556.9233491411021,855.5546335102155,298.0879435819679,996.8055322643972,1003.8069572341107,1023.9303943551889,1018.2335377555349,105.25701410121495,239.8421539098157,460.3164386147918,139.97339129353173,373.84367013555556,213.281718802165,199.2812355699162,172.06050566799252,264.53123154278046,851.7730039053043,109.90219352374257,134.36982971580005,596.0346542066575,583.3830136778206,865.1342183938549,862.7353882345323,372.28951483981035,150.20023867773526,628.3232148026664,505.1221408765172,517.9638267977258,685.124895550097,136.70485727093032,982.9667358905959,789.229731219564,855.467043127349,827.5485828042115,1102.65444590606,296.95874257822834,116.22937379361876,274.67787787964295,819.4817535654165,404.7007613170205,761.4601390493356,481.41764686367515,880.087498763892,245.25146944467292,513.8188569738468,510.5903033194036,699.2180607766999,737.3083505159082,850.5053425904821,523.001776703987,862.8248154348512,777.6610524340736,1127.9606784501889,542.9299889553522,1091.8749754385217,234.55681215030543,838.2562123048772,172.44738589998943,849.8896822574874,474.3271690767229,1006.8448875456357,1035.9807842680307,1032.1062135875677,416.05749362360433,824.3564515993165,952.33094567503,335.2937006558392,528.0261424274474,1094.3766275873068,703.4453845702786,974.6347982721952,754.8353672617533,974.6574334389231,797.5576498013335,387.71837863751796,1095.6011224897425,790.9642321324832,808.8773862138495,445.57152591706426,441.26517104762917,410.77232321691554,716.834635141681,476.7910000241944,323.0368199610003,778.284487344386,164.95364540102062,1103.218521015293,424.16806617268594,732.7477280747817,712.7502025370251,484.235812390774,1063.7108637835495,1158.8061396782114,963.6181636510478,1071.638668667338,373.6001843986659,850.634266620403,917.4902629525391,388.1822787694231,559.3525613104927,210.85288077484296,1019.1289055105444,660.2725079726258,459.86439724396814,1050.7375014204488,1151.2232524210476,358.9109200046681,603.2402906554489,309.98729850468817,256.03858529312276,832.8837855750629,1093.2763596124962,472.3300843222035,360.1847630480811,254.3187237837267,955.1691757531216,817.4967354864124,524.1408507891156,1039.1147382783888,1019.216390847577,420.6066091352084,641.4929920564721,753.3848483939734,1027.7198341155422,986.7624918689561,1072.4131167975547,271.93271381443924,412.99804466309854,1191.662565620264,811.7266361143414,615.9181725486013,1113.3596615463925,1188.2936042742508,263.9870219358103,464.2488037995047,869.0849830885206,335.27825601682895,726.2960274505913,806.8677099050266,671.9080323941301,1004.2064067210208,364.1782160644784,587.9905375461097,429.1870729351316,531.2892096173847,806.6391166500116,473.47747687000066,447.8962910104425,992.9311426799899,483.6062953207348,1068.9090052915967,1043.7673422719504,505.3243813029023,482.2733146989511,1013.566526842172,437.35423336972883,1174.9268415314593,1008.4364207343842,380.4023924556068,1111.4906483634165,659.6931107544358,504.73462781030975,723.2161194656733,973.5539768678744,540.18587013661,1099.7736981901448,929.6367926767499,991.1455827985615,345.2023294206476,340.43519445634905,762.1444623739931,451.2425968810478,1128.3090524185266,1094.2417439516898,599.2455436330715,630.5707856387708,949.6852080231378,1099.4705314782054,425.05106105293373,458.894912390528,481.9331774462312,887.7764464557575,557.8885121901558,707.1167398284097,1229.0224858102151,707.4077402616382,957.2113154675908,338.5173298677122,524.2914089381145,634.6663709435982,1202.952565430891,924.1747764889705,556.4376668904035,277.08601710080023,402.60288499209327,442.53447790260134,1161.688602942564,343.871123111868,348.67421452648216,358.3038631521138,1015.8474813185178,887.4603983645919,1222.8452127956825,607.2892362961079,1161.6722328766946,1204.6485148532136,1022.966018180025,1001.4870769156125,515.0486845068868,1226.5204198635174,675.2330532210332,612.6882720790943,1107.6803400851152,723.5223474575585,486.22781455861184,893.048505940928,344.5225255793377,805.3147029879939,1188.1456540787146,647.523365803519,480.94799141059457,1004.6216031902665,335.4240927738019,485.7622652095887,857.6382935166445,700.1126031236399,1222.1126087570506,1050.0005735133777,1170.4529988368922,755.422465737425,806.7086249804913,1140.6844072100034,1198.0368619291216,1029.7345215103696,354.81769479515054,843.0080665343563,961.6826881694194,849.9245937337739,639.8778415173692,895.2394358236214,1249.975708360293,625.08171057701,578.3219894898476,833.653897277762,805.0025835727032,531.2925388722995,1117.9339434991234,899.092390346586,1237.4166940357604,597.8972558746535,1046.7873929198063,1296.6052261016448,914.4084298518745,585.9938147674056,1145.0392576353252,1162.3377385292174,647.637655278118,765.7890869922105,762.9820799255338,510.75987744506324,997.4427992767592,1071.4647390386804,476.14290964254235,510.53658946185476,405.149234063058,1140.546514312852,941.8486314489409,668.7817677289909,1167.0573546585053,429.33559204007565,461.5609857484868,891.1331448144258,471.69814049855074,936.7815239744218,1039.4167020473212,929.0313787136178,1336.2024848639062,1066.2457602160966,919.7917876459618,425.78186200537306,1298.1380288330865,807.9259032094153,685.3409963371341,629.4224090236131,1145.9247809803212,734.2806831813048,1001.8470002181308,853.1165085776261,803.9493511382082,1266.6157488025656,1007.3460759063295,932.7359488944571,727.7544939994489,1293.0616226820184,1160.3803401399723,1256.4924248950533,810.1894522277182,496.4941849724779,1085.8590898255688,422.92357162172664,851.1635390904028,685.5194392371628,586.8947356454362,1221.2329583702494,1101.653904880333,1012.4640892845126,527.1117491314056,421.9302620833527,1256.8756285367976,1209.3837596956037,730.3094640041379,815.9118855259896,544.0306842042972,876.4214964391622,392.9928842809369,1046.5687471800845,1226.809672103006,416.4186395505299,760.1682895465251,1042.2023455169508,931.828232364797,425.5014263890624,975.9326600818288,1274.9761858170823,691.4378406397739,1221.4362150069273,1087.770095836576,647.8243174808707,492.8586474342318,719.8670375968784,1157.0996902396828,542.1848801294223,425.3392752321654,1053.1192772793572,1308.503032479226,447.121098290519,1225.057323257668,1167.0734868087586,1336.192550709738,634.3377495075987,1131.730919656412,1128.6842268631763,1178.6634987982266,543.7967609215839,491.42037095108265,1030.0378804433344,1171.106792433844,901.0802216752224,466.75664471314855,1184.4156904337,490.04137975240064,1100.3452660746902,548.8406944393033,775.6462444855429,615.7585130654461,1055.6596027499713,1304.3160155437456,1244.1039228403247,955.5525061487189,548.7028719905251,936.6245796424728,471.0290544474444,994.3460278477723,1082.2632303627026,792.213654430378,1257.416120387908,469.19980667421817,1386.654835471248,900.4694685522699,684.5365726602759,1100.3308408089938,1020.1265984256478,1000.4108854626706,690.2334309741016,1353.6443100697024,954.5278776838129,1277.6845170363977,598.4448713582382,558.4190019541326,643.9428395809955,1212.1604273070438,1398.9841837779122,458.66718929576894,836.6993556043146,519.4349875921747,1290.424362512967,937.8241931785221,1310.104642162067,1158.80596202263,1371.0051613210785,1223.8043263890622,782.4547542400142,775.7919790301962,1390.801526614669,1355.0939489575555,488.30999514897155,749.0271449942128,1162.9618761818,1068.4342843854968,1290.724552246869,1219.3683729455474,572.6455943036467,554.7799000521135,748.0629050061751,1093.311980783601,1119.3592206969893,722.6013661740219,1253.231621593805,1033.3226852220498,581.7109550045824,706.2337070547277,1219.6003661251568,874.4372566297621,703.1736829005815,1361.8545647012916,1300.5806385746464,739.5115757671526,763.2669198074312,1404.809549664129,798.7770193322307,1364.7386976288094,520.6383107695574,659.3840620390635,745.820480554434,792.5728164816592,1292.8458586164575,615.7548459638168,615.4383107981325,640.9518407979677,872.2119682025015,1118.7362530980467,1270.0113614225215,615.7194781124805,567.941227052552,549.0699111301077,534.8139061844107,797.4049269761645,911.7636997239043,1300.3885715204126,744.3271213456384,1504.026845419965,1467.68616785424,703.6183118016847,711.4621947149648,1208.3452324484647,746.0037100861243,805.4656076247476,833.2248037729221,1070.9933950027,1437.5447461548993,568.7689459110702,1465.2974666444184,1140.179744366226,1056.1924388638931,1129.8773861537315,1273.2122407599097,1164.1566523073373,606.0464214252112,721.8509858118582,999.2307999773425,1264.4118775216725,1074.1582899895461,752.1614352593488,971.7449972525301,1425.5457762564038,1390.5951970601777,1309.7032434933476,727.9558450292477,872.0550098888946,994.6560253150794,1068.3095815311463,1320.7840137962748,922.75172527455,1299.384847611848,1152.5987753414474,1237.4111163780665,840.3045419405557,1156.096672721863,1036.8609460401467,1369.5451120470775,1526.3961751433635,886.4512548651558,958.8265609089777,1144.4496455209155,652.2492198994056,571.6801010473397,647.5422326661289,750.9716652961724,959.7808694796431,1066.8932751097516,1388.2108123839182,1376.247372816862,1020.4036290995627,642.9618946605058,576.7367464279769,1506.46166544069,696.4983124969482,1249.2932507616224,952.8497715704668,638.9816908240291,914.8423815498231,1137.885404284015,643.0630766226193,1203.3804066558746,1131.7850005575715,992.3685216321503,993.354886347589,1095.3111823356378,1046.7178666210598,765.3105547406428,926.3451432625824,989.8901289593878,703.398750375264,1142.885175658278,1218.8718136379875,1520.187823662287,1107.9423795226098,928.0702042655657,663.2543702543212,1481.6276854613916,887.801134111352,661.865044214145,1549.1642675120424,1454.5331211481644,1317.8161314112654,1486.585881931348,1282.9056763567742,624.7617329530698,1247.4263631577273,1596.117830018367,1247.0422265148777,1126.30905658772,1077.382365579698,615.0736754753556,1195.6881293186916,929.9605319790192,954.8178022127101,902.1286798533388,1579.4155709951672,1158.5154510915238,782.2906290825185,1082.3717608003535,1198.6119318824417,721.8015356712053,1469.413433091525,1079.333380683367,1495.2545527651266,1333.6448540358365,1094.9497148194416,1539.4207850222715,1610.4525179976192,1298.1543228764954,1292.7615616360933,819.8117968618192,1058.7381008150824,934.1260823568809,1226.751301082016,645.4282292574404,1499.9735545920303,1144.0677046781677,977.9477816920855,1131.4309894066191,1625.8714324672874,1428.2878968039518,1031.1457961328128,1114.7482535959232,1620.5095005835074,1594.6926417998034,819.0148545963773,1641.4695663568484,1002.8542195615298,1521.3738733571217,958.3513626694644,1016.5080237933812,914.1895557330333,1591.7720478611163,896.1562424713752,1037.7538036695314,1074.4804586822488,841.1398297638152,1172.477458379093,909.0118507647417,699.0837478801747,1428.2285422794216,1402.4650804292305,854.3376593640678,1640.8511832609865,777.5650516645242,1381.8443219209407,1640.9545521940368,902.5528197979487,1625.3818908879716,1428.019348334139,1058.7571682193309,1450.6816806539534,1246.2084472939364,1183.2793307608054,901.4749426605938,954.0828653738029,1337.326847887573,1627.0848856647203,1147.8909895536026,1669.484001851249,1394.7410465911023,971.1719507677353,851.0810627616149,1200.8860261765399,927.0030701474857,1444.2172708949972,709.4580945812651,1270.9062257518394,1522.1860109578188,712.0677793134992,1415.4781802912016,959.5487569094157,1608.4880037365351,825.0437842528671,1656.1838368851984,1089.5097946520568,730.3973832343373,1135.5838562706922,1074.3309429878625,1567.0084716203394,1300.0442870405682,1587.5070340681373,1589.6659512923488,1523.266047605589,1077.3089154949298,1142.4257371994217,1226.9906637564932,1044.14026543392,1082.4528460186616,879.3509365777932,1000.9712106013542,1124.053186346348,1251.4840626713885,1480.2879890283693,1467.219482955319,1235.2345460280326,907.1626373583535,1397.6309348743716,1264.99450151653,1564.4350910048224,1037.4985615633796,988.4191315113939,1348.942098081146,1536.6471876632563,1448.788893085138,1296.0292139203384,1635.6113547109067,1719.003034044786,1091.6868695082408,961.6325283032801,1475.056723487021,1577.9031984500543,1246.490427505717,955.7563130266001,1698.6550123697873,848.5616425957477,797.7834128825664,1434.5442285840584,991.3363802475812,1468.535342298694,1528.757763182709,1045.8205707208845,989.7496716345455,1125.440433279493,1221.990299687781,1436.8190917121447,817.4516349138153,1473.9387434896798,1366.1431807126908,1548.446378721027,1734.0307563301308,988.2119344299784,1437.0024091391406,1520.206546013011,1197.1463417579214,1233.5230121672394,1046.4637859035934,1675.422597982511,914.7837734396196,1064.0979656740865,1734.5214156528132,1108.147068314482,1399.597425293609,884.4428665395831,817.0090642017836,851.1625382183903,1128.032763171469,1647.344978013792,1495.7896377987418,1468.7307576871071,1653.9898180882697,1704.1886485274376,1388.2840234154307,1188.2563397708823,930.1098320275846,971.8501212347993,1739.6752323610335,1361.789231561731,1649.338298457518,1135.317969414893,843.8193126281031,1131.297718026306,1635.2367553661218,1766.3187108142024,1617.8400487566714,1660.9019867147204,1181.5868736719558,1305.609725781877,850.5793810962906,1194.7653504591099,1770.150161218869,830.2350666260276,1376.5210306549457,1501.098669359803,1780.0173564091097,1406.921685019392,1314.5001320800247,970.7411719704614,1642.8013340112007,1618.9272838585043,1554.456785522204,1753.0383446829142,1394.9983388739397,1546.0329924655352,875.6870981473883,832.246029970505,1732.1620232845758,1076.0076327704446,1436.490290890703,874.4469492886833,1479.105638626164,930.7526728035679,887.8056897596335,1007.9743613727279,856.167467432923,1201.4697213952777,1032.3793357244176,1439.5946203919873,1043.6456217034724,1504.575753431536,1776.1943872155098,954.2091699639867,1324.8277865848925,1093.7235143230953,1100.3455092184045,897.5934072203687,1522.612633541071,1393.1676428604546,919.2324799155829,1199.6981840076737,1535.5392154136334,1453.8497514511848,984.8933279539857,1360.2973788357071,1526.1116974074635,1775.9586824232024,1447.4933645861765,1089.2728674243442,1717.626203346209,1790.3547480746993,1288.430589417839,1470.5858201054634,1815.2778822202667,1046.1296757144864,1605.2147903568864,1101.991350671802,1783.1457113932756,1812.7069339434238,1646.2212969380985,1651.8111202499456,1080.7233877032666,1372.2696956458403,1568.617248595806,1669.5864703812233,1490.9850087426203,1751.9364628335786,1124.202266397292,1289.1923660708865,1356.5438903095298,1024.987726044656,865.601649527257,1671.000229740478,1381.28424618312,1596.5789596879722,1009.1948417316082,1643.9359388139742,1151.9149222003023,1081.7589831957905,1791.3578188122924,1028.7860251434174,1187.2147742265877,1482.244833730991,1011.042837026899,1550.8646259595291,1632.3102215852828,1373.287466804172,1464.4147400499264,1083.1596605236477,1681.1449225783267,1723.0953214692954,1146.2079906598797,1200.3360626062258,1432.3726255483225,1784.6656826344945,1417.664039126455,1669.4807258595583,1162.2240076581797,1223.5063676097304,1822.3541908559632,1555.232110599603,932.4690487833705,1274.613272570936,1868.8878077341747,1074.945189905762,1042.4162475699927,1258.2020815000371,1893.4517953650939,1203.8001018289713,1080.9610357861259,1226.0752633849968,1065.322060821193,1300.270805989468,1238.0154629799883,1859.1382736268415,1704.9330587578556,1699.127740108971,1094.2216327140975,991.4615432945177,1346.7871413604676,1302.1564864007462,1323.6721017409375,1297.4180854479825,1398.430250813546,1686.0321335839806,1616.4301633180762,1745.808672482749,1821.916285243384,1142.29665561933,1655.9636966906235,1398.5203139512178,995.6274422495848,1366.1449234349748,1171.1762884570694,1011.1452864832411,1802.0134436191752,1218.732192392342,1923.539974086519,1679.1222132483567,1030.7573549994288,1101.9742863008419,986.9039873759747,1465.3423848639443,1387.0719256627758,1005.3190081584883,1830.8739977766563,1543.7976800706683,1751.2744544540478,1210.7254409176328,1528.2275629643525,1898.7297715668658,1848.4848324325458,975.0956110627836,1872.65046971106,1029.8720913845584,1156.2355542142557,1248.6604885418108,1315.1502123180285,1431.7597977756427,1702.9786436347822,1633.3306509032914,1405.8224452338527,1838.715304490381,1391.9192374288236,1336.7791208034316,1862.2166613248605,1356.9997407226042,1622.3012185290954,1836.0321593323904,1476.36788923421,1641.753812151906,1274.215253506962,1328.6014790407385,1819.6313508201356,1218.7340214617452,1573.1954312305352,1819.6991900814046,1107.7771304305973,1899.4833023489832,1957.3152315329985,1870.8342144743597,1648.3729652277702,993.4575726674437,1832.1897537966115,1618.0976405863382,1008.3023790961417,1681.7631143898197,1018.2358170177769,1657.70108542666,1411.3369476949788,1484.5416116394058,1769.7368806952231,1791.8410566411007,1904.0009391942826,1227.673639809747,1476.7056850733115,1429.7194315170798,1512.537068308062,1294.352913506838,1548.2317899980226,1646.5580151914419,1954.6029598575844,1233.2177798132723,1519.9475440958036,1517.7036598733298,1466.397190208081,1987.107951571034,1128.4405211597518,1365.4269986546974,1959.2352156178258,1105.1482154914513,1951.886366976717]}];\n",
       " var layout_174c412ef9237b = {\"height\":550,\"width\":600,\"title\":{\"text\":\"XY.Histogram.Color\"},\"showlegend\":false};\n",
       " var config_174c412ef9237b = {\"responsive\":false,\"scrollZoom\":true,\"displaylogo\":false};\n",
       " Plotly.newPlot(\"graph_174c412ef9237b\", traces_174c412ef9237b, layout_174c412ef9237b, config_174c412ef9237b);\n",
       "</script>\n"
      ]
     },
     "metadata": {},
     "output_type": "display_data"
    }
   ],
   "source": [
    "import picta.options.histogram.HistOptions\n",
    "import picta.options.histogram.HistOrientation.HORIZONTAL\n",
    "\n",
    "// we can also compose customizations in much the same way:\n",
    "val marker = Marker() setColor \"rgba(255, 100, 102, 0.4)\" setLine Line()\n",
    "\n",
    "// change xkey to y to get a horizontal histogram\n",
    "val data = XY(x, series_type=HISTOGRAM) setMarker marker setHistOptions HistOptions(orientation = HORIZONTAL)\n",
    "\n",
    "val chart = Chart() setData data setLayout Layout(\"XY.Histogram.Color\") setConfig config\n",
    "\n",
    "chart.plot_inline()"
   ]
  },
  {
   "cell_type": "markdown",
   "metadata": {},
   "source": [
    "#### 2D Histogram Contour"
   ]
  },
  {
   "cell_type": "code",
   "execution_count": 15,
   "metadata": {},
   "outputs": [
    {
     "data": {
      "text/html": [
       "\n",
       "<div align=\"center\">\n",
       "<div id='graph_d84226cc5c66f1' class='graph'></div>\n",
       "</div>\n",
       "<script>\n",
       " var traces_d84226cc5c66f1 = [{\"name\":\"69a0b87\",\"type\":\"histogram2dcontour\",\"mode\":\"markers\",\"x\":[1,2,3,4,5,6,7,8,9,10,11,12,13,14,15,16,17,18,19,20,21,22,23,24,25,26,27,28,29,30,31,32,33,34,35,36,37,38,39,40,41,42,43,44,45,46,47,48,49],\"y\":[99.2777016234056,4.816485898761101,33.374334995666956,26.587075925426724,77.78603633291458,36.403209559637304,73.32011480859657,70.93151650926939,73.51729473461938,36.547753981237946,65.60834567174433,24.161558748417644,48.61184568391029,102.06649855891514,20.701807926741886,59.85495793469138,76.26071710704339,60.81129562856268,69.35866241273888,66.72016244946774,85.56350475953047,61.78214095197349,106.60369965043944,75.71024172481594,113.90020064671795,89.79548993913744,76.59514140854327,73.79728859567776,109.48355458997966,111.26651663489304,76.0633810784474,111.99094326519356,94.43436853956439,113.62053421362556,79.48637565709737,41.45413857848105,107.02291275208154,122.43086128475443,105.27957172375632,53.463784222835315,90.64545182734362,67.58747870196326,49.01667335634786,56.483601761910144,86.6556008398887,122.63283059689604,107.06073631756206,96.76082717840956,118.34607323868285]}];\n",
       " var layout_d84226cc5c66f1 = {\"height\":550,\"width\":600,\"title\":{\"text\":\"2D Histogram Contour\"},\"showlegend\":false};\n",
       " var config_d84226cc5c66f1 = {\"responsive\":true,\"scrollZoom\":true,\"displaylogo\":false};\n",
       " Plotly.newPlot(\"graph_d84226cc5c66f1\", traces_d84226cc5c66f1, layout_d84226cc5c66f1, config_d84226cc5c66f1);\n",
       "</script>\n"
      ]
     },
     "metadata": {},
     "output_type": "display_data"
    }
   ],
   "source": [
    "val x = List.range(1, 50)\n",
    "val y = x.map(x => x + scala.util.Random.nextDouble()*100)\n",
    "\n",
    "val data = XY(x, y, series_type=HISTOGRAM2DCONTOUR, series_mode=MARKERS)\n",
    "\n",
    "val chart = Chart() setData data setLayout Layout(\"2D Histogram Contour\")\n",
    "chart.plot_inline()"
   ]
  },
  {
   "cell_type": "markdown",
   "metadata": {},
   "source": [
    "#### Contour\n",
    "\n",
    "This is a 3 dimensional chart requiring the import of the `XYZ` class from the library."
   ]
  },
  {
   "cell_type": "code",
   "execution_count": 16,
   "metadata": {},
   "outputs": [],
   "source": [
    "import picta.series.XYZ\n",
    "import picta.series.XYZChart._\n",
    "\n",
    "val x = List.range(1, 100)\n",
    "val y = List.range(1, 100)\n",
    "val z = List.range(1, 100).map(x => x + scala.util.Random.nextDouble()*100)\n",
    "\n",
    "val data = XYZ(x, y, z, series_type=CONTOUR, series_mode=MARKERS)"
   ]
  },
  {
   "cell_type": "code",
   "execution_count": 17,
   "metadata": {},
   "outputs": [
    {
     "data": {
      "text/html": [
       "\n",
       "<div align=\"center\">\n",
       "<div id='graph_b53d29b490e8cd' class='graph'></div>\n",
       "</div>\n",
       "<script>\n",
       " var traces_b53d29b490e8cd = [{\"name\":\"5e7f22b\",\"type\":\"contour\",\"mode\":\"markers\",\"x\":[1,2,3,4,5,6,7,8,9,10,11,12,13,14,15,16,17,18,19,20,21,22,23,24,25,26,27,28,29,30,31,32,33,34,35,36,37,38,39,40,41,42,43,44,45,46,47,48,49,50,51,52,53,54,55,56,57,58,59,60,61,62,63,64,65,66,67,68,69,70,71,72,73,74,75,76,77,78,79,80,81,82,83,84,85,86,87,88,89,90,91,92,93,94,95,96,97,98,99],\"y\":[1,2,3,4,5,6,7,8,9,10,11,12,13,14,15,16,17,18,19,20,21,22,23,24,25,26,27,28,29,30,31,32,33,34,35,36,37,38,39,40,41,42,43,44,45,46,47,48,49,50,51,52,53,54,55,56,57,58,59,60,61,62,63,64,65,66,67,68,69,70,71,72,73,74,75,76,77,78,79,80,81,82,83,84,85,86,87,88,89,90,91,92,93,94,95,96,97,98,99],\"z\":[10.858124236740451,52.97336810877403,68.6280828796248,75.17711377718115,98.83556842194446,50.683151645088635,8.086205118627802,60.77372817043494,18.76899409237403,28.632631905069786,54.263378785361276,91.26456254349917,91.37732790564823,113.98649472833493,113.99044690591217,38.21111394878926,86.98243084948545,61.47189815110737,101.00176867817142,28.676699906142005,38.054842628571095,81.53512090089666,117.16559283530043,117.91039628720503,85.67800352687372,61.237026216695696,82.66739139926668,121.67197339576468,69.22354080710087,42.673133637318315,69.21413978899668,99.3995707761087,111.98730034741138,36.69230359438796,104.09708807793861,75.22271735317925,64.61771238103687,53.30138860509401,42.345039155788086,120.24901353683282,42.87527377380338,124.38146855585727,49.21978893877715,96.60360965854075,136.59379133961187,79.20453305671417,95.94977137951666,81.37638260002817,72.67122584652353,108.72781437636658,147.8676069014396,146.9325191266276,86.49984746499229,120.75621930458658,116.01171806865216,72.96794998492342,93.45259524446155,144.80155428956098,150.77172498082962,105.24188929596414,154.8744327087768,92.83063884477032,79.30187564772275,156.09453870565125,101.48463782588605,120.08252388932809,127.19625129481045,162.65873020625682,111.17788606629244,158.74845105230014,119.31409795503687,80.10014095572471,137.9191404635729,116.54638747496753,124.66310112016329,89.27141381078181,153.75924737961435,142.08527909107147,95.89294380494945,140.84138797159278,96.95531283082597,159.40245262356353,155.22110737106323,141.26133940278868,115.76187871870184,165.170870057864,95.50728637172543,109.85596347257764,159.66593660253744,163.81121254714378,97.71241968584194,100.87762074413308,97.67094600675163,188.10706890667376,114.1228088420278,189.53809019992985,136.69193088411754,115.90976298682767,130.48935400823217]}];\n",
       " var layout_b53d29b490e8cd = {\"height\":550,\"width\":600,\"title\":{\"text\":\"Contour\"},\"showlegend\":false};\n",
       " var config_b53d29b490e8cd = {\"responsive\":true,\"scrollZoom\":true,\"displaylogo\":false};\n",
       " Plotly.newPlot(\"graph_b53d29b490e8cd\", traces_b53d29b490e8cd, layout_b53d29b490e8cd, config_b53d29b490e8cd);\n",
       "</script>\n"
      ]
     },
     "metadata": {},
     "output_type": "display_data"
    }
   ],
   "source": [
    "val chart = Chart() setData data setLayout Layout(\"Contour\")\n",
    "\n",
    "chart.plot_inline()"
   ]
  },
  {
   "cell_type": "markdown",
   "metadata": {},
   "source": [
    "#### Heatmap"
   ]
  },
  {
   "cell_type": "code",
   "execution_count": 18,
   "metadata": {
    "scrolled": false
   },
   "outputs": [],
   "source": [
    "val z = List.range(1, 101).map(e => e + scala.util.Random.nextDouble()*100).grouped(10).toList"
   ]
  },
  {
   "cell_type": "code",
   "execution_count": 19,
   "metadata": {},
   "outputs": [
    {
     "data": {
      "text/html": [
       "\n",
       "<div align=\"center\">\n",
       "<div id='graph_a7b5014e25e703' class='graph'></div>\n",
       "</div>\n",
       "<script>\n",
       " var traces_a7b5014e25e703 = [{\"name\":\"586d829\",\"type\":\"heatmap\",\"z\":[[67.83292460513766,73.20585730398601,48.13268901682858,100.62647986314774,75.39923882177436,29.008466231563172,50.47319159486426,35.03479829740489,38.69856397512022,33.260806690686884],[17.163466949018094,56.75617719242989,24.492159669418832,33.965716785095736,105.54008730182015,28.93931911665873,56.87699576915647,78.5965373000289,41.33515817568092,35.48855680030056],[75.07635602441769,69.80740299620517,80.33028773638544,32.68807399001478,105.72982405534167,61.98643742379362,116.37795015400927,69.83828591346165,52.60316722214576,81.87024650802732],[112.78297717732981,64.71066161058899,77.43946086329278,40.52013167029186,112.6502994469037,124.02179611024512,57.09852292180483,53.66745614127862,53.04328365245651,119.1470483176082],[54.18254038274939,102.76764756996354,67.66030593020318,62.93865632823933,131.0215554350687,50.059359840152865,113.22548393879632,84.78267386867755,70.19323190749209,67.50730694199507],[95.9027732598324,67.92370028949796,138.67714412927666,151.71434846906192,105.7809285710446,95.60586374829452,147.29456894012037,74.7204663758491,89.84005895143716,150.72301788919796],[112.26056613139389,64.06319639573486,106.7988634127666,127.44070989880407,121.47592714692192,114.55623900471161,110.85485505051062,142.64696814985706,144.61232064312676,108.94992996696408],[105.568196567439,80.10848229473868,103.09476038273627,164.9692779663252,94.00301690168456,160.85331062099004,133.76131375939804,132.1823602215187,126.72841028065302,109.57075187318958],[138.28073120033565,133.73382748896148,115.3945549181565,178.71357780858585,109.3344733357441,185.1853876165792,136.33768374688236,99.50731778853347,164.1203696511415,125.53707356922823],[96.03094336777168,152.2158488442194,95.9109666407364,163.9602152287805,168.186401885225,186.78208001608346,175.20035581360588,179.85500241463745,140.92683947004676,179.35699854940668]]}];\n",
       " var layout_a7b5014e25e703 = {\"height\":500,\"width\":500,\"title\":{\"text\":\"Contour\"},\"showlegend\":false};\n",
       " var config_a7b5014e25e703 = {\"responsive\":true,\"scrollZoom\":true,\"displaylogo\":false};\n",
       " Plotly.newPlot(\"graph_a7b5014e25e703\", traces_a7b5014e25e703, layout_a7b5014e25e703, config_a7b5014e25e703);\n",
       "</script>\n"
      ]
     },
     "metadata": {},
     "output_type": "display_data"
    }
   ],
   "source": [
    "// add lines in between the grid items\n",
    "val data = XYZ(z, series_type=HEATMAP)\n",
    "\n",
    "val chart = Chart() setData data setLayout Layout(\"Contour\", height = 500, width = 500)\n",
    "\n",
    "chart.plot_inline()"
   ]
  },
  {
   "cell_type": "markdown",
   "metadata": {},
   "source": [
    "#### Scatter3D"
   ]
  },
  {
   "cell_type": "code",
   "execution_count": 20,
   "metadata": {},
   "outputs": [
    {
     "data": {
      "text/html": [
       "\n",
       "<div align=\"center\">\n",
       "<div id='graph_701445d821e520' class='graph'></div>\n",
       "</div>\n",
       "<script>\n",
       " var traces_701445d821e520 = [{\"name\":\"8220b01\",\"type\":\"scatter3d\",\"x\":[1,2,3,4,5,6,7,8,9,10,11,12,13,14,15,16,17,18,19,20,21,22,23,24,25,26,27,28,29,30,31,32,33,34,35,36,37,38,39,40,41,42,43,44,45,46,47,48,49,50,51,52,53,54,55,56,57,58,59,60,61,62,63,64,65,66,67,68,69,70,71,72,73,74,75,76,77,78,79,80,81,82,83,84,85,86,87,88,89,90,91,92,93,94,95,96,97,98,99],\"y\":[1,2,3,4,5,6,7,8,9,10,11,12,13,14,15,16,17,18,19,20,21,22,23,24,25,26,27,28,29,30,31,32,33,34,35,36,37,38,39,40,41,42,43,44,45,46,47,48,49,50,51,52,53,54,55,56,57,58,59,60,61,62,63,64,65,66,67,68,69,70,71,72,73,74,75,76,77,78,79,80,81,82,83,84,85,86,87,88,89,90,91,92,93,94,95,96,97,98,99],\"z\":[93.39909853462784,13.552610243714678,31.68412419316144,80.24997038955622,44.087591893573936,50.31383512547551,37.344355644783626,94.47759477100385,79.51406514550025,31.2332972958583,87.64818501744732,37.358082351866564,63.32414070650398,21.240183458966353,60.96800726382456,24.492530809245757,64.43464301928782,26.59366445096783,103.32202542821558,87.99409983815374,101.51521352219716,82.1030554999715,63.848452669564736,58.97054867788953,52.71696561815337,121.75985272692245,122.95137960663251,120.03518419700242,91.08826843569437,105.55083596465082,42.943166438225084,111.01575715439397,92.54350514155253,99.92839578895375,115.2464494597946,66.05041286324034,90.30140000981761,99.74635580522374,113.08215445586266,70.90428024303247,117.3853854674313,135.42650679227404,84.05820154908223,55.60990857170752,87.07911190039438,130.7031810576623,133.18684507959918,79.42914969462547,110.15615089341426,63.50015591124276,53.59688651804429,122.65378635299214,137.2535988204035,135.32625720713887,59.57028059826396,72.90658093108007,144.93510976990638,73.03304968418573,64.52092628190043,82.37404741477306,154.78969884448094,70.86000995579538,125.14672910882882,76.79675868440988,86.33838590060451,130.399651987717,142.2242863010705,117.06251362215107,96.5715746097404,71.44705878422529,168.3788462382377,149.8922292301137,151.61580052763162,167.65535255427085,123.65045957436648,135.3779786192672,109.32931645184364,107.50063301536356,160.79051651276325,106.02706799289493,165.55171107126765,93.2669310423331,153.96118637977895,94.48565812971893,131.28355955988837,168.5938475172341,106.87348368792556,165.25989928803307,163.24792720631518,108.58641437743987,189.38804310401588,99.5220879109242,166.08622697771995,115.56894488958548,115.21591399720825,111.48394517202783,120.86683268024895,138.27147909872374,167.59499662157765]}];\n",
       " var layout_701445d821e520 = {\"height\":550,\"width\":600,\"title\":{\"text\":\"Histogram with axes\"},\"showlegend\":false,\"xaxis\":{\"title\":{\"text\":\"my x data\"},\"showgrid\":true,\"zeroline\":false,\"showline\":false},\"yaxis\":{\"title\":{\"text\":\"my y data\"},\"showgrid\":true,\"zeroline\":false,\"showline\":false}};\n",
       " var config_701445d821e520 = {\"responsive\":true,\"scrollZoom\":true,\"displaylogo\":false};\n",
       " Plotly.newPlot(\"graph_701445d821e520\", traces_701445d821e520, layout_701445d821e520, config_701445d821e520);\n",
       "</script>\n"
      ]
     },
     "metadata": {},
     "output_type": "display_data"
    }
   ],
   "source": [
    "val x = List.range(1, 100)\n",
    "val y = List.range(1, 100)\n",
    "val z = List.range(1, 100).map(e => e + scala.util.Random.nextDouble()*100)\n",
    "\n",
    "val data = XYZ(x, y, z, series_type = SCATTER3D)\n",
    "\n",
    "val chart = Chart() setData data setLayout layout\n",
    "\n",
    "chart.plot_inline()"
   ]
  },
  {
   "cell_type": "markdown",
   "metadata": {},
   "source": [
    "#### Surface Plot"
   ]
  },
  {
   "cell_type": "code",
   "execution_count": 21,
   "metadata": {
    "scrolled": false
   },
   "outputs": [
    {
     "data": {
      "text/html": [
       "\n",
       "<div align=\"center\">\n",
       "<div id='graph_a966002b32bd12' class='graph'></div>\n",
       "</div>\n",
       "<script>\n",
       " var traces_a966002b32bd12 = [{\"name\":\"98ef6fa\",\"type\":\"surface\",\"z\":[[8.83,8.89,8.81,8.87,8.9,8.87],[8.89,8.94,8.85,8.94,8.96,8.92],[8.84,8.9,8.82,8.92,8.93,8.91],[8.79,8.85,8.79,8.9,8.94,8.92],[8.79,8.88,8.81,8.9,8.95,8.92],[8.8,8.82,8.78,8.91,8.94,8.92],[8.75,8.78,8.77,8.91,8.95,8.92],[8.8,8.8,8.77,8.91,8.95,8.94],[8.74,8.81,8.76,8.93,8.98,8.99],[8.89,8.99,8.92,9.1,9.13,9.11],[8.97,8.97,8.91,9.09,9.11,9.11],[9.04,9.08,9.05,9.25,9.28,9.27],[9,9.01,9,9.2,9.23,9.2],[8.99,8.99,8.98,9.18,9.2,9.19],[8.93,8.97,8.97,9.18,9.2,9.18]]}];\n",
       " var layout_a966002b32bd12 = {\"height\":550,\"width\":600,\"title\":{\"text\":\"Surface Chart\"},\"showlegend\":false};\n",
       " var config_a966002b32bd12 = {\"responsive\":true,\"scrollZoom\":true,\"displaylogo\":false};\n",
       " Plotly.newPlot(\"graph_a966002b32bd12\", traces_a966002b32bd12, layout_a966002b32bd12, config_a966002b32bd12);\n",
       "</script>\n"
      ]
     },
     "metadata": {},
     "output_type": "display_data"
    }
   ],
   "source": [
    "// 3d surface plot\n",
    "val k = List(\n",
    "    List(8.83,8.89,8.81,8.87,8.9,8.87),\n",
    "    List(8.89,8.94,8.85,8.94,8.96,8.92),\n",
    "    List(8.84,8.9,8.82,8.92,8.93,8.91),\n",
    "    List(8.79,8.85,8.79,8.9,8.94,8.92),\n",
    "    List(8.79,8.88,8.81,8.9,8.95,8.92),\n",
    "    List(8.8,8.82,8.78,8.91,8.94,8.92),\n",
    "    List(8.75,8.78,8.77,8.91,8.95,8.92),\n",
    "    List(8.8,8.8,8.77,8.91,8.95,8.94),\n",
    "    List(8.74,8.81,8.76,8.93,8.98,8.99),\n",
    "    List(8.89,8.99,8.92,9.1,9.13,9.11),\n",
    "    List(8.97,8.97,8.91,9.09,9.11,9.11),\n",
    "    List(9.04,9.08,9.05,9.25,9.28,9.27),\n",
    "    List(9,9.01,9,9.2,9.23,9.2),\n",
    "    List(8.99,8.99,8.98,9.18,9.2,9.19),\n",
    "    List(8.93,8.97,8.97,9.18,9.2,9.18)\n",
    "  )\n",
    "\n",
    "val data = XYZ(k, series_type=SURFACE)\n",
    "\n",
    "val chart = Chart() setData data setLayout Layout(\"Surface Chart\")\n",
    "\n",
    "chart.plot_inline()"
   ]
  },
  {
   "cell_type": "markdown",
   "metadata": {
    "scrolled": false
   },
   "source": [
    "#### Third Dimension as Color"
   ]
  },
  {
   "cell_type": "code",
   "execution_count": 22,
   "metadata": {},
   "outputs": [
    {
     "data": {
      "text/html": [
       "\n",
       "<div align=\"center\">\n",
       "<div id='graph_f414e3ad8f39af' class='graph'></div>\n",
       "</div>\n",
       "<script>\n",
       " var traces_f414e3ad8f39af = [{\"name\":\"9e0f3c9\",\"type\":\"scatter\",\"mode\":\"markers\",\"marker\":{\"color\":[93.39909853462784,13.552610243714678,31.68412419316144,80.24997038955622,44.087591893573936,50.31383512547551,37.344355644783626,94.47759477100385,79.51406514550025,31.2332972958583,87.64818501744732,37.358082351866564,63.32414070650398,21.240183458966353,60.96800726382456,24.492530809245757,64.43464301928782,26.59366445096783,103.32202542821558,87.99409983815374,101.51521352219716,82.1030554999715,63.848452669564736,58.97054867788953,52.71696561815337,121.75985272692245,122.95137960663251,120.03518419700242,91.08826843569437,105.55083596465082,42.943166438225084,111.01575715439397,92.54350514155253,99.92839578895375,115.2464494597946,66.05041286324034,90.30140000981761,99.74635580522374,113.08215445586266,70.90428024303247,117.3853854674313,135.42650679227404,84.05820154908223,55.60990857170752,87.07911190039438,130.7031810576623,133.18684507959918,79.42914969462547,110.15615089341426,63.50015591124276,53.59688651804429,122.65378635299214,137.2535988204035,135.32625720713887,59.57028059826396,72.90658093108007,144.93510976990638,73.03304968418573,64.52092628190043,82.37404741477306,154.78969884448094,70.86000995579538,125.14672910882882,76.79675868440988,86.33838590060451,130.399651987717,142.2242863010705,117.06251362215107,96.5715746097404,71.44705878422529,168.3788462382377,149.8922292301137,151.61580052763162,167.65535255427085,123.65045957436648,135.3779786192672,109.32931645184364,107.50063301536356,160.79051651276325,106.02706799289493,165.55171107126765,93.2669310423331,153.96118637977895,94.48565812971893,131.28355955988837,168.5938475172341,106.87348368792556,165.25989928803307,163.24792720631518,108.58641437743987,189.38804310401588,99.5220879109242,166.08622697771995,115.56894488958548,115.21591399720825,111.48394517202783,120.86683268024895,138.27147909872374,167.59499662157765]},\"x\":[1,2,3,4,5,6,7,8,9,10,11,12,13,14,15,16,17,18,19,20,21,22,23,24,25,26,27,28,29,30,31,32,33,34,35,36,37,38,39,40,41,42,43,44,45,46,47,48,49,50,51,52,53,54,55,56,57,58,59,60,61,62,63,64,65,66,67,68,69,70,71,72,73,74,75,76,77,78,79,80,81,82,83,84,85,86,87,88,89,90,91,92,93,94,95,96,97,98,99],\"y\":[1,2,3,4,5,6,7,8,9,10,11,12,13,14,15,16,17,18,19,20,21,22,23,24,25,26,27,28,29,30,31,32,33,34,35,36,37,38,39,40,41,42,43,44,45,46,47,48,49,50,51,52,53,54,55,56,57,58,59,60,61,62,63,64,65,66,67,68,69,70,71,72,73,74,75,76,77,78,79,80,81,82,83,84,85,86,87,88,89,90,91,92,93,94,95,96,97,98,99]}];\n",
       " var layout_f414e3ad8f39af = {\"height\":550,\"width\":600,\"title\":{\"text\":\"Color2D.Basic\"},\"showlegend\":false};\n",
       " var config_f414e3ad8f39af = {\"responsive\":true,\"scrollZoom\":true,\"displaylogo\":false};\n",
       " Plotly.newPlot(\"graph_f414e3ad8f39af\", traces_f414e3ad8f39af, layout_f414e3ad8f39af, config_f414e3ad8f39af);\n",
       "</script>\n"
      ]
     },
     "metadata": {},
     "output_type": "display_data"
    }
   ],
   "source": [
    "// multiple compositions can be used to create scatter charts with a color representing some third dimension\n",
    "\n",
    "val marker = Marker() setColor z // we add the list of colors to the marker for each point\n",
    "\n",
    "val data = XY(x, y, series_type = SCATTER, series_mode = MARKERS) setMarker marker\n",
    "\n",
    "val chart = Chart() setLayout Layout(\"Color2D.Basic\") setData data\n",
    "\n",
    "chart.plot_inline()"
   ]
  },
  {
   "cell_type": "markdown",
   "metadata": {},
   "source": [
    "#### Subplot\n",
    "\n",
    "The Subplot class can be used to generate subplots for an XY plot. Currently 3D subplots are not supported."
   ]
  },
  {
   "cell_type": "code",
   "execution_count": 23,
   "metadata": {},
   "outputs": [
    {
     "data": {
      "text/html": [
       "\n",
       "<div align=\"center\">\n",
       "<div id='graph_8896b6d45ce10e' class='graph'></div>\n",
       "</div>\n",
       "<script>\n",
       " var traces_8896b6d45ce10e = [{\"name\":\"a\",\"type\":\"scatter\",\"mode\":\"markers\",\"x\":[1,2,3,4,5,6,7,8,9,10,11,12,13,14,15,16,17,18,19,20,21,22,23,24,25,26,27,28,29,30,31,32,33,34,35,36,37,38,39,40,41,42,43,44,45,46,47,48,49,50,51,52,53,54,55,56,57,58,59,60,61,62,63,64,65,66,67,68,69,70,71,72,73,74,75,76,77,78,79,80,81,82,83,84,85,86,87,88,89,90,91,92,93,94,95,96,97,98,99],\"y\":[1,2,3,4,5,6,7,8,9,10,11,12,13,14,15,16,17,18,19,20,21,22,23,24,25,26,27,28,29,30,31,32,33,34,35,36,37,38,39,40,41,42,43,44,45,46,47,48,49,50,51,52,53,54,55,56,57,58,59,60,61,62,63,64,65,66,67,68,69,70,71,72,73,74,75,76,77,78,79,80,81,82,83,84,85,86,87,88,89,90,91,92,93,94,95,96,97,98,99]},{\"name\":\"b\",\"type\":\"scatter\",\"mode\":\"markers\",\"xaxis\":\"x2\",\"yaxis\":\"y2\",\"x\":[1,2,3,4,5,6,7,8,9,10,11,12,13,14,15,16,17,18,19,20,21,22,23,24,25,26,27,28,29,30,31,32,33,34,35,36,37,38,39,40,41,42,43,44,45,46,47,48,49,50,51,52,53,54,55,56,57,58,59,60,61,62,63,64,65,66,67,68,69,70,71,72,73,74,75,76,77,78,79,80,81,82,83,84,85,86,87,88,89,90,91,92,93,94,95,96,97,98,99],\"y\":[93.39909853462784,13.552610243714678,31.68412419316144,80.24997038955622,44.087591893573936,50.31383512547551,37.344355644783626,94.47759477100385,79.51406514550025,31.2332972958583,87.64818501744732,37.358082351866564,63.32414070650398,21.240183458966353,60.96800726382456,24.492530809245757,64.43464301928782,26.59366445096783,103.32202542821558,87.99409983815374,101.51521352219716,82.1030554999715,63.848452669564736,58.97054867788953,52.71696561815337,121.75985272692245,122.95137960663251,120.03518419700242,91.08826843569437,105.55083596465082,42.943166438225084,111.01575715439397,92.54350514155253,99.92839578895375,115.2464494597946,66.05041286324034,90.30140000981761,99.74635580522374,113.08215445586266,70.90428024303247,117.3853854674313,135.42650679227404,84.05820154908223,55.60990857170752,87.07911190039438,130.7031810576623,133.18684507959918,79.42914969462547,110.15615089341426,63.50015591124276,53.59688651804429,122.65378635299214,137.2535988204035,135.32625720713887,59.57028059826396,72.90658093108007,144.93510976990638,73.03304968418573,64.52092628190043,82.37404741477306,154.78969884448094,70.86000995579538,125.14672910882882,76.79675868440988,86.33838590060451,130.399651987717,142.2242863010705,117.06251362215107,96.5715746097404,71.44705878422529,168.3788462382377,149.8922292301137,151.61580052763162,167.65535255427085,123.65045957436648,135.3779786192672,109.32931645184364,107.50063301536356,160.79051651276325,106.02706799289493,165.55171107126765,93.2669310423331,153.96118637977895,94.48565812971893,131.28355955988837,168.5938475172341,106.87348368792556,165.25989928803307,163.24792720631518,108.58641437743987,189.38804310401588,99.5220879109242,166.08622697771995,115.56894488958548,115.21591399720825,111.48394517202783,120.86683268024895,138.27147909872374,167.59499662157765]},{\"name\":\"b\",\"type\":\"scatter\",\"mode\":\"markers\",\"xaxis\":\"x3\",\"yaxis\":\"y3\",\"x\":[1,2,3,4,5,6,7,8,9,10,11,12,13,14,15,16,17,18,19,20,21,22,23,24,25,26,27,28,29,30,31,32,33,34,35,36,37,38,39,40,41,42,43,44,45,46,47,48,49,50,51,52,53,54,55,56,57,58,59,60,61,62,63,64,65,66,67,68,69,70,71,72,73,74,75,76,77,78,79,80,81,82,83,84,85,86,87,88,89,90,91,92,93,94,95,96,97,98,99],\"y\":[93.39909853462784,13.552610243714678,31.68412419316144,80.24997038955622,44.087591893573936,50.31383512547551,37.344355644783626,94.47759477100385,79.51406514550025,31.2332972958583,87.64818501744732,37.358082351866564,63.32414070650398,21.240183458966353,60.96800726382456,24.492530809245757,64.43464301928782,26.59366445096783,103.32202542821558,87.99409983815374,101.51521352219716,82.1030554999715,63.848452669564736,58.97054867788953,52.71696561815337,121.75985272692245,122.95137960663251,120.03518419700242,91.08826843569437,105.55083596465082,42.943166438225084,111.01575715439397,92.54350514155253,99.92839578895375,115.2464494597946,66.05041286324034,90.30140000981761,99.74635580522374,113.08215445586266,70.90428024303247,117.3853854674313,135.42650679227404,84.05820154908223,55.60990857170752,87.07911190039438,130.7031810576623,133.18684507959918,79.42914969462547,110.15615089341426,63.50015591124276,53.59688651804429,122.65378635299214,137.2535988204035,135.32625720713887,59.57028059826396,72.90658093108007,144.93510976990638,73.03304968418573,64.52092628190043,82.37404741477306,154.78969884448094,70.86000995579538,125.14672910882882,76.79675868440988,86.33838590060451,130.399651987717,142.2242863010705,117.06251362215107,96.5715746097404,71.44705878422529,168.3788462382377,149.8922292301137,151.61580052763162,167.65535255427085,123.65045957436648,135.3779786192672,109.32931645184364,107.50063301536356,160.79051651276325,106.02706799289493,165.55171107126765,93.2669310423331,153.96118637977895,94.48565812971893,131.28355955988837,168.5938475172341,106.87348368792556,165.25989928803307,163.24792720631518,108.58641437743987,189.38804310401588,99.5220879109242,166.08622697771995,115.56894488958548,115.21591399720825,111.48394517202783,120.86683268024895,138.27147909872374,167.59499662157765]},{\"name\":\"b\",\"type\":\"scatter\",\"mode\":\"markers\",\"xaxis\":\"x4\",\"yaxis\":\"y4\",\"x\":[1,2,3,4,5,6,7,8,9,10,11,12,13,14,15,16,17,18,19,20,21,22,23,24,25,26,27,28,29,30,31,32,33,34,35,36,37,38,39,40,41,42,43,44,45,46,47,48,49,50,51,52,53,54,55,56,57,58,59,60,61,62,63,64,65,66,67,68,69,70,71,72,73,74,75,76,77,78,79,80,81,82,83,84,85,86,87,88,89,90,91,92,93,94,95,96,97,98,99],\"y\":[93.39909853462784,13.552610243714678,31.68412419316144,80.24997038955622,44.087591893573936,50.31383512547551,37.344355644783626,94.47759477100385,79.51406514550025,31.2332972958583,87.64818501744732,37.358082351866564,63.32414070650398,21.240183458966353,60.96800726382456,24.492530809245757,64.43464301928782,26.59366445096783,103.32202542821558,87.99409983815374,101.51521352219716,82.1030554999715,63.848452669564736,58.97054867788953,52.71696561815337,121.75985272692245,122.95137960663251,120.03518419700242,91.08826843569437,105.55083596465082,42.943166438225084,111.01575715439397,92.54350514155253,99.92839578895375,115.2464494597946,66.05041286324034,90.30140000981761,99.74635580522374,113.08215445586266,70.90428024303247,117.3853854674313,135.42650679227404,84.05820154908223,55.60990857170752,87.07911190039438,130.7031810576623,133.18684507959918,79.42914969462547,110.15615089341426,63.50015591124276,53.59688651804429,122.65378635299214,137.2535988204035,135.32625720713887,59.57028059826396,72.90658093108007,144.93510976990638,73.03304968418573,64.52092628190043,82.37404741477306,154.78969884448094,70.86000995579538,125.14672910882882,76.79675868440988,86.33838590060451,130.399651987717,142.2242863010705,117.06251362215107,96.5715746097404,71.44705878422529,168.3788462382377,149.8922292301137,151.61580052763162,167.65535255427085,123.65045957436648,135.3779786192672,109.32931645184364,107.50063301536356,160.79051651276325,106.02706799289493,165.55171107126765,93.2669310423331,153.96118637977895,94.48565812971893,131.28355955988837,168.5938475172341,106.87348368792556,165.25989928803307,163.24792720631518,108.58641437743987,189.38804310401588,99.5220879109242,166.08622697771995,115.56894488958548,115.21591399720825,111.48394517202783,120.86683268024895,138.27147909872374,167.59499662157765]}];\n",
       " var layout_8896b6d45ce10e = {\"height\":550,\"width\":600,\"title\":{\"text\":\"Subplots\"},\"showlegend\":false,\"grid\":{\"rows\":2,\"columns\":2,\"pattern\":\"independent\"},\"xaxis\":{\"title\":{\"text\":\"x axis 1\"},\"showgrid\":true,\"zeroline\":false,\"showline\":false},\"xaxis2\":{\"title\":{\"text\":\"x axis 2\"},\"showgrid\":true,\"zeroline\":false,\"showline\":false},\"xaxis3\":{\"title\":{\"text\":\"x axis 3\"},\"showgrid\":true,\"zeroline\":false,\"showline\":false},\"xaxis4\":{\"title\":{\"text\":\"x axis 4\"},\"showgrid\":true,\"zeroline\":false,\"showline\":false},\"yaxis\":{\"title\":{\"text\":\"y axis 1\"},\"showgrid\":true,\"zeroline\":false,\"showline\":false},\"yaxis2\":{\"title\":{\"text\":\"y axis 2\"},\"showgrid\":true,\"zeroline\":false,\"showline\":false},\"yaxis3\":{\"title\":{\"text\":\"y axis 3\"},\"showgrid\":true,\"zeroline\":false,\"showline\":false},\"yaxis4\":{\"title\":{\"text\":\"y axis 4\"},\"showgrid\":true,\"zeroline\":false,\"showline\":false}};\n",
       " var config_8896b6d45ce10e = {\"responsive\":true,\"scrollZoom\":true,\"displaylogo\":false};\n",
       " Plotly.newPlot(\"graph_8896b6d45ce10e\", traces_8896b6d45ce10e, layout_8896b6d45ce10e, config_8896b6d45ce10e);\n",
       "</script>\n"
      ]
     },
     "metadata": {},
     "output_type": "display_data"
    }
   ],
   "source": [
    "import picta.options.Subplot\n",
    "\n",
    "// 1. first we define the grid layout - 1 row, 2 columns\n",
    "val grid = Subplot(2, 2) // rename to subplot\n",
    "\n",
    "// 2. Now define the axes titles; two axis titles for each plot\n",
    "val ax1 = Axis(\"x\", title = \"x axis 1\")\n",
    "val ax2 = Axis(\"x2\", title = \"x axis 2\")\n",
    "val ax3 = Axis(\"x3\", title = \"x axis 3\")\n",
    "val ax4 = Axis(\"x4\", title = \"x axis 4\")\n",
    "val ax6 = Axis(\"y\", title = \"y axis 1\")\n",
    "val ax7 = Axis(\"y2\", title = \"y axis 2\")\n",
    "val ax8 = Axis(\"y3\", title = \"y axis 3\")\n",
    "val ax9 = Axis(\"y4\", title = \"y axis 4\")\n",
    "\n",
    "// 3. define the traces - notice how the axis maps to the xaxis and yaxis keys below:\n",
    "val data1 = XY(x, y, series_name=\"a\", series_type=SCATTER, series_mode=MARKERS)\n",
    "val data2 = XY(x, z, series_name=\"b\", series_type=SCATTER, series_mode=MARKERS, xaxis=\"x2\", yaxis=\"y2\")\n",
    "val data3 = XY(x, z, series_name=\"b\", series_type=SCATTER, series_mode=MARKERS, xaxis=\"x3\", yaxis=\"y3\")\n",
    "val data4 = XY(x, z, series_name=\"b\", series_type=SCATTER, series_mode=MARKERS, xaxis=\"x4\", yaxis=\"y4\")\n",
    "\n",
    "// 4. combine the axis and grid into a single layout component\n",
    "val layout = Layout(\"Subplots\") setAxes List(ax1, ax2, ax3, ax4, ax6, ax7, ax8, ax9) setSubplot grid\n",
    "\n",
    "// 5. construct into a chart. We do not need to put the series into a single list, but this is done as an example here\n",
    "val chart = Chart() setData List(data1, data2, data3, data4) setLayout layout\n",
    "\n",
    "chart.plot_inline()"
   ]
  },
  {
   "cell_type": "markdown",
   "metadata": {},
   "source": [
    "#### Map\n",
    "\n",
    "We can also create maps using the composition technique below."
   ]
  },
  {
   "cell_type": "code",
   "execution_count": 24,
   "metadata": {},
   "outputs": [
    {
     "data": {
      "text/html": [
       "\n",
       "<div align=\"center\">\n",
       "<div id='graph_44ba961d0bb6f7' class='graph'></div>\n",
       "</div>\n",
       "<script>\n",
       " var traces_44ba961d0bb6f7 = [{\"lat\":[40.7127,51.5072],\"lon\":[-74.0059,0.1275],\"type\":\"scattergeo\",\"mode\":\"lines\",\"line\":{\"width\":2,\"color\":\"red\"}}];\n",
       " var layout_44ba961d0bb6f7 = {\"height\":550,\"width\":600,\"showlegend\":false,\"geo\":{\"resolution\":50,\"showland\":true,\"showlakes\":true,\"coastlinewidth\":2,\"landcolor\":\"rgb(204, 204, 204)\",\"lakecolor\":\"rgb(255, 255, 255)\",\"lataxis\":{\"range\":[20,60],\"showgrid\":true,\"dtick\":10},\"lonaxis\":{\"range\":[-100,20],\"showgrid\":true,\"dtick\":10}}};\n",
       " var config_44ba961d0bb6f7 = {\"responsive\":true,\"scrollZoom\":true,\"displaylogo\":false};\n",
       " Plotly.newPlot(\"graph_44ba961d0bb6f7\", traces_44ba961d0bb6f7, layout_44ba961d0bb6f7, config_44ba961d0bb6f7);\n",
       "</script>\n"
      ]
     },
     "metadata": {},
     "output_type": "display_data"
    }
   ],
   "source": [
    "import picta.options.Geo\n",
    "import picta.options.MapAxis\n",
    "import picta.options.LatAxis\n",
    "import picta.options.LongAxis\n",
    "import picta.series.Map\n",
    "\n",
    "val line = Line() setWidth 2 setColor \"red\"\n",
    "\n",
    "val data = Map(lat=List(40.7127, 51.5072), lon=List(-74.0059, 0.1275), series_mode = LINES) setLine line\n",
    "\n",
    "val geo = Geo(landcolor = \"rgb(204, 204, 204)\", lakecolor=\"rgb(255, 255, 255)\") setAxes(LatAxis(List(20, 60)), LongAxis(List(-100, 20)))  \n",
    "\n",
    "val layout = Layout() setGeo geo\n",
    "\n",
    "val chart = Chart() setData data setLayout layout\n",
    "\n",
    "chart.plot_inline()"
   ]
  },
  {
   "cell_type": "markdown",
   "metadata": {},
   "source": [
    "#### Animated Chart"
   ]
  },
  {
   "cell_type": "code",
   "execution_count": 25,
   "metadata": {},
   "outputs": [],
   "source": [
    "import picta.series.{XYSeries, XYZSeries}\n",
    "\n",
    "// creates random XY for testing purposes\n",
    "def createXYSeries(numberToCreate: Int, count: Int = 0, length: Int = 10, xaxis: String = \"x\", yaxis: String = \"y\"): List[XYSeries] = {\n",
    "    if (count == numberToCreate) Nil\n",
    "    else {\n",
    "      val xs = List.range(0, length)\n",
    "      val ys = xs.map(x => scala.util.Random.nextDouble() * x)\n",
    "      val trace = XY(x=xs, y = ys, series_name = \"trace\" + count, xaxis=xaxis, yaxis=yaxis)\n",
    "      trace :: createXYSeries(numberToCreate, count + 1, length, xaxis, yaxis)\n",
    "    }\n",
    "}\n",
    "\n",
    "def createXYZSeries(numberToCreate: Int, count: Int = 0, length: Int = 10, xaxis: String =\"x\", yaxis: String =\"y\"): List[XYZSeries] = {\n",
    "    if (count == numberToCreate) Nil\n",
    "    else {\n",
    "      val xs = List.range(0, length)\n",
    "      val ys = xs.map(x => scala.util.Random.nextDouble() * x)\n",
    "      val zs = xs.map(x => scala.util.Random.nextDouble() * x * scala.util.Random.nextInt())\n",
    "      val trace = XYZ(x=xs, y=ys, z=zs, series_name = \"trace\" + count, series_type = SCATTER3D, xaxis=xaxis, yaxis=yaxis)\n",
    "      trace :: createXYZSeries(numberToCreate, count + 1, length, xaxis, yaxis)\n",
    "    }\n",
    "}"
   ]
  },
  {
   "cell_type": "code",
   "execution_count": 26,
   "metadata": {
    "scrolled": false
   },
   "outputs": [
    {
     "data": {
      "text/html": [
       "\n",
       "<style>#animationInterface {\n",
       "    margin-top: 50px;\n",
       "    margin-bottom: 50px;\n",
       "}\n",
       "\n",
       ".progressBar {\n",
       "    padding-top: 20px;\n",
       "    padding-bottom: 20px;\n",
       "}\n",
       "\n",
       ".inline-div {\n",
       "    display: block;\n",
       "    text-align: center;\n",
       "}\n",
       "\n",
       "h3 {\n",
       "    display: inline-block;\n",
       "    text-align: center;\n",
       "}</style>\n",
       "<div align=\"center\">\n",
       "<div id='graph_c02da9631bb8c5' class=\"graph\"></div>\n",
       "<div class='animationInterface'>\n",
       "<button id='play_c02da9631bb8c5'>Play</button>\n",
       "<button id='pause_c02da9631bb8c5'>Pause</button>\n",
       "<div id=\"sliderContainer_c02da9631bb8c5\" class='progressBar'></div>\n",
       "<div>\n",
       "<div>\n",
       "   <div id='counterContainer_c02da9631bb8c5' class='inline-div'>\n",
       "      <h3>Frame: </h3><h3 id=\"value_c02da9631bb8c5\">0</h3>\n",
       "   </div>\n",
       "</div>\n",
       "</div>\n",
       "\n",
       "<script>\n",
       "//var graph_id = 'graph_c02da9631bb8c5'\n",
       "var graph_c02da9631bb8c5 = document.getElementById('graph_c02da9631bb8c5')\n",
       "var traces_c02da9631bb8c5 = [{\"name\":\"trace0\",\"type\":\"scatter\",\"xaxis\":\"x\",\"yaxis\":\"y\",\"x\":[0,1,2,3,4,5,6,7,8,9,10,11,12,13,14,15,16,17,18,19,20,21,22,23,24,25,26,27,28,29],\"y\":[0,0.7063555237505335,1.4113925846673523,1.8504299372195154,2.1766871172261237,0.7206420080354498,0.11133081392466826,1.7416063764497043,6.278106089328076,2.010915235048607,4.469963038557701,0.3810108591602218,4.671088146190719,7.621937943264811,1.7738629005636675,0.8316553278638961,7.092235428665601,14.183729190199607,6.121907575450355,2.4422642383676365,6.726743227709216,9.680150218115745,8.211612806881165,7.993911027435854,14.742694828146867,4.962002157330978,23.275844922868025,2.574219175819824,21.216290839550254,25.109419128454206]}]\n",
       "var layout_c02da9631bb8c5 = {\"height\":550,\"width\":600,\"title\":{\"text\":\"Animation.XY\"},\"showlegend\":false,\"xaxis\":{\"title\":{\"text\":\"X Variable\"},\"showgrid\":true,\"zeroline\":false,\"showline\":false,\"range\":[0,10]},\"yaxis\":{\"title\":{\"text\":\"Y Variable\"},\"showgrid\":true,\"zeroline\":false,\"showline\":false,\"range\":[0,10]}}\n",
       "var frames_c02da9631bb8c5 = [{\"name\":\"trace0\",\"data\":[{\"name\":\"trace0\",\"type\":\"scatter\",\"xaxis\":\"x\",\"yaxis\":\"y\",\"x\":[0,1,2,3,4,5,6,7,8,9,10,11,12,13,14,15,16,17,18,19,20,21,22,23,24,25,26,27,28,29],\"y\":[0,0.7063555237505335,1.4113925846673523,1.8504299372195154,2.1766871172261237,0.7206420080354498,0.11133081392466826,1.7416063764497043,6.278106089328076,2.010915235048607,4.469963038557701,0.3810108591602218,4.671088146190719,7.621937943264811,1.7738629005636675,0.8316553278638961,7.092235428665601,14.183729190199607,6.121907575450355,2.4422642383676365,6.726743227709216,9.680150218115745,8.211612806881165,7.993911027435854,14.742694828146867,4.962002157330978,23.275844922868025,2.574219175819824,21.216290839550254,25.109419128454206]}]},{\"name\":\"trace1\",\"data\":[{\"name\":\"trace1\",\"type\":\"scatter\",\"xaxis\":\"x\",\"yaxis\":\"y\",\"x\":[0,1,2,3,4,5,6,7,8,9,10,11,12,13,14,15,16,17,18,19,20,21,22,23,24,25,26,27,28,29],\"y\":[0,0.7623873147844318,0.6971247551744277,2.4701958013434124,3.279180078782755,2.5119419848960636,5.6533506754402865,3.974814090595574,0.18946087333489636,3.2498915531786845,9.765704534927375,9.16657465188684,3.4853806269504153,0.3387817620936565,3.038168140789958,12.065871758187045,11.28237245988607,4.4541571219942035,10.12972264609118,13.132842901650193,2.3274338171568343,17.229719367488396,11.450843994523108,22.312245969510002,12.508353873040388,6.045885292662242,7.524664004270263,1.3475199183175142,7.031407691110756,14.633228174861829]}]},{\"name\":\"trace2\",\"data\":[{\"name\":\"trace2\",\"type\":\"scatter\",\"xaxis\":\"x\",\"yaxis\":\"y\",\"x\":[0,1,2,3,4,5,6,7,8,9,10,11,12,13,14,15,16,17,18,19,20,21,22,23,24,25,26,27,28,29],\"y\":[0,0.9890015242014634,0.6806134199115756,2.7549888661419346,0.6577734499857866,0.7923569335076375,2.1595279002636407,0.04380605632162671,0.1896043447886866,3.8127659544060615,5.630373663653278,4.153040005601653,8.374329621353258,6.487813531352409,5.592547355006912,11.265179279496518,12.266703154686141,10.564793037248625,5.984123472184203,6.821936906553423,8.824803080532854,12.191334154432845,9.180245803001272,21.49180232036369,17.759209964706848,11.235504675936037,7.450980063883223,9.781578218082341,14.97656502214365,1.865583297161086]}]},{\"name\":\"trace3\",\"data\":[{\"name\":\"trace3\",\"type\":\"scatter\",\"xaxis\":\"x\",\"yaxis\":\"y\",\"x\":[0,1,2,3,4,5,6,7,8,9,10,11,12,13,14,15,16,17,18,19,20,21,22,23,24,25,26,27,28,29],\"y\":[0,0.8659378332720102,0.36589739314441894,1.2528200651053756,3.7384593051671122,1.4373501482336626,3.942516649856425,4.539022507099148,2.1689032229831913,5.603223414948112,4.479085080911107,2.66822217482127,11.868509735344764,6.1654889248087414,0.28265957036765044,5.779634821809417,13.035208273877437,8.514786761731058,4.981394330480948,2.8728562768659938,4.712130572083968,5.280361558557452,6.770210821570262,8.267911168053507,16.7931687480324,0.12821761150569322,17.806272262152973,12.851856565067589,21.65129359847703,10.466539129967906]}]},{\"name\":\"trace4\",\"data\":[{\"name\":\"trace4\",\"type\":\"scatter\",\"xaxis\":\"x\",\"yaxis\":\"y\",\"x\":[0,1,2,3,4,5,6,7,8,9,10,11,12,13,14,15,16,17,18,19,20,21,22,23,24,25,26,27,28,29],\"y\":[0,0.900527801560934,0.188588792115729,1.0815893274381843,0.8872851420128738,1.711505056615978,4.236379941782316,6.0855587137056615,2.9166014051179303,6.816955438374827,7.576733203879495,8.68053656353356,7.540312849657949,6.4813286738233185,8.667054990399354,6.461803883507503,1.7562836115319573,15.467572232739588,3.11791440428906,0.7076482399526898,3.1828578185901124,12.39352854817924,9.246202594382112,0.3028427188665672,0.16073447802613572,23.555455562505152,14.48840115326701,24.0904554504494,2.5469464443320318,12.404751628483025]}]},{\"name\":\"trace5\",\"data\":[{\"name\":\"trace5\",\"type\":\"scatter\",\"xaxis\":\"x\",\"yaxis\":\"y\",\"x\":[0,1,2,3,4,5,6,7,8,9,10,11,12,13,14,15,16,17,18,19,20,21,22,23,24,25,26,27,28,29],\"y\":[0,0.4526421636201694,0.426509166547548,0.46934393943322683,0.8027274023612976,3.3867927406710137,1.1147429137539362,0.35512390697779495,3.6306602392857616,4.035439951653206,3.412800995045032,9.339288975865433,10.206658273404152,12.512992984515519,1.7957997232018883,9.552970344717542,3.345608892490043,14.645375317659049,0.5258839097985788,8.13584458648067,1.7679179693203073,20.573208866228452,4.557692617110861,12.8468940077381,22.966881987563823,10.780331592167192,15.91798250961369,8.022790642345267,25.551304371029985,13.937155851558124]}]},{\"name\":\"trace6\",\"data\":[{\"name\":\"trace6\",\"type\":\"scatter\",\"xaxis\":\"x\",\"yaxis\":\"y\",\"x\":[0,1,2,3,4,5,6,7,8,9,10,11,12,13,14,15,16,17,18,19,20,21,22,23,24,25,26,27,28,29],\"y\":[0,0.13679693786406533,1.8040380713000637,0.8150868689752833,0.13738974574294094,3.3938805783699335,5.888519190454661,0.18157780977775873,1.2198839151798238,8.040341136028562,4.03727103066812,8.38904650327879,4.7653576313712716,10.506162122578406,3.146379289766861,14.150856074124286,4.897253371730718,5.988930449339086,12.191448483665665,13.24445962954106,15.786509390876468,3.5303547792845276,17.155665078426367,10.196601023751537,1.284639599795561,17.276803872461784,13.442976587961693,21.588162969114055,8.186238381371334,20.12129331779223]}]},{\"name\":\"trace7\",\"data\":[{\"name\":\"trace7\",\"type\":\"scatter\",\"xaxis\":\"x\",\"yaxis\":\"y\",\"x\":[0,1,2,3,4,5,6,7,8,9,10,11,12,13,14,15,16,17,18,19,20,21,22,23,24,25,26,27,28,29],\"y\":[0,0.6303813183513369,1.6631839221577351,2.378243691625479,3.4954825197087116,4.890426572520542,1.8339446971553874,0.8575349861991403,1.6880116805782412,3.5910981510054336,4.86694369216094,5.4926855669811525,4.431705239612203,11.998491460786678,8.215020259603047,13.70019833759176,4.266095688502453,7.6758552906641455,3.796873006119803,2.2338952820929254,1.5543830741285358,19.235561835147923,14.317945301419707,9.526531287884117,22.873878881520753,23.16726884283591,22.836836463250258,12.897868126131707,4.452685475640119,27.93023867311927]}]},{\"name\":\"trace8\",\"data\":[{\"name\":\"trace8\",\"type\":\"scatter\",\"xaxis\":\"x\",\"yaxis\":\"y\",\"x\":[0,1,2,3,4,5,6,7,8,9,10,11,12,13,14,15,16,17,18,19,20,21,22,23,24,25,26,27,28,29],\"y\":[0,0.2002047780829178,0.7137685245173424,1.132078745609393,1.203228822521078,0.48018904086608194,1.0429932868717091,4.298296231900088,2.333211845017507,6.844548115805583,3.0868364708314298,0.9375018487657831,2.0804651462685477,3.1486593540465657,2.2824092619367136,1.227126295737781,15.18517411282137,16.296828299349972,7.045541891676445,18.07198416708672,14.564740237726358,20.19530258835947,18.125206034948025,12.094164785069866,16.226176857460793,23.562013093287245,24.175240993871427,12.129944123954033,10.280164264570807,10.282292302727912]}]},{\"name\":\"trace9\",\"data\":[{\"name\":\"trace9\",\"type\":\"scatter\",\"xaxis\":\"x\",\"yaxis\":\"y\",\"x\":[0,1,2,3,4,5,6,7,8,9,10,11,12,13,14,15,16,17,18,19,20,21,22,23,24,25,26,27,28,29],\"y\":[0,0.6116308198782836,1.9074431151504454,1.28851344921044,0.6726315502082567,1.9151456910311322,4.749822051068846,4.62870900677289,6.957255407331232,6.394177716937167,5.531105868033706,5.974057673809474,1.1204421384864314,5.614145687898459,5.609074188180685,14.337691043819275,4.1178064245592925,5.988060603687812,8.929066063636578,11.88945578443819,12.209613326605073,15.248638208284584,21.452303536552762,11.45703268673388,3.897737010539191,19.872800600261435,13.805944112615144,19.034182901927462,0.7686599786874839,27.237960577147696]}]},{\"name\":\"trace10\",\"data\":[{\"name\":\"trace10\",\"type\":\"scatter\",\"xaxis\":\"x\",\"yaxis\":\"y\",\"x\":[0,1,2,3,4,5,6,7,8,9,10,11,12,13,14,15,16,17,18,19,20,21,22,23,24,25,26,27,28,29],\"y\":[0,0.044727600447361016,0.649663164412823,2.4710980212557554,0.07572473454999518,2.68719081420477,0.3386356792250318,4.443877378539608,4.608150900115394,6.03366609710115,3.1778276415648623,1.5769637832981829,4.48665511504076,5.298995344079615,11.03892144489905,12.862152902812504,6.285350699365388,15.303933631549823,12.526914630493135,18.560026801803193,9.048122369380687,2.2294679656863066,7.672589318405827,4.716101993781509,22.70195592270047,5.082943747962288,23.314458864792705,19.806464523865042,15.024393522233487,22.16253566290884]}]},{\"name\":\"trace11\",\"data\":[{\"name\":\"trace11\",\"type\":\"scatter\",\"xaxis\":\"x\",\"yaxis\":\"y\",\"x\":[0,1,2,3,4,5,6,7,8,9,10,11,12,13,14,15,16,17,18,19,20,21,22,23,24,25,26,27,28,29],\"y\":[0,0.8712552230191378,0.20813711247869326,0.44708518987451007,1.9047794975970982,4.303279756938893,4.831426620268164,3.2845119247104324,1.8047314894655697,3.567444864747241,8.446409516773777,8.53986125897162,6.143584590978303,3.12386554999656,6.127330169430781,12.569826877130335,4.430431998158806,1.9493145403637102,8.88179470518364,18.56790446070904,5.093559881158994,15.680589310068086,16.38136079984239,22.381089436698936,12.29094653083564,13.413372201434065,10.602706300896447,25.51025210229291,10.095752125021418,23.945375800998896]}]},{\"name\":\"trace12\",\"data\":[{\"name\":\"trace12\",\"type\":\"scatter\",\"xaxis\":\"x\",\"yaxis\":\"y\",\"x\":[0,1,2,3,4,5,6,7,8,9,10,11,12,13,14,15,16,17,18,19,20,21,22,23,24,25,26,27,28,29],\"y\":[0,0.4779322302484047,1.7272650777818888,0.4620597909887485,1.489742834037827,4.934411707818124,1.7208770182276412,1.4738004321441522,5.313176943600139,4.109645532197563,6.128643582702072,4.483464501397604,2.729400680386654,3.3280312773152314,9.546752555622135,2.052664516367115,12.075469191478536,11.46313663237595,10.903210336225486,15.251336187354278,9.962882774973655,4.127971190323161,18.764178992841785,15.41669607776596,17.765895679780332,7.591079806349121,20.924770189930413,11.188332697552818,1.291944907478706,22.0327534997744]}]},{\"name\":\"trace13\",\"data\":[{\"name\":\"trace13\",\"type\":\"scatter\",\"xaxis\":\"x\",\"yaxis\":\"y\",\"x\":[0,1,2,3,4,5,6,7,8,9,10,11,12,13,14,15,16,17,18,19,20,21,22,23,24,25,26,27,28,29],\"y\":[0,0.010163860106381706,1.241094445138495,2.800408560160714,0.5407211644998755,1.3402383544089247,0.06795908639465087,4.809796959580127,2.3402824413374725,7.938463799228157,4.766336366996637,8.41621865853082,9.975333527930227,4.353911819931092,7.898230828148962,6.205687424288236,2.270539395402942,6.5113056986944295,15.095794666704434,3.2750551203795046,14.826180764206056,2.7354251080186898,5.233221853827915,9.001679456588917,5.1492224670958135,22.312573490866384,6.168537984531275,1.3732739021108031,8.30775417210095,4.430266635819677]}]},{\"name\":\"trace14\",\"data\":[{\"name\":\"trace14\",\"type\":\"scatter\",\"xaxis\":\"x\",\"yaxis\":\"y\",\"x\":[0,1,2,3,4,5,6,7,8,9,10,11,12,13,14,15,16,17,18,19,20,21,22,23,24,25,26,27,28,29],\"y\":[0,0.8830287599883049,0.11147441425913818,2.7367177449117364,2.331372420847035,3.1624053374721544,0.6203712645097657,4.573405659037894,2.8280224368221996,4.758965914880453,3.8308259104594033,10.43314061996821,3.2087761690541003,8.980724982371164,5.068057838255529,7.073378742939078,14.796099096332126,3.9878007762299426,7.010358119117307,15.194838569666032,2.66402304293877,6.57953126617992,12.62815720978665,21.346225547550176,9.881794617752561,4.606924501195819,20.25814338134729,23.314967931121906,19.688489289169727,19.307969194139528]}]},{\"name\":\"trace15\",\"data\":[{\"name\":\"trace15\",\"type\":\"scatter\",\"xaxis\":\"x\",\"yaxis\":\"y\",\"x\":[0,1,2,3,4,5,6,7,8,9,10,11,12,13,14,15,16,17,18,19,20,21,22,23,24,25,26,27,28,29],\"y\":[0,0.011442511803546829,1.616287997781186,0.07724240792456782,3.47691365086972,1.6253861239213658,1.9030717129871955,2.9781199055013743,4.105148353330963,3.1239023310756124,2.351939554417765,5.851566973718756,4.05813803825489,4.4409999844195065,0.9677518025794065,12.115777510797063,15.948019543354672,11.689673131579392,15.840179773612816,5.467329794869914,9.078643746823289,12.289698446927348,15.15657320910111,8.351448566683098,4.155638387392268,22.794092761782213,17.422297805072336,5.482967638073443,24.16798695498608,21.975727497419346]}]},{\"name\":\"trace16\",\"data\":[{\"name\":\"trace16\",\"type\":\"scatter\",\"xaxis\":\"x\",\"yaxis\":\"y\",\"x\":[0,1,2,3,4,5,6,7,8,9,10,11,12,13,14,15,16,17,18,19,20,21,22,23,24,25,26,27,28,29],\"y\":[0,0.9695532821056059,0.2815129727672685,2.3127900520732574,2.813873323781217,4.517341734566813,1.6432321082399544,6.587961472051368,7.575792816249879,6.266228109091261,6.344265212877074,9.585312954880356,8.449257251942345,3.8823062925564047,8.591541393946805,13.437086499171494,0.5878695536973737,7.898204485613303,9.5426126348057,11.976765340467098,0.43959869549743624,18.47559043355493,10.893264063947534,15.445333061857065,2.1613611720595243,17.05458312300966,7.589197664332799,5.24571534702104,26.52957795717657,15.851296940165586]}]},{\"name\":\"trace17\",\"data\":[{\"name\":\"trace17\",\"type\":\"scatter\",\"xaxis\":\"x\",\"yaxis\":\"y\",\"x\":[0,1,2,3,4,5,6,7,8,9,10,11,12,13,14,15,16,17,18,19,20,21,22,23,24,25,26,27,28,29],\"y\":[0,0.1429589863161519,1.890805326090614,0.8262337359470951,0.27099456292868496,2.788599765703576,2.157616016200272,0.10183871744540407,4.878858679918377,3.0027196318464258,8.113977080251734,8.7642112336636,4.707159028277438,4.821329112976283,13.683924870606301,1.5519241102523078,6.043535953268377,10.910237123768576,14.610146294550468,10.111988591402573,14.042260092092073,3.660075573706984,16.15950351278717,10.53247230752153,15.649525600781985,8.273172095740522,16.409694126547954,21.194406371569332,3.4184662207755836,1.4170795444863329]}]},{\"name\":\"trace18\",\"data\":[{\"name\":\"trace18\",\"type\":\"scatter\",\"xaxis\":\"x\",\"yaxis\":\"y\",\"x\":[0,1,2,3,4,5,6,7,8,9,10,11,12,13,14,15,16,17,18,19,20,21,22,23,24,25,26,27,28,29],\"y\":[0,0.5005267557022384,1.911453507184341,2.6965591010660015,2.6326153729801627,3.8042364815112695,1.370596356478188,6.436244718318646,7.886944890860216,6.0161386650321,8.395545222606989,2.0678826940740986,3.20547858624843,9.507524945890202,10.452028712281109,0.006955875884058216,10.39725105671089,3.988014899144832,14.342878086245202,6.662346499134315,2.722164348698062,8.406051186403987,8.585848044829795,2.7941061622388013,5.131227170981819,6.5864983875660945,3.6757699125363903,0.8729423282971914,20.82925792042427,18.835734264748446]}]},{\"name\":\"trace19\",\"data\":[{\"name\":\"trace19\",\"type\":\"scatter\",\"xaxis\":\"x\",\"yaxis\":\"y\",\"x\":[0,1,2,3,4,5,6,7,8,9,10,11,12,13,14,15,16,17,18,19,20,21,22,23,24,25,26,27,28,29],\"y\":[0,0.9215734031292991,0.9338034554591783,1.5096324987093142,3.725684903773346,1.9318688829976653,2.646954808890198,0.6274028029822268,6.256241616550617,1.3515209993959971,8.32895122695702,2.905216913959407,3.253771523613258,10.182424540243316,10.361230223851358,1.3736144753608959,5.1529676916063405,9.572061048870605,2.726954833288133,11.105693360387166,11.441252419708658,6.884971328113555,15.779318511334745,5.1668795669135115,1.254749566860733,3.7924167135856,19.208546560125285,6.344724827098383,16.97256834813469,15.88632214752515]}]},{\"name\":\"trace20\",\"data\":[{\"name\":\"trace20\",\"type\":\"scatter\",\"xaxis\":\"x\",\"yaxis\":\"y\",\"x\":[0,1,2,3,4,5,6,7,8,9,10,11,12,13,14,15,16,17,18,19,20,21,22,23,24,25,26,27,28,29],\"y\":[0,0.2769424480714259,0.3142500753547248,2.0821500524118064,1.9851176963063484,1.807420298078165,2.5976533378345303,6.065309107147628,3.5907809437385936,2.554922573419846,9.077706342319294,9.519364916775148,1.0575758649177027,10.636137879896335,7.451740770023596,10.85422063402072,0.43600324504143195,4.090772498222586,5.185688124471481,7.547270640137927,9.12231003541644,10.308099535661812,15.953539279101493,10.513282637070416,8.197158822958116,10.60599648289532,10.875448197748842,0.6099459859553454,5.370031797688913,4.692490988312805]}]},{\"name\":\"trace21\",\"data\":[{\"name\":\"trace21\",\"type\":\"scatter\",\"xaxis\":\"x\",\"yaxis\":\"y\",\"x\":[0,1,2,3,4,5,6,7,8,9,10,11,12,13,14,15,16,17,18,19,20,21,22,23,24,25,26,27,28,29],\"y\":[0,0.3089660565023693,0.8150173702457151,1.5035152215587377,0.9327036333936896,0.980972028847098,3.2126239887562686,5.015433096633928,2.622238795908922,1.521811473783182,1.9080039976101992,9.30767210431468,1.4672942736459693,10.756915723426578,0.2988899771321163,11.150418689804193,12.69796953546127,15.635541845478041,15.270260794668907,14.21183861265285,9.771839849914507,10.812204761349847,0.8553831911683591,19.02675488914799,15.23167421525325,12.357360949004958,6.214824797501051,11.562278364457468,12.130746432079155,0.5776722687053621]}]},{\"name\":\"trace22\",\"data\":[{\"name\":\"trace22\",\"type\":\"scatter\",\"xaxis\":\"x\",\"yaxis\":\"y\",\"x\":[0,1,2,3,4,5,6,7,8,9,10,11,12,13,14,15,16,17,18,19,20,21,22,23,24,25,26,27,28,29],\"y\":[0,0.08719376919446231,0.01634749050179307,0.040341239148679486,3.3930798303766316,0.241893080221241,0.13720319579115126,6.782039998117675,5.481675307517223,6.835525992615634,5.770407457094363,6.733104884246574,6.252103681470521,1.7093967571994586,11.857104433323395,0.3089205311703841,6.082471202841395,14.90623729871485,4.367474780373242,15.585890661592188,12.953104188093414,1.552747446966778,18.081925253543456,22.746059794301356,2.02836504935616,8.601753437851153,8.372102469697932,16.510831156988242,19.52957491217514,19.519108378760244]}]},{\"name\":\"trace23\",\"data\":[{\"name\":\"trace23\",\"type\":\"scatter\",\"xaxis\":\"x\",\"yaxis\":\"y\",\"x\":[0,1,2,3,4,5,6,7,8,9,10,11,12,13,14,15,16,17,18,19,20,21,22,23,24,25,26,27,28,29],\"y\":[0,0.6577297609104462,0.6012827164075571,2.885162529811939,0.004597575690636457,2.4066661765504205,1.4643048150567826,5.926256248825126,7.878771603053729,2.4890725142134897,5.7870579367060095,2.1751796271456265,1.7589695120782802,2.2133462003902773,12.279836092405043,14.54273625350636,3.604893851866642,16.5954843692251,0.6388704905701552,14.410483086825284,16.14154939453577,18.762183277320336,14.206315415385316,11.595915573041205,20.89680348575631,14.780534327785993,24.5769958062293,7.001805252894581,27.656825092827866,5.536846090766586]}]},{\"name\":\"trace24\",\"data\":[{\"name\":\"trace24\",\"type\":\"scatter\",\"xaxis\":\"x\",\"yaxis\":\"y\",\"x\":[0,1,2,3,4,5,6,7,8,9,10,11,12,13,14,15,16,17,18,19,20,21,22,23,24,25,26,27,28,29],\"y\":[0,0.8495608071780855,1.3365880587765013,1.885656760816528,3.6890729607203245,2.7329905019415657,3.1702241449203523,5.331279666753945,6.908815590056886,5.2680390253098555,7.957673945510695,4.07167237031376,5.571846382284617,6.1126558843772125,2.35393262851784,13.412093721815832,12.316038515525829,9.120093643794954,3.4285335898562774,6.612162221089971,17.543175303093154,3.340651345068161,2.831135542850497,8.236274356049817,3.3894888610921097,8.358475189727042,20.32779275706017,18.355095280931998,23.770086586672882,2.884115322097464]}]},{\"name\":\"trace25\",\"data\":[{\"name\":\"trace25\",\"type\":\"scatter\",\"xaxis\":\"x\",\"yaxis\":\"y\",\"x\":[0,1,2,3,4,5,6,7,8,9,10,11,12,13,14,15,16,17,18,19,20,21,22,23,24,25,26,27,28,29],\"y\":[0,0.8687552490068696,0.34592421015037833,1.1997602074177487,3.335673713772343,0.01799942158934864,1.1667369333030466,3.968857378099712,2.754470173167822,4.397531633217122,9.233555638457844,5.775529288229669,10.262071730148385,12.99383866446838,7.542353317102711,3.2019990559161227,5.607446853189453,9.844624803977128,9.389523273805064,9.069349821347709,15.649057662952604,15.482396847007305,21.104665929032663,19.75658246127173,18.883789101457907,4.139824377466367,1.6262632887808246,8.22534908517173,11.09536304384232,9.774594278741688]}]},{\"name\":\"trace26\",\"data\":[{\"name\":\"trace26\",\"type\":\"scatter\",\"xaxis\":\"x\",\"yaxis\":\"y\",\"x\":[0,1,2,3,4,5,6,7,8,9,10,11,12,13,14,15,16,17,18,19,20,21,22,23,24,25,26,27,28,29],\"y\":[0,0.7901327349520985,1.8372744766648268,2.4876418179725777,0.3313455536598,1.3243349529297177,1.0458557990784245,4.780733436638429,4.589794506919392,1.0375845105243218,9.716118194001865,5.373143193112391,9.170196576305415,7.238312039820097,0.5652726733028879,2.644821219867082,8.479171511258464,16.61787940732719,11.528344907165915,12.99959765440101,5.140069946511863,5.83441820826446,15.742307246316207,17.66229918080471,21.502564983042962,16.90204350467961,20.074241077577334,6.236512217796888,21.551640999686374,8.247174336083113]}]},{\"name\":\"trace27\",\"data\":[{\"name\":\"trace27\",\"type\":\"scatter\",\"xaxis\":\"x\",\"yaxis\":\"y\",\"x\":[0,1,2,3,4,5,6,7,8,9,10,11,12,13,14,15,16,17,18,19,20,21,22,23,24,25,26,27,28,29],\"y\":[0,0.7570716450144762,0.14375053032818053,2.991366158525703,3.221501773246471,1.7422647294861326,1.9073764344754114,6.1647705212449875,4.754638988678611,0.8621941531476787,4.929598726511374,3.349833963042595,9.596854030988428,8.26191188349851,3.8941402757188963,7.676557156052802,11.381572833504997,3.1723185443386464,9.544310392733836,3.6402810764265734,2.6862769426986355,10.524056941946814,3.0965076935584737,20.390648875127496,4.699166813124096,10.297771219160834,13.167880116933675,20.096156045879503,5.878547720577412,26.521592761261054]}]},{\"name\":\"trace28\",\"data\":[{\"name\":\"trace28\",\"type\":\"scatter\",\"xaxis\":\"x\",\"yaxis\":\"y\",\"x\":[0,1,2,3,4,5,6,7,8,9,10,11,12,13,14,15,16,17,18,19,20,21,22,23,24,25,26,27,28,29],\"y\":[0,0.20655036581742214,0.19688821261599743,2.6506186627059107,0.3859757507512458,3.585327098937397,4.415624487267429,4.119547168392468,3.3499630940357434,3.836496785052062,1.1797249068539584,1.655943743138204,7.5831092351733425,2.231152174121001,6.070225091383663,14.382759460009527,9.364613966108013,12.25515059117014,17.380692656549893,16.218020647832947,1.5844269626328455,7.979033625356738,5.249435880052422,13.185780663555633,20.825893847386027,14.675069763526405,25.694396223044397,15.233977266901494,19.91134354036239,1.2146630819351842]}]},{\"name\":\"trace29\",\"data\":[{\"name\":\"trace29\",\"type\":\"scatter\",\"xaxis\":\"x\",\"yaxis\":\"y\",\"x\":[0,1,2,3,4,5,6,7,8,9,10,11,12,13,14,15,16,17,18,19,20,21,22,23,24,25,26,27,28,29],\"y\":[0,0.7531868736476878,1.399789198651451,0.7571096157973606,0.029735611381474847,1.486779842963868,4.444273817484127,0.8282325023001504,4.7853934577210016,5.771145557084655,9.193242236263766,3.522999239458027,6.968898056057228,5.655981083021451,6.128758635393373,12.460856793135594,4.674191664943589,16.97612306527312,17.285859200117105,15.662668746126782,2.860807610794427,1.0554962484992387,10.93014935883983,14.438187775435386,1.9558794561207007,9.112975592410066,10.453783936963001,3.2314757477292986,20.56405359741722,25.17715117781302]}]},{\"name\":\"trace30\",\"data\":[{\"name\":\"trace30\",\"type\":\"scatter\",\"xaxis\":\"x\",\"yaxis\":\"y\",\"x\":[0,1,2,3,4,5,6,7,8,9,10,11,12,13,14,15,16,17,18,19,20,21,22,23,24,25,26,27,28,29],\"y\":[0,0.16971115493575517,1.423104070833073,1.3258691163453973,2.066385324338821,1.4294770034890936,1.6316574224424991,2.4803772940523587,7.841007462481725,5.685929913878755,9.257994271950167,9.04513531849223,8.533992333125811,12.584774253698756,8.008505779946725,10.004295720000062,14.328413655657728,14.900767516877051,8.22727190585314,7.837692292805077,0.18941664379931167,17.455197826330625,12.78017212373154,10.630419964067567,11.191494938193486,7.4202329778454565,4.518446116347588,4.811312225246704,27.05559820284067,1.5703618027595523]}]},{\"name\":\"trace31\",\"data\":[{\"name\":\"trace31\",\"type\":\"scatter\",\"xaxis\":\"x\",\"yaxis\":\"y\",\"x\":[0,1,2,3,4,5,6,7,8,9,10,11,12,13,14,15,16,17,18,19,20,21,22,23,24,25,26,27,28,29],\"y\":[0,0.7906050867236478,0.42278351973187744,1.1388616678724572,2.853284155628557,0.3270923124802516,3.959817437093035,3.7699769179402285,7.212466012841553,5.156332904337732,1.6391507797381555,3.208234193439668,2.2142660363102733,2.7950382988906344,9.20717861982916,11.383129189213834,10.040530287175638,6.690766260592618,9.87542968445638,0.713780263188775,15.428281652614611,17.479487191743893,2.13750000784996,9.864995513924615,14.847335888519243,15.003148004546905,22.549380843168123,26.77016286258706,8.963261464250825,9.458304794405038]}]},{\"name\":\"trace32\",\"data\":[{\"name\":\"trace32\",\"type\":\"scatter\",\"xaxis\":\"x\",\"yaxis\":\"y\",\"x\":[0,1,2,3,4,5,6,7,8,9,10,11,12,13,14,15,16,17,18,19,20,21,22,23,24,25,26,27,28,29],\"y\":[0,0.411087011316125,1.3813806534322572,2.8410896356605546,1.646010898709962,4.263661574622311,1.4460604196702442,4.053952855022912,3.3937799870057885,4.894103548430363,6.292443063935593,2.990485225724272,5.6742314465231605,4.243106208002957,4.314515800629676,6.966195970702823,7.332591027149643,5.31882345763024,12.088255738520788,17.905401102570238,15.388799677517957,1.672286194205919,4.139666366433562,22.318283120735817,0.5474690068196049,13.57399822541428,22.169957569606083,1.693634297261241,24.043231277541395,22.459378589363947]}]},{\"name\":\"trace33\",\"data\":[{\"name\":\"trace33\",\"type\":\"scatter\",\"xaxis\":\"x\",\"yaxis\":\"y\",\"x\":[0,1,2,3,4,5,6,7,8,9,10,11,12,13,14,15,16,17,18,19,20,21,22,23,24,25,26,27,28,29],\"y\":[0,0.5475817932936835,0.10486542378071317,1.6031406601909508,3.6901433090311193,3.3843710283371204,3.3346637817190308,1.5943563668711271,5.591742872337884,4.869976365072324,5.9567818852314245,3.5363941766067413,9.494705210004033,5.952747474881181,8.782365302465887,14.99067862054521,7.757924158669416,13.959485680929967,13.732576682566402,18.585557350837192,14.19052875077256,13.042923544313558,6.153394957230773,22.056432705820644,8.854429501988381,24.391375693293835,24.637392785589615,3.9521700281850936,17.96220740634061,1.4286928035224404]}]},{\"name\":\"trace34\",\"data\":[{\"name\":\"trace34\",\"type\":\"scatter\",\"xaxis\":\"x\",\"yaxis\":\"y\",\"x\":[0,1,2,3,4,5,6,7,8,9,10,11,12,13,14,15,16,17,18,19,20,21,22,23,24,25,26,27,28,29],\"y\":[0,0.6325626552227759,1.3585495672313335,2.034111260701612,2.8607103865159695,1.065933090732496,3.2185461315656414,6.080560997213029,2.011977810637049,3.414221709087167,2.1821615446650444,1.0253758065469507,0.054392121925129544,10.565146049759496,6.396164654514483,14.452611755908613,13.524384262512113,11.897121003697869,3.4755471133284592,8.272379460923524,10.7208659892766,12.13830035065594,16.944614366295607,3.859701815482475,22.106300429996764,5.642230935678361,13.846649941959248,1.09969240839431,15.992707411740732,9.260696129086588]}]},{\"name\":\"trace35\",\"data\":[{\"name\":\"trace35\",\"type\":\"scatter\",\"xaxis\":\"x\",\"yaxis\":\"y\",\"x\":[0,1,2,3,4,5,6,7,8,9,10,11,12,13,14,15,16,17,18,19,20,21,22,23,24,25,26,27,28,29],\"y\":[0,0.12230971200979779,1.7867084686295942,0.5777880562483999,2.6824816274768546,2.841661974552844,2.5073429677418657,0.37802602314896416,0.5351522261629524,0.3164595713759176,8.29870832008384,4.91028638916998,1.5609931216323565,2.504655213230111,4.5725757247838,8.461977304623025,12.93708174656115,14.186996337946042,0.9060604471295699,5.388352570937163,9.75690963938862,18.91734868320469,14.762491918011635,9.376467136094943,2.3576403580547582,11.283022099298273,17.569247820148775,18.279502868115546,15.505598352434687,7.4782474868902575]}]},{\"name\":\"trace36\",\"data\":[{\"name\":\"trace36\",\"type\":\"scatter\",\"xaxis\":\"x\",\"yaxis\":\"y\",\"x\":[0,1,2,3,4,5,6,7,8,9,10,11,12,13,14,15,16,17,18,19,20,21,22,23,24,25,26,27,28,29],\"y\":[0,0.5587103746156815,1.8124640159345753,0.6612770953090009,3.59326194261048,3.4357949190458874,5.071830723718659,1.7745631888603373,2.1148212100777464,0.9246613985243938,0.7923320761310504,7.025569163832426,11.898488864028991,1.433898263505595,9.657678240095006,1.401556100091248,2.1621264880406414,11.266231651130893,13.889212967094664,18.390435294818968,6.594420532044034,13.943597153397048,11.810196241161947,1.1176116968577312,20.50480500759934,12.041933874862663,15.506643214095927,11.372702154801766,26.227133412528527,7.559676179523793]}]},{\"name\":\"trace37\",\"data\":[{\"name\":\"trace37\",\"type\":\"scatter\",\"xaxis\":\"x\",\"yaxis\":\"y\",\"x\":[0,1,2,3,4,5,6,7,8,9,10,11,12,13,14,15,16,17,18,19,20,21,22,23,24,25,26,27,28,29],\"y\":[0,0.7256109464531115,0.432855923982739,1.0129756076682053,3.8108533036621517,4.604347253825663,1.9987034147518936,1.1932366755925723,7.152093403249541,3.3459907956317623,8.023647078630361,7.884646648750234,2.8423604182722726,8.660454697699084,9.829285128908161,1.851135498657472,0.804934392079419,1.3213471474790195,3.6441916662890317,17.484226942784105,17.88255169488842,20.98761327088931,14.130157313601325,15.00878181556374,9.756029258870054,24.780224195628044,17.679578016950174,0.8319013929018751,14.507200833265628,8.935055589920676]}]},{\"name\":\"trace38\",\"data\":[{\"name\":\"trace38\",\"type\":\"scatter\",\"xaxis\":\"x\",\"yaxis\":\"y\",\"x\":[0,1,2,3,4,5,6,7,8,9,10,11,12,13,14,15,16,17,18,19,20,21,22,23,24,25,26,27,28,29],\"y\":[0,0.22817488796055485,0.577909891021748,2.7155175050175764,1.6830954557466544,4.575896551570667,2.729233917324982,6.665983345152231,5.988448972421278,8.857356355702619,5.180314322038765,9.168050617361978,9.156052932844942,8.932083238397404,8.662106356143976,6.817444622941866,5.400941066750999,1.4830609415742482,8.739862935882451,8.31045919219467,1.036891337696355,6.463346747013679,10.490663175302316,10.148244829217187,18.636131657572832,1.2497784169477943,2.5548484167568906,11.246512952024226,0.3762092511204491,7.2265982854549495]}]},{\"name\":\"trace39\",\"data\":[{\"name\":\"trace39\",\"type\":\"scatter\",\"xaxis\":\"x\",\"yaxis\":\"y\",\"x\":[0,1,2,3,4,5,6,7,8,9,10,11,12,13,14,15,16,17,18,19,20,21,22,23,24,25,26,27,28,29],\"y\":[0,0.07384494347230042,1.9548089449729784,1.6143757057282684,1.6776948664576063,1.1345634035435614,4.756530010854863,2.7698315207598294,7.233150467149479,8.616522254551777,7.228220151070049,5.204346058425232,1.0847676303667746,9.619205557267893,0.6983822318873112,9.152939514159533,4.586316942234426,13.013677659091202,1.4388193568350223,9.135819625764885,17.28864835977848,14.813462344047819,16.703029925762213,14.730976055476328,22.87461201546323,1.7442952900430768,14.521973407022806,26.645490973306163,23.367878105032275,3.8198568587814075]}]},{\"name\":\"trace40\",\"data\":[{\"name\":\"trace40\",\"type\":\"scatter\",\"xaxis\":\"x\",\"yaxis\":\"y\",\"x\":[0,1,2,3,4,5,6,7,8,9,10,11,12,13,14,15,16,17,18,19,20,21,22,23,24,25,26,27,28,29],\"y\":[0,0.2913494604979099,0.6056234561416398,0.33506105112751616,2.1301789871739905,2.5478929655362577,1.126339781769286,6.6273865702184995,1.0073104496858232,0.3473650748917023,8.332110407250418,5.562638309871489,8.334072236786582,12.36755056896391,7.938230562639052,8.289046674320925,15.654564048873954,8.676467228568038,1.8494958905333592,2.1164933491332456,11.253535502961434,19.7205799871359,8.234851996255713,3.15738806656583,0.11890440212338671,12.798282348727898,13.485486460143814,15.209546673121952,8.684767949951095,14.920785799929055]}]},{\"name\":\"trace41\",\"data\":[{\"name\":\"trace41\",\"type\":\"scatter\",\"xaxis\":\"x\",\"yaxis\":\"y\",\"x\":[0,1,2,3,4,5,6,7,8,9,10,11,12,13,14,15,16,17,18,19,20,21,22,23,24,25,26,27,28,29],\"y\":[0,0.8571228973035532,1.9198514899481833,1.5578531854305924,0.6275404059715517,0.9824977256380418,2.614341268416566,5.077352205448198,7.819405096961655,2.2743619645334965,0.6284134502500183,8.996454643048569,0.8506599781339816,4.630152040703489,0.6385146063216085,13.765514428212766,10.364851637916649,8.700407221952169,13.770681237487823,13.521460523534387,15.936374253000478,6.925164912109533,16.856786065541787,17.963320421167822,11.871300000517172,11.063394336859897,9.764202785257984,12.928837671586102,0.32551303338962745,11.301507246342705]}]},{\"name\":\"trace42\",\"data\":[{\"name\":\"trace42\",\"type\":\"scatter\",\"xaxis\":\"x\",\"yaxis\":\"y\",\"x\":[0,1,2,3,4,5,6,7,8,9,10,11,12,13,14,15,16,17,18,19,20,21,22,23,24,25,26,27,28,29],\"y\":[0,0.4457826985380844,1.805397839349101,0.8108692810652703,1.7627586636230301,4.9977485396902415,3.308499185533271,4.794696914672606,7.5383976023654125,1.667437993839269,6.6977190777227955,6.8327594166060175,0.2632217233822134,3.0104212580768204,3.458056028378805,14.549180487470691,6.952725391914255,8.869872894494158,3.3806119735967206,5.808820849973768,5.330631796494492,20.157361389582515,6.240975496271712,9.40497730760204,3.9232705740100835,19.70445780631791,5.735564304295913,20.68577532260989,25.632999662963076,14.372085079394324]}]},{\"name\":\"trace43\",\"data\":[{\"name\":\"trace43\",\"type\":\"scatter\",\"xaxis\":\"x\",\"yaxis\":\"y\",\"x\":[0,1,2,3,4,5,6,7,8,9,10,11,12,13,14,15,16,17,18,19,20,21,22,23,24,25,26,27,28,29],\"y\":[0,0.9440536943280864,1.971478332285347,1.3378072264618788,3.4396750312602653,1.4993935134256131,3.859545064826313,1.752208433319657,5.0272179699486195,8.691607115501792,5.916170661734027,7.8061403709068635,5.907663031482939,5.505244880935401,5.23819687076578,5.422783514436488,8.756529118486855,4.641634089579607,6.824859569398504,5.313085925779724,17.167381314117844,20.779324960643656,21.322886673161193,18.280206064989986,5.534275507594496,14.073647345606902,2.9987061882377177,6.288320608802883,15.02903805745237,26.678312156351467]}]},{\"name\":\"trace44\",\"data\":[{\"name\":\"trace44\",\"type\":\"scatter\",\"xaxis\":\"x\",\"yaxis\":\"y\",\"x\":[0,1,2,3,4,5,6,7,8,9,10,11,12,13,14,15,16,17,18,19,20,21,22,23,24,25,26,27,28,29],\"y\":[0,0.5987629522257232,0.7459044179800238,2.8092802758787303,2.6144400099937517,1.8670574059793799,2.608373687468138,4.687281892219459,0.0427174872806102,2.145963030760005,2.847098324454873,1.7567465634000743,2.730150550368496,7.701845350020678,1.6450527597902076,11.735725469669664,13.916647500942897,3.1069359938094525,12.928143263871537,12.711054125120398,1.794451892650919,0.8360186767170714,1.2805673665304325,3.5406046218655085,5.478335564070964,4.303416256590392,22.74045433369297,15.04009027489222,14.453936621419142,4.542465950363441]}]},{\"name\":\"trace45\",\"data\":[{\"name\":\"trace45\",\"type\":\"scatter\",\"xaxis\":\"x\",\"yaxis\":\"y\",\"x\":[0,1,2,3,4,5,6,7,8,9,10,11,12,13,14,15,16,17,18,19,20,21,22,23,24,25,26,27,28,29],\"y\":[0,0.864128179403151,0.06268341696298418,2.525318234587993,2.192224069469882,0.14776353096591033,2.6698014239528822,6.094676495758492,7.974916642266135,6.229970958958429,6.71849437203135,6.891957791266258,7.373532991766938,0.9117113339100235,3.763532388348872,7.570268413479155,0.18260963323932877,11.532537766194674,5.673590450092831,2.3406707801089,6.4402461702540625,6.334798160145326,12.142912610568864,4.575361395157702,1.7903578692375186,8.616483526979549,19.67923364008916,9.063435472809658,2.521743251193529,8.195527656785309]}]},{\"name\":\"trace46\",\"data\":[{\"name\":\"trace46\",\"type\":\"scatter\",\"xaxis\":\"x\",\"yaxis\":\"y\",\"x\":[0,1,2,3,4,5,6,7,8,9,10,11,12,13,14,15,16,17,18,19,20,21,22,23,24,25,26,27,28,29],\"y\":[0,0.8982851388824764,0.8329933582392348,1.315995484881678,1.8068716427393348,2.396990278823588,4.642646942122983,5.085562901014281,6.239975719573878,1.8449966339898491,1.0391551753290895,3.4472296861464025,7.309929198339132,3.5108565917541985,8.419806507604797,5.743025207373113,3.6783490749826733,11.011232291622726,0.581029864571583,5.818981602065854,9.991704802104493,18.33554347204977,5.309517166179522,13.05856429115745,20.64011640616342,4.190895654676699,12.856558307082919,19.73475691239769,10.23923631342857,27.2402068256023]}]},{\"name\":\"trace47\",\"data\":[{\"name\":\"trace47\",\"type\":\"scatter\",\"xaxis\":\"x\",\"yaxis\":\"y\",\"x\":[0,1,2,3,4,5,6,7,8,9,10,11,12,13,14,15,16,17,18,19,20,21,22,23,24,25,26,27,28,29],\"y\":[0,0.5824819202249472,1.066256846735067,2.6175253821738247,2.634959275633254,1.7237207602106737,3.502616134272298,2.8165393867230923,0.384388117460448,4.575775438770656,5.725891844503951,3.9529221033267334,6.449510205313748,5.273984456904389,13.571127042670039,14.465386720878755,0.9815898588308674,1.9813345069273414,8.839699520263169,2.9752879300684976,5.583644343100889,14.31119423833812,8.178381084678477,10.231081286742672,10.424604063319268,21.9932619815674,20.787086725886006,2.3326056490348526,24.237022404313247,0.713368481992666]}]},{\"name\":\"trace48\",\"data\":[{\"name\":\"trace48\",\"type\":\"scatter\",\"xaxis\":\"x\",\"yaxis\":\"y\",\"x\":[0,1,2,3,4,5,6,7,8,9,10,11,12,13,14,15,16,17,18,19,20,21,22,23,24,25,26,27,28,29],\"y\":[0,0.4191127137638694,0.1448791751925791,0.9784418482934037,3.660079036830192,2.9902665047127934,3.274447309202601,2.633588939043367,6.3039985753244006,7.397149294289152,5.404383425659855,2.443648181950252,5.260107913629046,4.851156450773393,8.248707423623692,4.688488617593524,11.272554626158948,7.509529462183371,15.02003114369997,6.1329466508235635,6.386065780830917,15.820180574766768,4.194673523166104,11.423373050075236,11.203864441915101,12.053837642703193,24.427358414247593,18.31422882901661,19.054772004866354,22.947630696633112]}]},{\"name\":\"trace49\",\"data\":[{\"name\":\"trace49\",\"type\":\"scatter\",\"xaxis\":\"x\",\"yaxis\":\"y\",\"x\":[0,1,2,3,4,5,6,7,8,9,10,11,12,13,14,15,16,17,18,19,20,21,22,23,24,25,26,27,28,29],\"y\":[0,0.6491590838390802,1.47662872814616,1.846186611162204,3.5213824317582723,3.674502967623783,1.9118574975256966,6.8324938171179035,6.9071344818931175,8.109820991262662,4.433952399753802,2.2478472416362316,2.6640775937140404,9.334034520598411,2.1360174832668584,13.997271964955086,9.55310612246954,10.917836595985584,7.75744417092078,11.752553442550406,4.553435014609313,0.7637129927552209,3.045729195975289,14.957158300120925,21.44107601805447,5.7003374827691635,15.160488914914943,22.141288714675436,3.6526617096614755,20.162783346844183]}]}]\n",
       "var labels_c02da9631bb8c5 = [\"trace0\",\"trace1\",\"trace2\",\"trace3\",\"trace4\",\"trace5\",\"trace6\",\"trace7\",\"trace8\",\"trace9\",\"trace10\",\"trace11\",\"trace12\",\"trace13\",\"trace14\",\"trace15\",\"trace16\",\"trace17\",\"trace18\",\"trace19\",\"trace20\",\"trace21\",\"trace22\",\"trace23\",\"trace24\",\"trace25\",\"trace26\",\"trace27\",\"trace28\",\"trace29\",\"trace30\",\"trace31\",\"trace32\",\"trace33\",\"trace34\",\"trace35\",\"trace36\",\"trace37\",\"trace38\",\"trace39\",\"trace40\",\"trace41\",\"trace42\",\"trace43\",\"trace44\",\"trace45\",\"trace46\",\"trace47\",\"trace48\",\"trace49\"]\n",
       "var duration_c02da9631bb8c5 = 100\n",
       "\n",
       "var animation_settings_c02da9631bb8c5 = {\n",
       "    mode: \"immediate\",\n",
       "    direction: {},\n",
       "    fromcurrent: true,\n",
       "    frame: [\n",
       "      {duration: duration_c02da9631bb8c5},\n",
       "      {duration: duration_c02da9631bb8c5},\n",
       "      {redraw: true}\n",
       "    ],\n",
       "    transition: [\n",
       "      {duration: duration_c02da9631bb8c5, easing: 'cubic-in-out'},\n",
       "      {duration: duration_c02da9631bb8c5, easing: 'cubic-in-out'},\n",
       "    ],\n",
       "    ordering: \"layout first\"\n",
       "}\n",
       "\n",
       "var slider_c02da9631bb8c5 = document.createElement(\"input\")\n",
       "var play_c02da9631bb8c5 = document.getElementById(\"play_c02da9631bb8c5\")\n",
       "var pause_c02da9631bb8c5 = document.getElementById(\"pause_c02da9631bb8c5\")\n",
       "slider_c02da9631bb8c5.id = \"slider_c02da9631bb8c5\"\n",
       "slider_c02da9631bb8c5.type = \"range\"\n",
       "slider_c02da9631bb8c5.min = 0\n",
       "slider_c02da9631bb8c5.max = frames_c02da9631bb8c5.length - 1\n",
       "slider_c02da9631bb8c5.value = 0\n",
       "document.getElementById(\"sliderContainer_c02da9631bb8c5\").appendChild(slider_c02da9631bb8c5);\n",
       "\n",
       "Plotly.newPlot(graph_c02da9631bb8c5, traces_c02da9631bb8c5, layout_c02da9631bb8c5)\n",
       ".then(function () { Plotly.addFrames(graph_c02da9631bb8c5, frames_c02da9631bb8c5) })\n",
       "\n",
       "var trigger_c02da9631bb8c5 = true\n",
       "var reset_count_c02da9631bb8c5 = false\n",
       "\n",
       "\n",
       "play_c02da9631bb8c5.addEventListener('click', function() {\n",
       "   trigger_c02da9631bb8c5 = true\n",
       "   if (reset_count_c02da9631bb8c5) {\n",
       "      slider_c02da9631bb8c5.value = 0\n",
       "      reset_count_c02da9631bb8c5 = false\n",
       "   }\n",
       "\n",
       "  const start_index = slider_c02da9631bb8c5.value == labels_c02da9631bb8c5.length - 1 ? 0 : slider_c02da9631bb8c5.value\n",
       "  const end_index = labels_c02da9631bb8c5.length\n",
       "  Plotly.animate(graph_c02da9631bb8c5, labels_c02da9631bb8c5.slice(start_index, end_index), animation_settings_c02da9631bb8c5)\n",
       "})\n",
       "\n",
       "pause_c02da9631bb8c5.addEventListener('click', function() {\n",
       "  Plotly.animate(graph_c02da9631bb8c5, [null], animation_settings_c02da9631bb8c5)\n",
       "})\n",
       "\n",
       "graph_c02da9631bb8c5.on('plotly_redraw', () => {\n",
       "   value_c02da9631bb8c5.innerHTML = slider_c02da9631bb8c5.value;\n",
       "   if (trigger_c02da9631bb8c5 & !reset_count_c02da9631bb8c5) ++slider_c02da9631bb8c5.value\n",
       "   if (slider_c02da9631bb8c5.value == labels_c02da9631bb8c5.length - 1) reset_count_c02da9631bb8c5 = true\n",
       "});\n",
       "\n",
       "slider_c02da9631bb8c5.oninput = function() {\n",
       "   Plotly.animate(graph_c02da9631bb8c5, frames_c02da9631bb8c5[this.value], animation_settings_c02da9631bb8c5)\n",
       "   trigger_c02da9631bb8c5 = false\n",
       "   slider_c02da9631bb8c5.value = this.value\n",
       "   value_c02da9631bb8c5.innerHTML = this.value;\n",
       "   if (this.value == 0) reset_count_c02da9631bb8c5 = false\n",
       "   if (this.value == labels_c02da9631bb8c5.length - 1) reset_count_c02da9631bb8c5 = true\n",
       "   reset_count_c02da9631bb8c5 = false\n",
       "}\n",
       "</script>\n"
      ]
     },
     "metadata": {},
     "output_type": "display_data"
    }
   ],
   "source": [
    "val xaxis = Axis(position = \"xaxis\", title = \"X Variable\", range = (0.0, 10.0))\n",
    "\n",
    "val yaxis = Axis(position = \"yaxis\", title = \"Y Variable\", range = (0.0, 10.0))\n",
    "\n",
    "val layout = Layout(\"Animation.XY\") setAxes(xaxis, yaxis)\n",
    "\n",
    "val data = createXYSeries(numberToCreate = 50, length = 30)\n",
    "\n",
    "val chart = Chart(animated = true) setLayout layout setData data\n",
    "\n",
    "chart.plot_inline()"
   ]
  },
  {
   "cell_type": "code",
   "execution_count": 27,
   "metadata": {},
   "outputs": [
    {
     "data": {
      "text/html": [
       "\n",
       "<style>#animationInterface {\n",
       "    margin-top: 50px;\n",
       "    margin-bottom: 50px;\n",
       "}\n",
       "\n",
       ".progressBar {\n",
       "    padding-top: 20px;\n",
       "    padding-bottom: 20px;\n",
       "}\n",
       "\n",
       ".inline-div {\n",
       "    display: block;\n",
       "    text-align: center;\n",
       "}\n",
       "\n",
       "h3 {\n",
       "    display: inline-block;\n",
       "    text-align: center;\n",
       "}</style>\n",
       "<div align=\"center\">\n",
       "<div id='graph_cb1e1d1cabc575' class=\"graph\"></div>\n",
       "<div class='animationInterface'>\n",
       "<button id='play_cb1e1d1cabc575'>Play</button>\n",
       "<button id='pause_cb1e1d1cabc575'>Pause</button>\n",
       "<div id=\"sliderContainer_cb1e1d1cabc575\" class='progressBar'></div>\n",
       "<div>\n",
       "<div>\n",
       "   <div id='counterContainer_cb1e1d1cabc575' class='inline-div'>\n",
       "      <h3>Frame: </h3><h3 id=\"value_cb1e1d1cabc575\">0</h3>\n",
       "   </div>\n",
       "</div>\n",
       "</div>\n",
       "\n",
       "<script>\n",
       "//var graph_id = 'graph_cb1e1d1cabc575'\n",
       "var graph_cb1e1d1cabc575 = document.getElementById('graph_cb1e1d1cabc575')\n",
       "var traces_cb1e1d1cabc575 = [{\"name\":\"trace0\",\"type\":\"scatter3d\",\"xaxis\":\"x\",\"yaxis\":\"y\",\"x\":[0,1,2,3,4,5,6,7,8,9],\"y\":[0,0.02990519463455865,0.3467582748999629,0.47569027630274785,3.053275388830773,3.22409057981522,1.3579484246412086,6.699440468744619,5.907985150277134,7.365921707957309],\"z\":[0,4.14689311861087E8,-9.973399436296589E8,-2.5922044377399125E9,1.318318631170583E9,-3.673750769022189E9,-3.6661784450387034E9,-3.8124409546739483E9,1.1552318500583418E10,-1.6470774130242496E9]}]\n",
       "var layout_cb1e1d1cabc575 = {\"height\":550,\"width\":600,\"title\":{\"text\":\"Animation.XYZ\"},\"showlegend\":false}\n",
       "var frames_cb1e1d1cabc575 = [{\"name\":\"trace0\",\"data\":[{\"name\":\"trace0\",\"type\":\"scatter3d\",\"xaxis\":\"x\",\"yaxis\":\"y\",\"x\":[0,1,2,3,4,5,6,7,8,9],\"y\":[0,0.02990519463455865,0.3467582748999629,0.47569027630274785,3.053275388830773,3.22409057981522,1.3579484246412086,6.699440468744619,5.907985150277134,7.365921707957309],\"z\":[0,4.14689311861087E8,-9.973399436296589E8,-2.5922044377399125E9,1.318318631170583E9,-3.673750769022189E9,-3.6661784450387034E9,-3.8124409546739483E9,1.1552318500583418E10,-1.6470774130242496E9]}]},{\"name\":\"trace1\",\"data\":[{\"name\":\"trace1\",\"type\":\"scatter3d\",\"xaxis\":\"x\",\"yaxis\":\"y\",\"x\":[0,1,2,3,4,5,6,7,8,9],\"y\":[0,0.800691936750147,0.9835137509360672,2.1260366936821717,1.1766305401899682,1.1044744565871079,2.7967998440728925,6.144912928343804,7.416383363347917,4.137593961084759],\"z\":[0,3.1989307769524676E8,-8.546643910377141E8,-4.093989024360727E9,-4.693144789037857E9,1.0594460569913605E9,7.126091484788071E9,-5.155560485603996E8,-8.276499776285805E8,-3.857325061355107E9]}]},{\"name\":\"trace2\",\"data\":[{\"name\":\"trace2\",\"type\":\"scatter3d\",\"xaxis\":\"x\",\"yaxis\":\"y\",\"x\":[0,1,2,3,4,5,6,7,8,9],\"y\":[0,0.840386632355457,1.159132030997452,2.665677652994235,3.362399096779947,2.458705297639635,3.620355154828321,5.710608246796123,3.690792128666483,5.855523881534135],\"z\":[0,9.025214117813504E8,3.458505618263133E8,1.2572593880921793E8,-2.900553271913437E8,-4.378785744932967E8,9.385376430803373E7,7.505653955375344E9,-3.723454278009725E9,9.18082090017654E9]}]},{\"name\":\"trace3\",\"data\":[{\"name\":\"trace3\",\"type\":\"scatter3d\",\"xaxis\":\"x\",\"yaxis\":\"y\",\"x\":[0,1,2,3,4,5,6,7,8,9],\"y\":[0,0.270578036306668,0.4891581225662742,1.0874342820155527,3.3779188167503515,0.7660885142782276,5.244510438293058,4.827501308303201,7.158216095224419,7.504430591164774],\"z\":[0,-1.2516123848203669E9,-2.873245186110866E9,5.63571600398712E9,2.3052060254149694E9,-5.844659015174384E9,6.177832381504312E9,-9.19805493907171E9,4.743056164694733E9,-2.0487078644184606E9]}]},{\"name\":\"trace4\",\"data\":[{\"name\":\"trace4\",\"type\":\"scatter3d\",\"xaxis\":\"x\",\"yaxis\":\"y\",\"x\":[0,1,2,3,4,5,6,7,8,9],\"y\":[0,0.3568015349807061,1.9548429108590177,2.9148968259109886,2.0466451050370043,0.029852798794867685,2.6722719305302483,2.442317832676608,5.613283740803665,8.581734184274579],\"z\":[0,5.884490839629192E8,-3.885008764946034E8,2.9905339877587905E9,-2.873061218511292E8,-3.588174509308294E9,3.2483395051836944E9,-9.44405392151087E9,5.862204846735515E9,-3.9912175983522596E9]}]},{\"name\":\"trace5\",\"data\":[{\"name\":\"trace5\",\"type\":\"scatter3d\",\"xaxis\":\"x\",\"yaxis\":\"y\",\"x\":[0,1,2,3,4,5,6,7,8,9],\"y\":[0,0.23014529574341713,0.9596134647898507,0.6984894117623494,1.0375902704348787,4.544743203015922,0.9168501022297666,6.570520174795215,7.474165779049527,8.43666475859199],\"z\":[0,-1.4146551922781497E8,8.319166465000046E8,2.6879203100177443E8,7.253695249385576E9,7.957590448506545E7,5.41356785607641E9,2.5097296239974365E9,1.3488035107642248E10,6.64306665094744E9]}]},{\"name\":\"trace6\",\"data\":[{\"name\":\"trace6\",\"type\":\"scatter3d\",\"xaxis\":\"x\",\"yaxis\":\"y\",\"x\":[0,1,2,3,4,5,6,7,8,9],\"y\":[0,0.47867742532001323,1.0229428498334903,2.1331168972943666,1.210176313135853,0.2877724271407811,3.6636967847605346,4.380360732813601,4.225947737952109,5.7629896685424615],\"z\":[0,-7.224238711509039E8,3.610642316081191E7,-5.647672080317585E8,4.928825832963268E9,-2.319051530276142E8,1.3489274153960335E9,3.849273346749658E9,-4.3856360247765875E8,-2.7768462960156116E9]}]},{\"name\":\"trace7\",\"data\":[{\"name\":\"trace7\",\"type\":\"scatter3d\",\"xaxis\":\"x\",\"yaxis\":\"y\",\"x\":[0,1,2,3,4,5,6,7,8,9],\"y\":[0,0.7160713833914045,0.33086846878163123,0.2457776370912481,1.9860401632703817,0.5280302177386231,3.806453380759751,4.167053393638009,5.993153041718468,0.5063646218536357],\"z\":[0,-1.660899374129724E9,-2.624517442256062E9,-5.698147495017088E9,3.074092170063786E9,-3.8183780295979915E9,4.2737287801993303E9,-8.556168523403592E7,-7.818000309775041E9,-1.842625859625787E9]}]},{\"name\":\"trace8\",\"data\":[{\"name\":\"trace8\",\"type\":\"scatter3d\",\"xaxis\":\"x\",\"yaxis\":\"y\",\"x\":[0,1,2,3,4,5,6,7,8,9],\"y\":[0,0.47698727955500764,0.12028413664264415,0.8759369486402978,1.167902325055175,1.7660788181548686,1.0833161564842384,5.955864870965653,1.4113178484044058,6.499158499887513],\"z\":[0,4.002196638830175E8,-8.366948326687952E8,-1.5119450136696627E9,1.452988131473845E9,-1.1244280338407922E9,-7.635318611844078E8,-3.966215920029142E8,-8.235843338311586E8,2.1851487805233923E8]}]},{\"name\":\"trace9\",\"data\":[{\"name\":\"trace9\",\"type\":\"scatter3d\",\"xaxis\":\"x\",\"yaxis\":\"y\",\"x\":[0,1,2,3,4,5,6,7,8,9],\"y\":[0,0.6155346207005918,1.9869579717455987,0.0940011522832861,3.6090277029926052,1.9773210563559906,0.9676534057110748,4.985079186549759,2.0035081549162035,7.360077109232716],\"z\":[0,-9.821206482298024E7,2.143201138158397E8,3.8355609570379953E9,-1.6559633709388432E8,3.069203286659648E9,-6.084240374677447E9,-3.70030988245239E8,1.900705623486095E9,-1.9431665033194788E9]}]},{\"name\":\"trace10\",\"data\":[{\"name\":\"trace10\",\"type\":\"scatter3d\",\"xaxis\":\"x\",\"yaxis\":\"y\",\"x\":[0,1,2,3,4,5,6,7,8,9],\"y\":[0,0.09376683465755287,1.7722054403892433,2.362982545524644,2.6583966529467746,3.0148104461281386,3.4945500763603112,3.9842669848169194,1.6954386199211307,3.9405095334523494],\"z\":[0,5.3149138299052626E7,-2.3252385062752122E8,-2.4434581758445544E9,1.1678654043002474E8,-2.2093201395998383E9,4.647009620018515E9,-3.400172833784358E9,1.3399338619430033E10,6.650093299270186E9]}]},{\"name\":\"trace11\",\"data\":[{\"name\":\"trace11\",\"type\":\"scatter3d\",\"xaxis\":\"x\",\"yaxis\":\"y\",\"x\":[0,1,2,3,4,5,6,7,8,9],\"y\":[0,0.11156723909717114,1.425555538427376,1.4323714590474457,1.4037376316058365,3.367746332168694,1.7961676152778887,5.3808359113441835,1.8575865618802077,2.45918053389756],\"z\":[0,-7.852685927218186E8,7.948729347612123E8,5.459111137309442E8,-6.863234698952051E8,-6.4457086340274036E7,-5.718051083786557E8,-8.791880985502539E9,1.2308028198639233E10,-2.6846575185539093E9]}]},{\"name\":\"trace12\",\"data\":[{\"name\":\"trace12\",\"type\":\"scatter3d\",\"xaxis\":\"x\",\"yaxis\":\"y\",\"x\":[0,1,2,3,4,5,6,7,8,9],\"y\":[0,0.22509810289850696,0.8514540046256034,0.40005435485533625,3.641633657324337,2.707571533754969,1.6306089852782417,0.3691721973507901,1.7854460524029783,8.34893182106859],\"z\":[0,1.2837417485689077E9,-5.158219358360331E8,1.1796292717689244E7,-5.555699648803394E9,5.539778618831126E9,-9.394463677190083E8,-2.2794031299286594E9,6.55352207654474E8,9.038308900460865E9]}]},{\"name\":\"trace13\",\"data\":[{\"name\":\"trace13\",\"type\":\"scatter3d\",\"xaxis\":\"x\",\"yaxis\":\"y\",\"x\":[0,1,2,3,4,5,6,7,8,9],\"y\":[0,0.5533529545956316,0.3157541408904103,0.20156263025010857,2.036904460474242,1.2727895796627275,5.696994891929831,5.243121112025321,1.4880438410726011,6.936422974799822],\"z\":[0,3.0256634901778E8,2.538725491818041E9,-1.2724452128760376E9,3.214152660035106E7,-6.529419618470334E7,-3.7449019081101933E9,2.384657153718218E9,7.951893599125631E9,-1.1187478962135363E9]}]},{\"name\":\"trace14\",\"data\":[{\"name\":\"trace14\",\"type\":\"scatter3d\",\"xaxis\":\"x\",\"yaxis\":\"y\",\"x\":[0,1,2,3,4,5,6,7,8,9],\"y\":[0,0.7849501843966548,0.0650529813794416,0.469837105475173,0.9224858038043879,1.6576303243559272,5.146981852968946,5.228452867871398,5.889183273602499,6.887280600306347],\"z\":[0,-1.0302450907509461E8,-5.196641801778124E8,-4.848947786903753E9,1.2116990674781801E7,-7.243612427990778E9,3.1103677268006754E9,-1.4836140161323159E9,5.1487610282446995E9,-3.085781725959082E9]}]},{\"name\":\"trace15\",\"data\":[{\"name\":\"trace15\",\"type\":\"scatter3d\",\"xaxis\":\"x\",\"yaxis\":\"y\",\"x\":[0,1,2,3,4,5,6,7,8,9],\"y\":[0,0.4939212571097067,0.21669631434018877,0.6698591802391184,1.4151769411289936,2.1131340286148608,1.9499086334131874,5.50824170372419,0.13845816359161045,0.6838953621195712],\"z\":[0,1.3415511700034044E9,-3.7406527102358055E8,-1.3889136377096708E9,2.814177774674632E9,-1.5363715102752976E9,1.0114712656433198E9,-8.361893466412713E9,-5.09720840660034E9,-2.4961499226941314E9]}]},{\"name\":\"trace16\",\"data\":[{\"name\":\"trace16\",\"type\":\"scatter3d\",\"xaxis\":\"x\",\"yaxis\":\"y\",\"x\":[0,1,2,3,4,5,6,7,8,9],\"y\":[0,0.4508429337881886,0.49344974232594385,2.971410045959441,1.7249102495887962,1.6609553627234912,2.7327760361160474,3.450794852918083,4.364372528331841,3.3114542463430237],\"z\":[0,2.828560804323829E8,2.3496703443189216E9,9.20492099772749E8,3.022959242268437E9,4.0554519811134773E8,1.49572826738948E9,4.59747781156934E9,-5.41961710824953E9,7.518494363698276E9]}]},{\"name\":\"trace17\",\"data\":[{\"name\":\"trace17\",\"type\":\"scatter3d\",\"xaxis\":\"x\",\"yaxis\":\"y\",\"x\":[0,1,2,3,4,5,6,7,8,9],\"y\":[0,0.6408523095039472,1.0812194634463852,2.015942658348474,1.22059790271644,4.169597350093156,5.435312939076965,5.304400386465579,3.2153363364390257,0.2099483520167067],\"z\":[0,-1.0305413775892647E8,1084150.2576895135,-1.3773901510660644E9,2.0555546295772479E9,4.7897866752093625E8,-1.6488433046512708E8,1.5628600426138165E9,-6.432220623919009E8,-1.5985485992710724E9]}]},{\"name\":\"trace18\",\"data\":[{\"name\":\"trace18\",\"type\":\"scatter3d\",\"xaxis\":\"x\",\"yaxis\":\"y\",\"x\":[0,1,2,3,4,5,6,7,8,9],\"y\":[0,0.5623856934228344,0.8922974516261768,1.2423615395849859,0.6605551133999237,0.5929313670150693,1.3043584216436364,1.3402491958930245,1.3092359891510545,2.203851300841121],\"z\":[0,7.406890706698644E8,2.562151010102343E9,-2.151130482486761E9,2.614985272053583E9,4.257488096603262E8,-3.592033823264518E9,-3.5947119031585007E9,-6.045357550013626E9,7.322122520659628E9]}]},{\"name\":\"trace19\",\"data\":[{\"name\":\"trace19\",\"type\":\"scatter3d\",\"xaxis\":\"x\",\"yaxis\":\"y\",\"x\":[0,1,2,3,4,5,6,7,8,9],\"y\":[0,0.14680896306675995,0.47499669403249745,2.5102240544896075,3.821675823119513,3.1260760090737927,3.6476293076396686,1.5209453040008536,4.330804163956417,0.2842087459067921],\"z\":[0,-2.353137248943475E8,3.1708908372273793E9,3.93782525794719E9,-1.7076755604398298E9,-1.7861564311628115E9,2.5428787831792974E8,-1.65269109348521E9,1.2832584616567521E8,1.6752363283091922E9]}]},{\"name\":\"trace20\",\"data\":[{\"name\":\"trace20\",\"type\":\"scatter3d\",\"xaxis\":\"x\",\"yaxis\":\"y\",\"x\":[0,1,2,3,4,5,6,7,8,9],\"y\":[0,0.23532806170993248,0.6100216904312612,1.3378215114429715,2.152412682689831,3.2255728560948196,2.1594655103917453,4.379051542672978,7.820125693822855,7.082641393688202],\"z\":[0,-1.1012180503472161E8,1.9822969091146672E8,-2018523.5384273143,2.152077637121922E9,5.94475139893613E7,-3.1311708064711756E8,-3.328198956911671E8,-1.5518454252560287E9,-4.382224366058603E9]}]},{\"name\":\"trace21\",\"data\":[{\"name\":\"trace21\",\"type\":\"scatter3d\",\"xaxis\":\"x\",\"yaxis\":\"y\",\"x\":[0,1,2,3,4,5,6,7,8,9],\"y\":[0,0.7261488681035612,0.23978636867367764,1.4266961368122564,1.837540192218845,3.0426459737371863,2.659330858755454,6.219106588205296,1.1645148798540443,1.045146224604792],\"z\":[0,1.0639334298822888E9,1.9027512005298097E7,4.9943677217010304E7,2.218598623550429E9,5.061867551631503E9,3.576028644797235E8,2.4495353585162646E8,4.648791903558312E8,-1.8341616051880789E9]}]},{\"name\":\"trace22\",\"data\":[{\"name\":\"trace22\",\"type\":\"scatter3d\",\"xaxis\":\"x\",\"yaxis\":\"y\",\"x\":[0,1,2,3,4,5,6,7,8,9],\"y\":[0,0.2248474046187373,1.8755460357977485,1.1765844271655768,2.46492308703004,2.1247230751948267,4.739774205332164,5.331661299479773,7.406286258435166,1.0833979976746098],\"z\":[0,1.157436428072286E9,6.821409748158169E8,-9.900199144478766E8,-1.746905141825325E9,8.477956439280901E8,1.843485200619272E9,-4.7569277336468315E9,8.630743171592896E9,1.8287583792230146E9]}]},{\"name\":\"trace23\",\"data\":[{\"name\":\"trace23\",\"type\":\"scatter3d\",\"xaxis\":\"x\",\"yaxis\":\"y\",\"x\":[0,1,2,3,4,5,6,7,8,9],\"y\":[0,0.049861437028584144,0.0666241986351983,0.8572818721337461,2.1161487490009585,3.9841630386520404,1.685556332655406,2.6204631176992406,2.3935800582129394,3.6409586428309595],\"z\":[0,8.014921432761042E7,-2.5701988724620458E8,-4.769305785550589E9,-5.826101777927872E8,2.3712440418831034E9,-6.322280535863997E9,6.326818275682414E9,1.1976327141913455E9,2.792909705007396E8]}]},{\"name\":\"trace24\",\"data\":[{\"name\":\"trace24\",\"type\":\"scatter3d\",\"xaxis\":\"x\",\"yaxis\":\"y\",\"x\":[0,1,2,3,4,5,6,7,8,9],\"y\":[0,0.6335240700643744,1.2080864501880375,0.8134814104123947,1.5448627753911328,4.3189164614112805,2.9860431849803626,0.9442423839415736,6.693871484118486,5.9507606210388815],\"z\":[0,9.455273380291077E8,1.0137217338866338E9,-2.4637798166292596E8,2.756825465446973E9,-2.4900138154110823E9,-1.0649129451002005E10,-1.4973249911370697E9,1.1308472942377764E10,-5.5860139016494465E9]}]},{\"name\":\"trace25\",\"data\":[{\"name\":\"trace25\",\"type\":\"scatter3d\",\"xaxis\":\"x\",\"yaxis\":\"y\",\"x\":[0,1,2,3,4,5,6,7,8,9],\"y\":[0,0.35006750960780597,0.47461558753121613,1.3193125692264895,1.5069768422653826,2.359361778103276,3.1349391926861476,4.43817501087282,0.9096945753263261,4.882402158832092],\"z\":[0,-1.0093531865091531E9,-2.1117882293145564E8,-3.1398732458255806E9,1.605937761017584E9,2.0472383027065701E9,1.4692590653879404E9,2.2407369791776258E8,-6.604506675184212E8,-4.0891403571570816E9]}]},{\"name\":\"trace26\",\"data\":[{\"name\":\"trace26\",\"type\":\"scatter3d\",\"xaxis\":\"x\",\"yaxis\":\"y\",\"x\":[0,1,2,3,4,5,6,7,8,9],\"y\":[0,0.8260753150535441,0.7889141661781456,0.8364113079228482,3.693225273400879,2.305823670353363,5.092249314655422,0.05405370566584988,6.9223351781417435,7.638769335543404],\"z\":[0,2.6950631113848597E8,7.158140195309068E8,-3.2391014454530716E9,-1.0573890145466331E9,-1.1234233959677804E9,4.454977047519296E9,-1.1696199666418558E10,1.3518163416521401E9,-4.012734924060689E8]}]},{\"name\":\"trace27\",\"data\":[{\"name\":\"trace27\",\"type\":\"scatter3d\",\"xaxis\":\"x\",\"yaxis\":\"y\",\"x\":[0,1,2,3,4,5,6,7,8,9],\"y\":[0,0.09188201398182616,0.27317736306274054,2.3571584362461557,1.3960960705255525,3.3136623787809274,0.7337009416707871,5.611590915400423,4.777154641289618,0.029216149089055454],\"z\":[0,1.1797714601584277E9,1.282653603918942E9,-9.054913134394202E8,-5.52354428584322E9,9.362924050908474E9,-8.13662543540309E7,1.1547705512271605E9,-2.16041581454054E9,-1.0318403706442614E10]}]},{\"name\":\"trace28\",\"data\":[{\"name\":\"trace28\",\"type\":\"scatter3d\",\"xaxis\":\"x\",\"yaxis\":\"y\",\"x\":[0,1,2,3,4,5,6,7,8,9],\"y\":[0,0.9518177450744766,1.9638206978834196,1.9024903978965626,1.7803954991784758,2.2466540494301057,3.1623448889077483,1.124770741220425,7.312888961245505,8.818240265827205],\"z\":[0,1.0137431165379527E9,8.060975898715359E7,1.285447799614136E9,-2.275558498427933E9,3.460165771213851E9,-1.4383227679053314E9,9.045180556345978E8,-5.836682613266457E9,-7.545896853263807E8]}]},{\"name\":\"trace29\",\"data\":[{\"name\":\"trace29\",\"type\":\"scatter3d\",\"xaxis\":\"x\",\"yaxis\":\"y\",\"x\":[0,1,2,3,4,5,6,7,8,9],\"y\":[0,0.4572702645472131,0.3861525613782131,0.6386206790242785,3.171577752651847,4.610393500937127,0.91270858314599,1.9216881977067508,2.423216850838875,0.1367427338187659],\"z\":[0,-6.428238223569614E8,-7.33413063334789E8,-2.2765625715260217E8,-1.6103679878102844E9,3.4051040280030746E9,4.300045231378385E9,3.7621213952597485E9,9.513031514477143E7,-5.494625962467793E9]}]},{\"name\":\"trace30\",\"data\":[{\"name\":\"trace30\",\"type\":\"scatter3d\",\"xaxis\":\"x\",\"yaxis\":\"y\",\"x\":[0,1,2,3,4,5,6,7,8,9],\"y\":[0,0.05751232624135438,1.4213395796834307,1.7665214122876591,0.71101109261636,3.777357067920776,1.2027534219555214,1.3507856362922928,2.272413445176131,6.275167690233327],\"z\":[0,5.0087956013263816E8,-6.603838383683205E8,1.9630109805824944E8,-3.077210563665705E9,2.849908514667667E9,-5.033218495808118E9,-1.0381103011534897E10,3.301697810076676E9,5.160699264650768E9]}]},{\"name\":\"trace31\",\"data\":[{\"name\":\"trace31\",\"type\":\"scatter3d\",\"xaxis\":\"x\",\"yaxis\":\"y\",\"x\":[0,1,2,3,4,5,6,7,8,9],\"y\":[0,0.5734430428578692,1.5074473552752097,2.967316786369043,2.0567640696337595,3.315266017428163,1.305392016144606,2.4043017911138778,0.5572870725495802,2.2361028077514313],\"z\":[0,1.866028935438292E9,-1.3681908675564682E9,3.374386178383806E8,-7.233814861694086E8,1.2515030315014355E8,-2.7278879086720014E9,-3.395966731223587E9,4.411984343708691E9,-4.804990341667294E9]}]},{\"name\":\"trace32\",\"data\":[{\"name\":\"trace32\",\"type\":\"scatter3d\",\"xaxis\":\"x\",\"yaxis\":\"y\",\"x\":[0,1,2,3,4,5,6,7,8,9],\"y\":[0,0.621348015002797,0.9784738462835123,1.9716905982199975,1.879285929335139,2.8873493403481056,3.871695397035883,3.732085237642082,5.313602995619118,0.3807650489753043],\"z\":[0,-1.606966683323645E9,1.3796333185750995E9,4.162971073529732E9,-2.9144716710236514E8,-5.347368527817142E9,-3.2071695576310616E9,-1.0547661176247581E10,-6.713831776719486E9,3.0359110269730062E9]}]},{\"name\":\"trace33\",\"data\":[{\"name\":\"trace33\",\"type\":\"scatter3d\",\"xaxis\":\"x\",\"yaxis\":\"y\",\"x\":[0,1,2,3,4,5,6,7,8,9],\"y\":[0,0.32628478588886034,0.41822874854627456,1.7901513629669652,0.3576691072402225,3.14367704346384,2.2912029652086403,3.63847810401424,4.076801205835377,2.5928649311911762],\"z\":[0,-3.504439038808323E8,-4.2893968724500495E8,2.2405407172912216E9,-4.329939131151034E7,-4.1989481081777515E9,-9.440551666516466E8,-9.669735938396363E8,-2.8181378955160437E9,8.847966561436302E9]}]},{\"name\":\"trace34\",\"data\":[{\"name\":\"trace34\",\"type\":\"scatter3d\",\"xaxis\":\"x\",\"yaxis\":\"y\",\"x\":[0,1,2,3,4,5,6,7,8,9],\"y\":[0,0.3800997386633741,1.9218924653837488,2.1817221890109963,3.481009453151051,3.446835363106838,3.2477912026413867,2.7893310517180714,4.874761106828994,7.17477972784106],\"z\":[0,-5.775999823167367E8,-9.780841796483065E8,3.126125721701543E9,-3.6510704131297517E9,-5.352622700713802E8,6.335742086678564E9,-3.948639610949103E9,-1.1229538418027206E10,8.097778223424467E7]}]},{\"name\":\"trace35\",\"data\":[{\"name\":\"trace35\",\"type\":\"scatter3d\",\"xaxis\":\"x\",\"yaxis\":\"y\",\"x\":[0,1,2,3,4,5,6,7,8,9],\"y\":[0,0.9743571102630414,0.810042028500005,0.5246601142030016,0.20063205644812276,3.5563815093203237,4.126464773436531,5.113673981739007,0.1494644556584861,2.9216699398666863],\"z\":[0,3.331335225246132E8,-1.1041860555601308E9,-9.061392480800246E7,-1.5405693269572765E8,2.2859219990600595E9,-2.5093837160558856E8,4.643248364764782E9,7.098431206486865E9,-4.785323409397984E9]}]},{\"name\":\"trace36\",\"data\":[{\"name\":\"trace36\",\"type\":\"scatter3d\",\"xaxis\":\"x\",\"yaxis\":\"y\",\"x\":[0,1,2,3,4,5,6,7,8,9],\"y\":[0,0.935833430112077,1.2736767083162495,2.5596830866848608,1.1282279921264147,0.6332629909415427,5.8388236714827695,2.1660368309467435,6.887128138099881,2.860536103679399],\"z\":[0,-3.802910474449485E8,-7.469353838626187E8,-6.229784424979665E8,-1.2427500097802165E9,1.339737128266883E7,-2.809465523345955E9,4.133676431884909E8,-1.079522432193362E10,9.174811328959883E9]}]},{\"name\":\"trace37\",\"data\":[{\"name\":\"trace37\",\"type\":\"scatter3d\",\"xaxis\":\"x\",\"yaxis\":\"y\",\"x\":[0,1,2,3,4,5,6,7,8,9],\"y\":[0,0.9463681760688272,0.41747293363109006,1.199497288503182,1.1818827261633866,4.00345957354525,5.6425666022511205,4.513903238820022,4.802771528087987,0.4670107604476368],\"z\":[0,-7.077766576540648E8,5.711554362236087E7,-4.32892905904445E9,1.1446518236858459E9,1.0527347001104457E9,-8.917554165011671E9,-2.383322619593818E9,1.667211562984266E9,3.552843241514183E9]}]},{\"name\":\"trace38\",\"data\":[{\"name\":\"trace38\",\"type\":\"scatter3d\",\"xaxis\":\"x\",\"yaxis\":\"y\",\"x\":[0,1,2,3,4,5,6,7,8,9],\"y\":[0,0.8989364987468597,0.6083669606733864,1.124625112712177,0.9225246187980467,3.162328762480807,4.359449259449033,3.722977193937174,6.565458175844864,0.7223691160935122],\"z\":[0,2.288288717365786E8,-7.17207451273444E7,-1.003423990709722E9,-9.88231018894975E8,7.836018505254472E8,6.94292942465798E8,-2.4673535251968794E9,3.892886200385822E9,2.733980782462885E9]}]},{\"name\":\"trace39\",\"data\":[{\"name\":\"trace39\",\"type\":\"scatter3d\",\"xaxis\":\"x\",\"yaxis\":\"y\",\"x\":[0,1,2,3,4,5,6,7,8,9],\"y\":[0,0.31796239326669984,0.3654597407877538,2.5619478675916145,3.7189159025372054,2.1672008069712994,3.789788292421834,0.4881716331039284,0.36653908920495226,8.485686865191857],\"z\":[0,1.1573987545795771E8,-7.281324747397326E8,-2.389925448214124E9,-2.239867986870775E9,-2.78114048645734E9,-9.662178274497328E8,-8.045290122217288E8,4.87044298767456E8,4.493902912758644E8]}]},{\"name\":\"trace40\",\"data\":[{\"name\":\"trace40\",\"type\":\"scatter3d\",\"xaxis\":\"x\",\"yaxis\":\"y\",\"x\":[0,1,2,3,4,5,6,7,8,9],\"y\":[0,0.28685610701275555,0.7301647160809188,2.736060294056176,1.9711423367222687,0.5811627044530937,1.165226655422237,5.262677198382313,4.715341087609776,5.281399466720313],\"z\":[0,1.833145933144205E8,-1.6382430711214588E9,-4.014884748359217E9,-5.37165342229351E8,3297614.4160191785,1.118707937303347E9,-5.457771108662317E9,3.5443627956377006E9,-5.621327659610597E9]}]},{\"name\":\"trace41\",\"data\":[{\"name\":\"trace41\",\"type\":\"scatter3d\",\"xaxis\":\"x\",\"yaxis\":\"y\",\"x\":[0,1,2,3,4,5,6,7,8,9],\"y\":[0,0.7537124645241235,0.48356457789001417,1.0127920275149562,1.8040528715738238,0.5799786632686316,5.711649074850043,6.690397726377352,2.2915744701287233,3.7798803439248543],\"z\":[0,-3.9802317301636495E7,4.874182041299331E8,-3.402509068463786E8,-3.2620451207289906E9,2.5763811241107545E9,-3.929106223979513E9,-4.2494298134993405E9,3.2984540959812336E9,-1.2084482733973387E10]}]},{\"name\":\"trace42\",\"data\":[{\"name\":\"trace42\",\"type\":\"scatter3d\",\"xaxis\":\"x\",\"yaxis\":\"y\",\"x\":[0,1,2,3,4,5,6,7,8,9],\"y\":[0,0.7919897659198899,0.8698308015025993,1.7200313840580914,0.5777046096291052,0.1583877933101785,2.3094842754456115,0.7944961131122698,5.710052757625461,1.3697849350612046],\"z\":[0,-9.265426305024897E8,-1.8608184400844734E9,1.810072439738599E9,-4.952718653941783E9,-6.348794489199702E9,-8.556615842944427E8,2.3960209560744457E9,3.7982961804705806E9,-7.81863392511787E9]}]},{\"name\":\"trace43\",\"data\":[{\"name\":\"trace43\",\"type\":\"scatter3d\",\"xaxis\":\"x\",\"yaxis\":\"y\",\"x\":[0,1,2,3,4,5,6,7,8,9],\"y\":[0,0.7268572989007467,0.44221401025572127,1.2692226283558825,3.645307398671463,2.672512837904325,5.51635681123065,3.5010789274676606,4.121668098076395,7.379946607343934],\"z\":[0,1.0009297672406641E9,1.4468355503080397E9,6.825654037301828E8,-3.3599614336050606E9,-3.751407196224566E9,1.4644246047873807E8,3.5540473636693573E9,-1.452271397573353E9,1.8477329705173256E9]}]},{\"name\":\"trace44\",\"data\":[{\"name\":\"trace44\",\"type\":\"scatter3d\",\"xaxis\":\"x\",\"yaxis\":\"y\",\"x\":[0,1,2,3,4,5,6,7,8,9],\"y\":[0,0.050075264478228965,1.480475326616786,2.7207852228112057,2.6192718122909113,3.100857963402421,3.1279556759461062,2.7507020188837483,7.6670614667464525,8.270611925117505],\"z\":[0,1.0879690470316753E9,-1.2292314314849653E9,-2.352097362966492E8,-4.8320912545970696E8,5.15865249225375E9,-1.2716033136252909E9,8.400137416798436E9,1.1212024411248167E9,2.89829799550917E9]}]},{\"name\":\"trace45\",\"data\":[{\"name\":\"trace45\",\"type\":\"scatter3d\",\"xaxis\":\"x\",\"yaxis\":\"y\",\"x\":[0,1,2,3,4,5,6,7,8,9],\"y\":[0,0.7303181550470957,0.8401265891762391,2.80326874289123,1.4832206951117506,3.610842957759002,0.6542344134401514,6.116749382349369,7.265874582447347,8.314665326451008],\"z\":[0,-5.727437673549448E8,-2.468072794358139E9,-1.5644883890186636E9,-6.554721590367311E8,6.655330123980465E9,3.042545414812259E8,-5.589371591913665E9,5.671724952496845E9,-9.435894366107427E8]}]},{\"name\":\"trace46\",\"data\":[{\"name\":\"trace46\",\"type\":\"scatter3d\",\"xaxis\":\"x\",\"yaxis\":\"y\",\"x\":[0,1,2,3,4,5,6,7,8,9],\"y\":[0,0.5776774946626207,1.2566997144999246,0.5596875115454648,0.8597085986750086,0.9487969017505382,4.1611963954481945,6.450240870460384,3.351300682588664,4.012537153421905],\"z\":[0,-5.442329775173516E8,3.6637762056850874E8,8.890639277767134E8,1.8346298283471644E8,-6.763499994818898E9,7.900410441994828E7,-1.111671587857198E8,6.224048068791724E9,-9.635906353928623E9]}]},{\"name\":\"trace47\",\"data\":[{\"name\":\"trace47\",\"type\":\"scatter3d\",\"xaxis\":\"x\",\"yaxis\":\"y\",\"x\":[0,1,2,3,4,5,6,7,8,9],\"y\":[0,0.9336643675197981,0.64012714714202,0.3631568818440103,3.651700707787779,1.3171998322733958,0.7172224946483283,3.8881463256204993,0.8676186738551275,4.138698916244399],\"z\":[0,-5.421693052608198E8,4.82289127048935E8,-1.8267973456172738E9,3.0108772835256066E9,-5.749795104429469E9,2.3801891822338805E9,3.6348932809306126E9,3.396821567118615E9,-2.421555042937736E8]}]},{\"name\":\"trace48\",\"data\":[{\"name\":\"trace48\",\"type\":\"scatter3d\",\"xaxis\":\"x\",\"yaxis\":\"y\",\"x\":[0,1,2,3,4,5,6,7,8,9],\"y\":[0,0.9526007876418611,1.8853184252468949,0.738295668463199,2.384104884716912,1.3242142378266564,1.6727220157026732,6.960673686701245,2.675486594578228,4.775339837826062],\"z\":[0,-3.080056309949148E7,1.7058773008758247E9,-1.0599731631470029E9,-5.243534328680393E9,2.57094894440536E9,1.406766344210995E9,4.282715643559011E8,-3.628680426086803E9,-1.3293384017832932E10]}]},{\"name\":\"trace49\",\"data\":[{\"name\":\"trace49\",\"type\":\"scatter3d\",\"xaxis\":\"x\",\"yaxis\":\"y\",\"x\":[0,1,2,3,4,5,6,7,8,9],\"y\":[0,0.3659324508175432,1.840820692751981,1.7494447538597706,1.4756369448310984,4.841760066110234,1.6717343780066178,1.9771861305322695,5.285570720428648,6.7204096085313],\"z\":[0,5.645583524602009E7,6.351599069902606E8,-1.459364713676222E9,-4.0500122868728657E9,-1.8235169466397433E9,8.857661770015968E9,-9.898513124988793E7,-2.835373304937025E9,-1.0723611457106741E8]}]},{\"name\":\"trace50\",\"data\":[{\"name\":\"trace50\",\"type\":\"scatter3d\",\"xaxis\":\"x\",\"yaxis\":\"y\",\"x\":[0,1,2,3,4,5,6,7,8,9],\"y\":[0,0.6360263252516981,1.1272939875930477,1.1250952260894258,2.5210762714694646,2.5219039872522107,2.5565097490782756,6.582922193366769,2.7086870487647348,8.4330348055148],\"z\":[0,2.090618425770074E8,-1.9931131598116275E7,-1.7603897276292067E9,2.1362811110752864E9,5.974510672208225E9,-5.504296860363878E9,4.281973758141473E9,2.1442904858012792E8,-2.6227525136261578E9]}]},{\"name\":\"trace51\",\"data\":[{\"name\":\"trace51\",\"type\":\"scatter3d\",\"xaxis\":\"x\",\"yaxis\":\"y\",\"x\":[0,1,2,3,4,5,6,7,8,9],\"y\":[0,0.5855995298082828,0.11892658737917383,1.712189759799218,0.4501873685045763,0.9005842453132218,3.8610904789292464,3.206484126015495,0.9025670256258804,1.8890845240707697],\"z\":[0,1.3456480966171436E9,5.694380256388106E8,-2.689194632395526E8,2.6480044468507168E8,-4.0229599507883053E9,3.754977095292237E9,1.0582451289640197E9,-1.4756238719426767E10,-3.2273926044719768E9]}]},{\"name\":\"trace52\",\"data\":[{\"name\":\"trace52\",\"type\":\"scatter3d\",\"xaxis\":\"x\",\"yaxis\":\"y\",\"x\":[0,1,2,3,4,5,6,7,8,9],\"y\":[0,0.5847654767594376,0.15496100333413132,1.8143100684314633,3.4124487511473873,3.2936914466673506,0.0646386848425442,0.1528400349604665,1.819579498702888,1.8915494698730675],\"z\":[0,4315800.969164223,9.796413884965715E8,1.3407700119530396E9,-7.33862511568569E8,4.207193891050342E7,2.9878800492865314E9,3.46616944383258E9,-5.213863558696601E8,-4.687350589301278E9]}]},{\"name\":\"trace53\",\"data\":[{\"name\":\"trace53\",\"type\":\"scatter3d\",\"xaxis\":\"x\",\"yaxis\":\"y\",\"x\":[0,1,2,3,4,5,6,7,8,9],\"y\":[0,0.8867694941327752,1.922473598404592,0.06981245995294871,0.7206874974214856,0.4521131368989606,4.62900305653641,0.3102177046794671,6.20214283386898,1.2632952643130342],\"z\":[0,-9.075704221338049E8,1.8626989911687071E9,3.905009799057895E9,3926163.7498237323,1.19287289166372E9,-9.046597377203806E7,-6.439759428216451E8,2.808612190273365E9,-1.307195250808024E9]}]},{\"name\":\"trace54\",\"data\":[{\"name\":\"trace54\",\"type\":\"scatter3d\",\"xaxis\":\"x\",\"yaxis\":\"y\",\"x\":[0,1,2,3,4,5,6,7,8,9],\"y\":[0,0.1842410263134735,0.3077257364149695,2.4988340621046996,3.96888883019328,3.156181426055817,3.506850087898913,4.064875966344058,6.571969161484488,2.752778588191516],\"z\":[0,-1.4292645163729982E9,-2.762814841628124E9,1.6674111449279526E8,3.4766658219061154E8,-1.3036037947948773E9,-7.266565401842259E9,3.887575368099232E9,1.1833394579810709E10,5.248437871517244E9]}]},{\"name\":\"trace55\",\"data\":[{\"name\":\"trace55\",\"type\":\"scatter3d\",\"xaxis\":\"x\",\"yaxis\":\"y\",\"x\":[0,1,2,3,4,5,6,7,8,9],\"y\":[0,0.16306727747045113,0.5857919256099773,1.8690340544989485,0.3851343818425246,2.8232714330881152,0.9004436910649107,4.625493915350235,0.9615797875077465,7.7489498877554155],\"z\":[0,3.330986501685599E8,-9.99606512064279E8,-1.4807368803298135E9,-6.070568245555446E9,-1.8473843204630676E8,8.701802646511742E9,-4.95456556877432E9,7.976142915412623E9,-3.979044115261054E9]}]},{\"name\":\"trace56\",\"data\":[{\"name\":\"trace56\",\"type\":\"scatter3d\",\"xaxis\":\"x\",\"yaxis\":\"y\",\"x\":[0,1,2,3,4,5,6,7,8,9],\"y\":[0,0.7087924988282402,1.421106106596916,1.9254622890143849,0.8037534139324798,2.48698966392553,0.329838961602412,5.144788985482537,1.4836836778931088,7.218774782146168],\"z\":[0,-4.7005935938406065E7,2.877212432774301E9,6.949251630712534E8,1.3597365688287976E9,2.1283133368636298E9,-8.272826572757598E9,1.001075644273054E10,-3.682789376786275E8,1.5547375654321003E9]}]},{\"name\":\"trace57\",\"data\":[{\"name\":\"trace57\",\"type\":\"scatter3d\",\"xaxis\":\"x\",\"yaxis\":\"y\",\"x\":[0,1,2,3,4,5,6,7,8,9],\"y\":[0,0.46429946931655197,1.3268285303079954,1.5370051368515667,0.5926942710622005,0.17998525213586858,2.5087285110099957,5.349791230292994,3.294800220899739,5.327077787657967],\"z\":[0,-7.354283448910284E7,2.771452744566416E8,2.5072230904521184E9,-1.380776575055514E9,-9.348234083499162E8,1.5052911621569624E9,4.728838766910731E9,1.7051645009262066E9,-2.2521388615327287E9]}]},{\"name\":\"trace58\",\"data\":[{\"name\":\"trace58\",\"type\":\"scatter3d\",\"xaxis\":\"x\",\"yaxis\":\"y\",\"x\":[0,1,2,3,4,5,6,7,8,9],\"y\":[0,0.349904257503207,1.1223551764417687,2.426376587471553,0.6665873862813485,1.9168419617648085,0.19508336020238004,5.670934883524326,3.6075385050600772,6.129742398721329],\"z\":[0,1.0840050621176894E8,-2.343486903165867E9,3.4469617294222E9,4.326251642020961E9,-6.99599227551373E9,-3.276222835984605E9,-2.2315478184610143E9,-3.8092192140593797E8,-3.961162791372277E9]}]},{\"name\":\"trace59\",\"data\":[{\"name\":\"trace59\",\"type\":\"scatter3d\",\"xaxis\":\"x\",\"yaxis\":\"y\",\"x\":[0,1,2,3,4,5,6,7,8,9],\"y\":[0,0.2201981902396516,1.2355178403418916,0.18459581918180767,0.6436890888773652,4.2698564713585565,2.1946152079082752,3.140111042860986,4.052029960079725,2.3211768444511733],\"z\":[0,-6.26671316733815E7,5.7342875392081045E7,5.544122131445626E9,4.8740699946930304E7,-2.0166706330807726E9,2.2068611367836776E9,-2.6223633982669272E9,8.086998110605275E9,-1.0155907395321611E10]}]},{\"name\":\"trace60\",\"data\":[{\"name\":\"trace60\",\"type\":\"scatter3d\",\"xaxis\":\"x\",\"yaxis\":\"y\",\"x\":[0,1,2,3,4,5,6,7,8,9],\"y\":[0,0.1623618417817635,1.6213886223236738,1.582787874326911,1.0155718169896457,3.1931740970037343,5.728632791965867,0.8293662031227416,1.5711906737233887,1.7763132895619602],\"z\":[0,-1.0679178881499454E9,1.9571760084279314E8,-2.89484464452294E8,6.403400818002965E9,2.030388471810461E9,-2.966637609055427E9,4.862587890824731E9,-5.911034523725014E9,-8.409648416507874E9]}]},{\"name\":\"trace61\",\"data\":[{\"name\":\"trace61\",\"type\":\"scatter3d\",\"xaxis\":\"x\",\"yaxis\":\"y\",\"x\":[0,1,2,3,4,5,6,7,8,9],\"y\":[0,0.8332147508812004,0.734781851027601,2.651240251737648,2.953577906859913,4.941585841929117,0.9601524068031513,6.64769248694034,3.2849628743470864,3.018781053622234],\"z\":[0,3.700596876753685E8,2.4333153225491413E8,-1.1833855898898077E9,-4.038324052810342E9,7.141718753076869E8,-5.495422747210957E8,7.514534816489385E9,7.648659118766259E8,3.6316481255881834E9]}]},{\"name\":\"trace62\",\"data\":[{\"name\":\"trace62\",\"type\":\"scatter3d\",\"xaxis\":\"x\",\"yaxis\":\"y\",\"x\":[0,1,2,3,4,5,6,7,8,9],\"y\":[0,0.0836589670241803,0.8649455764716405,1.0706525640437223,2.100600041383114,0.9187440746635012,3.3719497493355695,4.721077626654587,6.32296102000214,0.1373803280156144],\"z\":[0,-9.525348621529679E8,-3.364364970458724E7,-1.2166380092716532E9,-1.9197643349316087E9,-6.243899088235181E9,-2.9756057373769957E8,-1.1052597956318789E10,7.093182940800837E7,-2.5889528409940396E7]}]},{\"name\":\"trace63\",\"data\":[{\"name\":\"trace63\",\"type\":\"scatter3d\",\"xaxis\":\"x\",\"yaxis\":\"y\",\"x\":[0,1,2,3,4,5,6,7,8,9],\"y\":[0,0.44919051533522214,0.5654731240713184,2.918558619536676,1.2825878665083499,2.201843949497519,4.49126850271213,2.2198808399957195,3.2802621417993656,4.451675333494614],\"z\":[0,-7.685868429849753E8,1.9695080133979853E7,1.1001263064000395E8,1.711946988818382E8,-6.90547047360358E9,7.128991444717632E9,-7.564784607755766E9,-3.0210280477467494E9,2.7891007306358414E9]}]},{\"name\":\"trace64\",\"data\":[{\"name\":\"trace64\",\"type\":\"scatter3d\",\"xaxis\":\"x\",\"yaxis\":\"y\",\"x\":[0,1,2,3,4,5,6,7,8,9],\"y\":[0,0.4568379108550632,1.927749269503964,0.5697354636809657,0.013820565302286258,0.7556912968491142,5.5457845636407415,4.676206803099433,1.0996556006596503,3.5447247958892856],\"z\":[0,5.204978173682441E8,-8.919741843499285E8,1.319073521045596E8,-1.7114709838382134E9,7.446404017022525E9,-1.4307921936443064E9,-8.158272548608123E9,6115796.10404006,6.651798991081754E8]}]},{\"name\":\"trace65\",\"data\":[{\"name\":\"trace65\",\"type\":\"scatter3d\",\"xaxis\":\"x\",\"yaxis\":\"y\",\"x\":[0,1,2,3,4,5,6,7,8,9],\"y\":[0,0.8697508733656206,0.5917303177038529,1.5284306019701543,2.3233981497657656,4.63163096092902,0.5416647100244252,4.9062405329604335,4.839673224483683,2.1468963844576145],\"z\":[0,3.3375390505271125E8,-5.292357062269626E8,-3.867103849560933E8,-7.745947410057437E8,6.233028237086658E9,2.875203984549146E9,1.0880966203901165E10,2.5266093996565847E9,-9.755365659563429E9]}]},{\"name\":\"trace66\",\"data\":[{\"name\":\"trace66\",\"type\":\"scatter3d\",\"xaxis\":\"x\",\"yaxis\":\"y\",\"x\":[0,1,2,3,4,5,6,7,8,9],\"y\":[0,0.40810738566499516,0.3060370639316585,2.5506387201577967,2.653207019173882,2.7464868870358843,4.444100977014028,4.697825205435818,6.411624260882196,6.368130655663408],\"z\":[0,-1.2179003806271982E9,9.081258822567933E8,2.2130974408917747E9,6.359250148719732E9,-7.908246595836862E9,-4.531495181912435E9,6.526490018285226E7,-5.58505807633073E9,-2.218074452005112E9]}]},{\"name\":\"trace67\",\"data\":[{\"name\":\"trace67\",\"type\":\"scatter3d\",\"xaxis\":\"x\",\"yaxis\":\"y\",\"x\":[0,1,2,3,4,5,6,7,8,9],\"y\":[0,0.7705122837916958,0.028551082077817203,0.7218469455684424,2.6636747281133006,0.11735291915230095,5.088295932367533,1.0743772615087885,7.455884191146455,2.5324385639006994],\"z\":[0,-4.654821487193576E7,-1.5062618853212693E9,2.241591896431139E8,-3.24382641411858E9,4.379163316070939E8,1.2368047085272596E9,-1.1057303370159777E10,-8.246625931413867E9,-1.2320798666898697E10]}]},{\"name\":\"trace68\",\"data\":[{\"name\":\"trace68\",\"type\":\"scatter3d\",\"xaxis\":\"x\",\"yaxis\":\"y\",\"x\":[0,1,2,3,4,5,6,7,8,9],\"y\":[0,0.627928225516701,0.6315900295939949,2.1637739540150216,3.800287119859085,1.0189761843552119,4.965917951317789,3.4069161989912367,6.106313405010127,4.131075978270934],\"z\":[0,-2.223077321812604E7,-2.2982096993526177E9,-7.274879911601572E8,2.989228295291199E9,3.2929808845768895E9,-9.309061267116585E8,3.9328883551953087E9,2.2973540835996165E9,-2.5898208018535824E9]}]},{\"name\":\"trace69\",\"data\":[{\"name\":\"trace69\",\"type\":\"scatter3d\",\"xaxis\":\"x\",\"yaxis\":\"y\",\"x\":[0,1,2,3,4,5,6,7,8,9],\"y\":[0,0.20986039816586455,0.8499200626981602,2.752687382802169,2.192819788859856,3.7140846014701796,4.536122008477953,6.66418547781802,0.8385954205246318,8.40670556571115],\"z\":[0,7.53101903900982E8,-1.4215402335894983E9,-9.954739767788534E8,1.1255592824804041E9,1.7540933769564373E9,-1.231584817030527E9,3.1669124566542244E9,-1.7435721751583498E9,-1.970806843196211E9]}]},{\"name\":\"trace70\",\"data\":[{\"name\":\"trace70\",\"type\":\"scatter3d\",\"xaxis\":\"x\",\"yaxis\":\"y\",\"x\":[0,1,2,3,4,5,6,7,8,9],\"y\":[0,0.9107945435939054,1.1699493150074647,1.5730264481103458,3.2113566543028766,2.0095076137111105,4.302018621023567,4.111917479707818,7.425972655741467,2.816993345089474],\"z\":[0,-1.6887047456394333E8,-1.0130973729840344E8,-1.3174082479853206E9,-5.062974806698817E9,-9.724508781420359E9,-3.3124078345599465E9,-9.209200970456457E9,2.333657457081501E9,-5.017346232325493E9]}]},{\"name\":\"trace71\",\"data\":[{\"name\":\"trace71\",\"type\":\"scatter3d\",\"xaxis\":\"x\",\"yaxis\":\"y\",\"x\":[0,1,2,3,4,5,6,7,8,9],\"y\":[0,0.25746657422626007,0.8408234333300679,2.0448920398785235,1.910069298648203,2.347657724219529,4.796191714429905,6.726218099772701,7.549123000837385,8.90157367486057],\"z\":[0,-7.817413925917293E8,-2.6375595022966404E9,-3.361314581463499E7,3.9193349810896945E8,-1.7901676692932053E9,2.215198507502747E9,-1.2048319114867182E9,-8.642470458801182E9,-9.637906336895983E9]}]},{\"name\":\"trace72\",\"data\":[{\"name\":\"trace72\",\"type\":\"scatter3d\",\"xaxis\":\"x\",\"yaxis\":\"y\",\"x\":[0,1,2,3,4,5,6,7,8,9],\"y\":[0,0.5108003240776384,1.3927546774022068,1.7478150683262412,0.7506117917812816,3.4178906809305754,4.721975021790737,1.7243600945856494,4.6445157547197224,5.897194913876294],\"z\":[0,1.2254799713224347E9,-2.2552994801729053E8,5.115125472582685E7,-2.0741028930896564E9,1.4327014145649774E9,-1.0290790710200317E10,1.4179302464714081E9,-7.899209933773332E9,1.7457682140325413E9]}]},{\"name\":\"trace73\",\"data\":[{\"name\":\"trace73\",\"type\":\"scatter3d\",\"xaxis\":\"x\",\"yaxis\":\"y\",\"x\":[0,1,2,3,4,5,6,7,8,9],\"y\":[0,0.921308607102838,0.11345390146137957,1.356028222884394,3.333584484187945,0.16676724013566457,0.43452701362763624,0.5363450366167035,6.593323665294657,2.8309947439643914],\"z\":[0,-1.067924031586083E8,-1.2025318633197148E9,-1.08410828143393E9,-6.102529462344899E8,2.198788741936983E9,5.121327184863099E9,3.502265195130543E9,1.188842625921273E10,5.927557516452E9]}]},{\"name\":\"trace74\",\"data\":[{\"name\":\"trace74\",\"type\":\"scatter3d\",\"xaxis\":\"x\",\"yaxis\":\"y\",\"x\":[0,1,2,3,4,5,6,7,8,9],\"y\":[0,0.4565263757830278,0.6652152239524238,2.152541796194188,2.4544245118050694,4.878160762362983,5.324764164935591,5.002101039917434,0.20438348312559018,0.5196974057312066],\"z\":[0,-6.423755506461685E8,3.348708078049191E9,-1.5159400548763533E9,-4.2938924062501E9,-7.114982455336995E8,-4.661927546043911E9,-2.3774275799021697E9,-1.3045563367161937E9,-7.194815132374047E9]}]},{\"name\":\"trace75\",\"data\":[{\"name\":\"trace75\",\"type\":\"scatter3d\",\"xaxis\":\"x\",\"yaxis\":\"y\",\"x\":[0,1,2,3,4,5,6,7,8,9],\"y\":[0,0.21631722698054023,1.9266240056070851,2.4230872985955045,3.639453233503841,4.005341063548324,0.7565018098368903,6.937425594726643,1.615749345119716,6.318974651642304],\"z\":[0,5.712126598195008E8,-6.365178233234528E7,-1.2619797642344685E9,2.216284186246273E9,-3.87823266284016E8,-4.064704115090422E9,-6.852571923334352E8,-4.1252305296511774E9,1.150732427144469E10]}]},{\"name\":\"trace76\",\"data\":[{\"name\":\"trace76\",\"type\":\"scatter3d\",\"xaxis\":\"x\",\"yaxis\":\"y\",\"x\":[0,1,2,3,4,5,6,7,8,9],\"y\":[0,0.38219286080217874,1.5660179652886554,0.2635690262709004,1.6217526551831476,3.0330212430553996,3.562077857243854,2.2607077727960974,5.753166626799853,5.137268753040908],\"z\":[0,6.278296231879786E8,1.0226139760863125E9,1.4090005190393236E9,3.404285903643856E9,-3.412544607876967E8,9.35259199953085E8,2.123638571025622E9,4.637293991938101E7,8.256887297772423E9]}]},{\"name\":\"trace77\",\"data\":[{\"name\":\"trace77\",\"type\":\"scatter3d\",\"xaxis\":\"x\",\"yaxis\":\"y\",\"x\":[0,1,2,3,4,5,6,7,8,9],\"y\":[0,0.5845799468231572,1.7438799013566404,2.7199352205072644,2.420096627332374,3.3286914020850764,2.3380127480391852,2.608875472879101,4.371782274642796,1.444288795050679],\"z\":[0,-1.2648956521316206E9,2.5273745560414405E9,1.8019469519524522E9,-1.4971814219826298E9,-1.7907894471509976E9,6.343989909220576E9,-3.12263655013851E7,-4.047896999229751E9,8.536964592308043E9]}]},{\"name\":\"trace78\",\"data\":[{\"name\":\"trace78\",\"type\":\"scatter3d\",\"xaxis\":\"x\",\"yaxis\":\"y\",\"x\":[0,1,2,3,4,5,6,7,8,9],\"y\":[0,0.8179055086540152,0.11513666093799091,1.5717668204128183,0.5021912088060403,3.5961693075670427,5.824685966050101,5.660919256396451,7.20329199511372,3.7451715368155667],\"z\":[0,-5.185627081012645E8,2.298086649440101E9,-5.10440742835276E9,7.814763100118642E8,2.952018458791306E9,5.48279659838701E9,9.322906360726423E9,-2.66308501078435E7,3.011904766885952E9]}]},{\"name\":\"trace79\",\"data\":[{\"name\":\"trace79\",\"type\":\"scatter3d\",\"xaxis\":\"x\",\"yaxis\":\"y\",\"x\":[0,1,2,3,4,5,6,7,8,9],\"y\":[0,0.1621179543575969,1.9623058653797167,0.20702818958403324,0.5004763448512981,2.574812438428737,5.545000548530089,4.733114800872656,3.5931337329420687,3.0793138457456983],\"z\":[0,6.408988898917834E7,-8.45523561269316E8,-2.1913482081983754E8,-4.496804645537193E8,-1.0420139119390501E9,-7.5768147215153E8,9.711508454673243E8,-4.605842786590745E9,-2.6634251428962946E8]}]},{\"name\":\"trace80\",\"data\":[{\"name\":\"trace80\",\"type\":\"scatter3d\",\"xaxis\":\"x\",\"yaxis\":\"y\",\"x\":[0,1,2,3,4,5,6,7,8,9],\"y\":[0,0.838813657462735,1.9379084358803222,0.47359992142603013,1.1387237248608297,3.599903436225526,3.3750653579427845,5.786801199057013,4.632800546522423,7.544441553228892],\"z\":[0,-6.535492504508368E8,-2.4973066666356015E8,4.924751687114837E9,1.9095932720389729E9,-6.499308570422199E9,2.776252016831007E9,-4427151.302103867,-1.786073309562445E8,-3.9174109441442776E8]}]},{\"name\":\"trace81\",\"data\":[{\"name\":\"trace81\",\"type\":\"scatter3d\",\"xaxis\":\"x\",\"yaxis\":\"y\",\"x\":[0,1,2,3,4,5,6,7,8,9],\"y\":[0,0.8845539976600079,0.3690480481819647,1.5439982234035272,2.357266953362822,3.2155818991133516,0.6198633936089266,3.8371913506741713,7.994562843776198,6.594891093727726],\"z\":[0,-7.518176368256122E8,5.735397806387357E8,-5.04959705427177E9,-1.2401308815889633E8,-5.530677500225722E9,-1.2727680152793932E10,-2.258726998737212E9,-2.2363413616983695E9,-1.0275558868488567E9]}]},{\"name\":\"trace82\",\"data\":[{\"name\":\"trace82\",\"type\":\"scatter3d\",\"xaxis\":\"x\",\"yaxis\":\"y\",\"x\":[0,1,2,3,4,5,6,7,8,9],\"y\":[0,0.30285045284041356,1.5105456251414766,2.3553336439285006,2.9675933552667635,4.3955047096117426,3.4588720479744195,5.478194305895002,1.8627423582932527,1.7734760381498238],\"z\":[0,-1.1595842062009363E8,-2.0263832631414337E9,-1.8042473147979288E9,1.086977239428531E9,6.779904048349893E8,9.809348751887639E8,3.1154260903422656E9,-1.3919317408633642E9,-3.669049415384776E9]}]},{\"name\":\"trace83\",\"data\":[{\"name\":\"trace83\",\"type\":\"scatter3d\",\"xaxis\":\"x\",\"yaxis\":\"y\",\"x\":[0,1,2,3,4,5,6,7,8,9],\"y\":[0,0.7555826722409993,1.7709288490567934,2.1400947532402728,1.9328146139902098,4.543171772254876,3.298792153364402,4.808496189759438,6.4100611756067405,5.0632857253990196],\"z\":[0,4.453652908143559E8,-4.719071094291489E8,-2.1954221737407574E8,-4.317908942454149E9,6.329963290512892E9,-3.6041518747639303E9,-1.0758747155511107E9,-6.983160466258461E9,6.726623900699466E9]}]},{\"name\":\"trace84\",\"data\":[{\"name\":\"trace84\",\"type\":\"scatter3d\",\"xaxis\":\"x\",\"yaxis\":\"y\",\"x\":[0,1,2,3,4,5,6,7,8,9],\"y\":[0,0.8643259326937609,1.638330404627435,1.4822455371184415,0.7461778259279073,0.9065304354269638,2.0473969492217203,2.197098894358208,4.863507452510962,8.265633848704162],\"z\":[0,1.0106004988271797E8,-3.8510707954956084E8,3.45685986377178E8,7.514902299150723E8,-9.36355936180694E9,1.8117410333949955E9,-3.58903554411718E9,-3.039066407069115E9,1.3043928974893665E10]}]},{\"name\":\"trace85\",\"data\":[{\"name\":\"trace85\",\"type\":\"scatter3d\",\"xaxis\":\"x\",\"yaxis\":\"y\",\"x\":[0,1,2,3,4,5,6,7,8,9],\"y\":[0,0.9682310546164199,1.4351899979140563,0.09621097191419159,3.416785385930333,2.916896050247453,4.218607314588617,5.882420647186146,5.934107809098134,5.6313772872902135],\"z\":[0,-1.2730356020582573E8,-1.70282507024959E8,-1.9289851266002733E8,2.0328542932228858E9,2.9995164302330726E8,1.1041580129382648E10,2.022153695658356E9,5.002280475683731E9,1.1082655533304925E9]}]},{\"name\":\"trace86\",\"data\":[{\"name\":\"trace86\",\"type\":\"scatter3d\",\"xaxis\":\"x\",\"yaxis\":\"y\",\"x\":[0,1,2,3,4,5,6,7,8,9],\"y\":[0,0.4939971781294076,0.39474292292015156,2.126136421254953,0.4470853625450566,1.951665833861418,4.83532135204247,6.187452919203204,0.3600986329056566,3.9280496883021656],\"z\":[0,1.3851048063309057E9,3.4705595149428415E8,1.0433497426652136E9,2.214962972296659E9,1.4098013734367716E8,-3.583145079260028E9,9.854315629621372E7,9.685950671609312E8,2.1011212336433786E8]}]},{\"name\":\"trace87\",\"data\":[{\"name\":\"trace87\",\"type\":\"scatter3d\",\"xaxis\":\"x\",\"yaxis\":\"y\",\"x\":[0,1,2,3,4,5,6,7,8,9],\"y\":[0,0.9977810361890376,0.9236529449927169,0.23964493400536113,3.090943989521103,2.407874981315387,0.8545783636432922,5.490909852047003,0.1419944059109115,5.9235448032695315],\"z\":[0,4.898232467637928E8,1.8568748264054787E9,3.3416005104428496E9,5.432320989568837E9,4.679118066950544E9,2.827015527722421E8,-5.506862222488743E9,-2.316577216803221E9,4.151225921940566E8]}]},{\"name\":\"trace88\",\"data\":[{\"name\":\"trace88\",\"type\":\"scatter3d\",\"xaxis\":\"x\",\"yaxis\":\"y\",\"x\":[0,1,2,3,4,5,6,7,8,9],\"y\":[0,0.2764815152108828,1.2355907511935722,0.4177148415171429,1.4111863524774213,4.241040795333021,2.7940371357067795,4.8498797269012215,0.351473997044522,4.309632567809112],\"z\":[0,-2568028.466855091,-1.828466365655026E8,-3.595413204860342E9,-1.2279311161881607E9,1.740374915544737E9,-8.98577572344243E8,8.069340736813471E9,-2.1107569401858919E9,4.751479377410741E9]}]},{\"name\":\"trace89\",\"data\":[{\"name\":\"trace89\",\"type\":\"scatter3d\",\"xaxis\":\"x\",\"yaxis\":\"y\",\"x\":[0,1,2,3,4,5,6,7,8,9],\"y\":[0,0.3833570127263508,0.9519402994314714,2.7475760827896734,0.6160281448990528,1.7667543505077905,1.9000102691493501,5.75489032395976,1.2617108624604425,0.43883462091117786],\"z\":[0,4.558611597767064E8,4.5259802368571424E8,2.7230658493930616E9,-2.014193968707866E9,-5.538172478772095E8,3.5258585176123214E9,-5.354290039680591E9,-1.6780187192543812E9,7.768759247199479E9]}]},{\"name\":\"trace90\",\"data\":[{\"name\":\"trace90\",\"type\":\"scatter3d\",\"xaxis\":\"x\",\"yaxis\":\"y\",\"x\":[0,1,2,3,4,5,6,7,8,9],\"y\":[0,0.9072642775492624,1.8909793110653166,2.772730299261403,3.0947301775071603,1.5104899018396294,4.6804674382768745,0.2878443033536824,5.583214863957515,8.075072686082164],\"z\":[0,3.008773350151105E8,3.5566077072223234E8,-3.409697951561376E7,2.0844419505668592E8,6.9083264968935375E9,3.271391511369841E9,1.0838320424512447E10,3.5643404150209613E9,2.0280133626435788E9]}]},{\"name\":\"trace91\",\"data\":[{\"name\":\"trace91\",\"type\":\"scatter3d\",\"xaxis\":\"x\",\"yaxis\":\"y\",\"x\":[0,1,2,3,4,5,6,7,8,9],\"y\":[0,0.11713739739391937,0.31962573733111954,0.710548169600919,2.0162232995543867,3.8673827922374078,4.070885796098313,6.158109605395798,1.482537731185059,1.6535377114858811],\"z\":[0,-8.128664880669051E8,-9.18188551105031E8,-1.530094044852202E9,2.3704532919672647E9,2.33638767626748E9,2.5034460394214156E8,-5.120491039995962E9,-5.018605263536333E9,1.2011760753216452E10]}]},{\"name\":\"trace92\",\"data\":[{\"name\":\"trace92\",\"type\":\"scatter3d\",\"xaxis\":\"x\",\"yaxis\":\"y\",\"x\":[0,1,2,3,4,5,6,7,8,9],\"y\":[0,0.14146768345738447,1.0800770991869568,2.5985743987819,0.28934988255199867,2.5602707819095234,0.813360039337985,1.501564356230543,6.79246676720583,0.9455639422394994],\"z\":[0,6.571756692721442E8,4.089171447912654E7,-1.4774872420711372E9,4.677200102346669E8,-4.1789036338207517E9,3.668730025310965E9,-1.095815981854506E10,2.005247628753088E9,1.3501145811557708E9]}]},{\"name\":\"trace93\",\"data\":[{\"name\":\"trace93\",\"type\":\"scatter3d\",\"xaxis\":\"x\",\"yaxis\":\"y\",\"x\":[0,1,2,3,4,5,6,7,8,9],\"y\":[0,0.37861734957122206,0.4022838384745959,2.300508907053638,1.730833463473966,0.09154758754266967,3.730096254795429,1.909512251447347,3.951364773907464,8.855021421350404],\"z\":[0,4.7135027087939525E8,-3.4635995761929393E9,3.2992372674129357E9,-2.1598667076886004E8,7.5974890653227215E9,1.5747470258263152E9,-4.551161081623268E9,6.223005331109392E9,-6.594845501910816E9]}]},{\"name\":\"trace94\",\"data\":[{\"name\":\"trace94\",\"type\":\"scatter3d\",\"xaxis\":\"x\",\"yaxis\":\"y\",\"x\":[0,1,2,3,4,5,6,7,8,9],\"y\":[0,0.7254961349640955,0.895732587023315,1.3873592459205646,0.16441816010850596,1.0920449239031094,1.5108658779757493,0.9951614682688148,4.880926457047647,1.252936976046825],\"z\":[0,9.204373447612265E8,-3.0638246088925683E8,-1.1819604599609292E9,-2.1574548676353526E9,-3.255167371044976E9,2.9245865317091113E8,-9.64867449593295E8,-1.427403358900073E10,-1.2016577025804003E10]}]},{\"name\":\"trace95\",\"data\":[{\"name\":\"trace95\",\"type\":\"scatter3d\",\"xaxis\":\"x\",\"yaxis\":\"y\",\"x\":[0,1,2,3,4,5,6,7,8,9],\"y\":[0,0.6271575898862259,0.744670160379469,1.1109989623664736,3.911414132619609,1.001955009384781,4.630087050464728,6.087250639691897,7.590914146393377,2.9954349739719377],\"z\":[0,-1.0813510573909113E8,-1.063746139092068E8,-1.897009184063861E7,-1.6259784278948822E9,5.660067979566427E9,2.5303418579508386E9,9.1890626537438E9,-3.569877278163945E9,1.344393259405139E9]}]},{\"name\":\"trace96\",\"data\":[{\"name\":\"trace96\",\"type\":\"scatter3d\",\"xaxis\":\"x\",\"yaxis\":\"y\",\"x\":[0,1,2,3,4,5,6,7,8,9],\"y\":[0,0.2942921410042847,0.8309749722415123,2.8974848304524983,1.6171546586113097,1.8398946452900815,4.66103005107941,3.3269474295682295,2.792156801765392,4.007185879448081],\"z\":[0,-7.284118280430378E8,-4.1896474248579127E8,2.5793548274454737E9,-2.9360601761893253E9,5.429669711559059E9,1.936032756833868E8,3.787024262718684E9,-1.0892202107145746E10,-1.122715636670143E9]}]},{\"name\":\"trace97\",\"data\":[{\"name\":\"trace97\",\"type\":\"scatter3d\",\"xaxis\":\"x\",\"yaxis\":\"y\",\"x\":[0,1,2,3,4,5,6,7,8,9],\"y\":[0,0.7181413690414562,0.9241807228385515,0.8461181862333463,1.9154135151160085,1.478586968991284,2.8431177264002097,5.058052994087117,5.463558129925977,3.147748139044765],\"z\":[0,-1.160966642359493E9,2.833336334527253E8,2.648605155034174E9,-5.256318437790466E8,3.991978835678035E8,-5.815626549242423E8,-1.0166542278031906E9,-4.422969871252216E9,2.8933361719575334E9]}]},{\"name\":\"trace98\",\"data\":[{\"name\":\"trace98\",\"type\":\"scatter3d\",\"xaxis\":\"x\",\"yaxis\":\"y\",\"x\":[0,1,2,3,4,5,6,7,8,9],\"y\":[0,0.7679813086166603,1.4864261898208888,2.9330784708794457,2.267894320498174,0.7328141317472531,3.7655269274915923,1.7503740082038477,4.125286952052784,8.451265096661851],\"z\":[0,3.9779215498092246E8,-4.8940888577704525E8,1.820003740762627E9,-2.2754868370416436E9,3.7209267144687085E9,-4.0483544630735165E8,5.009350374991493E9,-1.5495121749064906E9,6.194936605631076E9]}]},{\"name\":\"trace99\",\"data\":[{\"name\":\"trace99\",\"type\":\"scatter3d\",\"xaxis\":\"x\",\"yaxis\":\"y\",\"x\":[0,1,2,3,4,5,6,7,8,9],\"y\":[0,0.9835028566946769,1.9500924400173252,0.700511897538774,0.7662937819622186,2.7839726726575447,0.6766029923496941,2.6260322026997183,5.414336469941607,3.507630013958165],\"z\":[0,-8.982600350300243E7,3.9651398402431375E8,1.1316838549094663E9,-6.369277730014364E8,1.965239367659182E9,3.0257720509966755E8,3.058562297715485E9,4.886894308582739E9,1.2878905365983099E10]}]}]\n",
       "var labels_cb1e1d1cabc575 = [\"trace0\",\"trace1\",\"trace2\",\"trace3\",\"trace4\",\"trace5\",\"trace6\",\"trace7\",\"trace8\",\"trace9\",\"trace10\",\"trace11\",\"trace12\",\"trace13\",\"trace14\",\"trace15\",\"trace16\",\"trace17\",\"trace18\",\"trace19\",\"trace20\",\"trace21\",\"trace22\",\"trace23\",\"trace24\",\"trace25\",\"trace26\",\"trace27\",\"trace28\",\"trace29\",\"trace30\",\"trace31\",\"trace32\",\"trace33\",\"trace34\",\"trace35\",\"trace36\",\"trace37\",\"trace38\",\"trace39\",\"trace40\",\"trace41\",\"trace42\",\"trace43\",\"trace44\",\"trace45\",\"trace46\",\"trace47\",\"trace48\",\"trace49\",\"trace50\",\"trace51\",\"trace52\",\"trace53\",\"trace54\",\"trace55\",\"trace56\",\"trace57\",\"trace58\",\"trace59\",\"trace60\",\"trace61\",\"trace62\",\"trace63\",\"trace64\",\"trace65\",\"trace66\",\"trace67\",\"trace68\",\"trace69\",\"trace70\",\"trace71\",\"trace72\",\"trace73\",\"trace74\",\"trace75\",\"trace76\",\"trace77\",\"trace78\",\"trace79\",\"trace80\",\"trace81\",\"trace82\",\"trace83\",\"trace84\",\"trace85\",\"trace86\",\"trace87\",\"trace88\",\"trace89\",\"trace90\",\"trace91\",\"trace92\",\"trace93\",\"trace94\",\"trace95\",\"trace96\",\"trace97\",\"trace98\",\"trace99\"]\n",
       "var duration_cb1e1d1cabc575 = 100\n",
       "\n",
       "var animation_settings_cb1e1d1cabc575 = {\n",
       "    mode: \"immediate\",\n",
       "    direction: {},\n",
       "    fromcurrent: true,\n",
       "    frame: [\n",
       "      {duration: duration_cb1e1d1cabc575},\n",
       "      {duration: duration_cb1e1d1cabc575},\n",
       "      {redraw: true}\n",
       "    ],\n",
       "    transition: [\n",
       "      {duration: duration_cb1e1d1cabc575, easing: 'cubic-in-out'},\n",
       "      {duration: duration_cb1e1d1cabc575, easing: 'cubic-in-out'},\n",
       "    ],\n",
       "    ordering: \"layout first\"\n",
       "}\n",
       "\n",
       "var slider_cb1e1d1cabc575 = document.createElement(\"input\")\n",
       "var play_cb1e1d1cabc575 = document.getElementById(\"play_cb1e1d1cabc575\")\n",
       "var pause_cb1e1d1cabc575 = document.getElementById(\"pause_cb1e1d1cabc575\")\n",
       "slider_cb1e1d1cabc575.id = \"slider_cb1e1d1cabc575\"\n",
       "slider_cb1e1d1cabc575.type = \"range\"\n",
       "slider_cb1e1d1cabc575.min = 0\n",
       "slider_cb1e1d1cabc575.max = frames_cb1e1d1cabc575.length - 1\n",
       "slider_cb1e1d1cabc575.value = 0\n",
       "document.getElementById(\"sliderContainer_cb1e1d1cabc575\").appendChild(slider_cb1e1d1cabc575);\n",
       "\n",
       "Plotly.newPlot(graph_cb1e1d1cabc575, traces_cb1e1d1cabc575, layout_cb1e1d1cabc575)\n",
       ".then(function () { Plotly.addFrames(graph_cb1e1d1cabc575, frames_cb1e1d1cabc575) })\n",
       "\n",
       "var trigger_cb1e1d1cabc575 = true\n",
       "var reset_count_cb1e1d1cabc575 = false\n",
       "\n",
       "\n",
       "play_cb1e1d1cabc575.addEventListener('click', function() {\n",
       "   trigger_cb1e1d1cabc575 = true\n",
       "   if (reset_count_cb1e1d1cabc575) {\n",
       "      slider_cb1e1d1cabc575.value = 0\n",
       "      reset_count_cb1e1d1cabc575 = false\n",
       "   }\n",
       "\n",
       "  const start_index = slider_cb1e1d1cabc575.value == labels_cb1e1d1cabc575.length - 1 ? 0 : slider_cb1e1d1cabc575.value\n",
       "  const end_index = labels_cb1e1d1cabc575.length\n",
       "  Plotly.animate(graph_cb1e1d1cabc575, labels_cb1e1d1cabc575.slice(start_index, end_index), animation_settings_cb1e1d1cabc575)\n",
       "})\n",
       "\n",
       "pause_cb1e1d1cabc575.addEventListener('click', function() {\n",
       "  Plotly.animate(graph_cb1e1d1cabc575, [null], animation_settings_cb1e1d1cabc575)\n",
       "})\n",
       "\n",
       "graph_cb1e1d1cabc575.on('plotly_redraw', () => {\n",
       "   value_cb1e1d1cabc575.innerHTML = slider_cb1e1d1cabc575.value;\n",
       "   if (trigger_cb1e1d1cabc575 & !reset_count_cb1e1d1cabc575) ++slider_cb1e1d1cabc575.value\n",
       "   if (slider_cb1e1d1cabc575.value == labels_cb1e1d1cabc575.length - 1) reset_count_cb1e1d1cabc575 = true\n",
       "});\n",
       "\n",
       "slider_cb1e1d1cabc575.oninput = function() {\n",
       "   Plotly.animate(graph_cb1e1d1cabc575, frames_cb1e1d1cabc575[this.value], animation_settings_cb1e1d1cabc575)\n",
       "   trigger_cb1e1d1cabc575 = false\n",
       "   slider_cb1e1d1cabc575.value = this.value\n",
       "   value_cb1e1d1cabc575.innerHTML = this.value;\n",
       "   if (this.value == 0) reset_count_cb1e1d1cabc575 = false\n",
       "   if (this.value == labels_cb1e1d1cabc575.length - 1) reset_count_cb1e1d1cabc575 = true\n",
       "   reset_count_cb1e1d1cabc575 = false\n",
       "}\n",
       "</script>\n"
      ]
     },
     "metadata": {},
     "output_type": "display_data"
    }
   ],
   "source": [
    "val series = createXYZSeries(numberToCreate=100)\n",
    "\n",
    "val layout = Layout(\"Animation.XYZ\")\n",
    "\n",
    "val chart = Chart(animated=true) setLayout layout setData series\n",
    "\n",
    "chart.plot_inline()"
   ]
  },
  {
   "cell_type": "markdown",
   "metadata": {},
   "source": [
    "## IO + Utility Functions\n",
    "\n",
    "The library also comes with some basic CSV IO functions and a utility function for breaking down data"
   ]
  },
  {
   "cell_type": "code",
   "execution_count": 28,
   "metadata": {},
   "outputs": [],
   "source": [
    "import picta.IO.IO.{getWorkingDirectory, readCSV}\n",
    "import picta.charts.Chart\n",
    "import picta.common.Utils.getSeriesbyCategory\n",
    "import picta.options.Layout\n",
    "import picta.series.XYSeries"
   ]
  },
  {
   "cell_type": "code",
   "execution_count": 29,
   "metadata": {},
   "outputs": [
    {
     "name": "stdout",
     "output_type": "stream",
     "text": [
      "/Users/fazi/IdeaProjects/irp-acse-fk4517/Code\n"
     ]
    }
   ],
   "source": [
    "val working_directory = getWorkingDirectory\n",
    "\n",
    "println(working_directory)"
   ]
  },
  {
   "cell_type": "code",
   "execution_count": 30,
   "metadata": {},
   "outputs": [],
   "source": [
    "// by providing a path, we can read in a CSV\n",
    "val filepath = working_directory + \"/iris_csv.csv\"\n",
    "\n",
    "val data = readCSV(filepath)\n",
    "\n",
    "// by default, CSV are read in as strings. However we can convert the individual columns to the correct format\n",
    "val sepal_length = data(\"sepallength\").map(_.toDouble)\n",
    "val petal_width = data(\"petalwidth\").map(_.toDouble)\n",
    "val categories = data(\"class\")"
   ]
  },
  {
   "cell_type": "code",
   "execution_count": 31,
   "metadata": {},
   "outputs": [
    {
     "data": {
      "text/html": [
       "\n",
       "<div align=\"center\">\n",
       "<div id='graph_086b9cca4c06d2' class='graph'></div>\n",
       "</div>\n",
       "<script>\n",
       " var traces_086b9cca4c06d2 = [{\"name\":\"0d04c9d\",\"type\":\"scatter\",\"mode\":\"markers\",\"x\":[5.9,6.2,6.5,6.3,6.7,6.7,6.8,5.8,6.9,6.7,6.9,6,6.4,6.3,7.7,6.1,6.3,6.4,7.9,7.4,7.2,6.4,6.1,6.2,7.2,6.7,6.3,7.7,5.6,6.9,6,7.7,7.7,6.5,6.4,5.8,5.7,6.8,6.4,6.5,7.2,6.7,7.3,4.9,7.6,6.5,6.3,7.1,5.8,6.3,5.7,5.1,6.2,5.7,5.7,5.6,5,5.8,6.1,5.5,5.5,5.6,6.3,6.7,6,5.4,6,5.8,5.5,5.5,5.7,6,6.7,6.8,6.6,6.4,6.1,6.3,6.1,5.9,5.6,6.2,5.8,5.6,6.7,5.6,6.1,6,5.9,5,5.2,6.6,4.9,6.3,5.7,6.5,5.5,6.9,6.4,7,5,5.3,4.6,5.1,4.8,5.1,5,4.4,4.5,5,5.1,4.4,4.9,5.5,5,4.9,5.5,5.2,5.4,4.8,4.7,5.2,5.2,5,5,4.8,5.1,4.6,5.1,5.4,5.1,5.7,5.1,5.4,5.7,5.8,4.3,4.8,4.8,5.4,4.9,4.4,5,4.6,5.4,5,4.6,4.7,4.9,5.1],\"y\":[1.8,2.3,2,1.9,2.3,2.5,2.3,1.9,2.3,2.4,2.1,1.8,1.8,2.4,2.3,1.4,1.5,2.2,2,1.9,1.6,2.1,1.8,1.8,1.8,2.1,1.8,2,2,2.3,1.5,2.3,2.2,1.8,2.3,2.4,2,2.1,1.9,2,2.5,1.8,1.8,1.7,2.1,2.2,1.8,2.1,1.9,2.5,1.3,1.1,1.3,1.3,1.2,1.3,1,1.2,1.4,1.2,1.3,1.3,1.3,1.5,1.6,1.5,1.6,1.2,1,1.1,1,1.5,1.7,1.4,1.4,1.3,1.2,1.5,1.3,1.8,1.1,1.5,1,1.5,1.4,1.3,1.4,1,1.5,1,1.4,1.3,1,1.6,1.3,1.5,1.3,1.5,1.5,1.4,0.2,0.2,0.2,0.2,0.3,0.4,0.6,0.2,0.3,0.3,0.2,0.2,0.1,0.2,0.2,0.1,0.2,0.1,0.4,0.2,0.2,0.2,0.2,0.4,0.2,0.2,0.5,0.2,0.4,0.2,0.3,0.3,0.3,0.4,0.4,0.2,0.1,0.1,0.2,0.2,0.1,0.2,0.2,0.3,0.4,0.2,0.2,0.2,0.2,0.2]}];\n",
       " var layout_086b9cca4c06d2 = {\"height\":550,\"width\":600,\"title\":{\"text\":\"Uninformative Chart\"},\"showlegend\":false};\n",
       " var config_086b9cca4c06d2 = {\"responsive\":true,\"scrollZoom\":true,\"displaylogo\":false};\n",
       " Plotly.newPlot(\"graph_086b9cca4c06d2\", traces_086b9cca4c06d2, layout_086b9cca4c06d2, config_086b9cca4c06d2);\n",
       "</script>\n"
      ]
     },
     "metadata": {},
     "output_type": "display_data"
    }
   ],
   "source": [
    "val data = XY(sepal_length, petal_width, series_type=SCATTER, series_mode=MARKERS)\n",
    "\n",
    "val chart = Chart() setData data setLayout Layout(title = \"Uninformative Chart\")\n",
    "\n",
    "chart.plot_inline()"
   ]
  },
  {
   "cell_type": "markdown",
   "metadata": {},
   "source": [
    "The above chart is not very informative. However since we have the per data point category labels, we can use the utility function to display the data in the different clusters"
   ]
  },
  {
   "cell_type": "code",
   "execution_count": 32,
   "metadata": {},
   "outputs": [
    {
     "data": {
      "text/html": [
       "\n",
       "<div align=\"center\">\n",
       "<div id='graph_699f273de0e036' class='graph'></div>\n",
       "</div>\n",
       "<script>\n",
       " var traces_699f273de0e036 = [{\"name\":\"Iris-virginica\",\"type\":\"scatter\",\"mode\":\"markers\",\"x\":[6.3,5.8,7.1,6.3,6.5,7.6,4.9,7.3,6.7,7.2,6.5,6.4,6.8,5.7,5.8,6.4,6.5,7.7,7.7,6,6.9,5.6,7.7,6.3,6.7,7.2,6.2,6.1,6.4,7.2,7.4,7.9,6.4,6.3,6.1,7.7,6.3,6.4,6,6.9,6.7,6.9,5.8,6.8,6.7,6.7,6.3,6.5,6.2,5.9],\"y\":[2.5,1.9,2.1,1.8,2.2,2.1,1.7,1.8,1.8,2.5,2,1.9,2.1,2,2.4,2.3,1.8,2.2,2.3,1.5,2.3,2,2,1.8,2.1,1.8,1.8,1.8,2.1,1.6,1.9,2,2.2,1.5,1.4,2.3,2.4,1.8,1.8,2.1,2.4,2.3,1.9,2.3,2.5,2.3,1.9,2,2.3,1.8]},{\"name\":\"Iris-setosa\",\"type\":\"scatter\",\"mode\":\"markers\",\"x\":[5.1,4.9,4.7,4.6,5,5.4,4.6,5,4.4,4.9,5.4,4.8,4.8,4.3,5.8,5.7,5.4,5.1,5.7,5.1,5.4,5.1,4.6,5.1,4.8,5,5,5.2,5.2,4.7,4.8,5.4,5.2,5.5,4.9,5,5.5,4.9,4.4,5.1,5,4.5,4.4,5,5.1,4.8,5.1,4.6,5.3,5],\"y\":[0.2,0.2,0.2,0.2,0.2,0.4,0.3,0.2,0.2,0.1,0.2,0.2,0.1,0.1,0.2,0.4,0.4,0.3,0.3,0.3,0.2,0.4,0.2,0.5,0.2,0.2,0.4,0.2,0.2,0.2,0.2,0.4,0.1,0.2,0.1,0.2,0.2,0.1,0.2,0.2,0.3,0.3,0.2,0.6,0.4,0.3,0.2,0.2,0.2,0.2]},{\"name\":\"Iris-versicolor\",\"type\":\"scatter\",\"mode\":\"markers\",\"x\":[7,6.4,6.9,5.5,6.5,5.7,6.3,4.9,6.6,5.2,5,5.9,6,6.1,5.6,6.7,5.6,5.8,6.2,5.6,5.9,6.1,6.3,6.1,6.4,6.6,6.8,6.7,6,5.7,5.5,5.5,5.8,6,5.4,6,6.7,6.3,5.6,5.5,5.5,6.1,5.8,5,5.6,5.7,5.7,6.2,5.1,5.7],\"y\":[1.4,1.5,1.5,1.3,1.5,1.3,1.6,1,1.3,1.4,1,1.5,1,1.4,1.3,1.4,1.5,1,1.5,1.1,1.8,1.3,1.5,1.2,1.3,1.4,1.4,1.7,1.5,1,1.1,1,1.2,1.6,1.5,1.6,1.5,1.3,1.3,1.3,1.2,1.4,1.2,1,1.3,1.2,1.3,1.3,1.1,1.3]}];\n",
       " var layout_699f273de0e036 = {\"height\":550,\"width\":600,\"title\":{\"text\":\"Iris\"},\"showlegend\":true};\n",
       " var config_699f273de0e036 = {\"responsive\":true,\"scrollZoom\":true,\"displaylogo\":false};\n",
       " Plotly.newPlot(\"graph_699f273de0e036\", traces_699f273de0e036, layout_699f273de0e036, config_699f273de0e036);\n",
       "</script>\n"
      ]
     },
     "metadata": {},
     "output_type": "display_data"
    }
   ],
   "source": [
    "val result: List[XYSeries] = getSeriesbyCategory(categories, (sepal_length, petal_width))\n",
    "\n",
    "val chart = Chart() setData result setLayout Layout(title = \"Iris\", showlegend = true)\n",
    "\n",
    "chart.plot_inline()"
   ]
  }
 ],
 "metadata": {
  "kernelspec": {
   "display_name": "Scala",
   "language": "scala",
   "name": "scala"
  },
  "language_info": {
   "codemirror_mode": "text/x-scala",
   "file_extension": ".scala",
   "mimetype": "text/x-scala",
   "name": "scala",
   "nbconvert_exporter": "script",
   "version": "2.13.2"
  }
 },
 "nbformat": 4,
 "nbformat_minor": 4
}
