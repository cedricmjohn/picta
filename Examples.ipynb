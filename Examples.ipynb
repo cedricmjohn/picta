{
 "cells": [
  {
   "cell_type": "code",
   "execution_count": 1,
   "metadata": {
    "scrolled": true
   },
   "outputs": [],
   "source": [
    "interp.repositories() ++= Seq(coursierapi.MavenRepository.of(\n",
    "\"https://jitpack.io\"\n",
    "))"
   ]
  },
  {
   "cell_type": "code",
   "execution_count": 2,
   "metadata": {},
   "outputs": [
    {
     "data": {
      "text/plain": [
       "\u001b[32mimport \u001b[39m\u001b[36m$ivy.$                                  \u001b[39m"
      ]
     },
     "execution_count": 2,
     "metadata": {},
     "output_type": "execute_result"
    }
   ],
   "source": [
    "import $ivy. `org.carbonateresearch::picta:0.1`"
   ]
  },
  {
   "cell_type": "code",
   "execution_count": 3,
   "metadata": {
    "scrolled": false
   },
   "outputs": [
    {
     "data": {
      "text/html": [
       "\n",
       "<style> #animationInterface {\n",
       "    margin-top: 50px;\n",
       "    margin-bottom: 50px;\n",
       "}\n",
       "\n",
       ".progressBar {\n",
       "    padding-top: 20px;\n",
       "    padding-bottom: 20px;\n",
       "}\n",
       "\n",
       ".inline-div {\n",
       "    display: block;\n",
       "    text-align: center;\n",
       "}\n",
       "\n",
       "h3 {\n",
       "    display: inline-block;\n",
       "    text-align: center;\n",
       "}\n",
       "\n",
       ".picta-button {\n",
       "    background-color: #003E74;\n",
       "    border: none;\n",
       "    color: white;\n",
       "    padding: 12px 28px;\n",
       "    text-align: center;\n",
       "    text-decoration: none;\n",
       "    display: inline-block;\n",
       "    font-size: 12px;\n",
       "    margin-top: 50px;\n",
       "    transition-duration: 0.4s;\n",
       "    cursor: pointer;\n",
       "}\n",
       "\n",
       ".picta-button:hover {\n",
       "    background-color: #002147;\n",
       "    color: white;\n",
       "}\n",
       "\n",
       ".grid-title h1 {\n",
       "    font-family: \"Open Sans\", verdana, arial, sans-serif;\n",
       "    font-weight: normal;\n",
       "}\n",
       "\n",
       ".grid-container {\n",
       "    padding-top: 40px;\n",
       "    background: white;\n",
       "} </style>\n",
       "<script> /** vim: et:ts=4:sw=4:sts=4\n",
       " * @license RequireJS 2.3.6 Copyright jQuery Foundation and other contributors.\n",
       " * Released under MIT license, https://github.com/requirejs/requirejs/blob/master/LICENSE\n",
       " */\n",
       "var requirejs,require,define;!function(global,setTimeout){var req,s,head,baseElement,dataMain,src,interactiveScript,currentlyAddingScript,mainScript,subPath,version=\"2.3.6\",commentRegExp=/\\/\\*[\\s\\S]*?\\*\\/|([^:\"'=]|^)\\/\\/.*$/gm,cjsRequireRegExp=/[^.]\\s*require\\s*\\(\\s*[\"']([^'\"\\s]+)[\"']\\s*\\)/g,jsSuffixRegExp=/\\.js$/,currDirRegExp=/^\\.\\//,op=Object.prototype,ostring=op.toString,hasOwn=op.hasOwnProperty,isBrowser=!(\"undefined\"==typeof window||\"undefined\"==typeof navigator||!window.document),isWebWorker=!isBrowser&&\"undefined\"!=typeof importScripts,readyRegExp=isBrowser&&\"PLAYSTATION 3\"===navigator.platform?/^complete$/:/^(complete|loaded)$/,defContextName=\"_\",isOpera=\"undefined\"!=typeof opera&&\"[object Opera]\"===opera.toString(),contexts={},cfg={},globalDefQueue=[],useInteractive=!1;function commentReplace(e,t){return t||\"\"}function isFunction(e){return\"[object Function]\"===ostring.call(e)}function isArray(e){return\"[object Array]\"===ostring.call(e)}function each(e,t){var i;if(e)for(i=0;i<e.length&&(!e[i]||!t(e[i],i,e));i+=1);}function eachReverse(e,t){var i;if(e)for(i=e.length-1;-1<i&&(!e[i]||!t(e[i],i,e));i-=1);}function hasProp(e,t){return hasOwn.call(e,t)}function getOwn(e,t){return hasProp(e,t)&&e[t]}function eachProp(e,t){var i;for(i in e)if(hasProp(e,i)&&t(e[i],i))break}function mixin(i,e,r,n){return e&&eachProp(e,function(e,t){!r&&hasProp(i,t)||(!n||\"object\"!=typeof e||!e||isArray(e)||isFunction(e)||e instanceof RegExp?i[t]=e:(i[t]||(i[t]={}),mixin(i[t],e,r,n)))}),i}function bind(e,t){return function(){return t.apply(e,arguments)}}function scripts(){return document.getElementsByTagName(\"script\")}function defaultOnError(e){throw e}function getGlobal(e){if(!e)return e;var t=global;return each(e.split(\".\"),function(e){t=t[e]}),t}function makeError(e,t,i,r){var n=new Error(t+\"\\nhttps://requirejs.org/docs/errors.html#\"+e);return n.requireType=e,n.requireModules=r,i&&(n.originalError=i),n}if(void 0===define){if(void 0!==requirejs){if(isFunction(requirejs))return;cfg=requirejs,requirejs=void 0}void 0===require||isFunction(require)||(cfg=require,require=void 0),req=requirejs=function(e,t,i,r){var n,o,a=defContextName;return isArray(e)||\"string\"==typeof e||(o=e,isArray(t)?(e=t,t=i,i=r):e=[]),o&&o.context&&(a=o.context),(n=getOwn(contexts,a))||(n=contexts[a]=req.s.newContext(a)),o&&n.configure(o),n.require(e,t,i)},req.config=function(e){return req(e)},req.nextTick=void 0!==setTimeout?function(e){setTimeout(e,4)}:function(e){e()},require||(require=req),req.version=version,req.jsExtRegExp=/^\\/|:|\\?|\\.js$/,req.isBrowser=isBrowser,s=req.s={contexts:contexts,newContext:newContext},req({}),each([\"toUrl\",\"undef\",\"defined\",\"specified\"],function(t){req[t]=function(){var e=contexts[defContextName];return e.require[t].apply(e,arguments)}}),isBrowser&&(head=s.head=document.getElementsByTagName(\"head\")[0],baseElement=document.getElementsByTagName(\"base\")[0],baseElement&&(head=s.head=baseElement.parentNode)),req.onError=defaultOnError,req.createNode=function(e,t,i){var r=e.xhtml?document.createElementNS(\"http://www.w3.org/1999/xhtml\",\"html:script\"):document.createElement(\"script\");return r.type=e.scriptType||\"text/javascript\",r.charset=\"utf-8\",r.async=!0,r},req.load=function(t,i,r){var e,n=t&&t.config||{};if(isBrowser)return(e=req.createNode(n,i,r)).setAttribute(\"data-requirecontext\",t.contextName),e.setAttribute(\"data-requiremodule\",i),!e.attachEvent||e.attachEvent.toString&&e.attachEvent.toString().indexOf(\"[native code\")<0||isOpera?(e.addEventListener(\"load\",t.onScriptLoad,!1),e.addEventListener(\"error\",t.onScriptError,!1)):(useInteractive=!0,e.attachEvent(\"onreadystatechange\",t.onScriptLoad)),e.src=r,n.onNodeCreated&&n.onNodeCreated(e,n,i,r),currentlyAddingScript=e,baseElement?head.insertBefore(e,baseElement):head.appendChild(e),currentlyAddingScript=null,e;if(isWebWorker)try{setTimeout(function(){},0),importScripts(r),t.completeLoad(i)}catch(e){t.onError(makeError(\"importscripts\",\"importScripts failed for \"+i+\" at \"+r,e,[i]))}},isBrowser&&!cfg.skipDataMain&&eachReverse(scripts(),function(e){if(head||(head=e.parentNode),dataMain=e.getAttribute(\"data-main\"))return mainScript=dataMain,cfg.baseUrl||-1!==mainScript.indexOf(\"!\")||(mainScript=(src=mainScript.split(\"/\")).pop(),subPath=src.length?src.join(\"/\")+\"/\":\"./\",cfg.baseUrl=subPath),mainScript=mainScript.replace(jsSuffixRegExp,\"\"),req.jsExtRegExp.test(mainScript)&&(mainScript=dataMain),cfg.deps=cfg.deps?cfg.deps.concat(mainScript):[mainScript],!0}),define=function(e,i,t){var r,n;\"string\"!=typeof e&&(t=i,i=e,e=null),isArray(i)||(t=i,i=null),!i&&isFunction(t)&&(i=[],t.length&&(t.toString().replace(commentRegExp,commentReplace).replace(cjsRequireRegExp,function(e,t){i.push(t)}),i=(1===t.length?[\"require\"]:[\"require\",\"exports\",\"module\"]).concat(i))),useInteractive&&(r=currentlyAddingScript||getInteractiveScript())&&(e||(e=r.getAttribute(\"data-requiremodule\")),n=contexts[r.getAttribute(\"data-requirecontext\")]),n?(n.defQueue.push([e,i,t]),n.defQueueMap[e]=!0):globalDefQueue.push([e,i,t])},define.amd={jQuery:!0},req.exec=function(text){return eval(text)},req(cfg)}function newContext(u){var i,e,l,c,d,g={waitSeconds:7,baseUrl:\"./\",paths:{},bundles:{},pkgs:{},shim:{},config:{}},p={},f={},r={},h=[],m={},n={},v={},x=1,b=1;function q(e,t,i){var r,n,o,a,s,u,c,d,p,f,l=t&&t.split(\"/\"),h=g.map,m=h&&h[\"*\"];if(e&&(u=(e=e.split(\"/\")).length-1,g.nodeIdCompat&&jsSuffixRegExp.test(e[u])&&(e[u]=e[u].replace(jsSuffixRegExp,\"\")),\".\"===e[0].charAt(0)&&l&&(e=l.slice(0,l.length-1).concat(e)),function(e){var t,i;for(t=0;t<e.length;t++)if(\".\"===(i=e[t]))e.splice(t,1),t-=1;else if(\"..\"===i){if(0===t||1===t&&\"..\"===e[2]||\"..\"===e[t-1])continue;0<t&&(e.splice(t-1,2),t-=2)}}(e),e=e.join(\"/\")),i&&h&&(l||m)){e:for(o=(n=e.split(\"/\")).length;0<o;o-=1){if(s=n.slice(0,o).join(\"/\"),l)for(a=l.length;0<a;a-=1)if((r=getOwn(h,l.slice(0,a).join(\"/\")))&&(r=getOwn(r,s))){c=r,d=o;break e}!p&&m&&getOwn(m,s)&&(p=getOwn(m,s),f=o)}!c&&p&&(c=p,d=f),c&&(n.splice(0,d,c),e=n.join(\"/\"))}return getOwn(g.pkgs,e)||e}function E(t){isBrowser&&each(scripts(),function(e){if(e.getAttribute(\"data-requiremodule\")===t&&e.getAttribute(\"data-requirecontext\")===l.contextName)return e.parentNode.removeChild(e),!0})}function w(e){var t=getOwn(g.paths,e);if(t&&isArray(t)&&1<t.length)return t.shift(),l.require.undef(e),l.makeRequire(null,{skipMap:!0})([e]),!0}function y(e){var t,i=e?e.indexOf(\"!\"):-1;return-1<i&&(t=e.substring(0,i),e=e.substring(i+1,e.length)),[t,e]}function S(e,t,i,r){var n,o,a,s,u=null,c=t?t.name:null,d=e,p=!0,f=\"\";return e||(p=!1,e=\"_@r\"+(x+=1)),u=(s=y(e))[0],e=s[1],u&&(u=q(u,c,r),o=getOwn(m,u)),e&&(u?f=i?e:o&&o.normalize?o.normalize(e,function(e){return q(e,c,r)}):-1===e.indexOf(\"!\")?q(e,c,r):e:(u=(s=y(f=q(e,c,r)))[0],f=s[1],i=!0,n=l.nameToUrl(f))),{prefix:u,name:f,parentMap:t,unnormalized:!!(a=!u||o||i?\"\":\"_unnormalized\"+(b+=1)),url:n,originalName:d,isDefine:p,id:(u?u+\"!\"+f:f)+a}}function k(e){var t=e.id,i=getOwn(p,t);return i||(i=p[t]=new l.Module(e)),i}function M(e,t,i){var r=e.id,n=getOwn(p,r);!hasProp(m,r)||n&&!n.defineEmitComplete?(n=k(e)).error&&\"error\"===t?i(n.error):n.on(t,i):\"defined\"===t&&i(m[r])}function O(i,e){var t=i.requireModules,r=!1;e?e(i):(each(t,function(e){var t=getOwn(p,e);t&&(t.error=i,t.events.error&&(r=!0,t.emit(\"error\",i)))}),r||req.onError(i))}function j(){globalDefQueue.length&&(each(globalDefQueue,function(e){var t=e[0];\"string\"==typeof t&&(l.defQueueMap[t]=!0),h.push(e)}),globalDefQueue=[])}function P(e){delete p[e],delete f[e]}function R(){var e,r,t=1e3*g.waitSeconds,n=t&&l.startTime+t<(new Date).getTime(),o=[],a=[],s=!1,u=!0;if(!i){if(i=!0,eachProp(f,function(e){var t=e.map,i=t.id;if(e.enabled&&(t.isDefine||a.push(e),!e.error))if(!e.inited&&n)w(i)?s=r=!0:(o.push(i),E(i));else if(!e.inited&&e.fetched&&t.isDefine&&(s=!0,!t.prefix))return u=!1}),n&&o.length)return(e=makeError(\"timeout\",\"Load timeout for modules: \"+o,null,o)).contextName=l.contextName,O(e);u&&each(a,function(e){!function n(o,a,s){var e=o.map.id;o.error?o.emit(\"error\",o.error):(a[e]=!0,each(o.depMaps,function(e,t){var i=e.id,r=getOwn(p,i);!r||o.depMatched[t]||s[i]||(getOwn(a,i)?(o.defineDep(t,m[i]),o.check()):n(r,a,s))}),s[e]=!0)}(e,{},{})}),n&&!r||!s||!isBrowser&&!isWebWorker||d||(d=setTimeout(function(){d=0,R()},50)),i=!1}}function a(e){hasProp(m,e[0])||k(S(e[0],null,!0)).init(e[1],e[2])}function o(e,t,i,r){e.detachEvent&&!isOpera?r&&e.detachEvent(r,t):e.removeEventListener(i,t,!1)}function s(e){var t=e.currentTarget||e.srcElement;return o(t,l.onScriptLoad,\"load\",\"onreadystatechange\"),o(t,l.onScriptError,\"error\"),{node:t,id:t&&t.getAttribute(\"data-requiremodule\")}}function T(){var e;for(j();h.length;){if(null===(e=h.shift())[0])return O(makeError(\"mismatch\",\"Mismatched anonymous define() module: \"+e[e.length-1]));a(e)}l.defQueueMap={}}return c={require:function(e){return e.require?e.require:e.require=l.makeRequire(e.map)},exports:function(e){if(e.usingExports=!0,e.map.isDefine)return e.exports?m[e.map.id]=e.exports:e.exports=m[e.map.id]={}},module:function(e){return e.module?e.module:e.module={id:e.map.id,uri:e.map.url,config:function(){return getOwn(g.config,e.map.id)||{}},exports:e.exports||(e.exports={})}}},(e=function(e){this.events=getOwn(r,e.id)||{},this.map=e,this.shim=getOwn(g.shim,e.id),this.depExports=[],this.depMaps=[],this.depMatched=[],this.pluginMaps={},this.depCount=0}).prototype={init:function(e,t,i,r){r=r||{},this.inited||(this.factory=t,i?this.on(\"error\",i):this.events.error&&(i=bind(this,function(e){this.emit(\"error\",e)})),this.depMaps=e&&e.slice(0),this.errback=i,this.inited=!0,this.ignore=r.ignore,r.enabled||this.enabled?this.enable():this.check())},defineDep:function(e,t){this.depMatched[e]||(this.depMatched[e]=!0,this.depCount-=1,this.depExports[e]=t)},fetch:function(){if(!this.fetched){this.fetched=!0,l.startTime=(new Date).getTime();var e=this.map;if(!this.shim)return e.prefix?this.callPlugin():this.load();l.makeRequire(this.map,{enableBuildCallback:!0})(this.shim.deps||[],bind(this,function(){return e.prefix?this.callPlugin():this.load()}))}},load:function(){var e=this.map.url;n[e]||(n[e]=!0,l.load(this.map.id,e))},check:function(){if(this.enabled&&!this.enabling){var t,e,i=this.map.id,r=this.depExports,n=this.exports,o=this.factory;if(this.inited){if(this.error)this.emit(\"error\",this.error);else if(!this.defining){if(this.defining=!0,this.depCount<1&&!this.defined){if(isFunction(o)){if(this.events.error&&this.map.isDefine||req.onError!==defaultOnError)try{n=l.execCb(i,o,r,n)}catch(e){t=e}else n=l.execCb(i,o,r,n);if(this.map.isDefine&&void 0===n&&((e=this.module)?n=e.exports:this.usingExports&&(n=this.exports)),t)return t.requireMap=this.map,t.requireModules=this.map.isDefine?[this.map.id]:null,t.requireType=this.map.isDefine?\"define\":\"require\",O(this.error=t)}else n=o;if(this.exports=n,this.map.isDefine&&!this.ignore&&(m[i]=n,req.onResourceLoad)){var a=[];each(this.depMaps,function(e){a.push(e.normalizedMap||e)}),req.onResourceLoad(l,this.map,a)}P(i),this.defined=!0}this.defining=!1,this.defined&&!this.defineEmitted&&(this.defineEmitted=!0,this.emit(\"defined\",this.exports),this.defineEmitComplete=!0)}}else hasProp(l.defQueueMap,i)||this.fetch()}},callPlugin:function(){var u=this.map,c=u.id,e=S(u.prefix);this.depMaps.push(e),M(e,\"defined\",bind(this,function(e){var o,t,i,r=getOwn(v,this.map.id),n=this.map.name,a=this.map.parentMap?this.map.parentMap.name:null,s=l.makeRequire(u.parentMap,{enableBuildCallback:!0});return this.map.unnormalized?(e.normalize&&(n=e.normalize(n,function(e){return q(e,a,!0)})||\"\"),M(t=S(u.prefix+\"!\"+n,this.map.parentMap,!0),\"defined\",bind(this,function(e){this.map.normalizedMap=t,this.init([],function(){return e},null,{enabled:!0,ignore:!0})})),void((i=getOwn(p,t.id))&&(this.depMaps.push(t),this.events.error&&i.on(\"error\",bind(this,function(e){this.emit(\"error\",e)})),i.enable()))):r?(this.map.url=l.nameToUrl(r),void this.load()):((o=bind(this,function(e){this.init([],function(){return e},null,{enabled:!0})})).error=bind(this,function(e){this.inited=!0,(this.error=e).requireModules=[c],eachProp(p,function(e){0===e.map.id.indexOf(c+\"_unnormalized\")&&P(e.map.id)}),O(e)}),o.fromText=bind(this,function(e,t){var i=u.name,r=S(i),n=useInteractive;t&&(e=t),n&&(useInteractive=!1),k(r),hasProp(g.config,c)&&(g.config[i]=g.config[c]);try{req.exec(e)}catch(e){return O(makeError(\"fromtexteval\",\"fromText eval for \"+c+\" failed: \"+e,e,[c]))}n&&(useInteractive=!0),this.depMaps.push(r),l.completeLoad(i),s([i],o)}),void e.load(u.name,s,o,g))})),l.enable(e,this),this.pluginMaps[e.id]=e},enable:function(){(f[this.map.id]=this).enabled=!0,this.enabling=!0,each(this.depMaps,bind(this,function(e,t){var i,r,n;if(\"string\"==typeof e){if(e=S(e,this.map.isDefine?this.map:this.map.parentMap,!1,!this.skipMap),this.depMaps[t]=e,n=getOwn(c,e.id))return void(this.depExports[t]=n(this));this.depCount+=1,M(e,\"defined\",bind(this,function(e){this.undefed||(this.defineDep(t,e),this.check())})),this.errback?M(e,\"error\",bind(this,this.errback)):this.events.error&&M(e,\"error\",bind(this,function(e){this.emit(\"error\",e)}))}i=e.id,r=p[i],hasProp(c,i)||!r||r.enabled||l.enable(e,this)})),eachProp(this.pluginMaps,bind(this,function(e){var t=getOwn(p,e.id);t&&!t.enabled&&l.enable(e,this)})),this.enabling=!1,this.check()},on:function(e,t){var i=this.events[e];i||(i=this.events[e]=[]),i.push(t)},emit:function(e,t){each(this.events[e],function(e){e(t)}),\"error\"===e&&delete this.events[e]}},(l={config:g,contextName:u,registry:p,defined:m,urlFetched:n,defQueue:h,defQueueMap:{},Module:e,makeModuleMap:S,nextTick:req.nextTick,onError:O,configure:function(e){if(e.baseUrl&&\"/\"!==e.baseUrl.charAt(e.baseUrl.length-1)&&(e.baseUrl+=\"/\"),\"string\"==typeof e.urlArgs){var i=e.urlArgs;e.urlArgs=function(e,t){return(-1===t.indexOf(\"?\")?\"?\":\"&\")+i}}var r=g.shim,n={paths:!0,bundles:!0,config:!0,map:!0};eachProp(e,function(e,t){n[t]?(g[t]||(g[t]={}),mixin(g[t],e,!0,!0)):g[t]=e}),e.bundles&&eachProp(e.bundles,function(e,t){each(e,function(e){e!==t&&(v[e]=t)})}),e.shim&&(eachProp(e.shim,function(e,t){isArray(e)&&(e={deps:e}),!e.exports&&!e.init||e.exportsFn||(e.exportsFn=l.makeShimExports(e)),r[t]=e}),g.shim=r),e.packages&&each(e.packages,function(e){var t;t=(e=\"string\"==typeof e?{name:e}:e).name,e.location&&(g.paths[t]=e.location),g.pkgs[t]=e.name+\"/\"+(e.main||\"main\").replace(currDirRegExp,\"\").replace(jsSuffixRegExp,\"\")}),eachProp(p,function(e,t){e.inited||e.map.unnormalized||(e.map=S(t,null,!0))}),(e.deps||e.callback)&&l.require(e.deps||[],e.callback)},makeShimExports:function(t){return function(){var e;return t.init&&(e=t.init.apply(global,arguments)),e||t.exports&&getGlobal(t.exports)}},makeRequire:function(o,a){function s(e,t,i){var r,n;return a.enableBuildCallback&&t&&isFunction(t)&&(t.__requireJsBuild=!0),\"string\"==typeof e?isFunction(t)?O(makeError(\"requireargs\",\"Invalid require call\"),i):o&&hasProp(c,e)?c[e](p[o.id]):req.get?req.get(l,e,o,s):(r=S(e,o,!1,!0).id,hasProp(m,r)?m[r]:O(makeError(\"notloaded\",'Module name \"'+r+'\" has not been loaded yet for context: '+u+(o?\"\":\". Use require([])\")))):(T(),l.nextTick(function(){T(),(n=k(S(null,o))).skipMap=a.skipMap,n.init(e,t,i,{enabled:!0}),R()}),s)}return a=a||{},mixin(s,{isBrowser:isBrowser,toUrl:function(e){var t,i=e.lastIndexOf(\".\"),r=e.split(\"/\")[0];return-1!==i&&(!(\".\"===r||\"..\"===r)||1<i)&&(t=e.substring(i,e.length),e=e.substring(0,i)),l.nameToUrl(q(e,o&&o.id,!0),t,!0)},defined:function(e){return hasProp(m,S(e,o,!1,!0).id)},specified:function(e){return e=S(e,o,!1,!0).id,hasProp(m,e)||hasProp(p,e)}}),o||(s.undef=function(i){j();var e=S(i,o,!0),t=getOwn(p,i);t.undefed=!0,E(i),delete m[i],delete n[e.url],delete r[i],eachReverse(h,function(e,t){e[0]===i&&h.splice(t,1)}),delete l.defQueueMap[i],t&&(t.events.defined&&(r[i]=t.events),P(i))}),s},enable:function(e){getOwn(p,e.id)&&k(e).enable()},completeLoad:function(e){var t,i,r,n=getOwn(g.shim,e)||{},o=n.exports;for(j();h.length;){if(null===(i=h.shift())[0]){if(i[0]=e,t)break;t=!0}else i[0]===e&&(t=!0);a(i)}if(l.defQueueMap={},r=getOwn(p,e),!t&&!hasProp(m,e)&&r&&!r.inited){if(!(!g.enforceDefine||o&&getGlobal(o)))return w(e)?void 0:O(makeError(\"nodefine\",\"No define call for \"+e,null,[e]));a([e,n.deps||[],n.exportsFn])}R()},nameToUrl:function(e,t,i){var r,n,o,a,s,u,c=getOwn(g.pkgs,e);if(c&&(e=c),u=getOwn(v,e))return l.nameToUrl(u,t,i);if(req.jsExtRegExp.test(e))a=e+(t||\"\");else{for(r=g.paths,o=(n=e.split(\"/\")).length;0<o;o-=1)if(s=getOwn(r,n.slice(0,o).join(\"/\"))){isArray(s)&&(s=s[0]),n.splice(0,o,s);break}a=n.join(\"/\"),a=(\"/\"===(a+=t||(/^data\\:|^blob\\:|\\?/.test(a)||i?\"\":\".js\")).charAt(0)||a.match(/^[\\w\\+\\.\\-]+:/)?\"\":g.baseUrl)+a}return g.urlArgs&&!/^blob\\:/.test(a)?a+g.urlArgs(e,a):a},load:function(e,t){req.load(l,e,t)},execCb:function(e,t,i,r){return t.apply(r,i)},onScriptLoad:function(e){if(\"load\"===e.type||readyRegExp.test((e.currentTarget||e.srcElement).readyState)){interactiveScript=null;var t=s(e);l.completeLoad(t.id)}},onScriptError:function(e){var i=s(e);if(!w(i.id)){var r=[];return eachProp(p,function(e,t){0!==t.indexOf(\"_@r\")&&each(e.depMaps,function(e){if(e.id===i.id)return r.push(t),!0})}),O(makeError(\"scripterror\",'Script error for \"'+i.id+(r.length?'\", needed by: '+r.join(\", \"):'\"'),e,[i.id]))}}}).require=l.makeRequire(),l}function getInteractiveScript(){return interactiveScript&&\"interactive\"===interactiveScript.readyState||eachReverse(scripts(),function(e){if(\"interactive\"===e.readyState)return interactiveScript=e}),interactiveScript}}(this,\"undefined\"==typeof setTimeout?void 0:setTimeout); </script>\n",
       "<script> /*! dom-to-image 10-06-2017 */\n",
       "!function(a){\"use strict\";function b(a,b){function c(a){return b.bgcolor&&(a.style.backgroundColor=b.bgcolor),b.width&&(a.style.width=b.width+\"px\"),b.height&&(a.style.height=b.height+\"px\"),b.style&&Object.keys(b.style).forEach(function(c){a.style[c]=b.style[c]}),a}return b=b||{},g(b),Promise.resolve(a).then(function(a){return i(a,b.filter,!0)}).then(j).then(k).then(c).then(function(c){return l(c,b.width||q.width(a),b.height||q.height(a))})}function c(a,b){return h(a,b||{}).then(function(b){return b.getContext(\"2d\").getImageData(0,0,q.width(a),q.height(a)).data})}function d(a,b){return h(a,b||{}).then(function(a){return a.toDataURL()})}function e(a,b){return b=b||{},h(a,b).then(function(a){return a.toDataURL(\"image/jpeg\",b.quality||1)})}function f(a,b){return h(a,b||{}).then(q.canvasToBlob)}function g(a){\"undefined\"==typeof a.imagePlaceholder?v.impl.options.imagePlaceholder=u.imagePlaceholder:v.impl.options.imagePlaceholder=a.imagePlaceholder,\"undefined\"==typeof a.cacheBust?v.impl.options.cacheBust=u.cacheBust:v.impl.options.cacheBust=a.cacheBust}function h(a,c){function d(a){var b=document.createElement(\"canvas\");if(b.width=c.width||q.width(a),b.height=c.height||q.height(a),c.bgcolor){var d=b.getContext(\"2d\");d.fillStyle=c.bgcolor,d.fillRect(0,0,b.width,b.height)}return b}return b(a,c).then(q.makeImage).then(q.delay(100)).then(function(b){var c=d(a);return c.getContext(\"2d\").drawImage(b,0,0),c})}function i(a,b,c){function d(a){return a instanceof HTMLCanvasElement?q.makeImage(a.toDataURL()):a.cloneNode(!1)}function e(a,b,c){function d(a,b,c){var d=Promise.resolve();return b.forEach(function(b){d=d.then(function(){return i(b,c)}).then(function(b){b&&a.appendChild(b)})}),d}var e=a.childNodes;return 0===e.length?Promise.resolve(b):d(b,q.asArray(e),c).then(function(){return b})}function f(a,b){function c(){function c(a,b){function c(a,b){q.asArray(a).forEach(function(c){b.setProperty(c,a.getPropertyValue(c),a.getPropertyPriority(c))})}a.cssText?b.cssText=a.cssText:c(a,b)}c(window.getComputedStyle(a),b.style)}function d(){function c(c){function d(a,b,c){function d(a){var b=a.getPropertyValue(\"content\");return a.cssText+\" content: \"+b+\";\"}function e(a){function b(b){return b+\": \"+a.getPropertyValue(b)+(a.getPropertyPriority(b)?\" !important\":\"\")}return q.asArray(a).map(b).join(\"; \")+\";\"}var f=\".\"+a+\":\"+b,g=c.cssText?d(c):e(c);return document.createTextNode(f+\"{\"+g+\"}\")}var e=window.getComputedStyle(a,c),f=e.getPropertyValue(\"content\");if(\"\"!==f&&\"none\"!==f){var g=q.uid();b.className=b.className+\" \"+g;var h=document.createElement(\"style\");h.appendChild(d(g,c,e)),b.appendChild(h)}}[\":before\",\":after\"].forEach(function(a){c(a)})}function e(){a instanceof HTMLTextAreaElement&&(b.innerHTML=a.value),a instanceof HTMLInputElement&&b.setAttribute(\"value\",a.value)}function f(){b instanceof SVGElement&&(b.setAttribute(\"xmlns\",\"http://www.w3.org/2000/svg\"),b instanceof SVGRectElement&&[\"width\",\"height\"].forEach(function(a){var c=b.getAttribute(a);c&&b.style.setProperty(a,c)}))}return b instanceof Element?Promise.resolve().then(c).then(d).then(e).then(f).then(function(){return b}):b}return c||!b||b(a)?Promise.resolve(a).then(d).then(function(c){return e(a,c,b)}).then(function(b){return f(a,b)}):Promise.resolve()}function j(a){return s.resolveAll().then(function(b){var c=document.createElement(\"style\");return a.appendChild(c),c.appendChild(document.createTextNode(b)),a})}function k(a){return t.inlineAll(a).then(function(){return a})}function l(a,b,c){return Promise.resolve(a).then(function(a){return a.setAttribute(\"xmlns\",\"http://www.w3.org/1999/xhtml\"),(new XMLSerializer).serializeToString(a)}).then(q.escapeXhtml).then(function(a){return'<foreignObject x=\"0\" y=\"0\" width=\"100%\" height=\"100%\">'+a+\"</foreignObject>\"}).then(function(a){return'<svg xmlns=\"http://www.w3.org/2000/svg\" width=\"'+b+'\" height=\"'+c+'\">'+a+\"</svg>\"}).then(function(a){return\"data:image/svg+xml;charset=utf-8,\"+a})}function m(){function a(){var a=\"application/font-woff\",b=\"image/jpeg\";return{woff:a,woff2:a,ttf:\"application/font-truetype\",eot:\"application/vnd.ms-fontobject\",png:\"image/png\",jpg:b,jpeg:b,gif:\"image/gif\",tiff:\"image/tiff\",svg:\"image/svg+xml\"}}function b(a){var b=/\\.([^\\.\\/]*?)$/g.exec(a);return b?b[1]:\"\"}function c(c){var d=b(c).toLowerCase();return a()[d]||\"\"}function d(a){return a.search(/^(data:)/)!==-1}function e(a){return new Promise(function(b){for(var c=window.atob(a.toDataURL().split(\",\")[1]),d=c.length,e=new Uint8Array(d),f=0;f<d;f++)e[f]=c.charCodeAt(f);b(new Blob([e],{type:\"image/png\"}))})}function f(a){return a.toBlob?new Promise(function(b){a.toBlob(b)}):e(a)}function g(a,b){var c=document.implementation.createHTMLDocument(),d=c.createElement(\"base\");c.head.appendChild(d);var e=c.createElement(\"a\");return c.body.appendChild(e),d.href=b,e.href=a,e.href}function h(){var a=0;return function(){function b(){return(\"0000\"+(Math.random()*Math.pow(36,4)<<0).toString(36)).slice(-4)}return\"u\"+b()+a++}}function i(a){return new Promise(function(b,c){var d=new Image;d.onload=function(){b(d)},d.onerror=c,d.src=a})}function j(a){var b=3e4;return v.impl.options.cacheBust&&(a+=(/\\?/.test(a)?\"&\":\"?\")+(new Date).getTime()),new Promise(function(c){function d(){if(4===g.readyState){if(200!==g.status)return void(h?c(h):f(\"cannot fetch resource: \"+a+\", status: \"+g.status));var b=new FileReader;b.onloadend=function(){var a=b.result.split(/,/)[1];c(a)},b.readAsDataURL(g.response)}}function e(){h?c(h):f(\"timeout of \"+b+\"ms occured while fetching resource: \"+a)}function f(a){console.error(a),c(\"\")}var g=new XMLHttpRequest;g.onreadystatechange=d,g.ontimeout=e,g.responseType=\"blob\",g.timeout=b,g.open(\"GET\",a,!0),g.send();var h;if(v.impl.options.imagePlaceholder){var i=v.impl.options.imagePlaceholder.split(/,/);i&&i[1]&&(h=i[1])}})}function k(a,b){return\"data:\"+b+\";base64,\"+a}function l(a){return a.replace(/([.*+?^${}()|\\[\\]\\/\\\\])/g,\"\\\\$1\")}function m(a){return function(b){return new Promise(function(c){setTimeout(function(){c(b)},a)})}}function n(a){for(var b=[],c=a.length,d=0;d<c;d++)b.push(a[d]);return b}function o(a){return a.replace(/#/g,\"%23\").replace(/\\n/g,\"%0A\")}function p(a){var b=r(a,\"border-left-width\"),c=r(a,\"border-right-width\");return a.scrollWidth+b+c}function q(a){var b=r(a,\"border-top-width\"),c=r(a,\"border-bottom-width\");return a.scrollHeight+b+c}function r(a,b){var c=window.getComputedStyle(a).getPropertyValue(b);return parseFloat(c.replace(\"px\",\"\"))}return{escape:l,parseExtension:b,mimeType:c,dataAsUrl:k,isDataUrl:d,canvasToBlob:f,resolveUrl:g,getAndEncode:j,uid:h(),delay:m,asArray:n,escapeXhtml:o,makeImage:i,width:p,height:q}}function n(){function a(a){return a.search(e)!==-1}function b(a){for(var b,c=[];null!==(b=e.exec(a));)c.push(b[1]);return c.filter(function(a){return!q.isDataUrl(a)})}function c(a,b,c,d){function e(a){return new RegExp(\"(url\\\\(['\\\"]?)(\"+q.escape(a)+\")(['\\\"]?\\\\))\",\"g\")}return Promise.resolve(b).then(function(a){return c?q.resolveUrl(a,c):a}).then(d||q.getAndEncode).then(function(a){return q.dataAsUrl(a,q.mimeType(b))}).then(function(c){return a.replace(e(b),\"$1\"+c+\"$3\")})}function d(d,e,f){function g(){return!a(d)}return g()?Promise.resolve(d):Promise.resolve(d).then(b).then(function(a){var b=Promise.resolve(d);return a.forEach(function(a){b=b.then(function(b){return c(b,a,e,f)})}),b})}var e=/url\\(['\"]?([^'\"]+?)['\"]?\\)/g;return{inlineAll:d,shouldProcess:a,impl:{readUrls:b,inline:c}}}function o(){function a(){return b(document).then(function(a){return Promise.all(a.map(function(a){return a.resolve()}))}).then(function(a){return a.join(\"\\n\")})}function b(){function a(a){return a.filter(function(a){return a.type===CSSRule.FONT_FACE_RULE}).filter(function(a){return r.shouldProcess(a.style.getPropertyValue(\"src\"))})}function b(a){var b=[];return a.forEach(function(a){try{q.asArray(a.cssRules||[]).forEach(b.push.bind(b))}catch(c){console.log(\"Error while reading CSS rules from \"+a.href,c.toString())}}),b}function c(a){return{resolve:function(){var b=(a.parentStyleSheet||{}).href;return r.inlineAll(a.cssText,b)},src:function(){return a.style.getPropertyValue(\"src\")}}}return Promise.resolve(q.asArray(document.styleSheets)).then(b).then(a).then(function(a){return a.map(c)})}return{resolveAll:a,impl:{readAll:b}}}function p(){function a(a){function b(b){return q.isDataUrl(a.src)?Promise.resolve():Promise.resolve(a.src).then(b||q.getAndEncode).then(function(b){return q.dataAsUrl(b,q.mimeType(a.src))}).then(function(b){return new Promise(function(c,d){a.onload=c,a.onerror=d,a.src=b})})}return{inline:b}}function b(c){function d(a){var b=a.style.getPropertyValue(\"background\");return b?r.inlineAll(b).then(function(b){a.style.setProperty(\"background\",b,a.style.getPropertyPriority(\"background\"))}).then(function(){return a}):Promise.resolve(a)}return c instanceof Element?d(c).then(function(){return c instanceof HTMLImageElement?a(c).inline():Promise.all(q.asArray(c.childNodes).map(function(a){return b(a)}))}):Promise.resolve(c)}return{inlineAll:b,impl:{newImage:a}}}var q=m(),r=n(),s=o(),t=p(),u={imagePlaceholder:void 0,cacheBust:!1},v={toSvg:b,toPng:d,toJpeg:e,toBlob:f,toPixelData:c,impl:{fontFaces:s,images:t,util:q,inliner:r,options:{}}};\"undefined\"!=typeof module?module.exports=v:a.domtoimage=v}(this); </script>\n",
       "<script>\n",
       " require.config({\n",
       "   paths: {\n",
       "     'plotly': \"https://cdn.plot.ly/plotly-latest.min\",\n",
       "     'macy': \"https://cdn.jsdelivr.net/npm/macy@2.5.1/dist/macy.min\"\n",
       "   },\n",
       " })\n",
       "require( ['plotly', 'macy'], function(Plotly, Macy) {\n",
       " window.Plotly = Plotly;\n",
       " window.Macy = Macy;\n",
       "})\n",
       "</script>\n"
      ]
     },
     "metadata": {},
     "output_type": "display_data"
    },
    {
     "data": {
      "text/plain": [
       "\u001b[32mimport \u001b[39m\u001b[36morg.carbonateresearch.picta.render.Html.initNotebook // required to initialize jupyter notebook mode\n",
       "\u001b[39m"
      ]
     },
     "execution_count": 3,
     "metadata": {},
     "output_type": "execute_result"
    }
   ],
   "source": [
    "import org.carbonateresearch.picta.render.Html.initNotebook // required to initialize jupyter notebook mode\n",
    "initNotebook() // stops ugly output"
   ]
  },
  {
   "cell_type": "markdown",
   "metadata": {},
   "source": [
    "# 1. Basics\n",
    "\n",
    "The aim of the Picta library is to be a highly configurable and composable charting library for data exploration. The library takes a grammatical approach to chart construction. \n",
    "\n",
    "The following examples are aimed at demonstrating the libraries capabilities, and eventually make constructing charts using this library easy and intuitive."
   ]
  },
  {
   "cell_type": "markdown",
   "metadata": {},
   "source": [
    "### Main Components\n",
    "\n",
    "Picta graphs are constructed in a modular manner. The main components are:\n",
    "\n",
    "1. `Canvas`: This is is the top-level component for representing the display. A `Canvas` may consist of multiple charts.\n",
    "\n",
    "\n",
    "2. `Chart`: This is the component that corresponds to an actual chart (i.e. scatter, pie etc).\n",
    "\n",
    "\n",
    "3. `Series`: This is the data series that is plotted on a `Chart`. `Series` come in 3 types:\n",
    "\n",
    "    - `XY`:   This is series data for constructing a 2D chart\n",
    "    - `XYZ`:  This is series data for constructing a 3D chart\n",
    "    - `Map`:  This is series data that constructs a Map chart\n",
    "    \n",
    "\n",
    "4. `ChartLayout`: This configures various parts of how the `Chart` is represented on screen.\n",
    "\n",
    "`Chart` may occassionally also make use of the `Config` component for further configuration. `Config` specifies whether the plot is responsive.\n",
    "\n",
    "The following examples in this notebook should provide a number of interactive examples to get used to the Picta library."
   ]
  },
  {
   "cell_type": "markdown",
   "metadata": {},
   "source": [
    "### Importing the Library\n",
    "\n",
    "Importing as below should bring in the most frequently used Components in the library."
   ]
  },
  {
   "cell_type": "code",
   "execution_count": 4,
   "metadata": {},
   "outputs": [],
   "source": [
    "import org.carbonateresearch.picta._"
   ]
  },
  {
   "cell_type": "markdown",
   "metadata": {},
   "source": [
    "### Create Some Dummy Data to Use in the Examples\n",
    "\n",
    "Here we create some dummy data to be used in the examples for this notebook."
   ]
  },
  {
   "cell_type": "code",
   "execution_count": 5,
   "metadata": {},
   "outputs": [],
   "source": [
    "val x = List.range(0, 100).map(x => scala.util.Random.nextDouble() * 50)\n",
    "val y = List.range(0, 100).map(x => scala.util.Random.nextDouble() * 50)\n",
    "val z = List.range(0, 100).map(x => scala.util.Random.nextDouble() * 50)"
   ]
  },
  {
   "cell_type": "markdown",
   "metadata": {},
   "source": [
    "### 2D Plots\n",
    "\n",
    "`Series` that represent 2D data are represented by `XY` series types.\n",
    "\n",
    "\n",
    "#### Scatter Plot\n",
    "\n",
    "An example `Scatter` plot is below. \n",
    "\n",
    "Note: This is just one way to call the library functions. Another way that uses function chaining will be shown immediately after this example."
   ]
  },
  {
   "cell_type": "code",
   "execution_count": 6,
   "metadata": {},
   "outputs": [
    {
     "data": {
      "text/html": [
       "<div id=\"grid-container_y8iwYEIqkN\" class=\"grid-container\" align=\"center\"> \n",
       "<div id=\"grid_y8iwYEIqkN\" class=\"grid\" align=\"center\"> \n",
       "<div id=\"graph_bauZ9w0CpL\" class=\"graph\"></div> \n",
       "</div> \n",
       "</div> \n",
       "<script>\n",
       "var masonry = new Macy({\n",
       "    container: '#grid_y8iwYEIqkN',\n",
       "    debug: true,\n",
       "    mobileFirst: true,\n",
       "    columns: 1,\n",
       "    margin: {\n",
       "        x: 0,\n",
       "        y: 0\n",
       "    }\n",
       "  });\n",
       "\n",
       " var traces_bauZ9w0CpL = [{\"name\":\"TqiFbQimG6\",\"type\":\"scatter\",\"mode\":\"markers\",\"x\":[5.3809174702975024,47.62669335841985,8.649028765391147,11.467790521595834,1.1088089018145952,40.09824951719151,13.577787703513405,40.94296889513292,1.108056521602202,43.76301430386197,0.17483974141104808,24.114094021918262,16.89590120342288,3.666383236342119,17.942790640807573,28.97043691928961,22.45613107750892,5.6798286789201455,3.329827574166022,5.635945634437157,8.325825839003025,2.05472476353058,40.04569456747266,12.830993091450843,11.522913394718698,2.726721251415759,44.5966871735946,2.999254257236311,38.051889974691875,37.450323823133765,14.309245935467752,39.56315308714112,8.055168394636258,18.501524463434222,39.22307142025572,26.46078854419727,31.070055717962198,34.90704747902793,32.40852396368794,38.3691533015802,10.306471633200587,36.941976137190196,25.499355858913788,49.83297660508215,30.378090675779884,23.983201196402533,7.530713488939211,22.895426948393776,2.499645843762033,29.714384809574906,5.53361235816241,25.76638174788741,24.805745671390127,6.148796757970359,14.760969780446642,19.565931119247242,13.151617438253076,41.96959106539948,34.90657249253892,16.245211039125934,19.523750294770053,11.282803553965316,6.227193792912356,28.41365149834047,31.01852657566105,36.03656036427093,16.089418959316898,0.9911376480370049,32.2394730274043,9.080655876590427,12.136535774345997,35.35557584917963,17.918871693953236,15.12390951468905,13.007204040351311,38.97076506564623,10.587019107556861,3.6923695021138014,1.336431175052033,7.356475261021927,20.192529192514243,11.599674350623163,16.630705481486284,20.70204135929432,28.719618464630898,2.411550249558908,37.53298565640961,14.426778684473657,43.05344667011046,36.91964721371856,3.979543759345022,11.554933299634051,33.61208098660928,11.735624329857963,29.799523949171007,34.89987713593451,14.593826936112574,2.7745727974109458,45.41936402996033,48.74168081417258],\"y\":[24.081156175477375,26.617594408569577,38.50810706645664,12.934156138884395,28.69761051321681,35.526542504498295,27.635897415839604,17.19193452630679,8.031596433833466,41.2296374124553,10.316844169572326,49.68506409697045,18.62107720215701,18.50487624697798,22.168715729264584,42.00809571634152,45.93574874413045,22.05885433600972,28.345790553310884,22.09255353738064,25.498368093654822,9.231818801182296,41.88749019060026,47.696168541490316,1.0544639254703891,46.655487705709746,26.174271832437928,35.72917274461009,38.52975344097744,41.14835417565222,40.29356935700054,46.8674360282386,29.407167228376014,23.853916585548713,26.792416482797982,30.65415403633242,46.11044740582106,31.91046100696357,21.029684957639788,33.60627675212064,4.998879824989821,23.78674291897573,30.139738681386135,21.718787749882086,49.657790248012375,32.82610461783552,37.48059824315458,19.199430365528936,38.31200925062187,8.512276483102744,35.36355769664055,17.268404721731063,4.394604559681342,16.50330253630977,24.847509328999084,10.422024045729822,8.570728528948212,16.575749014106094,46.43008646007538,22.6862760725046,13.846544251752679,12.279549052046724,19.579022396359647,43.07567510175581,42.78574229274253,17.324536094949742,22.220991589257654,47.7247512172741,17.311241775822207,11.502930020591151,33.54150152379003,45.97398442005144,37.087271925901,13.297738598511561,44.74823849426715,49.068927639981645,22.0570696815621,27.235238451099057,12.811610385741934,23.070724439143177,28.3540494704751,31.510409355291536,41.620033150868586,2.0781893704826695,44.50933205100521,5.447391913526623,23.473862022984616,3.926045646436144,36.646154932175676,6.952743683699586,11.390680505528694,8.150908075590053,37.18169483180073,47.277476829405096,19.30598644972026,25.20600342476287,11.449492315998528,24.124553352243538,12.927164017455855,6.6576254486838575]}];\n",
       " var layout_bauZ9w0CpL = {\"height\":550,\"width\":600,\"hovermode\":\"closest\",\"legend\":{\"orientation\":\"v\"},\"title\":{\"text\":\"First Chart\"},\"showlegend\":true};\n",
       " var config_bauZ9w0CpL = {\"responsive\":true,\"scrollZoom\":true,\"displaylogo\":false};\n",
       " Plotly.newPlot(\"graph_bauZ9w0CpL\", traces_bauZ9w0CpL, layout_bauZ9w0CpL, config_bauZ9w0CpL);\n",
       "</script> \n"
      ]
     },
     "metadata": {},
     "output_type": "display_data"
    }
   ],
   "source": [
    "// create the data series using the data from above\n",
    "// 'asType SCATTER' transforms the series into a scatter chart\n",
    "// 'drawStyle Markers' specifies the style of the markers the chart should have\n",
    "// if a name is not provided to the series, Picta generates a random name to help keep track of the series in charts\n",
    "// multiple series.\n",
    "val series = XY(x, y) asType SCATTER drawStyle MARKERS\n",
    "\n",
    "// create a chart by adding to it a data series. We set the title as 'First Chart'\n",
    "val chart = Chart() addSeries series setTitle \"First Chart\"\n",
    "\n",
    "// if we have a single chart, then we do not need to use the Canvas and can simply call chart.plot\n",
    "\n",
    "chart.plotInline"
   ]
  },
  {
   "cell_type": "markdown",
   "metadata": {},
   "source": [
    "#### Chaining Functions\n",
    "\n",
    "Sometimes when we are specifying many options, it is quicker to use the IDE autocomplete and just chain the function calls. Throughout this book both the style above and the function chaining style will be used as and when convenient."
   ]
  },
  {
   "cell_type": "code",
   "execution_count": 7,
   "metadata": {},
   "outputs": [
    {
     "data": {
      "text/html": [
       "<div id=\"grid-container_5CV3cmN0c5\" class=\"grid-container\" align=\"center\"> \n",
       "<div id=\"grid_5CV3cmN0c5\" class=\"grid\" align=\"center\"> \n",
       "<div id=\"graph_9EQFAzaqnf\" class=\"graph\"></div> \n",
       "</div> \n",
       "</div> \n",
       "<script>\n",
       "var masonry = new Macy({\n",
       "    container: '#grid_5CV3cmN0c5',\n",
       "    debug: true,\n",
       "    mobileFirst: true,\n",
       "    columns: 1,\n",
       "    margin: {\n",
       "        x: 0,\n",
       "        y: 0\n",
       "    }\n",
       "  });\n",
       "\n",
       " var traces_9EQFAzaqnf = [{\"name\":\"QPoGV29yBN\",\"type\":\"scatter\",\"mode\":\"markers\",\"x\":[5.3809174702975024,47.62669335841985,8.649028765391147,11.467790521595834,1.1088089018145952,40.09824951719151,13.577787703513405,40.94296889513292,1.108056521602202,43.76301430386197,0.17483974141104808,24.114094021918262,16.89590120342288,3.666383236342119,17.942790640807573,28.97043691928961,22.45613107750892,5.6798286789201455,3.329827574166022,5.635945634437157,8.325825839003025,2.05472476353058,40.04569456747266,12.830993091450843,11.522913394718698,2.726721251415759,44.5966871735946,2.999254257236311,38.051889974691875,37.450323823133765,14.309245935467752,39.56315308714112,8.055168394636258,18.501524463434222,39.22307142025572,26.46078854419727,31.070055717962198,34.90704747902793,32.40852396368794,38.3691533015802,10.306471633200587,36.941976137190196,25.499355858913788,49.83297660508215,30.378090675779884,23.983201196402533,7.530713488939211,22.895426948393776,2.499645843762033,29.714384809574906,5.53361235816241,25.76638174788741,24.805745671390127,6.148796757970359,14.760969780446642,19.565931119247242,13.151617438253076,41.96959106539948,34.90657249253892,16.245211039125934,19.523750294770053,11.282803553965316,6.227193792912356,28.41365149834047,31.01852657566105,36.03656036427093,16.089418959316898,0.9911376480370049,32.2394730274043,9.080655876590427,12.136535774345997,35.35557584917963,17.918871693953236,15.12390951468905,13.007204040351311,38.97076506564623,10.587019107556861,3.6923695021138014,1.336431175052033,7.356475261021927,20.192529192514243,11.599674350623163,16.630705481486284,20.70204135929432,28.719618464630898,2.411550249558908,37.53298565640961,14.426778684473657,43.05344667011046,36.91964721371856,3.979543759345022,11.554933299634051,33.61208098660928,11.735624329857963,29.799523949171007,34.89987713593451,14.593826936112574,2.7745727974109458,45.41936402996033,48.74168081417258],\"y\":[24.081156175477375,26.617594408569577,38.50810706645664,12.934156138884395,28.69761051321681,35.526542504498295,27.635897415839604,17.19193452630679,8.031596433833466,41.2296374124553,10.316844169572326,49.68506409697045,18.62107720215701,18.50487624697798,22.168715729264584,42.00809571634152,45.93574874413045,22.05885433600972,28.345790553310884,22.09255353738064,25.498368093654822,9.231818801182296,41.88749019060026,47.696168541490316,1.0544639254703891,46.655487705709746,26.174271832437928,35.72917274461009,38.52975344097744,41.14835417565222,40.29356935700054,46.8674360282386,29.407167228376014,23.853916585548713,26.792416482797982,30.65415403633242,46.11044740582106,31.91046100696357,21.029684957639788,33.60627675212064,4.998879824989821,23.78674291897573,30.139738681386135,21.718787749882086,49.657790248012375,32.82610461783552,37.48059824315458,19.199430365528936,38.31200925062187,8.512276483102744,35.36355769664055,17.268404721731063,4.394604559681342,16.50330253630977,24.847509328999084,10.422024045729822,8.570728528948212,16.575749014106094,46.43008646007538,22.6862760725046,13.846544251752679,12.279549052046724,19.579022396359647,43.07567510175581,42.78574229274253,17.324536094949742,22.220991589257654,47.7247512172741,17.311241775822207,11.502930020591151,33.54150152379003,45.97398442005144,37.087271925901,13.297738598511561,44.74823849426715,49.068927639981645,22.0570696815621,27.235238451099057,12.811610385741934,23.070724439143177,28.3540494704751,31.510409355291536,41.620033150868586,2.0781893704826695,44.50933205100521,5.447391913526623,23.473862022984616,3.926045646436144,36.646154932175676,6.952743683699586,11.390680505528694,8.150908075590053,37.18169483180073,47.277476829405096,19.30598644972026,25.20600342476287,11.449492315998528,24.124553352243538,12.927164017455855,6.6576254486838575]}];\n",
       " var layout_9EQFAzaqnf = {\"height\":550,\"width\":600,\"hovermode\":\"closest\",\"legend\":{\"orientation\":\"v\"},\"title\":{\"text\":\"First Chart - Function Chaining\"},\"showlegend\":true,\"xaxis\":{\"showgrid\":true,\"zeroline\":false,\"showline\":false},\"yaxis\":{\"showgrid\":true,\"zeroline\":false,\"showline\":false}};\n",
       " var config_9EQFAzaqnf = {\"responsive\":true,\"scrollZoom\":true,\"displaylogo\":false};\n",
       " Plotly.newPlot(\"graph_9EQFAzaqnf\", traces_9EQFAzaqnf, layout_9EQFAzaqnf, config_9EQFAzaqnf);\n",
       "</script> \n"
      ]
     },
     "metadata": {},
     "output_type": "display_data"
    }
   ],
   "source": [
    "// sometimes we may specify many options. In such cases it is clearer to use function chaining as below:\n",
    "val series = XY(x, y)\n",
    "            .asType(SCATTER)\n",
    "            .drawMarkers  // This is to help leverage the IDE autocompletion for quick scripting\n",
    "\n",
    "val chart = Chart()\n",
    "            .addSeries(series)\n",
    "            .setTitle(\"First Chart - Function Chaining\")\n",
    "            // by specifying axes we can get rid of the zerolines\n",
    "            .addAxes(XAxis(zeroline = false), YAxis(zeroline = false)) \n",
    "\n",
    "chart.plotInline"
   ]
  },
  {
   "cell_type": "markdown",
   "metadata": {},
   "source": [
    "#### Bar Chart\n",
    "\n",
    "Now using the same principles as above, let's create a `Bar` chart:"
   ]
  },
  {
   "cell_type": "code",
   "execution_count": 8,
   "metadata": {},
   "outputs": [
    {
     "data": {
      "text/html": [
       "<div id=\"grid-container_ZfheFR2i5R\" class=\"grid-container\" align=\"center\"> \n",
       "<div id=\"grid_ZfheFR2i5R\" class=\"grid\" align=\"center\"> \n",
       "<div id=\"graph_YhptQWzWPy\" class=\"graph\"></div> \n",
       "</div> \n",
       "</div> \n",
       "<script>\n",
       "var masonry = new Macy({\n",
       "    container: '#grid_ZfheFR2i5R',\n",
       "    debug: true,\n",
       "    mobileFirst: true,\n",
       "    columns: 1,\n",
       "    margin: {\n",
       "        x: 0,\n",
       "        y: 0\n",
       "    }\n",
       "  });\n",
       "\n",
       " var traces_YhptQWzWPy = [{\"name\":\"jU8eAdmZrH\",\"type\":\"bar\",\"x\":[\"a\",\"b\",\"c\"],\"y\":[10,20,300]}];\n",
       " var layout_YhptQWzWPy = {\"height\":550,\"width\":600,\"hovermode\":\"closest\",\"legend\":{\"orientation\":\"v\"},\"title\":{\"text\":\"Bar Chart\"},\"showlegend\":true};\n",
       " var config_YhptQWzWPy = {\"responsive\":false,\"scrollZoom\":false,\"displaylogo\":false};\n",
       " Plotly.newPlot(\"graph_YhptQWzWPy\", traces_YhptQWzWPy, layout_YhptQWzWPy, config_YhptQWzWPy);\n",
       "</script> \n"
      ]
     },
     "metadata": {},
     "output_type": "display_data"
    }
   ],
   "source": [
    "// First we create some data for the piechart\n",
    "val x_bar = List(\"a\", \"b\", \"c\")\n",
    "val y_bar = List(10, 20, 300)\n",
    "\n",
    "// again feed in the data that we want to represent as a Bar chart.\n",
    "// Notice how we change 'asType SCATTER' to 'asType BAR'\n",
    "val series = XY(x_bar, y_bar) asType BAR\n",
    "\n",
    "// we can turn off the scrollzoom using setConfig\n",
    "val chart = Chart() addSeries series setTitle \"Bar Chart\" setConfig(false, false)\n",
    "\n",
    "chart.plotInline"
   ]
  },
  {
   "cell_type": "markdown",
   "metadata": {},
   "source": [
    "#### Adding Multiple Series on the Same Axis\n",
    "\n",
    "Sometimes we may want to plot multiple `Series` on the same axis to compare different data series.\n",
    "\n",
    "Let's plot both of the above on the same pair of axis:"
   ]
  },
  {
   "cell_type": "code",
   "execution_count": 9,
   "metadata": {},
   "outputs": [],
   "source": [
    "// we import the marker option which lets us specify the marker\n",
    "import org.carbonateresearch.picta.options.Marker\n",
    "import org.carbonateresearch.picta.SymbolShape._"
   ]
  },
  {
   "cell_type": "code",
   "execution_count": 10,
   "metadata": {},
   "outputs": [
    {
     "data": {
      "text/html": [
       "<div id=\"grid-container_bgmWY3jBAb\" class=\"grid-container\" align=\"center\"> \n",
       "<div id=\"grid_bgmWY3jBAb\" class=\"grid\" align=\"center\"> \n",
       "<div id=\"graph_DojMNpsL9U\" class=\"graph\"></div> \n",
       "</div> \n",
       "</div> \n",
       "<script>\n",
       "var masonry = new Macy({\n",
       "    container: '#grid_bgmWY3jBAb',\n",
       "    debug: true,\n",
       "    mobileFirst: true,\n",
       "    columns: 1,\n",
       "    margin: {\n",
       "        x: 0,\n",
       "        y: 0\n",
       "    }\n",
       "  });\n",
       "\n",
       " var traces_DojMNpsL9U = [{\"name\":\"Bar\",\"type\":\"bar\",\"x\":[5.3809174702975024,47.62669335841985,8.649028765391147,11.467790521595834,1.1088089018145952,40.09824951719151,13.577787703513405,40.94296889513292,1.108056521602202,43.76301430386197,0.17483974141104808,24.114094021918262,16.89590120342288,3.666383236342119,17.942790640807573,28.97043691928961,22.45613107750892,5.6798286789201455,3.329827574166022,5.635945634437157,8.325825839003025,2.05472476353058,40.04569456747266,12.830993091450843,11.522913394718698,2.726721251415759,44.5966871735946,2.999254257236311,38.051889974691875,37.450323823133765,14.309245935467752,39.56315308714112,8.055168394636258,18.501524463434222,39.22307142025572,26.46078854419727,31.070055717962198,34.90704747902793,32.40852396368794,38.3691533015802,10.306471633200587,36.941976137190196,25.499355858913788,49.83297660508215,30.378090675779884,23.983201196402533,7.530713488939211,22.895426948393776,2.499645843762033,29.714384809574906,5.53361235816241,25.76638174788741,24.805745671390127,6.148796757970359,14.760969780446642,19.565931119247242,13.151617438253076,41.96959106539948,34.90657249253892,16.245211039125934,19.523750294770053,11.282803553965316,6.227193792912356,28.41365149834047,31.01852657566105,36.03656036427093,16.089418959316898,0.9911376480370049,32.2394730274043,9.080655876590427,12.136535774345997,35.35557584917963,17.918871693953236,15.12390951468905,13.007204040351311,38.97076506564623,10.587019107556861,3.6923695021138014,1.336431175052033,7.356475261021927,20.192529192514243,11.599674350623163,16.630705481486284,20.70204135929432,28.719618464630898,2.411550249558908,37.53298565640961,14.426778684473657,43.05344667011046,36.91964721371856,3.979543759345022,11.554933299634051,33.61208098660928,11.735624329857963,29.799523949171007,34.89987713593451,14.593826936112574,2.7745727974109458,45.41936402996033,48.74168081417258],\"y\":[24.081156175477375,26.617594408569577,38.50810706645664,12.934156138884395,28.69761051321681,35.526542504498295,27.635897415839604,17.19193452630679,8.031596433833466,41.2296374124553,10.316844169572326,49.68506409697045,18.62107720215701,18.50487624697798,22.168715729264584,42.00809571634152,45.93574874413045,22.05885433600972,28.345790553310884,22.09255353738064,25.498368093654822,9.231818801182296,41.88749019060026,47.696168541490316,1.0544639254703891,46.655487705709746,26.174271832437928,35.72917274461009,38.52975344097744,41.14835417565222,40.29356935700054,46.8674360282386,29.407167228376014,23.853916585548713,26.792416482797982,30.65415403633242,46.11044740582106,31.91046100696357,21.029684957639788,33.60627675212064,4.998879824989821,23.78674291897573,30.139738681386135,21.718787749882086,49.657790248012375,32.82610461783552,37.48059824315458,19.199430365528936,38.31200925062187,8.512276483102744,35.36355769664055,17.268404721731063,4.394604559681342,16.50330253630977,24.847509328999084,10.422024045729822,8.570728528948212,16.575749014106094,46.43008646007538,22.6862760725046,13.846544251752679,12.279549052046724,19.579022396359647,43.07567510175581,42.78574229274253,17.324536094949742,22.220991589257654,47.7247512172741,17.311241775822207,11.502930020591151,33.54150152379003,45.97398442005144,37.087271925901,13.297738598511561,44.74823849426715,49.068927639981645,22.0570696815621,27.235238451099057,12.811610385741934,23.070724439143177,28.3540494704751,31.510409355291536,41.620033150868586,2.0781893704826695,44.50933205100521,5.447391913526623,23.473862022984616,3.926045646436144,36.646154932175676,6.952743683699586,11.390680505528694,8.150908075590053,37.18169483180073,47.277476829405096,19.30598644972026,25.20600342476287,11.449492315998528,24.124553352243538,12.927164017455855,6.6576254486838575]},{\"name\":\"Scatter\",\"type\":\"scatter\",\"mode\":\"markers\",\"marker\":{\"symbol\":\"square-open\",\"color\":\"red\"},\"x\":[5.3809174702975024,47.62669335841985,8.649028765391147,11.467790521595834,1.1088089018145952,40.09824951719151,13.577787703513405,40.94296889513292,1.108056521602202,43.76301430386197,0.17483974141104808,24.114094021918262,16.89590120342288,3.666383236342119,17.942790640807573,28.97043691928961,22.45613107750892,5.6798286789201455,3.329827574166022,5.635945634437157,8.325825839003025,2.05472476353058,40.04569456747266,12.830993091450843,11.522913394718698,2.726721251415759,44.5966871735946,2.999254257236311,38.051889974691875,37.450323823133765,14.309245935467752,39.56315308714112,8.055168394636258,18.501524463434222,39.22307142025572,26.46078854419727,31.070055717962198,34.90704747902793,32.40852396368794,38.3691533015802,10.306471633200587,36.941976137190196,25.499355858913788,49.83297660508215,30.378090675779884,23.983201196402533,7.530713488939211,22.895426948393776,2.499645843762033,29.714384809574906,5.53361235816241,25.76638174788741,24.805745671390127,6.148796757970359,14.760969780446642,19.565931119247242,13.151617438253076,41.96959106539948,34.90657249253892,16.245211039125934,19.523750294770053,11.282803553965316,6.227193792912356,28.41365149834047,31.01852657566105,36.03656036427093,16.089418959316898,0.9911376480370049,32.2394730274043,9.080655876590427,12.136535774345997,35.35557584917963,17.918871693953236,15.12390951468905,13.007204040351311,38.97076506564623,10.587019107556861,3.6923695021138014,1.336431175052033,7.356475261021927,20.192529192514243,11.599674350623163,16.630705481486284,20.70204135929432,28.719618464630898,2.411550249558908,37.53298565640961,14.426778684473657,43.05344667011046,36.91964721371856,3.979543759345022,11.554933299634051,33.61208098660928,11.735624329857963,29.799523949171007,34.89987713593451,14.593826936112574,2.7745727974109458,45.41936402996033,48.74168081417258],\"y\":[24.081156175477375,26.617594408569577,38.50810706645664,12.934156138884395,28.69761051321681,35.526542504498295,27.635897415839604,17.19193452630679,8.031596433833466,41.2296374124553,10.316844169572326,49.68506409697045,18.62107720215701,18.50487624697798,22.168715729264584,42.00809571634152,45.93574874413045,22.05885433600972,28.345790553310884,22.09255353738064,25.498368093654822,9.231818801182296,41.88749019060026,47.696168541490316,1.0544639254703891,46.655487705709746,26.174271832437928,35.72917274461009,38.52975344097744,41.14835417565222,40.29356935700054,46.8674360282386,29.407167228376014,23.853916585548713,26.792416482797982,30.65415403633242,46.11044740582106,31.91046100696357,21.029684957639788,33.60627675212064,4.998879824989821,23.78674291897573,30.139738681386135,21.718787749882086,49.657790248012375,32.82610461783552,37.48059824315458,19.199430365528936,38.31200925062187,8.512276483102744,35.36355769664055,17.268404721731063,4.394604559681342,16.50330253630977,24.847509328999084,10.422024045729822,8.570728528948212,16.575749014106094,46.43008646007538,22.6862760725046,13.846544251752679,12.279549052046724,19.579022396359647,43.07567510175581,42.78574229274253,17.324536094949742,22.220991589257654,47.7247512172741,17.311241775822207,11.502930020591151,33.54150152379003,45.97398442005144,37.087271925901,13.297738598511561,44.74823849426715,49.068927639981645,22.0570696815621,27.235238451099057,12.811610385741934,23.070724439143177,28.3540494704751,31.510409355291536,41.620033150868586,2.0781893704826695,44.50933205100521,5.447391913526623,23.473862022984616,3.926045646436144,36.646154932175676,6.952743683699586,11.390680505528694,8.150908075590053,37.18169483180073,47.277476829405096,19.30598644972026,25.20600342476287,11.449492315998528,24.124553352243538,12.927164017455855,6.6576254486838575]}];\n",
       " var layout_DojMNpsL9U = {\"height\":550,\"width\":600,\"hovermode\":\"closest\",\"legend\":{\"orientation\":\"v\"},\"showlegend\":true};\n",
       " var config_DojMNpsL9U = {\"responsive\":true,\"scrollZoom\":true,\"displaylogo\":false};\n",
       " Plotly.newPlot(\"graph_DojMNpsL9U\", traces_DojMNpsL9U, layout_DojMNpsL9U, config_DojMNpsL9U);\n",
       "</script> \n"
      ]
     },
     "metadata": {},
     "output_type": "display_data"
    }
   ],
   "source": [
    "// additional traces can simply be composed with an existing chart and added on\n",
    "val series1 = XY(x, y) asType BAR setName \"Bar\"\n",
    "\n",
    "// lets give the second series a red marker. Again we can 'compose' a marker using smaller components\n",
    "val marker = Marker() setSymbol SQUARE_OPEN setColor \"red\"\n",
    "\n",
    "val series2 = XY(x, y) asType SCATTER setName \"Scatter\" drawStyle MARKERS setMarker marker\n",
    "\n",
    "// we not put brackets in the 'addSeries' function to ensure that addSeries picks up the right series'\n",
    "val chart = Chart() addSeries(series1, series2)\n",
    "\n",
    "chart.plotInline"
   ]
  },
  {
   "cell_type": "markdown",
   "metadata": {},
   "source": [
    "### Lets Change The Appearance of The Markers\n",
    "\n",
    "We can control the appearance of the markers by setting the width"
   ]
  },
  {
   "cell_type": "code",
   "execution_count": 11,
   "metadata": {},
   "outputs": [
    {
     "data": {
      "text/html": [
       "<div id=\"grid-container_nQQcbLkxMr\" class=\"grid-container\" align=\"center\"> \n",
       "<div id=\"grid_nQQcbLkxMr\" class=\"grid\" align=\"center\"> \n",
       "<div id=\"graph_zWbdWLGR78\" class=\"graph\"></div> \n",
       "</div> \n",
       "</div> \n",
       "<script>\n",
       "var masonry = new Macy({\n",
       "    container: '#grid_nQQcbLkxMr',\n",
       "    debug: true,\n",
       "    mobileFirst: true,\n",
       "    columns: 1,\n",
       "    margin: {\n",
       "        x: 0,\n",
       "        y: 0\n",
       "    }\n",
       "  });\n",
       "\n",
       " var traces_zWbdWLGR78 = [{\"name\":\"Bar\",\"type\":\"bar\",\"x\":[5.3809174702975024,47.62669335841985,8.649028765391147,11.467790521595834,1.1088089018145952,40.09824951719151,13.577787703513405,40.94296889513292,1.108056521602202,43.76301430386197,0.17483974141104808,24.114094021918262,16.89590120342288,3.666383236342119,17.942790640807573,28.97043691928961,22.45613107750892,5.6798286789201455,3.329827574166022,5.635945634437157,8.325825839003025,2.05472476353058,40.04569456747266,12.830993091450843,11.522913394718698,2.726721251415759,44.5966871735946,2.999254257236311,38.051889974691875,37.450323823133765,14.309245935467752,39.56315308714112,8.055168394636258,18.501524463434222,39.22307142025572,26.46078854419727,31.070055717962198,34.90704747902793,32.40852396368794,38.3691533015802,10.306471633200587,36.941976137190196,25.499355858913788,49.83297660508215,30.378090675779884,23.983201196402533,7.530713488939211,22.895426948393776,2.499645843762033,29.714384809574906,5.53361235816241,25.76638174788741,24.805745671390127,6.148796757970359,14.760969780446642,19.565931119247242,13.151617438253076,41.96959106539948,34.90657249253892,16.245211039125934,19.523750294770053,11.282803553965316,6.227193792912356,28.41365149834047,31.01852657566105,36.03656036427093,16.089418959316898,0.9911376480370049,32.2394730274043,9.080655876590427,12.136535774345997,35.35557584917963,17.918871693953236,15.12390951468905,13.007204040351311,38.97076506564623,10.587019107556861,3.6923695021138014,1.336431175052033,7.356475261021927,20.192529192514243,11.599674350623163,16.630705481486284,20.70204135929432,28.719618464630898,2.411550249558908,37.53298565640961,14.426778684473657,43.05344667011046,36.91964721371856,3.979543759345022,11.554933299634051,33.61208098660928,11.735624329857963,29.799523949171007,34.89987713593451,14.593826936112574,2.7745727974109458,45.41936402996033,48.74168081417258],\"y\":[24.081156175477375,26.617594408569577,38.50810706645664,12.934156138884395,28.69761051321681,35.526542504498295,27.635897415839604,17.19193452630679,8.031596433833466,41.2296374124553,10.316844169572326,49.68506409697045,18.62107720215701,18.50487624697798,22.168715729264584,42.00809571634152,45.93574874413045,22.05885433600972,28.345790553310884,22.09255353738064,25.498368093654822,9.231818801182296,41.88749019060026,47.696168541490316,1.0544639254703891,46.655487705709746,26.174271832437928,35.72917274461009,38.52975344097744,41.14835417565222,40.29356935700054,46.8674360282386,29.407167228376014,23.853916585548713,26.792416482797982,30.65415403633242,46.11044740582106,31.91046100696357,21.029684957639788,33.60627675212064,4.998879824989821,23.78674291897573,30.139738681386135,21.718787749882086,49.657790248012375,32.82610461783552,37.48059824315458,19.199430365528936,38.31200925062187,8.512276483102744,35.36355769664055,17.268404721731063,4.394604559681342,16.50330253630977,24.847509328999084,10.422024045729822,8.570728528948212,16.575749014106094,46.43008646007538,22.6862760725046,13.846544251752679,12.279549052046724,19.579022396359647,43.07567510175581,42.78574229274253,17.324536094949742,22.220991589257654,47.7247512172741,17.311241775822207,11.502930020591151,33.54150152379003,45.97398442005144,37.087271925901,13.297738598511561,44.74823849426715,49.068927639981645,22.0570696815621,27.235238451099057,12.811610385741934,23.070724439143177,28.3540494704751,31.510409355291536,41.620033150868586,2.0781893704826695,44.50933205100521,5.447391913526623,23.473862022984616,3.926045646436144,36.646154932175676,6.952743683699586,11.390680505528694,8.150908075590053,37.18169483180073,47.277476829405096,19.30598644972026,25.20600342476287,11.449492315998528,24.124553352243538,12.927164017455855,6.6576254486838575]},{\"name\":\"Scatter\",\"type\":\"scatter\",\"mode\":\"markers\",\"marker\":{\"symbol\":\"circle\",\"color\":\"red\",\"line\":{\"width\":2,\"color\":\"black\"},\"size\":[10,10,10,10,10,10,10,10,10,10,10,10,10,10,10,10,10,10,10,10,10,10,10,10,10,10,10,10,10,10,10,10,10,10,10,10,10,10,10,10,10,10,10,10,10,10,10,10,10,10,10,10,10,10,10,10,10,10,10,10,10,10,10,10,10,10,10,10,10,10,10,10,10,10,10,10,10,10,10,10,10,10,10,10,10,10,10,10,10,10,10,10,10,10,10,10,10,10,10,10]},\"x\":[5.3809174702975024,47.62669335841985,8.649028765391147,11.467790521595834,1.1088089018145952,40.09824951719151,13.577787703513405,40.94296889513292,1.108056521602202,43.76301430386197,0.17483974141104808,24.114094021918262,16.89590120342288,3.666383236342119,17.942790640807573,28.97043691928961,22.45613107750892,5.6798286789201455,3.329827574166022,5.635945634437157,8.325825839003025,2.05472476353058,40.04569456747266,12.830993091450843,11.522913394718698,2.726721251415759,44.5966871735946,2.999254257236311,38.051889974691875,37.450323823133765,14.309245935467752,39.56315308714112,8.055168394636258,18.501524463434222,39.22307142025572,26.46078854419727,31.070055717962198,34.90704747902793,32.40852396368794,38.3691533015802,10.306471633200587,36.941976137190196,25.499355858913788,49.83297660508215,30.378090675779884,23.983201196402533,7.530713488939211,22.895426948393776,2.499645843762033,29.714384809574906,5.53361235816241,25.76638174788741,24.805745671390127,6.148796757970359,14.760969780446642,19.565931119247242,13.151617438253076,41.96959106539948,34.90657249253892,16.245211039125934,19.523750294770053,11.282803553965316,6.227193792912356,28.41365149834047,31.01852657566105,36.03656036427093,16.089418959316898,0.9911376480370049,32.2394730274043,9.080655876590427,12.136535774345997,35.35557584917963,17.918871693953236,15.12390951468905,13.007204040351311,38.97076506564623,10.587019107556861,3.6923695021138014,1.336431175052033,7.356475261021927,20.192529192514243,11.599674350623163,16.630705481486284,20.70204135929432,28.719618464630898,2.411550249558908,37.53298565640961,14.426778684473657,43.05344667011046,36.91964721371856,3.979543759345022,11.554933299634051,33.61208098660928,11.735624329857963,29.799523949171007,34.89987713593451,14.593826936112574,2.7745727974109458,45.41936402996033,48.74168081417258],\"y\":[24.081156175477375,26.617594408569577,38.50810706645664,12.934156138884395,28.69761051321681,35.526542504498295,27.635897415839604,17.19193452630679,8.031596433833466,41.2296374124553,10.316844169572326,49.68506409697045,18.62107720215701,18.50487624697798,22.168715729264584,42.00809571634152,45.93574874413045,22.05885433600972,28.345790553310884,22.09255353738064,25.498368093654822,9.231818801182296,41.88749019060026,47.696168541490316,1.0544639254703891,46.655487705709746,26.174271832437928,35.72917274461009,38.52975344097744,41.14835417565222,40.29356935700054,46.8674360282386,29.407167228376014,23.853916585548713,26.792416482797982,30.65415403633242,46.11044740582106,31.91046100696357,21.029684957639788,33.60627675212064,4.998879824989821,23.78674291897573,30.139738681386135,21.718787749882086,49.657790248012375,32.82610461783552,37.48059824315458,19.199430365528936,38.31200925062187,8.512276483102744,35.36355769664055,17.268404721731063,4.394604559681342,16.50330253630977,24.847509328999084,10.422024045729822,8.570728528948212,16.575749014106094,46.43008646007538,22.6862760725046,13.846544251752679,12.279549052046724,19.579022396359647,43.07567510175581,42.78574229274253,17.324536094949742,22.220991589257654,47.7247512172741,17.311241775822207,11.502930020591151,33.54150152379003,45.97398442005144,37.087271925901,13.297738598511561,44.74823849426715,49.068927639981645,22.0570696815621,27.235238451099057,12.811610385741934,23.070724439143177,28.3540494704751,31.510409355291536,41.620033150868586,2.0781893704826695,44.50933205100521,5.447391913526623,23.473862022984616,3.926045646436144,36.646154932175676,6.952743683699586,11.390680505528694,8.150908075590053,37.18169483180073,47.277476829405096,19.30598644972026,25.20600342476287,11.449492315998528,24.124553352243538,12.927164017455855,6.6576254486838575]}];\n",
       " var layout_zWbdWLGR78 = {\"height\":550,\"width\":600,\"hovermode\":\"closest\",\"legend\":{\"orientation\":\"v\"},\"showlegend\":true};\n",
       " var config_zWbdWLGR78 = {\"responsive\":false,\"scrollZoom\":false,\"displaylogo\":false};\n",
       " Plotly.newPlot(\"graph_zWbdWLGR78\", traces_zWbdWLGR78, layout_zWbdWLGR78, config_zWbdWLGR78);\n",
       "</script> \n"
      ]
     },
     "metadata": {},
     "output_type": "display_data"
    }
   ],
   "source": [
    "// we can pass in the size of the markers\n",
    "val sizes = List.range(0, 100).map(x => 10)\n",
    "\n",
    "// additional traces can simply be composed with an existing chart and added on\n",
    "val series1 = XY(x, y) asType BAR setName \"Bar\"\n",
    "\n",
    "// lets give the second series a red marker. Again we can 'compose' a marker using smaller components\n",
    "val marker = (\n",
    "    Marker() \n",
    "    // sets the marker shape\n",
    "    setSymbol CIRCLE\n",
    "    // sets the fill to red\n",
    "    setColor \"red\" \n",
    "    // sets the outline to black, with width 2\n",
    "    setLine(width = 2, \"black\")\n",
    "    // set the size of the markers to 10 as per the list we created\n",
    "    setSize(sizes)\n",
    ") \n",
    "\n",
    "val series2 = XY(x, y) asType SCATTER setName \"Scatter\" drawStyle MARKERS setMarker marker\n",
    "\n",
    "// we not put brackets in the 'addSeries' function to ensure that addSeries picks up the right series'\n",
    "val chart = Chart() addSeries(series1, series2) setConfig(false, false)\n",
    "\n",
    "chart.plotInline"
   ]
  },
  {
   "cell_type": "markdown",
   "metadata": {},
   "source": [
    "### Adding Another Axes\n",
    "\n",
    "Sometimes we may wish to plot multiple series, but on two different Axes. We can do this as follows:"
   ]
  },
  {
   "cell_type": "code",
   "execution_count": 12,
   "metadata": {},
   "outputs": [
    {
     "data": {
      "text/html": [
       "<div id=\"grid-container_VZsSnvXKBO\" class=\"grid-container\" align=\"center\"> \n",
       "<div id=\"grid_VZsSnvXKBO\" class=\"grid\" align=\"center\"> \n",
       "<div id=\"graph_8gjxxBDwBa\" class=\"graph\"></div> \n",
       "</div> \n",
       "</div> \n",
       "<script>\n",
       "var masonry = new Macy({\n",
       "    container: '#grid_VZsSnvXKBO',\n",
       "    debug: true,\n",
       "    mobileFirst: true,\n",
       "    columns: 1,\n",
       "    margin: {\n",
       "        x: 0,\n",
       "        y: 0\n",
       "    }\n",
       "  });\n",
       "\n",
       " var traces_8gjxxBDwBa = [{\"name\":\"tZ6SuzIUWc\",\"type\":\"scatter\",\"mode\":\"markers\",\"x\":[5.3809174702975024,47.62669335841985,8.649028765391147,11.467790521595834,1.1088089018145952,40.09824951719151,13.577787703513405,40.94296889513292,1.108056521602202,43.76301430386197,0.17483974141104808,24.114094021918262,16.89590120342288,3.666383236342119,17.942790640807573,28.97043691928961,22.45613107750892,5.6798286789201455,3.329827574166022,5.635945634437157,8.325825839003025,2.05472476353058,40.04569456747266,12.830993091450843,11.522913394718698,2.726721251415759,44.5966871735946,2.999254257236311,38.051889974691875,37.450323823133765,14.309245935467752,39.56315308714112,8.055168394636258,18.501524463434222,39.22307142025572,26.46078854419727,31.070055717962198,34.90704747902793,32.40852396368794,38.3691533015802,10.306471633200587,36.941976137190196,25.499355858913788,49.83297660508215,30.378090675779884,23.983201196402533,7.530713488939211,22.895426948393776,2.499645843762033,29.714384809574906,5.53361235816241,25.76638174788741,24.805745671390127,6.148796757970359,14.760969780446642,19.565931119247242,13.151617438253076,41.96959106539948,34.90657249253892,16.245211039125934,19.523750294770053,11.282803553965316,6.227193792912356,28.41365149834047,31.01852657566105,36.03656036427093,16.089418959316898,0.9911376480370049,32.2394730274043,9.080655876590427,12.136535774345997,35.35557584917963,17.918871693953236,15.12390951468905,13.007204040351311,38.97076506564623,10.587019107556861,3.6923695021138014,1.336431175052033,7.356475261021927,20.192529192514243,11.599674350623163,16.630705481486284,20.70204135929432,28.719618464630898,2.411550249558908,37.53298565640961,14.426778684473657,43.05344667011046,36.91964721371856,3.979543759345022,11.554933299634051,33.61208098660928,11.735624329857963,29.799523949171007,34.89987713593451,14.593826936112574,2.7745727974109458,45.41936402996033,48.74168081417258],\"y\":[24.081156175477375,26.617594408569577,38.50810706645664,12.934156138884395,28.69761051321681,35.526542504498295,27.635897415839604,17.19193452630679,8.031596433833466,41.2296374124553,10.316844169572326,49.68506409697045,18.62107720215701,18.50487624697798,22.168715729264584,42.00809571634152,45.93574874413045,22.05885433600972,28.345790553310884,22.09255353738064,25.498368093654822,9.231818801182296,41.88749019060026,47.696168541490316,1.0544639254703891,46.655487705709746,26.174271832437928,35.72917274461009,38.52975344097744,41.14835417565222,40.29356935700054,46.8674360282386,29.407167228376014,23.853916585548713,26.792416482797982,30.65415403633242,46.11044740582106,31.91046100696357,21.029684957639788,33.60627675212064,4.998879824989821,23.78674291897573,30.139738681386135,21.718787749882086,49.657790248012375,32.82610461783552,37.48059824315458,19.199430365528936,38.31200925062187,8.512276483102744,35.36355769664055,17.268404721731063,4.394604559681342,16.50330253630977,24.847509328999084,10.422024045729822,8.570728528948212,16.575749014106094,46.43008646007538,22.6862760725046,13.846544251752679,12.279549052046724,19.579022396359647,43.07567510175581,42.78574229274253,17.324536094949742,22.220991589257654,47.7247512172741,17.311241775822207,11.502930020591151,33.54150152379003,45.97398442005144,37.087271925901,13.297738598511561,44.74823849426715,49.068927639981645,22.0570696815621,27.235238451099057,12.811610385741934,23.070724439143177,28.3540494704751,31.510409355291536,41.620033150868586,2.0781893704826695,44.50933205100521,5.447391913526623,23.473862022984616,3.926045646436144,36.646154932175676,6.952743683699586,11.390680505528694,8.150908075590053,37.18169483180073,47.277476829405096,19.30598644972026,25.20600342476287,11.449492315998528,24.124553352243538,12.927164017455855,6.6576254486838575]},{\"name\":\"Eg6qqIgTCV\",\"type\":\"scatter\",\"mode\":\"markers\",\"yaxis\":\"y2\",\"x\":[5.3809174702975024,47.62669335841985,8.649028765391147,11.467790521595834,1.1088089018145952,40.09824951719151,13.577787703513405,40.94296889513292,1.108056521602202,43.76301430386197,0.17483974141104808,24.114094021918262,16.89590120342288,3.666383236342119,17.942790640807573,28.97043691928961,22.45613107750892,5.6798286789201455,3.329827574166022,5.635945634437157,8.325825839003025,2.05472476353058,40.04569456747266,12.830993091450843,11.522913394718698,2.726721251415759,44.5966871735946,2.999254257236311,38.051889974691875,37.450323823133765,14.309245935467752,39.56315308714112,8.055168394636258,18.501524463434222,39.22307142025572,26.46078854419727,31.070055717962198,34.90704747902793,32.40852396368794,38.3691533015802,10.306471633200587,36.941976137190196,25.499355858913788,49.83297660508215,30.378090675779884,23.983201196402533,7.530713488939211,22.895426948393776,2.499645843762033,29.714384809574906,5.53361235816241,25.76638174788741,24.805745671390127,6.148796757970359,14.760969780446642,19.565931119247242,13.151617438253076,41.96959106539948,34.90657249253892,16.245211039125934,19.523750294770053,11.282803553965316,6.227193792912356,28.41365149834047,31.01852657566105,36.03656036427093,16.089418959316898,0.9911376480370049,32.2394730274043,9.080655876590427,12.136535774345997,35.35557584917963,17.918871693953236,15.12390951468905,13.007204040351311,38.97076506564623,10.587019107556861,3.6923695021138014,1.336431175052033,7.356475261021927,20.192529192514243,11.599674350623163,16.630705481486284,20.70204135929432,28.719618464630898,2.411550249558908,37.53298565640961,14.426778684473657,43.05344667011046,36.91964721371856,3.979543759345022,11.554933299634051,33.61208098660928,11.735624329857963,29.799523949171007,34.89987713593451,14.593826936112574,2.7745727974109458,45.41936402996033,48.74168081417258],\"y\":[40.61066353273999,14.421727760254216,8.73492330340847,18.410725889025525,27.239727477034652,44.92532659286671,42.42525698956916,22.88803204342474,12.050928106986431,2.2287499939514896,0.9462595955645969,41.52652714826028,36.37349168628334,13.720196342458802,34.207992917845374,45.95705192290931,45.18938683906976,27.567305091510008,23.529926102538646,4.797294456574669,49.81467362400215,42.90211895926059,33.93928129656384,43.115341936812115,7.635657512678545,41.03796806711107,16.544954945675137,3.3104346893061076,28.70360630811507,44.770587453831254,5.385515852936179,29.40953101660076,35.4468887928982,35.59896953085082,20.386117487796117,31.59272164636857,32.27695714158091,38.04717887359552,44.35795308047324,24.13749824308504,36.44468494280611,36.17653034946004,37.335262604272096,17.911335952129033,30.14614136981714,19.848260253168664,35.968694261002184,38.04400054775443,16.581964631180423,17.330012212740137,9.18014875112002,28.475423780090463,49.44207421013295,6.435156867295722,3.833089450350158,47.70198717265487,6.117549442369874,8.542185327981027,15.783602926909158,4.233471014600331,39.83405549470555,8.562100865609484,12.351343345956373,26.024877850117473,24.85631066819079,9.204938492748916,11.985800323442957,5.461829881203367,1.9306270484984511,19.742271849153408,45.702177646744786,10.355142199619205,38.21267856106632,47.87072196496801,32.722494409236546,1.8396786391091324,37.07018733043013,8.252235919473788,49.6813316861645,2.074489713113631,18.35532660952576,32.84006439943237,8.742001299041718,8.205759190502887,39.0092009514884,16.195106308627526,35.01772577387859,4.180967965505605,37.190849543911206,3.6554553872589937,47.8037431939941,28.692181023279872,10.515794676150747,31.44272876814844,3.3000992018598296,15.77830561622735,30.444235339951348,5.571912143147529,48.74118343036959,34.43061361766064]}];\n",
       " var layout_8gjxxBDwBa = {\"height\":550,\"width\":600,\"hovermode\":\"closest\",\"legend\":{\"orientation\":\"v\"},\"title\":{\"text\":\"Multiple Axes\"},\"showlegend\":true,\"xaxis\":{\"title\":{\"text\":\"X Axis\"},\"showgrid\":true,\"zeroline\":false,\"showline\":false},\"yaxis\":{\"title\":{\"text\":\"First Y Axis\"},\"showgrid\":true,\"zeroline\":false,\"showline\":false},\"yaxis2\":{\"title\":{\"text\":\"Second y axis\"},\"showgrid\":true,\"zeroline\":false,\"showline\":false,\"side\":\"right\",\"overlaying\":\"y\"}};\n",
       " var config_8gjxxBDwBa = {\"responsive\":false,\"scrollZoom\":false,\"displaylogo\":false};\n",
       " Plotly.newPlot(\"graph_8gjxxBDwBa\", traces_8gjxxBDwBa, layout_8gjxxBDwBa, config_8gjxxBDwBa);\n",
       "</script> \n"
      ]
     },
     "metadata": {},
     "output_type": "display_data"
    }
   ],
   "source": [
    "val series1 = XY(x, y) asType SCATTER drawStyle MARKERS\n",
    "\n",
    "// The following maps the series onto the second Y axis.\n",
    "val series2 = (\n",
    "    XY(x, z) \n",
    "    asType SCATTER \n",
    "    drawStyle MARKERS \n",
    "    setAxis YAxis(2)\n",
    ")\n",
    "      \n",
    "val chart = (\n",
    "    Chart() \n",
    "    setTitle \"Multiple Axes\"\n",
    "    // the following makes the chart unresponsive\n",
    "    setConfig(false, false) \n",
    "    addSeries(series1, series2) \n",
    "    // the following tells the chart how t render the second Y Axis\n",
    "    addAxes YAxis(position = 2, title = \"Second y axis\", overlaying = YAxis(), side = RIGHT)\n",
    "    addAxes YAxis(1, \"First Y Axis\")\n",
    "    addAxes XAxis(title = \"X Axis\")\n",
    ") \n",
    "\n",
    "// this is just for illustration purposes, but we can also do the following\n",
    "val canvas = Canvas() setChart(0, 0, chart)\n",
    "\n",
    "canvas.plotInline"
   ]
  },
  {
   "cell_type": "markdown",
   "metadata": {},
   "source": [
    "### Customizing the Axes\n",
    "\n",
    "As can be seen from some of the examples above, the axes were not set. While for quick data exploration the above is acceptable, for presentation purposes we would want named axes.\n",
    "\n",
    "We can do this as follows:"
   ]
  },
  {
   "cell_type": "code",
   "execution_count": 13,
   "metadata": {},
   "outputs": [
    {
     "data": {
      "text/html": [
       "<div id=\"grid-container_dSwHLeJYV2\" class=\"grid-container\" align=\"center\"> \n",
       "<div id=\"grid_dSwHLeJYV2\" class=\"grid\" align=\"center\"> \n",
       "<div id=\"graph_nehLpSm1fs\" class=\"graph\"></div> \n",
       "</div> \n",
       "</div> \n",
       "<script>\n",
       "var masonry = new Macy({\n",
       "    container: '#grid_dSwHLeJYV2',\n",
       "    debug: true,\n",
       "    mobileFirst: true,\n",
       "    columns: 1,\n",
       "    margin: {\n",
       "        x: 0,\n",
       "        y: 0\n",
       "    }\n",
       "  });\n",
       "\n",
       " var traces_nehLpSm1fs = [{\"name\":\"tZ6SuzIUWc\",\"type\":\"scatter\",\"mode\":\"markers\",\"x\":[5.3809174702975024,47.62669335841985,8.649028765391147,11.467790521595834,1.1088089018145952,40.09824951719151,13.577787703513405,40.94296889513292,1.108056521602202,43.76301430386197,0.17483974141104808,24.114094021918262,16.89590120342288,3.666383236342119,17.942790640807573,28.97043691928961,22.45613107750892,5.6798286789201455,3.329827574166022,5.635945634437157,8.325825839003025,2.05472476353058,40.04569456747266,12.830993091450843,11.522913394718698,2.726721251415759,44.5966871735946,2.999254257236311,38.051889974691875,37.450323823133765,14.309245935467752,39.56315308714112,8.055168394636258,18.501524463434222,39.22307142025572,26.46078854419727,31.070055717962198,34.90704747902793,32.40852396368794,38.3691533015802,10.306471633200587,36.941976137190196,25.499355858913788,49.83297660508215,30.378090675779884,23.983201196402533,7.530713488939211,22.895426948393776,2.499645843762033,29.714384809574906,5.53361235816241,25.76638174788741,24.805745671390127,6.148796757970359,14.760969780446642,19.565931119247242,13.151617438253076,41.96959106539948,34.90657249253892,16.245211039125934,19.523750294770053,11.282803553965316,6.227193792912356,28.41365149834047,31.01852657566105,36.03656036427093,16.089418959316898,0.9911376480370049,32.2394730274043,9.080655876590427,12.136535774345997,35.35557584917963,17.918871693953236,15.12390951468905,13.007204040351311,38.97076506564623,10.587019107556861,3.6923695021138014,1.336431175052033,7.356475261021927,20.192529192514243,11.599674350623163,16.630705481486284,20.70204135929432,28.719618464630898,2.411550249558908,37.53298565640961,14.426778684473657,43.05344667011046,36.91964721371856,3.979543759345022,11.554933299634051,33.61208098660928,11.735624329857963,29.799523949171007,34.89987713593451,14.593826936112574,2.7745727974109458,45.41936402996033,48.74168081417258],\"y\":[24.081156175477375,26.617594408569577,38.50810706645664,12.934156138884395,28.69761051321681,35.526542504498295,27.635897415839604,17.19193452630679,8.031596433833466,41.2296374124553,10.316844169572326,49.68506409697045,18.62107720215701,18.50487624697798,22.168715729264584,42.00809571634152,45.93574874413045,22.05885433600972,28.345790553310884,22.09255353738064,25.498368093654822,9.231818801182296,41.88749019060026,47.696168541490316,1.0544639254703891,46.655487705709746,26.174271832437928,35.72917274461009,38.52975344097744,41.14835417565222,40.29356935700054,46.8674360282386,29.407167228376014,23.853916585548713,26.792416482797982,30.65415403633242,46.11044740582106,31.91046100696357,21.029684957639788,33.60627675212064,4.998879824989821,23.78674291897573,30.139738681386135,21.718787749882086,49.657790248012375,32.82610461783552,37.48059824315458,19.199430365528936,38.31200925062187,8.512276483102744,35.36355769664055,17.268404721731063,4.394604559681342,16.50330253630977,24.847509328999084,10.422024045729822,8.570728528948212,16.575749014106094,46.43008646007538,22.6862760725046,13.846544251752679,12.279549052046724,19.579022396359647,43.07567510175581,42.78574229274253,17.324536094949742,22.220991589257654,47.7247512172741,17.311241775822207,11.502930020591151,33.54150152379003,45.97398442005144,37.087271925901,13.297738598511561,44.74823849426715,49.068927639981645,22.0570696815621,27.235238451099057,12.811610385741934,23.070724439143177,28.3540494704751,31.510409355291536,41.620033150868586,2.0781893704826695,44.50933205100521,5.447391913526623,23.473862022984616,3.926045646436144,36.646154932175676,6.952743683699586,11.390680505528694,8.150908075590053,37.18169483180073,47.277476829405096,19.30598644972026,25.20600342476287,11.449492315998528,24.124553352243538,12.927164017455855,6.6576254486838575]}];\n",
       " var layout_nehLpSm1fs = {\"height\":550,\"width\":600,\"hovermode\":\"closest\",\"legend\":{\"orientation\":\"v\"},\"title\":{\"text\":\"Chart with Axes\"},\"showlegend\":true,\"xaxis\":{\"title\":{\"text\":\"x variable\"},\"showgrid\":true,\"zeroline\":false,\"showline\":false},\"yaxis\":{\"title\":{\"text\":\"y variable\"},\"showgrid\":true,\"zeroline\":false,\"showline\":false}};\n",
       " var config_nehLpSm1fs = {\"responsive\":true,\"scrollZoom\":true,\"displaylogo\":false};\n",
       " Plotly.newPlot(\"graph_nehLpSm1fs\", traces_nehLpSm1fs, layout_nehLpSm1fs, config_nehLpSm1fs);\n",
       "</script> \n"
      ]
     },
     "metadata": {},
     "output_type": "display_data"
    }
   ],
   "source": [
    "// We construct the axes and set their title\n",
    "val xaxis = XAxis(title = \"x variable\")\n",
    "val yaxis = YAxis(title = \"y variable\")\n",
    "\n",
    "// another way to do composition is to just add a bracket around the composition\n",
    "val chart = (\n",
    "    Chart()\n",
    "    setTitle \"Chart with Axes\"\n",
    "    addSeries(series1)\n",
    "    addAxes(xaxis, yaxis)\n",
    ")\n",
    "\n",
    "chart.plotInline"
   ]
  },
  {
   "cell_type": "markdown",
   "metadata": {},
   "source": [
    "### Display options - MultiCharts\n",
    "\n",
    "`MultiCharts` are a way to plot multiple axes on the same chart. This is seperate to Picta's grid system, which create a grid of subplot `Chart`'s. The next series of examples will make this clearer."
   ]
  },
  {
   "cell_type": "code",
   "execution_count": 14,
   "metadata": {},
   "outputs": [
    {
     "data": {
      "text/html": [
       "<div id=\"grid-container_4asRaKc4Ay\" class=\"grid-container\" align=\"center\"> \n",
       "<div id=\"grid_4asRaKc4Ay\" class=\"grid\" align=\"center\"> \n",
       "<div id=\"graph_caEE63RE2V\" class=\"graph\"></div> \n",
       "</div> \n",
       "</div> \n",
       "<script>\n",
       "var masonry = new Macy({\n",
       "    container: '#grid_4asRaKc4Ay',\n",
       "    debug: true,\n",
       "    mobileFirst: true,\n",
       "    columns: 1,\n",
       "    margin: {\n",
       "        x: 0,\n",
       "        y: 0\n",
       "    }\n",
       "  });\n",
       "\n",
       " var traces_caEE63RE2V = [{\"name\":\"2TOsgrLdVL\",\"type\":\"scatter\",\"mode\":\"markers\",\"x\":[1,2,3],\"y\":[2,4,5]},{\"name\":\"sMUxKnx9Zt\",\"type\":\"scatter\",\"mode\":\"markers\",\"xaxis\":\"x2\",\"yaxis\":\"y2\",\"x\":[5.3809174702975024,47.62669335841985,8.649028765391147,11.467790521595834,1.1088089018145952,40.09824951719151,13.577787703513405,40.94296889513292,1.108056521602202,43.76301430386197,0.17483974141104808,24.114094021918262,16.89590120342288,3.666383236342119,17.942790640807573,28.97043691928961,22.45613107750892,5.6798286789201455,3.329827574166022,5.635945634437157,8.325825839003025,2.05472476353058,40.04569456747266,12.830993091450843,11.522913394718698,2.726721251415759,44.5966871735946,2.999254257236311,38.051889974691875,37.450323823133765,14.309245935467752,39.56315308714112,8.055168394636258,18.501524463434222,39.22307142025572,26.46078854419727,31.070055717962198,34.90704747902793,32.40852396368794,38.3691533015802,10.306471633200587,36.941976137190196,25.499355858913788,49.83297660508215,30.378090675779884,23.983201196402533,7.530713488939211,22.895426948393776,2.499645843762033,29.714384809574906,5.53361235816241,25.76638174788741,24.805745671390127,6.148796757970359,14.760969780446642,19.565931119247242,13.151617438253076,41.96959106539948,34.90657249253892,16.245211039125934,19.523750294770053,11.282803553965316,6.227193792912356,28.41365149834047,31.01852657566105,36.03656036427093,16.089418959316898,0.9911376480370049,32.2394730274043,9.080655876590427,12.136535774345997,35.35557584917963,17.918871693953236,15.12390951468905,13.007204040351311,38.97076506564623,10.587019107556861,3.6923695021138014,1.336431175052033,7.356475261021927,20.192529192514243,11.599674350623163,16.630705481486284,20.70204135929432,28.719618464630898,2.411550249558908,37.53298565640961,14.426778684473657,43.05344667011046,36.91964721371856,3.979543759345022,11.554933299634051,33.61208098660928,11.735624329857963,29.799523949171007,34.89987713593451,14.593826936112574,2.7745727974109458,45.41936402996033,48.74168081417258],\"y\":[24.081156175477375,26.617594408569577,38.50810706645664,12.934156138884395,28.69761051321681,35.526542504498295,27.635897415839604,17.19193452630679,8.031596433833466,41.2296374124553,10.316844169572326,49.68506409697045,18.62107720215701,18.50487624697798,22.168715729264584,42.00809571634152,45.93574874413045,22.05885433600972,28.345790553310884,22.09255353738064,25.498368093654822,9.231818801182296,41.88749019060026,47.696168541490316,1.0544639254703891,46.655487705709746,26.174271832437928,35.72917274461009,38.52975344097744,41.14835417565222,40.29356935700054,46.8674360282386,29.407167228376014,23.853916585548713,26.792416482797982,30.65415403633242,46.11044740582106,31.91046100696357,21.029684957639788,33.60627675212064,4.998879824989821,23.78674291897573,30.139738681386135,21.718787749882086,49.657790248012375,32.82610461783552,37.48059824315458,19.199430365528936,38.31200925062187,8.512276483102744,35.36355769664055,17.268404721731063,4.394604559681342,16.50330253630977,24.847509328999084,10.422024045729822,8.570728528948212,16.575749014106094,46.43008646007538,22.6862760725046,13.846544251752679,12.279549052046724,19.579022396359647,43.07567510175581,42.78574229274253,17.324536094949742,22.220991589257654,47.7247512172741,17.311241775822207,11.502930020591151,33.54150152379003,45.97398442005144,37.087271925901,13.297738598511561,44.74823849426715,49.068927639981645,22.0570696815621,27.235238451099057,12.811610385741934,23.070724439143177,28.3540494704751,31.510409355291536,41.620033150868586,2.0781893704826695,44.50933205100521,5.447391913526623,23.473862022984616,3.926045646436144,36.646154932175676,6.952743683699586,11.390680505528694,8.150908075590053,37.18169483180073,47.277476829405096,19.30598644972026,25.20600342476287,11.449492315998528,24.124553352243538,12.927164017455855,6.6576254486838575]}];\n",
       " var layout_caEE63RE2V = {\"height\":550,\"width\":600,\"hovermode\":\"closest\",\"legend\":{\"orientation\":\"v\"},\"title\":{\"text\":\"Chart.Axis.Composition\"},\"showlegend\":true,\"grid\":{\"rows\":1,\"columns\":2,\"pattern\":\"independent\"},\"xaxis\":{\"title\":{\"text\":\"x1\"},\"showgrid\":true,\"zeroline\":false,\"showline\":false},\"yaxis\":{\"showgrid\":true,\"zeroline\":false,\"showline\":false},\"xaxis2\":{\"title\":{\"text\":\"x2\"},\"showgrid\":true,\"zeroline\":false,\"showline\":false},\"yaxis2\":{\"showgrid\":true,\"zeroline\":false,\"showline\":false}};\n",
       " var config_caEE63RE2V = {\"responsive\":false,\"scrollZoom\":true,\"displaylogo\":false};\n",
       " Plotly.newPlot(\"graph_caEE63RE2V\", traces_caEE63RE2V, layout_caEE63RE2V, config_caEE63RE2V);\n",
       "</script> \n"
      ]
     },
     "metadata": {},
     "output_type": "display_data"
    }
   ],
   "source": [
    "// create the axes\n",
    "val xaxis1 = XAxis() setTitle \"x1\"\n",
    "val yaxis1 = YAxis() // this is not strictly necessary, but if it is not added there will be a zeroline at y = 0\n",
    "\n",
    "val xaxis2 = XAxis(2) setTitle \"x2\"\n",
    "val yaxis2 = YAxis(2) // this is not strictly necessary, but if it is not added there will be a zeroline at y = 0\n",
    "\n",
    "val series1 = (\n",
    "    XY(x = List(1, 2, 3), y = List(2, 4, 5))\n",
    "    asType SCATTER\n",
    "    drawStyle MARKERS\n",
    ")\n",
    "\n",
    "val series2 = (\n",
    "    XY(x = x, y = y) \n",
    "    asType SCATTER \n",
    "    drawStyle MARKERS \n",
    "    setAxes (xaxis2, yaxis2)\n",
    ")\n",
    "\n",
    "val chart1 = Chart()\n",
    "            .addSeries(series1, series2)\n",
    "            .setTitle(\"Chart.Axis.Composition\")\n",
    "            .addAxes(xaxis1, yaxis1, xaxis2, yaxis2)\n",
    "            .setConfig(responsive=false)\n",
    "            // This tells Picta that we want to actually subdivide this chart into multiple plots\n",
    "            .asMultiChart(1, 2)\n",
    "\n",
    "chart1.plotInline"
   ]
  },
  {
   "cell_type": "markdown",
   "metadata": {},
   "source": [
    "### Picta's Subplot System\n",
    "\n",
    "While the above is useful, sometimes it is more useful to plot independent charts in a subplot grid. This is where we can use the Picta subplot system.\n",
    "\n",
    "In the subplots below, each subplot is an individual `Chart`. This means we can actually embed the above `MultiChart` inside another subplot. This way we can create nested subplots to showcase any data we need to.\n",
    "\n",
    "Used creatively, this subplot system can be very useful for data exploration."
   ]
  },
  {
   "cell_type": "code",
   "execution_count": 15,
   "metadata": {
    "scrolled": false
   },
   "outputs": [
    {
     "data": {
      "text/html": [
       "<div id=\"grid-container_3VL2UWXCkv\" class=\"grid-container\" align=\"center\"> \n",
       "<div class=\"grid-title\" align=\"center\"> <h1>The Picta Grid</h1> </div> \n",
       "<div id=\"grid_3VL2UWXCkv\" class=\"grid\" align=\"center\"> \n",
       "<div id=\"graph_mONT8iInvf\" class=\"graph\"></div> \n",
       "<div id=\"graph_t0AtbEr6FP\" class=\"graph\"></div> \n",
       "<div id=\"graph_qQRKt4xbmc\" class=\"graph\"></div> \n",
       "<div id=\"graph_pdjh29NlCH\" class=\"graph\"></div> \n",
       "</div> \n",
       "</div> \n",
       "\n",
       "<div align=\"center\">\n",
       "<button id = \"saveAsPNG_3VL2UWXCkv\" class=\"picta-button\">Download Canvas as PNG</button>\n",
       "</div>\n",
       "<script>\n",
       "var masonry = new Macy({\n",
       "    container: '#grid_3VL2UWXCkv',\n",
       "    debug: true,\n",
       "    mobileFirst: true,\n",
       "    columns: 2,\n",
       "    margin: {\n",
       "        x: 0,\n",
       "        y: 0\n",
       "    }\n",
       "  });\n",
       "\n",
       " var traces_mONT8iInvf = [{\"name\":\"a\",\"type\":\"scatter\",\"mode\":\"markers\",\"x\":[5.3809174702975024,47.62669335841985,8.649028765391147,11.467790521595834,1.1088089018145952,40.09824951719151,13.577787703513405,40.94296889513292,1.108056521602202,43.76301430386197,0.17483974141104808,24.114094021918262,16.89590120342288,3.666383236342119,17.942790640807573,28.97043691928961,22.45613107750892,5.6798286789201455,3.329827574166022,5.635945634437157,8.325825839003025,2.05472476353058,40.04569456747266,12.830993091450843,11.522913394718698,2.726721251415759,44.5966871735946,2.999254257236311,38.051889974691875,37.450323823133765,14.309245935467752,39.56315308714112,8.055168394636258,18.501524463434222,39.22307142025572,26.46078854419727,31.070055717962198,34.90704747902793,32.40852396368794,38.3691533015802,10.306471633200587,36.941976137190196,25.499355858913788,49.83297660508215,30.378090675779884,23.983201196402533,7.530713488939211,22.895426948393776,2.499645843762033,29.714384809574906,5.53361235816241,25.76638174788741,24.805745671390127,6.148796757970359,14.760969780446642,19.565931119247242,13.151617438253076,41.96959106539948,34.90657249253892,16.245211039125934,19.523750294770053,11.282803553965316,6.227193792912356,28.41365149834047,31.01852657566105,36.03656036427093,16.089418959316898,0.9911376480370049,32.2394730274043,9.080655876590427,12.136535774345997,35.35557584917963,17.918871693953236,15.12390951468905,13.007204040351311,38.97076506564623,10.587019107556861,3.6923695021138014,1.336431175052033,7.356475261021927,20.192529192514243,11.599674350623163,16.630705481486284,20.70204135929432,28.719618464630898,2.411550249558908,37.53298565640961,14.426778684473657,43.05344667011046,36.91964721371856,3.979543759345022,11.554933299634051,33.61208098660928,11.735624329857963,29.799523949171007,34.89987713593451,14.593826936112574,2.7745727974109458,45.41936402996033,48.74168081417258],\"y\":[24.081156175477375,26.617594408569577,38.50810706645664,12.934156138884395,28.69761051321681,35.526542504498295,27.635897415839604,17.19193452630679,8.031596433833466,41.2296374124553,10.316844169572326,49.68506409697045,18.62107720215701,18.50487624697798,22.168715729264584,42.00809571634152,45.93574874413045,22.05885433600972,28.345790553310884,22.09255353738064,25.498368093654822,9.231818801182296,41.88749019060026,47.696168541490316,1.0544639254703891,46.655487705709746,26.174271832437928,35.72917274461009,38.52975344097744,41.14835417565222,40.29356935700054,46.8674360282386,29.407167228376014,23.853916585548713,26.792416482797982,30.65415403633242,46.11044740582106,31.91046100696357,21.029684957639788,33.60627675212064,4.998879824989821,23.78674291897573,30.139738681386135,21.718787749882086,49.657790248012375,32.82610461783552,37.48059824315458,19.199430365528936,38.31200925062187,8.512276483102744,35.36355769664055,17.268404721731063,4.394604559681342,16.50330253630977,24.847509328999084,10.422024045729822,8.570728528948212,16.575749014106094,46.43008646007538,22.6862760725046,13.846544251752679,12.279549052046724,19.579022396359647,43.07567510175581,42.78574229274253,17.324536094949742,22.220991589257654,47.7247512172741,17.311241775822207,11.502930020591151,33.54150152379003,45.97398442005144,37.087271925901,13.297738598511561,44.74823849426715,49.068927639981645,22.0570696815621,27.235238451099057,12.811610385741934,23.070724439143177,28.3540494704751,31.510409355291536,41.620033150868586,2.0781893704826695,44.50933205100521,5.447391913526623,23.473862022984616,3.926045646436144,36.646154932175676,6.952743683699586,11.390680505528694,8.150908075590053,37.18169483180073,47.277476829405096,19.30598644972026,25.20600342476287,11.449492315998528,24.124553352243538,12.927164017455855,6.6576254486838575]}];\n",
       " var layout_mONT8iInvf = {\"height\":350,\"width\":350,\"hovermode\":\"closest\",\"legend\":{\"orientation\":\"v\"},\"showlegend\":true,\"margin\":{\"l\":50,\"r\":30,\"t\":50,\"b\":50},\"xaxis\":{\"title\":{\"text\":\"x axis 1\"},\"showgrid\":true,\"zeroline\":false,\"showline\":false},\"yaxis\":{\"title\":{\"text\":\"y axis 1\"},\"showgrid\":true,\"zeroline\":false,\"showline\":false}};\n",
       " var config_mONT8iInvf = {\"responsive\":true,\"scrollZoom\":true,\"displaylogo\":false};\n",
       " Plotly.newPlot(\"graph_mONT8iInvf\", traces_mONT8iInvf, layout_mONT8iInvf, config_mONT8iInvf);\n",
       "\n",
       " var traces_t0AtbEr6FP = [{\"name\":\"b\",\"type\":\"scatter\",\"mode\":\"markers\",\"x\":[5.3809174702975024,47.62669335841985,8.649028765391147,11.467790521595834,1.1088089018145952,40.09824951719151,13.577787703513405,40.94296889513292,1.108056521602202,43.76301430386197,0.17483974141104808,24.114094021918262,16.89590120342288,3.666383236342119,17.942790640807573,28.97043691928961,22.45613107750892,5.6798286789201455,3.329827574166022,5.635945634437157,8.325825839003025,2.05472476353058,40.04569456747266,12.830993091450843,11.522913394718698,2.726721251415759,44.5966871735946,2.999254257236311,38.051889974691875,37.450323823133765,14.309245935467752,39.56315308714112,8.055168394636258,18.501524463434222,39.22307142025572,26.46078854419727,31.070055717962198,34.90704747902793,32.40852396368794,38.3691533015802,10.306471633200587,36.941976137190196,25.499355858913788,49.83297660508215,30.378090675779884,23.983201196402533,7.530713488939211,22.895426948393776,2.499645843762033,29.714384809574906,5.53361235816241,25.76638174788741,24.805745671390127,6.148796757970359,14.760969780446642,19.565931119247242,13.151617438253076,41.96959106539948,34.90657249253892,16.245211039125934,19.523750294770053,11.282803553965316,6.227193792912356,28.41365149834047,31.01852657566105,36.03656036427093,16.089418959316898,0.9911376480370049,32.2394730274043,9.080655876590427,12.136535774345997,35.35557584917963,17.918871693953236,15.12390951468905,13.007204040351311,38.97076506564623,10.587019107556861,3.6923695021138014,1.336431175052033,7.356475261021927,20.192529192514243,11.599674350623163,16.630705481486284,20.70204135929432,28.719618464630898,2.411550249558908,37.53298565640961,14.426778684473657,43.05344667011046,36.91964721371856,3.979543759345022,11.554933299634051,33.61208098660928,11.735624329857963,29.799523949171007,34.89987713593451,14.593826936112574,2.7745727974109458,45.41936402996033,48.74168081417258],\"y\":[24.081156175477375,26.617594408569577,38.50810706645664,12.934156138884395,28.69761051321681,35.526542504498295,27.635897415839604,17.19193452630679,8.031596433833466,41.2296374124553,10.316844169572326,49.68506409697045,18.62107720215701,18.50487624697798,22.168715729264584,42.00809571634152,45.93574874413045,22.05885433600972,28.345790553310884,22.09255353738064,25.498368093654822,9.231818801182296,41.88749019060026,47.696168541490316,1.0544639254703891,46.655487705709746,26.174271832437928,35.72917274461009,38.52975344097744,41.14835417565222,40.29356935700054,46.8674360282386,29.407167228376014,23.853916585548713,26.792416482797982,30.65415403633242,46.11044740582106,31.91046100696357,21.029684957639788,33.60627675212064,4.998879824989821,23.78674291897573,30.139738681386135,21.718787749882086,49.657790248012375,32.82610461783552,37.48059824315458,19.199430365528936,38.31200925062187,8.512276483102744,35.36355769664055,17.268404721731063,4.394604559681342,16.50330253630977,24.847509328999084,10.422024045729822,8.570728528948212,16.575749014106094,46.43008646007538,22.6862760725046,13.846544251752679,12.279549052046724,19.579022396359647,43.07567510175581,42.78574229274253,17.324536094949742,22.220991589257654,47.7247512172741,17.311241775822207,11.502930020591151,33.54150152379003,45.97398442005144,37.087271925901,13.297738598511561,44.74823849426715,49.068927639981645,22.0570696815621,27.235238451099057,12.811610385741934,23.070724439143177,28.3540494704751,31.510409355291536,41.620033150868586,2.0781893704826695,44.50933205100521,5.447391913526623,23.473862022984616,3.926045646436144,36.646154932175676,6.952743683699586,11.390680505528694,8.150908075590053,37.18169483180073,47.277476829405096,19.30598644972026,25.20600342476287,11.449492315998528,24.124553352243538,12.927164017455855,6.6576254486838575]}];\n",
       " var layout_t0AtbEr6FP = {\"height\":350,\"width\":350,\"hovermode\":\"closest\",\"legend\":{\"orientation\":\"v\"},\"showlegend\":true,\"margin\":{\"l\":50,\"r\":50,\"t\":50,\"b\":50},\"xaxis\":{\"title\":{\"text\":\"x axis 2\"},\"showgrid\":true,\"zeroline\":false,\"showline\":false},\"yaxis\":{\"title\":{\"text\":\"y axis 2\"},\"showgrid\":true,\"zeroline\":false,\"showline\":false}};\n",
       " var config_t0AtbEr6FP = {\"responsive\":true,\"scrollZoom\":true,\"displaylogo\":false};\n",
       " Plotly.newPlot(\"graph_t0AtbEr6FP\", traces_t0AtbEr6FP, layout_t0AtbEr6FP, config_t0AtbEr6FP);\n",
       "\n",
       " var traces_qQRKt4xbmc = [{\"name\":\"c\",\"type\":\"scatter\",\"mode\":\"markers\",\"x\":[5.3809174702975024,47.62669335841985,8.649028765391147,11.467790521595834,1.1088089018145952,40.09824951719151,13.577787703513405,40.94296889513292,1.108056521602202,43.76301430386197,0.17483974141104808,24.114094021918262,16.89590120342288,3.666383236342119,17.942790640807573,28.97043691928961,22.45613107750892,5.6798286789201455,3.329827574166022,5.635945634437157,8.325825839003025,2.05472476353058,40.04569456747266,12.830993091450843,11.522913394718698,2.726721251415759,44.5966871735946,2.999254257236311,38.051889974691875,37.450323823133765,14.309245935467752,39.56315308714112,8.055168394636258,18.501524463434222,39.22307142025572,26.46078854419727,31.070055717962198,34.90704747902793,32.40852396368794,38.3691533015802,10.306471633200587,36.941976137190196,25.499355858913788,49.83297660508215,30.378090675779884,23.983201196402533,7.530713488939211,22.895426948393776,2.499645843762033,29.714384809574906,5.53361235816241,25.76638174788741,24.805745671390127,6.148796757970359,14.760969780446642,19.565931119247242,13.151617438253076,41.96959106539948,34.90657249253892,16.245211039125934,19.523750294770053,11.282803553965316,6.227193792912356,28.41365149834047,31.01852657566105,36.03656036427093,16.089418959316898,0.9911376480370049,32.2394730274043,9.080655876590427,12.136535774345997,35.35557584917963,17.918871693953236,15.12390951468905,13.007204040351311,38.97076506564623,10.587019107556861,3.6923695021138014,1.336431175052033,7.356475261021927,20.192529192514243,11.599674350623163,16.630705481486284,20.70204135929432,28.719618464630898,2.411550249558908,37.53298565640961,14.426778684473657,43.05344667011046,36.91964721371856,3.979543759345022,11.554933299634051,33.61208098660928,11.735624329857963,29.799523949171007,34.89987713593451,14.593826936112574,2.7745727974109458,45.41936402996033,48.74168081417258],\"y\":[24.081156175477375,26.617594408569577,38.50810706645664,12.934156138884395,28.69761051321681,35.526542504498295,27.635897415839604,17.19193452630679,8.031596433833466,41.2296374124553,10.316844169572326,49.68506409697045,18.62107720215701,18.50487624697798,22.168715729264584,42.00809571634152,45.93574874413045,22.05885433600972,28.345790553310884,22.09255353738064,25.498368093654822,9.231818801182296,41.88749019060026,47.696168541490316,1.0544639254703891,46.655487705709746,26.174271832437928,35.72917274461009,38.52975344097744,41.14835417565222,40.29356935700054,46.8674360282386,29.407167228376014,23.853916585548713,26.792416482797982,30.65415403633242,46.11044740582106,31.91046100696357,21.029684957639788,33.60627675212064,4.998879824989821,23.78674291897573,30.139738681386135,21.718787749882086,49.657790248012375,32.82610461783552,37.48059824315458,19.199430365528936,38.31200925062187,8.512276483102744,35.36355769664055,17.268404721731063,4.394604559681342,16.50330253630977,24.847509328999084,10.422024045729822,8.570728528948212,16.575749014106094,46.43008646007538,22.6862760725046,13.846544251752679,12.279549052046724,19.579022396359647,43.07567510175581,42.78574229274253,17.324536094949742,22.220991589257654,47.7247512172741,17.311241775822207,11.502930020591151,33.54150152379003,45.97398442005144,37.087271925901,13.297738598511561,44.74823849426715,49.068927639981645,22.0570696815621,27.235238451099057,12.811610385741934,23.070724439143177,28.3540494704751,31.510409355291536,41.620033150868586,2.0781893704826695,44.50933205100521,5.447391913526623,23.473862022984616,3.926045646436144,36.646154932175676,6.952743683699586,11.390680505528694,8.150908075590053,37.18169483180073,47.277476829405096,19.30598644972026,25.20600342476287,11.449492315998528,24.124553352243538,12.927164017455855,6.6576254486838575]}];\n",
       " var layout_qQRKt4xbmc = {\"height\":350,\"width\":350,\"hovermode\":\"closest\",\"legend\":{\"orientation\":\"v\"},\"showlegend\":true,\"margin\":{\"l\":50,\"r\":30,\"t\":50,\"b\":50},\"xaxis\":{\"title\":{\"text\":\"x axis 3\"},\"showgrid\":true,\"zeroline\":false,\"showline\":false},\"yaxis\":{\"title\":{\"text\":\"y axis 3\"},\"showgrid\":true,\"zeroline\":false,\"showline\":false}};\n",
       " var config_qQRKt4xbmc = {\"responsive\":true,\"scrollZoom\":true,\"displaylogo\":false};\n",
       " Plotly.newPlot(\"graph_qQRKt4xbmc\", traces_qQRKt4xbmc, layout_qQRKt4xbmc, config_qQRKt4xbmc);\n",
       "\n",
       " var traces_pdjh29NlCH = [{\"name\":\"2TOsgrLdVL\",\"type\":\"scatter\",\"mode\":\"markers\",\"x\":[1,2,3],\"y\":[2,4,5]},{\"name\":\"sMUxKnx9Zt\",\"type\":\"scatter\",\"mode\":\"markers\",\"xaxis\":\"x2\",\"yaxis\":\"y2\",\"x\":[5.3809174702975024,47.62669335841985,8.649028765391147,11.467790521595834,1.1088089018145952,40.09824951719151,13.577787703513405,40.94296889513292,1.108056521602202,43.76301430386197,0.17483974141104808,24.114094021918262,16.89590120342288,3.666383236342119,17.942790640807573,28.97043691928961,22.45613107750892,5.6798286789201455,3.329827574166022,5.635945634437157,8.325825839003025,2.05472476353058,40.04569456747266,12.830993091450843,11.522913394718698,2.726721251415759,44.5966871735946,2.999254257236311,38.051889974691875,37.450323823133765,14.309245935467752,39.56315308714112,8.055168394636258,18.501524463434222,39.22307142025572,26.46078854419727,31.070055717962198,34.90704747902793,32.40852396368794,38.3691533015802,10.306471633200587,36.941976137190196,25.499355858913788,49.83297660508215,30.378090675779884,23.983201196402533,7.530713488939211,22.895426948393776,2.499645843762033,29.714384809574906,5.53361235816241,25.76638174788741,24.805745671390127,6.148796757970359,14.760969780446642,19.565931119247242,13.151617438253076,41.96959106539948,34.90657249253892,16.245211039125934,19.523750294770053,11.282803553965316,6.227193792912356,28.41365149834047,31.01852657566105,36.03656036427093,16.089418959316898,0.9911376480370049,32.2394730274043,9.080655876590427,12.136535774345997,35.35557584917963,17.918871693953236,15.12390951468905,13.007204040351311,38.97076506564623,10.587019107556861,3.6923695021138014,1.336431175052033,7.356475261021927,20.192529192514243,11.599674350623163,16.630705481486284,20.70204135929432,28.719618464630898,2.411550249558908,37.53298565640961,14.426778684473657,43.05344667011046,36.91964721371856,3.979543759345022,11.554933299634051,33.61208098660928,11.735624329857963,29.799523949171007,34.89987713593451,14.593826936112574,2.7745727974109458,45.41936402996033,48.74168081417258],\"y\":[24.081156175477375,26.617594408569577,38.50810706645664,12.934156138884395,28.69761051321681,35.526542504498295,27.635897415839604,17.19193452630679,8.031596433833466,41.2296374124553,10.316844169572326,49.68506409697045,18.62107720215701,18.50487624697798,22.168715729264584,42.00809571634152,45.93574874413045,22.05885433600972,28.345790553310884,22.09255353738064,25.498368093654822,9.231818801182296,41.88749019060026,47.696168541490316,1.0544639254703891,46.655487705709746,26.174271832437928,35.72917274461009,38.52975344097744,41.14835417565222,40.29356935700054,46.8674360282386,29.407167228376014,23.853916585548713,26.792416482797982,30.65415403633242,46.11044740582106,31.91046100696357,21.029684957639788,33.60627675212064,4.998879824989821,23.78674291897573,30.139738681386135,21.718787749882086,49.657790248012375,32.82610461783552,37.48059824315458,19.199430365528936,38.31200925062187,8.512276483102744,35.36355769664055,17.268404721731063,4.394604559681342,16.50330253630977,24.847509328999084,10.422024045729822,8.570728528948212,16.575749014106094,46.43008646007538,22.6862760725046,13.846544251752679,12.279549052046724,19.579022396359647,43.07567510175581,42.78574229274253,17.324536094949742,22.220991589257654,47.7247512172741,17.311241775822207,11.502930020591151,33.54150152379003,45.97398442005144,37.087271925901,13.297738598511561,44.74823849426715,49.068927639981645,22.0570696815621,27.235238451099057,12.811610385741934,23.070724439143177,28.3540494704751,31.510409355291536,41.620033150868586,2.0781893704826695,44.50933205100521,5.447391913526623,23.473862022984616,3.926045646436144,36.646154932175676,6.952743683699586,11.390680505528694,8.150908075590053,37.18169483180073,47.277476829405096,19.30598644972026,25.20600342476287,11.449492315998528,24.124553352243538,12.927164017455855,6.6576254486838575]}];\n",
       " var layout_pdjh29NlCH = {\"height\":350,\"width\":350,\"hovermode\":\"closest\",\"legend\":{\"orientation\":\"v\"},\"title\":{\"text\":\"The MultiChart from Above\"},\"showlegend\":true,\"grid\":{\"rows\":1,\"columns\":2,\"pattern\":\"independent\"},\"xaxis\":{\"title\":{\"text\":\"x1\"},\"showgrid\":true,\"zeroline\":false,\"showline\":false},\"yaxis\":{\"showgrid\":true,\"zeroline\":false,\"showline\":false},\"xaxis2\":{\"title\":{\"text\":\"x2\"},\"showgrid\":true,\"zeroline\":false,\"showline\":false},\"yaxis2\":{\"showgrid\":true,\"zeroline\":false,\"showline\":false}};\n",
       " var config_pdjh29NlCH = {\"responsive\":false,\"scrollZoom\":true,\"displaylogo\":false};\n",
       " Plotly.newPlot(\"graph_pdjh29NlCH\", traces_pdjh29NlCH, layout_pdjh29NlCH, config_pdjh29NlCH);\n",
       "\n",
       "var save = document.getElementById(\"saveAsPNG_3VL2UWXCkv\")\n",
       "save.onclick = function() {\n",
       "    const grid = document.getElementById(\"grid-container_3VL2UWXCkv\")\n",
       "    const svg_containers = grid.getElementsByClassName('svg-container')\n",
       "    const main_svgs = grid.getElementsByClassName('main-svg')\n",
       "\n",
       "    const svg_containers_styles = []\n",
       "    const main_svgs_styles = []\n",
       "\n",
       "    const modebars = document.getElementsByClassName(\"modebar-container\")\n",
       "\n",
       "    for (var i = 0; i < modebars.length; i++) {\n",
       "        modebars[i].style.display = \"none\"\n",
       "    }\n",
       "\n",
       "    domtoimage.toPng(grid)\n",
       "    .then(function (dataUrl) {\n",
       "        var img = new Image();\n",
       "        img.src = dataUrl;\n",
       "        var link = document.createElement('a');\n",
       "        link.download = 'Picta-image.png';\n",
       "        link.href = dataUrl;\n",
       "        link.click()\n",
       "    })\n",
       "    .catch(function (error) {\n",
       "        console.error('oops, something went wrong!', error);\n",
       "    });\n",
       "}\n",
       "</script> \n"
      ]
     },
     "metadata": {},
     "output_type": "display_data"
    }
   ],
   "source": [
    "// first define the x-axes we will use in the plot\n",
    "val ax1 = XAxis(title = \"x axis 1\")\n",
    "val ax2 = XAxis(title = \"x axis 2\")\n",
    "val ax3 = XAxis(title = \"x axis 3\")\n",
    "val ax4 = XAxis(title = \"x axis 4\")\n",
    "\n",
    "// first define the y-axes we will use in the plot\n",
    "val ax6 = YAxis(title = \"y axis 1\")\n",
    "val ax7 = YAxis(title = \"y axis 2\")\n",
    "val ax8 = YAxis(title = \"y axis 3\")\n",
    "val ax9 = YAxis(title = \"y axis 4\")\n",
    "\n",
    "// it may be necessary to play around with the chart dimensions and margin  in order to ensure a good fit on screen.\n",
    "val dim = 350\n",
    "\n",
    "val chart1 = (\n",
    "    Chart()\n",
    "    setDimensions(width = dim, height = dim)\n",
    "    addSeries XY(x, y).setName(\"a\").drawMarkers\n",
    "    addAxes(ax1, ax6)\n",
    "    setMargin(l=50, r=30, t=50, b=50)\n",
    ")\n",
    "\n",
    "val chart2 = (\n",
    "    Chart() \n",
    "    setDimensions(width = dim, height = dim)\n",
    "    addSeries XY(x, y).setName(\"b\").drawMarkers\n",
    "    addAxes(ax2, ax7)\n",
    "    setMargin(l=50, r=50, t=50, b=50)\n",
    ")\n",
    "\n",
    "val chart3 = (\n",
    "    Chart()\n",
    "    setDimensions(width = dim, height = dim)\n",
    "    addSeries XY(x, y).setName(\"c\").drawMarkers\n",
    "    addAxes(ax3, ax8)\n",
    "    setMargin(l=50, r=30, t=50, b=50)\n",
    ")\n",
    "\n",
    "val chart4 = (\n",
    "    Chart()\n",
    "    setDimensions(width = dim, height = dim)\n",
    "    addSeries(series1, series2)\n",
    "    setTitle \"The MultiChart from Above\"\n",
    "    addAxes(xaxis1, yaxis1, xaxis2, yaxis2) // these axes come from above\n",
    "    setConfig(responsive=false)\n",
    "    asMultiChart(1, 2)\n",
    ")\n",
    "\n",
    "// The canvas has an underlying grid. By default the underlying grid is 1x1, but we can pass in the dimensions we \n",
    "// require by passing in parameters in the constructor.\n",
    "Canvas(2, 2, title=\"The Picta Grid\")\n",
    ".setChart(0, 0, chart1)\n",
    ".setChart(0, 1, chart2)\n",
    ".setChart(1, 0, chart3)\n",
    ".setChart(1, 1, chart4)\n",
    ".plotInline"
   ]
  },
  {
   "cell_type": "markdown",
   "metadata": {},
   "source": [
    "### Error Bars\n",
    "\n",
    "We can also add Error Bars to our plots.\n",
    "\n",
    "Error bars come in two flavours:\n",
    "\n",
    "1. `XError`\n",
    "2. `YError`\n",
    "\n",
    "Both of these has an associated `mode` that determines how the error bar is calculated for an individual point. The following `mode`s can be specified:\n",
    "\n",
    "- `DATA`: The user passes in an array that specifies the per point error\n",
    "- `PERCENT`: The user passes in a Double that calculates the error as a percentage of the value of the point\n",
    "- `CONSTANT`: The user passes in a double that is the constant value for the error for all points\n",
    "- `SQRT`: This calculates the error as a square root of the point value.\n",
    "\n",
    "The next few examples will demonstrate:"
   ]
  },
  {
   "cell_type": "code",
   "execution_count": 16,
   "metadata": {},
   "outputs": [],
   "source": [
    "// First import the Error Bar options\n",
    "import org.carbonateresearch.picta.options.{YError, CONSTANT, DATA, PERCENT, SQRT}"
   ]
  },
  {
   "cell_type": "code",
   "execution_count": 17,
   "metadata": {},
   "outputs": [
    {
     "data": {
      "text/html": [
       "<div id=\"grid-container_0cTqLy391l\" class=\"grid-container\" align=\"center\"> \n",
       "<div class=\"grid-title\" align=\"center\"> <h1>Errors</h1> </div> \n",
       "<div id=\"grid_0cTqLy391l\" class=\"grid\" align=\"center\"> \n",
       "<div id=\"graph_zksXlQGdXj\" class=\"graph\"></div> \n",
       "<div id=\"graph_4jC0tqPYY2\" class=\"graph\"></div> \n",
       "<div id=\"graph_EHinEyZwiC\" class=\"graph\"></div> \n",
       "<div id=\"graph_ixbZUvbaya\" class=\"graph\"></div> \n",
       "</div> \n",
       "</div> \n",
       "\n",
       "<div align=\"center\">\n",
       "<button id = \"saveAsPNG_0cTqLy391l\" class=\"picta-button\">Download Canvas as PNG</button>\n",
       "</div>\n",
       "<script>\n",
       "var masonry = new Macy({\n",
       "    container: '#grid_0cTqLy391l',\n",
       "    debug: true,\n",
       "    mobileFirst: true,\n",
       "    columns: 2,\n",
       "    margin: {\n",
       "        x: 0,\n",
       "        y: 0\n",
       "    }\n",
       "  });\n",
       "\n",
       " var traces_zksXlQGdXj = [{\"name\":\"EfsyQbmumO\",\"type\":\"scatter\",\"mode\":\"markers\",\"x\":[1,2,3],\"y\":[1.234,5.2112,2.44332],\"error_y\":{\"type\":\"data\",\"visible\":true,\"array\":[0.5,0.5,0.5]}}];\n",
       " var layout_zksXlQGdXj = {\"height\":400,\"width\":400,\"hovermode\":\"closest\",\"legend\":{\"orientation\":\"v\"},\"title\":{\"text\":\"Per Point Specified Error\"},\"showlegend\":true};\n",
       " var config_zksXlQGdXj = {\"responsive\":true,\"scrollZoom\":true,\"displaylogo\":false};\n",
       " Plotly.newPlot(\"graph_zksXlQGdXj\", traces_zksXlQGdXj, layout_zksXlQGdXj, config_zksXlQGdXj);\n",
       "\n",
       " var traces_4jC0tqPYY2 = [{\"name\":\"Ryf1p70Jzs\",\"type\":\"scatter\",\"mode\":\"markers\",\"x\":[1,2,3],\"y\":[1.234,5.2112,2.44332],\"error_y\":{\"type\":\"percent\",\"visible\":true,\"value\":10}}];\n",
       " var layout_4jC0tqPYY2 = {\"height\":400,\"width\":400,\"hovermode\":\"closest\",\"legend\":{\"orientation\":\"v\"},\"title\":{\"text\":\"Percentage Error\"},\"showlegend\":true};\n",
       " var config_4jC0tqPYY2 = {\"responsive\":true,\"scrollZoom\":true,\"displaylogo\":false};\n",
       " Plotly.newPlot(\"graph_4jC0tqPYY2\", traces_4jC0tqPYY2, layout_4jC0tqPYY2, config_4jC0tqPYY2);\n",
       "\n",
       " var traces_EHinEyZwiC = [{\"name\":\"cgeQec4KBK\",\"type\":\"scatter\",\"mode\":\"markers\",\"x\":[1,2,3],\"y\":[1.234,5.2112,2.44332],\"error_y\":{\"type\":\"constant\",\"visible\":true,\"value\":10}}];\n",
       " var layout_EHinEyZwiC = {\"height\":400,\"width\":400,\"hovermode\":\"closest\",\"legend\":{\"orientation\":\"v\"},\"title\":{\"text\":\"Constant Error\"},\"showlegend\":true};\n",
       " var config_EHinEyZwiC = {\"responsive\":true,\"scrollZoom\":true,\"displaylogo\":false};\n",
       " Plotly.newPlot(\"graph_EHinEyZwiC\", traces_EHinEyZwiC, layout_EHinEyZwiC, config_EHinEyZwiC);\n",
       "\n",
       " var traces_ixbZUvbaya = [{\"name\":\"1XD8BFeirf\",\"type\":\"scatter\",\"mode\":\"markers\",\"x\":[1,2,3],\"y\":[1.234,5.2112,2.44332],\"error_y\":{\"type\":\"sqrt\",\"visible\":true}}];\n",
       " var layout_ixbZUvbaya = {\"height\":400,\"width\":400,\"hovermode\":\"closest\",\"legend\":{\"orientation\":\"v\"},\"title\":{\"text\":\"Sqrt Error\"},\"showlegend\":true};\n",
       " var config_ixbZUvbaya = {\"responsive\":true,\"scrollZoom\":true,\"displaylogo\":false};\n",
       " Plotly.newPlot(\"graph_ixbZUvbaya\", traces_ixbZUvbaya, layout_ixbZUvbaya, config_ixbZUvbaya);\n",
       "\n",
       "var save = document.getElementById(\"saveAsPNG_0cTqLy391l\")\n",
       "save.onclick = function() {\n",
       "    const grid = document.getElementById(\"grid-container_0cTqLy391l\")\n",
       "    const svg_containers = grid.getElementsByClassName('svg-container')\n",
       "    const main_svgs = grid.getElementsByClassName('main-svg')\n",
       "\n",
       "    const svg_containers_styles = []\n",
       "    const main_svgs_styles = []\n",
       "\n",
       "    const modebars = document.getElementsByClassName(\"modebar-container\")\n",
       "\n",
       "    for (var i = 0; i < modebars.length; i++) {\n",
       "        modebars[i].style.display = \"none\"\n",
       "    }\n",
       "\n",
       "    domtoimage.toPng(grid)\n",
       "    .then(function (dataUrl) {\n",
       "        var img = new Image();\n",
       "        img.src = dataUrl;\n",
       "        var link = document.createElement('a');\n",
       "        link.download = 'Picta-image.png';\n",
       "        link.href = dataUrl;\n",
       "        link.click()\n",
       "    })\n",
       "    .catch(function (error) {\n",
       "        console.error('oops, something went wrong!', error);\n",
       "    });\n",
       "}\n",
       "</script> \n"
      ]
     },
     "metadata": {},
     "output_type": "display_data"
    }
   ],
   "source": [
    "val dim = 400\n",
    "\n",
    "val series1 = (\n",
    "    XY(List(1, 2, 3), List(1.234, 5.2112, 2.44332))\n",
    "    asType SCATTER\n",
    "    drawStyle MARKERS\n",
    "    // User specifies the error per point \n",
    "    setErrorBars YError(mode = DATA, array = List(0.5, 0.5, 0.5))\n",
    ")\n",
    "\n",
    "val chart1 = (\n",
    "    Chart()\n",
    "    addSeries series1\n",
    "    setTitle \"Per Point Specified Error\"\n",
    "    setDimensions(width = dim, height = dim)\n",
    ")\n",
    "\n",
    "\n",
    "val series2 = (\n",
    "    XY(List(1, 2, 3), List(1.234, 5.2112, 2.44332))\n",
    "    asType SCATTER\n",
    "    drawStyle MARKERS\n",
    "    // the error here is 10% of the corresponding y-value for the point\n",
    "    setErrorBars YError(mode = PERCENT, value = 10.0)\n",
    ")\n",
    "\n",
    "val chart2 = (\n",
    "    Chart()\n",
    "    addSeries series2\n",
    "    setTitle \"Percentage Error\"\n",
    "    setDimensions(width = dim, height = dim)\n",
    ")\n",
    "\n",
    "\n",
    "val series3 = (\n",
    "    XY(List(1, 2, 3), List(1.234, 5.2112, 2.44332))\n",
    "    asType SCATTER\n",
    "    drawStyle MARKERS\n",
    "    // a constant error of 10 is applied to each point\n",
    "    setErrorBars YError(mode = CONSTANT, value = 10.0)\n",
    ")\n",
    "\n",
    "val chart3 = (\n",
    "    Chart()\n",
    "    addSeries series3\n",
    "    setTitle \"Constant Error\"\n",
    "    setDimensions(width = dim, height = dim)\n",
    ")\n",
    "\n",
    "\n",
    "val series4 = (\n",
    "    XY(List(1, 2, 3), List(1.234, 5.2112, 2.44332))\n",
    "    asType SCATTER\n",
    "    drawStyle MARKERS\n",
    "    setErrorBars YError(mode = SQRT)\n",
    ")\n",
    "\n",
    "val chart4 = (\n",
    "    Chart()\n",
    "    addSeries series4\n",
    "    setTitle \"Sqrt Error\"\n",
    "    // the error is set to the sqrt of the corresponding point\n",
    "    setDimensions(width = dim, height = dim)\n",
    ")\n",
    "\n",
    "val canvas = Canvas(2, 2, \"Errors\") addCharts (chart1, chart2, chart3, chart4)\n",
    "\n",
    "canvas.plotInline"
   ]
  },
  {
   "cell_type": "markdown",
   "metadata": {},
   "source": [
    "### Other Types of Charts\n",
    "\n",
    "The next examples will demonstrate how to create a variety of `Chart`s. All of the examples below are composable with the `Canvas` subplot system.\n",
    "\n",
    "#### Pie Chart\n",
    "\n",
    "Pie charts can be created in two ways. The first way uses the `PieElement` component to compose a Piechart:"
   ]
  },
  {
   "cell_type": "code",
   "execution_count": 18,
   "metadata": {},
   "outputs": [
    {
     "data": {
      "text/html": [
       "<div id=\"grid-container_s8QtWTksWG\" class=\"grid-container\" align=\"center\"> \n",
       "<div id=\"grid_s8QtWTksWG\" class=\"grid\" align=\"center\"> \n",
       "<div id=\"graph_curIC4Cp3L\" class=\"graph\"></div> \n",
       "</div> \n",
       "</div> \n",
       "<script>\n",
       "var masonry = new Macy({\n",
       "    container: '#grid_s8QtWTksWG',\n",
       "    debug: true,\n",
       "    mobileFirst: true,\n",
       "    columns: 1,\n",
       "    margin: {\n",
       "        x: 0,\n",
       "        y: 0\n",
       "    }\n",
       "  });\n",
       "\n",
       " var traces_curIC4Cp3L = [{\"name\":\"KhtEbIph7D\",\"type\":\"pie\",\"values\":[60,20,20],\"labels\":[\"Residential\",\"Non-Residential\",\"Utility\"]}];\n",
       " var layout_curIC4Cp3L = {\"height\":550,\"width\":600,\"hovermode\":\"closest\",\"legend\":{\"orientation\":\"v\"},\"title\":{\"text\":\"Pie Elements\"},\"showlegend\":true};\n",
       " var config_curIC4Cp3L = {\"responsive\":true,\"scrollZoom\":true,\"displaylogo\":false};\n",
       " Plotly.newPlot(\"graph_curIC4Cp3L\", traces_curIC4Cp3L, layout_curIC4Cp3L, config_curIC4Cp3L);\n",
       "</script> \n"
      ]
     },
     "metadata": {},
     "output_type": "display_data"
    }
   ],
   "source": [
    "val a = PieElement(value=60, name=\"Residential\")\n",
    "val b = PieElement(value=20, name=\"Non-Residential\")\n",
    "val c = PieElement(value=20, name=\"Utility\")\n",
    "\n",
    "// we add a list of Pie Elements to an XY series as the list of Pie Elements gets deconstructed down into two series:\n",
    "// X => values: [60, 20, 20]\n",
    "// Y => labels: [\"Residential\", \"Non-Residential\", \"Utility\"]\n",
    "// The labels become the series_name for each individual PieElement\n",
    "// As we pass in a list of PieElements, we do not need to specify the type as a PIE\n",
    "val series = XY(x=List(a, b, c))\n",
    "\n",
    "val chart = Chart() addSeries series setTitle \"Pie Elements\"\n",
    "\n",
    "chart.plotInline"
   ]
  },
  {
   "cell_type": "code",
   "execution_count": 19,
   "metadata": {},
   "outputs": [
    {
     "data": {
      "text/html": [
       "<div id=\"grid-container_N70o6wn4nw\" class=\"grid-container\" align=\"center\"> \n",
       "<div id=\"grid_N70o6wn4nw\" class=\"grid\" align=\"center\"> \n",
       "<div id=\"graph_JNlO9W4nik\" class=\"graph\"></div> \n",
       "</div> \n",
       "</div> \n",
       "<script>\n",
       "var masonry = new Macy({\n",
       "    container: '#grid_N70o6wn4nw',\n",
       "    debug: true,\n",
       "    mobileFirst: true,\n",
       "    columns: 1,\n",
       "    margin: {\n",
       "        x: 0,\n",
       "        y: 0\n",
       "    }\n",
       "  });\n",
       "\n",
       " var traces_JNlO9W4nik = [{\"name\":\"37rP6AlCvE\",\"type\":\"pie\",\"values\":[60,20,20],\"labels\":[\"Residential\",\"Non-Residential\",\"Utility\"]}];\n",
       " var layout_JNlO9W4nik = {\"height\":550,\"width\":600,\"hovermode\":\"closest\",\"legend\":{\"orientation\":\"v\"},\"title\":{\"text\":\"Pie Chart\"},\"showlegend\":true};\n",
       " var config_JNlO9W4nik = {\"responsive\":false,\"scrollZoom\":false,\"displaylogo\":false};\n",
       " Plotly.newPlot(\"graph_JNlO9W4nik\", traces_JNlO9W4nik, layout_JNlO9W4nik, config_JNlO9W4nik);\n",
       "</script> \n"
      ]
     },
     "metadata": {},
     "output_type": "display_data"
    }
   ],
   "source": [
    "// However, composing individual PieElements may be tedious if there is a lot of data and we know how to it all fits\n",
    "// together. Picta provides a short hand to quickly create a Pie Chart using the methods we have seen previously\n",
    "// In this case we pass the (value, name) pairs as two seperate lists. As before, the labels become an individual\n",
    "// series name for each point; which is why the legend renders correctly.\n",
    "val series = XY(x=List(60, 20, 20), y=List(\"Residential\", \"Non-Residential\", \"Utility\")) asType PIE\n",
    "\n",
    "val chart = Chart() addSeries series setConfig(false, false) setTitle \"Pie Chart\"\n",
    "\n",
    "chart.plotInline"
   ]
  },
  {
   "cell_type": "markdown",
   "metadata": {},
   "source": [
    "### Histogram"
   ]
  },
  {
   "cell_type": "code",
   "execution_count": 20,
   "metadata": {},
   "outputs": [
    {
     "data": {
      "text/html": [
       "<div id=\"grid-container_8BlILlP5nf\" class=\"grid-container\" align=\"center\"> \n",
       "<div id=\"grid_8BlILlP5nf\" class=\"grid\" align=\"center\"> \n",
       "<div id=\"graph_GDyjKcA5SK\" class=\"graph\"></div> \n",
       "</div> \n",
       "</div> \n",
       "<script>\n",
       "var masonry = new Macy({\n",
       "    container: '#grid_8BlILlP5nf',\n",
       "    debug: true,\n",
       "    mobileFirst: true,\n",
       "    columns: 1,\n",
       "    margin: {\n",
       "        x: 0,\n",
       "        y: 0\n",
       "    }\n",
       "  });\n",
       "\n",
       " var traces_GDyjKcA5SK = [{\"name\":\"EurW8tnXuu\",\"type\":\"histogram\",\"x\":[5.3809174702975024,47.62669335841985,8.649028765391147,11.467790521595834,1.1088089018145952,40.09824951719151,13.577787703513405,40.94296889513292,1.108056521602202,43.76301430386197,0.17483974141104808,24.114094021918262,16.89590120342288,3.666383236342119,17.942790640807573,28.97043691928961,22.45613107750892,5.6798286789201455,3.329827574166022,5.635945634437157,8.325825839003025,2.05472476353058,40.04569456747266,12.830993091450843,11.522913394718698,2.726721251415759,44.5966871735946,2.999254257236311,38.051889974691875,37.450323823133765,14.309245935467752,39.56315308714112,8.055168394636258,18.501524463434222,39.22307142025572,26.46078854419727,31.070055717962198,34.90704747902793,32.40852396368794,38.3691533015802,10.306471633200587,36.941976137190196,25.499355858913788,49.83297660508215,30.378090675779884,23.983201196402533,7.530713488939211,22.895426948393776,2.499645843762033,29.714384809574906,5.53361235816241,25.76638174788741,24.805745671390127,6.148796757970359,14.760969780446642,19.565931119247242,13.151617438253076,41.96959106539948,34.90657249253892,16.245211039125934,19.523750294770053,11.282803553965316,6.227193792912356,28.41365149834047,31.01852657566105,36.03656036427093,16.089418959316898,0.9911376480370049,32.2394730274043,9.080655876590427,12.136535774345997,35.35557584917963,17.918871693953236,15.12390951468905,13.007204040351311,38.97076506564623,10.587019107556861,3.6923695021138014,1.336431175052033,7.356475261021927,20.192529192514243,11.599674350623163,16.630705481486284,20.70204135929432,28.719618464630898,2.411550249558908,37.53298565640961,14.426778684473657,43.05344667011046,36.91964721371856,3.979543759345022,11.554933299634051,33.61208098660928,11.735624329857963,29.799523949171007,34.89987713593451,14.593826936112574,2.7745727974109458,45.41936402996033,48.74168081417258]}];\n",
       " var layout_GDyjKcA5SK = {\"height\":550,\"width\":600,\"hovermode\":\"closest\",\"legend\":{\"orientation\":\"v\"},\"title\":{\"text\":\"Histogram with axes\"},\"showlegend\":true,\"xaxis\":{\"title\":{\"text\":\"my x data\"},\"showgrid\":true,\"zeroline\":false,\"showline\":false},\"yaxis\":{\"title\":{\"text\":\"my y data\"},\"showgrid\":true,\"zeroline\":false,\"showline\":false}};\n",
       " var config_GDyjKcA5SK = {\"responsive\":true,\"scrollZoom\":true,\"displaylogo\":false};\n",
       " Plotly.newPlot(\"graph_GDyjKcA5SK\", traces_GDyjKcA5SK, layout_GDyjKcA5SK, config_GDyjKcA5SK);\n",
       "</script> \n"
      ]
     },
     "metadata": {},
     "output_type": "display_data"
    }
   ],
   "source": [
    "val series = XY(x=x) asType HISTOGRAM\n",
    "\n",
    "val xaxis = XAxis(title = \"my x data\")\n",
    "val yaxis = YAxis(title = \"my y data\")\n",
    "\n",
    "val chart = (\n",
    "    Chart() \n",
    "    addSeries series\n",
    "    setTitle \"Histogram with axes\"\n",
    "    addAxes(xaxis, yaxis)\n",
    ")\n",
    "\n",
    "Canvas()\n",
    ".addCharts(chart)\n",
    ".plotInline"
   ]
  },
  {
   "cell_type": "markdown",
   "metadata": {},
   "source": [
    "#### Customizing colors for a Histogram\n",
    "\n",
    "We can use the `HistOptions` class to further specify options for a histogram. For example, if we wanted to create a horizontally positioned histogram, we can do the following:"
   ]
  },
  {
   "cell_type": "code",
   "execution_count": 21,
   "metadata": {},
   "outputs": [],
   "source": [
    "import org.carbonateresearch.picta.options.histogram.HistOptions\n",
    "import org.carbonateresearch.picta.options.Line"
   ]
  },
  {
   "cell_type": "code",
   "execution_count": 22,
   "metadata": {},
   "outputs": [
    {
     "data": {
      "text/html": [
       "<div id=\"grid-container_usK0KE2Kf3\" class=\"grid-container\" align=\"center\"> \n",
       "<div id=\"grid_usK0KE2Kf3\" class=\"grid\" align=\"center\"> \n",
       "<div id=\"graph_PALir0OhFn\" class=\"graph\"></div> \n",
       "</div> \n",
       "</div> \n",
       "<script>\n",
       "var masonry = new Macy({\n",
       "    container: '#grid_usK0KE2Kf3',\n",
       "    debug: true,\n",
       "    mobileFirst: true,\n",
       "    columns: 1,\n",
       "    margin: {\n",
       "        x: 0,\n",
       "        y: 0\n",
       "    }\n",
       "  });\n",
       "\n",
       " var traces_PALir0OhFn = [{\"name\":\"rd6HFprjJM\",\"type\":\"histogram\",\"marker\":{\"color\":\"rgba(255, 100, 102, 0.5)\",\"line\":{\"width\":0.5}},\"y\":[5.3809174702975024,47.62669335841985,8.649028765391147,11.467790521595834,1.1088089018145952,40.09824951719151,13.577787703513405,40.94296889513292,1.108056521602202,43.76301430386197,0.17483974141104808,24.114094021918262,16.89590120342288,3.666383236342119,17.942790640807573,28.97043691928961,22.45613107750892,5.6798286789201455,3.329827574166022,5.635945634437157,8.325825839003025,2.05472476353058,40.04569456747266,12.830993091450843,11.522913394718698,2.726721251415759,44.5966871735946,2.999254257236311,38.051889974691875,37.450323823133765,14.309245935467752,39.56315308714112,8.055168394636258,18.501524463434222,39.22307142025572,26.46078854419727,31.070055717962198,34.90704747902793,32.40852396368794,38.3691533015802,10.306471633200587,36.941976137190196,25.499355858913788,49.83297660508215,30.378090675779884,23.983201196402533,7.530713488939211,22.895426948393776,2.499645843762033,29.714384809574906,5.53361235816241,25.76638174788741,24.805745671390127,6.148796757970359,14.760969780446642,19.565931119247242,13.151617438253076,41.96959106539948,34.90657249253892,16.245211039125934,19.523750294770053,11.282803553965316,6.227193792912356,28.41365149834047,31.01852657566105,36.03656036427093,16.089418959316898,0.9911376480370049,32.2394730274043,9.080655876590427,12.136535774345997,35.35557584917963,17.918871693953236,15.12390951468905,13.007204040351311,38.97076506564623,10.587019107556861,3.6923695021138014,1.336431175052033,7.356475261021927,20.192529192514243,11.599674350623163,16.630705481486284,20.70204135929432,28.719618464630898,2.411550249558908,37.53298565640961,14.426778684473657,43.05344667011046,36.91964721371856,3.979543759345022,11.554933299634051,33.61208098660928,11.735624329857963,29.799523949171007,34.89987713593451,14.593826936112574,2.7745727974109458,45.41936402996033,48.74168081417258]}];\n",
       " var layout_PALir0OhFn = {\"height\":550,\"width\":600,\"hovermode\":\"closest\",\"legend\":{\"orientation\":\"v\"},\"title\":{\"text\":\"XY.Histogram.Color\"},\"showlegend\":true};\n",
       " var config_PALir0OhFn = {\"responsive\":true,\"scrollZoom\":true,\"displaylogo\":false};\n",
       " Plotly.newPlot(\"graph_PALir0OhFn\", traces_PALir0OhFn, layout_PALir0OhFn, config_PALir0OhFn);\n",
       "</script> \n"
      ]
     },
     "metadata": {},
     "output_type": "display_data"
    }
   ],
   "source": [
    "// we can also compose customizations in much the same way:\n",
    "val marker = Marker() setColor \"rgba(255, 100, 102, 0.5)\" setLine Line()\n",
    "\n",
    "// change xkey to y to get a horizontal histogram\n",
    "val series = (\n",
    "    XY(x) \n",
    "    asType HISTOGRAM\n",
    "    setMarker marker\n",
    "    // we can set histogram specific options using the setHistOptions method\n",
    "    setHistOptions(orientation = HORIZONTAL)\n",
    ")\n",
    "\n",
    "val chart = (\n",
    "    Chart() \n",
    "    addSeries series \n",
    "    setTitle \"XY.Histogram.Color\"\n",
    ")\n",
    "\n",
    "chart.plotInline"
   ]
  },
  {
   "cell_type": "markdown",
   "metadata": {},
   "source": [
    "#### Cumulative Histogram\n",
    "\n",
    "Sometimes a cumulative histogram may be desired. We can do this as follows:"
   ]
  },
  {
   "cell_type": "code",
   "execution_count": 23,
   "metadata": {},
   "outputs": [],
   "source": [
    "// we can import a range of histnorms\n",
    "import org.carbonateresearch.picta.options.histogram.{Cumulative, PERCENT, DENSITY, PROBABILITY_DENSITY, NUMBER}"
   ]
  },
  {
   "cell_type": "code",
   "execution_count": 24,
   "metadata": {},
   "outputs": [
    {
     "data": {
      "text/html": [
       "<div id=\"grid-container_98zFr92dwh\" class=\"grid-container\" align=\"center\"> \n",
       "<div id=\"grid_98zFr92dwh\" class=\"grid\" align=\"center\"> \n",
       "<div id=\"graph_0fC4KmJ3V3\" class=\"graph\"></div> \n",
       "</div> \n",
       "</div> \n",
       "<script>\n",
       "var masonry = new Macy({\n",
       "    container: '#grid_98zFr92dwh',\n",
       "    debug: true,\n",
       "    mobileFirst: true,\n",
       "    columns: 1,\n",
       "    margin: {\n",
       "        x: 0,\n",
       "        y: 0\n",
       "    }\n",
       "  });\n",
       "\n",
       " var traces_0fC4KmJ3V3 = [{\"name\":\"zeduyW7idY\",\"type\":\"histogram\",\"cumulative\":{\"enabled\":true},\"histnorm\":\"\",\"x\":[5.3809174702975024,47.62669335841985,8.649028765391147,11.467790521595834,1.1088089018145952,40.09824951719151,13.577787703513405,40.94296889513292,1.108056521602202,43.76301430386197,0.17483974141104808,24.114094021918262,16.89590120342288,3.666383236342119,17.942790640807573,28.97043691928961,22.45613107750892,5.6798286789201455,3.329827574166022,5.635945634437157,8.325825839003025,2.05472476353058,40.04569456747266,12.830993091450843,11.522913394718698,2.726721251415759,44.5966871735946,2.999254257236311,38.051889974691875,37.450323823133765,14.309245935467752,39.56315308714112,8.055168394636258,18.501524463434222,39.22307142025572,26.46078854419727,31.070055717962198,34.90704747902793,32.40852396368794,38.3691533015802,10.306471633200587,36.941976137190196,25.499355858913788,49.83297660508215,30.378090675779884,23.983201196402533,7.530713488939211,22.895426948393776,2.499645843762033,29.714384809574906,5.53361235816241,25.76638174788741,24.805745671390127,6.148796757970359,14.760969780446642,19.565931119247242,13.151617438253076,41.96959106539948,34.90657249253892,16.245211039125934,19.523750294770053,11.282803553965316,6.227193792912356,28.41365149834047,31.01852657566105,36.03656036427093,16.089418959316898,0.9911376480370049,32.2394730274043,9.080655876590427,12.136535774345997,35.35557584917963,17.918871693953236,15.12390951468905,13.007204040351311,38.97076506564623,10.587019107556861,3.6923695021138014,1.336431175052033,7.356475261021927,20.192529192514243,11.599674350623163,16.630705481486284,20.70204135929432,28.719618464630898,2.411550249558908,37.53298565640961,14.426778684473657,43.05344667011046,36.91964721371856,3.979543759345022,11.554933299634051,33.61208098660928,11.735624329857963,29.799523949171007,34.89987713593451,14.593826936112574,2.7745727974109458,45.41936402996033,48.74168081417258]}];\n",
       " var layout_0fC4KmJ3V3 = {\"height\":550,\"width\":600,\"hovermode\":\"closest\",\"legend\":{\"orientation\":\"v\"},\"title\":{\"text\":\"Histogram - Cumulative\"},\"showlegend\":true};\n",
       " var config_0fC4KmJ3V3 = {\"responsive\":true,\"scrollZoom\":true,\"displaylogo\":false};\n",
       " Plotly.newPlot(\"graph_0fC4KmJ3V3\", traces_0fC4KmJ3V3, layout_0fC4KmJ3V3, config_0fC4KmJ3V3);\n",
       "</script> \n"
      ]
     },
     "metadata": {},
     "output_type": "display_data"
    }
   ],
   "source": [
    "val series = XY(x) asType HISTOGRAM setHistOptions(histnorm = NUMBER, cumulative = Cumulative(enabled=true))\n",
    "\n",
    "val chart = Chart() addSeries series setTitle \"Histogram - Cumulative\"\n",
    "\n",
    "chart.plotInline"
   ]
  },
  {
   "cell_type": "markdown",
   "metadata": {},
   "source": [
    "#### Specifiying the Binning Function\n",
    "\n",
    "We can also specify the binning function for a histogram."
   ]
  },
  {
   "cell_type": "code",
   "execution_count": 25,
   "metadata": {},
   "outputs": [],
   "source": [
    "import org.carbonateresearch.picta.options.histogram.{COUNT, SUM, AVG, MIN, MAX, HistOptions}"
   ]
  },
  {
   "cell_type": "code",
   "execution_count": 26,
   "metadata": {},
   "outputs": [
    {
     "data": {
      "text/html": [
       "<div id=\"grid-container_62ujJhXQla\" class=\"grid-container\" align=\"center\"> \n",
       "<div id=\"grid_62ujJhXQla\" class=\"grid\" align=\"center\"> \n",
       "<div id=\"graph_tREoq37u0n\" class=\"graph\"></div> \n",
       "</div> \n",
       "</div> \n",
       "<script>\n",
       "var masonry = new Macy({\n",
       "    container: '#grid_62ujJhXQla',\n",
       "    debug: true,\n",
       "    mobileFirst: true,\n",
       "    columns: 1,\n",
       "    margin: {\n",
       "        x: 0,\n",
       "        y: 0\n",
       "    }\n",
       "  });\n",
       "\n",
       " var traces_tREoq37u0n = [{\"name\":\"N4KhsI8ZJY\",\"type\":\"histogram\",\"histfunc\":\"count\",\"x\":[\"Apples\",\"Apples\",\"Apples\",\"Oranges\",\"Bananas\"],\"y\":[\"5\",\"10\",\"3\",\"10\",\"5\"]},{\"name\":\"730tyGEbsj\",\"type\":\"histogram\",\"histfunc\":\"sum\",\"x\":[\"Apples\",\"Apples\",\"Apples\",\"Oranges\",\"Bananas\"],\"y\":[\"5\",\"10\",\"3\",\"10\",\"5\"]}];\n",
       " var layout_tREoq37u0n = {\"height\":550,\"width\":600,\"hovermode\":\"closest\",\"legend\":{\"orientation\":\"v\"},\"title\":{\"text\":\"Histogram - Specify Binning Function\"},\"showlegend\":true};\n",
       " var config_tREoq37u0n = {\"responsive\":true,\"scrollZoom\":true,\"displaylogo\":false};\n",
       " Plotly.newPlot(\"graph_tREoq37u0n\", traces_tREoq37u0n, layout_tREoq37u0n, config_tREoq37u0n);\n",
       "</script> \n"
      ]
     },
     "metadata": {},
     "output_type": "display_data"
    }
   ],
   "source": [
    "val x = List(\"Apples\", \"Apples\", \"Apples\", \"Oranges\", \"Bananas\")\n",
    "val y = List(\"5\", \"10\", \"3\", \"10\", \"5\")\n",
    "\n",
    "// we can also assign histOptions to a value and pass them to the setHistOptions method\n",
    "val ho1 = HistOptions(histfunc = COUNT)\n",
    "val ho2 = HistOptions(histfunc = SUM)\n",
    "    \n",
    "val t1 = XY(x = x, y = y) asType HISTOGRAM setHistOptions ho1\n",
    "val t2 = XY(x = x, y = y) asType HISTOGRAM setHistOptions ho2\n",
    "\n",
    "val chart = Chart() addSeries(t1, t2) setTitle \"Histogram - Specify Binning Function\"\n",
    "val canvas = Canvas() addCharts chart\n",
    "canvas.plotInline"
   ]
  },
  {
   "cell_type": "markdown",
   "metadata": {},
   "source": [
    "### 2D Histogram Contour"
   ]
  },
  {
   "cell_type": "code",
   "execution_count": 27,
   "metadata": {},
   "outputs": [
    {
     "data": {
      "text/html": [
       "<div id=\"grid-container_8cEFp58YWs\" class=\"grid-container\" align=\"center\"> \n",
       "<div id=\"grid_8cEFp58YWs\" class=\"grid\" align=\"center\"> \n",
       "<div id=\"graph_yIsPGtFDt4\" class=\"graph\"></div> \n",
       "</div> \n",
       "</div> \n",
       "<script>\n",
       "var masonry = new Macy({\n",
       "    container: '#grid_8cEFp58YWs',\n",
       "    debug: true,\n",
       "    mobileFirst: true,\n",
       "    columns: 1,\n",
       "    margin: {\n",
       "        x: 0,\n",
       "        y: 0\n",
       "    }\n",
       "  });\n",
       "\n",
       " var traces_yIsPGtFDt4 = [{\"name\":\"N1dE3wS3hj\",\"type\":\"histogram2dcontour\",\"mode\":\"markers\",\"x\":[1,2,3,4,5,6,7,8,9,10,11,12,13,14,15,16,17,18,19,20,21,22,23,24,25,26,27,28,29,30,31,32,33,34,35,36,37,38,39,40,41,42,43,44,45,46,47,48,49],\"y\":[13.015783322312878,78.86638951120017,57.91154134813239,61.894377977217026,74.90931859997116,100.94638249794758,26.581342976019577,92.38781930573984,15.459113147867734,48.10876998420562,37.35566123882678,24.92930964878317,33.09996604262068,81.77983304145894,94.99764365888305,91.76152854338454,113.28135966209805,86.22613895334243,88.29335482325484,84.27484193409506,69.06101731281643,119.13014345286514,92.75742054195375,32.31066621400565,103.31719729294247,76.12842713234906,83.80171873095716,67.48515557446737,85.13652081894877,33.08517110101112,114.30084768135237,103.88588929542652,125.21920269268927,69.81486687768088,54.335708399979346,123.49810514817892,55.55380482619603,72.03462143715518,112.869273603945,110.84597420374574,67.14871806692037,54.517898858942054,61.20617922774019,141.58826967962978,136.2677713578102,47.73789077759717,56.31052854574304,93.18675663168706,74.40250223152964]}];\n",
       " var layout_yIsPGtFDt4 = {\"height\":550,\"width\":600,\"hovermode\":\"closest\",\"legend\":{\"orientation\":\"v\"},\"title\":{\"text\":\"2D Histogram Contour\"},\"showlegend\":true};\n",
       " var config_yIsPGtFDt4 = {\"responsive\":true,\"scrollZoom\":true,\"displaylogo\":false};\n",
       " Plotly.newPlot(\"graph_yIsPGtFDt4\", traces_yIsPGtFDt4, layout_yIsPGtFDt4, config_yIsPGtFDt4);\n",
       "</script> \n"
      ]
     },
     "metadata": {},
     "output_type": "display_data"
    }
   ],
   "source": [
    "val x = List.range(1, 50)\n",
    "val y = x.map(x => x + scala.util.Random.nextDouble()*100)\n",
    "\n",
    "val series = XY(x, y).asType(HISTOGRAM2DCONTOUR).drawMarkers\n",
    "\n",
    "val chart = (\n",
    "    Chart() addSeries series\n",
    "    setTitle \"2D Histogram Contour\"\n",
    ")\n",
    "\n",
    "chart.plotInline"
   ]
  },
  {
   "cell_type": "markdown",
   "metadata": {},
   "source": [
    "#### Adding additional axes\n",
    "\n",
    "As the above is a density plot, adding histograms can be useful too.\n",
    "\n",
    "We can add histograms as follows:"
   ]
  },
  {
   "cell_type": "code",
   "execution_count": 28,
   "metadata": {},
   "outputs": [],
   "source": [
    "// import the 2d Density histogram options\n",
    "import org.carbonateresearch.picta.options.histogram2d.Hist2dOptions"
   ]
  },
  {
   "cell_type": "code",
   "execution_count": 29,
   "metadata": {},
   "outputs": [
    {
     "data": {
      "text/html": [
       "<div id=\"grid-container_ZbatZXmzFf\" class=\"grid-container\" align=\"center\"> \n",
       "<div id=\"grid_ZbatZXmzFf\" class=\"grid\" align=\"center\"> \n",
       "<div id=\"graph_HoNih2dmzu\" class=\"graph\"></div> \n",
       "</div> \n",
       "</div> \n",
       "<script>\n",
       "var masonry = new Macy({\n",
       "    container: '#grid_ZbatZXmzFf',\n",
       "    debug: true,\n",
       "    mobileFirst: true,\n",
       "    columns: 1,\n",
       "    margin: {\n",
       "        x: 0,\n",
       "        y: 0\n",
       "    }\n",
       "  });\n",
       "\n",
       " var traces_HoNih2dmzu = [{\"name\":\"points\",\"type\":\"scatter\",\"mode\":\"markers\",\"marker\":{\"color\":\"rgb(102,0,0)\"},\"x\":[1,2,3,4,5,6,7,8,9,10,11,12,13,14,15,16,17,18,19,20,21,22,23,24,25,26,27,28,29,30,31,32,33,34,35,36,37,38,39,40,41,42,43,44,45,46,47,48,49],\"y\":[13.015783322312878,78.86638951120017,57.91154134813239,61.894377977217026,74.90931859997116,100.94638249794758,26.581342976019577,92.38781930573984,15.459113147867734,48.10876998420562,37.35566123882678,24.92930964878317,33.09996604262068,81.77983304145894,94.99764365888305,91.76152854338454,113.28135966209805,86.22613895334243,88.29335482325484,84.27484193409506,69.06101731281643,119.13014345286514,92.75742054195375,32.31066621400565,103.31719729294247,76.12842713234906,83.80171873095716,67.48515557446737,85.13652081894877,33.08517110101112,114.30084768135237,103.88588929542652,125.21920269268927,69.81486687768088,54.335708399979346,123.49810514817892,55.55380482619603,72.03462143715518,112.869273603945,110.84597420374574,67.14871806692037,54.517898858942054,61.20617922774019,141.58826967962978,136.2677713578102,47.73789077759717,56.31052854574304,93.18675663168706,74.40250223152964]},{\"name\":\"density\",\"type\":\"histogram2dcontour\",\"ncontours\":20,\"reversescale\":false,\"showscale\":true,\"x\":[1,2,3,4,5,6,7,8,9,10,11,12,13,14,15,16,17,18,19,20,21,22,23,24,25,26,27,28,29,30,31,32,33,34,35,36,37,38,39,40,41,42,43,44,45,46,47,48,49],\"y\":[13.015783322312878,78.86638951120017,57.91154134813239,61.894377977217026,74.90931859997116,100.94638249794758,26.581342976019577,92.38781930573984,15.459113147867734,48.10876998420562,37.35566123882678,24.92930964878317,33.09996604262068,81.77983304145894,94.99764365888305,91.76152854338454,113.28135966209805,86.22613895334243,88.29335482325484,84.27484193409506,69.06101731281643,119.13014345286514,92.75742054195375,32.31066621400565,103.31719729294247,76.12842713234906,83.80171873095716,67.48515557446737,85.13652081894877,33.08517110101112,114.30084768135237,103.88588929542652,125.21920269268927,69.81486687768088,54.335708399979346,123.49810514817892,55.55380482619603,72.03462143715518,112.869273603945,110.84597420374574,67.14871806692037,54.517898858942054,61.20617922774019,141.58826967962978,136.2677713578102,47.73789077759717,56.31052854574304,93.18675663168706,74.40250223152964]},{\"name\":\"histogram\",\"type\":\"histogram\",\"yaxis\":\"y2\",\"x\":[1,2,3,4,5,6,7,8,9,10,11,12,13,14,15,16,17,18,19,20,21,22,23,24,25,26,27,28,29,30,31,32,33,34,35,36,37,38,39,40,41,42,43,44,45,46,47,48,49]},{\"name\":\"y density\",\"type\":\"histogram\",\"xaxis\":\"x2\",\"marker\":{\"color\":\"rgb(102,0,0)\"},\"y\":[13.015783322312878,78.86638951120017,57.91154134813239,61.894377977217026,74.90931859997116,100.94638249794758,26.581342976019577,92.38781930573984,15.459113147867734,48.10876998420562,37.35566123882678,24.92930964878317,33.09996604262068,81.77983304145894,94.99764365888305,91.76152854338454,113.28135966209805,86.22613895334243,88.29335482325484,84.27484193409506,69.06101731281643,119.13014345286514,92.75742054195375,32.31066621400565,103.31719729294247,76.12842713234906,83.80171873095716,67.48515557446737,85.13652081894877,33.08517110101112,114.30084768135237,103.88588929542652,125.21920269268927,69.81486687768088,54.335708399979346,123.49810514817892,55.55380482619603,72.03462143715518,112.869273603945,110.84597420374574,67.14871806692037,54.517898858942054,61.20617922774019,141.58826967962978,136.2677713578102,47.73789077759717,56.31052854574304,93.18675663168706,74.40250223152964]}];\n",
       " var layout_HoNih2dmzu = {\"height\":550,\"width\":600,\"hovermode\":\"closest\",\"legend\":{\"orientation\":\"v\"},\"title\":{\"text\":\"Histogram2dContour With Density\"},\"showlegend\":false,\"autosize\":false,\"xaxis\":{\"showgrid\":false,\"zeroline\":false,\"showline\":false,\"domain\":[0,0.85]},\"yaxis\":{\"showgrid\":false,\"zeroline\":false,\"showline\":false,\"domain\":[0,0.85]},\"xaxis2\":{\"showgrid\":false,\"zeroline\":false,\"showline\":false,\"domain\":[0.85,1]},\"yaxis2\":{\"showgrid\":false,\"zeroline\":false,\"showline\":false,\"domain\":[0.85,1]}};\n",
       " var config_HoNih2dmzu = {\"responsive\":true,\"scrollZoom\":true,\"displaylogo\":false};\n",
       " Plotly.newPlot(\"graph_HoNih2dmzu\", traces_HoNih2dmzu, layout_HoNih2dmzu, config_HoNih2dmzu);\n",
       "</script> \n"
      ]
     },
     "metadata": {},
     "output_type": "display_data"
    }
   ],
   "source": [
    "val marker = Marker() setColor \"rgb(102,0,0)\"\n",
    "\n",
    "val series1 = XY(x, y) \n",
    "            .asType(SCATTER)\n",
    "            .drawMarkers\n",
    "            .setName(\"points\")\n",
    "            .setMarker(marker)\n",
    "\n",
    "\n",
    "val hist2d_options = Hist2dOptions(ncontours = 20, reversescale = false, showscale = true)\n",
    "\n",
    "val series2 = XY(x, y) \n",
    "            .setName(\"density\")\n",
    "            .asType(HISTOGRAM2DCONTOUR)\n",
    "            .setHist2dOptions(hist2d_options)\n",
    "\n",
    "val series3 = XY(x = x)\n",
    "            .asType(HISTOGRAM)\n",
    "            .setName(\"histogram\")\n",
    "            .setAxes(XAxis(), YAxis(2))\n",
    "\n",
    "val series4 = (XY(y)\n",
    "            .setName(\"y density\")\n",
    "            .asType(HISTOGRAM)\n",
    "            .setAxis(XAxis(2))\n",
    "            .setMarker(marker)\n",
    "            .setHistOptions(HistOptions(orientation = HORIZONTAL)))\n",
    "\n",
    "val ax1 = XAxis(showgrid = false) setDomain(0.0, 0.85)\n",
    "val ax2 = YAxis(showgrid = false) setDomain(0.0, 0.85)\n",
    "val ax3 = XAxis(position = 2, showgrid = false) setDomain(0.85, 1.0)\n",
    "val ax4 = YAxis(position = 2, showgrid = false) setDomain(0.85, 1.0)\n",
    "\n",
    "val layout = (\n",
    "    ChartLayout(\"Histogram2dContour With Density\", autosize = false, showlegend = false) \n",
    "    setAxes(ax1, ax2, ax3, ax4)\n",
    ")\n",
    "\n",
    "val chart = Chart() addSeries(series1, series2, series3, series4) setChartLayout layout\n",
    "\n",
    "chart.plotInline"
   ]
  },
  {
   "cell_type": "markdown",
   "metadata": {},
   "source": [
    "### 3D Charts\n",
    "\n",
    "3D charts are constructed using a `XYZ` series as they take in 3 `Series`' to create a single point.\n",
    "\n",
    "The Picta API does not accept nested lists, however the underlying Plotlyjs render does. In order to render any series that will make use of a nested list, we must flatten and provide the length of an element (before the list was flattened).\n",
    "\n",
    "The following examples will make it clearer.\n",
    "\n",
    "#### Contour"
   ]
  },
  {
   "cell_type": "code",
   "execution_count": 30,
   "metadata": {},
   "outputs": [],
   "source": [
    "// lets create some dummy adata for the third dimension\n",
    "val x = List(-9, -6, -5 , -3, -1)\n",
    "val y = List(0, 1, 4, 5, 7)\n",
    "val z = List(\n",
    "    List(10, 10.625, 12.5, 15.625, 20),\n",
    "    List(5.625, 6.25, 8.125, 11.25, 15.625),\n",
    "    List(2.5, 3.125, 5.0, 8.125, 12.5),\n",
    "    List(0.625, 1.25, 3.125, 6.25, 10.625),\n",
    "    List(0, 0.625, 2.5, 5.625, 10)\n",
    ")"
   ]
  },
  {
   "cell_type": "code",
   "execution_count": 31,
   "metadata": {},
   "outputs": [
    {
     "data": {
      "text/html": [
       "<div id=\"grid-container_1ngzN9Z5Pf\" class=\"grid-container\" align=\"center\"> \n",
       "<div id=\"grid_1ngzN9Z5Pf\" class=\"grid\" align=\"center\"> \n",
       "<div id=\"graph_guLZVlTZm2\" class=\"graph\"></div> \n",
       "</div> \n",
       "</div> \n",
       "<script>\n",
       "var masonry = new Macy({\n",
       "    container: '#grid_1ngzN9Z5Pf',\n",
       "    debug: true,\n",
       "    mobileFirst: true,\n",
       "    columns: 1,\n",
       "    margin: {\n",
       "        x: 0,\n",
       "        y: 0\n",
       "    }\n",
       "  });\n",
       "\n",
       " var traces_guLZVlTZm2 = [{\"name\":\"8vzUMDFWZN\",\"type\":\"contour\",\"x\":[-9,-6,-5,-3,-1],\"y\":[0,1,4,5,7],\"z\":[[10,10.625,12.5,15.625,20],[5.625,6.25,8.125,11.25,15.625],[2.5,3.125,5,8.125,12.5],[0.625,1.25,3.125,6.25,10.625],[0,0.625,2.5,5.625,10]]}];\n",
       " var layout_guLZVlTZm2 = {\"height\":550,\"width\":600,\"hovermode\":\"closest\",\"legend\":{\"orientation\":\"v\"},\"title\":{\"text\":\"Contour\"},\"showlegend\":true};\n",
       " var config_guLZVlTZm2 = {\"responsive\":true,\"scrollZoom\":true,\"displaylogo\":false};\n",
       " Plotly.newPlot(\"graph_guLZVlTZm2\", traces_guLZVlTZm2, layout_guLZVlTZm2, config_guLZVlTZm2);\n",
       "</script> \n"
      ]
     },
     "metadata": {},
     "output_type": "display_data"
    }
   ],
   "source": [
    "// we flatten the nested list as we pass it into the Series constructor\n",
    "val series = XYZ(x=x, y=y, z=z.flatten, n=z(0).length).asType(CONTOUR)\n",
    "\n",
    "// set up the chart\n",
    "val chart = Chart()\n",
    "            .addSeries(series)\n",
    "            .setTitle(\"Contour\")\n",
    "\n",
    "// plot the chart\n",
    "chart.plotInline"
   ]
  },
  {
   "cell_type": "markdown",
   "metadata": {},
   "source": [
    "#### Heatmap"
   ]
  },
  {
   "cell_type": "code",
   "execution_count": 32,
   "metadata": {
    "scrolled": false
   },
   "outputs": [],
   "source": [
    "// create a new nested list for the heatmap\n",
    "val z = List.range(1, 101).map(e => e + scala.util.Random.nextDouble()*100).grouped(10).toList"
   ]
  },
  {
   "cell_type": "code",
   "execution_count": 33,
   "metadata": {},
   "outputs": [
    {
     "data": {
      "text/html": [
       "<div id=\"grid-container_6BrIlK3xno\" class=\"grid-container\" align=\"center\"> \n",
       "<div id=\"grid_6BrIlK3xno\" class=\"grid\" align=\"center\"> \n",
       "<div id=\"graph_LR9qJY3uuY\" class=\"graph\"></div> \n",
       "</div> \n",
       "</div> \n",
       "<script>\n",
       "var masonry = new Macy({\n",
       "    container: '#grid_6BrIlK3xno',\n",
       "    debug: true,\n",
       "    mobileFirst: true,\n",
       "    columns: 1,\n",
       "    margin: {\n",
       "        x: 0,\n",
       "        y: 0\n",
       "    }\n",
       "  });\n",
       "\n",
       " var traces_LR9qJY3uuY = [{\"name\":\"Y9KwbbPPf0\",\"type\":\"heatmap\",\"z\":[[17.552871908618705,79.53300755617742,31.142388247412566,36.70016292830823,21.866806104535037,41.41913180696115,59.08288977462515,79.78225613275512,32.018993250724385,29.57312412814177],[92.7607993450608,75.67705994969535,57.056152915552296,97.75149457447844,37.07671802482433,57.157441534762306,114.37179759684985,80.44784978251712,96.28126000149938,95.68115587621031],[60.9186681763651,92.7640916724582,99.43420122004866,68.77420374586256,38.62336700580612,79.18001418213058,40.128407404229016,43.037775436588795,56.61369458132111,68.13353239336101],[101.57532726574968,45.755429416390626,93.12304267200591,65.98396157188375,37.465281331168654,76.29987947090252,63.31513815944896,128.71584943301784,131.45714530866724,64.88636788127113],[65.77634403978189,82.651102216037,63.71844593323827,120.69227791793502,90.05159064592031,126.47222097608795,71.62831355610068,123.96032383791385,140.35396080576004,136.01970521910457],[103.57210530732031,107.4252314445398,106.45684431088758,110.6117394153631,129.6979461590771,141.25158065700276,91.78145145312577,145.04454742178362,91.5718417536923,82.64306581476222],[90.82144574178622,84.96683785731602,143.85938600460048,76.38110931982489,93.30029723531086,124.98203194575368,165.47857916246184,95.77341899868674,80.83589968493331,138.61701574114187],[95.10953659515698,94.84074798841705,73.39090725497742,87.20641864591737,76.51344736175449,102.04274437373307,77.4161269742018,140.77647695886424,82.80438358595055,123.44145414083393],[85.34821685030468,158.17278078897755,125.63410442364406,138.9237101349306,177.00185843311775,115.96130466741923,145.19130563043166,168.9512420071838,177.40048909055793,146.0423086102375],[119.98321436725962,161.28008920962975,132.71851736915397,140.45181374743774,131.5588460827863,97.18844225646441,176.2619668083517,108.48559865443558,168.64963203965215,144.97480587021263]]}];\n",
       " var layout_LR9qJY3uuY = {\"height\":550,\"width\":600,\"hovermode\":\"closest\",\"legend\":{\"orientation\":\"v\"},\"title\":{\"text\":\"Heatmap\"},\"showlegend\":true};\n",
       " var config_LR9qJY3uuY = {\"responsive\":true,\"scrollZoom\":true,\"displaylogo\":false};\n",
       " Plotly.newPlot(\"graph_LR9qJY3uuY\", traces_LR9qJY3uuY, layout_LR9qJY3uuY, config_LR9qJY3uuY);\n",
       "</script> \n"
      ]
     },
     "metadata": {},
     "output_type": "display_data"
    }
   ],
   "source": [
    "// we get the length of an element of the nested list\n",
    "val n = z(0).length\n",
    "\n",
    "// we now flatten the list and pass it into Series constructor, as well as 'n', the length of an element so that the \n",
    "// heatmap dimensions are correctly constructed\n",
    "val series = XYZ(z=z.flatten, n=n) asType HEATMAP\n",
    "\n",
    "val chart = Chart() addSeries series setTitle \"Heatmap\"\n",
    "\n",
    "chart.plotInline"
   ]
  },
  {
   "cell_type": "markdown",
   "metadata": {},
   "source": [
    "#### Scatter3D"
   ]
  },
  {
   "cell_type": "code",
   "execution_count": 55,
   "metadata": {
    "scrolled": false
   },
   "outputs": [
    {
     "data": {
      "text/html": [
       "<div id=\"grid-container_vZXn7nIob3\" class=\"grid-container\" align=\"center\"> \n",
       "<div id=\"grid_vZXn7nIob3\" class=\"grid\" align=\"center\"> \n",
       "<div id=\"graph_7w47IsL15g\" class=\"graph\"></div> \n",
       "</div> \n",
       "</div> \n",
       "<script>\n",
       "var masonry = new Macy({\n",
       "    container: '#grid_vZXn7nIob3',\n",
       "    debug: true,\n",
       "    mobileFirst: true,\n",
       "    columns: 1,\n",
       "    margin: {\n",
       "        x: 0,\n",
       "        y: 0\n",
       "    }\n",
       "  });\n",
       "\n",
       " var traces_7w47IsL15g = [{\"name\":\"ESfaEw9FPu\",\"type\":\"scatter3d\",\"mode\":\"markers\",\"x\":[1,2,3,4,5,6,7,8,9,10,11,12,13,14,15,16,17,18,19,20,21,22,23,24,25,26,27,28,29,30,31,32,33,34,35,36,37,38,39,40,41,42,43,44,45,46,47,48,49,50,51,52,53,54,55,56,57,58,59,60,61,62,63,64,65,66,67,68,69,70,71,72,73,74,75,76,77,78,79,80,81,82,83,84,85,86,87,88,89,90,91,92,93,94,95,96,97,98,99],\"y\":[1,2,3,4,5,6,7,8,9,10,11,12,13,14,15,16,17,18,19,20,21,22,23,24,25,26,27,28,29,30,31,32,33,34,35,36,37,38,39,40,41,42,43,44,45,46,47,48,49,50,51,52,53,54,55,56,57,58,59,60,61,62,63,64,65,66,67,68,69,70,71,72,73,74,75,76,77,78,79,80,81,82,83,84,85,86,87,88,89,90,91,92,93,94,95,96,97,98,99],\"z\":[38.8991591700478,6.032022162232907,27.96663199802407,79.82898050256452,34.545435851657174,94.27967241336668,10.657649087980829,54.20867248639286,70.20351280359972,39.02618238361785,15.398012395603113,30.22146296537349,79.21685980453707,38.32405716829874,58.913912235713184,19.59660899862454,43.562432847227754,100.62866033490825,107.1429146573759,68.92437747976231,34.76688700653238,105.24102536992982,24.068013638914323,121.12467263063638,96.5503313058464,66.65243241816492,118.76266989443477,109.23692546643902,63.634259515771205,76.4510293227193,95.28858541512747,52.72472732237853,82.34172999836267,121.5484320098473,95.34181760046332,128.14885220386662,122.93424714548193,80.70690447247281,111.92180542044619,115.84743464856734,51.0712000971195,82.69534530563158,43.80171811126161,82.17229998130139,56.344127854022055,68.8750047147937,55.207484351678,142.86550514009872,119.52951255922373,140.61347861276346,102.86677811561245,67.32038636058003,137.0201428564559,87.64821193330012,93.46807429329863,125.75651647229078,110.83658270904473,87.36833813779752,138.57389454912027,151.74814607993682,155.68659260467655,136.9564677072467,81.16118560064156,91.08087539968274,70.73185071822836,130.42950557557583,78.21571363448614,134.57142931206124,73.03765372886217,120.84043526758387,137.18627090886952,87.27057966580043,92.12271328000848,114.25048854525855,120.60837372978575,109.37942833728975,80.59258532243544,126.55391505417822,152.83606837457944,175.24439625569175,104.53164151863805,96.83511949350476,85.57432353280706,135.9564260892005,139.14492179965205,91.66065399072306,104.78345325383242,138.3650846524946,110.082607136245,153.5561739149777,190.53085673586628,148.7283782838021,188.94627376932954,143.89115916407567,173.4943189807248,152.75426730973717,172.66743768183127,105.4917971564915,167.0749896968882]}];\n",
       " var layout_7w47IsL15g = {\"height\":550,\"width\":600,\"hovermode\":\"closest\",\"legend\":{\"orientation\":\"v\"},\"title\":{\"text\":\"XYZ.Scatter3D\"},\"showlegend\":true};\n",
       " var config_7w47IsL15g = {\"responsive\":false,\"scrollZoom\":false,\"displaylogo\":false};\n",
       " Plotly.newPlot(\"graph_7w47IsL15g\", traces_7w47IsL15g, layout_7w47IsL15g, config_7w47IsL15g);\n",
       "</script> \n"
      ]
     },
     "metadata": {},
     "output_type": "display_data"
    }
   ],
   "source": [
    "val x = List.range(1, 100)\n",
    "val y = List.range(1, 100)\n",
    "val z = List.range(1, 100).map(e => e + scala.util.Random.nextDouble()*100)\n",
    "\n",
    "val series = XYZ(x, y, z) asType SCATTER3D drawStyle MARKERS\n",
    "val chart1 = Chart() addSeries series setTitle \"XYZ.Scatter3D\" setConfig(false, false)\n",
    "val canvas = Canvas() addCharts chart1\n",
    "canvas.plotInline"
   ]
  },
  {
   "cell_type": "markdown",
   "metadata": {},
   "source": [
    "#### Surface Plot"
   ]
  },
  {
   "cell_type": "code",
   "execution_count": 35,
   "metadata": {
    "scrolled": false
   },
   "outputs": [
    {
     "data": {
      "text/html": [
       "<div id=\"grid-container_RVpoohRSXt\" class=\"grid-container\" align=\"center\"> \n",
       "<div id=\"grid_RVpoohRSXt\" class=\"grid\" align=\"center\"> \n",
       "<div id=\"graph_rz6Xg5YRBL\" class=\"graph\"></div> \n",
       "</div> \n",
       "</div> \n",
       "<script>\n",
       "var masonry = new Macy({\n",
       "    container: '#grid_RVpoohRSXt',\n",
       "    debug: true,\n",
       "    mobileFirst: true,\n",
       "    columns: 1,\n",
       "    margin: {\n",
       "        x: 0,\n",
       "        y: 0\n",
       "    }\n",
       "  });\n",
       "\n",
       " var traces_rz6Xg5YRBL = [{\"name\":\"zdZ9VGehRo\",\"type\":\"surface\",\"z\":[[8.83,8.89,8.81,8.87,8.9,8.87],[8.89,8.94,8.85,8.94,8.96,8.92],[8.84,8.9,8.82,8.92,8.93,8.91],[8.79,8.85,8.79,8.9,8.94,8.92],[8.79,8.88,8.81,8.9,8.95,8.92],[8.8,8.82,8.78,8.91,8.94,8.92],[8.75,8.78,8.77,8.91,8.95,8.92],[8.8,8.8,8.77,8.91,8.95,8.94],[8.74,8.81,8.76,8.93,8.98,8.99],[8.89,8.99,8.92,9.1,9.13,9.11],[8.97,8.97,8.91,9.09,9.11,9.11],[9.04,9.08,9.05,9.25,9.28,9.27],[9,9.01,9,9.2,9.23,9.2],[8.99,8.99,8.98,9.18,9.2,9.19],[8.93,8.97,8.97,9.18,9.2,9.18]]}];\n",
       " var layout_rz6Xg5YRBL = {\"height\":550,\"width\":600,\"hovermode\":\"closest\",\"legend\":{\"orientation\":\"v\"},\"title\":{\"text\":\"Surface\"},\"showlegend\":true};\n",
       " var config_rz6Xg5YRBL = {\"responsive\":true,\"scrollZoom\":true,\"displaylogo\":false};\n",
       " Plotly.newPlot(\"graph_rz6Xg5YRBL\", traces_rz6Xg5YRBL, layout_rz6Xg5YRBL, config_rz6Xg5YRBL);\n",
       "</script> \n"
      ]
     },
     "metadata": {},
     "output_type": "display_data"
    }
   ],
   "source": [
    "// 3d surface plot\n",
    "val k = List(\n",
    "    List(8.83,8.89,8.81,8.87,8.9,8.87),\n",
    "    List(8.89,8.94,8.85,8.94,8.96,8.92),\n",
    "    List(8.84,8.9,8.82,8.92,8.93,8.91),\n",
    "    List(8.79,8.85,8.79,8.9,8.94,8.92),\n",
    "    List(8.79,8.88,8.81,8.9,8.95,8.92),\n",
    "    List(8.8,8.82,8.78,8.91,8.94,8.92),\n",
    "    List(8.75,8.78,8.77,8.91,8.95,8.92),\n",
    "    List(8.8,8.8,8.77,8.91,8.95,8.94),\n",
    "    List(8.74,8.81,8.76,8.93,8.98,8.99),\n",
    "    List(8.89,8.99,8.92,9.1,9.13,9.11),\n",
    "    List(8.97,8.97,8.91,9.09,9.11,9.11),\n",
    "    List(9.04,9.08,9.05,9.25,9.28,9.27),\n",
    "    List(9,9.01,9,9.2,9.23,9.2),\n",
    "    List(8.99,8.99,8.98,9.18,9.2,9.19),\n",
    "    List(8.93,8.97,8.97,9.18,9.2,9.18)\n",
    "  )\n",
    "\n",
    "val series = XYZ(z=k.flatten, n = k(0).length) asType SURFACE\n",
    "val chart2 = Chart() addSeries series setTitle \"Surface\"\n",
    "\n",
    "chart2.plotInline"
   ]
  },
  {
   "cell_type": "markdown",
   "metadata": {
    "scrolled": false
   },
   "source": [
    "#### Third Dimension as Color"
   ]
  },
  {
   "cell_type": "code",
   "execution_count": 36,
   "metadata": {},
   "outputs": [
    {
     "data": {
      "text/html": [
       "<div id=\"grid-container_Mt0sunKUfa\" class=\"grid-container\" align=\"center\"> \n",
       "<div id=\"grid_Mt0sunKUfa\" class=\"grid\" align=\"center\"> \n",
       "<div id=\"graph_Ucg11IRmLk\" class=\"graph\"></div> \n",
       "</div> \n",
       "</div> \n",
       "<script>\n",
       "var masonry = new Macy({\n",
       "    container: '#grid_Mt0sunKUfa',\n",
       "    debug: true,\n",
       "    mobileFirst: true,\n",
       "    columns: 1,\n",
       "    margin: {\n",
       "        x: 0,\n",
       "        y: 0\n",
       "    }\n",
       "  });\n",
       "\n",
       " var traces_Ucg11IRmLk = [{\"name\":\"PwgB9wXUcc\",\"type\":\"scatter\",\"mode\":\"markers\",\"marker\":{\"color\":[81.38513298361653,62.17176610107883,99.88436710322712,75.35971253224427,8.046935393590333,18.155517911745516,70.19400149069584,27.300499643710456,107.19301543420464,93.02122736309711,25.475433356362466,54.37025395794177,24.183958903255164,69.07966276319112,113.19315519302435,70.31232389863753,98.05697506011285,43.066850898341556,76.29168710427648,118.73032082217779,81.96279101733845,59.19515219129864,53.03276892511888,107.94128610521537,45.6277754968055,39.47386060662032,100.14348433028559,69.50374463593494,71.34338049579856,64.32971799960433,65.2793788024583,41.15608831377794,103.52014029908312,102.74920121447184,134.90422343097654,135.15468139907375,88.5036057303171,90.48070158097724,61.91079797315396,116.3799956134629,46.13473395166795,107.27629952748504,133.6546482337231,81.08291611030126,47.4475018220102,109.71909362229329,75.54551113636789,96.77236909159969,133.93151959478408,134.87352034620847,97.93870232188664,136.49925627707498,102.94770715667,101.81254943869763,84.79141346489098,116.67058501061189,101.17019514168412,103.01690328516673,91.39659061671385,126.53165700997745,113.33775758000506,95.7080341635222,65.47959402558459,119.58299712933578,107.13327721726827,74.36785353376646,131.0406687746871,122.45267148479181,96.66987303915371,130.014697258157,77.54873005346721,105.12353688330944,116.84748020550943,79.24638248436591,78.43976792056688,147.91885371059416,158.75383871590714,176.62762982288422,122.34575268507243,135.27859866517935,102.31900379325572,107.69052432763225,178.0775953914491,104.11277220714528,96.5926173222779,96.63311087849657,130.1083974455174,175.396811625301,180.2983815135305,152.74257594946647,115.15083763852898,101.6782205517032,105.7303102300695,122.63597300290841,162.39525613648266,170.29235491943604,127.59046865817241,111.60273780084667,190.07258137497752]},\"x\":[1,2,3,4,5,6,7,8,9,10,11,12,13,14,15,16,17,18,19,20,21,22,23,24,25,26,27,28,29,30,31,32,33,34,35,36,37,38,39,40,41,42,43,44,45,46,47,48,49,50,51,52,53,54,55,56,57,58,59,60,61,62,63,64,65,66,67,68,69,70,71,72,73,74,75,76,77,78,79,80,81,82,83,84,85,86,87,88,89,90,91,92,93,94,95,96,97,98,99],\"y\":[1,2,3,4,5,6,7,8,9,10,11,12,13,14,15,16,17,18,19,20,21,22,23,24,25,26,27,28,29,30,31,32,33,34,35,36,37,38,39,40,41,42,43,44,45,46,47,48,49,50,51,52,53,54,55,56,57,58,59,60,61,62,63,64,65,66,67,68,69,70,71,72,73,74,75,76,77,78,79,80,81,82,83,84,85,86,87,88,89,90,91,92,93,94,95,96,97,98,99]}];\n",
       " var layout_Ucg11IRmLk = {\"height\":550,\"width\":600,\"hovermode\":\"closest\",\"legend\":{\"orientation\":\"v\"},\"title\":{\"text\":\"ScatterWithColor\"},\"showlegend\":true};\n",
       " var config_Ucg11IRmLk = {\"responsive\":true,\"scrollZoom\":true,\"displaylogo\":false};\n",
       " Plotly.newPlot(\"graph_Ucg11IRmLk\", traces_Ucg11IRmLk, layout_Ucg11IRmLk, config_Ucg11IRmLk);\n",
       "</script> \n"
      ]
     },
     "metadata": {},
     "output_type": "display_data"
    }
   ],
   "source": [
    "// multiple compositions can be used to create scatter charts with a color representing some third dimension\n",
    "val marker = Marker() setColor z\n",
    "val series = XY(x, y) asType SCATTER drawStyle MARKERS setMarker marker\n",
    "val chart3 = Chart() addSeries series setTitle \"ScatterWithColor\"\n",
    "chart3.plotInline"
   ]
  },
  {
   "cell_type": "markdown",
   "metadata": {},
   "source": [
    "#### Subplot\n",
    "\n",
    "The Subplot class can be used to generate subplots for an XYZ plots just as we did previously."
   ]
  },
  {
   "cell_type": "code",
   "execution_count": 37,
   "metadata": {},
   "outputs": [
    {
     "data": {
      "text/html": [
       "<div id=\"grid-container_SfdbpQY6uA\" class=\"grid-container\" align=\"center\"> \n",
       "<div id=\"grid_SfdbpQY6uA\" class=\"grid\" align=\"center\"> \n",
       "<div id=\"graph_7Yd2aZ6zIj\" class=\"graph\"></div> \n",
       "<div id=\"graph_2h8UQPJWsJ\" class=\"graph\"></div> \n",
       "<div id=\"graph_8GxsI7cF1O\" class=\"graph\"></div> \n",
       "<div id=\"graph_jFl8Bju9Dy\" class=\"graph\"></div> \n",
       "</div> \n",
       "</div> \n",
       "\n",
       "<div align=\"center\">\n",
       "<button id = \"saveAsPNG_SfdbpQY6uA\" class=\"picta-button\">Download Canvas as PNG</button>\n",
       "</div>\n",
       "<script>\n",
       "var masonry = new Macy({\n",
       "    container: '#grid_SfdbpQY6uA',\n",
       "    debug: true,\n",
       "    mobileFirst: true,\n",
       "    columns: 2,\n",
       "    margin: {\n",
       "        x: 0,\n",
       "        y: 0\n",
       "    }\n",
       "  });\n",
       "\n",
       " var traces_7Yd2aZ6zIj = [{\"name\":\"Fwtd4yzZVr\",\"type\":\"scatter3d\",\"mode\":\"markers\",\"x\":[1,2,3,4,5,6,7,8,9,10,11,12,13,14,15,16,17,18,19,20,21,22,23,24,25,26,27,28,29,30,31,32,33,34,35,36,37,38,39,40,41,42,43,44,45,46,47,48,49,50,51,52,53,54,55,56,57,58,59,60,61,62,63,64,65,66,67,68,69,70,71,72,73,74,75,76,77,78,79,80,81,82,83,84,85,86,87,88,89,90,91,92,93,94,95,96,97,98,99],\"y\":[1,2,3,4,5,6,7,8,9,10,11,12,13,14,15,16,17,18,19,20,21,22,23,24,25,26,27,28,29,30,31,32,33,34,35,36,37,38,39,40,41,42,43,44,45,46,47,48,49,50,51,52,53,54,55,56,57,58,59,60,61,62,63,64,65,66,67,68,69,70,71,72,73,74,75,76,77,78,79,80,81,82,83,84,85,86,87,88,89,90,91,92,93,94,95,96,97,98,99],\"z\":[81.38513298361653,62.17176610107883,99.88436710322712,75.35971253224427,8.046935393590333,18.155517911745516,70.19400149069584,27.300499643710456,107.19301543420464,93.02122736309711,25.475433356362466,54.37025395794177,24.183958903255164,69.07966276319112,113.19315519302435,70.31232389863753,98.05697506011285,43.066850898341556,76.29168710427648,118.73032082217779,81.96279101733845,59.19515219129864,53.03276892511888,107.94128610521537,45.6277754968055,39.47386060662032,100.14348433028559,69.50374463593494,71.34338049579856,64.32971799960433,65.2793788024583,41.15608831377794,103.52014029908312,102.74920121447184,134.90422343097654,135.15468139907375,88.5036057303171,90.48070158097724,61.91079797315396,116.3799956134629,46.13473395166795,107.27629952748504,133.6546482337231,81.08291611030126,47.4475018220102,109.71909362229329,75.54551113636789,96.77236909159969,133.93151959478408,134.87352034620847,97.93870232188664,136.49925627707498,102.94770715667,101.81254943869763,84.79141346489098,116.67058501061189,101.17019514168412,103.01690328516673,91.39659061671385,126.53165700997745,113.33775758000506,95.7080341635222,65.47959402558459,119.58299712933578,107.13327721726827,74.36785353376646,131.0406687746871,122.45267148479181,96.66987303915371,130.014697258157,77.54873005346721,105.12353688330944,116.84748020550943,79.24638248436591,78.43976792056688,147.91885371059416,158.75383871590714,176.62762982288422,122.34575268507243,135.27859866517935,102.31900379325572,107.69052432763225,178.0775953914491,104.11277220714528,96.5926173222779,96.63311087849657,130.1083974455174,175.396811625301,180.2983815135305,152.74257594946647,115.15083763852898,101.6782205517032,105.7303102300695,122.63597300290841,162.39525613648266,170.29235491943604,127.59046865817241,111.60273780084667,190.07258137497752]}];\n",
       " var layout_7Yd2aZ6zIj = {\"height\":350,\"width\":350,\"hovermode\":\"closest\",\"legend\":{\"orientation\":\"v\"},\"title\":{\"text\":\"XYZ.Scatter3D\"},\"showlegend\":true,\"margin\":{\"l\":50,\"r\":50,\"t\":50,\"b\":50}};\n",
       " var config_7Yd2aZ6zIj = {\"responsive\":false,\"scrollZoom\":false,\"displaylogo\":false};\n",
       " Plotly.newPlot(\"graph_7Yd2aZ6zIj\", traces_7Yd2aZ6zIj, layout_7Yd2aZ6zIj, config_7Yd2aZ6zIj);\n",
       "\n",
       " var traces_2h8UQPJWsJ = [{\"name\":\"zdZ9VGehRo\",\"type\":\"surface\",\"z\":[[8.83,8.89,8.81,8.87,8.9,8.87],[8.89,8.94,8.85,8.94,8.96,8.92],[8.84,8.9,8.82,8.92,8.93,8.91],[8.79,8.85,8.79,8.9,8.94,8.92],[8.79,8.88,8.81,8.9,8.95,8.92],[8.8,8.82,8.78,8.91,8.94,8.92],[8.75,8.78,8.77,8.91,8.95,8.92],[8.8,8.8,8.77,8.91,8.95,8.94],[8.74,8.81,8.76,8.93,8.98,8.99],[8.89,8.99,8.92,9.1,9.13,9.11],[8.97,8.97,8.91,9.09,9.11,9.11],[9.04,9.08,9.05,9.25,9.28,9.27],[9,9.01,9,9.2,9.23,9.2],[8.99,8.99,8.98,9.18,9.2,9.19],[8.93,8.97,8.97,9.18,9.2,9.18]]}];\n",
       " var layout_2h8UQPJWsJ = {\"height\":350,\"width\":350,\"hovermode\":\"closest\",\"legend\":{\"orientation\":\"v\"},\"title\":{\"text\":\"Surface\"},\"showlegend\":true,\"margin\":{\"l\":50,\"r\":50,\"t\":50,\"b\":50}};\n",
       " var config_2h8UQPJWsJ = {\"responsive\":true,\"scrollZoom\":true,\"displaylogo\":false};\n",
       " Plotly.newPlot(\"graph_2h8UQPJWsJ\", traces_2h8UQPJWsJ, layout_2h8UQPJWsJ, config_2h8UQPJWsJ);\n",
       "\n",
       " var traces_8GxsI7cF1O = [{\"name\":\"PwgB9wXUcc\",\"type\":\"scatter\",\"mode\":\"markers\",\"marker\":{\"color\":[81.38513298361653,62.17176610107883,99.88436710322712,75.35971253224427,8.046935393590333,18.155517911745516,70.19400149069584,27.300499643710456,107.19301543420464,93.02122736309711,25.475433356362466,54.37025395794177,24.183958903255164,69.07966276319112,113.19315519302435,70.31232389863753,98.05697506011285,43.066850898341556,76.29168710427648,118.73032082217779,81.96279101733845,59.19515219129864,53.03276892511888,107.94128610521537,45.6277754968055,39.47386060662032,100.14348433028559,69.50374463593494,71.34338049579856,64.32971799960433,65.2793788024583,41.15608831377794,103.52014029908312,102.74920121447184,134.90422343097654,135.15468139907375,88.5036057303171,90.48070158097724,61.91079797315396,116.3799956134629,46.13473395166795,107.27629952748504,133.6546482337231,81.08291611030126,47.4475018220102,109.71909362229329,75.54551113636789,96.77236909159969,133.93151959478408,134.87352034620847,97.93870232188664,136.49925627707498,102.94770715667,101.81254943869763,84.79141346489098,116.67058501061189,101.17019514168412,103.01690328516673,91.39659061671385,126.53165700997745,113.33775758000506,95.7080341635222,65.47959402558459,119.58299712933578,107.13327721726827,74.36785353376646,131.0406687746871,122.45267148479181,96.66987303915371,130.014697258157,77.54873005346721,105.12353688330944,116.84748020550943,79.24638248436591,78.43976792056688,147.91885371059416,158.75383871590714,176.62762982288422,122.34575268507243,135.27859866517935,102.31900379325572,107.69052432763225,178.0775953914491,104.11277220714528,96.5926173222779,96.63311087849657,130.1083974455174,175.396811625301,180.2983815135305,152.74257594946647,115.15083763852898,101.6782205517032,105.7303102300695,122.63597300290841,162.39525613648266,170.29235491943604,127.59046865817241,111.60273780084667,190.07258137497752]},\"x\":[1,2,3,4,5,6,7,8,9,10,11,12,13,14,15,16,17,18,19,20,21,22,23,24,25,26,27,28,29,30,31,32,33,34,35,36,37,38,39,40,41,42,43,44,45,46,47,48,49,50,51,52,53,54,55,56,57,58,59,60,61,62,63,64,65,66,67,68,69,70,71,72,73,74,75,76,77,78,79,80,81,82,83,84,85,86,87,88,89,90,91,92,93,94,95,96,97,98,99],\"y\":[1,2,3,4,5,6,7,8,9,10,11,12,13,14,15,16,17,18,19,20,21,22,23,24,25,26,27,28,29,30,31,32,33,34,35,36,37,38,39,40,41,42,43,44,45,46,47,48,49,50,51,52,53,54,55,56,57,58,59,60,61,62,63,64,65,66,67,68,69,70,71,72,73,74,75,76,77,78,79,80,81,82,83,84,85,86,87,88,89,90,91,92,93,94,95,96,97,98,99]}];\n",
       " var layout_8GxsI7cF1O = {\"height\":350,\"width\":350,\"hovermode\":\"closest\",\"legend\":{\"orientation\":\"v\"},\"title\":{\"text\":\"ScatterWithColor\"},\"showlegend\":true,\"margin\":{\"l\":50,\"r\":50,\"t\":50,\"b\":50}};\n",
       " var config_8GxsI7cF1O = {\"responsive\":true,\"scrollZoom\":true,\"displaylogo\":false};\n",
       " Plotly.newPlot(\"graph_8GxsI7cF1O\", traces_8GxsI7cF1O, layout_8GxsI7cF1O, config_8GxsI7cF1O);\n",
       "\n",
       " var traces_jFl8Bju9Dy = [{\"name\":\"Y9KwbbPPf0\",\"type\":\"heatmap\",\"z\":[[17.552871908618705,79.53300755617742,31.142388247412566,36.70016292830823,21.866806104535037,41.41913180696115,59.08288977462515,79.78225613275512,32.018993250724385,29.57312412814177],[92.7607993450608,75.67705994969535,57.056152915552296,97.75149457447844,37.07671802482433,57.157441534762306,114.37179759684985,80.44784978251712,96.28126000149938,95.68115587621031],[60.9186681763651,92.7640916724582,99.43420122004866,68.77420374586256,38.62336700580612,79.18001418213058,40.128407404229016,43.037775436588795,56.61369458132111,68.13353239336101],[101.57532726574968,45.755429416390626,93.12304267200591,65.98396157188375,37.465281331168654,76.29987947090252,63.31513815944896,128.71584943301784,131.45714530866724,64.88636788127113],[65.77634403978189,82.651102216037,63.71844593323827,120.69227791793502,90.05159064592031,126.47222097608795,71.62831355610068,123.96032383791385,140.35396080576004,136.01970521910457],[103.57210530732031,107.4252314445398,106.45684431088758,110.6117394153631,129.6979461590771,141.25158065700276,91.78145145312577,145.04454742178362,91.5718417536923,82.64306581476222],[90.82144574178622,84.96683785731602,143.85938600460048,76.38110931982489,93.30029723531086,124.98203194575368,165.47857916246184,95.77341899868674,80.83589968493331,138.61701574114187],[95.10953659515698,94.84074798841705,73.39090725497742,87.20641864591737,76.51344736175449,102.04274437373307,77.4161269742018,140.77647695886424,82.80438358595055,123.44145414083393],[85.34821685030468,158.17278078897755,125.63410442364406,138.9237101349306,177.00185843311775,115.96130466741923,145.19130563043166,168.9512420071838,177.40048909055793,146.0423086102375],[119.98321436725962,161.28008920962975,132.71851736915397,140.45181374743774,131.5588460827863,97.18844225646441,176.2619668083517,108.48559865443558,168.64963203965215,144.97480587021263]]}];\n",
       " var layout_jFl8Bju9Dy = {\"height\":350,\"width\":350,\"hovermode\":\"closest\",\"legend\":{\"orientation\":\"v\"},\"title\":{\"text\":\"Heatmap\"},\"showlegend\":true,\"margin\":{\"l\":50,\"r\":50,\"t\":50,\"b\":50}};\n",
       " var config_jFl8Bju9Dy = {\"responsive\":true,\"scrollZoom\":true,\"displaylogo\":false};\n",
       " Plotly.newPlot(\"graph_jFl8Bju9Dy\", traces_jFl8Bju9Dy, layout_jFl8Bju9Dy, config_jFl8Bju9Dy);\n",
       "\n",
       "var save = document.getElementById(\"saveAsPNG_SfdbpQY6uA\")\n",
       "save.onclick = function() {\n",
       "    const grid = document.getElementById(\"grid-container_SfdbpQY6uA\")\n",
       "    const svg_containers = grid.getElementsByClassName('svg-container')\n",
       "    const main_svgs = grid.getElementsByClassName('main-svg')\n",
       "\n",
       "    const svg_containers_styles = []\n",
       "    const main_svgs_styles = []\n",
       "\n",
       "    const modebars = document.getElementsByClassName(\"modebar-container\")\n",
       "\n",
       "    for (var i = 0; i < modebars.length; i++) {\n",
       "        modebars[i].style.display = \"none\"\n",
       "    }\n",
       "\n",
       "    domtoimage.toPng(grid)\n",
       "    .then(function (dataUrl) {\n",
       "        var img = new Image();\n",
       "        img.src = dataUrl;\n",
       "        var link = document.createElement('a');\n",
       "        link.download = 'Picta-image.png';\n",
       "        link.href = dataUrl;\n",
       "        link.click()\n",
       "    })\n",
       "    .catch(function (error) {\n",
       "        console.error('oops, something went wrong!', error);\n",
       "    });\n",
       "}\n",
       "</script> \n"
      ]
     },
     "metadata": {},
     "output_type": "display_data"
    }
   ],
   "source": [
    "// it may be necessary to play around with the chart dimensions and margin  in order to ensure a good fit on screen.\n",
    "val dim = 350\n",
    "\n",
    "// The canvas has an underlying grid. By default the underlying grid is 1x1, but we can pass in the dimensions we \n",
    "// require by passing in parameters in the constructor.\n",
    "Canvas(2, 2)\n",
    ".setChart(0, 0, chart1.setDimensions(width = dim, height = dim).setMargin(l=50, r=50, t=50, b=50))\n",
    ".setChart(0, 1, chart2.setDimensions(width = dim, height = dim)setMargin(l=50, r=50, t=50, b=50))\n",
    ".setChart(1, 0, chart3.setDimensions(width = dim, height = dim)setMargin(l=50, r=50, t=50, b=50))\n",
    ".setChart(1, 1, chart.setDimensions(width = dim, height = dim)setMargin(l=50, r=50, t=50, b=50))\n",
    ".plotInline"
   ]
  },
  {
   "cell_type": "markdown",
   "metadata": {},
   "source": [
    "#### Map\n",
    "\n",
    "We can also create maps using the composition technique below."
   ]
  },
  {
   "cell_type": "code",
   "execution_count": 38,
   "metadata": {},
   "outputs": [],
   "source": [
    "import org.carbonateresearch.picta.options.{Margin, Line}\n",
    "import org.carbonateresearch.picta.Map"
   ]
  },
  {
   "cell_type": "code",
   "execution_count": 39,
   "metadata": {},
   "outputs": [
    {
     "data": {
      "text/html": [
       "<div id=\"grid-container_B4ukqDWSZN\" class=\"grid-container\" align=\"center\"> \n",
       "<div id=\"grid_B4ukqDWSZN\" class=\"grid\" align=\"center\"> \n",
       "<div id=\"graph_q1fIHuCajk\" class=\"graph\"></div> \n",
       "</div> \n",
       "</div> \n",
       "<script>\n",
       "var masonry = new Macy({\n",
       "    container: '#grid_B4ukqDWSZN',\n",
       "    debug: true,\n",
       "    mobileFirst: true,\n",
       "    columns: 1,\n",
       "    margin: {\n",
       "        x: 0,\n",
       "        y: 0\n",
       "    }\n",
       "  });\n",
       "\n",
       " var traces_q1fIHuCajk = [{\"name\":\"rTg2N0lVhT\",\"lat\":[40.7127,51.5072],\"lon\":[-74.0059,0.1275],\"type\":\"scattergeo\",\"mode\":\"lines\",\"line\":{\"width\":2,\"color\":\"red\"}}];\n",
       " var layout_q1fIHuCajk = {\"height\":550,\"width\":600,\"hovermode\":\"closest\",\"legend\":{\"orientation\":\"v\"},\"showlegend\":true,\"geo\":{\"resolution\":50,\"showland\":true,\"showlakes\":true,\"coastlinewidth\":2,\"landcolor\":\"rgb(204, 204, 204)\",\"lakecolor\":\"rgb(255, 255, 255)\",\"lataxis\":{\"range\":[20,60],\"showgrid\":true,\"dtick\":10},\"lonaxis\":{\"range\":[-100,20],\"showgrid\":true,\"dtick\":10}},\"margin\":{\"l\":0,\"r\":0,\"t\":0,\"b\":0}};\n",
       " var config_q1fIHuCajk = {\"responsive\":false,\"scrollZoom\":false,\"displaylogo\":false};\n",
       " Plotly.newPlot(\"graph_q1fIHuCajk\", traces_q1fIHuCajk, layout_q1fIHuCajk, config_q1fIHuCajk);\n",
       "</script> \n"
      ]
     },
     "metadata": {},
     "output_type": "display_data"
    }
   ],
   "source": [
    "// draw a line on the map that is red\n",
    "val line = Line(width = 2) setColor \"red\"\n",
    "\n",
    "// construct the map Series. It is an XY chart as it takes in a List of Longitude and Latitude\n",
    "val series = Map(List(40.7127, 51.5072), List(-74.0059, 0.1275)) drawSymbol LINES drawLine line\n",
    "\n",
    "// These are options that further specify the options for the map\n",
    "val geo = MapOptions(landcolor = \"rgb(204, 204, 204)\", lakecolor = \"rgb(255, 255, 255)\")\n",
    "              .setMapAxes(LatAxis(List(20, 60)), LongAxis(List(-100, 20)))\n",
    "\n",
    "val chart = (\n",
    "    Chart() \n",
    "    addSeries series \n",
    "    setConfig(false, false)\n",
    "    setMapOptions geo\n",
    "    setMargin(l=0, r=0, t=0, b=0)\n",
    ")\n",
    "\n",
    "chart.plotInline"
   ]
  },
  {
   "cell_type": "markdown",
   "metadata": {},
   "source": [
    "### Animated Charts\n",
    "\n",
    "We can also create animated charts. This can be useful for tracking the evolution of a data over time.\n",
    "\n",
    "All `Series` types should be supported.\n",
    "\n",
    "#### 2D Animated Chart"
   ]
  },
  {
   "cell_type": "code",
   "execution_count": 40,
   "metadata": {},
   "outputs": [],
   "source": [
    "import org.carbonateresearch.picta.options.ColorOptions._\n",
    "\n",
    "// creates random XY for testing purposes\n",
    "def createXYSeries[T: Color]\n",
    "(numberToCreate: Int, count: Int = 0, length: Int = 10): List[XY[Int, Double, T, T]] = {\n",
    "    if (count == numberToCreate) Nil\n",
    "    else {\n",
    "      val xs = List.range(0, length)\n",
    "      val ys = xs.map(x => scala.util.Random.nextDouble() * x)\n",
    "      val series = XY(x = xs, y = ys, name = \"series \" + count).drawMarkers\n",
    "      series :: createXYSeries(numberToCreate, count + 1, length)\n",
    "    }\n",
    "}\n",
    "\n",
    "def createXYZSeries(numberToCreate: Int, count: Int = 0, length: Int = 10): List[XYZ[Int, Double, Double]] = {\n",
    "    if (count == numberToCreate) Nil\n",
    "    else {\n",
    "      val xs = List.range(0, length)\n",
    "      val ys = xs.map(x => scala.util.Random.nextDouble() * x)\n",
    "      val zs = xs.map(x => scala.util.Random.nextDouble() * x * scala.util.Random.nextInt())\n",
    "      val series = XYZ(x = xs, y = ys, z = zs, name = \"series \" + count, `type` = SCATTER3D).drawMarkers\n",
    "      series :: createXYZSeries(numberToCreate, count + 1, length)\n",
    "    }\n",
    "}"
   ]
  },
  {
   "cell_type": "code",
   "execution_count": 41,
   "metadata": {
    "scrolled": false
   },
   "outputs": [
    {
     "data": {
      "text/html": [
       "<div id=\"grid-container_hYEx719bz8\" class=\"grid-container\" align=\"center\"> \n",
       "<div id=\"grid_hYEx719bz8\" class=\"grid\" align=\"center\"> \n",
       "\n",
       "<div align=\"center\">\n",
       "  <div id=\"graph_bm9YUzNo6D\" class=\"graph\"></div>\n",
       "  <div class=\"animationInterface\">\n",
       "    <button id=\"play_bm9YUzNo6D\" class=\"picta-button\">Play</button>\n",
       "    <button id=\"pause_bm9YUzNo6D\" class=\"picta-button\">Pause</button>\n",
       "    <div id=\"sliderContainer_bm9YUzNo6D\" class=\"progressBar\"></div>\n",
       "    <div id=\"counterContainer_bm9YUzNo6D\" class=\"inline-div\">\n",
       "        <h3>Frame: </h3> <h3 id=\"value_bm9YUzNo6D\">0</h3>\n",
       "    </div>\n",
       "   </div>\n",
       "</div> \n",
       "\n",
       "</div> \n",
       "</div> \n",
       "<script>\n",
       "var masonry = new Macy({\n",
       "    container: '#grid_hYEx719bz8',\n",
       "    debug: true,\n",
       "    mobileFirst: true,\n",
       "    columns: 1,\n",
       "    margin: {\n",
       "        x: 0,\n",
       "        y: 0\n",
       "    }\n",
       "  });\n",
       "\n",
       "var graph_bm9YUzNo6D = document.getElementById('graph_bm9YUzNo6D')\n",
       "var traces_bm9YUzNo6D = [{\"name\":\"series 0\",\"type\":\"scatter\",\"mode\":\"markers\",\"x\":[0,1,2,3,4,5,6,7,8,9,10,11,12,13,14,15,16,17,18,19,20,21,22,23,24,25,26,27,28,29],\"y\":[0,0.5136206997791697,0.5686157001936978,0.44885789277447485,0.6303899023597199,3.133448673712895,0.4381298278875576,2.807656008798788,6.1469009790702955,3.0748233184992975,4.393219725098908,2.7572033319710543,8.517173407975807,9.435674854354911,8.988358550786488,13.291943752679353,1.1946231614187521,5.620429604039371,17.1600718092676,16.485694449705992,0.012055718309436081,1.4389777292005481,2.548749909839661,16.71463431539876,3.273787507638085,10.04099576574125,22.613099877037605,15.778828992992375,20.583899501022632,21.349103941328018]}]\n",
       "var layout_bm9YUzNo6D = {\"height\":550,\"width\":600,\"hovermode\":\"closest\",\"legend\":{\"orientation\":\"v\"},\"title\":{\"text\":\"Animation XY\"},\"showlegend\":true,\"xaxis\":{\"title\":{\"text\":\"X Variable\"},\"showgrid\":true,\"zeroline\":false,\"showline\":false,\"range\":[0,10]},\"yaxis\":{\"title\":{\"text\":\"Y Variable\"},\"showgrid\":true,\"zeroline\":false,\"showline\":false,\"range\":[0,10]}}\n",
       "var frames_bm9YUzNo6D = [{\"name\":\"series 0\",\"data\":[{\"name\":\"series 0\",\"type\":\"scatter\",\"mode\":\"markers\",\"x\":[0,1,2,3,4,5,6,7,8,9,10,11,12,13,14,15,16,17,18,19,20,21,22,23,24,25,26,27,28,29],\"y\":[0,0.5136206997791697,0.5686157001936978,0.44885789277447485,0.6303899023597199,3.133448673712895,0.4381298278875576,2.807656008798788,6.1469009790702955,3.0748233184992975,4.393219725098908,2.7572033319710543,8.517173407975807,9.435674854354911,8.988358550786488,13.291943752679353,1.1946231614187521,5.620429604039371,17.1600718092676,16.485694449705992,0.012055718309436081,1.4389777292005481,2.548749909839661,16.71463431539876,3.273787507638085,10.04099576574125,22.613099877037605,15.778828992992375,20.583899501022632,21.349103941328018]}]},{\"name\":\"series 1\",\"data\":[{\"name\":\"series 1\",\"type\":\"scatter\",\"mode\":\"markers\",\"x\":[0,1,2,3,4,5,6,7,8,9,10,11,12,13,14,15,16,17,18,19,20,21,22,23,24,25,26,27,28,29],\"y\":[0,0.7389218693645548,0.8479007722791974,2.357247775514841,1.8740733259860445,3.4035826522484323,3.745664828471945,0.45898668926057784,0.2617073538803565,4.80352685987914,7.998813826259808,6.7135844236273705,2.098736191941208,6.40578054715203,2.738575784651166,7.057416911321813,2.629487852159505,7.2976261555659,8.934722798755013,10.16403231750493,1.1746170108043241,9.909208163783351,19.439292005386598,17.299910618608664,9.931632171051781,0.8130464834708029,7.688657081916889,23.70633074379488,7.631449886241082,12.942215571922903]}]},{\"name\":\"series 2\",\"data\":[{\"name\":\"series 2\",\"type\":\"scatter\",\"mode\":\"markers\",\"x\":[0,1,2,3,4,5,6,7,8,9,10,11,12,13,14,15,16,17,18,19,20,21,22,23,24,25,26,27,28,29],\"y\":[0,0.46490627752178293,1.1469898273689045,0.3580087284029986,3.796801403191141,4.627654641220389,0.15438628735599802,5.875346165810436,7.276077136500313,1.380686789920626,1.8587368112561775,7.610557363087749,1.433766233100937,4.726114683157034,13.195441354585078,12.723389875593227,5.2216873633287975,8.97834307738543,15.562075095341724,6.501186231600129,7.632391598488601,0.5362814880576485,19.836356721612198,19.255655524350693,5.185745746997755,22.37776347295987,19.22207263933588,8.124233110291373,1.901871145408939,11.49054994254935]}]},{\"name\":\"series 3\",\"data\":[{\"name\":\"series 3\",\"type\":\"scatter\",\"mode\":\"markers\",\"x\":[0,1,2,3,4,5,6,7,8,9,10,11,12,13,14,15,16,17,18,19,20,21,22,23,24,25,26,27,28,29],\"y\":[0,0.4490513491967383,0.7769981418811005,1.2197447943862976,1.9912894209071257,4.0004393070723205,5.95052501802481,3.9425280581886173,1.3833117832913642,1.6994331145045773,4.3663920182775895,10.438774893151349,8.962979900709561,8.174574107561888,4.696404777876516,8.367768690476264,8.236382637113584,8.223011549298713,4.800926343258381,13.955920688941248,13.315371461210903,0.22496386691326486,5.226775136361166,6.3634649377448795,1.692777299829177,11.822597064944196,4.909896679604778,24.64862141484992,4.868376639653636,5.285275395730096]}]},{\"name\":\"series 4\",\"data\":[{\"name\":\"series 4\",\"type\":\"scatter\",\"mode\":\"markers\",\"x\":[0,1,2,3,4,5,6,7,8,9,10,11,12,13,14,15,16,17,18,19,20,21,22,23,24,25,26,27,28,29],\"y\":[0,0.4249531728143435,1.5458767395645576,0.09452683727557443,1.9136970590208193,3.8475901650748345,0.5179708376242167,2.104445309247706,0.01403843710448438,1.5627758130084768,9.268435660405398,8.604175405146709,6.822352476175586,4.2438718772449295,13.708855580951909,8.4042641475729,7.197622188621699,8.00975456434221,2.766042452928088,1.8752245192128778,5.665939962085272,8.671747461607819,16.225572768693922,14.875594838223247,18.248229137477345,5.036627221952203,15.56433068636803,9.582576917103967,21.632693889833654,15.120833702670652]}]},{\"name\":\"series 5\",\"data\":[{\"name\":\"series 5\",\"type\":\"scatter\",\"mode\":\"markers\",\"x\":[0,1,2,3,4,5,6,7,8,9,10,11,12,13,14,15,16,17,18,19,20,21,22,23,24,25,26,27,28,29],\"y\":[0,0.9070950345464966,0.193383042924268,1.8892183349948908,2.99344765808394,4.6181590413317775,0.3484205196673875,0.10966971476899434,0.2682808041722131,7.787915408359335,2.5545992691687514,9.099047124661109,5.4797260084566926,8.823356935391924,4.910155549174874,7.614421503770381,9.261604704028352,16.35901818654679,2.3914260923451796,0.3090341005412329,0.5161778682320128,0.09805423424076287,12.104929937269683,10.785485682972928,22.611395297489654,16.21242190114499,4.467160418275645,0.7510988741673364,12.363810323094164,16.456661215901846]}]},{\"name\":\"series 6\",\"data\":[{\"name\":\"series 6\",\"type\":\"scatter\",\"mode\":\"markers\",\"x\":[0,1,2,3,4,5,6,7,8,9,10,11,12,13,14,15,16,17,18,19,20,21,22,23,24,25,26,27,28,29],\"y\":[0,0.3939257298851042,0.5062789367770444,0.6267213749409528,2.2989827473164492,1.5573957848952098,0.6530375207945067,2.4546846123922967,4.084682787802775,0.7230805349307605,5.436113902365901,10.436141234705191,3.805870654799345,2.4799707514914706,9.608555962158915,10.657835074269672,8.07389720040065,14.35083754304672,5.552923348422357,11.760992024410609,4.944776245039972,6.389940440885322,19.082127292509615,10.44603421138318,4.91594430027023,18.375512177377626,13.805118904145102,5.69012455533359,22.585841371958434,12.307741331512297]}]},{\"name\":\"series 7\",\"data\":[{\"name\":\"series 7\",\"type\":\"scatter\",\"mode\":\"markers\",\"x\":[0,1,2,3,4,5,6,7,8,9,10,11,12,13,14,15,16,17,18,19,20,21,22,23,24,25,26,27,28,29],\"y\":[0,0.19474809943936133,0.02805454261248963,0.20553328446854968,1.5763163559718096,2.4848992524272964,0.9450642842030412,0.6642489154071352,2.6228314889811566,4.385211016400999,3.0390049689176504,9.261401184821365,1.8199552236259002,12.363781607463178,10.51500600683271,11.682112951273336,2.357194986574086,8.48638181606698,12.070987944836727,16.14636929053309,17.6220662134043,19.331388302273023,13.700391814556266,10.537514041855824,21.57958743700236,5.498489942802479,16.986139609552453,15.266287224136041,2.5391014473477886,5.3755643199637655]}]},{\"name\":\"series 8\",\"data\":[{\"name\":\"series 8\",\"type\":\"scatter\",\"mode\":\"markers\",\"x\":[0,1,2,3,4,5,6,7,8,9,10,11,12,13,14,15,16,17,18,19,20,21,22,23,24,25,26,27,28,29],\"y\":[0,0.876642373179468,0.24306006928557378,1.3872507516783332,2.303193249947254,0.5257809406526848,2.4247573658265265,1.9549115482637058,5.214056513844075,7.803025178685942,9.147799428678248,1.7760852271313303,5.056700363704486,10.942023106415155,11.130291710033614,3.051045376480968,1.3327008494784263,7.7216541842311806,1.45876860883647,13.725746254138144,18.02553348772119,10.134686360754902,2.0624182194294605,9.450955735570306,1.932527665804507,16.902557531490377,25.781857970732567,11.447040065973637,3.539012342878837,19.742444627112217]}]},{\"name\":\"series 9\",\"data\":[{\"name\":\"series 9\",\"type\":\"scatter\",\"mode\":\"markers\",\"x\":[0,1,2,3,4,5,6,7,8,9,10,11,12,13,14,15,16,17,18,19,20,21,22,23,24,25,26,27,28,29],\"y\":[0,0.19157582655461947,1.840155766051668,0.9380142054258319,1.1179831147683106,0.6463426882254475,3.258420404909158,3.4511795955465407,0.005641802298287146,7.51738832886222,9.616100855155532,10.621722827386748,8.459089347429273,10.516981470323621,0.5956286732066141,3.800198601112865,2.1524923533613816,3.4540938945731523,0.24621514615867746,3.4077834190801077,15.82768792986106,13.239930082144614,8.899689008846618,15.574181857245764,5.073533532274451,14.644707616366437,18.39571716724533,14.718412129271483,2.2375572640885437,17.88231748658025]}]},{\"name\":\"series 10\",\"data\":[{\"name\":\"series 10\",\"type\":\"scatter\",\"mode\":\"markers\",\"x\":[0,1,2,3,4,5,6,7,8,9,10,11,12,13,14,15,16,17,18,19,20,21,22,23,24,25,26,27,28,29],\"y\":[0,0.262890265623796,1.147813462373724,2.9289662372237686,1.655550287551196,4.8966563217399575,0.5955264891978649,0.9016760484450445,6.465898142195494,2.769148434444114,1.547841619027296,1.5268614810938064,5.855568732778873,8.031075568118048,5.593890845724395,10.158206700294272,7.577917706868146,1.7498103526926996,2.2651556949064995,1.889661458846188,17.55536318799058,0.3578131191735937,5.440545868749137,18.69868830442441,12.882977727385047,3.1689946710138335,15.618644715472854,25.390858042537133,10.666485534529308,17.52944677027634]}]},{\"name\":\"series 11\",\"data\":[{\"name\":\"series 11\",\"type\":\"scatter\",\"mode\":\"markers\",\"x\":[0,1,2,3,4,5,6,7,8,9,10,11,12,13,14,15,16,17,18,19,20,21,22,23,24,25,26,27,28,29],\"y\":[0,0.10580345079787923,0.5517269655627586,0.8983516742630105,1.4561439376101029,0.12308252164293487,0.5115738566769419,3.9769568707054637,0.490818382719973,4.1478332170461005,0.02528893332253923,6.801498456592104,10.195969746708833,0.40253656783791436,10.890548279800525,9.424256028632636,5.695765178200478,4.747226662589188,5.909655953696616,14.03085731834574,16.81392849298044,8.99389523351903,7.891473568658211,8.774010118035743,22.447483887532954,5.385243122803391,1.1995797300539375,8.526750765971547,17.187641854587877,7.753978325078852]}]},{\"name\":\"series 12\",\"data\":[{\"name\":\"series 12\",\"type\":\"scatter\",\"mode\":\"markers\",\"x\":[0,1,2,3,4,5,6,7,8,9,10,11,12,13,14,15,16,17,18,19,20,21,22,23,24,25,26,27,28,29],\"y\":[0,0.15907330990405266,1.0968663174109825,1.6077731744829504,0.14925918658066006,0.8937320701701906,3.0052585131959537,2.9392693163799986,3.0898819206005443,5.32129001273876,6.839372841275463,3.6651290851262415,10.37007015293475,8.384633795828146,1.2567544241515436,9.64328636667425,6.785299305194094,5.408298716758759,11.29544495698996,1.8644081691906496,19.16855270102996,11.543661629507358,11.840792004126323,2.2554112195217844,10.779314261235871,13.482148337291955,25.01402877157649,10.953220350326992,15.83359132339341,23.25301961427973]}]},{\"name\":\"series 13\",\"data\":[{\"name\":\"series 13\",\"type\":\"scatter\",\"mode\":\"markers\",\"x\":[0,1,2,3,4,5,6,7,8,9,10,11,12,13,14,15,16,17,18,19,20,21,22,23,24,25,26,27,28,29],\"y\":[0,0.20459263511438297,0.4467425504082736,1.0293337683990849,1.431326471592814,3.5856133676803292,5.128890456830574,3.7408284077523355,1.5368079123128364,8.589334325198221,6.530597098325237,0.0822783738079903,9.003573052515975,7.189631367787891,11.99181347698168,2.4864719611271973,2.550885639489371,1.1668597214703946,3.8556776212206483,13.547241167219882,5.0721046222562,11.357983375378746,2.9595657232595927,21.56979075808702,23.6688155427885,15.62257487629296,17.241993905778344,9.731778451966507,11.393394093763632,2.6328042019390816]}]},{\"name\":\"series 14\",\"data\":[{\"name\":\"series 14\",\"type\":\"scatter\",\"mode\":\"markers\",\"x\":[0,1,2,3,4,5,6,7,8,9,10,11,12,13,14,15,16,17,18,19,20,21,22,23,24,25,26,27,28,29],\"y\":[0,0.7478225101385083,1.8003923346745196,0.09906071513547765,1.2704115423132603,2.1670350589955363,3.6090740859746715,4.93018270068629,1.333496194321138,3.060998514230223,9.084480316442546,5.383161301070745,5.317478378187414,1.2767738472280814,11.009622742774184,2.5324021746256347,0.5824359300438697,2.9600841369949302,2.370327475213497,5.473311928100048,10.607527024604146,20.616982181107723,17.595094788128257,3.278229091954512,23.438500973605027,13.37970309158104,0.8423819611459973,16.684993916052846,13.948821627450263,9.258216984190472]}]},{\"name\":\"series 15\",\"data\":[{\"name\":\"series 15\",\"type\":\"scatter\",\"mode\":\"markers\",\"x\":[0,1,2,3,4,5,6,7,8,9,10,11,12,13,14,15,16,17,18,19,20,21,22,23,24,25,26,27,28,29],\"y\":[0,0.8834227953181041,0.5979458488118317,2.113354655682382,1.036745580233342,3.622947400400513,0.6451469391507758,2.890581080031131,4.109829276791593,1.1366302295514532,8.19765410749565,2.797764774915913,0.9601227569973814,7.3545417571821,1.706059634338093,8.901557063906852,12.614969343323592,6.147954179716318,3.094418789462172,14.934051259624262,12.541100700712768,7.132652221196441,21.968040563159114,2.871864392522319,3.5461512152229364,0.5108677414897511,3.503577327548345,18.227108639473304,11.922878008311105,14.929233425694331]}]},{\"name\":\"series 16\",\"data\":[{\"name\":\"series 16\",\"type\":\"scatter\",\"mode\":\"markers\",\"x\":[0,1,2,3,4,5,6,7,8,9,10,11,12,13,14,15,16,17,18,19,20,21,22,23,24,25,26,27,28,29],\"y\":[0,0.7453629995169831,1.1930612289224145,0.95561487318865,0.5662726299777843,3.2113690895637474,5.586560057593475,1.6802263751751494,0.30128803486453926,7.05885140352543,1.3366931075979727,8.413381028281432,4.500734651664076,2.7961367048708015,0.5953324229080588,3.9612245948035003,11.194758646846555,0.8107568050914782,3.6061911102688686,11.151930026334794,2.218994309017621,8.339543639770607,18.091534263767528,17.096710306542466,9.310091408245569,22.822966551790586,13.922068329118485,15.609687075228882,6.154963731651566,3.2300491252053902]}]},{\"name\":\"series 17\",\"data\":[{\"name\":\"series 17\",\"type\":\"scatter\",\"mode\":\"markers\",\"x\":[0,1,2,3,4,5,6,7,8,9,10,11,12,13,14,15,16,17,18,19,20,21,22,23,24,25,26,27,28,29],\"y\":[0,0.5667338368645288,0.9181970927658287,0.9741432422383833,0.14439556073905857,0.5998199901520446,5.924418929356971,1.6377862538559285,1.6182290547235407,0.690626495869865,7.392476860289026,6.965710131025684,5.645970881267161,4.990340417776702,9.287959241655663,4.268653278662154,3.7385166548234885,5.359186412207247,16.53895122375528,8.854986489141776,2.827357131312853,20.28799719543976,8.782303294548141,2.0741125913964904,17.02598409402319,4.335222035955066,19.76953147785662,2.0281244571886226,23.717842343724232,13.328375260628583]}]},{\"name\":\"series 18\",\"data\":[{\"name\":\"series 18\",\"type\":\"scatter\",\"mode\":\"markers\",\"x\":[0,1,2,3,4,5,6,7,8,9,10,11,12,13,14,15,16,17,18,19,20,21,22,23,24,25,26,27,28,29],\"y\":[0,0.988345101345775,0.868604427221884,0.22254898900425468,0.6151345165800781,4.2525598357888015,4.430129415377506,5.019068567183682,0.32803586251298267,3.4791023799360605,8.973156690715804,0.7325527290740352,3.655730413048596,12.246232564812281,12.857464113014993,12.126318140066788,9.459428239799491,12.648142611680584,11.507420843611452,8.751118687373632,11.808017838413818,3.782200600803829,19.438855026345543,21.343962726321674,3.5595184576567247,7.302208810784541,15.704023651539007,10.296135290096885,24.35545953142286,21.393662199288983]}]},{\"name\":\"series 19\",\"data\":[{\"name\":\"series 19\",\"type\":\"scatter\",\"mode\":\"markers\",\"x\":[0,1,2,3,4,5,6,7,8,9,10,11,12,13,14,15,16,17,18,19,20,21,22,23,24,25,26,27,28,29],\"y\":[0,0.7532767339633223,1.5037546016972863,0.18089809983124505,3.780889799310435,4.360145072668441,1.6851277680725996,1.569499038379671,5.471965600414143,0.09959167048084061,6.007135430820462,0.26036494678872557,0.15334481292205293,5.510226075622075,11.36448238897573,2.294651922187374,14.745231743240792,4.31567023521401,3.52711594016642,8.32720113133511,9.797125238988539,1.309133659882529,3.9853566353626526,22.400268254115087,13.906684367451232,2.517108720735248,4.006940603210879,18.392411271303718,25.325097719299556,10.69012983307928]}]},{\"name\":\"series 20\",\"data\":[{\"name\":\"series 20\",\"type\":\"scatter\",\"mode\":\"markers\",\"x\":[0,1,2,3,4,5,6,7,8,9,10,11,12,13,14,15,16,17,18,19,20,21,22,23,24,25,26,27,28,29],\"y\":[0,0.11251124745961627,1.0001315078189825,1.3386524488796243,2.4013243352276548,0.8069002783652457,5.925873539337663,0.45473375624348367,7.465207562669828,6.358551387501074,1.9161278652694724,4.314241516577601,3.6222076284448033,1.5298662694561966,8.414449396539926,0.6450437696420996,1.5745912783539548,16.69402219619306,16.00881945024698,17.194160118453492,19.03983698216787,7.784392394587989,4.543512121142589,22.17169143773655,15.611366075571897,11.50126976744902,6.222224066126488,12.228740874462247,7.412058732288373,9.991382660027668]}]},{\"name\":\"series 21\",\"data\":[{\"name\":\"series 21\",\"type\":\"scatter\",\"mode\":\"markers\",\"x\":[0,1,2,3,4,5,6,7,8,9,10,11,12,13,14,15,16,17,18,19,20,21,22,23,24,25,26,27,28,29],\"y\":[0,0.8096568346820407,1.8451118040386143,1.30600621819373,3.805464979240824,0.6408252169087708,4.739753565576103,6.476801262767338,7.089244295991337,0.1154990956531099,2.0833749588133843,4.601016038213467,0.24277378997533194,0.0751279851222465,8.538307395430312,14.580556253266014,14.464304055013274,0.7911552300846615,14.16332155485971,9.157604203557728,7.224956876572836,15.64403703217716,7.1761792090730205,12.59716122304198,14.342198350909204,15.014742227090172,13.969395783072791,19.04750453093603,26.852465226596536,19.88796425946283]}]},{\"name\":\"series 22\",\"data\":[{\"name\":\"series 22\",\"type\":\"scatter\",\"mode\":\"markers\",\"x\":[0,1,2,3,4,5,6,7,8,9,10,11,12,13,14,15,16,17,18,19,20,21,22,23,24,25,26,27,28,29],\"y\":[0,0.1849850731341055,0.06498289702696103,2.17367481497815,3.7153634782806377,0.7725302958774338,5.25865775364025,6.619620322665287,7.562887018718911,6.793754623154676,0.44319533224474905,6.226077363925583,5.049827306175837,1.1906241573206602,10.105876895133138,4.035477569168177,9.017107743760585,12.808173933856272,13.26691399165614,11.075260462803527,11.161288889846597,7.4819648584443845,9.279727321247123,14.598336365461892,14.005405377981965,1.8414715076809085,7.9229409204462735,9.697090278648803,8.314667314066119,3.119227026924559]}]},{\"name\":\"series 23\",\"data\":[{\"name\":\"series 23\",\"type\":\"scatter\",\"mode\":\"markers\",\"x\":[0,1,2,3,4,5,6,7,8,9,10,11,12,13,14,15,16,17,18,19,20,21,22,23,24,25,26,27,28,29],\"y\":[0,0.8743441393148347,0.8267151556515329,1.7357664903619803,1.5964727621616532,2.0102170147939487,2.082332052040921,2.5852303658797373,3.9301385356295127,7.255275763464423,4.858795932407691,0.4632152733754983,6.191725550106469,7.159256332454251,7.8911506890863095,1.0599804719038146,3.903576952333598,10.840708035104084,13.826924830591095,5.2060979296584735,2.451917762445357,18.360623037924825,14.877376894706655,12.011799931450378,8.781200860405283,16.044395247377892,21.91632574036217,13.378159211953399,13.97950762914285,5.47997563918278]}]},{\"name\":\"series 24\",\"data\":[{\"name\":\"series 24\",\"type\":\"scatter\",\"mode\":\"markers\",\"x\":[0,1,2,3,4,5,6,7,8,9,10,11,12,13,14,15,16,17,18,19,20,21,22,23,24,25,26,27,28,29],\"y\":[0,0.5201319768321129,1.0073596606848036,1.0774308012626062,0.8906775455004547,1.408553016589461,3.104069254995528,4.005867480943427,1.0621575994080414,4.666673888167032,6.482890626340262,9.15254507599317,9.675172454912374,8.289253424791426,11.571410706999236,7.565891731524366,0.3274821657731266,9.56872421646339,14.07900012671504,11.828722465359597,12.770709249157477,0.49691398144573407,3.829517617391585,11.835306754564582,18.316621926788713,23.116472224879754,15.95254033615688,16.72659000784124,10.714136955744614,11.526005259614918]}]},{\"name\":\"series 25\",\"data\":[{\"name\":\"series 25\",\"type\":\"scatter\",\"mode\":\"markers\",\"x\":[0,1,2,3,4,5,6,7,8,9,10,11,12,13,14,15,16,17,18,19,20,21,22,23,24,25,26,27,28,29],\"y\":[0,0.4619636725715338,1.2200925154598468,1.8880294118564938,1.9815890597617076,4.4394978557496465,0.9939631312126407,4.118031565314067,2.644841245116327,7.467075693991527,5.801201005636306,3.506599422586217,10.517705668572177,0.8440194079210067,9.902693386958456,8.557589080469214,0.7076426109455642,11.238044682451697,9.492640931705573,2.653408666555792,17.651545576547377,1.179423883429894,19.632007225396926,10.400704891210296,5.510879545526465,0.4246251075964741,21.391067501143926,16.17827216038346,24.50557421598586,1.0482881373862836]}]},{\"name\":\"series 26\",\"data\":[{\"name\":\"series 26\",\"type\":\"scatter\",\"mode\":\"markers\",\"x\":[0,1,2,3,4,5,6,7,8,9,10,11,12,13,14,15,16,17,18,19,20,21,22,23,24,25,26,27,28,29],\"y\":[0,0.2458557059441071,1.2239223544288955,0.24922865384315074,0.7546664375255476,2.8985155507444498,0.5131861543663199,0.04943196326460397,4.995743649594231,6.633585428581424,6.677124824320982,3.3644451668855426,5.654671160551054,12.391386467074108,9.398905871799826,6.2926679031278105,1.2263512626523312,0.3053441268026015,1.8263370917721438,3.546336636812969,7.69722825057258,10.239099206770604,17.47864499929736,14.013445595990131,7.03888980548349,12.540054448664813,6.134001764357761,16.52781572326781,14.42358502239258,28.592392754692035]}]},{\"name\":\"series 27\",\"data\":[{\"name\":\"series 27\",\"type\":\"scatter\",\"mode\":\"markers\",\"x\":[0,1,2,3,4,5,6,7,8,9,10,11,12,13,14,15,16,17,18,19,20,21,22,23,24,25,26,27,28,29],\"y\":[0,0.05396854086738334,1.595623382990915,1.4514081137351726,1.1508758465929283,4.25287485065004,0.6861661570957054,5.950320505777895,7.682008696926077,6.330794634173426,4.92523961974566,6.256761744193241,9.019790240133677,7.70124136489471,6.65822163112133,7.645242634389276,0.5605324446107218,15.093597138156435,14.744756517036786,9.977514160880908,7.321111009103416,13.951522187846548,20.2346956686106,9.4126908047664,1.7479852819581794,13.940103741555415,16.745853722314642,10.481774725648462,10.695050454249,8.578928863464423]}]},{\"name\":\"series 28\",\"data\":[{\"name\":\"series 28\",\"type\":\"scatter\",\"mode\":\"markers\",\"x\":[0,1,2,3,4,5,6,7,8,9,10,11,12,13,14,15,16,17,18,19,20,21,22,23,24,25,26,27,28,29],\"y\":[0,0.4928588891065637,0.9470054324214949,2.5749903247003374,1.1133469733371038,4.379447395750876,0.6519983792444504,0.465002520049023,1.8275288898063993,3.4155501535425303,5.064148744246984,3.252859564157516,3.5126423469579664,5.635457592250805,13.416976342469297,13.70611697245412,12.792513527493881,11.383110901729406,4.793007647902185,18.87502922991029,0.757405845245136,9.970156767898317,10.175927902263515,19.09028247348533,4.730381504830048,1.8579416354613771,11.200205036633562,21.554565749945688,0.8336856484529589,18.41534825222649]}]},{\"name\":\"series 29\",\"data\":[{\"name\":\"series 29\",\"type\":\"scatter\",\"mode\":\"markers\",\"x\":[0,1,2,3,4,5,6,7,8,9,10,11,12,13,14,15,16,17,18,19,20,21,22,23,24,25,26,27,28,29],\"y\":[0,0.12683665033079328,0.2363862687711209,0.9277070118764449,2.6707381197662934,1.1840224215062345,3.6640289682596183,0.720643899069246,0.7104646500661289,3.5698970247664112,5.601495263876181,10.37843207653294,9.469275031785708,7.490866521206763,7.638004349656672,5.214824117536963,13.208295665235596,9.350057494595811,1.5407500088629063,12.275295465469776,0.010260239189960885,10.39849845813379,10.219921961209913,18.5603036768327,8.243211410368637,13.935236585670344,25.533517785259356,14.052231699217943,23.582056728880104,3.3842378641511313]}]},{\"name\":\"series 30\",\"data\":[{\"name\":\"series 30\",\"type\":\"scatter\",\"mode\":\"markers\",\"x\":[0,1,2,3,4,5,6,7,8,9,10,11,12,13,14,15,16,17,18,19,20,21,22,23,24,25,26,27,28,29],\"y\":[0,0.353809414902006,1.2270462928716885,2.324550925837179,2.4051892306534803,2.345971558390816,4.0256664303935334,2.857906260524711,1.6443755934698547,5.460969957809419,1.995498929453683,10.798375184355011,4.962888474422324,10.135781491961511,10.908445142807379,3.0354976477743345,6.198099543047146,6.824891903837999,5.604507602226028,9.687545367574732,11.239177683155678,7.823805314403776,10.997324135344297,7.85826727439357,3.3672585197900773,24.722584210363397,15.877428988356694,2.5291706059654353,26.652204961349252,11.725031227386358]}]},{\"name\":\"series 31\",\"data\":[{\"name\":\"series 31\",\"type\":\"scatter\",\"mode\":\"markers\",\"x\":[0,1,2,3,4,5,6,7,8,9,10,11,12,13,14,15,16,17,18,19,20,21,22,23,24,25,26,27,28,29],\"y\":[0,0.7027217432815692,1.7332213764351678,2.332457957713385,1.9707240220450832,1.5913312790124805,0.9657058709427322,1.1560686362872978,6.965352267065626,0.9182214951598442,7.171671220478966,7.533287462107384,9.791856614317453,10.356351875256605,9.863862265018623,6.959185670204479,13.292384872176502,5.751568273027257,7.891250251383308,7.904910812726475,6.068658567166796,9.521939605907987,9.720557575292531,21.65041885189501,4.638402716513082,21.87996067683091,9.004879165365272,6.332574371395516,2.4241445107945068,15.793487150847785]}]},{\"name\":\"series 32\",\"data\":[{\"name\":\"series 32\",\"type\":\"scatter\",\"mode\":\"markers\",\"x\":[0,1,2,3,4,5,6,7,8,9,10,11,12,13,14,15,16,17,18,19,20,21,22,23,24,25,26,27,28,29],\"y\":[0,0.002519230264599215,0.7802809852489188,2.752990879251629,2.351172208410749,0.2110762027554708,0.6986654334217546,2.044433380019191,4.846487660513541,2.8017331561917933,1.8476648351981884,9.755506085588815,1.1864775141771635,10.855655490664006,5.784774610056857,3.9276237430754786,8.762118474102255,0.6189053900219106,7.360238651632276,10.38594052768896,18.420125571362053,17.864413413766258,8.302694167059984,19.895081424090723,13.75060583538453,7.296462719857383,12.125403472548381,7.718418183275625,21.96789886792452,28.256860859706535]}]},{\"name\":\"series 33\",\"data\":[{\"name\":\"series 33\",\"type\":\"scatter\",\"mode\":\"markers\",\"x\":[0,1,2,3,4,5,6,7,8,9,10,11,12,13,14,15,16,17,18,19,20,21,22,23,24,25,26,27,28,29],\"y\":[0,0.610028200394502,1.4733498574808834,1.3879433370283776,0.804022350896052,1.5534939975272515,0.7219273682882068,1.5378357130827585,1.137626896279123,8.870792698109609,2.974553846373947,3.928010685574813,11.720463919148337,9.752695678464388,12.723302497302,5.25635694143231,8.20038940076889,1.7508744601584452,1.672091873802596,7.1694985341992945,1.3387861415168945,19.524652199134515,0.6125057743794768,22.08099328150988,19.339536854663592,11.901109702481701,8.757398457372341,4.0343150244080235,19.646941792392873,9.154767150363394]}]},{\"name\":\"series 34\",\"data\":[{\"name\":\"series 34\",\"type\":\"scatter\",\"mode\":\"markers\",\"x\":[0,1,2,3,4,5,6,7,8,9,10,11,12,13,14,15,16,17,18,19,20,21,22,23,24,25,26,27,28,29],\"y\":[0,0.5751556221902517,0.4697121271422646,1.7074716752710561,3.4944916028106086,1.520949767323606,2.215222687491368,6.198532379050673,2.8653686124489317,5.394178521174814,5.223966141614891,10.897679466316175,2.0975724481489175,4.558970396222849,3.0877504239165865,13.907780920254929,13.84923588846171,2.7856413515751437,15.801626912960616,8.770895366851219,12.259105154764365,17.49715888912022,14.832128885610459,11.999266243310585,12.960017448965207,5.034804350720695,21.24063531114562,25.324503009010826,22.353752994468284,6.190625102830522]}]},{\"name\":\"series 35\",\"data\":[{\"name\":\"series 35\",\"type\":\"scatter\",\"mode\":\"markers\",\"x\":[0,1,2,3,4,5,6,7,8,9,10,11,12,13,14,15,16,17,18,19,20,21,22,23,24,25,26,27,28,29],\"y\":[0,0.2126681446458215,0.20559421543503031,0.9288312757264406,1.1864190350895862,2.5796516715434525,0.07879810490713735,1.1867572535853477,3.6836024319462073,5.5517595494021075,1.8659428076024986,2.42677578734737,10.659589025293654,12.98757398817954,0.39901193327474926,3.7871332715201973,14.656287423264933,16.65568378455619,11.770555415029982,17.914190798480256,19.23955671473443,5.364026868299748,18.47649163552642,2.128776593022386,21.441847468656775,23.242440275477378,18.074836455316728,24.079778833875295,2.8989801870435605,21.602334206869973]}]},{\"name\":\"series 36\",\"data\":[{\"name\":\"series 36\",\"type\":\"scatter\",\"mode\":\"markers\",\"x\":[0,1,2,3,4,5,6,7,8,9,10,11,12,13,14,15,16,17,18,19,20,21,22,23,24,25,26,27,28,29],\"y\":[0,0.5961692756296848,1.1268075755744904,2.804913295503566,2.4647594330089206,2.880859370958175,1.430313504020796,5.9105969803738585,2.5712406935174172,7.424584246373533,1.664407260490507,2.389835029191293,5.703387790380948,8.516206480757525,2.5733639906034305,12.757259626657085,0.40625915271001034,8.474623582915372,13.562688100719498,2.389354440743819,19.607302007298998,9.11829954625532,13.260218023378446,18.13781847828219,13.245686493668291,7.802714965376392,23.617623089455684,6.092710474188754,8.564359578552736,3.3515607430657655]}]},{\"name\":\"series 37\",\"data\":[{\"name\":\"series 37\",\"type\":\"scatter\",\"mode\":\"markers\",\"x\":[0,1,2,3,4,5,6,7,8,9,10,11,12,13,14,15,16,17,18,19,20,21,22,23,24,25,26,27,28,29],\"y\":[0,0.4067983542103317,0.27344703211708143,1.5325367425026675,3.197378500122714,3.0247679685835447,4.439264749599539,2.5809366260629925,2.439068728533642,8.855436150477203,3.9817548847258752,4.527137623444635,1.8886810231960056,1.9952965508030802,4.501428833000746,0.5823547791514111,8.788006696364311,14.121135032383268,8.691707821246885,15.4660340317737,0.5809751953671483,17.180082457633056,19.33582034976614,1.3517774289314701,23.266914623086166,15.304907144993082,10.679288895459717,13.30130712230273,11.238331111861214,2.548499770529894]}]},{\"name\":\"series 38\",\"data\":[{\"name\":\"series 38\",\"type\":\"scatter\",\"mode\":\"markers\",\"x\":[0,1,2,3,4,5,6,7,8,9,10,11,12,13,14,15,16,17,18,19,20,21,22,23,24,25,26,27,28,29],\"y\":[0,0.881037549163021,0.7983413450756136,2.6159690857105606,1.6179391479600516,1.0523650175849393,0.27984086223865323,1.4930944487187996,5.914602350268815,8.966111716700572,6.391030903635673,4.233611986957196,2.863573667105778,12.30182112525684,2.5840063946731844,13.698652119854529,8.69444177363531,6.026525449746879,8.192431912313351,4.158744232924343,17.866815627623694,5.813013996501741,17.81060467322884,13.197032691001946,6.399272709521514,18.90456741128046,19.737976778006225,17.131114298363983,1.3470909038420587,3.045072832512317]}]},{\"name\":\"series 39\",\"data\":[{\"name\":\"series 39\",\"type\":\"scatter\",\"mode\":\"markers\",\"x\":[0,1,2,3,4,5,6,7,8,9,10,11,12,13,14,15,16,17,18,19,20,21,22,23,24,25,26,27,28,29],\"y\":[0,0.1926238960780231,0.9529392104642544,1.5846676566783937,0.7808237801893774,1.0010940212340387,1.2032465901825653,1.2330400748574313,0.18031737132068404,5.158021862656762,6.347022905262339,0.5793654005791695,7.243880832623091,9.796315352824108,6.234530695446345,1.0936606037317431,6.925715707084112,8.869689678738707,7.612085903489001,18.31027784455054,1.7195750286986033,1.8065272428847599,4.369129072918345,14.510574693511035,8.344963868758006,1.3259946865578436,19.486119567181746,2.1480855005323334,17.999992696171308,13.957762535341956]}]},{\"name\":\"series 40\",\"data\":[{\"name\":\"series 40\",\"type\":\"scatter\",\"mode\":\"markers\",\"x\":[0,1,2,3,4,5,6,7,8,9,10,11,12,13,14,15,16,17,18,19,20,21,22,23,24,25,26,27,28,29],\"y\":[0,0.9660855229186285,1.3172413715726468,2.5671197195990807,0.3946684408278007,1.9292416818553881,3.6494853519999,3.398055181673209,7.979414338421503,5.000117125843221,9.313568144733761,5.764283415160093,1.5785391702644094,8.274910131899631,4.928762522839108,8.068136328592734,11.041332639546972,1.0699492507692674,2.2185696036371674,5.858006152943967,13.981906841540635,8.17098002257703,21.429682964015463,7.873788594612594,7.542277758306825,21.245112198244932,19.420333419782004,10.48735314578533,18.976567728372938,15.667276921869288]}]},{\"name\":\"series 41\",\"data\":[{\"name\":\"series 41\",\"type\":\"scatter\",\"mode\":\"markers\",\"x\":[0,1,2,3,4,5,6,7,8,9,10,11,12,13,14,15,16,17,18,19,20,21,22,23,24,25,26,27,28,29],\"y\":[0,0.10639381468027587,0.6154611275591437,1.0944047770400553,2.312094985990194,4.62053264963483,1.72353113160575,4.750245639174496,0.2822205738344188,0.2579312281300288,0.9745289589230688,9.366555532434404,3.0541039641348644,5.021772974355393,11.219899093760123,12.310208875104346,10.399883887860623,11.262934704364433,7.666797372570207,1.2666126798559865,7.308903296496771,19.382754889221506,17.84990548540166,7.974081352392165,21.19907187063268,0.8828824260477847,23.508937637899006,25.65415037517816,24.545320558225896,22.153278359440165]}]},{\"name\":\"series 42\",\"data\":[{\"name\":\"series 42\",\"type\":\"scatter\",\"mode\":\"markers\",\"x\":[0,1,2,3,4,5,6,7,8,9,10,11,12,13,14,15,16,17,18,19,20,21,22,23,24,25,26,27,28,29],\"y\":[0,0.2025610925793444,1.3482625534043429,1.9553271965858374,1.3060277815378076,2.1902906347875333,5.945066411257319,6.422967160125901,2.0082170676697118,6.159462468837373,6.40493820332959,8.369019658795233,6.385456445804124,11.183673345569648,11.067767132488184,9.973320104809535,8.201527589588911,6.324710681591281,17.03958224709372,9.773930542000707,16.980065769909025,12.89628963628762,5.727244117145556,13.871612834156245,9.419077590593773,0.7021011586401643,24.514355266740818,24.23362097279671,11.336762037108283,1.5978033070071644]}]},{\"name\":\"series 43\",\"data\":[{\"name\":\"series 43\",\"type\":\"scatter\",\"mode\":\"markers\",\"x\":[0,1,2,3,4,5,6,7,8,9,10,11,12,13,14,15,16,17,18,19,20,21,22,23,24,25,26,27,28,29],\"y\":[0,0.24400425796064307,0.1563940741620684,1.5854079096338127,2.2014712713122395,2.790405833853813,5.044146312979745,5.577143371738944,3.881322634923765,3.781759954745118,7.325324901700919,1.5564235273714369,7.369187002604273,11.903079370217077,2.961545682080134,12.903818377771453,15.123781116412347,0.06168276602263589,1.9924353281111755,13.70530665782583,13.91886179768704,3.7380113130660124,2.429777008130549,8.418135272496249,6.061397848353272,17.248963288266545,0.3059218250281519,17.080341049400044,0.8721405606145973,4.191896905338236]}]},{\"name\":\"series 44\",\"data\":[{\"name\":\"series 44\",\"type\":\"scatter\",\"mode\":\"markers\",\"x\":[0,1,2,3,4,5,6,7,8,9,10,11,12,13,14,15,16,17,18,19,20,21,22,23,24,25,26,27,28,29],\"y\":[0,0.7078050056168272,1.7487553465109178,2.55855416074247,3.897217499222856,2.361803115554883,3.7231225926456153,6.474393619516376,3.092295688012843,3.6149408906048768,2.6284259521001108,7.94275156461653,10.51489362968216,11.776578916186246,9.535250158967136,14.285791414840599,5.181303354264342,0.854760540661843,4.88726884719984,7.395761140857679,6.987099396316059,3.838505646847679,20.413398461754824,21.17425871943194,18.680216207835386,2.8693382489512196,19.05999861489549,10.673303466902038,4.7149163508403955,4.339309845357791]}]},{\"name\":\"series 45\",\"data\":[{\"name\":\"series 45\",\"type\":\"scatter\",\"mode\":\"markers\",\"x\":[0,1,2,3,4,5,6,7,8,9,10,11,12,13,14,15,16,17,18,19,20,21,22,23,24,25,26,27,28,29],\"y\":[0,0.5226621780882367,1.2886113382988242,1.3048325706601065,0.18354920080865567,4.516573598584199,0.15003000140086376,5.780261260850773,6.959715468816357,1.0907723953929616,2.4194074290117786,7.585468918129667,10.404535316327516,9.240774646600899,4.853902653350025,12.876187087665906,13.76071023625482,12.391436129425157,17.72203670700658,4.525801193174922,5.192240924755557,12.716028682351944,1.5603102761877299,9.749325428495775,1.6750126379008812,23.196695546720022,14.29043062808702,0.9583642595654978,24.966534276302724,23.723863389839345]}]},{\"name\":\"series 46\",\"data\":[{\"name\":\"series 46\",\"type\":\"scatter\",\"mode\":\"markers\",\"x\":[0,1,2,3,4,5,6,7,8,9,10,11,12,13,14,15,16,17,18,19,20,21,22,23,24,25,26,27,28,29],\"y\":[0,0.3907701302436045,1.2117545800317944,1.8205744349678314,3.3560142768266505,2.8007502363711403,0.8087704204697304,4.032655103887444,7.102818169465076,7.308152029424962,1.8581229849275915,7.100824540863321,3.1602538987144753,12.339271919353159,2.2370779174668716,0.19936483085344237,11.147740302947657,1.0539224249458998,8.494478867699527,17.561795001342258,2.722463802495605,16.365601951707333,8.295051332818119,21.559180609878247,15.289988412135122,4.626906300336156,0.4586122039763061,7.801248400609776,5.936311752554061,5.41990879311807]}]},{\"name\":\"series 47\",\"data\":[{\"name\":\"series 47\",\"type\":\"scatter\",\"mode\":\"markers\",\"x\":[0,1,2,3,4,5,6,7,8,9,10,11,12,13,14,15,16,17,18,19,20,21,22,23,24,25,26,27,28,29],\"y\":[0,0.21085324198541677,0.8956129492554947,0.8162838041192292,2.19567450590829,1.7430487342506402,3.9314267169608,1.8725374352067732,2.5232812469898747,6.739390292819743,5.488335060403793,10.242272786485517,6.638434142801776,3.07493266640103,13.617806856992788,14.204320713370258,8.79188898240117,6.579686465907513,17.73964146847846,3.20920263566775,7.97630077922328,14.949262930386013,15.338295419697136,17.591731792465485,8.60832232694344,3.1220037513096766,15.84796854209285,6.73684014750557,12.804604362911261,6.7269335754269415]}]},{\"name\":\"series 48\",\"data\":[{\"name\":\"series 48\",\"type\":\"scatter\",\"mode\":\"markers\",\"x\":[0,1,2,3,4,5,6,7,8,9,10,11,12,13,14,15,16,17,18,19,20,21,22,23,24,25,26,27,28,29],\"y\":[0,0.26230893226861607,1.7230654718094887,1.4898643017169235,2.624283378332824,1.731849553158289,5.708765595118292,6.116190396809154,4.071689058938656,8.235147143087596,2.6814902760116888,0.8268235415144852,1.536408969473805,0.706140459869809,7.022262728745821,3.498099012120102,14.308562021094689,13.656400135898968,8.432820267937656,6.87867864805404,12.938094808847376,1.6372329869298694,13.041721883709352,15.684187895771736,23.090781999663857,11.511934316105213,19.41533780234653,15.32446563757461,19.058755808156253,19.220221833653305]}]},{\"name\":\"series 49\",\"data\":[{\"name\":\"series 49\",\"type\":\"scatter\",\"mode\":\"markers\",\"x\":[0,1,2,3,4,5,6,7,8,9,10,11,12,13,14,15,16,17,18,19,20,21,22,23,24,25,26,27,28,29],\"y\":[0,0.6093952847938422,0.6722596232324796,1.7720250581006665,0.8775331487512674,0.1761987177960972,1.8535510046818664,4.096958910779009,7.555701525526508,4.772520994923868,9.852586668778384,6.578982750372077,10.134894712073251,4.081126196161017,13.09422037370268,11.534001614845776,12.816526149427936,3.149683396494694,2.5508357909881414,2.251214923264652,2.011816105970945,2.776420335473198,13.36221574654421,19.360771933739322,20.03252728005547,0.3664219127168661,6.508233616489111,26.857110830975476,19.064906236836908,22.57201664326846]}]}]\n",
       "var labels_bm9YUzNo6D = [\"series 0\",\"series 1\",\"series 2\",\"series 3\",\"series 4\",\"series 5\",\"series 6\",\"series 7\",\"series 8\",\"series 9\",\"series 10\",\"series 11\",\"series 12\",\"series 13\",\"series 14\",\"series 15\",\"series 16\",\"series 17\",\"series 18\",\"series 19\",\"series 20\",\"series 21\",\"series 22\",\"series 23\",\"series 24\",\"series 25\",\"series 26\",\"series 27\",\"series 28\",\"series 29\",\"series 30\",\"series 31\",\"series 32\",\"series 33\",\"series 34\",\"series 35\",\"series 36\",\"series 37\",\"series 38\",\"series 39\",\"series 40\",\"series 41\",\"series 42\",\"series 43\",\"series 44\",\"series 45\",\"series 46\",\"series 47\",\"series 48\",\"series 49\"]\n",
       "var duration_bm9YUzNo6D = 100\n",
       "var config_bm9YUzNo6D = {\"responsive\":true,\"scrollZoom\":true,\"displaylogo\":false}\n",
       "\n",
       "var animation_settings_bm9YUzNo6D = {\n",
       "    mode: \"immediate\",\n",
       "    direction: {},\n",
       "    fromcurrent: true,\n",
       "    frame: [\n",
       "      {duration: duration_bm9YUzNo6D},\n",
       "      {duration: duration_bm9YUzNo6D},\n",
       "      {redraw: true}\n",
       "    ],\n",
       "    transition: [\n",
       "      {duration: duration_bm9YUzNo6D, easing: 'cubic-in-out'},\n",
       "      {duration: duration_bm9YUzNo6D, easing: 'cubic-in-out'},\n",
       "    ],\n",
       "    ordering: \"layout first\"\n",
       "}\n",
       "\n",
       "var slider_bm9YUzNo6D = document.createElement(\"input\")\n",
       "var play_bm9YUzNo6D = document.getElementById(\"play_bm9YUzNo6D\")\n",
       "var pause_bm9YUzNo6D = document.getElementById(\"pause_bm9YUzNo6D\")\n",
       "slider_bm9YUzNo6D.id = \"slider_bm9YUzNo6D\"\n",
       "slider_bm9YUzNo6D.type = \"range\"\n",
       "slider_bm9YUzNo6D.min = 0\n",
       "slider_bm9YUzNo6D.max = frames_bm9YUzNo6D.length - 1\n",
       "slider_bm9YUzNo6D.value = 0\n",
       "document.getElementById(\"sliderContainer_bm9YUzNo6D\").appendChild(slider_bm9YUzNo6D);\n",
       "\n",
       "Plotly.newPlot(graph_bm9YUzNo6D, traces_bm9YUzNo6D, layout_bm9YUzNo6D, config_bm9YUzNo6D)\n",
       ".then(function () { Plotly.addFrames(graph_bm9YUzNo6D, frames_bm9YUzNo6D) })\n",
       "\n",
       "var trigger_bm9YUzNo6D = true\n",
       "var reset_count_bm9YUzNo6D = false\n",
       "\n",
       "play_bm9YUzNo6D.addEventListener('click', function() {\n",
       "   trigger_bm9YUzNo6D = true\n",
       "   if (reset_count_bm9YUzNo6D) {\n",
       "      slider_bm9YUzNo6D.value = 0\n",
       "      reset_count_bm9YUzNo6D = false\n",
       "   }\n",
       "\n",
       "  const start_index = slider_bm9YUzNo6D.value == labels_bm9YUzNo6D.length - 1 ? 0 : slider_bm9YUzNo6D.value\n",
       "  const end_index = labels_bm9YUzNo6D.length\n",
       "  Plotly.animate(graph_bm9YUzNo6D, labels_bm9YUzNo6D.slice(start_index, end_index), animation_settings_bm9YUzNo6D)\n",
       "})\n",
       "\n",
       "pause_bm9YUzNo6D.addEventListener('click', function() {\n",
       "  Plotly.animate(graph_bm9YUzNo6D, [null], animation_settings_bm9YUzNo6D)\n",
       "})\n",
       "\n",
       "graph_bm9YUzNo6D.on('plotly_redraw', () => {\n",
       "   value_bm9YUzNo6D.innerHTML = slider_bm9YUzNo6D.value;\n",
       "   if (trigger_bm9YUzNo6D & !reset_count_bm9YUzNo6D) ++slider_bm9YUzNo6D.value\n",
       "   if (slider_bm9YUzNo6D.value == labels_bm9YUzNo6D.length - 1) reset_count_bm9YUzNo6D = true\n",
       "});\n",
       "\n",
       "slider_bm9YUzNo6D.oninput = function() {\n",
       "   Plotly.animate(graph_bm9YUzNo6D, frames_bm9YUzNo6D[this.value], animation_settings_bm9YUzNo6D)\n",
       "   trigger_bm9YUzNo6D = false\n",
       "   slider_bm9YUzNo6D.value = this.value\n",
       "   value_bm9YUzNo6D.innerHTML = this.value;\n",
       "   if (this.value == 0) reset_count_bm9YUzNo6D = false\n",
       "   if (this.value == labels_bm9YUzNo6D.length - 1) reset_count_bm9YUzNo6D = true\n",
       "   reset_count_bm9YUzNo6D = false\n",
       "}\n",
       "</script> \n"
      ]
     },
     "metadata": {},
     "output_type": "display_data"
    }
   ],
   "source": [
    "val xaxis = XAxis(title = \"X Variable\") setRange (0.0, 10.0)\n",
    "val yaxis = YAxis(title = \"Y Variable\") setRange (0.0, 10.0)\n",
    "\n",
    "// we can also specifiy the underlying layout directly - sometimes this can be useful\n",
    "val layout = ChartLayout(\"Animation XY\") setAxes(xaxis, yaxis)\n",
    "\n",
    "val series = createXYSeries(numberToCreate = 50, length = 30)\n",
    "\n",
    "val chart = Chart(animated = true, transition_duration=100) setChartLayout layout addSeries series\n",
    "\n",
    "chart.plotInline"
   ]
  },
  {
   "cell_type": "markdown",
   "metadata": {},
   "source": [
    "### 3D Animated Chart"
   ]
  },
  {
   "cell_type": "code",
   "execution_count": 42,
   "metadata": {},
   "outputs": [
    {
     "data": {
      "text/html": [
       "<div id=\"grid-container_UCwDxzjltJ\" class=\"grid-container\" align=\"center\"> \n",
       "<div id=\"grid_UCwDxzjltJ\" class=\"grid\" align=\"center\"> \n",
       "\n",
       "<div align=\"center\">\n",
       "  <div id=\"graph_AQTykjPY14\" class=\"graph\"></div>\n",
       "  <div class=\"animationInterface\">\n",
       "    <button id=\"play_AQTykjPY14\" class=\"picta-button\">Play</button>\n",
       "    <button id=\"pause_AQTykjPY14\" class=\"picta-button\">Pause</button>\n",
       "    <div id=\"sliderContainer_AQTykjPY14\" class=\"progressBar\"></div>\n",
       "    <div id=\"counterContainer_AQTykjPY14\" class=\"inline-div\">\n",
       "        <h3>Frame: </h3> <h3 id=\"value_AQTykjPY14\">0</h3>\n",
       "    </div>\n",
       "   </div>\n",
       "</div> \n",
       "\n",
       "</div> \n",
       "</div> \n",
       "<script>\n",
       "var masonry = new Macy({\n",
       "    container: '#grid_UCwDxzjltJ',\n",
       "    debug: true,\n",
       "    mobileFirst: true,\n",
       "    columns: 1,\n",
       "    margin: {\n",
       "        x: 0,\n",
       "        y: 0\n",
       "    }\n",
       "  });\n",
       "\n",
       "var graph_AQTykjPY14 = document.getElementById('graph_AQTykjPY14')\n",
       "var traces_AQTykjPY14 = [{\"name\":\"series 0\",\"type\":\"scatter3d\",\"mode\":\"markers\",\"x\":[0,1,2,3,4,5,6,7,8,9,10,11,12,13,14,15,16,17,18,19,20,21,22,23,24,25,26,27,28,29,30,31,32,33,34,35,36,37,38,39,40,41,42,43,44,45,46,47,48,49,50,51,52,53,54,55,56,57,58,59,60,61,62,63,64,65,66,67,68,69,70,71,72,73,74,75,76,77,78,79,80,81,82,83,84,85,86,87,88,89,90,91,92,93,94,95,96,97,98,99],\"y\":[0,0.3484863946279575,0.7172237396344858,2.091223553976393,2.6175155031374238,4.119722565740107,4.45676544970304,6.321024992353191,6.4458578843558785,2.6770425741457013,9.38223033200838,0.9641387388359294,10.510656787199828,1.28051531517402,2.547690045256209,12.91294953472629,9.124448040618033,4.348928118614225,6.046734422183892,16.05005516722119,5.369948398541067,20.61551025332934,19.11548908229291,17.88953663185267,21.313487813658938,6.760155468284138,22.63828918531409,21.984718096219577,14.174204713314953,20.88523788405266,19.92224119146982,19.227808815928476,9.167789547356318,14.227499360577012,3.805157948990518,8.866044716693624,1.9593670659670979,3.934041887386738,1.2072424998843911,8.793305980867776,37.84859179924459,11.82615797843199,9.380451355208994,25.695740639943242,40.22117077767739,0.08058677413724347,22.600689091810832,20.184587779968293,24.684797057272775,45.92381087711992,35.13683416478655,21.389259175136626,16.91393828275526,38.01116429469099,19.26714270070289,5.858725347946162,30.807034408876376,40.39886795347544,21.14773071004696,34.279404414480204,50.36138809424524,19.163580304357183,45.71969776974637,15.713082533570555,8.945467836568753,43.0306968595128,43.8209305797305,56.038849400380464,28.645413160498343,10.089425818870122,1.4957654366182838,33.29865954510277,33.33225184880491,23.049628220573105,52.42052985258695,28.94690013428576,37.28871278838295,15.782507823046638,24.635390009285302,42.84032516749442,27.89958302274771,25.334522617800324,45.64310683355274,11.425749581347608,5.297223377493331,7.46126256521712,48.653026176837045,77.23919510535339,9.214234810420432,85.24570928981953,58.56407722767075,61.77156193753045,36.878248807978366,60.792902373112014,30.443681249458585,9.232471792389104,14.839508218281598,79.58106489699776,47.02010963799561,21.0056474512667],\"z\":[0,9.591219680121012E7,2.0904648567521653E9,-1.7988076099898772E9,-5.588530951372792E8,-3.026783029537127E9,-4.947273606885446E8,-1.1672916789557714E9,-5.115827483835389E9,1.1631337773314133E9,9.916831786096682E9,-5.392752193081277E9,2.4331275592020288E9,-7.363254339680466E9,2.098373182852454E7,7.369272206207206E9,-4.076531509305421E8,1.119516626382259E9,-2.87295479275297E9,5.001378165841475E9,2.5982043460544994E8,-4.0432738104514995E9,1.7803950951478233E10,-2.663020596308507E8,1.2306939974240139E10,-1.0829396203602125E10,4.7972345025961914E10,-1.8489759505290565E10,5.868007165599253E9,2.8883065808909172E10,-7.433040289938258E9,-3.445506622181908E10,1.7453611014989273E10,-8.731590178166426E9,-1.4242596350888098E10,-1.6509485001210146E10,9.33646316585754E9,6.343500755868939E8,5.8458748691419014E10,4.5274989801526474E10,-3.192465474121823E9,-3.544955587500759E10,-2.833916436272097E9,-4.452454967023976E10,2.9333730890054183E9,2.948566623947316E10,6.31016487214304E10,1.0533921406129322E10,-2.3889703491380585E10,-2.8812883632764122E10,-7.354546003714567E9,-5.0342301970392784E10,6.189748497180741E9,2.686985556838061E10,7.745492409531587E9,1.2121347994499655E10,-7.200244439440834E10,-3.6071969176319405E10,-4.285268018728579E10,5.1707692437317245E10,2.0998067227935638E9,4.680887481828919E8,-2.0180518596509357E10,-2.089322898575521E10,-4.465468298614437E9,-6.859699525133773E10,5.190651210819585E9,-2.1705085294701187E10,9.382745526961078E10,2.809756978292587E8,-4.2404898195336866E9,-4.395461862808938E10,3.5896037514666595E9,1.0653657355288508E9,-3.379783412287142E10,5.133743190581055E10,-1.2886800850210008E11,-4.928355069192952E10,3.893734230514573E10,-7.696498618130956E10,-7.290957126497981E10,4.001206687819504E10,-7.583217369044157E9,9.686141925748833E10,1.3340924028457228E10,-1.2756566629357146E11,-4.141014199119515E10,-1.1403287722838121E10,-1.1690386285630098E10,7.922562368221895E9,5.9518795543100975E10,1.7808180846839546E10,-9.103171627916178E9,-2.4378809169764004E10,1.967840395503412E10,-1.115692989855127E11,6.05585479810162E9,1.701195318606926E11,9.362003418770788E9,-1.3980397379130353E11]}]\n",
       "var layout_AQTykjPY14 = {\"height\":550,\"width\":600,\"hovermode\":\"closest\",\"legend\":{\"orientation\":\"v\"},\"title\":{\"text\":\"Animation 3D\"},\"showlegend\":true}\n",
       "var frames_AQTykjPY14 = [{\"name\":\"series 0\",\"data\":[{\"name\":\"series 0\",\"type\":\"scatter3d\",\"mode\":\"markers\",\"x\":[0,1,2,3,4,5,6,7,8,9,10,11,12,13,14,15,16,17,18,19,20,21,22,23,24,25,26,27,28,29,30,31,32,33,34,35,36,37,38,39,40,41,42,43,44,45,46,47,48,49,50,51,52,53,54,55,56,57,58,59,60,61,62,63,64,65,66,67,68,69,70,71,72,73,74,75,76,77,78,79,80,81,82,83,84,85,86,87,88,89,90,91,92,93,94,95,96,97,98,99],\"y\":[0,0.3484863946279575,0.7172237396344858,2.091223553976393,2.6175155031374238,4.119722565740107,4.45676544970304,6.321024992353191,6.4458578843558785,2.6770425741457013,9.38223033200838,0.9641387388359294,10.510656787199828,1.28051531517402,2.547690045256209,12.91294953472629,9.124448040618033,4.348928118614225,6.046734422183892,16.05005516722119,5.369948398541067,20.61551025332934,19.11548908229291,17.88953663185267,21.313487813658938,6.760155468284138,22.63828918531409,21.984718096219577,14.174204713314953,20.88523788405266,19.92224119146982,19.227808815928476,9.167789547356318,14.227499360577012,3.805157948990518,8.866044716693624,1.9593670659670979,3.934041887386738,1.2072424998843911,8.793305980867776,37.84859179924459,11.82615797843199,9.380451355208994,25.695740639943242,40.22117077767739,0.08058677413724347,22.600689091810832,20.184587779968293,24.684797057272775,45.92381087711992,35.13683416478655,21.389259175136626,16.91393828275526,38.01116429469099,19.26714270070289,5.858725347946162,30.807034408876376,40.39886795347544,21.14773071004696,34.279404414480204,50.36138809424524,19.163580304357183,45.71969776974637,15.713082533570555,8.945467836568753,43.0306968595128,43.8209305797305,56.038849400380464,28.645413160498343,10.089425818870122,1.4957654366182838,33.29865954510277,33.33225184880491,23.049628220573105,52.42052985258695,28.94690013428576,37.28871278838295,15.782507823046638,24.635390009285302,42.84032516749442,27.89958302274771,25.334522617800324,45.64310683355274,11.425749581347608,5.297223377493331,7.46126256521712,48.653026176837045,77.23919510535339,9.214234810420432,85.24570928981953,58.56407722767075,61.77156193753045,36.878248807978366,60.792902373112014,30.443681249458585,9.232471792389104,14.839508218281598,79.58106489699776,47.02010963799561,21.0056474512667],\"z\":[0,9.591219680121012E7,2.0904648567521653E9,-1.7988076099898772E9,-5.588530951372792E8,-3.026783029537127E9,-4.947273606885446E8,-1.1672916789557714E9,-5.115827483835389E9,1.1631337773314133E9,9.916831786096682E9,-5.392752193081277E9,2.4331275592020288E9,-7.363254339680466E9,2.098373182852454E7,7.369272206207206E9,-4.076531509305421E8,1.119516626382259E9,-2.87295479275297E9,5.001378165841475E9,2.5982043460544994E8,-4.0432738104514995E9,1.7803950951478233E10,-2.663020596308507E8,1.2306939974240139E10,-1.0829396203602125E10,4.7972345025961914E10,-1.8489759505290565E10,5.868007165599253E9,2.8883065808909172E10,-7.433040289938258E9,-3.445506622181908E10,1.7453611014989273E10,-8.731590178166426E9,-1.4242596350888098E10,-1.6509485001210146E10,9.33646316585754E9,6.343500755868939E8,5.8458748691419014E10,4.5274989801526474E10,-3.192465474121823E9,-3.544955587500759E10,-2.833916436272097E9,-4.452454967023976E10,2.9333730890054183E9,2.948566623947316E10,6.31016487214304E10,1.0533921406129322E10,-2.3889703491380585E10,-2.8812883632764122E10,-7.354546003714567E9,-5.0342301970392784E10,6.189748497180741E9,2.686985556838061E10,7.745492409531587E9,1.2121347994499655E10,-7.200244439440834E10,-3.6071969176319405E10,-4.285268018728579E10,5.1707692437317245E10,2.0998067227935638E9,4.680887481828919E8,-2.0180518596509357E10,-2.089322898575521E10,-4.465468298614437E9,-6.859699525133773E10,5.190651210819585E9,-2.1705085294701187E10,9.382745526961078E10,2.809756978292587E8,-4.2404898195336866E9,-4.395461862808938E10,3.5896037514666595E9,1.0653657355288508E9,-3.379783412287142E10,5.133743190581055E10,-1.2886800850210008E11,-4.928355069192952E10,3.893734230514573E10,-7.696498618130956E10,-7.290957126497981E10,4.001206687819504E10,-7.583217369044157E9,9.686141925748833E10,1.3340924028457228E10,-1.2756566629357146E11,-4.141014199119515E10,-1.1403287722838121E10,-1.1690386285630098E10,7.922562368221895E9,5.9518795543100975E10,1.7808180846839546E10,-9.103171627916178E9,-2.4378809169764004E10,1.967840395503412E10,-1.115692989855127E11,6.05585479810162E9,1.701195318606926E11,9.362003418770788E9,-1.3980397379130353E11]}]},{\"name\":\"series 1\",\"data\":[{\"name\":\"series 1\",\"type\":\"scatter3d\",\"mode\":\"markers\",\"x\":[0,1,2,3,4,5,6,7,8,9,10,11,12,13,14,15,16,17,18,19,20,21,22,23,24,25,26,27,28,29,30,31,32,33,34,35,36,37,38,39,40,41,42,43,44,45,46,47,48,49,50,51,52,53,54,55,56,57,58,59,60,61,62,63,64,65,66,67,68,69,70,71,72,73,74,75,76,77,78,79,80,81,82,83,84,85,86,87,88,89,90,91,92,93,94,95,96,97,98,99],\"y\":[0,0.07117783534290312,1.8208922618054626,1.7149117853781655,1.3054623056684238,0.17079188287447977,3.523912455927271,0.25372739529698796,2.2189285732344537,6.791440153115499,3.2268182136520505,3.651750375851523,6.437880053997675,3.408885319225337,7.88196815884286,10.464313453473878,15.286700253872992,3.3948127680772,0.34852182783057994,14.867414676649325,9.177445135908826,2.3759659605014414,20.2364778745955,18.546159761627457,9.39854026821629,22.168947646345135,13.654307742390106,16.040501999698463,5.431329131410958,23.559811557754813,22.950727818185786,29.302276654836053,9.065666211568036,3.504217867130603,2.9737660516606406,0.35423643934504867,27.692222637565582,1.353223885383563,4.9630592992522,3.4261821989025947,6.5407354356597835,8.711726557673185,26.19423964960739,23.025305991870173,24.560238557573363,44.76119011676903,0.15736582695766077,13.327547631777298,40.349169281179535,21.57555501818661,29.624575604457863,40.30412271401548,20.290376598417325,35.379148343313084,44.695563152593174,7.37237323177971,20.078220335142113,2.0879822812128848,55.053014679987335,20.332730329698155,4.392399769488902,5.09108954087678,47.46386220491379,0.17393640027889923,20.825622566212992,46.3163972707679,39.276071177971914,40.24659036981543,20.559980383871352,52.436221678956564,17.53471863420733,10.570735790591591,50.95969821417344,48.8506455063309,72.62526549478982,2.9064919818332675,13.455973425308073,53.09292106443711,48.296309297449056,17.927656477148567,35.092757360182596,56.77953083160768,63.76855497291618,32.646791773032994,67.13066289885406,42.42872763947467,73.6513940448961,73.39659912977986,38.41966185610306,11.645214038614057,68.81333258539885,52.4262271700817,62.09985647004732,61.56506909221479,69.43739760601424,10.772791034611803,84.82340766680836,56.32422031374297,35.48782895342504,40.767541651593156],\"z\":[0,-1.4184655997913141E9,-4.868569265098834E8,2.1212816589126794E9,-3.8569152199010987E9,-2.915557738439296E9,-7.129636927464571E8,5.794534303258383E8,6.45531200746905E9,-8.530421369714409E9,5.657527983045561E9,4.733820365692353E9,1.1021420232986069E10,1.5750857747149413E9,2.0797998901425846E10,7.078000513296867E9,-7.544365054553233E9,9.310587031021507E9,2.306499923798594E10,1.043489016939572E10,3.8696093629306206E10,-2.0585983979621082E10,3.734232195315642E7,3.0794752103704826E10,2.231899447782785E10,-2.530003651825726E10,9.494160869479511E9,-3.3171264729473206E10,4.05669820232931E10,3.361543998953774E10,-8.11531861400591E9,3.0393273633150654E10,1.6321670017073603E10,6.059383119915238E10,5.830125355526708E8,-1.9248966623854763E10,-1.2468953395658821E10,2.5062380257211194E9,1.5625648846079752E10,-4.6860256528637085E10,4.08071730390939E10,-3.28196133754301E10,-4.675440937109019E10,-6.254024660389964E10,2.3967372589968002E10,2.1114753458115284E10,4.766405136428848E10,-6.893245201807739E8,-1.8075161372170204E10,-1.9551848812936573E10,2.179551163407884E9,-5.414250411937584E10,-3.4154084872075644E9,-5.8773774385419334E10,1.6079135831771138E9,-1.837392970736123E10,2.7006388768782833E10,9.740062736827332E10,-1.3419013634688065E10,-8.509261503792424E10,-1.5231108739544336E10,-5.626383508135014E7,1.0001623735895638E10,2.7783940584436207E10,-1.6210286743331995E10,-6.501702694950623E9,2.5389810793200672E10,-2.0544488270005882E10,9.639201054092915E10,7.247293715637885E10,-5.3271921237026745E8,-9.031142173011783E10,7.953493025480058E10,-3.044700673228324E9,2.9070438335539192E10,-3.309007501978852E10,5.800390956780336E10,-6.072856741453108E10,3.632830930316453E10,-2.0964103021062465E9,1.1733709624336008E10,-2.5203981204448788E10,-1.9517015359338234E10,-6.960232059896609E9,-1.01882255098721E10,2.3764286123172426E9,-5.48721703023915E10,-1.0366246614578506E11,-4.711279541127246E10,5.0465038962368596E8,-6.8099294954028595E10,1.3487625997441592E11,3.059775500135305E10,-8.205250075141571E9,3.4308074095704807E10,1.1868098049790984E11,-2.125079508767299E10,-1.6237435885855104E10,-2.3829328407368565E10,3.4127977587183332E9]}]},{\"name\":\"series 2\",\"data\":[{\"name\":\"series 2\",\"type\":\"scatter3d\",\"mode\":\"markers\",\"x\":[0,1,2,3,4,5,6,7,8,9,10,11,12,13,14,15,16,17,18,19,20,21,22,23,24,25,26,27,28,29,30,31,32,33,34,35,36,37,38,39,40,41,42,43,44,45,46,47,48,49,50,51,52,53,54,55,56,57,58,59,60,61,62,63,64,65,66,67,68,69,70,71,72,73,74,75,76,77,78,79,80,81,82,83,84,85,86,87,88,89,90,91,92,93,94,95,96,97,98,99],\"y\":[0,0.8363863611785046,1.9133331922492773,1.7586654779096476,1.124017255754072,1.1893309452571095,3.398681808612704,5.472307426644534,1.2059577248605464,7.189168268066312,5.541908511835052,5.501071045744144,9.590702878149198,10.654594259215287,12.177988048985014,3.2567594465872016,9.701543707764992,0.8901664854204598,17.297654975009962,6.43581149585001,19.49769890908029,14.450617806842608,14.707102350006364,5.91976098750386,3.1165071827210484,8.565287307838009,21.08508095130904,24.746107058670283,15.27979286860936,6.76785800754085,7.157510938634236,20.031204824173656,30.943308255339215,29.364486600436273,11.126725520000274,11.301023111412103,33.9152353317292,15.496458669526486,32.382097116714974,8.919978802451807,1.0144473032644674,22.961694651975506,39.131124522229264,14.452587046466604,14.031630025315202,22.90280861408401,12.174989675440699,6.097362587548705,39.54636791657112,37.19792001466428,9.860241842323935,25.04724975628134,7.791046882015529,1.154105683846887,13.51851765413208,34.005844113167036,27.487722944480335,35.152192323980195,35.70914476137075,25.37385341464318,25.16714793595147,36.47559305910126,48.555062037886536,26.065527503266246,62.15980604838473,17.925011251846787,59.66073029623597,27.770275027636934,47.47711335602285,50.22514446788785,49.77160504318989,30.990306488299012,61.42693314938608,25.918977858567157,60.72829539658658,9.610916404736635,48.28117959266184,40.66985315723569,1.6347601578022302,20.34596324126601,37.8845724822931,72.90126837410031,58.748725838335204,12.397202334295594,55.01255843403839,0.7493052644189535,3.6640805963331244,65.32236023303311,18.803005923201194,34.632619685436104,26.139122040389193,65.67326439392048,81.95054522972089,48.61020206681945,17.681440506237305,66.69190009733123,13.814333899910856,59.34749684245574,26.979635085956858,69.4889677990542],\"z\":[0,4.980490248695409E8,1.391584638012325E9,9.116252725347159E8,-7.629697183175474E7,-5.067732268413546E9,1.8423619317934954E9,6.828366726316988E9,6.274726898379986E8,2.5685260688633165E9,-7.8989428305974045E9,-9.479464537058012E9,-4.316815632705932E8,-4.0279994939568357E9,8.067583600190701E9,1.9911349563624783E10,-7.561088595570692E9,5.549264110920796E9,1.7453293561396664E10,-4.316856735354867E9,1.37483161526174E8,7.770838959332196E9,-1.6471593546929367E10,2.786202871100819E10,-3.089766143924178E9,2.6457005257952263E10,-8.822900764907699E8,-5.090440547465077E9,6.240681090746181E9,-1.9944157018175163E10,-2.2849254918899497E8,-1.627690904003994E9,-1.4261460869302374E10,1.8557657162341076E10,1.2377185972661966E10,4.0751820526592712E9,-6.330656381687314E10,-6.157740415262577E9,4.0327649224929146E10,-1.730681648349385E10,-1.3436567090576365E10,1.3309933506875307E10,1.9915135653324936E10,9.064012600197768E10,1.7011058749871905E9,-1.2186182166675995E10,-9.84536604611767E9,4.420526826248814E10,5.1902739596053505E9,-4.013658894914326E10,4.991265763559123E9,-2.541535576116209E9,8.085849266852489E10,-7.80026371171132E9,-8.441116586272964E9,4.9089267413378235E10,1.592053045907383E9,5.6842714439129456E10,-5.1992916674054115E10,1.930419139211414E10,-8.176235190394972E10,9.545992874070113E10,2.6060556937775227E10,4.245858140232984E9,3.931504196923376E10,-1.299009107803395E10,-2.9079862269791503E9,4.148636210488683E10,9.812962198602997E9,-2.2337524962581375E10,-2.3422558363888226E9,4.295364657283573E10,-1.0265903011069248E10,3.069627856272131E9,1.822552557787976E10,1.1226857673988699E10,-1.727609062539975E10,6.783349927918716E10,-1.4413829882072687E11,-3.4622135407335806E9,1.5001687118930037E10,-1.8861909340373005E10,6.360251821083603E9,-3.75968561554799E10,2.2048237286186195E10,8.960935844341516E10,-1.0287297103419212E11,-1.5598587556431616E11,-5.682552341583413E10,2.7200345246693687E10,6.613920959730989E10,-5.333997182752911E10,-8.859252736051704E10,4.627378824577939E10,4.759219167115663E10,-6.181019846600149E10,-4.0345834131993004E10,1.1852482872190708E10,5.992909896169496E10,1.1059438081081478E10]}]},{\"name\":\"series 3\",\"data\":[{\"name\":\"series 3\",\"type\":\"scatter3d\",\"mode\":\"markers\",\"x\":[0,1,2,3,4,5,6,7,8,9,10,11,12,13,14,15,16,17,18,19,20,21,22,23,24,25,26,27,28,29,30,31,32,33,34,35,36,37,38,39,40,41,42,43,44,45,46,47,48,49,50,51,52,53,54,55,56,57,58,59,60,61,62,63,64,65,66,67,68,69,70,71,72,73,74,75,76,77,78,79,80,81,82,83,84,85,86,87,88,89,90,91,92,93,94,95,96,97,98,99],\"y\":[0,0.8793731465873574,0.6382919041502542,1.9081931796069949,1.0961608258891409,4.1825313030328,2.7215303838511256,4.642551077829406,4.64053686394709,5.253271927421333,1.2753120354166758,10.68454604836637,5.532473510868936,2.7215263390466333,0.8073062906083892,5.183374855464377,11.743921321041666,2.353981337509064,2.3636198538523328,7.7400023677890495,5.489137786059162,17.89617467322192,2.670982778763002,16.550926977846387,11.310994441020611,19.334879889599623,25.427635780857706,7.74663698925247,25.745111632400448,4.572935688342911,19.794772149933422,18.229888259691574,25.200577234450847,1.8778110231011187,29.291742251384584,31.33067875500931,25.333707544745515,25.181997192590135,25.234755777189047,30.579139769302827,7.7391553719167305,31.627769902836754,3.8305020845721494,18.104619470830986,29.490679447564943,41.91098140180656,36.292934444621494,19.848912845139385,35.182051663748425,9.238285948407196,28.14347252482094,42.18392581125909,2.896909132474182,25.319660949271206,16.432000764612837,54.899088151768694,26.224811000974874,7.023119374495362,53.228369908933466,4.121453382009683,55.289427220555865,52.37128509840557,13.631562590513102,56.80176197264905,58.01353725876353,25.709864861839254,27.976288084986376,24.192692473037447,37.76449528172407,4.376115879352841,52.134554459846825,11.511176837147115,6.352902400132569,42.29108586951653,64.06272332574062,30.964910394529202,37.34647985982301,44.8427999548524,38.28255593492778,38.78412825683854,25.060570984136284,13.468553426163824,80.05812545469746,71.08334320494747,20.64625049698244,23.733148995050264,6.888748027295916,81.53394514533295,63.66675561499317,46.686239360335655,17.831708280425737,25.207503735050473,10.68283439091909,55.11596405242267,6.347263132854613,68.80116204456597,20.90764618617995,27.247622086900886,79.07224256649157,55.0307312094657],\"z\":[0,-7772336.18499366,2.987833402114528E8,-9.008780663820882E8,5.415695750593859E9,-7.666052735255679E8,4.776595299642899E9,2.2549970793888774E9,7.529353586926152E9,8.493019759516841E8,1.31031805725657E10,4.860347676799779E9,1.7322820667344117E9,1.502082553675537E8,-2.544903667654521E10,1.3009710820453682E10,3.602432071862782E9,2.984720299927078E9,-1.640603470113811E9,6.336053318543162E9,2.5736822550624416E10,4.431026874482041E9,7.221329533738551E8,-1.2251297015054392E10,3.734296264908307E10,-4.388901171680857E10,-2.280548792340946E10,-2.4550198287641518E10,1.354168537706455E10,4.7755919998068655E8,-2.134231765924806E10,3.0498498620598326E9,-2.6200179172584663E10,-9.311519101908014E8,-2.1927350078308548E10,9.736040573135492E9,-4.137041388785234E9,3.599048919680658E10,1.4084850261579264E10,2.8232800398225773E10,2.4012411884358974E10,-2.7702246828238197E10,3.915192945627138E10,-2.2284799906805157E10,4.088497594705818E10,-2.7605324359471315E8,3.9354759289559984E8,-1.3775622133538128E10,7.512866410053443E9,-1.37628865956229E10,-5.614335249493056E10,4.782176805037791E10,4.770146315365987E8,-4.179863425827822E10,-4.99068088901062E9,-1.330020141777767E10,3.964378357211204E10,1.0485799391902119E10,-5.217621963538103E10,1.4765181794567127E10,-2.3282104100902966E10,-1.5123469438528652E10,-1.1494888401902365E11,-2.945585523743596E10,-2.970929169393627E10,-3.1018584687865623E10,-2.529912658875162E10,-1.9089454319475334E10,1.3500497323983648E9,-1.3603952228740189E10,4.766035363247093E9,-9.238578360692299E10,4.5898509297799095E10,-9.428974000586996E9,-5.290588829797002E10,-3.8945868189078285E10,9.555577477696264E8,3.4920263877402054E10,-7.744820288320811E10,-2.942220504882917E10,2.1440271934310402E10,-4.659533102823612E10,7.895545919349963E10,-9.412648275450516E10,-2.322905334552344E10,-6.513863406896672E10,1.4811856854405926E10,5.570056814921657E10,-1.17298462755818E11,-9.237334737226541E10,-4.310493075590485E9,-1.5946185673271189E10,1.6132735008636349E10,1.4512527011937025E10,3.6741533144193163E9,9.887890880067569E10,-1.2870404728097515E10,-7.509232676488208E10,8.44844798556698E10,4.9113984183788246E10]}]},{\"name\":\"series 4\",\"data\":[{\"name\":\"series 4\",\"type\":\"scatter3d\",\"mode\":\"markers\",\"x\":[0,1,2,3,4,5,6,7,8,9,10,11,12,13,14,15,16,17,18,19,20,21,22,23,24,25,26,27,28,29,30,31,32,33,34,35,36,37,38,39,40,41,42,43,44,45,46,47,48,49,50,51,52,53,54,55,56,57,58,59,60,61,62,63,64,65,66,67,68,69,70,71,72,73,74,75,76,77,78,79,80,81,82,83,84,85,86,87,88,89,90,91,92,93,94,95,96,97,98,99],\"y\":[0,0.01993273413952612,1.3576319283753029,1.7559208159707163,2.6769017440159555,3.88942078761463,4.832533847577453,0.3522955037095812,5.017042876987962,6.862189317982516,3.9932447277179186,6.51361283647161,10.251261848746678,4.70749618962343,13.297064292306386,2.693880830276782,13.593720594215233,1.1470218027388521,7.097928740457269,3.1162665984759217,9.153817836188553,16.66550545510294,0.5156746668354815,2.691160052461412,14.159904560774976,22.477370552253735,16.774346542306525,1.8376113003103685,20.98677661268448,27.80622680254757,1.1421467313386002,10.779585726475396,8.78457447663003,29.784521801554238,19.241356406565725,15.337689903667508,11.785046447532253,8.091176593972428,17.22997623360338,17.971402330029495,1.8621056913274447,22.16571798999588,26.43786449348145,8.096366566246076,41.89724671047732,3.7183125261154935,10.718880492103228,35.756005302403814,31.196670327946304,3.5460889641611066,42.306902137582576,30.816542849376624,5.8759201604620515,28.617335659732763,14.587607835968793,22.229530983329763,19.01942479807112,32.2464607899919,11.169590493163989,21.816133005606797,58.78661184884392,22.204127909900805,25.20772181077323,27.722721798918666,38.723153073953824,25.038563754348562,22.348660039573605,35.427829994966885,44.59549160842594,65.97588174425937,36.183035722627864,27.19610737718658,53.34902458243419,61.76920441660968,19.951204007533857,10.425717154249877,67.54517051969624,42.02844536066804,29.70933722226498,15.671555537758202,44.110145988603506,79.13493542005061,53.47031539891359,51.49775974592756,54.67840159510434,69.07744292243012,27.23910767062733,71.96922012923133,63.48657462232382,51.68875548378747,3.615286623928683,4.783226080729352,22.919310818489247,23.064702480487128,74.98588435464302,60.01893839218586,61.676438609972124,3.6604026403116343,26.530054382105266,91.49407346868551],\"z\":[0,6.684402714306996E7,-9.16503118726846E8,3.8272787311539006E8,9.973764467450714E8,8.741658085736535E8,-6.342001134557659E9,-8.943089533374802E9,-5.051050967869909E9,-3.845220754414512E8,1.1483716354126827E10,4.249295328382654E9,2.7094431557350904E8,-1.124423501425025E10,-1.4852423532157018E9,3.8620314462491894E9,2.607938531785114E10,-1.4293603932405397E10,4.218435292807486E9,3.8731709922091837E9,-5.21569778092748E9,-1.0115450655280905E10,1.9016362955693756E10,-2.1177799885550507E10,-6.151691901131477E9,2.6212701181975372E10,-1.2993234768054798E10,1.3836672745545904E10,9.785120004330273E8,-3.236244390744212E10,-2.719830472650313E10,4.991943039088598E9,-9.912993100882676E8,2.5318592458880447E10,6.122350009483023E9,6.249719297004061E9,-1.0867796235335506E10,2.4188973887011497E10,3.775497988701023E9,-5.83810557311535E9,-1.8581638221674797E10,716851.5508109559,-1.020691399602558E10,9.439336334824172E7,-6.384091553847645E10,-1.4243094454361425E10,-1.4126129348949898E10,2.1317434619783646E10,4.4479319278655014E10,-2.341780968324859E9,-2.6786303988089576E9,2.8080842032137375E10,2.3471245158587563E10,4.552761557761558E10,-1.0899880345807547E10,-2.198731836474658E10,-1.6877309279744785E10,8.08063348246663E10,-8.112064482163474E10,2.352656581944325E10,-4.161048831497517E10,1.0520471520972689E10,7.250258420010945E10,-1.1328460607535112E11,3.2449095106271156E10,1.7130018903703585E10,-7.129859352160187E10,3.5129265793409515E10,-1.113280873240008E11,2.766821948718247E10,-7.59996059668964E10,-1.0401705636659327E10,-8.960994939927008E9,7.487551984511052E10,9.873948116721938E10,2.6166812542910282E10,-6.434087623939846E10,-4.447744985296177E10,-3.0507701728757988E10,7.55434383516528E10,1.8595979939427746E10,-2.1554436810623306E10,-4.231916498351813E10,3.894127275694902E8,1.368456418490898E10,7.60578621943538E8,-2.540116077082207E9,5.617745571997391E10,4.8052641194353014E8,8.96161026506E9,-5.789674662930075E10,8.460754873739903E10,6.819002830522612E9,1.2762221446752017E11,7.032251073548448E10,-8.051112616278915E10,-6.808856607048392E10,6.7740208829153305E10,4.2048672703086333E9,-1.7929918775208646E11]}]},{\"name\":\"series 5\",\"data\":[{\"name\":\"series 5\",\"type\":\"scatter3d\",\"mode\":\"markers\",\"x\":[0,1,2,3,4,5,6,7,8,9,10,11,12,13,14,15,16,17,18,19,20,21,22,23,24,25,26,27,28,29,30,31,32,33,34,35,36,37,38,39,40,41,42,43,44,45,46,47,48,49,50,51,52,53,54,55,56,57,58,59,60,61,62,63,64,65,66,67,68,69,70,71,72,73,74,75,76,77,78,79,80,81,82,83,84,85,86,87,88,89,90,91,92,93,94,95,96,97,98,99],\"y\":[0,0.8980102468032596,0.23652338706735598,2.1017960573804726,0.3112191237069841,2.1167963989104575,0.4449969128807634,4.980669091792218,6.925066363910578,4.795252610720592,1.5930032723692455,4.396092044023492,8.061061587192029,1.3803237056490367,10.765009863699005,7.919418006946294,10.763536161728942,16.410903029117684,7.000847933040074,7.469993627570467,4.147687504992373,12.594645866956487,6.703924633333461,16.98786036660217,2.7258663328457304,2.4111741037927237,11.5162543080962,16.610552302915906,2.682716169868171,21.577943633852453,28.419538734595662,24.331371367017226,4.851568108097826,30.146679539571476,21.69166834688781,10.003246084595368,5.313451942523995,36.402591509255934,12.62827220977775,13.036648023901973,19.244167691782916,11.365529209109146,4.879378136269434,35.47206997793379,17.12413258449863,8.791840096602167,2.1018402804373544,14.537262804172988,41.95013658306744,0.3979754394828736,21.63891382719891,24.576781231673515,20.89768896373176,1.8217879302611903,44.35927963912997,48.61635486446389,28.227394211883073,15.855072793224375,57.868854240029485,44.047300330940026,9.358642282819584,56.971107265779715,55.299941325084205,40.236469619238115,22.198987132754105,36.383851755964464,2.0336550146028,57.5352205884551,38.26771941594552,9.061023899391014,19.2730518419106,22.42650140748725,0.13755300233338374,46.52146013947936,69.60610014391013,73.66243569711024,16.488810276774565,27.12801218675669,2.829452918691453,68.45573436444167,42.87616727344745,35.1907913877736,23.595972140050865,71.34683768457757,4.398862682106882,2.7716978798045027,69.15111184953464,63.524957039495895,17.091193534668417,58.8800320479105,66.78556543277946,1.3850945585652679,81.26133437929758,19.020446849542772,7.9040314021374884,51.204639891410004,7.452723395525577,52.04865832206094,68.0426239666067,81.27245710316251],\"z\":[0,4404052.622148751,7.890543327051086E8,-1.4238640858731241E9,-5.2787112600133516E7,-2.2705339472082324E9,-4.7791755180534525E9,-4.91123183738106E8,-4.665243653455317E8,-3.686562033989884E7,1.9712895739047668E9,-6.723747719223474E9,-7.87207251488197E9,8.731348841542197E8,1.1767569928847908E10,1.0446617510378326E10,-2.4715463140804035E10,-8.89738142479091E9,-1.0189087078605427E10,1.7320695046869083E10,2.7289229533433266E9,-6.239434166912612E8,3.648278579771711E9,-8.131609526367389E9,-1.4462300155651375E10,3.413320762051351E10,8.710061727056911E9,-8.868704738494617E9,-1.617778759583286E10,2.8974984993455276E10,-9.670969536217697E9,6.851357848570405E9,-7.224247431538597E9,-7.750430377299603E9,5.31436653468515E10,-6.647192783885051E9,2.079168932648848E10,1.991841725161921E9,3.5311870467199554E10,-1.4080091346958021E10,2.9558399139315884E10,8.582103372042153E9,-2.1538283926057514E10,1.697603037288796E10,-4.9123768574923503E8,-2.455306694165586E9,-2.3482034727603813E10,-6.840149507008662E10,6.993382308693121E10,-1.6706917708441961E10,-1.7894589228119085E9,-3.442309145688674E10,-4.38775619880647E9,-1.0499644725072125E9,1.683188309874746E10,-7.96357516849949E9,5.375823841659882E9,-3.876734300304296E9,-7.645080991498697E9,1.4352651477472155E9,-1.4396503042883978E10,2.4139983056033054E10,-4.680375363935336E10,2.9526448414497513E10,5.380144687565311E9,-1.3955605895282135E10,-1.917464396377955E10,-4.4647875906422615E10,1.905437622015454E10,-3.0634961172899895E10,-6.547492432229117E10,5.527885536440205E9,6.708691281171514E10,6.8315376710901764E10,4.673413960900686E10,-5.813731708050295E9,1.1072677563494097E10,-1.2449106373774248E11,2.1548995951347286E10,-1.816181336949475E9,-2.7668542839392597E10,2.4234308552954193E10,-4.244733730210062E10,-3.877331168529074E10,-2.5620601226386154E10,-5.244732895836786E10,-1.0248839793311941E10,-3.4212251391196833E9,9.646474534145892E10,8.062260313039299E10,1.174912740954512E9,-1.2551678383550894E11,-8.43813424791346E10,-2.6577454892492266E9,1.6021859107406717E11,-6.644414266333684E9,-8.378867162084226E9,-3.396113087271065E9,1.2918890925094748E9,6.586950960145902E10]}]},{\"name\":\"series 6\",\"data\":[{\"name\":\"series 6\",\"type\":\"scatter3d\",\"mode\":\"markers\",\"x\":[0,1,2,3,4,5,6,7,8,9,10,11,12,13,14,15,16,17,18,19,20,21,22,23,24,25,26,27,28,29,30,31,32,33,34,35,36,37,38,39,40,41,42,43,44,45,46,47,48,49,50,51,52,53,54,55,56,57,58,59,60,61,62,63,64,65,66,67,68,69,70,71,72,73,74,75,76,77,78,79,80,81,82,83,84,85,86,87,88,89,90,91,92,93,94,95,96,97,98,99],\"y\":[0,0.1921948518341441,1.2481650060862155,0.620592094199042,2.663476329031208,0.6386229847089309,3.850113338759661,2.9270822844948374,0.3336006886349274,3.1731653254949648,8.190163321106606,2.181386839898437,3.5572803842725995,12.652767461713953,0.3887292647145746,1.4283748809480468,3.9637146462069826,7.074669173194386,13.721579110273884,16.38025628661716,4.687149392301997,6.066530526232481,15.75205579685609,22.552184901696197,3.393355321272531,2.6766153449171464,0.2605834584510176,5.6867012561909736,3.247878816793512,17.041198542192035,11.450120192568333,3.036859995369495,11.876009760831966,5.719277115752175,4.760717526723041,16.4021171500236,26.673995854972457,34.98267969407298,37.20348843179776,3.04542069403961,7.988252006015304,4.38290619460911,33.674095297842705,32.01447691086084,16.934195522983803,34.73436309791632,25.478327717482678,23.19485973867493,13.228887264315116,43.5071903830064,34.54746042090313,23.887472206170447,29.6118328230321,38.761540863602896,16.788848780902537,34.07785608993382,54.47617946650192,32.428997622682616,9.957652898204255,28.10003092384446,34.47801712401073,46.20581389343698,48.59867373064673,39.342818932220815,45.38469355612543,49.81678970339069,34.24301035913951,58.252123229685964,15.513841807844244,24.18788563942676,14.402666433195856,31.398195530876574,65.05330685572194,27.38015849810836,0.23726445479280045,2.0527865112502153,57.58830780788526,46.23717998229314,33.32077216964352,65.80693391683026,38.54592408373279,5.8328831366042815,23.962462743260502,33.50627485628756,62.24847454607513,53.22669553102862,84.28541123810024,33.43704701397915,8.096446260984084,37.987920229916995,79.98746267425362,89.51225455396981,40.32837410388379,34.691499708581894,12.653963255078967,43.43417708123964,42.079524988741845,66.36277236123381,56.9085496422278,52.69596658554089],\"z\":[0,2.380286496329682E8,1.1226948546383226E9,2.2988218031757358E8,2.5597713685016308E7,3.4402023576525135E9,1.3316515395740315E8,-3.662547773729396E8,1.2326768512647507E10,1.5988242889650002E8,-4.101406040340483E9,-1.1393301628584461E10,-1.0501332859424864E10,-4.739980200905149E7,8.168564204598767E9,-1.9482220444878858E8,1.7309845864446766E10,1.89459247687101E10,1.1051967071370325E10,9.650823814071964E9,2.3431399501716498E8,-1.1517275852272086E9,2.717568410569262E10,3.2854187602860913E9,-1.1298215247368553E9,-1.1439499815550993E10,-3.8137102928394615E10,-8.014096640442552E9,7.212722542241411E9,3.106280255047263E9,2.90714073200335E9,-2.374833104399392E9,1.774477091453301E9,-1.8005050035565304E10,-5.4025544214155945E10,-4.2875782145481577E9,-4.211650321183872E10,-1.4628562285182823E10,-6.876327963048904E10,-8.232572605313561E9,-2.965893148313057E10,4.575912944231786E10,8.809595300100304E9,2.9229394008166676E9,-4.269532303832885E10,6.3646965017455765E10,-9.22666645685529E9,1.0829660818853543E9,-1.5194109217685781E10,-3.926099343770626E10,8.924170886205034E9,5.4913836870180695E10,-6.388262443032291E9,1.0492670777911415E11,-9.031009545031972E10,7.748239369215703E10,1.7707892569452873E10,-8.463943757408722E10,3.1921850644808605E10,6.3331501864104095E10,6.343846375852156E10,6.424026609245749E9,2.5418437897847366E10,8.751922430556835E9,-1.915276235920498E9,-1.356928786646603E10,-4.719381918448674E10,8.320049539970529E10,-6.272810860891415E9,-3.8426584973204475E10,-8.661793587983466E10,-1.3751101722346191E10,-3.589333241770172E10,2.4332899650709835E10,8.197029148052997E10,-2.4946076382276497E10,-1.8602170733365188E9,1.5941385972369104E10,6.056260895756152E10,-7.208882857583864E10,6.972884153768916E10,3.944048968492196E10,-4.964146191829077E9,-1.120094017543755E10,-6.236309099775197E10,-4.690646432410975E10,9.914660259560654E10,-3.1748208822827393E10,-3.588137484371884E10,1.771274076034636E10,-9.618925136774309E10,8.421027513761102E10,-1.263308055416939E10,-4.8646127420716484E10,-3.134484945299718E10,-7.662746969221756E10,-3.2783941783564285E10,2.2069629509075058E10,-2.631428641414159E9,3.8265616762716646E9]}]},{\"name\":\"series 7\",\"data\":[{\"name\":\"series 7\",\"type\":\"scatter3d\",\"mode\":\"markers\",\"x\":[0,1,2,3,4,5,6,7,8,9,10,11,12,13,14,15,16,17,18,19,20,21,22,23,24,25,26,27,28,29,30,31,32,33,34,35,36,37,38,39,40,41,42,43,44,45,46,47,48,49,50,51,52,53,54,55,56,57,58,59,60,61,62,63,64,65,66,67,68,69,70,71,72,73,74,75,76,77,78,79,80,81,82,83,84,85,86,87,88,89,90,91,92,93,94,95,96,97,98,99],\"y\":[0,0.6630389190791494,1.6848645270636928,1.2282256935398737,1.3831972186473278,1.3176871513452593,2.4535389934230976,2.2217899922415065,1.3504858604430714,6.235802537205011,5.79511714232087,9.235540923627195,5.497975622804628,2.481092073750003,5.014928710732141,12.171093092453567,8.72212358939599,6.682094863390222,7.067960923276196,6.400217449799577,18.854993809306176,8.441297092489435,17.408140582255196,2.0195057257085898,23.98551936905463,6.849153317210865,7.25022144747826,21.388995013094757,4.66387149008141,8.779487805849543,13.832015164322826,23.10048247290291,16.976085201596618,17.13691082876049,22.853560974018624,21.282957661665264,35.17628969695342,33.31864750861752,32.893861468435475,28.13696143922464,34.42422698490478,36.09266399405488,11.514992420989225,28.046724864087153,14.446279599771998,40.13106088102654,5.207722034003632,33.79861215428616,24.868854019419615,40.82248920415606,21.562272874982025,40.58673352410361,35.81382354562474,28.969741952413028,17.312512001803338,42.86162052722242,54.346690021932844,35.80878044818334,5.4516513496126855,42.92547197848192,49.779251008229146,8.71316278156766,43.7025045600586,51.74783790790644,33.89987313173612,7.2232516375252995,42.495467172613274,66.01852458606929,57.18590024920752,65.91261912968211,54.512654130317564,15.220178928223882,0.19431217738901108,32.32475924022464,9.0470637868517,29.741271062006767,35.87854987527272,4.031603458396705,24.15121955459606,55.0110988104415,24.791288961947462,8.031312615062166,53.06049645597897,30.572114543185393,12.255061029933705,34.46653415013423,81.9221942003171,18.161020228374504,47.864788922342406,69.25560412656472,4.692543505106613,65.4990772489913,22.378759474952812,5.938187948007045,67.4299884583619,43.843567379489286,18.407028589737646,9.09345150911722,3.364455472327463,98.67661817310052],\"z\":[0,-9.411757830887452E8,1.2507323606869817E9,-3.047005782206014E8,2.725275733895359E9,3.582987811587146E9,-7.033533493071112E9,1.0009303650405981E10,-1.9972607426933308E9,4.2629320517587686E8,-3.631103702946581E9,3.0777589406051226E9,4.615246142225244E9,-1.4147168219292831E9,2.552633762079811E9,6.92876343298827E8,-2.1100014138473503E10,1.185542071279102E9,-8.260753734622479E9,5.486100325879162E9,3.14009968291861E9,2.0009458844387596E10,6.7593028442440815E9,-9.713940760527704E9,1.8778914393402493E10,-2.4577282227567806E10,-3.951847045163835E10,4.472737428939219E10,-3.2695431922696747E10,1.5039625512094593E10,5.659036414266475E9,-1.1468540267782492E10,-1.2283696402554436E9,1.6516260953936033E10,6.541869746931455E9,-4.278140099776524E10,1.1182524562476322E10,8.500240856109963E9,-1.179500307078136E10,1.1320553521857515E10,1.0741542657482988E10,-6.238390557332293E9,4.170142750237369E10,-2.400657187163894E10,1.329499229075295E9,1.0856017999952927E10,2.7325807122790657E10,-7.49934692497805E9,-3.3208230749257885E10,-8.193702899044174E10,3.775208199133052E10,4.947760421711599E8,3.628135389106234E10,2.203951065900603E10,-7.819126110838164E10,-3.880360515436111E10,-8.989432355099276E9,-1.044951986202389E10,1.718485091055983E10,5.779473168510059E10,2.808551096504455E10,-1.6331466476718075E9,9.13878933816074E10,4.275042299291594E10,-2.0193416296180546E10,1.758304601523655E9,-3.0221987233546833E10,4.450207505832172E10,4.037049476053805E9,3.4746367078625465E10,1.920088670623363E10,4.62930864997875E10,-3.9221807457740105E10,-3.6636809769324E10,3.784656875190882E10,1.1379587438976279E11,-1.9302634260784206E9,2.5445900504150497E10,3.5477267617058075E10,-7.890559236044511E10,-2.9981904091625496E10,-3.1866080468976555E9,-4.924226034448979E9,8.359113417534624E9,-4.8193926740431565E8,2.8116662203990974E10,-3.1574845611139545E9,1.2825399521852587E10,1.1456129633232256E11,2.974794613721838E10,-2.3909771808704324E9,1.127539511360005E11,1.2524837098367229E11,-5.378798164065329E9,-3.60616773000521E10,1.0200568771355133E10,2.06378408753578E10,1.8475987463093933E11,-2.5655055447425594E9,-1.3681701869095122E11]}]},{\"name\":\"series 8\",\"data\":[{\"name\":\"series 8\",\"type\":\"scatter3d\",\"mode\":\"markers\",\"x\":[0,1,2,3,4,5,6,7,8,9,10,11,12,13,14,15,16,17,18,19,20,21,22,23,24,25,26,27,28,29,30,31,32,33,34,35,36,37,38,39,40,41,42,43,44,45,46,47,48,49,50,51,52,53,54,55,56,57,58,59,60,61,62,63,64,65,66,67,68,69,70,71,72,73,74,75,76,77,78,79,80,81,82,83,84,85,86,87,88,89,90,91,92,93,94,95,96,97,98,99],\"y\":[0,0.19259188799158378,0.6832086798426462,1.3016037395143005,2.4539913268585942,0.5627484476960509,4.796085209209282,0.08500457664275607,5.605184430714544,2.5471614039223227,1.2077707216213618,5.3379628296616985,9.351236603295327,3.787428079167272,11.370369043728598,2.6539830908997892,14.643908221196318,16.057980857943495,16.32525877828041,18.653036492649054,9.574926742597484,5.84633842263309,15.946711466378613,1.933206114916699,0.7644853699397265,18.111606000714875,10.49731107880016,6.022556053272273,25.545079280324146,16.402286746097094,24.62850291440611,13.583085135485534,29.55154119305293,5.789843636207965,23.032846842419445,8.317835559163841,34.66897171734803,16.260019423701632,17.375432294441286,6.766619023544505,5.103721110302901,7.54959339850695,29.150488132898698,37.695327350977735,35.878717519344775,18.172153776908345,21.975415052702,33.338516283768,29.563236186765014,27.79243961843963,20.79834448826733,16.59475818367138,16.778625150675353,16.435010941470978,17.80684768726346,32.649292589073276,13.225639895934275,21.49930222815174,46.73459354051972,31.658636193538342,1.9057599609817943,46.449644775728196,22.01960949860222,10.327134509370447,55.108289537775455,39.60541590289085,22.12226040782739,22.685918588412974,1.8571396243895615,41.92335544059668,68.51323319046215,7.400325574189791,38.10586550616165,18.290951916443994,62.64162447672338,16.7326484308091,0.286958608589837,45.88699034089036,59.840649314569696,2.123023909583121,9.111412098628024,69.86256602089493,70.87366922397916,5.472321781184544,19.027275868017444,42.20330942053903,49.91594267428225,39.86719314706629,26.731280401712148,12.401161241851334,63.457989025437044,25.92882119784651,26.835584759880593,24.741723953535132,27.1545159576892,81.4434668446981,89.47241859402762,12.851174231781915,96.27857890567094,18.69466498446397],\"z\":[0,-1.0480779927802131E9,-2.9163449486065614E8,3.398333430812985E7,-2.925279645374514E9,-2.0182416040671954E8,1.214623358278665E9,2.2571240787627726E9,9.214926824981209E8,-2.845306248663462E8,-3.7235633155324783E9,-2.3214893750991404E8,-1.5103737327335636E10,-2.0660458030844913E10,2.302992173031554E10,-1.5952624136198551E10,1.8748359620118385E10,-7.9492198000759945E9,-1.2965220186317156E10,1.4067832021539886E10,1.6206135743315855E10,4.0832783114276495E9,1.0409031625546604E10,-2.4453785622378498E10,-1.2051520595556694E10,-1.640874462459538E8,-3.197750184557654E10,-2.9930384088707733E10,2.3456062095773468E10,-6.211994533018004E8,-2.726256022283718E10,-2.426608067567506E9,-2.440861921457957E10,5.5599821983304855E10,2.393139165219362E10,1.0583783726264439E10,-9.588954101469883E9,-9.032680612501604E9,4.1519160970472176E10,2.6148196426582417E10,3.814218600195713E10,2.9450477492957664E10,1.7271105066918423E10,2.183667116588804E10,1.664057899597469E10,2.7854484070793167E10,-4.0635439835157025E8,-3.3347377544048843E10,1.8933449653708744E9,1.6906644258940243E10,2.375164681694721E9,4.3605401942996414E10,6.147432638798739E9,2.154439959071312E10,1.4068691330941036E9,6.197305915119818E8,-2.6675435623290623E10,-2.9303531520365772E10,-1.5657287320030248E9,5.415556540208857E9,8.509795371998555E10,-4.6024951173588135E10,-1.7456363167746346E10,-2.5054489995804092E10,-2.4210839394753834E10,7.88641685718569E10,2.912548139458939E9,4.819298631299622E9,-1.1781568168656583E11,-3.775848238516557E8,3.8555648203416954E10,-5.673494690884218E10,-1.4337131961810875E9,-1.9320012911379574E10,-9.892418340154512E10,-8.952870739525899E10,1.7878106263338806E10,-1.85017768784072E10,-9.727848061547827E10,1.2485200765506602E11,-9.323298503680874E9,6.02183346934848E10,2.4632675755017513E10,2.0274892199525938E9,-1.6853493680391974E11,-2.9906532820811672E10,-4.544503651276504E9,6.046524156867694E9,9.546236302109685E10,-8.085960371051567E10,8.847369552788918E10,-1.6179199422629957E9,-1.6468260628814106E9,1.1650944987368195E10,-2.6218915698029494E9,1.925951541261174E10,4.854416425195021E9,1.1297260779599387E11,-1.6415110009503036E11,-1.1550580759751097E11]}]},{\"name\":\"series 9\",\"data\":[{\"name\":\"series 9\",\"type\":\"scatter3d\",\"mode\":\"markers\",\"x\":[0,1,2,3,4,5,6,7,8,9,10,11,12,13,14,15,16,17,18,19,20,21,22,23,24,25,26,27,28,29,30,31,32,33,34,35,36,37,38,39,40,41,42,43,44,45,46,47,48,49,50,51,52,53,54,55,56,57,58,59,60,61,62,63,64,65,66,67,68,69,70,71,72,73,74,75,76,77,78,79,80,81,82,83,84,85,86,87,88,89,90,91,92,93,94,95,96,97,98,99],\"y\":[0,0.297848166327511,1.896671120597432,0.8143952068269661,2.502022057014683,1.9814295404103048,1.1098083587122747,4.362315906467691,1.6490981978371027,0.3786058117397777,8.46710271784456,0.9273744966734497,0.7955465626050033,4.852238515343282,8.784958314656611,1.313241006650302,4.2239259604561,7.930077760321859,17.702652924499038,5.46232093449668,17.00982523477044,8.134117099867572,11.811909030102402,13.144358895141053,5.237743821588014,4.926720411184268,2.0772401458537377,22.827773948173068,9.589758186991272,14.161298559859844,19.45938530968217,13.918866762268928,7.024959417554225,31.981964763597514,33.96177427989987,31.19077828622456,6.499087360795592,21.89588446059161,36.28772655195324,37.70842772678985,36.69039315236635,29.99399869291598,22.174033302305375,9.137697443341066,43.74951937898046,43.27039879903083,18.50463345711795,4.2568455789376385,16.42809596162256,1.9379027226046817,18.756370669743493,13.015423916799499,37.812827778839726,43.807305798171136,32.43717386062163,40.861010740195034,26.549073574639294,56.440355077501515,2.195606903517076,56.52673410430145,47.13029145931459,31.151720619170977,20.45939844128289,55.29283211384965,53.80727920306891,13.273153207644873,30.049460142210357,66.15350603024305,33.183822335208724,48.65353992995456,61.46492302425082,5.585922757149688,53.863218632079885,44.401768774793425,44.69387187888605,13.981527177139007,40.843144612868855,58.635228693910875,38.723841422421835,49.51072518557515,78.97453382212596,1.7251729197596641,36.65558457145761,25.5006374164033,40.953372042005405,11.481493365795679,43.713306515278575,19.56183968028407,10.252915978574752,71.14315465884027,80.74433016552456,30.953923511866652,39.37733993286574,33.18706921579934,80.26115443878533,78.28127763397227,64.07670812499906,4.087383323963657,68.94896451475952,0.8097031717863283],\"z\":[0,2.0573423018630925E8,-2.6786977808986536E8,-1.0864882410788906E9,1.7600577250765398E9,3.219060696217854E7,4.445783319862867E9,-2.6573881835689774E9,1.2722515083471996E10,-1.4874141544159927E10,-3.9083715298345737E9,-1.2874073029960575E10,5.520040257387395E9,2.1347633694226038E9,-2.0966356291455796E9,3.741110402163107E9,-7.453086679098358E9,-4.796676336551186E9,-1.4874622243707447E10,-2.489291922215621E10,-5.760577937493498E9,-1.3451797626584671E10,6.551905988964873E9,-1.247177933345749E10,-6.460453470488637E9,-2.329308547812277E10,-3.271375943776237E10,6.4555779841134205E9,-2.770004601241102E10,1.7394149916508408E10,6.047127236343921E9,-1.3494691051275822E10,-4.436871659156603E9,-5.526749203855701E9,5.20964350085933E9,-1.8159676684159668E10,3.3568117059887653E10,-1.478004257618792E10,6.659509093603349E10,-7.055954997284544E9,2.594138925584236E10,-7.848430924102467E10,1.8400291025279373E10,1.5292413374319881E10,1.7677502603598667E10,1.0140776184714606E9,-2.582399606619022E10,-7.506236712365468E9,3.522934311549096E9,-9.54399478205126E10,-2.8063043488968845E10,-4.769563824952161E9,2.759350751193103E10,-4.8516676767135704E10,-1.0159472383939428E10,-3.404845668059511E9,-3.0060094068103596E10,-4.187094905407991E10,9.34776852768509E9,9.062015341855467E10,4.314085924415378E9,-2.22023708756591E10,-3.0556705273912636E10,3.435622521470866E10,-6.8149504288955605E10,-8.100738502203633E10,6.432625426025135E10,2.7767380793116047E10,1.801073261633813E10,-7.724693234214552E10,-1.500579366257123E10,-3.3077737119480618E10,-1.5980272495093536E10,-4.541263319069969E9,-8.586864171949012E9,3.0606176370184544E10,9.453249331448741E10,-3.939586994994704E8,4.1559784434190544E10,-1.030550592849728E10,4.0944256323544174E10,-1.0639631991427116E11,-3.331635136790776E9,3.1996924798329353E10,1.3389199005340769E10,-5.533451634133474E10,-3.190059963862207E10,-7.475173428107163E8,8.333328497086006E10,-8.925990555027829E10,-1.973813603591711E10,-1.8032270254210648E10,-6.1547507424928955E10,6.291615228480121E10,6.801146491350048E10,-8.377117147031967E10,1.5286311668715652E10,-7.011052847666841E10,4.873713552429238E9,-1.1608399121967354E10]}]}]\n",
       "var labels_AQTykjPY14 = [\"series 0\",\"series 1\",\"series 2\",\"series 3\",\"series 4\",\"series 5\",\"series 6\",\"series 7\",\"series 8\",\"series 9\"]\n",
       "var duration_AQTykjPY14 = 100\n",
       "var config_AQTykjPY14 = {\"responsive\":true,\"scrollZoom\":true,\"displaylogo\":false}\n",
       "\n",
       "var animation_settings_AQTykjPY14 = {\n",
       "    mode: \"immediate\",\n",
       "    direction: {},\n",
       "    fromcurrent: true,\n",
       "    frame: [\n",
       "      {duration: duration_AQTykjPY14},\n",
       "      {duration: duration_AQTykjPY14},\n",
       "      {redraw: true}\n",
       "    ],\n",
       "    transition: [\n",
       "      {duration: duration_AQTykjPY14, easing: 'cubic-in-out'},\n",
       "      {duration: duration_AQTykjPY14, easing: 'cubic-in-out'},\n",
       "    ],\n",
       "    ordering: \"layout first\"\n",
       "}\n",
       "\n",
       "var slider_AQTykjPY14 = document.createElement(\"input\")\n",
       "var play_AQTykjPY14 = document.getElementById(\"play_AQTykjPY14\")\n",
       "var pause_AQTykjPY14 = document.getElementById(\"pause_AQTykjPY14\")\n",
       "slider_AQTykjPY14.id = \"slider_AQTykjPY14\"\n",
       "slider_AQTykjPY14.type = \"range\"\n",
       "slider_AQTykjPY14.min = 0\n",
       "slider_AQTykjPY14.max = frames_AQTykjPY14.length - 1\n",
       "slider_AQTykjPY14.value = 0\n",
       "document.getElementById(\"sliderContainer_AQTykjPY14\").appendChild(slider_AQTykjPY14);\n",
       "\n",
       "Plotly.newPlot(graph_AQTykjPY14, traces_AQTykjPY14, layout_AQTykjPY14, config_AQTykjPY14)\n",
       ".then(function () { Plotly.addFrames(graph_AQTykjPY14, frames_AQTykjPY14) })\n",
       "\n",
       "var trigger_AQTykjPY14 = true\n",
       "var reset_count_AQTykjPY14 = false\n",
       "\n",
       "play_AQTykjPY14.addEventListener('click', function() {\n",
       "   trigger_AQTykjPY14 = true\n",
       "   if (reset_count_AQTykjPY14) {\n",
       "      slider_AQTykjPY14.value = 0\n",
       "      reset_count_AQTykjPY14 = false\n",
       "   }\n",
       "\n",
       "  const start_index = slider_AQTykjPY14.value == labels_AQTykjPY14.length - 1 ? 0 : slider_AQTykjPY14.value\n",
       "  const end_index = labels_AQTykjPY14.length\n",
       "  Plotly.animate(graph_AQTykjPY14, labels_AQTykjPY14.slice(start_index, end_index), animation_settings_AQTykjPY14)\n",
       "})\n",
       "\n",
       "pause_AQTykjPY14.addEventListener('click', function() {\n",
       "  Plotly.animate(graph_AQTykjPY14, [null], animation_settings_AQTykjPY14)\n",
       "})\n",
       "\n",
       "graph_AQTykjPY14.on('plotly_redraw', () => {\n",
       "   value_AQTykjPY14.innerHTML = slider_AQTykjPY14.value;\n",
       "   if (trigger_AQTykjPY14 & !reset_count_AQTykjPY14) ++slider_AQTykjPY14.value\n",
       "   if (slider_AQTykjPY14.value == labels_AQTykjPY14.length - 1) reset_count_AQTykjPY14 = true\n",
       "});\n",
       "\n",
       "slider_AQTykjPY14.oninput = function() {\n",
       "   Plotly.animate(graph_AQTykjPY14, frames_AQTykjPY14[this.value], animation_settings_AQTykjPY14)\n",
       "   trigger_AQTykjPY14 = false\n",
       "   slider_AQTykjPY14.value = this.value\n",
       "   value_AQTykjPY14.innerHTML = this.value;\n",
       "   if (this.value == 0) reset_count_AQTykjPY14 = false\n",
       "   if (this.value == labels_AQTykjPY14.length - 1) reset_count_AQTykjPY14 = true\n",
       "   reset_count_AQTykjPY14 = false\n",
       "}\n",
       "</script> \n"
      ]
     },
     "metadata": {},
     "output_type": "display_data"
    }
   ],
   "source": [
    "val series = createXYZSeries(numberToCreate = 10, length = 100)\n",
    "\n",
    "val layout = ChartLayout()\n",
    "\n",
    "val chart = Chart(animated = true) setTitle \"Animation 3D\" addSeries series \n",
    "\n",
    "chart.plotInline"
   ]
  },
  {
   "cell_type": "markdown",
   "metadata": {},
   "source": [
    "## IO + Utility Functions\n",
    "\n",
    "The library also comes with some basic CSV IO functions and a utility function for breaking down data"
   ]
  },
  {
   "cell_type": "code",
   "execution_count": 43,
   "metadata": {},
   "outputs": [],
   "source": [
    "import org.carbonateresearch.picta.IO._\n",
    "import org.carbonateresearch.picta.common.Utils.getSeriesbyCategory"
   ]
  },
  {
   "cell_type": "code",
   "execution_count": 44,
   "metadata": {},
   "outputs": [
    {
     "name": "stdout",
     "output_type": "stream",
     "text": [
      "/Users/fazi/Desktop/Final Project/irp-acse-fk4517/Code\n"
     ]
    }
   ],
   "source": [
    "val working_directory = getWorkingDirectory\n",
    "\n",
    "println(working_directory)"
   ]
  },
  {
   "cell_type": "code",
   "execution_count": 45,
   "metadata": {},
   "outputs": [],
   "source": [
    "// by providing a path, we can read in a CSV\n",
    "val filepath = working_directory + \"/iris_csv.csv\"\n",
    "\n",
    "val data = readCSV(filepath)\n",
    "\n",
    "// by default, CSV are read in as strings. However we can convert the individual columns to the correct format\n",
    "val sepal_length = data(\"sepallength\").map(_.toDouble)\n",
    "val petal_width = data(\"petalwidth\").map(_.toDouble)\n",
    "val categories = data(\"class\")"
   ]
  },
  {
   "cell_type": "code",
   "execution_count": 46,
   "metadata": {},
   "outputs": [
    {
     "data": {
      "text/html": [
       "<div id=\"grid-container_vLTkPxT2bp\" class=\"grid-container\" align=\"center\"> \n",
       "<div id=\"grid_vLTkPxT2bp\" class=\"grid\" align=\"center\"> \n",
       "<div id=\"graph_vUmc97uc0C\" class=\"graph\"></div> \n",
       "</div> \n",
       "</div> \n",
       "<script>\n",
       "var masonry = new Macy({\n",
       "    container: '#grid_vLTkPxT2bp',\n",
       "    debug: true,\n",
       "    mobileFirst: true,\n",
       "    columns: 1,\n",
       "    margin: {\n",
       "        x: 0,\n",
       "        y: 0\n",
       "    }\n",
       "  });\n",
       "\n",
       " var traces_vUmc97uc0C = [{\"name\":\"zb0MGdRABo\",\"type\":\"scatter\",\"mode\":\"markers\",\"x\":[5.9,6.2,6.5,6.3,6.7,6.7,6.8,5.8,6.9,6.7,6.9,6,6.4,6.3,7.7,6.1,6.3,6.4,7.9,7.4,7.2,6.4,6.1,6.2,7.2,6.7,6.3,7.7,5.6,6.9,6,7.7,7.7,6.5,6.4,5.8,5.7,6.8,6.4,6.5,7.2,6.7,7.3,4.9,7.6,6.5,6.3,7.1,5.8,6.3,5.7,5.1,6.2,5.7,5.7,5.6,5,5.8,6.1,5.5,5.5,5.6,6.3,6.7,6,5.4,6,5.8,5.5,5.5,5.7,6,6.7,6.8,6.6,6.4,6.1,6.3,6.1,5.9,5.6,6.2,5.8,5.6,6.7,5.6,6.1,6,5.9,5,5.2,6.6,4.9,6.3,5.7,6.5,5.5,6.9,6.4,7,5,5.3,4.6,5.1,4.8,5.1,5,4.4,4.5,5,5.1,4.4,4.9,5.5,5,4.9,5.5,5.2,5.4,4.8,4.7,5.2,5.2,5,5,4.8,5.1,4.6,5.1,5.4,5.1,5.7,5.1,5.4,5.7,5.8,4.3,4.8,4.8,5.4,4.9,4.4,5,4.6,5.4,5,4.6,4.7,4.9,5.1],\"y\":[1.8,2.3,2,1.9,2.3,2.5,2.3,1.9,2.3,2.4,2.1,1.8,1.8,2.4,2.3,1.4,1.5,2.2,2,1.9,1.6,2.1,1.8,1.8,1.8,2.1,1.8,2,2,2.3,1.5,2.3,2.2,1.8,2.3,2.4,2,2.1,1.9,2,2.5,1.8,1.8,1.7,2.1,2.2,1.8,2.1,1.9,2.5,1.3,1.1,1.3,1.3,1.2,1.3,1,1.2,1.4,1.2,1.3,1.3,1.3,1.5,1.6,1.5,1.6,1.2,1,1.1,1,1.5,1.7,1.4,1.4,1.3,1.2,1.5,1.3,1.8,1.1,1.5,1,1.5,1.4,1.3,1.4,1,1.5,1,1.4,1.3,1,1.6,1.3,1.5,1.3,1.5,1.5,1.4,0.2,0.2,0.2,0.2,0.3,0.4,0.6,0.2,0.3,0.3,0.2,0.2,0.1,0.2,0.2,0.1,0.2,0.1,0.4,0.2,0.2,0.2,0.2,0.4,0.2,0.2,0.5,0.2,0.4,0.2,0.3,0.3,0.3,0.4,0.4,0.2,0.1,0.1,0.2,0.2,0.1,0.2,0.2,0.3,0.4,0.2,0.2,0.2,0.2,0.2]}];\n",
       " var layout_vUmc97uc0C = {\"height\":550,\"width\":600,\"hovermode\":\"closest\",\"legend\":{\"orientation\":\"v\"},\"title\":{\"text\":\"Uninformative Chart\"},\"showlegend\":true};\n",
       " var config_vUmc97uc0C = {\"responsive\":true,\"scrollZoom\":true,\"displaylogo\":false};\n",
       " Plotly.newPlot(\"graph_vUmc97uc0C\", traces_vUmc97uc0C, layout_vUmc97uc0C, config_vUmc97uc0C);\n",
       "</script> \n"
      ]
     },
     "metadata": {},
     "output_type": "display_data"
    }
   ],
   "source": [
    "val series = XY(sepal_length, petal_width) asType SCATTER drawStyle MARKERS\n",
    "\n",
    "val chart = Chart() addSeries series setTitle \"Uninformative Chart\"\n",
    "\n",
    "chart.plotInline"
   ]
  },
  {
   "cell_type": "markdown",
   "metadata": {},
   "source": [
    "The above chart is not very informative. However since we have the per data point category labels, we can use the utility function to display the data in the different clusters"
   ]
  },
  {
   "cell_type": "code",
   "execution_count": 47,
   "metadata": {},
   "outputs": [
    {
     "data": {
      "text/html": [
       "<div id=\"grid-container_dDA1dMYYq1\" class=\"grid-container\" align=\"center\"> \n",
       "<div id=\"grid_dDA1dMYYq1\" class=\"grid\" align=\"center\"> \n",
       "<div id=\"graph_xaPRGZ80pV\" class=\"graph\"></div> \n",
       "</div> \n",
       "</div> \n",
       "<script>\n",
       "var masonry = new Macy({\n",
       "    container: '#grid_dDA1dMYYq1',\n",
       "    debug: true,\n",
       "    mobileFirst: true,\n",
       "    columns: 1,\n",
       "    margin: {\n",
       "        x: 0,\n",
       "        y: 0\n",
       "    }\n",
       "  });\n",
       "\n",
       " var traces_xaPRGZ80pV = [{\"name\":\"Iris-versicolor\",\"type\":\"scatter\",\"mode\":\"markers\",\"x\":[7,6.4,6.9,5.5,6.5,5.7,6.3,4.9,6.6,5.2,5,5.9,6,6.1,5.6,6.7,5.6,5.8,6.2,5.6,5.9,6.1,6.3,6.1,6.4,6.6,6.8,6.7,6,5.7,5.5,5.5,5.8,6,5.4,6,6.7,6.3,5.6,5.5,5.5,6.1,5.8,5,5.6,5.7,5.7,6.2,5.1,5.7],\"y\":[1.4,1.5,1.5,1.3,1.5,1.3,1.6,1,1.3,1.4,1,1.5,1,1.4,1.3,1.4,1.5,1,1.5,1.1,1.8,1.3,1.5,1.2,1.3,1.4,1.4,1.7,1.5,1,1.1,1,1.2,1.6,1.5,1.6,1.5,1.3,1.3,1.3,1.2,1.4,1.2,1,1.3,1.2,1.3,1.3,1.1,1.3]},{\"name\":\"Iris-setosa\",\"type\":\"scatter\",\"mode\":\"markers\",\"x\":[5.1,4.9,4.7,4.6,5,5.4,4.6,5,4.4,4.9,5.4,4.8,4.8,4.3,5.8,5.7,5.4,5.1,5.7,5.1,5.4,5.1,4.6,5.1,4.8,5,5,5.2,5.2,4.7,4.8,5.4,5.2,5.5,4.9,5,5.5,4.9,4.4,5.1,5,4.5,4.4,5,5.1,4.8,5.1,4.6,5.3,5],\"y\":[0.2,0.2,0.2,0.2,0.2,0.4,0.3,0.2,0.2,0.1,0.2,0.2,0.1,0.1,0.2,0.4,0.4,0.3,0.3,0.3,0.2,0.4,0.2,0.5,0.2,0.2,0.4,0.2,0.2,0.2,0.2,0.4,0.1,0.2,0.1,0.2,0.2,0.1,0.2,0.2,0.3,0.3,0.2,0.6,0.4,0.3,0.2,0.2,0.2,0.2]},{\"name\":\"Iris-virginica\",\"type\":\"scatter\",\"mode\":\"markers\",\"x\":[6.3,5.8,7.1,6.3,6.5,7.6,4.9,7.3,6.7,7.2,6.5,6.4,6.8,5.7,5.8,6.4,6.5,7.7,7.7,6,6.9,5.6,7.7,6.3,6.7,7.2,6.2,6.1,6.4,7.2,7.4,7.9,6.4,6.3,6.1,7.7,6.3,6.4,6,6.9,6.7,6.9,5.8,6.8,6.7,6.7,6.3,6.5,6.2,5.9],\"y\":[2.5,1.9,2.1,1.8,2.2,2.1,1.7,1.8,1.8,2.5,2,1.9,2.1,2,2.4,2.3,1.8,2.2,2.3,1.5,2.3,2,2,1.8,2.1,1.8,1.8,1.8,2.1,1.6,1.9,2,2.2,1.5,1.4,2.3,2.4,1.8,1.8,2.1,2.4,2.3,1.9,2.3,2.5,2.3,1.9,2,2.3,1.8]}];\n",
       " var layout_xaPRGZ80pV = {\"height\":550,\"width\":600,\"hovermode\":\"closest\",\"legend\":{\"orientation\":\"v\"},\"title\":{\"text\":\"Iris\"},\"showlegend\":true};\n",
       " var config_xaPRGZ80pV = {\"responsive\":true,\"scrollZoom\":true,\"displaylogo\":false};\n",
       " Plotly.newPlot(\"graph_xaPRGZ80pV\", traces_xaPRGZ80pV, layout_xaPRGZ80pV, config_xaPRGZ80pV);\n",
       "</script> \n"
      ]
     },
     "metadata": {},
     "output_type": "display_data"
    }
   ],
   "source": [
    "val result = getSeriesbyCategory(categories, (sepal_length, petal_width))\n",
    "\n",
    "val chart = Chart() addSeries result setTitle \"Iris\" showLegend true\n",
    "\n",
    "chart.plotInline"
   ]
  },
  {
   "cell_type": "markdown",
   "metadata": {},
   "source": [
    "## Conus Integration\n",
    "\n",
    "A couple of utility functions make wrangling conus data easier. Below is an example taken from the conus repo and plotting some variables of interest."
   ]
  },
  {
   "cell_type": "code",
   "execution_count": 48,
   "metadata": {},
   "outputs": [],
   "source": [
    "import org.carbonateresearch.picta.conus.Utils._"
   ]
  },
  {
   "cell_type": "code",
   "execution_count": 49,
   "metadata": {},
   "outputs": [],
   "source": [
    "import org.carbonateresearch.picta.conus.Utils._\n",
    "import org.carbonateresearch.picta.{Canvas, Chart, XY}\n",
    "import org.carbonateresearch.conus.common.SingleModelResults\n",
    "import org.carbonateresearch.conus.modelzoo.GeneralGeology._\n",
    "import org.carbonateresearch.conus.modelzoo.PasseyHenkesClumpedDiffusionModel._\n",
    "import org.carbonateresearch.conus.{AllCells, ModelVariable, PerCell, Simulator, Step, SteppedModel}\n",
    "\n",
    "import math._"
   ]
  },
  {
   "cell_type": "code",
   "execution_count": 50,
   "metadata": {
    "scrolled": false
   },
   "outputs": [
    {
     "name": "stdout",
     "output_type": "stream",
     "text": [
      "13:43:46.540 [CoNuS-akka.actor.default-dispatcher-3] INFO akka.event.slf4j.Slf4jLogger - Slf4jLogger started\n"
     ]
    },
    {
     "name": "stderr",
     "output_type": "stream",
     "text": [
      "SLF4J: A number (1) of logging calls during the initialization phase have been intercepted and are\n",
      "SLF4J: now being replayed. These are subject to the filtering rules of the underlying logging system.\n",
      "SLF4J: See also http://www.slf4j.org/codes.html#replay\n"
     ]
    },
    {
     "name": "stdout",
     "output_type": "stream",
     "text": [
      "A total of 135 unique models were defined, attempting to create a list now.\n",
      "Models list successfully created.\n",
      "----------------------------------------\n",
      "RUN STARTED\n",
      "----------------------------------------\n",
      "\u001b[0m\u001b[35m\u001b[4mRUN DATA\u001b[0m\n",
      "\u001b[0m\u001b[33mTotal number of models:\u001b[0m \u001b[37m135\n",
      "\u001b[0m\u001b[33mNumber of cell per grid:\u001b[0m\u001b[37m 19\n",
      "\u001b[0m\u001b[33mNumber of steps per model:\u001b[0m\u001b[37m 10\n",
      "\u001b[0m\u001b[33mNumber of operation per step:\u001b[0m\u001b[37m 304\n",
      "\u001b[0m\u001b[33mTotal number of operations:\u001b[0m\u001b[37m 410'400\n",
      "\u001b[0m\u001b[33mAvailable CPU cores:\u001b[0m\u001b[37m 8\n",
      "\u001b[0m\u001b[34m----------------------------------------\u001b[0m\n",
      "\u001b[0m\u001b[35m\u001b[4mRUN PROGRESS\u001b[0m\n",
      "Model #2 completed in 0 seconds is calibrated.\n",
      "Model #6 completed in 0 seconds is calibrated.\n",
      "Model #1 completed in 0 seconds is calibrated.\n",
      "Model #5 completed in 0 seconds is calibrated.\n",
      "Model #7 completed in 0 seconds is calibrated.\n",
      "Model #8 completed in 0 seconds is calibrated.\n",
      "Model #3 completed in 0 seconds is calibrated.\n",
      "Model #4 completed in 0 seconds is calibrated.\n",
      "Model #11 completed in 0 seconds is calibrated.\n",
      "Model #12 completed in 0 seconds is calibrated.\n",
      "Model #9 completed in 0 seconds is calibrated.\n",
      "Model #13 completed in 0 seconds is calibrated.\n",
      "Model #15 completed in 0 seconds is calibrated.\n",
      "Model #10 completed in 0 seconds is calibrated.\n",
      "Model #18 completed in 0 seconds is calibrated.\n",
      "Model #14 completed in 0 seconds is calibrated.\n",
      "Model #17 completed in 0 seconds is calibrated.\n",
      "Model #16 completed in 0 seconds is calibrated.\n",
      "Model #19 completed in 0 seconds is calibrated.\n",
      "Model #20 completed in 0 seconds is calibrated.\n",
      "Model #21 completed in 0 seconds is calibrated.\n",
      "Model #22 completed in 0 seconds is calibrated.\n",
      "Model #23 completed in 0 seconds is calibrated.\n",
      "Model #24 completed in 0 seconds is calibrated.\n",
      "Model #26 completed in 0 seconds is calibrated.\n",
      "Model #25 completed in 0 seconds is calibrated.\n",
      "Model #30 completed in 0 seconds is calibrated.\n",
      "Model #29 completed in 0 seconds is calibrated.\n",
      "Model #27 completed in 0 seconds is calibrated.\n",
      "Model #28 completed in 0 seconds is calibrated.\n",
      "Model #32 completed in 0 seconds is calibrated.\n",
      "Model #31 completed in 0 seconds is calibrated.\n",
      "Model #33 completed in 0 seconds is calibrated.\n",
      "Model #36 completed in 0 seconds is calibrated.\n",
      "Model #37 completed in 0 seconds is calibrated.\n",
      "Model #39 completed in 0 seconds is calibrated.\n",
      "Model #40 completed in 0 seconds is calibrated.\n",
      "Model #38 completed in 0 seconds is calibrated.\n",
      "Model #41 completed in 0 seconds is calibrated.\n",
      "Model #34 completed in 0 seconds is calibrated.\n",
      "Model #35 completed in 0 seconds is calibrated.\n",
      "Model #47 completed in 0 seconds is calibrated.\n",
      "Model #42 completed in 0 seconds is calibrated.\n",
      "Model #44 completed in 0 seconds is calibrated.\n",
      "Model #48 completed in 0 seconds is calibrated.\n",
      "Model #45 completed in 0 seconds is calibrated.\n",
      "Model #46 completed in 0 seconds is calibrated.\n",
      "Model #43 completed in 0 seconds is calibrated.\n",
      "Model #50 completed in 0 seconds is calibrated.\n",
      "Model #51 completed in 0 seconds is calibrated.\n",
      "Model #49 completed in 0 seconds is calibrated.\n",
      "Model #54 completed in 0 seconds is calibrated.\n",
      "Model #52 completed in 0 seconds is calibrated.\n",
      "Model #53 completed in 0 seconds is calibrated.\n",
      "Model #57 completed in 0 seconds is calibrated.\n",
      "Model #55 completed in 0 seconds is calibrated.\n",
      "Model #60 completed in 0 seconds is calibrated.\n",
      "Model #56 completed in 0 seconds is calibrated.\n",
      "Model #63 completed in 0 seconds is calibrated.\n",
      "Model #62 completed in 0 seconds is calibrated.\n",
      "Model #58 completed in 0 seconds is calibrated.\n",
      "Model #61 completed in 0 seconds is calibrated.\n",
      "Model #64 completed in 0 seconds is calibrated.\n",
      "Model #67 completed in 0 seconds is calibrated.\n",
      "Model #59 completed in 0 seconds is calibrated.\n",
      "Model #65 completed in 0 seconds is calibrated.\n",
      "Model #69 completed in 0 seconds is calibrated.\n",
      "Model #72 completed in 0 seconds is calibrated.\n",
      "Model #70 completed in 0 seconds is calibrated.\n",
      "Model #68 completed in 0 seconds is calibrated.\n",
      "Model #66 completed in 0 seconds is calibrated.\n",
      "Model #76 completed in 0 seconds is calibrated.\n",
      "Model #73 completed in 0 seconds is calibrated.\n",
      "Model #75 completed in 1 seconds is calibrated.\n",
      "Model #74 completed in 1 seconds is calibrated.\n",
      "Model #71 completed in 1 seconds is calibrated.\n",
      "Model #78 completed in 1 seconds is calibrated.\n",
      "Model #77 completed in 1 seconds is calibrated.\n",
      "Model #81 completed in 1 seconds is calibrated.\n",
      "Model #80 completed in 1 seconds is calibrated.\n",
      "Model #79 completed in 1 seconds is calibrated.\n",
      "Model #84 completed in 1 seconds is calibrated.\n",
      "Model #85 completed in 1 seconds is calibrated.\n",
      "Model #82 completed in 1 seconds is calibrated.\n",
      "Model #83 completed in 1 seconds is calibrated.\n",
      "Model #88 completed in 1 seconds is calibrated.\n",
      "Model #86 completed in 1 seconds is calibrated.\n",
      "Model #89 completed in 1 seconds is calibrated.\n",
      "Model #91 completed in 1 seconds is calibrated.\n",
      "Model #93 completed in 1 seconds is calibrated.\n",
      "Model #92 completed in 1 seconds is calibrated.\n",
      "Model #90 completed in 1 seconds is calibrated.\n",
      "Model #87 completed in 1 seconds is calibrated.\n",
      "Model #94 completed in 1 seconds is calibrated.\n",
      "Model #99 completed in 1 seconds is calibrated.\n",
      "Model #98 completed in 1 seconds is calibrated.\n",
      "Model #100 completed in 1 seconds is not calibrated.\n",
      "Model #97 completed in 1 seconds is calibrated.\n",
      "Model #96 completed in 1 seconds is calibrated.\n",
      "Model #95 completed in 1 seconds is calibrated.\n",
      "Model #105 completed in 1 seconds is not calibrated.\n",
      "Model #104 completed in 1 seconds is not calibrated.\n",
      "Model #103 completed in 1 seconds is not calibrated.\n",
      "Model #106 completed in 1 seconds is calibrated.\n",
      "Model #107 completed in 1 seconds is calibrated.\n",
      "Model #109 completed in 1 seconds is calibrated.\n",
      "Model #110 completed in 1 seconds is calibrated.\n",
      "Model #102 completed in 1 seconds is not calibrated.\n",
      "Model #112 completed in 1 seconds is calibrated.\n",
      "Model #101 completed in 1 seconds is not calibrated.\n",
      "Model #115 completed in 1 seconds is not calibrated.\n",
      "Model #116 completed in 1 seconds is not calibrated.\n",
      "Model #113 completed in 1 seconds is calibrated.\n",
      "Model #117 completed in 1 seconds is not calibrated.\n",
      "Model #111 completed in 1 seconds is calibrated.\n",
      "Model #118 completed in 1 seconds is not calibrated.\n",
      "Model #108 completed in 1 seconds is calibrated.\n",
      "Model #119 completed in 1 seconds is not calibrated.\n",
      "Model #114 completed in 1 seconds is calibrated.\n",
      "Model #124 completed in 1 seconds is calibrated.\n",
      "Model #120 completed in 1 seconds is not calibrated.\n",
      "Model #123 completed in 1 seconds is calibrated.\n",
      "Model #121 completed in 1 seconds is calibrated.\n",
      "Model #125 completed in 1 seconds is calibrated.\n",
      "Model #128 completed in 1 seconds is calibrated.\n",
      "Model #126 completed in 1 seconds is calibrated.\n",
      "Model #122 completed in 1 seconds is calibrated.\n",
      "Model #130 completed in 1 seconds is not calibrated.\n",
      "Model #132 completed in 1 seconds is not calibrated.\n",
      "Model #129 completed in 1 seconds is calibrated.\n",
      "Model #127 completed in 1 seconds is calibrated.\n",
      "Model #131 completed in 1 seconds is not calibrated.\n",
      "Model #133 completed in 1 seconds is not calibrated.\n",
      "Model #134 completed in 1 seconds is not calibrated.\n",
      "Model #135 completed in 1 seconds is not calibrated.\n",
      "\n",
      "----------------------------------------\n",
      "END OF RUN\n",
      "----------------------------------------\n"
     ]
    }
   ],
   "source": [
    "val modelWarehouse = Simulator\n",
    "\n",
    "// a few constants\n",
    "val rhocal:Double = 2.71 //Density of carbonates\n",
    "val cOf=889000 //concentration of O in fluid\n",
    "val cCf=200 //concentration of C in fluid\n",
    "val cOcal = 480000 //concentration of O in stoichiometric calcite\n",
    "val cCcal = 120000 //concentration of C in stoichiometric calcite\n",
    "val d13Ctdc = 0 //carbon isotope composition of total dissolved carbon in fluid\n",
    "\n",
    "// setting model variables\n",
    "val initialAge:ModelVariable[Double] = ModelVariable(\"Initial age\",96.0,\"Ma\")\n",
    "val finalAge:ModelVariable[Double] = ModelVariable(\"Final age\",0.0,\"Ma\")\n",
    "val d18Of:ModelVariable[Double] = ModelVariable(\"Fluid d18O\",-1.0,\"‰\")\n",
    "val TmaxSample:ModelVariable[Double] = ModelVariable(\"Tmax\",0.0,\"˚C\")\n",
    "val WFF:ModelVariable[Double] = ModelVariable(\"Weight fraction of fluid\",0.0,\"\")\n",
    "val CWRR:ModelVariable[Double] = ModelVariable(\"Cumulative water/rock ratio\",0.0,\"\")\n",
    "val FluidMass:ModelVariable[Double] = ModelVariable(\"Mass of fluid\",0.2,\"\")\n",
    "val d18Occ:ModelVariable[Double] = ModelVariable(\"d18Occ\",1.0,\"‰\")\n",
    "val d13Ccc:ModelVariable[Double] = ModelVariable(\"d13Ccc\",1.0,\"‰\")\n",
    "val D47r:ModelVariable[Double] = ModelVariable(\"D47 with partial recrystallization\",.5,\"‰\")\n",
    "val fractionRec:ModelVariable[Double] = ModelVariable(\"Fraction of recrystallization\",0.01,\"‰\")\n",
    "val initalBurialAtModelStart:ModelVariable[Double] = ModelVariable(\"Initial burial at model start\",0.0,\"meters\")\n",
    "\n",
    "// Initialise model conditions as lists\n",
    "val burialHistory = List((96.0,0.0), (39.0,2000.0), (0.0,-70.0))\n",
    "val geothermalGradientHistory= List((96.0,30.0),(0.0,30.0))\n",
    "val surfaceTemperaturesHistory = List((96.0,30.0),(0.0,30.0))\n",
    "val numberOfSteps = 10\n",
    "val ageList:List[Double] = List(97.0,96.0,95.0)\n",
    "val finalAgeList:List[Double] = List(0.0)\n",
    "val rangeOfFluidMasses:List[Double] = List(0.2)\n",
    "val rangeOfPartialRecrystallization = List(1.0,.5,.1,.01,0.0)\n",
    "\n",
    "// Bulk isotope calculation equations\n",
    "val d18OccFunction = (s:Step) => {\n",
    "    val cO=(WFF(s)*cOf)+(1-WFF(s))*cOcal\n",
    "    val alpha = math.exp((18.03*(1000*pow((burialTemperature(s)+273.15), -1)) - 32.42)/1000)\n",
    "    val d18O = ((d18Of(s) * WFF(s) * cOf) + d18Occ(s) * (1-WFF(s)) * cOf)/ cO\n",
    "    ((d18O * cOf * alpha) - (1000 * cOf * WFF(s) * (1-alpha))) / ((cOcal * (1-WFF(s)) * alpha) + cOf * WFF(s))\n",
    "}\n",
    "\n",
    "val d13CccFunction = (s:Step) => {\n",
    "    val cC=(WFF(s)*cCf)+(1-WFF(s))*cCcal\n",
    "    val alpha = exp((-2.4612+(7666.3/100) - (2.9880*pow(10,3)/pow((burialTemperature(s)+273.15),6)))/1000)\n",
    "    val d13C = ((d13Ctdc * WFF(s) * d13Ctdc) + (d13Ccc(s) * (1-WFF(s)) * cCcal))/cC\n",
    "    ((d13C * cC * alpha) - (1000 * cCf * WFF(s) * (1-alpha))) / (cCcal * (1-WFF(s) * alpha) + cCf * WFF(s))\n",
    "}\n",
    "\n",
    "val eaglefordModel = new SteppedModel(numberOfSteps,\"Eagleford recrystallization\")\n",
    "    .setGrid(19)\n",
    "    .defineMathematicalModel(\n",
    "      age =>> ageOfStep(initialAge,finalAge),\n",
    "      depth =>> {(s:Step) => {burialDepthFromAgeModel(age,burialHistory).apply(s)+initalBurialAtModelStart(s)}},\n",
    "      surfaceTemperature =>> surfaceTemperaturesAtAge(age, surfaceTemperaturesHistory),\n",
    "      geothermalGradient =>> geothermalGradientAtAge(age,geothermalGradientHistory),\n",
    "      burialTemperature =>> burialTemperatureFromGeothermalGradient(surfaceTemperature,depth,geothermalGradient),\n",
    "      dT =>> dTFun,\n",
    "      D47eq =>> D47eqFun,\n",
    "      D47i =>> D47iFun,\n",
    "      SampleTemp =>> davies19_T,\n",
    "      FluidMass =>> {(s:Step) => 0.2},\n",
    "      d18Of =>> {(s:Step) => -1.0},\n",
    "      WFF =>> {(s:Step) => FluidMass(s) / (FluidMass(s) + rhocal)},\n",
    "      CWRR =>> {(s:Step) => s.stepNumber * WFF(s)/(1-WFF(s))},\n",
    "      d18Occ =>> d18OccFunction,\n",
    "      d13Ccc =>> d13CccFunction,\n",
    "      D47r =>> {(s:Step) => {if(burialTemperature(s)-burialTemperature(s-1) >= 0){D47r(s-1) * (1.0-fractionRec(s)) + D47eq(s) * fractionRec(s)}\n",
    "      else {D47r(s-1)}}}\n",
    "    )\n",
    "    .defineInitialModelConditions(\n",
    "      AllCells(initialAge,ageList),\n",
    "      AllCells(finalAge,finalAgeList),\n",
    "      AllCells(fractionRec,rangeOfPartialRecrystallization),\n",
    "      AllCells(D47i,List(0.670,0.680,0.690)),\n",
    "      AllCells(D47r,List(0.670,0.680,0.690)),\n",
    "      PerCell(initalBurialAtModelStart,List(\n",
    "        (List(0.0),Seq(0)),\n",
    "        (List(-0.91),Seq(1)),\n",
    "        (List(-1.22),Seq(2)),\n",
    "        (List(-2.90),Seq(3)),\n",
    "        (List(-4.57),Seq(4)),\n",
    "        (List(-4.88),Seq(5)),\n",
    "        (List(-4.90),Seq(6)),\n",
    "        (List(-6.10),Seq(7)),\n",
    "        (List(-6.40),Seq(8)),\n",
    "        (List(-6.71),Seq(9)),\n",
    "        (List(-25.90),Seq(10)),\n",
    "        (List(-28.96),Seq(11)),\n",
    "        (List(-29.87),Seq(12)),\n",
    "        (List(-35.05),Seq(13)),\n",
    "        (List(-35.36),Seq(14)),\n",
    "        (List(-35.97),Seq(15)),\n",
    "        (List(-36.58),Seq(16)),\n",
    "        (List(-37.19),Seq(17)),\n",
    "        (List(-38.90),Seq(18)))))\n",
    "    .defineCalibration(\n",
    "      D47r.isBetween(0.511,0.683).atCells(Seq(0)),\n",
    "      D47r.isBetween(0.511,0.683).atCells(Seq(1)),\n",
    "      D47r.isBetween(0.511,0.683).atCells(Seq(2)),\n",
    "      D47r.isBetween(0.511,0.683).atCells(Seq(3)),\n",
    "      D47r.isBetween(0.511,0.683).atCells(Seq(4)),\n",
    "      D47r.isBetween(0.511,0.683).atCells(Seq(5)),\n",
    "      D47r.isBetween(0.511,0.683).atCells(Seq(6)),\n",
    "      D47r.isBetween(0.511,0.683).atCells(Seq(7)),\n",
    "      D47r.isBetween(0.511,0.683).atCells(Seq(8)),\n",
    "      D47r.isBetween(0.511,0.683).atCells(Seq(9)),\n",
    "      D47r.isBetween(0.511,0.683).atCells(Seq(10)),\n",
    "      D47r.isBetween(0.511,0.683).atCells(Seq(11)),\n",
    "      D47r.isBetween(0.511,0.683).atCells(Seq(12)),\n",
    "      D47r.isBetween(0.511,0.683).atCells(Seq(13)),\n",
    "      D47r.isBetween(0.511,0.683).atCells(Seq(14)),\n",
    "      D47r.isBetween(0.511,0.683).atCells(Seq(15)),\n",
    "      D47r.isBetween(0.511,0.683).atCells(Seq(16)),\n",
    "      D47r.isBetween(0.511,0.683).atCells(Seq(17)),\n",
    "      D47r.isBetween(0.511,0.683).atCells(Seq(18))\n",
    ")\n",
    "\n",
    "modelWarehouse.evaluate(eaglefordModel)\n",
    "Thread.sleep(1000)"
   ]
  },
  {
   "cell_type": "code",
   "execution_count": 51,
   "metadata": {
    "scrolled": false
   },
   "outputs": [
    {
     "data": {
      "text/html": [
       "<div id=\"grid-container_VWoPED0IkJ\" class=\"grid-container\" align=\"center\"> \n",
       "<div id=\"grid_VWoPED0IkJ\" class=\"grid\" align=\"center\"> \n",
       "<div id=\"graph_Fv4GOTSFaL\" class=\"graph\"></div> \n",
       "</div> \n",
       "</div> \n",
       "<script>\n",
       "var masonry = new Macy({\n",
       "    container: '#grid_VWoPED0IkJ',\n",
       "    debug: true,\n",
       "    mobileFirst: true,\n",
       "    columns: 1,\n",
       "    margin: {\n",
       "        x: 0,\n",
       "        y: 0\n",
       "    }\n",
       "  });\n",
       "\n",
       " var traces_Fv4GOTSFaL = [{\"name\":\"tXa75xMJRM\",\"type\":\"scatter\",\"yaxis\":\"y2\",\"x\":[97,86.22222222222223,75.44444444444444,64.66666666666666,53.888888888888886,43.11111111111111,32.33333333333333,21.555555555555543,10.777777777777771,0],\"y\":[1.092574472614591,1.0925744726145918,1.0925744726145925,1.0925744726145934,1.0925744726145936,1.0925744726145943,1.0925744726145938,1.0925744726145932,1.0925744726145923,1.0925744726145907]},{\"name\":\"NwAPRnD4G4\",\"type\":\"scatter\",\"x\":[97,86.22222222222223,75.44444444444444,64.66666666666666,53.888888888888886,43.11111111111111,32.33333333333333,21.555555555555543,10.777777777777771,0],\"y\":[5.89348426912598,5.638181586030623,5.40033576234191,5.178215948453285,4.970312739614294,4.775303866897426,4.881865925657495,5.192623895144487,5.5361762606165605,5.918001697432124]}];\n",
       " var layout_Fv4GOTSFaL = {\"height\":550,\"width\":600,\"hovermode\":\"closest\",\"legend\":{\"orientation\":\"v\"},\"title\":{\"text\":\"d18Occ vs d13Ccc\"},\"showlegend\":true,\"xaxis\":{\"title\":{\"text\":\"age\"},\"showgrid\":true,\"zeroline\":false,\"showline\":false},\"yaxis\":{\"title\":{\"text\":\"d18Occ\"},\"showgrid\":true,\"zeroline\":false,\"showline\":false},\"yaxis2\":{\"title\":{\"text\":\"d13Ccc\"},\"showgrid\":true,\"zeroline\":false,\"showline\":false,\"side\":\"right\",\"overlaying\":\"y\",\"tickformat\":\"0.2f\"}};\n",
       " var config_Fv4GOTSFaL = {\"responsive\":true,\"scrollZoom\":true,\"displaylogo\":false};\n",
       " Plotly.newPlot(\"graph_Fv4GOTSFaL\", traces_Fv4GOTSFaL, layout_Fv4GOTSFaL, config_Fv4GOTSFaL);\n",
       "</script> \n"
      ]
     },
     "metadata": {},
     "output_type": "display_data"
    }
   ],
   "source": [
    "// grab the results from the Conus model\n",
    "val model: SingleModelResults = modelWarehouse(eaglefordModel)(0)\n",
    "\n",
    "// we can use the utility function to grab the series for a single variable\n",
    "val series1: List[Double] = getDataFromSingleModel(model, age, List(0), numberOfSteps)\n",
    "val series2: List[Double] = getDataFromSingleModel(model, d18Occ, List(0), numberOfSteps)\n",
    "\n",
    "val xy1 = XY(series1, series2)\n",
    "\n",
    "// alternatively we can quickly get the same data for XY using the function below\n",
    "//  val xy1 = getXYSeriesFromSingleModel(model, (age, d18Occ), List(0), numberOfSteps)\n",
    "\n",
    "// lets also plot a second y variable\n",
    "val yaxis2 = YAxis(\n",
    "    position = 2, \n",
    "    title = \"d13Ccc\", \n",
    "    overlaying = YAxis(), // this ensures that the axis sits on a seperate axis\n",
    "    side = RIGHT, // this ensures the axis is on the right hand side\n",
    "    tickformat = \"0.2f\" // this will keep formatting reasonable for display purposes\n",
    ")\n",
    "\n",
    "// we construct the second y variable;\n",
    "val series3: List[Double] = getDataFromSingleModel(model, d13Ccc, List(0), numberOfSteps)\n",
    "val xy2 = XY(series1, series3) setAxis yaxis2\n",
    "\n",
    "// finally we can combine in a single chart\n",
    "val chart = (\n",
    "    Chart() \n",
    "    addSeries xy1\n",
    "    addSeries xy2\n",
    "    setTitle(\"d18Occ vs d13Ccc\") \n",
    "    addAxes(XAxis(title=\"age\"), YAxis(title=\"d18Occ\"), yaxis2)\n",
    ")\n",
    "\n",
    "val canvas = Canvas() addCharts chart\n",
    "\n",
    "// When we plot the result, we can see the legend is in the wrong place and overlaying the axis - we can overcome this\n",
    "// in the next example\n",
    "canvas.plotInline()"
   ]
  },
  {
   "cell_type": "markdown",
   "metadata": {},
   "source": [
    "### Moving the Legend\n",
    "\n",
    "We can also move the Legend and position it where we would like as follows:"
   ]
  },
  {
   "cell_type": "code",
   "execution_count": 52,
   "metadata": {},
   "outputs": [],
   "source": [
    "import org.carbonateresearch.picta.options.AUTO"
   ]
  },
  {
   "cell_type": "code",
   "execution_count": 53,
   "metadata": {},
   "outputs": [
    {
     "data": {
      "text/html": [
       "<div id=\"grid-container_OXkSPLWREO\" class=\"grid-container\" align=\"center\"> \n",
       "<div id=\"grid_OXkSPLWREO\" class=\"grid\" align=\"center\"> \n",
       "<div id=\"graph_q30Siv8dqI\" class=\"graph\"></div> \n",
       "</div> \n",
       "</div> \n",
       "<script>\n",
       "var masonry = new Macy({\n",
       "    container: '#grid_OXkSPLWREO',\n",
       "    debug: true,\n",
       "    mobileFirst: true,\n",
       "    columns: 1,\n",
       "    margin: {\n",
       "        x: 0,\n",
       "        y: 0\n",
       "    }\n",
       "  });\n",
       "\n",
       " var traces_q30Siv8dqI = [{\"name\":\"NwAPRnD4G4\",\"type\":\"scatter\",\"x\":[97,86.22222222222223,75.44444444444444,64.66666666666666,53.888888888888886,43.11111111111111,32.33333333333333,21.555555555555543,10.777777777777771,0],\"y\":[5.89348426912598,5.638181586030623,5.40033576234191,5.178215948453285,4.970312739614294,4.775303866897426,4.881865925657495,5.192623895144487,5.5361762606165605,5.918001697432124]}];\n",
       " var layout_q30Siv8dqI = {\"height\":550,\"width\":600,\"hovermode\":\"closest\",\"legend\":{\"orientation\":\"h\",\"x\":0.5,\"y\":-0.5,\"xanchor\":\"auto\",\"yanchor\":\"auto\"},\"title\":{\"text\":\"Move Axis\"},\"showlegend\":true,\"xaxis\":{\"title\":{\"text\":\"age\"},\"showgrid\":true,\"zeroline\":false,\"showline\":false},\"yaxis\":{\"title\":{\"text\":\"d18Occ\"},\"showgrid\":true,\"zeroline\":false,\"showline\":false},\"yaxis2\":{\"title\":{\"text\":\"d13Ccc\"},\"showgrid\":true,\"zeroline\":false,\"showline\":false,\"side\":\"right\",\"overlaying\":\"y\",\"tickformat\":\"0.2f\"}};\n",
       " var config_q30Siv8dqI = {\"responsive\":true,\"scrollZoom\":true,\"displaylogo\":false};\n",
       " Plotly.newPlot(\"graph_q30Siv8dqI\", traces_q30Siv8dqI, layout_q30Siv8dqI, config_q30Siv8dqI);\n",
       "</script> \n"
      ]
     },
     "metadata": {},
     "output_type": "display_data"
    }
   ],
   "source": [
    "// finally we can combine in a single chart\n",
    "val chart = (\n",
    "    Chart() \n",
    "    addSeries xy1\n",
    "    setTitle(\"Move Axis\") \n",
    "    addAxes(XAxis(title=\"age\"), YAxis(title=\"d18Occ\"), yaxis2)\n",
    "    setLegend(x = 0.5, y = -0.5, orientation = HORIZONTAL, xanchor = AUTO, yanchor = AUTO)\n",
    ")\n",
    "\n",
    "val canvas = Canvas() addCharts chart\n",
    "\n",
    "canvas.plotInline()"
   ]
  },
  {
   "cell_type": "code",
   "execution_count": null,
   "metadata": {},
   "outputs": [],
   "source": []
  }
 ],
 "metadata": {
  "kernelspec": {
   "display_name": "Scala",
   "language": "scala",
   "name": "scala"
  },
  "language_info": {
   "codemirror_mode": "text/x-scala",
   "file_extension": ".scala",
   "mimetype": "text/x-scala",
   "name": "scala",
   "nbconvert_exporter": "script",
   "version": "2.13.2"
  }
 },
 "nbformat": 4,
 "nbformat_minor": 4
}
