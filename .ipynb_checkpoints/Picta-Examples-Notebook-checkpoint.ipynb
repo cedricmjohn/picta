{
 "cells": [
  {
   "cell_type": "markdown",
   "metadata": {},
   "source": [
    "# 1. Setup\n",
    "\n",
    "To use Picta in a Jupyter notebook with the Almond.sh kernel, you need to first register a new Jitpack repository as some essential component of Almond are not availble in Maven Central (simply copy and run the first cell below). You then need to import the library from Maven (second cell) and initiliaze the notebook to hvave nicer outputs (optional, third cell)."
   ]
  },
  {
   "cell_type": "code",
   "execution_count": 1,
   "metadata": {},
   "outputs": [],
   "source": [
    "interp.repositories() ++= Seq(coursierapi.MavenRepository.of(\n",
    "\"https://jitpack.io\"\n",
    "))"
   ]
  },
  {
   "cell_type": "code",
   "execution_count": 2,
   "metadata": {},
   "outputs": [
    {
     "data": {
      "text/plain": [
       "\u001b[32mimport \u001b[39m\u001b[36m$ivy.$                                    \u001b[39m"
      ]
     },
     "execution_count": 2,
     "metadata": {},
     "output_type": "execute_result"
    }
   ],
   "source": [
    "import $ivy. `org.carbonateresearch::picta:0.1.1`"
   ]
  },
  {
   "cell_type": "code",
   "execution_count": 3,
   "metadata": {
    "scrolled": false
   },
   "outputs": [
    {
     "data": {
      "text/html": [
       "\n",
       "<style> #animationInterface {\n",
       "    margin-top: 50px;\n",
       "    margin-bottom: 50px;\n",
       "}\n",
       "\n",
       ".progressBar {\n",
       "    padding-top: 20px;\n",
       "    padding-bottom: 20px;\n",
       "}\n",
       "\n",
       ".inline-div {\n",
       "    display: block;\n",
       "    text-align: center;\n",
       "}\n",
       "\n",
       "h3 {\n",
       "    display: inline-block;\n",
       "    text-align: center;\n",
       "}\n",
       "\n",
       ".picta-button {\n",
       "    background-color: #003E74;\n",
       "    border: none;\n",
       "    color: white;\n",
       "    padding: 12px 28px;\n",
       "    text-align: center;\n",
       "    text-decoration: none;\n",
       "    display: inline-block;\n",
       "    font-size: 12px;\n",
       "    margin-top: 50px;\n",
       "    transition-duration: 0.4s;\n",
       "    cursor: pointer;\n",
       "}\n",
       "\n",
       ".picta-button:hover {\n",
       "    background-color: #002147;\n",
       "    color: white;\n",
       "}\n",
       "\n",
       ".grid-title h1 {\n",
       "    font-family: \"Open Sans\", verdana, arial, sans-serif;\n",
       "    font-weight: normal;\n",
       "}\n",
       "\n",
       ".grid-container {\n",
       "    padding-top: 40px;\n",
       "    background: white;\n",
       "} </style>\n",
       "<script> /** vim: et:ts=4:sw=4:sts=4\n",
       " * @license RequireJS 2.3.6 Copyright jQuery Foundation and other contributors.\n",
       " * Released under MIT license, https://github.com/requirejs/requirejs/blob/master/LICENSE\n",
       " */\n",
       "var requirejs,require,define;!function(global,setTimeout){var req,s,head,baseElement,dataMain,src,interactiveScript,currentlyAddingScript,mainScript,subPath,version=\"2.3.6\",commentRegExp=/\\/\\*[\\s\\S]*?\\*\\/|([^:\"'=]|^)\\/\\/.*$/gm,cjsRequireRegExp=/[^.]\\s*require\\s*\\(\\s*[\"']([^'\"\\s]+)[\"']\\s*\\)/g,jsSuffixRegExp=/\\.js$/,currDirRegExp=/^\\.\\//,op=Object.prototype,ostring=op.toString,hasOwn=op.hasOwnProperty,isBrowser=!(\"undefined\"==typeof window||\"undefined\"==typeof navigator||!window.document),isWebWorker=!isBrowser&&\"undefined\"!=typeof importScripts,readyRegExp=isBrowser&&\"PLAYSTATION 3\"===navigator.platform?/^complete$/:/^(complete|loaded)$/,defContextName=\"_\",isOpera=\"undefined\"!=typeof opera&&\"[object Opera]\"===opera.toString(),contexts={},cfg={},globalDefQueue=[],useInteractive=!1;function commentReplace(e,t){return t||\"\"}function isFunction(e){return\"[object Function]\"===ostring.call(e)}function isArray(e){return\"[object Array]\"===ostring.call(e)}function each(e,t){var i;if(e)for(i=0;i<e.length&&(!e[i]||!t(e[i],i,e));i+=1);}function eachReverse(e,t){var i;if(e)for(i=e.length-1;-1<i&&(!e[i]||!t(e[i],i,e));i-=1);}function hasProp(e,t){return hasOwn.call(e,t)}function getOwn(e,t){return hasProp(e,t)&&e[t]}function eachProp(e,t){var i;for(i in e)if(hasProp(e,i)&&t(e[i],i))break}function mixin(i,e,r,n){return e&&eachProp(e,function(e,t){!r&&hasProp(i,t)||(!n||\"object\"!=typeof e||!e||isArray(e)||isFunction(e)||e instanceof RegExp?i[t]=e:(i[t]||(i[t]={}),mixin(i[t],e,r,n)))}),i}function bind(e,t){return function(){return t.apply(e,arguments)}}function scripts(){return document.getElementsByTagName(\"script\")}function defaultOnError(e){throw e}function getGlobal(e){if(!e)return e;var t=global;return each(e.split(\".\"),function(e){t=t[e]}),t}function makeError(e,t,i,r){var n=new Error(t+\"\\nhttps://requirejs.org/docs/errors.html#\"+e);return n.requireType=e,n.requireModules=r,i&&(n.originalError=i),n}if(void 0===define){if(void 0!==requirejs){if(isFunction(requirejs))return;cfg=requirejs,requirejs=void 0}void 0===require||isFunction(require)||(cfg=require,require=void 0),req=requirejs=function(e,t,i,r){var n,o,a=defContextName;return isArray(e)||\"string\"==typeof e||(o=e,isArray(t)?(e=t,t=i,i=r):e=[]),o&&o.context&&(a=o.context),(n=getOwn(contexts,a))||(n=contexts[a]=req.s.newContext(a)),o&&n.configure(o),n.require(e,t,i)},req.config=function(e){return req(e)},req.nextTick=void 0!==setTimeout?function(e){setTimeout(e,4)}:function(e){e()},require||(require=req),req.version=version,req.jsExtRegExp=/^\\/|:|\\?|\\.js$/,req.isBrowser=isBrowser,s=req.s={contexts:contexts,newContext:newContext},req({}),each([\"toUrl\",\"undef\",\"defined\",\"specified\"],function(t){req[t]=function(){var e=contexts[defContextName];return e.require[t].apply(e,arguments)}}),isBrowser&&(head=s.head=document.getElementsByTagName(\"head\")[0],baseElement=document.getElementsByTagName(\"base\")[0],baseElement&&(head=s.head=baseElement.parentNode)),req.onError=defaultOnError,req.createNode=function(e,t,i){var r=e.xhtml?document.createElementNS(\"http://www.w3.org/1999/xhtml\",\"html:script\"):document.createElement(\"script\");return r.type=e.scriptType||\"text/javascript\",r.charset=\"utf-8\",r.async=!0,r},req.load=function(t,i,r){var e,n=t&&t.config||{};if(isBrowser)return(e=req.createNode(n,i,r)).setAttribute(\"data-requirecontext\",t.contextName),e.setAttribute(\"data-requiremodule\",i),!e.attachEvent||e.attachEvent.toString&&e.attachEvent.toString().indexOf(\"[native code\")<0||isOpera?(e.addEventListener(\"load\",t.onScriptLoad,!1),e.addEventListener(\"error\",t.onScriptError,!1)):(useInteractive=!0,e.attachEvent(\"onreadystatechange\",t.onScriptLoad)),e.src=r,n.onNodeCreated&&n.onNodeCreated(e,n,i,r),currentlyAddingScript=e,baseElement?head.insertBefore(e,baseElement):head.appendChild(e),currentlyAddingScript=null,e;if(isWebWorker)try{setTimeout(function(){},0),importScripts(r),t.completeLoad(i)}catch(e){t.onError(makeError(\"importscripts\",\"importScripts failed for \"+i+\" at \"+r,e,[i]))}},isBrowser&&!cfg.skipDataMain&&eachReverse(scripts(),function(e){if(head||(head=e.parentNode),dataMain=e.getAttribute(\"data-main\"))return mainScript=dataMain,cfg.baseUrl||-1!==mainScript.indexOf(\"!\")||(mainScript=(src=mainScript.split(\"/\")).pop(),subPath=src.length?src.join(\"/\")+\"/\":\"./\",cfg.baseUrl=subPath),mainScript=mainScript.replace(jsSuffixRegExp,\"\"),req.jsExtRegExp.test(mainScript)&&(mainScript=dataMain),cfg.deps=cfg.deps?cfg.deps.concat(mainScript):[mainScript],!0}),define=function(e,i,t){var r,n;\"string\"!=typeof e&&(t=i,i=e,e=null),isArray(i)||(t=i,i=null),!i&&isFunction(t)&&(i=[],t.length&&(t.toString().replace(commentRegExp,commentReplace).replace(cjsRequireRegExp,function(e,t){i.push(t)}),i=(1===t.length?[\"require\"]:[\"require\",\"exports\",\"module\"]).concat(i))),useInteractive&&(r=currentlyAddingScript||getInteractiveScript())&&(e||(e=r.getAttribute(\"data-requiremodule\")),n=contexts[r.getAttribute(\"data-requirecontext\")]),n?(n.defQueue.push([e,i,t]),n.defQueueMap[e]=!0):globalDefQueue.push([e,i,t])},define.amd={jQuery:!0},req.exec=function(text){return eval(text)},req(cfg)}function newContext(u){var i,e,l,c,d,g={waitSeconds:7,baseUrl:\"./\",paths:{},bundles:{},pkgs:{},shim:{},config:{}},p={},f={},r={},h=[],m={},n={},v={},x=1,b=1;function q(e,t,i){var r,n,o,a,s,u,c,d,p,f,l=t&&t.split(\"/\"),h=g.map,m=h&&h[\"*\"];if(e&&(u=(e=e.split(\"/\")).length-1,g.nodeIdCompat&&jsSuffixRegExp.test(e[u])&&(e[u]=e[u].replace(jsSuffixRegExp,\"\")),\".\"===e[0].charAt(0)&&l&&(e=l.slice(0,l.length-1).concat(e)),function(e){var t,i;for(t=0;t<e.length;t++)if(\".\"===(i=e[t]))e.splice(t,1),t-=1;else if(\"..\"===i){if(0===t||1===t&&\"..\"===e[2]||\"..\"===e[t-1])continue;0<t&&(e.splice(t-1,2),t-=2)}}(e),e=e.join(\"/\")),i&&h&&(l||m)){e:for(o=(n=e.split(\"/\")).length;0<o;o-=1){if(s=n.slice(0,o).join(\"/\"),l)for(a=l.length;0<a;a-=1)if((r=getOwn(h,l.slice(0,a).join(\"/\")))&&(r=getOwn(r,s))){c=r,d=o;break e}!p&&m&&getOwn(m,s)&&(p=getOwn(m,s),f=o)}!c&&p&&(c=p,d=f),c&&(n.splice(0,d,c),e=n.join(\"/\"))}return getOwn(g.pkgs,e)||e}function E(t){isBrowser&&each(scripts(),function(e){if(e.getAttribute(\"data-requiremodule\")===t&&e.getAttribute(\"data-requirecontext\")===l.contextName)return e.parentNode.removeChild(e),!0})}function w(e){var t=getOwn(g.paths,e);if(t&&isArray(t)&&1<t.length)return t.shift(),l.require.undef(e),l.makeRequire(null,{skipMap:!0})([e]),!0}function y(e){var t,i=e?e.indexOf(\"!\"):-1;return-1<i&&(t=e.substring(0,i),e=e.substring(i+1,e.length)),[t,e]}function S(e,t,i,r){var n,o,a,s,u=null,c=t?t.name:null,d=e,p=!0,f=\"\";return e||(p=!1,e=\"_@r\"+(x+=1)),u=(s=y(e))[0],e=s[1],u&&(u=q(u,c,r),o=getOwn(m,u)),e&&(u?f=i?e:o&&o.normalize?o.normalize(e,function(e){return q(e,c,r)}):-1===e.indexOf(\"!\")?q(e,c,r):e:(u=(s=y(f=q(e,c,r)))[0],f=s[1],i=!0,n=l.nameToUrl(f))),{prefix:u,name:f,parentMap:t,unnormalized:!!(a=!u||o||i?\"\":\"_unnormalized\"+(b+=1)),url:n,originalName:d,isDefine:p,id:(u?u+\"!\"+f:f)+a}}function k(e){var t=e.id,i=getOwn(p,t);return i||(i=p[t]=new l.Module(e)),i}function M(e,t,i){var r=e.id,n=getOwn(p,r);!hasProp(m,r)||n&&!n.defineEmitComplete?(n=k(e)).error&&\"error\"===t?i(n.error):n.on(t,i):\"defined\"===t&&i(m[r])}function O(i,e){var t=i.requireModules,r=!1;e?e(i):(each(t,function(e){var t=getOwn(p,e);t&&(t.error=i,t.events.error&&(r=!0,t.emit(\"error\",i)))}),r||req.onError(i))}function j(){globalDefQueue.length&&(each(globalDefQueue,function(e){var t=e[0];\"string\"==typeof t&&(l.defQueueMap[t]=!0),h.push(e)}),globalDefQueue=[])}function P(e){delete p[e],delete f[e]}function R(){var e,r,t=1e3*g.waitSeconds,n=t&&l.startTime+t<(new Date).getTime(),o=[],a=[],s=!1,u=!0;if(!i){if(i=!0,eachProp(f,function(e){var t=e.map,i=t.id;if(e.enabled&&(t.isDefine||a.push(e),!e.error))if(!e.inited&&n)w(i)?s=r=!0:(o.push(i),E(i));else if(!e.inited&&e.fetched&&t.isDefine&&(s=!0,!t.prefix))return u=!1}),n&&o.length)return(e=makeError(\"timeout\",\"Load timeout for modules: \"+o,null,o)).contextName=l.contextName,O(e);u&&each(a,function(e){!function n(o,a,s){var e=o.map.id;o.error?o.emit(\"error\",o.error):(a[e]=!0,each(o.depMaps,function(e,t){var i=e.id,r=getOwn(p,i);!r||o.depMatched[t]||s[i]||(getOwn(a,i)?(o.defineDep(t,m[i]),o.check()):n(r,a,s))}),s[e]=!0)}(e,{},{})}),n&&!r||!s||!isBrowser&&!isWebWorker||d||(d=setTimeout(function(){d=0,R()},50)),i=!1}}function a(e){hasProp(m,e[0])||k(S(e[0],null,!0)).init(e[1],e[2])}function o(e,t,i,r){e.detachEvent&&!isOpera?r&&e.detachEvent(r,t):e.removeEventListener(i,t,!1)}function s(e){var t=e.currentTarget||e.srcElement;return o(t,l.onScriptLoad,\"load\",\"onreadystatechange\"),o(t,l.onScriptError,\"error\"),{node:t,id:t&&t.getAttribute(\"data-requiremodule\")}}function T(){var e;for(j();h.length;){if(null===(e=h.shift())[0])return O(makeError(\"mismatch\",\"Mismatched anonymous define() module: \"+e[e.length-1]));a(e)}l.defQueueMap={}}return c={require:function(e){return e.require?e.require:e.require=l.makeRequire(e.map)},exports:function(e){if(e.usingExports=!0,e.map.isDefine)return e.exports?m[e.map.id]=e.exports:e.exports=m[e.map.id]={}},module:function(e){return e.module?e.module:e.module={id:e.map.id,uri:e.map.url,config:function(){return getOwn(g.config,e.map.id)||{}},exports:e.exports||(e.exports={})}}},(e=function(e){this.events=getOwn(r,e.id)||{},this.map=e,this.shim=getOwn(g.shim,e.id),this.depExports=[],this.depMaps=[],this.depMatched=[],this.pluginMaps={},this.depCount=0}).prototype={init:function(e,t,i,r){r=r||{},this.inited||(this.factory=t,i?this.on(\"error\",i):this.events.error&&(i=bind(this,function(e){this.emit(\"error\",e)})),this.depMaps=e&&e.slice(0),this.errback=i,this.inited=!0,this.ignore=r.ignore,r.enabled||this.enabled?this.enable():this.check())},defineDep:function(e,t){this.depMatched[e]||(this.depMatched[e]=!0,this.depCount-=1,this.depExports[e]=t)},fetch:function(){if(!this.fetched){this.fetched=!0,l.startTime=(new Date).getTime();var e=this.map;if(!this.shim)return e.prefix?this.callPlugin():this.load();l.makeRequire(this.map,{enableBuildCallback:!0})(this.shim.deps||[],bind(this,function(){return e.prefix?this.callPlugin():this.load()}))}},load:function(){var e=this.map.url;n[e]||(n[e]=!0,l.load(this.map.id,e))},check:function(){if(this.enabled&&!this.enabling){var t,e,i=this.map.id,r=this.depExports,n=this.exports,o=this.factory;if(this.inited){if(this.error)this.emit(\"error\",this.error);else if(!this.defining){if(this.defining=!0,this.depCount<1&&!this.defined){if(isFunction(o)){if(this.events.error&&this.map.isDefine||req.onError!==defaultOnError)try{n=l.execCb(i,o,r,n)}catch(e){t=e}else n=l.execCb(i,o,r,n);if(this.map.isDefine&&void 0===n&&((e=this.module)?n=e.exports:this.usingExports&&(n=this.exports)),t)return t.requireMap=this.map,t.requireModules=this.map.isDefine?[this.map.id]:null,t.requireType=this.map.isDefine?\"define\":\"require\",O(this.error=t)}else n=o;if(this.exports=n,this.map.isDefine&&!this.ignore&&(m[i]=n,req.onResourceLoad)){var a=[];each(this.depMaps,function(e){a.push(e.normalizedMap||e)}),req.onResourceLoad(l,this.map,a)}P(i),this.defined=!0}this.defining=!1,this.defined&&!this.defineEmitted&&(this.defineEmitted=!0,this.emit(\"defined\",this.exports),this.defineEmitComplete=!0)}}else hasProp(l.defQueueMap,i)||this.fetch()}},callPlugin:function(){var u=this.map,c=u.id,e=S(u.prefix);this.depMaps.push(e),M(e,\"defined\",bind(this,function(e){var o,t,i,r=getOwn(v,this.map.id),n=this.map.name,a=this.map.parentMap?this.map.parentMap.name:null,s=l.makeRequire(u.parentMap,{enableBuildCallback:!0});return this.map.unnormalized?(e.normalize&&(n=e.normalize(n,function(e){return q(e,a,!0)})||\"\"),M(t=S(u.prefix+\"!\"+n,this.map.parentMap,!0),\"defined\",bind(this,function(e){this.map.normalizedMap=t,this.init([],function(){return e},null,{enabled:!0,ignore:!0})})),void((i=getOwn(p,t.id))&&(this.depMaps.push(t),this.events.error&&i.on(\"error\",bind(this,function(e){this.emit(\"error\",e)})),i.enable()))):r?(this.map.url=l.nameToUrl(r),void this.load()):((o=bind(this,function(e){this.init([],function(){return e},null,{enabled:!0})})).error=bind(this,function(e){this.inited=!0,(this.error=e).requireModules=[c],eachProp(p,function(e){0===e.map.id.indexOf(c+\"_unnormalized\")&&P(e.map.id)}),O(e)}),o.fromText=bind(this,function(e,t){var i=u.name,r=S(i),n=useInteractive;t&&(e=t),n&&(useInteractive=!1),k(r),hasProp(g.config,c)&&(g.config[i]=g.config[c]);try{req.exec(e)}catch(e){return O(makeError(\"fromtexteval\",\"fromText eval for \"+c+\" failed: \"+e,e,[c]))}n&&(useInteractive=!0),this.depMaps.push(r),l.completeLoad(i),s([i],o)}),void e.load(u.name,s,o,g))})),l.enable(e,this),this.pluginMaps[e.id]=e},enable:function(){(f[this.map.id]=this).enabled=!0,this.enabling=!0,each(this.depMaps,bind(this,function(e,t){var i,r,n;if(\"string\"==typeof e){if(e=S(e,this.map.isDefine?this.map:this.map.parentMap,!1,!this.skipMap),this.depMaps[t]=e,n=getOwn(c,e.id))return void(this.depExports[t]=n(this));this.depCount+=1,M(e,\"defined\",bind(this,function(e){this.undefed||(this.defineDep(t,e),this.check())})),this.errback?M(e,\"error\",bind(this,this.errback)):this.events.error&&M(e,\"error\",bind(this,function(e){this.emit(\"error\",e)}))}i=e.id,r=p[i],hasProp(c,i)||!r||r.enabled||l.enable(e,this)})),eachProp(this.pluginMaps,bind(this,function(e){var t=getOwn(p,e.id);t&&!t.enabled&&l.enable(e,this)})),this.enabling=!1,this.check()},on:function(e,t){var i=this.events[e];i||(i=this.events[e]=[]),i.push(t)},emit:function(e,t){each(this.events[e],function(e){e(t)}),\"error\"===e&&delete this.events[e]}},(l={config:g,contextName:u,registry:p,defined:m,urlFetched:n,defQueue:h,defQueueMap:{},Module:e,makeModuleMap:S,nextTick:req.nextTick,onError:O,configure:function(e){if(e.baseUrl&&\"/\"!==e.baseUrl.charAt(e.baseUrl.length-1)&&(e.baseUrl+=\"/\"),\"string\"==typeof e.urlArgs){var i=e.urlArgs;e.urlArgs=function(e,t){return(-1===t.indexOf(\"?\")?\"?\":\"&\")+i}}var r=g.shim,n={paths:!0,bundles:!0,config:!0,map:!0};eachProp(e,function(e,t){n[t]?(g[t]||(g[t]={}),mixin(g[t],e,!0,!0)):g[t]=e}),e.bundles&&eachProp(e.bundles,function(e,t){each(e,function(e){e!==t&&(v[e]=t)})}),e.shim&&(eachProp(e.shim,function(e,t){isArray(e)&&(e={deps:e}),!e.exports&&!e.init||e.exportsFn||(e.exportsFn=l.makeShimExports(e)),r[t]=e}),g.shim=r),e.packages&&each(e.packages,function(e){var t;t=(e=\"string\"==typeof e?{name:e}:e).name,e.location&&(g.paths[t]=e.location),g.pkgs[t]=e.name+\"/\"+(e.main||\"main\").replace(currDirRegExp,\"\").replace(jsSuffixRegExp,\"\")}),eachProp(p,function(e,t){e.inited||e.map.unnormalized||(e.map=S(t,null,!0))}),(e.deps||e.callback)&&l.require(e.deps||[],e.callback)},makeShimExports:function(t){return function(){var e;return t.init&&(e=t.init.apply(global,arguments)),e||t.exports&&getGlobal(t.exports)}},makeRequire:function(o,a){function s(e,t,i){var r,n;return a.enableBuildCallback&&t&&isFunction(t)&&(t.__requireJsBuild=!0),\"string\"==typeof e?isFunction(t)?O(makeError(\"requireargs\",\"Invalid require call\"),i):o&&hasProp(c,e)?c[e](p[o.id]):req.get?req.get(l,e,o,s):(r=S(e,o,!1,!0).id,hasProp(m,r)?m[r]:O(makeError(\"notloaded\",'Module name \"'+r+'\" has not been loaded yet for context: '+u+(o?\"\":\". Use require([])\")))):(T(),l.nextTick(function(){T(),(n=k(S(null,o))).skipMap=a.skipMap,n.init(e,t,i,{enabled:!0}),R()}),s)}return a=a||{},mixin(s,{isBrowser:isBrowser,toUrl:function(e){var t,i=e.lastIndexOf(\".\"),r=e.split(\"/\")[0];return-1!==i&&(!(\".\"===r||\"..\"===r)||1<i)&&(t=e.substring(i,e.length),e=e.substring(0,i)),l.nameToUrl(q(e,o&&o.id,!0),t,!0)},defined:function(e){return hasProp(m,S(e,o,!1,!0).id)},specified:function(e){return e=S(e,o,!1,!0).id,hasProp(m,e)||hasProp(p,e)}}),o||(s.undef=function(i){j();var e=S(i,o,!0),t=getOwn(p,i);t.undefed=!0,E(i),delete m[i],delete n[e.url],delete r[i],eachReverse(h,function(e,t){e[0]===i&&h.splice(t,1)}),delete l.defQueueMap[i],t&&(t.events.defined&&(r[i]=t.events),P(i))}),s},enable:function(e){getOwn(p,e.id)&&k(e).enable()},completeLoad:function(e){var t,i,r,n=getOwn(g.shim,e)||{},o=n.exports;for(j();h.length;){if(null===(i=h.shift())[0]){if(i[0]=e,t)break;t=!0}else i[0]===e&&(t=!0);a(i)}if(l.defQueueMap={},r=getOwn(p,e),!t&&!hasProp(m,e)&&r&&!r.inited){if(!(!g.enforceDefine||o&&getGlobal(o)))return w(e)?void 0:O(makeError(\"nodefine\",\"No define call for \"+e,null,[e]));a([e,n.deps||[],n.exportsFn])}R()},nameToUrl:function(e,t,i){var r,n,o,a,s,u,c=getOwn(g.pkgs,e);if(c&&(e=c),u=getOwn(v,e))return l.nameToUrl(u,t,i);if(req.jsExtRegExp.test(e))a=e+(t||\"\");else{for(r=g.paths,o=(n=e.split(\"/\")).length;0<o;o-=1)if(s=getOwn(r,n.slice(0,o).join(\"/\"))){isArray(s)&&(s=s[0]),n.splice(0,o,s);break}a=n.join(\"/\"),a=(\"/\"===(a+=t||(/^data\\:|^blob\\:|\\?/.test(a)||i?\"\":\".js\")).charAt(0)||a.match(/^[\\w\\+\\.\\-]+:/)?\"\":g.baseUrl)+a}return g.urlArgs&&!/^blob\\:/.test(a)?a+g.urlArgs(e,a):a},load:function(e,t){req.load(l,e,t)},execCb:function(e,t,i,r){return t.apply(r,i)},onScriptLoad:function(e){if(\"load\"===e.type||readyRegExp.test((e.currentTarget||e.srcElement).readyState)){interactiveScript=null;var t=s(e);l.completeLoad(t.id)}},onScriptError:function(e){var i=s(e);if(!w(i.id)){var r=[];return eachProp(p,function(e,t){0!==t.indexOf(\"_@r\")&&each(e.depMaps,function(e){if(e.id===i.id)return r.push(t),!0})}),O(makeError(\"scripterror\",'Script error for \"'+i.id+(r.length?'\", needed by: '+r.join(\", \"):'\"'),e,[i.id]))}}}).require=l.makeRequire(),l}function getInteractiveScript(){return interactiveScript&&\"interactive\"===interactiveScript.readyState||eachReverse(scripts(),function(e){if(\"interactive\"===e.readyState)return interactiveScript=e}),interactiveScript}}(this,\"undefined\"==typeof setTimeout?void 0:setTimeout); </script>\n",
       "<script>\n",
       " require.config({\n",
       "   paths: {\n",
       "     'plotly': \"https://cdn.plot.ly/plotly-latest.min\",\n",
       "     'macy': \"https://cdn.jsdelivr.net/npm/macy@2.5.1/dist/macy.min\",\n",
       "     'merge': \"https://unpkg.com/merge-images@2.0.0/dist/index.umd\"\n",
       "   },\n",
       " })\n",
       "require( ['plotly', 'macy', 'merge'], function(Plotly, Macy, mergeImages) {\n",
       " window.Plotly = Plotly;\n",
       " window.Macy = Macy;\n",
       " window.mergeImages = mergeImages;\n",
       "})\n",
       "</script>\n"
      ]
     },
     "metadata": {},
     "output_type": "display_data"
    },
    {
     "data": {
      "text/plain": [
       "\u001b[32mimport \u001b[39m\u001b[36morg.carbonateresearch.picta.render.Html.initNotebook // required to initialize jupyter notebook mode\n",
       "\u001b[39m"
      ]
     },
     "execution_count": 3,
     "metadata": {},
     "output_type": "execute_result"
    }
   ],
   "source": [
    "import org.carbonateresearch.picta.render.Html.initNotebook // required to initialize jupyter notebook mode\n",
    "initNotebook() // stops ugly output"
   ]
  },
  {
   "cell_type": "markdown",
   "metadata": {},
   "source": [
    "# 1. Basics\n",
    "\n",
    "The aim of the Picta library is to be a highly configurable and composable charting library for data exploration. The library takes a grammatical approach to chart construction. \n",
    "\n",
    "The following examples are aimed at demonstrating the libraries capabilities, and eventually make constructing charts using this library easy and intuitive."
   ]
  },
  {
   "cell_type": "markdown",
   "metadata": {},
   "source": [
    "### Main Components\n",
    "\n",
    "Picta graphs are constructed in a modular manner. The main components are:\n",
    "\n",
    "1. `Canvas`: This is is the top-level component for representing the display. A `Canvas` may consist of multiple charts.\n",
    "\n",
    "\n",
    "2. `Chart`: This is the component that corresponds to an actual chart (i.e. scatter, pie etc).\n",
    "\n",
    "\n",
    "3. `Series`: This is the data series that is plotted on a `Chart`. `Series` come in 3 types:\n",
    "\n",
    "    - `XY`:   This is series data for constructing a 2D chart\n",
    "    - `XYZ`:  This is series data for constructing a 3D chart\n",
    "    - `Map`:  This is series data that constructs a Map chart\n",
    "    \n",
    "\n",
    "4. `ChartLayout`: This configures various parts of how the `Chart` is represented on screen.\n",
    "\n",
    "`Chart` may occassionally also make use of the `Config` component for further configuration. `Config` specifies whether the plot is responsive.\n",
    "\n",
    "The following examples in this notebook should provide a number of interactive examples to get used to the Picta library."
   ]
  },
  {
   "cell_type": "markdown",
   "metadata": {},
   "source": [
    "### Importing the Library\n",
    "\n",
    "Importing as below should bring in the most frequently used Components in the library."
   ]
  },
  {
   "cell_type": "code",
   "execution_count": 4,
   "metadata": {},
   "outputs": [],
   "source": [
    "import org.carbonateresearch.picta._"
   ]
  },
  {
   "cell_type": "markdown",
   "metadata": {},
   "source": [
    "### Create Some Dummy Data to Use in the Examples\n",
    "\n",
    "Here we create some dummy data to be used in the examples for this notebook."
   ]
  },
  {
   "cell_type": "code",
   "execution_count": 5,
   "metadata": {},
   "outputs": [],
   "source": [
    "val x = List.range(0, 100).map(x => scala.util.Random.nextDouble() * 50)\n",
    "val y = List.range(0, 100).map(x => scala.util.Random.nextDouble() * 50)\n",
    "val z = List.range(0, 100).map(x => scala.util.Random.nextDouble() * 50)"
   ]
  },
  {
   "cell_type": "markdown",
   "metadata": {},
   "source": [
    "### 2D Plots\n",
    "\n",
    "`Series` that represent 2D data are represented by `XY` series types.\n",
    "\n",
    "\n",
    "#### Scatter Plot\n",
    "\n",
    "An example `Scatter` plot is below. \n",
    "\n",
    "Note: This is just one way to call the library functions. Another way that uses function chaining will be shown immediately after this example."
   ]
  },
  {
   "cell_type": "code",
   "execution_count": 6,
   "metadata": {},
   "outputs": [
    {
     "data": {
      "text/html": [
       "<div id=\"grid-container_OlHFvxgLKE\" class=\"grid-container\" align=\"center\"> \n",
       "<div id=\"grid_OlHFvxgLKE\" class=\"grid\" align=\"center\"> \n",
       "<div id=\"graph_fkuRMSkM2I\" class=\"graph\"></div> \n",
       "</div> \n",
       "</div> \n",
       "<script>\n",
       "var masonry = new Macy({\n",
       "    container: '#grid_OlHFvxgLKE',\n",
       "    debug: true,\n",
       "    mobileFirst: true,\n",
       "    columns: 1,\n",
       "    margin: {\n",
       "        x: 0,\n",
       "        y: 0\n",
       "    }\n",
       "  });\n",
       "\n",
       "  var traces_fkuRMSkM2I = [{\"name\":\"ADcxrtoUdC\",\"type\":\"scatter\",\"mode\":\"markers\",\"x\":[46.38786276829849,28.1311520229638,15.292679701703632,25.0876449842593,33.20840781396945,16.185603456788378,8.40102313201636,21.36515161603485,43.112204511852404,42.20378721198507,46.56063633145012,25.53565095683417,19.656593463177234,10.137408247532226,16.912387874586976,42.58361492588788,24.721344353365588,32.413942948034006,10.43846738197835,36.00227428320172,41.62261838392614,38.02225433278944,4.519733470868076,2.4955052163328384,40.03766766993655,6.198702965037106,20.77501022278185,23.08663967718066,15.339436791701926,2.534097398733093,34.4778136940915,18.064894928676356,5.223477518957326,49.05821187433454,34.16042981802882,1.2177516004455158,3.3552388635375188,3.657386108043564,3.8922059167286194,10.877638082408414,33.174045521922956,7.0420658927765665,26.15841732919357,41.453901981432516,14.960744413147115,27.40497827865288,30.26796370776374,9.326091539917547,5.809224451364053,43.89695313040537,39.78264570305639,11.242166222083954,15.237711744133197,10.096221750197987,2.587708132642769,21.695335333235093,48.83393417398087,27.75837876967745,18.912800463974367,28.145789529604105,8.548976780238387,39.308001463128534,15.864434717209603,19.40868188965556,31.03782757391566,14.76924434427857,1.8455041155904517,23.04728218794129,24.790330307298152,15.131579793653222,20.614367612445918,32.19031037294467,22.704461892815836,9.508145134221824,12.675434116960977,20.83503958974332,49.22455103356965,7.868035767289633,31.195181507223307,19.402821564917648,10.200269817166674,44.610153022635565,0.7019561910300953,9.081289624752714,49.217905655853905,10.79510597981458,49.454873279522445,44.31753646558326,26.313662082539622,34.462926851719,40.55658373377319,27.719189578382235,13.699416874280356,49.138261533115276,22.63663336312165,40.575339624571555,18.41455629776395,20.360952268472033,18.24657725882814,25.22687848919862],\"y\":[33.66324369825452,18.878816736686744,16.98499695756431,22.595894479860302,39.00465668061629,37.00071845247736,40.809982352478556,39.326303021235596,14.534438106063853,41.53187519754047,0.9986142550657107,4.193034324221107,5.728797661958235,42.699654205438016,19.777448013485007,22.70462093721895,23.71844065456515,33.52696008574686,44.77492540010417,2.1541356863035874,40.41764811023924,18.221631912335447,41.13610559870591,46.76600581656015,39.154591394906454,1.3240958278863124,4.392080472944116,14.041298980933481,9.232114837798221,1.591848815395358,46.990843170952644,28.921658221788434,27.19398330044895,35.8981876431026,22.773396545829495,21.97214731336213,48.47972761224878,38.78389969866178,16.618276704175145,41.42583466381987,40.62197591356412,42.724497093942745,40.97967086894048,36.638040352366104,23.173348432200797,42.6618604826504,47.108733943442004,22.265714098365404,40.14566624262043,5.898029891825606,26.37466495912268,8.31754135155367,27.902492878538855,15.06018006307528,46.29156839355974,21.11290324559266,5.166641693886032,47.51964567772349,36.60906859019795,44.14292566560902,2.087588046587663,49.38421293163615,13.139102469988822,25.844410523627282,12.15932436312005,5.981701175021387,0.8682610655693368,33.377553567140765,44.18748355512038,43.6141835798667,43.344527344184925,27.640876104434543,21.475216197888603,19.286050963770464,12.329173183993698,44.9619318461817,21.93050996268841,16.09541336138597,10.269067085190715,45.16989943106682,25.89336664883598,12.027199764435947,38.271575847402254,24.086247882457947,38.139424556557586,28.99761087183729,33.953708180045545,40.86225282240479,26.73735704725717,47.17343308805924,16.78909089853306,27.047216691222864,24.22052729632937,36.826041993224365,13.390828484399375,24.788807230687848,15.879138600892146,16.27873466956663,21.545254235074786,46.147039906464194]}];\n",
       " var layout_fkuRMSkM2I = {\"height\":550,\"width\":600,\"hovermode\":\"closest\",\"title\":{\"text\":\"First Chart\"},\"showlegend\":true};\n",
       " var config_fkuRMSkM2I = {\"responsive\":true,\"scrollZoom\":true,\"displaylogo\":false};\n",
       " Plotly.newPlot(\"graph_fkuRMSkM2I\", traces_fkuRMSkM2I, layout_fkuRMSkM2I, config_fkuRMSkM2I);\n",
       "</script> \n"
      ]
     },
     "metadata": {},
     "output_type": "display_data"
    }
   ],
   "source": [
    "// create the data series using the data from above\n",
    "// 'asType SCATTER' transforms the series into a scatter chart\n",
    "// 'drawStyle Markers' specifies the style of the markers the chart should have\n",
    "// if a name is not provided to the series, Picta generates a random name to help keep track of the series in charts\n",
    "// multiple series.\n",
    "val series = XY(x, y) asType SCATTER drawStyle MARKERS\n",
    "\n",
    "// create a chart by adding to it a data series. We set the title as 'First Chart'\n",
    "val chart = Chart() addSeries series setTitle \"First Chart\"\n",
    "\n",
    "// if we have a single chart, then we do not need to use the Canvas and can simply call chart.plot\n",
    "\n",
    "chart.plotInline"
   ]
  },
  {
   "cell_type": "markdown",
   "metadata": {},
   "source": [
    "#Simple costumization\n",
    "This plot is nice, but could use some simple costumization to make it more attractive. First, the data series does not have a name and so the legend come with a generated arbitrary name (not very useful). Second, the X and Y axis don't have labels. Let's fix that."
   ]
  },
  {
   "cell_type": "code",
   "execution_count": 7,
   "metadata": {},
   "outputs": [
    {
     "data": {
      "text/html": [
       "<div id=\"grid-container_DgqsxJVDxN\" class=\"grid-container\" align=\"center\"> \n",
       "<div id=\"grid_DgqsxJVDxN\" class=\"grid\" align=\"center\"> \n",
       "<div id=\"graph_mBXjcHlKOK\" class=\"graph\"></div> \n",
       "</div> \n",
       "</div> \n",
       "<script>\n",
       "var masonry = new Macy({\n",
       "    container: '#grid_DgqsxJVDxN',\n",
       "    debug: true,\n",
       "    mobileFirst: true,\n",
       "    columns: 1,\n",
       "    margin: {\n",
       "        x: 0,\n",
       "        y: 0\n",
       "    }\n",
       "  });\n",
       "\n",
       "  var traces_mBXjcHlKOK = [{\"name\":\"x vs y\",\"type\":\"scatter\",\"mode\":\"markers\",\"x\":[46.38786276829849,28.1311520229638,15.292679701703632,25.0876449842593,33.20840781396945,16.185603456788378,8.40102313201636,21.36515161603485,43.112204511852404,42.20378721198507,46.56063633145012,25.53565095683417,19.656593463177234,10.137408247532226,16.912387874586976,42.58361492588788,24.721344353365588,32.413942948034006,10.43846738197835,36.00227428320172,41.62261838392614,38.02225433278944,4.519733470868076,2.4955052163328384,40.03766766993655,6.198702965037106,20.77501022278185,23.08663967718066,15.339436791701926,2.534097398733093,34.4778136940915,18.064894928676356,5.223477518957326,49.05821187433454,34.16042981802882,1.2177516004455158,3.3552388635375188,3.657386108043564,3.8922059167286194,10.877638082408414,33.174045521922956,7.0420658927765665,26.15841732919357,41.453901981432516,14.960744413147115,27.40497827865288,30.26796370776374,9.326091539917547,5.809224451364053,43.89695313040537,39.78264570305639,11.242166222083954,15.237711744133197,10.096221750197987,2.587708132642769,21.695335333235093,48.83393417398087,27.75837876967745,18.912800463974367,28.145789529604105,8.548976780238387,39.308001463128534,15.864434717209603,19.40868188965556,31.03782757391566,14.76924434427857,1.8455041155904517,23.04728218794129,24.790330307298152,15.131579793653222,20.614367612445918,32.19031037294467,22.704461892815836,9.508145134221824,12.675434116960977,20.83503958974332,49.22455103356965,7.868035767289633,31.195181507223307,19.402821564917648,10.200269817166674,44.610153022635565,0.7019561910300953,9.081289624752714,49.217905655853905,10.79510597981458,49.454873279522445,44.31753646558326,26.313662082539622,34.462926851719,40.55658373377319,27.719189578382235,13.699416874280356,49.138261533115276,22.63663336312165,40.575339624571555,18.41455629776395,20.360952268472033,18.24657725882814,25.22687848919862],\"y\":[33.66324369825452,18.878816736686744,16.98499695756431,22.595894479860302,39.00465668061629,37.00071845247736,40.809982352478556,39.326303021235596,14.534438106063853,41.53187519754047,0.9986142550657107,4.193034324221107,5.728797661958235,42.699654205438016,19.777448013485007,22.70462093721895,23.71844065456515,33.52696008574686,44.77492540010417,2.1541356863035874,40.41764811023924,18.221631912335447,41.13610559870591,46.76600581656015,39.154591394906454,1.3240958278863124,4.392080472944116,14.041298980933481,9.232114837798221,1.591848815395358,46.990843170952644,28.921658221788434,27.19398330044895,35.8981876431026,22.773396545829495,21.97214731336213,48.47972761224878,38.78389969866178,16.618276704175145,41.42583466381987,40.62197591356412,42.724497093942745,40.97967086894048,36.638040352366104,23.173348432200797,42.6618604826504,47.108733943442004,22.265714098365404,40.14566624262043,5.898029891825606,26.37466495912268,8.31754135155367,27.902492878538855,15.06018006307528,46.29156839355974,21.11290324559266,5.166641693886032,47.51964567772349,36.60906859019795,44.14292566560902,2.087588046587663,49.38421293163615,13.139102469988822,25.844410523627282,12.15932436312005,5.981701175021387,0.8682610655693368,33.377553567140765,44.18748355512038,43.6141835798667,43.344527344184925,27.640876104434543,21.475216197888603,19.286050963770464,12.329173183993698,44.9619318461817,21.93050996268841,16.09541336138597,10.269067085190715,45.16989943106682,25.89336664883598,12.027199764435947,38.271575847402254,24.086247882457947,38.139424556557586,28.99761087183729,33.953708180045545,40.86225282240479,26.73735704725717,47.17343308805924,16.78909089853306,27.047216691222864,24.22052729632937,36.826041993224365,13.390828484399375,24.788807230687848,15.879138600892146,16.27873466956663,21.545254235074786,46.147039906464194]}];\n",
       " var layout_mBXjcHlKOK = {\"height\":550,\"width\":600,\"hovermode\":\"closest\",\"title\":{\"text\":\"Chart with custom axis and label\"},\"showlegend\":true,\"xaxis\":{\"title\":{\"text\":\"X values\"},\"showgrid\":true,\"zeroline\":false,\"showline\":false},\"yaxis\":{\"title\":{\"text\":\"Y values\"},\"showgrid\":true,\"zeroline\":false,\"showline\":false}};\n",
       " var config_mBXjcHlKOK = {\"responsive\":true,\"scrollZoom\":true,\"displaylogo\":false};\n",
       " Plotly.newPlot(\"graph_mBXjcHlKOK\", traces_mBXjcHlKOK, layout_mBXjcHlKOK, config_mBXjcHlKOK);\n",
       "</script> \n"
      ]
     },
     "metadata": {},
     "output_type": "display_data"
    }
   ],
   "source": [
    "val series = XY(x, y) asType SCATTER drawStyle MARKERS setName(\"x vs y\") // Using 'setName' gives a name to our series \n",
    "\n",
    "// Note the use of the setXAxisTitle and setYAxisTitle compared to above\n",
    "val chart = Chart() addSeries series setTitle \"Chart with custom axis and label\" setXAxisTitle(\"X values\") setYAxisTitle(\"Y values\")\n",
    "\n",
    "chart.plotInline"
   ]
  },
  {
   "cell_type": "markdown",
   "metadata": {},
   "source": [
    "#### Chaining Functions using the '.dot' notation\n",
    "\n",
    "Sometimes when we are specifying many options, it is quicker to use the IDE autocomplete and just chain the function calls using the familiar '.dot' notation. Throughout this book both the style above and the function chaining style will be used as and when convenient."
   ]
  },
  {
   "cell_type": "code",
   "execution_count": 8,
   "metadata": {},
   "outputs": [
    {
     "data": {
      "text/html": [
       "<div id=\"grid-container_PE4TEG2GV0\" class=\"grid-container\" align=\"center\"> \n",
       "<div id=\"grid_PE4TEG2GV0\" class=\"grid\" align=\"center\"> \n",
       "<div id=\"graph_njXkyfW2C0\" class=\"graph\"></div> \n",
       "</div> \n",
       "</div> \n",
       "<script>\n",
       "var masonry = new Macy({\n",
       "    container: '#grid_PE4TEG2GV0',\n",
       "    debug: true,\n",
       "    mobileFirst: true,\n",
       "    columns: 1,\n",
       "    margin: {\n",
       "        x: 0,\n",
       "        y: 0\n",
       "    }\n",
       "  });\n",
       "\n",
       "  var traces_njXkyfW2C0 = [{\"name\":\"Chained xy\",\"type\":\"scatter\",\"mode\":\"markers\",\"x\":[46.38786276829849,28.1311520229638,15.292679701703632,25.0876449842593,33.20840781396945,16.185603456788378,8.40102313201636,21.36515161603485,43.112204511852404,42.20378721198507,46.56063633145012,25.53565095683417,19.656593463177234,10.137408247532226,16.912387874586976,42.58361492588788,24.721344353365588,32.413942948034006,10.43846738197835,36.00227428320172,41.62261838392614,38.02225433278944,4.519733470868076,2.4955052163328384,40.03766766993655,6.198702965037106,20.77501022278185,23.08663967718066,15.339436791701926,2.534097398733093,34.4778136940915,18.064894928676356,5.223477518957326,49.05821187433454,34.16042981802882,1.2177516004455158,3.3552388635375188,3.657386108043564,3.8922059167286194,10.877638082408414,33.174045521922956,7.0420658927765665,26.15841732919357,41.453901981432516,14.960744413147115,27.40497827865288,30.26796370776374,9.326091539917547,5.809224451364053,43.89695313040537,39.78264570305639,11.242166222083954,15.237711744133197,10.096221750197987,2.587708132642769,21.695335333235093,48.83393417398087,27.75837876967745,18.912800463974367,28.145789529604105,8.548976780238387,39.308001463128534,15.864434717209603,19.40868188965556,31.03782757391566,14.76924434427857,1.8455041155904517,23.04728218794129,24.790330307298152,15.131579793653222,20.614367612445918,32.19031037294467,22.704461892815836,9.508145134221824,12.675434116960977,20.83503958974332,49.22455103356965,7.868035767289633,31.195181507223307,19.402821564917648,10.200269817166674,44.610153022635565,0.7019561910300953,9.081289624752714,49.217905655853905,10.79510597981458,49.454873279522445,44.31753646558326,26.313662082539622,34.462926851719,40.55658373377319,27.719189578382235,13.699416874280356,49.138261533115276,22.63663336312165,40.575339624571555,18.41455629776395,20.360952268472033,18.24657725882814,25.22687848919862],\"y\":[33.66324369825452,18.878816736686744,16.98499695756431,22.595894479860302,39.00465668061629,37.00071845247736,40.809982352478556,39.326303021235596,14.534438106063853,41.53187519754047,0.9986142550657107,4.193034324221107,5.728797661958235,42.699654205438016,19.777448013485007,22.70462093721895,23.71844065456515,33.52696008574686,44.77492540010417,2.1541356863035874,40.41764811023924,18.221631912335447,41.13610559870591,46.76600581656015,39.154591394906454,1.3240958278863124,4.392080472944116,14.041298980933481,9.232114837798221,1.591848815395358,46.990843170952644,28.921658221788434,27.19398330044895,35.8981876431026,22.773396545829495,21.97214731336213,48.47972761224878,38.78389969866178,16.618276704175145,41.42583466381987,40.62197591356412,42.724497093942745,40.97967086894048,36.638040352366104,23.173348432200797,42.6618604826504,47.108733943442004,22.265714098365404,40.14566624262043,5.898029891825606,26.37466495912268,8.31754135155367,27.902492878538855,15.06018006307528,46.29156839355974,21.11290324559266,5.166641693886032,47.51964567772349,36.60906859019795,44.14292566560902,2.087588046587663,49.38421293163615,13.139102469988822,25.844410523627282,12.15932436312005,5.981701175021387,0.8682610655693368,33.377553567140765,44.18748355512038,43.6141835798667,43.344527344184925,27.640876104434543,21.475216197888603,19.286050963770464,12.329173183993698,44.9619318461817,21.93050996268841,16.09541336138597,10.269067085190715,45.16989943106682,25.89336664883598,12.027199764435947,38.271575847402254,24.086247882457947,38.139424556557586,28.99761087183729,33.953708180045545,40.86225282240479,26.73735704725717,47.17343308805924,16.78909089853306,27.047216691222864,24.22052729632937,36.826041993224365,13.390828484399375,24.788807230687848,15.879138600892146,16.27873466956663,21.545254235074786,46.147039906464194]}];\n",
       " var layout_njXkyfW2C0 = {\"height\":550,\"width\":600,\"hovermode\":\"closest\",\"title\":{\"text\":\"Using Function Chaining\"},\"showlegend\":true,\"xaxis\":{\"showgrid\":true,\"zeroline\":false,\"showline\":false},\"yaxis\":{\"showgrid\":true,\"zeroline\":false,\"showline\":false}};\n",
       " var config_njXkyfW2C0 = {\"responsive\":true,\"scrollZoom\":true,\"displaylogo\":false};\n",
       " Plotly.newPlot(\"graph_njXkyfW2C0\", traces_njXkyfW2C0, layout_njXkyfW2C0, config_njXkyfW2C0);\n",
       "</script> \n"
      ]
     },
     "metadata": {},
     "output_type": "display_data"
    }
   ],
   "source": [
    "// sometimes we may specify many options. In such cases it is clearer to use function chaining as below:\n",
    "val series = XY(x, y)\n",
    "            .asType(SCATTER)\n",
    "            .setName(\"Chained xy\")\n",
    "            .drawMarkers  // This is to help leverage the IDE autocompletion for quick scripting. Tap 'tab' twice to see options.\n",
    "\n",
    "val chart = Chart()\n",
    "            .addSeries(series)\n",
    "            .setTitle(\"Using Function Chaining\")\n",
    "            // by specifying and X and Y axes we can give more rid of the zerolines\n",
    "            .addAxes(Axis(X ,zeroline = false), Axis(Y ,zeroline = false)) \n",
    "\n",
    "chart.plotInline"
   ]
  },
  {
   "cell_type": "markdown",
   "metadata": {},
   "source": [
    "#### Bar Chart\n",
    "\n",
    "Now using the same principles as above, let's create a `Bar` chart:"
   ]
  },
  {
   "cell_type": "code",
   "execution_count": 9,
   "metadata": {},
   "outputs": [
    {
     "data": {
      "text/html": [
       "<div id=\"grid-container_vo52GqKNzB\" class=\"grid-container\" align=\"center\"> \n",
       "<div id=\"grid_vo52GqKNzB\" class=\"grid\" align=\"center\"> \n",
       "<div id=\"graph_dC5gV95w4U\" class=\"graph\"></div> \n",
       "</div> \n",
       "</div> \n",
       "<script>\n",
       "var masonry = new Macy({\n",
       "    container: '#grid_vo52GqKNzB',\n",
       "    debug: true,\n",
       "    mobileFirst: true,\n",
       "    columns: 1,\n",
       "    margin: {\n",
       "        x: 0,\n",
       "        y: 0\n",
       "    }\n",
       "  });\n",
       "\n",
       "  var traces_dC5gV95w4U = [{\"name\":\"My data\",\"type\":\"bar\",\"x\":[\"a\",\"b\",\"c\"],\"y\":[10,20,300]}];\n",
       " var layout_dC5gV95w4U = {\"height\":550,\"width\":600,\"hovermode\":\"closest\",\"title\":{\"text\":\"Bar Chart\"},\"showlegend\":true};\n",
       " var config_dC5gV95w4U = {\"responsive\":false,\"scrollZoom\":false,\"displaylogo\":false};\n",
       " Plotly.newPlot(\"graph_dC5gV95w4U\", traces_dC5gV95w4U, layout_dC5gV95w4U, config_dC5gV95w4U);\n",
       "</script> \n"
      ]
     },
     "metadata": {},
     "output_type": "display_data"
    }
   ],
   "source": [
    "// First we create some data for the piechart\n",
    "val x_bar = List(\"a\", \"b\", \"c\")\n",
    "val y_bar = List(10, 20, 300)\n",
    "\n",
    "// again feed in the data that we want to represent as a Bar chart.\n",
    "// Notice how we change 'asType SCATTER' to 'asType BAR'\n",
    "val series = XY(x_bar, y_bar) asType BAR setName(\"My data\")\n",
    "\n",
    "// we can turn off the scrollzoom using setConfig\n",
    "val chart = Chart() addSeries series setTitle \"Bar Chart\" setConfig(false, false)\n",
    "\n",
    "chart.plotInline"
   ]
  },
  {
   "cell_type": "markdown",
   "metadata": {},
   "source": [
    "#### Adding Multiple Series on the Same Axis\n",
    "\n",
    "Sometimes we may want to plot multiple `Series` on the same axis to compare different data series.\n",
    "\n",
    "Let's plot both of the above on the same pair of axis:"
   ]
  },
  {
   "cell_type": "code",
   "execution_count": 10,
   "metadata": {},
   "outputs": [],
   "source": [
    "// we import the marker option which lets us specify the marker\n",
    "import org.carbonateresearch.picta.options.Marker\n",
    "import org.carbonateresearch.picta.SymbolShape._"
   ]
  },
  {
   "cell_type": "code",
   "execution_count": 11,
   "metadata": {},
   "outputs": [
    {
     "data": {
      "text/html": [
       "<div id=\"grid-container_JlCKO0UiLi\" class=\"grid-container\" align=\"center\"> \n",
       "<div id=\"grid_JlCKO0UiLi\" class=\"grid\" align=\"center\"> \n",
       "<div id=\"graph_3emFdqRiez\" class=\"graph\"></div> \n",
       "</div> \n",
       "</div> \n",
       "<script>\n",
       "var masonry = new Macy({\n",
       "    container: '#grid_JlCKO0UiLi',\n",
       "    debug: true,\n",
       "    mobileFirst: true,\n",
       "    columns: 1,\n",
       "    margin: {\n",
       "        x: 0,\n",
       "        y: 0\n",
       "    }\n",
       "  });\n",
       "\n",
       "  var traces_3emFdqRiez = [{\"name\":\"Bar\",\"type\":\"bar\",\"x\":[46.38786276829849,28.1311520229638,15.292679701703632,25.0876449842593,33.20840781396945,16.185603456788378,8.40102313201636,21.36515161603485,43.112204511852404,42.20378721198507,46.56063633145012,25.53565095683417,19.656593463177234,10.137408247532226,16.912387874586976,42.58361492588788,24.721344353365588,32.413942948034006,10.43846738197835,36.00227428320172,41.62261838392614,38.02225433278944,4.519733470868076,2.4955052163328384,40.03766766993655,6.198702965037106,20.77501022278185,23.08663967718066,15.339436791701926,2.534097398733093,34.4778136940915,18.064894928676356,5.223477518957326,49.05821187433454,34.16042981802882,1.2177516004455158,3.3552388635375188,3.657386108043564,3.8922059167286194,10.877638082408414,33.174045521922956,7.0420658927765665,26.15841732919357,41.453901981432516,14.960744413147115,27.40497827865288,30.26796370776374,9.326091539917547,5.809224451364053,43.89695313040537,39.78264570305639,11.242166222083954,15.237711744133197,10.096221750197987,2.587708132642769,21.695335333235093,48.83393417398087,27.75837876967745,18.912800463974367,28.145789529604105,8.548976780238387,39.308001463128534,15.864434717209603,19.40868188965556,31.03782757391566,14.76924434427857,1.8455041155904517,23.04728218794129,24.790330307298152,15.131579793653222,20.614367612445918,32.19031037294467,22.704461892815836,9.508145134221824,12.675434116960977,20.83503958974332,49.22455103356965,7.868035767289633,31.195181507223307,19.402821564917648,10.200269817166674,44.610153022635565,0.7019561910300953,9.081289624752714,49.217905655853905,10.79510597981458,49.454873279522445,44.31753646558326,26.313662082539622,34.462926851719,40.55658373377319,27.719189578382235,13.699416874280356,49.138261533115276,22.63663336312165,40.575339624571555,18.41455629776395,20.360952268472033,18.24657725882814,25.22687848919862],\"y\":[33.66324369825452,18.878816736686744,16.98499695756431,22.595894479860302,39.00465668061629,37.00071845247736,40.809982352478556,39.326303021235596,14.534438106063853,41.53187519754047,0.9986142550657107,4.193034324221107,5.728797661958235,42.699654205438016,19.777448013485007,22.70462093721895,23.71844065456515,33.52696008574686,44.77492540010417,2.1541356863035874,40.41764811023924,18.221631912335447,41.13610559870591,46.76600581656015,39.154591394906454,1.3240958278863124,4.392080472944116,14.041298980933481,9.232114837798221,1.591848815395358,46.990843170952644,28.921658221788434,27.19398330044895,35.8981876431026,22.773396545829495,21.97214731336213,48.47972761224878,38.78389969866178,16.618276704175145,41.42583466381987,40.62197591356412,42.724497093942745,40.97967086894048,36.638040352366104,23.173348432200797,42.6618604826504,47.108733943442004,22.265714098365404,40.14566624262043,5.898029891825606,26.37466495912268,8.31754135155367,27.902492878538855,15.06018006307528,46.29156839355974,21.11290324559266,5.166641693886032,47.51964567772349,36.60906859019795,44.14292566560902,2.087588046587663,49.38421293163615,13.139102469988822,25.844410523627282,12.15932436312005,5.981701175021387,0.8682610655693368,33.377553567140765,44.18748355512038,43.6141835798667,43.344527344184925,27.640876104434543,21.475216197888603,19.286050963770464,12.329173183993698,44.9619318461817,21.93050996268841,16.09541336138597,10.269067085190715,45.16989943106682,25.89336664883598,12.027199764435947,38.271575847402254,24.086247882457947,38.139424556557586,28.99761087183729,33.953708180045545,40.86225282240479,26.73735704725717,47.17343308805924,16.78909089853306,27.047216691222864,24.22052729632937,36.826041993224365,13.390828484399375,24.788807230687848,15.879138600892146,16.27873466956663,21.545254235074786,46.147039906464194]},{\"name\":\"Scatter\",\"type\":\"scatter\",\"mode\":\"markers\",\"marker\":{\"symbol\":\"square-open\",\"color\":\"red\"},\"x\":[46.38786276829849,28.1311520229638,15.292679701703632,25.0876449842593,33.20840781396945,16.185603456788378,8.40102313201636,21.36515161603485,43.112204511852404,42.20378721198507,46.56063633145012,25.53565095683417,19.656593463177234,10.137408247532226,16.912387874586976,42.58361492588788,24.721344353365588,32.413942948034006,10.43846738197835,36.00227428320172,41.62261838392614,38.02225433278944,4.519733470868076,2.4955052163328384,40.03766766993655,6.198702965037106,20.77501022278185,23.08663967718066,15.339436791701926,2.534097398733093,34.4778136940915,18.064894928676356,5.223477518957326,49.05821187433454,34.16042981802882,1.2177516004455158,3.3552388635375188,3.657386108043564,3.8922059167286194,10.877638082408414,33.174045521922956,7.0420658927765665,26.15841732919357,41.453901981432516,14.960744413147115,27.40497827865288,30.26796370776374,9.326091539917547,5.809224451364053,43.89695313040537,39.78264570305639,11.242166222083954,15.237711744133197,10.096221750197987,2.587708132642769,21.695335333235093,48.83393417398087,27.75837876967745,18.912800463974367,28.145789529604105,8.548976780238387,39.308001463128534,15.864434717209603,19.40868188965556,31.03782757391566,14.76924434427857,1.8455041155904517,23.04728218794129,24.790330307298152,15.131579793653222,20.614367612445918,32.19031037294467,22.704461892815836,9.508145134221824,12.675434116960977,20.83503958974332,49.22455103356965,7.868035767289633,31.195181507223307,19.402821564917648,10.200269817166674,44.610153022635565,0.7019561910300953,9.081289624752714,49.217905655853905,10.79510597981458,49.454873279522445,44.31753646558326,26.313662082539622,34.462926851719,40.55658373377319,27.719189578382235,13.699416874280356,49.138261533115276,22.63663336312165,40.575339624571555,18.41455629776395,20.360952268472033,18.24657725882814,25.22687848919862],\"y\":[33.66324369825452,18.878816736686744,16.98499695756431,22.595894479860302,39.00465668061629,37.00071845247736,40.809982352478556,39.326303021235596,14.534438106063853,41.53187519754047,0.9986142550657107,4.193034324221107,5.728797661958235,42.699654205438016,19.777448013485007,22.70462093721895,23.71844065456515,33.52696008574686,44.77492540010417,2.1541356863035874,40.41764811023924,18.221631912335447,41.13610559870591,46.76600581656015,39.154591394906454,1.3240958278863124,4.392080472944116,14.041298980933481,9.232114837798221,1.591848815395358,46.990843170952644,28.921658221788434,27.19398330044895,35.8981876431026,22.773396545829495,21.97214731336213,48.47972761224878,38.78389969866178,16.618276704175145,41.42583466381987,40.62197591356412,42.724497093942745,40.97967086894048,36.638040352366104,23.173348432200797,42.6618604826504,47.108733943442004,22.265714098365404,40.14566624262043,5.898029891825606,26.37466495912268,8.31754135155367,27.902492878538855,15.06018006307528,46.29156839355974,21.11290324559266,5.166641693886032,47.51964567772349,36.60906859019795,44.14292566560902,2.087588046587663,49.38421293163615,13.139102469988822,25.844410523627282,12.15932436312005,5.981701175021387,0.8682610655693368,33.377553567140765,44.18748355512038,43.6141835798667,43.344527344184925,27.640876104434543,21.475216197888603,19.286050963770464,12.329173183993698,44.9619318461817,21.93050996268841,16.09541336138597,10.269067085190715,45.16989943106682,25.89336664883598,12.027199764435947,38.271575847402254,24.086247882457947,38.139424556557586,28.99761087183729,33.953708180045545,40.86225282240479,26.73735704725717,47.17343308805924,16.78909089853306,27.047216691222864,24.22052729632937,36.826041993224365,13.390828484399375,24.788807230687848,15.879138600892146,16.27873466956663,21.545254235074786,46.147039906464194]}];\n",
       " var layout_3emFdqRiez = {\"height\":550,\"width\":600,\"hovermode\":\"closest\",\"title\":{\"text\":\"Multiple series on one chart\"},\"showlegend\":true};\n",
       " var config_3emFdqRiez = {\"responsive\":true,\"scrollZoom\":true,\"displaylogo\":false};\n",
       " Plotly.newPlot(\"graph_3emFdqRiez\", traces_3emFdqRiez, layout_3emFdqRiez, config_3emFdqRiez);\n",
       "</script> \n"
      ]
     },
     "metadata": {},
     "output_type": "display_data"
    }
   ],
   "source": [
    "// additional traces can simply be composed with an existing chart and added on\n",
    "val series1 = XY(x, y) asType BAR setName \"Bar\"\n",
    "\n",
    "// lets give the second series a red marker. Again we can 'compose' a marker using smaller components\n",
    "val marker = Marker() setSymbol SQUARE_OPEN setColor \"red\"\n",
    "\n",
    "val series2 = XY(x, y) asType SCATTER setName \"Scatter\" drawStyle MARKERS setMarker marker\n",
    "\n",
    "// we not put brackets in the 'addSeries' function to ensure that addSeries picks up the right series'\n",
    "val chart = Chart() addSeries(series1, series2) setTitle(\"Multiple series on one chart\")\n",
    "\n",
    "chart.plotInline"
   ]
  },
  {
   "cell_type": "markdown",
   "metadata": {},
   "source": [
    "### Lets Change The Appearance of The Markers\n",
    "\n",
    "We can control the appearance of the markers by setting the width"
   ]
  },
  {
   "cell_type": "code",
   "execution_count": 12,
   "metadata": {},
   "outputs": [
    {
     "data": {
      "text/html": [
       "<div id=\"grid-container_qV8DIOlNpt\" class=\"grid-container\" align=\"center\"> \n",
       "<div id=\"grid_qV8DIOlNpt\" class=\"grid\" align=\"center\"> \n",
       "<div id=\"graph_AtZRSggApC\" class=\"graph\"></div> \n",
       "</div> \n",
       "</div> \n",
       "<script>\n",
       "var masonry = new Macy({\n",
       "    container: '#grid_qV8DIOlNpt',\n",
       "    debug: true,\n",
       "    mobileFirst: true,\n",
       "    columns: 1,\n",
       "    margin: {\n",
       "        x: 0,\n",
       "        y: 0\n",
       "    }\n",
       "  });\n",
       "\n",
       "  var traces_AtZRSggApC = [{\"name\":\"Bar\",\"type\":\"bar\",\"x\":[46.38786276829849,28.1311520229638,15.292679701703632,25.0876449842593,33.20840781396945,16.185603456788378,8.40102313201636,21.36515161603485,43.112204511852404,42.20378721198507,46.56063633145012,25.53565095683417,19.656593463177234,10.137408247532226,16.912387874586976,42.58361492588788,24.721344353365588,32.413942948034006,10.43846738197835,36.00227428320172,41.62261838392614,38.02225433278944,4.519733470868076,2.4955052163328384,40.03766766993655,6.198702965037106,20.77501022278185,23.08663967718066,15.339436791701926,2.534097398733093,34.4778136940915,18.064894928676356,5.223477518957326,49.05821187433454,34.16042981802882,1.2177516004455158,3.3552388635375188,3.657386108043564,3.8922059167286194,10.877638082408414,33.174045521922956,7.0420658927765665,26.15841732919357,41.453901981432516,14.960744413147115,27.40497827865288,30.26796370776374,9.326091539917547,5.809224451364053,43.89695313040537,39.78264570305639,11.242166222083954,15.237711744133197,10.096221750197987,2.587708132642769,21.695335333235093,48.83393417398087,27.75837876967745,18.912800463974367,28.145789529604105,8.548976780238387,39.308001463128534,15.864434717209603,19.40868188965556,31.03782757391566,14.76924434427857,1.8455041155904517,23.04728218794129,24.790330307298152,15.131579793653222,20.614367612445918,32.19031037294467,22.704461892815836,9.508145134221824,12.675434116960977,20.83503958974332,49.22455103356965,7.868035767289633,31.195181507223307,19.402821564917648,10.200269817166674,44.610153022635565,0.7019561910300953,9.081289624752714,49.217905655853905,10.79510597981458,49.454873279522445,44.31753646558326,26.313662082539622,34.462926851719,40.55658373377319,27.719189578382235,13.699416874280356,49.138261533115276,22.63663336312165,40.575339624571555,18.41455629776395,20.360952268472033,18.24657725882814,25.22687848919862],\"y\":[33.66324369825452,18.878816736686744,16.98499695756431,22.595894479860302,39.00465668061629,37.00071845247736,40.809982352478556,39.326303021235596,14.534438106063853,41.53187519754047,0.9986142550657107,4.193034324221107,5.728797661958235,42.699654205438016,19.777448013485007,22.70462093721895,23.71844065456515,33.52696008574686,44.77492540010417,2.1541356863035874,40.41764811023924,18.221631912335447,41.13610559870591,46.76600581656015,39.154591394906454,1.3240958278863124,4.392080472944116,14.041298980933481,9.232114837798221,1.591848815395358,46.990843170952644,28.921658221788434,27.19398330044895,35.8981876431026,22.773396545829495,21.97214731336213,48.47972761224878,38.78389969866178,16.618276704175145,41.42583466381987,40.62197591356412,42.724497093942745,40.97967086894048,36.638040352366104,23.173348432200797,42.6618604826504,47.108733943442004,22.265714098365404,40.14566624262043,5.898029891825606,26.37466495912268,8.31754135155367,27.902492878538855,15.06018006307528,46.29156839355974,21.11290324559266,5.166641693886032,47.51964567772349,36.60906859019795,44.14292566560902,2.087588046587663,49.38421293163615,13.139102469988822,25.844410523627282,12.15932436312005,5.981701175021387,0.8682610655693368,33.377553567140765,44.18748355512038,43.6141835798667,43.344527344184925,27.640876104434543,21.475216197888603,19.286050963770464,12.329173183993698,44.9619318461817,21.93050996268841,16.09541336138597,10.269067085190715,45.16989943106682,25.89336664883598,12.027199764435947,38.271575847402254,24.086247882457947,38.139424556557586,28.99761087183729,33.953708180045545,40.86225282240479,26.73735704725717,47.17343308805924,16.78909089853306,27.047216691222864,24.22052729632937,36.826041993224365,13.390828484399375,24.788807230687848,15.879138600892146,16.27873466956663,21.545254235074786,46.147039906464194]},{\"name\":\"Scatter\",\"type\":\"scatter\",\"mode\":\"markers\",\"marker\":{\"symbol\":\"circle\",\"color\":\"red\",\"line\":{\"width\":2,\"color\":\"black\"},\"size\":[10,10,10,10,10,10,10,10,10,10,10,10,10,10,10,10,10,10,10,10,10,10,10,10,10,10,10,10,10,10,10,10,10,10,10,10,10,10,10,10,10,10,10,10,10,10,10,10,10,10,10,10,10,10,10,10,10,10,10,10,10,10,10,10,10,10,10,10,10,10,10,10,10,10,10,10,10,10,10,10,10,10,10,10,10,10,10,10,10,10,10,10,10,10,10,10,10,10,10,10]},\"x\":[46.38786276829849,28.1311520229638,15.292679701703632,25.0876449842593,33.20840781396945,16.185603456788378,8.40102313201636,21.36515161603485,43.112204511852404,42.20378721198507,46.56063633145012,25.53565095683417,19.656593463177234,10.137408247532226,16.912387874586976,42.58361492588788,24.721344353365588,32.413942948034006,10.43846738197835,36.00227428320172,41.62261838392614,38.02225433278944,4.519733470868076,2.4955052163328384,40.03766766993655,6.198702965037106,20.77501022278185,23.08663967718066,15.339436791701926,2.534097398733093,34.4778136940915,18.064894928676356,5.223477518957326,49.05821187433454,34.16042981802882,1.2177516004455158,3.3552388635375188,3.657386108043564,3.8922059167286194,10.877638082408414,33.174045521922956,7.0420658927765665,26.15841732919357,41.453901981432516,14.960744413147115,27.40497827865288,30.26796370776374,9.326091539917547,5.809224451364053,43.89695313040537,39.78264570305639,11.242166222083954,15.237711744133197,10.096221750197987,2.587708132642769,21.695335333235093,48.83393417398087,27.75837876967745,18.912800463974367,28.145789529604105,8.548976780238387,39.308001463128534,15.864434717209603,19.40868188965556,31.03782757391566,14.76924434427857,1.8455041155904517,23.04728218794129,24.790330307298152,15.131579793653222,20.614367612445918,32.19031037294467,22.704461892815836,9.508145134221824,12.675434116960977,20.83503958974332,49.22455103356965,7.868035767289633,31.195181507223307,19.402821564917648,10.200269817166674,44.610153022635565,0.7019561910300953,9.081289624752714,49.217905655853905,10.79510597981458,49.454873279522445,44.31753646558326,26.313662082539622,34.462926851719,40.55658373377319,27.719189578382235,13.699416874280356,49.138261533115276,22.63663336312165,40.575339624571555,18.41455629776395,20.360952268472033,18.24657725882814,25.22687848919862],\"y\":[33.66324369825452,18.878816736686744,16.98499695756431,22.595894479860302,39.00465668061629,37.00071845247736,40.809982352478556,39.326303021235596,14.534438106063853,41.53187519754047,0.9986142550657107,4.193034324221107,5.728797661958235,42.699654205438016,19.777448013485007,22.70462093721895,23.71844065456515,33.52696008574686,44.77492540010417,2.1541356863035874,40.41764811023924,18.221631912335447,41.13610559870591,46.76600581656015,39.154591394906454,1.3240958278863124,4.392080472944116,14.041298980933481,9.232114837798221,1.591848815395358,46.990843170952644,28.921658221788434,27.19398330044895,35.8981876431026,22.773396545829495,21.97214731336213,48.47972761224878,38.78389969866178,16.618276704175145,41.42583466381987,40.62197591356412,42.724497093942745,40.97967086894048,36.638040352366104,23.173348432200797,42.6618604826504,47.108733943442004,22.265714098365404,40.14566624262043,5.898029891825606,26.37466495912268,8.31754135155367,27.902492878538855,15.06018006307528,46.29156839355974,21.11290324559266,5.166641693886032,47.51964567772349,36.60906859019795,44.14292566560902,2.087588046587663,49.38421293163615,13.139102469988822,25.844410523627282,12.15932436312005,5.981701175021387,0.8682610655693368,33.377553567140765,44.18748355512038,43.6141835798667,43.344527344184925,27.640876104434543,21.475216197888603,19.286050963770464,12.329173183993698,44.9619318461817,21.93050996268841,16.09541336138597,10.269067085190715,45.16989943106682,25.89336664883598,12.027199764435947,38.271575847402254,24.086247882457947,38.139424556557586,28.99761087183729,33.953708180045545,40.86225282240479,26.73735704725717,47.17343308805924,16.78909089853306,27.047216691222864,24.22052729632937,36.826041993224365,13.390828484399375,24.788807230687848,15.879138600892146,16.27873466956663,21.545254235074786,46.147039906464194]}];\n",
       " var layout_AtZRSggApC = {\"height\":550,\"width\":600,\"hovermode\":\"closest\",\"showlegend\":true};\n",
       " var config_AtZRSggApC = {\"responsive\":false,\"scrollZoom\":false,\"displaylogo\":false};\n",
       " Plotly.newPlot(\"graph_AtZRSggApC\", traces_AtZRSggApC, layout_AtZRSggApC, config_AtZRSggApC);\n",
       "</script> \n"
      ]
     },
     "metadata": {},
     "output_type": "display_data"
    }
   ],
   "source": [
    "// we can pass in the size of the markers\n",
    "val sizes = List.range(0, 100).map(x => 10)\n",
    "\n",
    "// additional traces can simply be composed with an existing chart and added on\n",
    "val series1 = XY(x, y) asType BAR setName \"Bar\"\n",
    "\n",
    "// lets give the second series a red marker. Again we can 'compose' a marker using smaller components\n",
    "val marker = (\n",
    "    Marker() \n",
    "    // sets the marker shape\n",
    "    setSymbol CIRCLE\n",
    "    // sets the fill to red\n",
    "    setColor \"red\" \n",
    "    // sets the outline to black, with width 2\n",
    "    setLine(width = 2, \"black\")\n",
    "    // set the size of the markers to 10 as per the list we created\n",
    "    setSize(sizes)\n",
    ") \n",
    "\n",
    "val series2 = XY(x, y) asType SCATTER setName \"Scatter\" drawStyle MARKERS setMarker marker\n",
    "\n",
    "// we not put brackets in the 'addSeries' function to ensure that addSeries picks up the right series'\n",
    "val chart = Chart() addSeries(series1, series2) setConfig(false, false)\n",
    "\n",
    "chart.plotInline"
   ]
  },
  {
   "cell_type": "markdown",
   "metadata": {},
   "source": [
    "### Adding Another Axes\n",
    "\n",
    "Sometimes we may wish to plot multiple series on one chart, but using two different Axes. This may be because the values of the two series are very different, yet we want to compare them on the same plot. We can do this as follows:"
   ]
  },
  {
   "cell_type": "code",
   "execution_count": 13,
   "metadata": {},
   "outputs": [
    {
     "data": {
      "text/html": [
       "<div id=\"grid-container_q4T5HkpqS9\" class=\"grid-container\" align=\"center\"> \n",
       "<div id=\"grid_q4T5HkpqS9\" class=\"grid\" align=\"center\"> \n",
       "<div id=\"graph_xMJ47QOUzo\" class=\"graph\"></div> \n",
       "</div> \n",
       "</div> \n",
       "<script>\n",
       "var masonry = new Macy({\n",
       "    container: '#grid_q4T5HkpqS9',\n",
       "    debug: true,\n",
       "    mobileFirst: true,\n",
       "    columns: 1,\n",
       "    margin: {\n",
       "        x: 0,\n",
       "        y: 0\n",
       "    }\n",
       "  });\n",
       "\n",
       "  var traces_xMJ47QOUzo = [{\"name\":\"Series 3 using Y axis 1\",\"type\":\"scatter\",\"mode\":\"markers\",\"x\":[46.38786276829849,28.1311520229638,15.292679701703632,25.0876449842593,33.20840781396945,16.185603456788378,8.40102313201636,21.36515161603485,43.112204511852404,42.20378721198507,46.56063633145012,25.53565095683417,19.656593463177234,10.137408247532226,16.912387874586976,42.58361492588788,24.721344353365588,32.413942948034006,10.43846738197835,36.00227428320172,41.62261838392614,38.02225433278944,4.519733470868076,2.4955052163328384,40.03766766993655,6.198702965037106,20.77501022278185,23.08663967718066,15.339436791701926,2.534097398733093,34.4778136940915,18.064894928676356,5.223477518957326,49.05821187433454,34.16042981802882,1.2177516004455158,3.3552388635375188,3.657386108043564,3.8922059167286194,10.877638082408414,33.174045521922956,7.0420658927765665,26.15841732919357,41.453901981432516,14.960744413147115,27.40497827865288,30.26796370776374,9.326091539917547,5.809224451364053,43.89695313040537,39.78264570305639,11.242166222083954,15.237711744133197,10.096221750197987,2.587708132642769,21.695335333235093,48.83393417398087,27.75837876967745,18.912800463974367,28.145789529604105,8.548976780238387,39.308001463128534,15.864434717209603,19.40868188965556,31.03782757391566,14.76924434427857,1.8455041155904517,23.04728218794129,24.790330307298152,15.131579793653222,20.614367612445918,32.19031037294467,22.704461892815836,9.508145134221824,12.675434116960977,20.83503958974332,49.22455103356965,7.868035767289633,31.195181507223307,19.402821564917648,10.200269817166674,44.610153022635565,0.7019561910300953,9.081289624752714,49.217905655853905,10.79510597981458,49.454873279522445,44.31753646558326,26.313662082539622,34.462926851719,40.55658373377319,27.719189578382235,13.699416874280356,49.138261533115276,22.63663336312165,40.575339624571555,18.41455629776395,20.360952268472033,18.24657725882814,25.22687848919862],\"y\":[33.66324369825452,18.878816736686744,16.98499695756431,22.595894479860302,39.00465668061629,37.00071845247736,40.809982352478556,39.326303021235596,14.534438106063853,41.53187519754047,0.9986142550657107,4.193034324221107,5.728797661958235,42.699654205438016,19.777448013485007,22.70462093721895,23.71844065456515,33.52696008574686,44.77492540010417,2.1541356863035874,40.41764811023924,18.221631912335447,41.13610559870591,46.76600581656015,39.154591394906454,1.3240958278863124,4.392080472944116,14.041298980933481,9.232114837798221,1.591848815395358,46.990843170952644,28.921658221788434,27.19398330044895,35.8981876431026,22.773396545829495,21.97214731336213,48.47972761224878,38.78389969866178,16.618276704175145,41.42583466381987,40.62197591356412,42.724497093942745,40.97967086894048,36.638040352366104,23.173348432200797,42.6618604826504,47.108733943442004,22.265714098365404,40.14566624262043,5.898029891825606,26.37466495912268,8.31754135155367,27.902492878538855,15.06018006307528,46.29156839355974,21.11290324559266,5.166641693886032,47.51964567772349,36.60906859019795,44.14292566560902,2.087588046587663,49.38421293163615,13.139102469988822,25.844410523627282,12.15932436312005,5.981701175021387,0.8682610655693368,33.377553567140765,44.18748355512038,43.6141835798667,43.344527344184925,27.640876104434543,21.475216197888603,19.286050963770464,12.329173183993698,44.9619318461817,21.93050996268841,16.09541336138597,10.269067085190715,45.16989943106682,25.89336664883598,12.027199764435947,38.271575847402254,24.086247882457947,38.139424556557586,28.99761087183729,33.953708180045545,40.86225282240479,26.73735704725717,47.17343308805924,16.78909089853306,27.047216691222864,24.22052729632937,36.826041993224365,13.390828484399375,24.788807230687848,15.879138600892146,16.27873466956663,21.545254235074786,46.147039906464194]},{\"name\":\"Series 2 using Y axis 2\",\"type\":\"scatter\",\"mode\":\"markers\",\"yaxis\":\"y2\",\"x\":[46.38786276829849,28.1311520229638,15.292679701703632,25.0876449842593,33.20840781396945,16.185603456788378,8.40102313201636,21.36515161603485,43.112204511852404,42.20378721198507,46.56063633145012,25.53565095683417,19.656593463177234,10.137408247532226,16.912387874586976,42.58361492588788,24.721344353365588,32.413942948034006,10.43846738197835,36.00227428320172,41.62261838392614,38.02225433278944,4.519733470868076,2.4955052163328384,40.03766766993655,6.198702965037106,20.77501022278185,23.08663967718066,15.339436791701926,2.534097398733093,34.4778136940915,18.064894928676356,5.223477518957326,49.05821187433454,34.16042981802882,1.2177516004455158,3.3552388635375188,3.657386108043564,3.8922059167286194,10.877638082408414,33.174045521922956,7.0420658927765665,26.15841732919357,41.453901981432516,14.960744413147115,27.40497827865288,30.26796370776374,9.326091539917547,5.809224451364053,43.89695313040537,39.78264570305639,11.242166222083954,15.237711744133197,10.096221750197987,2.587708132642769,21.695335333235093,48.83393417398087,27.75837876967745,18.912800463974367,28.145789529604105,8.548976780238387,39.308001463128534,15.864434717209603,19.40868188965556,31.03782757391566,14.76924434427857,1.8455041155904517,23.04728218794129,24.790330307298152,15.131579793653222,20.614367612445918,32.19031037294467,22.704461892815836,9.508145134221824,12.675434116960977,20.83503958974332,49.22455103356965,7.868035767289633,31.195181507223307,19.402821564917648,10.200269817166674,44.610153022635565,0.7019561910300953,9.081289624752714,49.217905655853905,10.79510597981458,49.454873279522445,44.31753646558326,26.313662082539622,34.462926851719,40.55658373377319,27.719189578382235,13.699416874280356,49.138261533115276,22.63663336312165,40.575339624571555,18.41455629776395,20.360952268472033,18.24657725882814,25.22687848919862],\"y\":[45.88728352477067,39.867395935619335,9.751018862788802,4.145974051651635,4.4500134024108515,4.25829630698959,38.51993088590535,38.892290007660435,18.188752246679236,34.953154109726775,30.76041704132926,48.85748868003923,1.5790852842254122,27.360450502541955,11.191399802666712,38.25053402758524,39.413137589327604,18.423273320400853,28.92387636207465,6.3003296520201975,8.979492638369397,5.467816999686731,23.09941885560115,33.22251041986487,15.936774538770765,8.673003898173887,38.789258786947144,10.662600929928928,9.702727310809788,42.360484298912056,49.234591139651776,21.487667735852085,12.58885874245063,18.16564643578381,40.94818564383005,44.9411842093728,41.8813550416928,0.07405040143273478,20.19932259065579,48.38088437745683,25.602246746072847,17.294067374229765,2.968552226533067,26.086977255721493,10.780458324695463,15.98531219856943,5.585715486962234,8.958171742503646,37.72060926056989,44.97377673281433,9.95411478177775,46.30551881703451,4.978102628352032,23.758438559363608,35.515683738483425,2.409184872133674,27.53228953162888,33.350390835404816,9.926461582847868,16.020829904012395,44.99514498988199,1.7844251023481472,41.78861106918277,40.574342544291966,17.60114381966284,26.504282209784996,11.724695622033094,16.51027384667377,5.194694492556351,35.24664372481899,12.581873385266256,24.82437757005679,8.46470004395528,35.5352406299168,35.618115662065684,32.71824740947936,12.271542519541867,40.44531281520477,17.149519985518936,18.06012482478708,8.069935068185929,34.90994561533828,29.327232491904343,49.25651915817918,36.151865962266534,12.513680732783406,19.464449434686017,1.090362927967392,28.71698321173855,17.455073239930215,24.648423145813148,5.09902102711054,1.6235276092394002,20.158755558394002,12.249360972765789,15.145513750965117,36.081101423443606,37.87884166209689,22.377523050715897,14.978923063797184]}];\n",
       " var layout_xMJ47QOUzo = {\"height\":550,\"width\":600,\"hovermode\":\"closest\",\"title\":{\"text\":\"Using Multiple Axes\"},\"showlegend\":true,\"yaxis2\":{\"title\":{\"text\":\"Second y axis\"},\"showgrid\":true,\"zeroline\":false,\"showline\":false,\"side\":\"right\",\"overlaying\":\"y\"},\"yaxis\":{\"title\":{\"text\":\"First Y Axis\"},\"showgrid\":true,\"zeroline\":false,\"showline\":false},\"xaxis\":{\"title\":{\"text\":\"X Axis\"},\"showgrid\":true,\"zeroline\":false,\"showline\":false}};\n",
       " var config_xMJ47QOUzo = {\"responsive\":false,\"scrollZoom\":false,\"displaylogo\":false};\n",
       " Plotly.newPlot(\"graph_xMJ47QOUzo\", traces_xMJ47QOUzo, layout_xMJ47QOUzo, config_xMJ47QOUzo);\n",
       "</script> \n"
      ]
     },
     "metadata": {},
     "output_type": "display_data"
    }
   ],
   "source": [
    "val series1 = XY(x, y) asType SCATTER drawStyle MARKERS\n",
    "\n",
    "// The following maps the series onto the second Y axis.\n",
    "val series2 = (\n",
    "    XY(x, z) \n",
    "    asType SCATTER \n",
    "    drawStyle MARKERS \n",
    "    setAxis Axis(Y, 2)\n",
    "    setName(\"Series 2 using Y axis 2\")\n",
    ")\n",
    "\n",
    "val series3 = series1.copy() setName(\"Series 3 using Y axis 1\")\n",
    "      \n",
    "val chart = (\n",
    "    Chart() \n",
    "    setTitle \"Using Multiple Axes\"\n",
    "    // the following makes the chart unresponsive\n",
    "    setConfig(false, false) \n",
    "    addSeries(series3, series2) \n",
    "    // the following tells the chart how to render the second Y Axis\n",
    "    addAxes Axis(Y, position = 2, title = \"Second y axis\", overlaying = Axis(Y), side = RIGHT_SIDE)\n",
    "    addAxes Axis(Y, 1, \"First Y Axis\")\n",
    "    addAxes Axis(X, title = \"X Axis\")\n",
    ") \n",
    "\n",
    "// this is just for illustration purposes, but we can also do the following\n",
    "val canvas = Canvas() setChart(0, 0, chart)\n",
    "\n",
    "canvas.plotInline"
   ]
  },
  {
   "cell_type": "markdown",
   "metadata": {},
   "source": [
    "### Customizing the Axes\n",
    "\n",
    "As can be seen from some of the examples above, if you do a simple chart you can use the standard axis (X and Y) and costumise them in the chart object. But for more complex layout,  we may would want to create new axis and name them.\n",
    "\n",
    "We can do this as follows:"
   ]
  },
  {
   "cell_type": "code",
   "execution_count": 14,
   "metadata": {},
   "outputs": [
    {
     "data": {
      "text/html": [
       "<div id=\"grid-container_5nXbWpNL3U\" class=\"grid-container\" align=\"center\"> \n",
       "<div id=\"grid_5nXbWpNL3U\" class=\"grid\" align=\"center\"> \n",
       "<div id=\"graph_qC8isPJtjA\" class=\"graph\"></div> \n",
       "</div> \n",
       "</div> \n",
       "<script>\n",
       "var masonry = new Macy({\n",
       "    container: '#grid_5nXbWpNL3U',\n",
       "    debug: true,\n",
       "    mobileFirst: true,\n",
       "    columns: 1,\n",
       "    margin: {\n",
       "        x: 0,\n",
       "        y: 0\n",
       "    }\n",
       "  });\n",
       "\n",
       "  var traces_qC8isPJtjA = [{\"name\":\"Data\",\"type\":\"scatter\",\"mode\":\"markers\",\"x\":[46.38786276829849,28.1311520229638,15.292679701703632,25.0876449842593,33.20840781396945,16.185603456788378,8.40102313201636,21.36515161603485,43.112204511852404,42.20378721198507,46.56063633145012,25.53565095683417,19.656593463177234,10.137408247532226,16.912387874586976,42.58361492588788,24.721344353365588,32.413942948034006,10.43846738197835,36.00227428320172,41.62261838392614,38.02225433278944,4.519733470868076,2.4955052163328384,40.03766766993655,6.198702965037106,20.77501022278185,23.08663967718066,15.339436791701926,2.534097398733093,34.4778136940915,18.064894928676356,5.223477518957326,49.05821187433454,34.16042981802882,1.2177516004455158,3.3552388635375188,3.657386108043564,3.8922059167286194,10.877638082408414,33.174045521922956,7.0420658927765665,26.15841732919357,41.453901981432516,14.960744413147115,27.40497827865288,30.26796370776374,9.326091539917547,5.809224451364053,43.89695313040537,39.78264570305639,11.242166222083954,15.237711744133197,10.096221750197987,2.587708132642769,21.695335333235093,48.83393417398087,27.75837876967745,18.912800463974367,28.145789529604105,8.548976780238387,39.308001463128534,15.864434717209603,19.40868188965556,31.03782757391566,14.76924434427857,1.8455041155904517,23.04728218794129,24.790330307298152,15.131579793653222,20.614367612445918,32.19031037294467,22.704461892815836,9.508145134221824,12.675434116960977,20.83503958974332,49.22455103356965,7.868035767289633,31.195181507223307,19.402821564917648,10.200269817166674,44.610153022635565,0.7019561910300953,9.081289624752714,49.217905655853905,10.79510597981458,49.454873279522445,44.31753646558326,26.313662082539622,34.462926851719,40.55658373377319,27.719189578382235,13.699416874280356,49.138261533115276,22.63663336312165,40.575339624571555,18.41455629776395,20.360952268472033,18.24657725882814,25.22687848919862],\"y\":[33.66324369825452,18.878816736686744,16.98499695756431,22.595894479860302,39.00465668061629,37.00071845247736,40.809982352478556,39.326303021235596,14.534438106063853,41.53187519754047,0.9986142550657107,4.193034324221107,5.728797661958235,42.699654205438016,19.777448013485007,22.70462093721895,23.71844065456515,33.52696008574686,44.77492540010417,2.1541356863035874,40.41764811023924,18.221631912335447,41.13610559870591,46.76600581656015,39.154591394906454,1.3240958278863124,4.392080472944116,14.041298980933481,9.232114837798221,1.591848815395358,46.990843170952644,28.921658221788434,27.19398330044895,35.8981876431026,22.773396545829495,21.97214731336213,48.47972761224878,38.78389969866178,16.618276704175145,41.42583466381987,40.62197591356412,42.724497093942745,40.97967086894048,36.638040352366104,23.173348432200797,42.6618604826504,47.108733943442004,22.265714098365404,40.14566624262043,5.898029891825606,26.37466495912268,8.31754135155367,27.902492878538855,15.06018006307528,46.29156839355974,21.11290324559266,5.166641693886032,47.51964567772349,36.60906859019795,44.14292566560902,2.087588046587663,49.38421293163615,13.139102469988822,25.844410523627282,12.15932436312005,5.981701175021387,0.8682610655693368,33.377553567140765,44.18748355512038,43.6141835798667,43.344527344184925,27.640876104434543,21.475216197888603,19.286050963770464,12.329173183993698,44.9619318461817,21.93050996268841,16.09541336138597,10.269067085190715,45.16989943106682,25.89336664883598,12.027199764435947,38.271575847402254,24.086247882457947,38.139424556557586,28.99761087183729,33.953708180045545,40.86225282240479,26.73735704725717,47.17343308805924,16.78909089853306,27.047216691222864,24.22052729632937,36.826041993224365,13.390828484399375,24.788807230687848,15.879138600892146,16.27873466956663,21.545254235074786,46.147039906464194]}];\n",
       " var layout_qC8isPJtjA = {\"height\":550,\"width\":600,\"hovermode\":\"closest\",\"title\":{\"text\":\"Chart with Axes\"},\"showlegend\":true,\"xaxis\":{\"title\":{\"text\":\"x variable\"},\"showgrid\":true,\"zeroline\":false,\"showline\":false},\"yaxis\":{\"title\":{\"text\":\"y variable\"},\"showgrid\":true,\"zeroline\":false,\"showline\":false}};\n",
       " var config_qC8isPJtjA = {\"responsive\":true,\"scrollZoom\":true,\"displaylogo\":false};\n",
       " Plotly.newPlot(\"graph_qC8isPJtjA\", traces_qC8isPJtjA, layout_qC8isPJtjA, config_qC8isPJtjA);\n",
       "</script> \n"
      ]
     },
     "metadata": {},
     "output_type": "display_data"
    }
   ],
   "source": [
    "// We construct the axes and set their title\n",
    "val xaxis = Axis(X, title = \"x variable\")\n",
    "val yaxis = Axis(Y, title = \"y variable\")\n",
    "\n",
    "// another way to do composition is to just add a bracket around the composition\n",
    "val chart = (\n",
    "    Chart()\n",
    "    setTitle \"Chart with Axes\"\n",
    "    addSeries(series1 setName(\"Data\"))\n",
    "    addAxes(xaxis, yaxis)\n",
    ")\n",
    "\n",
    "chart.plotInline"
   ]
  },
  {
   "cell_type": "markdown",
   "metadata": {},
   "source": [
    "### Quickly Configuring The Axes\n",
    "\n",
    "Picta comes with a range of utility functions to make configuring the primary axes quick and easy"
   ]
  },
  {
   "cell_type": "code",
   "execution_count": 15,
   "metadata": {},
   "outputs": [],
   "source": [
    "// Let's create 100 randome data points\n",
    "val x = List.range(0, 100).map(x => x * scala.util.Random.nextDouble())\n",
    "val y = List.range(0, 100).map(x => x * scala.util.Random.nextDouble())"
   ]
  },
  {
   "cell_type": "markdown",
   "metadata": {},
   "source": [
    "#### Adjusting Axes Limits"
   ]
  },
  {
   "cell_type": "code",
   "execution_count": 16,
   "metadata": {},
   "outputs": [
    {
     "data": {
      "text/html": [
       "<div id=\"grid-container_ql58Pz5OsN\" class=\"grid-container\" align=\"center\"> \n",
       "<div id=\"grid_ql58Pz5OsN\" class=\"grid\" align=\"center\"> \n",
       "<div id=\"graph_NL3pRSQCZr\" class=\"graph\"></div> \n",
       "</div> \n",
       "</div> \n",
       "<script>\n",
       "var masonry = new Macy({\n",
       "    container: '#grid_ql58Pz5OsN',\n",
       "    debug: true,\n",
       "    mobileFirst: true,\n",
       "    columns: 1,\n",
       "    margin: {\n",
       "        x: 0,\n",
       "        y: 0\n",
       "    }\n",
       "  });\n",
       "\n",
       "  var traces_NL3pRSQCZr = [{\"name\":\"Data for Axis Limit example\",\"type\":\"scatter\",\"mode\":\"markers\",\"x\":[0,0.39456415653745824,1.2750777314323891,2.4133685599099066,2.41648420820733,4.483203938783326,4.846770401995111,1.8072663810472989,1.416632763102446,7.253778391169385,8.27309899232612,6.121332136354898,6.881033632602983,6.213012539726581,11.348844996905637,2.9068503244236115,4.729331918615273,2.7063117141955932,9.896341130482803,14.304949684234368,13.565475779827254,10.57267086945483,6.822817792465008,20.67297213090765,5.476857897575714,4.5188283110178835,14.395087066280452,13.024604736327877,6.254619144807314,5.079422753727794,29.014457071600123,12.858036076741918,7.131483870839329,14.664673591633942,33.230827411486075,2.4268999565269773,21.029007977578267,36.08578046626707,10.382375949711497,32.86810328837127,22.518031249379717,37.340811216414444,30.33610991813285,7.088966246231413,3.474444702974447,15.59033914738532,21.584836606273036,32.18323847409054,37.007119202125786,29.402469297479996,46.677780916008196,29.64168959461955,27.895954137000583,12.75120959710178,47.87516864968343,51.99794609354206,19.755579719788475,53.16032121983739,45.27157118176328,57.05417579258137,48.68413760665552,12.046904423646687,1.678747615490136,13.7139998016078,29.516988132627333,33.985018323345535,64.5459592180128,44.96177856902621,51.23186651421794,59.52948158599614,66.37449787810651,15.917996540586106,7.795255492060072,33.66392091520888,54.70328246799467,29.420021655462964,29.04925586062516,8.11479448234434,60.05384334872975,42.47597099078157,64.36423219507421,29.954807288241376,8.476037334323236,38.46672081704368,22.974894903157757,12.354648584939975,31.780081139779664,39.37737363490709,66.42627689818904,68.28144831200132,74.4263046943193,78.87465821597186,37.63123854443442,32.635719227018704,54.621114435718596,21.96075500096044,94.93273611386647,51.015803161961365,27.68627401911267,32.47710064663661],\"y\":[0,0.6163367202164324,0.9309508503542472,0.5869940711350057,0.2245875303144409,2.2996056084975454,0.32761073258058016,0.6181274492509803,0.031150566561957582,4.31683940392653,4.680519821656132,4.296709145778368,1.9627541838324438,4.233043659626982,2.4535490534510114,2.989931078997815,7.026755119934517,6.64821118908216,9.533706518602294,14.946972340999688,17.701090509992408,16.22278123520734,4.179154602331278,10.159517054588497,14.02575634153856,19.79794548892977,12.164627367767158,6.735792197909495,23.011471658318733,0.8133757395282408,14.871868021927794,6.588836349969401,23.45785894153594,30.172208560948356,6.622501803380051,26.095188853953207,30.32525643431436,13.029298553475883,24.41697922444004,38.2395556649086,6.297415151151395,18.933823558007607,24.675840754956443,21.87429694353763,34.35691408155128,24.591317844272872,24.82856487542767,7.33976845527017,15.32111840023095,28.473096605532987,3.9107135391902306,7.062620313251799,37.60385953605827,2.842824162889782,40.961908530845555,26.12421063362642,32.22682511914841,44.74069556055649,16.21540956923148,50.42012491401144,15.554843115132861,26.31530195992072,23.08473923609528,15.164666591006862,56.62082930176286,47.87176386338063,14.033822347410581,25.38087891202377,22.489195187690708,16.362144853352373,1.8145960353064527,1.907263260523515,19.130915140407645,4.030482358007579,70.51988379979058,12.596939687639003,41.99926884530018,46.790012235786946,13.679652821338834,54.033369777057395,1.1525168474123504,44.90428058044833,62.47536454983383,80.48917776500453,11.618389443313871,5.916935649274013,59.31033424288188,65.26077722283549,81.98530001433437,50.77687535843393,1.70337491743906,84.17174796611621,74.18665740635767,33.98635700320288,24.01902749798613,58.20188128809419,6.367495120968375,28.609369037245106,51.15987770323128,68.11689327242752]}];\n",
       " var layout_NL3pRSQCZr = {\"height\":550,\"width\":600,\"hovermode\":\"closest\",\"title\":{\"text\":\"Axis.SetAxisRange\"},\"showlegend\":true,\"yaxis\":{\"title\":{\"text\":\"y axis\"},\"showgrid\":true,\"zeroline\":false,\"showline\":false,\"range\":[100,-100]},\"xaxis\":{\"title\":{\"text\":\"x axis\"},\"showgrid\":true,\"zeroline\":false,\"showline\":false,\"range\":[-100,100]}};\n",
       " var config_NL3pRSQCZr = {\"responsive\":true,\"scrollZoom\":true,\"displaylogo\":false};\n",
       " Plotly.newPlot(\"graph_NL3pRSQCZr\", traces_NL3pRSQCZr, layout_NL3pRSQCZr, config_NL3pRSQCZr);\n",
       "</script> \n"
      ]
     },
     "metadata": {},
     "output_type": "display_data"
    }
   ],
   "source": [
    "val series = (\n",
    "    XY(x, y)\n",
    "    asType SCATTER\n",
    "    drawStyle MARKERS\n",
    ")\n",
    "\n",
    "val chart = (\n",
    "      Chart()\n",
    "    addSeries series.setName(\"Data for Axis Limit example\")\n",
    "    setTitle \"Axis.SetAxisRange\"\n",
    "    addAxes yaxis\n",
    "    setXAxisLimits(-100, 100) // Here we set the axis limit from -100 to 100\n",
    "    setYAxisLimits(100, -100) // Here, by using the minimum as 100 and the maximum as -100, we automatically reverse the axis\n",
    "    setXAxisTitle(\"x axis\")\n",
    "    setYAxisTitle(\"y axis\")\n",
    ")\n",
    "\n",
    "chart.plotInline"
   ]
  },
  {
   "cell_type": "markdown",
   "metadata": {},
   "source": [
    "#### Adjusting Axis Ticks"
   ]
  },
  {
   "cell_type": "code",
   "execution_count": 17,
   "metadata": {
    "scrolled": false
   },
   "outputs": [
    {
     "data": {
      "text/html": [
       "<div id=\"grid-container_cwpvePAGIc\" class=\"grid-container\" align=\"center\"> \n",
       "<div id=\"grid_cwpvePAGIc\" class=\"grid\" align=\"center\"> \n",
       "<div id=\"graph_zlIU5WDOoe\" class=\"graph\"></div> \n",
       "</div> \n",
       "</div> \n",
       "<script>\n",
       "var masonry = new Macy({\n",
       "    container: '#grid_cwpvePAGIc',\n",
       "    debug: true,\n",
       "    mobileFirst: true,\n",
       "    columns: 1,\n",
       "    margin: {\n",
       "        x: 0,\n",
       "        y: 0\n",
       "    }\n",
       "  });\n",
       "\n",
       "  var traces_zlIU5WDOoe = [{\"name\":\"pq6eCEkc0C\",\"type\":\"scatter\",\"mode\":\"markers\",\"x\":[0,0.39456415653745824,1.2750777314323891,2.4133685599099066,2.41648420820733,4.483203938783326,4.846770401995111,1.8072663810472989,1.416632763102446,7.253778391169385,8.27309899232612,6.121332136354898,6.881033632602983,6.213012539726581,11.348844996905637,2.9068503244236115,4.729331918615273,2.7063117141955932,9.896341130482803,14.304949684234368,13.565475779827254,10.57267086945483,6.822817792465008,20.67297213090765,5.476857897575714,4.5188283110178835,14.395087066280452,13.024604736327877,6.254619144807314,5.079422753727794,29.014457071600123,12.858036076741918,7.131483870839329,14.664673591633942,33.230827411486075,2.4268999565269773,21.029007977578267,36.08578046626707,10.382375949711497,32.86810328837127,22.518031249379717,37.340811216414444,30.33610991813285,7.088966246231413,3.474444702974447,15.59033914738532,21.584836606273036,32.18323847409054,37.007119202125786,29.402469297479996,46.677780916008196,29.64168959461955,27.895954137000583,12.75120959710178,47.87516864968343,51.99794609354206,19.755579719788475,53.16032121983739,45.27157118176328,57.05417579258137,48.68413760665552,12.046904423646687,1.678747615490136,13.7139998016078,29.516988132627333,33.985018323345535,64.5459592180128,44.96177856902621,51.23186651421794,59.52948158599614,66.37449787810651,15.917996540586106,7.795255492060072,33.66392091520888,54.70328246799467,29.420021655462964,29.04925586062516,8.11479448234434,60.05384334872975,42.47597099078157,64.36423219507421,29.954807288241376,8.476037334323236,38.46672081704368,22.974894903157757,12.354648584939975,31.780081139779664,39.37737363490709,66.42627689818904,68.28144831200132,74.4263046943193,78.87465821597186,37.63123854443442,32.635719227018704,54.621114435718596,21.96075500096044,94.93273611386647,51.015803161961365,27.68627401911267,32.47710064663661],\"y\":[0,0.6163367202164324,0.9309508503542472,0.5869940711350057,0.2245875303144409,2.2996056084975454,0.32761073258058016,0.6181274492509803,0.031150566561957582,4.31683940392653,4.680519821656132,4.296709145778368,1.9627541838324438,4.233043659626982,2.4535490534510114,2.989931078997815,7.026755119934517,6.64821118908216,9.533706518602294,14.946972340999688,17.701090509992408,16.22278123520734,4.179154602331278,10.159517054588497,14.02575634153856,19.79794548892977,12.164627367767158,6.735792197909495,23.011471658318733,0.8133757395282408,14.871868021927794,6.588836349969401,23.45785894153594,30.172208560948356,6.622501803380051,26.095188853953207,30.32525643431436,13.029298553475883,24.41697922444004,38.2395556649086,6.297415151151395,18.933823558007607,24.675840754956443,21.87429694353763,34.35691408155128,24.591317844272872,24.82856487542767,7.33976845527017,15.32111840023095,28.473096605532987,3.9107135391902306,7.062620313251799,37.60385953605827,2.842824162889782,40.961908530845555,26.12421063362642,32.22682511914841,44.74069556055649,16.21540956923148,50.42012491401144,15.554843115132861,26.31530195992072,23.08473923609528,15.164666591006862,56.62082930176286,47.87176386338063,14.033822347410581,25.38087891202377,22.489195187690708,16.362144853352373,1.8145960353064527,1.907263260523515,19.130915140407645,4.030482358007579,70.51988379979058,12.596939687639003,41.99926884530018,46.790012235786946,13.679652821338834,54.033369777057395,1.1525168474123504,44.90428058044833,62.47536454983383,80.48917776500453,11.618389443313871,5.916935649274013,59.31033424288188,65.26077722283549,81.98530001433437,50.77687535843393,1.70337491743906,84.17174796611621,74.18665740635767,33.98635700320288,24.01902749798613,58.20188128809419,6.367495120968375,28.609369037245106,51.15987770323128,68.11689327242752]}];\n",
       " var layout_zlIU5WDOoe = {\"height\":550,\"width\":600,\"hovermode\":\"closest\",\"title\":{\"text\":\"Set Axis Ticks\"},\"showlegend\":true,\"yaxis\":{\"title\":{\"text\":\"y variable\"},\"showgrid\":true,\"zeroline\":false,\"showline\":false,\"range\":[-100,100]},\"xaxis\":{\"title\":{\"text\":\"my new x axis\"},\"showgrid\":true,\"zeroline\":false,\"showline\":false,\"range\":[0,100],\"tick0\":5,\"dtick\":15}};\n",
       " var config_zlIU5WDOoe = {\"responsive\":true,\"scrollZoom\":true,\"displaylogo\":false};\n",
       " Plotly.newPlot(\"graph_zlIU5WDOoe\", traces_zlIU5WDOoe, layout_zlIU5WDOoe, config_zlIU5WDOoe);\n",
       "</script> \n"
      ]
     },
     "metadata": {},
     "output_type": "display_data"
    }
   ],
   "source": [
    "val series = (\n",
    "    XY(x, y)\n",
    "    asType SCATTER\n",
    "    drawStyle MARKERS\n",
    ")\n",
    "\n",
    "val chart = (\n",
    "    Chart()\n",
    "    addSeries series\n",
    "    setTitle \"Set Axis Ticks\"\n",
    "    addAxes yaxis\n",
    "    setXAxisLimits(0, 100)\n",
    "    setYAxisLimits(-100, 100)\n",
    "    setXAxisTitle(\"my new x axis\")\n",
    "    setXAxisStartTick 5\n",
    "    setXAxisTickGap 15\n",
    ")\n",
    "\n",
    "chart.plotInline"
   ]
  },
  {
   "cell_type": "markdown",
   "metadata": {},
   "source": [
    "### Setting Logarithmic Axes"
   ]
  },
  {
   "cell_type": "code",
   "execution_count": 18,
   "metadata": {},
   "outputs": [
    {
     "data": {
      "text/html": [
       "<div id=\"grid-container_iP0K3NXJ8l\" class=\"grid-container\" align=\"center\"> \n",
       "<div id=\"grid_iP0K3NXJ8l\" class=\"grid\" align=\"center\"> \n",
       "<div id=\"graph_vcy6VotaeY\" class=\"graph\"></div> \n",
       "</div> \n",
       "</div> \n",
       "<script>\n",
       "var masonry = new Macy({\n",
       "    container: '#grid_iP0K3NXJ8l',\n",
       "    debug: true,\n",
       "    mobileFirst: true,\n",
       "    columns: 1,\n",
       "    margin: {\n",
       "        x: 0,\n",
       "        y: 0\n",
       "    }\n",
       "  });\n",
       "\n",
       "  var traces_vcy6VotaeY = [{\"name\":\"g4Pfc4icR0\",\"type\":\"scatter\",\"mode\":\"markers\",\"x\":[1,2,3],\"y\":[1.234,5.2112,2.44332]}];\n",
       " var layout_vcy6VotaeY = {\"height\":550,\"width\":600,\"hovermode\":\"closest\",\"title\":{\"text\":\"Logarithmic Axes\"},\"showlegend\":true,\"yaxis\":{\"title\":{\"text\":\"y variable\"},\"showgrid\":true,\"zeroline\":false,\"showline\":false,\"type\":\"log\"},\"xaxis\":{\"showgrid\":true,\"zeroline\":false,\"showline\":false,\"type\":\"log\"}};\n",
       " var config_vcy6VotaeY = {\"responsive\":true,\"scrollZoom\":true,\"displaylogo\":false};\n",
       " Plotly.newPlot(\"graph_vcy6VotaeY\", traces_vcy6VotaeY, layout_vcy6VotaeY, config_vcy6VotaeY);\n",
       "</script> \n"
      ]
     },
     "metadata": {},
     "output_type": "display_data"
    }
   ],
   "source": [
    "val series = (\n",
    "    XY(List(1, 2, 3), List(1.234, 5.2112, 2.44332))\n",
    "    asType SCATTER\n",
    "    drawStyle MARKERS\n",
    ")\n",
    "\n",
    "val chart = (\n",
    "    Chart()\n",
    "    addSeries series\n",
    "    setTitle \"Logarithmic Axes\"\n",
    "    addAxes yaxis\n",
    "    drawXAxisLog true // We set the 'drawXAxisLog' value to 'true' to draw it on a logarithmic scale\n",
    "    drawYAxisLog true\n",
    ")\n",
    "\n",
    "chart.plotInline"
   ]
  },
  {
   "cell_type": "markdown",
   "metadata": {},
   "source": [
    "### Reversing axis\n",
    "We can also reverse the axis by setting the appropriate 'drawXAxisReversed'"
   ]
  },
  {
   "cell_type": "code",
   "execution_count": 19,
   "metadata": {},
   "outputs": [
    {
     "data": {
      "text/html": [
       "<div id=\"grid-container_RlYX7YJvWO\" class=\"grid-container\" align=\"center\"> \n",
       "<div id=\"grid_RlYX7YJvWO\" class=\"grid\" align=\"center\"> \n",
       "<div id=\"graph_bh4mGniSHT\" class=\"graph\"></div> \n",
       "</div> \n",
       "</div> \n",
       "<script>\n",
       "var masonry = new Macy({\n",
       "    container: '#grid_RlYX7YJvWO',\n",
       "    debug: true,\n",
       "    mobileFirst: true,\n",
       "    columns: 1,\n",
       "    margin: {\n",
       "        x: 0,\n",
       "        y: 0\n",
       "    }\n",
       "  });\n",
       "\n",
       "  var traces_bh4mGniSHT = [{\"name\":\"f53XMpv0LI\",\"type\":\"scatter\",\"mode\":\"markers\",\"x\":[0,0.39456415653745824,1.2750777314323891,2.4133685599099066,2.41648420820733,4.483203938783326,4.846770401995111,1.8072663810472989,1.416632763102446,7.253778391169385,8.27309899232612,6.121332136354898,6.881033632602983,6.213012539726581,11.348844996905637,2.9068503244236115,4.729331918615273,2.7063117141955932,9.896341130482803,14.304949684234368,13.565475779827254,10.57267086945483,6.822817792465008,20.67297213090765,5.476857897575714,4.5188283110178835,14.395087066280452,13.024604736327877,6.254619144807314,5.079422753727794,29.014457071600123,12.858036076741918,7.131483870839329,14.664673591633942,33.230827411486075,2.4268999565269773,21.029007977578267,36.08578046626707,10.382375949711497,32.86810328837127,22.518031249379717,37.340811216414444,30.33610991813285,7.088966246231413,3.474444702974447,15.59033914738532,21.584836606273036,32.18323847409054,37.007119202125786,29.402469297479996,46.677780916008196,29.64168959461955,27.895954137000583,12.75120959710178,47.87516864968343,51.99794609354206,19.755579719788475,53.16032121983739,45.27157118176328,57.05417579258137,48.68413760665552,12.046904423646687,1.678747615490136,13.7139998016078,29.516988132627333,33.985018323345535,64.5459592180128,44.96177856902621,51.23186651421794,59.52948158599614,66.37449787810651,15.917996540586106,7.795255492060072,33.66392091520888,54.70328246799467,29.420021655462964,29.04925586062516,8.11479448234434,60.05384334872975,42.47597099078157,64.36423219507421,29.954807288241376,8.476037334323236,38.46672081704368,22.974894903157757,12.354648584939975,31.780081139779664,39.37737363490709,66.42627689818904,68.28144831200132,74.4263046943193,78.87465821597186,37.63123854443442,32.635719227018704,54.621114435718596,21.96075500096044,94.93273611386647,51.015803161961365,27.68627401911267,32.47710064663661],\"y\":[0,0.6163367202164324,0.9309508503542472,0.5869940711350057,0.2245875303144409,2.2996056084975454,0.32761073258058016,0.6181274492509803,0.031150566561957582,4.31683940392653,4.680519821656132,4.296709145778368,1.9627541838324438,4.233043659626982,2.4535490534510114,2.989931078997815,7.026755119934517,6.64821118908216,9.533706518602294,14.946972340999688,17.701090509992408,16.22278123520734,4.179154602331278,10.159517054588497,14.02575634153856,19.79794548892977,12.164627367767158,6.735792197909495,23.011471658318733,0.8133757395282408,14.871868021927794,6.588836349969401,23.45785894153594,30.172208560948356,6.622501803380051,26.095188853953207,30.32525643431436,13.029298553475883,24.41697922444004,38.2395556649086,6.297415151151395,18.933823558007607,24.675840754956443,21.87429694353763,34.35691408155128,24.591317844272872,24.82856487542767,7.33976845527017,15.32111840023095,28.473096605532987,3.9107135391902306,7.062620313251799,37.60385953605827,2.842824162889782,40.961908530845555,26.12421063362642,32.22682511914841,44.74069556055649,16.21540956923148,50.42012491401144,15.554843115132861,26.31530195992072,23.08473923609528,15.164666591006862,56.62082930176286,47.87176386338063,14.033822347410581,25.38087891202377,22.489195187690708,16.362144853352373,1.8145960353064527,1.907263260523515,19.130915140407645,4.030482358007579,70.51988379979058,12.596939687639003,41.99926884530018,46.790012235786946,13.679652821338834,54.033369777057395,1.1525168474123504,44.90428058044833,62.47536454983383,80.48917776500453,11.618389443313871,5.916935649274013,59.31033424288188,65.26077722283549,81.98530001433437,50.77687535843393,1.70337491743906,84.17174796611621,74.18665740635767,33.98635700320288,24.01902749798613,58.20188128809419,6.367495120968375,28.609369037245106,51.15987770323128,68.11689327242752]}];\n",
       " var layout_bh4mGniSHT = {\"height\":550,\"width\":600,\"hovermode\":\"closest\",\"title\":{\"text\":\"Reversed Axes\"},\"showlegend\":true,\"yaxis\":{\"title\":{\"text\":\"Mah\"},\"showgrid\":true,\"zeroline\":false,\"showline\":false,\"autorange\":\"reversed\"},\"xaxis\":{\"showgrid\":true,\"zeroline\":false,\"showline\":false,\"autorange\":\"reversed\"}};\n",
       " var config_bh4mGniSHT = {\"responsive\":true,\"scrollZoom\":true,\"displaylogo\":false};\n",
       " Plotly.newPlot(\"graph_bh4mGniSHT\", traces_bh4mGniSHT, layout_bh4mGniSHT, config_bh4mGniSHT);\n",
       "</script> \n"
      ]
     },
     "metadata": {},
     "output_type": "display_data"
    }
   ],
   "source": [
    "val series = (\n",
    "    XY(x, y)\n",
    "    asType SCATTER\n",
    "    drawStyle MARKERS\n",
    ")\n",
    "\n",
    "val chart = (\n",
    "    Chart()\n",
    "    addSeries series\n",
    "    setTitle \"Reversed Axes\"\n",
    "    setYAxisTitle(\"Mah\")\n",
    "    drawXAxisReversed true\n",
    "    drawYAxisReversed true\n",
    ")\n",
    "chart.plotInline"
   ]
  },
  {
   "cell_type": "markdown",
   "metadata": {},
   "source": [
    "### Display options - MultiCharts\n",
    "\n",
    "`MultiCharts` are a way to plot multiple axes on the same chart. This is seperate to Picta's grid system, which create a grid of subplot `Chart`'s. The next series of examples will make this clearer."
   ]
  },
  {
   "cell_type": "code",
   "execution_count": 20,
   "metadata": {},
   "outputs": [
    {
     "data": {
      "text/html": [
       "<div id=\"grid-container_O0IEOwb5V2\" class=\"grid-container\" align=\"center\"> \n",
       "<div id=\"grid_O0IEOwb5V2\" class=\"grid\" align=\"center\"> \n",
       "<div id=\"graph_YCGbsYsSkC\" class=\"graph\"></div> \n",
       "</div> \n",
       "</div> \n",
       "<script>\n",
       "var masonry = new Macy({\n",
       "    container: '#grid_O0IEOwb5V2',\n",
       "    debug: true,\n",
       "    mobileFirst: true,\n",
       "    columns: 1,\n",
       "    margin: {\n",
       "        x: 0,\n",
       "        y: 0\n",
       "    }\n",
       "  });\n",
       "\n",
       "  var traces_YCGbsYsSkC = [{\"name\":\"First series\",\"type\":\"scatter\",\"mode\":\"markers\",\"x\":[1,2,3],\"y\":[2,4,5]},{\"name\":\"Second series\",\"type\":\"scatter\",\"mode\":\"markers\",\"xaxis\":\"x2\",\"yaxis\":\"y2\",\"x\":[0,0.39456415653745824,1.2750777314323891,2.4133685599099066,2.41648420820733,4.483203938783326,4.846770401995111,1.8072663810472989,1.416632763102446,7.253778391169385,8.27309899232612,6.121332136354898,6.881033632602983,6.213012539726581,11.348844996905637,2.9068503244236115,4.729331918615273,2.7063117141955932,9.896341130482803,14.304949684234368,13.565475779827254,10.57267086945483,6.822817792465008,20.67297213090765,5.476857897575714,4.5188283110178835,14.395087066280452,13.024604736327877,6.254619144807314,5.079422753727794,29.014457071600123,12.858036076741918,7.131483870839329,14.664673591633942,33.230827411486075,2.4268999565269773,21.029007977578267,36.08578046626707,10.382375949711497,32.86810328837127,22.518031249379717,37.340811216414444,30.33610991813285,7.088966246231413,3.474444702974447,15.59033914738532,21.584836606273036,32.18323847409054,37.007119202125786,29.402469297479996,46.677780916008196,29.64168959461955,27.895954137000583,12.75120959710178,47.87516864968343,51.99794609354206,19.755579719788475,53.16032121983739,45.27157118176328,57.05417579258137,48.68413760665552,12.046904423646687,1.678747615490136,13.7139998016078,29.516988132627333,33.985018323345535,64.5459592180128,44.96177856902621,51.23186651421794,59.52948158599614,66.37449787810651,15.917996540586106,7.795255492060072,33.66392091520888,54.70328246799467,29.420021655462964,29.04925586062516,8.11479448234434,60.05384334872975,42.47597099078157,64.36423219507421,29.954807288241376,8.476037334323236,38.46672081704368,22.974894903157757,12.354648584939975,31.780081139779664,39.37737363490709,66.42627689818904,68.28144831200132,74.4263046943193,78.87465821597186,37.63123854443442,32.635719227018704,54.621114435718596,21.96075500096044,94.93273611386647,51.015803161961365,27.68627401911267,32.47710064663661],\"y\":[0,0.6163367202164324,0.9309508503542472,0.5869940711350057,0.2245875303144409,2.2996056084975454,0.32761073258058016,0.6181274492509803,0.031150566561957582,4.31683940392653,4.680519821656132,4.296709145778368,1.9627541838324438,4.233043659626982,2.4535490534510114,2.989931078997815,7.026755119934517,6.64821118908216,9.533706518602294,14.946972340999688,17.701090509992408,16.22278123520734,4.179154602331278,10.159517054588497,14.02575634153856,19.79794548892977,12.164627367767158,6.735792197909495,23.011471658318733,0.8133757395282408,14.871868021927794,6.588836349969401,23.45785894153594,30.172208560948356,6.622501803380051,26.095188853953207,30.32525643431436,13.029298553475883,24.41697922444004,38.2395556649086,6.297415151151395,18.933823558007607,24.675840754956443,21.87429694353763,34.35691408155128,24.591317844272872,24.82856487542767,7.33976845527017,15.32111840023095,28.473096605532987,3.9107135391902306,7.062620313251799,37.60385953605827,2.842824162889782,40.961908530845555,26.12421063362642,32.22682511914841,44.74069556055649,16.21540956923148,50.42012491401144,15.554843115132861,26.31530195992072,23.08473923609528,15.164666591006862,56.62082930176286,47.87176386338063,14.033822347410581,25.38087891202377,22.489195187690708,16.362144853352373,1.8145960353064527,1.907263260523515,19.130915140407645,4.030482358007579,70.51988379979058,12.596939687639003,41.99926884530018,46.790012235786946,13.679652821338834,54.033369777057395,1.1525168474123504,44.90428058044833,62.47536454983383,80.48917776500453,11.618389443313871,5.916935649274013,59.31033424288188,65.26077722283549,81.98530001433437,50.77687535843393,1.70337491743906,84.17174796611621,74.18665740635767,33.98635700320288,24.01902749798613,58.20188128809419,6.367495120968375,28.609369037245106,51.15987770323128,68.11689327242752]}];\n",
       " var layout_YCGbsYsSkC = {\"height\":550,\"width\":600,\"hovermode\":\"closest\",\"title\":{\"text\":\"Chart.Axis.Composition\"},\"showlegend\":true,\"grid\":{\"rows\":1,\"columns\":2,\"pattern\":\"independent\"},\"xaxis\":{\"showgrid\":true,\"zeroline\":false,\"showline\":false},\"xaxis2\":{\"title\":{\"text\":\"x2\"},\"showgrid\":true,\"zeroline\":false,\"showline\":false},\"yaxis2\":{\"showgrid\":true,\"zeroline\":false,\"showline\":false}};\n",
       " var config_YCGbsYsSkC = {\"responsive\":false,\"scrollZoom\":true,\"displaylogo\":false};\n",
       " Plotly.newPlot(\"graph_YCGbsYsSkC\", traces_YCGbsYsSkC, layout_YCGbsYsSkC, config_YCGbsYsSkC);\n",
       "</script> \n"
      ]
     },
     "metadata": {},
     "output_type": "display_data"
    }
   ],
   "source": [
    "// create the axes\n",
    "val xaxis1 = Axis(X) setTitle \"x1\"\n",
    "val yaxis1 = Axis(X) // this is not strictly necessary, but if it is not added there will be a zeroline at y = 0\n",
    "\n",
    "val xaxis2 = Axis(X, 2) setTitle \"x2\"\n",
    "val yaxis2 = Axis(Y, 2) // this is not strictly necessary, but if it is not added there will be a zeroline at y = 0\n",
    "\n",
    "val series1 = (\n",
    "    XY(x = List(1, 2, 3), y = List(2, 4, 5))\n",
    "    asType SCATTER\n",
    "    drawStyle MARKERS\n",
    "    setName(\"First series\") //Here we don't specify the axis, so the standard axis will be used\n",
    ")\n",
    "\n",
    "val series2 = (\n",
    "    XY(x = x, y = y) \n",
    "    asType SCATTER \n",
    "    drawStyle MARKERS \n",
    "    setName(\"Second series\")\n",
    "    setAxes (xaxis2, yaxis2) //Here we specify the axis for this plot, which are the second axis\n",
    ")\n",
    "\n",
    "val chart1 = Chart()\n",
    "            .addSeries(series1, series2)\n",
    "            .setTitle(\"Chart.Axis.Composition\")\n",
    "            .addAxes(xaxis1, yaxis1, xaxis2, yaxis2)\n",
    "            .setConfig(responsive=false)\n",
    "            // This tells Picta that we want to actually subdivide this chart into multiple plots\n",
    "            .asMultiChart(1, 2) //These correspond to the axis values given above\n",
    "\n",
    "chart1.plotInline"
   ]
  },
  {
   "cell_type": "markdown",
   "metadata": {},
   "source": [
    "### Picta's Subplot System\n",
    "\n",
    "While the above is useful, sometimes it is easier to plot independent charts in a subplot grid. This is where we can use the Picta subplot system.\n",
    "\n",
    "In the subplots below, each subplot is an individual `Chart`. This means we can actually embed the above `MultiChart` inside another subplot. This way we can create nested subplots to showcase any data we need to.\n",
    "\n",
    "Used creatively, this subplot system can be very useful for data exploration."
   ]
  },
  {
   "cell_type": "code",
   "execution_count": 21,
   "metadata": {
    "scrolled": false
   },
   "outputs": [
    {
     "data": {
      "text/html": [
       "<div id=\"grid-container_RBbRUhGvjB\" class=\"grid-container\" align=\"center\"> \n",
       "<div id=\"grid_RBbRUhGvjB\" class=\"grid\" align=\"center\"> \n",
       "<div id=\"graph_2lTgCi7dEv\" class=\"graph\"></div> \n",
       "<div id=\"graph_iasH5C5UHH\" class=\"graph\"></div> \n",
       "<div id=\"graph_QgOjVWc21v\" class=\"graph\"></div> \n",
       "<div id=\"graph_beFlSlzzpH\" class=\"graph\"></div> \n",
       "</div> \n",
       "</div> \n",
       "\n",
       "<div align=\"center\">\n",
       "<button id = \"saveAsPNG_RBbRUhGvjB\" class=\"picta-button\">Download Canvas as PNG</button>\n",
       "</div>\n",
       "<script>\n",
       "var masonry = new Macy({\n",
       "    container: '#grid_RBbRUhGvjB',\n",
       "    debug: true,\n",
       "    mobileFirst: true,\n",
       "    columns: 2,\n",
       "    margin: {\n",
       "        x: 0,\n",
       "        y: 0\n",
       "    }\n",
       "  });\n",
       "\n",
       "  var traces_2lTgCi7dEv = [{\"name\":\"a\",\"type\":\"scatter\",\"mode\":\"markers\",\"x\":[0,0.39456415653745824,1.2750777314323891,2.4133685599099066,2.41648420820733,4.483203938783326,4.846770401995111,1.8072663810472989,1.416632763102446,7.253778391169385,8.27309899232612,6.121332136354898,6.881033632602983,6.213012539726581,11.348844996905637,2.9068503244236115,4.729331918615273,2.7063117141955932,9.896341130482803,14.304949684234368,13.565475779827254,10.57267086945483,6.822817792465008,20.67297213090765,5.476857897575714,4.5188283110178835,14.395087066280452,13.024604736327877,6.254619144807314,5.079422753727794,29.014457071600123,12.858036076741918,7.131483870839329,14.664673591633942,33.230827411486075,2.4268999565269773,21.029007977578267,36.08578046626707,10.382375949711497,32.86810328837127,22.518031249379717,37.340811216414444,30.33610991813285,7.088966246231413,3.474444702974447,15.59033914738532,21.584836606273036,32.18323847409054,37.007119202125786,29.402469297479996,46.677780916008196,29.64168959461955,27.895954137000583,12.75120959710178,47.87516864968343,51.99794609354206,19.755579719788475,53.16032121983739,45.27157118176328,57.05417579258137,48.68413760665552,12.046904423646687,1.678747615490136,13.7139998016078,29.516988132627333,33.985018323345535,64.5459592180128,44.96177856902621,51.23186651421794,59.52948158599614,66.37449787810651,15.917996540586106,7.795255492060072,33.66392091520888,54.70328246799467,29.420021655462964,29.04925586062516,8.11479448234434,60.05384334872975,42.47597099078157,64.36423219507421,29.954807288241376,8.476037334323236,38.46672081704368,22.974894903157757,12.354648584939975,31.780081139779664,39.37737363490709,66.42627689818904,68.28144831200132,74.4263046943193,78.87465821597186,37.63123854443442,32.635719227018704,54.621114435718596,21.96075500096044,94.93273611386647,51.015803161961365,27.68627401911267,32.47710064663661],\"y\":[0,0.6163367202164324,0.9309508503542472,0.5869940711350057,0.2245875303144409,2.2996056084975454,0.32761073258058016,0.6181274492509803,0.031150566561957582,4.31683940392653,4.680519821656132,4.296709145778368,1.9627541838324438,4.233043659626982,2.4535490534510114,2.989931078997815,7.026755119934517,6.64821118908216,9.533706518602294,14.946972340999688,17.701090509992408,16.22278123520734,4.179154602331278,10.159517054588497,14.02575634153856,19.79794548892977,12.164627367767158,6.735792197909495,23.011471658318733,0.8133757395282408,14.871868021927794,6.588836349969401,23.45785894153594,30.172208560948356,6.622501803380051,26.095188853953207,30.32525643431436,13.029298553475883,24.41697922444004,38.2395556649086,6.297415151151395,18.933823558007607,24.675840754956443,21.87429694353763,34.35691408155128,24.591317844272872,24.82856487542767,7.33976845527017,15.32111840023095,28.473096605532987,3.9107135391902306,7.062620313251799,37.60385953605827,2.842824162889782,40.961908530845555,26.12421063362642,32.22682511914841,44.74069556055649,16.21540956923148,50.42012491401144,15.554843115132861,26.31530195992072,23.08473923609528,15.164666591006862,56.62082930176286,47.87176386338063,14.033822347410581,25.38087891202377,22.489195187690708,16.362144853352373,1.8145960353064527,1.907263260523515,19.130915140407645,4.030482358007579,70.51988379979058,12.596939687639003,41.99926884530018,46.790012235786946,13.679652821338834,54.033369777057395,1.1525168474123504,44.90428058044833,62.47536454983383,80.48917776500453,11.618389443313871,5.916935649274013,59.31033424288188,65.26077722283549,81.98530001433437,50.77687535843393,1.70337491743906,84.17174796611621,74.18665740635767,33.98635700320288,24.01902749798613,58.20188128809419,6.367495120968375,28.609369037245106,51.15987770323128,68.11689327242752]}];\n",
       " var layout_2lTgCi7dEv = {\"height\":350,\"width\":350,\"hovermode\":\"closest\",\"showlegend\":true,\"margin\":{\"l\":50,\"r\":30,\"t\":50,\"b\":50},\"xaxis\":{\"title\":{\"text\":\"x axis 1\"},\"showgrid\":true,\"zeroline\":false,\"showline\":false},\"yaxis\":{\"title\":{\"text\":\"y axis 1\"},\"showgrid\":true,\"zeroline\":false,\"showline\":false}};\n",
       " var config_2lTgCi7dEv = {\"responsive\":true,\"scrollZoom\":true,\"displaylogo\":false};\n",
       " Plotly.newPlot(\"graph_2lTgCi7dEv\", traces_2lTgCi7dEv, layout_2lTgCi7dEv, config_2lTgCi7dEv);\n",
       "\n",
       "  var traces_iasH5C5UHH = [{\"name\":\"b\",\"type\":\"scatter\",\"mode\":\"markers\",\"x\":[0,0.39456415653745824,1.2750777314323891,2.4133685599099066,2.41648420820733,4.483203938783326,4.846770401995111,1.8072663810472989,1.416632763102446,7.253778391169385,8.27309899232612,6.121332136354898,6.881033632602983,6.213012539726581,11.348844996905637,2.9068503244236115,4.729331918615273,2.7063117141955932,9.896341130482803,14.304949684234368,13.565475779827254,10.57267086945483,6.822817792465008,20.67297213090765,5.476857897575714,4.5188283110178835,14.395087066280452,13.024604736327877,6.254619144807314,5.079422753727794,29.014457071600123,12.858036076741918,7.131483870839329,14.664673591633942,33.230827411486075,2.4268999565269773,21.029007977578267,36.08578046626707,10.382375949711497,32.86810328837127,22.518031249379717,37.340811216414444,30.33610991813285,7.088966246231413,3.474444702974447,15.59033914738532,21.584836606273036,32.18323847409054,37.007119202125786,29.402469297479996,46.677780916008196,29.64168959461955,27.895954137000583,12.75120959710178,47.87516864968343,51.99794609354206,19.755579719788475,53.16032121983739,45.27157118176328,57.05417579258137,48.68413760665552,12.046904423646687,1.678747615490136,13.7139998016078,29.516988132627333,33.985018323345535,64.5459592180128,44.96177856902621,51.23186651421794,59.52948158599614,66.37449787810651,15.917996540586106,7.795255492060072,33.66392091520888,54.70328246799467,29.420021655462964,29.04925586062516,8.11479448234434,60.05384334872975,42.47597099078157,64.36423219507421,29.954807288241376,8.476037334323236,38.46672081704368,22.974894903157757,12.354648584939975,31.780081139779664,39.37737363490709,66.42627689818904,68.28144831200132,74.4263046943193,78.87465821597186,37.63123854443442,32.635719227018704,54.621114435718596,21.96075500096044,94.93273611386647,51.015803161961365,27.68627401911267,32.47710064663661],\"y\":[0,0.6163367202164324,0.9309508503542472,0.5869940711350057,0.2245875303144409,2.2996056084975454,0.32761073258058016,0.6181274492509803,0.031150566561957582,4.31683940392653,4.680519821656132,4.296709145778368,1.9627541838324438,4.233043659626982,2.4535490534510114,2.989931078997815,7.026755119934517,6.64821118908216,9.533706518602294,14.946972340999688,17.701090509992408,16.22278123520734,4.179154602331278,10.159517054588497,14.02575634153856,19.79794548892977,12.164627367767158,6.735792197909495,23.011471658318733,0.8133757395282408,14.871868021927794,6.588836349969401,23.45785894153594,30.172208560948356,6.622501803380051,26.095188853953207,30.32525643431436,13.029298553475883,24.41697922444004,38.2395556649086,6.297415151151395,18.933823558007607,24.675840754956443,21.87429694353763,34.35691408155128,24.591317844272872,24.82856487542767,7.33976845527017,15.32111840023095,28.473096605532987,3.9107135391902306,7.062620313251799,37.60385953605827,2.842824162889782,40.961908530845555,26.12421063362642,32.22682511914841,44.74069556055649,16.21540956923148,50.42012491401144,15.554843115132861,26.31530195992072,23.08473923609528,15.164666591006862,56.62082930176286,47.87176386338063,14.033822347410581,25.38087891202377,22.489195187690708,16.362144853352373,1.8145960353064527,1.907263260523515,19.130915140407645,4.030482358007579,70.51988379979058,12.596939687639003,41.99926884530018,46.790012235786946,13.679652821338834,54.033369777057395,1.1525168474123504,44.90428058044833,62.47536454983383,80.48917776500453,11.618389443313871,5.916935649274013,59.31033424288188,65.26077722283549,81.98530001433437,50.77687535843393,1.70337491743906,84.17174796611621,74.18665740635767,33.98635700320288,24.01902749798613,58.20188128809419,6.367495120968375,28.609369037245106,51.15987770323128,68.11689327242752]}];\n",
       " var layout_iasH5C5UHH = {\"height\":350,\"width\":350,\"hovermode\":\"closest\",\"showlegend\":true,\"margin\":{\"l\":50,\"r\":50,\"t\":50,\"b\":50},\"xaxis\":{\"title\":{\"text\":\"x axis 2\"},\"showgrid\":true,\"zeroline\":false,\"showline\":false},\"yaxis\":{\"title\":{\"text\":\"y axis 2\"},\"showgrid\":true,\"zeroline\":false,\"showline\":false}};\n",
       " var config_iasH5C5UHH = {\"responsive\":true,\"scrollZoom\":true,\"displaylogo\":false};\n",
       " Plotly.newPlot(\"graph_iasH5C5UHH\", traces_iasH5C5UHH, layout_iasH5C5UHH, config_iasH5C5UHH);\n",
       "\n",
       "  var traces_QgOjVWc21v = [{\"name\":\"c\",\"type\":\"scatter\",\"mode\":\"markers\",\"x\":[0,0.39456415653745824,1.2750777314323891,2.4133685599099066,2.41648420820733,4.483203938783326,4.846770401995111,1.8072663810472989,1.416632763102446,7.253778391169385,8.27309899232612,6.121332136354898,6.881033632602983,6.213012539726581,11.348844996905637,2.9068503244236115,4.729331918615273,2.7063117141955932,9.896341130482803,14.304949684234368,13.565475779827254,10.57267086945483,6.822817792465008,20.67297213090765,5.476857897575714,4.5188283110178835,14.395087066280452,13.024604736327877,6.254619144807314,5.079422753727794,29.014457071600123,12.858036076741918,7.131483870839329,14.664673591633942,33.230827411486075,2.4268999565269773,21.029007977578267,36.08578046626707,10.382375949711497,32.86810328837127,22.518031249379717,37.340811216414444,30.33610991813285,7.088966246231413,3.474444702974447,15.59033914738532,21.584836606273036,32.18323847409054,37.007119202125786,29.402469297479996,46.677780916008196,29.64168959461955,27.895954137000583,12.75120959710178,47.87516864968343,51.99794609354206,19.755579719788475,53.16032121983739,45.27157118176328,57.05417579258137,48.68413760665552,12.046904423646687,1.678747615490136,13.7139998016078,29.516988132627333,33.985018323345535,64.5459592180128,44.96177856902621,51.23186651421794,59.52948158599614,66.37449787810651,15.917996540586106,7.795255492060072,33.66392091520888,54.70328246799467,29.420021655462964,29.04925586062516,8.11479448234434,60.05384334872975,42.47597099078157,64.36423219507421,29.954807288241376,8.476037334323236,38.46672081704368,22.974894903157757,12.354648584939975,31.780081139779664,39.37737363490709,66.42627689818904,68.28144831200132,74.4263046943193,78.87465821597186,37.63123854443442,32.635719227018704,54.621114435718596,21.96075500096044,94.93273611386647,51.015803161961365,27.68627401911267,32.47710064663661],\"y\":[0,0.6163367202164324,0.9309508503542472,0.5869940711350057,0.2245875303144409,2.2996056084975454,0.32761073258058016,0.6181274492509803,0.031150566561957582,4.31683940392653,4.680519821656132,4.296709145778368,1.9627541838324438,4.233043659626982,2.4535490534510114,2.989931078997815,7.026755119934517,6.64821118908216,9.533706518602294,14.946972340999688,17.701090509992408,16.22278123520734,4.179154602331278,10.159517054588497,14.02575634153856,19.79794548892977,12.164627367767158,6.735792197909495,23.011471658318733,0.8133757395282408,14.871868021927794,6.588836349969401,23.45785894153594,30.172208560948356,6.622501803380051,26.095188853953207,30.32525643431436,13.029298553475883,24.41697922444004,38.2395556649086,6.297415151151395,18.933823558007607,24.675840754956443,21.87429694353763,34.35691408155128,24.591317844272872,24.82856487542767,7.33976845527017,15.32111840023095,28.473096605532987,3.9107135391902306,7.062620313251799,37.60385953605827,2.842824162889782,40.961908530845555,26.12421063362642,32.22682511914841,44.74069556055649,16.21540956923148,50.42012491401144,15.554843115132861,26.31530195992072,23.08473923609528,15.164666591006862,56.62082930176286,47.87176386338063,14.033822347410581,25.38087891202377,22.489195187690708,16.362144853352373,1.8145960353064527,1.907263260523515,19.130915140407645,4.030482358007579,70.51988379979058,12.596939687639003,41.99926884530018,46.790012235786946,13.679652821338834,54.033369777057395,1.1525168474123504,44.90428058044833,62.47536454983383,80.48917776500453,11.618389443313871,5.916935649274013,59.31033424288188,65.26077722283549,81.98530001433437,50.77687535843393,1.70337491743906,84.17174796611621,74.18665740635767,33.98635700320288,24.01902749798613,58.20188128809419,6.367495120968375,28.609369037245106,51.15987770323128,68.11689327242752]}];\n",
       " var layout_QgOjVWc21v = {\"height\":350,\"width\":350,\"hovermode\":\"closest\",\"showlegend\":true,\"margin\":{\"l\":50,\"r\":30,\"t\":50,\"b\":50},\"xaxis\":{\"title\":{\"text\":\"x axis 3\"},\"showgrid\":true,\"zeroline\":false,\"showline\":false},\"yaxis\":{\"title\":{\"text\":\"y axis 3\"},\"showgrid\":true,\"zeroline\":false,\"showline\":false}};\n",
       " var config_QgOjVWc21v = {\"responsive\":true,\"scrollZoom\":true,\"displaylogo\":false};\n",
       " Plotly.newPlot(\"graph_QgOjVWc21v\", traces_QgOjVWc21v, layout_QgOjVWc21v, config_QgOjVWc21v);\n",
       "\n",
       "  var traces_beFlSlzzpH = [{\"name\":\"First series\",\"type\":\"scatter\",\"mode\":\"markers\",\"x\":[1,2,3],\"y\":[2,4,5]},{\"name\":\"Second series\",\"type\":\"scatter\",\"mode\":\"markers\",\"xaxis\":\"x2\",\"yaxis\":\"y2\",\"x\":[0,0.39456415653745824,1.2750777314323891,2.4133685599099066,2.41648420820733,4.483203938783326,4.846770401995111,1.8072663810472989,1.416632763102446,7.253778391169385,8.27309899232612,6.121332136354898,6.881033632602983,6.213012539726581,11.348844996905637,2.9068503244236115,4.729331918615273,2.7063117141955932,9.896341130482803,14.304949684234368,13.565475779827254,10.57267086945483,6.822817792465008,20.67297213090765,5.476857897575714,4.5188283110178835,14.395087066280452,13.024604736327877,6.254619144807314,5.079422753727794,29.014457071600123,12.858036076741918,7.131483870839329,14.664673591633942,33.230827411486075,2.4268999565269773,21.029007977578267,36.08578046626707,10.382375949711497,32.86810328837127,22.518031249379717,37.340811216414444,30.33610991813285,7.088966246231413,3.474444702974447,15.59033914738532,21.584836606273036,32.18323847409054,37.007119202125786,29.402469297479996,46.677780916008196,29.64168959461955,27.895954137000583,12.75120959710178,47.87516864968343,51.99794609354206,19.755579719788475,53.16032121983739,45.27157118176328,57.05417579258137,48.68413760665552,12.046904423646687,1.678747615490136,13.7139998016078,29.516988132627333,33.985018323345535,64.5459592180128,44.96177856902621,51.23186651421794,59.52948158599614,66.37449787810651,15.917996540586106,7.795255492060072,33.66392091520888,54.70328246799467,29.420021655462964,29.04925586062516,8.11479448234434,60.05384334872975,42.47597099078157,64.36423219507421,29.954807288241376,8.476037334323236,38.46672081704368,22.974894903157757,12.354648584939975,31.780081139779664,39.37737363490709,66.42627689818904,68.28144831200132,74.4263046943193,78.87465821597186,37.63123854443442,32.635719227018704,54.621114435718596,21.96075500096044,94.93273611386647,51.015803161961365,27.68627401911267,32.47710064663661],\"y\":[0,0.6163367202164324,0.9309508503542472,0.5869940711350057,0.2245875303144409,2.2996056084975454,0.32761073258058016,0.6181274492509803,0.031150566561957582,4.31683940392653,4.680519821656132,4.296709145778368,1.9627541838324438,4.233043659626982,2.4535490534510114,2.989931078997815,7.026755119934517,6.64821118908216,9.533706518602294,14.946972340999688,17.701090509992408,16.22278123520734,4.179154602331278,10.159517054588497,14.02575634153856,19.79794548892977,12.164627367767158,6.735792197909495,23.011471658318733,0.8133757395282408,14.871868021927794,6.588836349969401,23.45785894153594,30.172208560948356,6.622501803380051,26.095188853953207,30.32525643431436,13.029298553475883,24.41697922444004,38.2395556649086,6.297415151151395,18.933823558007607,24.675840754956443,21.87429694353763,34.35691408155128,24.591317844272872,24.82856487542767,7.33976845527017,15.32111840023095,28.473096605532987,3.9107135391902306,7.062620313251799,37.60385953605827,2.842824162889782,40.961908530845555,26.12421063362642,32.22682511914841,44.74069556055649,16.21540956923148,50.42012491401144,15.554843115132861,26.31530195992072,23.08473923609528,15.164666591006862,56.62082930176286,47.87176386338063,14.033822347410581,25.38087891202377,22.489195187690708,16.362144853352373,1.8145960353064527,1.907263260523515,19.130915140407645,4.030482358007579,70.51988379979058,12.596939687639003,41.99926884530018,46.790012235786946,13.679652821338834,54.033369777057395,1.1525168474123504,44.90428058044833,62.47536454983383,80.48917776500453,11.618389443313871,5.916935649274013,59.31033424288188,65.26077722283549,81.98530001433437,50.77687535843393,1.70337491743906,84.17174796611621,74.18665740635767,33.98635700320288,24.01902749798613,58.20188128809419,6.367495120968375,28.609369037245106,51.15987770323128,68.11689327242752]}];\n",
       " var layout_beFlSlzzpH = {\"height\":350,\"width\":350,\"hovermode\":\"closest\",\"title\":{\"text\":\"The MultiChart from Above\"},\"showlegend\":true,\"grid\":{\"rows\":1,\"columns\":2,\"pattern\":\"independent\"},\"xaxis\":{\"showgrid\":true,\"zeroline\":false,\"showline\":false},\"xaxis2\":{\"title\":{\"text\":\"x2\"},\"showgrid\":true,\"zeroline\":false,\"showline\":false},\"yaxis2\":{\"showgrid\":true,\"zeroline\":false,\"showline\":false}};\n",
       " var config_beFlSlzzpH = {\"responsive\":false,\"scrollZoom\":true,\"displaylogo\":false};\n",
       " Plotly.newPlot(\"graph_beFlSlzzpH\", traces_beFlSlzzpH, layout_beFlSlzzpH, config_beFlSlzzpH);\n",
       "\n",
       "var save_RBbRUhGvjB = document.getElementById(\"saveAsPNG_RBbRUhGvjB\")\n",
       "save_RBbRUhGvjB.onclick = async function() {\n",
       "    const grid = document.getElementById(\"grid-container_RBbRUhGvjB\")\n",
       "    const graphs = grid.getElementsByClassName(\"graph\")\n",
       "\n",
       "    const images = []\n",
       "\n",
       "    const rows = 2\n",
       "    const cols = 2\n",
       "    const img_width = 400\n",
       "    const img_height = 400\n",
       "    var margin = 50\n",
       "\n",
       "    for (var i=0; i<rows; i++) {\n",
       "      for (var j=0; j<cols; j++) {\n",
       "        const image = await Plotly.toImage(graphs[i * cols + j], {format: 'png', width: img_width, height: img_height})\n",
       "        images.push(image);\n",
       "      }\n",
       "    }\n",
       "\n",
       "    const positioned_images = []\n",
       "\n",
       "        for (var i=0; i<rows; i++) {\n",
       "            for (var j=0; j<cols; j++) {\n",
       "\n",
       "                const obj = {\n",
       "                    \"src\": images[i*cols + j],\n",
       "                    x: j*img_width+margin,\n",
       "                    y: i*img_height+margin\n",
       "                }\n",
       "\n",
       "                positioned_images.push(obj)\n",
       "            }\n",
       "        }\n",
       "\n",
       "        mergeImages(positioned_images, {\n",
       "            width: img_width*cols+60, height: img_height*rows+60\n",
       "        })\n",
       "        .then(b64 => {\n",
       "            var a = document.createElement(\"a\");\n",
       "            a.href = b64;\n",
       "            a.download = \"Image.png\";\n",
       "            a.click();\n",
       "            a.remove()\n",
       "        });\n",
       "}\n",
       "</script> \n"
      ]
     },
     "metadata": {},
     "output_type": "display_data"
    }
   ],
   "source": [
    "// first define the x-axes we will use in the plot\n",
    "val ax1 = Axis(X, title = \"x axis 1\")\n",
    "val ax2 = Axis(X, title = \"x axis 2\")\n",
    "val ax3 = Axis(X, title = \"x axis 3\")\n",
    "val ax4 = Axis(X, title = \"x axis 4\")\n",
    "\n",
    "// first define the y-axes we will use in the plot\n",
    "val ax6 = Axis(Y, title = \"y axis 1\")\n",
    "val ax7 = Axis(Y, title = \"y axis 2\")\n",
    "val ax8 = Axis(Y, title = \"y axis 3\")\n",
    "val ax9 = Axis(Y, title = \"y axis 4\")\n",
    "\n",
    "// it may be necessary to play around with the chart dimensions and margin  in order to ensure a good fit on screen.\n",
    "val dim = 350\n",
    "\n",
    "val chart1 = (\n",
    "    Chart()\n",
    "    setDimensions(width = dim, height = dim)\n",
    "    addSeries XY(x, y).setName(\"a\").drawMarkers\n",
    "    addAxes(ax1, ax6)\n",
    "    setMargin(l=50, r=30, t=50, b=50)\n",
    ")\n",
    "\n",
    "val chart2 = (\n",
    "    Chart() \n",
    "    setDimensions(width = dim, height = dim)\n",
    "    addSeries XY(x, y).setName(\"b\").drawMarkers\n",
    "    addAxes(ax2, ax7)\n",
    "    setMargin(l=50, r=50, t=50, b=50)\n",
    ")\n",
    "\n",
    "val chart3 = (\n",
    "    Chart()\n",
    "    setDimensions(width = dim, height = dim)\n",
    "    addSeries XY(x, y).setName(\"c\").drawMarkers\n",
    "    addAxes(ax3, ax8)\n",
    "    setMargin(l=50, r=30, t=50, b=50)\n",
    ")\n",
    "\n",
    "val chart4 = (\n",
    "    Chart()\n",
    "    setDimensions(width = dim, height = dim)\n",
    "    addSeries(series1, series2)\n",
    "    setTitle \"The MultiChart from Above\"\n",
    "    addAxes(xaxis1, yaxis1, xaxis2, yaxis2) // these axes come from above\n",
    "    setConfig(responsive=false)\n",
    "    asMultiChart(1, 2)\n",
    ")\n",
    "\n",
    "// The canvas has an underlying grid. By default the underlying grid is 1x1, but we can pass in the dimensions we \n",
    "// require by passing in parameters in the constructor.\n",
    "Canvas(2, 2)\n",
    ".setChart(0, 0, chart1)\n",
    ".setChart(0, 1, chart2)\n",
    ".setChart(1, 0, chart3)\n",
    ".setChart(1, 1, chart4)\n",
    ".plotInline"
   ]
  },
  {
   "cell_type": "markdown",
   "metadata": {},
   "source": [
    "### Error Bars\n",
    "\n",
    "We can also add Error Bars to our plots.\n",
    "\n",
    "Error bars come in two flavours:\n",
    "\n",
    "1. `XError`\n",
    "2. `YError`\n",
    "\n",
    "Both of these has an associated `mode` that determines how the error bar is calculated for an individual point. The following `mode`s can be specified:\n",
    "\n",
    "- `DATA`: The user passes in an array that specifies the per point error\n",
    "- `PERCENT`: The user passes in a Double that calculates the error as a percentage of the value of the point\n",
    "- `CONSTANT`: The user passes in a double that is the constant value for the error for all points\n",
    "- `SQRT`: This calculates the error as a square root of the point value.\n",
    "\n",
    "The next few examples will demonstrate:"
   ]
  },
  {
   "cell_type": "code",
   "execution_count": 22,
   "metadata": {},
   "outputs": [],
   "source": [
    "// First import the Error Bar options\n",
    "import org.carbonateresearch.picta.options.{YError, CONSTANT, DATA, PERCENT, SQRT}"
   ]
  },
  {
   "cell_type": "code",
   "execution_count": 23,
   "metadata": {},
   "outputs": [
    {
     "data": {
      "text/html": [
       "<div id=\"grid-container_Bb8RBQQtVV\" class=\"grid-container\" align=\"center\"> \n",
       "<div id=\"grid_Bb8RBQQtVV\" class=\"grid\" align=\"center\"> \n",
       "<div id=\"graph_Py8u5chSAO\" class=\"graph\"></div> \n",
       "<div id=\"graph_0zGN9sjqPb\" class=\"graph\"></div> \n",
       "<div id=\"graph_ry9tTSxE5H\" class=\"graph\"></div> \n",
       "<div id=\"graph_VXKSWbgcmI\" class=\"graph\"></div> \n",
       "</div> \n",
       "</div> \n",
       "\n",
       "<div align=\"center\">\n",
       "<button id = \"saveAsPNG_Bb8RBQQtVV\" class=\"picta-button\">Download Canvas as PNG</button>\n",
       "</div>\n",
       "<script>\n",
       "var masonry = new Macy({\n",
       "    container: '#grid_Bb8RBQQtVV',\n",
       "    debug: true,\n",
       "    mobileFirst: true,\n",
       "    columns: 2,\n",
       "    margin: {\n",
       "        x: 0,\n",
       "        y: 0\n",
       "    }\n",
       "  });\n",
       "\n",
       "  var traces_Py8u5chSAO = [{\"name\":\"Error from provided data\",\"type\":\"scatter\",\"mode\":\"markers\",\"x\":[1,2,3],\"y\":[1.234,5.2112,2.44332],\"error_y\":{\"type\":\"data\",\"visible\":true,\"array\":[0.5,0.5,0.5]}}];\n",
       " var layout_Py8u5chSAO = {\"height\":400,\"width\":400,\"hovermode\":\"closest\",\"title\":{\"text\":\"Per Point Specified Error\"},\"showlegend\":true};\n",
       " var config_Py8u5chSAO = {\"responsive\":true,\"scrollZoom\":true,\"displaylogo\":false};\n",
       " Plotly.newPlot(\"graph_Py8u5chSAO\", traces_Py8u5chSAO, layout_Py8u5chSAO, config_Py8u5chSAO);\n",
       "\n",
       "  var traces_0zGN9sjqPb = [{\"name\":\"% error\",\"type\":\"scatter\",\"mode\":\"markers\",\"x\":[1,2,3],\"y\":[1.234,5.2112,2.44332],\"error_y\":{\"type\":\"percent\",\"visible\":true,\"value\":10}}];\n",
       " var layout_0zGN9sjqPb = {\"height\":400,\"width\":400,\"hovermode\":\"closest\",\"title\":{\"text\":\"Percentage Error\"},\"showlegend\":true};\n",
       " var config_0zGN9sjqPb = {\"responsive\":true,\"scrollZoom\":true,\"displaylogo\":false};\n",
       " Plotly.newPlot(\"graph_0zGN9sjqPb\", traces_0zGN9sjqPb, layout_0zGN9sjqPb, config_0zGN9sjqPb);\n",
       "\n",
       "  var traces_ry9tTSxE5H = [{\"name\":\"constant error\",\"type\":\"scatter\",\"mode\":\"markers\",\"x\":[1,2,3],\"y\":[1.234,5.2112,2.44332],\"error_y\":{\"type\":\"constant\",\"visible\":true,\"value\":10}}];\n",
       " var layout_ry9tTSxE5H = {\"height\":400,\"width\":400,\"hovermode\":\"closest\",\"title\":{\"text\":\"Constant Error\"},\"showlegend\":true};\n",
       " var config_ry9tTSxE5H = {\"responsive\":true,\"scrollZoom\":true,\"displaylogo\":false};\n",
       " Plotly.newPlot(\"graph_ry9tTSxE5H\", traces_ry9tTSxE5H, layout_ry9tTSxE5H, config_ry9tTSxE5H);\n",
       "\n",
       "  var traces_VXKSWbgcmI = [{\"name\":\"Sqrt\",\"type\":\"scatter\",\"mode\":\"markers\",\"x\":[1,2,3],\"y\":[1.234,5.2112,2.44332],\"error_y\":{\"type\":\"sqrt\",\"visible\":true}}];\n",
       " var layout_VXKSWbgcmI = {\"height\":400,\"width\":400,\"hovermode\":\"closest\",\"title\":{\"text\":\"Sqrt Error\"},\"showlegend\":true};\n",
       " var config_VXKSWbgcmI = {\"responsive\":true,\"scrollZoom\":true,\"displaylogo\":false};\n",
       " Plotly.newPlot(\"graph_VXKSWbgcmI\", traces_VXKSWbgcmI, layout_VXKSWbgcmI, config_VXKSWbgcmI);\n",
       "\n",
       "var save_Bb8RBQQtVV = document.getElementById(\"saveAsPNG_Bb8RBQQtVV\")\n",
       "save_Bb8RBQQtVV.onclick = async function() {\n",
       "    const grid = document.getElementById(\"grid-container_Bb8RBQQtVV\")\n",
       "    const graphs = grid.getElementsByClassName(\"graph\")\n",
       "\n",
       "    const images = []\n",
       "\n",
       "    const rows = 2\n",
       "    const cols = 2\n",
       "    const img_width = 400\n",
       "    const img_height = 400\n",
       "    var margin = 50\n",
       "\n",
       "    for (var i=0; i<rows; i++) {\n",
       "      for (var j=0; j<cols; j++) {\n",
       "        const image = await Plotly.toImage(graphs[i * cols + j], {format: 'png', width: img_width, height: img_height})\n",
       "        images.push(image);\n",
       "      }\n",
       "    }\n",
       "\n",
       "    const positioned_images = []\n",
       "\n",
       "        for (var i=0; i<rows; i++) {\n",
       "            for (var j=0; j<cols; j++) {\n",
       "\n",
       "                const obj = {\n",
       "                    \"src\": images[i*cols + j],\n",
       "                    x: j*img_width+margin,\n",
       "                    y: i*img_height+margin\n",
       "                }\n",
       "\n",
       "                positioned_images.push(obj)\n",
       "            }\n",
       "        }\n",
       "\n",
       "        mergeImages(positioned_images, {\n",
       "            width: img_width*cols+60, height: img_height*rows+60\n",
       "        })\n",
       "        .then(b64 => {\n",
       "            var a = document.createElement(\"a\");\n",
       "            a.href = b64;\n",
       "            a.download = \"Image.png\";\n",
       "            a.click();\n",
       "            a.remove()\n",
       "        });\n",
       "}\n",
       "</script> \n"
      ]
     },
     "metadata": {},
     "output_type": "display_data"
    }
   ],
   "source": [
    "val dim = 400\n",
    "\n",
    "val series1 = (\n",
    "    XY(List(1, 2, 3), List(1.234, 5.2112, 2.44332))\n",
    "    asType SCATTER\n",
    "    drawStyle MARKERS\n",
    "    // User specifies the error per point \n",
    "    setErrorBars YError(mode = DATA, array = List(0.5, 0.5, 0.5))\n",
    ")\n",
    "\n",
    "val chart1 = (\n",
    "    Chart()\n",
    "    addSeries series1.setName(\"Error from provided data\")\n",
    "    setTitle \"Per Point Specified Error\"\n",
    "    setDimensions(width = dim, height = dim)\n",
    ")\n",
    "\n",
    "\n",
    "val series2 = (\n",
    "    XY(List(1, 2, 3), List(1.234, 5.2112, 2.44332))\n",
    "    asType SCATTER\n",
    "    drawStyle MARKERS\n",
    "    // the error here is 10% of the corresponding y-value for the point\n",
    "    setErrorBars YError(mode = PERCENT, value = 10.0)\n",
    ")\n",
    "\n",
    "val chart2 = (\n",
    "    Chart()\n",
    "    addSeries series2.setName(\"% error\")\n",
    "    setTitle \"Percentage Error\"\n",
    "    setDimensions(width = dim, height = dim)\n",
    "    \n",
    ")\n",
    "\n",
    "\n",
    "val series3 = (\n",
    "    XY(List(1, 2, 3), List(1.234, 5.2112, 2.44332))\n",
    "    asType SCATTER\n",
    "    drawStyle MARKERS\n",
    "    // a constant error of 10 is applied to each point\n",
    "    setErrorBars YError(mode = CONSTANT, value = 10.0)\n",
    "    setName(\"Constant value\")\n",
    ")\n",
    "\n",
    "val chart3 = (\n",
    "    Chart()\n",
    "    addSeries series3.setName(\"constant error\")\n",
    "    setTitle \"Constant Error\"\n",
    "    setDimensions(width = dim, height = dim)\n",
    ")\n",
    "\n",
    "\n",
    "val series4 = (\n",
    "    XY(List(1, 2, 3), List(1.234, 5.2112, 2.44332))\n",
    "    asType SCATTER\n",
    "    drawStyle MARKERS\n",
    "    setErrorBars YError(mode = SQRT)\n",
    "    setName(\"Sqrt\")\n",
    ")\n",
    "\n",
    "val chart4 = (\n",
    "    Chart()\n",
    "    addSeries series4.setName(\"Sqrt\")\n",
    "    setTitle \"Sqrt Error\"\n",
    "    // the error is set to the sqrt of the corresponding point\n",
    "    setDimensions(width = dim, height = dim)\n",
    ")\n",
    "\n",
    "val canvas = Canvas(2, 2) addCharts (chart1, chart2, chart3, chart4)\n",
    "\n",
    "canvas.plotInline"
   ]
  },
  {
   "cell_type": "markdown",
   "metadata": {},
   "source": [
    "### Other Types of Charts\n",
    "\n",
    "The next examples will demonstrate how to create a variety of `Chart`s. All of the examples below are composable with the `Canvas` subplot system.\n",
    "\n",
    "#### Pie Chart\n",
    "\n",
    "Pie charts can be created in two ways. The first way uses the `PieElement` component to compose a Piechart:"
   ]
  },
  {
   "cell_type": "code",
   "execution_count": 24,
   "metadata": {},
   "outputs": [
    {
     "data": {
      "text/html": [
       "<div id=\"grid-container_qN5S1PG66M\" class=\"grid-container\" align=\"center\"> \n",
       "<div id=\"grid_qN5S1PG66M\" class=\"grid\" align=\"center\"> \n",
       "<div id=\"graph_KmPvYezau3\" class=\"graph\"></div> \n",
       "</div> \n",
       "</div> \n",
       "<script>\n",
       "var masonry = new Macy({\n",
       "    container: '#grid_qN5S1PG66M',\n",
       "    debug: true,\n",
       "    mobileFirst: true,\n",
       "    columns: 1,\n",
       "    margin: {\n",
       "        x: 0,\n",
       "        y: 0\n",
       "    }\n",
       "  });\n",
       "\n",
       "  var traces_KmPvYezau3 = [{\"name\":\"ChKWYQGDhc\",\"type\":\"pie\",\"values\":[60,20,20],\"labels\":[\"Residential\",\"Non-Residential\",\"Utility\"]}];\n",
       " var layout_KmPvYezau3 = {\"height\":550,\"width\":600,\"hovermode\":\"closest\",\"title\":{\"text\":\"Pie Elements\"},\"showlegend\":true};\n",
       " var config_KmPvYezau3 = {\"responsive\":true,\"scrollZoom\":true,\"displaylogo\":false};\n",
       " Plotly.newPlot(\"graph_KmPvYezau3\", traces_KmPvYezau3, layout_KmPvYezau3, config_KmPvYezau3);\n",
       "</script> \n"
      ]
     },
     "metadata": {},
     "output_type": "display_data"
    }
   ],
   "source": [
    "val a = PieElement(value=60, name=\"Residential\")\n",
    "val b = PieElement(value=20, name=\"Non-Residential\")\n",
    "val c = PieElement(value=20, name=\"Utility\")\n",
    "\n",
    "// we add a list of Pie Elements to an XY series as the list of Pie Elements gets deconstructed down into two series:\n",
    "// X => values: [60, 20, 20]\n",
    "// Y => labels: [\"Residential\", \"Non-Residential\", \"Utility\"]\n",
    "// The labels become the series_name for each individual PieElement\n",
    "// As we pass in a list of PieElements, we do not need to specify the type as a PIE\n",
    "val series = XY(x=List(a, b, c))\n",
    "\n",
    "val chart = Chart() addSeries series setTitle \"Pie Elements\"\n",
    "\n",
    "chart.plotInline"
   ]
  },
  {
   "cell_type": "code",
   "execution_count": 25,
   "metadata": {},
   "outputs": [
    {
     "data": {
      "text/html": [
       "<div id=\"grid-container_sOGS1x9lIR\" class=\"grid-container\" align=\"center\"> \n",
       "<div id=\"grid_sOGS1x9lIR\" class=\"grid\" align=\"center\"> \n",
       "<div id=\"graph_cR2RBncftU\" class=\"graph\"></div> \n",
       "</div> \n",
       "</div> \n",
       "<script>\n",
       "var masonry = new Macy({\n",
       "    container: '#grid_sOGS1x9lIR',\n",
       "    debug: true,\n",
       "    mobileFirst: true,\n",
       "    columns: 1,\n",
       "    margin: {\n",
       "        x: 0,\n",
       "        y: 0\n",
       "    }\n",
       "  });\n",
       "\n",
       "  var traces_cR2RBncftU = [{\"name\":\"qKtJhsQaS5\",\"type\":\"pie\",\"values\":[60,20,20],\"labels\":[\"Residential\",\"Non-Residential\",\"Utility\"]}];\n",
       " var layout_cR2RBncftU = {\"height\":550,\"width\":600,\"hovermode\":\"closest\",\"title\":{\"text\":\"Pie Chart\"},\"showlegend\":true};\n",
       " var config_cR2RBncftU = {\"responsive\":false,\"scrollZoom\":false,\"displaylogo\":false};\n",
       " Plotly.newPlot(\"graph_cR2RBncftU\", traces_cR2RBncftU, layout_cR2RBncftU, config_cR2RBncftU);\n",
       "</script> \n"
      ]
     },
     "metadata": {},
     "output_type": "display_data"
    }
   ],
   "source": [
    "// However, composing individual PieElements may be tedious if there is a lot of data and we know how to it all fits\n",
    "// together. Picta provides a short hand to quickly create a Pie Chart using the methods we have seen previously\n",
    "// In this case we pass the (value, name) pairs as two seperate lists. As before, the labels become an individual\n",
    "// series name for each point; which is why the legend renders correctly.\n",
    "val series = XY(x=List(60, 20, 20), y=List(\"Residential\", \"Non-Residential\", \"Utility\")) asType PIE\n",
    "\n",
    "val chart = Chart() addSeries series setConfig(false, false) setTitle \"Pie Chart\"\n",
    "\n",
    "chart.plotInline"
   ]
  },
  {
   "cell_type": "markdown",
   "metadata": {},
   "source": [
    "### Histogram"
   ]
  },
  {
   "cell_type": "code",
   "execution_count": 26,
   "metadata": {},
   "outputs": [
    {
     "data": {
      "text/html": [
       "<div id=\"grid-container_32NzXLFm0C\" class=\"grid-container\" align=\"center\"> \n",
       "<div id=\"grid_32NzXLFm0C\" class=\"grid\" align=\"center\"> \n",
       "<div id=\"graph_3yB8e09Ypr\" class=\"graph\"></div> \n",
       "</div> \n",
       "</div> \n",
       "<script>\n",
       "var masonry = new Macy({\n",
       "    container: '#grid_32NzXLFm0C',\n",
       "    debug: true,\n",
       "    mobileFirst: true,\n",
       "    columns: 1,\n",
       "    margin: {\n",
       "        x: 0,\n",
       "        y: 0\n",
       "    }\n",
       "  });\n",
       "\n",
       "  var traces_3yB8e09Ypr = [{\"name\":\"qrqhSmkuie\",\"type\":\"histogram\",\"x\":[0,0.39456415653745824,1.2750777314323891,2.4133685599099066,2.41648420820733,4.483203938783326,4.846770401995111,1.8072663810472989,1.416632763102446,7.253778391169385,8.27309899232612,6.121332136354898,6.881033632602983,6.213012539726581,11.348844996905637,2.9068503244236115,4.729331918615273,2.7063117141955932,9.896341130482803,14.304949684234368,13.565475779827254,10.57267086945483,6.822817792465008,20.67297213090765,5.476857897575714,4.5188283110178835,14.395087066280452,13.024604736327877,6.254619144807314,5.079422753727794,29.014457071600123,12.858036076741918,7.131483870839329,14.664673591633942,33.230827411486075,2.4268999565269773,21.029007977578267,36.08578046626707,10.382375949711497,32.86810328837127,22.518031249379717,37.340811216414444,30.33610991813285,7.088966246231413,3.474444702974447,15.59033914738532,21.584836606273036,32.18323847409054,37.007119202125786,29.402469297479996,46.677780916008196,29.64168959461955,27.895954137000583,12.75120959710178,47.87516864968343,51.99794609354206,19.755579719788475,53.16032121983739,45.27157118176328,57.05417579258137,48.68413760665552,12.046904423646687,1.678747615490136,13.7139998016078,29.516988132627333,33.985018323345535,64.5459592180128,44.96177856902621,51.23186651421794,59.52948158599614,66.37449787810651,15.917996540586106,7.795255492060072,33.66392091520888,54.70328246799467,29.420021655462964,29.04925586062516,8.11479448234434,60.05384334872975,42.47597099078157,64.36423219507421,29.954807288241376,8.476037334323236,38.46672081704368,22.974894903157757,12.354648584939975,31.780081139779664,39.37737363490709,66.42627689818904,68.28144831200132,74.4263046943193,78.87465821597186,37.63123854443442,32.635719227018704,54.621114435718596,21.96075500096044,94.93273611386647,51.015803161961365,27.68627401911267,32.47710064663661]}];\n",
       " var layout_3yB8e09Ypr = {\"height\":550,\"width\":600,\"hovermode\":\"closest\",\"title\":{\"text\":\"Histogram with axes\"},\"showlegend\":true,\"xaxis\":{\"title\":{\"text\":\"my x data\"},\"showgrid\":true,\"zeroline\":false,\"showline\":false},\"yaxis\":{\"title\":{\"text\":\"my y data\"},\"showgrid\":true,\"zeroline\":false,\"showline\":false}};\n",
       " var config_3yB8e09Ypr = {\"responsive\":true,\"scrollZoom\":true,\"displaylogo\":false};\n",
       " Plotly.newPlot(\"graph_3yB8e09Ypr\", traces_3yB8e09Ypr, layout_3yB8e09Ypr, config_3yB8e09Ypr);\n",
       "</script> \n"
      ]
     },
     "metadata": {},
     "output_type": "display_data"
    }
   ],
   "source": [
    "val series = XY(x=x) asType HISTOGRAM\n",
    "\n",
    "val xaxis = Axis(X, title = \"my x data\")\n",
    "val yaxis = Axis(Y, title = \"my y data\")\n",
    "\n",
    "val chart = (\n",
    "    Chart() \n",
    "    addSeries series\n",
    "    setTitle \"Histogram with axes\"\n",
    "    addAxes(xaxis, yaxis)\n",
    ")\n",
    "\n",
    "Canvas()\n",
    ".addCharts(chart)\n",
    ".plotInline"
   ]
  },
  {
   "cell_type": "markdown",
   "metadata": {},
   "source": [
    "#### Customizing colors for a Histogram\n",
    "\n",
    "We can use the `HistOptions` class to further specify options for a histogram. For example, if we wanted to create a horizontally positioned histogram, we can do the following:"
   ]
  },
  {
   "cell_type": "code",
   "execution_count": 27,
   "metadata": {},
   "outputs": [],
   "source": [
    "import org.carbonateresearch.picta.options.histogram.HistOptions\n",
    "import org.carbonateresearch.picta.options.Line"
   ]
  },
  {
   "cell_type": "code",
   "execution_count": 28,
   "metadata": {},
   "outputs": [
    {
     "data": {
      "text/html": [
       "<div id=\"grid-container_SfpR4Djf94\" class=\"grid-container\" align=\"center\"> \n",
       "<div id=\"grid_SfpR4Djf94\" class=\"grid\" align=\"center\"> \n",
       "<div id=\"graph_wP3GWHRlEG\" class=\"graph\"></div> \n",
       "</div> \n",
       "</div> \n",
       "<script>\n",
       "var masonry = new Macy({\n",
       "    container: '#grid_SfpR4Djf94',\n",
       "    debug: true,\n",
       "    mobileFirst: true,\n",
       "    columns: 1,\n",
       "    margin: {\n",
       "        x: 0,\n",
       "        y: 0\n",
       "    }\n",
       "  });\n",
       "\n",
       "  var traces_wP3GWHRlEG = [{\"name\":\"kG1eXEltEK\",\"type\":\"histogram\",\"marker\":{\"color\":\"rgba(255.0, 100.0, 102.0, 0.5)\",\"line\":{\"width\":0.5}},\"y\":[0,0.39456415653745824,1.2750777314323891,2.4133685599099066,2.41648420820733,4.483203938783326,4.846770401995111,1.8072663810472989,1.416632763102446,7.253778391169385,8.27309899232612,6.121332136354898,6.881033632602983,6.213012539726581,11.348844996905637,2.9068503244236115,4.729331918615273,2.7063117141955932,9.896341130482803,14.304949684234368,13.565475779827254,10.57267086945483,6.822817792465008,20.67297213090765,5.476857897575714,4.5188283110178835,14.395087066280452,13.024604736327877,6.254619144807314,5.079422753727794,29.014457071600123,12.858036076741918,7.131483870839329,14.664673591633942,33.230827411486075,2.4268999565269773,21.029007977578267,36.08578046626707,10.382375949711497,32.86810328837127,22.518031249379717,37.340811216414444,30.33610991813285,7.088966246231413,3.474444702974447,15.59033914738532,21.584836606273036,32.18323847409054,37.007119202125786,29.402469297479996,46.677780916008196,29.64168959461955,27.895954137000583,12.75120959710178,47.87516864968343,51.99794609354206,19.755579719788475,53.16032121983739,45.27157118176328,57.05417579258137,48.68413760665552,12.046904423646687,1.678747615490136,13.7139998016078,29.516988132627333,33.985018323345535,64.5459592180128,44.96177856902621,51.23186651421794,59.52948158599614,66.37449787810651,15.917996540586106,7.795255492060072,33.66392091520888,54.70328246799467,29.420021655462964,29.04925586062516,8.11479448234434,60.05384334872975,42.47597099078157,64.36423219507421,29.954807288241376,8.476037334323236,38.46672081704368,22.974894903157757,12.354648584939975,31.780081139779664,39.37737363490709,66.42627689818904,68.28144831200132,74.4263046943193,78.87465821597186,37.63123854443442,32.635719227018704,54.621114435718596,21.96075500096044,94.93273611386647,51.015803161961365,27.68627401911267,32.47710064663661]}];\n",
       " var layout_wP3GWHRlEG = {\"height\":550,\"width\":600,\"hovermode\":\"closest\",\"title\":{\"text\":\"XY.Histogram.Color\"},\"showlegend\":true};\n",
       " var config_wP3GWHRlEG = {\"responsive\":true,\"scrollZoom\":true,\"displaylogo\":false};\n",
       " Plotly.newPlot(\"graph_wP3GWHRlEG\", traces_wP3GWHRlEG, layout_wP3GWHRlEG, config_wP3GWHRlEG);\n",
       "</script> \n"
      ]
     },
     "metadata": {},
     "output_type": "display_data"
    }
   ],
   "source": [
    "// we can also compose customizations in much the same way:\n",
    "val marker = Marker() setColor RGBA(255, 100, 102, 0.5) setLine Line()\n",
    "\n",
    "// change xkey to y to get a horizontal histogram\n",
    "val series = (\n",
    "    XY(x) \n",
    "    asType HISTOGRAM\n",
    "    setMarker marker\n",
    "    // we can set histogram specific options using the setHistOptions method\n",
    "    setHistOptions(orientation = HORIZONTAL)\n",
    ")\n",
    "\n",
    "val chart = (\n",
    "    Chart() \n",
    "    addSeries series \n",
    "    setTitle \"XY.Histogram.Color\"\n",
    ")\n",
    "\n",
    "chart.plotInline"
   ]
  },
  {
   "cell_type": "markdown",
   "metadata": {},
   "source": [
    "#### Cumulative Histogram\n",
    "\n",
    "Sometimes a cumulative histogram may be desired. We can do this as follows:"
   ]
  },
  {
   "cell_type": "code",
   "execution_count": 29,
   "metadata": {},
   "outputs": [],
   "source": [
    "// we can import a range of histnorms\n",
    "import org.carbonateresearch.picta.options.histogram.{Cumulative, PERCENT, DENSITY, PROBABILITY_DENSITY, NUMBER}"
   ]
  },
  {
   "cell_type": "code",
   "execution_count": 30,
   "metadata": {},
   "outputs": [
    {
     "data": {
      "text/html": [
       "<div id=\"grid-container_8bqISaUGo9\" class=\"grid-container\" align=\"center\"> \n",
       "<div id=\"grid_8bqISaUGo9\" class=\"grid\" align=\"center\"> \n",
       "<div id=\"graph_FthuJnyoG4\" class=\"graph\"></div> \n",
       "</div> \n",
       "</div> \n",
       "<script>\n",
       "var masonry = new Macy({\n",
       "    container: '#grid_8bqISaUGo9',\n",
       "    debug: true,\n",
       "    mobileFirst: true,\n",
       "    columns: 1,\n",
       "    margin: {\n",
       "        x: 0,\n",
       "        y: 0\n",
       "    }\n",
       "  });\n",
       "\n",
       "  var traces_FthuJnyoG4 = [{\"name\":\"RZAgbjlQFt\",\"type\":\"histogram\",\"cumulative\":{\"enabled\":true},\"histnorm\":\"\",\"x\":[0,0.39456415653745824,1.2750777314323891,2.4133685599099066,2.41648420820733,4.483203938783326,4.846770401995111,1.8072663810472989,1.416632763102446,7.253778391169385,8.27309899232612,6.121332136354898,6.881033632602983,6.213012539726581,11.348844996905637,2.9068503244236115,4.729331918615273,2.7063117141955932,9.896341130482803,14.304949684234368,13.565475779827254,10.57267086945483,6.822817792465008,20.67297213090765,5.476857897575714,4.5188283110178835,14.395087066280452,13.024604736327877,6.254619144807314,5.079422753727794,29.014457071600123,12.858036076741918,7.131483870839329,14.664673591633942,33.230827411486075,2.4268999565269773,21.029007977578267,36.08578046626707,10.382375949711497,32.86810328837127,22.518031249379717,37.340811216414444,30.33610991813285,7.088966246231413,3.474444702974447,15.59033914738532,21.584836606273036,32.18323847409054,37.007119202125786,29.402469297479996,46.677780916008196,29.64168959461955,27.895954137000583,12.75120959710178,47.87516864968343,51.99794609354206,19.755579719788475,53.16032121983739,45.27157118176328,57.05417579258137,48.68413760665552,12.046904423646687,1.678747615490136,13.7139998016078,29.516988132627333,33.985018323345535,64.5459592180128,44.96177856902621,51.23186651421794,59.52948158599614,66.37449787810651,15.917996540586106,7.795255492060072,33.66392091520888,54.70328246799467,29.420021655462964,29.04925586062516,8.11479448234434,60.05384334872975,42.47597099078157,64.36423219507421,29.954807288241376,8.476037334323236,38.46672081704368,22.974894903157757,12.354648584939975,31.780081139779664,39.37737363490709,66.42627689818904,68.28144831200132,74.4263046943193,78.87465821597186,37.63123854443442,32.635719227018704,54.621114435718596,21.96075500096044,94.93273611386647,51.015803161961365,27.68627401911267,32.47710064663661]}];\n",
       " var layout_FthuJnyoG4 = {\"height\":550,\"width\":600,\"hovermode\":\"closest\",\"title\":{\"text\":\"Histogram - Cumulative\"},\"showlegend\":true};\n",
       " var config_FthuJnyoG4 = {\"responsive\":true,\"scrollZoom\":true,\"displaylogo\":false};\n",
       " Plotly.newPlot(\"graph_FthuJnyoG4\", traces_FthuJnyoG4, layout_FthuJnyoG4, config_FthuJnyoG4);\n",
       "</script> \n"
      ]
     },
     "metadata": {},
     "output_type": "display_data"
    }
   ],
   "source": [
    "val series = XY(x) asType HISTOGRAM setHistOptions(histnorm = NUMBER, cumulative = Cumulative(enabled=true))\n",
    "\n",
    "val chart = Chart() addSeries series setTitle \"Histogram - Cumulative\"\n",
    "\n",
    "chart.plotInline"
   ]
  },
  {
   "cell_type": "markdown",
   "metadata": {},
   "source": [
    "#### Specifiying the Binning Function\n",
    "\n",
    "We can also specify the binning function for a histogram."
   ]
  },
  {
   "cell_type": "code",
   "execution_count": 31,
   "metadata": {},
   "outputs": [],
   "source": [
    "import org.carbonateresearch.picta.options.histogram.{COUNT, SUM, AVG, MIN, MAX, HistOptions}"
   ]
  },
  {
   "cell_type": "code",
   "execution_count": 32,
   "metadata": {},
   "outputs": [
    {
     "data": {
      "text/html": [
       "<div id=\"grid-container_WoIy942YGz\" class=\"grid-container\" align=\"center\"> \n",
       "<div id=\"grid_WoIy942YGz\" class=\"grid\" align=\"center\"> \n",
       "<div id=\"graph_1q67stksPU\" class=\"graph\"></div> \n",
       "</div> \n",
       "</div> \n",
       "<script>\n",
       "var masonry = new Macy({\n",
       "    container: '#grid_WoIy942YGz',\n",
       "    debug: true,\n",
       "    mobileFirst: true,\n",
       "    columns: 1,\n",
       "    margin: {\n",
       "        x: 0,\n",
       "        y: 0\n",
       "    }\n",
       "  });\n",
       "\n",
       "  var traces_1q67stksPU = [{\"name\":\"yk2VfjbWZ9\",\"type\":\"histogram\",\"histfunc\":\"count\",\"x\":[\"Apples\",\"Apples\",\"Apples\",\"Oranges\",\"Bananas\"],\"y\":[\"5\",\"10\",\"3\",\"10\",\"5\"]},{\"name\":\"zFBo3yUMsV\",\"type\":\"histogram\",\"histfunc\":\"sum\",\"x\":[\"Apples\",\"Apples\",\"Apples\",\"Oranges\",\"Bananas\"],\"y\":[\"5\",\"10\",\"3\",\"10\",\"5\"]}];\n",
       " var layout_1q67stksPU = {\"height\":550,\"width\":600,\"hovermode\":\"closest\",\"title\":{\"text\":\"Histogram - Specify Binning Function\"},\"showlegend\":true};\n",
       " var config_1q67stksPU = {\"responsive\":true,\"scrollZoom\":true,\"displaylogo\":false};\n",
       " Plotly.newPlot(\"graph_1q67stksPU\", traces_1q67stksPU, layout_1q67stksPU, config_1q67stksPU);\n",
       "</script> \n"
      ]
     },
     "metadata": {},
     "output_type": "display_data"
    }
   ],
   "source": [
    "val x = List(\"Apples\", \"Apples\", \"Apples\", \"Oranges\", \"Bananas\")\n",
    "val y = List(\"5\", \"10\", \"3\", \"10\", \"5\")\n",
    "\n",
    "// we can also assign histOptions to a value and pass them to the setHistOptions method\n",
    "val ho1 = HistOptions(histfunc = COUNT)\n",
    "val ho2 = HistOptions(histfunc = SUM)\n",
    "    \n",
    "val t1 = XY(x = x, y = y) asType HISTOGRAM setHistOptions ho1\n",
    "val t2 = XY(x = x, y = y) asType HISTOGRAM setHistOptions ho2\n",
    "\n",
    "val chart = Chart() addSeries(t1, t2) setTitle \"Histogram - Specify Binning Function\"\n",
    "val canvas = Canvas() addCharts chart\n",
    "canvas.plotInline"
   ]
  },
  {
   "cell_type": "markdown",
   "metadata": {},
   "source": [
    "### 2D Histogram Contour"
   ]
  },
  {
   "cell_type": "code",
   "execution_count": 33,
   "metadata": {},
   "outputs": [
    {
     "data": {
      "text/html": [
       "<div id=\"grid-container_NoARzW8LOS\" class=\"grid-container\" align=\"center\"> \n",
       "<div id=\"grid_NoARzW8LOS\" class=\"grid\" align=\"center\"> \n",
       "<div id=\"graph_UbNPb5quSd\" class=\"graph\"></div> \n",
       "</div> \n",
       "</div> \n",
       "<script>\n",
       "var masonry = new Macy({\n",
       "    container: '#grid_NoARzW8LOS',\n",
       "    debug: true,\n",
       "    mobileFirst: true,\n",
       "    columns: 1,\n",
       "    margin: {\n",
       "        x: 0,\n",
       "        y: 0\n",
       "    }\n",
       "  });\n",
       "\n",
       "  var traces_UbNPb5quSd = [{\"name\":\"MIzNHEEIL8\",\"type\":\"histogram2dcontour\",\"mode\":\"markers\",\"x\":[1,2,3,4,5,6,7,8,9,10,11,12,13,14,15,16,17,18,19,20,21,22,23,24,25,26,27,28,29,30,31,32,33,34,35,36,37,38,39,40,41,42,43,44,45,46,47,48,49],\"y\":[53.17938569241662,39.57972956775678,18.975173657166728,73.08869562573166,77.09724542729093,48.020516029496825,73.5713178042738,101.46080776733525,89.39917847150963,84.89082479213856,95.67574758522034,92.36418988774439,71.73943619117752,81.79292866370315,43.94821411432994,23.130904772327874,40.45494571776106,93.98941524270059,37.037345503877,95.15791205467882,84.46792837149933,79.63663026155093,29.497916879710374,122.18368333831862,41.24861103798443,109.16578897277668,31.189662680220863,96.87075410856941,58.033471199900816,80.64486937495528,65.4487648945807,86.57613133909234,38.71708949803059,55.333295900712,41.10831082054192,36.63292726370753,108.18337968545684,69.14540553653589,121.3541912156048,40.033024819256,135.3145845755153,120.3674979534767,108.43799708969811,66.09189148107015,143.51409025697615,81.72726323658301,127.42873608331713,127.49318684568239,103.301791146978]}];\n",
       " var layout_UbNPb5quSd = {\"height\":550,\"width\":600,\"hovermode\":\"closest\",\"title\":{\"text\":\"2D Histogram Contour\"},\"showlegend\":true};\n",
       " var config_UbNPb5quSd = {\"responsive\":true,\"scrollZoom\":true,\"displaylogo\":false};\n",
       " Plotly.newPlot(\"graph_UbNPb5quSd\", traces_UbNPb5quSd, layout_UbNPb5quSd, config_UbNPb5quSd);\n",
       "</script> \n"
      ]
     },
     "metadata": {},
     "output_type": "display_data"
    }
   ],
   "source": [
    "val x = List.range(1, 50)\n",
    "val y = x.map(x => x + scala.util.Random.nextDouble()*100)\n",
    "\n",
    "val series = XY(x, y).asType(HISTOGRAM2DCONTOUR).drawMarkers\n",
    "\n",
    "val chart = (\n",
    "    Chart() addSeries series\n",
    "    setTitle \"2D Histogram Contour\"\n",
    ")\n",
    "\n",
    "chart.plotInline"
   ]
  },
  {
   "cell_type": "markdown",
   "metadata": {},
   "source": [
    "#### Adding additional axes\n",
    "\n",
    "As the above is a density plot, adding histograms can be useful too.\n",
    "\n",
    "We can add histograms as follows:"
   ]
  },
  {
   "cell_type": "code",
   "execution_count": 34,
   "metadata": {},
   "outputs": [],
   "source": [
    "// import the 2d Density histogram options\n",
    "import org.carbonateresearch.picta.options.histogram2d.Hist2dOptions"
   ]
  },
  {
   "cell_type": "code",
   "execution_count": 35,
   "metadata": {},
   "outputs": [
    {
     "data": {
      "text/html": [
       "<div id=\"grid-container_Tlo50rsBQF\" class=\"grid-container\" align=\"center\"> \n",
       "<div id=\"grid_Tlo50rsBQF\" class=\"grid\" align=\"center\"> \n",
       "<div id=\"graph_2RjM76yKdG\" class=\"graph\"></div> \n",
       "</div> \n",
       "</div> \n",
       "<script>\n",
       "var masonry = new Macy({\n",
       "    container: '#grid_Tlo50rsBQF',\n",
       "    debug: true,\n",
       "    mobileFirst: true,\n",
       "    columns: 1,\n",
       "    margin: {\n",
       "        x: 0,\n",
       "        y: 0\n",
       "    }\n",
       "  });\n",
       "\n",
       "  var traces_2RjM76yKdG = [{\"name\":\"points\",\"type\":\"scatter\",\"mode\":\"markers\",\"marker\":{\"color\":\"rgb(102.0, 0.0, 0.0)\"},\"x\":[1,2,3,4,5,6,7,8,9,10,11,12,13,14,15,16,17,18,19,20,21,22,23,24,25,26,27,28,29,30,31,32,33,34,35,36,37,38,39,40,41,42,43,44,45,46,47,48,49],\"y\":[53.17938569241662,39.57972956775678,18.975173657166728,73.08869562573166,77.09724542729093,48.020516029496825,73.5713178042738,101.46080776733525,89.39917847150963,84.89082479213856,95.67574758522034,92.36418988774439,71.73943619117752,81.79292866370315,43.94821411432994,23.130904772327874,40.45494571776106,93.98941524270059,37.037345503877,95.15791205467882,84.46792837149933,79.63663026155093,29.497916879710374,122.18368333831862,41.24861103798443,109.16578897277668,31.189662680220863,96.87075410856941,58.033471199900816,80.64486937495528,65.4487648945807,86.57613133909234,38.71708949803059,55.333295900712,41.10831082054192,36.63292726370753,108.18337968545684,69.14540553653589,121.3541912156048,40.033024819256,135.3145845755153,120.3674979534767,108.43799708969811,66.09189148107015,143.51409025697615,81.72726323658301,127.42873608331713,127.49318684568239,103.301791146978]},{\"name\":\"density\",\"type\":\"histogram2dcontour\",\"ncontours\":20,\"reversescale\":false,\"showscale\":true,\"x\":[1,2,3,4,5,6,7,8,9,10,11,12,13,14,15,16,17,18,19,20,21,22,23,24,25,26,27,28,29,30,31,32,33,34,35,36,37,38,39,40,41,42,43,44,45,46,47,48,49],\"y\":[53.17938569241662,39.57972956775678,18.975173657166728,73.08869562573166,77.09724542729093,48.020516029496825,73.5713178042738,101.46080776733525,89.39917847150963,84.89082479213856,95.67574758522034,92.36418988774439,71.73943619117752,81.79292866370315,43.94821411432994,23.130904772327874,40.45494571776106,93.98941524270059,37.037345503877,95.15791205467882,84.46792837149933,79.63663026155093,29.497916879710374,122.18368333831862,41.24861103798443,109.16578897277668,31.189662680220863,96.87075410856941,58.033471199900816,80.64486937495528,65.4487648945807,86.57613133909234,38.71708949803059,55.333295900712,41.10831082054192,36.63292726370753,108.18337968545684,69.14540553653589,121.3541912156048,40.033024819256,135.3145845755153,120.3674979534767,108.43799708969811,66.09189148107015,143.51409025697615,81.72726323658301,127.42873608331713,127.49318684568239,103.301791146978]},{\"name\":\"histogram\",\"type\":\"histogram\",\"yaxis\":\"y2\",\"x\":[1,2,3,4,5,6,7,8,9,10,11,12,13,14,15,16,17,18,19,20,21,22,23,24,25,26,27,28,29,30,31,32,33,34,35,36,37,38,39,40,41,42,43,44,45,46,47,48,49]},{\"name\":\"y density\",\"type\":\"histogram\",\"xaxis\":\"x2\",\"marker\":{\"color\":\"rgb(102.0, 0.0, 0.0)\"},\"y\":[53.17938569241662,39.57972956775678,18.975173657166728,73.08869562573166,77.09724542729093,48.020516029496825,73.5713178042738,101.46080776733525,89.39917847150963,84.89082479213856,95.67574758522034,92.36418988774439,71.73943619117752,81.79292866370315,43.94821411432994,23.130904772327874,40.45494571776106,93.98941524270059,37.037345503877,95.15791205467882,84.46792837149933,79.63663026155093,29.497916879710374,122.18368333831862,41.24861103798443,109.16578897277668,31.189662680220863,96.87075410856941,58.033471199900816,80.64486937495528,65.4487648945807,86.57613133909234,38.71708949803059,55.333295900712,41.10831082054192,36.63292726370753,108.18337968545684,69.14540553653589,121.3541912156048,40.033024819256,135.3145845755153,120.3674979534767,108.43799708969811,66.09189148107015,143.51409025697615,81.72726323658301,127.42873608331713,127.49318684568239,103.301791146978]}];\n",
       " var layout_2RjM76yKdG = {\"height\":550,\"width\":600,\"hovermode\":\"closest\",\"title\":{\"text\":\"XY.Histogram2dContour.WithDensity\"},\"showlegend\":false,\"autosize\":false,\"xaxis\":{\"showgrid\":false,\"zeroline\":false,\"showline\":false,\"domain\":[0,0.85]},\"yaxis\":{\"showgrid\":false,\"zeroline\":false,\"showline\":false,\"domain\":[0,0.85]},\"xaxis2\":{\"showgrid\":false,\"zeroline\":false,\"showline\":false,\"domain\":[0.85,1]},\"yaxis2\":{\"showgrid\":false,\"zeroline\":false,\"showline\":false,\"domain\":[0.85,1]}};\n",
       " var config_2RjM76yKdG = {\"responsive\":true,\"scrollZoom\":true,\"displaylogo\":false};\n",
       " Plotly.newPlot(\"graph_2RjM76yKdG\", traces_2RjM76yKdG, layout_2RjM76yKdG, config_2RjM76yKdG);\n",
       "</script> \n"
      ]
     },
     "metadata": {},
     "output_type": "display_data"
    }
   ],
   "source": [
    "val ax1 = Axis(X, showgrid = false) setDomain(0.0, 0.85)\n",
    "val ax2 = Axis(Y, showgrid = false) setDomain(0.0, 0.85)\n",
    "val ax3 = Axis(X, position = 2, showgrid = false) setDomain(0.85, 1.0)\n",
    "val ax4 = Axis(Y, position = 2, showgrid = false) setDomain(0.85, 1.0)\n",
    "\n",
    "val marker = Marker() setColor RGB(102,0,0)\n",
    "val series1 = XY(x, y) asType SCATTER drawStyle MARKERS setName \"points\" setMarker marker\n",
    "\n",
    "val series2 = (\n",
    "  XY(x, y)\n",
    "    setName \"density\"\n",
    "    asType HISTOGRAM2DCONTOUR\n",
    "    setHist2dOptions(ncontours = 20, reversescale = false, showscale = true)\n",
    "  )\n",
    "\n",
    "val series3 = XY(x = x) asType HISTOGRAM setName \"histogram\" setAxes(ax1, ax4)\n",
    "val series4 = (XY(y) setName \"y density\" asType HISTOGRAM setAxis ax3 setMarker marker\n",
    "  setHistOptions (orientation = HORIZONTAL))\n",
    "\n",
    "val layout = (ChartLayout(\"XY.Histogram2dContour.WithDensity\", auto_size = false) setAxes(ax1, ax2, ax3, ax4))\n",
    "\n",
    "val chart = Chart() addSeries(series1, series2, series3, series4) setChartLayout layout showLegend false\n",
    "\n",
    "chart.plotInline"
   ]
  },
  {
   "cell_type": "markdown",
   "metadata": {},
   "source": [
    "### 3D Charts\n",
    "\n",
    "3D charts are constructed using a `XYZ` series as they take in 3 `Series`' to create a single point.\n",
    "\n",
    "The Picta API does not accept nested lists, however the underlying Plotlyjs render does. In order to render any series that will make use of a nested list, we must flatten and provide the length of an element (before the list was flattened).\n",
    "\n",
    "The following examples will make it clearer.\n",
    "\n",
    "#### Contour"
   ]
  },
  {
   "cell_type": "code",
   "execution_count": 36,
   "metadata": {},
   "outputs": [],
   "source": [
    "// lets create some dummy adata for the third dimension\n",
    "val x = List(-9, -6, -5 , -3, -1)\n",
    "val y = List(0, 1, 4, 5, 7)\n",
    "val z = List(\n",
    "    List(10, 10.625, 12.5, 15.625, 20),\n",
    "    List(5.625, 6.25, 8.125, 11.25, 15.625),\n",
    "    List(2.5, 3.125, 5.0, 8.125, 12.5),\n",
    "    List(0.625, 1.25, 3.125, 6.25, 10.625),\n",
    "    List(0, 0.625, 2.5, 5.625, 10)\n",
    ")"
   ]
  },
  {
   "cell_type": "code",
   "execution_count": 37,
   "metadata": {},
   "outputs": [
    {
     "data": {
      "text/html": [
       "<div id=\"grid-container_OHKTfk8u1h\" class=\"grid-container\" align=\"center\"> \n",
       "<div id=\"grid_OHKTfk8u1h\" class=\"grid\" align=\"center\"> \n",
       "<div id=\"graph_CmGTri5W9T\" class=\"graph\"></div> \n",
       "</div> \n",
       "</div> \n",
       "<script>\n",
       "var masonry = new Macy({\n",
       "    container: '#grid_OHKTfk8u1h',\n",
       "    debug: true,\n",
       "    mobileFirst: true,\n",
       "    columns: 1,\n",
       "    margin: {\n",
       "        x: 0,\n",
       "        y: 0\n",
       "    }\n",
       "  });\n",
       "\n",
       "  var traces_CmGTri5W9T = [{\"name\":\"3E4fDOtoII\",\"type\":\"contour\",\"x\":[-9,-6,-5,-3,-1],\"y\":[0,1,4,5,7],\"z\":[[10,10.625,12.5,15.625,20],[5.625,6.25,8.125,11.25,15.625],[2.5,3.125,5,8.125,12.5],[0.625,1.25,3.125,6.25,10.625],[0,0.625,2.5,5.625,10]]}];\n",
       " var layout_CmGTri5W9T = {\"height\":550,\"width\":600,\"hovermode\":\"closest\",\"title\":{\"text\":\"Contour\"},\"showlegend\":true};\n",
       " var config_CmGTri5W9T = {\"responsive\":true,\"scrollZoom\":true,\"displaylogo\":false};\n",
       " Plotly.newPlot(\"graph_CmGTri5W9T\", traces_CmGTri5W9T, layout_CmGTri5W9T, config_CmGTri5W9T);\n",
       "</script> \n"
      ]
     },
     "metadata": {},
     "output_type": "display_data"
    }
   ],
   "source": [
    "// we flatten the nested list as we pass it into the Series constructor\n",
    "val series = XYZ(x=x, y=y, z=z.flatten, n=z(0).length).asType(CONTOUR)\n",
    "\n",
    "// set up the chart\n",
    "val chart = Chart()\n",
    "            .addSeries(series)\n",
    "            .setTitle(\"Contour\")\n",
    "\n",
    "// plot the chart\n",
    "chart.plotInline"
   ]
  },
  {
   "cell_type": "markdown",
   "metadata": {},
   "source": [
    "#### Heatmap"
   ]
  },
  {
   "cell_type": "code",
   "execution_count": 38,
   "metadata": {
    "scrolled": false
   },
   "outputs": [],
   "source": [
    "// create a new nested list for the heatmap\n",
    "val z = List.range(1, 101).map(e => e + scala.util.Random.nextDouble()*100).grouped(10).toList"
   ]
  },
  {
   "cell_type": "code",
   "execution_count": 39,
   "metadata": {},
   "outputs": [
    {
     "data": {
      "text/html": [
       "<div id=\"grid-container_6sGGAF5EHr\" class=\"grid-container\" align=\"center\"> \n",
       "<div id=\"grid_6sGGAF5EHr\" class=\"grid\" align=\"center\"> \n",
       "<div id=\"graph_pAnAkCqIEp\" class=\"graph\"></div> \n",
       "</div> \n",
       "</div> \n",
       "<script>\n",
       "var masonry = new Macy({\n",
       "    container: '#grid_6sGGAF5EHr',\n",
       "    debug: true,\n",
       "    mobileFirst: true,\n",
       "    columns: 1,\n",
       "    margin: {\n",
       "        x: 0,\n",
       "        y: 0\n",
       "    }\n",
       "  });\n",
       "\n",
       "  var traces_pAnAkCqIEp = [{\"name\":\"wgDsoGgR1V\",\"type\":\"heatmap\",\"z\":[[43.21585746663099,89.20090841903148,14.691836313292503,26.832308568007587,6.468535515803005,89.71511125611971,96.59356626999035,81.24315028531284,91.40134097008529,31.853413110541197],[95.80404036286478,73.47302577516095,61.94036382330659,71.8288436485241,51.07377611307246,53.065681133613026,87.39153695568777,80.28462732423438,58.20145799130413,64.45238311013641],[72.27171722757257,60.86877658598213,40.088759980141646,61.79770799672841,89.06114674890053,54.31446379689253,89.6765668834168,52.80963472266016,100.89209484760617,122.38957374193798],[64.23249156189263,93.66060531646957,94.87981929802578,93.67646799348941,57.21335525608777,121.32625209498775,133.6184514185782,118.86572485864856,124.80539805958689,101.93376355357299],[72.30580552101603,127.09519783359823,98.24869968387108,94.12193633856113,82.0274701838544,96.83839986163008,70.18132918406673,74.95014137579392,65.92203425399765,54.943959801571495],[103.49259965456918,52.55361538994288,54.26560056708643,95.65043122019878,74.55369016062096,94.52759719217033,116.95525490061318,67.74847170782971,129.19786301056223,133.93302515123202],[137.4374604611916,112.53507174868702,99.45133978724989,75.85164620358469,150.81885500091374,147.80209128646618,101.76987554719545,116.57854551826767,160.7132316557858,83.82412326138035],[113.41490265012168,104.82526865065284,114.3199881331521,126.15826210783295,102.60709884287543,119.71686873514149,133.29566537623253,167.04108551093128,170.22408685801315,113.90135060901522],[169.17162856284637,92.26576607242424,146.0628871238743,171.75015388198935,176.38735700325248,133.64492156835328,171.0666765160948,162.4134597540402,173.45019624810362,178.51242725920065],[188.41928288471172,125.40429187324128,93.29886000759869,107.19011217115082,161.0397761447499,112.42049795693742,107.63933955830895,166.9428958827475,130.76339175286864,123.27388336429433]]}];\n",
       " var layout_pAnAkCqIEp = {\"height\":550,\"width\":600,\"hovermode\":\"closest\",\"title\":{\"text\":\"Heatmap\"},\"showlegend\":true};\n",
       " var config_pAnAkCqIEp = {\"responsive\":true,\"scrollZoom\":true,\"displaylogo\":false};\n",
       " Plotly.newPlot(\"graph_pAnAkCqIEp\", traces_pAnAkCqIEp, layout_pAnAkCqIEp, config_pAnAkCqIEp);\n",
       "</script> \n"
      ]
     },
     "metadata": {},
     "output_type": "display_data"
    }
   ],
   "source": [
    "// we get the length of an element of the nested list\n",
    "val n = z(0).length\n",
    "\n",
    "// we now flatten the list and pass it into Series constructor, as well as 'n', the length of an element so that the \n",
    "// heatmap dimensions are correctly constructed\n",
    "val series = XYZ(z=z.flatten, n=n) asType HEATMAP\n",
    "\n",
    "val chart = Chart().addSeries(series).setTitle(\"Heatmap\")\n",
    "\n",
    "chart.plotInline"
   ]
  },
  {
   "cell_type": "markdown",
   "metadata": {},
   "source": [
    "#### Scatter3D"
   ]
  },
  {
   "cell_type": "code",
   "execution_count": 40,
   "metadata": {
    "scrolled": false
   },
   "outputs": [
    {
     "data": {
      "text/html": [
       "<div id=\"grid-container_QROugfkpIm\" class=\"grid-container\" align=\"center\"> \n",
       "<div id=\"grid_QROugfkpIm\" class=\"grid\" align=\"center\"> \n",
       "<div id=\"graph_FtMPaRGqxd\" class=\"graph\"></div> \n",
       "</div> \n",
       "</div> \n",
       "<script>\n",
       "var masonry = new Macy({\n",
       "    container: '#grid_QROugfkpIm',\n",
       "    debug: true,\n",
       "    mobileFirst: true,\n",
       "    columns: 1,\n",
       "    margin: {\n",
       "        x: 0,\n",
       "        y: 0\n",
       "    }\n",
       "  });\n",
       "\n",
       "  var traces_FtMPaRGqxd = [{\"name\":\"nFT1AhSHSB\",\"type\":\"scatter3d\",\"mode\":\"markers\",\"x\":[1,2,3,4,5,6,7,8,9,10,11,12,13,14,15,16,17,18,19,20,21,22,23,24,25,26,27,28,29,30,31,32,33,34,35,36,37,38,39,40,41,42,43,44,45,46,47,48,49,50,51,52,53,54,55,56,57,58,59,60,61,62,63,64,65,66,67,68,69,70,71,72,73,74,75,76,77,78,79,80,81,82,83,84,85,86,87,88,89,90,91,92,93,94,95,96,97,98,99],\"y\":[1,2,3,4,5,6,7,8,9,10,11,12,13,14,15,16,17,18,19,20,21,22,23,24,25,26,27,28,29,30,31,32,33,34,35,36,37,38,39,40,41,42,43,44,45,46,47,48,49,50,51,52,53,54,55,56,57,58,59,60,61,62,63,64,65,66,67,68,69,70,71,72,73,74,75,76,77,78,79,80,81,82,83,84,85,86,87,88,89,90,91,92,93,94,95,96,97,98,99],\"z\":[89.01979768054721,85.86217544804862,56.308351295197376,37.99478189682918,32.07716904537422,85.70577187761728,79.923268933772,8.193169249026193,18.364432258793485,47.756582852991436,47.222020055386494,98.70069203447916,40.04392232109115,102.57596164553016,109.61226268922832,73.68293569401835,60.33136179611008,69.83443460987786,37.208592933560475,42.520016913381,116.32176283760907,58.1035146844957,82.77186496753455,26.823334339145934,37.37177095925593,122.53563586659382,117.50528597249688,125.78386093145134,117.05417244907403,92.39817427481854,127.94374761650543,94.9917600830587,86.17300441344355,125.05636827522643,99.2079982644024,87.55848292512636,121.92527772149163,90.75392427348629,74.05541995357851,93.18895836731281,94.01808090378287,43.41895029972867,69.44433503124785,50.792837099258584,92.39739736003617,86.72678716687449,52.73889192971764,103.29020909870462,103.21769071654472,101.7802233221174,128.21681389317024,109.45857402234931,99.77891966370382,63.021453242069676,61.20232414837135,126.98428252284924,93.38034867426975,132.36908359373285,71.93186733998502,133.3230767507645,145.3881249781292,88.07737228547477,64.17027421550272,156.54072367246496,76.28629770523982,114.4437953517778,114.63024734279902,146.99618947449758,120.07857743061182,151.24494406023666,138.40818056167515,132.5461743781971,163.13079863349327,77.6596924816775,162.93447864837995,164.8912547263198,175.39172103473936,84.44240246331549,88.34669246715312,82.75028126980365,88.90242879704871,170.2379301225107,85.72897935926011,88.7410710983401,103.60228731231894,183.1840542006517,186.32148370571156,161.16186522792376,103.66201545476427,117.3258496376275,144.5884752256621,99.30941507496364,148.9221621859901,164.87047060654027,115.94416226340317,131.53595659360565,165.4878392554841,119.93965783578096,175.9703120961217]}];\n",
       " var layout_FtMPaRGqxd = {\"height\":550,\"width\":600,\"hovermode\":\"closest\",\"title\":{\"text\":\"XYZ.Scatter3D\"},\"showlegend\":true};\n",
       " var config_FtMPaRGqxd = {\"responsive\":false,\"scrollZoom\":false,\"displaylogo\":false};\n",
       " Plotly.newPlot(\"graph_FtMPaRGqxd\", traces_FtMPaRGqxd, layout_FtMPaRGqxd, config_FtMPaRGqxd);\n",
       "</script> \n"
      ]
     },
     "metadata": {},
     "output_type": "display_data"
    }
   ],
   "source": [
    "val x = List.range(1, 100)\n",
    "val y = List.range(1, 100)\n",
    "val z = List.range(1, 100).map(e => e + scala.util.Random.nextDouble()*100)\n",
    "\n",
    "val series = XYZ(x, y, z).asType(SCATTER3D).drawStyle(MARKERS)\n",
    "val chart1 = Chart() addSeries series setTitle \"XYZ.Scatter3D\" setConfig(false, false)\n",
    "val canvas = Canvas() addCharts chart1\n",
    "canvas.plotInline"
   ]
  },
  {
   "cell_type": "markdown",
   "metadata": {},
   "source": [
    "#### Surface Plot"
   ]
  },
  {
   "cell_type": "code",
   "execution_count": 41,
   "metadata": {
    "scrolled": false
   },
   "outputs": [
    {
     "data": {
      "text/html": [
       "<div id=\"grid-container_LZszvsGvjb\" class=\"grid-container\" align=\"center\"> \n",
       "<div id=\"grid_LZszvsGvjb\" class=\"grid\" align=\"center\"> \n",
       "<div id=\"graph_aXbL4bugsJ\" class=\"graph\"></div> \n",
       "</div> \n",
       "</div> \n",
       "<script>\n",
       "var masonry = new Macy({\n",
       "    container: '#grid_LZszvsGvjb',\n",
       "    debug: true,\n",
       "    mobileFirst: true,\n",
       "    columns: 1,\n",
       "    margin: {\n",
       "        x: 0,\n",
       "        y: 0\n",
       "    }\n",
       "  });\n",
       "\n",
       "  var traces_aXbL4bugsJ = [{\"name\":\"NR4oMpFi20\",\"type\":\"surface\",\"colorbar\":{\"title\":{\"text\":\"Altitude\",\"side\":\"right\"}},\"z\":[[8.83,8.89,8.81,8.87,8.9,8.87],[8.89,8.94,8.85,8.94,8.96,8.92],[8.84,8.9,8.82,8.92,8.93,8.91],[8.79,8.85,8.79,8.9,8.94,8.92],[8.79,8.88,8.81,8.9,8.95,8.92],[8.8,8.82,8.78,8.91,8.94,8.92],[8.75,8.78,8.77,8.91,8.95,8.92],[8.8,8.8,8.77,8.91,8.95,8.94],[8.74,8.81,8.76,8.93,8.98,8.99],[8.89,8.99,8.92,9.1,9.13,9.11],[8.97,8.97,8.91,9.09,9.11,9.11],[9.04,9.08,9.05,9.25,9.28,9.27],[9,9.01,9,9.2,9.23,9.2],[8.99,8.99,8.98,9.18,9.2,9.19],[8.93,8.97,8.97,9.18,9.2,9.18]]}];\n",
       " var layout_aXbL4bugsJ = {\"height\":550,\"width\":600,\"hovermode\":\"closest\",\"title\":{\"text\":\"Surface\"},\"showlegend\":true};\n",
       " var config_aXbL4bugsJ = {\"responsive\":true,\"scrollZoom\":true,\"displaylogo\":false};\n",
       " Plotly.newPlot(\"graph_aXbL4bugsJ\", traces_aXbL4bugsJ, layout_aXbL4bugsJ, config_aXbL4bugsJ);\n",
       "</script> \n"
      ]
     },
     "metadata": {},
     "output_type": "display_data"
    }
   ],
   "source": [
    "// 3d surface plot\n",
    "val k = List(\n",
    "    List(8.83,8.89,8.81,8.87,8.9,8.87),\n",
    "    List(8.89,8.94,8.85,8.94,8.96,8.92),\n",
    "    List(8.84,8.9,8.82,8.92,8.93,8.91),\n",
    "    List(8.79,8.85,8.79,8.9,8.94,8.92),\n",
    "    List(8.79,8.88,8.81,8.9,8.95,8.92),\n",
    "    List(8.8,8.82,8.78,8.91,8.94,8.92),\n",
    "    List(8.75,8.78,8.77,8.91,8.95,8.92),\n",
    "    List(8.8,8.8,8.77,8.91,8.95,8.94),\n",
    "    List(8.74,8.81,8.76,8.93,8.98,8.99),\n",
    "    List(8.89,8.99,8.92,9.1,9.13,9.11),\n",
    "    List(8.97,8.97,8.91,9.09,9.11,9.11),\n",
    "    List(9.04,9.08,9.05,9.25,9.28,9.27),\n",
    "    List(9,9.01,9,9.2,9.23,9.2),\n",
    "    List(8.99,8.99,8.98,9.18,9.2,9.19),\n",
    "    List(8.93,8.97,8.97,9.18,9.2,9.18)\n",
    "  )\n",
    "\n",
    "val series = XYZ(z=k.flatten, n = k(0).length) asType SURFACE setColorBar(\"Altitude\", RIGHT_SIDE)\n",
    "val chart2 = Chart() addSeries series setTitle \"Surface\"\n",
    "\n",
    "chart2.plotInline"
   ]
  },
  {
   "cell_type": "markdown",
   "metadata": {},
   "source": [
    "#### Third Dimension as Color"
   ]
  },
  {
   "cell_type": "code",
   "execution_count": 42,
   "metadata": {},
   "outputs": [
    {
     "data": {
      "text/html": [
       "<div id=\"grid-container_SorLX1wO8R\" class=\"grid-container\" align=\"center\"> \n",
       "<div id=\"grid_SorLX1wO8R\" class=\"grid\" align=\"center\"> \n",
       "<div id=\"graph_sOWF4fsisZ\" class=\"graph\"></div> \n",
       "</div> \n",
       "</div> \n",
       "<script>\n",
       "var masonry = new Macy({\n",
       "    container: '#grid_SorLX1wO8R',\n",
       "    debug: true,\n",
       "    mobileFirst: true,\n",
       "    columns: 1,\n",
       "    margin: {\n",
       "        x: 0,\n",
       "        y: 0\n",
       "    }\n",
       "  });\n",
       "\n",
       "  var traces_sOWF4fsisZ = [{\"name\":\"UxAD6qMSA5\",\"type\":\"scatter\",\"mode\":\"markers\",\"marker\":{\"color\":[89.01979768054721,85.86217544804862,56.308351295197376,37.99478189682918,32.07716904537422,85.70577187761728,79.923268933772,8.193169249026193,18.364432258793485,47.756582852991436,47.222020055386494,98.70069203447916,40.04392232109115,102.57596164553016,109.61226268922832,73.68293569401835,60.33136179611008,69.83443460987786,37.208592933560475,42.520016913381,116.32176283760907,58.1035146844957,82.77186496753455,26.823334339145934,37.37177095925593,122.53563586659382,117.50528597249688,125.78386093145134,117.05417244907403,92.39817427481854,127.94374761650543,94.9917600830587,86.17300441344355,125.05636827522643,99.2079982644024,87.55848292512636,121.92527772149163,90.75392427348629,74.05541995357851,93.18895836731281,94.01808090378287,43.41895029972867,69.44433503124785,50.792837099258584,92.39739736003617,86.72678716687449,52.73889192971764,103.29020909870462,103.21769071654472,101.7802233221174,128.21681389317024,109.45857402234931,99.77891966370382,63.021453242069676,61.20232414837135,126.98428252284924,93.38034867426975,132.36908359373285,71.93186733998502,133.3230767507645,145.3881249781292,88.07737228547477,64.17027421550272,156.54072367246496,76.28629770523982,114.4437953517778,114.63024734279902,146.99618947449758,120.07857743061182,151.24494406023666,138.40818056167515,132.5461743781971,163.13079863349327,77.6596924816775,162.93447864837995,164.8912547263198,175.39172103473936,84.44240246331549,88.34669246715312,82.75028126980365,88.90242879704871,170.2379301225107,85.72897935926011,88.7410710983401,103.60228731231894,183.1840542006517,186.32148370571156,161.16186522792376,103.66201545476427,117.3258496376275,144.5884752256621,99.30941507496364,148.9221621859901,164.87047060654027,115.94416226340317,131.53595659360565,165.4878392554841,119.93965783578096,175.9703120961217],\"colorbar\":{\"title\":{\"text\":\"3rd Dimension\",\"side\":\"right\"}}},\"x\":[1,2,3,4,5,6,7,8,9,10,11,12,13,14,15,16,17,18,19,20,21,22,23,24,25,26,27,28,29,30,31,32,33,34,35,36,37,38,39,40,41,42,43,44,45,46,47,48,49,50,51,52,53,54,55,56,57,58,59,60,61,62,63,64,65,66,67,68,69,70,71,72,73,74,75,76,77,78,79,80,81,82,83,84,85,86,87,88,89,90,91,92,93,94,95,96,97,98,99],\"y\":[1,2,3,4,5,6,7,8,9,10,11,12,13,14,15,16,17,18,19,20,21,22,23,24,25,26,27,28,29,30,31,32,33,34,35,36,37,38,39,40,41,42,43,44,45,46,47,48,49,50,51,52,53,54,55,56,57,58,59,60,61,62,63,64,65,66,67,68,69,70,71,72,73,74,75,76,77,78,79,80,81,82,83,84,85,86,87,88,89,90,91,92,93,94,95,96,97,98,99]}];\n",
       " var layout_sOWF4fsisZ = {\"height\":550,\"width\":600,\"hovermode\":\"closest\",\"title\":{\"text\":\"Scatter With Color\"},\"showlegend\":false};\n",
       " var config_sOWF4fsisZ = {\"responsive\":true,\"scrollZoom\":true,\"displaylogo\":false};\n",
       " Plotly.newPlot(\"graph_sOWF4fsisZ\", traces_sOWF4fsisZ, layout_sOWF4fsisZ, config_sOWF4fsisZ);\n",
       "</script> \n"
      ]
     },
     "metadata": {},
     "output_type": "display_data"
    }
   ],
   "source": [
    "// multiple compositions can be used to create scatter charts with a color representing some third dimension\n",
    "val series = (\n",
    "    XY(x, y) \n",
    "    asType SCATTER \n",
    "    drawStyle MARKERS \n",
    "    setMarker marker \n",
    "    setColor z \n",
    "    setColorBar(\"3rd Dimension\", RIGHT_SIDE)\n",
    ")\n",
    "\n",
    "val chart3 = Chart() addSeries series setTitle \"Scatter With Color\" showLegend false\n",
    "chart3.plotInline"
   ]
  },
  {
   "cell_type": "markdown",
   "metadata": {},
   "source": [
    "#### Subplot\n",
    "\n",
    "The Subplot class can be used to generate subplots for an XYZ plots just as we did previously."
   ]
  },
  {
   "cell_type": "code",
   "execution_count": 43,
   "metadata": {},
   "outputs": [
    {
     "data": {
      "text/html": [
       "<div id=\"grid-container_2Plx9uMMUt\" class=\"grid-container\" align=\"center\"> \n",
       "<div id=\"grid_2Plx9uMMUt\" class=\"grid\" align=\"center\"> \n",
       "<div id=\"graph_e1isJczlnI\" class=\"graph\"></div> \n",
       "<div id=\"graph_2aNqSKoeeS\" class=\"graph\"></div> \n",
       "<div id=\"graph_TFuOuGeO45\" class=\"graph\"></div> \n",
       "<div id=\"graph_Uvh5oUAmCj\" class=\"graph\"></div> \n",
       "</div> \n",
       "</div> \n",
       "\n",
       "<div align=\"center\">\n",
       "<button id = \"saveAsPNG_2Plx9uMMUt\" class=\"picta-button\">Download Canvas as PNG</button>\n",
       "</div>\n",
       "<script>\n",
       "var masonry = new Macy({\n",
       "    container: '#grid_2Plx9uMMUt',\n",
       "    debug: true,\n",
       "    mobileFirst: true,\n",
       "    columns: 2,\n",
       "    margin: {\n",
       "        x: 0,\n",
       "        y: 0\n",
       "    }\n",
       "  });\n",
       "\n",
       "  var traces_e1isJczlnI = [{\"name\":\"nFT1AhSHSB\",\"type\":\"scatter3d\",\"mode\":\"markers\",\"x\":[1,2,3,4,5,6,7,8,9,10,11,12,13,14,15,16,17,18,19,20,21,22,23,24,25,26,27,28,29,30,31,32,33,34,35,36,37,38,39,40,41,42,43,44,45,46,47,48,49,50,51,52,53,54,55,56,57,58,59,60,61,62,63,64,65,66,67,68,69,70,71,72,73,74,75,76,77,78,79,80,81,82,83,84,85,86,87,88,89,90,91,92,93,94,95,96,97,98,99],\"y\":[1,2,3,4,5,6,7,8,9,10,11,12,13,14,15,16,17,18,19,20,21,22,23,24,25,26,27,28,29,30,31,32,33,34,35,36,37,38,39,40,41,42,43,44,45,46,47,48,49,50,51,52,53,54,55,56,57,58,59,60,61,62,63,64,65,66,67,68,69,70,71,72,73,74,75,76,77,78,79,80,81,82,83,84,85,86,87,88,89,90,91,92,93,94,95,96,97,98,99],\"z\":[89.01979768054721,85.86217544804862,56.308351295197376,37.99478189682918,32.07716904537422,85.70577187761728,79.923268933772,8.193169249026193,18.364432258793485,47.756582852991436,47.222020055386494,98.70069203447916,40.04392232109115,102.57596164553016,109.61226268922832,73.68293569401835,60.33136179611008,69.83443460987786,37.208592933560475,42.520016913381,116.32176283760907,58.1035146844957,82.77186496753455,26.823334339145934,37.37177095925593,122.53563586659382,117.50528597249688,125.78386093145134,117.05417244907403,92.39817427481854,127.94374761650543,94.9917600830587,86.17300441344355,125.05636827522643,99.2079982644024,87.55848292512636,121.92527772149163,90.75392427348629,74.05541995357851,93.18895836731281,94.01808090378287,43.41895029972867,69.44433503124785,50.792837099258584,92.39739736003617,86.72678716687449,52.73889192971764,103.29020909870462,103.21769071654472,101.7802233221174,128.21681389317024,109.45857402234931,99.77891966370382,63.021453242069676,61.20232414837135,126.98428252284924,93.38034867426975,132.36908359373285,71.93186733998502,133.3230767507645,145.3881249781292,88.07737228547477,64.17027421550272,156.54072367246496,76.28629770523982,114.4437953517778,114.63024734279902,146.99618947449758,120.07857743061182,151.24494406023666,138.40818056167515,132.5461743781971,163.13079863349327,77.6596924816775,162.93447864837995,164.8912547263198,175.39172103473936,84.44240246331549,88.34669246715312,82.75028126980365,88.90242879704871,170.2379301225107,85.72897935926011,88.7410710983401,103.60228731231894,183.1840542006517,186.32148370571156,161.16186522792376,103.66201545476427,117.3258496376275,144.5884752256621,99.30941507496364,148.9221621859901,164.87047060654027,115.94416226340317,131.53595659360565,165.4878392554841,119.93965783578096,175.9703120961217]}];\n",
       " var layout_e1isJczlnI = {\"height\":350,\"width\":350,\"hovermode\":\"closest\",\"title\":{\"text\":\"XYZ.Scatter3D\"},\"showlegend\":true,\"margin\":{\"l\":50,\"r\":50,\"t\":50,\"b\":50}};\n",
       " var config_e1isJczlnI = {\"responsive\":false,\"scrollZoom\":false,\"displaylogo\":false};\n",
       " Plotly.newPlot(\"graph_e1isJczlnI\", traces_e1isJczlnI, layout_e1isJczlnI, config_e1isJczlnI);\n",
       "\n",
       "  var traces_2aNqSKoeeS = [{\"name\":\"NR4oMpFi20\",\"type\":\"surface\",\"colorbar\":{\"title\":{\"text\":\"Altitude\",\"side\":\"right\"}},\"z\":[[8.83,8.89,8.81,8.87,8.9,8.87],[8.89,8.94,8.85,8.94,8.96,8.92],[8.84,8.9,8.82,8.92,8.93,8.91],[8.79,8.85,8.79,8.9,8.94,8.92],[8.79,8.88,8.81,8.9,8.95,8.92],[8.8,8.82,8.78,8.91,8.94,8.92],[8.75,8.78,8.77,8.91,8.95,8.92],[8.8,8.8,8.77,8.91,8.95,8.94],[8.74,8.81,8.76,8.93,8.98,8.99],[8.89,8.99,8.92,9.1,9.13,9.11],[8.97,8.97,8.91,9.09,9.11,9.11],[9.04,9.08,9.05,9.25,9.28,9.27],[9,9.01,9,9.2,9.23,9.2],[8.99,8.99,8.98,9.18,9.2,9.19],[8.93,8.97,8.97,9.18,9.2,9.18]]}];\n",
       " var layout_2aNqSKoeeS = {\"height\":350,\"width\":350,\"hovermode\":\"closest\",\"title\":{\"text\":\"Surface\"},\"showlegend\":true,\"margin\":{\"l\":50,\"r\":50,\"t\":50,\"b\":50}};\n",
       " var config_2aNqSKoeeS = {\"responsive\":true,\"scrollZoom\":true,\"displaylogo\":false};\n",
       " Plotly.newPlot(\"graph_2aNqSKoeeS\", traces_2aNqSKoeeS, layout_2aNqSKoeeS, config_2aNqSKoeeS);\n",
       "\n",
       "  var traces_TFuOuGeO45 = [{\"name\":\"UxAD6qMSA5\",\"type\":\"scatter\",\"mode\":\"markers\",\"marker\":{\"color\":[89.01979768054721,85.86217544804862,56.308351295197376,37.99478189682918,32.07716904537422,85.70577187761728,79.923268933772,8.193169249026193,18.364432258793485,47.756582852991436,47.222020055386494,98.70069203447916,40.04392232109115,102.57596164553016,109.61226268922832,73.68293569401835,60.33136179611008,69.83443460987786,37.208592933560475,42.520016913381,116.32176283760907,58.1035146844957,82.77186496753455,26.823334339145934,37.37177095925593,122.53563586659382,117.50528597249688,125.78386093145134,117.05417244907403,92.39817427481854,127.94374761650543,94.9917600830587,86.17300441344355,125.05636827522643,99.2079982644024,87.55848292512636,121.92527772149163,90.75392427348629,74.05541995357851,93.18895836731281,94.01808090378287,43.41895029972867,69.44433503124785,50.792837099258584,92.39739736003617,86.72678716687449,52.73889192971764,103.29020909870462,103.21769071654472,101.7802233221174,128.21681389317024,109.45857402234931,99.77891966370382,63.021453242069676,61.20232414837135,126.98428252284924,93.38034867426975,132.36908359373285,71.93186733998502,133.3230767507645,145.3881249781292,88.07737228547477,64.17027421550272,156.54072367246496,76.28629770523982,114.4437953517778,114.63024734279902,146.99618947449758,120.07857743061182,151.24494406023666,138.40818056167515,132.5461743781971,163.13079863349327,77.6596924816775,162.93447864837995,164.8912547263198,175.39172103473936,84.44240246331549,88.34669246715312,82.75028126980365,88.90242879704871,170.2379301225107,85.72897935926011,88.7410710983401,103.60228731231894,183.1840542006517,186.32148370571156,161.16186522792376,103.66201545476427,117.3258496376275,144.5884752256621,99.30941507496364,148.9221621859901,164.87047060654027,115.94416226340317,131.53595659360565,165.4878392554841,119.93965783578096,175.9703120961217],\"colorbar\":{\"title\":{\"text\":\"3rd Dimension\",\"side\":\"right\"}}},\"x\":[1,2,3,4,5,6,7,8,9,10,11,12,13,14,15,16,17,18,19,20,21,22,23,24,25,26,27,28,29,30,31,32,33,34,35,36,37,38,39,40,41,42,43,44,45,46,47,48,49,50,51,52,53,54,55,56,57,58,59,60,61,62,63,64,65,66,67,68,69,70,71,72,73,74,75,76,77,78,79,80,81,82,83,84,85,86,87,88,89,90,91,92,93,94,95,96,97,98,99],\"y\":[1,2,3,4,5,6,7,8,9,10,11,12,13,14,15,16,17,18,19,20,21,22,23,24,25,26,27,28,29,30,31,32,33,34,35,36,37,38,39,40,41,42,43,44,45,46,47,48,49,50,51,52,53,54,55,56,57,58,59,60,61,62,63,64,65,66,67,68,69,70,71,72,73,74,75,76,77,78,79,80,81,82,83,84,85,86,87,88,89,90,91,92,93,94,95,96,97,98,99]}];\n",
       " var layout_TFuOuGeO45 = {\"height\":350,\"width\":350,\"hovermode\":\"closest\",\"title\":{\"text\":\"Scatter With Color\"},\"showlegend\":false,\"margin\":{\"l\":50,\"r\":50,\"t\":50,\"b\":50}};\n",
       " var config_TFuOuGeO45 = {\"responsive\":true,\"scrollZoom\":true,\"displaylogo\":false};\n",
       " Plotly.newPlot(\"graph_TFuOuGeO45\", traces_TFuOuGeO45, layout_TFuOuGeO45, config_TFuOuGeO45);\n",
       "\n",
       "  var traces_Uvh5oUAmCj = [{\"name\":\"wgDsoGgR1V\",\"type\":\"heatmap\",\"z\":[[43.21585746663099,89.20090841903148,14.691836313292503,26.832308568007587,6.468535515803005,89.71511125611971,96.59356626999035,81.24315028531284,91.40134097008529,31.853413110541197],[95.80404036286478,73.47302577516095,61.94036382330659,71.8288436485241,51.07377611307246,53.065681133613026,87.39153695568777,80.28462732423438,58.20145799130413,64.45238311013641],[72.27171722757257,60.86877658598213,40.088759980141646,61.79770799672841,89.06114674890053,54.31446379689253,89.6765668834168,52.80963472266016,100.89209484760617,122.38957374193798],[64.23249156189263,93.66060531646957,94.87981929802578,93.67646799348941,57.21335525608777,121.32625209498775,133.6184514185782,118.86572485864856,124.80539805958689,101.93376355357299],[72.30580552101603,127.09519783359823,98.24869968387108,94.12193633856113,82.0274701838544,96.83839986163008,70.18132918406673,74.95014137579392,65.92203425399765,54.943959801571495],[103.49259965456918,52.55361538994288,54.26560056708643,95.65043122019878,74.55369016062096,94.52759719217033,116.95525490061318,67.74847170782971,129.19786301056223,133.93302515123202],[137.4374604611916,112.53507174868702,99.45133978724989,75.85164620358469,150.81885500091374,147.80209128646618,101.76987554719545,116.57854551826767,160.7132316557858,83.82412326138035],[113.41490265012168,104.82526865065284,114.3199881331521,126.15826210783295,102.60709884287543,119.71686873514149,133.29566537623253,167.04108551093128,170.22408685801315,113.90135060901522],[169.17162856284637,92.26576607242424,146.0628871238743,171.75015388198935,176.38735700325248,133.64492156835328,171.0666765160948,162.4134597540402,173.45019624810362,178.51242725920065],[188.41928288471172,125.40429187324128,93.29886000759869,107.19011217115082,161.0397761447499,112.42049795693742,107.63933955830895,166.9428958827475,130.76339175286864,123.27388336429433]]}];\n",
       " var layout_Uvh5oUAmCj = {\"height\":350,\"width\":350,\"hovermode\":\"closest\",\"title\":{\"text\":\"Heatmap\"},\"showlegend\":true,\"margin\":{\"l\":50,\"r\":50,\"t\":50,\"b\":50}};\n",
       " var config_Uvh5oUAmCj = {\"responsive\":true,\"scrollZoom\":true,\"displaylogo\":false};\n",
       " Plotly.newPlot(\"graph_Uvh5oUAmCj\", traces_Uvh5oUAmCj, layout_Uvh5oUAmCj, config_Uvh5oUAmCj);\n",
       "\n",
       "var save_2Plx9uMMUt = document.getElementById(\"saveAsPNG_2Plx9uMMUt\")\n",
       "save_2Plx9uMMUt.onclick = async function() {\n",
       "    const grid = document.getElementById(\"grid-container_2Plx9uMMUt\")\n",
       "    const graphs = grid.getElementsByClassName(\"graph\")\n",
       "\n",
       "    const images = []\n",
       "\n",
       "    const rows = 2\n",
       "    const cols = 2\n",
       "    const img_width = 400\n",
       "    const img_height = 400\n",
       "    var margin = 50\n",
       "\n",
       "    for (var i=0; i<rows; i++) {\n",
       "      for (var j=0; j<cols; j++) {\n",
       "        const image = await Plotly.toImage(graphs[i * cols + j], {format: 'png', width: img_width, height: img_height})\n",
       "        images.push(image);\n",
       "      }\n",
       "    }\n",
       "\n",
       "    const positioned_images = []\n",
       "\n",
       "        for (var i=0; i<rows; i++) {\n",
       "            for (var j=0; j<cols; j++) {\n",
       "\n",
       "                const obj = {\n",
       "                    \"src\": images[i*cols + j],\n",
       "                    x: j*img_width+margin,\n",
       "                    y: i*img_height+margin\n",
       "                }\n",
       "\n",
       "                positioned_images.push(obj)\n",
       "            }\n",
       "        }\n",
       "\n",
       "        mergeImages(positioned_images, {\n",
       "            width: img_width*cols+60, height: img_height*rows+60\n",
       "        })\n",
       "        .then(b64 => {\n",
       "            var a = document.createElement(\"a\");\n",
       "            a.href = b64;\n",
       "            a.download = \"Image.png\";\n",
       "            a.click();\n",
       "            a.remove()\n",
       "        });\n",
       "}\n",
       "</script> \n"
      ]
     },
     "metadata": {},
     "output_type": "display_data"
    }
   ],
   "source": [
    "// it may be necessary to play around with the chart dimensions and margin  in order to ensure a good fit on screen.\n",
    "val dim = 350\n",
    "\n",
    "// The canvas has an underlying grid. By default the underlying grid is 1x1, but we can pass in the dimensions we \n",
    "// require by passing in parameters in the constructor.\n",
    "Canvas(2, 2)\n",
    ".setChart(0, 0, chart1.setDimensions(width = dim, height = dim).setMargin(l=50, r=50, t=50, b=50))\n",
    ".setChart(0, 1, chart2.setDimensions(width = dim, height = dim)setMargin(l=50, r=50, t=50, b=50))\n",
    ".setChart(1, 0, chart3.setDimensions(width = dim, height = dim)setMargin(l=50, r=50, t=50, b=50))\n",
    ".setChart(1, 1, chart.setDimensions(width = dim, height = dim)setMargin(l=50, r=50, t=50, b=50))\n",
    ".plotInline"
   ]
  },
  {
   "cell_type": "markdown",
   "metadata": {},
   "source": [
    "#### Map\n",
    "\n",
    "We can also create maps using the composition technique below."
   ]
  },
  {
   "cell_type": "code",
   "execution_count": 44,
   "metadata": {},
   "outputs": [],
   "source": [
    "import org.carbonateresearch.picta.options.{Margin, Line}\n",
    "import org.carbonateresearch.picta.Map"
   ]
  },
  {
   "cell_type": "code",
   "execution_count": 45,
   "metadata": {},
   "outputs": [
    {
     "data": {
      "text/html": [
       "<div id=\"grid-container_XSbncbxGDX\" class=\"grid-container\" align=\"center\"> \n",
       "<div id=\"grid_XSbncbxGDX\" class=\"grid\" align=\"center\"> \n",
       "<div id=\"graph_7rGV1NTbuF\" class=\"graph\"></div> \n",
       "</div> \n",
       "</div> \n",
       "<script>\n",
       "var masonry = new Macy({\n",
       "    container: '#grid_XSbncbxGDX',\n",
       "    debug: true,\n",
       "    mobileFirst: true,\n",
       "    columns: 1,\n",
       "    margin: {\n",
       "        x: 0,\n",
       "        y: 0\n",
       "    }\n",
       "  });\n",
       "\n",
       "  var traces_7rGV1NTbuF = [{\"name\":\"0tBLPnxT13\",\"lat\":[40.7127,51.5072],\"lon\":[-74.0059,0.1275],\"type\":\"scattergeo\",\"mode\":\"lines\",\"line\":{\"width\":2,\"color\":\"red\"}}];\n",
       " var layout_7rGV1NTbuF = {\"height\":550,\"width\":600,\"hovermode\":\"closest\",\"showlegend\":true,\"geo\":{\"resolution\":50,\"showland\":true,\"showlakes\":true,\"coastlinewidth\":2,\"landcolor\":\"rgb(204, 204, 204)\",\"lakecolor\":\"rgb(255, 255, 255)\",\"lataxis\":{\"range\":[20,60],\"showgrid\":true,\"dtick\":10},\"lonaxis\":{\"range\":[-100,20],\"showgrid\":true,\"dtick\":10}},\"margin\":{\"l\":0,\"r\":0,\"t\":0,\"b\":0}};\n",
       " var config_7rGV1NTbuF = {\"responsive\":false,\"scrollZoom\":false,\"displaylogo\":false};\n",
       " Plotly.newPlot(\"graph_7rGV1NTbuF\", traces_7rGV1NTbuF, layout_7rGV1NTbuF, config_7rGV1NTbuF);\n",
       "</script> \n"
      ]
     },
     "metadata": {},
     "output_type": "display_data"
    }
   ],
   "source": [
    "// draw a line on the map that is red\n",
    "val line = Line(width = 2) setColor \"red\"\n",
    "\n",
    "// construct the map Series. It is an XY chart as it takes in a List of Longitude and Latitude\n",
    "val series = Map(List(40.7127, 51.5072), List(-74.0059, 0.1275)) drawSymbol LINES drawLine line\n",
    "\n",
    "// These are options that further specify the options for the map\n",
    "val geo = MapOptions(landcolor = \"rgb(204, 204, 204)\", lakecolor = \"rgb(255, 255, 255)\")\n",
    "              .setMapAxes(LatAxis(List(20, 60)), LongAxis(List(-100, 20)))\n",
    "\n",
    "val chart = (\n",
    "    Chart() \n",
    "    addSeries series \n",
    "    setConfig(false, false)\n",
    "    setMapOptions geo\n",
    "    setMargin(l=0, r=0, t=0, b=0)\n",
    ")\n",
    "\n",
    "chart.plotInline"
   ]
  },
  {
   "cell_type": "markdown",
   "metadata": {},
   "source": [
    "### Animated Charts\n",
    "\n",
    "We can also create animated charts. This can be useful for tracking the evolution of a data over time.\n",
    "\n",
    "All `Series` types should be supported.\n",
    "\n",
    "#### 2D Animated Chart"
   ]
  },
  {
   "cell_type": "code",
   "execution_count": 46,
   "metadata": {},
   "outputs": [],
   "source": [
    "import org.carbonateresearch.picta.ColorOptions._\n",
    "\n",
    "def genRangeRandomInt(min: Int = 0, max: Int = 10000) = min + (max - min) * scala.util.Random.nextInt()\n",
    "def genRangeRandomDouble(min: Double = 0.0, max: Double = 10000.0) = min + (max - min) * scala.util.Random.nextDouble()\n",
    "\n",
    "// creates random XY for testing purposes\n",
    "def createXYSeries[T: Color]\n",
    "(numberToCreate: Int, count: Int = 0, length: Int = 10): List[XY[Double, Double, T, T]] = {\n",
    "    if (count == numberToCreate) Nil\n",
    "    else {\n",
    "      val xs = List.range(0, length).map(x => genRangeRandomDouble())\n",
    "      val ys = xs.map(x => genRangeRandomDouble())\n",
    "      val series = XY(x = xs, y = ys, name = \"series \" + count).drawMarkers\n",
    "      series :: createXYSeries(numberToCreate, count + 1, length)\n",
    "    }\n",
    "}\n",
    "\n",
    "def createXYZSeries(numberToCreate: Int, count: Int = 0, length: Int = 10): List[XYZ[Double, Double, Double]] = {\n",
    "    if (count == numberToCreate) Nil\n",
    "    else {\n",
    "      val xs = List.range(0, length).map(x => genRangeRandomDouble())\n",
    "      val ys = xs.map(x => genRangeRandomDouble())\n",
    "      val zs = xs.map(x => genRangeRandomDouble())\n",
    "      val series = XYZ(x = xs, y = ys, z = zs, name = \"series \" + count, `type` = SCATTER3D).drawMarkers\n",
    "      series :: createXYZSeries(numberToCreate, count + 1, length)\n",
    "    }\n",
    "}"
   ]
  },
  {
   "cell_type": "code",
   "execution_count": 47,
   "metadata": {
    "scrolled": false
   },
   "outputs": [
    {
     "data": {
      "text/html": [
       "<div id=\"grid-container_UG8uZEYv3v\" class=\"grid-container\" align=\"center\"> \n",
       "<div id=\"grid_UG8uZEYv3v\" class=\"grid\" align=\"center\"> \n",
       "\n",
       "<div align=\"center\">\n",
       "  <div id=\"graph_7qevgPKBmh\" class=\"graph\"></div>\n",
       "  <div class=\"animationInterface\">\n",
       "    <button id=\"play_7qevgPKBmh\" class=\"picta-button\">&#9658</button>\n",
       "    <button id=\"pause_7qevgPKBmh\" class=\"picta-button\">&#9616;&#9616;</button>\n",
       "    <button id=\"prev_7qevgPKBmh\" class=\"picta-button\"><</button>\n",
       "    <button id=\"next_7qevgPKBmh\" class=\"picta-button\">></button>\n",
       "\n",
       "    <div id=\"sliderContainer_7qevgPKBmh\" class=\"progressBar\"></div>\n",
       "    <div id=\"counterContainer_7qevgPKBmh\" class=\"inline-div\">\n",
       "        <h3>Frame: </h3> <h3 id=\"value_7qevgPKBmh\">0</h3>\n",
       "    </div>\n",
       "   </div>\n",
       "</div> \n",
       "\n",
       "</div> \n",
       "</div> \n",
       "<script>\n",
       "var masonry = new Macy({\n",
       "    container: '#grid_UG8uZEYv3v',\n",
       "    debug: true,\n",
       "    mobileFirst: true,\n",
       "    columns: 1,\n",
       "    margin: {\n",
       "        x: 0,\n",
       "        y: 0\n",
       "    }\n",
       "  });\n",
       "\n",
       "var graph_7qevgPKBmh = document.getElementById('graph_7qevgPKBmh')\n",
       "\n",
       "var layout_7qevgPKBmh = {\"height\":550,\"width\":600,\"hovermode\":\"closest\",\"title\":{\"text\":\"Animation XY\"},\"showlegend\":true,\"xaxis\":{\"title\":{\"text\":\"X Variable\"},\"showgrid\":true,\"zeroline\":false,\"showline\":false,\"range\":[0,10000]},\"yaxis\":{\"title\":{\"text\":\"Y Variable\"},\"showgrid\":true,\"zeroline\":false,\"showline\":false,\"range\":[0,10000]}}\n",
       "var frames_7qevgPKBmh = [{\"name\":\"series 0 (F0)\",\"data\":[{\"name\":\"series 0 (F0)\",\"type\":\"scatter\",\"mode\":\"markers\",\"x\":[9987.937234660769,8760.36618581085,8963.64766734584,4327.600680761494,2116.5440979040773,8375.804829551524,4671.055442771705,8281.793858143366,5811.756947277808,5099.564588487099,1865.600353984428,1448.9542413062827,420.8387856683704,6632.096055519375,4954.674733129241,3441.608341561506,1375.2037379417613,7493.215040152019,606.0280190883449,6221.37428670373,6526.292625303034,1007.4042509173198,453.3154099166792,1259.6693289472628,1304.2428771212344,4035.0211771013223,1638.2643692795473,1286.5146099391623,1159.130818401678,9757.332581477625],\"y\":[802.5580410862798,5533.995022708809,7254.329453155458,7348.688566997077,2308.5473919173037,4812.566601170724,6703.789224209167,1207.0422391885115,9446.426598800359,5502.551855629977,1779.8192760151276,6564.40531368426,8176.508730059635,9599.797141487486,3465.207130568135,2761.7290096168913,6558.770601194486,1323.610680968349,3483.284630106547,248.08133615514038,9437.836625350785,9476.738862922575,5511.8094734686565,2451.8905448168007,7180.098739387042,8741.282652410604,671.3019611365168,9072.408791975604,9300.674196000215,2401.0889586080298]}]},{\"name\":\"series 1 (F1)\",\"data\":[{\"name\":\"series 1 (F1)\",\"type\":\"scatter\",\"mode\":\"markers\",\"x\":[4575.73838178178,3052.445415153756,8671.43106543939,3600.3007566588553,3243.269380588415,9518.80645076364,9667.314556248395,2179.3858772328645,2986.898878393779,1314.7689249300797,4086.730595736069,9374.104803035983,5039.82084930945,2399.3107115514968,1972.758195269413,3219.5207562432925,9117.381669059845,7350.704157438209,565.4743274376617,3370.295162331458,1377.3969354163073,2487.474654011389,3531.6918122256448,5230.148532104037,1312.8219642353988,1707.615096972197,4346.930706457688,9777.517008083347,8995.534761188257,8047.338487928581],\"y\":[2245.4520137677623,7281.061020983526,8787.26195906955,173.54066595343886,6507.7030230755,217.83908591932578,8143.440535927784,1549.534951570063,5020.538956654018,3138.5859396064066,458.07450120855964,8851.515556125361,6024.1000366894705,4968.686454472392,9032.408407044913,5363.589521559732,7750.237753846603,2290.069763793654,5197.514454006719,4542.1166174673,9260.901873990166,518.3915960231278,7380.642693351801,8715.479506449006,7210.915036439006,3571.5135353342844,9477.45804150735,7973.300758288096,7488.076020052636,1619.4275872151497]}]},{\"name\":\"series 2 (F2)\",\"data\":[{\"name\":\"series 2 (F2)\",\"type\":\"scatter\",\"mode\":\"markers\",\"x\":[6277.0543108753045,4699.515835401457,7724.549160324455,812.4172050289735,883.8922869487975,9916.594982794815,6527.013309272699,8503.382289071766,4090.5861454941337,8633.607516361055,7939.05928929095,2411.9011010089753,8477.718481942555,2728.7013158474383,5127.840598291485,2421.7401523868953,651.6346809354168,1546.9722025936117,5577.994898191038,9260.162866885425,3478.432766653936,2357.578805816853,1179.3765260602152,5176.531715305391,6432.128671407544,5089.356045720656,511.14653202931294,7919.33436101311,6247.243511301475,8352.06691987895],\"y\":[7353.290544962418,804.9123972767779,1950.826877491938,6650.825156548219,8997.644356504725,8477.799916161848,8046.190292938966,1914.110361993725,284.0288714306738,81.73625413301578,7130.3991563434565,5981.189840153046,4453.10287715914,8992.03933329245,8549.826765539585,4532.648957350004,9886.06955163189,1004.1844358291763,2832.8512111885593,7098.126236208657,2592.3757549660254,930.0584243407162,2586.029013596326,2238.2356882626887,7910.069173071103,922.5124469756596,9299.85706765353,1773.0554134266995,1299.4855775157732,2530.467870003259]}]},{\"name\":\"series 3 (F3)\",\"data\":[{\"name\":\"series 3 (F3)\",\"type\":\"scatter\",\"mode\":\"markers\",\"x\":[2082.4919107756145,3017.4440666115397,7339.463492193605,8480.976771264768,8724.561593568626,3383.84596470634,8076.286329649695,9491.274623038895,1695.47797956476,7426.129045395536,6729.084434329592,6033.006375530523,1681.4139260308102,2423.397097129064,421.4257323791593,4902.447442643263,9097.37896377012,4940.601238881459,6087.357598706272,5694.678685969104,9640.597773155432,7453.171616152934,6991.166311528985,2836.319821834944,3399.651704080223,1085.7809636007453,3403.6387760639477,4700.563838625232,8293.616846596276,7790.735425614618],\"y\":[9893.631098342896,2509.8921169281584,7687.695606602289,2879.3904540629524,3422.2572623854385,8226.000447456387,8916.60146677017,6720.367951004248,968.0334940423708,2433.0944273967702,4144.228600720584,2631.2493498295585,2764.8239547347875,339.86348833052296,7497.8961614875125,6515.808526777503,7400.454443861878,6457.076431047223,2737.7282056328277,2636.7353095893177,8002.369554022975,6251.888361833002,3856.493480361031,9064.197418222908,4527.732189498905,6136.581624985828,6952.496464558252,5803.472092164074,5778.873766423025,1518.613297860404]}]},{\"name\":\"series 4 (F4)\",\"data\":[{\"name\":\"series 4 (F4)\",\"type\":\"scatter\",\"mode\":\"markers\",\"x\":[5477.873473165065,8380.275699084867,6181.022157566307,6320.472400815427,2536.916632572185,9750.30688558046,6587.748965607098,6372.001706185276,3293.8141290235512,3799.907200314613,5420.593966618934,3384.4666082965114,7746.4571733111325,4417.641980851189,6302.840027091787,5834.808498614642,9132.733789220914,5141.983547399926,1013.4261650801013,8020.147789076899,6057.992217101931,5728.17966587494,2065.5044674164956,8786.751614397332,7067.126881706285,3627.775576151575,7505.160243716022,6994.314875625629,4831.996047415704,337.14595763918663],\"y\":[1629.3318427262805,1645.551805927441,3384.6594290091334,4846.794305065765,9237.978632803091,792.7275020049151,5899.176819392474,9011.052718687226,7764.069743233691,4826.9039280557545,2409.4821758638363,2558.221550390847,1165.96815313037,6562.3169684467575,6548.111771202929,8674.064595597618,1820.3157106600265,2647.4383922139045,7900.327117709009,4616.977012802075,1819.529086127938,8265.918335815793,1890.4450341739032,5661.029207850198,3056.536082137028,9834.743404737867,2251.947139004283,4813.478271028188,6270.398410315062,8463.592127303062]}]},{\"name\":\"series 5 (F5)\",\"data\":[{\"name\":\"series 5 (F5)\",\"type\":\"scatter\",\"mode\":\"markers\",\"x\":[2080.2111220079,5216.2354602049745,2829.9806989183994,308.4997215556173,8226.465958140661,6916.161926943889,9448.842675493095,8634.594168170303,363.84870679609935,4776.962057752521,5253.046809284164,6396.800848305556,441.19428809103357,9705.82628627975,2664.587050220236,7454.056750977258,437.46366433587644,1080.8783400473976,8416.663711690455,9151.713025753692,6339.480229140858,4290.855549319103,8683.043390067909,8938.446139116706,4087.9053259000007,3636.3600350238344,2782.25452228579,2928.1426396640054,8871.154794734566,7492.39267576186],\"y\":[3208.3969331559083,4873.854455189066,2594.220953938828,9594.783613727124,5843.839236771631,9890.071578971872,5609.132763668105,7588.5194825144345,3125.1175252041007,8441.193276721322,7866.0463438923625,7563.857897752263,4661.842697791487,2608.222593479501,1528.734602540529,1206.5095739638089,4349.454757080468,8452.348103349172,1795.497942122548,401.06263539356536,370.16917913472946,5413.218676696159,5176.291216316995,2652.212290965946,4642.481501472907,6111.356622124603,4799.12952304328,9526.246961449722,1258.1060803522969,7668.296960420216]}]},{\"name\":\"series 6 (F6)\",\"data\":[{\"name\":\"series 6 (F6)\",\"type\":\"scatter\",\"mode\":\"markers\",\"x\":[453.5913849574147,9465.636928890977,9236.248286402642,8714.675821026472,7026.51456862753,5792.460362414463,3528.617921529834,4625.6425622961015,8744.738486840484,491.7919091825662,9624.610235491848,7204.595885447286,8212.015083689112,4454.069881561166,1334.5970806231455,4030.4008612864104,8611.975398361874,5255.847931256438,8370.287895116246,6989.868535436988,4646.304174100377,4271.231491785794,194.6280672589551,9136.435206914222,2787.042605814376,5931.682992945115,5279.729266290716,3947.6078129827297,4244.200811663373,3289.7771938261344],\"y\":[389.83319101616456,1297.8883136984243,4684.63147366684,5692.875400587448,2797.328773483235,20.529561495122863,3185.3801639880385,6335.577944612078,9443.35917480543,7800.613378061622,9164.492266425856,9735.204519615098,970.5704136994009,5323.588128320608,104.5233520188038,1762.4473261261908,5284.066685403578,3097.534584743765,4768.765499213733,7759.722630019749,4837.657002014713,6174.077799049134,6307.467554871594,7492.6489652557675,4195.988962777401,4112.001475379127,7161.092414450659,9205.461735372566,9589.186423903386,959.2554827800049]}]},{\"name\":\"series 7 (F7)\",\"data\":[{\"name\":\"series 7 (F7)\",\"type\":\"scatter\",\"mode\":\"markers\",\"x\":[2989.9198030819207,8889.067176091754,155.116975399201,2773.199304961369,5994.071744164246,5020.834889983528,1355.4379281279594,8255.552976678962,8935.29679553641,3498.1058468124993,4655.077655717647,1447.6769531278787,9931.623547203357,2262.798798598591,3970.8322762649027,4113.437340646135,4668.252516566507,202.3772032761062,8623.266144759189,9431.055633575248,7052.822736025265,312.8347945307497,4567.1264729504755,7921.983016562151,1540.4587451915431,2822.2446518954634,528.9936081346125,1163.9801920544512,363.7640509085005,9998.815919198398],\"y\":[3346.906371381447,8767.2193638326,6725.1961351705495,705.2778321468634,7285.215948268501,9336.377800879522,644.0229589056046,9411.819369635432,5388.940187834877,6698.314339971796,7597.324310611299,1342.6874340475338,7045.402218411396,8544.0830836835,1354.2729687894239,2706.9474920923385,4836.9546551196545,5815.657178382091,1475.1878362320913,2551.798730516873,5497.108286769826,7661.894552861216,2831.6233177665385,677.220537100438,4323.395582125301,8594.90444285421,9201.024644379593,4263.629368299956,9753.81731302882,1597.1242991591405]}]},{\"name\":\"series 8 (F8)\",\"data\":[{\"name\":\"series 8 (F8)\",\"type\":\"scatter\",\"mode\":\"markers\",\"x\":[5499.238042752093,4389.603087519808,4979.738051153596,3361.0492562068284,3536.438471764045,2454.6301438506566,6446.607742724683,5587.703208148638,4316.799870438978,5672.226555379186,4884.905263483729,9326.577412038578,5849.494809963571,261.65482939363716,3117.214926596811,7708.904015571901,9198.38314270531,741.87122365033,6303.361488373944,6107.773966806818,7070.008553675646,3819.2182971031552,4514.045803777644,7752.74633894205,8624.29332563444,5760.7677700735185,4564.439392549089,7133.240966468317,1389.5797960293833,2858.1104222282706],\"y\":[7892.70970121146,3144.1426446253904,6173.441416510818,5611.785250949537,3934.4659387783245,8858.688936320723,3682.94483734964,8604.420915283074,3922.629382026899,5057.852044502151,2202.8122126762282,9681.063023323271,8333.248248179501,202.06733313407722,4127.202507471082,4018.0450228231025,2301.2930855739387,400.3011049511074,5400.588721639434,937.1527639103628,7246.482795290602,9113.09174533392,5995.479664243545,3909.726960560136,3677.710425251499,7820.335507516365,1439.498456352123,7095.730819906856,9685.648659992477,5691.235499016814]}]},{\"name\":\"series 9 (F9)\",\"data\":[{\"name\":\"series 9 (F9)\",\"type\":\"scatter\",\"mode\":\"markers\",\"x\":[5101.595744809416,4975.708261621665,1986.6351965163942,8412.964798739753,8456.93979722482,5158.94548541141,1546.9505150032903,3766.2439771004674,1872.2937340672706,8289.038276236295,3795.1180357056,4280.163695988082,1588.45483534795,3118.459960140615,4220.870955441796,5355.236552674477,9523.594670187635,9286.614974226859,3762.9486293013015,612.7892810322766,1281.1078470671612,5111.253870533433,4803.894943453407,4910.457945626755,4317.841039938379,2791.01410615633,7818.554363078401,9457.682242073397,2613.3354418490994,8817.246270593723],\"y\":[763.9709662852412,2771.74129590843,6377.992814702336,3106.170627677404,8151.9141421884615,5834.007994199713,5347.826415999626,6387.802779049424,4411.269669147267,9737.745433064567,2035.7349979395067,1725.977222959172,6626.051514904963,9362.90546644079,6943.998769780985,2694.188652590249,5025.80210255419,7170.030200015411,1189.961701575185,7694.858243806293,5708.669779891558,7074.503334210474,3256.632293018955,7185.030228245094,8993.461698246458,9544.029255977433,5652.199272850832,8159.384123861534,8525.491198061436,5556.367685508632]}]},{\"name\":\"series 10 (F10)\",\"data\":[{\"name\":\"series 10 (F10)\",\"type\":\"scatter\",\"mode\":\"markers\",\"x\":[4147.222463112949,8141.848993352564,802.0512938211455,8860.98682421214,6955.530136357769,9149.989725407673,2136.862318337217,3107.440825167714,3734.6136880110694,621.7282574942495,248.8579045608108,2834.917138939621,4603.579351249881,9131.855643189356,639.1885069550129,5061.538558275305,7511.481586870778,1876.1757162686743,3711.337680178142,1268.6519395177343,8236.128901116663,364.01867948573806,7192.760807209103,7944.463496390303,1053.2180941362867,535.247022176154,9832.474415516765,7533.037373927123,9687.917767705088,5605.772079476397],\"y\":[6577.535760589294,628.7998650387683,7545.789303270717,8345.987468510597,2472.372637315703,4563.342008878428,3417.196158732908,209.41645121915764,2378.4330298409673,3150.451155903211,3859.1240827050688,5754.26055231297,6277.648561572068,7286.939618261923,6280.5905253715255,2138.4293353570847,5401.710486324364,6350.984388557775,7392.598537364696,5119.0205967882775,2720.182551312662,5896.329117808165,130.84617501914585,4950.108760937835,2423.983613859909,8009.8407605411885,8419.175912957213,7848.09529351434,6956.793165559425,6881.5540510811825]}]},{\"name\":\"series 11 (F11)\",\"data\":[{\"name\":\"series 11 (F11)\",\"type\":\"scatter\",\"mode\":\"markers\",\"x\":[3214.007467703617,1281.7588269684531,6875.44553867484,3630.478909311542,5154.768581004473,4244.5391446403255,8361.396056770387,1236.0834731321645,8842.599943044053,6879.477339954549,5558.856400283081,2544.509894322493,1279.3798391574041,7352.621355723329,81.21339547648154,1750.217158475813,2321.3744406164683,7708.608257134737,8005.86098061686,2497.8884091314235,8136.592239282128,4592.508190825477,5468.590299367567,3806.078842362466,9602.178976262821,5184.922467432152,7572.19742028333,8383.222386517205,6337.962487536145,3472.7063952579074],\"y\":[1739.9865532511972,6588.257069246879,3644.5176176248397,7065.586903119101,5873.360335107217,3282.2630478265023,3998.8862761617484,169.32687803023262,3713.702704840699,4124.159965130002,6958.361003854938,4038.9887179663097,4662.281087327002,2482.6373360088214,1332.494059790905,2261.231459595718,2977.9035328838963,8068.142837122364,1305.770807523625,4552.471768158028,1750.5865129488507,3632.8878382973207,3828.144339738443,9410.127166863018,340.50370953607523,6643.473352283491,8037.898834868013,2917.0528022966823,74.9996791896912,8699.87863622269]}]},{\"name\":\"series 12 (F12)\",\"data\":[{\"name\":\"series 12 (F12)\",\"type\":\"scatter\",\"mode\":\"markers\",\"x\":[8741.070775212012,8274.669167431171,1912.47351258792,6656.196104812393,5043.925521092428,8228.176608435113,1510.4437499962264,5892.634349585469,2119.7519945956224,447.6334722574249,1676.1326132016852,7994.9588649519565,8788.500379510853,4141.573873675597,9531.41394918159,2216.6693964638494,6097.561990357158,4705.225639615172,5889.99031630696,2530.8640323158106,2414.2431262719665,2043.2842080233172,7323.17802861419,9822.875853469362,8675.265127859291,7357.584299871652,7181.6957344551365,1831.4060223785777,3385.8736273919053,2652.906672423222],\"y\":[444.3673252740099,1815.026863821726,720.9196865944912,6989.543871297482,8680.662605277443,602.5577363090562,6652.529017306519,3599.140486185317,5642.523508476688,5679.96360492622,7413.749717292561,2380.718043152519,1041.9270924450298,5273.0706426833285,1804.831292790847,3006.6774341634505,9924.161536458714,5004.521943460988,3858.5501019969292,4893.96906681239,7712.805291932757,9635.048566519326,5203.270064451091,1633.510958572666,6480.910123827982,2643.2676092215024,7097.185122098758,9121.320035337601,6293.910795141905,1954.856510420171]}]},{\"name\":\"series 13 (F13)\",\"data\":[{\"name\":\"series 13 (F13)\",\"type\":\"scatter\",\"mode\":\"markers\",\"x\":[554.4596718174854,8597.720997118557,6573.296423054889,1001.0983254095851,9243.74683703538,8076.378843034096,6346.09388978286,468.4318303309942,3911.8348227026913,8232.800073864339,8973.732421712162,7594.777032748434,8969.929182799611,1722.3318249709907,6494.867890973604,6675.055737935311,1577.3494017779744,8110.58186517746,1070.2699821560113,6557.4574018258645,1067.188339797357,124.57241524314378,6183.8817247634615,8343.649248445976,1880.7352329569726,770.8333513388965,8232.683142943833,9250.266143576273,6312.245353705906,5017.024686589403],\"y\":[9929.003734997304,6645.65623968257,4312.889985393502,4196.577215080813,542.4433420824292,9645.002790762854,6362.496865004516,6071.226141578701,4424.578741456076,4328.576474591566,1989.9513802122126,8574.201052781547,8488.14789503547,2642.020640806727,907.8947737070764,657.2331197477488,1353.4189243463036,4344.20864539788,5924.623982052133,9377.422220251981,1727.965971973836,5987.349905353557,6805.85972639301,8385.40790099027,1252.0940648473288,845.6709854099643,2081.318489256727,9314.165400382893,7520.662779726629,8953.127576488152]}]},{\"name\":\"series 14 (F14)\",\"data\":[{\"name\":\"series 14 (F14)\",\"type\":\"scatter\",\"mode\":\"markers\",\"x\":[1425.7872404093996,4218.153477284723,6283.081940306361,6967.255408847704,4691.667050075673,4175.418212814502,7926.765522364218,3445.395427516662,4929.713513008889,6440.656637682365,2265.340454982343,6301.184140325583,1806.9772754268265,125.1288819377161,7381.434006539489,5703.327305465628,8715.698165674417,8279.703028962673,2814.8661047248515,7485.3251668894345,1564.1878050313019,2470.2030132438335,4740.5977518851105,9253.951380048404,9750.491194912762,4459.623868302446,946.8001329716025,3815.934952698562,141.88578779016692,8449.667741163192],\"y\":[6401.921205994306,2286.4273886611086,3018.0445835175874,6484.442515219777,5990.645709852086,2299.486462885114,4882.952187953729,9082.063502159132,9602.161531986145,5109.941189397411,6810.430255648551,2935.2763323083086,6170.155480124135,9057.646838863167,8560.394011353184,7610.12446915459,7492.481238735084,5859.280908475205,8087.727437430355,3572.0615204822793,9699.458399666386,499.46672042710526,3262.9286926933933,4581.812296900268,93.27483185357366,5112.156770547042,7633.444757202788,8528.66239321809,9746.980214364477,2174.8456314175555]}]},{\"name\":\"series 15 (F15)\",\"data\":[{\"name\":\"series 15 (F15)\",\"type\":\"scatter\",\"mode\":\"markers\",\"x\":[4876.881004775211,2106.7651829371493,7730.077194431268,2582.3248004681086,7232.033069074093,6390.424952403249,1118.727767712604,9723.331475486766,1640.9569110823008,2327.2242860590995,6052.1125030906405,1552.5808808361319,3595.0596238209087,7443.241073155824,9012.493651636652,8832.322060514556,2750.4549461182824,7642.4994324225345,4235.04714153161,9211.683044196994,6262.598900234888,883.1832347310675,2694.5484811341203,3618.727070735749,5487.4791724000725,2726.0383118772424,469.50906790943714,3559.269452805971,9206.40692116312,7275.772752117059],\"y\":[9450.378275812525,5348.1549033573565,1853.7152670687951,874.1608711479421,1336.937470747588,42.830019344143324,8361.441296382422,53.94509622055232,6661.035197496956,5905.686737534123,8182.332967460228,9725.519753679393,4174.3216679568695,3590.7975568579654,9812.285397398553,2343.7730965764667,2356.658605447842,2932.2984526845976,3705.577099148413,3890.352441582351,4029.3973304935284,4205.818422978345,5861.046133373596,7907.011837999644,7098.732964726076,6040.997010847291,6554.607957112814,4528.585427952533,9307.856228512783,6782.267578111682]}]},{\"name\":\"series 16 (F16)\",\"data\":[{\"name\":\"series 16 (F16)\",\"type\":\"scatter\",\"mode\":\"markers\",\"x\":[8703.281125569334,7489.528503803911,2542.6432200310355,6026.729461367481,8168.158255431642,8415.85272223865,2714.1367619865996,8312.068395188302,3938.5213967486343,4364.675538083225,4532.089923717703,1484.1290219458524,9586.563318332413,1536.4926677161284,6587.356316519594,8142.8807250503805,8641.952301962589,5360.675818603783,1076.9288281377621,9747.16093919369,5607.730461403629,4742.584703190338,4233.945926303499,9452.7198647448,1223.81248417192,6161.077393237996,8065.993580226376,1564.7304220574676,5281.609972745738,1518.088632375647],\"y\":[1358.5546179376217,2605.069262250794,2803.0761888336465,2167.3423736699015,8066.468091124677,1426.314531693642,9719.729247022708,387.14855461473354,4194.7787761550835,3548.547146216169,2321.9799875001568,8712.631786133836,61.36863436997264,7951.681140720393,696.3528547213726,7005.624541925151,3437.286810908721,2925.193117981684,127.95708389336302,6915.850302363688,476.69814762440257,1258.757366967762,6017.830472108954,3474.9147375781895,5576.896329501577,4051.435117984761,7249.5403270068755,3965.0103408345917,8349.837485339787,6723.71007311225]}]},{\"name\":\"series 17 (F17)\",\"data\":[{\"name\":\"series 17 (F17)\",\"type\":\"scatter\",\"mode\":\"markers\",\"x\":[136.6973168410357,4917.129992621571,5740.167462199152,435.79796094470714,92.79881833239689,9118.982218189172,9990.732595556537,7047.300911823185,987.086556018798,5850.682001917478,8635.076176025053,5997.42003590254,2784.868120176199,9216.68887235474,987.4436348330917,7041.5769431849585,6518.018108130406,1405.351749973227,6704.328915497212,3649.435863744709,1891.1384306212265,9982.810272621622,5907.616112090801,8050.962656783724,6901.126658436593,915.8952793283648,7087.88113840766,411.29088476638873,732.6621477110184,1919.0583478690005],\"y\":[8547.437467667534,1421.8128606007297,889.3896584508343,3933.253964304546,1496.222799036533,9714.048776606838,3030.343176754231,2070.0867286446046,8079.641637056541,2934.489810409273,7303.419097649668,1192.4283145387226,5595.9923783277945,4062.754024328008,8102.472309052364,5453.095910767179,8952.124037048336,2612.0275435903486,5121.879531697066,5576.080926484062,7009.4833329812645,3719.91384276502,2342.1687162695102,2440.19806165228,4888.729151223117,6819.445822488481,8152.594888719716,612.927532793347,3529.6040414477825,9574.16001225129]}]},{\"name\":\"series 18 (F18)\",\"data\":[{\"name\":\"series 18 (F18)\",\"type\":\"scatter\",\"mode\":\"markers\",\"x\":[4201.291218194475,882.6012574664787,9843.773674052158,2067.7755336357327,2760.904973295196,6549.982885356347,5651.854001194983,858.1531632250084,2407.38197581728,4265.680725071751,1261.8676140730634,2436.8590655524667,9631.836648381495,6537.719304318819,24.881006015021747,879.7940196274878,9640.20544790655,9683.99248102261,3494.5954958334637,5030.987138923827,3042.6505403440683,7967.204256325616,2921.176469806295,6430.802273954912,6394.443847399477,1925.2998473041848,1725.620284585494,381.4349413082585,3622.326980710152,6498.27814707682],\"y\":[5329.479064524297,9036.726486286914,2255.1123083198754,2452.667118486723,9255.772992989465,7209.960604798956,3074.5503161730203,2817.833401527138,3770.4410820188605,8712.44575465933,4312.256862181196,4573.690636467281,3499.690370291656,3467.3285062655377,1840.760888411338,4667.259667602014,3437.1271659122717,3387.228858784547,4941.496571944856,8585.923857154065,8545.56191960112,8060.917969905228,3179.829270392126,9178.116142254832,2761.9013878574315,9663.41095393452,3676.9735930429893,3187.5616733752267,4629.5511024219995,185.48260844567844]}]},{\"name\":\"series 19 (F19)\",\"data\":[{\"name\":\"series 19 (F19)\",\"type\":\"scatter\",\"mode\":\"markers\",\"x\":[9640.921241158643,3055.0938440819464,1011.2720908131512,3072.7503132402367,403.2718389837453,1942.4473583958734,7376.450858479182,5671.121702292558,406.11203457940115,645.33099198828,3010.250250158307,8494.528547983948,9592.868840612095,6088.461061331608,2158.137480429911,2262.5252021795773,479.3154383331943,2433.1423024634346,7597.7875715323125,3899.457176667019,7815.682296108125,7478.356422592013,1421.3846851327228,8243.55606429403,5198.088439274727,8999.227376617862,8914.858197356472,3083.4513647264716,9247.273144080993,7942.105209217874],\"y\":[5336.600952490844,1321.2318759645668,6044.874532764122,7983.417424917086,2126.741821767598,5555.33482327015,6402.269115532078,3859.8130364726844,8619.050557931112,7183.169108355263,6234.2470626571685,4090.025873292542,7681.075289668113,4242.538104313954,5819.569777481664,7234.269428313468,8874.125765378112,9642.549644572677,7052.716678115037,4674.863961212212,703.2320442459561,4178.852418245862,925.8970985384963,7052.1946125492395,4318.225018849119,6784.677613495774,8427.666285587093,5952.981883500599,4630.594487011736,7838.3005404479545]}]},{\"name\":\"series 20 (F20)\",\"data\":[{\"name\":\"series 20 (F20)\",\"type\":\"scatter\",\"mode\":\"markers\",\"x\":[6804.253219758774,7223.242652527629,1226.8085483372936,29.182377939287463,9701.971100120434,7366.20351553115,687.2788382238781,5279.1902855624485,4093.84640633592,9885.829495139882,3961.1852595332043,5521.935483942974,9090.872464261993,4149.509834656894,7300.878232301457,9762.40980665294,1748.051706345023,5368.84203521191,2925.600758430218,9770.741070581837,2797.66475234036,635.3409401475063,6062.783561589659,2008.0289311481836,876.964088333686,2598.2943173799545,8306.182690043832,3938.8634492704323,7264.757099353224,9334.872306039211],\"y\":[3333.6466854904943,8754.268696546014,4401.110509477353,6237.992861477264,9943.312124703361,3710.454406694396,536.673668090143,3335.3340515786736,9095.547977015249,3782.9014351196242,9742.880250712753,9353.273134710991,6188.977692686732,4141.942077697144,1211.5575464777905,2052.429981254347,7152.429620021684,2075.1440921444287,4282.238852980482,2886.869231161511,7100.678592953561,1413.4432717026245,5957.733718632946,2876.9245085442,3280.3580448028047,262.10764842835465,5803.285512530966,5735.980793540153,9823.438317647908,5894.2659418794765]}]},{\"name\":\"series 21 (F21)\",\"data\":[{\"name\":\"series 21 (F21)\",\"type\":\"scatter\",\"mode\":\"markers\",\"x\":[9071.90178954582,3754.4547369139245,429.179672004959,9033.863469018663,2658.2185988725982,1719.597524103975,6511.490524260085,3436.5566025758953,55.51547150090208,4237.633502514544,2577.1279136182943,5671.191758548118,875.2713139846579,2225.1465862623154,7641.200759764053,4311.162886003455,7685.913179164413,5049.505494990935,1339.9491027902366,7364.072423552968,7937.17701547319,5823.522126186624,6066.785841148854,1699.7701415184986,1558.7623293810038,8697.41697093796,1936.107163850116,8480.981361557171,5456.733002320801,8641.562588487357],\"y\":[9670.392734015422,4157.373253276824,4578.379382928795,6176.36527423503,7609.62836130213,7453.055830016624,5476.018933147266,1781.0352787868699,2958.103129499796,8959.149210627034,2372.4888948276625,7300.885623057761,4112.151974145048,1437.1897542494116,7615.835322870666,4573.193474723011,453.41907918894475,5745.79212855889,8107.982939897574,4704.542942419488,8345.746818665528,9422.12165887041,6801.925067714265,4957.966804811112,7239.7999861095695,2381.3711116714308,3684.2444036793563,4046.0867235819032,7768.056411325404,6941.580328687163]}]},{\"name\":\"series 22 (F22)\",\"data\":[{\"name\":\"series 22 (F22)\",\"type\":\"scatter\",\"mode\":\"markers\",\"x\":[3794.5393466295195,776.8481850422837,4503.808919159294,7437.776011738489,780.5957289320697,5461.335124565683,9661.337388755592,8058.546040697984,3247.9101785281973,8268.538852209585,430.43102397420375,6219.812291900199,7734.436980348408,3799.847857722305,1866.9489845879916,2784.6941867827513,6526.193889120403,6556.415454392226,9302.128181584043,9745.008631947836,726.6337001152423,7685.452364964354,9086.862575980549,599.0817364305467,9002.445308059916,9416.881110118404,4153.190825203881,8592.197072120269,250.7202796058239,9939.684242225845],\"y\":[1353.7481309914012,3230.138814240452,4067.1876207458768,8117.661043875671,830.9509920077606,6032.932533629002,6342.47641410438,4407.206488255678,3771.2026208495577,2365.0288962776867,8573.140601208659,1615.1099994016427,3815.4174457273093,7359.809352661735,8546.444228494734,6722.267421728644,9125.683859294757,450.4402725504397,6942.665072377412,2899.5873445581888,6648.896574391813,4825.741293552388,9095.946695551755,9055.261916282921,7471.7080530056155,5248.868926928296,3664.4936962318684,2777.9695279134876,2327.160271581783,108.26588161716222]}]},{\"name\":\"series 23 (F23)\",\"data\":[{\"name\":\"series 23 (F23)\",\"type\":\"scatter\",\"mode\":\"markers\",\"x\":[283.166515611164,1378.45766011362,9291.879666189312,1314.458983540523,6406.303332432744,4882.355726329302,1503.7263681576108,8712.934678467202,9495.85539248227,4289.948184004881,1333.311361811299,4052.459455364766,4469.69690726491,8194.03492806754,8858.808576004454,3229.85354404709,7897.227435455333,934.8971211449109,6721.997779660883,4526.364710643136,9814.153682272154,5871.77200434698,484.5053105510355,4857.435923820055,1225.6068457855163,8063.134772054202,3456.7062036433917,5676.793593040147,376.5110215403622,1673.4790022074774],\"y\":[7637.783683051226,5107.427915436889,3690.3871192780325,8762.168234221672,7883.946462884457,3116.1781129523456,7912.543476047869,7760.332862397036,4712.825123659689,2105.272847175235,8440.86693146743,1904.670714633131,2255.5830445313295,6163.319104575701,5087.196696104334,172.40050522679851,1784.2937691678196,8399.874047980451,584.5252269278578,5849.510912257774,7970.649751179987,7281.871495996122,9040.042064802743,764.8367349403251,4573.089382565509,9696.819592586971,1231.2950912718125,6435.383543822939,8602.93278653938,586.8239629839788]}]},{\"name\":\"series 24 (F24)\",\"data\":[{\"name\":\"series 24 (F24)\",\"type\":\"scatter\",\"mode\":\"markers\",\"x\":[1152.5133633019846,6893.715234989928,7186.14988710266,6429.131501347482,3540.403472228344,1806.106146773797,9315.880888628071,2583.0337511128355,5243.48845513815,2640.555497063234,5481.861929254714,2579.602507696599,4246.335955829215,9106.643158242383,1766.4095117016454,799.8803192961734,8919.777374887823,7864.609458025634,1412.6464159112838,8668.780414184734,6640.489715286288,588.9192001729715,6099.156409607493,8486.097620786857,5308.0812239918205,3871.969122999841,1196.2776637095685,8322.667098816572,3485.0776383847005,9166.486667247558],\"y\":[4132.7565903408195,6028.853219587261,4894.982886533637,6990.556788079863,2667.5021372561337,334.18958492664854,835.8459314112642,5957.106493020391,339.6939199926363,2261.129066425831,9701.532105135866,3840.063834766384,9661.515488664583,632.5091187393417,6250.168130936844,4852.30726541113,9721.296079264928,1321.4726537886224,4518.987792414046,4585.896058836371,3780.864843728173,1074.2293186302554,7357.077001908267,1652.984621703595,4179.432460423716,3230.1789620970444,2432.2806396918163,2966.1917292512917,6397.333929567765,4470.566285498279]}]},{\"name\":\"series 25 (F25)\",\"data\":[{\"name\":\"series 25 (F25)\",\"type\":\"scatter\",\"mode\":\"markers\",\"x\":[9265.79747688596,7810.103635508119,1486.4795471968505,8845.964689457189,4357.758078852958,4380.972649496786,6240.378510614868,7764.543749922072,1789.3436795047635,1309.5635181312482,3455.114930109161,2367.1985298331997,4821.772498365873,5832.492405301393,423.66980227594667,7772.274133853452,9959.740877314165,9740.293977827514,2409.5021900818224,7041.749066575921,8706.67871816375,4005.84199662136,9261.312509573861,6402.388975050528,3811.436971697316,3084.63831254611,7559.432347642741,2249.5153127579392,6190.799463747615,278.8786024610901],\"y\":[7725.297767815855,4767.683242787491,5909.464593542456,6270.090866013642,5378.978671650954,2621.696771380495,5608.9241736432605,3950.5361117943016,8895.753236741393,8103.030958073643,7598.915655651351,4021.4483186083503,591.2327055502553,2360.87363483884,6459.902190259243,7476.58369069611,7255.554574006979,5903.640148691491,7452.29412442411,3052.439388128898,6860.681806827886,425.95094197345304,7287.893060573719,1.8916895033671555,2180.8588258277173,4197.7067129547995,7891.305360032097,9135.894423569927,8794.789873711628,4746.036343518216]}]},{\"name\":\"series 26 (F26)\",\"data\":[{\"name\":\"series 26 (F26)\",\"type\":\"scatter\",\"mode\":\"markers\",\"x\":[5663.836412307629,7978.270489561193,4479.12418415017,9367.529038514562,8459.646222996396,9091.517455350702,9356.344907542421,6127.309690115526,9993.704653552652,4156.94136985564,1326.1761266356332,5433.14898508408,6723.361076411887,230.32255763802968,9288.136649477723,5016.948803797208,5380.099694912716,8744.705067596216,7453.885953450312,9212.577575638226,275.3209526944311,2294.7990978666066,7651.523991155056,6788.1729998624805,8263.757463668162,9012.867932612073,2940.019725484738,272.67212254513896,5820.392578713148,9433.86631348763],\"y\":[5080.459346778671,3710.46715542992,7071.521781550337,6147.990232038516,451.825182620853,5084.724250772541,3817.8584769930026,2251.6800774152603,3852.525588439429,4269.049903251407,8597.351301129933,633.5191128608153,7294.914274140078,7298.8215958192295,9657.6501429839,2469.355197928277,1378.5560848921052,2997.646586396674,2342.918911738473,9951.364296786884,119.00686823401175,8551.048673484172,4846.957527738288,5238.665294932587,6212.393967140854,6488.630030855755,7544.371407745587,4892.487583183488,2632.0984136116876,6717.584856246399]}]},{\"name\":\"series 27 (F27)\",\"data\":[{\"name\":\"series 27 (F27)\",\"type\":\"scatter\",\"mode\":\"markers\",\"x\":[4183.776006429573,6646.782480754846,8182.356169168066,3744.594018498916,111.80696746632357,3265.5592426585276,9174.61048914833,1029.7647298506918,7393.956073710125,6451.119706936754,6745.963806081152,1535.4169295059216,9208.03473374826,2292.751408448621,9505.092006458515,5964.1650978657735,6208.314934684426,8583.33793069444,4169.502426355743,7924.883193419023,5693.18082454101,3481.7249009557527,2649.0285857283648,8321.775041619103,356.37485996707795,4461.581186029949,2633.973029897606,9630.922774646362,7161.699327550828,6262.877729947096],\"y\":[162.32556000969845,4410.318593187174,8453.289932292852,6650.001489641779,6868.997165084301,1383.5302965998696,6798.354618939664,9180.912082290799,1661.027120199775,6743.788291490584,2256.5234454452743,2904.636145080892,6416.239306188908,7944.428128113708,5779.7354228165095,9929.788412270866,7968.831915008939,2173.252846179279,5268.839296604458,3144.7004928862243,4123.908557748132,1952.5346637982943,1447.8635987191624,8020.121728720387,9733.96962979655,5863.001277176549,9164.16866430521,4388.357254535767,9973.899683527443,3259.301898458514]}]},{\"name\":\"series 28 (F28)\",\"data\":[{\"name\":\"series 28 (F28)\",\"type\":\"scatter\",\"mode\":\"markers\",\"x\":[5982.460234502563,6368.089962614957,1867.000721222667,8026.088170177498,4012.9158346467807,1192.0281256505084,1843.1415416158702,7917.980919528001,2798.430914244785,594.9128621267973,6651.101372904283,2833.3390632093115,783.2651384974887,1632.3045194563267,7300.709868565043,7490.884558548664,395.13385617390816,7325.963326660185,876.3953274829262,1409.881424112881,7095.049956609204,1369.52646870241,3042.2698864018926,1838.7024728860736,5883.993609790718,5278.57670492028,4849.898162065281,3333.2620966982827,9702.74955518102,832.0871085819348],\"y\":[1063.410071272165,1055.935141995097,2921.0190153014705,5427.617956879161,3632.632309682433,3547.2136206956084,9684.173591199982,3060.5289921387557,3173.431439957067,4716.509574512757,1270.7945965407675,9037.870193034452,3355.4778721887037,4105.13335799171,8811.396399313726,2250.4904802697047,7951.150489270532,9093.637175522452,7728.501780818823,4852.307992597184,7965.322817157909,2657.3368616988623,8080.5073815680225,5533.569128358503,6744.285136468438,5517.978134888417,626.5350190538132,9225.314469150124,4253.071718239356,2096.147706912361]}]},{\"name\":\"series 29 (F29)\",\"data\":[{\"name\":\"series 29 (F29)\",\"type\":\"scatter\",\"mode\":\"markers\",\"x\":[1876.735364933133,3035.162472319258,7813.979336985669,5538.172413475545,2652.276575698392,5489.91092433707,5515.078047141704,8272.887380371461,3751.5115343184193,3748.3478461733266,226.03207684783854,1047.8028057405397,9203.588877839175,1348.0538112933816,6699.561635398606,5200.826032270342,2288.033946899759,7262.865731756852,1590.3951332528886,42.8512730965891,2008.5919927743523,5573.0686679421115,6389.574898473964,9658.158805020572,8031.896074790807,3888.2667080608157,6250.49703052492,1173.710226741458,236.28191969862655,7813.2782005576155],\"y\":[3474.077875738758,9605.06876572923,4963.339625167838,8210.2888104809,3023.9604906618756,2755.8112209498586,3824.56046855024,7785.89097397135,8858.686647452765,3328.9386985025203,2487.697586652109,3619.5212696596914,4096.273562394279,4402.936982350961,6252.2311450505995,2650.2088573972005,5067.658535044435,8731.775242030628,6420.586633472372,7851.423749878481,9168.97733213409,1947.2732012216065,6481.5295053113205,3849.221693907815,9088.673057886728,4673.907554057882,9944.415059728888,2076.7583232799093,1463.932263376022,8810.268916042518]}]},{\"name\":\"series 30 (F30)\",\"data\":[{\"name\":\"series 30 (F30)\",\"type\":\"scatter\",\"mode\":\"markers\",\"x\":[2297.747837962968,7208.644734836092,6311.974660565448,8788.022423572023,8012.763959671269,8581.501735256785,4685.227036505864,9488.36303493518,9772.516006163627,2582.4675306506883,5915.437003401709,8677.599874961785,1179.209837968278,4575.294824759284,2540.290072933009,3317.643068511826,6077.303299330581,1834.0728743177658,547.1146067076538,5913.808726285016,7327.146142364455,2167.495835292008,4921.770372216559,9181.495182378154,5373.7024564009525,6441.989198785603,5656.839480868708,4744.928753599743,2277.1685499404516,7049.899472242101],\"y\":[7351.743152236389,4325.312314373469,7.056612645277571,8519.340463528128,6328.432034504344,9932.358252948141,2748.5873853306375,925.1819603047828,2789.8122109908263,2942.317900165943,1729.9963668101404,1536.0541750691925,1964.0802420161697,627.2716402890633,7651.6268612142,5220.137458420378,7406.661594345859,2694.5724738282993,182.44421884096474,9532.890458836531,1672.4577783855987,9701.988935707148,6186.876978124938,6122.766011483395,4424.627668753657,9833.221804598747,8354.652010339167,6116.354391889174,5712.138753314452,450.1196115257677]}]},{\"name\":\"series 31 (F31)\",\"data\":[{\"name\":\"series 31 (F31)\",\"type\":\"scatter\",\"mode\":\"markers\",\"x\":[3728.5572523553155,3482.277129639042,2626.847238003389,6082.051824795703,7259.833460882135,7023.5574195936615,841.8719294610854,5069.54302318085,8968.15803449416,8611.07103707287,8636.550195318892,2948.410723724638,4542.9537815757785,2546.0832857645155,9929.27928392858,1842.2888710583672,8295.018661879394,8527.758924394097,4568.053765476504,1625.562791993359,4252.237937427444,8601.929142221696,8669.53919005439,425.37909258861583,5890.408132999375,6680.287450268002,5151.024220554389,9150.53476360307,7499.963488716667,7744.57778882112],\"y\":[4765.617514036054,7166.69426027105,511.66806866486,2688.226963752759,929.5685629105155,3981.517526598013,6239.094889085781,3898.2677611032755,7421.608319052688,4859.927449544734,2442.9828284213195,6143.286830350947,6637.717067111624,6658.886408332611,4882.328970323962,7108.5216124585595,7500.749781096826,3852.686342498206,6589.336621529425,2007.1236662246429,6352.858950892894,3713.9032786679395,6990.106181886735,7096.995308158253,1199.6718682757269,3921.8082449673143,190.22255548922672,7645.49729541662,9528.696760736468,5489.158983290689]}]},{\"name\":\"series 32 (F32)\",\"data\":[{\"name\":\"series 32 (F32)\",\"type\":\"scatter\",\"mode\":\"markers\",\"x\":[6754.156644572269,6909.711834864598,2590.4454856160673,8829.949453567102,6129.665324080992,4037.8465675200823,4509.278091364011,1034.8240443322177,7503.14013125066,447.7408253817983,2881.989264602074,7977.511042503091,5319.119274148603,6201.340223168483,8625.670150225676,5744.766513009858,1956.9437441552939,169.38678072075052,6752.4009427661995,2063.964071329947,4129.805564755194,368.46741970144035,6476.836903867756,9896.60066463719,1456.1979662544222,3752.949700896119,8603.773014335296,2172.6376991132256,5351.048891338248,7957.2325666156785],\"y\":[496.28439176714664,8759.728326451834,3893.576718857186,1009.1178008020929,4091.0566915249424,4193.030002412483,3651.180841255122,8873.013495221556,406.0344660556259,7435.436603113285,2573.4408363735197,4832.057389184166,4776.536167164866,2994.7077392562915,9017.564616399113,9181.148580689574,659.4902330420105,6093.113715813565,726.389472795087,2478.2620457448734,6261.476249672634,3266.853291905537,4152.312287096419,689.3126604712941,7474.755168588763,3766.6444101731977,8905.280713461825,5962.222672627926,2646.5036474250323,6437.525701127752]}]},{\"name\":\"series 33 (F33)\",\"data\":[{\"name\":\"series 33 (F33)\",\"type\":\"scatter\",\"mode\":\"markers\",\"x\":[4300.251622644039,2478.7461006803733,9559.969257756942,1375.0507466846273,4989.284938105768,2857.9800337780557,2672.288773340397,5586.69469533115,485.7052435429254,6923.3991640981185,9132.224354293443,7131.435631056258,9022.532581265761,1295.6263503099951,5392.084993960045,2767.111870566279,9634.647261919292,5236.053721709274,2331.6211417989653,4.297356910818451,7613.919314524097,5441.812722506539,5727.693162417569,5647.081724540055,7558.798590566414,80.4840889034375,632.0296686332393,9395.272741708668,5124.630371164486,253.33006416617954],\"y\":[2760.409924206045,2889.1939439353,3278.2210952108812,5288.721933974229,7350.116955983034,1697.3743716349065,1369.9486023243146,6792.823076635083,6108.524878417102,179.0816598372813,5658.977954417513,5222.485624441307,5854.202980597214,6897.783485128636,8061.904781490958,1895.6996583317066,8242.926946007059,1318.2635687874988,5842.418092056887,8817.835904089312,8574.510692282765,889.2608070435748,8719.33795016475,8477.300567010996,3092.3852512814974,1295.139179120397,1442.6497370697589,5852.124301219113,8416.365779730584,1654.2379807054485]}]},{\"name\":\"series 34 (F34)\",\"data\":[{\"name\":\"series 34 (F34)\",\"type\":\"scatter\",\"mode\":\"markers\",\"x\":[9271.922905928062,5269.3892718849165,3790.063452543144,748.192770423255,988.7652222832211,5472.291020104807,6677.91743270041,9985.652878430868,9084.73255123729,7275.026142293983,4912.83364765832,3735.47405917621,9588.378426228386,9523.579982750585,4073.935888639497,7908.588979081489,4629.891980659787,730.8886236800527,7064.949163015848,3224.414660185592,9289.039577417696,5717.730529655719,3967.251082724467,466.78470092138656,531.8925464131763,8866.101026014458,4157.641532069804,1216.0436430017053,114.08651535159353,8179.709795897263],\"y\":[9409.398247684712,9038.072803845633,5213.123897516178,7246.633861798158,6236.201791503895,2917.666413834863,249.49928838108315,5412.046537837469,8092.026065217524,6842.8115024170775,866.1890286587204,9994.338668468012,3206.10983658688,6878.065975329892,6358.316363132031,8215.831246329357,1810.6374621842358,9809.374183807648,9979.563835873352,669.6786248548336,7309.774869483295,5499.293700439306,7499.177313960964,2607.4428001867886,9542.220367031096,8460.754678215399,3143.1637564241355,4107.217394754495,4705.447627350835,2839.1066610986236]}]},{\"name\":\"series 35 (F35)\",\"data\":[{\"name\":\"series 35 (F35)\",\"type\":\"scatter\",\"mode\":\"markers\",\"x\":[8625.555110025616,5270.065676228628,5738.332335642291,8986.354305301376,5360.379958570507,7992.930009030609,8999.868988610562,9118.1193184963,2142.2371314929146,1579.059981320109,7935.2029930855115,4163.011742036865,593.1492232442115,5472.397101722937,2086.2151226806814,3845.7278822404205,8495.622130287004,8740.24541699454,282.4138046149793,7289.338880767011,6766.616332512311,2578.9454920162334,138.90445211229175,1978.8723884998171,9274.391149312867,9080.16404978168,2091.721581083905,4797.425287503336,5959.955118521127,6770.797545130732],\"y\":[5116.8265179120435,27.698753229479234,8797.118199947881,1027.3823272736981,3007.5844125674334,5705.9716725363205,7009.908701427649,5366.292378494798,4626.556899403029,1522.1816037269652,2663.3814684516433,7823.896393491112,8900.954870726102,8578.91803811859,253.61261132170299,5166.239632627411,5497.118502926253,3753.7715602400067,4244.938094371603,6505.70077105065,5087.901781414108,9153.627436850544,6637.261844186005,7052.470884747779,8917.855680413997,206.13037857522886,2593.524260170331,2191.58707140064,5974.625035533373,4302.68690769963]}]},{\"name\":\"series 36 (F36)\",\"data\":[{\"name\":\"series 36 (F36)\",\"type\":\"scatter\",\"mode\":\"markers\",\"x\":[5917.185174368406,1851.6487539874815,7490.978586410975,5589.0154647597965,7741.845050762233,5219.230490945832,2730.4224299576817,493.390323081212,1179.8900832934212,6253.39840369341,7050.344905126882,2889.374415991076,1874.314406575265,1167.6302327866672,3090.1750181846996,7408.962851287064,9407.638870172521,71.8215642027098,8598.037622694903,4353.717133896435,7344.108511238337,6304.964219598092,9887.910335069135,9895.593034288162,316.12012400416666,8639.457707072204,8210.305156655922,815.8217684957048,5013.095247189982,3500.921778681342],\"y\":[7423.007218580035,3899.3309185991034,8190.777240210122,6622.753909753799,5264.423337406893,6283.841964382602,8891.202687779903,6142.576527358901,7260.606435812899,4556.91831373662,3948.3564475655276,2048.105732018356,1838.0411577905154,7200.875616325382,5551.788290583541,92.86083006614709,7567.784503206044,7104.612819709174,7150.237444379551,1827.5319097182673,8632.578055709177,8293.05761391401,9299.570493902556,6230.706066966598,2587.0609431622293,3769.064471006931,194.10888606669064,2573.0463047782814,5272.22801492356,9419.239837192152]}]},{\"name\":\"series 37 (F37)\",\"data\":[{\"name\":\"series 37 (F37)\",\"type\":\"scatter\",\"mode\":\"markers\",\"x\":[6567.6878829442185,8611.911203031359,1348.793610310136,2304.314461638729,9410.550109432024,2988.78641523193,5330.138323424668,336.32051037225665,5520.446361053966,5789.799203543948,7224.029423880272,4338.97144592404,291.0833474672081,6629.965833000845,8933.323117417089,2794.285803043005,9338.316437756006,5334.728180813614,2419.3720684698706,4197.633016941439,6574.259384602476,6317.708239600764,8297.875452482884,1875.0249664035234,4161.744868772383,4091.516594540916,4015.428560747497,1360.6112101028145,5416.334424206315,3998.8295079076443],\"y\":[4046.0387005162056,988.9833095439382,5170.342536257923,9213.846037857425,650.3967659125909,2226.027920121296,3373.108643364461,2339.6270647896154,2656.7015355386593,7443.714377812512,6774.0098986950825,7514.703837209737,1450.3579221290152,9338.339153347968,419.48055594539625,6842.741816139487,7900.877977537758,7998.393030585687,5392.56331429642,3171.928625580617,1307.8351391607646,8747.354227262724,1733.2862433736996,9776.152608677408,1613.7351928165833,6318.355325335464,5800.426324073495,6327.921191723303,9110.181407888256,8661.809211623387]}]},{\"name\":\"series 38 (F38)\",\"data\":[{\"name\":\"series 38 (F38)\",\"type\":\"scatter\",\"mode\":\"markers\",\"x\":[9469.981969960972,9703.368455552594,1654.732233630518,6743.721913421452,4512.94599467032,7622.581902256606,8019.35905550883,5061.55886041331,9254.734697361506,2903.877978573064,7407.431298012087,1286.1740582516345,6190.896246451757,6198.539308976825,9404.672767489574,2432.4501288876486,8618.48162270566,5472.921815632946,5670.543127937837,9267.939800803095,1539.7356430197872,1217.7301206470536,4530.020569767693,287.93787407405233,7104.52273343746,7389.646626602447,2291.7729696156775,1517.0551363157924,7680.1744895964775,9428.395375137285],\"y\":[597.2227315981727,8641.506056545402,272.20698186872005,2342.708010871958,7396.024169192473,3532.9613779351034,4466.622218219442,3821.5533637049116,246.99186495685143,8093.958394581563,2324.277935121374,9602.379852228281,4559.52620018931,4536.5031985872265,2730.069236636392,916.0127276787655,6119.109172787672,2699.637839730109,4584.43600169745,6728.236733702239,6781.447399713889,1818.38726026444,2921.9726542226276,6710.98814198139,4573.36513011321,6275.641283574554,9551.685400028322,4401.468502687537,4604.556155019451,2300.166592556563]}]},{\"name\":\"series 39 (F39)\",\"data\":[{\"name\":\"series 39 (F39)\",\"type\":\"scatter\",\"mode\":\"markers\",\"x\":[5135.704010615785,3845.3817822352776,5172.830220849508,5318.087747132971,2758.0248328878456,7170.893256441136,4236.491339000283,5721.810108064977,3982.1235775143105,5002.7906802078305,5031.017069082363,4189.506835224568,7156.045339155237,6401.7265616663,6023.207151803571,6369.923832145869,4295.842563083623,101.30547402069978,9624.498023024169,741.4063777793334,7262.998086608391,4216.174146864026,6126.151304502467,2760.6818190087456,6148.737267875805,7307.161626453771,4172.53573061235,3036.0835817367606,2787.8949066812575,9714.90699874116],\"y\":[6754.7438626785,7191.532959087836,147.27570214290608,411.30481797334363,2185.2975449968417,331.74271332804926,3968.2020251859885,1268.4837916808833,2805.7129291434367,9575.744108404037,6490.220638943908,7607.934642552808,282.20779710475983,3994.97908953366,3342.6929936831184,1167.7809971741938,5260.856346293803,2473.8422430621386,3763.2713265589537,9214.088685444416,882.0058678032938,6504.695602260271,1187.0194128553524,1422.4949316658242,4194.787310961732,6736.020316431937,5947.205822954143,4369.327311174319,6866.071025888923,9211.512075569635]}]},{\"name\":\"series 40 (F40)\",\"data\":[{\"name\":\"series 40 (F40)\",\"type\":\"scatter\",\"mode\":\"markers\",\"x\":[4338.565676085634,1996.777952358354,6744.227196296702,9669.564828292163,8616.086697351135,9254.58608379688,4816.575035384021,2016.7288366260316,637.1471441589438,5271.070451724768,7890.410253570146,145.37224217745282,7802.0936262667865,1869.2529439307514,5931.027745199898,634.9102396186223,3708.116265654955,3019.1907857674005,4406.159837653012,7557.614569887287,7503.543021373853,905.5390762695315,6214.776441129927,9604.147809691865,5314.437767584535,4689.748586569612,4819.2013505988925,4050.615969484875,4312.659632158295,8759.19723932817],\"y\":[53.02096948215262,1708.066734483562,5004.296462261745,8280.940092405286,743.2713235653987,1927.0050715874731,139.66197435776095,1215.6607379488926,3763.9092121111153,6973.638723064933,9280.800806621082,7597.790275400207,7428.5883530470255,651.2031666425744,6509.722429337457,8850.655394717536,8234.27335753638,6908.861756132648,5020.3406190710175,2180.904199806538,3883.2462802276623,362.31185040437765,6409.366771114404,7684.353901017912,2239.570132297192,2144.3716098923683,4366.168870121896,8695.788889111562,5417.092423699576,1310.4634640546199]}]},{\"name\":\"series 41 (F41)\",\"data\":[{\"name\":\"series 41 (F41)\",\"type\":\"scatter\",\"mode\":\"markers\",\"x\":[2158.874785750162,9128.13302500796,549.5883429571669,4143.046050012736,823.7618540599445,5071.809848675433,3959.6543090950463,1130.6950204557486,287.24353607336496,1762.9931479731342,3421.4850302632926,4141.66441742101,8784.52609328352,1179.8425535436752,4003.6761412555657,4368.40947452117,6886.27724613213,9988.709174508422,6581.713660378967,4988.686259034105,1204.4118705087835,2337.685357809088,4525.828686002201,1170.4865938124565,9420.365730866715,7082.7681901651595,3298.4054311779187,4042.2095645278446,2663.9968975835604,4432.28944130306],\"y\":[9736.154179661064,4556.105126679892,3468.5136317689557,2708.1614964037226,2645.7683851174384,7792.173230813677,7536.601729750098,1947.8775399031956,4007.8089648319947,8181.339492631717,5375.182458524651,7409.091686400433,562.065034148752,1370.8642408198557,5491.00035958968,2689.0043185223753,8838.666588141508,9011.594405881971,4286.509858073806,9133.655164486647,2802.7310275145646,8615.79350769408,9055.287077949159,5487.62961152557,2196.3447290203662,1815.9380490590993,9548.466546462985,9322.567999831497,1390.199516699342,849.0021376232914]}]},{\"name\":\"series 42 (F42)\",\"data\":[{\"name\":\"series 42 (F42)\",\"type\":\"scatter\",\"mode\":\"markers\",\"x\":[468.46445169269833,9683.259401296255,3098.214597427473,4897.396090438146,1943.5145053608094,8602.99156833857,8661.990693644315,5036.86154084699,7546.312835026515,7665.2230029839375,6777.962800577209,8973.272749614114,9742.328443232771,4626.52490479247,5518.630336928893,4494.428026472672,788.1045506063689,4266.145572985588,8290.258430633236,3619.556958148398,3047.1431544709303,7090.423273963652,2972.9615358962646,7798.416428256839,6450.725019820768,9295.680013349924,4905.097087059395,8193.477212402659,2403.2898940617697,7481.108020062298],\"y\":[8602.408584547466,4072.8545145472795,2816.763754942199,2003.5588052676535,143.37778934041202,6648.270541166828,155.4832835006492,3579.0283208366736,2005.7586307920283,5311.4795258004,9383.13905716127,8761.031110435346,4805.279501874037,8154.224938464684,5525.421493007125,1263.9374470152109,5866.022531571063,8900.942094642212,1196.8149373535475,7749.745747961816,2842.9956854388947,7940.057331382407,6887.262929383122,8659.648251207036,1720.9364016215845,6008.875986160294,3064.1770093203736,6947.142479878267,2429.3950126500317,5268.693362343515]}]},{\"name\":\"series 43 (F43)\",\"data\":[{\"name\":\"series 43 (F43)\",\"type\":\"scatter\",\"mode\":\"markers\",\"x\":[7217.5418020391935,157.3266871640977,2042.6682121243477,4000.901074063711,860.6272879637933,4197.4148206243035,5074.163458056743,7961.506957856257,1196.0827417927778,356.38935011831353,2728.290554474979,3550.6174688575975,9666.961736410434,657.1076231348949,8138.998209974665,5385.085888651068,4934.481091794661,462.06495668397184,2602.58206277553,3606.6559039893655,959.092804224424,1404.4084100694931,8603.40898723576,4314.583304890908,1808.7079276004724,2178.684637451743,9034.72151601265,9880.847735037092,3577.677745986192,9501.200992720582],\"y\":[8432.693408152041,4587.719290703738,372.40411606340507,6637.761035270317,1270.4349528511593,5021.572579845495,5704.217868103645,2296.9369933815974,4399.647880835367,3963.4932412838043,2827.4249287566035,8399.920560801376,5581.1603415498375,1136.3520955806316,7570.190908742868,1263.3940372289464,7711.575670280138,4099.672224398062,5028.198551025926,7069.750213954276,8831.790808480477,7827.747399068128,7125.775514762972,9149.377496096713,1294.155921031216,2063.115160968969,1496.460076887345,1562.6233972918878,9568.558658077016,1406.6264657176719]}]},{\"name\":\"series 44 (F44)\",\"data\":[{\"name\":\"series 44 (F44)\",\"type\":\"scatter\",\"mode\":\"markers\",\"x\":[3394.734863419615,744.4338796465532,5083.735365349691,4286.996868982862,1422.9244053754853,4562.563373299199,8228.62588156161,3446.8601309856585,4742.020255366948,6040.632681805586,2179.6050800885314,2388.99307199385,4132.460299109814,7210.211399309326,572.9383953854028,9345.512657149728,1780.6555427406502,7081.484256434083,1207.8255868126398,2764.4924281292115,4989.3264129817835,6559.958713519166,943.9117183876689,52.587799027041804,7144.467167659511,2287.0531377990224,2748.161689799875,4368.891539965603,5219.036098583601,845.3066491745265],\"y\":[4449.50659520977,2634.3923826023206,6853.22134548045,4544.329387926287,175.69101700984803,1603.0425029549644,1623.407843474207,91.51606201372009,9675.259965287585,7834.581831970384,496.73085846448583,1851.9228253314125,7768.646839093134,1715.912007507444,4665.3685234321765,2114.610720578508,6025.831498592454,5296.946901844387,9964.494111775624,1808.1398114752312,1434.0599510916197,8638.51283523097,5900.069083505929,6445.793832824585,2297.629830845539,9614.008062691255,8947.429140987568,3731.5061828456155,9902.759819373588,7663.174736555998]}]},{\"name\":\"series 45 (F45)\",\"data\":[{\"name\":\"series 45 (F45)\",\"type\":\"scatter\",\"mode\":\"markers\",\"x\":[8228.87692028454,1220.343476227611,5584.080731032427,2865.476870251318,7938.264105433156,4702.800847889068,6745.298958890367,7882.213518588307,4952.806443844697,570.0478184505087,2115.098279204829,1810.6480097888211,1957.1483721817563,8317.657899746282,6060.363500012996,1800.0610835874486,6101.950229151919,2558.242393995146,4132.323746087804,398.7860406961041,729.045501462069,7438.804520730242,7187.229663204794,4032.9226229884875,3017.474545051587,196.51337864217135,9401.6925819271,761.5646458394353,3539.470822705274,4736.99513720422],\"y\":[6293.832602561138,3510.0176723943823,4662.739807982759,582.1265193989134,2464.8942806008467,8351.627403158296,3495.136327636296,7309.702618793095,5192.007410978176,6090.472648066938,1640.1108661373864,9695.249014520381,9231.285004889556,9391.327362365479,8416.065197059062,4166.633015555639,231.46465016243067,7009.92492310495,6390.016245587608,2895.0210955968437,9011.817515411241,1295.7107934752787,8085.739358315831,7871.122317371223,6624.064594085568,5070.899879855584,548.823424772108,3653.544084732383,596.5505987956044,9233.804252652295]}]},{\"name\":\"series 46 (F46)\",\"data\":[{\"name\":\"series 46 (F46)\",\"type\":\"scatter\",\"mode\":\"markers\",\"x\":[85.83978236320067,4126.480909604704,6049.952176567284,2991.0273297411172,2942.0874062190637,5566.846074650444,1477.2985887963753,4492.273982892636,8942.146866252622,5596.345624913274,7897.113627840907,823.154937250975,4189.74017343731,5181.887012861792,1816.9872737350856,2805.5116541294033,5808.157555220004,8748.103798660322,6985.919398487864,1861.4255608218277,6399.779270428723,5678.666945434102,7267.274027260549,3316.216577861353,8412.986922701195,5008.450345387187,3130.2147281246707,2947.3774139544007,8927.021080096696,3946.4980839114814],\"y\":[7235.998381311497,1330.5305615649831,3500.113470181219,20.142934360100064,386.52029656020545,3590.132245656207,3673.4794976953035,6093.506909614789,7706.024678062793,531.7945694134673,6483.5319163862805,7289.01322690515,6342.905432394002,814.732157192396,5906.933116902423,8928.422732040077,207.03713378395383,2816.9823859872035,5547.875643452853,5010.302159275003,4299.0980304068835,9152.688987635236,9074.24348730656,7453.722715382134,1041.8531982213608,6419.879927958747,9919.071451995816,7363.376563207965,3689.3910450114563,7688.807704758278]}]},{\"name\":\"series 47 (F47)\",\"data\":[{\"name\":\"series 47 (F47)\",\"type\":\"scatter\",\"mode\":\"markers\",\"x\":[4585.987188361637,909.1886723133657,7368.814871880659,5485.068902209803,4532.088271169256,4063.8942883592376,6599.9097856195685,8578.347212225082,48.96301200075559,2404.943031341785,9241.822300198759,6756.780251613363,5822.344785321926,4462.47638536367,731.8014458162137,3948.57904104308,1923.1382655619257,9683.025013825418,9209.570722592282,1546.675118363202,5867.335611684207,4978.951800076315,1661.9111667027764,598.8102419588793,1079.5964557922343,7046.568242984967,3575.5554679008837,3644.6230129147507,4605.038979031782,1161.2341063255683],\"y\":[9752.505544758435,4412.92953115528,2236.047161833783,995.6444717765678,1920.4040625555451,6336.5324597279605,2355.671427721572,8157.89803740519,9561.60512786784,8898.53920613019,746.4629656610932,4608.833981414217,3988.1017076121707,4193.301200172984,7373.34689310967,5893.5097557045265,2105.4919507644645,4766.7389621692855,2721.4050674371606,8209.587113886277,5537.669712521242,7794.946811724718,5654.208449461663,7735.78346358064,2824.951641880984,9966.619730450067,6955.598356438543,6356.436521680164,7261.86127912872,2053.9807259877052]}]},{\"name\":\"series 48 (F48)\",\"data\":[{\"name\":\"series 48 (F48)\",\"type\":\"scatter\",\"mode\":\"markers\",\"x\":[2727.589256801198,3943.618071354226,606.8114589903284,2088.532103567201,9639.321811847587,3696.127056751233,3374.435639389235,1302.0874732529276,9656.771211324603,3685.082129690487,5712.342055773209,7550.192908440642,5330.173141417031,4718.720423258354,8967.57441874615,6804.172508657024,7975.898512379682,1914.4069262287344,6964.07964282998,4479.689500507446,161.77405384575016,4953.742037642846,7741.00219723498,4863.839926104795,789.6118899216519,9897.05140886772,1042.634184604292,8709.447797850356,5765.973806272165,3646.429381241628],\"y\":[4204.372681573169,6184.364830635865,9761.965548321763,671.8995061227162,9245.045436636976,4795.222362565347,4885.118838334384,453.14519119192374,6954.485515030774,9649.219365716384,221.18757855254523,3239.655220594918,9556.249856914426,6474.176261654776,2150.94635772103,1195.019170660946,2128.8929776766417,6186.219326804991,9106.848949363262,1766.496438498164,4385.219525177673,3476.1078971612324,6006.667527993455,208.8786584314528,8637.462125335303,879.3489420636203,2986.0008608940525,8592.048286429412,6817.336774508643,4101.891271230018]}]},{\"name\":\"series 49 (F49)\",\"data\":[{\"name\":\"series 49 (F49)\",\"type\":\"scatter\",\"mode\":\"markers\",\"x\":[248.8017743877835,9334.532907452076,9273.453333482701,3992.330081010109,5864.846092882993,2330.7428642866644,734.5667866469063,5483.189632530182,6165.3233135232995,6077.471039854289,4305.676547585019,4067.998016837384,9022.502715304212,4855.623130782674,2654.9904397430955,5937.506511030446,8746.685222521755,5986.039296620408,6653.291943055813,8767.543223167797,7593.427507224863,3453.6568018826983,5643.260181542921,6332.63699328637,2946.280737853796,6782.156233794137,244.81145345831123,1613.6854287867309,1125.0575262248708,6941.620795329442],\"y\":[8143.5408441789605,9874.579147415772,8466.906279853183,4284.632899028414,5662.86883870355,5301.840677722786,7837.233970417609,7031.620218938288,3086.4983970815474,2232.971057621963,4049.7879048718246,2664.1553737633462,9676.319445737015,4743.343222376043,4809.971469281209,8735.302808354998,5121.8999697962545,6418.115091075327,4742.733073313036,4068.9973853812257,7761.229063319972,5504.786498834662,8826.134486647028,6095.832737453191,6328.384639446422,9323.650163147067,8123.97159618443,5160.521194195311,1212.319356391668,5807.544043505793]}]}]\n",
       "var labels_7qevgPKBmh = [\"series 0 (F0)\",\"series 1 (F1)\",\"series 2 (F2)\",\"series 3 (F3)\",\"series 4 (F4)\",\"series 5 (F5)\",\"series 6 (F6)\",\"series 7 (F7)\",\"series 8 (F8)\",\"series 9 (F9)\",\"series 10 (F10)\",\"series 11 (F11)\",\"series 12 (F12)\",\"series 13 (F13)\",\"series 14 (F14)\",\"series 15 (F15)\",\"series 16 (F16)\",\"series 17 (F17)\",\"series 18 (F18)\",\"series 19 (F19)\",\"series 20 (F20)\",\"series 21 (F21)\",\"series 22 (F22)\",\"series 23 (F23)\",\"series 24 (F24)\",\"series 25 (F25)\",\"series 26 (F26)\",\"series 27 (F27)\",\"series 28 (F28)\",\"series 29 (F29)\",\"series 30 (F30)\",\"series 31 (F31)\",\"series 32 (F32)\",\"series 33 (F33)\",\"series 34 (F34)\",\"series 35 (F35)\",\"series 36 (F36)\",\"series 37 (F37)\",\"series 38 (F38)\",\"series 39 (F39)\",\"series 40 (F40)\",\"series 41 (F41)\",\"series 42 (F42)\",\"series 43 (F43)\",\"series 44 (F44)\",\"series 45 (F45)\",\"series 46 (F46)\",\"series 47 (F47)\",\"series 48 (F48)\",\"series 49 (F49)\"]\n",
       "var duration_7qevgPKBmh = 100\n",
       "var config_7qevgPKBmh = {\"responsive\":true,\"scrollZoom\":true,\"displaylogo\":false}\n",
       "\n",
       "var traces_7qevgPKBmh = JSON.parse(JSON.stringify(frames_7qevgPKBmh[0].data.map(x => x)))\n",
       "\n",
       "var animation_settings_7qevgPKBmh = {\n",
       "    mode: \"immediate\",\n",
       "    direction: {},\n",
       "    fromcurrent: true,\n",
       "    frame: [\n",
       "      {duration: duration_7qevgPKBmh},\n",
       "      {duration: duration_7qevgPKBmh},\n",
       "      {redraw: true}\n",
       "    ],\n",
       "    transition: [\n",
       "      {duration: duration_7qevgPKBmh, easing: 'cubic-in-out'},\n",
       "      {duration: duration_7qevgPKBmh, easing: 'cubic-in-out'},\n",
       "    ],\n",
       "    ordering: \"layout first\"\n",
       "}\n",
       "\n",
       "var slider_7qevgPKBmh = document.createElement(\"input\")\n",
       "var play_7qevgPKBmh = document.getElementById(\"play_7qevgPKBmh\")\n",
       "var pause_7qevgPKBmh = document.getElementById(\"pause_7qevgPKBmh\")\n",
       "slider_7qevgPKBmh.id = \"slider_7qevgPKBmh\"\n",
       "slider_7qevgPKBmh.type = \"range\"\n",
       "slider_7qevgPKBmh.min = 0\n",
       "slider_7qevgPKBmh.max = frames_7qevgPKBmh.length - 1\n",
       "slider_7qevgPKBmh.value = 0\n",
       "document.getElementById(\"sliderContainer_7qevgPKBmh\").appendChild(slider_7qevgPKBmh);\n",
       "\n",
       "Plotly.newPlot(graph_7qevgPKBmh, traces_7qevgPKBmh, layout_7qevgPKBmh, config_7qevgPKBmh)\n",
       ".then(function () { Plotly.addFrames(graph_7qevgPKBmh, frames_7qevgPKBmh) })\n",
       "\n",
       "var trigger_7qevgPKBmh = true\n",
       "var reset_count_7qevgPKBmh = false\n",
       "\n",
       "play_7qevgPKBmh.addEventListener('click', async function() {\n",
       "   trigger_7qevgPKBmh = true\n",
       "   if (reset_count_7qevgPKBmh) {\n",
       "      slider_7qevgPKBmh.value = 0\n",
       "      reset_count_7qevgPKBmh = false\n",
       "   }\n",
       "\n",
       "  const start_index = slider_7qevgPKBmh.value == labels_7qevgPKBmh.length - 1 ? 0 : slider_7qevgPKBmh.value\n",
       "  const end_index = labels_7qevgPKBmh.length\n",
       "  await Plotly.animate(graph_7qevgPKBmh, labels_7qevgPKBmh.slice(start_index, end_index), animation_settings_7qevgPKBmh)\n",
       "})\n",
       "\n",
       "pause_7qevgPKBmh.addEventListener('click', async function() {\n",
       "  await Plotly.animate(graph_7qevgPKBmh, [null], animation_settings_7qevgPKBmh)\n",
       "  trigger_7qevgPKBmh = false;\n",
       "})\n",
       "\n",
       "graph_7qevgPKBmh.on('plotly_redraw', () => {\n",
       "   value_7qevgPKBmh.innerHTML = slider_7qevgPKBmh.value;\n",
       "   if (trigger_7qevgPKBmh & !reset_count_7qevgPKBmh) ++slider_7qevgPKBmh.value\n",
       "   if (slider_7qevgPKBmh.value == labels_7qevgPKBmh.length - 1) reset_count_7qevgPKBmh = true\n",
       "});\n",
       "\n",
       "slider_7qevgPKBmh.oninput = async function() {\n",
       "   await Plotly.animate(graph_7qevgPKBmh, frames_7qevgPKBmh[this.value], animation_settings_7qevgPKBmh)\n",
       "   trigger_7qevgPKBmh = false\n",
       "   slider_7qevgPKBmh.value = this.value\n",
       "   value_7qevgPKBmh.innerHTML = this.value;\n",
       "   if (this.value == 0) reset_count_7qevgPKBmh = false\n",
       "   if (this.value == labels_7qevgPKBmh.length - 1) reset_count_7qevgPKBmh = true\n",
       "   reset_count_7qevgPKBmh = false\n",
       "}\n",
       "\n",
       "next_7qevgPKBmh.addEventListener('click', function() {\n",
       "    if (slider_7qevgPKBmh.value == labels_7qevgPKBmh.length - 1) {\n",
       "        reset_count_7qevgPKBmh = true;\n",
       "        return;\n",
       "    }\n",
       "    ++slider_7qevgPKBmh.value;\n",
       "    value_7qevgPKBmh.innerHTML = slider_7qevgPKBmh.value;\n",
       "    trigger_7qevgPKBmh = false;\n",
       "    slider_7qevgPKBmh.oninput();\n",
       "})\n",
       "\n",
       "prev_7qevgPKBmh.addEventListener('click', function() {\n",
       "    if (slider_7qevgPKBmh.value == 0) {\n",
       "        reset_count_7qevgPKBmh = false;\n",
       "        return;\n",
       "    }\n",
       "    --slider_7qevgPKBmh.value;\n",
       "    value_7qevgPKBmh.innerHTML = slider_7qevgPKBmh.value;\n",
       "    trigger_7qevgPKBmh = false;\n",
       "    slider_7qevgPKBmh.oninput();\n",
       "})\n",
       "\n",
       "</script> \n"
      ]
     },
     "metadata": {},
     "output_type": "display_data"
    }
   ],
   "source": [
    "val xaxis = Axis(X, title = \"X Variable\") setLimits (0.0, 10000.0)\n",
    "val yaxis = Axis(Y, title = \"Y Variable\") setLimits (0.0, 10000.0)\n",
    "\n",
    "// we can also specifiy the underlying layout directly - sometimes this can be useful\n",
    "val layout = ChartLayout(\"Animation XY\") setAxes(xaxis, yaxis)\n",
    "\n",
    "val series = createXYSeries(numberToCreate = 50, length = 30)\n",
    "\n",
    "val chart = Chart(animated = true, transition_duration=100) setChartLayout layout addSeries series\n",
    "\n",
    "chart.plotInline"
   ]
  },
  {
   "cell_type": "markdown",
   "metadata": {},
   "source": [
    "### 3D Animated Chart"
   ]
  },
  {
   "cell_type": "code",
   "execution_count": 48,
   "metadata": {},
   "outputs": [
    {
     "data": {
      "text/html": [
       "<div id=\"grid-container_5VgORiXj8C\" class=\"grid-container\" align=\"center\"> \n",
       "<div id=\"grid_5VgORiXj8C\" class=\"grid\" align=\"center\"> \n",
       "\n",
       "<div align=\"center\">\n",
       "  <div id=\"graph_DgNGJS8mtY\" class=\"graph\"></div>\n",
       "  <div class=\"animationInterface\">\n",
       "    <button id=\"play_DgNGJS8mtY\" class=\"picta-button\">&#9658</button>\n",
       "    <button id=\"pause_DgNGJS8mtY\" class=\"picta-button\">&#9616;&#9616;</button>\n",
       "    <button id=\"prev_DgNGJS8mtY\" class=\"picta-button\"><</button>\n",
       "    <button id=\"next_DgNGJS8mtY\" class=\"picta-button\">></button>\n",
       "\n",
       "    <div id=\"sliderContainer_DgNGJS8mtY\" class=\"progressBar\"></div>\n",
       "    <div id=\"counterContainer_DgNGJS8mtY\" class=\"inline-div\">\n",
       "        <h3>Frame: </h3> <h3 id=\"value_DgNGJS8mtY\">0</h3>\n",
       "    </div>\n",
       "   </div>\n",
       "</div> \n",
       "\n",
       "</div> \n",
       "</div> \n",
       "<script>\n",
       "var masonry = new Macy({\n",
       "    container: '#grid_5VgORiXj8C',\n",
       "    debug: true,\n",
       "    mobileFirst: true,\n",
       "    columns: 1,\n",
       "    margin: {\n",
       "        x: 0,\n",
       "        y: 0\n",
       "    }\n",
       "  });\n",
       "\n",
       "var graph_DgNGJS8mtY = document.getElementById('graph_DgNGJS8mtY')\n",
       "\n",
       "var layout_DgNGJS8mtY = {\"height\":550,\"width\":600,\"hovermode\":\"closest\",\"title\":{\"text\":\"Animation 3D\"},\"showlegend\":true,\"scene\":{\"xaxis\":{\"showgrid\":true,\"zeroline\":false,\"showline\":false,\"range\":[0,10000]},\"yaxis\":{\"showgrid\":true,\"zeroline\":false,\"showline\":false,\"range\":[0,10000]},\"zaxis\":{\"showgrid\":true,\"zeroline\":false,\"showline\":false,\"range\":[0,4],\"type\":\"log\"}}}\n",
       "var frames_DgNGJS8mtY = [{\"name\":\"series 0 (F0)\",\"data\":[{\"name\":\"series 0 (F0)\",\"type\":\"scatter3d\",\"mode\":\"markers\",\"x\":[7252.26420937767,5491.034311837399,2019.0248500226505,4080.3992206219673,2471.63088256372,4782.55086308087,965.7497805458315,431.01792355307975,9161.652076924194,1176.7220318403758,6752.404007642199,2992.368121137442,2131.3850955856815,5416.745738126732,5853.741317794433,1071.954561259666,2386.3117202521735,4901.960467407025,7634.625689863024,5241.989764432603,9093.516039002878,7760.500919625716,9855.748069405541,6950.462289738378,4953.091405663642,4522.292023731648,9074.98370060869,5011.257907465181,4246.0994076843535,2807.721618230307],\"y\":[7836.782211442467,2206.0612557684753,8776.674906342203,9910.228928944924,9145.50427458316,3599.904354364034,685.6297572742742,7926.434521719983,134.62861946092696,1853.8727924103393,2685.1787547733506,6175.32497180528,1072.2726091170298,3812.615152163429,5649.174255367233,6048.403845035397,2884.484065279316,6950.949073464842,690.5022988385134,4145.600522392146,6231.2762945535505,3882.990292469789,7867.05883471489,577.1304502648667,7836.396361196555,8068.878207514145,6479.990624428009,649.3812013261546,5250.329626887751,4098.308746762417],\"z\":[2562.648692580756,9803.296432391491,9517.062313096612,1486.7256492964343,7605.973424903311,3636.61536866587,6318.636714148714,1789.163084468417,8825.786309705765,7116.719988047852,87.5496396194353,5018.375227605761,5349.742487957075,9678.730574488678,2305.5617560808705,2848.0224467752655,6586.448709484057,5803.880355383383,4748.502389389645,2888.3328281378817,8736.530358660655,3886.0934717531536,790.1628439924457,440.7911800593156,2915.187652352238,9720.077120750755,3044.397174151109,1570.052975735191,3678.051582648846,4782.134004002821]}]},{\"name\":\"series 1 (F1)\",\"data\":[{\"name\":\"series 1 (F1)\",\"type\":\"scatter3d\",\"mode\":\"markers\",\"x\":[3603.057138786262,4075.4204862833576,9876.913964450921,3625.285989996331,3918.40654604908,1000.8535151200304,719.1712488999946,9173.197697956346,4982.17682877911,4691.640617758949,8664.589472044383,9472.772414334595,4869.4379544951125,8087.47945413335,7365.260671439263,4553.187693107953,9943.979031459085,3935.872985283394,7239.388411309377,7439.527925306451,8062.905281408699,1916.3779648183065,3466.8054509638114,9082.059518819224,6971.672691571595,8285.384268123245,1203.8915614615564,2987.5888551677476,8746.80191181146,2582.749704185141],\"y\":[637.8258302235329,1677.230027508677,1622.0240750615544,1185.7477808128835,134.87385324343347,3745.302371713731,3824.6298798762714,8052.434203165969,9184.673317557383,7256.96610212349,152.3048798378823,8865.672024571679,4102.251010422312,2497.600621472874,936.7556120290532,5970.698285391919,8521.766249133752,4674.810746703626,4768.942402219478,7993.260411709582,7600.744262688603,5074.3470907119045,901.748669850766,9831.981762528385,9550.825954614944,7384.112401740186,4599.439281801709,5837.764102481407,620.8286130971296,4425.81471158681],\"z\":[8869.26887347673,1424.6727205621,9980.176122288396,9371.721873166582,8989.119506887688,6100.88993110291,9085.524518005708,4674.363473666103,2036.0646902459257,3964.9652281654558,6060.669189053118,1399.9125093889043,2224.267681682798,6081.727372045659,9379.597643089752,1431.373566388261,4276.643128396788,2833.8696208634437,6714.799594589098,5095.593752141189,1283.2217391695876,3339.3555547483465,4197.729459113612,7168.501887185424,540.1764792537344,3331.433184017617,8535.569736754942,4925.875707228672,716.9831951350702,2517.193160274445]}]},{\"name\":\"series 2 (F2)\",\"data\":[{\"name\":\"series 2 (F2)\",\"type\":\"scatter3d\",\"mode\":\"markers\",\"x\":[9438.21641199744,2932.321740631364,6365.204881102261,7362.234608324095,2631.6677969892844,599.0498690557566,1260.904158692079,5493.15570982672,4368.768402981532,191.40872046845115,363.70146380713675,3466.217714938056,6795.522900232134,4930.045209623727,1279.0192925860288,519.6782357711371,9790.960960665669,9104.935058563173,26.058823854120394,7108.922235986272,8970.798342763666,4709.4273735980905,2642.5793309255464,8517.671048830323,1429.9092330222118,2001.8361031972377,3698.5614282013703,645.1775201091658,495.8848507037317,4614.997582427433],\"y\":[5144.3517399250795,7188.467709686203,8275.722875026235,3359.610242168316,4084.9054533357707,4870.321195624863,99.95840236569408,6705.058467572983,6050.251462291481,6107.828522809427,8103.306756251783,71.81451749713852,1123.3302853913285,6573.0030730213275,2128.1642046788397,532.4061925456036,3889.8615938956236,8466.062013516477,4897.06783067627,8293.32015294144,4590.920281998428,9003.639970153485,4972.488153123311,1418.1139231410534,8087.410137110659,7618.328227612715,5407.092571501446,5652.3879314334845,9286.645119540428,4672.583157461759],\"z\":[8184.880122106651,6924.166825134072,8534.761263847704,9109.183557907416,4563.357026866482,118.6287612287562,8144.695314829622,2392.056730514157,9249.189446650387,4064.01148815377,1707.98820124604,1335.4332466390706,1974.5289073726035,9315.910336458006,1129.6796802571218,2975.937026344364,3488.478804960935,2290.0852449131125,2429.084459415041,511.3491074286081,4237.93143539285,6569.270686016098,265.2446541899667,511.4292302196344,3084.273808015183,9797.38299460274,2874.3823768300967,8100.3215215252385,287.22248112770245,2474.9061474965815]}]},{\"name\":\"series 3 (F3)\",\"data\":[{\"name\":\"series 3 (F3)\",\"type\":\"scatter3d\",\"mode\":\"markers\",\"x\":[3647.6795089551783,8616.705552363872,3684.3159213453537,3182.128266220614,2931.2360753087687,1377.0015383290636,9504.358640874352,3282.291058332523,3796.0695388524455,3598.5701364722213,9575.376397682548,2994.607993292907,8504.534745431394,284.00057033321156,4822.403519417424,9877.493348091268,8190.559516901621,8924.207256432914,897.6990691609554,225.23632014726513,6874.607005116865,6247.207014242521,5545.741899887683,3656.75040213526,2350.289448260914,7921.082805970091,8877.629305213142,1262.906985699711,708.0787504449348,1113.7845316967187],\"y\":[7114.265843024869,8079.366176846892,8302.56632463227,4119.054967071107,7554.994526166783,1364.699083375659,4823.249637278316,6876.912587953811,7538.090897418331,7188.990136833432,3794.8332370375547,1148.7604111275195,2981.7994646319057,9175.998052806282,2311.5460679217626,9351.333460421,2729.3688351906167,4892.344880268667,100.99947677625676,6610.33705955388,3368.7950826839397,7340.093349159464,9116.61768401654,1463.7671349526927,5457.756808331223,1284.461160142163,8773.693205465714,6826.547001098744,6156.488434750925,6736.316806414906],\"z\":[8672.636804529433,4322.255992122954,5156.104646279919,4809.484261846337,193.9987593526682,1894.3599220597284,487.15126662309484,4385.783512971692,703.3659473894927,6728.504501188065,8302.928311099655,1546.1151387380323,9270.24292551198,2949.062211238962,6054.394118952553,7563.79750226434,783.5522030794729,6297.272769208467,1608.223854763704,5406.746317297071,6137.391137534203,6054.952468379812,1806.8646942367295,9157.984896339467,9764.215312368677,7846.889535574835,2729.1914595189705,5539.357985175232,2208.6159166610873,9636.68671527605]}]},{\"name\":\"series 4 (F4)\",\"data\":[{\"name\":\"series 4 (F4)\",\"type\":\"scatter3d\",\"mode\":\"markers\",\"x\":[482.63584004304084,1811.2176246330148,4663.3890360579835,7224.944875017833,5742.427407622989,9721.234944310376,4430.601858732005,4865.334559835012,7450.84421714838,888.388940289827,5123.878720116148,1233.2266347243758,1099.149761620455,5033.566489637919,3094.14748124359,913.2116239426591,4837.141801601256,8806.104526817766,2039.5984438741743,6815.962433261903,2290.018209159991,9605.99369537047,1051.6277093449212,9491.546728697262,4409.524344118226,5764.3510879704345,7452.049835093016,5175.4296823115155,3946.110202732538,1720.165498825542],\"y\":[4692.879624750567,5585.050265446752,5201.097818235349,4419.204500017147,7318.504374949483,8978.996576498617,8602.618095162987,5061.3651580458145,9531.0727977022,3797.4430657602697,4346.3458630392315,8535.641579962588,1253.4537354471997,3321.6559907812502,1851.8278366145037,1407.271080894964,5750.12764552497,2222.0115282167308,2107.4605184970706,8159.514941171582,5844.887066571071,3608.1150071673296,8111.943561408192,4542.913974402602,1565.2455966009381,8251.246750519025,4567.299780750926,6347.758044699476,646.9619363604395,6018.502382750038],\"z\":[1738.3166187607103,1690.892449396244,4748.109511416764,3239.6364795546806,9965.53196571565,4995.877906126794,8450.62806473686,8721.757798419645,703.6480696083025,1245.910891838915,5168.321343257606,5433.6665103245405,7154.53286703727,9801.801746634786,3933.767946558432,4500.762741549415,2573.7198508586066,8102.699128207154,3702.6376508727953,3083.097440633864,7151.5957712570835,6905.137804835365,7292.4170065094895,7953.277830589361,5005.22355473286,366.38075106606215,5363.563761703356,2147.578255344752,1264.0165164421646,6240.914586435282]}]},{\"name\":\"series 5 (F5)\",\"data\":[{\"name\":\"series 5 (F5)\",\"type\":\"scatter3d\",\"mode\":\"markers\",\"x\":[1954.625369640869,2932.749191580315,5492.244483231477,3734.34851458906,6998.873530990428,5512.659294323063,1763.618350993289,9146.859438800298,7978.522623570809,8393.042808563418,7587.966274601121,2338.711952545459,2413.611546546961,3129.2670464542084,3587.2773632806798,263.28005694695287,5236.1507108997575,3301.1754928677638,3328.1580086672093,7338.378385218343,266.1449480291445,4990.703249355157,8040.010184080543,6264.610776603139,2984.6246142156397,3782.0989345597113,4083.004841078994,7049.829413037819,2589.825808309276,1361.2318547441505],\"y\":[1977.1907674330646,6461.686590312861,4926.185748725385,8159.602873333392,4563.847426092454,4905.658906269506,4291.824465758187,7170.313731392233,8442.451022854892,2813.807114755398,1358.7086934647873,8057.398844014936,7211.389911339442,4029.9287025846697,6480.701237044044,9986.554528263276,7237.836947404156,9389.652476678782,2518.224611500566,6224.447777245096,6691.940795632812,9719.410480543467,8974.272205389883,3485.4265383420334,6402.775850094912,3816.1165493674566,9715.024299756657,4248.5911968792825,6728.2478488663255,3619.7735225905712],\"z\":[9839.338972588277,824.828272123418,8078.419686142352,5754.1142171318115,3364.902356233499,5822.5532434773995,3991.4910125300084,5885.780651612748,2314.8394853258005,4842.541314663811,4733.926724552381,9940.43115447751,9517.105032723279,3726.3717008005483,6280.995001440402,4114.556152477011,1969.9828950757637,4489.651676940447,4231.246194007858,3834.6762992151616,8980.545868493115,1190.3223489605919,4718.222917503171,340.9866960002028,9448.936216442122,9413.994395855887,4704.9629896645265,2410.397236023822,5649.849810394002,802.3993659937767]}]},{\"name\":\"series 6 (F6)\",\"data\":[{\"name\":\"series 6 (F6)\",\"type\":\"scatter3d\",\"mode\":\"markers\",\"x\":[2181.616842938453,9884.319300286032,6653.61657899887,7107.68375075618,2733.772077697902,5129.425598768814,3132.7884992572,6624.4133447896065,2708.842178932257,8335.017868421088,6716.160488292368,9532.795971932594,780.1373705341797,2638.510398407353,1280.6697377158239,7680.771360779696,9093.006987056504,5470.940921855536,612.6251576495812,8639.260624993613,2374.7061252167136,3227.3055652186413,6723.244936900456,3483.998347637799,8399.406766427514,7391.90303703548,5769.4899736984,2689.028664164197,6022.0322222308405,1586.7714748370254],\"y\":[4009.694055373647,4761.065184971247,7629.370915834549,661.6823810952955,4514.517255062392,7800.576393137014,1304.179302732802,4907.054735168148,6457.252051269517,5044.584468888511,4257.760792267549,4746.537822752391,2723.53626931679,1627.8093777249358,3158.759878220321,3853.9066742189243,8309.040905857524,1292.9379538127916,8870.691070221514,1539.2968966256071,1514.711828336439,8587.426666526611,2807.975802655178,8462.706817578037,2302.667439700483,4203.396114885753,9630.031689281484,3258.0766815094084,7341.862246686399,8548.812567604036],\"z\":[6315.224044184952,1489.14859182814,9251.149862038825,1382.293148779017,791.2547182907425,2508.7029686443875,8338.385673505925,3400.5116435181912,4245.825919411087,4255.654809225154,8737.736031285993,9036.32166205364,1.1890115416635094,799.886129731765,7263.361445181654,8407.356929436455,8408.446037030448,2532.580989489702,2526.176441772772,349.00656508910055,1602.2439305537862,4300.219135238201,3901.3842026620573,7772.305919070796,4153.762615570403,2493.274744598325,4788.013946049975,1206.422048192981,5669.6659754540005,8126.060528581142]}]},{\"name\":\"series 7 (F7)\",\"data\":[{\"name\":\"series 7 (F7)\",\"type\":\"scatter3d\",\"mode\":\"markers\",\"x\":[2267.6991343424957,6317.054844701097,9206.950281143978,9282.045333611832,5748.450620184078,6436.216000790261,5008.388928971183,2949.3613247359294,470.194225727788,1695.4870626412799,2510.5396176483287,3234.1152642128945,7852.359220279042,2224.0003113795624,4836.043368716932,214.5019916161328,3579.8181003190643,4054.023015664593,9054.214947862123,1286.6096126121606,6051.995837862834,2871.1735698236475,2378.6830960266816,4753.201835529613,2360.9804505188936,2552.929595402451,9168.112606208299,3619.6475624202194,6317.981723912516,2558.235876260212],\"y\":[6105.796646712846,6086.559871010218,3213.5038665188754,662.6567487622248,3256.1839383526094,8066.600849347226,8975.111708720273,5277.660117531888,6831.161059475237,2203.2932961237093,7177.682646353363,4649.259076872589,5446.182531689629,7332.577577357201,5964.557261880076,8600.380533008607,5406.104502698462,2103.2352612510517,8354.015830461618,2162.966768828909,2132.8417745317442,6560.1985518304355,3634.019905963788,9439.962260148966,4231.738437154464,5895.152315500569,4589.176823970344,343.9703987756504,3890.80157750056,1281.7230307390914],\"z\":[5157.404294765124,2478.515438388579,2316.7206254276616,3737.9471675598443,5779.777983848062,5359.477297581539,1733.8504294420763,8296.592454999734,9185.570022441552,4418.411973766606,6107.115253516293,7414.306772609833,7645.498420101894,7786.10767842896,1197.0418448824594,4513.449878571743,3829.722459229987,9723.873534767446,814.9079736545639,825.8604135365855,1323.1333136624146,751.688153067509,218.24966171221206,1295.7004557156993,7579.011440327003,6016.488360248138,9471.741612268539,8198.906968499174,1633.1280082381838,250.50731628031397]}]},{\"name\":\"series 8 (F8)\",\"data\":[{\"name\":\"series 8 (F8)\",\"type\":\"scatter3d\",\"mode\":\"markers\",\"x\":[9295.725641958157,4349.673909730347,1253.8932607319753,9788.721799143957,9434.434896964556,1289.7780447459872,9370.161511779068,9546.097964352984,4898.218246395565,1694.4515838673967,7596.82457912648,5599.482409653714,8568.844209516046,9378.89639425543,5469.338865033897,2075.602950995796,9604.219835655947,4752.4229475505,7601.8450991986965,4415.807270998525,5838.634816566838,8342.593385366708,7399.557385370572,9769.79215223541,4946.899752972546,99.62946473187073,5184.6165138990045,9264.724982694288,3525.5183812672085,7591.747553679993],\"y\":[635.6082550009612,6202.792535615716,5441.291211771265,1914.96315620449,4294.477784785224,8859.365443355478,807.5270073568586,6166.307186827743,560.5740659361147,6485.589939033201,4770.289070720085,7667.279327325298,5070.078355984991,2363.374064406644,921.8792033007239,1774.759189913927,2650.0901238076513,8317.369695447049,7606.0253018575895,2079.4863971247437,8140.153323741449,957.691538597939,6639.002132033177,9067.606217647433,1290.025429015097,1108.756571434506,3043.182140140074,6908.6769941238845,8671.004768772937,4373.769261170713],\"z\":[1274.2779763861045,5933.916033599927,79.15106282918583,2591.015567896278,8120.806665289847,6581.3606471312005,4262.24574732647,3057.2728063901845,4964.066939333258,9110.003816015786,8968.35510066058,4825.277999690223,2409.188517917705,2222.861267764816,3292.377481149212,9126.344823889885,8432.579999038611,2889.311147086915,6087.968576374364,4025.854029969054,7138.36353222673,9119.943403756813,2815.7551246705993,1788.4847494339517,8976.154757404956,7222.543671718785,4614.764376574584,1111.6958524829056,4844.8059558458535,5155.727405047273]}]},{\"name\":\"series 9 (F9)\",\"data\":[{\"name\":\"series 9 (F9)\",\"type\":\"scatter3d\",\"mode\":\"markers\",\"x\":[7612.50944586971,5380.1075303278,5891.5041493492445,3997.1306411598684,7530.190981035975,2400.0699409076665,8012.872262617774,255.95710919568916,4492.9843439746855,692.849712436715,5074.496045366632,2785.0666138872625,5621.404939863921,2356.5074013373123,7687.557366244505,9385.684136925125,8458.253144626216,2750.67577581717,5016.026734581418,9848.201583858723,6576.661693879799,2815.0883883095426,5535.127358202241,4135.4272634261315,9818.277395448058,701.8574617629503,8921.553547910044,6690.038243901978,5526.632428608842,5583.127012799747],\"y\":[5328.190695415897,435.873563939021,3869.2692400113992,7989.881287950893,180.84595774977342,6943.101238741222,9883.203364618048,7844.3184394996715,2331.770843517932,2440.1819599098717,7231.820720607018,3467.3487243438294,914.518253149934,2880.940468192942,3827.324653040596,2274.4094609151944,1566.9411835947155,5112.951319384701,7451.36101330627,6616.934582842593,5823.909906907621,5343.829942269691,297.4678867375191,6283.457151326004,8428.587199901809,564.9161966287796,4962.507255404817,2543.460568258278,6070.868612411904,3367.225515322676],\"z\":[830.259470438911,7298.736515612582,7633.856383922392,5672.432588152946,9018.867808061746,4901.151555253348,414.00754560232286,2302.0451616301384,6104.8453585425095,3502.3586812552153,8977.858711581825,1020.8164176048584,1689.8624966409216,7420.134593560862,3327.99175535984,1715.8313197663033,2542.5576076616185,1937.666136445907,873.182077800323,3710.597499236067,6526.12306740978,7196.243065229768,2332.4208418535086,6863.860234756559,2813.4380290827744,8398.462762821786,5149.782788481871,9065.74938272288,995.0331131901524,5408.188752920377]}]},{\"name\":\"series 10 (F10)\",\"data\":[{\"name\":\"series 10 (F10)\",\"type\":\"scatter3d\",\"mode\":\"markers\",\"x\":[9256.868116073269,19.260731080088522,601.1870785451423,6015.144048173812,9091.813929499447,8782.961330824757,4287.974655424074,3626.166552677945,2668.6401963224516,451.2028006714519,2478.0961742284835,1951.7890274354877,3187.955512570807,5561.011566059539,4600.838474580772,6375.949300296249,1189.8180544642667,4340.221940755206,2241.5295687049006,4128.27687861374,5571.808249009395,6749.305430175995,2489.3669409897257,3122.541393506808,9930.142648132005,8419.738061043156,5563.5155303631545,2381.490839553815,6628.912541564643,2054.6428825152475],\"y\":[9400.88442636923,5337.447561518536,4762.3098024817045,3632.8333305063843,5305.010203345917,979.6696154854989,9746.957004027861,2845.2723500248467,2983.9860597921165,6813.625389637678,1666.2318897615892,7593.353073163892,346.3982973513113,1903.97378611992,6685.7365341960085,3091.301837022109,3277.7393868174045,7892.177875987021,868.8331309453723,7140.388048129682,3285.789282473335,811.3235824481169,8543.425367456657,4480.521252732501,6381.967385849584,6764.854553548395,8005.940910581131,4775.204682051753,4856.67659319378,92.57576552805457],\"z\":[5795.725062080641,748.70410798486,4710.17298838973,3516.4184231229588,7032.831360935188,5269.683600841577,5416.516952078314,5940.098585114498,3384.4511298521584,8763.448872082705,5426.6657341305045,5070.944920753309,2109.9977905645483,1235.329080019819,6357.797391795158,8838.809197657129,9332.12146687247,6400.622404286399,1169.4579346224832,1706.1141140095804,8190.698946798673,8941.91296432652,6793.149395688995,9394.736172305822,7859.106945405686,9752.469550721522,9660.487325679303,8299.557656817851,2536.8535265957394,8174.814260311179]}]},{\"name\":\"series 11 (F11)\",\"data\":[{\"name\":\"series 11 (F11)\",\"type\":\"scatter3d\",\"mode\":\"markers\",\"x\":[3366.0718495698793,3915.1669195943173,479.90888622473915,4706.449309491431,1304.7330607084684,5971.3237088897495,1889.840681968984,2420.117729033585,3538.8291539897377,6654.446918272117,1055.1250389247157,433.8609842571328,6379.785228884954,2286.5250002160765,2522.7718168612323,8166.534247212695,5209.0840289978605,8139.48901033392,3275.665883935207,4827.323634788878,5917.430354511898,682.2264666549971,2900.7929001225098,4613.204401309302,8006.826666782195,1489.0585221293672,1555.7847463440112,4426.169786060992,2878.817010293232,2282.641287862116],\"y\":[1175.9825169630678,7572.447710350761,4123.166097181335,1140.8937482010783,8811.48450383933,3868.817374946619,2724.7625852522297,5766.694063272968,2243.4074912399315,3856.5230398028084,9022.544154875342,900.727779251178,7100.861622167948,2411.181119601303,4982.764371445341,3452.0139224149416,1584.8966070835036,4937.4568653497245,4889.932921351267,727.2699442855924,9602.95186503849,7550.187067074669,9912.27608471111,4259.423085287539,5627.098956088133,1169.0087486839618,2164.5829594914935,4167.213965923416,4911.6399764891685,8291.450982698487],\"z\":[6869.815740318352,6721.978081152525,840.3840858118849,359.830162625836,7011.879712107855,854.3317694728692,7121.193435818134,3100.1861994355218,3475.463093026968,7702.631749176072,6305.15263647783,6986.884612064108,5084.873519624513,986.7160959534204,7679.987425973288,74.39957908071281,7182.312040884912,4984.574197839943,6972.114269093026,838.1869016715848,4427.044279017061,1196.2371926591343,7488.978656808053,9379.441278004866,3350.4392570127384,4398.3176428141605,7343.098070104637,6373.928230287857,2867.8659756933876,3724.2709944957273]}]},{\"name\":\"series 12 (F12)\",\"data\":[{\"name\":\"series 12 (F12)\",\"type\":\"scatter3d\",\"mode\":\"markers\",\"x\":[221.49287441993292,482.9688319775594,6426.952884077358,4649.5871000043035,7798.9588668261285,6595.045037429125,7762.7286086509175,3317.767422447675,340.88988196032346,9229.388943079475,3333.681140096051,5512.078500704622,8301.14009389876,7708.300144462357,8428.785646322161,8759.715243832374,1792.66501717369,2292.8403889672754,664.0672779756152,7549.148217226846,6693.456868538777,3376.9309121540923,4128.28490597225,8448.070407064166,5847.553072722943,9047.77733968191,9790.828735770941,4028.495640441724,1330.658946260036,9845.935117799514],\"y\":[2950.9492804268534,1937.2086914277752,9072.19502016947,3396.219258978295,6485.946845562067,8193.900338911537,260.34280275790576,5731.050838263995,9446.964832465088,1855.9648907181959,4903.931064973041,590.7283890007898,4154.548141683659,1558.0795388699707,1684.7664786738903,2760.495752230551,1362.1448413242288,3116.321531914951,4806.281659978733,6592.176301416633,2284.2392403634494,1380.7241019663186,2929.137103479079,6258.527586909233,8326.827992203067,8826.809273241943,7481.680079261928,1.3641646162587673,4211.458790195134,7995.778665524575],\"z\":[7642.929131038437,6659.88836578706,7850.073407252061,4824.682504321495,7118.018105292705,9103.5561984359,806.407347915199,5152.027922030538,3460.798509228229,5844.195896308073,6470.717637977059,7240.930877163435,4145.567611726816,9064.993573714577,9178.121435624,9031.05000873166,4849.652082767314,4579.34195031245,6416.853113795117,12.190812238509485,4480.841606441321,6820.445620437723,8001.248387089595,4106.600548684705,8368.439463291374,9862.96392888553,625.2939862330409,1753.6189749756647,5733.953866337604,3690.864335180799]}]},{\"name\":\"series 13 (F13)\",\"data\":[{\"name\":\"series 13 (F13)\",\"type\":\"scatter3d\",\"mode\":\"markers\",\"x\":[3566.0899529082258,6509.491666897244,67.22480318563373,3451.048793893449,1472.5865538271644,3906.789755275716,1356.0457204188203,8270.20568262189,3153.4758170141054,8062.024381997398,7252.104440606475,5362.734493234267,1069.1338579995358,4576.68016099126,6203.334865833559,4620.475113668967,4836.024936028574,6646.039963676587,9342.531652003567,8650.368630656827,3467.98992133545,4971.803487413097,9494.35544394505,3314.066084883007,5307.365912225122,1068.6533502054597,5047.610232741989,4223.8905757516595,1639.8910578691396,7861.5556952536635],\"y\":[3636.948209925379,5362.450417352992,9840.869617734548,1089.726840192975,5587.92179292049,7018.594455286187,4566.084867703163,9964.835635650323,9901.563689940556,1570.282052640768,979.4643121912727,5775.152889835867,6189.447371398212,7295.3421272150135,2300.5189066444786,2684.0019370919167,4417.442300326509,2353.980271015007,5058.08937717152,5840.001175090421,576.1449023648146,3362.2812688575186,9352.952995944024,8098.230598517867,468.23171511864325,5563.852513981902,8160.356195990829,8145.600612658953,5687.747831332058,4507.137010021333],\"z\":[9244.556641282112,9630.332750731963,5563.606573922108,2348.819225547355,5610.972525729055,3014.611126693859,6349.346191364387,5429.136936429653,5587.553216406489,9301.098045990428,4263.450741979623,3602.803610933132,1605.4986665328775,7528.152353338781,2119.31104058402,5959.63200827233,7540.476776407961,5985.224702528333,231.1655007904778,2031.8498447688028,8078.993786720749,469.0511480613102,1042.1269245293408,2360.4762739767148,9990.599803279109,1582.898907169128,3492.666786863963,7381.030913848416,4415.116163886138,7075.268307868421]}]},{\"name\":\"series 14 (F14)\",\"data\":[{\"name\":\"series 14 (F14)\",\"type\":\"scatter3d\",\"mode\":\"markers\",\"x\":[7532.694680012432,8989.22844555884,1315.0966311539191,4521.08542234523,1377.6337393737692,4860.2082108634195,2097.2412884594405,4267.569726120331,4118.664997223582,1620.236502017407,4072.5056967512874,2498.594261342799,4119.56861955858,9307.707863996864,903.1576411167086,9515.502615551419,9267.367962455057,6210.669355706589,6476.050966577594,8888.982670395444,8591.235801559209,130.9722680059422,5744.904910059424,9005.74000555709,6023.899370720994,9400.556524632748,5000.386654986847,9715.357057922565,6152.036246753031,4563.254409381056],\"y\":[5755.3163221986215,3276.8560120004163,8686.9264229425,9535.899622093631,973.3275963103316,611.1374622983434,3083.885831828307,9275.411737574972,9722.827395575989,984.5936699871083,7248.7766517128475,9503.917575180632,6504.12707547426,5680.845547662603,4592.154017164951,2881.8679944541236,4476.113457607508,3961.689690507774,1826.3700826086404,5169.488116963984,7599.865299881266,2674.980134769853,5848.231598293376,4379.800722541053,5320.1187580229025,9236.315919739307,1809.5603377070267,5701.847240364021,4821.51054049161,1393.0407348470962],\"z\":[6050.284548538621,5060.61936242722,125.04138373160222,6173.20268146818,6953.443719699313,4580.612064254869,4331.215603339335,4728.766148194776,3978.760683964595,3932.7950126864152,1169.8316635878814,9401.504451979774,141.20205776685714,2570.185149019163,4682.411584913405,4271.643901635643,6023.207276312782,9195.10743322027,1341.7729641516573,693.4714832545585,4044.0391731735103,6451.605935617557,7204.264180342301,4878.758257098182,156.9683567069724,799.3676086512592,3793.700999795684,5457.989984483666,6404.775628153354,9800.911592222617]}]},{\"name\":\"series 15 (F15)\",\"data\":[{\"name\":\"series 15 (F15)\",\"type\":\"scatter3d\",\"mode\":\"markers\",\"x\":[332.04965493469854,5131.038749421293,1836.31648305708,1641.6804841192334,6660.4301857265855,2013.0518700414457,1171.661690553807,4603.068993673117,735.0183557179113,3087.967821452686,300.58898053237135,7421.311330997487,6935.94442386918,4301.219440642338,5208.974146388356,4990.53929823444,6593.305779253179,9254.815996532849,6249.88484364741,7706.21640607666,112.91794445510428,1212.1436961397258,2810.9569672647626,6895.540199682415,875.4536334456186,1176.4606977454405,4376.88955261627,3244.3005421686466,4686.127095038049,8176.202466257923],\"y\":[2745.6688571398067,9905.066052597576,4968.103070296312,6571.858271613032,6729.3873452795715,7059.467027544561,3121.3177312011762,9193.317877278838,5055.3017831857405,107.73087438134543,5509.425135017546,4423.224357043602,5380.025142521846,9371.517271258315,3391.086940010617,9961.018521410599,7339.530013446627,5221.491814177951,9777.847255697423,5933.990741596381,5379.888935082492,8878.966282322164,7679.346060160625,5265.80547433067,2748.456522784586,5791.323382125786,7487.641191463871,9769.598539738223,1472.4576492416952,5443.838239814032],\"z\":[7355.92395338171,6301.888645217811,4411.712489997974,8745.896378337527,9342.932529932968,8495.19084327012,4544.493883674252,1717.4979745876306,5822.87458533087,6081.35089113188,3530.2812924657233,2102.330846457261,5201.697673432302,5624.267435309829,6290.4369074817105,3746.5873335309443,3334.0515213197673,3599.808242700995,857.6007095430826,2108.0813870364523,7201.30684016228,5192.363451411539,3066.8582802712363,3098.1273879446526,389.51168146639236,9921.62479056211,3796.5125803946144,6609.0191636880345,5697.177604175843,8269.81569679566]}]},{\"name\":\"series 16 (F16)\",\"data\":[{\"name\":\"series 16 (F16)\",\"type\":\"scatter3d\",\"mode\":\"markers\",\"x\":[2413.5439196696984,5542.846143760399,8806.309843039018,1848.743650474607,3838.6184703671024,932.7730350797847,8366.102492228503,3327.6773856825216,8217.764541763312,3835.7971110129706,2067.248097223101,1337.2026148367445,1572.604854641123,5076.391538023023,5325.8106165249665,9870.845235220533,2998.2968842409964,4633.331147001134,9049.14212060897,1325.3892775078157,8988.100918118136,3487.3888252700867,5622.3276809781455,7252.462734740606,8285.75875531891,2085.482087673819,7732.1649668580985,1138.1037181252484,1301.632107752807,1227.236953828862],\"y\":[2936.696798698406,3083.655997740986,6575.819647672043,3142.8310403679684,7991.834336665089,7130.489120754937,3031.2284384680597,2806.3663608091083,862.6208075443908,8152.674436490401,831.8501839677461,2116.909777928957,5075.2027648745125,6735.892825128572,5546.254637670346,2479.738934265635,606.591874214485,7267.488121799473,13.572654767730619,4533.207585799252,7862.815118247768,6581.720196963043,5819.0219490664485,7292.053653407922,6462.067360076773,7935.914440377346,1608.2742017598794,2815.842076612024,8517.994705384273,7837.3452312259815],\"z\":[8604.745030014821,6661.648684100574,6909.256174594601,1297.327476945409,4641.146620719933,8842.95839838117,2625.0208276702224,4458.137816150921,6776.404433665054,4792.163256785501,1692.079283411383,2220.0195297753867,9141.315454751477,911.9184684115811,1417.7610844159726,2489.6734345113027,7041.080866833264,4701.019412954092,7723.86405209759,7978.273327724326,540.1179563617598,5153.342051317888,200.32029247984528,1096.18426138131,764.3202992567067,5153.788660933812,9173.337359222269,7423.20906752149,9978.196686741083,3933.0637719670967]}]},{\"name\":\"series 17 (F17)\",\"data\":[{\"name\":\"series 17 (F17)\",\"type\":\"scatter3d\",\"mode\":\"markers\",\"x\":[9561.267470894216,8477.317509398577,2129.0948485767003,4293.504148658137,9582.477979315907,5061.468192140973,3997.9678092626536,6281.066913157905,8483.005209483312,8337.259757239335,8355.920230326685,6253.982127585554,6367.794435985651,6955.797060439578,9598.027790832592,7886.457269288227,947.8439895756596,5070.2957200242445,9210.692685617758,9546.21502907008,556.5842808955879,7861.591162295047,3126.0627090075986,697.5403645153056,142.34063489998894,8326.855205476486,5526.808634490112,8506.896574587747,7109.744053611103,1513.4660841622583],\"y\":[3986.817992551326,4666.063593026423,6861.468452656555,124.12036533484772,8968.129148058832,1598.1460839989215,3682.689826827733,8475.91237750957,6641.6977852359,6674.683684198149,1214.1781683468544,165.2481034304587,7759.351071812175,2847.488603454761,8175.948129746217,8472.10329176778,6876.550046926163,4186.728128313684,9231.911328395036,7531.274311006101,5610.348904847557,5217.158240645125,7926.984828212121,6604.910959631912,814.2036760266236,3657.305526692434,8481.633246265234,9409.761421703442,3561.0474047582097,7191.7848307691265],\"z\":[5894.83004074824,5384.199921842533,7648.318759217666,6244.833129372332,9284.942770265554,24.250666884925167,6973.389991531212,6373.526329036615,1689.0643594181643,6974.455590943563,9575.113624857833,5862.041218064805,644.8239370861697,5428.583876476923,2396.9646338034,6373.7108528779,7794.728254445295,2576.81259233554,4899.529284438071,7105.51700958746,2481.6031222558045,2330.154492367343,1534.8483420281357,5790.049056036466,3844.71479062511,8359.54631906839,2792.3957580286074,3102.852580371792,8279.671014616964,1606.1533100965542]}]},{\"name\":\"series 18 (F18)\",\"data\":[{\"name\":\"series 18 (F18)\",\"type\":\"scatter3d\",\"mode\":\"markers\",\"x\":[2036.2345596026644,558.4817262974706,4291.213718436853,9851.086603722373,675.1604955753498,5816.456134489716,4746.535186672576,9676.867945322565,7342.4056940961145,3468.7214263816113,7327.761628968597,9209.620643617365,7708.745252631606,3843.091786348447,7585.762960433435,3400.1026583864236,312.61187587821036,7132.555975483598,5413.468843265079,2283.342965112025,363.08872665557266,5248.209192154322,4985.379372043632,6650.776713894879,7856.420346957141,9193.969536246777,250.97973686903475,4875.420233785319,8543.941684988444,5474.125593591896],\"y\":[2923.281499435293,9249.767834140499,6299.096492820841,1070.1515633447257,7569.730241125422,127.72742966319584,3253.475690439677,2861.1231724407726,8891.231348586585,1406.059891851732,9706.579653491419,4012.447962851058,9566.067492163773,1437.422672742259,9261.266418647218,6820.523907047527,3138.990872314322,9336.259389436373,5896.61703626698,8776.324644062457,5351.791569331954,7820.421315792584,8762.217516016593,6198.8040098113,9040.161391680906,225.54232890250714,7362.615662610936,7689.399675601323,2262.6819843165626,1135.8320448373272],\"z\":[4497.983682726712,7871.8109561642605,6681.288684266977,7194.09475302167,6836.778279366227,406.61072569015965,3378.572364496141,7085.4162748435465,3318.4579610307796,8108.147046850709,6275.798021046262,7433.108338400927,9719.082645213924,7141.578245255045,9106.536513303074,4402.135890701856,3659.8848190666213,1740.777373085376,504.32004358494373,9174.39469355759,8098.669153978182,5663.228019012266,3178.7457893674696,9141.84950344226,2916.1619987480503,6685.931714330136,7382.971837807879,5657.679519145887,3594.197472295656,846.7331706664039]}]},{\"name\":\"series 19 (F19)\",\"data\":[{\"name\":\"series 19 (F19)\",\"type\":\"scatter3d\",\"mode\":\"markers\",\"x\":[5916.562253817587,3492.221601211518,3179.893090480591,3848.355779578113,7761.153574513335,6759.641401016393,8739.735141594645,8067.84319618171,112.43132730621608,1012.9040944071432,6329.753579755811,4951.979012204401,4050.42395529146,1448.7542325891334,9142.74217466333,4229.656311458918,7381.131030062801,2721.057689231429,1940.7332969430113,3335.0593611613776,9286.01982591719,6729.999750854753,1140.7118400375205,2710.901719803864,5331.948922615469,936.2696833341632,3993.8157056525592,5248.869034828165,8122.575819798007,1243.5091079788085],\"y\":[2183.030546900222,1024.7930774090853,8413.340169698282,298.93584132486774,4861.661505843791,1698.981416774824,3865.6139384013945,4181.199441282976,3664.6220156124286,2477.516260461844,7781.63628036596,7876.165849549622,7546.8516971395275,3368.2242773379103,8140.361091910809,2685.46414006079,8437.934250724893,5615.413084628816,8045.362193662314,6769.275910094001,9649.259888200111,3660.3593857621654,2299.45757799504,3393.982399472667,7729.834576096088,7749.922962943782,1236.7277610917638,136.92983605234298,5039.110860264174,7403.553284275953],\"z\":[2171.1213019681218,6294.709516692684,4689.974303704164,1349.3470585749978,861.8540519549889,5047.994070670002,1712.2915199245458,5252.699999407468,249.32646939373691,1555.1097197557374,4297.185539063278,4586.495651899874,1381.2965839904034,8078.164490625937,6804.474602007767,6329.657695194495,1927.5632680447952,2489.695144945928,1850.473110442442,9831.28230978818,972.4308972714713,7064.432874753891,2240.619096957267,4140.466078565049,4877.738536870859,329.9329766922066,4771.16285819853,6377.325651027192,7925.25892301706,5931.450078905632]}]},{\"name\":\"series 20 (F20)\",\"data\":[{\"name\":\"series 20 (F20)\",\"type\":\"scatter3d\",\"mode\":\"markers\",\"x\":[6996.407689082846,3308.6003775597537,3175.779543041519,8960.582801190229,4942.77068703192,6191.623711400325,3523.2019377939073,2003.8537237487208,4448.186744698462,7163.329373225556,275.50570759578454,286.5277523383558,1315.1526489009514,3976.3616278468508,6760.441162471578,7718.61795774291,5787.96891299352,8722.238744775486,7432.329432190129,3394.1608306544967,4999.5017260023415,5331.9156335574835,8747.368145624507,1151.4922825237638,2980.0620160145454,106.9814718969575,6678.347216690745,3171.3893032094843,1580.7489738505542,9310.115201020551],\"y\":[7155.708896467946,2271.587524478269,7235.886600282409,7931.318118425295,9950.386019898773,6550.320576900436,7873.936705520026,4146.827442460572,3554.8827894353017,4338.175865235202,1483.5430697071495,4700.51015687526,8472.566127659837,7036.690441443036,2851.123686763213,7462.924785120131,8991.15938591982,2353.764132442111,7808.695466191374,8761.128189471781,8994.942276897016,690.0968508887628,4965.383839086479,4722.699509286227,5661.175461886832,2987.503910790429,3343.326931625574,7840.33740560884,5989.787801591471,9219.102747749212],\"z\":[598.4626673277415,2238.7856449713286,5031.375312373673,2883.0017724798786,578.9372704276208,3713.7232489647554,1407.0812395698463,8355.26893786517,858.6546224514025,3512.6544228535204,5254.936398066098,4764.590728392099,580.7396579865531,8040.719708708647,6090.76143272138,2170.179998561951,6455.460922238719,199.74072064795735,3237.7422873812066,3256.126422682093,79.42132622745012,1906.7026864856828,9457.309441916757,6499.526239885381,2877.5924561994793,1488.2688611823469,9204.966076832783,4826.370289644478,5917.030561569728,4110.8110771332995]}]},{\"name\":\"series 21 (F21)\",\"data\":[{\"name\":\"series 21 (F21)\",\"type\":\"scatter3d\",\"mode\":\"markers\",\"x\":[6538.224277827119,7138.303732884512,600.8819912488627,8180.834085761612,4119.8275097077885,8775.021779952851,2823.5507486763536,5738.556748217307,3987.950843421049,971.1946051715558,7552.662183342549,267.8084316234841,2806.0845171382875,8673.463737774393,3000.7277440739854,1058.2886640432698,9158.826567797329,702.1913313586481,3559.1799446074356,9281.627113552731,8125.822476103371,6174.279683096748,8489.70870533837,7280.571519668209,8844.60490361386,6347.5258029916595,9002.602702585551,9221.024809008073,4064.105112194992,1603.610731553823],\"y\":[9799.057542337881,8219.540628795141,6794.121795241513,9155.967278109643,2414.183301332431,2334.277127265585,8072.046690897824,8250.410235535235,6769.708767014041,9395.299466045786,1596.6663446413377,6120.550218567599,4230.14332781848,8550.515991380385,5519.870542804105,9766.66067511646,153.4236415932111,4616.416615604948,9040.617088228133,5745.796338768524,6436.840942822333,9848.178162278171,1611.5151311355214,2592.615874483355,4881.306750923767,6581.590687400279,5546.908166456856,8234.490756355366,331.7806900847264,3349.6487047383803],\"z\":[8612.350248301505,7821.12867654559,8498.95233775684,6539.540623363195,1778.8871719238718,5758.078878188834,7127.032480499051,9431.165404608933,8741.567008557573,9415.12901405781,744.775471926844,546.1873472314271,8030.126051993138,974.7405594003844,8621.619385775402,3637.0425842530494,5580.801615789907,8192.313329506887,2748.0974667556825,2358.1870861654143,5491.7505025237715,4459.210180503146,7669.43853262788,3687.280549085492,9350.558436134914,3491.1093135086744,6823.541880235585,5501.880305982283,0.8463229826716212,4208.401341018424]}]},{\"name\":\"series 22 (F22)\",\"data\":[{\"name\":\"series 22 (F22)\",\"type\":\"scatter3d\",\"mode\":\"markers\",\"x\":[669.2749554394084,5367.61859065813,3905.992726989015,6931.976392431913,338.3090987041359,9556.71800388989,7371.508691059326,2886.9001207348088,6803.475455168615,3591.1005358669668,5803.616093425818,5188.1064565333945,9628.88710716513,8192.228033926005,1910.095583781235,976.3871716794481,1251.838969691771,7420.2077130024745,8290.48807831394,1179.5859298742528,2443.764730335309,8997.583879537366,2216.246758392948,6493.056987761033,2107.292216977883,338.6289947676613,5567.454498461049,5605.082853737638,9888.708152320263,7642.838772021072],\"y\":[871.2336178164915,4437.087537112525,3219.907041784136,9561.724502619234,5177.99719967611,3225.120755369907,1351.1626031569735,1410.8868987108247,7115.19802119488,1638.2334469705506,7695.828599798782,674.7497268298353,8874.255321534723,811.0012601320071,8380.343223875987,9639.214972159487,4114.848121051329,5161.595255567222,9277.669096285166,6387.90074444609,4811.784458373118,6173.439230540004,5999.577072826455,1110.5061277179052,4923.169064048435,4937.634866133281,1332.937628764287,697.2425956746065,6424.609709476342,184.97276281042252],\"z\":[2427.458273260279,931.1593462556644,3732.7126880722417,3780.4953054237844,5677.062266399874,2240.58395956231,5832.142953793928,6210.2086206397,684.3783394244418,1936.7855498598242,1524.0297895725064,458.6893339297371,5957.569476699594,3137.3620521483913,2129.5213107240497,3857.9687895947022,8060.99703391897,8163.744535832818,7710.805741122798,3982.21776690176,2825.985451352392,2101.5966411232866,7412.930044247885,6469.397912279721,1925.2122917967774,425.7845673777927,1883.2637036840272,9770.182276866599,624.01736376404,3116.9792608403745]}]},{\"name\":\"series 23 (F23)\",\"data\":[{\"name\":\"series 23 (F23)\",\"type\":\"scatter3d\",\"mode\":\"markers\",\"x\":[5891.474993088071,4256.094977976935,2844.1935955873264,6534.8451355081,2251.394797924715,862.9519721406153,7810.579184616705,3463.1583843609424,3937.1648784464965,7502.332975733449,8498.043967737109,1205.0907455394788,9889.58253381964,9842.950831701088,5856.227315077762,7382.283879663276,1424.5652192340774,6745.426978865476,4361.646545492803,3179.2311018010423,384.1795962814543,9628.122832227838,3831.5635859321405,4174.871581202256,7211.689943294809,9348.314593370194,9631.264853527811,9616.196065464246,6985.601678343746,3802.143114274732],\"y\":[8416.170211711142,2014.052123514154,4113.687730670965,4378.41035580292,9372.455943087713,279.22515496849985,1866.5008554926444,9645.431799866128,1554.642220213256,1267.2676247678583,1220.8931262194567,206.79808761595365,6365.859477985032,6563.434226995551,4587.57954188096,9531.038882983657,486.2742723919233,3614.4741829752993,3912.7947637604498,1741.8213759064095,8627.424096887255,2901.9221622093314,9372.610129725204,8849.45777381387,7374.968361581232,5751.918168604874,4419.494836887564,6711.136560098422,1079.6376340013458,589.4808642656624],\"z\":[5294.21889392782,1126.432714472475,8265.923553865427,8970.545244886132,8282.211190045295,2906.290853198642,2350.316939663273,6562.969980698185,5972.0017219166175,3497.8218939066496,3595.670905801971,8398.106150741763,4564.394451369437,803.8857303194724,175.5273847086569,2177.4176425281676,7884.529580191487,8205.579319022769,4982.015093833064,8194.020338303559,165.01403958774196,8477.391118835383,1383.1886096969338,9516.9145171632,8896.808520855517,8278.915407095905,5520.446264124375,1486.0618724774122,1085.582411738556,8213.671193419012]}]},{\"name\":\"series 24 (F24)\",\"data\":[{\"name\":\"series 24 (F24)\",\"type\":\"scatter3d\",\"mode\":\"markers\",\"x\":[4933.931312952916,5279.356734485396,1104.7565354631915,8064.7030072929,3313.5826685904212,6337.928908031425,6002.475034789142,6748.284255584348,8995.76916358453,4774.10654531603,4598.259153736361,1771.1876987783094,460.21020354856336,1536.7589910038425,9996.112542185028,3533.6196616520874,5529.14444945875,1071.6290288720277,1244.3667650328694,5689.06706157823,2230.478448185577,8489.65410760808,8788.564123033995,3953.9343532702464,8358.914153997695,6844.1700576167805,92.19727375210485,2253.999779328093,3653.814476401368,8018.27586478639],\"y\":[6341.137785392164,6901.350985829638,3209.835593317538,8936.535251731002,8501.102223684977,6614.608599527175,3246.121713311817,3340.5748000952985,1163.5170628964752,8626.88073044798,682.1168919619158,8206.034908088663,5593.665590428008,8870.038233943313,6102.822651283712,3028.716663765887,9186.008837635518,7280.533117391217,5643.591205235048,9670.657541690172,7135.092110270348,7641.132746331231,1084.3071088483268,232.26706291889053,3546.4640091713704,5054.574580995557,9015.082574089454,504.5308404559501,3440.5497998192536,3139.2919454860457],\"z\":[9320.352670476219,6955.697087260253,4143.433968970889,7343.999936603919,425.5201599051295,5919.737216186709,4412.030016777938,397.0721503592123,3760.075488786915,4679.2725728357955,2307.1227475139453,838.2779280396635,2713.366733458288,5473.543572157469,8306.286214368458,5824.592409880389,1993.9775656354252,5112.391038780991,8439.702785226062,4958.432021393285,1750.9233063171514,4840.109862448395,3335.413175191634,2755.8075954048077,7074.6490661782955,7368.425600883193,2976.551288776492,3553.5248107080574,7568.073022248071,585.7350949040274]}]},{\"name\":\"series 25 (F25)\",\"data\":[{\"name\":\"series 25 (F25)\",\"type\":\"scatter3d\",\"mode\":\"markers\",\"x\":[3701.6322728591977,4148.714738341811,3562.692452913383,350.1414615142562,3519.972069151174,6270.598792184291,5252.024185212705,7986.70855657364,4167.8419394869725,3103.550380099671,8524.427664348288,1634.7450993147638,3496.9664540583144,1512.1462683307295,6599.617851219509,4428.824391983644,9765.498216832026,4363.043891292035,9707.94192154204,6647.631385658766,192.6131791870478,5395.163150339481,5998.761872267047,3427.624854403204,9741.38568674967,2458.789519230109,5624.047783017454,4413.887633693144,2510.622266487235,3625.8547262472784],\"y\":[6515.552721823024,6808.432521122319,7344.843435235864,4667.799512942717,4758.709529515902,8676.620030497948,1312.623166519864,5704.050621851025,4663.647958652046,5085.23582432809,9557.007463317948,9443.298924079976,3643.5036597603153,5671.164065865011,7687.751800517122,3371.395606330119,4832.45326613922,8577.48885915067,3363.6323364141463,3483.8274876807704,6010.67186506457,2344.2395653637873,7004.097747777029,7717.377716374467,6850.684018196137,4303.890342005252,7673.0537089421605,3104.7088086307194,7759.332785495756,1307.1173801155978],\"z\":[9093.572861270479,1857.2556569048782,2661.8674695647637,6192.200520133224,2480.8556333843935,8075.950842180544,4959.412927084235,1311.8546901607042,7421.767548974553,8595.94643064413,588.3432119257736,8644.161576021097,9382.804812130777,8590.63871391535,4619.860286073145,4539.6650052639025,2594.352949071913,4991.939699479537,8160.329558248776,5994.583829373235,37.61264656866214,8527.884389085408,447.7023263009949,4490.485706001777,8051.595013012725,8235.297967230204,6986.6137203084,2903.658139416342,1681.0898494440053,674.3934171250631]}]},{\"name\":\"series 26 (F26)\",\"data\":[{\"name\":\"series 26 (F26)\",\"type\":\"scatter3d\",\"mode\":\"markers\",\"x\":[8324.510440098657,762.8015348792527,8302.539991177611,9753.805584986872,5643.432771251418,3221.5589708801485,1293.2557415619629,2068.712441706495,8726.83589155569,9512.792766277267,2550.4362175510164,6961.331256572999,9058.10392869114,7364.400538088991,2519.9620069621596,132.22105491623836,5817.176317799256,881.8644533224518,9060.953699800211,4562.463245498899,5363.968393499436,740.6066907126174,1950.598317548957,2750.927737093446,5432.037861646366,7181.623766847082,8124.763505442915,9827.482631509814,3703.212122650001,8266.759265290926],\"y\":[3853.437291631988,7972.134578504918,6693.654916999144,8125.364283221807,3966.040611167121,8751.736127779739,8954.124120498731,2511.986832679639,4970.184632735391,1480.033430122303,4471.927270431623,1895.1238637003876,8448.451237410636,2513.4691129860807,1859.3564464186873,5509.95476573553,3471.2961599619184,2514.294081857157,2423.143251354509,3333.374013483441,1930.1897508742215,6144.185530217606,5531.746746692944,6777.52116509142,8673.622882404592,1395.7082331063698,8832.044278363854,3048.40743764627,9119.62384739587,3825.5926992475374],\"z\":[1814.2686261698716,2579.1206849266455,621.9479895604508,4322.953057713299,9983.797849538158,3722.4835447829187,283.1136194007455,7727.196874560387,3470.6673148229006,3975.936847775483,1135.9790709074268,3604.5328382848807,8292.44144234141,2411.7945176921653,656.5664241039759,9798.609160286316,683.3501915502427,3698.929137110195,424.3556368028234,3989.9668678126386,4912.356249763732,127.31639582341359,3412.2886118266615,8430.628135972254,2835.0876086998487,4384.773147061201,5867.236073428254,8264.280081881072,9059.33716716486,2485.6059261630317]}]},{\"name\":\"series 27 (F27)\",\"data\":[{\"name\":\"series 27 (F27)\",\"type\":\"scatter3d\",\"mode\":\"markers\",\"x\":[4032.6981912706583,4399.156941698401,9051.090971951904,3213.7794074587455,2069.025817573066,7769.863501824271,8767.820266132096,7718.606509691993,6442.460310676383,3006.021698010013,3478.0300010492183,488.85147323859735,3782.811852556619,6019.766093014847,310.8291779289785,831.5248196592639,3750.6079180756324,1830.7508718182264,3776.549345979486,2194.5474807858222,5808.059574134334,6066.476848501554,6009.204081537913,5197.8416423191775,8954.210001104328,6007.378961966934,3803.8501348842856,9075.305983776563,6463.143609693022,4790.265929242898],\"y\":[2656.6746443671686,5380.518441871458,3455.151632232326,5440.337170357541,3962.896553792947,7271.899600539639,3734.266031877216,9771.141957519532,5287.3418772242185,7468.46476487406,3741.5845690906935,873.4946558460022,5194.811320822651,8055.178850119827,5702.331836318455,6908.490196953432,3512.1282399690544,5717.32314299007,9085.614498398763,8226.410280089169,5091.022017588031,6696.167995431073,9349.339073416962,9452.454154640483,150.7604379088079,6783.64189925109,5608.787174944233,3111.8585170606307,7101.721171886155,3011.5763882685965],\"z\":[4345.848511958683,1611.1237742025476,4385.847002062136,5341.491548122871,4566.932615078676,9948.694278290499,6317.202277917583,8623.787656108807,921.0955144293309,2397.5894025043663,4165.612634663113,7370.590202666593,5205.933395977824,2584.114737613843,7798.632785464233,8474.388362820806,3417.305947070367,7880.929392707136,5081.853871724658,9905.002396260868,5039.9789768438095,5839.384770127377,5934.831385185351,6630.298706735816,3629.777388928258,2505.187918700941,5449.674393246781,8531.468462033426,2903.866505363304,9893.086249807508]}]},{\"name\":\"series 28 (F28)\",\"data\":[{\"name\":\"series 28 (F28)\",\"type\":\"scatter3d\",\"mode\":\"markers\",\"x\":[5801.605331540099,8921.569793924777,534.2909647148053,2640.4109380936416,9815.567140592864,6426.43312429846,2630.912782313525,1915.9541697048098,0.2153540154825606,7449.907442427209,5503.414246166026,8029.799039466798,5620.403285252799,1220.8311157008534,7708.038220159096,1871.3618408248444,6951.529635115184,4506.985639671273,4613.2583860490195,9297.041162268504,243.88962058075947,8481.694674567203,9759.588139084006,1895.5194002090393,9122.427029713226,5941.613408624251,2142.2508980797606,2177.8912778150006,8157.060306685096,3099.6449829957473],\"y\":[6211.449330575168,1171.444531564313,2161.015400070594,6514.816491279821,1863.4895565812392,1640.0510511954292,409.3619323549225,2371.329196435462,4987.02894563541,710.7723856699832,8417.224868589716,2281.8961894110435,5232.235327372031,1555.421094092253,1176.894918474436,7065.866987931633,6586.655202364318,4957.462933358365,825.3404469945891,7540.528782852189,8070.111815371449,8088.781667643363,8598.377751895983,9264.36863031714,6401.963617223446,9627.472067745364,5625.0343655521365,6383.966896662858,9847.569959975233,7466.967606026722],\"z\":[9625.3899961713,8261.585633800345,2616.831607485651,7698.445508071321,4897.463231574793,1398.4063119433276,2166.1815148802298,1292.5989904458302,1113.461983722268,8318.758867955292,7546.423157528263,7963.500704241339,2392.990862360571,4543.580411218419,5542.32592937068,5066.42824637757,1880.5716807048034,4556.724813036011,2765.9052788827607,3063.156912012439,8627.09797300289,7755.643890513695,6093.828579809102,8082.37078169612,2959.6104451652805,5778.34330499875,880.4023525432392,6409.479904515456,3721.0460462315154,3311.4109837793317]}]},{\"name\":\"series 29 (F29)\",\"data\":[{\"name\":\"series 29 (F29)\",\"type\":\"scatter3d\",\"mode\":\"markers\",\"x\":[6231.118619128913,5359.276187750021,5771.3813734928,5509.309281799097,9287.745091557314,9916.496796193265,8963.850976781481,6493.005286931279,5954.464020542717,4773.506450453836,444.6930733537824,5046.4104797374575,3785.582671093354,6950.952287720635,572.13597811968,5591.990673996026,3858.847687420861,5056.382142279188,9010.109056339303,4802.29410896051,2374.4160306064023,7417.460988423418,1624.4207596363203,6792.040765157592,9448.050177675446,2820.558795375697,693.9192392961658,2735.804531397914,2108.117691546999,4392.123622989525],\"y\":[646.4126623348476,3969.209659164731,859.4965816108424,9279.397034409783,9038.890692834062,1156.9553427709268,4343.497510845591,4218.6661748319075,7823.860560923604,5948.870554111107,4601.433474104975,9823.388445834467,3078.365988624984,5695.596913376715,6240.481576261889,4481.1676122276485,2319.53625176736,6258.378785064507,6403.9977269133315,2117.6981544749074,7290.26635849302,2722.843310825663,8864.461205140266,6767.435473110798,6670.902271956853,2914.528063226264,4785.739004140645,884.8909270201966,7557.5671973468625,4014.321075045784],\"z\":[4742.379476177964,3637.094135079173,6745.032582587987,8284.85577454466,1437.1583972244684,36.89722845200083,2861.8026014125107,9944.299521900575,224.1138203691295,1708.4478032076156,8227.344837991419,1561.8666440041495,5022.827779190388,5320.287317599257,4936.167889428766,4999.770633669906,500.7206851211565,5278.179391443387,3120.710599498373,8889.231890112873,7503.648981761853,3138.911521483051,604.7762767224297,1903.5345619557554,7631.101468258566,7387.949788867831,2231.5027370240637,8679.029227002571,4580.817747613371,3717.974104088635]}]},{\"name\":\"series 30 (F30)\",\"data\":[{\"name\":\"series 30 (F30)\",\"type\":\"scatter3d\",\"mode\":\"markers\",\"x\":[4034.638128285123,3135.3588757682037,4428.654767335456,7751.958165059314,2119.1437693513526,2159.0846384594965,4363.054914111334,9273.596559548734,8626.920674402169,1140.2698900334917,9559.47630164013,9459.528178370627,7485.71878223856,1689.4800147016963,858.6655340002835,351.9400550550733,774.0523681245326,1013.0408545182579,1703.6687955980844,8866.779325745534,2482.2130244495843,1887.2885447967824,1393.990252024019,6001.94262996486,209.2356540929219,1947.9401812891895,3131.3257886601996,5591.448372393434,6907.938789405714,1098.59860277426],\"y\":[9559.81135657289,5945.741397959801,4174.92823018573,6242.798455731886,5544.748754655871,2024.9233036965297,5779.713098167604,3256.891969134268,7787.274025550604,5410.832900032774,5136.8578380986,7146.461209044281,3538.4649974708104,4275.551235895552,3247.3489288016576,2666.8363062429303,6154.887644243454,5788.042823735234,4270.130440809895,9338.687761850355,3528.6026512911994,8957.282504411014,4332.021582345074,6752.554674578114,6528.168533949162,6779.363228349472,5443.996450510823,8331.557230890814,8503.190922826194,2737.716017130557],\"z\":[464.0750910921965,4309.436106135153,3633.4871065031293,8199.718582146583,6931.835982541571,7581.448788464797,1444.9454055233357,4059.6039937000137,7296.828247759636,9298.54801029953,7167.6810069766725,2096.727319561978,572.9278734180276,4600.652423701912,2778.099227114065,8949.883636840368,5772.945235758645,2722.7140559670884,1544.9973341908574,8352.517318722872,612.5611288104549,9857.678412925736,9690.847981636762,5330.294229257254,9919.930364626385,7623.318826759378,2382.9275129772586,9431.66088957244,6947.05629627349,4755.324355891318]}]},{\"name\":\"series 31 (F31)\",\"data\":[{\"name\":\"series 31 (F31)\",\"type\":\"scatter3d\",\"mode\":\"markers\",\"x\":[7684.963619339057,2743.643402369057,7351.314051512929,4736.903563666969,1328.4944060563942,2439.2892376470622,0.25326792050028857,7475.564185361693,7204.147406275204,6909.787105390581,950.0872430956841,8850.6137704277,3326.5588902496524,9153.451025175842,6958.034721475185,7980.320316485912,692.6774995292884,1025.381731086076,2710.9504502425807,8395.561878385608,2931.701387076109,7195.7755160994475,1587.4419284108633,5957.182821903017,7935.919983281371,8221.474491350544,3217.9394326731003,3317.1682048290886,8765.249670269413,8004.50604426458],\"y\":[2366.9489338607073,7999.136277493754,34.259284176363366,2092.993404659542,2733.9870749217666,8761.540197804386,7719.0070246558025,9773.9606406066,6154.455785817055,2807.3592822915894,4862.017332753368,4714.197847645799,2378.989376811834,4616.9562561410285,3007.2493222136186,6024.48965639597,7119.564359611459,5706.157073957381,9362.918208959165,4054.1555776970026,6372.932194017374,3449.5137451562186,2668.5497836211493,2966.986398797152,3166.699168827175,6259.0894866144545,6533.664136730683,5206.304422118271,8820.645236311175,1872.0036969787602],\"z\":[7618.996340328682,1326.0163689846881,4575.634995002192,5275.360409395516,7447.184259535913,2346.1649132827088,1014.744801954034,2885.077701918165,858.3620790951419,785.6292401979637,2085.993652768672,9995.524957527827,1167.1187090968483,831.2645240051286,7733.326465910663,9229.764338918898,1930.7937585309776,7721.910001765239,4152.274777525,8745.583718057766,7905.100218747748,1357.3356847430252,3508.9721060741863,290.40325922864764,3241.577612988992,9386.340186506786,5595.9794505134,8848.520654570206,3272.3966132161995,584.8515896211582]}]},{\"name\":\"series 32 (F32)\",\"data\":[{\"name\":\"series 32 (F32)\",\"type\":\"scatter3d\",\"mode\":\"markers\",\"x\":[2345.632410678664,7587.056282977317,7331.548699943481,204.02374490257725,2381.3922189515656,4082.3517233238836,3977.4756067164008,5149.961153319952,6859.948282506138,6396.456842767288,6710.702037623879,8350.846173754368,9741.582188736436,473.74383989618576,7821.05576268278,8473.885263178929,5323.572953619884,3540.564361034827,352.57305564200146,3273.624666477287,3381.186586700168,1716.268045008904,3340.20392944628,2284.8381472469728,7583.057704689736,3881.781840545143,3450.944636803588,7317.315434059176,5982.539630604815,8002.347924238707],\"y\":[6953.04486782658,7266.535779113226,3333.862779123734,563.901690159051,9540.447751302594,7123.338571525991,3741.707049117736,4557.968545894144,7955.641969332268,9747.352979582056,8725.058695751955,6537.842461076283,6582.6143770992785,2963.0835642134834,160.99244271549296,8669.205854175905,4222.614259401591,3844.192700647787,9771.276346527127,7411.236076769579,1118.9487391050034,6670.65856539827,6824.4739651131085,6489.638429140835,3963.051490102244,975.1304184313692,3548.471902551733,8160.931733587487,7092.576380538702,1338.943931885318],\"z\":[3383.136994625816,3417.7084796263903,1383.2885679150709,1154.8943638198461,650.0670755645888,8747.477172827063,8440.035832479229,8443.015905819771,1476.1637337517764,4333.089137778675,6608.104026746619,2987.245486046265,4880.028746539864,6170.639105411889,7054.772767507541,554.9990666749904,9814.94145757515,2481.123952765233,2711.902823219915,1768.3206346657166,8659.44813600245,3005.027587795905,223.90356413134916,314.41336717892955,156.35489413217462,8294.400644204747,5211.447344824532,7614.997118218089,5123.184645299769,4954.883522525253]}]},{\"name\":\"series 33 (F33)\",\"data\":[{\"name\":\"series 33 (F33)\",\"type\":\"scatter3d\",\"mode\":\"markers\",\"x\":[4139.80481512487,8818.075941752646,6391.921849636448,1940.5201700174357,1871.6999627133912,8032.348010991901,383.1355120094082,2467.095795712191,2588.096079005374,9093.62119154309,1479.3368911537807,5885.125180885074,3176.3354317918834,1834.2440564998042,1934.6930559613807,3941.506852324241,2413.5775486797893,2820.7022403503956,9442.983913256385,6259.249884599854,6314.492355845448,3831.1680373072377,1682.954309838911,577.5715079090771,9865.68211337338,963.9348068402054,2169.982177729316,4320.05263577626,8035.319561659596,2199.304984911236],\"y\":[4565.243097202998,5396.4307033847535,4425.008181739576,1481.6465128354805,3228.325535271872,1793.9972230128499,4221.884290198526,2944.966574224468,6246.5076382711195,1477.4632878822601,9212.494306884895,9774.496025839586,3433.6800888191055,6391.539773135552,6536.0033387085405,8378.418813308566,5864.158738184329,6948.376418682895,9582.79594623773,38.02006369606592,5391.401572048075,6282.3892562661895,8985.557877830513,9011.166977069273,2298.906497192513,6767.900121929041,4003.430984930392,8183.176459333064,6740.333604874684,4820.400821027751],\"z\":[9765.859112557917,790.7692052374382,4948.161864090721,3840.1456345753736,3821.2535360593524,9488.941089980335,4324.952793371483,9307.166292845677,6226.621264293706,2087.234575993572,2478.564027074428,4499.692996753265,1017.8189957085337,6651.023218022335,4022.418334139415,83.36158619733136,3316.1083722902986,7345.071040589668,5534.196163550516,5906.465801381877,5555.2035168851135,6390.762337787564,3451.09454925548,8736.91812048369,8354.018618789172,6815.045661342749,1877.0515116472952,5389.4617739483765,6413.840209700431,5288.26727564152]}]},{\"name\":\"series 34 (F34)\",\"data\":[{\"name\":\"series 34 (F34)\",\"type\":\"scatter3d\",\"mode\":\"markers\",\"x\":[7287.103490288664,6717.075233660648,7484.662170825623,4279.718887569374,4936.314445628762,4278.39552466882,2923.935008428037,8003.860414166046,7415.47179067514,8143.380906821396,1662.0042151364867,7186.816429422614,9243.016208276398,1262.32162441152,5492.02130902184,3551.8933757278637,2642.437026077956,3098.700848605268,2518.1267204447468,6104.499048590453,8726.62901386824,2814.295017146681,7324.223842812759,7790.98787200494,5195.472025075176,195.29751567748943,966.6779958556249,2912.596284508693,6350.162719672688,721.1355046938039],\"y\":[1247.783662903683,2794.774983813438,3737.591719249399,9703.045153125508,3892.8694655967734,9643.862721413803,6060.323085721025,9257.357265338378,8232.415826568233,6267.187248356173,5122.505072841964,1028.8389292434351,6781.582693866829,2389.322740382984,529.2969383631663,7042.325150200332,6713.057536131787,6666.368995125643,9617.173924329965,836.2652171257789,2635.1491347630563,7181.763181250726,664.7260140854538,1119.702071687062,4315.570349519045,2201.2690678431945,6818.342099653216,594.5901289665123,32.3657155580992,7271.439187996918],\"z\":[5364.430999298928,3298.247812303174,6086.958916812345,4364.97429561581,1989.5959588970668,4846.135218129792,5680.3073126862655,3708.054078106072,2492.4501502800645,1293.0336426555723,5831.669034441154,9168.850756418484,5045.519661652381,3981.096635324535,9310.50124036615,3643.075305743073,4552.952295338894,9706.133896489895,9655.527398841152,1741.552015647565,6909.509218585023,7808.874940315618,1271.0227995632172,3266.451457064348,5038.590466041643,8385.8585190679,3318.8853296626708,2456.9586261382215,471.80377155877085,8714.974910241925]}]},{\"name\":\"series 35 (F35)\",\"data\":[{\"name\":\"series 35 (F35)\",\"type\":\"scatter3d\",\"mode\":\"markers\",\"x\":[5666.076932713379,4791.789441783419,3929.8543949408695,8203.58721518117,7500.528620849497,5255.11008404813,5874.301373593662,5692.540683328901,4394.6283846724455,9404.057191838787,3321.9876050996113,6787.268542558452,7573.91735428972,1320.1930054599297,2348.718381555949,3037.5847595019623,9939.641019469913,583.8734899746989,6656.030532612172,9250.648376758147,6997.316716772557,3779.6476866800313,1334.6556350423189,9996.978804391592,7259.490854000379,4722.445694228552,7530.551458600327,1457.2849093213558,5919.382133412187,1588.4546524179066],\"y\":[8104.135973278423,158.26366064944142,7633.113830760049,8441.221525989698,6570.62944860243,5858.420193212429,9101.761173882833,3262.6646214222023,1619.1718676517953,1870.3428622817187,9810.452071197753,4530.312781896952,7330.649213189014,2443.7636836888987,9760.274278027433,3626.234462333241,4848.929733355973,3484.124431994011,6319.760302340226,919.7588508730792,4707.473950367554,9844.25532993615,8426.236235643491,9235.231153717947,273.0503683181562,9702.170265364828,5283.33418660428,9597.686927988123,1840.554518988039,4125.866869358368],\"z\":[8429.484713839396,643.4660975293672,7797.689475184003,7826.415721173583,593.225898240115,4889.435688862751,3975.541674264267,5313.507464250785,2104.6712847596714,2173.622470509056,4810.839875200281,5193.025203705493,5798.505621580356,3011.7034141227873,267.9599381399489,4184.092705273821,4322.384450822102,2357.9395273964055,603.4989972399296,1583.4427055745814,9555.63483607973,7315.781590669066,7003.508867039043,4367.84304694831,2446.6643670961507,712.5131877019597,9883.244517408957,2900.7015322653283,2993.5111809070113,6133.940567209241]}]},{\"name\":\"series 36 (F36)\",\"data\":[{\"name\":\"series 36 (F36)\",\"type\":\"scatter3d\",\"mode\":\"markers\",\"x\":[8211.551705339734,7296.870476075005,4320.468997705013,9009.278980577148,2606.777038613973,4900.054188590949,1844.7502425335472,2643.0235969498617,2148.356069524362,40.11850972207354,8380.659676025207,7709.736605031653,9857.99752840713,8262.98865992558,8694.763834562562,8659.319048645051,4626.646874862168,8563.717378421814,2504.0651350137646,724.4818075018478,7998.178926027937,8803.688119600645,3200.198548621609,6778.7661503246045,2668.036522106162,1455.816585493881,686.1854954318259,4162.605206550533,5814.793900011684,9097.000667851717],\"y\":[628.2986904165722,7776.562780299128,4454.892928590018,1654.9575177001052,9154.102505357881,7235.021308009811,1895.56345719611,316.98187065317575,1568.7531329386052,2680.233575491496,4058.207813503113,6221.048223642407,6015.155358091058,5975.79352432923,1954.2877139438353,5575.067390601298,8169.590573451458,1430.2232209077326,1918.0300685605234,6688.003705661121,1042.9453270997003,2945.5106183313974,8335.019879627705,8546.945556234576,4748.684588895739,2542.076096023028,4553.024016142907,5037.114214174276,4702.232344911712,8580.78507900298],\"z\":[6421.15035113199,3677.1872364577307,3132.432752820118,684.2655772740935,9475.715970512763,2830.2018354771,8014.286690096099,2353.9296690871647,5175.9577215856525,6750.695937418294,5573.16964385412,1585.736184090305,3789.9928529897165,3541.63181075001,7364.254811412877,4406.879150332586,1541.1935275748333,7120.044205681474,596.8789774079797,6187.218067858729,7447.412923930064,628.2371636608186,852.107296158161,823.4154378215896,920.260890812038,5377.753816128376,9632.765361166441,8450.380384016778,4638.893798003502,6376.222105733937]}]},{\"name\":\"series 37 (F37)\",\"data\":[{\"name\":\"series 37 (F37)\",\"type\":\"scatter3d\",\"mode\":\"markers\",\"x\":[5288.725851113218,8203.762965715414,8472.551568829162,2762.5862009522984,4776.248745393651,3738.8828231501516,9298.337582094904,9064.104510505842,5438.695291467541,5705.6134844146,8445.501794189284,1088.9042489627066,536.9446763191854,7185.3902766678675,3194.75867485308,8480.760913982847,9611.363441095034,5215.644314757447,1270.9300011740454,4488.166343636108,4923.192455046907,3958.610285461117,7589.473247650484,2337.6384302397414,8201.72801051337,2815.5924830044464,652.2201722028065,6751.61891002407,7714.6937887160475,5844.418917669962],\"y\":[1934.9157224584524,8614.191153716669,4282.715665585623,7206.947197609579,5368.912487330082,563.2458802660245,6274.822769757514,1055.1352455052565,5591.644023116707,1375.6090878373518,7850.417345183243,3258.321824927738,3025.262550385861,7412.040826276411,1754.1735697709094,6681.007906581452,1040.09481768239,101.89888513949863,7823.835876655315,1339.5705815739611,5469.334227866583,9472.661286940942,1036.9046722085052,5697.97622938764,9563.653136040584,5067.378403570249,8400.717621421207,5606.710132008254,8109.185809519428,7243.531410920533],\"z\":[2281.442826642015,2945.7679927421877,2879.596760897711,3809.651144165873,8871.021591828325,6901.708999381716,7852.714899256748,9231.451771845448,4407.111285745448,6990.396969410561,6694.4813409616945,6227.118625960786,8489.595461912104,8431.208479990633,6897.7218198491,2471.7813594111217,3378.242900066695,7285.121355156232,4660.523420680604,8344.096539827746,509.6163090425132,4888.23580870586,2098.755971458205,5173.251869756878,637.3403220411222,8543.928990119066,3709.5499430469035,7282.594897762638,1978.362156332908,8180.974085288025]}]},{\"name\":\"series 38 (F38)\",\"data\":[{\"name\":\"series 38 (F38)\",\"type\":\"scatter3d\",\"mode\":\"markers\",\"x\":[2137.3058960338067,5276.48145930741,1538.847247081132,6741.606375971773,4241.0717923680295,2479.8276467866785,8396.873121371007,5432.64903840365,7221.898903246043,1215.2432425808424,4135.0930177007285,3654.460003452015,1141.0461337143252,690.5095052878685,4845.068613676862,7416.5978078049375,8544.66721018121,3669.5589018929,1165.9710167361814,9355.746770203343,4107.889958822447,4813.007502631258,7673.880206011443,8090.579746982534,7220.9483131176685,9599.672614955185,603.9165283831271,4579.881630993531,8262.307881531722,9078.407587563092],\"y\":[3365.96312016784,8394.393607190153,4938.480343405904,2349.9739546635647,2605.7444186053312,7369.480079807337,8517.494580874829,5641.556857198437,3666.550795246084,9974.862520760678,1042.753792775959,4111.928617859169,3222.90836482779,919.3011471906509,3686.2764995221887,113.14795609922767,8586.011232212666,7002.25032504875,3285.0825207646094,9535.07975139931,7721.748319462886,2031.151567081134,8801.753568230472,6071.904781622051,1375.6733825418355,6742.169527332395,1959.9586333352092,1775.1844692678865,8865.282796281643,2093.815231880368],\"z\":[6628.006681581708,1095.9337353626197,2078.478474943666,2047.0466126770614,9658.250047563199,4768.5452743245505,8008.113185719468,5002.06866450841,1837.427895867294,9352.3018175446,8756.026410621127,1431.2050696004087,1362.8073431169862,8021.600754904783,9356.000636936127,8928.846700701599,3831.242427164644,8283.906325720414,7993.574877775951,4893.628035745139,2113.03878991299,2704.8389206546362,241.67831687678444,1364.6190357887,6679.778451885318,9432.695293963297,8784.55393973076,6152.465334240753,1965.0184390410318,340.0915128420023]}]},{\"name\":\"series 39 (F39)\",\"data\":[{\"name\":\"series 39 (F39)\",\"type\":\"scatter3d\",\"mode\":\"markers\",\"x\":[2768.4611487757884,9338.042946793319,7159.05356432495,5938.303657435652,6396.162762589759,4455.345983397656,473.68817799561924,7870.277496405574,4673.216212879055,9231.950683429286,4360.234415034439,1751.1673332510136,5317.604456777106,1629.558044688063,5423.7178177454325,5400.653249419482,9760.256284355779,3108.738254447286,6848.536223874373,99.17759481148258,2892.527412008824,2536.1602444184095,3035.5847832288227,5400.63504953155,757.7179775417575,959.2144754284316,5848.123832472744,1246.9357698695371,7737.232154775393,9592.086265472211],\"y\":[9373.435314139264,4655.255470872511,9947.988089072172,788.9764829424383,5429.5742099195895,2086.676823477999,9546.208457106397,4524.303983859734,5181.291355291758,2755.315342186383,5423.740577621578,956.3694635789976,3176.4673663308486,2599.916417153223,9386.561502176957,3020.0943462495156,8874.163776835456,3415.295189359341,3321.1466552218617,1676.098516403538,7307.663725469891,6728.891123002365,2082.895635323414,437.50985353810165,4910.636774155728,7408.08729155665,8881.818714242372,5102.550471851799,8731.834240506789,7696.8488428314095],\"z\":[4794.211749313182,9240.076080034347,7273.481778050971,8405.61219963918,1695.0537687526569,5906.890828899559,9010.801825644421,316.25709932804,8384.385714849146,1319.7998440991366,284.8690777886631,5514.381367609712,2971.9370598461937,6761.998327387736,7708.2609092320945,5323.98498273734,687.7875559380165,872.5447031020683,1482.7355621317372,8795.067883115411,5202.866660768144,5649.296878415361,5100.434351648063,3282.528729804379,3271.6039382256145,5989.837612053334,3784.8707459695183,6555.149853483098,7050.0665114539015,4401.552510581262]}]},{\"name\":\"series 40 (F40)\",\"data\":[{\"name\":\"series 40 (F40)\",\"type\":\"scatter3d\",\"mode\":\"markers\",\"x\":[8725.231329821961,8086.338283023614,5796.429257863972,9631.167791301401,6667.287459765528,5703.686719680164,8826.644173467268,395.69095716761484,4746.469529497836,2612.3083249640354,4576.684397240314,3140.8429092534484,8583.435718671915,8957.290446974568,6413.7618525321195,5809.70644777264,7609.72129830112,1553.4982137615473,4442.427019522514,7973.461613852337,5350.824285877651,5186.35924076152,3967.477352175436,1357.7150198056277,3966.3516455643676,8975.14081277463,5504.116715182024,3792.0687853658296,1731.6113527667032,1690.6288072903474],\"y\":[8266.82298413492,3917.224775996697,9342.303644155752,632.0047150006103,8921.896413757266,3603.050681576674,5933.728924959115,9693.109031276588,54.68036564776568,9962.676775863523,8528.199492794229,3586.1703767891786,8280.95300148946,9091.840445748572,9259.099878119609,6841.467572137891,223.01711761704368,9219.324442433255,3167.316891914634,8164.2860770608295,5674.5184835880755,1823.487050637349,5625.514433275024,3005.9205767407716,1194.0452564174163,5451.512250213438,2518.004595724108,9793.360565782375,4096.077388472705,8472.15837243974],\"z\":[8188.724344972949,8162.695959204534,6348.865579703122,3799.4161367863353,5867.096868018906,754.1607765987745,242.3394430685366,743.6351187336165,2791.3205834473797,3652.1304142248423,2855.1594036018523,6578.308862712024,7570.894504199077,4391.274522111491,4328.540012752603,3154.8620574711294,464.9558588617919,600.4616656555761,5745.4911320935935,1954.4106014463314,8200.269092312066,6818.898872604612,6017.635754184037,4334.616325816619,3712.473074929724,1794.3812146307703,3597.7836865103263,2411.391783755061,7766.457206987199,3661.42061871406]}]},{\"name\":\"series 41 (F41)\",\"data\":[{\"name\":\"series 41 (F41)\",\"type\":\"scatter3d\",\"mode\":\"markers\",\"x\":[8064.95030051749,9.357105222418394,3796.5050087909426,5797.406183238838,8669.528860345341,2421.585274580936,9504.105455923078,1867.8481032307982,1779.8397369129536,8338.318155167919,8761.10503784458,4597.1376786992405,6837.295595883503,7235.973789257607,5188.128378924049,9139.158363841789,905.9354425559363,761.9054802982739,4412.973688876705,8572.462113385443,5193.099365428373,7207.0152149625965,5460.942875862606,6007.622224760851,3021.5286181774104,4027.464678126155,2988.841202712724,5069.764917301093,7649.19289692266,4558.365709333267],\"y\":[1146.6407910348642,8107.168373326768,61.66025926938934,1556.4767402600432,6735.570964237879,9377.212407800967,1402.8443324643313,2015.565849840859,4028.66310676852,8673.851071177533,2063.4756040732937,4817.249611037311,6129.5443635452775,9386.169837553349,9612.660749834924,5211.750823433817,8067.536703198218,3815.4829086071118,736.4097222634337,7867.162860915243,4961.890522444405,7728.813844226964,8138.02470016425,3282.4474713538098,4535.237509596753,5589.493898952375,1958.7634969201683,728.5325549808497,7016.124059792774,7681.004864207538],\"z\":[6693.201170307435,4563.521041280845,7042.742568798935,428.0816743777993,8802.23405801185,9762.155685589369,1564.7512751455806,1619.4809375767616,7267.681654482992,6806.333493135388,4937.332381414987,2949.71430342303,9185.96152768335,5702.597300684609,7411.409339796386,3322.4337727929487,5164.32475540463,3824.1761361880845,6046.206572910913,7696.047138919662,4761.655763041216,2519.285433758084,7705.10029031398,7902.533490195182,506.8587328568119,2984.040157438551,2242.977304990752,3833.318569403554,131.36354112296854,2767.471826099456]}]},{\"name\":\"series 42 (F42)\",\"data\":[{\"name\":\"series 42 (F42)\",\"type\":\"scatter3d\",\"mode\":\"markers\",\"x\":[253.0816569335925,5661.460156055402,568.3050474176976,457.78491318736127,3813.597886422746,357.2846670187435,3999.4403932812097,7593.12436685915,558.9778315876737,8655.007110689927,5771.88883882017,3646.7698534427127,1098.2962946565044,1840.7566364638062,6360.289694338426,2055.812743348493,7312.672145289189,1257.819045232227,4715.995908195203,2694.009429545247,4386.06875369325,7262.803665679917,8323.428817900627,8933.649725325387,2558.5453242745916,8516.824838689485,6074.741473135996,5497.91588607703,5538.301514934294,6958.683816232773],\"y\":[3677.4498060630667,6674.350246243117,1268.6200711020356,8582.430121541483,7725.7101903213725,3141.691001071706,7318.079786265912,5229.562797372809,3794.4316081813668,9656.471822797372,7547.175726478404,8006.5318871843365,5956.433385189077,5152.4298129466715,8901.74875235614,8651.087657568403,9976.370070342617,1424.8969111271936,7193.395067690726,1196.4142315189874,101.16231284523548,6503.9991118078415,8549.28689802034,2619.8750139791036,9845.187424075515,4064.6230506848924,8848.606081828491,7813.593874980439,459.5025701367561,777.7524669491287],\"z\":[6910.056205102038,1176.9752657281397,6877.881718987078,9376.918339392589,8454.680993189795,4406.671343557992,9848.471984845793,6395.143897644976,6940.490552312969,7647.378744434709,4688.38249271914,21.910102757198846,4250.153669424338,9067.255792550237,1639.5427060905188,5336.305758854151,8910.285174845294,6134.62368324341,157.67185631348713,1291.6660141950765,2030.6220816487407,398.02225533148163,9632.231684536451,6258.64840407898,1473.6488857289532,6409.568605050069,2013.7337866059502,6677.829047232964,2899.9926962562663,4581.965352065636]}]},{\"name\":\"series 43 (F43)\",\"data\":[{\"name\":\"series 43 (F43)\",\"type\":\"scatter3d\",\"mode\":\"markers\",\"x\":[7615.801980136164,6429.548463596956,2282.1836293806587,7232.393108980594,3962.8975837666358,2897.8739359925744,8239.133101127378,6841.912040440361,8970.635733240306,9387.186057023671,4115.951653707183,5646.888985269901,3974.132846682817,2544.0412347132324,9118.495182887045,6079.356474782024,9160.843993512599,7743.593829616347,5009.292561529449,2286.102433847884,3817.86259485388,5019.016131179237,9881.269569979824,3981.6762028629782,6469.672528858236,3043.979993922017,3347.9573077184323,5228.392371517485,5460.854646209693,8922.41354373022],\"y\":[8123.634328760812,2386.7979076623415,8829.270224408596,7096.389234755143,1414.1138777229712,7442.966720618971,3418.755420830183,1552.1285355883163,5798.66272519289,5194.369017665359,7096.378374207879,1685.7628395448364,3355.7941725720984,5363.957417234507,4667.826801518144,3684.6209522552062,8670.448792517385,3612.502424387024,7625.5063580575,6086.459602356481,6057.341380886154,8632.098788541947,217.45059373207698,298.19070800962356,3845.0161880408127,6029.154728524404,9491.15476287861,4287.302514412441,3887.4204339393236,3543.071005947428],\"z\":[4944.962035394951,403.31001955521197,7604.571240073235,6297.199665487871,4210.649578403478,6343.211969852756,801.1546241039902,5241.5709539257,4794.373248301209,1644.072961657015,8271.664103538933,6722.261676569856,8319.147706992238,767.4874448224845,5772.950610190497,6200.172742738408,2940.553669573339,7834.826482148108,1329.8184037543115,4542.370307925859,1648.3800250889212,7378.8033705155885,36.57451748368068,1022.0413225463565,9020.424406082624,96.04407070854637,6527.1941064575885,3188.497795923104,6660.689777421676,2516.9761663730205]}]},{\"name\":\"series 44 (F44)\",\"data\":[{\"name\":\"series 44 (F44)\",\"type\":\"scatter3d\",\"mode\":\"markers\",\"x\":[7109.041877530422,106.56105455694953,8032.733028744757,4753.504952199405,9189.844366114232,2115.04402280448,6689.933659048222,1041.5715068261754,9074.882252834419,7216.941430124117,8007.970294459074,3664.8421596224844,471.1302710188092,1489.3293385779793,3440.8040369036753,2027.4082662427295,5107.344197238856,8488.863358063858,8049.9892776318475,5137.520643854909,3763.8550567810958,529.1592095618669,6598.137803306608,7571.026501832482,703.0995345080471,2919.227093515627,850.893390941354,6102.308402700151,7001.679993083561,777.5224560945138],\"y\":[897.7717286908493,6622.178228850227,8607.012233359665,6874.066793234611,6280.751765628417,8706.304245096338,3076.3865700361257,8103.485177193938,8510.509284478221,8254.406336196487,4903.53257509219,7654.690758988355,5153.706757336606,6989.582118285288,3097.543538230819,9718.345626448903,7090.760516993251,1288.7724084098973,6251.280178425671,3661.1131735066683,4772.035549558651,1809.5182214863669,9721.145738502204,4996.107294049217,6341.415547492496,9684.795449390838,6737.377993310701,1191.8375082453435,349.7292051029721,4676.859269256695],\"z\":[273.78469110654225,1387.3376199054399,8446.51782406372,5612.667712773897,5328.099263701806,419.0553957558674,8917.148827956871,3667.5977555527384,1898.9125904132886,9215.473690585006,223.29658288042788,4620.803897341713,7392.391135672082,5578.323008566798,4808.325240698337,7074.7141462967475,3451.7657097922283,1644.6345219053037,7345.123526979921,9812.793116147464,6274.836538336217,6911.777023735459,8332.462212362052,2963.8511809108513,1369.5058080517751,8608.006420811354,3486.9523604865403,4447.809972244312,3394.6170453832824,4403.953779597545]}]},{\"name\":\"series 45 (F45)\",\"data\":[{\"name\":\"series 45 (F45)\",\"type\":\"scatter3d\",\"mode\":\"markers\",\"x\":[1731.2056931038178,5296.980881174486,9243.143977489808,5985.861549919271,9744.808794151419,4878.552734078799,7847.038419192233,5849.27348035586,9023.242443330271,9788.125797083485,3317.8105168015836,3822.272388557033,2180.889138589811,8240.766061033568,8984.18385501146,4290.250447332609,8837.791184190364,5155.200974025209,8647.930128005486,9869.586162491465,7845.833536465384,1808.41411150803,7951.25416848379,2365.496413427033,1838.546304334181,7932.0345201635,3133.8686283343577,7249.719030446533,2129.7318754967177,3428.5658798649256],\"y\":[6655.159273445962,3606.573016725443,6839.639410503981,1504.6312466911127,9166.610401747348,7521.335068177335,2793.429849145729,4950.05494384689,5141.9238440684985,3222.7611603577056,2215.1791293920373,2535.7446359182045,5107.031663422983,2941.971551838407,8531.695367531638,3059.9749472503336,859.4680064921456,3412.808684459433,1703.933032719872,441.81348872165296,1326.330475521882,4214.17207963786,2419.8057073786085,4442.076203210393,5782.327667660275,742.7153001546549,6210.713955618581,8086.33171007346,8034.176277899851,2504.6925352888506],\"z\":[3095.122234557438,4671.122880239147,9874.873910893162,5628.623160458173,5706.031376515205,4353.709297806553,4621.142181739781,7025.8392715815235,9025.211523407486,2757.2753368069502,1869.5985245951097,6463.870155367213,7825.574375435803,1767.6917267375325,2741.981821207593,1968.00474110435,3714.0787378237374,5754.558780242633,837.0226349487319,3429.2724433964563,2271.083635180475,4818.3946757175845,7866.312595490334,9072.461219036688,2198.070533673271,347.4822942017819,4523.796328551245,9525.695467494405,2614.1798218449085,7162.020619178858]}]},{\"name\":\"series 46 (F46)\",\"data\":[{\"name\":\"series 46 (F46)\",\"type\":\"scatter3d\",\"mode\":\"markers\",\"x\":[6523.270747106176,4633.475833384742,1683.0172963337498,829.8690379498174,2935.547651457375,8867.97929704293,9604.706032661088,8357.31907362492,8966.695414978632,2218.8101552859653,1674.169663238213,5389.959948075536,8141.04536881087,4779.276426290865,2585.1526162072105,3302.8515817087346,9487.41120598408,4897.664957050837,1450.4983256549142,5115.85688678245,3774.238714406597,2724.8706276382995,8112.719892291109,39.12568303839237,9099.165007854597,3265.1352532122514,5234.914518278096,2635.363320542667,210.73411852267188,5624.532382419259],\"y\":[7390.588492167497,4079.658879848231,7824.783234383898,8052.234071583052,7911.976838097162,9804.286461603862,3895.2737079865196,1582.4788170471338,6609.953218922395,9935.035580076861,6309.113197939665,8610.55372037644,6644.646196962708,6357.265587150819,1796.7774294594628,6573.998361036334,6804.388733074728,2994.021229739392,8985.305785027507,1060.619347605306,6241.649855451082,3935.186221781157,4467.510684177305,7127.803211887166,2318.1043788387756,7425.792370304446,3521.008568833676,2393.0042293674614,8627.020291253642,2403.243333474804],\"z\":[3682.9410387650487,543.1703448880221,9489.655338510365,8267.34973868969,3771.0267580092104,9311.265532040552,9263.367540012434,7873.717773570972,3138.844782776121,2680.9372075599267,9652.668249984346,8360.171580964523,5963.01746483813,3105.763055953654,5880.449942264553,4347.525758170951,3182.2289092310007,5867.410825140781,3055.1482513488604,3300.1763090304394,342.77715074393586,4347.4251444831625,7360.606032236249,3388.605994009504,3052.6263830791977,1950.2551902356447,2798.925215034862,65.05025575736845,3005.688551840945,3690.5228505297005]}]},{\"name\":\"series 47 (F47)\",\"data\":[{\"name\":\"series 47 (F47)\",\"type\":\"scatter3d\",\"mode\":\"markers\",\"x\":[3132.608404329734,8745.2061088583,6610.332881562686,8045.418866780052,400.80606096062564,7483.0070501433165,5140.885079839524,7573.516171794596,5925.50311260759,5332.130828835839,28.141902829252885,5014.163881646587,7076.992326760019,9207.041446027182,9414.699075517572,107.03307428361674,3233.997450774502,4488.015425332426,2423.145309186797,1209.2614848262228,7352.327872877484,2358.7360047892034,5719.954070735697,4938.045786008801,5346.956911246411,9921.683819186608,2905.157914980554,6529.414137881112,4095.9370182056264,7505.6895005392025],\"y\":[1017.6640834471617,3379.304707787014,290.5764804867772,1261.6595586874014,18.33281295525402,4320.967746978386,6584.8186546005945,8136.622244477425,497.70375246453114,7593.095093658329,8537.785653589739,4622.884663196199,2052.5259745784097,1165.9772999977802,5696.95373022471,298.2281655036323,9785.008536637995,118.37573023576908,2835.4534428769616,2104.7171566658653,9200.974657518333,7095.686124226532,2835.4964929289304,5557.8295143114765,417.8721379685768,3530.365885096629,1000.9513478776211,4634.26176131026,1040.8522535724196,1268.4834887562868],\"z\":[1685.6020407472217,2955.9018673754476,3324.8998517705495,6521.639530009445,2039.6407849757625,5069.102266021753,5313.261353524494,651.4027797522159,4405.462880395389,8112.528352805479,7527.181352621779,5193.7912464617075,8434.845253774452,973.4950316789293,6479.22758772092,1744.2210239013855,6353.108158433534,151.8484647965157,3792.246462093695,848.7364700669042,9961.870981746128,8982.087156053076,5028.25758346622,7885.224446902161,5950.535062235065,9608.560761177134,5466.365097319652,8068.707426577895,6877.6363987244,5165.221070135613]}]},{\"name\":\"series 48 (F48)\",\"data\":[{\"name\":\"series 48 (F48)\",\"type\":\"scatter3d\",\"mode\":\"markers\",\"x\":[1016.0218843943569,7177.700469772653,8786.729259171034,2980.5453323251986,1211.7553189223895,9374.007490591028,2837.4766414982887,8309.88916310089,7807.72699248028,8576.221500392263,7561.141263449551,2091.6667515649347,6875.259559772253,5247.58852341769,390.68172643060393,5530.400133220675,4503.738793458238,6171.779358432392,1969.1789517803181,8928.818105401171,6215.0546667304525,815.5098233883174,4406.332578704715,2122.819991392525,8024.018471573369,4214.835765596168,5131.27827442662,9117.274338791567,2711.9553153083566,2972.3446606759085],\"y\":[1280.9992930684566,77.24814799967005,8327.935335101472,7915.35049603811,5667.1167786574,9698.410372911923,7191.876652914521,4240.595637607274,4279.859481685926,2161.9963526419606,2746.017137022816,7558.84881908745,7016.530724563034,9373.852007098016,8486.013718963703,2153.1808977413225,7862.804287715562,993.7266706245895,7900.202386790719,5977.592436849244,8108.698696613893,1880.11826616867,6855.305956211119,5448.053989304578,6347.091186823961,5007.614850133822,189.15546109814608,1915.9144312199217,1981.1545025820865,5657.821789203225],\"z\":[2405.744287080449,864.0205238502874,4758.107057434507,5741.60055389867,8315.208041007572,4328.782646408797,1450.1912946299833,5479.485101414252,3221.0867596688076,6826.813169132628,2219.8042927047536,3348.787456506466,3829.488651922883,5152.652394031238,3434.221119796217,4200.0382476015375,439.5441860049165,2814.488787614631,736.373062502611,9752.054308642257,8171.803759262707,587.6725343359913,6031.6486309331185,5294.060471705631,0.9958912850560608,5691.207843990997,4716.709741660433,1354.9410870070521,7181.83152576172,3430.3054481033146]}]},{\"name\":\"series 49 (F49)\",\"data\":[{\"name\":\"series 49 (F49)\",\"type\":\"scatter3d\",\"mode\":\"markers\",\"x\":[4954.826220064341,9343.826429057961,3291.3028826216573,6798.461606777982,9093.247220480298,5722.872448771943,6558.192651834786,1495.4259213518928,8421.649528734013,142.22088244449037,1410.2759483259297,6092.807192845702,6386.707337286985,9148.778809527015,4241.958287343398,9666.95848881573,2106.3578406013717,8574.584678259935,289.8656237303565,2119.1742663115165,5568.338839321941,4517.182404482683,8201.160702797964,5616.119226904446,8251.100322508995,4943.552899131455,6389.132354136306,9108.80589936143,8071.202825408286,1380.8038090050013],\"y\":[592.8649947018782,1726.3204245211073,5539.831203668242,2900.9492558875427,5192.562673305514,4990.8943516801,8802.069449209193,2663.7594819922083,1779.3698227509115,8263.804494980024,8836.097764916462,650.7985838265029,7238.29248479549,6606.977926840932,2505.4867189225947,4905.4055846566525,175.09359094869615,5333.067867078641,386.2814709747731,7587.520537584764,8902.799017726684,917.1567566103944,8331.584203659051,1458.89498743487,6400.714293869276,3656.1353326072954,6589.855745131928,7033.364784937491,7668.626642100781,3487.1932989889765],\"z\":[7959.176729176705,558.5091995950797,2721.120259691343,6714.752666402503,6938.223028963056,8239.154146593022,4101.706699647642,8045.560392831969,5125.724689238263,2669.825801271348,1243.7388936480565,9294.553898408252,4223.693657933315,3312.393374610366,5264.8333315706195,3399.4955768208965,6915.721941222562,4036.7866142665775,6853.803261220271,9970.270532310313,7620.168375931393,7236.811283099991,6793.861345126416,6499.128762459726,9659.06455949443,5839.727116847773,3363.119665909352,7571.04229395768,2737.0881371699816,1647.3939983429775]}]}]\n",
       "var labels_DgNGJS8mtY = [\"series 0 (F0)\",\"series 1 (F1)\",\"series 2 (F2)\",\"series 3 (F3)\",\"series 4 (F4)\",\"series 5 (F5)\",\"series 6 (F6)\",\"series 7 (F7)\",\"series 8 (F8)\",\"series 9 (F9)\",\"series 10 (F10)\",\"series 11 (F11)\",\"series 12 (F12)\",\"series 13 (F13)\",\"series 14 (F14)\",\"series 15 (F15)\",\"series 16 (F16)\",\"series 17 (F17)\",\"series 18 (F18)\",\"series 19 (F19)\",\"series 20 (F20)\",\"series 21 (F21)\",\"series 22 (F22)\",\"series 23 (F23)\",\"series 24 (F24)\",\"series 25 (F25)\",\"series 26 (F26)\",\"series 27 (F27)\",\"series 28 (F28)\",\"series 29 (F29)\",\"series 30 (F30)\",\"series 31 (F31)\",\"series 32 (F32)\",\"series 33 (F33)\",\"series 34 (F34)\",\"series 35 (F35)\",\"series 36 (F36)\",\"series 37 (F37)\",\"series 38 (F38)\",\"series 39 (F39)\",\"series 40 (F40)\",\"series 41 (F41)\",\"series 42 (F42)\",\"series 43 (F43)\",\"series 44 (F44)\",\"series 45 (F45)\",\"series 46 (F46)\",\"series 47 (F47)\",\"series 48 (F48)\",\"series 49 (F49)\"]\n",
       "var duration_DgNGJS8mtY = 100\n",
       "var config_DgNGJS8mtY = {\"responsive\":true,\"scrollZoom\":true,\"displaylogo\":false}\n",
       "\n",
       "var traces_DgNGJS8mtY = JSON.parse(JSON.stringify(frames_DgNGJS8mtY[0].data.map(x => x)))\n",
       "\n",
       "var animation_settings_DgNGJS8mtY = {\n",
       "    mode: \"immediate\",\n",
       "    direction: {},\n",
       "    fromcurrent: true,\n",
       "    frame: [\n",
       "      {duration: duration_DgNGJS8mtY},\n",
       "      {duration: duration_DgNGJS8mtY},\n",
       "      {redraw: true}\n",
       "    ],\n",
       "    transition: [\n",
       "      {duration: duration_DgNGJS8mtY, easing: 'cubic-in-out'},\n",
       "      {duration: duration_DgNGJS8mtY, easing: 'cubic-in-out'},\n",
       "    ],\n",
       "    ordering: \"layout first\"\n",
       "}\n",
       "\n",
       "var slider_DgNGJS8mtY = document.createElement(\"input\")\n",
       "var play_DgNGJS8mtY = document.getElementById(\"play_DgNGJS8mtY\")\n",
       "var pause_DgNGJS8mtY = document.getElementById(\"pause_DgNGJS8mtY\")\n",
       "slider_DgNGJS8mtY.id = \"slider_DgNGJS8mtY\"\n",
       "slider_DgNGJS8mtY.type = \"range\"\n",
       "slider_DgNGJS8mtY.min = 0\n",
       "slider_DgNGJS8mtY.max = frames_DgNGJS8mtY.length - 1\n",
       "slider_DgNGJS8mtY.value = 0\n",
       "document.getElementById(\"sliderContainer_DgNGJS8mtY\").appendChild(slider_DgNGJS8mtY);\n",
       "\n",
       "Plotly.newPlot(graph_DgNGJS8mtY, traces_DgNGJS8mtY, layout_DgNGJS8mtY, config_DgNGJS8mtY)\n",
       ".then(function () { Plotly.addFrames(graph_DgNGJS8mtY, frames_DgNGJS8mtY) })\n",
       "\n",
       "var trigger_DgNGJS8mtY = true\n",
       "var reset_count_DgNGJS8mtY = false\n",
       "\n",
       "play_DgNGJS8mtY.addEventListener('click', async function() {\n",
       "   trigger_DgNGJS8mtY = true\n",
       "   if (reset_count_DgNGJS8mtY) {\n",
       "      slider_DgNGJS8mtY.value = 0\n",
       "      reset_count_DgNGJS8mtY = false\n",
       "   }\n",
       "\n",
       "  const start_index = slider_DgNGJS8mtY.value == labels_DgNGJS8mtY.length - 1 ? 0 : slider_DgNGJS8mtY.value\n",
       "  const end_index = labels_DgNGJS8mtY.length\n",
       "  await Plotly.animate(graph_DgNGJS8mtY, labels_DgNGJS8mtY.slice(start_index, end_index), animation_settings_DgNGJS8mtY)\n",
       "})\n",
       "\n",
       "pause_DgNGJS8mtY.addEventListener('click', async function() {\n",
       "  await Plotly.animate(graph_DgNGJS8mtY, [null], animation_settings_DgNGJS8mtY)\n",
       "  trigger_DgNGJS8mtY = false;\n",
       "})\n",
       "\n",
       "graph_DgNGJS8mtY.on('plotly_redraw', () => {\n",
       "   value_DgNGJS8mtY.innerHTML = slider_DgNGJS8mtY.value;\n",
       "   if (trigger_DgNGJS8mtY & !reset_count_DgNGJS8mtY) ++slider_DgNGJS8mtY.value\n",
       "   if (slider_DgNGJS8mtY.value == labels_DgNGJS8mtY.length - 1) reset_count_DgNGJS8mtY = true\n",
       "});\n",
       "\n",
       "slider_DgNGJS8mtY.oninput = async function() {\n",
       "   await Plotly.animate(graph_DgNGJS8mtY, frames_DgNGJS8mtY[this.value], animation_settings_DgNGJS8mtY)\n",
       "   trigger_DgNGJS8mtY = false\n",
       "   slider_DgNGJS8mtY.value = this.value\n",
       "   value_DgNGJS8mtY.innerHTML = this.value;\n",
       "   if (this.value == 0) reset_count_DgNGJS8mtY = false\n",
       "   if (this.value == labels_DgNGJS8mtY.length - 1) reset_count_DgNGJS8mtY = true\n",
       "   reset_count_DgNGJS8mtY = false\n",
       "}\n",
       "\n",
       "next_DgNGJS8mtY.addEventListener('click', function() {\n",
       "    if (slider_DgNGJS8mtY.value == labels_DgNGJS8mtY.length - 1) {\n",
       "        reset_count_DgNGJS8mtY = true;\n",
       "        return;\n",
       "    }\n",
       "    ++slider_DgNGJS8mtY.value;\n",
       "    value_DgNGJS8mtY.innerHTML = slider_DgNGJS8mtY.value;\n",
       "    trigger_DgNGJS8mtY = false;\n",
       "    slider_DgNGJS8mtY.oninput();\n",
       "})\n",
       "\n",
       "prev_DgNGJS8mtY.addEventListener('click', function() {\n",
       "    if (slider_DgNGJS8mtY.value == 0) {\n",
       "        reset_count_DgNGJS8mtY = false;\n",
       "        return;\n",
       "    }\n",
       "    --slider_DgNGJS8mtY.value;\n",
       "    value_DgNGJS8mtY.innerHTML = slider_DgNGJS8mtY.value;\n",
       "    trigger_DgNGJS8mtY = false;\n",
       "    slider_DgNGJS8mtY.oninput();\n",
       "})\n",
       "\n",
       "</script> \n"
      ]
     },
     "metadata": {},
     "output_type": "display_data"
    }
   ],
   "source": [
    "val series = createXYZSeries(numberToCreate = 50, length = 30)\n",
    "\n",
    "val chart = (\n",
    "  Chart(animated = true)\n",
    "  setTitle \"Animation 3D\"\n",
    "  addSeries series\n",
    "  setXAxisLimits(0, 1E4)\n",
    "  setYAxisLimits(0, 1E4)\n",
    "  setZAxisLimits(0, 1E4)\n",
    "  drawZAxisLog true\n",
    ")\n",
    "\n",
    "chart.plotInline"
   ]
  },
  {
   "cell_type": "markdown",
   "metadata": {},
   "source": [
    "## IO + Utility Functions\n",
    "\n",
    "The library also comes with some basic CSV IO functions and a utility function for breaking down data"
   ]
  },
  {
   "cell_type": "code",
   "execution_count": 49,
   "metadata": {},
   "outputs": [],
   "source": [
    "import org.carbonateresearch.picta.IO._\n",
    "import org.carbonateresearch.picta.common.Utils.getSeriesbyCategory"
   ]
  },
  {
   "cell_type": "code",
   "execution_count": 50,
   "metadata": {},
   "outputs": [
    {
     "name": "stdout",
     "output_type": "stream",
     "text": [
      "/Users/fazi/Desktop/Final Project/picta\n"
     ]
    }
   ],
   "source": [
    "val working_directory = getWorkingDirectory\n",
    "\n",
    "println(working_directory)"
   ]
  },
  {
   "cell_type": "code",
   "execution_count": 51,
   "metadata": {},
   "outputs": [],
   "source": [
    "// by providing a path, we can read in a CSV\n",
    "val filepath = working_directory + \"/iris_csv.csv\"\n",
    "\n",
    "val data = readCSV(filepath)\n",
    "\n",
    "// by default, CSV are read in as strings. However we can convert the individual columns to the correct format\n",
    "val sepal_length = data(\"sepallength\").map(_.toDouble)\n",
    "val petal_width = data(\"petalwidth\").map(_.toDouble)\n",
    "val categories = data(\"class\")"
   ]
  },
  {
   "cell_type": "code",
   "execution_count": 52,
   "metadata": {},
   "outputs": [
    {
     "data": {
      "text/html": [
       "<div id=\"grid-container_Dj4vOjH4Ve\" class=\"grid-container\" align=\"center\"> \n",
       "<div id=\"grid_Dj4vOjH4Ve\" class=\"grid\" align=\"center\"> \n",
       "<div id=\"graph_vU47OARCKO\" class=\"graph\"></div> \n",
       "</div> \n",
       "</div> \n",
       "<script>\n",
       "var masonry = new Macy({\n",
       "    container: '#grid_Dj4vOjH4Ve',\n",
       "    debug: true,\n",
       "    mobileFirst: true,\n",
       "    columns: 1,\n",
       "    margin: {\n",
       "        x: 0,\n",
       "        y: 0\n",
       "    }\n",
       "  });\n",
       "\n",
       "  var traces_vU47OARCKO = [{\"name\":\"XIyzdUSFH4\",\"type\":\"scatter\",\"mode\":\"markers\",\"x\":[5.9,6.2,6.5,6.3,6.7,6.7,6.8,5.8,6.9,6.7,6.9,6,6.4,6.3,7.7,6.1,6.3,6.4,7.9,7.4,7.2,6.4,6.1,6.2,7.2,6.7,6.3,7.7,5.6,6.9,6,7.7,7.7,6.5,6.4,5.8,5.7,6.8,6.4,6.5,7.2,6.7,7.3,4.9,7.6,6.5,6.3,7.1,5.8,6.3,5.7,5.1,6.2,5.7,5.7,5.6,5,5.8,6.1,5.5,5.5,5.6,6.3,6.7,6,5.4,6,5.8,5.5,5.5,5.7,6,6.7,6.8,6.6,6.4,6.1,6.3,6.1,5.9,5.6,6.2,5.8,5.6,6.7,5.6,6.1,6,5.9,5,5.2,6.6,4.9,6.3,5.7,6.5,5.5,6.9,6.4,7,5,5.3,4.6,5.1,4.8,5.1,5,4.4,4.5,5,5.1,4.4,4.9,5.5,5,4.9,5.5,5.2,5.4,4.8,4.7,5.2,5.2,5,5,4.8,5.1,4.6,5.1,5.4,5.1,5.7,5.1,5.4,5.7,5.8,4.3,4.8,4.8,5.4,4.9,4.4,5,4.6,5.4,5,4.6,4.7,4.9,5.1],\"y\":[1.8,2.3,2,1.9,2.3,2.5,2.3,1.9,2.3,2.4,2.1,1.8,1.8,2.4,2.3,1.4,1.5,2.2,2,1.9,1.6,2.1,1.8,1.8,1.8,2.1,1.8,2,2,2.3,1.5,2.3,2.2,1.8,2.3,2.4,2,2.1,1.9,2,2.5,1.8,1.8,1.7,2.1,2.2,1.8,2.1,1.9,2.5,1.3,1.1,1.3,1.3,1.2,1.3,1,1.2,1.4,1.2,1.3,1.3,1.3,1.5,1.6,1.5,1.6,1.2,1,1.1,1,1.5,1.7,1.4,1.4,1.3,1.2,1.5,1.3,1.8,1.1,1.5,1,1.5,1.4,1.3,1.4,1,1.5,1,1.4,1.3,1,1.6,1.3,1.5,1.3,1.5,1.5,1.4,0.2,0.2,0.2,0.2,0.3,0.4,0.6,0.2,0.3,0.3,0.2,0.2,0.1,0.2,0.2,0.1,0.2,0.1,0.4,0.2,0.2,0.2,0.2,0.4,0.2,0.2,0.5,0.2,0.4,0.2,0.3,0.3,0.3,0.4,0.4,0.2,0.1,0.1,0.2,0.2,0.1,0.2,0.2,0.3,0.4,0.2,0.2,0.2,0.2,0.2]}];\n",
       " var layout_vU47OARCKO = {\"height\":550,\"width\":600,\"hovermode\":\"closest\",\"title\":{\"text\":\"Uninformative Chart\"},\"showlegend\":true};\n",
       " var config_vU47OARCKO = {\"responsive\":true,\"scrollZoom\":true,\"displaylogo\":false};\n",
       " Plotly.newPlot(\"graph_vU47OARCKO\", traces_vU47OARCKO, layout_vU47OARCKO, config_vU47OARCKO);\n",
       "</script> \n"
      ]
     },
     "metadata": {},
     "output_type": "display_data"
    }
   ],
   "source": [
    "val series = XY(sepal_length, petal_width) asType SCATTER drawStyle MARKERS\n",
    "\n",
    "val chart = Chart() addSeries series setTitle \"Uninformative Chart\"\n",
    "\n",
    "chart.plotInline"
   ]
  },
  {
   "cell_type": "markdown",
   "metadata": {},
   "source": [
    "The above chart is not very informative. However since we have the per data point category labels, we can use the utility function to display the data in the different clusters"
   ]
  },
  {
   "cell_type": "code",
   "execution_count": 53,
   "metadata": {},
   "outputs": [
    {
     "data": {
      "text/html": [
       "<div id=\"grid-container_e30AmiUX2e\" class=\"grid-container\" align=\"center\"> \n",
       "<div id=\"grid_e30AmiUX2e\" class=\"grid\" align=\"center\"> \n",
       "<div id=\"graph_qQmjXtn4mt\" class=\"graph\"></div> \n",
       "</div> \n",
       "</div> \n",
       "<script>\n",
       "var masonry = new Macy({\n",
       "    container: '#grid_e30AmiUX2e',\n",
       "    debug: true,\n",
       "    mobileFirst: true,\n",
       "    columns: 1,\n",
       "    margin: {\n",
       "        x: 0,\n",
       "        y: 0\n",
       "    }\n",
       "  });\n",
       "\n",
       "  var traces_qQmjXtn4mt = [{\"name\":\"Iris-versicolor\",\"type\":\"scatter\",\"mode\":\"markers\",\"x\":[7,6.4,6.9,5.5,6.5,5.7,6.3,4.9,6.6,5.2,5,5.9,6,6.1,5.6,6.7,5.6,5.8,6.2,5.6,5.9,6.1,6.3,6.1,6.4,6.6,6.8,6.7,6,5.7,5.5,5.5,5.8,6,5.4,6,6.7,6.3,5.6,5.5,5.5,6.1,5.8,5,5.6,5.7,5.7,6.2,5.1,5.7],\"y\":[1.4,1.5,1.5,1.3,1.5,1.3,1.6,1,1.3,1.4,1,1.5,1,1.4,1.3,1.4,1.5,1,1.5,1.1,1.8,1.3,1.5,1.2,1.3,1.4,1.4,1.7,1.5,1,1.1,1,1.2,1.6,1.5,1.6,1.5,1.3,1.3,1.3,1.2,1.4,1.2,1,1.3,1.2,1.3,1.3,1.1,1.3]},{\"name\":\"Iris-setosa\",\"type\":\"scatter\",\"mode\":\"markers\",\"x\":[5.1,4.9,4.7,4.6,5,5.4,4.6,5,4.4,4.9,5.4,4.8,4.8,4.3,5.8,5.7,5.4,5.1,5.7,5.1,5.4,5.1,4.6,5.1,4.8,5,5,5.2,5.2,4.7,4.8,5.4,5.2,5.5,4.9,5,5.5,4.9,4.4,5.1,5,4.5,4.4,5,5.1,4.8,5.1,4.6,5.3,5],\"y\":[0.2,0.2,0.2,0.2,0.2,0.4,0.3,0.2,0.2,0.1,0.2,0.2,0.1,0.1,0.2,0.4,0.4,0.3,0.3,0.3,0.2,0.4,0.2,0.5,0.2,0.2,0.4,0.2,0.2,0.2,0.2,0.4,0.1,0.2,0.1,0.2,0.2,0.1,0.2,0.2,0.3,0.3,0.2,0.6,0.4,0.3,0.2,0.2,0.2,0.2]},{\"name\":\"Iris-virginica\",\"type\":\"scatter\",\"mode\":\"markers\",\"x\":[6.3,5.8,7.1,6.3,6.5,7.6,4.9,7.3,6.7,7.2,6.5,6.4,6.8,5.7,5.8,6.4,6.5,7.7,7.7,6,6.9,5.6,7.7,6.3,6.7,7.2,6.2,6.1,6.4,7.2,7.4,7.9,6.4,6.3,6.1,7.7,6.3,6.4,6,6.9,6.7,6.9,5.8,6.8,6.7,6.7,6.3,6.5,6.2,5.9],\"y\":[2.5,1.9,2.1,1.8,2.2,2.1,1.7,1.8,1.8,2.5,2,1.9,2.1,2,2.4,2.3,1.8,2.2,2.3,1.5,2.3,2,2,1.8,2.1,1.8,1.8,1.8,2.1,1.6,1.9,2,2.2,1.5,1.4,2.3,2.4,1.8,1.8,2.1,2.4,2.3,1.9,2.3,2.5,2.3,1.9,2,2.3,1.8]}];\n",
       " var layout_qQmjXtn4mt = {\"height\":550,\"width\":600,\"hovermode\":\"closest\",\"title\":{\"text\":\"Iris\"},\"showlegend\":true};\n",
       " var config_qQmjXtn4mt = {\"responsive\":true,\"scrollZoom\":true,\"displaylogo\":false};\n",
       " Plotly.newPlot(\"graph_qQmjXtn4mt\", traces_qQmjXtn4mt, layout_qQmjXtn4mt, config_qQmjXtn4mt);\n",
       "</script> \n"
      ]
     },
     "metadata": {},
     "output_type": "display_data"
    }
   ],
   "source": [
    "val result = getSeriesbyCategory(categories, (sepal_length, petal_width))\n",
    "\n",
    "val chart = Chart() addSeries result setTitle \"Iris\" showLegend true\n",
    "\n",
    "chart.plotInline"
   ]
  },
  {
   "cell_type": "markdown",
   "metadata": {},
   "source": [
    "## Conus Integration\n",
    "\n",
    "Picta was originally created to help plot data in CoNuS and with Spark. A couple of utility functions make wrangling CoNuS data easier. Below is an example taken from the conus repo and plotting some variables of interest."
   ]
  },
  {
   "cell_type": "code",
   "execution_count": 54,
   "metadata": {},
   "outputs": [],
   "source": [
    "import org.carbonateresearch.picta.conus.Utils._\n",
    "import org.carbonateresearch.picta.{Canvas, Chart, XY}\n",
    "import org.carbonateresearch.conus.common.SingleModelResults\n",
    "import org.carbonateresearch.conus._\n",
    "\n",
    "import math._"
   ]
  },
  {
   "cell_type": "code",
   "execution_count": 55,
   "metadata": {
    "scrolled": false
   },
   "outputs": [
    {
     "name": "stdout",
     "output_type": "stream",
     "text": [
      "17:50:06.400 [CoNuS-akka.actor.default-dispatcher-3] INFO akka.event.slf4j.Slf4jLogger - Slf4jLogger started\n"
     ]
    },
    {
     "name": "stderr",
     "output_type": "stream",
     "text": [
      "SLF4J: A number (1) of logging calls during the initialization phase have been intercepted and are\n",
      "SLF4J: now being replayed. These are subject to the filtering rules of the underlying logging system.\n",
      "SLF4J: See also http://www.slf4j.org/codes.html#replay\n"
     ]
    },
    {
     "data": {
      "text/html": [
       "Variable <b>Number of Rats</b> with initial value of 2 Individuals  defined"
      ]
     },
     "metadata": {},
     "output_type": "display_data"
    },
    {
     "data": {
      "text/html": [
       "Variable <b>Death rate</b> with initial value of 0.0 %  defined"
      ]
     },
     "metadata": {},
     "output_type": "display_data"
    }
   ],
   "source": [
    "val simulator = new AlmondSimulator // We create an Almond specific simulator\n",
    "\n",
    "// We will now create a ver simple 2D CoNuS model. The model has a dimension of 3x3 grids, and each grid is meant to represent\n",
    "// about 100x100 meters of a field. We initialize the model with values ranging from 2.0 to 6.0. These represent the population \n",
    "// of rats living in each 100 sq meter of the field. We will run the simulation for 10 time step, each time step represents\n",
    "// one generation. We assume a perfect parity between male and female rat, and we also assume that each couple will have 10\n",
    "// babies per generation. In addition, we will simulate a death rate between 0 to 0.9 (0 to 90% of the population), assigned\n",
    "// randomly at each timestep and for each square. A major simplification is that each cell (square in the field) has its own\n",
    "// rat population, there is no movement of rats in between the different cells.\n",
    "\n",
    "// In CoNuS, values that will be calculated are know as model variables. Let's set a few\n",
    "val nbRats:ModelVariable[Int] = ModelVariable(\"Number of Rats\",2,\"Individuals\") //Notice this is an Int\n",
    "val deathRate:ModelVariable[Double] = ModelVariable(\"Death rate\",0.0,\"%\")\n",
    "\n",
    "// Let's initialise a few model conditions \n",
    "val numberOfSteps = 10\n",
    "\n",
    "// And let's create a function that, given a rat population and a deathRate, calculates a new population \n",
    "\n",
    "def survivingRats(initialPopulation:Int, deathRate:Double): Int = {\n",
    "    initialPopulation-math.floor(initialPopulation.toDouble*deathRate).toInt\n",
    "}\n"
   ]
  },
  {
   "cell_type": "code",
   "execution_count": 56,
   "metadata": {},
   "outputs": [
    {
     "name": "stdout",
     "output_type": "stream",
     "text": [
      "A total of 1 unique models were defined, attempting to create a list now.\n",
      "Models list successfully created.\n"
     ]
    },
    {
     "data": {
      "text/html": [
       "<b>Model characteristics</b><table class=\"table\"><tr><th>Feature</th><th>Value</th></tr><tr><td>Name</td><td>Simplified rat population dynamics</td></tr><tr><td>Nb of steps</td><td>10</td></tr><tr><td>Nb of models</td><td>1</td></tr><tr><td>Nb grid cells</td><td>9</td></tr><tr><td>Nb of operations per step</td><td>2</td></tr><tr><td>Total nb of operations</td><td>180</td></tr></table>"
      ]
     },
     "metadata": {},
     "output_type": "display_data"
    }
   ],
   "source": [
    "// Now we can create our model, step by step\n",
    "val ratPopulation = new SteppedModel(numberOfSteps,\"Simplified rat population dynamics\")\n",
    "    .setGrid(3,3) // 9 cells\n",
    "    .defineMathematicalModel( // In this super simple model we do only two things at each step\n",
    "      deathRate =>> {(s:Step) => scala.util.Random.nextDouble()*0.9}, // calculate a death rate\n",
    "      nbRats =>> {(s:Step) => {survivingRats(nbRats(s-1)+(nbRats(s-1)/2*10),deathRate(s))}} // calcuate the nb rats\n",
    "    )\n",
    "    .defineInitialModelConditions( // Now we need to determine the inital size of the population at each model grid\n",
    "      PerCell(nbRats,List(\n",
    "        (List(2),Seq(0,0)),\n",
    "        (List(2),Seq(0,1)),\n",
    "        (List(4),Seq(0,2)),\n",
    "        (List(4),Seq(1,0)),\n",
    "        (List(2),Seq(1,1)),\n",
    "        (List(6),Seq(1,2)),\n",
    "        (List(2),Seq(2,0)),\n",
    "        (List(4),Seq(2,1)),\n",
    "        (List(6),Seq(2,2)))))"
   ]
  },
  {
   "cell_type": "code",
   "execution_count": 57,
   "metadata": {},
   "outputs": [
    {
     "data": {
      "text/html": [
       "Run progress:<br>#################################################################################################### 100.0%<br>Total runtime: 0 seconds"
      ]
     },
     "metadata": {},
     "output_type": "display_data"
    }
   ],
   "source": [
    "// Now we run the model\n",
    "simulator.evaluate(ratPopulation)"
   ]
  },
  {
   "cell_type": "code",
   "execution_count": 59,
   "metadata": {
    "scrolled": false
   },
   "outputs": [
    {
     "data": {
      "text/html": [
       "<div id=\"grid-container_aiXN027Soc\" class=\"grid-container\" align=\"center\"> \n",
       "<div id=\"grid_aiXN027Soc\" class=\"grid\" align=\"center\"> \n",
       "<div id=\"graph_LU8lnOP1mJ\" class=\"graph\"></div> \n",
       "</div> \n",
       "</div> \n",
       "<script>\n",
       "var masonry = new Macy({\n",
       "    container: '#grid_aiXN027Soc',\n",
       "    debug: true,\n",
       "    mobileFirst: true,\n",
       "    columns: 1,\n",
       "    margin: {\n",
       "        x: 0,\n",
       "        y: 0\n",
       "    }\n",
       "  });\n",
       "\n",
       "  var traces_LU8lnOP1mJ = [{\"name\":\"Death rate\",\"type\":\"scatter\",\"x\":[0,1,2,3,4,5,6,7,8],\"y\":[0.5542048336653954,0.5079859635047334,0.5725288522128769,0.07979866639086738,0.15157246323325813,0.36998924557377233,0.623864914222153,0.760828634216477,0.12667815515055098,0.5332542056200875]},{\"name\":\"Nb of rats\",\"type\":\"scatter\",\"yaxis\":\"y2\",\"x\":[0,1,2,3,4,5,6,7,8],\"y\":[6,18,47,255,1294,4892,11041,15843,83012,232474]}];\n",
       " var layout_LU8lnOP1mJ = {\"height\":550,\"width\":600,\"hovermode\":\"closest\",\"title\":{\"text\":\"Date rate vs nb of rats per generation for cell (0,0)\"},\"showlegend\":true,\"xaxis\":{\"title\":{\"text\":\"Generation\"},\"showgrid\":true,\"zeroline\":false,\"showline\":false},\"yaxis\":{\"title\":{\"text\":\"Death rate\"},\"showgrid\":true,\"zeroline\":false,\"showline\":false},\"yaxis2\":{\"title\":{\"text\":\"Nb rats\"},\"showgrid\":true,\"zeroline\":false,\"showline\":false,\"side\":\"right\",\"overlaying\":\"y\",\"tickformat\":\"0.0f\"}};\n",
       " var config_LU8lnOP1mJ = {\"responsive\":true,\"scrollZoom\":true,\"displaylogo\":false};\n",
       " Plotly.newPlot(\"graph_LU8lnOP1mJ\", traces_LU8lnOP1mJ, layout_LU8lnOP1mJ, config_LU8lnOP1mJ);\n",
       "</script> \n"
      ]
     },
     "metadata": {},
     "output_type": "display_data"
    },
    {
     "data": {
      "text/html": [
       "<b>Simplified rat population dynamics model #1 <br>Timestep: 9</b> [from 0 to 9]<table class=\"table\" style=\"align: center; display:block; background-color:fffff0; border: 2px solid green; height: 450px; overflow-y: scroll\"><tr><th style=\"border: 1px solid green; background-color:fffff0\">Cell coordinates</th><th style=\"border: 1px solid green; background-color:#ebebec\">Number of Rats</th><th style=\"border: 1px solid green; background-color:#ebebec\">Death rate</th></tr><tr style=\"border: 1px solid green; background-color:fffff0\"><td style=\"border: 1px solid green; background-color:fffff0\">(0, 0)</td><td style=\"border: 1px solid green; background-color:fffff0\">232474</td><td style=\"border: 1px solid green; background-color:fffff0\">0.5332542056200875</td></tr><tr style=\"border: 1px solid green; background-color:fffff0\"><td style=\"border: 1px solid green; background-color:fffff0\">(0, 1)</td><td style=\"border: 1px solid green; background-color:fffff0\">98079</td><td style=\"border: 1px solid green; background-color:fffff0\">0.36553224148793445</td></tr><tr style=\"border: 1px solid green; background-color:fffff0\"><td style=\"border: 1px solid green; background-color:fffff0\">(0, 2)</td><td style=\"border: 1px solid green; background-color:fffff0\">1580500</td><td style=\"border: 1px solid green; background-color:fffff0\">0.4953745789574459</td></tr><tr style=\"border: 1px solid green; background-color:fffff0\"><td style=\"border: 1px solid green; background-color:fffff0\">(1, 0)</td><td style=\"border: 1px solid green; background-color:fffff0\">1997369</td><td style=\"border: 1px solid green; background-color:fffff0\">0.5770433376863384</td></tr><tr style=\"border: 1px solid green; background-color:fffff0\"><td style=\"border: 1px solid green; background-color:fffff0\">(1, 1)</td><td style=\"border: 1px solid green; background-color:fffff0\">4724</td><td style=\"border: 1px solid green; background-color:fffff0\">0.4456269280336488</td></tr><tr style=\"border: 1px solid green; background-color:fffff0\"><td style=\"border: 1px solid green; background-color:fffff0\">(1, 2)</td><td style=\"border: 1px solid green; background-color:fffff0\">281864</td><td style=\"border: 1px solid green; background-color:fffff0\">0.638263545064887</td></tr><tr style=\"border: 1px solid green; background-color:fffff0\"><td style=\"border: 1px solid green; background-color:fffff0\">(2, 0)</td><td style=\"border: 1px solid green; background-color:fffff0\">54506</td><td style=\"border: 1px solid green; background-color:fffff0\">0.2071872992287569</td></tr><tr style=\"border: 1px solid green; background-color:fffff0\"><td style=\"border: 1px solid green; background-color:fffff0\">(2, 1)</td><td style=\"border: 1px solid green; background-color:fffff0\">6560</td><td style=\"border: 1px solid green; background-color:fffff0\">0.827954815099219</td></tr><tr style=\"border: 1px solid green; background-color:fffff0\"><td style=\"border: 1px solid green; background-color:fffff0\">(2, 2)</td><td style=\"border: 1px solid green; background-color:fffff0\">1583817</td><td style=\"border: 1px solid green; background-color:fffff0\">0.4410840762062808</td></tr></table>"
      ]
     },
     "metadata": {},
     "output_type": "display_data"
    }
   ],
   "source": [
    "// grab the results from the Conus model\n",
    "val model: SingleModelResults = simulator(ratPopulation)(0)\n",
    "\n",
    "val generation = (0 until numberOfSteps-1).map(x=>x.toDouble).toList\n",
    "\n",
    "// we can use the utility function to grab the series for a single variable\n",
    "val deathRateSeries: List[Double] = getDataFromSingleModel(model, deathRate, List(0,0), numberOfSteps)\n",
    "\n",
    "val xy1 = XY(generation, deathRateSeries) setName(\"Death rate\")\n",
    "\n",
    "// alternatively we can quickly get the same data for XY using the function below\n",
    "//  val xy1 = getXYSeriesFromSingleModel(model, (age, d18Occ), List(0), numberOfSteps)\n",
    "\n",
    "// lets also plot a second y variable\n",
    "val yaxis2 = Axis(\n",
    "    Y,\n",
    "    position = 2, \n",
    "    title = \"Nb rats\", \n",
    "    overlaying = Axis(Y), // this ensures that the axis sits on a seperate axis\n",
    "    side = RIGHT_SIDE, // this ensures the axis is on the right hand side\n",
    "    tickformat = \"0.0f\" // this will keep formatting reasonable for display purposes\n",
    ")\n",
    "\n",
    "// we construct the second y variable;\n",
    "val nbRatsSeries: List[Double] = getDataFromSingleModel(model, nbRats, List(0,0), numberOfSteps).map(x => x.toDouble)\n",
    "val xy2 = XY(generation, nbRatsSeries) setAxis yaxis2 setName(\"Nb of rats\")\n",
    "\n",
    "// finally we can combine in a single chart\n",
    "val chart = (\n",
    "    Chart() \n",
    "    addSeries xy1\n",
    "    addSeries xy2\n",
    "    setTitle(\"Date rate vs nb of rats per generation for cell (0,0)\") \n",
    "    addAxes(Axis(X, title=\"Generation\"), Axis(Y, title=\"Death rate\"), yaxis2)\n",
    ")\n",
    "\n",
    "val canvas = Canvas() addCharts chart\n",
    "\n",
    "// When we plot the result, we can see the legend is in the wrong place and overlaying the axis - we can overcome this\n",
    "// in the next example\n",
    "canvas.plotInline()"
   ]
  },
  {
   "cell_type": "markdown",
   "metadata": {
    "pycharm": {
     "name": "#%% md\n"
    }
   },
   "source": [
    "### Moving the Legend\n",
    "\n",
    "We can also move the Legend and position it where we would like as follows:"
   ]
  },
  {
   "cell_type": "code",
   "execution_count": 60,
   "metadata": {
    "pycharm": {
     "name": "#%%\n"
    }
   },
   "outputs": [],
   "source": [
    "import org.carbonateresearch.picta.options.AUTO"
   ]
  },
  {
   "cell_type": "code",
   "execution_count": 61,
   "metadata": {
    "scrolled": false
   },
   "outputs": [
    {
     "data": {
      "text/html": [
       "<div id=\"grid-container_NnRhFoyJrF\" class=\"grid-container\" align=\"center\"> \n",
       "<div id=\"grid_NnRhFoyJrF\" class=\"grid\" align=\"center\"> \n",
       "<div id=\"graph_DQc0T0fia0\" class=\"graph\"></div> \n",
       "</div> \n",
       "</div> \n",
       "<script>\n",
       "var masonry = new Macy({\n",
       "    container: '#grid_NnRhFoyJrF',\n",
       "    debug: true,\n",
       "    mobileFirst: true,\n",
       "    columns: 1,\n",
       "    margin: {\n",
       "        x: 0,\n",
       "        y: 0\n",
       "    }\n",
       "  });\n",
       "\n",
       "  var traces_DQc0T0fia0 = [{\"name\":\"Death rate\",\"type\":\"scatter\",\"x\":[0,1,2,3,4,5,6,7,8],\"y\":[0.5542048336653954,0.5079859635047334,0.5725288522128769,0.07979866639086738,0.15157246323325813,0.36998924557377233,0.623864914222153,0.760828634216477,0.12667815515055098,0.5332542056200875]},{\"name\":\"Nb of rats\",\"type\":\"scatter\",\"yaxis\":\"y2\",\"x\":[0,1,2,3,4,5,6,7,8],\"y\":[6,18,47,255,1294,4892,11041,15843,83012,232474]}];\n",
       " var layout_DQc0T0fia0 = {\"height\":550,\"width\":600,\"hovermode\":\"closest\",\"title\":{\"text\":\"Death rate vs Nb of rats for cell (0,0)\"},\"showlegend\":true,\"legend\":{\"orientation\":\"h\",\"x\":0.5,\"y\":-0.5,\"xanchor\":\"auto\",\"yanchor\":\"auto\"},\"xaxis\":{\"title\":{\"text\":\"Generation\"},\"showgrid\":true,\"zeroline\":false,\"showline\":false},\"yaxis\":{\"title\":{\"text\":\"Death rate\"},\"showgrid\":true,\"zeroline\":false,\"showline\":false},\"yaxis2\":{\"title\":{\"text\":\"Nb rats\"},\"showgrid\":true,\"zeroline\":false,\"showline\":false,\"side\":\"right\",\"overlaying\":\"y\",\"tickformat\":\"0.0f\"}};\n",
       " var config_DQc0T0fia0 = {\"responsive\":true,\"scrollZoom\":true,\"displaylogo\":false};\n",
       " Plotly.newPlot(\"graph_DQc0T0fia0\", traces_DQc0T0fia0, layout_DQc0T0fia0, config_DQc0T0fia0);\n",
       "</script> \n"
      ]
     },
     "metadata": {},
     "output_type": "display_data"
    }
   ],
   "source": [
    "// finally we can combine in a single chart\n",
    "val chart = (\n",
    "    Chart() \n",
    "    addSeries xy1\n",
    "    addSeries xy2\n",
    "    setTitle(\"Death rate vs Nb of rats for cell (0,0)\") \n",
    "    addAxes(Axis(X, title=\"Generation\"), Axis(Y, title=\"Death rate\"), yaxis2)\n",
    "    setLegend(x = 0.5, y = -0.5, orientation = HORIZONTAL, xanchor = AUTO, yanchor = AUTO)\n",
    ")\n",
    "\n",
    "val canvas = Canvas() addCharts chart\n",
    "\n",
    "canvas.plotInline()"
   ]
  },
  {
   "cell_type": "code",
   "execution_count": 62,
   "metadata": {},
   "outputs": [
    {
     "data": {
      "text/html": [
       "<div id=\"grid-container_kdcP01sSFC\" class=\"grid-container\" align=\"center\"> \n",
       "<div id=\"grid_kdcP01sSFC\" class=\"grid\" align=\"center\"> \n",
       "\n",
       "<div align=\"center\">\n",
       "  <div id=\"graph_Yv6FZZ0HMz\" class=\"graph\"></div>\n",
       "  <div class=\"animationInterface\">\n",
       "    <button id=\"play_Yv6FZZ0HMz\" class=\"picta-button\">&#9658</button>\n",
       "    <button id=\"pause_Yv6FZZ0HMz\" class=\"picta-button\">&#9616;&#9616;</button>\n",
       "    <button id=\"prev_Yv6FZZ0HMz\" class=\"picta-button\"><</button>\n",
       "    <button id=\"next_Yv6FZZ0HMz\" class=\"picta-button\">></button>\n",
       "\n",
       "    <div id=\"sliderContainer_Yv6FZZ0HMz\" class=\"progressBar\"></div>\n",
       "    <div id=\"counterContainer_Yv6FZZ0HMz\" class=\"inline-div\">\n",
       "        <h3>Frame: </h3> <h3 id=\"value_Yv6FZZ0HMz\">0</h3>\n",
       "    </div>\n",
       "   </div>\n",
       "</div> \n",
       "\n",
       "</div> \n",
       "</div> \n",
       "<script>\n",
       "var masonry = new Macy({\n",
       "    container: '#grid_kdcP01sSFC',\n",
       "    debug: true,\n",
       "    mobileFirst: true,\n",
       "    columns: 1,\n",
       "    margin: {\n",
       "        x: 0,\n",
       "        y: 0\n",
       "    }\n",
       "  });\n",
       "\n",
       "var graph_Yv6FZZ0HMz = document.getElementById('graph_Yv6FZZ0HMz')\n",
       "\n",
       "var layout_Yv6FZZ0HMz = {\"height\":550,\"width\":600,\"hovermode\":\"closest\",\"title\":{\"text\":\"Animation XY with Multiple Series\"},\"showlegend\":true,\"legend\":{\"orientation\":\"h\",\"x\":0.5,\"y\":-0.5,\"xanchor\":\"auto\",\"yanchor\":\"auto\"},\"xaxis\":{\"title\":{\"text\":\"Generation\"},\"showgrid\":true,\"zeroline\":false,\"showline\":false,\"range\":[0,9]},\"yaxis\":{\"title\":{\"text\":\"Death Rate\"},\"showgrid\":true,\"zeroline\":false,\"showline\":false,\"range\":[0,1]},\"yaxis2\":{\"title\":{\"text\":\"Nb rats\"},\"showgrid\":true,\"zeroline\":false,\"showline\":false,\"side\":\"right\",\"overlaying\":\"y\",\"range\":[0,10000],\"tickformat\":\"0.0f\"}}\n",
       "var frames_Yv6FZZ0HMz = [{\"name\":\"Frame 0\",\"data\":[{\"name\":\"Death Rate (F0)\",\"type\":\"scatter\",\"x\":[0],\"y\":[0.5542048336653954]},{\"name\":\"Nb of rats (F0)\",\"type\":\"scatter\",\"yaxis\":\"y2\",\"x\":[0],\"y\":[6]}]},{\"name\":\"Frame 1\",\"data\":[{\"name\":\"Death Rate (F1)\",\"type\":\"scatter\",\"x\":[0,1],\"y\":[0.5542048336653954,0.5079859635047334]},{\"name\":\"Nb of rats (F1)\",\"type\":\"scatter\",\"yaxis\":\"y2\",\"x\":[0,1],\"y\":[6,18]}]},{\"name\":\"Frame 2\",\"data\":[{\"name\":\"Death Rate (F2)\",\"type\":\"scatter\",\"x\":[0,1,2],\"y\":[0.5542048336653954,0.5079859635047334,0.5725288522128769]},{\"name\":\"Nb of rats (F2)\",\"type\":\"scatter\",\"yaxis\":\"y2\",\"x\":[0,1,2],\"y\":[6,18,47]}]},{\"name\":\"Frame 3\",\"data\":[{\"name\":\"Death Rate (F3)\",\"type\":\"scatter\",\"x\":[0,1,2,3],\"y\":[0.5542048336653954,0.5079859635047334,0.5725288522128769,0.07979866639086738]},{\"name\":\"Nb of rats (F3)\",\"type\":\"scatter\",\"yaxis\":\"y2\",\"x\":[0,1,2,3],\"y\":[6,18,47,255]}]},{\"name\":\"Frame 4\",\"data\":[{\"name\":\"Death Rate (F4)\",\"type\":\"scatter\",\"x\":[0,1,2,3,4],\"y\":[0.5542048336653954,0.5079859635047334,0.5725288522128769,0.07979866639086738,0.15157246323325813]},{\"name\":\"Nb of rats (F4)\",\"type\":\"scatter\",\"yaxis\":\"y2\",\"x\":[0,1,2,3,4],\"y\":[6,18,47,255,1294]}]},{\"name\":\"Frame 5\",\"data\":[{\"name\":\"Death Rate (F5)\",\"type\":\"scatter\",\"x\":[0,1,2,3,4,5],\"y\":[0.5542048336653954,0.5079859635047334,0.5725288522128769,0.07979866639086738,0.15157246323325813,0.36998924557377233]},{\"name\":\"Nb of rats (F5)\",\"type\":\"scatter\",\"yaxis\":\"y2\",\"x\":[0,1,2,3,4,5],\"y\":[6,18,47,255,1294,4892]}]},{\"name\":\"Frame 6\",\"data\":[{\"name\":\"Death Rate (F6)\",\"type\":\"scatter\",\"x\":[0,1,2,3,4,5,6],\"y\":[0.5542048336653954,0.5079859635047334,0.5725288522128769,0.07979866639086738,0.15157246323325813,0.36998924557377233,0.623864914222153]},{\"name\":\"Nb of rats (F6)\",\"type\":\"scatter\",\"yaxis\":\"y2\",\"x\":[0,1,2,3,4,5,6],\"y\":[6,18,47,255,1294,4892,11041]}]},{\"name\":\"Frame 7\",\"data\":[{\"name\":\"Death Rate (F7)\",\"type\":\"scatter\",\"x\":[0,1,2,3,4,5,6,7],\"y\":[0.5542048336653954,0.5079859635047334,0.5725288522128769,0.07979866639086738,0.15157246323325813,0.36998924557377233,0.623864914222153,0.760828634216477]},{\"name\":\"Nb of rats (F7)\",\"type\":\"scatter\",\"yaxis\":\"y2\",\"x\":[0,1,2,3,4,5,6,7],\"y\":[6,18,47,255,1294,4892,11041,15843]}]},{\"name\":\"Frame 8\",\"data\":[{\"name\":\"Death Rate (F8)\",\"type\":\"scatter\",\"x\":[0,1,2,3,4,5,6,7,8],\"y\":[0.5542048336653954,0.5079859635047334,0.5725288522128769,0.07979866639086738,0.15157246323325813,0.36998924557377233,0.623864914222153,0.760828634216477,0.12667815515055098]},{\"name\":\"Nb of rats (F8)\",\"type\":\"scatter\",\"yaxis\":\"y2\",\"x\":[0,1,2,3,4,5,6,7,8],\"y\":[6,18,47,255,1294,4892,11041,15843,83012]}]}]\n",
       "var labels_Yv6FZZ0HMz = [\"Frame 0\",\"Frame 1\",\"Frame 2\",\"Frame 3\",\"Frame 4\",\"Frame 5\",\"Frame 6\",\"Frame 7\",\"Frame 8\"]\n",
       "var duration_Yv6FZZ0HMz = 100\n",
       "var config_Yv6FZZ0HMz = {\"responsive\":true,\"scrollZoom\":true,\"displaylogo\":false}\n",
       "\n",
       "var traces_Yv6FZZ0HMz = JSON.parse(JSON.stringify(frames_Yv6FZZ0HMz[0].data.map(x => x)))\n",
       "\n",
       "var animation_settings_Yv6FZZ0HMz = {\n",
       "    mode: \"immediate\",\n",
       "    direction: {},\n",
       "    fromcurrent: true,\n",
       "    frame: [\n",
       "      {duration: duration_Yv6FZZ0HMz},\n",
       "      {duration: duration_Yv6FZZ0HMz},\n",
       "      {redraw: true}\n",
       "    ],\n",
       "    transition: [\n",
       "      {duration: duration_Yv6FZZ0HMz, easing: 'cubic-in-out'},\n",
       "      {duration: duration_Yv6FZZ0HMz, easing: 'cubic-in-out'},\n",
       "    ],\n",
       "    ordering: \"layout first\"\n",
       "}\n",
       "\n",
       "var slider_Yv6FZZ0HMz = document.createElement(\"input\")\n",
       "var play_Yv6FZZ0HMz = document.getElementById(\"play_Yv6FZZ0HMz\")\n",
       "var pause_Yv6FZZ0HMz = document.getElementById(\"pause_Yv6FZZ0HMz\")\n",
       "slider_Yv6FZZ0HMz.id = \"slider_Yv6FZZ0HMz\"\n",
       "slider_Yv6FZZ0HMz.type = \"range\"\n",
       "slider_Yv6FZZ0HMz.min = 0\n",
       "slider_Yv6FZZ0HMz.max = frames_Yv6FZZ0HMz.length - 1\n",
       "slider_Yv6FZZ0HMz.value = 0\n",
       "document.getElementById(\"sliderContainer_Yv6FZZ0HMz\").appendChild(slider_Yv6FZZ0HMz);\n",
       "\n",
       "Plotly.newPlot(graph_Yv6FZZ0HMz, traces_Yv6FZZ0HMz, layout_Yv6FZZ0HMz, config_Yv6FZZ0HMz)\n",
       ".then(function () { Plotly.addFrames(graph_Yv6FZZ0HMz, frames_Yv6FZZ0HMz) })\n",
       "\n",
       "var trigger_Yv6FZZ0HMz = true\n",
       "var reset_count_Yv6FZZ0HMz = false\n",
       "\n",
       "play_Yv6FZZ0HMz.addEventListener('click', async function() {\n",
       "   trigger_Yv6FZZ0HMz = true\n",
       "   if (reset_count_Yv6FZZ0HMz) {\n",
       "      slider_Yv6FZZ0HMz.value = 0\n",
       "      reset_count_Yv6FZZ0HMz = false\n",
       "   }\n",
       "\n",
       "  const start_index = slider_Yv6FZZ0HMz.value == labels_Yv6FZZ0HMz.length - 1 ? 0 : slider_Yv6FZZ0HMz.value\n",
       "  const end_index = labels_Yv6FZZ0HMz.length\n",
       "  await Plotly.animate(graph_Yv6FZZ0HMz, labels_Yv6FZZ0HMz.slice(start_index, end_index), animation_settings_Yv6FZZ0HMz)\n",
       "})\n",
       "\n",
       "pause_Yv6FZZ0HMz.addEventListener('click', async function() {\n",
       "  await Plotly.animate(graph_Yv6FZZ0HMz, [null], animation_settings_Yv6FZZ0HMz)\n",
       "  trigger_Yv6FZZ0HMz = false;\n",
       "})\n",
       "\n",
       "graph_Yv6FZZ0HMz.on('plotly_redraw', () => {\n",
       "   value_Yv6FZZ0HMz.innerHTML = slider_Yv6FZZ0HMz.value;\n",
       "   if (trigger_Yv6FZZ0HMz & !reset_count_Yv6FZZ0HMz) ++slider_Yv6FZZ0HMz.value\n",
       "   if (slider_Yv6FZZ0HMz.value == labels_Yv6FZZ0HMz.length - 1) reset_count_Yv6FZZ0HMz = true\n",
       "});\n",
       "\n",
       "slider_Yv6FZZ0HMz.oninput = async function() {\n",
       "   await Plotly.animate(graph_Yv6FZZ0HMz, frames_Yv6FZZ0HMz[this.value], animation_settings_Yv6FZZ0HMz)\n",
       "   trigger_Yv6FZZ0HMz = false\n",
       "   slider_Yv6FZZ0HMz.value = this.value\n",
       "   value_Yv6FZZ0HMz.innerHTML = this.value;\n",
       "   if (this.value == 0) reset_count_Yv6FZZ0HMz = false\n",
       "   if (this.value == labels_Yv6FZZ0HMz.length - 1) reset_count_Yv6FZZ0HMz = true\n",
       "   reset_count_Yv6FZZ0HMz = false\n",
       "}\n",
       "\n",
       "next_Yv6FZZ0HMz.addEventListener('click', function() {\n",
       "    if (slider_Yv6FZZ0HMz.value == labels_Yv6FZZ0HMz.length - 1) {\n",
       "        reset_count_Yv6FZZ0HMz = true;\n",
       "        return;\n",
       "    }\n",
       "    ++slider_Yv6FZZ0HMz.value;\n",
       "    value_Yv6FZZ0HMz.innerHTML = slider_Yv6FZZ0HMz.value;\n",
       "    trigger_Yv6FZZ0HMz = false;\n",
       "    slider_Yv6FZZ0HMz.oninput();\n",
       "})\n",
       "\n",
       "prev_Yv6FZZ0HMz.addEventListener('click', function() {\n",
       "    if (slider_Yv6FZZ0HMz.value == 0) {\n",
       "        reset_count_Yv6FZZ0HMz = false;\n",
       "        return;\n",
       "    }\n",
       "    --slider_Yv6FZZ0HMz.value;\n",
       "    value_Yv6FZZ0HMz.innerHTML = slider_Yv6FZZ0HMz.value;\n",
       "    trigger_Yv6FZZ0HMz = false;\n",
       "    slider_Yv6FZZ0HMz.oninput();\n",
       "})\n",
       "\n",
       "</script> \n"
      ]
     },
     "metadata": {},
     "output_type": "display_data"
    }
   ],
   "source": [
    "val xaxis = Axis(X, title = \"Generation\") setLimits (0.0, 9.0)\n",
    "val yaxis = Axis(Y, title = \"Death Rate\") setLimits(0.0, 1.0)\n",
    "\n",
    "// lets also plot a second y variable\n",
    "val yaxis2 = Axis(\n",
    "    Y,\n",
    "    position = 2, \n",
    "    title = \"Nb rats\",\n",
    "    overlaying = Axis(Y), // this ensures that the axis sits on a seperate axis\n",
    "    side = RIGHT_SIDE, // this ensures the axis is on the right hand side\n",
    "    tickformat = \"0.0f\" // this will keep formatting reasonable for display purposes\n",
    ").setLimits (0.0, 10000.0)\n",
    "\n",
    "// we can also specifiy the underlying layout directly - sometimes this can be useful\n",
    "val layout = ChartLayout(\"Animation XY with Multiple Series\") setAxes(xaxis, yaxis, yaxis2)\n",
    "\n",
    "val animation = \n",
    "    (0 to generation.size-1)\n",
    "    .map(x => XY(generation.take(x+1), deathRateSeries.take(x+1)) setName \"Death Rate\")\n",
    "    .toList\n",
    "\n",
    "val animation2 = \n",
    "    (0 to generation.size-1)\n",
    "    .map(x => XY(generation.take(x+1), nbRatsSeries.take(x+1)) setName \"Nb of rats\" setAxis yaxis2)\n",
    "    .toList\n",
    "\n",
    "val chart = (\n",
    "    Chart(animated = true, transition_duration=100, animate_multiple_series = true)\n",
    "    setChartLayout layout \n",
    "    addSeries animation\n",
    "    addSeries animation2\n",
    "    setLegend(x = 0.5, y = -0.5, orientation = HORIZONTAL, xanchor = AUTO, yanchor = AUTO)\n",
    ") \n",
    "\n",
    "chart.plotInline"
   ]
  },
  {
   "cell_type": "markdown",
   "metadata": {
    "pycharm": {
     "name": "#%% md\n"
    }
   },
   "source": [
    "//FAZAL: It took me a while to get how the heat map works but I think I get it now. However, for this to look like an\n",
    "//actual grid I would need to draw the grid itself, i.e. black lines around each cell of the heatmap. Can we do this?\n"
   ]
  },
  {
   "cell_type": "code",
   "execution_count": 63,
   "metadata": {
    "pycharm": {
     "name": "#%%\n"
    }
   },
   "outputs": [
    {
     "data": {
      "text/html": [
       "<div id=\"grid-container_VBI59DiEbD\" class=\"grid-container\" align=\"center\"> \n",
       "<div id=\"grid_VBI59DiEbD\" class=\"grid\" align=\"center\"> \n",
       "<div id=\"graph_ApXCMWRn6r\" class=\"graph\"></div> \n",
       "</div> \n",
       "</div> \n",
       "<script>\n",
       "var masonry = new Macy({\n",
       "    container: '#grid_VBI59DiEbD',\n",
       "    debug: true,\n",
       "    mobileFirst: true,\n",
       "    columns: 1,\n",
       "    margin: {\n",
       "        x: 0,\n",
       "        y: 0\n",
       "    }\n",
       "  });\n",
       "\n",
       "  var traces_ApXCMWRn6r = [{\"name\":\"BgdADwMfr5\",\"type\":\"heatmap\",\"z\":[[232474,98079,1580500],[1997369,4724,281864],[54506,6560,1583817]]}];\n",
       " var layout_ApXCMWRn6r = {\"height\":550,\"width\":600,\"hovermode\":\"closest\",\"title\":{\"text\":\"Nb of rats at time step 10\"},\"showlegend\":true};\n",
       " var config_ApXCMWRn6r = {\"responsive\":true,\"scrollZoom\":true,\"displaylogo\":false};\n",
       " Plotly.newPlot(\"graph_ApXCMWRn6r\", traces_ApXCMWRn6r, layout_ApXCMWRn6r, config_ApXCMWRn6r);\n",
       "</script> \n"
      ]
     },
     "metadata": {},
     "output_type": "display_data"
    }
   ],
   "source": [
    "val nbCol = (0 to 2).toList\n",
    "val mySeries:List[Double] = nbCol.flatMap(r => {\n",
    "    nbCol.map{c => getDataFromSingleModel(model, nbRats, List(r,c), numberOfSteps).last.toDouble}})\n",
    "\n",
    "val series = XYZ(z=mySeries,n=3) asType HEATMAP\n",
    "\n",
    "val chart = Chart().addSeries(series).setTitle(\"Nb of rats at time step 10\")\n",
    "\n",
    "chart.plotInline"
   ]
  },
  {
   "cell_type": "code",
   "execution_count": 64,
   "metadata": {},
   "outputs": [
    {
     "data": {
      "text/html": [
       "<div id=\"grid-container_fZ7E1sLoP6\" class=\"grid-container\" align=\"center\"> \n",
       "<div id=\"grid_fZ7E1sLoP6\" class=\"grid\" align=\"center\"> \n",
       "<div id=\"graph_3Ll5InTDLE\" class=\"graph\"></div> \n",
       "</div> \n",
       "</div> \n",
       "<script>\n",
       "var masonry = new Macy({\n",
       "    container: '#grid_fZ7E1sLoP6',\n",
       "    debug: true,\n",
       "    mobileFirst: true,\n",
       "    columns: 1,\n",
       "    margin: {\n",
       "        x: 0,\n",
       "        y: 0\n",
       "    }\n",
       "  });\n",
       "\n",
       "  var traces_3Ll5InTDLE = [{\"name\":\"Zc9NU0L2ln\",\"type\":\"surface\",\"colorbar\":{\"title\":{\"text\":\"Rat Population\",\"side\":\"right\"}},\"z\":[[232474,98079,1580500],[1997369,4724,281864],[54506,6560,1583817]]}];\n",
       " var layout_3Ll5InTDLE = {\"height\":550,\"width\":600,\"hovermode\":\"closest\",\"title\":{\"text\":\"Surface\"},\"showlegend\":true};\n",
       " var config_3Ll5InTDLE = {\"responsive\":true,\"scrollZoom\":true,\"displaylogo\":false};\n",
       " Plotly.newPlot(\"graph_3Ll5InTDLE\", traces_3Ll5InTDLE, layout_3Ll5InTDLE, config_3Ll5InTDLE);\n",
       "</script> \n"
      ]
     },
     "metadata": {},
     "output_type": "display_data"
    }
   ],
   "source": [
    "val ratsAsSurface = XYZ(z=mySeries,n=3) asType SURFACE setColorBar(\"Rat Population\", RIGHT_SIDE)\n",
    "\n",
    "val ratsChart = Chart() addSeries ratsAsSurface setTitle \"Surface\"\n",
    "\n",
    "ratsChart.plotInline"
   ]
  },
  {
   "cell_type": "code",
   "execution_count": 66,
   "metadata": {},
   "outputs": [
    {
     "data": {
      "text/html": [
       "<div id=\"grid-container_V9wz7Geqdx\" class=\"grid-container\" align=\"center\"> \n",
       "<div id=\"grid_V9wz7Geqdx\" class=\"grid\" align=\"center\"> \n",
       "\n",
       "<div align=\"center\">\n",
       "  <div id=\"graph_IQlKgR4qSo\" class=\"graph\"></div>\n",
       "  <div class=\"animationInterface\">\n",
       "    <button id=\"play_IQlKgR4qSo\" class=\"picta-button\">&#9658</button>\n",
       "    <button id=\"pause_IQlKgR4qSo\" class=\"picta-button\">&#9616;&#9616;</button>\n",
       "    <button id=\"prev_IQlKgR4qSo\" class=\"picta-button\"><</button>\n",
       "    <button id=\"next_IQlKgR4qSo\" class=\"picta-button\">></button>\n",
       "\n",
       "    <div id=\"sliderContainer_IQlKgR4qSo\" class=\"progressBar\"></div>\n",
       "    <div id=\"counterContainer_IQlKgR4qSo\" class=\"inline-div\">\n",
       "        <h3>Frame: </h3> <h3 id=\"value_IQlKgR4qSo\">0</h3>\n",
       "    </div>\n",
       "   </div>\n",
       "</div> \n",
       "\n",
       "</div> \n",
       "</div> \n",
       "<script>\n",
       "var masonry = new Macy({\n",
       "    container: '#grid_V9wz7Geqdx',\n",
       "    debug: true,\n",
       "    mobileFirst: true,\n",
       "    columns: 1,\n",
       "    margin: {\n",
       "        x: 0,\n",
       "        y: 0\n",
       "    }\n",
       "  });\n",
       "\n",
       "var graph_IQlKgR4qSo = document.getElementById('graph_IQlKgR4qSo')\n",
       "\n",
       "var layout_IQlKgR4qSo = {\"height\":550,\"width\":600,\"hovermode\":\"closest\",\"title\":{\"text\":\"Surface\"},\"showlegend\":true,\"scene\":{\"zaxis\":{\"showgrid\":true,\"zeroline\":false,\"showline\":false,\"range\":[0,3000000]}}}\n",
       "var frames_IQlKgR4qSo = [{\"name\":\"3Kr9yN4E1V (F0)\",\"data\":[{\"name\":\"3Kr9yN4E1V (F0)\",\"type\":\"surface\",\"colorbar\":{\"title\":{\"text\":\"Rat Population\",\"side\":\"right\"}},\"z\":[[6,2,15],[24,9,23],[12,4,13]]}]},{\"name\":\"PlpjxXImoV (F1)\",\"data\":[{\"name\":\"PlpjxXImoV (F1)\",\"type\":\"surface\",\"colorbar\":{\"title\":{\"text\":\"Rat Population\",\"side\":\"right\"}},\"z\":[[18,12,48],[43,9,91],[64,22,40]]}]},{\"name\":\"NaWJVGMjub (F2)\",\"data\":[{\"name\":\"NaWJVGMjub (F2)\",\"type\":\"surface\",\"colorbar\":{\"title\":{\"text\":\"Rat Population\",\"side\":\"right\"}},\"z\":[[47,43,235],[105,23,189],[288,54,152]]}]},{\"name\":\"cEmvQaQtm0 (F3)\",\"data\":[{\"name\":\"cEmvQaQtm0 (F3)\",\"type\":\"surface\",\"colorbar\":{\"title\":{\"text\":\"Rat Population\",\"side\":\"right\"}},\"z\":[[255,137,1346],[548,128,906],[447,121,755]]}]},{\"name\":\"qMemsdfQiv (F4)\",\"data\":[{\"name\":\"qMemsdfQiv (F4)\",\"type\":\"surface\",\"colorbar\":{\"title\":{\"text\":\"Rat Population\",\"side\":\"right\"}},\"z\":[[1294,207,6684],[1972,365,981],[391,141,3719]]}]},{\"name\":\"zjJRjDonQQ (F5)\",\"data\":[{\"name\":\"zjJRjDonQQ (F5)\",\"type\":\"surface\",\"colorbar\":{\"title\":{\"text\":\"Rat Population\",\"side\":\"right\"}},\"z\":[[4892,714,39943],[4593,332,4295],[1143,399,9649]]}]},{\"name\":\"wNxaX0SPnp (F6)\",\"data\":[{\"name\":\"wNxaX0SPnp (F6)\",\"type\":\"surface\",\"colorbar\":{\"title\":{\"text\":\"Rat Population\",\"side\":\"right\"}},\"z\":[[11041,970,195827],[25462,502,9289],[4077,2101,45256]]}]},{\"name\":\"4koLmuMszB (F7)\",\"data\":[{\"name\":\"4koLmuMszB (F7)\",\"type\":\"surface\",\"colorbar\":{\"title\":{\"text\":\"Rat Population\",\"side\":\"right\"}},\"z\":[[15843,4640,126595],[145598,1321,27984],[5861,5275,142940]]}]},{\"name\":\"uYSc0LYUXV (F8)\",\"data\":[{\"name\":\"uYSc0LYUXV (F8)\",\"type\":\"surface\",\"colorbar\":{\"title\":{\"text\":\"Rat Population\",\"side\":\"right\"}},\"z\":[[83012,25764,522005],[787066,1421,129867],[11459,6354,472289]]}]},{\"name\":\"GnKuIPUkHa (F9)\",\"data\":[{\"name\":\"GnKuIPUkHa (F9)\",\"type\":\"surface\",\"colorbar\":{\"title\":{\"text\":\"Rat Population\",\"side\":\"right\"}},\"z\":[[232474,98079,1580500],[1997369,4724,281864],[54506,6560,1583817]]}]}]\n",
       "var labels_IQlKgR4qSo = [\"3Kr9yN4E1V (F0)\",\"PlpjxXImoV (F1)\",\"NaWJVGMjub (F2)\",\"cEmvQaQtm0 (F3)\",\"qMemsdfQiv (F4)\",\"zjJRjDonQQ (F5)\",\"wNxaX0SPnp (F6)\",\"4koLmuMszB (F7)\",\"uYSc0LYUXV (F8)\",\"GnKuIPUkHa (F9)\"]\n",
       "var duration_IQlKgR4qSo = 100\n",
       "var config_IQlKgR4qSo = {\"responsive\":true,\"scrollZoom\":true,\"displaylogo\":false}\n",
       "\n",
       "var traces_IQlKgR4qSo = JSON.parse(JSON.stringify(frames_IQlKgR4qSo[0].data.map(x => x)))\n",
       "\n",
       "var animation_settings_IQlKgR4qSo = {\n",
       "    mode: \"immediate\",\n",
       "    direction: {},\n",
       "    fromcurrent: true,\n",
       "    frame: [\n",
       "      {duration: duration_IQlKgR4qSo},\n",
       "      {duration: duration_IQlKgR4qSo},\n",
       "      {redraw: true}\n",
       "    ],\n",
       "    transition: [\n",
       "      {duration: duration_IQlKgR4qSo, easing: 'cubic-in-out'},\n",
       "      {duration: duration_IQlKgR4qSo, easing: 'cubic-in-out'},\n",
       "    ],\n",
       "    ordering: \"layout first\"\n",
       "}\n",
       "\n",
       "var slider_IQlKgR4qSo = document.createElement(\"input\")\n",
       "var play_IQlKgR4qSo = document.getElementById(\"play_IQlKgR4qSo\")\n",
       "var pause_IQlKgR4qSo = document.getElementById(\"pause_IQlKgR4qSo\")\n",
       "slider_IQlKgR4qSo.id = \"slider_IQlKgR4qSo\"\n",
       "slider_IQlKgR4qSo.type = \"range\"\n",
       "slider_IQlKgR4qSo.min = 0\n",
       "slider_IQlKgR4qSo.max = frames_IQlKgR4qSo.length - 1\n",
       "slider_IQlKgR4qSo.value = 0\n",
       "document.getElementById(\"sliderContainer_IQlKgR4qSo\").appendChild(slider_IQlKgR4qSo);\n",
       "\n",
       "Plotly.newPlot(graph_IQlKgR4qSo, traces_IQlKgR4qSo, layout_IQlKgR4qSo, config_IQlKgR4qSo)\n",
       ".then(function () { Plotly.addFrames(graph_IQlKgR4qSo, frames_IQlKgR4qSo) })\n",
       "\n",
       "var trigger_IQlKgR4qSo = true\n",
       "var reset_count_IQlKgR4qSo = false\n",
       "\n",
       "play_IQlKgR4qSo.addEventListener('click', async function() {\n",
       "   trigger_IQlKgR4qSo = true\n",
       "   if (reset_count_IQlKgR4qSo) {\n",
       "      slider_IQlKgR4qSo.value = 0\n",
       "      reset_count_IQlKgR4qSo = false\n",
       "   }\n",
       "\n",
       "  const start_index = slider_IQlKgR4qSo.value == labels_IQlKgR4qSo.length - 1 ? 0 : slider_IQlKgR4qSo.value\n",
       "  const end_index = labels_IQlKgR4qSo.length\n",
       "  await Plotly.animate(graph_IQlKgR4qSo, labels_IQlKgR4qSo.slice(start_index, end_index), animation_settings_IQlKgR4qSo)\n",
       "})\n",
       "\n",
       "pause_IQlKgR4qSo.addEventListener('click', async function() {\n",
       "  await Plotly.animate(graph_IQlKgR4qSo, [null], animation_settings_IQlKgR4qSo)\n",
       "  trigger_IQlKgR4qSo = false;\n",
       "})\n",
       "\n",
       "graph_IQlKgR4qSo.on('plotly_redraw', () => {\n",
       "   value_IQlKgR4qSo.innerHTML = slider_IQlKgR4qSo.value;\n",
       "   if (trigger_IQlKgR4qSo & !reset_count_IQlKgR4qSo) ++slider_IQlKgR4qSo.value\n",
       "   if (slider_IQlKgR4qSo.value == labels_IQlKgR4qSo.length - 1) reset_count_IQlKgR4qSo = true\n",
       "});\n",
       "\n",
       "slider_IQlKgR4qSo.oninput = async function() {\n",
       "   await Plotly.animate(graph_IQlKgR4qSo, frames_IQlKgR4qSo[this.value], animation_settings_IQlKgR4qSo)\n",
       "   trigger_IQlKgR4qSo = false\n",
       "   slider_IQlKgR4qSo.value = this.value\n",
       "   value_IQlKgR4qSo.innerHTML = this.value;\n",
       "   if (this.value == 0) reset_count_IQlKgR4qSo = false\n",
       "   if (this.value == labels_IQlKgR4qSo.length - 1) reset_count_IQlKgR4qSo = true\n",
       "   reset_count_IQlKgR4qSo = false\n",
       "}\n",
       "\n",
       "next_IQlKgR4qSo.addEventListener('click', function() {\n",
       "    if (slider_IQlKgR4qSo.value == labels_IQlKgR4qSo.length - 1) {\n",
       "        reset_count_IQlKgR4qSo = true;\n",
       "        return;\n",
       "    }\n",
       "    ++slider_IQlKgR4qSo.value;\n",
       "    value_IQlKgR4qSo.innerHTML = slider_IQlKgR4qSo.value;\n",
       "    trigger_IQlKgR4qSo = false;\n",
       "    slider_IQlKgR4qSo.oninput();\n",
       "})\n",
       "\n",
       "prev_IQlKgR4qSo.addEventListener('click', function() {\n",
       "    if (slider_IQlKgR4qSo.value == 0) {\n",
       "        reset_count_IQlKgR4qSo = false;\n",
       "        return;\n",
       "    }\n",
       "    --slider_IQlKgR4qSo.value;\n",
       "    value_IQlKgR4qSo.innerHTML = slider_IQlKgR4qSo.value;\n",
       "    trigger_IQlKgR4qSo = false;\n",
       "    slider_IQlKgR4qSo.oninput();\n",
       "})\n",
       "\n",
       "</script> \n"
      ]
     },
     "metadata": {},
     "output_type": "display_data"
    }
   ],
   "source": [
    "def createSeries:List[List[Double]] = {\n",
    "    val nbCol = (0 to 2).toList\n",
    "    val nestedList:List[List[Double]] = nbCol.flatMap(r => {\n",
    "    nbCol.map{c => getDataFromSingleModel(model, nbRats, List(r,c), numberOfSteps).map(x=>x.toDouble)}})\n",
    "    (0 to 9).map(x => (0 to 8).map(y => nestedList(y)(x)).toList).toList\n",
    "}\n",
    "\n",
    "\n",
    "val ratsAsSurface = createSeries.map(s => XYZ(z=s,n=3) asType SURFACE setColorBar(\"Rat Population\", RIGHT_SIDE)) \n",
    "\n",
    "val ratsChart = Chart(animated = true, transition_duration=100) addSeries ratsAsSurface setTitle \"Surface\" setZAxisLimits(0, 3E6)\n",
    "\n",
    "ratsChart.plotInline"
   ]
  },
  {
   "cell_type": "code",
   "execution_count": null,
   "metadata": {},
   "outputs": [],
   "source": []
  },
  {
   "cell_type": "code",
   "execution_count": null,
   "metadata": {},
   "outputs": [],
   "source": []
  }
 ],
 "metadata": {
  "kernelspec": {
   "display_name": "Scala",
   "language": "scala",
   "name": "scala"
  },
  "language_info": {
   "codemirror_mode": "text/x-scala",
   "file_extension": ".scala",
   "mimetype": "text/x-scala",
   "name": "scala",
   "nbconvert_exporter": "script",
   "version": "2.13.2"
  }
 },
 "nbformat": 4,
 "nbformat_minor": 4
}
