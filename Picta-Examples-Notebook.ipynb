{
 "cells": [
  {
   "cell_type": "markdown",
   "metadata": {},
   "source": [
    "# 1. Setup\n",
    "\n",
    "To use Picta in a Jupyter notebook with the Almond.sh kernel, you need to first register a new Jitpack repository as some essential components of Almond are not availble in Maven Central (simply copy and run the first cell below). You then need to import the library from Maven (second cell) and initialize the notebook to have nicer outputs (optional, third cell)."
   ]
  },
  {
   "cell_type": "code",
   "execution_count": 1,
   "metadata": {},
   "outputs": [],
   "source": [
    "interp.repositories() ++= Seq(coursierapi.MavenRepository.of(\n",
    "\"https://jitpack.io\"\n",
    "))"
   ]
  },
  {
   "cell_type": "code",
   "execution_count": 2,
   "metadata": {},
   "outputs": [
    {
     "data": {
      "text/plain": [
       "\u001b[32mimport \u001b[39m\u001b[36m$ivy.$                                    \u001b[39m"
      ]
     },
     "execution_count": 2,
     "metadata": {},
     "output_type": "execute_result"
    }
   ],
   "source": [
    "import $ivy. `org.carbonateresearch::picta:0.1.1`"
   ]
  },
  {
   "cell_type": "code",
   "execution_count": 3,
   "metadata": {
    "scrolled": false
   },
   "outputs": [
    {
     "data": {
      "text/html": [
       "\n",
       "<style> #animationInterface {\n",
       "    margin-top: 50px;\n",
       "    margin-bottom: 50px;\n",
       "}\n",
       "\n",
       ".progressBar {\n",
       "    padding-top: 20px;\n",
       "    padding-bottom: 20px;\n",
       "}\n",
       "\n",
       ".inline-div {\n",
       "    display: block;\n",
       "    text-align: center;\n",
       "}\n",
       "\n",
       "h3 {\n",
       "    display: inline-block;\n",
       "    text-align: center;\n",
       "}\n",
       "\n",
       ".picta-button {\n",
       "    background-color: #003E74;\n",
       "    border: none;\n",
       "    color: white;\n",
       "    padding: 12px 28px;\n",
       "    text-align: center;\n",
       "    text-decoration: none;\n",
       "    display: inline-block;\n",
       "    font-size: 12px;\n",
       "    margin-top: 50px;\n",
       "    transition-duration: 0.4s;\n",
       "    cursor: pointer;\n",
       "}\n",
       "\n",
       ".picta-button:hover {\n",
       "    background-color: #002147;\n",
       "    color: white;\n",
       "}\n",
       "\n",
       ".grid-title h1 {\n",
       "    font-family: \"Open Sans\", verdana, arial, sans-serif;\n",
       "    font-weight: normal;\n",
       "}\n",
       "\n",
       ".grid-container {\n",
       "    padding-top: 40px;\n",
       "    background: white;\n",
       "} </style>\n",
       "<script> /** vim: et:ts=4:sw=4:sts=4\n",
       " * @license RequireJS 2.3.6 Copyright jQuery Foundation and other contributors.\n",
       " * Released under MIT license, https://github.com/requirejs/requirejs/blob/master/LICENSE\n",
       " */\n",
       "var requirejs,require,define;!function(global,setTimeout){var req,s,head,baseElement,dataMain,src,interactiveScript,currentlyAddingScript,mainScript,subPath,version=\"2.3.6\",commentRegExp=/\\/\\*[\\s\\S]*?\\*\\/|([^:\"'=]|^)\\/\\/.*$/gm,cjsRequireRegExp=/[^.]\\s*require\\s*\\(\\s*[\"']([^'\"\\s]+)[\"']\\s*\\)/g,jsSuffixRegExp=/\\.js$/,currDirRegExp=/^\\.\\//,op=Object.prototype,ostring=op.toString,hasOwn=op.hasOwnProperty,isBrowser=!(\"undefined\"==typeof window||\"undefined\"==typeof navigator||!window.document),isWebWorker=!isBrowser&&\"undefined\"!=typeof importScripts,readyRegExp=isBrowser&&\"PLAYSTATION 3\"===navigator.platform?/^complete$/:/^(complete|loaded)$/,defContextName=\"_\",isOpera=\"undefined\"!=typeof opera&&\"[object Opera]\"===opera.toString(),contexts={},cfg={},globalDefQueue=[],useInteractive=!1;function commentReplace(e,t){return t||\"\"}function isFunction(e){return\"[object Function]\"===ostring.call(e)}function isArray(e){return\"[object Array]\"===ostring.call(e)}function each(e,t){var i;if(e)for(i=0;i<e.length&&(!e[i]||!t(e[i],i,e));i+=1);}function eachReverse(e,t){var i;if(e)for(i=e.length-1;-1<i&&(!e[i]||!t(e[i],i,e));i-=1);}function hasProp(e,t){return hasOwn.call(e,t)}function getOwn(e,t){return hasProp(e,t)&&e[t]}function eachProp(e,t){var i;for(i in e)if(hasProp(e,i)&&t(e[i],i))break}function mixin(i,e,r,n){return e&&eachProp(e,function(e,t){!r&&hasProp(i,t)||(!n||\"object\"!=typeof e||!e||isArray(e)||isFunction(e)||e instanceof RegExp?i[t]=e:(i[t]||(i[t]={}),mixin(i[t],e,r,n)))}),i}function bind(e,t){return function(){return t.apply(e,arguments)}}function scripts(){return document.getElementsByTagName(\"script\")}function defaultOnError(e){throw e}function getGlobal(e){if(!e)return e;var t=global;return each(e.split(\".\"),function(e){t=t[e]}),t}function makeError(e,t,i,r){var n=new Error(t+\"\\nhttps://requirejs.org/docs/errors.html#\"+e);return n.requireType=e,n.requireModules=r,i&&(n.originalError=i),n}if(void 0===define){if(void 0!==requirejs){if(isFunction(requirejs))return;cfg=requirejs,requirejs=void 0}void 0===require||isFunction(require)||(cfg=require,require=void 0),req=requirejs=function(e,t,i,r){var n,o,a=defContextName;return isArray(e)||\"string\"==typeof e||(o=e,isArray(t)?(e=t,t=i,i=r):e=[]),o&&o.context&&(a=o.context),(n=getOwn(contexts,a))||(n=contexts[a]=req.s.newContext(a)),o&&n.configure(o),n.require(e,t,i)},req.config=function(e){return req(e)},req.nextTick=void 0!==setTimeout?function(e){setTimeout(e,4)}:function(e){e()},require||(require=req),req.version=version,req.jsExtRegExp=/^\\/|:|\\?|\\.js$/,req.isBrowser=isBrowser,s=req.s={contexts:contexts,newContext:newContext},req({}),each([\"toUrl\",\"undef\",\"defined\",\"specified\"],function(t){req[t]=function(){var e=contexts[defContextName];return e.require[t].apply(e,arguments)}}),isBrowser&&(head=s.head=document.getElementsByTagName(\"head\")[0],baseElement=document.getElementsByTagName(\"base\")[0],baseElement&&(head=s.head=baseElement.parentNode)),req.onError=defaultOnError,req.createNode=function(e,t,i){var r=e.xhtml?document.createElementNS(\"http://www.w3.org/1999/xhtml\",\"html:script\"):document.createElement(\"script\");return r.type=e.scriptType||\"text/javascript\",r.charset=\"utf-8\",r.async=!0,r},req.load=function(t,i,r){var e,n=t&&t.config||{};if(isBrowser)return(e=req.createNode(n,i,r)).setAttribute(\"data-requirecontext\",t.contextName),e.setAttribute(\"data-requiremodule\",i),!e.attachEvent||e.attachEvent.toString&&e.attachEvent.toString().indexOf(\"[native code\")<0||isOpera?(e.addEventListener(\"load\",t.onScriptLoad,!1),e.addEventListener(\"error\",t.onScriptError,!1)):(useInteractive=!0,e.attachEvent(\"onreadystatechange\",t.onScriptLoad)),e.src=r,n.onNodeCreated&&n.onNodeCreated(e,n,i,r),currentlyAddingScript=e,baseElement?head.insertBefore(e,baseElement):head.appendChild(e),currentlyAddingScript=null,e;if(isWebWorker)try{setTimeout(function(){},0),importScripts(r),t.completeLoad(i)}catch(e){t.onError(makeError(\"importscripts\",\"importScripts failed for \"+i+\" at \"+r,e,[i]))}},isBrowser&&!cfg.skipDataMain&&eachReverse(scripts(),function(e){if(head||(head=e.parentNode),dataMain=e.getAttribute(\"data-main\"))return mainScript=dataMain,cfg.baseUrl||-1!==mainScript.indexOf(\"!\")||(mainScript=(src=mainScript.split(\"/\")).pop(),subPath=src.length?src.join(\"/\")+\"/\":\"./\",cfg.baseUrl=subPath),mainScript=mainScript.replace(jsSuffixRegExp,\"\"),req.jsExtRegExp.test(mainScript)&&(mainScript=dataMain),cfg.deps=cfg.deps?cfg.deps.concat(mainScript):[mainScript],!0}),define=function(e,i,t){var r,n;\"string\"!=typeof e&&(t=i,i=e,e=null),isArray(i)||(t=i,i=null),!i&&isFunction(t)&&(i=[],t.length&&(t.toString().replace(commentRegExp,commentReplace).replace(cjsRequireRegExp,function(e,t){i.push(t)}),i=(1===t.length?[\"require\"]:[\"require\",\"exports\",\"module\"]).concat(i))),useInteractive&&(r=currentlyAddingScript||getInteractiveScript())&&(e||(e=r.getAttribute(\"data-requiremodule\")),n=contexts[r.getAttribute(\"data-requirecontext\")]),n?(n.defQueue.push([e,i,t]),n.defQueueMap[e]=!0):globalDefQueue.push([e,i,t])},define.amd={jQuery:!0},req.exec=function(text){return eval(text)},req(cfg)}function newContext(u){var i,e,l,c,d,g={waitSeconds:7,baseUrl:\"./\",paths:{},bundles:{},pkgs:{},shim:{},config:{}},p={},f={},r={},h=[],m={},n={},v={},x=1,b=1;function q(e,t,i){var r,n,o,a,s,u,c,d,p,f,l=t&&t.split(\"/\"),h=g.map,m=h&&h[\"*\"];if(e&&(u=(e=e.split(\"/\")).length-1,g.nodeIdCompat&&jsSuffixRegExp.test(e[u])&&(e[u]=e[u].replace(jsSuffixRegExp,\"\")),\".\"===e[0].charAt(0)&&l&&(e=l.slice(0,l.length-1).concat(e)),function(e){var t,i;for(t=0;t<e.length;t++)if(\".\"===(i=e[t]))e.splice(t,1),t-=1;else if(\"..\"===i){if(0===t||1===t&&\"..\"===e[2]||\"..\"===e[t-1])continue;0<t&&(e.splice(t-1,2),t-=2)}}(e),e=e.join(\"/\")),i&&h&&(l||m)){e:for(o=(n=e.split(\"/\")).length;0<o;o-=1){if(s=n.slice(0,o).join(\"/\"),l)for(a=l.length;0<a;a-=1)if((r=getOwn(h,l.slice(0,a).join(\"/\")))&&(r=getOwn(r,s))){c=r,d=o;break e}!p&&m&&getOwn(m,s)&&(p=getOwn(m,s),f=o)}!c&&p&&(c=p,d=f),c&&(n.splice(0,d,c),e=n.join(\"/\"))}return getOwn(g.pkgs,e)||e}function E(t){isBrowser&&each(scripts(),function(e){if(e.getAttribute(\"data-requiremodule\")===t&&e.getAttribute(\"data-requirecontext\")===l.contextName)return e.parentNode.removeChild(e),!0})}function w(e){var t=getOwn(g.paths,e);if(t&&isArray(t)&&1<t.length)return t.shift(),l.require.undef(e),l.makeRequire(null,{skipMap:!0})([e]),!0}function y(e){var t,i=e?e.indexOf(\"!\"):-1;return-1<i&&(t=e.substring(0,i),e=e.substring(i+1,e.length)),[t,e]}function S(e,t,i,r){var n,o,a,s,u=null,c=t?t.name:null,d=e,p=!0,f=\"\";return e||(p=!1,e=\"_@r\"+(x+=1)),u=(s=y(e))[0],e=s[1],u&&(u=q(u,c,r),o=getOwn(m,u)),e&&(u?f=i?e:o&&o.normalize?o.normalize(e,function(e){return q(e,c,r)}):-1===e.indexOf(\"!\")?q(e,c,r):e:(u=(s=y(f=q(e,c,r)))[0],f=s[1],i=!0,n=l.nameToUrl(f))),{prefix:u,name:f,parentMap:t,unnormalized:!!(a=!u||o||i?\"\":\"_unnormalized\"+(b+=1)),url:n,originalName:d,isDefine:p,id:(u?u+\"!\"+f:f)+a}}function k(e){var t=e.id,i=getOwn(p,t);return i||(i=p[t]=new l.Module(e)),i}function M(e,t,i){var r=e.id,n=getOwn(p,r);!hasProp(m,r)||n&&!n.defineEmitComplete?(n=k(e)).error&&\"error\"===t?i(n.error):n.on(t,i):\"defined\"===t&&i(m[r])}function O(i,e){var t=i.requireModules,r=!1;e?e(i):(each(t,function(e){var t=getOwn(p,e);t&&(t.error=i,t.events.error&&(r=!0,t.emit(\"error\",i)))}),r||req.onError(i))}function j(){globalDefQueue.length&&(each(globalDefQueue,function(e){var t=e[0];\"string\"==typeof t&&(l.defQueueMap[t]=!0),h.push(e)}),globalDefQueue=[])}function P(e){delete p[e],delete f[e]}function R(){var e,r,t=1e3*g.waitSeconds,n=t&&l.startTime+t<(new Date).getTime(),o=[],a=[],s=!1,u=!0;if(!i){if(i=!0,eachProp(f,function(e){var t=e.map,i=t.id;if(e.enabled&&(t.isDefine||a.push(e),!e.error))if(!e.inited&&n)w(i)?s=r=!0:(o.push(i),E(i));else if(!e.inited&&e.fetched&&t.isDefine&&(s=!0,!t.prefix))return u=!1}),n&&o.length)return(e=makeError(\"timeout\",\"Load timeout for modules: \"+o,null,o)).contextName=l.contextName,O(e);u&&each(a,function(e){!function n(o,a,s){var e=o.map.id;o.error?o.emit(\"error\",o.error):(a[e]=!0,each(o.depMaps,function(e,t){var i=e.id,r=getOwn(p,i);!r||o.depMatched[t]||s[i]||(getOwn(a,i)?(o.defineDep(t,m[i]),o.check()):n(r,a,s))}),s[e]=!0)}(e,{},{})}),n&&!r||!s||!isBrowser&&!isWebWorker||d||(d=setTimeout(function(){d=0,R()},50)),i=!1}}function a(e){hasProp(m,e[0])||k(S(e[0],null,!0)).init(e[1],e[2])}function o(e,t,i,r){e.detachEvent&&!isOpera?r&&e.detachEvent(r,t):e.removeEventListener(i,t,!1)}function s(e){var t=e.currentTarget||e.srcElement;return o(t,l.onScriptLoad,\"load\",\"onreadystatechange\"),o(t,l.onScriptError,\"error\"),{node:t,id:t&&t.getAttribute(\"data-requiremodule\")}}function T(){var e;for(j();h.length;){if(null===(e=h.shift())[0])return O(makeError(\"mismatch\",\"Mismatched anonymous define() module: \"+e[e.length-1]));a(e)}l.defQueueMap={}}return c={require:function(e){return e.require?e.require:e.require=l.makeRequire(e.map)},exports:function(e){if(e.usingExports=!0,e.map.isDefine)return e.exports?m[e.map.id]=e.exports:e.exports=m[e.map.id]={}},module:function(e){return e.module?e.module:e.module={id:e.map.id,uri:e.map.url,config:function(){return getOwn(g.config,e.map.id)||{}},exports:e.exports||(e.exports={})}}},(e=function(e){this.events=getOwn(r,e.id)||{},this.map=e,this.shim=getOwn(g.shim,e.id),this.depExports=[],this.depMaps=[],this.depMatched=[],this.pluginMaps={},this.depCount=0}).prototype={init:function(e,t,i,r){r=r||{},this.inited||(this.factory=t,i?this.on(\"error\",i):this.events.error&&(i=bind(this,function(e){this.emit(\"error\",e)})),this.depMaps=e&&e.slice(0),this.errback=i,this.inited=!0,this.ignore=r.ignore,r.enabled||this.enabled?this.enable():this.check())},defineDep:function(e,t){this.depMatched[e]||(this.depMatched[e]=!0,this.depCount-=1,this.depExports[e]=t)},fetch:function(){if(!this.fetched){this.fetched=!0,l.startTime=(new Date).getTime();var e=this.map;if(!this.shim)return e.prefix?this.callPlugin():this.load();l.makeRequire(this.map,{enableBuildCallback:!0})(this.shim.deps||[],bind(this,function(){return e.prefix?this.callPlugin():this.load()}))}},load:function(){var e=this.map.url;n[e]||(n[e]=!0,l.load(this.map.id,e))},check:function(){if(this.enabled&&!this.enabling){var t,e,i=this.map.id,r=this.depExports,n=this.exports,o=this.factory;if(this.inited){if(this.error)this.emit(\"error\",this.error);else if(!this.defining){if(this.defining=!0,this.depCount<1&&!this.defined){if(isFunction(o)){if(this.events.error&&this.map.isDefine||req.onError!==defaultOnError)try{n=l.execCb(i,o,r,n)}catch(e){t=e}else n=l.execCb(i,o,r,n);if(this.map.isDefine&&void 0===n&&((e=this.module)?n=e.exports:this.usingExports&&(n=this.exports)),t)return t.requireMap=this.map,t.requireModules=this.map.isDefine?[this.map.id]:null,t.requireType=this.map.isDefine?\"define\":\"require\",O(this.error=t)}else n=o;if(this.exports=n,this.map.isDefine&&!this.ignore&&(m[i]=n,req.onResourceLoad)){var a=[];each(this.depMaps,function(e){a.push(e.normalizedMap||e)}),req.onResourceLoad(l,this.map,a)}P(i),this.defined=!0}this.defining=!1,this.defined&&!this.defineEmitted&&(this.defineEmitted=!0,this.emit(\"defined\",this.exports),this.defineEmitComplete=!0)}}else hasProp(l.defQueueMap,i)||this.fetch()}},callPlugin:function(){var u=this.map,c=u.id,e=S(u.prefix);this.depMaps.push(e),M(e,\"defined\",bind(this,function(e){var o,t,i,r=getOwn(v,this.map.id),n=this.map.name,a=this.map.parentMap?this.map.parentMap.name:null,s=l.makeRequire(u.parentMap,{enableBuildCallback:!0});return this.map.unnormalized?(e.normalize&&(n=e.normalize(n,function(e){return q(e,a,!0)})||\"\"),M(t=S(u.prefix+\"!\"+n,this.map.parentMap,!0),\"defined\",bind(this,function(e){this.map.normalizedMap=t,this.init([],function(){return e},null,{enabled:!0,ignore:!0})})),void((i=getOwn(p,t.id))&&(this.depMaps.push(t),this.events.error&&i.on(\"error\",bind(this,function(e){this.emit(\"error\",e)})),i.enable()))):r?(this.map.url=l.nameToUrl(r),void this.load()):((o=bind(this,function(e){this.init([],function(){return e},null,{enabled:!0})})).error=bind(this,function(e){this.inited=!0,(this.error=e).requireModules=[c],eachProp(p,function(e){0===e.map.id.indexOf(c+\"_unnormalized\")&&P(e.map.id)}),O(e)}),o.fromText=bind(this,function(e,t){var i=u.name,r=S(i),n=useInteractive;t&&(e=t),n&&(useInteractive=!1),k(r),hasProp(g.config,c)&&(g.config[i]=g.config[c]);try{req.exec(e)}catch(e){return O(makeError(\"fromtexteval\",\"fromText eval for \"+c+\" failed: \"+e,e,[c]))}n&&(useInteractive=!0),this.depMaps.push(r),l.completeLoad(i),s([i],o)}),void e.load(u.name,s,o,g))})),l.enable(e,this),this.pluginMaps[e.id]=e},enable:function(){(f[this.map.id]=this).enabled=!0,this.enabling=!0,each(this.depMaps,bind(this,function(e,t){var i,r,n;if(\"string\"==typeof e){if(e=S(e,this.map.isDefine?this.map:this.map.parentMap,!1,!this.skipMap),this.depMaps[t]=e,n=getOwn(c,e.id))return void(this.depExports[t]=n(this));this.depCount+=1,M(e,\"defined\",bind(this,function(e){this.undefed||(this.defineDep(t,e),this.check())})),this.errback?M(e,\"error\",bind(this,this.errback)):this.events.error&&M(e,\"error\",bind(this,function(e){this.emit(\"error\",e)}))}i=e.id,r=p[i],hasProp(c,i)||!r||r.enabled||l.enable(e,this)})),eachProp(this.pluginMaps,bind(this,function(e){var t=getOwn(p,e.id);t&&!t.enabled&&l.enable(e,this)})),this.enabling=!1,this.check()},on:function(e,t){var i=this.events[e];i||(i=this.events[e]=[]),i.push(t)},emit:function(e,t){each(this.events[e],function(e){e(t)}),\"error\"===e&&delete this.events[e]}},(l={config:g,contextName:u,registry:p,defined:m,urlFetched:n,defQueue:h,defQueueMap:{},Module:e,makeModuleMap:S,nextTick:req.nextTick,onError:O,configure:function(e){if(e.baseUrl&&\"/\"!==e.baseUrl.charAt(e.baseUrl.length-1)&&(e.baseUrl+=\"/\"),\"string\"==typeof e.urlArgs){var i=e.urlArgs;e.urlArgs=function(e,t){return(-1===t.indexOf(\"?\")?\"?\":\"&\")+i}}var r=g.shim,n={paths:!0,bundles:!0,config:!0,map:!0};eachProp(e,function(e,t){n[t]?(g[t]||(g[t]={}),mixin(g[t],e,!0,!0)):g[t]=e}),e.bundles&&eachProp(e.bundles,function(e,t){each(e,function(e){e!==t&&(v[e]=t)})}),e.shim&&(eachProp(e.shim,function(e,t){isArray(e)&&(e={deps:e}),!e.exports&&!e.init||e.exportsFn||(e.exportsFn=l.makeShimExports(e)),r[t]=e}),g.shim=r),e.packages&&each(e.packages,function(e){var t;t=(e=\"string\"==typeof e?{name:e}:e).name,e.location&&(g.paths[t]=e.location),g.pkgs[t]=e.name+\"/\"+(e.main||\"main\").replace(currDirRegExp,\"\").replace(jsSuffixRegExp,\"\")}),eachProp(p,function(e,t){e.inited||e.map.unnormalized||(e.map=S(t,null,!0))}),(e.deps||e.callback)&&l.require(e.deps||[],e.callback)},makeShimExports:function(t){return function(){var e;return t.init&&(e=t.init.apply(global,arguments)),e||t.exports&&getGlobal(t.exports)}},makeRequire:function(o,a){function s(e,t,i){var r,n;return a.enableBuildCallback&&t&&isFunction(t)&&(t.__requireJsBuild=!0),\"string\"==typeof e?isFunction(t)?O(makeError(\"requireargs\",\"Invalid require call\"),i):o&&hasProp(c,e)?c[e](p[o.id]):req.get?req.get(l,e,o,s):(r=S(e,o,!1,!0).id,hasProp(m,r)?m[r]:O(makeError(\"notloaded\",'Module name \"'+r+'\" has not been loaded yet for context: '+u+(o?\"\":\". Use require([])\")))):(T(),l.nextTick(function(){T(),(n=k(S(null,o))).skipMap=a.skipMap,n.init(e,t,i,{enabled:!0}),R()}),s)}return a=a||{},mixin(s,{isBrowser:isBrowser,toUrl:function(e){var t,i=e.lastIndexOf(\".\"),r=e.split(\"/\")[0];return-1!==i&&(!(\".\"===r||\"..\"===r)||1<i)&&(t=e.substring(i,e.length),e=e.substring(0,i)),l.nameToUrl(q(e,o&&o.id,!0),t,!0)},defined:function(e){return hasProp(m,S(e,o,!1,!0).id)},specified:function(e){return e=S(e,o,!1,!0).id,hasProp(m,e)||hasProp(p,e)}}),o||(s.undef=function(i){j();var e=S(i,o,!0),t=getOwn(p,i);t.undefed=!0,E(i),delete m[i],delete n[e.url],delete r[i],eachReverse(h,function(e,t){e[0]===i&&h.splice(t,1)}),delete l.defQueueMap[i],t&&(t.events.defined&&(r[i]=t.events),P(i))}),s},enable:function(e){getOwn(p,e.id)&&k(e).enable()},completeLoad:function(e){var t,i,r,n=getOwn(g.shim,e)||{},o=n.exports;for(j();h.length;){if(null===(i=h.shift())[0]){if(i[0]=e,t)break;t=!0}else i[0]===e&&(t=!0);a(i)}if(l.defQueueMap={},r=getOwn(p,e),!t&&!hasProp(m,e)&&r&&!r.inited){if(!(!g.enforceDefine||o&&getGlobal(o)))return w(e)?void 0:O(makeError(\"nodefine\",\"No define call for \"+e,null,[e]));a([e,n.deps||[],n.exportsFn])}R()},nameToUrl:function(e,t,i){var r,n,o,a,s,u,c=getOwn(g.pkgs,e);if(c&&(e=c),u=getOwn(v,e))return l.nameToUrl(u,t,i);if(req.jsExtRegExp.test(e))a=e+(t||\"\");else{for(r=g.paths,o=(n=e.split(\"/\")).length;0<o;o-=1)if(s=getOwn(r,n.slice(0,o).join(\"/\"))){isArray(s)&&(s=s[0]),n.splice(0,o,s);break}a=n.join(\"/\"),a=(\"/\"===(a+=t||(/^data\\:|^blob\\:|\\?/.test(a)||i?\"\":\".js\")).charAt(0)||a.match(/^[\\w\\+\\.\\-]+:/)?\"\":g.baseUrl)+a}return g.urlArgs&&!/^blob\\:/.test(a)?a+g.urlArgs(e,a):a},load:function(e,t){req.load(l,e,t)},execCb:function(e,t,i,r){return t.apply(r,i)},onScriptLoad:function(e){if(\"load\"===e.type||readyRegExp.test((e.currentTarget||e.srcElement).readyState)){interactiveScript=null;var t=s(e);l.completeLoad(t.id)}},onScriptError:function(e){var i=s(e);if(!w(i.id)){var r=[];return eachProp(p,function(e,t){0!==t.indexOf(\"_@r\")&&each(e.depMaps,function(e){if(e.id===i.id)return r.push(t),!0})}),O(makeError(\"scripterror\",'Script error for \"'+i.id+(r.length?'\", needed by: '+r.join(\", \"):'\"'),e,[i.id]))}}}).require=l.makeRequire(),l}function getInteractiveScript(){return interactiveScript&&\"interactive\"===interactiveScript.readyState||eachReverse(scripts(),function(e){if(\"interactive\"===e.readyState)return interactiveScript=e}),interactiveScript}}(this,\"undefined\"==typeof setTimeout?void 0:setTimeout); </script>\n",
       "<script>\n",
       " require.config({\n",
       "   paths: {\n",
       "     'plotly': \"https://cdn.plot.ly/plotly-latest.min\",\n",
       "     'macy': \"https://cdn.jsdelivr.net/npm/macy@2.5.1/dist/macy.min\",\n",
       "     'merge': \"https://unpkg.com/merge-images@2.0.0/dist/index.umd\"\n",
       "   },\n",
       " })\n",
       "require( ['plotly', 'macy', 'merge'], function(Plotly, Macy, mergeImages) {\n",
       " window.Plotly = Plotly;\n",
       " window.Macy = Macy;\n",
       " window.mergeImages = mergeImages;\n",
       "})\n",
       "</script>\n"
      ]
     },
     "metadata": {},
     "output_type": "display_data"
    },
    {
     "data": {
      "text/plain": [
       "\u001b[32mimport \u001b[39m\u001b[36morg.carbonateresearch.picta.render.Html.initNotebook // required to initialize jupyter notebook mode\n",
       "\u001b[39m"
      ]
     },
     "execution_count": 3,
     "metadata": {},
     "output_type": "execute_result"
    }
   ],
   "source": [
    "import org.carbonateresearch.picta.render.Html.initNotebook // required to initialize jupyter notebook mode\n",
    "initNotebook() // stops ugly output"
   ]
  },
  {
   "cell_type": "markdown",
   "metadata": {},
   "source": [
    "# 1. Basics\n",
    "\n",
    "The aim of the Picta library is to be a highly configurable and composable charting library for data exploration. The library takes a grammatical approach to chart construction, using a DSL for creating plots. \n",
    "\n",
    "The following examples are aimed at demonstrating the libraries capabilities, and eventually make constructing charts using this library easy and intuitive."
   ]
  },
  {
   "cell_type": "markdown",
   "metadata": {},
   "source": [
    "### Main Components\n",
    "\n",
    "Picta graphs are constructed in a modular manner. The main components are:\n",
    "\n",
    "1. `Canvas`: This is is the top-level component for representing the display. A `Canvas` may consist of multiple charts.\n",
    "\n",
    "\n",
    "2. `Chart`: This is the component that corresponds to an actual chart (i.e. scatter, pie etc).\n",
    "\n",
    "\n",
    "3. `Series`: This is the data series that is plotted on a `Chart`. `Series` come in 3 types:\n",
    "\n",
    "    - `XY`:   This is series data for constructing a 2D chart\n",
    "    - `XYZ`:  This is series data for constructing a 3D chart\n",
    "    - `Map`:  This is series data that constructs a Map chart\n",
    "    \n",
    "\n",
    "4. `ChartLayout`: This configures various parts of how the `Chart` is represented on screen.\n",
    "\n",
    "`Chart` may occassionally also make use of the `Config` component for further configuration. `Config` specifies whether the plot is responsive.\n",
    "\n",
    "The following examples in this notebook should provide a number of interactive examples to get used to the Picta library."
   ]
  },
  {
   "cell_type": "markdown",
   "metadata": {},
   "source": [
    "### Importing the Library\n",
    "\n",
    "Importing as below should bring in the most frequently used Components in the library."
   ]
  },
  {
   "cell_type": "code",
   "execution_count": 4,
   "metadata": {},
   "outputs": [],
   "source": [
    "import org.carbonateresearch.picta._"
   ]
  },
  {
   "cell_type": "markdown",
   "metadata": {},
   "source": [
    "### Create Some Dummy Data to Use in the Examples\n",
    "\n",
    "Here we create some dummy data to be used in the examples for this notebook."
   ]
  },
  {
   "cell_type": "code",
   "execution_count": 5,
   "metadata": {},
   "outputs": [],
   "source": [
    "val x = List.range(0, 100).map(x => scala.util.Random.nextDouble() * 50)\n",
    "val y = List.range(0, 100).map(x => scala.util.Random.nextDouble() * 50)\n",
    "val z = List.range(0, 100).map(x => scala.util.Random.nextDouble() * 50)"
   ]
  },
  {
   "cell_type": "markdown",
   "metadata": {},
   "source": [
    "### 2D Plots\n",
    "\n",
    "`Series` that represent 2D data are represented by `XY` series types.\n",
    "\n",
    "\n",
    "#### Scatter Plot\n",
    "\n",
    "An example `Scatter` plot is below. \n",
    "\n",
    "Note: This is just one way to call the library functions. Another way that uses function chaining will be shown immediately after this example."
   ]
  },
  {
   "cell_type": "code",
   "execution_count": 6,
   "metadata": {},
   "outputs": [
    {
     "data": {
      "text/html": [
       "<div id=\"grid-container_WHFgXnayen\" class=\"grid-container\" align=\"center\"> \n",
       "<div id=\"grid_WHFgXnayen\" class=\"grid\" align=\"center\"> \n",
       "<div id=\"graph_xk3bwjqxvo\" class=\"graph\"></div> \n",
       "</div> \n",
       "</div> \n",
       "<script>\n",
       "var masonry = new Macy({\n",
       "    container: '#grid_WHFgXnayen',\n",
       "    debug: true,\n",
       "    mobileFirst: true,\n",
       "    columns: 1,\n",
       "    margin: {\n",
       "        x: 0,\n",
       "        y: 50\n",
       "    }\n",
       "  });\n",
       "\n",
       "  var traces_xk3bwjqxvo = [{\"name\":\"Tmf1nJwiAO\",\"type\":\"scatter\",\"mode\":\"markers\",\"x\":[32.359855188064195,19.485622095922327,2.020941198697701,16.964521832557523,26.56342140698297,43.010573532626395,47.9277101197907,35.22037256073397,8.279488472837675,11.948558321838226,22.801719662389814,13.695728052110672,0.2538123801610115,29.915478840244987,28.960538766553885,7.029031195072966,29.4315226595905,12.86187076216922,45.108807960279464,23.339767635241675,2.7736024011898675,36.84544690835178,12.048631848411079,39.29258762139825,25.000543960285142,21.777244134539348,38.02483129240579,42.08121164082313,7.587255113921043,49.69635119040683,22.76055089724155,31.18889025301394,32.24923292384509,2.3098684219657164,23.310959188166407,15.370035302825597,28.888589125178367,34.028849954559156,16.74754821682421,13.198088748652442,7.50951076377035,23.53767768723462,4.38282659780751,8.737508259772525,45.966244575233986,19.05337861436879,49.75493734259676,27.423229503085533,30.572731547022826,9.863119945062493,47.914010225229426,31.068761240735874,24.5814975895028,19.47219772145392,36.68682562883917,35.074551290377066,0.330483724980446,23.751501386424074,31.54363406028552,25.371072921349786,14.45993850167065,0.8425683197841427,44.45073086052771,47.40653306202538,32.01756616363996,18.259996119410264,33.66466335385588,4.576949906848704,14.498630507574644,6.625096000224473,25.808694870453465,38.896770675424456,28.90869805604802,8.771350192365961,3.769450935590013,22.421061809529718,9.790270227986397,27.581323178160726,13.961399295045052,13.955730457072713,13.82052601149512,25.846377396663833,14.329094000012866,31.930083143490844,47.065932939474585,6.684630676849657,10.091903527541179,10.956456748487343,18.270497762736156,23.60927896762553,7.683167123533485,46.564524493141676,27.65795114611705,35.208503179879244,8.595523040468656,39.87327947660815,39.64414529667521,30.579869407256183,13.916398206218405,31.551589404647796],\"y\":[9.584510368825844,8.156222988143968,17.22243200075567,12.318597779061523,39.22237255428148,42.36676029134217,28.19884080741107,15.448149515089382,22.85750523711994,19.696065643700905,41.85954895510029,35.26680025470073,16.420270761135527,18.135574226294242,48.56610919653025,24.47287176079201,14.615217780896355,41.7660398766987,18.17826827476911,2.254377380696526,7.08905765195963,5.266235975408601,37.616244116761095,4.6465808663843475,3.1813993775243743,41.51225698614521,34.874594274801076,28.345288529239422,16.232689355034598,29.11342744856018,34.09976626974592,9.27990697478921,32.65229627260094,5.7249732282930506,5.728251500133003,37.65066408457261,7.9906938886700365,47.28423681119433,2.8794724804723004,41.84729230647671,32.11320422751122,2.9363750497183814,10.207321760628568,24.691872683391246,38.23882234681722,30.347097719856997,24.236557254968737,6.786401120250607,46.08608587913879,26.34417718843349,34.84497656464981,23.39605531348184,27.659045491836743,43.38605899841333,35.999604631721624,33.262023627702995,15.30984493303737,23.22508373606995,10.114870806843035,30.013147725469718,35.63048028311038,15.314449097227333,4.473016275617336,49.433505095092265,49.454794128169574,29.002175851479162,0.031751831146192844,38.743489539787156,7.792796783779971,45.36201178476826,12.641442694536053,47.26478519684417,45.87289731095059,36.63030341340649,14.203854567566854,11.365062737884667,32.633678425902914,8.649560650110184,16.626783154872133,40.41610083364356,20.985330379812016,44.46352157831486,24.563635746150847,14.649419549308075,4.9518894290683955,35.26521955256467,33.87430068701083,30.256416245161954,33.40894926113318,38.26865213871731,31.503420494393847,21.855380049095942,6.5475152747122065,49.756318576125615,39.04443452084269,7.5356444337305035,40.42319663923923,25.549023686610223,36.642520654509504,37.08954345837153]}];\n",
       " var layout_xk3bwjqxvo = {\"height\":550,\"width\":600,\"hovermode\":\"closest\",\"title\":{\"text\":\"My First Chart\"},\"showlegend\":true};\n",
       " var config_xk3bwjqxvo = {\"responsive\":true,\"scrollZoom\":true,\"displaylogo\":false};\n",
       " Plotly.newPlot(\"graph_xk3bwjqxvo\", traces_xk3bwjqxvo, layout_xk3bwjqxvo, config_xk3bwjqxvo);\n",
       "</script> \n"
      ]
     },
     "metadata": {},
     "output_type": "display_data"
    }
   ],
   "source": [
    "// create the data series using the data from above\n",
    "// 'asType SCATTER' transforms the series into a scatter chart\n",
    "// 'drawStyle Markers' specifies the style of the markers the chart should have\n",
    "// if a name is not provided to the series, Picta generates a random name to help keep track of the series in charts\n",
    "// multiple series.\n",
    "val series = XY(x, y) asType SCATTER drawStyle MARKERS\n",
    "\n",
    "// create a chart by adding to it a data series. We set the title as 'First Chart'\n",
    "val chart = Chart() addSeries series setTitle \"My First Chart\"\n",
    "\n",
    "// if we have a single chart, then we do not need to use the Canvas and can simply call chart.plot\n",
    "chart.plotInline"
   ]
  },
  {
   "cell_type": "markdown",
   "metadata": {},
   "source": [
    "### Simple costumization\n",
    "This plot is nice, but could use some simple costumization to make it more attractive. First, the data series does not have a name and so the legend come with a generated arbitrary name (not very useful). Second, the X and Y axis don't have labels. Let's fix that."
   ]
  },
  {
   "cell_type": "code",
   "execution_count": 7,
   "metadata": {},
   "outputs": [
    {
     "data": {
      "text/html": [
       "<div id=\"grid-container_3Cr3vWsttU\" class=\"grid-container\" align=\"center\"> \n",
       "<div id=\"grid_3Cr3vWsttU\" class=\"grid\" align=\"center\"> \n",
       "<div id=\"graph_Q3XILiIvf6\" class=\"graph\"></div> \n",
       "</div> \n",
       "</div> \n",
       "<script>\n",
       "var masonry = new Macy({\n",
       "    container: '#grid_3Cr3vWsttU',\n",
       "    debug: true,\n",
       "    mobileFirst: true,\n",
       "    columns: 1,\n",
       "    margin: {\n",
       "        x: 0,\n",
       "        y: 50\n",
       "    }\n",
       "  });\n",
       "\n",
       "  var traces_Q3XILiIvf6 = [{\"name\":\"x vs y\",\"type\":\"scatter\",\"mode\":\"markers\",\"x\":[32.359855188064195,19.485622095922327,2.020941198697701,16.964521832557523,26.56342140698297,43.010573532626395,47.9277101197907,35.22037256073397,8.279488472837675,11.948558321838226,22.801719662389814,13.695728052110672,0.2538123801610115,29.915478840244987,28.960538766553885,7.029031195072966,29.4315226595905,12.86187076216922,45.108807960279464,23.339767635241675,2.7736024011898675,36.84544690835178,12.048631848411079,39.29258762139825,25.000543960285142,21.777244134539348,38.02483129240579,42.08121164082313,7.587255113921043,49.69635119040683,22.76055089724155,31.18889025301394,32.24923292384509,2.3098684219657164,23.310959188166407,15.370035302825597,28.888589125178367,34.028849954559156,16.74754821682421,13.198088748652442,7.50951076377035,23.53767768723462,4.38282659780751,8.737508259772525,45.966244575233986,19.05337861436879,49.75493734259676,27.423229503085533,30.572731547022826,9.863119945062493,47.914010225229426,31.068761240735874,24.5814975895028,19.47219772145392,36.68682562883917,35.074551290377066,0.330483724980446,23.751501386424074,31.54363406028552,25.371072921349786,14.45993850167065,0.8425683197841427,44.45073086052771,47.40653306202538,32.01756616363996,18.259996119410264,33.66466335385588,4.576949906848704,14.498630507574644,6.625096000224473,25.808694870453465,38.896770675424456,28.90869805604802,8.771350192365961,3.769450935590013,22.421061809529718,9.790270227986397,27.581323178160726,13.961399295045052,13.955730457072713,13.82052601149512,25.846377396663833,14.329094000012866,31.930083143490844,47.065932939474585,6.684630676849657,10.091903527541179,10.956456748487343,18.270497762736156,23.60927896762553,7.683167123533485,46.564524493141676,27.65795114611705,35.208503179879244,8.595523040468656,39.87327947660815,39.64414529667521,30.579869407256183,13.916398206218405,31.551589404647796],\"y\":[9.584510368825844,8.156222988143968,17.22243200075567,12.318597779061523,39.22237255428148,42.36676029134217,28.19884080741107,15.448149515089382,22.85750523711994,19.696065643700905,41.85954895510029,35.26680025470073,16.420270761135527,18.135574226294242,48.56610919653025,24.47287176079201,14.615217780896355,41.7660398766987,18.17826827476911,2.254377380696526,7.08905765195963,5.266235975408601,37.616244116761095,4.6465808663843475,3.1813993775243743,41.51225698614521,34.874594274801076,28.345288529239422,16.232689355034598,29.11342744856018,34.09976626974592,9.27990697478921,32.65229627260094,5.7249732282930506,5.728251500133003,37.65066408457261,7.9906938886700365,47.28423681119433,2.8794724804723004,41.84729230647671,32.11320422751122,2.9363750497183814,10.207321760628568,24.691872683391246,38.23882234681722,30.347097719856997,24.236557254968737,6.786401120250607,46.08608587913879,26.34417718843349,34.84497656464981,23.39605531348184,27.659045491836743,43.38605899841333,35.999604631721624,33.262023627702995,15.30984493303737,23.22508373606995,10.114870806843035,30.013147725469718,35.63048028311038,15.314449097227333,4.473016275617336,49.433505095092265,49.454794128169574,29.002175851479162,0.031751831146192844,38.743489539787156,7.792796783779971,45.36201178476826,12.641442694536053,47.26478519684417,45.87289731095059,36.63030341340649,14.203854567566854,11.365062737884667,32.633678425902914,8.649560650110184,16.626783154872133,40.41610083364356,20.985330379812016,44.46352157831486,24.563635746150847,14.649419549308075,4.9518894290683955,35.26521955256467,33.87430068701083,30.256416245161954,33.40894926113318,38.26865213871731,31.503420494393847,21.855380049095942,6.5475152747122065,49.756318576125615,39.04443452084269,7.5356444337305035,40.42319663923923,25.549023686610223,36.642520654509504,37.08954345837153]}];\n",
       " var layout_Q3XILiIvf6 = {\"height\":550,\"width\":600,\"hovermode\":\"closest\",\"title\":{\"text\":\"Chart with custom axis and label\"},\"showlegend\":true,\"xaxis\":{\"title\":{\"text\":\"X values\"},\"showgrid\":true,\"zeroline\":false,\"showline\":false},\"yaxis\":{\"title\":{\"text\":\"Y values\"},\"showgrid\":true,\"zeroline\":false,\"showline\":false}};\n",
       " var config_Q3XILiIvf6 = {\"responsive\":true,\"scrollZoom\":true,\"displaylogo\":false};\n",
       " Plotly.newPlot(\"graph_Q3XILiIvf6\", traces_Q3XILiIvf6, layout_Q3XILiIvf6, config_Q3XILiIvf6);\n",
       "</script> \n"
      ]
     },
     "metadata": {},
     "output_type": "display_data"
    }
   ],
   "source": [
    "val series = XY(x, y) asType SCATTER drawStyle MARKERS setName(\"x vs y\") // Using 'setName' gives a name to our series \n",
    "\n",
    "// Note the use of the setXAxisTitle and setYAxisTitle compared to above\n",
    "val chart = Chart() addSeries series setTitle \"Chart with custom axis and label\" setXAxisTitle(\"X values\") setYAxisTitle(\"Y values\")\n",
    "\n",
    "chart.plotInline"
   ]
  },
  {
   "cell_type": "markdown",
   "metadata": {},
   "source": [
    "#### Chaining methods using the '.dot' notation\n",
    "\n",
    "Sometimes when we are specifying many options, it is quicker to use the IDE autocomplete and just chain the method calls using the familiar '.dot' notation. Throughout this book both the style above and the method chaining style will be used as and when convenient."
   ]
  },
  {
   "cell_type": "code",
   "execution_count": 8,
   "metadata": {},
   "outputs": [
    {
     "data": {
      "text/html": [
       "<div id=\"grid-container_oKztESYj1U\" class=\"grid-container\" align=\"center\"> \n",
       "<div id=\"grid_oKztESYj1U\" class=\"grid\" align=\"center\"> \n",
       "<div id=\"graph_xk6E5eq67t\" class=\"graph\"></div> \n",
       "</div> \n",
       "</div> \n",
       "<script>\n",
       "var masonry = new Macy({\n",
       "    container: '#grid_oKztESYj1U',\n",
       "    debug: true,\n",
       "    mobileFirst: true,\n",
       "    columns: 1,\n",
       "    margin: {\n",
       "        x: 0,\n",
       "        y: 50\n",
       "    }\n",
       "  });\n",
       "\n",
       "  var traces_xk6E5eq67t = [{\"name\":\"Chained xy\",\"type\":\"scatter\",\"mode\":\"markers\",\"x\":[32.359855188064195,19.485622095922327,2.020941198697701,16.964521832557523,26.56342140698297,43.010573532626395,47.9277101197907,35.22037256073397,8.279488472837675,11.948558321838226,22.801719662389814,13.695728052110672,0.2538123801610115,29.915478840244987,28.960538766553885,7.029031195072966,29.4315226595905,12.86187076216922,45.108807960279464,23.339767635241675,2.7736024011898675,36.84544690835178,12.048631848411079,39.29258762139825,25.000543960285142,21.777244134539348,38.02483129240579,42.08121164082313,7.587255113921043,49.69635119040683,22.76055089724155,31.18889025301394,32.24923292384509,2.3098684219657164,23.310959188166407,15.370035302825597,28.888589125178367,34.028849954559156,16.74754821682421,13.198088748652442,7.50951076377035,23.53767768723462,4.38282659780751,8.737508259772525,45.966244575233986,19.05337861436879,49.75493734259676,27.423229503085533,30.572731547022826,9.863119945062493,47.914010225229426,31.068761240735874,24.5814975895028,19.47219772145392,36.68682562883917,35.074551290377066,0.330483724980446,23.751501386424074,31.54363406028552,25.371072921349786,14.45993850167065,0.8425683197841427,44.45073086052771,47.40653306202538,32.01756616363996,18.259996119410264,33.66466335385588,4.576949906848704,14.498630507574644,6.625096000224473,25.808694870453465,38.896770675424456,28.90869805604802,8.771350192365961,3.769450935590013,22.421061809529718,9.790270227986397,27.581323178160726,13.961399295045052,13.955730457072713,13.82052601149512,25.846377396663833,14.329094000012866,31.930083143490844,47.065932939474585,6.684630676849657,10.091903527541179,10.956456748487343,18.270497762736156,23.60927896762553,7.683167123533485,46.564524493141676,27.65795114611705,35.208503179879244,8.595523040468656,39.87327947660815,39.64414529667521,30.579869407256183,13.916398206218405,31.551589404647796],\"y\":[9.584510368825844,8.156222988143968,17.22243200075567,12.318597779061523,39.22237255428148,42.36676029134217,28.19884080741107,15.448149515089382,22.85750523711994,19.696065643700905,41.85954895510029,35.26680025470073,16.420270761135527,18.135574226294242,48.56610919653025,24.47287176079201,14.615217780896355,41.7660398766987,18.17826827476911,2.254377380696526,7.08905765195963,5.266235975408601,37.616244116761095,4.6465808663843475,3.1813993775243743,41.51225698614521,34.874594274801076,28.345288529239422,16.232689355034598,29.11342744856018,34.09976626974592,9.27990697478921,32.65229627260094,5.7249732282930506,5.728251500133003,37.65066408457261,7.9906938886700365,47.28423681119433,2.8794724804723004,41.84729230647671,32.11320422751122,2.9363750497183814,10.207321760628568,24.691872683391246,38.23882234681722,30.347097719856997,24.236557254968737,6.786401120250607,46.08608587913879,26.34417718843349,34.84497656464981,23.39605531348184,27.659045491836743,43.38605899841333,35.999604631721624,33.262023627702995,15.30984493303737,23.22508373606995,10.114870806843035,30.013147725469718,35.63048028311038,15.314449097227333,4.473016275617336,49.433505095092265,49.454794128169574,29.002175851479162,0.031751831146192844,38.743489539787156,7.792796783779971,45.36201178476826,12.641442694536053,47.26478519684417,45.87289731095059,36.63030341340649,14.203854567566854,11.365062737884667,32.633678425902914,8.649560650110184,16.626783154872133,40.41610083364356,20.985330379812016,44.46352157831486,24.563635746150847,14.649419549308075,4.9518894290683955,35.26521955256467,33.87430068701083,30.256416245161954,33.40894926113318,38.26865213871731,31.503420494393847,21.855380049095942,6.5475152747122065,49.756318576125615,39.04443452084269,7.5356444337305035,40.42319663923923,25.549023686610223,36.642520654509504,37.08954345837153]}];\n",
       " var layout_xk6E5eq67t = {\"height\":550,\"width\":600,\"hovermode\":\"closest\",\"title\":{\"text\":\"Using Method Chaining\"},\"showlegend\":true,\"xaxis\":{\"title\":{\"text\":\"X values\"},\"showgrid\":true,\"zeroline\":false,\"showline\":false},\"yaxis\":{\"title\":{\"text\":\"Y values\"},\"showgrid\":true,\"zeroline\":false,\"showline\":false}};\n",
       " var config_xk6E5eq67t = {\"responsive\":true,\"scrollZoom\":true,\"displaylogo\":false};\n",
       " Plotly.newPlot(\"graph_xk6E5eq67t\", traces_xk6E5eq67t, layout_xk6E5eq67t, config_xk6E5eq67t);\n",
       "</script> \n"
      ]
     },
     "metadata": {},
     "output_type": "display_data"
    }
   ],
   "source": [
    "// sometimes we may specify many options. In such cases it is clearer to use function chaining as below:\n",
    "val series = XY(x, y)\n",
    "            .asType(SCATTER)\n",
    "            .setName(\"Chained xy\")\n",
    "            .drawMarkers  // This is to help leverage the IDE autocompletion for quick scripting. Tap 'tab' twice to see options.\n",
    "\n",
    "val chart = Chart()\n",
    "            .addSeries(series)\n",
    "            .setTitle(\"Using Method Chaining\")\n",
    "            // by specifying and X and Y axes we can give more rid of the zerolines\n",
    "            .addAxes(Axis(X ,zeroline = false), Axis(Y ,zeroline = false))\n",
    "            .setXAxisTitle(\"X values\")\n",
    "            .setYAxisTitle(\"Y values\")\n",
    "\n",
    "chart.plotInline"
   ]
  },
  {
   "cell_type": "markdown",
   "metadata": {},
   "source": [
    "#### Bar Chart\n",
    "\n",
    "Now using the same principles as above, let's create a `Bar` chart:"
   ]
  },
  {
   "cell_type": "code",
   "execution_count": 9,
   "metadata": {},
   "outputs": [
    {
     "data": {
      "text/html": [
       "<div id=\"grid-container_t2rUXR0Uam\" class=\"grid-container\" align=\"center\"> \n",
       "<div id=\"grid_t2rUXR0Uam\" class=\"grid\" align=\"center\"> \n",
       "<div id=\"graph_eINOPaSYYU\" class=\"graph\"></div> \n",
       "</div> \n",
       "</div> \n",
       "<script>\n",
       "var masonry = new Macy({\n",
       "    container: '#grid_t2rUXR0Uam',\n",
       "    debug: true,\n",
       "    mobileFirst: true,\n",
       "    columns: 1,\n",
       "    margin: {\n",
       "        x: 0,\n",
       "        y: 50\n",
       "    }\n",
       "  });\n",
       "\n",
       "  var traces_eINOPaSYYU = [{\"name\":\"My data\",\"type\":\"bar\",\"x\":[\"a\",\"b\",\"c\"],\"y\":[10,20,300]}];\n",
       " var layout_eINOPaSYYU = {\"height\":550,\"width\":600,\"hovermode\":\"closest\",\"title\":{\"text\":\"Bar Chart\"},\"showlegend\":true,\"xaxis\":{\"title\":{\"text\":\"Category\"},\"showgrid\":true,\"zeroline\":false,\"showline\":false},\"yaxis\":{\"title\":{\"text\":\"Count\"},\"showgrid\":true,\"zeroline\":false,\"showline\":false}};\n",
       " var config_eINOPaSYYU = {\"responsive\":false,\"scrollZoom\":false,\"displaylogo\":false};\n",
       " Plotly.newPlot(\"graph_eINOPaSYYU\", traces_eINOPaSYYU, layout_eINOPaSYYU, config_eINOPaSYYU);\n",
       "</script> \n"
      ]
     },
     "metadata": {},
     "output_type": "display_data"
    }
   ],
   "source": [
    "// First we create some data for the piechart\n",
    "val x_bar = List(\"a\", \"b\", \"c\")\n",
    "val y_bar = List(10, 20, 300)\n",
    "\n",
    "// again feed in the data that we want to represent as a Bar chart.\n",
    "// Notice how we change 'asType SCATTER' to 'asType BAR'\n",
    "val series = XY(x_bar, y_bar) asType BAR setName(\"My data\")\n",
    "\n",
    "// we can turn off the scrollzoom using setConfig\n",
    "val chart = Chart() addSeries series setTitle \"Bar Chart\" setConfig(false, false) setXAxisTitle \"Category\" setYAxisTitle \"Count\"\n",
    "\n",
    "chart.plotInline"
   ]
  },
  {
   "cell_type": "markdown",
   "metadata": {},
   "source": [
    "#### Adding Multiple Series on the Same Axis\n",
    "\n",
    "Sometimes we may want to plot multiple `Series` on the same axis to compare different data series.\n",
    "\n",
    "Let's plot both of the above on the same pair of axis:"
   ]
  },
  {
   "cell_type": "code",
   "execution_count": 10,
   "metadata": {},
   "outputs": [],
   "source": [
    "// we import the marker option which lets us specify the marker\n",
    "import org.carbonateresearch.picta.options.Marker\n",
    "import org.carbonateresearch.picta.SymbolShape._"
   ]
  },
  {
   "cell_type": "code",
   "execution_count": 11,
   "metadata": {},
   "outputs": [
    {
     "data": {
      "text/html": [
       "<div id=\"grid-container_3fwteqCHJH\" class=\"grid-container\" align=\"center\"> \n",
       "<div id=\"grid_3fwteqCHJH\" class=\"grid\" align=\"center\"> \n",
       "<div id=\"graph_dQGcVbPVvS\" class=\"graph\"></div> \n",
       "</div> \n",
       "</div> \n",
       "<script>\n",
       "var masonry = new Macy({\n",
       "    container: '#grid_3fwteqCHJH',\n",
       "    debug: true,\n",
       "    mobileFirst: true,\n",
       "    columns: 1,\n",
       "    margin: {\n",
       "        x: 0,\n",
       "        y: 50\n",
       "    }\n",
       "  });\n",
       "\n",
       "  var traces_dQGcVbPVvS = [{\"name\":\"Bar\",\"type\":\"bar\",\"x\":[32.359855188064195,19.485622095922327,2.020941198697701,16.964521832557523,26.56342140698297,43.010573532626395,47.9277101197907,35.22037256073397,8.279488472837675,11.948558321838226,22.801719662389814,13.695728052110672,0.2538123801610115,29.915478840244987,28.960538766553885,7.029031195072966,29.4315226595905,12.86187076216922,45.108807960279464,23.339767635241675,2.7736024011898675,36.84544690835178,12.048631848411079,39.29258762139825,25.000543960285142,21.777244134539348,38.02483129240579,42.08121164082313,7.587255113921043,49.69635119040683,22.76055089724155,31.18889025301394,32.24923292384509,2.3098684219657164,23.310959188166407,15.370035302825597,28.888589125178367,34.028849954559156,16.74754821682421,13.198088748652442,7.50951076377035,23.53767768723462,4.38282659780751,8.737508259772525,45.966244575233986,19.05337861436879,49.75493734259676,27.423229503085533,30.572731547022826,9.863119945062493,47.914010225229426,31.068761240735874,24.5814975895028,19.47219772145392,36.68682562883917,35.074551290377066,0.330483724980446,23.751501386424074,31.54363406028552,25.371072921349786,14.45993850167065,0.8425683197841427,44.45073086052771,47.40653306202538,32.01756616363996,18.259996119410264,33.66466335385588,4.576949906848704,14.498630507574644,6.625096000224473,25.808694870453465,38.896770675424456,28.90869805604802,8.771350192365961,3.769450935590013,22.421061809529718,9.790270227986397,27.581323178160726,13.961399295045052,13.955730457072713,13.82052601149512,25.846377396663833,14.329094000012866,31.930083143490844,47.065932939474585,6.684630676849657,10.091903527541179,10.956456748487343,18.270497762736156,23.60927896762553,7.683167123533485,46.564524493141676,27.65795114611705,35.208503179879244,8.595523040468656,39.87327947660815,39.64414529667521,30.579869407256183,13.916398206218405,31.551589404647796],\"y\":[9.584510368825844,8.156222988143968,17.22243200075567,12.318597779061523,39.22237255428148,42.36676029134217,28.19884080741107,15.448149515089382,22.85750523711994,19.696065643700905,41.85954895510029,35.26680025470073,16.420270761135527,18.135574226294242,48.56610919653025,24.47287176079201,14.615217780896355,41.7660398766987,18.17826827476911,2.254377380696526,7.08905765195963,5.266235975408601,37.616244116761095,4.6465808663843475,3.1813993775243743,41.51225698614521,34.874594274801076,28.345288529239422,16.232689355034598,29.11342744856018,34.09976626974592,9.27990697478921,32.65229627260094,5.7249732282930506,5.728251500133003,37.65066408457261,7.9906938886700365,47.28423681119433,2.8794724804723004,41.84729230647671,32.11320422751122,2.9363750497183814,10.207321760628568,24.691872683391246,38.23882234681722,30.347097719856997,24.236557254968737,6.786401120250607,46.08608587913879,26.34417718843349,34.84497656464981,23.39605531348184,27.659045491836743,43.38605899841333,35.999604631721624,33.262023627702995,15.30984493303737,23.22508373606995,10.114870806843035,30.013147725469718,35.63048028311038,15.314449097227333,4.473016275617336,49.433505095092265,49.454794128169574,29.002175851479162,0.031751831146192844,38.743489539787156,7.792796783779971,45.36201178476826,12.641442694536053,47.26478519684417,45.87289731095059,36.63030341340649,14.203854567566854,11.365062737884667,32.633678425902914,8.649560650110184,16.626783154872133,40.41610083364356,20.985330379812016,44.46352157831486,24.563635746150847,14.649419549308075,4.9518894290683955,35.26521955256467,33.87430068701083,30.256416245161954,33.40894926113318,38.26865213871731,31.503420494393847,21.855380049095942,6.5475152747122065,49.756318576125615,39.04443452084269,7.5356444337305035,40.42319663923923,25.549023686610223,36.642520654509504,37.08954345837153]},{\"name\":\"Scatter\",\"type\":\"scatter\",\"mode\":\"markers\",\"marker\":{\"symbol\":\"square-open\",\"color\":\"red\"},\"x\":[32.359855188064195,19.485622095922327,2.020941198697701,16.964521832557523,26.56342140698297,43.010573532626395,47.9277101197907,35.22037256073397,8.279488472837675,11.948558321838226,22.801719662389814,13.695728052110672,0.2538123801610115,29.915478840244987,28.960538766553885,7.029031195072966,29.4315226595905,12.86187076216922,45.108807960279464,23.339767635241675,2.7736024011898675,36.84544690835178,12.048631848411079,39.29258762139825,25.000543960285142,21.777244134539348,38.02483129240579,42.08121164082313,7.587255113921043,49.69635119040683,22.76055089724155,31.18889025301394,32.24923292384509,2.3098684219657164,23.310959188166407,15.370035302825597,28.888589125178367,34.028849954559156,16.74754821682421,13.198088748652442,7.50951076377035,23.53767768723462,4.38282659780751,8.737508259772525,45.966244575233986,19.05337861436879,49.75493734259676,27.423229503085533,30.572731547022826,9.863119945062493,47.914010225229426,31.068761240735874,24.5814975895028,19.47219772145392,36.68682562883917,35.074551290377066,0.330483724980446,23.751501386424074,31.54363406028552,25.371072921349786,14.45993850167065,0.8425683197841427,44.45073086052771,47.40653306202538,32.01756616363996,18.259996119410264,33.66466335385588,4.576949906848704,14.498630507574644,6.625096000224473,25.808694870453465,38.896770675424456,28.90869805604802,8.771350192365961,3.769450935590013,22.421061809529718,9.790270227986397,27.581323178160726,13.961399295045052,13.955730457072713,13.82052601149512,25.846377396663833,14.329094000012866,31.930083143490844,47.065932939474585,6.684630676849657,10.091903527541179,10.956456748487343,18.270497762736156,23.60927896762553,7.683167123533485,46.564524493141676,27.65795114611705,35.208503179879244,8.595523040468656,39.87327947660815,39.64414529667521,30.579869407256183,13.916398206218405,31.551589404647796],\"y\":[9.584510368825844,8.156222988143968,17.22243200075567,12.318597779061523,39.22237255428148,42.36676029134217,28.19884080741107,15.448149515089382,22.85750523711994,19.696065643700905,41.85954895510029,35.26680025470073,16.420270761135527,18.135574226294242,48.56610919653025,24.47287176079201,14.615217780896355,41.7660398766987,18.17826827476911,2.254377380696526,7.08905765195963,5.266235975408601,37.616244116761095,4.6465808663843475,3.1813993775243743,41.51225698614521,34.874594274801076,28.345288529239422,16.232689355034598,29.11342744856018,34.09976626974592,9.27990697478921,32.65229627260094,5.7249732282930506,5.728251500133003,37.65066408457261,7.9906938886700365,47.28423681119433,2.8794724804723004,41.84729230647671,32.11320422751122,2.9363750497183814,10.207321760628568,24.691872683391246,38.23882234681722,30.347097719856997,24.236557254968737,6.786401120250607,46.08608587913879,26.34417718843349,34.84497656464981,23.39605531348184,27.659045491836743,43.38605899841333,35.999604631721624,33.262023627702995,15.30984493303737,23.22508373606995,10.114870806843035,30.013147725469718,35.63048028311038,15.314449097227333,4.473016275617336,49.433505095092265,49.454794128169574,29.002175851479162,0.031751831146192844,38.743489539787156,7.792796783779971,45.36201178476826,12.641442694536053,47.26478519684417,45.87289731095059,36.63030341340649,14.203854567566854,11.365062737884667,32.633678425902914,8.649560650110184,16.626783154872133,40.41610083364356,20.985330379812016,44.46352157831486,24.563635746150847,14.649419549308075,4.9518894290683955,35.26521955256467,33.87430068701083,30.256416245161954,33.40894926113318,38.26865213871731,31.503420494393847,21.855380049095942,6.5475152747122065,49.756318576125615,39.04443452084269,7.5356444337305035,40.42319663923923,25.549023686610223,36.642520654509504,37.08954345837153]}];\n",
       " var layout_dQGcVbPVvS = {\"height\":550,\"width\":600,\"hovermode\":\"closest\",\"title\":{\"text\":\"Multiple series on one chart\"},\"showlegend\":true,\"xaxis\":{\"title\":{\"text\":\"X values\"},\"showgrid\":true,\"zeroline\":false,\"showline\":false},\"yaxis\":{\"title\":{\"text\":\"Y values\"},\"showgrid\":true,\"zeroline\":false,\"showline\":false}};\n",
       " var config_dQGcVbPVvS = {\"responsive\":true,\"scrollZoom\":true,\"displaylogo\":false};\n",
       " Plotly.newPlot(\"graph_dQGcVbPVvS\", traces_dQGcVbPVvS, layout_dQGcVbPVvS, config_dQGcVbPVvS);\n",
       "</script> \n"
      ]
     },
     "metadata": {},
     "output_type": "display_data"
    }
   ],
   "source": [
    "// additional traces can simply be composed with an existing chart and added on\n",
    "val series1 = XY(x, y) asType BAR setName \"Bar\"\n",
    "\n",
    "// lets give the second series a red marker. Again we can 'compose' a marker using smaller components\n",
    "val marker = Marker() setSymbol SQUARE_OPEN setColor \"red\"\n",
    "\n",
    "val series2 = XY(x, y) asType SCATTER setName \"Scatter\" drawStyle MARKERS setMarker marker\n",
    "\n",
    "// we not put brackets in the 'addSeries' function to ensure that addSeries picks up the right series'\n",
    "val chart = Chart() addSeries(series1, series2) setTitle(\"Multiple series on one chart\") setXAxisTitle \"X values\" setYAxisTitle \"Y values\"\n",
    "\n",
    "chart.plotInline"
   ]
  },
  {
   "cell_type": "markdown",
   "metadata": {},
   "source": [
    "### Lets Change The Appearance of The Markers\n",
    "\n",
    "We can control the appearance of the markers by setting the width"
   ]
  },
  {
   "cell_type": "code",
   "execution_count": 12,
   "metadata": {},
   "outputs": [
    {
     "data": {
      "text/html": [
       "<div id=\"grid-container_iER5cY3vlj\" class=\"grid-container\" align=\"center\"> \n",
       "<div id=\"grid_iER5cY3vlj\" class=\"grid\" align=\"center\"> \n",
       "<div id=\"graph_hrjvMoTkFR\" class=\"graph\"></div> \n",
       "</div> \n",
       "</div> \n",
       "<script>\n",
       "var masonry = new Macy({\n",
       "    container: '#grid_iER5cY3vlj',\n",
       "    debug: true,\n",
       "    mobileFirst: true,\n",
       "    columns: 1,\n",
       "    margin: {\n",
       "        x: 0,\n",
       "        y: 50\n",
       "    }\n",
       "  });\n",
       "\n",
       "  var traces_hrjvMoTkFR = [{\"name\":\"Bar\",\"type\":\"bar\",\"x\":[32.359855188064195,19.485622095922327,2.020941198697701,16.964521832557523,26.56342140698297,43.010573532626395,47.9277101197907,35.22037256073397,8.279488472837675,11.948558321838226,22.801719662389814,13.695728052110672,0.2538123801610115,29.915478840244987,28.960538766553885,7.029031195072966,29.4315226595905,12.86187076216922,45.108807960279464,23.339767635241675,2.7736024011898675,36.84544690835178,12.048631848411079,39.29258762139825,25.000543960285142,21.777244134539348,38.02483129240579,42.08121164082313,7.587255113921043,49.69635119040683,22.76055089724155,31.18889025301394,32.24923292384509,2.3098684219657164,23.310959188166407,15.370035302825597,28.888589125178367,34.028849954559156,16.74754821682421,13.198088748652442,7.50951076377035,23.53767768723462,4.38282659780751,8.737508259772525,45.966244575233986,19.05337861436879,49.75493734259676,27.423229503085533,30.572731547022826,9.863119945062493,47.914010225229426,31.068761240735874,24.5814975895028,19.47219772145392,36.68682562883917,35.074551290377066,0.330483724980446,23.751501386424074,31.54363406028552,25.371072921349786,14.45993850167065,0.8425683197841427,44.45073086052771,47.40653306202538,32.01756616363996,18.259996119410264,33.66466335385588,4.576949906848704,14.498630507574644,6.625096000224473,25.808694870453465,38.896770675424456,28.90869805604802,8.771350192365961,3.769450935590013,22.421061809529718,9.790270227986397,27.581323178160726,13.961399295045052,13.955730457072713,13.82052601149512,25.846377396663833,14.329094000012866,31.930083143490844,47.065932939474585,6.684630676849657,10.091903527541179,10.956456748487343,18.270497762736156,23.60927896762553,7.683167123533485,46.564524493141676,27.65795114611705,35.208503179879244,8.595523040468656,39.87327947660815,39.64414529667521,30.579869407256183,13.916398206218405,31.551589404647796],\"y\":[9.584510368825844,8.156222988143968,17.22243200075567,12.318597779061523,39.22237255428148,42.36676029134217,28.19884080741107,15.448149515089382,22.85750523711994,19.696065643700905,41.85954895510029,35.26680025470073,16.420270761135527,18.135574226294242,48.56610919653025,24.47287176079201,14.615217780896355,41.7660398766987,18.17826827476911,2.254377380696526,7.08905765195963,5.266235975408601,37.616244116761095,4.6465808663843475,3.1813993775243743,41.51225698614521,34.874594274801076,28.345288529239422,16.232689355034598,29.11342744856018,34.09976626974592,9.27990697478921,32.65229627260094,5.7249732282930506,5.728251500133003,37.65066408457261,7.9906938886700365,47.28423681119433,2.8794724804723004,41.84729230647671,32.11320422751122,2.9363750497183814,10.207321760628568,24.691872683391246,38.23882234681722,30.347097719856997,24.236557254968737,6.786401120250607,46.08608587913879,26.34417718843349,34.84497656464981,23.39605531348184,27.659045491836743,43.38605899841333,35.999604631721624,33.262023627702995,15.30984493303737,23.22508373606995,10.114870806843035,30.013147725469718,35.63048028311038,15.314449097227333,4.473016275617336,49.433505095092265,49.454794128169574,29.002175851479162,0.031751831146192844,38.743489539787156,7.792796783779971,45.36201178476826,12.641442694536053,47.26478519684417,45.87289731095059,36.63030341340649,14.203854567566854,11.365062737884667,32.633678425902914,8.649560650110184,16.626783154872133,40.41610083364356,20.985330379812016,44.46352157831486,24.563635746150847,14.649419549308075,4.9518894290683955,35.26521955256467,33.87430068701083,30.256416245161954,33.40894926113318,38.26865213871731,31.503420494393847,21.855380049095942,6.5475152747122065,49.756318576125615,39.04443452084269,7.5356444337305035,40.42319663923923,25.549023686610223,36.642520654509504,37.08954345837153]},{\"name\":\"Scatter\",\"type\":\"scatter\",\"mode\":\"markers\",\"marker\":{\"symbol\":\"circle\",\"color\":\"red\",\"line\":{\"width\":2,\"color\":\"black\"},\"size\":[10,10,10,10,10,10,10,10,10,10,10,10,10,10,10,10,10,10,10,10,10,10,10,10,10,10,10,10,10,10,10,10,10,10,10,10,10,10,10,10,10,10,10,10,10,10,10,10,10,10,10,10,10,10,10,10,10,10,10,10,10,10,10,10,10,10,10,10,10,10,10,10,10,10,10,10,10,10,10,10,10,10,10,10,10,10,10,10,10,10,10,10,10,10,10,10,10,10,10,10]},\"x\":[32.359855188064195,19.485622095922327,2.020941198697701,16.964521832557523,26.56342140698297,43.010573532626395,47.9277101197907,35.22037256073397,8.279488472837675,11.948558321838226,22.801719662389814,13.695728052110672,0.2538123801610115,29.915478840244987,28.960538766553885,7.029031195072966,29.4315226595905,12.86187076216922,45.108807960279464,23.339767635241675,2.7736024011898675,36.84544690835178,12.048631848411079,39.29258762139825,25.000543960285142,21.777244134539348,38.02483129240579,42.08121164082313,7.587255113921043,49.69635119040683,22.76055089724155,31.18889025301394,32.24923292384509,2.3098684219657164,23.310959188166407,15.370035302825597,28.888589125178367,34.028849954559156,16.74754821682421,13.198088748652442,7.50951076377035,23.53767768723462,4.38282659780751,8.737508259772525,45.966244575233986,19.05337861436879,49.75493734259676,27.423229503085533,30.572731547022826,9.863119945062493,47.914010225229426,31.068761240735874,24.5814975895028,19.47219772145392,36.68682562883917,35.074551290377066,0.330483724980446,23.751501386424074,31.54363406028552,25.371072921349786,14.45993850167065,0.8425683197841427,44.45073086052771,47.40653306202538,32.01756616363996,18.259996119410264,33.66466335385588,4.576949906848704,14.498630507574644,6.625096000224473,25.808694870453465,38.896770675424456,28.90869805604802,8.771350192365961,3.769450935590013,22.421061809529718,9.790270227986397,27.581323178160726,13.961399295045052,13.955730457072713,13.82052601149512,25.846377396663833,14.329094000012866,31.930083143490844,47.065932939474585,6.684630676849657,10.091903527541179,10.956456748487343,18.270497762736156,23.60927896762553,7.683167123533485,46.564524493141676,27.65795114611705,35.208503179879244,8.595523040468656,39.87327947660815,39.64414529667521,30.579869407256183,13.916398206218405,31.551589404647796],\"y\":[9.584510368825844,8.156222988143968,17.22243200075567,12.318597779061523,39.22237255428148,42.36676029134217,28.19884080741107,15.448149515089382,22.85750523711994,19.696065643700905,41.85954895510029,35.26680025470073,16.420270761135527,18.135574226294242,48.56610919653025,24.47287176079201,14.615217780896355,41.7660398766987,18.17826827476911,2.254377380696526,7.08905765195963,5.266235975408601,37.616244116761095,4.6465808663843475,3.1813993775243743,41.51225698614521,34.874594274801076,28.345288529239422,16.232689355034598,29.11342744856018,34.09976626974592,9.27990697478921,32.65229627260094,5.7249732282930506,5.728251500133003,37.65066408457261,7.9906938886700365,47.28423681119433,2.8794724804723004,41.84729230647671,32.11320422751122,2.9363750497183814,10.207321760628568,24.691872683391246,38.23882234681722,30.347097719856997,24.236557254968737,6.786401120250607,46.08608587913879,26.34417718843349,34.84497656464981,23.39605531348184,27.659045491836743,43.38605899841333,35.999604631721624,33.262023627702995,15.30984493303737,23.22508373606995,10.114870806843035,30.013147725469718,35.63048028311038,15.314449097227333,4.473016275617336,49.433505095092265,49.454794128169574,29.002175851479162,0.031751831146192844,38.743489539787156,7.792796783779971,45.36201178476826,12.641442694536053,47.26478519684417,45.87289731095059,36.63030341340649,14.203854567566854,11.365062737884667,32.633678425902914,8.649560650110184,16.626783154872133,40.41610083364356,20.985330379812016,44.46352157831486,24.563635746150847,14.649419549308075,4.9518894290683955,35.26521955256467,33.87430068701083,30.256416245161954,33.40894926113318,38.26865213871731,31.503420494393847,21.855380049095942,6.5475152747122065,49.756318576125615,39.04443452084269,7.5356444337305035,40.42319663923923,25.549023686610223,36.642520654509504,37.08954345837153]}];\n",
       " var layout_hrjvMoTkFR = {\"height\":550,\"width\":600,\"hovermode\":\"closest\",\"showlegend\":true,\"xaxis\":{\"title\":{\"text\":\"X values\"},\"showgrid\":true,\"zeroline\":false,\"showline\":false},\"yaxis\":{\"title\":{\"text\":\"Y values\"},\"showgrid\":true,\"zeroline\":false,\"showline\":false}};\n",
       " var config_hrjvMoTkFR = {\"responsive\":false,\"scrollZoom\":false,\"displaylogo\":false};\n",
       " Plotly.newPlot(\"graph_hrjvMoTkFR\", traces_hrjvMoTkFR, layout_hrjvMoTkFR, config_hrjvMoTkFR);\n",
       "</script> \n"
      ]
     },
     "metadata": {},
     "output_type": "display_data"
    }
   ],
   "source": [
    "// we can pass in the size of the markers\n",
    "val sizes = List.range(0, 100).map(x => 10)\n",
    "\n",
    "// additional traces can simply be composed with an existing chart and added on\n",
    "val series1 = XY(x, y) asType BAR setName \"Bar\"\n",
    "\n",
    "// lets give the second series a red marker. Again we can 'compose' a marker using smaller components\n",
    "val marker = (\n",
    "    Marker() \n",
    "    // sets the marker shape\n",
    "    setSymbol CIRCLE\n",
    "    // sets the fill to red\n",
    "    setColor \"red\" \n",
    "    // sets the outline to black, with width 2\n",
    "    setLine(width = 2, \"black\")\n",
    "    // set the size of the markers to 10 as per the list we created\n",
    "    setSize(sizes)\n",
    ") \n",
    "\n",
    "val series2 = XY(x, y) asType SCATTER setName \"Scatter\" drawStyle MARKERS setMarker marker\n",
    "\n",
    "// we not put brackets in the 'addSeries' function to ensure that addSeries picks up the right series'\n",
    "val chart = Chart() addSeries(series1, series2) setConfig(false, false) setXAxisTitle \"X values\" setYAxisTitle \"Y values\"\n",
    "\n",
    "chart.plotInline"
   ]
  },
  {
   "cell_type": "markdown",
   "metadata": {},
   "source": [
    "### Adding Another Axes\n",
    "\n",
    "Sometimes we may wish to plot multiple series on one chart, but using two different Axes. This may be because the values of the two series are very different, yet we want to compare them on the same plot. We can do this as follows:"
   ]
  },
  {
   "cell_type": "code",
   "execution_count": 13,
   "metadata": {},
   "outputs": [
    {
     "data": {
      "text/html": [
       "<div id=\"grid-container_0VZRNpKd2D\" class=\"grid-container\" align=\"center\"> \n",
       "<div id=\"grid_0VZRNpKd2D\" class=\"grid\" align=\"center\"> \n",
       "<div id=\"graph_PwtFQeRhHs\" class=\"graph\"></div> \n",
       "</div> \n",
       "</div> \n",
       "<script>\n",
       "var masonry = new Macy({\n",
       "    container: '#grid_0VZRNpKd2D',\n",
       "    debug: true,\n",
       "    mobileFirst: true,\n",
       "    columns: 1,\n",
       "    margin: {\n",
       "        x: 0,\n",
       "        y: 50\n",
       "    }\n",
       "  });\n",
       "\n",
       "  var traces_PwtFQeRhHs = [{\"name\":\"Series 3 using Y axis 1\",\"type\":\"scatter\",\"mode\":\"markers\",\"x\":[32.359855188064195,19.485622095922327,2.020941198697701,16.964521832557523,26.56342140698297,43.010573532626395,47.9277101197907,35.22037256073397,8.279488472837675,11.948558321838226,22.801719662389814,13.695728052110672,0.2538123801610115,29.915478840244987,28.960538766553885,7.029031195072966,29.4315226595905,12.86187076216922,45.108807960279464,23.339767635241675,2.7736024011898675,36.84544690835178,12.048631848411079,39.29258762139825,25.000543960285142,21.777244134539348,38.02483129240579,42.08121164082313,7.587255113921043,49.69635119040683,22.76055089724155,31.18889025301394,32.24923292384509,2.3098684219657164,23.310959188166407,15.370035302825597,28.888589125178367,34.028849954559156,16.74754821682421,13.198088748652442,7.50951076377035,23.53767768723462,4.38282659780751,8.737508259772525,45.966244575233986,19.05337861436879,49.75493734259676,27.423229503085533,30.572731547022826,9.863119945062493,47.914010225229426,31.068761240735874,24.5814975895028,19.47219772145392,36.68682562883917,35.074551290377066,0.330483724980446,23.751501386424074,31.54363406028552,25.371072921349786,14.45993850167065,0.8425683197841427,44.45073086052771,47.40653306202538,32.01756616363996,18.259996119410264,33.66466335385588,4.576949906848704,14.498630507574644,6.625096000224473,25.808694870453465,38.896770675424456,28.90869805604802,8.771350192365961,3.769450935590013,22.421061809529718,9.790270227986397,27.581323178160726,13.961399295045052,13.955730457072713,13.82052601149512,25.846377396663833,14.329094000012866,31.930083143490844,47.065932939474585,6.684630676849657,10.091903527541179,10.956456748487343,18.270497762736156,23.60927896762553,7.683167123533485,46.564524493141676,27.65795114611705,35.208503179879244,8.595523040468656,39.87327947660815,39.64414529667521,30.579869407256183,13.916398206218405,31.551589404647796],\"y\":[9.584510368825844,8.156222988143968,17.22243200075567,12.318597779061523,39.22237255428148,42.36676029134217,28.19884080741107,15.448149515089382,22.85750523711994,19.696065643700905,41.85954895510029,35.26680025470073,16.420270761135527,18.135574226294242,48.56610919653025,24.47287176079201,14.615217780896355,41.7660398766987,18.17826827476911,2.254377380696526,7.08905765195963,5.266235975408601,37.616244116761095,4.6465808663843475,3.1813993775243743,41.51225698614521,34.874594274801076,28.345288529239422,16.232689355034598,29.11342744856018,34.09976626974592,9.27990697478921,32.65229627260094,5.7249732282930506,5.728251500133003,37.65066408457261,7.9906938886700365,47.28423681119433,2.8794724804723004,41.84729230647671,32.11320422751122,2.9363750497183814,10.207321760628568,24.691872683391246,38.23882234681722,30.347097719856997,24.236557254968737,6.786401120250607,46.08608587913879,26.34417718843349,34.84497656464981,23.39605531348184,27.659045491836743,43.38605899841333,35.999604631721624,33.262023627702995,15.30984493303737,23.22508373606995,10.114870806843035,30.013147725469718,35.63048028311038,15.314449097227333,4.473016275617336,49.433505095092265,49.454794128169574,29.002175851479162,0.031751831146192844,38.743489539787156,7.792796783779971,45.36201178476826,12.641442694536053,47.26478519684417,45.87289731095059,36.63030341340649,14.203854567566854,11.365062737884667,32.633678425902914,8.649560650110184,16.626783154872133,40.41610083364356,20.985330379812016,44.46352157831486,24.563635746150847,14.649419549308075,4.9518894290683955,35.26521955256467,33.87430068701083,30.256416245161954,33.40894926113318,38.26865213871731,31.503420494393847,21.855380049095942,6.5475152747122065,49.756318576125615,39.04443452084269,7.5356444337305035,40.42319663923923,25.549023686610223,36.642520654509504,37.08954345837153]},{\"name\":\"Series 2 using Y axis 2\",\"type\":\"scatter\",\"mode\":\"markers\",\"yaxis\":\"y2\",\"x\":[32.359855188064195,19.485622095922327,2.020941198697701,16.964521832557523,26.56342140698297,43.010573532626395,47.9277101197907,35.22037256073397,8.279488472837675,11.948558321838226,22.801719662389814,13.695728052110672,0.2538123801610115,29.915478840244987,28.960538766553885,7.029031195072966,29.4315226595905,12.86187076216922,45.108807960279464,23.339767635241675,2.7736024011898675,36.84544690835178,12.048631848411079,39.29258762139825,25.000543960285142,21.777244134539348,38.02483129240579,42.08121164082313,7.587255113921043,49.69635119040683,22.76055089724155,31.18889025301394,32.24923292384509,2.3098684219657164,23.310959188166407,15.370035302825597,28.888589125178367,34.028849954559156,16.74754821682421,13.198088748652442,7.50951076377035,23.53767768723462,4.38282659780751,8.737508259772525,45.966244575233986,19.05337861436879,49.75493734259676,27.423229503085533,30.572731547022826,9.863119945062493,47.914010225229426,31.068761240735874,24.5814975895028,19.47219772145392,36.68682562883917,35.074551290377066,0.330483724980446,23.751501386424074,31.54363406028552,25.371072921349786,14.45993850167065,0.8425683197841427,44.45073086052771,47.40653306202538,32.01756616363996,18.259996119410264,33.66466335385588,4.576949906848704,14.498630507574644,6.625096000224473,25.808694870453465,38.896770675424456,28.90869805604802,8.771350192365961,3.769450935590013,22.421061809529718,9.790270227986397,27.581323178160726,13.961399295045052,13.955730457072713,13.82052601149512,25.846377396663833,14.329094000012866,31.930083143490844,47.065932939474585,6.684630676849657,10.091903527541179,10.956456748487343,18.270497762736156,23.60927896762553,7.683167123533485,46.564524493141676,27.65795114611705,35.208503179879244,8.595523040468656,39.87327947660815,39.64414529667521,30.579869407256183,13.916398206218405,31.551589404647796],\"y\":[26.99094008945831,20.450992135869605,6.086860440164693,29.75571516083564,41.87903373866817,2.842455203676769,41.952372422303334,13.822685639474352,9.82211752649908,30.523561087448975,47.473363887184995,26.77957029655339,28.151449370502835,49.15754192572952,7.466289524439978,1.3511050324279628,22.031708311568217,45.21774883958205,14.066092324728801,49.71712278481917,11.23711056175703,1.2123151811133048,12.300351596175696,15.491971270166482,7.1756391798730395,12.141792831580982,31.59773864884598,40.62726484752636,30.598717037895824,28.639330207660013,26.21203030933727,42.30175175783266,44.97463811661779,44.049521119860614,12.240234452876003,13.074974728866556,37.857621269775954,39.8212465698647,11.42308520607721,46.10677157115702,2.750334527626308,46.021455062939424,42.238502327967744,46.08259307427261,26.936283433137824,11.520962258926382,36.93331278920587,15.634960725076125,26.54945131301842,11.459997045534209,9.085835942825693,6.51431712779027,38.75210473801272,47.97037168525826,0.051696098320552775,44.53787434245107,32.30768454850011,23.812766093904823,44.21746267561572,27.432997625813705,32.06423343562158,37.58179784276889,12.371529009306553,5.092020030005512,19.904810040679706,13.438146656043976,19.698866108969597,32.46827800284293,24.5748679611486,37.94617593257071,19.916071799655903,36.36857985398956,45.46258824658313,31.527116751629748,49.885415337911745,8.735154454204919,20.886658598017394,32.28203090230763,39.68129843360465,30.660574261204882,49.73703774369013,15.495399531181164,11.529876539002315,43.34200727473843,6.417730259407922,12.999334011867852,7.302302912876396,14.456533358684592,2.956618565812985,32.760033879127775,8.314353377991047,1.0271868612615254,48.875928890229076,10.542284979493012,43.069929989910165,32.74974189664378,38.95791086482978,2.31438686607891,18.283239527385554,32.963176858144706]}];\n",
       " var layout_PwtFQeRhHs = {\"height\":550,\"width\":600,\"hovermode\":\"closest\",\"title\":{\"text\":\"Using Multiple Axes\"},\"showlegend\":true,\"yaxis2\":{\"title\":{\"text\":\"Second y axis\"},\"showgrid\":true,\"zeroline\":false,\"showline\":false,\"side\":\"right\",\"overlaying\":\"y\"},\"yaxis\":{\"title\":{\"text\":\"First Y Axis\"},\"showgrid\":true,\"zeroline\":false,\"showline\":false},\"xaxis\":{\"title\":{\"text\":\"X Axis\"},\"showgrid\":true,\"zeroline\":false,\"showline\":false}};\n",
       " var config_PwtFQeRhHs = {\"responsive\":false,\"scrollZoom\":false,\"displaylogo\":false};\n",
       " Plotly.newPlot(\"graph_PwtFQeRhHs\", traces_PwtFQeRhHs, layout_PwtFQeRhHs, config_PwtFQeRhHs);\n",
       "</script> \n"
      ]
     },
     "metadata": {},
     "output_type": "display_data"
    }
   ],
   "source": [
    "val series1 = XY(x, y) asType SCATTER drawStyle MARKERS\n",
    "\n",
    "// The following maps the series onto the second Y axis.\n",
    "val series2 = (\n",
    "    XY(x, z) \n",
    "    asType SCATTER \n",
    "    drawStyle MARKERS \n",
    "    setAxis Axis(Y, 2)\n",
    "    setName(\"Series 2 using Y axis 2\")\n",
    ")\n",
    "\n",
    "val series3 = series1.copy() setName(\"Series 3 using Y axis 1\")\n",
    "      \n",
    "val chart = (\n",
    "    Chart() \n",
    "    setTitle \"Using Multiple Axes\"\n",
    "    // the following makes the chart unresponsive\n",
    "    setConfig(false, false) \n",
    "    addSeries(series3, series2) \n",
    "    // the following tells the chart how to render the second Y Axis\n",
    "    addAxes Axis(Y, position = 2, title = \"Second y axis\", overlaying = Axis(Y), side = RIGHT_SIDE)\n",
    "    addAxes Axis(Y, 1, \"First Y Axis\")\n",
    "    addAxes Axis(X, title = \"X Axis\")\n",
    ") \n",
    "\n",
    "// this is just for illustration purposes, but we can also do the following\n",
    "val canvas = Canvas() setChart(0, 0, chart)\n",
    "\n",
    "canvas.plotInline"
   ]
  },
  {
   "cell_type": "markdown",
   "metadata": {},
   "source": [
    "### Customizing the Axes\n",
    "\n",
    "As can be seen from some of the examples above, if you do a simple chart you can use the standard axis (X and Y) and costumise them in the chart object. But for more complex layout,  we may would want to create new axis and name them.\n",
    "\n",
    "We can do this as follows:"
   ]
  },
  {
   "cell_type": "code",
   "execution_count": 14,
   "metadata": {},
   "outputs": [
    {
     "data": {
      "text/html": [
       "<div id=\"grid-container_Q2kEe5hg6d\" class=\"grid-container\" align=\"center\"> \n",
       "<div id=\"grid_Q2kEe5hg6d\" class=\"grid\" align=\"center\"> \n",
       "<div id=\"graph_IgwMriiPuZ\" class=\"graph\"></div> \n",
       "</div> \n",
       "</div> \n",
       "<script>\n",
       "var masonry = new Macy({\n",
       "    container: '#grid_Q2kEe5hg6d',\n",
       "    debug: true,\n",
       "    mobileFirst: true,\n",
       "    columns: 1,\n",
       "    margin: {\n",
       "        x: 0,\n",
       "        y: 50\n",
       "    }\n",
       "  });\n",
       "\n",
       "  var traces_IgwMriiPuZ = [{\"name\":\"Data\",\"type\":\"scatter\",\"mode\":\"markers\",\"x\":[32.359855188064195,19.485622095922327,2.020941198697701,16.964521832557523,26.56342140698297,43.010573532626395,47.9277101197907,35.22037256073397,8.279488472837675,11.948558321838226,22.801719662389814,13.695728052110672,0.2538123801610115,29.915478840244987,28.960538766553885,7.029031195072966,29.4315226595905,12.86187076216922,45.108807960279464,23.339767635241675,2.7736024011898675,36.84544690835178,12.048631848411079,39.29258762139825,25.000543960285142,21.777244134539348,38.02483129240579,42.08121164082313,7.587255113921043,49.69635119040683,22.76055089724155,31.18889025301394,32.24923292384509,2.3098684219657164,23.310959188166407,15.370035302825597,28.888589125178367,34.028849954559156,16.74754821682421,13.198088748652442,7.50951076377035,23.53767768723462,4.38282659780751,8.737508259772525,45.966244575233986,19.05337861436879,49.75493734259676,27.423229503085533,30.572731547022826,9.863119945062493,47.914010225229426,31.068761240735874,24.5814975895028,19.47219772145392,36.68682562883917,35.074551290377066,0.330483724980446,23.751501386424074,31.54363406028552,25.371072921349786,14.45993850167065,0.8425683197841427,44.45073086052771,47.40653306202538,32.01756616363996,18.259996119410264,33.66466335385588,4.576949906848704,14.498630507574644,6.625096000224473,25.808694870453465,38.896770675424456,28.90869805604802,8.771350192365961,3.769450935590013,22.421061809529718,9.790270227986397,27.581323178160726,13.961399295045052,13.955730457072713,13.82052601149512,25.846377396663833,14.329094000012866,31.930083143490844,47.065932939474585,6.684630676849657,10.091903527541179,10.956456748487343,18.270497762736156,23.60927896762553,7.683167123533485,46.564524493141676,27.65795114611705,35.208503179879244,8.595523040468656,39.87327947660815,39.64414529667521,30.579869407256183,13.916398206218405,31.551589404647796],\"y\":[9.584510368825844,8.156222988143968,17.22243200075567,12.318597779061523,39.22237255428148,42.36676029134217,28.19884080741107,15.448149515089382,22.85750523711994,19.696065643700905,41.85954895510029,35.26680025470073,16.420270761135527,18.135574226294242,48.56610919653025,24.47287176079201,14.615217780896355,41.7660398766987,18.17826827476911,2.254377380696526,7.08905765195963,5.266235975408601,37.616244116761095,4.6465808663843475,3.1813993775243743,41.51225698614521,34.874594274801076,28.345288529239422,16.232689355034598,29.11342744856018,34.09976626974592,9.27990697478921,32.65229627260094,5.7249732282930506,5.728251500133003,37.65066408457261,7.9906938886700365,47.28423681119433,2.8794724804723004,41.84729230647671,32.11320422751122,2.9363750497183814,10.207321760628568,24.691872683391246,38.23882234681722,30.347097719856997,24.236557254968737,6.786401120250607,46.08608587913879,26.34417718843349,34.84497656464981,23.39605531348184,27.659045491836743,43.38605899841333,35.999604631721624,33.262023627702995,15.30984493303737,23.22508373606995,10.114870806843035,30.013147725469718,35.63048028311038,15.314449097227333,4.473016275617336,49.433505095092265,49.454794128169574,29.002175851479162,0.031751831146192844,38.743489539787156,7.792796783779971,45.36201178476826,12.641442694536053,47.26478519684417,45.87289731095059,36.63030341340649,14.203854567566854,11.365062737884667,32.633678425902914,8.649560650110184,16.626783154872133,40.41610083364356,20.985330379812016,44.46352157831486,24.563635746150847,14.649419549308075,4.9518894290683955,35.26521955256467,33.87430068701083,30.256416245161954,33.40894926113318,38.26865213871731,31.503420494393847,21.855380049095942,6.5475152747122065,49.756318576125615,39.04443452084269,7.5356444337305035,40.42319663923923,25.549023686610223,36.642520654509504,37.08954345837153]}];\n",
       " var layout_IgwMriiPuZ = {\"height\":550,\"width\":600,\"hovermode\":\"closest\",\"title\":{\"text\":\"Chart with Axes\"},\"showlegend\":true,\"xaxis\":{\"title\":{\"text\":\"x variable\"},\"showgrid\":true,\"zeroline\":false,\"showline\":false},\"yaxis\":{\"title\":{\"text\":\"y variable\"},\"showgrid\":true,\"zeroline\":false,\"showline\":false}};\n",
       " var config_IgwMriiPuZ = {\"responsive\":true,\"scrollZoom\":true,\"displaylogo\":false};\n",
       " Plotly.newPlot(\"graph_IgwMriiPuZ\", traces_IgwMriiPuZ, layout_IgwMriiPuZ, config_IgwMriiPuZ);\n",
       "</script> \n"
      ]
     },
     "metadata": {},
     "output_type": "display_data"
    }
   ],
   "source": [
    "// We construct the axes and set their title\n",
    "val xaxis = Axis(X, title = \"x variable\")\n",
    "val yaxis = Axis(Y, title = \"y variable\")\n",
    "\n",
    "// another way to do composition is to just add a bracket around the composition\n",
    "val chart = (\n",
    "    Chart()\n",
    "    setTitle \"Chart with Axes\"\n",
    "    addSeries(series1 setName(\"Data\"))\n",
    "    addAxes(xaxis, yaxis)\n",
    ")\n",
    "\n",
    "chart.plotInline"
   ]
  },
  {
   "cell_type": "markdown",
   "metadata": {},
   "source": [
    "### Quickly Configuring The Axes\n",
    "\n",
    "Picta comes with a range of utility functions to make configuring the primary axes quick and easy"
   ]
  },
  {
   "cell_type": "code",
   "execution_count": 15,
   "metadata": {},
   "outputs": [],
   "source": [
    "// Let's create 100 randome data points\n",
    "val x = List.range(0, 100).map(x => x * scala.util.Random.nextDouble())\n",
    "val y = List.range(0, 100).map(x => x * scala.util.Random.nextDouble())"
   ]
  },
  {
   "cell_type": "markdown",
   "metadata": {},
   "source": [
    "#### Adjusting Axes Limits"
   ]
  },
  {
   "cell_type": "code",
   "execution_count": 16,
   "metadata": {},
   "outputs": [
    {
     "data": {
      "text/html": [
       "<div id=\"grid-container_Yke2KTUoBS\" class=\"grid-container\" align=\"center\"> \n",
       "<div id=\"grid_Yke2KTUoBS\" class=\"grid\" align=\"center\"> \n",
       "<div id=\"graph_t31rCDFRR4\" class=\"graph\"></div> \n",
       "</div> \n",
       "</div> \n",
       "<script>\n",
       "var masonry = new Macy({\n",
       "    container: '#grid_Yke2KTUoBS',\n",
       "    debug: true,\n",
       "    mobileFirst: true,\n",
       "    columns: 1,\n",
       "    margin: {\n",
       "        x: 0,\n",
       "        y: 50\n",
       "    }\n",
       "  });\n",
       "\n",
       "  var traces_t31rCDFRR4 = [{\"name\":\"Data for Axis Limit example\",\"type\":\"scatter\",\"mode\":\"markers\",\"x\":[0,0.5552037191323289,1.4932638794854884,1.268125896609654,1.527235370119961,2.964588679334817,3.573863306323728,6.1028154953760865,7.611482486914124,6.713860456409814,7.330142795742813,0.3339521089318952,0.9993878563096352,1.097612325965422,3.0728728494096282,3.9712032775910657,7.084365185588027,4.70644532302574,16.34983736656072,7.240134709345075,7.133926240301136,3.6152785345031253,6.279890824086936,14.891229741743953,3.0398320118403275,2.097757234936612,15.736337826557957,14.157466850597485,14.133469333895926,12.000348224968743,28.000156261212748,21.656635180020032,30.00435865077323,29.583533694617213,33.53386950099817,25.936923841425873,23.987240099164367,29.58088458760855,22.514165107081695,13.161177696581284,16.292757899394942,35.68966899646956,7.955701118934852,24.866644057592325,5.898356432951958,30.939090193988708,0.9099087663634216,11.07293795833198,20.539647515389483,16.63419361940157,29.58099663371022,15.49146219344055,50.69816179778352,2.094963604570117,28.516782453830373,18.464479315381077,2.619088005134972,20.451149133364286,8.554464493854063,15.781599966102613,13.362353918844331,15.563912362552145,61.180903203285915,30.93548272707351,11.942127774216253,62.97545763833486,0.6535387682805245,60.93715408929136,10.99364141353286,10.887422197135308,29.87159615384047,41.764482560479294,31.37202087297002,25.787933279864177,65.83784907141268,30.114983127036645,35.88569677310898,71.73593047205995,25.858786540507097,60.6263241426251,24.24683614130739,25.71953508319375,70.64572542679763,13.364635249672569,21.533126570081485,5.182994374443974,81.45104256096602,52.411953487138085,51.249237566138355,68.01399155842887,51.552463744754895,66.05992300258438,19.702221953891293,53.249902758945424,18.034022333250004,33.68718536385698,69.11314283157151,8.74792452667073,6.155137980282424,72.11276168864137],\"y\":[0,0.13187954001644553,1.9980207318343757,1.9901077172667705,1.3233478402451184,3.4098843567175607,3.8942638237846117,6.689639776473091,7.633105933353182,7.143910472786453,1.7365134854225406,3.1575208699509787,3.0946835500956515,12.151119292255581,8.229036096625693,11.045383037669826,15.261532502438765,7.799038372361834,1.7297653855517656,14.381679840612993,16.35600602645284,9.883319532869761,10.249899989958886,3.2387307530725873,18.680701386188986,8.384221637172153,22.2011925201387,1.5686092406911936,3.6200389475699906,14.00822555725663,15.928811076491588,22.730009041698246,12.243600497453883,31.657531529382673,21.566683094314417,24.50557401517573,24.031530881397785,14.101032527098983,15.833277080561311,33.70603993010813,4.958124656854022,23.395761284735705,19.298886454600265,34.02395361841377,19.342582067869497,7.277724042524597,44.650552739867834,34.885673493509344,25.755791333137786,44.0554841737669,29.807972965707062,49.905807038390584,22.108906166769216,9.74885489378926,7.652862101535932,42.423268618761554,23.093450559952664,37.56855767415431,12.875476412324792,21.74263820372726,10.643636065649211,16.58077484294237,8.265262847366156,56.368610633496175,45.29960206299104,19.793069014060002,11.927834066515171,52.95484840455125,49.51531689514142,22.185293359398482,19.64779024679861,66.14177294022706,3.3269557916012316,61.640715744449146,67.1862754842939,1.180374636952655,14.626679379535084,64.55878087474827,27.95346641674381,11.48141307522913,66.82283980656665,62.40162332067013,70.47963651095226,66.24101439006468,60.16084490285692,6.791693635931244,23.673842311479703,46.32499119797306,23.679089132792157,35.28759099689704,2.2567581045207605,76.89492170388363,60.93155906165982,67.86954554257166,34.23365519369083,54.07942312698332,70.47303798368887,15.714761889340819,35.08506763892516,8.583789366685396]}];\n",
       " var layout_t31rCDFRR4 = {\"height\":550,\"width\":600,\"hovermode\":\"closest\",\"title\":{\"text\":\"Axis.SetAxisRange\"},\"showlegend\":true,\"yaxis\":{\"title\":{\"text\":\"y axis\"},\"showgrid\":true,\"zeroline\":false,\"showline\":false,\"range\":[100,-100]},\"xaxis\":{\"title\":{\"text\":\"x axis\"},\"showgrid\":true,\"zeroline\":false,\"showline\":false,\"range\":[-100,100]}};\n",
       " var config_t31rCDFRR4 = {\"responsive\":true,\"scrollZoom\":true,\"displaylogo\":false};\n",
       " Plotly.newPlot(\"graph_t31rCDFRR4\", traces_t31rCDFRR4, layout_t31rCDFRR4, config_t31rCDFRR4);\n",
       "</script> \n"
      ]
     },
     "metadata": {},
     "output_type": "display_data"
    }
   ],
   "source": [
    "val series = (\n",
    "    XY(x, y)\n",
    "    asType SCATTER\n",
    "    drawStyle MARKERS\n",
    ")\n",
    "\n",
    "val chart = (\n",
    "      Chart()\n",
    "    addSeries series.setName(\"Data for Axis Limit example\")\n",
    "    setTitle \"Axis.SetAxisRange\"\n",
    "    addAxes yaxis\n",
    "    setXAxisLimits(-100, 100) // Here we set the axis limit from -100 to 100\n",
    "    setYAxisLimits(100, -100) // Here, by using the minimum as 100 and the maximum as -100, we automatically reverse the axis\n",
    "    setXAxisTitle(\"x axis\")\n",
    "    setYAxisTitle(\"y axis\")\n",
    ")\n",
    "\n",
    "chart.plotInline"
   ]
  },
  {
   "cell_type": "markdown",
   "metadata": {},
   "source": [
    "#### Adjusting Axis Ticks"
   ]
  },
  {
   "cell_type": "code",
   "execution_count": 17,
   "metadata": {
    "scrolled": false
   },
   "outputs": [
    {
     "data": {
      "text/html": [
       "<div id=\"grid-container_zeXWNICGK1\" class=\"grid-container\" align=\"center\"> \n",
       "<div id=\"grid_zeXWNICGK1\" class=\"grid\" align=\"center\"> \n",
       "<div id=\"graph_iLi4puRz6m\" class=\"graph\"></div> \n",
       "</div> \n",
       "</div> \n",
       "<script>\n",
       "var masonry = new Macy({\n",
       "    container: '#grid_zeXWNICGK1',\n",
       "    debug: true,\n",
       "    mobileFirst: true,\n",
       "    columns: 1,\n",
       "    margin: {\n",
       "        x: 0,\n",
       "        y: 50\n",
       "    }\n",
       "  });\n",
       "\n",
       "  var traces_iLi4puRz6m = [{\"name\":\"4wMY66EN62\",\"type\":\"scatter\",\"mode\":\"markers\",\"x\":[0,0.5552037191323289,1.4932638794854884,1.268125896609654,1.527235370119961,2.964588679334817,3.573863306323728,6.1028154953760865,7.611482486914124,6.713860456409814,7.330142795742813,0.3339521089318952,0.9993878563096352,1.097612325965422,3.0728728494096282,3.9712032775910657,7.084365185588027,4.70644532302574,16.34983736656072,7.240134709345075,7.133926240301136,3.6152785345031253,6.279890824086936,14.891229741743953,3.0398320118403275,2.097757234936612,15.736337826557957,14.157466850597485,14.133469333895926,12.000348224968743,28.000156261212748,21.656635180020032,30.00435865077323,29.583533694617213,33.53386950099817,25.936923841425873,23.987240099164367,29.58088458760855,22.514165107081695,13.161177696581284,16.292757899394942,35.68966899646956,7.955701118934852,24.866644057592325,5.898356432951958,30.939090193988708,0.9099087663634216,11.07293795833198,20.539647515389483,16.63419361940157,29.58099663371022,15.49146219344055,50.69816179778352,2.094963604570117,28.516782453830373,18.464479315381077,2.619088005134972,20.451149133364286,8.554464493854063,15.781599966102613,13.362353918844331,15.563912362552145,61.180903203285915,30.93548272707351,11.942127774216253,62.97545763833486,0.6535387682805245,60.93715408929136,10.99364141353286,10.887422197135308,29.87159615384047,41.764482560479294,31.37202087297002,25.787933279864177,65.83784907141268,30.114983127036645,35.88569677310898,71.73593047205995,25.858786540507097,60.6263241426251,24.24683614130739,25.71953508319375,70.64572542679763,13.364635249672569,21.533126570081485,5.182994374443974,81.45104256096602,52.411953487138085,51.249237566138355,68.01399155842887,51.552463744754895,66.05992300258438,19.702221953891293,53.249902758945424,18.034022333250004,33.68718536385698,69.11314283157151,8.74792452667073,6.155137980282424,72.11276168864137],\"y\":[0,0.13187954001644553,1.9980207318343757,1.9901077172667705,1.3233478402451184,3.4098843567175607,3.8942638237846117,6.689639776473091,7.633105933353182,7.143910472786453,1.7365134854225406,3.1575208699509787,3.0946835500956515,12.151119292255581,8.229036096625693,11.045383037669826,15.261532502438765,7.799038372361834,1.7297653855517656,14.381679840612993,16.35600602645284,9.883319532869761,10.249899989958886,3.2387307530725873,18.680701386188986,8.384221637172153,22.2011925201387,1.5686092406911936,3.6200389475699906,14.00822555725663,15.928811076491588,22.730009041698246,12.243600497453883,31.657531529382673,21.566683094314417,24.50557401517573,24.031530881397785,14.101032527098983,15.833277080561311,33.70603993010813,4.958124656854022,23.395761284735705,19.298886454600265,34.02395361841377,19.342582067869497,7.277724042524597,44.650552739867834,34.885673493509344,25.755791333137786,44.0554841737669,29.807972965707062,49.905807038390584,22.108906166769216,9.74885489378926,7.652862101535932,42.423268618761554,23.093450559952664,37.56855767415431,12.875476412324792,21.74263820372726,10.643636065649211,16.58077484294237,8.265262847366156,56.368610633496175,45.29960206299104,19.793069014060002,11.927834066515171,52.95484840455125,49.51531689514142,22.185293359398482,19.64779024679861,66.14177294022706,3.3269557916012316,61.640715744449146,67.1862754842939,1.180374636952655,14.626679379535084,64.55878087474827,27.95346641674381,11.48141307522913,66.82283980656665,62.40162332067013,70.47963651095226,66.24101439006468,60.16084490285692,6.791693635931244,23.673842311479703,46.32499119797306,23.679089132792157,35.28759099689704,2.2567581045207605,76.89492170388363,60.93155906165982,67.86954554257166,34.23365519369083,54.07942312698332,70.47303798368887,15.714761889340819,35.08506763892516,8.583789366685396]}];\n",
       " var layout_iLi4puRz6m = {\"height\":550,\"width\":600,\"hovermode\":\"closest\",\"title\":{\"text\":\"Set Axis Ticks\"},\"showlegend\":true,\"yaxis\":{\"title\":{\"text\":\"y variable\"},\"showgrid\":true,\"zeroline\":false,\"showline\":false,\"range\":[-100,100]},\"xaxis\":{\"title\":{\"text\":\"my new x axis\"},\"showgrid\":true,\"zeroline\":false,\"showline\":false,\"range\":[0,100],\"tick0\":5,\"dtick\":15}};\n",
       " var config_iLi4puRz6m = {\"responsive\":true,\"scrollZoom\":true,\"displaylogo\":false};\n",
       " Plotly.newPlot(\"graph_iLi4puRz6m\", traces_iLi4puRz6m, layout_iLi4puRz6m, config_iLi4puRz6m);\n",
       "</script> \n"
      ]
     },
     "metadata": {},
     "output_type": "display_data"
    }
   ],
   "source": [
    "val series = (\n",
    "    XY(x, y)\n",
    "    asType SCATTER\n",
    "    drawStyle MARKERS\n",
    ")\n",
    "\n",
    "val chart = (\n",
    "    Chart()\n",
    "    addSeries series\n",
    "    setTitle \"Set Axis Ticks\"\n",
    "    addAxes yaxis\n",
    "    setXAxisLimits(0, 100)\n",
    "    setYAxisLimits(-100, 100)\n",
    "    setXAxisTitle(\"my new x axis\")\n",
    "    setXAxisStartTick 5\n",
    "    setXAxisTickGap 15\n",
    ")\n",
    "\n",
    "chart.plotInline"
   ]
  },
  {
   "cell_type": "markdown",
   "metadata": {},
   "source": [
    "### Setting Logarithmic Axes"
   ]
  },
  {
   "cell_type": "code",
   "execution_count": 18,
   "metadata": {},
   "outputs": [
    {
     "data": {
      "text/html": [
       "<div id=\"grid-container_N2SnEfS9b3\" class=\"grid-container\" align=\"center\"> \n",
       "<div id=\"grid_N2SnEfS9b3\" class=\"grid\" align=\"center\"> \n",
       "<div id=\"graph_vQE7EKzJ4p\" class=\"graph\"></div> \n",
       "</div> \n",
       "</div> \n",
       "<script>\n",
       "var masonry = new Macy({\n",
       "    container: '#grid_N2SnEfS9b3',\n",
       "    debug: true,\n",
       "    mobileFirst: true,\n",
       "    columns: 1,\n",
       "    margin: {\n",
       "        x: 0,\n",
       "        y: 50\n",
       "    }\n",
       "  });\n",
       "\n",
       "  var traces_vQE7EKzJ4p = [{\"name\":\"hdNn0pTitm\",\"type\":\"scatter\",\"mode\":\"markers\",\"x\":[1,2,3],\"y\":[1.234,5.2112,2.44332]}];\n",
       " var layout_vQE7EKzJ4p = {\"height\":550,\"width\":600,\"hovermode\":\"closest\",\"title\":{\"text\":\"Logarithmic Axes\"},\"showlegend\":true,\"xaxis\":{\"title\":{\"text\":\"x variable\"},\"showgrid\":true,\"zeroline\":false,\"showline\":false,\"type\":\"log\"},\"yaxis\":{\"title\":{\"text\":\"y variable\"},\"showgrid\":true,\"zeroline\":false,\"showline\":false,\"type\":\"log\"}};\n",
       " var config_vQE7EKzJ4p = {\"responsive\":true,\"scrollZoom\":true,\"displaylogo\":false};\n",
       " Plotly.newPlot(\"graph_vQE7EKzJ4p\", traces_vQE7EKzJ4p, layout_vQE7EKzJ4p, config_vQE7EKzJ4p);\n",
       "</script> \n"
      ]
     },
     "metadata": {},
     "output_type": "display_data"
    }
   ],
   "source": [
    "val series = (\n",
    "    XY(List(1, 2, 3), List(1.234, 5.2112, 2.44332))\n",
    "    asType SCATTER\n",
    "    drawStyle MARKERS\n",
    ")\n",
    "\n",
    "val chart = (\n",
    "    Chart()\n",
    "    addSeries series\n",
    "    setTitle \"Logarithmic Axes\"\n",
    "    addAxes(xaxis, yaxis)\n",
    "    drawXAxisLog true // We set the 'drawXAxisLog' value to 'true' to draw it on a logarithmic scale\n",
    "    drawYAxisLog true\n",
    ")\n",
    "\n",
    "chart.plotInline"
   ]
  },
  {
   "cell_type": "markdown",
   "metadata": {},
   "source": [
    "### Reversing axis\n",
    "We can also reverse the axis by setting the appropriate 'drawXAxisReversed'"
   ]
  },
  {
   "cell_type": "code",
   "execution_count": 19,
   "metadata": {},
   "outputs": [
    {
     "data": {
      "text/html": [
       "<div id=\"grid-container_3rl2XWH8a6\" class=\"grid-container\" align=\"center\"> \n",
       "<div id=\"grid_3rl2XWH8a6\" class=\"grid\" align=\"center\"> \n",
       "<div id=\"graph_bAvVaXoebf\" class=\"graph\"></div> \n",
       "</div> \n",
       "</div> \n",
       "<script>\n",
       "var masonry = new Macy({\n",
       "    container: '#grid_3rl2XWH8a6',\n",
       "    debug: true,\n",
       "    mobileFirst: true,\n",
       "    columns: 1,\n",
       "    margin: {\n",
       "        x: 0,\n",
       "        y: 50\n",
       "    }\n",
       "  });\n",
       "\n",
       "  var traces_bAvVaXoebf = [{\"name\":\"bNarNQCqaF\",\"type\":\"scatter\",\"mode\":\"markers\",\"x\":[0,0.5552037191323289,1.4932638794854884,1.268125896609654,1.527235370119961,2.964588679334817,3.573863306323728,6.1028154953760865,7.611482486914124,6.713860456409814,7.330142795742813,0.3339521089318952,0.9993878563096352,1.097612325965422,3.0728728494096282,3.9712032775910657,7.084365185588027,4.70644532302574,16.34983736656072,7.240134709345075,7.133926240301136,3.6152785345031253,6.279890824086936,14.891229741743953,3.0398320118403275,2.097757234936612,15.736337826557957,14.157466850597485,14.133469333895926,12.000348224968743,28.000156261212748,21.656635180020032,30.00435865077323,29.583533694617213,33.53386950099817,25.936923841425873,23.987240099164367,29.58088458760855,22.514165107081695,13.161177696581284,16.292757899394942,35.68966899646956,7.955701118934852,24.866644057592325,5.898356432951958,30.939090193988708,0.9099087663634216,11.07293795833198,20.539647515389483,16.63419361940157,29.58099663371022,15.49146219344055,50.69816179778352,2.094963604570117,28.516782453830373,18.464479315381077,2.619088005134972,20.451149133364286,8.554464493854063,15.781599966102613,13.362353918844331,15.563912362552145,61.180903203285915,30.93548272707351,11.942127774216253,62.97545763833486,0.6535387682805245,60.93715408929136,10.99364141353286,10.887422197135308,29.87159615384047,41.764482560479294,31.37202087297002,25.787933279864177,65.83784907141268,30.114983127036645,35.88569677310898,71.73593047205995,25.858786540507097,60.6263241426251,24.24683614130739,25.71953508319375,70.64572542679763,13.364635249672569,21.533126570081485,5.182994374443974,81.45104256096602,52.411953487138085,51.249237566138355,68.01399155842887,51.552463744754895,66.05992300258438,19.702221953891293,53.249902758945424,18.034022333250004,33.68718536385698,69.11314283157151,8.74792452667073,6.155137980282424,72.11276168864137],\"y\":[0,0.13187954001644553,1.9980207318343757,1.9901077172667705,1.3233478402451184,3.4098843567175607,3.8942638237846117,6.689639776473091,7.633105933353182,7.143910472786453,1.7365134854225406,3.1575208699509787,3.0946835500956515,12.151119292255581,8.229036096625693,11.045383037669826,15.261532502438765,7.799038372361834,1.7297653855517656,14.381679840612993,16.35600602645284,9.883319532869761,10.249899989958886,3.2387307530725873,18.680701386188986,8.384221637172153,22.2011925201387,1.5686092406911936,3.6200389475699906,14.00822555725663,15.928811076491588,22.730009041698246,12.243600497453883,31.657531529382673,21.566683094314417,24.50557401517573,24.031530881397785,14.101032527098983,15.833277080561311,33.70603993010813,4.958124656854022,23.395761284735705,19.298886454600265,34.02395361841377,19.342582067869497,7.277724042524597,44.650552739867834,34.885673493509344,25.755791333137786,44.0554841737669,29.807972965707062,49.905807038390584,22.108906166769216,9.74885489378926,7.652862101535932,42.423268618761554,23.093450559952664,37.56855767415431,12.875476412324792,21.74263820372726,10.643636065649211,16.58077484294237,8.265262847366156,56.368610633496175,45.29960206299104,19.793069014060002,11.927834066515171,52.95484840455125,49.51531689514142,22.185293359398482,19.64779024679861,66.14177294022706,3.3269557916012316,61.640715744449146,67.1862754842939,1.180374636952655,14.626679379535084,64.55878087474827,27.95346641674381,11.48141307522913,66.82283980656665,62.40162332067013,70.47963651095226,66.24101439006468,60.16084490285692,6.791693635931244,23.673842311479703,46.32499119797306,23.679089132792157,35.28759099689704,2.2567581045207605,76.89492170388363,60.93155906165982,67.86954554257166,34.23365519369083,54.07942312698332,70.47303798368887,15.714761889340819,35.08506763892516,8.583789366685396]}];\n",
       " var layout_bAvVaXoebf = {\"height\":550,\"width\":600,\"hovermode\":\"closest\",\"title\":{\"text\":\"Reversed Axes\"},\"showlegend\":true,\"xaxis\":{\"title\":{\"text\":\"x reversed\"},\"showgrid\":true,\"zeroline\":false,\"showline\":false,\"autorange\":\"reversed\"},\"yaxis\":{\"title\":{\"text\":\"y reversed\"},\"showgrid\":true,\"zeroline\":false,\"showline\":false,\"autorange\":\"reversed\"}};\n",
       " var config_bAvVaXoebf = {\"responsive\":true,\"scrollZoom\":true,\"displaylogo\":false};\n",
       " Plotly.newPlot(\"graph_bAvVaXoebf\", traces_bAvVaXoebf, layout_bAvVaXoebf, config_bAvVaXoebf);\n",
       "</script> \n"
      ]
     },
     "metadata": {},
     "output_type": "display_data"
    }
   ],
   "source": [
    "val series = (\n",
    "    XY(x, y)\n",
    "    asType SCATTER\n",
    "    drawStyle MARKERS\n",
    ")\n",
    "\n",
    "val chart = (\n",
    "    Chart()\n",
    "    addSeries series\n",
    "    setTitle \"Reversed Axes\"\n",
    "    setXAxisTitle(\"x reversed\")\n",
    "    setYAxisTitle(\"y reversed\")\n",
    "    drawXAxisReversed true\n",
    "    drawYAxisReversed true\n",
    ")\n",
    "chart.plotInline"
   ]
  },
  {
   "cell_type": "markdown",
   "metadata": {},
   "source": [
    "### Display options - MultiCharts\n",
    "\n",
    "`MultiCharts` are a way to plot multiple axes on the same chart. This is seperate to Picta's grid system, which create a grid of subplot `Chart`'s. The next series of examples will make this clearer."
   ]
  },
  {
   "cell_type": "code",
   "execution_count": 20,
   "metadata": {},
   "outputs": [
    {
     "data": {
      "text/html": [
       "<div id=\"grid-container_j7x5LT8oso\" class=\"grid-container\" align=\"center\"> \n",
       "<div id=\"grid_j7x5LT8oso\" class=\"grid\" align=\"center\"> \n",
       "<div id=\"graph_pteIMUbJ1i\" class=\"graph\"></div> \n",
       "</div> \n",
       "</div> \n",
       "<script>\n",
       "var masonry = new Macy({\n",
       "    container: '#grid_j7x5LT8oso',\n",
       "    debug: true,\n",
       "    mobileFirst: true,\n",
       "    columns: 1,\n",
       "    margin: {\n",
       "        x: 0,\n",
       "        y: 50\n",
       "    }\n",
       "  });\n",
       "\n",
       "  var traces_pteIMUbJ1i = [{\"name\":\"First series\",\"type\":\"scatter\",\"mode\":\"markers\",\"x\":[1,2,3],\"y\":[2,4,5]},{\"name\":\"Second series\",\"type\":\"scatter\",\"mode\":\"markers\",\"xaxis\":\"x2\",\"yaxis\":\"y2\",\"x\":[0,0.5552037191323289,1.4932638794854884,1.268125896609654,1.527235370119961,2.964588679334817,3.573863306323728,6.1028154953760865,7.611482486914124,6.713860456409814,7.330142795742813,0.3339521089318952,0.9993878563096352,1.097612325965422,3.0728728494096282,3.9712032775910657,7.084365185588027,4.70644532302574,16.34983736656072,7.240134709345075,7.133926240301136,3.6152785345031253,6.279890824086936,14.891229741743953,3.0398320118403275,2.097757234936612,15.736337826557957,14.157466850597485,14.133469333895926,12.000348224968743,28.000156261212748,21.656635180020032,30.00435865077323,29.583533694617213,33.53386950099817,25.936923841425873,23.987240099164367,29.58088458760855,22.514165107081695,13.161177696581284,16.292757899394942,35.68966899646956,7.955701118934852,24.866644057592325,5.898356432951958,30.939090193988708,0.9099087663634216,11.07293795833198,20.539647515389483,16.63419361940157,29.58099663371022,15.49146219344055,50.69816179778352,2.094963604570117,28.516782453830373,18.464479315381077,2.619088005134972,20.451149133364286,8.554464493854063,15.781599966102613,13.362353918844331,15.563912362552145,61.180903203285915,30.93548272707351,11.942127774216253,62.97545763833486,0.6535387682805245,60.93715408929136,10.99364141353286,10.887422197135308,29.87159615384047,41.764482560479294,31.37202087297002,25.787933279864177,65.83784907141268,30.114983127036645,35.88569677310898,71.73593047205995,25.858786540507097,60.6263241426251,24.24683614130739,25.71953508319375,70.64572542679763,13.364635249672569,21.533126570081485,5.182994374443974,81.45104256096602,52.411953487138085,51.249237566138355,68.01399155842887,51.552463744754895,66.05992300258438,19.702221953891293,53.249902758945424,18.034022333250004,33.68718536385698,69.11314283157151,8.74792452667073,6.155137980282424,72.11276168864137],\"y\":[0,0.13187954001644553,1.9980207318343757,1.9901077172667705,1.3233478402451184,3.4098843567175607,3.8942638237846117,6.689639776473091,7.633105933353182,7.143910472786453,1.7365134854225406,3.1575208699509787,3.0946835500956515,12.151119292255581,8.229036096625693,11.045383037669826,15.261532502438765,7.799038372361834,1.7297653855517656,14.381679840612993,16.35600602645284,9.883319532869761,10.249899989958886,3.2387307530725873,18.680701386188986,8.384221637172153,22.2011925201387,1.5686092406911936,3.6200389475699906,14.00822555725663,15.928811076491588,22.730009041698246,12.243600497453883,31.657531529382673,21.566683094314417,24.50557401517573,24.031530881397785,14.101032527098983,15.833277080561311,33.70603993010813,4.958124656854022,23.395761284735705,19.298886454600265,34.02395361841377,19.342582067869497,7.277724042524597,44.650552739867834,34.885673493509344,25.755791333137786,44.0554841737669,29.807972965707062,49.905807038390584,22.108906166769216,9.74885489378926,7.652862101535932,42.423268618761554,23.093450559952664,37.56855767415431,12.875476412324792,21.74263820372726,10.643636065649211,16.58077484294237,8.265262847366156,56.368610633496175,45.29960206299104,19.793069014060002,11.927834066515171,52.95484840455125,49.51531689514142,22.185293359398482,19.64779024679861,66.14177294022706,3.3269557916012316,61.640715744449146,67.1862754842939,1.180374636952655,14.626679379535084,64.55878087474827,27.95346641674381,11.48141307522913,66.82283980656665,62.40162332067013,70.47963651095226,66.24101439006468,60.16084490285692,6.791693635931244,23.673842311479703,46.32499119797306,23.679089132792157,35.28759099689704,2.2567581045207605,76.89492170388363,60.93155906165982,67.86954554257166,34.23365519369083,54.07942312698332,70.47303798368887,15.714761889340819,35.08506763892516,8.583789366685396]}];\n",
       " var layout_pteIMUbJ1i = {\"height\":550,\"width\":600,\"hovermode\":\"closest\",\"title\":{\"text\":\"Chart with Axis Composition\"},\"showlegend\":true,\"grid\":{\"rows\":1,\"columns\":2,\"pattern\":\"independent\"},\"xaxis\":{\"title\":{\"text\":\"x1\"},\"showgrid\":true,\"zeroline\":false,\"showline\":false},\"yaxis\":{\"title\":{\"text\":\"y1\"},\"showgrid\":true,\"zeroline\":false,\"showline\":false},\"xaxis2\":{\"title\":{\"text\":\"x2\"},\"showgrid\":true,\"zeroline\":false,\"showline\":false},\"yaxis2\":{\"showgrid\":true,\"zeroline\":false,\"showline\":false}};\n",
       " var config_pteIMUbJ1i = {\"responsive\":false,\"scrollZoom\":true,\"displaylogo\":false};\n",
       " Plotly.newPlot(\"graph_pteIMUbJ1i\", traces_pteIMUbJ1i, layout_pteIMUbJ1i, config_pteIMUbJ1i);\n",
       "</script> \n"
      ]
     },
     "metadata": {},
     "output_type": "display_data"
    }
   ],
   "source": [
    "// create the axes\n",
    "val xaxis1 = Axis(X) setTitle \"x1\"\n",
    "val yaxis1 = Axis(Y) setTitle \"y1\" // this is not strictly necessary, but if it is not added there will be a zeroline at y = 0\n",
    "\n",
    "val xaxis2 = Axis(X, 2) setTitle \"x2\"\n",
    "val yaxis2 = Axis(Y, 2) // this is not strictly necessary, but if it is not added there will be a zeroline at y = 0\n",
    "\n",
    "val series1 = (\n",
    "    XY(x = List(1, 2, 3), y = List(2, 4, 5))\n",
    "    asType SCATTER\n",
    "    drawStyle MARKERS\n",
    "    setName(\"First series\") //Here we don't specify the axis, so the standard axis will be used\n",
    ")\n",
    "\n",
    "val series2 = (\n",
    "    XY(x = x, y = y) \n",
    "    asType SCATTER\n",
    "    drawStyle MARKERS\n",
    "    setName(\"Second series\")\n",
    "    setAxes (xaxis2, yaxis2) //Here we specify the axis for this plot, which are the second axis\n",
    ")\n",
    "\n",
    "val chart1 = Chart()\n",
    "            .addSeries(series1, series2)\n",
    "            .setTitle(\"Chart with Axis Composition\")\n",
    "            .addAxes(xaxis1, yaxis1, xaxis2, yaxis2)\n",
    "            .setConfig(responsive=false)\n",
    "            // This tells Picta that we want to actually subdivide this chart into multiple plots\n",
    "            .asMultiChart(1, 2) //These correspond to the axis values given above\n",
    "\n",
    "chart1.plotInline"
   ]
  },
  {
   "cell_type": "markdown",
   "metadata": {},
   "source": [
    "### Picta's Subplot System\n",
    "\n",
    "While the above is useful, sometimes it is easier to plot independent charts in a subplot grid. This is where we can use the Picta subplot system.\n",
    "\n",
    "In the subplots below, each subplot is an individual `Chart`. This means we can actually embed the above `MultiChart` inside another subplot. This way we can create nested subplots to showcase any data we need to.\n",
    "\n",
    "Used creatively, this subplot system can be very useful for data exploration."
   ]
  },
  {
   "cell_type": "code",
   "execution_count": 21,
   "metadata": {
    "scrolled": false
   },
   "outputs": [
    {
     "data": {
      "text/html": [
       "<div id=\"grid-container_DzQ4n58VYt\" class=\"grid-container\" align=\"center\"> \n",
       "<div id=\"grid_DzQ4n58VYt\" class=\"grid\" align=\"center\"> \n",
       "<div id=\"graph_3utH8KmWH5\" class=\"graph\"></div> \n",
       "<div id=\"graph_SVe2Zlzu5K\" class=\"graph\"></div> \n",
       "<div id=\"graph_ru6RPJ0bA4\" class=\"graph\"></div> \n",
       "<div id=\"graph_UPi2QbU7Al\" class=\"graph\"></div> \n",
       "</div> \n",
       "</div> \n",
       "\n",
       "<div align=\"center\">\n",
       "<button id = \"saveAsPNG_DzQ4n58VYt\" class=\"picta-button\">Download Canvas as PNG</button>\n",
       "</div>\n",
       "<script>\n",
       "var masonry = new Macy({\n",
       "    container: '#grid_DzQ4n58VYt',\n",
       "    debug: true,\n",
       "    mobileFirst: true,\n",
       "    columns: 2,\n",
       "    margin: {\n",
       "        x: 0,\n",
       "        y: 50\n",
       "    }\n",
       "  });\n",
       "\n",
       "  var traces_3utH8KmWH5 = [{\"name\":\"a\",\"type\":\"scatter\",\"mode\":\"markers\",\"x\":[0,0.5552037191323289,1.4932638794854884,1.268125896609654,1.527235370119961,2.964588679334817,3.573863306323728,6.1028154953760865,7.611482486914124,6.713860456409814,7.330142795742813,0.3339521089318952,0.9993878563096352,1.097612325965422,3.0728728494096282,3.9712032775910657,7.084365185588027,4.70644532302574,16.34983736656072,7.240134709345075,7.133926240301136,3.6152785345031253,6.279890824086936,14.891229741743953,3.0398320118403275,2.097757234936612,15.736337826557957,14.157466850597485,14.133469333895926,12.000348224968743,28.000156261212748,21.656635180020032,30.00435865077323,29.583533694617213,33.53386950099817,25.936923841425873,23.987240099164367,29.58088458760855,22.514165107081695,13.161177696581284,16.292757899394942,35.68966899646956,7.955701118934852,24.866644057592325,5.898356432951958,30.939090193988708,0.9099087663634216,11.07293795833198,20.539647515389483,16.63419361940157,29.58099663371022,15.49146219344055,50.69816179778352,2.094963604570117,28.516782453830373,18.464479315381077,2.619088005134972,20.451149133364286,8.554464493854063,15.781599966102613,13.362353918844331,15.563912362552145,61.180903203285915,30.93548272707351,11.942127774216253,62.97545763833486,0.6535387682805245,60.93715408929136,10.99364141353286,10.887422197135308,29.87159615384047,41.764482560479294,31.37202087297002,25.787933279864177,65.83784907141268,30.114983127036645,35.88569677310898,71.73593047205995,25.858786540507097,60.6263241426251,24.24683614130739,25.71953508319375,70.64572542679763,13.364635249672569,21.533126570081485,5.182994374443974,81.45104256096602,52.411953487138085,51.249237566138355,68.01399155842887,51.552463744754895,66.05992300258438,19.702221953891293,53.249902758945424,18.034022333250004,33.68718536385698,69.11314283157151,8.74792452667073,6.155137980282424,72.11276168864137],\"y\":[0,0.13187954001644553,1.9980207318343757,1.9901077172667705,1.3233478402451184,3.4098843567175607,3.8942638237846117,6.689639776473091,7.633105933353182,7.143910472786453,1.7365134854225406,3.1575208699509787,3.0946835500956515,12.151119292255581,8.229036096625693,11.045383037669826,15.261532502438765,7.799038372361834,1.7297653855517656,14.381679840612993,16.35600602645284,9.883319532869761,10.249899989958886,3.2387307530725873,18.680701386188986,8.384221637172153,22.2011925201387,1.5686092406911936,3.6200389475699906,14.00822555725663,15.928811076491588,22.730009041698246,12.243600497453883,31.657531529382673,21.566683094314417,24.50557401517573,24.031530881397785,14.101032527098983,15.833277080561311,33.70603993010813,4.958124656854022,23.395761284735705,19.298886454600265,34.02395361841377,19.342582067869497,7.277724042524597,44.650552739867834,34.885673493509344,25.755791333137786,44.0554841737669,29.807972965707062,49.905807038390584,22.108906166769216,9.74885489378926,7.652862101535932,42.423268618761554,23.093450559952664,37.56855767415431,12.875476412324792,21.74263820372726,10.643636065649211,16.58077484294237,8.265262847366156,56.368610633496175,45.29960206299104,19.793069014060002,11.927834066515171,52.95484840455125,49.51531689514142,22.185293359398482,19.64779024679861,66.14177294022706,3.3269557916012316,61.640715744449146,67.1862754842939,1.180374636952655,14.626679379535084,64.55878087474827,27.95346641674381,11.48141307522913,66.82283980656665,62.40162332067013,70.47963651095226,66.24101439006468,60.16084490285692,6.791693635931244,23.673842311479703,46.32499119797306,23.679089132792157,35.28759099689704,2.2567581045207605,76.89492170388363,60.93155906165982,67.86954554257166,34.23365519369083,54.07942312698332,70.47303798368887,15.714761889340819,35.08506763892516,8.583789366685396]}];\n",
       " var layout_3utH8KmWH5 = {\"height\":350,\"width\":350,\"hovermode\":\"closest\",\"showlegend\":true,\"margin\":{\"l\":50,\"r\":30,\"t\":50,\"b\":50},\"xaxis\":{\"title\":{\"text\":\"x axis 1\"},\"showgrid\":true,\"zeroline\":false,\"showline\":false},\"yaxis\":{\"title\":{\"text\":\"y axis 1\"},\"showgrid\":true,\"zeroline\":false,\"showline\":false}};\n",
       " var config_3utH8KmWH5 = {\"responsive\":true,\"scrollZoom\":true,\"displaylogo\":false};\n",
       " Plotly.newPlot(\"graph_3utH8KmWH5\", traces_3utH8KmWH5, layout_3utH8KmWH5, config_3utH8KmWH5);\n",
       "\n",
       "  var traces_SVe2Zlzu5K = [{\"name\":\"b\",\"type\":\"scatter\",\"mode\":\"markers\",\"x\":[0,0.5552037191323289,1.4932638794854884,1.268125896609654,1.527235370119961,2.964588679334817,3.573863306323728,6.1028154953760865,7.611482486914124,6.713860456409814,7.330142795742813,0.3339521089318952,0.9993878563096352,1.097612325965422,3.0728728494096282,3.9712032775910657,7.084365185588027,4.70644532302574,16.34983736656072,7.240134709345075,7.133926240301136,3.6152785345031253,6.279890824086936,14.891229741743953,3.0398320118403275,2.097757234936612,15.736337826557957,14.157466850597485,14.133469333895926,12.000348224968743,28.000156261212748,21.656635180020032,30.00435865077323,29.583533694617213,33.53386950099817,25.936923841425873,23.987240099164367,29.58088458760855,22.514165107081695,13.161177696581284,16.292757899394942,35.68966899646956,7.955701118934852,24.866644057592325,5.898356432951958,30.939090193988708,0.9099087663634216,11.07293795833198,20.539647515389483,16.63419361940157,29.58099663371022,15.49146219344055,50.69816179778352,2.094963604570117,28.516782453830373,18.464479315381077,2.619088005134972,20.451149133364286,8.554464493854063,15.781599966102613,13.362353918844331,15.563912362552145,61.180903203285915,30.93548272707351,11.942127774216253,62.97545763833486,0.6535387682805245,60.93715408929136,10.99364141353286,10.887422197135308,29.87159615384047,41.764482560479294,31.37202087297002,25.787933279864177,65.83784907141268,30.114983127036645,35.88569677310898,71.73593047205995,25.858786540507097,60.6263241426251,24.24683614130739,25.71953508319375,70.64572542679763,13.364635249672569,21.533126570081485,5.182994374443974,81.45104256096602,52.411953487138085,51.249237566138355,68.01399155842887,51.552463744754895,66.05992300258438,19.702221953891293,53.249902758945424,18.034022333250004,33.68718536385698,69.11314283157151,8.74792452667073,6.155137980282424,72.11276168864137],\"y\":[0,0.13187954001644553,1.9980207318343757,1.9901077172667705,1.3233478402451184,3.4098843567175607,3.8942638237846117,6.689639776473091,7.633105933353182,7.143910472786453,1.7365134854225406,3.1575208699509787,3.0946835500956515,12.151119292255581,8.229036096625693,11.045383037669826,15.261532502438765,7.799038372361834,1.7297653855517656,14.381679840612993,16.35600602645284,9.883319532869761,10.249899989958886,3.2387307530725873,18.680701386188986,8.384221637172153,22.2011925201387,1.5686092406911936,3.6200389475699906,14.00822555725663,15.928811076491588,22.730009041698246,12.243600497453883,31.657531529382673,21.566683094314417,24.50557401517573,24.031530881397785,14.101032527098983,15.833277080561311,33.70603993010813,4.958124656854022,23.395761284735705,19.298886454600265,34.02395361841377,19.342582067869497,7.277724042524597,44.650552739867834,34.885673493509344,25.755791333137786,44.0554841737669,29.807972965707062,49.905807038390584,22.108906166769216,9.74885489378926,7.652862101535932,42.423268618761554,23.093450559952664,37.56855767415431,12.875476412324792,21.74263820372726,10.643636065649211,16.58077484294237,8.265262847366156,56.368610633496175,45.29960206299104,19.793069014060002,11.927834066515171,52.95484840455125,49.51531689514142,22.185293359398482,19.64779024679861,66.14177294022706,3.3269557916012316,61.640715744449146,67.1862754842939,1.180374636952655,14.626679379535084,64.55878087474827,27.95346641674381,11.48141307522913,66.82283980656665,62.40162332067013,70.47963651095226,66.24101439006468,60.16084490285692,6.791693635931244,23.673842311479703,46.32499119797306,23.679089132792157,35.28759099689704,2.2567581045207605,76.89492170388363,60.93155906165982,67.86954554257166,34.23365519369083,54.07942312698332,70.47303798368887,15.714761889340819,35.08506763892516,8.583789366685396]}];\n",
       " var layout_SVe2Zlzu5K = {\"height\":350,\"width\":350,\"hovermode\":\"closest\",\"showlegend\":true,\"margin\":{\"l\":50,\"r\":50,\"t\":50,\"b\":50},\"xaxis\":{\"title\":{\"text\":\"x axis 2\"},\"showgrid\":true,\"zeroline\":false,\"showline\":false},\"yaxis\":{\"title\":{\"text\":\"y axis 2\"},\"showgrid\":true,\"zeroline\":false,\"showline\":false}};\n",
       " var config_SVe2Zlzu5K = {\"responsive\":true,\"scrollZoom\":true,\"displaylogo\":false};\n",
       " Plotly.newPlot(\"graph_SVe2Zlzu5K\", traces_SVe2Zlzu5K, layout_SVe2Zlzu5K, config_SVe2Zlzu5K);\n",
       "\n",
       "  var traces_ru6RPJ0bA4 = [{\"name\":\"c\",\"type\":\"scatter\",\"mode\":\"markers\",\"x\":[0,0.5552037191323289,1.4932638794854884,1.268125896609654,1.527235370119961,2.964588679334817,3.573863306323728,6.1028154953760865,7.611482486914124,6.713860456409814,7.330142795742813,0.3339521089318952,0.9993878563096352,1.097612325965422,3.0728728494096282,3.9712032775910657,7.084365185588027,4.70644532302574,16.34983736656072,7.240134709345075,7.133926240301136,3.6152785345031253,6.279890824086936,14.891229741743953,3.0398320118403275,2.097757234936612,15.736337826557957,14.157466850597485,14.133469333895926,12.000348224968743,28.000156261212748,21.656635180020032,30.00435865077323,29.583533694617213,33.53386950099817,25.936923841425873,23.987240099164367,29.58088458760855,22.514165107081695,13.161177696581284,16.292757899394942,35.68966899646956,7.955701118934852,24.866644057592325,5.898356432951958,30.939090193988708,0.9099087663634216,11.07293795833198,20.539647515389483,16.63419361940157,29.58099663371022,15.49146219344055,50.69816179778352,2.094963604570117,28.516782453830373,18.464479315381077,2.619088005134972,20.451149133364286,8.554464493854063,15.781599966102613,13.362353918844331,15.563912362552145,61.180903203285915,30.93548272707351,11.942127774216253,62.97545763833486,0.6535387682805245,60.93715408929136,10.99364141353286,10.887422197135308,29.87159615384047,41.764482560479294,31.37202087297002,25.787933279864177,65.83784907141268,30.114983127036645,35.88569677310898,71.73593047205995,25.858786540507097,60.6263241426251,24.24683614130739,25.71953508319375,70.64572542679763,13.364635249672569,21.533126570081485,5.182994374443974,81.45104256096602,52.411953487138085,51.249237566138355,68.01399155842887,51.552463744754895,66.05992300258438,19.702221953891293,53.249902758945424,18.034022333250004,33.68718536385698,69.11314283157151,8.74792452667073,6.155137980282424,72.11276168864137],\"y\":[0,0.13187954001644553,1.9980207318343757,1.9901077172667705,1.3233478402451184,3.4098843567175607,3.8942638237846117,6.689639776473091,7.633105933353182,7.143910472786453,1.7365134854225406,3.1575208699509787,3.0946835500956515,12.151119292255581,8.229036096625693,11.045383037669826,15.261532502438765,7.799038372361834,1.7297653855517656,14.381679840612993,16.35600602645284,9.883319532869761,10.249899989958886,3.2387307530725873,18.680701386188986,8.384221637172153,22.2011925201387,1.5686092406911936,3.6200389475699906,14.00822555725663,15.928811076491588,22.730009041698246,12.243600497453883,31.657531529382673,21.566683094314417,24.50557401517573,24.031530881397785,14.101032527098983,15.833277080561311,33.70603993010813,4.958124656854022,23.395761284735705,19.298886454600265,34.02395361841377,19.342582067869497,7.277724042524597,44.650552739867834,34.885673493509344,25.755791333137786,44.0554841737669,29.807972965707062,49.905807038390584,22.108906166769216,9.74885489378926,7.652862101535932,42.423268618761554,23.093450559952664,37.56855767415431,12.875476412324792,21.74263820372726,10.643636065649211,16.58077484294237,8.265262847366156,56.368610633496175,45.29960206299104,19.793069014060002,11.927834066515171,52.95484840455125,49.51531689514142,22.185293359398482,19.64779024679861,66.14177294022706,3.3269557916012316,61.640715744449146,67.1862754842939,1.180374636952655,14.626679379535084,64.55878087474827,27.95346641674381,11.48141307522913,66.82283980656665,62.40162332067013,70.47963651095226,66.24101439006468,60.16084490285692,6.791693635931244,23.673842311479703,46.32499119797306,23.679089132792157,35.28759099689704,2.2567581045207605,76.89492170388363,60.93155906165982,67.86954554257166,34.23365519369083,54.07942312698332,70.47303798368887,15.714761889340819,35.08506763892516,8.583789366685396]}];\n",
       " var layout_ru6RPJ0bA4 = {\"height\":350,\"width\":350,\"hovermode\":\"closest\",\"showlegend\":true,\"margin\":{\"l\":50,\"r\":30,\"t\":50,\"b\":50},\"xaxis\":{\"title\":{\"text\":\"x axis 3\"},\"showgrid\":true,\"zeroline\":false,\"showline\":false},\"yaxis\":{\"title\":{\"text\":\"y axis 3\"},\"showgrid\":true,\"zeroline\":false,\"showline\":false}};\n",
       " var config_ru6RPJ0bA4 = {\"responsive\":true,\"scrollZoom\":true,\"displaylogo\":false};\n",
       " Plotly.newPlot(\"graph_ru6RPJ0bA4\", traces_ru6RPJ0bA4, layout_ru6RPJ0bA4, config_ru6RPJ0bA4);\n",
       "\n",
       "  var traces_UPi2QbU7Al = [{\"name\":\"First series\",\"type\":\"scatter\",\"mode\":\"markers\",\"x\":[1,2,3],\"y\":[2,4,5]},{\"name\":\"Second series\",\"type\":\"scatter\",\"mode\":\"markers\",\"xaxis\":\"x2\",\"yaxis\":\"y2\",\"x\":[0,0.5552037191323289,1.4932638794854884,1.268125896609654,1.527235370119961,2.964588679334817,3.573863306323728,6.1028154953760865,7.611482486914124,6.713860456409814,7.330142795742813,0.3339521089318952,0.9993878563096352,1.097612325965422,3.0728728494096282,3.9712032775910657,7.084365185588027,4.70644532302574,16.34983736656072,7.240134709345075,7.133926240301136,3.6152785345031253,6.279890824086936,14.891229741743953,3.0398320118403275,2.097757234936612,15.736337826557957,14.157466850597485,14.133469333895926,12.000348224968743,28.000156261212748,21.656635180020032,30.00435865077323,29.583533694617213,33.53386950099817,25.936923841425873,23.987240099164367,29.58088458760855,22.514165107081695,13.161177696581284,16.292757899394942,35.68966899646956,7.955701118934852,24.866644057592325,5.898356432951958,30.939090193988708,0.9099087663634216,11.07293795833198,20.539647515389483,16.63419361940157,29.58099663371022,15.49146219344055,50.69816179778352,2.094963604570117,28.516782453830373,18.464479315381077,2.619088005134972,20.451149133364286,8.554464493854063,15.781599966102613,13.362353918844331,15.563912362552145,61.180903203285915,30.93548272707351,11.942127774216253,62.97545763833486,0.6535387682805245,60.93715408929136,10.99364141353286,10.887422197135308,29.87159615384047,41.764482560479294,31.37202087297002,25.787933279864177,65.83784907141268,30.114983127036645,35.88569677310898,71.73593047205995,25.858786540507097,60.6263241426251,24.24683614130739,25.71953508319375,70.64572542679763,13.364635249672569,21.533126570081485,5.182994374443974,81.45104256096602,52.411953487138085,51.249237566138355,68.01399155842887,51.552463744754895,66.05992300258438,19.702221953891293,53.249902758945424,18.034022333250004,33.68718536385698,69.11314283157151,8.74792452667073,6.155137980282424,72.11276168864137],\"y\":[0,0.13187954001644553,1.9980207318343757,1.9901077172667705,1.3233478402451184,3.4098843567175607,3.8942638237846117,6.689639776473091,7.633105933353182,7.143910472786453,1.7365134854225406,3.1575208699509787,3.0946835500956515,12.151119292255581,8.229036096625693,11.045383037669826,15.261532502438765,7.799038372361834,1.7297653855517656,14.381679840612993,16.35600602645284,9.883319532869761,10.249899989958886,3.2387307530725873,18.680701386188986,8.384221637172153,22.2011925201387,1.5686092406911936,3.6200389475699906,14.00822555725663,15.928811076491588,22.730009041698246,12.243600497453883,31.657531529382673,21.566683094314417,24.50557401517573,24.031530881397785,14.101032527098983,15.833277080561311,33.70603993010813,4.958124656854022,23.395761284735705,19.298886454600265,34.02395361841377,19.342582067869497,7.277724042524597,44.650552739867834,34.885673493509344,25.755791333137786,44.0554841737669,29.807972965707062,49.905807038390584,22.108906166769216,9.74885489378926,7.652862101535932,42.423268618761554,23.093450559952664,37.56855767415431,12.875476412324792,21.74263820372726,10.643636065649211,16.58077484294237,8.265262847366156,56.368610633496175,45.29960206299104,19.793069014060002,11.927834066515171,52.95484840455125,49.51531689514142,22.185293359398482,19.64779024679861,66.14177294022706,3.3269557916012316,61.640715744449146,67.1862754842939,1.180374636952655,14.626679379535084,64.55878087474827,27.95346641674381,11.48141307522913,66.82283980656665,62.40162332067013,70.47963651095226,66.24101439006468,60.16084490285692,6.791693635931244,23.673842311479703,46.32499119797306,23.679089132792157,35.28759099689704,2.2567581045207605,76.89492170388363,60.93155906165982,67.86954554257166,34.23365519369083,54.07942312698332,70.47303798368887,15.714761889340819,35.08506763892516,8.583789366685396]}];\n",
       " var layout_UPi2QbU7Al = {\"height\":350,\"width\":350,\"hovermode\":\"closest\",\"title\":{\"text\":\"The MultiChart from Above\"},\"showlegend\":true,\"grid\":{\"rows\":1,\"columns\":2,\"pattern\":\"independent\"},\"xaxis\":{\"title\":{\"text\":\"x1\"},\"showgrid\":true,\"zeroline\":false,\"showline\":false},\"yaxis\":{\"title\":{\"text\":\"y1\"},\"showgrid\":true,\"zeroline\":false,\"showline\":false},\"xaxis2\":{\"title\":{\"text\":\"x2\"},\"showgrid\":true,\"zeroline\":false,\"showline\":false},\"yaxis2\":{\"showgrid\":true,\"zeroline\":false,\"showline\":false}};\n",
       " var config_UPi2QbU7Al = {\"responsive\":false,\"scrollZoom\":true,\"displaylogo\":false};\n",
       " Plotly.newPlot(\"graph_UPi2QbU7Al\", traces_UPi2QbU7Al, layout_UPi2QbU7Al, config_UPi2QbU7Al);\n",
       "\n",
       "var save_DzQ4n58VYt = document.getElementById(\"saveAsPNG_DzQ4n58VYt\")\n",
       "save_DzQ4n58VYt.onclick = async function() {\n",
       "    const grid = document.getElementById(\"grid-container_DzQ4n58VYt\")\n",
       "    const graphs = grid.getElementsByClassName(\"graph\")\n",
       "\n",
       "    const images = []\n",
       "\n",
       "    const rows = 2\n",
       "    const cols = 2\n",
       "    const img_width = 400\n",
       "    const img_height = 400\n",
       "    var margin = 50\n",
       "\n",
       "    for (var i=0; i<rows; i++) {\n",
       "      for (var j=0; j<cols; j++) {\n",
       "        const image = await Plotly.toImage(graphs[i * cols + j], {format: 'png', width: img_width, height: img_height})\n",
       "        images.push(image);\n",
       "      }\n",
       "    }\n",
       "\n",
       "    const positioned_images = []\n",
       "\n",
       "        for (var i=0; i<rows; i++) {\n",
       "            for (var j=0; j<cols; j++) {\n",
       "\n",
       "                const obj = {\n",
       "                    \"src\": images[i*cols + j],\n",
       "                    x: j*img_width+margin,\n",
       "                    y: i*img_height+margin\n",
       "                }\n",
       "\n",
       "                positioned_images.push(obj)\n",
       "            }\n",
       "        }\n",
       "\n",
       "        mergeImages(positioned_images, {\n",
       "            width: img_width*cols+60, height: img_height*rows+60\n",
       "        })\n",
       "        .then(b64 => {\n",
       "            var a = document.createElement(\"a\");\n",
       "            a.href = b64;\n",
       "            a.download = \"Image.png\";\n",
       "            a.click();\n",
       "            a.remove()\n",
       "        });\n",
       "}\n",
       "</script> \n"
      ]
     },
     "metadata": {},
     "output_type": "display_data"
    }
   ],
   "source": [
    "// first define the x-axes we will use in the plot\n",
    "val ax1 = Axis(X, title = \"x axis 1\")\n",
    "val ax2 = Axis(X, title = \"x axis 2\")\n",
    "val ax3 = Axis(X, title = \"x axis 3\")\n",
    "val ax4 = Axis(X, title = \"x axis 4\")\n",
    "\n",
    "// first define the y-axes we will use in the plot\n",
    "val ax6 = Axis(Y, title = \"y axis 1\")\n",
    "val ax7 = Axis(Y, title = \"y axis 2\")\n",
    "val ax8 = Axis(Y, title = \"y axis 3\")\n",
    "val ax9 = Axis(Y, title = \"y axis 4\")\n",
    "\n",
    "// it may be necessary to play around with the chart dimensions and margin  in order to ensure a good fit on screen.\n",
    "val dim = 350\n",
    "\n",
    "val chart1 = (\n",
    "    Chart()\n",
    "    setDimensions(width = dim, height = dim)\n",
    "    addSeries XY(x, y).setName(\"a\").drawMarkers\n",
    "    addAxes(ax1, ax6)\n",
    "    setMargin(l=50, r=30, t=50, b=50)\n",
    ")\n",
    "\n",
    "val chart2 = (\n",
    "    Chart() \n",
    "    setDimensions(width = dim, height = dim)\n",
    "    addSeries XY(x, y).setName(\"b\").drawMarkers\n",
    "    addAxes(ax2, ax7)\n",
    "    setMargin(l=50, r=50, t=50, b=50)\n",
    ")\n",
    "\n",
    "val chart3 = (\n",
    "    Chart()\n",
    "    setDimensions(width = dim, height = dim)\n",
    "    addSeries XY(x, y).setName(\"c\").drawMarkers\n",
    "    addAxes(ax3, ax8)\n",
    "    setMargin(l=50, r=30, t=50, b=50)\n",
    ")\n",
    "\n",
    "val chart4 = (\n",
    "    Chart()\n",
    "    setDimensions(width = dim, height = dim)\n",
    "    addSeries(series1, series2)\n",
    "    setTitle \"The MultiChart from Above\"\n",
    "    addAxes(xaxis1, yaxis1, xaxis2, yaxis2) // these axes come from above\n",
    "    setConfig(responsive=false)\n",
    "    asMultiChart(1, 2)\n",
    ")\n",
    "\n",
    "// The canvas has an underlying grid. By default the underlying grid is 1x1, but we can pass in the dimensions we \n",
    "// require by passing in parameters in the constructor.\n",
    "Canvas(2, 2)\n",
    ".setChart(0, 0, chart1)\n",
    ".setChart(0, 1, chart2)\n",
    ".setChart(1, 0, chart3)\n",
    ".setChart(1, 1, chart4)\n",
    ".plotInline"
   ]
  },
  {
   "cell_type": "markdown",
   "metadata": {},
   "source": [
    "### Error Bars\n",
    "\n",
    "We can also add Error Bars to our plots.\n",
    "\n",
    "Error bars come in two flavours:\n",
    "\n",
    "1. `XError`\n",
    "2. `YError`\n",
    "\n",
    "Both of these has an associated `mode` that determines how the error bar is calculated for an individual point. The following `mode`s can be specified:\n",
    "\n",
    "- `DATA`: The user passes in an array that specifies the per point error\n",
    "- `PERCENT`: The user passes in a Double that calculates the error as a percentage of the value of the point\n",
    "- `CONSTANT`: The user passes in a double that is the constant value for the error for all points\n",
    "- `SQRT`: This calculates the error as a square root of the point value.\n",
    "\n",
    "The next few examples will demonstrate:"
   ]
  },
  {
   "cell_type": "code",
   "execution_count": 22,
   "metadata": {},
   "outputs": [],
   "source": [
    "// First import the Error Bar options\n",
    "import org.carbonateresearch.picta.options.{YError, CONSTANT, DATA, PERCENT, SQRT}"
   ]
  },
  {
   "cell_type": "code",
   "execution_count": 23,
   "metadata": {},
   "outputs": [
    {
     "data": {
      "text/html": [
       "<div id=\"grid-container_23y41B54Q8\" class=\"grid-container\" align=\"center\"> \n",
       "<div id=\"grid_23y41B54Q8\" class=\"grid\" align=\"center\"> \n",
       "<div id=\"graph_9WW0F79Xrt\" class=\"graph\"></div> \n",
       "<div id=\"graph_kbbUZQr7tV\" class=\"graph\"></div> \n",
       "<div id=\"graph_bO2pCpacK5\" class=\"graph\"></div> \n",
       "<div id=\"graph_fWPx9yiRJy\" class=\"graph\"></div> \n",
       "</div> \n",
       "</div> \n",
       "\n",
       "<div align=\"center\">\n",
       "<button id = \"saveAsPNG_23y41B54Q8\" class=\"picta-button\">Download Canvas as PNG</button>\n",
       "</div>\n",
       "<script>\n",
       "var masonry = new Macy({\n",
       "    container: '#grid_23y41B54Q8',\n",
       "    debug: true,\n",
       "    mobileFirst: true,\n",
       "    columns: 2,\n",
       "    margin: {\n",
       "        x: 0,\n",
       "        y: 50\n",
       "    }\n",
       "  });\n",
       "\n",
       "  var traces_9WW0F79Xrt = [{\"name\":\"Error from provided data\",\"type\":\"scatter\",\"mode\":\"markers\",\"x\":[1,2,3],\"y\":[1.234,5.2112,2.44332],\"error_y\":{\"type\":\"data\",\"visible\":true,\"array\":[0.5,0.5,0.5]}}];\n",
       " var layout_9WW0F79Xrt = {\"height\":400,\"width\":400,\"hovermode\":\"closest\",\"title\":{\"text\":\"Per Point Specified Error\"},\"showlegend\":true};\n",
       " var config_9WW0F79Xrt = {\"responsive\":true,\"scrollZoom\":true,\"displaylogo\":false};\n",
       " Plotly.newPlot(\"graph_9WW0F79Xrt\", traces_9WW0F79Xrt, layout_9WW0F79Xrt, config_9WW0F79Xrt);\n",
       "\n",
       "  var traces_kbbUZQr7tV = [{\"name\":\"% error\",\"type\":\"scatter\",\"mode\":\"markers\",\"x\":[1,2,3],\"y\":[1.234,5.2112,2.44332],\"error_y\":{\"type\":\"percent\",\"visible\":true,\"value\":10}}];\n",
       " var layout_kbbUZQr7tV = {\"height\":400,\"width\":400,\"hovermode\":\"closest\",\"title\":{\"text\":\"Percentage Error\"},\"showlegend\":true};\n",
       " var config_kbbUZQr7tV = {\"responsive\":true,\"scrollZoom\":true,\"displaylogo\":false};\n",
       " Plotly.newPlot(\"graph_kbbUZQr7tV\", traces_kbbUZQr7tV, layout_kbbUZQr7tV, config_kbbUZQr7tV);\n",
       "\n",
       "  var traces_bO2pCpacK5 = [{\"name\":\"constant error\",\"type\":\"scatter\",\"mode\":\"markers\",\"x\":[1,2,3],\"y\":[1.234,5.2112,2.44332],\"error_y\":{\"type\":\"constant\",\"visible\":true,\"value\":10}}];\n",
       " var layout_bO2pCpacK5 = {\"height\":400,\"width\":400,\"hovermode\":\"closest\",\"title\":{\"text\":\"Constant Error\"},\"showlegend\":true};\n",
       " var config_bO2pCpacK5 = {\"responsive\":true,\"scrollZoom\":true,\"displaylogo\":false};\n",
       " Plotly.newPlot(\"graph_bO2pCpacK5\", traces_bO2pCpacK5, layout_bO2pCpacK5, config_bO2pCpacK5);\n",
       "\n",
       "  var traces_fWPx9yiRJy = [{\"name\":\"Sqrt\",\"type\":\"scatter\",\"mode\":\"markers\",\"x\":[1,2,3],\"y\":[1.234,5.2112,2.44332],\"error_y\":{\"type\":\"sqrt\",\"visible\":true}}];\n",
       " var layout_fWPx9yiRJy = {\"height\":400,\"width\":400,\"hovermode\":\"closest\",\"title\":{\"text\":\"Sqrt Error\"},\"showlegend\":true};\n",
       " var config_fWPx9yiRJy = {\"responsive\":true,\"scrollZoom\":true,\"displaylogo\":false};\n",
       " Plotly.newPlot(\"graph_fWPx9yiRJy\", traces_fWPx9yiRJy, layout_fWPx9yiRJy, config_fWPx9yiRJy);\n",
       "\n",
       "var save_23y41B54Q8 = document.getElementById(\"saveAsPNG_23y41B54Q8\")\n",
       "save_23y41B54Q8.onclick = async function() {\n",
       "    const grid = document.getElementById(\"grid-container_23y41B54Q8\")\n",
       "    const graphs = grid.getElementsByClassName(\"graph\")\n",
       "\n",
       "    const images = []\n",
       "\n",
       "    const rows = 2\n",
       "    const cols = 2\n",
       "    const img_width = 400\n",
       "    const img_height = 400\n",
       "    var margin = 50\n",
       "\n",
       "    for (var i=0; i<rows; i++) {\n",
       "      for (var j=0; j<cols; j++) {\n",
       "        const image = await Plotly.toImage(graphs[i * cols + j], {format: 'png', width: img_width, height: img_height})\n",
       "        images.push(image);\n",
       "      }\n",
       "    }\n",
       "\n",
       "    const positioned_images = []\n",
       "\n",
       "        for (var i=0; i<rows; i++) {\n",
       "            for (var j=0; j<cols; j++) {\n",
       "\n",
       "                const obj = {\n",
       "                    \"src\": images[i*cols + j],\n",
       "                    x: j*img_width+margin,\n",
       "                    y: i*img_height+margin\n",
       "                }\n",
       "\n",
       "                positioned_images.push(obj)\n",
       "            }\n",
       "        }\n",
       "\n",
       "        mergeImages(positioned_images, {\n",
       "            width: img_width*cols+60, height: img_height*rows+60\n",
       "        })\n",
       "        .then(b64 => {\n",
       "            var a = document.createElement(\"a\");\n",
       "            a.href = b64;\n",
       "            a.download = \"Image.png\";\n",
       "            a.click();\n",
       "            a.remove()\n",
       "        });\n",
       "}\n",
       "</script> \n"
      ]
     },
     "metadata": {},
     "output_type": "display_data"
    }
   ],
   "source": [
    "val dim = 400\n",
    "\n",
    "val series1 = (\n",
    "    XY(List(1, 2, 3), List(1.234, 5.2112, 2.44332))\n",
    "    asType SCATTER\n",
    "    drawStyle MARKERS\n",
    "    // User specifies the error per point\n",
    "    setErrorBars YError(mode = DATA, array = List(0.5, 0.5, 0.5))\n",
    ")\n",
    "\n",
    "val chart1 = (\n",
    "    Chart()\n",
    "    addSeries series1.setName(\"Error from provided data\")\n",
    "    setTitle \"Per Point Specified Error\"\n",
    "    setDimensions(width = dim, height = dim)\n",
    ")\n",
    "\n",
    "\n",
    "val series2 = (\n",
    "    XY(List(1, 2, 3), List(1.234, 5.2112, 2.44332))\n",
    "    asType SCATTER\n",
    "    drawStyle MARKERS\n",
    "    // the error here is 10% of the corresponding y-value for the point\n",
    "    setErrorBars YError(mode = PERCENT, value = 10.0)\n",
    ")\n",
    "\n",
    "val chart2 = (\n",
    "    Chart()\n",
    "    addSeries series2.setName(\"% error\")\n",
    "    setTitle \"Percentage Error\"\n",
    "    setDimensions(width = dim, height = dim) \n",
    ")\n",
    "\n",
    "\n",
    "val series3 = (\n",
    "    XY(List(1, 2, 3), List(1.234, 5.2112, 2.44332))\n",
    "    asType SCATTER\n",
    "    drawStyle MARKERS\n",
    "    // a constant error of 10 is applied to each point\n",
    "    setErrorBars YError(mode = CONSTANT, value = 10.0)\n",
    "    setName(\"Constant value\")\n",
    ")\n",
    "\n",
    "val chart3 = (\n",
    "    Chart()\n",
    "    addSeries series3.setName(\"constant error\")\n",
    "    setTitle \"Constant Error\"\n",
    "    setDimensions(width = dim, height = dim)\n",
    ")\n",
    "\n",
    "\n",
    "val series4 = (\n",
    "    XY(List(1, 2, 3), List(1.234, 5.2112, 2.44332))\n",
    "    asType SCATTER\n",
    "    drawStyle MARKERS\n",
    "    setErrorBars YError(mode = SQRT)\n",
    "    setName(\"Sqrt\")\n",
    ")\n",
    "\n",
    "val chart4 = (\n",
    "    Chart()\n",
    "    addSeries series4.setName(\"Sqrt\")\n",
    "    setTitle \"Sqrt Error\"\n",
    "    // the error is set to the sqrt of the corresponding point\n",
    "    setDimensions(width = dim, height = dim)\n",
    ")\n",
    "\n",
    "val canvas = Canvas(2, 2) addCharts (chart1, chart2, chart3, chart4)\n",
    "\n",
    "canvas.plotInline"
   ]
  },
  {
   "cell_type": "markdown",
   "metadata": {},
   "source": [
    "### Other Types of Charts\n",
    "\n",
    "The next examples will demonstrate how to create a variety of `Chart`s. All of the examples below are composable with the `Canvas` subplot system.\n",
    "\n",
    "#### Pie Chart\n",
    "\n",
    "Pie charts can be created in two ways. The first way uses the `PieElement` component to compose a Piechart:"
   ]
  },
  {
   "cell_type": "code",
   "execution_count": 24,
   "metadata": {},
   "outputs": [
    {
     "data": {
      "text/html": [
       "<div id=\"grid-container_0Y3hwhZE56\" class=\"grid-container\" align=\"center\"> \n",
       "<div id=\"grid_0Y3hwhZE56\" class=\"grid\" align=\"center\"> \n",
       "<div id=\"graph_gp9h1FLQAh\" class=\"graph\"></div> \n",
       "</div> \n",
       "</div> \n",
       "<script>\n",
       "var masonry = new Macy({\n",
       "    container: '#grid_0Y3hwhZE56',\n",
       "    debug: true,\n",
       "    mobileFirst: true,\n",
       "    columns: 1,\n",
       "    margin: {\n",
       "        x: 0,\n",
       "        y: 50\n",
       "    }\n",
       "  });\n",
       "\n",
       "  var traces_gp9h1FLQAh = [{\"name\":\"pJwZ3F8Avf\",\"type\":\"pie\",\"values\":[60,20,20],\"labels\":[\"Residential\",\"Non-Residential\",\"Utility\"]}];\n",
       " var layout_gp9h1FLQAh = {\"height\":550,\"width\":600,\"hovermode\":\"closest\",\"title\":{\"text\":\"Pie Elements\"},\"showlegend\":true};\n",
       " var config_gp9h1FLQAh = {\"responsive\":true,\"scrollZoom\":true,\"displaylogo\":false};\n",
       " Plotly.newPlot(\"graph_gp9h1FLQAh\", traces_gp9h1FLQAh, layout_gp9h1FLQAh, config_gp9h1FLQAh);\n",
       "</script> \n"
      ]
     },
     "metadata": {},
     "output_type": "display_data"
    }
   ],
   "source": [
    "val a = PieElement(value=60, name=\"Residential\")\n",
    "val b = PieElement(value=20, name=\"Non-Residential\")\n",
    "val c = PieElement(value=20, name=\"Utility\")\n",
    "\n",
    "// we add a list of Pie Elements to an XY series as the list of Pie Elements gets deconstructed down into two series:\n",
    "// X => values: [60, 20, 20]\n",
    "// Y => labels: [\"Residential\", \"Non-Residential\", \"Utility\"]\n",
    "// The labels become the series_name for each individual PieElement\n",
    "// As we pass in a list of PieElements, we do not need to specify the type as a PIE\n",
    "val series = XY(x=List(a, b, c))\n",
    "\n",
    "val chart = Chart() addSeries series setTitle \"Pie Elements\"\n",
    "\n",
    "chart.plotInline"
   ]
  },
  {
   "cell_type": "code",
   "execution_count": 25,
   "metadata": {},
   "outputs": [
    {
     "data": {
      "text/html": [
       "<div id=\"grid-container_2OJhUf10no\" class=\"grid-container\" align=\"center\"> \n",
       "<div id=\"grid_2OJhUf10no\" class=\"grid\" align=\"center\"> \n",
       "<div id=\"graph_MWQMaYTQwW\" class=\"graph\"></div> \n",
       "</div> \n",
       "</div> \n",
       "<script>\n",
       "var masonry = new Macy({\n",
       "    container: '#grid_2OJhUf10no',\n",
       "    debug: true,\n",
       "    mobileFirst: true,\n",
       "    columns: 1,\n",
       "    margin: {\n",
       "        x: 0,\n",
       "        y: 50\n",
       "    }\n",
       "  });\n",
       "\n",
       "  var traces_MWQMaYTQwW = [{\"name\":\"kCRr5NTOVw\",\"type\":\"pie\",\"values\":[60,20,20],\"labels\":[\"Residential\",\"Non-Residential\",\"Utility\"]}];\n",
       " var layout_MWQMaYTQwW = {\"height\":550,\"width\":600,\"hovermode\":\"closest\",\"title\":{\"text\":\"Pie Chart\"},\"showlegend\":true};\n",
       " var config_MWQMaYTQwW = {\"responsive\":false,\"scrollZoom\":false,\"displaylogo\":false};\n",
       " Plotly.newPlot(\"graph_MWQMaYTQwW\", traces_MWQMaYTQwW, layout_MWQMaYTQwW, config_MWQMaYTQwW);\n",
       "</script> \n"
      ]
     },
     "metadata": {},
     "output_type": "display_data"
    }
   ],
   "source": [
    "// However, composing individual PieElements may be tedious if there is a lot of data and we know how to it all fits\n",
    "// together. Picta provides a short hand to quickly create a Pie Chart using the methods we have seen previously\n",
    "// In this case we pass the (value, name) pairs as two seperate lists. As before, the labels become an individual\n",
    "// series name for each point; which is why the legend renders correctly.\n",
    "val series = XY(x=List(60, 20, 20), y=List(\"Residential\", \"Non-Residential\", \"Utility\")) asType PIE\n",
    "\n",
    "val chart = Chart() addSeries series setConfig(false, false) setTitle \"Pie Chart\"\n",
    "\n",
    "chart.plotInline"
   ]
  },
  {
   "cell_type": "markdown",
   "metadata": {},
   "source": [
    "### Histogram"
   ]
  },
  {
   "cell_type": "code",
   "execution_count": 26,
   "metadata": {},
   "outputs": [
    {
     "data": {
      "text/html": [
       "<div id=\"grid-container_jknODsSD3x\" class=\"grid-container\" align=\"center\"> \n",
       "<div id=\"grid_jknODsSD3x\" class=\"grid\" align=\"center\"> \n",
       "<div id=\"graph_COD0c6O7jL\" class=\"graph\"></div> \n",
       "</div> \n",
       "</div> \n",
       "<script>\n",
       "var masonry = new Macy({\n",
       "    container: '#grid_jknODsSD3x',\n",
       "    debug: true,\n",
       "    mobileFirst: true,\n",
       "    columns: 1,\n",
       "    margin: {\n",
       "        x: 0,\n",
       "        y: 50\n",
       "    }\n",
       "  });\n",
       "\n",
       "  var traces_COD0c6O7jL = [{\"name\":\"THKUKH1T1d\",\"type\":\"histogram\",\"x\":[0,0.5552037191323289,1.4932638794854884,1.268125896609654,1.527235370119961,2.964588679334817,3.573863306323728,6.1028154953760865,7.611482486914124,6.713860456409814,7.330142795742813,0.3339521089318952,0.9993878563096352,1.097612325965422,3.0728728494096282,3.9712032775910657,7.084365185588027,4.70644532302574,16.34983736656072,7.240134709345075,7.133926240301136,3.6152785345031253,6.279890824086936,14.891229741743953,3.0398320118403275,2.097757234936612,15.736337826557957,14.157466850597485,14.133469333895926,12.000348224968743,28.000156261212748,21.656635180020032,30.00435865077323,29.583533694617213,33.53386950099817,25.936923841425873,23.987240099164367,29.58088458760855,22.514165107081695,13.161177696581284,16.292757899394942,35.68966899646956,7.955701118934852,24.866644057592325,5.898356432951958,30.939090193988708,0.9099087663634216,11.07293795833198,20.539647515389483,16.63419361940157,29.58099663371022,15.49146219344055,50.69816179778352,2.094963604570117,28.516782453830373,18.464479315381077,2.619088005134972,20.451149133364286,8.554464493854063,15.781599966102613,13.362353918844331,15.563912362552145,61.180903203285915,30.93548272707351,11.942127774216253,62.97545763833486,0.6535387682805245,60.93715408929136,10.99364141353286,10.887422197135308,29.87159615384047,41.764482560479294,31.37202087297002,25.787933279864177,65.83784907141268,30.114983127036645,35.88569677310898,71.73593047205995,25.858786540507097,60.6263241426251,24.24683614130739,25.71953508319375,70.64572542679763,13.364635249672569,21.533126570081485,5.182994374443974,81.45104256096602,52.411953487138085,51.249237566138355,68.01399155842887,51.552463744754895,66.05992300258438,19.702221953891293,53.249902758945424,18.034022333250004,33.68718536385698,69.11314283157151,8.74792452667073,6.155137980282424,72.11276168864137]}];\n",
       " var layout_COD0c6O7jL = {\"height\":550,\"width\":600,\"hovermode\":\"closest\",\"title\":{\"text\":\"Histogram with axes\"},\"showlegend\":true,\"xaxis\":{\"title\":{\"text\":\"x\"},\"showgrid\":true,\"zeroline\":false,\"showline\":false},\"yaxis\":{\"title\":{\"text\":\"y\"},\"showgrid\":true,\"zeroline\":false,\"showline\":false}};\n",
       " var config_COD0c6O7jL = {\"responsive\":true,\"scrollZoom\":true,\"displaylogo\":false};\n",
       " Plotly.newPlot(\"graph_COD0c6O7jL\", traces_COD0c6O7jL, layout_COD0c6O7jL, config_COD0c6O7jL);\n",
       "</script> \n"
      ]
     },
     "metadata": {},
     "output_type": "display_data"
    }
   ],
   "source": [
    "val series = XY(x=x) asType HISTOGRAM\n",
    "\n",
    "val xaxis = Axis(X, title = \"x\")\n",
    "val yaxis = Axis(Y, title = \"y\")\n",
    "\n",
    "val chart = (\n",
    "    Chart() \n",
    "    addSeries series\n",
    "    setTitle \"Histogram with axes\"\n",
    "    addAxes(xaxis, yaxis)\n",
    ")\n",
    "\n",
    "Canvas()\n",
    ".addCharts(chart)\n",
    ".plotInline"
   ]
  },
  {
   "cell_type": "markdown",
   "metadata": {},
   "source": [
    "#### Customizing colors for a Histogram\n",
    "\n",
    "We can use the `HistOptions` class to further specify options for a histogram. For example, if we wanted to create a horizontally positioned histogram, we can do the following:"
   ]
  },
  {
   "cell_type": "code",
   "execution_count": 27,
   "metadata": {},
   "outputs": [],
   "source": [
    "import org.carbonateresearch.picta.options.histogram.HistOptions\n",
    "import org.carbonateresearch.picta.options.Line"
   ]
  },
  {
   "cell_type": "code",
   "execution_count": 28,
   "metadata": {},
   "outputs": [
    {
     "data": {
      "text/html": [
       "<div id=\"grid-container_j7kM3qDtAZ\" class=\"grid-container\" align=\"center\"> \n",
       "<div id=\"grid_j7kM3qDtAZ\" class=\"grid\" align=\"center\"> \n",
       "<div id=\"graph_nQjhoVHfcN\" class=\"graph\"></div> \n",
       "</div> \n",
       "</div> \n",
       "<script>\n",
       "var masonry = new Macy({\n",
       "    container: '#grid_j7kM3qDtAZ',\n",
       "    debug: true,\n",
       "    mobileFirst: true,\n",
       "    columns: 1,\n",
       "    margin: {\n",
       "        x: 0,\n",
       "        y: 50\n",
       "    }\n",
       "  });\n",
       "\n",
       "  var traces_nQjhoVHfcN = [{\"name\":\"DhS2n0e8Op\",\"type\":\"histogram\",\"marker\":{\"color\":\"rgba(255.0, 100.0, 102.0, 0.5)\",\"line\":{\"width\":0.5}},\"y\":[0,0.5552037191323289,1.4932638794854884,1.268125896609654,1.527235370119961,2.964588679334817,3.573863306323728,6.1028154953760865,7.611482486914124,6.713860456409814,7.330142795742813,0.3339521089318952,0.9993878563096352,1.097612325965422,3.0728728494096282,3.9712032775910657,7.084365185588027,4.70644532302574,16.34983736656072,7.240134709345075,7.133926240301136,3.6152785345031253,6.279890824086936,14.891229741743953,3.0398320118403275,2.097757234936612,15.736337826557957,14.157466850597485,14.133469333895926,12.000348224968743,28.000156261212748,21.656635180020032,30.00435865077323,29.583533694617213,33.53386950099817,25.936923841425873,23.987240099164367,29.58088458760855,22.514165107081695,13.161177696581284,16.292757899394942,35.68966899646956,7.955701118934852,24.866644057592325,5.898356432951958,30.939090193988708,0.9099087663634216,11.07293795833198,20.539647515389483,16.63419361940157,29.58099663371022,15.49146219344055,50.69816179778352,2.094963604570117,28.516782453830373,18.464479315381077,2.619088005134972,20.451149133364286,8.554464493854063,15.781599966102613,13.362353918844331,15.563912362552145,61.180903203285915,30.93548272707351,11.942127774216253,62.97545763833486,0.6535387682805245,60.93715408929136,10.99364141353286,10.887422197135308,29.87159615384047,41.764482560479294,31.37202087297002,25.787933279864177,65.83784907141268,30.114983127036645,35.88569677310898,71.73593047205995,25.858786540507097,60.6263241426251,24.24683614130739,25.71953508319375,70.64572542679763,13.364635249672569,21.533126570081485,5.182994374443974,81.45104256096602,52.411953487138085,51.249237566138355,68.01399155842887,51.552463744754895,66.05992300258438,19.702221953891293,53.249902758945424,18.034022333250004,33.68718536385698,69.11314283157151,8.74792452667073,6.155137980282424,72.11276168864137]}];\n",
       " var layout_nQjhoVHfcN = {\"height\":550,\"width\":600,\"hovermode\":\"closest\",\"title\":{\"text\":\"XY.Histogram.Color\"},\"showlegend\":true};\n",
       " var config_nQjhoVHfcN = {\"responsive\":true,\"scrollZoom\":true,\"displaylogo\":false};\n",
       " Plotly.newPlot(\"graph_nQjhoVHfcN\", traces_nQjhoVHfcN, layout_nQjhoVHfcN, config_nQjhoVHfcN);\n",
       "</script> \n"
      ]
     },
     "metadata": {},
     "output_type": "display_data"
    }
   ],
   "source": [
    "// we can also compose customizations in much the same way:\n",
    "val marker = Marker() setColor RGBA(255, 100, 102, 0.5) setLine Line()\n",
    "\n",
    "// change xkey to y to get a horizontal histogram\n",
    "val series = (\n",
    "    XY(x) \n",
    "    asType HISTOGRAM\n",
    "    setMarker marker\n",
    "    // we can set histogram specific options using the setHistOptions method\n",
    "    setHistOptions(orientation = HORIZONTAL)\n",
    ")\n",
    "\n",
    "val chart = (\n",
    "    Chart() \n",
    "    addSeries series \n",
    "    setTitle \"XY.Histogram.Color\"\n",
    ")\n",
    "\n",
    "chart.plotInline"
   ]
  },
  {
   "cell_type": "markdown",
   "metadata": {},
   "source": [
    "#### Cumulative Histogram\n",
    "\n",
    "Sometimes a cumulative histogram may be desired. We can do this as follows:"
   ]
  },
  {
   "cell_type": "code",
   "execution_count": 29,
   "metadata": {},
   "outputs": [],
   "source": [
    "// we can import a range of histnorms\n",
    "import org.carbonateresearch.picta.options.histogram.{Cumulative, PERCENT, DENSITY, PROBABILITY_DENSITY, NUMBER}"
   ]
  },
  {
   "cell_type": "code",
   "execution_count": 30,
   "metadata": {},
   "outputs": [
    {
     "data": {
      "text/html": [
       "<div id=\"grid-container_OgI69TYPOn\" class=\"grid-container\" align=\"center\"> \n",
       "<div id=\"grid_OgI69TYPOn\" class=\"grid\" align=\"center\"> \n",
       "<div id=\"graph_E6P4uBOpaL\" class=\"graph\"></div> \n",
       "</div> \n",
       "</div> \n",
       "<script>\n",
       "var masonry = new Macy({\n",
       "    container: '#grid_OgI69TYPOn',\n",
       "    debug: true,\n",
       "    mobileFirst: true,\n",
       "    columns: 1,\n",
       "    margin: {\n",
       "        x: 0,\n",
       "        y: 50\n",
       "    }\n",
       "  });\n",
       "\n",
       "  var traces_E6P4uBOpaL = [{\"name\":\"wXEJk8uw9R\",\"type\":\"histogram\",\"cumulative\":{\"enabled\":true},\"histnorm\":\"\",\"x\":[0,0.5552037191323289,1.4932638794854884,1.268125896609654,1.527235370119961,2.964588679334817,3.573863306323728,6.1028154953760865,7.611482486914124,6.713860456409814,7.330142795742813,0.3339521089318952,0.9993878563096352,1.097612325965422,3.0728728494096282,3.9712032775910657,7.084365185588027,4.70644532302574,16.34983736656072,7.240134709345075,7.133926240301136,3.6152785345031253,6.279890824086936,14.891229741743953,3.0398320118403275,2.097757234936612,15.736337826557957,14.157466850597485,14.133469333895926,12.000348224968743,28.000156261212748,21.656635180020032,30.00435865077323,29.583533694617213,33.53386950099817,25.936923841425873,23.987240099164367,29.58088458760855,22.514165107081695,13.161177696581284,16.292757899394942,35.68966899646956,7.955701118934852,24.866644057592325,5.898356432951958,30.939090193988708,0.9099087663634216,11.07293795833198,20.539647515389483,16.63419361940157,29.58099663371022,15.49146219344055,50.69816179778352,2.094963604570117,28.516782453830373,18.464479315381077,2.619088005134972,20.451149133364286,8.554464493854063,15.781599966102613,13.362353918844331,15.563912362552145,61.180903203285915,30.93548272707351,11.942127774216253,62.97545763833486,0.6535387682805245,60.93715408929136,10.99364141353286,10.887422197135308,29.87159615384047,41.764482560479294,31.37202087297002,25.787933279864177,65.83784907141268,30.114983127036645,35.88569677310898,71.73593047205995,25.858786540507097,60.6263241426251,24.24683614130739,25.71953508319375,70.64572542679763,13.364635249672569,21.533126570081485,5.182994374443974,81.45104256096602,52.411953487138085,51.249237566138355,68.01399155842887,51.552463744754895,66.05992300258438,19.702221953891293,53.249902758945424,18.034022333250004,33.68718536385698,69.11314283157151,8.74792452667073,6.155137980282424,72.11276168864137]}];\n",
       " var layout_E6P4uBOpaL = {\"height\":550,\"width\":600,\"hovermode\":\"closest\",\"title\":{\"text\":\"Histogram - Cumulative\"},\"showlegend\":true};\n",
       " var config_E6P4uBOpaL = {\"responsive\":true,\"scrollZoom\":true,\"displaylogo\":false};\n",
       " Plotly.newPlot(\"graph_E6P4uBOpaL\", traces_E6P4uBOpaL, layout_E6P4uBOpaL, config_E6P4uBOpaL);\n",
       "</script> \n"
      ]
     },
     "metadata": {},
     "output_type": "display_data"
    }
   ],
   "source": [
    "val series = XY(x) asType HISTOGRAM setHistOptions(histnorm = NUMBER, cumulative = Cumulative(enabled=true))\n",
    "\n",
    "val chart = Chart() addSeries series setTitle \"Histogram - Cumulative\"\n",
    "\n",
    "chart.plotInline"
   ]
  },
  {
   "cell_type": "markdown",
   "metadata": {},
   "source": [
    "#### Specifiying the Binning Function\n",
    "\n",
    "We can also specify the binning function for a histogram."
   ]
  },
  {
   "cell_type": "code",
   "execution_count": 31,
   "metadata": {},
   "outputs": [],
   "source": [
    "import org.carbonateresearch.picta.options.histogram.{COUNT, SUM, AVG, MIN, MAX, HistOptions}"
   ]
  },
  {
   "cell_type": "code",
   "execution_count": 32,
   "metadata": {},
   "outputs": [
    {
     "data": {
      "text/html": [
       "<div id=\"grid-container_7NqkT4Nnpa\" class=\"grid-container\" align=\"center\"> \n",
       "<div id=\"grid_7NqkT4Nnpa\" class=\"grid\" align=\"center\"> \n",
       "<div id=\"graph_Gp3L8ruo2E\" class=\"graph\"></div> \n",
       "</div> \n",
       "</div> \n",
       "<script>\n",
       "var masonry = new Macy({\n",
       "    container: '#grid_7NqkT4Nnpa',\n",
       "    debug: true,\n",
       "    mobileFirst: true,\n",
       "    columns: 1,\n",
       "    margin: {\n",
       "        x: 0,\n",
       "        y: 50\n",
       "    }\n",
       "  });\n",
       "\n",
       "  var traces_Gp3L8ruo2E = [{\"name\":\"1J61n66sEG\",\"type\":\"histogram\",\"histfunc\":\"count\",\"x\":[\"Apples\",\"Apples\",\"Apples\",\"Oranges\",\"Bananas\"],\"y\":[\"5\",\"10\",\"3\",\"10\",\"5\"]},{\"name\":\"hXH2eU2IGT\",\"type\":\"histogram\",\"histfunc\":\"sum\",\"x\":[\"Apples\",\"Apples\",\"Apples\",\"Oranges\",\"Bananas\"],\"y\":[\"5\",\"10\",\"3\",\"10\",\"5\"]}];\n",
       " var layout_Gp3L8ruo2E = {\"height\":550,\"width\":600,\"hovermode\":\"closest\",\"title\":{\"text\":\"Histogram - Specify Binning Function\"},\"showlegend\":true};\n",
       " var config_Gp3L8ruo2E = {\"responsive\":true,\"scrollZoom\":true,\"displaylogo\":false};\n",
       " Plotly.newPlot(\"graph_Gp3L8ruo2E\", traces_Gp3L8ruo2E, layout_Gp3L8ruo2E, config_Gp3L8ruo2E);\n",
       "</script> \n"
      ]
     },
     "metadata": {},
     "output_type": "display_data"
    }
   ],
   "source": [
    "val x = List(\"Apples\", \"Apples\", \"Apples\", \"Oranges\", \"Bananas\")\n",
    "val y = List(\"5\", \"10\", \"3\", \"10\", \"5\")\n",
    "\n",
    "// we can also assign histOptions to a value and pass them to the setHistOptions method\n",
    "val ho1 = HistOptions(histfunc = COUNT)\n",
    "val ho2 = HistOptions(histfunc = SUM)\n",
    "    \n",
    "val t1 = XY(x = x, y = y) asType HISTOGRAM setHistOptions ho1\n",
    "val t2 = XY(x = x, y = y) asType HISTOGRAM setHistOptions ho2\n",
    "\n",
    "val chart = Chart() addSeries(t1, t2) setTitle \"Histogram - Specify Binning Function\"\n",
    "val canvas = Canvas() addCharts chart\n",
    "canvas.plotInline"
   ]
  },
  {
   "cell_type": "markdown",
   "metadata": {},
   "source": [
    "### 2D Histogram Contour"
   ]
  },
  {
   "cell_type": "code",
   "execution_count": 33,
   "metadata": {},
   "outputs": [
    {
     "data": {
      "text/html": [
       "<div id=\"grid-container_hLKRFiZJe1\" class=\"grid-container\" align=\"center\"> \n",
       "<div id=\"grid_hLKRFiZJe1\" class=\"grid\" align=\"center\"> \n",
       "<div id=\"graph_pDMeByOIcE\" class=\"graph\"></div> \n",
       "</div> \n",
       "</div> \n",
       "<script>\n",
       "var masonry = new Macy({\n",
       "    container: '#grid_hLKRFiZJe1',\n",
       "    debug: true,\n",
       "    mobileFirst: true,\n",
       "    columns: 1,\n",
       "    margin: {\n",
       "        x: 0,\n",
       "        y: 50\n",
       "    }\n",
       "  });\n",
       "\n",
       "  var traces_pDMeByOIcE = [{\"name\":\"52iUYlhIAi\",\"type\":\"histogram2dcontour\",\"mode\":\"markers\",\"x\":[1,2,3,4,5,6,7,8,9,10,11,12,13,14,15,16,17,18,19,20,21,22,23,24,25,26,27,28,29,30,31,32,33,34,35,36,37,38,39,40,41,42,43,44,45,46,47,48,49],\"y\":[83.67793887386526,30.992628461508673,25.34532256357815,80.2490068679321,91.48354148002021,32.44833669365491,75.17110450661033,23.45688310038439,30.2359985621736,74.19111619675763,44.78366227332389,98.69626137231633,56.26966747216521,75.80786376058126,37.174207296274844,71.43393692002016,56.448138733845084,38.96658358399387,77.8288402927738,74.57393246784592,86.10644304772491,107.15559419257409,113.5081735115748,99.8993949097128,55.42361367707771,92.29869557968635,35.392668422738396,124.13484850000064,79.10900409289414,32.56816148181436,44.45560583810036,71.69489337385994,95.3990998416902,62.6119900752433,100.85145312781447,78.39237455502156,42.099774210799694,109.93139096219092,63.65807738279808,48.211153612093256,49.7722786806775,79.28898772869609,132.48712126064703,88.70560817991716,75.14950487523961,50.79776599117952,48.27759840943246,69.67103205395603,51.48235078074915]}];\n",
       " var layout_pDMeByOIcE = {\"height\":550,\"width\":600,\"hovermode\":\"closest\",\"title\":{\"text\":\"2D Histogram Contour\"},\"showlegend\":true};\n",
       " var config_pDMeByOIcE = {\"responsive\":true,\"scrollZoom\":true,\"displaylogo\":false};\n",
       " Plotly.newPlot(\"graph_pDMeByOIcE\", traces_pDMeByOIcE, layout_pDMeByOIcE, config_pDMeByOIcE);\n",
       "</script> \n"
      ]
     },
     "metadata": {},
     "output_type": "display_data"
    }
   ],
   "source": [
    "val x = List.range(1, 50)\n",
    "val y = x.map(x => x + scala.util.Random.nextDouble()*100)\n",
    "\n",
    "val series = XY(x, y).asType(HISTOGRAM2DCONTOUR).drawMarkers\n",
    "\n",
    "val chart = (\n",
    "    Chart() addSeries series\n",
    "    setTitle \"2D Histogram Contour\"\n",
    ")\n",
    "\n",
    "chart.plotInline"
   ]
  },
  {
   "cell_type": "markdown",
   "metadata": {},
   "source": [
    "#### Adding additional axes\n",
    "\n",
    "As the above is a density plot, adding histograms can be useful too.\n",
    "\n",
    "We can add histograms as follows:"
   ]
  },
  {
   "cell_type": "code",
   "execution_count": 34,
   "metadata": {},
   "outputs": [],
   "source": [
    "// import the 2d Density histogram options\n",
    "import org.carbonateresearch.picta.options.histogram2d.Hist2dOptions"
   ]
  },
  {
   "cell_type": "code",
   "execution_count": 35,
   "metadata": {},
   "outputs": [
    {
     "data": {
      "text/html": [
       "<div id=\"grid-container_fWsWdiT6vj\" class=\"grid-container\" align=\"center\"> \n",
       "<div id=\"grid_fWsWdiT6vj\" class=\"grid\" align=\"center\"> \n",
       "<div id=\"graph_XQq0Cmr2pu\" class=\"graph\"></div> \n",
       "</div> \n",
       "</div> \n",
       "<script>\n",
       "var masonry = new Macy({\n",
       "    container: '#grid_fWsWdiT6vj',\n",
       "    debug: true,\n",
       "    mobileFirst: true,\n",
       "    columns: 1,\n",
       "    margin: {\n",
       "        x: 0,\n",
       "        y: 50\n",
       "    }\n",
       "  });\n",
       "\n",
       "  var traces_XQq0Cmr2pu = [{\"name\":\"points\",\"type\":\"scatter\",\"mode\":\"markers\",\"marker\":{\"color\":\"rgb(102.0, 0.0, 0.0)\"},\"x\":[1,2,3,4,5,6,7,8,9,10,11,12,13,14,15,16,17,18,19,20,21,22,23,24,25,26,27,28,29,30,31,32,33,34,35,36,37,38,39,40,41,42,43,44,45,46,47,48,49],\"y\":[83.67793887386526,30.992628461508673,25.34532256357815,80.2490068679321,91.48354148002021,32.44833669365491,75.17110450661033,23.45688310038439,30.2359985621736,74.19111619675763,44.78366227332389,98.69626137231633,56.26966747216521,75.80786376058126,37.174207296274844,71.43393692002016,56.448138733845084,38.96658358399387,77.8288402927738,74.57393246784592,86.10644304772491,107.15559419257409,113.5081735115748,99.8993949097128,55.42361367707771,92.29869557968635,35.392668422738396,124.13484850000064,79.10900409289414,32.56816148181436,44.45560583810036,71.69489337385994,95.3990998416902,62.6119900752433,100.85145312781447,78.39237455502156,42.099774210799694,109.93139096219092,63.65807738279808,48.211153612093256,49.7722786806775,79.28898772869609,132.48712126064703,88.70560817991716,75.14950487523961,50.79776599117952,48.27759840943246,69.67103205395603,51.48235078074915]},{\"name\":\"density\",\"type\":\"histogram2dcontour\",\"ncontours\":20,\"reversescale\":false,\"showscale\":true,\"x\":[1,2,3,4,5,6,7,8,9,10,11,12,13,14,15,16,17,18,19,20,21,22,23,24,25,26,27,28,29,30,31,32,33,34,35,36,37,38,39,40,41,42,43,44,45,46,47,48,49],\"y\":[83.67793887386526,30.992628461508673,25.34532256357815,80.2490068679321,91.48354148002021,32.44833669365491,75.17110450661033,23.45688310038439,30.2359985621736,74.19111619675763,44.78366227332389,98.69626137231633,56.26966747216521,75.80786376058126,37.174207296274844,71.43393692002016,56.448138733845084,38.96658358399387,77.8288402927738,74.57393246784592,86.10644304772491,107.15559419257409,113.5081735115748,99.8993949097128,55.42361367707771,92.29869557968635,35.392668422738396,124.13484850000064,79.10900409289414,32.56816148181436,44.45560583810036,71.69489337385994,95.3990998416902,62.6119900752433,100.85145312781447,78.39237455502156,42.099774210799694,109.93139096219092,63.65807738279808,48.211153612093256,49.7722786806775,79.28898772869609,132.48712126064703,88.70560817991716,75.14950487523961,50.79776599117952,48.27759840943246,69.67103205395603,51.48235078074915]},{\"name\":\"histogram\",\"type\":\"histogram\",\"yaxis\":\"y2\",\"x\":[1,2,3,4,5,6,7,8,9,10,11,12,13,14,15,16,17,18,19,20,21,22,23,24,25,26,27,28,29,30,31,32,33,34,35,36,37,38,39,40,41,42,43,44,45,46,47,48,49]},{\"name\":\"y density\",\"type\":\"histogram\",\"xaxis\":\"x2\",\"marker\":{\"color\":\"rgb(102.0, 0.0, 0.0)\"},\"y\":[83.67793887386526,30.992628461508673,25.34532256357815,80.2490068679321,91.48354148002021,32.44833669365491,75.17110450661033,23.45688310038439,30.2359985621736,74.19111619675763,44.78366227332389,98.69626137231633,56.26966747216521,75.80786376058126,37.174207296274844,71.43393692002016,56.448138733845084,38.96658358399387,77.8288402927738,74.57393246784592,86.10644304772491,107.15559419257409,113.5081735115748,99.8993949097128,55.42361367707771,92.29869557968635,35.392668422738396,124.13484850000064,79.10900409289414,32.56816148181436,44.45560583810036,71.69489337385994,95.3990998416902,62.6119900752433,100.85145312781447,78.39237455502156,42.099774210799694,109.93139096219092,63.65807738279808,48.211153612093256,49.7722786806775,79.28898772869609,132.48712126064703,88.70560817991716,75.14950487523961,50.79776599117952,48.27759840943246,69.67103205395603,51.48235078074915]}];\n",
       " var layout_XQq0Cmr2pu = {\"height\":550,\"width\":600,\"hovermode\":\"closest\",\"title\":{\"text\":\"XY.Histogram2dContour.WithDensity\"},\"showlegend\":false,\"autosize\":false,\"xaxis\":{\"showgrid\":false,\"zeroline\":false,\"showline\":false,\"domain\":[0,0.85]},\"yaxis\":{\"showgrid\":false,\"zeroline\":false,\"showline\":false,\"domain\":[0,0.85]},\"xaxis2\":{\"showgrid\":false,\"zeroline\":false,\"showline\":false,\"domain\":[0.85,1]},\"yaxis2\":{\"showgrid\":false,\"zeroline\":false,\"showline\":false,\"domain\":[0.85,1]}};\n",
       " var config_XQq0Cmr2pu = {\"responsive\":true,\"scrollZoom\":true,\"displaylogo\":false};\n",
       " Plotly.newPlot(\"graph_XQq0Cmr2pu\", traces_XQq0Cmr2pu, layout_XQq0Cmr2pu, config_XQq0Cmr2pu);\n",
       "</script> \n"
      ]
     },
     "metadata": {},
     "output_type": "display_data"
    }
   ],
   "source": [
    "val ax1 = Axis(X, showgrid = false) setDomain(0.0, 0.85)\n",
    "val ax2 = Axis(Y, showgrid = false) setDomain(0.0, 0.85)\n",
    "val ax3 = Axis(X, position = 2, showgrid = false) setDomain(0.85, 1.0)\n",
    "val ax4 = Axis(Y, position = 2, showgrid = false) setDomain(0.85, 1.0)\n",
    "\n",
    "val marker = Marker() setColor RGB(102,0,0)\n",
    "val series1 = XY(x, y) asType SCATTER drawStyle MARKERS setName \"points\" setMarker marker\n",
    "\n",
    "val series2 = (\n",
    "  XY(x, y)\n",
    "    setName \"density\"\n",
    "    asType HISTOGRAM2DCONTOUR\n",
    "    setHist2dOptions(ncontours = 20, reversescale = false, showscale = true)\n",
    "  )\n",
    "\n",
    "val series3 = XY(x = x) asType HISTOGRAM setName \"histogram\" setAxes(ax1, ax4)\n",
    "val series4 = (XY(y) setName \"y density\" asType HISTOGRAM setAxis ax3 setMarker marker\n",
    "  setHistOptions (orientation = HORIZONTAL))\n",
    "\n",
    "val layout = (ChartLayout(\"XY.Histogram2dContour.WithDensity\", auto_size = false) setAxes(ax1, ax2, ax3, ax4))\n",
    "\n",
    "val chart = Chart() addSeries(series1, series2, series3, series4) setChartLayout layout showLegend false\n",
    "\n",
    "chart.plotInline"
   ]
  },
  {
   "cell_type": "markdown",
   "metadata": {},
   "source": [
    "### 3D Charts\n",
    "\n",
    "3D charts are constructed using a `XYZ` series as they take in 3 `Series`' to create a single point.\n",
    "\n",
    "The Picta API does not accept nested lists, however the underlying Plotlyjs render does. In order to render any series that will make use of a nested list, we must flatten and provide the length of an element (before the list was flattened).\n",
    "\n",
    "The following examples will make it clearer.\n",
    "\n",
    "#### Contour"
   ]
  },
  {
   "cell_type": "code",
   "execution_count": 36,
   "metadata": {},
   "outputs": [],
   "source": [
    "// lets create some dummy adata for the third dimension\n",
    "val x = List(-9, -6, -5 , -3, -1)\n",
    "val y = List(0, 1, 4, 5, 7)\n",
    "val z = List(\n",
    "    List(10, 10.625, 12.5, 15.625, 20),\n",
    "    List(5.625, 6.25, 8.125, 11.25, 15.625),\n",
    "    List(2.5, 3.125, 5.0, 8.125, 12.5),\n",
    "    List(0.625, 1.25, 3.125, 6.25, 10.625),\n",
    "    List(0, 0.625, 2.5, 5.625, 10)\n",
    ")"
   ]
  },
  {
   "cell_type": "code",
   "execution_count": 37,
   "metadata": {},
   "outputs": [
    {
     "data": {
      "text/html": [
       "<div id=\"grid-container_8FnSFoRLx5\" class=\"grid-container\" align=\"center\"> \n",
       "<div id=\"grid_8FnSFoRLx5\" class=\"grid\" align=\"center\"> \n",
       "<div id=\"graph_3ixy9awl6p\" class=\"graph\"></div> \n",
       "</div> \n",
       "</div> \n",
       "<script>\n",
       "var masonry = new Macy({\n",
       "    container: '#grid_8FnSFoRLx5',\n",
       "    debug: true,\n",
       "    mobileFirst: true,\n",
       "    columns: 1,\n",
       "    margin: {\n",
       "        x: 0,\n",
       "        y: 50\n",
       "    }\n",
       "  });\n",
       "\n",
       "  var traces_3ixy9awl6p = [{\"name\":\"114g7uhDUX\",\"type\":\"contour\",\"x\":[-9,-6,-5,-3,-1],\"y\":[0,1,4,5,7],\"z\":[[10,10.625,12.5,15.625,20],[5.625,6.25,8.125,11.25,15.625],[2.5,3.125,5,8.125,12.5],[0.625,1.25,3.125,6.25,10.625],[0,0.625,2.5,5.625,10]]}];\n",
       " var layout_3ixy9awl6p = {\"height\":550,\"width\":600,\"hovermode\":\"closest\",\"title\":{\"text\":\"Contour\"},\"showlegend\":true};\n",
       " var config_3ixy9awl6p = {\"responsive\":true,\"scrollZoom\":true,\"displaylogo\":false};\n",
       " Plotly.newPlot(\"graph_3ixy9awl6p\", traces_3ixy9awl6p, layout_3ixy9awl6p, config_3ixy9awl6p);\n",
       "</script> \n"
      ]
     },
     "metadata": {},
     "output_type": "display_data"
    }
   ],
   "source": [
    "// we flatten the nested list as we pass it into the Series constructor\n",
    "val series = XYZ(x=x, y=y, z=z.flatten, n=z(0).length).asType(CONTOUR)\n",
    "\n",
    "// set up the chart\n",
    "val chart = Chart()\n",
    "            .addSeries(series)\n",
    "            .setTitle(\"Contour\")\n",
    "\n",
    "// plot the chart\n",
    "chart.plotInline"
   ]
  },
  {
   "cell_type": "markdown",
   "metadata": {},
   "source": [
    "#### Heatmap"
   ]
  },
  {
   "cell_type": "code",
   "execution_count": 38,
   "metadata": {
    "scrolled": false
   },
   "outputs": [],
   "source": [
    "// create a new nested list for the heatmap\n",
    "val z = List.range(1, 101).map(e => e + scala.util.Random.nextDouble()*100).grouped(10).toList"
   ]
  },
  {
   "cell_type": "code",
   "execution_count": 39,
   "metadata": {},
   "outputs": [
    {
     "data": {
      "text/html": [
       "<div id=\"grid-container_TWzaEyNKhh\" class=\"grid-container\" align=\"center\"> \n",
       "<div id=\"grid_TWzaEyNKhh\" class=\"grid\" align=\"center\"> \n",
       "<div id=\"graph_pZbFn24aVs\" class=\"graph\"></div> \n",
       "</div> \n",
       "</div> \n",
       "<script>\n",
       "var masonry = new Macy({\n",
       "    container: '#grid_TWzaEyNKhh',\n",
       "    debug: true,\n",
       "    mobileFirst: true,\n",
       "    columns: 1,\n",
       "    margin: {\n",
       "        x: 0,\n",
       "        y: 50\n",
       "    }\n",
       "  });\n",
       "\n",
       "  var traces_pZbFn24aVs = [{\"name\":\"TAIklGOEss\",\"type\":\"heatmap\",\"z\":[[70.23973230206136,32.64685323996189,89.85658290167945,93.16091325030987,64.84696868815192,97.18015064941719,25.514183168798382,100.9953530454805,65.83754990146372,67.93189574760937],[41.599413061620396,71.93715139854797,18.15818949804051,79.73766915261967,53.48941065800585,44.070864766782435,91.71516000516417,20.405164831624184,100.18423142614468,68.15445559031416],[80.83257666550827,80.78094654504933,115.94095464279089,106.29047474552374,106.72094295524724,27.194683379278537,37.921309215046406,106.59565077692369,55.68609343643574,122.00414273801604],[102.3583038225042,81.00817139922522,79.26562083630824,80.95250213681535,45.5168775596575,59.172699309408216,41.56198730265224,109.66277312977066,105.11812750884144,77.76898390070818],[123.74851591335954,105.83249348611686,112.916209970899,91.70070424802566,86.05646735976728,48.55504377460956,79.76153305274573,61.23691269781514,143.5084759611737,121.68227088759113],[100.75336740862681,77.4993139083754,133.24563853336556,134.25638089111982,149.9795975027808,137.61431769576654,138.50256532072012,107.77733268523465,91.86077342640203,70.39963164861577],[87.11675295246668,97.43523571039381,109.2602636693309,143.63090554581782,160.91567155482832,102.42558149642235,137.29172763370013,154.73478146840915,136.4069508803902,99.07833395442272],[96.14974925604247,118.1803908011844,126.90415261576686,99.77031266697628,136.30897205056712,114.89222671856902,111.55257904907535,100.45344573009137,145.08156593838535,161.68300889174452],[117.6766319285615,130.1198341899356,114.79246851562702,92.0059962173243,169.45225955205356,156.63786673566756,139.7263067365037,113.25197728517031,128.1150834390769,135.13180188282436],[91.51946521460371,120.3669158172338,126.7467695749759,107.44066495852466,120.815302287525,100.7420432979203,146.13931775597598,174.180429986665,146.77002464636442,161.12898407244688]]}];\n",
       " var layout_pZbFn24aVs = {\"height\":550,\"width\":600,\"hovermode\":\"closest\",\"title\":{\"text\":\"Heatmap\"},\"showlegend\":true};\n",
       " var config_pZbFn24aVs = {\"responsive\":true,\"scrollZoom\":true,\"displaylogo\":false};\n",
       " Plotly.newPlot(\"graph_pZbFn24aVs\", traces_pZbFn24aVs, layout_pZbFn24aVs, config_pZbFn24aVs);\n",
       "</script> \n"
      ]
     },
     "metadata": {},
     "output_type": "display_data"
    }
   ],
   "source": [
    "// we get the length of an element of the nested list\n",
    "val n = z(0).length\n",
    "\n",
    "// we now flatten the list and pass it into Series constructor, as well as 'n', the length of an element so that the \n",
    "// heatmap dimensions are correctly constructed\n",
    "val series = XYZ(z=z.flatten, n=n) asType HEATMAP\n",
    "\n",
    "val chart = Chart().addSeries(series).setTitle(\"Heatmap\")\n",
    "\n",
    "chart.plotInline"
   ]
  },
  {
   "cell_type": "markdown",
   "metadata": {},
   "source": [
    "#### Scatter3D"
   ]
  },
  {
   "cell_type": "code",
   "execution_count": 40,
   "metadata": {
    "scrolled": false
   },
   "outputs": [
    {
     "data": {
      "text/html": [
       "<div id=\"grid-container_nyFTt98qZ2\" class=\"grid-container\" align=\"center\"> \n",
       "<div id=\"grid_nyFTt98qZ2\" class=\"grid\" align=\"center\"> \n",
       "<div id=\"graph_Yp24YEycEY\" class=\"graph\"></div> \n",
       "</div> \n",
       "</div> \n",
       "<script>\n",
       "var masonry = new Macy({\n",
       "    container: '#grid_nyFTt98qZ2',\n",
       "    debug: true,\n",
       "    mobileFirst: true,\n",
       "    columns: 1,\n",
       "    margin: {\n",
       "        x: 0,\n",
       "        y: 50\n",
       "    }\n",
       "  });\n",
       "\n",
       "  var traces_Yp24YEycEY = [{\"name\":\"58GbfZfm9l\",\"type\":\"scatter3d\",\"mode\":\"markers\",\"x\":[1,2,3,4,5,6,7,8,9,10,11,12,13,14,15,16,17,18,19,20,21,22,23,24,25,26,27,28,29,30,31,32,33,34,35,36,37,38,39,40,41,42,43,44,45,46,47,48,49,50,51,52,53,54,55,56,57,58,59,60,61,62,63,64,65,66,67,68,69,70,71,72,73,74,75,76,77,78,79,80,81,82,83,84,85,86,87,88,89,90,91,92,93,94,95,96,97,98,99],\"y\":[1,2,3,4,5,6,7,8,9,10,11,12,13,14,15,16,17,18,19,20,21,22,23,24,25,26,27,28,29,30,31,32,33,34,35,36,37,38,39,40,41,42,43,44,45,46,47,48,49,50,51,52,53,54,55,56,57,58,59,60,61,62,63,64,65,66,67,68,69,70,71,72,73,74,75,76,77,78,79,80,81,82,83,84,85,86,87,88,89,90,91,92,93,94,95,96,97,98,99],\"z\":[50.72991213267607,69.67180142481116,7.14955110925701,20.04744680422704,13.604292449208362,82.82833999508442,81.28821023319675,32.355843349342734,27.455966263203106,62.598674465028196,100.96587658363003,102.96216311461556,87.18021678768625,68.0438447620134,101.74400746281775,65.39233623509048,34.974862347533175,28.65412618245133,76.9517143034611,110.04455672811673,113.37740800837499,32.12417298219395,92.21037249507613,35.98217087942072,87.02674850631261,63.01899620910617,124.0126321593134,107.78759037738405,52.1343766165526,87.31673064224269,59.944386105545036,90.83239001679438,125.01339102385538,125.95868585928925,103.31394027184325,131.77568026404694,64.00184496930216,124.3067002664447,70.75346748075381,110.18493717065112,132.73024618528063,103.80235419504689,57.78358230648658,111.88049209270714,56.92134714666512,77.14213995628793,74.38266799924631,64.93688953529073,61.773588548152205,118.9272002667656,120.27835166841678,135.2313891883433,102.46790615337122,110.01577194651449,77.97934175546114,100.01190013553415,116.45080160889452,115.70103755975879,150.4915602378648,105.16365835486988,132.88497506395362,115.35658046810296,160.21335196522688,64.68600342038162,72.02197892003883,74.3362076078387,155.6802966191169,79.34765440628775,155.23973223904022,137.68436441309944,143.63091017931714,135.57086729384048,125.10094832409686,129.60802762888736,75.2903814467126,95.3019629511403,144.0268509154622,162.6803280838663,167.8201724261303,102.95766138535933,100.0438263819231,96.39084075009967,134.55716044744935,116.49374843874449,98.5488981180218,135.92688755916305,130.9667555201059,116.22463573891204,160.15327750118098,128.9648331305316,97.16023609619316,157.22934606971768,176.40144966794855,100.76978117503494,192.37724624793597,109.01155364613612,97.52654684481345,166.04672454658743,172.0103046411342]}];\n",
       " var layout_Yp24YEycEY = {\"height\":550,\"width\":600,\"hovermode\":\"closest\",\"title\":{\"text\":\"3D Scatter Chart\"},\"showlegend\":true};\n",
       " var config_Yp24YEycEY = {\"responsive\":false,\"scrollZoom\":false,\"displaylogo\":false};\n",
       " Plotly.newPlot(\"graph_Yp24YEycEY\", traces_Yp24YEycEY, layout_Yp24YEycEY, config_Yp24YEycEY);\n",
       "</script> \n"
      ]
     },
     "metadata": {},
     "output_type": "display_data"
    }
   ],
   "source": [
    "val x = List.range(1, 100)\n",
    "val y = List.range(1, 100)\n",
    "val z = List.range(1, 100).map(e => e + scala.util.Random.nextDouble()*100)\n",
    "\n",
    "val series = XYZ(x, y, z).asType(SCATTER3D).drawStyle(MARKERS)\n",
    "val chart1 = Chart() addSeries series setTitle \"3D Scatter Chart\" setConfig(false, false)\n",
    "val canvas = Canvas() addCharts chart1\n",
    "canvas.plotInline"
   ]
  },
  {
   "cell_type": "markdown",
   "metadata": {},
   "source": [
    "#### 3D Line"
   ]
  },
  {
   "cell_type": "code",
   "execution_count": 41,
   "metadata": {},
   "outputs": [
    {
     "data": {
      "text/html": [
       "<div id=\"grid-container_uAbl5FAy9B\" class=\"grid-container\" align=\"center\"> \n",
       "<div id=\"grid_uAbl5FAy9B\" class=\"grid\" align=\"center\"> \n",
       "<div id=\"graph_2vFbQibBQa\" class=\"graph\"></div> \n",
       "</div> \n",
       "</div> \n",
       "<script>\n",
       "var masonry = new Macy({\n",
       "    container: '#grid_uAbl5FAy9B',\n",
       "    debug: true,\n",
       "    mobileFirst: true,\n",
       "    columns: 1,\n",
       "    margin: {\n",
       "        x: 0,\n",
       "        y: 50\n",
       "    }\n",
       "  });\n",
       "\n",
       "  var traces_2vFbQibBQa = [{\"name\":\"mBaBAZBAAS\",\"type\":\"scatter3d\",\"mode\":\"lines\",\"x\":[1,2,3,4,5,6,7,8,9,10,11,12,13,14,15,16,17,18,19,20,21,22,23,24,25,26,27,28,29,30,31,32,33,34,35,36,37,38,39,40,41,42,43,44,45,46,47,48,49,50,51,52,53,54,55,56,57,58,59,60,61,62,63,64,65,66,67,68,69,70,71,72,73,74,75,76,77,78,79,80,81,82,83,84,85,86,87,88,89,90,91,92,93,94,95,96,97,98,99],\"y\":[1,2,3,4,5,6,7,8,9,10,11,12,13,14,15,16,17,18,19,20,21,22,23,24,25,26,27,28,29,30,31,32,33,34,35,36,37,38,39,40,41,42,43,44,45,46,47,48,49,50,51,52,53,54,55,56,57,58,59,60,61,62,63,64,65,66,67,68,69,70,71,72,73,74,75,76,77,78,79,80,81,82,83,84,85,86,87,88,89,90,91,92,93,94,95,96,97,98,99],\"z\":[41.623849062612436,26.66316633857708,19.029377105637565,92.86455417188992,67.35748569819961,46.96548387425813,92.71429432403677,53.737133469808256,102.38009852254537,16.305522776770168,50.61482654813917,47.48905443036497,32.70669190074472,56.12922285395858,57.673776930006426,40.37531279919519,25.245041874901617,32.52562239606624,22.818772821573436,80.5416989207943,27.885887424657245,40.38292006016042,68.58894737128261,96.81351758505876,35.15301685304936,104.58218785492227,106.1728120900544,118.44804980940565,122.2849042098354,51.320224159413186,104.5201418161736,101.99885896775989,132.3578998558491,35.17245512068821,106.74128679594773,79.27203892189442,73.4242491612799,55.65140296781145,52.18325259926027,133.81152168828675,45.62647395342552,60.7857516714155,108.37258404250427,72.43263499702202,71.8629563296471,114.63954486551988,103.44089841266504,83.03008281718022,49.81781250106408,100.71061955745523,76.69970494530611,60.2185948396439,78.03149487437848,143.7918911830255,132.70691574543434,136.32149011058024,134.17673496140964,59.14863254305373,92.46822497576957,76.80445215685606,99.8178417499127,79.75943108419625,84.34233052356382,86.45882863137194,132.66953346870548,69.88803754917274,106.769771652944,125.47083117825153,84.734870151267,106.39785359085022,125.1208724181756,152.96998080408122,152.69004089135342,97.99031969885183,135.75914631237384,99.73225449019492,125.49713509234593,116.94302180152768,141.8422272822214,121.42034355922758,163.4641919878751,137.94284428314018,137.43321556320416,99.07553293016447,102.83523919076106,114.25405277329925,89.17110135909225,134.53267867851966,130.48119237098115,172.73068165443783,138.0496864963107,135.0118674829926,114.37584438630009,176.0771748248245,117.78024727496678,193.34726521200793,107.27942973849277,183.28074675859003,100.76391435143385]}];\n",
       " var layout_2vFbQibBQa = {\"height\":550,\"width\":600,\"hovermode\":\"closest\",\"title\":{\"text\":\"3D Line Chart\"},\"showlegend\":true};\n",
       " var config_2vFbQibBQa = {\"responsive\":false,\"scrollZoom\":false,\"displaylogo\":false};\n",
       " Plotly.newPlot(\"graph_2vFbQibBQa\", traces_2vFbQibBQa, layout_2vFbQibBQa, config_2vFbQibBQa);\n",
       "</script> \n"
      ]
     },
     "metadata": {},
     "output_type": "display_data"
    }
   ],
   "source": [
    "val x = List.range(1, 100)\n",
    "val y = List.range(1, 100)\n",
    "val z = List.range(1, 100).map(e => e + scala.util.Random.nextDouble()*100)\n",
    "\n",
    "val series = XYZ(x, y, z).asType(SCATTER3D).drawStyle(LINES)\n",
    "val chart1 = Chart() addSeries series setTitle \"3D Line Chart\" setConfig(false, false)\n",
    "val canvas = Canvas() addCharts chart1\n",
    "canvas.plotInline"
   ]
  },
  {
   "cell_type": "markdown",
   "metadata": {},
   "source": [
    "#### Surface Plot"
   ]
  },
  {
   "cell_type": "code",
   "execution_count": 42,
   "metadata": {
    "scrolled": false
   },
   "outputs": [
    {
     "data": {
      "text/html": [
       "<div id=\"grid-container_ele9kiKkTq\" class=\"grid-container\" align=\"center\"> \n",
       "<div id=\"grid_ele9kiKkTq\" class=\"grid\" align=\"center\"> \n",
       "<div id=\"graph_z1QtCzptel\" class=\"graph\"></div> \n",
       "</div> \n",
       "</div> \n",
       "<script>\n",
       "var masonry = new Macy({\n",
       "    container: '#grid_ele9kiKkTq',\n",
       "    debug: true,\n",
       "    mobileFirst: true,\n",
       "    columns: 1,\n",
       "    margin: {\n",
       "        x: 0,\n",
       "        y: 50\n",
       "    }\n",
       "  });\n",
       "\n",
       "  var traces_z1QtCzptel = [{\"name\":\"6kQtjHAY0U\",\"type\":\"surface\",\"colorbar\":{\"title\":{\"text\":\"Altitude\",\"side\":\"right\"}},\"z\":[[8.83,8.89,8.81,8.87,8.9,8.87],[8.89,8.94,8.85,8.94,8.96,8.92],[8.84,8.9,8.82,8.92,8.93,8.91],[8.79,8.85,8.79,8.9,8.94,8.92],[8.79,8.88,8.81,8.9,8.95,8.92],[8.8,8.82,8.78,8.91,8.94,8.92],[8.75,8.78,8.77,8.91,8.95,8.92],[8.8,8.8,8.77,8.91,8.95,8.94],[8.74,8.81,8.76,8.93,8.98,8.99],[8.89,8.99,8.92,9.1,9.13,9.11],[8.97,8.97,8.91,9.09,9.11,9.11],[9.04,9.08,9.05,9.25,9.28,9.27],[9,9.01,9,9.2,9.23,9.2],[8.99,8.99,8.98,9.18,9.2,9.19],[8.93,8.97,8.97,9.18,9.2,9.18]]}];\n",
       " var layout_z1QtCzptel = {\"height\":550,\"width\":600,\"hovermode\":\"closest\",\"title\":{\"text\":\"Surface\"},\"showlegend\":true};\n",
       " var config_z1QtCzptel = {\"responsive\":true,\"scrollZoom\":true,\"displaylogo\":false};\n",
       " Plotly.newPlot(\"graph_z1QtCzptel\", traces_z1QtCzptel, layout_z1QtCzptel, config_z1QtCzptel);\n",
       "</script> \n"
      ]
     },
     "metadata": {},
     "output_type": "display_data"
    }
   ],
   "source": [
    "// 3d surface plot\n",
    "val k = List(\n",
    "    List(8.83,8.89,8.81,8.87,8.9,8.87),\n",
    "    List(8.89,8.94,8.85,8.94,8.96,8.92),\n",
    "    List(8.84,8.9,8.82,8.92,8.93,8.91),\n",
    "    List(8.79,8.85,8.79,8.9,8.94,8.92),\n",
    "    List(8.79,8.88,8.81,8.9,8.95,8.92),\n",
    "    List(8.8,8.82,8.78,8.91,8.94,8.92),\n",
    "    List(8.75,8.78,8.77,8.91,8.95,8.92),\n",
    "    List(8.8,8.8,8.77,8.91,8.95,8.94),\n",
    "    List(8.74,8.81,8.76,8.93,8.98,8.99),\n",
    "    List(8.89,8.99,8.92,9.1,9.13,9.11),\n",
    "    List(8.97,8.97,8.91,9.09,9.11,9.11),\n",
    "    List(9.04,9.08,9.05,9.25,9.28,9.27),\n",
    "    List(9,9.01,9,9.2,9.23,9.2),\n",
    "    List(8.99,8.99,8.98,9.18,9.2,9.19),\n",
    "    List(8.93,8.97,8.97,9.18,9.2,9.18)\n",
    "  )\n",
    "\n",
    "val series = XYZ(z=k.flatten, n = k(0).length) asType SURFACE setColorBar(\"Altitude\", RIGHT_SIDE)\n",
    "val chart2 = Chart() addSeries series setTitle \"Surface\"\n",
    "\n",
    "chart2.plotInline"
   ]
  },
  {
   "cell_type": "markdown",
   "metadata": {},
   "source": [
    "#### Third Dimension as Color"
   ]
  },
  {
   "cell_type": "code",
   "execution_count": 43,
   "metadata": {},
   "outputs": [
    {
     "data": {
      "text/html": [
       "<div id=\"grid-container_ceIPi9FVnK\" class=\"grid-container\" align=\"center\"> \n",
       "<div id=\"grid_ceIPi9FVnK\" class=\"grid\" align=\"center\"> \n",
       "<div id=\"graph_tS3Yoctw9t\" class=\"graph\"></div> \n",
       "</div> \n",
       "</div> \n",
       "<script>\n",
       "var masonry = new Macy({\n",
       "    container: '#grid_ceIPi9FVnK',\n",
       "    debug: true,\n",
       "    mobileFirst: true,\n",
       "    columns: 1,\n",
       "    margin: {\n",
       "        x: 0,\n",
       "        y: 50\n",
       "    }\n",
       "  });\n",
       "\n",
       "  var traces_tS3Yoctw9t = [{\"name\":\"lhoRejBBj8\",\"type\":\"scatter\",\"mode\":\"markers\",\"marker\":{\"color\":[41.623849062612436,26.66316633857708,19.029377105637565,92.86455417188992,67.35748569819961,46.96548387425813,92.71429432403677,53.737133469808256,102.38009852254537,16.305522776770168,50.61482654813917,47.48905443036497,32.70669190074472,56.12922285395858,57.673776930006426,40.37531279919519,25.245041874901617,32.52562239606624,22.818772821573436,80.5416989207943,27.885887424657245,40.38292006016042,68.58894737128261,96.81351758505876,35.15301685304936,104.58218785492227,106.1728120900544,118.44804980940565,122.2849042098354,51.320224159413186,104.5201418161736,101.99885896775989,132.3578998558491,35.17245512068821,106.74128679594773,79.27203892189442,73.4242491612799,55.65140296781145,52.18325259926027,133.81152168828675,45.62647395342552,60.7857516714155,108.37258404250427,72.43263499702202,71.8629563296471,114.63954486551988,103.44089841266504,83.03008281718022,49.81781250106408,100.71061955745523,76.69970494530611,60.2185948396439,78.03149487437848,143.7918911830255,132.70691574543434,136.32149011058024,134.17673496140964,59.14863254305373,92.46822497576957,76.80445215685606,99.8178417499127,79.75943108419625,84.34233052356382,86.45882863137194,132.66953346870548,69.88803754917274,106.769771652944,125.47083117825153,84.734870151267,106.39785359085022,125.1208724181756,152.96998080408122,152.69004089135342,97.99031969885183,135.75914631237384,99.73225449019492,125.49713509234593,116.94302180152768,141.8422272822214,121.42034355922758,163.4641919878751,137.94284428314018,137.43321556320416,99.07553293016447,102.83523919076106,114.25405277329925,89.17110135909225,134.53267867851966,130.48119237098115,172.73068165443783,138.0496864963107,135.0118674829926,114.37584438630009,176.0771748248245,117.78024727496678,193.34726521200793,107.27942973849277,183.28074675859003,100.76391435143385],\"colorbar\":{\"title\":{\"text\":\"3rd Dimension\",\"side\":\"right\"}}},\"x\":[1,2,3,4,5,6,7,8,9,10,11,12,13,14,15,16,17,18,19,20,21,22,23,24,25,26,27,28,29,30,31,32,33,34,35,36,37,38,39,40,41,42,43,44,45,46,47,48,49,50,51,52,53,54,55,56,57,58,59,60,61,62,63,64,65,66,67,68,69,70,71,72,73,74,75,76,77,78,79,80,81,82,83,84,85,86,87,88,89,90,91,92,93,94,95,96,97,98,99],\"y\":[1,2,3,4,5,6,7,8,9,10,11,12,13,14,15,16,17,18,19,20,21,22,23,24,25,26,27,28,29,30,31,32,33,34,35,36,37,38,39,40,41,42,43,44,45,46,47,48,49,50,51,52,53,54,55,56,57,58,59,60,61,62,63,64,65,66,67,68,69,70,71,72,73,74,75,76,77,78,79,80,81,82,83,84,85,86,87,88,89,90,91,92,93,94,95,96,97,98,99]}];\n",
       " var layout_tS3Yoctw9t = {\"height\":550,\"width\":600,\"hovermode\":\"closest\",\"title\":{\"text\":\"Scatter With Color\"},\"showlegend\":false};\n",
       " var config_tS3Yoctw9t = {\"responsive\":true,\"scrollZoom\":true,\"displaylogo\":false};\n",
       " Plotly.newPlot(\"graph_tS3Yoctw9t\", traces_tS3Yoctw9t, layout_tS3Yoctw9t, config_tS3Yoctw9t);\n",
       "</script> \n"
      ]
     },
     "metadata": {},
     "output_type": "display_data"
    }
   ],
   "source": [
    "// multiple compositions can be used to create scatter charts with a color representing some third dimension\n",
    "val series = (\n",
    "    XY(x, y) \n",
    "    asType SCATTER \n",
    "    drawStyle MARKERS \n",
    "    setMarker marker \n",
    "    setColor z \n",
    "    setColorBar(\"3rd Dimension\", RIGHT_SIDE)\n",
    ")\n",
    "\n",
    "val chart3 = Chart() addSeries series setTitle \"Scatter With Color\" showLegend false\n",
    "chart3.plotInline"
   ]
  },
  {
   "cell_type": "markdown",
   "metadata": {},
   "source": [
    "#### Subplot\n",
    "\n",
    "The Subplot class can be used to generate subplots for an XYZ plots just as we did previously."
   ]
  },
  {
   "cell_type": "code",
   "execution_count": 44,
   "metadata": {},
   "outputs": [
    {
     "data": {
      "text/html": [
       "<div id=\"grid-container_zWC8Ci6ciK\" class=\"grid-container\" align=\"center\"> \n",
       "<div id=\"grid_zWC8Ci6ciK\" class=\"grid\" align=\"center\"> \n",
       "<div id=\"graph_15MYEcnRAi\" class=\"graph\"></div> \n",
       "<div id=\"graph_LfYczNaeYS\" class=\"graph\"></div> \n",
       "<div id=\"graph_Xlx2f5Qc9Q\" class=\"graph\"></div> \n",
       "<div id=\"graph_BhgCLD8cuf\" class=\"graph\"></div> \n",
       "</div> \n",
       "</div> \n",
       "\n",
       "<div align=\"center\">\n",
       "<button id = \"saveAsPNG_zWC8Ci6ciK\" class=\"picta-button\">Download Canvas as PNG</button>\n",
       "</div>\n",
       "<script>\n",
       "var masonry = new Macy({\n",
       "    container: '#grid_zWC8Ci6ciK',\n",
       "    debug: true,\n",
       "    mobileFirst: true,\n",
       "    columns: 2,\n",
       "    margin: {\n",
       "        x: 0,\n",
       "        y: 50\n",
       "    }\n",
       "  });\n",
       "\n",
       "  var traces_15MYEcnRAi = [{\"name\":\"mBaBAZBAAS\",\"type\":\"scatter3d\",\"mode\":\"lines\",\"x\":[1,2,3,4,5,6,7,8,9,10,11,12,13,14,15,16,17,18,19,20,21,22,23,24,25,26,27,28,29,30,31,32,33,34,35,36,37,38,39,40,41,42,43,44,45,46,47,48,49,50,51,52,53,54,55,56,57,58,59,60,61,62,63,64,65,66,67,68,69,70,71,72,73,74,75,76,77,78,79,80,81,82,83,84,85,86,87,88,89,90,91,92,93,94,95,96,97,98,99],\"y\":[1,2,3,4,5,6,7,8,9,10,11,12,13,14,15,16,17,18,19,20,21,22,23,24,25,26,27,28,29,30,31,32,33,34,35,36,37,38,39,40,41,42,43,44,45,46,47,48,49,50,51,52,53,54,55,56,57,58,59,60,61,62,63,64,65,66,67,68,69,70,71,72,73,74,75,76,77,78,79,80,81,82,83,84,85,86,87,88,89,90,91,92,93,94,95,96,97,98,99],\"z\":[41.623849062612436,26.66316633857708,19.029377105637565,92.86455417188992,67.35748569819961,46.96548387425813,92.71429432403677,53.737133469808256,102.38009852254537,16.305522776770168,50.61482654813917,47.48905443036497,32.70669190074472,56.12922285395858,57.673776930006426,40.37531279919519,25.245041874901617,32.52562239606624,22.818772821573436,80.5416989207943,27.885887424657245,40.38292006016042,68.58894737128261,96.81351758505876,35.15301685304936,104.58218785492227,106.1728120900544,118.44804980940565,122.2849042098354,51.320224159413186,104.5201418161736,101.99885896775989,132.3578998558491,35.17245512068821,106.74128679594773,79.27203892189442,73.4242491612799,55.65140296781145,52.18325259926027,133.81152168828675,45.62647395342552,60.7857516714155,108.37258404250427,72.43263499702202,71.8629563296471,114.63954486551988,103.44089841266504,83.03008281718022,49.81781250106408,100.71061955745523,76.69970494530611,60.2185948396439,78.03149487437848,143.7918911830255,132.70691574543434,136.32149011058024,134.17673496140964,59.14863254305373,92.46822497576957,76.80445215685606,99.8178417499127,79.75943108419625,84.34233052356382,86.45882863137194,132.66953346870548,69.88803754917274,106.769771652944,125.47083117825153,84.734870151267,106.39785359085022,125.1208724181756,152.96998080408122,152.69004089135342,97.99031969885183,135.75914631237384,99.73225449019492,125.49713509234593,116.94302180152768,141.8422272822214,121.42034355922758,163.4641919878751,137.94284428314018,137.43321556320416,99.07553293016447,102.83523919076106,114.25405277329925,89.17110135909225,134.53267867851966,130.48119237098115,172.73068165443783,138.0496864963107,135.0118674829926,114.37584438630009,176.0771748248245,117.78024727496678,193.34726521200793,107.27942973849277,183.28074675859003,100.76391435143385]}];\n",
       " var layout_15MYEcnRAi = {\"height\":350,\"width\":350,\"hovermode\":\"closest\",\"title\":{\"text\":\"3D Line Chart\"},\"showlegend\":true,\"margin\":{\"l\":50,\"r\":50,\"t\":50,\"b\":50}};\n",
       " var config_15MYEcnRAi = {\"responsive\":false,\"scrollZoom\":false,\"displaylogo\":false};\n",
       " Plotly.newPlot(\"graph_15MYEcnRAi\", traces_15MYEcnRAi, layout_15MYEcnRAi, config_15MYEcnRAi);\n",
       "\n",
       "  var traces_LfYczNaeYS = [{\"name\":\"6kQtjHAY0U\",\"type\":\"surface\",\"colorbar\":{\"title\":{\"text\":\"Altitude\",\"side\":\"right\"}},\"z\":[[8.83,8.89,8.81,8.87,8.9,8.87],[8.89,8.94,8.85,8.94,8.96,8.92],[8.84,8.9,8.82,8.92,8.93,8.91],[8.79,8.85,8.79,8.9,8.94,8.92],[8.79,8.88,8.81,8.9,8.95,8.92],[8.8,8.82,8.78,8.91,8.94,8.92],[8.75,8.78,8.77,8.91,8.95,8.92],[8.8,8.8,8.77,8.91,8.95,8.94],[8.74,8.81,8.76,8.93,8.98,8.99],[8.89,8.99,8.92,9.1,9.13,9.11],[8.97,8.97,8.91,9.09,9.11,9.11],[9.04,9.08,9.05,9.25,9.28,9.27],[9,9.01,9,9.2,9.23,9.2],[8.99,8.99,8.98,9.18,9.2,9.19],[8.93,8.97,8.97,9.18,9.2,9.18]]}];\n",
       " var layout_LfYczNaeYS = {\"height\":350,\"width\":350,\"hovermode\":\"closest\",\"title\":{\"text\":\"Surface\"},\"showlegend\":true,\"margin\":{\"l\":50,\"r\":50,\"t\":50,\"b\":50}};\n",
       " var config_LfYczNaeYS = {\"responsive\":true,\"scrollZoom\":true,\"displaylogo\":false};\n",
       " Plotly.newPlot(\"graph_LfYczNaeYS\", traces_LfYczNaeYS, layout_LfYczNaeYS, config_LfYczNaeYS);\n",
       "\n",
       "  var traces_Xlx2f5Qc9Q = [{\"name\":\"lhoRejBBj8\",\"type\":\"scatter\",\"mode\":\"markers\",\"marker\":{\"color\":[41.623849062612436,26.66316633857708,19.029377105637565,92.86455417188992,67.35748569819961,46.96548387425813,92.71429432403677,53.737133469808256,102.38009852254537,16.305522776770168,50.61482654813917,47.48905443036497,32.70669190074472,56.12922285395858,57.673776930006426,40.37531279919519,25.245041874901617,32.52562239606624,22.818772821573436,80.5416989207943,27.885887424657245,40.38292006016042,68.58894737128261,96.81351758505876,35.15301685304936,104.58218785492227,106.1728120900544,118.44804980940565,122.2849042098354,51.320224159413186,104.5201418161736,101.99885896775989,132.3578998558491,35.17245512068821,106.74128679594773,79.27203892189442,73.4242491612799,55.65140296781145,52.18325259926027,133.81152168828675,45.62647395342552,60.7857516714155,108.37258404250427,72.43263499702202,71.8629563296471,114.63954486551988,103.44089841266504,83.03008281718022,49.81781250106408,100.71061955745523,76.69970494530611,60.2185948396439,78.03149487437848,143.7918911830255,132.70691574543434,136.32149011058024,134.17673496140964,59.14863254305373,92.46822497576957,76.80445215685606,99.8178417499127,79.75943108419625,84.34233052356382,86.45882863137194,132.66953346870548,69.88803754917274,106.769771652944,125.47083117825153,84.734870151267,106.39785359085022,125.1208724181756,152.96998080408122,152.69004089135342,97.99031969885183,135.75914631237384,99.73225449019492,125.49713509234593,116.94302180152768,141.8422272822214,121.42034355922758,163.4641919878751,137.94284428314018,137.43321556320416,99.07553293016447,102.83523919076106,114.25405277329925,89.17110135909225,134.53267867851966,130.48119237098115,172.73068165443783,138.0496864963107,135.0118674829926,114.37584438630009,176.0771748248245,117.78024727496678,193.34726521200793,107.27942973849277,183.28074675859003,100.76391435143385],\"colorbar\":{\"title\":{\"text\":\"3rd Dimension\",\"side\":\"right\"}}},\"x\":[1,2,3,4,5,6,7,8,9,10,11,12,13,14,15,16,17,18,19,20,21,22,23,24,25,26,27,28,29,30,31,32,33,34,35,36,37,38,39,40,41,42,43,44,45,46,47,48,49,50,51,52,53,54,55,56,57,58,59,60,61,62,63,64,65,66,67,68,69,70,71,72,73,74,75,76,77,78,79,80,81,82,83,84,85,86,87,88,89,90,91,92,93,94,95,96,97,98,99],\"y\":[1,2,3,4,5,6,7,8,9,10,11,12,13,14,15,16,17,18,19,20,21,22,23,24,25,26,27,28,29,30,31,32,33,34,35,36,37,38,39,40,41,42,43,44,45,46,47,48,49,50,51,52,53,54,55,56,57,58,59,60,61,62,63,64,65,66,67,68,69,70,71,72,73,74,75,76,77,78,79,80,81,82,83,84,85,86,87,88,89,90,91,92,93,94,95,96,97,98,99]}];\n",
       " var layout_Xlx2f5Qc9Q = {\"height\":350,\"width\":350,\"hovermode\":\"closest\",\"title\":{\"text\":\"Scatter With Color\"},\"showlegend\":false,\"margin\":{\"l\":50,\"r\":50,\"t\":50,\"b\":50}};\n",
       " var config_Xlx2f5Qc9Q = {\"responsive\":true,\"scrollZoom\":true,\"displaylogo\":false};\n",
       " Plotly.newPlot(\"graph_Xlx2f5Qc9Q\", traces_Xlx2f5Qc9Q, layout_Xlx2f5Qc9Q, config_Xlx2f5Qc9Q);\n",
       "\n",
       "  var traces_BhgCLD8cuf = [{\"name\":\"TAIklGOEss\",\"type\":\"heatmap\",\"z\":[[70.23973230206136,32.64685323996189,89.85658290167945,93.16091325030987,64.84696868815192,97.18015064941719,25.514183168798382,100.9953530454805,65.83754990146372,67.93189574760937],[41.599413061620396,71.93715139854797,18.15818949804051,79.73766915261967,53.48941065800585,44.070864766782435,91.71516000516417,20.405164831624184,100.18423142614468,68.15445559031416],[80.83257666550827,80.78094654504933,115.94095464279089,106.29047474552374,106.72094295524724,27.194683379278537,37.921309215046406,106.59565077692369,55.68609343643574,122.00414273801604],[102.3583038225042,81.00817139922522,79.26562083630824,80.95250213681535,45.5168775596575,59.172699309408216,41.56198730265224,109.66277312977066,105.11812750884144,77.76898390070818],[123.74851591335954,105.83249348611686,112.916209970899,91.70070424802566,86.05646735976728,48.55504377460956,79.76153305274573,61.23691269781514,143.5084759611737,121.68227088759113],[100.75336740862681,77.4993139083754,133.24563853336556,134.25638089111982,149.9795975027808,137.61431769576654,138.50256532072012,107.77733268523465,91.86077342640203,70.39963164861577],[87.11675295246668,97.43523571039381,109.2602636693309,143.63090554581782,160.91567155482832,102.42558149642235,137.29172763370013,154.73478146840915,136.4069508803902,99.07833395442272],[96.14974925604247,118.1803908011844,126.90415261576686,99.77031266697628,136.30897205056712,114.89222671856902,111.55257904907535,100.45344573009137,145.08156593838535,161.68300889174452],[117.6766319285615,130.1198341899356,114.79246851562702,92.0059962173243,169.45225955205356,156.63786673566756,139.7263067365037,113.25197728517031,128.1150834390769,135.13180188282436],[91.51946521460371,120.3669158172338,126.7467695749759,107.44066495852466,120.815302287525,100.7420432979203,146.13931775597598,174.180429986665,146.77002464636442,161.12898407244688]]}];\n",
       " var layout_BhgCLD8cuf = {\"height\":350,\"width\":350,\"hovermode\":\"closest\",\"title\":{\"text\":\"Heatmap\"},\"showlegend\":true,\"margin\":{\"l\":50,\"r\":50,\"t\":50,\"b\":50}};\n",
       " var config_BhgCLD8cuf = {\"responsive\":true,\"scrollZoom\":true,\"displaylogo\":false};\n",
       " Plotly.newPlot(\"graph_BhgCLD8cuf\", traces_BhgCLD8cuf, layout_BhgCLD8cuf, config_BhgCLD8cuf);\n",
       "\n",
       "var save_zWC8Ci6ciK = document.getElementById(\"saveAsPNG_zWC8Ci6ciK\")\n",
       "save_zWC8Ci6ciK.onclick = async function() {\n",
       "    const grid = document.getElementById(\"grid-container_zWC8Ci6ciK\")\n",
       "    const graphs = grid.getElementsByClassName(\"graph\")\n",
       "\n",
       "    const images = []\n",
       "\n",
       "    const rows = 2\n",
       "    const cols = 2\n",
       "    const img_width = 400\n",
       "    const img_height = 400\n",
       "    var margin = 50\n",
       "\n",
       "    for (var i=0; i<rows; i++) {\n",
       "      for (var j=0; j<cols; j++) {\n",
       "        const image = await Plotly.toImage(graphs[i * cols + j], {format: 'png', width: img_width, height: img_height})\n",
       "        images.push(image);\n",
       "      }\n",
       "    }\n",
       "\n",
       "    const positioned_images = []\n",
       "\n",
       "        for (var i=0; i<rows; i++) {\n",
       "            for (var j=0; j<cols; j++) {\n",
       "\n",
       "                const obj = {\n",
       "                    \"src\": images[i*cols + j],\n",
       "                    x: j*img_width+margin,\n",
       "                    y: i*img_height+margin\n",
       "                }\n",
       "\n",
       "                positioned_images.push(obj)\n",
       "            }\n",
       "        }\n",
       "\n",
       "        mergeImages(positioned_images, {\n",
       "            width: img_width*cols+60, height: img_height*rows+60\n",
       "        })\n",
       "        .then(b64 => {\n",
       "            var a = document.createElement(\"a\");\n",
       "            a.href = b64;\n",
       "            a.download = \"Image.png\";\n",
       "            a.click();\n",
       "            a.remove()\n",
       "        });\n",
       "}\n",
       "</script> \n"
      ]
     },
     "metadata": {},
     "output_type": "display_data"
    }
   ],
   "source": [
    "// it may be necessary to play around with the chart dimensions and margin  in order to ensure a good fit on screen.\n",
    "val dim = 350\n",
    "\n",
    "// The canvas has an underlying grid. By default the underlying grid is 1x1, but we can pass in the dimensions we \n",
    "// require by passing in parameters in the constructor.\n",
    "Canvas(2, 2)\n",
    ".setChart(0, 0, chart1.setDimensions(width = dim, height = dim).setMargin(l=50, r=50, t=50, b=50))\n",
    ".setChart(0, 1, chart2.setDimensions(width = dim, height = dim)setMargin(l=50, r=50, t=50, b=50))\n",
    ".setChart(1, 0, chart3.setDimensions(width = dim, height = dim)setMargin(l=50, r=50, t=50, b=50))\n",
    ".setChart(1, 1, chart.setDimensions(width = dim, height = dim)setMargin(l=50, r=50, t=50, b=50))\n",
    ".plotInline"
   ]
  },
  {
   "cell_type": "markdown",
   "metadata": {},
   "source": [
    "#### Map\n",
    "\n",
    "We can also create maps using the composition technique below."
   ]
  },
  {
   "cell_type": "code",
   "execution_count": 45,
   "metadata": {},
   "outputs": [],
   "source": [
    "import org.carbonateresearch.picta.options.{Margin, Line}\n",
    "import org.carbonateresearch.picta.Map"
   ]
  },
  {
   "cell_type": "code",
   "execution_count": 46,
   "metadata": {},
   "outputs": [
    {
     "data": {
      "text/html": [
       "<div id=\"grid-container_oLY5vqQT6W\" class=\"grid-container\" align=\"center\"> \n",
       "<div id=\"grid_oLY5vqQT6W\" class=\"grid\" align=\"center\"> \n",
       "<div id=\"graph_Xz2uHKvGKd\" class=\"graph\"></div> \n",
       "</div> \n",
       "</div> \n",
       "<script>\n",
       "var masonry = new Macy({\n",
       "    container: '#grid_oLY5vqQT6W',\n",
       "    debug: true,\n",
       "    mobileFirst: true,\n",
       "    columns: 1,\n",
       "    margin: {\n",
       "        x: 0,\n",
       "        y: 50\n",
       "    }\n",
       "  });\n",
       "\n",
       "  var traces_Xz2uHKvGKd = [{\"name\":\"DopAghcXy9\",\"lat\":[40.7127,51.5072],\"lon\":[-74.0059,0.1275],\"type\":\"scattergeo\",\"mode\":\"lines\",\"line\":{\"width\":2,\"color\":\"red\"}}];\n",
       " var layout_Xz2uHKvGKd = {\"height\":550,\"width\":600,\"hovermode\":\"closest\",\"title\":{\"text\":\"Map\"},\"showlegend\":false,\"geo\":{\"resolution\":50,\"showland\":true,\"showlakes\":true,\"coastlinewidth\":2,\"landcolor\":\"rgb(204.0, 204.0, 204.0)\",\"lakecolor\":\"rgb(255.0, 255.0, 255.0)\",\"lataxis\":{\"range\":[20,60],\"showgrid\":true,\"dtick\":10},\"lonaxis\":{\"range\":[-100,20],\"showgrid\":true,\"dtick\":10}}};\n",
       " var config_Xz2uHKvGKd = {\"responsive\":false,\"scrollZoom\":false,\"displaylogo\":false};\n",
       " Plotly.newPlot(\"graph_Xz2uHKvGKd\", traces_Xz2uHKvGKd, layout_Xz2uHKvGKd, config_Xz2uHKvGKd);\n",
       "</script> \n"
      ]
     },
     "metadata": {},
     "output_type": "display_data"
    }
   ],
   "source": [
    "// draw a line on the map that is red\n",
    "val line = Line(width = 2) setColor \"red\"\n",
    "\n",
    "// construct the map Series. It is an XY chart as it takes in a List of Longitude and Latitude\n",
    "val series = Map(List(40.7127, 51.5072), List(-74.0059, 0.1275)) drawSymbol LINES drawLine line\n",
    "\n",
    "// These are options that further specify the options for the map\n",
    "val geo = MapOptions(landcolor = RGB(204, 204, 204), lakecolor = RGB(255, 255, 255))\n",
    "              .setMapAxes(LatAxis(List(20, 60)), LongAxis(List(-100, 20)))\n",
    "\n",
    "val chart = (\n",
    "    Chart()\n",
    "    addSeries series\n",
    "    setConfig(false, false)\n",
    "    setMapOptions geo\n",
    "//     setMargin(l=0, r=0, t=0, b=0)\n",
    "    showLegend false\n",
    "    setTitle \"Map\"\n",
    ")\n",
    "\n",
    "chart.plotInline"
   ]
  },
  {
   "cell_type": "markdown",
   "metadata": {},
   "source": [
    "### Animated Charts\n",
    "\n",
    "We can also create animated charts. This can be useful for tracking the evolution of a data over time.\n",
    "\n",
    "All `Series` types should be supported.\n",
    "\n",
    "#### 2D Animated Chart"
   ]
  },
  {
   "cell_type": "code",
   "execution_count": 47,
   "metadata": {},
   "outputs": [],
   "source": [
    "import org.carbonateresearch.picta.ColorOptions._\n",
    "\n",
    "def genRangeRandomInt(min: Int = 0, max: Int = 10000) = min + (max - min) * scala.util.Random.nextInt()\n",
    "def genRangeRandomDouble(min: Double = 0.0, max: Double = 10000.0) = min + (max - min) * scala.util.Random.nextDouble()\n",
    "\n",
    "// creates random XY for testing purposes\n",
    "def createXYSeries[T: Color]\n",
    "(numberToCreate: Int, count: Int = 0, length: Int = 10): List[XY[Double, Double, T, T]] = {\n",
    "    if (count == numberToCreate) Nil\n",
    "    else {\n",
    "      val xs = List.range(0, length).map(x => genRangeRandomDouble())\n",
    "      val ys = xs.map(x => genRangeRandomDouble())\n",
    "      val series = XY(x = xs, y = ys, name = \"series \" + count).drawMarkers\n",
    "      series :: createXYSeries(numberToCreate, count + 1, length)\n",
    "    }\n",
    "}\n",
    "\n",
    "def createXYZSeries(numberToCreate: Int, count: Int = 0, length: Int = 10): List[XYZ[Double, Double, Double]] = {\n",
    "    if (count == numberToCreate) Nil\n",
    "    else {\n",
    "      val xs = List.range(0, length).map(x => genRangeRandomDouble())\n",
    "      val ys = xs.map(x => genRangeRandomDouble())\n",
    "      val zs = xs.map(x => genRangeRandomDouble())\n",
    "      val series = XYZ(x = xs, y = ys, z = zs, name = \"series \" + count, `type` = SCATTER3D).drawMarkers\n",
    "      series :: createXYZSeries(numberToCreate, count + 1, length)\n",
    "    }\n",
    "}"
   ]
  },
  {
   "cell_type": "code",
   "execution_count": 48,
   "metadata": {
    "scrolled": false
   },
   "outputs": [
    {
     "data": {
      "text/html": [
       "<div id=\"grid-container_PZB2jaLlJc\" class=\"grid-container\" align=\"center\"> \n",
       "<div id=\"grid_PZB2jaLlJc\" class=\"grid\" align=\"center\"> \n",
       "\n",
       "<div align=\"center\">\n",
       "  <div id=\"graph_AlXhyiogUX\" class=\"graph\"></div>\n",
       "  <div class=\"animationInterface\">\n",
       "    <button id=\"play_AlXhyiogUX\" class=\"picta-button\">&#9658</button>\n",
       "    <button id=\"pause_AlXhyiogUX\" class=\"picta-button\">&#9616;&#9616;</button>\n",
       "    <button id=\"prev_AlXhyiogUX\" class=\"picta-button\"><</button>\n",
       "    <button id=\"next_AlXhyiogUX\" class=\"picta-button\">></button>\n",
       "\n",
       "    <div id=\"sliderContainer_AlXhyiogUX\" class=\"progressBar\"></div>\n",
       "    <div id=\"counterContainer_AlXhyiogUX\" class=\"inline-div\">\n",
       "        <h3>Frame: </h3> <h3 id=\"value_AlXhyiogUX\">0</h3>\n",
       "    </div>\n",
       "   </div>\n",
       "</div> \n",
       "\n",
       "</div> \n",
       "</div> \n",
       "<script>\n",
       "var masonry = new Macy({\n",
       "    container: '#grid_PZB2jaLlJc',\n",
       "    debug: true,\n",
       "    mobileFirst: true,\n",
       "    columns: 1,\n",
       "    margin: {\n",
       "        x: 0,\n",
       "        y: 50\n",
       "    }\n",
       "  });\n",
       "\n",
       "var graph_AlXhyiogUX = document.getElementById('graph_AlXhyiogUX')\n",
       "\n",
       "var layout_AlXhyiogUX = {\"height\":550,\"width\":600,\"hovermode\":\"closest\",\"title\":{\"text\":\"Animation XY\"},\"showlegend\":true,\"xaxis\":{\"title\":{\"text\":\"X Variable\"},\"showgrid\":true,\"zeroline\":false,\"showline\":false,\"range\":[0,10000]},\"yaxis\":{\"title\":{\"text\":\"Y Variable\"},\"showgrid\":true,\"zeroline\":false,\"showline\":false,\"range\":[0,10000]}}\n",
       "var frames_AlXhyiogUX = [{\"name\":\"series 0 (F0)\",\"data\":[{\"name\":\"series 0 (F0)\",\"type\":\"scatter\",\"mode\":\"markers\",\"x\":[5934.7085817539255,204.99133943989833,5667.792990622627,5929.094990539339,8848.269760264558,9610.519640139883,5840.974438441542,7913.772738616449,9742.674663061744,5077.58435814731,7828.698801744307,5029.683401511787,7256.907341268177,4016.016938818331,3948.3574974452563,8802.388535616277,9151.35527022717,5791.409939761851,7506.694669065572,489.3471642221758,4765.568871819444,6032.836181445569,2247.987624877406,4852.761429541634,9029.87326065173,1951.2823465402473,5353.908433303322,9168.753519417623,1296.514815353409,1722.0798275989157],\"y\":[996.1083592277786,5238.071343241305,3242.360044138369,9549.069619763923,5710.138395840219,5259.220016545391,143.98399894112512,8155.190119796758,5189.40014723335,2083.1294379178557,8937.325808594262,2133.633828378858,4490.399081238191,589.1591934755403,4647.901915951021,8845.665960152042,95.6519152959645,9705.45421454396,4013.909791973225,8365.656750061444,2798.172977872384,3942.3639197483008,1423.3744055598606,350.82745349037106,4951.548387382542,9215.842321859971,7647.820376921281,3652.6679370143465,4272.183481386185,208.4451495569406]}]},{\"name\":\"series 1 (F1)\",\"data\":[{\"name\":\"series 1 (F1)\",\"type\":\"scatter\",\"mode\":\"markers\",\"x\":[6278.780974551674,3988.9337629806223,9085.382283258783,5548.752392300901,6259.783315503701,6059.583364364167,6674.502663793091,2685.7362521156138,1455.2778917707465,9116.972180531098,7222.507124671152,6492.808194513329,9809.305252773855,9190.07049587775,727.8011208047885,4356.975293093963,5320.52673627737,6914.427261748802,3231.340900915219,5791.738753258121,5796.5678018241715,7234.051615653466,1709.5580650653942,6458.079062238916,8149.4569649505365,6118.3444259419575,4067.735203818054,4886.062395911759,855.264032945311,9876.655076522433],\"y\":[1811.0422706324825,5160.31850723191,124.87855311527407,4655.0005217478465,8175.519264008869,365.83349394924693,2319.188978749327,7263.932050763025,3768.87451129846,9686.212125616823,190.75558361881573,3613.491363023554,5101.035957197227,6704.759827196853,4645.399668667463,7720.64627319528,8776.986642947066,7679.446006271337,6890.953336160414,2506.5543235171426,5579.4757105600975,6346.004049325452,8076.752494882221,3415.4530956598605,4186.788345067578,6149.1359546699605,4826.271018897686,7263.930108998144,3850.8287307183787,1709.9835153662334]}]},{\"name\":\"series 2 (F2)\",\"data\":[{\"name\":\"series 2 (F2)\",\"type\":\"scatter\",\"mode\":\"markers\",\"x\":[9426.634838714672,1668.776758558488,9003.353467871877,8808.741660010115,2862.573662709791,4903.585744172629,6463.261855933184,6194.478596958246,7368.700324148576,2098.7031670359593,7685.441694002706,3129.9481149320695,2722.8352456345106,1326.102520532726,4321.733822985767,3737.363671603765,7114.4221688206635,2300.194916812336,5257.163214447321,2931.8246184332265,9095.905301260836,1177.54907982067,7239.664862620376,9012.27247626288,1861.2763088386675,7252.946229774405,9239.102798197157,4825.5733689578265,4894.811451123168,1226.1446458559687],\"y\":[2751.46852805523,2827.509999906499,894.3670541228877,153.18685401500943,6406.713860994126,9335.184609279311,7797.410636419353,1198.031610830298,3443.760254830592,9798.525660097237,6724.307323161915,4864.749086656462,4883.795708954496,14.303848151332454,6702.2015636045,8517.466139603193,9563.057187515868,7864.256138421281,6144.165692337664,2684.7097308614498,4578.8670211025865,6379.629982989759,9232.111213688582,5896.739218074801,6157.7771405279655,1717.6546314974473,2588.2946183903287,8618.920772838635,1472.2453938439573,8981.15379736939]}]},{\"name\":\"series 3 (F3)\",\"data\":[{\"name\":\"series 3 (F3)\",\"type\":\"scatter\",\"mode\":\"markers\",\"x\":[3919.066514179468,3221.1440362319686,6512.3535382628415,4720.716904043282,9675.850951591296,4862.738280566365,3761.649513183197,7429.548132511347,3202.1655881212996,7674.296245985218,6131.276809495672,6374.315461800606,8321.81959642178,1682.265917744874,374.13310716374883,4701.026135584772,5872.2594556524555,8549.12752924707,4030.874536397403,4913.1579677473965,2298.3562802025835,8391.422649206266,4852.164934654877,3539.9768723420843,95.75793198076555,5689.85685570091,596.6437388495738,7096.178760706816,9629.259764932116,9620.148870624229],\"y\":[121.66642165481912,3279.6910561268924,650.4709697292233,3010.2574070192354,3763.9476689109406,9762.677737135125,9700.386408040025,4569.061060293409,2149.819636613314,7901.491470686054,6506.299562078921,1033.5298799739855,7779.88863347267,224.5194040070142,8468.819567981935,9445.871644512054,3000.4593766108956,8652.57778408696,7383.586933121788,4899.094855285581,1304.1704865543259,5064.702861807215,6653.605940818809,5778.8818646577865,6294.859448194955,7042.901299746955,421.9437593208453,6781.615615205638,4106.763277852895,9412.616941157226]}]},{\"name\":\"series 4 (F4)\",\"data\":[{\"name\":\"series 4 (F4)\",\"type\":\"scatter\",\"mode\":\"markers\",\"x\":[8290.872441293497,9802.863517926331,585.7272872389851,6541.378522312162,592.359266077629,4167.566108336713,4120.1816873403095,1266.2937107776106,9536.135938065396,612.6405635726451,8652.220056363054,3791.7606490145226,985.4115707754862,7934.654774131823,9104.190254062354,7931.968694356043,96.61565681971629,7279.683709909485,3223.7922664625985,2668.465256541104,1608.3884457461295,6679.416913920309,9680.747550475073,4151.265707887337,2176.366148847695,7627.0291974203,2140.6900725403266,6992.690795817388,7824.131798022339,6238.290120698911],\"y\":[2997.0028320121846,3986.3154746194796,4317.036988029756,3857.836457863365,8458.902811928985,229.11800407020232,2064.41905098098,5847.481207703684,8774.156642667373,1033.1204902480818,17.077615358634944,2732.895641206655,3507.385668501083,2983.5163878804183,4950.691968024395,4886.942053728026,1999.998086721111,4033.480734417111,3512.1950585563545,492.3979766368247,3405.36455249393,1621.566964642639,4454.947668026256,6653.761687615395,9022.930768936503,7455.790689511539,7599.879891184046,5217.279586952776,2047.5378991099835,3829.211742043994]}]},{\"name\":\"series 5 (F5)\",\"data\":[{\"name\":\"series 5 (F5)\",\"type\":\"scatter\",\"mode\":\"markers\",\"x\":[4233.602596207362,8110.293445502281,6305.3025720454225,9115.020996201087,890.8121076062104,1825.4565654645537,6064.984612875717,9434.846263879874,4767.143529615221,7052.322064548419,3593.8465799836395,9402.197218377449,4369.958627423927,7398.256793807441,9769.593680482832,7313.662647080663,3438.3748162509532,642.590813328493,5765.051668457484,9193.688823426752,9650.177309488257,7032.365788251367,589.8274358098921,1694.4610028892603,2182.080769894765,1754.9940441629897,103.26984778333158,6010.618838822908,3801.136581405139,2912.598683932217],\"y\":[8005.627815866259,3689.2377846504996,3838.9078748193638,2074.754746021792,8269.37835804181,498.7097496751647,8136.365788160446,1800.8079704871404,1490.2837753383512,6365.86530436779,846.2850518902898,3399.8938988884643,4717.802632912538,7798.874384581992,841.2479734797096,8636.243484363002,5467.067633858159,4184.174462260958,2399.1922281780066,1089.305620283425,5819.718355748693,878.8693660814096,5824.767142813138,6442.673153692993,1788.4529357385647,115.75411191675933,8713.59002265688,6102.754069048043,6450.242524053368,5396.317116335009]}]},{\"name\":\"series 6 (F6)\",\"data\":[{\"name\":\"series 6 (F6)\",\"type\":\"scatter\",\"mode\":\"markers\",\"x\":[2677.8235842055633,5237.580181446674,2745.731505567646,6267.776944597657,3525.3228017726456,4578.098721013077,3297.424667865397,8163.415409946118,5120.928029343279,5138.747770451662,116.83505234328484,6331.168221026754,8457.30843899415,6391.0659933102725,6650.854769233373,3783.642029171311,7824.0897956593035,1363.5437232309844,8260.178782022876,673.425967615816,5387.826212567071,6642.8749495376,4927.696122559102,6530.770309676002,3981.7075311206486,1316.2181809226813,1762.3385551513359,7396.409039960034,5452.715654044793,6521.03513704277],\"y\":[8693.957224297594,7040.505441773362,8525.279714235923,6458.525269603747,647.3718223790248,5179.401596060684,5814.2997934708965,2478.622276878757,3438.8178608348317,5885.057240791456,4356.743456401021,4158.9846749998105,8655.598568398571,6227.769115500625,7829.843900154875,5177.350379236573,2859.8164049788165,8600.957537874323,1485.2564494412345,7216.091306199456,2599.6512305134966,147.5186048531163,2752.362792386548,2139.7495066819383,6916.715650553517,9240.439022448978,1450.2330641591554,1250.789590895204,3305.6085557689485,2066.072686625059]}]},{\"name\":\"series 7 (F7)\",\"data\":[{\"name\":\"series 7 (F7)\",\"type\":\"scatter\",\"mode\":\"markers\",\"x\":[3596.59072075718,555.7626171004792,1411.8575482924878,2016.6858483324213,1913.4492192292796,2663.5197432061887,1147.0240764909468,819.574458846094,4302.921459508962,9189.073614404502,8354.819925690854,3113.2682898564913,8803.025014591914,2351.1566444239006,1679.6639446470574,5527.030512924675,9832.139539620817,828.4796663769689,8869.186373576276,7228.074069664617,5892.10176034407,2879.143983870238,9384.763538276195,1371.609369411555,3323.744819128334,9229.61924715347,2899.245138772424,5922.050954238301,4195.023363855407,9304.144374715046],\"y\":[28.618548975929414,7909.405177983427,8950.692441972908,6992.370528339727,2474.4239587846264,7343.070035057706,6063.833714217926,6342.51293481976,4646.321081282115,5725.9788003865515,1603.3540316623607,3319.230011643518,7789.280179654119,9395.222875843909,1367.9063597509721,7079.909608530534,657.4532691795254,9760.991263553691,7035.515689033005,3099.9847604198403,7856.852720381514,923.8687238154974,5639.514168862534,917.361370271933,8121.55244235122,121.23909393100374,8605.224526354108,1267.992965885596,9993.191872304646,7986.737440320686]}]},{\"name\":\"series 8 (F8)\",\"data\":[{\"name\":\"series 8 (F8)\",\"type\":\"scatter\",\"mode\":\"markers\",\"x\":[2568.1551954825977,949.0865311265173,1641.1577397021183,3702.4062967107916,9243.296997384732,8873.38136252523,4890.877594650754,4781.40725450406,5726.446537188861,3467.3945989314125,920.2543634328597,2439.8448006867256,9782.299638036795,9818.475793065525,6539.340133979782,1299.4660501071687,6910.396223258679,4789.9748816526535,5485.923955589124,6508.694928677817,7278.817041876285,9700.7735120468,8749.795640395503,2277.67074420791,976.8690185868711,3104.883633783904,1581.0158747521796,3293.6597258944867,9461.81761061065,708.7753910138606],\"y\":[2542.6065104219333,4516.413244480512,9561.05640422068,5528.544500152271,1735.6523996499984,5448.745376745265,3939.931382253652,9015.983112581052,1154.8829292178652,2135.813131716494,8556.764310771532,3072.0746645810173,25.379135581813372,3867.278934754288,3300.4504026099135,3618.3807829934867,1926.1351185095143,1839.740562299429,6742.330281065182,8711.248105030621,8523.771936801924,3882.5182037912973,9732.866315299461,8060.708956165235,6819.790006199336,2758.088866821623,5434.983265760891,6255.409480255102,2957.3164636330416,5519.164026708846]}]},{\"name\":\"series 9 (F9)\",\"data\":[{\"name\":\"series 9 (F9)\",\"type\":\"scatter\",\"mode\":\"markers\",\"x\":[5309.75571047031,8996.84610297396,5838.385325803882,7937.606076482585,1556.4591439115304,210.65012410081852,8070.369377774937,1116.088254966504,6557.826938843904,8029.607977484426,90.25195595230184,7051.597626394249,8992.681521410732,9332.560045013734,5708.016027980031,6140.591157109626,4451.940942898251,5775.278647281634,3765.4981786506114,2398.815055368253,5630.324699095127,9063.866438306863,1124.6348961603924,1514.4983359328357,3464.917204130307,9598.186843335681,6779.109721281401,2761.8409396534703,5953.067394872296,552.2740243641855],\"y\":[5525.983730603536,8272.411582748024,5805.939816894079,8960.637000736548,2338.9741201434854,2195.2833155771878,1580.3525470205382,6443.816304722465,5352.618008890579,7872.426048267027,9480.37292511086,4833.509614296359,6196.645729192741,3314.0925852729374,4631.4631986414215,6147.033570747875,1312.4547945489628,3979.6239116878164,1303.8016499351147,2112.843931141869,6838.663413561545,7152.31274483806,1297.7298649169977,5763.28757641274,2670.295833782962,4042.662068394983,8503.107372143444,6487.7139535101705,8376.229875443265,4162.580152621435]}]},{\"name\":\"series 10 (F10)\",\"data\":[{\"name\":\"series 10 (F10)\",\"type\":\"scatter\",\"mode\":\"markers\",\"x\":[5505.678712600411,378.52684724415053,4802.118709483262,1483.7591749859823,5037.392826777875,9704.710252329764,391.0703888662526,3426.680708408979,5053.935729874368,8911.81439959491,521.954741736188,1822.40247776032,1271.5687795373142,9674.342662619325,1495.2792203915567,9647.480374840861,5106.697482604873,4215.931469779534,8189.157460144885,8553.07939085414,8135.411856489788,4364.671667420489,5862.968159497535,9992.539539299032,6426.582517537642,3625.3671645806153,2103.884584013973,7097.352685535472,9400.911480581168,927.4864470234601],\"y\":[4491.5301295513555,5359.725030011931,8229.674828028446,7647.010538394702,3198.5953240532162,7650.587162569006,8210.714219914296,4002.3376237191856,5450.3276092647875,3135.1308061555737,8045.571580209642,6988.854039947548,533.3848240646178,243.6433164044083,6490.478211362022,9643.739624098831,9874.622784341995,1013.6218062501789,3465.2492718989715,622.0219281214167,6602.961356064619,7839.848470800249,8377.953042539608,3816.854190907182,2962.5572965715805,3952.3111550676435,3159.5594045658036,71.43729369009422,1963.083244428404,5787.559479027238]}]},{\"name\":\"series 11 (F11)\",\"data\":[{\"name\":\"series 11 (F11)\",\"type\":\"scatter\",\"mode\":\"markers\",\"x\":[1301.5951479968023,6906.96795481397,1732.9978395183355,8827.286032912909,7051.166276038968,7630.438678801083,7184.264783292478,8448.628287826707,841.5307498937641,8188.07716273166,3802.057479723716,3863.8906938609716,8022.739240870047,8694.6597074832,2640.567005215455,6323.083042657713,8005.681390910186,6695.889567317244,3936.1063448672817,2410.884693527422,44.21361065821805,910.4833895713305,9141.282192804161,9490.338194077105,53.862227006581385,7450.55992704788,7639.085208582609,3128.783099320712,101.93082761695726,5333.384734843945],\"y\":[4913.327320752766,5687.245016187172,8502.667159211649,4474.467705897606,3531.931366548976,1162.694583085664,3812.470519066793,7291.473712294191,6942.15807671684,3843.2960715010813,443.95194063015396,4550.352304417836,8781.933239278786,7369.970055045109,7103.98767383761,7149.54943461534,7179.015146697192,6393.293915573597,1809.728816304569,8165.11642290568,4339.822574681338,5172.971405955633,8847.868069805334,3668.98184965232,6622.317170070208,6187.800034438885,3716.2837576191523,6584.611919887291,9242.419866259093,7107.276518157223]}]},{\"name\":\"series 12 (F12)\",\"data\":[{\"name\":\"series 12 (F12)\",\"type\":\"scatter\",\"mode\":\"markers\",\"x\":[1823.512734854924,5158.728913173696,2781.010336305979,6321.67333962745,5520.332605594499,6504.718394071252,5738.642977604112,5635.631379031482,1899.0637509306118,6112.805301198428,8527.689550051618,3701.0125001704287,720.0217458374036,6224.029374539863,9496.693024428874,5297.959571589531,7810.888665470438,9529.513541958184,2849.3025522313333,9668.81404406652,4333.59387632502,9783.456272827516,1650.2292184327316,5767.746904744235,6424.626655671902,7607.750123956634,6503.248273056189,3509.658645974628,2888.5245652939675,8018.064758136603],\"y\":[1941.3454576394552,7885.108552261418,860.620340902506,6015.699620874922,8086.685647472516,7153.738055148144,653.9466586404852,7966.454677915641,4718.162230152323,7236.853259195067,1366.5358671613526,9427.228123186027,8526.8596240877,1900.5361979609913,8249.172331921603,4582.996471416502,2044.8431141893052,2353.858913841148,1319.989421958525,8521.291177895542,4500.263801851991,482.4748973846671,2261.1266426137745,1198.2364650541367,681.8527941060448,7096.067860033095,3243.992116744171,1139.6649185684382,3788.445307948007,288.8388613534365]}]},{\"name\":\"series 13 (F13)\",\"data\":[{\"name\":\"series 13 (F13)\",\"type\":\"scatter\",\"mode\":\"markers\",\"x\":[7003.505432457006,7672.783773668272,2194.2656517518153,9295.418408482032,2218.0219330166383,2798.3156615650983,8078.2705316026395,6070.290754905962,2050.4671887099603,7689.990823981434,7945.938351093242,227.02263561828363,6567.541300258318,4247.720897477143,1214.4582958485505,2944.290784523125,1677.6767060330944,9132.740596881795,3237.3601693167443,1978.904767968873,8214.766990171798,6277.450471681242,3412.1994544790223,3021.730044928369,4843.506507040789,3989.653275377478,7344.991735629686,2290.6094209637017,7573.509777777883,4460.325427855537],\"y\":[4437.669123694255,1475.0948134851506,6843.214831815023,6736.022638135981,8719.906452511816,8930.997193954741,370.890926377101,9031.46338288274,1264.2488220494063,368.46917981267933,6268.908166078324,2634.7991322862695,7103.544441073107,8185.535474730668,6278.753915511757,7597.523213118706,8212.267633928848,1069.6925252022959,3408.102126429523,9902.926612635985,6818.395445937999,4523.3991985964085,1737.5798845404522,871.4648494905364,80.07765850019943,8564.983039251745,8713.69470731034,2188.3496064754695,7991.419572736617,1014.694407189024]}]},{\"name\":\"series 14 (F14)\",\"data\":[{\"name\":\"series 14 (F14)\",\"type\":\"scatter\",\"mode\":\"markers\",\"x\":[1855.7202190731114,4128.132118525614,1274.2742749829229,3496.3374553061944,2478.1623553450618,303.00174190555305,4968.019834931394,2568.115105268497,8766.759297732642,9575.973458200107,6446.874325516654,242.0245251167885,9344.792503192313,4657.088548076331,3674.3799279138766,6559.347974288356,6327.819559892538,7340.214778701931,647.2656521905118,1860.479508579117,3788.7636991034133,2339.975041756439,2185.977407303954,7920.537452641469,3541.6221353739643,5252.792516968289,9496.738332803709,5217.915485328868,5200.889124994723,5292.994214346492],\"y\":[1260.0872540082908,8261.120898508558,1585.1128870716757,144.3631667495837,2393.41261654065,2119.9633089112212,3706.831584490413,8519.486461227174,4090.086524510809,1090.3496979660365,1827.4715033348377,5833.700387797846,4255.373978636653,4767.651018412231,354.6052322024118,9777.381820724691,7039.373951364909,7711.807151867799,4720.30939325278,5509.792921193422,3809.829326641979,6358.038328064873,7803.176521546526,4699.639907461475,5612.714819831271,860.2368434891982,1942.8757353052872,8701.953296821028,8936.096043959029,149.81559410767508]}]},{\"name\":\"series 15 (F15)\",\"data\":[{\"name\":\"series 15 (F15)\",\"type\":\"scatter\",\"mode\":\"markers\",\"x\":[144.97599157700324,3787.8588858341845,2422.8275933340915,5650.990606814321,6685.078550114552,5533.254061781701,2070.236636661685,2814.181612809925,2995.132699586263,224.36427056760522,6410.01926091838,9912.414044285697,9451.136049939065,3452.5998021183045,1179.1502967426059,391.3124056561879,7480.247166783007,9948.093891975466,5072.688040049502,8471.476702240821,9266.672362709734,4140.750867077213,4311.936904512318,7672.7331849357415,4259.509651906456,7939.587801219987,3966.50003540858,8462.96328823271,2672.065060138906,785.6083348825282],\"y\":[8236.34277163911,4329.905283200646,6210.983121862774,7160.396845498036,230.05707141463216,5232.536838254927,5384.8628345334855,8422.075756716451,4168.1017849084365,3609.3435925993335,915.8566166543525,9092.22442539271,9394.865651888314,903.9850771677383,4014.080381313837,2531.8069943647083,6100.985200998556,1914.5717526952344,6573.487111089328,7321.111066498909,7237.420017757214,180.96617025803897,7709.18905538706,3598.155762726497,9745.372038717582,95.23398553863859,7480.038774291638,8111.974454916575,931.2117149091504,453.5614584451897]}]},{\"name\":\"series 16 (F16)\",\"data\":[{\"name\":\"series 16 (F16)\",\"type\":\"scatter\",\"mode\":\"markers\",\"x\":[2126.608495731159,7811.636565176854,2583.1510093186694,9763.669848025806,7703.533780691287,4418.820603690442,6256.480207715375,5779.952641664163,596.5193509606614,6621.211366382216,8046.770327181071,459.269384703197,4088.1270752879873,2275.934999993866,125.51166041787631,6813.53167349035,9872.802672759202,326.71459628351715,9330.24343574737,5980.917707765707,2220.415745095007,1015.3673884788128,181.30615884975555,1245.759266915495,348.92439631610927,3407.727328074712,839.9263204523477,707.8438797035136,1490.5993483640757,1256.024777536644],\"y\":[5727.419079072565,1835.0812429146324,3122.5721882860403,1784.2138944432995,7792.877647283457,9229.184391945144,7881.299692829792,7109.681332002782,6746.791436475746,1592.2189942424848,8791.862857891276,4704.2360317317125,6970.614194958711,5102.577381550091,5616.85455192928,1549.221154660181,267.3843841593981,8192.142178512102,5365.925302005759,6454.051334281,4136.074383983878,7062.094377525667,1305.8982060780565,6384.424184696639,5832.425616093959,2183.0413286045514,5172.680830624959,5585.914759400174,6121.602743103815,3495.8278794898347]}]},{\"name\":\"series 17 (F17)\",\"data\":[{\"name\":\"series 17 (F17)\",\"type\":\"scatter\",\"mode\":\"markers\",\"x\":[6710.039796184982,790.6092038141155,4333.083067395456,6062.606929840478,3146.6235338806705,1858.8912318213459,8095.766402776308,8513.443571911432,8771.452749016293,4835.444848697316,6961.379404156945,3791.9328754797843,1379.4221644757965,3587.9935432298516,9016.818169816774,5424.011676853445,8032.188869294798,6949.243589115212,3541.1556171232573,2817.3533086718217,7316.148804401424,596.9596306998004,780.6169003131669,5944.428558130744,9078.02804846424,6784.0475587059955,1994.901756503804,3170.5280057075547,5479.951990015173,469.97679860747877],\"y\":[9070.81860737237,5958.740919139523,9139.675024336551,7406.822911352662,3204.261706600273,717.0844891322015,5107.983513150787,8297.672257765293,6419.151181465762,1148.688103112443,3484.120474545489,3272.0719627287453,8022.0292179800945,4124.135229319464,8581.393219576727,2612.6761307383626,483.5828071739823,8315.76999517933,8728.973035146999,2919.1765861717677,5693.444852587306,7616.9780485600795,8032.203332153702,2710.0738383948565,3052.2007538947073,715.1575996093351,7712.578856737563,7839.786667318075,5444.607408737246,4095.293243388364]}]},{\"name\":\"series 18 (F18)\",\"data\":[{\"name\":\"series 18 (F18)\",\"type\":\"scatter\",\"mode\":\"markers\",\"x\":[9.875055386964204,5048.057667436657,7780.608761668276,8221.756101294413,2052.73864219212,1460.5637338953425,5495.8114930434385,5679.150680100143,590.3808513684694,8924.091528235023,7170.658880121139,5648.734430111961,1026.8372137708793,4686.5946826935315,6257.625923810177,1255.1400066566941,5810.592983136344,4121.900416351411,1798.3278443271167,5038.832254813579,7906.195330179236,6950.785794616377,6967.521727212761,3092.933585143576,4810.803429080304,5724.598661573847,7298.550790848376,248.75820156037952,7377.459322870735,4214.551587305156],\"y\":[7524.865826409221,7102.596852600933,5568.184050786934,3789.2670622387627,7114.828432726421,4646.992235408546,183.83730360179152,7865.109813823916,9782.091494585415,3802.960259248304,5604.00353356376,8078.293063174506,1521.4134186334195,5245.301604023042,3618.99803406879,954.6957412875834,5049.857723269664,9571.360860903773,2547.4113976463696,542.7877258208513,5925.895049692218,9084.288571835383,9006.4430722814,727.0064963814982,7074.0098435175,245.0689812192186,1938.600309415286,753.3868688324563,3959.9903888553476,193.27450104597244]}]},{\"name\":\"series 19 (F19)\",\"data\":[{\"name\":\"series 19 (F19)\",\"type\":\"scatter\",\"mode\":\"markers\",\"x\":[9797.16478472986,8876.191964415075,2242.155413947825,1644.7134594553104,2154.163323620316,1973.7566097256865,3366.356838532042,7944.842456494652,6418.402552633579,3483.698633015564,1277.665999597558,4090.0145664245247,8837.454082189483,8072.108376196742,5189.237723126453,124.34058111997825,6506.312220020456,9078.286219865895,9178.918930081822,478.1398179593599,3716.7650359982963,3966.0405629324923,9276.751705345148,6534.667152432155,1655.355971023612,3764.5226560287006,2661.590331579031,9994.995121295273,5194.134918926132,4796.017788500634],\"y\":[1602.6430118609169,1456.6456016904394,4317.23058987135,4865.074507545696,6861.812552552468,2029.7605977668698,587.6006150812984,1522.7997872399246,1415.299944429672,5785.302434088707,982.1449417416106,7022.1038457783325,5558.007948279929,7362.989552177147,2409.7009977370553,3144.1339454751806,8721.857087425582,2162.360727482537,275.25531473090115,9203.083359266688,1669.2132616901301,6198.576430465431,3565.050488563368,8226.022101367493,5115.1933817569925,8925.263116536984,7101.078327299938,9556.343027252497,7287.703808862653,5109.910075365443]}]},{\"name\":\"series 20 (F20)\",\"data\":[{\"name\":\"series 20 (F20)\",\"type\":\"scatter\",\"mode\":\"markers\",\"x\":[8849.791629330208,943.8749471720554,3451.637229297304,1193.0343321252024,6468.686688684679,9561.662010288414,5003.733867358471,7470.525944788765,2635.739571789799,9328.868453010196,4387.193852531437,9909.298320444157,3130.506697071135,1421.2151292717301,4780.20165617396,4439.564140387781,5122.032024744551,5914.810062992544,280.1036148604519,2162.759937171792,5667.523731598114,5136.189301958152,3135.056572084176,6072.354138096526,2037.097489502261,3480.832733584417,9467.547196817191,8605.46557057965,6153.713207375959,4214.381468962221],\"y\":[3889.2544634650603,4626.430162377119,5173.750777871203,1085.2249375793988,6424.308494303901,6289.154700582049,9032.508539497687,1454.0904725735948,2238.080319993897,4633.295935301809,3640.233486774033,8085.7117978457445,5811.207483320205,7740.014735979051,5338.114719039641,8749.614494901523,6403.646767020908,6806.247585075702,8210.008498138935,6341.498826972872,921.1172700536474,9592.150913356943,894.4858270564404,7363.668679345156,3626.380366936498,5354.569645334131,3653.121335269598,3292.390084221283,9530.37511210959,6600.086654641488]}]},{\"name\":\"series 21 (F21)\",\"data\":[{\"name\":\"series 21 (F21)\",\"type\":\"scatter\",\"mode\":\"markers\",\"x\":[9624.775313084738,7612.033573326512,9753.312088448305,774.415686534492,6431.941840194937,1110.2946845947904,2663.4025983281526,9350.600727843806,5604.071627213516,9405.74745166182,4180.979997284807,2686.6847109804617,7644.098630671149,9618.43458902549,4278.346337586908,6494.222791976081,9988.234067205725,7596.155468188082,4410.75985868742,9792.208652594496,3595.41704462221,3173.561873543258,2381.550544240919,4816.691062973726,1451.637480921245,8568.126981386964,6974.435057969113,6514.560995389446,8885.676979499096,4206.505037436973],\"y\":[4578.676670394935,2970.68898773542,1266.6432932292305,7026.755268221645,3987.8168356356637,8400.800287133256,9389.99753454773,8616.350387610883,3570.2796100141754,7188.174274366635,6657.60482710754,4422.851046434485,7090.231086225001,850.4608718375595,5018.666577099497,713.5744083587903,599.6551035278852,9793.609193616803,8562.221035356015,2962.5412628063173,3027.679513611089,8243.102903930645,4638.223705496235,7907.43889070654,7360.771220693358,3838.4085543338174,2433.0533926497224,1646.2886654445917,7637.492509514882,3034.734638297798]}]},{\"name\":\"series 22 (F22)\",\"data\":[{\"name\":\"series 22 (F22)\",\"type\":\"scatter\",\"mode\":\"markers\",\"x\":[8036.611377002277,7832.961973830699,9374.092515404329,9676.91449144342,3212.0140293885747,3282.6414569327812,7492.281026428174,6893.418686520484,2315.205281018672,3112.774861047103,6338.115318146873,1804.212904655228,8110.64186872623,3922.026832774722,961.005035210294,8444.37650009612,2590.5379063882883,1449.180715638453,7464.4210461531775,6776.102847071355,3328.975816810178,8655.902544843724,2944.9679992318224,4694.901653382752,9388.526159589499,1241.7258715436808,2304.064879369251,5531.532435300665,3345.8406500287897,226.57545139271096],\"y\":[46.549665413073704,5709.395069463328,7614.016610078138,5425.595170312447,73.10720382753932,5937.811909702351,3913.354872814693,9393.00290696876,5428.492489990198,4604.835071353861,4478.461529255412,8726.1461042017,2985.1058410928113,3878.9185339489786,2388.476711340861,8497.886773352193,5121.550050548909,7436.995029221141,6268.53520150211,6024.892906265377,1598.376837901292,3707.204186050108,1534.396548083321,2181.3755323345117,38.31447579223934,47.7190273427075,6338.507771576151,2032.2526596109724,2685.838779923343,1378.8193614511424]}]},{\"name\":\"series 23 (F23)\",\"data\":[{\"name\":\"series 23 (F23)\",\"type\":\"scatter\",\"mode\":\"markers\",\"x\":[5424.592335115892,1686.6840579379816,451.03176612298125,1443.5716742359782,9209.184095157018,4962.367919435349,2635.252650600651,6093.16511090077,8582.357259686323,1702.9457093272226,2191.2182367110977,5776.171213090582,8156.224633316739,9405.31575934509,1887.670783377875,8756.685069079746,1988.6147843289548,1190.6068235562716,6328.893885166714,7494.518852181108,6170.656230229955,6092.017661068016,8421.904171564904,8091.312896480465,2090.8311546271275,2134.68028105828,6589.239284472259,6739.640550445891,2674.3901874317944,8747.161574671452],\"y\":[792.8245898761111,7707.882894687512,1445.8401243514109,2671.1648702599764,1264.4944109975575,4551.847695903944,873.5562934999485,725.4504938880491,3731.310866388564,9964.821427228651,2129.389618557884,3531.948837861644,8878.906827815325,9960.93388067111,3132.4677637780574,6626.48656398481,1813.6549394017065,4932.426980652227,5545.227245040893,9253.506064798252,9364.546664565372,3529.6189041133275,4251.026568580698,6583.607674479278,9208.23651639982,5283.055678436585,4766.531916032904,8094.698709568349,5005.795739579185,4420.552216009099]}]},{\"name\":\"series 24 (F24)\",\"data\":[{\"name\":\"series 24 (F24)\",\"type\":\"scatter\",\"mode\":\"markers\",\"x\":[5028.38641417704,3421.9854796327486,6007.281895093995,427.5201568932785,8042.507521970441,7108.998856765658,7910.328489030575,557.1877508228984,995.6808433367081,5381.297552193546,4151.517477378454,5718.019286221925,4602.950613084472,1316.4417459013089,3264.392421353128,3948.843929583551,3700.6323041246123,9598.290585441442,8455.533014637287,5037.907018407528,6393.603634791678,8420.623341869055,130.2046441030502,5750.260854975113,4426.8540495708285,4044.54012194308,741.6625075332717,7598.615088403282,1875.1073862785195,3016.0531085078514],\"y\":[4043.273746130027,8125.9669115123625,2730.6545329203914,8114.725288691407,7590.20085345287,2264.041352062569,518.363428690679,6731.1776523406115,8167.461421566385,2489.766423879417,4678.162792105825,4560.727518811872,4713.764686279682,5222.717220664459,9129.122272988141,3252.383490240287,2265.5967692816093,6189.664236088054,8165.5809863743825,7966.86793971227,3463.611403851179,9328.0644108745,3634.6050191404534,9674.296172724009,1243.4532584699775,2208.5352137497716,5205.379971009618,7461.593972480922,7475.728180532225,5927.057077688322]}]},{\"name\":\"series 25 (F25)\",\"data\":[{\"name\":\"series 25 (F25)\",\"type\":\"scatter\",\"mode\":\"markers\",\"x\":[2464.975990355983,8121.683495085817,7524.903156663526,8950.853563542694,3561.249959037932,3860.9295988926638,9964.505332789244,2497.5970905082377,162.4745555603313,4088.2799535628856,4016.0620185412854,9685.79615614924,2614.6189521100496,3938.999915333123,4671.804121565014,1914.9206805687347,2351.023013265482,437.8402532515846,6916.233486972854,3717.0272216592625,845.5503188958236,7020.94405747173,5979.232241750864,1667.3432512855725,5699.117314434526,8512.739248485717,133.4696123704715,3849.483148568753,4810.833767804268,1593.5282325810417],\"y\":[6191.441627410376,3841.659313145682,9008.819211117076,295.42664393389487,5562.556718270216,7223.465574932661,2002.0787826871833,2128.77063365284,498.25668215081055,9198.506942415768,4063.6592161634244,8068.050335355512,5983.2420937223,9086.355169808437,2466.629462204095,8815.893026946605,2623.450170999553,1158.0115646184586,7368.260690648103,515.5633492890321,9836.510273812397,1572.2633087513539,6574.104988629469,5396.908626452482,6667.976745826898,8016.020622722279,6412.503906548233,6717.622225641746,9636.726349562352,2059.9274104815013]}]},{\"name\":\"series 26 (F26)\",\"data\":[{\"name\":\"series 26 (F26)\",\"type\":\"scatter\",\"mode\":\"markers\",\"x\":[8811.385486343774,2801.1606743752936,3155.4750076790474,4211.239535151716,6593.035111395119,1974.5933670766346,8277.453205887023,8179.1678090357545,9988.852040643544,8774.124544871373,9787.855901172192,3963.5872835920227,7424.93951695029,1912.9778068687287,9988.760203361455,9036.216473378756,2740.6925159791463,6195.783394302237,9918.783799457426,3104.075553689897,9176.386293362459,3815.568013400146,5203.832512155111,4728.22956282758,7702.089469341802,5283.892931951668,4252.8669573202715,7416.533866443999,3559.059647979227,6621.647257472008],\"y\":[1092.6943670563805,8717.297781048579,246.09963724021466,7377.4457069992695,3778.3679377554836,8311.483356787769,4607.19025425192,3542.547023247572,2020.8605928447587,134.26599544044794,163.03704515739926,495.6481760170772,4441.247783854505,9152.47902945528,8377.995819995136,3737.872765487351,6690.725720126171,5582.67466905171,9165.176444991243,9367.722809427441,6568.354466840423,8055.230226684162,2606.345730991624,1997.7104391525324,1223.5063074875275,2513.1368815266073,3599.582647364278,5128.8490227294,4547.57049967488,5479.810420667021]}]},{\"name\":\"series 27 (F27)\",\"data\":[{\"name\":\"series 27 (F27)\",\"type\":\"scatter\",\"mode\":\"markers\",\"x\":[9946.46325306992,7876.1279038335515,9939.54586459182,8738.461027536036,2251.886403113915,2377.552136193706,4772.730768612443,7436.27224928731,933.4741936750069,8221.282213469822,8094.79851361046,5159.833639739756,1623.8117302963583,3789.857203571804,2361.1230134352936,7623.977194417516,5297.61856079749,9547.446372276856,3331.299964050307,1274.3751814513328,3567.2727333122434,4985.516690001458,9651.383722377253,4324.9530646008,2763.934939845447,9194.267386910615,5099.441416831471,5534.3790092210875,2657.8498023762263,4841.626529974367],\"y\":[1989.6026920339016,371.59412031781636,6970.2306245515165,6718.56688610535,3809.8581764229543,5128.548064142071,3190.457353979876,8948.941557205244,8811.44775166908,7009.012458805647,8636.151618341988,9464.001427727011,3972.742998956804,2255.5413547394896,8180.017247401063,6406.205358808291,528.1222316623035,4972.35721026413,6616.162636533979,8753.887729508175,8082.400947016825,6460.141735510519,5249.950559449814,2647.802490882553,4223.968687164112,8599.410385933952,7969.251151281674,5652.512551109786,504.85510847025574,5102.359949701413]}]},{\"name\":\"series 28 (F28)\",\"data\":[{\"name\":\"series 28 (F28)\",\"type\":\"scatter\",\"mode\":\"markers\",\"x\":[6791.296413580004,3500.051758696543,3673.5295940587466,1298.774216248223,678.1682173409398,7740.234773455681,3126.3157032075605,6529.782640592712,4275.276431515531,8161.446784940094,1685.8791988534472,3193.961874279959,5151.015873742321,847.695007142576,7020.327672105751,3023.483695722006,9102.11149186357,1302.16115362352,5284.038357180823,4263.704411030426,3137.9990003423463,2194.4427345631257,6891.4060683307525,3087.8049146815356,4868.907650230016,6978.127556841681,6727.284977911683,8798.784680193681,5196.147177512234,3877.296541062164],\"y\":[7552.973823753614,5154.322161170423,8439.420811036154,9555.005624279858,5884.172131082187,9495.713835657098,334.82539650937724,8153.747216246272,4197.414116322464,7270.309024909099,9698.514546860077,9337.349278289312,1964.0662131152974,2007.5596147512665,3974.842223528753,8465.717716144887,716.0482603805395,9842.008566160272,2374.121922100567,3098.287027810752,5115.020282278432,3272.2413199568077,2853.969273090647,2648.991629988255,2826.854847545083,1003.0298623297729,809.5256422811548,2205.0271615606766,895.7896679450616,9438.603021761492]}]},{\"name\":\"series 29 (F29)\",\"data\":[{\"name\":\"series 29 (F29)\",\"type\":\"scatter\",\"mode\":\"markers\",\"x\":[8011.683797511463,7273.6236207597785,5267.738005399366,6678.175682560695,68.76790733275185,3535.5014772762083,3129.807872328604,1710.577436683579,9485.948918666301,4560.643706805482,4813.162811292646,9913.020170462532,9258.001682469325,881.4577937998846,3148.9330720060093,929.7526737070516,8854.840701086841,5820.367736071072,3371.965206959645,6539.544574522256,445.59841577950453,7033.317043468364,5934.7758618245925,4216.656165789789,8255.837859201916,7857.627186848003,7924.152439597611,6748.144765438454,8063.821606468635,9242.10317992977],\"y\":[6165.42428545657,9491.064924952301,7015.583372270129,1289.2299760467795,6554.503833804155,4636.324912918945,6174.881327379923,3253.763412487176,9675.375528596152,6191.658896299705,9522.934619375768,2218.9650363498713,2340.7885905661565,304.38666534046143,3484.180819362773,3611.186480552262,8336.489648511408,3015.3254318974164,478.1094453921975,1215.4645039308386,9354.40676691846,1568.4288753630638,8483.567504402128,419.2350636964115,8867.774790451536,5996.4309893010495,6150.745887871097,6038.233670388853,7531.272591154247,4860.968630508184]}]},{\"name\":\"series 30 (F30)\",\"data\":[{\"name\":\"series 30 (F30)\",\"type\":\"scatter\",\"mode\":\"markers\",\"x\":[9607.402142780094,5268.101456493536,8581.818445057927,2746.371130398991,2779.6833482907423,7057.162764102618,5670.74738479287,7389.497216182666,7784.257810631443,1510.3047643102695,3575.676953994421,1173.710380513987,5747.281671023008,6810.8325772980215,4320.4381914490305,5123.283632802825,1267.0601134842707,6586.6330122908,7374.035806288438,3505.2265251951253,5661.087776097424,7648.9270354580485,2804.6721405238904,3678.7365377860924,5124.483813920294,6596.352670522875,532.4521130344972,8928.169787059416,9975.66355240714,3904.063756793813],\"y\":[7154.461230251654,1673.6401397906986,276.4160223473511,5806.990850277428,4208.492622515646,674.0509385737281,1287.3880101964373,7538.357412038777,8196.767036481628,8620.571563209682,9456.299117361836,6299.005298233566,3208.5808240627357,5864.269910723394,5935.04464275976,8710.025516674687,1560.8817453627887,1929.8193081190152,9983.167046466506,5440.656011749036,6518.363596980581,8937.898282905955,9039.008709825492,5205.351540357116,3859.734941805073,92.10741795968924,5726.184820860141,1388.387865140872,5824.410878355173,1981.9266924557267]}]},{\"name\":\"series 31 (F31)\",\"data\":[{\"name\":\"series 31 (F31)\",\"type\":\"scatter\",\"mode\":\"markers\",\"x\":[4611.843380897674,7181.317275329133,1803.9387520883154,1611.4446076245438,3144.5073137560685,9308.039783669867,5035.061115750957,7784.290772655105,1873.1228037901471,6164.215846818075,3506.3869564749452,1758.406018967702,8785.266207370554,3512.1902277225927,6308.225606083294,3929.9894143530555,1401.2878328766742,9749.558722814298,3735.216274354821,1714.1636526577463,8122.5009745206935,3208.9544493788335,593.9605378674339,8760.603372111316,7255.353301855386,5948.590266895228,7372.945661295712,7175.57455900283,8119.843112501778,2057.5430603407062],\"y\":[3199.6257240877735,2517.5334489225597,3699.2741401730254,3626.7193916974925,7839.60383218459,5991.643209197851,8399.768844631555,4225.896702859097,7385.43623518551,9489.262331613327,7661.787206250571,7979.184762426892,9737.660030269362,6901.666012034835,8402.231518788118,2145.708225278834,1498.2228646704377,9482.962812748885,564.5372542428285,2489.2619904218827,7476.567883757187,3945.375813136941,415.4863106255946,3660.1445461350213,7651.213224790434,9440.754459496027,5651.302640874838,1314.3290426429355,4134.735209110607,3615.3927771353087]}]},{\"name\":\"series 32 (F32)\",\"data\":[{\"name\":\"series 32 (F32)\",\"type\":\"scatter\",\"mode\":\"markers\",\"x\":[861.9192803583031,8759.581918101929,2457.645902991511,8520.92841052296,9451.1329888838,8545.098381609241,7316.736233714412,4322.300309413053,4721.694955419413,8600.66580715139,2826.029402096153,2464.4506315367066,8508.207931604267,3283.333775288656,1263.571422956422,242.65264135301612,477.03262523963616,2004.0090237162967,2324.860008566375,5567.055189404374,5011.234296125884,1983.3570877126995,6973.795333202813,4120.232810219396,5459.92574396945,7125.839097698724,6124.610088261806,1077.2407811851326,7455.192116160155,2002.6655975257324],\"y\":[4593.318495275078,6090.866689034393,3986.116043000638,8498.909800716989,5024.7981973443875,3340.484536710805,4968.239008935881,2806.9644846878405,4831.699801101495,8101.112170109015,3158.1350354771344,2137.987136878894,1573.956307536113,7509.981786187827,6436.59127938097,3774.9334679186477,8662.740837074034,5991.130722211105,3720.2250361916,3905.2217997490525,3790.3041177710907,5144.228866196462,8060.189423265139,48.03662894412697,7067.193793906213,3812.057072268478,5847.95319862159,8830.724153744592,4490.944186826411,6511.757581054243]}]},{\"name\":\"series 33 (F33)\",\"data\":[{\"name\":\"series 33 (F33)\",\"type\":\"scatter\",\"mode\":\"markers\",\"x\":[5471.963039799939,370.68807314012406,5075.396408179566,7448.178329409536,2255.330319972687,1583.6500868426451,6737.389870629885,2923.336828297619,9053.506327143483,3366.0867094656246,6867.646235926495,7114.234949478,3502.245904325719,789.1131222816828,8405.238830253636,4911.951867893895,3579.977308661164,1193.0334698316935,1190.1265958501017,798.1565714576644,2885.0354815863766,2386.2337438432746,1385.8040197858124,4580.873838211021,5827.033826034923,2029.041494084327,8844.197004069372,3219.544900426372,792.9872764917767,9722.638416669928],\"y\":[3427.517378781013,2940.133649141846,6272.617137392324,5325.052377229727,6506.860065461308,7374.215550888053,913.606833075522,580.7224619552509,3124.9126995578426,5551.7115888116305,3526.397423146724,6277.0726558647175,3640.2174199709702,8235.112142689102,3169.4460182935345,3830.987851851747,1063.008481979636,2303.754315573875,2619.6927082720476,8460.0410227376,1747.7282735829192,679.907171071149,769.3150847180152,907.7673262176944,2624.894489271956,9634.133924484537,788.6740880931287,6069.239477826718,7735.0811006682725,6215.595119956863]}]},{\"name\":\"series 34 (F34)\",\"data\":[{\"name\":\"series 34 (F34)\",\"type\":\"scatter\",\"mode\":\"markers\",\"x\":[1256.684141496013,9802.650591414182,470.3418489374289,6023.659195337722,6883.668989832564,9714.56076750715,5633.493313999591,5570.400461153709,3938.091297869639,1770.9221401286002,7193.24525519889,4079.252891889109,3037.3758785356663,2212.9449476637697,3443.2491166187374,6723.304145927143,8574.367628250508,3446.3245897905294,1165.7101879914778,5027.408721123045,9724.803406213172,3324.2982418849897,4355.289512286084,441.5063887507642,2717.4927213725664,9559.459388236282,1076.5985478120099,3938.236830300564,7847.744358085242,4876.203528822508],\"y\":[4108.666998376199,7896.13553366683,7575.890589986859,3955.1381136358164,7172.34495089404,6500.414654393941,3976.599108399953,222.74017470555907,8741.67586321033,7426.517152280138,4790.983503418498,9103.9968878905,9707.855817418238,667.3526621972925,7382.359610262072,4482.720980473068,9494.473666428854,23.31457942900017,9007.810613722957,6803.684075777421,7615.303869755479,8994.887864911096,9991.567812381441,4502.6607557625375,4121.002216690831,5600.855557096963,3622.5272241284,5264.93818489128,2898.6309930162156,9990.819925402375]}]},{\"name\":\"series 35 (F35)\",\"data\":[{\"name\":\"series 35 (F35)\",\"type\":\"scatter\",\"mode\":\"markers\",\"x\":[2897.0596016825702,9989.788983084845,6368.024295856068,4628.95343589417,9589.59730744826,277.8648720608301,8761.57110632798,9296.59833609588,5557.307345120895,9760.419966836704,7879.086902628405,2194.5399143520126,9671.490429284971,653.7254264367631,1977.0065186552565,4021.477217331528,6317.173992292472,9548.98957771869,9281.223614031176,4063.4200750399373,3013.694566121974,637.5527129795666,2505.4693430777907,6049.447619753766,5382.890545583844,323.0762340415061,9712.208253303857,6812.4594706848875,7427.861412048781,4486.902848724914],\"y\":[5870.601964882169,2639.2606788184494,3884.0691888965794,8549.71321883167,6546.17387820115,6602.521246365428,9265.892162443295,912.0591170957637,6299.385678691165,5137.854559720951,5155.566340384854,2358.3100487250654,9575.40741563839,3662.4619333739383,3267.7789527458576,7572.996169121311,1134.9554387934047,9127.496231151108,6872.005759572181,45.49006806535139,6406.1341801819235,2054.4971207905683,7266.013442422131,8328.420495291326,9529.808273275918,1826.9530178354776,5167.7750057101875,9867.161611666676,8326.104017938671,6791.255549634556]}]},{\"name\":\"series 36 (F36)\",\"data\":[{\"name\":\"series 36 (F36)\",\"type\":\"scatter\",\"mode\":\"markers\",\"x\":[9129.375114546052,8432.200357806623,927.2186122563453,5067.003256638981,4375.30962457648,2563.1320703260017,8401.791748721593,2874.826949677919,5828.912792756735,5372.492300763306,1338.677245031512,4660.6019747618775,8514.473815720328,559.5791478065127,6063.024318597518,3328.1217912580887,7008.929785352193,5548.8840590482405,7925.160823445616,9488.010989309952,3165.854416044824,294.6899099760525,4932.8471121766515,5788.851028889316,7945.78742487244,9482.859418861486,4890.047210684449,6117.208080175164,8860.77672821681,6612.781989327898],\"y\":[3160.4422092792383,9736.44184834106,9277.33808348712,756.9037330560757,6191.489925792395,7279.887392219451,9620.857614182927,672.2192592013687,8014.910960832894,8922.20054872122,3385.8004208834423,6377.55661278628,3082.061842218,5023.36147186801,2779.906095916617,5312.433286191489,8997.73240203738,6073.03402637825,9816.889807614734,8757.73042414902,6983.482657283578,1858.6813409356816,8720.987256203449,4325.363247594279,6231.713081400006,9439.043748874865,4618.016606099574,2013.6016328501594,704.2417064949668,5725.283001135987]}]},{\"name\":\"series 37 (F37)\",\"data\":[{\"name\":\"series 37 (F37)\",\"type\":\"scatter\",\"mode\":\"markers\",\"x\":[1661.4564778399576,4576.628379091683,3384.2360238822953,3255.3052504692805,978.3626445286087,7771.390868865531,3507.92877694171,7092.475952532604,5118.783315826243,2421.743925889186,6882.625375336614,6688.142641514141,1053.652067641906,8179.343000959373,8040.084866232855,9018.084578074395,8189.971519386874,8362.693097888194,5679.4386933043215,8336.214664981975,1358.4257820468592,6320.219442245522,9621.387552875382,3484.5553697706086,1277.3908476158513,6390.168907832667,8325.49560824451,5856.722016044745,6608.634115417544,6719.616882380504],\"y\":[914.9789757327309,9832.842413269249,2393.8330815388463,6956.795934320488,6608.461600293245,2787.049254166659,9397.358024832658,1145.4225069054503,7475.755782336235,3614.383882877834,7679.603927580762,5026.64849632226,7514.7939019888345,7132.152886282983,5586.475038214879,7393.719973831826,2189.425690925646,6681.481591260525,2264.462991714399,7146.37252438318,7772.864621278544,8788.011558227217,7797.077209390682,1256.4571765633648,9109.150249508986,1836.3967183798457,107.22523291182173,3983.227838668131,7735.073385154511,5371.445537136821]}]},{\"name\":\"series 38 (F38)\",\"data\":[{\"name\":\"series 38 (F38)\",\"type\":\"scatter\",\"mode\":\"markers\",\"x\":[1881.4586863438165,4366.191478859491,9697.580150451444,7859.473689411188,3945.8368947380773,7275.362067833335,3856.7616925078396,8526.622092552116,3759.482482861443,3113.21980014816,6982.101268273229,3236.605102680904,8990.735672924351,2639.6277779840916,1529.7412020428314,5278.557907746254,6502.13861422228,6330.411099538528,5631.099194776438,9406.348708780693,6494.311470521501,2182.256951428404,2528.2494104390307,1503.9310311815623,45.10937110770219,1941.0496054168536,8459.058278512455,6847.012247635536,5829.277125942013,3357.702521840834],\"y\":[3825.14382901593,7089.514617217227,8415.148900496084,5265.006115458663,2368.305103378313,9824.015282032704,6208.7630067997225,3020.9643092960723,7036.1480395822555,4848.545487504293,1852.0965185058658,4178.542808214099,9235.209954661943,8117.842120755583,1680.9482076166216,8118.706156060128,249.9630474046155,7765.339389663895,3709.328316244418,8823.07343595367,9748.659858109244,6552.8978755562875,5531.039487591267,6964.480787034731,6502.053810204575,1638.4668042485573,4515.466260110734,6058.180689146851,708.6139836180649,5647.581223570109]}]},{\"name\":\"series 39 (F39)\",\"data\":[{\"name\":\"series 39 (F39)\",\"type\":\"scatter\",\"mode\":\"markers\",\"x\":[2723.4121021084225,7543.373889608671,5649.926223764087,2692.799313937342,8080.15523356775,1354.2135708361825,8792.55373253333,9205.883907749067,1516.7241857251001,1791.3789449226358,8907.705411623818,2230.742248609834,7026.716567502017,3319.76902997095,6297.642546979352,7170.832856597564,7884.816828655865,7294.815720911588,7797.828140762697,2892.9623536510276,7634.497819412303,8559.375849085709,6866.404705465491,4560.083987211945,8876.213218126108,355.10656683447104,1777.6620733883863,3598.9276107424207,6373.725038864863,7056.690325299925],\"y\":[1703.737770672219,9803.9829023547,3545.0284650755125,6864.220364917217,1298.8650492560216,2737.566542881078,3015.67347966082,778.517642204698,9293.070859380146,8306.404153268335,2586.103860109444,9936.098800359505,5557.294053906876,1678.3640583761483,7700.96754100761,694.9701852463663,4119.4803457110265,9548.679734105459,307.1762106050102,5739.375326871861,6691.281910121705,3173.202730186535,1848.8232904366787,9911.076176632316,2407.5762852303906,8556.932279476256,5070.896673421781,1476.7020105342333,4686.08620707977,1719.2655967737246]}]},{\"name\":\"series 40 (F40)\",\"data\":[{\"name\":\"series 40 (F40)\",\"type\":\"scatter\",\"mode\":\"markers\",\"x\":[5290.046958462605,3105.152639083617,5381.971543609882,5053.124450553716,6839.510256664562,1955.995299694847,9742.33215530284,5453.308710281211,4506.598212871705,4969.25092355919,3058.1477369627687,6110.135138360429,2955.0094363727076,3698.9115078579202,1366.2532113228888,1647.620635801612,9360.536296501014,2846.992014025801,4071.5269128126674,631.1767263921297,5787.572838065982,8031.867453121632,5939.549148496013,377.97660600229153,8195.156420785426,1264.1008129740428,9552.565835523816,6473.868139021124,8385.103844631749,7104.919052771656],\"y\":[7026.668472639368,3433.9047583879733,3691.132338265523,8546.953864039793,1555.682028670292,3539.2694986787233,6756.680154989304,9283.80534447043,5177.33105911753,8041.572084965376,4360.475541071864,8224.45232313452,9049.826426515783,8646.199153230069,9922.725206208428,2860.477214652557,6482.103796013718,7469.606851036089,9061.124400875118,408.531281682637,6978.512308621954,511.138971046331,1364.7188165114621,9527.417784025924,1638.8377339375547,3088.166975527877,4414.976006997773,848.6213511886309,6397.1166363556995,5654.0435242869935]}]},{\"name\":\"series 41 (F41)\",\"data\":[{\"name\":\"series 41 (F41)\",\"type\":\"scatter\",\"mode\":\"markers\",\"x\":[8007.253118958611,1561.071272097303,9787.784071958915,4951.568074852583,7512.172900589688,7855.37115404056,6195.263539819138,8550.365986937206,5365.2527078677,9159.688855243925,3873.1996408879245,474.78401546208084,8784.456641999408,9788.946257243599,9412.102125164929,1849.6109291890616,9989.166185355169,6880.907669697593,6789.251986327514,3274.1316654337047,2430.4019738653947,8307.21475861217,9652.29572689555,4980.729442415007,2840.944677288275,624.3716974801928,68.0408967004198,6742.453062785612,4275.343144530071,5069.134093538871],\"y\":[5610.527101011109,1964.6664037931805,9733.618901877826,9104.712251279123,9367.545957136459,9429.10691437094,9448.80473869053,2088.649942420966,4212.340483400418,1754.3740482342073,7467.287901509831,6260.193443540218,3517.312578579386,1795.0818234873489,4762.25014451071,8434.419795205897,5379.127020996683,6922.603519314411,6794.330201481525,3542.3431124815143,6379.69181994621,6413.545171707563,3169.9599296031124,8470.676150955922,3925.068614133869,9017.787896312684,5846.652517896898,3531.8739197531722,3284.441162786088,6186.137594375912]}]},{\"name\":\"series 42 (F42)\",\"data\":[{\"name\":\"series 42 (F42)\",\"type\":\"scatter\",\"mode\":\"markers\",\"x\":[195.85303158742406,9334.537215027553,6593.853457653391,1408.328294550183,157.7858098117235,8826.213974859833,6294.505654090982,7645.3279438519585,4709.06206705863,7845.082232434275,4742.972135215364,2935.5949715081774,7912.643127330964,2643.9549048203558,5060.78605516453,8913.141138637813,8931.076037201048,9539.501927691426,5683.41224822979,8195.95838868447,1557.7516584517514,91.53143426899769,2523.7093143820443,4386.568204534776,5057.263596525986,5031.6354527646545,8182.5579751703235,2772.158808902464,9404.769328535489,1537.445088338778],\"y\":[7219.413291660276,719.9753018084587,8375.588747359148,1388.2088582750084,138.11306422666703,4234.332135748096,3360.101409940317,2039.3445189091265,6448.358593778247,1174.8224601183376,9265.329965887136,8718.08492496015,8930.854325610444,2230.998861215192,1413.4280172381552,3269.274246994732,7064.178926827194,7907.003227255437,8958.618422185238,4669.839892085382,7464.032263825496,3490.332412624152,6017.954592786252,6882.405886479582,3140.5842405411977,4262.118859170534,6447.606076518483,2032.9761002401058,1397.2294179902945,52.019501841557016]}]},{\"name\":\"series 43 (F43)\",\"data\":[{\"name\":\"series 43 (F43)\",\"type\":\"scatter\",\"mode\":\"markers\",\"x\":[1995.1996108387505,774.5617793279824,2274.1269531994703,1649.0011630630331,6420.073577391046,7138.085861695997,5582.487909622835,1550.0209447560064,97.12929528822856,2173.8466720984693,4780.64545734607,8061.793374181925,606.2970137804691,9251.278183465734,210.5229499575867,4866.551887031261,4858.455590879441,4011.6971403749726,2543.197504697985,7820.903401626422,7419.978902177636,3658.1795584192123,9674.827473211331,6977.586700342367,7871.905618363339,3518.66297533084,6769.294466737723,4603.142176558951,7276.060151188928,3632.8239513689664],\"y\":[9661.489937779737,9310.207857644857,119.27907695099549,4490.232846743297,6415.2501869484195,2331.358532391651,3468.2250153382843,8986.741928883042,472.5277050666532,4432.105765316214,9491.10264409936,7168.01540193589,1535.4563897630758,993.8840209113242,988.9097458552842,1393.5626441267357,7090.557069352484,8393.546104004927,2127.697314447863,2181.5905736580908,8314.397691633714,6964.099615444621,8174.629110755355,9184.441531217843,8992.607191281035,4542.114412741107,8714.467355408755,7496.340840769311,5039.21840280944,9890.436885464547]}]},{\"name\":\"series 44 (F44)\",\"data\":[{\"name\":\"series 44 (F44)\",\"type\":\"scatter\",\"mode\":\"markers\",\"x\":[8559.433801678193,6809.624663682037,5220.891781308011,7130.551562417552,9364.227491782422,9812.578332323565,770.6528986305294,727.1265623155399,2819.3079079015292,6661.464941173012,2718.352118684043,5537.993652991373,3219.376624371566,4361.276699358195,970.1339095958905,7976.006111882744,3190.324317873694,3454.1987493639926,8436.782942635471,2424.92632973054,1406.7346204596909,9541.722229372568,6840.888646365855,1709.7000534465822,5243.36447196729,3855.8005668552664,8225.35293867059,1642.1681704425685,4477.851151680013,5346.397523642703],\"y\":[7640.838077533166,7446.4845660424435,4398.22010328003,6567.222450370791,8007.335156470685,4214.19485264324,7967.601850541537,7018.408114538422,7725.109201818269,4447.1493020027465,7059.886593934683,544.3356485710938,5252.855133485866,3217.115995887746,2203.8821767487525,7886.765119471568,2575.9757070275914,5504.167576472129,8759.860591815195,1557.884032470367,1255.4752644446764,871.6188469137676,5001.213146994578,7824.838108437983,578.0354418206291,7793.4912053343205,4185.25710312638,9786.763389035315,7220.421477263946,3671.1901812782166]}]},{\"name\":\"series 45 (F45)\",\"data\":[{\"name\":\"series 45 (F45)\",\"type\":\"scatter\",\"mode\":\"markers\",\"x\":[8371.070436950104,6277.288972101791,9796.442551316088,6859.2772115337275,6478.553415802023,3639.9375325523333,9672.270979085273,3865.9276834107204,2881.7492954972445,1300.798657704717,1516.0011379609793,8301.863193770918,5690.778719933265,7502.30580188124,3189.9075054536506,8122.25612757331,5800.578493561348,8563.901955591526,4798.937926163923,4239.3016322930935,8770.954768585376,3599.831035536992,976.5621658123757,6678.859100108735,1651.295226049263,6751.240639012385,8819.162803773263,4112.766722009066,5974.608754854753,679.2460944904777],\"y\":[6272.748180974866,8819.137934682383,6319.393965732497,8317.54678723198,2230.8312171284038,1906.1454232601582,1074.1608428078398,4697.645118903379,119.90470002113396,2980.5131457543675,8338.26066604029,7036.672629576454,1329.0213905843118,4350.125500912657,5254.008496729241,9217.27602406628,3482.5595569014454,2320.8786163764917,3488.9070252358147,6290.9743446054445,1260.3386336040046,7181.093657713572,7073.112952047197,5700.846605736928,4236.826973758786,9062.519876742896,1346.113303213864,4546.366524569354,7041.25739663904,9025.154669930167]}]},{\"name\":\"series 46 (F46)\",\"data\":[{\"name\":\"series 46 (F46)\",\"type\":\"scatter\",\"mode\":\"markers\",\"x\":[3377.9042354166345,6402.653682096211,2033.0496987236256,3433.8136586290602,4903.798799235805,6958.35704901907,3642.0160956076165,4977.5867918833965,8548.315218228528,5050.852485396185,6540.398977489398,5529.016262351899,6912.423638962777,4554.375873978624,6893.876930812232,4448.042474750559,1959.7598444271525,3016.1746129306175,7081.245199183467,906.4559097287961,9061.243586806102,4937.711876390595,9477.560430194291,341.8098897647326,6043.863856235514,1162.4086956643155,4163.112541336165,3245.4401214412533,2638.2230965778276,958.3658213208467],\"y\":[8750.671636633373,9147.445865808197,9830.764276257687,73.95663900589766,5916.027697747878,9882.192770740332,1800.4231755597489,6296.137838463396,5671.92625357826,4001.093421847466,5355.7893223196,3855.7781784499543,4943.076833620613,8545.13162838215,3087.674862909283,9401.256506856516,6579.9913590374235,5297.796962898706,6813.328829535077,5201.03459291648,3591.984651550144,6109.797548957736,7312.352587840566,9737.865475659248,2084.75369608186,5920.12601029116,4840.711698836092,1921.7452870890083,8155.523528763249,2693.752148475763]}]},{\"name\":\"series 47 (F47)\",\"data\":[{\"name\":\"series 47 (F47)\",\"type\":\"scatter\",\"mode\":\"markers\",\"x\":[2458.0564948655824,2775.678668707163,9828.82694613833,654.4225465741738,814.899030843721,7637.770246247732,5008.571303061939,6911.751323566404,8720.020311213702,2675.1178400281806,377.1095776155442,1864.9811322018438,8544.807750685219,1819.4293181841715,4189.625295330149,611.5113876589928,9320.054514266703,4111.241963415345,7992.208922972329,5996.477097858328,3242.0774804530097,6879.072592292412,8434.586899233847,3910.3779312165443,3228.838915436009,7181.785575998628,553.540171043857,7974.954577261063,153.09047302205502,2506.912606906042],\"y\":[8170.629019835815,3853.2102325721353,8428.374492825074,1844.6148883604385,5377.916002240777,3077.6860335204046,7735.060567671017,9946.432133435157,5477.960766261855,2511.793636130165,6847.410600760402,829.9137892478714,199.4371180592869,8342.216459503274,2759.0013537527125,1404.6801310177582,2527.297731331982,2846.093991076195,4602.658506121171,2472.418019663756,1066.4972318485788,8084.904128796733,7222.386597132862,2292.7668635250166,2500.854125938472,3147.6645557016345,3678.6023876620166,7409.000629187,1413.715379976911,599.2732383874355]}]},{\"name\":\"series 48 (F48)\",\"data\":[{\"name\":\"series 48 (F48)\",\"type\":\"scatter\",\"mode\":\"markers\",\"x\":[9454.315723345824,6491.87233725672,3504.6677087875464,3385.5187899347093,3678.720908927282,5586.930491077188,9066.606661651162,5604.484731717463,4295.9967416340505,7340.0804667766715,8480.070575536929,9274.781750863984,4780.9359398751185,2528.1097457287337,436.8049370833571,4514.245188086616,9739.359180302572,9535.349774463057,6622.117269486673,2388.431651200693,5530.091926560802,6294.606659117326,3665.650156880941,8096.46103563716,9906.609045026196,9649.935042880352,4312.7835013729045,7132.4455620648905,1600.2892640259681,9100.794161646529],\"y\":[4973.952585755609,8593.953131013737,6753.53844504652,5451.570800053564,6076.74850504384,7904.66044751262,4159.875544272172,17.40764831083319,4975.744879793915,5876.5424647072805,5379.403761541624,6726.7323233501165,8567.572006887705,2257.662990648456,8971.911254437126,7712.833721193334,4213.838527215416,9694.820917588573,326.1823954023102,2801.281093242397,3092.080251402246,8386.01902621165,9862.921620161656,4676.943976754975,9674.991365030619,2605.919839297056,2750.0227882616337,4453.812692336305,4680.771539234806,7758.15849817177]}]},{\"name\":\"series 49 (F49)\",\"data\":[{\"name\":\"series 49 (F49)\",\"type\":\"scatter\",\"mode\":\"markers\",\"x\":[2692.747369469628,6872.783656288394,6542.504544169664,641.5871702408605,847.6982755522256,417.0165396304371,8212.05534755364,6213.2235534724105,8458.30663368951,5261.431273650052,1944.057518139134,1288.8865484259293,8420.87968895557,1162.361357571845,4598.136755678138,9343.197106069227,6664.079494141128,8145.3370269869365,9952.594882923775,853.8326246430672,8961.037192511947,5163.41792254144,2540.3589792299153,480.62119603437094,2592.130445854339,5775.458418251498,9598.076846940174,5778.2701412721335,5137.783960075185,5333.131580724654],\"y\":[3861.8162572731085,2112.2188270890706,4604.477530328346,1167.4987265527404,147.9085743694697,4980.317331225722,6073.475829165461,5830.358538692006,2925.049970211615,4038.731662074522,110.62393013901439,3572.567876724212,413.8560828568527,2788.6764984257475,7286.876931201074,1930.9765480000485,3142.640158405824,4101.286440158946,1333.0632360945249,3547.5721687206865,1343.26624858489,4541.132708864332,688.7072958075502,8158.883769619938,6088.504946747545,9794.601377703877,4503.569336869327,1070.6490564630021,3652.3989722374595,9417.547700473346]}]}]\n",
       "var labels_AlXhyiogUX = [\"series 0 (F0)\",\"series 1 (F1)\",\"series 2 (F2)\",\"series 3 (F3)\",\"series 4 (F4)\",\"series 5 (F5)\",\"series 6 (F6)\",\"series 7 (F7)\",\"series 8 (F8)\",\"series 9 (F9)\",\"series 10 (F10)\",\"series 11 (F11)\",\"series 12 (F12)\",\"series 13 (F13)\",\"series 14 (F14)\",\"series 15 (F15)\",\"series 16 (F16)\",\"series 17 (F17)\",\"series 18 (F18)\",\"series 19 (F19)\",\"series 20 (F20)\",\"series 21 (F21)\",\"series 22 (F22)\",\"series 23 (F23)\",\"series 24 (F24)\",\"series 25 (F25)\",\"series 26 (F26)\",\"series 27 (F27)\",\"series 28 (F28)\",\"series 29 (F29)\",\"series 30 (F30)\",\"series 31 (F31)\",\"series 32 (F32)\",\"series 33 (F33)\",\"series 34 (F34)\",\"series 35 (F35)\",\"series 36 (F36)\",\"series 37 (F37)\",\"series 38 (F38)\",\"series 39 (F39)\",\"series 40 (F40)\",\"series 41 (F41)\",\"series 42 (F42)\",\"series 43 (F43)\",\"series 44 (F44)\",\"series 45 (F45)\",\"series 46 (F46)\",\"series 47 (F47)\",\"series 48 (F48)\",\"series 49 (F49)\"]\n",
       "var duration_AlXhyiogUX = 100\n",
       "var config_AlXhyiogUX = {\"responsive\":true,\"scrollZoom\":true,\"displaylogo\":false}\n",
       "\n",
       "var traces_AlXhyiogUX = JSON.parse(JSON.stringify(frames_AlXhyiogUX[0].data.map(x => x)))\n",
       "\n",
       "var animation_settings_AlXhyiogUX = {\n",
       "    mode: \"immediate\",\n",
       "    direction: {},\n",
       "    fromcurrent: true,\n",
       "    frame: [\n",
       "      {duration: duration_AlXhyiogUX},\n",
       "      {duration: duration_AlXhyiogUX},\n",
       "      {redraw: true}\n",
       "    ],\n",
       "    transition: [\n",
       "      {duration: duration_AlXhyiogUX, easing: 'cubic-in-out'},\n",
       "      {duration: duration_AlXhyiogUX, easing: 'cubic-in-out'},\n",
       "    ],\n",
       "    ordering: \"layout first\"\n",
       "}\n",
       "\n",
       "var slider_AlXhyiogUX = document.createElement(\"input\")\n",
       "var play_AlXhyiogUX = document.getElementById(\"play_AlXhyiogUX\")\n",
       "var pause_AlXhyiogUX = document.getElementById(\"pause_AlXhyiogUX\")\n",
       "slider_AlXhyiogUX.id = \"slider_AlXhyiogUX\"\n",
       "slider_AlXhyiogUX.type = \"range\"\n",
       "slider_AlXhyiogUX.min = 0\n",
       "slider_AlXhyiogUX.max = frames_AlXhyiogUX.length - 1\n",
       "slider_AlXhyiogUX.value = 0\n",
       "document.getElementById(\"sliderContainer_AlXhyiogUX\").appendChild(slider_AlXhyiogUX);\n",
       "\n",
       "Plotly.newPlot(graph_AlXhyiogUX, traces_AlXhyiogUX, layout_AlXhyiogUX, config_AlXhyiogUX)\n",
       ".then(function () { Plotly.addFrames(graph_AlXhyiogUX, frames_AlXhyiogUX) })\n",
       "\n",
       "var trigger_AlXhyiogUX = true\n",
       "var reset_count_AlXhyiogUX = false\n",
       "\n",
       "play_AlXhyiogUX.addEventListener('click', async function() {\n",
       "   trigger_AlXhyiogUX = true\n",
       "   if (reset_count_AlXhyiogUX) {\n",
       "      slider_AlXhyiogUX.value = 0\n",
       "      reset_count_AlXhyiogUX = false\n",
       "   }\n",
       "\n",
       "  const start_index = slider_AlXhyiogUX.value == labels_AlXhyiogUX.length - 1 ? 0 : slider_AlXhyiogUX.value\n",
       "  const end_index = labels_AlXhyiogUX.length\n",
       "  await Plotly.animate(graph_AlXhyiogUX, labels_AlXhyiogUX.slice(start_index, end_index), animation_settings_AlXhyiogUX)\n",
       "})\n",
       "\n",
       "pause_AlXhyiogUX.addEventListener('click', async function() {\n",
       "  await Plotly.animate(graph_AlXhyiogUX, [null], animation_settings_AlXhyiogUX)\n",
       "  trigger_AlXhyiogUX = false;\n",
       "})\n",
       "\n",
       "graph_AlXhyiogUX.on('plotly_redraw', () => {\n",
       "   value_AlXhyiogUX.innerHTML = slider_AlXhyiogUX.value;\n",
       "   if (trigger_AlXhyiogUX & !reset_count_AlXhyiogUX) ++slider_AlXhyiogUX.value\n",
       "   if (slider_AlXhyiogUX.value == labels_AlXhyiogUX.length - 1) reset_count_AlXhyiogUX = true\n",
       "});\n",
       "\n",
       "slider_AlXhyiogUX.oninput = async function() {\n",
       "   await Plotly.animate(graph_AlXhyiogUX, frames_AlXhyiogUX[this.value], animation_settings_AlXhyiogUX)\n",
       "   trigger_AlXhyiogUX = false\n",
       "   slider_AlXhyiogUX.value = this.value\n",
       "   value_AlXhyiogUX.innerHTML = this.value;\n",
       "   if (this.value == 0) reset_count_AlXhyiogUX = false\n",
       "   if (this.value == labels_AlXhyiogUX.length - 1) reset_count_AlXhyiogUX = true\n",
       "   reset_count_AlXhyiogUX = false\n",
       "}\n",
       "\n",
       "next_AlXhyiogUX.addEventListener('click', function() {\n",
       "    if (slider_AlXhyiogUX.value == labels_AlXhyiogUX.length - 1) {\n",
       "        reset_count_AlXhyiogUX = true;\n",
       "        return;\n",
       "    }\n",
       "    ++slider_AlXhyiogUX.value;\n",
       "    value_AlXhyiogUX.innerHTML = slider_AlXhyiogUX.value;\n",
       "    trigger_AlXhyiogUX = false;\n",
       "    slider_AlXhyiogUX.oninput();\n",
       "})\n",
       "\n",
       "prev_AlXhyiogUX.addEventListener('click', function() {\n",
       "    if (slider_AlXhyiogUX.value == 0) {\n",
       "        reset_count_AlXhyiogUX = false;\n",
       "        return;\n",
       "    }\n",
       "    --slider_AlXhyiogUX.value;\n",
       "    value_AlXhyiogUX.innerHTML = slider_AlXhyiogUX.value;\n",
       "    trigger_AlXhyiogUX = false;\n",
       "    slider_AlXhyiogUX.oninput();\n",
       "})\n",
       "\n",
       "</script> \n"
      ]
     },
     "metadata": {},
     "output_type": "display_data"
    }
   ],
   "source": [
    "val xaxis = Axis(X, title = \"X Variable\") setLimits (0.0, 10000.0)\n",
    "val yaxis = Axis(Y, title = \"Y Variable\") setLimits (0.0, 10000.0)\n",
    "\n",
    "// we can also specifiy the underlying layout directly - sometimes this can be useful\n",
    "val layout = ChartLayout(\"Animation XY\") setAxes(xaxis, yaxis)\n",
    "\n",
    "val series = createXYSeries(numberToCreate = 50, length = 30)\n",
    "\n",
    "val chart = Chart(animated = true, transition_duration=100) setChartLayout layout addSeries series\n",
    "\n",
    "chart.plotInline"
   ]
  },
  {
   "cell_type": "markdown",
   "metadata": {},
   "source": [
    "### 3D Animated Chart"
   ]
  },
  {
   "cell_type": "code",
   "execution_count": 49,
   "metadata": {},
   "outputs": [
    {
     "data": {
      "text/html": [
       "<div id=\"grid-container_lE5B9H7K69\" class=\"grid-container\" align=\"center\"> \n",
       "<div id=\"grid_lE5B9H7K69\" class=\"grid\" align=\"center\"> \n",
       "\n",
       "<div align=\"center\">\n",
       "  <div id=\"graph_YD8zSjcrmR\" class=\"graph\"></div>\n",
       "  <div class=\"animationInterface\">\n",
       "    <button id=\"play_YD8zSjcrmR\" class=\"picta-button\">&#9658</button>\n",
       "    <button id=\"pause_YD8zSjcrmR\" class=\"picta-button\">&#9616;&#9616;</button>\n",
       "    <button id=\"prev_YD8zSjcrmR\" class=\"picta-button\"><</button>\n",
       "    <button id=\"next_YD8zSjcrmR\" class=\"picta-button\">></button>\n",
       "\n",
       "    <div id=\"sliderContainer_YD8zSjcrmR\" class=\"progressBar\"></div>\n",
       "    <div id=\"counterContainer_YD8zSjcrmR\" class=\"inline-div\">\n",
       "        <h3>Frame: </h3> <h3 id=\"value_YD8zSjcrmR\">0</h3>\n",
       "    </div>\n",
       "   </div>\n",
       "</div> \n",
       "\n",
       "</div> \n",
       "</div> \n",
       "<script>\n",
       "var masonry = new Macy({\n",
       "    container: '#grid_lE5B9H7K69',\n",
       "    debug: true,\n",
       "    mobileFirst: true,\n",
       "    columns: 1,\n",
       "    margin: {\n",
       "        x: 0,\n",
       "        y: 50\n",
       "    }\n",
       "  });\n",
       "\n",
       "var graph_YD8zSjcrmR = document.getElementById('graph_YD8zSjcrmR')\n",
       "\n",
       "var layout_YD8zSjcrmR = {\"height\":550,\"width\":600,\"hovermode\":\"closest\",\"title\":{\"text\":\"Animation 3D\"},\"showlegend\":true,\"scene\":{\"xaxis\":{\"showgrid\":true,\"zeroline\":false,\"showline\":false,\"range\":[0,10000]},\"yaxis\":{\"showgrid\":true,\"zeroline\":false,\"showline\":false,\"range\":[0,10000]},\"zaxis\":{\"showgrid\":true,\"zeroline\":false,\"showline\":false,\"range\":[0,4],\"type\":\"log\"}}}\n",
       "var frames_YD8zSjcrmR = [{\"name\":\"series 0 (F0)\",\"data\":[{\"name\":\"series 0 (F0)\",\"type\":\"scatter3d\",\"mode\":\"markers\",\"x\":[625.8182628185349,244.77018212124335,9814.8833076573,1310.3658211409752,659.1482878970356,3606.059787617335,4409.652256707625,2417.249423039469,3242.4108880513136,2135.0637561536355,7365.088793953124,5515.6612591774065,8998.08354533947,7940.967108204127,7373.296145868551,3492.8961986871686,3864.744320147644,7085.251621178552,3009.0558084305176,2804.352412658235,6977.034656876756,4055.4976533045706,4787.555617605981,1693.3151055616902,5760.786984142783,4656.822501618008,219.29622676298055,5892.856322942728,874.239834751912,8723.843670462456],\"y\":[572.1995355259224,4018.412443225935,6800.087326513825,2308.0196452610603,9506.017664050421,2642.796388078443,6129.43973961468,8809.662637599658,9261.72003235687,5391.110055548942,6877.602682403237,9900.876779928773,9668.61958228391,1301.2226844856912,2532.903673247472,25.129496745389666,8874.564818061073,5166.183228346694,3963.629233336943,2761.111028779585,2409.618334053757,6608.143225752227,794.4634124284489,3402.9981991119207,8961.205836305051,5229.06188149582,7412.6406526057035,9736.183831973944,7068.81001558151,6341.675874465757],\"z\":[5375.363044784947,2176.9910784426693,6838.851372857126,5504.912985712911,9663.8520134281,5196.844684960266,4735.485403827527,371.136769740823,965.7387181730503,4265.823132917368,7520.6162073132255,5198.310995574116,9966.319760813532,6427.467772525608,3496.50950153919,6788.373123722503,2490.5406132442445,8056.180701115682,5346.9638407586535,583.8135584154558,6261.388734308083,350.4956383208513,9078.07765531141,2187.657963357035,1026.7114232639597,1679.9576635162593,7827.229057773609,2667.752345426616,3855.3030775119632,6030.301533625713]}]},{\"name\":\"series 1 (F1)\",\"data\":[{\"name\":\"series 1 (F1)\",\"type\":\"scatter3d\",\"mode\":\"markers\",\"x\":[7638.960248983899,5664.456384345313,514.4289569771831,8481.071709770647,4699.03925123268,541.5518687360599,2014.7874766972163,1901.7827224182392,9973.050545150007,8603.375454645558,2645.23273652139,3867.164175758068,7713.440607637713,8746.890079607962,2118.418172117581,9168.998994217309,8879.025814456503,4825.611730283659,9809.839002432305,1241.5035319689039,9153.547208905295,9473.010705822368,3496.588619717309,5319.1663520827915,3954.9350588703724,8166.2090423781,8488.463923236952,7210.399081960936,9594.521905063022,2906.5032840274384],\"y\":[5592.890513429509,4197.320946805784,575.5265233300399,7051.437165376745,7966.461433336268,8761.441301651674,7912.702468921648,1553.8601745829694,7579.713928183731,1586.9625541213084,2310.1274823932595,8146.605739045903,1758.093336003348,7607.8785819404775,9051.687475112742,6857.125248085284,9060.888262388831,7741.993783562967,8538.886441561015,3644.6251717960267,1621.2399578447523,9394.44598585998,7553.190124646717,8922.94464867983,7994.167516493447,815.2649863442152,1525.193890674159,9265.627333262582,6545.866681870981,7959.954814174996],\"z\":[7360.47721409567,2685.3348448922075,4466.380468802978,7629.038443182522,9702.091674556345,2537.957689220599,1599.0575512499427,7351.958963157445,902.2027371546149,6322.478745612965,1454.0508497773762,732.6833640730146,6430.484510596759,3430.852506315313,4009.428663186333,6788.807240984561,2964.449517889438,247.86114315920705,6202.307405436381,3192.9150574104583,5986.964388998472,1909.113301228066,6373.7347056691315,6264.397999017896,7358.791120139964,7496.059103925721,8354.888876590645,5061.89181212291,1039.0630990194338,9480.089554056653]}]},{\"name\":\"series 2 (F2)\",\"data\":[{\"name\":\"series 2 (F2)\",\"type\":\"scatter3d\",\"mode\":\"markers\",\"x\":[9368.478748826907,2990.944126823297,6894.187655903902,8823.498345031245,3468.0637100196655,7968.477858326929,8365.744734519047,4303.286107360224,8849.341102324744,1375.0658847765108,9660.526470571347,8344.486374595217,3041.2697518323184,6777.991389091506,2080.9469401322035,1932.9021728286054,4721.236978013444,1722.5179094809894,7131.619763213687,8022.837382858309,4697.293515613504,9765.743252105747,6117.990127458518,6263.619186590008,1461.817800689358,5366.871069592242,2095.475707732014,1839.4007793692124,8644.795542191428,1249.6841762504273],\"y\":[232.66021883899367,7749.947787878266,2681.2255336464395,6417.452303525658,6919.648651063809,2955.804712666471,9055.998388890972,3127.4700906761386,6282.78332854396,8469.447362277462,4600.9153834195495,2821.862744113094,5159.488903060698,9694.729075381018,1492.3474158921456,4263.259601592052,4042.0999506013277,6100.128945805714,5834.359454150243,1938.3825515973863,2017.0967256605588,8657.01791557794,10.958001832663822,9169.55370590866,8306.255051432185,1382.356346666318,3352.440382980555,8313.57568197851,1658.7994713448638,5795.946129792121],\"z\":[84.66151694202284,9929.394563653334,1548.7140952144173,6135.556355433812,7016.352369783422,3860.407705966331,1898.9611723703115,8768.951774186602,5968.462270235786,7804.230353564021,8884.41834540332,1400.0510378579945,7560.817366036536,3132.189085989787,9257.936750737299,6387.1467086199655,3645.218727632935,3472.764598401855,4598.992227044687,7774.324545675418,5410.433314607647,8887.655610907159,9901.984695238432,3482.9174315922096,2983.3584608101814,7346.096164824116,2001.3149757222825,2518.037663128788,211.96272679873007,5642.499066419494]}]},{\"name\":\"series 3 (F3)\",\"data\":[{\"name\":\"series 3 (F3)\",\"type\":\"scatter3d\",\"mode\":\"markers\",\"x\":[4472.95089709028,2015.9308325121528,5239.445860603151,3904.46854787574,857.2686872229185,491.1006619386304,3465.377072806729,1402.660660395726,7315.534882788363,1737.8536645178278,4538.406784856116,6500.936656597584,9162.47566431328,8499.11939606123,9136.469518779244,274.7005046289619,3109.9512101943815,6236.102028914822,4464.2299940940475,1577.265314967088,8511.838441310447,5115.525134471365,9633.84560066418,1148.5527665060579,6417.799576175662,2676.930941062706,3393.9525996567054,3737.3713454540257,4823.692030078976,550.7023927515809],\"y\":[7033.107720793021,147.9841879524979,2148.9551352071257,6068.177065024876,4707.745577872451,5623.623225889582,8676.385418920972,3638.425038209151,1931.0435789373614,7044.061189292143,7457.292055715109,1361.968039573207,507.908884591457,9041.307877251451,2015.100303370122,5509.916195901136,4812.633455202893,8326.946012098695,8073.051739067555,9217.708726148006,9979.592447173449,6276.581329778018,486.7229627689751,2025.840218631927,7313.685338913396,2131.328236265525,4579.670441623413,3745.6607070911386,6026.051152639312,3053.2106643459524],\"z\":[3160.5792732972614,9536.545154030133,3261.9142364592435,2710.807282493327,6642.8763091354795,3051.421713968284,6311.248842483013,7073.424647076512,3892.8472067085804,1040.8612150543718,1879.2747267687605,4656.537376322858,5699.869446332402,5901.624220024635,7342.625616835056,8588.181720703615,1092.4586680883885,2313.7739105522437,8028.363320894375,9555.448424243841,9116.398383735372,331.15950406098716,2726.834741294637,1942.1701629657339,5146.3027122106505,73.2803969600837,6885.697533703542,283.35316042022885,1319.5432117739547,2512.2456002106464]}]},{\"name\":\"series 4 (F4)\",\"data\":[{\"name\":\"series 4 (F4)\",\"type\":\"scatter3d\",\"mode\":\"markers\",\"x\":[9231.270090138436,9538.852875350807,5261.542364335121,6756.743758960056,2924.6897887882706,628.2558772080182,9914.021053936542,6705.645068375069,6784.188556578055,2170.8669185904305,9982.86073580709,8977.05564282735,5591.12567228648,439.173172511651,7289.822584397989,9614.351819362553,1046.2462031056953,2161.0928659357196,8142.442178296448,9228.922471824686,6553.958621758707,8995.780164510034,728.9950383424704,4960.053600040122,9686.256382396157,8259.706698314356,9500.510052996598,2915.585592871037,5914.235408690785,1794.1937243852735],\"y\":[6519.383475162188,6602.687807921001,5993.985100031889,3742.5235754541,6834.2245489400375,5266.287231080566,7254.964128236997,8444.20744418392,6083.1419429538455,1023.397911050098,5962.794010187538,1655.9494108219585,3732.759966082818,5214.79848735734,3914.7364470710877,1873.286835705704,4627.828167138661,2491.2083661272823,7474.945495976877,3653.851745132691,4856.37048525012,5809.317604857292,1367.9170895583725,1532.6429793224927,5327.89348613367,6733.725832271529,2722.3807471391783,1371.6596622939003,7917.256464520364,3224.0530258695053],\"z\":[3094.2144737846897,5800.690063884378,4544.379794254918,1432.1822636857385,7495.783871157608,1783.0117676278235,9140.047511203278,8942.804307805645,9820.441975882528,1279.2071972839992,6090.640057657678,4361.130882374946,3474.7458562131505,484.25578825516567,6459.709675123576,2184.851322030298,4517.285745846867,9177.509258283773,5051.887681489197,2493.1081554861435,2151.837622270523,9352.121274172692,7214.6939809411315,2143.467709947472,8033.8887767984825,1479.9451575203516,4166.3947958319695,7888.574194032738,1523.4084373911905,7519.871567613127]}]},{\"name\":\"series 5 (F5)\",\"data\":[{\"name\":\"series 5 (F5)\",\"type\":\"scatter3d\",\"mode\":\"markers\",\"x\":[9593.135358852835,2107.3656673147566,2753.0648412072433,2092.033121168385,8276.14704829302,8691.444176031222,9179.9197551338,7117.249441167508,9589.9162856806,35.39093692682016,4149.95624286411,660.5463732889027,4854.7681907888755,6050.521348167946,7928.6279934223385,7719.530991414627,7732.407548451977,2654.7756021803793,2636.9438572137506,9262.86114002438,1120.5298714913115,287.1492009125398,2581.427875364236,5950.996749613847,2332.6976857630034,2653.263612854625,577.6278046790306,4660.8798301251545,742.2547785829526,2129.388230295306],\"y\":[9040.669926904558,9188.134968734987,8524.124785628448,1035.4202864037065,1852.685068920914,1314.8431776144075,5645.928919316848,7333.03689292185,9315.76397531589,4807.889103119593,4839.921524556854,9213.439300484964,3860.4209890547368,2852.33980523384,929.8343847787305,5509.802837994531,8603.38097681137,8926.260640251174,1591.7880951309926,7902.760133653041,4334.825482620537,2187.8321353778542,3396.0142860267915,6482.942309280496,3064.0671779488694,1072.5825046783987,7806.204130348543,2392.805372124218,7863.946979520685,2988.0040524203155],\"z\":[6705.884415757309,9990.676855533884,9428.079288329245,3744.772628946894,5976.29181331203,6263.154788348865,9491.394700205103,7678.248572589488,8667.801905560651,7057.700697457818,63.2596611456826,8290.881793996541,6387.043292179599,8115.465087755669,5283.785313055339,9685.605023114504,8664.40476236375,3855.0919875330947,9637.7556142329,1062.2480905947596,5271.7260045759585,8391.449770713938,2246.943486660693,113.45854787515819,5727.534863803545,1368.939150130829,2010.4041978532016,6283.570539640721,3557.276274660245,5847.231507850559]}]},{\"name\":\"series 6 (F6)\",\"data\":[{\"name\":\"series 6 (F6)\",\"type\":\"scatter3d\",\"mode\":\"markers\",\"x\":[2473.669466211249,1543.3147940396464,268.55553941266595,6697.99665582303,8481.5872124204,4585.213403347138,5456.4938184746925,5754.378123006585,8905.887436531944,4158.963118462655,4971.877583960569,4300.680597744519,1037.3748766721912,8643.05514074487,8664.853257717898,4397.935848568782,2593.9854913025206,1888.3396037065459,2859.5066924765356,8011.717306333077,6719.765259171951,9871.193315999573,419.73834852659263,6941.773406152677,3836.16104549332,8758.401508824463,3034.4220654784126,7148.75991515537,1755.8391402492523,2612.81904045663],\"y\":[6179.9203153219805,8231.546032518281,2080.582883090808,8158.329287645511,7110.601781636736,2529.280079175299,6578.633617463995,4774.572480420958,183.0836866245378,8605.59620744469,1973.1846457182312,206.3648939743934,1837.5064000316265,718.0537069799997,5372.555090278875,6349.692043012506,9639.218266178512,9284.099532892482,5433.898644545328,4915.599302696017,5926.831844377951,7325.547088756292,6276.13992891411,9775.270336725933,6817.688310388037,4406.771849627847,2144.1456206563735,1354.0248952373902,1589.3465331490243,2677.521461968949],\"z\":[874.976683040829,8568.92959354108,5785.790020319712,9289.447456247706,3328.392241996885,5494.162434627663,3789.6235844569046,5676.163514120645,4117.60104101343,3190.2276375559923,3056.610877965136,6969.841760064925,6212.588460295412,1947.5732867196627,2726.4803029047557,4173.059044981113,8287.177022768312,5572.107757541339,3904.004095686625,7612.812024588958,9042.295696516861,7279.576671097538,7546.939279042207,2674.3179582176126,7161.778224792481,6267.706027079587,8602.48820676674,7845.426637334632,9043.321927051491,5099.474179077826]}]},{\"name\":\"series 7 (F7)\",\"data\":[{\"name\":\"series 7 (F7)\",\"type\":\"scatter3d\",\"mode\":\"markers\",\"x\":[1801.522638086931,698.1660911807041,8996.078949504967,657.8266729729543,5349.888418746093,9592.156339176972,8207.673074574115,5621.603652008532,3648.6899687472464,7605.31540553871,9457.267919867434,3164.3992591009296,9130.526404708811,480.50178779250217,4287.634466097654,4892.528755092849,6316.2360136631605,2222.4243967303423,8148.001489618489,915.229702021676,8276.777463880117,387.36590451589615,6880.7948168936155,1379.679112878941,6827.459173841285,8078.962256585648,4849.201822884926,805.3580659342551,2986.8029932940744,1196.486941774375],\"y\":[988.8250871933479,116.75337661270268,3499.910575607528,7577.789168625415,4115.518220163067,6400.334184720514,2556.2717629721496,9337.243626155137,2932.823999790376,7101.197183868479,5224.54197951618,919.7642587324028,9356.261907300863,3626.726666386769,581.8842693641557,3175.1454085417886,6008.0450241492545,9139.06905120692,8033.058628954804,8102.694251256795,34.626429503604726,6695.17371992092,9894.510008707699,9824.317611753127,5760.814007438065,6832.60638379235,6961.294498319693,4814.936662929233,8118.007319755189,8201.292328460619],\"z\":[1479.7523175867454,8452.299051974436,7270.453077653848,905.8041211782286,3716.4204343438314,5543.96708287096,2412.231321032645,9849.754730328761,4143.752783013812,9647.459316711402,9319.020520798707,4563.318575722062,3155.7964664702463,9720.226829766007,1912.5124824903417,2746.8473162216023,4182.04606952028,2919.352605004564,2831.6823317817352,7078.008908332563,4085.28377174169,9216.558969863012,1803.9404171026051,8706.823511809,6809.280667352217,6902.316877256374,3470.5244704522074,6302.429468562685,2384.8261544892157,8023.550104458751]}]},{\"name\":\"series 8 (F8)\",\"data\":[{\"name\":\"series 8 (F8)\",\"type\":\"scatter3d\",\"mode\":\"markers\",\"x\":[8244.320052597901,6517.362550282394,3607.614844634278,9332.63350677518,764.6207028753361,299.58343209452454,6969.114812657046,7421.085836025123,562.1718139578257,9609.447417743586,2751.603084081666,6369.559384137893,8659.168263005698,788.2532723097524,1591.148262703067,2466.4365020677883,2002.7043422508762,4076.974695533797,1267.383404709802,3330.541972609896,4866.502415073506,3598.2173814044418,7996.501716452992,8119.1823524769425,2654.5748720561214,8491.407868762522,1083.9800295578207,1410.9336615664724,8901.804014483998,3830.668303236159],\"y\":[8436.11428007464,5823.292151755201,690.2476586132333,9456.786452606622,3134.530831300064,7458.514202520794,1186.3127121670502,5919.14211687961,8045.4119193348615,3866.668777725624,552.7628202391733,9350.40570938883,6265.256922488126,6373.134817987922,8100.855206311487,1286.2752526425713,97.57418877653801,7338.471253250681,9221.730233978906,5194.476551291307,209.98076755956663,8201.79865374853,372.506327321811,8791.696416873237,9638.760061274972,6004.529539280044,4191.358391338879,104.07958214956436,4388.011598966175,4499.487066922482],\"z\":[4677.189752228651,5666.3696837933085,3513.1025692446315,921.1613022405596,9293.331883495142,1256.725778908776,6783.205036098534,1026.0450048056434,841.0360598847955,9128.702465658233,7285.289456600721,3107.704823417905,6997.351222620939,828.8360525542926,9662.013826714607,6349.439511734247,9523.306189776837,1377.7245102067216,2068.535454927204,98.08136116264632,8322.145166952785,8844.452561627437,1388.3392172523334,8425.70320331986,7763.695557092707,3158.657969694485,6765.7664376938,8691.69524761151,3989.769032722441,9381.49304956285]}]},{\"name\":\"series 9 (F9)\",\"data\":[{\"name\":\"series 9 (F9)\",\"type\":\"scatter3d\",\"mode\":\"markers\",\"x\":[6092.996816995884,3725.8727965115536,2276.831580740879,3596.1864041078084,3731.8206934445566,4723.991959796521,2956.002960369892,4080.8630906152966,5455.610411283294,5980.239228694123,2876.7739910028677,6490.736578870041,8364.486156190193,3176.9773059322524,6949.659818368642,9403.735503955373,9356.742447824501,4110.218783726685,914.334026276059,5773.085166467576,5632.180994595199,4450.018041259609,2153.6175316422978,6582.312789277561,4658.078898148466,1418.1591504272806,110.02345021042248,5312.60383977932,9046.092449384174,5111.232642171845],\"y\":[1660.3876785721295,5709.382812075519,3868.477143742568,605.3922900994457,9665.444804830382,774.4538979607862,84.58780256349053,3949.7841338451813,4835.031939824934,7911.980686201614,7953.69064009527,1688.847815088923,2035.938524811154,3721.04428519584,8577.707226982162,6649.390182104814,2218.2408507040664,2054.4701366036657,47.58280800132408,2386.536445286507,247.2949757395637,653.0639196497889,7059.550686194489,4903.361674196457,7102.384428596227,4916.3561722687655,9322.643085776648,3042.2204483148516,2139.3489041738057,2185.401969419446],\"z\":[4596.376158234725,8291.480007305177,7413.351436896868,6290.14093665688,6777.617219213138,659.5792147049273,1419.2639898031257,53.26960051706742,8098.215616319295,9739.030195450363,4030.9845473067962,2944.5382164385546,7200.063754345042,9116.185607201238,7907.3238699347985,2143.832139818017,1621.824773488122,7878.298896011489,4180.929130458312,7898.353185907232,4061.6499274442685,5127.603843204696,1858.0403813474168,8248.668232747095,6672.778761147616,2132.849474624501,1030.7033092925144,3950.3477107578665,6604.000183914935,2031.9213457426356]}]},{\"name\":\"series 10 (F10)\",\"data\":[{\"name\":\"series 10 (F10)\",\"type\":\"scatter3d\",\"mode\":\"markers\",\"x\":[9739.389950814053,1732.366354243694,9014.526097742433,8844.890436766693,3122.8060365706233,2910.3963729920456,872.9082108245711,5965.029717817377,1352.9952123277944,4812.570409903355,9992.211254873373,9266.044352880874,9777.67358765576,4477.250932938103,8958.724597155175,1496.9625816570697,678.0598766067758,7646.790224759702,2879.0831689775496,2731.8357660250704,1099.2951949777653,1208.2230840121765,3200.7370414818292,6299.607896411825,5321.86953506869,3921.284260761775,7253.296653126913,840.2037932882822,3716.3054423806784,8526.097479261678],\"y\":[4613.3481431105,6916.1031663711,1959.6758860892305,8137.333117125568,6912.922790462558,954.3585805107513,5891.359898934496,1208.5913673222171,7291.870900132383,202.22839653053936,7646.7704347177105,2290.211229120602,9336.980851756382,9850.289631229252,8131.6119829398895,305.6682719752823,3055.7494091180324,7510.108560345513,9385.56388706564,2136.171221651004,7200.301187600734,829.2403265085013,7933.098355271349,6930.021233373892,3087.0185569151054,1184.5388718776017,6830.484219581451,5742.754815197033,4950.035437513767,115.46030736367396],\"z\":[9791.849417177124,1866.0384840472998,5821.815936220038,5442.242615514539,5513.501374282646,9517.740940680442,5951.623580966935,859.5499619292957,4114.536756535591,2442.56163882817,2852.759104835213,6204.377880207882,473.09878722181287,9412.042502128003,8212.032011953965,5567.7060813763255,1161.4673376580831,614.7511344584489,7099.996875427799,6952.604068996028,2669.4960504732503,7491.868180643646,9188.074918822564,277.1858324591103,8654.739631399065,8700.371307697327,8.752747590782262,179.01879380977982,3068.9404562250165,6575.458110860335]}]},{\"name\":\"series 11 (F11)\",\"data\":[{\"name\":\"series 11 (F11)\",\"type\":\"scatter3d\",\"mode\":\"markers\",\"x\":[2687.6302452617597,6298.29639706049,4184.3739393553005,1715.8045577752935,7031.1683494585395,6500.280124147394,1779.8790993380132,8129.7070666673035,3371.5645258229165,7843.228395192219,6045.228458130396,7757.112420941518,3150.261945939421,6006.226960284718,2123.8217618704457,1121.989128284393,6864.1777973614935,6362.039920278332,8637.512815905724,371.45084228019766,2703.812786544092,8913.30706068349,2023.7097577021868,2022.4929226249544,5979.981613178884,4906.1083346031555,1063.715321159896,9364.155609897918,265.98597734313614,5093.129294059517],\"y\":[7592.602525379307,8652.384761780308,6074.622776861744,8339.358516396725,54.751259935219565,8986.808589418992,1844.5081284919663,4546.448230163487,6305.492751470732,3073.1069089220864,5027.764705011032,7717.584184898685,858.1485559991364,4951.598265199175,8151.20794031593,3392.8972672071277,9637.064569272134,1212.127774914823,5865.739259375602,9656.17062234438,2221.0823771299893,4217.286641805069,4203.732500934305,2446.781315713863,7548.207477794134,9420.453733626679,2531.7823731928725,4006.5344506387646,4101.069860974536,3992.09489458251],\"z\":[2016.2544269915338,7949.240244837693,9704.095981015802,657.2173475739362,1811.664151583049,5661.590942330197,9237.139449432962,8898.82094044832,5636.979055852468,6527.099251830086,806.6506470785329,5496.651319358116,6922.527739374907,8810.562064958138,2214.285483478178,7747.500498164915,290.2674913822456,8948.713411890849,9924.190512895508,5652.765568234541,772.7483067618424,4463.439240159712,2154.022323847753,3860.9241386798244,9881.184637161741,9747.124431727947,6201.0912672531085,217.0336925331784,9400.624881544301,4565.409769778232]}]},{\"name\":\"series 12 (F12)\",\"data\":[{\"name\":\"series 12 (F12)\",\"type\":\"scatter3d\",\"mode\":\"markers\",\"x\":[7663.848724021036,5398.325396562531,9620.288540799862,2280.837236591251,5830.259510408509,7304.407036834437,8599.718241002427,8521.563816085032,5178.436646414053,4622.547153208475,3026.4698106646006,1302.5334455297166,7671.238044800499,6302.96538133557,9238.646772591164,452.19006879387405,4325.355471722133,7556.004566592249,5065.656311107044,7606.029439142779,7396.753612464788,8422.51822547943,9283.151653856532,7998.976762461865,6448.1455688254155,7970.753471873395,5683.193462122146,1821.7961490812518,2550.5185319980183,5737.469185054116],\"y\":[3028.2473585846183,6002.426549485145,4919.552100681411,2157.977237724601,487.7154240262782,6931.349838190475,3399.1004073765407,1419.2530789926561,548.2651887975143,870.8012217310535,8377.733704172018,3422.2062925979258,7844.316524519911,1570.8272007548728,6960.67158499158,6353.6656011561245,2872.6059141135497,3960.9072447066374,518.2559507536832,7745.580102049198,4134.838432232825,8694.057702521157,4093.4515626313914,9838.387926266136,895.0136139286036,4791.032509369738,2574.6841513722884,4567.467375958133,1443.0823596144205,6665.447309523219],\"z\":[2026.6527601733208,4556.026815822317,8524.181663035239,7406.351896499267,7120.587573159857,9124.753020165637,4422.7615757491,2352.9806394272555,7216.745463419585,8517.980396280407,3083.5037757002947,5717.109451027696,4325.767023671434,5298.10902697612,5606.005672627662,8291.661421367244,5911.850786217751,9174.43952099628,8467.78440157896,6129.8911104678755,4299.517646661809,409.55699948245325,910.2295557747009,8487.697180402223,2307.078877910057,7385.841221205065,9064.718631771135,8292.301521784275,1653.7420889101106,5916.638684597511]}]},{\"name\":\"series 13 (F13)\",\"data\":[{\"name\":\"series 13 (F13)\",\"type\":\"scatter3d\",\"mode\":\"markers\",\"x\":[9601.177187152642,9933.7457228855,6673.618166514492,1451.0836360000078,4948.955088834248,7271.356730172366,918.7234234003339,448.50496646475557,5469.957000050097,9405.531797568843,8344.39517436178,3887.817063935115,1356.555162807984,2985.9045604627454,3944.3720197903444,4129.235597312474,8481.878045299743,7610.1493480634,939.1127082479367,6160.121941826526,7947.659608373495,5213.386784293647,2919.759547273547,5633.704811289911,8654.899690714024,5256.361084241699,9711.480670914316,9048.887573812779,5865.175045638684,4991.253031123334],\"y\":[5143.749457888353,5921.299957449293,6425.5092229961265,8117.206839394715,3401.4524368154375,8860.20293778959,3097.2951794682403,5733.3422498595555,8179.541382210586,5092.814183370635,6259.838311369408,655.2344523851261,5475.27723919041,2167.0734667850857,1151.6660761003573,9881.541157636886,6525.936326792355,1315.8147176579282,2767.831117560748,280.66486512821064,2136.1836720665938,4279.774759862085,8549.00964141656,9413.03481196691,3438.140179788355,3263.810092483529,1078.2767250145819,6812.805100135635,6988.504828717144,9140.157641654034],\"z\":[9144.018439402676,1023.4591153210848,4030.91487282471,14.520164089362186,5732.517852409202,4215.020137901367,4738.059509648822,835.213811487614,5781.332046359653,9306.269866830606,8296.890607731975,4852.567876579224,4854.650386997235,4173.576092266266,8811.598457019782,9425.219555936717,2294.4111341403163,3748.6401818198756,5172.852445005173,1921.9004267068517,8856.022499092243,3590.6703974063316,278.13340132499144,6281.764009045948,9355.117168290788,7864.199031212727,1286.8119058976113,7173.255422232823,5431.8492888336505,561.9562636805974]}]},{\"name\":\"series 14 (F14)\",\"data\":[{\"name\":\"series 14 (F14)\",\"type\":\"scatter3d\",\"mode\":\"markers\",\"x\":[7954.955865592237,6630.980700667061,2181.8136908552087,1282.9217529525538,518.678151610088,7551.983193327815,5107.754632278356,5908.8780845590745,2081.163140397342,9497.289249675548,613.8014695650751,8118.488044190313,3007.3400620344846,4871.538092880454,4094.0511860622987,9836.129745732547,6441.499194505403,7742.963781842362,4559.8971501783135,7433.417168794441,4736.971616844957,3317.951062774405,3705.572676371883,5784.545440573049,6323.328157964111,3398.8385799125244,328.97179150871534,4122.294920361198,1335.3737640409013,2030.5968235335404],\"y\":[8104.870102020773,6049.739338889361,2189.547918938529,5981.463596857879,5850.259590463135,1033.4018517620514,2217.164806205857,6704.566399777933,4626.585455831366,6236.803936663791,1450.259757479858,3992.023394593762,5291.247886714834,5649.061260214331,3704.631819034283,6659.9593074649865,3440.814221587402,8121.380229964921,3216.0053573136593,2292.330574504956,6080.96478930066,7145.010403941478,2259.056249977446,6323.407381957146,5813.269133169916,2987.414085576734,3415.383021020768,553.2077836113203,3846.474248171741,2149.1172392052395],\"z\":[1455.3241999036004,2567.1419651872893,2720.0590608462217,11.907108661418642,159.85703739954005,470.567947108147,3270.3906661544524,19.74712235158771,8832.637590361757,1850.9182936084078,8074.894542748649,6766.979732757564,1738.5718028652564,1944.5106109077747,5377.228164263555,964.097369810183,1254.1344096642092,3612.1069425535125,3326.5312188095054,1409.5543108903485,2125.98218698375,916.7392020400711,4256.393392074592,2816.808814554932,9908.233271801655,8849.270266511692,2684.2681241128353,8628.973623415486,1385.1156928027763,4061.6201452763944]}]},{\"name\":\"series 15 (F15)\",\"data\":[{\"name\":\"series 15 (F15)\",\"type\":\"scatter3d\",\"mode\":\"markers\",\"x\":[8729.637964672938,4799.169197227392,8584.514728237024,5344.528848068908,729.3060639591464,3922.867126227698,849.2758904214293,8026.1896124101195,6970.780982508527,9079.219840110592,1356.9509158073345,3470.036714583291,6669.78623135335,3271.5752140548393,5465.00051379277,3414.4228075880446,4585.514213900721,3453.0760463124566,8307.29516121587,9023.875625255736,1997.316449880444,7781.447175229742,8179.087051961223,6211.08043131668,9159.102557190776,967.7800484211784,421.44722316327045,2040.679364555964,802.7990186973067,5367.322442108627],\"y\":[3752.4995972589304,1840.4413405790665,6779.793777896649,4805.989721928567,7291.602886873417,3022.3027405073967,4509.374769668286,4044.509695941082,1883.9655348317096,9555.23493009903,8545.747083129554,9252.825091433368,3757.003368545331,533.8476394012959,5280.290235321402,3900.5748459707447,2026.0794868032617,7351.088436170408,7563.296093248975,65.1777075657345,4116.095107132039,6610.356737624205,4859.508125588302,7317.252069042675,4776.723467977321,101.79665311790819,9444.356443567729,63.79918569777266,5042.914134378983,8919.490723942048],\"z\":[8102.866596394445,9512.78870597915,7228.616717578689,6110.731424475451,1810.7920114619403,8268.481807490984,840.5049299706479,1125.4956841171527,2957.6046023362433,3975.03708341273,2159.809006810203,9773.70070862867,813.5508212613274,3396.6401002707294,7164.19041140958,5399.781642102223,1148.0624672961371,9855.606665041594,3447.927682976957,548.5697381300714,5174.385292826936,5045.6100950746395,1847.4996127152156,3523.4171960539506,6325.3731025871575,895.3869932927528,2590.992324460608,926.9583192643848,757.9661725581965,8378.97659397542]}]},{\"name\":\"series 16 (F16)\",\"data\":[{\"name\":\"series 16 (F16)\",\"type\":\"scatter3d\",\"mode\":\"markers\",\"x\":[3963.5729053163373,5526.8549104167905,8938.954273076664,7951.757433061337,3717.6107690679696,8603.324630404304,1182.2060793351075,637.240453659178,4754.850048625884,7312.203503684706,9587.61518021246,9697.790825750342,6969.364504078073,536.751279367661,2474.603419747776,293.14001565586057,6563.858763003547,1203.3542660281805,5108.089774057699,8563.769971005417,2638.2018743776434,9100.741668636232,2282.4177622416987,2171.937572615801,8397.913955472284,5869.276628807265,4158.809541717155,1491.32382085166,941.6473205266185,3016.3428011762903],\"y\":[6644.492863454861,4356.98552256962,9260.540448016778,4565.795908093371,1556.727811732267,7570.499248889025,4818.640707301083,8263.905928482316,9832.535679660226,5200.881386931961,2882.4317975215763,3141.1650894825393,3125.0088433681367,7130.079824107392,5628.818456328137,6668.796777741482,5269.667482083862,1262.5282068314336,9984.75813168275,1750.7422607125943,5309.392473771195,9351.464099216657,4138.05121391233,2356.369069420278,8034.057569680672,9490.408971986599,6707.6344723637185,6726.08667695399,6321.049603577499,7976.415811628408],\"z\":[1673.0462658952895,8771.512689641859,1955.4516003186518,9472.390628134906,336.56314128130526,1543.788418048022,8063.737878340036,7178.998879513533,8827.833379455886,1458.0898561264798,6812.409131772947,4072.3683288911793,5959.662986091413,8339.339481661627,603.0735169072655,2172.0089205200843,1604.9389309313156,4293.57146162744,3638.060679847105,9274.063168362554,188.49537097588075,3911.3625382311156,3435.72722851096,1618.215740197675,7374.068564188353,9374.185965059427,8642.198810516993,6552.285326995204,575.3028735495269,6661.508544425335]}]},{\"name\":\"series 17 (F17)\",\"data\":[{\"name\":\"series 17 (F17)\",\"type\":\"scatter3d\",\"mode\":\"markers\",\"x\":[316.36262838716124,1416.726208032746,5531.105101270303,3245.8938338155554,8757.51364792059,3591.976388520357,1859.4714517528687,3415.3362372509623,6900.123231043182,1934.7823406699993,240.2368089482987,4676.4990879061315,4317.787538606529,1675.3419409110904,2676.0279247301546,7569.484034978167,2958.4860584654302,3255.306915950791,5142.028032814695,1664.2117689792924,6875.858881335557,557.3871016303433,8858.987182142695,2510.450123724163,3426.290997119018,5510.507935570871,2410.2454399020644,7877.972661339121,2669.1699373536217,4150.168538773187],\"y\":[1972.3592522836132,6750.2908833438405,5037.759098156574,3871.8562716450365,1040.250763878434,1224.8526724111052,4740.710344064286,2836.0749578315604,4201.631463007834,9724.550227715377,7809.314095587809,266.7461013475725,1751.773219296483,9739.841403520182,9223.167645246273,730.4474650161508,3238.535155291209,9697.733365831271,3127.0157919730937,6392.154029537923,8388.875682697,2493.3344127047876,3794.099168447075,8713.85393753197,3291.91285398483,7721.636888230415,2696.4227901422623,5095.607174092754,8199.92370922497,5711.634370984425],\"z\":[8809.936488192616,6554.3293332829735,857.4945360145758,4091.8484616642904,5112.692996984477,9693.773059115814,5880.374388285035,6805.775539298376,4126.635241021983,9939.893909733892,6379.399273120968,6247.726918945762,9308.735130979434,3298.984347461543,8761.192840296007,1503.988928201413,7114.784287702022,741.6625510033059,5436.17170895324,9561.17654841421,6639.22703559052,2724.011332249665,3025.7123894956903,1783.1148108193252,9876.983039823104,1327.8572474219852,5584.168530025623,4959.528381622269,5858.30859126639,4035.3923130802696]}]},{\"name\":\"series 18 (F18)\",\"data\":[{\"name\":\"series 18 (F18)\",\"type\":\"scatter3d\",\"mode\":\"markers\",\"x\":[3337.7491205821043,4794.279280597885,6175.303851857306,6249.034958054987,7491.104464855538,9827.839824986258,7748.764357619294,9325.637533341458,763.7843954507983,5478.146069202205,1076.6485193976937,7114.845210101563,1492.5734923323676,1135.926253569489,8660.508134369202,6774.6174748712865,6372.02596330855,8065.055473222726,8823.814518061292,8982.626908956536,3204.3550171538736,2235.4364342811496,4716.182411953659,8570.447535581605,391.1629540566297,4155.364063736403,6940.079502233756,9078.159085376214,4323.318830733824,7272.283086979968],\"y\":[941.6828887356654,3760.1824940087367,9311.625313718152,7575.296505838674,7075.120666713815,1168.8782572821854,7249.742117190763,9659.745442654375,2079.4242294591936,5600.633754974064,5812.159768053048,8703.623385712188,5600.078757034219,1409.872587791867,4663.8489700601995,3557.549817256117,4342.156571332336,5479.620470639483,8894.53652391963,3464.4752547608036,9459.579680732744,3982.967975700774,7689.386945938885,9802.245879922904,9865.146046661308,7977.967903669823,4109.198720020533,4681.608949043203,5288.5281992157825,7349.217228580837],\"z\":[8777.051195209238,234.19022210253493,8114.532330188154,4142.565244374301,6254.66533481907,5989.434977924324,2301.4828526919405,4435.104698004943,7940.5710685816075,6866.446338146355,1009.6759585147519,2540.7954289752,9433.502618001861,996.12032654539,1962.4271193588584,2572.7798367419796,3478.2689200386,4840.918509843155,1017.306865144032,166.65028846296948,1847.6758708608709,2894.0803089081724,9942.749463093516,1514.6312378687032,812.9065264597723,617.0281839207637,3975.2866550035847,7768.842159575613,5216.091352058448,2213.1682282387887]}]},{\"name\":\"series 19 (F19)\",\"data\":[{\"name\":\"series 19 (F19)\",\"type\":\"scatter3d\",\"mode\":\"markers\",\"x\":[8375.242129928629,342.5134980556499,5582.628620993516,9338.24772728321,903.7994147438588,6671.2243187860695,1197.1460201072248,2911.879834187939,8911.934253291862,6591.9412216881865,9615.818885948624,7821.801713632619,5561.779484856773,6655.835021619966,9699.092430336834,9501.882153096762,9593.569798842691,3411.5596023535068,922.6788708478284,2116.85174383085,7006.392554528881,6978.875049495833,6461.034486022565,401.17973207749344,1038.54449327332,3078.2073139649924,1336.3430207474626,1076.4733890280654,8913.380963966512,5089.932726846316],\"y\":[9787.365608278846,5211.232268980654,9959.111895379494,7687.882712676665,7936.342441133869,9888.740290337784,9916.085030252863,124.7684713808217,8818.46077756172,6113.332571178631,512.6728282733794,342.9240899701269,6887.230211971702,12.227058823680581,1720.953591154426,741.9717226610601,8220.43781117934,6079.563062068314,6495.961981828859,2655.7199699557577,825.1797596276512,4461.244593967307,4257.357445581915,9373.800747228,6676.796721951418,9093.636574472985,9889.940018272757,6889.260265776333,3425.3693227621484,9886.117005690467],\"z\":[9619.516277419845,7461.522412282622,9064.752745934064,76.93972435195317,3763.207299692294,3554.839743300677,7282.965883557739,9393.817855920699,9058.351474831215,8745.559222409334,4699.0724058916185,4715.088105770993,41.75166819165743,7787.227065687149,3740.5191416850826,2554.272893116862,9781.07982759403,180.7592957341453,6526.230657123489,1880.3061616182426,5152.839617439605,317.6146668006052,5794.580168973949,1537.6461761794146,816.3586519309396,2547.1008208373614,8651.692596368926,3844.9467079656943,9050.867533171939,1364.6556490111427]}]},{\"name\":\"series 20 (F20)\",\"data\":[{\"name\":\"series 20 (F20)\",\"type\":\"scatter3d\",\"mode\":\"markers\",\"x\":[7714.354800649568,4827.918474795903,9702.79367460423,5326.143169040048,2083.1432193215983,1981.4570806022502,5632.981670838532,8263.907796235624,7505.207071653921,2458.073427035955,4258.6258136729375,2913.5386620756144,1072.4669938433528,8144.112618585535,5052.282579383262,155.98992917479904,849.82387149943,9212.201905868196,6190.405281957845,1737.914860085774,4939.298722752255,4427.820802553957,936.4239059451918,5553.769427008338,7659.850985274033,4739.838063756661,5798.469076105323,356.4435306206171,2758.9518591168594,6499.316688140383],\"y\":[8019.420321893938,1108.8890482270297,4870.818474273424,2027.838922619376,9537.031841917742,7097.403853902043,797.5406070311875,8196.056006966992,8194.47472850496,2397.947330010285,1613.1622111181998,8175.121648859002,4686.703273114935,2320.0577386638656,5077.105770598465,7588.122626754933,5495.639855216714,48.64554170557645,5392.157660186523,3915.5680710681827,7897.245535967358,4862.146219438115,3953.5589704645636,7198.460095789621,3016.1237382231907,7026.2106289405965,409.5769650509962,834.4118467181938,6858.381716297034,4745.320115735087],\"z\":[8090.256159204675,3576.741951618555,7271.054415861175,5400.413158895021,1659.8823790123117,7723.419251043883,6856.4694518391825,6708.818170817608,7710.013937317069,3922.1908917515048,8012.515340202523,3413.4836682923874,933.7683670170627,20.17593969541376,6474.84992689676,1641.7050309532021,9508.379675633272,9950.662007780593,4004.662743491444,6169.249032342187,3361.864148453587,8776.79401113109,9195.687956902733,5483.98012217624,8110.971106566898,1701.2999571727116,7766.738619505482,5763.794416861047,5631.411020769998,8103.348069537287]}]},{\"name\":\"series 21 (F21)\",\"data\":[{\"name\":\"series 21 (F21)\",\"type\":\"scatter3d\",\"mode\":\"markers\",\"x\":[161.11162618878572,7666.872989193422,9457.693484284022,6478.08505063437,4791.792868160152,9177.967290902492,9508.724668786326,2531.358563057463,9851.46832416235,3662.633545761481,5996.650944792815,621.5786508420596,5248.925059686272,4752.034650059615,6800.257172173979,8242.628043378252,8938.506015719708,8714.134067769135,6070.561283622421,4306.1812958163155,8676.858547136091,562.8056809391891,4385.069288503465,4608.749441018477,1071.29487746352,2314.5910058231557,2378.489515490078,2058.216997470591,4676.662524447852,523.5330286283302],\"y\":[451.52660674648513,4986.593716002588,2852.6997001744326,5507.723821099609,6895.709657143911,4190.1537758518625,5111.428425831377,6526.904674134826,5571.032160290124,8215.091880445088,2764.2169225064363,5578.658250707893,2134.5115133906834,6846.275146202781,5820.720361523676,7451.439509116412,4741.607380715686,4758.624638686093,3296.9888570240023,5205.891727869259,1128.7587037462931,855.1149290422844,8357.60650721777,8351.598540374325,9034.134353928957,3942.3295006039616,3046.8068128822824,5644.628586674848,1025.0174664331169,2083.9663005983634],\"z\":[4756.086448347967,5651.924289885766,7974.071185388607,1224.6400293554916,8030.915750774208,6011.80180814949,7663.063147714239,8490.778571376992,836.726984470244,6665.520397356406,6291.454106571787,6952.368643791526,3984.4334410444903,3243.090352996565,1028.580709539022,1568.7541748228484,6058.317446113228,4257.1867477824035,1171.9985019526703,543.6466682229757,3894.1963880653084,9792.246379058595,3960.868324158424,2378.95987539647,423.3597860532767,9971.517437137261,8642.109731918144,6544.032826267713,7527.845417267893,8643.04593372305]}]},{\"name\":\"series 22 (F22)\",\"data\":[{\"name\":\"series 22 (F22)\",\"type\":\"scatter3d\",\"mode\":\"markers\",\"x\":[8998.360016155479,4866.260431192535,1445.2017406743278,1446.2793573646181,220.61913464608062,1501.1018597965408,2215.961623302861,7704.171831372567,744.7767930783845,1653.8920731851747,6684.6301860111425,2431.380576437433,3470.054964783306,3102.830802702249,6645.068779473168,8157.345062823876,3638.721852592599,11.985898870160439,9863.733803700501,6233.742196845337,2580.263130408033,5525.08706542352,1919.3100011861097,3829.016501592706,7509.528189752269,8195.353103466041,1064.8495737357778,5908.3860720202765,7617.18741160809,7433.538616662526],\"y\":[6648.616328190138,1155.9281758773798,5802.176800010618,4845.845797228561,4022.403028813271,7016.050946475098,3569.6252887584114,1585.2948140705514,5321.174049767481,1814.8620550802696,3854.091640901255,6654.605853581083,6015.459394868978,1267.6490266362184,2826.768095253629,7475.590794265664,1718.0094062237872,2586.8839061262815,7106.629026469366,1979.5138229817821,8368.792348844516,1875.8769637553173,7219.341250250221,974.8283697993365,1627.4977143631975,9526.397411682728,1634.0708211344256,613.1504317361836,8070.287592786663,3934.2907971895747],\"z\":[8257.154850795963,7401.286715965064,1617.6127935752638,6005.319607312634,1872.9357543021063,2396.582775181596,3512.4916261037297,5644.1607020805895,6695.877622186338,6974.813336374303,3123.7278380414377,6702.6930531832395,2934.420383075409,9874.289289073917,9866.117774182645,8709.416654343408,5065.848007698511,4096.809260744994,3609.7810039843193,2110.041997565673,7382.781863714321,2685.5341929930833,2093.3232079511954,8719.996163129987,9295.73278883932,4401.8217205428455,9060.617229996456,622.791002485561,8862.476517885598,3887.504372010545]}]},{\"name\":\"series 23 (F23)\",\"data\":[{\"name\":\"series 23 (F23)\",\"type\":\"scatter3d\",\"mode\":\"markers\",\"x\":[6108.569683141577,8843.90868545146,8063.8475387985545,6026.054158101305,4563.318739807995,7788.053065243171,7456.865534788144,905.5228922078995,1094.8785300900477,2648.328543675755,1009.9508648658629,4038.109124540367,2235.3395453260696,4779.104737587348,4161.2993365039665,6305.6475714359085,8483.29433646235,4370.028799916533,9440.32413479936,9477.274145627585,8257.251407416257,666.8562448373161,4353.396790537571,6084.97304773399,5603.368822315217,7455.4660453849,5658.949760491402,6944.664248256273,3267.918881938947,5558.632989149553],\"y\":[2643.3266990744573,5674.9424571194095,4512.478828342932,4690.83548775979,9557.601745576298,7192.533834387455,2879.91157906322,4174.576960764409,3986.9088665086515,6352.986790637218,9011.787607039312,5742.400408689788,3597.6588136106648,3657.069732485442,7572.969698749154,1931.985410005167,8444.342845322204,7257.799756013731,5356.666392362118,427.4135118371536,9816.453599953742,4379.978038787771,3723.333727135969,8107.893888253922,9467.381140325946,703.5652452290975,4669.385512136055,8535.94339779097,4990.971129704809,3264.1778450380443],\"z\":[26.74981187277381,3150.221085182764,8097.756535966356,988.4447118111073,7561.887622938841,9523.914224022777,2591.7087982263342,7108.91275138894,6072.965500925424,9707.784135086558,7959.6760798768755,9392.642676752897,3976.4582176651443,7897.674989961296,2659.5080218719336,7369.595719795482,2329.526841355619,9449.49936090424,8429.195336186265,561.3568472928066,3752.1033778096935,2610.4101561441053,3238.174469313576,8087.696750995526,3292.6889149025274,243.08003450132398,5863.286410337819,7967.931887022947,5924.446865926292,1290.7025985990217]}]},{\"name\":\"series 24 (F24)\",\"data\":[{\"name\":\"series 24 (F24)\",\"type\":\"scatter3d\",\"mode\":\"markers\",\"x\":[9495.695178441922,3935.986481705979,8063.255500728852,763.5433650857382,5271.4085160546,8652.522502000844,7266.9622672511005,2623.562321046585,9166.867308565888,4824.449431962624,5105.154950272631,2101.8394119167683,7312.397789954222,9931.584061766835,3081.3495192321216,2704.2343847680063,5450.151526751104,6012.179477691446,444.5696782002051,8443.915399777921,7999.485496977352,3273.4999217145178,5744.86907926163,3685.0971690499923,991.5593390994948,5170.567180619983,1067.4301541977693,1390.5267177631874,996.2606615811786,3035.6589718511127],\"y\":[9022.447614207646,5535.964198533372,9088.391761652221,343.0954994243274,7773.0841685802025,4988.1062172023485,4886.385150274975,258.2963781911263,8651.365556314782,4238.100575871159,745.6364810498484,5247.053737737716,4241.956801308745,1041.0083791870495,299.8779110012284,4210.409030163466,2206.3421227040867,2232.269863726163,8717.840229079695,862.4830491666779,1575.0111968439905,6775.434826622668,4278.778406596228,6883.058436757939,3752.8255353389973,9441.11984681058,2169.2676190635852,4753.664919562609,62.82445683864823,9425.35976292444],\"z\":[1765.0022970490998,8125.375192494506,1296.3056033089604,5686.222794480262,8085.15698423406,2068.4682563747083,2442.088976613963,4810.7626318467655,6593.2026115428225,1618.5742541683467,7535.459608047501,7820.0812622893,8066.889159918022,4660.862705536064,5397.35465501136,9478.484717919,6871.447602351087,4383.296416052791,6926.942469354379,7393.411402233135,1643.87803604236,7281.916284400409,8565.821483999303,8476.019142645011,2132.52919212677,5015.588130239625,4569.635783623113,7178.018917905149,9734.999194309537,2284.5839826058577]}]},{\"name\":\"series 25 (F25)\",\"data\":[{\"name\":\"series 25 (F25)\",\"type\":\"scatter3d\",\"mode\":\"markers\",\"x\":[2802.9972770747104,3328.5480702133964,2138.71298313845,8346.83006790982,4916.166190602892,7365.575834498844,4392.365531063518,6787.605642900568,1967.0320544956598,7289.540079648497,9722.743367461759,6722.929175917405,819.5090757064338,4762.615827583793,3460.265658653351,8743.820593370485,4979.540938658292,7435.219356480767,2547.9174633967596,598.085891078225,5922.485158466398,802.0556100351984,1282.0734647741538,858.2151824357732,7420.729834369483,5673.218692291112,1170.0362762175664,3638.4494039011506,5897.966942727389,6691.558556423307],\"y\":[9087.947081284427,3801.013146747657,4416.634331717864,3235.7309999458284,3284.050459309891,30.972112612864812,6547.604441821302,6519.050671945752,1196.1233322994115,2661.12324971875,9076.286925858636,5727.469023196772,6538.209893366559,4192.777872847308,9266.884546609832,1635.703222563899,5660.6255405304555,3085.2558344521476,3236.6209797579736,8298.747426922731,4798.530808912247,5576.354662310263,6884.336504379965,2136.693251013376,498.1936673964804,6048.019823075896,9772.929578950558,3014.0010445059806,5246.394065669991,3765.8849991914876],\"z\":[5382.693927668532,3760.0547307279253,9127.251462127879,2698.3150099978047,8232.685841710832,2986.046986614841,6192.082279070443,1560.0273413380462,9509.828259693244,1023.9335940035066,1151.7217560573101,3227.3300635001,8050.541865116059,346.41027384493816,7987.076783491234,6236.459346269671,2787.265531076628,9922.558268854738,7122.502267637727,6203.45951856697,6102.315478105016,7622.017344728674,1917.9177266848458,1693.4964425672472,4924.097385732534,6001.237992315089,8409.417003189841,7319.452187021268,7855.780268376808,4588.5777721178765]}]},{\"name\":\"series 26 (F26)\",\"data\":[{\"name\":\"series 26 (F26)\",\"type\":\"scatter3d\",\"mode\":\"markers\",\"x\":[4464.4462733256,6664.098753383564,2144.1015633629145,6130.702993324529,5816.45196813483,8997.104044345993,3876.0688737975493,5170.9614451755815,6805.2386941392915,6697.576767869441,8433.882592917125,4801.097844380562,3073.089454150667,4794.806156621675,5943.502993502621,1460.8841739071,1953.0451345641686,104.31155797917091,8219.84348861892,8255.939318381523,3834.555055931682,5063.264059716548,9541.663313111902,4422.218137680485,4403.046490191279,558.799563919341,3481.8064299765206,2286.3539986458004,3323.786840112367,2794.6953543645304],\"y\":[1973.5103405540756,3354.2345467310797,9676.738979183237,1556.3330518392227,811.0888215384193,2005.9066060068187,8247.941043552448,1110.8245369711133,7863.370464504541,8683.094267548022,3644.2651288316583,418.63468618285384,6420.8505531419305,4426.330789194563,1122.2472253170956,6334.981457253147,6302.597561380731,5151.898027968326,4007.9950295052226,2043.751136319124,9616.524742375763,7154.476397141532,7634.022704695177,3093.620261884238,6396.725729498078,4979.608600115132,8830.178286782198,5095.523936352535,7734.143235149537,9030.78460689486],\"z\":[8179.663307408701,392.5702071407633,471.92131566208496,3059.1576945928623,9487.47447382709,5827.947658631596,8054.370710713398,1029.6048512667032,7207.416899595122,113.32886672669851,6698.551228410016,8765.049442535214,7935.17662884653,7239.7272868639975,4700.058890538077,8241.663504294316,6498.759190407249,1874.7126195451513,5389.677118788013,1440.774316505805,663.9382073873412,3754.350139267747,1025.134622892757,6259.00013128704,1021.1768672020804,705.1765082167216,5732.288921104244,9136.344249260348,4231.819747945409,4120.98117292939]}]},{\"name\":\"series 27 (F27)\",\"data\":[{\"name\":\"series 27 (F27)\",\"type\":\"scatter3d\",\"mode\":\"markers\",\"x\":[502.63162889753744,7782.680292956182,8485.178363727235,6471.114702328078,2209.0903892819447,2666.2625778527226,9754.463052945064,7731.497094304256,1619.6824386026976,7773.601082934013,6238.337548793662,6506.455519856038,2468.648407619434,9558.241583750585,6236.209516086656,2048.97026769828,4787.279483307674,7966.69786663724,1629.1872830820575,5388.862911302783,901.7199781796459,4962.978946762921,5124.972111755575,1342.9152389631083,1772.6191159571258,4068.8687733102015,4473.774166541952,8307.85575228429,4681.566800971124,9095.306106962566],\"y\":[973.6758148452196,9426.610728889162,661.8423687044084,1460.9265267902194,2757.6874752231715,6970.160946926933,1526.0735098113853,3277.022609120959,5591.07693526266,1591.8092429761643,1860.9822706721047,7723.890814069117,5206.372343399963,9487.60729197181,939.4789584939633,9151.72532601878,5564.77561392887,3436.1469285483513,3142.932652587009,2809.934875012635,6856.543989623544,8192.878711644911,3191.5352045397217,8141.9492428529875,5539.232337071274,6778.565155341625,4248.249229894724,178.29720263178416,6261.5105838718055,1828.4350797914274],\"z\":[2791.904255706,718.9292206445319,2131.6032371611436,5358.059356256305,4047.5966244325255,4716.471962762063,5463.223119053856,1053.914545466531,5717.608046098062,7555.296515140808,5868.203621683286,5511.063698676307,5773.654574957281,5766.989991120054,6363.856531276841,8717.329080253776,2151.342079585402,7131.022523855215,1024.4148706195645,9522.78660150776,8330.291110648399,6080.103008017842,9629.745125998517,8835.36887713703,8988.465450652613,6862.922420150748,5750.846155490467,1847.809319122381,4186.823164945766,12.684324315087592]}]},{\"name\":\"series 28 (F28)\",\"data\":[{\"name\":\"series 28 (F28)\",\"type\":\"scatter3d\",\"mode\":\"markers\",\"x\":[4760.473946769813,728.1224763196936,8870.481331171815,7328.029433376474,7368.563513133063,895.2586585509071,6865.169349104605,6793.6568162440535,2455.9477280805286,7253.53160057833,5002.817578488327,1651.1563827715481,216.1983976117998,1573.8691058499367,3527.7126061123977,7176.2630073093405,2914.243762878189,8586.886755980671,3514.7231179285086,4626.950828303044,5931.748615969522,6292.2429692958995,673.6823072271969,4297.486470275697,6193.063546244867,5490.681611979617,7619.089680615634,8646.76290484385,8551.885484848694,4609.625528963041],\"y\":[3451.8703080327905,2064.9418461372616,3267.5967528651463,8520.13571848604,330.0144751969325,6000.633320444036,9311.576164882503,4232.503427810097,1597.4913458339413,6891.541128459692,8917.607864915904,2109.697836985025,4995.912852827001,9624.716636294172,8526.837766600636,8552.341878222243,7501.002220781335,1098.2504552504624,76.55893350526743,4985.844584198873,5405.996171481721,6864.451853988195,4443.432706290046,8419.771377824598,4416.6920051946145,8805.252581835211,5775.581845029454,851.4842066699935,9727.926824674274,3323.7914788766034],\"z\":[1434.319893898749,8350.53853993836,5318.853923677041,7631.822198843856,7315.109924790382,5787.280110261178,5034.461393816495,6370.804437878806,2428.671454940381,9858.529571827517,5413.353309158518,2025.2320254991573,9796.985602004015,1315.2059746030875,1676.8963479887311,369.9611148190063,2955.2729212488293,7111.184209856853,3812.4045871404987,6538.998555944997,8649.852254908783,4569.643723725254,9263.127771902067,8211.418936392474,6683.110706581982,2602.607825145311,2380.3669994137667,9880.780843952902,7280.645544493755,9521.339386650056]}]},{\"name\":\"series 29 (F29)\",\"data\":[{\"name\":\"series 29 (F29)\",\"type\":\"scatter3d\",\"mode\":\"markers\",\"x\":[8498.138577240657,6207.612823018869,4841.969644801313,3039.697497178684,2258.374031179342,3050.2461956330594,4484.995559305534,5699.526852587247,5644.722964534444,1927.4728864972112,4405.844481132149,8136.592376668919,1075.6094565931674,7387.212951738697,2749.353068196806,3357.533585933041,8862.264794499675,7038.572571132036,2421.9819102494334,7512.762272478844,6355.039825764218,850.3851977655663,1077.6512779813186,6527.179870333271,8181.379710503318,9727.525671437626,6368.3665139312025,3390.046497533117,3121.418319883451,3346.9902539876593],\"y\":[8475.316467364015,7907.2846784391095,3372.2328282113667,3768.9436932343356,2922.4596669381776,9283.954896877485,6219.370915100333,4433.631473950883,6723.440458733045,2031.5913012368214,6464.3471239893925,3813.262976041363,24.00662650683616,7384.544508417449,349.3789622604693,9208.670705338725,3575.925095432686,5661.422629830383,8175.712922505,8963.758631515428,9614.723928852414,9822.184152027448,3329.469346638535,716.4500360052161,12.414740841995009,6848.382278296459,9.011752455404531,9213.053896275858,937.678359261499,1513.518236893283],\"z\":[590.4249191696808,9683.667998653045,7679.825849291089,6612.410471915117,6272.766386480096,1809.4409852900671,6779.171481815791,4782.943945424056,1412.3282259587722,4908.221421574107,5155.288507552786,9680.510814889956,2785.231898803738,7123.321075584421,7535.940622797674,8454.914648218264,9910.250557018398,120.82474616902483,4163.312051679587,3231.4563403203742,1518.8357568731537,6084.0822631693345,490.49156041787387,6612.378120484872,6276.899564532408,5639.721351424226,9379.98541109276,5091.79088203388,2942.9851332948233,3757.721856344878]}]},{\"name\":\"series 30 (F30)\",\"data\":[{\"name\":\"series 30 (F30)\",\"type\":\"scatter3d\",\"mode\":\"markers\",\"x\":[4177.371207212643,4716.668151351062,6290.036055985595,5638.797290452811,7957.026594373491,5328.437374790796,323.04848576127364,6135.5301346421775,223.1968043494448,3284.157445905246,9592.47582015952,4349.411755760313,7398.494725377691,7683.222789475754,2733.3278776392235,9704.144097235298,7543.252372880168,1814.9845254483498,9752.485079678303,7016.254305812644,2922.9737542122116,9794.637195747038,6041.832141645938,5867.288702607898,6277.464247315081,8169.170348911584,1612.3846085405246,3927.5448832007974,7944.043263350804,3652.1353921594223],\"y\":[3624.6662416995478,4789.512111652596,1348.57008734103,1085.4350512337342,3933.174908117182,8339.885837415764,3801.8478031075574,228.29479643548757,1067.8437316201384,5732.232808516356,8025.29118140036,6038.025082732342,7842.993382232476,1618.079970871471,7378.577420031339,4734.142878778452,1614.3419125983016,3452.407272038216,4373.324300599184,7126.868074301773,4097.218661522239,1410.2270249388428,7730.671184968004,1442.9662662795517,1614.2083017414843,2734.133315377839,7976.961501051166,196.36414785060842,4658.030111960318,1178.4118050649483],\"z\":[5370.558694033873,9527.912342621445,7735.528551377494,5623.49977833798,6814.153313561607,4878.1279420733135,6601.241030509,1905.2933070022682,330.74695340469697,3858.699419938357,194.0749367441108,8436.99582733419,6667.826326461177,5752.992382648607,8858.213041243149,9296.912588076228,7643.071867994559,7202.743848342848,8759.440857878397,8113.792857194836,9956.269035872165,5327.589435534971,4800.665799061598,2302.027180894093,1365.9216704231026,2776.020214485758,795.4799517940147,9982.21083413445,3365.3958516295133,4020.8165627757207]}]},{\"name\":\"series 31 (F31)\",\"data\":[{\"name\":\"series 31 (F31)\",\"type\":\"scatter3d\",\"mode\":\"markers\",\"x\":[6176.195698317364,1268.2861426388836,792.2454753752661,8588.964261257883,3092.8569743936864,1510.680658473178,4165.7057408427045,4855.504641024727,6402.314787753763,6555.559870344917,4971.163310954451,7532.732519331563,1751.5270365483436,9113.518037229815,7596.743981710454,3050.5980738619833,3726.822471490948,926.7339324212364,4175.984032104935,9651.132082446858,6870.952961493286,7581.817390423165,201.88164692913512,3209.1606974417064,7262.32246404863,1536.2830584763099,9451.449926396053,5543.529972286311,1305.8762303858462,4209.781951761484],\"y\":[6496.225983172652,9297.517689001554,1402.6982497017427,9836.934314192828,3873.014193726574,2344.056791441689,5245.449718552926,2186.799705141782,8850.471612118938,5110.851026583344,6629.359141625815,224.73463473050126,1650.9709298056187,6222.419251217307,873.5492538948364,325.5799020284933,2973.5080291807426,5420.552972546809,7215.068924530074,742.8339040740927,3712.24237935826,7851.627704605641,3868.072721514454,8696.660918720336,3876.5936979449443,498.6596740809246,8833.169697775711,1664.295997089722,892.6422693482893,9787.958412080441],\"z\":[997.042926474242,2239.603229999395,9701.90975778645,9214.668384718876,1580.0155103805391,274.25172842151403,8372.424980055253,7208.457937141757,5569.322864244367,6921.178630700317,3298.307591468618,8400.05719631155,6418.423413018451,2671.7032192652114,7487.93213723512,5951.305152427155,4997.759089203798,5510.870301257464,3927.058874353723,8675.817267470718,5549.960765245881,5911.295935830793,3552.151524102245,4304.340563003508,7232.5627993331045,2543.9940292040865,3980.4255557850765,9438.309359885254,9723.876199546234,6305.368283059747]}]},{\"name\":\"series 32 (F32)\",\"data\":[{\"name\":\"series 32 (F32)\",\"type\":\"scatter3d\",\"mode\":\"markers\",\"x\":[817.0001198794353,7487.078949194291,5322.744550978266,542.7533200362034,8095.858021735267,8198.758021282782,7990.488237547112,2206.5921016826096,8210.140575718333,6271.515259074167,1863.4121473183795,2065.543999327467,4548.6361325673015,1971.6976851317625,7906.846187064491,2091.5159638391865,1979.1498637768657,3687.035804178107,7586.7450067134005,4654.815600583875,1305.7654828224786,907.6796300137879,6702.472472451236,1265.3254349109245,3875.8462065063372,6254.750276492251,854.4582053492722,8253.806258311677,1623.9400751088651,6865.554441290153],\"y\":[6413.001101409994,3008.1307811775414,6013.5919043478025,8696.553883558934,7309.569127827555,7162.462796629931,6574.386511719046,2119.6433138350512,8489.524177462617,2483.094875337071,6030.380031535468,3564.234449210849,1445.277014390487,1102.8559528726612,4377.398884394228,5897.107846570415,5891.458404521338,4226.716622378806,8690.521649631266,9733.9342983074,4348.769157992437,2464.406971366272,8929.37924234599,8940.833977254777,3170.745951445484,6541.578411017383,2557.743073110278,6211.283486621746,4377.768286739638,9299.235432321366],\"z\":[2405.1957246791676,8793.140825848226,7555.198270267633,8611.871199543915,2872.5073779295685,192.51173556001368,27.62959499692963,6137.941347274936,9318.670480612338,995.6259970865323,6538.801035769149,8662.01341540047,4266.371550045231,826.8571974830863,6746.802778247259,7196.136079887879,1924.009091110388,3900.4629534638902,9986.787384478646,3978.6697522473746,9446.19264524635,2625.5793368066493,1958.4714838103966,9042.029535598344,9340.986670063658,7288.45940155415,7263.295013070145,6116.487906474797,2480.994729799736,4962.891444946687]}]},{\"name\":\"series 33 (F33)\",\"data\":[{\"name\":\"series 33 (F33)\",\"type\":\"scatter3d\",\"mode\":\"markers\",\"x\":[5046.180838640834,2295.3936178597132,5286.699005866878,7489.192824410626,2389.418263042157,7107.863136724191,7824.309898768289,6614.12551320995,1561.267925002907,4428.20604170243,1796.6959331891464,4198.531134398868,2739.4693360441725,4997.04384549367,8704.805216002684,6776.4396917843715,3409.90519469089,8237.294725865915,8818.305370293994,6688.855845801204,9283.258202109851,9518.889034968379,1018.0079040937406,6517.3832195972955,9277.572065121087,3059.289610954601,2058.9627530091625,9607.2967101229,8882.207803854975,1242.594188911168],\"y\":[1351.9421929071107,7096.629574737179,2048.7647624695082,8298.196983963702,3972.358696547691,1057.2917116658741,1647.112405265947,0.6930799934123932,279.4899314702193,4106.191463607901,2479.7582395718455,1335.9093406106804,5265.214922414201,8158.785166095902,8865.355613631082,923.6519798954556,4550.286807211149,8874.430261156494,882.2322454160558,4395.960724917352,6807.504187324358,7782.375807912515,9505.398530943685,8900.365783213267,4314.966500836863,1079.1703165937795,1075.5745543804508,7430.843036170253,4328.923878842394,2652.7270880068686],\"z\":[5806.350316498195,4784.871404913721,4014.56916570459,9015.234089709988,3365.673059518547,6603.193466221592,784.437748065977,5516.553429861926,960.4349697697112,9169.588781938957,8067.918438840914,6461.706967582931,5808.009365514536,431.16773769454664,3771.696859673601,6570.49399502799,4396.165795734276,2045.4022309990016,4989.790152490754,7594.247950298199,5512.867746279023,8168.308039456559,7883.153857134773,1844.1856947711744,2670.0405421563532,9168.896441960838,6072.674494659169,3887.7552789963943,4250.4691970824515,7488.223533673982]}]},{\"name\":\"series 34 (F34)\",\"data\":[{\"name\":\"series 34 (F34)\",\"type\":\"scatter3d\",\"mode\":\"markers\",\"x\":[4375.681399880741,2733.8506493123273,6474.568894518343,8457.056357100226,7264.953371917858,9454.70103419849,5113.8463088410035,1044.3907661898754,3040.5076036373466,9381.707670885624,6770.447180763688,2229.747674316056,5378.29941680507,3764.447875543654,9497.268917969826,3975.3892468350505,3656.282842490618,3096.520811365989,5550.688171732297,3620.2862559980463,2257.1110170160046,3188.860535280307,6148.0346947964335,6925.884523303179,6908.087093102197,5510.6004366532015,9244.524778267587,7974.411468014049,3042.7970357755917,5319.520542778997],\"y\":[6549.43589054786,1653.6706624387898,7155.1938932787625,4668.563982603203,5268.89441328677,2557.97657338516,7165.721651783022,2501.8641684826357,3392.715437328898,8793.08379201672,1930.4003188299457,743.174611409283,4735.319467032397,393.66487212137315,3197.623062625713,3531.54826476657,1395.8251857269534,9845.101820611497,5553.737635308598,6573.565444764264,6819.995953709042,6547.049256640157,1197.3199818249702,4958.362278490509,2226.7982078621494,7964.440424013293,6743.373593189835,721.1657300612584,2804.9030210082906,7682.3029056652185],\"z\":[8682.513042394301,5942.99521053411,7789.5477270007705,4613.958106108959,2606.5213956117295,3238.6387766324833,297.74426313884163,8207.878264487166,8860.501221054514,3111.9731893950197,8629.90542111457,1656.684371492465,3893.1625074379917,6847.144069475952,638.5356895332638,8832.461512942722,2250.619874445957,4356.07650864699,6719.711139963366,955.7816570548916,8895.404071712559,8717.240624532755,5000.651960400436,5851.520041523209,5331.21506255816,3017.5523168775107,4376.7683477054,6052.755283335751,5875.274898516788,548.7352757854258]}]},{\"name\":\"series 35 (F35)\",\"data\":[{\"name\":\"series 35 (F35)\",\"type\":\"scatter3d\",\"mode\":\"markers\",\"x\":[7194.141345452709,1984.7524466489574,2343.96723272235,6411.432331443208,3578.473381805145,2994.221402333489,6403.7772905262655,7144.798844198782,3679.12585985418,2084.7543186894113,8888.374543544596,5126.271541145042,2426.9373850972197,9877.548022120804,4494.007685480481,6175.653804267926,3797.095171073952,9537.212090480394,8439.212254886274,2049.615108493185,8023.407735177372,7185.681394642669,8911.155556752743,4327.151704329019,5727.909762115335,1672.9384434357441,5419.775557543183,2563.512938436474,7509.803730159884,3481.4678551536526],\"y\":[8542.195116855495,7529.549544332986,6180.323509426744,5012.060123394466,963.7233863171301,9855.388155650857,1535.1811780819703,3531.7864544104714,3208.0827668413103,5461.800163488064,4323.84049041302,3660.6730789109056,9998.330962660302,1789.5748594424044,6904.933272919743,8431.802397570586,4801.270142568927,3026.6663630120206,2969.716402370348,6680.273613460734,781.9686850920538,8284.838178387625,7670.5457572575815,9799.657152453396,6131.348904544285,3991.973741894159,2508.917992153166,2750.282624938627,528.6148900510412,643.1881939705775],\"z\":[6417.71442512772,2611.9024844000282,7361.636749776866,4493.313535529835,5614.8534860994705,2943.9716984262154,3252.218089725544,6775.299041705972,10.64110241676186,3749.9977821611674,2419.5190787277897,6593.507231377964,3218.6854078661363,4938.105666914611,8463.721052402287,8767.848856827066,6550.317275943013,5828.176367426975,263.3573604118733,4594.1486473467885,4765.040189310985,4476.613311686506,1853.5570419644132,1738.0892653243573,2804.6105400258703,8372.998140771802,8388.777511143018,9294.53070220422,8255.923801404811,2408.599103408614]}]},{\"name\":\"series 36 (F36)\",\"data\":[{\"name\":\"series 36 (F36)\",\"type\":\"scatter3d\",\"mode\":\"markers\",\"x\":[1592.4333387937063,5420.960161919695,3867.96519231952,924.8982054354593,8457.151043618682,7893.275022409626,8090.659374932082,8121.007432122044,6383.213327283201,2434.060338406919,9308.529092994153,5132.046064998912,6429.080737210872,9727.972136204024,1209.6577515970052,2686.254536861341,3896.7086214308065,9665.78784129855,2560.520130693692,5406.826302974887,2085.703809676814,548.1489837452102,4549.83253945115,7545.136230328538,724.1964625277752,1731.9599516573514,2819.6443348474654,215.2539247609242,5320.625458743845,516.8721646770902],\"y\":[9319.474562067053,7045.328342986473,7479.471997767494,7946.2291247438825,1199.3784562241437,8569.636536574078,9085.293295090094,3636.3025343326003,100.39585976362231,5655.789844642873,5183.249407189741,6749.60455884148,5405.929129811193,8794.796616320602,1370.6287389251227,8792.511879639485,9285.15656768592,3177.381619081734,1562.7246915355408,4044.3923781284907,9689.681665425596,9138.165827502396,1107.7237410237483,5114.875870318038,9857.18773477152,3770.0142025747873,8399.111778747758,4377.867749743675,9330.948866505538,2294.062917480032],\"z\":[5370.419570969458,6845.3526008297085,2021.6227378537499,7116.635450172806,3555.964836198391,6420.9908023275375,1417.8371693197423,8412.470056920534,7762.575213896783,5412.964122415375,1694.6480452541114,2544.371962150158,3821.098371871887,6687.4788466216405,6174.037299294527,3662.61804416269,372.8439811341766,8908.787971002188,1359.1873997244197,9423.136501101126,7194.9201722538155,7938.547584972506,5594.353979980426,3921.6932196712683,4179.764162403235,1656.7758668003662,6294.731888724508,9662.013816451026,5757.986201462626,1218.634629886025]}]},{\"name\":\"series 37 (F37)\",\"data\":[{\"name\":\"series 37 (F37)\",\"type\":\"scatter3d\",\"mode\":\"markers\",\"x\":[8645.789565456433,5658.980016085804,5289.982548493227,9075.70919907205,1689.1275132044937,623.7365853400279,2750.5931799260707,2967.414516706123,4791.988904630603,8585.74982836698,6892.417471630636,5527.604523085901,8640.13369145286,9277.565302253028,9997.21774362263,1153.4236714641943,98.86395901949952,7141.208862947527,9311.179670922023,5347.882780558873,9554.564532696806,910.8839008592662,4308.619317799796,6874.601613246615,2679.205556971045,384.81945018682296,3040.05815163058,9752.611819814321,5952.825646463874,8219.823673836356],\"y\":[3994.414339590865,371.0642444236623,6734.098198210073,2365.3054673792863,2141.386588949842,4818.139726754016,4186.658694920306,9099.227348648214,9118.937547831805,2895.421245034189,6948.94789937433,7536.654046935823,7892.103778028444,8228.424296042285,7077.907124747402,3952.268343743149,1633.2025193539757,8385.951114989399,7501.937727821515,8291.427271726448,5059.815559776552,4985.37876130304,1986.1143171958784,5840.032965322283,4015.7726252001203,1387.942974663644,2442.722728008678,4181.697000778779,5691.677908189708,4777.541125384668],\"z\":[8312.767518373657,9291.383772894214,7555.35480955683,168.5206791923577,6699.175832986483,4897.912429501263,7798.907044098852,6202.380727488462,9949.999458959372,6093.411948271897,3907.9311646469996,6470.262007829519,9469.998476966428,1576.0158373057598,8819.733355355775,5537.556615278725,681.5615469376235,8882.794139512835,6061.238990741932,5848.922299702876,4261.007874032577,3503.1187345015815,6243.609831240186,256.436515892805,3043.87763682188,5858.3639241385345,7339.4096206708355,5040.579395138661,2322.9134123571725,9792.046932295652]}]},{\"name\":\"series 38 (F38)\",\"data\":[{\"name\":\"series 38 (F38)\",\"type\":\"scatter3d\",\"mode\":\"markers\",\"x\":[279.48814031315106,9983.192985626021,3654.9968038152015,2435.212394558861,9580.584372085403,5303.507242237244,8748.395991636839,8095.074719892123,5950.973730055317,82.78620276194526,519.2506246017803,8160.629574659149,4120.314107061086,3180.095698423728,2986.29865528942,4927.151829648719,4501.174493125028,5581.146779573346,315.43331871371595,9712.19900980733,1713.5574095315076,2624.126196334917,8030.747933063614,4668.9431507657355,6490.053260987628,5610.87245380683,6176.314797020138,3298.357760779598,28.0930243517441,4938.715811877643],\"y\":[5043.011488886607,6819.987927203004,1467.0988932684936,1077.7479378571543,8967.29699916189,2281.7357084837954,9842.151063168283,5470.24290559279,2663.908136840627,3572.2962396323765,1602.1258510520474,743.4046916706594,7572.031389588492,8345.584388322244,3579.084208826859,8503.567396700611,2774.58304715678,2274.6898796500745,9157.017096985106,3419.4296740663976,6192.804045212884,7023.610229648719,2311.886031199123,4303.856978316565,6963.4593622397115,9858.204596492582,181.22147700552648,6468.2370817995925,9173.506278846484,913.5235367483796],\"z\":[9870.370717119464,4750.331811672592,457.1777780127473,8792.864326253324,9313.818712920958,3306.0145897475636,6352.998796051979,6394.61443601083,5183.826021178674,6507.2417645478945,2773.340302486058,6646.138050850278,3074.9644272573505,5103.058325060216,4456.685019896389,2169.6719686025535,6491.952622478674,3177.3865710757664,6852.86550000657,3813.397123804965,1529.5266159685118,4376.808014149398,2534.104039933444,451.55434955919895,3556.9031097053526,383.49305263634335,929.7728487024592,6490.6785691823425,705.7285981295724,672.8937786444034]}]},{\"name\":\"series 39 (F39)\",\"data\":[{\"name\":\"series 39 (F39)\",\"type\":\"scatter3d\",\"mode\":\"markers\",\"x\":[1950.3581493455347,4114.725753040119,6509.229532792748,222.76119261212978,9896.204935191292,4460.073159327516,651.607697537262,1029.5089249143641,3939.1832659059223,5632.0727855662535,2460.557735424639,4039.8911930594018,5420.502655373036,5758.046534463631,6512.10490885728,420.4207248254477,225.4805534527271,6117.308779920561,3515.79554400165,4963.905168717524,6576.142517906025,2797.008220979138,2509.5963678635967,9871.930179572344,4725.1158259018375,5293.284957490775,2317.6902706050782,4154.074935856987,5239.353081832275,7010.439568183598],\"y\":[1210.680462799647,2449.0958189899816,6829.803187845139,5706.514431065319,3756.548044509412,7200.268433801136,3013.219699456029,1591.8938957383143,2962.031033877227,9806.53185763272,9284.884485650164,7008.226233216996,3977.9251398625083,9623.028695313993,8936.090349110978,4398.1821812209555,2878.131466518533,4499.094642439876,6167.816180230195,8622.259738127847,321.10746486988637,2918.6951469743194,9732.096869820662,5587.054078257532,5263.70154096746,5747.76853283867,8975.176332988034,1620.1118191124008,8321.186815480221,5094.882273315398],\"z\":[6861.6019237959,7059.690500407354,7853.627597044663,8856.065073597665,1326.0056257824103,3123.451356523659,4407.550133414235,2141.6280335539263,7129.386222291161,3278.3155495775873,753.2116764686159,972.247122822426,5289.293690809945,9054.410234549367,5431.590148016695,9383.52177477523,6108.387011315986,5529.24678086781,7461.549232941672,8392.690826830987,4843.422361571681,3553.9658141119558,8656.45431232598,4158.1275321710955,6136.8001920550005,4201.68912392963,7860.851146929171,3101.6979238647123,4475.381069624792,5888.727671164209]}]},{\"name\":\"series 40 (F40)\",\"data\":[{\"name\":\"series 40 (F40)\",\"type\":\"scatter3d\",\"mode\":\"markers\",\"x\":[8341.641232404745,3766.0140248193707,3146.3602762422847,6152.589590096596,5554.5179216970755,8743.07029979668,3427.5633905852565,8166.439340763058,7555.257551518467,5137.701947689369,9079.60928474493,6727.865014409425,4436.783362158094,8718.759650322201,8599.961379692453,9680.50718566136,6346.751417245347,5162.844413216418,9153.967075968021,8510.312734728603,1876.737624748539,1609.9055884038937,1615.5652847911451,6203.873015758696,9912.927371971487,3126.9503235657116,5730.415776957803,1364.5193627857989,8399.542395031696,1615.5734868340232],\"y\":[8056.78654364048,5052.537436250443,2890.0648298251317,9200.964813295288,3044.6120704139544,849.0795610229329,6247.65039092997,4204.5051711691085,9380.711429888104,9239.04928421746,8404.943862916762,5429.018257171805,9558.23710476131,4566.434839169705,1704.8445559847714,9675.193976416913,521.0007959273844,6536.2759546052575,3017.596809154366,8159.6564182270085,7188.3996431371115,8520.64942530905,8565.90340359935,9819.598996364364,8684.249609969342,1771.7605130976476,1188.5951614477474,3365.8658385118033,9172.902888996337,8053.431511747793],\"z\":[2634.7125705293215,5385.8086233161985,1348.6142104609255,3172.9852397111167,5403.685705716987,8799.203694874534,829.1875494532086,428.7150677967955,9633.628370023831,4534.9660464645085,3972.5246259656833,6083.850257329759,588.5861870828202,9423.348531900363,9964.764926822663,8636.11253143466,1406.910646167292,4987.772096571236,421.29144826039135,9872.679065897353,3946.757079357248,5072.381168844174,6196.951630904383,8483.553795476688,7801.034221597522,5055.873560329571,1619.4212540024532,6352.067608607695,3852.9575765437617,1779.1097340022843]}]},{\"name\":\"series 41 (F41)\",\"data\":[{\"name\":\"series 41 (F41)\",\"type\":\"scatter3d\",\"mode\":\"markers\",\"x\":[939.7185848861345,3549.420533624439,4104.693483435378,1253.453022638601,436.45192536675756,530.8838479323597,3935.4006678319743,718.752519197956,2315.4655448799476,5064.490909488602,6431.311709281704,2684.330371813909,3314.121492477773,7018.734701344429,979.3199596501845,1213.2868708789035,1749.537605764001,6294.007364744955,9926.867368436742,4899.891504427829,1642.681773529785,7903.211114373464,7784.7590084413605,6741.783100414043,1505.2903684895691,3490.176196522682,7185.851011854516,8423.151459075636,8394.17185103134,420.2237250076935],\"y\":[4611.398137406043,5402.028873372846,4917.5213591130005,7985.416910097005,6758.163719388694,9634.27131555745,8020.459158293947,5237.742206758714,5343.229277360225,8768.76343290357,3582.0780254965744,6496.670429514435,4129.771090371444,4212.835269208306,123.86656736235402,8673.24977582916,7005.890750213692,5593.827489522761,8259.45371795629,9211.078862310407,59.9245656456604,5832.203268058432,9908.192432942573,4665.2266202509045,3769.4778251290763,9293.546865833598,2750.1871207010777,7723.349253708813,3657.7620554353052,5301.2534456658],\"z\":[917.9402698914763,4818.974406986522,9069.638209152305,668.6593792699801,2499.8749757195405,7395.11633614325,81.10167283101211,7848.821169135346,8073.568818620193,7347.092570123503,1979.7662907179192,9802.09805949489,2191.6112562787316,1206.613356728181,5240.240174746681,8746.154225079112,1510.5744821093792,8224.92263397329,6467.108054534786,3579.9427912532046,9083.667027533635,4670.965466979193,2389.5678984674087,9962.690739514286,4230.218900545347,381.26881551303507,4665.591156807921,7780.855043929338,1350.2199045809093,3881.4167690673307]}]},{\"name\":\"series 42 (F42)\",\"data\":[{\"name\":\"series 42 (F42)\",\"type\":\"scatter3d\",\"mode\":\"markers\",\"x\":[7989.814999394187,3050.4762997153935,9069.71670201317,9244.711234487937,7798.189024563887,5179.304574860287,3182.949953158786,1261.8070675286008,6723.7393624953675,5952.5305248020495,2999.6904583086957,5465.820646164331,881.6351816690504,3607.904034253163,911.3110178324557,6090.604130801395,8048.069279436808,3930.476945375355,9256.711833113284,8135.590652522352,9846.298825976513,424.16162535642957,6899.29141714043,9368.811907355486,9164.513424569051,7306.746662501755,318.7360260990224,4320.397126442207,2204.0318252207335,2326.965885088841],\"y\":[476.47708836053516,5102.061320349223,1792.6509982260586,1216.6716580141956,7231.245594481808,3233.7989420277213,4896.805234147204,1968.1134093275298,7661.228513667813,2567.197752585053,2627.515092054471,5065.777108842322,3291.9138103280734,5865.491906289587,5458.941402676874,5304.19485465794,3933.783839790722,6633.679668809632,9864.67864305505,1887.5865656847734,2601.601474464177,3387.7284207100433,5125.758809017237,6134.1477311070585,6817.102726687582,5710.098240297704,675.6599798629759,297.25225446177615,6489.499505962642,159.51558747527184],\"z\":[5021.440828420339,6767.791690191694,7523.260133600009,9386.131450190549,7016.457551466095,4236.3235412972035,3320.228620350999,9648.903916368226,9058.938344436467,6270.658622599358,3423.2064406504046,340.24589728943846,9652.026446045222,8203.965148916048,9690.711619267116,4093.6807627184726,9684.724938450194,230.42693683995142,5597.701698729957,7583.458063141353,2779.5108349897414,8169.9377926774705,3524.6247618293814,1220.7759585360068,5101.208529377226,8490.277176063257,8227.242417500966,609.4666954954897,4133.0424910810725,864.6551338093388]}]},{\"name\":\"series 43 (F43)\",\"data\":[{\"name\":\"series 43 (F43)\",\"type\":\"scatter3d\",\"mode\":\"markers\",\"x\":[2072.249626404241,3844.7005472539518,9099.620658000347,9794.477524816539,9078.786821614814,6521.471276717463,7952.920931507488,6641.627110361192,323.5282822550545,665.3225824342123,7136.189895526114,4791.514351280492,2847.0966124403517,4705.986367594577,701.9837700809528,3607.6043630054523,7842.142956237287,9085.298144146198,4784.413790812227,1340.0776033565498,1608.5042201420574,6123.966273578441,1911.9843939414272,3215.7352318141075,4528.425770738815,3367.467568342959,7196.243211922057,8563.21702370766,9144.920975699562,6789.550941485385],\"y\":[5042.785027578608,17.046688379411812,8318.915044164643,3952.529753032603,704.9883555556357,8595.97833157329,8395.894368144009,7506.7477572183525,5737.179989776598,765.5658203064553,330.37021216989035,6257.30848537709,202.76333475160448,7471.83511294332,3796.5322752944276,4434.358736920455,7354.163092270151,572.3882405571412,5456.056571028102,9773.920151743378,8425.277500822367,9093.224151301325,2759.102109752206,7549.468303664468,6163.447354701231,6304.011156260522,8922.112869914281,790.1589355073746,5776.788398260176,8731.50329328313],\"z\":[3056.1200117219887,6579.804047814894,1084.053890390987,9920.241418276726,1811.8148161347958,4551.409684199549,1828.0286063957274,5001.637867827594,5362.742426259644,6475.279479184999,5349.779851149397,6946.990698194006,1065.5468495313125,5184.401645066229,2119.9190568669947,1756.9328905204407,2716.2699066034347,6989.035862991186,9984.359528922885,7779.271168784168,1964.2929404109377,4203.115411303799,6405.8795160579675,3849.121169527303,1150.5797280199192,3438.2938613606852,1469.1293220660284,2009.7043561365635,3604.4631630722647,917.1559055108081]}]},{\"name\":\"series 44 (F44)\",\"data\":[{\"name\":\"series 44 (F44)\",\"type\":\"scatter3d\",\"mode\":\"markers\",\"x\":[6965.552025314676,3199.119105893026,8263.296781291734,8215.325888413017,8486.010738543433,8477.853931792679,371.862552448573,562.903519097765,8122.747168534303,4123.7660415504815,8973.516573563955,5118.863402444073,5118.623410446636,6235.697273769896,4922.620411548165,8477.756010682231,600.4257561850945,9363.85648912428,227.89256239098887,1076.2519058784392,394.3398334404924,4124.547831395168,678.8888868931253,1137.7742507844646,6845.530489218676,758.7789362043052,8912.899192009112,2326.665417827205,6550.095370145844,9158.737385890074],\"y\":[4347.125179840316,7379.042702217673,5956.477733240866,1013.0727188427912,9731.085763403045,4635.6919233181725,904.7660506367828,6411.377617702852,1466.768669677543,5623.059884156517,9346.12344486194,5500.217923548625,2299.1312405929675,9611.604916796996,8720.925995425765,5597.5052296514505,497.12649681482367,5426.467697621153,773.0150942260105,5548.968545933839,9225.51281503037,1693.6308303325998,6938.795876527827,2049.9301113789957,3450.279552515932,4175.435530912722,6873.742061018537,7157.541555606005,9425.603024394959,2882.527240608024],\"z\":[1165.1987868312797,2283.0956370631384,3577.8219019495336,2245.009438347858,6829.197614550303,1580.9757462460184,3432.0034048035773,4783.781123589374,800.3318786281266,6840.263056794242,3119.2438733715258,2443.740746206241,2297.5639866414267,6736.971306831399,9957.932378449808,33.74436063401376,9685.167384816745,5619.334512487718,6619.776385072074,2063.903112640033,1246.8334243863378,875.5239184388253,5471.476175249111,7679.013902285547,2152.2980146468008,3372.6262662164554,7825.502347056412,8357.615897232105,1819.6791902148523,2457.6651321498875]}]},{\"name\":\"series 45 (F45)\",\"data\":[{\"name\":\"series 45 (F45)\",\"type\":\"scatter3d\",\"mode\":\"markers\",\"x\":[1038.517137746866,9579.373122964449,6863.034898595113,5575.904362148648,663.553826679969,759.1810043067615,4863.486043569011,2688.6215658950528,3192.149772486086,7404.604231493517,3313.574787875971,7361.995576575683,7315.202677852047,5673.9493420463195,6258.355289197925,9650.705048288899,8086.401504795424,2295.4859609869804,8393.046247796541,714.2855046863506,8889.660566313807,2154.0272652669146,2675.895938047053,5481.2484079599435,692.0638063284334,1759.2879676644025,2876.2478996763784,7615.418352205574,6706.399294354418,9281.137579284949],\"y\":[6901.613563971239,540.8956836668732,3292.4538560643537,870.0745974962621,233.89299539584795,9346.50767285074,4693.802365582149,8576.94435514049,1353.7122020440872,1017.5624222799906,36.91307465365834,7344.131610910735,2643.169579496357,4632.173439287652,5911.965771165813,7261.158443288988,931.117965966537,8911.377000588025,6809.857998952852,2560.8257677537363,1581.4313424610782,1826.7158061263033,8707.452307146601,677.7316694289526,8823.539208806576,5845.91632832916,8173.195573578803,3099.2139174697863,2885.831623848708,2836.740729121079],\"z\":[507.82030996219584,4709.456078036302,1416.3768964619894,4651.047538958699,5639.915569612299,9860.709336027398,8661.71067701996,8975.546383505236,9763.732982428288,1501.277473871694,923.2933870612848,5162.688951046361,4036.671238705609,4348.1214330158955,922.552006890599,1444.586514199796,9046.463460372355,4312.6386584561415,6879.2579795605325,3184.8022793446894,5213.162626357292,4171.379774187022,4344.316774863597,1637.318841262796,4808.609764286101,9819.162580356648,126.87481704802606,4058.9285588577363,856.1340251380689,2350.2547430721456]}]},{\"name\":\"series 46 (F46)\",\"data\":[{\"name\":\"series 46 (F46)\",\"type\":\"scatter3d\",\"mode\":\"markers\",\"x\":[8016.972901938138,8960.757857068698,1815.827410116544,8683.988784620402,5428.813668682857,4786.581176561741,8665.79753293939,7484.388692674855,8576.026299526093,6370.036189776211,2757.39762335832,7719.076881972193,1339.1486542387033,1149.8075055315371,8652.496506708507,4360.948346247817,9596.87197656076,6311.293497045248,6043.439303096214,9456.786325294213,8466.421635382792,8775.23141853733,8811.421100259086,7070.2116276014485,4634.77386803886,2268.2017584270952,7296.579923445633,7452.048821706128,9761.24196867808,9586.891081591975],\"y\":[1933.186770894767,9199.403181726144,3793.2861416915475,3607.442726638835,2545.8961267432633,8135.443189305238,8961.234948596064,7593.181696810188,7808.0908491611135,8175.086178240177,6203.931905976984,3918.4454375706246,3630.9391214298234,2537.48623016978,5826.1507100340605,453.21796758889144,7581.857683934324,3324.4306934152823,3299.9467861780417,5542.701103858803,8823.652435227486,3704.451589353566,9295.94748324629,5767.928414161698,9520.68589254025,9725.662165472719,266.90366432669646,5487.964260448894,4176.001383384826,8126.030544004035],\"z\":[2204.6607471652023,3541.1929597754456,7943.409345699166,2418.010293407634,5553.029551511553,422.65502828989776,3601.120088958346,1995.1442336403236,3682.870311377229,8756.336288070854,9578.585640507243,8041.465673830622,822.027088493974,945.7739722871439,8195.792807200192,5620.223585403414,7881.5803745022495,513.2927877577409,4104.323318721158,3476.659107160455,6231.214250892447,7827.6415139286455,7812.081276979811,1810.2668178439974,150.32049142165826,6671.748954150157,8128.6606149813215,3555.1752634994505,8417.792296169073,5416.7752373573985]}]},{\"name\":\"series 47 (F47)\",\"data\":[{\"name\":\"series 47 (F47)\",\"type\":\"scatter3d\",\"mode\":\"markers\",\"x\":[385.9079222692119,6552.98653022916,4302.285700853987,5445.584204552477,4368.3093019201115,2410.6137768803014,1076.0585834158687,9908.218613926494,7030.41310862467,2806.363338985117,7099.322628135839,7893.913816393428,283.5748521686865,5540.709383710001,508.37154645991143,2668.630237178523,3401.8912858055696,723.9111392171338,8589.578846131639,7754.054274546856,2927.2652176100746,2150.824993663594,1032.6851218373013,1313.4502970358276,346.1259350967394,133.97415667350643,9430.623873751882,7561.718238509078,9265.40264964175,9849.128191266265],\"y\":[7629.461625788503,3731.4527145907928,9332.93090918981,3593.3633267863584,8830.858126427902,2503.7539769478003,3727.5485511154284,6263.765428945541,5710.778519179877,2752.0007838698534,686.7127932777239,835.6459821742224,9242.019613633156,5948.740578111748,7244.556007234673,4652.346123425649,394.4382780214006,1650.3106441410687,5120.865824025622,7934.401228116543,6435.601196026153,3100.7534110869883,4531.5612526768045,3074.048308542601,165.89747903762776,3186.0451230046992,1583.81243045035,7001.754763867666,6095.993189194041,1721.609730778777],\"z\":[8874.02611451644,9194.658428881085,2310.8240944444724,7370.540858226356,6924.503094040147,4742.502474582392,563.1601777642759,1366.9094231455215,6174.646637024896,5294.859982049752,1.0979878017869371,5657.989077883767,5385.184047292607,684.1402025051613,1857.6674974155994,5081.181007081151,2518.935830103457,552.0790491418503,3417.0669578555703,1755.87659757121,8429.250754833438,8403.106563503356,9620.869452305436,9997.447218920193,2017.2986531511672,166.20477395903555,9788.86907540885,1750.0036144365783,7911.995174753422,5567.555398032891]}]},{\"name\":\"series 48 (F48)\",\"data\":[{\"name\":\"series 48 (F48)\",\"type\":\"scatter3d\",\"mode\":\"markers\",\"x\":[5103.069137509488,5786.522456630251,4181.405760514844,3399.4920109814566,9739.634628710544,8739.387911533167,8102.061093541642,1116.9689694475692,4832.466776868009,2401.35260987006,2592.6841948277493,5100.962340016793,9813.38192417424,9676.370487639208,4561.421418211053,398.9245499326066,97.70488121263354,1061.7139488203775,9120.732522960143,7785.614169284225,3570.4169051549106,4607.2333436143235,391.6864290822197,1583.3267735725353,876.8255727462981,4924.577798169771,449.4770362661815,3838.755964197651,6133.050612078081,1008.6416837311518],\"y\":[2854.5594845245214,9174.417875293253,5345.4509882533475,8385.459531807714,6168.879117553621,9915.772057005397,9564.445117201763,8415.225211858982,5874.248957603212,2940.8791637638556,8597.00024426721,6456.059583182543,190.00570259500415,8107.636639172687,8963.405012043664,1033.609216315735,6429.65237439101,3084.3357724922857,6707.754845448225,8163.511505103779,9741.278675553858,942.4887444254105,1657.9200888650091,8538.207515561948,5344.121459386814,4966.577366648135,4779.584752700284,416.54946781216506,8703.711773383302,9793.57600123176],\"z\":[4380.278156888644,7744.090864279503,5480.6262184685465,9215.80662632921,93.149152947255,1283.9068763356431,4542.949720983498,8763.886295633843,5806.556093334338,352.2449036655162,2850.1216239221426,5532.229450403933,4004.382284452709,4130.257825402379,595.9227170295411,8617.774154630346,4343.304121141229,4462.52477347904,8640.940917932376,1013.2977330706972,8717.078434109706,6555.0171707483705,7969.924957285894,7829.898234307519,3544.234468198414,49.62590859480254,2677.017236432332,6318.917390667523,7564.388472240933,579.3078803527185]}]},{\"name\":\"series 49 (F49)\",\"data\":[{\"name\":\"series 49 (F49)\",\"type\":\"scatter3d\",\"mode\":\"markers\",\"x\":[3811.9362012776583,321.7796286460173,39.728282366495726,1097.3780630958263,1312.753173854715,5496.936886715719,9932.038539563066,3026.410326850998,5205.991269338688,1956.2958185789191,1361.9711375472366,9586.677539805018,5272.346919721756,7789.224238865107,4456.0872006633745,7541.00509038624,456.4169974474663,360.42079679233893,3548.5321226712376,9032.369362153315,5441.39048979754,2238.6487242999788,6628.028027857928,2192.5240076537834,2014.7432505042927,5146.525964326521,907.1967743549558,7764.392801662576,7118.549651315035,8417.277874976586],\"y\":[9440.05743155232,9107.917236603376,7808.106105850385,8102.551365893374,2824.8684725679864,4648.501476400142,5735.13979840293,9096.10232846679,8203.312242282684,5079.153978281234,226.94958416503374,5421.3628285438035,5003.348783579295,2441.870912142635,9550.40983591615,3176.603223598057,3171.895295935947,4590.767083967054,4529.843667012382,6539.606284234315,5004.810549959499,6478.907687332334,7330.346912184858,9704.470906868268,6105.500158343868,9212.752260048674,923.2296720397326,6656.370445083738,4489.776223564644,8882.569253767595],\"z\":[1517.8130903103115,6285.79001135459,9403.445268628568,9804.138729806182,7073.902305942891,2501.9726136423924,3030.412782586934,996.5107147790442,9901.829406225625,7726.004516972283,8942.933480371448,472.539307833294,312.0460972171846,3427.1787224587347,881.9568461849991,9233.36832338524,1293.8153484117388,3211.9709247626715,4254.346609431,5734.995181645891,1282.6347092457825,2383.1708206439184,595.0834884475231,2034.4936724995698,3218.6015171666295,2857.4163578158705,2166.388508789765,4825.428199082938,3303.0070359478636,3862.5728782018477]}]}]\n",
       "var labels_YD8zSjcrmR = [\"series 0 (F0)\",\"series 1 (F1)\",\"series 2 (F2)\",\"series 3 (F3)\",\"series 4 (F4)\",\"series 5 (F5)\",\"series 6 (F6)\",\"series 7 (F7)\",\"series 8 (F8)\",\"series 9 (F9)\",\"series 10 (F10)\",\"series 11 (F11)\",\"series 12 (F12)\",\"series 13 (F13)\",\"series 14 (F14)\",\"series 15 (F15)\",\"series 16 (F16)\",\"series 17 (F17)\",\"series 18 (F18)\",\"series 19 (F19)\",\"series 20 (F20)\",\"series 21 (F21)\",\"series 22 (F22)\",\"series 23 (F23)\",\"series 24 (F24)\",\"series 25 (F25)\",\"series 26 (F26)\",\"series 27 (F27)\",\"series 28 (F28)\",\"series 29 (F29)\",\"series 30 (F30)\",\"series 31 (F31)\",\"series 32 (F32)\",\"series 33 (F33)\",\"series 34 (F34)\",\"series 35 (F35)\",\"series 36 (F36)\",\"series 37 (F37)\",\"series 38 (F38)\",\"series 39 (F39)\",\"series 40 (F40)\",\"series 41 (F41)\",\"series 42 (F42)\",\"series 43 (F43)\",\"series 44 (F44)\",\"series 45 (F45)\",\"series 46 (F46)\",\"series 47 (F47)\",\"series 48 (F48)\",\"series 49 (F49)\"]\n",
       "var duration_YD8zSjcrmR = 100\n",
       "var config_YD8zSjcrmR = {\"responsive\":true,\"scrollZoom\":true,\"displaylogo\":false}\n",
       "\n",
       "var traces_YD8zSjcrmR = JSON.parse(JSON.stringify(frames_YD8zSjcrmR[0].data.map(x => x)))\n",
       "\n",
       "var animation_settings_YD8zSjcrmR = {\n",
       "    mode: \"immediate\",\n",
       "    direction: {},\n",
       "    fromcurrent: true,\n",
       "    frame: [\n",
       "      {duration: duration_YD8zSjcrmR},\n",
       "      {duration: duration_YD8zSjcrmR},\n",
       "      {redraw: true}\n",
       "    ],\n",
       "    transition: [\n",
       "      {duration: duration_YD8zSjcrmR, easing: 'cubic-in-out'},\n",
       "      {duration: duration_YD8zSjcrmR, easing: 'cubic-in-out'},\n",
       "    ],\n",
       "    ordering: \"layout first\"\n",
       "}\n",
       "\n",
       "var slider_YD8zSjcrmR = document.createElement(\"input\")\n",
       "var play_YD8zSjcrmR = document.getElementById(\"play_YD8zSjcrmR\")\n",
       "var pause_YD8zSjcrmR = document.getElementById(\"pause_YD8zSjcrmR\")\n",
       "slider_YD8zSjcrmR.id = \"slider_YD8zSjcrmR\"\n",
       "slider_YD8zSjcrmR.type = \"range\"\n",
       "slider_YD8zSjcrmR.min = 0\n",
       "slider_YD8zSjcrmR.max = frames_YD8zSjcrmR.length - 1\n",
       "slider_YD8zSjcrmR.value = 0\n",
       "document.getElementById(\"sliderContainer_YD8zSjcrmR\").appendChild(slider_YD8zSjcrmR);\n",
       "\n",
       "Plotly.newPlot(graph_YD8zSjcrmR, traces_YD8zSjcrmR, layout_YD8zSjcrmR, config_YD8zSjcrmR)\n",
       ".then(function () { Plotly.addFrames(graph_YD8zSjcrmR, frames_YD8zSjcrmR) })\n",
       "\n",
       "var trigger_YD8zSjcrmR = true\n",
       "var reset_count_YD8zSjcrmR = false\n",
       "\n",
       "play_YD8zSjcrmR.addEventListener('click', async function() {\n",
       "   trigger_YD8zSjcrmR = true\n",
       "   if (reset_count_YD8zSjcrmR) {\n",
       "      slider_YD8zSjcrmR.value = 0\n",
       "      reset_count_YD8zSjcrmR = false\n",
       "   }\n",
       "\n",
       "  const start_index = slider_YD8zSjcrmR.value == labels_YD8zSjcrmR.length - 1 ? 0 : slider_YD8zSjcrmR.value\n",
       "  const end_index = labels_YD8zSjcrmR.length\n",
       "  await Plotly.animate(graph_YD8zSjcrmR, labels_YD8zSjcrmR.slice(start_index, end_index), animation_settings_YD8zSjcrmR)\n",
       "})\n",
       "\n",
       "pause_YD8zSjcrmR.addEventListener('click', async function() {\n",
       "  await Plotly.animate(graph_YD8zSjcrmR, [null], animation_settings_YD8zSjcrmR)\n",
       "  trigger_YD8zSjcrmR = false;\n",
       "})\n",
       "\n",
       "graph_YD8zSjcrmR.on('plotly_redraw', () => {\n",
       "   value_YD8zSjcrmR.innerHTML = slider_YD8zSjcrmR.value;\n",
       "   if (trigger_YD8zSjcrmR & !reset_count_YD8zSjcrmR) ++slider_YD8zSjcrmR.value\n",
       "   if (slider_YD8zSjcrmR.value == labels_YD8zSjcrmR.length - 1) reset_count_YD8zSjcrmR = true\n",
       "});\n",
       "\n",
       "slider_YD8zSjcrmR.oninput = async function() {\n",
       "   await Plotly.animate(graph_YD8zSjcrmR, frames_YD8zSjcrmR[this.value], animation_settings_YD8zSjcrmR)\n",
       "   trigger_YD8zSjcrmR = false\n",
       "   slider_YD8zSjcrmR.value = this.value\n",
       "   value_YD8zSjcrmR.innerHTML = this.value;\n",
       "   if (this.value == 0) reset_count_YD8zSjcrmR = false\n",
       "   if (this.value == labels_YD8zSjcrmR.length - 1) reset_count_YD8zSjcrmR = true\n",
       "   reset_count_YD8zSjcrmR = false\n",
       "}\n",
       "\n",
       "next_YD8zSjcrmR.addEventListener('click', function() {\n",
       "    if (slider_YD8zSjcrmR.value == labels_YD8zSjcrmR.length - 1) {\n",
       "        reset_count_YD8zSjcrmR = true;\n",
       "        return;\n",
       "    }\n",
       "    ++slider_YD8zSjcrmR.value;\n",
       "    value_YD8zSjcrmR.innerHTML = slider_YD8zSjcrmR.value;\n",
       "    trigger_YD8zSjcrmR = false;\n",
       "    slider_YD8zSjcrmR.oninput();\n",
       "})\n",
       "\n",
       "prev_YD8zSjcrmR.addEventListener('click', function() {\n",
       "    if (slider_YD8zSjcrmR.value == 0) {\n",
       "        reset_count_YD8zSjcrmR = false;\n",
       "        return;\n",
       "    }\n",
       "    --slider_YD8zSjcrmR.value;\n",
       "    value_YD8zSjcrmR.innerHTML = slider_YD8zSjcrmR.value;\n",
       "    trigger_YD8zSjcrmR = false;\n",
       "    slider_YD8zSjcrmR.oninput();\n",
       "})\n",
       "\n",
       "</script> \n"
      ]
     },
     "metadata": {},
     "output_type": "display_data"
    }
   ],
   "source": [
    "val series = createXYZSeries(numberToCreate = 50, length = 30)\n",
    "\n",
    "val chart = (\n",
    "  Chart(animated = true)\n",
    "  setTitle \"Animation 3D\"\n",
    "  addSeries series\n",
    "  setXAxisLimits(0, 1E4)\n",
    "  setYAxisLimits(0, 1E4)\n",
    "  setZAxisLimits(0, 1E4)\n",
    "  drawZAxisLog true\n",
    ")\n",
    "\n",
    "chart.plotInline"
   ]
  },
  {
   "cell_type": "markdown",
   "metadata": {},
   "source": [
    "## IO + Utility Functions\n",
    "\n",
    "The library also comes with some basic CSV IO functions and a utility function for breaking down data"
   ]
  },
  {
   "cell_type": "code",
   "execution_count": 50,
   "metadata": {},
   "outputs": [],
   "source": [
    "import org.carbonateresearch.picta.IO._\n",
    "import org.carbonateresearch.picta.common.Utils.getSeriesbyCategory"
   ]
  },
  {
   "cell_type": "code",
   "execution_count": 51,
   "metadata": {},
   "outputs": [
    {
     "name": "stdout",
     "output_type": "stream",
     "text": [
      "/Users/fazi/Desktop/Final Project/picta\n"
     ]
    }
   ],
   "source": [
    "val working_directory = getWorkingDirectory\n",
    "\n",
    "println(working_directory)"
   ]
  },
  {
   "cell_type": "code",
   "execution_count": 52,
   "metadata": {},
   "outputs": [],
   "source": [
    "// by providing a path, we can read in a CSV\n",
    "val filepath = working_directory + \"/iris_csv.csv\"\n",
    "\n",
    "val data = readCSV(filepath)\n",
    "\n",
    "// by default, CSV are read in as strings. However we can convert the individual columns to the correct format\n",
    "val sepal_length = data(\"sepallength\").map(_.toDouble)\n",
    "val petal_width = data(\"petalwidth\").map(_.toDouble)\n",
    "val categories = data(\"class\")"
   ]
  },
  {
   "cell_type": "code",
   "execution_count": 53,
   "metadata": {},
   "outputs": [
    {
     "data": {
      "text/html": [
       "<div id=\"grid-container_LPnYRJp5S2\" class=\"grid-container\" align=\"center\"> \n",
       "<div id=\"grid_LPnYRJp5S2\" class=\"grid\" align=\"center\"> \n",
       "<div id=\"graph_n6x1ca3gk4\" class=\"graph\"></div> \n",
       "</div> \n",
       "</div> \n",
       "<script>\n",
       "var masonry = new Macy({\n",
       "    container: '#grid_LPnYRJp5S2',\n",
       "    debug: true,\n",
       "    mobileFirst: true,\n",
       "    columns: 1,\n",
       "    margin: {\n",
       "        x: 0,\n",
       "        y: 50\n",
       "    }\n",
       "  });\n",
       "\n",
       "  var traces_n6x1ca3gk4 = [{\"name\":\"YWK4b8DBqh\",\"type\":\"scatter\",\"mode\":\"markers\",\"x\":[5.9,6.2,6.5,6.3,6.7,6.7,6.8,5.8,6.9,6.7,6.9,6,6.4,6.3,7.7,6.1,6.3,6.4,7.9,7.4,7.2,6.4,6.1,6.2,7.2,6.7,6.3,7.7,5.6,6.9,6,7.7,7.7,6.5,6.4,5.8,5.7,6.8,6.4,6.5,7.2,6.7,7.3,4.9,7.6,6.5,6.3,7.1,5.8,6.3,5.7,5.1,6.2,5.7,5.7,5.6,5,5.8,6.1,5.5,5.5,5.6,6.3,6.7,6,5.4,6,5.8,5.5,5.5,5.7,6,6.7,6.8,6.6,6.4,6.1,6.3,6.1,5.9,5.6,6.2,5.8,5.6,6.7,5.6,6.1,6,5.9,5,5.2,6.6,4.9,6.3,5.7,6.5,5.5,6.9,6.4,7,5,5.3,4.6,5.1,4.8,5.1,5,4.4,4.5,5,5.1,4.4,4.9,5.5,5,4.9,5.5,5.2,5.4,4.8,4.7,5.2,5.2,5,5,4.8,5.1,4.6,5.1,5.4,5.1,5.7,5.1,5.4,5.7,5.8,4.3,4.8,4.8,5.4,4.9,4.4,5,4.6,5.4,5,4.6,4.7,4.9,5.1],\"y\":[1.8,2.3,2,1.9,2.3,2.5,2.3,1.9,2.3,2.4,2.1,1.8,1.8,2.4,2.3,1.4,1.5,2.2,2,1.9,1.6,2.1,1.8,1.8,1.8,2.1,1.8,2,2,2.3,1.5,2.3,2.2,1.8,2.3,2.4,2,2.1,1.9,2,2.5,1.8,1.8,1.7,2.1,2.2,1.8,2.1,1.9,2.5,1.3,1.1,1.3,1.3,1.2,1.3,1,1.2,1.4,1.2,1.3,1.3,1.3,1.5,1.6,1.5,1.6,1.2,1,1.1,1,1.5,1.7,1.4,1.4,1.3,1.2,1.5,1.3,1.8,1.1,1.5,1,1.5,1.4,1.3,1.4,1,1.5,1,1.4,1.3,1,1.6,1.3,1.5,1.3,1.5,1.5,1.4,0.2,0.2,0.2,0.2,0.3,0.4,0.6,0.2,0.3,0.3,0.2,0.2,0.1,0.2,0.2,0.1,0.2,0.1,0.4,0.2,0.2,0.2,0.2,0.4,0.2,0.2,0.5,0.2,0.4,0.2,0.3,0.3,0.3,0.4,0.4,0.2,0.1,0.1,0.2,0.2,0.1,0.2,0.2,0.3,0.4,0.2,0.2,0.2,0.2,0.2]}];\n",
       " var layout_n6x1ca3gk4 = {\"height\":550,\"width\":600,\"hovermode\":\"closest\",\"title\":{\"text\":\"Uninformative Chart\"},\"showlegend\":true};\n",
       " var config_n6x1ca3gk4 = {\"responsive\":true,\"scrollZoom\":true,\"displaylogo\":false};\n",
       " Plotly.newPlot(\"graph_n6x1ca3gk4\", traces_n6x1ca3gk4, layout_n6x1ca3gk4, config_n6x1ca3gk4);\n",
       "</script> \n"
      ]
     },
     "metadata": {},
     "output_type": "display_data"
    }
   ],
   "source": [
    "val series = XY(sepal_length, petal_width) asType SCATTER drawStyle MARKERS\n",
    "\n",
    "val chart = Chart() addSeries series setTitle \"Uninformative Chart\"\n",
    "\n",
    "chart.plotInline"
   ]
  },
  {
   "cell_type": "markdown",
   "metadata": {},
   "source": [
    "The above chart is not very informative. However since we have the per data point category labels, we can use the utility function to display the data in the different clusters"
   ]
  },
  {
   "cell_type": "code",
   "execution_count": 54,
   "metadata": {},
   "outputs": [
    {
     "data": {
      "text/html": [
       "<div id=\"grid-container_hLCJDCzcV0\" class=\"grid-container\" align=\"center\"> \n",
       "<div id=\"grid_hLCJDCzcV0\" class=\"grid\" align=\"center\"> \n",
       "<div id=\"graph_WxLcdijM2V\" class=\"graph\"></div> \n",
       "</div> \n",
       "</div> \n",
       "<script>\n",
       "var masonry = new Macy({\n",
       "    container: '#grid_hLCJDCzcV0',\n",
       "    debug: true,\n",
       "    mobileFirst: true,\n",
       "    columns: 1,\n",
       "    margin: {\n",
       "        x: 0,\n",
       "        y: 50\n",
       "    }\n",
       "  });\n",
       "\n",
       "  var traces_WxLcdijM2V = [{\"name\":\"Iris-versicolor\",\"type\":\"scatter\",\"mode\":\"markers\",\"x\":[7,6.4,6.9,5.5,6.5,5.7,6.3,4.9,6.6,5.2,5,5.9,6,6.1,5.6,6.7,5.6,5.8,6.2,5.6,5.9,6.1,6.3,6.1,6.4,6.6,6.8,6.7,6,5.7,5.5,5.5,5.8,6,5.4,6,6.7,6.3,5.6,5.5,5.5,6.1,5.8,5,5.6,5.7,5.7,6.2,5.1,5.7],\"y\":[1.4,1.5,1.5,1.3,1.5,1.3,1.6,1,1.3,1.4,1,1.5,1,1.4,1.3,1.4,1.5,1,1.5,1.1,1.8,1.3,1.5,1.2,1.3,1.4,1.4,1.7,1.5,1,1.1,1,1.2,1.6,1.5,1.6,1.5,1.3,1.3,1.3,1.2,1.4,1.2,1,1.3,1.2,1.3,1.3,1.1,1.3]},{\"name\":\"Iris-setosa\",\"type\":\"scatter\",\"mode\":\"markers\",\"x\":[5.1,4.9,4.7,4.6,5,5.4,4.6,5,4.4,4.9,5.4,4.8,4.8,4.3,5.8,5.7,5.4,5.1,5.7,5.1,5.4,5.1,4.6,5.1,4.8,5,5,5.2,5.2,4.7,4.8,5.4,5.2,5.5,4.9,5,5.5,4.9,4.4,5.1,5,4.5,4.4,5,5.1,4.8,5.1,4.6,5.3,5],\"y\":[0.2,0.2,0.2,0.2,0.2,0.4,0.3,0.2,0.2,0.1,0.2,0.2,0.1,0.1,0.2,0.4,0.4,0.3,0.3,0.3,0.2,0.4,0.2,0.5,0.2,0.2,0.4,0.2,0.2,0.2,0.2,0.4,0.1,0.2,0.1,0.2,0.2,0.1,0.2,0.2,0.3,0.3,0.2,0.6,0.4,0.3,0.2,0.2,0.2,0.2]},{\"name\":\"Iris-virginica\",\"type\":\"scatter\",\"mode\":\"markers\",\"x\":[6.3,5.8,7.1,6.3,6.5,7.6,4.9,7.3,6.7,7.2,6.5,6.4,6.8,5.7,5.8,6.4,6.5,7.7,7.7,6,6.9,5.6,7.7,6.3,6.7,7.2,6.2,6.1,6.4,7.2,7.4,7.9,6.4,6.3,6.1,7.7,6.3,6.4,6,6.9,6.7,6.9,5.8,6.8,6.7,6.7,6.3,6.5,6.2,5.9],\"y\":[2.5,1.9,2.1,1.8,2.2,2.1,1.7,1.8,1.8,2.5,2,1.9,2.1,2,2.4,2.3,1.8,2.2,2.3,1.5,2.3,2,2,1.8,2.1,1.8,1.8,1.8,2.1,1.6,1.9,2,2.2,1.5,1.4,2.3,2.4,1.8,1.8,2.1,2.4,2.3,1.9,2.3,2.5,2.3,1.9,2,2.3,1.8]}];\n",
       " var layout_WxLcdijM2V = {\"height\":550,\"width\":600,\"hovermode\":\"closest\",\"title\":{\"text\":\"Iris\"},\"showlegend\":true};\n",
       " var config_WxLcdijM2V = {\"responsive\":true,\"scrollZoom\":true,\"displaylogo\":false};\n",
       " Plotly.newPlot(\"graph_WxLcdijM2V\", traces_WxLcdijM2V, layout_WxLcdijM2V, config_WxLcdijM2V);\n",
       "</script> \n"
      ]
     },
     "metadata": {},
     "output_type": "display_data"
    }
   ],
   "source": [
    "val result = getSeriesbyCategory(categories, (sepal_length, petal_width))\n",
    "\n",
    "val chart = Chart() addSeries result setTitle \"Iris\" showLegend true\n",
    "\n",
    "chart.plotInline"
   ]
  },
  {
   "cell_type": "markdown",
   "metadata": {},
   "source": [
    "## Conus Integration\n",
    "\n",
    "Picta was originally created to help plot data in CoNuS and with Spark. A couple of utility functions make wrangling CoNuS data easier. Below is an example taken from the conus repo and plotting some variables of interest."
   ]
  },
  {
   "cell_type": "code",
   "execution_count": 55,
   "metadata": {},
   "outputs": [],
   "source": [
    "import org.carbonateresearch.picta.conus.Utils._\n",
    "import org.carbonateresearch.picta.{Canvas, Chart, XY}\n",
    "import org.carbonateresearch.conus.common.SingleModelResults\n",
    "import org.carbonateresearch.conus._\n",
    "\n",
    "import math._"
   ]
  },
  {
   "cell_type": "code",
   "execution_count": 56,
   "metadata": {
    "scrolled": false
   },
   "outputs": [
    {
     "name": "stdout",
     "output_type": "stream",
     "text": [
      "16:48:11.305 [CoNuS-akka.actor.default-dispatcher-3] INFO akka.event.slf4j.Slf4jLogger - Slf4jLogger started\n"
     ]
    },
    {
     "name": "stderr",
     "output_type": "stream",
     "text": [
      "SLF4J: A number (1) of logging calls during the initialization phase have been intercepted and are\n",
      "SLF4J: now being replayed. These are subject to the filtering rules of the underlying logging system.\n",
      "SLF4J: See also http://www.slf4j.org/codes.html#replay\n"
     ]
    },
    {
     "data": {
      "text/html": [
       "Variable <b>Number of Rats</b> with initial value of 2 Individuals  defined"
      ]
     },
     "metadata": {},
     "output_type": "display_data"
    },
    {
     "data": {
      "text/html": [
       "Variable <b>Death rate</b> with initial value of 0.0 %  defined"
      ]
     },
     "metadata": {},
     "output_type": "display_data"
    }
   ],
   "source": [
    "val simulator = new AlmondSimulator // We create an Almond specific simulator\n",
    "\n",
    "// We will now create a ver simple 2D CoNuS model. The model has a dimension of 3x3 grids, and each grid is meant to represent\n",
    "// about 100x100 meters of a field. We initialize the model with values ranging from 2.0 to 6.0. These represent the population \n",
    "// of rats living in each 100 sq meter of the field. We will run the simulation for 10 time step, each time step represents\n",
    "// one generation. We assume a perfect parity between male and female rat, and we also assume that each couple will have 10\n",
    "// babies per generation. In addition, we will simulate a death rate between 0 to 0.9 (0 to 90% of the population), assigned\n",
    "// randomly at each timestep and for each square. A major simplification is that each cell (square in the field) has its own\n",
    "// rat population, there is no movement of rats in between the different cells.\n",
    "\n",
    "// In CoNuS, values that will be calculated are know as model variables. Let's set a few\n",
    "val nbRats:ModelVariable[Int] = ModelVariable(\"Number of Rats\",2,\"Individuals\") //Notice this is an Int\n",
    "val deathRate:ModelVariable[Double] = ModelVariable(\"Death rate\",0.0,\"%\")\n",
    "\n",
    "// Let's initialise a few model conditions \n",
    "val numberOfSteps = 10\n",
    "\n",
    "// And let's create a function that, given a rat population and a deathRate, calculates a new population \n",
    "\n",
    "def survivingRats(initialPopulation:Int, deathRate:Double): Int = {\n",
    "    initialPopulation-math.floor(initialPopulation.toDouble*deathRate).toInt\n",
    "}\n"
   ]
  },
  {
   "cell_type": "code",
   "execution_count": 57,
   "metadata": {},
   "outputs": [
    {
     "name": "stdout",
     "output_type": "stream",
     "text": [
      "A total of 1 unique models were defined, attempting to create a list now.\n",
      "Models list successfully created.\n"
     ]
    },
    {
     "data": {
      "text/html": [
       "<b>Model characteristics</b><table class=\"table\"><tr><th>Feature</th><th>Value</th></tr><tr><td>Name</td><td>Simplified rat population dynamics</td></tr><tr><td>Nb of steps</td><td>10</td></tr><tr><td>Nb of models</td><td>1</td></tr><tr><td>Nb grid cells</td><td>9</td></tr><tr><td>Nb of operations per step</td><td>2</td></tr><tr><td>Total nb of operations</td><td>180</td></tr></table>"
      ]
     },
     "metadata": {},
     "output_type": "display_data"
    }
   ],
   "source": [
    "// Now we can create our model, step by step\n",
    "val ratPopulation = new SteppedModel(numberOfSteps,\"Simplified rat population dynamics\")\n",
    "    .setGrid(3,3) // 9 cells\n",
    "    .defineMathematicalModel( // In this super simple model we do only two things at each step\n",
    "      deathRate =>> {(s:Step) => scala.util.Random.nextDouble()*0.9}, // calculate a death rate\n",
    "      nbRats =>> {(s:Step) => {survivingRats(nbRats(s-1)+(nbRats(s-1)/2*10),deathRate(s))}} // calcuate the nb rats\n",
    "    )\n",
    "    .defineInitialModelConditions( // Now we need to determine the inital size of the population at each model grid\n",
    "      PerCell(nbRats,List(\n",
    "        (List(2),Seq(0,0)),\n",
    "        (List(2),Seq(0,1)),\n",
    "        (List(4),Seq(0,2)),\n",
    "        (List(4),Seq(1,0)),\n",
    "        (List(2),Seq(1,1)),\n",
    "        (List(6),Seq(1,2)),\n",
    "        (List(2),Seq(2,0)),\n",
    "        (List(4),Seq(2,1)),\n",
    "        (List(6),Seq(2,2)))))"
   ]
  },
  {
   "cell_type": "code",
   "execution_count": 60,
   "metadata": {},
   "outputs": [
    {
     "data": {
      "text/html": [
       "/2020-08-23-04-48-59\n",
       "RUN DATA\n",
       "Total number of models:1\n",
       "Number of cell per grid: 9\n",
       "Number of steps per model: 10\n",
       "Number of operation per step: 18\n",
       "Total number of operations: 180\n",
       "Available CPU cores: 8\n",
       "----------------------------------------\n",
       "RUN PROGRESS"
      ]
     },
     "metadata": {},
     "output_type": "display_data"
    }
   ],
   "source": [
    "// Now we run the model\n",
    "simulator.evaluate(ratPopulation)"
   ]
  },
  {
   "cell_type": "code",
   "execution_count": 61,
   "metadata": {
    "scrolled": false
   },
   "outputs": [
    {
     "data": {
      "text/html": [
       "<div id=\"grid-container_cHhqH8YX01\" class=\"grid-container\" align=\"center\"> \n",
       "<div id=\"grid_cHhqH8YX01\" class=\"grid\" align=\"center\"> \n",
       "<div id=\"graph_sBiO8jm2nZ\" class=\"graph\"></div> \n",
       "</div> \n",
       "</div> \n",
       "<script>\n",
       "var masonry = new Macy({\n",
       "    container: '#grid_cHhqH8YX01',\n",
       "    debug: true,\n",
       "    mobileFirst: true,\n",
       "    columns: 1,\n",
       "    margin: {\n",
       "        x: 0,\n",
       "        y: 50\n",
       "    }\n",
       "  });\n",
       "\n",
       "  var traces_sBiO8jm2nZ = [{\"name\":\"Death rate\",\"type\":\"scatter\",\"x\":[0,1,2,3,4,5,6,7,8],\"y\":[0.1146137913317397,0.2368679576227881,0.4914466569466239,0.19859462425662686,0.18560184578339112,0.816268230318801,0.6893861338899016,0.2689593676625194,0.7779774664470811,0.287638335761381]},{\"name\":\"Nb of rats\",\"type\":\"scatter\",\"yaxis\":\"y2\",\"x\":[0,1,2,3,4,5,6,7,8],\"y\":[11,47,141,674,3294,3632,6769,29687,39546,169027]}];\n",
       " var layout_sBiO8jm2nZ = {\"height\":550,\"width\":600,\"hovermode\":\"closest\",\"title\":{\"text\":\"Death rate vs nb of rats per generation for cell (0,0)\"},\"showlegend\":true,\"xaxis\":{\"title\":{\"text\":\"Generation\"},\"showgrid\":true,\"zeroline\":false,\"showline\":false},\"yaxis\":{\"title\":{\"text\":\"Death rate\"},\"showgrid\":true,\"zeroline\":false,\"showline\":false},\"yaxis2\":{\"title\":{\"text\":\"Nb rats\"},\"showgrid\":true,\"zeroline\":false,\"showline\":false,\"side\":\"right\",\"overlaying\":\"y\",\"tickformat\":\"0.0f\"}};\n",
       " var config_sBiO8jm2nZ = {\"responsive\":true,\"scrollZoom\":true,\"displaylogo\":false};\n",
       " Plotly.newPlot(\"graph_sBiO8jm2nZ\", traces_sBiO8jm2nZ, layout_sBiO8jm2nZ, config_sBiO8jm2nZ);\n",
       "</script> \n"
      ]
     },
     "metadata": {},
     "output_type": "display_data"
    },
    {
     "data": {
      "text/html": [
       "<b>Simplified rat population dynamics model #1 <br>Timestep: 9</b> [from 0 to 9]<table class=\"table\" style=\"align: center; display:block; background-color:fffff0; border: 2px solid green; height: 450px; overflow-y: scroll\"><tr><th style=\"border: 1px solid green; background-color:fffff0\">Cell coordinates</th><th style=\"border: 1px solid green; background-color:#ebebec\">Number of Rats</th><th style=\"border: 1px solid green; background-color:#ebebec\">Death rate</th></tr><tr style=\"border: 1px solid green; background-color:fffff0\"><td style=\"border: 1px solid green; background-color:fffff0\">(0, 0)</td><td style=\"border: 1px solid green; background-color:fffff0\">169027</td><td style=\"border: 1px solid green; background-color:fffff0\">0.287638335761381</td></tr><tr style=\"border: 1px solid green; background-color:fffff0\"><td style=\"border: 1px solid green; background-color:fffff0\">(0, 1)</td><td style=\"border: 1px solid green; background-color:fffff0\">41298</td><td style=\"border: 1px solid green; background-color:fffff0\">0.08278575889025812</td></tr><tr style=\"border: 1px solid green; background-color:fffff0\"><td style=\"border: 1px solid green; background-color:fffff0\">(0, 2)</td><td style=\"border: 1px solid green; background-color:fffff0\">81930</td><td style=\"border: 1px solid green; background-color:fffff0\">0.1371984927720689</td></tr><tr style=\"border: 1px solid green; background-color:fffff0\"><td style=\"border: 1px solid green; background-color:fffff0\">(1, 0)</td><td style=\"border: 1px solid green; background-color:fffff0\">316769</td><td style=\"border: 1px solid green; background-color:fffff0\">0.6825449063123314</td></tr><tr style=\"border: 1px solid green; background-color:fffff0\"><td style=\"border: 1px solid green; background-color:fffff0\">(1, 1)</td><td style=\"border: 1px solid green; background-color:fffff0\">8973</td><td style=\"border: 1px solid green; background-color:fffff0\">0.780144693058701</td></tr><tr style=\"border: 1px solid green; background-color:fffff0\"><td style=\"border: 1px solid green; background-color:fffff0\">(1, 2)</td><td style=\"border: 1px solid green; background-color:fffff0\">55285</td><td style=\"border: 1px solid green; background-color:fffff0\">0.7592481226745624</td></tr><tr style=\"border: 1px solid green; background-color:fffff0\"><td style=\"border: 1px solid green; background-color:fffff0\">(2, 0)</td><td style=\"border: 1px solid green; background-color:fffff0\">106403</td><td style=\"border: 1px solid green; background-color:fffff0\">0.3500784987478584</td></tr><tr style=\"border: 1px solid green; background-color:fffff0\"><td style=\"border: 1px solid green; background-color:fffff0\">(2, 1)</td><td style=\"border: 1px solid green; background-color:fffff0\">28315</td><td style=\"border: 1px solid green; background-color:fffff0\">0.29122493430317553</td></tr><tr style=\"border: 1px solid green; background-color:fffff0\"><td style=\"border: 1px solid green; background-color:fffff0\">(2, 2)</td><td style=\"border: 1px solid green; background-color:fffff0\">894113</td><td style=\"border: 1px solid green; background-color:fffff0\">0.16752127633894798</td></tr></table>"
      ]
     },
     "metadata": {},
     "output_type": "display_data"
    }
   ],
   "source": [
    "// grab the results from the Conus model\n",
    "val model: SingleModelResults = simulator(ratPopulation)(0)\n",
    "\n",
    "val generation = (0 until numberOfSteps-1).map(x=>x.toDouble).toList\n",
    "\n",
    "// we can use the utility function to grab the series for a single variable\n",
    "val deathRateSeries: List[Double] = getDataFromSingleModel(model, deathRate, List(0,0), numberOfSteps)\n",
    "\n",
    "val xy1 = XY(generation, deathRateSeries) setName(\"Death rate\")\n",
    "\n",
    "// alternatively we can quickly get the same data for XY using the function below\n",
    "//  val xy1 = getXYSeriesFromSingleModel(model, (age, d18Occ), List(0), numberOfSteps)\n",
    "\n",
    "// lets also plot a second y variable\n",
    "val yaxis2 = Axis(\n",
    "    Y,\n",
    "    position = 2, \n",
    "    title = \"Nb rats\", \n",
    "    overlaying = Axis(Y), // this ensures that the axis sits on a seperate axis\n",
    "    side = RIGHT_SIDE, // this ensures the axis is on the right hand side\n",
    "    tickformat = \"0.0f\" // this will keep formatting reasonable for display purposes\n",
    ")\n",
    "\n",
    "// we construct the second y variable;\n",
    "val nbRatsSeries: List[Double] = getDataFromSingleModel(model, nbRats, List(0,0), numberOfSteps).map(x => x.toDouble)\n",
    "val xy2 = XY(generation, nbRatsSeries) setAxis yaxis2 setName(\"Nb of rats\")\n",
    "\n",
    "// finally we can combine in a single chart\n",
    "val chart = (\n",
    "    Chart() \n",
    "    addSeries xy1\n",
    "    addSeries xy2\n",
    "    setTitle(\"Death rate vs nb of rats per generation for cell (0,0)\") \n",
    "    addAxes(Axis(X, title=\"Generation\"), Axis(Y, title=\"Death rate\"), yaxis2)\n",
    ")\n",
    "\n",
    "val canvas = Canvas() addCharts chart\n",
    "\n",
    "// When we plot the result, we can see the legend is in the wrong place and overlaying the axis - we can overcome this\n",
    "// in the next example\n",
    "canvas.plotInline()"
   ]
  },
  {
   "cell_type": "markdown",
   "metadata": {
    "pycharm": {
     "name": "#%% md\n"
    }
   },
   "source": [
    "### Moving the Legend\n",
    "\n",
    "We can also move the Legend and position it where we would like as follows:"
   ]
  },
  {
   "cell_type": "code",
   "execution_count": 62,
   "metadata": {
    "pycharm": {
     "name": "#%%\n"
    }
   },
   "outputs": [],
   "source": [
    "import org.carbonateresearch.picta.options.AUTO"
   ]
  },
  {
   "cell_type": "code",
   "execution_count": 63,
   "metadata": {
    "scrolled": false
   },
   "outputs": [
    {
     "data": {
      "text/html": [
       "<div id=\"grid-container_OKvp24G4Qp\" class=\"grid-container\" align=\"center\"> \n",
       "<div id=\"grid_OKvp24G4Qp\" class=\"grid\" align=\"center\"> \n",
       "<div id=\"graph_He6w7zqsqt\" class=\"graph\"></div> \n",
       "</div> \n",
       "</div> \n",
       "<script>\n",
       "var masonry = new Macy({\n",
       "    container: '#grid_OKvp24G4Qp',\n",
       "    debug: true,\n",
       "    mobileFirst: true,\n",
       "    columns: 1,\n",
       "    margin: {\n",
       "        x: 0,\n",
       "        y: 50\n",
       "    }\n",
       "  });\n",
       "\n",
       "  var traces_He6w7zqsqt = [{\"name\":\"Death rate\",\"type\":\"scatter\",\"x\":[0,1,2,3,4,5,6,7,8],\"y\":[0.1146137913317397,0.2368679576227881,0.4914466569466239,0.19859462425662686,0.18560184578339112,0.816268230318801,0.6893861338899016,0.2689593676625194,0.7779774664470811,0.287638335761381]},{\"name\":\"Nb of rats\",\"type\":\"scatter\",\"yaxis\":\"y2\",\"x\":[0,1,2,3,4,5,6,7,8],\"y\":[11,47,141,674,3294,3632,6769,29687,39546,169027]}];\n",
       " var layout_He6w7zqsqt = {\"height\":550,\"width\":600,\"hovermode\":\"closest\",\"title\":{\"text\":\"Death rate vs Nb of rats for cell (0,0)\"},\"showlegend\":true,\"legend\":{\"orientation\":\"h\",\"x\":0.5,\"y\":-0.5,\"xanchor\":\"auto\",\"yanchor\":\"auto\"},\"xaxis\":{\"title\":{\"text\":\"Generation\"},\"showgrid\":true,\"zeroline\":false,\"showline\":false},\"yaxis\":{\"title\":{\"text\":\"Death rate\"},\"showgrid\":true,\"zeroline\":false,\"showline\":false},\"yaxis2\":{\"title\":{\"text\":\"Nb rats\"},\"showgrid\":true,\"zeroline\":false,\"showline\":false,\"side\":\"right\",\"overlaying\":\"y\",\"tickformat\":\"0.0f\"}};\n",
       " var config_He6w7zqsqt = {\"responsive\":true,\"scrollZoom\":true,\"displaylogo\":false};\n",
       " Plotly.newPlot(\"graph_He6w7zqsqt\", traces_He6w7zqsqt, layout_He6w7zqsqt, config_He6w7zqsqt);\n",
       "</script> \n"
      ]
     },
     "metadata": {},
     "output_type": "display_data"
    }
   ],
   "source": [
    "// finally we can combine in a single chart\n",
    "val chart = (\n",
    "    Chart() \n",
    "    addSeries xy1\n",
    "    addSeries xy2\n",
    "    setTitle(\"Death rate vs Nb of rats for cell (0,0)\") \n",
    "    addAxes(Axis(X, title=\"Generation\"), Axis(Y, title=\"Death rate\"), yaxis2)\n",
    "    setLegend(x = 0.5, y = -0.5, orientation = HORIZONTAL, xanchor = AUTO, yanchor = AUTO)\n",
    ")\n",
    "\n",
    "val canvas = Canvas() addCharts chart\n",
    "\n",
    "canvas.plotInline()"
   ]
  },
  {
   "cell_type": "code",
   "execution_count": 64,
   "metadata": {},
   "outputs": [
    {
     "data": {
      "text/html": [
       "<div id=\"grid-container_QX4hfDdfev\" class=\"grid-container\" align=\"center\"> \n",
       "<div id=\"grid_QX4hfDdfev\" class=\"grid\" align=\"center\"> \n",
       "\n",
       "<div align=\"center\">\n",
       "  <div id=\"graph_6gfMJZfpAZ\" class=\"graph\"></div>\n",
       "  <div class=\"animationInterface\">\n",
       "    <button id=\"play_6gfMJZfpAZ\" class=\"picta-button\">&#9658</button>\n",
       "    <button id=\"pause_6gfMJZfpAZ\" class=\"picta-button\">&#9616;&#9616;</button>\n",
       "    <button id=\"prev_6gfMJZfpAZ\" class=\"picta-button\"><</button>\n",
       "    <button id=\"next_6gfMJZfpAZ\" class=\"picta-button\">></button>\n",
       "\n",
       "    <div id=\"sliderContainer_6gfMJZfpAZ\" class=\"progressBar\"></div>\n",
       "    <div id=\"counterContainer_6gfMJZfpAZ\" class=\"inline-div\">\n",
       "        <h3>Frame: </h3> <h3 id=\"value_6gfMJZfpAZ\">0</h3>\n",
       "    </div>\n",
       "   </div>\n",
       "</div> \n",
       "\n",
       "</div> \n",
       "</div> \n",
       "<script>\n",
       "var masonry = new Macy({\n",
       "    container: '#grid_QX4hfDdfev',\n",
       "    debug: true,\n",
       "    mobileFirst: true,\n",
       "    columns: 1,\n",
       "    margin: {\n",
       "        x: 0,\n",
       "        y: 50\n",
       "    }\n",
       "  });\n",
       "\n",
       "var graph_6gfMJZfpAZ = document.getElementById('graph_6gfMJZfpAZ')\n",
       "\n",
       "var layout_6gfMJZfpAZ = {\"height\":550,\"width\":600,\"hovermode\":\"closest\",\"title\":{\"text\":\"Animation XY with Multiple Series\"},\"showlegend\":true,\"legend\":{\"orientation\":\"h\",\"x\":0.5,\"y\":-0.5,\"xanchor\":\"auto\",\"yanchor\":\"auto\"},\"xaxis\":{\"title\":{\"text\":\"Generation\"},\"showgrid\":true,\"zeroline\":false,\"showline\":false,\"range\":[0,9]},\"yaxis\":{\"title\":{\"text\":\"Death Rate\"},\"showgrid\":true,\"zeroline\":false,\"showline\":false,\"range\":[0,1]},\"yaxis2\":{\"title\":{\"text\":\"Nb rats\"},\"showgrid\":true,\"zeroline\":false,\"showline\":false,\"side\":\"right\",\"overlaying\":\"y\",\"range\":[0,10000],\"tickformat\":\"0.0f\"}}\n",
       "var frames_6gfMJZfpAZ = [{\"name\":\"Frame 0\",\"data\":[{\"name\":\"Death Rate (F0)\",\"type\":\"scatter\",\"x\":[0],\"y\":[0.1146137913317397]},{\"name\":\"Nb of rats (F0)\",\"type\":\"scatter\",\"yaxis\":\"y2\",\"x\":[0],\"y\":[11]}]},{\"name\":\"Frame 1\",\"data\":[{\"name\":\"Death Rate (F1)\",\"type\":\"scatter\",\"x\":[0,1],\"y\":[0.1146137913317397,0.2368679576227881]},{\"name\":\"Nb of rats (F1)\",\"type\":\"scatter\",\"yaxis\":\"y2\",\"x\":[0,1],\"y\":[11,47]}]},{\"name\":\"Frame 2\",\"data\":[{\"name\":\"Death Rate (F2)\",\"type\":\"scatter\",\"x\":[0,1,2],\"y\":[0.1146137913317397,0.2368679576227881,0.4914466569466239]},{\"name\":\"Nb of rats (F2)\",\"type\":\"scatter\",\"yaxis\":\"y2\",\"x\":[0,1,2],\"y\":[11,47,141]}]},{\"name\":\"Frame 3\",\"data\":[{\"name\":\"Death Rate (F3)\",\"type\":\"scatter\",\"x\":[0,1,2,3],\"y\":[0.1146137913317397,0.2368679576227881,0.4914466569466239,0.19859462425662686]},{\"name\":\"Nb of rats (F3)\",\"type\":\"scatter\",\"yaxis\":\"y2\",\"x\":[0,1,2,3],\"y\":[11,47,141,674]}]},{\"name\":\"Frame 4\",\"data\":[{\"name\":\"Death Rate (F4)\",\"type\":\"scatter\",\"x\":[0,1,2,3,4],\"y\":[0.1146137913317397,0.2368679576227881,0.4914466569466239,0.19859462425662686,0.18560184578339112]},{\"name\":\"Nb of rats (F4)\",\"type\":\"scatter\",\"yaxis\":\"y2\",\"x\":[0,1,2,3,4],\"y\":[11,47,141,674,3294]}]},{\"name\":\"Frame 5\",\"data\":[{\"name\":\"Death Rate (F5)\",\"type\":\"scatter\",\"x\":[0,1,2,3,4,5],\"y\":[0.1146137913317397,0.2368679576227881,0.4914466569466239,0.19859462425662686,0.18560184578339112,0.816268230318801]},{\"name\":\"Nb of rats (F5)\",\"type\":\"scatter\",\"yaxis\":\"y2\",\"x\":[0,1,2,3,4,5],\"y\":[11,47,141,674,3294,3632]}]},{\"name\":\"Frame 6\",\"data\":[{\"name\":\"Death Rate (F6)\",\"type\":\"scatter\",\"x\":[0,1,2,3,4,5,6],\"y\":[0.1146137913317397,0.2368679576227881,0.4914466569466239,0.19859462425662686,0.18560184578339112,0.816268230318801,0.6893861338899016]},{\"name\":\"Nb of rats (F6)\",\"type\":\"scatter\",\"yaxis\":\"y2\",\"x\":[0,1,2,3,4,5,6],\"y\":[11,47,141,674,3294,3632,6769]}]},{\"name\":\"Frame 7\",\"data\":[{\"name\":\"Death Rate (F7)\",\"type\":\"scatter\",\"x\":[0,1,2,3,4,5,6,7],\"y\":[0.1146137913317397,0.2368679576227881,0.4914466569466239,0.19859462425662686,0.18560184578339112,0.816268230318801,0.6893861338899016,0.2689593676625194]},{\"name\":\"Nb of rats (F7)\",\"type\":\"scatter\",\"yaxis\":\"y2\",\"x\":[0,1,2,3,4,5,6,7],\"y\":[11,47,141,674,3294,3632,6769,29687]}]},{\"name\":\"Frame 8\",\"data\":[{\"name\":\"Death Rate (F8)\",\"type\":\"scatter\",\"x\":[0,1,2,3,4,5,6,7,8],\"y\":[0.1146137913317397,0.2368679576227881,0.4914466569466239,0.19859462425662686,0.18560184578339112,0.816268230318801,0.6893861338899016,0.2689593676625194,0.7779774664470811]},{\"name\":\"Nb of rats (F8)\",\"type\":\"scatter\",\"yaxis\":\"y2\",\"x\":[0,1,2,3,4,5,6,7,8],\"y\":[11,47,141,674,3294,3632,6769,29687,39546]}]}]\n",
       "var labels_6gfMJZfpAZ = [\"Frame 0\",\"Frame 1\",\"Frame 2\",\"Frame 3\",\"Frame 4\",\"Frame 5\",\"Frame 6\",\"Frame 7\",\"Frame 8\"]\n",
       "var duration_6gfMJZfpAZ = 100\n",
       "var config_6gfMJZfpAZ = {\"responsive\":true,\"scrollZoom\":true,\"displaylogo\":false}\n",
       "\n",
       "var traces_6gfMJZfpAZ = JSON.parse(JSON.stringify(frames_6gfMJZfpAZ[0].data.map(x => x)))\n",
       "\n",
       "var animation_settings_6gfMJZfpAZ = {\n",
       "    mode: \"immediate\",\n",
       "    direction: {},\n",
       "    fromcurrent: true,\n",
       "    frame: [\n",
       "      {duration: duration_6gfMJZfpAZ},\n",
       "      {duration: duration_6gfMJZfpAZ},\n",
       "      {redraw: true}\n",
       "    ],\n",
       "    transition: [\n",
       "      {duration: duration_6gfMJZfpAZ, easing: 'cubic-in-out'},\n",
       "      {duration: duration_6gfMJZfpAZ, easing: 'cubic-in-out'},\n",
       "    ],\n",
       "    ordering: \"layout first\"\n",
       "}\n",
       "\n",
       "var slider_6gfMJZfpAZ = document.createElement(\"input\")\n",
       "var play_6gfMJZfpAZ = document.getElementById(\"play_6gfMJZfpAZ\")\n",
       "var pause_6gfMJZfpAZ = document.getElementById(\"pause_6gfMJZfpAZ\")\n",
       "slider_6gfMJZfpAZ.id = \"slider_6gfMJZfpAZ\"\n",
       "slider_6gfMJZfpAZ.type = \"range\"\n",
       "slider_6gfMJZfpAZ.min = 0\n",
       "slider_6gfMJZfpAZ.max = frames_6gfMJZfpAZ.length - 1\n",
       "slider_6gfMJZfpAZ.value = 0\n",
       "document.getElementById(\"sliderContainer_6gfMJZfpAZ\").appendChild(slider_6gfMJZfpAZ);\n",
       "\n",
       "Plotly.newPlot(graph_6gfMJZfpAZ, traces_6gfMJZfpAZ, layout_6gfMJZfpAZ, config_6gfMJZfpAZ)\n",
       ".then(function () { Plotly.addFrames(graph_6gfMJZfpAZ, frames_6gfMJZfpAZ) })\n",
       "\n",
       "var trigger_6gfMJZfpAZ = true\n",
       "var reset_count_6gfMJZfpAZ = false\n",
       "\n",
       "play_6gfMJZfpAZ.addEventListener('click', async function() {\n",
       "   trigger_6gfMJZfpAZ = true\n",
       "   if (reset_count_6gfMJZfpAZ) {\n",
       "      slider_6gfMJZfpAZ.value = 0\n",
       "      reset_count_6gfMJZfpAZ = false\n",
       "   }\n",
       "\n",
       "  const start_index = slider_6gfMJZfpAZ.value == labels_6gfMJZfpAZ.length - 1 ? 0 : slider_6gfMJZfpAZ.value\n",
       "  const end_index = labels_6gfMJZfpAZ.length\n",
       "  await Plotly.animate(graph_6gfMJZfpAZ, labels_6gfMJZfpAZ.slice(start_index, end_index), animation_settings_6gfMJZfpAZ)\n",
       "})\n",
       "\n",
       "pause_6gfMJZfpAZ.addEventListener('click', async function() {\n",
       "  await Plotly.animate(graph_6gfMJZfpAZ, [null], animation_settings_6gfMJZfpAZ)\n",
       "  trigger_6gfMJZfpAZ = false;\n",
       "})\n",
       "\n",
       "graph_6gfMJZfpAZ.on('plotly_redraw', () => {\n",
       "   value_6gfMJZfpAZ.innerHTML = slider_6gfMJZfpAZ.value;\n",
       "   if (trigger_6gfMJZfpAZ & !reset_count_6gfMJZfpAZ) ++slider_6gfMJZfpAZ.value\n",
       "   if (slider_6gfMJZfpAZ.value == labels_6gfMJZfpAZ.length - 1) reset_count_6gfMJZfpAZ = true\n",
       "});\n",
       "\n",
       "slider_6gfMJZfpAZ.oninput = async function() {\n",
       "   await Plotly.animate(graph_6gfMJZfpAZ, frames_6gfMJZfpAZ[this.value], animation_settings_6gfMJZfpAZ)\n",
       "   trigger_6gfMJZfpAZ = false\n",
       "   slider_6gfMJZfpAZ.value = this.value\n",
       "   value_6gfMJZfpAZ.innerHTML = this.value;\n",
       "   if (this.value == 0) reset_count_6gfMJZfpAZ = false\n",
       "   if (this.value == labels_6gfMJZfpAZ.length - 1) reset_count_6gfMJZfpAZ = true\n",
       "   reset_count_6gfMJZfpAZ = false\n",
       "}\n",
       "\n",
       "next_6gfMJZfpAZ.addEventListener('click', function() {\n",
       "    if (slider_6gfMJZfpAZ.value == labels_6gfMJZfpAZ.length - 1) {\n",
       "        reset_count_6gfMJZfpAZ = true;\n",
       "        return;\n",
       "    }\n",
       "    ++slider_6gfMJZfpAZ.value;\n",
       "    value_6gfMJZfpAZ.innerHTML = slider_6gfMJZfpAZ.value;\n",
       "    trigger_6gfMJZfpAZ = false;\n",
       "    slider_6gfMJZfpAZ.oninput();\n",
       "})\n",
       "\n",
       "prev_6gfMJZfpAZ.addEventListener('click', function() {\n",
       "    if (slider_6gfMJZfpAZ.value == 0) {\n",
       "        reset_count_6gfMJZfpAZ = false;\n",
       "        return;\n",
       "    }\n",
       "    --slider_6gfMJZfpAZ.value;\n",
       "    value_6gfMJZfpAZ.innerHTML = slider_6gfMJZfpAZ.value;\n",
       "    trigger_6gfMJZfpAZ = false;\n",
       "    slider_6gfMJZfpAZ.oninput();\n",
       "})\n",
       "\n",
       "</script> \n"
      ]
     },
     "metadata": {},
     "output_type": "display_data"
    }
   ],
   "source": [
    "val xaxis = Axis(X, title = \"Generation\") setLimits (0.0, 9.0)\n",
    "val yaxis = Axis(Y, title = \"Death Rate\") setLimits(0.0, 1.0)\n",
    "\n",
    "// lets also plot a second y variable\n",
    "val yaxis2 = Axis(\n",
    "    Y,\n",
    "    position = 2, \n",
    "    title = \"Nb rats\",\n",
    "    overlaying = Axis(Y), // this ensures that the axis sits on a seperate axis\n",
    "    side = RIGHT_SIDE, // this ensures the axis is on the right hand side\n",
    "    tickformat = \"0.0f\" // this will keep formatting reasonable for display purposes\n",
    ").setLimits (0.0, 10000.0)\n",
    "\n",
    "// we can also specifiy the underlying layout directly - sometimes this can be useful\n",
    "val layout = ChartLayout(\"Animation XY with Multiple Series\") setAxes(xaxis, yaxis, yaxis2)\n",
    "\n",
    "val animation = \n",
    "    (0 to generation.size-1)\n",
    "    .map(x => XY(generation.take(x+1), deathRateSeries.take(x+1)) setName \"Death Rate\")\n",
    "    .toList\n",
    "\n",
    "val animation2 = \n",
    "    (0 to generation.size-1)\n",
    "    .map(x => XY(generation.take(x+1), nbRatsSeries.take(x+1)) setName \"Nb of rats\" setAxis yaxis2)\n",
    "    .toList\n",
    "\n",
    "val chart = (\n",
    "    Chart(animated = true, transition_duration=100, animate_multiple_series = true)\n",
    "    setChartLayout layout \n",
    "    addSeries animation\n",
    "    addSeries animation2\n",
    "    setLegend(x = 0.5, y = -0.5, orientation = HORIZONTAL, xanchor = AUTO, yanchor = AUTO)\n",
    ") \n",
    "\n",
    "chart.plotInline"
   ]
  },
  {
   "cell_type": "code",
   "execution_count": 65,
   "metadata": {
    "pycharm": {
     "name": "#%%\n"
    }
   },
   "outputs": [
    {
     "data": {
      "text/html": [
       "<div id=\"grid-container_4XQHvPYKzp\" class=\"grid-container\" align=\"center\"> \n",
       "<div id=\"grid_4XQHvPYKzp\" class=\"grid\" align=\"center\"> \n",
       "<div id=\"graph_O0ieopXzRM\" class=\"graph\"></div> \n",
       "</div> \n",
       "</div> \n",
       "<script>\n",
       "var masonry = new Macy({\n",
       "    container: '#grid_4XQHvPYKzp',\n",
       "    debug: true,\n",
       "    mobileFirst: true,\n",
       "    columns: 1,\n",
       "    margin: {\n",
       "        x: 0,\n",
       "        y: 50\n",
       "    }\n",
       "  });\n",
       "\n",
       "  var traces_O0ieopXzRM = [{\"name\":\"umj6lj6BUZ\",\"type\":\"heatmap\",\"z\":[[169027,41298,81930],[316769,8973,55285],[106403,28315,894113]]}];\n",
       " var layout_O0ieopXzRM = {\"height\":550,\"width\":600,\"hovermode\":\"closest\",\"title\":{\"text\":\"Nb of rats at time step 10\"},\"showlegend\":true};\n",
       " var config_O0ieopXzRM = {\"responsive\":true,\"scrollZoom\":true,\"displaylogo\":false};\n",
       " Plotly.newPlot(\"graph_O0ieopXzRM\", traces_O0ieopXzRM, layout_O0ieopXzRM, config_O0ieopXzRM);\n",
       "</script> \n"
      ]
     },
     "metadata": {},
     "output_type": "display_data"
    }
   ],
   "source": [
    "val nbCol = (0 to 2).toList\n",
    "val mySeries:List[Double] = nbCol.flatMap(r => {\n",
    "    nbCol.map{c => getDataFromSingleModel(model, nbRats, List(r,c), numberOfSteps).last.toDouble}})\n",
    "\n",
    "val series = XYZ(z=mySeries,n=3) asType HEATMAP\n",
    "\n",
    "val chart = Chart().addSeries(series).setTitle(\"Nb of rats at time step 10\")\n",
    "\n",
    "chart.plotInline"
   ]
  },
  {
   "cell_type": "code",
   "execution_count": 66,
   "metadata": {},
   "outputs": [
    {
     "data": {
      "text/html": [
       "<div id=\"grid-container_XTHg2RJLAx\" class=\"grid-container\" align=\"center\"> \n",
       "<div id=\"grid_XTHg2RJLAx\" class=\"grid\" align=\"center\"> \n",
       "<div id=\"graph_FeN0c4PwmG\" class=\"graph\"></div> \n",
       "</div> \n",
       "</div> \n",
       "<script>\n",
       "var masonry = new Macy({\n",
       "    container: '#grid_XTHg2RJLAx',\n",
       "    debug: true,\n",
       "    mobileFirst: true,\n",
       "    columns: 1,\n",
       "    margin: {\n",
       "        x: 0,\n",
       "        y: 50\n",
       "    }\n",
       "  });\n",
       "\n",
       "  var traces_FeN0c4PwmG = [{\"name\":\"0zQRBqmxfs\",\"type\":\"surface\",\"colorbar\":{\"title\":{\"text\":\"Rat Population\",\"side\":\"right\"}},\"z\":[[169027,41298,81930],[316769,8973,55285],[106403,28315,894113]]}];\n",
       " var layout_FeN0c4PwmG = {\"height\":550,\"width\":600,\"hovermode\":\"closest\",\"title\":{\"text\":\"Surface\"},\"showlegend\":true};\n",
       " var config_FeN0c4PwmG = {\"responsive\":true,\"scrollZoom\":true,\"displaylogo\":false};\n",
       " Plotly.newPlot(\"graph_FeN0c4PwmG\", traces_FeN0c4PwmG, layout_FeN0c4PwmG, config_FeN0c4PwmG);\n",
       "</script> \n"
      ]
     },
     "metadata": {},
     "output_type": "display_data"
    }
   ],
   "source": [
    "val ratsAsSurface = XYZ(z=mySeries,n=3) asType SURFACE setColorBar(\"Rat Population\", RIGHT_SIDE)\n",
    "\n",
    "val ratsChart = Chart() addSeries ratsAsSurface setTitle \"Surface\"\n",
    "\n",
    "ratsChart.plotInline"
   ]
  },
  {
   "cell_type": "code",
   "execution_count": 67,
   "metadata": {},
   "outputs": [
    {
     "data": {
      "text/html": [
       "<div id=\"grid-container_CsVafwUGwj\" class=\"grid-container\" align=\"center\"> \n",
       "<div id=\"grid_CsVafwUGwj\" class=\"grid\" align=\"center\"> \n",
       "\n",
       "<div align=\"center\">\n",
       "  <div id=\"graph_ZHZA085dle\" class=\"graph\"></div>\n",
       "  <div class=\"animationInterface\">\n",
       "    <button id=\"play_ZHZA085dle\" class=\"picta-button\">&#9658</button>\n",
       "    <button id=\"pause_ZHZA085dle\" class=\"picta-button\">&#9616;&#9616;</button>\n",
       "    <button id=\"prev_ZHZA085dle\" class=\"picta-button\"><</button>\n",
       "    <button id=\"next_ZHZA085dle\" class=\"picta-button\">></button>\n",
       "\n",
       "    <div id=\"sliderContainer_ZHZA085dle\" class=\"progressBar\"></div>\n",
       "    <div id=\"counterContainer_ZHZA085dle\" class=\"inline-div\">\n",
       "        <h3>Frame: </h3> <h3 id=\"value_ZHZA085dle\">0</h3>\n",
       "    </div>\n",
       "   </div>\n",
       "</div> \n",
       "\n",
       "</div> \n",
       "</div> \n",
       "<script>\n",
       "var masonry = new Macy({\n",
       "    container: '#grid_CsVafwUGwj',\n",
       "    debug: true,\n",
       "    mobileFirst: true,\n",
       "    columns: 1,\n",
       "    margin: {\n",
       "        x: 0,\n",
       "        y: 50\n",
       "    }\n",
       "  });\n",
       "\n",
       "var graph_ZHZA085dle = document.getElementById('graph_ZHZA085dle')\n",
       "\n",
       "var layout_ZHZA085dle = {\"height\":550,\"width\":600,\"hovermode\":\"closest\",\"title\":{\"text\":\"Animated Surface\"},\"showlegend\":true,\"scene\":{\"zaxis\":{\"showgrid\":true,\"zeroline\":false,\"showline\":false,\"range\":[0,3000000]}}}\n",
       "var frames_ZHZA085dle = [{\"name\":\"TnKtzZlS7B (F0)\",\"data\":[{\"name\":\"TnKtzZlS7B (F0)\",\"type\":\"surface\",\"colorbar\":{\"title\":{\"text\":\"Rat Population\",\"side\":\"right\"}},\"z\":[[11,3,9],[21,3,20],[3,15,28]]}]},{\"name\":\"PYOe9GbDJw (F1)\",\"data\":[{\"name\":\"PYOe9GbDJw (F1)\",\"type\":\"surface\",\"colorbar\":{\"title\":{\"text\":\"Rat Population\",\"side\":\"right\"}},\"z\":[[47,6,37],[121,10,75],[8,38,100]]}]},{\"name\":\"6vBLVi35Pf (F2)\",\"data\":[{\"name\":\"6vBLVi35Pf (F2)\",\"type\":\"surface\",\"colorbar\":{\"title\":{\"text\":\"Rat Population\",\"side\":\"right\"}},\"z\":[[141,7,151],[705,57,172],[15,29,555]]}]},{\"name\":\"rD6QXrLZQ3 (F3)\",\"data\":[{\"name\":\"rD6QXrLZQ3 (F3)\",\"type\":\"surface\",\"colorbar\":{\"title\":{\"text\":\"Rat Population\",\"side\":\"right\"}},\"z\":[[674,37,765],[4206,304,452],[37,22,1766]]}]},{\"name\":\"aRFyanycjI (F4)\",\"data\":[{\"name\":\"aRFyanycjI (F4)\",\"type\":\"surface\",\"colorbar\":{\"title\":{\"text\":\"Rat Population\",\"side\":\"right\"}},\"z\":[[3294,215,1688],[11191,565,926],[212,99,9068]]}]},{\"name\":\"jMy6GAJVCp (F5)\",\"data\":[{\"name\":\"jMy6GAJVCp (F5)\",\"type\":\"surface\",\"colorbar\":{\"title\":{\"text\":\"Rat Population\",\"side\":\"right\"}},\"z\":[[3632,954,1134],[10366,746,2762],[893,310,13195]]}]},{\"name\":\"jvB7XmnfF7 (F6)\",\"data\":[{\"name\":\"jvB7XmnfF7 (F6)\",\"type\":\"surface\",\"colorbar\":{\"title\":{\"text\":\"Rat Population\",\"side\":\"right\"}},\"z\":[[6769,679,3117],[24191,1819,11720],[1865,1646,60620]]}]},{\"name\":\"Q9tg7gaGM4 (F7)\",\"data\":[{\"name\":\"Q9tg7gaGM4 (F7)\",\"type\":\"surface\",\"colorbar\":{\"title\":{\"text\":\"Rat Population\",\"side\":\"right\"}},\"z\":[[29687,2330,13221],[76608,1550,19292],[5286,1946,188351]]}]},{\"name\":\"AbzU7MkScP (F8)\",\"data\":[{\"name\":\"AbzU7MkScP (F8)\",\"type\":\"surface\",\"colorbar\":{\"title\":{\"text\":\"Rat Population\",\"side\":\"right\"}},\"z\":[[39546,7505,15827],[166307,6803,38272],[27286,6659,179007]]}]},{\"name\":\"ruC1oUByXo (F9)\",\"data\":[{\"name\":\"ruC1oUByXo (F9)\",\"type\":\"surface\",\"colorbar\":{\"title\":{\"text\":\"Rat Population\",\"side\":\"right\"}},\"z\":[[169027,41298,81930],[316769,8973,55285],[106403,28315,894113]]}]}]\n",
       "var labels_ZHZA085dle = [\"TnKtzZlS7B (F0)\",\"PYOe9GbDJw (F1)\",\"6vBLVi35Pf (F2)\",\"rD6QXrLZQ3 (F3)\",\"aRFyanycjI (F4)\",\"jMy6GAJVCp (F5)\",\"jvB7XmnfF7 (F6)\",\"Q9tg7gaGM4 (F7)\",\"AbzU7MkScP (F8)\",\"ruC1oUByXo (F9)\"]\n",
       "var duration_ZHZA085dle = 100\n",
       "var config_ZHZA085dle = {\"responsive\":true,\"scrollZoom\":true,\"displaylogo\":false}\n",
       "\n",
       "var traces_ZHZA085dle = JSON.parse(JSON.stringify(frames_ZHZA085dle[0].data.map(x => x)))\n",
       "\n",
       "var animation_settings_ZHZA085dle = {\n",
       "    mode: \"immediate\",\n",
       "    direction: {},\n",
       "    fromcurrent: true,\n",
       "    frame: [\n",
       "      {duration: duration_ZHZA085dle},\n",
       "      {duration: duration_ZHZA085dle},\n",
       "      {redraw: true}\n",
       "    ],\n",
       "    transition: [\n",
       "      {duration: duration_ZHZA085dle, easing: 'cubic-in-out'},\n",
       "      {duration: duration_ZHZA085dle, easing: 'cubic-in-out'},\n",
       "    ],\n",
       "    ordering: \"layout first\"\n",
       "}\n",
       "\n",
       "var slider_ZHZA085dle = document.createElement(\"input\")\n",
       "var play_ZHZA085dle = document.getElementById(\"play_ZHZA085dle\")\n",
       "var pause_ZHZA085dle = document.getElementById(\"pause_ZHZA085dle\")\n",
       "slider_ZHZA085dle.id = \"slider_ZHZA085dle\"\n",
       "slider_ZHZA085dle.type = \"range\"\n",
       "slider_ZHZA085dle.min = 0\n",
       "slider_ZHZA085dle.max = frames_ZHZA085dle.length - 1\n",
       "slider_ZHZA085dle.value = 0\n",
       "document.getElementById(\"sliderContainer_ZHZA085dle\").appendChild(slider_ZHZA085dle);\n",
       "\n",
       "Plotly.newPlot(graph_ZHZA085dle, traces_ZHZA085dle, layout_ZHZA085dle, config_ZHZA085dle)\n",
       ".then(function () { Plotly.addFrames(graph_ZHZA085dle, frames_ZHZA085dle) })\n",
       "\n",
       "var trigger_ZHZA085dle = true\n",
       "var reset_count_ZHZA085dle = false\n",
       "\n",
       "play_ZHZA085dle.addEventListener('click', async function() {\n",
       "   trigger_ZHZA085dle = true\n",
       "   if (reset_count_ZHZA085dle) {\n",
       "      slider_ZHZA085dle.value = 0\n",
       "      reset_count_ZHZA085dle = false\n",
       "   }\n",
       "\n",
       "  const start_index = slider_ZHZA085dle.value == labels_ZHZA085dle.length - 1 ? 0 : slider_ZHZA085dle.value\n",
       "  const end_index = labels_ZHZA085dle.length\n",
       "  await Plotly.animate(graph_ZHZA085dle, labels_ZHZA085dle.slice(start_index, end_index), animation_settings_ZHZA085dle)\n",
       "})\n",
       "\n",
       "pause_ZHZA085dle.addEventListener('click', async function() {\n",
       "  await Plotly.animate(graph_ZHZA085dle, [null], animation_settings_ZHZA085dle)\n",
       "  trigger_ZHZA085dle = false;\n",
       "})\n",
       "\n",
       "graph_ZHZA085dle.on('plotly_redraw', () => {\n",
       "   value_ZHZA085dle.innerHTML = slider_ZHZA085dle.value;\n",
       "   if (trigger_ZHZA085dle & !reset_count_ZHZA085dle) ++slider_ZHZA085dle.value\n",
       "   if (slider_ZHZA085dle.value == labels_ZHZA085dle.length - 1) reset_count_ZHZA085dle = true\n",
       "});\n",
       "\n",
       "slider_ZHZA085dle.oninput = async function() {\n",
       "   await Plotly.animate(graph_ZHZA085dle, frames_ZHZA085dle[this.value], animation_settings_ZHZA085dle)\n",
       "   trigger_ZHZA085dle = false\n",
       "   slider_ZHZA085dle.value = this.value\n",
       "   value_ZHZA085dle.innerHTML = this.value;\n",
       "   if (this.value == 0) reset_count_ZHZA085dle = false\n",
       "   if (this.value == labels_ZHZA085dle.length - 1) reset_count_ZHZA085dle = true\n",
       "   reset_count_ZHZA085dle = false\n",
       "}\n",
       "\n",
       "next_ZHZA085dle.addEventListener('click', function() {\n",
       "    if (slider_ZHZA085dle.value == labels_ZHZA085dle.length - 1) {\n",
       "        reset_count_ZHZA085dle = true;\n",
       "        return;\n",
       "    }\n",
       "    ++slider_ZHZA085dle.value;\n",
       "    value_ZHZA085dle.innerHTML = slider_ZHZA085dle.value;\n",
       "    trigger_ZHZA085dle = false;\n",
       "    slider_ZHZA085dle.oninput();\n",
       "})\n",
       "\n",
       "prev_ZHZA085dle.addEventListener('click', function() {\n",
       "    if (slider_ZHZA085dle.value == 0) {\n",
       "        reset_count_ZHZA085dle = false;\n",
       "        return;\n",
       "    }\n",
       "    --slider_ZHZA085dle.value;\n",
       "    value_ZHZA085dle.innerHTML = slider_ZHZA085dle.value;\n",
       "    trigger_ZHZA085dle = false;\n",
       "    slider_ZHZA085dle.oninput();\n",
       "})\n",
       "\n",
       "</script> \n"
      ]
     },
     "metadata": {},
     "output_type": "display_data"
    }
   ],
   "source": [
    "def createSeries:List[List[Double]] = {\n",
    "    val nbCol = (0 to 2).toList\n",
    "    val nestedList:List[List[Double]] = nbCol.flatMap(r => {\n",
    "    nbCol.map{c => getDataFromSingleModel(model, nbRats, List(r,c), numberOfSteps).map(x=>x.toDouble)}})\n",
    "    (0 to 9).map(x => (0 to 8).map(y => nestedList(y)(x)).toList).toList\n",
    "}\n",
    "\n",
    "\n",
    "val ratsAsSurface = createSeries.map(s => XYZ(z=s,n=3) asType SURFACE setColorBar(\"Rat Population\", RIGHT_SIDE)) \n",
    "\n",
    "val ratsChart = Chart(animated = true, transition_duration=100) addSeries ratsAsSurface setTitle \"Animated Surface\" setZAxisLimits(0, 3E6)\n",
    "\n",
    "ratsChart.plotInline"
   ]
  }
 ],
 "metadata": {
  "kernelspec": {
   "display_name": "Scala",
   "language": "scala",
   "name": "scala"
  },
  "language_info": {
   "codemirror_mode": "text/x-scala",
   "file_extension": ".scala",
   "mimetype": "text/x-scala",
   "name": "scala",
   "nbconvert_exporter": "script",
   "version": "2.13.2"
  }
 },
 "nbformat": 4,
 "nbformat_minor": 4
}
