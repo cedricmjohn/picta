{
 "cells": [
  {
   "cell_type": "code",
   "execution_count": 1,
   "metadata": {
    "scrolled": true
   },
   "outputs": [],
   "source": [
    "interp.repositories() ++= Seq(coursierapi.MavenRepository.of(\n",
    "\"https://jitpack.io\"\n",
    "))"
   ]
  },
  {
   "cell_type": "code",
   "execution_count": 2,
   "metadata": {},
   "outputs": [
    {
     "data": {
      "text/plain": [
       "\u001b[32mimport \u001b[39m\u001b[36m$ivy.$                                  \u001b[39m"
      ]
     },
     "execution_count": 2,
     "metadata": {},
     "output_type": "execute_result"
    }
   ],
   "source": [
    "import $ivy. `org.carbonateresearch::picta:0.1`"
   ]
  },
  {
   "cell_type": "code",
   "execution_count": 3,
   "metadata": {
    "scrolled": false
   },
   "outputs": [
    {
     "data": {
      "text/html": [
       "\n",
       "<style> #animationInterface {\n",
       "    margin-top: 50px;\n",
       "    margin-bottom: 50px;\n",
       "}\n",
       "\n",
       ".progressBar {\n",
       "    padding-top: 20px;\n",
       "    padding-bottom: 20px;\n",
       "}\n",
       "\n",
       ".inline-div {\n",
       "    display: block;\n",
       "    text-align: center;\n",
       "}\n",
       "\n",
       "h3 {\n",
       "    display: inline-block;\n",
       "    text-align: center;\n",
       "}\n",
       "\n",
       ".picta-button {\n",
       "    background-color: #003E74;\n",
       "    border: none;\n",
       "    color: white;\n",
       "    padding: 12px 28px;\n",
       "    text-align: center;\n",
       "    text-decoration: none;\n",
       "    display: inline-block;\n",
       "    font-size: 12px;\n",
       "    margin-top: 50px;\n",
       "    transition-duration: 0.4s;\n",
       "    cursor: pointer;\n",
       "}\n",
       "\n",
       ".picta-button:hover {\n",
       "    background-color: #002147;\n",
       "    color: white;\n",
       "}\n",
       "\n",
       ".grid-title h1 {\n",
       "    font-family: \"Open Sans\", verdana, arial, sans-serif;\n",
       "    font-weight: normal;\n",
       "}\n",
       "\n",
       ".grid-container {\n",
       "    padding-top: 40px;\n",
       "    background: white;\n",
       "} </style>\n",
       "<script> /** vim: et:ts=4:sw=4:sts=4\n",
       " * @license RequireJS 2.3.6 Copyright jQuery Foundation and other contributors.\n",
       " * Released under MIT license, https://github.com/requirejs/requirejs/blob/master/LICENSE\n",
       " */\n",
       "var requirejs,require,define;!function(global,setTimeout){var req,s,head,baseElement,dataMain,src,interactiveScript,currentlyAddingScript,mainScript,subPath,version=\"2.3.6\",commentRegExp=/\\/\\*[\\s\\S]*?\\*\\/|([^:\"'=]|^)\\/\\/.*$/gm,cjsRequireRegExp=/[^.]\\s*require\\s*\\(\\s*[\"']([^'\"\\s]+)[\"']\\s*\\)/g,jsSuffixRegExp=/\\.js$/,currDirRegExp=/^\\.\\//,op=Object.prototype,ostring=op.toString,hasOwn=op.hasOwnProperty,isBrowser=!(\"undefined\"==typeof window||\"undefined\"==typeof navigator||!window.document),isWebWorker=!isBrowser&&\"undefined\"!=typeof importScripts,readyRegExp=isBrowser&&\"PLAYSTATION 3\"===navigator.platform?/^complete$/:/^(complete|loaded)$/,defContextName=\"_\",isOpera=\"undefined\"!=typeof opera&&\"[object Opera]\"===opera.toString(),contexts={},cfg={},globalDefQueue=[],useInteractive=!1;function commentReplace(e,t){return t||\"\"}function isFunction(e){return\"[object Function]\"===ostring.call(e)}function isArray(e){return\"[object Array]\"===ostring.call(e)}function each(e,t){var i;if(e)for(i=0;i<e.length&&(!e[i]||!t(e[i],i,e));i+=1);}function eachReverse(e,t){var i;if(e)for(i=e.length-1;-1<i&&(!e[i]||!t(e[i],i,e));i-=1);}function hasProp(e,t){return hasOwn.call(e,t)}function getOwn(e,t){return hasProp(e,t)&&e[t]}function eachProp(e,t){var i;for(i in e)if(hasProp(e,i)&&t(e[i],i))break}function mixin(i,e,r,n){return e&&eachProp(e,function(e,t){!r&&hasProp(i,t)||(!n||\"object\"!=typeof e||!e||isArray(e)||isFunction(e)||e instanceof RegExp?i[t]=e:(i[t]||(i[t]={}),mixin(i[t],e,r,n)))}),i}function bind(e,t){return function(){return t.apply(e,arguments)}}function scripts(){return document.getElementsByTagName(\"script\")}function defaultOnError(e){throw e}function getGlobal(e){if(!e)return e;var t=global;return each(e.split(\".\"),function(e){t=t[e]}),t}function makeError(e,t,i,r){var n=new Error(t+\"\\nhttps://requirejs.org/docs/errors.html#\"+e);return n.requireType=e,n.requireModules=r,i&&(n.originalError=i),n}if(void 0===define){if(void 0!==requirejs){if(isFunction(requirejs))return;cfg=requirejs,requirejs=void 0}void 0===require||isFunction(require)||(cfg=require,require=void 0),req=requirejs=function(e,t,i,r){var n,o,a=defContextName;return isArray(e)||\"string\"==typeof e||(o=e,isArray(t)?(e=t,t=i,i=r):e=[]),o&&o.context&&(a=o.context),(n=getOwn(contexts,a))||(n=contexts[a]=req.s.newContext(a)),o&&n.configure(o),n.require(e,t,i)},req.config=function(e){return req(e)},req.nextTick=void 0!==setTimeout?function(e){setTimeout(e,4)}:function(e){e()},require||(require=req),req.version=version,req.jsExtRegExp=/^\\/|:|\\?|\\.js$/,req.isBrowser=isBrowser,s=req.s={contexts:contexts,newContext:newContext},req({}),each([\"toUrl\",\"undef\",\"defined\",\"specified\"],function(t){req[t]=function(){var e=contexts[defContextName];return e.require[t].apply(e,arguments)}}),isBrowser&&(head=s.head=document.getElementsByTagName(\"head\")[0],baseElement=document.getElementsByTagName(\"base\")[0],baseElement&&(head=s.head=baseElement.parentNode)),req.onError=defaultOnError,req.createNode=function(e,t,i){var r=e.xhtml?document.createElementNS(\"http://www.w3.org/1999/xhtml\",\"html:script\"):document.createElement(\"script\");return r.type=e.scriptType||\"text/javascript\",r.charset=\"utf-8\",r.async=!0,r},req.load=function(t,i,r){var e,n=t&&t.config||{};if(isBrowser)return(e=req.createNode(n,i,r)).setAttribute(\"data-requirecontext\",t.contextName),e.setAttribute(\"data-requiremodule\",i),!e.attachEvent||e.attachEvent.toString&&e.attachEvent.toString().indexOf(\"[native code\")<0||isOpera?(e.addEventListener(\"load\",t.onScriptLoad,!1),e.addEventListener(\"error\",t.onScriptError,!1)):(useInteractive=!0,e.attachEvent(\"onreadystatechange\",t.onScriptLoad)),e.src=r,n.onNodeCreated&&n.onNodeCreated(e,n,i,r),currentlyAddingScript=e,baseElement?head.insertBefore(e,baseElement):head.appendChild(e),currentlyAddingScript=null,e;if(isWebWorker)try{setTimeout(function(){},0),importScripts(r),t.completeLoad(i)}catch(e){t.onError(makeError(\"importscripts\",\"importScripts failed for \"+i+\" at \"+r,e,[i]))}},isBrowser&&!cfg.skipDataMain&&eachReverse(scripts(),function(e){if(head||(head=e.parentNode),dataMain=e.getAttribute(\"data-main\"))return mainScript=dataMain,cfg.baseUrl||-1!==mainScript.indexOf(\"!\")||(mainScript=(src=mainScript.split(\"/\")).pop(),subPath=src.length?src.join(\"/\")+\"/\":\"./\",cfg.baseUrl=subPath),mainScript=mainScript.replace(jsSuffixRegExp,\"\"),req.jsExtRegExp.test(mainScript)&&(mainScript=dataMain),cfg.deps=cfg.deps?cfg.deps.concat(mainScript):[mainScript],!0}),define=function(e,i,t){var r,n;\"string\"!=typeof e&&(t=i,i=e,e=null),isArray(i)||(t=i,i=null),!i&&isFunction(t)&&(i=[],t.length&&(t.toString().replace(commentRegExp,commentReplace).replace(cjsRequireRegExp,function(e,t){i.push(t)}),i=(1===t.length?[\"require\"]:[\"require\",\"exports\",\"module\"]).concat(i))),useInteractive&&(r=currentlyAddingScript||getInteractiveScript())&&(e||(e=r.getAttribute(\"data-requiremodule\")),n=contexts[r.getAttribute(\"data-requirecontext\")]),n?(n.defQueue.push([e,i,t]),n.defQueueMap[e]=!0):globalDefQueue.push([e,i,t])},define.amd={jQuery:!0},req.exec=function(text){return eval(text)},req(cfg)}function newContext(u){var i,e,l,c,d,g={waitSeconds:7,baseUrl:\"./\",paths:{},bundles:{},pkgs:{},shim:{},config:{}},p={},f={},r={},h=[],m={},n={},v={},x=1,b=1;function q(e,t,i){var r,n,o,a,s,u,c,d,p,f,l=t&&t.split(\"/\"),h=g.map,m=h&&h[\"*\"];if(e&&(u=(e=e.split(\"/\")).length-1,g.nodeIdCompat&&jsSuffixRegExp.test(e[u])&&(e[u]=e[u].replace(jsSuffixRegExp,\"\")),\".\"===e[0].charAt(0)&&l&&(e=l.slice(0,l.length-1).concat(e)),function(e){var t,i;for(t=0;t<e.length;t++)if(\".\"===(i=e[t]))e.splice(t,1),t-=1;else if(\"..\"===i){if(0===t||1===t&&\"..\"===e[2]||\"..\"===e[t-1])continue;0<t&&(e.splice(t-1,2),t-=2)}}(e),e=e.join(\"/\")),i&&h&&(l||m)){e:for(o=(n=e.split(\"/\")).length;0<o;o-=1){if(s=n.slice(0,o).join(\"/\"),l)for(a=l.length;0<a;a-=1)if((r=getOwn(h,l.slice(0,a).join(\"/\")))&&(r=getOwn(r,s))){c=r,d=o;break e}!p&&m&&getOwn(m,s)&&(p=getOwn(m,s),f=o)}!c&&p&&(c=p,d=f),c&&(n.splice(0,d,c),e=n.join(\"/\"))}return getOwn(g.pkgs,e)||e}function E(t){isBrowser&&each(scripts(),function(e){if(e.getAttribute(\"data-requiremodule\")===t&&e.getAttribute(\"data-requirecontext\")===l.contextName)return e.parentNode.removeChild(e),!0})}function w(e){var t=getOwn(g.paths,e);if(t&&isArray(t)&&1<t.length)return t.shift(),l.require.undef(e),l.makeRequire(null,{skipMap:!0})([e]),!0}function y(e){var t,i=e?e.indexOf(\"!\"):-1;return-1<i&&(t=e.substring(0,i),e=e.substring(i+1,e.length)),[t,e]}function S(e,t,i,r){var n,o,a,s,u=null,c=t?t.name:null,d=e,p=!0,f=\"\";return e||(p=!1,e=\"_@r\"+(x+=1)),u=(s=y(e))[0],e=s[1],u&&(u=q(u,c,r),o=getOwn(m,u)),e&&(u?f=i?e:o&&o.normalize?o.normalize(e,function(e){return q(e,c,r)}):-1===e.indexOf(\"!\")?q(e,c,r):e:(u=(s=y(f=q(e,c,r)))[0],f=s[1],i=!0,n=l.nameToUrl(f))),{prefix:u,name:f,parentMap:t,unnormalized:!!(a=!u||o||i?\"\":\"_unnormalized\"+(b+=1)),url:n,originalName:d,isDefine:p,id:(u?u+\"!\"+f:f)+a}}function k(e){var t=e.id,i=getOwn(p,t);return i||(i=p[t]=new l.Module(e)),i}function M(e,t,i){var r=e.id,n=getOwn(p,r);!hasProp(m,r)||n&&!n.defineEmitComplete?(n=k(e)).error&&\"error\"===t?i(n.error):n.on(t,i):\"defined\"===t&&i(m[r])}function O(i,e){var t=i.requireModules,r=!1;e?e(i):(each(t,function(e){var t=getOwn(p,e);t&&(t.error=i,t.events.error&&(r=!0,t.emit(\"error\",i)))}),r||req.onError(i))}function j(){globalDefQueue.length&&(each(globalDefQueue,function(e){var t=e[0];\"string\"==typeof t&&(l.defQueueMap[t]=!0),h.push(e)}),globalDefQueue=[])}function P(e){delete p[e],delete f[e]}function R(){var e,r,t=1e3*g.waitSeconds,n=t&&l.startTime+t<(new Date).getTime(),o=[],a=[],s=!1,u=!0;if(!i){if(i=!0,eachProp(f,function(e){var t=e.map,i=t.id;if(e.enabled&&(t.isDefine||a.push(e),!e.error))if(!e.inited&&n)w(i)?s=r=!0:(o.push(i),E(i));else if(!e.inited&&e.fetched&&t.isDefine&&(s=!0,!t.prefix))return u=!1}),n&&o.length)return(e=makeError(\"timeout\",\"Load timeout for modules: \"+o,null,o)).contextName=l.contextName,O(e);u&&each(a,function(e){!function n(o,a,s){var e=o.map.id;o.error?o.emit(\"error\",o.error):(a[e]=!0,each(o.depMaps,function(e,t){var i=e.id,r=getOwn(p,i);!r||o.depMatched[t]||s[i]||(getOwn(a,i)?(o.defineDep(t,m[i]),o.check()):n(r,a,s))}),s[e]=!0)}(e,{},{})}),n&&!r||!s||!isBrowser&&!isWebWorker||d||(d=setTimeout(function(){d=0,R()},50)),i=!1}}function a(e){hasProp(m,e[0])||k(S(e[0],null,!0)).init(e[1],e[2])}function o(e,t,i,r){e.detachEvent&&!isOpera?r&&e.detachEvent(r,t):e.removeEventListener(i,t,!1)}function s(e){var t=e.currentTarget||e.srcElement;return o(t,l.onScriptLoad,\"load\",\"onreadystatechange\"),o(t,l.onScriptError,\"error\"),{node:t,id:t&&t.getAttribute(\"data-requiremodule\")}}function T(){var e;for(j();h.length;){if(null===(e=h.shift())[0])return O(makeError(\"mismatch\",\"Mismatched anonymous define() module: \"+e[e.length-1]));a(e)}l.defQueueMap={}}return c={require:function(e){return e.require?e.require:e.require=l.makeRequire(e.map)},exports:function(e){if(e.usingExports=!0,e.map.isDefine)return e.exports?m[e.map.id]=e.exports:e.exports=m[e.map.id]={}},module:function(e){return e.module?e.module:e.module={id:e.map.id,uri:e.map.url,config:function(){return getOwn(g.config,e.map.id)||{}},exports:e.exports||(e.exports={})}}},(e=function(e){this.events=getOwn(r,e.id)||{},this.map=e,this.shim=getOwn(g.shim,e.id),this.depExports=[],this.depMaps=[],this.depMatched=[],this.pluginMaps={},this.depCount=0}).prototype={init:function(e,t,i,r){r=r||{},this.inited||(this.factory=t,i?this.on(\"error\",i):this.events.error&&(i=bind(this,function(e){this.emit(\"error\",e)})),this.depMaps=e&&e.slice(0),this.errback=i,this.inited=!0,this.ignore=r.ignore,r.enabled||this.enabled?this.enable():this.check())},defineDep:function(e,t){this.depMatched[e]||(this.depMatched[e]=!0,this.depCount-=1,this.depExports[e]=t)},fetch:function(){if(!this.fetched){this.fetched=!0,l.startTime=(new Date).getTime();var e=this.map;if(!this.shim)return e.prefix?this.callPlugin():this.load();l.makeRequire(this.map,{enableBuildCallback:!0})(this.shim.deps||[],bind(this,function(){return e.prefix?this.callPlugin():this.load()}))}},load:function(){var e=this.map.url;n[e]||(n[e]=!0,l.load(this.map.id,e))},check:function(){if(this.enabled&&!this.enabling){var t,e,i=this.map.id,r=this.depExports,n=this.exports,o=this.factory;if(this.inited){if(this.error)this.emit(\"error\",this.error);else if(!this.defining){if(this.defining=!0,this.depCount<1&&!this.defined){if(isFunction(o)){if(this.events.error&&this.map.isDefine||req.onError!==defaultOnError)try{n=l.execCb(i,o,r,n)}catch(e){t=e}else n=l.execCb(i,o,r,n);if(this.map.isDefine&&void 0===n&&((e=this.module)?n=e.exports:this.usingExports&&(n=this.exports)),t)return t.requireMap=this.map,t.requireModules=this.map.isDefine?[this.map.id]:null,t.requireType=this.map.isDefine?\"define\":\"require\",O(this.error=t)}else n=o;if(this.exports=n,this.map.isDefine&&!this.ignore&&(m[i]=n,req.onResourceLoad)){var a=[];each(this.depMaps,function(e){a.push(e.normalizedMap||e)}),req.onResourceLoad(l,this.map,a)}P(i),this.defined=!0}this.defining=!1,this.defined&&!this.defineEmitted&&(this.defineEmitted=!0,this.emit(\"defined\",this.exports),this.defineEmitComplete=!0)}}else hasProp(l.defQueueMap,i)||this.fetch()}},callPlugin:function(){var u=this.map,c=u.id,e=S(u.prefix);this.depMaps.push(e),M(e,\"defined\",bind(this,function(e){var o,t,i,r=getOwn(v,this.map.id),n=this.map.name,a=this.map.parentMap?this.map.parentMap.name:null,s=l.makeRequire(u.parentMap,{enableBuildCallback:!0});return this.map.unnormalized?(e.normalize&&(n=e.normalize(n,function(e){return q(e,a,!0)})||\"\"),M(t=S(u.prefix+\"!\"+n,this.map.parentMap,!0),\"defined\",bind(this,function(e){this.map.normalizedMap=t,this.init([],function(){return e},null,{enabled:!0,ignore:!0})})),void((i=getOwn(p,t.id))&&(this.depMaps.push(t),this.events.error&&i.on(\"error\",bind(this,function(e){this.emit(\"error\",e)})),i.enable()))):r?(this.map.url=l.nameToUrl(r),void this.load()):((o=bind(this,function(e){this.init([],function(){return e},null,{enabled:!0})})).error=bind(this,function(e){this.inited=!0,(this.error=e).requireModules=[c],eachProp(p,function(e){0===e.map.id.indexOf(c+\"_unnormalized\")&&P(e.map.id)}),O(e)}),o.fromText=bind(this,function(e,t){var i=u.name,r=S(i),n=useInteractive;t&&(e=t),n&&(useInteractive=!1),k(r),hasProp(g.config,c)&&(g.config[i]=g.config[c]);try{req.exec(e)}catch(e){return O(makeError(\"fromtexteval\",\"fromText eval for \"+c+\" failed: \"+e,e,[c]))}n&&(useInteractive=!0),this.depMaps.push(r),l.completeLoad(i),s([i],o)}),void e.load(u.name,s,o,g))})),l.enable(e,this),this.pluginMaps[e.id]=e},enable:function(){(f[this.map.id]=this).enabled=!0,this.enabling=!0,each(this.depMaps,bind(this,function(e,t){var i,r,n;if(\"string\"==typeof e){if(e=S(e,this.map.isDefine?this.map:this.map.parentMap,!1,!this.skipMap),this.depMaps[t]=e,n=getOwn(c,e.id))return void(this.depExports[t]=n(this));this.depCount+=1,M(e,\"defined\",bind(this,function(e){this.undefed||(this.defineDep(t,e),this.check())})),this.errback?M(e,\"error\",bind(this,this.errback)):this.events.error&&M(e,\"error\",bind(this,function(e){this.emit(\"error\",e)}))}i=e.id,r=p[i],hasProp(c,i)||!r||r.enabled||l.enable(e,this)})),eachProp(this.pluginMaps,bind(this,function(e){var t=getOwn(p,e.id);t&&!t.enabled&&l.enable(e,this)})),this.enabling=!1,this.check()},on:function(e,t){var i=this.events[e];i||(i=this.events[e]=[]),i.push(t)},emit:function(e,t){each(this.events[e],function(e){e(t)}),\"error\"===e&&delete this.events[e]}},(l={config:g,contextName:u,registry:p,defined:m,urlFetched:n,defQueue:h,defQueueMap:{},Module:e,makeModuleMap:S,nextTick:req.nextTick,onError:O,configure:function(e){if(e.baseUrl&&\"/\"!==e.baseUrl.charAt(e.baseUrl.length-1)&&(e.baseUrl+=\"/\"),\"string\"==typeof e.urlArgs){var i=e.urlArgs;e.urlArgs=function(e,t){return(-1===t.indexOf(\"?\")?\"?\":\"&\")+i}}var r=g.shim,n={paths:!0,bundles:!0,config:!0,map:!0};eachProp(e,function(e,t){n[t]?(g[t]||(g[t]={}),mixin(g[t],e,!0,!0)):g[t]=e}),e.bundles&&eachProp(e.bundles,function(e,t){each(e,function(e){e!==t&&(v[e]=t)})}),e.shim&&(eachProp(e.shim,function(e,t){isArray(e)&&(e={deps:e}),!e.exports&&!e.init||e.exportsFn||(e.exportsFn=l.makeShimExports(e)),r[t]=e}),g.shim=r),e.packages&&each(e.packages,function(e){var t;t=(e=\"string\"==typeof e?{name:e}:e).name,e.location&&(g.paths[t]=e.location),g.pkgs[t]=e.name+\"/\"+(e.main||\"main\").replace(currDirRegExp,\"\").replace(jsSuffixRegExp,\"\")}),eachProp(p,function(e,t){e.inited||e.map.unnormalized||(e.map=S(t,null,!0))}),(e.deps||e.callback)&&l.require(e.deps||[],e.callback)},makeShimExports:function(t){return function(){var e;return t.init&&(e=t.init.apply(global,arguments)),e||t.exports&&getGlobal(t.exports)}},makeRequire:function(o,a){function s(e,t,i){var r,n;return a.enableBuildCallback&&t&&isFunction(t)&&(t.__requireJsBuild=!0),\"string\"==typeof e?isFunction(t)?O(makeError(\"requireargs\",\"Invalid require call\"),i):o&&hasProp(c,e)?c[e](p[o.id]):req.get?req.get(l,e,o,s):(r=S(e,o,!1,!0).id,hasProp(m,r)?m[r]:O(makeError(\"notloaded\",'Module name \"'+r+'\" has not been loaded yet for context: '+u+(o?\"\":\". Use require([])\")))):(T(),l.nextTick(function(){T(),(n=k(S(null,o))).skipMap=a.skipMap,n.init(e,t,i,{enabled:!0}),R()}),s)}return a=a||{},mixin(s,{isBrowser:isBrowser,toUrl:function(e){var t,i=e.lastIndexOf(\".\"),r=e.split(\"/\")[0];return-1!==i&&(!(\".\"===r||\"..\"===r)||1<i)&&(t=e.substring(i,e.length),e=e.substring(0,i)),l.nameToUrl(q(e,o&&o.id,!0),t,!0)},defined:function(e){return hasProp(m,S(e,o,!1,!0).id)},specified:function(e){return e=S(e,o,!1,!0).id,hasProp(m,e)||hasProp(p,e)}}),o||(s.undef=function(i){j();var e=S(i,o,!0),t=getOwn(p,i);t.undefed=!0,E(i),delete m[i],delete n[e.url],delete r[i],eachReverse(h,function(e,t){e[0]===i&&h.splice(t,1)}),delete l.defQueueMap[i],t&&(t.events.defined&&(r[i]=t.events),P(i))}),s},enable:function(e){getOwn(p,e.id)&&k(e).enable()},completeLoad:function(e){var t,i,r,n=getOwn(g.shim,e)||{},o=n.exports;for(j();h.length;){if(null===(i=h.shift())[0]){if(i[0]=e,t)break;t=!0}else i[0]===e&&(t=!0);a(i)}if(l.defQueueMap={},r=getOwn(p,e),!t&&!hasProp(m,e)&&r&&!r.inited){if(!(!g.enforceDefine||o&&getGlobal(o)))return w(e)?void 0:O(makeError(\"nodefine\",\"No define call for \"+e,null,[e]));a([e,n.deps||[],n.exportsFn])}R()},nameToUrl:function(e,t,i){var r,n,o,a,s,u,c=getOwn(g.pkgs,e);if(c&&(e=c),u=getOwn(v,e))return l.nameToUrl(u,t,i);if(req.jsExtRegExp.test(e))a=e+(t||\"\");else{for(r=g.paths,o=(n=e.split(\"/\")).length;0<o;o-=1)if(s=getOwn(r,n.slice(0,o).join(\"/\"))){isArray(s)&&(s=s[0]),n.splice(0,o,s);break}a=n.join(\"/\"),a=(\"/\"===(a+=t||(/^data\\:|^blob\\:|\\?/.test(a)||i?\"\":\".js\")).charAt(0)||a.match(/^[\\w\\+\\.\\-]+:/)?\"\":g.baseUrl)+a}return g.urlArgs&&!/^blob\\:/.test(a)?a+g.urlArgs(e,a):a},load:function(e,t){req.load(l,e,t)},execCb:function(e,t,i,r){return t.apply(r,i)},onScriptLoad:function(e){if(\"load\"===e.type||readyRegExp.test((e.currentTarget||e.srcElement).readyState)){interactiveScript=null;var t=s(e);l.completeLoad(t.id)}},onScriptError:function(e){var i=s(e);if(!w(i.id)){var r=[];return eachProp(p,function(e,t){0!==t.indexOf(\"_@r\")&&each(e.depMaps,function(e){if(e.id===i.id)return r.push(t),!0})}),O(makeError(\"scripterror\",'Script error for \"'+i.id+(r.length?'\", needed by: '+r.join(\", \"):'\"'),e,[i.id]))}}}).require=l.makeRequire(),l}function getInteractiveScript(){return interactiveScript&&\"interactive\"===interactiveScript.readyState||eachReverse(scripts(),function(e){if(\"interactive\"===e.readyState)return interactiveScript=e}),interactiveScript}}(this,\"undefined\"==typeof setTimeout?void 0:setTimeout); </script>\n",
       "<script> /*! dom-to-image 10-06-2017 */\n",
       "!function(a){\"use strict\";function b(a,b){function c(a){return b.bgcolor&&(a.style.backgroundColor=b.bgcolor),b.width&&(a.style.width=b.width+\"px\"),b.height&&(a.style.height=b.height+\"px\"),b.style&&Object.keys(b.style).forEach(function(c){a.style[c]=b.style[c]}),a}return b=b||{},g(b),Promise.resolve(a).then(function(a){return i(a,b.filter,!0)}).then(j).then(k).then(c).then(function(c){return l(c,b.width||q.width(a),b.height||q.height(a))})}function c(a,b){return h(a,b||{}).then(function(b){return b.getContext(\"2d\").getImageData(0,0,q.width(a),q.height(a)).data})}function d(a,b){return h(a,b||{}).then(function(a){return a.toDataURL()})}function e(a,b){return b=b||{},h(a,b).then(function(a){return a.toDataURL(\"image/jpeg\",b.quality||1)})}function f(a,b){return h(a,b||{}).then(q.canvasToBlob)}function g(a){\"undefined\"==typeof a.imagePlaceholder?v.impl.options.imagePlaceholder=u.imagePlaceholder:v.impl.options.imagePlaceholder=a.imagePlaceholder,\"undefined\"==typeof a.cacheBust?v.impl.options.cacheBust=u.cacheBust:v.impl.options.cacheBust=a.cacheBust}function h(a,c){function d(a){var b=document.createElement(\"canvas\");if(b.width=c.width||q.width(a),b.height=c.height||q.height(a),c.bgcolor){var d=b.getContext(\"2d\");d.fillStyle=c.bgcolor,d.fillRect(0,0,b.width,b.height)}return b}return b(a,c).then(q.makeImage).then(q.delay(100)).then(function(b){var c=d(a);return c.getContext(\"2d\").drawImage(b,0,0),c})}function i(a,b,c){function d(a){return a instanceof HTMLCanvasElement?q.makeImage(a.toDataURL()):a.cloneNode(!1)}function e(a,b,c){function d(a,b,c){var d=Promise.resolve();return b.forEach(function(b){d=d.then(function(){return i(b,c)}).then(function(b){b&&a.appendChild(b)})}),d}var e=a.childNodes;return 0===e.length?Promise.resolve(b):d(b,q.asArray(e),c).then(function(){return b})}function f(a,b){function c(){function c(a,b){function c(a,b){q.asArray(a).forEach(function(c){b.setProperty(c,a.getPropertyValue(c),a.getPropertyPriority(c))})}a.cssText?b.cssText=a.cssText:c(a,b)}c(window.getComputedStyle(a),b.style)}function d(){function c(c){function d(a,b,c){function d(a){var b=a.getPropertyValue(\"content\");return a.cssText+\" content: \"+b+\";\"}function e(a){function b(b){return b+\": \"+a.getPropertyValue(b)+(a.getPropertyPriority(b)?\" !important\":\"\")}return q.asArray(a).map(b).join(\"; \")+\";\"}var f=\".\"+a+\":\"+b,g=c.cssText?d(c):e(c);return document.createTextNode(f+\"{\"+g+\"}\")}var e=window.getComputedStyle(a,c),f=e.getPropertyValue(\"content\");if(\"\"!==f&&\"none\"!==f){var g=q.uid();b.className=b.className+\" \"+g;var h=document.createElement(\"style\");h.appendChild(d(g,c,e)),b.appendChild(h)}}[\":before\",\":after\"].forEach(function(a){c(a)})}function e(){a instanceof HTMLTextAreaElement&&(b.innerHTML=a.value),a instanceof HTMLInputElement&&b.setAttribute(\"value\",a.value)}function f(){b instanceof SVGElement&&(b.setAttribute(\"xmlns\",\"http://www.w3.org/2000/svg\"),b instanceof SVGRectElement&&[\"width\",\"height\"].forEach(function(a){var c=b.getAttribute(a);c&&b.style.setProperty(a,c)}))}return b instanceof Element?Promise.resolve().then(c).then(d).then(e).then(f).then(function(){return b}):b}return c||!b||b(a)?Promise.resolve(a).then(d).then(function(c){return e(a,c,b)}).then(function(b){return f(a,b)}):Promise.resolve()}function j(a){return s.resolveAll().then(function(b){var c=document.createElement(\"style\");return a.appendChild(c),c.appendChild(document.createTextNode(b)),a})}function k(a){return t.inlineAll(a).then(function(){return a})}function l(a,b,c){return Promise.resolve(a).then(function(a){return a.setAttribute(\"xmlns\",\"http://www.w3.org/1999/xhtml\"),(new XMLSerializer).serializeToString(a)}).then(q.escapeXhtml).then(function(a){return'<foreignObject x=\"0\" y=\"0\" width=\"100%\" height=\"100%\">'+a+\"</foreignObject>\"}).then(function(a){return'<svg xmlns=\"http://www.w3.org/2000/svg\" width=\"'+b+'\" height=\"'+c+'\">'+a+\"</svg>\"}).then(function(a){return\"data:image/svg+xml;charset=utf-8,\"+a})}function m(){function a(){var a=\"application/font-woff\",b=\"image/jpeg\";return{woff:a,woff2:a,ttf:\"application/font-truetype\",eot:\"application/vnd.ms-fontobject\",png:\"image/png\",jpg:b,jpeg:b,gif:\"image/gif\",tiff:\"image/tiff\",svg:\"image/svg+xml\"}}function b(a){var b=/\\.([^\\.\\/]*?)$/g.exec(a);return b?b[1]:\"\"}function c(c){var d=b(c).toLowerCase();return a()[d]||\"\"}function d(a){return a.search(/^(data:)/)!==-1}function e(a){return new Promise(function(b){for(var c=window.atob(a.toDataURL().split(\",\")[1]),d=c.length,e=new Uint8Array(d),f=0;f<d;f++)e[f]=c.charCodeAt(f);b(new Blob([e],{type:\"image/png\"}))})}function f(a){return a.toBlob?new Promise(function(b){a.toBlob(b)}):e(a)}function g(a,b){var c=document.implementation.createHTMLDocument(),d=c.createElement(\"base\");c.head.appendChild(d);var e=c.createElement(\"a\");return c.body.appendChild(e),d.href=b,e.href=a,e.href}function h(){var a=0;return function(){function b(){return(\"0000\"+(Math.random()*Math.pow(36,4)<<0).toString(36)).slice(-4)}return\"u\"+b()+a++}}function i(a){return new Promise(function(b,c){var d=new Image;d.onload=function(){b(d)},d.onerror=c,d.src=a})}function j(a){var b=3e4;return v.impl.options.cacheBust&&(a+=(/\\?/.test(a)?\"&\":\"?\")+(new Date).getTime()),new Promise(function(c){function d(){if(4===g.readyState){if(200!==g.status)return void(h?c(h):f(\"cannot fetch resource: \"+a+\", status: \"+g.status));var b=new FileReader;b.onloadend=function(){var a=b.result.split(/,/)[1];c(a)},b.readAsDataURL(g.response)}}function e(){h?c(h):f(\"timeout of \"+b+\"ms occured while fetching resource: \"+a)}function f(a){console.error(a),c(\"\")}var g=new XMLHttpRequest;g.onreadystatechange=d,g.ontimeout=e,g.responseType=\"blob\",g.timeout=b,g.open(\"GET\",a,!0),g.send();var h;if(v.impl.options.imagePlaceholder){var i=v.impl.options.imagePlaceholder.split(/,/);i&&i[1]&&(h=i[1])}})}function k(a,b){return\"data:\"+b+\";base64,\"+a}function l(a){return a.replace(/([.*+?^${}()|\\[\\]\\/\\\\])/g,\"\\\\$1\")}function m(a){return function(b){return new Promise(function(c){setTimeout(function(){c(b)},a)})}}function n(a){for(var b=[],c=a.length,d=0;d<c;d++)b.push(a[d]);return b}function o(a){return a.replace(/#/g,\"%23\").replace(/\\n/g,\"%0A\")}function p(a){var b=r(a,\"border-left-width\"),c=r(a,\"border-right-width\");return a.scrollWidth+b+c}function q(a){var b=r(a,\"border-top-width\"),c=r(a,\"border-bottom-width\");return a.scrollHeight+b+c}function r(a,b){var c=window.getComputedStyle(a).getPropertyValue(b);return parseFloat(c.replace(\"px\",\"\"))}return{escape:l,parseExtension:b,mimeType:c,dataAsUrl:k,isDataUrl:d,canvasToBlob:f,resolveUrl:g,getAndEncode:j,uid:h(),delay:m,asArray:n,escapeXhtml:o,makeImage:i,width:p,height:q}}function n(){function a(a){return a.search(e)!==-1}function b(a){for(var b,c=[];null!==(b=e.exec(a));)c.push(b[1]);return c.filter(function(a){return!q.isDataUrl(a)})}function c(a,b,c,d){function e(a){return new RegExp(\"(url\\\\(['\\\"]?)(\"+q.escape(a)+\")(['\\\"]?\\\\))\",\"g\")}return Promise.resolve(b).then(function(a){return c?q.resolveUrl(a,c):a}).then(d||q.getAndEncode).then(function(a){return q.dataAsUrl(a,q.mimeType(b))}).then(function(c){return a.replace(e(b),\"$1\"+c+\"$3\")})}function d(d,e,f){function g(){return!a(d)}return g()?Promise.resolve(d):Promise.resolve(d).then(b).then(function(a){var b=Promise.resolve(d);return a.forEach(function(a){b=b.then(function(b){return c(b,a,e,f)})}),b})}var e=/url\\(['\"]?([^'\"]+?)['\"]?\\)/g;return{inlineAll:d,shouldProcess:a,impl:{readUrls:b,inline:c}}}function o(){function a(){return b(document).then(function(a){return Promise.all(a.map(function(a){return a.resolve()}))}).then(function(a){return a.join(\"\\n\")})}function b(){function a(a){return a.filter(function(a){return a.type===CSSRule.FONT_FACE_RULE}).filter(function(a){return r.shouldProcess(a.style.getPropertyValue(\"src\"))})}function b(a){var b=[];return a.forEach(function(a){try{q.asArray(a.cssRules||[]).forEach(b.push.bind(b))}catch(c){console.log(\"Error while reading CSS rules from \"+a.href,c.toString())}}),b}function c(a){return{resolve:function(){var b=(a.parentStyleSheet||{}).href;return r.inlineAll(a.cssText,b)},src:function(){return a.style.getPropertyValue(\"src\")}}}return Promise.resolve(q.asArray(document.styleSheets)).then(b).then(a).then(function(a){return a.map(c)})}return{resolveAll:a,impl:{readAll:b}}}function p(){function a(a){function b(b){return q.isDataUrl(a.src)?Promise.resolve():Promise.resolve(a.src).then(b||q.getAndEncode).then(function(b){return q.dataAsUrl(b,q.mimeType(a.src))}).then(function(b){return new Promise(function(c,d){a.onload=c,a.onerror=d,a.src=b})})}return{inline:b}}function b(c){function d(a){var b=a.style.getPropertyValue(\"background\");return b?r.inlineAll(b).then(function(b){a.style.setProperty(\"background\",b,a.style.getPropertyPriority(\"background\"))}).then(function(){return a}):Promise.resolve(a)}return c instanceof Element?d(c).then(function(){return c instanceof HTMLImageElement?a(c).inline():Promise.all(q.asArray(c.childNodes).map(function(a){return b(a)}))}):Promise.resolve(c)}return{inlineAll:b,impl:{newImage:a}}}var q=m(),r=n(),s=o(),t=p(),u={imagePlaceholder:void 0,cacheBust:!1},v={toSvg:b,toPng:d,toJpeg:e,toBlob:f,toPixelData:c,impl:{fontFaces:s,images:t,util:q,inliner:r,options:{}}};\"undefined\"!=typeof module?module.exports=v:a.domtoimage=v}(this); </script>\n",
       "<script>\n",
       " require.config({\n",
       "   paths: {\n",
       "     'plotly': \"https://cdn.plot.ly/plotly-latest.min\",\n",
       "     'macy': \"https://cdn.jsdelivr.net/npm/macy@2.5.1/dist/macy.min\"\n",
       "   },\n",
       " })\n",
       "require( ['plotly', 'macy'], function(Plotly, Macy) {\n",
       " window.Plotly = Plotly;\n",
       " window.Macy = Macy;\n",
       "})\n",
       "</script>\n"
      ]
     },
     "metadata": {},
     "output_type": "display_data"
    },
    {
     "data": {
      "text/plain": [
       "\u001b[32mimport \u001b[39m\u001b[36morg.carbonateresearch.picta.render.Html.initNotebook // required to initialize jupyter notebook mode\n",
       "\u001b[39m"
      ]
     },
     "execution_count": 3,
     "metadata": {},
     "output_type": "execute_result"
    }
   ],
   "source": [
    "import org.carbonateresearch.picta.render.Html.initNotebook // required to initialize jupyter notebook mode\n",
    "initNotebook() // stops ugly output"
   ]
  },
  {
   "cell_type": "markdown",
   "metadata": {},
   "source": [
    "# 1. Basics\n",
    "\n",
    "The aim of the Picta library is to be a highly configurable and composable charting library for data exploration. The library takes a grammatical approach to chart construction. \n",
    "\n",
    "The following examples are aimed at demonstrating the libraries capabilities, and eventually make constructing charts using this library easy and intuitive."
   ]
  },
  {
   "cell_type": "markdown",
   "metadata": {},
   "source": [
    "### Main Components\n",
    "\n",
    "Picta graphs are constructed in a modular manner. The main components are:\n",
    "\n",
    "1. `Canvas`: This is is the top-level component for representing the display. A `Canvas` may consist of multiple charts.\n",
    "\n",
    "\n",
    "2. `Chart`: This is the component that corresponds to an actual chart (i.e. scatter, pie etc).\n",
    "\n",
    "\n",
    "3. `Series`: This is the data series that is plotted on a `Chart`. `Series` come in 3 types:\n",
    "\n",
    "    - `XY`:   This is series data for constructing a 2D chart\n",
    "    - `XYZ`:  This is series data for constructing a 3D chart\n",
    "    - `Map`:  This is series data that constructs a Map chart\n",
    "    \n",
    "\n",
    "4. `ChartLayout`: This configures various parts of how the `Chart` is represented on screen.\n",
    "\n",
    "`Chart` may occassionally also make use of the `Config` component for further configuration. `Config` specifies whether the plot is responsive.\n",
    "\n",
    "The following examples in this notebook should provide a number of interactive examples to get used to the Picta library."
   ]
  },
  {
   "cell_type": "markdown",
   "metadata": {},
   "source": [
    "### Importing the Library\n",
    "\n",
    "Importing as below should bring in the most frequently used Components in the library."
   ]
  },
  {
   "cell_type": "code",
   "execution_count": 4,
   "metadata": {},
   "outputs": [],
   "source": [
    "import org.carbonateresearch.picta._"
   ]
  },
  {
   "cell_type": "markdown",
   "metadata": {},
   "source": [
    "### Create Some Dummy Data to Use in the Examples\n",
    "\n",
    "Here we create some dummy data to be used in the examples for this notebook."
   ]
  },
  {
   "cell_type": "code",
   "execution_count": 5,
   "metadata": {},
   "outputs": [],
   "source": [
    "val x = List.range(0, 100).map(x => scala.util.Random.nextDouble() * 50)\n",
    "val y = List.range(0, 100).map(x => scala.util.Random.nextDouble() * 50)\n",
    "val z = List.range(0, 100).map(x => scala.util.Random.nextDouble() * 50)"
   ]
  },
  {
   "cell_type": "markdown",
   "metadata": {},
   "source": [
    "### 2D Plots\n",
    "\n",
    "`Series` that represent 2D data are represented by `XY` series types.\n",
    "\n",
    "\n",
    "#### Scatter Plot\n",
    "\n",
    "An example `Scatter` plot is below. \n",
    "\n",
    "Note: This is just one way to call the library functions. Another way that uses function chaining will be shown immediately after this example."
   ]
  },
  {
   "cell_type": "code",
   "execution_count": 6,
   "metadata": {},
   "outputs": [
    {
     "data": {
      "text/html": [
       "<div id=\"grid-container_x2MWYlm44z\" class=\"grid-container\" align=\"center\"> \n",
       "<div id=\"grid_x2MWYlm44z\" class=\"grid\" align=\"center\"> \n",
       "<div id=\"graph_h1xcVmZvhb\" class=\"graph\"></div> \n",
       "</div> \n",
       "</div> \n",
       "<script>\n",
       "var masonry = new Macy({\n",
       "    container: '#grid_x2MWYlm44z',\n",
       "    debug: true,\n",
       "    mobileFirst: true,\n",
       "    columns: 1,\n",
       "    margin: {\n",
       "        x: 0,\n",
       "        y: 0\n",
       "    }\n",
       "  });\n",
       "\n",
       " var traces_h1xcVmZvhb = [{\"name\":\"gkiVL9o5kW\",\"type\":\"scatter\",\"mode\":\"markers\",\"x\":[3.205255296128451,18.16523913774179,21.419528946167453,28.480404735926484,14.93331955322944,45.589347070898654,16.741992616420482,47.51232150779512,4.0186595586725655,48.48941851284378,30.12592682752469,2.393623617599905,39.86477012346171,31.49364205501121,27.765488993966247,35.82747696198642,34.99634459203601,17.115427616352825,29.7278772805212,35.512500042982325,15.508066507690272,13.678900464340927,28.244465647093904,1.8928944129437797,22.029705546981553,9.158997442603328,18.467849340757788,37.54844227454196,30.949011667856524,2.0766447541919697,30.972433358065427,33.15876745157064,46.03432569763104,47.630439742647354,19.58288075201759,2.1735005532968144,41.31170064912437,47.09984267290977,17.733824988873902,1.3297807239588177,37.07672295142039,41.22083510443643,31.495931605115295,16.98077176758131,12.259107458632757,33.713581330047916,37.64751569236949,47.83363746680923,48.00854510307067,19.432580735959732,0.7275741450687878,23.142697652032478,9.333152254040906,22.7133788661854,13.875207341741513,11.663246946649153,3.8972770106944052,15.405860873344086,4.442090539446076,0.7437829775223448,9.673309132885377,30.812710150576965,26.858739378587256,6.819137844782225,36.04251188255026,19.29260813759241,42.042015569276494,18.264330414485514,26.152814254974793,3.641282885948799,4.750395916643124,19.078639229255934,21.866863636139055,37.529502743217776,47.72522397505625,47.191733059000754,46.47154539218333,48.25566029066095,14.200271673937781,4.318423095459945,14.470572145625344,5.8615879407333535,48.418588615895445,5.235884423701559,2.2446158740623448,4.263761149613288,7.164753531926765,33.116940803414266,8.13886455570353,16.46806386994573,4.002296880878692,4.125294939119412,45.625772277553686,45.1648233458326,41.900178431723184,38.86333808013488,48.591144966989106,32.04180132563802,29.238874234957223,40.46044161245106],\"y\":[23.50463696657909,14.006379172981887,8.805741169790243,39.09939693388417,9.261060397364085,22.17416927755762,9.320986319696411,30.60094324211479,1.8168688110407227,9.95981103186519,4.279705725158683,12.321074620061495,17.396517187002157,19.89671578364993,33.452077059364164,3.0631031087771543,5.006302935045925,4.916050339801253,8.252981387076886,24.966198063825086,26.268708790018714,8.731267453717695,33.373900409110156,24.404399992815335,48.17812009962047,31.702977452597302,33.564136314137194,15.814882016555615,42.27920639620049,13.10002472787914,26.25502144964365,47.071468321309496,1.9821359995166266,48.02608878075755,27.83989750032835,7.529223763316928,28.254190834624417,27.447194657675812,23.85434185745684,30.188152392349544,42.76523686499351,42.73399746782549,21.045207916412313,27.558849736475977,16.714879810323474,31.9237440421387,32.37370422084664,46.760179577570014,3.0320609614016503,13.510319283862444,24.366904330707566,33.138857539411745,29.413208436712683,4.986811253902218,29.913655935284943,3.2730244121815355,49.75295573021064,7.5935164349547115,48.59507875456762,47.60674326410728,11.921841329319916,5.7653711560746395,20.946414854932367,10.159526727334962,30.558290420273117,29.626257274745544,22.66617099788844,27.764849783445015,4.567555224553993,11.543685111961016,29.720120041548547,4.113813754873869,40.35819455862828,33.23585456060039,5.5318802393785,44.51491211842541,33.49707895722266,8.214112234424736,7.008411650239327,35.72811431875657,23.426754798451306,25.447345083278925,47.01793676393183,21.491261265632172,18.164439073758555,44.050852247473756,37.119410254777755,48.42899306399054,38.489772158419484,25.530776665483852,15.836810223437631,38.91924954664801,4.028872955420643,19.65616295177411,44.57816759161652,37.189599170353894,26.855106603165968,32.38425529987579,25.418400416244385,22.425454021866788]}];\n",
       " var layout_h1xcVmZvhb = {\"height\":550,\"width\":600,\"hovermode\":\"closest\",\"legend\":{\"orientation\":\"v\"},\"title\":{\"text\":\"First Chart\"},\"showlegend\":true};\n",
       " var config_h1xcVmZvhb = {\"responsive\":true,\"scrollZoom\":true,\"displaylogo\":false};\n",
       " Plotly.newPlot(\"graph_h1xcVmZvhb\", traces_h1xcVmZvhb, layout_h1xcVmZvhb, config_h1xcVmZvhb);\n",
       "</script> \n"
      ]
     },
     "metadata": {},
     "output_type": "display_data"
    }
   ],
   "source": [
    "// create the data series using the data from above\n",
    "// 'asType SCATTER' transforms the series into a scatter chart\n",
    "// 'drawStyle Markers' specifies the style of the markers the chart should have\n",
    "// if a name is not provided to the series, Picta generates a random name to help keep track of the series in charts\n",
    "// multiple series.\n",
    "val series = XY(x, y) asType SCATTER drawStyle MARKERS\n",
    "\n",
    "// create a chart by adding to it a data series. We set the title as 'First Chart'\n",
    "val chart = Chart() addSeries series setTitle \"First Chart\"\n",
    "\n",
    "// if we have a single chart, then we do not need to use the Canvas and can simply call chart.plot\n",
    "\n",
    "chart.plotInline"
   ]
  },
  {
   "cell_type": "markdown",
   "metadata": {},
   "source": [
    "#### Chaining Functions\n",
    "\n",
    "Sometimes when we are specifying many options, it is quicker to use the IDE autocomplete and just chain the function calls. Throughout this book both the style above and the function chaining style will be used as and when convenient."
   ]
  },
  {
   "cell_type": "code",
   "execution_count": 7,
   "metadata": {},
   "outputs": [
    {
     "data": {
      "text/html": [
       "<div id=\"grid-container_ExqPkAAvSp\" class=\"grid-container\" align=\"center\"> \n",
       "<div id=\"grid_ExqPkAAvSp\" class=\"grid\" align=\"center\"> \n",
       "<div id=\"graph_HtMlux2UZc\" class=\"graph\"></div> \n",
       "</div> \n",
       "</div> \n",
       "<script>\n",
       "var masonry = new Macy({\n",
       "    container: '#grid_ExqPkAAvSp',\n",
       "    debug: true,\n",
       "    mobileFirst: true,\n",
       "    columns: 1,\n",
       "    margin: {\n",
       "        x: 0,\n",
       "        y: 0\n",
       "    }\n",
       "  });\n",
       "\n",
       " var traces_HtMlux2UZc = [{\"name\":\"9UbNVQH5ic\",\"type\":\"scatter\",\"mode\":\"markers\",\"x\":[3.205255296128451,18.16523913774179,21.419528946167453,28.480404735926484,14.93331955322944,45.589347070898654,16.741992616420482,47.51232150779512,4.0186595586725655,48.48941851284378,30.12592682752469,2.393623617599905,39.86477012346171,31.49364205501121,27.765488993966247,35.82747696198642,34.99634459203601,17.115427616352825,29.7278772805212,35.512500042982325,15.508066507690272,13.678900464340927,28.244465647093904,1.8928944129437797,22.029705546981553,9.158997442603328,18.467849340757788,37.54844227454196,30.949011667856524,2.0766447541919697,30.972433358065427,33.15876745157064,46.03432569763104,47.630439742647354,19.58288075201759,2.1735005532968144,41.31170064912437,47.09984267290977,17.733824988873902,1.3297807239588177,37.07672295142039,41.22083510443643,31.495931605115295,16.98077176758131,12.259107458632757,33.713581330047916,37.64751569236949,47.83363746680923,48.00854510307067,19.432580735959732,0.7275741450687878,23.142697652032478,9.333152254040906,22.7133788661854,13.875207341741513,11.663246946649153,3.8972770106944052,15.405860873344086,4.442090539446076,0.7437829775223448,9.673309132885377,30.812710150576965,26.858739378587256,6.819137844782225,36.04251188255026,19.29260813759241,42.042015569276494,18.264330414485514,26.152814254974793,3.641282885948799,4.750395916643124,19.078639229255934,21.866863636139055,37.529502743217776,47.72522397505625,47.191733059000754,46.47154539218333,48.25566029066095,14.200271673937781,4.318423095459945,14.470572145625344,5.8615879407333535,48.418588615895445,5.235884423701559,2.2446158740623448,4.263761149613288,7.164753531926765,33.116940803414266,8.13886455570353,16.46806386994573,4.002296880878692,4.125294939119412,45.625772277553686,45.1648233458326,41.900178431723184,38.86333808013488,48.591144966989106,32.04180132563802,29.238874234957223,40.46044161245106],\"y\":[23.50463696657909,14.006379172981887,8.805741169790243,39.09939693388417,9.261060397364085,22.17416927755762,9.320986319696411,30.60094324211479,1.8168688110407227,9.95981103186519,4.279705725158683,12.321074620061495,17.396517187002157,19.89671578364993,33.452077059364164,3.0631031087771543,5.006302935045925,4.916050339801253,8.252981387076886,24.966198063825086,26.268708790018714,8.731267453717695,33.373900409110156,24.404399992815335,48.17812009962047,31.702977452597302,33.564136314137194,15.814882016555615,42.27920639620049,13.10002472787914,26.25502144964365,47.071468321309496,1.9821359995166266,48.02608878075755,27.83989750032835,7.529223763316928,28.254190834624417,27.447194657675812,23.85434185745684,30.188152392349544,42.76523686499351,42.73399746782549,21.045207916412313,27.558849736475977,16.714879810323474,31.9237440421387,32.37370422084664,46.760179577570014,3.0320609614016503,13.510319283862444,24.366904330707566,33.138857539411745,29.413208436712683,4.986811253902218,29.913655935284943,3.2730244121815355,49.75295573021064,7.5935164349547115,48.59507875456762,47.60674326410728,11.921841329319916,5.7653711560746395,20.946414854932367,10.159526727334962,30.558290420273117,29.626257274745544,22.66617099788844,27.764849783445015,4.567555224553993,11.543685111961016,29.720120041548547,4.113813754873869,40.35819455862828,33.23585456060039,5.5318802393785,44.51491211842541,33.49707895722266,8.214112234424736,7.008411650239327,35.72811431875657,23.426754798451306,25.447345083278925,47.01793676393183,21.491261265632172,18.164439073758555,44.050852247473756,37.119410254777755,48.42899306399054,38.489772158419484,25.530776665483852,15.836810223437631,38.91924954664801,4.028872955420643,19.65616295177411,44.57816759161652,37.189599170353894,26.855106603165968,32.38425529987579,25.418400416244385,22.425454021866788]}];\n",
       " var layout_HtMlux2UZc = {\"height\":550,\"width\":600,\"hovermode\":\"closest\",\"legend\":{\"orientation\":\"v\"},\"title\":{\"text\":\"First Chart - Function Chaining\"},\"showlegend\":true,\"xaxis\":{\"showgrid\":true,\"zeroline\":false,\"showline\":false},\"yaxis\":{\"showgrid\":true,\"zeroline\":false,\"showline\":false}};\n",
       " var config_HtMlux2UZc = {\"responsive\":true,\"scrollZoom\":true,\"displaylogo\":false};\n",
       " Plotly.newPlot(\"graph_HtMlux2UZc\", traces_HtMlux2UZc, layout_HtMlux2UZc, config_HtMlux2UZc);\n",
       "</script> \n"
      ]
     },
     "metadata": {},
     "output_type": "display_data"
    }
   ],
   "source": [
    "// sometimes we may specify many options. In such cases it is clearer to use function chaining as below:\n",
    "val series = XY(x, y)\n",
    "            .asType(SCATTER)\n",
    "            .drawMarkers  // This is to help leverage the IDE autocompletion for quick scripting\n",
    "\n",
    "val chart = Chart()\n",
    "            .addSeries(series)\n",
    "            .setTitle(\"First Chart - Function Chaining\")\n",
    "            // by specifying axes we can get rid of the zerolines\n",
    "            .addAxes(XAxis(zeroline = false), YAxis(zeroline = false)) \n",
    "\n",
    "chart.plotInline"
   ]
  },
  {
   "cell_type": "markdown",
   "metadata": {},
   "source": [
    "#### Bar Chart\n",
    "\n",
    "Now using the same principles as above, let's create a `Bar` chart:"
   ]
  },
  {
   "cell_type": "code",
   "execution_count": 8,
   "metadata": {},
   "outputs": [
    {
     "data": {
      "text/html": [
       "<div id=\"grid-container_OJSKqqtq6Q\" class=\"grid-container\" align=\"center\"> \n",
       "<div id=\"grid_OJSKqqtq6Q\" class=\"grid\" align=\"center\"> \n",
       "<div id=\"graph_tpmkBWHseN\" class=\"graph\"></div> \n",
       "</div> \n",
       "</div> \n",
       "<script>\n",
       "var masonry = new Macy({\n",
       "    container: '#grid_OJSKqqtq6Q',\n",
       "    debug: true,\n",
       "    mobileFirst: true,\n",
       "    columns: 1,\n",
       "    margin: {\n",
       "        x: 0,\n",
       "        y: 0\n",
       "    }\n",
       "  });\n",
       "\n",
       " var traces_tpmkBWHseN = [{\"name\":\"dO2uFW22hP\",\"type\":\"bar\",\"x\":[\"a\",\"b\",\"c\"],\"y\":[10,20,300]}];\n",
       " var layout_tpmkBWHseN = {\"height\":550,\"width\":600,\"hovermode\":\"closest\",\"legend\":{\"orientation\":\"v\"},\"title\":{\"text\":\"Bar Chart\"},\"showlegend\":true};\n",
       " var config_tpmkBWHseN = {\"responsive\":false,\"scrollZoom\":false,\"displaylogo\":false};\n",
       " Plotly.newPlot(\"graph_tpmkBWHseN\", traces_tpmkBWHseN, layout_tpmkBWHseN, config_tpmkBWHseN);\n",
       "</script> \n"
      ]
     },
     "metadata": {},
     "output_type": "display_data"
    }
   ],
   "source": [
    "// First we create some data for the piechart\n",
    "val x_bar = List(\"a\", \"b\", \"c\")\n",
    "val y_bar = List(10, 20, 300)\n",
    "\n",
    "// again feed in the data that we want to represent as a Bar chart.\n",
    "// Notice how we change 'asType SCATTER' to 'asType BAR'\n",
    "val series = XY(x_bar, y_bar) asType BAR\n",
    "\n",
    "// we can turn off the scrollzoom using setConfig\n",
    "val chart = Chart() addSeries series setTitle \"Bar Chart\" setConfig(false, false)\n",
    "\n",
    "chart.plotInline"
   ]
  },
  {
   "cell_type": "markdown",
   "metadata": {},
   "source": [
    "#### Adding Multiple Series on the Same Axis\n",
    "\n",
    "Sometimes we may want to plot multiple `Series` on the same axis to compare different data series.\n",
    "\n",
    "Let's plot both of the above on the same pair of axis:"
   ]
  },
  {
   "cell_type": "code",
   "execution_count": 9,
   "metadata": {},
   "outputs": [],
   "source": [
    "// we import the marker option which lets us specify the marker\n",
    "import org.carbonateresearch.picta.options.Marker\n",
    "import org.carbonateresearch.picta.SymbolShape._"
   ]
  },
  {
   "cell_type": "code",
   "execution_count": 10,
   "metadata": {},
   "outputs": [
    {
     "data": {
      "text/html": [
       "<div id=\"grid-container_XKwmiloWAJ\" class=\"grid-container\" align=\"center\"> \n",
       "<div id=\"grid_XKwmiloWAJ\" class=\"grid\" align=\"center\"> \n",
       "<div id=\"graph_d3yMbwtd56\" class=\"graph\"></div> \n",
       "</div> \n",
       "</div> \n",
       "<script>\n",
       "var masonry = new Macy({\n",
       "    container: '#grid_XKwmiloWAJ',\n",
       "    debug: true,\n",
       "    mobileFirst: true,\n",
       "    columns: 1,\n",
       "    margin: {\n",
       "        x: 0,\n",
       "        y: 0\n",
       "    }\n",
       "  });\n",
       "\n",
       " var traces_d3yMbwtd56 = [{\"name\":\"Bar\",\"type\":\"bar\",\"x\":[3.205255296128451,18.16523913774179,21.419528946167453,28.480404735926484,14.93331955322944,45.589347070898654,16.741992616420482,47.51232150779512,4.0186595586725655,48.48941851284378,30.12592682752469,2.393623617599905,39.86477012346171,31.49364205501121,27.765488993966247,35.82747696198642,34.99634459203601,17.115427616352825,29.7278772805212,35.512500042982325,15.508066507690272,13.678900464340927,28.244465647093904,1.8928944129437797,22.029705546981553,9.158997442603328,18.467849340757788,37.54844227454196,30.949011667856524,2.0766447541919697,30.972433358065427,33.15876745157064,46.03432569763104,47.630439742647354,19.58288075201759,2.1735005532968144,41.31170064912437,47.09984267290977,17.733824988873902,1.3297807239588177,37.07672295142039,41.22083510443643,31.495931605115295,16.98077176758131,12.259107458632757,33.713581330047916,37.64751569236949,47.83363746680923,48.00854510307067,19.432580735959732,0.7275741450687878,23.142697652032478,9.333152254040906,22.7133788661854,13.875207341741513,11.663246946649153,3.8972770106944052,15.405860873344086,4.442090539446076,0.7437829775223448,9.673309132885377,30.812710150576965,26.858739378587256,6.819137844782225,36.04251188255026,19.29260813759241,42.042015569276494,18.264330414485514,26.152814254974793,3.641282885948799,4.750395916643124,19.078639229255934,21.866863636139055,37.529502743217776,47.72522397505625,47.191733059000754,46.47154539218333,48.25566029066095,14.200271673937781,4.318423095459945,14.470572145625344,5.8615879407333535,48.418588615895445,5.235884423701559,2.2446158740623448,4.263761149613288,7.164753531926765,33.116940803414266,8.13886455570353,16.46806386994573,4.002296880878692,4.125294939119412,45.625772277553686,45.1648233458326,41.900178431723184,38.86333808013488,48.591144966989106,32.04180132563802,29.238874234957223,40.46044161245106],\"y\":[23.50463696657909,14.006379172981887,8.805741169790243,39.09939693388417,9.261060397364085,22.17416927755762,9.320986319696411,30.60094324211479,1.8168688110407227,9.95981103186519,4.279705725158683,12.321074620061495,17.396517187002157,19.89671578364993,33.452077059364164,3.0631031087771543,5.006302935045925,4.916050339801253,8.252981387076886,24.966198063825086,26.268708790018714,8.731267453717695,33.373900409110156,24.404399992815335,48.17812009962047,31.702977452597302,33.564136314137194,15.814882016555615,42.27920639620049,13.10002472787914,26.25502144964365,47.071468321309496,1.9821359995166266,48.02608878075755,27.83989750032835,7.529223763316928,28.254190834624417,27.447194657675812,23.85434185745684,30.188152392349544,42.76523686499351,42.73399746782549,21.045207916412313,27.558849736475977,16.714879810323474,31.9237440421387,32.37370422084664,46.760179577570014,3.0320609614016503,13.510319283862444,24.366904330707566,33.138857539411745,29.413208436712683,4.986811253902218,29.913655935284943,3.2730244121815355,49.75295573021064,7.5935164349547115,48.59507875456762,47.60674326410728,11.921841329319916,5.7653711560746395,20.946414854932367,10.159526727334962,30.558290420273117,29.626257274745544,22.66617099788844,27.764849783445015,4.567555224553993,11.543685111961016,29.720120041548547,4.113813754873869,40.35819455862828,33.23585456060039,5.5318802393785,44.51491211842541,33.49707895722266,8.214112234424736,7.008411650239327,35.72811431875657,23.426754798451306,25.447345083278925,47.01793676393183,21.491261265632172,18.164439073758555,44.050852247473756,37.119410254777755,48.42899306399054,38.489772158419484,25.530776665483852,15.836810223437631,38.91924954664801,4.028872955420643,19.65616295177411,44.57816759161652,37.189599170353894,26.855106603165968,32.38425529987579,25.418400416244385,22.425454021866788]},{\"name\":\"Scatter\",\"type\":\"scatter\",\"mode\":\"markers\",\"marker\":{\"symbol\":\"square-open\",\"color\":\"red\"},\"x\":[3.205255296128451,18.16523913774179,21.419528946167453,28.480404735926484,14.93331955322944,45.589347070898654,16.741992616420482,47.51232150779512,4.0186595586725655,48.48941851284378,30.12592682752469,2.393623617599905,39.86477012346171,31.49364205501121,27.765488993966247,35.82747696198642,34.99634459203601,17.115427616352825,29.7278772805212,35.512500042982325,15.508066507690272,13.678900464340927,28.244465647093904,1.8928944129437797,22.029705546981553,9.158997442603328,18.467849340757788,37.54844227454196,30.949011667856524,2.0766447541919697,30.972433358065427,33.15876745157064,46.03432569763104,47.630439742647354,19.58288075201759,2.1735005532968144,41.31170064912437,47.09984267290977,17.733824988873902,1.3297807239588177,37.07672295142039,41.22083510443643,31.495931605115295,16.98077176758131,12.259107458632757,33.713581330047916,37.64751569236949,47.83363746680923,48.00854510307067,19.432580735959732,0.7275741450687878,23.142697652032478,9.333152254040906,22.7133788661854,13.875207341741513,11.663246946649153,3.8972770106944052,15.405860873344086,4.442090539446076,0.7437829775223448,9.673309132885377,30.812710150576965,26.858739378587256,6.819137844782225,36.04251188255026,19.29260813759241,42.042015569276494,18.264330414485514,26.152814254974793,3.641282885948799,4.750395916643124,19.078639229255934,21.866863636139055,37.529502743217776,47.72522397505625,47.191733059000754,46.47154539218333,48.25566029066095,14.200271673937781,4.318423095459945,14.470572145625344,5.8615879407333535,48.418588615895445,5.235884423701559,2.2446158740623448,4.263761149613288,7.164753531926765,33.116940803414266,8.13886455570353,16.46806386994573,4.002296880878692,4.125294939119412,45.625772277553686,45.1648233458326,41.900178431723184,38.86333808013488,48.591144966989106,32.04180132563802,29.238874234957223,40.46044161245106],\"y\":[23.50463696657909,14.006379172981887,8.805741169790243,39.09939693388417,9.261060397364085,22.17416927755762,9.320986319696411,30.60094324211479,1.8168688110407227,9.95981103186519,4.279705725158683,12.321074620061495,17.396517187002157,19.89671578364993,33.452077059364164,3.0631031087771543,5.006302935045925,4.916050339801253,8.252981387076886,24.966198063825086,26.268708790018714,8.731267453717695,33.373900409110156,24.404399992815335,48.17812009962047,31.702977452597302,33.564136314137194,15.814882016555615,42.27920639620049,13.10002472787914,26.25502144964365,47.071468321309496,1.9821359995166266,48.02608878075755,27.83989750032835,7.529223763316928,28.254190834624417,27.447194657675812,23.85434185745684,30.188152392349544,42.76523686499351,42.73399746782549,21.045207916412313,27.558849736475977,16.714879810323474,31.9237440421387,32.37370422084664,46.760179577570014,3.0320609614016503,13.510319283862444,24.366904330707566,33.138857539411745,29.413208436712683,4.986811253902218,29.913655935284943,3.2730244121815355,49.75295573021064,7.5935164349547115,48.59507875456762,47.60674326410728,11.921841329319916,5.7653711560746395,20.946414854932367,10.159526727334962,30.558290420273117,29.626257274745544,22.66617099788844,27.764849783445015,4.567555224553993,11.543685111961016,29.720120041548547,4.113813754873869,40.35819455862828,33.23585456060039,5.5318802393785,44.51491211842541,33.49707895722266,8.214112234424736,7.008411650239327,35.72811431875657,23.426754798451306,25.447345083278925,47.01793676393183,21.491261265632172,18.164439073758555,44.050852247473756,37.119410254777755,48.42899306399054,38.489772158419484,25.530776665483852,15.836810223437631,38.91924954664801,4.028872955420643,19.65616295177411,44.57816759161652,37.189599170353894,26.855106603165968,32.38425529987579,25.418400416244385,22.425454021866788]}];\n",
       " var layout_d3yMbwtd56 = {\"height\":550,\"width\":600,\"hovermode\":\"closest\",\"legend\":{\"orientation\":\"v\"},\"showlegend\":true};\n",
       " var config_d3yMbwtd56 = {\"responsive\":true,\"scrollZoom\":true,\"displaylogo\":false};\n",
       " Plotly.newPlot(\"graph_d3yMbwtd56\", traces_d3yMbwtd56, layout_d3yMbwtd56, config_d3yMbwtd56);\n",
       "</script> \n"
      ]
     },
     "metadata": {},
     "output_type": "display_data"
    }
   ],
   "source": [
    "// additional traces can simply be composed with an existing chart and added on\n",
    "val series1 = XY(x, y) asType BAR setName \"Bar\"\n",
    "\n",
    "// lets give the second series a red marker. Again we can 'compose' a marker using smaller components\n",
    "val marker = Marker() setSymbol SQUARE_OPEN setColor \"red\"\n",
    "\n",
    "val series2 = XY(x, y) asType SCATTER setName \"Scatter\" drawStyle MARKERS setMarker marker\n",
    "\n",
    "// we not put brackets in the 'addSeries' function to ensure that addSeries picks up the right series'\n",
    "val chart = Chart() addSeries(series1, series2)\n",
    "\n",
    "chart.plotInline"
   ]
  },
  {
   "cell_type": "markdown",
   "metadata": {},
   "source": [
    "### Lets Change The Appearance of The Markers\n",
    "\n",
    "We can control the appearance of the markers by setting the width"
   ]
  },
  {
   "cell_type": "code",
   "execution_count": 11,
   "metadata": {},
   "outputs": [
    {
     "data": {
      "text/html": [
       "<div id=\"grid-container_0hTQP5jwnf\" class=\"grid-container\" align=\"center\"> \n",
       "<div id=\"grid_0hTQP5jwnf\" class=\"grid\" align=\"center\"> \n",
       "<div id=\"graph_LPT6Zdif5R\" class=\"graph\"></div> \n",
       "</div> \n",
       "</div> \n",
       "<script>\n",
       "var masonry = new Macy({\n",
       "    container: '#grid_0hTQP5jwnf',\n",
       "    debug: true,\n",
       "    mobileFirst: true,\n",
       "    columns: 1,\n",
       "    margin: {\n",
       "        x: 0,\n",
       "        y: 0\n",
       "    }\n",
       "  });\n",
       "\n",
       " var traces_LPT6Zdif5R = [{\"name\":\"Bar\",\"type\":\"bar\",\"x\":[3.205255296128451,18.16523913774179,21.419528946167453,28.480404735926484,14.93331955322944,45.589347070898654,16.741992616420482,47.51232150779512,4.0186595586725655,48.48941851284378,30.12592682752469,2.393623617599905,39.86477012346171,31.49364205501121,27.765488993966247,35.82747696198642,34.99634459203601,17.115427616352825,29.7278772805212,35.512500042982325,15.508066507690272,13.678900464340927,28.244465647093904,1.8928944129437797,22.029705546981553,9.158997442603328,18.467849340757788,37.54844227454196,30.949011667856524,2.0766447541919697,30.972433358065427,33.15876745157064,46.03432569763104,47.630439742647354,19.58288075201759,2.1735005532968144,41.31170064912437,47.09984267290977,17.733824988873902,1.3297807239588177,37.07672295142039,41.22083510443643,31.495931605115295,16.98077176758131,12.259107458632757,33.713581330047916,37.64751569236949,47.83363746680923,48.00854510307067,19.432580735959732,0.7275741450687878,23.142697652032478,9.333152254040906,22.7133788661854,13.875207341741513,11.663246946649153,3.8972770106944052,15.405860873344086,4.442090539446076,0.7437829775223448,9.673309132885377,30.812710150576965,26.858739378587256,6.819137844782225,36.04251188255026,19.29260813759241,42.042015569276494,18.264330414485514,26.152814254974793,3.641282885948799,4.750395916643124,19.078639229255934,21.866863636139055,37.529502743217776,47.72522397505625,47.191733059000754,46.47154539218333,48.25566029066095,14.200271673937781,4.318423095459945,14.470572145625344,5.8615879407333535,48.418588615895445,5.235884423701559,2.2446158740623448,4.263761149613288,7.164753531926765,33.116940803414266,8.13886455570353,16.46806386994573,4.002296880878692,4.125294939119412,45.625772277553686,45.1648233458326,41.900178431723184,38.86333808013488,48.591144966989106,32.04180132563802,29.238874234957223,40.46044161245106],\"y\":[23.50463696657909,14.006379172981887,8.805741169790243,39.09939693388417,9.261060397364085,22.17416927755762,9.320986319696411,30.60094324211479,1.8168688110407227,9.95981103186519,4.279705725158683,12.321074620061495,17.396517187002157,19.89671578364993,33.452077059364164,3.0631031087771543,5.006302935045925,4.916050339801253,8.252981387076886,24.966198063825086,26.268708790018714,8.731267453717695,33.373900409110156,24.404399992815335,48.17812009962047,31.702977452597302,33.564136314137194,15.814882016555615,42.27920639620049,13.10002472787914,26.25502144964365,47.071468321309496,1.9821359995166266,48.02608878075755,27.83989750032835,7.529223763316928,28.254190834624417,27.447194657675812,23.85434185745684,30.188152392349544,42.76523686499351,42.73399746782549,21.045207916412313,27.558849736475977,16.714879810323474,31.9237440421387,32.37370422084664,46.760179577570014,3.0320609614016503,13.510319283862444,24.366904330707566,33.138857539411745,29.413208436712683,4.986811253902218,29.913655935284943,3.2730244121815355,49.75295573021064,7.5935164349547115,48.59507875456762,47.60674326410728,11.921841329319916,5.7653711560746395,20.946414854932367,10.159526727334962,30.558290420273117,29.626257274745544,22.66617099788844,27.764849783445015,4.567555224553993,11.543685111961016,29.720120041548547,4.113813754873869,40.35819455862828,33.23585456060039,5.5318802393785,44.51491211842541,33.49707895722266,8.214112234424736,7.008411650239327,35.72811431875657,23.426754798451306,25.447345083278925,47.01793676393183,21.491261265632172,18.164439073758555,44.050852247473756,37.119410254777755,48.42899306399054,38.489772158419484,25.530776665483852,15.836810223437631,38.91924954664801,4.028872955420643,19.65616295177411,44.57816759161652,37.189599170353894,26.855106603165968,32.38425529987579,25.418400416244385,22.425454021866788]},{\"name\":\"Scatter\",\"type\":\"scatter\",\"mode\":\"markers\",\"marker\":{\"symbol\":\"circle\",\"color\":\"red\",\"line\":{\"width\":2,\"color\":\"black\"},\"size\":[10,10,10,10,10,10,10,10,10,10,10,10,10,10,10,10,10,10,10,10,10,10,10,10,10,10,10,10,10,10,10,10,10,10,10,10,10,10,10,10,10,10,10,10,10,10,10,10,10,10,10,10,10,10,10,10,10,10,10,10,10,10,10,10,10,10,10,10,10,10,10,10,10,10,10,10,10,10,10,10,10,10,10,10,10,10,10,10,10,10,10,10,10,10,10,10,10,10,10,10]},\"x\":[3.205255296128451,18.16523913774179,21.419528946167453,28.480404735926484,14.93331955322944,45.589347070898654,16.741992616420482,47.51232150779512,4.0186595586725655,48.48941851284378,30.12592682752469,2.393623617599905,39.86477012346171,31.49364205501121,27.765488993966247,35.82747696198642,34.99634459203601,17.115427616352825,29.7278772805212,35.512500042982325,15.508066507690272,13.678900464340927,28.244465647093904,1.8928944129437797,22.029705546981553,9.158997442603328,18.467849340757788,37.54844227454196,30.949011667856524,2.0766447541919697,30.972433358065427,33.15876745157064,46.03432569763104,47.630439742647354,19.58288075201759,2.1735005532968144,41.31170064912437,47.09984267290977,17.733824988873902,1.3297807239588177,37.07672295142039,41.22083510443643,31.495931605115295,16.98077176758131,12.259107458632757,33.713581330047916,37.64751569236949,47.83363746680923,48.00854510307067,19.432580735959732,0.7275741450687878,23.142697652032478,9.333152254040906,22.7133788661854,13.875207341741513,11.663246946649153,3.8972770106944052,15.405860873344086,4.442090539446076,0.7437829775223448,9.673309132885377,30.812710150576965,26.858739378587256,6.819137844782225,36.04251188255026,19.29260813759241,42.042015569276494,18.264330414485514,26.152814254974793,3.641282885948799,4.750395916643124,19.078639229255934,21.866863636139055,37.529502743217776,47.72522397505625,47.191733059000754,46.47154539218333,48.25566029066095,14.200271673937781,4.318423095459945,14.470572145625344,5.8615879407333535,48.418588615895445,5.235884423701559,2.2446158740623448,4.263761149613288,7.164753531926765,33.116940803414266,8.13886455570353,16.46806386994573,4.002296880878692,4.125294939119412,45.625772277553686,45.1648233458326,41.900178431723184,38.86333808013488,48.591144966989106,32.04180132563802,29.238874234957223,40.46044161245106],\"y\":[23.50463696657909,14.006379172981887,8.805741169790243,39.09939693388417,9.261060397364085,22.17416927755762,9.320986319696411,30.60094324211479,1.8168688110407227,9.95981103186519,4.279705725158683,12.321074620061495,17.396517187002157,19.89671578364993,33.452077059364164,3.0631031087771543,5.006302935045925,4.916050339801253,8.252981387076886,24.966198063825086,26.268708790018714,8.731267453717695,33.373900409110156,24.404399992815335,48.17812009962047,31.702977452597302,33.564136314137194,15.814882016555615,42.27920639620049,13.10002472787914,26.25502144964365,47.071468321309496,1.9821359995166266,48.02608878075755,27.83989750032835,7.529223763316928,28.254190834624417,27.447194657675812,23.85434185745684,30.188152392349544,42.76523686499351,42.73399746782549,21.045207916412313,27.558849736475977,16.714879810323474,31.9237440421387,32.37370422084664,46.760179577570014,3.0320609614016503,13.510319283862444,24.366904330707566,33.138857539411745,29.413208436712683,4.986811253902218,29.913655935284943,3.2730244121815355,49.75295573021064,7.5935164349547115,48.59507875456762,47.60674326410728,11.921841329319916,5.7653711560746395,20.946414854932367,10.159526727334962,30.558290420273117,29.626257274745544,22.66617099788844,27.764849783445015,4.567555224553993,11.543685111961016,29.720120041548547,4.113813754873869,40.35819455862828,33.23585456060039,5.5318802393785,44.51491211842541,33.49707895722266,8.214112234424736,7.008411650239327,35.72811431875657,23.426754798451306,25.447345083278925,47.01793676393183,21.491261265632172,18.164439073758555,44.050852247473756,37.119410254777755,48.42899306399054,38.489772158419484,25.530776665483852,15.836810223437631,38.91924954664801,4.028872955420643,19.65616295177411,44.57816759161652,37.189599170353894,26.855106603165968,32.38425529987579,25.418400416244385,22.425454021866788]}];\n",
       " var layout_LPT6Zdif5R = {\"height\":550,\"width\":600,\"hovermode\":\"closest\",\"legend\":{\"orientation\":\"v\"},\"showlegend\":true};\n",
       " var config_LPT6Zdif5R = {\"responsive\":false,\"scrollZoom\":false,\"displaylogo\":false};\n",
       " Plotly.newPlot(\"graph_LPT6Zdif5R\", traces_LPT6Zdif5R, layout_LPT6Zdif5R, config_LPT6Zdif5R);\n",
       "</script> \n"
      ]
     },
     "metadata": {},
     "output_type": "display_data"
    }
   ],
   "source": [
    "// we can pass in the size of the markers\n",
    "val sizes = List.range(0, 100).map(x => 10)\n",
    "\n",
    "// additional traces can simply be composed with an existing chart and added on\n",
    "val series1 = XY(x, y) asType BAR setName \"Bar\"\n",
    "\n",
    "// lets give the second series a red marker. Again we can 'compose' a marker using smaller components\n",
    "val marker = (\n",
    "    Marker() \n",
    "    // sets the marker shape\n",
    "    setSymbol CIRCLE\n",
    "    // sets the fill to red\n",
    "    setColor \"red\" \n",
    "    // sets the outline to black, with width 2\n",
    "    setLine(width = 2, \"black\")\n",
    "    // set the size of the markers to 10 as per the list we created\n",
    "    setSize(sizes)\n",
    ") \n",
    "\n",
    "val series2 = XY(x, y) asType SCATTER setName \"Scatter\" drawStyle MARKERS setMarker marker\n",
    "\n",
    "// we not put brackets in the 'addSeries' function to ensure that addSeries picks up the right series'\n",
    "val chart = Chart() addSeries(series1, series2) setConfig(false, false)\n",
    "\n",
    "chart.plotInline"
   ]
  },
  {
   "cell_type": "markdown",
   "metadata": {},
   "source": [
    "### Adding Another Axes\n",
    "\n",
    "Sometimes we may wish to plot multiple series, but on two different Axes. We can do this as follows:"
   ]
  },
  {
   "cell_type": "code",
   "execution_count": 12,
   "metadata": {},
   "outputs": [
    {
     "data": {
      "text/html": [
       "<div id=\"grid-container_XLnNQpmWjv\" class=\"grid-container\" align=\"center\"> \n",
       "<div id=\"grid_XLnNQpmWjv\" class=\"grid\" align=\"center\"> \n",
       "<div id=\"graph_avICVWm1Da\" class=\"graph\"></div> \n",
       "</div> \n",
       "</div> \n",
       "<script>\n",
       "var masonry = new Macy({\n",
       "    container: '#grid_XLnNQpmWjv',\n",
       "    debug: true,\n",
       "    mobileFirst: true,\n",
       "    columns: 1,\n",
       "    margin: {\n",
       "        x: 0,\n",
       "        y: 0\n",
       "    }\n",
       "  });\n",
       "\n",
       " var traces_avICVWm1Da = [{\"name\":\"SzibPPdTAS\",\"type\":\"scatter\",\"mode\":\"markers\",\"x\":[3.205255296128451,18.16523913774179,21.419528946167453,28.480404735926484,14.93331955322944,45.589347070898654,16.741992616420482,47.51232150779512,4.0186595586725655,48.48941851284378,30.12592682752469,2.393623617599905,39.86477012346171,31.49364205501121,27.765488993966247,35.82747696198642,34.99634459203601,17.115427616352825,29.7278772805212,35.512500042982325,15.508066507690272,13.678900464340927,28.244465647093904,1.8928944129437797,22.029705546981553,9.158997442603328,18.467849340757788,37.54844227454196,30.949011667856524,2.0766447541919697,30.972433358065427,33.15876745157064,46.03432569763104,47.630439742647354,19.58288075201759,2.1735005532968144,41.31170064912437,47.09984267290977,17.733824988873902,1.3297807239588177,37.07672295142039,41.22083510443643,31.495931605115295,16.98077176758131,12.259107458632757,33.713581330047916,37.64751569236949,47.83363746680923,48.00854510307067,19.432580735959732,0.7275741450687878,23.142697652032478,9.333152254040906,22.7133788661854,13.875207341741513,11.663246946649153,3.8972770106944052,15.405860873344086,4.442090539446076,0.7437829775223448,9.673309132885377,30.812710150576965,26.858739378587256,6.819137844782225,36.04251188255026,19.29260813759241,42.042015569276494,18.264330414485514,26.152814254974793,3.641282885948799,4.750395916643124,19.078639229255934,21.866863636139055,37.529502743217776,47.72522397505625,47.191733059000754,46.47154539218333,48.25566029066095,14.200271673937781,4.318423095459945,14.470572145625344,5.8615879407333535,48.418588615895445,5.235884423701559,2.2446158740623448,4.263761149613288,7.164753531926765,33.116940803414266,8.13886455570353,16.46806386994573,4.002296880878692,4.125294939119412,45.625772277553686,45.1648233458326,41.900178431723184,38.86333808013488,48.591144966989106,32.04180132563802,29.238874234957223,40.46044161245106],\"y\":[23.50463696657909,14.006379172981887,8.805741169790243,39.09939693388417,9.261060397364085,22.17416927755762,9.320986319696411,30.60094324211479,1.8168688110407227,9.95981103186519,4.279705725158683,12.321074620061495,17.396517187002157,19.89671578364993,33.452077059364164,3.0631031087771543,5.006302935045925,4.916050339801253,8.252981387076886,24.966198063825086,26.268708790018714,8.731267453717695,33.373900409110156,24.404399992815335,48.17812009962047,31.702977452597302,33.564136314137194,15.814882016555615,42.27920639620049,13.10002472787914,26.25502144964365,47.071468321309496,1.9821359995166266,48.02608878075755,27.83989750032835,7.529223763316928,28.254190834624417,27.447194657675812,23.85434185745684,30.188152392349544,42.76523686499351,42.73399746782549,21.045207916412313,27.558849736475977,16.714879810323474,31.9237440421387,32.37370422084664,46.760179577570014,3.0320609614016503,13.510319283862444,24.366904330707566,33.138857539411745,29.413208436712683,4.986811253902218,29.913655935284943,3.2730244121815355,49.75295573021064,7.5935164349547115,48.59507875456762,47.60674326410728,11.921841329319916,5.7653711560746395,20.946414854932367,10.159526727334962,30.558290420273117,29.626257274745544,22.66617099788844,27.764849783445015,4.567555224553993,11.543685111961016,29.720120041548547,4.113813754873869,40.35819455862828,33.23585456060039,5.5318802393785,44.51491211842541,33.49707895722266,8.214112234424736,7.008411650239327,35.72811431875657,23.426754798451306,25.447345083278925,47.01793676393183,21.491261265632172,18.164439073758555,44.050852247473756,37.119410254777755,48.42899306399054,38.489772158419484,25.530776665483852,15.836810223437631,38.91924954664801,4.028872955420643,19.65616295177411,44.57816759161652,37.189599170353894,26.855106603165968,32.38425529987579,25.418400416244385,22.425454021866788]},{\"name\":\"svsPW8S8ow\",\"type\":\"scatter\",\"mode\":\"markers\",\"yaxis\":\"y2\",\"x\":[3.205255296128451,18.16523913774179,21.419528946167453,28.480404735926484,14.93331955322944,45.589347070898654,16.741992616420482,47.51232150779512,4.0186595586725655,48.48941851284378,30.12592682752469,2.393623617599905,39.86477012346171,31.49364205501121,27.765488993966247,35.82747696198642,34.99634459203601,17.115427616352825,29.7278772805212,35.512500042982325,15.508066507690272,13.678900464340927,28.244465647093904,1.8928944129437797,22.029705546981553,9.158997442603328,18.467849340757788,37.54844227454196,30.949011667856524,2.0766447541919697,30.972433358065427,33.15876745157064,46.03432569763104,47.630439742647354,19.58288075201759,2.1735005532968144,41.31170064912437,47.09984267290977,17.733824988873902,1.3297807239588177,37.07672295142039,41.22083510443643,31.495931605115295,16.98077176758131,12.259107458632757,33.713581330047916,37.64751569236949,47.83363746680923,48.00854510307067,19.432580735959732,0.7275741450687878,23.142697652032478,9.333152254040906,22.7133788661854,13.875207341741513,11.663246946649153,3.8972770106944052,15.405860873344086,4.442090539446076,0.7437829775223448,9.673309132885377,30.812710150576965,26.858739378587256,6.819137844782225,36.04251188255026,19.29260813759241,42.042015569276494,18.264330414485514,26.152814254974793,3.641282885948799,4.750395916643124,19.078639229255934,21.866863636139055,37.529502743217776,47.72522397505625,47.191733059000754,46.47154539218333,48.25566029066095,14.200271673937781,4.318423095459945,14.470572145625344,5.8615879407333535,48.418588615895445,5.235884423701559,2.2446158740623448,4.263761149613288,7.164753531926765,33.116940803414266,8.13886455570353,16.46806386994573,4.002296880878692,4.125294939119412,45.625772277553686,45.1648233458326,41.900178431723184,38.86333808013488,48.591144966989106,32.04180132563802,29.238874234957223,40.46044161245106],\"y\":[41.75238119775834,49.430632724960425,12.396625125186967,37.99447128532094,36.12469123505334,17.054328480208387,0.7227999801279583,49.02622512822534,46.685971807379936,42.4190603616719,36.345175882931265,11.533474869544008,14.52727992731192,19.49525339835351,41.69915972029145,15.02114937675893,34.93366460955117,12.883508900609309,2.1398670802499744,47.1014185321859,3.4109782587493145,41.16872717845769,1.5547433595431037,23.017971290290657,44.78332072112377,43.455091331476915,34.959314769424516,25.17993262750683,17.93462493283752,37.585623723180454,10.498224411392759,7.815556455674977,14.793350208629386,36.21606414233069,33.205398207548356,39.67815333723881,18.4970962656548,27.391321421307186,38.121284768594,33.3714404983766,2.3243676289162627,49.56376685615802,10.921781708197486,43.30878172657734,37.94358416168239,47.09615995869372,0.08258521673677466,5.580546971391942,38.804857885389765,31.20799581066842,35.78434843568026,42.07609117317473,42.08790935859126,43.05261010930621,27.25816858300497,8.091614123417084,30.51991427412444,20.15335666311379,12.077582358197386,27.35242471728771,13.58994904475444,4.780711512119923,28.02234747578103,30.887909440450017,26.21210556497332,3.0181723257179605,20.570987661629502,46.519760575340975,11.7272156711751,6.24332766544064,36.823158559366874,23.858787199421492,35.28354405022603,22.541489695946854,39.70958519304422,25.652905618981865,23.099673884675358,34.172805554437865,4.716426006277508,20.088654889525998,42.888213268586355,48.6297697103087,35.03256592241453,20.220873082675045,30.806842462320038,45.050584300576254,0.022510483441057216,36.08990560249248,30.703607592982497,34.79481041890916,16.234145834517843,32.283013615138046,42.13624991999778,4.841316034347532,49.76980382362608,18.706387835401777,24.670770329657728,45.33446190494759,23.78071006261699,45.156461525602126]}];\n",
       " var layout_avICVWm1Da = {\"height\":550,\"width\":600,\"hovermode\":\"closest\",\"legend\":{\"orientation\":\"v\"},\"title\":{\"text\":\"Multiple Axes\"},\"showlegend\":true,\"xaxis\":{\"title\":{\"text\":\"X Axis\"},\"showgrid\":true,\"zeroline\":false,\"showline\":false},\"yaxis\":{\"title\":{\"text\":\"First Y Axis\"},\"showgrid\":true,\"zeroline\":false,\"showline\":false},\"yaxis2\":{\"title\":{\"text\":\"Second y axis\"},\"showgrid\":true,\"zeroline\":false,\"showline\":false,\"side\":\"right\",\"overlaying\":\"y\"}};\n",
       " var config_avICVWm1Da = {\"responsive\":false,\"scrollZoom\":false,\"displaylogo\":false};\n",
       " Plotly.newPlot(\"graph_avICVWm1Da\", traces_avICVWm1Da, layout_avICVWm1Da, config_avICVWm1Da);\n",
       "</script> \n"
      ]
     },
     "metadata": {},
     "output_type": "display_data"
    }
   ],
   "source": [
    "val series1 = XY(x, y) asType SCATTER drawStyle MARKERS\n",
    "\n",
    "// The following maps the series onto the second Y axis.\n",
    "val series2 = (\n",
    "    XY(x, z) \n",
    "    asType SCATTER \n",
    "    drawStyle MARKERS \n",
    "    setAxis YAxis(2)\n",
    ")\n",
    "      \n",
    "val chart = (\n",
    "    Chart() \n",
    "    setTitle \"Multiple Axes\"\n",
    "    // the following makes the chart unresponsive\n",
    "    setConfig(false, false) \n",
    "    addSeries(series1, series2) \n",
    "    // the following tells the chart how t render the second Y Axis\n",
    "    addAxes YAxis(position = 2, title = \"Second y axis\", overlaying = YAxis(), side = RIGHT)\n",
    "    addAxes YAxis(1, \"First Y Axis\")\n",
    "    addAxes XAxis(title = \"X Axis\")\n",
    ") \n",
    "\n",
    "// this is just for illustration purposes, but we can also do the following\n",
    "val canvas = Canvas() setChart(0, 0, chart)\n",
    "\n",
    "canvas.plotInline"
   ]
  },
  {
   "cell_type": "markdown",
   "metadata": {},
   "source": [
    "### Customizing the Axes\n",
    "\n",
    "As can be seen from some of the examples above, the axes were not set. While for quick data exploration the above is acceptable, for presentation purposes we would want named axes.\n",
    "\n",
    "We can do this as follows:"
   ]
  },
  {
   "cell_type": "code",
   "execution_count": 13,
   "metadata": {},
   "outputs": [
    {
     "data": {
      "text/html": [
       "<div id=\"grid-container_cwzs6knrDx\" class=\"grid-container\" align=\"center\"> \n",
       "<div id=\"grid_cwzs6knrDx\" class=\"grid\" align=\"center\"> \n",
       "<div id=\"graph_HZlnAHjtMy\" class=\"graph\"></div> \n",
       "</div> \n",
       "</div> \n",
       "<script>\n",
       "var masonry = new Macy({\n",
       "    container: '#grid_cwzs6knrDx',\n",
       "    debug: true,\n",
       "    mobileFirst: true,\n",
       "    columns: 1,\n",
       "    margin: {\n",
       "        x: 0,\n",
       "        y: 0\n",
       "    }\n",
       "  });\n",
       "\n",
       " var traces_HZlnAHjtMy = [{\"name\":\"SzibPPdTAS\",\"type\":\"scatter\",\"mode\":\"markers\",\"x\":[3.205255296128451,18.16523913774179,21.419528946167453,28.480404735926484,14.93331955322944,45.589347070898654,16.741992616420482,47.51232150779512,4.0186595586725655,48.48941851284378,30.12592682752469,2.393623617599905,39.86477012346171,31.49364205501121,27.765488993966247,35.82747696198642,34.99634459203601,17.115427616352825,29.7278772805212,35.512500042982325,15.508066507690272,13.678900464340927,28.244465647093904,1.8928944129437797,22.029705546981553,9.158997442603328,18.467849340757788,37.54844227454196,30.949011667856524,2.0766447541919697,30.972433358065427,33.15876745157064,46.03432569763104,47.630439742647354,19.58288075201759,2.1735005532968144,41.31170064912437,47.09984267290977,17.733824988873902,1.3297807239588177,37.07672295142039,41.22083510443643,31.495931605115295,16.98077176758131,12.259107458632757,33.713581330047916,37.64751569236949,47.83363746680923,48.00854510307067,19.432580735959732,0.7275741450687878,23.142697652032478,9.333152254040906,22.7133788661854,13.875207341741513,11.663246946649153,3.8972770106944052,15.405860873344086,4.442090539446076,0.7437829775223448,9.673309132885377,30.812710150576965,26.858739378587256,6.819137844782225,36.04251188255026,19.29260813759241,42.042015569276494,18.264330414485514,26.152814254974793,3.641282885948799,4.750395916643124,19.078639229255934,21.866863636139055,37.529502743217776,47.72522397505625,47.191733059000754,46.47154539218333,48.25566029066095,14.200271673937781,4.318423095459945,14.470572145625344,5.8615879407333535,48.418588615895445,5.235884423701559,2.2446158740623448,4.263761149613288,7.164753531926765,33.116940803414266,8.13886455570353,16.46806386994573,4.002296880878692,4.125294939119412,45.625772277553686,45.1648233458326,41.900178431723184,38.86333808013488,48.591144966989106,32.04180132563802,29.238874234957223,40.46044161245106],\"y\":[23.50463696657909,14.006379172981887,8.805741169790243,39.09939693388417,9.261060397364085,22.17416927755762,9.320986319696411,30.60094324211479,1.8168688110407227,9.95981103186519,4.279705725158683,12.321074620061495,17.396517187002157,19.89671578364993,33.452077059364164,3.0631031087771543,5.006302935045925,4.916050339801253,8.252981387076886,24.966198063825086,26.268708790018714,8.731267453717695,33.373900409110156,24.404399992815335,48.17812009962047,31.702977452597302,33.564136314137194,15.814882016555615,42.27920639620049,13.10002472787914,26.25502144964365,47.071468321309496,1.9821359995166266,48.02608878075755,27.83989750032835,7.529223763316928,28.254190834624417,27.447194657675812,23.85434185745684,30.188152392349544,42.76523686499351,42.73399746782549,21.045207916412313,27.558849736475977,16.714879810323474,31.9237440421387,32.37370422084664,46.760179577570014,3.0320609614016503,13.510319283862444,24.366904330707566,33.138857539411745,29.413208436712683,4.986811253902218,29.913655935284943,3.2730244121815355,49.75295573021064,7.5935164349547115,48.59507875456762,47.60674326410728,11.921841329319916,5.7653711560746395,20.946414854932367,10.159526727334962,30.558290420273117,29.626257274745544,22.66617099788844,27.764849783445015,4.567555224553993,11.543685111961016,29.720120041548547,4.113813754873869,40.35819455862828,33.23585456060039,5.5318802393785,44.51491211842541,33.49707895722266,8.214112234424736,7.008411650239327,35.72811431875657,23.426754798451306,25.447345083278925,47.01793676393183,21.491261265632172,18.164439073758555,44.050852247473756,37.119410254777755,48.42899306399054,38.489772158419484,25.530776665483852,15.836810223437631,38.91924954664801,4.028872955420643,19.65616295177411,44.57816759161652,37.189599170353894,26.855106603165968,32.38425529987579,25.418400416244385,22.425454021866788]}];\n",
       " var layout_HZlnAHjtMy = {\"height\":550,\"width\":600,\"hovermode\":\"closest\",\"legend\":{\"orientation\":\"v\"},\"title\":{\"text\":\"Chart with Axes\"},\"showlegend\":true,\"xaxis\":{\"title\":{\"text\":\"x variable\"},\"showgrid\":true,\"zeroline\":false,\"showline\":false},\"yaxis\":{\"title\":{\"text\":\"y variable\"},\"showgrid\":true,\"zeroline\":false,\"showline\":false}};\n",
       " var config_HZlnAHjtMy = {\"responsive\":true,\"scrollZoom\":true,\"displaylogo\":false};\n",
       " Plotly.newPlot(\"graph_HZlnAHjtMy\", traces_HZlnAHjtMy, layout_HZlnAHjtMy, config_HZlnAHjtMy);\n",
       "</script> \n"
      ]
     },
     "metadata": {},
     "output_type": "display_data"
    }
   ],
   "source": [
    "// We construct the axes and set their title\n",
    "val xaxis = XAxis(title = \"x variable\")\n",
    "val yaxis = YAxis(title = \"y variable\")\n",
    "\n",
    "// another way to do composition is to just add a bracket around the composition\n",
    "val chart = (\n",
    "    Chart()\n",
    "    setTitle \"Chart with Axes\"\n",
    "    addSeries(series1)\n",
    "    addAxes(xaxis, yaxis)\n",
    ")\n",
    "\n",
    "chart.plotInline"
   ]
  },
  {
   "cell_type": "markdown",
   "metadata": {},
   "source": [
    "### Display options - MultiCharts\n",
    "\n",
    "`MultiCharts` are a way to plot multiple axes on the same chart. This is seperate to Picta's grid system, which create a grid of subplot `Chart`'s. The next series of examples will make this clearer."
   ]
  },
  {
   "cell_type": "code",
   "execution_count": 14,
   "metadata": {},
   "outputs": [
    {
     "data": {
      "text/html": [
       "<div id=\"grid-container_JBwNdfMYFx\" class=\"grid-container\" align=\"center\"> \n",
       "<div id=\"grid_JBwNdfMYFx\" class=\"grid\" align=\"center\"> \n",
       "<div id=\"graph_Iv9JPIT2Jz\" class=\"graph\"></div> \n",
       "</div> \n",
       "</div> \n",
       "<script>\n",
       "var masonry = new Macy({\n",
       "    container: '#grid_JBwNdfMYFx',\n",
       "    debug: true,\n",
       "    mobileFirst: true,\n",
       "    columns: 1,\n",
       "    margin: {\n",
       "        x: 0,\n",
       "        y: 0\n",
       "    }\n",
       "  });\n",
       "\n",
       " var traces_Iv9JPIT2Jz = [{\"name\":\"uogRaGYsjw\",\"type\":\"scatter\",\"mode\":\"markers\",\"x\":[1,2,3],\"y\":[2,4,5]},{\"name\":\"1FwLf98zhb\",\"type\":\"scatter\",\"mode\":\"markers\",\"xaxis\":\"x2\",\"yaxis\":\"y2\",\"x\":[3.205255296128451,18.16523913774179,21.419528946167453,28.480404735926484,14.93331955322944,45.589347070898654,16.741992616420482,47.51232150779512,4.0186595586725655,48.48941851284378,30.12592682752469,2.393623617599905,39.86477012346171,31.49364205501121,27.765488993966247,35.82747696198642,34.99634459203601,17.115427616352825,29.7278772805212,35.512500042982325,15.508066507690272,13.678900464340927,28.244465647093904,1.8928944129437797,22.029705546981553,9.158997442603328,18.467849340757788,37.54844227454196,30.949011667856524,2.0766447541919697,30.972433358065427,33.15876745157064,46.03432569763104,47.630439742647354,19.58288075201759,2.1735005532968144,41.31170064912437,47.09984267290977,17.733824988873902,1.3297807239588177,37.07672295142039,41.22083510443643,31.495931605115295,16.98077176758131,12.259107458632757,33.713581330047916,37.64751569236949,47.83363746680923,48.00854510307067,19.432580735959732,0.7275741450687878,23.142697652032478,9.333152254040906,22.7133788661854,13.875207341741513,11.663246946649153,3.8972770106944052,15.405860873344086,4.442090539446076,0.7437829775223448,9.673309132885377,30.812710150576965,26.858739378587256,6.819137844782225,36.04251188255026,19.29260813759241,42.042015569276494,18.264330414485514,26.152814254974793,3.641282885948799,4.750395916643124,19.078639229255934,21.866863636139055,37.529502743217776,47.72522397505625,47.191733059000754,46.47154539218333,48.25566029066095,14.200271673937781,4.318423095459945,14.470572145625344,5.8615879407333535,48.418588615895445,5.235884423701559,2.2446158740623448,4.263761149613288,7.164753531926765,33.116940803414266,8.13886455570353,16.46806386994573,4.002296880878692,4.125294939119412,45.625772277553686,45.1648233458326,41.900178431723184,38.86333808013488,48.591144966989106,32.04180132563802,29.238874234957223,40.46044161245106],\"y\":[23.50463696657909,14.006379172981887,8.805741169790243,39.09939693388417,9.261060397364085,22.17416927755762,9.320986319696411,30.60094324211479,1.8168688110407227,9.95981103186519,4.279705725158683,12.321074620061495,17.396517187002157,19.89671578364993,33.452077059364164,3.0631031087771543,5.006302935045925,4.916050339801253,8.252981387076886,24.966198063825086,26.268708790018714,8.731267453717695,33.373900409110156,24.404399992815335,48.17812009962047,31.702977452597302,33.564136314137194,15.814882016555615,42.27920639620049,13.10002472787914,26.25502144964365,47.071468321309496,1.9821359995166266,48.02608878075755,27.83989750032835,7.529223763316928,28.254190834624417,27.447194657675812,23.85434185745684,30.188152392349544,42.76523686499351,42.73399746782549,21.045207916412313,27.558849736475977,16.714879810323474,31.9237440421387,32.37370422084664,46.760179577570014,3.0320609614016503,13.510319283862444,24.366904330707566,33.138857539411745,29.413208436712683,4.986811253902218,29.913655935284943,3.2730244121815355,49.75295573021064,7.5935164349547115,48.59507875456762,47.60674326410728,11.921841329319916,5.7653711560746395,20.946414854932367,10.159526727334962,30.558290420273117,29.626257274745544,22.66617099788844,27.764849783445015,4.567555224553993,11.543685111961016,29.720120041548547,4.113813754873869,40.35819455862828,33.23585456060039,5.5318802393785,44.51491211842541,33.49707895722266,8.214112234424736,7.008411650239327,35.72811431875657,23.426754798451306,25.447345083278925,47.01793676393183,21.491261265632172,18.164439073758555,44.050852247473756,37.119410254777755,48.42899306399054,38.489772158419484,25.530776665483852,15.836810223437631,38.91924954664801,4.028872955420643,19.65616295177411,44.57816759161652,37.189599170353894,26.855106603165968,32.38425529987579,25.418400416244385,22.425454021866788]}];\n",
       " var layout_Iv9JPIT2Jz = {\"height\":550,\"width\":600,\"hovermode\":\"closest\",\"legend\":{\"orientation\":\"v\"},\"title\":{\"text\":\"Chart.Axis.Composition\"},\"showlegend\":true,\"grid\":{\"rows\":1,\"columns\":2,\"pattern\":\"independent\"},\"xaxis\":{\"title\":{\"text\":\"x1\"},\"showgrid\":true,\"zeroline\":false,\"showline\":false},\"yaxis\":{\"showgrid\":true,\"zeroline\":false,\"showline\":false},\"xaxis2\":{\"title\":{\"text\":\"x2\"},\"showgrid\":true,\"zeroline\":false,\"showline\":false},\"yaxis2\":{\"showgrid\":true,\"zeroline\":false,\"showline\":false}};\n",
       " var config_Iv9JPIT2Jz = {\"responsive\":false,\"scrollZoom\":true,\"displaylogo\":false};\n",
       " Plotly.newPlot(\"graph_Iv9JPIT2Jz\", traces_Iv9JPIT2Jz, layout_Iv9JPIT2Jz, config_Iv9JPIT2Jz);\n",
       "</script> \n"
      ]
     },
     "metadata": {},
     "output_type": "display_data"
    }
   ],
   "source": [
    "// create the axes\n",
    "val xaxis1 = XAxis() setTitle \"x1\"\n",
    "val yaxis1 = YAxis() // this is not strictly necessary, but if it is not added there will be a zeroline at y = 0\n",
    "\n",
    "val xaxis2 = XAxis(2) setTitle \"x2\"\n",
    "val yaxis2 = YAxis(2) // this is not strictly necessary, but if it is not added there will be a zeroline at y = 0\n",
    "\n",
    "val series1 = (\n",
    "    XY(x = List(1, 2, 3), y = List(2, 4, 5))\n",
    "    asType SCATTER\n",
    "    drawStyle MARKERS\n",
    ")\n",
    "\n",
    "val series2 = (\n",
    "    XY(x = x, y = y) \n",
    "    asType SCATTER \n",
    "    drawStyle MARKERS \n",
    "    setAxes (xaxis2, yaxis2)\n",
    ")\n",
    "\n",
    "val chart1 = Chart()\n",
    "            .addSeries(series1, series2)\n",
    "            .setTitle(\"Chart.Axis.Composition\")\n",
    "            .addAxes(xaxis1, yaxis1, xaxis2, yaxis2)\n",
    "            .setConfig(responsive=false)\n",
    "            // This tells Picta that we want to actually subdivide this chart into multiple plots\n",
    "            .asMultiChart(1, 2)\n",
    "\n",
    "chart1.plotInline"
   ]
  },
  {
   "cell_type": "markdown",
   "metadata": {},
   "source": [
    "### Picta's Subplot System\n",
    "\n",
    "While the above is useful, sometimes it is more useful to plot independent charts in a subplot grid. This is where we can use the Picta subplot system.\n",
    "\n",
    "In the subplots below, each subplot is an individual `Chart`. This means we can actually embed the above `MultiChart` inside another subplot. This way we can create nested subplots to showcase any data we need to.\n",
    "\n",
    "Used creatively, this subplot system can be very useful for data exploration."
   ]
  },
  {
   "cell_type": "code",
   "execution_count": 15,
   "metadata": {
    "scrolled": false
   },
   "outputs": [
    {
     "data": {
      "text/html": [
       "<div id=\"grid-container_jy3boSRPOK\" class=\"grid-container\" align=\"center\"> \n",
       "<div class=\"grid-title\" align=\"center\"> <h1>The Picta Grid</h1> </div> \n",
       "<div id=\"grid_jy3boSRPOK\" class=\"grid\" align=\"center\"> \n",
       "<div id=\"graph_rBvr43WiCZ\" class=\"graph\"></div> \n",
       "<div id=\"graph_LViGZ09Xzw\" class=\"graph\"></div> \n",
       "<div id=\"graph_ZUxnRVT33i\" class=\"graph\"></div> \n",
       "<div id=\"graph_cFr8EbRkGD\" class=\"graph\"></div> \n",
       "</div> \n",
       "</div> \n",
       "\n",
       "<div align=\"center\">\n",
       "<button id = \"saveAsPNG_jy3boSRPOK\" class=\"picta-button\">Download Canvas as PNG</button>\n",
       "</div>\n",
       "<script>\n",
       "var masonry = new Macy({\n",
       "    container: '#grid_jy3boSRPOK',\n",
       "    debug: true,\n",
       "    mobileFirst: true,\n",
       "    columns: 2,\n",
       "    margin: {\n",
       "        x: 0,\n",
       "        y: 0\n",
       "    }\n",
       "  });\n",
       "\n",
       " var traces_rBvr43WiCZ = [{\"name\":\"a\",\"type\":\"scatter\",\"mode\":\"markers\",\"x\":[3.205255296128451,18.16523913774179,21.419528946167453,28.480404735926484,14.93331955322944,45.589347070898654,16.741992616420482,47.51232150779512,4.0186595586725655,48.48941851284378,30.12592682752469,2.393623617599905,39.86477012346171,31.49364205501121,27.765488993966247,35.82747696198642,34.99634459203601,17.115427616352825,29.7278772805212,35.512500042982325,15.508066507690272,13.678900464340927,28.244465647093904,1.8928944129437797,22.029705546981553,9.158997442603328,18.467849340757788,37.54844227454196,30.949011667856524,2.0766447541919697,30.972433358065427,33.15876745157064,46.03432569763104,47.630439742647354,19.58288075201759,2.1735005532968144,41.31170064912437,47.09984267290977,17.733824988873902,1.3297807239588177,37.07672295142039,41.22083510443643,31.495931605115295,16.98077176758131,12.259107458632757,33.713581330047916,37.64751569236949,47.83363746680923,48.00854510307067,19.432580735959732,0.7275741450687878,23.142697652032478,9.333152254040906,22.7133788661854,13.875207341741513,11.663246946649153,3.8972770106944052,15.405860873344086,4.442090539446076,0.7437829775223448,9.673309132885377,30.812710150576965,26.858739378587256,6.819137844782225,36.04251188255026,19.29260813759241,42.042015569276494,18.264330414485514,26.152814254974793,3.641282885948799,4.750395916643124,19.078639229255934,21.866863636139055,37.529502743217776,47.72522397505625,47.191733059000754,46.47154539218333,48.25566029066095,14.200271673937781,4.318423095459945,14.470572145625344,5.8615879407333535,48.418588615895445,5.235884423701559,2.2446158740623448,4.263761149613288,7.164753531926765,33.116940803414266,8.13886455570353,16.46806386994573,4.002296880878692,4.125294939119412,45.625772277553686,45.1648233458326,41.900178431723184,38.86333808013488,48.591144966989106,32.04180132563802,29.238874234957223,40.46044161245106],\"y\":[23.50463696657909,14.006379172981887,8.805741169790243,39.09939693388417,9.261060397364085,22.17416927755762,9.320986319696411,30.60094324211479,1.8168688110407227,9.95981103186519,4.279705725158683,12.321074620061495,17.396517187002157,19.89671578364993,33.452077059364164,3.0631031087771543,5.006302935045925,4.916050339801253,8.252981387076886,24.966198063825086,26.268708790018714,8.731267453717695,33.373900409110156,24.404399992815335,48.17812009962047,31.702977452597302,33.564136314137194,15.814882016555615,42.27920639620049,13.10002472787914,26.25502144964365,47.071468321309496,1.9821359995166266,48.02608878075755,27.83989750032835,7.529223763316928,28.254190834624417,27.447194657675812,23.85434185745684,30.188152392349544,42.76523686499351,42.73399746782549,21.045207916412313,27.558849736475977,16.714879810323474,31.9237440421387,32.37370422084664,46.760179577570014,3.0320609614016503,13.510319283862444,24.366904330707566,33.138857539411745,29.413208436712683,4.986811253902218,29.913655935284943,3.2730244121815355,49.75295573021064,7.5935164349547115,48.59507875456762,47.60674326410728,11.921841329319916,5.7653711560746395,20.946414854932367,10.159526727334962,30.558290420273117,29.626257274745544,22.66617099788844,27.764849783445015,4.567555224553993,11.543685111961016,29.720120041548547,4.113813754873869,40.35819455862828,33.23585456060039,5.5318802393785,44.51491211842541,33.49707895722266,8.214112234424736,7.008411650239327,35.72811431875657,23.426754798451306,25.447345083278925,47.01793676393183,21.491261265632172,18.164439073758555,44.050852247473756,37.119410254777755,48.42899306399054,38.489772158419484,25.530776665483852,15.836810223437631,38.91924954664801,4.028872955420643,19.65616295177411,44.57816759161652,37.189599170353894,26.855106603165968,32.38425529987579,25.418400416244385,22.425454021866788]}];\n",
       " var layout_rBvr43WiCZ = {\"height\":350,\"width\":350,\"hovermode\":\"closest\",\"legend\":{\"orientation\":\"v\"},\"showlegend\":true,\"margin\":{\"l\":50,\"r\":30,\"t\":50,\"b\":50},\"xaxis\":{\"title\":{\"text\":\"x axis 1\"},\"showgrid\":true,\"zeroline\":false,\"showline\":false},\"yaxis\":{\"title\":{\"text\":\"y axis 1\"},\"showgrid\":true,\"zeroline\":false,\"showline\":false}};\n",
       " var config_rBvr43WiCZ = {\"responsive\":true,\"scrollZoom\":true,\"displaylogo\":false};\n",
       " Plotly.newPlot(\"graph_rBvr43WiCZ\", traces_rBvr43WiCZ, layout_rBvr43WiCZ, config_rBvr43WiCZ);\n",
       "\n",
       " var traces_LViGZ09Xzw = [{\"name\":\"b\",\"type\":\"scatter\",\"mode\":\"markers\",\"x\":[3.205255296128451,18.16523913774179,21.419528946167453,28.480404735926484,14.93331955322944,45.589347070898654,16.741992616420482,47.51232150779512,4.0186595586725655,48.48941851284378,30.12592682752469,2.393623617599905,39.86477012346171,31.49364205501121,27.765488993966247,35.82747696198642,34.99634459203601,17.115427616352825,29.7278772805212,35.512500042982325,15.508066507690272,13.678900464340927,28.244465647093904,1.8928944129437797,22.029705546981553,9.158997442603328,18.467849340757788,37.54844227454196,30.949011667856524,2.0766447541919697,30.972433358065427,33.15876745157064,46.03432569763104,47.630439742647354,19.58288075201759,2.1735005532968144,41.31170064912437,47.09984267290977,17.733824988873902,1.3297807239588177,37.07672295142039,41.22083510443643,31.495931605115295,16.98077176758131,12.259107458632757,33.713581330047916,37.64751569236949,47.83363746680923,48.00854510307067,19.432580735959732,0.7275741450687878,23.142697652032478,9.333152254040906,22.7133788661854,13.875207341741513,11.663246946649153,3.8972770106944052,15.405860873344086,4.442090539446076,0.7437829775223448,9.673309132885377,30.812710150576965,26.858739378587256,6.819137844782225,36.04251188255026,19.29260813759241,42.042015569276494,18.264330414485514,26.152814254974793,3.641282885948799,4.750395916643124,19.078639229255934,21.866863636139055,37.529502743217776,47.72522397505625,47.191733059000754,46.47154539218333,48.25566029066095,14.200271673937781,4.318423095459945,14.470572145625344,5.8615879407333535,48.418588615895445,5.235884423701559,2.2446158740623448,4.263761149613288,7.164753531926765,33.116940803414266,8.13886455570353,16.46806386994573,4.002296880878692,4.125294939119412,45.625772277553686,45.1648233458326,41.900178431723184,38.86333808013488,48.591144966989106,32.04180132563802,29.238874234957223,40.46044161245106],\"y\":[23.50463696657909,14.006379172981887,8.805741169790243,39.09939693388417,9.261060397364085,22.17416927755762,9.320986319696411,30.60094324211479,1.8168688110407227,9.95981103186519,4.279705725158683,12.321074620061495,17.396517187002157,19.89671578364993,33.452077059364164,3.0631031087771543,5.006302935045925,4.916050339801253,8.252981387076886,24.966198063825086,26.268708790018714,8.731267453717695,33.373900409110156,24.404399992815335,48.17812009962047,31.702977452597302,33.564136314137194,15.814882016555615,42.27920639620049,13.10002472787914,26.25502144964365,47.071468321309496,1.9821359995166266,48.02608878075755,27.83989750032835,7.529223763316928,28.254190834624417,27.447194657675812,23.85434185745684,30.188152392349544,42.76523686499351,42.73399746782549,21.045207916412313,27.558849736475977,16.714879810323474,31.9237440421387,32.37370422084664,46.760179577570014,3.0320609614016503,13.510319283862444,24.366904330707566,33.138857539411745,29.413208436712683,4.986811253902218,29.913655935284943,3.2730244121815355,49.75295573021064,7.5935164349547115,48.59507875456762,47.60674326410728,11.921841329319916,5.7653711560746395,20.946414854932367,10.159526727334962,30.558290420273117,29.626257274745544,22.66617099788844,27.764849783445015,4.567555224553993,11.543685111961016,29.720120041548547,4.113813754873869,40.35819455862828,33.23585456060039,5.5318802393785,44.51491211842541,33.49707895722266,8.214112234424736,7.008411650239327,35.72811431875657,23.426754798451306,25.447345083278925,47.01793676393183,21.491261265632172,18.164439073758555,44.050852247473756,37.119410254777755,48.42899306399054,38.489772158419484,25.530776665483852,15.836810223437631,38.91924954664801,4.028872955420643,19.65616295177411,44.57816759161652,37.189599170353894,26.855106603165968,32.38425529987579,25.418400416244385,22.425454021866788]}];\n",
       " var layout_LViGZ09Xzw = {\"height\":350,\"width\":350,\"hovermode\":\"closest\",\"legend\":{\"orientation\":\"v\"},\"showlegend\":true,\"margin\":{\"l\":50,\"r\":50,\"t\":50,\"b\":50},\"xaxis\":{\"title\":{\"text\":\"x axis 2\"},\"showgrid\":true,\"zeroline\":false,\"showline\":false},\"yaxis\":{\"title\":{\"text\":\"y axis 2\"},\"showgrid\":true,\"zeroline\":false,\"showline\":false}};\n",
       " var config_LViGZ09Xzw = {\"responsive\":true,\"scrollZoom\":true,\"displaylogo\":false};\n",
       " Plotly.newPlot(\"graph_LViGZ09Xzw\", traces_LViGZ09Xzw, layout_LViGZ09Xzw, config_LViGZ09Xzw);\n",
       "\n",
       " var traces_ZUxnRVT33i = [{\"name\":\"c\",\"type\":\"scatter\",\"mode\":\"markers\",\"x\":[3.205255296128451,18.16523913774179,21.419528946167453,28.480404735926484,14.93331955322944,45.589347070898654,16.741992616420482,47.51232150779512,4.0186595586725655,48.48941851284378,30.12592682752469,2.393623617599905,39.86477012346171,31.49364205501121,27.765488993966247,35.82747696198642,34.99634459203601,17.115427616352825,29.7278772805212,35.512500042982325,15.508066507690272,13.678900464340927,28.244465647093904,1.8928944129437797,22.029705546981553,9.158997442603328,18.467849340757788,37.54844227454196,30.949011667856524,2.0766447541919697,30.972433358065427,33.15876745157064,46.03432569763104,47.630439742647354,19.58288075201759,2.1735005532968144,41.31170064912437,47.09984267290977,17.733824988873902,1.3297807239588177,37.07672295142039,41.22083510443643,31.495931605115295,16.98077176758131,12.259107458632757,33.713581330047916,37.64751569236949,47.83363746680923,48.00854510307067,19.432580735959732,0.7275741450687878,23.142697652032478,9.333152254040906,22.7133788661854,13.875207341741513,11.663246946649153,3.8972770106944052,15.405860873344086,4.442090539446076,0.7437829775223448,9.673309132885377,30.812710150576965,26.858739378587256,6.819137844782225,36.04251188255026,19.29260813759241,42.042015569276494,18.264330414485514,26.152814254974793,3.641282885948799,4.750395916643124,19.078639229255934,21.866863636139055,37.529502743217776,47.72522397505625,47.191733059000754,46.47154539218333,48.25566029066095,14.200271673937781,4.318423095459945,14.470572145625344,5.8615879407333535,48.418588615895445,5.235884423701559,2.2446158740623448,4.263761149613288,7.164753531926765,33.116940803414266,8.13886455570353,16.46806386994573,4.002296880878692,4.125294939119412,45.625772277553686,45.1648233458326,41.900178431723184,38.86333808013488,48.591144966989106,32.04180132563802,29.238874234957223,40.46044161245106],\"y\":[23.50463696657909,14.006379172981887,8.805741169790243,39.09939693388417,9.261060397364085,22.17416927755762,9.320986319696411,30.60094324211479,1.8168688110407227,9.95981103186519,4.279705725158683,12.321074620061495,17.396517187002157,19.89671578364993,33.452077059364164,3.0631031087771543,5.006302935045925,4.916050339801253,8.252981387076886,24.966198063825086,26.268708790018714,8.731267453717695,33.373900409110156,24.404399992815335,48.17812009962047,31.702977452597302,33.564136314137194,15.814882016555615,42.27920639620049,13.10002472787914,26.25502144964365,47.071468321309496,1.9821359995166266,48.02608878075755,27.83989750032835,7.529223763316928,28.254190834624417,27.447194657675812,23.85434185745684,30.188152392349544,42.76523686499351,42.73399746782549,21.045207916412313,27.558849736475977,16.714879810323474,31.9237440421387,32.37370422084664,46.760179577570014,3.0320609614016503,13.510319283862444,24.366904330707566,33.138857539411745,29.413208436712683,4.986811253902218,29.913655935284943,3.2730244121815355,49.75295573021064,7.5935164349547115,48.59507875456762,47.60674326410728,11.921841329319916,5.7653711560746395,20.946414854932367,10.159526727334962,30.558290420273117,29.626257274745544,22.66617099788844,27.764849783445015,4.567555224553993,11.543685111961016,29.720120041548547,4.113813754873869,40.35819455862828,33.23585456060039,5.5318802393785,44.51491211842541,33.49707895722266,8.214112234424736,7.008411650239327,35.72811431875657,23.426754798451306,25.447345083278925,47.01793676393183,21.491261265632172,18.164439073758555,44.050852247473756,37.119410254777755,48.42899306399054,38.489772158419484,25.530776665483852,15.836810223437631,38.91924954664801,4.028872955420643,19.65616295177411,44.57816759161652,37.189599170353894,26.855106603165968,32.38425529987579,25.418400416244385,22.425454021866788]}];\n",
       " var layout_ZUxnRVT33i = {\"height\":350,\"width\":350,\"hovermode\":\"closest\",\"legend\":{\"orientation\":\"v\"},\"showlegend\":true,\"margin\":{\"l\":50,\"r\":30,\"t\":50,\"b\":50},\"xaxis\":{\"title\":{\"text\":\"x axis 3\"},\"showgrid\":true,\"zeroline\":false,\"showline\":false},\"yaxis\":{\"title\":{\"text\":\"y axis 3\"},\"showgrid\":true,\"zeroline\":false,\"showline\":false}};\n",
       " var config_ZUxnRVT33i = {\"responsive\":true,\"scrollZoom\":true,\"displaylogo\":false};\n",
       " Plotly.newPlot(\"graph_ZUxnRVT33i\", traces_ZUxnRVT33i, layout_ZUxnRVT33i, config_ZUxnRVT33i);\n",
       "\n",
       " var traces_cFr8EbRkGD = [{\"name\":\"uogRaGYsjw\",\"type\":\"scatter\",\"mode\":\"markers\",\"x\":[1,2,3],\"y\":[2,4,5]},{\"name\":\"1FwLf98zhb\",\"type\":\"scatter\",\"mode\":\"markers\",\"xaxis\":\"x2\",\"yaxis\":\"y2\",\"x\":[3.205255296128451,18.16523913774179,21.419528946167453,28.480404735926484,14.93331955322944,45.589347070898654,16.741992616420482,47.51232150779512,4.0186595586725655,48.48941851284378,30.12592682752469,2.393623617599905,39.86477012346171,31.49364205501121,27.765488993966247,35.82747696198642,34.99634459203601,17.115427616352825,29.7278772805212,35.512500042982325,15.508066507690272,13.678900464340927,28.244465647093904,1.8928944129437797,22.029705546981553,9.158997442603328,18.467849340757788,37.54844227454196,30.949011667856524,2.0766447541919697,30.972433358065427,33.15876745157064,46.03432569763104,47.630439742647354,19.58288075201759,2.1735005532968144,41.31170064912437,47.09984267290977,17.733824988873902,1.3297807239588177,37.07672295142039,41.22083510443643,31.495931605115295,16.98077176758131,12.259107458632757,33.713581330047916,37.64751569236949,47.83363746680923,48.00854510307067,19.432580735959732,0.7275741450687878,23.142697652032478,9.333152254040906,22.7133788661854,13.875207341741513,11.663246946649153,3.8972770106944052,15.405860873344086,4.442090539446076,0.7437829775223448,9.673309132885377,30.812710150576965,26.858739378587256,6.819137844782225,36.04251188255026,19.29260813759241,42.042015569276494,18.264330414485514,26.152814254974793,3.641282885948799,4.750395916643124,19.078639229255934,21.866863636139055,37.529502743217776,47.72522397505625,47.191733059000754,46.47154539218333,48.25566029066095,14.200271673937781,4.318423095459945,14.470572145625344,5.8615879407333535,48.418588615895445,5.235884423701559,2.2446158740623448,4.263761149613288,7.164753531926765,33.116940803414266,8.13886455570353,16.46806386994573,4.002296880878692,4.125294939119412,45.625772277553686,45.1648233458326,41.900178431723184,38.86333808013488,48.591144966989106,32.04180132563802,29.238874234957223,40.46044161245106],\"y\":[23.50463696657909,14.006379172981887,8.805741169790243,39.09939693388417,9.261060397364085,22.17416927755762,9.320986319696411,30.60094324211479,1.8168688110407227,9.95981103186519,4.279705725158683,12.321074620061495,17.396517187002157,19.89671578364993,33.452077059364164,3.0631031087771543,5.006302935045925,4.916050339801253,8.252981387076886,24.966198063825086,26.268708790018714,8.731267453717695,33.373900409110156,24.404399992815335,48.17812009962047,31.702977452597302,33.564136314137194,15.814882016555615,42.27920639620049,13.10002472787914,26.25502144964365,47.071468321309496,1.9821359995166266,48.02608878075755,27.83989750032835,7.529223763316928,28.254190834624417,27.447194657675812,23.85434185745684,30.188152392349544,42.76523686499351,42.73399746782549,21.045207916412313,27.558849736475977,16.714879810323474,31.9237440421387,32.37370422084664,46.760179577570014,3.0320609614016503,13.510319283862444,24.366904330707566,33.138857539411745,29.413208436712683,4.986811253902218,29.913655935284943,3.2730244121815355,49.75295573021064,7.5935164349547115,48.59507875456762,47.60674326410728,11.921841329319916,5.7653711560746395,20.946414854932367,10.159526727334962,30.558290420273117,29.626257274745544,22.66617099788844,27.764849783445015,4.567555224553993,11.543685111961016,29.720120041548547,4.113813754873869,40.35819455862828,33.23585456060039,5.5318802393785,44.51491211842541,33.49707895722266,8.214112234424736,7.008411650239327,35.72811431875657,23.426754798451306,25.447345083278925,47.01793676393183,21.491261265632172,18.164439073758555,44.050852247473756,37.119410254777755,48.42899306399054,38.489772158419484,25.530776665483852,15.836810223437631,38.91924954664801,4.028872955420643,19.65616295177411,44.57816759161652,37.189599170353894,26.855106603165968,32.38425529987579,25.418400416244385,22.425454021866788]}];\n",
       " var layout_cFr8EbRkGD = {\"height\":350,\"width\":350,\"hovermode\":\"closest\",\"legend\":{\"orientation\":\"v\"},\"title\":{\"text\":\"The MultiChart from Above\"},\"showlegend\":true,\"grid\":{\"rows\":1,\"columns\":2,\"pattern\":\"independent\"},\"xaxis\":{\"title\":{\"text\":\"x1\"},\"showgrid\":true,\"zeroline\":false,\"showline\":false},\"yaxis\":{\"showgrid\":true,\"zeroline\":false,\"showline\":false},\"xaxis2\":{\"title\":{\"text\":\"x2\"},\"showgrid\":true,\"zeroline\":false,\"showline\":false},\"yaxis2\":{\"showgrid\":true,\"zeroline\":false,\"showline\":false}};\n",
       " var config_cFr8EbRkGD = {\"responsive\":false,\"scrollZoom\":true,\"displaylogo\":false};\n",
       " Plotly.newPlot(\"graph_cFr8EbRkGD\", traces_cFr8EbRkGD, layout_cFr8EbRkGD, config_cFr8EbRkGD);\n",
       "\n",
       "var save = document.getElementById(\"saveAsPNG_jy3boSRPOK\")\n",
       "save.onclick = function() {\n",
       "    const grid = document.getElementById(\"grid-container_jy3boSRPOK\")\n",
       "    const svg_containers = grid.getElementsByClassName('svg-container')\n",
       "    const main_svgs = grid.getElementsByClassName('main-svg')\n",
       "\n",
       "    const svg_containers_styles = []\n",
       "    const main_svgs_styles = []\n",
       "\n",
       "    const modebars = document.getElementsByClassName(\"modebar-container\")\n",
       "\n",
       "    for (var i = 0; i < modebars.length; i++) {\n",
       "        modebars[i].style.display = \"none\"\n",
       "    }\n",
       "\n",
       "    domtoimage.toPng(grid)\n",
       "    .then(function (dataUrl) {\n",
       "        var img = new Image();\n",
       "        img.src = dataUrl;\n",
       "        var link = document.createElement('a');\n",
       "        link.download = 'Picta-image.png';\n",
       "        link.href = dataUrl;\n",
       "        link.click()\n",
       "    })\n",
       "    .catch(function (error) {\n",
       "        console.error('oops, something went wrong!', error);\n",
       "    });\n",
       "}\n",
       "</script> \n"
      ]
     },
     "metadata": {},
     "output_type": "display_data"
    }
   ],
   "source": [
    "// first define the x-axes we will use in the plot\n",
    "val ax1 = XAxis(title = \"x axis 1\")\n",
    "val ax2 = XAxis(title = \"x axis 2\")\n",
    "val ax3 = XAxis(title = \"x axis 3\")\n",
    "val ax4 = XAxis(title = \"x axis 4\")\n",
    "\n",
    "// first define the y-axes we will use in the plot\n",
    "val ax6 = YAxis(title = \"y axis 1\")\n",
    "val ax7 = YAxis(title = \"y axis 2\")\n",
    "val ax8 = YAxis(title = \"y axis 3\")\n",
    "val ax9 = YAxis(title = \"y axis 4\")\n",
    "\n",
    "// it may be necessary to play around with the chart dimensions and margin  in order to ensure a good fit on screen.\n",
    "val dim = 350\n",
    "\n",
    "val chart1 = (\n",
    "    Chart()\n",
    "    setDimensions(width = dim, height = dim)\n",
    "    addSeries XY(x, y).setName(\"a\").drawMarkers\n",
    "    addAxes(ax1, ax6)\n",
    "    setMargin(l=50, r=30, t=50, b=50)\n",
    ")\n",
    "\n",
    "val chart2 = (\n",
    "    Chart() \n",
    "    setDimensions(width = dim, height = dim)\n",
    "    addSeries XY(x, y).setName(\"b\").drawMarkers\n",
    "    addAxes(ax2, ax7)\n",
    "    setMargin(l=50, r=50, t=50, b=50)\n",
    ")\n",
    "\n",
    "val chart3 = (\n",
    "    Chart()\n",
    "    setDimensions(width = dim, height = dim)\n",
    "    addSeries XY(x, y).setName(\"c\").drawMarkers\n",
    "    addAxes(ax3, ax8)\n",
    "    setMargin(l=50, r=30, t=50, b=50)\n",
    ")\n",
    "\n",
    "val chart4 = (\n",
    "    Chart()\n",
    "    setDimensions(width = dim, height = dim)\n",
    "    addSeries(series1, series2)\n",
    "    setTitle \"The MultiChart from Above\"\n",
    "    addAxes(xaxis1, yaxis1, xaxis2, yaxis2) // these axes come from above\n",
    "    setConfig(responsive=false)\n",
    "    asMultiChart(1, 2)\n",
    ")\n",
    "\n",
    "// The canvas has an underlying grid. By default the underlying grid is 1x1, but we can pass in the dimensions we \n",
    "// require by passing in parameters in the constructor.\n",
    "Canvas(2, 2, title=\"The Picta Grid\")\n",
    ".setChart(0, 0, chart1)\n",
    ".setChart(0, 1, chart2)\n",
    ".setChart(1, 0, chart3)\n",
    ".setChart(1, 1, chart4)\n",
    ".plotInline"
   ]
  },
  {
   "cell_type": "markdown",
   "metadata": {},
   "source": [
    "### Error Bars\n",
    "\n",
    "We can also add Error Bars to our plots.\n",
    "\n",
    "Error bars come in two flavours:\n",
    "\n",
    "1. `XError`\n",
    "2. `YError`\n",
    "\n",
    "Both of these has an associated `mode` that determines how the error bar is calculated for an individual point. The following `mode`s can be specified:\n",
    "\n",
    "- `DATA`: The user passes in an array that specifies the per point error\n",
    "- `PERCENT`: The user passes in a Double that calculates the error as a percentage of the value of the point\n",
    "- `CONSTANT`: The user passes in a double that is the constant value for the error for all points\n",
    "- `SQRT`: This calculates the error as a square root of the point value.\n",
    "\n",
    "The next few examples will demonstrate:"
   ]
  },
  {
   "cell_type": "code",
   "execution_count": 16,
   "metadata": {},
   "outputs": [],
   "source": [
    "// First import the Error Bar options\n",
    "import org.carbonateresearch.picta.options.{YError, CONSTANT, DATA, PERCENT, SQRT}"
   ]
  },
  {
   "cell_type": "code",
   "execution_count": 17,
   "metadata": {},
   "outputs": [
    {
     "data": {
      "text/html": [
       "<div id=\"grid-container_Bmuz45X1cN\" class=\"grid-container\" align=\"center\"> \n",
       "<div class=\"grid-title\" align=\"center\"> <h1>Errors</h1> </div> \n",
       "<div id=\"grid_Bmuz45X1cN\" class=\"grid\" align=\"center\"> \n",
       "<div id=\"graph_OSg2rl1KGQ\" class=\"graph\"></div> \n",
       "<div id=\"graph_xVlbhOdU01\" class=\"graph\"></div> \n",
       "<div id=\"graph_rZaTWWPque\" class=\"graph\"></div> \n",
       "<div id=\"graph_g0XbfanKHl\" class=\"graph\"></div> \n",
       "</div> \n",
       "</div> \n",
       "\n",
       "<div align=\"center\">\n",
       "<button id = \"saveAsPNG_Bmuz45X1cN\" class=\"picta-button\">Download Canvas as PNG</button>\n",
       "</div>\n",
       "<script>\n",
       "var masonry = new Macy({\n",
       "    container: '#grid_Bmuz45X1cN',\n",
       "    debug: true,\n",
       "    mobileFirst: true,\n",
       "    columns: 2,\n",
       "    margin: {\n",
       "        x: 0,\n",
       "        y: 0\n",
       "    }\n",
       "  });\n",
       "\n",
       " var traces_OSg2rl1KGQ = [{\"name\":\"LOwnPlnyyz\",\"type\":\"scatter\",\"mode\":\"markers\",\"x\":[1,2,3],\"y\":[1.234,5.2112,2.44332],\"error_y\":{\"type\":\"data\",\"visible\":true,\"array\":[0.5,0.5,0.5]}}];\n",
       " var layout_OSg2rl1KGQ = {\"height\":400,\"width\":400,\"hovermode\":\"closest\",\"legend\":{\"orientation\":\"v\"},\"title\":{\"text\":\"Per Point Specified Error\"},\"showlegend\":true};\n",
       " var config_OSg2rl1KGQ = {\"responsive\":true,\"scrollZoom\":true,\"displaylogo\":false};\n",
       " Plotly.newPlot(\"graph_OSg2rl1KGQ\", traces_OSg2rl1KGQ, layout_OSg2rl1KGQ, config_OSg2rl1KGQ);\n",
       "\n",
       " var traces_xVlbhOdU01 = [{\"name\":\"zn5SNWRwCZ\",\"type\":\"scatter\",\"mode\":\"markers\",\"x\":[1,2,3],\"y\":[1.234,5.2112,2.44332],\"error_y\":{\"type\":\"percent\",\"visible\":true,\"value\":10}}];\n",
       " var layout_xVlbhOdU01 = {\"height\":400,\"width\":400,\"hovermode\":\"closest\",\"legend\":{\"orientation\":\"v\"},\"title\":{\"text\":\"Percentage Error\"},\"showlegend\":true};\n",
       " var config_xVlbhOdU01 = {\"responsive\":true,\"scrollZoom\":true,\"displaylogo\":false};\n",
       " Plotly.newPlot(\"graph_xVlbhOdU01\", traces_xVlbhOdU01, layout_xVlbhOdU01, config_xVlbhOdU01);\n",
       "\n",
       " var traces_rZaTWWPque = [{\"name\":\"y7VxO1YzIh\",\"type\":\"scatter\",\"mode\":\"markers\",\"x\":[1,2,3],\"y\":[1.234,5.2112,2.44332],\"error_y\":{\"type\":\"constant\",\"visible\":true,\"value\":10}}];\n",
       " var layout_rZaTWWPque = {\"height\":400,\"width\":400,\"hovermode\":\"closest\",\"legend\":{\"orientation\":\"v\"},\"title\":{\"text\":\"Constant Error\"},\"showlegend\":true};\n",
       " var config_rZaTWWPque = {\"responsive\":true,\"scrollZoom\":true,\"displaylogo\":false};\n",
       " Plotly.newPlot(\"graph_rZaTWWPque\", traces_rZaTWWPque, layout_rZaTWWPque, config_rZaTWWPque);\n",
       "\n",
       " var traces_g0XbfanKHl = [{\"name\":\"dHoq0Oc5N0\",\"type\":\"scatter\",\"mode\":\"markers\",\"x\":[1,2,3],\"y\":[1.234,5.2112,2.44332],\"error_y\":{\"type\":\"sqrt\",\"visible\":true}}];\n",
       " var layout_g0XbfanKHl = {\"height\":400,\"width\":400,\"hovermode\":\"closest\",\"legend\":{\"orientation\":\"v\"},\"title\":{\"text\":\"Sqrt Error\"},\"showlegend\":true};\n",
       " var config_g0XbfanKHl = {\"responsive\":true,\"scrollZoom\":true,\"displaylogo\":false};\n",
       " Plotly.newPlot(\"graph_g0XbfanKHl\", traces_g0XbfanKHl, layout_g0XbfanKHl, config_g0XbfanKHl);\n",
       "\n",
       "var save = document.getElementById(\"saveAsPNG_Bmuz45X1cN\")\n",
       "save.onclick = function() {\n",
       "    const grid = document.getElementById(\"grid-container_Bmuz45X1cN\")\n",
       "    const svg_containers = grid.getElementsByClassName('svg-container')\n",
       "    const main_svgs = grid.getElementsByClassName('main-svg')\n",
       "\n",
       "    const svg_containers_styles = []\n",
       "    const main_svgs_styles = []\n",
       "\n",
       "    const modebars = document.getElementsByClassName(\"modebar-container\")\n",
       "\n",
       "    for (var i = 0; i < modebars.length; i++) {\n",
       "        modebars[i].style.display = \"none\"\n",
       "    }\n",
       "\n",
       "    domtoimage.toPng(grid)\n",
       "    .then(function (dataUrl) {\n",
       "        var img = new Image();\n",
       "        img.src = dataUrl;\n",
       "        var link = document.createElement('a');\n",
       "        link.download = 'Picta-image.png';\n",
       "        link.href = dataUrl;\n",
       "        link.click()\n",
       "    })\n",
       "    .catch(function (error) {\n",
       "        console.error('oops, something went wrong!', error);\n",
       "    });\n",
       "}\n",
       "</script> \n"
      ]
     },
     "metadata": {},
     "output_type": "display_data"
    }
   ],
   "source": [
    "val dim = 400\n",
    "\n",
    "val series1 = (\n",
    "    XY(List(1, 2, 3), List(1.234, 5.2112, 2.44332))\n",
    "    asType SCATTER\n",
    "    drawStyle MARKERS\n",
    "    // User specifies the error per point \n",
    "    setErrorBars YError(mode = DATA, array = List(0.5, 0.5, 0.5))\n",
    ")\n",
    "\n",
    "val chart1 = (\n",
    "    Chart()\n",
    "    addSeries series1\n",
    "    setTitle \"Per Point Specified Error\"\n",
    "    setDimensions(width = dim, height = dim)\n",
    ")\n",
    "\n",
    "\n",
    "val series2 = (\n",
    "    XY(List(1, 2, 3), List(1.234, 5.2112, 2.44332))\n",
    "    asType SCATTER\n",
    "    drawStyle MARKERS\n",
    "    // the error here is 10% of the corresponding y-value for the point\n",
    "    setErrorBars YError(mode = PERCENT, value = 10.0)\n",
    ")\n",
    "\n",
    "val chart2 = (\n",
    "    Chart()\n",
    "    addSeries series2\n",
    "    setTitle \"Percentage Error\"\n",
    "    setDimensions(width = dim, height = dim)\n",
    ")\n",
    "\n",
    "\n",
    "val series3 = (\n",
    "    XY(List(1, 2, 3), List(1.234, 5.2112, 2.44332))\n",
    "    asType SCATTER\n",
    "    drawStyle MARKERS\n",
    "    // a constant error of 10 is applied to each point\n",
    "    setErrorBars YError(mode = CONSTANT, value = 10.0)\n",
    ")\n",
    "\n",
    "val chart3 = (\n",
    "    Chart()\n",
    "    addSeries series3\n",
    "    setTitle \"Constant Error\"\n",
    "    setDimensions(width = dim, height = dim)\n",
    ")\n",
    "\n",
    "\n",
    "val series4 = (\n",
    "    XY(List(1, 2, 3), List(1.234, 5.2112, 2.44332))\n",
    "    asType SCATTER\n",
    "    drawStyle MARKERS\n",
    "    setErrorBars YError(mode = SQRT)\n",
    ")\n",
    "\n",
    "val chart4 = (\n",
    "    Chart()\n",
    "    addSeries series4\n",
    "    setTitle \"Sqrt Error\"\n",
    "    // the error is set to the sqrt of the corresponding point\n",
    "    setDimensions(width = dim, height = dim)\n",
    ")\n",
    "\n",
    "val canvas = Canvas(2, 2, \"Errors\") addCharts (chart1, chart2, chart3, chart4)\n",
    "\n",
    "canvas.plotInline"
   ]
  },
  {
   "cell_type": "markdown",
   "metadata": {},
   "source": [
    "### Other Types of Charts\n",
    "\n",
    "The next examples will demonstrate how to create a variety of `Chart`s. All of the examples below are composable with the `Canvas` subplot system.\n",
    "\n",
    "#### Pie Chart\n",
    "\n",
    "Pie charts can be created in two ways. The first way uses the `PieElement` component to compose a Piechart:"
   ]
  },
  {
   "cell_type": "code",
   "execution_count": 18,
   "metadata": {},
   "outputs": [
    {
     "data": {
      "text/html": [
       "<div id=\"grid-container_uqPs68IfpR\" class=\"grid-container\" align=\"center\"> \n",
       "<div id=\"grid_uqPs68IfpR\" class=\"grid\" align=\"center\"> \n",
       "<div id=\"graph_u9i8jPdsOc\" class=\"graph\"></div> \n",
       "</div> \n",
       "</div> \n",
       "<script>\n",
       "var masonry = new Macy({\n",
       "    container: '#grid_uqPs68IfpR',\n",
       "    debug: true,\n",
       "    mobileFirst: true,\n",
       "    columns: 1,\n",
       "    margin: {\n",
       "        x: 0,\n",
       "        y: 0\n",
       "    }\n",
       "  });\n",
       "\n",
       " var traces_u9i8jPdsOc = [{\"name\":\"3ssselqX4s\",\"type\":\"pie\",\"values\":[60,20,20],\"labels\":[\"Residential\",\"Non-Residential\",\"Utility\"]}];\n",
       " var layout_u9i8jPdsOc = {\"height\":550,\"width\":600,\"hovermode\":\"closest\",\"legend\":{\"orientation\":\"v\"},\"title\":{\"text\":\"Pie Elements\"},\"showlegend\":true};\n",
       " var config_u9i8jPdsOc = {\"responsive\":true,\"scrollZoom\":true,\"displaylogo\":false};\n",
       " Plotly.newPlot(\"graph_u9i8jPdsOc\", traces_u9i8jPdsOc, layout_u9i8jPdsOc, config_u9i8jPdsOc);\n",
       "</script> \n"
      ]
     },
     "metadata": {},
     "output_type": "display_data"
    }
   ],
   "source": [
    "val a = PieElement(value=60, name=\"Residential\")\n",
    "val b = PieElement(value=20, name=\"Non-Residential\")\n",
    "val c = PieElement(value=20, name=\"Utility\")\n",
    "\n",
    "// we add a list of Pie Elements to an XY series as the list of Pie Elements gets deconstructed down into two series:\n",
    "// X => values: [60, 20, 20]\n",
    "// Y => labels: [\"Residential\", \"Non-Residential\", \"Utility\"]\n",
    "// The labels become the series_name for each individual PieElement\n",
    "// As we pass in a list of PieElements, we do not need to specify the type as a PIE\n",
    "val series = XY(x=List(a, b, c))\n",
    "\n",
    "val chart = Chart() addSeries series setTitle \"Pie Elements\"\n",
    "\n",
    "chart.plotInline"
   ]
  },
  {
   "cell_type": "code",
   "execution_count": 19,
   "metadata": {},
   "outputs": [
    {
     "data": {
      "text/html": [
       "<div id=\"grid-container_ULPjdHEaDQ\" class=\"grid-container\" align=\"center\"> \n",
       "<div id=\"grid_ULPjdHEaDQ\" class=\"grid\" align=\"center\"> \n",
       "<div id=\"graph_AezZppdzTW\" class=\"graph\"></div> \n",
       "</div> \n",
       "</div> \n",
       "<script>\n",
       "var masonry = new Macy({\n",
       "    container: '#grid_ULPjdHEaDQ',\n",
       "    debug: true,\n",
       "    mobileFirst: true,\n",
       "    columns: 1,\n",
       "    margin: {\n",
       "        x: 0,\n",
       "        y: 0\n",
       "    }\n",
       "  });\n",
       "\n",
       " var traces_AezZppdzTW = [{\"name\":\"xMCbOKbVTx\",\"type\":\"pie\",\"values\":[60,20,20],\"labels\":[\"Residential\",\"Non-Residential\",\"Utility\"]}];\n",
       " var layout_AezZppdzTW = {\"height\":550,\"width\":600,\"hovermode\":\"closest\",\"legend\":{\"orientation\":\"v\"},\"title\":{\"text\":\"Pie Chart\"},\"showlegend\":true};\n",
       " var config_AezZppdzTW = {\"responsive\":false,\"scrollZoom\":false,\"displaylogo\":false};\n",
       " Plotly.newPlot(\"graph_AezZppdzTW\", traces_AezZppdzTW, layout_AezZppdzTW, config_AezZppdzTW);\n",
       "</script> \n"
      ]
     },
     "metadata": {},
     "output_type": "display_data"
    }
   ],
   "source": [
    "// However, composing individual PieElements may be tedious if there is a lot of data and we know how to it all fits\n",
    "// together. Picta provides a short hand to quickly create a Pie Chart using the methods we have seen previously\n",
    "// In this case we pass the (value, name) pairs as two seperate lists. As before, the labels become an individual\n",
    "// series name for each point; which is why the legend renders correctly.\n",
    "val series = XY(x=List(60, 20, 20), y=List(\"Residential\", \"Non-Residential\", \"Utility\")) asType PIE\n",
    "\n",
    "val chart = Chart() addSeries series setConfig(false, false) setTitle \"Pie Chart\"\n",
    "\n",
    "chart.plotInline"
   ]
  },
  {
   "cell_type": "markdown",
   "metadata": {},
   "source": [
    "### Histogram"
   ]
  },
  {
   "cell_type": "code",
   "execution_count": 20,
   "metadata": {},
   "outputs": [
    {
     "data": {
      "text/html": [
       "<div id=\"grid-container_L9QXACaY5o\" class=\"grid-container\" align=\"center\"> \n",
       "<div id=\"grid_L9QXACaY5o\" class=\"grid\" align=\"center\"> \n",
       "<div id=\"graph_Qtn7LHd2at\" class=\"graph\"></div> \n",
       "</div> \n",
       "</div> \n",
       "<script>\n",
       "var masonry = new Macy({\n",
       "    container: '#grid_L9QXACaY5o',\n",
       "    debug: true,\n",
       "    mobileFirst: true,\n",
       "    columns: 1,\n",
       "    margin: {\n",
       "        x: 0,\n",
       "        y: 0\n",
       "    }\n",
       "  });\n",
       "\n",
       " var traces_Qtn7LHd2at = [{\"name\":\"qYDTo8vsZR\",\"type\":\"histogram\",\"x\":[3.205255296128451,18.16523913774179,21.419528946167453,28.480404735926484,14.93331955322944,45.589347070898654,16.741992616420482,47.51232150779512,4.0186595586725655,48.48941851284378,30.12592682752469,2.393623617599905,39.86477012346171,31.49364205501121,27.765488993966247,35.82747696198642,34.99634459203601,17.115427616352825,29.7278772805212,35.512500042982325,15.508066507690272,13.678900464340927,28.244465647093904,1.8928944129437797,22.029705546981553,9.158997442603328,18.467849340757788,37.54844227454196,30.949011667856524,2.0766447541919697,30.972433358065427,33.15876745157064,46.03432569763104,47.630439742647354,19.58288075201759,2.1735005532968144,41.31170064912437,47.09984267290977,17.733824988873902,1.3297807239588177,37.07672295142039,41.22083510443643,31.495931605115295,16.98077176758131,12.259107458632757,33.713581330047916,37.64751569236949,47.83363746680923,48.00854510307067,19.432580735959732,0.7275741450687878,23.142697652032478,9.333152254040906,22.7133788661854,13.875207341741513,11.663246946649153,3.8972770106944052,15.405860873344086,4.442090539446076,0.7437829775223448,9.673309132885377,30.812710150576965,26.858739378587256,6.819137844782225,36.04251188255026,19.29260813759241,42.042015569276494,18.264330414485514,26.152814254974793,3.641282885948799,4.750395916643124,19.078639229255934,21.866863636139055,37.529502743217776,47.72522397505625,47.191733059000754,46.47154539218333,48.25566029066095,14.200271673937781,4.318423095459945,14.470572145625344,5.8615879407333535,48.418588615895445,5.235884423701559,2.2446158740623448,4.263761149613288,7.164753531926765,33.116940803414266,8.13886455570353,16.46806386994573,4.002296880878692,4.125294939119412,45.625772277553686,45.1648233458326,41.900178431723184,38.86333808013488,48.591144966989106,32.04180132563802,29.238874234957223,40.46044161245106]}];\n",
       " var layout_Qtn7LHd2at = {\"height\":550,\"width\":600,\"hovermode\":\"closest\",\"legend\":{\"orientation\":\"v\"},\"title\":{\"text\":\"Histogram with axes\"},\"showlegend\":true,\"xaxis\":{\"title\":{\"text\":\"my x data\"},\"showgrid\":true,\"zeroline\":false,\"showline\":false},\"yaxis\":{\"title\":{\"text\":\"my y data\"},\"showgrid\":true,\"zeroline\":false,\"showline\":false}};\n",
       " var config_Qtn7LHd2at = {\"responsive\":true,\"scrollZoom\":true,\"displaylogo\":false};\n",
       " Plotly.newPlot(\"graph_Qtn7LHd2at\", traces_Qtn7LHd2at, layout_Qtn7LHd2at, config_Qtn7LHd2at);\n",
       "</script> \n"
      ]
     },
     "metadata": {},
     "output_type": "display_data"
    }
   ],
   "source": [
    "val series = XY(x=x) asType HISTOGRAM\n",
    "\n",
    "val xaxis = XAxis(title = \"my x data\")\n",
    "val yaxis = YAxis(title = \"my y data\")\n",
    "\n",
    "val chart = (\n",
    "    Chart() \n",
    "    addSeries series\n",
    "    setTitle \"Histogram with axes\"\n",
    "    addAxes(xaxis, yaxis)\n",
    ")\n",
    "\n",
    "Canvas()\n",
    ".addCharts(chart)\n",
    ".plotInline"
   ]
  },
  {
   "cell_type": "markdown",
   "metadata": {},
   "source": [
    "#### Customizing colors for a Histogram\n",
    "\n",
    "We can use the `HistOptions` class to further specify options for a histogram. For example, if we wanted to create a horizontally positioned histogram, we can do the following:"
   ]
  },
  {
   "cell_type": "code",
   "execution_count": 21,
   "metadata": {},
   "outputs": [],
   "source": [
    "import org.carbonateresearch.picta.options.histogram.HistOptions\n",
    "import org.carbonateresearch.picta.options.Line\n",
    "import org.carbonateresearch.picta.options.HORIZONTAL"
   ]
  },
  {
   "cell_type": "code",
   "execution_count": 22,
   "metadata": {},
   "outputs": [
    {
     "data": {
      "text/html": [
       "<div id=\"grid-container_0gx4f2Gc95\" class=\"grid-container\" align=\"center\"> \n",
       "<div id=\"grid_0gx4f2Gc95\" class=\"grid\" align=\"center\"> \n",
       "<div id=\"graph_kVNRB9U5Lt\" class=\"graph\"></div> \n",
       "</div> \n",
       "</div> \n",
       "<script>\n",
       "var masonry = new Macy({\n",
       "    container: '#grid_0gx4f2Gc95',\n",
       "    debug: true,\n",
       "    mobileFirst: true,\n",
       "    columns: 1,\n",
       "    margin: {\n",
       "        x: 0,\n",
       "        y: 0\n",
       "    }\n",
       "  });\n",
       "\n",
       " var traces_kVNRB9U5Lt = [{\"name\":\"Mfm25GkrcP\",\"type\":\"histogram\",\"marker\":{\"color\":\"rgba(255, 100, 102, 0.5)\",\"line\":{\"width\":0.5}},\"y\":[3.205255296128451,18.16523913774179,21.419528946167453,28.480404735926484,14.93331955322944,45.589347070898654,16.741992616420482,47.51232150779512,4.0186595586725655,48.48941851284378,30.12592682752469,2.393623617599905,39.86477012346171,31.49364205501121,27.765488993966247,35.82747696198642,34.99634459203601,17.115427616352825,29.7278772805212,35.512500042982325,15.508066507690272,13.678900464340927,28.244465647093904,1.8928944129437797,22.029705546981553,9.158997442603328,18.467849340757788,37.54844227454196,30.949011667856524,2.0766447541919697,30.972433358065427,33.15876745157064,46.03432569763104,47.630439742647354,19.58288075201759,2.1735005532968144,41.31170064912437,47.09984267290977,17.733824988873902,1.3297807239588177,37.07672295142039,41.22083510443643,31.495931605115295,16.98077176758131,12.259107458632757,33.713581330047916,37.64751569236949,47.83363746680923,48.00854510307067,19.432580735959732,0.7275741450687878,23.142697652032478,9.333152254040906,22.7133788661854,13.875207341741513,11.663246946649153,3.8972770106944052,15.405860873344086,4.442090539446076,0.7437829775223448,9.673309132885377,30.812710150576965,26.858739378587256,6.819137844782225,36.04251188255026,19.29260813759241,42.042015569276494,18.264330414485514,26.152814254974793,3.641282885948799,4.750395916643124,19.078639229255934,21.866863636139055,37.529502743217776,47.72522397505625,47.191733059000754,46.47154539218333,48.25566029066095,14.200271673937781,4.318423095459945,14.470572145625344,5.8615879407333535,48.418588615895445,5.235884423701559,2.2446158740623448,4.263761149613288,7.164753531926765,33.116940803414266,8.13886455570353,16.46806386994573,4.002296880878692,4.125294939119412,45.625772277553686,45.1648233458326,41.900178431723184,38.86333808013488,48.591144966989106,32.04180132563802,29.238874234957223,40.46044161245106]}];\n",
       " var layout_kVNRB9U5Lt = {\"height\":550,\"width\":600,\"hovermode\":\"closest\",\"legend\":{\"orientation\":\"v\"},\"title\":{\"text\":\"XY.Histogram.Color\"},\"showlegend\":true};\n",
       " var config_kVNRB9U5Lt = {\"responsive\":true,\"scrollZoom\":true,\"displaylogo\":false};\n",
       " Plotly.newPlot(\"graph_kVNRB9U5Lt\", traces_kVNRB9U5Lt, layout_kVNRB9U5Lt, config_kVNRB9U5Lt);\n",
       "</script> \n"
      ]
     },
     "metadata": {},
     "output_type": "display_data"
    }
   ],
   "source": [
    "// we can also compose customizations in much the same way:\n",
    "val marker = Marker() setColor \"rgba(255, 100, 102, 0.5)\" setLine Line()\n",
    "\n",
    "// change xkey to y to get a horizontal histogram\n",
    "val series = (\n",
    "    XY(x) \n",
    "    asType HISTOGRAM\n",
    "    setMarker marker\n",
    "    // we can set histogram specific options using the setHistOptions method\n",
    "    setHistOptions(orientation = HORIZONTAL)\n",
    ")\n",
    "\n",
    "val chart = (\n",
    "    Chart() \n",
    "    addSeries series \n",
    "    setTitle \"XY.Histogram.Color\"\n",
    ")\n",
    "\n",
    "chart.plotInline"
   ]
  },
  {
   "cell_type": "markdown",
   "metadata": {},
   "source": [
    "#### Cumulative Histogram\n",
    "\n",
    "Sometimes a cumulative histogram may be desired. We can do this as follows:"
   ]
  },
  {
   "cell_type": "code",
   "execution_count": 23,
   "metadata": {},
   "outputs": [],
   "source": [
    "// we can import a range of histnorms\n",
    "import org.carbonateresearch.picta.options.histogram.{Cumulative, PERCENT, DENSITY, PROBABILITY_DENSITY, NUMBER}"
   ]
  },
  {
   "cell_type": "code",
   "execution_count": 24,
   "metadata": {},
   "outputs": [
    {
     "data": {
      "text/html": [
       "<div id=\"grid-container_zRulMTJ9Ml\" class=\"grid-container\" align=\"center\"> \n",
       "<div id=\"grid_zRulMTJ9Ml\" class=\"grid\" align=\"center\"> \n",
       "<div id=\"graph_ixNijrnfYM\" class=\"graph\"></div> \n",
       "</div> \n",
       "</div> \n",
       "<script>\n",
       "var masonry = new Macy({\n",
       "    container: '#grid_zRulMTJ9Ml',\n",
       "    debug: true,\n",
       "    mobileFirst: true,\n",
       "    columns: 1,\n",
       "    margin: {\n",
       "        x: 0,\n",
       "        y: 0\n",
       "    }\n",
       "  });\n",
       "\n",
       " var traces_ixNijrnfYM = [{\"name\":\"T94JZoa0wg\",\"type\":\"histogram\",\"cumulative\":{\"enabled\":true},\"histnorm\":\"\",\"x\":[3.205255296128451,18.16523913774179,21.419528946167453,28.480404735926484,14.93331955322944,45.589347070898654,16.741992616420482,47.51232150779512,4.0186595586725655,48.48941851284378,30.12592682752469,2.393623617599905,39.86477012346171,31.49364205501121,27.765488993966247,35.82747696198642,34.99634459203601,17.115427616352825,29.7278772805212,35.512500042982325,15.508066507690272,13.678900464340927,28.244465647093904,1.8928944129437797,22.029705546981553,9.158997442603328,18.467849340757788,37.54844227454196,30.949011667856524,2.0766447541919697,30.972433358065427,33.15876745157064,46.03432569763104,47.630439742647354,19.58288075201759,2.1735005532968144,41.31170064912437,47.09984267290977,17.733824988873902,1.3297807239588177,37.07672295142039,41.22083510443643,31.495931605115295,16.98077176758131,12.259107458632757,33.713581330047916,37.64751569236949,47.83363746680923,48.00854510307067,19.432580735959732,0.7275741450687878,23.142697652032478,9.333152254040906,22.7133788661854,13.875207341741513,11.663246946649153,3.8972770106944052,15.405860873344086,4.442090539446076,0.7437829775223448,9.673309132885377,30.812710150576965,26.858739378587256,6.819137844782225,36.04251188255026,19.29260813759241,42.042015569276494,18.264330414485514,26.152814254974793,3.641282885948799,4.750395916643124,19.078639229255934,21.866863636139055,37.529502743217776,47.72522397505625,47.191733059000754,46.47154539218333,48.25566029066095,14.200271673937781,4.318423095459945,14.470572145625344,5.8615879407333535,48.418588615895445,5.235884423701559,2.2446158740623448,4.263761149613288,7.164753531926765,33.116940803414266,8.13886455570353,16.46806386994573,4.002296880878692,4.125294939119412,45.625772277553686,45.1648233458326,41.900178431723184,38.86333808013488,48.591144966989106,32.04180132563802,29.238874234957223,40.46044161245106]}];\n",
       " var layout_ixNijrnfYM = {\"height\":550,\"width\":600,\"hovermode\":\"closest\",\"legend\":{\"orientation\":\"v\"},\"title\":{\"text\":\"Histogram - Cumulative\"},\"showlegend\":true};\n",
       " var config_ixNijrnfYM = {\"responsive\":true,\"scrollZoom\":true,\"displaylogo\":false};\n",
       " Plotly.newPlot(\"graph_ixNijrnfYM\", traces_ixNijrnfYM, layout_ixNijrnfYM, config_ixNijrnfYM);\n",
       "</script> \n"
      ]
     },
     "metadata": {},
     "output_type": "display_data"
    }
   ],
   "source": [
    "val series = XY(x) asType HISTOGRAM setHistOptions(histnorm = NUMBER, cumulative = Cumulative(enabled=true))\n",
    "\n",
    "val chart = Chart() addSeries series setTitle \"Histogram - Cumulative\"\n",
    "\n",
    "chart.plotInline"
   ]
  },
  {
   "cell_type": "markdown",
   "metadata": {},
   "source": [
    "#### Specifiying the Binning Function\n",
    "\n",
    "We can also specify the binning function for a histogram."
   ]
  },
  {
   "cell_type": "code",
   "execution_count": 25,
   "metadata": {},
   "outputs": [],
   "source": [
    "import org.carbonateresearch.picta.options.histogram.{COUNT, SUM, AVG, MIN, MAX, HistOptions}"
   ]
  },
  {
   "cell_type": "code",
   "execution_count": 26,
   "metadata": {},
   "outputs": [
    {
     "data": {
      "text/html": [
       "<div id=\"grid-container_oyk3aAzLM7\" class=\"grid-container\" align=\"center\"> \n",
       "<div id=\"grid_oyk3aAzLM7\" class=\"grid\" align=\"center\"> \n",
       "<div id=\"graph_6B7U2igbey\" class=\"graph\"></div> \n",
       "</div> \n",
       "</div> \n",
       "<script>\n",
       "var masonry = new Macy({\n",
       "    container: '#grid_oyk3aAzLM7',\n",
       "    debug: true,\n",
       "    mobileFirst: true,\n",
       "    columns: 1,\n",
       "    margin: {\n",
       "        x: 0,\n",
       "        y: 0\n",
       "    }\n",
       "  });\n",
       "\n",
       " var traces_6B7U2igbey = [{\"name\":\"KjXzdDBQ3Q\",\"type\":\"histogram\",\"histfunc\":\"count\",\"x\":[\"Apples\",\"Apples\",\"Apples\",\"Oranges\",\"Bananas\"],\"y\":[\"5\",\"10\",\"3\",\"10\",\"5\"]},{\"name\":\"fiGA9GrwqV\",\"type\":\"histogram\",\"histfunc\":\"sum\",\"x\":[\"Apples\",\"Apples\",\"Apples\",\"Oranges\",\"Bananas\"],\"y\":[\"5\",\"10\",\"3\",\"10\",\"5\"]}];\n",
       " var layout_6B7U2igbey = {\"height\":550,\"width\":600,\"hovermode\":\"closest\",\"legend\":{\"orientation\":\"v\"},\"title\":{\"text\":\"Histogram - Specify Binning Function\"},\"showlegend\":true};\n",
       " var config_6B7U2igbey = {\"responsive\":true,\"scrollZoom\":true,\"displaylogo\":false};\n",
       " Plotly.newPlot(\"graph_6B7U2igbey\", traces_6B7U2igbey, layout_6B7U2igbey, config_6B7U2igbey);\n",
       "</script> \n"
      ]
     },
     "metadata": {},
     "output_type": "display_data"
    }
   ],
   "source": [
    "val x = List(\"Apples\", \"Apples\", \"Apples\", \"Oranges\", \"Bananas\")\n",
    "val y = List(\"5\", \"10\", \"3\", \"10\", \"5\")\n",
    "\n",
    "// we can also assign histOptions to a value and pass them to the setHistOptions method\n",
    "val ho1 = HistOptions(histfunc = COUNT)\n",
    "val ho2 = HistOptions(histfunc = SUM)\n",
    "    \n",
    "val t1 = XY(x = x, y = y) asType HISTOGRAM setHistOptions ho1\n",
    "val t2 = XY(x = x, y = y) asType HISTOGRAM setHistOptions ho2\n",
    "\n",
    "val chart = Chart() addSeries(t1, t2) setTitle \"Histogram - Specify Binning Function\"\n",
    "val canvas = Canvas() addCharts chart\n",
    "canvas.plotInline"
   ]
  },
  {
   "cell_type": "markdown",
   "metadata": {},
   "source": [
    "### 2D Histogram Contour"
   ]
  },
  {
   "cell_type": "code",
   "execution_count": 27,
   "metadata": {},
   "outputs": [
    {
     "data": {
      "text/html": [
       "<div id=\"grid-container_o0haGuOasx\" class=\"grid-container\" align=\"center\"> \n",
       "<div id=\"grid_o0haGuOasx\" class=\"grid\" align=\"center\"> \n",
       "<div id=\"graph_JSDPMygJYu\" class=\"graph\"></div> \n",
       "</div> \n",
       "</div> \n",
       "<script>\n",
       "var masonry = new Macy({\n",
       "    container: '#grid_o0haGuOasx',\n",
       "    debug: true,\n",
       "    mobileFirst: true,\n",
       "    columns: 1,\n",
       "    margin: {\n",
       "        x: 0,\n",
       "        y: 0\n",
       "    }\n",
       "  });\n",
       "\n",
       " var traces_JSDPMygJYu = [{\"name\":\"egMtpT6A3y\",\"type\":\"histogram2dcontour\",\"mode\":\"markers\",\"x\":[1,2,3,4,5,6,7,8,9,10,11,12,13,14,15,16,17,18,19,20,21,22,23,24,25,26,27,28,29,30,31,32,33,34,35,36,37,38,39,40,41,42,43,44,45,46,47,48,49],\"y\":[12.145947269011813,37.75939497956316,65.71579339532767,89.33749369836471,54.56107657725154,93.438728026098,91.42221500527329,91.93166906482938,32.01770448943937,66.37968417097025,14.305833387925306,23.4386868806032,101.06951049856319,33.216534342807556,37.25009215977025,20.618862610504326,37.91970637970306,105.13944971498915,52.86157422508232,47.83949332742323,111.4751011573022,60.73119741408916,47.00031277539752,49.081389138496874,74.54029049549199,122.23768715430892,53.5388969119324,124.72236316109219,85.54516884954845,103.11965859544411,73.37835290377663,52.59533014568092,122.12471390957644,41.93985514179503,77.48700946913172,130.3382236973883,37.420807064508836,90.47199720394687,111.09189427405938,89.19750492949575,140.15162501722722,42.374980582753594,104.14044152618546,118.21649102188164,50.294919934237726,72.85767664123321,71.76357207165753,142.13436665758826,93.65724497168978]}];\n",
       " var layout_JSDPMygJYu = {\"height\":550,\"width\":600,\"hovermode\":\"closest\",\"legend\":{\"orientation\":\"v\"},\"title\":{\"text\":\"2D Histogram Contour\"},\"showlegend\":true};\n",
       " var config_JSDPMygJYu = {\"responsive\":true,\"scrollZoom\":true,\"displaylogo\":false};\n",
       " Plotly.newPlot(\"graph_JSDPMygJYu\", traces_JSDPMygJYu, layout_JSDPMygJYu, config_JSDPMygJYu);\n",
       "</script> \n"
      ]
     },
     "metadata": {},
     "output_type": "display_data"
    }
   ],
   "source": [
    "val x = List.range(1, 50)\n",
    "val y = x.map(x => x + scala.util.Random.nextDouble()*100)\n",
    "\n",
    "val series = XY(x, y).asType(HISTOGRAM2DCONTOUR).drawMarkers\n",
    "\n",
    "val chart = (\n",
    "    Chart() addSeries series\n",
    "    setTitle \"2D Histogram Contour\"\n",
    ")\n",
    "\n",
    "chart.plotInline"
   ]
  },
  {
   "cell_type": "markdown",
   "metadata": {},
   "source": [
    "#### Adding additional axes\n",
    "\n",
    "As the above is a density plot, adding histograms can be useful too.\n",
    "\n",
    "We can add histograms as follows:"
   ]
  },
  {
   "cell_type": "code",
   "execution_count": 28,
   "metadata": {},
   "outputs": [],
   "source": [
    "// import the 2d Density histogram options\n",
    "import org.carbonateresearch.picta.options.histogram2d.Hist2dOptions\n",
    "import org.carbonateresearch.picta.options.HORIZONTAL"
   ]
  },
  {
   "cell_type": "code",
   "execution_count": 29,
   "metadata": {},
   "outputs": [
    {
     "data": {
      "text/html": [
       "<div id=\"grid-container_11JUK3WLy5\" class=\"grid-container\" align=\"center\"> \n",
       "<div id=\"grid_11JUK3WLy5\" class=\"grid\" align=\"center\"> \n",
       "<div id=\"graph_UL9t0qYmJK\" class=\"graph\"></div> \n",
       "</div> \n",
       "</div> \n",
       "<script>\n",
       "var masonry = new Macy({\n",
       "    container: '#grid_11JUK3WLy5',\n",
       "    debug: true,\n",
       "    mobileFirst: true,\n",
       "    columns: 1,\n",
       "    margin: {\n",
       "        x: 0,\n",
       "        y: 0\n",
       "    }\n",
       "  });\n",
       "\n",
       " var traces_UL9t0qYmJK = [{\"name\":\"points\",\"type\":\"scatter\",\"mode\":\"markers\",\"marker\":{\"color\":\"rgb(102,0,0)\"},\"x\":[1,2,3,4,5,6,7,8,9,10,11,12,13,14,15,16,17,18,19,20,21,22,23,24,25,26,27,28,29,30,31,32,33,34,35,36,37,38,39,40,41,42,43,44,45,46,47,48,49],\"y\":[12.145947269011813,37.75939497956316,65.71579339532767,89.33749369836471,54.56107657725154,93.438728026098,91.42221500527329,91.93166906482938,32.01770448943937,66.37968417097025,14.305833387925306,23.4386868806032,101.06951049856319,33.216534342807556,37.25009215977025,20.618862610504326,37.91970637970306,105.13944971498915,52.86157422508232,47.83949332742323,111.4751011573022,60.73119741408916,47.00031277539752,49.081389138496874,74.54029049549199,122.23768715430892,53.5388969119324,124.72236316109219,85.54516884954845,103.11965859544411,73.37835290377663,52.59533014568092,122.12471390957644,41.93985514179503,77.48700946913172,130.3382236973883,37.420807064508836,90.47199720394687,111.09189427405938,89.19750492949575,140.15162501722722,42.374980582753594,104.14044152618546,118.21649102188164,50.294919934237726,72.85767664123321,71.76357207165753,142.13436665758826,93.65724497168978]},{\"name\":\"density\",\"type\":\"histogram2dcontour\",\"ncontours\":20,\"reversescale\":false,\"showscale\":true,\"x\":[1,2,3,4,5,6,7,8,9,10,11,12,13,14,15,16,17,18,19,20,21,22,23,24,25,26,27,28,29,30,31,32,33,34,35,36,37,38,39,40,41,42,43,44,45,46,47,48,49],\"y\":[12.145947269011813,37.75939497956316,65.71579339532767,89.33749369836471,54.56107657725154,93.438728026098,91.42221500527329,91.93166906482938,32.01770448943937,66.37968417097025,14.305833387925306,23.4386868806032,101.06951049856319,33.216534342807556,37.25009215977025,20.618862610504326,37.91970637970306,105.13944971498915,52.86157422508232,47.83949332742323,111.4751011573022,60.73119741408916,47.00031277539752,49.081389138496874,74.54029049549199,122.23768715430892,53.5388969119324,124.72236316109219,85.54516884954845,103.11965859544411,73.37835290377663,52.59533014568092,122.12471390957644,41.93985514179503,77.48700946913172,130.3382236973883,37.420807064508836,90.47199720394687,111.09189427405938,89.19750492949575,140.15162501722722,42.374980582753594,104.14044152618546,118.21649102188164,50.294919934237726,72.85767664123321,71.76357207165753,142.13436665758826,93.65724497168978]},{\"name\":\"histogram\",\"type\":\"histogram\",\"yaxis\":\"y2\",\"x\":[1,2,3,4,5,6,7,8,9,10,11,12,13,14,15,16,17,18,19,20,21,22,23,24,25,26,27,28,29,30,31,32,33,34,35,36,37,38,39,40,41,42,43,44,45,46,47,48,49]},{\"name\":\"y density\",\"type\":\"histogram\",\"xaxis\":\"x2\",\"marker\":{\"color\":\"rgb(102,0,0)\"},\"y\":[12.145947269011813,37.75939497956316,65.71579339532767,89.33749369836471,54.56107657725154,93.438728026098,91.42221500527329,91.93166906482938,32.01770448943937,66.37968417097025,14.305833387925306,23.4386868806032,101.06951049856319,33.216534342807556,37.25009215977025,20.618862610504326,37.91970637970306,105.13944971498915,52.86157422508232,47.83949332742323,111.4751011573022,60.73119741408916,47.00031277539752,49.081389138496874,74.54029049549199,122.23768715430892,53.5388969119324,124.72236316109219,85.54516884954845,103.11965859544411,73.37835290377663,52.59533014568092,122.12471390957644,41.93985514179503,77.48700946913172,130.3382236973883,37.420807064508836,90.47199720394687,111.09189427405938,89.19750492949575,140.15162501722722,42.374980582753594,104.14044152618546,118.21649102188164,50.294919934237726,72.85767664123321,71.76357207165753,142.13436665758826,93.65724497168978]}];\n",
       " var layout_UL9t0qYmJK = {\"height\":550,\"width\":600,\"hovermode\":\"closest\",\"legend\":{\"orientation\":\"v\"},\"title\":{\"text\":\"Histogram2dContour With Density\"},\"showlegend\":false,\"autosize\":false,\"xaxis\":{\"showgrid\":false,\"zeroline\":false,\"showline\":false,\"domain\":[0,0.85]},\"yaxis\":{\"showgrid\":false,\"zeroline\":false,\"showline\":false,\"domain\":[0,0.85]},\"xaxis2\":{\"showgrid\":false,\"zeroline\":false,\"showline\":false,\"domain\":[0.85,1]},\"yaxis2\":{\"showgrid\":false,\"zeroline\":false,\"showline\":false,\"domain\":[0.85,1]}};\n",
       " var config_UL9t0qYmJK = {\"responsive\":true,\"scrollZoom\":true,\"displaylogo\":false};\n",
       " Plotly.newPlot(\"graph_UL9t0qYmJK\", traces_UL9t0qYmJK, layout_UL9t0qYmJK, config_UL9t0qYmJK);\n",
       "</script> \n"
      ]
     },
     "metadata": {},
     "output_type": "display_data"
    }
   ],
   "source": [
    "val marker = Marker() setColor \"rgb(102,0,0)\"\n",
    "\n",
    "val series1 = XY(x, y) \n",
    "            .asType(SCATTER)\n",
    "            .drawMarkers\n",
    "            .setName(\"points\")\n",
    "            .setMarker(marker)\n",
    "\n",
    "\n",
    "val hist2d_options = Hist2dOptions(ncontours = 20, reversescale = false, showscale = true)\n",
    "\n",
    "val series2 = XY(x, y) \n",
    "            .setName(\"density\")\n",
    "            .asType(HISTOGRAM2DCONTOUR)\n",
    "            .setHist2dOptions(hist2d_options)\n",
    "\n",
    "val series3 = XY(x = x)\n",
    "            .asType(HISTOGRAM)\n",
    "            .setName(\"histogram\")\n",
    "            .setAxes(XAxis(), YAxis(2))\n",
    "\n",
    "val series4 = (XY(y)\n",
    "            .setName(\"y density\")\n",
    "            .asType(HISTOGRAM)\n",
    "            .setAxis(XAxis(2))\n",
    "            .setMarker(marker)\n",
    "            .setHistOptions(HistOptions(orientation = HORIZONTAL)))\n",
    "\n",
    "val ax1 = XAxis(showgrid = false) setDomain(0.0, 0.85)\n",
    "val ax2 = YAxis(showgrid = false) setDomain(0.0, 0.85)\n",
    "val ax3 = XAxis(position = 2, showgrid = false) setDomain(0.85, 1.0)\n",
    "val ax4 = YAxis(position = 2, showgrid = false) setDomain(0.85, 1.0)\n",
    "\n",
    "val layout = (\n",
    "    ChartLayout(\"Histogram2dContour With Density\", autosize = false, showlegend = false) \n",
    "    setAxes(ax1, ax2, ax3, ax4)\n",
    ")\n",
    "\n",
    "val chart = Chart() addSeries(series1, series2, series3, series4) setChartLayout layout\n",
    "\n",
    "chart.plotInline"
   ]
  },
  {
   "cell_type": "markdown",
   "metadata": {},
   "source": [
    "### 3D Charts\n",
    "\n",
    "3D charts are constructed using a `XYZ` series as they take in 3 `Series`' to create a single point.\n",
    "\n",
    "The Picta API does not accept nested lists, however the underlying Plotlyjs render does. In order to render any series that will make use of a nested list, we must flatten and provide the length of an element (before the list was flattened).\n",
    "\n",
    "The following examples will make it clearer.\n",
    "\n",
    "#### Contour"
   ]
  },
  {
   "cell_type": "code",
   "execution_count": 30,
   "metadata": {},
   "outputs": [],
   "source": [
    "// lets create some dummy adata for the third dimension\n",
    "val x = List(-9, -6, -5 , -3, -1)\n",
    "val y = List(0, 1, 4, 5, 7)\n",
    "val z = List(\n",
    "    List(10, 10.625, 12.5, 15.625, 20),\n",
    "    List(5.625, 6.25, 8.125, 11.25, 15.625),\n",
    "    List(2.5, 3.125, 5.0, 8.125, 12.5),\n",
    "    List(0.625, 1.25, 3.125, 6.25, 10.625),\n",
    "    List(0, 0.625, 2.5, 5.625, 10)\n",
    ")"
   ]
  },
  {
   "cell_type": "code",
   "execution_count": 31,
   "metadata": {},
   "outputs": [
    {
     "data": {
      "text/html": [
       "<div id=\"grid-container_9Zzytpe7y0\" class=\"grid-container\" align=\"center\"> \n",
       "<div id=\"grid_9Zzytpe7y0\" class=\"grid\" align=\"center\"> \n",
       "<div id=\"graph_V72llTZSQK\" class=\"graph\"></div> \n",
       "</div> \n",
       "</div> \n",
       "<script>\n",
       "var masonry = new Macy({\n",
       "    container: '#grid_9Zzytpe7y0',\n",
       "    debug: true,\n",
       "    mobileFirst: true,\n",
       "    columns: 1,\n",
       "    margin: {\n",
       "        x: 0,\n",
       "        y: 0\n",
       "    }\n",
       "  });\n",
       "\n",
       " var traces_V72llTZSQK = [{\"name\":\"wsEdtk4l0l\",\"type\":\"contour\",\"x\":[-9,-6,-5,-3,-1],\"y\":[0,1,4,5,7],\"z\":[[10,10.625,12.5,15.625,20],[5.625,6.25,8.125,11.25,15.625],[2.5,3.125,5,8.125,12.5],[0.625,1.25,3.125,6.25,10.625],[0,0.625,2.5,5.625,10]]}];\n",
       " var layout_V72llTZSQK = {\"height\":550,\"width\":600,\"hovermode\":\"closest\",\"legend\":{\"orientation\":\"v\"},\"title\":{\"text\":\"Contour\"},\"showlegend\":true};\n",
       " var config_V72llTZSQK = {\"responsive\":true,\"scrollZoom\":true,\"displaylogo\":false};\n",
       " Plotly.newPlot(\"graph_V72llTZSQK\", traces_V72llTZSQK, layout_V72llTZSQK, config_V72llTZSQK);\n",
       "</script> \n"
      ]
     },
     "metadata": {},
     "output_type": "display_data"
    }
   ],
   "source": [
    "// we flatten the nested list as we pass it into the Series constructor\n",
    "val series = XYZ(x=x, y=y, z=z.flatten, n=z(0).length).asType(CONTOUR)\n",
    "\n",
    "// set up the chart\n",
    "val chart = Chart()\n",
    "            .addSeries(series)\n",
    "            .setTitle(\"Contour\")\n",
    "\n",
    "// plot the chart\n",
    "chart.plotInline"
   ]
  },
  {
   "cell_type": "markdown",
   "metadata": {},
   "source": [
    "#### Heatmap"
   ]
  },
  {
   "cell_type": "code",
   "execution_count": 32,
   "metadata": {
    "scrolled": false
   },
   "outputs": [],
   "source": [
    "// create a new nested list for the heatmap\n",
    "val z = List.range(1, 101).map(e => e + scala.util.Random.nextDouble()*100).grouped(10).toList"
   ]
  },
  {
   "cell_type": "code",
   "execution_count": 33,
   "metadata": {},
   "outputs": [
    {
     "data": {
      "text/html": [
       "<div id=\"grid-container_hKZWCXIkG1\" class=\"grid-container\" align=\"center\"> \n",
       "<div id=\"grid_hKZWCXIkG1\" class=\"grid\" align=\"center\"> \n",
       "<div id=\"graph_h47kIfxImB\" class=\"graph\"></div> \n",
       "</div> \n",
       "</div> \n",
       "<script>\n",
       "var masonry = new Macy({\n",
       "    container: '#grid_hKZWCXIkG1',\n",
       "    debug: true,\n",
       "    mobileFirst: true,\n",
       "    columns: 1,\n",
       "    margin: {\n",
       "        x: 0,\n",
       "        y: 0\n",
       "    }\n",
       "  });\n",
       "\n",
       " var traces_h47kIfxImB = [{\"name\":\"753vuM2yRW\",\"type\":\"heatmap\",\"z\":[[19.785511425979827,101.1913496870006,87.91519926203853,101.22115005113282,101.47739299294473,11.579964178973029,83.0780578563595,87.74775432223818,106.06619517861985,105.3386483071444],[62.65813921119652,28.320755954575116,53.92994861659981,77.61143394504059,77.24621683109888,39.61643895379987,111.03941587583007,35.7835757251421,100.08757358958609,92.10223471841162],[43.454294186861276,25.62542005600076,44.26081327243604,85.25882404526823,27.97453664468389,110.80285348339528,101.75423385960117,79.91178445608965,59.73352267220941,102.42483428046019],[31.40821544627112,58.41559033610966,86.28934910478667,106.09935151887778,106.77398945707206,62.04601616386918,102.16506579995927,65.39487297983541,84.64626704781523,124.19535031195538],[57.80817266240926,132.65519489960965,70.35919592184872,77.82801390010198,72.58425208133025,90.79131107839684,136.89212628384155,66.14253722106699,92.68915154006004,82.97477433559044],[101.41378473947275,126.49908625356973,101.75861832277587,81.08274356781591,75.10036819074203,149.41002806888355,74.47386933190973,138.29574509717935,79.89518944551007,136.7542990424069],[61.606097580484686,126.42490108871822,69.3345149616843,96.36463095157588,108.7123982677802,154.34620663479876,99.64624016954932,113.7499510832372,140.09021880842187,100.34519481648107],[72.03509684381527,135.95357044229502,84.61690074093755,168.2261184756841,107.40015767828314,87.41107626652688,80.74541358967389,94.7155538638436,120.68734504887144,113.1600559424984],[174.19695467163876,93.99112010464077,133.66176940892242,110.8671449536539,113.7855927686139,124.09176034645722,102.09170790005149,169.87611514081513,158.32965097127249,99.51687820481446],[136.16807035672224,182.84403526571006,130.74909358905697,154.4973237172613,161.44024770008528,133.5207737665432,194.2176652264244,182.2220596750361,101.63124907269498,192.84045994552184]]}];\n",
       " var layout_h47kIfxImB = {\"height\":550,\"width\":600,\"hovermode\":\"closest\",\"legend\":{\"orientation\":\"v\"},\"title\":{\"text\":\"Heatmap\"},\"showlegend\":true};\n",
       " var config_h47kIfxImB = {\"responsive\":true,\"scrollZoom\":true,\"displaylogo\":false};\n",
       " Plotly.newPlot(\"graph_h47kIfxImB\", traces_h47kIfxImB, layout_h47kIfxImB, config_h47kIfxImB);\n",
       "</script> \n"
      ]
     },
     "metadata": {},
     "output_type": "display_data"
    }
   ],
   "source": [
    "// we get the length of an element of the nested list\n",
    "val n = z(0).length\n",
    "\n",
    "// we now flatten the list and pass it into Series constructor, as well as 'n', the length of an element so that the \n",
    "// heatmap dimensions are correctly constructed\n",
    "val series = XYZ(z=z.flatten, n=n) asType HEATMAP\n",
    "\n",
    "val chart = Chart() addSeries series setTitle \"Heatmap\"\n",
    "\n",
    "chart.plotInline"
   ]
  },
  {
   "cell_type": "markdown",
   "metadata": {},
   "source": [
    "#### Scatter3D"
   ]
  },
  {
   "cell_type": "code",
   "execution_count": 34,
   "metadata": {
    "scrolled": false
   },
   "outputs": [
    {
     "data": {
      "text/html": [
       "<div id=\"grid-container_yl5MWxXMGl\" class=\"grid-container\" align=\"center\"> \n",
       "<div id=\"grid_yl5MWxXMGl\" class=\"grid\" align=\"center\"> \n",
       "<div id=\"graph_7PGmXTpkka\" class=\"graph\"></div> \n",
       "</div> \n",
       "</div> \n",
       "<script>\n",
       "var masonry = new Macy({\n",
       "    container: '#grid_yl5MWxXMGl',\n",
       "    debug: true,\n",
       "    mobileFirst: true,\n",
       "    columns: 1,\n",
       "    margin: {\n",
       "        x: 0,\n",
       "        y: 0\n",
       "    }\n",
       "  });\n",
       "\n",
       " var traces_7PGmXTpkka = [{\"name\":\"4jgZUouYvW\",\"type\":\"scatter3d\",\"mode\":\"markers\",\"x\":[1,2,3,4,5,6,7,8,9,10,11,12,13,14,15,16,17,18,19,20,21,22,23,24,25,26,27,28,29,30,31,32,33,34,35,36,37,38,39,40,41,42,43,44,45,46,47,48,49,50,51,52,53,54,55,56,57,58,59,60,61,62,63,64,65,66,67,68,69,70,71,72,73,74,75,76,77,78,79,80,81,82,83,84,85,86,87,88,89,90,91,92,93,94,95,96,97,98,99],\"y\":[1,2,3,4,5,6,7,8,9,10,11,12,13,14,15,16,17,18,19,20,21,22,23,24,25,26,27,28,29,30,31,32,33,34,35,36,37,38,39,40,41,42,43,44,45,46,47,48,49,50,51,52,53,54,55,56,57,58,59,60,61,62,63,64,65,66,67,68,69,70,71,72,73,74,75,76,77,78,79,80,81,82,83,84,85,86,87,88,89,90,91,92,93,94,95,96,97,98,99],\"z\":[82.87195941332321,82.17383521707795,71.81448909711327,59.38473946738692,21.20328083911393,19.14064998897022,83.19024170269006,13.401667957821566,21.44366742245967,56.37967678856776,32.927081320703,105.58533506971234,83.29448315060816,27.462623412559548,39.90632770120918,69.15202932757745,59.61090112376692,76.9165499655546,104.77067929719449,34.31353182188185,103.84351883477153,35.88225141563358,33.267473221365364,81.83642830064343,99.3713233546006,38.209681596607226,124.27902439503636,87.61982322424899,52.84574938333155,126.1267414577954,70.9195271017163,89.70318028111879,63.84136539047599,113.07484911815423,111.06633467875778,97.88556933934181,53.90951128172492,55.38668561992627,42.30670865082304,70.53213745206087,49.55696091830103,134.18857383369595,85.51935765974362,103.16311899047307,65.72251209953318,64.24195420053508,141.17345683124466,109.06527645711986,129.00012754430284,127.39549060722653,132.91603979581396,123.43514767031445,113.15810735170996,74.90131025470279,74.13195815973731,129.45805307261108,133.42947730313824,155.05599131640665,124.89893974777245,87.24629667717873,160.5996008781163,100.45886197893618,129.12345965646045,144.70460361356862,71.09282592405842,152.63727405622683,134.63150085268734,123.16024705299816,145.06068354920185,110.87049703986438,102.60152868281943,99.98999090902605,160.90001286799887,166.75093641689494,106.96529268573485,155.49537717067767,111.68014633982628,126.35340606433797,109.26533694348261,111.92253212175882,86.63402366036878,127.84020980895926,169.9463945398395,168.79208315557315,119.16897736365178,133.91182523276092,123.17113719772456,130.59941295325683,101.7785973139262,115.71999774631655,98.9889852463982,130.46494153615396,107.78798561562358,147.6921297801309,124.05002858208552,176.45866797747064,140.04039472029422,101.17280537436166,170.04431738173065]}];\n",
       " var layout_7PGmXTpkka = {\"height\":550,\"width\":600,\"hovermode\":\"closest\",\"legend\":{\"orientation\":\"v\"},\"title\":{\"text\":\"XYZ.Scatter3D\"},\"showlegend\":true};\n",
       " var config_7PGmXTpkka = {\"responsive\":false,\"scrollZoom\":false,\"displaylogo\":false};\n",
       " Plotly.newPlot(\"graph_7PGmXTpkka\", traces_7PGmXTpkka, layout_7PGmXTpkka, config_7PGmXTpkka);\n",
       "</script> \n"
      ]
     },
     "metadata": {},
     "output_type": "display_data"
    }
   ],
   "source": [
    "val x = List.range(1, 100)\n",
    "val y = List.range(1, 100)\n",
    "val z = List.range(1, 100).map(e => e + scala.util.Random.nextDouble()*100)\n",
    "\n",
    "val series = XYZ(x, y, z) asType SCATTER3D drawStyle MARKERS\n",
    "val chart1 = Chart() addSeries series setTitle \"XYZ.Scatter3D\" setConfig(false, false)\n",
    "val canvas = Canvas() addCharts chart1\n",
    "canvas.plotInline"
   ]
  },
  {
   "cell_type": "markdown",
   "metadata": {},
   "source": [
    "#### Surface Plot"
   ]
  },
  {
   "cell_type": "code",
   "execution_count": 35,
   "metadata": {
    "scrolled": false
   },
   "outputs": [
    {
     "data": {
      "text/html": [
       "<div id=\"grid-container_Z8kOzmpGBg\" class=\"grid-container\" align=\"center\"> \n",
       "<div id=\"grid_Z8kOzmpGBg\" class=\"grid\" align=\"center\"> \n",
       "<div id=\"graph_X3J00XHbYa\" class=\"graph\"></div> \n",
       "</div> \n",
       "</div> \n",
       "<script>\n",
       "var masonry = new Macy({\n",
       "    container: '#grid_Z8kOzmpGBg',\n",
       "    debug: true,\n",
       "    mobileFirst: true,\n",
       "    columns: 1,\n",
       "    margin: {\n",
       "        x: 0,\n",
       "        y: 0\n",
       "    }\n",
       "  });\n",
       "\n",
       " var traces_X3J00XHbYa = [{\"name\":\"y13RQfHTsk\",\"type\":\"surface\",\"z\":[[8.83,8.89,8.81,8.87,8.9,8.87],[8.89,8.94,8.85,8.94,8.96,8.92],[8.84,8.9,8.82,8.92,8.93,8.91],[8.79,8.85,8.79,8.9,8.94,8.92],[8.79,8.88,8.81,8.9,8.95,8.92],[8.8,8.82,8.78,8.91,8.94,8.92],[8.75,8.78,8.77,8.91,8.95,8.92],[8.8,8.8,8.77,8.91,8.95,8.94],[8.74,8.81,8.76,8.93,8.98,8.99],[8.89,8.99,8.92,9.1,9.13,9.11],[8.97,8.97,8.91,9.09,9.11,9.11],[9.04,9.08,9.05,9.25,9.28,9.27],[9,9.01,9,9.2,9.23,9.2],[8.99,8.99,8.98,9.18,9.2,9.19],[8.93,8.97,8.97,9.18,9.2,9.18]]}];\n",
       " var layout_X3J00XHbYa = {\"height\":550,\"width\":600,\"hovermode\":\"closest\",\"legend\":{\"orientation\":\"v\"},\"title\":{\"text\":\"Surface\"},\"showlegend\":true};\n",
       " var config_X3J00XHbYa = {\"responsive\":true,\"scrollZoom\":true,\"displaylogo\":false};\n",
       " Plotly.newPlot(\"graph_X3J00XHbYa\", traces_X3J00XHbYa, layout_X3J00XHbYa, config_X3J00XHbYa);\n",
       "</script> \n"
      ]
     },
     "metadata": {},
     "output_type": "display_data"
    }
   ],
   "source": [
    "// 3d surface plot\n",
    "val k = List(\n",
    "    List(8.83,8.89,8.81,8.87,8.9,8.87),\n",
    "    List(8.89,8.94,8.85,8.94,8.96,8.92),\n",
    "    List(8.84,8.9,8.82,8.92,8.93,8.91),\n",
    "    List(8.79,8.85,8.79,8.9,8.94,8.92),\n",
    "    List(8.79,8.88,8.81,8.9,8.95,8.92),\n",
    "    List(8.8,8.82,8.78,8.91,8.94,8.92),\n",
    "    List(8.75,8.78,8.77,8.91,8.95,8.92),\n",
    "    List(8.8,8.8,8.77,8.91,8.95,8.94),\n",
    "    List(8.74,8.81,8.76,8.93,8.98,8.99),\n",
    "    List(8.89,8.99,8.92,9.1,9.13,9.11),\n",
    "    List(8.97,8.97,8.91,9.09,9.11,9.11),\n",
    "    List(9.04,9.08,9.05,9.25,9.28,9.27),\n",
    "    List(9,9.01,9,9.2,9.23,9.2),\n",
    "    List(8.99,8.99,8.98,9.18,9.2,9.19),\n",
    "    List(8.93,8.97,8.97,9.18,9.2,9.18)\n",
    "  )\n",
    "\n",
    "val series = XYZ(z=k.flatten, n = k(0).length) asType SURFACE\n",
    "val chart2 = Chart() addSeries series setTitle \"Surface\"\n",
    "\n",
    "chart2.plotInline"
   ]
  },
  {
   "cell_type": "markdown",
   "metadata": {
    "scrolled": false
   },
   "source": [
    "#### Third Dimension as Color"
   ]
  },
  {
   "cell_type": "code",
   "execution_count": 36,
   "metadata": {},
   "outputs": [
    {
     "data": {
      "text/html": [
       "<div id=\"grid-container_m8xMpqE2UA\" class=\"grid-container\" align=\"center\"> \n",
       "<div id=\"grid_m8xMpqE2UA\" class=\"grid\" align=\"center\"> \n",
       "<div id=\"graph_NzAAqGCkt6\" class=\"graph\"></div> \n",
       "</div> \n",
       "</div> \n",
       "<script>\n",
       "var masonry = new Macy({\n",
       "    container: '#grid_m8xMpqE2UA',\n",
       "    debug: true,\n",
       "    mobileFirst: true,\n",
       "    columns: 1,\n",
       "    margin: {\n",
       "        x: 0,\n",
       "        y: 0\n",
       "    }\n",
       "  });\n",
       "\n",
       " var traces_NzAAqGCkt6 = [{\"name\":\"WiMff5MbeC\",\"type\":\"scatter\",\"mode\":\"markers\",\"marker\":{\"color\":[82.87195941332321,82.17383521707795,71.81448909711327,59.38473946738692,21.20328083911393,19.14064998897022,83.19024170269006,13.401667957821566,21.44366742245967,56.37967678856776,32.927081320703,105.58533506971234,83.29448315060816,27.462623412559548,39.90632770120918,69.15202932757745,59.61090112376692,76.9165499655546,104.77067929719449,34.31353182188185,103.84351883477153,35.88225141563358,33.267473221365364,81.83642830064343,99.3713233546006,38.209681596607226,124.27902439503636,87.61982322424899,52.84574938333155,126.1267414577954,70.9195271017163,89.70318028111879,63.84136539047599,113.07484911815423,111.06633467875778,97.88556933934181,53.90951128172492,55.38668561992627,42.30670865082304,70.53213745206087,49.55696091830103,134.18857383369595,85.51935765974362,103.16311899047307,65.72251209953318,64.24195420053508,141.17345683124466,109.06527645711986,129.00012754430284,127.39549060722653,132.91603979581396,123.43514767031445,113.15810735170996,74.90131025470279,74.13195815973731,129.45805307261108,133.42947730313824,155.05599131640665,124.89893974777245,87.24629667717873,160.5996008781163,100.45886197893618,129.12345965646045,144.70460361356862,71.09282592405842,152.63727405622683,134.63150085268734,123.16024705299816,145.06068354920185,110.87049703986438,102.60152868281943,99.98999090902605,160.90001286799887,166.75093641689494,106.96529268573485,155.49537717067767,111.68014633982628,126.35340606433797,109.26533694348261,111.92253212175882,86.63402366036878,127.84020980895926,169.9463945398395,168.79208315557315,119.16897736365178,133.91182523276092,123.17113719772456,130.59941295325683,101.7785973139262,115.71999774631655,98.9889852463982,130.46494153615396,107.78798561562358,147.6921297801309,124.05002858208552,176.45866797747064,140.04039472029422,101.17280537436166,170.04431738173065]},\"x\":[1,2,3,4,5,6,7,8,9,10,11,12,13,14,15,16,17,18,19,20,21,22,23,24,25,26,27,28,29,30,31,32,33,34,35,36,37,38,39,40,41,42,43,44,45,46,47,48,49,50,51,52,53,54,55,56,57,58,59,60,61,62,63,64,65,66,67,68,69,70,71,72,73,74,75,76,77,78,79,80,81,82,83,84,85,86,87,88,89,90,91,92,93,94,95,96,97,98,99],\"y\":[1,2,3,4,5,6,7,8,9,10,11,12,13,14,15,16,17,18,19,20,21,22,23,24,25,26,27,28,29,30,31,32,33,34,35,36,37,38,39,40,41,42,43,44,45,46,47,48,49,50,51,52,53,54,55,56,57,58,59,60,61,62,63,64,65,66,67,68,69,70,71,72,73,74,75,76,77,78,79,80,81,82,83,84,85,86,87,88,89,90,91,92,93,94,95,96,97,98,99]}];\n",
       " var layout_NzAAqGCkt6 = {\"height\":550,\"width\":600,\"hovermode\":\"closest\",\"legend\":{\"orientation\":\"v\"},\"title\":{\"text\":\"ScatterWithColor\"},\"showlegend\":true};\n",
       " var config_NzAAqGCkt6 = {\"responsive\":true,\"scrollZoom\":true,\"displaylogo\":false};\n",
       " Plotly.newPlot(\"graph_NzAAqGCkt6\", traces_NzAAqGCkt6, layout_NzAAqGCkt6, config_NzAAqGCkt6);\n",
       "</script> \n"
      ]
     },
     "metadata": {},
     "output_type": "display_data"
    }
   ],
   "source": [
    "// multiple compositions can be used to create scatter charts with a color representing some third dimension\n",
    "val marker = Marker() setColor z\n",
    "val series = XY(x, y) asType SCATTER drawStyle MARKERS setMarker marker\n",
    "val chart3 = Chart() addSeries series setTitle \"ScatterWithColor\"\n",
    "chart3.plotInline"
   ]
  },
  {
   "cell_type": "markdown",
   "metadata": {},
   "source": [
    "#### Subplot\n",
    "\n",
    "The Subplot class can be used to generate subplots for an XYZ plots just as we did previously."
   ]
  },
  {
   "cell_type": "code",
   "execution_count": 37,
   "metadata": {},
   "outputs": [
    {
     "data": {
      "text/html": [
       "<div id=\"grid-container_CRbj2FHfBr\" class=\"grid-container\" align=\"center\"> \n",
       "<div id=\"grid_CRbj2FHfBr\" class=\"grid\" align=\"center\"> \n",
       "<div id=\"graph_4QpTMHxxAY\" class=\"graph\"></div> \n",
       "<div id=\"graph_mSBBSUKfLH\" class=\"graph\"></div> \n",
       "<div id=\"graph_x7G5zWmUju\" class=\"graph\"></div> \n",
       "<div id=\"graph_K5hHlxusoE\" class=\"graph\"></div> \n",
       "</div> \n",
       "</div> \n",
       "\n",
       "<div align=\"center\">\n",
       "<button id = \"saveAsPNG_CRbj2FHfBr\" class=\"picta-button\">Download Canvas as PNG</button>\n",
       "</div>\n",
       "<script>\n",
       "var masonry = new Macy({\n",
       "    container: '#grid_CRbj2FHfBr',\n",
       "    debug: true,\n",
       "    mobileFirst: true,\n",
       "    columns: 2,\n",
       "    margin: {\n",
       "        x: 0,\n",
       "        y: 0\n",
       "    }\n",
       "  });\n",
       "\n",
       " var traces_4QpTMHxxAY = [{\"name\":\"4jgZUouYvW\",\"type\":\"scatter3d\",\"mode\":\"markers\",\"x\":[1,2,3,4,5,6,7,8,9,10,11,12,13,14,15,16,17,18,19,20,21,22,23,24,25,26,27,28,29,30,31,32,33,34,35,36,37,38,39,40,41,42,43,44,45,46,47,48,49,50,51,52,53,54,55,56,57,58,59,60,61,62,63,64,65,66,67,68,69,70,71,72,73,74,75,76,77,78,79,80,81,82,83,84,85,86,87,88,89,90,91,92,93,94,95,96,97,98,99],\"y\":[1,2,3,4,5,6,7,8,9,10,11,12,13,14,15,16,17,18,19,20,21,22,23,24,25,26,27,28,29,30,31,32,33,34,35,36,37,38,39,40,41,42,43,44,45,46,47,48,49,50,51,52,53,54,55,56,57,58,59,60,61,62,63,64,65,66,67,68,69,70,71,72,73,74,75,76,77,78,79,80,81,82,83,84,85,86,87,88,89,90,91,92,93,94,95,96,97,98,99],\"z\":[82.87195941332321,82.17383521707795,71.81448909711327,59.38473946738692,21.20328083911393,19.14064998897022,83.19024170269006,13.401667957821566,21.44366742245967,56.37967678856776,32.927081320703,105.58533506971234,83.29448315060816,27.462623412559548,39.90632770120918,69.15202932757745,59.61090112376692,76.9165499655546,104.77067929719449,34.31353182188185,103.84351883477153,35.88225141563358,33.267473221365364,81.83642830064343,99.3713233546006,38.209681596607226,124.27902439503636,87.61982322424899,52.84574938333155,126.1267414577954,70.9195271017163,89.70318028111879,63.84136539047599,113.07484911815423,111.06633467875778,97.88556933934181,53.90951128172492,55.38668561992627,42.30670865082304,70.53213745206087,49.55696091830103,134.18857383369595,85.51935765974362,103.16311899047307,65.72251209953318,64.24195420053508,141.17345683124466,109.06527645711986,129.00012754430284,127.39549060722653,132.91603979581396,123.43514767031445,113.15810735170996,74.90131025470279,74.13195815973731,129.45805307261108,133.42947730313824,155.05599131640665,124.89893974777245,87.24629667717873,160.5996008781163,100.45886197893618,129.12345965646045,144.70460361356862,71.09282592405842,152.63727405622683,134.63150085268734,123.16024705299816,145.06068354920185,110.87049703986438,102.60152868281943,99.98999090902605,160.90001286799887,166.75093641689494,106.96529268573485,155.49537717067767,111.68014633982628,126.35340606433797,109.26533694348261,111.92253212175882,86.63402366036878,127.84020980895926,169.9463945398395,168.79208315557315,119.16897736365178,133.91182523276092,123.17113719772456,130.59941295325683,101.7785973139262,115.71999774631655,98.9889852463982,130.46494153615396,107.78798561562358,147.6921297801309,124.05002858208552,176.45866797747064,140.04039472029422,101.17280537436166,170.04431738173065]}];\n",
       " var layout_4QpTMHxxAY = {\"height\":350,\"width\":350,\"hovermode\":\"closest\",\"legend\":{\"orientation\":\"v\"},\"title\":{\"text\":\"XYZ.Scatter3D\"},\"showlegend\":true,\"margin\":{\"l\":50,\"r\":50,\"t\":50,\"b\":50}};\n",
       " var config_4QpTMHxxAY = {\"responsive\":false,\"scrollZoom\":false,\"displaylogo\":false};\n",
       " Plotly.newPlot(\"graph_4QpTMHxxAY\", traces_4QpTMHxxAY, layout_4QpTMHxxAY, config_4QpTMHxxAY);\n",
       "\n",
       " var traces_mSBBSUKfLH = [{\"name\":\"y13RQfHTsk\",\"type\":\"surface\",\"z\":[[8.83,8.89,8.81,8.87,8.9,8.87],[8.89,8.94,8.85,8.94,8.96,8.92],[8.84,8.9,8.82,8.92,8.93,8.91],[8.79,8.85,8.79,8.9,8.94,8.92],[8.79,8.88,8.81,8.9,8.95,8.92],[8.8,8.82,8.78,8.91,8.94,8.92],[8.75,8.78,8.77,8.91,8.95,8.92],[8.8,8.8,8.77,8.91,8.95,8.94],[8.74,8.81,8.76,8.93,8.98,8.99],[8.89,8.99,8.92,9.1,9.13,9.11],[8.97,8.97,8.91,9.09,9.11,9.11],[9.04,9.08,9.05,9.25,9.28,9.27],[9,9.01,9,9.2,9.23,9.2],[8.99,8.99,8.98,9.18,9.2,9.19],[8.93,8.97,8.97,9.18,9.2,9.18]]}];\n",
       " var layout_mSBBSUKfLH = {\"height\":350,\"width\":350,\"hovermode\":\"closest\",\"legend\":{\"orientation\":\"v\"},\"title\":{\"text\":\"Surface\"},\"showlegend\":true,\"margin\":{\"l\":50,\"r\":50,\"t\":50,\"b\":50}};\n",
       " var config_mSBBSUKfLH = {\"responsive\":true,\"scrollZoom\":true,\"displaylogo\":false};\n",
       " Plotly.newPlot(\"graph_mSBBSUKfLH\", traces_mSBBSUKfLH, layout_mSBBSUKfLH, config_mSBBSUKfLH);\n",
       "\n",
       " var traces_x7G5zWmUju = [{\"name\":\"WiMff5MbeC\",\"type\":\"scatter\",\"mode\":\"markers\",\"marker\":{\"color\":[82.87195941332321,82.17383521707795,71.81448909711327,59.38473946738692,21.20328083911393,19.14064998897022,83.19024170269006,13.401667957821566,21.44366742245967,56.37967678856776,32.927081320703,105.58533506971234,83.29448315060816,27.462623412559548,39.90632770120918,69.15202932757745,59.61090112376692,76.9165499655546,104.77067929719449,34.31353182188185,103.84351883477153,35.88225141563358,33.267473221365364,81.83642830064343,99.3713233546006,38.209681596607226,124.27902439503636,87.61982322424899,52.84574938333155,126.1267414577954,70.9195271017163,89.70318028111879,63.84136539047599,113.07484911815423,111.06633467875778,97.88556933934181,53.90951128172492,55.38668561992627,42.30670865082304,70.53213745206087,49.55696091830103,134.18857383369595,85.51935765974362,103.16311899047307,65.72251209953318,64.24195420053508,141.17345683124466,109.06527645711986,129.00012754430284,127.39549060722653,132.91603979581396,123.43514767031445,113.15810735170996,74.90131025470279,74.13195815973731,129.45805307261108,133.42947730313824,155.05599131640665,124.89893974777245,87.24629667717873,160.5996008781163,100.45886197893618,129.12345965646045,144.70460361356862,71.09282592405842,152.63727405622683,134.63150085268734,123.16024705299816,145.06068354920185,110.87049703986438,102.60152868281943,99.98999090902605,160.90001286799887,166.75093641689494,106.96529268573485,155.49537717067767,111.68014633982628,126.35340606433797,109.26533694348261,111.92253212175882,86.63402366036878,127.84020980895926,169.9463945398395,168.79208315557315,119.16897736365178,133.91182523276092,123.17113719772456,130.59941295325683,101.7785973139262,115.71999774631655,98.9889852463982,130.46494153615396,107.78798561562358,147.6921297801309,124.05002858208552,176.45866797747064,140.04039472029422,101.17280537436166,170.04431738173065]},\"x\":[1,2,3,4,5,6,7,8,9,10,11,12,13,14,15,16,17,18,19,20,21,22,23,24,25,26,27,28,29,30,31,32,33,34,35,36,37,38,39,40,41,42,43,44,45,46,47,48,49,50,51,52,53,54,55,56,57,58,59,60,61,62,63,64,65,66,67,68,69,70,71,72,73,74,75,76,77,78,79,80,81,82,83,84,85,86,87,88,89,90,91,92,93,94,95,96,97,98,99],\"y\":[1,2,3,4,5,6,7,8,9,10,11,12,13,14,15,16,17,18,19,20,21,22,23,24,25,26,27,28,29,30,31,32,33,34,35,36,37,38,39,40,41,42,43,44,45,46,47,48,49,50,51,52,53,54,55,56,57,58,59,60,61,62,63,64,65,66,67,68,69,70,71,72,73,74,75,76,77,78,79,80,81,82,83,84,85,86,87,88,89,90,91,92,93,94,95,96,97,98,99]}];\n",
       " var layout_x7G5zWmUju = {\"height\":350,\"width\":350,\"hovermode\":\"closest\",\"legend\":{\"orientation\":\"v\"},\"title\":{\"text\":\"ScatterWithColor\"},\"showlegend\":true,\"margin\":{\"l\":50,\"r\":50,\"t\":50,\"b\":50}};\n",
       " var config_x7G5zWmUju = {\"responsive\":true,\"scrollZoom\":true,\"displaylogo\":false};\n",
       " Plotly.newPlot(\"graph_x7G5zWmUju\", traces_x7G5zWmUju, layout_x7G5zWmUju, config_x7G5zWmUju);\n",
       "\n",
       " var traces_K5hHlxusoE = [{\"name\":\"753vuM2yRW\",\"type\":\"heatmap\",\"z\":[[19.785511425979827,101.1913496870006,87.91519926203853,101.22115005113282,101.47739299294473,11.579964178973029,83.0780578563595,87.74775432223818,106.06619517861985,105.3386483071444],[62.65813921119652,28.320755954575116,53.92994861659981,77.61143394504059,77.24621683109888,39.61643895379987,111.03941587583007,35.7835757251421,100.08757358958609,92.10223471841162],[43.454294186861276,25.62542005600076,44.26081327243604,85.25882404526823,27.97453664468389,110.80285348339528,101.75423385960117,79.91178445608965,59.73352267220941,102.42483428046019],[31.40821544627112,58.41559033610966,86.28934910478667,106.09935151887778,106.77398945707206,62.04601616386918,102.16506579995927,65.39487297983541,84.64626704781523,124.19535031195538],[57.80817266240926,132.65519489960965,70.35919592184872,77.82801390010198,72.58425208133025,90.79131107839684,136.89212628384155,66.14253722106699,92.68915154006004,82.97477433559044],[101.41378473947275,126.49908625356973,101.75861832277587,81.08274356781591,75.10036819074203,149.41002806888355,74.47386933190973,138.29574509717935,79.89518944551007,136.7542990424069],[61.606097580484686,126.42490108871822,69.3345149616843,96.36463095157588,108.7123982677802,154.34620663479876,99.64624016954932,113.7499510832372,140.09021880842187,100.34519481648107],[72.03509684381527,135.95357044229502,84.61690074093755,168.2261184756841,107.40015767828314,87.41107626652688,80.74541358967389,94.7155538638436,120.68734504887144,113.1600559424984],[174.19695467163876,93.99112010464077,133.66176940892242,110.8671449536539,113.7855927686139,124.09176034645722,102.09170790005149,169.87611514081513,158.32965097127249,99.51687820481446],[136.16807035672224,182.84403526571006,130.74909358905697,154.4973237172613,161.44024770008528,133.5207737665432,194.2176652264244,182.2220596750361,101.63124907269498,192.84045994552184]]}];\n",
       " var layout_K5hHlxusoE = {\"height\":350,\"width\":350,\"hovermode\":\"closest\",\"legend\":{\"orientation\":\"v\"},\"title\":{\"text\":\"Heatmap\"},\"showlegend\":true,\"margin\":{\"l\":50,\"r\":50,\"t\":50,\"b\":50}};\n",
       " var config_K5hHlxusoE = {\"responsive\":true,\"scrollZoom\":true,\"displaylogo\":false};\n",
       " Plotly.newPlot(\"graph_K5hHlxusoE\", traces_K5hHlxusoE, layout_K5hHlxusoE, config_K5hHlxusoE);\n",
       "\n",
       "var save = document.getElementById(\"saveAsPNG_CRbj2FHfBr\")\n",
       "save.onclick = function() {\n",
       "    const grid = document.getElementById(\"grid-container_CRbj2FHfBr\")\n",
       "    const svg_containers = grid.getElementsByClassName('svg-container')\n",
       "    const main_svgs = grid.getElementsByClassName('main-svg')\n",
       "\n",
       "    const svg_containers_styles = []\n",
       "    const main_svgs_styles = []\n",
       "\n",
       "    const modebars = document.getElementsByClassName(\"modebar-container\")\n",
       "\n",
       "    for (var i = 0; i < modebars.length; i++) {\n",
       "        modebars[i].style.display = \"none\"\n",
       "    }\n",
       "\n",
       "    domtoimage.toPng(grid)\n",
       "    .then(function (dataUrl) {\n",
       "        var img = new Image();\n",
       "        img.src = dataUrl;\n",
       "        var link = document.createElement('a');\n",
       "        link.download = 'Picta-image.png';\n",
       "        link.href = dataUrl;\n",
       "        link.click()\n",
       "    })\n",
       "    .catch(function (error) {\n",
       "        console.error('oops, something went wrong!', error);\n",
       "    });\n",
       "}\n",
       "</script> \n"
      ]
     },
     "metadata": {},
     "output_type": "display_data"
    }
   ],
   "source": [
    "// it may be necessary to play around with the chart dimensions and margin  in order to ensure a good fit on screen.\n",
    "val dim = 350\n",
    "\n",
    "// The canvas has an underlying grid. By default the underlying grid is 1x1, but we can pass in the dimensions we \n",
    "// require by passing in parameters in the constructor.\n",
    "Canvas(2, 2)\n",
    ".setChart(0, 0, chart1.setDimensions(width = dim, height = dim).setMargin(l=50, r=50, t=50, b=50))\n",
    ".setChart(0, 1, chart2.setDimensions(width = dim, height = dim)setMargin(l=50, r=50, t=50, b=50))\n",
    ".setChart(1, 0, chart3.setDimensions(width = dim, height = dim)setMargin(l=50, r=50, t=50, b=50))\n",
    ".setChart(1, 1, chart.setDimensions(width = dim, height = dim)setMargin(l=50, r=50, t=50, b=50))\n",
    ".plotInline"
   ]
  },
  {
   "cell_type": "markdown",
   "metadata": {},
   "source": [
    "#### Map\n",
    "\n",
    "We can also create maps using the composition technique below."
   ]
  },
  {
   "cell_type": "code",
   "execution_count": 38,
   "metadata": {},
   "outputs": [],
   "source": [
    "import org.carbonateresearch.picta.options.{Margin, Line}\n",
    "import org.carbonateresearch.picta.Map"
   ]
  },
  {
   "cell_type": "code",
   "execution_count": 39,
   "metadata": {},
   "outputs": [
    {
     "data": {
      "text/html": [
       "<div id=\"grid-container_7ziNEBtkqM\" class=\"grid-container\" align=\"center\"> \n",
       "<div id=\"grid_7ziNEBtkqM\" class=\"grid\" align=\"center\"> \n",
       "<div id=\"graph_DWuDjUc0Cd\" class=\"graph\"></div> \n",
       "</div> \n",
       "</div> \n",
       "<script>\n",
       "var masonry = new Macy({\n",
       "    container: '#grid_7ziNEBtkqM',\n",
       "    debug: true,\n",
       "    mobileFirst: true,\n",
       "    columns: 1,\n",
       "    margin: {\n",
       "        x: 0,\n",
       "        y: 0\n",
       "    }\n",
       "  });\n",
       "\n",
       " var traces_DWuDjUc0Cd = [{\"name\":\"Wol3YvM6xr\",\"lat\":[40.7127,51.5072],\"lon\":[-74.0059,0.1275],\"type\":\"scattergeo\",\"mode\":\"lines\",\"line\":{\"width\":2,\"color\":\"red\"}}];\n",
       " var layout_DWuDjUc0Cd = {\"height\":550,\"width\":600,\"hovermode\":\"closest\",\"legend\":{\"orientation\":\"v\"},\"showlegend\":true,\"geo\":{\"resolution\":50,\"showland\":true,\"showlakes\":true,\"coastlinewidth\":2,\"landcolor\":\"rgb(204, 204, 204)\",\"lakecolor\":\"rgb(255, 255, 255)\",\"lataxis\":{\"range\":[20,60],\"showgrid\":true,\"dtick\":10},\"lonaxis\":{\"range\":[-100,20],\"showgrid\":true,\"dtick\":10}},\"margin\":{\"l\":0,\"r\":0,\"t\":0,\"b\":0}};\n",
       " var config_DWuDjUc0Cd = {\"responsive\":false,\"scrollZoom\":false,\"displaylogo\":false};\n",
       " Plotly.newPlot(\"graph_DWuDjUc0Cd\", traces_DWuDjUc0Cd, layout_DWuDjUc0Cd, config_DWuDjUc0Cd);\n",
       "</script> \n"
      ]
     },
     "metadata": {},
     "output_type": "display_data"
    }
   ],
   "source": [
    "// draw a line on the map that is red\n",
    "val line = Line(width = 2) setColor \"red\"\n",
    "\n",
    "// construct the map Series. It is an XY chart as it takes in a List of Longitude and Latitude\n",
    "val series = Map(List(40.7127, 51.5072), List(-74.0059, 0.1275)) drawSymbol LINES drawLine line\n",
    "\n",
    "// These are options that further specify the options for the map\n",
    "val geo = MapOptions(landcolor = \"rgb(204, 204, 204)\", lakecolor = \"rgb(255, 255, 255)\")\n",
    "              .setMapAxes(LatAxis(List(20, 60)), LongAxis(List(-100, 20)))\n",
    "\n",
    "val chart = (\n",
    "    Chart() \n",
    "    addSeries series \n",
    "    setConfig(false, false)\n",
    "    setMapOptions geo\n",
    "    setMargin(l=0, r=0, t=0, b=0)\n",
    ")\n",
    "\n",
    "chart.plotInline"
   ]
  },
  {
   "cell_type": "markdown",
   "metadata": {},
   "source": [
    "### Animated Charts\n",
    "\n",
    "We can also create animated charts. This can be useful for tracking the evolution of a data over time.\n",
    "\n",
    "All `Series` types should be supported.\n",
    "\n",
    "#### 2D Animated Chart"
   ]
  },
  {
   "cell_type": "code",
   "execution_count": 40,
   "metadata": {},
   "outputs": [],
   "source": [
    "import org.carbonateresearch.picta.options.ColorOptions._\n",
    "\n",
    "// creates random XY for testing purposes\n",
    "def createXYSeries[T: Color]\n",
    "(numberToCreate: Int, count: Int = 0, length: Int = 10): List[XY[Int, Double, T, T]] = {\n",
    "    if (count == numberToCreate) Nil\n",
    "    else {\n",
    "      val xs = List.range(0, length)\n",
    "      val ys = xs.map(x => scala.util.Random.nextDouble() * x)\n",
    "      val series = XY(x = xs, y = ys, name = \"series \" + count).drawMarkers\n",
    "      series :: createXYSeries(numberToCreate, count + 1, length)\n",
    "    }\n",
    "}\n",
    "\n",
    "def createXYZSeries(numberToCreate: Int, count: Int = 0, length: Int = 10): List[XYZ[Int, Double, Double]] = {\n",
    "    if (count == numberToCreate) Nil\n",
    "    else {\n",
    "      val xs = List.range(0, length)\n",
    "      val ys = xs.map(x => scala.util.Random.nextDouble() * x)\n",
    "      val zs = xs.map(x => scala.util.Random.nextDouble() * x * scala.util.Random.nextInt())\n",
    "      val series = XYZ(x = xs, y = ys, z = zs, name = \"series \" + count, `type` = SCATTER3D).drawMarkers\n",
    "      series :: createXYZSeries(numberToCreate, count + 1, length)\n",
    "    }\n",
    "}"
   ]
  },
  {
   "cell_type": "code",
   "execution_count": 41,
   "metadata": {
    "scrolled": false
   },
   "outputs": [
    {
     "data": {
      "text/html": [
       "<div id=\"grid-container_MvKdAG2Ea0\" class=\"grid-container\" align=\"center\"> \n",
       "<div id=\"grid_MvKdAG2Ea0\" class=\"grid\" align=\"center\"> \n",
       "\n",
       "<div align=\"center\">\n",
       "  <div id=\"graph_jd8Mb7x8fu\" class=\"graph\"></div>\n",
       "  <div class=\"animationInterface\">\n",
       "    <button id=\"play_jd8Mb7x8fu\" class=\"picta-button\">Play</button>\n",
       "    <button id=\"pause_jd8Mb7x8fu\" class=\"picta-button\">Pause</button>\n",
       "    <div id=\"sliderContainer_jd8Mb7x8fu\" class=\"progressBar\"></div>\n",
       "    <div id=\"counterContainer_jd8Mb7x8fu\" class=\"inline-div\">\n",
       "        <h3>Frame: </h3> <h3 id=\"value_jd8Mb7x8fu\">0</h3>\n",
       "    </div>\n",
       "   </div>\n",
       "</div> \n",
       "\n",
       "</div> \n",
       "</div> \n",
       "<script>\n",
       "var masonry = new Macy({\n",
       "    container: '#grid_MvKdAG2Ea0',\n",
       "    debug: true,\n",
       "    mobileFirst: true,\n",
       "    columns: 1,\n",
       "    margin: {\n",
       "        x: 0,\n",
       "        y: 0\n",
       "    }\n",
       "  });\n",
       "\n",
       "var graph_jd8Mb7x8fu = document.getElementById('graph_jd8Mb7x8fu')\n",
       "var traces_jd8Mb7x8fu = [{\"name\":\"series 0\",\"type\":\"scatter\",\"mode\":\"markers\",\"x\":[0,1,2,3,4,5,6,7,8,9,10,11,12,13,14,15,16,17,18,19,20,21,22,23,24,25,26,27,28,29],\"y\":[0,0.15363870371470822,0.41524766977623084,0.3564768012172086,1.1554039874173814,4.112480854933865,0.12975667390788703,1.2871204839885952,2.464755551529338,0.4944178523825098,2.919672546709756,5.846043871566404,11.450478354801515,6.6779595741119255,8.858738630523009,5.218068973966636,4.549927549338284,16.19726976930899,17.82479812205204,12.150750272365347,4.113914780515515,18.170102575172724,16.64726880459272,2.8209610036210457,14.84348183543296,17.738969398069283,4.304380326932501,2.8199478582849666,8.166035709937361,11.671553722884303]}]\n",
       "var layout_jd8Mb7x8fu = {\"height\":550,\"width\":600,\"hovermode\":\"closest\",\"legend\":{\"orientation\":\"v\"},\"title\":{\"text\":\"Animation XY\"},\"showlegend\":true,\"xaxis\":{\"title\":{\"text\":\"X Variable\"},\"showgrid\":true,\"zeroline\":false,\"showline\":false,\"range\":[0,10]},\"yaxis\":{\"title\":{\"text\":\"Y Variable\"},\"showgrid\":true,\"zeroline\":false,\"showline\":false,\"range\":[0,10]}}\n",
       "var frames_jd8Mb7x8fu = [{\"name\":\"series 0\",\"data\":[{\"name\":\"series 0\",\"type\":\"scatter\",\"mode\":\"markers\",\"x\":[0,1,2,3,4,5,6,7,8,9,10,11,12,13,14,15,16,17,18,19,20,21,22,23,24,25,26,27,28,29],\"y\":[0,0.15363870371470822,0.41524766977623084,0.3564768012172086,1.1554039874173814,4.112480854933865,0.12975667390788703,1.2871204839885952,2.464755551529338,0.4944178523825098,2.919672546709756,5.846043871566404,11.450478354801515,6.6779595741119255,8.858738630523009,5.218068973966636,4.549927549338284,16.19726976930899,17.82479812205204,12.150750272365347,4.113914780515515,18.170102575172724,16.64726880459272,2.8209610036210457,14.84348183543296,17.738969398069283,4.304380326932501,2.8199478582849666,8.166035709937361,11.671553722884303]}]},{\"name\":\"series 1\",\"data\":[{\"name\":\"series 1\",\"type\":\"scatter\",\"mode\":\"markers\",\"x\":[0,1,2,3,4,5,6,7,8,9,10,11,12,13,14,15,16,17,18,19,20,21,22,23,24,25,26,27,28,29],\"y\":[0,0.7562695767836715,0.4386107113860236,2.944847079899882,1.2278117864132043,2.996692026339476,4.179736289517355,1.4951659914071684,1.020036881164458,5.3796335270866305,2.4866797596315737,4.963502038877456,8.721019464751969,12.812238137455454,11.868414641915937,3.428014982570886,4.998409641523224,14.320692062084781,10.127236625477492,17.530238867365654,10.331049899083844,9.985245570535445,19.743560848328766,7.106099412524777,20.59188336785316,21.67385940211632,15.558479539382052,26.709462425127533,14.022708908739705,23.229084994204218]}]},{\"name\":\"series 2\",\"data\":[{\"name\":\"series 2\",\"type\":\"scatter\",\"mode\":\"markers\",\"x\":[0,1,2,3,4,5,6,7,8,9,10,11,12,13,14,15,16,17,18,19,20,21,22,23,24,25,26,27,28,29],\"y\":[0,0.4817827548507265,1.13501906502084,2.396227311623202,1.5309304013994387,1.1439842015776303,4.056153406064693,4.59975641254331,6.536253263339096,8.082065623122274,6.873095315293115,2.350108239013659,7.048187958556245,1.7415568392056384,12.234127816197905,14.105057775328573,7.993999241443973,5.933715981910337,15.290703665891824,2.039283256163536,16.149325862477212,4.933240211383523,14.00350907393352,12.682542629061198,2.8691256148462765,10.561542144355244,4.92780365300276,14.424335595275704,13.691698743708587,3.515482748359053]}]},{\"name\":\"series 3\",\"data\":[{\"name\":\"series 3\",\"type\":\"scatter\",\"mode\":\"markers\",\"x\":[0,1,2,3,4,5,6,7,8,9,10,11,12,13,14,15,16,17,18,19,20,21,22,23,24,25,26,27,28,29],\"y\":[0,0.7817204965372114,0.8575524666253993,1.8878112120937551,2.0097646218842646,2.794422308543809,1.0814995712534778,2.240126806699533,3.772143594479661,4.9777626996284035,5.510122272435468,0.9316282927540449,6.605347450164337,5.382732466203716,0.47669370783412823,3.5613897077721517,8.73059811632378,0.5176520104024774,12.989920042751786,10.9160124235433,17.714455039742347,0.21667412910773964,16.187306646644345,14.267709843718576,17.687203617874758,9.423160007256806,13.274455340240333,2.4051062906608363,22.43747107965474,5.552916069865295]}]},{\"name\":\"series 4\",\"data\":[{\"name\":\"series 4\",\"type\":\"scatter\",\"mode\":\"markers\",\"x\":[0,1,2,3,4,5,6,7,8,9,10,11,12,13,14,15,16,17,18,19,20,21,22,23,24,25,26,27,28,29],\"y\":[0,0.2455182402146835,0.7556055902619156,2.012316835768646,2.3126734087284544,0.7836338994328423,1.6422078318652553,2.6634372143452927,2.3622328669513593,7.138270823288263,0.6350429462244345,2.7921803376721916,3.193580223166894,7.268835526467043,0.13745453112636397,7.654567424350668,12.332922143019958,1.8987601294306433,12.332257558496414,0.5885495530602685,11.456375860702902,5.463689768782481,21.177738392328227,8.837745696671565,11.548356404581087,8.28391833062388,15.097354838950164,13.230660584081084,8.813787019128261,18.284079449869896]}]},{\"name\":\"series 5\",\"data\":[{\"name\":\"series 5\",\"type\":\"scatter\",\"mode\":\"markers\",\"x\":[0,1,2,3,4,5,6,7,8,9,10,11,12,13,14,15,16,17,18,19,20,21,22,23,24,25,26,27,28,29],\"y\":[0,0.8604400554503646,0.8288445573984253,1.598641789663712,0.17222580648002506,2.3088483279146166,3.148812923771502,2.099210322703235,0.6759028641929454,4.542713446841313,9.51483213318513,10.218298653389622,8.077825928360102,11.564118577129632,5.423746319802739,3.292460460404979,9.53245321405942,10.316758608579146,12.579436836201781,14.535742950565625,6.321410703227455,2.686628912322872,5.775624314222176,17.610645140779337,15.070550466103033,17.60097414682996,3.9916074844937555,10.71997706197542,15.934801803576798,15.662578899868473]}]},{\"name\":\"series 6\",\"data\":[{\"name\":\"series 6\",\"type\":\"scatter\",\"mode\":\"markers\",\"x\":[0,1,2,3,4,5,6,7,8,9,10,11,12,13,14,15,16,17,18,19,20,21,22,23,24,25,26,27,28,29],\"y\":[0,0.9678355761301571,0.8119523902505936,0.020653760970735235,2.504021615502392,1.2610039610252106,0.5969623307263798,2.892863785966624,6.261734726259001,1.7285256886368365,1.6621608740268012,4.091772650452137,1.1680420760733154,8.202539970643251,3.6458467628690787,6.930679819441926,3.81027843242725,14.665920195003038,2.161229386272573,13.596837595561144,18.71400865067622,11.68268486244032,16.35342998861793,10.092182095347988,7.296379080688369,1.3467607215429083,20.59483478869469,0.3610622419640407,18.158880814459405,3.7094400092181616]}]},{\"name\":\"series 7\",\"data\":[{\"name\":\"series 7\",\"type\":\"scatter\",\"mode\":\"markers\",\"x\":[0,1,2,3,4,5,6,7,8,9,10,11,12,13,14,15,16,17,18,19,20,21,22,23,24,25,26,27,28,29],\"y\":[0,0.620885084952624,1.4280272312239122,0.0986652501781724,1.3831106812405034,1.3992997830384195,0.5751791988215389,0.6151946478333639,3.665323131478595,1.748390241311645,7.1515288466453715,0.965268181793396,9.119565848870174,2.2545299638897256,11.769750047205228,8.3319282740968,10.587852383612212,13.647410224249352,2.352873934466799,4.191722853149132,19.395337055862335,2.5221177103598933,12.367828817513256,3.1587518090864366,0.0716955020787573,19.57406676812274,23.858046445519847,14.562369613908112,9.371850083412795,2.9426696186409584]}]},{\"name\":\"series 8\",\"data\":[{\"name\":\"series 8\",\"type\":\"scatter\",\"mode\":\"markers\",\"x\":[0,1,2,3,4,5,6,7,8,9,10,11,12,13,14,15,16,17,18,19,20,21,22,23,24,25,26,27,28,29],\"y\":[0,0.8708869471305629,0.21137436185053016,2.5607149128115587,0.07602955599650141,2.145728193388834,0.2860980481684967,3.5066331960013115,6.458227557709261,6.3651411616903015,4.551900634904068,3.0770191757620147,6.754466218237976,10.872098512726067,4.87083592205163,9.794702773071398,2.133930746204088,8.35074900358667,17.59933563563405,14.836841098653688,14.148612111562585,5.169505013406789,14.327157623117785,22.76418594963743,14.868566912013346,16.131074062511317,14.624873902889352,18.962959684898124,19.154809543757676,5.426313401043709]}]},{\"name\":\"series 9\",\"data\":[{\"name\":\"series 9\",\"type\":\"scatter\",\"mode\":\"markers\",\"x\":[0,1,2,3,4,5,6,7,8,9,10,11,12,13,14,15,16,17,18,19,20,21,22,23,24,25,26,27,28,29],\"y\":[0,0.9298462524710491,0.4521576162372549,0.042341527685177294,2.058016374892265,1.0985419842241622,5.032893802431447,2.4008822331437862,1.3783847961541502,8.131695518035288,1.7122631746713157,6.356306092615918,2.1233959611210853,7.7490858117872605,10.114699585190689,9.083515172099007,2.157027791440033,2.7023115443467534,12.70243216867268,18.799980669548535,4.21823362674886,15.98312758778821,11.689144839860763,14.937668853877113,14.017407245323126,6.104484314142236,9.268269371467222,3.9124838913770654,7.586541763154806,21.220698727828747]}]},{\"name\":\"series 10\",\"data\":[{\"name\":\"series 10\",\"type\":\"scatter\",\"mode\":\"markers\",\"x\":[0,1,2,3,4,5,6,7,8,9,10,11,12,13,14,15,16,17,18,19,20,21,22,23,24,25,26,27,28,29],\"y\":[0,0.86121286217486,0.6157060464069781,0.9271713817230466,3.261691627095443,1.209377471402306,0.38860964810799903,4.509849163042027,5.472194681588802,6.343056697186799,1.591785209129265,6.842077865359415,10.781336262407034,0.4544794914043735,0.49398364495193814,6.250942541282075,4.395806343196073,14.542310763946437,14.029084504163675,17.97127644097638,5.021607888268143,5.119233638969379,3.3729727140729464,7.172775509931775,22.24772518486353,17.098606139547194,3.7699848369265494,18.0209895433278,20.336106533790222,9.317844191474526]}]},{\"name\":\"series 11\",\"data\":[{\"name\":\"series 11\",\"type\":\"scatter\",\"mode\":\"markers\",\"x\":[0,1,2,3,4,5,6,7,8,9,10,11,12,13,14,15,16,17,18,19,20,21,22,23,24,25,26,27,28,29],\"y\":[0,0.9195393620995999,0.941727223151537,2.7700581307310683,1.2049351764358844,4.127351277651973,3.6611015449630404,0.2762825276775984,0.33471256786655523,2.9576205534359876,7.159343533089003,6.600784215722388,10.749299117013722,5.604778306454573,1.701063266051002,8.983163801914786,9.483023181612143,8.628325099611853,13.73217458692548,10.66962519227316,7.516728239010629,15.248106228540083,18.933791552734764,5.057279134351007,12.582850760123462,4.081469888773001,1.8560844932150364,4.927520787789312,26.93416451232203,7.895982333757066]}]},{\"name\":\"series 12\",\"data\":[{\"name\":\"series 12\",\"type\":\"scatter\",\"mode\":\"markers\",\"x\":[0,1,2,3,4,5,6,7,8,9,10,11,12,13,14,15,16,17,18,19,20,21,22,23,24,25,26,27,28,29],\"y\":[0,0.4219024039594933,1.7805228738104883,1.794053697794342,3.3388821689769586,0.4077287912753852,4.569652496473072,0.1261129736933584,2.6309467103959534,4.032791759697585,1.9593863529431532,3.669595670371636,5.548580735685505,12.098326795229713,8.909296773016049,11.028153393933767,12.27008159054866,9.219553934932462,11.47511312815309,9.925814174595386,4.420235307196365,14.468589390354751,15.074694264362458,10.851680937038985,16.983614838141794,0.891172610559593,9.310769734252634,11.206988337061937,9.37115156247227,24.464844535834317]}]},{\"name\":\"series 13\",\"data\":[{\"name\":\"series 13\",\"type\":\"scatter\",\"mode\":\"markers\",\"x\":[0,1,2,3,4,5,6,7,8,9,10,11,12,13,14,15,16,17,18,19,20,21,22,23,24,25,26,27,28,29],\"y\":[0,0.9143520945108201,0.8655530916260938,1.3471064354819622,1.8364309789344828,2.019947219204057,0.5715211453861677,3.421171488806997,2.0872814483444575,7.244525828272261,5.832532147233863,0.7667656892176606,9.05816719638751,5.36161600145984,10.969812043566327,4.885395485988881,2.7370470634104276,13.72496189966028,3.1863486020754452,13.449109674731787,10.18248760419591,13.622390729340605,9.949535991847009,21.061565769268732,14.806312263093776,11.66412891299086,25.539172012921846,15.953971993849011,17.968307654909914,28.84821576488279]}]},{\"name\":\"series 14\",\"data\":[{\"name\":\"series 14\",\"type\":\"scatter\",\"mode\":\"markers\",\"x\":[0,1,2,3,4,5,6,7,8,9,10,11,12,13,14,15,16,17,18,19,20,21,22,23,24,25,26,27,28,29],\"y\":[0,0.7674917569668418,1.2891165729830811,0.46966975899667907,0.6894378650506869,3.011473433151624,0.8595650983337908,3.844822484622485,1.4815473611447594,0.8230161110769755,2.2887751333253092,1.7665580153716745,5.255438434715115,4.185463079996434,9.61238192054497,1.4070677525277497,1.4052881554805392,5.150463069625011,4.403590234432473,5.296504232534755,19.64828510466522,12.078722556657429,14.80975899920325,11.56308172342499,13.373659109739778,15.160979745567227,24.964427715418083,16.392797121579864,2.128023653678694,12.971048436125061]}]},{\"name\":\"series 15\",\"data\":[{\"name\":\"series 15\",\"type\":\"scatter\",\"mode\":\"markers\",\"x\":[0,1,2,3,4,5,6,7,8,9,10,11,12,13,14,15,16,17,18,19,20,21,22,23,24,25,26,27,28,29],\"y\":[0,0.3654918466894169,0.9190203414602565,0.7265658498165405,0.6683952132549207,1.9161574426039396,0.5686757656838002,6.796352776186598,5.622331660953917,3.070310500589667,5.676246838109607,2.5122132096927077,3.7140316280028567,0.547726846300626,3.0798943970466706,14.145406057657027,3.3948077636288456,0.25241454077437686,14.356129088762193,12.917671741073843,4.511954234773516,18.437853731704607,4.9207614666556685,13.308477074162784,13.121002587303993,6.88670404807972,18.520985023407487,0.9737475560469504,10.229671110635419,27.703316062316926]}]},{\"name\":\"series 16\",\"data\":[{\"name\":\"series 16\",\"type\":\"scatter\",\"mode\":\"markers\",\"x\":[0,1,2,3,4,5,6,7,8,9,10,11,12,13,14,15,16,17,18,19,20,21,22,23,24,25,26,27,28,29],\"y\":[0,0.9582255644395994,1.6911741925095838,1.4523263660532912,2.3788891363618974,3.89876038103804,3.583365186629555,1.1510664070138577,7.056806076849889,4.285092456083634,2.305531167096626,10.482741622422063,7.671666546735719,6.228265190023387,13.544653552762064,8.494842542682346,9.253994987164333,12.69084135832086,10.227674621463358,9.578828804844067,1.2986917712780133,4.927334272501095,0.5507139807693993,9.664184178884152,17.36592862467431,16.862004985959917,14.909186469487324,3.449701214101948,5.545295836020598,25.03929603082915]}]},{\"name\":\"series 17\",\"data\":[{\"name\":\"series 17\",\"type\":\"scatter\",\"mode\":\"markers\",\"x\":[0,1,2,3,4,5,6,7,8,9,10,11,12,13,14,15,16,17,18,19,20,21,22,23,24,25,26,27,28,29],\"y\":[0,0.5394760321284313,0.30207080813182197,1.9462828842969426,2.9690285659393236,0.04592175528694953,4.967015068066722,2.816441341150525,7.820723038616874,7.831925620616255,1.5335836260402413,0.6994474671743782,10.228528186069276,5.779912202604214,5.3758387807172845,11.43905197771175,5.514050246316231,7.416846362182772,14.285761734628297,11.90079254276155,0.3930136112484628,8.709911866083521,16.2307800689879,14.20002568639387,6.374895116356313,1.158187636376304,18.438890977482284,4.275431344923519,15.367942931611436,24.246069000149717]}]},{\"name\":\"series 18\",\"data\":[{\"name\":\"series 18\",\"type\":\"scatter\",\"mode\":\"markers\",\"x\":[0,1,2,3,4,5,6,7,8,9,10,11,12,13,14,15,16,17,18,19,20,21,22,23,24,25,26,27,28,29],\"y\":[0,0.8548766567341316,1.81587402413377,1.2199894228147956,0.3333784957750039,4.227074808067692,0.40181689819528477,5.313025382500588,2.8583483917612025,1.6055854284813353,6.156228060602954,5.883140555854028,8.539519960546233,1.894583137586518,9.481767567822668,0.49394231552791656,4.411846249882714,11.662248546638251,6.594885161436231,11.746741206883648,6.750047419133505,17.0447076091744,2.695346436466398,4.765511738141232,13.807701115969579,12.784276814860707,18.21422217093608,19.23858901084446,19.148225394155126,21.24491946836156]}]},{\"name\":\"series 19\",\"data\":[{\"name\":\"series 19\",\"type\":\"scatter\",\"mode\":\"markers\",\"x\":[0,1,2,3,4,5,6,7,8,9,10,11,12,13,14,15,16,17,18,19,20,21,22,23,24,25,26,27,28,29],\"y\":[0,0.6878510747097534,1.4468473114606257,2.5738429634205984,3.9412290447905947,4.620214199990013,5.135361155778852,3.8927270328311305,7.083022648677985,3.77619347031347,8.696552451020029,0.09577424271920143,1.5299420943352136,12.623686804969275,0.5752682532437876,4.412671277194316,15.9616319735459,10.410230064557966,7.780734559613291,2.7203382198924797,1.9638648385444735,5.634617895698136,15.010284008509885,8.546700164268055,5.6767207608857335,7.061633342843082,18.568164065154896,1.1878514837672152,24.70870845529365,26.949754295547244]}]},{\"name\":\"series 20\",\"data\":[{\"name\":\"series 20\",\"type\":\"scatter\",\"mode\":\"markers\",\"x\":[0,1,2,3,4,5,6,7,8,9,10,11,12,13,14,15,16,17,18,19,20,21,22,23,24,25,26,27,28,29],\"y\":[0,0.8236388375598163,1.9763794665582362,1.881355887384275,2.397335488023169,0.12480032419593445,4.304460031435405,2.3156536195029718,3.0848429791495917,5.400106155224855,2.919636601495459,5.529130647291446,7.565020088674052,8.613780149930111,10.248812683785182,2.0158970463866535,0.8658519608807467,3.0950803570032046,13.307645337127699,9.982496935643098,0.3642637842892271,3.4292197097433488,7.743874635327073,20.911773338285737,8.655075999529135,24.258384532657942,7.484087322480281,15.256439724184343,10.75002047746678,12.992623824743328]}]},{\"name\":\"series 21\",\"data\":[{\"name\":\"series 21\",\"type\":\"scatter\",\"mode\":\"markers\",\"x\":[0,1,2,3,4,5,6,7,8,9,10,11,12,13,14,15,16,17,18,19,20,21,22,23,24,25,26,27,28,29],\"y\":[0,0.7507221925333396,1.955918458794851,0.4483928019921558,0.9160942346543344,3.2496911375901885,1.7096561260159364,2.0066753697487423,4.259686005164112,4.8591525534212305,1.481992920697447,10.8622092824084,9.572776248591168,7.198123269116878,11.547732917974132,0.9607473729627647,12.716600490810292,12.535340922149732,1.5897383599048533,14.753160397971238,3.242018167115399,12.243930195189492,19.76750967733469,0.22040492382636612,13.023455542472451,21.425923091509887,7.149634445300525,23.54030405205286,21.889023220358304,9.742352359219224]}]},{\"name\":\"series 22\",\"data\":[{\"name\":\"series 22\",\"type\":\"scatter\",\"mode\":\"markers\",\"x\":[0,1,2,3,4,5,6,7,8,9,10,11,12,13,14,15,16,17,18,19,20,21,22,23,24,25,26,27,28,29],\"y\":[0,0.9726790317924415,0.9174758184293723,0.04139386800554923,0.13750808500883016,2.6844189031911982,2.236794764786322,3.14953478215008,6.047521502710258,0.6830005667091407,8.585719314106667,2.0877890546906355,1.35312878984199,7.148147007633929,13.550650302800932,9.149567470615851,2.3799654731582347,14.072965200351504,11.191149238629414,2.161801216424496,3.0727542701727373,16.397619179253248,17.811538228197406,7.714414337723856,13.001302410668302,13.19681518929427,20.65362720408519,24.247509378772346,7.202058397129969,5.65195218915624]}]},{\"name\":\"series 23\",\"data\":[{\"name\":\"series 23\",\"type\":\"scatter\",\"mode\":\"markers\",\"x\":[0,1,2,3,4,5,6,7,8,9,10,11,12,13,14,15,16,17,18,19,20,21,22,23,24,25,26,27,28,29],\"y\":[0,0.3156206862894808,1.490525494951747,0.1343842907378644,1.9047809542462169,4.138350598518942,0.28803882112820034,6.922856294998161,4.816748386003697,2.8241579182565357,5.120223413173818,3.312513148245316,10.262379951214804,12.300861623090364,12.96836285502096,12.291720756252396,4.95386720090003,15.443588528826186,11.688831192134307,0.8662375083935695,10.069001751940243,6.991339920120097,9.446845300193822,7.526494586393368,17.031804180770433,14.803862036510699,4.504513386130675,20.122167215004648,8.322049267511446,6.2470989768384415]}]},{\"name\":\"series 24\",\"data\":[{\"name\":\"series 24\",\"type\":\"scatter\",\"mode\":\"markers\",\"x\":[0,1,2,3,4,5,6,7,8,9,10,11,12,13,14,15,16,17,18,19,20,21,22,23,24,25,26,27,28,29],\"y\":[0,0.41775453969560206,1.6803612272281543,2.991246354201536,1.2159833442860024,3.399650768678795,3.4481040743020084,2.1901722496239384,5.879194972199283,0.022269159510014402,6.524815153460923,2.9346827907049895,4.262535817368924,7.413346360597944,5.5241528804259925,0.8089679331030197,5.574093394797986,2.7085933622163143,7.373085950062202,16.033756521544685,16.323675051804575,6.763843641764645,0.19735636418205194,12.969461311832521,0.27368102044671083,22.971720394905137,21.433802171140915,5.211632728348856,5.006185164252873,20.84395456594448]}]},{\"name\":\"series 25\",\"data\":[{\"name\":\"series 25\",\"type\":\"scatter\",\"mode\":\"markers\",\"x\":[0,1,2,3,4,5,6,7,8,9,10,11,12,13,14,15,16,17,18,19,20,21,22,23,24,25,26,27,28,29],\"y\":[0,0.5659315621994928,1.0143072423351815,0.3997689463808388,3.7004933066867984,1.1442105339239406,1.8578225194372895,1.0045917756504938,0.7065119001810585,5.31572269149636,5.698545578256593,1.486266412015792,10.652766865221375,6.08743397653781,5.854461558266022,9.960816594380562,4.69118943663659,2.354179426992919,16.840338611939963,2.7220529421344093,6.439011783872674,3.7128956214962967,20.27630611325584,1.4080933423322093,12.713370837050604,17.24536720478316,23.633101765783014,16.80428451321312,21.012828345142292,0.8220515655895501]}]},{\"name\":\"series 26\",\"data\":[{\"name\":\"series 26\",\"type\":\"scatter\",\"mode\":\"markers\",\"x\":[0,1,2,3,4,5,6,7,8,9,10,11,12,13,14,15,16,17,18,19,20,21,22,23,24,25,26,27,28,29],\"y\":[0,0.6338717155524914,0.06836922044261029,2.1204765749622183,2.4868601696121715,0.2679389773849128,1.613202267697123,0.33559002539943905,7.557027061500808,7.757737195739568,4.143242853948146,0.2425854110150415,4.901860379547298,10.699715891852374,8.749951793860877,12.857384289369818,7.080821742812729,4.418801982451621,14.277652136382553,4.90130823406678,19.522913856687808,3.8973721008865834,4.5247359647935905,11.30498384472733,14.691078492829352,0.055476404169599314,1.9108070792921334,4.6473081819001605,8.176409622467805,14.797981927580855]}]},{\"name\":\"series 27\",\"data\":[{\"name\":\"series 27\",\"type\":\"scatter\",\"mode\":\"markers\",\"x\":[0,1,2,3,4,5,6,7,8,9,10,11,12,13,14,15,16,17,18,19,20,21,22,23,24,25,26,27,28,29],\"y\":[0,0.3095488624430647,1.6514755601064277,0.4598853661057566,2.741903543896146,0.3624963728265568,2.2019936838428045,1.8563492732411147,1.701770049868383,6.8665938987844,0.29431201718645106,6.422487980341313,5.184346450360714,9.066592623488297,5.030267045764697,6.723551213787468,11.360299820606865,0.8076921474915048,5.53069034130752,17.204716465319986,5.877404024265358,4.300268032892822,14.84045483397906,9.684758974476974,5.100417639468644,22.603151441410787,19.464810797644095,0.15540692811086587,8.634020680639274,4.779023480220651]}]},{\"name\":\"series 28\",\"data\":[{\"name\":\"series 28\",\"type\":\"scatter\",\"mode\":\"markers\",\"x\":[0,1,2,3,4,5,6,7,8,9,10,11,12,13,14,15,16,17,18,19,20,21,22,23,24,25,26,27,28,29],\"y\":[0,0.3532826037854173,1.0946642909038338,0.2689723823855493,0.6782674736855867,0.07753619181151805,5.31068623523585,4.908990541473819,2.9233951016302786,6.602884850264523,0.03287965765431888,3.156988287149952,5.860162458586155,10.283163974359168,2.404662646444498,2.6324475338519537,14.49225392357223,11.148173209630185,6.161675444945535,9.005335881926674,16.136672149983532,5.088076455610354,7.327040282696047,1.3195300113182271,14.066282793660461,20.870904453813534,16.240310809055593,0.5537686530909295,13.936553674075228,2.6125581152800352]}]},{\"name\":\"series 29\",\"data\":[{\"name\":\"series 29\",\"type\":\"scatter\",\"mode\":\"markers\",\"x\":[0,1,2,3,4,5,6,7,8,9,10,11,12,13,14,15,16,17,18,19,20,21,22,23,24,25,26,27,28,29],\"y\":[0,0.8786219520716207,0.4594291001765507,1.688242156893426,2.3438405954949872,0.16904873356049344,5.093397242959552,6.183905018944272,1.991180235302914,3.7098145177997646,7.76233712977631,0.644331263142494,6.661884357053827,9.369616595493838,0.9147170992224143,5.394643905605113,11.74115037970196,8.035441662138139,5.010516119397895,17.505445565188424,3.0075713010727156,16.532838360878408,14.954022351014817,11.022663357492316,19.6462648393205,24.55067034055575,7.835112411495793,17.33911926387122,6.782136258124421,4.186630130485545]}]},{\"name\":\"series 30\",\"data\":[{\"name\":\"series 30\",\"type\":\"scatter\",\"mode\":\"markers\",\"x\":[0,1,2,3,4,5,6,7,8,9,10,11,12,13,14,15,16,17,18,19,20,21,22,23,24,25,26,27,28,29],\"y\":[0,0.7171868911972397,1.677719859988795,0.5864095129897859,2.603454616891782,1.9150514276366004,5.5320700902027795,3.0783272725444046,6.80322174096173,3.9868672234023688,8.471096738118538,2.5489079069087173,7.26075445555548,6.220069480687299,6.490419714912396,2.781012272490599,4.637494442567165,8.015602670851075,8.233554677876164,5.744265065095923,1.5336457147112181,7.739281575483283,11.371146346063085,11.49608926938517,21.279614487226397,2.912276002960329,13.255611517640487,7.684012374539673,10.66460700268058,26.638068818206015]}]},{\"name\":\"series 31\",\"data\":[{\"name\":\"series 31\",\"type\":\"scatter\",\"mode\":\"markers\",\"x\":[0,1,2,3,4,5,6,7,8,9,10,11,12,13,14,15,16,17,18,19,20,21,22,23,24,25,26,27,28,29],\"y\":[0,0.7352010451069116,0.6443085528046251,0.9866083029187624,2.6706118842175126,2.6626431945631888,3.2078234577777573,2.3365387513897335,4.622452471328644,4.57553183742576,9.909014982321168,8.270651213156649,3.7316073576194744,0.9166168240224649,3.6891633779620614,1.8843627850913554,4.27636061914097,15.398105493535187,12.466964406010362,14.725338326389675,6.7924191277490165,11.844910444890978,3.112664079774242,19.234828895106396,3.6916089507256764,22.02825667718512,3.610747068895654,24.810080403391115,20.971506236508237,20.65536532543756]}]},{\"name\":\"series 32\",\"data\":[{\"name\":\"series 32\",\"type\":\"scatter\",\"mode\":\"markers\",\"x\":[0,1,2,3,4,5,6,7,8,9,10,11,12,13,14,15,16,17,18,19,20,21,22,23,24,25,26,27,28,29],\"y\":[0,0.47932582424054404,1.9226511962750303,0.34901298272560277,2.301711006351026,0.6646661929740233,0.5504745078495474,6.696026709914954,2.4802340284986624,8.123149483429494,6.613768956070562,9.506404097815633,0.8483942183818489,10.894992869970855,2.6469001446853593,9.75310892765001,6.059426528838994,9.027239829757237,17.29612070940188,10.321023583716672,5.429961687537352,16.72419613682739,15.494445483662657,1.9056703774744816,16.24240009311326,4.906244125334417,24.12294130941643,2.789796679023089,18.94379679221702,4.051552457788862]}]},{\"name\":\"series 33\",\"data\":[{\"name\":\"series 33\",\"type\":\"scatter\",\"mode\":\"markers\",\"x\":[0,1,2,3,4,5,6,7,8,9,10,11,12,13,14,15,16,17,18,19,20,21,22,23,24,25,26,27,28,29],\"y\":[0,0.00528550182508003,0.16401286038847895,0.029287611125917823,0.9718576654584905,2.164638341274179,4.372755392008394,0.975017536514181,3.9190857365640452,4.93406958285856,2.990580323749177,5.356777340488401,9.799952175538822,4.236641162603743,3.876590408811058,8.227881696112279,8.861079715228179,11.56288399759055,15.352360113438698,7.203968334822279,15.159296475787823,16.35198648457359,4.5609440863153266,13.817583818503193,2.9051911099888033,14.963229903246035,16.167710951202885,24.843062609869296,26.184970644984528,18.46455327684004]}]},{\"name\":\"series 34\",\"data\":[{\"name\":\"series 34\",\"type\":\"scatter\",\"mode\":\"markers\",\"x\":[0,1,2,3,4,5,6,7,8,9,10,11,12,13,14,15,16,17,18,19,20,21,22,23,24,25,26,27,28,29],\"y\":[0,0.9942261906946857,0.5862434936736083,2.0964389038828077,2.3419015246461887,2.2243318111969144,3.694344663256234,6.019699023920051,4.708659842409704,4.014807495085973,4.147895130195677,0.17835973303339647,8.56603944293023,7.633188715760412,12.931896127580707,13.900926320422267,13.387560976083634,11.011901296107627,15.442410409009666,5.400376816767115,3.460186225964872,10.773125209478868,2.27565515377592,3.3502936958029106,19.911095650528924,17.583583558017533,14.929115992210502,0.12985114960101773,7.654547080830344,26.015165175189615]}]},{\"name\":\"series 35\",\"data\":[{\"name\":\"series 35\",\"type\":\"scatter\",\"mode\":\"markers\",\"x\":[0,1,2,3,4,5,6,7,8,9,10,11,12,13,14,15,16,17,18,19,20,21,22,23,24,25,26,27,28,29],\"y\":[0,0.8952243262623298,1.2667105908333072,1.150159520513843,1.1203639325016015,0.8728445151468511,5.016584012317001,4.194867240227651,0.28544995174137355,0.54228764267787,0.6155310189584839,8.534583980487813,4.645061331673293,7.300927586285321,12.651005086051272,3.7230408390760203,0.7816129470907018,3.1480539484481125,16.57494730898431,3.1641634410354254,0.8149019948988756,14.226653347818106,21.343825970912604,4.3432603816285456,22.47446625899467,2.833405709407677,21.64726969782895,6.224153690567202,24.686967269027463,24.321653107155747]}]},{\"name\":\"series 36\",\"data\":[{\"name\":\"series 36\",\"type\":\"scatter\",\"mode\":\"markers\",\"x\":[0,1,2,3,4,5,6,7,8,9,10,11,12,13,14,15,16,17,18,19,20,21,22,23,24,25,26,27,28,29],\"y\":[0,0.5011719332850609,0.7707797720800107,0.3959363120386403,2.7284383088526787,4.337110452142095,2.3509627743309123,6.738555979662624,0.10093824917850469,0.4239276927690322,5.531697666660175,9.81747887298969,11.948427388936514,3.4018066468033394,13.149831229702661,14.881704832085461,13.631861956013728,12.791494460249721,11.608732165018882,11.882148701302341,15.932877037479905,0.009838062287893079,19.467244233211755,2.137203683867832,19.90504080353446,14.528150780942909,5.2761754430510415,11.324121627565187,20.740780522430974,9.599926885169632]}]},{\"name\":\"series 37\",\"data\":[{\"name\":\"series 37\",\"type\":\"scatter\",\"mode\":\"markers\",\"x\":[0,1,2,3,4,5,6,7,8,9,10,11,12,13,14,15,16,17,18,19,20,21,22,23,24,25,26,27,28,29],\"y\":[0,0.019612379057465157,0.3038971693407375,2.726035335855544,1.3857961336701985,2.9237350642007303,3.4936457934344336,6.22642023403009,4.854068231448413,2.639513159820013,1.2113084680528052,2.7709841110919657,5.405715131646861,4.799935740328113,3.79526656990147,7.247949140871272,14.554264473032978,1.4670778503390434,16.626605798394202,10.676419185504102,0.029342895661779167,11.499976424497635,5.096606303139131,17.449273147282547,14.939077651497364,23.960824971096002,9.073415018831612,14.51065390031585,17.316425312129397,18.943846489661134]}]},{\"name\":\"series 38\",\"data\":[{\"name\":\"series 38\",\"type\":\"scatter\",\"mode\":\"markers\",\"x\":[0,1,2,3,4,5,6,7,8,9,10,11,12,13,14,15,16,17,18,19,20,21,22,23,24,25,26,27,28,29],\"y\":[0,0.8370517119673887,1.5265389361091175,2.5165351968458407,3.4315396288894493,3.327424319391239,2.866322009285259,6.100363407058376,5.146085637411261,2.243677781068552,1.2489016688030952,9.884105948396515,8.15585448667701,12.304349343877258,8.813494757663937,12.972606524936216,2.2505733364592153,12.799194633543324,17.752300736054558,3.949533445750154,17.239306776498168,10.725194335444101,20.78718153758715,1.124351344738529,3.523010958346254,21.558710400730476,20.58461489103962,8.729599481259667,12.608179649840261,16.915149186141463]}]},{\"name\":\"series 39\",\"data\":[{\"name\":\"series 39\",\"type\":\"scatter\",\"mode\":\"markers\",\"x\":[0,1,2,3,4,5,6,7,8,9,10,11,12,13,14,15,16,17,18,19,20,21,22,23,24,25,26,27,28,29],\"y\":[0,0.0887727450312461,0.1355633634957678,0.5260848574207475,1.6478439697358631,0.993094820881617,1.333483604522568,3.531374595528441,7.218019846776621,5.722335396071898,6.232906442205238,9.094241309382081,10.190988999909445,0.8348325152970831,9.137746000950074,11.442177141230532,3.9939972055202126,9.751520279177287,14.779076209377871,12.39072645712238,10.016172201869853,3.568398402210332,0.7794150715475296,5.690099297061711,18.927162924381825,7.333636459984608,13.510918312405337,24.12459658950491,9.613600993718228,15.51996827375186]}]},{\"name\":\"series 40\",\"data\":[{\"name\":\"series 40\",\"type\":\"scatter\",\"mode\":\"markers\",\"x\":[0,1,2,3,4,5,6,7,8,9,10,11,12,13,14,15,16,17,18,19,20,21,22,23,24,25,26,27,28,29],\"y\":[0,0.17705089917725791,1.8651007664855273,2.3028408748555815,1.5206566768319876,2.6423286168162567,3.912221199265905,0.7101263067088821,3.27741390707076,3.7164969362323177,6.7402153474197295,4.8683653030758585,3.0926017444326135,7.222350901252806,1.6426144205747704,13.971051251383207,10.173199501919601,1.9020539033566068,11.071102122108279,4.136670429823951,6.669143798105703,17.164611397739975,10.400156665829584,8.031674354777676,22.44591379674863,23.18230519384257,13.871252414377023,0.8873355423030312,15.061281771468025,5.6114845435904055]}]},{\"name\":\"series 41\",\"data\":[{\"name\":\"series 41\",\"type\":\"scatter\",\"mode\":\"markers\",\"x\":[0,1,2,3,4,5,6,7,8,9,10,11,12,13,14,15,16,17,18,19,20,21,22,23,24,25,26,27,28,29],\"y\":[0,0.16660954163174502,0.6110573840595934,0.6445522002378066,1.8967994195524072,4.159929752749382,0.39827739530632655,1.7200866264719812,4.030448188776352,3.5043089188346306,9.246162198235604,10.449019446026043,7.23751288003682,12.002891105117328,0.5228035350645024,9.703837848879676,10.920618588964768,0.8228255823767989,5.22436055087171,5.959186721919119,6.257898753911664,0.10899872149177903,13.076066849706674,22.451277184943226,21.671679179501165,1.2589646041334446,23.976311707604932,4.184451013310483,8.896686481690367,10.947780739570995]}]},{\"name\":\"series 42\",\"data\":[{\"name\":\"series 42\",\"type\":\"scatter\",\"mode\":\"markers\",\"x\":[0,1,2,3,4,5,6,7,8,9,10,11,12,13,14,15,16,17,18,19,20,21,22,23,24,25,26,27,28,29],\"y\":[0,0.7117268084686277,1.6953593207488702,0.5761027418286203,3.2119823135348256,3.927027176902504,4.358242198376652,0.7543224776117418,4.322368027799749,4.540487840304126,5.848864745915727,8.06527392499731,11.800568480017969,10.576422263779147,4.633756386401874,2.575691933016376,3.787919469623196,1.0724251964885254,17.021541155149798,3.275864834236762,0.54702627907389,20.513181924984295,13.213322152377037,19.273464354187027,18.155183493368046,5.834583157761664,8.26975227364313,3.245495488669971,6.260482019116038,5.121822185162113]}]},{\"name\":\"series 43\",\"data\":[{\"name\":\"series 43\",\"type\":\"scatter\",\"mode\":\"markers\",\"x\":[0,1,2,3,4,5,6,7,8,9,10,11,12,13,14,15,16,17,18,19,20,21,22,23,24,25,26,27,28,29],\"y\":[0,0.8160617518794756,1.9627368980893036,0.31268975131408394,0.8891224815885637,2.071936441336123,4.43044125370906,1.2245675853066709,3.5422151657688863,8.437126613049605,0.9110588532886099,2.4338612779032385,3.349808328661418,11.33380481720061,1.9071862770446868,9.879667339011181,10.48833338629137,6.617597847971599,3.466613463940323,4.579622855905909,8.7241058147396,6.747554839366514,20.75321683680079,14.463419273900023,1.0511342484450674,19.24821681476013,20.784847881645693,16.400485351500965,15.790763991455,23.547231695811668]}]},{\"name\":\"series 44\",\"data\":[{\"name\":\"series 44\",\"type\":\"scatter\",\"mode\":\"markers\",\"x\":[0,1,2,3,4,5,6,7,8,9,10,11,12,13,14,15,16,17,18,19,20,21,22,23,24,25,26,27,28,29],\"y\":[0,0.3223263173262134,1.3914123739540976,1.459560456474592,2.8479854307729013,0.4116976004489109,4.715561950388925,0.9933642337721403,0.33130846436398187,1.0984816298395115,9.728366350508109,2.895872962516372,1.1897538552805114,2.765706847366183,2.1793922555623473,1.5211328726895101,2.2308317427615023,2.7840223364869825,1.914822611172069,14.832295068003965,16.639130502491287,1.3882184951402072,11.969049965318462,1.7340867847649037,0.08858663487930674,14.893019643991293,10.50124639132468,19.299854409112815,10.37924332368244,23.669296042516446]}]},{\"name\":\"series 45\",\"data\":[{\"name\":\"series 45\",\"type\":\"scatter\",\"mode\":\"markers\",\"x\":[0,1,2,3,4,5,6,7,8,9,10,11,12,13,14,15,16,17,18,19,20,21,22,23,24,25,26,27,28,29],\"y\":[0,0.8995833755113293,1.49052426137687,2.0958004396041607,3.220079117393313,3.48305873807264,4.532926148140324,0.07913906046158281,7.187814286254573,1.034071323952087,0.7204453880724093,3.5488158678756183,9.292771171860489,12.480205901360463,7.024060552176779,9.106257481962881,10.202628708771888,0.2493247840637044,1.3919772184835233,6.628475472804437,15.401985914726339,14.684224192997982,9.914464489564834,2.1993579638340037,12.016297706532697,3.2286773060253573,12.424680020464763,3.5614078356503347,21.7233859070598,11.72477999140466]}]},{\"name\":\"series 46\",\"data\":[{\"name\":\"series 46\",\"type\":\"scatter\",\"mode\":\"markers\",\"x\":[0,1,2,3,4,5,6,7,8,9,10,11,12,13,14,15,16,17,18,19,20,21,22,23,24,25,26,27,28,29],\"y\":[0,0.31327528562299045,0.08625969220852081,0.1256560006285502,0.9089468942204411,0.6532990666516786,3.8113548349924526,4.860090685845855,3.196125157922201,6.8303704325935914,2.209545411149698,7.507074827770921,8.163324860152347,2.4004712912268245,2.469842241518524,6.273668149158537,8.142565355238682,8.583636323378702,16.585894287246273,9.312765495222825,14.688987032480751,2.9937472826921536,8.037101979171672,0.9825714655930662,17.797370715340243,0.8132227732236069,15.879476593612381,2.5108812055406347,17.46603060473716,23.205464711819126]}]},{\"name\":\"series 47\",\"data\":[{\"name\":\"series 47\",\"type\":\"scatter\",\"mode\":\"markers\",\"x\":[0,1,2,3,4,5,6,7,8,9,10,11,12,13,14,15,16,17,18,19,20,21,22,23,24,25,26,27,28,29],\"y\":[0,0.5960209670549785,1.643993267532611,1.7224884220872503,0.8450675931593152,1.9846332788184222,1.747818832809883,2.4839531904556296,4.11870662925073,6.1945730890734945,3.1171635802155393,8.7361974607617,6.863959247526911,2.980717784075559,7.2184968545762445,12.497913308642946,6.266582015591574,6.411580809347808,10.249448456440033,16.920609033488876,2.9067390861345377,19.560734522059374,4.785198064845497,4.5888966700608975,13.63164756177205,22.461356428136956,1.8952209028636726,12.123302164463489,20.537779448178952,15.807002911839914]}]},{\"name\":\"series 48\",\"data\":[{\"name\":\"series 48\",\"type\":\"scatter\",\"mode\":\"markers\",\"x\":[0,1,2,3,4,5,6,7,8,9,10,11,12,13,14,15,16,17,18,19,20,21,22,23,24,25,26,27,28,29],\"y\":[0,0.10158962003094218,0.35750957578336817,1.5945381124033609,1.6135042798502552,3.161382668408403,2.5068324637204373,3.403452461847185,1.633637882723014,4.14919224845976,8.610135141688048,1.303821676217228,5.316109672515099,6.966949962904626,0.480151234428023,12.785757198902644,9.385900586361098,6.208474712939992,14.029181120417782,0.1450138258294813,11.726947030440693,16.65492596710448,17.791042513560253,17.401074156024492,19.860844742865556,24.196514173207838,15.249319359951777,11.855608443164215,0.4647025570077159,22.044253335464628]}]},{\"name\":\"series 49\",\"data\":[{\"name\":\"series 49\",\"type\":\"scatter\",\"mode\":\"markers\",\"x\":[0,1,2,3,4,5,6,7,8,9,10,11,12,13,14,15,16,17,18,19,20,21,22,23,24,25,26,27,28,29],\"y\":[0,0.33295460692024714,1.5246314529484082,1.0656804516644662,3.2257810493130568,3.221353258853502,2.084370890225091,6.056068085454589,6.122316920503847,2.7804490286233667,3.317640127903224,6.4339973655845295,4.556939580306182,2.297659823602614,2.5328365978325182,14.270150581308103,4.976804896664493,4.89354486293357,1.270017926396342,6.7342539647875626,7.161957129340397,5.150854210266384,8.427659471463722,16.043261887238536,10.577508684787066,3.424955429074697,4.729825628231941,0.1765192452328176,27.63639988502593,1.973642396453931]}]}]\n",
       "var labels_jd8Mb7x8fu = [\"series 0\",\"series 1\",\"series 2\",\"series 3\",\"series 4\",\"series 5\",\"series 6\",\"series 7\",\"series 8\",\"series 9\",\"series 10\",\"series 11\",\"series 12\",\"series 13\",\"series 14\",\"series 15\",\"series 16\",\"series 17\",\"series 18\",\"series 19\",\"series 20\",\"series 21\",\"series 22\",\"series 23\",\"series 24\",\"series 25\",\"series 26\",\"series 27\",\"series 28\",\"series 29\",\"series 30\",\"series 31\",\"series 32\",\"series 33\",\"series 34\",\"series 35\",\"series 36\",\"series 37\",\"series 38\",\"series 39\",\"series 40\",\"series 41\",\"series 42\",\"series 43\",\"series 44\",\"series 45\",\"series 46\",\"series 47\",\"series 48\",\"series 49\"]\n",
       "var duration_jd8Mb7x8fu = 100\n",
       "var config_jd8Mb7x8fu = {\"responsive\":true,\"scrollZoom\":true,\"displaylogo\":false}\n",
       "\n",
       "var animation_settings_jd8Mb7x8fu = {\n",
       "    mode: \"immediate\",\n",
       "    direction: {},\n",
       "    fromcurrent: true,\n",
       "    frame: [\n",
       "      {duration: duration_jd8Mb7x8fu},\n",
       "      {duration: duration_jd8Mb7x8fu},\n",
       "      {redraw: true}\n",
       "    ],\n",
       "    transition: [\n",
       "      {duration: duration_jd8Mb7x8fu, easing: 'cubic-in-out'},\n",
       "      {duration: duration_jd8Mb7x8fu, easing: 'cubic-in-out'},\n",
       "    ],\n",
       "    ordering: \"layout first\"\n",
       "}\n",
       "\n",
       "var slider_jd8Mb7x8fu = document.createElement(\"input\")\n",
       "var play_jd8Mb7x8fu = document.getElementById(\"play_jd8Mb7x8fu\")\n",
       "var pause_jd8Mb7x8fu = document.getElementById(\"pause_jd8Mb7x8fu\")\n",
       "slider_jd8Mb7x8fu.id = \"slider_jd8Mb7x8fu\"\n",
       "slider_jd8Mb7x8fu.type = \"range\"\n",
       "slider_jd8Mb7x8fu.min = 0\n",
       "slider_jd8Mb7x8fu.max = frames_jd8Mb7x8fu.length - 1\n",
       "slider_jd8Mb7x8fu.value = 0\n",
       "document.getElementById(\"sliderContainer_jd8Mb7x8fu\").appendChild(slider_jd8Mb7x8fu);\n",
       "\n",
       "Plotly.newPlot(graph_jd8Mb7x8fu, traces_jd8Mb7x8fu, layout_jd8Mb7x8fu, config_jd8Mb7x8fu)\n",
       ".then(function () { Plotly.addFrames(graph_jd8Mb7x8fu, frames_jd8Mb7x8fu) })\n",
       "\n",
       "var trigger_jd8Mb7x8fu = true\n",
       "var reset_count_jd8Mb7x8fu = false\n",
       "\n",
       "play_jd8Mb7x8fu.addEventListener('click', function() {\n",
       "   trigger_jd8Mb7x8fu = true\n",
       "   if (reset_count_jd8Mb7x8fu) {\n",
       "      slider_jd8Mb7x8fu.value = 0\n",
       "      reset_count_jd8Mb7x8fu = false\n",
       "   }\n",
       "\n",
       "  const start_index = slider_jd8Mb7x8fu.value == labels_jd8Mb7x8fu.length - 1 ? 0 : slider_jd8Mb7x8fu.value\n",
       "  const end_index = labels_jd8Mb7x8fu.length\n",
       "  Plotly.animate(graph_jd8Mb7x8fu, labels_jd8Mb7x8fu.slice(start_index, end_index), animation_settings_jd8Mb7x8fu)\n",
       "})\n",
       "\n",
       "pause_jd8Mb7x8fu.addEventListener('click', function() {\n",
       "  Plotly.animate(graph_jd8Mb7x8fu, [null], animation_settings_jd8Mb7x8fu)\n",
       "})\n",
       "\n",
       "graph_jd8Mb7x8fu.on('plotly_redraw', () => {\n",
       "   value_jd8Mb7x8fu.innerHTML = slider_jd8Mb7x8fu.value;\n",
       "   if (trigger_jd8Mb7x8fu & !reset_count_jd8Mb7x8fu) ++slider_jd8Mb7x8fu.value\n",
       "   if (slider_jd8Mb7x8fu.value == labels_jd8Mb7x8fu.length - 1) reset_count_jd8Mb7x8fu = true\n",
       "});\n",
       "\n",
       "slider_jd8Mb7x8fu.oninput = function() {\n",
       "   Plotly.animate(graph_jd8Mb7x8fu, frames_jd8Mb7x8fu[this.value], animation_settings_jd8Mb7x8fu)\n",
       "   trigger_jd8Mb7x8fu = false\n",
       "   slider_jd8Mb7x8fu.value = this.value\n",
       "   value_jd8Mb7x8fu.innerHTML = this.value;\n",
       "   if (this.value == 0) reset_count_jd8Mb7x8fu = false\n",
       "   if (this.value == labels_jd8Mb7x8fu.length - 1) reset_count_jd8Mb7x8fu = true\n",
       "   reset_count_jd8Mb7x8fu = false\n",
       "}\n",
       "</script> \n"
      ]
     },
     "metadata": {},
     "output_type": "display_data"
    }
   ],
   "source": [
    "val xaxis = XAxis(title = \"X Variable\") setRange (0.0, 10.0)\n",
    "val yaxis = YAxis(title = \"Y Variable\") setRange (0.0, 10.0)\n",
    "\n",
    "// we can also specifiy the underlying layout directly - sometimes this can be useful\n",
    "val layout = ChartLayout(\"Animation XY\") setAxes(xaxis, yaxis)\n",
    "\n",
    "val series = createXYSeries(numberToCreate = 50, length = 30)\n",
    "\n",
    "val chart = Chart(animated = true, transition_duration=100) setChartLayout layout addSeries series\n",
    "\n",
    "chart.plotInline"
   ]
  },
  {
   "cell_type": "markdown",
   "metadata": {},
   "source": [
    "### 3D Animated Chart"
   ]
  },
  {
   "cell_type": "code",
   "execution_count": 42,
   "metadata": {},
   "outputs": [
    {
     "data": {
      "text/html": [
       "<div id=\"grid-container_O0qnue2oKh\" class=\"grid-container\" align=\"center\"> \n",
       "<div id=\"grid_O0qnue2oKh\" class=\"grid\" align=\"center\"> \n",
       "\n",
       "<div align=\"center\">\n",
       "  <div id=\"graph_xCZpmDFmWo\" class=\"graph\"></div>\n",
       "  <div class=\"animationInterface\">\n",
       "    <button id=\"play_xCZpmDFmWo\" class=\"picta-button\">Play</button>\n",
       "    <button id=\"pause_xCZpmDFmWo\" class=\"picta-button\">Pause</button>\n",
       "    <div id=\"sliderContainer_xCZpmDFmWo\" class=\"progressBar\"></div>\n",
       "    <div id=\"counterContainer_xCZpmDFmWo\" class=\"inline-div\">\n",
       "        <h3>Frame: </h3> <h3 id=\"value_xCZpmDFmWo\">0</h3>\n",
       "    </div>\n",
       "   </div>\n",
       "</div> \n",
       "\n",
       "</div> \n",
       "</div> \n",
       "<script>\n",
       "var masonry = new Macy({\n",
       "    container: '#grid_O0qnue2oKh',\n",
       "    debug: true,\n",
       "    mobileFirst: true,\n",
       "    columns: 1,\n",
       "    margin: {\n",
       "        x: 0,\n",
       "        y: 0\n",
       "    }\n",
       "  });\n",
       "\n",
       "var graph_xCZpmDFmWo = document.getElementById('graph_xCZpmDFmWo')\n",
       "var traces_xCZpmDFmWo = [{\"name\":\"series 0\",\"type\":\"scatter3d\",\"mode\":\"markers\",\"x\":[0,1,2,3,4,5,6,7,8,9,10,11,12,13,14,15,16,17,18,19,20,21,22,23,24,25,26,27,28,29,30,31,32,33,34,35,36,37,38,39,40,41,42,43,44,45,46,47,48,49,50,51,52,53,54,55,56,57,58,59,60,61,62,63,64,65,66,67,68,69,70,71,72,73,74,75,76,77,78,79,80,81,82,83,84,85,86,87,88,89,90,91,92,93,94,95,96,97,98,99],\"y\":[0,0.6063145529408341,1.1362400796318777,1.120169287479142,1.6761156460460733,1.0297496089477598,3.1175789004639762,6.909967589750049,4.691804341346173,4.974375211920153,7.684822604644688,8.965150957002885,11.606626114203893,6.927660472736934,2.7890951009184386,3.215272652797332,0.25504037050456674,1.9635388297162573,5.971461455645026,1.7731503619614202,13.625186835767229,11.605797662580347,11.065170099684627,22.441027290715766,22.1271185847974,14.06276455778738,4.009464803246123,15.54604158649513,24.629038126119003,21.934865938766354,3.356630273328535,1.4355826945752994,13.98090954417436,5.373582214485376,9.67017188032732,29.959213121744945,27.19891639205777,35.098060263945655,24.366501333431444,7.935687772093806,26.301627400554658,13.904164093668005,28.895283066826075,42.20129098181345,17.219384768764293,13.580038063886454,41.7346466710361,26.609114447863508,19.492381976665456,37.72232590924404,39.746820664096795,6.548154826777462,12.880130029932452,3.078069720695094,10.247325685858485,40.42606515649241,32.77549568083437,36.96892936980149,32.936815481140954,14.360225293115807,40.70032144471209,43.336807129307104,52.87877379584421,55.29832034796114,19.406667391815837,36.23314292577594,5.228797289458069,28.191972464413098,18.46810405772826,51.408154307644764,65.68188155983319,10.9251055354875,13.969079458548096,48.291032527658366,61.8531929040449,2.7026201213255883,5.237339775854684,21.337689189570533,46.29508160500683,9.784627345647722,48.764536065847025,14.708938282048305,27.828709522609454,75.05701079854633,80.77366588443348,13.779125404107656,38.58250263481641,3.2102529899483607,53.56872133997828,31.31312016893407,55.83180150004214,89.50559085015273,75.09197532416346,38.53824014776324,28.67451705320734,13.490289665847051,88.2676634558089,31.027113835647263,72.00630572274771,38.83248177296864],\"z\":[0,6.132252121101237E7,1.0721048868300775E9,-1.3157960404705005E7,-1.8973605663169198E9,-6.205202007223273E9,-5.078053262133864E9,-2.8170076364474406E9,-9.727180680140451E9,1.1535143886920168E10,-3.4242865784101157E9,1.740238747002241E10,-1.3588030190766983E10,-1.3818160302903078E10,2.2363865339991198E9,-1.917105862845433E10,1.9287993125227196E10,-2.9699042523000618E10,6.513866792644156E9,-1.4541352448105932E10,1.3940637882857084E8,-3.079873365982432E9,-1.9288210330507786E10,3.161863417304987E9,5.157232423544794E9,2.5492735127146133E10,-9.4425082752095E9,6.200610663062927E8,1.1856267819750956E8,1.430214961431189E10,2.7181021033698473E9,-4.34343444149626E10,3.245296763190102E9,9.453719410601707E8,4.332280205679037E9,-3.661498821249798E10,-2.475531400471354E10,-6.377095029553843E8,-1.3670853060298796E9,3.7859320438744576E10,-9.858782819963743E9,-5.168465588410382E10,5.1187741055697365E10,1.350212034599505E10,4.796641942440906E9,1.5896700442867449E10,-4.819953152060039E10,3.5500010617865354E8,-4.4413849858774124E10,1.4934998828295042E10,-1.8002721853501995E10,4.2647997475768166E10,2.011894069624227E10,-5.474410630493693E9,3.790133392230964E10,-6.232420863753029E10,-1.3332250565304258E10,1.077277479768452E9,6.19483944141601E10,6.331598389591036E10,7.709967126219999E9,7.691215743913367E9,-6.948481709183008E10,-2.938508500906866E10,-5.626350343036714E10,-2.859339699919582E10,3.0847456041866344E10,9.777446051928824E10,-5.572573444786602E10,4.988139430733975E10,1.150597031819615E10,8.088803872701054E10,-1.8194454066253242E10,6.1274217045867096E10,3.6144513584054427E9,-2.3974035173114905E9,7.331575978566068E10,-2.6796605673506397E10,1.3405762175094945E9,1.2263536041362498E11,-9.481061255750092E10,-6.187141339260449E9,-7.287834295482734E9,4.841954681685115E10,8.880471659263847E10,-7.059469079958707E9,-4.454632579026121E10,2.027511775570362E10,2.3095113576916004E10,2.1255315127355488E10,-1.219446799450913E9,8.12167673175238E9,-1.4994636857625761E10,-2.7184659369991045E9,4.496673780512209E10,2.7244618189145722E9,-1.669068750835347E10,-8.224928462684436E10,8.556465980511148E9,2.5588765944127155E10]}]\n",
       "var layout_xCZpmDFmWo = {\"height\":550,\"width\":600,\"hovermode\":\"closest\",\"legend\":{\"orientation\":\"v\"},\"title\":{\"text\":\"Animation 3D\"},\"showlegend\":true}\n",
       "var frames_xCZpmDFmWo = [{\"name\":\"series 0\",\"data\":[{\"name\":\"series 0\",\"type\":\"scatter3d\",\"mode\":\"markers\",\"x\":[0,1,2,3,4,5,6,7,8,9,10,11,12,13,14,15,16,17,18,19,20,21,22,23,24,25,26,27,28,29,30,31,32,33,34,35,36,37,38,39,40,41,42,43,44,45,46,47,48,49,50,51,52,53,54,55,56,57,58,59,60,61,62,63,64,65,66,67,68,69,70,71,72,73,74,75,76,77,78,79,80,81,82,83,84,85,86,87,88,89,90,91,92,93,94,95,96,97,98,99],\"y\":[0,0.6063145529408341,1.1362400796318777,1.120169287479142,1.6761156460460733,1.0297496089477598,3.1175789004639762,6.909967589750049,4.691804341346173,4.974375211920153,7.684822604644688,8.965150957002885,11.606626114203893,6.927660472736934,2.7890951009184386,3.215272652797332,0.25504037050456674,1.9635388297162573,5.971461455645026,1.7731503619614202,13.625186835767229,11.605797662580347,11.065170099684627,22.441027290715766,22.1271185847974,14.06276455778738,4.009464803246123,15.54604158649513,24.629038126119003,21.934865938766354,3.356630273328535,1.4355826945752994,13.98090954417436,5.373582214485376,9.67017188032732,29.959213121744945,27.19891639205777,35.098060263945655,24.366501333431444,7.935687772093806,26.301627400554658,13.904164093668005,28.895283066826075,42.20129098181345,17.219384768764293,13.580038063886454,41.7346466710361,26.609114447863508,19.492381976665456,37.72232590924404,39.746820664096795,6.548154826777462,12.880130029932452,3.078069720695094,10.247325685858485,40.42606515649241,32.77549568083437,36.96892936980149,32.936815481140954,14.360225293115807,40.70032144471209,43.336807129307104,52.87877379584421,55.29832034796114,19.406667391815837,36.23314292577594,5.228797289458069,28.191972464413098,18.46810405772826,51.408154307644764,65.68188155983319,10.9251055354875,13.969079458548096,48.291032527658366,61.8531929040449,2.7026201213255883,5.237339775854684,21.337689189570533,46.29508160500683,9.784627345647722,48.764536065847025,14.708938282048305,27.828709522609454,75.05701079854633,80.77366588443348,13.779125404107656,38.58250263481641,3.2102529899483607,53.56872133997828,31.31312016893407,55.83180150004214,89.50559085015273,75.09197532416346,38.53824014776324,28.67451705320734,13.490289665847051,88.2676634558089,31.027113835647263,72.00630572274771,38.83248177296864],\"z\":[0,6.132252121101237E7,1.0721048868300775E9,-1.3157960404705005E7,-1.8973605663169198E9,-6.205202007223273E9,-5.078053262133864E9,-2.8170076364474406E9,-9.727180680140451E9,1.1535143886920168E10,-3.4242865784101157E9,1.740238747002241E10,-1.3588030190766983E10,-1.3818160302903078E10,2.2363865339991198E9,-1.917105862845433E10,1.9287993125227196E10,-2.9699042523000618E10,6.513866792644156E9,-1.4541352448105932E10,1.3940637882857084E8,-3.079873365982432E9,-1.9288210330507786E10,3.161863417304987E9,5.157232423544794E9,2.5492735127146133E10,-9.4425082752095E9,6.200610663062927E8,1.1856267819750956E8,1.430214961431189E10,2.7181021033698473E9,-4.34343444149626E10,3.245296763190102E9,9.453719410601707E8,4.332280205679037E9,-3.661498821249798E10,-2.475531400471354E10,-6.377095029553843E8,-1.3670853060298796E9,3.7859320438744576E10,-9.858782819963743E9,-5.168465588410382E10,5.1187741055697365E10,1.350212034599505E10,4.796641942440906E9,1.5896700442867449E10,-4.819953152060039E10,3.5500010617865354E8,-4.4413849858774124E10,1.4934998828295042E10,-1.8002721853501995E10,4.2647997475768166E10,2.011894069624227E10,-5.474410630493693E9,3.790133392230964E10,-6.232420863753029E10,-1.3332250565304258E10,1.077277479768452E9,6.19483944141601E10,6.331598389591036E10,7.709967126219999E9,7.691215743913367E9,-6.948481709183008E10,-2.938508500906866E10,-5.626350343036714E10,-2.859339699919582E10,3.0847456041866344E10,9.777446051928824E10,-5.572573444786602E10,4.988139430733975E10,1.150597031819615E10,8.088803872701054E10,-1.8194454066253242E10,6.1274217045867096E10,3.6144513584054427E9,-2.3974035173114905E9,7.331575978566068E10,-2.6796605673506397E10,1.3405762175094945E9,1.2263536041362498E11,-9.481061255750092E10,-6.187141339260449E9,-7.287834295482734E9,4.841954681685115E10,8.880471659263847E10,-7.059469079958707E9,-4.454632579026121E10,2.027511775570362E10,2.3095113576916004E10,2.1255315127355488E10,-1.219446799450913E9,8.12167673175238E9,-1.4994636857625761E10,-2.7184659369991045E9,4.496673780512209E10,2.7244618189145722E9,-1.669068750835347E10,-8.224928462684436E10,8.556465980511148E9,2.5588765944127155E10]}]},{\"name\":\"series 1\",\"data\":[{\"name\":\"series 1\",\"type\":\"scatter3d\",\"mode\":\"markers\",\"x\":[0,1,2,3,4,5,6,7,8,9,10,11,12,13,14,15,16,17,18,19,20,21,22,23,24,25,26,27,28,29,30,31,32,33,34,35,36,37,38,39,40,41,42,43,44,45,46,47,48,49,50,51,52,53,54,55,56,57,58,59,60,61,62,63,64,65,66,67,68,69,70,71,72,73,74,75,76,77,78,79,80,81,82,83,84,85,86,87,88,89,90,91,92,93,94,95,96,97,98,99],\"y\":[0,0.35625780752941616,0.5060702371903127,0.8320515826793559,0.4937570666736266,0.2812824580684653,2.437249660887458,0.34523415627455467,0.7927913772417474,8.423496164011764,2.8209011118032192,5.604255512128443,6.516920836130035,0.7269408270476178,2.677198698047796,12.418071700605374,0.30620832178245116,8.695056132355278,9.840902490425824,9.86214325118781,11.608997914412509,3.839180158878575,2.95029614392229,4.379765970005913,22.618293039734624,20.28957559988757,24.6231990874324,26.637944893128772,22.708112574784003,7.53230169760717,3.6248185059897295,26.962948184119096,29.952908162821053,9.518478364553387,18.62027717345047,28.364284791462314,3.2203475458031603,30.788942362934034,8.193545417821685,21.577724696149467,28.160773455304774,22.017093445731692,7.45412135338534,37.46812106734972,15.425454806804671,12.745745728752377,14.993264963196788,5.781254891786131,27.880292710582236,25.330158574450916,41.44278066385631,24.870619389408812,47.69200502388863,25.44899352615217,8.681341010631819,25.900078654981556,52.199961440596525,48.25787414858585,9.076133997934045,8.386605271750499,25.698733996501268,51.58636364354989,25.29112760335328,6.048859227027683,44.89411589440948,44.768651743339994,41.38764412854461,21.017248732428214,51.10889019027636,9.585354336377749E-4,21.43799568706821,66.7891779747866,6.553807787854747,72.78470522357567,8.918859512736008,37.129647075411704,37.39434322378659,28.29375512612275,2.9977637398159303,13.672046834912702,49.184588206047124,11.646654163391572,2.7234633331165288,60.51692512717836,80.75623039142039,33.320633009536266,53.3293016915293,75.90779125179394,1.0929741902730905,17.563268546023874,16.607620725769028,22.332550594419807,66.33892446250503,23.89014033131602,19.863082911429217,78.40693815811632,73.13335969299087,35.85252613330192,7.553431839138533,2.8924780028993236],\"z\":[0,8.194051114841269E8,1.366518911441574E9,-2.577495577155993E9,2.1677717315212774E9,-2.564921590618221E9,1.260255803923938E9,-2.23686205985633E9,-1.0162385503680017E9,-1.088020416914798E10,-4.636628309735656E9,-9.797678958877668E7,6.495797699225971E9,1.1917095505931349E10,-4.2727516240415483E9,-8.32087861723526E8,-5.197278573234774E8,1.7091609496903715E10,-1.9206563431772232E10,2.1527520720390387E9,1.5931870719640318E10,4.1201003905810795E9,1.1179660525556314E10,7.226323448502078E9,-3.130837662211622E10,1.3130175054539225E9,-9.50349887892503E9,6.298122612013481E9,7.374242237842176E9,1.6502052543372595E10,7.089486076284725E9,3.335982206164096E9,4.0393296389753237E9,3.1126618541258816E10,-1288052.6564348578,-5.4843658799237404E10,5.7989158273486465E10,3.209544418942886E10,1.1336271345882729E10,-5.067389456721977E10,2.6171678922003998E10,-3.805444208614978E10,3.1952074302302193E10,6.641612181038808E10,6.127023199470939E9,1.1170917948518917E10,-1.4723184814958004E10,7.272297440778441E9,9.126683695358444E9,6.311062738431314E10,3.188300923203298E9,1.114633729679193E10,-1.3465512111779911E10,1.9145985656772087E10,-1.8985925996557224E10,1.5867340953852535E10,6.8028914729648575E10,2.5280428429676247E10,-1.748550618035803E10,4.465039907492187E10,7.055572127720917E10,-1.0316307799650128E11,6.1629441039668144E10,3.7638347119654984E9,-4.659621910779913E10,8.087166684419766E10,7.82837226643999E10,-3.3107896185206318E10,6.614312266522031E9,1.3443624877436125E10,9.288751381309637E9,-2.4630610937196278E10,-1.0074315324367012E11,2.5985035222190323E10,5.314201596070512E10,3.015583540305749E10,-1.1038431415657778E9,-2.0367873861845634E10,3.456005203665283E10,2.1504142184340054E10,-5.614025829160038E10,-1.7859604911287743E10,-4.2061136465940735E10,-3.439285724112293E10,1.0665694350710032E10,-4.254867163212726E10,-3.3901226167102695E10,2.507845542718274E10,-2.340001364261932E9,-4.762972446076646E10,1.0411583837902122E11,-2.49573543745762E10,-6.2645301716148605E10,2.719039639840263E10,-3.2380450405462368E10,6.3491133231789055E10,-1.3178776351936072E11,-1.712644130289741E10,-2.549824400335718E10,-2.6926622670833485E10]}]},{\"name\":\"series 2\",\"data\":[{\"name\":\"series 2\",\"type\":\"scatter3d\",\"mode\":\"markers\",\"x\":[0,1,2,3,4,5,6,7,8,9,10,11,12,13,14,15,16,17,18,19,20,21,22,23,24,25,26,27,28,29,30,31,32,33,34,35,36,37,38,39,40,41,42,43,44,45,46,47,48,49,50,51,52,53,54,55,56,57,58,59,60,61,62,63,64,65,66,67,68,69,70,71,72,73,74,75,76,77,78,79,80,81,82,83,84,85,86,87,88,89,90,91,92,93,94,95,96,97,98,99],\"y\":[0,0.8493946130142612,0.07484486550496317,1.6180316922617188,3.9883787292027835,4.002213710187711,0.8932298688192775,2.455955771108216,4.450731546341468,3.888418113447293,9.143729383422594,5.392567485850118,6.89603251882513,3.5747390813259527,2.9866264727509177,5.3840666028783755,14.338885532360527,11.433632834856246,15.32428630961672,6.427079815580248,7.717469035287259,5.933151361112921,20.515799453978982,9.408854402975914,8.677643458198101,14.752325964640342,5.045067705619234,3.756542155941554,22.19930133632291,14.042266288246283,19.32154607731112,11.825404450556372,14.913116823378658,18.842626472108872,22.50281352212438,12.336860303386668,34.566206976131795,6.5283324569910555,16.80138406180956,9.349186771438477,13.19384134758434,37.95247562509964,12.424697533264393,5.466308688396013,37.39124996353622,16.918063319302536,39.347026689062,38.513592298800404,1.9047899924890341,21.003924392701535,33.77513825315227,4.983741204642626,23.8251901211069,7.838397683871513,3.6958954033211047,2.4309119391047678,24.21735560878892,9.908581271588053,15.533641213777878,19.916933664148768,58.311262243092564,8.162854285774179,10.948152452221386,52.840108607620195,38.65677766953298,21.260066014107643,1.4201295173809483,24.254365351558167,52.16186416583967,33.590289517557856,14.75071015523403,18.364713492641606,49.938473905118606,44.3892928552422,42.1942481382252,24.513816292035408,32.623646825218835,51.64192420836943,71.89967406874854,47.90420111292761,59.57474037105413,47.26844938581108,53.90506812344991,67.78110053581608,18.30744756796231,70.56246985061804,48.362702704523265,48.082158408709056,61.003293258477,9.24947061855781,58.217708794015564,78.8922653140754,60.10954400364851,64.11117900377161,14.47272887379319,50.67461098405366,75.23909753834232,45.122894034227286,22.693293657156445,11.432623501511836],\"z\":[0,6.749000402825348E8,-2.875522311209822E8,1.1693238704462612E9,2.739259712654059E9,-7.71891050405504E8,2.1306272053001318E9,1.45508447951099E9,1.6677800196153298E8,8.103067898300976E9,1.0322472799718855E10,-1.3586001895874817E10,-1.0740441696999073E10,-8.970788427502407E9,1.8375945205777426E9,-2.7770810566537232E9,-1.8399099664962677E10,1.9890005188875828E9,-2.4072757581509247E9,-9.01540993149839E9,-2.1743873700728207E9,-7.523509620215954E8,-2.8639586448828635E9,1.263236905253489E10,4.9720759711809134E8,-1.1881540250994436E10,-3.075608308289944E10,-1.5366437657644386E10,3.670141028819812E10,-2.8482912321505833E10,3.109023268483417E10,7.580109929501638E9,-1.2860722009320953E10,1.7320651910627182E10,3.288469127777973E10,-2.5776775080168236E10,-4.727446086864246E9,8.117324123800668E9,1.566901233798628E10,5.0629629783395744E10,-7.133930112365591E10,4.369804328135965E9,1.0605804819801552E9,-1.181988722673325E10,-3.801809037088116E10,-5.036241055800101E10,-6.403122830032832E10,3.7817018585454865E10,2.2752197690639633E10,3.2689665427488472E10,-7.351443526346246E9,5.503422864233946E10,-3.2501885094559155E9,-1.1696091883526769E9,-2.1378899921490894E10,1.6977469448473827E10,1.359518179254336E9,5.500730298474392E9,1.864999793191772E10,6.125119883556537E10,3.592354549620724E10,5.172152539610314E9,5.420218189924553E10,9.116580429543952E8,-6.968674650803778E10,4.161033888224266E10,-1.6223872626455996E10,2.3330913553531547E9,3.2220185513685303E9,1.5717241150594814E10,-1.4723921474313784E10,-1.7802957273684353E10,2.3232658827624497E9,-6.328927214972905E10,6.793073198849586E9,1.8676626822032425E10,1.4173294429167168E10,-2.74084618369453E10,1.981676567909986E9,-2.936364065944742E9,3.279145907544516E10,9.453980014887868E8,7.210698360822164E9,-1.4464931144100598E11,4.177331710150225E10,8.804504811484829E9,8.489146076820332E10,-1.4082130455218982E11,-9.219078137864626E9,1.3182312497960454E11,-1.4703660507454958E9,2.5795394430344585E10,7.166005057434083E9,-1.0440829387371515E11,9.571273510945578E10,3.5428260181339407E8,-5.3559682821034584E10,-1.4559235198649265E11,-1.619284109748369E11,5.845822519186932E9]}]},{\"name\":\"series 3\",\"data\":[{\"name\":\"series 3\",\"type\":\"scatter3d\",\"mode\":\"markers\",\"x\":[0,1,2,3,4,5,6,7,8,9,10,11,12,13,14,15,16,17,18,19,20,21,22,23,24,25,26,27,28,29,30,31,32,33,34,35,36,37,38,39,40,41,42,43,44,45,46,47,48,49,50,51,52,53,54,55,56,57,58,59,60,61,62,63,64,65,66,67,68,69,70,71,72,73,74,75,76,77,78,79,80,81,82,83,84,85,86,87,88,89,90,91,92,93,94,95,96,97,98,99],\"y\":[0,0.5288938906939792,0.6312147182891377,1.515874357262085,0.1522295218924472,1.573370828594351,1.8422970422806975,1.9267884727034996,2.975275437089552,4.5370835922894255,2.955265480900718,7.433283472906629,4.2107557624180245,5.18835520325668,0.6195305672821125,6.370836846115049,15.630534105484264,8.246281275732924,6.806376713213423,7.542665820108183,17.659193288690588,8.589226531010647,7.834757156259491,9.333996860466899,5.245465046759495,23.400738898502645,15.256004902573332,13.858635507068287,12.218884434863424,24.909443818140055,3.786856206593261,23.796845606457484,23.130656405532843,27.97519655259094,7.862035518991167,8.142141148387546,26.141173167327892,14.607734813211469,18.185249060461423,30.996463512914815,2.1308972796687575,13.826369179535998,17.14084892114769,22.0883860937903,32.12635328371088,41.329753595168235,41.33759660851691,10.087403716572005,21.59880162516913,48.49365731470881,47.14093031729792,31.29910560672548,50.45975767885819,39.50171655895873,19.06086345322335,28.201022577237605,25.894909813475472,19.189590275175707,11.5491829532158,29.76720907840702,57.79615370610193,49.696547967092386,28.371911128812513,11.88120262875752,21.72040731957717,7.520551787147227,28.511085113847592,7.601831632283874,22.27358366330877,15.313053755794455,69.76376880440507,37.87448235824841,20.838633520855872,14.97829377022344,45.09586613701454,44.72181324788552,21.88782139992219,45.608664762832134,26.623739251040654,60.252640927410376,77.99151511552334,30.742779244342696,72.08782509066343,8.245633472063812,47.3085721014127,5.626258275620305,49.09947445481407,50.84574336220799,75.06708102497693,24.83687396452632,9.534961046067297,65.30582698423338,80.56859424182203,85.05560936338169,32.46920550130595,50.96369094216374,21.82421824092442,23.17342757051213,15.236074443218095,60.015928364111694],\"z\":[0,6.15625251744223E7,7.083317072518774E8,4.017158037277525E9,6.594031911601604E9,-6.242954672412934E9,5.925983340677913E9,-2.727275060338558E9,-5.358362679965136E9,-1.4692379190391727E10,9.527133847080538E9,-5.213448251975201E8,-7.767802445213824E9,2.181715971199349E9,3.5918253226699166E9,-6.8967234009742E8,5.364189293371891E9,-2.7903999582623524E10,-1.7958883486868412E10,6.360500035158677E9,1.8539042561506145E10,-7.531880917755596E9,-2.261808732423333E10,-1.0108974751171768E10,-2.428147662724953E10,-4.801290926471873E9,4.039725653097757E9,-1.0245415233161467E9,2.132891704114577E9,1.1458425339443474E9,-3.354900973782065E10,1.787409046713899E10,2.3481820173065296E8,1.4796925456572604E9,5.694668229586497E9,-1.5986748149317818E9,-4.0522334836377287E9,6.634627897549595E9,2.3940731226269154E10,-9.134340382350786E9,4.369364058949991E10,5.571885949156187E10,7.10162686929979E7,1.6861892327029629E10,-6.90671277397058E10,-7.732608493171528E9,-8.312505589468825E10,1.9007404030784527E10,3.034775581392037E10,1.9371267278280475E9,1.5240235448437507E9,-6.329962205851777E10,-5.685976471905205E9,3.2622326028775833E10,-1.1807351559993267E10,-1.4924485143214476E10,5.583121015854506E10,-5.093641462603427E10,-2.907535559424597E9,-3.99715973220382E10,-3.7999901804500946E10,-2.663182006986618E10,3.8774224750090454E10,2.962350149547463E9,-8.80592420181112E9,-5.942158439115794E10,1.732164982869293E10,6.115244349515163E10,6.854351923948342E10,-1.1732516477721626E10,-1.9731941085018578E10,9.520168393082222E10,6.789161416270076E10,-4.7765690600848785E10,4.2832197081222787E9,-2.422631946263274E10,-8.874413250749878E10,9.739172495550763E10,7.982541512399045E10,2.91028762130271E10,-3.7566345857548546E10,-1.608613207209654E10,6.794066129552463E9,1.2593161711397753E10,-8.147951035956982E10,-1.2000094753162216E11,-9.541145590580448E9,6.590764560045445E10,9.798449643478726E10,-5.306673820328676E10,6.962507583152965E10,-8.074538364741751E10,-1.554784810815926E10,3.702110767648445E10,-9.525464358853821E10,6.8628802679523224E10,-4.036967388649944E10,-7.713990871012459E9,4.831552477026695E10,1.61235700635608E11]}]},{\"name\":\"series 4\",\"data\":[{\"name\":\"series 4\",\"type\":\"scatter3d\",\"mode\":\"markers\",\"x\":[0,1,2,3,4,5,6,7,8,9,10,11,12,13,14,15,16,17,18,19,20,21,22,23,24,25,26,27,28,29,30,31,32,33,34,35,36,37,38,39,40,41,42,43,44,45,46,47,48,49,50,51,52,53,54,55,56,57,58,59,60,61,62,63,64,65,66,67,68,69,70,71,72,73,74,75,76,77,78,79,80,81,82,83,84,85,86,87,88,89,90,91,92,93,94,95,96,97,98,99],\"y\":[0,0.4836812091387962,1.028070302309094,2.493700848701719,0.1369812538459283,2.7790935966873764,1.719349314521776,1.581794708167537,7.821822033771705,4.477514297741945,5.342069162896664,2.4371908268620013,4.189127829815389,3.1406810092921695,8.757399054672224,2.9708633292158524,3.7886757973100647,13.947728116794943,14.134136581351155,10.308641421946124,8.52678412068866,5.550884198264606,3.5392761574711202,19.306302949128096,3.4698314563178494,12.053430530078083,4.114673919251168,1.5100491312896978,2.376524094793242,25.31671455601796,29.909525109525994,20.279420819150893,1.2288104591816555,2.30496935060602,18.24207675701317,14.535793181324271,31.79795905004749,19.479434138703024,16.25598927197603,30.27147262501078,20.66218752374221,25.606759192862825,23.367047813336974,27.80208111570205,24.33541386060555,27.00101911908676,25.814454517325178,0.018329533451705293,12.523110715838556,42.42368615695549,46.78778997598442,0.8425259113882132,13.241010974812387,12.871816212982727,45.84584222814179,9.970146213411986,51.86539301533459,11.541315745959597,20.826900830042906,33.02757777298775,27.379975369882995,28.609595307579095,8.42178110716724,24.753730470178464,33.39400912933143,15.390103109730731,10.290833324171071,18.965513072762132,33.17903010314276,56.1202301674924,6.304402980276986,35.14533693125433,69.25783447504043,52.4038369471173,19.422742463411655,23.74270334818415,5.22869150036853,10.390201252876388,10.156201958559425,78.96159336459728,56.77047014285334,12.38251224084306,16.709562485445876,44.16089111337895,30.400340363842723,33.98115236150136,18.065796679680233,33.276286359498926,60.79499968042965,47.329876970371494,7.6541604784559265,36.12915437340282,32.588859472647606,48.796714604950964,7.1254367158818,22.370703610978435,86.77849686926746,84.73582362852282,81.37340704551983,8.368306833484722],\"z\":[0,-2331140.3808449702,3.101926512313747E9,-5.562196423584221E9,2.9188588433260304E8,2.0883434101914346E9,5.175739363193871E8,-9.148201904525305E9,-7.829687939832924E9,1.3022358531172493E10,-3638708.770738656,1.2224340618542154E8,1.422099089241701E10,4.329347305619613E9,-1.2711713643942259E10,8.945025531989115E9,-1.6436909691060505E10,5.934224995718913E9,3.13925110821995E10,-2.318279191814456E9,2.195891991841799E10,1.1131436688503374E10,2.94041145874557E10,-7.53150749979615E9,1.1398260493080962E9,2.362090594919116E10,-9.965462016604267E8,-1.0049816823053898E10,1.820321183649536E10,-2.691095013315945E10,1.86116322318425E10,-2.4300026513802998E10,5.743647393160585E9,-2.4755341586638465E9,-3.494626638712328E10,-9.483200912317692E9,-4.828512881252654E9,-1.1091319928198774E10,1.7886863876488106E10,-1.6083225691694817E10,-3.9561862934939775E9,-6.6399902839252975E10,2.0110284632056181E9,8.283293648205094E9,-6.270364311545236E10,-9.758995759655607E9,1.2650447796016785E10,-2.9131363140331043E10,6.370476084532521E9,3.4548488019617805E10,-8.12456513288153E10,1.23313127735025E10,6.243277076457519E10,2.579910768609383E9,2.1436870161290443E10,9.061550877885709E10,-7.190455798415883E10,-7.503410195901701E10,-4.138444377605639E10,1.5265050368014097E10,7.332817879471623E10,-7.530058954676247E10,-1.1697227554615637E10,-2.7708140635436035E10,8.858022846499768E10,-7.27414475857745E10,1.5107069649372147E10,-3.8148422183994145E9,-2.7490961342123425E10,1.1288007594301308E11,1.0516055033532562E10,3.4484043142248464E9,-2.583330055162907E10,5.661806349629524E10,-4.590421974351145E8,-8.093820825449013E10,1.5629114533781296E10,1.5537973499998117E10,7.343581189167522E10,2.0998843289927166E10,-8.78361264465878E10,9.218987215737582E10,9.014671481447939E9,4.11898068181016E10,-4.837886384332475E10,-4.0984782916720406E10,-1.890666237406787E10,2.179365542123076E9,-8.004215710684544E10,1.9582641610820805E10,2.3505244721001762E10,-1.4602749894064603E11,-4.873803633259351E10,-1.6082710225308456E11,-8.813670059877159E10,-1.5816569637880164E11,3.429542510204121E10,6.18879259351396E10,-3.0135999979759415E10,-3.257438145187284E10]}]},{\"name\":\"series 5\",\"data\":[{\"name\":\"series 5\",\"type\":\"scatter3d\",\"mode\":\"markers\",\"x\":[0,1,2,3,4,5,6,7,8,9,10,11,12,13,14,15,16,17,18,19,20,21,22,23,24,25,26,27,28,29,30,31,32,33,34,35,36,37,38,39,40,41,42,43,44,45,46,47,48,49,50,51,52,53,54,55,56,57,58,59,60,61,62,63,64,65,66,67,68,69,70,71,72,73,74,75,76,77,78,79,80,81,82,83,84,85,86,87,88,89,90,91,92,93,94,95,96,97,98,99],\"y\":[0,0.7638651101200477,0.1354986826498552,0.44444915616479164,0.0719144418214488,1.8547164349079908,1.201901570739618,3.9249997939769976,6.429593488692887,7.46537392651328,5.863004415598381,0.18910242818760903,8.247114867163344,2.791685839931805,13.211334368509018,11.752107640530465,11.37819302366432,15.316316596162663,14.501453933253211,4.026855905935158,2.6008773680164987,16.2289015503173,21.268344660468824,21.339924394427275,0.7428195070132375,0.6471354395307327,19.247781811733304,11.14929397992675,25.038496360789715,1.5940681773516574,0.903216257942987,17.061779402474233,5.363730748064135,15.595085620666111,28.339260760163356,24.18215370383053,4.212564691140292,0.029530389987729944,30.90825527835176,17.747772132289224,12.677065649491027,34.25669215777422,0.1435304295171782,34.16266713194496,6.511913823701258,4.2839464442468005,25.030903952339838,37.69350674072861,27.86271241881721,6.606120443440602,29.308682116555474,19.476542881591442,17.659792243931612,44.06983128798341,7.715911017882012,9.359670687291398,15.277930211622087,24.454360341573306,42.13889887559714,1.7169922913666396,22.086809643715362,10.16186595531761,3.687088957063711,1.9748602488777736,26.217244765221636,46.2241382704985,1.1112037293823418,6.42819724625623,47.49416926555503,25.01087807872203,15.909181353764975,24.25404285807161,44.289150387034404,7.815445895183921,32.19883610752302,58.695632804063656,4.272724269481641,66.14839154437121,63.22036811709976,16.44508358903135,74.9501580863481,52.33658608425263,72.4167652975276,79.54562983283128,1.6933848561165101,6.156664438756534,57.67593789125986,72.91570453860874,26.986681421769823,10.975664794181805,78.75490218645227,54.11659608361973,9.034383705251097,24.479085819531868,68.39366054496661,21.49331242870341,60.98532635479026,79.78739131487043,17.414509428041367,87.56429543695502],\"z\":[0,4.807577326779837E8,-5.471091699627206E8,2.209934651096704E9,2.9573156293190393E9,-4.137261102010004E9,1.2035486108295856E10,6.771349245317788E9,7.230806670737572E9,2.0079153082637486E9,-1.5540231367700268E10,-1.3326022856766665E9,-8.78537437628041E9,-1.5303012741695943E9,-1.755446192570023E10,-2.12213916486818E9,-2.060820998898226E10,-1.6300290483044565E9,1.7590193892544342E10,2.090278444969123E10,-2.562149176027332E10,-1.4978996489915993E9,3.005019880826141E10,8.257418279540597E9,2.9091601110182543E9,1.606301361288682E10,-1.6969282624886389E10,-1.9443201142837112E10,-3.298747100534575E9,-2.880712958449837E8,1.1717677483834248E10,-1.657837779487364E10,6.310319125272607E8,-1.2889617072340155E10,2.8935601699553154E10,-2.7130819492836254E10,-9.132308983883768E9,-5.72798300711508E10,-5.5035987998240166E10,5.495720512251515E10,3.1002250930082897E10,2.3720313746821465E9,4.8412902447152336E10,-1.525784566991093E10,9.53427387760395E9,2.0302245132245457E10,1.3634568915232529E10,3.263665977771022E9,-4.335132066949183E9,2.8847642953994602E10,-1.3110554453675444E10,-2.557610310315564E9,-6.617129167202003E10,8.860849971238539E9,-4.839305775256947E10,2.4741050856702213E10,1.3667315057059965E10,6.93574754945731E10,-7.306204362940063E10,6.847827101166091E10,-2.706948867913053E10,-5.188644034924082E10,3.620719283795644E10,4.870574953207816E10,6.916688693293356E10,3.824096193178227E10,6.4335495566280785E10,-1.2255120368778877E10,-2695594.120254981,6.1830185958094444E10,6.3203567353615776E10,-1.88890933909375E10,3.1518338058653683E10,7.117311695329598E9,5.986406809506073E9,1.634803635885408E9,-2.4222686161230915E10,-2.0716909096029444E9,4.209087416467304E10,1.8430920977559402E10,-1.0754725831050533E11,-2.8603130370996048E10,-3.284595089480557E10,3.137011966907481E10,-1.0909135857528593E11,1.357228633106275E11,7.543922351148735E10,6.0629792238965355E10,-5.234504903336653E10,-2.31135032557699E10,1.0377658322071716E11,-1.8178263591604282E10,3.2395825483066517E10,-9.093875510723174E10,-3.59170444272099E10,1.2757190323114276E11,1.799805185249378E10,-1.951914735833893E10,-1.9079217107783947E10,-7.09859439259671E10]}]},{\"name\":\"series 6\",\"data\":[{\"name\":\"series 6\",\"type\":\"scatter3d\",\"mode\":\"markers\",\"x\":[0,1,2,3,4,5,6,7,8,9,10,11,12,13,14,15,16,17,18,19,20,21,22,23,24,25,26,27,28,29,30,31,32,33,34,35,36,37,38,39,40,41,42,43,44,45,46,47,48,49,50,51,52,53,54,55,56,57,58,59,60,61,62,63,64,65,66,67,68,69,70,71,72,73,74,75,76,77,78,79,80,81,82,83,84,85,86,87,88,89,90,91,92,93,94,95,96,97,98,99],\"y\":[0,0.8722783409853226,1.423508823749783,1.835292633490979,2.707845382947483,2.129468930178848,0.33572445145327046,2.230377983548339,3.787751131057032,0.4612193621711862,9.719995989242783,1.5008939406635124,7.945863356227912,5.392645976860635,4.115733579842953,6.993414077118424,14.269677490693725,7.16301612070146,12.219239696922152,12.466733801251719,1.6679311821287035,17.623169396267258,1.8256721606937583,12.159745241216518,5.6488672004144425,2.574160852208646,20.67896391599466,2.2446918404359937,12.86193278068123,18.68348623698637,22.357889338071153,9.203041149687742,11.262539412181969,25.929708641087643,6.223919682288564,11.78231984053514,0.6823722958736491,21.266538509114426,4.467257632378672,1.3641163412043298,27.24885865477573,38.11343462583299,3.6614584573821496,8.046119325159246,35.74682294611228,5.621585507593198,43.224365622894126,3.764505792816094,8.903063635681347,46.68171770987227,15.033650145398914,34.60718548524568,1.950539176030793,45.5835358165205,17.409128428269646,3.3434477431677445,44.94313021871738,56.35572561320046,7.00118467850826,1.3713016243796858,30.394470886575736,19.360390011080224,2.0650259449408845,16.010372177118835,62.155174979692475,2.93649579200461,30.404255651595033,7.595586450415595,29.27186420928951,65.03336067440596,41.184185982025255,60.40496623358643,2.1388195147841635,47.09751275118544,54.09564452489768,3.333770165359065,71.80869607302944,59.224289700300424,30.243523556505977,11.65693572056498,43.12273958416025,23.00935031914259,28.891219364835436,24.45219269512618,4.603127692145819,67.8849298716541,33.062158188598225,81.53752206331343,73.07058419565129,25.250991762792616,1.2330736379194562,41.35862385299783,84.95921225127441,26.662688810580313,2.2003172647951086,58.3948900400655,31.547526179964724,84.96239826423859,3.910500930508057,64.58598177616017],\"z\":[0,-1.364886007458558E9,2.9917504136820874E9,3.981653027905965E9,5.688338486827289E8,3.864531743461888E9,3.6338044120520077E9,-3.5736132364694886E9,1.592077108024058E9,-9.187403245546105E8,2.8607420844409533E9,-2.1205916431511588E9,8.100936454999324E9,3.4262422374235106E8,5.691609608468392E9,-9.244982499223272E9,2.3290757070973916E9,6.076583017326324E9,-1.4917760606606789E10,-1.9577675864830917E10,-3.3185300215775322E7,2.2129806830280533E10,1.0920925574061356E9,2.9844236782317513E10,-2.6085434600169777E10,4.055038747853052E10,-7.445346758781256E9,2.3036592475863615E8,2.554658383809587E10,-1.719973556551009E10,8.406691668588316E9,-3.168618501736886E10,-1.4525476443888018E9,1.8790091146036086E9,4.931271257510698E9,-4.181147835313177E9,1.4237841004592848E10,-7.136138604194317E9,2.417113000236876E9,-3.667030241980918E10,-6.918507354739836E8,6.878520359025366E9,-4.168198247145702E10,-4.2580656770657074E10,2.465749545465844E9,1.3562613246169592E10,2.7595610078054886E9,4.5702210638985615E9,6.872799169386848E9,-3.0168173681970184E10,-8.111288177569856E9,2.8092229925871857E10,7.207730188126154E10,1.8412810106027214E10,1.4582163164480338E9,2.6119001120591884E9,1.4011259267100452E10,-2.1087097224900272E10,2.4922141168547688E10,1.7610866309818672E10,2.347329999086247E8,-9.082740911440178E10,3.6110494349208546E9,5.9390494948209854E10,9.864131824427279E9,-5.394689042487916E9,-5.615034297403002E10,-6.1302928348962E10,6.548677169445375E10,-1.2064239825080373E11,-1.981191108902125E10,-1.0500436203943804E10,-3.6044981756651E9,-6.558113092932206E9,3.1196772016875965E10,9.048119509768164E10,1.0567104443701378E11,1.046241677170451E10,-2.4952372993229572E10,5.032384107263927E10,6.335148834055953E9,6.0578477089670235E10,7.461786513104636E10,7.633375762646283E10,-8.505030320679259E10,-9.304803136893343E8,-2.3185302657336965E9,3.314757635113822E10,3.2812831545903442E10,1.7473252809224033E11,-8.821330093212251E10,-1.0489901931686035E11,1.1167903842528644E11,3.0164726224356694E9,3.903309401978827E9,-5.554363555507809E10,-1.4089642420559269E10,-1.2018593877493576E11,3.473455221023865E10,1.5571016147096588E10]}]},{\"name\":\"series 7\",\"data\":[{\"name\":\"series 7\",\"type\":\"scatter3d\",\"mode\":\"markers\",\"x\":[0,1,2,3,4,5,6,7,8,9,10,11,12,13,14,15,16,17,18,19,20,21,22,23,24,25,26,27,28,29,30,31,32,33,34,35,36,37,38,39,40,41,42,43,44,45,46,47,48,49,50,51,52,53,54,55,56,57,58,59,60,61,62,63,64,65,66,67,68,69,70,71,72,73,74,75,76,77,78,79,80,81,82,83,84,85,86,87,88,89,90,91,92,93,94,95,96,97,98,99],\"y\":[0,0.6055923137003784,1.7074656601480602,1.4412157859388937,1.977226892783925,3.766952014862735,2.518100036353751,2.9694715310557838,5.224929871399103,6.119086248536311,4.069862891977712,6.632630217757439,5.767596729090445,4.660798545134481,6.293681198832431,4.97205293558637,8.375614875832305,6.164519117220248,4.414004225145479,8.758057313052694,16.806527262537855,10.59828403652936,20.61064680996553,6.8036508115733945,1.42541422875549,10.35547359442893,2.470375429008814,2.5323561981909606,6.776371186053616,14.026764094990167,15.753340545586386,8.818257718733106,3.502251689782227,22.669438996705,17.568779159051825,19.925012693711903,23.88581997266398,0.2381971188164026,36.299545656178964,29.292426272364484,24.462208072463703,24.288855095356485,38.78591280283941,20.704361831251404,12.880132100517292,14.501897023150828,1.625779008280474,5.270177750480776,47.71761175569941,6.246642159515501,38.22086103101295,24.913623363900548,33.537067802542225,16.56891541050678,24.64671133974984,45.93810359467404,49.3445400602172,5.885501774259669,31.798408464323003,49.97551848230021,23.04842700475466,50.557324038072565,46.81359132129227,45.47744335403256,13.744619889580015,30.640254821634883,41.7500639015811,10.12225359174559,39.93709050351601,54.727686023350095,68.14660289874793,15.339923113168902,11.386041192061942,65.15251133207472,70.67271298596953,54.84764402666363,33.40947953064715,64.15797906907429,63.82603427594463,64.89409915105472,31.39867978633542,76.22692348427779,10.814791462396382,35.078153261035396,50.29331719405993,39.82726673366125,31.617182610951765,83.38904223602275,59.04822591882288,52.63833000619384,53.989886150524974,59.759626287677875,65.9606094536564,11.117373294429418,59.15387692060764,80.18207547475173,71.36425113411292,85.2990450880227,71.26766141135288,8.556504318060885],\"z\":[0,2.906836707770604E8,2.689486396874565E7,-1.3084477795484836E8,2.3754880148364592E8,-5.780161051295874E9,-1.8295760943155997E9,-5.0164427546342266E8,7.946398477182231E9,-2.551947111393655E9,1.2608576425038292E10,4.8682385147351265E9,6.009198812114699E9,1.5005198744960545E10,-1.5997975823496997E9,8.945648550994186E8,-2.565041883780348E9,-8.678467254526258E9,-9.900212064030424E9,-6.60991726956849E8,2.0925083478382416E10,1.7033739901982725E10,-2.4198129179143997E10,-7.629071961015022E9,-1.6184140893550804E10,1.8239525084592102E10,7.251297867511046E7,-5.114072900072835E9,7.611665929969527E8,-2.3482746899454395E10,-6.038075454576878E9,2.501471484034538E10,-2.351929792146035E10,1.002339332345583E10,2.8073105143817158E10,-2.1609506686517876E8,5.028516548751994E9,-2.879580399806811E9,7.670178366747633E8,7.055663328986432E10,-1.492287888989339E9,3.2308232869752796E10,4.1339252497155815E10,2.295811125056452E10,8.399493121538304E9,-4.308490222738761E9,9.567352824406372E8,-3.2850512030492817E10,3.471710710263919E9,2.0768821770769079E9,-1.318650700154493E10,6.1768877749246346E10,3.016481157049967E10,7.322176397836075E10,-3.853816009610688E10,-3.2211245715969868E10,2.2045800640410343E10,6.257362343914298E9,-4.841225045689245E9,9.383284295563847E10,1.9993099124143456E10,2.929982560043069E8,5.89396632235302E10,-1.5150288241766285E10,4.812256830780811E10,-1.8509034560180775E10,1.6842268470860052E10,-3.6359352715604544E9,5.2143945510459366E10,5.4410340182113144E10,3.737564451626144E10,-8.498612515334677E10,7.230703790520627E10,-5.89853853923738E10,1.4296996969486017E11,-6.456535186794573E9,-1.9250770295972004E10,5.380497606734194E10,1.877171284915679E10,2.4379624923077927E9,7.010815138028777E10,4.1327045995694176E10,4.159527823707185E10,-2.63541605462409E10,5.4431904018742226E10,-3.63397064273173E10,2.6610098694291325E10,-2.427722934921942E10,2.514473927927663E10,8.921085485761152E9,5.798718857710092E9,-5.0286716594777954E10,9.408017137552054E10,-1.1629790532659062E11,-1.805059081198093E10,-1.5050980591295883E11,5.259691824664455E9,-3.941221920322358E10,4.949165759405984E10,-1.3013471600644657E10]}]},{\"name\":\"series 8\",\"data\":[{\"name\":\"series 8\",\"type\":\"scatter3d\",\"mode\":\"markers\",\"x\":[0,1,2,3,4,5,6,7,8,9,10,11,12,13,14,15,16,17,18,19,20,21,22,23,24,25,26,27,28,29,30,31,32,33,34,35,36,37,38,39,40,41,42,43,44,45,46,47,48,49,50,51,52,53,54,55,56,57,58,59,60,61,62,63,64,65,66,67,68,69,70,71,72,73,74,75,76,77,78,79,80,81,82,83,84,85,86,87,88,89,90,91,92,93,94,95,96,97,98,99],\"y\":[0,0.39330521150289177,1.4974141727885217,1.7864333276155842,3.2965273468367733,4.062685335062251,5.809257489064016,1.4700479808334674,6.057859516356267,1.6429354472405953,4.411313983761826,9.96143637718323,7.946469077489086,10.523917808572204,8.87093048288023,12.768427754926972,1.335038364987545,10.703980724510282,16.423945677326735,16.918203982248873,6.308474312815493,5.951701793566874,16.828107881491455,13.31801334405087,6.671683156292834,1.679718791587631,9.783962069704813,24.602143665167947,0.989594055914806,18.01454415959627,6.152826280565391,1.7405594720206663,16.151763706823786,30.673216387355268,29.19270070325702,12.180700930572504,32.03297659305204,21.435371629110335,5.262428832086453,32.965811594807604,30.763649418089738,10.477838374744373,25.162222403731153,0.3708269022219879,25.179512314287166,5.868155920529111,15.734705406048809,20.37027832872958,18.43896934075864,7.34348498067222,2.794961708076271,5.9519149721756355,32.828800586635516,11.382256395082567,27.14070758235604,24.164702213655477,12.674334093693506,51.75752557140286,43.564589741747476,53.09067959904929,10.27903727682885,44.49343547862194,28.699799461328194,40.90670168349003,29.190532769113467,49.67938985972112,29.427659260394346,3.1044244939012713,22.075402078455962,23.180517649163843,35.7115547195446,55.01504421180089,45.333765208783205,34.167783438027506,28.345651888322394,41.28918474479959,3.5465450824674765,70.82664949654308,5.469089412795006,6.16202089715183,30.17352150847051,11.839493153104181,48.046987247589975,59.43920034081169,2.858754137460034,66.52414146480076,36.10840273883975,22.42037488621377,6.501695816104822,14.098740037544317,40.60860008499474,30.68417261059464,75.16740071764039,83.68183754820812,26.598338947147077,23.04126741457085,17.187501257018088,87.57606401455227,12.186680190497432,32.27079273109693],\"z\":[0,-1.099996164738945E8,1.1390484643367364E9,-2.1103707430675101E9,2.092793716657145E9,2.334822897508279E9,-8.368168399473594E8,-1.35789522588535E9,-1.9829935141161444E9,5.685490252252723E9,-1.4617491699524622E10,1.4593608679776089E10,4.74524962900726E9,9.177512912477245E9,5.472464372191723E9,7.257202815574276E9,3.542607035820439E8,-5.8626704637346525E9,2.032270249068899E10,-6.123963734854093E9,-1.8099129646847977E10,9.19642493807359E9,-2.337174047913922E9,2.1081681762193823E9,-1.450331216646901E10,4.4896411742314064E10,-2.624750225641009E10,-3.460018315844448E10,-5.3078345852407326E10,-1.1626237286445358E10,1.413898390293685E10,6.263210843212131E9,1.013467581165361E10,-2.9151880638392653E9,1.1953153861751437E9,1.2514725233538836E10,-7.748790538128231E9,4.082142123898611E10,4.310740645810452E10,-8.781869355246359E9,-1.297471876092721E9,5.367761979093269E10,-2.673383401696044E9,-5.682031948914472E10,6.967370606047219E9,8.1347516397749605E9,-2.181286302903765E9,2.1619887673780665E9,-6.311613985994964E9,7170433.097042925,-4.5535456055496235E9,-1.014729135459373E11,-4.6262364418607765E10,7.464907913433782E9,1.8577795131066025E10,-1.1089774174196041E10,-5.780792533900805E10,8.59495622138789E10,-2.1725542336467335E10,-6.020161539032496E10,-3.5689959046605268E9,-7.857529110929272E8,-5.421028233634387E10,8.885945720334142E10,1.814326317930665E10,6.464598573469689E10,-2.332324515881703E10,5.211066755527719E9,4.821620760298552E10,-3.290534474382564E9,-4.5753516338654015E10,-7.268612147792285E10,1.0931272514420332E10,-2.9633467177990334E10,-1.9804115563689266E10,6.897268937919232E10,-7.259068987413969E9,1.090969355361782E10,4.378364138155812E10,4.503933387797352E10,3.659132561416105E10,-8.88231199785608E9,1.383802790904456E10,9.445780404445679E9,2.1068200649749832E10,-8.568276328133424E10,-3.8434885178035636E9,2.9185659253925594E10,-1.909358559213715E10,4.671132466301373E9,-1.8749427324846268E10,-8.395326413252097E10,-1.045230103807808E11,-8.675759747637703E10,-6.511831322390287E10,3.9498252250384575E10,-3.467038233990426E9,-6.506133333639813E10,1.1842115002264381E10,7.829758471006359E9]}]},{\"name\":\"series 9\",\"data\":[{\"name\":\"series 9\",\"type\":\"scatter3d\",\"mode\":\"markers\",\"x\":[0,1,2,3,4,5,6,7,8,9,10,11,12,13,14,15,16,17,18,19,20,21,22,23,24,25,26,27,28,29,30,31,32,33,34,35,36,37,38,39,40,41,42,43,44,45,46,47,48,49,50,51,52,53,54,55,56,57,58,59,60,61,62,63,64,65,66,67,68,69,70,71,72,73,74,75,76,77,78,79,80,81,82,83,84,85,86,87,88,89,90,91,92,93,94,95,96,97,98,99],\"y\":[0,0.2905218966272337,0.9961517249874343,0.11151576569498256,3.7549391333947275,2.6704590644849224,3.3709132565447915,0.7965375245991395,6.180205129288295,8.007502508613088,3.58600170417537,4.163588341712716,2.457609727089002,2.6696614633639566,13.132729192010665,0.897022864721807,5.774015680899536,14.985513294800683,5.412054698506502,4.67737757725458,8.930188489494617,20.51932748215966,12.571055186830877,22.29222912921945,0.780207483817513,3.1087747689526326,18.685009988435404,17.67954346294331,10.274466445430392,0.5343224390012664,27.511248463264355,17.196915170562747,29.235725657247702,28.222598490811542,28.203988989156812,29.093703507977565,2.529911606625368,31.532513464884392,25.34327580904392,26.58494170717034,27.251364557531673,37.182674024039,36.64575855579294,11.336041521976655,23.17601955442293,23.50169026370221,31.040488453649704,9.815784102585223,21.295597184688972,17.66928663338732,27.659126621911582,10.1117605658701,5.981194105115657,9.21575075873252,46.956946121609604,22.677472021559957,47.48583915600884,23.010134170149918,30.89876914029803,39.34354343865039,51.33246016569569,27.043801448175092,36.162569603499875,44.02710408970667,41.89642088394524,26.755375258454475,0.8827690915770929,25.163173844611112,13.430266173145561,20.695833132928268,67.82539331378025,40.21010536780169,19.142544341107612,38.24858867553655,53.30815605625939,2.897450971101248,35.98266160280896,18.148608323846013,33.900203516580824,1.4393625947741326,75.74949629871449,18.93726390901264,68.20871515762623,81.97958978166943,32.283130311437795,80.4954315565877,23.13282915117141,77.31539066065015,64.06642229392442,67.66650586883055,59.089326564649184,12.717203023266823,11.806346313233108,83.96344045612142,83.13937486468659,74.66870856625665,21.73389128799412,21.69957880331116,10.921162320425555,64.84808297178633],\"z\":[0,-7499160.7521006055,-6.575568386293266E8,-1.6758567343130863E9,-6.796564962948546E8,1.9067102444990542E9,1.3068195248814495E9,2.8658397610531864E9,2.2331585177755865E8,-1.8360895180958521E9,-1.857659774973912E9,5.173242089160681E8,2.830306909263853E9,5.381014874486581E9,6.476337206947371E7,1.0050355085701626E10,3.094470066197993E10,-2.3403281238214207E10,1.8469111891560604E10,-3.923177954993205E9,-2.3196323748105913E7,5.353403911778719E9,1.7895213429587646E10,-7.150844517034878E9,-2.333432393356891E9,5.784235036528656E9,1.5098210887122597E10,1.5671415938703175E10,5.850456511252633E9,-2.2342205870211167E9,3.1867635192865057E9,1.200957167756363E9,-2.5573459001678413E10,-3.2901278846618935E10,1.5330508762313093E10,4.688336565451136E9,1.7423300034615314E10,-5.845915343315832E10,5.054928443843518E10,-4.518757145110954E10,1.4206597196355197E9,-6.0718169820137924E10,-2.0995816269631172E10,2.7382141820273964E10,-3.6985774263845856E10,-1.0415519575667013E10,-2.2777341912647567E9,-3.1078625217710327E10,6.250417384885941E9,6.6294922252557724E10,-5.555445901957457E10,8.446867792826636E10,-8.688941815523228E7,-1.7958319131757169E9,1.2240020831010942E9,2.7240175811655235E9,4.476935718429602E10,3.642361080062836E7,1.7399216424213777E9,-6.064772964348355E10,1.2283328730975645E10,-7.881333585331064E10,4.416826737035009E10,-1.717408541766029E10,-3.6533663809256714E10,4.537592081004289E10,-1.1949035360003539E11,3.8384807978670555E10,-1.8333131227794712E10,4.532361012523294E10,5.218583880084435E9,-7.726742905469761E9,2.380979317809256E10,4.870544243883525E10,-1.091652302956509E10,-5.98484085322787E9,1.7217044552197895E10,-2.6964011138653866E10,-4.672548420608199E10,-6.684203288649023E10,8.524635281904214E10,-1.6300340904687876E10,1.4362170561864735E10,-2.484923459090729E10,4.493211921906629E10,-6.941880653675696E10,-4.509040455134604E10,3.205254312144779E8,6.3557730434927925E10,-1.2319507679977026E11,-1.1940689898342934E10,-3.682942561411768E10,3.312069105022669E10,1.9517878557726643E10,4.193646981768786E9,-9.908711847050728E10,-2.943047871058521E10,2.02427929245471E10,3.475406454751615E10,-1.7837476817003326E10]}]}]\n",
       "var labels_xCZpmDFmWo = [\"series 0\",\"series 1\",\"series 2\",\"series 3\",\"series 4\",\"series 5\",\"series 6\",\"series 7\",\"series 8\",\"series 9\"]\n",
       "var duration_xCZpmDFmWo = 100\n",
       "var config_xCZpmDFmWo = {\"responsive\":true,\"scrollZoom\":true,\"displaylogo\":false}\n",
       "\n",
       "var animation_settings_xCZpmDFmWo = {\n",
       "    mode: \"immediate\",\n",
       "    direction: {},\n",
       "    fromcurrent: true,\n",
       "    frame: [\n",
       "      {duration: duration_xCZpmDFmWo},\n",
       "      {duration: duration_xCZpmDFmWo},\n",
       "      {redraw: true}\n",
       "    ],\n",
       "    transition: [\n",
       "      {duration: duration_xCZpmDFmWo, easing: 'cubic-in-out'},\n",
       "      {duration: duration_xCZpmDFmWo, easing: 'cubic-in-out'},\n",
       "    ],\n",
       "    ordering: \"layout first\"\n",
       "}\n",
       "\n",
       "var slider_xCZpmDFmWo = document.createElement(\"input\")\n",
       "var play_xCZpmDFmWo = document.getElementById(\"play_xCZpmDFmWo\")\n",
       "var pause_xCZpmDFmWo = document.getElementById(\"pause_xCZpmDFmWo\")\n",
       "slider_xCZpmDFmWo.id = \"slider_xCZpmDFmWo\"\n",
       "slider_xCZpmDFmWo.type = \"range\"\n",
       "slider_xCZpmDFmWo.min = 0\n",
       "slider_xCZpmDFmWo.max = frames_xCZpmDFmWo.length - 1\n",
       "slider_xCZpmDFmWo.value = 0\n",
       "document.getElementById(\"sliderContainer_xCZpmDFmWo\").appendChild(slider_xCZpmDFmWo);\n",
       "\n",
       "Plotly.newPlot(graph_xCZpmDFmWo, traces_xCZpmDFmWo, layout_xCZpmDFmWo, config_xCZpmDFmWo)\n",
       ".then(function () { Plotly.addFrames(graph_xCZpmDFmWo, frames_xCZpmDFmWo) })\n",
       "\n",
       "var trigger_xCZpmDFmWo = true\n",
       "var reset_count_xCZpmDFmWo = false\n",
       "\n",
       "play_xCZpmDFmWo.addEventListener('click', function() {\n",
       "   trigger_xCZpmDFmWo = true\n",
       "   if (reset_count_xCZpmDFmWo) {\n",
       "      slider_xCZpmDFmWo.value = 0\n",
       "      reset_count_xCZpmDFmWo = false\n",
       "   }\n",
       "\n",
       "  const start_index = slider_xCZpmDFmWo.value == labels_xCZpmDFmWo.length - 1 ? 0 : slider_xCZpmDFmWo.value\n",
       "  const end_index = labels_xCZpmDFmWo.length\n",
       "  Plotly.animate(graph_xCZpmDFmWo, labels_xCZpmDFmWo.slice(start_index, end_index), animation_settings_xCZpmDFmWo)\n",
       "})\n",
       "\n",
       "pause_xCZpmDFmWo.addEventListener('click', function() {\n",
       "  Plotly.animate(graph_xCZpmDFmWo, [null], animation_settings_xCZpmDFmWo)\n",
       "})\n",
       "\n",
       "graph_xCZpmDFmWo.on('plotly_redraw', () => {\n",
       "   value_xCZpmDFmWo.innerHTML = slider_xCZpmDFmWo.value;\n",
       "   if (trigger_xCZpmDFmWo & !reset_count_xCZpmDFmWo) ++slider_xCZpmDFmWo.value\n",
       "   if (slider_xCZpmDFmWo.value == labels_xCZpmDFmWo.length - 1) reset_count_xCZpmDFmWo = true\n",
       "});\n",
       "\n",
       "slider_xCZpmDFmWo.oninput = function() {\n",
       "   Plotly.animate(graph_xCZpmDFmWo, frames_xCZpmDFmWo[this.value], animation_settings_xCZpmDFmWo)\n",
       "   trigger_xCZpmDFmWo = false\n",
       "   slider_xCZpmDFmWo.value = this.value\n",
       "   value_xCZpmDFmWo.innerHTML = this.value;\n",
       "   if (this.value == 0) reset_count_xCZpmDFmWo = false\n",
       "   if (this.value == labels_xCZpmDFmWo.length - 1) reset_count_xCZpmDFmWo = true\n",
       "   reset_count_xCZpmDFmWo = false\n",
       "}\n",
       "</script> \n"
      ]
     },
     "metadata": {},
     "output_type": "display_data"
    }
   ],
   "source": [
    "val series = createXYZSeries(numberToCreate = 10, length = 100)\n",
    "\n",
    "val layout = ChartLayout()\n",
    "\n",
    "val chart = Chart(animated = true) setTitle \"Animation 3D\" addSeries series \n",
    "\n",
    "chart.plotInline"
   ]
  },
  {
   "cell_type": "markdown",
   "metadata": {},
   "source": [
    "## IO + Utility Functions\n",
    "\n",
    "The library also comes with some basic CSV IO functions and a utility function for breaking down data"
   ]
  },
  {
   "cell_type": "code",
   "execution_count": 43,
   "metadata": {},
   "outputs": [],
   "source": [
    "import org.carbonateresearch.picta.IO._\n",
    "import org.carbonateresearch.picta.common.Utils.getSeriesbyCategory"
   ]
  },
  {
   "cell_type": "code",
   "execution_count": 44,
   "metadata": {},
   "outputs": [
    {
     "name": "stdout",
     "output_type": "stream",
     "text": [
      "/Users/fazi/Desktop/Final Project/irp-acse-fk4517/Code\n"
     ]
    }
   ],
   "source": [
    "val working_directory = getWorkingDirectory\n",
    "\n",
    "println(working_directory)"
   ]
  },
  {
   "cell_type": "code",
   "execution_count": 45,
   "metadata": {},
   "outputs": [],
   "source": [
    "// by providing a path, we can read in a CSV\n",
    "val filepath = working_directory + \"/iris_csv.csv\"\n",
    "\n",
    "val data = readCSV(filepath)\n",
    "\n",
    "// by default, CSV are read in as strings. However we can convert the individual columns to the correct format\n",
    "val sepal_length = data(\"sepallength\").map(_.toDouble)\n",
    "val petal_width = data(\"petalwidth\").map(_.toDouble)\n",
    "val categories = data(\"class\")"
   ]
  },
  {
   "cell_type": "code",
   "execution_count": 46,
   "metadata": {},
   "outputs": [
    {
     "data": {
      "text/html": [
       "<div id=\"grid-container_5kjn0yDiXb\" class=\"grid-container\" align=\"center\"> \n",
       "<div id=\"grid_5kjn0yDiXb\" class=\"grid\" align=\"center\"> \n",
       "<div id=\"graph_nsMTcG3Opa\" class=\"graph\"></div> \n",
       "</div> \n",
       "</div> \n",
       "<script>\n",
       "var masonry = new Macy({\n",
       "    container: '#grid_5kjn0yDiXb',\n",
       "    debug: true,\n",
       "    mobileFirst: true,\n",
       "    columns: 1,\n",
       "    margin: {\n",
       "        x: 0,\n",
       "        y: 0\n",
       "    }\n",
       "  });\n",
       "\n",
       " var traces_nsMTcG3Opa = [{\"name\":\"OTP13n1PI5\",\"type\":\"scatter\",\"mode\":\"markers\",\"x\":[5.9,6.2,6.5,6.3,6.7,6.7,6.8,5.8,6.9,6.7,6.9,6,6.4,6.3,7.7,6.1,6.3,6.4,7.9,7.4,7.2,6.4,6.1,6.2,7.2,6.7,6.3,7.7,5.6,6.9,6,7.7,7.7,6.5,6.4,5.8,5.7,6.8,6.4,6.5,7.2,6.7,7.3,4.9,7.6,6.5,6.3,7.1,5.8,6.3,5.7,5.1,6.2,5.7,5.7,5.6,5,5.8,6.1,5.5,5.5,5.6,6.3,6.7,6,5.4,6,5.8,5.5,5.5,5.7,6,6.7,6.8,6.6,6.4,6.1,6.3,6.1,5.9,5.6,6.2,5.8,5.6,6.7,5.6,6.1,6,5.9,5,5.2,6.6,4.9,6.3,5.7,6.5,5.5,6.9,6.4,7,5,5.3,4.6,5.1,4.8,5.1,5,4.4,4.5,5,5.1,4.4,4.9,5.5,5,4.9,5.5,5.2,5.4,4.8,4.7,5.2,5.2,5,5,4.8,5.1,4.6,5.1,5.4,5.1,5.7,5.1,5.4,5.7,5.8,4.3,4.8,4.8,5.4,4.9,4.4,5,4.6,5.4,5,4.6,4.7,4.9,5.1],\"y\":[1.8,2.3,2,1.9,2.3,2.5,2.3,1.9,2.3,2.4,2.1,1.8,1.8,2.4,2.3,1.4,1.5,2.2,2,1.9,1.6,2.1,1.8,1.8,1.8,2.1,1.8,2,2,2.3,1.5,2.3,2.2,1.8,2.3,2.4,2,2.1,1.9,2,2.5,1.8,1.8,1.7,2.1,2.2,1.8,2.1,1.9,2.5,1.3,1.1,1.3,1.3,1.2,1.3,1,1.2,1.4,1.2,1.3,1.3,1.3,1.5,1.6,1.5,1.6,1.2,1,1.1,1,1.5,1.7,1.4,1.4,1.3,1.2,1.5,1.3,1.8,1.1,1.5,1,1.5,1.4,1.3,1.4,1,1.5,1,1.4,1.3,1,1.6,1.3,1.5,1.3,1.5,1.5,1.4,0.2,0.2,0.2,0.2,0.3,0.4,0.6,0.2,0.3,0.3,0.2,0.2,0.1,0.2,0.2,0.1,0.2,0.1,0.4,0.2,0.2,0.2,0.2,0.4,0.2,0.2,0.5,0.2,0.4,0.2,0.3,0.3,0.3,0.4,0.4,0.2,0.1,0.1,0.2,0.2,0.1,0.2,0.2,0.3,0.4,0.2,0.2,0.2,0.2,0.2]}];\n",
       " var layout_nsMTcG3Opa = {\"height\":550,\"width\":600,\"hovermode\":\"closest\",\"legend\":{\"orientation\":\"v\"},\"title\":{\"text\":\"Uninformative Chart\"},\"showlegend\":true};\n",
       " var config_nsMTcG3Opa = {\"responsive\":true,\"scrollZoom\":true,\"displaylogo\":false};\n",
       " Plotly.newPlot(\"graph_nsMTcG3Opa\", traces_nsMTcG3Opa, layout_nsMTcG3Opa, config_nsMTcG3Opa);\n",
       "</script> \n"
      ]
     },
     "metadata": {},
     "output_type": "display_data"
    }
   ],
   "source": [
    "val series = XY(sepal_length, petal_width) asType SCATTER drawStyle MARKERS\n",
    "\n",
    "val chart = Chart() addSeries series setTitle \"Uninformative Chart\"\n",
    "\n",
    "chart.plotInline"
   ]
  },
  {
   "cell_type": "markdown",
   "metadata": {},
   "source": [
    "The above chart is not very informative. However since we have the per data point category labels, we can use the utility function to display the data in the different clusters"
   ]
  },
  {
   "cell_type": "code",
   "execution_count": 47,
   "metadata": {},
   "outputs": [
    {
     "data": {
      "text/html": [
       "<div id=\"grid-container_8sCMb0qBjG\" class=\"grid-container\" align=\"center\"> \n",
       "<div id=\"grid_8sCMb0qBjG\" class=\"grid\" align=\"center\"> \n",
       "<div id=\"graph_z3GBCBfcbQ\" class=\"graph\"></div> \n",
       "</div> \n",
       "</div> \n",
       "<script>\n",
       "var masonry = new Macy({\n",
       "    container: '#grid_8sCMb0qBjG',\n",
       "    debug: true,\n",
       "    mobileFirst: true,\n",
       "    columns: 1,\n",
       "    margin: {\n",
       "        x: 0,\n",
       "        y: 0\n",
       "    }\n",
       "  });\n",
       "\n",
       " var traces_z3GBCBfcbQ = [{\"name\":\"Iris-versicolor\",\"type\":\"scatter\",\"mode\":\"markers\",\"x\":[7,6.4,6.9,5.5,6.5,5.7,6.3,4.9,6.6,5.2,5,5.9,6,6.1,5.6,6.7,5.6,5.8,6.2,5.6,5.9,6.1,6.3,6.1,6.4,6.6,6.8,6.7,6,5.7,5.5,5.5,5.8,6,5.4,6,6.7,6.3,5.6,5.5,5.5,6.1,5.8,5,5.6,5.7,5.7,6.2,5.1,5.7],\"y\":[1.4,1.5,1.5,1.3,1.5,1.3,1.6,1,1.3,1.4,1,1.5,1,1.4,1.3,1.4,1.5,1,1.5,1.1,1.8,1.3,1.5,1.2,1.3,1.4,1.4,1.7,1.5,1,1.1,1,1.2,1.6,1.5,1.6,1.5,1.3,1.3,1.3,1.2,1.4,1.2,1,1.3,1.2,1.3,1.3,1.1,1.3]},{\"name\":\"Iris-setosa\",\"type\":\"scatter\",\"mode\":\"markers\",\"x\":[5.1,4.9,4.7,4.6,5,5.4,4.6,5,4.4,4.9,5.4,4.8,4.8,4.3,5.8,5.7,5.4,5.1,5.7,5.1,5.4,5.1,4.6,5.1,4.8,5,5,5.2,5.2,4.7,4.8,5.4,5.2,5.5,4.9,5,5.5,4.9,4.4,5.1,5,4.5,4.4,5,5.1,4.8,5.1,4.6,5.3,5],\"y\":[0.2,0.2,0.2,0.2,0.2,0.4,0.3,0.2,0.2,0.1,0.2,0.2,0.1,0.1,0.2,0.4,0.4,0.3,0.3,0.3,0.2,0.4,0.2,0.5,0.2,0.2,0.4,0.2,0.2,0.2,0.2,0.4,0.1,0.2,0.1,0.2,0.2,0.1,0.2,0.2,0.3,0.3,0.2,0.6,0.4,0.3,0.2,0.2,0.2,0.2]},{\"name\":\"Iris-virginica\",\"type\":\"scatter\",\"mode\":\"markers\",\"x\":[6.3,5.8,7.1,6.3,6.5,7.6,4.9,7.3,6.7,7.2,6.5,6.4,6.8,5.7,5.8,6.4,6.5,7.7,7.7,6,6.9,5.6,7.7,6.3,6.7,7.2,6.2,6.1,6.4,7.2,7.4,7.9,6.4,6.3,6.1,7.7,6.3,6.4,6,6.9,6.7,6.9,5.8,6.8,6.7,6.7,6.3,6.5,6.2,5.9],\"y\":[2.5,1.9,2.1,1.8,2.2,2.1,1.7,1.8,1.8,2.5,2,1.9,2.1,2,2.4,2.3,1.8,2.2,2.3,1.5,2.3,2,2,1.8,2.1,1.8,1.8,1.8,2.1,1.6,1.9,2,2.2,1.5,1.4,2.3,2.4,1.8,1.8,2.1,2.4,2.3,1.9,2.3,2.5,2.3,1.9,2,2.3,1.8]}];\n",
       " var layout_z3GBCBfcbQ = {\"height\":550,\"width\":600,\"hovermode\":\"closest\",\"legend\":{\"orientation\":\"v\"},\"title\":{\"text\":\"Iris\"},\"showlegend\":true};\n",
       " var config_z3GBCBfcbQ = {\"responsive\":true,\"scrollZoom\":true,\"displaylogo\":false};\n",
       " Plotly.newPlot(\"graph_z3GBCBfcbQ\", traces_z3GBCBfcbQ, layout_z3GBCBfcbQ, config_z3GBCBfcbQ);\n",
       "</script> \n"
      ]
     },
     "metadata": {},
     "output_type": "display_data"
    }
   ],
   "source": [
    "val result = getSeriesbyCategory(categories, (sepal_length, petal_width))\n",
    "\n",
    "val chart = Chart() addSeries result setTitle \"Iris\" showLegend true\n",
    "\n",
    "chart.plotInline"
   ]
  },
  {
   "cell_type": "markdown",
   "metadata": {},
   "source": [
    "## Conus Integration\n",
    "\n",
    "A couple of utility functions make wrangling conus data easier. Below is an example taken from the conus repo and plotting some variables of interest."
   ]
  },
  {
   "cell_type": "code",
   "execution_count": 48,
   "metadata": {},
   "outputs": [],
   "source": [
    "import org.carbonateresearch.picta.conus.Utils._"
   ]
  },
  {
   "cell_type": "code",
   "execution_count": 49,
   "metadata": {},
   "outputs": [],
   "source": [
    "import org.carbonateresearch.picta.conus.Utils._\n",
    "import org.carbonateresearch.picta.{Canvas, Chart, XY}\n",
    "import org.carbonateresearch.conus.common.SingleModelResults\n",
    "import org.carbonateresearch.conus.modelzoo.GeneralGeology._\n",
    "import org.carbonateresearch.conus.modelzoo.PasseyHenkesClumpedDiffusionModel._\n",
    "import org.carbonateresearch.conus.{AllCells, ModelVariable, PerCell, Simulator, Step, SteppedModel}\n",
    "\n",
    "import math._"
   ]
  },
  {
   "cell_type": "code",
   "execution_count": 50,
   "metadata": {
    "scrolled": false
   },
   "outputs": [
    {
     "name": "stdout",
     "output_type": "stream",
     "text": [
      "12:24:26.929 [CoNuS-akka.actor.default-dispatcher-3] INFO akka.event.slf4j.Slf4jLogger - Slf4jLogger started\n"
     ]
    },
    {
     "name": "stderr",
     "output_type": "stream",
     "text": [
      "SLF4J: A number (1) of logging calls during the initialization phase have been intercepted and are\n",
      "SLF4J: now being replayed. These are subject to the filtering rules of the underlying logging system.\n",
      "SLF4J: See also http://www.slf4j.org/codes.html#replay\n"
     ]
    },
    {
     "name": "stdout",
     "output_type": "stream",
     "text": [
      "A total of 135 unique models were defined, attempting to create a list now.\n",
      "Models list successfully created.\n",
      "----------------------------------------\n",
      "RUN STARTED\n",
      "----------------------------------------\n",
      "\u001b[0m\u001b[35m\u001b[4mRUN DATA\u001b[0m\n",
      "\u001b[0m\u001b[33mTotal number of models:\u001b[0m \u001b[37m135\n",
      "\u001b[0m\u001b[33mNumber of cell per grid:\u001b[0m\u001b[37m 19\n",
      "\u001b[0m\u001b[33mNumber of steps per model:\u001b[0m\u001b[37m 10\n",
      "\u001b[0m\u001b[33mNumber of operation per step:\u001b[0m\u001b[37m 304\n",
      "\u001b[0m\u001b[33mTotal number of operations:\u001b[0m\u001b[37m 410'400\n",
      "\u001b[0m\u001b[33mAvailable CPU cores:\u001b[0m\u001b[37m 8\n",
      "\u001b[0m\u001b[34m----------------------------------------\u001b[0m\n",
      "\u001b[0m\u001b[35m\u001b[4mRUN PROGRESS\u001b[0m\n",
      "Model #4 completed in 0 seconds is calibrated.\n",
      "Model #1 completed in 0 seconds is calibrated.\n",
      "Model #8 completed in 0 seconds is calibrated.\n",
      "Model #6 completed in 0 seconds is calibrated.\n",
      "Model #3 completed in 0 seconds is calibrated.\n",
      "Model #5 completed in 0 seconds is calibrated.\n",
      "Model #2 completed in 0 seconds is calibrated.\n",
      "Model #7 completed in 0 seconds is calibrated.\n",
      "Model #10 completed in 0 seconds is calibrated.\n",
      "Model #9 completed in 0 seconds is calibrated.\n",
      "Model #15 completed in 0 seconds is calibrated.\n",
      "Model #14 completed in 0 seconds is calibrated.\n",
      "Model #13 completed in 0 seconds is calibrated.\n",
      "Model #11 completed in 0 seconds is calibrated.\n",
      "Model #12 completed in 0 seconds is calibrated.\n",
      "Model #17 completed in 0 seconds is calibrated.\n",
      "Model #16 completed in 0 seconds is calibrated.\n",
      "Model #22 completed in 0 seconds is calibrated.\n",
      "Model #20 completed in 0 seconds is calibrated.\n",
      "Model #18 completed in 0 seconds is calibrated.\n",
      "Model #19 completed in 0 seconds is calibrated.\n",
      "Model #21 completed in 0 seconds is calibrated.\n",
      "Model #26 completed in 0 seconds is calibrated.\n",
      "Model #23 completed in 0 seconds is calibrated.\n",
      "Model #24 completed in 0 seconds is calibrated.\n",
      "Model #27 completed in 0 seconds is calibrated.\n",
      "Model #28 completed in 0 seconds is calibrated.\n",
      "Model #25 completed in 1 seconds is calibrated.\n",
      "Model #29 completed in 1 seconds is calibrated.\n",
      "Model #33 completed in 1 seconds is calibrated.\n",
      "Model #32 completed in 1 seconds is calibrated.\n",
      "Model #31 completed in 1 seconds is calibrated.\n",
      "Model #35 completed in 1 seconds is calibrated.\n",
      "Model #34 completed in 1 seconds is calibrated.\n",
      "Model #30 completed in 1 seconds is calibrated.\n",
      "Model #36 completed in 1 seconds is calibrated.\n",
      "Model #39 completed in 1 seconds is calibrated.\n",
      "Model #40 completed in 1 seconds is calibrated.\n",
      "Model #38 completed in 1 seconds is calibrated.\n",
      "Model #42 completed in 1 seconds is calibrated.\n",
      "Model #45 completed in 1 seconds is calibrated.\n",
      "Model #46 completed in 1 seconds is calibrated.\n",
      "Model #44 completed in 1 seconds is calibrated.\n",
      "Model #37 completed in 1 seconds is calibrated.\n",
      "Model #49 completed in 1 seconds is calibrated.\n",
      "Model #43 completed in 1 seconds is calibrated.\n",
      "Model #41 completed in 1 seconds is calibrated.\n",
      "Model #48 completed in 1 seconds is calibrated.\n",
      "Model #52 completed in 1 seconds is calibrated.\n",
      "Model #50 completed in 1 seconds is calibrated.\n",
      "Model #53 completed in 1 seconds is calibrated.\n",
      "Model #54 completed in 1 seconds is calibrated.\n",
      "Model #56 completed in 1 seconds is calibrated.\n",
      "Model #59 completed in 1 seconds is calibrated.\n",
      "Model #47 completed in 1 seconds is calibrated.\n",
      "Model #55 completed in 1 seconds is calibrated.\n",
      "Model #60 completed in 1 seconds is calibrated.\n",
      "Model #57 completed in 1 seconds is calibrated.\n",
      "Model #63 completed in 1 seconds is calibrated.\n",
      "Model #64 completed in 1 seconds is calibrated.\n",
      "Model #58 completed in 1 seconds is calibrated.\n",
      "Model #51 completed in 1 seconds is calibrated.\n",
      "Model #65 completed in 1 seconds is calibrated.\n",
      "Model #62 completed in 1 seconds is calibrated.\n",
      "Model #68 completed in 1 seconds is calibrated.\n",
      "Model #69 completed in 1 seconds is calibrated.\n",
      "Model #70 completed in 1 seconds is calibrated.\n",
      "Model #72 completed in 1 seconds is calibrated.\n",
      "Model #66 completed in 1 seconds is calibrated.\n",
      "Model #61 completed in 1 seconds is calibrated.\n",
      "Model #75 completed in 1 seconds is calibrated.\n",
      "Model #74 completed in 1 seconds is calibrated.\n",
      "Model #71 completed in 1 seconds is calibrated.\n",
      "Model #76 completed in 1 seconds is calibrated.\n",
      "Model #67 completed in 1 seconds is calibrated.\n",
      "Model #79 completed in 1 seconds is calibrated.\n",
      "Model #73 completed in 1 seconds is calibrated.\n",
      "Model #80 completed in 1 seconds is calibrated.\n",
      "Model #82 completed in 1 seconds is calibrated.\n",
      "Model #84 completed in 1 seconds is calibrated.\n",
      "Model #78 completed in 1 seconds is calibrated.\n",
      "Model #77 completed in 1 seconds is calibrated.\n",
      "Model #83 completed in 1 seconds is calibrated.\n",
      "Model #87 completed in 1 seconds is calibrated.\n",
      "Model #81 completed in 1 seconds is calibrated.\n",
      "Model #90 completed in 1 seconds is calibrated.\n",
      "Model #85 completed in 1 seconds is calibrated.\n",
      "Model #91 completed in 1 seconds is calibrated.\n",
      "Model #92 completed in 1 seconds is calibrated.\n",
      "Model #93 completed in 1 seconds is calibrated.\n",
      "Model #88 completed in 1 seconds is calibrated.\n",
      "Model #95 completed in 1 seconds is calibrated.\n",
      "Model #97 completed in 1 seconds is calibrated.\n",
      "Model #86 completed in 1 seconds is calibrated.\n",
      "Model #98 completed in 1 seconds is calibrated.\n",
      "Model #100 completed in 1 seconds is not calibrated.\n",
      "Model #94 completed in 1 seconds is calibrated.\n",
      "Model #101 completed in 1 seconds is not calibrated.\n",
      "Model #96 completed in 1 seconds is calibrated.\n",
      "Model #89 completed in 1 seconds is calibrated.\n",
      "Model #104 completed in 1 seconds is not calibrated.\n",
      "Model #102 completed in 1 seconds is not calibrated.\n",
      "Model #105 completed in 1 seconds is not calibrated.\n",
      "Model #106 completed in 1 seconds is calibrated.\n",
      "Model #107 completed in 1 seconds is calibrated.\n",
      "Model #111 completed in 1 seconds is calibrated.\n",
      "Model #103 completed in 1 seconds is not calibrated.\n",
      "Model #113 completed in 1 seconds is calibrated.\n",
      "Model #99 completed in 1 seconds is calibrated.\n",
      "Model #112 completed in 1 seconds is calibrated.\n",
      "Model #114 completed in 1 seconds is calibrated.\n",
      "Model #115 completed in 1 seconds is not calibrated.\n",
      "Model #110 completed in 1 seconds is calibrated.\n",
      "Model #109 completed in 1 seconds is calibrated.\n",
      "Model #116 completed in 1 seconds is not calibrated.\n",
      "Model #119 completed in 1 seconds is not calibrated.\n",
      "Model #120 completed in 1 seconds is not calibrated.\n",
      "Model #108 completed in 1 seconds is calibrated.\n",
      "Model #121 completed in 1 seconds is calibrated.\n",
      "Model #122 completed in 1 seconds is calibrated.\n",
      "Model #123 completed in 1 seconds is calibrated.\n",
      "Model #124 completed in 1 seconds is calibrated.\n",
      "Model #126 completed in 1 seconds is calibrated.\n",
      "Model #125 completed in 1 seconds is calibrated.\n",
      "Model #128 completed in 1 seconds is calibrated.\n",
      "Model #129 completed in 1 seconds is calibrated.\n",
      "Model #130 completed in 1 seconds is not calibrated.\n",
      "Model #117 completed in 1 seconds is not calibrated.\n",
      "Model #131 completed in 1 seconds is not calibrated.\n",
      "Model #133 completed in 1 seconds is not calibrated.\n",
      "Model #118 completed in 1 seconds is not calibrated.\n",
      "Model #127 completed in 1 seconds is calibrated.\n",
      "Model #132 completed in 1 seconds is not calibrated.\n",
      "Model #135 completed in 1 seconds is not calibrated.\n",
      "Model #134 completed in 1 seconds is not calibrated.\n",
      "\n",
      "----------------------------------------\n",
      "END OF RUN\n",
      "----------------------------------------\n"
     ]
    }
   ],
   "source": [
    "val modelWarehouse = Simulator\n",
    "\n",
    "// a few constants\n",
    "val rhocal:Double = 2.71 //Density of carbonates\n",
    "val cOf=889000 //concentration of O in fluid\n",
    "val cCf=200 //concentration of C in fluid\n",
    "val cOcal = 480000 //concentration of O in stoichiometric calcite\n",
    "val cCcal = 120000 //concentration of C in stoichiometric calcite\n",
    "val d13Ctdc = 0 //carbon isotope composition of total dissolved carbon in fluid\n",
    "\n",
    "// setting model variables\n",
    "val initialAge:ModelVariable[Double] = ModelVariable(\"Initial age\",96.0,\"Ma\")\n",
    "val finalAge:ModelVariable[Double] = ModelVariable(\"Final age\",0.0,\"Ma\")\n",
    "val d18Of:ModelVariable[Double] = ModelVariable(\"Fluid d18O\",-1.0,\"‰\")\n",
    "val TmaxSample:ModelVariable[Double] = ModelVariable(\"Tmax\",0.0,\"˚C\")\n",
    "val WFF:ModelVariable[Double] = ModelVariable(\"Weight fraction of fluid\",0.0,\"\")\n",
    "val CWRR:ModelVariable[Double] = ModelVariable(\"Cumulative water/rock ratio\",0.0,\"\")\n",
    "val FluidMass:ModelVariable[Double] = ModelVariable(\"Mass of fluid\",0.2,\"\")\n",
    "val d18Occ:ModelVariable[Double] = ModelVariable(\"d18Occ\",1.0,\"‰\")\n",
    "val d13Ccc:ModelVariable[Double] = ModelVariable(\"d13Ccc\",1.0,\"‰\")\n",
    "val D47r:ModelVariable[Double] = ModelVariable(\"D47 with partial recrystallization\",.5,\"‰\")\n",
    "val fractionRec:ModelVariable[Double] = ModelVariable(\"Fraction of recrystallization\",0.01,\"‰\")\n",
    "val initalBurialAtModelStart:ModelVariable[Double] = ModelVariable(\"Initial burial at model start\",0.0,\"meters\")\n",
    "\n",
    "// Initialise model conditions as lists\n",
    "val burialHistory = List((96.0,0.0), (39.0,2000.0), (0.0,-70.0))\n",
    "val geothermalGradientHistory= List((96.0,30.0),(0.0,30.0))\n",
    "val surfaceTemperaturesHistory = List((96.0,30.0),(0.0,30.0))\n",
    "val numberOfSteps = 10\n",
    "val ageList:List[Double] = List(97.0,96.0,95.0)\n",
    "val finalAgeList:List[Double] = List(0.0)\n",
    "val rangeOfFluidMasses:List[Double] = List(0.2)\n",
    "val rangeOfPartialRecrystallization = List(1.0,.5,.1,.01,0.0)\n",
    "\n",
    "// Bulk isotope calculation equations\n",
    "val d18OccFunction = (s:Step) => {\n",
    "    val cO=(WFF(s)*cOf)+(1-WFF(s))*cOcal\n",
    "    val alpha = math.exp((18.03*(1000*pow((burialTemperature(s)+273.15), -1)) - 32.42)/1000)\n",
    "    val d18O = ((d18Of(s) * WFF(s) * cOf) + d18Occ(s) * (1-WFF(s)) * cOf)/ cO\n",
    "    ((d18O * cOf * alpha) - (1000 * cOf * WFF(s) * (1-alpha))) / ((cOcal * (1-WFF(s)) * alpha) + cOf * WFF(s))\n",
    "}\n",
    "\n",
    "val d13CccFunction = (s:Step) => {\n",
    "    val cC=(WFF(s)*cCf)+(1-WFF(s))*cCcal\n",
    "    val alpha = exp((-2.4612+(7666.3/100) - (2.9880*pow(10,3)/pow((burialTemperature(s)+273.15),6)))/1000)\n",
    "    val d13C = ((d13Ctdc * WFF(s) * d13Ctdc) + (d13Ccc(s) * (1-WFF(s)) * cCcal))/cC\n",
    "    ((d13C * cC * alpha) - (1000 * cCf * WFF(s) * (1-alpha))) / (cCcal * (1-WFF(s) * alpha) + cCf * WFF(s))\n",
    "}\n",
    "\n",
    "val eaglefordModel = new SteppedModel(numberOfSteps,\"Eagleford recrystallization\")\n",
    "    .setGrid(19)\n",
    "    .defineMathematicalModel(\n",
    "      age =>> ageOfStep(initialAge,finalAge),\n",
    "      depth =>> {(s:Step) => {burialDepthFromAgeModel(age,burialHistory).apply(s)+initalBurialAtModelStart(s)}},\n",
    "      surfaceTemperature =>> surfaceTemperaturesAtAge(age, surfaceTemperaturesHistory),\n",
    "      geothermalGradient =>> geothermalGradientAtAge(age,geothermalGradientHistory),\n",
    "      burialTemperature =>> burialTemperatureFromGeothermalGradient(surfaceTemperature,depth,geothermalGradient),\n",
    "      dT =>> dTFun,\n",
    "      D47eq =>> D47eqFun,\n",
    "      D47i =>> D47iFun,\n",
    "      SampleTemp =>> davies19_T,\n",
    "      FluidMass =>> {(s:Step) => 0.2},\n",
    "      d18Of =>> {(s:Step) => -1.0},\n",
    "      WFF =>> {(s:Step) => FluidMass(s) / (FluidMass(s) + rhocal)},\n",
    "      CWRR =>> {(s:Step) => s.stepNumber * WFF(s)/(1-WFF(s))},\n",
    "      d18Occ =>> d18OccFunction,\n",
    "      d13Ccc =>> d13CccFunction,\n",
    "      D47r =>> {(s:Step) => {if(burialTemperature(s)-burialTemperature(s-1) >= 0){D47r(s-1) * (1.0-fractionRec(s)) + D47eq(s) * fractionRec(s)}\n",
    "      else {D47r(s-1)}}}\n",
    "    )\n",
    "    .defineInitialModelConditions(\n",
    "      AllCells(initialAge,ageList),\n",
    "      AllCells(finalAge,finalAgeList),\n",
    "      AllCells(fractionRec,rangeOfPartialRecrystallization),\n",
    "      AllCells(D47i,List(0.670,0.680,0.690)),\n",
    "      AllCells(D47r,List(0.670,0.680,0.690)),\n",
    "      PerCell(initalBurialAtModelStart,List(\n",
    "        (List(0.0),Seq(0)),\n",
    "        (List(-0.91),Seq(1)),\n",
    "        (List(-1.22),Seq(2)),\n",
    "        (List(-2.90),Seq(3)),\n",
    "        (List(-4.57),Seq(4)),\n",
    "        (List(-4.88),Seq(5)),\n",
    "        (List(-4.90),Seq(6)),\n",
    "        (List(-6.10),Seq(7)),\n",
    "        (List(-6.40),Seq(8)),\n",
    "        (List(-6.71),Seq(9)),\n",
    "        (List(-25.90),Seq(10)),\n",
    "        (List(-28.96),Seq(11)),\n",
    "        (List(-29.87),Seq(12)),\n",
    "        (List(-35.05),Seq(13)),\n",
    "        (List(-35.36),Seq(14)),\n",
    "        (List(-35.97),Seq(15)),\n",
    "        (List(-36.58),Seq(16)),\n",
    "        (List(-37.19),Seq(17)),\n",
    "        (List(-38.90),Seq(18)))))\n",
    "    .defineCalibration(\n",
    "      D47r.isBetween(0.511,0.683).atCells(Seq(0)),\n",
    "      D47r.isBetween(0.511,0.683).atCells(Seq(1)),\n",
    "      D47r.isBetween(0.511,0.683).atCells(Seq(2)),\n",
    "      D47r.isBetween(0.511,0.683).atCells(Seq(3)),\n",
    "      D47r.isBetween(0.511,0.683).atCells(Seq(4)),\n",
    "      D47r.isBetween(0.511,0.683).atCells(Seq(5)),\n",
    "      D47r.isBetween(0.511,0.683).atCells(Seq(6)),\n",
    "      D47r.isBetween(0.511,0.683).atCells(Seq(7)),\n",
    "      D47r.isBetween(0.511,0.683).atCells(Seq(8)),\n",
    "      D47r.isBetween(0.511,0.683).atCells(Seq(9)),\n",
    "      D47r.isBetween(0.511,0.683).atCells(Seq(10)),\n",
    "      D47r.isBetween(0.511,0.683).atCells(Seq(11)),\n",
    "      D47r.isBetween(0.511,0.683).atCells(Seq(12)),\n",
    "      D47r.isBetween(0.511,0.683).atCells(Seq(13)),\n",
    "      D47r.isBetween(0.511,0.683).atCells(Seq(14)),\n",
    "      D47r.isBetween(0.511,0.683).atCells(Seq(15)),\n",
    "      D47r.isBetween(0.511,0.683).atCells(Seq(16)),\n",
    "      D47r.isBetween(0.511,0.683).atCells(Seq(17)),\n",
    "      D47r.isBetween(0.511,0.683).atCells(Seq(18))\n",
    ")\n",
    "\n",
    "modelWarehouse.evaluate(eaglefordModel)\n",
    "Thread.sleep(1000)"
   ]
  },
  {
   "cell_type": "code",
   "execution_count": 51,
   "metadata": {
    "scrolled": false
   },
   "outputs": [
    {
     "data": {
      "text/html": [
       "<div id=\"grid-container_PDgEL9MgAV\" class=\"grid-container\" align=\"center\"> \n",
       "<div id=\"grid_PDgEL9MgAV\" class=\"grid\" align=\"center\"> \n",
       "<div id=\"graph_kRDrdUfnMK\" class=\"graph\"></div> \n",
       "</div> \n",
       "</div> \n",
       "<script>\n",
       "var masonry = new Macy({\n",
       "    container: '#grid_PDgEL9MgAV',\n",
       "    debug: true,\n",
       "    mobileFirst: true,\n",
       "    columns: 1,\n",
       "    margin: {\n",
       "        x: 0,\n",
       "        y: 0\n",
       "    }\n",
       "  });\n",
       "\n",
       " var traces_kRDrdUfnMK = [{\"name\":\"j7oizlWGxB\",\"type\":\"scatter\",\"yaxis\":\"y2\",\"x\":[97,86.22222222222223,75.44444444444444,64.66666666666666,53.888888888888886,43.11111111111111,32.33333333333333,21.555555555555543,10.777777777777771,0],\"y\":[1.092574472614591,1.0925744726145918,1.0925744726145925,1.0925744726145934,1.0925744726145936,1.0925744726145943,1.0925744726145938,1.0925744726145932,1.0925744726145923,1.0925744726145907]},{\"name\":\"60RtdaX8eh\",\"type\":\"scatter\",\"x\":[97,86.22222222222223,75.44444444444444,64.66666666666666,53.888888888888886,43.11111111111111,32.33333333333333,21.555555555555543,10.777777777777771,0],\"y\":[5.89348426912598,5.638181586030623,5.40033576234191,5.178215948453285,4.970312739614294,4.775303866897426,4.881865925657495,5.192623895144487,5.5361762606165605,5.918001697432124]}];\n",
       " var layout_kRDrdUfnMK = {\"height\":550,\"width\":600,\"hovermode\":\"closest\",\"legend\":{\"orientation\":\"v\"},\"title\":{\"text\":\"d18Occ vs d13Ccc\"},\"showlegend\":true,\"xaxis\":{\"title\":{\"text\":\"age\"},\"showgrid\":true,\"zeroline\":false,\"showline\":false},\"yaxis\":{\"title\":{\"text\":\"d18Occ\"},\"showgrid\":true,\"zeroline\":false,\"showline\":false},\"yaxis2\":{\"title\":{\"text\":\"d13Ccc\"},\"showgrid\":true,\"zeroline\":false,\"showline\":false,\"side\":\"right\",\"overlaying\":\"y\",\"tickformat\":\"0.2f\"}};\n",
       " var config_kRDrdUfnMK = {\"responsive\":true,\"scrollZoom\":true,\"displaylogo\":false};\n",
       " Plotly.newPlot(\"graph_kRDrdUfnMK\", traces_kRDrdUfnMK, layout_kRDrdUfnMK, config_kRDrdUfnMK);\n",
       "</script> \n"
      ]
     },
     "metadata": {},
     "output_type": "display_data"
    }
   ],
   "source": [
    "// grab the results from the Conus model\n",
    "val model: SingleModelResults = modelWarehouse(eaglefordModel)(0)\n",
    "\n",
    "// we can use the utility function to grab the series for a single variable\n",
    "val series1: List[Double] = getDataFromSingleModel(model, age, List(0), numberOfSteps)\n",
    "val series2: List[Double] = getDataFromSingleModel(model, d18Occ, List(0), numberOfSteps)\n",
    "\n",
    "val xy1 = XY(series1, series2)\n",
    "\n",
    "// alternatively we can quickly get the same data for XY using the function below\n",
    "//  val xy1 = getXYSeriesFromSingleModel(model, (age, d18Occ), List(0), numberOfSteps)\n",
    "\n",
    "// lets also plot a second y variable\n",
    "val yaxis2 = YAxis(\n",
    "    position = 2, \n",
    "    title = \"d13Ccc\", \n",
    "    overlaying = YAxis(), // this ensures that the axis sits on a seperate axis\n",
    "    side = RIGHT, // this ensures the axis is on the right hand side\n",
    "    tickformat = \"0.2f\" // this will keep formatting reasonable for display purposes\n",
    ")\n",
    "\n",
    "// we construct the second y variable;\n",
    "val series3: List[Double] = getDataFromSingleModel(model, d13Ccc, List(0), numberOfSteps)\n",
    "val xy2 = XY(series1, series3) setAxis yaxis2\n",
    "\n",
    "// finally we can combine in a single chart\n",
    "val chart = (\n",
    "    Chart() \n",
    "    addSeries xy1\n",
    "    addSeries xy2\n",
    "    setTitle(\"d18Occ vs d13Ccc\") \n",
    "    addAxes(XAxis(title=\"age\"), YAxis(title=\"d18Occ\"), yaxis2)\n",
    ")\n",
    "\n",
    "val canvas = Canvas() addCharts chart\n",
    "\n",
    "// When we plot the result, we can see the legend is in the wrong place and overlaying the axis - we can overcome this\n",
    "// in the next example\n",
    "canvas.plotInline()"
   ]
  },
  {
   "cell_type": "markdown",
   "metadata": {},
   "source": [
    "### Moving the Legend\n",
    "\n",
    "We can also move the Legend and position it where we would like as follows:"
   ]
  },
  {
   "cell_type": "code",
   "execution_count": 52,
   "metadata": {},
   "outputs": [],
   "source": [
    "import org.carbonateresearch.picta.options.AUTO\n",
    "import org.carbonateresearch.picta.options.VERTICAL"
   ]
  },
  {
   "cell_type": "code",
   "execution_count": 53,
   "metadata": {},
   "outputs": [
    {
     "data": {
      "text/html": [
       "<div id=\"grid-container_8VNFq0H2bC\" class=\"grid-container\" align=\"center\"> \n",
       "<div id=\"grid_8VNFq0H2bC\" class=\"grid\" align=\"center\"> \n",
       "<div id=\"graph_mk23jB175J\" class=\"graph\"></div> \n",
       "</div> \n",
       "</div> \n",
       "<script>\n",
       "var masonry = new Macy({\n",
       "    container: '#grid_8VNFq0H2bC',\n",
       "    debug: true,\n",
       "    mobileFirst: true,\n",
       "    columns: 1,\n",
       "    margin: {\n",
       "        x: 0,\n",
       "        y: 0\n",
       "    }\n",
       "  });\n",
       "\n",
       " var traces_mk23jB175J = [{\"name\":\"60RtdaX8eh\",\"type\":\"scatter\",\"x\":[97,86.22222222222223,75.44444444444444,64.66666666666666,53.888888888888886,43.11111111111111,32.33333333333333,21.555555555555543,10.777777777777771,0],\"y\":[5.89348426912598,5.638181586030623,5.40033576234191,5.178215948453285,4.970312739614294,4.775303866897426,4.881865925657495,5.192623895144487,5.5361762606165605,5.918001697432124]}];\n",
       " var layout_mk23jB175J = {\"height\":550,\"width\":600,\"hovermode\":\"closest\",\"legend\":{\"orientation\":\"h\",\"x\":0.5,\"y\":-0.5,\"xanchor\":\"auto\",\"yanchor\":\"auto\"},\"title\":{\"text\":\"Move Axis\"},\"showlegend\":true,\"xaxis\":{\"title\":{\"text\":\"age\"},\"showgrid\":true,\"zeroline\":false,\"showline\":false},\"yaxis\":{\"title\":{\"text\":\"d18Occ\"},\"showgrid\":true,\"zeroline\":false,\"showline\":false},\"yaxis2\":{\"title\":{\"text\":\"d13Ccc\"},\"showgrid\":true,\"zeroline\":false,\"showline\":false,\"side\":\"right\",\"overlaying\":\"y\",\"tickformat\":\"0.2f\"}};\n",
       " var config_mk23jB175J = {\"responsive\":true,\"scrollZoom\":true,\"displaylogo\":false};\n",
       " Plotly.newPlot(\"graph_mk23jB175J\", traces_mk23jB175J, layout_mk23jB175J, config_mk23jB175J);\n",
       "</script> \n"
      ]
     },
     "metadata": {},
     "output_type": "display_data"
    }
   ],
   "source": [
    "\n",
    "// finally we can combine in a single chart\n",
    "val chart = (\n",
    "    Chart() \n",
    "    addSeries xy1\n",
    "    setTitle(\"Move Axis\") \n",
    "    addAxes(XAxis(title=\"age\"), YAxis(title=\"d18Occ\"), yaxis2)\n",
    "    setLegend(x = 0.5, y = -0.5, orientation = HORIZONTAL, xanchor = AUTO, yanchor = AUTO)\n",
    ")\n",
    "\n",
    "val canvas = Canvas() addCharts chart\n",
    "\n",
    "canvas.plotInline()"
   ]
  }
 ],
 "metadata": {
  "kernelspec": {
   "display_name": "Scala",
   "language": "scala",
   "name": "scala"
  },
  "language_info": {
   "codemirror_mode": "text/x-scala",
   "file_extension": ".scala",
   "mimetype": "text/x-scala",
   "name": "scala",
   "nbconvert_exporter": "script",
   "version": "2.13.2"
  }
 },
 "nbformat": 4,
 "nbformat_minor": 4
}
