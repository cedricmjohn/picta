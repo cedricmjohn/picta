{
 "cells": [
  {
   "cell_type": "markdown",
   "metadata": {},
   "source": [
    "# 1. Setup\n",
    "\n",
    "To use Picta in a Jupyter notebook with the Almond.sh kernel, you need to first register a new Jitpack repository as some essential component of Almond are not availble in Maven Central (simply copy and run the first cell below). You then need to import the library from Maven (second cell) and initiliaze the notebook to have nicer outputs (optional, third cell)."
   ]
  },
  {
   "cell_type": "code",
   "execution_count": 1,
   "metadata": {},
   "outputs": [],
   "source": [
    "interp.repositories() ++= Seq(coursierapi.MavenRepository.of(\n",
    "\"https://jitpack.io\"\n",
    "))"
   ]
  },
  {
   "cell_type": "code",
   "execution_count": 2,
   "metadata": {},
   "outputs": [
    {
     "data": {
      "text/plain": [
       "\u001b[32mimport \u001b[39m\u001b[36m$ivy.$                                    \u001b[39m"
      ]
     },
     "execution_count": 2,
     "metadata": {},
     "output_type": "execute_result"
    }
   ],
   "source": [
    "import $ivy. `org.carbonateresearch::picta:0.1.1`"
   ]
  },
  {
   "cell_type": "code",
   "execution_count": 3,
   "metadata": {
    "scrolled": false
   },
   "outputs": [
    {
     "data": {
      "text/html": [
       "\n",
       "<style> #animationInterface {\n",
       "    margin-top: 50px;\n",
       "    margin-bottom: 50px;\n",
       "}\n",
       "\n",
       ".progressBar {\n",
       "    padding-top: 20px;\n",
       "    padding-bottom: 20px;\n",
       "}\n",
       "\n",
       ".inline-div {\n",
       "    display: block;\n",
       "    text-align: center;\n",
       "}\n",
       "\n",
       "h3 {\n",
       "    display: inline-block;\n",
       "    text-align: center;\n",
       "}\n",
       "\n",
       ".picta-button {\n",
       "    background-color: #003E74;\n",
       "    border: none;\n",
       "    color: white;\n",
       "    padding: 12px 28px;\n",
       "    text-align: center;\n",
       "    text-decoration: none;\n",
       "    display: inline-block;\n",
       "    font-size: 12px;\n",
       "    margin-top: 50px;\n",
       "    transition-duration: 0.4s;\n",
       "    cursor: pointer;\n",
       "}\n",
       "\n",
       ".picta-button:hover {\n",
       "    background-color: #002147;\n",
       "    color: white;\n",
       "}\n",
       "\n",
       ".grid-title h1 {\n",
       "    font-family: \"Open Sans\", verdana, arial, sans-serif;\n",
       "    font-weight: normal;\n",
       "}\n",
       "\n",
       ".grid-container {\n",
       "    padding-top: 40px;\n",
       "    background: white;\n",
       "} </style>\n",
       "<script> /** vim: et:ts=4:sw=4:sts=4\n",
       " * @license RequireJS 2.3.6 Copyright jQuery Foundation and other contributors.\n",
       " * Released under MIT license, https://github.com/requirejs/requirejs/blob/master/LICENSE\n",
       " */\n",
       "var requirejs,require,define;!function(global,setTimeout){var req,s,head,baseElement,dataMain,src,interactiveScript,currentlyAddingScript,mainScript,subPath,version=\"2.3.6\",commentRegExp=/\\/\\*[\\s\\S]*?\\*\\/|([^:\"'=]|^)\\/\\/.*$/gm,cjsRequireRegExp=/[^.]\\s*require\\s*\\(\\s*[\"']([^'\"\\s]+)[\"']\\s*\\)/g,jsSuffixRegExp=/\\.js$/,currDirRegExp=/^\\.\\//,op=Object.prototype,ostring=op.toString,hasOwn=op.hasOwnProperty,isBrowser=!(\"undefined\"==typeof window||\"undefined\"==typeof navigator||!window.document),isWebWorker=!isBrowser&&\"undefined\"!=typeof importScripts,readyRegExp=isBrowser&&\"PLAYSTATION 3\"===navigator.platform?/^complete$/:/^(complete|loaded)$/,defContextName=\"_\",isOpera=\"undefined\"!=typeof opera&&\"[object Opera]\"===opera.toString(),contexts={},cfg={},globalDefQueue=[],useInteractive=!1;function commentReplace(e,t){return t||\"\"}function isFunction(e){return\"[object Function]\"===ostring.call(e)}function isArray(e){return\"[object Array]\"===ostring.call(e)}function each(e,t){var i;if(e)for(i=0;i<e.length&&(!e[i]||!t(e[i],i,e));i+=1);}function eachReverse(e,t){var i;if(e)for(i=e.length-1;-1<i&&(!e[i]||!t(e[i],i,e));i-=1);}function hasProp(e,t){return hasOwn.call(e,t)}function getOwn(e,t){return hasProp(e,t)&&e[t]}function eachProp(e,t){var i;for(i in e)if(hasProp(e,i)&&t(e[i],i))break}function mixin(i,e,r,n){return e&&eachProp(e,function(e,t){!r&&hasProp(i,t)||(!n||\"object\"!=typeof e||!e||isArray(e)||isFunction(e)||e instanceof RegExp?i[t]=e:(i[t]||(i[t]={}),mixin(i[t],e,r,n)))}),i}function bind(e,t){return function(){return t.apply(e,arguments)}}function scripts(){return document.getElementsByTagName(\"script\")}function defaultOnError(e){throw e}function getGlobal(e){if(!e)return e;var t=global;return each(e.split(\".\"),function(e){t=t[e]}),t}function makeError(e,t,i,r){var n=new Error(t+\"\\nhttps://requirejs.org/docs/errors.html#\"+e);return n.requireType=e,n.requireModules=r,i&&(n.originalError=i),n}if(void 0===define){if(void 0!==requirejs){if(isFunction(requirejs))return;cfg=requirejs,requirejs=void 0}void 0===require||isFunction(require)||(cfg=require,require=void 0),req=requirejs=function(e,t,i,r){var n,o,a=defContextName;return isArray(e)||\"string\"==typeof e||(o=e,isArray(t)?(e=t,t=i,i=r):e=[]),o&&o.context&&(a=o.context),(n=getOwn(contexts,a))||(n=contexts[a]=req.s.newContext(a)),o&&n.configure(o),n.require(e,t,i)},req.config=function(e){return req(e)},req.nextTick=void 0!==setTimeout?function(e){setTimeout(e,4)}:function(e){e()},require||(require=req),req.version=version,req.jsExtRegExp=/^\\/|:|\\?|\\.js$/,req.isBrowser=isBrowser,s=req.s={contexts:contexts,newContext:newContext},req({}),each([\"toUrl\",\"undef\",\"defined\",\"specified\"],function(t){req[t]=function(){var e=contexts[defContextName];return e.require[t].apply(e,arguments)}}),isBrowser&&(head=s.head=document.getElementsByTagName(\"head\")[0],baseElement=document.getElementsByTagName(\"base\")[0],baseElement&&(head=s.head=baseElement.parentNode)),req.onError=defaultOnError,req.createNode=function(e,t,i){var r=e.xhtml?document.createElementNS(\"http://www.w3.org/1999/xhtml\",\"html:script\"):document.createElement(\"script\");return r.type=e.scriptType||\"text/javascript\",r.charset=\"utf-8\",r.async=!0,r},req.load=function(t,i,r){var e,n=t&&t.config||{};if(isBrowser)return(e=req.createNode(n,i,r)).setAttribute(\"data-requirecontext\",t.contextName),e.setAttribute(\"data-requiremodule\",i),!e.attachEvent||e.attachEvent.toString&&e.attachEvent.toString().indexOf(\"[native code\")<0||isOpera?(e.addEventListener(\"load\",t.onScriptLoad,!1),e.addEventListener(\"error\",t.onScriptError,!1)):(useInteractive=!0,e.attachEvent(\"onreadystatechange\",t.onScriptLoad)),e.src=r,n.onNodeCreated&&n.onNodeCreated(e,n,i,r),currentlyAddingScript=e,baseElement?head.insertBefore(e,baseElement):head.appendChild(e),currentlyAddingScript=null,e;if(isWebWorker)try{setTimeout(function(){},0),importScripts(r),t.completeLoad(i)}catch(e){t.onError(makeError(\"importscripts\",\"importScripts failed for \"+i+\" at \"+r,e,[i]))}},isBrowser&&!cfg.skipDataMain&&eachReverse(scripts(),function(e){if(head||(head=e.parentNode),dataMain=e.getAttribute(\"data-main\"))return mainScript=dataMain,cfg.baseUrl||-1!==mainScript.indexOf(\"!\")||(mainScript=(src=mainScript.split(\"/\")).pop(),subPath=src.length?src.join(\"/\")+\"/\":\"./\",cfg.baseUrl=subPath),mainScript=mainScript.replace(jsSuffixRegExp,\"\"),req.jsExtRegExp.test(mainScript)&&(mainScript=dataMain),cfg.deps=cfg.deps?cfg.deps.concat(mainScript):[mainScript],!0}),define=function(e,i,t){var r,n;\"string\"!=typeof e&&(t=i,i=e,e=null),isArray(i)||(t=i,i=null),!i&&isFunction(t)&&(i=[],t.length&&(t.toString().replace(commentRegExp,commentReplace).replace(cjsRequireRegExp,function(e,t){i.push(t)}),i=(1===t.length?[\"require\"]:[\"require\",\"exports\",\"module\"]).concat(i))),useInteractive&&(r=currentlyAddingScript||getInteractiveScript())&&(e||(e=r.getAttribute(\"data-requiremodule\")),n=contexts[r.getAttribute(\"data-requirecontext\")]),n?(n.defQueue.push([e,i,t]),n.defQueueMap[e]=!0):globalDefQueue.push([e,i,t])},define.amd={jQuery:!0},req.exec=function(text){return eval(text)},req(cfg)}function newContext(u){var i,e,l,c,d,g={waitSeconds:7,baseUrl:\"./\",paths:{},bundles:{},pkgs:{},shim:{},config:{}},p={},f={},r={},h=[],m={},n={},v={},x=1,b=1;function q(e,t,i){var r,n,o,a,s,u,c,d,p,f,l=t&&t.split(\"/\"),h=g.map,m=h&&h[\"*\"];if(e&&(u=(e=e.split(\"/\")).length-1,g.nodeIdCompat&&jsSuffixRegExp.test(e[u])&&(e[u]=e[u].replace(jsSuffixRegExp,\"\")),\".\"===e[0].charAt(0)&&l&&(e=l.slice(0,l.length-1).concat(e)),function(e){var t,i;for(t=0;t<e.length;t++)if(\".\"===(i=e[t]))e.splice(t,1),t-=1;else if(\"..\"===i){if(0===t||1===t&&\"..\"===e[2]||\"..\"===e[t-1])continue;0<t&&(e.splice(t-1,2),t-=2)}}(e),e=e.join(\"/\")),i&&h&&(l||m)){e:for(o=(n=e.split(\"/\")).length;0<o;o-=1){if(s=n.slice(0,o).join(\"/\"),l)for(a=l.length;0<a;a-=1)if((r=getOwn(h,l.slice(0,a).join(\"/\")))&&(r=getOwn(r,s))){c=r,d=o;break e}!p&&m&&getOwn(m,s)&&(p=getOwn(m,s),f=o)}!c&&p&&(c=p,d=f),c&&(n.splice(0,d,c),e=n.join(\"/\"))}return getOwn(g.pkgs,e)||e}function E(t){isBrowser&&each(scripts(),function(e){if(e.getAttribute(\"data-requiremodule\")===t&&e.getAttribute(\"data-requirecontext\")===l.contextName)return e.parentNode.removeChild(e),!0})}function w(e){var t=getOwn(g.paths,e);if(t&&isArray(t)&&1<t.length)return t.shift(),l.require.undef(e),l.makeRequire(null,{skipMap:!0})([e]),!0}function y(e){var t,i=e?e.indexOf(\"!\"):-1;return-1<i&&(t=e.substring(0,i),e=e.substring(i+1,e.length)),[t,e]}function S(e,t,i,r){var n,o,a,s,u=null,c=t?t.name:null,d=e,p=!0,f=\"\";return e||(p=!1,e=\"_@r\"+(x+=1)),u=(s=y(e))[0],e=s[1],u&&(u=q(u,c,r),o=getOwn(m,u)),e&&(u?f=i?e:o&&o.normalize?o.normalize(e,function(e){return q(e,c,r)}):-1===e.indexOf(\"!\")?q(e,c,r):e:(u=(s=y(f=q(e,c,r)))[0],f=s[1],i=!0,n=l.nameToUrl(f))),{prefix:u,name:f,parentMap:t,unnormalized:!!(a=!u||o||i?\"\":\"_unnormalized\"+(b+=1)),url:n,originalName:d,isDefine:p,id:(u?u+\"!\"+f:f)+a}}function k(e){var t=e.id,i=getOwn(p,t);return i||(i=p[t]=new l.Module(e)),i}function M(e,t,i){var r=e.id,n=getOwn(p,r);!hasProp(m,r)||n&&!n.defineEmitComplete?(n=k(e)).error&&\"error\"===t?i(n.error):n.on(t,i):\"defined\"===t&&i(m[r])}function O(i,e){var t=i.requireModules,r=!1;e?e(i):(each(t,function(e){var t=getOwn(p,e);t&&(t.error=i,t.events.error&&(r=!0,t.emit(\"error\",i)))}),r||req.onError(i))}function j(){globalDefQueue.length&&(each(globalDefQueue,function(e){var t=e[0];\"string\"==typeof t&&(l.defQueueMap[t]=!0),h.push(e)}),globalDefQueue=[])}function P(e){delete p[e],delete f[e]}function R(){var e,r,t=1e3*g.waitSeconds,n=t&&l.startTime+t<(new Date).getTime(),o=[],a=[],s=!1,u=!0;if(!i){if(i=!0,eachProp(f,function(e){var t=e.map,i=t.id;if(e.enabled&&(t.isDefine||a.push(e),!e.error))if(!e.inited&&n)w(i)?s=r=!0:(o.push(i),E(i));else if(!e.inited&&e.fetched&&t.isDefine&&(s=!0,!t.prefix))return u=!1}),n&&o.length)return(e=makeError(\"timeout\",\"Load timeout for modules: \"+o,null,o)).contextName=l.contextName,O(e);u&&each(a,function(e){!function n(o,a,s){var e=o.map.id;o.error?o.emit(\"error\",o.error):(a[e]=!0,each(o.depMaps,function(e,t){var i=e.id,r=getOwn(p,i);!r||o.depMatched[t]||s[i]||(getOwn(a,i)?(o.defineDep(t,m[i]),o.check()):n(r,a,s))}),s[e]=!0)}(e,{},{})}),n&&!r||!s||!isBrowser&&!isWebWorker||d||(d=setTimeout(function(){d=0,R()},50)),i=!1}}function a(e){hasProp(m,e[0])||k(S(e[0],null,!0)).init(e[1],e[2])}function o(e,t,i,r){e.detachEvent&&!isOpera?r&&e.detachEvent(r,t):e.removeEventListener(i,t,!1)}function s(e){var t=e.currentTarget||e.srcElement;return o(t,l.onScriptLoad,\"load\",\"onreadystatechange\"),o(t,l.onScriptError,\"error\"),{node:t,id:t&&t.getAttribute(\"data-requiremodule\")}}function T(){var e;for(j();h.length;){if(null===(e=h.shift())[0])return O(makeError(\"mismatch\",\"Mismatched anonymous define() module: \"+e[e.length-1]));a(e)}l.defQueueMap={}}return c={require:function(e){return e.require?e.require:e.require=l.makeRequire(e.map)},exports:function(e){if(e.usingExports=!0,e.map.isDefine)return e.exports?m[e.map.id]=e.exports:e.exports=m[e.map.id]={}},module:function(e){return e.module?e.module:e.module={id:e.map.id,uri:e.map.url,config:function(){return getOwn(g.config,e.map.id)||{}},exports:e.exports||(e.exports={})}}},(e=function(e){this.events=getOwn(r,e.id)||{},this.map=e,this.shim=getOwn(g.shim,e.id),this.depExports=[],this.depMaps=[],this.depMatched=[],this.pluginMaps={},this.depCount=0}).prototype={init:function(e,t,i,r){r=r||{},this.inited||(this.factory=t,i?this.on(\"error\",i):this.events.error&&(i=bind(this,function(e){this.emit(\"error\",e)})),this.depMaps=e&&e.slice(0),this.errback=i,this.inited=!0,this.ignore=r.ignore,r.enabled||this.enabled?this.enable():this.check())},defineDep:function(e,t){this.depMatched[e]||(this.depMatched[e]=!0,this.depCount-=1,this.depExports[e]=t)},fetch:function(){if(!this.fetched){this.fetched=!0,l.startTime=(new Date).getTime();var e=this.map;if(!this.shim)return e.prefix?this.callPlugin():this.load();l.makeRequire(this.map,{enableBuildCallback:!0})(this.shim.deps||[],bind(this,function(){return e.prefix?this.callPlugin():this.load()}))}},load:function(){var e=this.map.url;n[e]||(n[e]=!0,l.load(this.map.id,e))},check:function(){if(this.enabled&&!this.enabling){var t,e,i=this.map.id,r=this.depExports,n=this.exports,o=this.factory;if(this.inited){if(this.error)this.emit(\"error\",this.error);else if(!this.defining){if(this.defining=!0,this.depCount<1&&!this.defined){if(isFunction(o)){if(this.events.error&&this.map.isDefine||req.onError!==defaultOnError)try{n=l.execCb(i,o,r,n)}catch(e){t=e}else n=l.execCb(i,o,r,n);if(this.map.isDefine&&void 0===n&&((e=this.module)?n=e.exports:this.usingExports&&(n=this.exports)),t)return t.requireMap=this.map,t.requireModules=this.map.isDefine?[this.map.id]:null,t.requireType=this.map.isDefine?\"define\":\"require\",O(this.error=t)}else n=o;if(this.exports=n,this.map.isDefine&&!this.ignore&&(m[i]=n,req.onResourceLoad)){var a=[];each(this.depMaps,function(e){a.push(e.normalizedMap||e)}),req.onResourceLoad(l,this.map,a)}P(i),this.defined=!0}this.defining=!1,this.defined&&!this.defineEmitted&&(this.defineEmitted=!0,this.emit(\"defined\",this.exports),this.defineEmitComplete=!0)}}else hasProp(l.defQueueMap,i)||this.fetch()}},callPlugin:function(){var u=this.map,c=u.id,e=S(u.prefix);this.depMaps.push(e),M(e,\"defined\",bind(this,function(e){var o,t,i,r=getOwn(v,this.map.id),n=this.map.name,a=this.map.parentMap?this.map.parentMap.name:null,s=l.makeRequire(u.parentMap,{enableBuildCallback:!0});return this.map.unnormalized?(e.normalize&&(n=e.normalize(n,function(e){return q(e,a,!0)})||\"\"),M(t=S(u.prefix+\"!\"+n,this.map.parentMap,!0),\"defined\",bind(this,function(e){this.map.normalizedMap=t,this.init([],function(){return e},null,{enabled:!0,ignore:!0})})),void((i=getOwn(p,t.id))&&(this.depMaps.push(t),this.events.error&&i.on(\"error\",bind(this,function(e){this.emit(\"error\",e)})),i.enable()))):r?(this.map.url=l.nameToUrl(r),void this.load()):((o=bind(this,function(e){this.init([],function(){return e},null,{enabled:!0})})).error=bind(this,function(e){this.inited=!0,(this.error=e).requireModules=[c],eachProp(p,function(e){0===e.map.id.indexOf(c+\"_unnormalized\")&&P(e.map.id)}),O(e)}),o.fromText=bind(this,function(e,t){var i=u.name,r=S(i),n=useInteractive;t&&(e=t),n&&(useInteractive=!1),k(r),hasProp(g.config,c)&&(g.config[i]=g.config[c]);try{req.exec(e)}catch(e){return O(makeError(\"fromtexteval\",\"fromText eval for \"+c+\" failed: \"+e,e,[c]))}n&&(useInteractive=!0),this.depMaps.push(r),l.completeLoad(i),s([i],o)}),void e.load(u.name,s,o,g))})),l.enable(e,this),this.pluginMaps[e.id]=e},enable:function(){(f[this.map.id]=this).enabled=!0,this.enabling=!0,each(this.depMaps,bind(this,function(e,t){var i,r,n;if(\"string\"==typeof e){if(e=S(e,this.map.isDefine?this.map:this.map.parentMap,!1,!this.skipMap),this.depMaps[t]=e,n=getOwn(c,e.id))return void(this.depExports[t]=n(this));this.depCount+=1,M(e,\"defined\",bind(this,function(e){this.undefed||(this.defineDep(t,e),this.check())})),this.errback?M(e,\"error\",bind(this,this.errback)):this.events.error&&M(e,\"error\",bind(this,function(e){this.emit(\"error\",e)}))}i=e.id,r=p[i],hasProp(c,i)||!r||r.enabled||l.enable(e,this)})),eachProp(this.pluginMaps,bind(this,function(e){var t=getOwn(p,e.id);t&&!t.enabled&&l.enable(e,this)})),this.enabling=!1,this.check()},on:function(e,t){var i=this.events[e];i||(i=this.events[e]=[]),i.push(t)},emit:function(e,t){each(this.events[e],function(e){e(t)}),\"error\"===e&&delete this.events[e]}},(l={config:g,contextName:u,registry:p,defined:m,urlFetched:n,defQueue:h,defQueueMap:{},Module:e,makeModuleMap:S,nextTick:req.nextTick,onError:O,configure:function(e){if(e.baseUrl&&\"/\"!==e.baseUrl.charAt(e.baseUrl.length-1)&&(e.baseUrl+=\"/\"),\"string\"==typeof e.urlArgs){var i=e.urlArgs;e.urlArgs=function(e,t){return(-1===t.indexOf(\"?\")?\"?\":\"&\")+i}}var r=g.shim,n={paths:!0,bundles:!0,config:!0,map:!0};eachProp(e,function(e,t){n[t]?(g[t]||(g[t]={}),mixin(g[t],e,!0,!0)):g[t]=e}),e.bundles&&eachProp(e.bundles,function(e,t){each(e,function(e){e!==t&&(v[e]=t)})}),e.shim&&(eachProp(e.shim,function(e,t){isArray(e)&&(e={deps:e}),!e.exports&&!e.init||e.exportsFn||(e.exportsFn=l.makeShimExports(e)),r[t]=e}),g.shim=r),e.packages&&each(e.packages,function(e){var t;t=(e=\"string\"==typeof e?{name:e}:e).name,e.location&&(g.paths[t]=e.location),g.pkgs[t]=e.name+\"/\"+(e.main||\"main\").replace(currDirRegExp,\"\").replace(jsSuffixRegExp,\"\")}),eachProp(p,function(e,t){e.inited||e.map.unnormalized||(e.map=S(t,null,!0))}),(e.deps||e.callback)&&l.require(e.deps||[],e.callback)},makeShimExports:function(t){return function(){var e;return t.init&&(e=t.init.apply(global,arguments)),e||t.exports&&getGlobal(t.exports)}},makeRequire:function(o,a){function s(e,t,i){var r,n;return a.enableBuildCallback&&t&&isFunction(t)&&(t.__requireJsBuild=!0),\"string\"==typeof e?isFunction(t)?O(makeError(\"requireargs\",\"Invalid require call\"),i):o&&hasProp(c,e)?c[e](p[o.id]):req.get?req.get(l,e,o,s):(r=S(e,o,!1,!0).id,hasProp(m,r)?m[r]:O(makeError(\"notloaded\",'Module name \"'+r+'\" has not been loaded yet for context: '+u+(o?\"\":\". Use require([])\")))):(T(),l.nextTick(function(){T(),(n=k(S(null,o))).skipMap=a.skipMap,n.init(e,t,i,{enabled:!0}),R()}),s)}return a=a||{},mixin(s,{isBrowser:isBrowser,toUrl:function(e){var t,i=e.lastIndexOf(\".\"),r=e.split(\"/\")[0];return-1!==i&&(!(\".\"===r||\"..\"===r)||1<i)&&(t=e.substring(i,e.length),e=e.substring(0,i)),l.nameToUrl(q(e,o&&o.id,!0),t,!0)},defined:function(e){return hasProp(m,S(e,o,!1,!0).id)},specified:function(e){return e=S(e,o,!1,!0).id,hasProp(m,e)||hasProp(p,e)}}),o||(s.undef=function(i){j();var e=S(i,o,!0),t=getOwn(p,i);t.undefed=!0,E(i),delete m[i],delete n[e.url],delete r[i],eachReverse(h,function(e,t){e[0]===i&&h.splice(t,1)}),delete l.defQueueMap[i],t&&(t.events.defined&&(r[i]=t.events),P(i))}),s},enable:function(e){getOwn(p,e.id)&&k(e).enable()},completeLoad:function(e){var t,i,r,n=getOwn(g.shim,e)||{},o=n.exports;for(j();h.length;){if(null===(i=h.shift())[0]){if(i[0]=e,t)break;t=!0}else i[0]===e&&(t=!0);a(i)}if(l.defQueueMap={},r=getOwn(p,e),!t&&!hasProp(m,e)&&r&&!r.inited){if(!(!g.enforceDefine||o&&getGlobal(o)))return w(e)?void 0:O(makeError(\"nodefine\",\"No define call for \"+e,null,[e]));a([e,n.deps||[],n.exportsFn])}R()},nameToUrl:function(e,t,i){var r,n,o,a,s,u,c=getOwn(g.pkgs,e);if(c&&(e=c),u=getOwn(v,e))return l.nameToUrl(u,t,i);if(req.jsExtRegExp.test(e))a=e+(t||\"\");else{for(r=g.paths,o=(n=e.split(\"/\")).length;0<o;o-=1)if(s=getOwn(r,n.slice(0,o).join(\"/\"))){isArray(s)&&(s=s[0]),n.splice(0,o,s);break}a=n.join(\"/\"),a=(\"/\"===(a+=t||(/^data\\:|^blob\\:|\\?/.test(a)||i?\"\":\".js\")).charAt(0)||a.match(/^[\\w\\+\\.\\-]+:/)?\"\":g.baseUrl)+a}return g.urlArgs&&!/^blob\\:/.test(a)?a+g.urlArgs(e,a):a},load:function(e,t){req.load(l,e,t)},execCb:function(e,t,i,r){return t.apply(r,i)},onScriptLoad:function(e){if(\"load\"===e.type||readyRegExp.test((e.currentTarget||e.srcElement).readyState)){interactiveScript=null;var t=s(e);l.completeLoad(t.id)}},onScriptError:function(e){var i=s(e);if(!w(i.id)){var r=[];return eachProp(p,function(e,t){0!==t.indexOf(\"_@r\")&&each(e.depMaps,function(e){if(e.id===i.id)return r.push(t),!0})}),O(makeError(\"scripterror\",'Script error for \"'+i.id+(r.length?'\", needed by: '+r.join(\", \"):'\"'),e,[i.id]))}}}).require=l.makeRequire(),l}function getInteractiveScript(){return interactiveScript&&\"interactive\"===interactiveScript.readyState||eachReverse(scripts(),function(e){if(\"interactive\"===e.readyState)return interactiveScript=e}),interactiveScript}}(this,\"undefined\"==typeof setTimeout?void 0:setTimeout); </script>\n",
       "<script>\n",
       " require.config({\n",
       "   paths: {\n",
       "     'plotly': \"https://cdn.plot.ly/plotly-latest.min\",\n",
       "     'macy': \"https://cdn.jsdelivr.net/npm/macy@2.5.1/dist/macy.min\",\n",
       "     'merge': \"https://unpkg.com/merge-images@2.0.0/dist/index.umd\"\n",
       "   },\n",
       " })\n",
       "require( ['plotly', 'macy', 'merge'], function(Plotly, Macy, mergeImages) {\n",
       " window.Plotly = Plotly;\n",
       " window.Macy = Macy;\n",
       " window.mergeImages = mergeImages;\n",
       "})\n",
       "</script>\n"
      ]
     },
     "metadata": {},
     "output_type": "display_data"
    },
    {
     "data": {
      "text/plain": [
       "\u001b[32mimport \u001b[39m\u001b[36morg.carbonateresearch.picta.render.Html.initNotebook // required to initialize jupyter notebook mode\n",
       "\u001b[39m"
      ]
     },
     "execution_count": 3,
     "metadata": {},
     "output_type": "execute_result"
    }
   ],
   "source": [
    "import org.carbonateresearch.picta.render.Html.initNotebook // required to initialize jupyter notebook mode\n",
    "initNotebook() // stops ugly output"
   ]
  },
  {
   "cell_type": "markdown",
   "metadata": {},
   "source": [
    "# 1. Basics\n",
    "\n",
    "The aim of the Picta library is to be a highly configurable and composable charting library for data exploration. The library takes a grammatical approach to chart construction. \n",
    "\n",
    "The following examples are aimed at demonstrating the libraries capabilities, and eventually make constructing charts using this library easy and intuitive."
   ]
  },
  {
   "cell_type": "markdown",
   "metadata": {},
   "source": [
    "### Main Components\n",
    "\n",
    "Picta graphs are constructed in a modular manner. The main components are:\n",
    "\n",
    "1. `Canvas`: This is is the top-level component for representing the display. A `Canvas` may consist of multiple charts.\n",
    "\n",
    "\n",
    "2. `Chart`: This is the component that corresponds to an actual chart (i.e. scatter, pie etc).\n",
    "\n",
    "\n",
    "3. `Series`: This is the data series that is plotted on a `Chart`. `Series` come in 3 types:\n",
    "\n",
    "    - `XY`:   This is series data for constructing a 2D chart\n",
    "    - `XYZ`:  This is series data for constructing a 3D chart\n",
    "    - `Map`:  This is series data that constructs a Map chart\n",
    "    \n",
    "\n",
    "4. `ChartLayout`: This configures various parts of how the `Chart` is represented on screen.\n",
    "\n",
    "`Chart` may occassionally also make use of the `Config` component for further configuration. `Config` specifies whether the plot is responsive.\n",
    "\n",
    "The following examples in this notebook should provide a number of interactive examples to get used to the Picta library."
   ]
  },
  {
   "cell_type": "markdown",
   "metadata": {},
   "source": [
    "### Importing the Library\n",
    "\n",
    "Importing as below should bring in the most frequently used Components in the library."
   ]
  },
  {
   "cell_type": "code",
   "execution_count": 4,
   "metadata": {},
   "outputs": [],
   "source": [
    "import org.carbonateresearch.picta._"
   ]
  },
  {
   "cell_type": "markdown",
   "metadata": {},
   "source": [
    "### Create Some Dummy Data to Use in the Examples\n",
    "\n",
    "Here we create some dummy data to be used in the examples for this notebook."
   ]
  },
  {
   "cell_type": "code",
   "execution_count": 5,
   "metadata": {},
   "outputs": [],
   "source": [
    "val x = List.range(0, 100).map(x => scala.util.Random.nextDouble() * 50)\n",
    "val y = List.range(0, 100).map(x => scala.util.Random.nextDouble() * 50)\n",
    "val z = List.range(0, 100).map(x => scala.util.Random.nextDouble() * 50)"
   ]
  },
  {
   "cell_type": "markdown",
   "metadata": {},
   "source": [
    "### 2D Plots\n",
    "\n",
    "`Series` that represent 2D data are represented by `XY` series types.\n",
    "\n",
    "\n",
    "#### Scatter Plot\n",
    "\n",
    "An example `Scatter` plot is below. \n",
    "\n",
    "Note: This is just one way to call the library functions. Another way that uses function chaining will be shown immediately after this example."
   ]
  },
  {
   "cell_type": "code",
   "execution_count": 6,
   "metadata": {},
   "outputs": [
    {
     "data": {
      "text/html": [
       "<div id=\"grid-container_oouOkO8HUC\" class=\"grid-container\" align=\"center\"> \n",
       "<div id=\"grid_oouOkO8HUC\" class=\"grid\" align=\"center\"> \n",
       "<div id=\"graph_n63FDtgRfW\" class=\"graph\"></div> \n",
       "</div> \n",
       "</div> \n",
       "<script>\n",
       "var masonry = new Macy({\n",
       "    container: '#grid_oouOkO8HUC',\n",
       "    debug: true,\n",
       "    mobileFirst: true,\n",
       "    columns: 1,\n",
       "    margin: {\n",
       "        x: 0,\n",
       "        y: 0\n",
       "    }\n",
       "  });\n",
       "\n",
       "  var traces_n63FDtgRfW = [{\"name\":\"aPoQqBoWzs\",\"type\":\"scatter\",\"mode\":\"markers\",\"x\":[46.65361210924649,39.383854551906445,6.3934516955064415,41.58075781115597,26.97375582794309,48.10770681950679,5.2869630143912385,8.29272720040713,15.053905898498792,24.30652735020875,32.93853948989975,6.187415230185605,4.073598126343391,30.428536297303598,12.098667520021861,22.604681002734793,0.6063479928499538,15.969826476865274,17.523835733723757,31.41302418966362,15.420649064721943,24.00403106682164,24.428601261181203,39.63222447160399,9.694259464555705,24.140076923565434,37.76979682306566,1.729333647146225,40.70459380944891,49.283811320831155,8.852457464582503,46.273378889529845,43.489657788627504,43.901555989490866,4.5848989581618484,12.612659445113067,22.718108229216377,19.618427060582878,23.860816752954566,31.02952912289836,12.063682660669118,9.931489126535226,5.009120516002258,48.43108078650328,36.748342292020425,19.57762322786312,38.027638701903484,3.0501539463799245,38.60016369893267,25.668217486775514,35.40471440674533,35.859603008183456,41.966095468741464,7.087564985222528,25.733082164111572,43.44379921355085,3.1264064800600897,5.8491316194695555,15.033342812156475,26.924822286601685,45.476724178076196,9.113605018798232,11.729709715883068,24.206839286864167,37.67525044744053,33.394910071764436,32.55861336293455,28.280678015036198,22.19686545226444,43.115143631975585,48.34113176731093,42.62160510893004,47.29246210313363,44.11663983152613,40.513099956480886,5.81685121096362,46.22101946606727,8.999145250386686,21.5821654351127,31.475435876646674,43.80353080586338,15.22236518958463,25.26890701601407,6.201353342233085,1.842071010620533,8.798867694427331,44.98956781722904,17.952209230813253,41.753922017864795,46.09965052797274,42.55082500232733,49.45889634059679,4.889795907381461,13.804389819002443,12.45238933843978,16.54793039209489,28.436863146197677,32.350699513633316,21.031165408884878,9.186580368173558],\"y\":[27.551427600914913,11.371465191946161,43.83104145129067,3.8619191372225083,32.42270601796783,46.55659571507645,49.04531299327025,9.508481537228464,32.33834743460146,26.13529895922675,19.65410536260524,35.61517839905914,27.503945232889464,1.7472462370097697,21.967067456934902,30.370686207128696,33.36294069293026,22.855782646433926,13.681979422636099,28.747494932815403,21.469948726086933,36.05355725510716,40.28284697145972,25.27835219621365,15.589709854136014,10.620768770968624,44.62639370977544,43.944839068239254,41.62545780535696,19.5184405548036,10.903797823600497,18.07633347415572,5.224690489604367,30.6339375232972,30.8148846050016,16.44862404834675,41.46692975959578,46.54318405410083,16.754885930091344,7.874966181413995,46.90722660860517,22.31381690259336,44.089270927497296,45.49838564152517,15.430776204792895,39.94576716034896,32.180027532993094,23.72253801272533,5.868190000326151,24.930533524574926,21.727198721113705,15.259455566091473,21.12756616647683,5.107675920201532,24.2023180627543,33.12604216399612,25.71868360796006,34.50682829223955,7.67583016325738,32.58716967009879,20.976249672717483,35.185776088438374,42.1784369688686,21.021750918055403,35.03329970324369,48.20993687157719,6.886717981371265,29.479199679164115,17.652469738983562,30.865824034298665,10.886266271141343,18.297177658607072,8.392005306227562,40.96086059479584,49.04094569146426,40.56755057269704,20.265029322301558,10.634153121922003,4.5848129249071,21.466005973738078,0.04469842405527835,31.487618419912643,20.453585102144217,28.501789677031823,40.67455914680185,0.044120326417212974,42.08547163562404,7.597520738178925,30.86251388652507,7.549023078111233,35.446539105150976,42.575087906332826,31.868473467195184,0.9538615254986171,5.373708902960983,11.102126913724847,21.73992868520591,42.55555825414323,30.97883199918612,8.444600869285335]}];\n",
       " var layout_n63FDtgRfW = {\"height\":550,\"width\":600,\"hovermode\":\"closest\",\"title\":{\"text\":\"First Chart\"},\"showlegend\":true};\n",
       " var config_n63FDtgRfW = {\"responsive\":true,\"scrollZoom\":true,\"displaylogo\":false};\n",
       " Plotly.newPlot(\"graph_n63FDtgRfW\", traces_n63FDtgRfW, layout_n63FDtgRfW, config_n63FDtgRfW);\n",
       "</script> \n"
      ]
     },
     "metadata": {},
     "output_type": "display_data"
    }
   ],
   "source": [
    "// create the data series using the data from above\n",
    "// 'asType SCATTER' transforms the series into a scatter chart\n",
    "// 'drawStyle Markers' specifies the style of the markers the chart should have\n",
    "// if a name is not provided to the series, Picta generates a random name to help keep track of the series in charts\n",
    "// multiple series.\n",
    "val series = XY(x, y) asType SCATTER drawStyle MARKERS\n",
    "\n",
    "// create a chart by adding to it a data series. We set the title as 'First Chart'\n",
    "val chart = Chart() addSeries series setTitle \"First Chart\"\n",
    "\n",
    "// if we have a single chart, then we do not need to use the Canvas and can simply call chart.plot\n",
    "chart.plotInline"
   ]
  },
  {
   "cell_type": "markdown",
   "metadata": {},
   "source": [
    "### Simple costumization\n",
    "This plot is nice, but could use some simple costumization to make it more attractive. First, the data series does not have a name and so the legend come with a generated arbitrary name (not very useful). Second, the X and Y axis don't have labels. Let's fix that."
   ]
  },
  {
   "cell_type": "code",
   "execution_count": 7,
   "metadata": {},
   "outputs": [
    {
     "data": {
      "text/html": [
       "<div id=\"grid-container_YircJehWEj\" class=\"grid-container\" align=\"center\"> \n",
       "<div id=\"grid_YircJehWEj\" class=\"grid\" align=\"center\"> \n",
       "<div id=\"graph_AEhlCY6EvM\" class=\"graph\"></div> \n",
       "</div> \n",
       "</div> \n",
       "<script>\n",
       "var masonry = new Macy({\n",
       "    container: '#grid_YircJehWEj',\n",
       "    debug: true,\n",
       "    mobileFirst: true,\n",
       "    columns: 1,\n",
       "    margin: {\n",
       "        x: 0,\n",
       "        y: 0\n",
       "    }\n",
       "  });\n",
       "\n",
       "  var traces_AEhlCY6EvM = [{\"name\":\"x vs y\",\"type\":\"scatter\",\"mode\":\"markers\",\"x\":[46.65361210924649,39.383854551906445,6.3934516955064415,41.58075781115597,26.97375582794309,48.10770681950679,5.2869630143912385,8.29272720040713,15.053905898498792,24.30652735020875,32.93853948989975,6.187415230185605,4.073598126343391,30.428536297303598,12.098667520021861,22.604681002734793,0.6063479928499538,15.969826476865274,17.523835733723757,31.41302418966362,15.420649064721943,24.00403106682164,24.428601261181203,39.63222447160399,9.694259464555705,24.140076923565434,37.76979682306566,1.729333647146225,40.70459380944891,49.283811320831155,8.852457464582503,46.273378889529845,43.489657788627504,43.901555989490866,4.5848989581618484,12.612659445113067,22.718108229216377,19.618427060582878,23.860816752954566,31.02952912289836,12.063682660669118,9.931489126535226,5.009120516002258,48.43108078650328,36.748342292020425,19.57762322786312,38.027638701903484,3.0501539463799245,38.60016369893267,25.668217486775514,35.40471440674533,35.859603008183456,41.966095468741464,7.087564985222528,25.733082164111572,43.44379921355085,3.1264064800600897,5.8491316194695555,15.033342812156475,26.924822286601685,45.476724178076196,9.113605018798232,11.729709715883068,24.206839286864167,37.67525044744053,33.394910071764436,32.55861336293455,28.280678015036198,22.19686545226444,43.115143631975585,48.34113176731093,42.62160510893004,47.29246210313363,44.11663983152613,40.513099956480886,5.81685121096362,46.22101946606727,8.999145250386686,21.5821654351127,31.475435876646674,43.80353080586338,15.22236518958463,25.26890701601407,6.201353342233085,1.842071010620533,8.798867694427331,44.98956781722904,17.952209230813253,41.753922017864795,46.09965052797274,42.55082500232733,49.45889634059679,4.889795907381461,13.804389819002443,12.45238933843978,16.54793039209489,28.436863146197677,32.350699513633316,21.031165408884878,9.186580368173558],\"y\":[27.551427600914913,11.371465191946161,43.83104145129067,3.8619191372225083,32.42270601796783,46.55659571507645,49.04531299327025,9.508481537228464,32.33834743460146,26.13529895922675,19.65410536260524,35.61517839905914,27.503945232889464,1.7472462370097697,21.967067456934902,30.370686207128696,33.36294069293026,22.855782646433926,13.681979422636099,28.747494932815403,21.469948726086933,36.05355725510716,40.28284697145972,25.27835219621365,15.589709854136014,10.620768770968624,44.62639370977544,43.944839068239254,41.62545780535696,19.5184405548036,10.903797823600497,18.07633347415572,5.224690489604367,30.6339375232972,30.8148846050016,16.44862404834675,41.46692975959578,46.54318405410083,16.754885930091344,7.874966181413995,46.90722660860517,22.31381690259336,44.089270927497296,45.49838564152517,15.430776204792895,39.94576716034896,32.180027532993094,23.72253801272533,5.868190000326151,24.930533524574926,21.727198721113705,15.259455566091473,21.12756616647683,5.107675920201532,24.2023180627543,33.12604216399612,25.71868360796006,34.50682829223955,7.67583016325738,32.58716967009879,20.976249672717483,35.185776088438374,42.1784369688686,21.021750918055403,35.03329970324369,48.20993687157719,6.886717981371265,29.479199679164115,17.652469738983562,30.865824034298665,10.886266271141343,18.297177658607072,8.392005306227562,40.96086059479584,49.04094569146426,40.56755057269704,20.265029322301558,10.634153121922003,4.5848129249071,21.466005973738078,0.04469842405527835,31.487618419912643,20.453585102144217,28.501789677031823,40.67455914680185,0.044120326417212974,42.08547163562404,7.597520738178925,30.86251388652507,7.549023078111233,35.446539105150976,42.575087906332826,31.868473467195184,0.9538615254986171,5.373708902960983,11.102126913724847,21.73992868520591,42.55555825414323,30.97883199918612,8.444600869285335]}];\n",
       " var layout_AEhlCY6EvM = {\"height\":550,\"width\":600,\"hovermode\":\"closest\",\"title\":{\"text\":\"Chart with custom axis and label\"},\"showlegend\":true,\"xaxis\":{\"title\":{\"text\":\"X values\"},\"showgrid\":true,\"zeroline\":false,\"showline\":false},\"yaxis\":{\"title\":{\"text\":\"Y values\"},\"showgrid\":true,\"zeroline\":false,\"showline\":false}};\n",
       " var config_AEhlCY6EvM = {\"responsive\":true,\"scrollZoom\":true,\"displaylogo\":false};\n",
       " Plotly.newPlot(\"graph_AEhlCY6EvM\", traces_AEhlCY6EvM, layout_AEhlCY6EvM, config_AEhlCY6EvM);\n",
       "</script> \n"
      ]
     },
     "metadata": {},
     "output_type": "display_data"
    }
   ],
   "source": [
    "val series = XY(x, y) asType SCATTER drawStyle MARKERS setName(\"x vs y\") // Using 'setName' gives a name to our series \n",
    "\n",
    "// Note the use of the setXAxisTitle and setYAxisTitle compared to above\n",
    "val chart = Chart() addSeries series setTitle \"Chart with custom axis and label\" setXAxisTitle(\"X values\") setYAxisTitle(\"Y values\")\n",
    "\n",
    "chart.plotInline"
   ]
  },
  {
   "cell_type": "markdown",
   "metadata": {},
   "source": [
    "#### Chaining Functions using the '.dot' notation\n",
    "\n",
    "Sometimes when we are specifying many options, it is quicker to use the IDE autocomplete and just chain the function calls using the familiar '.dot' notation. Throughout this book both the style above and the function chaining style will be used as and when convenient."
   ]
  },
  {
   "cell_type": "code",
   "execution_count": 8,
   "metadata": {},
   "outputs": [
    {
     "data": {
      "text/html": [
       "<div id=\"grid-container_U1FiaC6tLD\" class=\"grid-container\" align=\"center\"> \n",
       "<div id=\"grid_U1FiaC6tLD\" class=\"grid\" align=\"center\"> \n",
       "<div id=\"graph_ZyUOheYXsU\" class=\"graph\"></div> \n",
       "</div> \n",
       "</div> \n",
       "<script>\n",
       "var masonry = new Macy({\n",
       "    container: '#grid_U1FiaC6tLD',\n",
       "    debug: true,\n",
       "    mobileFirst: true,\n",
       "    columns: 1,\n",
       "    margin: {\n",
       "        x: 0,\n",
       "        y: 0\n",
       "    }\n",
       "  });\n",
       "\n",
       "  var traces_ZyUOheYXsU = [{\"name\":\"Chained xy\",\"type\":\"scatter\",\"mode\":\"markers\",\"x\":[46.65361210924649,39.383854551906445,6.3934516955064415,41.58075781115597,26.97375582794309,48.10770681950679,5.2869630143912385,8.29272720040713,15.053905898498792,24.30652735020875,32.93853948989975,6.187415230185605,4.073598126343391,30.428536297303598,12.098667520021861,22.604681002734793,0.6063479928499538,15.969826476865274,17.523835733723757,31.41302418966362,15.420649064721943,24.00403106682164,24.428601261181203,39.63222447160399,9.694259464555705,24.140076923565434,37.76979682306566,1.729333647146225,40.70459380944891,49.283811320831155,8.852457464582503,46.273378889529845,43.489657788627504,43.901555989490866,4.5848989581618484,12.612659445113067,22.718108229216377,19.618427060582878,23.860816752954566,31.02952912289836,12.063682660669118,9.931489126535226,5.009120516002258,48.43108078650328,36.748342292020425,19.57762322786312,38.027638701903484,3.0501539463799245,38.60016369893267,25.668217486775514,35.40471440674533,35.859603008183456,41.966095468741464,7.087564985222528,25.733082164111572,43.44379921355085,3.1264064800600897,5.8491316194695555,15.033342812156475,26.924822286601685,45.476724178076196,9.113605018798232,11.729709715883068,24.206839286864167,37.67525044744053,33.394910071764436,32.55861336293455,28.280678015036198,22.19686545226444,43.115143631975585,48.34113176731093,42.62160510893004,47.29246210313363,44.11663983152613,40.513099956480886,5.81685121096362,46.22101946606727,8.999145250386686,21.5821654351127,31.475435876646674,43.80353080586338,15.22236518958463,25.26890701601407,6.201353342233085,1.842071010620533,8.798867694427331,44.98956781722904,17.952209230813253,41.753922017864795,46.09965052797274,42.55082500232733,49.45889634059679,4.889795907381461,13.804389819002443,12.45238933843978,16.54793039209489,28.436863146197677,32.350699513633316,21.031165408884878,9.186580368173558],\"y\":[27.551427600914913,11.371465191946161,43.83104145129067,3.8619191372225083,32.42270601796783,46.55659571507645,49.04531299327025,9.508481537228464,32.33834743460146,26.13529895922675,19.65410536260524,35.61517839905914,27.503945232889464,1.7472462370097697,21.967067456934902,30.370686207128696,33.36294069293026,22.855782646433926,13.681979422636099,28.747494932815403,21.469948726086933,36.05355725510716,40.28284697145972,25.27835219621365,15.589709854136014,10.620768770968624,44.62639370977544,43.944839068239254,41.62545780535696,19.5184405548036,10.903797823600497,18.07633347415572,5.224690489604367,30.6339375232972,30.8148846050016,16.44862404834675,41.46692975959578,46.54318405410083,16.754885930091344,7.874966181413995,46.90722660860517,22.31381690259336,44.089270927497296,45.49838564152517,15.430776204792895,39.94576716034896,32.180027532993094,23.72253801272533,5.868190000326151,24.930533524574926,21.727198721113705,15.259455566091473,21.12756616647683,5.107675920201532,24.2023180627543,33.12604216399612,25.71868360796006,34.50682829223955,7.67583016325738,32.58716967009879,20.976249672717483,35.185776088438374,42.1784369688686,21.021750918055403,35.03329970324369,48.20993687157719,6.886717981371265,29.479199679164115,17.652469738983562,30.865824034298665,10.886266271141343,18.297177658607072,8.392005306227562,40.96086059479584,49.04094569146426,40.56755057269704,20.265029322301558,10.634153121922003,4.5848129249071,21.466005973738078,0.04469842405527835,31.487618419912643,20.453585102144217,28.501789677031823,40.67455914680185,0.044120326417212974,42.08547163562404,7.597520738178925,30.86251388652507,7.549023078111233,35.446539105150976,42.575087906332826,31.868473467195184,0.9538615254986171,5.373708902960983,11.102126913724847,21.73992868520591,42.55555825414323,30.97883199918612,8.444600869285335]}];\n",
       " var layout_ZyUOheYXsU = {\"height\":550,\"width\":600,\"hovermode\":\"closest\",\"title\":{\"text\":\"Using Function Chaining\"},\"showlegend\":true,\"xaxis\":{\"showgrid\":true,\"zeroline\":false,\"showline\":false},\"yaxis\":{\"showgrid\":true,\"zeroline\":false,\"showline\":false}};\n",
       " var config_ZyUOheYXsU = {\"responsive\":true,\"scrollZoom\":true,\"displaylogo\":false};\n",
       " Plotly.newPlot(\"graph_ZyUOheYXsU\", traces_ZyUOheYXsU, layout_ZyUOheYXsU, config_ZyUOheYXsU);\n",
       "</script> \n"
      ]
     },
     "metadata": {},
     "output_type": "display_data"
    }
   ],
   "source": [
    "// sometimes we may specify many options. In such cases it is clearer to use function chaining as below:\n",
    "val series = XY(x, y)\n",
    "            .asType(SCATTER)\n",
    "            .setName(\"Chained xy\")\n",
    "            .drawMarkers  // This is to help leverage the IDE autocompletion for quick scripting. Tap 'tab' twice to see options.\n",
    "\n",
    "val chart = Chart()\n",
    "            .addSeries(series)\n",
    "            .setTitle(\"Using Function Chaining\")\n",
    "            // by specifying and X and Y axes we can give more rid of the zerolines\n",
    "            .addAxes(Axis(X ,zeroline = false), Axis(Y ,zeroline = false)) \n",
    "\n",
    "chart.plotInline"
   ]
  },
  {
   "cell_type": "markdown",
   "metadata": {},
   "source": [
    "#### Bar Chart\n",
    "\n",
    "Now using the same principles as above, let's create a `Bar` chart:"
   ]
  },
  {
   "cell_type": "code",
   "execution_count": 9,
   "metadata": {},
   "outputs": [
    {
     "data": {
      "text/html": [
       "<div id=\"grid-container_A2eqi6xWsU\" class=\"grid-container\" align=\"center\"> \n",
       "<div id=\"grid_A2eqi6xWsU\" class=\"grid\" align=\"center\"> \n",
       "<div id=\"graph_hPaxmPzLnO\" class=\"graph\"></div> \n",
       "</div> \n",
       "</div> \n",
       "<script>\n",
       "var masonry = new Macy({\n",
       "    container: '#grid_A2eqi6xWsU',\n",
       "    debug: true,\n",
       "    mobileFirst: true,\n",
       "    columns: 1,\n",
       "    margin: {\n",
       "        x: 0,\n",
       "        y: 0\n",
       "    }\n",
       "  });\n",
       "\n",
       "  var traces_hPaxmPzLnO = [{\"name\":\"My data\",\"type\":\"bar\",\"x\":[\"a\",\"b\",\"c\"],\"y\":[10,20,300]}];\n",
       " var layout_hPaxmPzLnO = {\"height\":550,\"width\":600,\"hovermode\":\"closest\",\"title\":{\"text\":\"Bar Chart\"},\"showlegend\":true};\n",
       " var config_hPaxmPzLnO = {\"responsive\":false,\"scrollZoom\":false,\"displaylogo\":false};\n",
       " Plotly.newPlot(\"graph_hPaxmPzLnO\", traces_hPaxmPzLnO, layout_hPaxmPzLnO, config_hPaxmPzLnO);\n",
       "</script> \n"
      ]
     },
     "metadata": {},
     "output_type": "display_data"
    }
   ],
   "source": [
    "// First we create some data for the piechart\n",
    "val x_bar = List(\"a\", \"b\", \"c\")\n",
    "val y_bar = List(10, 20, 300)\n",
    "\n",
    "// again feed in the data that we want to represent as a Bar chart.\n",
    "// Notice how we change 'asType SCATTER' to 'asType BAR'\n",
    "val series = XY(x_bar, y_bar) asType BAR setName(\"My data\")\n",
    "\n",
    "// we can turn off the scrollzoom using setConfig\n",
    "val chart = Chart() addSeries series setTitle \"Bar Chart\" setConfig(false, false)\n",
    "\n",
    "chart.plotInline"
   ]
  },
  {
   "cell_type": "markdown",
   "metadata": {},
   "source": [
    "#### Adding Multiple Series on the Same Axis\n",
    "\n",
    "Sometimes we may want to plot multiple `Series` on the same axis to compare different data series.\n",
    "\n",
    "Let's plot both of the above on the same pair of axis:"
   ]
  },
  {
   "cell_type": "code",
   "execution_count": 10,
   "metadata": {},
   "outputs": [],
   "source": [
    "// we import the marker option which lets us specify the marker\n",
    "import org.carbonateresearch.picta.options.Marker\n",
    "import org.carbonateresearch.picta.SymbolShape._"
   ]
  },
  {
   "cell_type": "code",
   "execution_count": 11,
   "metadata": {},
   "outputs": [
    {
     "data": {
      "text/html": [
       "<div id=\"grid-container_WhLUavmxvy\" class=\"grid-container\" align=\"center\"> \n",
       "<div id=\"grid_WhLUavmxvy\" class=\"grid\" align=\"center\"> \n",
       "<div id=\"graph_zIyMlliDu3\" class=\"graph\"></div> \n",
       "</div> \n",
       "</div> \n",
       "<script>\n",
       "var masonry = new Macy({\n",
       "    container: '#grid_WhLUavmxvy',\n",
       "    debug: true,\n",
       "    mobileFirst: true,\n",
       "    columns: 1,\n",
       "    margin: {\n",
       "        x: 0,\n",
       "        y: 0\n",
       "    }\n",
       "  });\n",
       "\n",
       "  var traces_zIyMlliDu3 = [{\"name\":\"Bar\",\"type\":\"bar\",\"x\":[46.65361210924649,39.383854551906445,6.3934516955064415,41.58075781115597,26.97375582794309,48.10770681950679,5.2869630143912385,8.29272720040713,15.053905898498792,24.30652735020875,32.93853948989975,6.187415230185605,4.073598126343391,30.428536297303598,12.098667520021861,22.604681002734793,0.6063479928499538,15.969826476865274,17.523835733723757,31.41302418966362,15.420649064721943,24.00403106682164,24.428601261181203,39.63222447160399,9.694259464555705,24.140076923565434,37.76979682306566,1.729333647146225,40.70459380944891,49.283811320831155,8.852457464582503,46.273378889529845,43.489657788627504,43.901555989490866,4.5848989581618484,12.612659445113067,22.718108229216377,19.618427060582878,23.860816752954566,31.02952912289836,12.063682660669118,9.931489126535226,5.009120516002258,48.43108078650328,36.748342292020425,19.57762322786312,38.027638701903484,3.0501539463799245,38.60016369893267,25.668217486775514,35.40471440674533,35.859603008183456,41.966095468741464,7.087564985222528,25.733082164111572,43.44379921355085,3.1264064800600897,5.8491316194695555,15.033342812156475,26.924822286601685,45.476724178076196,9.113605018798232,11.729709715883068,24.206839286864167,37.67525044744053,33.394910071764436,32.55861336293455,28.280678015036198,22.19686545226444,43.115143631975585,48.34113176731093,42.62160510893004,47.29246210313363,44.11663983152613,40.513099956480886,5.81685121096362,46.22101946606727,8.999145250386686,21.5821654351127,31.475435876646674,43.80353080586338,15.22236518958463,25.26890701601407,6.201353342233085,1.842071010620533,8.798867694427331,44.98956781722904,17.952209230813253,41.753922017864795,46.09965052797274,42.55082500232733,49.45889634059679,4.889795907381461,13.804389819002443,12.45238933843978,16.54793039209489,28.436863146197677,32.350699513633316,21.031165408884878,9.186580368173558],\"y\":[27.551427600914913,11.371465191946161,43.83104145129067,3.8619191372225083,32.42270601796783,46.55659571507645,49.04531299327025,9.508481537228464,32.33834743460146,26.13529895922675,19.65410536260524,35.61517839905914,27.503945232889464,1.7472462370097697,21.967067456934902,30.370686207128696,33.36294069293026,22.855782646433926,13.681979422636099,28.747494932815403,21.469948726086933,36.05355725510716,40.28284697145972,25.27835219621365,15.589709854136014,10.620768770968624,44.62639370977544,43.944839068239254,41.62545780535696,19.5184405548036,10.903797823600497,18.07633347415572,5.224690489604367,30.6339375232972,30.8148846050016,16.44862404834675,41.46692975959578,46.54318405410083,16.754885930091344,7.874966181413995,46.90722660860517,22.31381690259336,44.089270927497296,45.49838564152517,15.430776204792895,39.94576716034896,32.180027532993094,23.72253801272533,5.868190000326151,24.930533524574926,21.727198721113705,15.259455566091473,21.12756616647683,5.107675920201532,24.2023180627543,33.12604216399612,25.71868360796006,34.50682829223955,7.67583016325738,32.58716967009879,20.976249672717483,35.185776088438374,42.1784369688686,21.021750918055403,35.03329970324369,48.20993687157719,6.886717981371265,29.479199679164115,17.652469738983562,30.865824034298665,10.886266271141343,18.297177658607072,8.392005306227562,40.96086059479584,49.04094569146426,40.56755057269704,20.265029322301558,10.634153121922003,4.5848129249071,21.466005973738078,0.04469842405527835,31.487618419912643,20.453585102144217,28.501789677031823,40.67455914680185,0.044120326417212974,42.08547163562404,7.597520738178925,30.86251388652507,7.549023078111233,35.446539105150976,42.575087906332826,31.868473467195184,0.9538615254986171,5.373708902960983,11.102126913724847,21.73992868520591,42.55555825414323,30.97883199918612,8.444600869285335]},{\"name\":\"Scatter\",\"type\":\"scatter\",\"mode\":\"markers\",\"marker\":{\"symbol\":\"square-open\",\"color\":\"red\"},\"x\":[46.65361210924649,39.383854551906445,6.3934516955064415,41.58075781115597,26.97375582794309,48.10770681950679,5.2869630143912385,8.29272720040713,15.053905898498792,24.30652735020875,32.93853948989975,6.187415230185605,4.073598126343391,30.428536297303598,12.098667520021861,22.604681002734793,0.6063479928499538,15.969826476865274,17.523835733723757,31.41302418966362,15.420649064721943,24.00403106682164,24.428601261181203,39.63222447160399,9.694259464555705,24.140076923565434,37.76979682306566,1.729333647146225,40.70459380944891,49.283811320831155,8.852457464582503,46.273378889529845,43.489657788627504,43.901555989490866,4.5848989581618484,12.612659445113067,22.718108229216377,19.618427060582878,23.860816752954566,31.02952912289836,12.063682660669118,9.931489126535226,5.009120516002258,48.43108078650328,36.748342292020425,19.57762322786312,38.027638701903484,3.0501539463799245,38.60016369893267,25.668217486775514,35.40471440674533,35.859603008183456,41.966095468741464,7.087564985222528,25.733082164111572,43.44379921355085,3.1264064800600897,5.8491316194695555,15.033342812156475,26.924822286601685,45.476724178076196,9.113605018798232,11.729709715883068,24.206839286864167,37.67525044744053,33.394910071764436,32.55861336293455,28.280678015036198,22.19686545226444,43.115143631975585,48.34113176731093,42.62160510893004,47.29246210313363,44.11663983152613,40.513099956480886,5.81685121096362,46.22101946606727,8.999145250386686,21.5821654351127,31.475435876646674,43.80353080586338,15.22236518958463,25.26890701601407,6.201353342233085,1.842071010620533,8.798867694427331,44.98956781722904,17.952209230813253,41.753922017864795,46.09965052797274,42.55082500232733,49.45889634059679,4.889795907381461,13.804389819002443,12.45238933843978,16.54793039209489,28.436863146197677,32.350699513633316,21.031165408884878,9.186580368173558],\"y\":[27.551427600914913,11.371465191946161,43.83104145129067,3.8619191372225083,32.42270601796783,46.55659571507645,49.04531299327025,9.508481537228464,32.33834743460146,26.13529895922675,19.65410536260524,35.61517839905914,27.503945232889464,1.7472462370097697,21.967067456934902,30.370686207128696,33.36294069293026,22.855782646433926,13.681979422636099,28.747494932815403,21.469948726086933,36.05355725510716,40.28284697145972,25.27835219621365,15.589709854136014,10.620768770968624,44.62639370977544,43.944839068239254,41.62545780535696,19.5184405548036,10.903797823600497,18.07633347415572,5.224690489604367,30.6339375232972,30.8148846050016,16.44862404834675,41.46692975959578,46.54318405410083,16.754885930091344,7.874966181413995,46.90722660860517,22.31381690259336,44.089270927497296,45.49838564152517,15.430776204792895,39.94576716034896,32.180027532993094,23.72253801272533,5.868190000326151,24.930533524574926,21.727198721113705,15.259455566091473,21.12756616647683,5.107675920201532,24.2023180627543,33.12604216399612,25.71868360796006,34.50682829223955,7.67583016325738,32.58716967009879,20.976249672717483,35.185776088438374,42.1784369688686,21.021750918055403,35.03329970324369,48.20993687157719,6.886717981371265,29.479199679164115,17.652469738983562,30.865824034298665,10.886266271141343,18.297177658607072,8.392005306227562,40.96086059479584,49.04094569146426,40.56755057269704,20.265029322301558,10.634153121922003,4.5848129249071,21.466005973738078,0.04469842405527835,31.487618419912643,20.453585102144217,28.501789677031823,40.67455914680185,0.044120326417212974,42.08547163562404,7.597520738178925,30.86251388652507,7.549023078111233,35.446539105150976,42.575087906332826,31.868473467195184,0.9538615254986171,5.373708902960983,11.102126913724847,21.73992868520591,42.55555825414323,30.97883199918612,8.444600869285335]}];\n",
       " var layout_zIyMlliDu3 = {\"height\":550,\"width\":600,\"hovermode\":\"closest\",\"title\":{\"text\":\"Multiple series on one chart\"},\"showlegend\":true};\n",
       " var config_zIyMlliDu3 = {\"responsive\":true,\"scrollZoom\":true,\"displaylogo\":false};\n",
       " Plotly.newPlot(\"graph_zIyMlliDu3\", traces_zIyMlliDu3, layout_zIyMlliDu3, config_zIyMlliDu3);\n",
       "</script> \n"
      ]
     },
     "metadata": {},
     "output_type": "display_data"
    }
   ],
   "source": [
    "// additional traces can simply be composed with an existing chart and added on\n",
    "val series1 = XY(x, y) asType BAR setName \"Bar\"\n",
    "\n",
    "// lets give the second series a red marker. Again we can 'compose' a marker using smaller components\n",
    "val marker = Marker() setSymbol SQUARE_OPEN setColor \"red\"\n",
    "\n",
    "val series2 = XY(x, y) asType SCATTER setName \"Scatter\" drawStyle MARKERS setMarker marker\n",
    "\n",
    "// we not put brackets in the 'addSeries' function to ensure that addSeries picks up the right series'\n",
    "val chart = Chart() addSeries(series1, series2) setTitle(\"Multiple series on one chart\")\n",
    "\n",
    "chart.plotInline"
   ]
  },
  {
   "cell_type": "markdown",
   "metadata": {},
   "source": [
    "### Lets Change The Appearance of The Markers\n",
    "\n",
    "We can control the appearance of the markers by setting the width"
   ]
  },
  {
   "cell_type": "code",
   "execution_count": 12,
   "metadata": {},
   "outputs": [
    {
     "data": {
      "text/html": [
       "<div id=\"grid-container_6MIxzcuZLj\" class=\"grid-container\" align=\"center\"> \n",
       "<div id=\"grid_6MIxzcuZLj\" class=\"grid\" align=\"center\"> \n",
       "<div id=\"graph_NegjDI6CkL\" class=\"graph\"></div> \n",
       "</div> \n",
       "</div> \n",
       "<script>\n",
       "var masonry = new Macy({\n",
       "    container: '#grid_6MIxzcuZLj',\n",
       "    debug: true,\n",
       "    mobileFirst: true,\n",
       "    columns: 1,\n",
       "    margin: {\n",
       "        x: 0,\n",
       "        y: 0\n",
       "    }\n",
       "  });\n",
       "\n",
       "  var traces_NegjDI6CkL = [{\"name\":\"Bar\",\"type\":\"bar\",\"x\":[46.65361210924649,39.383854551906445,6.3934516955064415,41.58075781115597,26.97375582794309,48.10770681950679,5.2869630143912385,8.29272720040713,15.053905898498792,24.30652735020875,32.93853948989975,6.187415230185605,4.073598126343391,30.428536297303598,12.098667520021861,22.604681002734793,0.6063479928499538,15.969826476865274,17.523835733723757,31.41302418966362,15.420649064721943,24.00403106682164,24.428601261181203,39.63222447160399,9.694259464555705,24.140076923565434,37.76979682306566,1.729333647146225,40.70459380944891,49.283811320831155,8.852457464582503,46.273378889529845,43.489657788627504,43.901555989490866,4.5848989581618484,12.612659445113067,22.718108229216377,19.618427060582878,23.860816752954566,31.02952912289836,12.063682660669118,9.931489126535226,5.009120516002258,48.43108078650328,36.748342292020425,19.57762322786312,38.027638701903484,3.0501539463799245,38.60016369893267,25.668217486775514,35.40471440674533,35.859603008183456,41.966095468741464,7.087564985222528,25.733082164111572,43.44379921355085,3.1264064800600897,5.8491316194695555,15.033342812156475,26.924822286601685,45.476724178076196,9.113605018798232,11.729709715883068,24.206839286864167,37.67525044744053,33.394910071764436,32.55861336293455,28.280678015036198,22.19686545226444,43.115143631975585,48.34113176731093,42.62160510893004,47.29246210313363,44.11663983152613,40.513099956480886,5.81685121096362,46.22101946606727,8.999145250386686,21.5821654351127,31.475435876646674,43.80353080586338,15.22236518958463,25.26890701601407,6.201353342233085,1.842071010620533,8.798867694427331,44.98956781722904,17.952209230813253,41.753922017864795,46.09965052797274,42.55082500232733,49.45889634059679,4.889795907381461,13.804389819002443,12.45238933843978,16.54793039209489,28.436863146197677,32.350699513633316,21.031165408884878,9.186580368173558],\"y\":[27.551427600914913,11.371465191946161,43.83104145129067,3.8619191372225083,32.42270601796783,46.55659571507645,49.04531299327025,9.508481537228464,32.33834743460146,26.13529895922675,19.65410536260524,35.61517839905914,27.503945232889464,1.7472462370097697,21.967067456934902,30.370686207128696,33.36294069293026,22.855782646433926,13.681979422636099,28.747494932815403,21.469948726086933,36.05355725510716,40.28284697145972,25.27835219621365,15.589709854136014,10.620768770968624,44.62639370977544,43.944839068239254,41.62545780535696,19.5184405548036,10.903797823600497,18.07633347415572,5.224690489604367,30.6339375232972,30.8148846050016,16.44862404834675,41.46692975959578,46.54318405410083,16.754885930091344,7.874966181413995,46.90722660860517,22.31381690259336,44.089270927497296,45.49838564152517,15.430776204792895,39.94576716034896,32.180027532993094,23.72253801272533,5.868190000326151,24.930533524574926,21.727198721113705,15.259455566091473,21.12756616647683,5.107675920201532,24.2023180627543,33.12604216399612,25.71868360796006,34.50682829223955,7.67583016325738,32.58716967009879,20.976249672717483,35.185776088438374,42.1784369688686,21.021750918055403,35.03329970324369,48.20993687157719,6.886717981371265,29.479199679164115,17.652469738983562,30.865824034298665,10.886266271141343,18.297177658607072,8.392005306227562,40.96086059479584,49.04094569146426,40.56755057269704,20.265029322301558,10.634153121922003,4.5848129249071,21.466005973738078,0.04469842405527835,31.487618419912643,20.453585102144217,28.501789677031823,40.67455914680185,0.044120326417212974,42.08547163562404,7.597520738178925,30.86251388652507,7.549023078111233,35.446539105150976,42.575087906332826,31.868473467195184,0.9538615254986171,5.373708902960983,11.102126913724847,21.73992868520591,42.55555825414323,30.97883199918612,8.444600869285335]},{\"name\":\"Scatter\",\"type\":\"scatter\",\"mode\":\"markers\",\"marker\":{\"symbol\":\"circle\",\"color\":\"red\",\"line\":{\"width\":2,\"color\":\"black\"},\"size\":[10,10,10,10,10,10,10,10,10,10,10,10,10,10,10,10,10,10,10,10,10,10,10,10,10,10,10,10,10,10,10,10,10,10,10,10,10,10,10,10,10,10,10,10,10,10,10,10,10,10,10,10,10,10,10,10,10,10,10,10,10,10,10,10,10,10,10,10,10,10,10,10,10,10,10,10,10,10,10,10,10,10,10,10,10,10,10,10,10,10,10,10,10,10,10,10,10,10,10,10]},\"x\":[46.65361210924649,39.383854551906445,6.3934516955064415,41.58075781115597,26.97375582794309,48.10770681950679,5.2869630143912385,8.29272720040713,15.053905898498792,24.30652735020875,32.93853948989975,6.187415230185605,4.073598126343391,30.428536297303598,12.098667520021861,22.604681002734793,0.6063479928499538,15.969826476865274,17.523835733723757,31.41302418966362,15.420649064721943,24.00403106682164,24.428601261181203,39.63222447160399,9.694259464555705,24.140076923565434,37.76979682306566,1.729333647146225,40.70459380944891,49.283811320831155,8.852457464582503,46.273378889529845,43.489657788627504,43.901555989490866,4.5848989581618484,12.612659445113067,22.718108229216377,19.618427060582878,23.860816752954566,31.02952912289836,12.063682660669118,9.931489126535226,5.009120516002258,48.43108078650328,36.748342292020425,19.57762322786312,38.027638701903484,3.0501539463799245,38.60016369893267,25.668217486775514,35.40471440674533,35.859603008183456,41.966095468741464,7.087564985222528,25.733082164111572,43.44379921355085,3.1264064800600897,5.8491316194695555,15.033342812156475,26.924822286601685,45.476724178076196,9.113605018798232,11.729709715883068,24.206839286864167,37.67525044744053,33.394910071764436,32.55861336293455,28.280678015036198,22.19686545226444,43.115143631975585,48.34113176731093,42.62160510893004,47.29246210313363,44.11663983152613,40.513099956480886,5.81685121096362,46.22101946606727,8.999145250386686,21.5821654351127,31.475435876646674,43.80353080586338,15.22236518958463,25.26890701601407,6.201353342233085,1.842071010620533,8.798867694427331,44.98956781722904,17.952209230813253,41.753922017864795,46.09965052797274,42.55082500232733,49.45889634059679,4.889795907381461,13.804389819002443,12.45238933843978,16.54793039209489,28.436863146197677,32.350699513633316,21.031165408884878,9.186580368173558],\"y\":[27.551427600914913,11.371465191946161,43.83104145129067,3.8619191372225083,32.42270601796783,46.55659571507645,49.04531299327025,9.508481537228464,32.33834743460146,26.13529895922675,19.65410536260524,35.61517839905914,27.503945232889464,1.7472462370097697,21.967067456934902,30.370686207128696,33.36294069293026,22.855782646433926,13.681979422636099,28.747494932815403,21.469948726086933,36.05355725510716,40.28284697145972,25.27835219621365,15.589709854136014,10.620768770968624,44.62639370977544,43.944839068239254,41.62545780535696,19.5184405548036,10.903797823600497,18.07633347415572,5.224690489604367,30.6339375232972,30.8148846050016,16.44862404834675,41.46692975959578,46.54318405410083,16.754885930091344,7.874966181413995,46.90722660860517,22.31381690259336,44.089270927497296,45.49838564152517,15.430776204792895,39.94576716034896,32.180027532993094,23.72253801272533,5.868190000326151,24.930533524574926,21.727198721113705,15.259455566091473,21.12756616647683,5.107675920201532,24.2023180627543,33.12604216399612,25.71868360796006,34.50682829223955,7.67583016325738,32.58716967009879,20.976249672717483,35.185776088438374,42.1784369688686,21.021750918055403,35.03329970324369,48.20993687157719,6.886717981371265,29.479199679164115,17.652469738983562,30.865824034298665,10.886266271141343,18.297177658607072,8.392005306227562,40.96086059479584,49.04094569146426,40.56755057269704,20.265029322301558,10.634153121922003,4.5848129249071,21.466005973738078,0.04469842405527835,31.487618419912643,20.453585102144217,28.501789677031823,40.67455914680185,0.044120326417212974,42.08547163562404,7.597520738178925,30.86251388652507,7.549023078111233,35.446539105150976,42.575087906332826,31.868473467195184,0.9538615254986171,5.373708902960983,11.102126913724847,21.73992868520591,42.55555825414323,30.97883199918612,8.444600869285335]}];\n",
       " var layout_NegjDI6CkL = {\"height\":550,\"width\":600,\"hovermode\":\"closest\",\"showlegend\":true};\n",
       " var config_NegjDI6CkL = {\"responsive\":false,\"scrollZoom\":false,\"displaylogo\":false};\n",
       " Plotly.newPlot(\"graph_NegjDI6CkL\", traces_NegjDI6CkL, layout_NegjDI6CkL, config_NegjDI6CkL);\n",
       "</script> \n"
      ]
     },
     "metadata": {},
     "output_type": "display_data"
    }
   ],
   "source": [
    "// we can pass in the size of the markers\n",
    "val sizes = List.range(0, 100).map(x => 10)\n",
    "\n",
    "// additional traces can simply be composed with an existing chart and added on\n",
    "val series1 = XY(x, y) asType BAR setName \"Bar\"\n",
    "\n",
    "// lets give the second series a red marker. Again we can 'compose' a marker using smaller components\n",
    "val marker = (\n",
    "    Marker() \n",
    "    // sets the marker shape\n",
    "    setSymbol CIRCLE\n",
    "    // sets the fill to red\n",
    "    setColor \"red\" \n",
    "    // sets the outline to black, with width 2\n",
    "    setLine(width = 2, \"black\")\n",
    "    // set the size of the markers to 10 as per the list we created\n",
    "    setSize(sizes)\n",
    ") \n",
    "\n",
    "val series2 = XY(x, y) asType SCATTER setName \"Scatter\" drawStyle MARKERS setMarker marker\n",
    "\n",
    "// we not put brackets in the 'addSeries' function to ensure that addSeries picks up the right series'\n",
    "val chart = Chart() addSeries(series1, series2) setConfig(false, false)\n",
    "\n",
    "chart.plotInline"
   ]
  },
  {
   "cell_type": "markdown",
   "metadata": {},
   "source": [
    "### Adding Another Axes\n",
    "\n",
    "Sometimes we may wish to plot multiple series on one chart, but using two different Axes. This may be because the values of the two series are very different, yet we want to compare them on the same plot. We can do this as follows:"
   ]
  },
  {
   "cell_type": "code",
   "execution_count": 13,
   "metadata": {},
   "outputs": [
    {
     "data": {
      "text/html": [
       "<div id=\"grid-container_yccrwEhQX4\" class=\"grid-container\" align=\"center\"> \n",
       "<div id=\"grid_yccrwEhQX4\" class=\"grid\" align=\"center\"> \n",
       "<div id=\"graph_G32RPXwMIG\" class=\"graph\"></div> \n",
       "</div> \n",
       "</div> \n",
       "<script>\n",
       "var masonry = new Macy({\n",
       "    container: '#grid_yccrwEhQX4',\n",
       "    debug: true,\n",
       "    mobileFirst: true,\n",
       "    columns: 1,\n",
       "    margin: {\n",
       "        x: 0,\n",
       "        y: 0\n",
       "    }\n",
       "  });\n",
       "\n",
       "  var traces_G32RPXwMIG = [{\"name\":\"Series 3 using Y axis 1\",\"type\":\"scatter\",\"mode\":\"markers\",\"x\":[46.65361210924649,39.383854551906445,6.3934516955064415,41.58075781115597,26.97375582794309,48.10770681950679,5.2869630143912385,8.29272720040713,15.053905898498792,24.30652735020875,32.93853948989975,6.187415230185605,4.073598126343391,30.428536297303598,12.098667520021861,22.604681002734793,0.6063479928499538,15.969826476865274,17.523835733723757,31.41302418966362,15.420649064721943,24.00403106682164,24.428601261181203,39.63222447160399,9.694259464555705,24.140076923565434,37.76979682306566,1.729333647146225,40.70459380944891,49.283811320831155,8.852457464582503,46.273378889529845,43.489657788627504,43.901555989490866,4.5848989581618484,12.612659445113067,22.718108229216377,19.618427060582878,23.860816752954566,31.02952912289836,12.063682660669118,9.931489126535226,5.009120516002258,48.43108078650328,36.748342292020425,19.57762322786312,38.027638701903484,3.0501539463799245,38.60016369893267,25.668217486775514,35.40471440674533,35.859603008183456,41.966095468741464,7.087564985222528,25.733082164111572,43.44379921355085,3.1264064800600897,5.8491316194695555,15.033342812156475,26.924822286601685,45.476724178076196,9.113605018798232,11.729709715883068,24.206839286864167,37.67525044744053,33.394910071764436,32.55861336293455,28.280678015036198,22.19686545226444,43.115143631975585,48.34113176731093,42.62160510893004,47.29246210313363,44.11663983152613,40.513099956480886,5.81685121096362,46.22101946606727,8.999145250386686,21.5821654351127,31.475435876646674,43.80353080586338,15.22236518958463,25.26890701601407,6.201353342233085,1.842071010620533,8.798867694427331,44.98956781722904,17.952209230813253,41.753922017864795,46.09965052797274,42.55082500232733,49.45889634059679,4.889795907381461,13.804389819002443,12.45238933843978,16.54793039209489,28.436863146197677,32.350699513633316,21.031165408884878,9.186580368173558],\"y\":[27.551427600914913,11.371465191946161,43.83104145129067,3.8619191372225083,32.42270601796783,46.55659571507645,49.04531299327025,9.508481537228464,32.33834743460146,26.13529895922675,19.65410536260524,35.61517839905914,27.503945232889464,1.7472462370097697,21.967067456934902,30.370686207128696,33.36294069293026,22.855782646433926,13.681979422636099,28.747494932815403,21.469948726086933,36.05355725510716,40.28284697145972,25.27835219621365,15.589709854136014,10.620768770968624,44.62639370977544,43.944839068239254,41.62545780535696,19.5184405548036,10.903797823600497,18.07633347415572,5.224690489604367,30.6339375232972,30.8148846050016,16.44862404834675,41.46692975959578,46.54318405410083,16.754885930091344,7.874966181413995,46.90722660860517,22.31381690259336,44.089270927497296,45.49838564152517,15.430776204792895,39.94576716034896,32.180027532993094,23.72253801272533,5.868190000326151,24.930533524574926,21.727198721113705,15.259455566091473,21.12756616647683,5.107675920201532,24.2023180627543,33.12604216399612,25.71868360796006,34.50682829223955,7.67583016325738,32.58716967009879,20.976249672717483,35.185776088438374,42.1784369688686,21.021750918055403,35.03329970324369,48.20993687157719,6.886717981371265,29.479199679164115,17.652469738983562,30.865824034298665,10.886266271141343,18.297177658607072,8.392005306227562,40.96086059479584,49.04094569146426,40.56755057269704,20.265029322301558,10.634153121922003,4.5848129249071,21.466005973738078,0.04469842405527835,31.487618419912643,20.453585102144217,28.501789677031823,40.67455914680185,0.044120326417212974,42.08547163562404,7.597520738178925,30.86251388652507,7.549023078111233,35.446539105150976,42.575087906332826,31.868473467195184,0.9538615254986171,5.373708902960983,11.102126913724847,21.73992868520591,42.55555825414323,30.97883199918612,8.444600869285335]},{\"name\":\"Series 2 using Y axis 2\",\"type\":\"scatter\",\"mode\":\"markers\",\"yaxis\":\"y2\",\"x\":[46.65361210924649,39.383854551906445,6.3934516955064415,41.58075781115597,26.97375582794309,48.10770681950679,5.2869630143912385,8.29272720040713,15.053905898498792,24.30652735020875,32.93853948989975,6.187415230185605,4.073598126343391,30.428536297303598,12.098667520021861,22.604681002734793,0.6063479928499538,15.969826476865274,17.523835733723757,31.41302418966362,15.420649064721943,24.00403106682164,24.428601261181203,39.63222447160399,9.694259464555705,24.140076923565434,37.76979682306566,1.729333647146225,40.70459380944891,49.283811320831155,8.852457464582503,46.273378889529845,43.489657788627504,43.901555989490866,4.5848989581618484,12.612659445113067,22.718108229216377,19.618427060582878,23.860816752954566,31.02952912289836,12.063682660669118,9.931489126535226,5.009120516002258,48.43108078650328,36.748342292020425,19.57762322786312,38.027638701903484,3.0501539463799245,38.60016369893267,25.668217486775514,35.40471440674533,35.859603008183456,41.966095468741464,7.087564985222528,25.733082164111572,43.44379921355085,3.1264064800600897,5.8491316194695555,15.033342812156475,26.924822286601685,45.476724178076196,9.113605018798232,11.729709715883068,24.206839286864167,37.67525044744053,33.394910071764436,32.55861336293455,28.280678015036198,22.19686545226444,43.115143631975585,48.34113176731093,42.62160510893004,47.29246210313363,44.11663983152613,40.513099956480886,5.81685121096362,46.22101946606727,8.999145250386686,21.5821654351127,31.475435876646674,43.80353080586338,15.22236518958463,25.26890701601407,6.201353342233085,1.842071010620533,8.798867694427331,44.98956781722904,17.952209230813253,41.753922017864795,46.09965052797274,42.55082500232733,49.45889634059679,4.889795907381461,13.804389819002443,12.45238933843978,16.54793039209489,28.436863146197677,32.350699513633316,21.031165408884878,9.186580368173558],\"y\":[42.80624886892322,4.211924209461159,46.82022616395775,41.47451070105246,29.111745966409792,48.31390551911034,30.82340530975233,9.297795231886957,26.649110563823086,21.767338342892078,12.520657110871653,33.59599488219867,0.748996036392624,21.1217041938985,38.07948991996663,31.31624023124202,1.788181769146402,26.680691513187462,21.80287605227119,34.69767912225244,32.49784284231103,0.9390760987939173,27.309606887124904,8.788460417448224,27.585153434153465,2.0127582959292623,5.440957864357737,44.58588465950073,19.125535404894723,25.86350768077852,20.090265152278942,16.723391497690887,19.239542195581038,12.067270461287977,17.61488390994055,38.231515386733726,4.937489313600296,26.634638237840885,40.26542453635156,21.31601710571158,38.69659717896577,21.96435895252595,49.155018453297686,12.324855125479829,2.3295358975611355,18.395509851426045,7.691770250838237,11.116728743295434,11.009920919418342,4.021259103643837,32.11045404616753,9.89739111666279,8.93942679080238,9.436857921211928,41.76487811996283,44.25599528511161,28.072860175953167,31.916824555877504,38.1802604713872,39.61221146912859,16.561632622622707,9.15099381551634,8.515323075329222,9.575887646312609,14.132742716310464,26.1164186158169,36.04671970067431,18.82454759055398,17.489520943908815,29.921841767715883,7.563799316594544,12.020022279955917,40.00200057268532,26.533740808312288,35.14959300146835,32.014020890584234,26.448956218103543,40.177702021077515,7.724307306909211,5.133500023563253,35.38026515852638,30.906159974642595,5.940496316334542,8.690150997137886,48.7873976743678,38.33328782375179,2.544477114236349,6.024386453016511,11.201485550160612,49.86010384600147,29.15643936307229,37.37270004941623,38.0825508901734,29.847613119205963,19.57209258052161,40.63829722458952,16.420128128787542,42.1430820307115,39.15159079545683,44.74840248544579]}];\n",
       " var layout_G32RPXwMIG = {\"height\":550,\"width\":600,\"hovermode\":\"closest\",\"title\":{\"text\":\"Using Multiple Axes\"},\"showlegend\":true,\"yaxis2\":{\"title\":{\"text\":\"Second y axis\"},\"showgrid\":true,\"zeroline\":false,\"showline\":false,\"side\":\"right\",\"overlaying\":\"y\"},\"yaxis\":{\"title\":{\"text\":\"First Y Axis\"},\"showgrid\":true,\"zeroline\":false,\"showline\":false},\"xaxis\":{\"title\":{\"text\":\"X Axis\"},\"showgrid\":true,\"zeroline\":false,\"showline\":false}};\n",
       " var config_G32RPXwMIG = {\"responsive\":false,\"scrollZoom\":false,\"displaylogo\":false};\n",
       " Plotly.newPlot(\"graph_G32RPXwMIG\", traces_G32RPXwMIG, layout_G32RPXwMIG, config_G32RPXwMIG);\n",
       "</script> \n"
      ]
     },
     "metadata": {},
     "output_type": "display_data"
    }
   ],
   "source": [
    "val series1 = XY(x, y) asType SCATTER drawStyle MARKERS\n",
    "\n",
    "// The following maps the series onto the second Y axis.\n",
    "val series2 = (\n",
    "    XY(x, z) \n",
    "    asType SCATTER \n",
    "    drawStyle MARKERS \n",
    "    setAxis Axis(Y, 2)\n",
    "    setName(\"Series 2 using Y axis 2\")\n",
    ")\n",
    "\n",
    "val series3 = series1.copy() setName(\"Series 3 using Y axis 1\")\n",
    "      \n",
    "val chart = (\n",
    "    Chart() \n",
    "    setTitle \"Using Multiple Axes\"\n",
    "    // the following makes the chart unresponsive\n",
    "    setConfig(false, false) \n",
    "    addSeries(series3, series2) \n",
    "    // the following tells the chart how to render the second Y Axis\n",
    "    addAxes Axis(Y, position = 2, title = \"Second y axis\", overlaying = Axis(Y), side = RIGHT_SIDE)\n",
    "    addAxes Axis(Y, 1, \"First Y Axis\")\n",
    "    addAxes Axis(X, title = \"X Axis\")\n",
    ") \n",
    "\n",
    "// this is just for illustration purposes, but we can also do the following\n",
    "val canvas = Canvas() setChart(0, 0, chart)\n",
    "\n",
    "canvas.plotInline"
   ]
  },
  {
   "cell_type": "markdown",
   "metadata": {},
   "source": [
    "### Customizing the Axes\n",
    "\n",
    "As can be seen from some of the examples above, if you do a simple chart you can use the standard axis (X and Y) and costumise them in the chart object. But for more complex layout,  we may would want to create new axis and name them.\n",
    "\n",
    "We can do this as follows:"
   ]
  },
  {
   "cell_type": "code",
   "execution_count": 14,
   "metadata": {},
   "outputs": [
    {
     "data": {
      "text/html": [
       "<div id=\"grid-container_B2BGmRzzB5\" class=\"grid-container\" align=\"center\"> \n",
       "<div id=\"grid_B2BGmRzzB5\" class=\"grid\" align=\"center\"> \n",
       "<div id=\"graph_GsMnQwtEe5\" class=\"graph\"></div> \n",
       "</div> \n",
       "</div> \n",
       "<script>\n",
       "var masonry = new Macy({\n",
       "    container: '#grid_B2BGmRzzB5',\n",
       "    debug: true,\n",
       "    mobileFirst: true,\n",
       "    columns: 1,\n",
       "    margin: {\n",
       "        x: 0,\n",
       "        y: 0\n",
       "    }\n",
       "  });\n",
       "\n",
       "  var traces_GsMnQwtEe5 = [{\"name\":\"Data\",\"type\":\"scatter\",\"mode\":\"markers\",\"x\":[46.65361210924649,39.383854551906445,6.3934516955064415,41.58075781115597,26.97375582794309,48.10770681950679,5.2869630143912385,8.29272720040713,15.053905898498792,24.30652735020875,32.93853948989975,6.187415230185605,4.073598126343391,30.428536297303598,12.098667520021861,22.604681002734793,0.6063479928499538,15.969826476865274,17.523835733723757,31.41302418966362,15.420649064721943,24.00403106682164,24.428601261181203,39.63222447160399,9.694259464555705,24.140076923565434,37.76979682306566,1.729333647146225,40.70459380944891,49.283811320831155,8.852457464582503,46.273378889529845,43.489657788627504,43.901555989490866,4.5848989581618484,12.612659445113067,22.718108229216377,19.618427060582878,23.860816752954566,31.02952912289836,12.063682660669118,9.931489126535226,5.009120516002258,48.43108078650328,36.748342292020425,19.57762322786312,38.027638701903484,3.0501539463799245,38.60016369893267,25.668217486775514,35.40471440674533,35.859603008183456,41.966095468741464,7.087564985222528,25.733082164111572,43.44379921355085,3.1264064800600897,5.8491316194695555,15.033342812156475,26.924822286601685,45.476724178076196,9.113605018798232,11.729709715883068,24.206839286864167,37.67525044744053,33.394910071764436,32.55861336293455,28.280678015036198,22.19686545226444,43.115143631975585,48.34113176731093,42.62160510893004,47.29246210313363,44.11663983152613,40.513099956480886,5.81685121096362,46.22101946606727,8.999145250386686,21.5821654351127,31.475435876646674,43.80353080586338,15.22236518958463,25.26890701601407,6.201353342233085,1.842071010620533,8.798867694427331,44.98956781722904,17.952209230813253,41.753922017864795,46.09965052797274,42.55082500232733,49.45889634059679,4.889795907381461,13.804389819002443,12.45238933843978,16.54793039209489,28.436863146197677,32.350699513633316,21.031165408884878,9.186580368173558],\"y\":[27.551427600914913,11.371465191946161,43.83104145129067,3.8619191372225083,32.42270601796783,46.55659571507645,49.04531299327025,9.508481537228464,32.33834743460146,26.13529895922675,19.65410536260524,35.61517839905914,27.503945232889464,1.7472462370097697,21.967067456934902,30.370686207128696,33.36294069293026,22.855782646433926,13.681979422636099,28.747494932815403,21.469948726086933,36.05355725510716,40.28284697145972,25.27835219621365,15.589709854136014,10.620768770968624,44.62639370977544,43.944839068239254,41.62545780535696,19.5184405548036,10.903797823600497,18.07633347415572,5.224690489604367,30.6339375232972,30.8148846050016,16.44862404834675,41.46692975959578,46.54318405410083,16.754885930091344,7.874966181413995,46.90722660860517,22.31381690259336,44.089270927497296,45.49838564152517,15.430776204792895,39.94576716034896,32.180027532993094,23.72253801272533,5.868190000326151,24.930533524574926,21.727198721113705,15.259455566091473,21.12756616647683,5.107675920201532,24.2023180627543,33.12604216399612,25.71868360796006,34.50682829223955,7.67583016325738,32.58716967009879,20.976249672717483,35.185776088438374,42.1784369688686,21.021750918055403,35.03329970324369,48.20993687157719,6.886717981371265,29.479199679164115,17.652469738983562,30.865824034298665,10.886266271141343,18.297177658607072,8.392005306227562,40.96086059479584,49.04094569146426,40.56755057269704,20.265029322301558,10.634153121922003,4.5848129249071,21.466005973738078,0.04469842405527835,31.487618419912643,20.453585102144217,28.501789677031823,40.67455914680185,0.044120326417212974,42.08547163562404,7.597520738178925,30.86251388652507,7.549023078111233,35.446539105150976,42.575087906332826,31.868473467195184,0.9538615254986171,5.373708902960983,11.102126913724847,21.73992868520591,42.55555825414323,30.97883199918612,8.444600869285335]}];\n",
       " var layout_GsMnQwtEe5 = {\"height\":550,\"width\":600,\"hovermode\":\"closest\",\"title\":{\"text\":\"Chart with Axes\"},\"showlegend\":true,\"xaxis\":{\"title\":{\"text\":\"x variable\"},\"showgrid\":true,\"zeroline\":false,\"showline\":false},\"yaxis\":{\"title\":{\"text\":\"y variable\"},\"showgrid\":true,\"zeroline\":false,\"showline\":false}};\n",
       " var config_GsMnQwtEe5 = {\"responsive\":true,\"scrollZoom\":true,\"displaylogo\":false};\n",
       " Plotly.newPlot(\"graph_GsMnQwtEe5\", traces_GsMnQwtEe5, layout_GsMnQwtEe5, config_GsMnQwtEe5);\n",
       "</script> \n"
      ]
     },
     "metadata": {},
     "output_type": "display_data"
    }
   ],
   "source": [
    "// We construct the axes and set their title\n",
    "val xaxis = Axis(X, title = \"x variable\")\n",
    "val yaxis = Axis(Y, title = \"y variable\")\n",
    "\n",
    "// another way to do composition is to just add a bracket around the composition\n",
    "val chart = (\n",
    "    Chart()\n",
    "    setTitle \"Chart with Axes\"\n",
    "    addSeries(series1 setName(\"Data\"))\n",
    "    addAxes(xaxis, yaxis)\n",
    ")\n",
    "\n",
    "chart.plotInline"
   ]
  },
  {
   "cell_type": "markdown",
   "metadata": {},
   "source": [
    "### Quickly Configuring The Axes\n",
    "\n",
    "Picta comes with a range of utility functions to make configuring the primary axes quick and easy"
   ]
  },
  {
   "cell_type": "code",
   "execution_count": 15,
   "metadata": {},
   "outputs": [],
   "source": [
    "// Let's create 100 randome data points\n",
    "val x = List.range(0, 100).map(x => x * scala.util.Random.nextDouble())\n",
    "val y = List.range(0, 100).map(x => x * scala.util.Random.nextDouble())"
   ]
  },
  {
   "cell_type": "markdown",
   "metadata": {},
   "source": [
    "#### Adjusting Axes Limits"
   ]
  },
  {
   "cell_type": "code",
   "execution_count": 16,
   "metadata": {},
   "outputs": [
    {
     "data": {
      "text/html": [
       "<div id=\"grid-container_Gusw3kY6pi\" class=\"grid-container\" align=\"center\"> \n",
       "<div id=\"grid_Gusw3kY6pi\" class=\"grid\" align=\"center\"> \n",
       "<div id=\"graph_Hoswn5hTNn\" class=\"graph\"></div> \n",
       "</div> \n",
       "</div> \n",
       "<script>\n",
       "var masonry = new Macy({\n",
       "    container: '#grid_Gusw3kY6pi',\n",
       "    debug: true,\n",
       "    mobileFirst: true,\n",
       "    columns: 1,\n",
       "    margin: {\n",
       "        x: 0,\n",
       "        y: 0\n",
       "    }\n",
       "  });\n",
       "\n",
       "  var traces_Hoswn5hTNn = [{\"name\":\"Data for Axis Limit example\",\"type\":\"scatter\",\"mode\":\"markers\",\"x\":[0,0.8413683026763604,0.9610631985200326,0.5055222939865325,1.9090883789634399,1.5269812313554731,3.9079749782267266,1.1863213525979126,3.6711638368325543,7.672453749962248,1.8050776835740978,10.193936215443792,8.438613169611239,1.5032886611245486,6.152036369061692,9.815536171828928,8.90424229614141,13.884773707367525,0.545092425387083,10.320251223681556,9.624444489619744,1.061906126113934,4.0640144458027665,14.512453754207328,18.567132976968697,9.714509484052225,19.7371504363419,12.724625141215439,5.572315430184267,26.63687579517762,9.975582853049495,23.944398572976702,9.566505984068872,24.35323124413348,25.921104658887568,27.516465076060314,10.88877876934967,17.783036031072836,11.694717438604071,38.531904782989514,6.2161382985818525,6.923679706099732,3.812630667457751,21.865147775948586,7.569062566867152,2.672389523670917,10.80530623285447,40.0922413724931,9.984501655412755,8.614282726303232,24.581895846528113,34.47327295471691,2.9133561298530495,48.10932346519313,29.57758734995704,42.05683473162246,54.482454024282276,22.5676220294269,28.454720179148005,55.015182451097544,51.70735723675414,25.65988133944476,6.350248084371509,13.795299745865945,41.801859433360555,10.618071063416984,49.622075980607804,43.8234396202534,58.15293331124818,35.990314186875466,45.995030006074984,60.578807614401875,5.56598835586407,45.47381360913866,15.193760243812855,66.10600447069966,43.284721540174914,62.01012221251927,64.82467501928964,11.715486123573667,37.30254179401187,49.43845349771802,55.68207550928531,47.97679855952076,39.85852558176251,22.91478911765649,78.05506182976225,81.39058599942432,18.000117283721533,67.2674446459535,2.2513791449581575,89.58239393663051,18.947325223021494,66.72345428002085,8.68236235395729,9.744118054957955,3.958982283830988,50.25453790468024,95.71930079101482,8.607527080024125],\"y\":[0,0.1624425902926645,0.18404030562396034,0.4286992366053083,1.5883454788153708,0.530641944271808,1.3610674989988782,3.2999543963001132,3.867699096408133,7.3651133688078,1.2562415973548635,4.876681797342667,8.434437934802574,6.437894170505578,6.483464800525033,1.2121038704892395,13.084321489283079,8.601118994903054,13.178591165347415,8.63048703344021,18.904625853793004,20.888998204891653,7.718739152486639,14.869738947841743,6.073883994422472,13.963330277936633,25.67558105062746,3.6950453073106893,23.676615384582725,2.1556148057487174,21.013120630823057,25.199988602945773,28.39999855060984,18.423270740363,33.81293242692089,11.632691495607784,12.52729846698854,15.027725734161393,11.695562594854842,8.756385790597562,19.428977611452723,19.90812782824597,31.855846885036254,40.72647831244637,15.026857654023484,14.816259209119794,9.492166945655816,4.489625168008084,2.719365991025878,5.545777128353112,40.63528935153463,5.034521052568239,41.25690420721214,10.28228918776945,17.221264205110007,1.6991474376702353,22.295612657634017,41.46991240073064,11.95503809844995,36.414969453246364,43.0853600219689,17.884864682418893,46.32685194109106,7.495150737073129,42.213594573024835,33.07736747798138,47.32219761530597,36.60120372972648,44.780805968924675,23.23959952628439,13.158117263206737,40.10060633014436,16.075717493106836,11.129726178005033,30.03389724596493,40.40682632821687,45.99900685794783,52.180070618881544,16.652744731526038,30.32288687951869,36.40328846019926,45.59130058917982,71.40290014314667,24.140061635508392,44.42432113426688,63.31415469051426,34.83173947819918,80.5245726633874,11.023902642701104,62.59557946268027,73.65481521614788,37.307128111183964,87.59873162772554,36.46735675767144,54.26347337384355,23.423049201630796,52.88153630922716,90.43222356913705,79.77964824005558,35.68420159330706]}];\n",
       " var layout_Hoswn5hTNn = {\"height\":550,\"width\":600,\"hovermode\":\"closest\",\"title\":{\"text\":\"Axis.SetAxisRange\"},\"showlegend\":true,\"yaxis\":{\"title\":{\"text\":\"y axis\"},\"showgrid\":true,\"zeroline\":false,\"showline\":false,\"range\":[100,-100]},\"xaxis\":{\"title\":{\"text\":\"x axis\"},\"showgrid\":true,\"zeroline\":false,\"showline\":false,\"range\":[-100,100]}};\n",
       " var config_Hoswn5hTNn = {\"responsive\":true,\"scrollZoom\":true,\"displaylogo\":false};\n",
       " Plotly.newPlot(\"graph_Hoswn5hTNn\", traces_Hoswn5hTNn, layout_Hoswn5hTNn, config_Hoswn5hTNn);\n",
       "</script> \n"
      ]
     },
     "metadata": {},
     "output_type": "display_data"
    }
   ],
   "source": [
    "val series = (\n",
    "    XY(x, y)\n",
    "    asType SCATTER\n",
    "    drawStyle MARKERS\n",
    ")\n",
    "\n",
    "val chart = (\n",
    "      Chart()\n",
    "    addSeries series.setName(\"Data for Axis Limit example\")\n",
    "    setTitle \"Axis.SetAxisRange\"\n",
    "    addAxes yaxis\n",
    "    setXAxisLimits(-100, 100) // Here we set the axis limit from -100 to 100\n",
    "    setYAxisLimits(100, -100) // Here, by using the minimum as 100 and the maximum as -100, we automatically reverse the axis\n",
    "    setXAxisTitle(\"x axis\")\n",
    "    setYAxisTitle(\"y axis\")\n",
    ")\n",
    "\n",
    "chart.plotInline"
   ]
  },
  {
   "cell_type": "markdown",
   "metadata": {},
   "source": [
    "#### Adjusting Axis Ticks"
   ]
  },
  {
   "cell_type": "code",
   "execution_count": 17,
   "metadata": {
    "scrolled": false
   },
   "outputs": [
    {
     "data": {
      "text/html": [
       "<div id=\"grid-container_Gh6RjP1toe\" class=\"grid-container\" align=\"center\"> \n",
       "<div id=\"grid_Gh6RjP1toe\" class=\"grid\" align=\"center\"> \n",
       "<div id=\"graph_SUYEAFYJoS\" class=\"graph\"></div> \n",
       "</div> \n",
       "</div> \n",
       "<script>\n",
       "var masonry = new Macy({\n",
       "    container: '#grid_Gh6RjP1toe',\n",
       "    debug: true,\n",
       "    mobileFirst: true,\n",
       "    columns: 1,\n",
       "    margin: {\n",
       "        x: 0,\n",
       "        y: 0\n",
       "    }\n",
       "  });\n",
       "\n",
       "  var traces_SUYEAFYJoS = [{\"name\":\"oLnKjcNy7P\",\"type\":\"scatter\",\"mode\":\"markers\",\"x\":[0,0.8413683026763604,0.9610631985200326,0.5055222939865325,1.9090883789634399,1.5269812313554731,3.9079749782267266,1.1863213525979126,3.6711638368325543,7.672453749962248,1.8050776835740978,10.193936215443792,8.438613169611239,1.5032886611245486,6.152036369061692,9.815536171828928,8.90424229614141,13.884773707367525,0.545092425387083,10.320251223681556,9.624444489619744,1.061906126113934,4.0640144458027665,14.512453754207328,18.567132976968697,9.714509484052225,19.7371504363419,12.724625141215439,5.572315430184267,26.63687579517762,9.975582853049495,23.944398572976702,9.566505984068872,24.35323124413348,25.921104658887568,27.516465076060314,10.88877876934967,17.783036031072836,11.694717438604071,38.531904782989514,6.2161382985818525,6.923679706099732,3.812630667457751,21.865147775948586,7.569062566867152,2.672389523670917,10.80530623285447,40.0922413724931,9.984501655412755,8.614282726303232,24.581895846528113,34.47327295471691,2.9133561298530495,48.10932346519313,29.57758734995704,42.05683473162246,54.482454024282276,22.5676220294269,28.454720179148005,55.015182451097544,51.70735723675414,25.65988133944476,6.350248084371509,13.795299745865945,41.801859433360555,10.618071063416984,49.622075980607804,43.8234396202534,58.15293331124818,35.990314186875466,45.995030006074984,60.578807614401875,5.56598835586407,45.47381360913866,15.193760243812855,66.10600447069966,43.284721540174914,62.01012221251927,64.82467501928964,11.715486123573667,37.30254179401187,49.43845349771802,55.68207550928531,47.97679855952076,39.85852558176251,22.91478911765649,78.05506182976225,81.39058599942432,18.000117283721533,67.2674446459535,2.2513791449581575,89.58239393663051,18.947325223021494,66.72345428002085,8.68236235395729,9.744118054957955,3.958982283830988,50.25453790468024,95.71930079101482,8.607527080024125],\"y\":[0,0.1624425902926645,0.18404030562396034,0.4286992366053083,1.5883454788153708,0.530641944271808,1.3610674989988782,3.2999543963001132,3.867699096408133,7.3651133688078,1.2562415973548635,4.876681797342667,8.434437934802574,6.437894170505578,6.483464800525033,1.2121038704892395,13.084321489283079,8.601118994903054,13.178591165347415,8.63048703344021,18.904625853793004,20.888998204891653,7.718739152486639,14.869738947841743,6.073883994422472,13.963330277936633,25.67558105062746,3.6950453073106893,23.676615384582725,2.1556148057487174,21.013120630823057,25.199988602945773,28.39999855060984,18.423270740363,33.81293242692089,11.632691495607784,12.52729846698854,15.027725734161393,11.695562594854842,8.756385790597562,19.428977611452723,19.90812782824597,31.855846885036254,40.72647831244637,15.026857654023484,14.816259209119794,9.492166945655816,4.489625168008084,2.719365991025878,5.545777128353112,40.63528935153463,5.034521052568239,41.25690420721214,10.28228918776945,17.221264205110007,1.6991474376702353,22.295612657634017,41.46991240073064,11.95503809844995,36.414969453246364,43.0853600219689,17.884864682418893,46.32685194109106,7.495150737073129,42.213594573024835,33.07736747798138,47.32219761530597,36.60120372972648,44.780805968924675,23.23959952628439,13.158117263206737,40.10060633014436,16.075717493106836,11.129726178005033,30.03389724596493,40.40682632821687,45.99900685794783,52.180070618881544,16.652744731526038,30.32288687951869,36.40328846019926,45.59130058917982,71.40290014314667,24.140061635508392,44.42432113426688,63.31415469051426,34.83173947819918,80.5245726633874,11.023902642701104,62.59557946268027,73.65481521614788,37.307128111183964,87.59873162772554,36.46735675767144,54.26347337384355,23.423049201630796,52.88153630922716,90.43222356913705,79.77964824005558,35.68420159330706]}];\n",
       " var layout_SUYEAFYJoS = {\"height\":550,\"width\":600,\"hovermode\":\"closest\",\"title\":{\"text\":\"Set Axis Ticks\"},\"showlegend\":true,\"yaxis\":{\"title\":{\"text\":\"y variable\"},\"showgrid\":true,\"zeroline\":false,\"showline\":false,\"range\":[-100,100]},\"xaxis\":{\"title\":{\"text\":\"my new x axis\"},\"showgrid\":true,\"zeroline\":false,\"showline\":false,\"range\":[0,100],\"tick0\":5,\"dtick\":15}};\n",
       " var config_SUYEAFYJoS = {\"responsive\":true,\"scrollZoom\":true,\"displaylogo\":false};\n",
       " Plotly.newPlot(\"graph_SUYEAFYJoS\", traces_SUYEAFYJoS, layout_SUYEAFYJoS, config_SUYEAFYJoS);\n",
       "</script> \n"
      ]
     },
     "metadata": {},
     "output_type": "display_data"
    }
   ],
   "source": [
    "val series = (\n",
    "    XY(x, y)\n",
    "    asType SCATTER\n",
    "    drawStyle MARKERS\n",
    ")\n",
    "\n",
    "val chart = (\n",
    "    Chart()\n",
    "    addSeries series\n",
    "    setTitle \"Set Axis Ticks\"\n",
    "    addAxes yaxis\n",
    "    setXAxisLimits(0, 100)\n",
    "    setYAxisLimits(-100, 100)\n",
    "    setXAxisTitle(\"my new x axis\")\n",
    "    setXAxisStartTick 5\n",
    "    setXAxisTickGap 15\n",
    ")\n",
    "\n",
    "chart.plotInline"
   ]
  },
  {
   "cell_type": "markdown",
   "metadata": {},
   "source": [
    "### Setting Logarithmic Axes"
   ]
  },
  {
   "cell_type": "code",
   "execution_count": 18,
   "metadata": {},
   "outputs": [
    {
     "data": {
      "text/html": [
       "<div id=\"grid-container_GiBtaXAjrv\" class=\"grid-container\" align=\"center\"> \n",
       "<div id=\"grid_GiBtaXAjrv\" class=\"grid\" align=\"center\"> \n",
       "<div id=\"graph_cLvXstdWWJ\" class=\"graph\"></div> \n",
       "</div> \n",
       "</div> \n",
       "<script>\n",
       "var masonry = new Macy({\n",
       "    container: '#grid_GiBtaXAjrv',\n",
       "    debug: true,\n",
       "    mobileFirst: true,\n",
       "    columns: 1,\n",
       "    margin: {\n",
       "        x: 0,\n",
       "        y: 0\n",
       "    }\n",
       "  });\n",
       "\n",
       "  var traces_cLvXstdWWJ = [{\"name\":\"UArMRNhyPd\",\"type\":\"scatter\",\"mode\":\"markers\",\"x\":[1,2,3],\"y\":[1.234,5.2112,2.44332]}];\n",
       " var layout_cLvXstdWWJ = {\"height\":550,\"width\":600,\"hovermode\":\"closest\",\"title\":{\"text\":\"Logarithmic Axes\"},\"showlegend\":true,\"yaxis\":{\"title\":{\"text\":\"y variable\"},\"showgrid\":true,\"zeroline\":false,\"showline\":false,\"type\":\"log\"},\"xaxis\":{\"showgrid\":true,\"zeroline\":false,\"showline\":false,\"type\":\"log\"}};\n",
       " var config_cLvXstdWWJ = {\"responsive\":true,\"scrollZoom\":true,\"displaylogo\":false};\n",
       " Plotly.newPlot(\"graph_cLvXstdWWJ\", traces_cLvXstdWWJ, layout_cLvXstdWWJ, config_cLvXstdWWJ);\n",
       "</script> \n"
      ]
     },
     "metadata": {},
     "output_type": "display_data"
    }
   ],
   "source": [
    "val series = (\n",
    "    XY(List(1, 2, 3), List(1.234, 5.2112, 2.44332))\n",
    "    asType SCATTER\n",
    "    drawStyle MARKERS\n",
    ")\n",
    "\n",
    "val chart = (\n",
    "    Chart()\n",
    "    addSeries series\n",
    "    setTitle \"Logarithmic Axes\"\n",
    "    addAxes yaxis\n",
    "    drawXAxisLog true // We set the 'drawXAxisLog' value to 'true' to draw it on a logarithmic scale\n",
    "    drawYAxisLog true\n",
    ")\n",
    "\n",
    "chart.plotInline"
   ]
  },
  {
   "cell_type": "markdown",
   "metadata": {},
   "source": [
    "### Reversing axis\n",
    "We can also reverse the axis by setting the appropriate 'drawXAxisReversed'"
   ]
  },
  {
   "cell_type": "code",
   "execution_count": 19,
   "metadata": {},
   "outputs": [
    {
     "data": {
      "text/html": [
       "<div id=\"grid-container_pZWLt2oBrb\" class=\"grid-container\" align=\"center\"> \n",
       "<div id=\"grid_pZWLt2oBrb\" class=\"grid\" align=\"center\"> \n",
       "<div id=\"graph_scXty0fwXX\" class=\"graph\"></div> \n",
       "</div> \n",
       "</div> \n",
       "<script>\n",
       "var masonry = new Macy({\n",
       "    container: '#grid_pZWLt2oBrb',\n",
       "    debug: true,\n",
       "    mobileFirst: true,\n",
       "    columns: 1,\n",
       "    margin: {\n",
       "        x: 0,\n",
       "        y: 0\n",
       "    }\n",
       "  });\n",
       "\n",
       "  var traces_scXty0fwXX = [{\"name\":\"RPSV6KNig2\",\"type\":\"scatter\",\"mode\":\"markers\",\"x\":[0,0.8413683026763604,0.9610631985200326,0.5055222939865325,1.9090883789634399,1.5269812313554731,3.9079749782267266,1.1863213525979126,3.6711638368325543,7.672453749962248,1.8050776835740978,10.193936215443792,8.438613169611239,1.5032886611245486,6.152036369061692,9.815536171828928,8.90424229614141,13.884773707367525,0.545092425387083,10.320251223681556,9.624444489619744,1.061906126113934,4.0640144458027665,14.512453754207328,18.567132976968697,9.714509484052225,19.7371504363419,12.724625141215439,5.572315430184267,26.63687579517762,9.975582853049495,23.944398572976702,9.566505984068872,24.35323124413348,25.921104658887568,27.516465076060314,10.88877876934967,17.783036031072836,11.694717438604071,38.531904782989514,6.2161382985818525,6.923679706099732,3.812630667457751,21.865147775948586,7.569062566867152,2.672389523670917,10.80530623285447,40.0922413724931,9.984501655412755,8.614282726303232,24.581895846528113,34.47327295471691,2.9133561298530495,48.10932346519313,29.57758734995704,42.05683473162246,54.482454024282276,22.5676220294269,28.454720179148005,55.015182451097544,51.70735723675414,25.65988133944476,6.350248084371509,13.795299745865945,41.801859433360555,10.618071063416984,49.622075980607804,43.8234396202534,58.15293331124818,35.990314186875466,45.995030006074984,60.578807614401875,5.56598835586407,45.47381360913866,15.193760243812855,66.10600447069966,43.284721540174914,62.01012221251927,64.82467501928964,11.715486123573667,37.30254179401187,49.43845349771802,55.68207550928531,47.97679855952076,39.85852558176251,22.91478911765649,78.05506182976225,81.39058599942432,18.000117283721533,67.2674446459535,2.2513791449581575,89.58239393663051,18.947325223021494,66.72345428002085,8.68236235395729,9.744118054957955,3.958982283830988,50.25453790468024,95.71930079101482,8.607527080024125],\"y\":[0,0.1624425902926645,0.18404030562396034,0.4286992366053083,1.5883454788153708,0.530641944271808,1.3610674989988782,3.2999543963001132,3.867699096408133,7.3651133688078,1.2562415973548635,4.876681797342667,8.434437934802574,6.437894170505578,6.483464800525033,1.2121038704892395,13.084321489283079,8.601118994903054,13.178591165347415,8.63048703344021,18.904625853793004,20.888998204891653,7.718739152486639,14.869738947841743,6.073883994422472,13.963330277936633,25.67558105062746,3.6950453073106893,23.676615384582725,2.1556148057487174,21.013120630823057,25.199988602945773,28.39999855060984,18.423270740363,33.81293242692089,11.632691495607784,12.52729846698854,15.027725734161393,11.695562594854842,8.756385790597562,19.428977611452723,19.90812782824597,31.855846885036254,40.72647831244637,15.026857654023484,14.816259209119794,9.492166945655816,4.489625168008084,2.719365991025878,5.545777128353112,40.63528935153463,5.034521052568239,41.25690420721214,10.28228918776945,17.221264205110007,1.6991474376702353,22.295612657634017,41.46991240073064,11.95503809844995,36.414969453246364,43.0853600219689,17.884864682418893,46.32685194109106,7.495150737073129,42.213594573024835,33.07736747798138,47.32219761530597,36.60120372972648,44.780805968924675,23.23959952628439,13.158117263206737,40.10060633014436,16.075717493106836,11.129726178005033,30.03389724596493,40.40682632821687,45.99900685794783,52.180070618881544,16.652744731526038,30.32288687951869,36.40328846019926,45.59130058917982,71.40290014314667,24.140061635508392,44.42432113426688,63.31415469051426,34.83173947819918,80.5245726633874,11.023902642701104,62.59557946268027,73.65481521614788,37.307128111183964,87.59873162772554,36.46735675767144,54.26347337384355,23.423049201630796,52.88153630922716,90.43222356913705,79.77964824005558,35.68420159330706]}];\n",
       " var layout_scXty0fwXX = {\"height\":550,\"width\":600,\"hovermode\":\"closest\",\"title\":{\"text\":\"Reversed Axes\"},\"showlegend\":true,\"yaxis\":{\"title\":{\"text\":\"Mah\"},\"showgrid\":true,\"zeroline\":false,\"showline\":false,\"autorange\":\"reversed\"},\"xaxis\":{\"showgrid\":true,\"zeroline\":false,\"showline\":false,\"autorange\":\"reversed\"}};\n",
       " var config_scXty0fwXX = {\"responsive\":true,\"scrollZoom\":true,\"displaylogo\":false};\n",
       " Plotly.newPlot(\"graph_scXty0fwXX\", traces_scXty0fwXX, layout_scXty0fwXX, config_scXty0fwXX);\n",
       "</script> \n"
      ]
     },
     "metadata": {},
     "output_type": "display_data"
    }
   ],
   "source": [
    "val series = (\n",
    "    XY(x, y)\n",
    "    asType SCATTER\n",
    "    drawStyle MARKERS\n",
    ")\n",
    "\n",
    "val chart = (\n",
    "    Chart()\n",
    "    addSeries series\n",
    "    setTitle \"Reversed Axes\"\n",
    "    setYAxisTitle(\"Mah\")\n",
    "    drawXAxisReversed true\n",
    "    drawYAxisReversed true\n",
    ")\n",
    "chart.plotInline"
   ]
  },
  {
   "cell_type": "markdown",
   "metadata": {},
   "source": [
    "### Display options - MultiCharts\n",
    "\n",
    "`MultiCharts` are a way to plot multiple axes on the same chart. This is seperate to Picta's grid system, which create a grid of subplot `Chart`'s. The next series of examples will make this clearer."
   ]
  },
  {
   "cell_type": "code",
   "execution_count": 20,
   "metadata": {},
   "outputs": [
    {
     "data": {
      "text/html": [
       "<div id=\"grid-container_JADwLamIjI\" class=\"grid-container\" align=\"center\"> \n",
       "<div id=\"grid_JADwLamIjI\" class=\"grid\" align=\"center\"> \n",
       "<div id=\"graph_8dOSHW1S0h\" class=\"graph\"></div> \n",
       "</div> \n",
       "</div> \n",
       "<script>\n",
       "var masonry = new Macy({\n",
       "    container: '#grid_JADwLamIjI',\n",
       "    debug: true,\n",
       "    mobileFirst: true,\n",
       "    columns: 1,\n",
       "    margin: {\n",
       "        x: 0,\n",
       "        y: 0\n",
       "    }\n",
       "  });\n",
       "\n",
       "  var traces_8dOSHW1S0h = [{\"name\":\"First series\",\"type\":\"scatter\",\"mode\":\"markers\",\"x\":[1,2,3],\"y\":[2,4,5]},{\"name\":\"Second series\",\"type\":\"scatter\",\"mode\":\"markers\",\"xaxis\":\"x2\",\"yaxis\":\"y2\",\"x\":[0,0.8413683026763604,0.9610631985200326,0.5055222939865325,1.9090883789634399,1.5269812313554731,3.9079749782267266,1.1863213525979126,3.6711638368325543,7.672453749962248,1.8050776835740978,10.193936215443792,8.438613169611239,1.5032886611245486,6.152036369061692,9.815536171828928,8.90424229614141,13.884773707367525,0.545092425387083,10.320251223681556,9.624444489619744,1.061906126113934,4.0640144458027665,14.512453754207328,18.567132976968697,9.714509484052225,19.7371504363419,12.724625141215439,5.572315430184267,26.63687579517762,9.975582853049495,23.944398572976702,9.566505984068872,24.35323124413348,25.921104658887568,27.516465076060314,10.88877876934967,17.783036031072836,11.694717438604071,38.531904782989514,6.2161382985818525,6.923679706099732,3.812630667457751,21.865147775948586,7.569062566867152,2.672389523670917,10.80530623285447,40.0922413724931,9.984501655412755,8.614282726303232,24.581895846528113,34.47327295471691,2.9133561298530495,48.10932346519313,29.57758734995704,42.05683473162246,54.482454024282276,22.5676220294269,28.454720179148005,55.015182451097544,51.70735723675414,25.65988133944476,6.350248084371509,13.795299745865945,41.801859433360555,10.618071063416984,49.622075980607804,43.8234396202534,58.15293331124818,35.990314186875466,45.995030006074984,60.578807614401875,5.56598835586407,45.47381360913866,15.193760243812855,66.10600447069966,43.284721540174914,62.01012221251927,64.82467501928964,11.715486123573667,37.30254179401187,49.43845349771802,55.68207550928531,47.97679855952076,39.85852558176251,22.91478911765649,78.05506182976225,81.39058599942432,18.000117283721533,67.2674446459535,2.2513791449581575,89.58239393663051,18.947325223021494,66.72345428002085,8.68236235395729,9.744118054957955,3.958982283830988,50.25453790468024,95.71930079101482,8.607527080024125],\"y\":[0,0.1624425902926645,0.18404030562396034,0.4286992366053083,1.5883454788153708,0.530641944271808,1.3610674989988782,3.2999543963001132,3.867699096408133,7.3651133688078,1.2562415973548635,4.876681797342667,8.434437934802574,6.437894170505578,6.483464800525033,1.2121038704892395,13.084321489283079,8.601118994903054,13.178591165347415,8.63048703344021,18.904625853793004,20.888998204891653,7.718739152486639,14.869738947841743,6.073883994422472,13.963330277936633,25.67558105062746,3.6950453073106893,23.676615384582725,2.1556148057487174,21.013120630823057,25.199988602945773,28.39999855060984,18.423270740363,33.81293242692089,11.632691495607784,12.52729846698854,15.027725734161393,11.695562594854842,8.756385790597562,19.428977611452723,19.90812782824597,31.855846885036254,40.72647831244637,15.026857654023484,14.816259209119794,9.492166945655816,4.489625168008084,2.719365991025878,5.545777128353112,40.63528935153463,5.034521052568239,41.25690420721214,10.28228918776945,17.221264205110007,1.6991474376702353,22.295612657634017,41.46991240073064,11.95503809844995,36.414969453246364,43.0853600219689,17.884864682418893,46.32685194109106,7.495150737073129,42.213594573024835,33.07736747798138,47.32219761530597,36.60120372972648,44.780805968924675,23.23959952628439,13.158117263206737,40.10060633014436,16.075717493106836,11.129726178005033,30.03389724596493,40.40682632821687,45.99900685794783,52.180070618881544,16.652744731526038,30.32288687951869,36.40328846019926,45.59130058917982,71.40290014314667,24.140061635508392,44.42432113426688,63.31415469051426,34.83173947819918,80.5245726633874,11.023902642701104,62.59557946268027,73.65481521614788,37.307128111183964,87.59873162772554,36.46735675767144,54.26347337384355,23.423049201630796,52.88153630922716,90.43222356913705,79.77964824005558,35.68420159330706]}];\n",
       " var layout_8dOSHW1S0h = {\"height\":550,\"width\":600,\"hovermode\":\"closest\",\"title\":{\"text\":\"Chart.Axis.Composition\"},\"showlegend\":true,\"grid\":{\"rows\":1,\"columns\":2,\"pattern\":\"independent\"},\"xaxis\":{\"showgrid\":true,\"zeroline\":false,\"showline\":false},\"xaxis2\":{\"title\":{\"text\":\"x2\"},\"showgrid\":true,\"zeroline\":false,\"showline\":false},\"yaxis2\":{\"showgrid\":true,\"zeroline\":false,\"showline\":false}};\n",
       " var config_8dOSHW1S0h = {\"responsive\":false,\"scrollZoom\":true,\"displaylogo\":false};\n",
       " Plotly.newPlot(\"graph_8dOSHW1S0h\", traces_8dOSHW1S0h, layout_8dOSHW1S0h, config_8dOSHW1S0h);\n",
       "</script> \n"
      ]
     },
     "metadata": {},
     "output_type": "display_data"
    }
   ],
   "source": [
    "// create the axes\n",
    "val xaxis1 = Axis(X) setTitle \"x1\"\n",
    "val yaxis1 = Axis(X) // this is not strictly necessary, but if it is not added there will be a zeroline at y = 0\n",
    "\n",
    "val xaxis2 = Axis(X, 2) setTitle \"x2\"\n",
    "val yaxis2 = Axis(Y, 2) // this is not strictly necessary, but if it is not added there will be a zeroline at y = 0\n",
    "\n",
    "val series1 = (\n",
    "    XY(x = List(1, 2, 3), y = List(2, 4, 5))\n",
    "    asType SCATTER\n",
    "    drawStyle MARKERS\n",
    "    setName(\"First series\") //Here we don't specify the axis, so the standard axis will be used\n",
    ")\n",
    "\n",
    "val series2 = (\n",
    "    XY(x = x, y = y) \n",
    "    asType SCATTER \n",
    "    drawStyle MARKERS \n",
    "    setName(\"Second series\")\n",
    "    setAxes (xaxis2, yaxis2) //Here we specify the axis for this plot, which are the second axis\n",
    ")\n",
    "\n",
    "val chart1 = Chart()\n",
    "            .addSeries(series1, series2)\n",
    "            .setTitle(\"Chart.Axis.Composition\")\n",
    "            .addAxes(xaxis1, yaxis1, xaxis2, yaxis2)\n",
    "            .setConfig(responsive=false)\n",
    "            // This tells Picta that we want to actually subdivide this chart into multiple plots\n",
    "            .asMultiChart(1, 2) //These correspond to the axis values given above\n",
    "\n",
    "chart1.plotInline"
   ]
  },
  {
   "cell_type": "markdown",
   "metadata": {},
   "source": [
    "### Picta's Subplot System\n",
    "\n",
    "While the above is useful, sometimes it is easier to plot independent charts in a subplot grid. This is where we can use the Picta subplot system.\n",
    "\n",
    "In the subplots below, each subplot is an individual `Chart`. This means we can actually embed the above `MultiChart` inside another subplot. This way we can create nested subplots to showcase any data we need to.\n",
    "\n",
    "Used creatively, this subplot system can be very useful for data exploration."
   ]
  },
  {
   "cell_type": "code",
   "execution_count": 21,
   "metadata": {
    "scrolled": false
   },
   "outputs": [
    {
     "data": {
      "text/html": [
       "<div id=\"grid-container_sxlWOCMGai\" class=\"grid-container\" align=\"center\"> \n",
       "<div id=\"grid_sxlWOCMGai\" class=\"grid\" align=\"center\"> \n",
       "<div id=\"graph_9Ee9ZqcF5s\" class=\"graph\"></div> \n",
       "<div id=\"graph_yDZNBeWv9C\" class=\"graph\"></div> \n",
       "<div id=\"graph_f3cMHn42TI\" class=\"graph\"></div> \n",
       "<div id=\"graph_O5nI96GWlq\" class=\"graph\"></div> \n",
       "</div> \n",
       "</div> \n",
       "\n",
       "<div align=\"center\">\n",
       "<button id = \"saveAsPNG_sxlWOCMGai\" class=\"picta-button\">Download Canvas as PNG</button>\n",
       "</div>\n",
       "<script>\n",
       "var masonry = new Macy({\n",
       "    container: '#grid_sxlWOCMGai',\n",
       "    debug: true,\n",
       "    mobileFirst: true,\n",
       "    columns: 2,\n",
       "    margin: {\n",
       "        x: 0,\n",
       "        y: 0\n",
       "    }\n",
       "  });\n",
       "\n",
       "  var traces_9Ee9ZqcF5s = [{\"name\":\"a\",\"type\":\"scatter\",\"mode\":\"markers\",\"x\":[0,0.8413683026763604,0.9610631985200326,0.5055222939865325,1.9090883789634399,1.5269812313554731,3.9079749782267266,1.1863213525979126,3.6711638368325543,7.672453749962248,1.8050776835740978,10.193936215443792,8.438613169611239,1.5032886611245486,6.152036369061692,9.815536171828928,8.90424229614141,13.884773707367525,0.545092425387083,10.320251223681556,9.624444489619744,1.061906126113934,4.0640144458027665,14.512453754207328,18.567132976968697,9.714509484052225,19.7371504363419,12.724625141215439,5.572315430184267,26.63687579517762,9.975582853049495,23.944398572976702,9.566505984068872,24.35323124413348,25.921104658887568,27.516465076060314,10.88877876934967,17.783036031072836,11.694717438604071,38.531904782989514,6.2161382985818525,6.923679706099732,3.812630667457751,21.865147775948586,7.569062566867152,2.672389523670917,10.80530623285447,40.0922413724931,9.984501655412755,8.614282726303232,24.581895846528113,34.47327295471691,2.9133561298530495,48.10932346519313,29.57758734995704,42.05683473162246,54.482454024282276,22.5676220294269,28.454720179148005,55.015182451097544,51.70735723675414,25.65988133944476,6.350248084371509,13.795299745865945,41.801859433360555,10.618071063416984,49.622075980607804,43.8234396202534,58.15293331124818,35.990314186875466,45.995030006074984,60.578807614401875,5.56598835586407,45.47381360913866,15.193760243812855,66.10600447069966,43.284721540174914,62.01012221251927,64.82467501928964,11.715486123573667,37.30254179401187,49.43845349771802,55.68207550928531,47.97679855952076,39.85852558176251,22.91478911765649,78.05506182976225,81.39058599942432,18.000117283721533,67.2674446459535,2.2513791449581575,89.58239393663051,18.947325223021494,66.72345428002085,8.68236235395729,9.744118054957955,3.958982283830988,50.25453790468024,95.71930079101482,8.607527080024125],\"y\":[0,0.1624425902926645,0.18404030562396034,0.4286992366053083,1.5883454788153708,0.530641944271808,1.3610674989988782,3.2999543963001132,3.867699096408133,7.3651133688078,1.2562415973548635,4.876681797342667,8.434437934802574,6.437894170505578,6.483464800525033,1.2121038704892395,13.084321489283079,8.601118994903054,13.178591165347415,8.63048703344021,18.904625853793004,20.888998204891653,7.718739152486639,14.869738947841743,6.073883994422472,13.963330277936633,25.67558105062746,3.6950453073106893,23.676615384582725,2.1556148057487174,21.013120630823057,25.199988602945773,28.39999855060984,18.423270740363,33.81293242692089,11.632691495607784,12.52729846698854,15.027725734161393,11.695562594854842,8.756385790597562,19.428977611452723,19.90812782824597,31.855846885036254,40.72647831244637,15.026857654023484,14.816259209119794,9.492166945655816,4.489625168008084,2.719365991025878,5.545777128353112,40.63528935153463,5.034521052568239,41.25690420721214,10.28228918776945,17.221264205110007,1.6991474376702353,22.295612657634017,41.46991240073064,11.95503809844995,36.414969453246364,43.0853600219689,17.884864682418893,46.32685194109106,7.495150737073129,42.213594573024835,33.07736747798138,47.32219761530597,36.60120372972648,44.780805968924675,23.23959952628439,13.158117263206737,40.10060633014436,16.075717493106836,11.129726178005033,30.03389724596493,40.40682632821687,45.99900685794783,52.180070618881544,16.652744731526038,30.32288687951869,36.40328846019926,45.59130058917982,71.40290014314667,24.140061635508392,44.42432113426688,63.31415469051426,34.83173947819918,80.5245726633874,11.023902642701104,62.59557946268027,73.65481521614788,37.307128111183964,87.59873162772554,36.46735675767144,54.26347337384355,23.423049201630796,52.88153630922716,90.43222356913705,79.77964824005558,35.68420159330706]}];\n",
       " var layout_9Ee9ZqcF5s = {\"height\":350,\"width\":350,\"hovermode\":\"closest\",\"showlegend\":true,\"margin\":{\"l\":50,\"r\":30,\"t\":50,\"b\":50},\"xaxis\":{\"title\":{\"text\":\"x axis 1\"},\"showgrid\":true,\"zeroline\":false,\"showline\":false},\"yaxis\":{\"title\":{\"text\":\"y axis 1\"},\"showgrid\":true,\"zeroline\":false,\"showline\":false}};\n",
       " var config_9Ee9ZqcF5s = {\"responsive\":true,\"scrollZoom\":true,\"displaylogo\":false};\n",
       " Plotly.newPlot(\"graph_9Ee9ZqcF5s\", traces_9Ee9ZqcF5s, layout_9Ee9ZqcF5s, config_9Ee9ZqcF5s);\n",
       "\n",
       "  var traces_yDZNBeWv9C = [{\"name\":\"b\",\"type\":\"scatter\",\"mode\":\"markers\",\"x\":[0,0.8413683026763604,0.9610631985200326,0.5055222939865325,1.9090883789634399,1.5269812313554731,3.9079749782267266,1.1863213525979126,3.6711638368325543,7.672453749962248,1.8050776835740978,10.193936215443792,8.438613169611239,1.5032886611245486,6.152036369061692,9.815536171828928,8.90424229614141,13.884773707367525,0.545092425387083,10.320251223681556,9.624444489619744,1.061906126113934,4.0640144458027665,14.512453754207328,18.567132976968697,9.714509484052225,19.7371504363419,12.724625141215439,5.572315430184267,26.63687579517762,9.975582853049495,23.944398572976702,9.566505984068872,24.35323124413348,25.921104658887568,27.516465076060314,10.88877876934967,17.783036031072836,11.694717438604071,38.531904782989514,6.2161382985818525,6.923679706099732,3.812630667457751,21.865147775948586,7.569062566867152,2.672389523670917,10.80530623285447,40.0922413724931,9.984501655412755,8.614282726303232,24.581895846528113,34.47327295471691,2.9133561298530495,48.10932346519313,29.57758734995704,42.05683473162246,54.482454024282276,22.5676220294269,28.454720179148005,55.015182451097544,51.70735723675414,25.65988133944476,6.350248084371509,13.795299745865945,41.801859433360555,10.618071063416984,49.622075980607804,43.8234396202534,58.15293331124818,35.990314186875466,45.995030006074984,60.578807614401875,5.56598835586407,45.47381360913866,15.193760243812855,66.10600447069966,43.284721540174914,62.01012221251927,64.82467501928964,11.715486123573667,37.30254179401187,49.43845349771802,55.68207550928531,47.97679855952076,39.85852558176251,22.91478911765649,78.05506182976225,81.39058599942432,18.000117283721533,67.2674446459535,2.2513791449581575,89.58239393663051,18.947325223021494,66.72345428002085,8.68236235395729,9.744118054957955,3.958982283830988,50.25453790468024,95.71930079101482,8.607527080024125],\"y\":[0,0.1624425902926645,0.18404030562396034,0.4286992366053083,1.5883454788153708,0.530641944271808,1.3610674989988782,3.2999543963001132,3.867699096408133,7.3651133688078,1.2562415973548635,4.876681797342667,8.434437934802574,6.437894170505578,6.483464800525033,1.2121038704892395,13.084321489283079,8.601118994903054,13.178591165347415,8.63048703344021,18.904625853793004,20.888998204891653,7.718739152486639,14.869738947841743,6.073883994422472,13.963330277936633,25.67558105062746,3.6950453073106893,23.676615384582725,2.1556148057487174,21.013120630823057,25.199988602945773,28.39999855060984,18.423270740363,33.81293242692089,11.632691495607784,12.52729846698854,15.027725734161393,11.695562594854842,8.756385790597562,19.428977611452723,19.90812782824597,31.855846885036254,40.72647831244637,15.026857654023484,14.816259209119794,9.492166945655816,4.489625168008084,2.719365991025878,5.545777128353112,40.63528935153463,5.034521052568239,41.25690420721214,10.28228918776945,17.221264205110007,1.6991474376702353,22.295612657634017,41.46991240073064,11.95503809844995,36.414969453246364,43.0853600219689,17.884864682418893,46.32685194109106,7.495150737073129,42.213594573024835,33.07736747798138,47.32219761530597,36.60120372972648,44.780805968924675,23.23959952628439,13.158117263206737,40.10060633014436,16.075717493106836,11.129726178005033,30.03389724596493,40.40682632821687,45.99900685794783,52.180070618881544,16.652744731526038,30.32288687951869,36.40328846019926,45.59130058917982,71.40290014314667,24.140061635508392,44.42432113426688,63.31415469051426,34.83173947819918,80.5245726633874,11.023902642701104,62.59557946268027,73.65481521614788,37.307128111183964,87.59873162772554,36.46735675767144,54.26347337384355,23.423049201630796,52.88153630922716,90.43222356913705,79.77964824005558,35.68420159330706]}];\n",
       " var layout_yDZNBeWv9C = {\"height\":350,\"width\":350,\"hovermode\":\"closest\",\"showlegend\":true,\"margin\":{\"l\":50,\"r\":50,\"t\":50,\"b\":50},\"xaxis\":{\"title\":{\"text\":\"x axis 2\"},\"showgrid\":true,\"zeroline\":false,\"showline\":false},\"yaxis\":{\"title\":{\"text\":\"y axis 2\"},\"showgrid\":true,\"zeroline\":false,\"showline\":false}};\n",
       " var config_yDZNBeWv9C = {\"responsive\":true,\"scrollZoom\":true,\"displaylogo\":false};\n",
       " Plotly.newPlot(\"graph_yDZNBeWv9C\", traces_yDZNBeWv9C, layout_yDZNBeWv9C, config_yDZNBeWv9C);\n",
       "\n",
       "  var traces_f3cMHn42TI = [{\"name\":\"c\",\"type\":\"scatter\",\"mode\":\"markers\",\"x\":[0,0.8413683026763604,0.9610631985200326,0.5055222939865325,1.9090883789634399,1.5269812313554731,3.9079749782267266,1.1863213525979126,3.6711638368325543,7.672453749962248,1.8050776835740978,10.193936215443792,8.438613169611239,1.5032886611245486,6.152036369061692,9.815536171828928,8.90424229614141,13.884773707367525,0.545092425387083,10.320251223681556,9.624444489619744,1.061906126113934,4.0640144458027665,14.512453754207328,18.567132976968697,9.714509484052225,19.7371504363419,12.724625141215439,5.572315430184267,26.63687579517762,9.975582853049495,23.944398572976702,9.566505984068872,24.35323124413348,25.921104658887568,27.516465076060314,10.88877876934967,17.783036031072836,11.694717438604071,38.531904782989514,6.2161382985818525,6.923679706099732,3.812630667457751,21.865147775948586,7.569062566867152,2.672389523670917,10.80530623285447,40.0922413724931,9.984501655412755,8.614282726303232,24.581895846528113,34.47327295471691,2.9133561298530495,48.10932346519313,29.57758734995704,42.05683473162246,54.482454024282276,22.5676220294269,28.454720179148005,55.015182451097544,51.70735723675414,25.65988133944476,6.350248084371509,13.795299745865945,41.801859433360555,10.618071063416984,49.622075980607804,43.8234396202534,58.15293331124818,35.990314186875466,45.995030006074984,60.578807614401875,5.56598835586407,45.47381360913866,15.193760243812855,66.10600447069966,43.284721540174914,62.01012221251927,64.82467501928964,11.715486123573667,37.30254179401187,49.43845349771802,55.68207550928531,47.97679855952076,39.85852558176251,22.91478911765649,78.05506182976225,81.39058599942432,18.000117283721533,67.2674446459535,2.2513791449581575,89.58239393663051,18.947325223021494,66.72345428002085,8.68236235395729,9.744118054957955,3.958982283830988,50.25453790468024,95.71930079101482,8.607527080024125],\"y\":[0,0.1624425902926645,0.18404030562396034,0.4286992366053083,1.5883454788153708,0.530641944271808,1.3610674989988782,3.2999543963001132,3.867699096408133,7.3651133688078,1.2562415973548635,4.876681797342667,8.434437934802574,6.437894170505578,6.483464800525033,1.2121038704892395,13.084321489283079,8.601118994903054,13.178591165347415,8.63048703344021,18.904625853793004,20.888998204891653,7.718739152486639,14.869738947841743,6.073883994422472,13.963330277936633,25.67558105062746,3.6950453073106893,23.676615384582725,2.1556148057487174,21.013120630823057,25.199988602945773,28.39999855060984,18.423270740363,33.81293242692089,11.632691495607784,12.52729846698854,15.027725734161393,11.695562594854842,8.756385790597562,19.428977611452723,19.90812782824597,31.855846885036254,40.72647831244637,15.026857654023484,14.816259209119794,9.492166945655816,4.489625168008084,2.719365991025878,5.545777128353112,40.63528935153463,5.034521052568239,41.25690420721214,10.28228918776945,17.221264205110007,1.6991474376702353,22.295612657634017,41.46991240073064,11.95503809844995,36.414969453246364,43.0853600219689,17.884864682418893,46.32685194109106,7.495150737073129,42.213594573024835,33.07736747798138,47.32219761530597,36.60120372972648,44.780805968924675,23.23959952628439,13.158117263206737,40.10060633014436,16.075717493106836,11.129726178005033,30.03389724596493,40.40682632821687,45.99900685794783,52.180070618881544,16.652744731526038,30.32288687951869,36.40328846019926,45.59130058917982,71.40290014314667,24.140061635508392,44.42432113426688,63.31415469051426,34.83173947819918,80.5245726633874,11.023902642701104,62.59557946268027,73.65481521614788,37.307128111183964,87.59873162772554,36.46735675767144,54.26347337384355,23.423049201630796,52.88153630922716,90.43222356913705,79.77964824005558,35.68420159330706]}];\n",
       " var layout_f3cMHn42TI = {\"height\":350,\"width\":350,\"hovermode\":\"closest\",\"showlegend\":true,\"margin\":{\"l\":50,\"r\":30,\"t\":50,\"b\":50},\"xaxis\":{\"title\":{\"text\":\"x axis 3\"},\"showgrid\":true,\"zeroline\":false,\"showline\":false},\"yaxis\":{\"title\":{\"text\":\"y axis 3\"},\"showgrid\":true,\"zeroline\":false,\"showline\":false}};\n",
       " var config_f3cMHn42TI = {\"responsive\":true,\"scrollZoom\":true,\"displaylogo\":false};\n",
       " Plotly.newPlot(\"graph_f3cMHn42TI\", traces_f3cMHn42TI, layout_f3cMHn42TI, config_f3cMHn42TI);\n",
       "\n",
       "  var traces_O5nI96GWlq = [{\"name\":\"First series\",\"type\":\"scatter\",\"mode\":\"markers\",\"x\":[1,2,3],\"y\":[2,4,5]},{\"name\":\"Second series\",\"type\":\"scatter\",\"mode\":\"markers\",\"xaxis\":\"x2\",\"yaxis\":\"y2\",\"x\":[0,0.8413683026763604,0.9610631985200326,0.5055222939865325,1.9090883789634399,1.5269812313554731,3.9079749782267266,1.1863213525979126,3.6711638368325543,7.672453749962248,1.8050776835740978,10.193936215443792,8.438613169611239,1.5032886611245486,6.152036369061692,9.815536171828928,8.90424229614141,13.884773707367525,0.545092425387083,10.320251223681556,9.624444489619744,1.061906126113934,4.0640144458027665,14.512453754207328,18.567132976968697,9.714509484052225,19.7371504363419,12.724625141215439,5.572315430184267,26.63687579517762,9.975582853049495,23.944398572976702,9.566505984068872,24.35323124413348,25.921104658887568,27.516465076060314,10.88877876934967,17.783036031072836,11.694717438604071,38.531904782989514,6.2161382985818525,6.923679706099732,3.812630667457751,21.865147775948586,7.569062566867152,2.672389523670917,10.80530623285447,40.0922413724931,9.984501655412755,8.614282726303232,24.581895846528113,34.47327295471691,2.9133561298530495,48.10932346519313,29.57758734995704,42.05683473162246,54.482454024282276,22.5676220294269,28.454720179148005,55.015182451097544,51.70735723675414,25.65988133944476,6.350248084371509,13.795299745865945,41.801859433360555,10.618071063416984,49.622075980607804,43.8234396202534,58.15293331124818,35.990314186875466,45.995030006074984,60.578807614401875,5.56598835586407,45.47381360913866,15.193760243812855,66.10600447069966,43.284721540174914,62.01012221251927,64.82467501928964,11.715486123573667,37.30254179401187,49.43845349771802,55.68207550928531,47.97679855952076,39.85852558176251,22.91478911765649,78.05506182976225,81.39058599942432,18.000117283721533,67.2674446459535,2.2513791449581575,89.58239393663051,18.947325223021494,66.72345428002085,8.68236235395729,9.744118054957955,3.958982283830988,50.25453790468024,95.71930079101482,8.607527080024125],\"y\":[0,0.1624425902926645,0.18404030562396034,0.4286992366053083,1.5883454788153708,0.530641944271808,1.3610674989988782,3.2999543963001132,3.867699096408133,7.3651133688078,1.2562415973548635,4.876681797342667,8.434437934802574,6.437894170505578,6.483464800525033,1.2121038704892395,13.084321489283079,8.601118994903054,13.178591165347415,8.63048703344021,18.904625853793004,20.888998204891653,7.718739152486639,14.869738947841743,6.073883994422472,13.963330277936633,25.67558105062746,3.6950453073106893,23.676615384582725,2.1556148057487174,21.013120630823057,25.199988602945773,28.39999855060984,18.423270740363,33.81293242692089,11.632691495607784,12.52729846698854,15.027725734161393,11.695562594854842,8.756385790597562,19.428977611452723,19.90812782824597,31.855846885036254,40.72647831244637,15.026857654023484,14.816259209119794,9.492166945655816,4.489625168008084,2.719365991025878,5.545777128353112,40.63528935153463,5.034521052568239,41.25690420721214,10.28228918776945,17.221264205110007,1.6991474376702353,22.295612657634017,41.46991240073064,11.95503809844995,36.414969453246364,43.0853600219689,17.884864682418893,46.32685194109106,7.495150737073129,42.213594573024835,33.07736747798138,47.32219761530597,36.60120372972648,44.780805968924675,23.23959952628439,13.158117263206737,40.10060633014436,16.075717493106836,11.129726178005033,30.03389724596493,40.40682632821687,45.99900685794783,52.180070618881544,16.652744731526038,30.32288687951869,36.40328846019926,45.59130058917982,71.40290014314667,24.140061635508392,44.42432113426688,63.31415469051426,34.83173947819918,80.5245726633874,11.023902642701104,62.59557946268027,73.65481521614788,37.307128111183964,87.59873162772554,36.46735675767144,54.26347337384355,23.423049201630796,52.88153630922716,90.43222356913705,79.77964824005558,35.68420159330706]}];\n",
       " var layout_O5nI96GWlq = {\"height\":350,\"width\":350,\"hovermode\":\"closest\",\"title\":{\"text\":\"The MultiChart from Above\"},\"showlegend\":true,\"grid\":{\"rows\":1,\"columns\":2,\"pattern\":\"independent\"},\"xaxis\":{\"showgrid\":true,\"zeroline\":false,\"showline\":false},\"xaxis2\":{\"title\":{\"text\":\"x2\"},\"showgrid\":true,\"zeroline\":false,\"showline\":false},\"yaxis2\":{\"showgrid\":true,\"zeroline\":false,\"showline\":false}};\n",
       " var config_O5nI96GWlq = {\"responsive\":false,\"scrollZoom\":true,\"displaylogo\":false};\n",
       " Plotly.newPlot(\"graph_O5nI96GWlq\", traces_O5nI96GWlq, layout_O5nI96GWlq, config_O5nI96GWlq);\n",
       "\n",
       "var save_sxlWOCMGai = document.getElementById(\"saveAsPNG_sxlWOCMGai\")\n",
       "save_sxlWOCMGai.onclick = async function() {\n",
       "    const grid = document.getElementById(\"grid-container_sxlWOCMGai\")\n",
       "    const graphs = grid.getElementsByClassName(\"graph\")\n",
       "\n",
       "    const images = []\n",
       "\n",
       "    const rows = 2\n",
       "    const cols = 2\n",
       "    const img_width = 400\n",
       "    const img_height = 400\n",
       "    var margin = 50\n",
       "\n",
       "    for (var i=0; i<rows; i++) {\n",
       "      for (var j=0; j<cols; j++) {\n",
       "        const image = await Plotly.toImage(graphs[i * cols + j], {format: 'png', width: img_width, height: img_height})\n",
       "        images.push(image);\n",
       "      }\n",
       "    }\n",
       "\n",
       "    const positioned_images = []\n",
       "\n",
       "        for (var i=0; i<rows; i++) {\n",
       "            for (var j=0; j<cols; j++) {\n",
       "\n",
       "                const obj = {\n",
       "                    \"src\": images[i*cols + j],\n",
       "                    x: j*img_width+margin,\n",
       "                    y: i*img_height+margin\n",
       "                }\n",
       "\n",
       "                positioned_images.push(obj)\n",
       "            }\n",
       "        }\n",
       "\n",
       "        mergeImages(positioned_images, {\n",
       "            width: img_width*cols+60, height: img_height*rows+60\n",
       "        })\n",
       "        .then(b64 => {\n",
       "            var a = document.createElement(\"a\");\n",
       "            a.href = b64;\n",
       "            a.download = \"Image.png\";\n",
       "            a.click();\n",
       "            a.remove()\n",
       "        });\n",
       "}\n",
       "</script> \n"
      ]
     },
     "metadata": {},
     "output_type": "display_data"
    }
   ],
   "source": [
    "// first define the x-axes we will use in the plot\n",
    "val ax1 = Axis(X, title = \"x axis 1\")\n",
    "val ax2 = Axis(X, title = \"x axis 2\")\n",
    "val ax3 = Axis(X, title = \"x axis 3\")\n",
    "val ax4 = Axis(X, title = \"x axis 4\")\n",
    "\n",
    "// first define the y-axes we will use in the plot\n",
    "val ax6 = Axis(Y, title = \"y axis 1\")\n",
    "val ax7 = Axis(Y, title = \"y axis 2\")\n",
    "val ax8 = Axis(Y, title = \"y axis 3\")\n",
    "val ax9 = Axis(Y, title = \"y axis 4\")\n",
    "\n",
    "// it may be necessary to play around with the chart dimensions and margin  in order to ensure a good fit on screen.\n",
    "val dim = 350\n",
    "\n",
    "val chart1 = (\n",
    "    Chart()\n",
    "    setDimensions(width = dim, height = dim)\n",
    "    addSeries XY(x, y).setName(\"a\").drawMarkers\n",
    "    addAxes(ax1, ax6)\n",
    "    setMargin(l=50, r=30, t=50, b=50)\n",
    ")\n",
    "\n",
    "val chart2 = (\n",
    "    Chart() \n",
    "    setDimensions(width = dim, height = dim)\n",
    "    addSeries XY(x, y).setName(\"b\").drawMarkers\n",
    "    addAxes(ax2, ax7)\n",
    "    setMargin(l=50, r=50, t=50, b=50)\n",
    ")\n",
    "\n",
    "val chart3 = (\n",
    "    Chart()\n",
    "    setDimensions(width = dim, height = dim)\n",
    "    addSeries XY(x, y).setName(\"c\").drawMarkers\n",
    "    addAxes(ax3, ax8)\n",
    "    setMargin(l=50, r=30, t=50, b=50)\n",
    ")\n",
    "\n",
    "val chart4 = (\n",
    "    Chart()\n",
    "    setDimensions(width = dim, height = dim)\n",
    "    addSeries(series1, series2)\n",
    "    setTitle \"The MultiChart from Above\"\n",
    "    addAxes(xaxis1, yaxis1, xaxis2, yaxis2) // these axes come from above\n",
    "    setConfig(responsive=false)\n",
    "    asMultiChart(1, 2)\n",
    ")\n",
    "\n",
    "// The canvas has an underlying grid. By default the underlying grid is 1x1, but we can pass in the dimensions we \n",
    "// require by passing in parameters in the constructor.\n",
    "Canvas(2, 2)\n",
    ".setChart(0, 0, chart1)\n",
    ".setChart(0, 1, chart2)\n",
    ".setChart(1, 0, chart3)\n",
    ".setChart(1, 1, chart4)\n",
    ".plotInline"
   ]
  },
  {
   "cell_type": "markdown",
   "metadata": {},
   "source": [
    "### Error Bars\n",
    "\n",
    "We can also add Error Bars to our plots.\n",
    "\n",
    "Error bars come in two flavours:\n",
    "\n",
    "1. `XError`\n",
    "2. `YError`\n",
    "\n",
    "Both of these has an associated `mode` that determines how the error bar is calculated for an individual point. The following `mode`s can be specified:\n",
    "\n",
    "- `DATA`: The user passes in an array that specifies the per point error\n",
    "- `PERCENT`: The user passes in a Double that calculates the error as a percentage of the value of the point\n",
    "- `CONSTANT`: The user passes in a double that is the constant value for the error for all points\n",
    "- `SQRT`: This calculates the error as a square root of the point value.\n",
    "\n",
    "The next few examples will demonstrate:"
   ]
  },
  {
   "cell_type": "code",
   "execution_count": 22,
   "metadata": {},
   "outputs": [],
   "source": [
    "// First import the Error Bar options\n",
    "import org.carbonateresearch.picta.options.{YError, CONSTANT, DATA, PERCENT, SQRT}"
   ]
  },
  {
   "cell_type": "code",
   "execution_count": 23,
   "metadata": {},
   "outputs": [
    {
     "data": {
      "text/html": [
       "<div id=\"grid-container_xfkHtIbCCe\" class=\"grid-container\" align=\"center\"> \n",
       "<div id=\"grid_xfkHtIbCCe\" class=\"grid\" align=\"center\"> \n",
       "<div id=\"graph_uM6NWiCSJg\" class=\"graph\"></div> \n",
       "<div id=\"graph_ih3eLMkqYB\" class=\"graph\"></div> \n",
       "<div id=\"graph_AFXLHwaPeq\" class=\"graph\"></div> \n",
       "<div id=\"graph_26vCnulj23\" class=\"graph\"></div> \n",
       "</div> \n",
       "</div> \n",
       "\n",
       "<div align=\"center\">\n",
       "<button id = \"saveAsPNG_xfkHtIbCCe\" class=\"picta-button\">Download Canvas as PNG</button>\n",
       "</div>\n",
       "<script>\n",
       "var masonry = new Macy({\n",
       "    container: '#grid_xfkHtIbCCe',\n",
       "    debug: true,\n",
       "    mobileFirst: true,\n",
       "    columns: 2,\n",
       "    margin: {\n",
       "        x: 0,\n",
       "        y: 0\n",
       "    }\n",
       "  });\n",
       "\n",
       "  var traces_uM6NWiCSJg = [{\"name\":\"Error from provided data\",\"type\":\"scatter\",\"mode\":\"markers\",\"x\":[1,2,3],\"y\":[1.234,5.2112,2.44332],\"error_y\":{\"type\":\"data\",\"visible\":true,\"array\":[0.5,0.5,0.5]}}];\n",
       " var layout_uM6NWiCSJg = {\"height\":400,\"width\":400,\"hovermode\":\"closest\",\"title\":{\"text\":\"Per Point Specified Error\"},\"showlegend\":true};\n",
       " var config_uM6NWiCSJg = {\"responsive\":true,\"scrollZoom\":true,\"displaylogo\":false};\n",
       " Plotly.newPlot(\"graph_uM6NWiCSJg\", traces_uM6NWiCSJg, layout_uM6NWiCSJg, config_uM6NWiCSJg);\n",
       "\n",
       "  var traces_ih3eLMkqYB = [{\"name\":\"% error\",\"type\":\"scatter\",\"mode\":\"markers\",\"x\":[1,2,3],\"y\":[1.234,5.2112,2.44332],\"error_y\":{\"type\":\"percent\",\"visible\":true,\"value\":10}}];\n",
       " var layout_ih3eLMkqYB = {\"height\":400,\"width\":400,\"hovermode\":\"closest\",\"title\":{\"text\":\"Percentage Error\"},\"showlegend\":true};\n",
       " var config_ih3eLMkqYB = {\"responsive\":true,\"scrollZoom\":true,\"displaylogo\":false};\n",
       " Plotly.newPlot(\"graph_ih3eLMkqYB\", traces_ih3eLMkqYB, layout_ih3eLMkqYB, config_ih3eLMkqYB);\n",
       "\n",
       "  var traces_AFXLHwaPeq = [{\"name\":\"constant error\",\"type\":\"scatter\",\"mode\":\"markers\",\"x\":[1,2,3],\"y\":[1.234,5.2112,2.44332],\"error_y\":{\"type\":\"constant\",\"visible\":true,\"value\":10}}];\n",
       " var layout_AFXLHwaPeq = {\"height\":400,\"width\":400,\"hovermode\":\"closest\",\"title\":{\"text\":\"Constant Error\"},\"showlegend\":true};\n",
       " var config_AFXLHwaPeq = {\"responsive\":true,\"scrollZoom\":true,\"displaylogo\":false};\n",
       " Plotly.newPlot(\"graph_AFXLHwaPeq\", traces_AFXLHwaPeq, layout_AFXLHwaPeq, config_AFXLHwaPeq);\n",
       "\n",
       "  var traces_26vCnulj23 = [{\"name\":\"Sqrt\",\"type\":\"scatter\",\"mode\":\"markers\",\"x\":[1,2,3],\"y\":[1.234,5.2112,2.44332],\"error_y\":{\"type\":\"sqrt\",\"visible\":true}}];\n",
       " var layout_26vCnulj23 = {\"height\":400,\"width\":400,\"hovermode\":\"closest\",\"title\":{\"text\":\"Sqrt Error\"},\"showlegend\":true};\n",
       " var config_26vCnulj23 = {\"responsive\":true,\"scrollZoom\":true,\"displaylogo\":false};\n",
       " Plotly.newPlot(\"graph_26vCnulj23\", traces_26vCnulj23, layout_26vCnulj23, config_26vCnulj23);\n",
       "\n",
       "var save_xfkHtIbCCe = document.getElementById(\"saveAsPNG_xfkHtIbCCe\")\n",
       "save_xfkHtIbCCe.onclick = async function() {\n",
       "    const grid = document.getElementById(\"grid-container_xfkHtIbCCe\")\n",
       "    const graphs = grid.getElementsByClassName(\"graph\")\n",
       "\n",
       "    const images = []\n",
       "\n",
       "    const rows = 2\n",
       "    const cols = 2\n",
       "    const img_width = 400\n",
       "    const img_height = 400\n",
       "    var margin = 50\n",
       "\n",
       "    for (var i=0; i<rows; i++) {\n",
       "      for (var j=0; j<cols; j++) {\n",
       "        const image = await Plotly.toImage(graphs[i * cols + j], {format: 'png', width: img_width, height: img_height})\n",
       "        images.push(image);\n",
       "      }\n",
       "    }\n",
       "\n",
       "    const positioned_images = []\n",
       "\n",
       "        for (var i=0; i<rows; i++) {\n",
       "            for (var j=0; j<cols; j++) {\n",
       "\n",
       "                const obj = {\n",
       "                    \"src\": images[i*cols + j],\n",
       "                    x: j*img_width+margin,\n",
       "                    y: i*img_height+margin\n",
       "                }\n",
       "\n",
       "                positioned_images.push(obj)\n",
       "            }\n",
       "        }\n",
       "\n",
       "        mergeImages(positioned_images, {\n",
       "            width: img_width*cols+60, height: img_height*rows+60\n",
       "        })\n",
       "        .then(b64 => {\n",
       "            var a = document.createElement(\"a\");\n",
       "            a.href = b64;\n",
       "            a.download = \"Image.png\";\n",
       "            a.click();\n",
       "            a.remove()\n",
       "        });\n",
       "}\n",
       "</script> \n"
      ]
     },
     "metadata": {},
     "output_type": "display_data"
    }
   ],
   "source": [
    "val dim = 400\n",
    "\n",
    "val series1 = (\n",
    "    XY(List(1, 2, 3), List(1.234, 5.2112, 2.44332))\n",
    "    asType SCATTER\n",
    "    drawStyle MARKERS\n",
    "    // User specifies the error per point \n",
    "    setErrorBars YError(mode = DATA, array = List(0.5, 0.5, 0.5))\n",
    ")\n",
    "\n",
    "val chart1 = (\n",
    "    Chart()\n",
    "    addSeries series1.setName(\"Error from provided data\")\n",
    "    setTitle \"Per Point Specified Error\"\n",
    "    setDimensions(width = dim, height = dim)\n",
    ")\n",
    "\n",
    "\n",
    "val series2 = (\n",
    "    XY(List(1, 2, 3), List(1.234, 5.2112, 2.44332))\n",
    "    asType SCATTER\n",
    "    drawStyle MARKERS\n",
    "    // the error here is 10% of the corresponding y-value for the point\n",
    "    setErrorBars YError(mode = PERCENT, value = 10.0)\n",
    ")\n",
    "\n",
    "val chart2 = (\n",
    "    Chart()\n",
    "    addSeries series2.setName(\"% error\")\n",
    "    setTitle \"Percentage Error\"\n",
    "    setDimensions(width = dim, height = dim)\n",
    "    \n",
    ")\n",
    "\n",
    "\n",
    "val series3 = (\n",
    "    XY(List(1, 2, 3), List(1.234, 5.2112, 2.44332))\n",
    "    asType SCATTER\n",
    "    drawStyle MARKERS\n",
    "    // a constant error of 10 is applied to each point\n",
    "    setErrorBars YError(mode = CONSTANT, value = 10.0)\n",
    "    setName(\"Constant value\")\n",
    ")\n",
    "\n",
    "val chart3 = (\n",
    "    Chart()\n",
    "    addSeries series3.setName(\"constant error\")\n",
    "    setTitle \"Constant Error\"\n",
    "    setDimensions(width = dim, height = dim)\n",
    ")\n",
    "\n",
    "\n",
    "val series4 = (\n",
    "    XY(List(1, 2, 3), List(1.234, 5.2112, 2.44332))\n",
    "    asType SCATTER\n",
    "    drawStyle MARKERS\n",
    "    setErrorBars YError(mode = SQRT)\n",
    "    setName(\"Sqrt\")\n",
    ")\n",
    "\n",
    "val chart4 = (\n",
    "    Chart()\n",
    "    addSeries series4.setName(\"Sqrt\")\n",
    "    setTitle \"Sqrt Error\"\n",
    "    // the error is set to the sqrt of the corresponding point\n",
    "    setDimensions(width = dim, height = dim)\n",
    ")\n",
    "\n",
    "val canvas = Canvas(2, 2) addCharts (chart1, chart2, chart3, chart4)\n",
    "\n",
    "canvas.plotInline"
   ]
  },
  {
   "cell_type": "markdown",
   "metadata": {},
   "source": [
    "### Other Types of Charts\n",
    "\n",
    "The next examples will demonstrate how to create a variety of `Chart`s. All of the examples below are composable with the `Canvas` subplot system.\n",
    "\n",
    "#### Pie Chart\n",
    "\n",
    "Pie charts can be created in two ways. The first way uses the `PieElement` component to compose a Piechart:"
   ]
  },
  {
   "cell_type": "code",
   "execution_count": 24,
   "metadata": {},
   "outputs": [
    {
     "data": {
      "text/html": [
       "<div id=\"grid-container_zR0PdK7XlS\" class=\"grid-container\" align=\"center\"> \n",
       "<div id=\"grid_zR0PdK7XlS\" class=\"grid\" align=\"center\"> \n",
       "<div id=\"graph_5e0RoxYxWO\" class=\"graph\"></div> \n",
       "</div> \n",
       "</div> \n",
       "<script>\n",
       "var masonry = new Macy({\n",
       "    container: '#grid_zR0PdK7XlS',\n",
       "    debug: true,\n",
       "    mobileFirst: true,\n",
       "    columns: 1,\n",
       "    margin: {\n",
       "        x: 0,\n",
       "        y: 0\n",
       "    }\n",
       "  });\n",
       "\n",
       "  var traces_5e0RoxYxWO = [{\"name\":\"VTGok2DrqF\",\"type\":\"pie\",\"values\":[60,20,20],\"labels\":[\"Residential\",\"Non-Residential\",\"Utility\"]}];\n",
       " var layout_5e0RoxYxWO = {\"height\":550,\"width\":600,\"hovermode\":\"closest\",\"title\":{\"text\":\"Pie Elements\"},\"showlegend\":true};\n",
       " var config_5e0RoxYxWO = {\"responsive\":true,\"scrollZoom\":true,\"displaylogo\":false};\n",
       " Plotly.newPlot(\"graph_5e0RoxYxWO\", traces_5e0RoxYxWO, layout_5e0RoxYxWO, config_5e0RoxYxWO);\n",
       "</script> \n"
      ]
     },
     "metadata": {},
     "output_type": "display_data"
    }
   ],
   "source": [
    "val a = PieElement(value=60, name=\"Residential\")\n",
    "val b = PieElement(value=20, name=\"Non-Residential\")\n",
    "val c = PieElement(value=20, name=\"Utility\")\n",
    "\n",
    "// we add a list of Pie Elements to an XY series as the list of Pie Elements gets deconstructed down into two series:\n",
    "// X => values: [60, 20, 20]\n",
    "// Y => labels: [\"Residential\", \"Non-Residential\", \"Utility\"]\n",
    "// The labels become the series_name for each individual PieElement\n",
    "// As we pass in a list of PieElements, we do not need to specify the type as a PIE\n",
    "val series = XY(x=List(a, b, c))\n",
    "\n",
    "val chart = Chart() addSeries series setTitle \"Pie Elements\"\n",
    "\n",
    "chart.plotInline"
   ]
  },
  {
   "cell_type": "code",
   "execution_count": 25,
   "metadata": {},
   "outputs": [
    {
     "data": {
      "text/html": [
       "<div id=\"grid-container_dbdzbPorR8\" class=\"grid-container\" align=\"center\"> \n",
       "<div id=\"grid_dbdzbPorR8\" class=\"grid\" align=\"center\"> \n",
       "<div id=\"graph_HLEamG0Np6\" class=\"graph\"></div> \n",
       "</div> \n",
       "</div> \n",
       "<script>\n",
       "var masonry = new Macy({\n",
       "    container: '#grid_dbdzbPorR8',\n",
       "    debug: true,\n",
       "    mobileFirst: true,\n",
       "    columns: 1,\n",
       "    margin: {\n",
       "        x: 0,\n",
       "        y: 0\n",
       "    }\n",
       "  });\n",
       "\n",
       "  var traces_HLEamG0Np6 = [{\"name\":\"Ua5TcF7KX7\",\"type\":\"pie\",\"values\":[60,20,20],\"labels\":[\"Residential\",\"Non-Residential\",\"Utility\"]}];\n",
       " var layout_HLEamG0Np6 = {\"height\":550,\"width\":600,\"hovermode\":\"closest\",\"title\":{\"text\":\"Pie Chart\"},\"showlegend\":true};\n",
       " var config_HLEamG0Np6 = {\"responsive\":false,\"scrollZoom\":false,\"displaylogo\":false};\n",
       " Plotly.newPlot(\"graph_HLEamG0Np6\", traces_HLEamG0Np6, layout_HLEamG0Np6, config_HLEamG0Np6);\n",
       "</script> \n"
      ]
     },
     "metadata": {},
     "output_type": "display_data"
    }
   ],
   "source": [
    "// However, composing individual PieElements may be tedious if there is a lot of data and we know how to it all fits\n",
    "// together. Picta provides a short hand to quickly create a Pie Chart using the methods we have seen previously\n",
    "// In this case we pass the (value, name) pairs as two seperate lists. As before, the labels become an individual\n",
    "// series name for each point; which is why the legend renders correctly.\n",
    "val series = XY(x=List(60, 20, 20), y=List(\"Residential\", \"Non-Residential\", \"Utility\")) asType PIE\n",
    "\n",
    "val chart = Chart() addSeries series setConfig(false, false) setTitle \"Pie Chart\"\n",
    "\n",
    "chart.plotInline"
   ]
  },
  {
   "cell_type": "markdown",
   "metadata": {},
   "source": [
    "### Histogram"
   ]
  },
  {
   "cell_type": "code",
   "execution_count": 26,
   "metadata": {},
   "outputs": [
    {
     "data": {
      "text/html": [
       "<div id=\"grid-container_iLyLcwk20c\" class=\"grid-container\" align=\"center\"> \n",
       "<div id=\"grid_iLyLcwk20c\" class=\"grid\" align=\"center\"> \n",
       "<div id=\"graph_BYdMtx02YL\" class=\"graph\"></div> \n",
       "</div> \n",
       "</div> \n",
       "<script>\n",
       "var masonry = new Macy({\n",
       "    container: '#grid_iLyLcwk20c',\n",
       "    debug: true,\n",
       "    mobileFirst: true,\n",
       "    columns: 1,\n",
       "    margin: {\n",
       "        x: 0,\n",
       "        y: 0\n",
       "    }\n",
       "  });\n",
       "\n",
       "  var traces_BYdMtx02YL = [{\"name\":\"K64PlkEcAs\",\"type\":\"histogram\",\"x\":[0,0.8413683026763604,0.9610631985200326,0.5055222939865325,1.9090883789634399,1.5269812313554731,3.9079749782267266,1.1863213525979126,3.6711638368325543,7.672453749962248,1.8050776835740978,10.193936215443792,8.438613169611239,1.5032886611245486,6.152036369061692,9.815536171828928,8.90424229614141,13.884773707367525,0.545092425387083,10.320251223681556,9.624444489619744,1.061906126113934,4.0640144458027665,14.512453754207328,18.567132976968697,9.714509484052225,19.7371504363419,12.724625141215439,5.572315430184267,26.63687579517762,9.975582853049495,23.944398572976702,9.566505984068872,24.35323124413348,25.921104658887568,27.516465076060314,10.88877876934967,17.783036031072836,11.694717438604071,38.531904782989514,6.2161382985818525,6.923679706099732,3.812630667457751,21.865147775948586,7.569062566867152,2.672389523670917,10.80530623285447,40.0922413724931,9.984501655412755,8.614282726303232,24.581895846528113,34.47327295471691,2.9133561298530495,48.10932346519313,29.57758734995704,42.05683473162246,54.482454024282276,22.5676220294269,28.454720179148005,55.015182451097544,51.70735723675414,25.65988133944476,6.350248084371509,13.795299745865945,41.801859433360555,10.618071063416984,49.622075980607804,43.8234396202534,58.15293331124818,35.990314186875466,45.995030006074984,60.578807614401875,5.56598835586407,45.47381360913866,15.193760243812855,66.10600447069966,43.284721540174914,62.01012221251927,64.82467501928964,11.715486123573667,37.30254179401187,49.43845349771802,55.68207550928531,47.97679855952076,39.85852558176251,22.91478911765649,78.05506182976225,81.39058599942432,18.000117283721533,67.2674446459535,2.2513791449581575,89.58239393663051,18.947325223021494,66.72345428002085,8.68236235395729,9.744118054957955,3.958982283830988,50.25453790468024,95.71930079101482,8.607527080024125]}];\n",
       " var layout_BYdMtx02YL = {\"height\":550,\"width\":600,\"hovermode\":\"closest\",\"title\":{\"text\":\"Histogram with axes\"},\"showlegend\":true,\"xaxis\":{\"title\":{\"text\":\"my x data\"},\"showgrid\":true,\"zeroline\":false,\"showline\":false},\"yaxis\":{\"title\":{\"text\":\"my y data\"},\"showgrid\":true,\"zeroline\":false,\"showline\":false}};\n",
       " var config_BYdMtx02YL = {\"responsive\":true,\"scrollZoom\":true,\"displaylogo\":false};\n",
       " Plotly.newPlot(\"graph_BYdMtx02YL\", traces_BYdMtx02YL, layout_BYdMtx02YL, config_BYdMtx02YL);\n",
       "</script> \n"
      ]
     },
     "metadata": {},
     "output_type": "display_data"
    }
   ],
   "source": [
    "val series = XY(x=x) asType HISTOGRAM\n",
    "\n",
    "val xaxis = Axis(X, title = \"my x data\")\n",
    "val yaxis = Axis(Y, title = \"my y data\")\n",
    "\n",
    "val chart = (\n",
    "    Chart() \n",
    "    addSeries series\n",
    "    setTitle \"Histogram with axes\"\n",
    "    addAxes(xaxis, yaxis)\n",
    ")\n",
    "\n",
    "Canvas()\n",
    ".addCharts(chart)\n",
    ".plotInline"
   ]
  },
  {
   "cell_type": "markdown",
   "metadata": {},
   "source": [
    "#### Customizing colors for a Histogram\n",
    "\n",
    "We can use the `HistOptions` class to further specify options for a histogram. For example, if we wanted to create a horizontally positioned histogram, we can do the following:"
   ]
  },
  {
   "cell_type": "code",
   "execution_count": 27,
   "metadata": {},
   "outputs": [],
   "source": [
    "import org.carbonateresearch.picta.options.histogram.HistOptions\n",
    "import org.carbonateresearch.picta.options.Line"
   ]
  },
  {
   "cell_type": "code",
   "execution_count": 28,
   "metadata": {},
   "outputs": [
    {
     "data": {
      "text/html": [
       "<div id=\"grid-container_7IlZiN5XRH\" class=\"grid-container\" align=\"center\"> \n",
       "<div id=\"grid_7IlZiN5XRH\" class=\"grid\" align=\"center\"> \n",
       "<div id=\"graph_aIAyCeBnz2\" class=\"graph\"></div> \n",
       "</div> \n",
       "</div> \n",
       "<script>\n",
       "var masonry = new Macy({\n",
       "    container: '#grid_7IlZiN5XRH',\n",
       "    debug: true,\n",
       "    mobileFirst: true,\n",
       "    columns: 1,\n",
       "    margin: {\n",
       "        x: 0,\n",
       "        y: 0\n",
       "    }\n",
       "  });\n",
       "\n",
       "  var traces_aIAyCeBnz2 = [{\"name\":\"AeoFTePs74\",\"type\":\"histogram\",\"marker\":{\"color\":\"rgba(255.0, 100.0, 102.0, 0.5)\",\"line\":{\"width\":0.5}},\"y\":[0,0.8413683026763604,0.9610631985200326,0.5055222939865325,1.9090883789634399,1.5269812313554731,3.9079749782267266,1.1863213525979126,3.6711638368325543,7.672453749962248,1.8050776835740978,10.193936215443792,8.438613169611239,1.5032886611245486,6.152036369061692,9.815536171828928,8.90424229614141,13.884773707367525,0.545092425387083,10.320251223681556,9.624444489619744,1.061906126113934,4.0640144458027665,14.512453754207328,18.567132976968697,9.714509484052225,19.7371504363419,12.724625141215439,5.572315430184267,26.63687579517762,9.975582853049495,23.944398572976702,9.566505984068872,24.35323124413348,25.921104658887568,27.516465076060314,10.88877876934967,17.783036031072836,11.694717438604071,38.531904782989514,6.2161382985818525,6.923679706099732,3.812630667457751,21.865147775948586,7.569062566867152,2.672389523670917,10.80530623285447,40.0922413724931,9.984501655412755,8.614282726303232,24.581895846528113,34.47327295471691,2.9133561298530495,48.10932346519313,29.57758734995704,42.05683473162246,54.482454024282276,22.5676220294269,28.454720179148005,55.015182451097544,51.70735723675414,25.65988133944476,6.350248084371509,13.795299745865945,41.801859433360555,10.618071063416984,49.622075980607804,43.8234396202534,58.15293331124818,35.990314186875466,45.995030006074984,60.578807614401875,5.56598835586407,45.47381360913866,15.193760243812855,66.10600447069966,43.284721540174914,62.01012221251927,64.82467501928964,11.715486123573667,37.30254179401187,49.43845349771802,55.68207550928531,47.97679855952076,39.85852558176251,22.91478911765649,78.05506182976225,81.39058599942432,18.000117283721533,67.2674446459535,2.2513791449581575,89.58239393663051,18.947325223021494,66.72345428002085,8.68236235395729,9.744118054957955,3.958982283830988,50.25453790468024,95.71930079101482,8.607527080024125]}];\n",
       " var layout_aIAyCeBnz2 = {\"height\":550,\"width\":600,\"hovermode\":\"closest\",\"title\":{\"text\":\"XY.Histogram.Color\"},\"showlegend\":true};\n",
       " var config_aIAyCeBnz2 = {\"responsive\":true,\"scrollZoom\":true,\"displaylogo\":false};\n",
       " Plotly.newPlot(\"graph_aIAyCeBnz2\", traces_aIAyCeBnz2, layout_aIAyCeBnz2, config_aIAyCeBnz2);\n",
       "</script> \n"
      ]
     },
     "metadata": {},
     "output_type": "display_data"
    }
   ],
   "source": [
    "// we can also compose customizations in much the same way:\n",
    "val marker = Marker() setColor RGBA(255, 100, 102, 0.5) setLine Line()\n",
    "\n",
    "// change xkey to y to get a horizontal histogram\n",
    "val series = (\n",
    "    XY(x) \n",
    "    asType HISTOGRAM\n",
    "    setMarker marker\n",
    "    // we can set histogram specific options using the setHistOptions method\n",
    "    setHistOptions(orientation = HORIZONTAL)\n",
    ")\n",
    "\n",
    "val chart = (\n",
    "    Chart() \n",
    "    addSeries series \n",
    "    setTitle \"XY.Histogram.Color\"\n",
    ")\n",
    "\n",
    "chart.plotInline"
   ]
  },
  {
   "cell_type": "markdown",
   "metadata": {},
   "source": [
    "#### Cumulative Histogram\n",
    "\n",
    "Sometimes a cumulative histogram may be desired. We can do this as follows:"
   ]
  },
  {
   "cell_type": "code",
   "execution_count": 29,
   "metadata": {},
   "outputs": [],
   "source": [
    "// we can import a range of histnorms\n",
    "import org.carbonateresearch.picta.options.histogram.{Cumulative, PERCENT, DENSITY, PROBABILITY_DENSITY, NUMBER}"
   ]
  },
  {
   "cell_type": "code",
   "execution_count": 30,
   "metadata": {},
   "outputs": [
    {
     "data": {
      "text/html": [
       "<div id=\"grid-container_IYOjY3k2hu\" class=\"grid-container\" align=\"center\"> \n",
       "<div id=\"grid_IYOjY3k2hu\" class=\"grid\" align=\"center\"> \n",
       "<div id=\"graph_Y2iT81Dsan\" class=\"graph\"></div> \n",
       "</div> \n",
       "</div> \n",
       "<script>\n",
       "var masonry = new Macy({\n",
       "    container: '#grid_IYOjY3k2hu',\n",
       "    debug: true,\n",
       "    mobileFirst: true,\n",
       "    columns: 1,\n",
       "    margin: {\n",
       "        x: 0,\n",
       "        y: 0\n",
       "    }\n",
       "  });\n",
       "\n",
       "  var traces_Y2iT81Dsan = [{\"name\":\"DNsTtv0ted\",\"type\":\"histogram\",\"cumulative\":{\"enabled\":true},\"histnorm\":\"\",\"x\":[0,0.8413683026763604,0.9610631985200326,0.5055222939865325,1.9090883789634399,1.5269812313554731,3.9079749782267266,1.1863213525979126,3.6711638368325543,7.672453749962248,1.8050776835740978,10.193936215443792,8.438613169611239,1.5032886611245486,6.152036369061692,9.815536171828928,8.90424229614141,13.884773707367525,0.545092425387083,10.320251223681556,9.624444489619744,1.061906126113934,4.0640144458027665,14.512453754207328,18.567132976968697,9.714509484052225,19.7371504363419,12.724625141215439,5.572315430184267,26.63687579517762,9.975582853049495,23.944398572976702,9.566505984068872,24.35323124413348,25.921104658887568,27.516465076060314,10.88877876934967,17.783036031072836,11.694717438604071,38.531904782989514,6.2161382985818525,6.923679706099732,3.812630667457751,21.865147775948586,7.569062566867152,2.672389523670917,10.80530623285447,40.0922413724931,9.984501655412755,8.614282726303232,24.581895846528113,34.47327295471691,2.9133561298530495,48.10932346519313,29.57758734995704,42.05683473162246,54.482454024282276,22.5676220294269,28.454720179148005,55.015182451097544,51.70735723675414,25.65988133944476,6.350248084371509,13.795299745865945,41.801859433360555,10.618071063416984,49.622075980607804,43.8234396202534,58.15293331124818,35.990314186875466,45.995030006074984,60.578807614401875,5.56598835586407,45.47381360913866,15.193760243812855,66.10600447069966,43.284721540174914,62.01012221251927,64.82467501928964,11.715486123573667,37.30254179401187,49.43845349771802,55.68207550928531,47.97679855952076,39.85852558176251,22.91478911765649,78.05506182976225,81.39058599942432,18.000117283721533,67.2674446459535,2.2513791449581575,89.58239393663051,18.947325223021494,66.72345428002085,8.68236235395729,9.744118054957955,3.958982283830988,50.25453790468024,95.71930079101482,8.607527080024125]}];\n",
       " var layout_Y2iT81Dsan = {\"height\":550,\"width\":600,\"hovermode\":\"closest\",\"title\":{\"text\":\"Histogram - Cumulative\"},\"showlegend\":true};\n",
       " var config_Y2iT81Dsan = {\"responsive\":true,\"scrollZoom\":true,\"displaylogo\":false};\n",
       " Plotly.newPlot(\"graph_Y2iT81Dsan\", traces_Y2iT81Dsan, layout_Y2iT81Dsan, config_Y2iT81Dsan);\n",
       "</script> \n"
      ]
     },
     "metadata": {},
     "output_type": "display_data"
    }
   ],
   "source": [
    "val series = XY(x) asType HISTOGRAM setHistOptions(histnorm = NUMBER, cumulative = Cumulative(enabled=true))\n",
    "\n",
    "val chart = Chart() addSeries series setTitle \"Histogram - Cumulative\"\n",
    "\n",
    "chart.plotInline"
   ]
  },
  {
   "cell_type": "markdown",
   "metadata": {},
   "source": [
    "#### Specifiying the Binning Function\n",
    "\n",
    "We can also specify the binning function for a histogram."
   ]
  },
  {
   "cell_type": "code",
   "execution_count": 31,
   "metadata": {},
   "outputs": [],
   "source": [
    "import org.carbonateresearch.picta.options.histogram.{COUNT, SUM, AVG, MIN, MAX, HistOptions}"
   ]
  },
  {
   "cell_type": "code",
   "execution_count": 32,
   "metadata": {},
   "outputs": [
    {
     "data": {
      "text/html": [
       "<div id=\"grid-container_CRNqXpC8X4\" class=\"grid-container\" align=\"center\"> \n",
       "<div id=\"grid_CRNqXpC8X4\" class=\"grid\" align=\"center\"> \n",
       "<div id=\"graph_SVLc0PTt52\" class=\"graph\"></div> \n",
       "</div> \n",
       "</div> \n",
       "<script>\n",
       "var masonry = new Macy({\n",
       "    container: '#grid_CRNqXpC8X4',\n",
       "    debug: true,\n",
       "    mobileFirst: true,\n",
       "    columns: 1,\n",
       "    margin: {\n",
       "        x: 0,\n",
       "        y: 0\n",
       "    }\n",
       "  });\n",
       "\n",
       "  var traces_SVLc0PTt52 = [{\"name\":\"VRSuGz1Q6P\",\"type\":\"histogram\",\"histfunc\":\"count\",\"x\":[\"Apples\",\"Apples\",\"Apples\",\"Oranges\",\"Bananas\"],\"y\":[\"5\",\"10\",\"3\",\"10\",\"5\"]},{\"name\":\"LPDZAFGSsF\",\"type\":\"histogram\",\"histfunc\":\"sum\",\"x\":[\"Apples\",\"Apples\",\"Apples\",\"Oranges\",\"Bananas\"],\"y\":[\"5\",\"10\",\"3\",\"10\",\"5\"]}];\n",
       " var layout_SVLc0PTt52 = {\"height\":550,\"width\":600,\"hovermode\":\"closest\",\"title\":{\"text\":\"Histogram - Specify Binning Function\"},\"showlegend\":true};\n",
       " var config_SVLc0PTt52 = {\"responsive\":true,\"scrollZoom\":true,\"displaylogo\":false};\n",
       " Plotly.newPlot(\"graph_SVLc0PTt52\", traces_SVLc0PTt52, layout_SVLc0PTt52, config_SVLc0PTt52);\n",
       "</script> \n"
      ]
     },
     "metadata": {},
     "output_type": "display_data"
    }
   ],
   "source": [
    "val x = List(\"Apples\", \"Apples\", \"Apples\", \"Oranges\", \"Bananas\")\n",
    "val y = List(\"5\", \"10\", \"3\", \"10\", \"5\")\n",
    "\n",
    "// we can also assign histOptions to a value and pass them to the setHistOptions method\n",
    "val ho1 = HistOptions(histfunc = COUNT)\n",
    "val ho2 = HistOptions(histfunc = SUM)\n",
    "    \n",
    "val t1 = XY(x = x, y = y) asType HISTOGRAM setHistOptions ho1\n",
    "val t2 = XY(x = x, y = y) asType HISTOGRAM setHistOptions ho2\n",
    "\n",
    "val chart = Chart() addSeries(t1, t2) setTitle \"Histogram - Specify Binning Function\"\n",
    "val canvas = Canvas() addCharts chart\n",
    "canvas.plotInline"
   ]
  },
  {
   "cell_type": "markdown",
   "metadata": {},
   "source": [
    "### 2D Histogram Contour"
   ]
  },
  {
   "cell_type": "code",
   "execution_count": 33,
   "metadata": {},
   "outputs": [
    {
     "data": {
      "text/html": [
       "<div id=\"grid-container_DwkcIKMZwQ\" class=\"grid-container\" align=\"center\"> \n",
       "<div id=\"grid_DwkcIKMZwQ\" class=\"grid\" align=\"center\"> \n",
       "<div id=\"graph_cvZB94nMYG\" class=\"graph\"></div> \n",
       "</div> \n",
       "</div> \n",
       "<script>\n",
       "var masonry = new Macy({\n",
       "    container: '#grid_DwkcIKMZwQ',\n",
       "    debug: true,\n",
       "    mobileFirst: true,\n",
       "    columns: 1,\n",
       "    margin: {\n",
       "        x: 0,\n",
       "        y: 0\n",
       "    }\n",
       "  });\n",
       "\n",
       "  var traces_cvZB94nMYG = [{\"name\":\"XYg1srdZjq\",\"type\":\"histogram2dcontour\",\"mode\":\"markers\",\"x\":[1,2,3,4,5,6,7,8,9,10,11,12,13,14,15,16,17,18,19,20,21,22,23,24,25,26,27,28,29,30,31,32,33,34,35,36,37,38,39,40,41,42,43,44,45,46,47,48,49],\"y\":[100.9173733827329,99.15153103483473,36.586864066855625,36.60325116254028,39.41471175277487,38.72258234009158,43.933629850677164,22.11422052709166,74.39072350942064,59.912468638688544,29.874453673809054,105.86388090069839,42.4806634862954,89.41776603775719,68.2878186186658,19.223939598848624,30.572301553211176,28.258160838932362,97.65733167192438,89.45187388855952,101.5733614866525,115.74502555346228,41.145573876012755,30.27225438521004,37.360068307845935,81.10920639906114,38.35133354658545,68.63558818650962,94.86932601923691,122.91551698385263,128.706856357953,92.16704657489177,100.69159164584758,92.81731725489925,101.17885324103554,96.05566260227926,54.541031668347244,137.25529852890799,65.26892721800736,92.99790088540908,72.62405524066197,68.38037185456315,104.26625607887655,125.29778286539849,78.1969148543631,93.78135019817114,143.28724784483757,84.33898519116184,138.49751390655632]}];\n",
       " var layout_cvZB94nMYG = {\"height\":550,\"width\":600,\"hovermode\":\"closest\",\"title\":{\"text\":\"2D Histogram Contour\"},\"showlegend\":true};\n",
       " var config_cvZB94nMYG = {\"responsive\":true,\"scrollZoom\":true,\"displaylogo\":false};\n",
       " Plotly.newPlot(\"graph_cvZB94nMYG\", traces_cvZB94nMYG, layout_cvZB94nMYG, config_cvZB94nMYG);\n",
       "</script> \n"
      ]
     },
     "metadata": {},
     "output_type": "display_data"
    }
   ],
   "source": [
    "val x = List.range(1, 50)\n",
    "val y = x.map(x => x + scala.util.Random.nextDouble()*100)\n",
    "\n",
    "val series = XY(x, y).asType(HISTOGRAM2DCONTOUR).drawMarkers\n",
    "\n",
    "val chart = (\n",
    "    Chart() addSeries series\n",
    "    setTitle \"2D Histogram Contour\"\n",
    ")\n",
    "\n",
    "chart.plotInline"
   ]
  },
  {
   "cell_type": "markdown",
   "metadata": {},
   "source": [
    "#### Adding additional axes\n",
    "\n",
    "As the above is a density plot, adding histograms can be useful too.\n",
    "\n",
    "We can add histograms as follows:"
   ]
  },
  {
   "cell_type": "code",
   "execution_count": 34,
   "metadata": {},
   "outputs": [],
   "source": [
    "// import the 2d Density histogram options\n",
    "import org.carbonateresearch.picta.options.histogram2d.Hist2dOptions"
   ]
  },
  {
   "cell_type": "code",
   "execution_count": 35,
   "metadata": {},
   "outputs": [
    {
     "data": {
      "text/html": [
       "<div id=\"grid-container_oET3gt3qhX\" class=\"grid-container\" align=\"center\"> \n",
       "<div id=\"grid_oET3gt3qhX\" class=\"grid\" align=\"center\"> \n",
       "<div id=\"graph_WfvrxqqNaW\" class=\"graph\"></div> \n",
       "</div> \n",
       "</div> \n",
       "<script>\n",
       "var masonry = new Macy({\n",
       "    container: '#grid_oET3gt3qhX',\n",
       "    debug: true,\n",
       "    mobileFirst: true,\n",
       "    columns: 1,\n",
       "    margin: {\n",
       "        x: 0,\n",
       "        y: 0\n",
       "    }\n",
       "  });\n",
       "\n",
       "  var traces_WfvrxqqNaW = [{\"name\":\"points\",\"type\":\"scatter\",\"mode\":\"markers\",\"marker\":{\"color\":\"rgb(102.0, 0.0, 0.0)\"},\"x\":[1,2,3,4,5,6,7,8,9,10,11,12,13,14,15,16,17,18,19,20,21,22,23,24,25,26,27,28,29,30,31,32,33,34,35,36,37,38,39,40,41,42,43,44,45,46,47,48,49],\"y\":[100.9173733827329,99.15153103483473,36.586864066855625,36.60325116254028,39.41471175277487,38.72258234009158,43.933629850677164,22.11422052709166,74.39072350942064,59.912468638688544,29.874453673809054,105.86388090069839,42.4806634862954,89.41776603775719,68.2878186186658,19.223939598848624,30.572301553211176,28.258160838932362,97.65733167192438,89.45187388855952,101.5733614866525,115.74502555346228,41.145573876012755,30.27225438521004,37.360068307845935,81.10920639906114,38.35133354658545,68.63558818650962,94.86932601923691,122.91551698385263,128.706856357953,92.16704657489177,100.69159164584758,92.81731725489925,101.17885324103554,96.05566260227926,54.541031668347244,137.25529852890799,65.26892721800736,92.99790088540908,72.62405524066197,68.38037185456315,104.26625607887655,125.29778286539849,78.1969148543631,93.78135019817114,143.28724784483757,84.33898519116184,138.49751390655632]},{\"name\":\"density\",\"type\":\"histogram2dcontour\",\"ncontours\":20,\"reversescale\":false,\"showscale\":true,\"x\":[1,2,3,4,5,6,7,8,9,10,11,12,13,14,15,16,17,18,19,20,21,22,23,24,25,26,27,28,29,30,31,32,33,34,35,36,37,38,39,40,41,42,43,44,45,46,47,48,49],\"y\":[100.9173733827329,99.15153103483473,36.586864066855625,36.60325116254028,39.41471175277487,38.72258234009158,43.933629850677164,22.11422052709166,74.39072350942064,59.912468638688544,29.874453673809054,105.86388090069839,42.4806634862954,89.41776603775719,68.2878186186658,19.223939598848624,30.572301553211176,28.258160838932362,97.65733167192438,89.45187388855952,101.5733614866525,115.74502555346228,41.145573876012755,30.27225438521004,37.360068307845935,81.10920639906114,38.35133354658545,68.63558818650962,94.86932601923691,122.91551698385263,128.706856357953,92.16704657489177,100.69159164584758,92.81731725489925,101.17885324103554,96.05566260227926,54.541031668347244,137.25529852890799,65.26892721800736,92.99790088540908,72.62405524066197,68.38037185456315,104.26625607887655,125.29778286539849,78.1969148543631,93.78135019817114,143.28724784483757,84.33898519116184,138.49751390655632]},{\"name\":\"histogram\",\"type\":\"histogram\",\"yaxis\":\"y2\",\"x\":[1,2,3,4,5,6,7,8,9,10,11,12,13,14,15,16,17,18,19,20,21,22,23,24,25,26,27,28,29,30,31,32,33,34,35,36,37,38,39,40,41,42,43,44,45,46,47,48,49]},{\"name\":\"y density\",\"type\":\"histogram\",\"xaxis\":\"x2\",\"marker\":{\"color\":\"rgb(102.0, 0.0, 0.0)\"},\"y\":[100.9173733827329,99.15153103483473,36.586864066855625,36.60325116254028,39.41471175277487,38.72258234009158,43.933629850677164,22.11422052709166,74.39072350942064,59.912468638688544,29.874453673809054,105.86388090069839,42.4806634862954,89.41776603775719,68.2878186186658,19.223939598848624,30.572301553211176,28.258160838932362,97.65733167192438,89.45187388855952,101.5733614866525,115.74502555346228,41.145573876012755,30.27225438521004,37.360068307845935,81.10920639906114,38.35133354658545,68.63558818650962,94.86932601923691,122.91551698385263,128.706856357953,92.16704657489177,100.69159164584758,92.81731725489925,101.17885324103554,96.05566260227926,54.541031668347244,137.25529852890799,65.26892721800736,92.99790088540908,72.62405524066197,68.38037185456315,104.26625607887655,125.29778286539849,78.1969148543631,93.78135019817114,143.28724784483757,84.33898519116184,138.49751390655632]}];\n",
       " var layout_WfvrxqqNaW = {\"height\":550,\"width\":600,\"hovermode\":\"closest\",\"title\":{\"text\":\"XY.Histogram2dContour.WithDensity\"},\"showlegend\":false,\"autosize\":false,\"xaxis\":{\"showgrid\":false,\"zeroline\":false,\"showline\":false,\"domain\":[0,0.85]},\"yaxis\":{\"showgrid\":false,\"zeroline\":false,\"showline\":false,\"domain\":[0,0.85]},\"xaxis2\":{\"showgrid\":false,\"zeroline\":false,\"showline\":false,\"domain\":[0.85,1]},\"yaxis2\":{\"showgrid\":false,\"zeroline\":false,\"showline\":false,\"domain\":[0.85,1]}};\n",
       " var config_WfvrxqqNaW = {\"responsive\":true,\"scrollZoom\":true,\"displaylogo\":false};\n",
       " Plotly.newPlot(\"graph_WfvrxqqNaW\", traces_WfvrxqqNaW, layout_WfvrxqqNaW, config_WfvrxqqNaW);\n",
       "</script> \n"
      ]
     },
     "metadata": {},
     "output_type": "display_data"
    }
   ],
   "source": [
    "val ax1 = Axis(X, showgrid = false) setDomain(0.0, 0.85)\n",
    "val ax2 = Axis(Y, showgrid = false) setDomain(0.0, 0.85)\n",
    "val ax3 = Axis(X, position = 2, showgrid = false) setDomain(0.85, 1.0)\n",
    "val ax4 = Axis(Y, position = 2, showgrid = false) setDomain(0.85, 1.0)\n",
    "\n",
    "val marker = Marker() setColor RGB(102,0,0)\n",
    "val series1 = XY(x, y) asType SCATTER drawStyle MARKERS setName \"points\" setMarker marker\n",
    "\n",
    "val series2 = (\n",
    "  XY(x, y)\n",
    "    setName \"density\"\n",
    "    asType HISTOGRAM2DCONTOUR\n",
    "    setHist2dOptions(ncontours = 20, reversescale = false, showscale = true)\n",
    "  )\n",
    "\n",
    "val series3 = XY(x = x) asType HISTOGRAM setName \"histogram\" setAxes(ax1, ax4)\n",
    "val series4 = (XY(y) setName \"y density\" asType HISTOGRAM setAxis ax3 setMarker marker\n",
    "  setHistOptions (orientation = HORIZONTAL))\n",
    "\n",
    "val layout = (ChartLayout(\"XY.Histogram2dContour.WithDensity\", auto_size = false) setAxes(ax1, ax2, ax3, ax4))\n",
    "\n",
    "val chart = Chart() addSeries(series1, series2, series3, series4) setChartLayout layout showLegend false\n",
    "\n",
    "chart.plotInline"
   ]
  },
  {
   "cell_type": "markdown",
   "metadata": {},
   "source": [
    "### 3D Charts\n",
    "\n",
    "3D charts are constructed using a `XYZ` series as they take in 3 `Series`' to create a single point.\n",
    "\n",
    "The Picta API does not accept nested lists, however the underlying Plotlyjs render does. In order to render any series that will make use of a nested list, we must flatten and provide the length of an element (before the list was flattened).\n",
    "\n",
    "The following examples will make it clearer.\n",
    "\n",
    "#### Contour"
   ]
  },
  {
   "cell_type": "code",
   "execution_count": 36,
   "metadata": {},
   "outputs": [],
   "source": [
    "// lets create some dummy adata for the third dimension\n",
    "val x = List(-9, -6, -5 , -3, -1)\n",
    "val y = List(0, 1, 4, 5, 7)\n",
    "val z = List(\n",
    "    List(10, 10.625, 12.5, 15.625, 20),\n",
    "    List(5.625, 6.25, 8.125, 11.25, 15.625),\n",
    "    List(2.5, 3.125, 5.0, 8.125, 12.5),\n",
    "    List(0.625, 1.25, 3.125, 6.25, 10.625),\n",
    "    List(0, 0.625, 2.5, 5.625, 10)\n",
    ")"
   ]
  },
  {
   "cell_type": "code",
   "execution_count": 37,
   "metadata": {},
   "outputs": [
    {
     "data": {
      "text/html": [
       "<div id=\"grid-container_mmkjg7Ez0Z\" class=\"grid-container\" align=\"center\"> \n",
       "<div id=\"grid_mmkjg7Ez0Z\" class=\"grid\" align=\"center\"> \n",
       "<div id=\"graph_6BeWPhawss\" class=\"graph\"></div> \n",
       "</div> \n",
       "</div> \n",
       "<script>\n",
       "var masonry = new Macy({\n",
       "    container: '#grid_mmkjg7Ez0Z',\n",
       "    debug: true,\n",
       "    mobileFirst: true,\n",
       "    columns: 1,\n",
       "    margin: {\n",
       "        x: 0,\n",
       "        y: 0\n",
       "    }\n",
       "  });\n",
       "\n",
       "  var traces_6BeWPhawss = [{\"name\":\"Sp9h2TZMTw\",\"type\":\"contour\",\"x\":[-9,-6,-5,-3,-1],\"y\":[0,1,4,5,7],\"z\":[[10,10.625,12.5,15.625,20],[5.625,6.25,8.125,11.25,15.625],[2.5,3.125,5,8.125,12.5],[0.625,1.25,3.125,6.25,10.625],[0,0.625,2.5,5.625,10]]}];\n",
       " var layout_6BeWPhawss = {\"height\":550,\"width\":600,\"hovermode\":\"closest\",\"title\":{\"text\":\"Contour\"},\"showlegend\":true};\n",
       " var config_6BeWPhawss = {\"responsive\":true,\"scrollZoom\":true,\"displaylogo\":false};\n",
       " Plotly.newPlot(\"graph_6BeWPhawss\", traces_6BeWPhawss, layout_6BeWPhawss, config_6BeWPhawss);\n",
       "</script> \n"
      ]
     },
     "metadata": {},
     "output_type": "display_data"
    }
   ],
   "source": [
    "// we flatten the nested list as we pass it into the Series constructor\n",
    "val series = XYZ(x=x, y=y, z=z.flatten, n=z(0).length).asType(CONTOUR)\n",
    "\n",
    "// set up the chart\n",
    "val chart = Chart()\n",
    "            .addSeries(series)\n",
    "            .setTitle(\"Contour\")\n",
    "\n",
    "// plot the chart\n",
    "chart.plotInline"
   ]
  },
  {
   "cell_type": "markdown",
   "metadata": {},
   "source": [
    "#### Heatmap"
   ]
  },
  {
   "cell_type": "code",
   "execution_count": 38,
   "metadata": {
    "scrolled": false
   },
   "outputs": [],
   "source": [
    "// create a new nested list for the heatmap\n",
    "val z = List.range(1, 101).map(e => e + scala.util.Random.nextDouble()*100).grouped(10).toList"
   ]
  },
  {
   "cell_type": "code",
   "execution_count": 39,
   "metadata": {},
   "outputs": [
    {
     "data": {
      "text/html": [
       "<div id=\"grid-container_Z3K1dTcuTL\" class=\"grid-container\" align=\"center\"> \n",
       "<div id=\"grid_Z3K1dTcuTL\" class=\"grid\" align=\"center\"> \n",
       "<div id=\"graph_77ltZefIBj\" class=\"graph\"></div> \n",
       "</div> \n",
       "</div> \n",
       "<script>\n",
       "var masonry = new Macy({\n",
       "    container: '#grid_Z3K1dTcuTL',\n",
       "    debug: true,\n",
       "    mobileFirst: true,\n",
       "    columns: 1,\n",
       "    margin: {\n",
       "        x: 0,\n",
       "        y: 0\n",
       "    }\n",
       "  });\n",
       "\n",
       "  var traces_77ltZefIBj = [{\"name\":\"IxOZ9C1iiW\",\"type\":\"heatmap\",\"z\":[[67.47245694394928,12.89834142784717,101.96094248030587,66.20563946009061,12.169001192994651,81.9610221046248,32.380966710173865,58.79864407940244,25.877303901587403,39.3651113452177],[96.87069230092685,82.2917402388207,38.56211239403369,40.82324455751505,42.45168327905265,82.28627441451063,17.747026449473687,64.30007503613535,50.38395858927642,74.70703531659788],[47.423776843576796,47.02762679866287,75.84406229895221,31.529246935248104,84.23403830720392,53.76121683925206,43.69180628111023,42.98079998240126,120.16263680848223,97.9220378862312],[87.23070784193104,57.797474116881304,56.46931583208772,113.54209199998179,75.16772640416201,74.69095474354884,59.699566533705024,67.82160222092406,70.90380132744917,95.39646460894974],[127.35318175144687,111.62867054346668,107.83745126419296,52.49884316897229,138.1526272855786,88.41537106718819,144.53944971592136,93.69297240277561,99.84146191850371,60.7941053554453],[84.4573938243675,138.21647847483703,136.0564406222804,68.41248409142214,106.23476684821979,120.89962695281012,73.05512049334058,100.7845852396303,152.77986967169016,104.60939736250592],[96.94412571236131,154.38097442148444,69.89576902508881,72.8217649044657,152.54151210549395,144.54935362646205,68.58320967281989,110.63821230765751,146.11989474068463,159.73230255897988],[109.05421993714118,144.76952501118745,96.01536906565144,77.9680514666714,169.04487924468748,140.84203135793786,147.45045594794465,113.80478978495086,164.19157085944954,149.83834717220108],[130.90764355656404,127.52851788364029,134.03575183030904,154.56684632371156,97.0033384596781,107.99903862562698,93.64809620367397,91.76102285536672,105.05034596744109,135.40811845608425],[177.91364579969894,115.74199210912346,177.36026535413868,140.9184894121762,173.19535767575212,125.53437897698976,156.82548365572154,106.41179654486456,139.3942552299398,198.90786822006248]]}];\n",
       " var layout_77ltZefIBj = {\"height\":550,\"width\":600,\"hovermode\":\"closest\",\"title\":{\"text\":\"Heatmap\"},\"showlegend\":true};\n",
       " var config_77ltZefIBj = {\"responsive\":true,\"scrollZoom\":true,\"displaylogo\":false};\n",
       " Plotly.newPlot(\"graph_77ltZefIBj\", traces_77ltZefIBj, layout_77ltZefIBj, config_77ltZefIBj);\n",
       "</script> \n"
      ]
     },
     "metadata": {},
     "output_type": "display_data"
    }
   ],
   "source": [
    "// we get the length of an element of the nested list\n",
    "val n = z(0).length\n",
    "\n",
    "// we now flatten the list and pass it into Series constructor, as well as 'n', the length of an element so that the \n",
    "// heatmap dimensions are correctly constructed\n",
    "val series = XYZ(z=z.flatten, n=n) asType HEATMAP\n",
    "\n",
    "val chart = Chart().addSeries(series).setTitle(\"Heatmap\")\n",
    "\n",
    "chart.plotInline"
   ]
  },
  {
   "cell_type": "markdown",
   "metadata": {},
   "source": [
    "#### Scatter3D"
   ]
  },
  {
   "cell_type": "code",
   "execution_count": 40,
   "metadata": {
    "scrolled": false
   },
   "outputs": [
    {
     "data": {
      "text/html": [
       "<div id=\"grid-container_sWRfHYUKgP\" class=\"grid-container\" align=\"center\"> \n",
       "<div id=\"grid_sWRfHYUKgP\" class=\"grid\" align=\"center\"> \n",
       "<div id=\"graph_p913RH45Eu\" class=\"graph\"></div> \n",
       "</div> \n",
       "</div> \n",
       "<script>\n",
       "var masonry = new Macy({\n",
       "    container: '#grid_sWRfHYUKgP',\n",
       "    debug: true,\n",
       "    mobileFirst: true,\n",
       "    columns: 1,\n",
       "    margin: {\n",
       "        x: 0,\n",
       "        y: 0\n",
       "    }\n",
       "  });\n",
       "\n",
       "  var traces_p913RH45Eu = [{\"name\":\"NdQzg2upJM\",\"type\":\"scatter3d\",\"mode\":\"markers\",\"x\":[1,2,3,4,5,6,7,8,9,10,11,12,13,14,15,16,17,18,19,20,21,22,23,24,25,26,27,28,29,30,31,32,33,34,35,36,37,38,39,40,41,42,43,44,45,46,47,48,49,50,51,52,53,54,55,56,57,58,59,60,61,62,63,64,65,66,67,68,69,70,71,72,73,74,75,76,77,78,79,80,81,82,83,84,85,86,87,88,89,90,91,92,93,94,95,96,97,98,99],\"y\":[1,2,3,4,5,6,7,8,9,10,11,12,13,14,15,16,17,18,19,20,21,22,23,24,25,26,27,28,29,30,31,32,33,34,35,36,37,38,39,40,41,42,43,44,45,46,47,48,49,50,51,52,53,54,55,56,57,58,59,60,61,62,63,64,65,66,67,68,69,70,71,72,73,74,75,76,77,78,79,80,81,82,83,84,85,86,87,88,89,90,91,92,93,94,95,96,97,98,99],\"z\":[62.69292155919482,90.97114537596349,25.854131381661947,99.84190249630137,8.598228152307815,68.83137897370273,40.702017133660476,86.08606131002361,15.030119861423755,85.6993021364528,64.20689797996982,26.569828801393648,84.02326475343695,41.70938004661335,100.56323456417165,72.46945220784433,93.67713022492103,88.52996549380032,72.82573884960621,48.278710494358684,41.241562298144856,46.21065578020946,64.882074187056,102.80377544600024,88.17962847462493,89.40880766130766,58.83085590725919,115.26262402829053,58.83430064042338,87.84928354885864,104.01065016339695,51.3528671838511,104.97010454664698,103.54741572583355,59.88277449431827,39.6402097045623,124.73035733011949,105.6257823004755,126.55265514443339,104.73294105058729,116.44520787494552,62.48135663170141,113.92157966321702,50.446250510002905,55.24517196893929,110.6102042442813,103.29268562951019,133.5233267915562,103.57941932556403,79.57281943139304,123.71208161374587,106.46859948388033,105.50755870934438,73.38386796135711,99.40800933741599,136.66163245031112,69.0282698654212,70.03596618840835,124.39799197865642,128.15860273942332,110.72757402076745,102.91785258870704,85.66595035400974,82.45144759505659,122.67415367170086,130.56310987915606,87.26828094725806,134.94312987435563,122.75858000265859,84.46638949135365,124.30997878459856,95.01073080266744,166.56791340051944,108.6298439737327,117.93880065161859,99.26633877860694,131.40661856442773,169.05326883800717,150.33766204751691,159.98899965401324,131.21929076946017,116.55725917879018,132.15232170726986,153.6893052001262,184.94022855615623,132.12939674977295,93.87356975277604,148.38141951510812,140.18938813515544,170.40936978717497,117.40010186064254,112.37564482201986,149.25382638554927,143.97960479121951,114.34029004729167,182.26797119763654,104.93824241614546,158.8038500998105,113.56812692960891]}];\n",
       " var layout_p913RH45Eu = {\"height\":550,\"width\":600,\"hovermode\":\"closest\",\"title\":{\"text\":\"XYZ.Scatter3D\"},\"showlegend\":true};\n",
       " var config_p913RH45Eu = {\"responsive\":false,\"scrollZoom\":false,\"displaylogo\":false};\n",
       " Plotly.newPlot(\"graph_p913RH45Eu\", traces_p913RH45Eu, layout_p913RH45Eu, config_p913RH45Eu);\n",
       "</script> \n"
      ]
     },
     "metadata": {},
     "output_type": "display_data"
    }
   ],
   "source": [
    "val x = List.range(1, 100)\n",
    "val y = List.range(1, 100)\n",
    "val z = List.range(1, 100).map(e => e + scala.util.Random.nextDouble()*100)\n",
    "\n",
    "val series = XYZ(x, y, z).asType(SCATTER3D).drawStyle(MARKERS)\n",
    "val chart1 = Chart() addSeries series setTitle \"XYZ.Scatter3D\" setConfig(false, false)\n",
    "val canvas = Canvas() addCharts chart1\n",
    "canvas.plotInline"
   ]
  },
  {
   "cell_type": "markdown",
   "metadata": {},
   "source": [
    "#### Surface Plot"
   ]
  },
  {
   "cell_type": "code",
   "execution_count": 41,
   "metadata": {
    "scrolled": false
   },
   "outputs": [
    {
     "data": {
      "text/html": [
       "<div id=\"grid-container_ORlTipKoyG\" class=\"grid-container\" align=\"center\"> \n",
       "<div id=\"grid_ORlTipKoyG\" class=\"grid\" align=\"center\"> \n",
       "<div id=\"graph_ca89MpRFMI\" class=\"graph\"></div> \n",
       "</div> \n",
       "</div> \n",
       "<script>\n",
       "var masonry = new Macy({\n",
       "    container: '#grid_ORlTipKoyG',\n",
       "    debug: true,\n",
       "    mobileFirst: true,\n",
       "    columns: 1,\n",
       "    margin: {\n",
       "        x: 0,\n",
       "        y: 0\n",
       "    }\n",
       "  });\n",
       "\n",
       "  var traces_ca89MpRFMI = [{\"name\":\"h0TD5zidDq\",\"type\":\"surface\",\"colorbar\":{\"title\":{\"text\":\"Altitude\",\"side\":\"right\"}},\"z\":[[8.83,8.89,8.81,8.87,8.9,8.87],[8.89,8.94,8.85,8.94,8.96,8.92],[8.84,8.9,8.82,8.92,8.93,8.91],[8.79,8.85,8.79,8.9,8.94,8.92],[8.79,8.88,8.81,8.9,8.95,8.92],[8.8,8.82,8.78,8.91,8.94,8.92],[8.75,8.78,8.77,8.91,8.95,8.92],[8.8,8.8,8.77,8.91,8.95,8.94],[8.74,8.81,8.76,8.93,8.98,8.99],[8.89,8.99,8.92,9.1,9.13,9.11],[8.97,8.97,8.91,9.09,9.11,9.11],[9.04,9.08,9.05,9.25,9.28,9.27],[9,9.01,9,9.2,9.23,9.2],[8.99,8.99,8.98,9.18,9.2,9.19],[8.93,8.97,8.97,9.18,9.2,9.18]]}];\n",
       " var layout_ca89MpRFMI = {\"height\":550,\"width\":600,\"hovermode\":\"closest\",\"title\":{\"text\":\"Surface\"},\"showlegend\":true};\n",
       " var config_ca89MpRFMI = {\"responsive\":true,\"scrollZoom\":true,\"displaylogo\":false};\n",
       " Plotly.newPlot(\"graph_ca89MpRFMI\", traces_ca89MpRFMI, layout_ca89MpRFMI, config_ca89MpRFMI);\n",
       "</script> \n"
      ]
     },
     "metadata": {},
     "output_type": "display_data"
    }
   ],
   "source": [
    "// 3d surface plot\n",
    "val k = List(\n",
    "    List(8.83,8.89,8.81,8.87,8.9,8.87),\n",
    "    List(8.89,8.94,8.85,8.94,8.96,8.92),\n",
    "    List(8.84,8.9,8.82,8.92,8.93,8.91),\n",
    "    List(8.79,8.85,8.79,8.9,8.94,8.92),\n",
    "    List(8.79,8.88,8.81,8.9,8.95,8.92),\n",
    "    List(8.8,8.82,8.78,8.91,8.94,8.92),\n",
    "    List(8.75,8.78,8.77,8.91,8.95,8.92),\n",
    "    List(8.8,8.8,8.77,8.91,8.95,8.94),\n",
    "    List(8.74,8.81,8.76,8.93,8.98,8.99),\n",
    "    List(8.89,8.99,8.92,9.1,9.13,9.11),\n",
    "    List(8.97,8.97,8.91,9.09,9.11,9.11),\n",
    "    List(9.04,9.08,9.05,9.25,9.28,9.27),\n",
    "    List(9,9.01,9,9.2,9.23,9.2),\n",
    "    List(8.99,8.99,8.98,9.18,9.2,9.19),\n",
    "    List(8.93,8.97,8.97,9.18,9.2,9.18)\n",
    "  )\n",
    "\n",
    "val series = XYZ(z=k.flatten, n = k(0).length) asType SURFACE setColorBar(\"Altitude\", RIGHT_SIDE)\n",
    "val chart2 = Chart() addSeries series setTitle \"Surface\"\n",
    "\n",
    "chart2.plotInline"
   ]
  },
  {
   "cell_type": "markdown",
   "metadata": {},
   "source": [
    "#### Third Dimension as Color"
   ]
  },
  {
   "cell_type": "code",
   "execution_count": 42,
   "metadata": {},
   "outputs": [
    {
     "data": {
      "text/html": [
       "<div id=\"grid-container_OKebfcztb3\" class=\"grid-container\" align=\"center\"> \n",
       "<div id=\"grid_OKebfcztb3\" class=\"grid\" align=\"center\"> \n",
       "<div id=\"graph_p3dAPTLQn8\" class=\"graph\"></div> \n",
       "</div> \n",
       "</div> \n",
       "<script>\n",
       "var masonry = new Macy({\n",
       "    container: '#grid_OKebfcztb3',\n",
       "    debug: true,\n",
       "    mobileFirst: true,\n",
       "    columns: 1,\n",
       "    margin: {\n",
       "        x: 0,\n",
       "        y: 0\n",
       "    }\n",
       "  });\n",
       "\n",
       "  var traces_p3dAPTLQn8 = [{\"name\":\"kU8eIpVJUx\",\"type\":\"scatter\",\"mode\":\"markers\",\"marker\":{\"color\":[62.69292155919482,90.97114537596349,25.854131381661947,99.84190249630137,8.598228152307815,68.83137897370273,40.702017133660476,86.08606131002361,15.030119861423755,85.6993021364528,64.20689797996982,26.569828801393648,84.02326475343695,41.70938004661335,100.56323456417165,72.46945220784433,93.67713022492103,88.52996549380032,72.82573884960621,48.278710494358684,41.241562298144856,46.21065578020946,64.882074187056,102.80377544600024,88.17962847462493,89.40880766130766,58.83085590725919,115.26262402829053,58.83430064042338,87.84928354885864,104.01065016339695,51.3528671838511,104.97010454664698,103.54741572583355,59.88277449431827,39.6402097045623,124.73035733011949,105.6257823004755,126.55265514443339,104.73294105058729,116.44520787494552,62.48135663170141,113.92157966321702,50.446250510002905,55.24517196893929,110.6102042442813,103.29268562951019,133.5233267915562,103.57941932556403,79.57281943139304,123.71208161374587,106.46859948388033,105.50755870934438,73.38386796135711,99.40800933741599,136.66163245031112,69.0282698654212,70.03596618840835,124.39799197865642,128.15860273942332,110.72757402076745,102.91785258870704,85.66595035400974,82.45144759505659,122.67415367170086,130.56310987915606,87.26828094725806,134.94312987435563,122.75858000265859,84.46638949135365,124.30997878459856,95.01073080266744,166.56791340051944,108.6298439737327,117.93880065161859,99.26633877860694,131.40661856442773,169.05326883800717,150.33766204751691,159.98899965401324,131.21929076946017,116.55725917879018,132.15232170726986,153.6893052001262,184.94022855615623,132.12939674977295,93.87356975277604,148.38141951510812,140.18938813515544,170.40936978717497,117.40010186064254,112.37564482201986,149.25382638554927,143.97960479121951,114.34029004729167,182.26797119763654,104.93824241614546,158.8038500998105,113.56812692960891],\"colorbar\":{\"title\":{\"text\":\"3rd Dimension\",\"side\":\"right\"}}},\"x\":[1,2,3,4,5,6,7,8,9,10,11,12,13,14,15,16,17,18,19,20,21,22,23,24,25,26,27,28,29,30,31,32,33,34,35,36,37,38,39,40,41,42,43,44,45,46,47,48,49,50,51,52,53,54,55,56,57,58,59,60,61,62,63,64,65,66,67,68,69,70,71,72,73,74,75,76,77,78,79,80,81,82,83,84,85,86,87,88,89,90,91,92,93,94,95,96,97,98,99],\"y\":[1,2,3,4,5,6,7,8,9,10,11,12,13,14,15,16,17,18,19,20,21,22,23,24,25,26,27,28,29,30,31,32,33,34,35,36,37,38,39,40,41,42,43,44,45,46,47,48,49,50,51,52,53,54,55,56,57,58,59,60,61,62,63,64,65,66,67,68,69,70,71,72,73,74,75,76,77,78,79,80,81,82,83,84,85,86,87,88,89,90,91,92,93,94,95,96,97,98,99]}];\n",
       " var layout_p3dAPTLQn8 = {\"height\":550,\"width\":600,\"hovermode\":\"closest\",\"title\":{\"text\":\"Scatter With Color\"},\"showlegend\":false};\n",
       " var config_p3dAPTLQn8 = {\"responsive\":true,\"scrollZoom\":true,\"displaylogo\":false};\n",
       " Plotly.newPlot(\"graph_p3dAPTLQn8\", traces_p3dAPTLQn8, layout_p3dAPTLQn8, config_p3dAPTLQn8);\n",
       "</script> \n"
      ]
     },
     "metadata": {},
     "output_type": "display_data"
    }
   ],
   "source": [
    "// multiple compositions can be used to create scatter charts with a color representing some third dimension\n",
    "val series = (\n",
    "    XY(x, y) \n",
    "    asType SCATTER \n",
    "    drawStyle MARKERS \n",
    "    setMarker marker \n",
    "    setColor z \n",
    "    setColorBar(\"3rd Dimension\", RIGHT_SIDE)\n",
    ")\n",
    "\n",
    "val chart3 = Chart() addSeries series setTitle \"Scatter With Color\" showLegend false\n",
    "chart3.plotInline"
   ]
  },
  {
   "cell_type": "markdown",
   "metadata": {},
   "source": [
    "#### Subplot\n",
    "\n",
    "The Subplot class can be used to generate subplots for an XYZ plots just as we did previously."
   ]
  },
  {
   "cell_type": "code",
   "execution_count": 43,
   "metadata": {},
   "outputs": [
    {
     "data": {
      "text/html": [
       "<div id=\"grid-container_HYJk3dWbnZ\" class=\"grid-container\" align=\"center\"> \n",
       "<div id=\"grid_HYJk3dWbnZ\" class=\"grid\" align=\"center\"> \n",
       "<div id=\"graph_NoHCaIahIY\" class=\"graph\"></div> \n",
       "<div id=\"graph_GGhCaXhzFY\" class=\"graph\"></div> \n",
       "<div id=\"graph_sOit0IlKsi\" class=\"graph\"></div> \n",
       "<div id=\"graph_6kUpVDOoGh\" class=\"graph\"></div> \n",
       "</div> \n",
       "</div> \n",
       "\n",
       "<div align=\"center\">\n",
       "<button id = \"saveAsPNG_HYJk3dWbnZ\" class=\"picta-button\">Download Canvas as PNG</button>\n",
       "</div>\n",
       "<script>\n",
       "var masonry = new Macy({\n",
       "    container: '#grid_HYJk3dWbnZ',\n",
       "    debug: true,\n",
       "    mobileFirst: true,\n",
       "    columns: 2,\n",
       "    margin: {\n",
       "        x: 0,\n",
       "        y: 0\n",
       "    }\n",
       "  });\n",
       "\n",
       "  var traces_NoHCaIahIY = [{\"name\":\"NdQzg2upJM\",\"type\":\"scatter3d\",\"mode\":\"markers\",\"x\":[1,2,3,4,5,6,7,8,9,10,11,12,13,14,15,16,17,18,19,20,21,22,23,24,25,26,27,28,29,30,31,32,33,34,35,36,37,38,39,40,41,42,43,44,45,46,47,48,49,50,51,52,53,54,55,56,57,58,59,60,61,62,63,64,65,66,67,68,69,70,71,72,73,74,75,76,77,78,79,80,81,82,83,84,85,86,87,88,89,90,91,92,93,94,95,96,97,98,99],\"y\":[1,2,3,4,5,6,7,8,9,10,11,12,13,14,15,16,17,18,19,20,21,22,23,24,25,26,27,28,29,30,31,32,33,34,35,36,37,38,39,40,41,42,43,44,45,46,47,48,49,50,51,52,53,54,55,56,57,58,59,60,61,62,63,64,65,66,67,68,69,70,71,72,73,74,75,76,77,78,79,80,81,82,83,84,85,86,87,88,89,90,91,92,93,94,95,96,97,98,99],\"z\":[62.69292155919482,90.97114537596349,25.854131381661947,99.84190249630137,8.598228152307815,68.83137897370273,40.702017133660476,86.08606131002361,15.030119861423755,85.6993021364528,64.20689797996982,26.569828801393648,84.02326475343695,41.70938004661335,100.56323456417165,72.46945220784433,93.67713022492103,88.52996549380032,72.82573884960621,48.278710494358684,41.241562298144856,46.21065578020946,64.882074187056,102.80377544600024,88.17962847462493,89.40880766130766,58.83085590725919,115.26262402829053,58.83430064042338,87.84928354885864,104.01065016339695,51.3528671838511,104.97010454664698,103.54741572583355,59.88277449431827,39.6402097045623,124.73035733011949,105.6257823004755,126.55265514443339,104.73294105058729,116.44520787494552,62.48135663170141,113.92157966321702,50.446250510002905,55.24517196893929,110.6102042442813,103.29268562951019,133.5233267915562,103.57941932556403,79.57281943139304,123.71208161374587,106.46859948388033,105.50755870934438,73.38386796135711,99.40800933741599,136.66163245031112,69.0282698654212,70.03596618840835,124.39799197865642,128.15860273942332,110.72757402076745,102.91785258870704,85.66595035400974,82.45144759505659,122.67415367170086,130.56310987915606,87.26828094725806,134.94312987435563,122.75858000265859,84.46638949135365,124.30997878459856,95.01073080266744,166.56791340051944,108.6298439737327,117.93880065161859,99.26633877860694,131.40661856442773,169.05326883800717,150.33766204751691,159.98899965401324,131.21929076946017,116.55725917879018,132.15232170726986,153.6893052001262,184.94022855615623,132.12939674977295,93.87356975277604,148.38141951510812,140.18938813515544,170.40936978717497,117.40010186064254,112.37564482201986,149.25382638554927,143.97960479121951,114.34029004729167,182.26797119763654,104.93824241614546,158.8038500998105,113.56812692960891]}];\n",
       " var layout_NoHCaIahIY = {\"height\":350,\"width\":350,\"hovermode\":\"closest\",\"title\":{\"text\":\"XYZ.Scatter3D\"},\"showlegend\":true,\"margin\":{\"l\":50,\"r\":50,\"t\":50,\"b\":50}};\n",
       " var config_NoHCaIahIY = {\"responsive\":false,\"scrollZoom\":false,\"displaylogo\":false};\n",
       " Plotly.newPlot(\"graph_NoHCaIahIY\", traces_NoHCaIahIY, layout_NoHCaIahIY, config_NoHCaIahIY);\n",
       "\n",
       "  var traces_GGhCaXhzFY = [{\"name\":\"h0TD5zidDq\",\"type\":\"surface\",\"colorbar\":{\"title\":{\"text\":\"Altitude\",\"side\":\"right\"}},\"z\":[[8.83,8.89,8.81,8.87,8.9,8.87],[8.89,8.94,8.85,8.94,8.96,8.92],[8.84,8.9,8.82,8.92,8.93,8.91],[8.79,8.85,8.79,8.9,8.94,8.92],[8.79,8.88,8.81,8.9,8.95,8.92],[8.8,8.82,8.78,8.91,8.94,8.92],[8.75,8.78,8.77,8.91,8.95,8.92],[8.8,8.8,8.77,8.91,8.95,8.94],[8.74,8.81,8.76,8.93,8.98,8.99],[8.89,8.99,8.92,9.1,9.13,9.11],[8.97,8.97,8.91,9.09,9.11,9.11],[9.04,9.08,9.05,9.25,9.28,9.27],[9,9.01,9,9.2,9.23,9.2],[8.99,8.99,8.98,9.18,9.2,9.19],[8.93,8.97,8.97,9.18,9.2,9.18]]}];\n",
       " var layout_GGhCaXhzFY = {\"height\":350,\"width\":350,\"hovermode\":\"closest\",\"title\":{\"text\":\"Surface\"},\"showlegend\":true,\"margin\":{\"l\":50,\"r\":50,\"t\":50,\"b\":50}};\n",
       " var config_GGhCaXhzFY = {\"responsive\":true,\"scrollZoom\":true,\"displaylogo\":false};\n",
       " Plotly.newPlot(\"graph_GGhCaXhzFY\", traces_GGhCaXhzFY, layout_GGhCaXhzFY, config_GGhCaXhzFY);\n",
       "\n",
       "  var traces_sOit0IlKsi = [{\"name\":\"kU8eIpVJUx\",\"type\":\"scatter\",\"mode\":\"markers\",\"marker\":{\"color\":[62.69292155919482,90.97114537596349,25.854131381661947,99.84190249630137,8.598228152307815,68.83137897370273,40.702017133660476,86.08606131002361,15.030119861423755,85.6993021364528,64.20689797996982,26.569828801393648,84.02326475343695,41.70938004661335,100.56323456417165,72.46945220784433,93.67713022492103,88.52996549380032,72.82573884960621,48.278710494358684,41.241562298144856,46.21065578020946,64.882074187056,102.80377544600024,88.17962847462493,89.40880766130766,58.83085590725919,115.26262402829053,58.83430064042338,87.84928354885864,104.01065016339695,51.3528671838511,104.97010454664698,103.54741572583355,59.88277449431827,39.6402097045623,124.73035733011949,105.6257823004755,126.55265514443339,104.73294105058729,116.44520787494552,62.48135663170141,113.92157966321702,50.446250510002905,55.24517196893929,110.6102042442813,103.29268562951019,133.5233267915562,103.57941932556403,79.57281943139304,123.71208161374587,106.46859948388033,105.50755870934438,73.38386796135711,99.40800933741599,136.66163245031112,69.0282698654212,70.03596618840835,124.39799197865642,128.15860273942332,110.72757402076745,102.91785258870704,85.66595035400974,82.45144759505659,122.67415367170086,130.56310987915606,87.26828094725806,134.94312987435563,122.75858000265859,84.46638949135365,124.30997878459856,95.01073080266744,166.56791340051944,108.6298439737327,117.93880065161859,99.26633877860694,131.40661856442773,169.05326883800717,150.33766204751691,159.98899965401324,131.21929076946017,116.55725917879018,132.15232170726986,153.6893052001262,184.94022855615623,132.12939674977295,93.87356975277604,148.38141951510812,140.18938813515544,170.40936978717497,117.40010186064254,112.37564482201986,149.25382638554927,143.97960479121951,114.34029004729167,182.26797119763654,104.93824241614546,158.8038500998105,113.56812692960891],\"colorbar\":{\"title\":{\"text\":\"3rd Dimension\",\"side\":\"right\"}}},\"x\":[1,2,3,4,5,6,7,8,9,10,11,12,13,14,15,16,17,18,19,20,21,22,23,24,25,26,27,28,29,30,31,32,33,34,35,36,37,38,39,40,41,42,43,44,45,46,47,48,49,50,51,52,53,54,55,56,57,58,59,60,61,62,63,64,65,66,67,68,69,70,71,72,73,74,75,76,77,78,79,80,81,82,83,84,85,86,87,88,89,90,91,92,93,94,95,96,97,98,99],\"y\":[1,2,3,4,5,6,7,8,9,10,11,12,13,14,15,16,17,18,19,20,21,22,23,24,25,26,27,28,29,30,31,32,33,34,35,36,37,38,39,40,41,42,43,44,45,46,47,48,49,50,51,52,53,54,55,56,57,58,59,60,61,62,63,64,65,66,67,68,69,70,71,72,73,74,75,76,77,78,79,80,81,82,83,84,85,86,87,88,89,90,91,92,93,94,95,96,97,98,99]}];\n",
       " var layout_sOit0IlKsi = {\"height\":350,\"width\":350,\"hovermode\":\"closest\",\"title\":{\"text\":\"Scatter With Color\"},\"showlegend\":false,\"margin\":{\"l\":50,\"r\":50,\"t\":50,\"b\":50}};\n",
       " var config_sOit0IlKsi = {\"responsive\":true,\"scrollZoom\":true,\"displaylogo\":false};\n",
       " Plotly.newPlot(\"graph_sOit0IlKsi\", traces_sOit0IlKsi, layout_sOit0IlKsi, config_sOit0IlKsi);\n",
       "\n",
       "  var traces_6kUpVDOoGh = [{\"name\":\"IxOZ9C1iiW\",\"type\":\"heatmap\",\"z\":[[67.47245694394928,12.89834142784717,101.96094248030587,66.20563946009061,12.169001192994651,81.9610221046248,32.380966710173865,58.79864407940244,25.877303901587403,39.3651113452177],[96.87069230092685,82.2917402388207,38.56211239403369,40.82324455751505,42.45168327905265,82.28627441451063,17.747026449473687,64.30007503613535,50.38395858927642,74.70703531659788],[47.423776843576796,47.02762679866287,75.84406229895221,31.529246935248104,84.23403830720392,53.76121683925206,43.69180628111023,42.98079998240126,120.16263680848223,97.9220378862312],[87.23070784193104,57.797474116881304,56.46931583208772,113.54209199998179,75.16772640416201,74.69095474354884,59.699566533705024,67.82160222092406,70.90380132744917,95.39646460894974],[127.35318175144687,111.62867054346668,107.83745126419296,52.49884316897229,138.1526272855786,88.41537106718819,144.53944971592136,93.69297240277561,99.84146191850371,60.7941053554453],[84.4573938243675,138.21647847483703,136.0564406222804,68.41248409142214,106.23476684821979,120.89962695281012,73.05512049334058,100.7845852396303,152.77986967169016,104.60939736250592],[96.94412571236131,154.38097442148444,69.89576902508881,72.8217649044657,152.54151210549395,144.54935362646205,68.58320967281989,110.63821230765751,146.11989474068463,159.73230255897988],[109.05421993714118,144.76952501118745,96.01536906565144,77.9680514666714,169.04487924468748,140.84203135793786,147.45045594794465,113.80478978495086,164.19157085944954,149.83834717220108],[130.90764355656404,127.52851788364029,134.03575183030904,154.56684632371156,97.0033384596781,107.99903862562698,93.64809620367397,91.76102285536672,105.05034596744109,135.40811845608425],[177.91364579969894,115.74199210912346,177.36026535413868,140.9184894121762,173.19535767575212,125.53437897698976,156.82548365572154,106.41179654486456,139.3942552299398,198.90786822006248]]}];\n",
       " var layout_6kUpVDOoGh = {\"height\":350,\"width\":350,\"hovermode\":\"closest\",\"title\":{\"text\":\"Heatmap\"},\"showlegend\":true,\"margin\":{\"l\":50,\"r\":50,\"t\":50,\"b\":50}};\n",
       " var config_6kUpVDOoGh = {\"responsive\":true,\"scrollZoom\":true,\"displaylogo\":false};\n",
       " Plotly.newPlot(\"graph_6kUpVDOoGh\", traces_6kUpVDOoGh, layout_6kUpVDOoGh, config_6kUpVDOoGh);\n",
       "\n",
       "var save_HYJk3dWbnZ = document.getElementById(\"saveAsPNG_HYJk3dWbnZ\")\n",
       "save_HYJk3dWbnZ.onclick = async function() {\n",
       "    const grid = document.getElementById(\"grid-container_HYJk3dWbnZ\")\n",
       "    const graphs = grid.getElementsByClassName(\"graph\")\n",
       "\n",
       "    const images = []\n",
       "\n",
       "    const rows = 2\n",
       "    const cols = 2\n",
       "    const img_width = 400\n",
       "    const img_height = 400\n",
       "    var margin = 50\n",
       "\n",
       "    for (var i=0; i<rows; i++) {\n",
       "      for (var j=0; j<cols; j++) {\n",
       "        const image = await Plotly.toImage(graphs[i * cols + j], {format: 'png', width: img_width, height: img_height})\n",
       "        images.push(image);\n",
       "      }\n",
       "    }\n",
       "\n",
       "    const positioned_images = []\n",
       "\n",
       "        for (var i=0; i<rows; i++) {\n",
       "            for (var j=0; j<cols; j++) {\n",
       "\n",
       "                const obj = {\n",
       "                    \"src\": images[i*cols + j],\n",
       "                    x: j*img_width+margin,\n",
       "                    y: i*img_height+margin\n",
       "                }\n",
       "\n",
       "                positioned_images.push(obj)\n",
       "            }\n",
       "        }\n",
       "\n",
       "        mergeImages(positioned_images, {\n",
       "            width: img_width*cols+60, height: img_height*rows+60\n",
       "        })\n",
       "        .then(b64 => {\n",
       "            var a = document.createElement(\"a\");\n",
       "            a.href = b64;\n",
       "            a.download = \"Image.png\";\n",
       "            a.click();\n",
       "            a.remove()\n",
       "        });\n",
       "}\n",
       "</script> \n"
      ]
     },
     "metadata": {},
     "output_type": "display_data"
    }
   ],
   "source": [
    "// it may be necessary to play around with the chart dimensions and margin  in order to ensure a good fit on screen.\n",
    "val dim = 350\n",
    "\n",
    "// The canvas has an underlying grid. By default the underlying grid is 1x1, but we can pass in the dimensions we \n",
    "// require by passing in parameters in the constructor.\n",
    "Canvas(2, 2)\n",
    ".setChart(0, 0, chart1.setDimensions(width = dim, height = dim).setMargin(l=50, r=50, t=50, b=50))\n",
    ".setChart(0, 1, chart2.setDimensions(width = dim, height = dim)setMargin(l=50, r=50, t=50, b=50))\n",
    ".setChart(1, 0, chart3.setDimensions(width = dim, height = dim)setMargin(l=50, r=50, t=50, b=50))\n",
    ".setChart(1, 1, chart.setDimensions(width = dim, height = dim)setMargin(l=50, r=50, t=50, b=50))\n",
    ".plotInline"
   ]
  },
  {
   "cell_type": "markdown",
   "metadata": {},
   "source": [
    "#### Map\n",
    "\n",
    "We can also create maps using the composition technique below."
   ]
  },
  {
   "cell_type": "code",
   "execution_count": 44,
   "metadata": {},
   "outputs": [],
   "source": [
    "import org.carbonateresearch.picta.options.{Margin, Line}\n",
    "import org.carbonateresearch.picta.Map"
   ]
  },
  {
   "cell_type": "code",
   "execution_count": 45,
   "metadata": {},
   "outputs": [
    {
     "data": {
      "text/html": [
       "<div id=\"grid-container_iDl0Hqsd5X\" class=\"grid-container\" align=\"center\"> \n",
       "<div id=\"grid_iDl0Hqsd5X\" class=\"grid\" align=\"center\"> \n",
       "<div id=\"graph_UU5bhPZlp4\" class=\"graph\"></div> \n",
       "</div> \n",
       "</div> \n",
       "<script>\n",
       "var masonry = new Macy({\n",
       "    container: '#grid_iDl0Hqsd5X',\n",
       "    debug: true,\n",
       "    mobileFirst: true,\n",
       "    columns: 1,\n",
       "    margin: {\n",
       "        x: 0,\n",
       "        y: 0\n",
       "    }\n",
       "  });\n",
       "\n",
       "  var traces_UU5bhPZlp4 = [{\"name\":\"DGU6ov8NJu\",\"lat\":[40.7127,51.5072],\"lon\":[-74.0059,0.1275],\"type\":\"scattergeo\",\"mode\":\"lines\",\"line\":{\"width\":2,\"color\":\"red\"}}];\n",
       " var layout_UU5bhPZlp4 = {\"height\":550,\"width\":600,\"hovermode\":\"closest\",\"showlegend\":true,\"geo\":{\"resolution\":50,\"showland\":true,\"showlakes\":true,\"coastlinewidth\":2,\"landcolor\":\"rgb(204.0, 204.0, 204.0)\",\"lakecolor\":\"rgb(255.0, 255.0, 255.0)\",\"lataxis\":{\"range\":[20,60],\"showgrid\":true,\"dtick\":10},\"lonaxis\":{\"range\":[-100,20],\"showgrid\":true,\"dtick\":10}},\"margin\":{\"l\":0,\"r\":0,\"t\":0,\"b\":0}};\n",
       " var config_UU5bhPZlp4 = {\"responsive\":false,\"scrollZoom\":false,\"displaylogo\":false};\n",
       " Plotly.newPlot(\"graph_UU5bhPZlp4\", traces_UU5bhPZlp4, layout_UU5bhPZlp4, config_UU5bhPZlp4);\n",
       "</script> \n"
      ]
     },
     "metadata": {},
     "output_type": "display_data"
    }
   ],
   "source": [
    "// draw a line on the map that is red\n",
    "val line = Line(width = 2) setColor \"red\"\n",
    "\n",
    "// construct the map Series. It is an XY chart as it takes in a List of Longitude and Latitude\n",
    "val series = Map(List(40.7127, 51.5072), List(-74.0059, 0.1275)) drawSymbol LINES drawLine line\n",
    "\n",
    "// These are options that further specify the options for the map\n",
    "val geo = MapOptions(landcolor = RGB(204, 204, 204), lakecolor = RGB(255, 255, 255))\n",
    "              .setMapAxes(LatAxis(List(20, 60)), LongAxis(List(-100, 20)))\n",
    "\n",
    "val chart = (\n",
    "    Chart()\n",
    "    addSeries series\n",
    "    setConfig(false, false)\n",
    "    setMapOptions geo\n",
    "    setMargin(l=0, r=0, t=0, b=0)\n",
    ")\n",
    "\n",
    "chart.plotInline"
   ]
  },
  {
   "cell_type": "markdown",
   "metadata": {},
   "source": [
    "### Animated Charts\n",
    "\n",
    "We can also create animated charts. This can be useful for tracking the evolution of a data over time.\n",
    "\n",
    "All `Series` types should be supported.\n",
    "\n",
    "#### 2D Animated Chart"
   ]
  },
  {
   "cell_type": "code",
   "execution_count": 46,
   "metadata": {},
   "outputs": [],
   "source": [
    "import org.carbonateresearch.picta.ColorOptions._\n",
    "\n",
    "def genRangeRandomInt(min: Int = 0, max: Int = 10000) = min + (max - min) * scala.util.Random.nextInt()\n",
    "def genRangeRandomDouble(min: Double = 0.0, max: Double = 10000.0) = min + (max - min) * scala.util.Random.nextDouble()\n",
    "\n",
    "// creates random XY for testing purposes\n",
    "def createXYSeries[T: Color]\n",
    "(numberToCreate: Int, count: Int = 0, length: Int = 10): List[XY[Double, Double, T, T]] = {\n",
    "    if (count == numberToCreate) Nil\n",
    "    else {\n",
    "      val xs = List.range(0, length).map(x => genRangeRandomDouble())\n",
    "      val ys = xs.map(x => genRangeRandomDouble())\n",
    "      val series = XY(x = xs, y = ys, name = \"series \" + count).drawMarkers\n",
    "      series :: createXYSeries(numberToCreate, count + 1, length)\n",
    "    }\n",
    "}\n",
    "\n",
    "def createXYZSeries(numberToCreate: Int, count: Int = 0, length: Int = 10): List[XYZ[Double, Double, Double]] = {\n",
    "    if (count == numberToCreate) Nil\n",
    "    else {\n",
    "      val xs = List.range(0, length).map(x => genRangeRandomDouble())\n",
    "      val ys = xs.map(x => genRangeRandomDouble())\n",
    "      val zs = xs.map(x => genRangeRandomDouble())\n",
    "      val series = XYZ(x = xs, y = ys, z = zs, name = \"series \" + count, `type` = SCATTER3D).drawMarkers\n",
    "      series :: createXYZSeries(numberToCreate, count + 1, length)\n",
    "    }\n",
    "}"
   ]
  },
  {
   "cell_type": "code",
   "execution_count": 47,
   "metadata": {
    "scrolled": false
   },
   "outputs": [
    {
     "data": {
      "text/html": [
       "<div id=\"grid-container_JbI7c3udY0\" class=\"grid-container\" align=\"center\"> \n",
       "<div id=\"grid_JbI7c3udY0\" class=\"grid\" align=\"center\"> \n",
       "\n",
       "<div align=\"center\">\n",
       "  <div id=\"graph_gTkCLTyBSj\" class=\"graph\"></div>\n",
       "  <div class=\"animationInterface\">\n",
       "    <button id=\"play_gTkCLTyBSj\" class=\"picta-button\">&#9658</button>\n",
       "    <button id=\"pause_gTkCLTyBSj\" class=\"picta-button\">&#9616;&#9616;</button>\n",
       "    <button id=\"prev_gTkCLTyBSj\" class=\"picta-button\"><</button>\n",
       "    <button id=\"next_gTkCLTyBSj\" class=\"picta-button\">></button>\n",
       "\n",
       "    <div id=\"sliderContainer_gTkCLTyBSj\" class=\"progressBar\"></div>\n",
       "    <div id=\"counterContainer_gTkCLTyBSj\" class=\"inline-div\">\n",
       "        <h3>Frame: </h3> <h3 id=\"value_gTkCLTyBSj\">0</h3>\n",
       "    </div>\n",
       "   </div>\n",
       "</div> \n",
       "\n",
       "</div> \n",
       "</div> \n",
       "<script>\n",
       "var masonry = new Macy({\n",
       "    container: '#grid_JbI7c3udY0',\n",
       "    debug: true,\n",
       "    mobileFirst: true,\n",
       "    columns: 1,\n",
       "    margin: {\n",
       "        x: 0,\n",
       "        y: 0\n",
       "    }\n",
       "  });\n",
       "\n",
       "var graph_gTkCLTyBSj = document.getElementById('graph_gTkCLTyBSj')\n",
       "\n",
       "var layout_gTkCLTyBSj = {\"height\":550,\"width\":600,\"hovermode\":\"closest\",\"title\":{\"text\":\"Animation XY\"},\"showlegend\":true,\"xaxis\":{\"title\":{\"text\":\"X Variable\"},\"showgrid\":true,\"zeroline\":false,\"showline\":false,\"range\":[0,10000]},\"yaxis\":{\"title\":{\"text\":\"Y Variable\"},\"showgrid\":true,\"zeroline\":false,\"showline\":false,\"range\":[0,10000]}}\n",
       "var frames_gTkCLTyBSj = [{\"name\":\"series 0 (F0)\",\"data\":[{\"name\":\"series 0 (F0)\",\"type\":\"scatter\",\"mode\":\"markers\",\"x\":[4317.338466104077,8237.242499346314,8404.12193936474,2915.2092258567163,9434.288982428548,8.2331424102422,536.9879145028456,3017.509785137512,6803.044865228339,9495.467579128168,679.2716412654554,3575.655786242107,7535.308758021964,498.3734929741135,9573.24197309507,1808.7373074652246,6468.003330883146,290.4203908694369,1264.401832116623,1001.960213853027,4303.947576022688,3895.87708937694,5032.149927064774,5097.719200590097,7196.65775646714,6957.6179930998,2471.6293667355803,1197.331930617832,8248.570081576647,7878.660418790244],\"y\":[9064.226065477362,4313.341087785416,6768.941940470744,9500.187669735657,482.38331977609295,9073.614737812639,4077.131895136613,4221.3899753452115,1345.099516461471,2502.3072723759733,9138.9221269242,4171.541356786987,8173.688067586988,489.0701446819068,3387.9921982908913,9812.297989922014,8893.066889857597,8106.730144475635,1711.6087442977612,6178.289070481055,8382.064936946035,548.9778911422594,5769.052061701825,5856.64697628419,3296.9221212187804,7133.444403471704,6563.248576837419,1761.2030783571474,9675.36917739531,5551.864446861508]}]},{\"name\":\"series 1 (F1)\",\"data\":[{\"name\":\"series 1 (F1)\",\"type\":\"scatter\",\"mode\":\"markers\",\"x\":[5500.531406891669,774.6487442625871,3674.3791004231875,7347.856152116386,7050.4131099208025,1412.0478703948736,9202.87502784367,8464.176862768594,1556.6932095295438,4801.655935910132,6181.3967449467555,625.1403826056423,3753.190930655358,8484.086107108302,9693.918407099394,306.2089574902926,1101.8341689505385,6798.436876232568,3392.7193443409465,2091.6022004179936,6197.800446844084,9954.07433506975,175.41424582958376,2332.096246194959,9175.847545834242,6279.344120318376,9373.94623180632,7189.007483183929,9303.933860278974,8593.559019324535],\"y\":[2478.5562759757986,6386.690543146838,9764.675679140231,6166.193076408482,8765.441150715365,294.7039082939118,6002.14470867973,8307.28884382887,8105.014432477386,3322.1266966435105,5950.961535012297,4275.659522107053,698.3957445043399,1030.3372269517918,9966.592370929482,6896.552264750315,2522.942675221016,1856.893803250329,9340.21329697604,4048.0105306288183,863.3596984559277,6891.98155771323,4908.454583326406,3005.2552991874504,6463.107245167208,2760.225669684382,1457.7945538912852,7524.982020126767,7551.546373857027,3334.4904398611043]}]},{\"name\":\"series 2 (F2)\",\"data\":[{\"name\":\"series 2 (F2)\",\"type\":\"scatter\",\"mode\":\"markers\",\"x\":[9375.32307513649,6506.549949758505,6285.451366322066,5744.618324407675,2312.051189257519,6084.61289814152,9989.232498023732,4942.8863020703975,8501.890912474732,4087.8283221214583,7986.40588596435,8949.291805973678,3818.889838013765,6940.849982791677,9785.559484079156,3823.5976944177696,6657.2488194684165,4291.892612357856,1917.2594061044867,3397.40738294819,8283.117449809195,5915.736429461272,8814.05039912198,3848.3573943341307,7434.097799131047,8772.113562591316,7783.901198381781,7309.850056373873,4631.857942472972,9491.99627998171],\"y\":[9348.155891618406,1883.574534351512,9925.195546418,9019.3931497084,1998.2476986615916,7658.392193465181,7595.35451608415,1653.8243612914428,4771.1410849987005,9637.9927446555,2732.3450934795433,318.7385176173585,1951.6674381606701,8841.050453183048,7530.4736858759225,3523.700036529415,1680.6248856458062,2261.4472347770798,9653.241316937178,7193.264929569226,4280.7140897753225,862.4453703709079,1082.2214670201936,6303.031725865558,6708.086021937195,2327.5322858945237,3491.4845667627724,7093.437358679943,6695.482560946402,1901.979856920737]}]},{\"name\":\"series 3 (F3)\",\"data\":[{\"name\":\"series 3 (F3)\",\"type\":\"scatter\",\"mode\":\"markers\",\"x\":[5378.584118742296,524.4476452863345,3873.6473370332824,332.9927486314166,6935.078313185163,1589.3629052425463,5440.899376357732,2652.647849295884,954.008574677585,7123.545268574033,796.4497463471043,5346.6525824433875,1948.7177615237329,6823.948650857124,2961.2599721219713,2313.2840709671154,1096.8302730539415,8337.909521774001,4580.931331196319,1940.6900826719263,1625.1872999490668,7484.7361693920775,2838.326007395663,8617.069789873138,7815.965823291933,8941.21527012655,699.3205208806219,2037.0758860958927,941.1761887618297,1052.2241010547273],\"y\":[1573.2937504555643,6779.10546495623,7122.1800852517945,820.2256713796352,690.6590582030669,2801.9839225997302,5362.824470231292,1582.4941074041533,9282.948656834766,4745.86255418103,8819.24114891126,6402.497857639747,6996.664967277071,4220.9889450974115,8746.314989589755,4781.95004896237,3880.31518489392,4629.330071952899,8500.275249395017,8942.608041217738,5754.748312911169,2487.862071929826,4478.820004451422,8631.984585669625,5810.1177859899535,2708.66302744328,1944.6345835991585,174.71264752761283,868.4945152674617,7839.777750357205]}]},{\"name\":\"series 4 (F4)\",\"data\":[{\"name\":\"series 4 (F4)\",\"type\":\"scatter\",\"mode\":\"markers\",\"x\":[6305.118198746175,6321.383414368974,2909.3626361582515,2882.1498963603976,4610.589988825609,8339.251386513162,5175.924209289723,7971.744245916563,7785.191248989041,744.2842492923473,7463.355077895179,952.3108025269,1419.1619712105319,2091.611175340411,7035.84463611451,663.0712897831659,1828.116727551291,2321.4971089487535,27.463605555638757,9626.935589681525,4524.4015228210665,8300.558686475915,3152.604759710914,1748.684083179568,4247.565522178489,4403.002791869428,7084.9429042609445,6618.879196813477,9265.43339564052,4244.257826185694],\"y\":[959.5654451778057,7068.100792744105,7784.219140811094,3009.4406494647474,2111.1295325465194,727.4226978827058,995.5748359382999,7211.679992080612,6381.598605577738,9524.882363373374,5540.418135691006,170.39754655870266,2114.323131173731,3284.0160036244815,7983.842074715681,7017.224830353314,5296.926579230563,4889.369025735739,5272.354706129657,2617.3115765473453,4223.66265051604,4845.2105117856445,8084.157503217872,9436.36045891964,9518.61556984011,2477.514783662015,8485.121086450079,88.80219822959279,9394.31338467022,9515.599268112834]}]},{\"name\":\"series 5 (F5)\",\"data\":[{\"name\":\"series 5 (F5)\",\"type\":\"scatter\",\"mode\":\"markers\",\"x\":[9367.567817546747,1070.097226325103,616.0335918131321,9338.634035092939,775.9284921120657,6.239839716172257,2800.275869324732,1783.5725519110756,7412.7897121491615,8646.105090216446,7396.5887648006155,9084.870792225709,2370.8050267832305,7777.367456028928,2985.1301218560466,3252.704138813013,4450.391245546865,8264.292336023393,5368.056388163905,8995.20428201019,300.09008007989,4485.78522315115,4341.0250140862745,9151.580252396514,8055.924638519075,2594.652068866068,9001.810415878314,1526.8044473750963,6158.033544234748,6224.114356914016],\"y\":[9986.229012887734,7004.882657494835,9587.321533830123,6535.1918896532325,117.27126434955993,8866.546287457359,5891.814175665685,1828.6466946256353,4611.552600608458,2348.539620470591,5061.86237989395,4337.76116050807,8207.879985720256,1655.4999099762636,565.2901235683883,8273.299827623914,9365.954512684937,8871.75641281514,3668.0361083684465,3709.5840434234583,1028.9152839959293,5519.20530853139,9542.792747757467,5480.683752107441,3351.6462022354167,2868.739008838842,1607.596329147576,4898.314132893801,6267.462885027197,1536.5468753207479]}]},{\"name\":\"series 6 (F6)\",\"data\":[{\"name\":\"series 6 (F6)\",\"type\":\"scatter\",\"mode\":\"markers\",\"x\":[38.277269419432216,4808.095324652774,8799.004210308474,4382.921089191851,1463.1335655055755,5268.42147412854,7614.851427997561,9280.0382266801,9475.141749531227,7966.251928696125,9491.607161260165,9926.510459672516,9786.471317483063,2376.726371984131,1061.8650600057067,3560.3307873179415,9602.028311136703,5628.576838591733,4511.704156208014,4158.163432441103,8103.198696241018,1054.8893666092852,9737.04891304854,8507.759020327074,3809.918174740531,7488.848805112035,1876.4332956919484,401.60320459012746,5028.655240582108,2506.673196550544],\"y\":[8108.416676418354,5123.733737190539,1595.8321133319853,8025.028423507691,9135.097328007809,2387.9916007528777,9690.67834868529,5927.787093888522,8868.874283152007,934.7967473918451,6618.451696094155,4727.074180521624,497.81314268681484,2104.869693160747,9154.423050294561,5656.126326425405,8325.671531248687,2882.148952399487,7290.969574549765,8046.558729818377,2565.8445642782112,1134.4771873716343,5044.573716621869,9360.22142931338,8614.195136753526,7079.46536715316,1356.4864898791895,4825.90179399581,3233.9330052400815,5364.26437344647]}]},{\"name\":\"series 7 (F7)\",\"data\":[{\"name\":\"series 7 (F7)\",\"type\":\"scatter\",\"mode\":\"markers\",\"x\":[7060.252292304437,5273.704900243986,7556.415262941053,1571.8071621648699,8391.262435597895,9465.02748592563,834.9377427755611,5452.409585534175,3577.9413800778802,8983.613898407375,9484.297011038958,728.4472641004036,6681.137791683807,9583.263267153641,3097.0973236813725,7931.153808973744,2037.7319034058917,2780.3370938705075,2848.4901833249,2402.416404204686,3416.435962161154,5434.28811258879,7984.226469749143,4330.764558309894,4308.208089792489,3077.0189176710405,2932.6118587748697,1489.5886111281031,9650.659681446768,4831.946577671247],\"y\":[989.1596152573811,8206.941931929658,4725.283746848532,3906.236288315913,493.4292061371248,6020.112813999898,3968.293341029292,7844.739690009872,5950.754778542329,2454.481872442813,1000.2993700888096,7001.755477045906,9647.26057638314,4415.006944602492,1307.0253644324005,8016.80362473225,8964.768228633311,1790.004099589685,692.6963642114314,1473.187689328076,822.9038640315001,5040.725600335417,5879.701268398949,9373.192673473068,7458.914319493042,7786.560415351458,8442.577991341617,8581.350354385095,7101.405783453605,1694.512366910469]}]},{\"name\":\"series 8 (F8)\",\"data\":[{\"name\":\"series 8 (F8)\",\"type\":\"scatter\",\"mode\":\"markers\",\"x\":[9641.320767694917,967.2736664479676,9002.422815493668,6342.937181040063,1658.4704222651746,9622.149347462115,4762.984700441633,1153.3531523789875,246.39097708036405,3228.048432044377,6920.405472965818,9970.46014095634,4855.5974529414825,7426.795469633708,1361.4191005257048,1419.3387257064626,4941.949440375289,2865.2165942771335,2283.3439779339783,9780.119490212912,5339.978462525177,4486.164076857971,7146.214110803252,1794.2521409431022,9341.568220603764,5589.788363500422,4342.014506648372,4552.821498665284,5433.6665279476,3207.1158769461517],\"y\":[8152.859870401092,8416.1911028507,2525.6512165222857,8408.061483368961,3978.1561661492806,6775.585408111481,8936.435004688537,6308.58473141682,1781.4915586300183,1391.0401354706082,2413.3392922770026,5746.777726387083,7241.202232258449,8026.493628337303,2019.2270300976857,7865.251747501651,8184.266887609113,2151.6026839989213,7851.332628780929,6167.26453287089,8541.381069704523,8591.21014937135,1244.6812507853788,8006.611869800866,3281.770942925465,2177.208383982726,6364.946597189336,8926.381879527948,5569.503640120352,8693.877952241772]}]},{\"name\":\"series 9 (F9)\",\"data\":[{\"name\":\"series 9 (F9)\",\"type\":\"scatter\",\"mode\":\"markers\",\"x\":[3910.043536576251,6779.251437291536,1728.7620184380803,6706.60480863966,9016.70959448898,2142.0815371016156,513.7457492178454,1225.2096650466071,8407.780441236948,5180.143734750677,649.5712345181192,9576.949449855258,6317.81847102708,6821.393811395475,4643.742162395625,8350.582321135485,4799.2051410470485,3868.7789926395453,7463.467127142652,7821.710871131323,1637.7633427569638,3508.653024944266,5832.301559649007,6880.950540720366,8296.427215581756,2565.9393662839693,7620.29941274436,7160.295905626876,1057.4315320676576,811.775120013285],\"y\":[1085.055659241474,9789.38832216082,847.9418446529053,5646.931846624239,566.7327437053859,2012.210868989437,1111.008464944605,7564.399906791343,8648.357068942618,3756.0741367705773,8523.168370166542,1937.0925390958193,4763.385031926738,6168.572393519499,8361.983554695234,2881.70917679084,6765.734351414313,5124.530779989528,4891.250891117169,9217.372655211204,5073.179888762789,2753.779653162073,7258.573908097593,867.7344719188118,8653.221619264923,9151.932214076316,3089.43642841238,6447.820770991264,8341.228876339359,4610.15933903718]}]},{\"name\":\"series 10 (F10)\",\"data\":[{\"name\":\"series 10 (F10)\",\"type\":\"scatter\",\"mode\":\"markers\",\"x\":[5213.881707315365,9231.967144842767,5763.871518882341,9936.290717810858,1776.3372927776923,9216.773112426708,5486.553640085542,8738.39746468318,6356.094601664638,3573.0812973655256,3911.7639266766646,903.336205832903,2665.3965451965546,6423.564261449666,925.9623508990821,926.5695842422427,7894.041311791223,1587.5854361825513,9325.827635999369,8235.900064530468,9833.865194792112,8702.570564136637,2650.3903032580524,9200.582534186356,5543.418709383852,3961.211868114054,4203.780280318218,2128.617229749443,3502.604286658638,1596.3993051750303],\"y\":[8774.020811332148,7228.838611260914,6958.997583093058,1200.857662528585,3836.5056335599347,3250.757884662706,3482.0247713801755,8986.036451855269,8876.495578854125,1313.937010877826,4618.124918402994,8164.891641974245,9873.177034972741,4300.000640424881,9979.477787203617,4785.76312589418,958.5285241362961,7104.224407210704,2100.830125643414,549.6365348684584,6797.439746427285,9029.961781700766,1963.4075760515602,3410.6575551593555,7331.236482823575,4658.004209311779,211.8526713600155,89.8402297217682,1184.9659813970582,3634.291173094842]}]},{\"name\":\"series 11 (F11)\",\"data\":[{\"name\":\"series 11 (F11)\",\"type\":\"scatter\",\"mode\":\"markers\",\"x\":[5779.580185882764,2024.4909499667274,5259.496820960266,2993.2230055198715,1889.8993667942832,7730.950554658859,5812.695488042644,7870.1488870292515,9214.698168928811,75.83070325972719,679.6460515143054,7755.439483648139,7349.44601197616,6531.001933776796,3190.0708807867195,5803.872478545397,8702.71733404124,4130.166735417076,5811.833435743936,8136.894860761536,3400.3964920580997,8549.931547853352,5582.584700623479,8561.651128244943,9869.175390148666,8505.867900992444,3987.338223626623,1679.492866747554,3390.9087344816226,2484.131488300245],\"y\":[1097.9470260203905,3968.0166533511565,4108.845186296985,4721.785842754982,7511.166377380365,8094.5037706360035,6718.704721424201,1304.0560964961123,7905.189199045627,454.96276522899007,6392.027675184307,5264.3161160603695,6880.238487035272,5731.8047407023405,9356.172252484112,1652.6906048649957,1157.0131591313248,5124.509353373182,1994.7918667399101,9681.729722090442,2177.478836126854,6831.468568618719,9334.574087429137,9262.698260178387,9685.701129542173,8347.519672429902,2348.48069845502,3513.588374763941,9962.123957485655,190.5135702278904]}]},{\"name\":\"series 12 (F12)\",\"data\":[{\"name\":\"series 12 (F12)\",\"type\":\"scatter\",\"mode\":\"markers\",\"x\":[3632.6765598092948,7150.056739312428,2042.8970116046107,9781.585200604459,2703.79061055525,3063.0537341300046,1476.556241352115,2377.6272147448,5415.107852335667,5841.995300991211,3953.572667144235,3190.7917829676367,6804.737568740684,1519.9071347965921,489.97922215774815,1128.6763694667911,3065.7628677028647,7397.046538485844,1754.4915617737634,9950.176091066156,6267.826486797554,4442.086987467431,1599.2473332647094,7055.814253105659,4961.561831019175,7475.026188456981,8887.480490787553,3617.6883220297664,4861.730160790744,5103.561499726759],\"y\":[2307.1605720229372,2303.001529676656,6431.8797810393435,2214.7492729750297,5017.825213066326,456.4723292488704,382.7950396701296,2716.3453097557713,4698.536789931144,7280.748432308022,7848.956545055641,9177.301915864407,9848.099895184201,3290.2744139494066,9321.685233912189,9034.475369440042,5034.376744126606,9112.894380330652,5294.601001880871,4112.6736086331985,6197.743285395258,8574.796216569812,2016.4738168854412,1347.756086162175,2084.4300801358804,7928.235778807598,7748.50138844737,7807.569341640358,9418.695021464615,9067.801372644892]}]},{\"name\":\"series 13 (F13)\",\"data\":[{\"name\":\"series 13 (F13)\",\"type\":\"scatter\",\"mode\":\"markers\",\"x\":[8487.501090705598,2373.088836221502,7518.479691791365,9629.814962090122,7243.45552896146,9772.207940383758,2717.403576410944,6980.788615386579,7649.304624438074,51.1957846692912,4176.651808681973,6274.683131228382,932.8311775154574,8023.925948055419,453.5187245847494,4995.048216729598,5094.938426733719,2756.552602960666,539.0687355021995,7696.948682201534,6515.571619695422,6725.391829625283,3985.5821928177083,5024.906625922376,7147.991648690887,7928.340838775507,2215.1549464291097,506.92489238241876,4964.05605353449,5935.249615082471],\"y\":[7134.026026306133,7110.978209088012,1377.6214223148909,4630.234007868957,3772.907274909647,3099.1887347306656,7000.131161948675,229.00055689146546,831.7947926554548,3326.234685782654,6271.908665746002,3046.828832856001,6728.4451918999985,7802.36217942615,2264.62257744111,5447.9373744380155,9032.90048319653,4077.7037899013444,5264.8539193186825,6424.535177250152,2016.1512423871663,3803.4318502559727,2625.639447461966,5333.941970202176,449.22720357614355,6686.609166568991,2812.3212240593066,3464.7349820735794,7759.714578496444,6979.414744682407]}]},{\"name\":\"series 14 (F14)\",\"data\":[{\"name\":\"series 14 (F14)\",\"type\":\"scatter\",\"mode\":\"markers\",\"x\":[3570.9884753080323,2307.9602218578134,3185.892054040921,8629.768024255498,2712.2464361328202,1677.025616003882,5664.391011776213,5269.186555457246,130.00356689762958,9149.966299657895,1845.4811540621674,325.0529658173096,1364.4197024791426,4700.358467915493,1850.7903622953781,718.2842515176891,6270.109618973205,838.2281016481629,9171.467882273102,4843.736231337898,1165.1558834465325,9099.884989031223,450.5054957203391,1829.4928250124865,9213.427547642767,8305.687820690406,6801.130572732463,4432.524937137844,1732.1654043775513,8647.32391926843],\"y\":[783.8946455706874,2352.032258036033,2618.7387202834734,8371.26826726247,2198.276663980159,6228.101446007701,9154.937906344532,6592.660638396539,1440.328655105707,5142.1552864713685,5074.116262247572,6603.919483556861,1336.0919575092346,2046.981252830411,5965.9500604031,8934.992898131099,7081.217343744054,2227.9682147236867,2845.538048632722,2377.216198339258,9200.422801683715,9633.5006580013,7028.012821287085,4200.334844356575,6286.127601044194,4711.2888605181915,8326.794738515573,7872.319838524957,2683.805759907251,5248.7474323762835]}]},{\"name\":\"series 15 (F15)\",\"data\":[{\"name\":\"series 15 (F15)\",\"type\":\"scatter\",\"mode\":\"markers\",\"x\":[9033.06657918693,7734.189338772085,1262.3018252125373,8639.352169910351,8136.002819033248,5287.118403649348,2940.55682590307,9983.245032522802,3807.7416462033243,1016.707418192273,2737.8957911719226,5479.176911130147,7304.037879356754,9009.352629278248,6773.231839183751,4676.2060286956685,8120.9920145774995,9008.237673734324,5859.241808442611,8327.40748918124,8500.198454469995,2011.5483765509168,9120.774410402215,824.1628456207861,5189.117066575141,1033.089380012332,5412.455285292962,7488.440341008946,7740.414243188082,8225.558383989346],\"y\":[1218.6559316109324,7361.794384235344,5573.484761060754,3209.31178404099,1189.6924220570615,1553.6491766753645,523.310157915744,5154.534883388579,1501.3309101606742,5697.753569729389,7666.265686727222,2932.3088391156302,6820.374691384931,2614.522326151618,4839.4409791549715,3480.1391216480984,8817.309295539368,7888.315511624496,459.4933696625769,8420.098424387343,7887.692224165102,6742.522210334657,9999.004421478221,2922.8031063771123,27.167175237244876,5331.654673995673,3792.7623858870543,8828.030194499583,7650.69691600781,3368.4823565669385]}]},{\"name\":\"series 16 (F16)\",\"data\":[{\"name\":\"series 16 (F16)\",\"type\":\"scatter\",\"mode\":\"markers\",\"x\":[2723.351928830483,6112.855801115706,6554.801606758176,7865.562322416177,3774.8764627928153,2940.7726646268993,1192.2993846853624,9694.352498807068,4445.602845208152,4730.3266293130755,6962.247311078875,5651.4227040151745,3574.7586416600584,6949.385537927364,1313.4817110049923,8770.104575026513,6265.678819886423,4671.236948282872,5118.364347437133,8727.252894234396,2276.9376968386337,4321.284527988075,1994.038677900486,2368.6126206720724,505.0698301901946,9498.194214922054,6031.709949896621,1612.6246921679456,6996.921766181823,3270.9178870249366],\"y\":[7740.159216700437,2291.3187002169643,306.64368909121276,3933.100920023559,3917.9090844932416,2848.2790860068317,5951.771674687855,9838.959582736132,9639.16189294653,6237.497205087941,1224.8116872251435,1649.7881700918338,9571.831915521572,1853.2435493395526,2681.187811662231,7087.838558087903,1441.696066213881,6869.931671648084,1251.3646953028867,4124.390985380502,6614.896390550861,7982.268575788963,4114.421627746157,3421.4116246352564,1491.7208426733198,5209.8127967381715,8222.288427702118,9801.273926462523,8687.80301514206,9166.394085265783]}]},{\"name\":\"series 17 (F17)\",\"data\":[{\"name\":\"series 17 (F17)\",\"type\":\"scatter\",\"mode\":\"markers\",\"x\":[7678.325835641523,5536.595176825276,8824.575317492785,1993.6747101827134,6050.874502893363,5332.321361337321,2159.0184622334073,19.457117429984017,5141.852518232625,4014.767524716595,4253.452300323497,3125.1788523158098,3732.4372680852557,3147.404487158072,1419.316353764718,1793.3545003784457,3392.316580696314,2060.753381778224,9764.587307334597,7854.5596102064665,3565.9498199936747,2113.837257915291,6332.693126106667,9064.874815876574,4838.7327817252935,397.2049129044897,2041.476130628952,818.5426252604877,7537.910902752929,542.6350457934415],\"y\":[3913.966795324535,536.9076122051853,2637.5410237414267,3822.190506780252,8438.433439056094,1573.5504474191887,3313.7558913562493,3299.3866229147607,8803.371839976906,3836.8458995739084,8436.031937019885,7437.802921018337,6223.804901691131,7755.0054800565795,3782.125404288931,7277.55276964641,9608.466436634912,6694.995318096228,2828.7839358281262,3057.6020620226795,8413.143723373658,495.54571035914876,6597.300804933656,1992.0050019115542,683.6584857941397,9385.79789214458,1222.4281773430578,8800.703079423633,2012.6674363367824,3234.9620517027756]}]},{\"name\":\"series 18 (F18)\",\"data\":[{\"name\":\"series 18 (F18)\",\"type\":\"scatter\",\"mode\":\"markers\",\"x\":[2665.123190149399,4550.615563012123,1417.6691220563964,5814.687262853503,304.0480565962367,7380.320790208006,6993.3044217099905,7554.673910398014,5017.704306039556,761.7117998748136,7599.241710875376,3133.386367327299,2808.5304877743256,1094.5864023024953,6815.6435462343425,2169.551728812459,2022.2463618397524,6635.207037803574,1931.4098848428152,2266.4593154195977,780.1813420716963,4027.4471802040657,3826.1006348046844,3709.9017016311286,1369.2782133654691,7035.220701121098,3264.6398488723494,4231.930742321249,23.91223413861443,4467.46003052692],\"y\":[5344.611960427716,426.4232799087231,3785.624663432553,742.0007623580404,6619.154919322226,9638.786101457501,941.3187014199009,3052.29449293702,8764.16973880928,2450.953989122441,7917.41925641717,3680.9601497854082,8566.75804795472,1244.162674157988,3446.956297875254,4646.756784896048,6482.5103307003665,4745.811207303732,328.47366358375155,4576.639823419783,5042.465138650766,1953.0467722572464,6160.131591638085,4462.144350715475,3986.2682765700497,1374.5469940795895,7059.315004923022,9789.410074791052,1156.2576807145474,3143.287431629943]}]},{\"name\":\"series 19 (F19)\",\"data\":[{\"name\":\"series 19 (F19)\",\"type\":\"scatter\",\"mode\":\"markers\",\"x\":[2567.51525865629,1424.7488963361532,6907.908580368397,2226.924648126294,5692.206960843421,6592.7262623751585,5075.272647587096,698.7408062198098,9351.89567748216,4301.315348677316,5375.750441453344,5830.933456395239,9367.461623615505,6648.746440162243,546.7381102978519,8633.356827165186,4582.381334841887,8589.272262278831,6477.39343583429,4384.649940084715,6696.360847639048,3940.125973675587,5131.968416653954,2689.0191328304936,5961.3663493325985,4679.545209899896,8156.860165370266,9640.761390165022,4015.994271949831,3915.8026358819943],\"y\":[3721.73222837354,8789.955273270401,1823.5709246502151,299.76488000191705,365.7665995928505,776.563499203694,8931.330613367518,3108.5824344316725,9403.303765389983,3736.5249911863298,82.4697730973778,2745.684472516833,1788.834501320692,7882.242890409174,6589.830968323482,982.3400351972533,6249.512859213314,8021.199634094326,2819.420544292166,8908.61610417183,2964.0551490790867,7200.2595543893985,2633.920349240957,8266.646194218389,1100.1030469886641,3149.55011101297,6710.804927297807,3606.701932358817,9117.820908159832,6748.638876956544]}]},{\"name\":\"series 20 (F20)\",\"data\":[{\"name\":\"series 20 (F20)\",\"type\":\"scatter\",\"mode\":\"markers\",\"x\":[9276.627162081892,8536.633604329978,3905.7126375857397,8349.048476269067,1988.495131646365,9227.829187278967,8535.33378882897,3460.988790015016,3445.7045412528573,2295.9154312255914,8704.78999301591,4048.501671316882,5128.958191959181,2192.0045978332614,4786.605531860926,5476.052697439428,8441.544813106331,5320.367870728364,9803.756093865773,2010.9264559764063,2966.3098330615844,4240.9973264835535,3628.3602225517784,5709.6102062067675,3054.201972805175,5520.589139375759,230.7261535844307,4502.681005248343,8424.631755904953,9063.068208235067],\"y\":[7902.154643942418,5341.539816462377,4584.8318811647105,5080.847496689173,2033.1043188887966,7381.660638489398,564.863261629781,7260.590609168735,6249.0237196198495,8350.855079243289,4716.863352606679,7132.332424868338,489.36165650226735,4487.377403936488,4141.58248969315,5168.3821152846185,3960.969758600272,731.5266619050432,9682.215875809752,8718.518062508596,6805.312432066549,3215.728377660246,6364.98423858653,5530.555868857685,6789.60411926089,521.9036926206333,8667.870060139347,4310.455178749375,6365.198508912921,3661.271878395809]}]},{\"name\":\"series 21 (F21)\",\"data\":[{\"name\":\"series 21 (F21)\",\"type\":\"scatter\",\"mode\":\"markers\",\"x\":[1063.3749349795462,543.7044300736782,1032.252926772531,7280.544961352579,6908.110200225862,6629.801455004212,2107.8981391314564,6209.818617999607,2941.489410135647,274.22982402375175,5715.845072248975,2141.2750623003194,2407.746020349597,4037.403305942584,5098.566366921266,4964.154828311815,7129.946696674031,1957.6316822501149,5198.886155943858,2080.275831706494,7741.630681321479,6245.242359635174,6866.025179305421,6885.705799783453,1721.1558375173074,8187.564233194938,3011.8401044839106,4528.02719744882,875.7824840468886,2609.560052050254],\"y\":[576.211145734279,9034.95590407233,3486.9845242566475,4502.479340656979,256.22309304488834,958.908315841791,1455.4274269675072,9762.968165900578,611.9969680273251,8793.435249600398,9473.503419419088,9377.66239580047,4382.729043767357,591.2727395458805,1505.2738513645925,7843.364207952319,2629.696097787559,4450.086136550205,9668.116074142306,2130.4771442336355,6668.692746928987,7830.810205641978,1987.3276145392992,7077.4601253476685,8662.56468207018,6034.822067996275,8434.39198960728,6746.631096578772,9215.208907595059,9590.005136984291]}]},{\"name\":\"series 22 (F22)\",\"data\":[{\"name\":\"series 22 (F22)\",\"type\":\"scatter\",\"mode\":\"markers\",\"x\":[9161.567891044366,8976.736624035935,4341.6143902821495,8782.092409143288,4909.910275042591,2135.273953266749,4784.2160699902715,1116.5097358016485,7194.789881314417,8903.638667916302,7804.045540216978,4107.26239662883,5062.429588005611,1820.7413625301372,5295.8572403084045,1463.2373668178577,5962.927747840837,9265.821218037436,2359.6160878581095,5478.625538670319,599.6942684459183,8578.757112880085,7306.435026393879,2232.992842262411,5492.174414545527,5096.260119904849,7485.256420395859,9067.856394380322,2428.1934698433115,2024.904812442403],\"y\":[5287.266334983393,5730.453874209824,984.2052165059579,6277.038762863133,5218.245442585492,1561.7193574195687,8856.179697152846,9663.18401908318,6024.754519447491,1154.3092052538295,4870.822110191672,3164.6259411446163,1518.2573743507578,17.844487049926137,1236.2646724363701,4402.460756112276,9961.99109677183,9962.374761006295,4843.3281880794475,4874.452485813496,4668.592887115293,1147.3834040534114,2242.9024396858754,4048.626110896285,7802.195315468989,4042.4932609212506,9301.947643185335,1982.6051519350697,5286.909137666862,9907.356369085323]}]},{\"name\":\"series 23 (F23)\",\"data\":[{\"name\":\"series 23 (F23)\",\"type\":\"scatter\",\"mode\":\"markers\",\"x\":[4480.072786840722,780.2763529422696,3194.310175165743,2822.0330429984842,4170.600107816969,7902.4452556932865,5015.757186136196,9785.507062700462,9614.47616310278,1115.7243199760758,4821.061614934711,7948.798169883779,7522.3459276946205,5693.96823610628,3463.2429215173443,9660.471341743121,729.5560752779772,9379.158861337803,3709.798055504981,6676.162517182237,960.8115192618338,9563.712157603733,5464.122290991288,4620.078055961726,3095.6563414521734,173.75888346862544,4086.4194711122173,7585.239687984342,9202.909359677373,2813.0342338421656],\"y\":[3231.6425606371636,620.5919993349318,1051.631793433082,7869.581543526338,8592.710270396428,4776.900634857329,1808.164365012488,6492.561526376842,470.4452466702458,5369.710895988177,1193.2179436209944,3614.0303163399212,1187.3882168459415,9166.454782109235,3499.958747453659,5520.630949758703,8020.838794006536,316.1307420183901,4563.480070385181,2872.720767107022,3551.1813585157693,8013.801835712423,2024.008969679978,1523.5328578078422,3104.7573118453697,1128.490136507191,3040.645523975195,9008.553107805883,3316.2452720247416,6321.87223436233]}]},{\"name\":\"series 24 (F24)\",\"data\":[{\"name\":\"series 24 (F24)\",\"type\":\"scatter\",\"mode\":\"markers\",\"x\":[4989.386216663058,4155.366264580357,6743.716348796312,6546.507997546081,7618.6402285845825,906.8058679527091,4940.235049251164,6236.164695656924,9637.393481517985,5155.323327541388,6419.077323375981,7987.12477501331,8775.635343264605,5154.062216367679,6545.341724028164,3078.1953090997495,1983.611058182263,1900.211966025035,3544.9344981275176,4788.462971536227,1625.9196183816416,5778.782296005021,8542.607343741101,9145.670727731369,4278.425102173153,9710.029548628176,7823.937081763781,2474.4155187568963,1050.410339355835,7061.332437958161],\"y\":[2361.8315868778263,8912.197004365647,2231.3474014158896,4664.402259565946,3056.3575908721996,3922.67774582897,4501.113998532085,7421.286330328911,107.38092768450502,1759.3366987414993,5944.444818189275,1187.7003209210845,1472.7203221810692,5819.034392990013,2674.8484693338746,4889.808337519401,8460.213770518469,873.8282602581304,1000.1848305475825,1160.6422652045812,6160.301290442595,5280.712713271531,751.5425174168133,7174.932630025446,2646.433821649492,9442.777853912808,8649.014516678217,3816.202234955959,3653.813706449932,4031.61736202181]}]},{\"name\":\"series 25 (F25)\",\"data\":[{\"name\":\"series 25 (F25)\",\"type\":\"scatter\",\"mode\":\"markers\",\"x\":[5392.421219222705,1827.5497359003657,8792.685195606731,7779.638155649838,6541.982018257224,8177.629853016093,1260.588785621596,12.255658612219111,5193.392750122021,4515.91454649696,5488.699214142799,7513.785253315226,3953.7158146053653,2296.39835383448,6190.5693144317265,8807.169292531144,4788.946826179105,5916.486866116029,7877.308406568929,1476.5069128270513,7941.07166327072,6047.890742961256,6061.420773230617,9772.682622858107,5301.879889198967,228.91712255882047,92.2380420617408,416.2149103779289,9382.761719276645,6742.638706510394],\"y\":[2849.0815405533076,4247.780737595792,6334.155754468064,822.9901908569459,4363.989585108494,175.69163554151834,345.27844537588504,9310.925155331483,4854.056902954844,5730.930774613844,7194.218226458241,1025.3409157526294,7614.125138092603,5464.188657988513,6720.421939591001,5318.5634120429795,3753.7748936971216,4405.657659025357,7556.066413563005,553.7507834299382,8858.270614947596,8857.183066841466,2579.750519445074,7571.666980402366,6311.311590052347,897.6860451163992,245.40410623465903,606.8411907150262,3238.145294270971,6156.609796914544]}]},{\"name\":\"series 26 (F26)\",\"data\":[{\"name\":\"series 26 (F26)\",\"type\":\"scatter\",\"mode\":\"markers\",\"x\":[5191.258495297076,9568.218509323568,2810.8047121119184,6646.464609538501,1348.1774513643775,3116.974773902783,1002.9328881229216,1744.3777625243429,2143.6014937265213,1554.2561378480048,6789.860247139297,773.879939030272,5336.812808814392,2174.1765946434343,2260.3055746974896,61.98808762364227,4523.175573061771,7442.484119746071,3139.271463896338,5832.978171034843,5409.467905357263,8128.889401761315,817.4138214111259,1849.0594962294083,2589.366841212093,9351.123604375467,4140.359138800969,7319.501257950268,1737.6067563211072,7381.372903794188],\"y\":[2932.1560542994416,6273.580418495646,2893.281468682364,9020.815464362155,5510.2455783173355,4329.055491838933,2817.2137798757303,3365.5625377240694,9295.036306401344,2586.6953350939893,8285.27094428536,7867.386799899412,7025.377592429825,1242.720277920214,7618.956903706288,6735.19744517048,1061.92710477099,7434.841115456531,4756.562689947941,9928.295319910769,4793.606309736307,2823.9135270737124,8732.614716480402,5260.032768988062,3258.048783534806,6462.043480246988,1560.3093175041438,4460.560920192306,4745.142490784867,7609.323369310854]}]},{\"name\":\"series 27 (F27)\",\"data\":[{\"name\":\"series 27 (F27)\",\"type\":\"scatter\",\"mode\":\"markers\",\"x\":[9201.076793303078,6439.94650308014,1373.475255570835,1335.1873319579465,3557.3710397140467,7448.000968460058,9412.692771497792,6976.720695797034,8239.234110210518,8344.754443748227,9470.481528046972,5825.073691703489,7232.139824535649,3775.5791379586867,2571.0955678128953,9772.462901934334,3533.067857333324,6687.54623210386,623.0445590172707,7076.0745274133515,4323.722263580213,4328.680797784263,8806.766320216857,4881.503413592823,314.25170313499785,8639.353577171207,3008.810877667757,697.1997761198401,9517.789371249295,4775.128452361799],\"y\":[7587.2632842142775,6622.717741529473,9905.579023105909,6392.964766793891,7473.8395106728785,807.3867279565505,1144.409018885204,5287.747034480752,3901.288388284517,352.361167623364,2932.52813366189,5983.69648146865,4890.439672224282,8667.826000054345,6327.171828136319,2965.296195113605,39.43771813127328,8158.46649828621,4896.277417156648,9374.937241736758,4128.409003478268,6034.137173680038,4528.924067200643,1209.5767867175366,5586.006984562835,7028.998106263973,4303.482857216494,316.27149259900176,3959.988466222324,1861.203926960694]}]},{\"name\":\"series 28 (F28)\",\"data\":[{\"name\":\"series 28 (F28)\",\"type\":\"scatter\",\"mode\":\"markers\",\"x\":[5939.4182996432155,2816.5290557733347,5192.173164824711,4376.573601915033,6048.1318819633625,6982.0032004393315,4718.845711477372,3493.483748195756,3650.1973411075073,6039.129666755742,6200.858345274817,8302.564363291685,5240.783575643023,6897.882526999149,8033.399079028407,5973.603328698619,1062.0202619596819,5379.905892853256,693.5916653106755,2483.388873813629,9180.509975788313,2163.857510625372,5454.795166187272,5602.053900605985,8470.145916680025,1370.874766183845,9029.680084304628,8061.811214447314,7664.849186986556,5480.655436921354],\"y\":[9299.851749251202,6380.795159905019,5272.785643766863,6098.721723028466,4448.002902881014,7426.056796534673,4333.0856989332315,9988.012178239298,1529.2790704666836,473.5855418895352,6748.035476066659,3733.031826741091,801.737854564869,7259.558054714104,4238.164691033368,8422.357387892891,8981.493285619052,6315.846669731354,6844.605838289124,7815.384304061024,7996.337349920617,744.1418135482436,5342.561150156556,9601.771816872048,5782.330540203156,506.8775827096972,931.653930720412,9567.124446061682,2201.062316681266,1299.4726119232857]}]},{\"name\":\"series 29 (F29)\",\"data\":[{\"name\":\"series 29 (F29)\",\"type\":\"scatter\",\"mode\":\"markers\",\"x\":[4133.407678080595,2746.027246641677,6250.979716126507,2117.2296195227923,4953.037595457092,3973.624578037109,404.3896102833777,2741.5628792705324,8052.200250607774,2639.5210589754624,4122.44149733636,544.0545084865256,9931.299216935251,2902.8462869152418,1383.601555895394,3243.1629810762406,9934.389902708124,1144.9200342258614,6406.829337630514,547.2404888520177,3266.6946532813236,7016.017771167569,7658.876055046208,2978.8432943291286,2154.1752058310726,3075.3244304058403,2705.8231827929867,599.1434271115181,776.5779109273441,728.2378312519511],\"y\":[5502.183061226743,7837.582149935506,669.8085036288626,6932.763730733913,3306.5895186575553,3180.733340459947,5920.454845383697,6976.818353901492,2571.3048889959223,4085.6705361526515,1664.7245882512464,3520.8399548953694,1873.4789697693554,8156.961875671155,5156.017867210788,1055.1791179761838,5239.290705817985,1362.7459844601176,5979.810818425119,7939.327164956453,1057.8156907997982,2864.165865644012,871.4765007045888,5270.1068496960615,189.65753026191524,3893.77048072729,9032.124306740548,2968.5428376669443,1846.0892538443286,5042.321080045082]}]},{\"name\":\"series 30 (F30)\",\"data\":[{\"name\":\"series 30 (F30)\",\"type\":\"scatter\",\"mode\":\"markers\",\"x\":[5839.491527506564,8680.191237385472,7347.6521836092525,2299.7622153936736,6415.373165700108,4351.301596733069,9966.863199252512,7244.956002390778,5638.030766402603,8673.249461018162,3717.8837617862428,890.0940038634808,7877.472729865187,980.2643690929747,5176.710282567686,3859.5392284550935,7983.453699980795,3640.5529152683034,198.6411491723994,7819.173331731577,4870.489496825257,5498.495321421842,1745.4905968824453,4371.153671107087,421.1429249068777,8505.669245979032,5943.20864297432,7990.313652292746,9368.285119934077,3321.0407584859645],\"y\":[961.2825286813942,9002.268409749404,318.98986000462594,7365.728833899494,7338.489217827824,1089.6109223758256,4147.174015102658,585.3389868116054,8975.277138541967,5361.422785072307,3609.049485150324,2.9323473748499307,1171.252001090125,9632.637164623033,7224.903710843364,4038.277187933088,5806.955088978905,7233.633502788693,1222.6787722318077,1524.1097644389145,4052.3126689212672,4406.763626645763,5653.276644755539,8367.705273261437,3829.8505268212825,9145.33763343105,4664.4654600483345,6886.142792128129,2668.96117294814,7191.928528926797]}]},{\"name\":\"series 31 (F31)\",\"data\":[{\"name\":\"series 31 (F31)\",\"type\":\"scatter\",\"mode\":\"markers\",\"x\":[6359.718139804488,8986.221498239309,6558.2205208670275,2836.6844325441975,4670.26667727917,4565.066075355528,1935.950350487693,3142.6560859415463,4233.110381171321,775.0395843061053,1054.9294540928522,4273.989091872165,9394.66473594941,6126.654131274395,615.3546872220683,7714.146039199211,149.19913868221667,5795.752647879666,9780.861979275509,2335.1591852046936,1073.154011585461,956.3136483012369,6475.615094982237,5515.241504263561,4130.890447891423,5477.804206419065,206.17699204033667,2800.907292010756,2604.373459551891,7906.088905291604],\"y\":[5560.080240131574,971.0895275768472,1338.745112413635,5289.480443187822,3003.714516559507,3784.5621271464815,7997.69428791952,8116.592275940372,2635.356932444688,3178.306700000686,1086.987868051038,2400.234820345919,2144.868032421694,1233.292479328757,3131.4760697577603,5771.6759930561275,2389.783760757411,9835.462211240692,1580.3406359325888,9342.158551437671,2718.23659658721,5633.551741807737,5767.306552148115,6043.65527513608,3452.3384736265393,7631.689574481602,5566.99394849599,9178.408991479326,4791.366681247114,3553.5614357488475]}]},{\"name\":\"series 32 (F32)\",\"data\":[{\"name\":\"series 32 (F32)\",\"type\":\"scatter\",\"mode\":\"markers\",\"x\":[6265.532707864827,1986.8950410834295,9802.292173688118,8976.243354207369,4603.027838175086,186.408934172817,4135.896665889999,155.6424783329935,2947.3998516414813,4637.573966278144,6639.924027702517,7451.8078797020535,2123.5969431753874,563.6280548856387,3136.4191943072337,1311.2058160572283,8549.109570719205,3077.4375843023927,288.607251295111,6874.375394793067,8016.1891085437055,6163.760159475556,7703.3697899861545,6451.219892423879,6713.1088957527445,3719.3532189561174,4198.579846863395,1342.5029360125684,9891.27335450166,6771.109936291708],\"y\":[8510.257462162645,5784.961280588163,9961.923026391958,572.4785253698217,5622.713014327727,6158.761738954093,8745.645372661982,8920.996985472128,7375.548601709049,8019.866173669707,3099.8448571788995,744.8585855184009,34.58810549329505,2006.1927118311617,9213.78932782381,5773.996708827933,2109.5155032862667,7215.291372977997,8487.793841595418,1941.2599841818424,2859.1960102760086,7262.5776781955965,7102.562114309106,7051.823226730997,5646.3655068017815,9903.00000816558,2136.655875279544,1214.058524290156,586.5720062282653,5835.341194421008]}]},{\"name\":\"series 33 (F33)\",\"data\":[{\"name\":\"series 33 (F33)\",\"type\":\"scatter\",\"mode\":\"markers\",\"x\":[9404.51623683322,4542.672638696631,7781.958294806356,6107.182939239001,2064.416661739785,6724.98938022738,5838.676308832815,399.8945065543291,4485.17320181877,1183.836338932276,337.42860546984167,396.82816871488,2862.4024022539506,6775.57642253784,3459.8349186225764,3424.235781588604,2639.5581502220266,4229.396221538608,9069.023760414004,1603.253162658852,2915.939155694568,2864.048096999201,7201.053014251404,862.6152720334712,9713.312162635137,5510.816180499829,8144.469169223447,2335.608758110247,3224.743443368784,6026.55711304611],\"y\":[9068.511240742733,5901.082156539773,8983.690360030185,4298.242856736642,5506.176201801587,1927.170971240557,9268.356264178698,8220.513634188968,5906.561090848785,2637.723131065021,8995.760517274863,770.3240023883895,9941.601492573394,8945.229607266001,9861.935702893214,3007.844829569082,285.52876017180597,2080.406438598117,7549.114261593466,600.3627045100801,3181.0733343005527,1897.38976294479,9447.715304948371,2295.9944281024314,5264.640917265198,5344.842529517162,4530.4049025507575,3666.6151677985436,2843.3959391443254,9267.095793231685]}]},{\"name\":\"series 34 (F34)\",\"data\":[{\"name\":\"series 34 (F34)\",\"type\":\"scatter\",\"mode\":\"markers\",\"x\":[2767.446604316893,8394.473420719787,5100.385718173723,1435.7749660929176,8787.020165936288,2394.5479888534405,4549.544766050147,2511.192119286888,3361.1336484161616,3144.776073696054,6470.6204949738885,9494.113135740805,6737.208870015722,7738.864633244117,4024.764660664726,8152.33216304541,9837.376490985049,8381.470684943,7284.738777221427,7892.821802144315,2911.966016730653,3313.115930300967,2509.38423037709,7599.048518945263,6360.630081288498,4482.281704949909,2650.210236535372,5064.375110044987,5123.996900935386,674.7048184429216],\"y\":[1298.6584242117694,5826.297212642512,6300.69768124867,6264.972877763684,65.80375453403065,9442.592978548277,9459.066423885706,1273.1011245351986,3731.952516648147,2549.2872946664256,489.76695249505985,7988.8434788387785,8411.809514032337,8401.66816929272,2785.050116248784,3069.074747443791,5451.578049483854,2023.4100344530525,4032.3022569969735,1718.6537871536445,7807.5690471171965,8575.199803663334,2973.9959625756605,2332.762954775027,6251.595197414919,103.07784512336494,8113.106603182986,5808.787174558235,9906.627277365156,2438.04243496054]}]},{\"name\":\"series 35 (F35)\",\"data\":[{\"name\":\"series 35 (F35)\",\"type\":\"scatter\",\"mode\":\"markers\",\"x\":[9532.51479910418,3628.383366716319,9336.895315200247,9692.288918077858,5748.864471530788,2765.4653222783345,699.8213757776716,8533.78697124617,9835.803533956416,3493.4040891355144,6312.870606996693,8219.72553710536,2928.4790260378422,8244.828492395387,396.61324063513524,5230.682182248843,8660.62410249906,5819.984730523324,8725.990561691,3271.2036156998524,9087.51531808529,5444.690286176043,7454.984816687489,388.8122664863736,1212.5400972508626,9446.501180546564,9475.592020309065,5012.28045870761,3362.0624675648924,1647.7838089590969],\"y\":[6330.2029893767685,1821.3413726559002,2342.731675425582,966.9646810470156,9917.198719532675,6533.838962550693,5567.328290426586,6174.308449956593,1012.7709598294388,5932.638390781013,7149.698059569333,8266.149929898815,977.6812752235243,5753.456670759402,3346.276302778408,1501.5912909503727,8925.874996982222,4416.093130683962,661.1577290621507,2788.2426740533406,9102.570246235002,5005.372609147547,9433.620135318271,1808.6748109324246,2252.6426530154185,1394.4384698709744,6791.464782156795,1046.8208616322738,355.83540307991046,6951.866501344985]}]},{\"name\":\"series 36 (F36)\",\"data\":[{\"name\":\"series 36 (F36)\",\"type\":\"scatter\",\"mode\":\"markers\",\"x\":[5480.487001862903,5703.6452731993295,6263.520369881944,5885.38966290453,9269.847468505284,8383.981970066183,8492.443320193985,7948.862022422609,1385.0617539805464,2391.510407211125,6714.089319820903,6975.412637635815,9734.786552282301,486.42737638960875,5324.005596799502,2498.5647425165303,1574.5259222075547,3040.44382646294,883.6245019174971,1584.4362701673153,689.8424115824298,666.317057242315,4197.830197637871,4921.949025889813,2183.6024562915914,1604.2048691855082,9324.716459138725,7204.318005227154,3516.2463735319493,3414.708539425683],\"y\":[9909.688889127758,6883.9072940533615,5575.019894389346,1858.5478013500344,7894.262649563413,4493.877590307732,4237.564669251531,7235.390035802645,870.6134857350512,1903.871224518513,1147.2073442137264,9909.43316661287,2136.145526556091,7113.31119597671,2231.75386087183,2266.9222089308105,1848.0321684776823,484.721050517779,3874.534378587442,3930.8529129954595,8585.90577721354,8680.796294870328,9585.912324942194,700.7006578855235,8101.558217822571,1992.7906706211295,4525.4064088340965,5390.082900498904,67.72740130446931,9234.10322256159]}]},{\"name\":\"series 37 (F37)\",\"data\":[{\"name\":\"series 37 (F37)\",\"type\":\"scatter\",\"mode\":\"markers\",\"x\":[1289.047762021599,502.85096295930254,4233.747861821567,1921.7871922758557,8003.529265934668,8518.174195931166,4554.041664420909,6080.023271272696,8958.168371530055,5447.769501281497,3576.1326527036754,5673.431649621936,8757.655713548873,7283.495939582402,9658.068917241695,6414.426184886162,3293.0111796444826,6971.121793538796,6430.844488380763,2487.6369119077326,4705.12590919574,1626.1429036600039,7329.605538144057,1595.7617491014419,2954.722237368872,5850.112563415924,7988.144578042727,5655.033471665647,3614.5129730709778,7211.020303601385],\"y\":[5824.37089324441,5454.813800337293,63.79822775500421,4218.836960257144,9240.16664518964,7644.6581603971,8392.689331579968,5457.416225461287,8517.226115958458,1523.5235078950836,5012.603230828075,926.5292872362785,6711.18931806141,1279.613873223252,221.62313241877118,3102.877583252921,1629.5783335630488,6565.692711674901,5787.774432024428,5746.517865972036,9324.749863457579,593.5175109191848,990.2195787181689,3059.1991498758375,5441.281472297635,292.3772409196623,9497.826424876432,443.7020073472997,3227.9096690536257,7500.545785409921]}]},{\"name\":\"series 38 (F38)\",\"data\":[{\"name\":\"series 38 (F38)\",\"type\":\"scatter\",\"mode\":\"markers\",\"x\":[8966.51849073986,818.339712864703,6057.345256830991,3644.788372353923,6301.26960738522,7208.361284091073,7892.987280990945,2911.8918503150257,4155.559142843717,3166.078251353127,7299.769272578125,527.5091494428885,8430.552099298919,7464.1095731088935,9317.06828425971,3431.4465004395124,2288.2300172087753,8461.22053470225,4794.809012827257,374.8417094815959,9507.141946335809,6557.808905997787,8639.607311111191,7263.514443106206,8886.40893409135,238.17030578691777,6825.989363551488,1433.0970341055215,1843.0562818551755,2339.251497912227],\"y\":[6998.432880629034,5465.379906767913,7349.712019666879,8390.67850412721,9023.179674928198,7141.63887409004,1924.1560746604891,8138.427451908789,9944.467150946442,7177.533058370043,7509.160622023343,4694.579997992369,2458.0374532847304,495.4961697564375,6770.514400036342,3148.185838383708,7235.4752360464345,9964.369930280089,3593.0790484174113,1927.333292321628,7216.140559440474,3772.3538552067193,6369.172913896078,5720.104188039418,6329.155200056672,8898.17933991139,3050.5385673547103,8342.173203129703,6016.112786495509,3506.7377833152646]}]},{\"name\":\"series 39 (F39)\",\"data\":[{\"name\":\"series 39 (F39)\",\"type\":\"scatter\",\"mode\":\"markers\",\"x\":[9874.598117926047,7581.379685929746,395.8801772263887,519.2271931775894,177.6545136350327,1754.6924867820057,4946.0618834720635,3094.2028401356893,5772.151574062749,9480.551517084392,4171.407977327828,304.75277249229714,992.056037743233,9999.660105127397,887.637803585396,7908.340060156765,8699.88334650883,1269.870855011991,3469.8682090594134,4779.688667049089,8300.833475081485,7015.893679495466,7698.026443754226,313.412034583187,8123.965139304191,1932.1269750069714,6677.3395244782405,1901.915891358279,8407.283248952674,6316.993889051944],\"y\":[5720.19000688861,4455.431902534394,6563.072035129138,7559.7442699259145,9046.332008928124,5854.86905352528,3401.7561023544463,6105.75754695539,1691.66768894345,3214.4969309707717,7557.027589722272,7793.964089282477,3111.4827746366027,4880.30170363666,5481.927156883407,2790.0786744306715,8622.246853700068,2201.188769490774,6075.024987386169,3731.9185052285943,1046.7831352084322,3284.0253081284063,2247.7950094192734,2158.1527415804435,7710.821004967233,8179.854887581194,6558.733871062968,2809.4164082761154,7284.643109508964,1247.4345882057003]}]},{\"name\":\"series 40 (F40)\",\"data\":[{\"name\":\"series 40 (F40)\",\"type\":\"scatter\",\"mode\":\"markers\",\"x\":[4416.725906196888,9970.792575486308,6871.742558495692,1801.5809707841158,6295.609203237349,8667.246279611778,2217.1124517288,8577.632295659696,9903.85415374363,6228.674755205333,2940.9870958266392,7029.66960292666,4317.712143678087,6508.814180214516,299.565073710234,1028.9629604009576,713.1526456217274,9872.321194417504,7132.438219955259,2140.4353834060707,8521.355798502793,6956.926742551872,8377.163150600423,328.77307889756514,1584.4814607033775,3172.6364449633393,5814.607832384624,9682.129347984659,6202.889179338249,3917.532117129019],\"y\":[2554.411873731125,1540.2046701343809,1841.9353409581163,7569.805645544646,1178.1032611310593,5274.808131999403,5705.931109473923,4458.2314163820065,4428.116149900954,3894.8398917988748,4388.792267533294,5218.371488159293,8864.154345622743,7633.955305516834,9375.367192263599,1209.3723415900538,4.055947907037893,3728.005058920312,8294.38610377547,2996.3007144784015,2124.510939477151,4700.671585936763,513.4210571320774,295.54059003649934,7117.687046647884,649.5490009529047,3918.2063435374457,8235.849946569162,4583.028034918465,3261.244859348317]}]},{\"name\":\"series 41 (F41)\",\"data\":[{\"name\":\"series 41 (F41)\",\"type\":\"scatter\",\"mode\":\"markers\",\"x\":[9533.114563063846,305.2566302739457,9679.18425817335,582.9076013025891,2016.5448786806983,7934.048591234847,6169.244573977979,1938.9120222760748,7004.426610308696,306.6945603102911,9563.137381776412,1805.2664005499942,776.9973689721177,5700.606312695252,9294.274416837328,9940.626182823007,3788.467102826363,7417.2338403208105,9463.213460729748,2621.6357150724634,7226.134732442244,3201.061695292037,4839.317842137594,6441.641009330552,954.972955490343,6934.655473802412,2532.0965663373063,1805.6476936261179,1955.6549471071094,5352.98055951768],\"y\":[27.10824981795423,7990.725393033519,4678.444551218112,537.7981226409811,7127.019351456128,5439.889987108226,8612.330011568643,1033.0203295350982,2746.6063901146777,3818.819244254681,3808.2305106233716,564.4826752698917,7481.1975236527915,6288.589253856965,2097.058478913151,3552.6707781318,9401.252691464802,1433.9461963199606,307.87672066595826,874.5211259196417,3621.479319481378,4335.454332831476,1918.337144824137,7660.482704398231,5851.093065683339,7385.192025082277,5259.048602482126,7305.620295793438,6352.524631820179,9619.493275604738]}]},{\"name\":\"series 42 (F42)\",\"data\":[{\"name\":\"series 42 (F42)\",\"type\":\"scatter\",\"mode\":\"markers\",\"x\":[9645.464315985731,2328.6000109747915,3519.0889866757434,578.5628446014557,5625.343682457925,3229.994391523547,5627.824605155392,1001.6174222734898,1906.7872711175105,1081.405618570096,5231.924315328094,8027.537772826936,9471.30173309486,8219.497304272276,3127.8735940341685,6994.843061433161,2878.3049251066705,4124.093480845303,7865.621380470232,5421.124092860372,9831.929175201514,327.0875272452822,2365.8082483829735,7290.905125920793,2707.941661339608,9028.980043093514,1366.2805021878478,7392.23027419714,9928.048211709967,4992.440245765595],\"y\":[2140.8242053033387,6116.093687991326,820.8004369724287,9237.369121442593,6216.252114617498,4869.170765482506,4922.7838828778395,6079.515379856716,1659.6834374074044,1049.1265880431079,5550.710753713409,2134.7776600517686,3916.0576861572918,9393.110398095068,7914.501226808306,7053.898145139928,8146.625941054991,3433.872164307702,4043.3836966762715,957.3420799774035,7552.369562802748,6784.265813866111,361.50446845021776,2807.7206884767747,261.99561080495926,9019.731021777268,8876.48389693022,7287.210367498289,2022.3624307676137,5039.6733208694]}]},{\"name\":\"series 43 (F43)\",\"data\":[{\"name\":\"series 43 (F43)\",\"type\":\"scatter\",\"mode\":\"markers\",\"x\":[9633.813028713896,5139.980544597972,3149.8955480644986,9962.492968452974,341.93620824106483,3394.739094035266,5984.749876860466,3845.33664178236,8887.322775091812,7400.0667798296945,3435.184810917483,1818.4791747748075,5835.772706798422,6185.302080077413,107.81837024785523,5585.567013491176,6955.670360157834,6302.306663432068,4990.127010238177,1664.7836726594867,300.8384749755877,7008.527585569602,8684.769685383173,232.3290279349921,8455.107802735487,1419.34485024791,8791.004919739747,5978.425665617124,4167.665875736396,4087.7737939117633],\"y\":[4186.686697435264,8997.402512193346,6797.703742498624,5362.169032763615,2685.0150068367884,9407.225052739856,7738.83033981181,6827.656268274961,6823.432303397244,4130.175700457175,5308.181726544616,154.59248165832884,9387.750166012636,8065.214649689801,3462.0990858941227,3757.4397550878302,3682.7975177966055,4743.878580277222,4139.70875495378,7810.007954483932,3531.588957413212,3485.4012859621807,37.687211581800554,8368.107491857852,4518.206335518737,1053.0747204682089,3183.9467535551635,5618.224658150678,1085.297620701443,5862.687398905794]}]},{\"name\":\"series 44 (F44)\",\"data\":[{\"name\":\"series 44 (F44)\",\"type\":\"scatter\",\"mode\":\"markers\",\"x\":[4804.933245875114,9600.917637466198,3755.295422321697,1905.2166632665123,3670.678934313678,9150.199541111373,6965.162347330094,7719.766272352156,3353.704950171098,6245.2642289315445,787.675853025307,2989.0832626255115,3652.3245311225883,8488.4782517034,9157.96158303997,1628.8033598993889,7805.849321203131,7003.649824089993,3132.1950324582403,5602.909788193409,5068.652902840857,5691.15532490796,176.09174592199795,8121.717809277604,7712.000488600103,481.5874577039392,9514.004603535848,8365.021204736442,2587.009969818713,3997.167667387128],\"y\":[9165.159186588151,2421.8722319993535,9.053574551805,1860.2388469295806,2451.7528500814324,6749.784438441288,6913.372222581893,1780.7348518658127,484.35006215624134,1129.988783529582,6983.623349156104,5509.607293219774,2413.2110495481875,7831.689220295735,7769.534935924398,6762.7547027837645,7079.890578064481,2497.0998216960825,3686.79463134746,5300.093036155819,8111.6471423539215,120.37249841753805,4231.753477864728,8486.971782104052,9471.911728112425,6417.348004825245,8745.479469186246,6870.225855500377,13.257737607710318,869.3974251408298]}]},{\"name\":\"series 45 (F45)\",\"data\":[{\"name\":\"series 45 (F45)\",\"type\":\"scatter\",\"mode\":\"markers\",\"x\":[2626.145911337346,9568.728374790242,3675.028975087482,2773.44640700405,5015.694829436753,8608.38737083085,6625.97413162055,5741.598855992011,4676.171233220178,8724.109994903263,3872.9503318212955,9267.614033493774,9023.06905018501,606.3337372261491,5639.951198310824,8213.809421102482,1097.4946523195583,1087.3004507540118,8167.425743726812,2370.7960470976373,635.8941391855733,3342.3345391274206,4490.054306355993,8603.778627730799,8335.554325419222,3823.955137301398,8221.84907199197,7522.982523885955,6916.034481368416,351.7368672121013],\"y\":[7410.655729904517,5102.095254645541,8641.139686416074,7548.41035094676,6119.826845079505,7217.440189981607,6593.003599271176,1642.769709849655,8553.052503949795,1691.9289988143116,6179.295266108663,6552.535581280765,4259.023811110114,8101.665071850721,4106.523329624058,7115.398761565439,3235.819500860091,339.40007052824296,4366.862149317878,3354.0450103117983,6600.60117241202,727.8735665394643,4662.875495230715,1741.0473016216843,1898.4096046604247,7337.3927719132635,2133.970147341929,5572.0791225397015,2094.557013273524,8085.84068386566]}]},{\"name\":\"series 46 (F46)\",\"data\":[{\"name\":\"series 46 (F46)\",\"type\":\"scatter\",\"mode\":\"markers\",\"x\":[4250.361999994296,6760.992425578166,3828.312747903656,6185.623170567771,9304.79216187285,5637.869899689024,3601.2827905248314,1550.9008063377705,1059.1824576565468,3661.2510163428847,232.08769938348416,1889.7741465631757,3792.873743870815,6348.299981925011,8129.647409642507,5379.920389362213,7251.04327044236,181.76719626688765,8720.578442032403,4062.5105322501563,5806.349994075728,7770.172473116147,6711.924171613143,3388.058171028977,2523.811365997001,117.71527426454375,3778.627017600568,8709.186803543222,6758.364522285929,3502.9984192052057],\"y\":[4735.868611476724,3939.1235806351933,3416.524497151657,1170.7264277405227,289.5962420805409,1081.059520585801,3077.99776920611,6808.119158793282,6054.263631373374,1882.3455624753715,4800.068705201309,7607.859466298283,9685.01498803776,4478.816156904556,7617.024101860004,9611.973778748394,6692.24285474037,8568.366899900508,2498.8401411427963,6986.118031052667,789.6572771432742,2389.236165739663,3847.8041668061323,9891.323882054137,6472.703761605761,3577.272158355428,8488.69834378421,2700.3359921317074,9932.369145667344,3837.791675828799]}]},{\"name\":\"series 47 (F47)\",\"data\":[{\"name\":\"series 47 (F47)\",\"type\":\"scatter\",\"mode\":\"markers\",\"x\":[547.6281123560423,5448.24984951772,9380.12562944477,4291.466642076582,2616.5267535631633,6612.237794032802,7392.954153701397,4340.005080941896,7164.822497026816,4582.729386942502,5983.102572946627,1946.2147066770608,7286.712403862453,8518.488433366792,9755.431575372726,7334.3733741360065,2561.930162433814,6670.61186883214,3735.904099454821,5290.652661632679,4059.8578119458552,1715.5455556021636,237.98015247621706,3479.67164814993,2331.2804327095573,8154.800983865011,3479.378465317383,5492.08736161071,3609.034552610967,6419.1247045584],\"y\":[1569.875860852027,7699.450604796979,2378.2575030444177,1957.4571815492313,2961.5068540676716,8416.394007021585,2978.895336477926,5296.092818963946,8485.743500973455,6356.53684399101,8967.582218766647,821.0333938724245,697.9261203638465,2917.3247742757867,6592.954597551594,7866.600190263913,9407.426464254584,9440.352786920874,7927.919950434802,7585.957095978497,5992.7265559855805,6267.5402315043275,9954.350016133458,3034.264113347844,9383.793666978114,5149.864482467778,8210.124029413037,7912.768975935901,3439.845029519414,364.17821496306345]}]},{\"name\":\"series 48 (F48)\",\"data\":[{\"name\":\"series 48 (F48)\",\"type\":\"scatter\",\"mode\":\"markers\",\"x\":[7485.398036458886,1502.216456039448,8858.791803149019,6754.973033793599,7494.431696233246,3456.532991263183,2725.3558582119686,4841.7707062689515,8451.256326676626,2332.829347594083,5338.058704424816,4119.160650909488,41.9209086274619,6001.329497886628,7050.982371325619,5725.322119089793,7413.004973947513,408.9286043426843,7524.4075230500175,4766.204160426354,9485.543843947395,5562.643323469339,5999.13413117908,756.3605040110177,8155.459138761815,4054.3102103150195,3992.49655737004,1873.767201813996,1756.047156488042,7965.459886396891],\"y\":[1159.7856931559093,5024.77560174174,2535.024886746401,4571.369545486772,972.9949573928176,9076.686996108507,5838.091918705829,9905.883095004057,5339.508948914961,3039.2557749242555,8192.91308272954,1953.658753989126,6316.558906455958,4462.764606714742,2551.888298737228,2004.0843285316068,8672.970091208423,5869.134991994385,1579.0207556544922,3531.18246646602,9207.92978306639,8643.872268563495,4055.653209342511,2856.398097042867,7457.20749137237,4490.464352048448,5231.794148557505,4806.246747377074,7700.466291267155,4285.191250124311]}]},{\"name\":\"series 49 (F49)\",\"data\":[{\"name\":\"series 49 (F49)\",\"type\":\"scatter\",\"mode\":\"markers\",\"x\":[9264.206651232853,9594.375544434173,4028.9971320529526,2969.1193986700728,759.3875560671038,4237.66917175139,8641.424522289833,6975.392706946522,2879.0187857015417,2958.6083370308447,8505.62359986668,7613.755998039078,1467.424638553897,6231.170043090842,7058.296967271849,9820.571787479763,8225.018467628517,7395.135666524754,5709.366037272718,731.4278919207961,1078.6835424509889,9093.748708120327,4576.523624233239,6644.750653596216,6589.477583458977,9182.246537216099,3096.0131095479815,118.67728524775467,7490.009163112918,7209.864309531357],\"y\":[8938.88793272566,1179.7601550251845,8258.283489847187,8095.490587856081,8007.717950764831,7920.911206363045,3011.772464122926,9197.229775293828,9196.909561761157,2127.315298581629,2944.9111408514264,618.7082024427671,5070.506772133139,4992.878054375364,5035.184138224174,6300.032648735318,3644.5476039973114,6476.094027881819,9807.407869923465,5208.8959169816935,7056.752767158801,9393.053569922155,3572.7790220118372,7777.395357758814,64.52344507148821,5956.63467794517,9748.703979200407,2622.7139277557553,5032.930412590749,144.7511653314848]}]}]\n",
       "var labels_gTkCLTyBSj = [\"series 0 (F0)\",\"series 1 (F1)\",\"series 2 (F2)\",\"series 3 (F3)\",\"series 4 (F4)\",\"series 5 (F5)\",\"series 6 (F6)\",\"series 7 (F7)\",\"series 8 (F8)\",\"series 9 (F9)\",\"series 10 (F10)\",\"series 11 (F11)\",\"series 12 (F12)\",\"series 13 (F13)\",\"series 14 (F14)\",\"series 15 (F15)\",\"series 16 (F16)\",\"series 17 (F17)\",\"series 18 (F18)\",\"series 19 (F19)\",\"series 20 (F20)\",\"series 21 (F21)\",\"series 22 (F22)\",\"series 23 (F23)\",\"series 24 (F24)\",\"series 25 (F25)\",\"series 26 (F26)\",\"series 27 (F27)\",\"series 28 (F28)\",\"series 29 (F29)\",\"series 30 (F30)\",\"series 31 (F31)\",\"series 32 (F32)\",\"series 33 (F33)\",\"series 34 (F34)\",\"series 35 (F35)\",\"series 36 (F36)\",\"series 37 (F37)\",\"series 38 (F38)\",\"series 39 (F39)\",\"series 40 (F40)\",\"series 41 (F41)\",\"series 42 (F42)\",\"series 43 (F43)\",\"series 44 (F44)\",\"series 45 (F45)\",\"series 46 (F46)\",\"series 47 (F47)\",\"series 48 (F48)\",\"series 49 (F49)\"]\n",
       "var duration_gTkCLTyBSj = 100\n",
       "var config_gTkCLTyBSj = {\"responsive\":true,\"scrollZoom\":true,\"displaylogo\":false}\n",
       "\n",
       "var traces_gTkCLTyBSj = JSON.parse(JSON.stringify(frames_gTkCLTyBSj[0].data.map(x => x)))\n",
       "\n",
       "var animation_settings_gTkCLTyBSj = {\n",
       "    mode: \"immediate\",\n",
       "    direction: {},\n",
       "    fromcurrent: true,\n",
       "    frame: [\n",
       "      {duration: duration_gTkCLTyBSj},\n",
       "      {duration: duration_gTkCLTyBSj},\n",
       "      {redraw: true}\n",
       "    ],\n",
       "    transition: [\n",
       "      {duration: duration_gTkCLTyBSj, easing: 'cubic-in-out'},\n",
       "      {duration: duration_gTkCLTyBSj, easing: 'cubic-in-out'},\n",
       "    ],\n",
       "    ordering: \"layout first\"\n",
       "}\n",
       "\n",
       "var slider_gTkCLTyBSj = document.createElement(\"input\")\n",
       "var play_gTkCLTyBSj = document.getElementById(\"play_gTkCLTyBSj\")\n",
       "var pause_gTkCLTyBSj = document.getElementById(\"pause_gTkCLTyBSj\")\n",
       "slider_gTkCLTyBSj.id = \"slider_gTkCLTyBSj\"\n",
       "slider_gTkCLTyBSj.type = \"range\"\n",
       "slider_gTkCLTyBSj.min = 0\n",
       "slider_gTkCLTyBSj.max = frames_gTkCLTyBSj.length - 1\n",
       "slider_gTkCLTyBSj.value = 0\n",
       "document.getElementById(\"sliderContainer_gTkCLTyBSj\").appendChild(slider_gTkCLTyBSj);\n",
       "\n",
       "Plotly.newPlot(graph_gTkCLTyBSj, traces_gTkCLTyBSj, layout_gTkCLTyBSj, config_gTkCLTyBSj)\n",
       ".then(function () { Plotly.addFrames(graph_gTkCLTyBSj, frames_gTkCLTyBSj) })\n",
       "\n",
       "var trigger_gTkCLTyBSj = true\n",
       "var reset_count_gTkCLTyBSj = false\n",
       "\n",
       "play_gTkCLTyBSj.addEventListener('click', async function() {\n",
       "   trigger_gTkCLTyBSj = true\n",
       "   if (reset_count_gTkCLTyBSj) {\n",
       "      slider_gTkCLTyBSj.value = 0\n",
       "      reset_count_gTkCLTyBSj = false\n",
       "   }\n",
       "\n",
       "  const start_index = slider_gTkCLTyBSj.value == labels_gTkCLTyBSj.length - 1 ? 0 : slider_gTkCLTyBSj.value\n",
       "  const end_index = labels_gTkCLTyBSj.length\n",
       "  await Plotly.animate(graph_gTkCLTyBSj, labels_gTkCLTyBSj.slice(start_index, end_index), animation_settings_gTkCLTyBSj)\n",
       "})\n",
       "\n",
       "pause_gTkCLTyBSj.addEventListener('click', async function() {\n",
       "  await Plotly.animate(graph_gTkCLTyBSj, [null], animation_settings_gTkCLTyBSj)\n",
       "  trigger_gTkCLTyBSj = false;\n",
       "})\n",
       "\n",
       "graph_gTkCLTyBSj.on('plotly_redraw', () => {\n",
       "   value_gTkCLTyBSj.innerHTML = slider_gTkCLTyBSj.value;\n",
       "   if (trigger_gTkCLTyBSj & !reset_count_gTkCLTyBSj) ++slider_gTkCLTyBSj.value\n",
       "   if (slider_gTkCLTyBSj.value == labels_gTkCLTyBSj.length - 1) reset_count_gTkCLTyBSj = true\n",
       "});\n",
       "\n",
       "slider_gTkCLTyBSj.oninput = async function() {\n",
       "   await Plotly.animate(graph_gTkCLTyBSj, frames_gTkCLTyBSj[this.value], animation_settings_gTkCLTyBSj)\n",
       "   trigger_gTkCLTyBSj = false\n",
       "   slider_gTkCLTyBSj.value = this.value\n",
       "   value_gTkCLTyBSj.innerHTML = this.value;\n",
       "   if (this.value == 0) reset_count_gTkCLTyBSj = false\n",
       "   if (this.value == labels_gTkCLTyBSj.length - 1) reset_count_gTkCLTyBSj = true\n",
       "   reset_count_gTkCLTyBSj = false\n",
       "}\n",
       "\n",
       "next_gTkCLTyBSj.addEventListener('click', function() {\n",
       "    if (slider_gTkCLTyBSj.value == labels_gTkCLTyBSj.length - 1) {\n",
       "        reset_count_gTkCLTyBSj = true;\n",
       "        return;\n",
       "    }\n",
       "    ++slider_gTkCLTyBSj.value;\n",
       "    value_gTkCLTyBSj.innerHTML = slider_gTkCLTyBSj.value;\n",
       "    trigger_gTkCLTyBSj = false;\n",
       "    slider_gTkCLTyBSj.oninput();\n",
       "})\n",
       "\n",
       "prev_gTkCLTyBSj.addEventListener('click', function() {\n",
       "    if (slider_gTkCLTyBSj.value == 0) {\n",
       "        reset_count_gTkCLTyBSj = false;\n",
       "        return;\n",
       "    }\n",
       "    --slider_gTkCLTyBSj.value;\n",
       "    value_gTkCLTyBSj.innerHTML = slider_gTkCLTyBSj.value;\n",
       "    trigger_gTkCLTyBSj = false;\n",
       "    slider_gTkCLTyBSj.oninput();\n",
       "})\n",
       "\n",
       "</script> \n"
      ]
     },
     "metadata": {},
     "output_type": "display_data"
    }
   ],
   "source": [
    "val xaxis = Axis(X, title = \"X Variable\") setLimits (0.0, 10000.0)\n",
    "val yaxis = Axis(Y, title = \"Y Variable\") setLimits (0.0, 10000.0)\n",
    "\n",
    "// we can also specifiy the underlying layout directly - sometimes this can be useful\n",
    "val layout = ChartLayout(\"Animation XY\") setAxes(xaxis, yaxis)\n",
    "\n",
    "val series = createXYSeries(numberToCreate = 50, length = 30)\n",
    "\n",
    "val chart = Chart(animated = true, transition_duration=100) setChartLayout layout addSeries series\n",
    "\n",
    "chart.plotInline"
   ]
  },
  {
   "cell_type": "markdown",
   "metadata": {},
   "source": [
    "### 3D Animated Chart"
   ]
  },
  {
   "cell_type": "code",
   "execution_count": 48,
   "metadata": {},
   "outputs": [
    {
     "data": {
      "text/html": [
       "<div id=\"grid-container_YV2e7RArTg\" class=\"grid-container\" align=\"center\"> \n",
       "<div id=\"grid_YV2e7RArTg\" class=\"grid\" align=\"center\"> \n",
       "\n",
       "<div align=\"center\">\n",
       "  <div id=\"graph_tj4NvuMHQm\" class=\"graph\"></div>\n",
       "  <div class=\"animationInterface\">\n",
       "    <button id=\"play_tj4NvuMHQm\" class=\"picta-button\">&#9658</button>\n",
       "    <button id=\"pause_tj4NvuMHQm\" class=\"picta-button\">&#9616;&#9616;</button>\n",
       "    <button id=\"prev_tj4NvuMHQm\" class=\"picta-button\"><</button>\n",
       "    <button id=\"next_tj4NvuMHQm\" class=\"picta-button\">></button>\n",
       "\n",
       "    <div id=\"sliderContainer_tj4NvuMHQm\" class=\"progressBar\"></div>\n",
       "    <div id=\"counterContainer_tj4NvuMHQm\" class=\"inline-div\">\n",
       "        <h3>Frame: </h3> <h3 id=\"value_tj4NvuMHQm\">0</h3>\n",
       "    </div>\n",
       "   </div>\n",
       "</div> \n",
       "\n",
       "</div> \n",
       "</div> \n",
       "<script>\n",
       "var masonry = new Macy({\n",
       "    container: '#grid_YV2e7RArTg',\n",
       "    debug: true,\n",
       "    mobileFirst: true,\n",
       "    columns: 1,\n",
       "    margin: {\n",
       "        x: 0,\n",
       "        y: 0\n",
       "    }\n",
       "  });\n",
       "\n",
       "var graph_tj4NvuMHQm = document.getElementById('graph_tj4NvuMHQm')\n",
       "\n",
       "var layout_tj4NvuMHQm = {\"height\":550,\"width\":600,\"hovermode\":\"closest\",\"title\":{\"text\":\"Animation 3D\"},\"showlegend\":true,\"scene\":{\"xaxis\":{\"showgrid\":true,\"zeroline\":false,\"showline\":false,\"range\":[0,10000]},\"yaxis\":{\"showgrid\":true,\"zeroline\":false,\"showline\":false,\"range\":[0,10000]},\"zaxis\":{\"showgrid\":true,\"zeroline\":false,\"showline\":false,\"range\":[0,4],\"type\":\"log\"}}}\n",
       "var frames_tj4NvuMHQm = [{\"name\":\"series 0 (F0)\",\"data\":[{\"name\":\"series 0 (F0)\",\"type\":\"scatter3d\",\"mode\":\"markers\",\"x\":[5018.79355228324,3231.5550238500646,5099.147825740056,4947.507156654924,412.7744827091739,5928.974534397691,2220.8947307878548,9260.674017198076,5985.553695187587,3036.0290864601047,7634.980157890422,2366.818789943099,5824.385622563856,1421.6716807423568,748.832968367753,3921.6036793742214,5671.995419589261,3669.8013704921473,9404.82266377983,3770.677523262684,378.2950265187668,6279.959198440293,9112.777109488934,5984.556486659015,1232.4431917833979,8980.744141286601,7677.520421573879,625.6384475625099,9431.656048435338,8485.109930442493],\"y\":[7439.758340308335,5077.490950855882,3007.6305125407466,6784.283868631047,2944.3305850433167,9315.378538973902,7158.396065643044,4907.126372534953,4008.0630957731,1108.3271275238938,2122.861695861168,7964.32717714727,2880.152698185565,7816.845831520358,8487.281502715388,6251.916153225532,9471.216737705272,1186.7621677428085,7127.310861307588,206.13995521969187,472.84821352283404,338.44505865253336,9866.280291208133,4081.833346260654,6597.717259647933,6012.028945225346,7369.771962980521,4369.0011056534495,7140.963940519819,6053.071346837885],\"z\":[2798.526517338059,4167.393110495128,2596.8282501126537,8109.40891359766,3306.171182248788,4006.4374083305665,4160.171803631155,558.8058168614062,6595.207842064252,2927.9807491478828,3600.7420222486853,6798.312472084438,6434.153942674679,1041.852856919655,8218.736283660377,1200.0846015609657,9290.682308195348,6219.357840289478,3373.429219625337,7274.739708053112,4050.060332940716,3107.3688491797593,9422.322294469544,9882.15342202015,8165.139233026065,2225.784965972305,816.4852846073645,3690.9329320084694,6523.600376652442,553.6821109086676]}]},{\"name\":\"series 1 (F1)\",\"data\":[{\"name\":\"series 1 (F1)\",\"type\":\"scatter3d\",\"mode\":\"markers\",\"x\":[2568.457774447762,9511.622285680192,3820.1169851083437,2714.571216935706,3342.2849581141413,8615.034991079234,7285.542413283753,3638.7572546169577,5010.960690039667,2695.928350574531,4252.190182992062,9410.862028175696,5684.7606361663165,3753.5632119659867,8223.725805621745,2903.1643547509557,6934.644805247944,3834.526660048201,7870.1369538722465,4750.478726061183,6218.114932446854,9319.515269071971,5682.712504576332,8239.874938773015,2360.6169691489986,8234.612843357894,6900.901397680998,8768.624099001188,5353.7788764376,1928.9158602106816],\"y\":[4762.387718136106,4666.326999439717,1702.4769225745295,4384.197561020683,5129.66152203199,6382.262678479173,3085.9321313285573,3408.619666047914,2110.823842806686,5306.575184301191,9193.732897538823,8015.3399940569125,6419.3171230035005,1823.99056399963,5255.892861464916,5398.18014622443,9906.720064981371,4591.335352151882,1006.7458732096358,9090.35650521076,2954.708696731739,9485.208768675267,605.6937080348301,7128.599275787892,6226.727990784267,7183.736150683053,2383.5146444154143,5343.81378295072,4656.879696132015,2926.408436994812],\"z\":[3191.1544084893917,6260.76948851373,9492.979660643408,638.5937341073134,4598.614342969272,8513.12296886255,3712.6961234459577,6312.3842211797655,7224.763867613341,5166.420770075259,7196.126742512111,2303.0166870700177,5074.599897250246,1890.54206758018,665.1345063336489,5030.187222408169,3918.6843764063083,7534.383795113665,1589.2050993277207,3466.15809318169,6470.18967802546,329.4044064658119,1009.5517266682075,4747.628493401487,2398.1902651524956,2684.9848078829896,7547.637622445307,6265.925614282426,3061.536867145975,6337.381710783421]}]},{\"name\":\"series 2 (F2)\",\"data\":[{\"name\":\"series 2 (F2)\",\"type\":\"scatter3d\",\"mode\":\"markers\",\"x\":[3741.247973269125,670.1469673442717,9255.854208379233,7475.381873922041,290.68721695549084,1360.4607818253523,5236.9086399773805,8389.596655850442,5799.638150377031,1253.855715359149,3816.7923504952305,8178.655743736756,3159.6711169904147,6872.203060355886,5425.075855320477,94.39651664991166,8854.338766275256,3132.5758526526083,8685.281395303155,7219.468606729449,8148.2531107928235,1612.34802182873,1277.7358023747443,1344.5995726381832,7378.490029703413,6516.672070059969,7643.061584892156,2149.102709759748,4380.120457809707,8093.514222163855],\"y\":[4426.272561145056,5087.02834692208,9454.619656927729,2821.503804970765,5469.635507355352,6742.691895056257,2229.362897149331,3338.4302794517853,5633.172980990191,5843.142157104489,4258.363125224359,8783.302079555202,6754.876286308842,6601.456169218584,3278.864180447636,7992.455627622334,9658.406037463266,8613.579257176121,2665.3544007267715,3820.2860947787453,3274.2588914533376,4142.755710790047,8812.017940547335,6747.7450293768225,5661.082752578749,9299.423357432455,9926.59599043484,9896.830874724188,1997.0255154518336,360.7734595652112],\"z\":[2033.0815327853647,5586.873972982405,1456.7058542665145,273.0068134503549,1857.6249540398803,5648.5004222372845,8297.597787788893,3240.641428513873,1711.4815229371927,3853.731385944019,2450.323007386319,7231.061769330457,8486.784246903915,9025.756562828225,1440.5490805649313,5208.8198069798655,7445.379168701384,1659.4979077397165,8565.89539976638,5963.032812838569,1607.9126770861662,5214.156969269533,1909.4481122692032,4502.545858681388,9239.81366659226,5631.5180172800065,4992.195292121998,167.36205512312364,5182.767541620818,9088.856194607171]}]},{\"name\":\"series 3 (F3)\",\"data\":[{\"name\":\"series 3 (F3)\",\"type\":\"scatter3d\",\"mode\":\"markers\",\"x\":[2649.8879240486995,7841.160416572595,6594.731287606646,8512.881202538936,5065.544389823727,3948.562800345118,38.49031921260293,3961.2194062293406,8797.011509022479,4282.128456552473,4798.2161618757855,620.5230757207703,6109.704633714268,5127.88936513636,6805.429112025237,875.3642133316575,2957.8470515715603,2644.5643087955627,8620.2322512787,3669.6596097531797,1553.236322681637,8000.419883774666,3540.6290332931467,5212.440205917413,5618.765472764197,7383.072996801569,6102.192195722298,9972.366964092778,5144.632706496181,6671.360478555709],\"y\":[6982.306692123051,9860.462566247064,2748.3719722479673,294.72310581579507,7637.66175250064,2518.119256070037,5585.5472282176925,2604.3890468604836,8880.615427361734,6707.507359218905,5166.145678378814,7941.9609570839,8039.517079060575,3944.0974163116493,2402.4224801744067,2514.8438406484197,1350.0184104720292,716.0849371008616,6747.137085261712,7174.279626947775,1788.8617159410157,4903.079025775803,6376.836680291077,5240.576356473819,7688.582155252008,3336.50316291471,1033.0399961762926,3631.4569830886035,4161.021935823382,4836.726817792587],\"z\":[354.87680727373737,8723.274978354348,7609.498092102057,4517.031001933969,8319.945789416966,611.1706889884139,3423.926644908226,662.0826879069497,8755.853083841257,733.0779230137707,8330.15167371478,5068.677389346425,7793.096353491838,8183.808744758781,1804.1898320033101,1379.0828832596603,6600.667746307386,9469.28215334509,5464.045105270484,3642.3962960715917,1778.9450723318735,4937.281950786046,5416.2054023226465,9106.906653227543,1380.1485428724714,2669.9643509246853,160.89100534482205,5076.531038138884,1684.8418349256067,7234.656787835888]}]},{\"name\":\"series 4 (F4)\",\"data\":[{\"name\":\"series 4 (F4)\",\"type\":\"scatter3d\",\"mode\":\"markers\",\"x\":[5849.565313330206,9556.970382273938,3583.660420469185,6363.3262013590365,1440.1862943609979,9372.311657343256,7696.650332443732,3367.4148765492373,8610.11762965614,7450.378667166793,4208.3090462710825,6893.57464437082,5163.580413043447,3055.2135757067035,6804.614883867569,2487.158180524578,6109.973998808916,4887.647265241759,69.04686699352958,2354.15195010916,3591.350371455069,7179.997088409417,6227.784382633523,698.5666374592903,5401.779513926724,3178.5082582806344,229.99527759001492,2061.1256030385507,1968.2938253484826,8737.231799899682],\"y\":[1807.3103817900771,9196.423582748981,3352.5576690411863,1139.6112410954095,9377.295167095279,5199.55248236224,1084.35454305853,4719.127132468219,3438.928027766541,1829.5224300457835,4452.44419266063,5367.931698952139,6453.797401561559,2275.6306730958263,7255.291385160692,602.4729374902648,2114.9357426630113,1974.264087215908,8953.619857442716,497.7006064423195,9375.908715589007,5507.445871660472,3668.7037445123337,7506.509923010773,5645.983333736231,1100.7604348425782,1534.7553812114356,9948.667529523054,9152.90077260048,6787.133841244337],\"z\":[9540.725835500149,4783.537876683743,2632.982120310824,3914.2541652784967,3186.284552058574,173.50701650279078,9228.999728006927,4347.263571121628,6028.702705604894,7300.076554863688,6759.450109551869,7454.669191806875,1511.8107206633802,3912.1859986177165,8368.565173000643,1764.2556661379526,345.15998557777874,9166.389228516977,5974.604693741191,4037.1034905371207,7140.9676354479525,461.0992292607796,7904.673632454241,5431.653063020939,2018.3800278221631,8172.185172361412,3637.5135908133384,416.0764239258241,6449.039987219491,3464.789811956173]}]},{\"name\":\"series 5 (F5)\",\"data\":[{\"name\":\"series 5 (F5)\",\"type\":\"scatter3d\",\"mode\":\"markers\",\"x\":[6671.416612249707,9136.049286499063,7744.897566862029,7686.30982130306,1192.6189594852465,8056.343824159453,3278.66039208599,9238.06251669351,9440.227847974762,6868.49201243992,3779.2253908225116,5278.236868921928,4446.945783264572,1893.092810783601,4858.894512290019,1126.3084993364414,7180.551016909573,7504.172589914704,7306.125914518748,9819.175576929681,8019.306697955868,7464.328056193259,9617.025455811718,7911.847410086408,9965.16114963073,7483.213850476293,740.7381745028919,1320.6033235200387,5031.818305757317,8798.26527316508],\"y\":[7078.351017030834,6774.104686152418,5840.451077661352,125.37006030737152,5401.872634892644,268.03896921504975,1614.0366057130284,1938.5396892383678,2549.306314909191,3811.4330693455845,1481.9969730580863,2711.4484377995373,3503.7899553478755,5707.86773868012,8290.029340328414,1490.0456546547991,1779.2247204311927,7632.392790988045,2955.7145398812822,4964.26899794628,9911.772012199397,3845.0276091755554,2818.695048782052,68.21805439005679,3296.0474690953934,4024.3017745349816,7404.918199805593,5061.972220616577,7606.798567381582,1409.3779624012902],\"z\":[1557.6405915712555,3034.5693613073686,8611.297904932739,2206.8700747819503,8983.596545450791,1816.4867592378052,3304.646444340629,548.5517732232759,8920.932077925367,3401.2932244835724,2989.628889199402,5678.727296353016,4856.215286102974,4149.973317971487,2174.7149943211853,4505.113209625287,7001.029396202064,4287.748504243497,1978.259543737212,3164.6611591496367,9584.362971062708,1502.0516239983162,3103.900151126925,5835.827654321666,9925.2178629904,8811.635169493928,1391.6115757831471,7671.373792787418,8720.546915494187,1300.6280386062997]}]},{\"name\":\"series 6 (F6)\",\"data\":[{\"name\":\"series 6 (F6)\",\"type\":\"scatter3d\",\"mode\":\"markers\",\"x\":[8450.822273368167,1430.86013641612,16.850841920343917,9797.67604339874,946.4578524480061,4159.573853194852,4929.457817761607,2129.1349805294167,4735.723739298581,1090.7113442104321,5331.712452060004,4186.614397376178,4242.897122430216,8840.21022383732,2457.0114617022996,3722.9903920048623,3211.347975259199,8918.705940949518,639.81548349898,9527.343093093366,286.46524350492643,5602.668151455296,8267.481000933845,7428.097734222035,1760.112530070519,9286.846005391188,6422.947737818372,2434.9754959564816,4246.69793094141,7582.733057239359],\"y\":[669.0333595453035,3254.1924329513563,2062.8880999083167,1632.83992314447,2958.275727064009,1397.6699109639512,7647.4553108831315,4378.138179465224,8747.980638566587,2155.848033962896,8484.697233591061,846.121562321639,9058.322599707879,8815.023501368134,684.3217292215742,7919.506578423573,8432.06058410675,4673.959686434425,7622.643803250678,2500.6699849419924,7537.628109627266,9650.845727379352,1864.3934096781722,2504.5043302201684,3503.057230072627,9570.510539860852,9961.387044820349,4692.445794231207,1976.4090612084995,6583.122571491939],\"z\":[2663.7670390964076,7003.010448392059,2379.0751008063658,8589.438002112425,7581.471178805324,739.2507184698516,1851.5257369248184,4033.9865795551586,7398.038967931983,9741.122073548844,3986.7793531519637,5976.411032089108,4365.824937311015,9500.829884296134,5605.073113024293,5962.50584681383,1001.1324997856951,9071.804269780958,8543.91472174872,3890.3313167991414,7649.7423803234315,2577.0239016571063,3720.9049773805345,4803.100049001552,9907.760052240468,5139.998423189755,1572.413635404961,7339.370176861508,2759.656719513006,141.78507241280448]}]},{\"name\":\"series 7 (F7)\",\"data\":[{\"name\":\"series 7 (F7)\",\"type\":\"scatter3d\",\"mode\":\"markers\",\"x\":[6379.406104357611,1432.400745530673,3734.8377373529875,850.0011889845538,1962.4097211112057,4774.354571800922,4386.020991248443,9670.871773827492,2760.823357456743,8547.36621553031,7957.161006706549,2542.924927763405,7407.4653499126,2972.3130805595742,1235.6096067716494,4321.031231133148,1567.469309974262,2337.4633599107487,272.6568977187949,3392.056569311731,3031.3292176823547,7342.997389262671,2908.5476921804075,218.48331478907969,4835.110372025505,9833.729984943586,5852.522643698032,5023.920852646585,1526.5329875450807,1291.1882990168],\"y\":[445.38753608210027,4414.519972465328,9603.85144954219,1817.5284359140398,9171.56536477796,5372.8677863671255,5625.14261446268,767.6009662143124,4489.540026140593,7766.031366751826,4518.831284266323,3671.8054609566852,2614.054315858031,3276.989607486812,6221.974645330418,2641.2012938492103,7510.375251478979,9498.769230801674,931.0383396798172,9057.668752090416,4550.397949987659,2823.1862632440175,1970.5915504739091,8025.746472684157,9032.304697014482,2711.1646968923433,568.5627975031792,3799.093627953569,2079.9589869550596,2949.1873017698076],\"z\":[8672.38719945849,4193.360175163802,5315.1570460198245,2576.508949444838,4348.594455196633,9858.570677784059,6135.320118047956,310.3437571857337,9279.07556852625,1207.9580086172514,7431.16098556282,1501.3103067001198,9400.481120521566,1786.5114819299222,9143.311078055343,5919.004695038721,7828.896996321851,1911.3329110810007,4183.846807601129,7997.641670528262,3870.1579641479366,527.2182365461398,7938.112025157507,8564.288203849808,3136.849636298549,6394.715574744521,8814.178486750352,8527.288893831615,1576.2632459293536,1964.2355153502267]}]},{\"name\":\"series 8 (F8)\",\"data\":[{\"name\":\"series 8 (F8)\",\"type\":\"scatter3d\",\"mode\":\"markers\",\"x\":[7121.74537538384,520.0606791199591,559.2651163313523,4588.618611774346,939.2315292753051,4075.5140795232423,1088.2482681282902,87.89305083049426,567.2648483037401,3548.936048214828,2653.034340295187,3103.782453245273,7668.725666619423,5712.244435047712,6296.800174962803,7167.855011064657,1259.9607996700645,5710.108856977535,2049.802814664009,4956.029386254533,344.72701746990356,5898.5018140125985,8046.884632193325,5813.484580036886,2171.888288000476,1978.832493962287,2365.4392742203945,3307.844092476613,5849.832144434806,4795.883196368754],\"y\":[8903.723206324821,304.84043519805715,3365.034045089711,4185.355653574021,5465.100938739235,2859.4868697171128,3929.1451275568047,3336.905972108991,5622.018959147985,7077.114004663116,3018.4331932806417,8281.128686535978,5904.197312089952,5022.459613356887,4471.3623904198375,7314.028503440663,6388.741277398675,6741.322831191622,2574.548377714303,9440.09316248775,5865.572055824717,5508.128876599715,1194.27543249784,9245.162587116605,2409.7808455560344,2524.070340955652,8700.224615078345,8002.86755973445,6413.212969829971,5464.326160920533],\"z\":[680.0041918450739,7273.485088130256,5910.792710598466,2509.1862266540975,7257.532154545043,1771.6408423276064,3382.8028320803683,9792.731320249399,8205.277077735882,2859.365291953624,9122.533354848912,5564.058711552985,6979.808044715128,2663.585423888106,8729.422694694367,8779.85617555019,4312.065107441169,1522.2184502735813,1321.0090551763421,3333.471935435367,3048.212353043065,8230.604482101475,652.72239998738,1674.439662253049,8563.88581422042,3390.099012667096,3492.7444994229404,3183.7611446507485,3264.107868914887,1053.223558673867]}]},{\"name\":\"series 9 (F9)\",\"data\":[{\"name\":\"series 9 (F9)\",\"type\":\"scatter3d\",\"mode\":\"markers\",\"x\":[8319.867604041665,3344.0651251944255,9433.087564466196,2814.8451367579687,2695.4891618413335,9480.096617567599,2012.5790133367827,1516.442228242928,9506.57993413407,7643.815181343082,1764.4304726205596,8810.587447755053,684.667353673295,3079.7111682872824,9712.39930794621,1975.3536103635317,1976.5781519304903,3629.774392436889,5760.270602992671,573.4355025596882,3875.8895251600634,1423.8816383823382,7947.76305179792,2818.348625649637,1919.7370232939304,3250.1928581287643,3932.6650627073154,4840.152023615852,4213.836174039564,4111.47854896516],\"y\":[2977.0910801772775,3435.715228883879,5269.272884202145,1647.1247715627123,4967.707878663236,4343.63036934756,3017.824262722636,1336.8951424138863,2814.225434329457,3601.44616741485,218.27118801142853,3701.351397193812,5947.410313923351,9122.984486793142,2374.372938127418,5075.168719462854,5577.322443827816,3276.066466229177,1755.8676312657394,2953.403779371815,6874.436783014405,4946.068079879614,1147.077934823325,5397.107363629569,9300.760466080339,1338.2935174660927,1543.3930023871167,1533.4965041473524,3945.010543098789,5602.230972348086],\"z\":[5174.107357644451,6797.233245052017,5905.371263156868,6253.3452225925475,8950.799236405237,2233.1840230243006,515.3002459902744,8323.126940081816,3723.6329182896243,1917.3573093417829,4522.310291860468,4185.7028810246675,1573.6739143356515,6351.555703994708,7206.601155447345,4089.3889639691192,6777.508204481819,2548.5940848352393,1865.8758558011634,2564.1462850703556,6051.159870800679,3448.7755306443655,5094.621295152033,7080.976417792111,213.5061935590421,294.63342550500425,9850.592320889567,9606.872110821412,2505.0891601592493,1639.7871595196045]}]},{\"name\":\"series 10 (F10)\",\"data\":[{\"name\":\"series 10 (F10)\",\"type\":\"scatter3d\",\"mode\":\"markers\",\"x\":[8428.188939511141,29.0167732902602,8456.42885566809,1779.078593466199,3147.868013560904,2814.507029899669,8420.645884071313,9560.989436979524,5822.689104984543,4726.944325232976,6668.401430962297,5779.664741624886,1877.5397993972942,1938.828792353896,288.87063253598353,3642.69943493975,1373.545677594864,9458.756208970182,7048.663853445684,2172.1690630483413,7129.619804336167,4435.00856825713,3831.3169435096916,6820.214737748668,9635.059293014836,7602.194397277034,6313.171682347172,5066.826444087167,9511.553072383038,3905.185637632792],\"y\":[6127.174097765465,7316.284812539012,909.913656078919,4164.665976840482,3924.3187901498645,5020.062856404344,3416.3016965223214,4541.188088788297,5463.169261802815,8627.80803817319,5794.6648119580095,9509.717022220548,3141.095285746185,7704.357121191565,2206.5654833430913,7074.2105401787,7226.558303580316,4349.564001607794,426.5231501174216,2031.869014872787,9459.99210227995,8919.046931512492,2010.4541665328468,4239.2639614893915,6661.521348618445,3967.7941350227575,6376.741386698256,4037.6330505589717,3516.9649085823316,8324.88805241968],\"z\":[4323.920708215547,6262.20674641526,1809.2751579595645,8256.444549371616,1635.9235963545439,7590.51234735439,8020.770338384724,6785.18295731386,115.27107581599472,9377.1732304124,2452.2111684694414,5408.88108296024,1636.5629512508629,9577.808521096227,787.9874197328606,4696.286404582059,627.0618960719731,2882.20783732432,3382.375970832965,1537.8916873091953,1758.1264420024556,7757.038787720157,8450.034591082007,1190.3066716747624,2570.696530998858,2740.9220167341964,2814.6059714548755,1676.786690447778,5259.9923756173885,2039.7839551721486]}]},{\"name\":\"series 11 (F11)\",\"data\":[{\"name\":\"series 11 (F11)\",\"type\":\"scatter3d\",\"mode\":\"markers\",\"x\":[7902.498241235607,6592.808833071564,7909.035671293866,2237.9828264973944,9264.625488531787,9914.410495272923,3087.5607878679534,7770.771458616191,5067.080849927234,3018.337830720027,922.3324704440028,2696.247565590969,2712.4260634765806,9796.8771157662,4496.841894598581,260.01427020042047,3036.4862308301476,486.569586042328,7752.805111275255,9763.356068449186,8371.233183223414,8628.841395068528,9942.841154775533,2325.810458642991,4172.550773358163,8441.905145379606,6123.160628003161,3275.594097346324,3882.3796102047327,1807.1191277697396],\"y\":[177.0486774888813,9106.422218243413,3227.933491176359,5059.320056776291,5424.379075726218,1206.8384754202798,3256.392782127243,5819.468600964848,7999.348788997194,6898.242793365196,1061.67861666275,9219.280915236312,9868.076266264794,710.3995575666434,3380.6104864492113,1041.3443177425208,1609.6606957751014,5278.26482808329,1018.9640707800473,2534.5411998476166,9898.750660514148,1761.570415198056,1413.637710609902,7963.439813500239,1004.6236009625698,4268.664154977613,2545.345598790929,1311.6306495869178,9561.233753801298,1408.6964694533488],\"z\":[3886.957904338042,2982.825187850975,1364.6368376470152,801.3099450629513,9105.809975781782,829.8482895443393,18.650512989816235,9140.579195682247,834.0071592475506,2390.4996152771505,9876.570686057086,1240.0135192029827,9978.952064317285,6820.573577897264,1916.2062960958726,6378.023983005626,767.0299809712933,5688.1646808141495,4937.457767546971,9218.328754655475,7996.584881359909,1529.7076480182347,1786.1115070253652,5597.34748541064,4822.024339477198,1867.0350041229956,9184.47807474688,550.7194418344263,7799.09782930568,4246.056210319772]}]},{\"name\":\"series 12 (F12)\",\"data\":[{\"name\":\"series 12 (F12)\",\"type\":\"scatter3d\",\"mode\":\"markers\",\"x\":[188.95587134130975,7093.653579605237,892.0890848820584,4781.497735181579,296.5513305546286,9474.898403803401,1676.873514869024,8678.46750383126,1786.8461933745284,3891.6946817016974,1069.4893865286238,6250.432840099857,6012.847425664017,2983.160662625742,2568.0776401157755,2064.538426732706,43.61806497649279,7812.126122343396,8216.748439763867,8019.006132817419,2313.528701810722,2500.516582672998,6283.1323148713345,3393.699181102473,1747.4366528260687,2200.9704068502188,9987.081917747928,6213.750472961768,6208.0365440649275,4667.437663768323],\"y\":[7526.188094366966,627.4920197953849,9051.096960083212,9330.101518688449,1114.4836362490385,4423.7437328644055,7076.233739671448,5485.031717607995,6783.903377717658,9299.852717074767,9225.336975667828,2976.56139897476,7293.778834248117,4040.698730495668,3007.715737318801,4580.456151530141,7651.847588681631,7380.211915536762,4820.475671578751,9188.522709127861,6470.954804907026,2990.7767860534373,1084.6045740179866,8850.382293277684,6668.838785951666,3782.223704351748,9431.68873999044,745.7100838832464,5864.0825230093815,6490.937044228641],\"z\":[3053.1352507111396,7240.325515794873,229.5275795741991,400.93925191349575,6763.235595164272,3322.0900329768288,5535.141909154341,5962.635231539422,329.3489943430961,917.6507429432023,5645.54090647277,61.23307143828804,3186.9471791507144,3858.6460945555236,1833.0623651554633,4735.682128111734,4784.206242254056,5596.067573635355,5925.498212224028,5260.298028971076,6490.291300068984,4154.04798301023,6528.292338512209,1675.0768389085658,4253.429837818677,5269.42825605753,344.2120274409599,5087.019727078988,6009.322583248835,5181.029620655705]}]},{\"name\":\"series 13 (F13)\",\"data\":[{\"name\":\"series 13 (F13)\",\"type\":\"scatter3d\",\"mode\":\"markers\",\"x\":[9959.20902886549,6363.6268574190935,4217.393433858168,9112.638353636223,5371.3851133824965,201.04316993958759,1841.8363717242846,136.2868076095769,9010.681770787429,1973.1641208512763,9596.365518244895,5807.494601018497,3030.1181768009587,8254.344652784172,3336.0317937188056,6731.70859973112,3245.101174392241,4457.175084809486,3106.421599534471,2051.2629954715167,6255.5384660013315,4638.121408874483,9550.002365036278,1734.7539685358981,5006.186291519656,9197.652898913604,9121.340554980294,4505.807077116161,3323.8646637341094,5937.809051246694],\"y\":[6877.363292804979,3265.786695359799,1815.8836026113668,8738.985613521838,4485.7919418184565,6945.082349126963,5922.21622822739,5979.045377371336,1534.3293036347184,8860.17999918278,1884.6677823519065,7741.694384972365,225.1315407766774,6858.805226691265,7929.485205683127,6847.383942946277,7103.554919349219,9803.005265996148,6055.559901839612,3788.8309156402734,597.1148384216096,8270.113136412054,4478.577696967738,9764.579474744303,9830.05018379,4744.115559559846,2002.172056783602,5177.849809858468,8430.842513548532,25.025421546115425],\"z\":[3370.3417352233078,3204.2512854472516,6864.48368934804,8101.437014834839,9001.095346091093,9330.766944644129,8198.250390942592,1311.5189180471198,3409.4909177979284,8129.738192220534,5149.186577271739,1260.2815506519016,4098.938476707488,7955.415736483304,763.4550219891767,8666.02986846204,6732.838686576277,2736.960564197376,1142.1682428203706,7076.492140256781,2994.3342916025695,7590.616202911333,6255.266982933537,1225.1955171098928,4700.153270661229,1585.097263679549,4074.457940852173,691.2326606826836,1455.223359410378,6668.064900345567]}]},{\"name\":\"series 14 (F14)\",\"data\":[{\"name\":\"series 14 (F14)\",\"type\":\"scatter3d\",\"mode\":\"markers\",\"x\":[4008.189383260776,3480.646830073766,9417.948558016631,6497.894819857453,7936.083544456921,2165.237508397796,5591.7288678780715,2723.7639896693477,1017.2062989215125,7294.666801022219,5466.521729585905,9118.417121396964,9886.001875739548,8940.330543487189,1804.9348653577747,5891.796542448251,2851.6800384846442,7434.524072757488,8900.549867758557,7500.050955039157,5281.288806626605,8636.027432229717,9731.879931828338,7313.264774655615,3473.6660547618735,7383.296111989152,3093.559576448913,1616.5788803099645,2020.9086897027562,5189.033558032495],\"y\":[4007.080335337803,3593.200928491571,2905.9609082125116,4684.99472196875,3496.5792169559727,5174.131861759447,9399.366921106515,3843.448813868705,3160.8919986386154,938.2639873997356,4195.192020167427,7581.805969815629,5881.291745676376,3607.833670368393,9165.567058137596,2999.4953949890646,6475.02793960965,5108.036489719903,3615.266037790983,7201.255301512736,5137.993063973637,645.9510401638313,8982.177262180567,3428.575807233387,2115.539243638372,5812.730379250007,556.484176290778,2051.1140192219837,4198.675579909169,8324.361964210204],\"z\":[980.8233917778198,7862.478476311212,2363.577498155862,6690.118467835643,6045.640838753403,4079.8561802643653,5155.544797864662,7834.150528082354,608.4202964849139,6464.539737999926,4264.244437818104,4494.50096980106,1342.4142516450631,8060.479782734439,7145.282898814313,1085.1487861199182,3459.9521543361843,6190.578328030621,6513.84784811331,3630.5206286019065,557.3659378959006,8555.505543925317,8069.3727152118945,5368.229831738314,293.0157132336475,4547.41018303463,5905.8708914990075,4664.63969530969,3736.8564990081964,1220.963634760911]}]},{\"name\":\"series 15 (F15)\",\"data\":[{\"name\":\"series 15 (F15)\",\"type\":\"scatter3d\",\"mode\":\"markers\",\"x\":[9720.793604559572,5999.169363346288,2919.4397377786972,756.761831989361,9155.972339226744,7947.089820616675,9360.195049647904,7707.184135103128,8387.401061001532,4326.88861432452,6169.291169098365,9832.38877392607,8426.325543510382,5977.107747442141,7694.3310427583965,5914.19926345082,5502.304325724147,988.8869334126694,3622.581522703032,7578.217195843994,1369.6111745042338,644.2719636480409,8951.403369964288,9859.574710520095,5411.55301594188,6796.6817268368095,7303.986341607378,7015.3159481341045,9012.97684665926,3978.746123893444],\"y\":[2694.4588280654934,5916.4779067053605,9829.44666072162,6134.064123030432,4035.8895161179043,9245.516311893074,7302.272921976486,3543.2516271989457,7436.650142523587,4679.801223462986,1051.7770458375664,250.9859106125367,3645.0661070826686,4259.488636099062,626.8823085916553,6099.571061431117,1879.230332606411,218.14547992533795,8497.320161635778,335.8869300399425,6718.313770373064,9697.089877257034,8145.449891425799,5682.403932702712,1733.652193482681,969.4836174322296,5647.885048397297,2749.280183230807,2102.3491761080772,8067.793280153619],\"z\":[6232.831126969239,4713.382127845749,8573.085880136437,9038.311775932696,6957.236705708021,1301.4007868384558,6843.276763676035,5439.015051893045,2868.5662584975926,9288.05855583194,9658.670893479493,7152.102494043513,6799.202968027388,3956.737896117699,3760.947939697827,7100.148299278713,2287.197523118929,2268.6827492911043,185.80852449176177,5034.872705641211,5025.277670086703,3848.2577367194426,4353.518581527243,8210.116175985504,710.7382656422257,315.57530738012485,1895.812621389551,9455.677603989518,6202.034847186562,6984.131283420349]}]},{\"name\":\"series 16 (F16)\",\"data\":[{\"name\":\"series 16 (F16)\",\"type\":\"scatter3d\",\"mode\":\"markers\",\"x\":[7227.52034572921,9936.260991592491,6483.607828893408,3489.9128004846793,4498.2297275407045,4709.844759912496,2098.6633882977244,1529.7795660007585,4748.756400846389,4092.3757899973302,430.34642538132937,8560.735688558576,8849.138781028663,2790.7588944630857,9494.938004622034,6048.049023690506,3109.335370261372,1783.69641588069,4756.418719039378,9648.99422634421,3330.7476075662157,5010.011916114717,7879.935558988666,6580.329515866836,3506.155222052042,4066.661843340713,1312.4217375553837,2341.4417035292868,7377.591852806854,9323.728995454727],\"y\":[4111.8122462133015,4951.425845802118,4626.150072083451,5131.259071732311,2542.009345788363,9907.188875496253,8594.657236538997,122.88491487823738,3608.951638370963,3180.999204941659,9133.611860751214,1013.7631195461161,933.8427168029151,2749.7324344924577,2412.7302532703534,9745.420050650897,142.7993086275392,1384.385296690016,9354.899944125582,9347.68536662385,5297.884916978464,4727.268918185886,5726.293954856736,3467.9734285888107,8802.692035923987,9045.607558842836,9855.85108145181,8160.741297085571,4686.345539951271,2474.1089170912633],\"z\":[8459.279974652905,2235.040497090508,9202.998123722056,2045.3936592529499,7107.20099711086,4225.652010852656,3279.593878375451,6355.999923093304,9503.988883985574,9883.370749089308,8502.879591820414,327.0104801180984,8933.333649780541,3972.591822740662,2057.3475368364034,4192.174692208682,5978.49398923386,4119.4172325034815,6308.98912366546,3582.7277771357744,8939.664842046952,2471.092815233061,5575.455794466736,1376.9357734934783,7247.836860521236,3007.6504730493302,6031.412602671556,4843.72580341836,3613.9790599211506,8489.220526555146]}]},{\"name\":\"series 17 (F17)\",\"data\":[{\"name\":\"series 17 (F17)\",\"type\":\"scatter3d\",\"mode\":\"markers\",\"x\":[4668.581863883288,3533.586744244165,7654.329178763618,1227.548178442376,9763.173472736205,4356.255370780501,2297.026250016735,6137.832012688097,8399.104323570804,333.5274344156258,4402.2767171640135,2857.0760045665666,6253.607744808167,8626.868395006744,2717.697200325837,6107.730241425144,1072.5450740805143,1613.3195825849455,9542.43058166105,9940.467697898655,4045.9237240256475,2019.525833089424,7288.082816738893,2007.5262806271821,2639.8395503150264,9422.5420690296,7501.485326217903,8598.122204447656,4349.258930067036,787.3993454112971],\"y\":[7853.736333774719,9810.021078111413,3306.7582539012983,2135.241944731371,2101.932271208581,6936.425239932651,715.5468696210698,1922.176645600966,9094.447551462383,914.9220951265147,5670.79600847537,9257.79764515982,9517.582201864267,1515.3108998020937,5091.505612078189,1703.6862004833254,3270.8409097781932,1835.703387098192,205.83882144448617,8066.006344593657,6110.068829774714,1631.3759447185062,2316.0607528441847,1332.6496782311503,1512.1137196424884,6018.424915139295,2414.920657230942,5704.206847944868,2591.6475669364268,3174.3566031646565],\"z\":[7633.51598197661,9529.37758362264,9340.222562083458,5800.322438723178,2471.3861895452105,2879.2504973845957,8459.599579732316,6314.783879556351,4292.782426934756,4481.220874353599,6625.832907973941,5015.979377171899,668.765057664309,7782.135588554924,3147.554107712616,3780.626836988947,802.9809557190881,21.58811135038019,4671.344514802632,5258.895790154084,4499.679580221655,1370.1115896836925,2839.0451985436716,8980.738129369143,9915.728385673585,3423.3436937470974,5616.303704077907,1306.2638531872694,5684.088843781156,7642.073501263881]}]},{\"name\":\"series 18 (F18)\",\"data\":[{\"name\":\"series 18 (F18)\",\"type\":\"scatter3d\",\"mode\":\"markers\",\"x\":[4388.608616931191,5732.91385976237,3904.4212626862072,4689.397849060341,1860.5170874824662,3714.7646058105,7967.188362986956,5040.052128074032,295.7376865877703,3854.3800280506102,3210.828677601574,9723.302513614577,5700.175684708619,9095.197360078795,9007.276201682831,7609.6169504167665,1177.0079208706475,7372.518762318012,8029.307710075286,2262.6626561643416,1872.307055830482,1073.754982423314,2173.894693508839,7052.000868124752,4681.681676073052,4613.645032437215,4898.952445143312,1958.1803835161315,8202.86267750935,7447.756958069476],\"y\":[6576.56587843241,9300.763727728581,2296.107823895741,1927.6492009421574,2873.9921643926605,8481.13817734641,2053.7578133594925,1543.6532275394443,6144.428378111157,1755.8021927023904,7982.228347634339,5306.31499207315,6342.746155233852,4042.139420582476,2764.1719273344956,8285.110331902208,1077.091218841395,9807.521898606192,5095.502462766509,6653.12801056259,4065.4534968762478,9203.915319257472,2781.424729793043,7978.9941228963735,7487.015081704449,3783.9826567904142,527.5633702242488,3962.38476357613,6501.284893977721,9371.012280386944],\"z\":[2676.742238097757,3327.0591589785813,3553.7350730544526,9953.829742755199,7518.918168529512,7165.416199790575,5994.853947994238,1839.1701183769082,7741.219671261507,7671.16045903297,3010.236612546793,1717.8252365795643,1087.0050645029849,3901.739518819448,6892.535458741482,5787.207311179237,6357.298615232891,4979.7955741262285,9281.796371182518,9621.788651716946,2514.918632241641,1972.9463790087998,5158.908667734735,94.22256111720873,2841.070270224273,4583.795703781729,6097.603358340776,1323.7611921012037,1846.1171855690695,7737.146248703213]}]},{\"name\":\"series 19 (F19)\",\"data\":[{\"name\":\"series 19 (F19)\",\"type\":\"scatter3d\",\"mode\":\"markers\",\"x\":[9563.632365266893,6364.925677847386,9950.714691587678,6168.97106044242,2895.4687375133017,5148.20831278343,9830.42353519488,2201.7704213013835,9009.068506192125,7045.9123282929095,8756.391486426433,3033.529283101807,5839.940140265282,3360.068740061822,3266.632525234896,9072.556407776685,3068.965950240834,1015.691722206612,6066.892249976873,4118.0769466500815,7774.131814851453,3791.465445888756,187.03788692716716,1516.51845049952,5308.514042793462,1531.2836408442276,2108.368937349312,7816.014250735417,2925.5828772388636,953.8897872553808],\"y\":[3829.1899415503317,6896.722307414953,1456.083388885868,3914.1942499351203,3650.4498702729015,3072.140161750696,4686.455969540635,268.6730387391856,6840.196913896793,1236.6714660227308,6996.962567798354,2858.584049692751,275.05526475357976,5777.2768251469515,7288.390009222464,1548.5551133045406,9658.883846998868,7672.124202811884,1259.4028510888177,1744.441798894867,3983.2262889697545,966.7274669457737,4692.318365510744,363.16462503585,9521.119867803543,5648.144996812536,7563.288388601421,8838.575158072435,4835.278717751027,3830.379656389988],\"z\":[2513.564879765322,8421.22388868943,9033.625931848921,119.21217160869135,1501.7377413293575,7766.230622238585,7819.594671423961,5042.265987936494,1302.5318229605941,6602.288315877964,5761.57893753854,2510.1868390965733,1925.9545981921456,2136.1569899694555,8645.364324934082,8417.396662233781,2001.290195381208,6770.835516407205,6775.319495189309,7695.959282385218,1703.6367593556556,6701.923225634714,8654.590106452633,1403.6734165847909,6896.386685193482,1005.5155762355172,4601.480359036312,3757.5859722567384,7821.257572370845,9942.303247956062]}]},{\"name\":\"series 20 (F20)\",\"data\":[{\"name\":\"series 20 (F20)\",\"type\":\"scatter3d\",\"mode\":\"markers\",\"x\":[1548.667134022399,1416.7002531131345,1888.1773184697759,9376.3737227566,3523.8458621082514,3772.726127519782,2900.533299601945,5443.5414074179425,7124.850099771173,3525.3019797552365,8397.004427006925,9902.861393730174,7679.2558603839525,1398.194813469722,2699.3845682497686,1966.309919110073,9717.919977718122,7495.562361511955,5726.524656835973,6825.442971753239,4893.864451637828,4502.440520213624,6667.710373329932,4580.171044950532,1542.3662036254736,4701.195951820265,7204.504569258508,5823.61725533471,2705.0700301228258,3605.7636935328474],\"y\":[1128.2824123825762,1748.356707479335,3630.3901778343784,7908.0657740075985,5921.392376870715,7313.158171751251,5514.424185783911,4386.086767744587,7153.075018523756,5745.678850711864,9561.04983735668,9440.658762021052,8386.983334985911,1455.3964104503193,4316.837126737686,6008.087777392631,7705.340929306683,6292.380622538907,9675.851967725348,5738.33075786502,6925.485915306384,1011.3456626143513,2951.3873572286543,9533.510704931854,1117.7476364623228,9786.743258784554,5976.108946137225,8809.135880665921,4129.305611703028,673.4920909140718],\"z\":[7319.0523212222115,3170.4665038818725,476.88626762109163,9019.261053088725,397.3696411289029,7589.051096222058,5191.855218587137,4008.0574950932114,6512.667818350699,3619.5335587718314,984.4627531961492,751.1951949062245,1656.238403604573,4714.407747219256,6439.708208215443,1640.5474213378013,7304.434317982921,5274.475321147854,9865.488966477084,1040.31967935299,8364.894184136629,6715.344970789672,884.4035258721094,6817.398927903282,5936.278201650857,1535.381275261899,5893.781578457735,696.6738709875109,8608.62244475916,8138.095944030509]}]},{\"name\":\"series 21 (F21)\",\"data\":[{\"name\":\"series 21 (F21)\",\"type\":\"scatter3d\",\"mode\":\"markers\",\"x\":[4114.217162670061,6976.53903143519,3658.3813657382216,4992.0506863471255,8105.083260708904,5751.130380403921,8681.671825669337,2603.9180843639474,6346.211581630196,2459.6665347998614,4961.193696669691,5735.425061581071,5768.119267731909,319.5942513350736,6176.749203632288,6312.48328625564,8958.876196112471,5999.071166587398,9946.238944779052,9554.886913996575,4183.899338237972,1745.643383740788,5123.464878987047,1997.537607539539,6325.671540879345,9111.800125400077,4781.025752380245,279.23426121468475,3383.5820446087328,404.4258180505522],\"y\":[3371.0387713343457,3842.643730151588,6269.788472220414,4033.985735571072,6683.380248178222,3019.145096498168,9295.207581175133,9050.621198332652,4910.585544785746,6364.820302385818,4960.4361550058165,2328.1476601879094,2380.5080147359226,7568.942530598571,9449.618728273179,9093.285839355138,2332.2827628265363,2773.8872406444325,4570.970694637879,3796.2804723390973,1488.1001275006834,3725.475810470943,7795.876057219671,3680.386852665426,7112.742899398296,815.3332584638151,4519.177501216336,1831.5405519990302,8754.796958065108,2781.925752660789],\"z\":[5696.484058428307,9975.843937090094,7927.8965100032465,6604.51537134028,9610.019169380785,3841.3431839753407,1617.3192992650875,1954.3528521753994,8672.739845744742,5511.8857043919825,9686.700311384699,9460.005080515573,901.1608435586061,7874.684047851282,2011.5826654583525,998.7929538596396,970.5144882042516,5999.53877295711,8480.984402625676,3243.890760728545,7611.588949901362,9086.496794911163,3885.1036550340236,2776.7210567683433,2516.7837631911893,4480.0574688240295,146.74753334264935,2216.852519714907,893.6295276908323,2171.858444289796]}]},{\"name\":\"series 22 (F22)\",\"data\":[{\"name\":\"series 22 (F22)\",\"type\":\"scatter3d\",\"mode\":\"markers\",\"x\":[356.01415399070356,2026.689405154064,5337.216519558785,4200.108567131997,2632.2172595196457,1915.818234897636,2788.6859903054083,8402.857348072064,6963.993832255533,9099.955295661752,9005.13647611293,93.52405420120058,4867.984116177111,8062.016960544134,6187.002623033818,8400.93314790355,9958.434997948203,7917.912130423872,7192.1673576520725,6252.4332885833865,7334.522847624668,9007.238336326904,4111.770295065654,4277.5044414138265,1069.1492926868518,9909.132365619203,9890.877417484286,9270.587168767082,2022.4154124276029,9726.114861116093],\"y\":[9147.8852377998,7275.6933574959385,2704.93349688953,8183.838790915265,8379.729299805898,9841.688591602207,1980.5866431678521,7862.234247330355,6335.672970957698,9545.963578307517,25.30266156943517,8703.61524804921,2500.6570278098393,7495.538903401821,3147.861988217084,4835.9004333079265,5349.891432392236,1188.4792934035515,8830.704631827944,7704.167785043281,2319.573910239673,5854.814553280001,3663.168124874868,7521.350096495335,284.3248715384938,6195.002592441711,716.5291704326593,7128.951005094182,8740.128756414952,8295.286556410032],\"z\":[8349.679538095987,8501.24108424725,7862.27950765913,3423.1378994573447,9436.223437004503,2331.471724219537,141.02216456510664,6392.294220047078,8568.22879942186,5406.222957796189,7393.298100766103,1235.7386454690645,4918.826062625583,8804.07955580018,4607.193344457523,6036.287155609832,135.29384763556362,2347.404203540411,8296.399295470841,6938.286794068794,3886.2326929789915,7191.062571071732,9825.193933022816,8600.246359113058,4500.870394506395,8949.525934679694,3510.1604502665386,4647.059001146891,8515.506208407704,8343.855195012615]}]},{\"name\":\"series 23 (F23)\",\"data\":[{\"name\":\"series 23 (F23)\",\"type\":\"scatter3d\",\"mode\":\"markers\",\"x\":[5213.056060213294,7041.797414670055,881.5464079280166,4992.657605922819,9609.952718221102,7720.891290004902,7091.541886300526,2676.1717928161775,3354.972539407928,9322.830254141429,9544.088211426422,1170.2247878138428,6952.641801672188,4389.354458384657,3095.4034709071266,576.8821215966013,311.0966631172485,4029.433833783438,8934.852842661745,8971.182660755867,5669.0670957105995,7710.153514276564,1673.6390003797296,3138.4380046969527,6872.7795528072875,5574.962917687138,1850.3364334176176,5194.147435947733,5824.612568537647,3488.563580553231],\"y\":[4933.891387568059,4958.661070255514,5333.551127985656,8869.046148425414,8344.174669312384,9101.29869276012,2568.179336767954,2291.7132556112874,12.11536107993183,3273.712757821935,8846.163611944387,5835.34909292628,5565.904868208457,2719.8640202025836,9589.875593443265,4190.5313718404095,6356.712857407648,180.0483135464681,2936.0060979942036,8660.90449872757,7226.803127850931,7299.000516629951,6707.734070346168,7362.163594248281,1174.9010783357783,7203.175605204808,1241.2023135565141,7159.823225113975,7888.109434472993,1429.8820766480314],\"z\":[9903.770382699318,4185.679792949465,4486.62329277376,3971.0278536565856,49.70718399934459,134.19666868125012,9766.95395938184,8836.809627070226,4629.694449495809,963.876173155328,7731.3163737114655,5249.761500751075,8703.713215996437,3115.004520357556,2255.2940825013666,6347.152123297946,5702.589008098555,9903.990488669799,2372.847161097903,3099.7962823993907,5441.676863371888,7365.839791013872,6847.178126600136,5047.9350954473575,9610.864510627875,4490.141102556427,7447.931417823832,3409.90269185646,748.282079191438,7532.2639741179555]}]},{\"name\":\"series 24 (F24)\",\"data\":[{\"name\":\"series 24 (F24)\",\"type\":\"scatter3d\",\"mode\":\"markers\",\"x\":[2669.6461607448095,136.88612021733437,7550.80613440871,1880.300099848684,7503.34486190522,8567.159042832654,2782.648311336362,7819.603761023132,312.5815470275273,7475.750357036593,14.024205653397903,8460.618145008932,4867.242053705077,520.5807097751469,1955.1002198268786,9082.004039991569,4152.824110648046,7353.690069339077,6246.119223797276,7189.90793624671,2699.8937388777035,996.241147235708,4222.808384787792,1705.5470299213537,5867.859277951424,8468.579406860443,4396.877181505614,7867.102086756642,7769.155967181283,8121.693449646845],\"y\":[5174.615228585222,1668.2516093248178,4334.395925147166,7634.006954194345,682.3034620426827,3954.4972768756093,4395.9819603718815,1217.507508568876,9475.356389602639,9659.765597253832,9607.141694375203,3219.7982900769016,8378.811679573724,2089.5973034698145,3515.292209993167,8013.732199282086,2739.994378888252,5643.562140993074,1173.0938097568155,2833.872925283163,9969.87790475902,2918.367094068829,3297.5123626645795,1049.0984733504226,5407.872298450371,3744.4540848041174,3176.6531815204103,8253.246000958807,8265.472692403084,4382.709194470136],\"z\":[276.09266004875565,2510.7730125482876,687.4016957179796,4844.237251023897,1810.877372148676,3111.9871036141444,4814.584557267834,1094.9784481157687,2426.3218438621816,9272.47660714335,1141.4998580295255,6768.278072422334,2570.183267375047,1353.9512724694303,6431.147091295377,5932.343768261345,8140.7469834299,2388.779670641774,984.0842886736789,4445.854048431072,7559.811822226363,6958.091798663725,3153.680164599576,2483.8117526636006,7546.511912630846,7803.386297273933,3657.9404879089184,4927.062240630717,5557.370120782188,7944.169072452445]}]},{\"name\":\"series 25 (F25)\",\"data\":[{\"name\":\"series 25 (F25)\",\"type\":\"scatter3d\",\"mode\":\"markers\",\"x\":[3458.961799314585,9482.723500498358,5109.928788472651,7529.220093890902,6764.274580281787,4639.108079904586,21.757978947087864,166.6672385742407,5050.0392960144,857.5378166130776,4973.59121131156,3058.1252042065353,8914.26117472366,8764.786645908362,2744.797532655968,8904.731202278772,2038.8940411232259,7533.7129823897885,2971.345579624702,5257.993000340625,5572.903884704493,5125.967722688164,3340.874009384257,8755.93716180635,1844.0720768035624,9619.499756781932,1766.4309819954694,7515.128977185011,3465.5137540227875,7454.899845834461],\"y\":[7269.90247459854,4841.708539258757,7623.593595143136,108.4583083415458,8058.099754365088,1379.6703990539593,5617.12711332961,5436.141739277928,7588.931209711026,832.1886230070663,4563.452320540497,3731.510028166767,3302.033699076944,6471.868861611661,1595.1663993323284,1401.9401569107547,8127.697183725712,1798.3864874415601,842.0187616742492,7091.339085254473,1889.8641449589936,8907.049734148444,25.662407037839728,6063.858429320211,8283.441220401575,2399.402511320532,6590.659414542834,8711.956089798352,3233.1134526740425,4997.060186506997],\"z\":[2953.34918107902,8163.474358288913,2130.3022719283736,3412.552370203099,6670.883737291461,136.2322439121011,6696.867113158709,9486.019926398541,4115.941299304845,5424.9586883885595,7038.595644225583,2114.197388844723,5588.332244911816,1704.223125346379,828.4889024802388,78.1850848115584,5702.910938659792,6692.344081142302,9499.29361628454,4519.095733197986,5363.918364094994,9145.08862103406,826.693530844207,2515.7397477820455,669.0721668530064,7634.300365936668,8349.018439564954,9986.086723739914,9682.43538466653,9615.425250306003]}]},{\"name\":\"series 26 (F26)\",\"data\":[{\"name\":\"series 26 (F26)\",\"type\":\"scatter3d\",\"mode\":\"markers\",\"x\":[696.2884295184047,2964.326242780144,173.28888126737053,4899.2272597568945,8090.860124895581,1197.9207381116098,138.94196744784537,8316.821939466043,9033.895760644695,6964.127858418262,8212.615999277321,6103.475636060828,7506.331759605018,5023.046463250838,2903.238811571672,9325.451836782891,9889.969497453776,6704.314584194886,8022.190097908124,5535.512632684578,1253.775581896296,2267.1707217181756,6622.7477804274195,6766.511751128332,2652.4182873256095,878.6669645895273,7311.175754244206,7958.84085953121,4648.532033650578,6822.397789519944],\"y\":[4884.108547955618,4966.325156080676,7397.147678611764,3880.1885797171753,1905.0874353037384,5396.484984278885,4320.182261958835,7221.767527947896,9053.801158740995,8714.915797868643,4650.833839272714,3592.5193411312807,9864.795349455437,4279.858713574593,9942.180984432556,6106.9996192679,9818.111575280069,7271.870456677907,1011.2406346128355,9535.965553907481,652.5256458574136,2844.8235853047076,4729.187133854344,5617.259428981452,8242.74942543667,8248.297825189626,4570.393756788073,5625.954239731301,6415.174624370769,1157.7531109491545],\"z\":[4897.408079632367,9206.755839230365,9672.431670700027,9997.69974419321,6585.923549851554,4301.7272995930325,4955.241307457446,8654.413758116238,783.2699825200862,2898.9851604581086,6290.744910031697,3648.5664530084537,8345.88925443669,1283.0893438065027,6459.69542881184,6574.476237759096,4815.724194106618,1485.433626566519,6660.598475294049,8411.506506623804,4672.396986395294,2713.0163487988902,8557.094652473053,5174.469703757944,4037.505461288774,7676.5489298969,3065.5800644711185,6293.7268170820225,8009.325142065691,8943.944258300513]}]},{\"name\":\"series 27 (F27)\",\"data\":[{\"name\":\"series 27 (F27)\",\"type\":\"scatter3d\",\"mode\":\"markers\",\"x\":[6773.258316906691,8101.98912561939,7370.650878654653,4712.795759965782,9972.528974400948,4853.673247502565,9539.467681843253,1725.5450609107593,9955.815168587586,8813.971645726657,321.59631756533025,5443.607068883107,9435.6356244922,9128.644459557143,6276.408165164439,4051.805214838178,2737.9349872755556,6421.852703432627,2321.1587533238553,3382.0428236334124,1762.38250765,6368.192795549069,5576.441023547054,4425.218496645034,9611.557320684646,846.4131925754048,4394.719505584579,3742.969085734883,2261.639804737874,9706.122586232801],\"y\":[1015.8449726765895,9795.904494009872,7680.430583499221,9665.13327758566,7357.920613188125,4972.571041102022,7394.225210865368,9403.901081134685,6078.828253930997,3933.4681720996477,7663.271534687712,1534.8627191551545,3233.1854097673017,3777.0102129235506,6146.242476426911,2798.2911259125563,4601.454257118249,489.41001993144886,5217.360846758964,3572.6204289093034,5082.376787907971,9158.040597968415,4945.511265919485,6586.0219011023,9416.862073918446,2507.900045646979,7152.885302452656,2577.3374998956856,2950.90786899468,3463.395672765034],\"z\":[6941.39948470347,7578.307368329682,3147.091502380288,2642.7296719339934,9608.339128759062,2475.355165732689,6118.611935508316,959.7566142241121,8968.37268839097,558.0255345858732,7586.829212632036,838.2523418262722,7757.298058497664,2872.4891785153527,4352.689695666879,6936.11897106238,2013.5706074388538,4372.371533406286,624.3850726161481,8732.125768529213,9116.877958797666,6095.474069979374,3358.044685984346,2845.3637347550375,3508.7245820670223,9893.798304103353,2145.212885316132,2537.668800171022,5028.189307029895,2605.6021387816163]}]},{\"name\":\"series 28 (F28)\",\"data\":[{\"name\":\"series 28 (F28)\",\"type\":\"scatter3d\",\"mode\":\"markers\",\"x\":[2120.31705852907,5491.85220704262,2266.7295908635765,5982.05272699228,2863.2865479415336,8663.644715539476,7379.102855306039,7167.362954300044,2336.9312523225026,772.8517303071692,9383.180570378072,2080.1267327074747,2525.6475981731496,8829.283400163604,139.636348484401,654.9048508281719,2631.4690622583635,4981.608027058935,923.187528628443,8576.928337822215,6435.431507149912,3932.3563794686424,7780.276817234233,4879.123681026322,2746.679209140486,9179.875014644575,713.7823535723853,8569.49175234026,1738.688907816921,8428.115593741664],\"y\":[5143.548236592037,318.19396951124014,5411.439022038809,4647.715233714896,4062.2275726378707,7157.53486403323,7420.314259216697,9476.908178002714,5839.1403381606015,9134.35570756762,6076.975983800461,9918.38347019663,5720.5416779971165,6903.177359233768,4454.392100372855,7618.281782303343,8732.909036936398,8359.768726113443,3217.6678056534647,2406.1057407307894,7916.552838300601,588.633671017007,5054.274958970181,8229.390534879003,4600.061206178082,634.246472292338,4391.727515141289,134.56629582795364,6771.79330187547,4904.69081063068],\"z\":[2467.706421241592,5525.516258182983,7512.836272958466,2377.681648365535,5757.0902116690295,1573.915481255228,7926.546684633949,1202.7860926702695,5262.298585388578,3360.5151147341694,8032.998187376583,1779.9776989449867,5237.811922707167,4094.1092492601006,4692.362012318032,1943.4950333769573,2546.6804596836255,9585.005559405025,7779.448971473513,1491.2974876531337,2036.2937131607728,4042.396512907236,4552.345294715764,3974.2434639792777,9072.626751098669,3220.1056144136664,7441.27702829954,3395.441584628963,7686.643641618527,3952.762080395329]}]},{\"name\":\"series 29 (F29)\",\"data\":[{\"name\":\"series 29 (F29)\",\"type\":\"scatter3d\",\"mode\":\"markers\",\"x\":[2329.5421289463325,2269.05510703173,1663.480103835182,6204.536163210316,2806.551491682149,5349.168474541321,6344.489045437131,4895.142182193965,843.7235250596109,263.148583165439,914.1818215353836,3972.9005892019964,5877.178553857224,2270.270969174284,4508.551226834843,4472.220998419858,2376.8880785183433,5415.195319721531,4608.218842637967,1622.9532086748065,640.1268046820263,6457.218973577143,2869.295394478779,3471.624826763374,6767.791565221528,1130.0500190023465,1796.8044613494228,4929.669878595669,5565.339978283913,4523.181772256761],\"y\":[5479.9677092222455,6681.322074867283,4455.818797270707,8674.769553453694,8985.601383258223,7963.9328561238835,7400.6443643807925,827.2448272822264,3945.3344491451403,5876.045791974486,5294.5065054577435,5220.728145717163,2374.302298382944,1573.6421729272788,3333.9677155053528,9785.628070797638,6823.431640780819,5482.547445287273,6455.03454536741,6644.644924383123,2594.3788703616,9485.06671872038,1093.1792170490316,1945.7247816323343,6935.641140257924,3931.497836291,5239.993969555915,6221.3352151563195,890.3120148932719,1282.2463285439146],\"z\":[9053.863998596522,1205.7682520217604,1780.4038209205576,6203.844682048616,5127.745760925849,2840.996666375656,8189.616675819278,4022.258887766933,925.3448082047944,3062.9424284018937,4745.883392463715,5579.440745062148,5867.683910659255,4883.84596444267,1006.9731523911186,6744.16382383668,2085.264104580037,6272.745892958776,7316.893072769264,5095.757177608212,946.7138791145046,8384.91552446673,627.7758764324548,4629.435030182019,7133.036879126502,2802.424252308976,4971.396476811036,1724.4885880688475,8247.258707438372,621.8231549666365]}]},{\"name\":\"series 30 (F30)\",\"data\":[{\"name\":\"series 30 (F30)\",\"type\":\"scatter3d\",\"mode\":\"markers\",\"x\":[4516.4157907616745,2071.695410859383,732.4887294193505,3461.2817156028773,1961.897700529116,8773.869636065356,2217.106575013794,2758.3295208605064,1394.605215925544,6413.565271783232,6313.9913587206565,9090.686406885923,2677.0296543619174,4524.509887433873,8371.41244302375,7676.492901810732,3935.0594939653647,6608.438460763498,9706.40622329453,9696.57848037623,9778.656890934844,7606.562638031016,3447.16318340919,1630.2356976268773,5515.847798039001,3564.997066581681,7269.152897983096,6407.296999103968,1809.8030991811897,2126.0394292973315],\"y\":[7030.424272425291,853.1344874732582,9980.724788916978,1432.2782067990759,594.70893299156,3639.537402285771,5468.715858609614,8048.082164770795,2976.674095312686,6753.24608292734,5850.757816856029,1583.1042360694037,2351.858740919569,1355.2490398744499,244.38128468541544,4845.005370041941,1444.5438667821597,5827.782052187943,8932.557997107011,3553.6910222364395,340.0013417251668,9792.289591546258,5608.803468719939,8916.921771941576,4863.27241757909,2930.445124054859,9768.432465263757,9697.244504401799,9324.831002885652,1551.6465191182506],\"z\":[3461.3554572766657,7792.764559016537,3654.188859937141,9024.238533368565,4873.767258296899,2809.3598077144734,2725.701123982276,8424.037079745749,1020.5222624237764,6619.515252253478,26.5376720997168,7052.560896967758,3206.9538806482856,8483.033054561449,8724.986073525355,2838.702934851156,1858.3400401385131,4947.454049879057,667.9552659109534,2061.402077695975,1817.1729500377353,6451.102307579377,7869.75259384544,6317.207380361203,5272.850661594433,4319.243139818406,1649.912950183794,4205.447186591163,7115.345970700989,7673.925623498254]}]},{\"name\":\"series 31 (F31)\",\"data\":[{\"name\":\"series 31 (F31)\",\"type\":\"scatter3d\",\"mode\":\"markers\",\"x\":[1736.052874163896,9815.052350790997,6693.880806525896,9670.65351064677,1368.4396006778577,5770.906341457836,713.5690012396434,6430.111982684845,4726.152621302065,3333.922254176475,4317.457874360889,50.75253464453478,9840.432765412768,5847.879343612463,1278.340978435456,9168.116575169666,3569.0055575901415,4687.373206003931,9664.177281240418,6669.35979905246,5175.8751669341245,8785.07028329851,6342.896962436926,4376.511365147878,1594.288494998769,9802.7756877137,2256.831575970356,8779.587192538691,546.2657027868268,5059.661906114009],\"y\":[523.9612253389158,230.747555638523,7350.307446479022,9442.324206037672,1112.615570495007,403.2745227704149,7469.579298109723,5695.164229407469,9088.232609231585,9274.217075496348,9636.089296062817,9725.92771569479,8245.217843432438,3407.132276259198,3732.0679153559367,3860.049550664976,8313.911636815585,1891.4300829896947,3517.969265191987,6338.792370047425,1872.1146749059747,4937.4054040761075,6767.213573279986,9779.985580129458,6592.5861965023,2831.1189608999243,4400.98951639193,4806.50835058601,9522.37326943908,9720.870266146265],\"z\":[5812.149181968913,7596.479659238862,2716.7853596019286,7537.079911397229,9725.418014170995,1720.454798536477,3740.2848700021264,239.9772021086144,8661.856183413387,5304.747659769328,298.5139046872476,7544.569852711469,358.7041018485815,4296.334673963625,5580.130224135767,289.95004188672846,1341.4529417508602,1403.6173215204851,9764.082098624802,6700.063541870969,6253.179094629258,8148.651703019839,3587.400016896135,9925.657780671218,1516.88801357735,4390.281933108925,1870.5412977046765,2462.190339161471,3439.8176770736345,5663.941611241326]}]},{\"name\":\"series 32 (F32)\",\"data\":[{\"name\":\"series 32 (F32)\",\"type\":\"scatter3d\",\"mode\":\"markers\",\"x\":[8461.774147156928,2306.067868814419,8964.347101559302,3732.713890189555,9189.03835373861,9041.658295292997,1928.3711619980913,9855.572560256089,6097.179705298788,5444.095670785709,8918.690280433726,3452.5523220373598,4500.401549226003,1637.9822202119888,6584.184748169635,1082.9231860097277,4194.233540477744,4369.661704356456,6621.22822412223,1951.2770775240851,7548.270524916952,3530.8236380639014,5552.013037577614,6517.755018518392,140.38696582321043,1713.7697985526445,3887.15379952974,4212.481100754006,4095.083594424075,283.7589147145869],\"y\":[3297.143490956986,4740.588202795678,353.08228955336585,7221.417409015186,1012.9375322361245,5013.054157945542,3726.231109416196,7818.2863680620785,7834.143795978398,349.89543831759005,3781.2355166087573,9201.152197881403,9844.002937122446,4276.089126259032,5347.694454027533,3615.8848477510073,4213.541858204295,5966.926260422045,4760.355281321012,3419.0869363915567,6322.991038703963,8198.326711883827,1822.4752341961248,2805.937202224471,8836.754612743742,1518.9724831877038,2916.6125792348685,7445.1834845726635,3338.9302977289913,2284.946306312172],\"z\":[7691.133570012894,3397.3292570804315,1669.57518626903,3183.8892368685924,315.1744133385093,959.6211099531182,7197.619853205461,4924.519369653671,6421.743260544739,7411.539883335842,5924.532893693222,6878.683537016397,8548.110632908149,5027.0598251545525,3533.5441590594187,2636.93670070226,6134.579823486614,7175.031363955268,7282.437610828469,3674.982061652049,957.1898369366727,5846.612143669301,983.625061942135,627.1199476392575,5246.852084832426,8528.754370648492,7223.420399621043,7024.192532310116,7686.875184974249,985.3337101524961]}]},{\"name\":\"series 33 (F33)\",\"data\":[{\"name\":\"series 33 (F33)\",\"type\":\"scatter3d\",\"mode\":\"markers\",\"x\":[3443.1299209307576,4777.334754054655,1982.789968158435,5212.579665020304,7537.785429055793,4175.168512672433,3762.8323365661754,8603.050004333261,4224.043827295893,3710.9117963509075,4194.401766412208,1182.4697184898837,5586.982162599552,6667.192244131934,2891.263118830706,2676.325626066304,7936.221321331412,2060.194224798484,8438.211683155652,118.20094945265592,2385.0130787935896,7281.087641683081,2174.3772178679656,9729.392839087739,8411.628272123084,8571.519626952553,9753.293235835152,3879.4519327703947,8070.588652579497,3331.2760578231027],\"y\":[5437.313034851048,5079.850425850614,3491.9867095480995,5180.050778869182,6085.906849335774,4168.065672359261,1840.341064172475,8681.584628180468,5361.822759205262,9106.9463272543,0.1372231898255638,5687.267996696127,3806.0584989912318,4154.304048676365,5913.410672746387,9367.625692513437,7122.03034103501,6550.254002056137,4715.426576559236,5173.935044396672,3261.2888488936674,9324.901861322274,5597.717094273592,208.55211290614628,8717.579873895857,4346.558736494316,9673.440143196343,3781.350739629319,5813.004901797586,9310.736566903308],\"z\":[28.226611103937536,2291.0085474270113,5699.482250507435,6012.763168358132,2610.383758305065,993.6999271752856,6300.6717275948085,4951.924038097483,647.5297642826794,3708.0852147103983,483.9745477666535,3082.62669141267,5872.433921942566,9054.314397314765,7379.16920860323,7358.15324031827,6999.041377732342,8436.089662872198,8949.706634673623,6605.149271012755,9610.365641282291,6648.659430200596,4674.632486233356,8222.073802704515,1903.1339595718798,731.9489641789568,9513.562381478192,4212.41456033064,7579.771260036298,6486.853786915507]}]},{\"name\":\"series 34 (F34)\",\"data\":[{\"name\":\"series 34 (F34)\",\"type\":\"scatter3d\",\"mode\":\"markers\",\"x\":[4204.086486199203,3143.547219162355,586.5193374013378,4934.054198096666,2380.4340614788243,764.702326491633,6367.180978166412,2918.5405418951195,6004.1846386698835,2222.5737935422953,835.1892493079661,3049.358526551791,9162.256951252688,3080.68529955956,1362.4025077891156,8212.919036094467,414.3704406729065,4678.711056566271,3741.2284808232766,5009.544523826737,5561.620858103542,1760.519485090758,5297.385725526336,8636.74782049381,5959.765495140385,6754.792117803403,7113.8114931044265,8979.070351288816,2315.2686352443284,5609.644766832058],\"y\":[7671.929990724473,3963.1372884775938,279.10677172854224,4662.758562722157,6124.697697191325,1597.9084277181432,2092.7949117281696,6671.104169729205,5886.544534647953,6543.938811944246,8043.035457202982,6829.421499018224,8258.535053014171,541.7881970902538,2545.857854359529,6374.197492234057,1402.7740021342183,8578.54483284976,2308.058724909795,2199.959178263948,2138.2861794273213,4282.7591032705195,8203.21517694243,5807.279391710569,6751.3030525893455,8711.91410111756,8251.489696851419,3856.969788967629,2296.0894106590026,6432.879338505846],\"z\":[6406.899672789122,5622.516216317583,1708.1517292821468,1594.6321147749732,732.6841711724985,9712.884941362057,4459.866228737998,4553.850722001661,4984.842431108033,3580.412635743905,9459.273641170792,6537.819239615354,9625.882145289475,4533.563110562899,8425.988028827423,5815.4053499755,1855.2616208976046,241.92228966789742,6073.869634795299,3895.7027482280205,9369.96801360339,50.869974026591656,8088.31670176475,4385.2625108300335,9258.123289331312,5815.953282799636,9106.732055207984,308.65847566673324,1680.4635049998883,2422.0617061986914]}]},{\"name\":\"series 35 (F35)\",\"data\":[{\"name\":\"series 35 (F35)\",\"type\":\"scatter3d\",\"mode\":\"markers\",\"x\":[693.9277439073088,7933.463369482012,7808.9928778243275,3670.080882732706,3649.926536528133,6439.543025464648,2869.063439279841,8793.78226410169,9895.831347157866,3133.8987107402927,8070.585318377458,8512.282794317873,6654.129326819421,3336.120956667754,9716.028889265188,7228.4876720151815,9673.003681042386,2545.841790623603,9837.327719523017,9751.505716001191,2839.9302916260363,6052.405277891555,340.74849827567255,6751.108711526429,8688.038082767544,7758.298679784774,1828.247496357287,3044.8777322749265,8019.412969849258,5661.720670961966],\"y\":[9015.781422133994,6773.766440714529,7152.733806053888,6179.987328368216,6983.499283431953,5539.379494514794,8148.327116212685,3294.3032252910475,6369.694061005353,7656.351576217184,771.9301820271307,1357.7607912054368,1059.8399832162909,2815.7844975209446,4929.1629433295,2332.248117205296,8924.004571769563,6660.7798522633075,8835.899000086023,9206.284129041824,4720.368343640556,8042.684011739429,1285.4427211373797,7394.619536917764,4409.54412248204,6056.738190216571,6031.612424266668,5031.778413042724,1813.8383429265282,6348.40630792929],\"z\":[2527.539468255069,1245.5334777978521,1807.5510402902228,2636.731035998292,43.192025958566084,8732.646638184291,9038.86195565178,9918.644467653327,1530.3369774159191,3258.026722054579,7560.808826018501,398.242518498656,9511.857217067703,8059.788788795208,4688.30975868981,1827.6047260376738,8743.043219212408,5566.524500132313,1900.1403869920796,650.823860850449,9425.682017243258,2319.4248106624837,6669.2269626293055,9110.48643642856,351.46950366176765,5540.719636394134,1731.5707279115754,6305.920729098832,3509.4744904555077,1401.233254508092]}]},{\"name\":\"series 36 (F36)\",\"data\":[{\"name\":\"series 36 (F36)\",\"type\":\"scatter3d\",\"mode\":\"markers\",\"x\":[2493.5717626927944,8085.110744292022,413.0876673441841,5713.674987839557,9029.47201597071,9607.25255784456,5685.090243233116,7514.620545453512,6435.094116298592,7430.50347204949,5285.1790812339805,4796.96146689114,6181.001695406931,5059.556376725766,5172.4936492951365,9515.931698017008,1547.6626608501276,7030.251164840144,1166.385139272048,5915.646360723144,2227.1483872412346,1813.5059107170437,2301.878416403319,2209.4178037897304,6740.356016251462,3088.4391516642595,8071.975630503169,695.9407363938797,6445.694684775077,2264.6218308721955],\"y\":[4607.158999501669,5504.768056597438,1604.6270052969069,2525.9852819861994,6063.143984274201,338.3223578884553,8221.413145222557,6123.982363867472,5271.149169834669,814.0248460435595,4188.8570050090475,2165.181246989317,2050.6434816368114,7308.9426808161425,4648.805854644491,1718.5487213613526,8492.735593326559,4570.688864676548,9415.609483613729,710.2553690788504,7993.078414339726,3782.135170432934,9812.69932170837,8778.91805930055,8846.36056724476,1253.829704939211,8336.895540383746,4031.7675022263597,3810.158100572274,5466.831646088358],\"z\":[2192.010367353068,9472.313287287721,4204.129442527828,800.0144790783736,922.7654949287911,6762.649554222779,831.232432709983,1949.7051643658347,9131.991711144241,6938.628175087586,4290.850398795912,7785.865840353285,7578.538523599554,5713.704434101984,4099.415450613685,7187.846367533053,9830.271356777323,3087.332978567622,9442.320683813787,2264.062609273343,7085.9814838570765,3116.3758182148717,4351.614349134186,6283.7914370426215,782.0008105076248,9913.060000725527,6637.175552592115,4635.594010674516,1163.7504888971962,200.59937754747793]}]},{\"name\":\"series 37 (F37)\",\"data\":[{\"name\":\"series 37 (F37)\",\"type\":\"scatter3d\",\"mode\":\"markers\",\"x\":[2994.7728720655678,7175.708206170448,129.41900790123694,1087.676023733143,2372.606343799013,9441.083929114722,8342.408832072757,4115.551212524395,5898.644191519163,8375.557602956605,9861.150335447492,3086.658121922591,4454.263407126907,5453.992537613034,2349.3313216305623,3701.1036163503754,4325.403789583226,6388.041373378718,7306.544740013801,7607.583293417206,7270.6584404196365,1958.5113346839134,2698.8095938812316,2117.800709381724,3816.4151315603544,8943.146922929107,9870.3755559688,9538.543726467251,7622.373531048677,3594.963638557177],\"y\":[7682.670029940826,6843.168759446149,4356.46349052504,2675.1058144611616,9453.205948681043,7234.303279093587,676.3940680466862,8655.520687576194,2456.7162364592286,42.170079818165675,7635.764826534769,6380.5726626568685,5502.736251457904,4358.003933361254,8115.8751291672115,8213.049940519155,7418.309876142504,4819.616288344225,9730.068731021523,3488.8431236493234,8141.445255300308,5046.238175415164,3055.6564977219978,5965.903714179211,4570.401584966815,5362.351533058178,19.161818156464562,9876.918688727656,5315.839740194723,6655.296137105663],\"z\":[8793.834795777659,1181.4643794192436,2067.324793315619,1479.018264031583,9664.088860081127,5662.233627896895,412.6197193825687,6846.403971876809,969.7106452779614,9621.25522161256,9637.663368373895,545.22025461884,5463.402145617196,2105.8546979466573,9287.078677217467,4267.762971297375,5198.417332016724,9830.43281415625,79.50999283041659,2361.8913540222798,7408.750324377961,7258.967396179254,8149.044707428598,4591.202691157774,4752.54955457984,4674.470532509127,4523.420609286381,4934.685940935907,760.1214627244312,6485.461684131091]}]},{\"name\":\"series 38 (F38)\",\"data\":[{\"name\":\"series 38 (F38)\",\"type\":\"scatter3d\",\"mode\":\"markers\",\"x\":[6251.680118767018,6161.261393309001,5361.099105710455,505.84793985392065,1658.3847511478712,1682.2027639426128,5961.052244041443,6493.426864618616,9828.449214649312,2014.5059545797194,6696.014801617095,8843.557087445926,3616.120740184915,3080.85374258097,2214.1152830619726,4008.372187227194,6223.567417932906,7526.902537290823,2616.694624265884,7948.238002056206,3709.006407320503,8254.190383331901,3036.996561220744,2720.9823440335213,9661.244353163824,5447.052482383571,4742.727615694049,4175.75805435604,3716.962885000019,4514.500949063284],\"y\":[4619.476666398899,4642.221673965116,2599.0339829254026,2573.105241221284,6425.193414880065,5492.045021959112,918.5984769199407,5364.492153769864,301.6285145930964,4498.600037383635,9110.602846006854,4831.158113214918,6686.83466652762,2031.9881684390994,7561.930376983687,9966.86352925753,6993.542033121102,8300.412018627165,9243.230611607252,12.961832395678163,6201.412949013605,1085.2182696262491,7969.990721722843,9589.591886393815,1856.8910906004799,9715.762194580808,5795.353475753195,9930.736629184392,9882.563823386336,6391.5820260877035],\"z\":[976.636759708368,9034.736178242061,68.65263177181168,383.1890955862027,7459.464837663146,6246.916841905302,3152.4597880190277,4129.1184403338675,7887.870653614567,3558.5744507540585,6987.292035804322,2795.7003732418907,4775.685495870235,6736.635037287533,1460.5953251944736,477.35550338204314,8663.985494710767,4290.886243076613,541.7271148469549,6889.031279864499,7841.312958959153,1240.7567854619183,5123.007369080059,8138.734992737011,1517.8495274485947,7661.194730850085,2163.3821637595674,3966.940240761376,7221.667549652712,9067.28040145771]}]},{\"name\":\"series 39 (F39)\",\"data\":[{\"name\":\"series 39 (F39)\",\"type\":\"scatter3d\",\"mode\":\"markers\",\"x\":[4052.2426246542677,1700.9793305772537,3624.639874007574,6839.776982665353,7081.646042409203,4096.351612427887,2007.5430344586143,2098.9136182707425,9448.383353410274,4223.215978304511,3138.339321088862,5701.259230760442,7303.046372018383,5605.160525407073,1464.5775949668082,364.63889580433784,2021.4476002519389,9928.665046100898,5210.307980360502,8318.606494698752,3094.4506232006984,7815.511320535228,9219.853990595077,9333.081044388082,8815.470932553639,386.71103257509884,7205.242714291732,9495.320106348876,1290.6093809203012,645.3620186194797],\"y\":[1431.046293495184,685.4886436583274,3204.5878264676007,4067.163255554801,809.8377034016623,4343.65716877368,1246.3523404931875,7211.147300846399,2883.422268934598,826.1425629765373,5131.421336072147,1649.5244734965609,1229.4556938986057,7416.68080348289,1753.750457221691,8064.352067438714,7460.012746895872,3888.0032876867244,1158.0955296599705,1970.0745682502352,6168.126356473401,4401.958571418139,4744.555921367169,8194.81036153913,1930.2659243996056,8491.411176951977,6400.181489428255,5989.5845418182535,9787.181816763667,1884.7157614562916],\"z\":[4098.2334555581265,433.5385220886789,4502.492207345983,13.649345814570335,2913.8908373291206,8664.474030840349,9337.84169043298,3188.262347410362,375.8945318329476,1387.9178742192155,2085.4179039098685,2627.184265795126,1606.8301910453843,1104.2218544969917,4663.061036143213,799.5008288544781,4800.447930908658,8542.038577642346,2704.1565820341075,7864.395788332073,7242.625073926324,7897.846003311773,3263.954527939481,8387.330254979304,8303.27771933426,9655.017035827952,2015.912454248272,8966.608183603992,8609.730929679345,6992.26191399373]}]},{\"name\":\"series 40 (F40)\",\"data\":[{\"name\":\"series 40 (F40)\",\"type\":\"scatter3d\",\"mode\":\"markers\",\"x\":[6126.107801634338,7921.758042646948,3957.7631847071625,8090.099007995227,5370.727657095591,2775.236059704499,8424.738946088379,2005.333873177968,2001.087116042306,9901.53347224144,3619.9512830705817,207.36194429650135,9362.585627726883,3422.8565311947846,40.49411503750488,9356.430704885519,338.4650636797126,7198.111566757386,2096.694872071745,3452.8286117109465,9316.18326450812,4582.021725520919,529.3319665119157,5097.299764996932,5563.669224949991,5523.766080600259,4661.570338736833,6276.803072336845,1654.6857878339872,9529.62143169911],\"y\":[2211.753266499863,8826.070472066358,7896.968743714593,6031.656503744841,6238.883946634754,3514.2442853491884,2593.774082267609,784.6110973430842,7200.843488996736,4567.199386113857,8408.911753239941,8055.6693723472,3076.084460093399,3359.988021782232,7107.299255762697,3576.9162450355175,2032.7532972968743,1000.1712684723329,8507.52483062448,2497.8399090437774,224.88831550246059,4571.628712619289,4609.8554636869685,9905.326800484134,1953.5493034658625,5919.7671657513665,6552.588377271729,8871.170186213698,651.4355679186879,5032.876613215185],\"z\":[301.585807908914,2442.1917329121334,6932.7517137079085,2310.7117903259623,6792.29917801919,1505.6554233732722,4295.786086757307,5310.2003399116975,3620.529750963558,42.72936276872641,3973.867159945622,5919.514891196985,8317.633365936787,2925.330365147886,7901.068044803628,3335.5674051566143,7747.829016227637,9116.763662703643,2792.231760704841,6706.315087835189,4229.721268922067,4904.14891561218,8932.593464240754,8848.096755794424,6611.101680718571,7620.700342269445,4430.476958452762,9059.543170535591,3715.5492277510193,208.50949698433706]}]},{\"name\":\"series 41 (F41)\",\"data\":[{\"name\":\"series 41 (F41)\",\"type\":\"scatter3d\",\"mode\":\"markers\",\"x\":[9407.251448317103,8727.435717321867,8331.297631651527,927.5541598826064,4881.928333604658,8156.21505352767,2227.297254008541,534.2378928550784,7953.492297727755,6851.670356887369,6558.347403048955,1332.8405819549505,8292.253146097057,2350.6650513745763,7460.628288109624,8645.840714489435,922.2157480365212,4612.587255763012,3640.9194261820253,5454.144499325099,6809.666283202053,3974.5371899932793,1327.2388944107904,5225.842218957386,5868.872876428271,721.0954805506664,2075.5940593538567,6282.178599360868,6654.008650847099,3430.841125009496],\"y\":[616.986483070614,3442.0169470791484,3227.0994589725665,1435.6208578922592,3180.769505309795,9141.141347147472,2475.011039876176,3964.8900062502967,1544.902821153018,6740.328749272873,4494.186824915258,4846.289016043812,4440.613122685213,3316.1932091027347,4570.052810650935,6994.929021756608,5878.409444172839,7871.39246708661,7748.709255777803,5347.70490224068,9464.367651840652,3605.854441417443,6031.732823270281,385.27039549657525,8840.043314967048,9658.266826845529,3820.6141992983935,6933.1442706381495,7006.326532047047,8557.147472504592],\"z\":[9395.560243173428,4544.743944691053,1481.0106507710852,513.3942916556622,8934.09322840751,6442.968202516083,7991.791779178547,4641.2871273498495,4858.0816808294185,3733.2802375308584,2720.876594831447,212.49784380541035,2143.5423249520227,400.07473792145976,1994.3242050331312,8127.736731058012,4635.753710888461,2459.432551470654,8748.704108579841,3933.2481341261373,8382.926214610812,1565.1992019781546,7109.601459095312,8914.440566550913,534.8765589458326,9351.65698255906,9980.958924914154,5066.515813230463,448.85764239595005,3844.87380326491]}]},{\"name\":\"series 42 (F42)\",\"data\":[{\"name\":\"series 42 (F42)\",\"type\":\"scatter3d\",\"mode\":\"markers\",\"x\":[9671.194195401724,3072.0463278690468,4302.898075799486,3386.158470611792,8271.486115501919,9808.015701161232,5737.706836723112,6684.862930368225,2753.574429713622,3359.928416561381,2831.405202962428,9854.115757693924,9568.876528261886,9038.162453247178,6057.04929473043,2581.8836064240513,4907.666911197701,9471.825499098188,2781.108100503301,5951.101314862523,9716.532745758645,5497.944453204042,1331.7687014513635,3846.4250690634017,3074.25735030185,2268.9057804946187,1699.1386858303904,8371.503368677093,3590.7476797653326,6768.632089504303],\"y\":[525.1252761891889,7249.47879822091,6120.569593625964,8758.070208330155,5198.967189870568,7790.767627050994,272.10835845582704,7063.130647827147,5595.102409890965,7685.992586692434,7945.325512968604,7073.30937203165,2273.256616613245,7618.266804526767,9445.537797963983,3336.791665931853,6806.34285544404,4487.861540522662,1597.5953035070834,3217.9217039019013,3309.960724127596,6903.614428961417,6724.286397184256,3725.4943993765323,217.9911344890806,6519.265357277853,8354.758887331736,3825.411205453075,7881.985338517347,9779.231998280065],\"z\":[8093.18701414999,8818.811318931223,667.7484307836812,4687.1699101853055,8204.882317495829,1696.8740191604227,1880.719140461995,6321.985000708581,6166.483747253366,8776.066978427258,6072.458347344062,2999.7995804682587,678.8283141799357,3372.684395097616,6063.749787001063,2216.69694164936,3455.5498462420032,1793.1082717112613,1365.5324051021378,1805.8979933287544,7477.408478916766,496.29794073684286,587.0769471340886,7104.357561163142,341.8055958200783,1927.5913196263673,2891.528221381627,9347.585313540743,838.8946048416967,9227.980244683367]}]},{\"name\":\"series 43 (F43)\",\"data\":[{\"name\":\"series 43 (F43)\",\"type\":\"scatter3d\",\"mode\":\"markers\",\"x\":[2592.1355061897343,3997.8353537965195,7950.147946004461,6790.604123276079,6578.19542991236,259.62878753045925,4092.1959583627463,4466.274515796767,6417.940145007692,4647.906476898669,8618.205935813392,8112.434024289495,5706.298033855544,2147.9349114237766,3341.020918790739,8135.0208733227255,8508.66551746224,8242.415449079212,9156.734504002041,690.2924773265728,6597.528030041715,3880.079390396922,1724.3296278059572,3293.7416000398202,1586.9709226911589,3321.3757761430197,4596.457380661249,7725.811316442766,3040.823540748282,1720.684982443792],\"y\":[198.39625881946543,8329.200449191041,5163.388389424624,5290.828215833818,2616.672919992451,3060.1211579065766,2777.4011503178076,1944.4597411117825,1285.7873345879777,7985.954266012205,1952.0795670048974,4418.264595205035,1350.935430720257,3314.325897571926,1864.8170985542279,1059.710593196731,4736.573287530133,493.7027049469833,2263.279222904362,1692.4310921536223,5765.124746868587,5443.185211997572,5240.370380959426,7275.141711210849,6547.083341887556,2549.256166005881,942.7340940939877,2430.326420021679,303.21458370507924,7709.817158770354],\"z\":[4304.157266846758,9342.75209507362,5281.516963370849,6410.927358829856,3928.4527314013762,14.201599738463688,7996.054433236442,4589.2342008348005,4842.093191120366,1409.6433874614356,2141.723818079023,5863.164308235924,3995.077691913719,4641.380111168872,8728.47681065813,8608.524228745237,1109.2122013091487,5011.553603864669,3730.4663058963993,309.2328175086423,7756.189832606118,4469.705331658377,1860.04214744948,4631.490427183543,4393.557456952605,1840.923554957018,8953.474598498737,8749.765979697406,8494.862691267337,9041.432786841831]}]},{\"name\":\"series 44 (F44)\",\"data\":[{\"name\":\"series 44 (F44)\",\"type\":\"scatter3d\",\"mode\":\"markers\",\"x\":[894.7332170234323,4595.560740094888,6880.974527549357,3422.315442121897,4005.6090667364474,7904.987635596369,1892.774696246684,7368.375388304806,394.91295324393326,3208.7807062787433,4141.122103752674,6327.989882200097,1886.4417411602262,1238.428039219165,4228.193838332817,5561.116873484892,7834.857175191112,7614.702282432647,2055.00896229734,4066.4582346002776,5390.568635718895,8139.937511858147,5113.146942130724,1385.1049751629153,5589.1752589234475,6532.979519759632,6504.372916929294,9276.819690586153,5017.965695981883,5025.818655220323],\"y\":[9340.086158590906,5626.437375263097,751.4309401692865,6883.486616863171,6643.2130545139835,2361.6987312832425,5749.70266060774,2613.882234177435,4908.36474155122,2650.1517467947065,2978.274873086599,8401.766160302539,5071.787635833585,5191.592041690025,9134.32484069627,6131.24290377982,6800.834804451203,5033.834056241334,3054.404034749799,9253.626577305324,733.389779812903,1013.4399656957194,9630.215988158632,7712.667863192737,8580.87993964321,9659.355610666447,7373.6580358805395,8156.693259248698,2854.2153223408586,4196.233899069507],\"z\":[6649.255610504214,2747.2882782112774,6380.195619977591,5145.554139428462,6031.564968789753,1016.7345410745743,6746.632360724169,5946.472395743453,6247.083530649616,4431.488715680931,2347.6275083714436,3004.6679791636766,4724.65080185556,2586.5678148141224,4796.16799252723,4626.2779058945725,8905.281696387301,3285.7851020321773,7129.382457683292,7405.339173470926,3151.8241319404297,6155.3612254396985,8452.52243038704,1806.9881877469861,2350.788496810825,893.5042885877975,3450.9253813412697,924.9946304621459,5113.147398345795,6776.145391433812]}]},{\"name\":\"series 45 (F45)\",\"data\":[{\"name\":\"series 45 (F45)\",\"type\":\"scatter3d\",\"mode\":\"markers\",\"x\":[9544.924585946865,7691.0322999428845,857.8576019909656,9619.078343554482,5370.871487134975,6174.422416211362,8001.310467526843,6039.343669253212,1742.1404220846027,2034.9076750948093,4977.870995264211,2563.765833793564,277.18876825205797,5677.3498685747245,1881.1138923695603,8900.136521664821,5477.447645038862,9206.064679595105,8142.324100386619,516.6116516605501,3196.022702661335,4887.841279966361,852.280362955975,5567.470371776742,2158.887961102928,8506.518960091162,9084.289767188058,5158.4590656185555,5483.455298208682,5728.324292254236],\"y\":[1890.901876137101,3962.525683177197,5985.111587076724,3395.9964170803546,1523.6768573114746,276.8253263979148,2470.511403102943,531.0595486111636,8864.838235113064,754.4545734988251,4187.123227490185,5747.429243388178,5061.596526665689,5249.455475982567,7131.724046629105,8765.864608130307,1918.3773120663793,1481.202031268941,9016.245176363595,3767.611518767944,3729.1459112061175,7554.364126573544,9347.572698341442,1436.9046563835152,4921.471120425926,2763.2221609502626,7298.608768175109,4715.8289985894635,1135.9234302589716,3564.179484281126],\"z\":[2831.1056890332397,531.3652645628252,6178.859247394658,2117.90360053853,5876.485141935219,6053.2759836976265,3663.5895118226813,9382.601247341152,4289.059117113876,3402.8147384944473,94.3936188128225,3382.5127799066954,3756.7716839389795,1156.0686194960633,5649.781813161497,5980.785983054809,1887.7863894162995,4472.0739178687545,9985.87324126327,8253.473858127885,4286.9423563809605,8224.67205619097,3007.6998587120484,5391.471091706715,2594.309602478608,9128.401190493061,4745.707587356414,6949.790953228765,3178.776861793399,3522.5480615354786]}]},{\"name\":\"series 46 (F46)\",\"data\":[{\"name\":\"series 46 (F46)\",\"type\":\"scatter3d\",\"mode\":\"markers\",\"x\":[4226.673309518513,7218.651185178062,462.8040075963169,7213.808868277138,4542.71510843304,3508.430385018412,700.1812463351065,2576.8422316431793,199.02036706102245,7220.6176159805855,436.8322046128481,5973.321148449846,3260.373379954161,3719.472195228847,8855.411092095464,5473.917316705348,6818.515964616825,2224.17580399202,4737.635358937149,4853.987795060088,7866.830120530944,6208.845908897478,6874.010870016555,4882.548454419262,6795.777068582713,8127.852214205868,1408.7983102733626,7035.463838766267,7411.992558439353,9676.46047177987],\"y\":[828.7818701964677,7937.592415897572,9635.8797510092,251.90093891037657,7087.598028219823,5074.971143600976,6847.000884799689,1797.5428061824693,5703.0898224852335,5616.941664977115,1223.5207946988314,7792.927325545003,8573.350122553957,549.4495310119086,3361.405278922417,7794.997825730091,727.8273808512215,5744.57988055132,6961.0355863926325,6640.9361449576545,263.06368292419836,77.71636460375375,5433.351574448202,9190.598912534011,1308.3416158540094,8252.544601943962,4904.583941810032,7316.620176689073,7024.71982631777,2605.439976202086],\"z\":[7288.097808498368,5742.827583234111,3361.639230009943,3834.6175957561413,7843.818374781075,7286.700058768903,4578.483258449963,5335.745613146598,3960.1617305747127,6079.16680252675,8384.184185240558,9624.548231675202,5770.346975776881,9415.129266993063,1956.1623019495466,8188.262044149477,4654.424866186146,5030.668831320203,70.59725344044753,8031.626367858151,2680.3007182114115,807.9741025914755,3109.2266229801803,9169.424597899899,4601.494180516567,8176.604079786094,5803.571806825674,7366.418154511144,4156.320859593376,8809.784862935765]}]},{\"name\":\"series 47 (F47)\",\"data\":[{\"name\":\"series 47 (F47)\",\"type\":\"scatter3d\",\"mode\":\"markers\",\"x\":[7235.699226759504,5536.843889337481,8102.642541268911,6607.005072420319,8835.318264825793,5389.472837121506,4674.279161627774,3409.2674036437234,9896.231879109999,8140.5560822814805,7959.634762946809,7410.919073433455,9480.848608454131,9415.816724678702,6080.038475213041,7812.070000131449,9489.676575695568,8823.963868832789,8984.75469476175,7898.182511008667,6143.415241564506,9108.046949194859,1181.5742375429418,1438.4959835686639,6158.4697411643465,3267.2839397297003,5786.345275327824,4062.5256078465045,9492.414641353611,590.834401832937],\"y\":[8901.76092548628,2103.9559417010214,2694.1341057536506,4156.310796626764,7525.172024442885,6293.82475237716,5614.070450046243,3019.6516757027925,9937.142447831657,6639.97256719812,9513.219337420142,2059.3106688208973,4836.927334042085,7847.312135646644,6455.206077593575,1236.536369208715,4367.995661470946,1713.5482932065515,8273.987196615004,3894.8578440857173,6616.182079814892,4077.5562394497556,8380.421541827454,645.7037173635293,5164.99995913844,9102.710363388604,1204.1567038316991,1373.4265055859996,6857.101245019293,2945.023967315006],\"z\":[2162.9855844764147,2941.8195755051,4037.8266586335167,2186.0463818524036,5710.022016086134,4295.548670899667,4246.234622838449,9803.04061161756,229.75756596896213,3823.7477973361356,8570.95942751021,2904.0388062721954,6337.254851672249,6089.353336775985,9702.694892970954,1972.9558407221614,9480.44712269177,6326.58355326376,2092.0582065628546,950.0164214935802,8653.70259473096,1470.296308070298,9561.036597491575,1115.330930856646,501.53078349414074,5904.7841722681815,218.18002675955128,9448.531331428187,2124.4981658064053,8605.897677129104]}]},{\"name\":\"series 48 (F48)\",\"data\":[{\"name\":\"series 48 (F48)\",\"type\":\"scatter3d\",\"mode\":\"markers\",\"x\":[4592.146598040069,3904.9593754256816,6495.131815472792,5899.213300107826,525.1694064700607,3878.9749616784284,1549.7897351893919,668.2932283161603,7557.461253008509,4017.5319986460413,7743.178994055493,4520.906604329037,4285.528519890193,3502.2464535742424,9135.407333797448,4157.418894621787,4491.819630185987,935.7613139162569,9927.157198434306,6984.37474438187,1720.0833252821812,7048.285675463729,1766.7739168507412,3877.635360609931,7410.268962106642,3582.775136214863,7123.760386466354,8923.254892048144,4708.753981287975,6922.28132621317],\"y\":[556.3787546571652,6950.609032918721,8634.130541972761,9290.594710480715,2796.759328552244,9721.122422663959,3405.746708510413,8687.36985853122,2235.119886201936,747.2589312606603,9431.64204388149,1111.506396694123,4605.40143463838,6890.278458185363,5704.474307032106,5081.636218613394,4457.834478430524,2121.5847525627487,8168.487966999777,8980.143589222598,1349.645889639194,5131.320188713645,997.523604654097,6327.227435855874,9593.323305379596,7829.187225814555,5663.529195527125,2734.0867935628576,2872.557615407402,6206.313453325003],\"z\":[2176.9760779486523,989.3943059656818,4069.1861783880468,8513.292508491686,7945.04598179393,7500.798463537086,6240.162603996059,8258.373836268825,2320.4008894837125,4143.271828687227,2841.7804275014446,1141.0937537794307,9102.805716864023,4458.703427801518,4019.0853836257224,5710.472108594849,5007.825763749506,2106.2113337922883,1061.6109951575359,7273.224952225278,9431.268827413762,2480.2256227666953,2972.273620792066,3376.2766042669236,9715.005466685485,5493.477117221803,7504.4710222944595,7049.173844051594,6559.244088750418,8664.596952676431]}]},{\"name\":\"series 49 (F49)\",\"data\":[{\"name\":\"series 49 (F49)\",\"type\":\"scatter3d\",\"mode\":\"markers\",\"x\":[3993.1286082705087,915.8432199230571,6228.294130901969,4855.119254427837,6838.639327300938,1271.4520604951952,9761.307959340964,8268.248323392607,6598.35103829575,6268.96719196137,4526.4366466404645,5651.836977426015,298.4519443165745,6471.331749096707,146.29736406881256,7040.59680798767,3799.814626690884,9199.007861652291,9074.593630711539,1827.6418239151992,6834.556579993111,338.962296452272,1918.1920962115616,1473.0405553138826,5675.78078702008,8580.000209427593,8975.90722133296,9737.137254654683,9311.164994556404,7400.679011053711],\"y\":[2404.69589282827,4968.973387994449,2461.7663989988623,9559.86474157562,7925.926606949528,6685.222978880204,2820.6155190412373,7326.31790127034,1048.83049090415,442.6336067319725,481.3777957301779,9232.528839941073,415.2000154166868,837.0400133967914,4685.556169684576,749.3458033953415,58.8558167605524,2354.5984258387552,6737.423535540918,1951.7704873064145,3125.3488678796703,1755.9670248097336,8219.063626087416,9982.622304489874,1911.8266672703933,3691.7349060998863,483.6157302258259,7919.600533791348,2963.936411665726,3327.4807767820357],\"z\":[4813.008012590197,4512.603385500077,1406.1003019856055,5899.422609669735,2597.178530443718,1181.9904681396877,5683.4421406786105,3326.692945413171,1424.9795690357826,3654.7995785956546,2458.1065713154835,2273.859066630217,6072.66825016075,5664.764466933271,1529.655882234835,6387.3776892494425,3034.084244638585,1253.301469931636,2338.6929882057184,7822.260819219861,3457.324848472737,382.46276010808765,6864.801890255375,9630.299033271094,2135.9260147673185,9807.186310357474,8544.358082090534,1098.7721019374985,9548.262901485743,7452.992627120632]}]}]\n",
       "var labels_tj4NvuMHQm = [\"series 0 (F0)\",\"series 1 (F1)\",\"series 2 (F2)\",\"series 3 (F3)\",\"series 4 (F4)\",\"series 5 (F5)\",\"series 6 (F6)\",\"series 7 (F7)\",\"series 8 (F8)\",\"series 9 (F9)\",\"series 10 (F10)\",\"series 11 (F11)\",\"series 12 (F12)\",\"series 13 (F13)\",\"series 14 (F14)\",\"series 15 (F15)\",\"series 16 (F16)\",\"series 17 (F17)\",\"series 18 (F18)\",\"series 19 (F19)\",\"series 20 (F20)\",\"series 21 (F21)\",\"series 22 (F22)\",\"series 23 (F23)\",\"series 24 (F24)\",\"series 25 (F25)\",\"series 26 (F26)\",\"series 27 (F27)\",\"series 28 (F28)\",\"series 29 (F29)\",\"series 30 (F30)\",\"series 31 (F31)\",\"series 32 (F32)\",\"series 33 (F33)\",\"series 34 (F34)\",\"series 35 (F35)\",\"series 36 (F36)\",\"series 37 (F37)\",\"series 38 (F38)\",\"series 39 (F39)\",\"series 40 (F40)\",\"series 41 (F41)\",\"series 42 (F42)\",\"series 43 (F43)\",\"series 44 (F44)\",\"series 45 (F45)\",\"series 46 (F46)\",\"series 47 (F47)\",\"series 48 (F48)\",\"series 49 (F49)\"]\n",
       "var duration_tj4NvuMHQm = 100\n",
       "var config_tj4NvuMHQm = {\"responsive\":true,\"scrollZoom\":true,\"displaylogo\":false}\n",
       "\n",
       "var traces_tj4NvuMHQm = JSON.parse(JSON.stringify(frames_tj4NvuMHQm[0].data.map(x => x)))\n",
       "\n",
       "var animation_settings_tj4NvuMHQm = {\n",
       "    mode: \"immediate\",\n",
       "    direction: {},\n",
       "    fromcurrent: true,\n",
       "    frame: [\n",
       "      {duration: duration_tj4NvuMHQm},\n",
       "      {duration: duration_tj4NvuMHQm},\n",
       "      {redraw: true}\n",
       "    ],\n",
       "    transition: [\n",
       "      {duration: duration_tj4NvuMHQm, easing: 'cubic-in-out'},\n",
       "      {duration: duration_tj4NvuMHQm, easing: 'cubic-in-out'},\n",
       "    ],\n",
       "    ordering: \"layout first\"\n",
       "}\n",
       "\n",
       "var slider_tj4NvuMHQm = document.createElement(\"input\")\n",
       "var play_tj4NvuMHQm = document.getElementById(\"play_tj4NvuMHQm\")\n",
       "var pause_tj4NvuMHQm = document.getElementById(\"pause_tj4NvuMHQm\")\n",
       "slider_tj4NvuMHQm.id = \"slider_tj4NvuMHQm\"\n",
       "slider_tj4NvuMHQm.type = \"range\"\n",
       "slider_tj4NvuMHQm.min = 0\n",
       "slider_tj4NvuMHQm.max = frames_tj4NvuMHQm.length - 1\n",
       "slider_tj4NvuMHQm.value = 0\n",
       "document.getElementById(\"sliderContainer_tj4NvuMHQm\").appendChild(slider_tj4NvuMHQm);\n",
       "\n",
       "Plotly.newPlot(graph_tj4NvuMHQm, traces_tj4NvuMHQm, layout_tj4NvuMHQm, config_tj4NvuMHQm)\n",
       ".then(function () { Plotly.addFrames(graph_tj4NvuMHQm, frames_tj4NvuMHQm) })\n",
       "\n",
       "var trigger_tj4NvuMHQm = true\n",
       "var reset_count_tj4NvuMHQm = false\n",
       "\n",
       "play_tj4NvuMHQm.addEventListener('click', async function() {\n",
       "   trigger_tj4NvuMHQm = true\n",
       "   if (reset_count_tj4NvuMHQm) {\n",
       "      slider_tj4NvuMHQm.value = 0\n",
       "      reset_count_tj4NvuMHQm = false\n",
       "   }\n",
       "\n",
       "  const start_index = slider_tj4NvuMHQm.value == labels_tj4NvuMHQm.length - 1 ? 0 : slider_tj4NvuMHQm.value\n",
       "  const end_index = labels_tj4NvuMHQm.length\n",
       "  await Plotly.animate(graph_tj4NvuMHQm, labels_tj4NvuMHQm.slice(start_index, end_index), animation_settings_tj4NvuMHQm)\n",
       "})\n",
       "\n",
       "pause_tj4NvuMHQm.addEventListener('click', async function() {\n",
       "  await Plotly.animate(graph_tj4NvuMHQm, [null], animation_settings_tj4NvuMHQm)\n",
       "  trigger_tj4NvuMHQm = false;\n",
       "})\n",
       "\n",
       "graph_tj4NvuMHQm.on('plotly_redraw', () => {\n",
       "   value_tj4NvuMHQm.innerHTML = slider_tj4NvuMHQm.value;\n",
       "   if (trigger_tj4NvuMHQm & !reset_count_tj4NvuMHQm) ++slider_tj4NvuMHQm.value\n",
       "   if (slider_tj4NvuMHQm.value == labels_tj4NvuMHQm.length - 1) reset_count_tj4NvuMHQm = true\n",
       "});\n",
       "\n",
       "slider_tj4NvuMHQm.oninput = async function() {\n",
       "   await Plotly.animate(graph_tj4NvuMHQm, frames_tj4NvuMHQm[this.value], animation_settings_tj4NvuMHQm)\n",
       "   trigger_tj4NvuMHQm = false\n",
       "   slider_tj4NvuMHQm.value = this.value\n",
       "   value_tj4NvuMHQm.innerHTML = this.value;\n",
       "   if (this.value == 0) reset_count_tj4NvuMHQm = false\n",
       "   if (this.value == labels_tj4NvuMHQm.length - 1) reset_count_tj4NvuMHQm = true\n",
       "   reset_count_tj4NvuMHQm = false\n",
       "}\n",
       "\n",
       "next_tj4NvuMHQm.addEventListener('click', function() {\n",
       "    if (slider_tj4NvuMHQm.value == labels_tj4NvuMHQm.length - 1) {\n",
       "        reset_count_tj4NvuMHQm = true;\n",
       "        return;\n",
       "    }\n",
       "    ++slider_tj4NvuMHQm.value;\n",
       "    value_tj4NvuMHQm.innerHTML = slider_tj4NvuMHQm.value;\n",
       "    trigger_tj4NvuMHQm = false;\n",
       "    slider_tj4NvuMHQm.oninput();\n",
       "})\n",
       "\n",
       "prev_tj4NvuMHQm.addEventListener('click', function() {\n",
       "    if (slider_tj4NvuMHQm.value == 0) {\n",
       "        reset_count_tj4NvuMHQm = false;\n",
       "        return;\n",
       "    }\n",
       "    --slider_tj4NvuMHQm.value;\n",
       "    value_tj4NvuMHQm.innerHTML = slider_tj4NvuMHQm.value;\n",
       "    trigger_tj4NvuMHQm = false;\n",
       "    slider_tj4NvuMHQm.oninput();\n",
       "})\n",
       "\n",
       "</script> \n"
      ]
     },
     "metadata": {},
     "output_type": "display_data"
    }
   ],
   "source": [
    "val series = createXYZSeries(numberToCreate = 50, length = 30)\n",
    "\n",
    "val chart = (\n",
    "  Chart(animated = true)\n",
    "  setTitle \"Animation 3D\"\n",
    "  addSeries series\n",
    "  setXAxisLimits(0, 1E4)\n",
    "  setYAxisLimits(0, 1E4)\n",
    "  setZAxisLimits(0, 1E4)\n",
    "  drawZAxisLog true\n",
    ")\n",
    "\n",
    "chart.plotInline"
   ]
  },
  {
   "cell_type": "markdown",
   "metadata": {},
   "source": [
    "## IO + Utility Functions\n",
    "\n",
    "The library also comes with some basic CSV IO functions and a utility function for breaking down data"
   ]
  },
  {
   "cell_type": "code",
   "execution_count": 49,
   "metadata": {},
   "outputs": [],
   "source": [
    "import org.carbonateresearch.picta.IO._\n",
    "import org.carbonateresearch.picta.common.Utils.getSeriesbyCategory"
   ]
  },
  {
   "cell_type": "code",
   "execution_count": 50,
   "metadata": {},
   "outputs": [
    {
     "name": "stdout",
     "output_type": "stream",
     "text": [
      "/Users/fazi/Desktop/Final Project/picta\n"
     ]
    }
   ],
   "source": [
    "val working_directory = getWorkingDirectory\n",
    "\n",
    "println(working_directory)"
   ]
  },
  {
   "cell_type": "code",
   "execution_count": 51,
   "metadata": {},
   "outputs": [],
   "source": [
    "// by providing a path, we can read in a CSV\n",
    "val filepath = working_directory + \"/iris_csv.csv\"\n",
    "\n",
    "val data = readCSV(filepath)\n",
    "\n",
    "// by default, CSV are read in as strings. However we can convert the individual columns to the correct format\n",
    "val sepal_length = data(\"sepallength\").map(_.toDouble)\n",
    "val petal_width = data(\"petalwidth\").map(_.toDouble)\n",
    "val categories = data(\"class\")"
   ]
  },
  {
   "cell_type": "code",
   "execution_count": 52,
   "metadata": {},
   "outputs": [
    {
     "data": {
      "text/html": [
       "<div id=\"grid-container_wYBapx9VsZ\" class=\"grid-container\" align=\"center\"> \n",
       "<div id=\"grid_wYBapx9VsZ\" class=\"grid\" align=\"center\"> \n",
       "<div id=\"graph_kgATSSRm31\" class=\"graph\"></div> \n",
       "</div> \n",
       "</div> \n",
       "<script>\n",
       "var masonry = new Macy({\n",
       "    container: '#grid_wYBapx9VsZ',\n",
       "    debug: true,\n",
       "    mobileFirst: true,\n",
       "    columns: 1,\n",
       "    margin: {\n",
       "        x: 0,\n",
       "        y: 0\n",
       "    }\n",
       "  });\n",
       "\n",
       "  var traces_kgATSSRm31 = [{\"name\":\"6ewZdqFLmN\",\"type\":\"scatter\",\"mode\":\"markers\",\"x\":[5.9,6.2,6.5,6.3,6.7,6.7,6.8,5.8,6.9,6.7,6.9,6,6.4,6.3,7.7,6.1,6.3,6.4,7.9,7.4,7.2,6.4,6.1,6.2,7.2,6.7,6.3,7.7,5.6,6.9,6,7.7,7.7,6.5,6.4,5.8,5.7,6.8,6.4,6.5,7.2,6.7,7.3,4.9,7.6,6.5,6.3,7.1,5.8,6.3,5.7,5.1,6.2,5.7,5.7,5.6,5,5.8,6.1,5.5,5.5,5.6,6.3,6.7,6,5.4,6,5.8,5.5,5.5,5.7,6,6.7,6.8,6.6,6.4,6.1,6.3,6.1,5.9,5.6,6.2,5.8,5.6,6.7,5.6,6.1,6,5.9,5,5.2,6.6,4.9,6.3,5.7,6.5,5.5,6.9,6.4,7,5,5.3,4.6,5.1,4.8,5.1,5,4.4,4.5,5,5.1,4.4,4.9,5.5,5,4.9,5.5,5.2,5.4,4.8,4.7,5.2,5.2,5,5,4.8,5.1,4.6,5.1,5.4,5.1,5.7,5.1,5.4,5.7,5.8,4.3,4.8,4.8,5.4,4.9,4.4,5,4.6,5.4,5,4.6,4.7,4.9,5.1],\"y\":[1.8,2.3,2,1.9,2.3,2.5,2.3,1.9,2.3,2.4,2.1,1.8,1.8,2.4,2.3,1.4,1.5,2.2,2,1.9,1.6,2.1,1.8,1.8,1.8,2.1,1.8,2,2,2.3,1.5,2.3,2.2,1.8,2.3,2.4,2,2.1,1.9,2,2.5,1.8,1.8,1.7,2.1,2.2,1.8,2.1,1.9,2.5,1.3,1.1,1.3,1.3,1.2,1.3,1,1.2,1.4,1.2,1.3,1.3,1.3,1.5,1.6,1.5,1.6,1.2,1,1.1,1,1.5,1.7,1.4,1.4,1.3,1.2,1.5,1.3,1.8,1.1,1.5,1,1.5,1.4,1.3,1.4,1,1.5,1,1.4,1.3,1,1.6,1.3,1.5,1.3,1.5,1.5,1.4,0.2,0.2,0.2,0.2,0.3,0.4,0.6,0.2,0.3,0.3,0.2,0.2,0.1,0.2,0.2,0.1,0.2,0.1,0.4,0.2,0.2,0.2,0.2,0.4,0.2,0.2,0.5,0.2,0.4,0.2,0.3,0.3,0.3,0.4,0.4,0.2,0.1,0.1,0.2,0.2,0.1,0.2,0.2,0.3,0.4,0.2,0.2,0.2,0.2,0.2]}];\n",
       " var layout_kgATSSRm31 = {\"height\":550,\"width\":600,\"hovermode\":\"closest\",\"title\":{\"text\":\"Uninformative Chart\"},\"showlegend\":true};\n",
       " var config_kgATSSRm31 = {\"responsive\":true,\"scrollZoom\":true,\"displaylogo\":false};\n",
       " Plotly.newPlot(\"graph_kgATSSRm31\", traces_kgATSSRm31, layout_kgATSSRm31, config_kgATSSRm31);\n",
       "</script> \n"
      ]
     },
     "metadata": {},
     "output_type": "display_data"
    }
   ],
   "source": [
    "val series = XY(sepal_length, petal_width) asType SCATTER drawStyle MARKERS\n",
    "\n",
    "val chart = Chart() addSeries series setTitle \"Uninformative Chart\"\n",
    "\n",
    "chart.plotInline"
   ]
  },
  {
   "cell_type": "markdown",
   "metadata": {},
   "source": [
    "The above chart is not very informative. However since we have the per data point category labels, we can use the utility function to display the data in the different clusters"
   ]
  },
  {
   "cell_type": "code",
   "execution_count": 53,
   "metadata": {},
   "outputs": [
    {
     "data": {
      "text/html": [
       "<div id=\"grid-container_MrfHyrlGu3\" class=\"grid-container\" align=\"center\"> \n",
       "<div id=\"grid_MrfHyrlGu3\" class=\"grid\" align=\"center\"> \n",
       "<div id=\"graph_eeKHj3dOSR\" class=\"graph\"></div> \n",
       "</div> \n",
       "</div> \n",
       "<script>\n",
       "var masonry = new Macy({\n",
       "    container: '#grid_MrfHyrlGu3',\n",
       "    debug: true,\n",
       "    mobileFirst: true,\n",
       "    columns: 1,\n",
       "    margin: {\n",
       "        x: 0,\n",
       "        y: 0\n",
       "    }\n",
       "  });\n",
       "\n",
       "  var traces_eeKHj3dOSR = [{\"name\":\"Iris-versicolor\",\"type\":\"scatter\",\"mode\":\"markers\",\"x\":[7,6.4,6.9,5.5,6.5,5.7,6.3,4.9,6.6,5.2,5,5.9,6,6.1,5.6,6.7,5.6,5.8,6.2,5.6,5.9,6.1,6.3,6.1,6.4,6.6,6.8,6.7,6,5.7,5.5,5.5,5.8,6,5.4,6,6.7,6.3,5.6,5.5,5.5,6.1,5.8,5,5.6,5.7,5.7,6.2,5.1,5.7],\"y\":[1.4,1.5,1.5,1.3,1.5,1.3,1.6,1,1.3,1.4,1,1.5,1,1.4,1.3,1.4,1.5,1,1.5,1.1,1.8,1.3,1.5,1.2,1.3,1.4,1.4,1.7,1.5,1,1.1,1,1.2,1.6,1.5,1.6,1.5,1.3,1.3,1.3,1.2,1.4,1.2,1,1.3,1.2,1.3,1.3,1.1,1.3]},{\"name\":\"Iris-setosa\",\"type\":\"scatter\",\"mode\":\"markers\",\"x\":[5.1,4.9,4.7,4.6,5,5.4,4.6,5,4.4,4.9,5.4,4.8,4.8,4.3,5.8,5.7,5.4,5.1,5.7,5.1,5.4,5.1,4.6,5.1,4.8,5,5,5.2,5.2,4.7,4.8,5.4,5.2,5.5,4.9,5,5.5,4.9,4.4,5.1,5,4.5,4.4,5,5.1,4.8,5.1,4.6,5.3,5],\"y\":[0.2,0.2,0.2,0.2,0.2,0.4,0.3,0.2,0.2,0.1,0.2,0.2,0.1,0.1,0.2,0.4,0.4,0.3,0.3,0.3,0.2,0.4,0.2,0.5,0.2,0.2,0.4,0.2,0.2,0.2,0.2,0.4,0.1,0.2,0.1,0.2,0.2,0.1,0.2,0.2,0.3,0.3,0.2,0.6,0.4,0.3,0.2,0.2,0.2,0.2]},{\"name\":\"Iris-virginica\",\"type\":\"scatter\",\"mode\":\"markers\",\"x\":[6.3,5.8,7.1,6.3,6.5,7.6,4.9,7.3,6.7,7.2,6.5,6.4,6.8,5.7,5.8,6.4,6.5,7.7,7.7,6,6.9,5.6,7.7,6.3,6.7,7.2,6.2,6.1,6.4,7.2,7.4,7.9,6.4,6.3,6.1,7.7,6.3,6.4,6,6.9,6.7,6.9,5.8,6.8,6.7,6.7,6.3,6.5,6.2,5.9],\"y\":[2.5,1.9,2.1,1.8,2.2,2.1,1.7,1.8,1.8,2.5,2,1.9,2.1,2,2.4,2.3,1.8,2.2,2.3,1.5,2.3,2,2,1.8,2.1,1.8,1.8,1.8,2.1,1.6,1.9,2,2.2,1.5,1.4,2.3,2.4,1.8,1.8,2.1,2.4,2.3,1.9,2.3,2.5,2.3,1.9,2,2.3,1.8]}];\n",
       " var layout_eeKHj3dOSR = {\"height\":550,\"width\":600,\"hovermode\":\"closest\",\"title\":{\"text\":\"Iris\"},\"showlegend\":true};\n",
       " var config_eeKHj3dOSR = {\"responsive\":true,\"scrollZoom\":true,\"displaylogo\":false};\n",
       " Plotly.newPlot(\"graph_eeKHj3dOSR\", traces_eeKHj3dOSR, layout_eeKHj3dOSR, config_eeKHj3dOSR);\n",
       "</script> \n"
      ]
     },
     "metadata": {},
     "output_type": "display_data"
    }
   ],
   "source": [
    "val result = getSeriesbyCategory(categories, (sepal_length, petal_width))\n",
    "\n",
    "val chart = Chart() addSeries result setTitle \"Iris\" showLegend true\n",
    "\n",
    "chart.plotInline"
   ]
  },
  {
   "cell_type": "markdown",
   "metadata": {},
   "source": [
    "## Conus Integration\n",
    "\n",
    "Picta was originally created to help plot data in CoNuS and with Spark. A couple of utility functions make wrangling CoNuS data easier. Below is an example taken from the conus repo and plotting some variables of interest."
   ]
  },
  {
   "cell_type": "code",
   "execution_count": 54,
   "metadata": {},
   "outputs": [],
   "source": [
    "import org.carbonateresearch.picta.conus.Utils._\n",
    "import org.carbonateresearch.picta.{Canvas, Chart, XY}\n",
    "import org.carbonateresearch.conus.common.SingleModelResults\n",
    "import org.carbonateresearch.conus._\n",
    "\n",
    "import math._"
   ]
  },
  {
   "cell_type": "code",
   "execution_count": 55,
   "metadata": {
    "scrolled": false
   },
   "outputs": [
    {
     "name": "stdout",
     "output_type": "stream",
     "text": [
      "15:04:18.382 [CoNuS-akka.actor.default-dispatcher-3] INFO akka.event.slf4j.Slf4jLogger - Slf4jLogger started\n"
     ]
    },
    {
     "name": "stderr",
     "output_type": "stream",
     "text": [
      "SLF4J: A number (1) of logging calls during the initialization phase have been intercepted and are\n",
      "SLF4J: now being replayed. These are subject to the filtering rules of the underlying logging system.\n",
      "SLF4J: See also http://www.slf4j.org/codes.html#replay\n"
     ]
    },
    {
     "data": {
      "text/html": [
       "Variable <b>Number of Rats</b> with initial value of 2 Individuals  defined"
      ]
     },
     "metadata": {},
     "output_type": "display_data"
    },
    {
     "data": {
      "text/html": [
       "Variable <b>Death rate</b> with initial value of 0.0 %  defined"
      ]
     },
     "metadata": {},
     "output_type": "display_data"
    }
   ],
   "source": [
    "val simulator = new AlmondSimulator // We create an Almond specific simulator\n",
    "\n",
    "// We will now create a ver simple 2D CoNuS model. The model has a dimension of 3x3 grids, and each grid is meant to represent\n",
    "// about 100x100 meters of a field. We initialize the model with values ranging from 2.0 to 6.0. These represent the population \n",
    "// of rats living in each 100 sq meter of the field. We will run the simulation for 10 time step, each time step represents\n",
    "// one generation. We assume a perfect parity between male and female rat, and we also assume that each couple will have 10\n",
    "// babies per generation. In addition, we will simulate a death rate between 0 to 0.9 (0 to 90% of the population), assigned\n",
    "// randomly at each timestep and for each square. A major simplification is that each cell (square in the field) has its own\n",
    "// rat population, there is no movement of rats in between the different cells.\n",
    "\n",
    "// In CoNuS, values that will be calculated are know as model variables. Let's set a few\n",
    "val nbRats:ModelVariable[Int] = ModelVariable(\"Number of Rats\",2,\"Individuals\") //Notice this is an Int\n",
    "val deathRate:ModelVariable[Double] = ModelVariable(\"Death rate\",0.0,\"%\")\n",
    "\n",
    "// Let's initialise a few model conditions \n",
    "val numberOfSteps = 10\n",
    "\n",
    "// And let's create a function that, given a rat population and a deathRate, calculates a new population \n",
    "\n",
    "def survivingRats(initialPopulation:Int, deathRate:Double): Int = {\n",
    "    initialPopulation-math.floor(initialPopulation.toDouble*deathRate).toInt\n",
    "}\n"
   ]
  },
  {
   "cell_type": "code",
   "execution_count": 56,
   "metadata": {},
   "outputs": [
    {
     "name": "stdout",
     "output_type": "stream",
     "text": [
      "A total of 1 unique models were defined, attempting to create a list now.\n",
      "Models list successfully created.\n"
     ]
    },
    {
     "data": {
      "text/html": [
       "<b>Model characteristics</b><table class=\"table\"><tr><th>Feature</th><th>Value</th></tr><tr><td>Name</td><td>Simplified rat population dynamics</td></tr><tr><td>Nb of steps</td><td>10</td></tr><tr><td>Nb of models</td><td>1</td></tr><tr><td>Nb grid cells</td><td>9</td></tr><tr><td>Nb of operations per step</td><td>2</td></tr><tr><td>Total nb of operations</td><td>180</td></tr></table>"
      ]
     },
     "metadata": {},
     "output_type": "display_data"
    }
   ],
   "source": [
    "// Now we can create our model, step by step\n",
    "val ratPopulation = new SteppedModel(numberOfSteps,\"Simplified rat population dynamics\")\n",
    "    .setGrid(3,3) // 9 cells\n",
    "    .defineMathematicalModel( // In this super simple model we do only two things at each step\n",
    "      deathRate =>> {(s:Step) => scala.util.Random.nextDouble()*0.9}, // calculate a death rate\n",
    "      nbRats =>> {(s:Step) => {survivingRats(nbRats(s-1)+(nbRats(s-1)/2*10),deathRate(s))}} // calcuate the nb rats\n",
    "    )\n",
    "    .defineInitialModelConditions( // Now we need to determine the inital size of the population at each model grid\n",
    "      PerCell(nbRats,List(\n",
    "        (List(2),Seq(0,0)),\n",
    "        (List(2),Seq(0,1)),\n",
    "        (List(4),Seq(0,2)),\n",
    "        (List(4),Seq(1,0)),\n",
    "        (List(2),Seq(1,1)),\n",
    "        (List(6),Seq(1,2)),\n",
    "        (List(2),Seq(2,0)),\n",
    "        (List(4),Seq(2,1)),\n",
    "        (List(6),Seq(2,2)))))"
   ]
  },
  {
   "cell_type": "code",
   "execution_count": 57,
   "metadata": {},
   "outputs": [
    {
     "data": {
      "text/html": [
       "Run progress:<br>#################################################################################################### 100.0%<br>Total runtime: 0 seconds"
      ]
     },
     "metadata": {},
     "output_type": "display_data"
    }
   ],
   "source": [
    "// Now we run the model\n",
    "simulator.evaluate(ratPopulation)"
   ]
  },
  {
   "cell_type": "code",
   "execution_count": 59,
   "metadata": {
    "scrolled": false
   },
   "outputs": [
    {
     "data": {
      "text/html": [
       "<div id=\"grid-container_ojrfMVTrao\" class=\"grid-container\" align=\"center\"> \n",
       "<div id=\"grid_ojrfMVTrao\" class=\"grid\" align=\"center\"> \n",
       "<div id=\"graph_o9iTJruJp0\" class=\"graph\"></div> \n",
       "</div> \n",
       "</div> \n",
       "<script>\n",
       "var masonry = new Macy({\n",
       "    container: '#grid_ojrfMVTrao',\n",
       "    debug: true,\n",
       "    mobileFirst: true,\n",
       "    columns: 1,\n",
       "    margin: {\n",
       "        x: 0,\n",
       "        y: 0\n",
       "    }\n",
       "  });\n",
       "\n",
       "  var traces_o9iTJruJp0 = [{\"name\":\"Death rate\",\"type\":\"scatter\",\"x\":[0,1,2,3,4,5,6,7,8],\"y\":[0.26795071152712363,0.18609479393425646,0.4240432419222181,0.755965961839846,0.20400412837905255,0.3359706253614163,0.5854057201980604,0.4328391172877658,0.3662590084763444,0.11070030206328178]},{\"name\":\"Nb of rats\",\"type\":\"scatter\",\"yaxis\":\"y2\",\"x\":[0,1,2,3,4,5,6,7,8],\"y\":[9,40,139,203,966,3849,9573,32574,123861,660893]}];\n",
       " var layout_o9iTJruJp0 = {\"height\":550,\"width\":600,\"hovermode\":\"closest\",\"title\":{\"text\":\"Date rate vs nb of rats per generation for cell (0,0)\"},\"showlegend\":true,\"xaxis\":{\"title\":{\"text\":\"Generation\"},\"showgrid\":true,\"zeroline\":false,\"showline\":false},\"yaxis\":{\"title\":{\"text\":\"Death rate\"},\"showgrid\":true,\"zeroline\":false,\"showline\":false},\"yaxis2\":{\"title\":{\"text\":\"Nb rats\"},\"showgrid\":true,\"zeroline\":false,\"showline\":false,\"side\":\"right\",\"overlaying\":\"y\",\"tickformat\":\"0.0f\"}};\n",
       " var config_o9iTJruJp0 = {\"responsive\":true,\"scrollZoom\":true,\"displaylogo\":false};\n",
       " Plotly.newPlot(\"graph_o9iTJruJp0\", traces_o9iTJruJp0, layout_o9iTJruJp0, config_o9iTJruJp0);\n",
       "</script> \n"
      ]
     },
     "metadata": {},
     "output_type": "display_data"
    },
    {
     "data": {
      "text/html": [
       "<b>Simplified rat population dynamics model #1 <br>Timestep: 9</b> [from 0 to 9]<table class=\"table\" style=\"align: center; display:block; background-color:fffff0; border: 2px solid green; height: 450px; overflow-y: scroll\"><tr><th style=\"border: 1px solid green; background-color:fffff0\">Cell coordinates</th><th style=\"border: 1px solid green; background-color:#ebebec\">Number of Rats</th><th style=\"border: 1px solid green; background-color:#ebebec\">Death rate</th></tr><tr style=\"border: 1px solid green; background-color:fffff0\"><td style=\"border: 1px solid green; background-color:fffff0\">(0, 0)</td><td style=\"border: 1px solid green; background-color:fffff0\">660893</td><td style=\"border: 1px solid green; background-color:fffff0\">0.11070030206328178</td></tr><tr style=\"border: 1px solid green; background-color:fffff0\"><td style=\"border: 1px solid green; background-color:fffff0\">(0, 1)</td><td style=\"border: 1px solid green; background-color:fffff0\">21847</td><td style=\"border: 1px solid green; background-color:fffff0\">0.7992976135207001</td></tr><tr style=\"border: 1px solid green; background-color:fffff0\"><td style=\"border: 1px solid green; background-color:fffff0\">(0, 2)</td><td style=\"border: 1px solid green; background-color:fffff0\">376765</td><td style=\"border: 1px solid green; background-color:fffff0\">0.2133436981428554</td></tr><tr style=\"border: 1px solid green; background-color:fffff0\"><td style=\"border: 1px solid green; background-color:fffff0\">(1, 0)</td><td style=\"border: 1px solid green; background-color:fffff0\">28859</td><td style=\"border: 1px solid green; background-color:fffff0\">0.5248238406976982</td></tr><tr style=\"border: 1px solid green; background-color:fffff0\"><td style=\"border: 1px solid green; background-color:fffff0\">(1, 1)</td><td style=\"border: 1px solid green; background-color:fffff0\">1418</td><td style=\"border: 1px solid green; background-color:fffff0\">0.8100624367581982</td></tr><tr style=\"border: 1px solid green; background-color:fffff0\"><td style=\"border: 1px solid green; background-color:fffff0\">(1, 2)</td><td style=\"border: 1px solid green; background-color:fffff0\">844235</td><td style=\"border: 1px solid green; background-color:fffff0\">0.8389627035640091</td></tr><tr style=\"border: 1px solid green; background-color:fffff0\"><td style=\"border: 1px solid green; background-color:fffff0\">(2, 0)</td><td style=\"border: 1px solid green; background-color:fffff0\">347975</td><td style=\"border: 1px solid green; background-color:fffff0\">0.5467662808163006</td></tr><tr style=\"border: 1px solid green; background-color:fffff0\"><td style=\"border: 1px solid green; background-color:fffff0\">(2, 1)</td><td style=\"border: 1px solid green; background-color:fffff0\">94116</td><td style=\"border: 1px solid green; background-color:fffff0\">0.16706900527196714</td></tr><tr style=\"border: 1px solid green; background-color:fffff0\"><td style=\"border: 1px solid green; background-color:fffff0\">(2, 2)</td><td style=\"border: 1px solid green; background-color:fffff0\">43979</td><td style=\"border: 1px solid green; background-color:fffff0\">0.7814613881404214</td></tr></table>"
      ]
     },
     "metadata": {},
     "output_type": "display_data"
    }
   ],
   "source": [
    "// grab the results from the Conus model\n",
    "val model: SingleModelResults = simulator(ratPopulation)(0)\n",
    "\n",
    "val generation = (0 until numberOfSteps-1).map(x=>x.toDouble).toList\n",
    "\n",
    "// we can use the utility function to grab the series for a single variable\n",
    "val deathRateSeries: List[Double] = getDataFromSingleModel(model, deathRate, List(0,0), numberOfSteps)\n",
    "\n",
    "val xy1 = XY(generation, deathRateSeries) setName(\"Death rate\")\n",
    "\n",
    "// alternatively we can quickly get the same data for XY using the function below\n",
    "//  val xy1 = getXYSeriesFromSingleModel(model, (age, d18Occ), List(0), numberOfSteps)\n",
    "\n",
    "// lets also plot a second y variable\n",
    "val yaxis2 = Axis(\n",
    "    Y,\n",
    "    position = 2, \n",
    "    title = \"Nb rats\", \n",
    "    overlaying = Axis(Y), // this ensures that the axis sits on a seperate axis\n",
    "    side = RIGHT_SIDE, // this ensures the axis is on the right hand side\n",
    "    tickformat = \"0.0f\" // this will keep formatting reasonable for display purposes\n",
    ")\n",
    "\n",
    "// we construct the second y variable;\n",
    "val nbRatsSeries: List[Double] = getDataFromSingleModel(model, nbRats, List(0,0), numberOfSteps).map(x => x.toDouble)\n",
    "val xy2 = XY(generation, nbRatsSeries) setAxis yaxis2 setName(\"Nb of rats\")\n",
    "\n",
    "// finally we can combine in a single chart\n",
    "val chart = (\n",
    "    Chart() \n",
    "    addSeries xy1\n",
    "    addSeries xy2\n",
    "    setTitle(\"Date rate vs nb of rats per generation for cell (0,0)\") \n",
    "    addAxes(Axis(X, title=\"Generation\"), Axis(Y, title=\"Death rate\"), yaxis2)\n",
    ")\n",
    "\n",
    "val canvas = Canvas() addCharts chart\n",
    "\n",
    "// When we plot the result, we can see the legend is in the wrong place and overlaying the axis - we can overcome this\n",
    "// in the next example\n",
    "canvas.plotInline()"
   ]
  },
  {
   "cell_type": "markdown",
   "metadata": {
    "pycharm": {
     "name": "#%% md\n"
    }
   },
   "source": [
    "### Moving the Legend\n",
    "\n",
    "We can also move the Legend and position it where we would like as follows:"
   ]
  },
  {
   "cell_type": "code",
   "execution_count": 60,
   "metadata": {
    "pycharm": {
     "name": "#%%\n"
    }
   },
   "outputs": [],
   "source": [
    "import org.carbonateresearch.picta.options.AUTO"
   ]
  },
  {
   "cell_type": "code",
   "execution_count": 61,
   "metadata": {
    "scrolled": false
   },
   "outputs": [
    {
     "data": {
      "text/html": [
       "<div id=\"grid-container_EkKgxxdosW\" class=\"grid-container\" align=\"center\"> \n",
       "<div id=\"grid_EkKgxxdosW\" class=\"grid\" align=\"center\"> \n",
       "<div id=\"graph_3Na4OtLVIz\" class=\"graph\"></div> \n",
       "</div> \n",
       "</div> \n",
       "<script>\n",
       "var masonry = new Macy({\n",
       "    container: '#grid_EkKgxxdosW',\n",
       "    debug: true,\n",
       "    mobileFirst: true,\n",
       "    columns: 1,\n",
       "    margin: {\n",
       "        x: 0,\n",
       "        y: 0\n",
       "    }\n",
       "  });\n",
       "\n",
       "  var traces_3Na4OtLVIz = [{\"name\":\"Death rate\",\"type\":\"scatter\",\"x\":[0,1,2,3,4,5,6,7,8],\"y\":[0.26795071152712363,0.18609479393425646,0.4240432419222181,0.755965961839846,0.20400412837905255,0.3359706253614163,0.5854057201980604,0.4328391172877658,0.3662590084763444,0.11070030206328178]},{\"name\":\"Nb of rats\",\"type\":\"scatter\",\"yaxis\":\"y2\",\"x\":[0,1,2,3,4,5,6,7,8],\"y\":[9,40,139,203,966,3849,9573,32574,123861,660893]}];\n",
       " var layout_3Na4OtLVIz = {\"height\":550,\"width\":600,\"hovermode\":\"closest\",\"title\":{\"text\":\"Death rate vs Nb of rats for cell (0,0)\"},\"showlegend\":true,\"legend\":{\"orientation\":\"h\",\"x\":0.5,\"y\":-0.5,\"xanchor\":\"auto\",\"yanchor\":\"auto\"},\"xaxis\":{\"title\":{\"text\":\"Generation\"},\"showgrid\":true,\"zeroline\":false,\"showline\":false},\"yaxis\":{\"title\":{\"text\":\"Death rate\"},\"showgrid\":true,\"zeroline\":false,\"showline\":false},\"yaxis2\":{\"title\":{\"text\":\"Nb rats\"},\"showgrid\":true,\"zeroline\":false,\"showline\":false,\"side\":\"right\",\"overlaying\":\"y\",\"tickformat\":\"0.0f\"}};\n",
       " var config_3Na4OtLVIz = {\"responsive\":true,\"scrollZoom\":true,\"displaylogo\":false};\n",
       " Plotly.newPlot(\"graph_3Na4OtLVIz\", traces_3Na4OtLVIz, layout_3Na4OtLVIz, config_3Na4OtLVIz);\n",
       "</script> \n"
      ]
     },
     "metadata": {},
     "output_type": "display_data"
    }
   ],
   "source": [
    "// finally we can combine in a single chart\n",
    "val chart = (\n",
    "    Chart() \n",
    "    addSeries xy1\n",
    "    addSeries xy2\n",
    "    setTitle(\"Death rate vs Nb of rats for cell (0,0)\") \n",
    "    addAxes(Axis(X, title=\"Generation\"), Axis(Y, title=\"Death rate\"), yaxis2)\n",
    "    setLegend(x = 0.5, y = -0.5, orientation = HORIZONTAL, xanchor = AUTO, yanchor = AUTO)\n",
    ")\n",
    "\n",
    "val canvas = Canvas() addCharts chart\n",
    "\n",
    "canvas.plotInline()"
   ]
  },
  {
   "cell_type": "code",
   "execution_count": 62,
   "metadata": {},
   "outputs": [
    {
     "data": {
      "text/html": [
       "<div id=\"grid-container_YhoSbRIJT7\" class=\"grid-container\" align=\"center\"> \n",
       "<div id=\"grid_YhoSbRIJT7\" class=\"grid\" align=\"center\"> \n",
       "\n",
       "<div align=\"center\">\n",
       "  <div id=\"graph_qZ9GcQiwKk\" class=\"graph\"></div>\n",
       "  <div class=\"animationInterface\">\n",
       "    <button id=\"play_qZ9GcQiwKk\" class=\"picta-button\">&#9658</button>\n",
       "    <button id=\"pause_qZ9GcQiwKk\" class=\"picta-button\">&#9616;&#9616;</button>\n",
       "    <button id=\"prev_qZ9GcQiwKk\" class=\"picta-button\"><</button>\n",
       "    <button id=\"next_qZ9GcQiwKk\" class=\"picta-button\">></button>\n",
       "\n",
       "    <div id=\"sliderContainer_qZ9GcQiwKk\" class=\"progressBar\"></div>\n",
       "    <div id=\"counterContainer_qZ9GcQiwKk\" class=\"inline-div\">\n",
       "        <h3>Frame: </h3> <h3 id=\"value_qZ9GcQiwKk\">0</h3>\n",
       "    </div>\n",
       "   </div>\n",
       "</div> \n",
       "\n",
       "</div> \n",
       "</div> \n",
       "<script>\n",
       "var masonry = new Macy({\n",
       "    container: '#grid_YhoSbRIJT7',\n",
       "    debug: true,\n",
       "    mobileFirst: true,\n",
       "    columns: 1,\n",
       "    margin: {\n",
       "        x: 0,\n",
       "        y: 0\n",
       "    }\n",
       "  });\n",
       "\n",
       "var graph_qZ9GcQiwKk = document.getElementById('graph_qZ9GcQiwKk')\n",
       "\n",
       "var layout_qZ9GcQiwKk = {\"height\":550,\"width\":600,\"hovermode\":\"closest\",\"title\":{\"text\":\"Animation XY with Multiple Series\"},\"showlegend\":true,\"legend\":{\"orientation\":\"h\",\"x\":0.5,\"y\":-0.5,\"xanchor\":\"auto\",\"yanchor\":\"auto\"},\"xaxis\":{\"title\":{\"text\":\"Generation\"},\"showgrid\":true,\"zeroline\":false,\"showline\":false,\"range\":[0,9]},\"yaxis\":{\"title\":{\"text\":\"Death Rate\"},\"showgrid\":true,\"zeroline\":false,\"showline\":false,\"range\":[0,1]},\"yaxis2\":{\"title\":{\"text\":\"Nb rats\"},\"showgrid\":true,\"zeroline\":false,\"showline\":false,\"side\":\"right\",\"overlaying\":\"y\",\"range\":[0,10000],\"tickformat\":\"0.0f\"}}\n",
       "var frames_qZ9GcQiwKk = [{\"name\":\"Frame 0\",\"data\":[{\"name\":\"Death Rate (F0)\",\"type\":\"scatter\",\"x\":[0],\"y\":[0.26795071152712363]},{\"name\":\"Nb of rats (F0)\",\"type\":\"scatter\",\"yaxis\":\"y2\",\"x\":[0],\"y\":[9]}]},{\"name\":\"Frame 1\",\"data\":[{\"name\":\"Death Rate (F1)\",\"type\":\"scatter\",\"x\":[0,1],\"y\":[0.26795071152712363,0.18609479393425646]},{\"name\":\"Nb of rats (F1)\",\"type\":\"scatter\",\"yaxis\":\"y2\",\"x\":[0,1],\"y\":[9,40]}]},{\"name\":\"Frame 2\",\"data\":[{\"name\":\"Death Rate (F2)\",\"type\":\"scatter\",\"x\":[0,1,2],\"y\":[0.26795071152712363,0.18609479393425646,0.4240432419222181]},{\"name\":\"Nb of rats (F2)\",\"type\":\"scatter\",\"yaxis\":\"y2\",\"x\":[0,1,2],\"y\":[9,40,139]}]},{\"name\":\"Frame 3\",\"data\":[{\"name\":\"Death Rate (F3)\",\"type\":\"scatter\",\"x\":[0,1,2,3],\"y\":[0.26795071152712363,0.18609479393425646,0.4240432419222181,0.755965961839846]},{\"name\":\"Nb of rats (F3)\",\"type\":\"scatter\",\"yaxis\":\"y2\",\"x\":[0,1,2,3],\"y\":[9,40,139,203]}]},{\"name\":\"Frame 4\",\"data\":[{\"name\":\"Death Rate (F4)\",\"type\":\"scatter\",\"x\":[0,1,2,3,4],\"y\":[0.26795071152712363,0.18609479393425646,0.4240432419222181,0.755965961839846,0.20400412837905255]},{\"name\":\"Nb of rats (F4)\",\"type\":\"scatter\",\"yaxis\":\"y2\",\"x\":[0,1,2,3,4],\"y\":[9,40,139,203,966]}]},{\"name\":\"Frame 5\",\"data\":[{\"name\":\"Death Rate (F5)\",\"type\":\"scatter\",\"x\":[0,1,2,3,4,5],\"y\":[0.26795071152712363,0.18609479393425646,0.4240432419222181,0.755965961839846,0.20400412837905255,0.3359706253614163]},{\"name\":\"Nb of rats (F5)\",\"type\":\"scatter\",\"yaxis\":\"y2\",\"x\":[0,1,2,3,4,5],\"y\":[9,40,139,203,966,3849]}]},{\"name\":\"Frame 6\",\"data\":[{\"name\":\"Death Rate (F6)\",\"type\":\"scatter\",\"x\":[0,1,2,3,4,5,6],\"y\":[0.26795071152712363,0.18609479393425646,0.4240432419222181,0.755965961839846,0.20400412837905255,0.3359706253614163,0.5854057201980604]},{\"name\":\"Nb of rats (F6)\",\"type\":\"scatter\",\"yaxis\":\"y2\",\"x\":[0,1,2,3,4,5,6],\"y\":[9,40,139,203,966,3849,9573]}]},{\"name\":\"Frame 7\",\"data\":[{\"name\":\"Death Rate (F7)\",\"type\":\"scatter\",\"x\":[0,1,2,3,4,5,6,7],\"y\":[0.26795071152712363,0.18609479393425646,0.4240432419222181,0.755965961839846,0.20400412837905255,0.3359706253614163,0.5854057201980604,0.4328391172877658]},{\"name\":\"Nb of rats (F7)\",\"type\":\"scatter\",\"yaxis\":\"y2\",\"x\":[0,1,2,3,4,5,6,7],\"y\":[9,40,139,203,966,3849,9573,32574]}]},{\"name\":\"Frame 8\",\"data\":[{\"name\":\"Death Rate (F8)\",\"type\":\"scatter\",\"x\":[0,1,2,3,4,5,6,7,8],\"y\":[0.26795071152712363,0.18609479393425646,0.4240432419222181,0.755965961839846,0.20400412837905255,0.3359706253614163,0.5854057201980604,0.4328391172877658,0.3662590084763444]},{\"name\":\"Nb of rats (F8)\",\"type\":\"scatter\",\"yaxis\":\"y2\",\"x\":[0,1,2,3,4,5,6,7,8],\"y\":[9,40,139,203,966,3849,9573,32574,123861]}]}]\n",
       "var labels_qZ9GcQiwKk = [\"Frame 0\",\"Frame 1\",\"Frame 2\",\"Frame 3\",\"Frame 4\",\"Frame 5\",\"Frame 6\",\"Frame 7\",\"Frame 8\"]\n",
       "var duration_qZ9GcQiwKk = 100\n",
       "var config_qZ9GcQiwKk = {\"responsive\":true,\"scrollZoom\":true,\"displaylogo\":false}\n",
       "\n",
       "var traces_qZ9GcQiwKk = JSON.parse(JSON.stringify(frames_qZ9GcQiwKk[0].data.map(x => x)))\n",
       "\n",
       "var animation_settings_qZ9GcQiwKk = {\n",
       "    mode: \"immediate\",\n",
       "    direction: {},\n",
       "    fromcurrent: true,\n",
       "    frame: [\n",
       "      {duration: duration_qZ9GcQiwKk},\n",
       "      {duration: duration_qZ9GcQiwKk},\n",
       "      {redraw: true}\n",
       "    ],\n",
       "    transition: [\n",
       "      {duration: duration_qZ9GcQiwKk, easing: 'cubic-in-out'},\n",
       "      {duration: duration_qZ9GcQiwKk, easing: 'cubic-in-out'},\n",
       "    ],\n",
       "    ordering: \"layout first\"\n",
       "}\n",
       "\n",
       "var slider_qZ9GcQiwKk = document.createElement(\"input\")\n",
       "var play_qZ9GcQiwKk = document.getElementById(\"play_qZ9GcQiwKk\")\n",
       "var pause_qZ9GcQiwKk = document.getElementById(\"pause_qZ9GcQiwKk\")\n",
       "slider_qZ9GcQiwKk.id = \"slider_qZ9GcQiwKk\"\n",
       "slider_qZ9GcQiwKk.type = \"range\"\n",
       "slider_qZ9GcQiwKk.min = 0\n",
       "slider_qZ9GcQiwKk.max = frames_qZ9GcQiwKk.length - 1\n",
       "slider_qZ9GcQiwKk.value = 0\n",
       "document.getElementById(\"sliderContainer_qZ9GcQiwKk\").appendChild(slider_qZ9GcQiwKk);\n",
       "\n",
       "Plotly.newPlot(graph_qZ9GcQiwKk, traces_qZ9GcQiwKk, layout_qZ9GcQiwKk, config_qZ9GcQiwKk)\n",
       ".then(function () { Plotly.addFrames(graph_qZ9GcQiwKk, frames_qZ9GcQiwKk) })\n",
       "\n",
       "var trigger_qZ9GcQiwKk = true\n",
       "var reset_count_qZ9GcQiwKk = false\n",
       "\n",
       "play_qZ9GcQiwKk.addEventListener('click', async function() {\n",
       "   trigger_qZ9GcQiwKk = true\n",
       "   if (reset_count_qZ9GcQiwKk) {\n",
       "      slider_qZ9GcQiwKk.value = 0\n",
       "      reset_count_qZ9GcQiwKk = false\n",
       "   }\n",
       "\n",
       "  const start_index = slider_qZ9GcQiwKk.value == labels_qZ9GcQiwKk.length - 1 ? 0 : slider_qZ9GcQiwKk.value\n",
       "  const end_index = labels_qZ9GcQiwKk.length\n",
       "  await Plotly.animate(graph_qZ9GcQiwKk, labels_qZ9GcQiwKk.slice(start_index, end_index), animation_settings_qZ9GcQiwKk)\n",
       "})\n",
       "\n",
       "pause_qZ9GcQiwKk.addEventListener('click', async function() {\n",
       "  await Plotly.animate(graph_qZ9GcQiwKk, [null], animation_settings_qZ9GcQiwKk)\n",
       "  trigger_qZ9GcQiwKk = false;\n",
       "})\n",
       "\n",
       "graph_qZ9GcQiwKk.on('plotly_redraw', () => {\n",
       "   value_qZ9GcQiwKk.innerHTML = slider_qZ9GcQiwKk.value;\n",
       "   if (trigger_qZ9GcQiwKk & !reset_count_qZ9GcQiwKk) ++slider_qZ9GcQiwKk.value\n",
       "   if (slider_qZ9GcQiwKk.value == labels_qZ9GcQiwKk.length - 1) reset_count_qZ9GcQiwKk = true\n",
       "});\n",
       "\n",
       "slider_qZ9GcQiwKk.oninput = async function() {\n",
       "   await Plotly.animate(graph_qZ9GcQiwKk, frames_qZ9GcQiwKk[this.value], animation_settings_qZ9GcQiwKk)\n",
       "   trigger_qZ9GcQiwKk = false\n",
       "   slider_qZ9GcQiwKk.value = this.value\n",
       "   value_qZ9GcQiwKk.innerHTML = this.value;\n",
       "   if (this.value == 0) reset_count_qZ9GcQiwKk = false\n",
       "   if (this.value == labels_qZ9GcQiwKk.length - 1) reset_count_qZ9GcQiwKk = true\n",
       "   reset_count_qZ9GcQiwKk = false\n",
       "}\n",
       "\n",
       "next_qZ9GcQiwKk.addEventListener('click', function() {\n",
       "    if (slider_qZ9GcQiwKk.value == labels_qZ9GcQiwKk.length - 1) {\n",
       "        reset_count_qZ9GcQiwKk = true;\n",
       "        return;\n",
       "    }\n",
       "    ++slider_qZ9GcQiwKk.value;\n",
       "    value_qZ9GcQiwKk.innerHTML = slider_qZ9GcQiwKk.value;\n",
       "    trigger_qZ9GcQiwKk = false;\n",
       "    slider_qZ9GcQiwKk.oninput();\n",
       "})\n",
       "\n",
       "prev_qZ9GcQiwKk.addEventListener('click', function() {\n",
       "    if (slider_qZ9GcQiwKk.value == 0) {\n",
       "        reset_count_qZ9GcQiwKk = false;\n",
       "        return;\n",
       "    }\n",
       "    --slider_qZ9GcQiwKk.value;\n",
       "    value_qZ9GcQiwKk.innerHTML = slider_qZ9GcQiwKk.value;\n",
       "    trigger_qZ9GcQiwKk = false;\n",
       "    slider_qZ9GcQiwKk.oninput();\n",
       "})\n",
       "\n",
       "</script> \n"
      ]
     },
     "metadata": {},
     "output_type": "display_data"
    }
   ],
   "source": [
    "val xaxis = Axis(X, title = \"Generation\") setLimits (0.0, 9.0)\n",
    "val yaxis = Axis(Y, title = \"Death Rate\") setLimits(0.0, 1.0)\n",
    "\n",
    "// lets also plot a second y variable\n",
    "val yaxis2 = Axis(\n",
    "    Y,\n",
    "    position = 2, \n",
    "    title = \"Nb rats\",\n",
    "    overlaying = Axis(Y), // this ensures that the axis sits on a seperate axis\n",
    "    side = RIGHT_SIDE, // this ensures the axis is on the right hand side\n",
    "    tickformat = \"0.0f\" // this will keep formatting reasonable for display purposes\n",
    ").setLimits (0.0, 10000.0)\n",
    "\n",
    "// we can also specifiy the underlying layout directly - sometimes this can be useful\n",
    "val layout = ChartLayout(\"Animation XY with Multiple Series\") setAxes(xaxis, yaxis, yaxis2)\n",
    "\n",
    "val animation = \n",
    "    (0 to generation.size-1)\n",
    "    .map(x => XY(generation.take(x+1), deathRateSeries.take(x+1)) setName \"Death Rate\")\n",
    "    .toList\n",
    "\n",
    "val animation2 = \n",
    "    (0 to generation.size-1)\n",
    "    .map(x => XY(generation.take(x+1), nbRatsSeries.take(x+1)) setName \"Nb of rats\" setAxis yaxis2)\n",
    "    .toList\n",
    "\n",
    "val chart = (\n",
    "    Chart(animated = true, transition_duration=100, animate_multiple_series = true)\n",
    "    setChartLayout layout \n",
    "    addSeries animation\n",
    "    addSeries animation2\n",
    "    setLegend(x = 0.5, y = -0.5, orientation = HORIZONTAL, xanchor = AUTO, yanchor = AUTO)\n",
    ") \n",
    "\n",
    "chart.plotInline"
   ]
  },
  {
   "cell_type": "code",
   "execution_count": 63,
   "metadata": {
    "pycharm": {
     "name": "#%%\n"
    }
   },
   "outputs": [
    {
     "data": {
      "text/html": [
       "<div id=\"grid-container_zUwCNzKmQu\" class=\"grid-container\" align=\"center\"> \n",
       "<div id=\"grid_zUwCNzKmQu\" class=\"grid\" align=\"center\"> \n",
       "<div id=\"graph_9pp3XbSD46\" class=\"graph\"></div> \n",
       "</div> \n",
       "</div> \n",
       "<script>\n",
       "var masonry = new Macy({\n",
       "    container: '#grid_zUwCNzKmQu',\n",
       "    debug: true,\n",
       "    mobileFirst: true,\n",
       "    columns: 1,\n",
       "    margin: {\n",
       "        x: 0,\n",
       "        y: 0\n",
       "    }\n",
       "  });\n",
       "\n",
       "  var traces_9pp3XbSD46 = [{\"name\":\"KfFQkvtFf4\",\"type\":\"heatmap\",\"z\":[[660893,21847,376765],[28859,1418,844235],[347975,94116,43979]]}];\n",
       " var layout_9pp3XbSD46 = {\"height\":550,\"width\":600,\"hovermode\":\"closest\",\"title\":{\"text\":\"Nb of rats at time step 10\"},\"showlegend\":true};\n",
       " var config_9pp3XbSD46 = {\"responsive\":true,\"scrollZoom\":true,\"displaylogo\":false};\n",
       " Plotly.newPlot(\"graph_9pp3XbSD46\", traces_9pp3XbSD46, layout_9pp3XbSD46, config_9pp3XbSD46);\n",
       "</script> \n"
      ]
     },
     "metadata": {},
     "output_type": "display_data"
    }
   ],
   "source": [
    "val nbCol = (0 to 2).toList\n",
    "val mySeries:List[Double] = nbCol.flatMap(r => {\n",
    "    nbCol.map{c => getDataFromSingleModel(model, nbRats, List(r,c), numberOfSteps).last.toDouble}})\n",
    "\n",
    "val series = XYZ(z=mySeries,n=3) asType HEATMAP\n",
    "\n",
    "val chart = Chart().addSeries(series).setTitle(\"Nb of rats at time step 10\")\n",
    "\n",
    "chart.plotInline"
   ]
  },
  {
   "cell_type": "code",
   "execution_count": 64,
   "metadata": {},
   "outputs": [
    {
     "data": {
      "text/html": [
       "<div id=\"grid-container_E7aXoswGiF\" class=\"grid-container\" align=\"center\"> \n",
       "<div id=\"grid_E7aXoswGiF\" class=\"grid\" align=\"center\"> \n",
       "<div id=\"graph_i14x8Ghc1k\" class=\"graph\"></div> \n",
       "</div> \n",
       "</div> \n",
       "<script>\n",
       "var masonry = new Macy({\n",
       "    container: '#grid_E7aXoswGiF',\n",
       "    debug: true,\n",
       "    mobileFirst: true,\n",
       "    columns: 1,\n",
       "    margin: {\n",
       "        x: 0,\n",
       "        y: 0\n",
       "    }\n",
       "  });\n",
       "\n",
       "  var traces_i14x8Ghc1k = [{\"name\":\"g0H7NsN57p\",\"type\":\"surface\",\"colorbar\":{\"title\":{\"text\":\"Rat Population\",\"side\":\"right\"}},\"z\":[[660893,21847,376765],[28859,1418,844235],[347975,94116,43979]]}];\n",
       " var layout_i14x8Ghc1k = {\"height\":550,\"width\":600,\"hovermode\":\"closest\",\"title\":{\"text\":\"Surface\"},\"showlegend\":true};\n",
       " var config_i14x8Ghc1k = {\"responsive\":true,\"scrollZoom\":true,\"displaylogo\":false};\n",
       " Plotly.newPlot(\"graph_i14x8Ghc1k\", traces_i14x8Ghc1k, layout_i14x8Ghc1k, config_i14x8Ghc1k);\n",
       "</script> \n"
      ]
     },
     "metadata": {},
     "output_type": "display_data"
    }
   ],
   "source": [
    "val ratsAsSurface = XYZ(z=mySeries,n=3) asType SURFACE setColorBar(\"Rat Population\", RIGHT_SIDE)\n",
    "\n",
    "val ratsChart = Chart() addSeries ratsAsSurface setTitle \"Surface\"\n",
    "\n",
    "ratsChart.plotInline"
   ]
  },
  {
   "cell_type": "code",
   "execution_count": 65,
   "metadata": {},
   "outputs": [
    {
     "data": {
      "text/html": [
       "<div id=\"grid-container_uBXzw9ygop\" class=\"grid-container\" align=\"center\"> \n",
       "<div id=\"grid_uBXzw9ygop\" class=\"grid\" align=\"center\"> \n",
       "\n",
       "<div align=\"center\">\n",
       "  <div id=\"graph_GgUONZtPE9\" class=\"graph\"></div>\n",
       "  <div class=\"animationInterface\">\n",
       "    <button id=\"play_GgUONZtPE9\" class=\"picta-button\">&#9658</button>\n",
       "    <button id=\"pause_GgUONZtPE9\" class=\"picta-button\">&#9616;&#9616;</button>\n",
       "    <button id=\"prev_GgUONZtPE9\" class=\"picta-button\"><</button>\n",
       "    <button id=\"next_GgUONZtPE9\" class=\"picta-button\">></button>\n",
       "\n",
       "    <div id=\"sliderContainer_GgUONZtPE9\" class=\"progressBar\"></div>\n",
       "    <div id=\"counterContainer_GgUONZtPE9\" class=\"inline-div\">\n",
       "        <h3>Frame: </h3> <h3 id=\"value_GgUONZtPE9\">0</h3>\n",
       "    </div>\n",
       "   </div>\n",
       "</div> \n",
       "\n",
       "</div> \n",
       "</div> \n",
       "<script>\n",
       "var masonry = new Macy({\n",
       "    container: '#grid_uBXzw9ygop',\n",
       "    debug: true,\n",
       "    mobileFirst: true,\n",
       "    columns: 1,\n",
       "    margin: {\n",
       "        x: 0,\n",
       "        y: 0\n",
       "    }\n",
       "  });\n",
       "\n",
       "var graph_GgUONZtPE9 = document.getElementById('graph_GgUONZtPE9')\n",
       "\n",
       "var layout_GgUONZtPE9 = {\"height\":550,\"width\":600,\"hovermode\":\"closest\",\"title\":{\"text\":\"Surface\"},\"showlegend\":true,\"scene\":{\"zaxis\":{\"showgrid\":true,\"zeroline\":false,\"showline\":false,\"range\":[0,3000000]}}}\n",
       "var frames_GgUONZtPE9 = [{\"name\":\"SFf6CBdJsQ (F0)\",\"data\":[{\"name\":\"SFf6CBdJsQ (F0)\",\"type\":\"surface\",\"colorbar\":{\"title\":{\"text\":\"Rat Population\",\"side\":\"right\"}},\"z\":[[9,10,13],[7,7,13],[11,11,26]]}]},{\"name\":\"6oiwCyB2ki (F1)\",\"data\":[{\"name\":\"6oiwCyB2ki (F1)\",\"type\":\"surface\",\"colorbar\":{\"title\":{\"text\":\"Rat Population\",\"side\":\"right\"}},\"z\":[[40,8,72],[20,6,66],[29,20,63]]}]},{\"name\":\"7BSCd0D2zi (F2)\",\"data\":[{\"name\":\"7BSCd0D2zi (F2)\",\"type\":\"surface\",\"colorbar\":{\"title\":{\"text\":\"Rat Population\",\"side\":\"right\"}},\"z\":[[139,42,399],[49,12,322],[138,55,212]]}]},{\"name\":\"sqI3hTLMNx (F3)\",\"data\":[{\"name\":\"sqI3hTLMNx (F3)\",\"type\":\"surface\",\"colorbar\":{\"title\":{\"text\":\"Rat Population\",\"side\":\"right\"}},\"z\":[[203,214,921],[104,15,1237],[622,149,186]]}]},{\"name\":\"iBW81IHw11 (F4)\",\"data\":[{\"name\":\"iBW81IHw11 (F4)\",\"type\":\"surface\",\"colorbar\":{\"title\":{\"text\":\"Rat Population\",\"side\":\"right\"}},\"z\":[[966,314,2228],[475,66,6329],[1091,478,374]]}]},{\"name\":\"7kNbVVs4j3 (F5)\",\"data\":[{\"name\":\"7kNbVVs4j3 (F5)\",\"type\":\"surface\",\"colorbar\":{\"title\":{\"text\":\"Rat Population\",\"side\":\"right\"}},\"z\":[[3849,1588,6124],[809,207,18337],[2906,514,1522]]}]},{\"name\":\"mdiKKncuqS (F6)\",\"data\":[{\"name\":\"mdiKKncuqS (F6)\",\"type\":\"surface\",\"colorbar\":{\"title\":{\"text\":\"Rat Population\",\"side\":\"right\"}},\"z\":[[9573,4303,9981],[3329,1045,95888],[16098,1465,1043]]}]},{\"name\":\"R9U25WZOyX (F7)\",\"data\":[{\"name\":\"R9U25WZOyX (F7)\",\"type\":\"surface\",\"colorbar\":{\"title\":{\"text\":\"Rat Population\",\"side\":\"right\"}},\"z\":[[32574,15041,31004],[13270,1762,210159],[50349,4209,5986]]}]},{\"name\":\"yvxDwiYH2C (F8)\",\"data\":[{\"name\":\"yvxDwiYH2C (F8)\",\"type\":\"surface\",\"colorbar\":{\"title\":{\"text\":\"Rat Population\",\"side\":\"right\"}},\"z\":[[123861,18142,79824],[10123,1245,873747],[127960,18833,33541]]}]},{\"name\":\"U1xKbxIiZx (F9)\",\"data\":[{\"name\":\"U1xKbxIiZx (F9)\",\"type\":\"surface\",\"colorbar\":{\"title\":{\"text\":\"Rat Population\",\"side\":\"right\"}},\"z\":[[660893,21847,376765],[28859,1418,844235],[347975,94116,43979]]}]}]\n",
       "var labels_GgUONZtPE9 = [\"SFf6CBdJsQ (F0)\",\"6oiwCyB2ki (F1)\",\"7BSCd0D2zi (F2)\",\"sqI3hTLMNx (F3)\",\"iBW81IHw11 (F4)\",\"7kNbVVs4j3 (F5)\",\"mdiKKncuqS (F6)\",\"R9U25WZOyX (F7)\",\"yvxDwiYH2C (F8)\",\"U1xKbxIiZx (F9)\"]\n",
       "var duration_GgUONZtPE9 = 100\n",
       "var config_GgUONZtPE9 = {\"responsive\":true,\"scrollZoom\":true,\"displaylogo\":false}\n",
       "\n",
       "var traces_GgUONZtPE9 = JSON.parse(JSON.stringify(frames_GgUONZtPE9[0].data.map(x => x)))\n",
       "\n",
       "var animation_settings_GgUONZtPE9 = {\n",
       "    mode: \"immediate\",\n",
       "    direction: {},\n",
       "    fromcurrent: true,\n",
       "    frame: [\n",
       "      {duration: duration_GgUONZtPE9},\n",
       "      {duration: duration_GgUONZtPE9},\n",
       "      {redraw: true}\n",
       "    ],\n",
       "    transition: [\n",
       "      {duration: duration_GgUONZtPE9, easing: 'cubic-in-out'},\n",
       "      {duration: duration_GgUONZtPE9, easing: 'cubic-in-out'},\n",
       "    ],\n",
       "    ordering: \"layout first\"\n",
       "}\n",
       "\n",
       "var slider_GgUONZtPE9 = document.createElement(\"input\")\n",
       "var play_GgUONZtPE9 = document.getElementById(\"play_GgUONZtPE9\")\n",
       "var pause_GgUONZtPE9 = document.getElementById(\"pause_GgUONZtPE9\")\n",
       "slider_GgUONZtPE9.id = \"slider_GgUONZtPE9\"\n",
       "slider_GgUONZtPE9.type = \"range\"\n",
       "slider_GgUONZtPE9.min = 0\n",
       "slider_GgUONZtPE9.max = frames_GgUONZtPE9.length - 1\n",
       "slider_GgUONZtPE9.value = 0\n",
       "document.getElementById(\"sliderContainer_GgUONZtPE9\").appendChild(slider_GgUONZtPE9);\n",
       "\n",
       "Plotly.newPlot(graph_GgUONZtPE9, traces_GgUONZtPE9, layout_GgUONZtPE9, config_GgUONZtPE9)\n",
       ".then(function () { Plotly.addFrames(graph_GgUONZtPE9, frames_GgUONZtPE9) })\n",
       "\n",
       "var trigger_GgUONZtPE9 = true\n",
       "var reset_count_GgUONZtPE9 = false\n",
       "\n",
       "play_GgUONZtPE9.addEventListener('click', async function() {\n",
       "   trigger_GgUONZtPE9 = true\n",
       "   if (reset_count_GgUONZtPE9) {\n",
       "      slider_GgUONZtPE9.value = 0\n",
       "      reset_count_GgUONZtPE9 = false\n",
       "   }\n",
       "\n",
       "  const start_index = slider_GgUONZtPE9.value == labels_GgUONZtPE9.length - 1 ? 0 : slider_GgUONZtPE9.value\n",
       "  const end_index = labels_GgUONZtPE9.length\n",
       "  await Plotly.animate(graph_GgUONZtPE9, labels_GgUONZtPE9.slice(start_index, end_index), animation_settings_GgUONZtPE9)\n",
       "})\n",
       "\n",
       "pause_GgUONZtPE9.addEventListener('click', async function() {\n",
       "  await Plotly.animate(graph_GgUONZtPE9, [null], animation_settings_GgUONZtPE9)\n",
       "  trigger_GgUONZtPE9 = false;\n",
       "})\n",
       "\n",
       "graph_GgUONZtPE9.on('plotly_redraw', () => {\n",
       "   value_GgUONZtPE9.innerHTML = slider_GgUONZtPE9.value;\n",
       "   if (trigger_GgUONZtPE9 & !reset_count_GgUONZtPE9) ++slider_GgUONZtPE9.value\n",
       "   if (slider_GgUONZtPE9.value == labels_GgUONZtPE9.length - 1) reset_count_GgUONZtPE9 = true\n",
       "});\n",
       "\n",
       "slider_GgUONZtPE9.oninput = async function() {\n",
       "   await Plotly.animate(graph_GgUONZtPE9, frames_GgUONZtPE9[this.value], animation_settings_GgUONZtPE9)\n",
       "   trigger_GgUONZtPE9 = false\n",
       "   slider_GgUONZtPE9.value = this.value\n",
       "   value_GgUONZtPE9.innerHTML = this.value;\n",
       "   if (this.value == 0) reset_count_GgUONZtPE9 = false\n",
       "   if (this.value == labels_GgUONZtPE9.length - 1) reset_count_GgUONZtPE9 = true\n",
       "   reset_count_GgUONZtPE9 = false\n",
       "}\n",
       "\n",
       "next_GgUONZtPE9.addEventListener('click', function() {\n",
       "    if (slider_GgUONZtPE9.value == labels_GgUONZtPE9.length - 1) {\n",
       "        reset_count_GgUONZtPE9 = true;\n",
       "        return;\n",
       "    }\n",
       "    ++slider_GgUONZtPE9.value;\n",
       "    value_GgUONZtPE9.innerHTML = slider_GgUONZtPE9.value;\n",
       "    trigger_GgUONZtPE9 = false;\n",
       "    slider_GgUONZtPE9.oninput();\n",
       "})\n",
       "\n",
       "prev_GgUONZtPE9.addEventListener('click', function() {\n",
       "    if (slider_GgUONZtPE9.value == 0) {\n",
       "        reset_count_GgUONZtPE9 = false;\n",
       "        return;\n",
       "    }\n",
       "    --slider_GgUONZtPE9.value;\n",
       "    value_GgUONZtPE9.innerHTML = slider_GgUONZtPE9.value;\n",
       "    trigger_GgUONZtPE9 = false;\n",
       "    slider_GgUONZtPE9.oninput();\n",
       "})\n",
       "\n",
       "</script> \n"
      ]
     },
     "metadata": {},
     "output_type": "display_data"
    }
   ],
   "source": [
    "def createSeries:List[List[Double]] = {\n",
    "    val nbCol = (0 to 2).toList\n",
    "    val nestedList:List[List[Double]] = nbCol.flatMap(r => {\n",
    "    nbCol.map{c => getDataFromSingleModel(model, nbRats, List(r,c), numberOfSteps).map(x=>x.toDouble)}})\n",
    "    (0 to 9).map(x => (0 to 8).map(y => nestedList(y)(x)).toList).toList\n",
    "}\n",
    "\n",
    "\n",
    "val ratsAsSurface = createSeries.map(s => XYZ(z=s,n=3) asType SURFACE setColorBar(\"Rat Population\", RIGHT_SIDE)) \n",
    "\n",
    "val ratsChart = Chart(animated = true, transition_duration=100) addSeries ratsAsSurface setTitle \"Surface\" setZAxisLimits(0, 3E6)\n",
    "\n",
    "ratsChart.plotInline"
   ]
  },
  {
   "cell_type": "code",
   "execution_count": null,
   "metadata": {},
   "outputs": [],
   "source": []
  },
  {
   "cell_type": "code",
   "execution_count": null,
   "metadata": {},
   "outputs": [],
   "source": []
  }
 ],
 "metadata": {
  "kernelspec": {
   "display_name": "Scala",
   "language": "scala",
   "name": "scala"
  },
  "language_info": {
   "codemirror_mode": "text/x-scala",
   "file_extension": ".scala",
   "mimetype": "text/x-scala",
   "name": "scala",
   "nbconvert_exporter": "script",
   "version": "2.13.2"
  }
 },
 "nbformat": 4,
 "nbformat_minor": 4
}
