{
 "cells": [
  {
   "cell_type": "code",
   "execution_count": 1,
   "metadata": {
    "scrolled": true
   },
   "outputs": [],
   "source": [
    "interp.repositories() ++= Seq(coursierapi.MavenRepository.of(\n",
    "\"https://jitpack.io\"\n",
    "))"
   ]
  },
  {
   "cell_type": "code",
   "execution_count": 2,
   "metadata": {},
   "outputs": [
    {
     "data": {
      "text/plain": [
       "\u001b[32mimport \u001b[39m\u001b[36m$ivy.$                                  \u001b[39m"
      ]
     },
     "execution_count": 2,
     "metadata": {},
     "output_type": "execute_result"
    }
   ],
   "source": [
    "import $ivy. `org.carbonateresearch::picta:0.1`"
   ]
  },
  {
   "cell_type": "code",
   "execution_count": 3,
   "metadata": {
    "scrolled": true
   },
   "outputs": [
    {
     "data": {
      "text/html": [
       "\n",
       "<script type='text/javascript'>/** vim: et:ts=4:sw=4:sts=4\n",
       " * @license RequireJS 2.3.6 Copyright jQuery Foundation and other contributors.\n",
       " * Released under MIT license, https://github.com/requirejs/requirejs/blob/master/LICENSE\n",
       " */\n",
       "var requirejs,require,define;!function(global,setTimeout){var req,s,head,baseElement,dataMain,src,interactiveScript,currentlyAddingScript,mainScript,subPath,version=\"2.3.6\",commentRegExp=/\\/\\*[\\s\\S]*?\\*\\/|([^:\"'=]|^)\\/\\/.*$/gm,cjsRequireRegExp=/[^.]\\s*require\\s*\\(\\s*[\"']([^'\"\\s]+)[\"']\\s*\\)/g,jsSuffixRegExp=/\\.js$/,currDirRegExp=/^\\.\\//,op=Object.prototype,ostring=op.toString,hasOwn=op.hasOwnProperty,isBrowser=!(\"undefined\"==typeof window||\"undefined\"==typeof navigator||!window.document),isWebWorker=!isBrowser&&\"undefined\"!=typeof importScripts,readyRegExp=isBrowser&&\"PLAYSTATION 3\"===navigator.platform?/^complete$/:/^(complete|loaded)$/,defContextName=\"_\",isOpera=\"undefined\"!=typeof opera&&\"[object Opera]\"===opera.toString(),contexts={},cfg={},globalDefQueue=[],useInteractive=!1;function commentReplace(e,t){return t||\"\"}function isFunction(e){return\"[object Function]\"===ostring.call(e)}function isArray(e){return\"[object Array]\"===ostring.call(e)}function each(e,t){var i;if(e)for(i=0;i<e.length&&(!e[i]||!t(e[i],i,e));i+=1);}function eachReverse(e,t){var i;if(e)for(i=e.length-1;-1<i&&(!e[i]||!t(e[i],i,e));i-=1);}function hasProp(e,t){return hasOwn.call(e,t)}function getOwn(e,t){return hasProp(e,t)&&e[t]}function eachProp(e,t){var i;for(i in e)if(hasProp(e,i)&&t(e[i],i))break}function mixin(i,e,r,n){return e&&eachProp(e,function(e,t){!r&&hasProp(i,t)||(!n||\"object\"!=typeof e||!e||isArray(e)||isFunction(e)||e instanceof RegExp?i[t]=e:(i[t]||(i[t]={}),mixin(i[t],e,r,n)))}),i}function bind(e,t){return function(){return t.apply(e,arguments)}}function scripts(){return document.getElementsByTagName(\"script\")}function defaultOnError(e){throw e}function getGlobal(e){if(!e)return e;var t=global;return each(e.split(\".\"),function(e){t=t[e]}),t}function makeError(e,t,i,r){var n=new Error(t+\"\\nhttps://requirejs.org/docs/errors.html#\"+e);return n.requireType=e,n.requireModules=r,i&&(n.originalError=i),n}if(void 0===define){if(void 0!==requirejs){if(isFunction(requirejs))return;cfg=requirejs,requirejs=void 0}void 0===require||isFunction(require)||(cfg=require,require=void 0),req=requirejs=function(e,t,i,r){var n,o,a=defContextName;return isArray(e)||\"string\"==typeof e||(o=e,isArray(t)?(e=t,t=i,i=r):e=[]),o&&o.context&&(a=o.context),(n=getOwn(contexts,a))||(n=contexts[a]=req.s.newContext(a)),o&&n.configure(o),n.require(e,t,i)},req.config=function(e){return req(e)},req.nextTick=void 0!==setTimeout?function(e){setTimeout(e,4)}:function(e){e()},require||(require=req),req.version=version,req.jsExtRegExp=/^\\/|:|\\?|\\.js$/,req.isBrowser=isBrowser,s=req.s={contexts:contexts,newContext:newContext},req({}),each([\"toUrl\",\"undef\",\"defined\",\"specified\"],function(t){req[t]=function(){var e=contexts[defContextName];return e.require[t].apply(e,arguments)}}),isBrowser&&(head=s.head=document.getElementsByTagName(\"head\")[0],baseElement=document.getElementsByTagName(\"base\")[0],baseElement&&(head=s.head=baseElement.parentNode)),req.onError=defaultOnError,req.createNode=function(e,t,i){var r=e.xhtml?document.createElementNS(\"http://www.w3.org/1999/xhtml\",\"html:script\"):document.createElement(\"script\");return r.type=e.scriptType||\"text/javascript\",r.charset=\"utf-8\",r.async=!0,r},req.load=function(t,i,r){var e,n=t&&t.config||{};if(isBrowser)return(e=req.createNode(n,i,r)).setAttribute(\"data-requirecontext\",t.contextName),e.setAttribute(\"data-requiremodule\",i),!e.attachEvent||e.attachEvent.toString&&e.attachEvent.toString().indexOf(\"[native code\")<0||isOpera?(e.addEventListener(\"load\",t.onScriptLoad,!1),e.addEventListener(\"error\",t.onScriptError,!1)):(useInteractive=!0,e.attachEvent(\"onreadystatechange\",t.onScriptLoad)),e.src=r,n.onNodeCreated&&n.onNodeCreated(e,n,i,r),currentlyAddingScript=e,baseElement?head.insertBefore(e,baseElement):head.appendChild(e),currentlyAddingScript=null,e;if(isWebWorker)try{setTimeout(function(){},0),importScripts(r),t.completeLoad(i)}catch(e){t.onError(makeError(\"importscripts\",\"importScripts failed for \"+i+\" at \"+r,e,[i]))}},isBrowser&&!cfg.skipDataMain&&eachReverse(scripts(),function(e){if(head||(head=e.parentNode),dataMain=e.getAttribute(\"data-main\"))return mainScript=dataMain,cfg.baseUrl||-1!==mainScript.indexOf(\"!\")||(mainScript=(src=mainScript.split(\"/\")).pop(),subPath=src.length?src.join(\"/\")+\"/\":\"./\",cfg.baseUrl=subPath),mainScript=mainScript.replace(jsSuffixRegExp,\"\"),req.jsExtRegExp.test(mainScript)&&(mainScript=dataMain),cfg.deps=cfg.deps?cfg.deps.concat(mainScript):[mainScript],!0}),define=function(e,i,t){var r,n;\"string\"!=typeof e&&(t=i,i=e,e=null),isArray(i)||(t=i,i=null),!i&&isFunction(t)&&(i=[],t.length&&(t.toString().replace(commentRegExp,commentReplace).replace(cjsRequireRegExp,function(e,t){i.push(t)}),i=(1===t.length?[\"require\"]:[\"require\",\"exports\",\"module\"]).concat(i))),useInteractive&&(r=currentlyAddingScript||getInteractiveScript())&&(e||(e=r.getAttribute(\"data-requiremodule\")),n=contexts[r.getAttribute(\"data-requirecontext\")]),n?(n.defQueue.push([e,i,t]),n.defQueueMap[e]=!0):globalDefQueue.push([e,i,t])},define.amd={jQuery:!0},req.exec=function(text){return eval(text)},req(cfg)}function newContext(u){var i,e,l,c,d,g={waitSeconds:7,baseUrl:\"./\",paths:{},bundles:{},pkgs:{},shim:{},config:{}},p={},f={},r={},h=[],m={},n={},v={},x=1,b=1;function q(e,t,i){var r,n,o,a,s,u,c,d,p,f,l=t&&t.split(\"/\"),h=g.map,m=h&&h[\"*\"];if(e&&(u=(e=e.split(\"/\")).length-1,g.nodeIdCompat&&jsSuffixRegExp.test(e[u])&&(e[u]=e[u].replace(jsSuffixRegExp,\"\")),\".\"===e[0].charAt(0)&&l&&(e=l.slice(0,l.length-1).concat(e)),function(e){var t,i;for(t=0;t<e.length;t++)if(\".\"===(i=e[t]))e.splice(t,1),t-=1;else if(\"..\"===i){if(0===t||1===t&&\"..\"===e[2]||\"..\"===e[t-1])continue;0<t&&(e.splice(t-1,2),t-=2)}}(e),e=e.join(\"/\")),i&&h&&(l||m)){e:for(o=(n=e.split(\"/\")).length;0<o;o-=1){if(s=n.slice(0,o).join(\"/\"),l)for(a=l.length;0<a;a-=1)if((r=getOwn(h,l.slice(0,a).join(\"/\")))&&(r=getOwn(r,s))){c=r,d=o;break e}!p&&m&&getOwn(m,s)&&(p=getOwn(m,s),f=o)}!c&&p&&(c=p,d=f),c&&(n.splice(0,d,c),e=n.join(\"/\"))}return getOwn(g.pkgs,e)||e}function E(t){isBrowser&&each(scripts(),function(e){if(e.getAttribute(\"data-requiremodule\")===t&&e.getAttribute(\"data-requirecontext\")===l.contextName)return e.parentNode.removeChild(e),!0})}function w(e){var t=getOwn(g.paths,e);if(t&&isArray(t)&&1<t.length)return t.shift(),l.require.undef(e),l.makeRequire(null,{skipMap:!0})([e]),!0}function y(e){var t,i=e?e.indexOf(\"!\"):-1;return-1<i&&(t=e.substring(0,i),e=e.substring(i+1,e.length)),[t,e]}function S(e,t,i,r){var n,o,a,s,u=null,c=t?t.name:null,d=e,p=!0,f=\"\";return e||(p=!1,e=\"_@r\"+(x+=1)),u=(s=y(e))[0],e=s[1],u&&(u=q(u,c,r),o=getOwn(m,u)),e&&(u?f=i?e:o&&o.normalize?o.normalize(e,function(e){return q(e,c,r)}):-1===e.indexOf(\"!\")?q(e,c,r):e:(u=(s=y(f=q(e,c,r)))[0],f=s[1],i=!0,n=l.nameToUrl(f))),{prefix:u,name:f,parentMap:t,unnormalized:!!(a=!u||o||i?\"\":\"_unnormalized\"+(b+=1)),url:n,originalName:d,isDefine:p,id:(u?u+\"!\"+f:f)+a}}function k(e){var t=e.id,i=getOwn(p,t);return i||(i=p[t]=new l.Module(e)),i}function M(e,t,i){var r=e.id,n=getOwn(p,r);!hasProp(m,r)||n&&!n.defineEmitComplete?(n=k(e)).error&&\"error\"===t?i(n.error):n.on(t,i):\"defined\"===t&&i(m[r])}function O(i,e){var t=i.requireModules,r=!1;e?e(i):(each(t,function(e){var t=getOwn(p,e);t&&(t.error=i,t.events.error&&(r=!0,t.emit(\"error\",i)))}),r||req.onError(i))}function j(){globalDefQueue.length&&(each(globalDefQueue,function(e){var t=e[0];\"string\"==typeof t&&(l.defQueueMap[t]=!0),h.push(e)}),globalDefQueue=[])}function P(e){delete p[e],delete f[e]}function R(){var e,r,t=1e3*g.waitSeconds,n=t&&l.startTime+t<(new Date).getTime(),o=[],a=[],s=!1,u=!0;if(!i){if(i=!0,eachProp(f,function(e){var t=e.map,i=t.id;if(e.enabled&&(t.isDefine||a.push(e),!e.error))if(!e.inited&&n)w(i)?s=r=!0:(o.push(i),E(i));else if(!e.inited&&e.fetched&&t.isDefine&&(s=!0,!t.prefix))return u=!1}),n&&o.length)return(e=makeError(\"timeout\",\"Load timeout for modules: \"+o,null,o)).contextName=l.contextName,O(e);u&&each(a,function(e){!function n(o,a,s){var e=o.map.id;o.error?o.emit(\"error\",o.error):(a[e]=!0,each(o.depMaps,function(e,t){var i=e.id,r=getOwn(p,i);!r||o.depMatched[t]||s[i]||(getOwn(a,i)?(o.defineDep(t,m[i]),o.check()):n(r,a,s))}),s[e]=!0)}(e,{},{})}),n&&!r||!s||!isBrowser&&!isWebWorker||d||(d=setTimeout(function(){d=0,R()},50)),i=!1}}function a(e){hasProp(m,e[0])||k(S(e[0],null,!0)).init(e[1],e[2])}function o(e,t,i,r){e.detachEvent&&!isOpera?r&&e.detachEvent(r,t):e.removeEventListener(i,t,!1)}function s(e){var t=e.currentTarget||e.srcElement;return o(t,l.onScriptLoad,\"load\",\"onreadystatechange\"),o(t,l.onScriptError,\"error\"),{node:t,id:t&&t.getAttribute(\"data-requiremodule\")}}function T(){var e;for(j();h.length;){if(null===(e=h.shift())[0])return O(makeError(\"mismatch\",\"Mismatched anonymous define() module: \"+e[e.length-1]));a(e)}l.defQueueMap={}}return c={require:function(e){return e.require?e.require:e.require=l.makeRequire(e.map)},exports:function(e){if(e.usingExports=!0,e.map.isDefine)return e.exports?m[e.map.id]=e.exports:e.exports=m[e.map.id]={}},module:function(e){return e.module?e.module:e.module={id:e.map.id,uri:e.map.url,config:function(){return getOwn(g.config,e.map.id)||{}},exports:e.exports||(e.exports={})}}},(e=function(e){this.events=getOwn(r,e.id)||{},this.map=e,this.shim=getOwn(g.shim,e.id),this.depExports=[],this.depMaps=[],this.depMatched=[],this.pluginMaps={},this.depCount=0}).prototype={init:function(e,t,i,r){r=r||{},this.inited||(this.factory=t,i?this.on(\"error\",i):this.events.error&&(i=bind(this,function(e){this.emit(\"error\",e)})),this.depMaps=e&&e.slice(0),this.errback=i,this.inited=!0,this.ignore=r.ignore,r.enabled||this.enabled?this.enable():this.check())},defineDep:function(e,t){this.depMatched[e]||(this.depMatched[e]=!0,this.depCount-=1,this.depExports[e]=t)},fetch:function(){if(!this.fetched){this.fetched=!0,l.startTime=(new Date).getTime();var e=this.map;if(!this.shim)return e.prefix?this.callPlugin():this.load();l.makeRequire(this.map,{enableBuildCallback:!0})(this.shim.deps||[],bind(this,function(){return e.prefix?this.callPlugin():this.load()}))}},load:function(){var e=this.map.url;n[e]||(n[e]=!0,l.load(this.map.id,e))},check:function(){if(this.enabled&&!this.enabling){var t,e,i=this.map.id,r=this.depExports,n=this.exports,o=this.factory;if(this.inited){if(this.error)this.emit(\"error\",this.error);else if(!this.defining){if(this.defining=!0,this.depCount<1&&!this.defined){if(isFunction(o)){if(this.events.error&&this.map.isDefine||req.onError!==defaultOnError)try{n=l.execCb(i,o,r,n)}catch(e){t=e}else n=l.execCb(i,o,r,n);if(this.map.isDefine&&void 0===n&&((e=this.module)?n=e.exports:this.usingExports&&(n=this.exports)),t)return t.requireMap=this.map,t.requireModules=this.map.isDefine?[this.map.id]:null,t.requireType=this.map.isDefine?\"define\":\"require\",O(this.error=t)}else n=o;if(this.exports=n,this.map.isDefine&&!this.ignore&&(m[i]=n,req.onResourceLoad)){var a=[];each(this.depMaps,function(e){a.push(e.normalizedMap||e)}),req.onResourceLoad(l,this.map,a)}P(i),this.defined=!0}this.defining=!1,this.defined&&!this.defineEmitted&&(this.defineEmitted=!0,this.emit(\"defined\",this.exports),this.defineEmitComplete=!0)}}else hasProp(l.defQueueMap,i)||this.fetch()}},callPlugin:function(){var u=this.map,c=u.id,e=S(u.prefix);this.depMaps.push(e),M(e,\"defined\",bind(this,function(e){var o,t,i,r=getOwn(v,this.map.id),n=this.map.name,a=this.map.parentMap?this.map.parentMap.name:null,s=l.makeRequire(u.parentMap,{enableBuildCallback:!0});return this.map.unnormalized?(e.normalize&&(n=e.normalize(n,function(e){return q(e,a,!0)})||\"\"),M(t=S(u.prefix+\"!\"+n,this.map.parentMap,!0),\"defined\",bind(this,function(e){this.map.normalizedMap=t,this.init([],function(){return e},null,{enabled:!0,ignore:!0})})),void((i=getOwn(p,t.id))&&(this.depMaps.push(t),this.events.error&&i.on(\"error\",bind(this,function(e){this.emit(\"error\",e)})),i.enable()))):r?(this.map.url=l.nameToUrl(r),void this.load()):((o=bind(this,function(e){this.init([],function(){return e},null,{enabled:!0})})).error=bind(this,function(e){this.inited=!0,(this.error=e).requireModules=[c],eachProp(p,function(e){0===e.map.id.indexOf(c+\"_unnormalized\")&&P(e.map.id)}),O(e)}),o.fromText=bind(this,function(e,t){var i=u.name,r=S(i),n=useInteractive;t&&(e=t),n&&(useInteractive=!1),k(r),hasProp(g.config,c)&&(g.config[i]=g.config[c]);try{req.exec(e)}catch(e){return O(makeError(\"fromtexteval\",\"fromText eval for \"+c+\" failed: \"+e,e,[c]))}n&&(useInteractive=!0),this.depMaps.push(r),l.completeLoad(i),s([i],o)}),void e.load(u.name,s,o,g))})),l.enable(e,this),this.pluginMaps[e.id]=e},enable:function(){(f[this.map.id]=this).enabled=!0,this.enabling=!0,each(this.depMaps,bind(this,function(e,t){var i,r,n;if(\"string\"==typeof e){if(e=S(e,this.map.isDefine?this.map:this.map.parentMap,!1,!this.skipMap),this.depMaps[t]=e,n=getOwn(c,e.id))return void(this.depExports[t]=n(this));this.depCount+=1,M(e,\"defined\",bind(this,function(e){this.undefed||(this.defineDep(t,e),this.check())})),this.errback?M(e,\"error\",bind(this,this.errback)):this.events.error&&M(e,\"error\",bind(this,function(e){this.emit(\"error\",e)}))}i=e.id,r=p[i],hasProp(c,i)||!r||r.enabled||l.enable(e,this)})),eachProp(this.pluginMaps,bind(this,function(e){var t=getOwn(p,e.id);t&&!t.enabled&&l.enable(e,this)})),this.enabling=!1,this.check()},on:function(e,t){var i=this.events[e];i||(i=this.events[e]=[]),i.push(t)},emit:function(e,t){each(this.events[e],function(e){e(t)}),\"error\"===e&&delete this.events[e]}},(l={config:g,contextName:u,registry:p,defined:m,urlFetched:n,defQueue:h,defQueueMap:{},Module:e,makeModuleMap:S,nextTick:req.nextTick,onError:O,configure:function(e){if(e.baseUrl&&\"/\"!==e.baseUrl.charAt(e.baseUrl.length-1)&&(e.baseUrl+=\"/\"),\"string\"==typeof e.urlArgs){var i=e.urlArgs;e.urlArgs=function(e,t){return(-1===t.indexOf(\"?\")?\"?\":\"&\")+i}}var r=g.shim,n={paths:!0,bundles:!0,config:!0,map:!0};eachProp(e,function(e,t){n[t]?(g[t]||(g[t]={}),mixin(g[t],e,!0,!0)):g[t]=e}),e.bundles&&eachProp(e.bundles,function(e,t){each(e,function(e){e!==t&&(v[e]=t)})}),e.shim&&(eachProp(e.shim,function(e,t){isArray(e)&&(e={deps:e}),!e.exports&&!e.init||e.exportsFn||(e.exportsFn=l.makeShimExports(e)),r[t]=e}),g.shim=r),e.packages&&each(e.packages,function(e){var t;t=(e=\"string\"==typeof e?{name:e}:e).name,e.location&&(g.paths[t]=e.location),g.pkgs[t]=e.name+\"/\"+(e.main||\"main\").replace(currDirRegExp,\"\").replace(jsSuffixRegExp,\"\")}),eachProp(p,function(e,t){e.inited||e.map.unnormalized||(e.map=S(t,null,!0))}),(e.deps||e.callback)&&l.require(e.deps||[],e.callback)},makeShimExports:function(t){return function(){var e;return t.init&&(e=t.init.apply(global,arguments)),e||t.exports&&getGlobal(t.exports)}},makeRequire:function(o,a){function s(e,t,i){var r,n;return a.enableBuildCallback&&t&&isFunction(t)&&(t.__requireJsBuild=!0),\"string\"==typeof e?isFunction(t)?O(makeError(\"requireargs\",\"Invalid require call\"),i):o&&hasProp(c,e)?c[e](p[o.id]):req.get?req.get(l,e,o,s):(r=S(e,o,!1,!0).id,hasProp(m,r)?m[r]:O(makeError(\"notloaded\",'Module name \"'+r+'\" has not been loaded yet for context: '+u+(o?\"\":\". Use require([])\")))):(T(),l.nextTick(function(){T(),(n=k(S(null,o))).skipMap=a.skipMap,n.init(e,t,i,{enabled:!0}),R()}),s)}return a=a||{},mixin(s,{isBrowser:isBrowser,toUrl:function(e){var t,i=e.lastIndexOf(\".\"),r=e.split(\"/\")[0];return-1!==i&&(!(\".\"===r||\"..\"===r)||1<i)&&(t=e.substring(i,e.length),e=e.substring(0,i)),l.nameToUrl(q(e,o&&o.id,!0),t,!0)},defined:function(e){return hasProp(m,S(e,o,!1,!0).id)},specified:function(e){return e=S(e,o,!1,!0).id,hasProp(m,e)||hasProp(p,e)}}),o||(s.undef=function(i){j();var e=S(i,o,!0),t=getOwn(p,i);t.undefed=!0,E(i),delete m[i],delete n[e.url],delete r[i],eachReverse(h,function(e,t){e[0]===i&&h.splice(t,1)}),delete l.defQueueMap[i],t&&(t.events.defined&&(r[i]=t.events),P(i))}),s},enable:function(e){getOwn(p,e.id)&&k(e).enable()},completeLoad:function(e){var t,i,r,n=getOwn(g.shim,e)||{},o=n.exports;for(j();h.length;){if(null===(i=h.shift())[0]){if(i[0]=e,t)break;t=!0}else i[0]===e&&(t=!0);a(i)}if(l.defQueueMap={},r=getOwn(p,e),!t&&!hasProp(m,e)&&r&&!r.inited){if(!(!g.enforceDefine||o&&getGlobal(o)))return w(e)?void 0:O(makeError(\"nodefine\",\"No define call for \"+e,null,[e]));a([e,n.deps||[],n.exportsFn])}R()},nameToUrl:function(e,t,i){var r,n,o,a,s,u,c=getOwn(g.pkgs,e);if(c&&(e=c),u=getOwn(v,e))return l.nameToUrl(u,t,i);if(req.jsExtRegExp.test(e))a=e+(t||\"\");else{for(r=g.paths,o=(n=e.split(\"/\")).length;0<o;o-=1)if(s=getOwn(r,n.slice(0,o).join(\"/\"))){isArray(s)&&(s=s[0]),n.splice(0,o,s);break}a=n.join(\"/\"),a=(\"/\"===(a+=t||(/^data\\:|^blob\\:|\\?/.test(a)||i?\"\":\".js\")).charAt(0)||a.match(/^[\\w\\+\\.\\-]+:/)?\"\":g.baseUrl)+a}return g.urlArgs&&!/^blob\\:/.test(a)?a+g.urlArgs(e,a):a},load:function(e,t){req.load(l,e,t)},execCb:function(e,t,i,r){return t.apply(r,i)},onScriptLoad:function(e){if(\"load\"===e.type||readyRegExp.test((e.currentTarget||e.srcElement).readyState)){interactiveScript=null;var t=s(e);l.completeLoad(t.id)}},onScriptError:function(e){var i=s(e);if(!w(i.id)){var r=[];return eachProp(p,function(e,t){0!==t.indexOf(\"_@r\")&&each(e.depMaps,function(e){if(e.id===i.id)return r.push(t),!0})}),O(makeError(\"scripterror\",'Script error for \"'+i.id+(r.length?'\", needed by: '+r.join(\", \"):'\"'),e,[i.id]))}}}).require=l.makeRequire(),l}function getInteractiveScript(){return interactiveScript&&\"interactive\"===interactiveScript.readyState||eachReverse(scripts(),function(e){if(\"interactive\"===e.readyState)return interactiveScript=e}),interactiveScript}}(this,\"undefined\"==typeof setTimeout?void 0:setTimeout);</script>\n",
       "<script type='text/javascript'>\n",
       "require.config({\n",
       "paths: {'plotly': \"https://cdn.plot.ly/plotly-latest.min\"},\n",
       "})\n",
       "require( ['plotly'], function(Plotly) {\n",
       "window.Plotly = Plotly;\n",
       "})\n",
       "</script>\n"
      ]
     },
     "metadata": {},
     "output_type": "display_data"
    },
    {
     "data": {
      "text/plain": [
       "\u001b[32mimport \u001b[39m\u001b[36mpicta.Html._ // required to initialize jupyter notebook mode\n",
       "\u001b[39m"
      ]
     },
     "execution_count": 3,
     "metadata": {},
     "output_type": "execute_result"
    }
   ],
   "source": [
    "import picta.Html._ // required to initialize jupyter notebook mode\n",
    "init_notebook_mode() // stops ugly output"
   ]
  },
  {
   "cell_type": "markdown",
   "metadata": {},
   "source": [
    "# 1. Basics\n",
    "\n",
    "The aim of the Picta library is to be a highly configurable and composable general purpose charting library. The following examples are aimed at highlighting the charting grammar for the library, which should make constructing charts easy and intuitive."
   ]
  },
  {
   "cell_type": "markdown",
   "metadata": {},
   "source": [
    "#### Colors\n",
    "\n",
    "Colors in the library are represented as one of two types:\n",
    "\n",
    "1. `List[String]` => this may either be a color word, such as \"red\", or RGB value, such as \"rgb(255, 255, 255, 1)\".\n",
    "2. `List[Double]`"
   ]
  },
  {
   "cell_type": "markdown",
   "metadata": {},
   "source": [
    "#### Lines\n",
    "\n",
    "Lines are perhaps the simplest chart component. The constructor takes in the following arguments:\n",
    "\n",
    "1. `width: Double`\n",
    "2. `color: List[Double] or List[String] or String`\n",
    "\n",
    "They may be composed as follows:"
   ]
  },
  {
   "cell_type": "code",
   "execution_count": 4,
   "metadata": {},
   "outputs": [
    {
     "name": "stdout",
     "output_type": "stream",
     "text": [
      "Line(0.5,Some(List(rgb(255, 255, 255, 1))))\n"
     ]
    }
   ],
   "source": [
    "import picta.options.Line\n",
    "\n",
    "val line = Line() + \"rgb(255, 255, 255, 1)\" // the default constructor for Line has a width of 0.5\n",
    "\n",
    "println(line)"
   ]
  },
  {
   "cell_type": "markdown",
   "metadata": {},
   "source": [
    "#### Markers\n",
    "\n",
    "Markers take in the following optional parameters:\n",
    "\n",
    "1. `symbol: String`\n",
    "2. `color: List[String] or List[Double]`\n",
    "3. `line: Line`\n",
    "\n",
    "Again, composition of a line follows a similar pattern. However, we must wrap the color/s inside a `List` to avoid confusing the compiler. Here we create a `circle` marker, with the color `red` and a `line` of width 0.5:"
   ]
  },
  {
   "cell_type": "code",
   "execution_count": 5,
   "metadata": {},
   "outputs": [
    {
     "name": "stdout",
     "output_type": "stream",
     "text": [
      "Marker(None,Some(List(red)),Some(Line(0.5,Some(List()))))\n"
     ]
    }
   ],
   "source": [
    "import picta.options.Marker\n",
    "\n",
    "val marker = Marker() + \"circle\" + List(\"red\") + Line()\n",
    "\n",
    "println(marker)"
   ]
  },
  {
   "cell_type": "markdown",
   "metadata": {},
   "source": [
    "### [TO BE CONTINUED.....]"
   ]
  },
  {
   "cell_type": "markdown",
   "metadata": {},
   "source": [
    "## Chart compositions\n",
    "\n",
    "Charts consist of 3 components:\n",
    "\n",
    "1. `data`\n",
    "2. `layout`\n",
    "3. `config`\n",
    "\n",
    "Generally, most of the compositions make use of `data` and `layout` components."
   ]
  },
  {
   "cell_type": "markdown",
   "metadata": {},
   "source": [
    "#### Scatter Charts and Line Charts"
   ]
  },
  {
   "cell_type": "code",
   "execution_count": 6,
   "metadata": {},
   "outputs": [],
   "source": [
    "// some dummy data for x and y variables\n",
    "val x = List.range(1, 50)\n",
    "val y = x.map(x => x + scala.util.Random.nextDouble()*100)"
   ]
  },
  {
   "cell_type": "code",
   "execution_count": 7,
   "metadata": {},
   "outputs": [],
   "source": [
    "import picta.series.XY\n",
    "import picta.series.XYChartType._\n",
    "\n",
    "// the two data series are then wrapped inside \n",
    "val data = XY(x, y, series_name=\"test\", series_type=SCATTER, series_mode=\"markers\")"
   ]
  },
  {
   "cell_type": "code",
   "execution_count": 8,
   "metadata": {},
   "outputs": [],
   "source": [
    "import picta.options.{Layout, Config}\n",
    "\n",
    "// The layout is a composable object which determines how the chart is displayed\n",
    "val layout = Layout(title=Some(\"Chart\"))\n",
    "// the configuration option allows us to set whether the chart is responsible and zoomable using scroll\n",
    "val config = Config(responsive=false, scrollZoom=true)"
   ]
  },
  {
   "cell_type": "code",
   "execution_count": 9,
   "metadata": {},
   "outputs": [
    {
     "data": {
      "text/html": [
       "\n",
       "<div align=\"center\">\n",
       "<div id='graph_1593783929231' style=\"width:100%; margin:0 auto;\"></div>\n",
       "</div>\n",
       "<script>\n",
       " var traces = [{\"name\":\"test\",\"type\":\"scatter\",\"xaxis\":\"x\",\"yaxis\":\"y\",\"mode\":\"markers\",\"x\":[1,2,3,4,5,6,7,8,9,10,11,12,13,14,15,16,17,18,19,20,21,22,23,24,25,26,27,28,29,30,31,32,33,34,35,36,37,38,39,40,41,42,43,44,45,46,47,48,49],\"y\":[88.38288106994996,7.220206822300655,68.55466568231428,24.53294585601957,54.98721125886614,71.74469712045574,89.42166260165193,43.05703685391867,35.02353933654086,40.32365853545485,45.794912420086554,46.94308522275301,85.76593495230883,60.596944516305804,43.48738925087455,50.07002163084443,46.32610113431747,83.56487091042229,79.6773002271095,107.5938266020024,116.75317236817595,108.27659298604631,31.19809442521555,52.58712725223946,96.34418049312967,122.9857939086274,28.194266633948793,32.46185959429397,43.753710746940214,41.128780789961056,129.4911624874756,113.30543965008478,126.66701747898236,123.93711771761306,79.01541303629801,84.0305043010544,74.60168073349043,40.57896372285173,76.21574109511383,71.63276196195596,134.82861206978262,141.43031851728188,137.67233539252862,73.8710468716094,58.45409160166378,110.40938766988022,61.94610663127759,126.32817686497432,111.38018812676509]}];\n",
       " var layout = {\"height\":500,\"width\":800,\"title\":{\"text\":\"Chart\"}};\n",
       " var config = {\"responsive\":false,\"scrollZoom\":true,\"displaylogo\":false};\n",
       " Plotly.newPlot(\"graph_1593783929231\", traces, layout, config);\n",
       "</script>\n"
      ]
     },
     "metadata": {},
     "output_type": "display_data"
    }
   ],
   "source": [
    "import picta.charts.Chart\n",
    "\n",
    "// we can compose a chart using the data, layout and config elements above. This grammar is the same for all charts\n",
    "val chart = Chart() + data + layout + config\n",
    "chart.plot_inline()"
   ]
  },
  {
   "cell_type": "markdown",
   "metadata": {},
   "source": [
    "#### Adding Additional Traces to a Chart\n",
    "\n",
    "We can compose an existing chart with more data series using the same composition technique as shown above for other components:"
   ]
  },
  {
   "cell_type": "code",
   "execution_count": 10,
   "metadata": {},
   "outputs": [
    {
     "data": {
      "text/html": [
       "\n",
       "<div align=\"center\">\n",
       "<div id='graph_1593783929507' style=\"width:100%; margin:0 auto;\"></div>\n",
       "</div>\n",
       "<script>\n",
       " var traces = [{\"name\":\"data1\",\"type\":\"bar\",\"xaxis\":\"x\",\"yaxis\":\"y\",\"x\":[1,2,3,4,5,6,7,8,9,10,11,12,13,14,15,16,17,18,19,20,21,22,23,24,25,26,27,28,29,30,31,32,33,34,35,36,37,38,39,40,41,42,43,44,45,46,47,48,49],\"y\":[156.64723218408884,91.42777260172944,163.6354578161616,84.69472111511598,121.27400032550818,148.04291224786363,177.52249889735486,141.7611624064173,106.15367131921698,47.93941183986699,113.82581187486852,129.2388969672037,170.01037362897824,65.17449250676225,125.60754589807013,110.71747751638294,134.22202944767878,112.9700886257756,153.55449076640866,205.00146554371094,200.57482578096347,196.86297606795043,108.58858802402159,80.6401993408539,110.62095996316529,140.59375266641743,103.481259712096,45.56275423096724,60.31762992961113,136.5473924274482,214.43462002110635,198.57220456683876,169.75809660115243,216.50343566819694,167.85060783365066,106.52368229520451,100.18838476997242,138.64919753284693,168.01671236145418,124.33098740831659,209.13604683881337,143.2546548589838,208.19493328968233,84.51685898016984,139.36024164714365,142.1030298180575,140.6083175509832,148.84227991982073,148.4651352040703]},{\"name\":\"test\",\"type\":\"scatter\",\"xaxis\":\"x\",\"yaxis\":\"y\",\"mode\":\"markers\",\"x\":[1,2,3,4,5,6,7,8,9,10,11,12,13,14,15,16,17,18,19,20,21,22,23,24,25,26,27,28,29,30,31,32,33,34,35,36,37,38,39,40,41,42,43,44,45,46,47,48,49],\"y\":[88.38288106994996,7.220206822300655,68.55466568231428,24.53294585601957,54.98721125886614,71.74469712045574,89.42166260165193,43.05703685391867,35.02353933654086,40.32365853545485,45.794912420086554,46.94308522275301,85.76593495230883,60.596944516305804,43.48738925087455,50.07002163084443,46.32610113431747,83.56487091042229,79.6773002271095,107.5938266020024,116.75317236817595,108.27659298604631,31.19809442521555,52.58712725223946,96.34418049312967,122.9857939086274,28.194266633948793,32.46185959429397,43.753710746940214,41.128780789961056,129.4911624874756,113.30543965008478,126.66701747898236,123.93711771761306,79.01541303629801,84.0305043010544,74.60168073349043,40.57896372285173,76.21574109511383,71.63276196195596,134.82861206978262,141.43031851728188,137.67233539252862,73.8710468716094,58.45409160166378,110.40938766988022,61.94610663127759,126.32817686497432,111.38018812676509]}];\n",
       " var layout = {\"height\":500,\"width\":800,\"title\":{\"text\":\"Chart\"}};\n",
       " var config = {\"responsive\":false,\"scrollZoom\":true,\"displaylogo\":false};\n",
       " Plotly.newPlot(\"graph_1593783929507\", traces, layout, config);\n",
       "</script>\n"
      ]
     },
     "metadata": {},
     "output_type": "display_data"
    }
   ],
   "source": [
    "// additional traces can simply be composed with an existing chart and added on\n",
    "val data1 = XY(x, y.map(x => x + scala.util.Random.nextDouble()*100), series_name=\"data1\", series_type=BAR)\n",
    "\n",
    "val chart1 = chart + data1\n",
    "chart1.plot_inline()"
   ]
  },
  {
   "cell_type": "markdown",
   "metadata": {},
   "source": [
    "#### Pie Chart"
   ]
  },
  {
   "cell_type": "code",
   "execution_count": 11,
   "metadata": {},
   "outputs": [
    {
     "data": {
      "text/html": [
       "\n",
       "<div align=\"center\">\n",
       "<div id='graph_1593783929793' style=\"width:100%; margin:0 auto;\"></div>\n",
       "</div>\n",
       "<script>\n",
       " var traces = [{\"name\":\"test\",\"type\":\"pie\",\"values\":[19,26,55],\"labels\":[\"Residential\",\"Non-Residential\",\"Utility\"]}];\n",
       " var layout = {\"height\":500,\"width\":800,\"title\":{\"text\":\"Pie Chart\"}};\n",
       " var config = {\"responsive\":false,\"scrollZoom\":true,\"displaylogo\":false};\n",
       " Plotly.newPlot(\"graph_1593783929793\", traces, layout, config);\n",
       "</script>\n"
      ]
     },
     "metadata": {},
     "output_type": "display_data"
    }
   ],
   "source": [
    "// pie charts can be composed in a similar way:\n",
    "val data = XY(List(19, 26, 55), List(\"Residential\", \"Non-Residential\", \"Utility\"), series_name=\"test\", series_type=PIE)\n",
    "val layout = Layout(Some(\"Pie Chart\"))\n",
    "val chart = Chart() + data +  layout + config\n",
    "chart.plot_inline()"
   ]
  },
  {
   "cell_type": "markdown",
   "metadata": {},
   "source": [
    "#### Setting Axes\n",
    "\n",
    "For all charts, each axis can be composed invidiually. The following is an example for a `Histogram` chart:"
   ]
  },
  {
   "cell_type": "code",
   "execution_count": 12,
   "metadata": {},
   "outputs": [],
   "source": [
    "val x = List.range(1, 1000).map(_+scala.util.Random.nextDouble()*1000)\n",
    "\n",
    "// for histogram charts, the xkey must be specified. It essentially sets the orientation (x direction or y direction)\n",
    "val data = XY(x=x, xkey=\"x\", series_name=\"hist\", series_type=HISTOGRAM)"
   ]
  },
  {
   "cell_type": "code",
   "execution_count": 13,
   "metadata": {},
   "outputs": [
    {
     "data": {
      "text/html": [
       "\n",
       "<div align=\"center\">\n",
       "<div id='graph_1593783930212' style=\"width:100%; margin:0 auto;\"></div>\n",
       "</div>\n",
       "<script>\n",
       " var traces = [{\"name\":\"hist\",\"type\":\"histogram\",\"xaxis\":\"x\",\"yaxis\":\"y\",\"x\":[575.5200417015351,850.6972533583315,898.3975372826699,906.3971350372727,778.2385485138313,508.675547693728,792.4129642979942,328.1000116232476,980.3048250358913,980.3917416194869,52.75774274673838,571.7990835417061,982.0475521385404,817.9263544665274,69.58557211531046,283.327472521633,570.264324278933,542.3968299656227,792.7702174853385,760.442768204594,705.4355199741353,1006.2567321800082,196.54551810486896,656.0633380748324,583.8359965856121,358.64984282050904,885.7212117214044,981.046907367743,980.2150150025202,724.811700847325,638.3050794202417,629.320653210032,656.597298004886,98.20628515667181,887.3689857291952,988.9914108464224,908.8907849340783,488.03102933575025,759.2556236277486,200.13596298231215,515.3701055473846,64.91839908561666,305.7287647134441,273.29100602556497,449.73677770831904,904.1076179176672,994.4294007638783,592.2326584305506,726.3407661083664,938.0559143349341,355.00665366766646,290.4563560383207,656.2799995702618,899.403125577182,917.5508670827576,612.8373873907177,610.4780109030856,360.3996987781137,225.46380557633512,652.2734516299114,109.47235355639157,456.35263788559274,756.658835721018,785.6803435344823,689.5290704483458,518.3399874836573,1044.9917824230533,724.5326580814819,530.8317042574456,634.389161705281,158.08066382573975,342.2110403878808,275.8759083723962,108.51011251615398,958.1808866571697,343.738876799731,814.833403549414,893.4194966661012,249.53974902107905,403.06046555435944,1069.532423177012,335.48728529603693,998.6621716129681,608.8338378685652,968.8335753140747,989.3826347522842,303.1775373086773,931.7814081614544,875.564141353138,835.0913313989438,680.5047669728433,954.9618863110154,698.8054012910296,961.4217834585148,549.2714270361706,292.89747477581,805.2113925349691,667.8129668543039,484.4495928470468,966.3103156105584,629.1696390273366,980.2016034374525,941.4296443690248,496.292743267993,573.9974677421087,776.9026871874264,664.7606887794818,635.0560061208563,395.0006066161216,1076.90155493168,924.0443333389833,459.9728008397996,760.1027737464167,555.6515527909089,1052.4756559352218,1023.4487737125452,1094.8889322454916,1022.4168768571259,502.7844648955767,873.228735715905,136.28644736028593,418.39497912254444,780.8359842938189,536.0637152773068,842.7423106997153,876.2983387001005,168.90929394392052,492.23513418635554,438.63655444166903,519.7712548997999,1108.6790834790413,259.2528148768234,406.80540837179643,974.9618495107413,478.1839464435064,950.113540743045,185.43009154343326,1016.7653081921787,767.5728263020076,1074.827806584208,174.18034519392467,378.69951864042184,335.17834983895233,413.4922020286751,409.3842353773316,518.0696000437306,508.4741032733919,505.0050718955693,929.128917396669,1047.0231705495296,283.7306195108422,667.5940664314039,416.57976744752534,615.2932243205689,773.6924281296692,495.64400896575785,183.43775853539898,261.87161776053097,354.3564497937431,461.8835247675563,935.338335090782,640.5501471919213,669.9401596842962,594.8102699441469,1047.1276995523504,1068.2129848553677,269.3852124676006,198.3035733129553,268.3343943218982,1044.958313140085,668.2502533889274,233.69471506862277,877.7887860831366,751.5732162287467,1056.6047359526945,294.13466693621154,311.223324358117,1042.580558358396,706.5429216510499,1066.919800168606,196.82183379651693,622.0222765632124,372.1953414544827,801.5062953940187,551.0668795960572,414.338708255291,620.6226452843568,579.2642089823729,610.868151339572,624.1488712637515,1083.7348485181979,1115.592617597016,407.8374316620177,616.4319712869298,1079.3863712458574,415.83739478543873,726.7082744241968,542.5554714893057,914.0555509226168,853.5235817870383,532.2817128237598,587.7911026940021,450.0246147075292,1142.7348948893332,297.9114821880953,822.4043443590708,1196.734554997901,236.04242685006008,923.4261019804985,901.0994429146067,268.9963229682523,395.20604525462426,1091.516797805151,274.54633571805437,1043.9985781544765,553.9411789701667,979.003948452367,1151.911954071537,244.55897338466696,620.3649364257873,1213.027102917329,1184.7631581938376,477.824666763082,551.3051208052485,842.0865799053149,730.4038882970857,966.6350981028259,871.4762901858303,877.9974329414326,596.6550138853934,325.0178492165551,807.5976462240732,657.1993315483093,370.27987601757775,749.7965513070883,360.8470906876967,868.4988816571934,787.7042522618495,927.047175862915,450.6167832592364,599.2035053313239,1119.3750456089942,285.14749570129004,728.3556420097768,1162.7390405689885,1208.0465573359184,965.4212733990206,782.354299126748,788.2257527431761,626.4792829208714,1026.8878635228907,1232.6488039361584,476.12060261333755,401.4810575938777,953.384649347517,649.7891244521675,453.91611031266154,888.9158024955773,489.3379633313303,322.0392641734672,702.0191525620208,678.2503386567626,1194.7161796801615,642.6460329057909,962.3158610370813,855.4054295527943,880.2059357172293,292.1335019473773,490.5613937133634,559.1217298029123,1260.41078424224,450.1509185060275,568.6164880945164,528.7477571157308,745.8790495486322,987.2220255191597,453.68516849765035,1260.301105096854,284.0256410847794,958.8137930579863,1009.0910356249739,462.85046559017735,554.5202662294475,752.4632016670242,734.7624257316734,738.710577705243,626.4723690423612,923.2710620532491,295.4790907826928,798.6380511293243,392.75111574034304,1093.8916114721108,931.0665443024344,1067.161007769883,711.036000672017,1292.2179556286842,325.10653048138613,1233.371019127449,1201.7022895855139,753.282436718397,607.3649350470109,1158.9509035842157,1079.402450562498,521.462665459705,1170.0215376073465,567.9073628701026,1228.2132402847399,1154.9030720167038,888.9185615766069,1111.422927015947,969.4755320973932,456.13320574685406,1158.4278289565164,726.4367205822293,616.9618423568584,431.18319129058096,872.169383768177,688.0089198205344,965.7646092831997,614.0684523135687,1111.6966518245126,393.2192916721651,1319.305501291622,484.3344860859953,841.3970442966888,708.2952205817357,523.1245253216905,952.4244599303984,350.2384542528091,660.8602108867606,744.6150411275459,790.951356496671,529.6260478005647,365.6390175605961,414.6286784708408,449.52741502597985,1331.5158231129649,1334.65085767854,829.8823473507823,906.6238988268717,912.0646114923378,741.8674699361724,404.3566112021794,1084.004271745977,1033.4787365931327,787.5083284913675,453.3833267006259,877.5942547166377,1270.356637972743,1038.5902905653036,695.8775866958536,1043.2227190929334,446.70340489377327,510.0443182975316,368.1772872565569,1016.4876285983652,515.9278624004054,1294.657664305759,957.2110939981806,1243.071221634444,788.5160511706129,750.2945571363347,1081.2238310058494,749.1494777939964,1010.7073789061832,609.2942173818154,973.0455696184571,491.11083366665133,1302.382630860288,887.6402491527734,1353.8989061590335,489.61962332816154,373.50609759323504,1140.4405765604683,1224.99685058451,875.129760288477,755.8462214063218,435.4526226334929,1249.690880444241,750.2750465368629,1010.3330911427065,397.83371790506527,950.6873859634342,1209.1319852939828,1000.2926260354658,816.9918224717658,904.858036778565,944.1722462069126,1356.9311364969406,600.3573085984417,482.4273120850695,618.7912746143949,1205.826214174689,1309.0915292301574,447.8288517363603,586.6206754565546,1071.812850224369,1117.1933682622166,916.2791560821455,598.4017485573204,634.5366241152398,798.160379770441,743.126137837652,853.0182150488683,668.0784324653449,1262.3062819009735,412.2867141910944,1121.3562645194606,1065.4380003367673,1243.0316555758054,885.5962834167075,699.9803737117387,1322.2965596241002,961.7908708775982,676.6501003954645,636.1839449813847,1234.361636967097,989.1922615808575,620.7250808758715,1006.7938219787014,848.7294034531908,1063.6152187723662,426.6275789111593,1030.1779508996326,902.0837519447034,1328.922290271108,1116.8211312155627,444.2263003017383,1077.183070826452,1309.2898765756704,888.9457663134981,892.6448725576188,1413.9691217984455,951.8767675621493,764.8481144798513,1027.723366389297,1122.7650304426888,1236.9946283547174,632.4995097093251,659.8070093539573,864.4122643587089,1180.6401674150559,931.687383395097,562.0238362560968,1285.8292619625897,535.6938830505378,1286.1223487513223,473.3886051158724,1229.3571153813496,1135.7855971720212,842.6119090707439,1434.2248831268957,570.3907757774646,619.7723280310602,942.2092031738825,834.9176009889634,1080.1766256282708,1224.9695162402445,1018.7528795775613,462.32797067794434,1059.2906337930708,1443.7215449781365,1296.972320307571,1387.7737117206639,742.1934851563433,600.5933164133723,945.3401963392613,756.2971584530083,634.3926053370708,826.4094248999536,828.1116995684307,1409.0146630601478,1011.123095884698,480.56320015322075,896.4983405161374,798.6607845743317,780.0929536518288,804.4631350007755,560.6814083587792,843.0111502228602,790.720408974034,1476.679200833336,1092.3783402265958,1201.6878475185865,1458.4243455200608,784.297302836103,1221.9328797158746,958.9224221976543,1264.9113085037147,1325.185161246734,614.4077652706374,848.1704124531424,1294.0353422321427,512.3183120462229,835.9165986945187,964.0433275161924,1467.690314442491,664.0102834113817,754.4393237389683,1372.843043527741,557.3264271896886,1132.8361292270747,1058.62323056708,1155.054182370208,1364.0656663782288,751.2340883274961,723.5799201165761,1191.4709973988406,684.0243636303284,853.2150852226305,804.4456201787351,1439.2046915770607,805.3328084938453,1269.3056445893853,896.4809206278014,534.6378739079076,1319.4754875910114,985.7943821972027,964.7428720036096,1307.4633354332423,971.9580301588244,609.5483606135261,1016.8712395625782,1193.2641984206048,1125.939632737217,1386.110114850326,1269.2875751611691,591.6631623836269,1167.3529622485476,1281.4819518942425,1040.1142083977165,932.8885332684002,841.16573175965,556.9496888913332,591.3778076216317,587.6756166129568,1075.821616505591,1341.4922149470035,1538.569834002316,783.7416167734926,1326.5304705908438,937.7700898601524,1247.3947379905953,1376.6431840251641,847.9609288255408,985.3803907140616,845.5432214766702,663.6455370805079,593.0211071984677,1149.011071675951,1091.5874069475867,1426.3026868826996,626.7961734065148,699.3231737755425,1363.60087967246,1040.7687149473438,1043.343868460666,1210.8346509449334,1456.8657674990445,804.4298392081123,1377.9326333280328,613.7745317425182,713.0358712081083,593.2680843204312,1418.4389847261655,1005.8221924757581,1242.3832308443193,586.4368708683111,1137.004380408369,954.8407711547853,646.2631003440026,1072.849848343812,1186.683783015052,1505.1601963623905,698.6900875878445,1289.1541528187147,1037.7019149844714,737.6598130942039,903.9261550168741,829.2798196476986,1364.064995320506,1527.8460795334445,711.2389542385138,1412.8271769423081,733.6595259141654,1096.3163905078004,1438.4966760230736,702.8747300164888,1003.601576307527,1052.4452632935063,633.0235029707094,1423.3599645218426,1077.483786168601,894.823929285815,681.1476920017748,1242.0058386568714,842.2991645171936,1350.9308523049062,967.1317214455648,756.8365771551605,1170.204424294266,1513.7046090220585,777.6822582862919,1452.6458739887062,843.9177123404861,1464.1369557651155,1449.9950724256164,678.3515284804033,1144.4289051561454,956.6988348883369,969.2982794810036,1536.9908095426672,625.8332028033853,788.3570479869452,1336.1145541122671,1077.180554454244,1294.481610064056,672.135415384634,1543.9713083174815,1328.1874865355935,1008.2748219650796,792.6187097093614,935.0452470060518,1530.3229801341604,1416.8094786849572,733.4935805392605,1034.2359398769936,1378.1985017511447,1174.219123369181,1136.1657673664872,701.4202066581001,1216.446879937565,1473.9346824683103,1273.6880831665965,1587.1477054916952,905.8355893635505,1178.2218455446316,705.6792685001533,1428.795310464527,1512.2684555933297,945.2361994378574,1317.6088232304405,682.2061077634141,1061.9925204512724,792.4691797665155,1341.7684372034373,1348.0961190378182,1353.3965679881935,1477.8410165390897,1407.4459771502713,1623.0205296489924,1219.1092778295927,928.3295439542327,1274.262950923006,1181.447950525016,691.6739588823016,700.9066431312633,665.332228560629,1478.4999943272153,1241.8981648704996,1121.6868776062897,1535.8376750571183,1452.1706679910217,1631.0462551585638,1316.5757288684545,1187.8328364917575,1399.3481288166834,946.3634494766909,820.3372363554749,873.5011594242031,1601.719132367662,1073.9901202167152,830.8846707241877,916.8153833508798,1485.644404917201,1204.1457457704487,1461.7293359652288,927.4792938091891,714.3507391304515,960.531637726195,1537.906711831488,1381.230065332119,1631.2934202259753,1399.2224291904022,1579.3307721969122,697.0250317817296,900.3012817763373,1431.886404107434,1620.411364738829,954.331793939723,1021.1226296995209,1193.9950267866104,1425.9009314472332,1562.6858258626576,1638.2503889010088,1500.7523180981152,1480.3211609427176,1520.87555984848,1206.4106108875335,811.7952881889161,851.9517746931473,1384.5595863752687,1627.8576661903467,1060.2865363234228,1662.2469856026953,1698.8161862249508,934.6265936845941,1292.8408715884211,1427.6781131405237,1446.0710082234414,953.1509912902713,1313.7977545901917,983.3832600698073,1010.0436023584361,1159.1627789324154,1430.6719851285839,1046.6380738261569,1262.7988320640347,1607.5480109131777,957.1850677571406,733.0442832883856,1644.6851298037568,904.840377884178,1346.1002831242417,1499.4655598339232,1525.8857872580215,1681.2923402992824,1696.1546200551643,1055.1229574492995,1713.505934236503,914.9711278316595,905.7011116358963,755.8954704298922,1699.5623269601851,762.0853728300376,930.2453955674118,876.7530375911595,1132.9387552432281,1255.7548955317397,1441.8806188844014,943.3834336231274,1042.3152694324835,1349.6952818683226,1685.6952638855832,996.4563018909829,1537.2743578198777,1303.795280195181,1481.5486238677192,1260.6007195994391,1071.2328955251653,1335.3242939859233,1129.1787871143626,1195.0558344948768,862.5438848561575,792.5138500260041,1440.4289598305581,1314.0861396888863,1739.057266233456,846.5154356734029,1244.4475232608079,1482.6367058715307,1496.6242936088156,843.2447825133281,1490.0379549805575,1616.3357557764843,843.4756455500193,1008.3801977713152,1503.9048462706778,844.8351456815303,1140.0982864095308,1156.7908479378052,1054.362908662867,1233.6120036512377,1438.1817403669552,1421.9281632556786,1617.145697373552,1101.7377241132842,1772.399762148199,791.2219773032873,1643.271381848979,821.7531371593436,1265.238232865602,1410.280005363758,1688.4932060423366,1742.671569623344,1367.7762658325294,1201.6979725540502,979.6826013581122,1538.2644997991365,1478.271861040288,1333.544909143648,1365.5629305051366,850.1669229650819,1255.5995298199718,1468.0960861981516,1627.5325938791339,1568.9728062951003,1176.0322918263055,1523.1439947770682,810.8863357401254,1476.3734205219457,1269.5554722641743,886.2253932756956,1577.5637457142893,1257.5245608089099,1515.8459456206974,1636.3605945931754,1578.6245792663558,1085.2110566519732,1080.2446346132847,1348.4084965280658,1497.970530972593,1076.0100848974694,1426.4962029306537,1481.898984474556,1728.4037532745642,923.5374788301053,1355.7249079900353,1189.2123759481904,1606.932260596347,924.9941850183668,1190.0609507724234,1617.23253333191,1758.3031376986582,1434.6124684374308,1644.5269267938943,1422.1093333498368,1374.0644682887673,1501.2348656374793,1412.2391305235415,1268.5227297875504,1189.02739670509,1077.14107471939,1125.6742997301922,1542.8494035517392,1507.8198825837335,1721.3712742013454,1150.6970585867634,1373.890280712241,881.2941912444295,1163.1767539509656,1620.2391087605624,1325.3253541779143,935.8703701576446,1439.862097764526,1220.9662188214054,1800.8194799851658,1418.4682966045289,1578.1653480315424,1508.9646152116181,1285.7116978240315,1735.5011647028427,949.4557539967556,949.4234843650015,1038.4770346709731,1136.4736901590097,1496.4117090328798,1450.4858643065154,1740.6588907452565,1221.0484460876246,1002.4735442060507,892.885087821362,915.7269120621457,1633.014467282469,1455.2497517688087,1044.6798814871697,1635.3238661439527,1645.4117256833315,1341.1869695415385,1294.3457072198821,1145.6220297021778,1838.1364604080661,1401.1974801397828,1835.676323155129,1567.0183071806593,1222.6720355283162,975.5707132883001,1294.393651446052,1747.1543145849157,978.1600541204385,1571.3779555854094,1299.0602379459647,1680.2558599407926,1428.8475932761105,1696.7121849441921,1167.8337435160206,1645.0443336251549,1015.0160787101884,1323.4879396626004,1707.7977341099652,1358.9794903148131,1787.8176351237878,1564.1591215403546,1105.0489375492268,998.3518204301657,1393.0156997659838,1277.5947842017029,1021.4162463668857,1891.7502222772105,1599.4461110195912,1355.4865069738225,1307.631813326534,1058.6879502899592,1175.0857317450966,1383.043457520438,1192.9703542697432,1535.6786775888854,1316.9362994242638,1216.3638056250443,1417.8175430814265,1608.8112472095104,1900.5003154501655,1773.75454091833,1538.3244505646303,1654.8804234402792,1530.4476708467073,999.4040467002118,1551.249213641382,1282.3879078455197,1746.1406779256506,1525.1946741495228,1062.2836958692762,1859.236555510413,1764.0061840882736,1030.0759120333948,1452.6070166105944,1315.6978226739068,1823.3138029430538,1676.3005448669849,1886.1041781777265,1319.2406943225421,1542.7391581518018,1287.96007321574,1543.6324057779952,1532.067906265062,1692.1615890273454,1129.6377889772896,1170.9139146795337,1682.713591403589,1437.4663880374424,1241.6308786326672,1883.0785779795588,1609.8133985948593,1425.6913753477345,1293.0759639542016,1181.5755920490967,1269.166843503021,1043.6782226982891,1825.44489704664,1308.118398950579,1934.4690100387754,1805.4594794804452,1576.26092479735,1385.5225262313484,1467.5965612010546,1101.9321020145053,1296.5175002628323,1276.7411825509653,1586.0907582416398,1480.9388136311559,1105.165772134799,1731.0989986497457,1513.4885721182368,1216.699068271088,1960.1684774252058,1180.669377844027,1262.409736211004,1174.6016347288928,1268.0017394087035,1499.9362784994119,1070.8163701347326,1880.6908474777076,1002.1184520761869,1148.3266990716568,1188.6193527306498,1264.7492325865182,1955.7701364887914,1377.8954209961578,1294.8128320378269,1761.69947050118,1915.7166847455273,1607.3885667418685,1314.5771428811997,1328.1189633390873,1610.736515487187,1639.1083971133946,1301.297218479773,1458.9801262065573,1262.482069454437,1126.4464917291516,1350.2021458719582,1474.3008868406332,1446.1088392209908,1587.6483988084992,1218.338577522045,1186.2088962024281,1754.2384954964389,1305.3173674611442,1439.8495663691428]}];\n",
       " var layout = {\"height\":500,\"width\":800,\"title\":{\"text\":\"Histogram with axes\"},\"yaxis\":{\"title\":{\"text\":\"my y data\"},\"showgrid\":true,\"zeroline\":false,\"showline\":false},\"xaxis\":{\"title\":{\"text\":\"my x data\"},\"showgrid\":true,\"zeroline\":false,\"showline\":false}};\n",
       " var config = {\"responsive\":false,\"scrollZoom\":true,\"displaylogo\":false};\n",
       " Plotly.newPlot(\"graph_1593783930212\", traces, layout, config);\n",
       "</script>\n"
      ]
     },
     "metadata": {},
     "output_type": "display_data"
    }
   ],
   "source": [
    "import picta.options.Axis\n",
    "\n",
    "// axis can be set composed like any other chart component\n",
    "val xaxis = Axis(key=\"xaxis\", title = \"my x data\")\n",
    "val yaxis = Axis(key=\"yaxis\", title = \"my y data\")\n",
    "\n",
    "// these are added to the layout object\n",
    "val layout = Layout(\"Histogram with axes\") + xaxis + yaxis\n",
    "\n",
    "val chart = Chart() + data + layout  + config\n",
    "chart.plot_inline()"
   ]
  },
  {
   "cell_type": "markdown",
   "metadata": {},
   "source": [
    "#### Customizing colors for a Histogram"
   ]
  },
  {
   "cell_type": "code",
   "execution_count": 14,
   "metadata": {},
   "outputs": [
    {
     "data": {
      "text/html": [
       "\n",
       "<div align=\"center\">\n",
       "<div id='graph_1593783930469' style=\"width:100%; margin:0 auto;\"></div>\n",
       "</div>\n",
       "<script>\n",
       " var traces = [{\"name\":\"test\",\"type\":\"histogram\",\"xaxis\":\"x\",\"yaxis\":\"y\",\"marker\":{\"color\":\"rgba(255, 100, 102, 0.4)\",\"line\":{\"width\":0.5}},\"y\":[575.5200417015351,850.6972533583315,898.3975372826699,906.3971350372727,778.2385485138313,508.675547693728,792.4129642979942,328.1000116232476,980.3048250358913,980.3917416194869,52.75774274673838,571.7990835417061,982.0475521385404,817.9263544665274,69.58557211531046,283.327472521633,570.264324278933,542.3968299656227,792.7702174853385,760.442768204594,705.4355199741353,1006.2567321800082,196.54551810486896,656.0633380748324,583.8359965856121,358.64984282050904,885.7212117214044,981.046907367743,980.2150150025202,724.811700847325,638.3050794202417,629.320653210032,656.597298004886,98.20628515667181,887.3689857291952,988.9914108464224,908.8907849340783,488.03102933575025,759.2556236277486,200.13596298231215,515.3701055473846,64.91839908561666,305.7287647134441,273.29100602556497,449.73677770831904,904.1076179176672,994.4294007638783,592.2326584305506,726.3407661083664,938.0559143349341,355.00665366766646,290.4563560383207,656.2799995702618,899.403125577182,917.5508670827576,612.8373873907177,610.4780109030856,360.3996987781137,225.46380557633512,652.2734516299114,109.47235355639157,456.35263788559274,756.658835721018,785.6803435344823,689.5290704483458,518.3399874836573,1044.9917824230533,724.5326580814819,530.8317042574456,634.389161705281,158.08066382573975,342.2110403878808,275.8759083723962,108.51011251615398,958.1808866571697,343.738876799731,814.833403549414,893.4194966661012,249.53974902107905,403.06046555435944,1069.532423177012,335.48728529603693,998.6621716129681,608.8338378685652,968.8335753140747,989.3826347522842,303.1775373086773,931.7814081614544,875.564141353138,835.0913313989438,680.5047669728433,954.9618863110154,698.8054012910296,961.4217834585148,549.2714270361706,292.89747477581,805.2113925349691,667.8129668543039,484.4495928470468,966.3103156105584,629.1696390273366,980.2016034374525,941.4296443690248,496.292743267993,573.9974677421087,776.9026871874264,664.7606887794818,635.0560061208563,395.0006066161216,1076.90155493168,924.0443333389833,459.9728008397996,760.1027737464167,555.6515527909089,1052.4756559352218,1023.4487737125452,1094.8889322454916,1022.4168768571259,502.7844648955767,873.228735715905,136.28644736028593,418.39497912254444,780.8359842938189,536.0637152773068,842.7423106997153,876.2983387001005,168.90929394392052,492.23513418635554,438.63655444166903,519.7712548997999,1108.6790834790413,259.2528148768234,406.80540837179643,974.9618495107413,478.1839464435064,950.113540743045,185.43009154343326,1016.7653081921787,767.5728263020076,1074.827806584208,174.18034519392467,378.69951864042184,335.17834983895233,413.4922020286751,409.3842353773316,518.0696000437306,508.4741032733919,505.0050718955693,929.128917396669,1047.0231705495296,283.7306195108422,667.5940664314039,416.57976744752534,615.2932243205689,773.6924281296692,495.64400896575785,183.43775853539898,261.87161776053097,354.3564497937431,461.8835247675563,935.338335090782,640.5501471919213,669.9401596842962,594.8102699441469,1047.1276995523504,1068.2129848553677,269.3852124676006,198.3035733129553,268.3343943218982,1044.958313140085,668.2502533889274,233.69471506862277,877.7887860831366,751.5732162287467,1056.6047359526945,294.13466693621154,311.223324358117,1042.580558358396,706.5429216510499,1066.919800168606,196.82183379651693,622.0222765632124,372.1953414544827,801.5062953940187,551.0668795960572,414.338708255291,620.6226452843568,579.2642089823729,610.868151339572,624.1488712637515,1083.7348485181979,1115.592617597016,407.8374316620177,616.4319712869298,1079.3863712458574,415.83739478543873,726.7082744241968,542.5554714893057,914.0555509226168,853.5235817870383,532.2817128237598,587.7911026940021,450.0246147075292,1142.7348948893332,297.9114821880953,822.4043443590708,1196.734554997901,236.04242685006008,923.4261019804985,901.0994429146067,268.9963229682523,395.20604525462426,1091.516797805151,274.54633571805437,1043.9985781544765,553.9411789701667,979.003948452367,1151.911954071537,244.55897338466696,620.3649364257873,1213.027102917329,1184.7631581938376,477.824666763082,551.3051208052485,842.0865799053149,730.4038882970857,966.6350981028259,871.4762901858303,877.9974329414326,596.6550138853934,325.0178492165551,807.5976462240732,657.1993315483093,370.27987601757775,749.7965513070883,360.8470906876967,868.4988816571934,787.7042522618495,927.047175862915,450.6167832592364,599.2035053313239,1119.3750456089942,285.14749570129004,728.3556420097768,1162.7390405689885,1208.0465573359184,965.4212733990206,782.354299126748,788.2257527431761,626.4792829208714,1026.8878635228907,1232.6488039361584,476.12060261333755,401.4810575938777,953.384649347517,649.7891244521675,453.91611031266154,888.9158024955773,489.3379633313303,322.0392641734672,702.0191525620208,678.2503386567626,1194.7161796801615,642.6460329057909,962.3158610370813,855.4054295527943,880.2059357172293,292.1335019473773,490.5613937133634,559.1217298029123,1260.41078424224,450.1509185060275,568.6164880945164,528.7477571157308,745.8790495486322,987.2220255191597,453.68516849765035,1260.301105096854,284.0256410847794,958.8137930579863,1009.0910356249739,462.85046559017735,554.5202662294475,752.4632016670242,734.7624257316734,738.710577705243,626.4723690423612,923.2710620532491,295.4790907826928,798.6380511293243,392.75111574034304,1093.8916114721108,931.0665443024344,1067.161007769883,711.036000672017,1292.2179556286842,325.10653048138613,1233.371019127449,1201.7022895855139,753.282436718397,607.3649350470109,1158.9509035842157,1079.402450562498,521.462665459705,1170.0215376073465,567.9073628701026,1228.2132402847399,1154.9030720167038,888.9185615766069,1111.422927015947,969.4755320973932,456.13320574685406,1158.4278289565164,726.4367205822293,616.9618423568584,431.18319129058096,872.169383768177,688.0089198205344,965.7646092831997,614.0684523135687,1111.6966518245126,393.2192916721651,1319.305501291622,484.3344860859953,841.3970442966888,708.2952205817357,523.1245253216905,952.4244599303984,350.2384542528091,660.8602108867606,744.6150411275459,790.951356496671,529.6260478005647,365.6390175605961,414.6286784708408,449.52741502597985,1331.5158231129649,1334.65085767854,829.8823473507823,906.6238988268717,912.0646114923378,741.8674699361724,404.3566112021794,1084.004271745977,1033.4787365931327,787.5083284913675,453.3833267006259,877.5942547166377,1270.356637972743,1038.5902905653036,695.8775866958536,1043.2227190929334,446.70340489377327,510.0443182975316,368.1772872565569,1016.4876285983652,515.9278624004054,1294.657664305759,957.2110939981806,1243.071221634444,788.5160511706129,750.2945571363347,1081.2238310058494,749.1494777939964,1010.7073789061832,609.2942173818154,973.0455696184571,491.11083366665133,1302.382630860288,887.6402491527734,1353.8989061590335,489.61962332816154,373.50609759323504,1140.4405765604683,1224.99685058451,875.129760288477,755.8462214063218,435.4526226334929,1249.690880444241,750.2750465368629,1010.3330911427065,397.83371790506527,950.6873859634342,1209.1319852939828,1000.2926260354658,816.9918224717658,904.858036778565,944.1722462069126,1356.9311364969406,600.3573085984417,482.4273120850695,618.7912746143949,1205.826214174689,1309.0915292301574,447.8288517363603,586.6206754565546,1071.812850224369,1117.1933682622166,916.2791560821455,598.4017485573204,634.5366241152398,798.160379770441,743.126137837652,853.0182150488683,668.0784324653449,1262.3062819009735,412.2867141910944,1121.3562645194606,1065.4380003367673,1243.0316555758054,885.5962834167075,699.9803737117387,1322.2965596241002,961.7908708775982,676.6501003954645,636.1839449813847,1234.361636967097,989.1922615808575,620.7250808758715,1006.7938219787014,848.7294034531908,1063.6152187723662,426.6275789111593,1030.1779508996326,902.0837519447034,1328.922290271108,1116.8211312155627,444.2263003017383,1077.183070826452,1309.2898765756704,888.9457663134981,892.6448725576188,1413.9691217984455,951.8767675621493,764.8481144798513,1027.723366389297,1122.7650304426888,1236.9946283547174,632.4995097093251,659.8070093539573,864.4122643587089,1180.6401674150559,931.687383395097,562.0238362560968,1285.8292619625897,535.6938830505378,1286.1223487513223,473.3886051158724,1229.3571153813496,1135.7855971720212,842.6119090707439,1434.2248831268957,570.3907757774646,619.7723280310602,942.2092031738825,834.9176009889634,1080.1766256282708,1224.9695162402445,1018.7528795775613,462.32797067794434,1059.2906337930708,1443.7215449781365,1296.972320307571,1387.7737117206639,742.1934851563433,600.5933164133723,945.3401963392613,756.2971584530083,634.3926053370708,826.4094248999536,828.1116995684307,1409.0146630601478,1011.123095884698,480.56320015322075,896.4983405161374,798.6607845743317,780.0929536518288,804.4631350007755,560.6814083587792,843.0111502228602,790.720408974034,1476.679200833336,1092.3783402265958,1201.6878475185865,1458.4243455200608,784.297302836103,1221.9328797158746,958.9224221976543,1264.9113085037147,1325.185161246734,614.4077652706374,848.1704124531424,1294.0353422321427,512.3183120462229,835.9165986945187,964.0433275161924,1467.690314442491,664.0102834113817,754.4393237389683,1372.843043527741,557.3264271896886,1132.8361292270747,1058.62323056708,1155.054182370208,1364.0656663782288,751.2340883274961,723.5799201165761,1191.4709973988406,684.0243636303284,853.2150852226305,804.4456201787351,1439.2046915770607,805.3328084938453,1269.3056445893853,896.4809206278014,534.6378739079076,1319.4754875910114,985.7943821972027,964.7428720036096,1307.4633354332423,971.9580301588244,609.5483606135261,1016.8712395625782,1193.2641984206048,1125.939632737217,1386.110114850326,1269.2875751611691,591.6631623836269,1167.3529622485476,1281.4819518942425,1040.1142083977165,932.8885332684002,841.16573175965,556.9496888913332,591.3778076216317,587.6756166129568,1075.821616505591,1341.4922149470035,1538.569834002316,783.7416167734926,1326.5304705908438,937.7700898601524,1247.3947379905953,1376.6431840251641,847.9609288255408,985.3803907140616,845.5432214766702,663.6455370805079,593.0211071984677,1149.011071675951,1091.5874069475867,1426.3026868826996,626.7961734065148,699.3231737755425,1363.60087967246,1040.7687149473438,1043.343868460666,1210.8346509449334,1456.8657674990445,804.4298392081123,1377.9326333280328,613.7745317425182,713.0358712081083,593.2680843204312,1418.4389847261655,1005.8221924757581,1242.3832308443193,586.4368708683111,1137.004380408369,954.8407711547853,646.2631003440026,1072.849848343812,1186.683783015052,1505.1601963623905,698.6900875878445,1289.1541528187147,1037.7019149844714,737.6598130942039,903.9261550168741,829.2798196476986,1364.064995320506,1527.8460795334445,711.2389542385138,1412.8271769423081,733.6595259141654,1096.3163905078004,1438.4966760230736,702.8747300164888,1003.601576307527,1052.4452632935063,633.0235029707094,1423.3599645218426,1077.483786168601,894.823929285815,681.1476920017748,1242.0058386568714,842.2991645171936,1350.9308523049062,967.1317214455648,756.8365771551605,1170.204424294266,1513.7046090220585,777.6822582862919,1452.6458739887062,843.9177123404861,1464.1369557651155,1449.9950724256164,678.3515284804033,1144.4289051561454,956.6988348883369,969.2982794810036,1536.9908095426672,625.8332028033853,788.3570479869452,1336.1145541122671,1077.180554454244,1294.481610064056,672.135415384634,1543.9713083174815,1328.1874865355935,1008.2748219650796,792.6187097093614,935.0452470060518,1530.3229801341604,1416.8094786849572,733.4935805392605,1034.2359398769936,1378.1985017511447,1174.219123369181,1136.1657673664872,701.4202066581001,1216.446879937565,1473.9346824683103,1273.6880831665965,1587.1477054916952,905.8355893635505,1178.2218455446316,705.6792685001533,1428.795310464527,1512.2684555933297,945.2361994378574,1317.6088232304405,682.2061077634141,1061.9925204512724,792.4691797665155,1341.7684372034373,1348.0961190378182,1353.3965679881935,1477.8410165390897,1407.4459771502713,1623.0205296489924,1219.1092778295927,928.3295439542327,1274.262950923006,1181.447950525016,691.6739588823016,700.9066431312633,665.332228560629,1478.4999943272153,1241.8981648704996,1121.6868776062897,1535.8376750571183,1452.1706679910217,1631.0462551585638,1316.5757288684545,1187.8328364917575,1399.3481288166834,946.3634494766909,820.3372363554749,873.5011594242031,1601.719132367662,1073.9901202167152,830.8846707241877,916.8153833508798,1485.644404917201,1204.1457457704487,1461.7293359652288,927.4792938091891,714.3507391304515,960.531637726195,1537.906711831488,1381.230065332119,1631.2934202259753,1399.2224291904022,1579.3307721969122,697.0250317817296,900.3012817763373,1431.886404107434,1620.411364738829,954.331793939723,1021.1226296995209,1193.9950267866104,1425.9009314472332,1562.6858258626576,1638.2503889010088,1500.7523180981152,1480.3211609427176,1520.87555984848,1206.4106108875335,811.7952881889161,851.9517746931473,1384.5595863752687,1627.8576661903467,1060.2865363234228,1662.2469856026953,1698.8161862249508,934.6265936845941,1292.8408715884211,1427.6781131405237,1446.0710082234414,953.1509912902713,1313.7977545901917,983.3832600698073,1010.0436023584361,1159.1627789324154,1430.6719851285839,1046.6380738261569,1262.7988320640347,1607.5480109131777,957.1850677571406,733.0442832883856,1644.6851298037568,904.840377884178,1346.1002831242417,1499.4655598339232,1525.8857872580215,1681.2923402992824,1696.1546200551643,1055.1229574492995,1713.505934236503,914.9711278316595,905.7011116358963,755.8954704298922,1699.5623269601851,762.0853728300376,930.2453955674118,876.7530375911595,1132.9387552432281,1255.7548955317397,1441.8806188844014,943.3834336231274,1042.3152694324835,1349.6952818683226,1685.6952638855832,996.4563018909829,1537.2743578198777,1303.795280195181,1481.5486238677192,1260.6007195994391,1071.2328955251653,1335.3242939859233,1129.1787871143626,1195.0558344948768,862.5438848561575,792.5138500260041,1440.4289598305581,1314.0861396888863,1739.057266233456,846.5154356734029,1244.4475232608079,1482.6367058715307,1496.6242936088156,843.2447825133281,1490.0379549805575,1616.3357557764843,843.4756455500193,1008.3801977713152,1503.9048462706778,844.8351456815303,1140.0982864095308,1156.7908479378052,1054.362908662867,1233.6120036512377,1438.1817403669552,1421.9281632556786,1617.145697373552,1101.7377241132842,1772.399762148199,791.2219773032873,1643.271381848979,821.7531371593436,1265.238232865602,1410.280005363758,1688.4932060423366,1742.671569623344,1367.7762658325294,1201.6979725540502,979.6826013581122,1538.2644997991365,1478.271861040288,1333.544909143648,1365.5629305051366,850.1669229650819,1255.5995298199718,1468.0960861981516,1627.5325938791339,1568.9728062951003,1176.0322918263055,1523.1439947770682,810.8863357401254,1476.3734205219457,1269.5554722641743,886.2253932756956,1577.5637457142893,1257.5245608089099,1515.8459456206974,1636.3605945931754,1578.6245792663558,1085.2110566519732,1080.2446346132847,1348.4084965280658,1497.970530972593,1076.0100848974694,1426.4962029306537,1481.898984474556,1728.4037532745642,923.5374788301053,1355.7249079900353,1189.2123759481904,1606.932260596347,924.9941850183668,1190.0609507724234,1617.23253333191,1758.3031376986582,1434.6124684374308,1644.5269267938943,1422.1093333498368,1374.0644682887673,1501.2348656374793,1412.2391305235415,1268.5227297875504,1189.02739670509,1077.14107471939,1125.6742997301922,1542.8494035517392,1507.8198825837335,1721.3712742013454,1150.6970585867634,1373.890280712241,881.2941912444295,1163.1767539509656,1620.2391087605624,1325.3253541779143,935.8703701576446,1439.862097764526,1220.9662188214054,1800.8194799851658,1418.4682966045289,1578.1653480315424,1508.9646152116181,1285.7116978240315,1735.5011647028427,949.4557539967556,949.4234843650015,1038.4770346709731,1136.4736901590097,1496.4117090328798,1450.4858643065154,1740.6588907452565,1221.0484460876246,1002.4735442060507,892.885087821362,915.7269120621457,1633.014467282469,1455.2497517688087,1044.6798814871697,1635.3238661439527,1645.4117256833315,1341.1869695415385,1294.3457072198821,1145.6220297021778,1838.1364604080661,1401.1974801397828,1835.676323155129,1567.0183071806593,1222.6720355283162,975.5707132883001,1294.393651446052,1747.1543145849157,978.1600541204385,1571.3779555854094,1299.0602379459647,1680.2558599407926,1428.8475932761105,1696.7121849441921,1167.8337435160206,1645.0443336251549,1015.0160787101884,1323.4879396626004,1707.7977341099652,1358.9794903148131,1787.8176351237878,1564.1591215403546,1105.0489375492268,998.3518204301657,1393.0156997659838,1277.5947842017029,1021.4162463668857,1891.7502222772105,1599.4461110195912,1355.4865069738225,1307.631813326534,1058.6879502899592,1175.0857317450966,1383.043457520438,1192.9703542697432,1535.6786775888854,1316.9362994242638,1216.3638056250443,1417.8175430814265,1608.8112472095104,1900.5003154501655,1773.75454091833,1538.3244505646303,1654.8804234402792,1530.4476708467073,999.4040467002118,1551.249213641382,1282.3879078455197,1746.1406779256506,1525.1946741495228,1062.2836958692762,1859.236555510413,1764.0061840882736,1030.0759120333948,1452.6070166105944,1315.6978226739068,1823.3138029430538,1676.3005448669849,1886.1041781777265,1319.2406943225421,1542.7391581518018,1287.96007321574,1543.6324057779952,1532.067906265062,1692.1615890273454,1129.6377889772896,1170.9139146795337,1682.713591403589,1437.4663880374424,1241.6308786326672,1883.0785779795588,1609.8133985948593,1425.6913753477345,1293.0759639542016,1181.5755920490967,1269.166843503021,1043.6782226982891,1825.44489704664,1308.118398950579,1934.4690100387754,1805.4594794804452,1576.26092479735,1385.5225262313484,1467.5965612010546,1101.9321020145053,1296.5175002628323,1276.7411825509653,1586.0907582416398,1480.9388136311559,1105.165772134799,1731.0989986497457,1513.4885721182368,1216.699068271088,1960.1684774252058,1180.669377844027,1262.409736211004,1174.6016347288928,1268.0017394087035,1499.9362784994119,1070.8163701347326,1880.6908474777076,1002.1184520761869,1148.3266990716568,1188.6193527306498,1264.7492325865182,1955.7701364887914,1377.8954209961578,1294.8128320378269,1761.69947050118,1915.7166847455273,1607.3885667418685,1314.5771428811997,1328.1189633390873,1610.736515487187,1639.1083971133946,1301.297218479773,1458.9801262065573,1262.482069454437,1126.4464917291516,1350.2021458719582,1474.3008868406332,1446.1088392209908,1587.6483988084992,1218.338577522045,1186.2088962024281,1754.2384954964389,1305.3173674611442,1439.8495663691428]}];\n",
       " var layout = {\"height\":500,\"width\":800,\"title\":{\"text\":\"XY.Histogram.Color\"}};\n",
       " var config = {\"responsive\":false,\"scrollZoom\":true,\"displaylogo\":false};\n",
       " Plotly.newPlot(\"graph_1593783930469\", traces, layout, config);\n",
       "</script>\n"
      ]
     },
     "metadata": {},
     "output_type": "display_data"
    }
   ],
   "source": [
    "// we can also compose customizations in much the same way:\n",
    "val marker = Marker() + List(\"rgba(255, 100, 102, 0.4)\") + Line()\n",
    "\n",
    "// change xkey to y to get a horizontal histogram\n",
    "val data = XY(x, xkey=\"y\", series_name=\"test\", series_type=HISTOGRAM, marker=marker)\n",
    "\n",
    "val chart = Chart() + data + Layout(\"XY.Histogram.Color\") + config\n",
    "chart.plot_inline()"
   ]
  },
  {
   "cell_type": "markdown",
   "metadata": {},
   "source": [
    "#### 2D Histogram Contour"
   ]
  },
  {
   "cell_type": "code",
   "execution_count": 15,
   "metadata": {},
   "outputs": [
    {
     "data": {
      "text/html": [
       "\n",
       "<div align=\"center\">\n",
       "<div id='graph_1593783930690' style=\"width:100%; margin:0 auto;\"></div>\n",
       "</div>\n",
       "<script>\n",
       " var traces = [{\"name\":\"2dHistCont\",\"type\":\"histogram2dcontour\",\"xaxis\":\"x\",\"yaxis\":\"y\",\"mode\":\"marker\",\"x\":[1,2,3,4,5,6,7,8,9,10,11,12,13,14,15,16,17,18,19,20,21,22,23,24,25,26,27,28,29,30,31,32,33,34,35,36,37,38,39,40,41,42,43,44,45,46,47,48,49],\"y\":[56.399439287891624,46.92000804886488,67.93609870293582,28.30368068778033,13.404626455209186,95.01253025468579,79.75290860252453,59.94436643705643,65.51364415893397,12.935723377220356,87.23870084590418,50.9202679393148,26.53380147932924,79.87648125756664,42.25136593355103,85.11501949311476,104.89328087559497,62.89374581041042,116.09087173213237,104.67179761202578,107.998445978224,22.886782307779477,48.70391494347412,34.13695737573492,28.782323867440873,60.06131017426684,59.665024427184605,38.83571283805394,60.650940063777156,39.65581286742231,52.5411522016886,50.28321868324093,61.74119772212427,132.92863497466158,89.26637518400963,68.48514908191403,129.73601402809868,93.26977379089138,71.79778390033724,68.65770722445616,54.4394997586183,62.789510353173284,44.59324855022137,98.19775052879237,86.89695231631163,70.84937256350402,123.3462016017197,48.659489319123665,101.05148474195242]}];\n",
       " var layout = {\"height\":500,\"width\":800,\"title\":{\"text\":\"2D Histogram Contour\"}};\n",
       " var config = {\"responsive\":false,\"scrollZoom\":true,\"displaylogo\":false};\n",
       " Plotly.newPlot(\"graph_1593783930690\", traces, layout, config);\n",
       "</script>\n"
      ]
     },
     "metadata": {},
     "output_type": "display_data"
    }
   ],
   "source": [
    "val x = List.range(1, 50)\n",
    "val y = x.map(x => x + scala.util.Random.nextDouble()*100)\n",
    "\n",
    "val data = XY(x, y, series_name=\"2dHistCont\", series_type=HISTOGRAM2DCONTOUR, series_mode=\"marker\")\n",
    "\n",
    "val chart = Chart() + data + Layout(\"2D Histogram Contour\") + config\n",
    "chart.plot_inline()"
   ]
  },
  {
   "cell_type": "markdown",
   "metadata": {},
   "source": [
    "#### Contour\n",
    "\n",
    "This is a 3 dimensional chart requiring the import of the `XYZ` class from the library."
   ]
  },
  {
   "cell_type": "code",
   "execution_count": 16,
   "metadata": {},
   "outputs": [],
   "source": [
    "import picta.series.XYZ\n",
    "import picta.series.XYZChartType._\n",
    "\n",
    "val x = List.range(1, 100)\n",
    "val y = List.range(1, 100)\n",
    "val z = List.range(1, 100).map(x => x + scala.util.Random.nextDouble()*100)\n",
    "\n",
    "val data = XYZ(x, y, z, series_name=\"contour\", series_type=CONTOUR, series_mode=\"marker\")"
   ]
  },
  {
   "cell_type": "code",
   "execution_count": 17,
   "metadata": {},
   "outputs": [
    {
     "data": {
      "text/html": [
       "\n",
       "<div align=\"center\">\n",
       "<div id='graph_1593783931024' style=\"width:100%; margin:0 auto;\"></div>\n",
       "</div>\n",
       "<script>\n",
       " var traces = [{\"name\":\"marker\",\"type\":\"contour\",\"mode\":\"marker\",\"x\":[1,2,3,4,5,6,7,8,9,10,11,12,13,14,15,16,17,18,19,20,21,22,23,24,25,26,27,28,29,30,31,32,33,34,35,36,37,38,39,40,41,42,43,44,45,46,47,48,49,50,51,52,53,54,55,56,57,58,59,60,61,62,63,64,65,66,67,68,69,70,71,72,73,74,75,76,77,78,79,80,81,82,83,84,85,86,87,88,89,90,91,92,93,94,95,96,97,98,99],\"y\":[1,2,3,4,5,6,7,8,9,10,11,12,13,14,15,16,17,18,19,20,21,22,23,24,25,26,27,28,29,30,31,32,33,34,35,36,37,38,39,40,41,42,43,44,45,46,47,48,49,50,51,52,53,54,55,56,57,58,59,60,61,62,63,64,65,66,67,68,69,70,71,72,73,74,75,76,77,78,79,80,81,82,83,84,85,86,87,88,89,90,91,92,93,94,95,96,97,98,99],\"z\":[93.73912134797018,13.932193318992946,78.04501383285735,77.76115874472805,35.066812704524594,51.66642104111078,81.89169742237655,52.457478002860285,95.4172234097898,100.74103842720422,103.44026509272533,72.8081883193283,43.447198510274276,23.1055356266343,49.593131225504095,27.45430760235775,104.82482325821168,81.073019767128,66.42340609607513,57.22336926338069,24.28250542855337,52.57979492711682,99.6706790502256,120.17790317821023,113.54245595107196,96.29508689872746,105.96056177758473,35.44015711696097,37.98620414325669,69.6724232817227,53.41070060760799,41.941176700223124,76.67819709611258,35.55353180472091,114.83673140457121,36.0743139698278,62.71669089558495,41.0803402313005,61.947502134477844,45.6903066942825,73.8735420559073,116.44004942054438,114.7195910807268,56.9530911982589,97.09765607915837,120.36285096658469,86.56699207934115,135.2825582984154,134.69528138940234,54.31137431654254,92.97256423843501,71.94246778911065,54.8634743450358,77.94548711963427,58.9236893288553,143.78876741631922,114.74145893257268,84.71559208864727,68.79528312314378,95.27564571850566,100.25779221237096,138.33209813114837,151.24917587215683,139.02359525459724,133.78960360135022,128.37828399097774,81.26956613591838,124.08587011463035,98.013404616348,76.47830124940918,111.6301249158957,139.50670460595018,112.31528481148004,113.20158325005366,116.88903180247684,104.84672277292489,176.74155243070226,150.27945968389167,144.4340477562862,149.0579604392704,167.7091907941003,92.72933214143579,119.15050329209463,94.42301412261804,129.558776354894,171.1262619515613,140.96085987364484,143.2297890225526,156.5207804467588,125.53139070133759,147.78527731602415,111.43540656666994,100.77943908667356,139.48107715430604,190.3984058304345,165.77983315729713,174.0567102338372,104.96028987931209,180.20842250468627]}];\n",
       " var layout = {\"height\":500,\"width\":800,\"title\":{\"text\":\"Contour\"}};\n",
       " var config = {\"responsive\":true,\"scrollZoom\":true,\"displaylogo\":false};\n",
       " Plotly.newPlot(\"graph_1593783931024\", traces, layout, config);\n",
       "</script>\n"
      ]
     },
     "metadata": {},
     "output_type": "display_data"
    }
   ],
   "source": [
    "val chart = Chart() + data + Layout(\"Contour\")\n",
    "chart.plot_inline()"
   ]
  },
  {
   "cell_type": "markdown",
   "metadata": {},
   "source": [
    "#### Heatmap"
   ]
  },
  {
   "cell_type": "code",
   "execution_count": 25,
   "metadata": {
    "scrolled": false
   },
   "outputs": [],
   "source": [
    "// val z = List.range(1, 101).map(e => e + scala.util.Random.nextDouble()*100).grouped(10).toList\n",
    "val z = List(\n",
    "    List(1, 2, 3),\n",
    "    List(4, 5, 6)\n",
    ")\n"
   ]
  },
  {
   "cell_type": "code",
   "execution_count": 26,
   "metadata": {},
   "outputs": [
    {
     "data": {
      "text/html": [
       "\n",
       "<div align=\"center\">\n",
       "<div id='graph_1593783975192' style=\"width:100%; margin:0 auto;\"></div>\n",
       "</div>\n",
       "<script>\n",
       " var traces = [{\"name\":\"trace\",\"type\":\"heatmap\",\"z\":[[1,2],[3,4],[5,6]]}];\n",
       " var layout = {\"height\":500,\"width\":500,\"title\":{\"text\":\"Contour\"}};\n",
       " var config = {\"responsive\":true,\"scrollZoom\":true,\"displaylogo\":false};\n",
       " Plotly.newPlot(\"graph_1593783975192\", traces, layout, config);\n",
       "</script>\n"
      ]
     },
     "metadata": {},
     "output_type": "display_data"
    }
   ],
   "source": [
    "// add lines in between the grid items\n",
    "val data = XYZ(z, series_name=\"trace\", series_type=HEATMAP)\n",
    "\n",
    "val chart = Chart() + data + Layout(\"Contour\", height = 500, width = 500)\n",
    "chart.plot_inline()"
   ]
  },
  {
   "cell_type": "markdown",
   "metadata": {},
   "source": [
    "#### Scatter3D"
   ]
  },
  {
   "cell_type": "code",
   "execution_count": 20,
   "metadata": {},
   "outputs": [
    {
     "data": {
      "text/html": [
       "\n",
       "<div align=\"center\">\n",
       "<div id='graph_1593783931527' style=\"width:100%; margin:0 auto;\"></div>\n",
       "</div>\n",
       "<script>\n",
       " var traces = [{\"name\":\"Scatter3D\",\"type\":\"scatter3d\",\"x\":[1,2,3,4,5,6,7,8,9,10,11,12,13,14,15,16,17,18,19,20,21,22,23,24,25,26,27,28,29,30,31,32,33,34,35,36,37,38,39,40,41,42,43,44,45,46,47,48,49,50,51,52,53,54,55,56,57,58,59,60,61,62,63,64,65,66,67,68,69,70,71,72,73,74,75,76,77,78,79,80,81,82,83,84,85,86,87,88,89,90,91,92,93,94,95,96,97,98,99],\"y\":[1,2,3,4,5,6,7,8,9,10,11,12,13,14,15,16,17,18,19,20,21,22,23,24,25,26,27,28,29,30,31,32,33,34,35,36,37,38,39,40,41,42,43,44,45,46,47,48,49,50,51,52,53,54,55,56,57,58,59,60,61,62,63,64,65,66,67,68,69,70,71,72,73,74,75,76,77,78,79,80,81,82,83,84,85,86,87,88,89,90,91,92,93,94,95,96,97,98,99],\"z\":[35.15956747661809,19.383718756065836,21.239903306042482,35.882815895593566,77.99520740701342,19.74783668715357,52.703705280416976,37.70652106187974,41.70229620836689,64.56334729127232,86.73835946147422,55.833506007370794,31.785285759594927,28.166425343513534,85.94130136719909,73.55731387917396,28.21546806056102,74.7776680791025,107.80758818864551,33.9462435530433,60.491992006816034,89.82341029436849,119.81341357196119,31.170481106101366,38.20335465349631,120.10915250909639,105.34712173698925,110.39600154014364,112.00703528796488,78.25586321448216,130.18070545344526,108.07199362764699,83.40185098492488,79.7981716381687,52.94430291370578,60.23942086379675,90.74973207975873,84.95683429783858,92.46078082910142,42.914004283506124,73.71059647857969,111.33603439401274,109.81695165232031,85.64780812445588,58.58606495422675,68.65943183019928,123.69257054149057,117.04927995079984,113.02475207422816,142.14714171240155,53.73774517244571,59.34250781358769,90.12395755272577,117.24906848708636,78.68395652921754,87.97206740100225,119.16955156642061,95.18836573515698,103.39338532756514,111.81081247644815,103.08790503114508,96.13200900220106,152.1957919220925,109.70355523636977,151.1407785541832,84.79379486052522,144.63172843807456,79.88050330804593,109.47605192016965,81.8883482633521,164.11539876670992,120.2000319988143,151.85425964167337,144.09297239918098,100.04996536250286,159.23115424405415,158.202896143735,105.03752989398669,129.57272221871003,100.86187965971018,139.60752450698894,170.33072864940556,106.37699208642039,128.42034788212226,164.93068953285956,150.74454406315337,140.9522056715767,138.22151971991235,106.45674955618095,99.4167706525063,189.1031040304955,137.00287892587778,149.79269495153613,191.29492426774482,113.7535693835274,142.88843846248847,106.71210672239768,146.0331167760349,148.81011784936516]}];\n",
       " var layout = {\"height\":500,\"width\":800,\"title\":{\"text\":\"Histogram with axes\"},\"yaxis\":{\"title\":{\"text\":\"my y data\"},\"showgrid\":true,\"zeroline\":false,\"showline\":false},\"xaxis\":{\"title\":{\"text\":\"my x data\"},\"showgrid\":true,\"zeroline\":false,\"showline\":false}};\n",
       " var config = {\"responsive\":false,\"scrollZoom\":true,\"displaylogo\":false};\n",
       " Plotly.newPlot(\"graph_1593783931527\", traces, layout, config);\n",
       "</script>\n"
      ]
     },
     "metadata": {},
     "output_type": "display_data"
    }
   ],
   "source": [
    "val x = List.range(1, 100)\n",
    "val y = List.range(1, 100)\n",
    "val z = List.range(1, 100).map(e => e + scala.util.Random.nextDouble()*100)\n",
    "\n",
    "val data = XYZ(x, y, z, series_name=\"Scatter3D\", series_type = SCATTER3D)\n",
    "\n",
    "val chart = Chart() + data + layout + config\n",
    "chart.plot_inline()"
   ]
  },
  {
   "cell_type": "markdown",
   "metadata": {},
   "source": [
    "#### Surface Plot"
   ]
  },
  {
   "cell_type": "code",
   "execution_count": 21,
   "metadata": {
    "scrolled": false
   },
   "outputs": [
    {
     "data": {
      "text/html": [
       "\n",
       "<div align=\"center\">\n",
       "<div id='graph_1593783931779' style=\"width:100%; margin:0 auto;\"></div>\n",
       "</div>\n",
       "<script>\n",
       " var traces = [{\"name\":\"surface\",\"type\":\"surface\",\"z\":[[8.83,8.89,8.81,8.87,8.9,8.87,8.89,8.94,8.85,8.94,8.96,8.92,8.84,8.9,8.82],[8.92,8.93,8.91,8.79,8.85,8.79,8.9,8.94,8.92,8.79,8.88,8.81,8.9,8.95,8.92],[8.8,8.82,8.78,8.91,8.94,8.92,8.75,8.78,8.77,8.91,8.95,8.92,8.8,8.8,8.77],[8.91,8.95,8.94,8.74,8.81,8.76,8.93,8.98,8.99,8.89,8.99,8.92,9.1,9.13,9.11],[8.97,8.97,8.91,9.09,9.11,9.11,9.04,9.08,9.05,9.25,9.28,9.27,9,9.01,9],[9.2,9.23,9.2,8.99,8.99,8.98,9.18,9.2,9.19,8.93,8.97,8.97,9.18,9.2,9.18]]}];\n",
       " var layout = {\"height\":500,\"width\":800,\"title\":{\"text\":\"Surface Chart\"}};\n",
       " var config = {\"responsive\":true,\"scrollZoom\":true,\"displaylogo\":false};\n",
       " Plotly.newPlot(\"graph_1593783931779\", traces, layout, config);\n",
       "</script>\n"
      ]
     },
     "metadata": {},
     "output_type": "display_data"
    }
   ],
   "source": [
    "// 3d surface plot\n",
    "val k = List(\n",
    "    List(8.83,8.89,8.81,8.87,8.9,8.87),\n",
    "    List(8.89,8.94,8.85,8.94,8.96,8.92),\n",
    "    List(8.84,8.9,8.82,8.92,8.93,8.91),\n",
    "    List(8.79,8.85,8.79,8.9,8.94,8.92),\n",
    "    List(8.79,8.88,8.81,8.9,8.95,8.92),\n",
    "    List(8.8,8.82,8.78,8.91,8.94,8.92),\n",
    "    List(8.75,8.78,8.77,8.91,8.95,8.92),\n",
    "    List(8.8,8.8,8.77,8.91,8.95,8.94),\n",
    "    List(8.74,8.81,8.76,8.93,8.98,8.99),\n",
    "    List(8.89,8.99,8.92,9.1,9.13,9.11),\n",
    "    List(8.97,8.97,8.91,9.09,9.11,9.11),\n",
    "    List(9.04,9.08,9.05,9.25,9.28,9.27),\n",
    "    List(9,9.01,9,9.2,9.23,9.2),\n",
    "    List(8.99,8.99,8.98,9.18,9.2,9.19),\n",
    "    List(8.93,8.97,8.97,9.18,9.2,9.18)\n",
    "  )\n",
    "\n",
    "\n",
    "val data = XYZ(k, series_name=\"surface\", series_type=SURFACE)\n",
    "\n",
    "val chart = Chart() + data + Layout(\"Surface Chart\")\n",
    "chart.plot_inline()"
   ]
  },
  {
   "cell_type": "markdown",
   "metadata": {
    "scrolled": false
   },
   "source": [
    "#### Third Dimension as Color"
   ]
  },
  {
   "cell_type": "code",
   "execution_count": 22,
   "metadata": {},
   "outputs": [
    {
     "data": {
      "text/html": [
       "\n",
       "<div align=\"center\">\n",
       "<div id='graph_1593783931971' style=\"width:100%; margin:0 auto;\"></div>\n",
       "</div>\n",
       "<script>\n",
       " var traces = [{\"name\":\"scatter with color\",\"type\":\"scatter\",\"xaxis\":\"x\",\"yaxis\":\"y\",\"mode\":\"markers\",\"marker\":{\"color\":[35.15956747661809,19.383718756065836,21.239903306042482,35.882815895593566,77.99520740701342,19.74783668715357,52.703705280416976,37.70652106187974,41.70229620836689,64.56334729127232,86.73835946147422,55.833506007370794,31.785285759594927,28.166425343513534,85.94130136719909,73.55731387917396,28.21546806056102,74.7776680791025,107.80758818864551,33.9462435530433,60.491992006816034,89.82341029436849,119.81341357196119,31.170481106101366,38.20335465349631,120.10915250909639,105.34712173698925,110.39600154014364,112.00703528796488,78.25586321448216,130.18070545344526,108.07199362764699,83.40185098492488,79.7981716381687,52.94430291370578,60.23942086379675,90.74973207975873,84.95683429783858,92.46078082910142,42.914004283506124,73.71059647857969,111.33603439401274,109.81695165232031,85.64780812445588,58.58606495422675,68.65943183019928,123.69257054149057,117.04927995079984,113.02475207422816,142.14714171240155,53.73774517244571,59.34250781358769,90.12395755272577,117.24906848708636,78.68395652921754,87.97206740100225,119.16955156642061,95.18836573515698,103.39338532756514,111.81081247644815,103.08790503114508,96.13200900220106,152.1957919220925,109.70355523636977,151.1407785541832,84.79379486052522,144.63172843807456,79.88050330804593,109.47605192016965,81.8883482633521,164.11539876670992,120.2000319988143,151.85425964167337,144.09297239918098,100.04996536250286,159.23115424405415,158.202896143735,105.03752989398669,129.57272221871003,100.86187965971018,139.60752450698894,170.33072864940556,106.37699208642039,128.42034788212226,164.93068953285956,150.74454406315337,140.9522056715767,138.22151971991235,106.45674955618095,99.4167706525063,189.1031040304955,137.00287892587778,149.79269495153613,191.29492426774482,113.7535693835274,142.88843846248847,106.71210672239768,146.0331167760349,148.81011784936516]},\"x\":[1,2,3,4,5,6,7,8,9,10,11,12,13,14,15,16,17,18,19,20,21,22,23,24,25,26,27,28,29,30,31,32,33,34,35,36,37,38,39,40,41,42,43,44,45,46,47,48,49,50,51,52,53,54,55,56,57,58,59,60,61,62,63,64,65,66,67,68,69,70,71,72,73,74,75,76,77,78,79,80,81,82,83,84,85,86,87,88,89,90,91,92,93,94,95,96,97,98,99],\"y\":[1,2,3,4,5,6,7,8,9,10,11,12,13,14,15,16,17,18,19,20,21,22,23,24,25,26,27,28,29,30,31,32,33,34,35,36,37,38,39,40,41,42,43,44,45,46,47,48,49,50,51,52,53,54,55,56,57,58,59,60,61,62,63,64,65,66,67,68,69,70,71,72,73,74,75,76,77,78,79,80,81,82,83,84,85,86,87,88,89,90,91,92,93,94,95,96,97,98,99]}];\n",
       " var layout = {\"height\":500,\"width\":800,\"title\":{\"text\":\"Color2D.Basic\"}};\n",
       " var config = {\"responsive\":false,\"scrollZoom\":true,\"displaylogo\":false};\n",
       " Plotly.newPlot(\"graph_1593783931971\", traces, layout, config);\n",
       "</script>\n"
      ]
     },
     "metadata": {},
     "output_type": "display_data"
    }
   ],
   "source": [
    "// multiple compositions can be used to create scatter charts with a color representing some third dimension\n",
    "\n",
    "val marker = Marker() + z // we add the list of colors to the marker for each point\n",
    "val data = XY(x, y, series_name=\"scatter with color\", series_type = SCATTER, series_mode = \"markers\") + marker\n",
    "val chart = Chart() + Layout(\"Color2D.Basic\") + config + data\n",
    "chart.plot_inline()"
   ]
  },
  {
   "cell_type": "markdown",
   "metadata": {},
   "source": [
    "#### Grid\n",
    "\n",
    "The grid system can be used to generate subplots:"
   ]
  },
  {
   "cell_type": "code",
   "execution_count": 23,
   "metadata": {},
   "outputs": [
    {
     "data": {
      "text/html": [
       "\n",
       "<div align=\"center\">\n",
       "<div id='graph_1593783932274' style=\"width:100%; margin:0 auto;\"></div>\n",
       "</div>\n",
       "<script>\n",
       " var traces = [{\"name\":\"a\",\"type\":\"scatter\",\"xaxis\":\"x\",\"yaxis\":\"y\",\"mode\":\"markers\",\"x\":[1,2,3,4,5,6,7,8,9,10,11,12,13,14,15,16,17,18,19,20,21,22,23,24,25,26,27,28,29,30,31,32,33,34,35,36,37,38,39,40,41,42,43,44,45,46,47,48,49,50,51,52,53,54,55,56,57,58,59,60,61,62,63,64,65,66,67,68,69,70,71,72,73,74,75,76,77,78,79,80,81,82,83,84,85,86,87,88,89,90,91,92,93,94,95,96,97,98,99],\"y\":[1,2,3,4,5,6,7,8,9,10,11,12,13,14,15,16,17,18,19,20,21,22,23,24,25,26,27,28,29,30,31,32,33,34,35,36,37,38,39,40,41,42,43,44,45,46,47,48,49,50,51,52,53,54,55,56,57,58,59,60,61,62,63,64,65,66,67,68,69,70,71,72,73,74,75,76,77,78,79,80,81,82,83,84,85,86,87,88,89,90,91,92,93,94,95,96,97,98,99]},{\"name\":\"b\",\"type\":\"scatter\",\"xaxis\":\"x2\",\"yaxis\":\"y2\",\"mode\":\"markers\",\"x\":[1,2,3,4,5,6,7,8,9,10,11,12,13,14,15,16,17,18,19,20,21,22,23,24,25,26,27,28,29,30,31,32,33,34,35,36,37,38,39,40,41,42,43,44,45,46,47,48,49,50,51,52,53,54,55,56,57,58,59,60,61,62,63,64,65,66,67,68,69,70,71,72,73,74,75,76,77,78,79,80,81,82,83,84,85,86,87,88,89,90,91,92,93,94,95,96,97,98,99],\"y\":[35.15956747661809,19.383718756065836,21.239903306042482,35.882815895593566,77.99520740701342,19.74783668715357,52.703705280416976,37.70652106187974,41.70229620836689,64.56334729127232,86.73835946147422,55.833506007370794,31.785285759594927,28.166425343513534,85.94130136719909,73.55731387917396,28.21546806056102,74.7776680791025,107.80758818864551,33.9462435530433,60.491992006816034,89.82341029436849,119.81341357196119,31.170481106101366,38.20335465349631,120.10915250909639,105.34712173698925,110.39600154014364,112.00703528796488,78.25586321448216,130.18070545344526,108.07199362764699,83.40185098492488,79.7981716381687,52.94430291370578,60.23942086379675,90.74973207975873,84.95683429783858,92.46078082910142,42.914004283506124,73.71059647857969,111.33603439401274,109.81695165232031,85.64780812445588,58.58606495422675,68.65943183019928,123.69257054149057,117.04927995079984,113.02475207422816,142.14714171240155,53.73774517244571,59.34250781358769,90.12395755272577,117.24906848708636,78.68395652921754,87.97206740100225,119.16955156642061,95.18836573515698,103.39338532756514,111.81081247644815,103.08790503114508,96.13200900220106,152.1957919220925,109.70355523636977,151.1407785541832,84.79379486052522,144.63172843807456,79.88050330804593,109.47605192016965,81.8883482633521,164.11539876670992,120.2000319988143,151.85425964167337,144.09297239918098,100.04996536250286,159.23115424405415,158.202896143735,105.03752989398669,129.57272221871003,100.86187965971018,139.60752450698894,170.33072864940556,106.37699208642039,128.42034788212226,164.93068953285956,150.74454406315337,140.9522056715767,138.22151971991235,106.45674955618095,99.4167706525063,189.1031040304955,137.00287892587778,149.79269495153613,191.29492426774482,113.7535693835274,142.88843846248847,106.71210672239768,146.0331167760349,148.81011784936516]}];\n",
       " var layout = {\"height\":500,\"width\":800,\"title\":{\"text\":\"Axis Composition\"},\"grid\":{\"rows\":1,\"columns\":2,\"pattern\":\"independent\"},\"xaxis\":{\"title\":{\"text\":\"x axis 1\"},\"showgrid\":true,\"zeroline\":false,\"showline\":false},\"xaxis2\":{\"title\":{\"text\":\"x axis 2\"},\"showgrid\":true,\"zeroline\":false,\"showline\":false}};\n",
       " var config = {\"responsive\":false,\"scrollZoom\":true,\"displaylogo\":false};\n",
       " Plotly.newPlot(\"graph_1593783932274\", traces, layout, config);\n",
       "</script>\n"
      ]
     },
     "metadata": {},
     "output_type": "display_data"
    }
   ],
   "source": [
    "import picta.options.Grid\n",
    "\n",
    "// 1. first we define the grid layout - 1 row, 2 columns\n",
    "val grid = Grid(1, 2)\n",
    "\n",
    "// 2. Now define the axes we want to place on the grid\n",
    "val ax1 = Axis(\"xaxis\", title = \"x axis 1\")\n",
    "val ax2 = Axis(\"xaxis2\", title = \"x axis 2\")\n",
    "\n",
    "// 3. define the traces - notice how the axis maps to the xaxis and yaxis keys below:\n",
    "val data1 = XY(x, y, series_name=\"a\", series_type=SCATTER, series_mode=Some(\"markers\"))\n",
    "val data2 = XY(x, z, series_name=\"b\", series_type=SCATTER, series_mode=Some(\"markers\"), xaxis=\"x2\", yaxis=\"y2\")\n",
    "\n",
    "// 4. combine the axis and grid into a single layout component\n",
    "val layout = Layout(\"Axis Composition\") + List(ax1, ax2) + grid\n",
    "\n",
    "// 5. construct into a chart. We do not need to put the series into a single list, but this is done as an example here\n",
    "val chart = Chart() + List(data1, data2) + layout + config\n",
    "\n",
    "chart.plot_inline()"
   ]
  },
  {
   "cell_type": "markdown",
   "metadata": {},
   "source": [
    "#### Map\n",
    "\n",
    "We can also create maps using the composition technique below."
   ]
  },
  {
   "cell_type": "code",
   "execution_count": 24,
   "metadata": {},
   "outputs": [
    {
     "data": {
      "text/html": [
       "\n",
       "<div align=\"center\">\n",
       "<div id='graph_1593783932508' style=\"width:100%; margin:0 auto;\"></div>\n",
       "</div>\n",
       "<script>\n",
       " var traces = [{\"lat\":[40.7127,51.5072],\"lon\":[-74.0059,0.1275],\"type\":\"scattergeo\",\"mode\":\"lines\",\"line\":{\"width\":2,\"color\":\"red\"}}];\n",
       " var layout = {\"height\":500,\"width\":800,\"geo\":{\"resolution\":50,\"showland\":true,\"showlakes\":true,\"coastlinewidth\":2,\"landcolor\":\"rgb(204, 204, 204)\",\"lakecolor\":\"rgb(255, 255, 255)\",\"lataxis\":{\"range\":[20,60],\"showgrid\":true,\"dtick\":10},\"lonaxis\":{\"range\":[-100,20],\"showgrid\":true,\"dtick\":10}}};\n",
       " var config = {\"responsive\":true,\"scrollZoom\":true,\"displaylogo\":false};\n",
       " Plotly.newPlot(\"graph_1593783932508\", traces, layout, config);\n",
       "</script>\n"
      ]
     },
     "metadata": {},
     "output_type": "display_data"
    }
   ],
   "source": [
    "import picta.options.Geo\n",
    "import picta.options.MapAxis\n",
    "import picta.options.LatAxis\n",
    "import picta.options.LongAxis\n",
    "import picta.series.Map\n",
    "\n",
    "val line = Line(width = 2, color=\"red\")\n",
    "val data = Map(lat=List(40.7127, 51.5072), lon=List(-74.0059, 0.1275), series_mode = Some(\"lines\")) + line\n",
    "\n",
    "\n",
    "val geo = Geo(landcolor = Some(\"rgb(204, 204, 204)\"), lakecolor=Some(\"rgb(255, 255, 255)\")) + \n",
    "LatAxis(List(20, 60)) + LongAxis(List(-100, 20))\n",
    "\n",
    "val layout = Layout() + geo\n",
    "val chart = Chart() + data + layout\n",
    "chart.plot_inline()"
   ]
  }
 ],
 "metadata": {
  "kernelspec": {
   "display_name": "Scala",
   "language": "scala",
   "name": "scala"
  },
  "language_info": {
   "codemirror_mode": "text/x-scala",
   "file_extension": ".scala",
   "mimetype": "text/x-scala",
   "name": "scala",
   "nbconvert_exporter": "script",
   "version": "2.13.2"
  }
 },
 "nbformat": 4,
 "nbformat_minor": 4
}
