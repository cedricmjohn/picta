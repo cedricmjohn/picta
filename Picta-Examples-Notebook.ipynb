{
 "cells": [
  {
   "cell_type": "markdown",
   "metadata": {},
   "source": [
    "# 1. Setup\n",
    "\n",
    "To use Picta in a Jupyter notebook with the Almond.sh kernel, you need to first register a new Jitpack repository as some essential component of Almond are not availble in Maven Central (simply copy and run the first cell below). You then need to import the library from Maven (second cell) and initiliaze the notebook to hvave nicer outputs (optional, third cell)."
   ]
  },
  {
   "cell_type": "code",
   "execution_count": 1,
   "metadata": {},
   "outputs": [],
   "source": [
    "interp.repositories() ++= Seq(coursierapi.MavenRepository.of(\n",
    "\"https://jitpack.io\"\n",
    "))"
   ]
  },
  {
   "cell_type": "code",
   "execution_count": 2,
   "metadata": {},
   "outputs": [
    {
     "data": {
      "text/plain": [
       "\u001B[32mimport \u001B[39m\u001B[36m$ivy.$                                    \u001B[39m"
      ]
     },
     "execution_count": 2,
     "metadata": {},
     "output_type": "execute_result"
    }
   ],
   "source": [
    "import $ivy. `org.carbonateresearch::picta:0.1.1`"
   ]
  },
  {
   "cell_type": "code",
   "execution_count": 3,
   "metadata": {
    "scrolled": false
   },
   "outputs": [
    {
     "data": {
      "text/html": [
       "\n",
       "<style> #animationInterface {\n",
       "    margin-top: 50px;\n",
       "    margin-bottom: 50px;\n",
       "}\n",
       "\n",
       ".progressBar {\n",
       "    padding-top: 20px;\n",
       "    padding-bottom: 20px;\n",
       "}\n",
       "\n",
       ".inline-div {\n",
       "    display: block;\n",
       "    text-align: center;\n",
       "}\n",
       "\n",
       "h3 {\n",
       "    display: inline-block;\n",
       "    text-align: center;\n",
       "}\n",
       "\n",
       ".picta-button {\n",
       "    background-color: #003E74;\n",
       "    border: none;\n",
       "    color: white;\n",
       "    padding: 12px 28px;\n",
       "    text-align: center;\n",
       "    text-decoration: none;\n",
       "    display: inline-block;\n",
       "    font-size: 12px;\n",
       "    margin-top: 50px;\n",
       "    transition-duration: 0.4s;\n",
       "    cursor: pointer;\n",
       "}\n",
       "\n",
       ".picta-button:hover {\n",
       "    background-color: #002147;\n",
       "    color: white;\n",
       "}\n",
       "\n",
       ".grid-title h1 {\n",
       "    font-family: \"Open Sans\", verdana, arial, sans-serif;\n",
       "    font-weight: normal;\n",
       "}\n",
       "\n",
       ".grid-container {\n",
       "    padding-top: 40px;\n",
       "    background: white;\n",
       "} </style>\n",
       "<script> /** vim: et:ts=4:sw=4:sts=4\n",
       " * @license RequireJS 2.3.6 Copyright jQuery Foundation and other contributors.\n",
       " * Released under MIT license, https://github.com/requirejs/requirejs/blob/master/LICENSE\n",
       " */\n",
       "var requirejs,require,define;!function(global,setTimeout){var req,s,head,baseElement,dataMain,src,interactiveScript,currentlyAddingScript,mainScript,subPath,version=\"2.3.6\",commentRegExp=/\\/\\*[\\s\\S]*?\\*\\/|([^:\"'=]|^)\\/\\/.*$/gm,cjsRequireRegExp=/[^.]\\s*require\\s*\\(\\s*[\"']([^'\"\\s]+)[\"']\\s*\\)/g,jsSuffixRegExp=/\\.js$/,currDirRegExp=/^\\.\\//,op=Object.prototype,ostring=op.toString,hasOwn=op.hasOwnProperty,isBrowser=!(\"undefined\"==typeof window||\"undefined\"==typeof navigator||!window.document),isWebWorker=!isBrowser&&\"undefined\"!=typeof importScripts,readyRegExp=isBrowser&&\"PLAYSTATION 3\"===navigator.platform?/^complete$/:/^(complete|loaded)$/,defContextName=\"_\",isOpera=\"undefined\"!=typeof opera&&\"[object Opera]\"===opera.toString(),contexts={},cfg={},globalDefQueue=[],useInteractive=!1;function commentReplace(e,t){return t||\"\"}function isFunction(e){return\"[object Function]\"===ostring.call(e)}function isArray(e){return\"[object Array]\"===ostring.call(e)}function each(e,t){var i;if(e)for(i=0;i<e.length&&(!e[i]||!t(e[i],i,e));i+=1);}function eachReverse(e,t){var i;if(e)for(i=e.length-1;-1<i&&(!e[i]||!t(e[i],i,e));i-=1);}function hasProp(e,t){return hasOwn.call(e,t)}function getOwn(e,t){return hasProp(e,t)&&e[t]}function eachProp(e,t){var i;for(i in e)if(hasProp(e,i)&&t(e[i],i))break}function mixin(i,e,r,n){return e&&eachProp(e,function(e,t){!r&&hasProp(i,t)||(!n||\"object\"!=typeof e||!e||isArray(e)||isFunction(e)||e instanceof RegExp?i[t]=e:(i[t]||(i[t]={}),mixin(i[t],e,r,n)))}),i}function bind(e,t){return function(){return t.apply(e,arguments)}}function scripts(){return document.getElementsByTagName(\"script\")}function defaultOnError(e){throw e}function getGlobal(e){if(!e)return e;var t=global;return each(e.split(\".\"),function(e){t=t[e]}),t}function makeError(e,t,i,r){var n=new Error(t+\"\\nhttps://requirejs.org/docs/errors.html#\"+e);return n.requireType=e,n.requireModules=r,i&&(n.originalError=i),n}if(void 0===define){if(void 0!==requirejs){if(isFunction(requirejs))return;cfg=requirejs,requirejs=void 0}void 0===require||isFunction(require)||(cfg=require,require=void 0),req=requirejs=function(e,t,i,r){var n,o,a=defContextName;return isArray(e)||\"string\"==typeof e||(o=e,isArray(t)?(e=t,t=i,i=r):e=[]),o&&o.context&&(a=o.context),(n=getOwn(contexts,a))||(n=contexts[a]=req.s.newContext(a)),o&&n.configure(o),n.require(e,t,i)},req.config=function(e){return req(e)},req.nextTick=void 0!==setTimeout?function(e){setTimeout(e,4)}:function(e){e()},require||(require=req),req.version=version,req.jsExtRegExp=/^\\/|:|\\?|\\.js$/,req.isBrowser=isBrowser,s=req.s={contexts:contexts,newContext:newContext},req({}),each([\"toUrl\",\"undef\",\"defined\",\"specified\"],function(t){req[t]=function(){var e=contexts[defContextName];return e.require[t].apply(e,arguments)}}),isBrowser&&(head=s.head=document.getElementsByTagName(\"head\")[0],baseElement=document.getElementsByTagName(\"base\")[0],baseElement&&(head=s.head=baseElement.parentNode)),req.onError=defaultOnError,req.createNode=function(e,t,i){var r=e.xhtml?document.createElementNS(\"http://www.w3.org/1999/xhtml\",\"html:script\"):document.createElement(\"script\");return r.type=e.scriptType||\"text/javascript\",r.charset=\"utf-8\",r.async=!0,r},req.load=function(t,i,r){var e,n=t&&t.config||{};if(isBrowser)return(e=req.createNode(n,i,r)).setAttribute(\"data-requirecontext\",t.contextName),e.setAttribute(\"data-requiremodule\",i),!e.attachEvent||e.attachEvent.toString&&e.attachEvent.toString().indexOf(\"[native code\")<0||isOpera?(e.addEventListener(\"load\",t.onScriptLoad,!1),e.addEventListener(\"error\",t.onScriptError,!1)):(useInteractive=!0,e.attachEvent(\"onreadystatechange\",t.onScriptLoad)),e.src=r,n.onNodeCreated&&n.onNodeCreated(e,n,i,r),currentlyAddingScript=e,baseElement?head.insertBefore(e,baseElement):head.appendChild(e),currentlyAddingScript=null,e;if(isWebWorker)try{setTimeout(function(){},0),importScripts(r),t.completeLoad(i)}catch(e){t.onError(makeError(\"importscripts\",\"importScripts failed for \"+i+\" at \"+r,e,[i]))}},isBrowser&&!cfg.skipDataMain&&eachReverse(scripts(),function(e){if(head||(head=e.parentNode),dataMain=e.getAttribute(\"data-main\"))return mainScript=dataMain,cfg.baseUrl||-1!==mainScript.indexOf(\"!\")||(mainScript=(src=mainScript.split(\"/\")).pop(),subPath=src.length?src.join(\"/\")+\"/\":\"./\",cfg.baseUrl=subPath),mainScript=mainScript.replace(jsSuffixRegExp,\"\"),req.jsExtRegExp.test(mainScript)&&(mainScript=dataMain),cfg.deps=cfg.deps?cfg.deps.concat(mainScript):[mainScript],!0}),define=function(e,i,t){var r,n;\"string\"!=typeof e&&(t=i,i=e,e=null),isArray(i)||(t=i,i=null),!i&&isFunction(t)&&(i=[],t.length&&(t.toString().replace(commentRegExp,commentReplace).replace(cjsRequireRegExp,function(e,t){i.push(t)}),i=(1===t.length?[\"require\"]:[\"require\",\"exports\",\"module\"]).concat(i))),useInteractive&&(r=currentlyAddingScript||getInteractiveScript())&&(e||(e=r.getAttribute(\"data-requiremodule\")),n=contexts[r.getAttribute(\"data-requirecontext\")]),n?(n.defQueue.push([e,i,t]),n.defQueueMap[e]=!0):globalDefQueue.push([e,i,t])},define.amd={jQuery:!0},req.exec=function(text){return eval(text)},req(cfg)}function newContext(u){var i,e,l,c,d,g={waitSeconds:7,baseUrl:\"./\",paths:{},bundles:{},pkgs:{},shim:{},config:{}},p={},f={},r={},h=[],m={},n={},v={},x=1,b=1;function q(e,t,i){var r,n,o,a,s,u,c,d,p,f,l=t&&t.split(\"/\"),h=g.map,m=h&&h[\"*\"];if(e&&(u=(e=e.split(\"/\")).length-1,g.nodeIdCompat&&jsSuffixRegExp.test(e[u])&&(e[u]=e[u].replace(jsSuffixRegExp,\"\")),\".\"===e[0].charAt(0)&&l&&(e=l.slice(0,l.length-1).concat(e)),function(e){var t,i;for(t=0;t<e.length;t++)if(\".\"===(i=e[t]))e.splice(t,1),t-=1;else if(\"..\"===i){if(0===t||1===t&&\"..\"===e[2]||\"..\"===e[t-1])continue;0<t&&(e.splice(t-1,2),t-=2)}}(e),e=e.join(\"/\")),i&&h&&(l||m)){e:for(o=(n=e.split(\"/\")).length;0<o;o-=1){if(s=n.slice(0,o).join(\"/\"),l)for(a=l.length;0<a;a-=1)if((r=getOwn(h,l.slice(0,a).join(\"/\")))&&(r=getOwn(r,s))){c=r,d=o;break e}!p&&m&&getOwn(m,s)&&(p=getOwn(m,s),f=o)}!c&&p&&(c=p,d=f),c&&(n.splice(0,d,c),e=n.join(\"/\"))}return getOwn(g.pkgs,e)||e}function E(t){isBrowser&&each(scripts(),function(e){if(e.getAttribute(\"data-requiremodule\")===t&&e.getAttribute(\"data-requirecontext\")===l.contextName)return e.parentNode.removeChild(e),!0})}function w(e){var t=getOwn(g.paths,e);if(t&&isArray(t)&&1<t.length)return t.shift(),l.require.undef(e),l.makeRequire(null,{skipMap:!0})([e]),!0}function y(e){var t,i=e?e.indexOf(\"!\"):-1;return-1<i&&(t=e.substring(0,i),e=e.substring(i+1,e.length)),[t,e]}function S(e,t,i,r){var n,o,a,s,u=null,c=t?t.name:null,d=e,p=!0,f=\"\";return e||(p=!1,e=\"_@r\"+(x+=1)),u=(s=y(e))[0],e=s[1],u&&(u=q(u,c,r),o=getOwn(m,u)),e&&(u?f=i?e:o&&o.normalize?o.normalize(e,function(e){return q(e,c,r)}):-1===e.indexOf(\"!\")?q(e,c,r):e:(u=(s=y(f=q(e,c,r)))[0],f=s[1],i=!0,n=l.nameToUrl(f))),{prefix:u,name:f,parentMap:t,unnormalized:!!(a=!u||o||i?\"\":\"_unnormalized\"+(b+=1)),url:n,originalName:d,isDefine:p,id:(u?u+\"!\"+f:f)+a}}function k(e){var t=e.id,i=getOwn(p,t);return i||(i=p[t]=new l.Module(e)),i}function M(e,t,i){var r=e.id,n=getOwn(p,r);!hasProp(m,r)||n&&!n.defineEmitComplete?(n=k(e)).error&&\"error\"===t?i(n.error):n.on(t,i):\"defined\"===t&&i(m[r])}function O(i,e){var t=i.requireModules,r=!1;e?e(i):(each(t,function(e){var t=getOwn(p,e);t&&(t.error=i,t.events.error&&(r=!0,t.emit(\"error\",i)))}),r||req.onError(i))}function j(){globalDefQueue.length&&(each(globalDefQueue,function(e){var t=e[0];\"string\"==typeof t&&(l.defQueueMap[t]=!0),h.push(e)}),globalDefQueue=[])}function P(e){delete p[e],delete f[e]}function R(){var e,r,t=1e3*g.waitSeconds,n=t&&l.startTime+t<(new Date).getTime(),o=[],a=[],s=!1,u=!0;if(!i){if(i=!0,eachProp(f,function(e){var t=e.map,i=t.id;if(e.enabled&&(t.isDefine||a.push(e),!e.error))if(!e.inited&&n)w(i)?s=r=!0:(o.push(i),E(i));else if(!e.inited&&e.fetched&&t.isDefine&&(s=!0,!t.prefix))return u=!1}),n&&o.length)return(e=makeError(\"timeout\",\"Load timeout for modules: \"+o,null,o)).contextName=l.contextName,O(e);u&&each(a,function(e){!function n(o,a,s){var e=o.map.id;o.error?o.emit(\"error\",o.error):(a[e]=!0,each(o.depMaps,function(e,t){var i=e.id,r=getOwn(p,i);!r||o.depMatched[t]||s[i]||(getOwn(a,i)?(o.defineDep(t,m[i]),o.check()):n(r,a,s))}),s[e]=!0)}(e,{},{})}),n&&!r||!s||!isBrowser&&!isWebWorker||d||(d=setTimeout(function(){d=0,R()},50)),i=!1}}function a(e){hasProp(m,e[0])||k(S(e[0],null,!0)).init(e[1],e[2])}function o(e,t,i,r){e.detachEvent&&!isOpera?r&&e.detachEvent(r,t):e.removeEventListener(i,t,!1)}function s(e){var t=e.currentTarget||e.srcElement;return o(t,l.onScriptLoad,\"load\",\"onreadystatechange\"),o(t,l.onScriptError,\"error\"),{node:t,id:t&&t.getAttribute(\"data-requiremodule\")}}function T(){var e;for(j();h.length;){if(null===(e=h.shift())[0])return O(makeError(\"mismatch\",\"Mismatched anonymous define() module: \"+e[e.length-1]));a(e)}l.defQueueMap={}}return c={require:function(e){return e.require?e.require:e.require=l.makeRequire(e.map)},exports:function(e){if(e.usingExports=!0,e.map.isDefine)return e.exports?m[e.map.id]=e.exports:e.exports=m[e.map.id]={}},module:function(e){return e.module?e.module:e.module={id:e.map.id,uri:e.map.url,config:function(){return getOwn(g.config,e.map.id)||{}},exports:e.exports||(e.exports={})}}},(e=function(e){this.events=getOwn(r,e.id)||{},this.map=e,this.shim=getOwn(g.shim,e.id),this.depExports=[],this.depMaps=[],this.depMatched=[],this.pluginMaps={},this.depCount=0}).prototype={init:function(e,t,i,r){r=r||{},this.inited||(this.factory=t,i?this.on(\"error\",i):this.events.error&&(i=bind(this,function(e){this.emit(\"error\",e)})),this.depMaps=e&&e.slice(0),this.errback=i,this.inited=!0,this.ignore=r.ignore,r.enabled||this.enabled?this.enable():this.check())},defineDep:function(e,t){this.depMatched[e]||(this.depMatched[e]=!0,this.depCount-=1,this.depExports[e]=t)},fetch:function(){if(!this.fetched){this.fetched=!0,l.startTime=(new Date).getTime();var e=this.map;if(!this.shim)return e.prefix?this.callPlugin():this.load();l.makeRequire(this.map,{enableBuildCallback:!0})(this.shim.deps||[],bind(this,function(){return e.prefix?this.callPlugin():this.load()}))}},load:function(){var e=this.map.url;n[e]||(n[e]=!0,l.load(this.map.id,e))},check:function(){if(this.enabled&&!this.enabling){var t,e,i=this.map.id,r=this.depExports,n=this.exports,o=this.factory;if(this.inited){if(this.error)this.emit(\"error\",this.error);else if(!this.defining){if(this.defining=!0,this.depCount<1&&!this.defined){if(isFunction(o)){if(this.events.error&&this.map.isDefine||req.onError!==defaultOnError)try{n=l.execCb(i,o,r,n)}catch(e){t=e}else n=l.execCb(i,o,r,n);if(this.map.isDefine&&void 0===n&&((e=this.module)?n=e.exports:this.usingExports&&(n=this.exports)),t)return t.requireMap=this.map,t.requireModules=this.map.isDefine?[this.map.id]:null,t.requireType=this.map.isDefine?\"define\":\"require\",O(this.error=t)}else n=o;if(this.exports=n,this.map.isDefine&&!this.ignore&&(m[i]=n,req.onResourceLoad)){var a=[];each(this.depMaps,function(e){a.push(e.normalizedMap||e)}),req.onResourceLoad(l,this.map,a)}P(i),this.defined=!0}this.defining=!1,this.defined&&!this.defineEmitted&&(this.defineEmitted=!0,this.emit(\"defined\",this.exports),this.defineEmitComplete=!0)}}else hasProp(l.defQueueMap,i)||this.fetch()}},callPlugin:function(){var u=this.map,c=u.id,e=S(u.prefix);this.depMaps.push(e),M(e,\"defined\",bind(this,function(e){var o,t,i,r=getOwn(v,this.map.id),n=this.map.name,a=this.map.parentMap?this.map.parentMap.name:null,s=l.makeRequire(u.parentMap,{enableBuildCallback:!0});return this.map.unnormalized?(e.normalize&&(n=e.normalize(n,function(e){return q(e,a,!0)})||\"\"),M(t=S(u.prefix+\"!\"+n,this.map.parentMap,!0),\"defined\",bind(this,function(e){this.map.normalizedMap=t,this.init([],function(){return e},null,{enabled:!0,ignore:!0})})),void((i=getOwn(p,t.id))&&(this.depMaps.push(t),this.events.error&&i.on(\"error\",bind(this,function(e){this.emit(\"error\",e)})),i.enable()))):r?(this.map.url=l.nameToUrl(r),void this.load()):((o=bind(this,function(e){this.init([],function(){return e},null,{enabled:!0})})).error=bind(this,function(e){this.inited=!0,(this.error=e).requireModules=[c],eachProp(p,function(e){0===e.map.id.indexOf(c+\"_unnormalized\")&&P(e.map.id)}),O(e)}),o.fromText=bind(this,function(e,t){var i=u.name,r=S(i),n=useInteractive;t&&(e=t),n&&(useInteractive=!1),k(r),hasProp(g.config,c)&&(g.config[i]=g.config[c]);try{req.exec(e)}catch(e){return O(makeError(\"fromtexteval\",\"fromText eval for \"+c+\" failed: \"+e,e,[c]))}n&&(useInteractive=!0),this.depMaps.push(r),l.completeLoad(i),s([i],o)}),void e.load(u.name,s,o,g))})),l.enable(e,this),this.pluginMaps[e.id]=e},enable:function(){(f[this.map.id]=this).enabled=!0,this.enabling=!0,each(this.depMaps,bind(this,function(e,t){var i,r,n;if(\"string\"==typeof e){if(e=S(e,this.map.isDefine?this.map:this.map.parentMap,!1,!this.skipMap),this.depMaps[t]=e,n=getOwn(c,e.id))return void(this.depExports[t]=n(this));this.depCount+=1,M(e,\"defined\",bind(this,function(e){this.undefed||(this.defineDep(t,e),this.check())})),this.errback?M(e,\"error\",bind(this,this.errback)):this.events.error&&M(e,\"error\",bind(this,function(e){this.emit(\"error\",e)}))}i=e.id,r=p[i],hasProp(c,i)||!r||r.enabled||l.enable(e,this)})),eachProp(this.pluginMaps,bind(this,function(e){var t=getOwn(p,e.id);t&&!t.enabled&&l.enable(e,this)})),this.enabling=!1,this.check()},on:function(e,t){var i=this.events[e];i||(i=this.events[e]=[]),i.push(t)},emit:function(e,t){each(this.events[e],function(e){e(t)}),\"error\"===e&&delete this.events[e]}},(l={config:g,contextName:u,registry:p,defined:m,urlFetched:n,defQueue:h,defQueueMap:{},Module:e,makeModuleMap:S,nextTick:req.nextTick,onError:O,configure:function(e){if(e.baseUrl&&\"/\"!==e.baseUrl.charAt(e.baseUrl.length-1)&&(e.baseUrl+=\"/\"),\"string\"==typeof e.urlArgs){var i=e.urlArgs;e.urlArgs=function(e,t){return(-1===t.indexOf(\"?\")?\"?\":\"&\")+i}}var r=g.shim,n={paths:!0,bundles:!0,config:!0,map:!0};eachProp(e,function(e,t){n[t]?(g[t]||(g[t]={}),mixin(g[t],e,!0,!0)):g[t]=e}),e.bundles&&eachProp(e.bundles,function(e,t){each(e,function(e){e!==t&&(v[e]=t)})}),e.shim&&(eachProp(e.shim,function(e,t){isArray(e)&&(e={deps:e}),!e.exports&&!e.init||e.exportsFn||(e.exportsFn=l.makeShimExports(e)),r[t]=e}),g.shim=r),e.packages&&each(e.packages,function(e){var t;t=(e=\"string\"==typeof e?{name:e}:e).name,e.location&&(g.paths[t]=e.location),g.pkgs[t]=e.name+\"/\"+(e.main||\"main\").replace(currDirRegExp,\"\").replace(jsSuffixRegExp,\"\")}),eachProp(p,function(e,t){e.inited||e.map.unnormalized||(e.map=S(t,null,!0))}),(e.deps||e.callback)&&l.require(e.deps||[],e.callback)},makeShimExports:function(t){return function(){var e;return t.init&&(e=t.init.apply(global,arguments)),e||t.exports&&getGlobal(t.exports)}},makeRequire:function(o,a){function s(e,t,i){var r,n;return a.enableBuildCallback&&t&&isFunction(t)&&(t.__requireJsBuild=!0),\"string\"==typeof e?isFunction(t)?O(makeError(\"requireargs\",\"Invalid require call\"),i):o&&hasProp(c,e)?c[e](p[o.id]):req.get?req.get(l,e,o,s):(r=S(e,o,!1,!0).id,hasProp(m,r)?m[r]:O(makeError(\"notloaded\",'Module name \"'+r+'\" has not been loaded yet for context: '+u+(o?\"\":\". Use require([])\")))):(T(),l.nextTick(function(){T(),(n=k(S(null,o))).skipMap=a.skipMap,n.init(e,t,i,{enabled:!0}),R()}),s)}return a=a||{},mixin(s,{isBrowser:isBrowser,toUrl:function(e){var t,i=e.lastIndexOf(\".\"),r=e.split(\"/\")[0];return-1!==i&&(!(\".\"===r||\"..\"===r)||1<i)&&(t=e.substring(i,e.length),e=e.substring(0,i)),l.nameToUrl(q(e,o&&o.id,!0),t,!0)},defined:function(e){return hasProp(m,S(e,o,!1,!0).id)},specified:function(e){return e=S(e,o,!1,!0).id,hasProp(m,e)||hasProp(p,e)}}),o||(s.undef=function(i){j();var e=S(i,o,!0),t=getOwn(p,i);t.undefed=!0,E(i),delete m[i],delete n[e.url],delete r[i],eachReverse(h,function(e,t){e[0]===i&&h.splice(t,1)}),delete l.defQueueMap[i],t&&(t.events.defined&&(r[i]=t.events),P(i))}),s},enable:function(e){getOwn(p,e.id)&&k(e).enable()},completeLoad:function(e){var t,i,r,n=getOwn(g.shim,e)||{},o=n.exports;for(j();h.length;){if(null===(i=h.shift())[0]){if(i[0]=e,t)break;t=!0}else i[0]===e&&(t=!0);a(i)}if(l.defQueueMap={},r=getOwn(p,e),!t&&!hasProp(m,e)&&r&&!r.inited){if(!(!g.enforceDefine||o&&getGlobal(o)))return w(e)?void 0:O(makeError(\"nodefine\",\"No define call for \"+e,null,[e]));a([e,n.deps||[],n.exportsFn])}R()},nameToUrl:function(e,t,i){var r,n,o,a,s,u,c=getOwn(g.pkgs,e);if(c&&(e=c),u=getOwn(v,e))return l.nameToUrl(u,t,i);if(req.jsExtRegExp.test(e))a=e+(t||\"\");else{for(r=g.paths,o=(n=e.split(\"/\")).length;0<o;o-=1)if(s=getOwn(r,n.slice(0,o).join(\"/\"))){isArray(s)&&(s=s[0]),n.splice(0,o,s);break}a=n.join(\"/\"),a=(\"/\"===(a+=t||(/^data\\:|^blob\\:|\\?/.test(a)||i?\"\":\".js\")).charAt(0)||a.match(/^[\\w\\+\\.\\-]+:/)?\"\":g.baseUrl)+a}return g.urlArgs&&!/^blob\\:/.test(a)?a+g.urlArgs(e,a):a},load:function(e,t){req.load(l,e,t)},execCb:function(e,t,i,r){return t.apply(r,i)},onScriptLoad:function(e){if(\"load\"===e.type||readyRegExp.test((e.currentTarget||e.srcElement).readyState)){interactiveScript=null;var t=s(e);l.completeLoad(t.id)}},onScriptError:function(e){var i=s(e);if(!w(i.id)){var r=[];return eachProp(p,function(e,t){0!==t.indexOf(\"_@r\")&&each(e.depMaps,function(e){if(e.id===i.id)return r.push(t),!0})}),O(makeError(\"scripterror\",'Script error for \"'+i.id+(r.length?'\", needed by: '+r.join(\", \"):'\"'),e,[i.id]))}}}).require=l.makeRequire(),l}function getInteractiveScript(){return interactiveScript&&\"interactive\"===interactiveScript.readyState||eachReverse(scripts(),function(e){if(\"interactive\"===e.readyState)return interactiveScript=e}),interactiveScript}}(this,\"undefined\"==typeof setTimeout?void 0:setTimeout); </script>\n",
       "<script>\n",
       " require.config({\n",
       "   paths: {\n",
       "     'plotly': \"https://cdn.plot.ly/plotly-latest.min\",\n",
       "     'macy': \"https://cdn.jsdelivr.net/npm/macy@2.5.1/dist/macy.min\",\n",
       "     'merge': \"https://unpkg.com/merge-images@2.0.0/dist/index.umd\"\n",
       "   },\n",
       " })\n",
       "require( ['plotly', 'macy', 'merge'], function(Plotly, Macy, mergeImages) {\n",
       " window.Plotly = Plotly;\n",
       " window.Macy = Macy;\n",
       " window.mergeImages = mergeImages;\n",
       "})\n",
       "</script>\n"
      ]
     },
     "metadata": {},
     "output_type": "display_data"
    },
    {
     "data": {
      "text/plain": [
       "\u001B[32mimport \u001B[39m\u001B[36morg.carbonateresearch.picta.render.Html.initNotebook // required to initialize jupyter notebook mode\n",
       "\u001B[39m"
      ]
     },
     "execution_count": 3,
     "metadata": {},
     "output_type": "execute_result"
    }
   ],
   "source": [
    "import org.carbonateresearch.picta.render.Html.initNotebook // required to initialize jupyter notebook mode\n",
    "initNotebook() // stops ugly output"
   ]
  },
  {
   "cell_type": "markdown",
   "metadata": {},
   "source": [
    "# 1. Basics\n",
    "\n",
    "The aim of the Picta library is to be a highly configurable and composable charting library for data exploration. The library takes a grammatical approach to chart construction. \n",
    "\n",
    "The following examples are aimed at demonstrating the libraries capabilities, and eventually make constructing charts using this library easy and intuitive."
   ]
  },
  {
   "cell_type": "markdown",
   "metadata": {},
   "source": [
    "### Main Components\n",
    "\n",
    "Picta graphs are constructed in a modular manner. The main components are:\n",
    "\n",
    "1. `Canvas`: This is is the top-level component for representing the display. A `Canvas` may consist of multiple charts.\n",
    "\n",
    "\n",
    "2. `Chart`: This is the component that corresponds to an actual chart (i.e. scatter, pie etc).\n",
    "\n",
    "\n",
    "3. `Series`: This is the data series that is plotted on a `Chart`. `Series` come in 3 types:\n",
    "\n",
    "    - `XY`:   This is series data for constructing a 2D chart\n",
    "    - `XYZ`:  This is series data for constructing a 3D chart\n",
    "    - `Map`:  This is series data that constructs a Map chart\n",
    "    \n",
    "\n",
    "4. `ChartLayout`: This configures various parts of how the `Chart` is represented on screen.\n",
    "\n",
    "`Chart` may occassionally also make use of the `Config` component for further configuration. `Config` specifies whether the plot is responsive.\n",
    "\n",
    "The following examples in this notebook should provide a number of interactive examples to get used to the Picta library."
   ]
  },
  {
   "cell_type": "markdown",
   "metadata": {},
   "source": [
    "### Importing the Library\n",
    "\n",
    "Importing as below should bring in the most frequently used Components in the library."
   ]
  },
  {
   "cell_type": "code",
   "execution_count": 4,
   "metadata": {},
   "outputs": [],
   "source": [
    "import org.carbonateresearch.picta._"
   ]
  },
  {
   "cell_type": "markdown",
   "metadata": {},
   "source": [
    "### Create Some Dummy Data to Use in the Examples\n",
    "\n",
    "Here we create some dummy data to be used in the examples for this notebook."
   ]
  },
  {
   "cell_type": "code",
   "execution_count": 5,
   "metadata": {},
   "outputs": [],
   "source": [
    "val x = List.range(0, 100).map(x => scala.util.Random.nextDouble() * 50)\n",
    "val y = List.range(0, 100).map(x => scala.util.Random.nextDouble() * 50)\n",
    "val z = List.range(0, 100).map(x => scala.util.Random.nextDouble() * 50)"
   ]
  },
  {
   "cell_type": "markdown",
   "metadata": {},
   "source": [
    "### 2D Plots\n",
    "\n",
    "`Series` that represent 2D data are represented by `XY` series types.\n",
    "\n",
    "\n",
    "#### Scatter Plot\n",
    "\n",
    "An example `Scatter` plot is below. \n",
    "\n",
    "Note: This is just one way to call the library functions. Another way that uses function chaining will be shown immediately after this example."
   ]
  },
  {
   "cell_type": "code",
   "execution_count": 6,
   "metadata": {},
   "outputs": [
    {
     "data": {
      "text/html": [
       "<div id=\"grid-container_AUD2UQtCo8\" class=\"grid-container\" align=\"center\"> \n",
       "<div id=\"grid_AUD2UQtCo8\" class=\"grid\" align=\"center\"> \n",
       "<div id=\"graph_ZOZ9AzN8kB\" class=\"graph\"></div> \n",
       "</div> \n",
       "</div> \n",
       "<script>\n",
       "var masonry = new Macy({\n",
       "    container: '#grid_AUD2UQtCo8',\n",
       "    debug: true,\n",
       "    mobileFirst: true,\n",
       "    columns: 1,\n",
       "    margin: {\n",
       "        x: 0,\n",
       "        y: 0\n",
       "    }\n",
       "  });\n",
       "\n",
       "  var traces_ZOZ9AzN8kB = [{\"name\":\"mSBrEzaUur\",\"type\":\"scatter\",\"mode\":\"markers\",\"x\":[39.99781962140005,27.23407912078609,27.129407721130093,33.90944018794247,1.1727190172739155,33.93671802415194,31.506053908210944,0.12626873646711667,43.77963199029265,47.38781370796964,23.519228183779983,1.9456240094012867,4.991249060442571,15.73948999972385,41.072689182011615,7.251488849990051,33.848610073271004,14.633666022757069,8.06249212133483,0.1727690613465338,33.740089707218274,25.57497527328708,45.07069870716604,1.7021979333906312,8.64267616167807,40.81415079668137,30.480472417407782,13.29558693885488,2.01256779578331,28.6606645066042,5.5138356505006145,14.367270675364063,19.018749714314513,7.840622563948391,34.90625897311561,31.95109256760049,19.932357556185405,2.0257220360101247,23.45765114177031,20.962278911558375,14.916272641397482,25.981334914885508,47.53720380834936,46.47410544099089,28.20353905556615,42.91652484918696,39.769920579002,45.21423488862125,32.709819394782414,28.566112022095876,14.595594924513783,12.089135327380912,34.49427359750564,31.294613363305146,42.16632471971396,8.961017805210714,10.164852481430081,29.08421254422537,18.136618474696903,27.13022514825738,19.318162001004158,3.65361185082837,37.30046009826605,2.0170266216720965,28.410695379236433,29.15194831712028,9.74267269878561,28.390311248564537,42.0773436752477,7.881676545544453,9.197224438595558,7.156633608786716,42.844778629330015,28.32660701737334,14.643096522249843,20.201662211662885,40.431402043148985,21.396046783983902,47.818653465238384,28.06700062627533,27.382222515786886,49.243261697132866,21.29838260910487,16.3489605379109,28.65614354303661,27.276242686156166,44.051269310522756,30.62181136730707,18.96481396951292,4.051012277353272,33.98791876879359,36.41658349648475,13.1562937822712,5.622496279165334,9.903991961390036,20.32750055867732,11.743458616107844,40.62522960490368,28.44034054601447,10.671654547477116],\"y\":[5.796204521722265,9.865948019235226,45.20569070753626,41.293518079215126,12.848140645015855,19.53236168934504,13.045546716346696,10.084429466999994,28.21260426154291,10.257203438815415,34.59143262226439,44.57821159378684,34.159483713235225,35.22387011708945,10.68744151771755,30.587558397480908,12.773464873021235,49.25978820729146,21.066482313470058,36.26188242926285,6.995950403769113,7.435849925758337,38.73646912413775,23.175818130728988,18.34706286801629,16.075075097816345,14.937133445479695,28.098570350136853,19.13076264874797,31.270899818866233,27.240994133465968,23.94785249319911,41.54526789015134,10.025243873057143,9.397416955938098,26.098140959145134,36.05258920557371,36.938815747685446,27.85660884931846,0.6914953969918813,16.60514782261403,25.020835288915876,36.56075417500635,4.890234733336518,30.884076263022347,22.632648290857087,28.552403620020588,45.11422969970788,9.572939860542611,49.83946283672194,10.22562473051204,28.221634657134064,9.87227210853267,36.51670244653931,1.6332910730000538,2.320359044397219,24.954443787764124,41.442240815251694,14.164305897912882,38.43862375629727,32.865017835798376,46.30304299192902,25.117423115221825,41.63643948972935,5.495922196121611,41.05450464653065,7.223735024793232,0.3058839063903418,40.68735837665247,47.39305832044485,30.00777626437422,35.38654176863047,18.25954712334985,15.237360047561166,29.027584098780103,47.01351429771686,13.832042483600132,23.060651499343056,38.49696616061906,24.718906259203976,32.65746555427869,16.67665448079531,2.5685790896176783,38.72371310721673,49.37817973056291,32.653620026221965,20.644351549925084,14.085551447897288,8.608551946058812,21.9159108482572,42.48014903646773,6.5087011318149255,5.5520900031067635,16.289785949134856,9.564485236036163,48.476402066549866,25.481890792395625,15.759791147631447,40.27645651015523,17.03144099200159]}];\n",
       " var layout_ZOZ9AzN8kB = {\"height\":550,\"width\":600,\"hovermode\":\"closest\",\"title\":{\"text\":\"First Chart\"},\"showlegend\":true};\n",
       " var config_ZOZ9AzN8kB = {\"responsive\":true,\"scrollZoom\":true,\"displaylogo\":false};\n",
       " Plotly.newPlot(\"graph_ZOZ9AzN8kB\", traces_ZOZ9AzN8kB, layout_ZOZ9AzN8kB, config_ZOZ9AzN8kB);\n",
       "</script> \n"
      ]
     },
     "metadata": {},
     "output_type": "display_data"
    }
   ],
   "source": [
    "// create the data series using the data from above\n",
    "// 'asType SCATTER' transforms the series into a scatter chart\n",
    "// 'drawStyle Markers' specifies the style of the markers the chart should have\n",
    "// if a name is not provided to the series, Picta generates a random name to help keep track of the series in charts\n",
    "// multiple series.\n",
    "val series = XY(x, y) asType SCATTER drawStyle MARKERS\n",
    "\n",
    "// create a chart by adding to it a data series. We set the title as 'First Chart'\n",
    "val chart = Chart() addSeries series setTitle \"First Chart\"\n",
    "\n",
    "// if we have a single chart, then we do not need to use the Canvas and can simply call chart.plot\n",
    "\n",
    "chart.plotInline"
   ]
  },
  {
   "cell_type": "markdown",
   "metadata": {},
   "source": [
    "#Simple costumization\n",
    "This plot is nice, but could use some simple costumization to make it more attractive. First, the data series does not have a name and so the legend come with a generated arbitrary name (not very useful). Second, the X and Y axis don't have labels. Let's fix that."
   ]
  },
  {
   "cell_type": "code",
   "execution_count": 7,
   "metadata": {},
   "outputs": [
    {
     "data": {
      "text/html": [
       "<div id=\"grid-container_StaUwFsjBT\" class=\"grid-container\" align=\"center\"> \n",
       "<div id=\"grid_StaUwFsjBT\" class=\"grid\" align=\"center\"> \n",
       "<div id=\"graph_2uuekFdoNZ\" class=\"graph\"></div> \n",
       "</div> \n",
       "</div> \n",
       "<script>\n",
       "var masonry = new Macy({\n",
       "    container: '#grid_StaUwFsjBT',\n",
       "    debug: true,\n",
       "    mobileFirst: true,\n",
       "    columns: 1,\n",
       "    margin: {\n",
       "        x: 0,\n",
       "        y: 0\n",
       "    }\n",
       "  });\n",
       "\n",
       "  var traces_2uuekFdoNZ = [{\"name\":\"x vs y\",\"type\":\"scatter\",\"mode\":\"markers\",\"x\":[39.99781962140005,27.23407912078609,27.129407721130093,33.90944018794247,1.1727190172739155,33.93671802415194,31.506053908210944,0.12626873646711667,43.77963199029265,47.38781370796964,23.519228183779983,1.9456240094012867,4.991249060442571,15.73948999972385,41.072689182011615,7.251488849990051,33.848610073271004,14.633666022757069,8.06249212133483,0.1727690613465338,33.740089707218274,25.57497527328708,45.07069870716604,1.7021979333906312,8.64267616167807,40.81415079668137,30.480472417407782,13.29558693885488,2.01256779578331,28.6606645066042,5.5138356505006145,14.367270675364063,19.018749714314513,7.840622563948391,34.90625897311561,31.95109256760049,19.932357556185405,2.0257220360101247,23.45765114177031,20.962278911558375,14.916272641397482,25.981334914885508,47.53720380834936,46.47410544099089,28.20353905556615,42.91652484918696,39.769920579002,45.21423488862125,32.709819394782414,28.566112022095876,14.595594924513783,12.089135327380912,34.49427359750564,31.294613363305146,42.16632471971396,8.961017805210714,10.164852481430081,29.08421254422537,18.136618474696903,27.13022514825738,19.318162001004158,3.65361185082837,37.30046009826605,2.0170266216720965,28.410695379236433,29.15194831712028,9.74267269878561,28.390311248564537,42.0773436752477,7.881676545544453,9.197224438595558,7.156633608786716,42.844778629330015,28.32660701737334,14.643096522249843,20.201662211662885,40.431402043148985,21.396046783983902,47.818653465238384,28.06700062627533,27.382222515786886,49.243261697132866,21.29838260910487,16.3489605379109,28.65614354303661,27.276242686156166,44.051269310522756,30.62181136730707,18.96481396951292,4.051012277353272,33.98791876879359,36.41658349648475,13.1562937822712,5.622496279165334,9.903991961390036,20.32750055867732,11.743458616107844,40.62522960490368,28.44034054601447,10.671654547477116],\"y\":[5.796204521722265,9.865948019235226,45.20569070753626,41.293518079215126,12.848140645015855,19.53236168934504,13.045546716346696,10.084429466999994,28.21260426154291,10.257203438815415,34.59143262226439,44.57821159378684,34.159483713235225,35.22387011708945,10.68744151771755,30.587558397480908,12.773464873021235,49.25978820729146,21.066482313470058,36.26188242926285,6.995950403769113,7.435849925758337,38.73646912413775,23.175818130728988,18.34706286801629,16.075075097816345,14.937133445479695,28.098570350136853,19.13076264874797,31.270899818866233,27.240994133465968,23.94785249319911,41.54526789015134,10.025243873057143,9.397416955938098,26.098140959145134,36.05258920557371,36.938815747685446,27.85660884931846,0.6914953969918813,16.60514782261403,25.020835288915876,36.56075417500635,4.890234733336518,30.884076263022347,22.632648290857087,28.552403620020588,45.11422969970788,9.572939860542611,49.83946283672194,10.22562473051204,28.221634657134064,9.87227210853267,36.51670244653931,1.6332910730000538,2.320359044397219,24.954443787764124,41.442240815251694,14.164305897912882,38.43862375629727,32.865017835798376,46.30304299192902,25.117423115221825,41.63643948972935,5.495922196121611,41.05450464653065,7.223735024793232,0.3058839063903418,40.68735837665247,47.39305832044485,30.00777626437422,35.38654176863047,18.25954712334985,15.237360047561166,29.027584098780103,47.01351429771686,13.832042483600132,23.060651499343056,38.49696616061906,24.718906259203976,32.65746555427869,16.67665448079531,2.5685790896176783,38.72371310721673,49.37817973056291,32.653620026221965,20.644351549925084,14.085551447897288,8.608551946058812,21.9159108482572,42.48014903646773,6.5087011318149255,5.5520900031067635,16.289785949134856,9.564485236036163,48.476402066549866,25.481890792395625,15.759791147631447,40.27645651015523,17.03144099200159]}];\n",
       " var layout_2uuekFdoNZ = {\"height\":550,\"width\":600,\"hovermode\":\"closest\",\"title\":{\"text\":\"Chart with custom axis and label\"},\"showlegend\":true,\"xaxis\":{\"title\":{\"text\":\"X values\"},\"showgrid\":true,\"zeroline\":false,\"showline\":false},\"yaxis\":{\"title\":{\"text\":\"Y values\"},\"showgrid\":true,\"zeroline\":false,\"showline\":false}};\n",
       " var config_2uuekFdoNZ = {\"responsive\":true,\"scrollZoom\":true,\"displaylogo\":false};\n",
       " Plotly.newPlot(\"graph_2uuekFdoNZ\", traces_2uuekFdoNZ, layout_2uuekFdoNZ, config_2uuekFdoNZ);\n",
       "</script> \n"
      ]
     },
     "metadata": {},
     "output_type": "display_data"
    }
   ],
   "source": [
    "val series = XY(x, y) asType SCATTER drawStyle MARKERS setName(\"x vs y\") // Using 'setName' gives a name to our series \n",
    "\n",
    "// Note the use of the setXAxisTitle and setYAxisTitle compared to above\n",
    "val chart = Chart() addSeries series setTitle \"Chart with custom axis and label\" setXAxisTitle(\"X values\") setYAxisTitle(\"Y values\")\n",
    "\n",
    "chart.plotInline"
   ]
  },
  {
   "cell_type": "markdown",
   "metadata": {},
   "source": [
    "#### Chaining Functions using the '.dot' notation\n",
    "\n",
    "Sometimes when we are specifying many options, it is quicker to use the IDE autocomplete and just chain the function calls using the familiar '.dot' notation. Throughout this book both the style above and the function chaining style will be used as and when convenient."
   ]
  },
  {
   "cell_type": "code",
   "execution_count": 8,
   "metadata": {},
   "outputs": [
    {
     "data": {
      "text/html": [
       "<div id=\"grid-container_V5nQxh2BEq\" class=\"grid-container\" align=\"center\"> \n",
       "<div id=\"grid_V5nQxh2BEq\" class=\"grid\" align=\"center\"> \n",
       "<div id=\"graph_tIlODG4bFZ\" class=\"graph\"></div> \n",
       "</div> \n",
       "</div> \n",
       "<script>\n",
       "var masonry = new Macy({\n",
       "    container: '#grid_V5nQxh2BEq',\n",
       "    debug: true,\n",
       "    mobileFirst: true,\n",
       "    columns: 1,\n",
       "    margin: {\n",
       "        x: 0,\n",
       "        y: 0\n",
       "    }\n",
       "  });\n",
       "\n",
       "  var traces_tIlODG4bFZ = [{\"name\":\"Chained xy\",\"type\":\"scatter\",\"mode\":\"markers\",\"x\":[39.99781962140005,27.23407912078609,27.129407721130093,33.90944018794247,1.1727190172739155,33.93671802415194,31.506053908210944,0.12626873646711667,43.77963199029265,47.38781370796964,23.519228183779983,1.9456240094012867,4.991249060442571,15.73948999972385,41.072689182011615,7.251488849990051,33.848610073271004,14.633666022757069,8.06249212133483,0.1727690613465338,33.740089707218274,25.57497527328708,45.07069870716604,1.7021979333906312,8.64267616167807,40.81415079668137,30.480472417407782,13.29558693885488,2.01256779578331,28.6606645066042,5.5138356505006145,14.367270675364063,19.018749714314513,7.840622563948391,34.90625897311561,31.95109256760049,19.932357556185405,2.0257220360101247,23.45765114177031,20.962278911558375,14.916272641397482,25.981334914885508,47.53720380834936,46.47410544099089,28.20353905556615,42.91652484918696,39.769920579002,45.21423488862125,32.709819394782414,28.566112022095876,14.595594924513783,12.089135327380912,34.49427359750564,31.294613363305146,42.16632471971396,8.961017805210714,10.164852481430081,29.08421254422537,18.136618474696903,27.13022514825738,19.318162001004158,3.65361185082837,37.30046009826605,2.0170266216720965,28.410695379236433,29.15194831712028,9.74267269878561,28.390311248564537,42.0773436752477,7.881676545544453,9.197224438595558,7.156633608786716,42.844778629330015,28.32660701737334,14.643096522249843,20.201662211662885,40.431402043148985,21.396046783983902,47.818653465238384,28.06700062627533,27.382222515786886,49.243261697132866,21.29838260910487,16.3489605379109,28.65614354303661,27.276242686156166,44.051269310522756,30.62181136730707,18.96481396951292,4.051012277353272,33.98791876879359,36.41658349648475,13.1562937822712,5.622496279165334,9.903991961390036,20.32750055867732,11.743458616107844,40.62522960490368,28.44034054601447,10.671654547477116],\"y\":[5.796204521722265,9.865948019235226,45.20569070753626,41.293518079215126,12.848140645015855,19.53236168934504,13.045546716346696,10.084429466999994,28.21260426154291,10.257203438815415,34.59143262226439,44.57821159378684,34.159483713235225,35.22387011708945,10.68744151771755,30.587558397480908,12.773464873021235,49.25978820729146,21.066482313470058,36.26188242926285,6.995950403769113,7.435849925758337,38.73646912413775,23.175818130728988,18.34706286801629,16.075075097816345,14.937133445479695,28.098570350136853,19.13076264874797,31.270899818866233,27.240994133465968,23.94785249319911,41.54526789015134,10.025243873057143,9.397416955938098,26.098140959145134,36.05258920557371,36.938815747685446,27.85660884931846,0.6914953969918813,16.60514782261403,25.020835288915876,36.56075417500635,4.890234733336518,30.884076263022347,22.632648290857087,28.552403620020588,45.11422969970788,9.572939860542611,49.83946283672194,10.22562473051204,28.221634657134064,9.87227210853267,36.51670244653931,1.6332910730000538,2.320359044397219,24.954443787764124,41.442240815251694,14.164305897912882,38.43862375629727,32.865017835798376,46.30304299192902,25.117423115221825,41.63643948972935,5.495922196121611,41.05450464653065,7.223735024793232,0.3058839063903418,40.68735837665247,47.39305832044485,30.00777626437422,35.38654176863047,18.25954712334985,15.237360047561166,29.027584098780103,47.01351429771686,13.832042483600132,23.060651499343056,38.49696616061906,24.718906259203976,32.65746555427869,16.67665448079531,2.5685790896176783,38.72371310721673,49.37817973056291,32.653620026221965,20.644351549925084,14.085551447897288,8.608551946058812,21.9159108482572,42.48014903646773,6.5087011318149255,5.5520900031067635,16.289785949134856,9.564485236036163,48.476402066549866,25.481890792395625,15.759791147631447,40.27645651015523,17.03144099200159]}];\n",
       " var layout_tIlODG4bFZ = {\"height\":550,\"width\":600,\"hovermode\":\"closest\",\"title\":{\"text\":\"Using Function Chaining\"},\"showlegend\":true,\"xaxis\":{\"showgrid\":true,\"zeroline\":false,\"showline\":false},\"yaxis\":{\"showgrid\":true,\"zeroline\":false,\"showline\":false}};\n",
       " var config_tIlODG4bFZ = {\"responsive\":true,\"scrollZoom\":true,\"displaylogo\":false};\n",
       " Plotly.newPlot(\"graph_tIlODG4bFZ\", traces_tIlODG4bFZ, layout_tIlODG4bFZ, config_tIlODG4bFZ);\n",
       "</script> \n"
      ]
     },
     "metadata": {},
     "output_type": "display_data"
    }
   ],
   "source": [
    "// sometimes we may specify many options. In such cases it is clearer to use function chaining as below:\n",
    "val series = XY(x, y)\n",
    "            .asType(SCATTER)\n",
    "            .setName(\"Chained xy\")\n",
    "            .drawMarkers  // This is to help leverage the IDE autocompletion for quick scripting. Tap 'tab' twice to see options.\n",
    "\n",
    "val chart = Chart()\n",
    "            .addSeries(series)\n",
    "            .setTitle(\"Using Function Chaining\")\n",
    "            // by specifying and X and Y axes we can give more rid of the zerolines\n",
    "            .addAxes(Axis(X ,zeroline = false), Axis(Y ,zeroline = false)) \n",
    "\n",
    "chart.plotInline"
   ]
  },
  {
   "cell_type": "markdown",
   "metadata": {},
   "source": [
    "#### Bar Chart\n",
    "\n",
    "Now using the same principles as above, let's create a `Bar` chart:"
   ]
  },
  {
   "cell_type": "code",
   "execution_count": 9,
   "metadata": {},
   "outputs": [
    {
     "data": {
      "text/html": [
       "<div id=\"grid-container_uV5itNk6Sl\" class=\"grid-container\" align=\"center\"> \n",
       "<div id=\"grid_uV5itNk6Sl\" class=\"grid\" align=\"center\"> \n",
       "<div id=\"graph_kzdB8NwjoG\" class=\"graph\"></div> \n",
       "</div> \n",
       "</div> \n",
       "<script>\n",
       "var masonry = new Macy({\n",
       "    container: '#grid_uV5itNk6Sl',\n",
       "    debug: true,\n",
       "    mobileFirst: true,\n",
       "    columns: 1,\n",
       "    margin: {\n",
       "        x: 0,\n",
       "        y: 0\n",
       "    }\n",
       "  });\n",
       "\n",
       "  var traces_kzdB8NwjoG = [{\"name\":\"My data\",\"type\":\"bar\",\"x\":[\"a\",\"b\",\"c\"],\"y\":[10,20,300]}];\n",
       " var layout_kzdB8NwjoG = {\"height\":550,\"width\":600,\"hovermode\":\"closest\",\"title\":{\"text\":\"Bar Chart\"},\"showlegend\":true};\n",
       " var config_kzdB8NwjoG = {\"responsive\":false,\"scrollZoom\":false,\"displaylogo\":false};\n",
       " Plotly.newPlot(\"graph_kzdB8NwjoG\", traces_kzdB8NwjoG, layout_kzdB8NwjoG, config_kzdB8NwjoG);\n",
       "</script> \n"
      ]
     },
     "metadata": {},
     "output_type": "display_data"
    }
   ],
   "source": [
    "// First we create some data for the piechart\n",
    "val x_bar = List(\"a\", \"b\", \"c\")\n",
    "val y_bar = List(10, 20, 300)\n",
    "\n",
    "// again feed in the data that we want to represent as a Bar chart.\n",
    "// Notice how we change 'asType SCATTER' to 'asType BAR'\n",
    "val series = XY(x_bar, y_bar) asType BAR setName(\"My data\")\n",
    "\n",
    "// we can turn off the scrollzoom using setConfig\n",
    "val chart = Chart() addSeries series setTitle \"Bar Chart\" setConfig(false, false)\n",
    "\n",
    "chart.plotInline"
   ]
  },
  {
   "cell_type": "markdown",
   "metadata": {},
   "source": [
    "#### Adding Multiple Series on the Same Axis\n",
    "\n",
    "Sometimes we may want to plot multiple `Series` on the same axis to compare different data series.\n",
    "\n",
    "Let's plot both of the above on the same pair of axis:"
   ]
  },
  {
   "cell_type": "code",
   "execution_count": 10,
   "metadata": {},
   "outputs": [],
   "source": [
    "// we import the marker option which lets us specify the marker\n",
    "import org.carbonateresearch.picta.options.Marker\n",
    "import org.carbonateresearch.picta.SymbolShape._"
   ]
  },
  {
   "cell_type": "code",
   "execution_count": 11,
   "metadata": {},
   "outputs": [
    {
     "data": {
      "text/html": [
       "<div id=\"grid-container_2Pl61Cvim3\" class=\"grid-container\" align=\"center\"> \n",
       "<div id=\"grid_2Pl61Cvim3\" class=\"grid\" align=\"center\"> \n",
       "<div id=\"graph_5z6f2AAesF\" class=\"graph\"></div> \n",
       "</div> \n",
       "</div> \n",
       "<script>\n",
       "var masonry = new Macy({\n",
       "    container: '#grid_2Pl61Cvim3',\n",
       "    debug: true,\n",
       "    mobileFirst: true,\n",
       "    columns: 1,\n",
       "    margin: {\n",
       "        x: 0,\n",
       "        y: 0\n",
       "    }\n",
       "  });\n",
       "\n",
       "  var traces_5z6f2AAesF = [{\"name\":\"Bar\",\"type\":\"bar\",\"x\":[39.99781962140005,27.23407912078609,27.129407721130093,33.90944018794247,1.1727190172739155,33.93671802415194,31.506053908210944,0.12626873646711667,43.77963199029265,47.38781370796964,23.519228183779983,1.9456240094012867,4.991249060442571,15.73948999972385,41.072689182011615,7.251488849990051,33.848610073271004,14.633666022757069,8.06249212133483,0.1727690613465338,33.740089707218274,25.57497527328708,45.07069870716604,1.7021979333906312,8.64267616167807,40.81415079668137,30.480472417407782,13.29558693885488,2.01256779578331,28.6606645066042,5.5138356505006145,14.367270675364063,19.018749714314513,7.840622563948391,34.90625897311561,31.95109256760049,19.932357556185405,2.0257220360101247,23.45765114177031,20.962278911558375,14.916272641397482,25.981334914885508,47.53720380834936,46.47410544099089,28.20353905556615,42.91652484918696,39.769920579002,45.21423488862125,32.709819394782414,28.566112022095876,14.595594924513783,12.089135327380912,34.49427359750564,31.294613363305146,42.16632471971396,8.961017805210714,10.164852481430081,29.08421254422537,18.136618474696903,27.13022514825738,19.318162001004158,3.65361185082837,37.30046009826605,2.0170266216720965,28.410695379236433,29.15194831712028,9.74267269878561,28.390311248564537,42.0773436752477,7.881676545544453,9.197224438595558,7.156633608786716,42.844778629330015,28.32660701737334,14.643096522249843,20.201662211662885,40.431402043148985,21.396046783983902,47.818653465238384,28.06700062627533,27.382222515786886,49.243261697132866,21.29838260910487,16.3489605379109,28.65614354303661,27.276242686156166,44.051269310522756,30.62181136730707,18.96481396951292,4.051012277353272,33.98791876879359,36.41658349648475,13.1562937822712,5.622496279165334,9.903991961390036,20.32750055867732,11.743458616107844,40.62522960490368,28.44034054601447,10.671654547477116],\"y\":[5.796204521722265,9.865948019235226,45.20569070753626,41.293518079215126,12.848140645015855,19.53236168934504,13.045546716346696,10.084429466999994,28.21260426154291,10.257203438815415,34.59143262226439,44.57821159378684,34.159483713235225,35.22387011708945,10.68744151771755,30.587558397480908,12.773464873021235,49.25978820729146,21.066482313470058,36.26188242926285,6.995950403769113,7.435849925758337,38.73646912413775,23.175818130728988,18.34706286801629,16.075075097816345,14.937133445479695,28.098570350136853,19.13076264874797,31.270899818866233,27.240994133465968,23.94785249319911,41.54526789015134,10.025243873057143,9.397416955938098,26.098140959145134,36.05258920557371,36.938815747685446,27.85660884931846,0.6914953969918813,16.60514782261403,25.020835288915876,36.56075417500635,4.890234733336518,30.884076263022347,22.632648290857087,28.552403620020588,45.11422969970788,9.572939860542611,49.83946283672194,10.22562473051204,28.221634657134064,9.87227210853267,36.51670244653931,1.6332910730000538,2.320359044397219,24.954443787764124,41.442240815251694,14.164305897912882,38.43862375629727,32.865017835798376,46.30304299192902,25.117423115221825,41.63643948972935,5.495922196121611,41.05450464653065,7.223735024793232,0.3058839063903418,40.68735837665247,47.39305832044485,30.00777626437422,35.38654176863047,18.25954712334985,15.237360047561166,29.027584098780103,47.01351429771686,13.832042483600132,23.060651499343056,38.49696616061906,24.718906259203976,32.65746555427869,16.67665448079531,2.5685790896176783,38.72371310721673,49.37817973056291,32.653620026221965,20.644351549925084,14.085551447897288,8.608551946058812,21.9159108482572,42.48014903646773,6.5087011318149255,5.5520900031067635,16.289785949134856,9.564485236036163,48.476402066549866,25.481890792395625,15.759791147631447,40.27645651015523,17.03144099200159]},{\"name\":\"Scatter\",\"type\":\"scatter\",\"mode\":\"markers\",\"marker\":{\"symbol\":\"square-open\",\"color\":\"red\"},\"x\":[39.99781962140005,27.23407912078609,27.129407721130093,33.90944018794247,1.1727190172739155,33.93671802415194,31.506053908210944,0.12626873646711667,43.77963199029265,47.38781370796964,23.519228183779983,1.9456240094012867,4.991249060442571,15.73948999972385,41.072689182011615,7.251488849990051,33.848610073271004,14.633666022757069,8.06249212133483,0.1727690613465338,33.740089707218274,25.57497527328708,45.07069870716604,1.7021979333906312,8.64267616167807,40.81415079668137,30.480472417407782,13.29558693885488,2.01256779578331,28.6606645066042,5.5138356505006145,14.367270675364063,19.018749714314513,7.840622563948391,34.90625897311561,31.95109256760049,19.932357556185405,2.0257220360101247,23.45765114177031,20.962278911558375,14.916272641397482,25.981334914885508,47.53720380834936,46.47410544099089,28.20353905556615,42.91652484918696,39.769920579002,45.21423488862125,32.709819394782414,28.566112022095876,14.595594924513783,12.089135327380912,34.49427359750564,31.294613363305146,42.16632471971396,8.961017805210714,10.164852481430081,29.08421254422537,18.136618474696903,27.13022514825738,19.318162001004158,3.65361185082837,37.30046009826605,2.0170266216720965,28.410695379236433,29.15194831712028,9.74267269878561,28.390311248564537,42.0773436752477,7.881676545544453,9.197224438595558,7.156633608786716,42.844778629330015,28.32660701737334,14.643096522249843,20.201662211662885,40.431402043148985,21.396046783983902,47.818653465238384,28.06700062627533,27.382222515786886,49.243261697132866,21.29838260910487,16.3489605379109,28.65614354303661,27.276242686156166,44.051269310522756,30.62181136730707,18.96481396951292,4.051012277353272,33.98791876879359,36.41658349648475,13.1562937822712,5.622496279165334,9.903991961390036,20.32750055867732,11.743458616107844,40.62522960490368,28.44034054601447,10.671654547477116],\"y\":[5.796204521722265,9.865948019235226,45.20569070753626,41.293518079215126,12.848140645015855,19.53236168934504,13.045546716346696,10.084429466999994,28.21260426154291,10.257203438815415,34.59143262226439,44.57821159378684,34.159483713235225,35.22387011708945,10.68744151771755,30.587558397480908,12.773464873021235,49.25978820729146,21.066482313470058,36.26188242926285,6.995950403769113,7.435849925758337,38.73646912413775,23.175818130728988,18.34706286801629,16.075075097816345,14.937133445479695,28.098570350136853,19.13076264874797,31.270899818866233,27.240994133465968,23.94785249319911,41.54526789015134,10.025243873057143,9.397416955938098,26.098140959145134,36.05258920557371,36.938815747685446,27.85660884931846,0.6914953969918813,16.60514782261403,25.020835288915876,36.56075417500635,4.890234733336518,30.884076263022347,22.632648290857087,28.552403620020588,45.11422969970788,9.572939860542611,49.83946283672194,10.22562473051204,28.221634657134064,9.87227210853267,36.51670244653931,1.6332910730000538,2.320359044397219,24.954443787764124,41.442240815251694,14.164305897912882,38.43862375629727,32.865017835798376,46.30304299192902,25.117423115221825,41.63643948972935,5.495922196121611,41.05450464653065,7.223735024793232,0.3058839063903418,40.68735837665247,47.39305832044485,30.00777626437422,35.38654176863047,18.25954712334985,15.237360047561166,29.027584098780103,47.01351429771686,13.832042483600132,23.060651499343056,38.49696616061906,24.718906259203976,32.65746555427869,16.67665448079531,2.5685790896176783,38.72371310721673,49.37817973056291,32.653620026221965,20.644351549925084,14.085551447897288,8.608551946058812,21.9159108482572,42.48014903646773,6.5087011318149255,5.5520900031067635,16.289785949134856,9.564485236036163,48.476402066549866,25.481890792395625,15.759791147631447,40.27645651015523,17.03144099200159]}];\n",
       " var layout_5z6f2AAesF = {\"height\":550,\"width\":600,\"hovermode\":\"closest\",\"title\":{\"text\":\"Multiple series on one chart\"},\"showlegend\":true};\n",
       " var config_5z6f2AAesF = {\"responsive\":true,\"scrollZoom\":true,\"displaylogo\":false};\n",
       " Plotly.newPlot(\"graph_5z6f2AAesF\", traces_5z6f2AAesF, layout_5z6f2AAesF, config_5z6f2AAesF);\n",
       "</script> \n"
      ]
     },
     "metadata": {},
     "output_type": "display_data"
    }
   ],
   "source": [
    "// additional traces can simply be composed with an existing chart and added on\n",
    "val series1 = XY(x, y) asType BAR setName \"Bar\"\n",
    "\n",
    "// lets give the second series a red marker. Again we can 'compose' a marker using smaller components\n",
    "val marker = Marker() setSymbol SQUARE_OPEN setColor \"red\"\n",
    "\n",
    "val series2 = XY(x, y) asType SCATTER setName \"Scatter\" drawStyle MARKERS setMarker marker\n",
    "\n",
    "// we not put brackets in the 'addSeries' function to ensure that addSeries picks up the right series'\n",
    "val chart = Chart() addSeries(series1, series2) setTitle(\"Multiple series on one chart\")\n",
    "\n",
    "chart.plotInline"
   ]
  },
  {
   "cell_type": "markdown",
   "metadata": {},
   "source": [
    "### Lets Change The Appearance of The Markers\n",
    "\n",
    "We can control the appearance of the markers by setting the width"
   ]
  },
  {
   "cell_type": "code",
   "execution_count": 12,
   "metadata": {},
   "outputs": [
    {
     "data": {
      "text/html": [
       "<div id=\"grid-container_9mv7OQPDWF\" class=\"grid-container\" align=\"center\"> \n",
       "<div id=\"grid_9mv7OQPDWF\" class=\"grid\" align=\"center\"> \n",
       "<div id=\"graph_zXnNLokr4a\" class=\"graph\"></div> \n",
       "</div> \n",
       "</div> \n",
       "<script>\n",
       "var masonry = new Macy({\n",
       "    container: '#grid_9mv7OQPDWF',\n",
       "    debug: true,\n",
       "    mobileFirst: true,\n",
       "    columns: 1,\n",
       "    margin: {\n",
       "        x: 0,\n",
       "        y: 0\n",
       "    }\n",
       "  });\n",
       "\n",
       "  var traces_zXnNLokr4a = [{\"name\":\"Bar\",\"type\":\"bar\",\"x\":[39.99781962140005,27.23407912078609,27.129407721130093,33.90944018794247,1.1727190172739155,33.93671802415194,31.506053908210944,0.12626873646711667,43.77963199029265,47.38781370796964,23.519228183779983,1.9456240094012867,4.991249060442571,15.73948999972385,41.072689182011615,7.251488849990051,33.848610073271004,14.633666022757069,8.06249212133483,0.1727690613465338,33.740089707218274,25.57497527328708,45.07069870716604,1.7021979333906312,8.64267616167807,40.81415079668137,30.480472417407782,13.29558693885488,2.01256779578331,28.6606645066042,5.5138356505006145,14.367270675364063,19.018749714314513,7.840622563948391,34.90625897311561,31.95109256760049,19.932357556185405,2.0257220360101247,23.45765114177031,20.962278911558375,14.916272641397482,25.981334914885508,47.53720380834936,46.47410544099089,28.20353905556615,42.91652484918696,39.769920579002,45.21423488862125,32.709819394782414,28.566112022095876,14.595594924513783,12.089135327380912,34.49427359750564,31.294613363305146,42.16632471971396,8.961017805210714,10.164852481430081,29.08421254422537,18.136618474696903,27.13022514825738,19.318162001004158,3.65361185082837,37.30046009826605,2.0170266216720965,28.410695379236433,29.15194831712028,9.74267269878561,28.390311248564537,42.0773436752477,7.881676545544453,9.197224438595558,7.156633608786716,42.844778629330015,28.32660701737334,14.643096522249843,20.201662211662885,40.431402043148985,21.396046783983902,47.818653465238384,28.06700062627533,27.382222515786886,49.243261697132866,21.29838260910487,16.3489605379109,28.65614354303661,27.276242686156166,44.051269310522756,30.62181136730707,18.96481396951292,4.051012277353272,33.98791876879359,36.41658349648475,13.1562937822712,5.622496279165334,9.903991961390036,20.32750055867732,11.743458616107844,40.62522960490368,28.44034054601447,10.671654547477116],\"y\":[5.796204521722265,9.865948019235226,45.20569070753626,41.293518079215126,12.848140645015855,19.53236168934504,13.045546716346696,10.084429466999994,28.21260426154291,10.257203438815415,34.59143262226439,44.57821159378684,34.159483713235225,35.22387011708945,10.68744151771755,30.587558397480908,12.773464873021235,49.25978820729146,21.066482313470058,36.26188242926285,6.995950403769113,7.435849925758337,38.73646912413775,23.175818130728988,18.34706286801629,16.075075097816345,14.937133445479695,28.098570350136853,19.13076264874797,31.270899818866233,27.240994133465968,23.94785249319911,41.54526789015134,10.025243873057143,9.397416955938098,26.098140959145134,36.05258920557371,36.938815747685446,27.85660884931846,0.6914953969918813,16.60514782261403,25.020835288915876,36.56075417500635,4.890234733336518,30.884076263022347,22.632648290857087,28.552403620020588,45.11422969970788,9.572939860542611,49.83946283672194,10.22562473051204,28.221634657134064,9.87227210853267,36.51670244653931,1.6332910730000538,2.320359044397219,24.954443787764124,41.442240815251694,14.164305897912882,38.43862375629727,32.865017835798376,46.30304299192902,25.117423115221825,41.63643948972935,5.495922196121611,41.05450464653065,7.223735024793232,0.3058839063903418,40.68735837665247,47.39305832044485,30.00777626437422,35.38654176863047,18.25954712334985,15.237360047561166,29.027584098780103,47.01351429771686,13.832042483600132,23.060651499343056,38.49696616061906,24.718906259203976,32.65746555427869,16.67665448079531,2.5685790896176783,38.72371310721673,49.37817973056291,32.653620026221965,20.644351549925084,14.085551447897288,8.608551946058812,21.9159108482572,42.48014903646773,6.5087011318149255,5.5520900031067635,16.289785949134856,9.564485236036163,48.476402066549866,25.481890792395625,15.759791147631447,40.27645651015523,17.03144099200159]},{\"name\":\"Scatter\",\"type\":\"scatter\",\"mode\":\"markers\",\"marker\":{\"symbol\":\"circle\",\"color\":\"red\",\"line\":{\"width\":2,\"color\":\"black\"},\"size\":[10,10,10,10,10,10,10,10,10,10,10,10,10,10,10,10,10,10,10,10,10,10,10,10,10,10,10,10,10,10,10,10,10,10,10,10,10,10,10,10,10,10,10,10,10,10,10,10,10,10,10,10,10,10,10,10,10,10,10,10,10,10,10,10,10,10,10,10,10,10,10,10,10,10,10,10,10,10,10,10,10,10,10,10,10,10,10,10,10,10,10,10,10,10,10,10,10,10,10,10]},\"x\":[39.99781962140005,27.23407912078609,27.129407721130093,33.90944018794247,1.1727190172739155,33.93671802415194,31.506053908210944,0.12626873646711667,43.77963199029265,47.38781370796964,23.519228183779983,1.9456240094012867,4.991249060442571,15.73948999972385,41.072689182011615,7.251488849990051,33.848610073271004,14.633666022757069,8.06249212133483,0.1727690613465338,33.740089707218274,25.57497527328708,45.07069870716604,1.7021979333906312,8.64267616167807,40.81415079668137,30.480472417407782,13.29558693885488,2.01256779578331,28.6606645066042,5.5138356505006145,14.367270675364063,19.018749714314513,7.840622563948391,34.90625897311561,31.95109256760049,19.932357556185405,2.0257220360101247,23.45765114177031,20.962278911558375,14.916272641397482,25.981334914885508,47.53720380834936,46.47410544099089,28.20353905556615,42.91652484918696,39.769920579002,45.21423488862125,32.709819394782414,28.566112022095876,14.595594924513783,12.089135327380912,34.49427359750564,31.294613363305146,42.16632471971396,8.961017805210714,10.164852481430081,29.08421254422537,18.136618474696903,27.13022514825738,19.318162001004158,3.65361185082837,37.30046009826605,2.0170266216720965,28.410695379236433,29.15194831712028,9.74267269878561,28.390311248564537,42.0773436752477,7.881676545544453,9.197224438595558,7.156633608786716,42.844778629330015,28.32660701737334,14.643096522249843,20.201662211662885,40.431402043148985,21.396046783983902,47.818653465238384,28.06700062627533,27.382222515786886,49.243261697132866,21.29838260910487,16.3489605379109,28.65614354303661,27.276242686156166,44.051269310522756,30.62181136730707,18.96481396951292,4.051012277353272,33.98791876879359,36.41658349648475,13.1562937822712,5.622496279165334,9.903991961390036,20.32750055867732,11.743458616107844,40.62522960490368,28.44034054601447,10.671654547477116],\"y\":[5.796204521722265,9.865948019235226,45.20569070753626,41.293518079215126,12.848140645015855,19.53236168934504,13.045546716346696,10.084429466999994,28.21260426154291,10.257203438815415,34.59143262226439,44.57821159378684,34.159483713235225,35.22387011708945,10.68744151771755,30.587558397480908,12.773464873021235,49.25978820729146,21.066482313470058,36.26188242926285,6.995950403769113,7.435849925758337,38.73646912413775,23.175818130728988,18.34706286801629,16.075075097816345,14.937133445479695,28.098570350136853,19.13076264874797,31.270899818866233,27.240994133465968,23.94785249319911,41.54526789015134,10.025243873057143,9.397416955938098,26.098140959145134,36.05258920557371,36.938815747685446,27.85660884931846,0.6914953969918813,16.60514782261403,25.020835288915876,36.56075417500635,4.890234733336518,30.884076263022347,22.632648290857087,28.552403620020588,45.11422969970788,9.572939860542611,49.83946283672194,10.22562473051204,28.221634657134064,9.87227210853267,36.51670244653931,1.6332910730000538,2.320359044397219,24.954443787764124,41.442240815251694,14.164305897912882,38.43862375629727,32.865017835798376,46.30304299192902,25.117423115221825,41.63643948972935,5.495922196121611,41.05450464653065,7.223735024793232,0.3058839063903418,40.68735837665247,47.39305832044485,30.00777626437422,35.38654176863047,18.25954712334985,15.237360047561166,29.027584098780103,47.01351429771686,13.832042483600132,23.060651499343056,38.49696616061906,24.718906259203976,32.65746555427869,16.67665448079531,2.5685790896176783,38.72371310721673,49.37817973056291,32.653620026221965,20.644351549925084,14.085551447897288,8.608551946058812,21.9159108482572,42.48014903646773,6.5087011318149255,5.5520900031067635,16.289785949134856,9.564485236036163,48.476402066549866,25.481890792395625,15.759791147631447,40.27645651015523,17.03144099200159]}];\n",
       " var layout_zXnNLokr4a = {\"height\":550,\"width\":600,\"hovermode\":\"closest\",\"showlegend\":true};\n",
       " var config_zXnNLokr4a = {\"responsive\":false,\"scrollZoom\":false,\"displaylogo\":false};\n",
       " Plotly.newPlot(\"graph_zXnNLokr4a\", traces_zXnNLokr4a, layout_zXnNLokr4a, config_zXnNLokr4a);\n",
       "</script> \n"
      ]
     },
     "metadata": {},
     "output_type": "display_data"
    }
   ],
   "source": [
    "// we can pass in the size of the markers\n",
    "val sizes = List.range(0, 100).map(x => 10)\n",
    "\n",
    "// additional traces can simply be composed with an existing chart and added on\n",
    "val series1 = XY(x, y) asType BAR setName \"Bar\"\n",
    "\n",
    "// lets give the second series a red marker. Again we can 'compose' a marker using smaller components\n",
    "val marker = (\n",
    "    Marker() \n",
    "    // sets the marker shape\n",
    "    setSymbol CIRCLE\n",
    "    // sets the fill to red\n",
    "    setColor \"red\" \n",
    "    // sets the outline to black, with width 2\n",
    "    setLine(width = 2, \"black\")\n",
    "    // set the size of the markers to 10 as per the list we created\n",
    "    setSize(sizes)\n",
    ") \n",
    "\n",
    "val series2 = XY(x, y) asType SCATTER setName \"Scatter\" drawStyle MARKERS setMarker marker\n",
    "\n",
    "// we not put brackets in the 'addSeries' function to ensure that addSeries picks up the right series'\n",
    "val chart = Chart() addSeries(series1, series2) setConfig(false, false)\n",
    "\n",
    "chart.plotInline"
   ]
  },
  {
   "cell_type": "markdown",
   "metadata": {},
   "source": [
    "### Adding Another Axes\n",
    "\n",
    "Sometimes we may wish to plot multiple series on one chart, but using two different Axes. This may be because the values of the two series are very different, yet we want to compare them on the same plot. We can do this as follows:"
   ]
  },
  {
   "cell_type": "code",
   "execution_count": 13,
   "metadata": {},
   "outputs": [
    {
     "data": {
      "text/html": [
       "<div id=\"grid-container_tLJz0O797H\" class=\"grid-container\" align=\"center\"> \n",
       "<div id=\"grid_tLJz0O797H\" class=\"grid\" align=\"center\"> \n",
       "<div id=\"graph_wRVoun0EDp\" class=\"graph\"></div> \n",
       "</div> \n",
       "</div> \n",
       "<script>\n",
       "var masonry = new Macy({\n",
       "    container: '#grid_tLJz0O797H',\n",
       "    debug: true,\n",
       "    mobileFirst: true,\n",
       "    columns: 1,\n",
       "    margin: {\n",
       "        x: 0,\n",
       "        y: 0\n",
       "    }\n",
       "  });\n",
       "\n",
       "  var traces_wRVoun0EDp = [{\"name\":\"Series 3 using Y axis 1\",\"type\":\"scatter\",\"mode\":\"markers\",\"x\":[39.99781962140005,27.23407912078609,27.129407721130093,33.90944018794247,1.1727190172739155,33.93671802415194,31.506053908210944,0.12626873646711667,43.77963199029265,47.38781370796964,23.519228183779983,1.9456240094012867,4.991249060442571,15.73948999972385,41.072689182011615,7.251488849990051,33.848610073271004,14.633666022757069,8.06249212133483,0.1727690613465338,33.740089707218274,25.57497527328708,45.07069870716604,1.7021979333906312,8.64267616167807,40.81415079668137,30.480472417407782,13.29558693885488,2.01256779578331,28.6606645066042,5.5138356505006145,14.367270675364063,19.018749714314513,7.840622563948391,34.90625897311561,31.95109256760049,19.932357556185405,2.0257220360101247,23.45765114177031,20.962278911558375,14.916272641397482,25.981334914885508,47.53720380834936,46.47410544099089,28.20353905556615,42.91652484918696,39.769920579002,45.21423488862125,32.709819394782414,28.566112022095876,14.595594924513783,12.089135327380912,34.49427359750564,31.294613363305146,42.16632471971396,8.961017805210714,10.164852481430081,29.08421254422537,18.136618474696903,27.13022514825738,19.318162001004158,3.65361185082837,37.30046009826605,2.0170266216720965,28.410695379236433,29.15194831712028,9.74267269878561,28.390311248564537,42.0773436752477,7.881676545544453,9.197224438595558,7.156633608786716,42.844778629330015,28.32660701737334,14.643096522249843,20.201662211662885,40.431402043148985,21.396046783983902,47.818653465238384,28.06700062627533,27.382222515786886,49.243261697132866,21.29838260910487,16.3489605379109,28.65614354303661,27.276242686156166,44.051269310522756,30.62181136730707,18.96481396951292,4.051012277353272,33.98791876879359,36.41658349648475,13.1562937822712,5.622496279165334,9.903991961390036,20.32750055867732,11.743458616107844,40.62522960490368,28.44034054601447,10.671654547477116],\"y\":[5.796204521722265,9.865948019235226,45.20569070753626,41.293518079215126,12.848140645015855,19.53236168934504,13.045546716346696,10.084429466999994,28.21260426154291,10.257203438815415,34.59143262226439,44.57821159378684,34.159483713235225,35.22387011708945,10.68744151771755,30.587558397480908,12.773464873021235,49.25978820729146,21.066482313470058,36.26188242926285,6.995950403769113,7.435849925758337,38.73646912413775,23.175818130728988,18.34706286801629,16.075075097816345,14.937133445479695,28.098570350136853,19.13076264874797,31.270899818866233,27.240994133465968,23.94785249319911,41.54526789015134,10.025243873057143,9.397416955938098,26.098140959145134,36.05258920557371,36.938815747685446,27.85660884931846,0.6914953969918813,16.60514782261403,25.020835288915876,36.56075417500635,4.890234733336518,30.884076263022347,22.632648290857087,28.552403620020588,45.11422969970788,9.572939860542611,49.83946283672194,10.22562473051204,28.221634657134064,9.87227210853267,36.51670244653931,1.6332910730000538,2.320359044397219,24.954443787764124,41.442240815251694,14.164305897912882,38.43862375629727,32.865017835798376,46.30304299192902,25.117423115221825,41.63643948972935,5.495922196121611,41.05450464653065,7.223735024793232,0.3058839063903418,40.68735837665247,47.39305832044485,30.00777626437422,35.38654176863047,18.25954712334985,15.237360047561166,29.027584098780103,47.01351429771686,13.832042483600132,23.060651499343056,38.49696616061906,24.718906259203976,32.65746555427869,16.67665448079531,2.5685790896176783,38.72371310721673,49.37817973056291,32.653620026221965,20.644351549925084,14.085551447897288,8.608551946058812,21.9159108482572,42.48014903646773,6.5087011318149255,5.5520900031067635,16.289785949134856,9.564485236036163,48.476402066549866,25.481890792395625,15.759791147631447,40.27645651015523,17.03144099200159]},{\"name\":\"Series 2 using Y axis 2\",\"type\":\"scatter\",\"mode\":\"markers\",\"yaxis\":\"y2\",\"x\":[39.99781962140005,27.23407912078609,27.129407721130093,33.90944018794247,1.1727190172739155,33.93671802415194,31.506053908210944,0.12626873646711667,43.77963199029265,47.38781370796964,23.519228183779983,1.9456240094012867,4.991249060442571,15.73948999972385,41.072689182011615,7.251488849990051,33.848610073271004,14.633666022757069,8.06249212133483,0.1727690613465338,33.740089707218274,25.57497527328708,45.07069870716604,1.7021979333906312,8.64267616167807,40.81415079668137,30.480472417407782,13.29558693885488,2.01256779578331,28.6606645066042,5.5138356505006145,14.367270675364063,19.018749714314513,7.840622563948391,34.90625897311561,31.95109256760049,19.932357556185405,2.0257220360101247,23.45765114177031,20.962278911558375,14.916272641397482,25.981334914885508,47.53720380834936,46.47410544099089,28.20353905556615,42.91652484918696,39.769920579002,45.21423488862125,32.709819394782414,28.566112022095876,14.595594924513783,12.089135327380912,34.49427359750564,31.294613363305146,42.16632471971396,8.961017805210714,10.164852481430081,29.08421254422537,18.136618474696903,27.13022514825738,19.318162001004158,3.65361185082837,37.30046009826605,2.0170266216720965,28.410695379236433,29.15194831712028,9.74267269878561,28.390311248564537,42.0773436752477,7.881676545544453,9.197224438595558,7.156633608786716,42.844778629330015,28.32660701737334,14.643096522249843,20.201662211662885,40.431402043148985,21.396046783983902,47.818653465238384,28.06700062627533,27.382222515786886,49.243261697132866,21.29838260910487,16.3489605379109,28.65614354303661,27.276242686156166,44.051269310522756,30.62181136730707,18.96481396951292,4.051012277353272,33.98791876879359,36.41658349648475,13.1562937822712,5.622496279165334,9.903991961390036,20.32750055867732,11.743458616107844,40.62522960490368,28.44034054601447,10.671654547477116],\"y\":[25.84445117114892,17.02444341670247,27.66599129107417,40.00948613488596,44.99108383704725,4.574664700421644,10.34987244221398,5.8207191117330135,17.097762906551615,33.96567451960327,38.97990553273134,22.97878832424135,13.70340520753367,3.2128222209345356,43.01496445931594,39.492140730672034,18.478223025371886,32.31410905800002,5.116572341626058,28.961295090513765,23.327905412306617,2.7869144340131156,23.38804867642291,29.7666308593602,10.746065237085045,48.80368840950692,34.8901292388415,36.08481489430682,9.446491570146453,39.02117774442893,37.39138712576039,34.63795455296635,27.73840885948029,43.51998119257837,30.149662238937264,9.058119014540832,31.852078482042227,43.405997726179656,48.67106773643631,44.5408751187071,44.47871594767487,11.572638839600918,42.8560935733048,9.064985155913558,42.15784871766299,21.88237777747959,42.71765313962354,13.871467730403097,28.82687249580338,30.598530206401836,20.943853879247275,15.12368302349042,6.841694347463806,18.282890159250226,46.978647507587084,10.711174655241019,6.084009648925459,32.57213178405581,33.00640380241608,11.013483692278308,16.38990345197945,32.25564360781501,48.25184646732006,20.10615868175327,48.466073760598746,0.8997264232775082,24.344680577313326,4.369749453927158,23.704157706355872,23.897857778121278,41.14863382570155,48.75351375946618,13.860251920434496,6.27398601969415,19.417513299337948,7.049160263909942,17.435882192459612,49.82558727636136,3.916288284295355,41.44590024257052,20.77828376629575,7.26548324717648,48.23308282561375,18.366645019725496,48.4120439114665,37.90617175474165,10.408359782883203,32.126167845884495,8.920745716358574,4.127713375457559,36.720479331302776,15.30558608693271,39.81643605145073,20.379959670149038,49.4921790223807,14.90352364717924,47.26635370938652,46.79217312186295,13.620436811403614,16.3028395990574]}];\n",
       " var layout_wRVoun0EDp = {\"height\":550,\"width\":600,\"hovermode\":\"closest\",\"title\":{\"text\":\"Using Multiple Axes\"},\"showlegend\":true,\"yaxis2\":{\"title\":{\"text\":\"Second y axis\"},\"showgrid\":true,\"zeroline\":false,\"showline\":false,\"side\":\"right\",\"overlaying\":\"y\"},\"yaxis\":{\"title\":{\"text\":\"First Y Axis\"},\"showgrid\":true,\"zeroline\":false,\"showline\":false},\"xaxis\":{\"title\":{\"text\":\"X Axis\"},\"showgrid\":true,\"zeroline\":false,\"showline\":false}};\n",
       " var config_wRVoun0EDp = {\"responsive\":false,\"scrollZoom\":false,\"displaylogo\":false};\n",
       " Plotly.newPlot(\"graph_wRVoun0EDp\", traces_wRVoun0EDp, layout_wRVoun0EDp, config_wRVoun0EDp);\n",
       "</script> \n"
      ]
     },
     "metadata": {},
     "output_type": "display_data"
    }
   ],
   "source": [
    "val series1 = XY(x, y) asType SCATTER drawStyle MARKERS\n",
    "\n",
    "// The following maps the series onto the second Y axis.\n",
    "val series2 = (\n",
    "    XY(x, z) \n",
    "    asType SCATTER \n",
    "    drawStyle MARKERS \n",
    "    setAxis Axis(Y, 2)\n",
    "    setName(\"Series 2 using Y axis 2\")\n",
    ")\n",
    "\n",
    "val series3 = series1.copy() setName(\"Series 3 using Y axis 1\")\n",
    "      \n",
    "val chart = (\n",
    "    Chart() \n",
    "    setTitle \"Using Multiple Axes\"\n",
    "    // the following makes the chart unresponsive\n",
    "    setConfig(false, false) \n",
    "    addSeries(series3, series2) \n",
    "    // the following tells the chart how to render the second Y Axis\n",
    "    addAxes Axis(Y, position = 2, title = \"Second y axis\", overlaying = Axis(Y), side = RIGHT_SIDE)\n",
    "    addAxes Axis(Y, 1, \"First Y Axis\")\n",
    "    addAxes Axis(X, title = \"X Axis\")\n",
    ") \n",
    "\n",
    "// this is just for illustration purposes, but we can also do the following\n",
    "val canvas = Canvas() setChart(0, 0, chart)\n",
    "\n",
    "canvas.plotInline"
   ]
  },
  {
   "cell_type": "markdown",
   "metadata": {},
   "source": [
    "### Customizing the Axes\n",
    "\n",
    "As can be seen from some of the examples above, if you do a simple chart you can use the standard axis (X and Y) and costumise them in the chart object. But for more complex layout,  we may would want to create new axis and name them.\n",
    "\n",
    "We can do this as follows:"
   ]
  },
  {
   "cell_type": "code",
   "execution_count": 14,
   "metadata": {},
   "outputs": [
    {
     "data": {
      "text/html": [
       "<div id=\"grid-container_rgdjYU9Vfx\" class=\"grid-container\" align=\"center\"> \n",
       "<div id=\"grid_rgdjYU9Vfx\" class=\"grid\" align=\"center\"> \n",
       "<div id=\"graph_ZkVBN3oalI\" class=\"graph\"></div> \n",
       "</div> \n",
       "</div> \n",
       "<script>\n",
       "var masonry = new Macy({\n",
       "    container: '#grid_rgdjYU9Vfx',\n",
       "    debug: true,\n",
       "    mobileFirst: true,\n",
       "    columns: 1,\n",
       "    margin: {\n",
       "        x: 0,\n",
       "        y: 0\n",
       "    }\n",
       "  });\n",
       "\n",
       "  var traces_ZkVBN3oalI = [{\"name\":\"Data\",\"type\":\"scatter\",\"mode\":\"markers\",\"x\":[39.99781962140005,27.23407912078609,27.129407721130093,33.90944018794247,1.1727190172739155,33.93671802415194,31.506053908210944,0.12626873646711667,43.77963199029265,47.38781370796964,23.519228183779983,1.9456240094012867,4.991249060442571,15.73948999972385,41.072689182011615,7.251488849990051,33.848610073271004,14.633666022757069,8.06249212133483,0.1727690613465338,33.740089707218274,25.57497527328708,45.07069870716604,1.7021979333906312,8.64267616167807,40.81415079668137,30.480472417407782,13.29558693885488,2.01256779578331,28.6606645066042,5.5138356505006145,14.367270675364063,19.018749714314513,7.840622563948391,34.90625897311561,31.95109256760049,19.932357556185405,2.0257220360101247,23.45765114177031,20.962278911558375,14.916272641397482,25.981334914885508,47.53720380834936,46.47410544099089,28.20353905556615,42.91652484918696,39.769920579002,45.21423488862125,32.709819394782414,28.566112022095876,14.595594924513783,12.089135327380912,34.49427359750564,31.294613363305146,42.16632471971396,8.961017805210714,10.164852481430081,29.08421254422537,18.136618474696903,27.13022514825738,19.318162001004158,3.65361185082837,37.30046009826605,2.0170266216720965,28.410695379236433,29.15194831712028,9.74267269878561,28.390311248564537,42.0773436752477,7.881676545544453,9.197224438595558,7.156633608786716,42.844778629330015,28.32660701737334,14.643096522249843,20.201662211662885,40.431402043148985,21.396046783983902,47.818653465238384,28.06700062627533,27.382222515786886,49.243261697132866,21.29838260910487,16.3489605379109,28.65614354303661,27.276242686156166,44.051269310522756,30.62181136730707,18.96481396951292,4.051012277353272,33.98791876879359,36.41658349648475,13.1562937822712,5.622496279165334,9.903991961390036,20.32750055867732,11.743458616107844,40.62522960490368,28.44034054601447,10.671654547477116],\"y\":[5.796204521722265,9.865948019235226,45.20569070753626,41.293518079215126,12.848140645015855,19.53236168934504,13.045546716346696,10.084429466999994,28.21260426154291,10.257203438815415,34.59143262226439,44.57821159378684,34.159483713235225,35.22387011708945,10.68744151771755,30.587558397480908,12.773464873021235,49.25978820729146,21.066482313470058,36.26188242926285,6.995950403769113,7.435849925758337,38.73646912413775,23.175818130728988,18.34706286801629,16.075075097816345,14.937133445479695,28.098570350136853,19.13076264874797,31.270899818866233,27.240994133465968,23.94785249319911,41.54526789015134,10.025243873057143,9.397416955938098,26.098140959145134,36.05258920557371,36.938815747685446,27.85660884931846,0.6914953969918813,16.60514782261403,25.020835288915876,36.56075417500635,4.890234733336518,30.884076263022347,22.632648290857087,28.552403620020588,45.11422969970788,9.572939860542611,49.83946283672194,10.22562473051204,28.221634657134064,9.87227210853267,36.51670244653931,1.6332910730000538,2.320359044397219,24.954443787764124,41.442240815251694,14.164305897912882,38.43862375629727,32.865017835798376,46.30304299192902,25.117423115221825,41.63643948972935,5.495922196121611,41.05450464653065,7.223735024793232,0.3058839063903418,40.68735837665247,47.39305832044485,30.00777626437422,35.38654176863047,18.25954712334985,15.237360047561166,29.027584098780103,47.01351429771686,13.832042483600132,23.060651499343056,38.49696616061906,24.718906259203976,32.65746555427869,16.67665448079531,2.5685790896176783,38.72371310721673,49.37817973056291,32.653620026221965,20.644351549925084,14.085551447897288,8.608551946058812,21.9159108482572,42.48014903646773,6.5087011318149255,5.5520900031067635,16.289785949134856,9.564485236036163,48.476402066549866,25.481890792395625,15.759791147631447,40.27645651015523,17.03144099200159]}];\n",
       " var layout_ZkVBN3oalI = {\"height\":550,\"width\":600,\"hovermode\":\"closest\",\"title\":{\"text\":\"Chart with Axes\"},\"showlegend\":true,\"xaxis\":{\"title\":{\"text\":\"x variable\"},\"showgrid\":true,\"zeroline\":false,\"showline\":false},\"yaxis\":{\"title\":{\"text\":\"y variable\"},\"showgrid\":true,\"zeroline\":false,\"showline\":false}};\n",
       " var config_ZkVBN3oalI = {\"responsive\":true,\"scrollZoom\":true,\"displaylogo\":false};\n",
       " Plotly.newPlot(\"graph_ZkVBN3oalI\", traces_ZkVBN3oalI, layout_ZkVBN3oalI, config_ZkVBN3oalI);\n",
       "</script> \n"
      ]
     },
     "metadata": {},
     "output_type": "display_data"
    }
   ],
   "source": [
    "// We construct the axes and set their title\n",
    "val xaxis = Axis(X, title = \"x variable\")\n",
    "val yaxis = Axis(Y, title = \"y variable\")\n",
    "\n",
    "// another way to do composition is to just add a bracket around the composition\n",
    "val chart = (\n",
    "    Chart()\n",
    "    setTitle \"Chart with Axes\"\n",
    "    addSeries(series1 setName(\"Data\"))\n",
    "    addAxes(xaxis, yaxis)\n",
    ")\n",
    "\n",
    "chart.plotInline"
   ]
  },
  {
   "cell_type": "markdown",
   "metadata": {},
   "source": [
    "### Quickly Configuring The Axes\n",
    "\n",
    "Picta comes with a range of utility functions to make configuring the primary axes quick and easy"
   ]
  },
  {
   "cell_type": "code",
   "execution_count": 15,
   "metadata": {},
   "outputs": [],
   "source": [
    "// Let's create 100 randome data points\n",
    "val x = List.range(0, 100).map(x => x * scala.util.Random.nextDouble())\n",
    "val y = List.range(0, 100).map(x => x * scala.util.Random.nextDouble())"
   ]
  },
  {
   "cell_type": "markdown",
   "metadata": {},
   "source": [
    "#### Adjusting Axes Limits"
   ]
  },
  {
   "cell_type": "code",
   "execution_count": 16,
   "metadata": {},
   "outputs": [
    {
     "data": {
      "text/html": [
       "<div id=\"grid-container_WSd2WlboKa\" class=\"grid-container\" align=\"center\"> \n",
       "<div id=\"grid_WSd2WlboKa\" class=\"grid\" align=\"center\"> \n",
       "<div id=\"graph_tsMzqVeAc5\" class=\"graph\"></div> \n",
       "</div> \n",
       "</div> \n",
       "<script>\n",
       "var masonry = new Macy({\n",
       "    container: '#grid_WSd2WlboKa',\n",
       "    debug: true,\n",
       "    mobileFirst: true,\n",
       "    columns: 1,\n",
       "    margin: {\n",
       "        x: 0,\n",
       "        y: 0\n",
       "    }\n",
       "  });\n",
       "\n",
       "  var traces_tsMzqVeAc5 = [{\"name\":\"Data for Axis Limit example\",\"type\":\"scatter\",\"mode\":\"markers\",\"x\":[0,0.8340775893626405,1.221529962401379,0.8022091447000488,1.894702977367953,4.950921575345884,2.183378487305938,6.858181505857854,0.9017328455742168,8.410609651070994,2.5631238963084133,1.3618897978637827,5.897692379963921,2.7838462391734797,6.691767584249168,5.692146602066162,7.393157642038068,9.775900614267762,10.406207062277925,14.731054429718064,13.738448308788747,2.473905290815193,6.5085853385301915,19.133162822127183,8.992656429243361,2.309073288894567,18.313156499734234,6.8759565477530575,2.113774632270947,14.05221449030497,2.141641313204529,14.889061026013444,0.9686018435329764,21.037872852988855,29.744255239381243,23.555623080620535,33.61518702117814,33.240136165698985,13.478091697350168,8.551216788258388,29.627971578743786,28.051699595951856,34.91729971743984,16.083269488213162,14.166442976613617,18.897056129324394,35.65057244234747,22.367455096443557,17.28206709634306,25.390750135987552,13.590777277371114,3.3766943425825144,44.865479796866836,49.88251836403487,5.4291930977336955,17.773435394486345,3.9064405117263385,52.162755501676635,6.162704213601085,26.7366350632059,19.622839836268355,3.0841764098410858,58.15648935789937,4.371459587119012,45.762097496817795,30.138761827976612,33.227207789590466,8.792029013691627,56.23868522660294,33.863021536124414,47.992411048309805,51.045684305364084,8.495088686718233,17.579425948456656,71.48095105176715,58.051160406636505,50.81048177930998,41.667359489504314,46.98644963474243,74.90269657478467,3.4815629514218926,64.54329492457346,75.62148139062161,72.49765759361237,13.613451445057091,77.06700751057191,9.24398781802776,42.72640927157327,65.43538319627588,58.42852157292089,51.629601066985884,50.670288493847984,86.84586590380923,87.95915411387766,63.203959822928674,7.636266085440376,24.545387506990096,76.99949847210705,96.57784395540358,24.665546112016035],\"y\":[0,0.31878589970140836,1.8391159799917263,1.0088645365931803,3.52536109279641,3.935707659817271,3.9541782012169167,1.4066702087304108,5.623695621411103,3.5005241825094866,7.907870640287119,2.7503693222744077,6.244499467236247,7.95569259337462,1.039416626159912,2.254580261674098,6.0938995285044975,16.296170974717434,16.170098509403527,2.9421240064233953,15.733894783854382,5.840749648919192,20.690616074800694,14.6998736705916,6.585995891534165,4.2959636893877775,10.982168519903812,8.903743755008078,2.280678601194176,22.28874842421285,4.315805009705514,23.346109917242774,12.041143503174865,21.9834537375862,5.709546208772438,22.070030298414334,1.7752144889445711,36.514054393390175,23.92102043508161,11.886547477773766,39.5228568090915,12.503427975581243,27.064889958151653,34.07395085085076,4.118693295417347,30.15835515572326,32.519135485563496,34.28138573504213,1.6291101323815589,3.5714745648427746,14.072356722099583,15.233348595893956,45.56199575172541,25.179803765672457,27.91562938415918,11.70665736907999,16.27394149107652,55.073538348982865,8.347073967160695,56.67723288122366,58.66476344952972,42.26882116382633,40.18525898750318,51.76061724160383,21.402498347558634,62.40380680611752,50.128746725062214,40.347471099157715,9.81367888229598,20.838897530412883,9.903591341454312,46.413453003359386,18.453523958864402,28.089250983080024,68.2583692034681,37.11174006688993,60.48888361384574,24.140718204609076,28.947379226708744,22.18618616448104,35.633205603939956,23.74919260011216,48.03699437824831,36.223561371534736,60.71751601929343,52.547985030449624,46.42772906663314,0.04455821986680397,87.31440705711631,57.938193897095054,18.655542151812902,56.36528288972415,13.403350538924254,73.56323838777357,73.07002496031888,63.49379645306522,49.12517693800966,41.92065741379311,15.634593205228068,67.50981014484]}];\n",
       " var layout_tsMzqVeAc5 = {\"height\":550,\"width\":600,\"hovermode\":\"closest\",\"title\":{\"text\":\"Axis.SetAxisRange\"},\"showlegend\":true,\"yaxis\":{\"title\":{\"text\":\"y axis\"},\"showgrid\":true,\"zeroline\":false,\"showline\":false,\"range\":[100,-100]},\"xaxis\":{\"title\":{\"text\":\"x axis\"},\"showgrid\":true,\"zeroline\":false,\"showline\":false,\"range\":[-100,100]}};\n",
       " var config_tsMzqVeAc5 = {\"responsive\":true,\"scrollZoom\":true,\"displaylogo\":false};\n",
       " Plotly.newPlot(\"graph_tsMzqVeAc5\", traces_tsMzqVeAc5, layout_tsMzqVeAc5, config_tsMzqVeAc5);\n",
       "</script> \n"
      ]
     },
     "metadata": {},
     "output_type": "display_data"
    }
   ],
   "source": [
    "val series = (\n",
    "    XY(x, y)\n",
    "    asType SCATTER\n",
    "    drawStyle MARKERS\n",
    ")\n",
    "\n",
    "val chart = (\n",
    "      Chart()\n",
    "    addSeries series.setName(\"Data for Axis Limit example\")\n",
    "    setTitle \"Axis.SetAxisRange\"\n",
    "    addAxes yaxis\n",
    "    setXAxisLimits(-100, 100) // Here we set the axis limit from -100 to 100\n",
    "    setYAxisLimits(100, -100) // Here, by using the minimum as 100 and the maximum as -100, we automatically reverse the axis\n",
    "    setXAxisTitle(\"x axis\")\n",
    "    setYAxisTitle(\"y axis\")\n",
    ")\n",
    "\n",
    "chart.plotInline"
   ]
  },
  {
   "cell_type": "markdown",
   "metadata": {},
   "source": [
    "#### Adjusting Axis Ticks"
   ]
  },
  {
   "cell_type": "code",
   "execution_count": 17,
   "metadata": {
    "scrolled": false
   },
   "outputs": [
    {
     "data": {
      "text/html": [
       "<div id=\"grid-container_T28debr6AS\" class=\"grid-container\" align=\"center\"> \n",
       "<div id=\"grid_T28debr6AS\" class=\"grid\" align=\"center\"> \n",
       "<div id=\"graph_L5kIUnZCCh\" class=\"graph\"></div> \n",
       "</div> \n",
       "</div> \n",
       "<script>\n",
       "var masonry = new Macy({\n",
       "    container: '#grid_T28debr6AS',\n",
       "    debug: true,\n",
       "    mobileFirst: true,\n",
       "    columns: 1,\n",
       "    margin: {\n",
       "        x: 0,\n",
       "        y: 0\n",
       "    }\n",
       "  });\n",
       "\n",
       "  var traces_L5kIUnZCCh = [{\"name\":\"uprBL06p7Z\",\"type\":\"scatter\",\"mode\":\"markers\",\"x\":[0,0.8340775893626405,1.221529962401379,0.8022091447000488,1.894702977367953,4.950921575345884,2.183378487305938,6.858181505857854,0.9017328455742168,8.410609651070994,2.5631238963084133,1.3618897978637827,5.897692379963921,2.7838462391734797,6.691767584249168,5.692146602066162,7.393157642038068,9.775900614267762,10.406207062277925,14.731054429718064,13.738448308788747,2.473905290815193,6.5085853385301915,19.133162822127183,8.992656429243361,2.309073288894567,18.313156499734234,6.8759565477530575,2.113774632270947,14.05221449030497,2.141641313204529,14.889061026013444,0.9686018435329764,21.037872852988855,29.744255239381243,23.555623080620535,33.61518702117814,33.240136165698985,13.478091697350168,8.551216788258388,29.627971578743786,28.051699595951856,34.91729971743984,16.083269488213162,14.166442976613617,18.897056129324394,35.65057244234747,22.367455096443557,17.28206709634306,25.390750135987552,13.590777277371114,3.3766943425825144,44.865479796866836,49.88251836403487,5.4291930977336955,17.773435394486345,3.9064405117263385,52.162755501676635,6.162704213601085,26.7366350632059,19.622839836268355,3.0841764098410858,58.15648935789937,4.371459587119012,45.762097496817795,30.138761827976612,33.227207789590466,8.792029013691627,56.23868522660294,33.863021536124414,47.992411048309805,51.045684305364084,8.495088686718233,17.579425948456656,71.48095105176715,58.051160406636505,50.81048177930998,41.667359489504314,46.98644963474243,74.90269657478467,3.4815629514218926,64.54329492457346,75.62148139062161,72.49765759361237,13.613451445057091,77.06700751057191,9.24398781802776,42.72640927157327,65.43538319627588,58.42852157292089,51.629601066985884,50.670288493847984,86.84586590380923,87.95915411387766,63.203959822928674,7.636266085440376,24.545387506990096,76.99949847210705,96.57784395540358,24.665546112016035],\"y\":[0,0.31878589970140836,1.8391159799917263,1.0088645365931803,3.52536109279641,3.935707659817271,3.9541782012169167,1.4066702087304108,5.623695621411103,3.5005241825094866,7.907870640287119,2.7503693222744077,6.244499467236247,7.95569259337462,1.039416626159912,2.254580261674098,6.0938995285044975,16.296170974717434,16.170098509403527,2.9421240064233953,15.733894783854382,5.840749648919192,20.690616074800694,14.6998736705916,6.585995891534165,4.2959636893877775,10.982168519903812,8.903743755008078,2.280678601194176,22.28874842421285,4.315805009705514,23.346109917242774,12.041143503174865,21.9834537375862,5.709546208772438,22.070030298414334,1.7752144889445711,36.514054393390175,23.92102043508161,11.886547477773766,39.5228568090915,12.503427975581243,27.064889958151653,34.07395085085076,4.118693295417347,30.15835515572326,32.519135485563496,34.28138573504213,1.6291101323815589,3.5714745648427746,14.072356722099583,15.233348595893956,45.56199575172541,25.179803765672457,27.91562938415918,11.70665736907999,16.27394149107652,55.073538348982865,8.347073967160695,56.67723288122366,58.66476344952972,42.26882116382633,40.18525898750318,51.76061724160383,21.402498347558634,62.40380680611752,50.128746725062214,40.347471099157715,9.81367888229598,20.838897530412883,9.903591341454312,46.413453003359386,18.453523958864402,28.089250983080024,68.2583692034681,37.11174006688993,60.48888361384574,24.140718204609076,28.947379226708744,22.18618616448104,35.633205603939956,23.74919260011216,48.03699437824831,36.223561371534736,60.71751601929343,52.547985030449624,46.42772906663314,0.04455821986680397,87.31440705711631,57.938193897095054,18.655542151812902,56.36528288972415,13.403350538924254,73.56323838777357,73.07002496031888,63.49379645306522,49.12517693800966,41.92065741379311,15.634593205228068,67.50981014484]}];\n",
       " var layout_L5kIUnZCCh = {\"height\":550,\"width\":600,\"hovermode\":\"closest\",\"title\":{\"text\":\"Set Axis Ticks\"},\"showlegend\":true,\"yaxis\":{\"title\":{\"text\":\"y variable\"},\"showgrid\":true,\"zeroline\":false,\"showline\":false,\"range\":[-100,100]},\"xaxis\":{\"title\":{\"text\":\"my new x axis\"},\"showgrid\":true,\"zeroline\":false,\"showline\":false,\"range\":[0,100],\"tick0\":5,\"dtick\":15}};\n",
       " var config_L5kIUnZCCh = {\"responsive\":true,\"scrollZoom\":true,\"displaylogo\":false};\n",
       " Plotly.newPlot(\"graph_L5kIUnZCCh\", traces_L5kIUnZCCh, layout_L5kIUnZCCh, config_L5kIUnZCCh);\n",
       "</script> \n"
      ]
     },
     "metadata": {},
     "output_type": "display_data"
    }
   ],
   "source": [
    "val series = (\n",
    "    XY(x, y)\n",
    "    asType SCATTER\n",
    "    drawStyle MARKERS\n",
    ")\n",
    "\n",
    "val chart = (\n",
    "    Chart()\n",
    "    addSeries series\n",
    "    setTitle \"Set Axis Ticks\"\n",
    "    addAxes yaxis\n",
    "    setXAxisLimits(0, 100)\n",
    "    setYAxisLimits(-100, 100)\n",
    "    setXAxisTitle(\"my new x axis\")\n",
    "    setXAxisStartTick 5\n",
    "    setXAxisTickGap 15\n",
    ")\n",
    "\n",
    "chart.plotInline"
   ]
  },
  {
   "cell_type": "markdown",
   "metadata": {},
   "source": [
    "### Setting Logarithmic Axes"
   ]
  },
  {
   "cell_type": "code",
   "execution_count": 18,
   "metadata": {},
   "outputs": [
    {
     "data": {
      "text/html": [
       "<div id=\"grid-container_EGoMd7ocNM\" class=\"grid-container\" align=\"center\"> \n",
       "<div id=\"grid_EGoMd7ocNM\" class=\"grid\" align=\"center\"> \n",
       "<div id=\"graph_DcEm4HIA5j\" class=\"graph\"></div> \n",
       "</div> \n",
       "</div> \n",
       "<script>\n",
       "var masonry = new Macy({\n",
       "    container: '#grid_EGoMd7ocNM',\n",
       "    debug: true,\n",
       "    mobileFirst: true,\n",
       "    columns: 1,\n",
       "    margin: {\n",
       "        x: 0,\n",
       "        y: 0\n",
       "    }\n",
       "  });\n",
       "\n",
       "  var traces_DcEm4HIA5j = [{\"name\":\"dMDhvOvi5f\",\"type\":\"scatter\",\"mode\":\"markers\",\"x\":[1,2,3],\"y\":[1.234,5.2112,2.44332]}];\n",
       " var layout_DcEm4HIA5j = {\"height\":550,\"width\":600,\"hovermode\":\"closest\",\"title\":{\"text\":\"Logarithmic Axes\"},\"showlegend\":true,\"yaxis\":{\"title\":{\"text\":\"y variable\"},\"showgrid\":true,\"zeroline\":false,\"showline\":false,\"type\":\"log\"},\"xaxis\":{\"showgrid\":true,\"zeroline\":false,\"showline\":false,\"type\":\"log\"}};\n",
       " var config_DcEm4HIA5j = {\"responsive\":true,\"scrollZoom\":true,\"displaylogo\":false};\n",
       " Plotly.newPlot(\"graph_DcEm4HIA5j\", traces_DcEm4HIA5j, layout_DcEm4HIA5j, config_DcEm4HIA5j);\n",
       "</script> \n"
      ]
     },
     "metadata": {},
     "output_type": "display_data"
    }
   ],
   "source": [
    "val series = (\n",
    "    XY(List(1, 2, 3), List(1.234, 5.2112, 2.44332))\n",
    "    asType SCATTER\n",
    "    drawStyle MARKERS\n",
    ")\n",
    "\n",
    "val chart = (\n",
    "    Chart()\n",
    "    addSeries series\n",
    "    setTitle \"Logarithmic Axes\"\n",
    "    addAxes yaxis\n",
    "    drawXAxisLog true // We set the 'drawXAxisLog' value to 'true' to draw it on a logarithmic scale\n",
    "    drawYAxisLog true\n",
    ")\n",
    "\n",
    "chart.plotInline"
   ]
  },
  {
   "cell_type": "markdown",
   "metadata": {},
   "source": [
    "### Reversing axis\n",
    "We can also reverse the axis by setting the appropriate 'drawXAxisReversed'"
   ]
  },
  {
   "cell_type": "code",
   "execution_count": 19,
   "metadata": {},
   "outputs": [
    {
     "data": {
      "text/html": [
       "<div id=\"grid-container_BATJTsYNkZ\" class=\"grid-container\" align=\"center\"> \n",
       "<div id=\"grid_BATJTsYNkZ\" class=\"grid\" align=\"center\"> \n",
       "<div id=\"graph_smvGetPbKb\" class=\"graph\"></div> \n",
       "</div> \n",
       "</div> \n",
       "<script>\n",
       "var masonry = new Macy({\n",
       "    container: '#grid_BATJTsYNkZ',\n",
       "    debug: true,\n",
       "    mobileFirst: true,\n",
       "    columns: 1,\n",
       "    margin: {\n",
       "        x: 0,\n",
       "        y: 0\n",
       "    }\n",
       "  });\n",
       "\n",
       "  var traces_smvGetPbKb = [{\"name\":\"1UlE1KlByh\",\"type\":\"scatter\",\"mode\":\"markers\",\"x\":[0,0.8340775893626405,1.221529962401379,0.8022091447000488,1.894702977367953,4.950921575345884,2.183378487305938,6.858181505857854,0.9017328455742168,8.410609651070994,2.5631238963084133,1.3618897978637827,5.897692379963921,2.7838462391734797,6.691767584249168,5.692146602066162,7.393157642038068,9.775900614267762,10.406207062277925,14.731054429718064,13.738448308788747,2.473905290815193,6.5085853385301915,19.133162822127183,8.992656429243361,2.309073288894567,18.313156499734234,6.8759565477530575,2.113774632270947,14.05221449030497,2.141641313204529,14.889061026013444,0.9686018435329764,21.037872852988855,29.744255239381243,23.555623080620535,33.61518702117814,33.240136165698985,13.478091697350168,8.551216788258388,29.627971578743786,28.051699595951856,34.91729971743984,16.083269488213162,14.166442976613617,18.897056129324394,35.65057244234747,22.367455096443557,17.28206709634306,25.390750135987552,13.590777277371114,3.3766943425825144,44.865479796866836,49.88251836403487,5.4291930977336955,17.773435394486345,3.9064405117263385,52.162755501676635,6.162704213601085,26.7366350632059,19.622839836268355,3.0841764098410858,58.15648935789937,4.371459587119012,45.762097496817795,30.138761827976612,33.227207789590466,8.792029013691627,56.23868522660294,33.863021536124414,47.992411048309805,51.045684305364084,8.495088686718233,17.579425948456656,71.48095105176715,58.051160406636505,50.81048177930998,41.667359489504314,46.98644963474243,74.90269657478467,3.4815629514218926,64.54329492457346,75.62148139062161,72.49765759361237,13.613451445057091,77.06700751057191,9.24398781802776,42.72640927157327,65.43538319627588,58.42852157292089,51.629601066985884,50.670288493847984,86.84586590380923,87.95915411387766,63.203959822928674,7.636266085440376,24.545387506990096,76.99949847210705,96.57784395540358,24.665546112016035],\"y\":[0,0.31878589970140836,1.8391159799917263,1.0088645365931803,3.52536109279641,3.935707659817271,3.9541782012169167,1.4066702087304108,5.623695621411103,3.5005241825094866,7.907870640287119,2.7503693222744077,6.244499467236247,7.95569259337462,1.039416626159912,2.254580261674098,6.0938995285044975,16.296170974717434,16.170098509403527,2.9421240064233953,15.733894783854382,5.840749648919192,20.690616074800694,14.6998736705916,6.585995891534165,4.2959636893877775,10.982168519903812,8.903743755008078,2.280678601194176,22.28874842421285,4.315805009705514,23.346109917242774,12.041143503174865,21.9834537375862,5.709546208772438,22.070030298414334,1.7752144889445711,36.514054393390175,23.92102043508161,11.886547477773766,39.5228568090915,12.503427975581243,27.064889958151653,34.07395085085076,4.118693295417347,30.15835515572326,32.519135485563496,34.28138573504213,1.6291101323815589,3.5714745648427746,14.072356722099583,15.233348595893956,45.56199575172541,25.179803765672457,27.91562938415918,11.70665736907999,16.27394149107652,55.073538348982865,8.347073967160695,56.67723288122366,58.66476344952972,42.26882116382633,40.18525898750318,51.76061724160383,21.402498347558634,62.40380680611752,50.128746725062214,40.347471099157715,9.81367888229598,20.838897530412883,9.903591341454312,46.413453003359386,18.453523958864402,28.089250983080024,68.2583692034681,37.11174006688993,60.48888361384574,24.140718204609076,28.947379226708744,22.18618616448104,35.633205603939956,23.74919260011216,48.03699437824831,36.223561371534736,60.71751601929343,52.547985030449624,46.42772906663314,0.04455821986680397,87.31440705711631,57.938193897095054,18.655542151812902,56.36528288972415,13.403350538924254,73.56323838777357,73.07002496031888,63.49379645306522,49.12517693800966,41.92065741379311,15.634593205228068,67.50981014484]}];\n",
       " var layout_smvGetPbKb = {\"height\":550,\"width\":600,\"hovermode\":\"closest\",\"title\":{\"text\":\"Reversed Axes\"},\"showlegend\":true,\"yaxis\":{\"title\":{\"text\":\"Mah\"},\"showgrid\":true,\"zeroline\":false,\"showline\":false,\"autorange\":\"reversed\"},\"xaxis\":{\"showgrid\":true,\"zeroline\":false,\"showline\":false,\"autorange\":\"reversed\"}};\n",
       " var config_smvGetPbKb = {\"responsive\":true,\"scrollZoom\":true,\"displaylogo\":false};\n",
       " Plotly.newPlot(\"graph_smvGetPbKb\", traces_smvGetPbKb, layout_smvGetPbKb, config_smvGetPbKb);\n",
       "</script> \n"
      ]
     },
     "metadata": {},
     "output_type": "display_data"
    }
   ],
   "source": [
    "val series = (\n",
    "    XY(x, y)\n",
    "    asType SCATTER\n",
    "    drawStyle MARKERS\n",
    ")\n",
    "\n",
    "val chart = (\n",
    "    Chart()\n",
    "    addSeries series\n",
    "    setTitle \"Reversed Axes\"\n",
    "    setYAxisTitle(\"Mah\")\n",
    "    drawXAxisReversed true\n",
    "    drawYAxisReversed true\n",
    ")\n",
    "chart.plotInline"
   ]
  },
  {
   "cell_type": "markdown",
   "metadata": {},
   "source": [
    "### Display options - MultiCharts\n",
    "\n",
    "`MultiCharts` are a way to plot multiple axes on the same chart. This is seperate to Picta's grid system, which create a grid of subplot `Chart`'s. The next series of examples will make this clearer."
   ]
  },
  {
   "cell_type": "code",
   "execution_count": 20,
   "metadata": {},
   "outputs": [
    {
     "data": {
      "text/html": [
       "<div id=\"grid-container_6Wm53GSau5\" class=\"grid-container\" align=\"center\"> \n",
       "<div id=\"grid_6Wm53GSau5\" class=\"grid\" align=\"center\"> \n",
       "<div id=\"graph_WhKNdtrO5k\" class=\"graph\"></div> \n",
       "</div> \n",
       "</div> \n",
       "<script>\n",
       "var masonry = new Macy({\n",
       "    container: '#grid_6Wm53GSau5',\n",
       "    debug: true,\n",
       "    mobileFirst: true,\n",
       "    columns: 1,\n",
       "    margin: {\n",
       "        x: 0,\n",
       "        y: 0\n",
       "    }\n",
       "  });\n",
       "\n",
       "  var traces_WhKNdtrO5k = [{\"name\":\"First series\",\"type\":\"scatter\",\"mode\":\"markers\",\"x\":[1,2,3],\"y\":[2,4,5]},{\"name\":\"Second series\",\"type\":\"scatter\",\"mode\":\"markers\",\"xaxis\":\"x2\",\"yaxis\":\"y2\",\"x\":[0,0.8340775893626405,1.221529962401379,0.8022091447000488,1.894702977367953,4.950921575345884,2.183378487305938,6.858181505857854,0.9017328455742168,8.410609651070994,2.5631238963084133,1.3618897978637827,5.897692379963921,2.7838462391734797,6.691767584249168,5.692146602066162,7.393157642038068,9.775900614267762,10.406207062277925,14.731054429718064,13.738448308788747,2.473905290815193,6.5085853385301915,19.133162822127183,8.992656429243361,2.309073288894567,18.313156499734234,6.8759565477530575,2.113774632270947,14.05221449030497,2.141641313204529,14.889061026013444,0.9686018435329764,21.037872852988855,29.744255239381243,23.555623080620535,33.61518702117814,33.240136165698985,13.478091697350168,8.551216788258388,29.627971578743786,28.051699595951856,34.91729971743984,16.083269488213162,14.166442976613617,18.897056129324394,35.65057244234747,22.367455096443557,17.28206709634306,25.390750135987552,13.590777277371114,3.3766943425825144,44.865479796866836,49.88251836403487,5.4291930977336955,17.773435394486345,3.9064405117263385,52.162755501676635,6.162704213601085,26.7366350632059,19.622839836268355,3.0841764098410858,58.15648935789937,4.371459587119012,45.762097496817795,30.138761827976612,33.227207789590466,8.792029013691627,56.23868522660294,33.863021536124414,47.992411048309805,51.045684305364084,8.495088686718233,17.579425948456656,71.48095105176715,58.051160406636505,50.81048177930998,41.667359489504314,46.98644963474243,74.90269657478467,3.4815629514218926,64.54329492457346,75.62148139062161,72.49765759361237,13.613451445057091,77.06700751057191,9.24398781802776,42.72640927157327,65.43538319627588,58.42852157292089,51.629601066985884,50.670288493847984,86.84586590380923,87.95915411387766,63.203959822928674,7.636266085440376,24.545387506990096,76.99949847210705,96.57784395540358,24.665546112016035],\"y\":[0,0.31878589970140836,1.8391159799917263,1.0088645365931803,3.52536109279641,3.935707659817271,3.9541782012169167,1.4066702087304108,5.623695621411103,3.5005241825094866,7.907870640287119,2.7503693222744077,6.244499467236247,7.95569259337462,1.039416626159912,2.254580261674098,6.0938995285044975,16.296170974717434,16.170098509403527,2.9421240064233953,15.733894783854382,5.840749648919192,20.690616074800694,14.6998736705916,6.585995891534165,4.2959636893877775,10.982168519903812,8.903743755008078,2.280678601194176,22.28874842421285,4.315805009705514,23.346109917242774,12.041143503174865,21.9834537375862,5.709546208772438,22.070030298414334,1.7752144889445711,36.514054393390175,23.92102043508161,11.886547477773766,39.5228568090915,12.503427975581243,27.064889958151653,34.07395085085076,4.118693295417347,30.15835515572326,32.519135485563496,34.28138573504213,1.6291101323815589,3.5714745648427746,14.072356722099583,15.233348595893956,45.56199575172541,25.179803765672457,27.91562938415918,11.70665736907999,16.27394149107652,55.073538348982865,8.347073967160695,56.67723288122366,58.66476344952972,42.26882116382633,40.18525898750318,51.76061724160383,21.402498347558634,62.40380680611752,50.128746725062214,40.347471099157715,9.81367888229598,20.838897530412883,9.903591341454312,46.413453003359386,18.453523958864402,28.089250983080024,68.2583692034681,37.11174006688993,60.48888361384574,24.140718204609076,28.947379226708744,22.18618616448104,35.633205603939956,23.74919260011216,48.03699437824831,36.223561371534736,60.71751601929343,52.547985030449624,46.42772906663314,0.04455821986680397,87.31440705711631,57.938193897095054,18.655542151812902,56.36528288972415,13.403350538924254,73.56323838777357,73.07002496031888,63.49379645306522,49.12517693800966,41.92065741379311,15.634593205228068,67.50981014484]}];\n",
       " var layout_WhKNdtrO5k = {\"height\":550,\"width\":600,\"hovermode\":\"closest\",\"title\":{\"text\":\"Chart.Axis.Composition\"},\"showlegend\":true,\"grid\":{\"rows\":1,\"columns\":2,\"pattern\":\"independent\"},\"xaxis\":{\"showgrid\":true,\"zeroline\":false,\"showline\":false},\"xaxis2\":{\"title\":{\"text\":\"x2\"},\"showgrid\":true,\"zeroline\":false,\"showline\":false},\"yaxis2\":{\"showgrid\":true,\"zeroline\":false,\"showline\":false}};\n",
       " var config_WhKNdtrO5k = {\"responsive\":false,\"scrollZoom\":true,\"displaylogo\":false};\n",
       " Plotly.newPlot(\"graph_WhKNdtrO5k\", traces_WhKNdtrO5k, layout_WhKNdtrO5k, config_WhKNdtrO5k);\n",
       "</script> \n"
      ]
     },
     "metadata": {},
     "output_type": "display_data"
    }
   ],
   "source": [
    "// create the axes\n",
    "val xaxis1 = Axis(X) setTitle \"x1\"\n",
    "val yaxis1 = Axis(X) // this is not strictly necessary, but if it is not added there will be a zeroline at y = 0\n",
    "\n",
    "val xaxis2 = Axis(X, 2) setTitle \"x2\"\n",
    "val yaxis2 = Axis(Y, 2) // this is not strictly necessary, but if it is not added there will be a zeroline at y = 0\n",
    "\n",
    "val series1 = (\n",
    "    XY(x = List(1, 2, 3), y = List(2, 4, 5))\n",
    "    asType SCATTER\n",
    "    drawStyle MARKERS\n",
    "    setName(\"First series\") //Here we don't specify the axis, so the standard axis will be used\n",
    ")\n",
    "\n",
    "val series2 = (\n",
    "    XY(x = x, y = y) \n",
    "    asType SCATTER \n",
    "    drawStyle MARKERS \n",
    "    setName(\"Second series\")\n",
    "    setAxes (xaxis2, yaxis2) //Here we specify the axis for this plot, which are the second axis\n",
    ")\n",
    "\n",
    "val chart1 = Chart()\n",
    "            .addSeries(series1, series2)\n",
    "            .setTitle(\"Chart.Axis.Composition\")\n",
    "            .addAxes(xaxis1, yaxis1, xaxis2, yaxis2)\n",
    "            .setConfig(responsive=false)\n",
    "            // This tells Picta that we want to actually subdivide this chart into multiple plots\n",
    "            .asMultiChart(1, 2) //These correspond to the axis values given above\n",
    "\n",
    "chart1.plotInline"
   ]
  },
  {
   "cell_type": "markdown",
   "metadata": {},
   "source": [
    "### Picta's Subplot System\n",
    "\n",
    "While the above is useful, sometimes it is easier to plot independent charts in a subplot grid. This is where we can use the Picta subplot system.\n",
    "\n",
    "In the subplots below, each subplot is an individual `Chart`. This means we can actually embed the above `MultiChart` inside another subplot. This way we can create nested subplots to showcase any data we need to.\n",
    "\n",
    "Used creatively, this subplot system can be very useful for data exploration."
   ]
  },
  {
   "cell_type": "code",
   "execution_count": 21,
   "metadata": {
    "scrolled": false
   },
   "outputs": [
    {
     "data": {
      "text/html": [
       "<div id=\"grid-container_zDhS7nUCqa\" class=\"grid-container\" align=\"center\"> \n",
       "<div id=\"grid_zDhS7nUCqa\" class=\"grid\" align=\"center\"> \n",
       "<div id=\"graph_lR6h72Nnfw\" class=\"graph\"></div> \n",
       "<div id=\"graph_KFpIfsPZbd\" class=\"graph\"></div> \n",
       "<div id=\"graph_RswOpHW9o7\" class=\"graph\"></div> \n",
       "<div id=\"graph_bwWVXCKOMN\" class=\"graph\"></div> \n",
       "</div> \n",
       "</div> \n",
       "\n",
       "<div align=\"center\">\n",
       "<button id = \"saveAsPNG_zDhS7nUCqa\" class=\"picta-button\">Download Canvas as PNG</button>\n",
       "</div>\n",
       "<script>\n",
       "var masonry = new Macy({\n",
       "    container: '#grid_zDhS7nUCqa',\n",
       "    debug: true,\n",
       "    mobileFirst: true,\n",
       "    columns: 2,\n",
       "    margin: {\n",
       "        x: 0,\n",
       "        y: 0\n",
       "    }\n",
       "  });\n",
       "\n",
       "  var traces_lR6h72Nnfw = [{\"name\":\"a\",\"type\":\"scatter\",\"mode\":\"markers\",\"x\":[0,0.8340775893626405,1.221529962401379,0.8022091447000488,1.894702977367953,4.950921575345884,2.183378487305938,6.858181505857854,0.9017328455742168,8.410609651070994,2.5631238963084133,1.3618897978637827,5.897692379963921,2.7838462391734797,6.691767584249168,5.692146602066162,7.393157642038068,9.775900614267762,10.406207062277925,14.731054429718064,13.738448308788747,2.473905290815193,6.5085853385301915,19.133162822127183,8.992656429243361,2.309073288894567,18.313156499734234,6.8759565477530575,2.113774632270947,14.05221449030497,2.141641313204529,14.889061026013444,0.9686018435329764,21.037872852988855,29.744255239381243,23.555623080620535,33.61518702117814,33.240136165698985,13.478091697350168,8.551216788258388,29.627971578743786,28.051699595951856,34.91729971743984,16.083269488213162,14.166442976613617,18.897056129324394,35.65057244234747,22.367455096443557,17.28206709634306,25.390750135987552,13.590777277371114,3.3766943425825144,44.865479796866836,49.88251836403487,5.4291930977336955,17.773435394486345,3.9064405117263385,52.162755501676635,6.162704213601085,26.7366350632059,19.622839836268355,3.0841764098410858,58.15648935789937,4.371459587119012,45.762097496817795,30.138761827976612,33.227207789590466,8.792029013691627,56.23868522660294,33.863021536124414,47.992411048309805,51.045684305364084,8.495088686718233,17.579425948456656,71.48095105176715,58.051160406636505,50.81048177930998,41.667359489504314,46.98644963474243,74.90269657478467,3.4815629514218926,64.54329492457346,75.62148139062161,72.49765759361237,13.613451445057091,77.06700751057191,9.24398781802776,42.72640927157327,65.43538319627588,58.42852157292089,51.629601066985884,50.670288493847984,86.84586590380923,87.95915411387766,63.203959822928674,7.636266085440376,24.545387506990096,76.99949847210705,96.57784395540358,24.665546112016035],\"y\":[0,0.31878589970140836,1.8391159799917263,1.0088645365931803,3.52536109279641,3.935707659817271,3.9541782012169167,1.4066702087304108,5.623695621411103,3.5005241825094866,7.907870640287119,2.7503693222744077,6.244499467236247,7.95569259337462,1.039416626159912,2.254580261674098,6.0938995285044975,16.296170974717434,16.170098509403527,2.9421240064233953,15.733894783854382,5.840749648919192,20.690616074800694,14.6998736705916,6.585995891534165,4.2959636893877775,10.982168519903812,8.903743755008078,2.280678601194176,22.28874842421285,4.315805009705514,23.346109917242774,12.041143503174865,21.9834537375862,5.709546208772438,22.070030298414334,1.7752144889445711,36.514054393390175,23.92102043508161,11.886547477773766,39.5228568090915,12.503427975581243,27.064889958151653,34.07395085085076,4.118693295417347,30.15835515572326,32.519135485563496,34.28138573504213,1.6291101323815589,3.5714745648427746,14.072356722099583,15.233348595893956,45.56199575172541,25.179803765672457,27.91562938415918,11.70665736907999,16.27394149107652,55.073538348982865,8.347073967160695,56.67723288122366,58.66476344952972,42.26882116382633,40.18525898750318,51.76061724160383,21.402498347558634,62.40380680611752,50.128746725062214,40.347471099157715,9.81367888229598,20.838897530412883,9.903591341454312,46.413453003359386,18.453523958864402,28.089250983080024,68.2583692034681,37.11174006688993,60.48888361384574,24.140718204609076,28.947379226708744,22.18618616448104,35.633205603939956,23.74919260011216,48.03699437824831,36.223561371534736,60.71751601929343,52.547985030449624,46.42772906663314,0.04455821986680397,87.31440705711631,57.938193897095054,18.655542151812902,56.36528288972415,13.403350538924254,73.56323838777357,73.07002496031888,63.49379645306522,49.12517693800966,41.92065741379311,15.634593205228068,67.50981014484]}];\n",
       " var layout_lR6h72Nnfw = {\"height\":350,\"width\":350,\"hovermode\":\"closest\",\"showlegend\":true,\"margin\":{\"l\":50,\"r\":30,\"t\":50,\"b\":50},\"xaxis\":{\"title\":{\"text\":\"x axis 1\"},\"showgrid\":true,\"zeroline\":false,\"showline\":false},\"yaxis\":{\"title\":{\"text\":\"y axis 1\"},\"showgrid\":true,\"zeroline\":false,\"showline\":false}};\n",
       " var config_lR6h72Nnfw = {\"responsive\":true,\"scrollZoom\":true,\"displaylogo\":false};\n",
       " Plotly.newPlot(\"graph_lR6h72Nnfw\", traces_lR6h72Nnfw, layout_lR6h72Nnfw, config_lR6h72Nnfw);\n",
       "\n",
       "  var traces_KFpIfsPZbd = [{\"name\":\"b\",\"type\":\"scatter\",\"mode\":\"markers\",\"x\":[0,0.8340775893626405,1.221529962401379,0.8022091447000488,1.894702977367953,4.950921575345884,2.183378487305938,6.858181505857854,0.9017328455742168,8.410609651070994,2.5631238963084133,1.3618897978637827,5.897692379963921,2.7838462391734797,6.691767584249168,5.692146602066162,7.393157642038068,9.775900614267762,10.406207062277925,14.731054429718064,13.738448308788747,2.473905290815193,6.5085853385301915,19.133162822127183,8.992656429243361,2.309073288894567,18.313156499734234,6.8759565477530575,2.113774632270947,14.05221449030497,2.141641313204529,14.889061026013444,0.9686018435329764,21.037872852988855,29.744255239381243,23.555623080620535,33.61518702117814,33.240136165698985,13.478091697350168,8.551216788258388,29.627971578743786,28.051699595951856,34.91729971743984,16.083269488213162,14.166442976613617,18.897056129324394,35.65057244234747,22.367455096443557,17.28206709634306,25.390750135987552,13.590777277371114,3.3766943425825144,44.865479796866836,49.88251836403487,5.4291930977336955,17.773435394486345,3.9064405117263385,52.162755501676635,6.162704213601085,26.7366350632059,19.622839836268355,3.0841764098410858,58.15648935789937,4.371459587119012,45.762097496817795,30.138761827976612,33.227207789590466,8.792029013691627,56.23868522660294,33.863021536124414,47.992411048309805,51.045684305364084,8.495088686718233,17.579425948456656,71.48095105176715,58.051160406636505,50.81048177930998,41.667359489504314,46.98644963474243,74.90269657478467,3.4815629514218926,64.54329492457346,75.62148139062161,72.49765759361237,13.613451445057091,77.06700751057191,9.24398781802776,42.72640927157327,65.43538319627588,58.42852157292089,51.629601066985884,50.670288493847984,86.84586590380923,87.95915411387766,63.203959822928674,7.636266085440376,24.545387506990096,76.99949847210705,96.57784395540358,24.665546112016035],\"y\":[0,0.31878589970140836,1.8391159799917263,1.0088645365931803,3.52536109279641,3.935707659817271,3.9541782012169167,1.4066702087304108,5.623695621411103,3.5005241825094866,7.907870640287119,2.7503693222744077,6.244499467236247,7.95569259337462,1.039416626159912,2.254580261674098,6.0938995285044975,16.296170974717434,16.170098509403527,2.9421240064233953,15.733894783854382,5.840749648919192,20.690616074800694,14.6998736705916,6.585995891534165,4.2959636893877775,10.982168519903812,8.903743755008078,2.280678601194176,22.28874842421285,4.315805009705514,23.346109917242774,12.041143503174865,21.9834537375862,5.709546208772438,22.070030298414334,1.7752144889445711,36.514054393390175,23.92102043508161,11.886547477773766,39.5228568090915,12.503427975581243,27.064889958151653,34.07395085085076,4.118693295417347,30.15835515572326,32.519135485563496,34.28138573504213,1.6291101323815589,3.5714745648427746,14.072356722099583,15.233348595893956,45.56199575172541,25.179803765672457,27.91562938415918,11.70665736907999,16.27394149107652,55.073538348982865,8.347073967160695,56.67723288122366,58.66476344952972,42.26882116382633,40.18525898750318,51.76061724160383,21.402498347558634,62.40380680611752,50.128746725062214,40.347471099157715,9.81367888229598,20.838897530412883,9.903591341454312,46.413453003359386,18.453523958864402,28.089250983080024,68.2583692034681,37.11174006688993,60.48888361384574,24.140718204609076,28.947379226708744,22.18618616448104,35.633205603939956,23.74919260011216,48.03699437824831,36.223561371534736,60.71751601929343,52.547985030449624,46.42772906663314,0.04455821986680397,87.31440705711631,57.938193897095054,18.655542151812902,56.36528288972415,13.403350538924254,73.56323838777357,73.07002496031888,63.49379645306522,49.12517693800966,41.92065741379311,15.634593205228068,67.50981014484]}];\n",
       " var layout_KFpIfsPZbd = {\"height\":350,\"width\":350,\"hovermode\":\"closest\",\"showlegend\":true,\"margin\":{\"l\":50,\"r\":50,\"t\":50,\"b\":50},\"xaxis\":{\"title\":{\"text\":\"x axis 2\"},\"showgrid\":true,\"zeroline\":false,\"showline\":false},\"yaxis\":{\"title\":{\"text\":\"y axis 2\"},\"showgrid\":true,\"zeroline\":false,\"showline\":false}};\n",
       " var config_KFpIfsPZbd = {\"responsive\":true,\"scrollZoom\":true,\"displaylogo\":false};\n",
       " Plotly.newPlot(\"graph_KFpIfsPZbd\", traces_KFpIfsPZbd, layout_KFpIfsPZbd, config_KFpIfsPZbd);\n",
       "\n",
       "  var traces_RswOpHW9o7 = [{\"name\":\"c\",\"type\":\"scatter\",\"mode\":\"markers\",\"x\":[0,0.8340775893626405,1.221529962401379,0.8022091447000488,1.894702977367953,4.950921575345884,2.183378487305938,6.858181505857854,0.9017328455742168,8.410609651070994,2.5631238963084133,1.3618897978637827,5.897692379963921,2.7838462391734797,6.691767584249168,5.692146602066162,7.393157642038068,9.775900614267762,10.406207062277925,14.731054429718064,13.738448308788747,2.473905290815193,6.5085853385301915,19.133162822127183,8.992656429243361,2.309073288894567,18.313156499734234,6.8759565477530575,2.113774632270947,14.05221449030497,2.141641313204529,14.889061026013444,0.9686018435329764,21.037872852988855,29.744255239381243,23.555623080620535,33.61518702117814,33.240136165698985,13.478091697350168,8.551216788258388,29.627971578743786,28.051699595951856,34.91729971743984,16.083269488213162,14.166442976613617,18.897056129324394,35.65057244234747,22.367455096443557,17.28206709634306,25.390750135987552,13.590777277371114,3.3766943425825144,44.865479796866836,49.88251836403487,5.4291930977336955,17.773435394486345,3.9064405117263385,52.162755501676635,6.162704213601085,26.7366350632059,19.622839836268355,3.0841764098410858,58.15648935789937,4.371459587119012,45.762097496817795,30.138761827976612,33.227207789590466,8.792029013691627,56.23868522660294,33.863021536124414,47.992411048309805,51.045684305364084,8.495088686718233,17.579425948456656,71.48095105176715,58.051160406636505,50.81048177930998,41.667359489504314,46.98644963474243,74.90269657478467,3.4815629514218926,64.54329492457346,75.62148139062161,72.49765759361237,13.613451445057091,77.06700751057191,9.24398781802776,42.72640927157327,65.43538319627588,58.42852157292089,51.629601066985884,50.670288493847984,86.84586590380923,87.95915411387766,63.203959822928674,7.636266085440376,24.545387506990096,76.99949847210705,96.57784395540358,24.665546112016035],\"y\":[0,0.31878589970140836,1.8391159799917263,1.0088645365931803,3.52536109279641,3.935707659817271,3.9541782012169167,1.4066702087304108,5.623695621411103,3.5005241825094866,7.907870640287119,2.7503693222744077,6.244499467236247,7.95569259337462,1.039416626159912,2.254580261674098,6.0938995285044975,16.296170974717434,16.170098509403527,2.9421240064233953,15.733894783854382,5.840749648919192,20.690616074800694,14.6998736705916,6.585995891534165,4.2959636893877775,10.982168519903812,8.903743755008078,2.280678601194176,22.28874842421285,4.315805009705514,23.346109917242774,12.041143503174865,21.9834537375862,5.709546208772438,22.070030298414334,1.7752144889445711,36.514054393390175,23.92102043508161,11.886547477773766,39.5228568090915,12.503427975581243,27.064889958151653,34.07395085085076,4.118693295417347,30.15835515572326,32.519135485563496,34.28138573504213,1.6291101323815589,3.5714745648427746,14.072356722099583,15.233348595893956,45.56199575172541,25.179803765672457,27.91562938415918,11.70665736907999,16.27394149107652,55.073538348982865,8.347073967160695,56.67723288122366,58.66476344952972,42.26882116382633,40.18525898750318,51.76061724160383,21.402498347558634,62.40380680611752,50.128746725062214,40.347471099157715,9.81367888229598,20.838897530412883,9.903591341454312,46.413453003359386,18.453523958864402,28.089250983080024,68.2583692034681,37.11174006688993,60.48888361384574,24.140718204609076,28.947379226708744,22.18618616448104,35.633205603939956,23.74919260011216,48.03699437824831,36.223561371534736,60.71751601929343,52.547985030449624,46.42772906663314,0.04455821986680397,87.31440705711631,57.938193897095054,18.655542151812902,56.36528288972415,13.403350538924254,73.56323838777357,73.07002496031888,63.49379645306522,49.12517693800966,41.92065741379311,15.634593205228068,67.50981014484]}];\n",
       " var layout_RswOpHW9o7 = {\"height\":350,\"width\":350,\"hovermode\":\"closest\",\"showlegend\":true,\"margin\":{\"l\":50,\"r\":30,\"t\":50,\"b\":50},\"xaxis\":{\"title\":{\"text\":\"x axis 3\"},\"showgrid\":true,\"zeroline\":false,\"showline\":false},\"yaxis\":{\"title\":{\"text\":\"y axis 3\"},\"showgrid\":true,\"zeroline\":false,\"showline\":false}};\n",
       " var config_RswOpHW9o7 = {\"responsive\":true,\"scrollZoom\":true,\"displaylogo\":false};\n",
       " Plotly.newPlot(\"graph_RswOpHW9o7\", traces_RswOpHW9o7, layout_RswOpHW9o7, config_RswOpHW9o7);\n",
       "\n",
       "  var traces_bwWVXCKOMN = [{\"name\":\"First series\",\"type\":\"scatter\",\"mode\":\"markers\",\"x\":[1,2,3],\"y\":[2,4,5]},{\"name\":\"Second series\",\"type\":\"scatter\",\"mode\":\"markers\",\"xaxis\":\"x2\",\"yaxis\":\"y2\",\"x\":[0,0.8340775893626405,1.221529962401379,0.8022091447000488,1.894702977367953,4.950921575345884,2.183378487305938,6.858181505857854,0.9017328455742168,8.410609651070994,2.5631238963084133,1.3618897978637827,5.897692379963921,2.7838462391734797,6.691767584249168,5.692146602066162,7.393157642038068,9.775900614267762,10.406207062277925,14.731054429718064,13.738448308788747,2.473905290815193,6.5085853385301915,19.133162822127183,8.992656429243361,2.309073288894567,18.313156499734234,6.8759565477530575,2.113774632270947,14.05221449030497,2.141641313204529,14.889061026013444,0.9686018435329764,21.037872852988855,29.744255239381243,23.555623080620535,33.61518702117814,33.240136165698985,13.478091697350168,8.551216788258388,29.627971578743786,28.051699595951856,34.91729971743984,16.083269488213162,14.166442976613617,18.897056129324394,35.65057244234747,22.367455096443557,17.28206709634306,25.390750135987552,13.590777277371114,3.3766943425825144,44.865479796866836,49.88251836403487,5.4291930977336955,17.773435394486345,3.9064405117263385,52.162755501676635,6.162704213601085,26.7366350632059,19.622839836268355,3.0841764098410858,58.15648935789937,4.371459587119012,45.762097496817795,30.138761827976612,33.227207789590466,8.792029013691627,56.23868522660294,33.863021536124414,47.992411048309805,51.045684305364084,8.495088686718233,17.579425948456656,71.48095105176715,58.051160406636505,50.81048177930998,41.667359489504314,46.98644963474243,74.90269657478467,3.4815629514218926,64.54329492457346,75.62148139062161,72.49765759361237,13.613451445057091,77.06700751057191,9.24398781802776,42.72640927157327,65.43538319627588,58.42852157292089,51.629601066985884,50.670288493847984,86.84586590380923,87.95915411387766,63.203959822928674,7.636266085440376,24.545387506990096,76.99949847210705,96.57784395540358,24.665546112016035],\"y\":[0,0.31878589970140836,1.8391159799917263,1.0088645365931803,3.52536109279641,3.935707659817271,3.9541782012169167,1.4066702087304108,5.623695621411103,3.5005241825094866,7.907870640287119,2.7503693222744077,6.244499467236247,7.95569259337462,1.039416626159912,2.254580261674098,6.0938995285044975,16.296170974717434,16.170098509403527,2.9421240064233953,15.733894783854382,5.840749648919192,20.690616074800694,14.6998736705916,6.585995891534165,4.2959636893877775,10.982168519903812,8.903743755008078,2.280678601194176,22.28874842421285,4.315805009705514,23.346109917242774,12.041143503174865,21.9834537375862,5.709546208772438,22.070030298414334,1.7752144889445711,36.514054393390175,23.92102043508161,11.886547477773766,39.5228568090915,12.503427975581243,27.064889958151653,34.07395085085076,4.118693295417347,30.15835515572326,32.519135485563496,34.28138573504213,1.6291101323815589,3.5714745648427746,14.072356722099583,15.233348595893956,45.56199575172541,25.179803765672457,27.91562938415918,11.70665736907999,16.27394149107652,55.073538348982865,8.347073967160695,56.67723288122366,58.66476344952972,42.26882116382633,40.18525898750318,51.76061724160383,21.402498347558634,62.40380680611752,50.128746725062214,40.347471099157715,9.81367888229598,20.838897530412883,9.903591341454312,46.413453003359386,18.453523958864402,28.089250983080024,68.2583692034681,37.11174006688993,60.48888361384574,24.140718204609076,28.947379226708744,22.18618616448104,35.633205603939956,23.74919260011216,48.03699437824831,36.223561371534736,60.71751601929343,52.547985030449624,46.42772906663314,0.04455821986680397,87.31440705711631,57.938193897095054,18.655542151812902,56.36528288972415,13.403350538924254,73.56323838777357,73.07002496031888,63.49379645306522,49.12517693800966,41.92065741379311,15.634593205228068,67.50981014484]}];\n",
       " var layout_bwWVXCKOMN = {\"height\":350,\"width\":350,\"hovermode\":\"closest\",\"title\":{\"text\":\"The MultiChart from Above\"},\"showlegend\":true,\"grid\":{\"rows\":1,\"columns\":2,\"pattern\":\"independent\"},\"xaxis\":{\"showgrid\":true,\"zeroline\":false,\"showline\":false},\"xaxis2\":{\"title\":{\"text\":\"x2\"},\"showgrid\":true,\"zeroline\":false,\"showline\":false},\"yaxis2\":{\"showgrid\":true,\"zeroline\":false,\"showline\":false}};\n",
       " var config_bwWVXCKOMN = {\"responsive\":false,\"scrollZoom\":true,\"displaylogo\":false};\n",
       " Plotly.newPlot(\"graph_bwWVXCKOMN\", traces_bwWVXCKOMN, layout_bwWVXCKOMN, config_bwWVXCKOMN);\n",
       "\n",
       "var save_zDhS7nUCqa = document.getElementById(\"saveAsPNG_zDhS7nUCqa\")\n",
       "save_zDhS7nUCqa.onclick = function() {\n",
       "    const grid = document.getElementById(\"grid-container_zDhS7nUCqa\")\n",
       "    const graphs = grid.getElementsByClassName(\"graph\")\n",
       "\n",
       "    const promises = []\n",
       "\n",
       "    const rows = 2\n",
       "    const cols = 2\n",
       "    const img_width = 400\n",
       "    const img_height = 400\n",
       "    var margin = 50\n",
       "\n",
       "    for (var i=0; i<graphs.length; i++) {\n",
       "        const promise = Plotly.toImage(graphs[i], {format: 'png', width: img_width, height: img_height})\n",
       "        promises.push(new Promise((resolve) => {\n",
       "            resolve(promise);\n",
       "        }));\n",
       "    }\n",
       "\n",
       "    Promise.all(promises).then((images) => {\n",
       "        const positioned_images = []\n",
       "\n",
       "        for (var i=0; i<rows; i++) {\n",
       "            for (var j=0; j<cols; j++) {\n",
       "\n",
       "                const obj = {\n",
       "                    \"src\": images[i*cols + j],\n",
       "                    x: i*img_width+margin,\n",
       "                    y: j*img_height+margin\n",
       "                }\n",
       "\n",
       "                positioned_images.push(obj)\n",
       "            }\n",
       "        }\n",
       "\n",
       "        mergeImages(positioned_images, {\n",
       "            width: img_width*cols+60, height: img_height*rows+60\n",
       "        })\n",
       "        .then(b64 => {\n",
       "            var a = document.createElement(\"a\");\n",
       "            a.href = b64;\n",
       "            a.download = \"Image.png\";\n",
       "            a.click();\n",
       "            a.remove()\n",
       "        });\n",
       "    });\n",
       "}\n",
       "</script> \n"
      ]
     },
     "metadata": {},
     "output_type": "display_data"
    }
   ],
   "source": [
    "// first define the x-axes we will use in the plot\n",
    "val ax1 = Axis(X, title = \"x axis 1\")\n",
    "val ax2 = Axis(X, title = \"x axis 2\")\n",
    "val ax3 = Axis(X, title = \"x axis 3\")\n",
    "val ax4 = Axis(X, title = \"x axis 4\")\n",
    "\n",
    "// first define the y-axes we will use in the plot\n",
    "val ax6 = Axis(Y, title = \"y axis 1\")\n",
    "val ax7 = Axis(Y, title = \"y axis 2\")\n",
    "val ax8 = Axis(Y, title = \"y axis 3\")\n",
    "val ax9 = Axis(Y, title = \"y axis 4\")\n",
    "\n",
    "// it may be necessary to play around with the chart dimensions and margin  in order to ensure a good fit on screen.\n",
    "val dim = 350\n",
    "\n",
    "val chart1 = (\n",
    "    Chart()\n",
    "    setDimensions(width = dim, height = dim)\n",
    "    addSeries XY(x, y).setName(\"a\").drawMarkers\n",
    "    addAxes(ax1, ax6)\n",
    "    setMargin(l=50, r=30, t=50, b=50)\n",
    ")\n",
    "\n",
    "val chart2 = (\n",
    "    Chart() \n",
    "    setDimensions(width = dim, height = dim)\n",
    "    addSeries XY(x, y).setName(\"b\").drawMarkers\n",
    "    addAxes(ax2, ax7)\n",
    "    setMargin(l=50, r=50, t=50, b=50)\n",
    ")\n",
    "\n",
    "val chart3 = (\n",
    "    Chart()\n",
    "    setDimensions(width = dim, height = dim)\n",
    "    addSeries XY(x, y).setName(\"c\").drawMarkers\n",
    "    addAxes(ax3, ax8)\n",
    "    setMargin(l=50, r=30, t=50, b=50)\n",
    ")\n",
    "\n",
    "val chart4 = (\n",
    "    Chart()\n",
    "    setDimensions(width = dim, height = dim)\n",
    "    addSeries(series1, series2)\n",
    "    setTitle \"The MultiChart from Above\"\n",
    "    addAxes(xaxis1, yaxis1, xaxis2, yaxis2) // these axes come from above\n",
    "    setConfig(responsive=false)\n",
    "    asMultiChart(1, 2)\n",
    ")\n",
    "\n",
    "// The canvas has an underlying grid. By default the underlying grid is 1x1, but we can pass in the dimensions we \n",
    "// require by passing in parameters in the constructor.\n",
    "Canvas(2, 2)\n",
    ".setChart(0, 0, chart1)\n",
    ".setChart(0, 1, chart2)\n",
    ".setChart(1, 0, chart3)\n",
    ".setChart(1, 1, chart4)\n",
    ".plotInline"
   ]
  },
  {
   "cell_type": "markdown",
   "metadata": {},
   "source": [
    "### Error Bars\n",
    "\n",
    "We can also add Error Bars to our plots.\n",
    "\n",
    "Error bars come in two flavours:\n",
    "\n",
    "1. `XError`\n",
    "2. `YError`\n",
    "\n",
    "Both of these has an associated `mode` that determines how the error bar is calculated for an individual point. The following `mode`s can be specified:\n",
    "\n",
    "- `DATA`: The user passes in an array that specifies the per point error\n",
    "- `PERCENT`: The user passes in a Double that calculates the error as a percentage of the value of the point\n",
    "- `CONSTANT`: The user passes in a double that is the constant value for the error for all points\n",
    "- `SQRT`: This calculates the error as a square root of the point value.\n",
    "\n",
    "The next few examples will demonstrate:"
   ]
  },
  {
   "cell_type": "code",
   "execution_count": 22,
   "metadata": {},
   "outputs": [],
   "source": [
    "// First import the Error Bar options\n",
    "import org.carbonateresearch.picta.options.{YError, CONSTANT, DATA, PERCENT, SQRT}"
   ]
  },
  {
   "cell_type": "code",
   "execution_count": 23,
   "metadata": {},
   "outputs": [
    {
     "data": {
      "text/html": [
       "<div id=\"grid-container_Z43SHMfhE2\" class=\"grid-container\" align=\"center\"> \n",
       "<div id=\"grid_Z43SHMfhE2\" class=\"grid\" align=\"center\"> \n",
       "<div id=\"graph_UwX6R225a6\" class=\"graph\"></div> \n",
       "<div id=\"graph_pk6E1iQYmQ\" class=\"graph\"></div> \n",
       "<div id=\"graph_N1Z0oOgCAO\" class=\"graph\"></div> \n",
       "<div id=\"graph_HgxizDD3xv\" class=\"graph\"></div> \n",
       "</div> \n",
       "</div> \n",
       "\n",
       "<div align=\"center\">\n",
       "<button id = \"saveAsPNG_Z43SHMfhE2\" class=\"picta-button\">Download Canvas as PNG</button>\n",
       "</div>\n",
       "<script>\n",
       "var masonry = new Macy({\n",
       "    container: '#grid_Z43SHMfhE2',\n",
       "    debug: true,\n",
       "    mobileFirst: true,\n",
       "    columns: 2,\n",
       "    margin: {\n",
       "        x: 0,\n",
       "        y: 0\n",
       "    }\n",
       "  });\n",
       "\n",
       "  var traces_UwX6R225a6 = [{\"name\":\"Error from provided data\",\"type\":\"scatter\",\"mode\":\"markers\",\"x\":[1,2,3],\"y\":[1.234,5.2112,2.44332],\"error_y\":{\"type\":\"data\",\"visible\":true,\"array\":[0.5,0.5,0.5]}}];\n",
       " var layout_UwX6R225a6 = {\"height\":400,\"width\":400,\"hovermode\":\"closest\",\"title\":{\"text\":\"Per Point Specified Error\"},\"showlegend\":true};\n",
       " var config_UwX6R225a6 = {\"responsive\":true,\"scrollZoom\":true,\"displaylogo\":false};\n",
       " Plotly.newPlot(\"graph_UwX6R225a6\", traces_UwX6R225a6, layout_UwX6R225a6, config_UwX6R225a6);\n",
       "\n",
       "  var traces_pk6E1iQYmQ = [{\"name\":\"% error\",\"type\":\"scatter\",\"mode\":\"markers\",\"x\":[1,2,3],\"y\":[1.234,5.2112,2.44332],\"error_y\":{\"type\":\"percent\",\"visible\":true,\"value\":10}}];\n",
       " var layout_pk6E1iQYmQ = {\"height\":400,\"width\":400,\"hovermode\":\"closest\",\"title\":{\"text\":\"Percentage Error\"},\"showlegend\":true};\n",
       " var config_pk6E1iQYmQ = {\"responsive\":true,\"scrollZoom\":true,\"displaylogo\":false};\n",
       " Plotly.newPlot(\"graph_pk6E1iQYmQ\", traces_pk6E1iQYmQ, layout_pk6E1iQYmQ, config_pk6E1iQYmQ);\n",
       "\n",
       "  var traces_N1Z0oOgCAO = [{\"name\":\"constant error\",\"type\":\"scatter\",\"mode\":\"markers\",\"x\":[1,2,3],\"y\":[1.234,5.2112,2.44332],\"error_y\":{\"type\":\"constant\",\"visible\":true,\"value\":10}}];\n",
       " var layout_N1Z0oOgCAO = {\"height\":400,\"width\":400,\"hovermode\":\"closest\",\"title\":{\"text\":\"Constant Error\"},\"showlegend\":true};\n",
       " var config_N1Z0oOgCAO = {\"responsive\":true,\"scrollZoom\":true,\"displaylogo\":false};\n",
       " Plotly.newPlot(\"graph_N1Z0oOgCAO\", traces_N1Z0oOgCAO, layout_N1Z0oOgCAO, config_N1Z0oOgCAO);\n",
       "\n",
       "  var traces_HgxizDD3xv = [{\"name\":\"Sqrt\",\"type\":\"scatter\",\"mode\":\"markers\",\"x\":[1,2,3],\"y\":[1.234,5.2112,2.44332],\"error_y\":{\"type\":\"sqrt\",\"visible\":true}}];\n",
       " var layout_HgxizDD3xv = {\"height\":400,\"width\":400,\"hovermode\":\"closest\",\"title\":{\"text\":\"Sqrt Error\"},\"showlegend\":true};\n",
       " var config_HgxizDD3xv = {\"responsive\":true,\"scrollZoom\":true,\"displaylogo\":false};\n",
       " Plotly.newPlot(\"graph_HgxizDD3xv\", traces_HgxizDD3xv, layout_HgxizDD3xv, config_HgxizDD3xv);\n",
       "\n",
       "var save_Z43SHMfhE2 = document.getElementById(\"saveAsPNG_Z43SHMfhE2\")\n",
       "save_Z43SHMfhE2.onclick = function() {\n",
       "    const grid = document.getElementById(\"grid-container_Z43SHMfhE2\")\n",
       "    const graphs = grid.getElementsByClassName(\"graph\")\n",
       "\n",
       "    const promises = []\n",
       "\n",
       "    const rows = 2\n",
       "    const cols = 2\n",
       "    const img_width = 400\n",
       "    const img_height = 400\n",
       "    var margin = 50\n",
       "\n",
       "    for (var i=0; i<graphs.length; i++) {\n",
       "        const promise = Plotly.toImage(graphs[i], {format: 'png', width: img_width, height: img_height})\n",
       "        promises.push(new Promise((resolve) => {\n",
       "            resolve(promise);\n",
       "        }));\n",
       "    }\n",
       "\n",
       "    Promise.all(promises).then((images) => {\n",
       "        const positioned_images = []\n",
       "\n",
       "        for (var i=0; i<rows; i++) {\n",
       "            for (var j=0; j<cols; j++) {\n",
       "\n",
       "                const obj = {\n",
       "                    \"src\": images[i*cols + j],\n",
       "                    x: i*img_width+margin,\n",
       "                    y: j*img_height+margin\n",
       "                }\n",
       "\n",
       "                positioned_images.push(obj)\n",
       "            }\n",
       "        }\n",
       "\n",
       "        mergeImages(positioned_images, {\n",
       "            width: img_width*cols+60, height: img_height*rows+60\n",
       "        })\n",
       "        .then(b64 => {\n",
       "            var a = document.createElement(\"a\");\n",
       "            a.href = b64;\n",
       "            a.download = \"Image.png\";\n",
       "            a.click();\n",
       "            a.remove()\n",
       "        });\n",
       "    });\n",
       "}\n",
       "</script> \n"
      ]
     },
     "metadata": {},
     "output_type": "display_data"
    }
   ],
   "source": [
    "val dim = 400\n",
    "\n",
    "val series1 = (\n",
    "    XY(List(1, 2, 3), List(1.234, 5.2112, 2.44332))\n",
    "    asType SCATTER\n",
    "    drawStyle MARKERS\n",
    "    // User specifies the error per point \n",
    "    setErrorBars YError(mode = DATA, array = List(0.5, 0.5, 0.5))\n",
    ")\n",
    "\n",
    "val chart1 = (\n",
    "    Chart()\n",
    "    addSeries series1.setName(\"Error from provided data\")\n",
    "    setTitle \"Per Point Specified Error\"\n",
    "    setDimensions(width = dim, height = dim)\n",
    ")\n",
    "\n",
    "\n",
    "val series2 = (\n",
    "    XY(List(1, 2, 3), List(1.234, 5.2112, 2.44332))\n",
    "    asType SCATTER\n",
    "    drawStyle MARKERS\n",
    "    // the error here is 10% of the corresponding y-value for the point\n",
    "    setErrorBars YError(mode = PERCENT, value = 10.0)\n",
    ")\n",
    "\n",
    "val chart2 = (\n",
    "    Chart()\n",
    "    addSeries series2.setName(\"% error\")\n",
    "    setTitle \"Percentage Error\"\n",
    "    setDimensions(width = dim, height = dim)\n",
    "    \n",
    ")\n",
    "\n",
    "\n",
    "val series3 = (\n",
    "    XY(List(1, 2, 3), List(1.234, 5.2112, 2.44332))\n",
    "    asType SCATTER\n",
    "    drawStyle MARKERS\n",
    "    // a constant error of 10 is applied to each point\n",
    "    setErrorBars YError(mode = CONSTANT, value = 10.0)\n",
    "    setName(\"Constant value\")\n",
    ")\n",
    "\n",
    "val chart3 = (\n",
    "    Chart()\n",
    "    addSeries series3.setName(\"constant error\")\n",
    "    setTitle \"Constant Error\"\n",
    "    setDimensions(width = dim, height = dim)\n",
    ")\n",
    "\n",
    "\n",
    "val series4 = (\n",
    "    XY(List(1, 2, 3), List(1.234, 5.2112, 2.44332))\n",
    "    asType SCATTER\n",
    "    drawStyle MARKERS\n",
    "    setErrorBars YError(mode = SQRT)\n",
    "    setName(\"Sqrt\")\n",
    ")\n",
    "\n",
    "val chart4 = (\n",
    "    Chart()\n",
    "    addSeries series4.setName(\"Sqrt\")\n",
    "    setTitle \"Sqrt Error\"\n",
    "    // the error is set to the sqrt of the corresponding point\n",
    "    setDimensions(width = dim, height = dim)\n",
    ")\n",
    "\n",
    "val canvas = Canvas(2, 2) addCharts (chart1, chart2, chart3, chart4)\n",
    "\n",
    "canvas.plotInline"
   ]
  },
  {
   "cell_type": "markdown",
   "metadata": {},
   "source": [
    "### Other Types of Charts\n",
    "\n",
    "The next examples will demonstrate how to create a variety of `Chart`s. All of the examples below are composable with the `Canvas` subplot system.\n",
    "\n",
    "#### Pie Chart\n",
    "\n",
    "Pie charts can be created in two ways. The first way uses the `PieElement` component to compose a Piechart:"
   ]
  },
  {
   "cell_type": "code",
   "execution_count": 24,
   "metadata": {},
   "outputs": [
    {
     "data": {
      "text/html": [
       "<div id=\"grid-container_Pr56h5gpaz\" class=\"grid-container\" align=\"center\"> \n",
       "<div id=\"grid_Pr56h5gpaz\" class=\"grid\" align=\"center\"> \n",
       "<div id=\"graph_ymkAz5854I\" class=\"graph\"></div> \n",
       "</div> \n",
       "</div> \n",
       "<script>\n",
       "var masonry = new Macy({\n",
       "    container: '#grid_Pr56h5gpaz',\n",
       "    debug: true,\n",
       "    mobileFirst: true,\n",
       "    columns: 1,\n",
       "    margin: {\n",
       "        x: 0,\n",
       "        y: 0\n",
       "    }\n",
       "  });\n",
       "\n",
       "  var traces_ymkAz5854I = [{\"name\":\"8u7QgnnL6r\",\"type\":\"pie\",\"values\":[60,20,20],\"labels\":[\"Residential\",\"Non-Residential\",\"Utility\"]}];\n",
       " var layout_ymkAz5854I = {\"height\":550,\"width\":600,\"hovermode\":\"closest\",\"title\":{\"text\":\"Pie Elements\"},\"showlegend\":true};\n",
       " var config_ymkAz5854I = {\"responsive\":true,\"scrollZoom\":true,\"displaylogo\":false};\n",
       " Plotly.newPlot(\"graph_ymkAz5854I\", traces_ymkAz5854I, layout_ymkAz5854I, config_ymkAz5854I);\n",
       "</script> \n"
      ]
     },
     "metadata": {},
     "output_type": "display_data"
    }
   ],
   "source": [
    "val a = PieElement(value=60, name=\"Residential\")\n",
    "val b = PieElement(value=20, name=\"Non-Residential\")\n",
    "val c = PieElement(value=20, name=\"Utility\")\n",
    "\n",
    "// we add a list of Pie Elements to an XY series as the list of Pie Elements gets deconstructed down into two series:\n",
    "// X => values: [60, 20, 20]\n",
    "// Y => labels: [\"Residential\", \"Non-Residential\", \"Utility\"]\n",
    "// The labels become the series_name for each individual PieElement\n",
    "// As we pass in a list of PieElements, we do not need to specify the type as a PIE\n",
    "val series = XY(x=List(a, b, c))\n",
    "\n",
    "val chart = Chart() addSeries series setTitle \"Pie Elements\"\n",
    "\n",
    "chart.plotInline"
   ]
  },
  {
   "cell_type": "code",
   "execution_count": 25,
   "metadata": {},
   "outputs": [
    {
     "data": {
      "text/html": [
       "<div id=\"grid-container_TYtAwnM5wV\" class=\"grid-container\" align=\"center\"> \n",
       "<div id=\"grid_TYtAwnM5wV\" class=\"grid\" align=\"center\"> \n",
       "<div id=\"graph_SoMt4slO3X\" class=\"graph\"></div> \n",
       "</div> \n",
       "</div> \n",
       "<script>\n",
       "var masonry = new Macy({\n",
       "    container: '#grid_TYtAwnM5wV',\n",
       "    debug: true,\n",
       "    mobileFirst: true,\n",
       "    columns: 1,\n",
       "    margin: {\n",
       "        x: 0,\n",
       "        y: 0\n",
       "    }\n",
       "  });\n",
       "\n",
       "  var traces_SoMt4slO3X = [{\"name\":\"gFYzpdYWh7\",\"type\":\"pie\",\"values\":[60,20,20],\"labels\":[\"Residential\",\"Non-Residential\",\"Utility\"]}];\n",
       " var layout_SoMt4slO3X = {\"height\":550,\"width\":600,\"hovermode\":\"closest\",\"title\":{\"text\":\"Pie Chart\"},\"showlegend\":true};\n",
       " var config_SoMt4slO3X = {\"responsive\":false,\"scrollZoom\":false,\"displaylogo\":false};\n",
       " Plotly.newPlot(\"graph_SoMt4slO3X\", traces_SoMt4slO3X, layout_SoMt4slO3X, config_SoMt4slO3X);\n",
       "</script> \n"
      ]
     },
     "metadata": {},
     "output_type": "display_data"
    }
   ],
   "source": [
    "// However, composing individual PieElements may be tedious if there is a lot of data and we know how to it all fits\n",
    "// together. Picta provides a short hand to quickly create a Pie Chart using the methods we have seen previously\n",
    "// In this case we pass the (value, name) pairs as two seperate lists. As before, the labels become an individual\n",
    "// series name for each point; which is why the legend renders correctly.\n",
    "val series = XY(x=List(60, 20, 20), y=List(\"Residential\", \"Non-Residential\", \"Utility\")) asType PIE\n",
    "\n",
    "val chart = Chart() addSeries series setConfig(false, false) setTitle \"Pie Chart\"\n",
    "\n",
    "chart.plotInline"
   ]
  },
  {
   "cell_type": "markdown",
   "metadata": {},
   "source": [
    "### Histogram"
   ]
  },
  {
   "cell_type": "code",
   "execution_count": 26,
   "metadata": {},
   "outputs": [
    {
     "data": {
      "text/html": [
       "<div id=\"grid-container_IcNqDyJlND\" class=\"grid-container\" align=\"center\"> \n",
       "<div id=\"grid_IcNqDyJlND\" class=\"grid\" align=\"center\"> \n",
       "<div id=\"graph_fFyqzZI3oj\" class=\"graph\"></div> \n",
       "</div> \n",
       "</div> \n",
       "<script>\n",
       "var masonry = new Macy({\n",
       "    container: '#grid_IcNqDyJlND',\n",
       "    debug: true,\n",
       "    mobileFirst: true,\n",
       "    columns: 1,\n",
       "    margin: {\n",
       "        x: 0,\n",
       "        y: 0\n",
       "    }\n",
       "  });\n",
       "\n",
       "  var traces_fFyqzZI3oj = [{\"name\":\"jzZEAjT0Gn\",\"type\":\"histogram\",\"x\":[0,0.8340775893626405,1.221529962401379,0.8022091447000488,1.894702977367953,4.950921575345884,2.183378487305938,6.858181505857854,0.9017328455742168,8.410609651070994,2.5631238963084133,1.3618897978637827,5.897692379963921,2.7838462391734797,6.691767584249168,5.692146602066162,7.393157642038068,9.775900614267762,10.406207062277925,14.731054429718064,13.738448308788747,2.473905290815193,6.5085853385301915,19.133162822127183,8.992656429243361,2.309073288894567,18.313156499734234,6.8759565477530575,2.113774632270947,14.05221449030497,2.141641313204529,14.889061026013444,0.9686018435329764,21.037872852988855,29.744255239381243,23.555623080620535,33.61518702117814,33.240136165698985,13.478091697350168,8.551216788258388,29.627971578743786,28.051699595951856,34.91729971743984,16.083269488213162,14.166442976613617,18.897056129324394,35.65057244234747,22.367455096443557,17.28206709634306,25.390750135987552,13.590777277371114,3.3766943425825144,44.865479796866836,49.88251836403487,5.4291930977336955,17.773435394486345,3.9064405117263385,52.162755501676635,6.162704213601085,26.7366350632059,19.622839836268355,3.0841764098410858,58.15648935789937,4.371459587119012,45.762097496817795,30.138761827976612,33.227207789590466,8.792029013691627,56.23868522660294,33.863021536124414,47.992411048309805,51.045684305364084,8.495088686718233,17.579425948456656,71.48095105176715,58.051160406636505,50.81048177930998,41.667359489504314,46.98644963474243,74.90269657478467,3.4815629514218926,64.54329492457346,75.62148139062161,72.49765759361237,13.613451445057091,77.06700751057191,9.24398781802776,42.72640927157327,65.43538319627588,58.42852157292089,51.629601066985884,50.670288493847984,86.84586590380923,87.95915411387766,63.203959822928674,7.636266085440376,24.545387506990096,76.99949847210705,96.57784395540358,24.665546112016035]}];\n",
       " var layout_fFyqzZI3oj = {\"height\":550,\"width\":600,\"hovermode\":\"closest\",\"title\":{\"text\":\"Histogram with axes\"},\"showlegend\":true,\"xaxis\":{\"title\":{\"text\":\"my x data\"},\"showgrid\":true,\"zeroline\":false,\"showline\":false},\"yaxis\":{\"title\":{\"text\":\"my y data\"},\"showgrid\":true,\"zeroline\":false,\"showline\":false}};\n",
       " var config_fFyqzZI3oj = {\"responsive\":true,\"scrollZoom\":true,\"displaylogo\":false};\n",
       " Plotly.newPlot(\"graph_fFyqzZI3oj\", traces_fFyqzZI3oj, layout_fFyqzZI3oj, config_fFyqzZI3oj);\n",
       "</script> \n"
      ]
     },
     "metadata": {},
     "output_type": "display_data"
    }
   ],
   "source": [
    "val series = XY(x=x) asType HISTOGRAM\n",
    "\n",
    "val xaxis = Axis(X, title = \"my x data\")\n",
    "val yaxis = Axis(Y, title = \"my y data\")\n",
    "\n",
    "val chart = (\n",
    "    Chart() \n",
    "    addSeries series\n",
    "    setTitle \"Histogram with axes\"\n",
    "    addAxes(xaxis, yaxis)\n",
    ")\n",
    "\n",
    "Canvas()\n",
    ".addCharts(chart)\n",
    ".plotInline"
   ]
  },
  {
   "cell_type": "markdown",
   "metadata": {},
   "source": [
    "#### Customizing colors for a Histogram\n",
    "\n",
    "We can use the `HistOptions` class to further specify options for a histogram. For example, if we wanted to create a horizontally positioned histogram, we can do the following:"
   ]
  },
  {
   "cell_type": "code",
   "execution_count": 27,
   "metadata": {},
   "outputs": [],
   "source": [
    "import org.carbonateresearch.picta.options.histogram.HistOptions\n",
    "import org.carbonateresearch.picta.options.Line"
   ]
  },
  {
   "cell_type": "code",
   "execution_count": 28,
   "metadata": {},
   "outputs": [
    {
     "data": {
      "text/html": [
       "<div id=\"grid-container_BlcvWXsUUl\" class=\"grid-container\" align=\"center\"> \n",
       "<div id=\"grid_BlcvWXsUUl\" class=\"grid\" align=\"center\"> \n",
       "<div id=\"graph_VHcHQrWhHV\" class=\"graph\"></div> \n",
       "</div> \n",
       "</div> \n",
       "<script>\n",
       "var masonry = new Macy({\n",
       "    container: '#grid_BlcvWXsUUl',\n",
       "    debug: true,\n",
       "    mobileFirst: true,\n",
       "    columns: 1,\n",
       "    margin: {\n",
       "        x: 0,\n",
       "        y: 0\n",
       "    }\n",
       "  });\n",
       "\n",
       "  var traces_VHcHQrWhHV = [{\"name\":\"xEsBQzlxd3\",\"type\":\"histogram\",\"marker\":{\"color\":\"rgba(255, 100, 102, 0.5)\",\"line\":{\"width\":0.5}},\"y\":[0,0.8340775893626405,1.221529962401379,0.8022091447000488,1.894702977367953,4.950921575345884,2.183378487305938,6.858181505857854,0.9017328455742168,8.410609651070994,2.5631238963084133,1.3618897978637827,5.897692379963921,2.7838462391734797,6.691767584249168,5.692146602066162,7.393157642038068,9.775900614267762,10.406207062277925,14.731054429718064,13.738448308788747,2.473905290815193,6.5085853385301915,19.133162822127183,8.992656429243361,2.309073288894567,18.313156499734234,6.8759565477530575,2.113774632270947,14.05221449030497,2.141641313204529,14.889061026013444,0.9686018435329764,21.037872852988855,29.744255239381243,23.555623080620535,33.61518702117814,33.240136165698985,13.478091697350168,8.551216788258388,29.627971578743786,28.051699595951856,34.91729971743984,16.083269488213162,14.166442976613617,18.897056129324394,35.65057244234747,22.367455096443557,17.28206709634306,25.390750135987552,13.590777277371114,3.3766943425825144,44.865479796866836,49.88251836403487,5.4291930977336955,17.773435394486345,3.9064405117263385,52.162755501676635,6.162704213601085,26.7366350632059,19.622839836268355,3.0841764098410858,58.15648935789937,4.371459587119012,45.762097496817795,30.138761827976612,33.227207789590466,8.792029013691627,56.23868522660294,33.863021536124414,47.992411048309805,51.045684305364084,8.495088686718233,17.579425948456656,71.48095105176715,58.051160406636505,50.81048177930998,41.667359489504314,46.98644963474243,74.90269657478467,3.4815629514218926,64.54329492457346,75.62148139062161,72.49765759361237,13.613451445057091,77.06700751057191,9.24398781802776,42.72640927157327,65.43538319627588,58.42852157292089,51.629601066985884,50.670288493847984,86.84586590380923,87.95915411387766,63.203959822928674,7.636266085440376,24.545387506990096,76.99949847210705,96.57784395540358,24.665546112016035]}];\n",
       " var layout_VHcHQrWhHV = {\"height\":550,\"width\":600,\"hovermode\":\"closest\",\"title\":{\"text\":\"XY.Histogram.Color\"},\"showlegend\":true};\n",
       " var config_VHcHQrWhHV = {\"responsive\":true,\"scrollZoom\":true,\"displaylogo\":false};\n",
       " Plotly.newPlot(\"graph_VHcHQrWhHV\", traces_VHcHQrWhHV, layout_VHcHQrWhHV, config_VHcHQrWhHV);\n",
       "</script> \n"
      ]
     },
     "metadata": {},
     "output_type": "display_data"
    }
   ],
   "source": [
    "// we can also compose customizations in much the same way:\n",
    "val marker = Marker() setColor \"rgba(255, 100, 102, 0.5)\" setLine Line()\n",
    "\n",
    "// change xkey to y to get a horizontal histogram\n",
    "val series = (\n",
    "    XY(x) \n",
    "    asType HISTOGRAM\n",
    "    setMarker marker\n",
    "    // we can set histogram specific options using the setHistOptions method\n",
    "    setHistOptions(orientation = HORIZONTAL)\n",
    ")\n",
    "\n",
    "val chart = (\n",
    "    Chart() \n",
    "    addSeries series \n",
    "    setTitle \"XY.Histogram.Color\"\n",
    ")\n",
    "\n",
    "chart.plotInline"
   ]
  },
  {
   "cell_type": "markdown",
   "metadata": {},
   "source": [
    "#### Cumulative Histogram\n",
    "\n",
    "Sometimes a cumulative histogram may be desired. We can do this as follows:"
   ]
  },
  {
   "cell_type": "code",
   "execution_count": 29,
   "metadata": {},
   "outputs": [],
   "source": [
    "// we can import a range of histnorms\n",
    "import org.carbonateresearch.picta.options.histogram.{Cumulative, PERCENT, DENSITY, PROBABILITY_DENSITY, NUMBER}"
   ]
  },
  {
   "cell_type": "code",
   "execution_count": 30,
   "metadata": {},
   "outputs": [
    {
     "data": {
      "text/html": [
       "<div id=\"grid-container_lz4YLFeDo3\" class=\"grid-container\" align=\"center\"> \n",
       "<div id=\"grid_lz4YLFeDo3\" class=\"grid\" align=\"center\"> \n",
       "<div id=\"graph_t8vrnQTxvd\" class=\"graph\"></div> \n",
       "</div> \n",
       "</div> \n",
       "<script>\n",
       "var masonry = new Macy({\n",
       "    container: '#grid_lz4YLFeDo3',\n",
       "    debug: true,\n",
       "    mobileFirst: true,\n",
       "    columns: 1,\n",
       "    margin: {\n",
       "        x: 0,\n",
       "        y: 0\n",
       "    }\n",
       "  });\n",
       "\n",
       "  var traces_t8vrnQTxvd = [{\"name\":\"FuCzLA2fKO\",\"type\":\"histogram\",\"cumulative\":{\"enabled\":true},\"histnorm\":\"\",\"x\":[0,0.8340775893626405,1.221529962401379,0.8022091447000488,1.894702977367953,4.950921575345884,2.183378487305938,6.858181505857854,0.9017328455742168,8.410609651070994,2.5631238963084133,1.3618897978637827,5.897692379963921,2.7838462391734797,6.691767584249168,5.692146602066162,7.393157642038068,9.775900614267762,10.406207062277925,14.731054429718064,13.738448308788747,2.473905290815193,6.5085853385301915,19.133162822127183,8.992656429243361,2.309073288894567,18.313156499734234,6.8759565477530575,2.113774632270947,14.05221449030497,2.141641313204529,14.889061026013444,0.9686018435329764,21.037872852988855,29.744255239381243,23.555623080620535,33.61518702117814,33.240136165698985,13.478091697350168,8.551216788258388,29.627971578743786,28.051699595951856,34.91729971743984,16.083269488213162,14.166442976613617,18.897056129324394,35.65057244234747,22.367455096443557,17.28206709634306,25.390750135987552,13.590777277371114,3.3766943425825144,44.865479796866836,49.88251836403487,5.4291930977336955,17.773435394486345,3.9064405117263385,52.162755501676635,6.162704213601085,26.7366350632059,19.622839836268355,3.0841764098410858,58.15648935789937,4.371459587119012,45.762097496817795,30.138761827976612,33.227207789590466,8.792029013691627,56.23868522660294,33.863021536124414,47.992411048309805,51.045684305364084,8.495088686718233,17.579425948456656,71.48095105176715,58.051160406636505,50.81048177930998,41.667359489504314,46.98644963474243,74.90269657478467,3.4815629514218926,64.54329492457346,75.62148139062161,72.49765759361237,13.613451445057091,77.06700751057191,9.24398781802776,42.72640927157327,65.43538319627588,58.42852157292089,51.629601066985884,50.670288493847984,86.84586590380923,87.95915411387766,63.203959822928674,7.636266085440376,24.545387506990096,76.99949847210705,96.57784395540358,24.665546112016035]}];\n",
       " var layout_t8vrnQTxvd = {\"height\":550,\"width\":600,\"hovermode\":\"closest\",\"title\":{\"text\":\"Histogram - Cumulative\"},\"showlegend\":true};\n",
       " var config_t8vrnQTxvd = {\"responsive\":true,\"scrollZoom\":true,\"displaylogo\":false};\n",
       " Plotly.newPlot(\"graph_t8vrnQTxvd\", traces_t8vrnQTxvd, layout_t8vrnQTxvd, config_t8vrnQTxvd);\n",
       "</script> \n"
      ]
     },
     "metadata": {},
     "output_type": "display_data"
    }
   ],
   "source": [
    "val series = XY(x) asType HISTOGRAM setHistOptions(histnorm = NUMBER, cumulative = Cumulative(enabled=true))\n",
    "\n",
    "val chart = Chart() addSeries series setTitle \"Histogram - Cumulative\"\n",
    "\n",
    "chart.plotInline"
   ]
  },
  {
   "cell_type": "markdown",
   "metadata": {},
   "source": [
    "#### Specifiying the Binning Function\n",
    "\n",
    "We can also specify the binning function for a histogram."
   ]
  },
  {
   "cell_type": "code",
   "execution_count": 31,
   "metadata": {},
   "outputs": [],
   "source": [
    "import org.carbonateresearch.picta.options.histogram.{COUNT, SUM, AVG, MIN, MAX, HistOptions}"
   ]
  },
  {
   "cell_type": "code",
   "execution_count": 32,
   "metadata": {},
   "outputs": [
    {
     "data": {
      "text/html": [
       "<div id=\"grid-container_BzL2SPkQOy\" class=\"grid-container\" align=\"center\"> \n",
       "<div id=\"grid_BzL2SPkQOy\" class=\"grid\" align=\"center\"> \n",
       "<div id=\"graph_TuVHZMm4kC\" class=\"graph\"></div> \n",
       "</div> \n",
       "</div> \n",
       "<script>\n",
       "var masonry = new Macy({\n",
       "    container: '#grid_BzL2SPkQOy',\n",
       "    debug: true,\n",
       "    mobileFirst: true,\n",
       "    columns: 1,\n",
       "    margin: {\n",
       "        x: 0,\n",
       "        y: 0\n",
       "    }\n",
       "  });\n",
       "\n",
       "  var traces_TuVHZMm4kC = [{\"name\":\"SIF4nSvZjY\",\"type\":\"histogram\",\"histfunc\":\"count\",\"x\":[\"Apples\",\"Apples\",\"Apples\",\"Oranges\",\"Bananas\"],\"y\":[\"5\",\"10\",\"3\",\"10\",\"5\"]},{\"name\":\"KoLiRbWr2q\",\"type\":\"histogram\",\"histfunc\":\"sum\",\"x\":[\"Apples\",\"Apples\",\"Apples\",\"Oranges\",\"Bananas\"],\"y\":[\"5\",\"10\",\"3\",\"10\",\"5\"]}];\n",
       " var layout_TuVHZMm4kC = {\"height\":550,\"width\":600,\"hovermode\":\"closest\",\"title\":{\"text\":\"Histogram - Specify Binning Function\"},\"showlegend\":true};\n",
       " var config_TuVHZMm4kC = {\"responsive\":true,\"scrollZoom\":true,\"displaylogo\":false};\n",
       " Plotly.newPlot(\"graph_TuVHZMm4kC\", traces_TuVHZMm4kC, layout_TuVHZMm4kC, config_TuVHZMm4kC);\n",
       "</script> \n"
      ]
     },
     "metadata": {},
     "output_type": "display_data"
    }
   ],
   "source": [
    "val x = List(\"Apples\", \"Apples\", \"Apples\", \"Oranges\", \"Bananas\")\n",
    "val y = List(\"5\", \"10\", \"3\", \"10\", \"5\")\n",
    "\n",
    "// we can also assign histOptions to a value and pass them to the setHistOptions method\n",
    "val ho1 = HistOptions(histfunc = COUNT)\n",
    "val ho2 = HistOptions(histfunc = SUM)\n",
    "    \n",
    "val t1 = XY(x = x, y = y) asType HISTOGRAM setHistOptions ho1\n",
    "val t2 = XY(x = x, y = y) asType HISTOGRAM setHistOptions ho2\n",
    "\n",
    "val chart = Chart() addSeries(t1, t2) setTitle \"Histogram - Specify Binning Function\"\n",
    "val canvas = Canvas() addCharts chart\n",
    "canvas.plotInline"
   ]
  },
  {
   "cell_type": "markdown",
   "metadata": {},
   "source": [
    "### 2D Histogram Contour"
   ]
  },
  {
   "cell_type": "code",
   "execution_count": 33,
   "metadata": {},
   "outputs": [
    {
     "data": {
      "text/html": [
       "<div id=\"grid-container_99iuFijxRd\" class=\"grid-container\" align=\"center\"> \n",
       "<div id=\"grid_99iuFijxRd\" class=\"grid\" align=\"center\"> \n",
       "<div id=\"graph_rxaensdotV\" class=\"graph\"></div> \n",
       "</div> \n",
       "</div> \n",
       "<script>\n",
       "var masonry = new Macy({\n",
       "    container: '#grid_99iuFijxRd',\n",
       "    debug: true,\n",
       "    mobileFirst: true,\n",
       "    columns: 1,\n",
       "    margin: {\n",
       "        x: 0,\n",
       "        y: 0\n",
       "    }\n",
       "  });\n",
       "\n",
       "  var traces_rxaensdotV = [{\"name\":\"lAFbTz3P3O\",\"type\":\"histogram2dcontour\",\"mode\":\"markers\",\"x\":[1,2,3,4,5,6,7,8,9,10,11,12,13,14,15,16,17,18,19,20,21,22,23,24,25,26,27,28,29,30,31,32,33,34,35,36,37,38,39,40,41,42,43,44,45,46,47,48,49],\"y\":[7.08721137064645,53.18728124060171,53.383245073901726,82.17391069053447,24.540971610143654,54.62843554902725,46.74875554297026,64.36694886885846,101.36683693192866,31.698703456046186,104.46152940126761,35.3100966854679,68.09536964256009,45.613369191639585,61.87592839035386,19.351643402371174,69.60158929731266,49.42753511812223,113.52690662922963,92.855031043789,24.07305884840934,31.7248485721652,87.31210108508216,73.2350242876627,48.15197747698461,114.09697292421446,71.04943765108058,88.72098349995841,119.7998101542263,79.06482120508123,66.32785260546461,84.25799448540931,48.577362456771795,60.26835136542465,88.02573196751358,131.9449280105847,136.80287826027228,122.5524467444745,136.95379698847165,118.02172892425936,44.44521932581139,96.00224946335388,47.786062541851585,72.65657141177189,115.62866723120378,105.03209196124351,54.77464036467083,93.64675346803048,85.27052306506442]}];\n",
       " var layout_rxaensdotV = {\"height\":550,\"width\":600,\"hovermode\":\"closest\",\"title\":{\"text\":\"2D Histogram Contour\"},\"showlegend\":true};\n",
       " var config_rxaensdotV = {\"responsive\":true,\"scrollZoom\":true,\"displaylogo\":false};\n",
       " Plotly.newPlot(\"graph_rxaensdotV\", traces_rxaensdotV, layout_rxaensdotV, config_rxaensdotV);\n",
       "</script> \n"
      ]
     },
     "metadata": {},
     "output_type": "display_data"
    }
   ],
   "source": [
    "val x = List.range(1, 50)\n",
    "val y = x.map(x => x + scala.util.Random.nextDouble()*100)\n",
    "\n",
    "val series = XY(x, y).asType(HISTOGRAM2DCONTOUR).drawMarkers\n",
    "\n",
    "val chart = (\n",
    "    Chart() addSeries series\n",
    "    setTitle \"2D Histogram Contour\"\n",
    ")\n",
    "\n",
    "chart.plotInline"
   ]
  },
  {
   "cell_type": "markdown",
   "metadata": {},
   "source": [
    "#### Adding additional axes\n",
    "\n",
    "As the above is a density plot, adding histograms can be useful too.\n",
    "\n",
    "We can add histograms as follows:"
   ]
  },
  {
   "cell_type": "code",
   "execution_count": 34,
   "metadata": {},
   "outputs": [],
   "source": [
    "// import the 2d Density histogram options\n",
    "import org.carbonateresearch.picta.options.histogram2d.Hist2dOptions"
   ]
  },
  {
   "cell_type": "code",
   "execution_count": 35,
   "metadata": {},
   "outputs": [
    {
     "data": {
      "text/html": [
       "<div id=\"grid-container_4XIUSwiB80\" class=\"grid-container\" align=\"center\"> \n",
       "<div id=\"grid_4XIUSwiB80\" class=\"grid\" align=\"center\"> \n",
       "<div id=\"graph_u70zYDwoue\" class=\"graph\"></div> \n",
       "</div> \n",
       "</div> \n",
       "<script>\n",
       "var masonry = new Macy({\n",
       "    container: '#grid_4XIUSwiB80',\n",
       "    debug: true,\n",
       "    mobileFirst: true,\n",
       "    columns: 1,\n",
       "    margin: {\n",
       "        x: 0,\n",
       "        y: 0\n",
       "    }\n",
       "  });\n",
       "\n",
       "  var traces_u70zYDwoue = [{\"name\":\"points\",\"type\":\"scatter\",\"mode\":\"markers\",\"marker\":{\"color\":\"rgb(102,0,0)\"},\"x\":[1,2,3,4,5,6,7,8,9,10,11,12,13,14,15,16,17,18,19,20,21,22,23,24,25,26,27,28,29,30,31,32,33,34,35,36,37,38,39,40,41,42,43,44,45,46,47,48,49],\"y\":[7.08721137064645,53.18728124060171,53.383245073901726,82.17391069053447,24.540971610143654,54.62843554902725,46.74875554297026,64.36694886885846,101.36683693192866,31.698703456046186,104.46152940126761,35.3100966854679,68.09536964256009,45.613369191639585,61.87592839035386,19.351643402371174,69.60158929731266,49.42753511812223,113.52690662922963,92.855031043789,24.07305884840934,31.7248485721652,87.31210108508216,73.2350242876627,48.15197747698461,114.09697292421446,71.04943765108058,88.72098349995841,119.7998101542263,79.06482120508123,66.32785260546461,84.25799448540931,48.577362456771795,60.26835136542465,88.02573196751358,131.9449280105847,136.80287826027228,122.5524467444745,136.95379698847165,118.02172892425936,44.44521932581139,96.00224946335388,47.786062541851585,72.65657141177189,115.62866723120378,105.03209196124351,54.77464036467083,93.64675346803048,85.27052306506442]},{\"name\":\"density\",\"type\":\"histogram2dcontour\",\"ncontours\":20,\"reversescale\":false,\"showscale\":true,\"x\":[1,2,3,4,5,6,7,8,9,10,11,12,13,14,15,16,17,18,19,20,21,22,23,24,25,26,27,28,29,30,31,32,33,34,35,36,37,38,39,40,41,42,43,44,45,46,47,48,49],\"y\":[7.08721137064645,53.18728124060171,53.383245073901726,82.17391069053447,24.540971610143654,54.62843554902725,46.74875554297026,64.36694886885846,101.36683693192866,31.698703456046186,104.46152940126761,35.3100966854679,68.09536964256009,45.613369191639585,61.87592839035386,19.351643402371174,69.60158929731266,49.42753511812223,113.52690662922963,92.855031043789,24.07305884840934,31.7248485721652,87.31210108508216,73.2350242876627,48.15197747698461,114.09697292421446,71.04943765108058,88.72098349995841,119.7998101542263,79.06482120508123,66.32785260546461,84.25799448540931,48.577362456771795,60.26835136542465,88.02573196751358,131.9449280105847,136.80287826027228,122.5524467444745,136.95379698847165,118.02172892425936,44.44521932581139,96.00224946335388,47.786062541851585,72.65657141177189,115.62866723120378,105.03209196124351,54.77464036467083,93.64675346803048,85.27052306506442]},{\"name\":\"histogram\",\"type\":\"histogram\",\"yaxis\":\"y2\",\"x\":[1,2,3,4,5,6,7,8,9,10,11,12,13,14,15,16,17,18,19,20,21,22,23,24,25,26,27,28,29,30,31,32,33,34,35,36,37,38,39,40,41,42,43,44,45,46,47,48,49]},{\"name\":\"y density\",\"type\":\"histogram\",\"xaxis\":\"x2\",\"marker\":{\"color\":\"rgb(102,0,0)\"},\"y\":[7.08721137064645,53.18728124060171,53.383245073901726,82.17391069053447,24.540971610143654,54.62843554902725,46.74875554297026,64.36694886885846,101.36683693192866,31.698703456046186,104.46152940126761,35.3100966854679,68.09536964256009,45.613369191639585,61.87592839035386,19.351643402371174,69.60158929731266,49.42753511812223,113.52690662922963,92.855031043789,24.07305884840934,31.7248485721652,87.31210108508216,73.2350242876627,48.15197747698461,114.09697292421446,71.04943765108058,88.72098349995841,119.7998101542263,79.06482120508123,66.32785260546461,84.25799448540931,48.577362456771795,60.26835136542465,88.02573196751358,131.9449280105847,136.80287826027228,122.5524467444745,136.95379698847165,118.02172892425936,44.44521932581139,96.00224946335388,47.786062541851585,72.65657141177189,115.62866723120378,105.03209196124351,54.77464036467083,93.64675346803048,85.27052306506442]}];\n",
       " var layout_u70zYDwoue = {\"height\":550,\"width\":600,\"hovermode\":\"closest\",\"title\":{\"text\":\"Histogram2dContour With Density\"},\"showlegend\":false,\"autosize\":false,\"xaxis\":{\"title\":{\"text\":\"x axis 4\"},\"showgrid\":true,\"zeroline\":false,\"showline\":false}};\n",
       " var config_u70zYDwoue = {\"responsive\":true,\"scrollZoom\":true,\"displaylogo\":false};\n",
       " Plotly.newPlot(\"graph_u70zYDwoue\", traces_u70zYDwoue, layout_u70zYDwoue, config_u70zYDwoue);\n",
       "</script> \n"
      ]
     },
     "metadata": {},
     "output_type": "display_data"
    }
   ],
   "source": [
    "val marker = Marker() setColor \"rgb(102,0,0)\"\n",
    "\n",
    "\n",
    "val x1 = Axis(X, showgrid = false) setDomain(0.0, 0.85)\n",
    "val y1 = Axis(Y, showgrid = false) setDomain(0.0, 0.85)\n",
    "val x2 = Axis(X, position = 2, showgrid = false) setDomain(0.85, 1.0)\n",
    "val y2 = Axis(Y, position = 2, showgrid = false) setDomain(0.85, 1.0)\n",
    "\n",
    "\n",
    "val series1 = XY(x, y) \n",
    "            .asType(SCATTER)\n",
    "            .drawMarkers\n",
    "            .setName(\"points\")\n",
    "            .setMarker(marker)\n",
    "\n",
    "\n",
    "val hist2d_options = Hist2dOptions(ncontours = 20, reversescale = false, showscale = true)\n",
    "\n",
    "val series2 = XY(x, y) \n",
    "            .setName(\"density\")\n",
    "            .asType(HISTOGRAM2DCONTOUR)\n",
    "            .setHist2dOptions(hist2d_options)\n",
    "\n",
    "val series3 = XY(x = x)\n",
    "            .asType(HISTOGRAM)\n",
    "            .setName(\"histogram\")\n",
    "            .setAxes(x1, y2)\n",
    "\n",
    "val series4 = (XY(y)\n",
    "            .setName(\"y density\")\n",
    "            .asType(HISTOGRAM)\n",
    "            .setAxis(x2)\n",
    "            .setMarker(marker)\n",
    "            .setHistOptions(HistOptions(orientation = HORIZONTAL)))\n",
    "\n",
    "val layout = (\n",
    "    ChartLayout(\"Histogram2dContour With Density\", auto_size = false, show_legend = false) \n",
    "    setAxes(ax1, ax2, ax3, ax4)\n",
    ")\n",
    "\n",
    "val chart = Chart() addSeries(series1, series2, series3, series4) setChartLayout layout\n",
    "\n",
    "chart.plotInline"
   ]
  },
  {
   "cell_type": "markdown",
   "metadata": {},
   "source": [
    "### 3D Charts\n",
    "\n",
    "3D charts are constructed using a `XYZ` series as they take in 3 `Series`' to create a single point.\n",
    "\n",
    "The Picta API does not accept nested lists, however the underlying Plotlyjs render does. In order to render any series that will make use of a nested list, we must flatten and provide the length of an element (before the list was flattened).\n",
    "\n",
    "The following examples will make it clearer.\n",
    "\n",
    "#### Contour"
   ]
  },
  {
   "cell_type": "code",
   "execution_count": 36,
   "metadata": {},
   "outputs": [],
   "source": [
    "// lets create some dummy adata for the third dimension\n",
    "val x = List(-9, -6, -5 , -3, -1)\n",
    "val y = List(0, 1, 4, 5, 7)\n",
    "val z = List(\n",
    "    List(10, 10.625, 12.5, 15.625, 20),\n",
    "    List(5.625, 6.25, 8.125, 11.25, 15.625),\n",
    "    List(2.5, 3.125, 5.0, 8.125, 12.5),\n",
    "    List(0.625, 1.25, 3.125, 6.25, 10.625),\n",
    "    List(0, 0.625, 2.5, 5.625, 10)\n",
    ")"
   ]
  },
  {
   "cell_type": "code",
   "execution_count": 37,
   "metadata": {},
   "outputs": [
    {
     "data": {
      "text/html": [
       "<div id=\"grid-container_6a7RF6snzX\" class=\"grid-container\" align=\"center\"> \n",
       "<div id=\"grid_6a7RF6snzX\" class=\"grid\" align=\"center\"> \n",
       "<div id=\"graph_5W4Pf1balf\" class=\"graph\"></div> \n",
       "</div> \n",
       "</div> \n",
       "<script>\n",
       "var masonry = new Macy({\n",
       "    container: '#grid_6a7RF6snzX',\n",
       "    debug: true,\n",
       "    mobileFirst: true,\n",
       "    columns: 1,\n",
       "    margin: {\n",
       "        x: 0,\n",
       "        y: 0\n",
       "    }\n",
       "  });\n",
       "\n",
       "  var traces_5W4Pf1balf = [{\"name\":\"52N0S7qQVx\",\"type\":\"contour\",\"x\":[-9,-6,-5,-3,-1],\"y\":[0,1,4,5,7],\"z\":[[10,10.625,12.5,15.625,20],[5.625,6.25,8.125,11.25,15.625],[2.5,3.125,5,8.125,12.5],[0.625,1.25,3.125,6.25,10.625],[0,0.625,2.5,5.625,10]]}];\n",
       " var layout_5W4Pf1balf = {\"height\":550,\"width\":600,\"hovermode\":\"closest\",\"title\":{\"text\":\"Contour\"},\"showlegend\":true};\n",
       " var config_5W4Pf1balf = {\"responsive\":true,\"scrollZoom\":true,\"displaylogo\":false};\n",
       " Plotly.newPlot(\"graph_5W4Pf1balf\", traces_5W4Pf1balf, layout_5W4Pf1balf, config_5W4Pf1balf);\n",
       "</script> \n"
      ]
     },
     "metadata": {},
     "output_type": "display_data"
    }
   ],
   "source": [
    "// we flatten the nested list as we pass it into the Series constructor\n",
    "val series = XYZ(x=x, y=y, z=z.flatten, n=z(0).length).asType(CONTOUR)\n",
    "\n",
    "// set up the chart\n",
    "val chart = Chart()\n",
    "            .addSeries(series)\n",
    "            .setTitle(\"Contour\")\n",
    "\n",
    "// plot the chart\n",
    "chart.plotInline"
   ]
  },
  {
   "cell_type": "markdown",
   "metadata": {},
   "source": [
    "#### Heatmap"
   ]
  },
  {
   "cell_type": "code",
   "execution_count": 38,
   "metadata": {
    "scrolled": false
   },
   "outputs": [],
   "source": [
    "// create a new nested list for the heatmap\n",
    "val z = List.range(1, 101).map(e => e + scala.util.Random.nextDouble()*100).grouped(10).toList"
   ]
  },
  {
   "cell_type": "code",
   "execution_count": 39,
   "metadata": {},
   "outputs": [
    {
     "data": {
      "text/html": [
       "<div id=\"grid-container_mMEZVL6yOl\" class=\"grid-container\" align=\"center\"> \n",
       "<div id=\"grid_mMEZVL6yOl\" class=\"grid\" align=\"center\"> \n",
       "<div id=\"graph_5YC2d0Osde\" class=\"graph\"></div> \n",
       "</div> \n",
       "</div> \n",
       "<script>\n",
       "var masonry = new Macy({\n",
       "    container: '#grid_mMEZVL6yOl',\n",
       "    debug: true,\n",
       "    mobileFirst: true,\n",
       "    columns: 1,\n",
       "    margin: {\n",
       "        x: 0,\n",
       "        y: 0\n",
       "    }\n",
       "  });\n",
       "\n",
       "  var traces_5YC2d0Osde = [{\"name\":\"6SomHai12r\",\"type\":\"heatmap\",\"z\":[[35.637693821325314,16.125042235098373,24.31156266726766,13.907162871088392,9.615983173999261,90.55125358376989,101.53808479109826,91.5103657584883,42.81085822091053,68.82578181435666],[82.3172002052357,77.69011197029826,70.24502501228437,86.50686042146593,43.199215462488695,18.801949191753206,66.64801476612666,38.267560651397176,46.88923976130589,101.04712355847879],[112.52882921982568,105.24679448386964,26.446353102138932,85.04046987675,111.36753102171203,114.39163711019533,126.27344814591459,87.42850848495081,95.56310660126515,33.27295756116383],[79.57601369876187,52.34641021242325,53.013231395697495,48.876016819990625,79.01904532093724,95.8345794546126,91.06478597722656,39.51209824366442,114.9869898554552,112.29262172206784],[130.06234195780388,125.2668447964857,114.15235238859172,103.63045381915879,84.83504711214181,74.29548003825258,109.98452043609024,128.98341617677573,49.200643275304145,149.79462209710067],[116.38098137585482,75.69020746227228,145.92865138035444,105.62492772077417,55.77901391602558,120.68955709098549,142.59300186041133,77.3283597226455,113.9066503297922,85.57350450521307],[62.357700717691124,69.67835886256927,154.7574970556612,88.24229587433268,137.97738712078882,111.92078583053429,131.42479254834944,159.4378100503635,167.15792895612924,137.5079599958878],[71.10588489195544,123.38956451397338,127.91048256742471,146.39775547974946,95.88902185532078,138.38933229583813,103.64569557682876,124.8841091409478,164.86021609927252,155.3174385241988],[149.49306895198288,130.44497673750564,87.61865031119152,179.9758183750522,103.69374202073091,97.23817212189536,164.4649459893925,118.5400274860549,110.90322028758888,181.6451554291628],[154.3273165432801,144.52429735523543,177.85391113937203,146.6572974912232,157.91647472966446,150.3608882873329,126.06553885393726,178.91872824069372,130.65091438135352,137.02694168744299]]}];\n",
       " var layout_5YC2d0Osde = {\"height\":550,\"width\":600,\"hovermode\":\"closest\",\"title\":{\"text\":\"Heatmap\"},\"showlegend\":true};\n",
       " var config_5YC2d0Osde = {\"responsive\":true,\"scrollZoom\":true,\"displaylogo\":false};\n",
       " Plotly.newPlot(\"graph_5YC2d0Osde\", traces_5YC2d0Osde, layout_5YC2d0Osde, config_5YC2d0Osde);\n",
       "</script> \n"
      ]
     },
     "metadata": {},
     "output_type": "display_data"
    }
   ],
   "source": [
    "// we get the length of an element of the nested list\n",
    "val n = z(0).length\n",
    "\n",
    "// we now flatten the list and pass it into Series constructor, as well as 'n', the length of an element so that the \n",
    "// heatmap dimensions are correctly constructed\n",
    "val series = XYZ(z=z.flatten, n=n) asType HEATMAP\n",
    "\n",
    "val chart = Chart().addSeries(series).setTitle(\"Heatmap\")\n",
    "\n",
    "chart.plotInline"
   ]
  },
  {
   "cell_type": "markdown",
   "metadata": {},
   "source": [
    "#### Scatter3D"
   ]
  },
  {
   "cell_type": "code",
   "execution_count": 40,
   "metadata": {
    "scrolled": false
   },
   "outputs": [
    {
     "data": {
      "text/html": [
       "<div id=\"grid-container_MtvMTQbX16\" class=\"grid-container\" align=\"center\"> \n",
       "<div id=\"grid_MtvMTQbX16\" class=\"grid\" align=\"center\"> \n",
       "<div id=\"graph_UqtH7uYkmJ\" class=\"graph\"></div> \n",
       "</div> \n",
       "</div> \n",
       "<script>\n",
       "var masonry = new Macy({\n",
       "    container: '#grid_MtvMTQbX16',\n",
       "    debug: true,\n",
       "    mobileFirst: true,\n",
       "    columns: 1,\n",
       "    margin: {\n",
       "        x: 0,\n",
       "        y: 0\n",
       "    }\n",
       "  });\n",
       "\n",
       "  var traces_UqtH7uYkmJ = [{\"name\":\"916U00hCLN\",\"type\":\"scatter3d\",\"mode\":\"markers\",\"x\":[1,2,3,4,5,6,7,8,9,10,11,12,13,14,15,16,17,18,19,20,21,22,23,24,25,26,27,28,29,30,31,32,33,34,35,36,37,38,39,40,41,42,43,44,45,46,47,48,49,50,51,52,53,54,55,56,57,58,59,60,61,62,63,64,65,66,67,68,69,70,71,72,73,74,75,76,77,78,79,80,81,82,83,84,85,86,87,88,89,90,91,92,93,94,95,96,97,98,99],\"y\":[1,2,3,4,5,6,7,8,9,10,11,12,13,14,15,16,17,18,19,20,21,22,23,24,25,26,27,28,29,30,31,32,33,34,35,36,37,38,39,40,41,42,43,44,45,46,47,48,49,50,51,52,53,54,55,56,57,58,59,60,61,62,63,64,65,66,67,68,69,70,71,72,73,74,75,76,77,78,79,80,81,82,83,84,85,86,87,88,89,90,91,92,93,94,95,96,97,98,99],\"z\":[88.13213109665124,89.0052833143008,33.55170706871212,88.12991217309182,42.93115814812652,31.967675856743732,45.72537126215363,43.782828446076294,15.481027764172786,44.1425713846674,86.51626240764988,62.93513620056734,60.054788870178356,69.45078618787332,44.887387071540445,89.71223806556004,64.63805139998064,47.15578855782695,91.51865184818574,67.01436868076942,92.58387760269733,115.88967235279426,51.779890423979396,103.38575606818678,32.659708021944766,82.48673199779304,90.97319129741763,37.584752251922566,122.19888272815392,114.50222517371631,120.55120903789174,104.11726433688037,37.46376401268061,51.719620968662255,108.72514182011297,97.23411820573358,90.34710018158947,109.00051605574737,119.20808692915251,115.75622205153252,131.18269494648385,60.507078055761,107.79656783484117,46.579704710851516,133.7060893727661,53.62773703059369,78.07500780176258,110.82649926307678,130.10037637740845,99.86257116935889,134.73494590320752,53.3440913425632,71.58191926515559,129.47566406245446,75.83289346748404,103.62146583066291,113.12516040702499,76.89743244263914,133.7676903755993,74.17651902266948,159.6953473241304,84.66076885476136,108.84025731737893,91.08354971562437,65.75244198978967,75.08057944884175,138.9657327270619,70.5476754390482,149.80907124133813,140.93708539743494,114.43994390466918,165.2963061449908,171.46987146054764,149.0990704954889,77.61922473422578,105.04610983344264,119.64915795198452,134.32397959010822,143.9546188534186,146.41718109085815,177.55829861565013,84.39761569531832,143.0285537359078,129.4043698929687,162.5738040081091,182.32692594581476,106.07407235217109,109.87907092807049,187.24159961680252,176.47515694538242,119.91375279429543,100.58300004696312,151.44251468824288,95.32944194576649,126.33751311303357,106.68879540635976,155.1385234581284,110.01667353166759,170.6454455705632]}];\n",
       " var layout_UqtH7uYkmJ = {\"height\":550,\"width\":600,\"hovermode\":\"closest\",\"title\":{\"text\":\"XYZ.Scatter3D\"},\"showlegend\":true};\n",
       " var config_UqtH7uYkmJ = {\"responsive\":false,\"scrollZoom\":false,\"displaylogo\":false};\n",
       " Plotly.newPlot(\"graph_UqtH7uYkmJ\", traces_UqtH7uYkmJ, layout_UqtH7uYkmJ, config_UqtH7uYkmJ);\n",
       "</script> \n"
      ]
     },
     "metadata": {},
     "output_type": "display_data"
    }
   ],
   "source": [
    "val x = List.range(1, 100)\n",
    "val y = List.range(1, 100)\n",
    "val z = List.range(1, 100).map(e => e + scala.util.Random.nextDouble()*100)\n",
    "\n",
    "val series = XYZ(x, y, z).asType(SCATTER3D).drawStyle(MARKERS)\n",
    "val chart1 = Chart() addSeries series setTitle \"XYZ.Scatter3D\" setConfig(false, false)\n",
    "val canvas = Canvas() addCharts chart1\n",
    "canvas.plotInline"
   ]
  },
  {
   "cell_type": "markdown",
   "metadata": {},
   "source": [
    "#### Surface Plot"
   ]
  },
  {
   "cell_type": "code",
   "execution_count": 41,
   "metadata": {
    "scrolled": false
   },
   "outputs": [
    {
     "data": {
      "text/html": [
       "<div id=\"grid-container_nKScEQiX78\" class=\"grid-container\" align=\"center\"> \n",
       "<div id=\"grid_nKScEQiX78\" class=\"grid\" align=\"center\"> \n",
       "<div id=\"graph_A2FPF4kGQp\" class=\"graph\"></div> \n",
       "</div> \n",
       "</div> \n",
       "<script>\n",
       "var masonry = new Macy({\n",
       "    container: '#grid_nKScEQiX78',\n",
       "    debug: true,\n",
       "    mobileFirst: true,\n",
       "    columns: 1,\n",
       "    margin: {\n",
       "        x: 0,\n",
       "        y: 0\n",
       "    }\n",
       "  });\n",
       "\n",
       "  var traces_A2FPF4kGQp = [{\"name\":\"NbHHLUNN5J\",\"type\":\"surface\",\"colorbar\":{\"title\":{\"text\":\"Altitude\",\"side\":\"right\"}},\"z\":[[8.83,8.89,8.81,8.87,8.9,8.87],[8.89,8.94,8.85,8.94,8.96,8.92],[8.84,8.9,8.82,8.92,8.93,8.91],[8.79,8.85,8.79,8.9,8.94,8.92],[8.79,8.88,8.81,8.9,8.95,8.92],[8.8,8.82,8.78,8.91,8.94,8.92],[8.75,8.78,8.77,8.91,8.95,8.92],[8.8,8.8,8.77,8.91,8.95,8.94],[8.74,8.81,8.76,8.93,8.98,8.99],[8.89,8.99,8.92,9.1,9.13,9.11],[8.97,8.97,8.91,9.09,9.11,9.11],[9.04,9.08,9.05,9.25,9.28,9.27],[9,9.01,9,9.2,9.23,9.2],[8.99,8.99,8.98,9.18,9.2,9.19],[8.93,8.97,8.97,9.18,9.2,9.18]]}];\n",
       " var layout_A2FPF4kGQp = {\"height\":550,\"width\":600,\"hovermode\":\"closest\",\"title\":{\"text\":\"Surface\"},\"showlegend\":true};\n",
       " var config_A2FPF4kGQp = {\"responsive\":true,\"scrollZoom\":true,\"displaylogo\":false};\n",
       " Plotly.newPlot(\"graph_A2FPF4kGQp\", traces_A2FPF4kGQp, layout_A2FPF4kGQp, config_A2FPF4kGQp);\n",
       "</script> \n"
      ]
     },
     "metadata": {},
     "output_type": "display_data"
    }
   ],
   "source": [
    "// 3d surface plot\n",
    "val k = List(\n",
    "    List(8.83,8.89,8.81,8.87,8.9,8.87),\n",
    "    List(8.89,8.94,8.85,8.94,8.96,8.92),\n",
    "    List(8.84,8.9,8.82,8.92,8.93,8.91),\n",
    "    List(8.79,8.85,8.79,8.9,8.94,8.92),\n",
    "    List(8.79,8.88,8.81,8.9,8.95,8.92),\n",
    "    List(8.8,8.82,8.78,8.91,8.94,8.92),\n",
    "    List(8.75,8.78,8.77,8.91,8.95,8.92),\n",
    "    List(8.8,8.8,8.77,8.91,8.95,8.94),\n",
    "    List(8.74,8.81,8.76,8.93,8.98,8.99),\n",
    "    List(8.89,8.99,8.92,9.1,9.13,9.11),\n",
    "    List(8.97,8.97,8.91,9.09,9.11,9.11),\n",
    "    List(9.04,9.08,9.05,9.25,9.28,9.27),\n",
    "    List(9,9.01,9,9.2,9.23,9.2),\n",
    "    List(8.99,8.99,8.98,9.18,9.2,9.19),\n",
    "    List(8.93,8.97,8.97,9.18,9.2,9.18)\n",
    "  )\n",
    "\n",
    "val series = XYZ(z=k.flatten, n = k(0).length) asType SURFACE setColorBar(\"Altitude\", RIGHT_SIDE)\n",
    "val chart2 = Chart() addSeries series setTitle \"Surface\"\n",
    "\n",
    "chart2.plotInline"
   ]
  },
  {
   "cell_type": "markdown",
   "metadata": {},
   "source": [
    "#### Third Dimension as Color"
   ]
  },
  {
   "cell_type": "code",
   "execution_count": 42,
   "metadata": {},
   "outputs": [
    {
     "data": {
      "text/html": [
       "<div id=\"grid-container_F9QcKFBV6D\" class=\"grid-container\" align=\"center\"> \n",
       "<div id=\"grid_F9QcKFBV6D\" class=\"grid\" align=\"center\"> \n",
       "<div id=\"graph_OCGPhf118o\" class=\"graph\"></div> \n",
       "</div> \n",
       "</div> \n",
       "<script>\n",
       "var masonry = new Macy({\n",
       "    container: '#grid_F9QcKFBV6D',\n",
       "    debug: true,\n",
       "    mobileFirst: true,\n",
       "    columns: 1,\n",
       "    margin: {\n",
       "        x: 0,\n",
       "        y: 0\n",
       "    }\n",
       "  });\n",
       "\n",
       "  var traces_OCGPhf118o = [{\"name\":\"7M58ZtNnTr\",\"type\":\"scatter\",\"mode\":\"markers\",\"marker\":{\"color\":[88.13213109665124,89.0052833143008,33.55170706871212,88.12991217309182,42.93115814812652,31.967675856743732,45.72537126215363,43.782828446076294,15.481027764172786,44.1425713846674,86.51626240764988,62.93513620056734,60.054788870178356,69.45078618787332,44.887387071540445,89.71223806556004,64.63805139998064,47.15578855782695,91.51865184818574,67.01436868076942,92.58387760269733,115.88967235279426,51.779890423979396,103.38575606818678,32.659708021944766,82.48673199779304,90.97319129741763,37.584752251922566,122.19888272815392,114.50222517371631,120.55120903789174,104.11726433688037,37.46376401268061,51.719620968662255,108.72514182011297,97.23411820573358,90.34710018158947,109.00051605574737,119.20808692915251,115.75622205153252,131.18269494648385,60.507078055761,107.79656783484117,46.579704710851516,133.7060893727661,53.62773703059369,78.07500780176258,110.82649926307678,130.10037637740845,99.86257116935889,134.73494590320752,53.3440913425632,71.58191926515559,129.47566406245446,75.83289346748404,103.62146583066291,113.12516040702499,76.89743244263914,133.7676903755993,74.17651902266948,159.6953473241304,84.66076885476136,108.84025731737893,91.08354971562437,65.75244198978967,75.08057944884175,138.9657327270619,70.5476754390482,149.80907124133813,140.93708539743494,114.43994390466918,165.2963061449908,171.46987146054764,149.0990704954889,77.61922473422578,105.04610983344264,119.64915795198452,134.32397959010822,143.9546188534186,146.41718109085815,177.55829861565013,84.39761569531832,143.0285537359078,129.4043698929687,162.5738040081091,182.32692594581476,106.07407235217109,109.87907092807049,187.24159961680252,176.47515694538242,119.91375279429543,100.58300004696312,151.44251468824288,95.32944194576649,126.33751311303357,106.68879540635976,155.1385234581284,110.01667353166759,170.6454455705632],\"colorbar\":{\"title\":{\"text\":\"3rd Dimension\",\"side\":\"right\"}}},\"x\":[1,2,3,4,5,6,7,8,9,10,11,12,13,14,15,16,17,18,19,20,21,22,23,24,25,26,27,28,29,30,31,32,33,34,35,36,37,38,39,40,41,42,43,44,45,46,47,48,49,50,51,52,53,54,55,56,57,58,59,60,61,62,63,64,65,66,67,68,69,70,71,72,73,74,75,76,77,78,79,80,81,82,83,84,85,86,87,88,89,90,91,92,93,94,95,96,97,98,99],\"y\":[1,2,3,4,5,6,7,8,9,10,11,12,13,14,15,16,17,18,19,20,21,22,23,24,25,26,27,28,29,30,31,32,33,34,35,36,37,38,39,40,41,42,43,44,45,46,47,48,49,50,51,52,53,54,55,56,57,58,59,60,61,62,63,64,65,66,67,68,69,70,71,72,73,74,75,76,77,78,79,80,81,82,83,84,85,86,87,88,89,90,91,92,93,94,95,96,97,98,99]}];\n",
       " var layout_OCGPhf118o = {\"height\":550,\"width\":600,\"hovermode\":\"closest\",\"title\":{\"text\":\"Scatter With Color\"},\"showlegend\":false};\n",
       " var config_OCGPhf118o = {\"responsive\":true,\"scrollZoom\":true,\"displaylogo\":false};\n",
       " Plotly.newPlot(\"graph_OCGPhf118o\", traces_OCGPhf118o, layout_OCGPhf118o, config_OCGPhf118o);\n",
       "</script> \n"
      ]
     },
     "metadata": {},
     "output_type": "display_data"
    }
   ],
   "source": [
    "// multiple compositions can be used to create scatter charts with a color representing some third dimension\n",
    "val series = (\n",
    "    XY(x, y) \n",
    "    asType SCATTER \n",
    "    drawStyle MARKERS \n",
    "    setMarker marker \n",
    "    setColor z \n",
    "    setColorBar(\"3rd Dimension\", RIGHT_SIDE)\n",
    ")\n",
    "\n",
    "val chart3 = Chart() addSeries series setTitle \"Scatter With Color\" showLegend false\n",
    "chart3.plotInline"
   ]
  },
  {
   "cell_type": "markdown",
   "metadata": {},
   "source": [
    "#### Subplot\n",
    "\n",
    "The Subplot class can be used to generate subplots for an XYZ plots just as we did previously."
   ]
  },
  {
   "cell_type": "code",
   "execution_count": 43,
   "metadata": {},
   "outputs": [
    {
     "data": {
      "text/html": [
       "<div id=\"grid-container_WcLt8aouLG\" class=\"grid-container\" align=\"center\"> \n",
       "<div id=\"grid_WcLt8aouLG\" class=\"grid\" align=\"center\"> \n",
       "<div id=\"graph_gl1Z55uGas\" class=\"graph\"></div> \n",
       "<div id=\"graph_d0gNards76\" class=\"graph\"></div> \n",
       "<div id=\"graph_vyvKfcEnIF\" class=\"graph\"></div> \n",
       "<div id=\"graph_MZNaJFI8Ii\" class=\"graph\"></div> \n",
       "</div> \n",
       "</div> \n",
       "\n",
       "<div align=\"center\">\n",
       "<button id = \"saveAsPNG_WcLt8aouLG\" class=\"picta-button\">Download Canvas as PNG</button>\n",
       "</div>\n",
       "<script>\n",
       "var masonry = new Macy({\n",
       "    container: '#grid_WcLt8aouLG',\n",
       "    debug: true,\n",
       "    mobileFirst: true,\n",
       "    columns: 2,\n",
       "    margin: {\n",
       "        x: 0,\n",
       "        y: 0\n",
       "    }\n",
       "  });\n",
       "\n",
       "  var traces_gl1Z55uGas = [{\"name\":\"916U00hCLN\",\"type\":\"scatter3d\",\"mode\":\"markers\",\"x\":[1,2,3,4,5,6,7,8,9,10,11,12,13,14,15,16,17,18,19,20,21,22,23,24,25,26,27,28,29,30,31,32,33,34,35,36,37,38,39,40,41,42,43,44,45,46,47,48,49,50,51,52,53,54,55,56,57,58,59,60,61,62,63,64,65,66,67,68,69,70,71,72,73,74,75,76,77,78,79,80,81,82,83,84,85,86,87,88,89,90,91,92,93,94,95,96,97,98,99],\"y\":[1,2,3,4,5,6,7,8,9,10,11,12,13,14,15,16,17,18,19,20,21,22,23,24,25,26,27,28,29,30,31,32,33,34,35,36,37,38,39,40,41,42,43,44,45,46,47,48,49,50,51,52,53,54,55,56,57,58,59,60,61,62,63,64,65,66,67,68,69,70,71,72,73,74,75,76,77,78,79,80,81,82,83,84,85,86,87,88,89,90,91,92,93,94,95,96,97,98,99],\"z\":[88.13213109665124,89.0052833143008,33.55170706871212,88.12991217309182,42.93115814812652,31.967675856743732,45.72537126215363,43.782828446076294,15.481027764172786,44.1425713846674,86.51626240764988,62.93513620056734,60.054788870178356,69.45078618787332,44.887387071540445,89.71223806556004,64.63805139998064,47.15578855782695,91.51865184818574,67.01436868076942,92.58387760269733,115.88967235279426,51.779890423979396,103.38575606818678,32.659708021944766,82.48673199779304,90.97319129741763,37.584752251922566,122.19888272815392,114.50222517371631,120.55120903789174,104.11726433688037,37.46376401268061,51.719620968662255,108.72514182011297,97.23411820573358,90.34710018158947,109.00051605574737,119.20808692915251,115.75622205153252,131.18269494648385,60.507078055761,107.79656783484117,46.579704710851516,133.7060893727661,53.62773703059369,78.07500780176258,110.82649926307678,130.10037637740845,99.86257116935889,134.73494590320752,53.3440913425632,71.58191926515559,129.47566406245446,75.83289346748404,103.62146583066291,113.12516040702499,76.89743244263914,133.7676903755993,74.17651902266948,159.6953473241304,84.66076885476136,108.84025731737893,91.08354971562437,65.75244198978967,75.08057944884175,138.9657327270619,70.5476754390482,149.80907124133813,140.93708539743494,114.43994390466918,165.2963061449908,171.46987146054764,149.0990704954889,77.61922473422578,105.04610983344264,119.64915795198452,134.32397959010822,143.9546188534186,146.41718109085815,177.55829861565013,84.39761569531832,143.0285537359078,129.4043698929687,162.5738040081091,182.32692594581476,106.07407235217109,109.87907092807049,187.24159961680252,176.47515694538242,119.91375279429543,100.58300004696312,151.44251468824288,95.32944194576649,126.33751311303357,106.68879540635976,155.1385234581284,110.01667353166759,170.6454455705632]}];\n",
       " var layout_gl1Z55uGas = {\"height\":350,\"width\":350,\"hovermode\":\"closest\",\"title\":{\"text\":\"XYZ.Scatter3D\"},\"showlegend\":true,\"margin\":{\"l\":50,\"r\":50,\"t\":50,\"b\":50}};\n",
       " var config_gl1Z55uGas = {\"responsive\":false,\"scrollZoom\":false,\"displaylogo\":false};\n",
       " Plotly.newPlot(\"graph_gl1Z55uGas\", traces_gl1Z55uGas, layout_gl1Z55uGas, config_gl1Z55uGas);\n",
       "\n",
       "  var traces_d0gNards76 = [{\"name\":\"NbHHLUNN5J\",\"type\":\"surface\",\"colorbar\":{\"title\":{\"text\":\"Altitude\",\"side\":\"right\"}},\"z\":[[8.83,8.89,8.81,8.87,8.9,8.87],[8.89,8.94,8.85,8.94,8.96,8.92],[8.84,8.9,8.82,8.92,8.93,8.91],[8.79,8.85,8.79,8.9,8.94,8.92],[8.79,8.88,8.81,8.9,8.95,8.92],[8.8,8.82,8.78,8.91,8.94,8.92],[8.75,8.78,8.77,8.91,8.95,8.92],[8.8,8.8,8.77,8.91,8.95,8.94],[8.74,8.81,8.76,8.93,8.98,8.99],[8.89,8.99,8.92,9.1,9.13,9.11],[8.97,8.97,8.91,9.09,9.11,9.11],[9.04,9.08,9.05,9.25,9.28,9.27],[9,9.01,9,9.2,9.23,9.2],[8.99,8.99,8.98,9.18,9.2,9.19],[8.93,8.97,8.97,9.18,9.2,9.18]]}];\n",
       " var layout_d0gNards76 = {\"height\":350,\"width\":350,\"hovermode\":\"closest\",\"title\":{\"text\":\"Surface\"},\"showlegend\":true,\"margin\":{\"l\":50,\"r\":50,\"t\":50,\"b\":50}};\n",
       " var config_d0gNards76 = {\"responsive\":true,\"scrollZoom\":true,\"displaylogo\":false};\n",
       " Plotly.newPlot(\"graph_d0gNards76\", traces_d0gNards76, layout_d0gNards76, config_d0gNards76);\n",
       "\n",
       "  var traces_vyvKfcEnIF = [{\"name\":\"7M58ZtNnTr\",\"type\":\"scatter\",\"mode\":\"markers\",\"marker\":{\"color\":[88.13213109665124,89.0052833143008,33.55170706871212,88.12991217309182,42.93115814812652,31.967675856743732,45.72537126215363,43.782828446076294,15.481027764172786,44.1425713846674,86.51626240764988,62.93513620056734,60.054788870178356,69.45078618787332,44.887387071540445,89.71223806556004,64.63805139998064,47.15578855782695,91.51865184818574,67.01436868076942,92.58387760269733,115.88967235279426,51.779890423979396,103.38575606818678,32.659708021944766,82.48673199779304,90.97319129741763,37.584752251922566,122.19888272815392,114.50222517371631,120.55120903789174,104.11726433688037,37.46376401268061,51.719620968662255,108.72514182011297,97.23411820573358,90.34710018158947,109.00051605574737,119.20808692915251,115.75622205153252,131.18269494648385,60.507078055761,107.79656783484117,46.579704710851516,133.7060893727661,53.62773703059369,78.07500780176258,110.82649926307678,130.10037637740845,99.86257116935889,134.73494590320752,53.3440913425632,71.58191926515559,129.47566406245446,75.83289346748404,103.62146583066291,113.12516040702499,76.89743244263914,133.7676903755993,74.17651902266948,159.6953473241304,84.66076885476136,108.84025731737893,91.08354971562437,65.75244198978967,75.08057944884175,138.9657327270619,70.5476754390482,149.80907124133813,140.93708539743494,114.43994390466918,165.2963061449908,171.46987146054764,149.0990704954889,77.61922473422578,105.04610983344264,119.64915795198452,134.32397959010822,143.9546188534186,146.41718109085815,177.55829861565013,84.39761569531832,143.0285537359078,129.4043698929687,162.5738040081091,182.32692594581476,106.07407235217109,109.87907092807049,187.24159961680252,176.47515694538242,119.91375279429543,100.58300004696312,151.44251468824288,95.32944194576649,126.33751311303357,106.68879540635976,155.1385234581284,110.01667353166759,170.6454455705632],\"colorbar\":{\"title\":{\"text\":\"3rd Dimension\",\"side\":\"right\"}}},\"x\":[1,2,3,4,5,6,7,8,9,10,11,12,13,14,15,16,17,18,19,20,21,22,23,24,25,26,27,28,29,30,31,32,33,34,35,36,37,38,39,40,41,42,43,44,45,46,47,48,49,50,51,52,53,54,55,56,57,58,59,60,61,62,63,64,65,66,67,68,69,70,71,72,73,74,75,76,77,78,79,80,81,82,83,84,85,86,87,88,89,90,91,92,93,94,95,96,97,98,99],\"y\":[1,2,3,4,5,6,7,8,9,10,11,12,13,14,15,16,17,18,19,20,21,22,23,24,25,26,27,28,29,30,31,32,33,34,35,36,37,38,39,40,41,42,43,44,45,46,47,48,49,50,51,52,53,54,55,56,57,58,59,60,61,62,63,64,65,66,67,68,69,70,71,72,73,74,75,76,77,78,79,80,81,82,83,84,85,86,87,88,89,90,91,92,93,94,95,96,97,98,99]}];\n",
       " var layout_vyvKfcEnIF = {\"height\":350,\"width\":350,\"hovermode\":\"closest\",\"title\":{\"text\":\"Scatter With Color\"},\"showlegend\":false,\"margin\":{\"l\":50,\"r\":50,\"t\":50,\"b\":50}};\n",
       " var config_vyvKfcEnIF = {\"responsive\":true,\"scrollZoom\":true,\"displaylogo\":false};\n",
       " Plotly.newPlot(\"graph_vyvKfcEnIF\", traces_vyvKfcEnIF, layout_vyvKfcEnIF, config_vyvKfcEnIF);\n",
       "\n",
       "  var traces_MZNaJFI8Ii = [{\"name\":\"6SomHai12r\",\"type\":\"heatmap\",\"z\":[[35.637693821325314,16.125042235098373,24.31156266726766,13.907162871088392,9.615983173999261,90.55125358376989,101.53808479109826,91.5103657584883,42.81085822091053,68.82578181435666],[82.3172002052357,77.69011197029826,70.24502501228437,86.50686042146593,43.199215462488695,18.801949191753206,66.64801476612666,38.267560651397176,46.88923976130589,101.04712355847879],[112.52882921982568,105.24679448386964,26.446353102138932,85.04046987675,111.36753102171203,114.39163711019533,126.27344814591459,87.42850848495081,95.56310660126515,33.27295756116383],[79.57601369876187,52.34641021242325,53.013231395697495,48.876016819990625,79.01904532093724,95.8345794546126,91.06478597722656,39.51209824366442,114.9869898554552,112.29262172206784],[130.06234195780388,125.2668447964857,114.15235238859172,103.63045381915879,84.83504711214181,74.29548003825258,109.98452043609024,128.98341617677573,49.200643275304145,149.79462209710067],[116.38098137585482,75.69020746227228,145.92865138035444,105.62492772077417,55.77901391602558,120.68955709098549,142.59300186041133,77.3283597226455,113.9066503297922,85.57350450521307],[62.357700717691124,69.67835886256927,154.7574970556612,88.24229587433268,137.97738712078882,111.92078583053429,131.42479254834944,159.4378100503635,167.15792895612924,137.5079599958878],[71.10588489195544,123.38956451397338,127.91048256742471,146.39775547974946,95.88902185532078,138.38933229583813,103.64569557682876,124.8841091409478,164.86021609927252,155.3174385241988],[149.49306895198288,130.44497673750564,87.61865031119152,179.9758183750522,103.69374202073091,97.23817212189536,164.4649459893925,118.5400274860549,110.90322028758888,181.6451554291628],[154.3273165432801,144.52429735523543,177.85391113937203,146.6572974912232,157.91647472966446,150.3608882873329,126.06553885393726,178.91872824069372,130.65091438135352,137.02694168744299]]}];\n",
       " var layout_MZNaJFI8Ii = {\"height\":350,\"width\":350,\"hovermode\":\"closest\",\"title\":{\"text\":\"Heatmap\"},\"showlegend\":true,\"margin\":{\"l\":50,\"r\":50,\"t\":50,\"b\":50}};\n",
       " var config_MZNaJFI8Ii = {\"responsive\":true,\"scrollZoom\":true,\"displaylogo\":false};\n",
       " Plotly.newPlot(\"graph_MZNaJFI8Ii\", traces_MZNaJFI8Ii, layout_MZNaJFI8Ii, config_MZNaJFI8Ii);\n",
       "\n",
       "var save_WcLt8aouLG = document.getElementById(\"saveAsPNG_WcLt8aouLG\")\n",
       "save_WcLt8aouLG.onclick = function() {\n",
       "    const grid = document.getElementById(\"grid-container_WcLt8aouLG\")\n",
       "    const graphs = grid.getElementsByClassName(\"graph\")\n",
       "\n",
       "    const promises = []\n",
       "\n",
       "    const rows = 2\n",
       "    const cols = 2\n",
       "    const img_width = 400\n",
       "    const img_height = 400\n",
       "    var margin = 50\n",
       "\n",
       "    for (var i=0; i<graphs.length; i++) {\n",
       "        const promise = Plotly.toImage(graphs[i], {format: 'png', width: img_width, height: img_height})\n",
       "        promises.push(new Promise((resolve) => {\n",
       "            resolve(promise);\n",
       "        }));\n",
       "    }\n",
       "\n",
       "    Promise.all(promises).then((images) => {\n",
       "        const positioned_images = []\n",
       "\n",
       "        for (var i=0; i<rows; i++) {\n",
       "            for (var j=0; j<cols; j++) {\n",
       "\n",
       "                const obj = {\n",
       "                    \"src\": images[i*cols + j],\n",
       "                    x: i*img_width+margin,\n",
       "                    y: j*img_height+margin\n",
       "                }\n",
       "\n",
       "                positioned_images.push(obj)\n",
       "            }\n",
       "        }\n",
       "\n",
       "        mergeImages(positioned_images, {\n",
       "            width: img_width*cols+60, height: img_height*rows+60\n",
       "        })\n",
       "        .then(b64 => {\n",
       "            var a = document.createElement(\"a\");\n",
       "            a.href = b64;\n",
       "            a.download = \"Image.png\";\n",
       "            a.click();\n",
       "            a.remove()\n",
       "        });\n",
       "    });\n",
       "}\n",
       "</script> \n"
      ]
     },
     "metadata": {},
     "output_type": "display_data"
    }
   ],
   "source": [
    "// it may be necessary to play around with the chart dimensions and margin  in order to ensure a good fit on screen.\n",
    "val dim = 350\n",
    "\n",
    "// The canvas has an underlying grid. By default the underlying grid is 1x1, but we can pass in the dimensions we \n",
    "// require by passing in parameters in the constructor.\n",
    "Canvas(2, 2)\n",
    ".setChart(0, 0, chart1.setDimensions(width = dim, height = dim).setMargin(l=50, r=50, t=50, b=50))\n",
    ".setChart(0, 1, chart2.setDimensions(width = dim, height = dim)setMargin(l=50, r=50, t=50, b=50))\n",
    ".setChart(1, 0, chart3.setDimensions(width = dim, height = dim)setMargin(l=50, r=50, t=50, b=50))\n",
    ".setChart(1, 1, chart.setDimensions(width = dim, height = dim)setMargin(l=50, r=50, t=50, b=50))\n",
    ".plotInline"
   ]
  },
  {
   "cell_type": "markdown",
   "metadata": {},
   "source": [
    "#### Map\n",
    "\n",
    "We can also create maps using the composition technique below."
   ]
  },
  {
   "cell_type": "code",
   "execution_count": 44,
   "metadata": {},
   "outputs": [],
   "source": [
    "import org.carbonateresearch.picta.options.{Margin, Line}\n",
    "import org.carbonateresearch.picta.Map"
   ]
  },
  {
   "cell_type": "code",
   "execution_count": 45,
   "metadata": {},
   "outputs": [
    {
     "data": {
      "text/html": [
       "<div id=\"grid-container_eN1VXKT36R\" class=\"grid-container\" align=\"center\"> \n",
       "<div id=\"grid_eN1VXKT36R\" class=\"grid\" align=\"center\"> \n",
       "<div id=\"graph_MVC3s24ylx\" class=\"graph\"></div> \n",
       "</div> \n",
       "</div> \n",
       "<script>\n",
       "var masonry = new Macy({\n",
       "    container: '#grid_eN1VXKT36R',\n",
       "    debug: true,\n",
       "    mobileFirst: true,\n",
       "    columns: 1,\n",
       "    margin: {\n",
       "        x: 0,\n",
       "        y: 0\n",
       "    }\n",
       "  });\n",
       "\n",
       "  var traces_MVC3s24ylx = [{\"name\":\"gpaF5ozl6s\",\"lat\":[40.7127,51.5072],\"lon\":[-74.0059,0.1275],\"type\":\"scattergeo\",\"mode\":\"lines\",\"line\":{\"width\":2,\"color\":\"red\"}}];\n",
       " var layout_MVC3s24ylx = {\"height\":550,\"width\":600,\"hovermode\":\"closest\",\"showlegend\":true,\"geo\":{\"resolution\":50,\"showland\":true,\"showlakes\":true,\"coastlinewidth\":2,\"landcolor\":\"rgb(204, 204, 204)\",\"lakecolor\":\"rgb(255, 255, 255)\",\"lataxis\":{\"range\":[20,60],\"showgrid\":true,\"dtick\":10},\"lonaxis\":{\"range\":[-100,20],\"showgrid\":true,\"dtick\":10}},\"margin\":{\"l\":0,\"r\":0,\"t\":0,\"b\":0}};\n",
       " var config_MVC3s24ylx = {\"responsive\":false,\"scrollZoom\":false,\"displaylogo\":false};\n",
       " Plotly.newPlot(\"graph_MVC3s24ylx\", traces_MVC3s24ylx, layout_MVC3s24ylx, config_MVC3s24ylx);\n",
       "</script> \n"
      ]
     },
     "metadata": {},
     "output_type": "display_data"
    }
   ],
   "source": [
    "// draw a line on the map that is red\n",
    "val line = Line(width = 2) setColor \"red\"\n",
    "\n",
    "// construct the map Series. It is an XY chart as it takes in a List of Longitude and Latitude\n",
    "val series = Map(List(40.7127, 51.5072), List(-74.0059, 0.1275)) drawSymbol LINES drawLine line\n",
    "\n",
    "// These are options that further specify the options for the map\n",
    "val geo = MapOptions(landcolor = \"rgb(204, 204, 204)\", lakecolor = \"rgb(255, 255, 255)\")\n",
    "              .setMapAxes(LatAxis(List(20, 60)), LongAxis(List(-100, 20)))\n",
    "\n",
    "val chart = (\n",
    "    Chart() \n",
    "    addSeries series \n",
    "    setConfig(false, false)\n",
    "    setMapOptions geo\n",
    "    setMargin(l=0, r=0, t=0, b=0)\n",
    ")\n",
    "\n",
    "chart.plotInline"
   ]
  },
  {
   "cell_type": "markdown",
   "metadata": {},
   "source": [
    "### Animated Charts\n",
    "\n",
    "We can also create animated charts. This can be useful for tracking the evolution of a data over time.\n",
    "\n",
    "All `Series` types should be supported.\n",
    "\n",
    "#### 2D Animated Chart"
   ]
  },
  {
   "cell_type": "code",
   "execution_count": 46,
   "metadata": {},
   "outputs": [],
   "source": [
    "import org.carbonateresearch.picta.options.ColorOptions._\n",
    "\n",
    "def genRangeRandomInt(min: Int = 0, max: Int = 10000) = min + (max - min) * scala.util.Random.nextInt()\n",
    "def genRangeRandomDouble(min: Double = 0.0, max: Double = 10000.0) = min + (max - min) * scala.util.Random.nextDouble()\n",
    "\n",
    "// creates random XY for testing purposes\n",
    "def createXYSeries[T: Color]\n",
    "(numberToCreate: Int, count: Int = 0, length: Int = 10): List[XY[Double, Double, T, T]] = {\n",
    "    if (count == numberToCreate) Nil\n",
    "    else {\n",
    "      val xs = List.range(0, length).map(x => genRangeRandomDouble())\n",
    "      val ys = xs.map(x => genRangeRandomDouble())\n",
    "      val series = XY(x = xs, y = ys, name = \"series \" + count).drawMarkers\n",
    "      series :: createXYSeries(numberToCreate, count + 1, length)\n",
    "    }\n",
    "}\n",
    "\n",
    "def createXYZSeries(numberToCreate: Int, count: Int = 0, length: Int = 10): List[XYZ[Double, Double, Double]] = {\n",
    "    if (count == numberToCreate) Nil\n",
    "    else {\n",
    "      val xs = List.range(0, length).map(x => genRangeRandomDouble())\n",
    "      val ys = xs.map(x => genRangeRandomDouble())\n",
    "      val zs = xs.map(x => genRangeRandomDouble())\n",
    "      val series = XYZ(x = xs, y = ys, z = zs, name = \"series \" + count, `type` = SCATTER3D).drawMarkers\n",
    "      series :: createXYZSeries(numberToCreate, count + 1, length)\n",
    "    }\n",
    "}"
   ]
  },
  {
   "cell_type": "code",
   "execution_count": 47,
   "metadata": {
    "scrolled": false
   },
   "outputs": [
    {
     "data": {
      "text/html": [
       "<div id=\"grid-container_LahgPfPog4\" class=\"grid-container\" align=\"center\"> \n",
       "<div id=\"grid_LahgPfPog4\" class=\"grid\" align=\"center\"> \n",
       "\n",
       "<div align=\"center\">\n",
       "  <div id=\"graph_qqzzbXe8ii\" class=\"graph\"></div>\n",
       "  <div class=\"animationInterface\">\n",
       "    <button id=\"play_qqzzbXe8ii\" class=\"picta-button\">&#9658</button>\n",
       "    <button id=\"pause_qqzzbXe8ii\" class=\"picta-button\">&#9616;&#9616;</button>\n",
       "    <button id=\"prev_qqzzbXe8ii\" class=\"picta-button\"><</button>\n",
       "    <button id=\"next_qqzzbXe8ii\" class=\"picta-button\">></button>\n",
       "\n",
       "    <div id=\"sliderContainer_qqzzbXe8ii\" class=\"progressBar\"></div>\n",
       "    <div id=\"counterContainer_qqzzbXe8ii\" class=\"inline-div\">\n",
       "        <h3>Frame: </h3> <h3 id=\"value_qqzzbXe8ii\">0</h3>\n",
       "    </div>\n",
       "   </div>\n",
       "</div> \n",
       "\n",
       "</div> \n",
       "</div> \n",
       "<script>\n",
       "var masonry = new Macy({\n",
       "    container: '#grid_LahgPfPog4',\n",
       "    debug: true,\n",
       "    mobileFirst: true,\n",
       "    columns: 1,\n",
       "    margin: {\n",
       "        x: 0,\n",
       "        y: 0\n",
       "    }\n",
       "  });\n",
       "\n",
       "var graph_qqzzbXe8ii = document.getElementById('graph_qqzzbXe8ii')\n",
       "\n",
       "var layout_qqzzbXe8ii = {\"height\":550,\"width\":600,\"hovermode\":\"closest\",\"title\":{\"text\":\"Animation XY\"},\"showlegend\":true,\"xaxis\":{\"title\":{\"text\":\"X Variable\"},\"showgrid\":true,\"zeroline\":false,\"showline\":false,\"range\":[0,10000]},\"yaxis\":{\"title\":{\"text\":\"Y Variable\"},\"showgrid\":true,\"zeroline\":false,\"showline\":false,\"range\":[0,10000]}}\n",
       "var frames_qqzzbXe8ii = [{\"name\":\"series 0 (F0)\",\"data\":[{\"name\":\"series 0 (F0)\",\"type\":\"scatter\",\"mode\":\"markers\",\"x\":[8849.895151905306,2493.525547532497,3772.704968847974,4835.8949830485135,9025.449272635944,5699.230216138119,1873.4232236348403,1498.8030762891458,4636.528155100911,5433.276160319016,6394.363001185522,9504.538750514848,514.8982984291706,8567.797520746903,2504.3260762460227,7508.510713915929,5576.573391058625,3505.3642918275295,216.5778461765322,8860.41383651514,9926.23192573135,2826.3119370962318,3891.588712613162,5785.049900613727,1121.456328787296,6862.933399867529,1839.0809061173497,8213.922532240003,4749.689412111835,660.5626974759105],\"y\":[1977.940405880333,6822.356712315844,2722.750442072328,8240.645694224091,7295.750076231644,2063.2137731834387,2508.2136175066894,3598.478127248883,9195.410995659286,2287.115165172122,1893.9001812708268,7448.366688832977,7724.517817229892,4400.398586829742,6821.188297300724,2371.547571139275,5153.854729779471,9935.874621462222,4324.8022075987565,6727.2762687603445,3404.5901277261837,7897.770014980805,8681.189437874664,9455.076203359722,6419.440343490311,3291.075249872818,6494.553851466407,3726.220211462515,5731.2858344167125,6856.84138500666]}]},{\"name\":\"series 1 (F1)\",\"data\":[{\"name\":\"series 1 (F1)\",\"type\":\"scatter\",\"mode\":\"markers\",\"x\":[5639.0603598582775,7295.085189563748,1203.4194948555387,7208.800648454478,3727.68375413582,1356.1121157406476,9198.812360699758,1303.012669229916,4092.625716001196,7729.669109815463,7281.4863083787695,2971.064109839835,1139.176559982935,6280.200795452856,7961.2858270195575,2108.6815634417712,2374.354481431242,612.6254202423331,3964.039475047886,9035.443986254328,1413.6035639000534,298.0131659044105,4042.3144003287202,9527.606863091889,4833.287435741065,2147.1655528832757,1437.660331389642,6074.8817119526775,5863.672447720063,1380.787307449538],\"y\":[6763.450287259985,23.34173672530193,9606.537074004513,5937.522505903679,3298.120973425285,7440.451011572432,7713.509425808365,3616.207298847386,5461.828766861317,8774.544698726017,5275.67835188996,2266.2651942418343,595.2296441367045,8679.915055787396,9051.983729954276,7820.251897202462,67.30226518836258,7739.984763353438,4103.3373824081855,3605.1350834106265,8209.833187280965,2244.8818063858166,5401.389318329753,7073.970072642421,6609.386004963127,1666.0501467531874,2045.2938817587774,6867.213960908667,6883.282837587255,6019.3699163136]}]},{\"name\":\"series 2 (F2)\",\"data\":[{\"name\":\"series 2 (F2)\",\"type\":\"scatter\",\"mode\":\"markers\",\"x\":[4346.796495362065,3942.995549069309,7224.323903145112,6919.575285294885,8233.407685562328,5408.238740493748,6719.679787412825,6802.599524626731,7171.382590341195,8637.614178701026,6732.590579071538,528.7965054939802,9124.684909425001,6284.873271359885,481.2103016648683,2378.817406166771,4943.058926462735,9871.19429008233,357.1388165651679,9315.25238046887,5011.792361489157,777.7513338372821,7496.8851074313325,8306.972529537123,2997.703153621283,2674.793762776354,9652.709013218566,1499.4359044407536,9090.336004434057,8687.101613220379],\"y\":[1504.994692772792,8063.05111066491,264.31097290541936,9925.758662281727,6216.507203538528,5663.01682990745,1778.2137882138827,9408.770099941985,8249.591441322264,7667.88743904359,2377.3783377660616,6848.119663299874,5250.571243897536,4450.441820539241,5482.356043293859,5298.4479509838475,1151.3150800224714,8433.257999319201,21.828681349902457,242.60653382141894,3546.1319694933914,2892.72860375962,7508.167108432987,5331.922421410055,5872.869162897802,3959.076878948914,6455.796478487133,6704.0871316736775,8960.28377036329,3736.26378771577]}]},{\"name\":\"series 3 (F3)\",\"data\":[{\"name\":\"series 3 (F3)\",\"type\":\"scatter\",\"mode\":\"markers\",\"x\":[1306.978775070985,9569.158528384554,7099.464099614963,14.500804158673608,656.5789351103634,6584.246492132397,955.279070751498,4659.41836593326,8756.829445885354,7430.027938972134,3354.5394436185916,8435.757995132446,5035.069870308753,2957.3174501287235,4270.755272918187,4759.794225144295,8671.879813093563,5289.4952027757045,8171.07595670684,8673.513727514064,9163.987360276826,7346.675618939743,299.2099162873496,194.9109857182163,9235.780816711462,1400.0740209131645,8438.81068637381,3122.584183450966,3465.208240786537,6470.110690434198],\"y\":[3235.035369736131,1359.1492468984168,4554.302378662884,8649.367174159552,3247.6689255451183,4866.810808708559,9301.51977084335,6761.588294372063,567.425008127399,6479.761428919518,8022.538002399326,8160.502578240325,9047.72427937675,8971.90951579934,4418.105949997428,5927.311625114749,9987.46509661434,9014.760398250306,7701.99812976722,9243.274842270575,9445.998399063445,959.1052360219387,5179.074545139782,3293.8987868781487,7279.722173150504,8735.503401029764,1402.9011607997643,3703.8111313194822,460.41630119259213,8592.365191778767]}]},{\"name\":\"series 4 (F4)\",\"data\":[{\"name\":\"series 4 (F4)\",\"type\":\"scatter\",\"mode\":\"markers\",\"x\":[9544.34194672544,3206.4872265536837,2268.641270321207,8876.778585215276,1666.980020059845,5020.566015229087,4551.224287735685,5612.0434037241885,7232.1879452237745,8234.575468282495,2390.065437481925,4237.210220900039,3346.1116105890887,5394.4649242304995,9250.190035997803,8547.748686524812,6012.790022651608,1443.4188087201571,5958.190637720933,7612.793103068393,8972.085921502498,6181.004544271148,8707.889563937233,243.24931833604845,5578.053049785391,9488.787771566764,9698.267151184056,4446.369042496456,9612.823545894003,9712.122396521401],\"y\":[8979.400714681433,6226.225520189481,2933.04480347193,792.903968642974,7615.360143668445,8075.859728862886,1410.3572575052947,3015.6520551069834,368.7112184127672,2555.6836009474273,5754.349990884254,5559.365369836554,769.4834377497317,464.0656680274924,495.88796744521545,6440.171851693001,2652.154195421874,6279.84357457148,2660.6572929614804,6884.8728724851635,27.41638863462348,5792.844508967043,1477.2285487436943,2693.0619563440596,1501.185789518793,2137.3129877743536,1840.8884630947553,4725.570843072175,6361.520062671646,6804.483901249834]}]},{\"name\":\"series 5 (F5)\",\"data\":[{\"name\":\"series 5 (F5)\",\"type\":\"scatter\",\"mode\":\"markers\",\"x\":[7193.948308719079,4299.582526163661,6924.815932954588,1634.3591373308175,1985.1851108852204,6975.8162785161185,5765.8598639973225,6273.077057637733,9935.529436274504,9990.784756399351,7052.004324340391,3131.0932346809163,1964.0639206696142,4417.183821006666,8359.953265942055,8488.71683324954,6817.849321689222,3028.0668549645216,3074.3349303965606,4069.376983467742,8201.05332693625,8795.526414568394,3750.4500161904243,8137.319252589204,4513.300448549581,6972.1883396852745,3669.281912582768,8975.265500171967,1184.1251530418162,5783.897272683308],\"y\":[7221.0610136286,6458.889837181092,1029.8591476823426,6904.555349775518,9724.378426796557,9368.8008432815,5061.230286544005,7089.150188438518,3821.04493950707,7067.044037644947,4734.4194575892125,6608.588359191913,2682.599930592463,4213.963152118564,6765.255995379749,8460.028252372633,9922.56846832238,6312.59624053979,3315.700922553677,4718.984908866055,2329.279332067943,2041.5990996863243,3613.7126916053717,2854.554805737609,4317.250556656424,5574.0278342455,7882.042922134493,5346.692098226785,2340.8586858282233,8378.132947023882]}]},{\"name\":\"series 6 (F6)\",\"data\":[{\"name\":\"series 6 (F6)\",\"type\":\"scatter\",\"mode\":\"markers\",\"x\":[828.4664803297447,524.5388550179575,3422.20387866211,5357.647239589473,9889.401441268552,1187.397802225496,4415.797377879532,4612.879828925954,2920.825971108979,275.00616772086704,7665.885471055894,3590.255891259928,1094.856776878077,9621.355428783152,4307.944708612491,6936.76708005666,5387.300210974407,8656.371330017193,8624.069581800208,2987.1310640565007,9230.94786668749,4812.355131679603,5582.691078778045,6485.281219657011,5661.335992844968,6347.159378543639,8976.25590292334,4878.138859467465,4596.142555708772,1313.6511529032969],\"y\":[9416.209934448683,4318.449756636756,4766.351174978328,3485.094447614471,9852.823424944989,9374.788470141613,5256.76015665289,7188.661562243243,1258.1034092685973,7370.6723785121885,3615.372786752482,8204.362032496336,2643.244806988598,4261.043347424127,1055.654502139034,7154.250440670344,7677.763149433289,4003.2138897301706,402.59528983347724,5136.863427581584,4835.672915658972,7490.697334786452,9122.974217488278,8754.403485377756,9214.759632231307,292.16847095099865,8032.168738596486,3135.26990868918,1958.2116700514773,674.1332549646218]}]},{\"name\":\"series 7 (F7)\",\"data\":[{\"name\":\"series 7 (F7)\",\"type\":\"scatter\",\"mode\":\"markers\",\"x\":[6084.30923153726,7072.11639625311,7553.573177222149,684.7126167193862,3029.532730396496,3975.6920145789263,192.18381454683131,3437.2716411070114,4661.538242601726,5987.298155461367,7842.976757133369,9156.455950567124,9880.60581505006,6297.775445715795,6727.707682251936,1035.5253861124747,4861.688466705555,6488.511316625939,9480.386266242504,9502.701538029658,7244.143646421134,1540.0364766785146,7431.8978804207645,105.57254531397109,2449.121267617966,5046.356705199094,1181.4875337630203,5896.432868741377,4982.579494280201,1128.248176731772],\"y\":[3899.999204000941,9937.756733695125,9896.354027239096,7556.314886248681,8655.455069447611,7345.834136202853,3456.656897556797,6674.692644636172,4459.766995006467,9151.932195672236,7508.83431456822,6858.859773373435,5706.0744366312665,2184.1607628673933,9029.1714299159,7446.088093523708,6199.408543774487,159.56306313498092,4918.974849149658,4344.654872328751,2079.0795891429657,1224.770002889829,2223.12919810998,1858.0062154303123,7589.395844080077,6294.889185912535,5644.764646678395,8652.64447833714,3876.0186319303234,714.1271545745675]}]},{\"name\":\"series 8 (F8)\",\"data\":[{\"name\":\"series 8 (F8)\",\"type\":\"scatter\",\"mode\":\"markers\",\"x\":[7479.63747941518,2253.5914180280593,3768.4630315682743,8997.972893235763,9908.267599375258,6968.852779356859,4854.961353482806,8715.59490518585,5960.839812469222,4724.393414340869,9064.100680122487,4932.437505740262,3409.3212711104948,6933.704599893223,9438.35908417142,1056.8242458836885,5343.206253953768,8231.128259759169,3817.85961507621,5420.711137017061,2249.748277472675,9665.67812992291,748.3704521078971,5473.554255930983,3046.494766223272,9782.17641141093,5085.777833497542,3079.587423819615,6703.393701314002,6909.103299009942],\"y\":[9489.9661983445,5082.636735243713,1843.6913935850253,4927.634319814846,3284.239986703752,3038.9167984396836,9027.29815725415,7813.918598875247,2002.1241643258736,4817.097231260645,9297.246309919548,5326.7298415066025,9351.586517008262,8626.239420820142,3009.3237554698226,3355.1983008649654,8297.42694286179,6956.04389435027,4966.915407002751,7646.413586721461,9495.779147142506,3900.1728623766176,5447.540268572134,8900.261455969074,3410.3777013748004,4382.236974330137,1834.521749504212,548.940737655056,7098.442720081429,7915.3690118573]}]},{\"name\":\"series 9 (F9)\",\"data\":[{\"name\":\"series 9 (F9)\",\"type\":\"scatter\",\"mode\":\"markers\",\"x\":[2256.688528381632,7931.17916868967,7874.741825814234,2700.133745077543,890.9470875636538,9026.253737752064,3845.5867349538385,8101.848005300593,4397.0297720133485,2430.486540521479,5650.22996849636,4847.218317045488,330.6681254489663,7838.9798660040215,4655.327545341842,2641.5270031812056,1320.8969955062255,7937.917935012297,318.8360342208274,4331.429858064162,3299.1500468778668,8317.854916269816,3472.919259516354,4224.752138345009,2132.256810891886,3785.973226764654,2871.1384608600256,5727.502631049562,638.4070036175326,5285.386772082704],\"y\":[9503.405591733639,69.6491481432815,7154.598684500961,1522.1312276547883,6902.882128567588,3565.0298043776243,7576.0454207055645,3355.57032047479,5952.207633179774,5587.103026023391,5102.460573942599,7025.519219228934,9542.148881273635,3241.062729911878,5803.101985575006,4369.466526707363,5843.957780031287,1574.1804923530422,3551.9047868172925,4325.855306093647,8927.43436714202,90.05831499530271,4885.985692421633,224.4591250947736,1989.8939676549621,7318.8067373222075,2905.2573254296276,1632.4715506846999,1556.936871977186,5243.989983190497]}]},{\"name\":\"series 10 (F10)\",\"data\":[{\"name\":\"series 10 (F10)\",\"type\":\"scatter\",\"mode\":\"markers\",\"x\":[9457.84094999686,7854.999289118643,674.1255660021584,4498.510757240504,6545.42148582301,2581.234231702224,5329.377863912679,9415.429560166576,1134.6413476819228,5622.652704595577,1129.0835205987325,9256.04932146384,2375.0802420016926,8207.170900230203,6596.661338979191,8236.416399080828,6601.3272882305255,2873.261718775173,5370.468552877469,2334.7236677506667,3436.097066075083,7650.619160217651,2048.6875880648927,5285.92517967283,5813.300583808529,6919.032295265677,5462.00769457415,9656.201869008077,7804.431875857997,8104.70751789182],\"y\":[8750.631827627196,1438.745491669421,6758.586765026286,4203.362247460217,7780.333938509653,8223.657169432014,455.8795999934795,7011.981960182126,8153.002048069969,1668.5830720963068,5725.980807295357,4906.219958820341,6350.299802019826,4733.037840705023,2297.9488716957376,2017.9906183818407,2394.78704368603,2938.1993088675563,4524.484863536885,2747.8877530097443,9821.038318756826,6775.277589657088,4063.1888627204225,6689.639208550786,3720.0078604918253,9309.398507719758,8599.353335044321,4248.882176973012,9153.083521722421,9012.262738605277]}]},{\"name\":\"series 11 (F11)\",\"data\":[{\"name\":\"series 11 (F11)\",\"type\":\"scatter\",\"mode\":\"markers\",\"x\":[5259.279906014679,2506.1290833454473,327.9857865224922,2905.675735065969,2490.0575203122553,4203.863199283875,5586.862666658171,9209.365284283527,871.1994204270645,130.29066128551702,4477.637811234241,1860.3392786904117,1575.4800327334572,6627.345108398429,962.8738232749479,1507.3564919563553,1010.7748371220448,5468.125632765246,1166.1126040764448,8882.91867621389,1551.6545797371361,2929.0228267713724,4963.859369813194,6816.513334377503,1208.9373507591617,8524.368846173435,8202.081291641629,6576.671682698613,9587.361964822769,1576.5227746862188],\"y\":[6349.290583038255,2715.7283343679696,3545.988120575756,5561.883347936265,993.9922836596616,8140.001499851462,3602.8945523012635,6003.3955015304,7752.4721455286935,7739.438473435687,1315.189030799826,7572.701640515177,7873.606438901087,4584.5995008395,8617.302514889381,20.158100779149592,6110.58377401865,7435.183352682299,2414.99283928154,568.5240244707712,4275.120554657206,2103.1220164619713,1609.433880451775,2486.2017637739286,3297.9671200999173,2074.6050646696112,9165.221471008726,5698.488057200432,6590.196290425713,5719.216640209982]}]},{\"name\":\"series 12 (F12)\",\"data\":[{\"name\":\"series 12 (F12)\",\"type\":\"scatter\",\"mode\":\"markers\",\"x\":[8838.0808784727,5500.375990332157,4032.9726883532103,8400.703613275677,4742.508701005171,9702.020366989675,9019.204223103014,7852.710566765838,2066.5458691504577,2868.0623525824067,628.6790210336013,294.15996768405563,8930.31695185253,8704.584929490717,9238.995748469517,2932.77038650296,2636.938536132767,8102.548957532818,6657.796286676398,5741.539022914296,8378.841991643072,864.1385237276355,1207.5163260650968,1691.8502463808693,4839.515614129345,3718.520963458475,4102.067192300708,9988.183137426839,9070.118610365349,5876.107251224212],\"y\":[5925.571962677153,1273.2377252904002,2522.3795262856906,6075.475538900664,1056.4766860246955,7258.613512099412,1183.637558757107,1844.6958039292604,3476.061909997854,9785.01023642427,5386.843849793076,2528.878482008942,9558.585381426534,5927.246281312012,9057.789435330766,2528.341650902044,2160.987907051035,6433.216147605568,3913.7816120896996,146.87081451309035,5613.295264738644,4522.240803954946,1442.4442409838489,467.12873515900367,3056.5571897762857,867.0908244460884,4366.266347784781,7750.3402583759225,5983.364329842739,8445.287993672518]}]},{\"name\":\"series 13 (F13)\",\"data\":[{\"name\":\"series 13 (F13)\",\"type\":\"scatter\",\"mode\":\"markers\",\"x\":[9737.98325547514,3999.969944917937,806.6862456094303,7869.123351888972,7813.820801073445,5534.1698582217305,8815.9802667752,9790.15565461619,4416.092029684811,8679.374217239598,3975.221268848248,6022.7815313044075,9623.583576303236,9027.475155818447,7675.705750890981,5142.799332572044,2317.6288382592625,6091.607910831859,777.1880315896651,1490.712920349585,8363.708248931043,6650.643297295421,1054.1089601684362,8745.854977184143,22.881931413103462,5590.064592382866,8509.38019698734,536.231375406817,5564.304568979035,2626.987342020012],\"y\":[1926.390303181351,910.3222976676384,989.525534646466,6949.655331879948,7500.603036446803,6920.900381805906,281.2388769316243,9506.82550303041,4425.319804784433,4057.2536921228884,6653.589201748774,4450.032384681986,2901.8823970709327,2811.03149783557,4908.101352525249,7061.801493674335,7202.795908521126,1272.2608365941157,4188.752332492311,5395.457834261367,136.95193216521906,4325.901970686835,1181.6547576814319,6807.255337821984,5549.339174224526,4755.650610234217,6119.276746753176,8579.130296900657,2333.3298567259053,5360.511563966742]}]},{\"name\":\"series 14 (F14)\",\"data\":[{\"name\":\"series 14 (F14)\",\"type\":\"scatter\",\"mode\":\"markers\",\"x\":[7826.0783290051695,3910.4592536809378,6841.831704326066,4051.0043053643763,9481.888902945548,699.78252885882,554.3017424933582,5815.686752744611,3781.317383279792,742.52953320335,6389.818981092413,6435.0099361449575,4731.924428989427,1238.3619197049977,152.11711272083872,2868.3464398105198,3460.8517698397045,8831.828803595698,3250.6808504859055,4351.364202349555,7089.049310412606,8802.605743759237,9062.714041561074,6414.741148904362,2984.196191943742,8476.66832632271,8083.988558386396,7271.552208325106,5517.867349068988,4447.326208076214],\"y\":[6362.287043307193,2319.4776879267697,8829.443817397014,7775.1267317725205,7615.358821700774,7865.321419124162,7038.728162568192,9978.212922080385,1906.004633280799,9603.144590651524,2851.167169119444,5329.793578375964,2780.1168482090256,4863.659369502542,6564.048839671452,1746.972819177627,369.19653946951513,201.34578509657385,108.98719436825633,3385.2531657715845,117.08234241115446,7497.088702041994,4955.459572941031,2945.6109086208617,5511.3164251661365,2427.959808730056,8452.124428806783,656.1197475240755,8482.78914462511,8892.092849887242]}]},{\"name\":\"series 15 (F15)\",\"data\":[{\"name\":\"series 15 (F15)\",\"type\":\"scatter\",\"mode\":\"markers\",\"x\":[497.0867564271897,9907.672409495359,2982.9963019156226,1775.4352224180914,1305.2435266558937,6603.437412319373,5656.452615105876,8308.483034630579,1480.2879674992587,424.25374292054175,2496.504975027185,5184.933508320465,7600.904998614602,1417.2564496963757,1905.9954849416395,4600.521906490151,95.14822278550716,4582.596750352098,2679.921113022249,7419.133754425456,5303.934609222295,8463.198947697842,85.4482971539794,5784.61218763512,324.0518528225811,1135.079351028273,4435.335890978758,670.5110814821746,7473.025541947841,8450.825363994662],\"y\":[4334.030763915437,2096.3673594373577,5032.642142094015,4906.412908624844,1121.3949795787337,1037.9012523765407,2304.8841562070397,7081.618021615695,1947.234112119114,2419.873425055158,9953.480620366974,3246.8606377496967,6380.495351360195,8004.16334520344,1106.2315388672516,434.38738487871944,5490.208880568524,6471.95573339053,4757.7200146519,2039.2894810099172,2930.9467504861773,5547.753749645049,638.9747291787052,4845.921313485587,4723.779507621035,7624.263993644923,3910.101928130353,4267.867179579097,8144.412626979666,6021.025081541428]}]},{\"name\":\"series 16 (F16)\",\"data\":[{\"name\":\"series 16 (F16)\",\"type\":\"scatter\",\"mode\":\"markers\",\"x\":[8783.859000127464,544.683522906193,413.3884589195991,3745.9859647420312,2502.591690753785,6656.216446457115,4728.940009208187,428.058581397579,4967.9145536089,795.3779472414757,4591.291457563518,5950.005109510928,4761.964353584977,2382.8411690997655,7337.895425246843,1234.8476895324056,9301.009235934074,812.1887344628998,4342.310515160662,7625.310835253041,5426.652557951335,381.63468796533095,8425.113888211928,6344.641587131171,6866.8195134807875,3198.509813503858,8683.458652013873,8638.478175208082,6688.170027964367,4235.284258091616],\"y\":[9166.578130699747,5371.262298087588,6113.534965786195,9170.977115861688,607.7506789819897,2087.026948152835,5892.42313110806,6169.381963767957,3768.9374131027043,1843.2083877280681,2789.6045870850207,7325.6129953432055,8862.508937379213,3487.4722587588612,1696.2216477472814,4155.058205072477,7985.180781257377,7471.357139670715,3369.8405261193034,4203.900026431757,6532.481275179693,4780.881516843648,8874.30260986924,2627.9469087520147,5157.775662818504,7113.077278336122,4417.190758973377,3416.59201127517,5998.07844225753,8038.746783403247]}]},{\"name\":\"series 17 (F17)\",\"data\":[{\"name\":\"series 17 (F17)\",\"type\":\"scatter\",\"mode\":\"markers\",\"x\":[4472.180063542655,9831.296868581469,5609.583623075556,5565.566279030939,6825.492822987108,2583.077364115849,2339.048108423233,6251.98888815957,500.1320077044591,7291.040230325126,7702.869310506489,9821.223811580618,6388.522118157882,9844.10739702816,9753.894400620384,1085.903393109151,863.6368422180607,9430.63230291929,1386.7104639775773,2917.8720066710184,4640.646233532099,4205.700279941792,8065.3583003984195,9983.860301952347,2725.573483539414,3833.47423253944,7553.125533424594,8016.639380787541,6414.397538397957,6472.034912449797],\"y\":[8882.269213635554,7502.57302881361,4995.496810382661,5160.731156549298,9022.2279035113,3840.317544289522,3060.279146564793,25.146895990298958,3488.081489005863,8261.74591842863,9141.299244960332,8232.357895535673,1476.7227505599058,5105.001940573102,2774.1123957214277,3209.237491139301,7026.407761786454,1390.9144155986396,18.5746770440276,8279.145769001949,5166.055000708792,4077.8353521092945,1977.2434088503721,7577.411101364853,6053.862824992953,8856.29023082573,6912.993673775441,8873.602071383435,700.5259842141021,1893.657896224057]}]},{\"name\":\"series 18 (F18)\",\"data\":[{\"name\":\"series 18 (F18)\",\"type\":\"scatter\",\"mode\":\"markers\",\"x\":[4194.915315068417,8758.650007311637,9030.52744574764,2550.424482342396,7491.004170816849,547.4758684632542,4755.685838240156,763.3851521334989,5378.125857538858,9202.842712530111,1818.3491816296948,7527.499000780756,9854.169642509,5603.739639195228,4007.3175394217774,706.9186636417113,7114.27525219231,4561.675593294711,2757.789093371298,1267.0621294559626,392.45857409648477,7130.844669843373,8117.325057467326,6943.406510206614,1671.9232053375156,7963.200860664014,4393.027608852905,1349.0185359569862,7631.794476973708,2727.0559256483516],\"y\":[5090.836519196501,6571.667056972207,5324.963008637148,8937.895370304755,1416.0434266504485,6422.685270199945,4771.184218819259,5942.685573529224,4824.835693845597,5673.5820280727075,8901.52841578034,6254.019488436466,6899.876106384587,7852.7293215842465,6104.73055681051,948.0324456527367,9168.634551679417,473.27968790498943,7002.943529006944,6420.091219970903,1391.3864576421586,1924.7974947963853,5023.8477633733755,8434.843115605621,9316.499089155444,8684.914498192198,9838.029984204937,2112.2863718249505,1933.8264923070603,4993.649461059116]}]},{\"name\":\"series 19 (F19)\",\"data\":[{\"name\":\"series 19 (F19)\",\"type\":\"scatter\",\"mode\":\"markers\",\"x\":[3794.9880953041716,3259.104335693761,3852.741247185261,9681.858447599509,4118.081886253369,7284.578839894092,589.5302953558789,6456.610839341126,7808.193897899183,6832.984369748812,3269.588147163364,4620.116158672003,1957.8239009193933,8219.432612228984,4533.041229739999,6935.152768482369,9491.788980887573,9773.727829065545,9278.143631976729,148.77606312914017,9227.661241348236,2276.8562241409472,2284.9845207295148,1547.4178794882553,9588.516979751657,2817.325196634989,9732.751921054953,1840.3101228148666,7302.538073041694,8599.636994726008],\"y\":[3157.0008588581045,654.4978623491282,5988.445778154016,6504.762764883718,2489.0775471104566,5973.53446184364,4652.713298881478,7532.561831725546,9478.051333442882,2963.2794819001783,2813.94458746837,2648.667988102488,4016.213991331824,802.0446538401027,7221.768981494288,8013.4411146493485,3672.4059830571277,8368.671166118207,4952.050151430505,3088.165138988672,1083.131831918439,940.935273097867,9037.161631113597,4693.746987933266,4759.632160888576,418.0212844233133,5729.533514783545,3739.749788480606,6339.7823244923975,1004.619763235135]}]},{\"name\":\"series 20 (F20)\",\"data\":[{\"name\":\"series 20 (F20)\",\"type\":\"scatter\",\"mode\":\"markers\",\"x\":[6998.631094694443,9046.677433156661,1346.889413425707,780.541207957386,7925.976596870668,4451.995433686356,1113.1643235494537,7128.561647782917,6289.77705091875,1220.4609538647592,683.8480389802293,604.5464300758618,820.1787262288884,7671.907573113359,1238.6720281068442,7507.7268032900765,5358.118517399738,1894.7109323410616,5850.54256934232,6145.326529344644,8465.196193155089,1430.7352012401975,4247.0315352156085,5584.575195455759,1908.9457041707126,5897.647099578156,5648.470859071727,8546.458519877335,6887.334901792118,4657.051668875666],\"y\":[8727.141374815237,2019.3988931469742,3858.27954526095,1841.9910171237275,4265.254570575447,157.37444581049976,404.40476664160286,5324.919873235409,9185.129554452426,4075.8226001435573,1690.2493600310897,4537.35263952106,283.16913177187206,2269.997094199837,9758.549453046142,4444.953351652252,2219.938040510858,3554.276723217891,1164.2030074952559,9436.918208782095,7101.861562195343,1657.254310605971,7258.963012273981,1406.082654915054,2335.748620084064,6906.257204734888,7816.859463761684,876.2514087117379,9345.563275765504,5796.287058251418]}]},{\"name\":\"series 21 (F21)\",\"data\":[{\"name\":\"series 21 (F21)\",\"type\":\"scatter\",\"mode\":\"markers\",\"x\":[6629.808724382392,8675.84580121539,8211.560995632502,3662.184150036364,7204.818558348106,8362.02242636402,2325.1120092444744,9159.16148150004,7758.648197719932,6367.009429982066,2748.2389192020682,1805.6708700920788,7332.741152264929,7668.476326908183,4125.0976587042405,5453.899145965055,9040.697453854149,9678.335954809892,2713.332163607094,1227.0173813383633,2212.5074155709035,5999.452483458845,2386.4408831150563,3198.6356414911156,2514.2196114068315,4717.309369733008,6303.990360872493,8888.739759669166,7998.672671276215,2973.7686288166756],\"y\":[354.7203749643402,4511.723582961653,9482.36888592661,712.6304631950097,9448.281646238725,1835.9473788436976,5645.527047687361,1691.7811961679686,9264.55862559236,9500.58922660156,6816.796189833239,9124.295658588113,4165.223718868148,6684.38263402515,6531.075500342342,6640.936037230158,6630.379775474178,1132.1565760580065,6638.32978296469,2659.071949347127,4803.846590549938,6718.933020046293,9993.248394438224,7698.119471258133,2513.8524318721998,7967.651250667499,4570.045653603941,9699.178496685983,481.5941120015066,235.43053764547017]}]},{\"name\":\"series 22 (F22)\",\"data\":[{\"name\":\"series 22 (F22)\",\"type\":\"scatter\",\"mode\":\"markers\",\"x\":[4223.657197242848,1986.6248709854751,8338.330224524958,4644.598064697827,4258.035343569506,2151.9902636890365,4542.380195302345,6258.54837177459,4464.2048008404945,7845.545260456146,5320.599629035169,2488.82079017685,8355.188057914977,7228.57283823455,4354.608684703348,6268.610336763283,4951.866887348416,7669.404821140735,2090.252671500102,5139.262745962582,8663.29827459452,6158.864787038076,7269.475104027541,3070.121914853715,3556.953633436637,8875.844028123742,3566.992330413772,6568.434674009746,628.8096596692849,5351.316022740891],\"y\":[1059.8546880511074,434.83994751218114,560.1643664918321,4759.166022843794,5666.18608871559,1381.3048947027796,9887.510601231013,8004.798898860208,9660.098427853496,9652.188092398419,5513.751100274401,9487.56259495774,2902.9777616950005,9775.447515436193,1053.4911990423313,6680.599992985704,7527.041164996523,1619.8360739742168,8632.099017555396,4001.8277523395873,8465.27253208608,2045.2531789936224,1447.6766505409678,9842.308920510044,8442.539962748318,5607.2508092077915,5657.0387099953405,2073.373899023908,8825.90703169517,13.024011865164775]}]},{\"name\":\"series 23 (F23)\",\"data\":[{\"name\":\"series 23 (F23)\",\"type\":\"scatter\",\"mode\":\"markers\",\"x\":[4961.247242736431,7871.414746981148,7077.852973193937,8325.034679640636,7643.203979698617,8279.36135681954,7464.314259994892,5269.758972687869,3749.2595181173383,6566.422839591016,4140.171440513069,9432.861638976543,9608.742934653952,2152.7558778741695,4768.000617951483,6608.443437839322,7949.778898603752,8633.304588533983,8421.617666969838,2118.824415802757,4496.701770430077,5265.124362374974,3684.143133885245,1532.6583885833677,6123.839602261408,6175.093360289881,1571.0207623312888,9883.006853364199,1392.3865116455104,499.9824600904268],\"y\":[3191.6225950090916,9223.31715083922,1611.538933062532,9688.437548943048,3908.783822823384,3158.0906971930135,9442.021584040913,5274.507175664883,4163.802822113426,4846.34572252524,2499.5858762294733,1574.9237150636209,2105.1553289166145,1899.8113940550443,1418.0129493645265,2967.4255486678658,4692.369789385518,7584.117992309931,5395.608769765849,4674.985521139463,2042.2134161610595,2780.07526775351,3376.130874103087,9310.892602815424,4442.543434534831,7273.458382948538,5704.540122066282,8832.204077010356,2679.8818433332294,2115.551070629542]}]},{\"name\":\"series 24 (F24)\",\"data\":[{\"name\":\"series 24 (F24)\",\"type\":\"scatter\",\"mode\":\"markers\",\"x\":[9349.923864064787,3004.171945045504,109.97250845122042,7033.023297543595,9602.388636121666,995.8198001353502,9246.284747492646,8164.545668596702,2527.6771222131524,2306.9285580802148,6549.628811340313,1762.876658622644,5402.711816345238,6869.262521732019,6572.7550614027805,8924.980509333593,6857.227285275846,1869.9512649762319,647.0079608133427,4899.068757703097,4511.100485135114,4612.516143822385,5893.809717884555,4066.277960919419,5523.945231905314,6561.111652581421,7501.955646578959,8306.033779743244,4662.988510692757,3606.1273349390954],\"y\":[932.4013756564309,2127.971711845059,5247.200729572056,1544.376410858286,995.4258466620314,2689.6164867481266,640.1018299278505,3784.6737499627416,1590.7628459673529,6617.852778376057,7840.623171659033,369.68397281162527,3309.4869050589105,8413.54081722603,160.85537410327254,3547.501634372934,6067.153433035909,7142.465682729141,2981.464497839983,5331.49697305719,470.8873846780237,9102.134685560428,5140.0144397422355,6754.547180796945,4718.8221010032685,4202.763144289029,8634.385031215272,6853.844315495171,3488.494391725594,2912.1209812783254]}]},{\"name\":\"series 25 (F25)\",\"data\":[{\"name\":\"series 25 (F25)\",\"type\":\"scatter\",\"mode\":\"markers\",\"x\":[1012.9300810267805,1815.0524667139912,1491.498394046815,8787.737051076776,8074.968697817081,1159.665038677511,7154.91531680989,8856.289275797244,9319.66305455291,8376.989968669948,1235.7241597168857,398.8341282022356,4958.282326987275,7982.2676948271155,1082.617700580557,8061.859354218876,1244.3082023515406,9625.00879154056,3730.3382687422127,9637.970270715776,377.7927253029345,2576.7133332786207,44.858094670616744,2346.349515129742,2304.8292591864074,694.7107222392634,7733.42909500004,3991.9568004692164,8359.950485605827,8788.94154124582],\"y\":[3191.7332101473985,4993.763512691681,888.7226010548111,6211.075728412784,881.0621060191193,7946.148963616627,8739.757427560467,2440.445472017069,4211.66534182706,1113.9051351748085,5829.815078024963,2458.8421057942255,3754.1011275076385,1060.1326850798075,8862.626407779642,6786.312258745713,7008.635733187993,7467.637348953814,721.5143738300234,2192.6593301348753,8933.431600849804,138.25773594066783,8057.848533296834,4304.440033849076,3965.4761566042353,4140.895076626022,5161.820835148666,2594.8224681689203,8363.899405174105,4127.832659533089]}]},{\"name\":\"series 26 (F26)\",\"data\":[{\"name\":\"series 26 (F26)\",\"type\":\"scatter\",\"mode\":\"markers\",\"x\":[1328.9792731393156,1573.7444504101861,6363.533938256115,2950.2663776037343,5625.41600924264,9388.40314879427,4847.278852849198,2877.7954981552034,1206.4545529736104,6499.16614911318,9029.020478921828,9962.951621379912,1158.1357152940463,2613.5890036617293,5984.5812693420885,3390.666650972071,9207.753468477667,9641.29318469366,3776.357233408465,2013.9172844648722,1589.1481780250306,2075.0402453621864,1388.0164996958345,9700.603790988423,850.4150516270004,3908.4106749988277,8718.831658517796,9603.053588664,8456.139461007173,2968.084754641449],\"y\":[6482.920466194984,5010.366587271755,663.224607962024,9368.788184865738,3016.8749316369604,1055.1486628864704,1338.8285908884145,4691.553564804025,8719.960895958568,7220.004380277055,6140.882944982516,2441.020311662205,9134.273130285485,5325.494332113651,4796.117366659622,8355.077593194846,4517.934417534637,1480.0819325283044,2087.466931684868,1220.2309101928954,7172.6285175861785,3333.9334590023086,3602.1922532996377,988.6529468440864,7757.466325672326,5902.251559630597,9293.998956218997,1197.9541141351046,8354.376589021054,210.16148305975645]}]},{\"name\":\"series 27 (F27)\",\"data\":[{\"name\":\"series 27 (F27)\",\"type\":\"scatter\",\"mode\":\"markers\",\"x\":[6476.88834580991,6962.290809286631,3145.926883897694,9059.987881455123,3995.4340942096146,8133.504305340343,7224.677537096564,3333.096627720201,1005.6266189956531,9623.561396309799,273.8744954938044,412.2961061740871,7052.378605910996,7334.648858718466,4642.492334133473,3547.128961567818,4944.243762230395,8660.847317088563,6683.341475156484,7283.205244110379,4302.852821570895,1105.3941004069156,6131.154564719263,9438.062709530037,1604.0163523234796,1200.1160519792986,768.2725284087966,4529.86215596811,2029.4104685508319,8618.69838144765],\"y\":[2658.7533489389925,7051.562223803951,9512.20156945383,7143.026510902292,7827.428169272769,5532.034032612709,3986.9272760609533,4971.9242692962225,3418.6364762657427,9936.916978914851,9043.402393271426,1754.1803521594923,5090.067877147213,5635.836626576999,8936.369495446412,8682.843088833353,2680.3506558485124,6898.9351811058805,1217.0694258460246,1005.3322060539193,4034.722615686952,1684.4978441187143,129.8585246447126,9384.002846627967,5281.326140433532,7340.779642824314,6356.453909581258,7684.369110628112,821.3721851845502,3768.970069198169]}]},{\"name\":\"series 28 (F28)\",\"data\":[{\"name\":\"series 28 (F28)\",\"type\":\"scatter\",\"mode\":\"markers\",\"x\":[692.340114082598,9973.273887709118,7829.622406139441,6580.559908346002,2804.323267209796,8776.874421475173,8157.337105755665,7831.202839858299,1345.1738210912968,9978.38279705518,5188.046541164859,6024.49048150737,8390.751124284543,7128.086279422373,4417.199534253649,252.89126003253503,9416.95335077706,9393.248224505407,4309.953798585608,5579.429365103937,9848.296494042737,2893.063737372453,8337.065072882877,8062.507520431796,586.8706937110002,4743.932200040334,9997.048597336856,8187.608774581491,7869.881924389621,2782.875025945195],\"y\":[103.47706670999712,893.4344133089534,7305.936859043527,1642.016818339993,9649.491179706492,8866.371565026664,8004.683722256599,7614.616812373437,2157.297557722593,3326.006203095274,341.37188988998315,583.2206791302874,6578.6305191149895,3135.723669461088,87.35023906243033,1173.0804969180065,5532.866567140222,8746.277153317518,2389.4756929940586,5249.066377836832,3952.6677179325843,2216.517652067804,1395.8541054692375,5891.875369831262,52.75156394735192,8354.323295307619,5202.293487102693,5069.414550643645,3945.5701165800115,4882.077897871552]}]},{\"name\":\"series 29 (F29)\",\"data\":[{\"name\":\"series 29 (F29)\",\"type\":\"scatter\",\"mode\":\"markers\",\"x\":[1233.2977519231015,3361.824002581445,9198.400952021539,1454.893492282665,4173.387178541613,6303.671372633498,9159.541620262316,8346.081126891253,7128.979816804588,174.4381317456023,2977.01246525088,5663.2224623587035,6828.02579787297,8398.48791883372,5891.368794029729,3069.5037228618303,5354.037233824809,2108.29227192844,4604.931569612791,8158.816822187068,4163.107870746143,4879.760149489388,1312.9472639396367,8869.449937072695,946.9754433697352,2166.103986667125,9327.887855881703,1620.0265912593304,6282.126398131582,536.7435335452064],\"y\":[9136.309390623977,2212.67119082133,4944.39831567873,470.3358930110035,6198.388321733851,972.2171673772983,6270.492224775189,9156.09353034955,833.4582745767127,7076.591952639638,9012.250901112264,6525.12885027692,6130.573068225128,9582.350413538074,8756.524906441173,8563.647210160676,1981.325557692809,4260.650253123086,172.88741495864124,6852.382973291015,2052.8523839159875,6032.790686294436,2103.425290158971,2231.754774777048,5802.163668308878,6530.771517269987,823.276454447609,3509.7940579725328,9478.631710194872,5107.146308485701]}]},{\"name\":\"series 30 (F30)\",\"data\":[{\"name\":\"series 30 (F30)\",\"type\":\"scatter\",\"mode\":\"markers\",\"x\":[5677.54241981504,9209.976035354275,8469.684088318192,9479.782361550639,1739.6574200426185,1498.6636241924566,8315.442194475409,9120.960304742604,6138.246373601906,6636.953812480307,3251.2562384179487,486.57998087559105,8263.959021092507,5569.288301117346,9232.785783510482,8230.061871236809,9194.720912263974,1591.276409844965,3056.478783578939,656.8687645717986,2367.2925713156646,9431.748324593122,409.00965777197484,849.3911314798652,5774.986129042177,1539.1420951509083,3462.433409941312,7128.277307844315,5785.833859923904,2879.9007972733516],\"y\":[2977.5205237611967,7815.110810310647,4052.466693890492,5136.637069049865,785.9386121736544,5622.667234314843,1924.4041431907121,4836.396959506167,5992.652298600131,6422.81581325412,1275.415510337402,7644.441122349931,2273.1103387494077,5628.44751765549,6723.065308869799,2826.528153108876,4235.500460483312,2974.6550139427363,1844.506365908528,7712.772387771964,7976.546810660456,3095.7046003219134,1182.0387896931584,1888.7220357243696,4680.034289660474,4968.174821173012,583.9083002099699,4794.383225832489,6390.446223667028,8026.964903130655]}]},{\"name\":\"series 31 (F31)\",\"data\":[{\"name\":\"series 31 (F31)\",\"type\":\"scatter\",\"mode\":\"markers\",\"x\":[740.2632038487467,8429.492759312927,9939.799304954324,6559.700839945315,2651.1540049898895,8943.420811799546,8413.9727869586,6846.398161039694,9202.900969219234,7030.664211781939,9515.523281151936,3435.0672725652576,4031.114607748804,7257.964984839501,6713.18211800495,1930.2752731505768,7413.109241810982,716.6747291728815,2163.939567884462,5720.507021393423,9059.392929698746,3724.053573539994,51.81734865267962,3181.494541215021,9363.384754602443,7689.778726623599,5208.136550479445,66.51608812954902,3920.4486872288358,1719.0121547696192],\"y\":[4661.29255018185,9030.987227949494,941.7972366888682,40.95522014716857,9109.748985057231,4537.504113630815,7565.7673551483695,931.8960013678945,7220.169542465806,6748.815787900035,9008.42195752802,2444.3366757886033,8123.302656058968,2440.043237540039,3997.386682405647,2958.859163969342,6513.448196721691,4447.777117771139,997.2858526463457,1342.9727030548622,353.02518275123094,3722.5280902988966,2362.089374803966,2331.263136321042,3341.975775454109,9662.321720269374,7739.139340232225,7633.736888278801,3032.433454319321,5079.060065397456]}]},{\"name\":\"series 32 (F32)\",\"data\":[{\"name\":\"series 32 (F32)\",\"type\":\"scatter\",\"mode\":\"markers\",\"x\":[3801.580331255547,2234.3383357639323,752.292364341407,1885.6059712529416,4700.363591109991,8359.192998446064,1347.0149159367907,2390.366225743553,6503.955830507763,6674.206601406257,9157.22278254439,8947.483094325598,9333.330800445157,5414.231309837153,1620.3092366155659,1634.5687487180994,2901.779851132742,3351.084572676202,3417.528822437288,9616.25070321845,4733.525361029407,1775.2886843104843,2183.7070596835406,6900.6141462127725,5462.079615580516,3996.4730960440543,1454.9319817234007,7306.967147114736,2298.740580769354,8259.96247702638],\"y\":[7750.277358583035,6637.1761525594275,13.571443267448302,1432.1499148977114,6466.823146638422,2279.1447590005364,8585.663240070162,6324.834506141018,5612.93465991315,1769.8462105134327,8056.432356261386,5108.777123355397,7312.966483477423,2206.637681120365,4059.159067116126,4909.313603648411,4487.261158182299,1819.4204563112803,1999.9263618668917,9381.932666878161,4144.515710782076,3502.533485207654,3929.569117059304,1833.312903393569,9319.29237649073,7654.099294633064,9773.200483142962,1283.385342587281,8845.650530964715,8281.863802877524]}]},{\"name\":\"series 33 (F33)\",\"data\":[{\"name\":\"series 33 (F33)\",\"type\":\"scatter\",\"mode\":\"markers\",\"x\":[3773.3327408215246,2756.5713540104207,7878.583707289288,2008.4103271352915,7754.562814417891,7045.417441248486,2358.1478919329093,4344.941917253115,5132.248694142778,3207.433601150903,7456.865518858808,1401.6673726233807,3464.5529789678653,9136.014111299128,3459.2017434498835,8064.14588397416,8786.684186622633,1688.90093050842,2492.6031930808513,5588.7774601163865,1968.1204696736265,8062.728578769233,6062.800221847333,2556.953866060352,5898.049754381219,4369.764063240834,6441.7716427893465,3176.209948483618,2431.221175315995,5703.037460595113],\"y\":[4614.9763865175955,6028.049282202745,9715.846105301898,4368.633252010999,3715.159705698392,4535.939132365068,3777.146455737478,9418.996273752005,9653.243304446889,7663.304166589254,3044.6016400460476,1138.6741595700255,2.513888689933408,5650.172178375304,887.8936529204462,8714.010495291477,8100.525657408837,958.4549870762038,9166.00776637756,7960.865787665136,1803.836337915974,9019.676359005967,5295.896051993613,8689.533691320394,5363.9012757832115,6865.28431170105,6411.567953272633,8053.5915459005255,8488.148371144145,268.5176517439536]}]},{\"name\":\"series 34 (F34)\",\"data\":[{\"name\":\"series 34 (F34)\",\"type\":\"scatter\",\"mode\":\"markers\",\"x\":[6811.419763606969,7059.503227129785,8808.465444171361,1638.1192175868987,9081.07308127633,2306.374289409251,2700.0318400981014,1578.0222121288002,5030.943232006923,3980.3294723529693,4676.6277319887795,6763.459012670104,9902.211659506667,4145.571406853534,7434.262266924794,5582.77435288831,2171.8294479550127,6454.24789577419,3023.1588880720337,855.5472621209126,1726.6329046915318,9539.838626943174,598.8450539645673,5861.463506451391,1178.605751258084,1563.849293114834,7736.294050707648,5900.696145034238,8657.77177417988,2653.1778054255615],\"y\":[386.7664012761851,2655.3919403319983,5546.162270628757,5295.597765935953,1215.2106316840127,2733.1801449173167,9305.74776433057,153.38011745180236,7276.774179900436,4947.455628177361,9805.181426952488,6210.152216524769,5774.189733477134,3125.5089621964826,7364.654091306697,9683.676713522813,983.4983836576516,2534.4125046659606,2115.1117083484337,5717.300157340019,6343.774317270674,8375.892256427245,7207.54407378981,505.4113186579257,3177.225438887321,4225.248197368475,2909.9980685946102,9213.319525378025,1539.237078740432,6775.710949307299]}]},{\"name\":\"series 35 (F35)\",\"data\":[{\"name\":\"series 35 (F35)\",\"type\":\"scatter\",\"mode\":\"markers\",\"x\":[4694.433197286996,6819.543331216981,9293.638900651576,798.4535382629576,6042.480443670997,4838.579609714328,2666.6714728211336,4839.803151322485,5888.623307016194,6774.79925377972,5253.836866002996,3851.025214616153,1371.2746006362609,9113.194025867955,2737.015640636008,9682.38309390984,8876.667781571761,2670.279894926363,7414.941985599781,4172.003042358364,237.44718612076943,1208.5363237024883,58.32469146380692,2421.400310403864,6387.283314791761,360.3399077244984,6571.61328668166,5773.3558922160355,7774.796133913497,112.43451527231163],\"y\":[3476.6017634759805,4994.154243900505,9404.527828581291,8369.548221353227,9328.775316160549,4211.027889084302,8499.649863547469,1445.854140752717,8835.50145347351,5266.976070159143,4470.550963677161,9725.546304198744,2665.874040356744,328.9593735952656,4125.399931134177,3188.881315984833,8725.218349036117,7821.791796089988,9873.23406340501,2017.612591334882,12.974637605620565,3058.8932777887835,5047.075572462642,2073.8236499185446,90.87134758690829,302.37566523234835,8414.029450175487,3688.74815207763,9659.01278093403,7408.781031312495]}]},{\"name\":\"series 36 (F36)\",\"data\":[{\"name\":\"series 36 (F36)\",\"type\":\"scatter\",\"mode\":\"markers\",\"x\":[9441.27547016581,4903.233993479247,6770.699252499985,7703.108899346679,6951.311960962843,7069.096177358115,8812.510300200393,6272.597383459158,6426.768537731201,1550.676323751904,6534.376170085712,9483.057799414846,5414.556639331877,1158.5049236792045,9135.071216740233,7194.3820572641525,2231.0759974204852,8902.04207776953,4691.764507261165,6888.179008108326,484.6544326695135,9666.05064220795,2067.966432207976,7719.314864256373,808.3472154271443,7495.231098898957,8842.411635048857,364.46916076849243,1635.676141402461,2314.330204274836],\"y\":[4772.12358619736,5464.640780475064,2853.842539912359,5116.009011883866,1836.109135298326,9444.867993557333,9733.401311734597,9916.33674808237,1.8319289532264804,1543.2558591767774,9660.334636672822,4107.854518985726,2514.8219623724244,9992.730124166033,885.9207540636194,6232.730516585615,5732.47477494932,8472.766830060486,761.7413445631882,1653.6074647071164,6306.303680478042,6184.675244292036,741.6279630003087,2117.3185838762033,2862.604971580309,6202.836229010527,6809.3022159791235,4786.732130113553,239.70726905147788,7115.632460812605]}]},{\"name\":\"series 37 (F37)\",\"data\":[{\"name\":\"series 37 (F37)\",\"type\":\"scatter\",\"mode\":\"markers\",\"x\":[6929.909536760224,9958.554224422121,1810.6703608072162,2393.627621818939,1625.6122860642975,4390.006976767332,9453.507582372418,408.88830134812815,9839.848754264107,8924.869697000631,1326.7090638470113,5578.160307195283,9881.824416383412,4939.453289632759,4766.0433911947675,7713.951811463182,4432.255313443248,4021.654464275294,5339.3194060771975,2341.388584066134,9343.332043091097,9251.315801611407,3378.9956141089538,9475.050953064387,8280.330993243537,4467.691800290599,6158.222747624199,2148.816682105873,9129.247773158062,9989.907972584193],\"y\":[7284.113019185235,8853.069931446944,3534.286850527656,9398.864838259706,4852.729624741846,5957.463024890677,7930.98690196953,2194.1331429737966,6443.495521607483,7183.742480112764,3005.222682944608,1406.9468735639468,2126.420389397192,7241.985148134723,8635.270625305113,3580.496246360916,6313.7514987475915,5854.911550375967,3063.5820592860864,921.2863037873065,5508.355595047339,6568.7778248134355,8296.860626718297,1880.4155875344009,1784.3391738841985,1985.6699133379618,8547.493424881417,6941.199903117495,1181.1263474490486,3350.8583273359873]}]},{\"name\":\"series 38 (F38)\",\"data\":[{\"name\":\"series 38 (F38)\",\"type\":\"scatter\",\"mode\":\"markers\",\"x\":[4906.336907598335,969.650339084216,2100.403796150062,7790.192493776981,7376.31438334671,2126.8872716283904,1266.0583038628604,916.3495159267443,4898.233297647508,47.654678527563334,3840.4262558472547,6009.07337891231,5064.6852663974005,2756.676356979365,9885.881700161897,3523.3741618372305,7844.840948434611,2624.6693761997753,1518.9930000693496,6290.980780279697,1832.411253708166,6558.416688842393,3825.1787795270775,6454.173206205036,7280.993577205395,4574.368237905392,7884.999684020107,9907.442221125946,7505.478782000407,3922.829702051791],\"y\":[6108.923311918895,2821.260543617403,9105.146179221116,3009.86581671849,8485.60386189169,2683.5704708443177,1903.5255798470473,506.62913800301857,3319.4223114088063,3218.425019539154,1502.0617953698245,240.9034253986553,7566.234458826112,8527.546298654883,909.069992869056,1733.224551079857,9971.974864077778,6849.394689354273,2832.415296606665,9570.024706689042,4876.976382561007,8441.667152441127,913.8190103192522,2198.8217292002855,5769.557354001186,5266.975145767916,6434.6291444968965,2185.551907004262,5455.637792766015,2397.7768663714714]}]},{\"name\":\"series 39 (F39)\",\"data\":[{\"name\":\"series 39 (F39)\",\"type\":\"scatter\",\"mode\":\"markers\",\"x\":[6837.360583221976,5491.7286594178095,4056.851415637932,2355.4722684523645,3784.253889214004,6909.176867489323,6957.813990828303,3959.8869188273143,1413.5588255003383,2432.684647464649,2293.9241236603725,6689.2153005030395,9956.204266447265,7055.9791445561095,1604.2632712031534,36.80263063274292,5939.960295962827,8244.020402609704,7869.875034909399,4899.990531082294,7835.164772158233,1164.6823681521835,2315.9020660713945,647.5672837990965,5185.52615278489,1655.464536049316,5076.759668017085,7186.1978380325845,19.476694227602565,6855.964006583174],\"y\":[5106.736438053165,6082.535688134389,1652.0017311185275,1454.4076369650138,1564.1056000031251,8596.544616667687,9863.817872228718,9576.627336463607,2305.0406054810446,1342.8905484597997,6884.236621831998,8488.437809844338,5094.33098890494,2221.087336866815,5605.99111317687,487.4525002509611,3673.0932219885117,241.41278725421822,24.767621576502474,3627.95801763506,3919.379839102504,2922.434584128032,4023.129330741021,252.53448136229096,4995.788874945155,4047.3201440445196,6307.975471513616,4696.6997848811525,6598.883892903575,2739.9242853974147]}]},{\"name\":\"series 40 (F40)\",\"data\":[{\"name\":\"series 40 (F40)\",\"type\":\"scatter\",\"mode\":\"markers\",\"x\":[2562.6335592845153,7987.924208776003,6208.430681617167,2057.985876914811,689.1314056848008,7877.944126951475,9580.167327695532,1599.585771580715,1393.1546669362106,7127.383824867759,3634.0227141832584,3980.348832714291,4303.642414700005,1604.2643340153206,3360.403173654032,9462.702134268782,9320.93111926252,2463.068677598571,3400.3704421645252,6504.82887200532,3951.8093830815583,3438.599315207421,551.236215704367,8545.782410996415,16.79562939853163,5118.948188391207,5607.303676567443,8954.560032918449,7304.410805736436,2954.475931432663],\"y\":[1666.184796498622,6744.757193920752,7499.16386577258,4714.7780823071225,1314.3343021178644,5392.753408299237,9024.424975294438,6123.186116526681,6951.132037273573,5896.212188127872,2318.316637672112,478.4391865980975,6919.061121216808,3071.0014497613392,5500.199396977611,9215.735948623882,5078.221948090453,1008.4686205879267,2387.2886552794116,5564.449696309355,2996.633425443681,9601.339025791982,8385.38710276682,2727.3780593844986,2023.4698267344752,9095.325100473303,4904.676103988916,1336.4684226883016,7170.587778906076,3734.870339821097]}]},{\"name\":\"series 41 (F41)\",\"data\":[{\"name\":\"series 41 (F41)\",\"type\":\"scatter\",\"mode\":\"markers\",\"x\":[9640.954821734671,8332.538805985176,5948.402194257778,8745.274078691058,8314.67650216369,871.6006169414703,3085.368660686313,7129.775917813127,3274.5802196191344,4377.953605181466,6406.037231065634,4059.0029624899726,5749.670176416363,3444.3168070422194,50.846035073563996,6991.513018123726,1472.7489014540863,7921.823120945407,8691.518055803157,9087.995491685051,3900.6615174378912,4247.797804753692,429.14340255814864,1968.0192773378146,5320.865186581478,3826.8022893762663,6657.712269633922,1407.0427618075732,3760.8865937446103,6110.521312458615],\"y\":[4334.087090596867,6182.735403522808,2806.6865302975107,3914.6342018353707,9816.089586627118,5953.478830171272,2187.9029766869485,2465.897699024965,3713.5905606433594,8788.256209072832,9302.39642102134,1690.2434377062968,3043.1908983388266,2765.952152807872,5729.4743890605805,3332.771491886173,385.28486298140984,8923.426316118388,8220.62763889549,643.0984090397762,9712.99947571696,4755.545478582603,658.5596976698494,8564.59935831458,5095.710282453871,8456.686920950866,2039.7477989800539,6633.657681013588,1575.5296680722108,4142.057162076446]}]},{\"name\":\"series 42 (F42)\",\"data\":[{\"name\":\"series 42 (F42)\",\"type\":\"scatter\",\"mode\":\"markers\",\"x\":[5662.723705061649,5125.117770305507,7173.378592991585,7398.494346278888,6393.720182536948,7372.711693111954,1201.9416415761775,8688.256149016694,6133.276504064764,7648.311051544883,6846.020740517581,9365.615352155584,2421.852897153397,4501.431194170228,5316.49908165095,1364.9227762787375,1499.4587758470545,4040.4948635229166,4792.331234776046,6980.115836574474,5073.746761497689,6279.938957089991,9835.679966333224,9579.48816178128,9552.983445909971,382.32709586545235,5998.5220580046125,9585.854825612962,7564.757861182827,1392.2110944813471],\"y\":[9934.75055494891,2601.085294873371,4208.244149692838,1888.5554809984862,7489.99893562137,8165.295392232169,4677.2833088859725,6875.1269997291365,962.1223104302534,8314.823633959992,5643.508149269577,9183.32023121092,2008.4716592580642,4839.445074164351,103.1859316818573,5679.47520331533,8521.795119583103,2938.098906354283,4268.401694118696,1648.8175164581976,2204.8125739095804,6833.740037699805,5522.669473476145,1870.7300710749919,8544.206008095702,9831.752375794715,2463.00047556021,2105.1433475705885,2417.9727588628107,7292.682652078109]}]},{\"name\":\"series 43 (F43)\",\"data\":[{\"name\":\"series 43 (F43)\",\"type\":\"scatter\",\"mode\":\"markers\",\"x\":[1614.915043607893,3977.412669188374,665.7943886946482,6038.892241190776,533.8420340312633,9579.123161668114,7610.272770889831,7826.046050743351,3695.7940502915867,9494.846028720727,737.5940240368761,7684.185397065226,5832.167627893483,9419.946152905257,1529.3754677116967,169.46182617328387,7177.967977438887,6052.118656053054,783.1660955045683,7866.439595331236,6479.707666228993,2519.411507992576,8667.25770571201,6842.195717362782,548.689274955072,7250.068384660539,7226.186614229915,3177.281035122833,3647.325590392959,7894.603279938399],\"y\":[7086.490143540095,3184.931236467633,6060.614093579337,3678.099893041221,707.9989147321264,7478.744216567316,8831.827824774435,5390.802624079638,1684.1412750306583,5660.369446450324,830.9406128233044,2117.6471646877994,3315.4439459529617,4072.5851201883265,5076.259077375938,7762.454353362313,9963.612911423039,3799.4593973099923,3544.185257698832,8440.093991387695,1539.2827508576802,9894.132089136663,3578.9871088906766,3889.994674295678,4884.72629104497,5676.069593406596,4453.9079450862555,2206.965211354608,5783.520645638039,7863.482123176232]}]},{\"name\":\"series 44 (F44)\",\"data\":[{\"name\":\"series 44 (F44)\",\"type\":\"scatter\",\"mode\":\"markers\",\"x\":[9636.897517486503,7390.35832713925,1862.3643228103815,9292.915819025344,8878.70230621865,3480.200516877956,9745.949203317758,6026.861953511248,4368.005563701984,7378.973258345312,9483.988918178798,4761.555471173991,6887.758524360371,4850.3247895921495,5490.214137186762,4620.9594467136985,1158.8002927514585,641.0579940781769,6016.340333536141,4659.262162137148,4371.315702730919,4190.324935406956,2529.726306451733,4693.043887273285,8281.632374486966,6970.0331955940255,6271.635614999343,2445.592752436958,3191.3140094556193,6143.048592811183],\"y\":[1743.7246100815162,4409.683592755349,1627.457714564312,1930.859063529733,5903.575526296204,1321.458267044302,607.5580756703225,2849.9352081316165,7445.804787485256,1686.8738231535062,3999.2511627875606,3806.1135736573938,2703.473102915158,8413.514059239544,674.7085245783269,6928.892243756215,3425.227883890819,4274.390218450838,9911.401105580528,3982.6204544381085,6966.818652100215,1666.6782162753746,2805.4081156977495,2209.1303656647556,1281.3174071723677,927.1772242035037,7340.397703937651,2536.4441986117504,5500.589797031591,9327.59304970015]}]},{\"name\":\"series 45 (F45)\",\"data\":[{\"name\":\"series 45 (F45)\",\"type\":\"scatter\",\"mode\":\"markers\",\"x\":[5194.860350673025,230.76821560757966,1871.261094663027,9796.585174538692,372.1284695292026,3274.0579644182253,6341.622055319554,4401.841123185845,3302.169185557119,3017.0214338394853,3191.6292224279264,2674.2686961304207,9191.091183598453,4987.505458483042,3756.3514558784173,8967.729394120328,6083.755386258153,5126.785271150722,513.9194895748922,6221.558984958025,6356.8404590289265,8181.359601224668,5592.241331546932,5729.452549279063,5174.1588426092985,495.4265736892183,7094.443464816128,3817.121352812137,812.9763855974293,9029.299886380351],\"y\":[7551.207101202015,6692.448589295291,4709.543048307864,2071.5967889959807,6278.867384572972,4155.712756021374,3573.9905902155456,4818.113545187864,1455.3494650985256,1343.7600519237792,1989.2108386650364,4757.8760398007435,8321.716552889993,5230.8495857774315,1535.2803128436176,7636.937136907625,7075.310050699418,9220.212066172033,1670.4455817554265,4663.06475687719,7741.160826316324,4834.1985698866865,8351.645755374118,5569.549562181351,9591.562093397395,4247.219956741836,8691.99071470399,173.93179991773923,9529.387677305655,1204.5054611685202]}]},{\"name\":\"series 46 (F46)\",\"data\":[{\"name\":\"series 46 (F46)\",\"type\":\"scatter\",\"mode\":\"markers\",\"x\":[3829.578994488452,3147.530215185218,7258.948475758825,731.0407946046438,7621.47876596144,2854.2338440936733,5038.882479961126,9958.870264509149,5778.661727440833,5322.092004475015,6344.776952976229,3387.277366322757,8622.123276846327,8678.818463033484,864.9205000198601,5939.1856894479615,767.379471221048,1712.4057151960903,2910.7913701652355,6288.451863666242,2733.985731780427,2610.620097949776,6544.590158397498,1106.5478038225062,2728.6697075671605,388.2250700265222,3509.323707303298,8113.458436689779,1665.1315810478484,2028.3675276294898],\"y\":[9392.65644603004,2116.452669622776,860.5116687857528,2944.6257577766733,9363.945384917039,3581.706919930393,9787.98336768514,7012.809421314565,7294.576385235382,3707.5938225395375,766.8750333333707,5126.671735821277,1104.9276582045231,3454.7748470115034,8536.190481256705,7999.27383247301,2776.982046348534,6537.067000282588,5284.334853587726,9761.821404734967,3629.8234977290413,7988.372687239446,5897.320644396326,3804.372015283578,4175.941152207791,594.8030161239859,3939.669761244897,1257.8837575576974,3159.485329224868,1217.4418781694962]}]},{\"name\":\"series 47 (F47)\",\"data\":[{\"name\":\"series 47 (F47)\",\"type\":\"scatter\",\"mode\":\"markers\",\"x\":[6196.691090247193,5534.663241397902,2223.307724507776,7830.032724050495,2483.7545725672085,3424.3411998803786,1059.8284229483613,5957.194685546889,7867.649677581849,4385.08615592589,2871.477498462429,122.6038543932606,6447.0566648199865,4874.845790415826,1499.6540815974568,1902.9073434669997,9403.618164787398,3834.976106923045,9676.858399125462,1231.956125010506,5162.0544731850705,8768.709249029864,2514.8465150522525,1711.2833292698272,6187.210646212204,9249.476446017128,1562.3692411894342,3856.5725442461285,5197.885616844117,6149.189980124836],\"y\":[2549.251515989449,2446.1942772051993,3391.7403406348835,394.158838610269,4279.279106279361,5436.7150243735405,4652.538756688652,4636.398128902562,7042.555071454285,2271.6132247154906,2650.426319741542,4870.663338008752,6388.700783079404,8833.259614044406,2247.9037714014603,6732.62497313709,2135.4693538904758,4774.555369470287,2688.6120997733296,2981.171846306283,3083.0499047447024,6515.442374178058,7672.988021372752,4497.912974118461,5062.542066043422,5800.832611843691,6614.3114840263825,7029.526535936829,3667.7810082685105,9390.329194154483]}]},{\"name\":\"series 48 (F48)\",\"data\":[{\"name\":\"series 48 (F48)\",\"type\":\"scatter\",\"mode\":\"markers\",\"x\":[2120.6166399569993,9853.676738205586,3302.899637975244,186.4410097764524,1062.3890345120524,566.8075252750738,1023.7160990644345,3906.8215413221365,462.926186155761,2272.1887539578433,7059.237940926929,8267.38824027746,4887.694509267218,5589.179370543854,3870.2765729048883,3567.0106211196194,9010.963265238926,8109.741273870575,2135.3725808880577,4550.778331861622,7602.455588884529,8195.822232028506,5149.929086586567,3477.693952479226,5303.703337348336,8341.298876236368,2782.660573964252,3429.9611347077307,253.2503894207505,5714.756755316855],\"y\":[2354.1618173995025,9074.863334038519,8871.80154411363,3954.4506174656703,6585.608074106032,9326.563867339124,3932.864159758859,804.3791961170676,8111.300585183424,2653.9803664963124,4421.38637748176,760.4783220454315,5956.972602527948,1142.2143672791108,3622.3477117743564,538.515009808187,1856.4776262634675,3838.851561377279,1383.2094364002933,7880.350740033134,3312.6783981893805,3402.7680945717643,7558.588165363338,982.8064657001056,5904.068528019272,2621.9122725015786,6272.465895352065,6663.457213538506,9496.850283927848,8977.854848613539]}]},{\"name\":\"series 49 (F49)\",\"data\":[{\"name\":\"series 49 (F49)\",\"type\":\"scatter\",\"mode\":\"markers\",\"x\":[4822.705905898285,270.2452638726316,1742.90452544404,6108.735876266298,6804.5951305852,9296.892891770267,7527.284891133618,758.5530003553909,6344.5870695704225,5683.664000936857,4874.577382081136,2599.5787036338047,9212.374563414143,8863.108465547915,6231.666500201626,2176.007423838272,7018.8685089226565,2752.997239071067,9015.148005502537,9140.773499149282,2709.622350417602,5103.73638635014,844.8450730507817,8943.80168583648,9127.683734468075,6875.125950168579,2980.5687926534897,1178.7837725277327,7546.816391973591,2647.4067643172493],\"y\":[137.48440549891993,6906.898963938233,9765.485071064464,464.1179520949301,6076.136443163193,5449.732339673344,5603.946853579439,959.3645377502014,2146.3950700570676,3379.960687215986,7461.253430666277,1139.674756130501,310.2850124283929,9737.21619515408,4965.9109379956035,7770.700885006177,3076.865813878311,1857.8590834494257,5693.407885386471,8961.601093380506,253.03124870394433,5631.218554302802,2425.7658360624755,245.0123339784549,6447.302047454664,2481.1944896988093,3492.7280071115465,3218.1062726297337,3859.3866798730305,2920.933857752275]}]}]\n",
       "var labels_qqzzbXe8ii = [\"series 0 (F0)\",\"series 1 (F1)\",\"series 2 (F2)\",\"series 3 (F3)\",\"series 4 (F4)\",\"series 5 (F5)\",\"series 6 (F6)\",\"series 7 (F7)\",\"series 8 (F8)\",\"series 9 (F9)\",\"series 10 (F10)\",\"series 11 (F11)\",\"series 12 (F12)\",\"series 13 (F13)\",\"series 14 (F14)\",\"series 15 (F15)\",\"series 16 (F16)\",\"series 17 (F17)\",\"series 18 (F18)\",\"series 19 (F19)\",\"series 20 (F20)\",\"series 21 (F21)\",\"series 22 (F22)\",\"series 23 (F23)\",\"series 24 (F24)\",\"series 25 (F25)\",\"series 26 (F26)\",\"series 27 (F27)\",\"series 28 (F28)\",\"series 29 (F29)\",\"series 30 (F30)\",\"series 31 (F31)\",\"series 32 (F32)\",\"series 33 (F33)\",\"series 34 (F34)\",\"series 35 (F35)\",\"series 36 (F36)\",\"series 37 (F37)\",\"series 38 (F38)\",\"series 39 (F39)\",\"series 40 (F40)\",\"series 41 (F41)\",\"series 42 (F42)\",\"series 43 (F43)\",\"series 44 (F44)\",\"series 45 (F45)\",\"series 46 (F46)\",\"series 47 (F47)\",\"series 48 (F48)\",\"series 49 (F49)\"]\n",
       "var duration_qqzzbXe8ii = 100\n",
       "var config_qqzzbXe8ii = {\"responsive\":true,\"scrollZoom\":true,\"displaylogo\":false}\n",
       "\n",
       "var traces_qqzzbXe8ii = JSON.parse(JSON.stringify(frames_qqzzbXe8ii[0].data.map(x => x)))\n",
       "\n",
       "var animation_settings_qqzzbXe8ii = {\n",
       "    mode: \"immediate\",\n",
       "    direction: {},\n",
       "    fromcurrent: true,\n",
       "    frame: [\n",
       "      {duration: duration_qqzzbXe8ii},\n",
       "      {duration: duration_qqzzbXe8ii},\n",
       "      {redraw: true}\n",
       "    ],\n",
       "    transition: [\n",
       "      {duration: duration_qqzzbXe8ii, easing: 'cubic-in-out'},\n",
       "      {duration: duration_qqzzbXe8ii, easing: 'cubic-in-out'},\n",
       "    ],\n",
       "    ordering: \"layout first\"\n",
       "}\n",
       "\n",
       "var slider_qqzzbXe8ii = document.createElement(\"input\")\n",
       "var play_qqzzbXe8ii = document.getElementById(\"play_qqzzbXe8ii\")\n",
       "var pause_qqzzbXe8ii = document.getElementById(\"pause_qqzzbXe8ii\")\n",
       "slider_qqzzbXe8ii.id = \"slider_qqzzbXe8ii\"\n",
       "slider_qqzzbXe8ii.type = \"range\"\n",
       "slider_qqzzbXe8ii.min = 0\n",
       "slider_qqzzbXe8ii.max = frames_qqzzbXe8ii.length - 1\n",
       "slider_qqzzbXe8ii.value = 0\n",
       "document.getElementById(\"sliderContainer_qqzzbXe8ii\").appendChild(slider_qqzzbXe8ii);\n",
       "\n",
       "Plotly.newPlot(graph_qqzzbXe8ii, traces_qqzzbXe8ii, layout_qqzzbXe8ii, config_qqzzbXe8ii)\n",
       ".then(function () { Plotly.addFrames(graph_qqzzbXe8ii, frames_qqzzbXe8ii) })\n",
       "\n",
       "var trigger_qqzzbXe8ii = true\n",
       "var reset_count_qqzzbXe8ii = false\n",
       "\n",
       "play_qqzzbXe8ii.addEventListener('click', async function() {\n",
       "   trigger_qqzzbXe8ii = true\n",
       "   if (reset_count_qqzzbXe8ii) {\n",
       "      slider_qqzzbXe8ii.value = 0\n",
       "      reset_count_qqzzbXe8ii = false\n",
       "   }\n",
       "\n",
       "  const start_index = slider_qqzzbXe8ii.value == labels_qqzzbXe8ii.length - 1 ? 0 : slider_qqzzbXe8ii.value\n",
       "  const end_index = labels_qqzzbXe8ii.length\n",
       "  await Plotly.animate(graph_qqzzbXe8ii, labels_qqzzbXe8ii.slice(start_index, end_index), animation_settings_qqzzbXe8ii)\n",
       "})\n",
       "\n",
       "pause_qqzzbXe8ii.addEventListener('click', async function() {\n",
       "  await Plotly.animate(graph_qqzzbXe8ii, [null], animation_settings_qqzzbXe8ii)\n",
       "  trigger_qqzzbXe8ii = false;\n",
       "})\n",
       "\n",
       "graph_qqzzbXe8ii.on('plotly_redraw', () => {\n",
       "   value_qqzzbXe8ii.innerHTML = slider_qqzzbXe8ii.value;\n",
       "   if (trigger_qqzzbXe8ii & !reset_count_qqzzbXe8ii) ++slider_qqzzbXe8ii.value\n",
       "   if (slider_qqzzbXe8ii.value == labels_qqzzbXe8ii.length - 1) reset_count_qqzzbXe8ii = true\n",
       "});\n",
       "\n",
       "slider_qqzzbXe8ii.oninput = async function() {\n",
       "   await Plotly.animate(graph_qqzzbXe8ii, frames_qqzzbXe8ii[this.value], animation_settings_qqzzbXe8ii)\n",
       "   trigger_qqzzbXe8ii = false\n",
       "   slider_qqzzbXe8ii.value = this.value\n",
       "   value_qqzzbXe8ii.innerHTML = this.value;\n",
       "   if (this.value == 0) reset_count_qqzzbXe8ii = false\n",
       "   if (this.value == labels_qqzzbXe8ii.length - 1) reset_count_qqzzbXe8ii = true\n",
       "   reset_count_qqzzbXe8ii = false\n",
       "}\n",
       "\n",
       "next_qqzzbXe8ii.addEventListener('click', function() {\n",
       "    if (slider_qqzzbXe8ii.value == labels_qqzzbXe8ii.length - 1) {\n",
       "        reset_count_qqzzbXe8ii = true;\n",
       "        return;\n",
       "    }\n",
       "    ++slider_qqzzbXe8ii.value;\n",
       "    value_qqzzbXe8ii.innerHTML = slider_qqzzbXe8ii.value;\n",
       "    trigger_qqzzbXe8ii = false;\n",
       "    slider_qqzzbXe8ii.oninput();\n",
       "})\n",
       "\n",
       "prev_qqzzbXe8ii.addEventListener('click', function() {\n",
       "    if (slider_qqzzbXe8ii.value == 0) {\n",
       "        reset_count_qqzzbXe8ii = false;\n",
       "        return;\n",
       "    }\n",
       "    --slider_qqzzbXe8ii.value;\n",
       "    value_qqzzbXe8ii.innerHTML = slider_qqzzbXe8ii.value;\n",
       "    trigger_qqzzbXe8ii = false;\n",
       "    slider_qqzzbXe8ii.oninput();\n",
       "})\n",
       "\n",
       "</script> \n"
      ]
     },
     "metadata": {},
     "output_type": "display_data"
    }
   ],
   "source": [
    "val xaxis = Axis(X, title = \"X Variable\") setLimits (0.0, 10000.0)\n",
    "val yaxis = Axis(Y, title = \"Y Variable\") setLimits (0.0, 10000.0)\n",
    "\n",
    "// we can also specifiy the underlying layout directly - sometimes this can be useful\n",
    "val layout = ChartLayout(\"Animation XY\") setAxes(xaxis, yaxis)\n",
    "\n",
    "val series = createXYSeries(numberToCreate = 50, length = 30)\n",
    "\n",
    "val chart = Chart(animated = true, transition_duration=100) setChartLayout layout addSeries series\n",
    "\n",
    "chart.plotInline"
   ]
  },
  {
   "cell_type": "markdown",
   "metadata": {},
   "source": [
    "### 3D Animated Chart"
   ]
  },
  {
   "cell_type": "code",
   "execution_count": 48,
   "metadata": {},
   "outputs": [
    {
     "data": {
      "text/html": [
       "<div id=\"grid-container_X6KGoR7giW\" class=\"grid-container\" align=\"center\"> \n",
       "<div id=\"grid_X6KGoR7giW\" class=\"grid\" align=\"center\"> \n",
       "\n",
       "<div align=\"center\">\n",
       "  <div id=\"graph_5SDqhgJziq\" class=\"graph\"></div>\n",
       "  <div class=\"animationInterface\">\n",
       "    <button id=\"play_5SDqhgJziq\" class=\"picta-button\">&#9658</button>\n",
       "    <button id=\"pause_5SDqhgJziq\" class=\"picta-button\">&#9616;&#9616;</button>\n",
       "    <button id=\"prev_5SDqhgJziq\" class=\"picta-button\"><</button>\n",
       "    <button id=\"next_5SDqhgJziq\" class=\"picta-button\">></button>\n",
       "\n",
       "    <div id=\"sliderContainer_5SDqhgJziq\" class=\"progressBar\"></div>\n",
       "    <div id=\"counterContainer_5SDqhgJziq\" class=\"inline-div\">\n",
       "        <h3>Frame: </h3> <h3 id=\"value_5SDqhgJziq\">0</h3>\n",
       "    </div>\n",
       "   </div>\n",
       "</div> \n",
       "\n",
       "</div> \n",
       "</div> \n",
       "<script>\n",
       "var masonry = new Macy({\n",
       "    container: '#grid_X6KGoR7giW',\n",
       "    debug: true,\n",
       "    mobileFirst: true,\n",
       "    columns: 1,\n",
       "    margin: {\n",
       "        x: 0,\n",
       "        y: 0\n",
       "    }\n",
       "  });\n",
       "\n",
       "var graph_5SDqhgJziq = document.getElementById('graph_5SDqhgJziq')\n",
       "\n",
       "var layout_5SDqhgJziq = {\"height\":550,\"width\":600,\"hovermode\":\"closest\",\"title\":{\"text\":\"Animation 3D\"},\"showlegend\":true,\"scene\":{\"xaxis\":{\"showgrid\":true,\"zeroline\":false,\"showline\":false,\"range\":[0,10000]},\"yaxis\":{\"showgrid\":true,\"zeroline\":false,\"showline\":false,\"range\":[0,10000]},\"zaxis\":{\"showgrid\":true,\"zeroline\":false,\"showline\":false,\"range\":[0,4],\"type\":\"log\"}}}\n",
       "var frames_5SDqhgJziq = [{\"name\":\"series 0 (F0)\",\"data\":[{\"name\":\"series 0 (F0)\",\"type\":\"scatter3d\",\"mode\":\"markers\",\"x\":[8543.862317903953,6746.153905788289,3327.097684578877,5324.532679303996,5950.365808397682,8895.825304673299,4047.278561512594,9768.253325752592,404.0977588917949,9452.600119061477,601.6636666300324,477.3801336935324,8234.287671925766,2999.1136543694665,8774.174408955729,8935.687926092038,7143.353984697226,8803.971863317784,1816.2241128780033,9817.075894360398,556.5665485227767,2046.9505338384308,9976.533909911075,7320.766899399085,5306.031170717004,1012.2585124835581,4924.872257481935,3810.785899173683,213.99854002897678,981.3743035609546],\"y\":[8534.133343881918,3429.6981721753873,1079.9523916952458,4199.537653676981,7955.873721766594,7780.418026499779,7077.887735011931,7995.059430463465,7957.631569063243,4256.229715150544,4634.6380402131945,9898.191716026624,7086.0533434117815,147.98478278857274,7487.068790797529,9436.376752176247,6378.057215019057,7268.773270000443,5805.404678780566,1175.2686428068325,8062.963784444288,2510.191173778865,3021.910576579281,2530.0083539079687,6981.733094202655,9480.65701635967,6318.602260347344,2888.800304221567,9295.141666525778,5175.0563250671785],\"z\":[5604.613638958292,7670.9243663952475,1460.9452385673849,3486.3220219863,6253.300709075489,2083.8928324559747,7430.768940211887,4293.3869917802285,2871.11592764692,4549.538120347217,3550.67383953484,2846.2730348535893,4934.740466741723,9036.399074554432,8745.050526588155,9217.908766380446,259.9144017879429,8865.848828488979,2221.6941681202798,1703.595554300511,8954.856431988885,1951.9859291340647,2156.6179658368333,1222.8724537925439,8763.121350464784,8890.3886031529,6600.3639339183355,6014.854433881387,2515.192058465403,828.4114563582001]}]},{\"name\":\"series 1 (F1)\",\"data\":[{\"name\":\"series 1 (F1)\",\"type\":\"scatter3d\",\"mode\":\"markers\",\"x\":[2193.2768911685507,7216.948351920492,9785.061930267511,3629.7808198532766,7185.406128324306,6278.18394138979,7787.510580378814,8488.821025405912,2727.405007934792,4582.214954389396,1053.7304868914875,6854.727752380425,432.0022460721429,4141.383560121517,5487.421696124752,9293.876569298262,4801.317874814568,5772.063530760933,30.412834185619133,3748.235607436795,6273.507538167651,7772.829233334384,8356.332094127702,8540.532011113464,4362.911923606052,3800.822195330464,3762.7943673070763,9431.892574671192,651.1008806180274,3378.0170926844576],\"y\":[2747.0339047239354,8055.266472759996,8231.898959778484,2257.9192061208764,6626.856638545263,1128.0097337672323,7621.681731600126,2744.5475099513196,6008.2432620191,5989.587957810869,9116.943293948687,5979.393352012226,9902.886072268017,8215.44110499438,8114.325643881472,9198.365246233292,9863.401196905688,1325.6194920970897,3004.0158209432975,1009.5654326752135,9630.896777000562,6936.889928162858,4905.613412839629,6854.065847605193,2479.051205841222,6099.581382139008,4736.27478100072,4985.684128171355,1690.7880763521543,9015.519468047562],\"z\":[5884.144507330076,542.0838379021475,4418.102959857591,850.9817986310131,105.7889353842445,1578.357357161476,5552.54385770155,5938.675952762884,174.5460639521057,6295.570547942012,6173.296423896552,1305.327184389874,5277.412965466141,5120.582644102796,641.7902625369043,3166.539484462,4191.293232863493,4779.7795905415605,7476.17950172634,6798.165960580918,6865.129262932224,4058.188413940085,1766.0205309947742,1023.5140306154055,7192.650740083133,2546.7677461331805,1076.9096767382503,3448.2771051381446,8481.168080835105,4354.498766095718]}]},{\"name\":\"series 2 (F2)\",\"data\":[{\"name\":\"series 2 (F2)\",\"type\":\"scatter3d\",\"mode\":\"markers\",\"x\":[2546.8030029531965,1530.1691314925836,8405.049591787269,8498.226958657213,6190.195073558182,7587.818343791129,2078.2177544539873,6482.035359897619,8303.280864706092,2933.5454006770833,288.2094560907444,5439.257665228326,9302.68354812683,7457.24277090005,4905.039569392486,2134.0660575234792,2332.2806121494255,6193.636677756298,5011.3225104640505,9105.89819067556,2537.1164977821913,3672.8008011800416,5395.796676192291,9288.8168623267,2030.3390861051107,183.86366673105115,3710.6084707137443,9549.220206936989,2268.5565205387625,1474.4348539058794],\"y\":[3813.413342527712,6759.155532023732,3802.959121673105,4863.345437281157,598.553236915741,2258.8055099493145,3188.003156405468,261.8847882653097,5967.273271706691,1860.5627340560027,8206.414023544727,4178.78891234429,6495.146460164495,8908.413890495922,5508.709341709572,8426.812311015887,825.5727570026339,7330.202028332543,9267.404278150905,2953.8023466152854,8851.427857824367,106.65623406658331,5510.509307495753,3988.7581282827014,5342.637326036887,6129.898807719438,4425.884851933242,4523.45031172002,7835.654079373317,5035.485829942037],\"z\":[2117.4730116591777,4042.7455015756755,2321.5204014510005,5265.844920406062,4046.3744587328474,8371.858800374192,552.4036246232266,5359.3189698185615,4704.198059399175,8526.341968207063,9632.188683280896,2257.8399240780745,1943.057769510016,9530.684910543096,7964.924985390275,3287.5969966219163,9826.05040185624,6313.990576507861,1605.6143438940207,390.8778729175155,863.9945550929407,3996.263819732061,1591.0473750447973,6173.604832633475,7068.6702064428055,4146.424556692099,5924.080305523507,1381.899602562503,9379.747703743984,6923.245051732033]}]},{\"name\":\"series 3 (F3)\",\"data\":[{\"name\":\"series 3 (F3)\",\"type\":\"scatter3d\",\"mode\":\"markers\",\"x\":[9542.961824717273,2532.356433944395,6712.0500909111925,1402.978044366454,1828.0153384991581,6594.514124134643,9121.742986654632,2852.5297773744874,3981.1868696892716,6860.359145622607,4404.503679291079,6224.603722796116,7959.670689133132,434.5100610421293,3815.6712465589417,9731.322567230498,4553.032639716255,3140.071353416166,541.8321932805592,995.4121615926737,663.9473012621089,2058.962602311801,4055.2504274307635,983.1106044068116,4885.873031956944,9411.865480883576,4547.005472601219,7690.543196394368,6066.691822408936,4031.754447466539],\"y\":[4261.651787461064,2385.3813166821856,1705.540599819968,8296.307076990124,6745.667149558013,6098.183605663805,1750.7691919668434,9058.317632311562,773.9124071463876,3012.8925537239093,8650.156593117352,849.5645017524389,3032.777316576387,423.54195071411027,6350.227096642793,8432.413295035716,2515.6379621557567,2004.3054490639013,9349.706536004633,3634.76107255739,25.707105823158383,2282.5947605828446,7882.862102219797,8327.759922775806,8183.313476964497,5409.9968492891485,6841.676683823548,1392.082018069185,899.0929317481666,593.4153003936638],\"z\":[4141.503864461872,2567.321550114593,6401.533703020304,9878.858097364577,8893.062564891,190.44877290302242,4596.769509519003,1372.897391191511,964.3255145879348,3003.071292537922,7790.463461355254,2441.896829025727,1299.0611485541103,8443.572885473352,3616.087388529028,2946.688574629377,6704.496249609259,1139.0395256532215,390.8424991355008,8150.453859071534,3728.7606022698837,5673.202444724136,8059.932996363933,4580.142482789204,3719.487277694854,7130.461422642572,2391.8473607307124,9826.844738443022,5188.139849581575,1402.3744157362516]}]},{\"name\":\"series 4 (F4)\",\"data\":[{\"name\":\"series 4 (F4)\",\"type\":\"scatter3d\",\"mode\":\"markers\",\"x\":[6151.760136156701,9038.104184974323,200.34230598199088,4791.835619444199,8607.121172010538,6685.242901795604,8670.69047613994,9061.481990123319,3908.9466858852693,2081.3429166101714,8161.227967827179,3746.706112432374,9644.286595164971,1080.6127198520921,7065.971631019551,2289.974439030423,9169.790136408541,4407.439629097158,5909.5735142696885,2351.981467769567,5213.249649006202,5143.5082586570215,4896.413674228006,3516.4980531063848,7669.451171940877,4043.9484596182306,5817.114943185462,7529.600243451163,5518.614196903042,1558.5468795832546],\"y\":[2952.680994140805,7200.291261421481,1360.1625805452156,9701.638889192718,712.1550515719166,138.36050301270663,7181.510699486155,5244.37489782179,5397.906392998453,2616.648846694779,1671.0114317462367,8095.634037194538,4713.350337610545,7018.720608286445,2636.1607479087224,5192.93227253736,1411.1105189365892,3569.2651450533453,2902.6094991637365,742.2571505385656,6825.340782801942,3343.387605555208,4446.482688434316,8225.83272685689,5940.11807213348,4912.26853998426,3451.9642611101985,8239.398830026796,8116.5311311402265,1406.503596240044],\"z\":[8488.054564224376,8925.67096473915,6634.283592993387,8264.763769718442,5062.86195527982,2538.216232494267,5799.339323092425,4484.242904696783,2440.745869078981,2500.0689870501647,6527.33967753727,1800.687726690493,2797.076138060085,213.9793989495553,33.222563994936834,6899.63378701921,8537.332029323292,9836.27324839848,4540.679906378668,1496.7990681096521,921.7146402034582,2243.8736376698366,1770.7936298946292,3924.415928802095,2013.4002028669452,6504.1174137696735,8377.387320799467,3721.6073907918844,2408.0148676174017,8299.574826078864]}]},{\"name\":\"series 5 (F5)\",\"data\":[{\"name\":\"series 5 (F5)\",\"type\":\"scatter3d\",\"mode\":\"markers\",\"x\":[2467.342584312425,7650.745911139821,9203.863962413283,9965.161040903944,6877.3246811111285,1548.05789344564,2236.903989794784,6062.4045487110925,8974.071368056337,7465.564798540314,1731.3956753630732,1745.8169357993324,1403.5953291592928,9672.784804647717,7206.632698044187,8568.88424477028,9435.360086346302,6260.438910442928,5732.090645616757,3832.2824991734483,8330.688878500603,5324.742868685027,7437.79751142025,5094.494463021938,8510.370145697783,6009.686216386414,7563.675629615984,1045.0828193772777,7204.624502917367,5046.032477178679],\"y\":[7271.06306922837,3583.4568329060444,2739.3049274716495,8849.602471253718,9941.572290055567,3651.041947180993,1645.4028430492374,9727.728409218444,5752.896929312325,5132.346861266126,9374.63322504308,2291.5976679945625,4948.132148414358,6970.492566616943,2562.0813134643017,2783.528289464643,9404.629279574585,3535.35434401727,4497.591437631267,9702.056104688681,2860.350246974898,7237.5387836662385,5750.782265326837,8844.027523195888,2470.151795571437,5399.000768747893,8740.278613933542,9681.733549077126,8241.374454009361,5471.18142741022],\"z\":[8445.950053582812,2854.440319532571,2337.565145906262,8834.126697781701,1433.6520684612497,477.50174268644696,7241.12112457455,3615.122001043529,1895.1662403029745,1958.5716991693935,330.0891547456286,1232.9633505720606,6501.741016482275,8059.25380217897,2551.309058704453,9704.053410771397,9527.83771650593,5051.861215433935,561.549221000931,9139.098916263607,5922.386919042988,8994.786049966213,4960.224779123088,1314.2554726330002,2788.0685387229355,7386.302763463889,2051.7508428318197,5718.15284671786,9074.825525282959,1755.4621576206364]}]},{\"name\":\"series 6 (F6)\",\"data\":[{\"name\":\"series 6 (F6)\",\"type\":\"scatter3d\",\"mode\":\"markers\",\"x\":[2952.53293291132,9056.302058674797,9202.030486144253,110.05859861676903,1797.0510041367781,3836.9715665640915,8794.422656276452,2585.4790829304843,4299.442082535543,4367.696317893774,9750.14082492882,7124.578271898212,8991.447733924453,5259.155646822544,7454.874172759884,4567.541354685179,6084.539467154488,8363.245080205457,5114.364148162179,4142.034419540795,3093.4893681679077,8964.733741306414,8898.18611978699,1017.7622174605383,2110.6080543501103,1000.9849300489016,2870.9480446431935,7325.888722222702,934.3247505296082,4101.794151913557],\"y\":[4532.744522095391,6842.5972219158,9132.73596142592,2321.472026458975,198.90581419994,1397.3997475407264,562.2032776340935,5577.886863322732,4419.789109592765,3990.6300394704285,5863.034919179993,18.24942281688613,9174.558143383692,9590.88681079082,2018.7368610620103,2799.0089248621066,6668.602011368261,9632.016608413318,1192.2746535463602,97.30314354537195,4222.448374851747,340.5598540371513,7742.236958573405,4563.98400840807,960.7262191779741,8198.404782609185,573.7503795526444,9883.320249418859,3792.9411236195474,8081.730447098321],\"z\":[7793.440460367487,5622.052521854962,4523.523443199826,916.1386445927789,2014.6949768534462,5130.5612663421325,836.8182029406823,8049.213537902712,7598.934528148708,2901.4787111712226,1373.3854904544185,8965.562791570574,5620.545814224147,5496.1589426690925,9147.183922675165,7455.736620463532,8407.594992370252,1916.9952284018732,8148.913184529733,8899.236873707654,3137.3808470126805,5133.656827502223,5138.993946421967,7933.16363824552,3155.3493740002436,6363.888245871594,2354.3706240127594,1451.8736815626842,6437.838201764879,7664.599113503739]}]},{\"name\":\"series 7 (F7)\",\"data\":[{\"name\":\"series 7 (F7)\",\"type\":\"scatter3d\",\"mode\":\"markers\",\"x\":[7136.515970480161,6619.350067656486,2933.5781676062957,6406.545009558603,1333.7328960852435,7374.8145638215865,6395.826644957774,7285.9845661067575,6739.039763675868,5773.440746266586,1756.4655266095042,3669.268327503923,2795.6361602737334,6427.8518214082915,6095.345098864168,271.3984413490611,9335.14654475292,3302.421302553041,9822.613509044175,3437.177129511415,209.5427798872762,8161.213572756733,4818.719272035117,3623.6326065145963,3335.848754359323,9081.739147615779,7966.231099180167,7075.000499729604,8893.436004068382,5620.521257863108],\"y\":[1759.5709597204223,136.60664821817713,196.9169783557423,4452.8006388307385,8493.210151687395,171.58007153973531,1113.3548663338665,5607.533860292246,905.830391393756,1624.4051740075504,9800.70113067042,4780.165516786953,97.4040185535363,4417.893327241688,1015.0828339556905,1629.4908774022488,1038.1062121270556,4575.241037380231,8267.7634719906,7451.241574689652,7052.415417499031,3726.4102332706007,2708.3009485642297,8169.866255316125,7288.72250640532,4988.156488539616,7768.632882194815,201.2999910232227,5374.212058815247,7599.593890790679],\"z\":[7323.521451015678,7413.345542421973,3206.73946278321,1650.2789098277449,405.99311993878007,7146.618829510478,1149.879197073105,7255.361432195156,7362.110172214433,2057.8392974943004,4774.266715445557,9612.437997258596,737.6188831417818,2408.5695492265713,8727.822185704212,2517.313235655636,9159.71375743796,346.34597479353715,319.38245930028364,8120.960972583476,4010.371584222415,3711.458126723395,8964.732149709485,9977.546613744023,6783.4014214653,1951.4750125563207,2770.973558647776,9763.457679201414,9675.566642173824,836.9339193892079]}]},{\"name\":\"series 8 (F8)\",\"data\":[{\"name\":\"series 8 (F8)\",\"type\":\"scatter3d\",\"mode\":\"markers\",\"x\":[224.62614086380395,5439.864059927014,3182.836333481254,5845.443868774259,3200.805201201011,86.40581335258135,2256.0254719259974,6317.7779464051555,7325.275561223926,6151.1904953228,6915.786999609643,3788.361146284068,7098.135541017895,9442.35224172699,4135.124345614294,8253.884387075714,6127.335038872053,829.0105680954673,5268.291283356092,5567.608582491312,7322.186787846587,1324.5392413162017,7338.153827742401,7633.245259261126,3961.483232022297,7992.637691161891,7089.788870737561,4621.133226186761,177.78379060267136,3946.7713891228127],\"y\":[3876.2993942369594,5040.754685392111,8588.889161032783,5606.131309510465,1163.5283383739702,5177.465631515666,3559.476564367967,4326.3340982239115,6723.555819794995,4137.641591207819,890.3168110492865,7540.669686963911,8432.568282103623,4545.270250658341,8609.454604880195,6627.775131960661,5996.891233433594,1794.3447860057015,8979.178550085131,4864.194480168078,8901.680229019692,6685.248847171329,8834.568471327793,9025.36448859275,7409.967838707502,7259.64381439845,3933.8531600012916,2466.1377424002517,6535.4672025540485,5697.201993960502],\"z\":[3127.770877261645,5842.042423567987,2570.7363160912255,5248.856324617004,9844.57686452303,4025.045017275687,7973.011102429505,355.06493298116504,1639.2882255839015,4222.670480205102,3193.214703787359,333.9160139070363,3370.224120332511,826.9056864865032,3379.3612044848464,3322.730236711323,5942.836094024292,7099.3944763761765,3793.7642296035788,2518.141970563742,500.2875239491944,2442.0049022039248,254.17552658341447,1183.4688546274008,7442.1922147673495,6706.937074701572,9942.173709723911,6378.51414370456,717.3698006413354,9768.106852667692]}]},{\"name\":\"series 9 (F9)\",\"data\":[{\"name\":\"series 9 (F9)\",\"type\":\"scatter3d\",\"mode\":\"markers\",\"x\":[3517.827887150229,3915.761612199542,463.43769792613784,5405.627766256726,1637.8681907663383,8658.26553680726,1255.50281601586,3447.7857032503734,7695.293073100695,4948.354608280948,8978.179371973622,3069.984840565596,3881.549651156265,1692.6036954446377,6649.602180687375,3167.712545910114,9518.124061292963,5427.352143030262,8403.066747542109,2800.6621637691487,9012.58670480661,2550.3764810858243,1271.3741023071223,5847.714177778882,1764.8314005870025,8828.155481340898,6420.915658138028,9217.572432017238,7882.463134790797,274.4894114831953],\"y\":[5046.98342788168,3227.4139044449203,1659.9784751250168,4545.065926793685,9268.748731421216,6091.999796478066,9434.598251191705,6103.894998438743,5051.796922958981,1858.26907108936,9652.305661642746,1591.3589464847844,2438.0706305546264,2575.5136015193802,760.8522535741124,4059.9571166379656,8177.515722500491,1008.815144506684,6892.194940757859,6042.64581008852,7232.6850155240145,9783.49739905431,2205.0287726998354,1780.0113558857533,2567.0060081280867,6490.931421698022,2228.788049550806,8356.333432314788,7129.367662160592,1991.103863018897],\"z\":[4583.685909287938,3980.9289352865094,8012.143560198014,914.9399017004955,2047.0698098901607,9199.995380347786,386.71021385261906,9199.449990491648,8094.570999177258,3435.4967125469007,8009.983996105311,3381.347851487452,8765.230688393258,4921.466747082499,7847.444011789954,329.8625428699009,4982.988411036891,6844.430329180839,8672.56875533561,4117.050892514999,6312.619849945166,6293.474734158621,7379.558851256514,8803.989082188813,536.4162765340907,5486.826244766743,2185.6834855450834,2063.804829069722,3408.600898021625,6665.618614183782]}]},{\"name\":\"series 10 (F10)\",\"data\":[{\"name\":\"series 10 (F10)\",\"type\":\"scatter3d\",\"mode\":\"markers\",\"x\":[8901.52692937857,4767.585375561647,9477.679596460099,3031.8705206005525,5011.877772598391,5926.780586301385,7962.6247674886645,8156.509202512238,6436.946906349622,715.7911700658636,7326.999720542696,5394.615097783531,3533.0601121305317,1691.016365054161,8415.829057398078,7018.884264685744,6143.919165103625,9777.710102942716,8803.224291684724,18.633544129678103,2327.9819084398678,2113.5750483867146,344.4804301198634,1810.5081272575728,1764.4644347425276,8418.100310511014,7834.557428839913,4468.368430542077,2779.9192573776245,6199.224766690746],\"y\":[9145.568544766935,503.67124755416717,1439.2993213814643,7813.995151447256,6249.096697956909,6713.984322899775,2209.8696518023685,9167.450581792547,2124.866139596434,5166.099425705709,2333.280986223376,664.0615764082503,715.4953786041174,1991.5398167032306,6230.573483851887,5918.612738255572,5807.768574220353,5346.088638017508,2016.8328008928593,2688.509971712998,4.055905153977912,3621.2855224683362,9516.67159664229,3507.0623479949945,6793.222752444041,3794.674057426386,8048.664039404893,577.3696400766859,7138.572468598695,7666.907613098959],\"z\":[2686.3152416518587,629.0280937771175,6971.060152175574,657.6488675849413,9705.096554385327,644.9389032361674,3509.233500753388,3818.526299919608,5489.537384719515,4633.085637278472,6423.045149823284,4770.244044021099,8301.30948526202,4948.226895186214,4516.894352820676,7382.259088337582,8998.699556247042,9061.022348701988,9827.952546060582,3187.2812071429125,5049.816063630603,4127.195509325274,8819.036030973286,9759.166598972291,1996.3266903077792,7226.910161212163,4690.985107846293,2581.6129242857,7901.484234065996,8724.616109538434]}]},{\"name\":\"series 11 (F11)\",\"data\":[{\"name\":\"series 11 (F11)\",\"type\":\"scatter3d\",\"mode\":\"markers\",\"x\":[5747.720822469337,7296.389389610766,9255.641242524556,9842.199688727269,2217.84466105067,8643.659510833444,1314.4140379966018,3243.352523254357,7969.857024172391,893.2900620541994,1909.1108940646916,7194.645951638894,4153.768964185555,2114.8591663031225,5395.982808360002,9698.88440496323,8960.08591667091,1245.4127399990234,2600.321802167066,8888.880711642041,1407.8472270366337,2587.8402719064707,3363.372985302264,9924.881221633837,7356.603717409858,7109.072488383797,614.488053764648,6656.442430798327,2782.925685132405,3706.1308228327216],\"y\":[8767.894122180309,8389.64087401095,2770.2294953607043,6469.386387816409,4682.91278439033,8243.076397323885,4631.417956492914,5896.215088365515,6428.40934727529,9781.205365899532,117.03453735738888,2994.5609951812503,3656.7109483771933,2881.119385985803,4757.329132901304,5264.753441652972,3519.1829913770503,8118.965374748605,2044.8418389445444,2659.245594360835,7745.107786930774,1354.7769997561577,6384.8101947863815,9793.774334657082,9757.459274118562,6649.566806193461,1523.911284371301,7919.766638723816,5513.625885810864,6166.111711391939],\"z\":[513.5516274534424,6466.651603386548,8136.083171284988,284.93126037493874,9172.121200233754,9324.053459866125,4337.469877311407,9809.550422142205,7481.331710164457,5457.683902048878,146.47968896976062,4840.203716211856,2384.9608788239584,6939.069228646843,4505.426521153448,1662.7247133733647,1054.0300694384052,18.08043602332221,1937.3016982268466,9829.438988916248,5840.643191066561,6478.560297743596,9669.588846450628,6501.456706133244,863.4189133348169,3191.174635167866,354.0586072838825,4076.8406394565704,5450.652853676451,7513.934111972986]}]},{\"name\":\"series 12 (F12)\",\"data\":[{\"name\":\"series 12 (F12)\",\"type\":\"scatter3d\",\"mode\":\"markers\",\"x\":[8836.217693519653,146.70348092744922,1513.0460398641821,4989.671501983793,305.03922871499054,5901.363518729474,326.0426741681899,3651.0793371414775,7593.0541805726125,251.27170612994297,9172.521216724434,6167.7440921691,7398.840746108948,2132.493252616279,9829.786856345458,7055.942491491567,8768.39382636036,2734.1144587258905,8980.516523734272,7220.79134408945,2298.8181062069825,2715.014223213794,5285.508979813526,2211.670632689363,5217.23712040254,6870.025238569956,9076.798588156033,3745.669957983089,5739.762984331055,160.58210913041938],\"y\":[8412.893214602347,6290.1338628777385,9929.827346379287,4542.538552154897,9583.597716343465,1794.2109768064963,5652.127319629158,5603.906207143669,1060.0924356355536,6020.640855525665,1157.8881406401686,1667.851396521388,7356.632969494164,9352.837271310074,339.1046657777963,5721.362589999068,3303.4469390335485,3438.6597509876137,2753.8733050389706,2297.5782230535656,9826.101986738135,2581.0893775010013,4151.877275616651,7269.8445892452455,9484.824370247978,5397.354122730712,2418.5444107879193,8408.150806064807,3747.949760464866,7941.877602716067],\"z\":[4608.348796372293,8503.664877856836,4256.893895463471,4224.752247102232,3052.1822305348146,884.6761174588646,7185.727178777138,3856.2685190138855,2400.667588219522,9227.322421568379,3206.649026060073,9409.355280775788,4904.751931199252,9707.06549501603,5543.353912502983,8015.620705371272,8236.857488099155,3741.946711025621,5127.488178764524,2697.003249301029,8720.328735323612,3846.245746897845,4969.097132206254,8983.881508177637,2961.8682586040222,3443.229637951061,5510.168498870882,1481.806313540389,2571.099289609279,3878.2670445419567]}]},{\"name\":\"series 13 (F13)\",\"data\":[{\"name\":\"series 13 (F13)\",\"type\":\"scatter3d\",\"mode\":\"markers\",\"x\":[8951.077428877581,3222.858265901898,9903.356806904934,8328.660184144894,3322.9437427922494,7873.956715644797,7576.2514833639925,2824.11683093032,6424.616478484217,1173.273457745767,887.5125311154596,9171.874447186581,5651.199437644021,3327.234012252509,201.06311265344235,3223.056757070736,2211.7389416476362,8524.421021954025,9870.238251596302,4621.929242618289,7266.897529730787,1209.0134086275084,1331.5048895978243,947.2903090529771,3113.1372526687173,1305.2329310666012,629.0022452665222,9985.319033538542,4698.142920073446,2195.5924091248767],\"y\":[4819.667075019371,8765.777616978858,5472.917973151259,5929.567979870849,7460.668891614643,6948.540627591283,6869.185365447324,9875.648056391161,695.3248613525486,5165.0071197842735,2536.4367998217576,7828.539100402031,330.6262051917097,5999.02546678444,6881.166833387904,6444.6349827981185,738.9533486448596,6434.539310653854,2421.5385921161924,4802.687508965876,8418.516645692265,5802.246557826445,2003.930397338155,872.9398992791737,6611.505675938022,2525.130970447538,23.510924742060624,3726.8187329325597,8505.890299969173,6292.815770595471],\"z\":[1449.1997918185928,4430.601776491468,3236.2658214097028,9687.257125496506,8674.068499361896,1740.3120260256055,7151.086752582443,4737.381756179452,3995.4440001605217,951.4140140250782,2628.0901551062398,5397.840552798084,9874.676399065866,5555.716506221512,8096.661684489937,6527.143541549432,34.73890041002181,1719.2168840068489,5865.346947966526,3583.0006300431914,1924.5281041693595,5018.444556408161,8854.670849473643,4957.789977798503,5111.93877732121,7359.196470314566,3399.87216779845,644.6369414414355,763.4881156483353,9550.378429620983]}]},{\"name\":\"series 14 (F14)\",\"data\":[{\"name\":\"series 14 (F14)\",\"type\":\"scatter3d\",\"mode\":\"markers\",\"x\":[2915.122476020353,6754.678683398556,4526.469353517304,1617.0001033824622,6400.245923030648,5298.656829074181,8850.314285184439,8610.197842290136,6522.909775675008,2601.0663730406227,1067.0552222438268,4408.482053122209,4323.711535685486,7732.662077223303,396.4687295572067,9803.246657986028,1468.5397464861128,4427.2042880168765,449.6959424956926,4022.8908955506813,6412.039890762482,6090.905186004645,3775.834887046977,773.7456255326048,7837.966450788617,3718.109501122957,1529.1992830999468,862.3132842241199,7306.661117983876,794.3297512016356],\"y\":[4430.648326987076,3512.1678583653993,3166.8445834146587,7597.8260355561,854.5884842391249,7600.18323239,9478.36766870188,9703.505332122271,4093.956858472175,2210.587520776629,6944.513819257509,1947.9875393632385,3638.6935876189273,3141.673052566558,7666.907491158064,9632.270504811077,4648.920604099441,8298.813714058597,1913.026552529491,3318.4944863390465,5712.238711876161,268.7751339670774,3025.77620977178,2219.897090142431,7445.266616173858,8794.125318099877,6106.5336144585335,3888.116825364262,3532.7412103893284,9352.889735903393],\"z\":[7167.5226158055175,4669.586795435299,1393.2080307021167,6597.41364054496,2076.3375270260785,6232.838699868719,1818.5295961988168,3017.729244184445,8804.879280810563,8361.113333621546,5655.142411112257,3868.5519818330617,2246.9284010316414,7159.751763566896,878.200418029994,9135.353845126923,8183.029694474385,845.4225252065761,5255.440990656985,2113.7993407558397,1848.3118125693488,2364.3143847026627,8205.817619364916,2038.1469035254252,6998.3278360924605,9229.004117606744,428.6399636649818,5118.053569053613,3369.945777858493,6168.788405851619]}]},{\"name\":\"series 15 (F15)\",\"data\":[{\"name\":\"series 15 (F15)\",\"type\":\"scatter3d\",\"mode\":\"markers\",\"x\":[1412.1744900501287,4329.5483519604695,3998.778973582766,5455.844325329372,3026.3497814290386,3354.764701462677,8981.594744903114,3099.6627793965126,2062.427181310106,4176.353111193083,8961.595289585652,6494.775731306283,5803.189952110888,1006.3232481927165,9866.415412242675,561.8808866247005,2490.4116235093675,5465.390688355921,243.13997144470912,4940.035117468584,2902.0679081547396,9227.734101741064,3911.5872851578392,4367.681978150254,159.95870349145403,707.3963254509108,3596.571799989421,8032.839978914961,2359.1083230023037,1786.3883863312112],\"y\":[5701.798085727629,1377.8684027090594,6643.518572262345,9070.887684194997,2452.5015642352455,5611.8006227547,3948.5495779561784,1710.7469566204047,5260.900279863252,6013.312861825592,788.4070772013619,4428.858557311091,2357.9746466018846,9999.976296297738,8187.919050896594,80.74839550433089,4487.047422104565,9894.516984870736,8140.986605177422,801.1024747186946,4769.089243120226,3336.388594888451,4823.797743716499,592.7517158908436,2726.6241226128486,6367.034791457017,1199.0942562479045,5074.979110331605,7892.568214013237,359.8076721070409],\"z\":[1618.4895709644754,6031.828478915935,5432.284521127774,4170.57226118486,7563.029708823795,9387.434793295275,4771.590378336791,7152.619361734644,6757.905752054657,5284.2153530377145,2350.407633398396,7009.575907133964,5555.414131356435,8051.091146958307,1311.1987265250557,8852.588361676973,700.9780649112218,2022.7416029641943,4183.284827385074,8283.124776863058,9380.235705179219,6407.21308490484,9438.595611357367,1840.3301340967748,5790.912073958869,8698.042011310037,9171.352041573113,2731.934381469591,8391.389462775049,1488.3698148132962]}]},{\"name\":\"series 16 (F16)\",\"data\":[{\"name\":\"series 16 (F16)\",\"type\":\"scatter3d\",\"mode\":\"markers\",\"x\":[3093.639187441565,8410.302872153825,4448.594611867516,1968.3669652231927,3540.7770108059945,9260.289137140988,7541.029315782885,6873.599408915987,7244.850936213312,4433.131815073714,9268.466255433585,8200.80713991656,2261.7167196822475,1690.7135333825695,8578.040945589697,6618.89275249341,2626.2493661101994,3017.0800186589477,837.173000500293,176.7381783521116,9062.555274417982,6709.19421651119,4066.9487369553503,5645.806013567438,1390.3220346001765,9676.476894388157,1595.3075037703236,8634.303320553223,7145.436593655267,758.7681944887225],\"y\":[8797.57056841735,6471.014986535625,1372.4461388457175,7014.9169105834035,6562.555959058399,4780.7448207164925,4548.4030776939,139.28614793477846,5655.732522335905,4659.626040846269,9162.073025432908,9431.04148242489,4246.557325052668,2407.3962196401453,599.4532410163855,1071.1650848172994,5525.354869634622,7885.0533766719855,4675.987536499124,854.7168168221131,3555.7941758820843,740.1472792157493,2407.8307341823934,8980.944315549415,3292.2225096843895,5978.275754059496,2428.955083996882,1021.4187272640229,5036.8222640877,1658.1968502500144],\"z\":[2837.85766545671,8766.453696079014,4519.753381054118,1849.2864953327048,7197.068636026254,8292.63964334877,7256.154863545412,7413.902872660196,3910.623977694696,299.40982933289285,9867.075564884324,5663.548213593242,4269.109475548882,9530.125924389222,1647.1114406296717,7486.543810734377,2078.8460143666744,5923.251631293581,6819.727267159469,7156.264502473621,6981.230711666334,31.764054556081554,1641.94590160184,5702.805118342728,4320.206253762697,9204.026109193317,803.290029105992,3467.2820516439483,6730.282246653237,9036.922115321237]}]},{\"name\":\"series 17 (F17)\",\"data\":[{\"name\":\"series 17 (F17)\",\"type\":\"scatter3d\",\"mode\":\"markers\",\"x\":[4409.564933088168,1256.7990018207076,6494.487568776521,6692.140749992227,250.27166167196359,2379.4340076170083,3161.0819320969763,8809.062951994836,6019.150119009159,9762.435620264501,7909.8128737231345,6952.791354968475,2690.544559449505,3343.1402050210513,4722.952287886643,7803.440272996073,3349.995319400775,2970.95451250027,8543.305378233861,3622.877918791304,1435.660583861671,1170.0727782051201,2290.831466210761,927.6905968783,8567.873665041496,8286.428206485616,7861.478000003356,1752.2253610259697,4927.3477984459305,9778.703001863645],\"y\":[1046.2707562548924,2403.1317642078375,4488.242449576035,1712.0543254912734,6685.66901907767,9186.915375448001,3320.5043600972526,5874.539137143864,8313.635283879874,9234.583537020279,1646.605860985174,360.04494307172786,6047.8331960099895,7252.547322702859,9371.003119247407,4947.871653463432,7546.813421943478,5796.520928447855,396.3388422035019,3157.926744457982,9482.001040730633,7495.236592356815,3198.6179860125417,4471.8325477637245,1161.7550673191024,2543.3722834688124,3854.292395263581,884.06633431661,7696.720595358539,3738.1664972299577],\"z\":[2995.383752640488,1683.5871430829663,7410.145566872992,4351.775659098746,14.488908680526658,9165.229554642543,7073.793598236979,1211.5024985861867,6249.704676120821,5831.467397854686,8989.53000952977,6502.606642561963,3850.219999345894,568.991760432932,5938.616145589753,7013.485197600144,8556.521201609119,7270.859370868551,3585.200403634826,8810.587653989958,2724.861483615161,4423.807991415347,5047.440560958015,8660.510817170101,9583.849608987808,8291.659163211305,9039.15874310981,909.2940328533928,931.7149141196423,5499.555442623486]}]},{\"name\":\"series 18 (F18)\",\"data\":[{\"name\":\"series 18 (F18)\",\"type\":\"scatter3d\",\"mode\":\"markers\",\"x\":[1236.8668751804657,9984.014789932935,8266.006123883428,3060.1085665145833,8341.467364022685,4199.366731157295,1683.1923086438883,5181.36544223811,5680.879509489912,6131.968890183703,1793.8276677594579,6557.822429147284,2139.2977324234553,8467.748179204556,7369.652241000693,1269.550857481281,700.7398741689685,1932.8044708179216,5472.202055003303,4900.821428370926,8958.99599410695,3685.7474961729163,1408.202057599638,5038.446211487404,1573.047569611462,379.57723488808995,3015.2221213065077,1921.3823346014547,5836.46860404417,9993.75362296734],\"y\":[7501.779530541893,6686.971572839761,2281.284254993551,492.1806639686621,9349.271152332954,9395.517593150753,4551.210314951301,1380.406945435475,4628.824017071414,2813.731018690936,6656.149816663111,6315.426736670731,494.35819479352716,798.8981722365107,1159.2792583481914,1064.0389702055763,8583.851851825595,2049.4623210912478,8850.006019038461,1310.8012830180028,7594.011885520588,974.0297890001426,9020.536107663189,9084.197550274585,3389.2465632561452,7479.644708635884,9590.739430793386,4899.708957240851,4664.046239760211,6591.498921013023],\"z\":[8015.458240718042,5111.065359960543,8398.579013192273,6990.082917676791,7160.353966242104,416.02120967031976,2130.510983083225,4788.095809284273,5146.841197283951,1980.5893398644803,9411.766337283425,5168.276396866736,4543.61072065983,6225.7368013649875,727.1397936271574,9864.632573883928,4221.70065872249,7963.126799799197,4622.386349915571,2893.3858443113445,6692.019702505531,4271.57055183261,2822.6062823553834,426.2637227005206,4808.68746891989,8273.428060998433,8717.455471774425,3247.6131681597144,4348.50523910183,2800.2799379852227]}]},{\"name\":\"series 19 (F19)\",\"data\":[{\"name\":\"series 19 (F19)\",\"type\":\"scatter3d\",\"mode\":\"markers\",\"x\":[747.904877841623,1848.1262058714133,3166.326762860028,8829.762294139333,949.9873651902402,4881.803846159719,3378.0488391747976,2530.5448621605688,4194.162643469994,1449.1084570733215,337.3963297478366,7770.0023366723735,5504.640260931754,6468.085316317031,1049.6294261634475,8019.210877900838,1251.2019502736039,6256.560731333938,5104.753563394916,2732.4807339271197,4976.769043996827,8372.353577933636,3214.7662903235987,8483.709328676403,157.16010780767786,5744.762513545623,2003.9259032616708,4409.426156471208,285.19268977058476,179.42319978676457],\"y\":[8827.985046064929,4838.466103855855,1329.4813314260546,4429.955358534375,7087.7774716290105,9380.79921821931,2838.9894673140825,5203.647624811839,754.5115700168814,2203.113733708737,1747.5949714666517,1704.757309394027,6638.560924335265,7736.332153903679,7278.634300950418,5617.829065869637,4310.512492628704,9640.31592003904,6257.58904972125,8794.767627467962,6522.671914417121,3493.592647001719,5611.787950196516,4333.22316832776,7481.189677490863,1381.0204908346002,2869.1938482590585,5220.17880025213,2383.415111584447,8319.878129377363],\"z\":[6064.053069759715,2263.459000635313,9262.046441619255,6294.9502480594765,1615.3875017058172,9645.203592026197,3367.095079048469,1565.7565969007326,2465.0080762461203,2105.1794741150666,5068.632280337234,4864.146430375726,9044.9378165073,2498.1341779924037,4577.746240545386,2118.065850238322,2489.832318677928,2268.2192513791333,660.0839245026247,5417.375824543605,2918.1875744131635,244.84164826960253,5955.8112902671755,80.18221318917607,5576.833106937619,7088.130832527868,8521.771505371546,3883.2151296995253,4176.403131645472,3698.5321029582096]}]},{\"name\":\"series 20 (F20)\",\"data\":[{\"name\":\"series 20 (F20)\",\"type\":\"scatter3d\",\"mode\":\"markers\",\"x\":[7776.083396128775,8787.37279842768,3841.191447997534,1953.8726747883795,3152.3643020849413,3819.624427824648,5754.99230438913,5248.56844418738,5460.2243057982,165.04349061552625,1805.232797221774,4483.469811234937,4200.627603784447,5977.822396027953,310.9094894234088,2391.1741608659577,8899.167670948498,8937.695152121549,3265.541239220856,5380.460898753477,8897.263149686736,9158.27593352057,1434.5551281188962,7444.827541496256,3980.7249890703456,3696.3985076784343,6117.225119179619,5103.944321560842,7727.1075848494,6616.615870329705],\"y\":[5416.4860470087215,5833.1610461503,6517.70340379835,5332.6050560924095,8455.649484400754,4985.035715819056,9786.997297138203,4777.29269722765,3139.2487750474174,7818.18015892624,1271.848218235725,5846.100516527204,1775.9473057921793,3922.54723197528,6774.617723913231,3512.7840584300197,4164.645143703051,1066.6084798633547,1268.923907084546,3034.9186790190006,9590.620145174846,4290.70559423351,7053.643333275404,9746.165636858728,7586.747708919852,3932.1791145803886,5100.2447684327335,9075.02402938885,2285.5429948540227,3191.7168150970874],\"z\":[3740.487336966373,8634.860377273491,6720.971991416982,1836.6778540169582,2405.9687774875483,3497.5784105060325,1534.6849239061412,7685.992910754527,3257.967414269044,9093.374920352548,7199.522999854853,1632.55484978149,235.4657086009304,3571.6025487604597,93.8580969558378,5132.851977020626,3301.205684437912,2912.839459625103,543.5250449914075,1329.9176535602287,5480.073907440344,7599.845845052434,5293.807321435939,2274.504661925381,1661.069281512243,9235.16101192325,7782.148807586894,5070.713757923082,1073.5571521794784,9135.677568837844]}]},{\"name\":\"series 21 (F21)\",\"data\":[{\"name\":\"series 21 (F21)\",\"type\":\"scatter3d\",\"mode\":\"markers\",\"x\":[7052.95291262246,9196.138767191675,9850.4713336632,8639.604003575918,189.0490640220921,5732.919604800166,6155.5736758825,2628.808905729414,3730.0991069431334,6794.915387223325,7978.837285317659,3599.609876646118,6706.422487534363,47.54844579577755,2893.47050258972,3507.6624989649463,1637.4228245083223,8890.689137408304,9820.054352553047,4567.667009730835,127.00198377452843,3611.284707387884,5157.715839830649,8206.19960579544,6534.049274415772,2611.262527597462,9519.215979045874,3446.048692595112,6604.296606059904,5677.563280150165],\"y\":[6746.282009520026,2143.0168152382503,7920.535387759947,3184.992471487379,3883.469918854201,8701.223520119735,5561.392391439434,6108.903247689824,9353.289648306052,6160.526993102319,9454.565411229038,1773.5539958787072,6702.287997298588,8879.757360444368,9568.62353547525,9373.308439467943,2977.2284160412364,4432.034240062291,1308.177187528775,7477.680705160537,4042.4656546810966,3783.517297755834,6260.4306624669325,2967.547824968453,3964.064719927636,9344.519242322074,2786.828000370316,7148.689076648908,1963.1659713456884,5061.988434458917],\"z\":[6861.712703296362,150.1293999812292,8380.551022454694,1364.9424909646634,6030.6144124420125,9138.603832450017,596.3205256504689,479.518945068399,8393.992341369094,9366.777527727305,913.0446329782105,4397.881824034603,4117.956985759066,9621.69153798205,1037.6984305938863,8615.302999960997,9131.69997420822,5251.228056143975,1987.1558409708778,9642.315865269235,9392.064983363156,2620.219896343624,3993.957465287249,3253.916429785264,9378.894437543107,8584.154824842302,8303.530683089728,3455.3645236128928,330.49007912088535,7367.253837470445]}]},{\"name\":\"series 22 (F22)\",\"data\":[{\"name\":\"series 22 (F22)\",\"type\":\"scatter3d\",\"mode\":\"markers\",\"x\":[1630.9882744866388,9224.216611313292,2136.729984303153,5093.035550061243,4485.084849329634,7230.800586121756,7778.084845145382,9139.296707054065,6568.866669963679,3944.4183907942042,731.9830714931496,5475.776140054801,6031.00050241334,9800.144089934194,3863.675416118949,2191.596520355249,4468.722548236632,1431.1596862616716,2976.950757040422,1530.8991195563726,6272.798417867828,5364.152239315614,9420.764472570096,5928.924468298734,9156.842917132895,8030.36970244252,3931.0347811309252,5777.114098169653,2527.7971444317027,2462.517522028097],\"y\":[8232.573867877074,7944.637966883892,1731.316279105648,1627.7491528877354,1834.3208244445098,4445.080059149582,9145.272709830488,1989.5859714699882,8921.740582359633,60.844750523810774,7596.535044211867,8596.679967827073,4283.469625509752,6224.171815487247,7640.631689151583,4763.908750376368,7804.9779369343305,6002.476947586045,7870.867169482179,5241.372317746676,4220.228630024674,1647.0651036279971,6612.907957106151,1659.438928019752,8533.017463328668,1838.088136974666,4112.80766261947,2993.0639724993102,7802.877948637327,494.9502030450792],\"z\":[6640.898698124497,1806.1869992309921,6836.138371440336,2820.1885080087573,7810.92524457608,9117.084668823984,8730.925032979632,7106.189520573567,7853.249474031536,6868.145452557785,1195.603214586567,2757.926279559609,8582.9151814755,7188.595514195592,6093.3573015942775,5971.228357174588,367.80295467348066,1906.2983945723622,2761.3070657588614,4554.931916312051,7529.071270748417,4094.8191546193834,5310.767647088695,2496.574072517239,295.52163278296126,5834.524675000637,335.95724100616286,3045.1356077921764,4685.488662501302,2821.5717028663666]}]},{\"name\":\"series 23 (F23)\",\"data\":[{\"name\":\"series 23 (F23)\",\"type\":\"scatter3d\",\"mode\":\"markers\",\"x\":[4241.664514847544,6320.655174728163,6504.299799005953,6976.2102961669425,8746.090957567578,3759.370599219181,2022.311469562852,2781.9079079335083,9023.278429899645,7064.372197934908,5837.97398079066,1729.3807120949978,1420.2496765112328,3755.575149503546,5932.335729639378,1944.6931699280644,6717.17852491598,4899.154353644663,6985.84764260236,6848.16664009091,494.6174429945593,3145.4059289667093,5655.2826415999425,7520.916488863094,4330.012212533366,815.3322539625208,5698.039723693384,8348.414958724286,266.4360879439387,8450.074514517371],\"y\":[6583.0519687700935,4465.55310868611,6279.676563091433,3973.642108301215,6541.972587374819,2545.257644481014,2315.515109587639,1418.2213594814984,9891.269860702712,3552.792062615012,4877.240267924586,6022.670424987776,8895.307393397192,7230.451438590888,3114.140679483882,9438.636139106353,2442.4444880777305,3282.4411808993545,894.9222906049592,4765.056184040951,7370.645820147985,3497.3006747629966,7445.703752146366,6180.641605650421,3406.0374092057323,2375.3209672849894,3790.4440746213086,2055.257053833266,9367.303689581635,1220.974692733342],\"z\":[3452.354926658735,3594.949183527345,6540.770246769062,2115.4595327711113,3658.0662527672157,3311.698629568315,4945.474154991188,3702.0344290259677,7631.999557375197,8907.80217181699,9584.471985572263,296.90274965256447,9476.622330881004,8526.114532885878,6718.090698403009,9480.978939279838,604.9481381735644,2741.2163492337017,4696.7846072903285,1032.9505478377398,724.860663739787,7152.890911601596,9955.702158779908,1831.6250279324054,6970.530465468948,6992.1327312778,6400.037364875564,7185.632994894273,1934.410995546123,1761.2295118873112]}]},{\"name\":\"series 24 (F24)\",\"data\":[{\"name\":\"series 24 (F24)\",\"type\":\"scatter3d\",\"mode\":\"markers\",\"x\":[5599.6739866217895,8941.131857199232,5073.989722041429,3603.2932432358202,5963.602420722569,4673.237454341905,2250.683679060063,7832.940105184008,1379.0266795504658,284.4848287276469,5003.965955461445,7858.652494133639,3677.0440138972704,413.7009851853557,4572.015834158303,9588.67547357795,8726.223880834243,7201.2485982070775,5640.884571625571,2336.1393210344218,2957.3741040469295,8161.678159619501,1337.3787438551067,4225.419959449399,5687.224746223383,8182.404186866293,4076.558348610929,150.5777870126601,2735.727923895773,8997.099430475146],\"y\":[6532.955607666119,9448.048582920579,8521.109261255948,1875.0802736575788,3225.3206030177093,8619.583015829758,7068.7705252980195,5723.030299843518,5987.905067936807,1677.7621449768476,7184.593424085125,3312.9944516219934,5946.996598397692,6985.242962252743,3420.145441072937,2930.6458989071302,529.6207466037572,4820.217629467748,2396.743348516579,1380.4132656369893,6502.0297103511575,4324.397850257107,3557.283476633699,6989.130112828029,9068.80123943507,1976.1616315418173,4479.20229658046,8017.4456974534805,2659.073088674606,6280.332624886245],\"z\":[3508.877165699209,2718.3173624939795,1184.641922805173,4977.383219995457,6667.243048087916,2174.4827150197266,4275.359531345533,1748.6910952704716,1528.3377865135517,6001.882824212323,1280.4610083935631,9130.794035595532,8086.958051874806,4023.594199237863,6670.162620406667,3150.4277851303696,5508.5471038790165,4098.89793255336,8880.073063507889,3053.4528524198413,4093.89969167665,7434.696684714307,9611.659971890796,6424.606689808019,3793.214400433801,7911.5650685658375,2135.221761868683,5981.344713955148,4168.482589796869,1224.3041962253376]}]},{\"name\":\"series 25 (F25)\",\"data\":[{\"name\":\"series 25 (F25)\",\"type\":\"scatter3d\",\"mode\":\"markers\",\"x\":[5237.513810516949,9373.863477691571,5830.152825125508,2966.937177201324,4114.385008050336,7434.726134049831,63.46288921557197,2184.67420184878,729.4791997583839,9495.338472431542,1611.788081003155,8370.442549163532,3943.2648709678488,6622.8519133846885,9398.802637504821,5401.162231081783,4062.3529773448263,4929.89881645943,1348.2086374013913,5489.022671687762,7367.273308935619,1470.8931989138118,2399.236820900862,9865.595763285322,3647.575738456158,4662.456779678008,9318.07637459833,621.6964544265791,3806.3299214838885,9651.860921328724],\"y\":[1969.8515444282616,9893.482946432152,5191.80088524544,6606.200602177138,8342.70140709686,8415.364769917156,9472.278016593322,6506.346398666106,9804.988298723238,5352.865186876936,1590.7400302104725,4703.5483366173485,3828.602005267595,5283.665113033522,8619.239922399118,7232.89197451359,3725.7854171543413,6212.62835056141,4178.601379754966,8676.638173408563,8823.85760833427,4586.692926602387,7497.214926298724,3231.8035534397272,3941.669205196161,9418.085118146186,6153.430012929485,2560.167278948162,4033.56668422561,7829.3967898825285],\"z\":[8079.240099962264,4985.219168701351,8431.109496438723,8601.63868962788,1498.6636269552112,649.3915124586913,9239.725401395703,8636.46573071997,1132.4211929758599,6356.243582209269,136.94876442695846,9636.34432974089,5221.21884850258,1996.0993182880627,5070.837452526617,8761.515634561536,703.1485637047541,7689.963573346143,1171.6190231723112,7540.17678903415,3226.4154983459316,7085.371339648727,6566.566599372744,7888.392489598333,4586.811514088298,7599.155332227817,1727.5606374198228,2738.818527300242,2650.0556219997775,2825.938976152865]}]},{\"name\":\"series 26 (F26)\",\"data\":[{\"name\":\"series 26 (F26)\",\"type\":\"scatter3d\",\"mode\":\"markers\",\"x\":[2482.7471215379337,1482.3999627624107,7852.319812971804,5817.4974964148605,3888.151091530878,7194.78355427554,5967.9696658468165,4486.953058590999,6782.062471846285,3449.267928261067,8991.748978437001,2003.0992350088218,3034.4614888494625,3410.6822030398066,4703.337447149182,5713.97802397949,1255.7053094408511,2859.6724981100765,765.4201153928508,7875.162060040565,2043.149351952729,1814.4481330390227,1052.103971551046,257.02060365595304,721.3321189975541,6497.119184461304,312.7260360110684,2566.5796281845896,5970.801993880856,4534.333697723746],\"y\":[8246.794989749256,1543.4078859073663,4742.62297948538,1487.0044370517944,5599.0167689480895,3575.2966713982914,7420.042234496662,6071.488342710042,2979.0515273762717,8728.32577756671,2315.762447574954,4764.665024901384,7768.859388687493,8197.231841060702,5282.7103595409135,3877.93354553008,5701.190142417198,355.83280056870836,8468.14921340014,8640.230431080134,1475.97849091628,2823.582102436798,2055.432233888637,4347.744567036882,7127.105685513622,9263.157640197294,4214.652058396682,4218.087953190078,7760.197684192828,9985.31979703542],\"z\":[7422.889180205932,2229.2539411406233,1752.82652122568,4861.097541683752,3816.72074149803,6928.776944981233,6541.688349314153,5527.693825704983,8304.098863960333,3966.0863023887327,1717.0357818554094,1423.3261954055477,5789.666288674293,931.1189860199698,8302.840746728056,797.5482307034209,8057.023317524838,7974.841191700725,6821.871815652484,3517.4261956880882,6603.423111890597,1642.4033205561173,7028.070801449336,7226.2708961852095,36.81312081126209,7367.230981078405,9034.31700516281,2210.457321162602,8522.10497377916,8154.433979977865]}]},{\"name\":\"series 27 (F27)\",\"data\":[{\"name\":\"series 27 (F27)\",\"type\":\"scatter3d\",\"mode\":\"markers\",\"x\":[8971.871759867005,3191.1852728129143,3203.002008527881,3124.4918242010913,2288.4935564649422,8181.873262990769,5527.666106514308,9793.254875262794,4325.428592755845,5538.194791198058,9970.965019316329,8231.875593290355,909.1711882238485,376.600507600916,3772.983748015665,3580.363818668253,1352.1012841411762,648.498308802562,9002.951104101465,5781.038995520394,2476.80643889405,1331.0887964967478,5509.669604172624,1853.2282592965598,5062.095103847617,2432.1815611398156,8134.003830449821,6548.139692003681,3454.4208306816904,2805.150073533067],\"y\":[7935.9267237327795,1802.9157034349719,4996.626015037457,7131.503930482086,5128.081174776139,4055.4531539364057,8396.632765720151,7852.394224632377,909.7629453319045,1186.6501886956094,9191.89685587783,7316.6876635817,6459.690199861972,7624.322686636564,6061.1558319925825,7962.077253738123,9972.87196438432,6973.10830439592,3893.196246438413,9957.026839955945,6816.344703799457,6427.254642425672,8243.074892683138,6405.171764600383,3630.497426142156,6178.26754281517,1089.4295269653087,5950.125531923116,4517.161414306786,46.972072650836026],\"z\":[9652.213009019259,1417.475913730405,6332.589826043707,649.6181640875809,8438.399713603174,992.0758269229179,542.9076574058822,3550.238616280723,9653.9015388623,5352.566755312093,1101.57005903741,56.551433873386344,8653.146064077662,171.39536060406192,1372.8086983340304,7584.265353831531,9193.466535614658,8437.420476400335,8252.012900774516,9844.739365376152,7919.655631707042,1169.5276551374857,8323.433718650223,6503.513243620354,8724.743715194863,8263.5006003169,9147.560462560941,3412.3124918541316,5416.258604004748,3450.7258798135076]}]},{\"name\":\"series 28 (F28)\",\"data\":[{\"name\":\"series 28 (F28)\",\"type\":\"scatter3d\",\"mode\":\"markers\",\"x\":[8584.966913774451,34.70319854981252,5462.932656957218,8646.136582067991,6440.380318571626,265.65579308299283,8505.021686654602,3324.126681142613,5650.1799182058985,6487.848432078096,782.1066041267644,3984.9982695367003,4738.480358874652,4412.628482353822,665.4504036262942,7260.829856640799,9331.417034547218,8021.116288700873,1077.6862199461711,7758.483364362295,8146.192012030447,9751.024871737322,1740.813903660572,8348.795511408169,8060.905077738343,967.3399245463199,7914.191802460187,6284.827156055628,3623.1353064235896,1710.0861200174068],\"y\":[2567.4032183975714,3268.370969908827,8669.701620307005,6729.983849660037,5778.588945150991,1382.7496516058368,1606.977637609981,6902.875834194211,8557.038425022878,9671.2594545898,1340.5921834406342,1256.3837720869199,8259.532535101069,8064.449150610271,7845.299040284653,5047.33372480224,9303.133945071182,6345.744219357329,9930.251724308833,3596.065425879007,5972.831749995027,5893.760889955626,2881.8765027052164,9913.81752922886,3780.6367617099113,1050.9808201005444,355.98059191202293,6551.963493688614,2053.4405731078896,5142.284220146795],\"z\":[8142.69960063559,8556.946881738226,3210.147606706543,3403.1674104847298,2242.3272471473842,4932.34418848871,3534.2889625049156,1376.3007371075419,67.03095722047748,589.5616540658289,6156.541911058733,2696.409097965473,1522.9130602683695,9411.251189469514,9432.268506826225,4607.287204078519,6228.820602105586,1756.6068806668156,2932.398409822613,3041.086471763339,4192.768575702423,6505.2836375538855,8861.683606061923,1638.842781710288,9893.792281068225,8566.756717977474,8876.549587415178,702.5411340006726,3906.4946947580415,7674.519254563744]}]},{\"name\":\"series 29 (F29)\",\"data\":[{\"name\":\"series 29 (F29)\",\"type\":\"scatter3d\",\"mode\":\"markers\",\"x\":[4995.480296057505,2742.837306703327,1957.5102679326228,3239.5912654065883,8578.067590873154,1022.8925925711452,8617.562562028397,3055.396432380728,3194.567107916474,6297.5972313662405,1709.738397041084,726.1353446547514,5615.998232722363,4808.794951101074,3954.0632963426324,7833.365748430103,4125.537920371594,7520.939466217019,370.40843622304976,2060.5770138860826,4885.150973992937,6567.951852392464,3526.2194894269237,1763.125573394987,5187.111419809118,9930.867428318597,3842.5042286209223,800.9730507052836,7078.265630167189,9477.195503003595],\"y\":[8860.97356193412,4844.252152984115,6065.598839650976,666.7387179097007,3627.1811820063217,1816.7568707844962,7394.8597417878245,4464.948160851298,4158.962590324096,4660.038457131176,6739.711986076005,3303.72133372541,7346.425075254057,4180.861107981878,3047.075042833315,3290.87377613589,3569.193427654893,3387.353147024409,8755.025829488472,4293.346433958137,2818.5717722642157,2424.266373988675,6632.833599604812,8005.537198897432,1176.7312335396907,4985.3329847690275,3088.4049120001223,1662.9740317128117,2131.992036517084,2910.7902859918313],\"z\":[4946.614677156679,1672.8772278939718,6398.71247961486,5570.719812563747,422.710160013966,7106.980302459196,4662.261322917777,4589.925970708932,5298.167748892369,7738.313968848471,9983.995620279919,2487.656692792659,2152.095426681896,5102.48296684096,478.1203047371896,5885.548231101864,3909.470545689376,7925.293573005439,8311.7631027579,79.75396338472551,2938.2068515514247,5182.4146929431245,8081.5442986726275,1978.2930823530887,3460.249720843357,1043.0926866891054,6184.383957429183,2672.2377881853677,8137.599950109099,5998.756436523341]}]},{\"name\":\"series 30 (F30)\",\"data\":[{\"name\":\"series 30 (F30)\",\"type\":\"scatter3d\",\"mode\":\"markers\",\"x\":[2927.2298045263256,9239.429066928351,9352.370270480313,7588.686651379632,809.8541442602236,7771.9960545117365,1920.6822306236538,2308.746400255669,5666.814012845226,6074.028514001293,6763.411807267594,7525.499389156661,2169.122629681497,4993.329354758766,4402.499752769339,8516.873177731068,1563.1373596653675,1931.2546943722186,3059.740881810655,1121.8454950317946,7463.617911044514,8717.225555012097,8605.674009822184,4905.469731838725,5019.862672024272,8739.574302755176,2639.3933517469804,5231.876138025818,9838.288550947673,4991.965315005919],\"y\":[575.8074744038045,5186.715953708587,5671.7634420763015,1524.7101009784892,3775.078004580886,9901.844433412862,4075.467148648574,5682.8735606089485,8469.664711106174,6508.86712239145,4980.993506875629,7468.1448676064965,9527.616700869316,2684.498535226044,4454.8740675673625,5379.029414077214,8936.446576408098,5549.516682009235,4784.649852097955,5163.989773894035,7300.1285930178365,544.4180369409956,2475.06833444201,9064.746826542028,1612.466271861942,6828.709836987971,1738.9440205152928,8332.029598180145,4103.276443011773,1737.1055802162793],\"z\":[4631.664785854903,1063.6368533499062,5049.542014246583,1874.714668472517,4105.289596663958,744.757228080316,7101.884456986862,2544.645310799414,2947.6236110929053,8263.067169484062,9897.417696368275,375.27196640136594,9823.623856223327,1626.2093410430566,1513.2393269708055,6250.741646099427,3450.9292063919606,3126.828052050723,7660.524737583511,6947.126233509613,7318.270977039713,3280.417277252059,427.3905287168933,4237.949919028842,294.96799130123264,4503.819905519246,5849.396423219784,9656.658236174544,2981.663782725805,5207.284026864266]}]},{\"name\":\"series 31 (F31)\",\"data\":[{\"name\":\"series 31 (F31)\",\"type\":\"scatter3d\",\"mode\":\"markers\",\"x\":[3619.7580641881577,1589.9121390986038,5716.920537595937,6740.573866379253,2847.048751532152,8924.428338400305,1781.2325333570989,1463.7003769896273,4926.3640701422555,2081.4102549327163,8529.477288944841,105.41735915411854,8310.639459900573,7946.441978653549,9934.77721265516,527.7133010712209,251.99730093944385,9939.04919061063,6341.193147255773,8032.096810986292,7428.718578353631,8264.95390192134,1099.6314536501072,9423.558965519283,781.6266835063834,8255.383008579609,9200.790576434127,9190.673643564707,9854.380319478512,6621.617663825822],\"y\":[20.93492474113834,6365.370679543001,8465.371834991083,6439.293565818688,4860.728511134518,4893.500012662698,6634.632558529245,1725.7993288468754,84.32358474627644,8677.378260852925,3347.3486036868303,1585.4398588738595,8355.342474409581,4844.092574725095,956.2949793917796,2070.8638911441026,3718.351574122044,5248.408025590794,4808.697002219814,1145.5848167428685,1088.876097562519,6736.712315394787,1028.7355092011908,8431.245814942908,7091.957205682294,5278.497118444769,1295.1069858750664,6784.61527853765,7128.709818636434,7714.46715479551],\"z\":[5923.763642355991,7173.121685213366,3052.285257375026,7575.434893079785,5599.153393863129,1804.0673538266606,6899.1050902018815,8193.744544897329,7692.985880882266,3011.4909266828595,8748.178253963775,7159.042898172651,5267.7540907917755,7015.96820871933,970.7709904627948,1062.7929344498766,5582.942860468109,2346.4822093821003,6884.649163689869,8431.008041826692,205.06135954648897,2449.807891205198,9141.57030174348,1762.2580502111762,668.334804731382,811.6948515268108,2053.648122256306,6668.078328987258,2041.1008063614488,4775.454697501585]}]},{\"name\":\"series 32 (F32)\",\"data\":[{\"name\":\"series 32 (F32)\",\"type\":\"scatter3d\",\"mode\":\"markers\",\"x\":[2503.675899184583,7255.492646439658,1723.651226256776,1167.389187150173,6086.43583372697,2096.436117161923,2336.4701389646957,2824.8238931262294,8692.488478740423,4396.44619291783,5653.516806877441,171.33841303798914,8872.874994083248,3305.0610417814564,9193.409768899257,6095.115004082299,3012.6308631481534,702.9535260042952,8302.065873964251,5560.15327467845,3592.9543986885114,9255.89420374418,4343.558269456156,3616.4275663779954,636.32909539728,3043.2281134186424,3961.6552445296293,6773.893223365531,7805.85581280384,1648.6159939972013],\"y\":[5282.704118780439,3066.5712198204255,7569.494291771296,2243.378286703701,4401.234186902492,5556.7774158246975,4341.878936957688,1897.8525004583869,9522.847728161629,2515.8792147420972,580.8165815770438,4123.755295819326,734.677024950291,5066.804345622534,8442.53298169096,9480.618923324857,531.8857066103589,9684.83935495455,8789.185180139384,9971.946994958018,3949.3960170176333,8627.097575548312,94.11174810210032,911.8166577054033,7431.229052052648,6097.355394395208,2104.7449536012964,1960.2301118559128,2415.54353633034,1751.7861367116839],\"z\":[3000.0615482775693,1105.5941832561732,3021.668337830635,6012.45134614002,4218.904490682464,1515.2921529745965,7196.118875354429,3579.233859794887,4137.456403340676,1380.382235775075,7207.799596497983,2517.2283684867334,338.60536938422615,1148.0374614492127,8478.290414492423,6345.430153011333,342.8903747447698,865.4236077297018,5391.321361895601,5663.892423728421,2360.168751381032,2751.287064568014,8946.245422868427,4030.3538845057606,873.1046702934852,566.5987394484895,3903.515602920381,33.65842551435571,6678.026682406295,7873.188392300727]}]},{\"name\":\"series 33 (F33)\",\"data\":[{\"name\":\"series 33 (F33)\",\"type\":\"scatter3d\",\"mode\":\"markers\",\"x\":[2415.882478415321,3810.1247463930154,7385.654984671421,1849.3694596066357,7047.227703838397,1610.3492939353125,2323.656690064376,7974.144429135101,8551.654230161335,6447.750852444138,5284.937088497,3596.648667753254,2818.65412673591,6346.49868896843,9630.026833859189,5175.0765180938515,6985.880034783519,4255.289703331688,2878.882458674419,4799.407812192631,6879.253134477068,5304.770998541295,2116.867340179542,6504.831049743618,6660.832688552506,7760.231345948795,7291.633097865486,1837.8385241337592,6848.089817464856,3757.512343739421],\"y\":[6792.078882758154,7154.546862771358,8713.91856321866,4708.919445103523,8577.511433677626,2210.8760145900687,1484.9280458593305,4127.2425266322625,564.5914806760833,746.7909812365925,3726.2609548994396,7539.818274539195,5981.596457045578,8971.901414507394,1834.3827512181088,5150.902651817423,2963.98712916755,7127.27780144139,6654.998429431672,7959.442910204172,2792.2198297346977,2628.4319312007965,3901.442998544744,2150.6705078265777,7862.195292419505,686.9843454154834,5269.611475021473,9753.763389436575,8730.691406809881,9763.613393875086],\"z\":[4928.68037029706,5794.154937719879,9392.578620451857,4722.473192185559,412.59066126578705,3467.892742912647,1323.570660712806,137.32666901286385,7845.454687963002,9226.782700622689,9761.716752674034,9842.236374378339,8904.758050756373,9086.875847006117,202.7929312508725,6524.721251806197,959.4292830760797,5959.191214199767,9149.204601628282,6926.871031762638,2415.5530506834475,5350.388481866649,778.9660195650916,4049.9878869448403,2460.7065766792803,3392.4377740943355,390.77409710247866,7650.901673901952,8118.598995503986,6834.1600410918545]}]},{\"name\":\"series 34 (F34)\",\"data\":[{\"name\":\"series 34 (F34)\",\"type\":\"scatter3d\",\"mode\":\"markers\",\"x\":[6233.147316978971,8273.18300339643,1808.9019160565645,9363.83841680973,3640.0552625822456,8074.060365063386,9452.858295330605,2430.932333038979,9272.415273162114,3787.917636055419,2573.460392770551,1596.2500767990973,8704.286721812186,3309.8372248628903,7809.6925156118305,1363.7673981101095,7594.547406167365,7587.722054274296,3797.5358574242046,2433.6068945608713,5249.2881546747885,3779.1136753796973,8466.136638370022,5364.516558539601,9507.116349095208,3958.9013778570393,9455.741102016063,3745.524550022903,3569.0096430342087,6056.691796795412],\"y\":[6584.703945073537,8150.261762372409,8646.319041670693,157.6916868948064,8076.082837371392,9383.783552518777,1114.9672220038187,3818.530657668725,1600.0292067874677,5830.544492900085,9240.84795378339,4629.530341401906,7096.393789280053,5073.5061812030635,2480.8792047556794,6897.504844546326,812.6668451969776,4378.193677772127,5866.120417851121,2028.2544129745872,9025.573678178316,8121.836740610334,3037.815502057287,8955.49404536426,5510.354208839174,2796.5628771604643,4134.1757766218325,1793.0359525416973,8979.953417662193,1826.9404957569357],\"z\":[8915.17159892732,6779.619879915769,5437.054467469131,3115.9922830141118,1264.5539645827787,9540.871945237472,5665.093179082418,1970.1323671006876,8522.78037817117,6710.439055357262,9930.087406250888,852.3073734036391,7981.470072468728,3032.435962831943,373.3270928867116,5273.947247984586,3309.474421763523,6209.908965522674,6545.666720518349,2060.1647621035536,5682.5909879519995,6969.108694197006,1067.368884743971,2208.965334559685,7953.410564228409,1076.9342904771995,493.1514222446587,5614.060738196706,5324.736485115662,3378.995332819098]}]},{\"name\":\"series 35 (F35)\",\"data\":[{\"name\":\"series 35 (F35)\",\"type\":\"scatter3d\",\"mode\":\"markers\",\"x\":[1120.2883113895768,9032.206342469997,2679.470148547883,1318.3107895864798,698.3261591688728,1849.811918261718,6971.807354019789,6849.747523377151,4782.1724707090425,6439.900710382348,2899.0465352323336,1182.8758131076988,816.0218575146072,1199.3232824101585,1450.2595902008798,6365.997175844555,3943.784607714027,4717.456656533047,3867.5326445312985,1366.6803099683523,6012.389924627562,8951.454134321519,8057.434313465876,8009.217986488618,3267.532181247932,7769.428878694308,554.8223920978235,3896.993421361069,8837.142391042064,4771.795244885962],\"y\":[4768.05729492028,5277.827264138475,3256.0568875809336,912.306944168415,5424.135594335533,2702.9521281402813,6.070855774510386,8114.170476317747,9884.219028190506,6285.33712106663,3328.759225295518,9812.93251297385,9314.481470340177,5380.669649352305,2414.1544536854963,3156.6727935879944,6574.1497453206275,9594.371873685988,9476.57096817463,455.35919400042866,3122.073222391272,4160.614240320781,9199.573955539414,9395.050865766147,4245.099940774586,2944.361979006257,3565.286118836749,2518.966934012472,476.00308495848844,6585.070672008725],\"z\":[9178.938419807218,6526.255642578144,3195.6402824834117,1630.726062139387,3857.763784335798,1050.6446647712796,4103.495018044228,8903.497455689425,5474.04366750955,4754.960352055855,1492.692739967233,5793.356352686901,8825.317346266309,3813.8516925455924,1080.0428702051167,7693.590977060385,5650.46788155876,4155.867402405104,5518.607031988998,8372.216775618806,8818.598970749197,4197.372672868413,4659.751112567997,7715.873403628632,4188.324272449342,9224.614218356517,8133.590274962014,7987.868641947912,2668.293458309543,2066.576133268234]}]},{\"name\":\"series 36 (F36)\",\"data\":[{\"name\":\"series 36 (F36)\",\"type\":\"scatter3d\",\"mode\":\"markers\",\"x\":[2881.1854476425724,6509.608898484846,605.4760372494661,7250.088887423328,898.8098205268813,3504.7362395472715,8785.936812015228,7439.991759362056,6644.05151183334,8737.86925112559,9053.532436156045,1640.9698069987355,9305.473810758649,9534.922128514007,2835.1657007782205,4374.016183520849,2452.008602923925,5789.555470097865,7706.934119292483,3839.302666408563,2455.207874797868,4640.389582327793,6543.716995983421,4938.562566000631,7516.936576930685,8646.191009201411,8765.442579203778,9953.925304067281,1137.037934290177,6491.318924469231],\"y\":[4726.485570003678,5666.464080278842,7419.961728011569,4521.2966737958595,2390.3443204197574,746.5522092312715,746.2906123881652,738.4546802057835,89.95320177233812,1359.4445808324406,9024.561509460662,280.1625064191504,394.6846960469086,6103.335988525698,7990.727099658808,2857.2548380646012,7888.304750093182,3633.4708119283455,3837.0547290382474,8147.826474746888,8007.842077265408,7624.711382756975,2829.219661970228,4721.653105729682,5001.539149946906,4086.2944437736205,9509.792382801066,1713.0744415351805,4534.75469798857,5466.340271774299],\"z\":[9588.284781055954,165.24865863233208,505.8898278520629,4470.001051310869,9682.36134861803,2736.2729532101716,6230.114044311007,8063.967201699951,3701.7856146032623,6287.735234547832,7306.86946761441,8751.376184651397,4856.1139428676925,1768.8473150900663,7207.836758473678,5874.998284356366,3019.115605895464,9764.38176278732,6905.246644471012,4442.9002075077415,9497.333847869228,8092.217905513155,6706.126170257295,2769.616355970956,5127.1757063372515,9916.377349873253,1866.2711216082173,3087.1864484607036,3064.3523821186645,6984.007122351834]}]},{\"name\":\"series 37 (F37)\",\"data\":[{\"name\":\"series 37 (F37)\",\"type\":\"scatter3d\",\"mode\":\"markers\",\"x\":[3528.438778293538,1204.2445744344689,4631.459201561358,2799.852288746821,3062.458977844308,2277.674117905044,5153.929718701475,4819.328200552601,980.6653785952312,9810.171863734435,6841.554145754068,3071.3905210988855,1260.2484744972985,4098.388970887081,7462.207349855235,5014.972093978107,8124.84059817301,4530.151118240835,6806.3780654500415,2887.8403769954307,5120.840884966731,7365.582051091237,7755.552587035368,324.2989663254947,5669.694032812505,6935.784246017806,5144.455607986297,9598.243268220045,185.539802753133,3554.0635940081],\"y\":[3546.599382800917,9490.65339012352,7318.3535431299215,5858.505187355885,4614.555062464466,6485.686339940532,5915.89801054338,8791.040263872697,5670.804550239821,8767.11002210009,9893.515770625192,966.9744661579994,3871.9903305918647,3316.8957023841463,358.987884777241,6800.268406562972,4458.8280620931955,1310.3669912776172,8060.393608286707,9423.697378949193,7355.907329988551,5957.381537040782,4508.1049398639625,179.34035923808045,3700.0507683510286,9956.595332709676,1967.7550169145497,9253.67841056779,2752.8625249179718,6809.946409166357],\"z\":[929.2208589932283,9892.91076195944,92.54335537941193,1387.0599895828796,8627.36627447752,5557.9240558138035,9982.009065255499,334.37158287862087,3723.492858994504,5364.678645475431,8374.79668160205,2191.324069358733,352.1483127237901,8204.60626358326,8147.200687344067,406.0917020421684,9396.14804586911,50.93618922043519,4834.52902642972,9835.846884790322,6073.364965307569,2130.700992444243,9401.32878304541,8771.671813670977,702.0505770245011,9878.498359087149,4389.878673826874,4045.7936494705573,3857.1484288903202,3886.9114864801036]}]},{\"name\":\"series 38 (F38)\",\"data\":[{\"name\":\"series 38 (F38)\",\"type\":\"scatter3d\",\"mode\":\"markers\",\"x\":[1168.2012260141428,6358.898512655597,8038.266487038982,4429.82454254028,8938.299378865822,6607.860578718449,5440.680686973106,558.6908348614417,667.2793300787083,1699.296576840109,5453.938388828909,3258.1446769970557,7168.466021070609,101.9376613027101,6108.340295737965,9696.174988594259,8186.582944366748,3220.8877141333282,847.7809582388695,2215.403000699376,8530.50747136035,8569.414417431062,5728.125458545228,1385.841021423283,8049.078048402115,4668.9982458252525,2423.512915699787,7175.831847497263,6559.87583903933,5625.943681441372],\"y\":[9268.670909497547,6096.699349646254,8717.85647928209,5412.932124275774,5973.5349973651255,5037.967944216161,9250.166368928783,8026.477441802314,7617.166328967888,4433.83656046336,5985.423271749114,9896.321548070518,61.16672364370635,4387.922961475513,6670.2005078489265,5190.384486947423,2018.4903097293861,7432.117638123399,5692.40355294556,2988.9650908056997,8671.75704547475,706.7220432298393,8520.6829087733,7694.46277196318,7955.874227601025,8522.863715950192,4920.979182753643,497.96925738133103,3402.978174490788,3504.522140405567],\"z\":[6825.747946602008,241.6622896252496,6793.405490392889,806.3136219702194,3108.371030316719,6596.003160447304,9764.61670883859,5264.522309282926,1454.7043532075654,7113.326070891311,6000.684295547545,5762.686612823683,7025.6761090685795,2424.4802192248703,4658.175160599819,4579.37981165288,8669.293918228965,612.76532186201,1279.9471700573818,2034.6540421393333,6067.375833396019,2629.479777097713,4606.594345797106,8362.941867718457,5391.775918005699,5507.979824091341,6415.96792128159,5414.036538491395,6796.82260760454,9088.21993249195]}]},{\"name\":\"series 39 (F39)\",\"data\":[{\"name\":\"series 39 (F39)\",\"type\":\"scatter3d\",\"mode\":\"markers\",\"x\":[6804.411456560778,520.1093574620463,4389.146737122256,4981.336103485124,9169.049048725205,3665.5351096711806,8193.023767027287,3583.8935108637493,7558.664052924499,6957.641799907349,8068.813124983155,6094.016953360496,4031.4180451999937,2320.31356795561,1544.028964359958,3686.683911237748,5190.854421296057,9318.71700027116,1081.0249011045391,5273.052954259883,5167.338135656717,72.2394265064863,1432.2387544631276,8598.766273109843,6970.286548728304,2324.0592392878048,4423.385030001775,6828.749948621448,5357.2476585911445,4909.600587076985],\"y\":[6756.94397248758,4221.113602883964,2149.086062217138,2102.444998858872,6242.74682816677,10.32452850978971,9266.240544039782,4615.10683180433,3239.4077726054225,9199.915466324775,5669.218585901215,5393.404643165217,7029.810487067402,2607.559631863697,1857.1996343760832,7766.9902355154445,1355.8058081612578,6210.42404331854,9611.816790884473,2004.9249515745394,9401.733666551781,1606.2947641563985,5268.896270498605,3874.0174601323074,6143.334557881015,5236.03939825501,1959.1304729690385,5408.973083149934,5168.066330932967,3905.5585450824983],\"z\":[9979.36870918572,3777.224247807658,7824.801565319205,8100.445707584553,4739.410454560268,8857.646198540397,4875.32406059622,2604.163089056063,8574.889590458679,3951.1870860345666,4697.008862780887,6010.613203589797,6125.039677456015,6902.767840599368,7525.509787887011,6864.565758465692,2944.838373488975,837.64377697081,2228.2434214049294,4368.476011304092,3554.2239964154,4701.7353740181015,663.9013938714966,5861.8151907677975,8222.789332420733,3844.2743824487047,4810.186569197083,1609.0989239825249,7446.554624608859,9992.436679593473]}]},{\"name\":\"series 40 (F40)\",\"data\":[{\"name\":\"series 40 (F40)\",\"type\":\"scatter3d\",\"mode\":\"markers\",\"x\":[3531.410718885137,9825.394067403899,9294.12708183642,8141.455692521639,9109.554356054321,1323.146944842266,7582.756752501525,5120.047779491859,8476.833882152787,3681.7668084438606,8190.50387402111,889.8025516631114,464.7829682373383,9421.46743672836,6718.932491475603,8998.5199778797,8324.298984936553,1305.4511429459947,3191.4495201664395,7031.307476835974,6273.068265606223,599.6014641365288,8505.61556947022,1389.574228252647,9891.227590721866,886.4201743140254,2953.4473581056886,3276.8910819838284,2813.077939918733,860.0320085807379],\"y\":[9281.94764357797,4382.01183337458,6352.122091868371,4421.651282938629,1486.7888323546274,1423.1770528422583,4448.640971663669,5349.985716242904,5815.28896301084,8454.15583639712,3643.4899173122094,6838.632881246118,2300.5182464044183,4631.301876941853,6658.734746373895,3272.597274502809,3556.5754080430934,3002.233773692833,8605.217361298584,2758.640669576181,2535.78181766315,2800.5744883110337,6839.07532745539,4129.251809686877,2481.7369480238294,3717.515775443728,9053.708383573723,1407.5991018770305,407.891179381964,5669.796702302864],\"z\":[9320.629681854934,2050.9161162674495,89.48559525905564,1695.0206961750202,8482.095275056441,2682.3351647857176,1777.4171735958987,4779.056396304238,3550.3572182479716,7476.272545229268,3625.7908035823984,1656.6006104912456,582.8403392145598,9880.04368085483,4170.621471712201,7924.808111547703,6879.495932296382,7934.464350178027,6105.349717862067,9171.219559954372,1288.0352596489308,7098.770270917875,9069.545219537495,2241.0516161740024,5904.705510546681,2190.2713107967506,3200.367466548378,9255.23532173906,8522.714845418734,1816.728429639719]}]},{\"name\":\"series 41 (F41)\",\"data\":[{\"name\":\"series 41 (F41)\",\"type\":\"scatter3d\",\"mode\":\"markers\",\"x\":[5792.06052974302,4539.421540143677,2807.3784406874693,4509.522569579656,566.9609384797136,1235.5000104989133,2366.4950283604735,5658.263182237908,2782.2014108561357,41.00137886062116,5636.433640404993,8302.561552641562,3679.4946050345065,7258.090146724037,818.8484511730499,8854.27069836967,4631.085841735942,3132.6720703795177,3979.9026839801886,903.575349456368,4743.165926666457,4325.478501250829,8863.331022294213,6404.889385908467,5648.740290709023,6280.810901751621,3970.6239584299074,3743.600516596173,3755.1489794163685,2244.961552954],\"y\":[1026.0712117188687,6452.274895342955,3307.141592072812,5735.150576851802,9071.35475382992,4675.019095934916,3284.6100406417013,2371.153751694678,123.83300509293815,3871.268671563508,7374.784871439355,5155.612785630993,5584.614756977227,1705.3549497429522,9041.9081653998,4525.3627960835865,7396.968686075772,4585.776581588561,3063.0939972489246,794.9258836195505,4332.574603813772,9898.18532072352,807.2933751387967,1974.6555535112363,1722.5697566016406,8618.666137408773,9004.985112571392,4369.844225375315,2452.299010961362,5698.978986016226],\"z\":[789.4130314405345,6853.430694649291,8103.132537562322,2382.9984699722518,3385.8960737403286,2253.7763020102807,1751.661345539559,5443.673752550137,8983.94162417274,910.3062542647011,8126.047132070336,3222.4043930527514,4047.592722466764,2123.6364697748677,2571.2369929479805,7307.805482335445,7602.644174265756,8963.140798254004,7589.226070307429,1708.419446425319,885.068170738843,693.7355409665124,4597.492158267322,8454.00087353569,9143.187362883975,4944.993055978106,8988.180796577206,9702.588672701648,1356.8440134975613,8669.515859927475]}]},{\"name\":\"series 42 (F42)\",\"data\":[{\"name\":\"series 42 (F42)\",\"type\":\"scatter3d\",\"mode\":\"markers\",\"x\":[8572.579409768292,1635.64849558946,5170.01000281758,2923.8392193455597,9059.862690095571,4691.155495708985,2428.9883817960945,1553.9512762991792,5346.05131027053,8014.557696520358,5376.564952207995,7978.85537542791,4078.578493771391,3400.1447842125544,4773.160272973567,7439.418159838607,1213.8059035323013,5450.419657186745,8999.247439193921,4316.083007456392,8099.293936784598,198.65454337118948,7538.997529242361,5417.854218179596,989.5751778956186,4019.883265348061,3153.3177997720063,506.28287031517004,1843.6368408244875,8298.168776417724],\"y\":[4521.155591539824,742.0153596638824,2754.2724350359535,3023.056135491571,5161.136205162254,4227.796740002359,2423.9135703012225,4255.70186113449,5041.314474549289,5370.642519747341,728.505886245091,6235.247843138833,8443.017604489642,1397.225993958482,6600.450041887483,8788.5897403303,5365.461313258675,5030.354728076557,5213.575074648545,4661.76130373322,4041.023490496566,7070.73840060076,2767.5715262323197,9408.73894144153,8976.766448502238,6427.075789887018,1046.2609475589525,8553.551078461327,2345.9972984872647,7998.8201960957595],\"z\":[9363.531041593822,2884.145371702408,6524.3606253711405,739.8106353006317,8512.722675594012,2941.5577408592208,2098.1631009568923,9217.279983831373,9899.702136854588,8035.495915663855,8768.329558304888,2029.5838510744923,3166.8127133126036,3447.5306045512866,6231.594184588979,9557.32205616132,7304.345193114374,1875.6681342672998,8341.236044452487,1696.3489232921659,3498.124464596384,1629.15353390806,6632.86632919655,3457.499026644423,2776.2631158296767,4599.9338651896005,8646.4832714122,2616.6868895313432,7895.082333896952,1617.2842753256257]}]},{\"name\":\"series 43 (F43)\",\"data\":[{\"name\":\"series 43 (F43)\",\"type\":\"scatter3d\",\"mode\":\"markers\",\"x\":[2384.2088572957778,8960.35697650925,6843.6560682353,1434.6870155545078,713.8303205025865,9095.102109435256,4848.3893461397265,2303.1204662910864,8561.46492112614,4276.584568188359,2823.4889573492837,1852.502166290665,1332.3764174001408,1261.7287113210718,2840.1442770730346,1833.1049206050354,5157.173425253741,7799.481043286245,5376.684825069104,9161.339436354194,8281.31904533757,5049.261011688142,8863.937590894846,3669.3835704429443,8199.086957298174,8952.553142214887,9354.455247957341,5975.707217984861,978.807166563761,1381.9215397651174],\"y\":[7021.245503020476,5973.626651969656,7634.434772158317,9753.054298239127,6631.08112174213,3577.5960705455022,7369.1951888001595,709.2745250349486,1139.4254298533867,8572.02629167148,9050.246319864564,9474.279495927012,1118.4563497408883,5674.993819491764,369.013483470747,1517.7042168238686,7856.63519816046,4259.285028927768,8800.047715194087,7289.4265390441105,4657.706544633972,9565.798500783121,9691.967574445465,3952.3638822366047,9118.980840535796,3699.40433416717,4607.241498276071,279.8382354740447,8983.195337302528,214.93807969514722],\"z\":[7373.277557243343,2182.412839867155,5535.208718537692,5681.088626705922,6215.483797957061,6690.436020686846,1454.2312217210574,5252.510231582688,7813.671283045473,1642.3504303054303,4534.254474080851,6985.575267223645,3156.371258810069,6815.1591548083115,4749.786412031906,1400.7556584081349,5663.342643946689,9782.263461305214,9770.961644942048,8624.70401731729,9204.749831900866,6395.220834375842,3221.5420564024653,5337.67800506699,7366.189760394795,1459.7940169769906,725.2802842929407,7707.0384527454535,5591.958758770585,9912.994236246881]}]},{\"name\":\"series 44 (F44)\",\"data\":[{\"name\":\"series 44 (F44)\",\"type\":\"scatter3d\",\"mode\":\"markers\",\"x\":[1100.5697191703955,4505.119006447543,4684.641799542961,2606.6472236091477,3940.2598357285533,6689.851705216593,7547.320135114488,3664.3416973905387,252.96444445314313,5869.107517192307,1025.3904920628709,8302.444296859165,9844.1499564664,4274.788497792744,1238.1907363773303,992.1972913137378,7679.739238221233,3140.2885964064185,3886.3384289054916,3888.738898296362,1601.9183992841502,4705.016668326135,678.8820959025932,4564.218612555652,5456.295462447757,5462.250926751654,9245.072680470641,256.0059258339476,4941.5007634579,4721.680965564146],\"y\":[6678.768572594078,3077.3167634030706,8306.781735048364,3075.558814677024,6209.1823016773615,6936.416668212596,400.09532308829307,9937.469853648441,2399.8914103838997,2271.8795346966235,6508.650688323541,7965.307423753667,2748.7274458323795,9135.213992927458,1935.813049210755,4885.1107173469,2594.371001378951,2638.4998296185036,4322.730724471692,0.011287661099146362,5831.174552969363,7333.495909825385,8349.997300675797,3498.6029371454874,6091.9437741359625,8700.020522535546,6644.121897367337,1569.6349945319444,1779.11047645685,595.2246815371709],\"z\":[6465.523970747909,9285.002661916787,3607.930778036621,7251.710111468278,9069.229706411703,6230.586445509254,5171.046958809524,7211.272728697993,7506.3970859496485,6944.574336227741,5441.955800823175,4442.379983730764,9074.249135399692,9365.476140299688,7105.627798960059,8813.315423069316,623.9502715703949,9697.114688870488,6137.7219529111435,4079.257429794446,8500.411306600148,1365.4632651057009,6149.553325675866,6590.384773230242,14.965280570269357,9072.270125637539,5674.1600106853975,2039.4250014033933,41.30456145281292,6342.994941446434]}]},{\"name\":\"series 45 (F45)\",\"data\":[{\"name\":\"series 45 (F45)\",\"type\":\"scatter3d\",\"mode\":\"markers\",\"x\":[7789.53235870961,740.8996838870374,4577.025972419966,6421.653605454178,9258.261997250378,4170.640274488335,2927.5855418285,1882.7538233150299,708.5744097226554,6792.9788213475695,1546.4120095669987,7910.575311872609,289.91172821882014,7564.348773575283,5504.387389390134,7838.627628245221,706.9361043664302,4925.854224900965,8063.851626644602,7247.202959301323,3569.024385399416,7583.700020416794,4896.7435427276305,4684.50945674141,5588.033161950543,925.1956454569843,7113.443030026022,2906.9577758297373,8315.309006636158,5529.382667291299],\"y\":[6458.334175298404,4426.745391371543,6829.630796495551,9905.157269180252,6780.055959730786,9109.964758736403,3070.964837072712,4326.088454181174,8198.872040212993,9586.03919855244,6360.624695163107,6429.963736513827,4270.528559221166,2309.366150267271,7056.62475954231,2112.4193856530383,7885.438415682057,8256.628463658553,9263.724916320696,7167.840632322129,8643.96996750832,7448.311737883307,5050.859357059726,6117.048239179974,3013.0806272520185,5750.541907977968,5724.357023902103,4710.109263274125,8696.482363495988,743.4387263600395],\"z\":[5363.5511743313,1703.948812385926,6339.985789453325,5834.754825849837,8046.089894594367,3688.253952934839,4945.614143579978,8252.653221316441,2973.455338962825,3969.5038602835984,2182.5418704595613,7069.049633792284,1052.9056320994557,2821.7748906577667,7159.856397809363,1985.0258480382688,2400.256481810277,1774.3067574570814,1165.5991577594693,2252.399736553603,6698.621695553689,9029.641097739737,1378.497420365653,7810.61391770231,7381.435062415139,6592.467741986959,3623.243898992362,1485.6837764016318,6203.7800058008515,2238.152896146319]}]},{\"name\":\"series 46 (F46)\",\"data\":[{\"name\":\"series 46 (F46)\",\"type\":\"scatter3d\",\"mode\":\"markers\",\"x\":[2867.1446629510856,1928.0237824537528,6924.2557956841465,1061.2365292381687,4345.398015512858,1858.548098055104,5540.313062096259,2018.0292628332074,3954.2293883829147,5147.523779786382,9803.191360260998,4613.756548150956,3865.555247225095,9268.22457007764,2584.3020564551157,9683.531019593562,8193.803358479026,6747.522227241632,2073.0920730930948,6077.7610235332395,3984.969190874281,378.1206265627202,6757.1381358095105,1986.431590672274,4799.944378153707,2162.221985463345,4668.416126251178,5623.021910163772,7728.602025713826,5223.991873679947],\"y\":[4475.39829741453,5037.6505249080965,9798.079359256626,1258.2638899558729,658.8311450107232,940.370023337338,6428.150655334605,3475.510176103236,6229.75131449876,9589.359651999392,2838.5383733126077,6458.172581239102,4231.500843689098,5035.091634714228,9127.458240010728,9861.039132513153,3613.2033149544995,1310.3758030558,1117.6545406771188,2468.4159161610132,5970.368804846044,5517.518760518176,2005.6279228541719,6763.432164874027,7118.996845441058,2187.651827676712,4351.7180843644555,1869.891862590325,1502.7506996498973,7773.625041961754],\"z\":[8013.147990731365,4494.66013878907,8028.476545469315,1686.6784221085086,7249.100960685491,3328.6542837672796,3083.550625801583,6898.437962938253,9416.342665530865,2257.08783745344,209.23191107965366,8803.61081040148,8425.862853643539,1684.6902479364178,6187.409677069171,5775.080720469382,8445.46052345002,5299.206877060743,143.83153928015702,8641.931079484815,7210.149357289768,1676.5616851497068,5679.103985446934,9182.25814373229,3741.713471291084,6273.6389472590745,6009.461195502313,9646.457155342532,2280.699316968592,9559.724697416132]}]},{\"name\":\"series 47 (F47)\",\"data\":[{\"name\":\"series 47 (F47)\",\"type\":\"scatter3d\",\"mode\":\"markers\",\"x\":[8632.499530427816,6312.995432301094,2798.5777558940263,1305.2224034359406,9128.776742479859,127.51674629517318,8584.76880089325,9376.336289348053,3368.3822230019946,6587.44567404834,3092.670457237127,3776.9948278294273,3612.2856884183198,5208.091354611442,1480.7880024296883,3134.3648802185085,6781.470037329762,6142.576924998328,7099.514058919709,1341.8831706346857,2512.569957482803,7826.748756960385,9551.060854208987,6653.8136940274935,4526.92308999822,4881.5508627700265,8889.500534901343,4167.913566562435,1310.6617778264417,9929.172258678016],\"y\":[29.822387847718844,5337.871227823014,1136.6631336757994,6465.608340755669,2499.3686637989354,4924.75623781465,2054.884917658033,2481.1034087253893,3291.9639929255263,6626.801545659469,9635.816353417302,6131.269607841808,4774.506382145096,3519.41348111483,3972.4753252396295,5435.505362724956,5347.740938447051,8392.385543701088,2729.5881757186958,3715.6663834640835,7877.390770322099,2088.8680124031457,8874.2904975862,1286.7657416205968,9788.772682966506,5030.7269024284615,130.88792738205623,1772.8160114940717,9157.478004115452,8257.499294304838],\"z\":[2172.9255825658365,8344.744459714593,3130.651454189155,5511.2345420081565,9099.010787691179,1163.649592837228,8577.8568341769,7167.085343499584,2834.5414413532844,2361.4869342488755,9997.467612571194,139.5947752427995,7759.69330633635,9002.60916311772,6393.976063695714,5287.19846266407,8084.724091545594,7643.406287638673,7093.568099296192,5292.544899655807,3276.853134338431,6343.622462567861,6279.760853166774,1513.809637400657,1188.6829185610536,1281.7554760665207,7407.858196783085,7882.261050599143,9446.325291603056,5488.271929119865]}]},{\"name\":\"series 48 (F48)\",\"data\":[{\"name\":\"series 48 (F48)\",\"type\":\"scatter3d\",\"mode\":\"markers\",\"x\":[1596.428099036913,3563.912799539216,3126.10402089214,6634.196457317639,8595.9599963775,3808.172578478907,781.9080770466725,9298.968175451202,4999.316087647043,173.9828776611385,1480.967194420736,4690.279657466641,1985.5390679800655,7154.016591550986,2664.0325095471594,7399.940930196758,4078.037404652817,2110.079506784861,2366.643442907016,4453.649119441015,1150.113992862184,9387.942617701614,9621.364307841424,6648.858225619705,8225.270822882017,7497.4071143122455,3706.581743377639,5973.7824952520405,1496.657795731362,323.48393239149175],\"y\":[6315.653564221408,5761.89090977365,4429.503607502994,9477.14765001772,690.9003889027409,2160.078955238578,4812.308246976521,5099.202600451882,8300.145217970246,6475.0297636750765,2187.0352675965896,6698.374814534346,6729.192308039614,8011.110509107908,5215.494804556707,3934.826939579695,2121.8595974313203,6124.470736896701,228.55769477874378,9652.864787520053,5719.860950031266,8391.84452220684,5456.799240969415,3921.688378714192,6838.059489413222,9028.880126954944,255.62189840233395,8360.614023591721,3956.2954644855063,7991.653890382726],\"z\":[5014.857650256137,4605.273513415873,1517.2127813059622,6556.351714129252,5382.306650514514,9413.877701600008,2490.199156919514,9595.925413582441,3932.6214020220173,1617.702578261121,5794.764973943065,8258.869539731617,3477.397536464536,2887.5428971055617,3272.3852388077858,9304.07918076447,8839.285258967833,5117.94857375126,3054.03515543903,8957.088115946612,8102.393139948635,2123.644475694004,4891.349457675861,9826.811368917288,103.19836226604929,2297.6052130115145,8302.543848078147,9158.240551510637,2240.647826962451,1897.840682716756]}]},{\"name\":\"series 49 (F49)\",\"data\":[{\"name\":\"series 49 (F49)\",\"type\":\"scatter3d\",\"mode\":\"markers\",\"x\":[6229.933402360295,5495.374237334695,1561.0674188662633,5710.022321621123,5314.091161361533,8689.991969286137,2512.965994802423,2975.659779856401,8860.39261383144,5115.70370828449,6768.767869567575,1680.6161852978253,106.89150261999569,5933.045496249831,4074.9565800343503,3566.3276260520615,1498.1793478918114,1300.2076446689005,8219.073936565148,5556.169231947011,328.08230972412366,7535.317829421674,8891.465299273785,681.9928430957157,2334.753449594319,7410.029760667341,8471.61818840786,3050.932279745854,2614.9173041301365,5990.491136712981],\"y\":[2583.3931931790353,6910.158792882671,7569.735134500861,5740.5972840708955,4640.398599125884,9447.33993797657,2502.954352718121,4963.762096016499,7542.216339798225,607.1368459587567,6962.710379910768,3083.2693179558514,184.13770449484446,909.1542549243093,3951.557451863692,4747.591478755608,2507.5171703163323,20.331583957756692,9725.001752604068,2295.8946909579527,444.81458891014626,4664.845783943489,8057.016142171364,2730.2741126399633,1302.840837733361,4347.172341065845,6571.719027013596,1015.0943811495495,879.6761684833309,7319.028130583541],\"z\":[3023.602239839719,6260.136429640861,5925.191318350493,7238.502993705253,6254.398173539964,1143.0797614728826,9432.042468863754,3049.7559714417876,9962.872930033695,7788.178826230415,1683.4754066831358,754.2413488358679,7394.546572696276,5241.819740074958,6986.219739472211,5949.498807838275,1591.5330301825193,4671.970563438486,4581.210848299685,279.12234974698083,8938.402215232782,8467.36856503786,2351.8306637260034,3267.6066289621863,3398.1701624443904,8523.61376321921,3638.808186815179,3406.3362262204923,5053.22079512059,7177.167888390613]}]}]\n",
       "var labels_5SDqhgJziq = [\"series 0 (F0)\",\"series 1 (F1)\",\"series 2 (F2)\",\"series 3 (F3)\",\"series 4 (F4)\",\"series 5 (F5)\",\"series 6 (F6)\",\"series 7 (F7)\",\"series 8 (F8)\",\"series 9 (F9)\",\"series 10 (F10)\",\"series 11 (F11)\",\"series 12 (F12)\",\"series 13 (F13)\",\"series 14 (F14)\",\"series 15 (F15)\",\"series 16 (F16)\",\"series 17 (F17)\",\"series 18 (F18)\",\"series 19 (F19)\",\"series 20 (F20)\",\"series 21 (F21)\",\"series 22 (F22)\",\"series 23 (F23)\",\"series 24 (F24)\",\"series 25 (F25)\",\"series 26 (F26)\",\"series 27 (F27)\",\"series 28 (F28)\",\"series 29 (F29)\",\"series 30 (F30)\",\"series 31 (F31)\",\"series 32 (F32)\",\"series 33 (F33)\",\"series 34 (F34)\",\"series 35 (F35)\",\"series 36 (F36)\",\"series 37 (F37)\",\"series 38 (F38)\",\"series 39 (F39)\",\"series 40 (F40)\",\"series 41 (F41)\",\"series 42 (F42)\",\"series 43 (F43)\",\"series 44 (F44)\",\"series 45 (F45)\",\"series 46 (F46)\",\"series 47 (F47)\",\"series 48 (F48)\",\"series 49 (F49)\"]\n",
       "var duration_5SDqhgJziq = 100\n",
       "var config_5SDqhgJziq = {\"responsive\":true,\"scrollZoom\":true,\"displaylogo\":false}\n",
       "\n",
       "var traces_5SDqhgJziq = JSON.parse(JSON.stringify(frames_5SDqhgJziq[0].data.map(x => x)))\n",
       "\n",
       "var animation_settings_5SDqhgJziq = {\n",
       "    mode: \"immediate\",\n",
       "    direction: {},\n",
       "    fromcurrent: true,\n",
       "    frame: [\n",
       "      {duration: duration_5SDqhgJziq},\n",
       "      {duration: duration_5SDqhgJziq},\n",
       "      {redraw: true}\n",
       "    ],\n",
       "    transition: [\n",
       "      {duration: duration_5SDqhgJziq, easing: 'cubic-in-out'},\n",
       "      {duration: duration_5SDqhgJziq, easing: 'cubic-in-out'},\n",
       "    ],\n",
       "    ordering: \"layout first\"\n",
       "}\n",
       "\n",
       "var slider_5SDqhgJziq = document.createElement(\"input\")\n",
       "var play_5SDqhgJziq = document.getElementById(\"play_5SDqhgJziq\")\n",
       "var pause_5SDqhgJziq = document.getElementById(\"pause_5SDqhgJziq\")\n",
       "slider_5SDqhgJziq.id = \"slider_5SDqhgJziq\"\n",
       "slider_5SDqhgJziq.type = \"range\"\n",
       "slider_5SDqhgJziq.min = 0\n",
       "slider_5SDqhgJziq.max = frames_5SDqhgJziq.length - 1\n",
       "slider_5SDqhgJziq.value = 0\n",
       "document.getElementById(\"sliderContainer_5SDqhgJziq\").appendChild(slider_5SDqhgJziq);\n",
       "\n",
       "Plotly.newPlot(graph_5SDqhgJziq, traces_5SDqhgJziq, layout_5SDqhgJziq, config_5SDqhgJziq)\n",
       ".then(function () { Plotly.addFrames(graph_5SDqhgJziq, frames_5SDqhgJziq) })\n",
       "\n",
       "var trigger_5SDqhgJziq = true\n",
       "var reset_count_5SDqhgJziq = false\n",
       "\n",
       "play_5SDqhgJziq.addEventListener('click', async function() {\n",
       "   trigger_5SDqhgJziq = true\n",
       "   if (reset_count_5SDqhgJziq) {\n",
       "      slider_5SDqhgJziq.value = 0\n",
       "      reset_count_5SDqhgJziq = false\n",
       "   }\n",
       "\n",
       "  const start_index = slider_5SDqhgJziq.value == labels_5SDqhgJziq.length - 1 ? 0 : slider_5SDqhgJziq.value\n",
       "  const end_index = labels_5SDqhgJziq.length\n",
       "  await Plotly.animate(graph_5SDqhgJziq, labels_5SDqhgJziq.slice(start_index, end_index), animation_settings_5SDqhgJziq)\n",
       "})\n",
       "\n",
       "pause_5SDqhgJziq.addEventListener('click', async function() {\n",
       "  await Plotly.animate(graph_5SDqhgJziq, [null], animation_settings_5SDqhgJziq)\n",
       "  trigger_5SDqhgJziq = false;\n",
       "})\n",
       "\n",
       "graph_5SDqhgJziq.on('plotly_redraw', () => {\n",
       "   value_5SDqhgJziq.innerHTML = slider_5SDqhgJziq.value;\n",
       "   if (trigger_5SDqhgJziq & !reset_count_5SDqhgJziq) ++slider_5SDqhgJziq.value\n",
       "   if (slider_5SDqhgJziq.value == labels_5SDqhgJziq.length - 1) reset_count_5SDqhgJziq = true\n",
       "});\n",
       "\n",
       "slider_5SDqhgJziq.oninput = async function() {\n",
       "   await Plotly.animate(graph_5SDqhgJziq, frames_5SDqhgJziq[this.value], animation_settings_5SDqhgJziq)\n",
       "   trigger_5SDqhgJziq = false\n",
       "   slider_5SDqhgJziq.value = this.value\n",
       "   value_5SDqhgJziq.innerHTML = this.value;\n",
       "   if (this.value == 0) reset_count_5SDqhgJziq = false\n",
       "   if (this.value == labels_5SDqhgJziq.length - 1) reset_count_5SDqhgJziq = true\n",
       "   reset_count_5SDqhgJziq = false\n",
       "}\n",
       "\n",
       "next_5SDqhgJziq.addEventListener('click', function() {\n",
       "    if (slider_5SDqhgJziq.value == labels_5SDqhgJziq.length - 1) {\n",
       "        reset_count_5SDqhgJziq = true;\n",
       "        return;\n",
       "    }\n",
       "    ++slider_5SDqhgJziq.value;\n",
       "    value_5SDqhgJziq.innerHTML = slider_5SDqhgJziq.value;\n",
       "    trigger_5SDqhgJziq = false;\n",
       "    slider_5SDqhgJziq.oninput();\n",
       "})\n",
       "\n",
       "prev_5SDqhgJziq.addEventListener('click', function() {\n",
       "    if (slider_5SDqhgJziq.value == 0) {\n",
       "        reset_count_5SDqhgJziq = false;\n",
       "        return;\n",
       "    }\n",
       "    --slider_5SDqhgJziq.value;\n",
       "    value_5SDqhgJziq.innerHTML = slider_5SDqhgJziq.value;\n",
       "    trigger_5SDqhgJziq = false;\n",
       "    slider_5SDqhgJziq.oninput();\n",
       "})\n",
       "\n",
       "</script> \n"
      ]
     },
     "metadata": {},
     "output_type": "display_data"
    }
   ],
   "source": [
    "val series = createXYZSeries(numberToCreate = 50, length = 30)\n",
    "\n",
    "val chart = (\n",
    "  Chart(animated = true)\n",
    "  setTitle \"Animation 3D\"\n",
    "  addSeries series\n",
    "  setXAxisLimits(0, 1E4)\n",
    "  setYAxisLimits(0, 1E4)\n",
    "  setZAxisLimits(0, 1E4)\n",
    "  drawZAxisLog true\n",
    ")\n",
    "\n",
    "chart.plotInline"
   ]
  },
  {
   "cell_type": "markdown",
   "metadata": {},
   "source": [
    "## IO + Utility Functions\n",
    "\n",
    "The library also comes with some basic CSV IO functions and a utility function for breaking down data"
   ]
  },
  {
   "cell_type": "code",
   "execution_count": 49,
   "metadata": {},
   "outputs": [],
   "source": [
    "import org.carbonateresearch.picta.IO._\n",
    "import org.carbonateresearch.picta.common.Utils.getSeriesbyCategory"
   ]
  },
  {
   "cell_type": "code",
   "execution_count": 50,
   "metadata": {},
   "outputs": [
    {
     "name": "stdout",
     "output_type": "stream",
     "text": [
      "/Users/cedric/IdeaProjects/picta\n"
     ]
    }
   ],
   "source": [
    "val working_directory = getWorkingDirectory\n",
    "\n",
    "println(working_directory)"
   ]
  },
  {
   "cell_type": "code",
   "execution_count": 51,
   "metadata": {},
   "outputs": [],
   "source": [
    "// by providing a path, we can read in a CSV\n",
    "val filepath = working_directory + \"/iris_csv.csv\"\n",
    "\n",
    "val data = readCSV(filepath)\n",
    "\n",
    "// by default, CSV are read in as strings. However we can convert the individual columns to the correct format\n",
    "val sepal_length = data(\"sepallength\").map(_.toDouble)\n",
    "val petal_width = data(\"petalwidth\").map(_.toDouble)\n",
    "val categories = data(\"class\")"
   ]
  },
  {
   "cell_type": "code",
   "execution_count": 52,
   "metadata": {},
   "outputs": [
    {
     "data": {
      "text/html": [
       "<div id=\"grid-container_SGMLo3wJxK\" class=\"grid-container\" align=\"center\"> \n",
       "<div id=\"grid_SGMLo3wJxK\" class=\"grid\" align=\"center\"> \n",
       "<div id=\"graph_XrTjivzrx2\" class=\"graph\"></div> \n",
       "</div> \n",
       "</div> \n",
       "<script>\n",
       "var masonry = new Macy({\n",
       "    container: '#grid_SGMLo3wJxK',\n",
       "    debug: true,\n",
       "    mobileFirst: true,\n",
       "    columns: 1,\n",
       "    margin: {\n",
       "        x: 0,\n",
       "        y: 0\n",
       "    }\n",
       "  });\n",
       "\n",
       "  var traces_XrTjivzrx2 = [{\"name\":\"PZ257DjAQc\",\"type\":\"scatter\",\"mode\":\"markers\",\"x\":[5.9,6.2,6.5,6.3,6.7,6.7,6.8,5.8,6.9,6.7,6.9,6,6.4,6.3,7.7,6.1,6.3,6.4,7.9,7.4,7.2,6.4,6.1,6.2,7.2,6.7,6.3,7.7,5.6,6.9,6,7.7,7.7,6.5,6.4,5.8,5.7,6.8,6.4,6.5,7.2,6.7,7.3,4.9,7.6,6.5,6.3,7.1,5.8,6.3,5.7,5.1,6.2,5.7,5.7,5.6,5,5.8,6.1,5.5,5.5,5.6,6.3,6.7,6,5.4,6,5.8,5.5,5.5,5.7,6,6.7,6.8,6.6,6.4,6.1,6.3,6.1,5.9,5.6,6.2,5.8,5.6,6.7,5.6,6.1,6,5.9,5,5.2,6.6,4.9,6.3,5.7,6.5,5.5,6.9,6.4,7,5,5.3,4.6,5.1,4.8,5.1,5,4.4,4.5,5,5.1,4.4,4.9,5.5,5,4.9,5.5,5.2,5.4,4.8,4.7,5.2,5.2,5,5,4.8,5.1,4.6,5.1,5.4,5.1,5.7,5.1,5.4,5.7,5.8,4.3,4.8,4.8,5.4,4.9,4.4,5,4.6,5.4,5,4.6,4.7,4.9,5.1],\"y\":[1.8,2.3,2,1.9,2.3,2.5,2.3,1.9,2.3,2.4,2.1,1.8,1.8,2.4,2.3,1.4,1.5,2.2,2,1.9,1.6,2.1,1.8,1.8,1.8,2.1,1.8,2,2,2.3,1.5,2.3,2.2,1.8,2.3,2.4,2,2.1,1.9,2,2.5,1.8,1.8,1.7,2.1,2.2,1.8,2.1,1.9,2.5,1.3,1.1,1.3,1.3,1.2,1.3,1,1.2,1.4,1.2,1.3,1.3,1.3,1.5,1.6,1.5,1.6,1.2,1,1.1,1,1.5,1.7,1.4,1.4,1.3,1.2,1.5,1.3,1.8,1.1,1.5,1,1.5,1.4,1.3,1.4,1,1.5,1,1.4,1.3,1,1.6,1.3,1.5,1.3,1.5,1.5,1.4,0.2,0.2,0.2,0.2,0.3,0.4,0.6,0.2,0.3,0.3,0.2,0.2,0.1,0.2,0.2,0.1,0.2,0.1,0.4,0.2,0.2,0.2,0.2,0.4,0.2,0.2,0.5,0.2,0.4,0.2,0.3,0.3,0.3,0.4,0.4,0.2,0.1,0.1,0.2,0.2,0.1,0.2,0.2,0.3,0.4,0.2,0.2,0.2,0.2,0.2]}];\n",
       " var layout_XrTjivzrx2 = {\"height\":550,\"width\":600,\"hovermode\":\"closest\",\"title\":{\"text\":\"Uninformative Chart\"},\"showlegend\":true};\n",
       " var config_XrTjivzrx2 = {\"responsive\":true,\"scrollZoom\":true,\"displaylogo\":false};\n",
       " Plotly.newPlot(\"graph_XrTjivzrx2\", traces_XrTjivzrx2, layout_XrTjivzrx2, config_XrTjivzrx2);\n",
       "</script> \n"
      ]
     },
     "metadata": {},
     "output_type": "display_data"
    }
   ],
   "source": [
    "val series = XY(sepal_length, petal_width) asType SCATTER drawStyle MARKERS\n",
    "\n",
    "val chart = Chart() addSeries series setTitle \"Uninformative Chart\"\n",
    "\n",
    "chart.plotInline"
   ]
  },
  {
   "cell_type": "markdown",
   "metadata": {},
   "source": [
    "The above chart is not very informative. However since we have the per data point category labels, we can use the utility function to display the data in the different clusters"
   ]
  },
  {
   "cell_type": "code",
   "execution_count": 53,
   "metadata": {},
   "outputs": [
    {
     "data": {
      "text/html": [
       "<div id=\"grid-container_P7JV5phQsX\" class=\"grid-container\" align=\"center\"> \n",
       "<div id=\"grid_P7JV5phQsX\" class=\"grid\" align=\"center\"> \n",
       "<div id=\"graph_OcX7xn79Ge\" class=\"graph\"></div> \n",
       "</div> \n",
       "</div> \n",
       "<script>\n",
       "var masonry = new Macy({\n",
       "    container: '#grid_P7JV5phQsX',\n",
       "    debug: true,\n",
       "    mobileFirst: true,\n",
       "    columns: 1,\n",
       "    margin: {\n",
       "        x: 0,\n",
       "        y: 0\n",
       "    }\n",
       "  });\n",
       "\n",
       "  var traces_OcX7xn79Ge = [{\"name\":\"Iris-versicolor\",\"type\":\"scatter\",\"mode\":\"markers\",\"x\":[7,6.4,6.9,5.5,6.5,5.7,6.3,4.9,6.6,5.2,5,5.9,6,6.1,5.6,6.7,5.6,5.8,6.2,5.6,5.9,6.1,6.3,6.1,6.4,6.6,6.8,6.7,6,5.7,5.5,5.5,5.8,6,5.4,6,6.7,6.3,5.6,5.5,5.5,6.1,5.8,5,5.6,5.7,5.7,6.2,5.1,5.7],\"y\":[1.4,1.5,1.5,1.3,1.5,1.3,1.6,1,1.3,1.4,1,1.5,1,1.4,1.3,1.4,1.5,1,1.5,1.1,1.8,1.3,1.5,1.2,1.3,1.4,1.4,1.7,1.5,1,1.1,1,1.2,1.6,1.5,1.6,1.5,1.3,1.3,1.3,1.2,1.4,1.2,1,1.3,1.2,1.3,1.3,1.1,1.3]},{\"name\":\"Iris-setosa\",\"type\":\"scatter\",\"mode\":\"markers\",\"x\":[5.1,4.9,4.7,4.6,5,5.4,4.6,5,4.4,4.9,5.4,4.8,4.8,4.3,5.8,5.7,5.4,5.1,5.7,5.1,5.4,5.1,4.6,5.1,4.8,5,5,5.2,5.2,4.7,4.8,5.4,5.2,5.5,4.9,5,5.5,4.9,4.4,5.1,5,4.5,4.4,5,5.1,4.8,5.1,4.6,5.3,5],\"y\":[0.2,0.2,0.2,0.2,0.2,0.4,0.3,0.2,0.2,0.1,0.2,0.2,0.1,0.1,0.2,0.4,0.4,0.3,0.3,0.3,0.2,0.4,0.2,0.5,0.2,0.2,0.4,0.2,0.2,0.2,0.2,0.4,0.1,0.2,0.1,0.2,0.2,0.1,0.2,0.2,0.3,0.3,0.2,0.6,0.4,0.3,0.2,0.2,0.2,0.2]},{\"name\":\"Iris-virginica\",\"type\":\"scatter\",\"mode\":\"markers\",\"x\":[6.3,5.8,7.1,6.3,6.5,7.6,4.9,7.3,6.7,7.2,6.5,6.4,6.8,5.7,5.8,6.4,6.5,7.7,7.7,6,6.9,5.6,7.7,6.3,6.7,7.2,6.2,6.1,6.4,7.2,7.4,7.9,6.4,6.3,6.1,7.7,6.3,6.4,6,6.9,6.7,6.9,5.8,6.8,6.7,6.7,6.3,6.5,6.2,5.9],\"y\":[2.5,1.9,2.1,1.8,2.2,2.1,1.7,1.8,1.8,2.5,2,1.9,2.1,2,2.4,2.3,1.8,2.2,2.3,1.5,2.3,2,2,1.8,2.1,1.8,1.8,1.8,2.1,1.6,1.9,2,2.2,1.5,1.4,2.3,2.4,1.8,1.8,2.1,2.4,2.3,1.9,2.3,2.5,2.3,1.9,2,2.3,1.8]}];\n",
       " var layout_OcX7xn79Ge = {\"height\":550,\"width\":600,\"hovermode\":\"closest\",\"title\":{\"text\":\"Iris\"},\"showlegend\":true};\n",
       " var config_OcX7xn79Ge = {\"responsive\":true,\"scrollZoom\":true,\"displaylogo\":false};\n",
       " Plotly.newPlot(\"graph_OcX7xn79Ge\", traces_OcX7xn79Ge, layout_OcX7xn79Ge, config_OcX7xn79Ge);\n",
       "</script> \n"
      ]
     },
     "metadata": {},
     "output_type": "display_data"
    }
   ],
   "source": [
    "val result = getSeriesbyCategory(categories, (sepal_length, petal_width))\n",
    "\n",
    "val chart = Chart() addSeries result setTitle \"Iris\" showLegend true\n",
    "\n",
    "chart.plotInline"
   ]
  },
  {
   "cell_type": "markdown",
   "metadata": {},
   "source": [
    "## Conus Integration\n",
    "\n",
    "Picta was originally created to help plot data in CoNuS and with Spark. A couple of utility functions make wrangling CoNuS data easier. Below is an example taken from the conus repo and plotting some variables of interest."
   ]
  },
  {
   "cell_type": "code",
   "execution_count": 54,
   "metadata": {},
   "outputs": [],
   "source": [
    "import org.carbonateresearch.picta.conus.Utils._\n",
    "import org.carbonateresearch.picta.{Canvas, Chart, XY}\n",
    "import org.carbonateresearch.conus.common.SingleModelResults\n",
    "import org.carbonateresearch.conus._\n",
    "\n",
    "import math._"
   ]
  },
  {
   "cell_type": "code",
   "execution_count": 55,
   "metadata": {
    "scrolled": false
   },
   "outputs": [
    {
     "name": "stdout",
     "output_type": "stream",
     "text": [
      "09:17:15.231 [CoNuS-akka.actor.default-dispatcher-3] INFO akka.event.slf4j.Slf4jLogger - Slf4jLogger started\n"
     ]
    },
    {
     "name": "stderr",
     "output_type": "stream",
     "text": [
      "SLF4J: A number (1) of logging calls during the initialization phase have been intercepted and are\n",
      "SLF4J: now being replayed. These are subject to the filtering rules of the underlying logging system.\n",
      "SLF4J: See also http://www.slf4j.org/codes.html#replay\n"
     ]
    },
    {
     "data": {
      "text/html": [
       "Variable <b>Number of Rats</b> with initial value of 2 Individuals  defined"
      ]
     },
     "metadata": {},
     "output_type": "display_data"
    },
    {
     "data": {
      "text/html": [
       "Variable <b>Death rate</b> with initial value of 0.0 %  defined"
      ]
     },
     "metadata": {},
     "output_type": "display_data"
    }
   ],
   "source": [
    "val simulator = new AlmondSimulator // We create an Almond specific simulator\n",
    "\n",
    "// We will now create a ver simple 2D CoNuS model. The model has a dimension of 3x3 grids, and each grid is meant to represent\n",
    "// about 100x100 meters of a field. We initialize the model with values ranging from 2.0 to 6.0. These represent the population \n",
    "// of rats living in each 100 sq meter of the field. We will run the simulation for 10 time step, each time step represents\n",
    "// one generation. We assume a perfect parity between male and female rat, and we also assume that each couple will have 10\n",
    "// babies per generation. In addition, we will simulate a death rate between 0 to 0.9 (0 to 90% of the population), assigned\n",
    "// randomly at each timestep and for each square. A major simplification is that each cell (square in the field) has its own\n",
    "// rat population, there is no movement of rats in between the different cells.\n",
    "\n",
    "// In CoNuS, values that will be calculated are know as model variables. Let's set a few\n",
    "val nbRats:ModelVariable[Int] = ModelVariable(\"Number of Rats\",2,\"Individuals\") //Notice this is an Int\n",
    "val deathRate:ModelVariable[Double] = ModelVariable(\"Death rate\",0.0,\"%\")\n",
    "\n",
    "// Let's initialise a few model conditions \n",
    "val numberOfSteps = 10\n",
    "\n",
    "// And let's create a function that, given a rat population and a deathRate, calculates a new population \n",
    "\n",
    "def survivingRats(initialPopulation:Int, deathRate:Double): Int = {\n",
    "    initialPopulation-math.floor(initialPopulation.toDouble*deathRate).toInt\n",
    "}\n"
   ]
  },
  {
   "cell_type": "code",
   "execution_count": 56,
   "metadata": {},
   "outputs": [
    {
     "name": "stdout",
     "output_type": "stream",
     "text": [
      "A total of 1 unique models were defined, attempting to create a list now.\n",
      "Models list successfully created.\n"
     ]
    },
    {
     "data": {
      "text/html": [
       "<b>Model characteristics</b><table class=\"table\"><tr><th>Feature</th><th>Value</th></tr><tr><td>Name</td><td>Simplified rat population dynamics</td></tr><tr><td>Nb of steps</td><td>10</td></tr><tr><td>Nb of models</td><td>1</td></tr><tr><td>Nb grid cells</td><td>9</td></tr><tr><td>Nb of operations per step</td><td>2</td></tr><tr><td>Total nb of operations</td><td>180</td></tr></table>"
      ]
     },
     "metadata": {},
     "output_type": "display_data"
    }
   ],
   "source": [
    "// Now we can create our model, step by step\n",
    "val ratPopulation = new SteppedModel(numberOfSteps,\"Simplified rat population dynamics\")\n",
    "    .setGrid(3,3) // 9 cells\n",
    "    .defineMathematicalModel( // In this super simple model we do only two things at each step\n",
    "      deathRate =>> {(s:Step) => scala.util.Random.nextDouble()*0.9}, // calculate a death rate\n",
    "      nbRats =>> {(s:Step) => {survivingRats(nbRats(s-1)+(nbRats(s-1)/2*10),deathRate(s))}} // calcuate the nb rats\n",
    "    )\n",
    "    .defineInitialModelConditions( // Now we need to determine the inital size of the population at each model grid\n",
    "      PerCell(nbRats,List(\n",
    "        (List(2),Seq(0,0)),\n",
    "        (List(2),Seq(0,1)),\n",
    "        (List(4),Seq(0,2)),\n",
    "        (List(4),Seq(1,0)),\n",
    "        (List(2),Seq(1,1)),\n",
    "        (List(6),Seq(1,2)),\n",
    "        (List(2),Seq(2,0)),\n",
    "        (List(4),Seq(2,1)),\n",
    "        (List(6),Seq(2,2)))))"
   ]
  },
  {
   "cell_type": "code",
   "execution_count": 57,
   "metadata": {},
   "outputs": [
    {
     "data": {
      "text/html": [
       "Run progress:<br>#################################################################################################### 100.0%<br>Total runtime: 0 seconds"
      ]
     },
     "metadata": {},
     "output_type": "display_data"
    }
   ],
   "source": [
    "// Now we run the model\n",
    "simulator.evaluate(ratPopulation)"
   ]
  },
  {
   "cell_type": "code",
   "execution_count": 59,
   "metadata": {
    "scrolled": false
   },
   "outputs": [
    {
     "data": {
      "text/html": [
       "<div id=\"grid-container_ZnCHuqIIRg\" class=\"grid-container\" align=\"center\"> \n",
       "<div id=\"grid_ZnCHuqIIRg\" class=\"grid\" align=\"center\"> \n",
       "<div id=\"graph_jMvmRH5Grz\" class=\"graph\"></div> \n",
       "</div> \n",
       "</div> \n",
       "<script>\n",
       "var masonry = new Macy({\n",
       "    container: '#grid_ZnCHuqIIRg',\n",
       "    debug: true,\n",
       "    mobileFirst: true,\n",
       "    columns: 1,\n",
       "    margin: {\n",
       "        x: 0,\n",
       "        y: 0\n",
       "    }\n",
       "  });\n",
       "\n",
       "  var traces_jMvmRH5Grz = [{\"name\":\"Death rate\",\"type\":\"scatter\",\"x\":[0,1,2,3,4,5,6,7,8],\"y\":[0.3581974656851144,0.26477760886263274,0.5768906856533217,0.7673405362523568,0.31825089824443065,0.32142597433092257,0.8680996543817271,0.3614818237863042,0.8980817781947464,0.31707461241408164]},{\"name\":\"Nb of rats\",\"type\":\"scatter\",\"yaxis\":\"y2\",\"x\":[0,1,2,3,4,5,6,7,8],\"y\":[8,36,92,129,525,2135,1689,6468,3956,16210]}];\n",
       " var layout_jMvmRH5Grz = {\"height\":550,\"width\":600,\"hovermode\":\"closest\",\"title\":{\"text\":\"Date rate vs nb of rats per generation for cell (0,0)\"},\"showlegend\":true,\"xaxis\":{\"title\":{\"text\":\"Generation\"},\"showgrid\":true,\"zeroline\":false,\"showline\":false},\"yaxis\":{\"title\":{\"text\":\"Death rate\"},\"showgrid\":true,\"zeroline\":false,\"showline\":false},\"yaxis2\":{\"title\":{\"text\":\"Nb rats\"},\"showgrid\":true,\"zeroline\":false,\"showline\":false,\"side\":\"right\",\"overlaying\":\"y\",\"tickformat\":\"0.0f\"}};\n",
       " var config_jMvmRH5Grz = {\"responsive\":true,\"scrollZoom\":true,\"displaylogo\":false};\n",
       " Plotly.newPlot(\"graph_jMvmRH5Grz\", traces_jMvmRH5Grz, layout_jMvmRH5Grz, config_jMvmRH5Grz);\n",
       "</script> \n"
      ]
     },
     "metadata": {},
     "output_type": "display_data"
    },
    {
     "data": {
      "text/html": [
       "<b>Simplified rat population dynamics model #1 <br>Timestep: 9</b> [from 0 to 9]<table class=\"table\" style=\"align: center; display:block; background-color:fffff0; border: 2px solid green; height: 450px; overflow-y: scroll\"><tr><th style=\"border: 1px solid green; background-color:fffff0\">Cell coordinates</th><th style=\"border: 1px solid green; background-color:#ebebec\">Number of Rats</th><th style=\"border: 1px solid green; background-color:#ebebec\">Death rate</th></tr><tr style=\"border: 1px solid green; background-color:fffff0\"><td style=\"border: 1px solid green; background-color:fffff0\">(0, 0)</td><td style=\"border: 1px solid green; background-color:fffff0\">16210</td><td style=\"border: 1px solid green; background-color:fffff0\">0.31707461241408164</td></tr><tr style=\"border: 1px solid green; background-color:fffff0\"><td style=\"border: 1px solid green; background-color:fffff0\">(0, 1)</td><td style=\"border: 1px solid green; background-color:fffff0\">648055</td><td style=\"border: 1px solid green; background-color:fffff0\">0.2563420497246793</td></tr><tr style=\"border: 1px solid green; background-color:fffff0\"><td style=\"border: 1px solid green; background-color:fffff0\">(0, 2)</td><td style=\"border: 1px solid green; background-color:fffff0\">10341379</td><td style=\"border: 1px solid green; background-color:fffff0\">0.22439313129067295</td></tr><tr style=\"border: 1px solid green; background-color:fffff0\"><td style=\"border: 1px solid green; background-color:fffff0\">(1, 0)</td><td style=\"border: 1px solid green; background-color:fffff0\">716035</td><td style=\"border: 1px solid green; background-color:fffff0\">0.15787682054176705</td></tr><tr style=\"border: 1px solid green; background-color:fffff0\"><td style=\"border: 1px solid green; background-color:fffff0\">(1, 1)</td><td style=\"border: 1px solid green; background-color:fffff0\">139200</td><td style=\"border: 1px solid green; background-color:fffff0\">0.4253199347860039</td></tr><tr style=\"border: 1px solid green; background-color:fffff0\"><td style=\"border: 1px solid green; background-color:fffff0\">(1, 2)</td><td style=\"border: 1px solid green; background-color:fffff0\">481197</td><td style=\"border: 1px solid green; background-color:fffff0\">0.5322668966483617</td></tr><tr style=\"border: 1px solid green; background-color:fffff0\"><td style=\"border: 1px solid green; background-color:fffff0\">(2, 0)</td><td style=\"border: 1px solid green; background-color:fffff0\">4061278</td><td style=\"border: 1px solid green; background-color:fffff0\">0.08130030090090803</td></tr><tr style=\"border: 1px solid green; background-color:fffff0\"><td style=\"border: 1px solid green; background-color:fffff0\">(2, 1)</td><td style=\"border: 1px solid green; background-color:fffff0\">501803</td><td style=\"border: 1px solid green; background-color:fffff0\">0.6378955949127303</td></tr><tr style=\"border: 1px solid green; background-color:fffff0\"><td style=\"border: 1px solid green; background-color:fffff0\">(2, 2)</td><td style=\"border: 1px solid green; background-color:fffff0\">4054414</td><td style=\"border: 1px solid green; background-color:fffff0\">0.14173570961949344</td></tr></table>"
      ]
     },
     "metadata": {},
     "output_type": "display_data"
    }
   ],
   "source": [
    "// grab the results from the Conus model\n",
    "val model: SingleModelResults = simulator(ratPopulation)(0)\n",
    "\n",
    "val generation = (0 until numberOfSteps-1).map(x=>x.toDouble).toList\n",
    "\n",
    "// we can use the utility function to grab the series for a single variable\n",
    "val deathRateSeries: List[Double] = getDataFromSingleModel(model, deathRate, List(0,0), numberOfSteps)\n",
    "\n",
    "val xy1 = XY(generation, deathRateSeries) setName(\"Death rate\")\n",
    "\n",
    "// alternatively we can quickly get the same data for XY using the function below\n",
    "//  val xy1 = getXYSeriesFromSingleModel(model, (age, d18Occ), List(0), numberOfSteps)\n",
    "\n",
    "// lets also plot a second y variable\n",
    "val yaxis2 = Axis(\n",
    "    Y,\n",
    "    position = 2, \n",
    "    title = \"Nb rats\", \n",
    "    overlaying = Axis(Y), // this ensures that the axis sits on a seperate axis\n",
    "    side = RIGHT_SIDE, // this ensures the axis is on the right hand side\n",
    "    tickformat = \"0.0f\" // this will keep formatting reasonable for display purposes\n",
    ")\n",
    "\n",
    "// we construct the second y variable;\n",
    "val nbRatsSeries: List[Double] = getDataFromSingleModel(model, nbRats, List(0,0), numberOfSteps).map(x => x.toDouble)\n",
    "val xy2 = XY(generation, nbRatsSeries) setAxis yaxis2 setName(\"Nb of rats\")\n",
    "\n",
    "// finally we can combine in a single chart\n",
    "val chart = (\n",
    "    Chart() \n",
    "    addSeries xy1\n",
    "    addSeries xy2\n",
    "    setTitle(\"Date rate vs nb of rats per generation for cell (0,0)\") \n",
    "    addAxes(Axis(X, title=\"Generation\"), Axis(Y, title=\"Death rate\"), yaxis2)\n",
    ")\n",
    "\n",
    "val canvas = Canvas() addCharts chart\n",
    "\n",
    "// When we plot the result, we can see the legend is in the wrong place and overlaying the axis - we can overcome this\n",
    "// in the next example\n",
    "canvas.plotInline()"
   ]
  },
  {
   "cell_type": "markdown",
   "metadata": {
    "pycharm": {
     "name": "#%% md\n"
    }
   },
   "source": [
    "### Moving the Legend\n",
    "\n",
    "We can also move the Legend and position it where we would like as follows:"
   ]
  },
  {
   "cell_type": "code",
   "execution_count": 60,
   "metadata": {
    "pycharm": {
     "name": "#%%\n"
    }
   },
   "outputs": [],
   "source": [
    "import org.carbonateresearch.picta.options.AUTO"
   ]
  },
  {
   "cell_type": "code",
   "execution_count": 61,
   "metadata": {
    "scrolled": false
   },
   "outputs": [
    {
     "data": {
      "text/html": [
       "<div id=\"grid-container_4FNa2e7FEK\" class=\"grid-container\" align=\"center\"> \n",
       "<div id=\"grid_4FNa2e7FEK\" class=\"grid\" align=\"center\"> \n",
       "<div id=\"graph_MBoYORO38n\" class=\"graph\"></div> \n",
       "</div> \n",
       "</div> \n",
       "<script>\n",
       "var masonry = new Macy({\n",
       "    container: '#grid_4FNa2e7FEK',\n",
       "    debug: true,\n",
       "    mobileFirst: true,\n",
       "    columns: 1,\n",
       "    margin: {\n",
       "        x: 0,\n",
       "        y: 0\n",
       "    }\n",
       "  });\n",
       "\n",
       "  var traces_MBoYORO38n = [{\"name\":\"Death rate\",\"type\":\"scatter\",\"x\":[0,1,2,3,4,5,6,7,8],\"y\":[0.3581974656851144,0.26477760886263274,0.5768906856533217,0.7673405362523568,0.31825089824443065,0.32142597433092257,0.8680996543817271,0.3614818237863042,0.8980817781947464,0.31707461241408164]},{\"name\":\"Nb of rats\",\"type\":\"scatter\",\"yaxis\":\"y2\",\"x\":[0,1,2,3,4,5,6,7,8],\"y\":[8,36,92,129,525,2135,1689,6468,3956,16210]}];\n",
       " var layout_MBoYORO38n = {\"height\":550,\"width\":600,\"hovermode\":\"closest\",\"title\":{\"text\":\"Death rate vs Nb of rats for cell (0,0)\"},\"showlegend\":true,\"legend\":{\"orientation\":\"h\",\"x\":0.5,\"y\":-0.5,\"xanchor\":\"auto\",\"yanchor\":\"auto\"},\"xaxis\":{\"title\":{\"text\":\"Generation\"},\"showgrid\":true,\"zeroline\":false,\"showline\":false},\"yaxis\":{\"title\":{\"text\":\"Death rate\"},\"showgrid\":true,\"zeroline\":false,\"showline\":false},\"yaxis2\":{\"title\":{\"text\":\"Nb rats\"},\"showgrid\":true,\"zeroline\":false,\"showline\":false,\"side\":\"right\",\"overlaying\":\"y\",\"tickformat\":\"0.0f\"}};\n",
       " var config_MBoYORO38n = {\"responsive\":true,\"scrollZoom\":true,\"displaylogo\":false};\n",
       " Plotly.newPlot(\"graph_MBoYORO38n\", traces_MBoYORO38n, layout_MBoYORO38n, config_MBoYORO38n);\n",
       "</script> \n"
      ]
     },
     "metadata": {},
     "output_type": "display_data"
    }
   ],
   "source": [
    "// finally we can combine in a single chart\n",
    "val chart = (\n",
    "    Chart() \n",
    "    addSeries xy1\n",
    "    addSeries xy2\n",
    "    setTitle(\"Death rate vs Nb of rats for cell (0,0)\") \n",
    "    addAxes(Axis(X, title=\"Generation\"), Axis(Y, title=\"Death rate\"), yaxis2)\n",
    "    setLegend(x = 0.5, y = -0.5, orientation = HORIZONTAL, xanchor = AUTO, yanchor = AUTO)\n",
    ")\n",
    "\n",
    "val canvas = Canvas() addCharts chart\n",
    "\n",
    "canvas.plotInline()"
   ]
  },
  {
   "cell_type": "code",
   "execution_count": 62,
   "metadata": {},
   "outputs": [
    {
     "data": {
      "text/html": [
       "<div id=\"grid-container_gxJqTFNWDV\" class=\"grid-container\" align=\"center\"> \n",
       "<div id=\"grid_gxJqTFNWDV\" class=\"grid\" align=\"center\"> \n",
       "\n",
       "<div align=\"center\">\n",
       "  <div id=\"graph_PYVQKgKQeN\" class=\"graph\"></div>\n",
       "  <div class=\"animationInterface\">\n",
       "    <button id=\"play_PYVQKgKQeN\" class=\"picta-button\">&#9658</button>\n",
       "    <button id=\"pause_PYVQKgKQeN\" class=\"picta-button\">&#9616;&#9616;</button>\n",
       "    <button id=\"prev_PYVQKgKQeN\" class=\"picta-button\"><</button>\n",
       "    <button id=\"next_PYVQKgKQeN\" class=\"picta-button\">></button>\n",
       "\n",
       "    <div id=\"sliderContainer_PYVQKgKQeN\" class=\"progressBar\"></div>\n",
       "    <div id=\"counterContainer_PYVQKgKQeN\" class=\"inline-div\">\n",
       "        <h3>Frame: </h3> <h3 id=\"value_PYVQKgKQeN\">0</h3>\n",
       "    </div>\n",
       "   </div>\n",
       "</div> \n",
       "\n",
       "</div> \n",
       "</div> \n",
       "<script>\n",
       "var masonry = new Macy({\n",
       "    container: '#grid_gxJqTFNWDV',\n",
       "    debug: true,\n",
       "    mobileFirst: true,\n",
       "    columns: 1,\n",
       "    margin: {\n",
       "        x: 0,\n",
       "        y: 0\n",
       "    }\n",
       "  });\n",
       "\n",
       "var graph_PYVQKgKQeN = document.getElementById('graph_PYVQKgKQeN')\n",
       "\n",
       "var layout_PYVQKgKQeN = {\"height\":550,\"width\":600,\"hovermode\":\"closest\",\"title\":{\"text\":\"Animation XY with Multiple Series\"},\"showlegend\":true,\"legend\":{\"orientation\":\"h\",\"x\":0.5,\"y\":-0.5,\"xanchor\":\"auto\",\"yanchor\":\"auto\"},\"xaxis\":{\"title\":{\"text\":\"Generation\"},\"showgrid\":true,\"zeroline\":false,\"showline\":false,\"range\":[0,9]},\"yaxis\":{\"title\":{\"text\":\"Death Rate\"},\"showgrid\":true,\"zeroline\":false,\"showline\":false,\"range\":[0,1]},\"yaxis2\":{\"title\":{\"text\":\"Nb rats\"},\"showgrid\":true,\"zeroline\":false,\"showline\":false,\"side\":\"right\",\"overlaying\":\"y\",\"range\":[0,10000],\"tickformat\":\"0.0f\"}}\n",
       "var frames_PYVQKgKQeN = [{\"name\":\"Frame 0\",\"data\":[{\"name\":\"Death Rate (F0)\",\"type\":\"scatter\",\"x\":[0],\"y\":[0.3581974656851144]},{\"name\":\"Nb of rats (F0)\",\"type\":\"scatter\",\"yaxis\":\"y2\",\"x\":[0],\"y\":[8]}]},{\"name\":\"Frame 1\",\"data\":[{\"name\":\"Death Rate (F1)\",\"type\":\"scatter\",\"x\":[0,1],\"y\":[0.3581974656851144,0.26477760886263274]},{\"name\":\"Nb of rats (F1)\",\"type\":\"scatter\",\"yaxis\":\"y2\",\"x\":[0,1],\"y\":[8,36]}]},{\"name\":\"Frame 2\",\"data\":[{\"name\":\"Death Rate (F2)\",\"type\":\"scatter\",\"x\":[0,1,2],\"y\":[0.3581974656851144,0.26477760886263274,0.5768906856533217]},{\"name\":\"Nb of rats (F2)\",\"type\":\"scatter\",\"yaxis\":\"y2\",\"x\":[0,1,2],\"y\":[8,36,92]}]},{\"name\":\"Frame 3\",\"data\":[{\"name\":\"Death Rate (F3)\",\"type\":\"scatter\",\"x\":[0,1,2,3],\"y\":[0.3581974656851144,0.26477760886263274,0.5768906856533217,0.7673405362523568]},{\"name\":\"Nb of rats (F3)\",\"type\":\"scatter\",\"yaxis\":\"y2\",\"x\":[0,1,2,3],\"y\":[8,36,92,129]}]},{\"name\":\"Frame 4\",\"data\":[{\"name\":\"Death Rate (F4)\",\"type\":\"scatter\",\"x\":[0,1,2,3,4],\"y\":[0.3581974656851144,0.26477760886263274,0.5768906856533217,0.7673405362523568,0.31825089824443065]},{\"name\":\"Nb of rats (F4)\",\"type\":\"scatter\",\"yaxis\":\"y2\",\"x\":[0,1,2,3,4],\"y\":[8,36,92,129,525]}]},{\"name\":\"Frame 5\",\"data\":[{\"name\":\"Death Rate (F5)\",\"type\":\"scatter\",\"x\":[0,1,2,3,4,5],\"y\":[0.3581974656851144,0.26477760886263274,0.5768906856533217,0.7673405362523568,0.31825089824443065,0.32142597433092257]},{\"name\":\"Nb of rats (F5)\",\"type\":\"scatter\",\"yaxis\":\"y2\",\"x\":[0,1,2,3,4,5],\"y\":[8,36,92,129,525,2135]}]},{\"name\":\"Frame 6\",\"data\":[{\"name\":\"Death Rate (F6)\",\"type\":\"scatter\",\"x\":[0,1,2,3,4,5,6],\"y\":[0.3581974656851144,0.26477760886263274,0.5768906856533217,0.7673405362523568,0.31825089824443065,0.32142597433092257,0.8680996543817271]},{\"name\":\"Nb of rats (F6)\",\"type\":\"scatter\",\"yaxis\":\"y2\",\"x\":[0,1,2,3,4,5,6],\"y\":[8,36,92,129,525,2135,1689]}]},{\"name\":\"Frame 7\",\"data\":[{\"name\":\"Death Rate (F7)\",\"type\":\"scatter\",\"x\":[0,1,2,3,4,5,6,7],\"y\":[0.3581974656851144,0.26477760886263274,0.5768906856533217,0.7673405362523568,0.31825089824443065,0.32142597433092257,0.8680996543817271,0.3614818237863042]},{\"name\":\"Nb of rats (F7)\",\"type\":\"scatter\",\"yaxis\":\"y2\",\"x\":[0,1,2,3,4,5,6,7],\"y\":[8,36,92,129,525,2135,1689,6468]}]},{\"name\":\"Frame 8\",\"data\":[{\"name\":\"Death Rate (F8)\",\"type\":\"scatter\",\"x\":[0,1,2,3,4,5,6,7,8],\"y\":[0.3581974656851144,0.26477760886263274,0.5768906856533217,0.7673405362523568,0.31825089824443065,0.32142597433092257,0.8680996543817271,0.3614818237863042,0.8980817781947464]},{\"name\":\"Nb of rats (F8)\",\"type\":\"scatter\",\"yaxis\":\"y2\",\"x\":[0,1,2,3,4,5,6,7,8],\"y\":[8,36,92,129,525,2135,1689,6468,3956]}]}]\n",
       "var labels_PYVQKgKQeN = [\"Frame 0\",\"Frame 1\",\"Frame 2\",\"Frame 3\",\"Frame 4\",\"Frame 5\",\"Frame 6\",\"Frame 7\",\"Frame 8\"]\n",
       "var duration_PYVQKgKQeN = 100\n",
       "var config_PYVQKgKQeN = {\"responsive\":true,\"scrollZoom\":true,\"displaylogo\":false}\n",
       "\n",
       "var traces_PYVQKgKQeN = JSON.parse(JSON.stringify(frames_PYVQKgKQeN[0].data.map(x => x)))\n",
       "\n",
       "var animation_settings_PYVQKgKQeN = {\n",
       "    mode: \"immediate\",\n",
       "    direction: {},\n",
       "    fromcurrent: true,\n",
       "    frame: [\n",
       "      {duration: duration_PYVQKgKQeN},\n",
       "      {duration: duration_PYVQKgKQeN},\n",
       "      {redraw: true}\n",
       "    ],\n",
       "    transition: [\n",
       "      {duration: duration_PYVQKgKQeN, easing: 'cubic-in-out'},\n",
       "      {duration: duration_PYVQKgKQeN, easing: 'cubic-in-out'},\n",
       "    ],\n",
       "    ordering: \"layout first\"\n",
       "}\n",
       "\n",
       "var slider_PYVQKgKQeN = document.createElement(\"input\")\n",
       "var play_PYVQKgKQeN = document.getElementById(\"play_PYVQKgKQeN\")\n",
       "var pause_PYVQKgKQeN = document.getElementById(\"pause_PYVQKgKQeN\")\n",
       "slider_PYVQKgKQeN.id = \"slider_PYVQKgKQeN\"\n",
       "slider_PYVQKgKQeN.type = \"range\"\n",
       "slider_PYVQKgKQeN.min = 0\n",
       "slider_PYVQKgKQeN.max = frames_PYVQKgKQeN.length - 1\n",
       "slider_PYVQKgKQeN.value = 0\n",
       "document.getElementById(\"sliderContainer_PYVQKgKQeN\").appendChild(slider_PYVQKgKQeN);\n",
       "\n",
       "Plotly.newPlot(graph_PYVQKgKQeN, traces_PYVQKgKQeN, layout_PYVQKgKQeN, config_PYVQKgKQeN)\n",
       ".then(function () { Plotly.addFrames(graph_PYVQKgKQeN, frames_PYVQKgKQeN) })\n",
       "\n",
       "var trigger_PYVQKgKQeN = true\n",
       "var reset_count_PYVQKgKQeN = false\n",
       "\n",
       "play_PYVQKgKQeN.addEventListener('click', async function() {\n",
       "   trigger_PYVQKgKQeN = true\n",
       "   if (reset_count_PYVQKgKQeN) {\n",
       "      slider_PYVQKgKQeN.value = 0\n",
       "      reset_count_PYVQKgKQeN = false\n",
       "   }\n",
       "\n",
       "  const start_index = slider_PYVQKgKQeN.value == labels_PYVQKgKQeN.length - 1 ? 0 : slider_PYVQKgKQeN.value\n",
       "  const end_index = labels_PYVQKgKQeN.length\n",
       "  await Plotly.animate(graph_PYVQKgKQeN, labels_PYVQKgKQeN.slice(start_index, end_index), animation_settings_PYVQKgKQeN)\n",
       "})\n",
       "\n",
       "pause_PYVQKgKQeN.addEventListener('click', async function() {\n",
       "  await Plotly.animate(graph_PYVQKgKQeN, [null], animation_settings_PYVQKgKQeN)\n",
       "  trigger_PYVQKgKQeN = false;\n",
       "})\n",
       "\n",
       "graph_PYVQKgKQeN.on('plotly_redraw', () => {\n",
       "   value_PYVQKgKQeN.innerHTML = slider_PYVQKgKQeN.value;\n",
       "   if (trigger_PYVQKgKQeN & !reset_count_PYVQKgKQeN) ++slider_PYVQKgKQeN.value\n",
       "   if (slider_PYVQKgKQeN.value == labels_PYVQKgKQeN.length - 1) reset_count_PYVQKgKQeN = true\n",
       "});\n",
       "\n",
       "slider_PYVQKgKQeN.oninput = async function() {\n",
       "   await Plotly.animate(graph_PYVQKgKQeN, frames_PYVQKgKQeN[this.value], animation_settings_PYVQKgKQeN)\n",
       "   trigger_PYVQKgKQeN = false\n",
       "   slider_PYVQKgKQeN.value = this.value\n",
       "   value_PYVQKgKQeN.innerHTML = this.value;\n",
       "   if (this.value == 0) reset_count_PYVQKgKQeN = false\n",
       "   if (this.value == labels_PYVQKgKQeN.length - 1) reset_count_PYVQKgKQeN = true\n",
       "   reset_count_PYVQKgKQeN = false\n",
       "}\n",
       "\n",
       "next_PYVQKgKQeN.addEventListener('click', function() {\n",
       "    if (slider_PYVQKgKQeN.value == labels_PYVQKgKQeN.length - 1) {\n",
       "        reset_count_PYVQKgKQeN = true;\n",
       "        return;\n",
       "    }\n",
       "    ++slider_PYVQKgKQeN.value;\n",
       "    value_PYVQKgKQeN.innerHTML = slider_PYVQKgKQeN.value;\n",
       "    trigger_PYVQKgKQeN = false;\n",
       "    slider_PYVQKgKQeN.oninput();\n",
       "})\n",
       "\n",
       "prev_PYVQKgKQeN.addEventListener('click', function() {\n",
       "    if (slider_PYVQKgKQeN.value == 0) {\n",
       "        reset_count_PYVQKgKQeN = false;\n",
       "        return;\n",
       "    }\n",
       "    --slider_PYVQKgKQeN.value;\n",
       "    value_PYVQKgKQeN.innerHTML = slider_PYVQKgKQeN.value;\n",
       "    trigger_PYVQKgKQeN = false;\n",
       "    slider_PYVQKgKQeN.oninput();\n",
       "})\n",
       "\n",
       "</script> \n"
      ]
     },
     "metadata": {},
     "output_type": "display_data"
    }
   ],
   "source": [
    "val xaxis = Axis(X, title = \"Generation\") setLimits (0.0, 9.0)\n",
    "val yaxis = Axis(Y, title = \"Death Rate\") setLimits(0.0, 1.0)\n",
    "\n",
    "// lets also plot a second y variable\n",
    "val yaxis2 = Axis(\n",
    "    Y,\n",
    "    position = 2, \n",
    "    title = \"Nb rats\",\n",
    "    overlaying = Axis(Y), // this ensures that the axis sits on a seperate axis\n",
    "    side = RIGHT_SIDE, // this ensures the axis is on the right hand side\n",
    "    tickformat = \"0.0f\" // this will keep formatting reasonable for display purposes\n",
    ").setLimits (0.0, 10000.0)\n",
    "\n",
    "// we can also specifiy the underlying layout directly - sometimes this can be useful\n",
    "val layout = ChartLayout(\"Animation XY with Multiple Series\") setAxes(xaxis, yaxis, yaxis2)\n",
    "\n",
    "val animation = \n",
    "    (0 to generation.size-1)\n",
    "    .map(x => XY(generation.take(x+1), deathRateSeries.take(x+1)) setName \"Death Rate\")\n",
    "    .toList\n",
    "\n",
    "val animation2 = \n",
    "    (0 to generation.size-1)\n",
    "    .map(x => XY(generation.take(x+1), nbRatsSeries.take(x+1)) setName \"Nb of rats\" setAxis yaxis2)\n",
    "    .toList\n",
    "\n",
    "val chart = (\n",
    "    Chart(animated = true, transition_duration=100, animate_multiple_series = true)\n",
    "    setChartLayout layout \n",
    "    addSeries animation\n",
    "    addSeries animation2\n",
    "    setLegend(x = 0.5, y = -0.5, orientation = HORIZONTAL, xanchor = AUTO, yanchor = AUTO)\n",
    ") \n",
    "\n",
    "chart.plotInline"
   ]
  },
  {
   "cell_type": "markdown",
   "metadata": {
    "pycharm": {
     "name": "#%% md\n"
    }
   },
   "source": [
    "//FAZAL: It took me a while to get how the heat map works but I think I get it now. However, for this to look like an\n",
    "//actual grid I would need to draw the grid itself, i.e. black lines around each cell of the heatmap. Can we do this?\n"
   ]
  },
  {
   "cell_type": "code",
   "execution_count": 64,
   "metadata": {
    "pycharm": {
     "name": "#%%\n"
    }
   },
   "outputs": [
    {
     "data": {
      "text/html": [
       "<div id=\"grid-container_1j70qgkcGR\" class=\"grid-container\" align=\"center\"> \n",
       "<div id=\"grid_1j70qgkcGR\" class=\"grid\" align=\"center\"> \n",
       "<div id=\"graph_x0Qgg5RjUw\" class=\"graph\"></div> \n",
       "</div> \n",
       "</div> \n",
       "<script>\n",
       "var masonry = new Macy({\n",
       "    container: '#grid_1j70qgkcGR',\n",
       "    debug: true,\n",
       "    mobileFirst: true,\n",
       "    columns: 1,\n",
       "    margin: {\n",
       "        x: 0,\n",
       "        y: 0\n",
       "    }\n",
       "  });\n",
       "\n",
       "  var traces_x0Qgg5RjUw = [{\"name\":\"QpFXadfSIH\",\"type\":\"heatmap\",\"z\":[[16210,648055,10341379],[716035,139200,481197],[4061278,501803,4054414]]}];\n",
       " var layout_x0Qgg5RjUw = {\"height\":550,\"width\":600,\"hovermode\":\"closest\",\"title\":{\"text\":\"Nb of rats at time step 10\"},\"showlegend\":true};\n",
       " var config_x0Qgg5RjUw = {\"responsive\":true,\"scrollZoom\":true,\"displaylogo\":false};\n",
       " Plotly.newPlot(\"graph_x0Qgg5RjUw\", traces_x0Qgg5RjUw, layout_x0Qgg5RjUw, config_x0Qgg5RjUw);\n",
       "</script> \n"
      ]
     },
     "metadata": {},
     "output_type": "display_data"
    }
   ],
   "source": [
    "val nbCol = (0 to 2).toList\n",
    "val mySeries:List[Double] = nbCol.flatMap(r => {\n",
    "    nbCol.map{c => getDataFromSingleModel(model, nbRats, List(r,c), numberOfSteps).last.toDouble}})\n",
    "\n",
    "val series = XYZ(z=mySeries,n=3) asType HEATMAP\n",
    "\n",
    "val chart = Chart().addSeries(series).setTitle(\"Nb of rats at time step 10\")\n",
    "\n",
    "chart.plotInline"
   ]
  },
  {
   "cell_type": "code",
   "execution_count": 65,
   "metadata": {},
   "outputs": [
    {
     "data": {
      "text/html": [
       "<div id=\"grid-container_VJEZ81in0R\" class=\"grid-container\" align=\"center\"> \n",
       "<div id=\"grid_VJEZ81in0R\" class=\"grid\" align=\"center\"> \n",
       "<div id=\"graph_nH8CUIlV2q\" class=\"graph\"></div> \n",
       "</div> \n",
       "</div> \n",
       "<script>\n",
       "var masonry = new Macy({\n",
       "    container: '#grid_VJEZ81in0R',\n",
       "    debug: true,\n",
       "    mobileFirst: true,\n",
       "    columns: 1,\n",
       "    margin: {\n",
       "        x: 0,\n",
       "        y: 0\n",
       "    }\n",
       "  });\n",
       "\n",
       "  var traces_nH8CUIlV2q = [{\"name\":\"AXix7gVhhS\",\"type\":\"surface\",\"colorbar\":{\"title\":{\"text\":\"Rat Population\",\"side\":\"right\"}},\"z\":[[16210,648055,10341379],[716035,139200,481197],[4061278,501803,4054414]]}];\n",
       " var layout_nH8CUIlV2q = {\"height\":550,\"width\":600,\"hovermode\":\"closest\",\"title\":{\"text\":\"Surface\"},\"showlegend\":true};\n",
       " var config_nH8CUIlV2q = {\"responsive\":true,\"scrollZoom\":true,\"displaylogo\":false};\n",
       " Plotly.newPlot(\"graph_nH8CUIlV2q\", traces_nH8CUIlV2q, layout_nH8CUIlV2q, config_nH8CUIlV2q);\n",
       "</script> \n"
      ]
     },
     "metadata": {},
     "output_type": "display_data"
    }
   ],
   "source": [
    "val ratsAsSurface = XYZ(z=mySeries,n=3) asType SURFACE setColorBar(\"Rat Population\", RIGHT_SIDE)\n",
    "\n",
    "val ratsChart = Chart() addSeries ratsAsSurface setTitle \"Surface\"\n",
    "\n",
    "ratsChart.plotInline"
   ]
  },
  {
   "cell_type": "code",
   "execution_count": 68,
   "metadata": {},
   "outputs": [
    {
     "data": {
      "text/html": [
       "<div id=\"grid-container_IXnBrU7Thx\" class=\"grid-container\" align=\"center\"> \n",
       "<div id=\"grid_IXnBrU7Thx\" class=\"grid\" align=\"center\"> \n",
       "\n",
       "<div align=\"center\">\n",
       "  <div id=\"graph_SFupsnEdaR\" class=\"graph\"></div>\n",
       "  <div class=\"animationInterface\">\n",
       "    <button id=\"play_SFupsnEdaR\" class=\"picta-button\">&#9658</button>\n",
       "    <button id=\"pause_SFupsnEdaR\" class=\"picta-button\">&#9616;&#9616;</button>\n",
       "    <button id=\"prev_SFupsnEdaR\" class=\"picta-button\"><</button>\n",
       "    <button id=\"next_SFupsnEdaR\" class=\"picta-button\">></button>\n",
       "\n",
       "    <div id=\"sliderContainer_SFupsnEdaR\" class=\"progressBar\"></div>\n",
       "    <div id=\"counterContainer_SFupsnEdaR\" class=\"inline-div\">\n",
       "        <h3>Frame: </h3> <h3 id=\"value_SFupsnEdaR\">0</h3>\n",
       "    </div>\n",
       "   </div>\n",
       "</div> \n",
       "\n",
       "</div> \n",
       "</div> \n",
       "<script>\n",
       "var masonry = new Macy({\n",
       "    container: '#grid_IXnBrU7Thx',\n",
       "    debug: true,\n",
       "    mobileFirst: true,\n",
       "    columns: 1,\n",
       "    margin: {\n",
       "        x: 0,\n",
       "        y: 0\n",
       "    }\n",
       "  });\n",
       "\n",
       "var graph_SFupsnEdaR = document.getElementById('graph_SFupsnEdaR')\n",
       "\n",
       "var layout_SFupsnEdaR = {\"height\":550,\"width\":600,\"hovermode\":\"closest\",\"title\":{\"text\":\"Surface\"},\"showlegend\":true,\"scene\":{\"zaxis\":{\"showgrid\":true,\"zeroline\":false,\"showline\":false,\"range\":[0,10000000]}}}\n",
       "var frames_SFupsnEdaR = [{\"name\":\"TEyZBFmbOo (F0)\",\"data\":[{\"name\":\"TEyZBFmbOo (F0)\",\"type\":\"surface\",\"colorbar\":{\"title\":{\"text\":\"Rat Population\",\"side\":\"right\"}},\"z\":[[8,6,22],[5,4,28],[6,20,13]]}]},{\"name\":\"Y3bguXUvPx (F1)\",\"data\":[{\"name\":\"Y3bguXUvPx (F1)\",\"type\":\"surface\",\"colorbar\":{\"title\":{\"text\":\"Rat Population\",\"side\":\"right\"}},\"z\":[[36,32,111],[11,5,30],[30,41,68]]}]},{\"name\":\"k9LbEthXI6 (F2)\",\"data\":[{\"name\":\"k9LbEthXI6 (F2)\",\"type\":\"surface\",\"colorbar\":{\"title\":{\"text\":\"Rat Population\",\"side\":\"right\"}},\"z\":[[92,115,631],[40,22,164],[167,200,380]]}]},{\"name\":\"tni1VO0kzi (F3)\",\"data\":[{\"name\":\"tni1VO0kzi (F3)\",\"type\":\"surface\",\"colorbar\":{\"title\":{\"text\":\"Rat Population\",\"side\":\"right\"}},\"z\":[[129,510,1439],[156,65,431],[785,518,1282]]}]},{\"name\":\"oq0rQd3H4A (F4)\",\"data\":[{\"name\":\"oq0rQd3H4A (F4)\",\"type\":\"surface\",\"colorbar\":{\"title\":{\"text\":\"Rat Population\",\"side\":\"right\"}},\"z\":[[525,1342,7553],[324,311,2202],[3921,2003,5035]]}]},{\"name\":\"sNMH8sviYl (F5)\",\"data\":[{\"name\":\"sNMH8sviYl (F5)\",\"type\":\"surface\",\"colorbar\":{\"title\":{\"text\":\"Rat Population\",\"side\":\"right\"}},\"z\":[[2135,6791,31785],[1368,1762,7789],[16737,5675,19148]]}]},{\"name\":\"2QdiEuc43O (F6)\",\"data\":[{\"name\":\"2QdiEuc43O (F6)\",\"type\":\"surface\",\"colorbar\":{\"title\":{\"text\":\"Rat Population\",\"side\":\"right\"}},\"z\":[[1689,11439,159988],[6298,1983,44902],[96855,17968,95865]]}]},{\"name\":\"ETsyrgSAaJ (F7)\",\"data\":[{\"name\":\"ETsyrgSAaJ (F7)\",\"type\":\"surface\",\"colorbar\":{\"title\":{\"text\":\"Rat Population\",\"side\":\"right\"}},\"z\":[[6468,48841,474638],[31478,7650,43037],[183048,44729,359736]]}]},{\"name\":\"PfxGTnQImM (F8)\",\"data\":[{\"name\":\"PfxGTnQImM (F8)\",\"type\":\"surface\",\"colorbar\":{\"title\":{\"text\":\"Rat Population\",\"side\":\"right\"}},\"z\":[[3956,145241,2222213],[141713,40370,171464],[736780,230966,787329]]}]},{\"name\":\"5wwwCURGGA (F9)\",\"data\":[{\"name\":\"5wwwCURGGA (F9)\",\"type\":\"surface\",\"colorbar\":{\"title\":{\"text\":\"Rat Population\",\"side\":\"right\"}},\"z\":[[16210,648055,10341379],[716035,139200,481197],[4061278,501803,4054414]]}]}]\n",
       "var labels_SFupsnEdaR = [\"TEyZBFmbOo (F0)\",\"Y3bguXUvPx (F1)\",\"k9LbEthXI6 (F2)\",\"tni1VO0kzi (F3)\",\"oq0rQd3H4A (F4)\",\"sNMH8sviYl (F5)\",\"2QdiEuc43O (F6)\",\"ETsyrgSAaJ (F7)\",\"PfxGTnQImM (F8)\",\"5wwwCURGGA (F9)\"]\n",
       "var duration_SFupsnEdaR = 100\n",
       "var config_SFupsnEdaR = {\"responsive\":true,\"scrollZoom\":true,\"displaylogo\":false}\n",
       "\n",
       "var traces_SFupsnEdaR = JSON.parse(JSON.stringify(frames_SFupsnEdaR[0].data.map(x => x)))\n",
       "\n",
       "var animation_settings_SFupsnEdaR = {\n",
       "    mode: \"immediate\",\n",
       "    direction: {},\n",
       "    fromcurrent: true,\n",
       "    frame: [\n",
       "      {duration: duration_SFupsnEdaR},\n",
       "      {duration: duration_SFupsnEdaR},\n",
       "      {redraw: true}\n",
       "    ],\n",
       "    transition: [\n",
       "      {duration: duration_SFupsnEdaR, easing: 'cubic-in-out'},\n",
       "      {duration: duration_SFupsnEdaR, easing: 'cubic-in-out'},\n",
       "    ],\n",
       "    ordering: \"layout first\"\n",
       "}\n",
       "\n",
       "var slider_SFupsnEdaR = document.createElement(\"input\")\n",
       "var play_SFupsnEdaR = document.getElementById(\"play_SFupsnEdaR\")\n",
       "var pause_SFupsnEdaR = document.getElementById(\"pause_SFupsnEdaR\")\n",
       "slider_SFupsnEdaR.id = \"slider_SFupsnEdaR\"\n",
       "slider_SFupsnEdaR.type = \"range\"\n",
       "slider_SFupsnEdaR.min = 0\n",
       "slider_SFupsnEdaR.max = frames_SFupsnEdaR.length - 1\n",
       "slider_SFupsnEdaR.value = 0\n",
       "document.getElementById(\"sliderContainer_SFupsnEdaR\").appendChild(slider_SFupsnEdaR);\n",
       "\n",
       "Plotly.newPlot(graph_SFupsnEdaR, traces_SFupsnEdaR, layout_SFupsnEdaR, config_SFupsnEdaR)\n",
       ".then(function () { Plotly.addFrames(graph_SFupsnEdaR, frames_SFupsnEdaR) })\n",
       "\n",
       "var trigger_SFupsnEdaR = true\n",
       "var reset_count_SFupsnEdaR = false\n",
       "\n",
       "play_SFupsnEdaR.addEventListener('click', async function() {\n",
       "   trigger_SFupsnEdaR = true\n",
       "   if (reset_count_SFupsnEdaR) {\n",
       "      slider_SFupsnEdaR.value = 0\n",
       "      reset_count_SFupsnEdaR = false\n",
       "   }\n",
       "\n",
       "  const start_index = slider_SFupsnEdaR.value == labels_SFupsnEdaR.length - 1 ? 0 : slider_SFupsnEdaR.value\n",
       "  const end_index = labels_SFupsnEdaR.length\n",
       "  await Plotly.animate(graph_SFupsnEdaR, labels_SFupsnEdaR.slice(start_index, end_index), animation_settings_SFupsnEdaR)\n",
       "})\n",
       "\n",
       "pause_SFupsnEdaR.addEventListener('click', async function() {\n",
       "  await Plotly.animate(graph_SFupsnEdaR, [null], animation_settings_SFupsnEdaR)\n",
       "  trigger_SFupsnEdaR = false;\n",
       "})\n",
       "\n",
       "graph_SFupsnEdaR.on('plotly_redraw', () => {\n",
       "   value_SFupsnEdaR.innerHTML = slider_SFupsnEdaR.value;\n",
       "   if (trigger_SFupsnEdaR & !reset_count_SFupsnEdaR) ++slider_SFupsnEdaR.value\n",
       "   if (slider_SFupsnEdaR.value == labels_SFupsnEdaR.length - 1) reset_count_SFupsnEdaR = true\n",
       "});\n",
       "\n",
       "slider_SFupsnEdaR.oninput = async function() {\n",
       "   await Plotly.animate(graph_SFupsnEdaR, frames_SFupsnEdaR[this.value], animation_settings_SFupsnEdaR)\n",
       "   trigger_SFupsnEdaR = false\n",
       "   slider_SFupsnEdaR.value = this.value\n",
       "   value_SFupsnEdaR.innerHTML = this.value;\n",
       "   if (this.value == 0) reset_count_SFupsnEdaR = false\n",
       "   if (this.value == labels_SFupsnEdaR.length - 1) reset_count_SFupsnEdaR = true\n",
       "   reset_count_SFupsnEdaR = false\n",
       "}\n",
       "\n",
       "next_SFupsnEdaR.addEventListener('click', function() {\n",
       "    if (slider_SFupsnEdaR.value == labels_SFupsnEdaR.length - 1) {\n",
       "        reset_count_SFupsnEdaR = true;\n",
       "        return;\n",
       "    }\n",
       "    ++slider_SFupsnEdaR.value;\n",
       "    value_SFupsnEdaR.innerHTML = slider_SFupsnEdaR.value;\n",
       "    trigger_SFupsnEdaR = false;\n",
       "    slider_SFupsnEdaR.oninput();\n",
       "})\n",
       "\n",
       "prev_SFupsnEdaR.addEventListener('click', function() {\n",
       "    if (slider_SFupsnEdaR.value == 0) {\n",
       "        reset_count_SFupsnEdaR = false;\n",
       "        return;\n",
       "    }\n",
       "    --slider_SFupsnEdaR.value;\n",
       "    value_SFupsnEdaR.innerHTML = slider_SFupsnEdaR.value;\n",
       "    trigger_SFupsnEdaR = false;\n",
       "    slider_SFupsnEdaR.oninput();\n",
       "})\n",
       "\n",
       "</script> \n"
      ]
     },
     "metadata": {},
     "output_type": "display_data"
    }
   ],
   "source": [
    "def createSeries:List[List[Double]] = {\n",
    "    val nbCol = (0 to 2).toList\n",
    "    val nestedList:List[List[Double]] = nbCol.flatMap(r => {\n",
    "    nbCol.map{c => getDataFromSingleModel(model, nbRats, List(r,c), numberOfSteps).map(x=>x.toDouble)}})\n",
    "  \n",
    "    (0 to 9).map(x => (0 to 8).map(y => nestedList(y)(x)).toList).toList\n",
    "}\n",
    "\n",
    "\n",
    "val ratsAsSurface = createSeries.map(s => XYZ(z=s,n=3) asType SURFACE setColorBar(\"Rat Population\", RIGHT_SIDE)) \n",
    "\n",
    "val ratsChart = Chart(animated = true, transition_duration=100) addSeries ratsAsSurface setTitle \"Surface\" setZAxisLimits(0, 10000000)\n",
    "\n",
    "ratsChart.plotInline"
   ]
  },
  {
   "cell_type": "code",
   "execution_count": null,
   "metadata": {},
   "outputs": [],
   "source": []
  },
  {
   "cell_type": "code",
   "execution_count": null,
   "metadata": {},
   "outputs": [],
   "source": []
  }
 ],
 "metadata": {
  "kernelspec": {
   "display_name": "Scala",
   "language": "scala",
   "name": "scala"
  },
  "language_info": {
   "codemirror_mode": "text/x-scala",
   "file_extension": ".scala",
   "mimetype": "text/x-scala",
   "name": "scala",
   "nbconvert_exporter": "script",
   "version": "2.13.1"
  }
 },
 "nbformat": 4,
 "nbformat_minor": 4
}