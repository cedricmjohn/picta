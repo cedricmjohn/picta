{
 "cells": [
  {
   "cell_type": "code",
   "execution_count": 1,
   "metadata": {
    "scrolled": true
   },
   "outputs": [],
   "source": [
    "interp.repositories() ++= Seq(coursierapi.MavenRepository.of(\n",
    "\"https://jitpack.io\"\n",
    "))"
   ]
  },
  {
   "cell_type": "code",
   "execution_count": 2,
   "metadata": {},
   "outputs": [
    {
     "data": {
      "text/plain": [
       "\u001b[32mimport \u001b[39m\u001b[36m$ivy.$                                  \u001b[39m"
      ]
     },
     "execution_count": 2,
     "metadata": {},
     "output_type": "execute_result"
    }
   ],
   "source": [
    "import $ivy. `org.carbonateresearch::picta:0.1`"
   ]
  },
  {
   "cell_type": "code",
   "execution_count": 3,
   "metadata": {
    "scrolled": false
   },
   "outputs": [
    {
     "data": {
      "text/html": [
       "\n",
       "<script> /** vim: et:ts=4:sw=4:sts=4\n",
       " * @license RequireJS 2.3.6 Copyright jQuery Foundation and other contributors.\n",
       " * Released under MIT license, https://github.com/requirejs/requirejs/blob/master/LICENSE\n",
       " */\n",
       "var requirejs,require,define;!function(global,setTimeout){var req,s,head,baseElement,dataMain,src,interactiveScript,currentlyAddingScript,mainScript,subPath,version=\"2.3.6\",commentRegExp=/\\/\\*[\\s\\S]*?\\*\\/|([^:\"'=]|^)\\/\\/.*$/gm,cjsRequireRegExp=/[^.]\\s*require\\s*\\(\\s*[\"']([^'\"\\s]+)[\"']\\s*\\)/g,jsSuffixRegExp=/\\.js$/,currDirRegExp=/^\\.\\//,op=Object.prototype,ostring=op.toString,hasOwn=op.hasOwnProperty,isBrowser=!(\"undefined\"==typeof window||\"undefined\"==typeof navigator||!window.document),isWebWorker=!isBrowser&&\"undefined\"!=typeof importScripts,readyRegExp=isBrowser&&\"PLAYSTATION 3\"===navigator.platform?/^complete$/:/^(complete|loaded)$/,defContextName=\"_\",isOpera=\"undefined\"!=typeof opera&&\"[object Opera]\"===opera.toString(),contexts={},cfg={},globalDefQueue=[],useInteractive=!1;function commentReplace(e,t){return t||\"\"}function isFunction(e){return\"[object Function]\"===ostring.call(e)}function isArray(e){return\"[object Array]\"===ostring.call(e)}function each(e,t){var i;if(e)for(i=0;i<e.length&&(!e[i]||!t(e[i],i,e));i+=1);}function eachReverse(e,t){var i;if(e)for(i=e.length-1;-1<i&&(!e[i]||!t(e[i],i,e));i-=1);}function hasProp(e,t){return hasOwn.call(e,t)}function getOwn(e,t){return hasProp(e,t)&&e[t]}function eachProp(e,t){var i;for(i in e)if(hasProp(e,i)&&t(e[i],i))break}function mixin(i,e,r,n){return e&&eachProp(e,function(e,t){!r&&hasProp(i,t)||(!n||\"object\"!=typeof e||!e||isArray(e)||isFunction(e)||e instanceof RegExp?i[t]=e:(i[t]||(i[t]={}),mixin(i[t],e,r,n)))}),i}function bind(e,t){return function(){return t.apply(e,arguments)}}function scripts(){return document.getElementsByTagName(\"script\")}function defaultOnError(e){throw e}function getGlobal(e){if(!e)return e;var t=global;return each(e.split(\".\"),function(e){t=t[e]}),t}function makeError(e,t,i,r){var n=new Error(t+\"\\nhttps://requirejs.org/docs/errors.html#\"+e);return n.requireType=e,n.requireModules=r,i&&(n.originalError=i),n}if(void 0===define){if(void 0!==requirejs){if(isFunction(requirejs))return;cfg=requirejs,requirejs=void 0}void 0===require||isFunction(require)||(cfg=require,require=void 0),req=requirejs=function(e,t,i,r){var n,o,a=defContextName;return isArray(e)||\"string\"==typeof e||(o=e,isArray(t)?(e=t,t=i,i=r):e=[]),o&&o.context&&(a=o.context),(n=getOwn(contexts,a))||(n=contexts[a]=req.s.newContext(a)),o&&n.configure(o),n.require(e,t,i)},req.config=function(e){return req(e)},req.nextTick=void 0!==setTimeout?function(e){setTimeout(e,4)}:function(e){e()},require||(require=req),req.version=version,req.jsExtRegExp=/^\\/|:|\\?|\\.js$/,req.isBrowser=isBrowser,s=req.s={contexts:contexts,newContext:newContext},req({}),each([\"toUrl\",\"undef\",\"defined\",\"specified\"],function(t){req[t]=function(){var e=contexts[defContextName];return e.require[t].apply(e,arguments)}}),isBrowser&&(head=s.head=document.getElementsByTagName(\"head\")[0],baseElement=document.getElementsByTagName(\"base\")[0],baseElement&&(head=s.head=baseElement.parentNode)),req.onError=defaultOnError,req.createNode=function(e,t,i){var r=e.xhtml?document.createElementNS(\"http://www.w3.org/1999/xhtml\",\"html:script\"):document.createElement(\"script\");return r.type=e.scriptType||\"text/javascript\",r.charset=\"utf-8\",r.async=!0,r},req.load=function(t,i,r){var e,n=t&&t.config||{};if(isBrowser)return(e=req.createNode(n,i,r)).setAttribute(\"data-requirecontext\",t.contextName),e.setAttribute(\"data-requiremodule\",i),!e.attachEvent||e.attachEvent.toString&&e.attachEvent.toString().indexOf(\"[native code\")<0||isOpera?(e.addEventListener(\"load\",t.onScriptLoad,!1),e.addEventListener(\"error\",t.onScriptError,!1)):(useInteractive=!0,e.attachEvent(\"onreadystatechange\",t.onScriptLoad)),e.src=r,n.onNodeCreated&&n.onNodeCreated(e,n,i,r),currentlyAddingScript=e,baseElement?head.insertBefore(e,baseElement):head.appendChild(e),currentlyAddingScript=null,e;if(isWebWorker)try{setTimeout(function(){},0),importScripts(r),t.completeLoad(i)}catch(e){t.onError(makeError(\"importscripts\",\"importScripts failed for \"+i+\" at \"+r,e,[i]))}},isBrowser&&!cfg.skipDataMain&&eachReverse(scripts(),function(e){if(head||(head=e.parentNode),dataMain=e.getAttribute(\"data-main\"))return mainScript=dataMain,cfg.baseUrl||-1!==mainScript.indexOf(\"!\")||(mainScript=(src=mainScript.split(\"/\")).pop(),subPath=src.length?src.join(\"/\")+\"/\":\"./\",cfg.baseUrl=subPath),mainScript=mainScript.replace(jsSuffixRegExp,\"\"),req.jsExtRegExp.test(mainScript)&&(mainScript=dataMain),cfg.deps=cfg.deps?cfg.deps.concat(mainScript):[mainScript],!0}),define=function(e,i,t){var r,n;\"string\"!=typeof e&&(t=i,i=e,e=null),isArray(i)||(t=i,i=null),!i&&isFunction(t)&&(i=[],t.length&&(t.toString().replace(commentRegExp,commentReplace).replace(cjsRequireRegExp,function(e,t){i.push(t)}),i=(1===t.length?[\"require\"]:[\"require\",\"exports\",\"module\"]).concat(i))),useInteractive&&(r=currentlyAddingScript||getInteractiveScript())&&(e||(e=r.getAttribute(\"data-requiremodule\")),n=contexts[r.getAttribute(\"data-requirecontext\")]),n?(n.defQueue.push([e,i,t]),n.defQueueMap[e]=!0):globalDefQueue.push([e,i,t])},define.amd={jQuery:!0},req.exec=function(text){return eval(text)},req(cfg)}function newContext(u){var i,e,l,c,d,g={waitSeconds:7,baseUrl:\"./\",paths:{},bundles:{},pkgs:{},shim:{},config:{}},p={},f={},r={},h=[],m={},n={},v={},x=1,b=1;function q(e,t,i){var r,n,o,a,s,u,c,d,p,f,l=t&&t.split(\"/\"),h=g.map,m=h&&h[\"*\"];if(e&&(u=(e=e.split(\"/\")).length-1,g.nodeIdCompat&&jsSuffixRegExp.test(e[u])&&(e[u]=e[u].replace(jsSuffixRegExp,\"\")),\".\"===e[0].charAt(0)&&l&&(e=l.slice(0,l.length-1).concat(e)),function(e){var t,i;for(t=0;t<e.length;t++)if(\".\"===(i=e[t]))e.splice(t,1),t-=1;else if(\"..\"===i){if(0===t||1===t&&\"..\"===e[2]||\"..\"===e[t-1])continue;0<t&&(e.splice(t-1,2),t-=2)}}(e),e=e.join(\"/\")),i&&h&&(l||m)){e:for(o=(n=e.split(\"/\")).length;0<o;o-=1){if(s=n.slice(0,o).join(\"/\"),l)for(a=l.length;0<a;a-=1)if((r=getOwn(h,l.slice(0,a).join(\"/\")))&&(r=getOwn(r,s))){c=r,d=o;break e}!p&&m&&getOwn(m,s)&&(p=getOwn(m,s),f=o)}!c&&p&&(c=p,d=f),c&&(n.splice(0,d,c),e=n.join(\"/\"))}return getOwn(g.pkgs,e)||e}function E(t){isBrowser&&each(scripts(),function(e){if(e.getAttribute(\"data-requiremodule\")===t&&e.getAttribute(\"data-requirecontext\")===l.contextName)return e.parentNode.removeChild(e),!0})}function w(e){var t=getOwn(g.paths,e);if(t&&isArray(t)&&1<t.length)return t.shift(),l.require.undef(e),l.makeRequire(null,{skipMap:!0})([e]),!0}function y(e){var t,i=e?e.indexOf(\"!\"):-1;return-1<i&&(t=e.substring(0,i),e=e.substring(i+1,e.length)),[t,e]}function S(e,t,i,r){var n,o,a,s,u=null,c=t?t.name:null,d=e,p=!0,f=\"\";return e||(p=!1,e=\"_@r\"+(x+=1)),u=(s=y(e))[0],e=s[1],u&&(u=q(u,c,r),o=getOwn(m,u)),e&&(u?f=i?e:o&&o.normalize?o.normalize(e,function(e){return q(e,c,r)}):-1===e.indexOf(\"!\")?q(e,c,r):e:(u=(s=y(f=q(e,c,r)))[0],f=s[1],i=!0,n=l.nameToUrl(f))),{prefix:u,name:f,parentMap:t,unnormalized:!!(a=!u||o||i?\"\":\"_unnormalized\"+(b+=1)),url:n,originalName:d,isDefine:p,id:(u?u+\"!\"+f:f)+a}}function k(e){var t=e.id,i=getOwn(p,t);return i||(i=p[t]=new l.Module(e)),i}function M(e,t,i){var r=e.id,n=getOwn(p,r);!hasProp(m,r)||n&&!n.defineEmitComplete?(n=k(e)).error&&\"error\"===t?i(n.error):n.on(t,i):\"defined\"===t&&i(m[r])}function O(i,e){var t=i.requireModules,r=!1;e?e(i):(each(t,function(e){var t=getOwn(p,e);t&&(t.error=i,t.events.error&&(r=!0,t.emit(\"error\",i)))}),r||req.onError(i))}function j(){globalDefQueue.length&&(each(globalDefQueue,function(e){var t=e[0];\"string\"==typeof t&&(l.defQueueMap[t]=!0),h.push(e)}),globalDefQueue=[])}function P(e){delete p[e],delete f[e]}function R(){var e,r,t=1e3*g.waitSeconds,n=t&&l.startTime+t<(new Date).getTime(),o=[],a=[],s=!1,u=!0;if(!i){if(i=!0,eachProp(f,function(e){var t=e.map,i=t.id;if(e.enabled&&(t.isDefine||a.push(e),!e.error))if(!e.inited&&n)w(i)?s=r=!0:(o.push(i),E(i));else if(!e.inited&&e.fetched&&t.isDefine&&(s=!0,!t.prefix))return u=!1}),n&&o.length)return(e=makeError(\"timeout\",\"Load timeout for modules: \"+o,null,o)).contextName=l.contextName,O(e);u&&each(a,function(e){!function n(o,a,s){var e=o.map.id;o.error?o.emit(\"error\",o.error):(a[e]=!0,each(o.depMaps,function(e,t){var i=e.id,r=getOwn(p,i);!r||o.depMatched[t]||s[i]||(getOwn(a,i)?(o.defineDep(t,m[i]),o.check()):n(r,a,s))}),s[e]=!0)}(e,{},{})}),n&&!r||!s||!isBrowser&&!isWebWorker||d||(d=setTimeout(function(){d=0,R()},50)),i=!1}}function a(e){hasProp(m,e[0])||k(S(e[0],null,!0)).init(e[1],e[2])}function o(e,t,i,r){e.detachEvent&&!isOpera?r&&e.detachEvent(r,t):e.removeEventListener(i,t,!1)}function s(e){var t=e.currentTarget||e.srcElement;return o(t,l.onScriptLoad,\"load\",\"onreadystatechange\"),o(t,l.onScriptError,\"error\"),{node:t,id:t&&t.getAttribute(\"data-requiremodule\")}}function T(){var e;for(j();h.length;){if(null===(e=h.shift())[0])return O(makeError(\"mismatch\",\"Mismatched anonymous define() module: \"+e[e.length-1]));a(e)}l.defQueueMap={}}return c={require:function(e){return e.require?e.require:e.require=l.makeRequire(e.map)},exports:function(e){if(e.usingExports=!0,e.map.isDefine)return e.exports?m[e.map.id]=e.exports:e.exports=m[e.map.id]={}},module:function(e){return e.module?e.module:e.module={id:e.map.id,uri:e.map.url,config:function(){return getOwn(g.config,e.map.id)||{}},exports:e.exports||(e.exports={})}}},(e=function(e){this.events=getOwn(r,e.id)||{},this.map=e,this.shim=getOwn(g.shim,e.id),this.depExports=[],this.depMaps=[],this.depMatched=[],this.pluginMaps={},this.depCount=0}).prototype={init:function(e,t,i,r){r=r||{},this.inited||(this.factory=t,i?this.on(\"error\",i):this.events.error&&(i=bind(this,function(e){this.emit(\"error\",e)})),this.depMaps=e&&e.slice(0),this.errback=i,this.inited=!0,this.ignore=r.ignore,r.enabled||this.enabled?this.enable():this.check())},defineDep:function(e,t){this.depMatched[e]||(this.depMatched[e]=!0,this.depCount-=1,this.depExports[e]=t)},fetch:function(){if(!this.fetched){this.fetched=!0,l.startTime=(new Date).getTime();var e=this.map;if(!this.shim)return e.prefix?this.callPlugin():this.load();l.makeRequire(this.map,{enableBuildCallback:!0})(this.shim.deps||[],bind(this,function(){return e.prefix?this.callPlugin():this.load()}))}},load:function(){var e=this.map.url;n[e]||(n[e]=!0,l.load(this.map.id,e))},check:function(){if(this.enabled&&!this.enabling){var t,e,i=this.map.id,r=this.depExports,n=this.exports,o=this.factory;if(this.inited){if(this.error)this.emit(\"error\",this.error);else if(!this.defining){if(this.defining=!0,this.depCount<1&&!this.defined){if(isFunction(o)){if(this.events.error&&this.map.isDefine||req.onError!==defaultOnError)try{n=l.execCb(i,o,r,n)}catch(e){t=e}else n=l.execCb(i,o,r,n);if(this.map.isDefine&&void 0===n&&((e=this.module)?n=e.exports:this.usingExports&&(n=this.exports)),t)return t.requireMap=this.map,t.requireModules=this.map.isDefine?[this.map.id]:null,t.requireType=this.map.isDefine?\"define\":\"require\",O(this.error=t)}else n=o;if(this.exports=n,this.map.isDefine&&!this.ignore&&(m[i]=n,req.onResourceLoad)){var a=[];each(this.depMaps,function(e){a.push(e.normalizedMap||e)}),req.onResourceLoad(l,this.map,a)}P(i),this.defined=!0}this.defining=!1,this.defined&&!this.defineEmitted&&(this.defineEmitted=!0,this.emit(\"defined\",this.exports),this.defineEmitComplete=!0)}}else hasProp(l.defQueueMap,i)||this.fetch()}},callPlugin:function(){var u=this.map,c=u.id,e=S(u.prefix);this.depMaps.push(e),M(e,\"defined\",bind(this,function(e){var o,t,i,r=getOwn(v,this.map.id),n=this.map.name,a=this.map.parentMap?this.map.parentMap.name:null,s=l.makeRequire(u.parentMap,{enableBuildCallback:!0});return this.map.unnormalized?(e.normalize&&(n=e.normalize(n,function(e){return q(e,a,!0)})||\"\"),M(t=S(u.prefix+\"!\"+n,this.map.parentMap,!0),\"defined\",bind(this,function(e){this.map.normalizedMap=t,this.init([],function(){return e},null,{enabled:!0,ignore:!0})})),void((i=getOwn(p,t.id))&&(this.depMaps.push(t),this.events.error&&i.on(\"error\",bind(this,function(e){this.emit(\"error\",e)})),i.enable()))):r?(this.map.url=l.nameToUrl(r),void this.load()):((o=bind(this,function(e){this.init([],function(){return e},null,{enabled:!0})})).error=bind(this,function(e){this.inited=!0,(this.error=e).requireModules=[c],eachProp(p,function(e){0===e.map.id.indexOf(c+\"_unnormalized\")&&P(e.map.id)}),O(e)}),o.fromText=bind(this,function(e,t){var i=u.name,r=S(i),n=useInteractive;t&&(e=t),n&&(useInteractive=!1),k(r),hasProp(g.config,c)&&(g.config[i]=g.config[c]);try{req.exec(e)}catch(e){return O(makeError(\"fromtexteval\",\"fromText eval for \"+c+\" failed: \"+e,e,[c]))}n&&(useInteractive=!0),this.depMaps.push(r),l.completeLoad(i),s([i],o)}),void e.load(u.name,s,o,g))})),l.enable(e,this),this.pluginMaps[e.id]=e},enable:function(){(f[this.map.id]=this).enabled=!0,this.enabling=!0,each(this.depMaps,bind(this,function(e,t){var i,r,n;if(\"string\"==typeof e){if(e=S(e,this.map.isDefine?this.map:this.map.parentMap,!1,!this.skipMap),this.depMaps[t]=e,n=getOwn(c,e.id))return void(this.depExports[t]=n(this));this.depCount+=1,M(e,\"defined\",bind(this,function(e){this.undefed||(this.defineDep(t,e),this.check())})),this.errback?M(e,\"error\",bind(this,this.errback)):this.events.error&&M(e,\"error\",bind(this,function(e){this.emit(\"error\",e)}))}i=e.id,r=p[i],hasProp(c,i)||!r||r.enabled||l.enable(e,this)})),eachProp(this.pluginMaps,bind(this,function(e){var t=getOwn(p,e.id);t&&!t.enabled&&l.enable(e,this)})),this.enabling=!1,this.check()},on:function(e,t){var i=this.events[e];i||(i=this.events[e]=[]),i.push(t)},emit:function(e,t){each(this.events[e],function(e){e(t)}),\"error\"===e&&delete this.events[e]}},(l={config:g,contextName:u,registry:p,defined:m,urlFetched:n,defQueue:h,defQueueMap:{},Module:e,makeModuleMap:S,nextTick:req.nextTick,onError:O,configure:function(e){if(e.baseUrl&&\"/\"!==e.baseUrl.charAt(e.baseUrl.length-1)&&(e.baseUrl+=\"/\"),\"string\"==typeof e.urlArgs){var i=e.urlArgs;e.urlArgs=function(e,t){return(-1===t.indexOf(\"?\")?\"?\":\"&\")+i}}var r=g.shim,n={paths:!0,bundles:!0,config:!0,map:!0};eachProp(e,function(e,t){n[t]?(g[t]||(g[t]={}),mixin(g[t],e,!0,!0)):g[t]=e}),e.bundles&&eachProp(e.bundles,function(e,t){each(e,function(e){e!==t&&(v[e]=t)})}),e.shim&&(eachProp(e.shim,function(e,t){isArray(e)&&(e={deps:e}),!e.exports&&!e.init||e.exportsFn||(e.exportsFn=l.makeShimExports(e)),r[t]=e}),g.shim=r),e.packages&&each(e.packages,function(e){var t;t=(e=\"string\"==typeof e?{name:e}:e).name,e.location&&(g.paths[t]=e.location),g.pkgs[t]=e.name+\"/\"+(e.main||\"main\").replace(currDirRegExp,\"\").replace(jsSuffixRegExp,\"\")}),eachProp(p,function(e,t){e.inited||e.map.unnormalized||(e.map=S(t,null,!0))}),(e.deps||e.callback)&&l.require(e.deps||[],e.callback)},makeShimExports:function(t){return function(){var e;return t.init&&(e=t.init.apply(global,arguments)),e||t.exports&&getGlobal(t.exports)}},makeRequire:function(o,a){function s(e,t,i){var r,n;return a.enableBuildCallback&&t&&isFunction(t)&&(t.__requireJsBuild=!0),\"string\"==typeof e?isFunction(t)?O(makeError(\"requireargs\",\"Invalid require call\"),i):o&&hasProp(c,e)?c[e](p[o.id]):req.get?req.get(l,e,o,s):(r=S(e,o,!1,!0).id,hasProp(m,r)?m[r]:O(makeError(\"notloaded\",'Module name \"'+r+'\" has not been loaded yet for context: '+u+(o?\"\":\". Use require([])\")))):(T(),l.nextTick(function(){T(),(n=k(S(null,o))).skipMap=a.skipMap,n.init(e,t,i,{enabled:!0}),R()}),s)}return a=a||{},mixin(s,{isBrowser:isBrowser,toUrl:function(e){var t,i=e.lastIndexOf(\".\"),r=e.split(\"/\")[0];return-1!==i&&(!(\".\"===r||\"..\"===r)||1<i)&&(t=e.substring(i,e.length),e=e.substring(0,i)),l.nameToUrl(q(e,o&&o.id,!0),t,!0)},defined:function(e){return hasProp(m,S(e,o,!1,!0).id)},specified:function(e){return e=S(e,o,!1,!0).id,hasProp(m,e)||hasProp(p,e)}}),o||(s.undef=function(i){j();var e=S(i,o,!0),t=getOwn(p,i);t.undefed=!0,E(i),delete m[i],delete n[e.url],delete r[i],eachReverse(h,function(e,t){e[0]===i&&h.splice(t,1)}),delete l.defQueueMap[i],t&&(t.events.defined&&(r[i]=t.events),P(i))}),s},enable:function(e){getOwn(p,e.id)&&k(e).enable()},completeLoad:function(e){var t,i,r,n=getOwn(g.shim,e)||{},o=n.exports;for(j();h.length;){if(null===(i=h.shift())[0]){if(i[0]=e,t)break;t=!0}else i[0]===e&&(t=!0);a(i)}if(l.defQueueMap={},r=getOwn(p,e),!t&&!hasProp(m,e)&&r&&!r.inited){if(!(!g.enforceDefine||o&&getGlobal(o)))return w(e)?void 0:O(makeError(\"nodefine\",\"No define call for \"+e,null,[e]));a([e,n.deps||[],n.exportsFn])}R()},nameToUrl:function(e,t,i){var r,n,o,a,s,u,c=getOwn(g.pkgs,e);if(c&&(e=c),u=getOwn(v,e))return l.nameToUrl(u,t,i);if(req.jsExtRegExp.test(e))a=e+(t||\"\");else{for(r=g.paths,o=(n=e.split(\"/\")).length;0<o;o-=1)if(s=getOwn(r,n.slice(0,o).join(\"/\"))){isArray(s)&&(s=s[0]),n.splice(0,o,s);break}a=n.join(\"/\"),a=(\"/\"===(a+=t||(/^data\\:|^blob\\:|\\?/.test(a)||i?\"\":\".js\")).charAt(0)||a.match(/^[\\w\\+\\.\\-]+:/)?\"\":g.baseUrl)+a}return g.urlArgs&&!/^blob\\:/.test(a)?a+g.urlArgs(e,a):a},load:function(e,t){req.load(l,e,t)},execCb:function(e,t,i,r){return t.apply(r,i)},onScriptLoad:function(e){if(\"load\"===e.type||readyRegExp.test((e.currentTarget||e.srcElement).readyState)){interactiveScript=null;var t=s(e);l.completeLoad(t.id)}},onScriptError:function(e){var i=s(e);if(!w(i.id)){var r=[];return eachProp(p,function(e,t){0!==t.indexOf(\"_@r\")&&each(e.depMaps,function(e){if(e.id===i.id)return r.push(t),!0})}),O(makeError(\"scripterror\",'Script error for \"'+i.id+(r.length?'\", needed by: '+r.join(\", \"):'\"'),e,[i.id]))}}}).require=l.makeRequire(),l}function getInteractiveScript(){return interactiveScript&&\"interactive\"===interactiveScript.readyState||eachReverse(scripts(),function(e){if(\"interactive\"===e.readyState)return interactiveScript=e}),interactiveScript}}(this,\"undefined\"==typeof setTimeout?void 0:setTimeout); </script>\n",
       "<script>\n",
       " require.config({\n",
       "   paths: {\n",
       "     'plotly': \"https://cdn.plot.ly/plotly-latest.min\",\n",
       "     'macy': \"https://cdn.jsdelivr.net/npm/macy@2.5.1/dist/macy.min\"\n",
       "   },\n",
       " })\n",
       "require( ['plotly', 'macy'], function(Plotly, Macy) {\n",
       " window.Plotly = Plotly;\n",
       " window.Macy = Macy;\n",
       "})\n",
       "</script>\n"
      ]
     },
     "metadata": {},
     "output_type": "display_data"
    },
    {
     "data": {
      "text/plain": [
       "\u001b[32mimport \u001b[39m\u001b[36morg.carbonateresearch. picta.charts.Html.initNotebook // required to initialize jupyter notebook mode\n",
       "\u001b[39m"
      ]
     },
     "execution_count": 3,
     "metadata": {},
     "output_type": "execute_result"
    }
   ],
   "source": [
    "import org.carbonateresearch. picta.charts.Html.initNotebook // required to initialize jupyter notebook mode\n",
    "initNotebook() // stops ugly output"
   ]
  },
  {
   "cell_type": "markdown",
   "metadata": {},
   "source": [
    "# 1. Basics\n",
    "\n",
    "The aim of the Picta library is to be a highly configurable and composable charting library for data exploration. The library takes a grammatical approach to chart construction. \n",
    "\n",
    "The following examples are aimed at demonstrating the libraries capabilities, and eventually make constructing charts using this library easy and intuitive."
   ]
  },
  {
   "cell_type": "markdown",
   "metadata": {},
   "source": [
    "### Main Components\n",
    "\n",
    "Picta graphs are constructed in a modular manner. The main components are:\n",
    "\n",
    "1. `Canvas`: This is is the top-level component for representing the display. A `Canvas` may consist of multiple charts.\n",
    "\n",
    "\n",
    "2. `Chart`: This is the component that corresponds to an actual chart (i.e. scatter, pie etc).\n",
    "\n",
    "\n",
    "3. `Series`: This is the data series that is plotted on a `Chart`. `Series` come in 3 types:\n",
    "\n",
    "    - `XY`:   This is series data for constructing a 2D chart\n",
    "    - `XYZ`:  This is series data for constructing a 3D chart\n",
    "    - `Map`:  This is series data that constructs a Map chart\n",
    "    \n",
    "\n",
    "4. `Layout`: This configures various parts of how the `Chart` is represented on screen.\n",
    "\n",
    "`Chart` may occassionally also make use of the `Config` component for further configuration. `Config` specifies whether the plot is responsive.\n",
    "\n",
    "The following examples in this notebook should provide a number of interactive examples to get used to the Picta library."
   ]
  },
  {
   "cell_type": "markdown",
   "metadata": {},
   "source": [
    "### Importing the Library\n",
    "\n",
    "Importing as below should bring in the most frequently used Components in the library."
   ]
  },
  {
   "cell_type": "code",
   "execution_count": 4,
   "metadata": {},
   "outputs": [],
   "source": [
    "import org.carbonateresearch.picta._"
   ]
  },
  {
   "cell_type": "markdown",
   "metadata": {},
   "source": [
    "### Create Some Dummy Data to Use in the Examples\n",
    "\n",
    "Here we create some dummy data to be used in the examples for this notebook."
   ]
  },
  {
   "cell_type": "code",
   "execution_count": 5,
   "metadata": {},
   "outputs": [],
   "source": [
    "val x = List.range(0, 100).map(x => scala.util.Random.nextDouble() * 50)\n",
    "val y = List.range(0, 100).map(x => scala.util.Random.nextDouble() * 50)\n",
    "val z = List.range(0, 100).map(x => scala.util.Random.nextDouble() * 50)"
   ]
  },
  {
   "cell_type": "markdown",
   "metadata": {},
   "source": [
    "### 2D Plots\n",
    "\n",
    "`Series` that represent 2D data are represented by `XY` series types.\n",
    "\n",
    "\n",
    "#### Scatter Plot\n",
    "\n",
    "An example `Scatter` plot is below. \n",
    "\n",
    "Note: This is just one way to call the library functions. Another way that uses function chaining will be shown immediately after this example."
   ]
  },
  {
   "cell_type": "code",
   "execution_count": 6,
   "metadata": {},
   "outputs": [
    {
     "data": {
      "text/html": [
       "<div id=\"grid_xDKSz3BjFQ\" align=\"center\"> \n",
       "<div id='graph_oOIKhnYwHf' class='graph'></div> \n",
       "</div> \n",
       "<script>\n",
       "var masonry = new Macy({\n",
       "    container: '#grid_xDKSz3BjFQ',\n",
       "    debug: true,\n",
       "    mobileFirst: true,\n",
       "    columns: 1,\n",
       "  });\n",
       "\n",
       " var traces_oOIKhnYwHf = [{\"name\":\"PViFOIo5si\",\"type\":\"scatter\",\"mode\":\"markers\",\"x\":[8.390598895990342,18.920915037116448,25.11210366149747,29.845764585195166,36.770848980790305,18.12518603432628,42.742385421376916,31.259186357610965,21.746393657707408,34.53726775850667,15.980050171805631,16.18004051500038,6.872716175942778,24.28167658371913,38.500981831016034,4.518787006234892,6.961407811872217,26.06455908470085,15.19281035501105,16.479234140820132,23.192859210649036,33.377167419711675,6.263612304639038,19.140902734216276,6.982166963781039,44.014311641637086,15.816889481982994,25.616542524526782,36.64397362619223,18.739185309769578,5.466811090334844,26.589807196424253,37.161711550216985,13.201284985477102,27.483829153993817,20.219708431216194,47.43900812892376,49.80208856964882,18.68918480001282,37.892630260664305,21.29575704626174,19.103502931316065,25.85791380493844,40.109321856041824,38.16863994245904,43.58702489475207,45.74344967842783,28.913410163758215,46.98563218993759,0.0969085431887784,8.00292176097206,40.699647579691764,22.006317508382057,31.138558383709746,7.280795333004425,45.98421045651048,22.554564619377164,29.353726168504497,1.4994910438875408,40.77604290851667,19.517429592475636,3.9570184083597084,37.009139988507705,17.55735108554017,30.243870092437785,32.69356836305539,37.664659860006005,2.5630157854780453,40.049158549642655,17.965646267364267,4.1268395366404365,40.04281581220873,32.91561803621916,1.1763771480146956,11.725136687211856,43.49700493678898,6.177592823283246,45.05158519958699,20.073418797375385,18.494915491474234,3.9883210282334822,19.726238562656683,15.29587443053777,41.61792739753959,22.18864041354513,24.719791557113137,46.19887049829606,5.312240726167294,12.83222728968037,45.5751558563951,39.0154979709956,8.993568003127727,0.06933440896036425,30.8989220272618,31.45311013279327,42.614993477802855,10.350764165104586,32.8158132058208,5.690157715413485,20.090863267838593],\"y\":[18.986060767485586,31.43826464518988,21.697119909932937,26.463750893461736,21.974702355663283,11.852429828967193,6.797377470955757,44.50815088463268,6.726298323872126,30.33476140838451,44.73737330960367,23.58371032419192,17.795607134203216,45.038738245129444,27.70142939147951,45.982441365304965,44.08041722813128,45.22920774350824,37.685079788753015,33.7585034396631,42.06512656533599,42.29215712267283,9.431842689894697,22.085780447371643,5.640105302924431,35.21067700942275,45.7418206632245,3.5576213364730433,46.78669599722792,32.97322636329769,7.376565825165615,21.524754689027887,12.989981563159404,6.468225112004045,34.013147375971606,9.56151954585876,36.62620177024099,2.8193662970287914,19.74137879983655,38.45721372141034,38.76896303286148,35.82896476529707,16.451687471657877,41.74847203283007,44.86818601684461,17.222013362706367,21.127094275700326,45.740267167443356,12.577939259723047,14.721538770119713,18.531334331296804,30.207224838556257,22.644143321044393,14.636209421936769,49.076117693931174,41.523615912928484,42.21033295585834,28.604079236960946,2.7540767902823227,20.8395188305524,36.159474347941256,16.411692238402708,3.9399434777907363,46.10228058203365,26.182085891476902,49.39570782878612,48.591035380237926,18.216549721360366,29.14565652489283,11.834567623252212,34.91911838868069,48.44280217653176,46.03766001840226,30.95063303068467,40.9592587103321,26.25341060588425,20.264200237651757,39.66860295535666,47.62726513239887,14.296953516558197,39.408591087504355,10.11391479566337,33.83585976700405,29.865599706707325,17.688953230655997,49.98522742003447,31.030716285352987,30.31704724557891,17.301171698455946,28.3979603966303,18.111032609231266,23.27163745996324,45.593302675865324,42.5712842629662,14.1153102868665,21.08689058573833,1.5898245152106472,1.8188043250079722,35.28152961081219,3.1058752585595037]}];\n",
       " var layout_oOIKhnYwHf = {\"height\":550,\"width\":600,\"hovermode\":\"closest\",\"title\":{\"text\":\"First Chart\"},\"showlegend\":false};\n",
       " var config_oOIKhnYwHf = {\"responsive\":true,\"scrollZoom\":true,\"displaylogo\":false};\n",
       " Plotly.newPlot(\"graph_oOIKhnYwHf\", traces_oOIKhnYwHf, layout_oOIKhnYwHf, config_oOIKhnYwHf);\n",
       "</script> \n"
      ]
     },
     "metadata": {},
     "output_type": "display_data"
    }
   ],
   "source": [
    "// create the data series using the data from above\n",
    "// 'asType SCATTER' transforms the series into a scatter chart\n",
    "// 'drawSymbol Markers' specifies the type of markers the chart should have\n",
    "val series = XY(x, y) asType SCATTER drawSymbol MARKERS\n",
    "\n",
    "// create a chart by adding to it a data series. We set the title as 'First Chart'\n",
    "val chart = Chart() addSeries series setTitle \"First Chart\"\n",
    "\n",
    "// next we must add the chart to the Canvas. Remember Canvas is what represents the display area \n",
    "// (hence Canvas is like an artist's canvas!)\n",
    "val canvas = Canvas() addCharts chart\n",
    "\n",
    "// our first plot using Picta!\n",
    "canvas.plotInline"
   ]
  },
  {
   "cell_type": "markdown",
   "metadata": {},
   "source": [
    "#### Chaining Functions\n",
    "\n",
    "Sometimes when we are specifying many options, it is quicker to use the IDE autocomplete and just chain the function calls. Throughout this book both the style above and the function chaining style will be used as and when convenient."
   ]
  },
  {
   "cell_type": "code",
   "execution_count": 7,
   "metadata": {},
   "outputs": [
    {
     "data": {
      "text/html": [
       "<div id=\"grid_TfIDdG3izx\" align=\"center\"> \n",
       "<div id='graph_Um4zBw8Ud3' class='graph'></div> \n",
       "</div> \n",
       "<script>\n",
       "var masonry = new Macy({\n",
       "    container: '#grid_TfIDdG3izx',\n",
       "    debug: true,\n",
       "    mobileFirst: true,\n",
       "    columns: 1,\n",
       "  });\n",
       "\n",
       " var traces_Um4zBw8Ud3 = [{\"name\":\"AauFnhgkED\",\"type\":\"scatter\",\"mode\":\"markers\",\"x\":[8.390598895990342,18.920915037116448,25.11210366149747,29.845764585195166,36.770848980790305,18.12518603432628,42.742385421376916,31.259186357610965,21.746393657707408,34.53726775850667,15.980050171805631,16.18004051500038,6.872716175942778,24.28167658371913,38.500981831016034,4.518787006234892,6.961407811872217,26.06455908470085,15.19281035501105,16.479234140820132,23.192859210649036,33.377167419711675,6.263612304639038,19.140902734216276,6.982166963781039,44.014311641637086,15.816889481982994,25.616542524526782,36.64397362619223,18.739185309769578,5.466811090334844,26.589807196424253,37.161711550216985,13.201284985477102,27.483829153993817,20.219708431216194,47.43900812892376,49.80208856964882,18.68918480001282,37.892630260664305,21.29575704626174,19.103502931316065,25.85791380493844,40.109321856041824,38.16863994245904,43.58702489475207,45.74344967842783,28.913410163758215,46.98563218993759,0.0969085431887784,8.00292176097206,40.699647579691764,22.006317508382057,31.138558383709746,7.280795333004425,45.98421045651048,22.554564619377164,29.353726168504497,1.4994910438875408,40.77604290851667,19.517429592475636,3.9570184083597084,37.009139988507705,17.55735108554017,30.243870092437785,32.69356836305539,37.664659860006005,2.5630157854780453,40.049158549642655,17.965646267364267,4.1268395366404365,40.04281581220873,32.91561803621916,1.1763771480146956,11.725136687211856,43.49700493678898,6.177592823283246,45.05158519958699,20.073418797375385,18.494915491474234,3.9883210282334822,19.726238562656683,15.29587443053777,41.61792739753959,22.18864041354513,24.719791557113137,46.19887049829606,5.312240726167294,12.83222728968037,45.5751558563951,39.0154979709956,8.993568003127727,0.06933440896036425,30.8989220272618,31.45311013279327,42.614993477802855,10.350764165104586,32.8158132058208,5.690157715413485,20.090863267838593],\"y\":[18.986060767485586,31.43826464518988,21.697119909932937,26.463750893461736,21.974702355663283,11.852429828967193,6.797377470955757,44.50815088463268,6.726298323872126,30.33476140838451,44.73737330960367,23.58371032419192,17.795607134203216,45.038738245129444,27.70142939147951,45.982441365304965,44.08041722813128,45.22920774350824,37.685079788753015,33.7585034396631,42.06512656533599,42.29215712267283,9.431842689894697,22.085780447371643,5.640105302924431,35.21067700942275,45.7418206632245,3.5576213364730433,46.78669599722792,32.97322636329769,7.376565825165615,21.524754689027887,12.989981563159404,6.468225112004045,34.013147375971606,9.56151954585876,36.62620177024099,2.8193662970287914,19.74137879983655,38.45721372141034,38.76896303286148,35.82896476529707,16.451687471657877,41.74847203283007,44.86818601684461,17.222013362706367,21.127094275700326,45.740267167443356,12.577939259723047,14.721538770119713,18.531334331296804,30.207224838556257,22.644143321044393,14.636209421936769,49.076117693931174,41.523615912928484,42.21033295585834,28.604079236960946,2.7540767902823227,20.8395188305524,36.159474347941256,16.411692238402708,3.9399434777907363,46.10228058203365,26.182085891476902,49.39570782878612,48.591035380237926,18.216549721360366,29.14565652489283,11.834567623252212,34.91911838868069,48.44280217653176,46.03766001840226,30.95063303068467,40.9592587103321,26.25341060588425,20.264200237651757,39.66860295535666,47.62726513239887,14.296953516558197,39.408591087504355,10.11391479566337,33.83585976700405,29.865599706707325,17.688953230655997,49.98522742003447,31.030716285352987,30.31704724557891,17.301171698455946,28.3979603966303,18.111032609231266,23.27163745996324,45.593302675865324,42.5712842629662,14.1153102868665,21.08689058573833,1.5898245152106472,1.8188043250079722,35.28152961081219,3.1058752585595037]}];\n",
       " var layout_Um4zBw8Ud3 = {\"height\":550,\"width\":600,\"hovermode\":\"closest\",\"title\":{\"text\":\"First Chart - Function Chaining\"},\"showlegend\":false};\n",
       " var config_Um4zBw8Ud3 = {\"responsive\":true,\"scrollZoom\":true,\"displaylogo\":false};\n",
       " Plotly.newPlot(\"graph_Um4zBw8Ud3\", traces_Um4zBw8Ud3, layout_Um4zBw8Ud3, config_Um4zBw8Ud3);\n",
       "</script> \n"
      ]
     },
     "metadata": {},
     "output_type": "display_data"
    }
   ],
   "source": [
    "// sometimes we may specify many options. In such cases it is clearer to use function chaining as below:\n",
    "val series = XY(x, y)\n",
    "            .asType(SCATTER)\n",
    "            .drawMarkers  // This is to help leverage the IDE autocompletion too for quick scripting\n",
    "\n",
    "val chart = Chart()\n",
    "            .addSeries(series)\n",
    "            .setTitle(\"First Chart - Function Chaining\")\n",
    "\n",
    "Canvas().addCharts(chart).plotInline"
   ]
  },
  {
   "cell_type": "markdown",
   "metadata": {},
   "source": [
    "#### Bar Chart\n",
    "\n",
    "Now using the same principles as above, let's create a `Bar` chart:"
   ]
  },
  {
   "cell_type": "code",
   "execution_count": 8,
   "metadata": {},
   "outputs": [
    {
     "data": {
      "text/html": [
       "<div id=\"grid_oiXvcKrY9g\" align=\"center\"> \n",
       "<div id='graph_CpbYzrZf1k' class='graph'></div> \n",
       "</div> \n",
       "<script>\n",
       "var masonry = new Macy({\n",
       "    container: '#grid_oiXvcKrY9g',\n",
       "    debug: true,\n",
       "    mobileFirst: true,\n",
       "    columns: 1,\n",
       "  });\n",
       "\n",
       " var traces_CpbYzrZf1k = [{\"name\":\"C9jPqK3Ogo\",\"type\":\"bar\",\"x\":[\"a\",\"b\",\"c\"],\"y\":[10,20,300]}];\n",
       " var layout_CpbYzrZf1k = {\"height\":550,\"width\":600,\"hovermode\":\"closest\",\"title\":{\"text\":\"Bar Chart\"},\"showlegend\":false};\n",
       " var config_CpbYzrZf1k = {\"responsive\":true,\"scrollZoom\":true,\"displaylogo\":false};\n",
       " Plotly.newPlot(\"graph_CpbYzrZf1k\", traces_CpbYzrZf1k, layout_CpbYzrZf1k, config_CpbYzrZf1k);\n",
       "</script> \n"
      ]
     },
     "metadata": {},
     "output_type": "display_data"
    }
   ],
   "source": [
    "// First we create some data for the piechart\n",
    "val x_pie = List(\"a\", \"b\", \"c\")\n",
    "val y_pie = List(10, 20, 300)\n",
    "\n",
    "// again feed in the data that we want to represent as a Bar chart.\n",
    "// Notice how we change 'asType SCATTER' to 'asType BAR'\n",
    "val series = XY(x_pie, y_pie) asType BAR\n",
    "\n",
    "val chart = Chart() addSeries series setTitle \"Bar Chart\" \n",
    "\n",
    "val canvas = Canvas() addCharts chart\n",
    "\n",
    "canvas.plotInline"
   ]
  },
  {
   "cell_type": "markdown",
   "metadata": {},
   "source": [
    "#### Adding Multiple Series on the Same Axis\n",
    "\n",
    "Sometimes we may want to plot multiple `Series` on the same axis to compare different data series.\n",
    "\n",
    "Let's plot both of the above on the same pair of axis:"
   ]
  },
  {
   "cell_type": "code",
   "execution_count": 9,
   "metadata": {},
   "outputs": [],
   "source": [
    "// we import the marker option\n",
    "import org.carbonateresearch.picta.options.Marker"
   ]
  },
  {
   "cell_type": "code",
   "execution_count": 10,
   "metadata": {},
   "outputs": [
    {
     "data": {
      "text/html": [
       "<div id=\"grid_ZmX9yp7VCo\" align=\"center\"> \n",
       "<div id='graph_VCT14v7zVP' class='graph'></div> \n",
       "</div> \n",
       "<script>\n",
       "var masonry = new Macy({\n",
       "    container: '#grid_ZmX9yp7VCo',\n",
       "    debug: true,\n",
       "    mobileFirst: true,\n",
       "    columns: 1,\n",
       "  });\n",
       "\n",
       " var traces_VCT14v7zVP = [{\"name\":\"Bar\",\"type\":\"bar\",\"x\":[8.390598895990342,18.920915037116448,25.11210366149747,29.845764585195166,36.770848980790305,18.12518603432628,42.742385421376916,31.259186357610965,21.746393657707408,34.53726775850667,15.980050171805631,16.18004051500038,6.872716175942778,24.28167658371913,38.500981831016034,4.518787006234892,6.961407811872217,26.06455908470085,15.19281035501105,16.479234140820132,23.192859210649036,33.377167419711675,6.263612304639038,19.140902734216276,6.982166963781039,44.014311641637086,15.816889481982994,25.616542524526782,36.64397362619223,18.739185309769578,5.466811090334844,26.589807196424253,37.161711550216985,13.201284985477102,27.483829153993817,20.219708431216194,47.43900812892376,49.80208856964882,18.68918480001282,37.892630260664305,21.29575704626174,19.103502931316065,25.85791380493844,40.109321856041824,38.16863994245904,43.58702489475207,45.74344967842783,28.913410163758215,46.98563218993759,0.0969085431887784,8.00292176097206,40.699647579691764,22.006317508382057,31.138558383709746,7.280795333004425,45.98421045651048,22.554564619377164,29.353726168504497,1.4994910438875408,40.77604290851667,19.517429592475636,3.9570184083597084,37.009139988507705,17.55735108554017,30.243870092437785,32.69356836305539,37.664659860006005,2.5630157854780453,40.049158549642655,17.965646267364267,4.1268395366404365,40.04281581220873,32.91561803621916,1.1763771480146956,11.725136687211856,43.49700493678898,6.177592823283246,45.05158519958699,20.073418797375385,18.494915491474234,3.9883210282334822,19.726238562656683,15.29587443053777,41.61792739753959,22.18864041354513,24.719791557113137,46.19887049829606,5.312240726167294,12.83222728968037,45.5751558563951,39.0154979709956,8.993568003127727,0.06933440896036425,30.8989220272618,31.45311013279327,42.614993477802855,10.350764165104586,32.8158132058208,5.690157715413485,20.090863267838593],\"y\":[18.986060767485586,31.43826464518988,21.697119909932937,26.463750893461736,21.974702355663283,11.852429828967193,6.797377470955757,44.50815088463268,6.726298323872126,30.33476140838451,44.73737330960367,23.58371032419192,17.795607134203216,45.038738245129444,27.70142939147951,45.982441365304965,44.08041722813128,45.22920774350824,37.685079788753015,33.7585034396631,42.06512656533599,42.29215712267283,9.431842689894697,22.085780447371643,5.640105302924431,35.21067700942275,45.7418206632245,3.5576213364730433,46.78669599722792,32.97322636329769,7.376565825165615,21.524754689027887,12.989981563159404,6.468225112004045,34.013147375971606,9.56151954585876,36.62620177024099,2.8193662970287914,19.74137879983655,38.45721372141034,38.76896303286148,35.82896476529707,16.451687471657877,41.74847203283007,44.86818601684461,17.222013362706367,21.127094275700326,45.740267167443356,12.577939259723047,14.721538770119713,18.531334331296804,30.207224838556257,22.644143321044393,14.636209421936769,49.076117693931174,41.523615912928484,42.21033295585834,28.604079236960946,2.7540767902823227,20.8395188305524,36.159474347941256,16.411692238402708,3.9399434777907363,46.10228058203365,26.182085891476902,49.39570782878612,48.591035380237926,18.216549721360366,29.14565652489283,11.834567623252212,34.91911838868069,48.44280217653176,46.03766001840226,30.95063303068467,40.9592587103321,26.25341060588425,20.264200237651757,39.66860295535666,47.62726513239887,14.296953516558197,39.408591087504355,10.11391479566337,33.83585976700405,29.865599706707325,17.688953230655997,49.98522742003447,31.030716285352987,30.31704724557891,17.301171698455946,28.3979603966303,18.111032609231266,23.27163745996324,45.593302675865324,42.5712842629662,14.1153102868665,21.08689058573833,1.5898245152106472,1.8188043250079722,35.28152961081219,3.1058752585595037]},{\"name\":\"Scatter\",\"type\":\"scatter\",\"mode\":\"markers\",\"marker\":{\"symbol\":\"circle\",\"color\":\"red\"},\"x\":[8.390598895990342,18.920915037116448,25.11210366149747,29.845764585195166,36.770848980790305,18.12518603432628,42.742385421376916,31.259186357610965,21.746393657707408,34.53726775850667,15.980050171805631,16.18004051500038,6.872716175942778,24.28167658371913,38.500981831016034,4.518787006234892,6.961407811872217,26.06455908470085,15.19281035501105,16.479234140820132,23.192859210649036,33.377167419711675,6.263612304639038,19.140902734216276,6.982166963781039,44.014311641637086,15.816889481982994,25.616542524526782,36.64397362619223,18.739185309769578,5.466811090334844,26.589807196424253,37.161711550216985,13.201284985477102,27.483829153993817,20.219708431216194,47.43900812892376,49.80208856964882,18.68918480001282,37.892630260664305,21.29575704626174,19.103502931316065,25.85791380493844,40.109321856041824,38.16863994245904,43.58702489475207,45.74344967842783,28.913410163758215,46.98563218993759,0.0969085431887784,8.00292176097206,40.699647579691764,22.006317508382057,31.138558383709746,7.280795333004425,45.98421045651048,22.554564619377164,29.353726168504497,1.4994910438875408,40.77604290851667,19.517429592475636,3.9570184083597084,37.009139988507705,17.55735108554017,30.243870092437785,32.69356836305539,37.664659860006005,2.5630157854780453,40.049158549642655,17.965646267364267,4.1268395366404365,40.04281581220873,32.91561803621916,1.1763771480146956,11.725136687211856,43.49700493678898,6.177592823283246,45.05158519958699,20.073418797375385,18.494915491474234,3.9883210282334822,19.726238562656683,15.29587443053777,41.61792739753959,22.18864041354513,24.719791557113137,46.19887049829606,5.312240726167294,12.83222728968037,45.5751558563951,39.0154979709956,8.993568003127727,0.06933440896036425,30.8989220272618,31.45311013279327,42.614993477802855,10.350764165104586,32.8158132058208,5.690157715413485,20.090863267838593],\"y\":[18.986060767485586,31.43826464518988,21.697119909932937,26.463750893461736,21.974702355663283,11.852429828967193,6.797377470955757,44.50815088463268,6.726298323872126,30.33476140838451,44.73737330960367,23.58371032419192,17.795607134203216,45.038738245129444,27.70142939147951,45.982441365304965,44.08041722813128,45.22920774350824,37.685079788753015,33.7585034396631,42.06512656533599,42.29215712267283,9.431842689894697,22.085780447371643,5.640105302924431,35.21067700942275,45.7418206632245,3.5576213364730433,46.78669599722792,32.97322636329769,7.376565825165615,21.524754689027887,12.989981563159404,6.468225112004045,34.013147375971606,9.56151954585876,36.62620177024099,2.8193662970287914,19.74137879983655,38.45721372141034,38.76896303286148,35.82896476529707,16.451687471657877,41.74847203283007,44.86818601684461,17.222013362706367,21.127094275700326,45.740267167443356,12.577939259723047,14.721538770119713,18.531334331296804,30.207224838556257,22.644143321044393,14.636209421936769,49.076117693931174,41.523615912928484,42.21033295585834,28.604079236960946,2.7540767902823227,20.8395188305524,36.159474347941256,16.411692238402708,3.9399434777907363,46.10228058203365,26.182085891476902,49.39570782878612,48.591035380237926,18.216549721360366,29.14565652489283,11.834567623252212,34.91911838868069,48.44280217653176,46.03766001840226,30.95063303068467,40.9592587103321,26.25341060588425,20.264200237651757,39.66860295535666,47.62726513239887,14.296953516558197,39.408591087504355,10.11391479566337,33.83585976700405,29.865599706707325,17.688953230655997,49.98522742003447,31.030716285352987,30.31704724557891,17.301171698455946,28.3979603966303,18.111032609231266,23.27163745996324,45.593302675865324,42.5712842629662,14.1153102868665,21.08689058573833,1.5898245152106472,1.8188043250079722,35.28152961081219,3.1058752585595037]}];\n",
       " var layout_VCT14v7zVP = {\"height\":550,\"width\":600,\"hovermode\":\"closest\",\"showlegend\":false};\n",
       " var config_VCT14v7zVP = {\"responsive\":true,\"scrollZoom\":true,\"displaylogo\":false};\n",
       " Plotly.newPlot(\"graph_VCT14v7zVP\", traces_VCT14v7zVP, layout_VCT14v7zVP, config_VCT14v7zVP);\n",
       "</script> \n"
      ]
     },
     "metadata": {},
     "output_type": "display_data"
    }
   ],
   "source": [
    "// additional traces can simply be composed with an existing chart and added on\n",
    "val series1 = XY(x, y) asType BAR setName(\"Bar\")\n",
    "\n",
    "// lets give the second series a red marker. Again we can 'compose' a marker using smaller components\n",
    "val marker = Marker() setSymbol \"circle\" setColor \"red\"\n",
    "\n",
    "val series2 = XY(x, y) asType SCATTER setName(\"Scatter\") drawSymbol MARKERS setMarker marker\n",
    "\n",
    "// we not put brackets in the 'addSeries' function to ensure that addSeries picks up the right series'\n",
    "val chart = Chart() addSeries(series1, series2)\n",
    "\n",
    "Canvas().addCharts(chart).plotInline"
   ]
  },
  {
   "cell_type": "markdown",
   "metadata": {},
   "source": [
    "### Customizing the Axes\n",
    "\n",
    "As can be seen from the examples above, the axes are not set. While for quick data exploration the above is acceptable, for presentation purposes we would want named axes.\n",
    "\n",
    "We can do this as follows:"
   ]
  },
  {
   "cell_type": "code",
   "execution_count": 11,
   "metadata": {},
   "outputs": [],
   "source": [
    "import org.carbonateresearch.picta.options.{XAxis, YAxis}"
   ]
  },
  {
   "cell_type": "code",
   "execution_count": 12,
   "metadata": {},
   "outputs": [
    {
     "data": {
      "text/html": [
       "<div id=\"grid_NFnl19gwG1\" align=\"center\"> \n",
       "<div id='graph_QsyRjY1V77' class='graph'></div> \n",
       "</div> \n",
       "<script>\n",
       "var masonry = new Macy({\n",
       "    container: '#grid_NFnl19gwG1',\n",
       "    debug: true,\n",
       "    mobileFirst: true,\n",
       "    columns: 1,\n",
       "  });\n",
       "\n",
       " var traces_QsyRjY1V77 = [{\"name\":\"Bar\",\"type\":\"bar\",\"x\":[8.390598895990342,18.920915037116448,25.11210366149747,29.845764585195166,36.770848980790305,18.12518603432628,42.742385421376916,31.259186357610965,21.746393657707408,34.53726775850667,15.980050171805631,16.18004051500038,6.872716175942778,24.28167658371913,38.500981831016034,4.518787006234892,6.961407811872217,26.06455908470085,15.19281035501105,16.479234140820132,23.192859210649036,33.377167419711675,6.263612304639038,19.140902734216276,6.982166963781039,44.014311641637086,15.816889481982994,25.616542524526782,36.64397362619223,18.739185309769578,5.466811090334844,26.589807196424253,37.161711550216985,13.201284985477102,27.483829153993817,20.219708431216194,47.43900812892376,49.80208856964882,18.68918480001282,37.892630260664305,21.29575704626174,19.103502931316065,25.85791380493844,40.109321856041824,38.16863994245904,43.58702489475207,45.74344967842783,28.913410163758215,46.98563218993759,0.0969085431887784,8.00292176097206,40.699647579691764,22.006317508382057,31.138558383709746,7.280795333004425,45.98421045651048,22.554564619377164,29.353726168504497,1.4994910438875408,40.77604290851667,19.517429592475636,3.9570184083597084,37.009139988507705,17.55735108554017,30.243870092437785,32.69356836305539,37.664659860006005,2.5630157854780453,40.049158549642655,17.965646267364267,4.1268395366404365,40.04281581220873,32.91561803621916,1.1763771480146956,11.725136687211856,43.49700493678898,6.177592823283246,45.05158519958699,20.073418797375385,18.494915491474234,3.9883210282334822,19.726238562656683,15.29587443053777,41.61792739753959,22.18864041354513,24.719791557113137,46.19887049829606,5.312240726167294,12.83222728968037,45.5751558563951,39.0154979709956,8.993568003127727,0.06933440896036425,30.8989220272618,31.45311013279327,42.614993477802855,10.350764165104586,32.8158132058208,5.690157715413485,20.090863267838593],\"y\":[18.986060767485586,31.43826464518988,21.697119909932937,26.463750893461736,21.974702355663283,11.852429828967193,6.797377470955757,44.50815088463268,6.726298323872126,30.33476140838451,44.73737330960367,23.58371032419192,17.795607134203216,45.038738245129444,27.70142939147951,45.982441365304965,44.08041722813128,45.22920774350824,37.685079788753015,33.7585034396631,42.06512656533599,42.29215712267283,9.431842689894697,22.085780447371643,5.640105302924431,35.21067700942275,45.7418206632245,3.5576213364730433,46.78669599722792,32.97322636329769,7.376565825165615,21.524754689027887,12.989981563159404,6.468225112004045,34.013147375971606,9.56151954585876,36.62620177024099,2.8193662970287914,19.74137879983655,38.45721372141034,38.76896303286148,35.82896476529707,16.451687471657877,41.74847203283007,44.86818601684461,17.222013362706367,21.127094275700326,45.740267167443356,12.577939259723047,14.721538770119713,18.531334331296804,30.207224838556257,22.644143321044393,14.636209421936769,49.076117693931174,41.523615912928484,42.21033295585834,28.604079236960946,2.7540767902823227,20.8395188305524,36.159474347941256,16.411692238402708,3.9399434777907363,46.10228058203365,26.182085891476902,49.39570782878612,48.591035380237926,18.216549721360366,29.14565652489283,11.834567623252212,34.91911838868069,48.44280217653176,46.03766001840226,30.95063303068467,40.9592587103321,26.25341060588425,20.264200237651757,39.66860295535666,47.62726513239887,14.296953516558197,39.408591087504355,10.11391479566337,33.83585976700405,29.865599706707325,17.688953230655997,49.98522742003447,31.030716285352987,30.31704724557891,17.301171698455946,28.3979603966303,18.111032609231266,23.27163745996324,45.593302675865324,42.5712842629662,14.1153102868665,21.08689058573833,1.5898245152106472,1.8188043250079722,35.28152961081219,3.1058752585595037]},{\"name\":\"Scatter\",\"type\":\"scatter\",\"mode\":\"markers\",\"marker\":{\"symbol\":\"circle\",\"color\":\"red\"},\"x\":[8.390598895990342,18.920915037116448,25.11210366149747,29.845764585195166,36.770848980790305,18.12518603432628,42.742385421376916,31.259186357610965,21.746393657707408,34.53726775850667,15.980050171805631,16.18004051500038,6.872716175942778,24.28167658371913,38.500981831016034,4.518787006234892,6.961407811872217,26.06455908470085,15.19281035501105,16.479234140820132,23.192859210649036,33.377167419711675,6.263612304639038,19.140902734216276,6.982166963781039,44.014311641637086,15.816889481982994,25.616542524526782,36.64397362619223,18.739185309769578,5.466811090334844,26.589807196424253,37.161711550216985,13.201284985477102,27.483829153993817,20.219708431216194,47.43900812892376,49.80208856964882,18.68918480001282,37.892630260664305,21.29575704626174,19.103502931316065,25.85791380493844,40.109321856041824,38.16863994245904,43.58702489475207,45.74344967842783,28.913410163758215,46.98563218993759,0.0969085431887784,8.00292176097206,40.699647579691764,22.006317508382057,31.138558383709746,7.280795333004425,45.98421045651048,22.554564619377164,29.353726168504497,1.4994910438875408,40.77604290851667,19.517429592475636,3.9570184083597084,37.009139988507705,17.55735108554017,30.243870092437785,32.69356836305539,37.664659860006005,2.5630157854780453,40.049158549642655,17.965646267364267,4.1268395366404365,40.04281581220873,32.91561803621916,1.1763771480146956,11.725136687211856,43.49700493678898,6.177592823283246,45.05158519958699,20.073418797375385,18.494915491474234,3.9883210282334822,19.726238562656683,15.29587443053777,41.61792739753959,22.18864041354513,24.719791557113137,46.19887049829606,5.312240726167294,12.83222728968037,45.5751558563951,39.0154979709956,8.993568003127727,0.06933440896036425,30.8989220272618,31.45311013279327,42.614993477802855,10.350764165104586,32.8158132058208,5.690157715413485,20.090863267838593],\"y\":[18.986060767485586,31.43826464518988,21.697119909932937,26.463750893461736,21.974702355663283,11.852429828967193,6.797377470955757,44.50815088463268,6.726298323872126,30.33476140838451,44.73737330960367,23.58371032419192,17.795607134203216,45.038738245129444,27.70142939147951,45.982441365304965,44.08041722813128,45.22920774350824,37.685079788753015,33.7585034396631,42.06512656533599,42.29215712267283,9.431842689894697,22.085780447371643,5.640105302924431,35.21067700942275,45.7418206632245,3.5576213364730433,46.78669599722792,32.97322636329769,7.376565825165615,21.524754689027887,12.989981563159404,6.468225112004045,34.013147375971606,9.56151954585876,36.62620177024099,2.8193662970287914,19.74137879983655,38.45721372141034,38.76896303286148,35.82896476529707,16.451687471657877,41.74847203283007,44.86818601684461,17.222013362706367,21.127094275700326,45.740267167443356,12.577939259723047,14.721538770119713,18.531334331296804,30.207224838556257,22.644143321044393,14.636209421936769,49.076117693931174,41.523615912928484,42.21033295585834,28.604079236960946,2.7540767902823227,20.8395188305524,36.159474347941256,16.411692238402708,3.9399434777907363,46.10228058203365,26.182085891476902,49.39570782878612,48.591035380237926,18.216549721360366,29.14565652489283,11.834567623252212,34.91911838868069,48.44280217653176,46.03766001840226,30.95063303068467,40.9592587103321,26.25341060588425,20.264200237651757,39.66860295535666,47.62726513239887,14.296953516558197,39.408591087504355,10.11391479566337,33.83585976700405,29.865599706707325,17.688953230655997,49.98522742003447,31.030716285352987,30.31704724557891,17.301171698455946,28.3979603966303,18.111032609231266,23.27163745996324,45.593302675865324,42.5712842629662,14.1153102868665,21.08689058573833,1.5898245152106472,1.8188043250079722,35.28152961081219,3.1058752585595037]}];\n",
       " var layout_QsyRjY1V77 = {\"height\":550,\"width\":600,\"hovermode\":\"closest\",\"title\":{\"text\":\"Chart with Axes\"},\"showlegend\":false,\"xaxis\":{\"title\":{\"text\":\"x variable\"},\"showgrid\":true,\"zeroline\":false,\"showline\":false},\"yaxis\":{\"title\":{\"text\":\"y variable\"},\"showgrid\":true,\"zeroline\":false,\"showline\":false}};\n",
       " var config_QsyRjY1V77 = {\"responsive\":true,\"scrollZoom\":true,\"displaylogo\":false};\n",
       " Plotly.newPlot(\"graph_QsyRjY1V77\", traces_QsyRjY1V77, layout_QsyRjY1V77, config_QsyRjY1V77);\n",
       "</script> \n"
      ]
     },
     "metadata": {},
     "output_type": "display_data"
    }
   ],
   "source": [
    "// We construct the axes and set their title\n",
    "val xaxis = XAxis(title = \"x variable\")\n",
    "val yaxis = YAxis(title = \"y variable\")\n",
    "\n",
    "// another way to do composition is to just add a bracket around the composition\n",
    "val chart = (\n",
    "    Chart()\n",
    "    setTitle \"Chart with Axes\"\n",
    "    addSeries(series1, series2)\n",
    "    addAxes(xaxis, yaxis)\n",
    ")\n",
    "\n",
    "val canvas = Canvas() addCharts chart\n",
    "\n",
    "canvas.plotInline"
   ]
  },
  {
   "cell_type": "markdown",
   "metadata": {},
   "source": [
    "### Display options - MultiCharts\n",
    "\n",
    "`MultiCharts` are a way to plot multiple axes on the same chart. This is seperate to Picta's grid system, which create a grid of subplot `Chart`'s. The next series of examples will make this clearer."
   ]
  },
  {
   "cell_type": "code",
   "execution_count": 13,
   "metadata": {},
   "outputs": [],
   "source": [
    "// lets make use of the config:\n",
    "val config = Config()\n",
    "\n",
    "// create the axes\n",
    "val xaxis1 = XAxis() setTitle \"x1\"\n",
    "val yaxis1 = YAxis() // this is not strictly necessary, but if it is not added there will be a zeroline at y = 0\n",
    "\n",
    "val xaxis2 = XAxis(2) setTitle \"x2\"\n",
    "val yaxis2 = YAxis(2) // this is not strictly necessary, but if it is not added there will be a zeroline at y = 0"
   ]
  },
  {
   "cell_type": "code",
   "execution_count": 14,
   "metadata": {},
   "outputs": [
    {
     "data": {
      "text/html": [
       "<div id=\"grid_71CYlpNYNX\" align=\"center\"> \n",
       "<div id='graph_m2g1loCI3q' class='graph'></div> \n",
       "</div> \n",
       "<script>\n",
       "var masonry = new Macy({\n",
       "    container: '#grid_71CYlpNYNX',\n",
       "    debug: true,\n",
       "    mobileFirst: true,\n",
       "    columns: 1,\n",
       "  });\n",
       "\n",
       " var traces_m2g1loCI3q = [{\"name\":\"X998veeqRH\",\"type\":\"scatter\",\"mode\":\"markers\",\"x\":[1,2,3],\"y\":[2,4,5]},{\"name\":\"YXScsgFP5n\",\"type\":\"scatter\",\"mode\":\"markers\",\"xaxis\":\"x2\",\"yaxis\":\"y2\",\"x\":[8.390598895990342,18.920915037116448,25.11210366149747,29.845764585195166,36.770848980790305,18.12518603432628,42.742385421376916,31.259186357610965,21.746393657707408,34.53726775850667,15.980050171805631,16.18004051500038,6.872716175942778,24.28167658371913,38.500981831016034,4.518787006234892,6.961407811872217,26.06455908470085,15.19281035501105,16.479234140820132,23.192859210649036,33.377167419711675,6.263612304639038,19.140902734216276,6.982166963781039,44.014311641637086,15.816889481982994,25.616542524526782,36.64397362619223,18.739185309769578,5.466811090334844,26.589807196424253,37.161711550216985,13.201284985477102,27.483829153993817,20.219708431216194,47.43900812892376,49.80208856964882,18.68918480001282,37.892630260664305,21.29575704626174,19.103502931316065,25.85791380493844,40.109321856041824,38.16863994245904,43.58702489475207,45.74344967842783,28.913410163758215,46.98563218993759,0.0969085431887784,8.00292176097206,40.699647579691764,22.006317508382057,31.138558383709746,7.280795333004425,45.98421045651048,22.554564619377164,29.353726168504497,1.4994910438875408,40.77604290851667,19.517429592475636,3.9570184083597084,37.009139988507705,17.55735108554017,30.243870092437785,32.69356836305539,37.664659860006005,2.5630157854780453,40.049158549642655,17.965646267364267,4.1268395366404365,40.04281581220873,32.91561803621916,1.1763771480146956,11.725136687211856,43.49700493678898,6.177592823283246,45.05158519958699,20.073418797375385,18.494915491474234,3.9883210282334822,19.726238562656683,15.29587443053777,41.61792739753959,22.18864041354513,24.719791557113137,46.19887049829606,5.312240726167294,12.83222728968037,45.5751558563951,39.0154979709956,8.993568003127727,0.06933440896036425,30.8989220272618,31.45311013279327,42.614993477802855,10.350764165104586,32.8158132058208,5.690157715413485,20.090863267838593],\"y\":[18.986060767485586,31.43826464518988,21.697119909932937,26.463750893461736,21.974702355663283,11.852429828967193,6.797377470955757,44.50815088463268,6.726298323872126,30.33476140838451,44.73737330960367,23.58371032419192,17.795607134203216,45.038738245129444,27.70142939147951,45.982441365304965,44.08041722813128,45.22920774350824,37.685079788753015,33.7585034396631,42.06512656533599,42.29215712267283,9.431842689894697,22.085780447371643,5.640105302924431,35.21067700942275,45.7418206632245,3.5576213364730433,46.78669599722792,32.97322636329769,7.376565825165615,21.524754689027887,12.989981563159404,6.468225112004045,34.013147375971606,9.56151954585876,36.62620177024099,2.8193662970287914,19.74137879983655,38.45721372141034,38.76896303286148,35.82896476529707,16.451687471657877,41.74847203283007,44.86818601684461,17.222013362706367,21.127094275700326,45.740267167443356,12.577939259723047,14.721538770119713,18.531334331296804,30.207224838556257,22.644143321044393,14.636209421936769,49.076117693931174,41.523615912928484,42.21033295585834,28.604079236960946,2.7540767902823227,20.8395188305524,36.159474347941256,16.411692238402708,3.9399434777907363,46.10228058203365,26.182085891476902,49.39570782878612,48.591035380237926,18.216549721360366,29.14565652489283,11.834567623252212,34.91911838868069,48.44280217653176,46.03766001840226,30.95063303068467,40.9592587103321,26.25341060588425,20.264200237651757,39.66860295535666,47.62726513239887,14.296953516558197,39.408591087504355,10.11391479566337,33.83585976700405,29.865599706707325,17.688953230655997,49.98522742003447,31.030716285352987,30.31704724557891,17.301171698455946,28.3979603966303,18.111032609231266,23.27163745996324,45.593302675865324,42.5712842629662,14.1153102868665,21.08689058573833,1.5898245152106472,1.8188043250079722,35.28152961081219,3.1058752585595037]}];\n",
       " var layout_m2g1loCI3q = {\"height\":550,\"width\":600,\"hovermode\":\"closest\",\"title\":{\"text\":\"Chart.Axis.Composition\"},\"showlegend\":false,\"grid\":{\"rows\":1,\"columns\":2,\"pattern\":\"independent\"},\"xaxis\":{\"title\":{\"text\":\"x1\"},\"showgrid\":true,\"zeroline\":false,\"showline\":false},\"yaxis\":{\"showgrid\":true,\"zeroline\":false,\"showline\":false},\"xaxis2\":{\"title\":{\"text\":\"x2\"},\"showgrid\":true,\"zeroline\":false,\"showline\":false},\"yaxis2\":{\"showgrid\":true,\"zeroline\":false,\"showline\":false}};\n",
       " var config_m2g1loCI3q = {\"responsive\":true,\"scrollZoom\":true,\"displaylogo\":false};\n",
       " Plotly.newPlot(\"graph_m2g1loCI3q\", traces_m2g1loCI3q, layout_m2g1loCI3q, config_m2g1loCI3q);\n",
       "</script> \n"
      ]
     },
     "metadata": {},
     "output_type": "display_data"
    }
   ],
   "source": [
    "val series1 = (\n",
    "    XY(x = List(1, 2, 3), y = List(2, 4, 5))\n",
    "    asType SCATTER\n",
    "    drawSymbol MARKERS\n",
    ")\n",
    "\n",
    "val series2 = (\n",
    "    XY(x = x, y = y) \n",
    "    asType SCATTER \n",
    "    drawSymbol MARKERS \n",
    "    setAxes (xaxis2, yaxis2)\n",
    ")\n",
    "\n",
    "val chart1 = Chart()\n",
    "            .addSeries(series1, series2)\n",
    "            .setTitle(\"Chart.Axis.Composition\")\n",
    "            .addAxes(xaxis1, yaxis1, xaxis2, yaxis2)\n",
    "            .setConfig(config)\n",
    "            .asMultiChart(1, 2)\n",
    "\n",
    "val canvas = Canvas() addCharts chart1\n",
    "\n",
    "canvas.plotInline"
   ]
  },
  {
   "cell_type": "markdown",
   "metadata": {},
   "source": [
    "### Picta's Subplot System\n",
    "\n",
    "While the above is useful, sometimes it is more useful to plot independent charts in a subplot grid. This is where we can use the Picta subplot system.\n",
    "\n",
    "In the subplots below, each subplot is an individual `Chart`. This means we can actually embed the above `MultiChart` inside another subplot. This way we can create nested subplots to showcase any data we need to.\n",
    "\n",
    "Used creatively, this subplot system can be very useful for data exploration."
   ]
  },
  {
   "cell_type": "code",
   "execution_count": 15,
   "metadata": {
    "scrolled": false
   },
   "outputs": [
    {
     "data": {
      "text/html": [
       "<div id=\"grid_Hx4eWaiW1x\" align=\"center\"> \n",
       "<div id='graph_f7T4CeBazc' class='graph'></div> \n",
       "<div id='graph_OCJwW45YxQ' class='graph'></div> \n",
       "<div id='graph_PlVcgGf0Iw' class='graph'></div> \n",
       "<div id='graph_v610J7YmLS' class='graph'></div> \n",
       "</div> \n",
       "<script>\n",
       "var masonry = new Macy({\n",
       "    container: '#grid_Hx4eWaiW1x',\n",
       "    debug: true,\n",
       "    mobileFirst: true,\n",
       "    columns: 2,\n",
       "  });\n",
       "\n",
       " var traces_f7T4CeBazc = [{\"name\":\"a\",\"type\":\"scatter\",\"x\":[8.390598895990342,18.920915037116448,25.11210366149747,29.845764585195166,36.770848980790305,18.12518603432628,42.742385421376916,31.259186357610965,21.746393657707408,34.53726775850667,15.980050171805631,16.18004051500038,6.872716175942778,24.28167658371913,38.500981831016034,4.518787006234892,6.961407811872217,26.06455908470085,15.19281035501105,16.479234140820132,23.192859210649036,33.377167419711675,6.263612304639038,19.140902734216276,6.982166963781039,44.014311641637086,15.816889481982994,25.616542524526782,36.64397362619223,18.739185309769578,5.466811090334844,26.589807196424253,37.161711550216985,13.201284985477102,27.483829153993817,20.219708431216194,47.43900812892376,49.80208856964882,18.68918480001282,37.892630260664305,21.29575704626174,19.103502931316065,25.85791380493844,40.109321856041824,38.16863994245904,43.58702489475207,45.74344967842783,28.913410163758215,46.98563218993759,0.0969085431887784,8.00292176097206,40.699647579691764,22.006317508382057,31.138558383709746,7.280795333004425,45.98421045651048,22.554564619377164,29.353726168504497,1.4994910438875408,40.77604290851667,19.517429592475636,3.9570184083597084,37.009139988507705,17.55735108554017,30.243870092437785,32.69356836305539,37.664659860006005,2.5630157854780453,40.049158549642655,17.965646267364267,4.1268395366404365,40.04281581220873,32.91561803621916,1.1763771480146956,11.725136687211856,43.49700493678898,6.177592823283246,45.05158519958699,20.073418797375385,18.494915491474234,3.9883210282334822,19.726238562656683,15.29587443053777,41.61792739753959,22.18864041354513,24.719791557113137,46.19887049829606,5.312240726167294,12.83222728968037,45.5751558563951,39.0154979709956,8.993568003127727,0.06933440896036425,30.8989220272618,31.45311013279327,42.614993477802855,10.350764165104586,32.8158132058208,5.690157715413485,20.090863267838593],\"y\":[18.986060767485586,31.43826464518988,21.697119909932937,26.463750893461736,21.974702355663283,11.852429828967193,6.797377470955757,44.50815088463268,6.726298323872126,30.33476140838451,44.73737330960367,23.58371032419192,17.795607134203216,45.038738245129444,27.70142939147951,45.982441365304965,44.08041722813128,45.22920774350824,37.685079788753015,33.7585034396631,42.06512656533599,42.29215712267283,9.431842689894697,22.085780447371643,5.640105302924431,35.21067700942275,45.7418206632245,3.5576213364730433,46.78669599722792,32.97322636329769,7.376565825165615,21.524754689027887,12.989981563159404,6.468225112004045,34.013147375971606,9.56151954585876,36.62620177024099,2.8193662970287914,19.74137879983655,38.45721372141034,38.76896303286148,35.82896476529707,16.451687471657877,41.74847203283007,44.86818601684461,17.222013362706367,21.127094275700326,45.740267167443356,12.577939259723047,14.721538770119713,18.531334331296804,30.207224838556257,22.644143321044393,14.636209421936769,49.076117693931174,41.523615912928484,42.21033295585834,28.604079236960946,2.7540767902823227,20.8395188305524,36.159474347941256,16.411692238402708,3.9399434777907363,46.10228058203365,26.182085891476902,49.39570782878612,48.591035380237926,18.216549721360366,29.14565652489283,11.834567623252212,34.91911838868069,48.44280217653176,46.03766001840226,30.95063303068467,40.9592587103321,26.25341060588425,20.264200237651757,39.66860295535666,47.62726513239887,14.296953516558197,39.408591087504355,10.11391479566337,33.83585976700405,29.865599706707325,17.688953230655997,49.98522742003447,31.030716285352987,30.31704724557891,17.301171698455946,28.3979603966303,18.111032609231266,23.27163745996324,45.593302675865324,42.5712842629662,14.1153102868665,21.08689058573833,1.5898245152106472,1.8188043250079722,35.28152961081219,3.1058752585595037]}];\n",
       " var layout_f7T4CeBazc = {\"height\":350,\"width\":350,\"hovermode\":\"closest\",\"showlegend\":false,\"margin\":{\"l\":50,\"r\":30,\"t\":50,\"b\":50},\"xaxis\":{\"title\":{\"text\":\"x axis 1\"},\"showgrid\":true,\"zeroline\":false,\"showline\":false},\"yaxis\":{\"title\":{\"text\":\"y axis 1\"},\"showgrid\":true,\"zeroline\":false,\"showline\":false}};\n",
       " var config_f7T4CeBazc = {\"responsive\":true,\"scrollZoom\":true,\"displaylogo\":false};\n",
       " Plotly.newPlot(\"graph_f7T4CeBazc\", traces_f7T4CeBazc, layout_f7T4CeBazc, config_f7T4CeBazc);\n",
       "\n",
       " var traces_OCJwW45YxQ = [{\"name\":\"b\",\"type\":\"scatter\",\"x\":[8.390598895990342,18.920915037116448,25.11210366149747,29.845764585195166,36.770848980790305,18.12518603432628,42.742385421376916,31.259186357610965,21.746393657707408,34.53726775850667,15.980050171805631,16.18004051500038,6.872716175942778,24.28167658371913,38.500981831016034,4.518787006234892,6.961407811872217,26.06455908470085,15.19281035501105,16.479234140820132,23.192859210649036,33.377167419711675,6.263612304639038,19.140902734216276,6.982166963781039,44.014311641637086,15.816889481982994,25.616542524526782,36.64397362619223,18.739185309769578,5.466811090334844,26.589807196424253,37.161711550216985,13.201284985477102,27.483829153993817,20.219708431216194,47.43900812892376,49.80208856964882,18.68918480001282,37.892630260664305,21.29575704626174,19.103502931316065,25.85791380493844,40.109321856041824,38.16863994245904,43.58702489475207,45.74344967842783,28.913410163758215,46.98563218993759,0.0969085431887784,8.00292176097206,40.699647579691764,22.006317508382057,31.138558383709746,7.280795333004425,45.98421045651048,22.554564619377164,29.353726168504497,1.4994910438875408,40.77604290851667,19.517429592475636,3.9570184083597084,37.009139988507705,17.55735108554017,30.243870092437785,32.69356836305539,37.664659860006005,2.5630157854780453,40.049158549642655,17.965646267364267,4.1268395366404365,40.04281581220873,32.91561803621916,1.1763771480146956,11.725136687211856,43.49700493678898,6.177592823283246,45.05158519958699,20.073418797375385,18.494915491474234,3.9883210282334822,19.726238562656683,15.29587443053777,41.61792739753959,22.18864041354513,24.719791557113137,46.19887049829606,5.312240726167294,12.83222728968037,45.5751558563951,39.0154979709956,8.993568003127727,0.06933440896036425,30.8989220272618,31.45311013279327,42.614993477802855,10.350764165104586,32.8158132058208,5.690157715413485,20.090863267838593],\"y\":[18.986060767485586,31.43826464518988,21.697119909932937,26.463750893461736,21.974702355663283,11.852429828967193,6.797377470955757,44.50815088463268,6.726298323872126,30.33476140838451,44.73737330960367,23.58371032419192,17.795607134203216,45.038738245129444,27.70142939147951,45.982441365304965,44.08041722813128,45.22920774350824,37.685079788753015,33.7585034396631,42.06512656533599,42.29215712267283,9.431842689894697,22.085780447371643,5.640105302924431,35.21067700942275,45.7418206632245,3.5576213364730433,46.78669599722792,32.97322636329769,7.376565825165615,21.524754689027887,12.989981563159404,6.468225112004045,34.013147375971606,9.56151954585876,36.62620177024099,2.8193662970287914,19.74137879983655,38.45721372141034,38.76896303286148,35.82896476529707,16.451687471657877,41.74847203283007,44.86818601684461,17.222013362706367,21.127094275700326,45.740267167443356,12.577939259723047,14.721538770119713,18.531334331296804,30.207224838556257,22.644143321044393,14.636209421936769,49.076117693931174,41.523615912928484,42.21033295585834,28.604079236960946,2.7540767902823227,20.8395188305524,36.159474347941256,16.411692238402708,3.9399434777907363,46.10228058203365,26.182085891476902,49.39570782878612,48.591035380237926,18.216549721360366,29.14565652489283,11.834567623252212,34.91911838868069,48.44280217653176,46.03766001840226,30.95063303068467,40.9592587103321,26.25341060588425,20.264200237651757,39.66860295535666,47.62726513239887,14.296953516558197,39.408591087504355,10.11391479566337,33.83585976700405,29.865599706707325,17.688953230655997,49.98522742003447,31.030716285352987,30.31704724557891,17.301171698455946,28.3979603966303,18.111032609231266,23.27163745996324,45.593302675865324,42.5712842629662,14.1153102868665,21.08689058573833,1.5898245152106472,1.8188043250079722,35.28152961081219,3.1058752585595037]}];\n",
       " var layout_OCJwW45YxQ = {\"height\":350,\"width\":350,\"hovermode\":\"closest\",\"showlegend\":false,\"margin\":{\"l\":50,\"r\":50,\"t\":50,\"b\":50},\"xaxis\":{\"title\":{\"text\":\"x axis 2\"},\"showgrid\":true,\"zeroline\":false,\"showline\":false},\"yaxis\":{\"title\":{\"text\":\"y axis 2\"},\"showgrid\":true,\"zeroline\":false,\"showline\":false}};\n",
       " var config_OCJwW45YxQ = {\"responsive\":true,\"scrollZoom\":true,\"displaylogo\":false};\n",
       " Plotly.newPlot(\"graph_OCJwW45YxQ\", traces_OCJwW45YxQ, layout_OCJwW45YxQ, config_OCJwW45YxQ);\n",
       "\n",
       " var traces_PlVcgGf0Iw = [{\"name\":\"c\",\"type\":\"scatter\",\"x\":[8.390598895990342,18.920915037116448,25.11210366149747,29.845764585195166,36.770848980790305,18.12518603432628,42.742385421376916,31.259186357610965,21.746393657707408,34.53726775850667,15.980050171805631,16.18004051500038,6.872716175942778,24.28167658371913,38.500981831016034,4.518787006234892,6.961407811872217,26.06455908470085,15.19281035501105,16.479234140820132,23.192859210649036,33.377167419711675,6.263612304639038,19.140902734216276,6.982166963781039,44.014311641637086,15.816889481982994,25.616542524526782,36.64397362619223,18.739185309769578,5.466811090334844,26.589807196424253,37.161711550216985,13.201284985477102,27.483829153993817,20.219708431216194,47.43900812892376,49.80208856964882,18.68918480001282,37.892630260664305,21.29575704626174,19.103502931316065,25.85791380493844,40.109321856041824,38.16863994245904,43.58702489475207,45.74344967842783,28.913410163758215,46.98563218993759,0.0969085431887784,8.00292176097206,40.699647579691764,22.006317508382057,31.138558383709746,7.280795333004425,45.98421045651048,22.554564619377164,29.353726168504497,1.4994910438875408,40.77604290851667,19.517429592475636,3.9570184083597084,37.009139988507705,17.55735108554017,30.243870092437785,32.69356836305539,37.664659860006005,2.5630157854780453,40.049158549642655,17.965646267364267,4.1268395366404365,40.04281581220873,32.91561803621916,1.1763771480146956,11.725136687211856,43.49700493678898,6.177592823283246,45.05158519958699,20.073418797375385,18.494915491474234,3.9883210282334822,19.726238562656683,15.29587443053777,41.61792739753959,22.18864041354513,24.719791557113137,46.19887049829606,5.312240726167294,12.83222728968037,45.5751558563951,39.0154979709956,8.993568003127727,0.06933440896036425,30.8989220272618,31.45311013279327,42.614993477802855,10.350764165104586,32.8158132058208,5.690157715413485,20.090863267838593],\"y\":[18.986060767485586,31.43826464518988,21.697119909932937,26.463750893461736,21.974702355663283,11.852429828967193,6.797377470955757,44.50815088463268,6.726298323872126,30.33476140838451,44.73737330960367,23.58371032419192,17.795607134203216,45.038738245129444,27.70142939147951,45.982441365304965,44.08041722813128,45.22920774350824,37.685079788753015,33.7585034396631,42.06512656533599,42.29215712267283,9.431842689894697,22.085780447371643,5.640105302924431,35.21067700942275,45.7418206632245,3.5576213364730433,46.78669599722792,32.97322636329769,7.376565825165615,21.524754689027887,12.989981563159404,6.468225112004045,34.013147375971606,9.56151954585876,36.62620177024099,2.8193662970287914,19.74137879983655,38.45721372141034,38.76896303286148,35.82896476529707,16.451687471657877,41.74847203283007,44.86818601684461,17.222013362706367,21.127094275700326,45.740267167443356,12.577939259723047,14.721538770119713,18.531334331296804,30.207224838556257,22.644143321044393,14.636209421936769,49.076117693931174,41.523615912928484,42.21033295585834,28.604079236960946,2.7540767902823227,20.8395188305524,36.159474347941256,16.411692238402708,3.9399434777907363,46.10228058203365,26.182085891476902,49.39570782878612,48.591035380237926,18.216549721360366,29.14565652489283,11.834567623252212,34.91911838868069,48.44280217653176,46.03766001840226,30.95063303068467,40.9592587103321,26.25341060588425,20.264200237651757,39.66860295535666,47.62726513239887,14.296953516558197,39.408591087504355,10.11391479566337,33.83585976700405,29.865599706707325,17.688953230655997,49.98522742003447,31.030716285352987,30.31704724557891,17.301171698455946,28.3979603966303,18.111032609231266,23.27163745996324,45.593302675865324,42.5712842629662,14.1153102868665,21.08689058573833,1.5898245152106472,1.8188043250079722,35.28152961081219,3.1058752585595037]}];\n",
       " var layout_PlVcgGf0Iw = {\"height\":350,\"width\":350,\"hovermode\":\"closest\",\"showlegend\":false,\"margin\":{\"l\":50,\"r\":30,\"t\":50,\"b\":50},\"xaxis\":{\"title\":{\"text\":\"x axis 3\"},\"showgrid\":true,\"zeroline\":false,\"showline\":false},\"yaxis\":{\"title\":{\"text\":\"y axis 3\"},\"showgrid\":true,\"zeroline\":false,\"showline\":false}};\n",
       " var config_PlVcgGf0Iw = {\"responsive\":true,\"scrollZoom\":true,\"displaylogo\":false};\n",
       " Plotly.newPlot(\"graph_PlVcgGf0Iw\", traces_PlVcgGf0Iw, layout_PlVcgGf0Iw, config_PlVcgGf0Iw);\n",
       "\n",
       " var traces_v610J7YmLS = [{\"name\":\"X998veeqRH\",\"type\":\"scatter\",\"mode\":\"markers\",\"x\":[1,2,3],\"y\":[2,4,5]},{\"name\":\"YXScsgFP5n\",\"type\":\"scatter\",\"mode\":\"markers\",\"xaxis\":\"x2\",\"yaxis\":\"y2\",\"x\":[8.390598895990342,18.920915037116448,25.11210366149747,29.845764585195166,36.770848980790305,18.12518603432628,42.742385421376916,31.259186357610965,21.746393657707408,34.53726775850667,15.980050171805631,16.18004051500038,6.872716175942778,24.28167658371913,38.500981831016034,4.518787006234892,6.961407811872217,26.06455908470085,15.19281035501105,16.479234140820132,23.192859210649036,33.377167419711675,6.263612304639038,19.140902734216276,6.982166963781039,44.014311641637086,15.816889481982994,25.616542524526782,36.64397362619223,18.739185309769578,5.466811090334844,26.589807196424253,37.161711550216985,13.201284985477102,27.483829153993817,20.219708431216194,47.43900812892376,49.80208856964882,18.68918480001282,37.892630260664305,21.29575704626174,19.103502931316065,25.85791380493844,40.109321856041824,38.16863994245904,43.58702489475207,45.74344967842783,28.913410163758215,46.98563218993759,0.0969085431887784,8.00292176097206,40.699647579691764,22.006317508382057,31.138558383709746,7.280795333004425,45.98421045651048,22.554564619377164,29.353726168504497,1.4994910438875408,40.77604290851667,19.517429592475636,3.9570184083597084,37.009139988507705,17.55735108554017,30.243870092437785,32.69356836305539,37.664659860006005,2.5630157854780453,40.049158549642655,17.965646267364267,4.1268395366404365,40.04281581220873,32.91561803621916,1.1763771480146956,11.725136687211856,43.49700493678898,6.177592823283246,45.05158519958699,20.073418797375385,18.494915491474234,3.9883210282334822,19.726238562656683,15.29587443053777,41.61792739753959,22.18864041354513,24.719791557113137,46.19887049829606,5.312240726167294,12.83222728968037,45.5751558563951,39.0154979709956,8.993568003127727,0.06933440896036425,30.8989220272618,31.45311013279327,42.614993477802855,10.350764165104586,32.8158132058208,5.690157715413485,20.090863267838593],\"y\":[18.986060767485586,31.43826464518988,21.697119909932937,26.463750893461736,21.974702355663283,11.852429828967193,6.797377470955757,44.50815088463268,6.726298323872126,30.33476140838451,44.73737330960367,23.58371032419192,17.795607134203216,45.038738245129444,27.70142939147951,45.982441365304965,44.08041722813128,45.22920774350824,37.685079788753015,33.7585034396631,42.06512656533599,42.29215712267283,9.431842689894697,22.085780447371643,5.640105302924431,35.21067700942275,45.7418206632245,3.5576213364730433,46.78669599722792,32.97322636329769,7.376565825165615,21.524754689027887,12.989981563159404,6.468225112004045,34.013147375971606,9.56151954585876,36.62620177024099,2.8193662970287914,19.74137879983655,38.45721372141034,38.76896303286148,35.82896476529707,16.451687471657877,41.74847203283007,44.86818601684461,17.222013362706367,21.127094275700326,45.740267167443356,12.577939259723047,14.721538770119713,18.531334331296804,30.207224838556257,22.644143321044393,14.636209421936769,49.076117693931174,41.523615912928484,42.21033295585834,28.604079236960946,2.7540767902823227,20.8395188305524,36.159474347941256,16.411692238402708,3.9399434777907363,46.10228058203365,26.182085891476902,49.39570782878612,48.591035380237926,18.216549721360366,29.14565652489283,11.834567623252212,34.91911838868069,48.44280217653176,46.03766001840226,30.95063303068467,40.9592587103321,26.25341060588425,20.264200237651757,39.66860295535666,47.62726513239887,14.296953516558197,39.408591087504355,10.11391479566337,33.83585976700405,29.865599706707325,17.688953230655997,49.98522742003447,31.030716285352987,30.31704724557891,17.301171698455946,28.3979603966303,18.111032609231266,23.27163745996324,45.593302675865324,42.5712842629662,14.1153102868665,21.08689058573833,1.5898245152106472,1.8188043250079722,35.28152961081219,3.1058752585595037]}];\n",
       " var layout_v610J7YmLS = {\"height\":350,\"width\":350,\"hovermode\":\"closest\",\"title\":{\"text\":\"The MultiChart from Above\"},\"showlegend\":false,\"grid\":{\"rows\":1,\"columns\":2,\"pattern\":\"independent\"},\"xaxis\":{\"title\":{\"text\":\"x1\"},\"showgrid\":true,\"zeroline\":false,\"showline\":false},\"yaxis\":{\"showgrid\":true,\"zeroline\":false,\"showline\":false},\"xaxis2\":{\"title\":{\"text\":\"x2\"},\"showgrid\":true,\"zeroline\":false,\"showline\":false},\"yaxis2\":{\"showgrid\":true,\"zeroline\":false,\"showline\":false}};\n",
       " var config_v610J7YmLS = {\"responsive\":true,\"scrollZoom\":true,\"displaylogo\":false};\n",
       " Plotly.newPlot(\"graph_v610J7YmLS\", traces_v610J7YmLS, layout_v610J7YmLS, config_v610J7YmLS);\n",
       "</script> \n"
      ]
     },
     "metadata": {},
     "output_type": "display_data"
    }
   ],
   "source": [
    "// first define the x-axes we will use in the plot\n",
    "val ax1 = XAxis(title = \"x axis 1\")\n",
    "val ax2 = XAxis(title = \"x axis 2\")\n",
    "val ax3 = XAxis(title = \"x axis 3\")\n",
    "val ax4 = XAxis(title = \"x axis 4\")\n",
    "\n",
    "// first define the y-axes we will use in the plot\n",
    "val ax6 = YAxis(title = \"y axis 1\")\n",
    "val ax7 = YAxis(title = \"y axis 2\")\n",
    "val ax8 = YAxis(title = \"y axis 3\")\n",
    "val ax9 = YAxis(title = \"y axis 4\")\n",
    "\n",
    "// it may be necessary to play around with the chart dimensions and margin  in order to ensure a good fit on screen.\n",
    "val dim = 350\n",
    "\n",
    "val chart1 = (\n",
    "    Chart()\n",
    "    setDimensions(width = dim, height = dim)\n",
    "    addSeries XY(x, y).setName(\"a\") \n",
    "    addAxes(ax1, ax6)\n",
    "    setMargin(l=50, r=30, t=50, b=50)\n",
    ")\n",
    "\n",
    "val chart2 = (\n",
    "    Chart() \n",
    "    setDimensions(width = dim, height = dim)\n",
    "    addSeries XY(x, y).setName(\"b\") \n",
    "    addAxes(ax2, ax7)\n",
    "    setMargin(l=50, r=50, t=50, b=50)\n",
    ")\n",
    "\n",
    "val chart3 = (\n",
    "    Chart()\n",
    "    setDimensions(width = dim, height = dim)\n",
    "    addSeries XY(x, y).setName(\"c\") \n",
    "    addAxes(ax3, ax8)\n",
    "    setMargin(l=50, r=30, t=50, b=50)\n",
    ")\n",
    "\n",
    "val chart4 = (\n",
    "    Chart()\n",
    "    setDimensions(width = dim, height = dim)\n",
    "    addSeries(series1, series2)\n",
    "    setTitle \"The MultiChart from Above\"\n",
    "    addAxes(xaxis1, yaxis1, xaxis2, yaxis2) // these axes come from above\n",
    "    setConfig(config)\n",
    "    asMultiChart(1, 2)\n",
    ")\n",
    "\n",
    "// The canvas has an underlying grid. By default the underlying grid is 1x1, but we can pass in the dimensions we \n",
    "// require by passing in parameters in the constructor.\n",
    "Canvas(2, 2)\n",
    ".setChart(0, 0, chart1)\n",
    ".setChart(0, 1, chart2)\n",
    ".setChart(1, 0, chart3)\n",
    ".setChart(1, 1, chart4)\n",
    ".plotInline"
   ]
  },
  {
   "cell_type": "markdown",
   "metadata": {},
   "source": [
    "### Other Types of Charts\n",
    "\n",
    "The next examples will demonstrate how to create a variety of `Chart`s. All of the examples below are composable with the `Canvas` subplot system.\n",
    "\n",
    "#### Pie Chart"
   ]
  },
  {
   "cell_type": "code",
   "execution_count": 16,
   "metadata": {},
   "outputs": [
    {
     "data": {
      "text/html": [
       "<div id=\"grid_UCC0vbAk6S\" align=\"center\"> \n",
       "<div id='graph_bHXASTsqiH' class='graph'></div> \n",
       "</div> \n",
       "<script>\n",
       "var masonry = new Macy({\n",
       "    container: '#grid_UCC0vbAk6S',\n",
       "    debug: true,\n",
       "    mobileFirst: true,\n",
       "    columns: 1,\n",
       "  });\n",
       "\n",
       " var traces_bHXASTsqiH = [{\"name\":\"UQ55fPRlkg\",\"type\":\"pie\",\"values\":[19,26,55],\"labels\":[\"Residential\",\"Non-Residential\",\"Utility\"]}];\n",
       " var layout_bHXASTsqiH = {\"height\":550,\"width\":600,\"hovermode\":\"closest\",\"title\":{\"text\":\"Pie Chart\"},\"showlegend\":false};\n",
       " var config_bHXASTsqiH = {\"responsive\":true,\"scrollZoom\":true,\"displaylogo\":false};\n",
       " Plotly.newPlot(\"graph_bHXASTsqiH\", traces_bHXASTsqiH, layout_bHXASTsqiH, config_bHXASTsqiH);\n",
       "</script> \n"
      ]
     },
     "metadata": {},
     "output_type": "display_data"
    }
   ],
   "source": [
    "// pie charts can be composed in a similar way to what we have seen. \n",
    "// A pie chart is an XY chart as it takes in two data series.\n",
    "val series = XY(x=List(19, 26, 55), y=List(\"Residential\", \"Non-Residential\", \"Utility\")) asType PIE\n",
    "\n",
    "// We can directly operate on the Layout object too for finer grain control. Let's set the title by composing the \n",
    "// Layout object\n",
    "val layout = Layout(\"Pie Chart\")\n",
    "\n",
    "val chart = Chart() addSeries series setLayout layout setConfig config\n",
    "\n",
    "Canvas()\n",
    ".addCharts(chart)\n",
    ".plotInline"
   ]
  },
  {
   "cell_type": "markdown",
   "metadata": {},
   "source": [
    "#### Histogram"
   ]
  },
  {
   "cell_type": "code",
   "execution_count": 17,
   "metadata": {},
   "outputs": [
    {
     "data": {
      "text/html": [
       "<div id=\"grid_U6faJO31jh\" align=\"center\"> \n",
       "<div id='graph_dWNi8MOqaX' class='graph'></div> \n",
       "</div> \n",
       "<script>\n",
       "var masonry = new Macy({\n",
       "    container: '#grid_U6faJO31jh',\n",
       "    debug: true,\n",
       "    mobileFirst: true,\n",
       "    columns: 1,\n",
       "  });\n",
       "\n",
       " var traces_dWNi8MOqaX = [{\"name\":\"e24w1giGfz\",\"type\":\"histogram\",\"x\":[8.390598895990342,18.920915037116448,25.11210366149747,29.845764585195166,36.770848980790305,18.12518603432628,42.742385421376916,31.259186357610965,21.746393657707408,34.53726775850667,15.980050171805631,16.18004051500038,6.872716175942778,24.28167658371913,38.500981831016034,4.518787006234892,6.961407811872217,26.06455908470085,15.19281035501105,16.479234140820132,23.192859210649036,33.377167419711675,6.263612304639038,19.140902734216276,6.982166963781039,44.014311641637086,15.816889481982994,25.616542524526782,36.64397362619223,18.739185309769578,5.466811090334844,26.589807196424253,37.161711550216985,13.201284985477102,27.483829153993817,20.219708431216194,47.43900812892376,49.80208856964882,18.68918480001282,37.892630260664305,21.29575704626174,19.103502931316065,25.85791380493844,40.109321856041824,38.16863994245904,43.58702489475207,45.74344967842783,28.913410163758215,46.98563218993759,0.0969085431887784,8.00292176097206,40.699647579691764,22.006317508382057,31.138558383709746,7.280795333004425,45.98421045651048,22.554564619377164,29.353726168504497,1.4994910438875408,40.77604290851667,19.517429592475636,3.9570184083597084,37.009139988507705,17.55735108554017,30.243870092437785,32.69356836305539,37.664659860006005,2.5630157854780453,40.049158549642655,17.965646267364267,4.1268395366404365,40.04281581220873,32.91561803621916,1.1763771480146956,11.725136687211856,43.49700493678898,6.177592823283246,45.05158519958699,20.073418797375385,18.494915491474234,3.9883210282334822,19.726238562656683,15.29587443053777,41.61792739753959,22.18864041354513,24.719791557113137,46.19887049829606,5.312240726167294,12.83222728968037,45.5751558563951,39.0154979709956,8.993568003127727,0.06933440896036425,30.8989220272618,31.45311013279327,42.614993477802855,10.350764165104586,32.8158132058208,5.690157715413485,20.090863267838593]}];\n",
       " var layout_dWNi8MOqaX = {\"height\":550,\"width\":600,\"hovermode\":\"closest\",\"title\":{\"text\":\"Histogram with axes\"},\"showlegend\":false,\"xaxis\":{\"title\":{\"text\":\"my x data\"},\"showgrid\":true,\"zeroline\":false,\"showline\":false},\"yaxis\":{\"title\":{\"text\":\"my y data\"},\"showgrid\":true,\"zeroline\":false,\"showline\":false}};\n",
       " var config_dWNi8MOqaX = {\"responsive\":true,\"scrollZoom\":true,\"displaylogo\":false};\n",
       " Plotly.newPlot(\"graph_dWNi8MOqaX\", traces_dWNi8MOqaX, layout_dWNi8MOqaX, config_dWNi8MOqaX);\n",
       "</script> \n"
      ]
     },
     "metadata": {},
     "output_type": "display_data"
    }
   ],
   "source": [
    "val series = XY(x=x) asType HISTOGRAM\n",
    "\n",
    "val xaxis = XAxis(title = \"my x data\")\n",
    "val yaxis = YAxis(title = \"my y data\")\n",
    "\n",
    "val chart = (\n",
    "    Chart() \n",
    "    addSeries series\n",
    "    setTitle \"Histogram with axes\"\n",
    "    addAxes(xaxis, yaxis)\n",
    ")\n",
    "\n",
    "Canvas()\n",
    ".addCharts(chart)\n",
    ".plotInline"
   ]
  },
  {
   "cell_type": "markdown",
   "metadata": {},
   "source": [
    "#### Customizing colors for a Histogram\n",
    "\n",
    "We can use the `HistOptions` class to further specify options for a histogram. For example, if we wanted to create a horizontally positioned histogram, we can do the following:"
   ]
  },
  {
   "cell_type": "code",
   "execution_count": 18,
   "metadata": {},
   "outputs": [],
   "source": [
    "import org.carbonateresearch.picta.options.histogram.HistOptions\n",
    "import org.carbonateresearch.picta.options.Line\n",
    "import org.carbonateresearch.picta.options.HORIZONTAL"
   ]
  },
  {
   "cell_type": "code",
   "execution_count": 19,
   "metadata": {},
   "outputs": [
    {
     "data": {
      "text/html": [
       "<div id=\"grid_jKSPfe09rM\" align=\"center\"> \n",
       "<div id='graph_6euZ7Mn5jL' class='graph'></div> \n",
       "</div> \n",
       "<script>\n",
       "var masonry = new Macy({\n",
       "    container: '#grid_jKSPfe09rM',\n",
       "    debug: true,\n",
       "    mobileFirst: true,\n",
       "    columns: 1,\n",
       "  });\n",
       "\n",
       " var traces_6euZ7Mn5jL = [{\"name\":\"STSFYbIpab\",\"type\":\"histogram\",\"marker\":{\"color\":\"rgba(255, 100, 102, 0.5)\",\"line\":{\"width\":0.5}},\"y\":[8.390598895990342,18.920915037116448,25.11210366149747,29.845764585195166,36.770848980790305,18.12518603432628,42.742385421376916,31.259186357610965,21.746393657707408,34.53726775850667,15.980050171805631,16.18004051500038,6.872716175942778,24.28167658371913,38.500981831016034,4.518787006234892,6.961407811872217,26.06455908470085,15.19281035501105,16.479234140820132,23.192859210649036,33.377167419711675,6.263612304639038,19.140902734216276,6.982166963781039,44.014311641637086,15.816889481982994,25.616542524526782,36.64397362619223,18.739185309769578,5.466811090334844,26.589807196424253,37.161711550216985,13.201284985477102,27.483829153993817,20.219708431216194,47.43900812892376,49.80208856964882,18.68918480001282,37.892630260664305,21.29575704626174,19.103502931316065,25.85791380493844,40.109321856041824,38.16863994245904,43.58702489475207,45.74344967842783,28.913410163758215,46.98563218993759,0.0969085431887784,8.00292176097206,40.699647579691764,22.006317508382057,31.138558383709746,7.280795333004425,45.98421045651048,22.554564619377164,29.353726168504497,1.4994910438875408,40.77604290851667,19.517429592475636,3.9570184083597084,37.009139988507705,17.55735108554017,30.243870092437785,32.69356836305539,37.664659860006005,2.5630157854780453,40.049158549642655,17.965646267364267,4.1268395366404365,40.04281581220873,32.91561803621916,1.1763771480146956,11.725136687211856,43.49700493678898,6.177592823283246,45.05158519958699,20.073418797375385,18.494915491474234,3.9883210282334822,19.726238562656683,15.29587443053777,41.61792739753959,22.18864041354513,24.719791557113137,46.19887049829606,5.312240726167294,12.83222728968037,45.5751558563951,39.0154979709956,8.993568003127727,0.06933440896036425,30.8989220272618,31.45311013279327,42.614993477802855,10.350764165104586,32.8158132058208,5.690157715413485,20.090863267838593]}];\n",
       " var layout_6euZ7Mn5jL = {\"height\":550,\"width\":600,\"hovermode\":\"closest\",\"title\":{\"text\":\"XY.Histogram.Color\"},\"showlegend\":false};\n",
       " var config_6euZ7Mn5jL = {\"responsive\":true,\"scrollZoom\":true,\"displaylogo\":false};\n",
       " Plotly.newPlot(\"graph_6euZ7Mn5jL\", traces_6euZ7Mn5jL, layout_6euZ7Mn5jL, config_6euZ7Mn5jL);\n",
       "</script> \n"
      ]
     },
     "metadata": {},
     "output_type": "display_data"
    }
   ],
   "source": [
    "// we can also compose customizations in much the same way:\n",
    "val marker = Marker() setColor \"rgba(255, 100, 102, 0.5)\" setLine Line()\n",
    "\n",
    "// change xkey to y to get a horizontal histogram\n",
    "val series = (\n",
    "    XY(x) \n",
    "    asType HISTOGRAM\n",
    "    setMarker marker\n",
    "    setHistOptions HistOptions(orientation = HORIZONTAL)\n",
    ")\n",
    "\n",
    "val chart = (\n",
    "    Chart() \n",
    "    addSeries series \n",
    "    setTitle \"XY.Histogram.Color\"\n",
    ")\n",
    "\n",
    "Canvas()\n",
    ".addCharts(chart)\n",
    ".plotInline"
   ]
  },
  {
   "cell_type": "markdown",
   "metadata": {},
   "source": [
    "#### 2D Histogram Contour"
   ]
  },
  {
   "cell_type": "code",
   "execution_count": 20,
   "metadata": {},
   "outputs": [
    {
     "data": {
      "text/html": [
       "<div id=\"grid_E5uftam0RN\" align=\"center\"> \n",
       "<div id='graph_ybRacgyC3O' class='graph'></div> \n",
       "</div> \n",
       "<script>\n",
       "var masonry = new Macy({\n",
       "    container: '#grid_E5uftam0RN',\n",
       "    debug: true,\n",
       "    mobileFirst: true,\n",
       "    columns: 1,\n",
       "  });\n",
       "\n",
       " var traces_ybRacgyC3O = [{\"name\":\"pLhetRXYBw\",\"type\":\"histogram2dcontour\",\"mode\":\"markers\",\"x\":[1,2,3,4,5,6,7,8,9,10,11,12,13,14,15,16,17,18,19,20,21,22,23,24,25,26,27,28,29,30,31,32,33,34,35,36,37,38,39,40,41,42,43,44,45,46,47,48,49],\"y\":[35.53481942116024,72.57617961738984,54.13135631050893,66.5107368022723,50.23779768383073,18.09034481132355,25.20620313832435,94.01592057921135,51.192417449095565,54.52538599257231,47.74516154852184,14.687953284036205,24.62608263748435,83.08230772382092,99.61732701483012,64.1072308344462,93.6145532995078,97.83375411973958,20.798947853678346,107.2998616688084,110.08889294166138,77.9602432336288,66.65991091352873,40.93543035506424,55.67237230054928,111.87009364242338,31.354894522710072,124.53527722616589,55.46417539895213,124.53182642581393,32.39894980042645,68.12350182092638,111.7187605102582,126.71101925611318,70.65171883311518,83.92873562205351,132.82675263317478,42.79194046270914,118.70407977284265,130.54550662035803,67.08527629633913,102.47751509632779,45.05552644051642,139.3897614177721,50.45268989328499,100.89951359268841,51.49010609923022,115.33397637407472,142.81468823696403]}];\n",
       " var layout_ybRacgyC3O = {\"height\":550,\"width\":600,\"hovermode\":\"closest\",\"title\":{\"text\":\"2D Histogram Contour\"},\"showlegend\":false};\n",
       " var config_ybRacgyC3O = {\"responsive\":true,\"scrollZoom\":true,\"displaylogo\":false};\n",
       " Plotly.newPlot(\"graph_ybRacgyC3O\", traces_ybRacgyC3O, layout_ybRacgyC3O, config_ybRacgyC3O);\n",
       "</script> \n"
      ]
     },
     "metadata": {},
     "output_type": "display_data"
    }
   ],
   "source": [
    "val x = List.range(1, 50)\n",
    "val y = x.map(x => x + scala.util.Random.nextDouble()*100)\n",
    "\n",
    "val series = XY(x, y).asType(HISTOGRAM2DCONTOUR).drawMarkers\n",
    "\n",
    "val chart = (\n",
    "    Chart() addSeries series\n",
    "    setTitle \"2D Histogram Contour\"\n",
    ")\n",
    "\n",
    "Canvas().addCharts(chart).plotInline"
   ]
  },
  {
   "cell_type": "markdown",
   "metadata": {},
   "source": [
    "#### Adding additional axes\n",
    "\n",
    "As the above is a density plot, adding histograms can be useful too.\n",
    "\n",
    "We can add histograms as follows:"
   ]
  },
  {
   "cell_type": "code",
   "execution_count": 21,
   "metadata": {},
   "outputs": [],
   "source": [
    "import org.carbonateresearch.picta.options.histogram2d.Hist2dOptions"
   ]
  },
  {
   "cell_type": "code",
   "execution_count": 22,
   "metadata": {},
   "outputs": [
    {
     "data": {
      "text/html": [
       "<div id=\"grid_xNzfA9OHzJ\" align=\"center\"> \n",
       "<div id='graph_mYxgAMkfrm' class='graph'></div> \n",
       "</div> \n",
       "<script>\n",
       "var masonry = new Macy({\n",
       "    container: '#grid_xNzfA9OHzJ',\n",
       "    debug: true,\n",
       "    mobileFirst: true,\n",
       "    columns: 1,\n",
       "  });\n",
       "\n",
       " var traces_mYxgAMkfrm = [{\"name\":\"points\",\"type\":\"scatter\",\"mode\":\"markers\",\"marker\":{\"color\":\"rgb(102,0,0)\"},\"x\":[1,2,3,4,5,6,7,8,9,10,11,12,13,14,15,16,17,18,19,20,21,22,23,24,25,26,27,28,29,30,31,32,33,34,35,36,37,38,39,40,41,42,43,44,45,46,47,48,49],\"y\":[35.53481942116024,72.57617961738984,54.13135631050893,66.5107368022723,50.23779768383073,18.09034481132355,25.20620313832435,94.01592057921135,51.192417449095565,54.52538599257231,47.74516154852184,14.687953284036205,24.62608263748435,83.08230772382092,99.61732701483012,64.1072308344462,93.6145532995078,97.83375411973958,20.798947853678346,107.2998616688084,110.08889294166138,77.9602432336288,66.65991091352873,40.93543035506424,55.67237230054928,111.87009364242338,31.354894522710072,124.53527722616589,55.46417539895213,124.53182642581393,32.39894980042645,68.12350182092638,111.7187605102582,126.71101925611318,70.65171883311518,83.92873562205351,132.82675263317478,42.79194046270914,118.70407977284265,130.54550662035803,67.08527629633913,102.47751509632779,45.05552644051642,139.3897614177721,50.45268989328499,100.89951359268841,51.49010609923022,115.33397637407472,142.81468823696403]},{\"name\":\"density\",\"type\":\"histogram2dcontour\",\"ncontours\":20,\"reversescale\":false,\"showscale\":true,\"x\":[1,2,3,4,5,6,7,8,9,10,11,12,13,14,15,16,17,18,19,20,21,22,23,24,25,26,27,28,29,30,31,32,33,34,35,36,37,38,39,40,41,42,43,44,45,46,47,48,49],\"y\":[35.53481942116024,72.57617961738984,54.13135631050893,66.5107368022723,50.23779768383073,18.09034481132355,25.20620313832435,94.01592057921135,51.192417449095565,54.52538599257231,47.74516154852184,14.687953284036205,24.62608263748435,83.08230772382092,99.61732701483012,64.1072308344462,93.6145532995078,97.83375411973958,20.798947853678346,107.2998616688084,110.08889294166138,77.9602432336288,66.65991091352873,40.93543035506424,55.67237230054928,111.87009364242338,31.354894522710072,124.53527722616589,55.46417539895213,124.53182642581393,32.39894980042645,68.12350182092638,111.7187605102582,126.71101925611318,70.65171883311518,83.92873562205351,132.82675263317478,42.79194046270914,118.70407977284265,130.54550662035803,67.08527629633913,102.47751509632779,45.05552644051642,139.3897614177721,50.45268989328499,100.89951359268841,51.49010609923022,115.33397637407472,142.81468823696403]},{\"name\":\"histogram\",\"type\":\"histogram\",\"yaxis\":\"y2\",\"x\":[1,2,3,4,5,6,7,8,9,10,11,12,13,14,15,16,17,18,19,20,21,22,23,24,25,26,27,28,29,30,31,32,33,34,35,36,37,38,39,40,41,42,43,44,45,46,47,48,49]},{\"name\":\"y density\",\"type\":\"histogram\",\"xaxis\":\"x2\",\"marker\":{\"color\":\"rgb(102,0,0)\"},\"y\":[35.53481942116024,72.57617961738984,54.13135631050893,66.5107368022723,50.23779768383073,18.09034481132355,25.20620313832435,94.01592057921135,51.192417449095565,54.52538599257231,47.74516154852184,14.687953284036205,24.62608263748435,83.08230772382092,99.61732701483012,64.1072308344462,93.6145532995078,97.83375411973958,20.798947853678346,107.2998616688084,110.08889294166138,77.9602432336288,66.65991091352873,40.93543035506424,55.67237230054928,111.87009364242338,31.354894522710072,124.53527722616589,55.46417539895213,124.53182642581393,32.39894980042645,68.12350182092638,111.7187605102582,126.71101925611318,70.65171883311518,83.92873562205351,132.82675263317478,42.79194046270914,118.70407977284265,130.54550662035803,67.08527629633913,102.47751509632779,45.05552644051642,139.3897614177721,50.45268989328499,100.89951359268841,51.49010609923022,115.33397637407472,142.81468823696403]}];\n",
       " var layout_mYxgAMkfrm = {\"height\":550,\"width\":600,\"hovermode\":\"closest\",\"title\":{\"text\":\"XY.Histogram2dContour.WithDensity\"},\"showlegend\":false,\"autosize\":false,\"xaxis\":{\"showgrid\":false,\"zeroline\":false,\"showline\":false,\"domain\":[0,0.85]},\"yaxis\":{\"showgrid\":false,\"zeroline\":false,\"showline\":false,\"domain\":[0,0.85]},\"xaxis2\":{\"showgrid\":false,\"zeroline\":false,\"showline\":false,\"domain\":[0.85,1]},\"yaxis2\":{\"showgrid\":false,\"zeroline\":false,\"showline\":false,\"domain\":[0.85,1]}};\n",
       " var config_mYxgAMkfrm = {\"responsive\":true,\"scrollZoom\":true,\"displaylogo\":false};\n",
       " Plotly.newPlot(\"graph_mYxgAMkfrm\", traces_mYxgAMkfrm, layout_mYxgAMkfrm, config_mYxgAMkfrm);\n",
       "</script> \n"
      ]
     },
     "metadata": {},
     "output_type": "display_data"
    }
   ],
   "source": [
    "val marker = Marker() setColor \"rgb(102,0,0)\"\n",
    "\n",
    "val series1 = XY(x, y) \n",
    "            .asType(SCATTER)\n",
    "            .drawMarkers\n",
    "            .setName(\"points\")\n",
    "            .setMarker(marker)\n",
    "\n",
    "\n",
    "val hist2d_options = Hist2dOptions(ncontours = 20, reversescale = false, showscale = true)\n",
    "\n",
    "val series2 = XY(x, y) \n",
    "            .setName(\"density\")\n",
    "            .asType(HISTOGRAM2DCONTOUR)\n",
    "            .setHist2dOptions(hist2d_options)\n",
    "\n",
    "val series3 = XY(x = x)\n",
    "            .asType(HISTOGRAM)\n",
    "            .setName(\"histogram\")\n",
    "            .setAxes(XAxis(), YAxis(2))\n",
    "\n",
    "val series4 = (XY(y)\n",
    "            .setName(\"y density\")\n",
    "            .asType(HISTOGRAM)\n",
    "            .setAxis(XAxis(2))\n",
    "            .setMarker(marker)\n",
    "            .setHistOptions(HistOptions(orientation = HORIZONTAL)))\n",
    "\n",
    "val ax1 = XAxis(showgrid = false) setDomain(0.0, 0.85)\n",
    "val ax2 = YAxis(showgrid = false) setDomain(0.0, 0.85)\n",
    "val ax3 = XAxis(position = 2, showgrid = false) setDomain(0.85, 1.0)\n",
    "val ax4 = YAxis(position = 2, showgrid = false) setDomain(0.85, 1.0)\n",
    "\n",
    "val layout = (\n",
    "    Layout(\"XY.Histogram2dContour.WithDensity\", autosize = false) \n",
    "    setAxes(ax1, ax2, ax3, ax4)\n",
    ")\n",
    "\n",
    "val chart = Chart() addSeries(series1, series2, series3, series4) setLayout layout\n",
    "\n",
    "val canvas = Canvas() addCharts chart\n",
    "\n",
    "canvas.plotInline"
   ]
  },
  {
   "cell_type": "markdown",
   "metadata": {},
   "source": [
    "### 3D Charts\n",
    "\n",
    "3D charts are constructed using a `XYZ` series as they take in 3 `Series`' to create a single point.\n",
    "\n",
    "The Picta API does not accept nested lists, however the underlying Plotlyjs render does. In order to render any series that will make use of a nested list, we must flatten and provide the length of an element (before the list was flattened).\n",
    "\n",
    "The following examples will make it clearer.\n",
    "\n",
    "#### Contour"
   ]
  },
  {
   "cell_type": "code",
   "execution_count": 23,
   "metadata": {},
   "outputs": [],
   "source": [
    "// lets create some dummy adata for the third dimension\n",
    "val x = List(-9, -6, -5 , -3, -1)\n",
    "val y = List(0, 1, 4, 5, 7)\n",
    "val z = List(\n",
    "    List(10, 10.625, 12.5, 15.625, 20),\n",
    "    List(5.625, 6.25, 8.125, 11.25, 15.625),\n",
    "    List(2.5, 3.125, 5.0, 8.125, 12.5),\n",
    "    List(0.625, 1.25, 3.125, 6.25, 10.625),\n",
    "    List(0, 0.625, 2.5, 5.625, 10)\n",
    ")"
   ]
  },
  {
   "cell_type": "code",
   "execution_count": 24,
   "metadata": {},
   "outputs": [
    {
     "data": {
      "text/html": [
       "<div id=\"grid_JuD70bgqeH\" align=\"center\"> \n",
       "<div id='graph_oFYfKIz6Fh' class='graph'></div> \n",
       "</div> \n",
       "<script>\n",
       "var masonry = new Macy({\n",
       "    container: '#grid_JuD70bgqeH',\n",
       "    debug: true,\n",
       "    mobileFirst: true,\n",
       "    columns: 1,\n",
       "  });\n",
       "\n",
       " var traces_oFYfKIz6Fh = [{\"name\":\"88qaMvRmjv\",\"type\":\"contour\",\"x\":[-9,-6,-5,-3,-1],\"y\":[0,1,4,5,7],\"z\":[[10,10.625,12.5,15.625,20],[5.625,6.25,8.125,11.25,15.625],[2.5,3.125,5,8.125,12.5],[0.625,1.25,3.125,6.25,10.625],[0,0.625,2.5,5.625,10]]}];\n",
       " var layout_oFYfKIz6Fh = {\"height\":550,\"width\":600,\"hovermode\":\"closest\",\"title\":{\"text\":\"Contour\"},\"showlegend\":false};\n",
       " var config_oFYfKIz6Fh = {\"responsive\":true,\"scrollZoom\":true,\"displaylogo\":false};\n",
       " Plotly.newPlot(\"graph_oFYfKIz6Fh\", traces_oFYfKIz6Fh, layout_oFYfKIz6Fh, config_oFYfKIz6Fh);\n",
       "</script> \n"
      ]
     },
     "metadata": {},
     "output_type": "display_data"
    }
   ],
   "source": [
    "// we flatten the nested list as we pass it into the Series constructor\n",
    "val series = XYZ(x=x, y=y, z=z.flatten, n=z(0).length).asType(CONTOUR)\n",
    "\n",
    "// set up the chart\n",
    "val chart = Chart()\n",
    "            .addSeries(series)\n",
    "            .setTitle(\"Contour\")\n",
    "\n",
    "// plot the chart\n",
    "Canvas()\n",
    ".addCharts(chart)\n",
    ".plotInline"
   ]
  },
  {
   "cell_type": "markdown",
   "metadata": {},
   "source": [
    "#### Heatmap"
   ]
  },
  {
   "cell_type": "code",
   "execution_count": 25,
   "metadata": {
    "scrolled": false
   },
   "outputs": [],
   "source": [
    "// create a new nested list for the heatmap\n",
    "val z = List.range(1, 101).map(e => e + scala.util.Random.nextDouble()*100).grouped(10).toList"
   ]
  },
  {
   "cell_type": "code",
   "execution_count": 26,
   "metadata": {},
   "outputs": [
    {
     "data": {
      "text/html": [
       "<div id=\"grid_xIBYbv9kA2\" align=\"center\"> \n",
       "<div id='graph_BmXe1bTNtf' class='graph'></div> \n",
       "</div> \n",
       "<script>\n",
       "var masonry = new Macy({\n",
       "    container: '#grid_xIBYbv9kA2',\n",
       "    debug: true,\n",
       "    mobileFirst: true,\n",
       "    columns: 1,\n",
       "  });\n",
       "\n",
       " var traces_BmXe1bTNtf = [{\"name\":\"HxXiEJyZWB\",\"type\":\"heatmap\",\"z\":[[73.14110104047094,14.97716799609553,79.54975693597056,65.97272811043158,45.46820963117457,99.92382392287028,99.7585041313454,64.54231498387831,98.91896847792292,53.52614067053489],[27.644208648306112,26.891694294240985,17.1935834612119,87.75010250331057,58.69533302791545,109.500536574475,99.66660202913455,30.239617419250614,43.330306245109654,47.64606642762956],[36.309036828693145,35.525801906816,53.33714960436099,60.73946069725709,122.93078933859854,49.83853829990039,98.47988632915852,52.17793776811308,60.777197569229166,79.63328996594123],[44.190342796450715,101.72587803651581,45.939273588951615,113.65308975306804,100.50217767296076,118.45778100832646,56.08803858640856,113.67766880458286,62.24728812670732,107.94043574591136],[84.71910720021484,120.068751283501,81.0230220949697,108.60121246228012,56.39443665994284,114.80256699338219,140.5519050718779,69.1238977927151,80.39398756903852,146.8876089627453],[88.79382880165267,71.23304085521596,64.74078396908205,152.89778049407715,152.53403687201325,150.37229352645392,117.73865072650639,98.80806923403405,123.15838510575882,130.5517819747676],[109.96271498507521,128.4018558267897,155.94074905567493,69.03405992000289,156.06847516150546,128.2261351850209,69.40566766528615,101.54772097587819,102.83611755722362,109.40279867372959],[166.19265077889978,89.3623101257927,77.54242905768686,162.56130798869935,122.33675107645989,95.82766410910219,159.05353778495896,163.73998421696524,107.99343583527889,161.8753643425584],[82.95744837097256,96.3102943045503,109.3739497695839,107.49952201444853,181.60608417055914,106.81042783682715,119.02068112461245,159.37863912745098,90.11241997382704,131.03160841729118],[149.54035039078053,93.56980749080428,120.148987583592,110.78250811481301,104.52609273197598,186.60105722597052,114.81985207784203,171.4642208480046,109.63778642691913,188.3072129798956]]}];\n",
       " var layout_BmXe1bTNtf = {\"height\":550,\"width\":600,\"hovermode\":\"closest\",\"title\":{\"text\":\"XYZ.Heatmap\"},\"showlegend\":false};\n",
       " var config_BmXe1bTNtf = {\"responsive\":true,\"scrollZoom\":true,\"displaylogo\":false};\n",
       " Plotly.newPlot(\"graph_BmXe1bTNtf\", traces_BmXe1bTNtf, layout_BmXe1bTNtf, config_BmXe1bTNtf);\n",
       "</script> \n"
      ]
     },
     "metadata": {},
     "output_type": "display_data"
    }
   ],
   "source": [
    "// we get the length of an element of the nested list\n",
    "val n = z(0).length\n",
    "\n",
    "// we now flatten the list and pass it into Series constructor, as well as 'n', the length of an element so that the \n",
    "// heatmap dimensions are correctly constructed\n",
    "val series = XYZ(z=z.flatten, n=n) asType HEATMAP\n",
    "\n",
    "val chart = Chart() addSeries series setTitle \"XYZ.Heatmap\"\n",
    "\n",
    "Canvas()\n",
    ".addCharts(chart)\n",
    ".plotInline"
   ]
  },
  {
   "cell_type": "markdown",
   "metadata": {},
   "source": [
    "#### Scatter3D"
   ]
  },
  {
   "cell_type": "code",
   "execution_count": 27,
   "metadata": {},
   "outputs": [
    {
     "data": {
      "text/html": [
       "<div id=\"grid_iuQbMMpJyD\" align=\"center\"> \n",
       "<div id='graph_v6HuNzyj1l' class='graph'></div> \n",
       "</div> \n",
       "<script>\n",
       "var masonry = new Macy({\n",
       "    container: '#grid_iuQbMMpJyD',\n",
       "    debug: true,\n",
       "    mobileFirst: true,\n",
       "    columns: 1,\n",
       "  });\n",
       "\n",
       " var traces_v6HuNzyj1l = [{\"name\":\"9GgF0BqY1V\",\"type\":\"scatter3d\",\"mode\":\"markers\",\"x\":[1,2,3,4,5,6,7,8,9,10,11,12,13,14,15,16,17,18,19,20,21,22,23,24,25,26,27,28,29,30,31,32,33,34,35,36,37,38,39,40,41,42,43,44,45,46,47,48,49,50,51,52,53,54,55,56,57,58,59,60,61,62,63,64,65,66,67,68,69,70,71,72,73,74,75,76,77,78,79,80,81,82,83,84,85,86,87,88,89,90,91,92,93,94,95,96,97,98,99],\"y\":[1,2,3,4,5,6,7,8,9,10,11,12,13,14,15,16,17,18,19,20,21,22,23,24,25,26,27,28,29,30,31,32,33,34,35,36,37,38,39,40,41,42,43,44,45,46,47,48,49,50,51,52,53,54,55,56,57,58,59,60,61,62,63,64,65,66,67,68,69,70,71,72,73,74,75,76,77,78,79,80,81,82,83,84,85,86,87,88,89,90,91,92,93,94,95,96,97,98,99],\"z\":[24.62440235583033,54.83789943670627,62.21496635365517,24.337279696983302,78.6805122580073,27.64684379427809,35.36301698867321,54.54754459058042,32.587245036986914,97.11452265443985,86.42124522180835,55.30590934309636,103.91924591010142,70.05886854791876,111.9735017438406,46.01567966306358,47.158670118041826,91.3244817893315,96.36705768133004,36.94037267462082,102.81214798527225,34.23148718527567,101.6409446032334,82.02196786390516,101.77497116357424,124.84290831302579,83.83953347698966,48.2889678696087,81.59833279534493,87.98087242564642,69.95508237419303,61.51312601249313,105.39763258235513,131.53523088443274,84.13758816891146,49.19940934986267,73.84668809920689,104.84643812767727,81.82975630134565,104.04456477803176,86.0349167364293,76.80784957153368,136.12947543303954,133.6754801939298,135.92144121934533,79.82084437398183,121.9516895647124,145.77924587547744,127.70218302896446,56.84949125739611,60.45608386060026,141.66264060620006,55.61300846419182,130.5597323894562,118.72658225710643,155.82956599284512,121.52403948290528,85.89135703354944,107.83310568382157,84.34069067240618,157.13724494585261,120.39931816409984,86.17564847410856,90.5203703367947,76.68148878975859,70.314202558724,154.40521565851031,163.00168435201456,110.70624056753903,164.509985944609,123.23570860151301,128.15124375942028,161.90714922397967,93.43045697069871,146.1053733746441,86.5911266276367,79.87376660428959,105.51397097747623,134.91598005998674,151.83618458832547,173.23170122641557,159.76951760397014,118.9723805200566,117.99065150700872,164.8585030050792,169.89529725477786,164.76468480724043,172.99881284819753,148.68468103046806,172.694356648368,147.37980115296574,104.12028506830053,125.04817840705505,141.53006933113807,153.0985818397257,113.10119787939655,175.65275797832948,144.17753304290494,197.12941301626896]}];\n",
       " var layout_v6HuNzyj1l = {\"height\":550,\"width\":600,\"hovermode\":\"closest\",\"title\":{\"text\":\"XYZ.Scatter3D\"},\"showlegend\":false};\n",
       " var config_v6HuNzyj1l = {\"responsive\":true,\"scrollZoom\":true,\"displaylogo\":false};\n",
       " Plotly.newPlot(\"graph_v6HuNzyj1l\", traces_v6HuNzyj1l, layout_v6HuNzyj1l, config_v6HuNzyj1l);\n",
       "</script> \n"
      ]
     },
     "metadata": {},
     "output_type": "display_data"
    }
   ],
   "source": [
    "val x = List.range(1, 100)\n",
    "val y = List.range(1, 100)\n",
    "val z = List.range(1, 100).map(e => e + scala.util.Random.nextDouble()*100)\n",
    "\n",
    "val series = XYZ(x, y, z) asType SCATTER3D drawSymbol MARKERS\n",
    "val chart1 = Chart() addSeries series setLayout Layout(\"XYZ.Scatter3D\") setConfig config\n",
    "val canvas = Canvas() addCharts chart1\n",
    "canvas.plotInline"
   ]
  },
  {
   "cell_type": "markdown",
   "metadata": {},
   "source": [
    "#### Surface Plot"
   ]
  },
  {
   "cell_type": "code",
   "execution_count": 28,
   "metadata": {
    "scrolled": false
   },
   "outputs": [
    {
     "data": {
      "text/html": [
       "<div id=\"grid_95FO3pBoeI\" align=\"center\"> \n",
       "<div id='graph_qEYgy5WRoi' class='graph'></div> \n",
       "</div> \n",
       "<script>\n",
       "var masonry = new Macy({\n",
       "    container: '#grid_95FO3pBoeI',\n",
       "    debug: true,\n",
       "    mobileFirst: true,\n",
       "    columns: 1,\n",
       "  });\n",
       "\n",
       " var traces_qEYgy5WRoi = [{\"name\":\"BtIPpJJf3q\",\"type\":\"surface\",\"z\":[[8.83,8.89,8.81,8.87,8.9,8.87],[8.89,8.94,8.85,8.94,8.96,8.92],[8.84,8.9,8.82,8.92,8.93,8.91],[8.79,8.85,8.79,8.9,8.94,8.92],[8.79,8.88,8.81,8.9,8.95,8.92],[8.8,8.82,8.78,8.91,8.94,8.92],[8.75,8.78,8.77,8.91,8.95,8.92],[8.8,8.8,8.77,8.91,8.95,8.94],[8.74,8.81,8.76,8.93,8.98,8.99],[8.89,8.99,8.92,9.1,9.13,9.11],[8.97,8.97,8.91,9.09,9.11,9.11],[9.04,9.08,9.05,9.25,9.28,9.27],[9,9.01,9,9.2,9.23,9.2],[8.99,8.99,8.98,9.18,9.2,9.19],[8.93,8.97,8.97,9.18,9.2,9.18]]}];\n",
       " var layout_qEYgy5WRoi = {\"height\":550,\"width\":600,\"hovermode\":\"closest\",\"title\":{\"text\":\"XYZ.Surface\"},\"showlegend\":false};\n",
       " var config_qEYgy5WRoi = {\"responsive\":true,\"scrollZoom\":true,\"displaylogo\":false};\n",
       " Plotly.newPlot(\"graph_qEYgy5WRoi\", traces_qEYgy5WRoi, layout_qEYgy5WRoi, config_qEYgy5WRoi);\n",
       "</script> \n"
      ]
     },
     "metadata": {},
     "output_type": "display_data"
    }
   ],
   "source": [
    "// 3d surface plot\n",
    "val k = List(\n",
    "    List(8.83,8.89,8.81,8.87,8.9,8.87),\n",
    "    List(8.89,8.94,8.85,8.94,8.96,8.92),\n",
    "    List(8.84,8.9,8.82,8.92,8.93,8.91),\n",
    "    List(8.79,8.85,8.79,8.9,8.94,8.92),\n",
    "    List(8.79,8.88,8.81,8.9,8.95,8.92),\n",
    "    List(8.8,8.82,8.78,8.91,8.94,8.92),\n",
    "    List(8.75,8.78,8.77,8.91,8.95,8.92),\n",
    "    List(8.8,8.8,8.77,8.91,8.95,8.94),\n",
    "    List(8.74,8.81,8.76,8.93,8.98,8.99),\n",
    "    List(8.89,8.99,8.92,9.1,9.13,9.11),\n",
    "    List(8.97,8.97,8.91,9.09,9.11,9.11),\n",
    "    List(9.04,9.08,9.05,9.25,9.28,9.27),\n",
    "    List(9,9.01,9,9.2,9.23,9.2),\n",
    "    List(8.99,8.99,8.98,9.18,9.2,9.19),\n",
    "    List(8.93,8.97,8.97,9.18,9.2,9.18)\n",
    "  )\n",
    "\n",
    "val series = XYZ(z=k.flatten, n = k(0).length) asType SURFACE\n",
    "val chart2 = Chart() addSeries series setLayout Layout(\"XYZ.Surface\") setConfig config\n",
    "val canvas = Canvas() addCharts chart2\n",
    "\n",
    "canvas.plotInline"
   ]
  },
  {
   "cell_type": "markdown",
   "metadata": {
    "scrolled": false
   },
   "source": [
    "#### Third Dimension as Color"
   ]
  },
  {
   "cell_type": "code",
   "execution_count": 29,
   "metadata": {},
   "outputs": [
    {
     "data": {
      "text/html": [
       "<div id=\"grid_ZSlUKF5qN9\" align=\"center\"> \n",
       "<div id='graph_8ymyANdS04' class='graph'></div> \n",
       "</div> \n",
       "<script>\n",
       "var masonry = new Macy({\n",
       "    container: '#grid_ZSlUKF5qN9',\n",
       "    debug: true,\n",
       "    mobileFirst: true,\n",
       "    columns: 1,\n",
       "  });\n",
       "\n",
       " var traces_8ymyANdS04 = [{\"name\":\"t3ywtBGtdq\",\"type\":\"scatter\",\"mode\":\"markers\",\"marker\":{\"color\":[24.62440235583033,54.83789943670627,62.21496635365517,24.337279696983302,78.6805122580073,27.64684379427809,35.36301698867321,54.54754459058042,32.587245036986914,97.11452265443985,86.42124522180835,55.30590934309636,103.91924591010142,70.05886854791876,111.9735017438406,46.01567966306358,47.158670118041826,91.3244817893315,96.36705768133004,36.94037267462082,102.81214798527225,34.23148718527567,101.6409446032334,82.02196786390516,101.77497116357424,124.84290831302579,83.83953347698966,48.2889678696087,81.59833279534493,87.98087242564642,69.95508237419303,61.51312601249313,105.39763258235513,131.53523088443274,84.13758816891146,49.19940934986267,73.84668809920689,104.84643812767727,81.82975630134565,104.04456477803176,86.0349167364293,76.80784957153368,136.12947543303954,133.6754801939298,135.92144121934533,79.82084437398183,121.9516895647124,145.77924587547744,127.70218302896446,56.84949125739611,60.45608386060026,141.66264060620006,55.61300846419182,130.5597323894562,118.72658225710643,155.82956599284512,121.52403948290528,85.89135703354944,107.83310568382157,84.34069067240618,157.13724494585261,120.39931816409984,86.17564847410856,90.5203703367947,76.68148878975859,70.314202558724,154.40521565851031,163.00168435201456,110.70624056753903,164.509985944609,123.23570860151301,128.15124375942028,161.90714922397967,93.43045697069871,146.1053733746441,86.5911266276367,79.87376660428959,105.51397097747623,134.91598005998674,151.83618458832547,173.23170122641557,159.76951760397014,118.9723805200566,117.99065150700872,164.8585030050792,169.89529725477786,164.76468480724043,172.99881284819753,148.68468103046806,172.694356648368,147.37980115296574,104.12028506830053,125.04817840705505,141.53006933113807,153.0985818397257,113.10119787939655,175.65275797832948,144.17753304290494,197.12941301626896]},\"x\":[1,2,3,4,5,6,7,8,9,10,11,12,13,14,15,16,17,18,19,20,21,22,23,24,25,26,27,28,29,30,31,32,33,34,35,36,37,38,39,40,41,42,43,44,45,46,47,48,49,50,51,52,53,54,55,56,57,58,59,60,61,62,63,64,65,66,67,68,69,70,71,72,73,74,75,76,77,78,79,80,81,82,83,84,85,86,87,88,89,90,91,92,93,94,95,96,97,98,99],\"y\":[1,2,3,4,5,6,7,8,9,10,11,12,13,14,15,16,17,18,19,20,21,22,23,24,25,26,27,28,29,30,31,32,33,34,35,36,37,38,39,40,41,42,43,44,45,46,47,48,49,50,51,52,53,54,55,56,57,58,59,60,61,62,63,64,65,66,67,68,69,70,71,72,73,74,75,76,77,78,79,80,81,82,83,84,85,86,87,88,89,90,91,92,93,94,95,96,97,98,99]}];\n",
       " var layout_8ymyANdS04 = {\"height\":550,\"width\":600,\"hovermode\":\"closest\",\"title\":{\"text\":\"ScatterWithColor.Basic\"},\"showlegend\":false};\n",
       " var config_8ymyANdS04 = {\"responsive\":true,\"scrollZoom\":true,\"displaylogo\":false};\n",
       " Plotly.newPlot(\"graph_8ymyANdS04\", traces_8ymyANdS04, layout_8ymyANdS04, config_8ymyANdS04);\n",
       "</script> \n"
      ]
     },
     "metadata": {},
     "output_type": "display_data"
    }
   ],
   "source": [
    "// multiple compositions can be used to create scatter charts with a color representing some third dimension\n",
    "val marker = Marker() setColor z\n",
    "val series = XY(x, y) asType SCATTER drawSymbol MARKERS setMarker marker\n",
    "val chart3 = Chart() addSeries series setLayout Layout(\"ScatterWithColor.Basic\")\n",
    "val canvas = Canvas() addCharts chart3\n",
    "canvas.plotInline"
   ]
  },
  {
   "cell_type": "markdown",
   "metadata": {},
   "source": [
    "#### Subplot\n",
    "\n",
    "The Subplot class can be used to generate subplots for an XYZ plots just as we did previously."
   ]
  },
  {
   "cell_type": "code",
   "execution_count": 30,
   "metadata": {},
   "outputs": [
    {
     "data": {
      "text/html": [
       "<div id=\"grid_BZQzyPuC4n\" align=\"center\"> \n",
       "<div id='graph_bVuz1TtvaF' class='graph'></div> \n",
       "<div id='graph_k9Y8f05b75' class='graph'></div> \n",
       "<div id='graph_MvEQulWSGE' class='graph'></div> \n",
       "<div id='graph_F3hw1MxQ15' class='graph'></div> \n",
       "</div> \n",
       "<script>\n",
       "var masonry = new Macy({\n",
       "    container: '#grid_BZQzyPuC4n',\n",
       "    debug: true,\n",
       "    mobileFirst: true,\n",
       "    columns: 2,\n",
       "  });\n",
       "\n",
       " var traces_bVuz1TtvaF = [{\"name\":\"9GgF0BqY1V\",\"type\":\"scatter3d\",\"mode\":\"markers\",\"x\":[1,2,3,4,5,6,7,8,9,10,11,12,13,14,15,16,17,18,19,20,21,22,23,24,25,26,27,28,29,30,31,32,33,34,35,36,37,38,39,40,41,42,43,44,45,46,47,48,49,50,51,52,53,54,55,56,57,58,59,60,61,62,63,64,65,66,67,68,69,70,71,72,73,74,75,76,77,78,79,80,81,82,83,84,85,86,87,88,89,90,91,92,93,94,95,96,97,98,99],\"y\":[1,2,3,4,5,6,7,8,9,10,11,12,13,14,15,16,17,18,19,20,21,22,23,24,25,26,27,28,29,30,31,32,33,34,35,36,37,38,39,40,41,42,43,44,45,46,47,48,49,50,51,52,53,54,55,56,57,58,59,60,61,62,63,64,65,66,67,68,69,70,71,72,73,74,75,76,77,78,79,80,81,82,83,84,85,86,87,88,89,90,91,92,93,94,95,96,97,98,99],\"z\":[24.62440235583033,54.83789943670627,62.21496635365517,24.337279696983302,78.6805122580073,27.64684379427809,35.36301698867321,54.54754459058042,32.587245036986914,97.11452265443985,86.42124522180835,55.30590934309636,103.91924591010142,70.05886854791876,111.9735017438406,46.01567966306358,47.158670118041826,91.3244817893315,96.36705768133004,36.94037267462082,102.81214798527225,34.23148718527567,101.6409446032334,82.02196786390516,101.77497116357424,124.84290831302579,83.83953347698966,48.2889678696087,81.59833279534493,87.98087242564642,69.95508237419303,61.51312601249313,105.39763258235513,131.53523088443274,84.13758816891146,49.19940934986267,73.84668809920689,104.84643812767727,81.82975630134565,104.04456477803176,86.0349167364293,76.80784957153368,136.12947543303954,133.6754801939298,135.92144121934533,79.82084437398183,121.9516895647124,145.77924587547744,127.70218302896446,56.84949125739611,60.45608386060026,141.66264060620006,55.61300846419182,130.5597323894562,118.72658225710643,155.82956599284512,121.52403948290528,85.89135703354944,107.83310568382157,84.34069067240618,157.13724494585261,120.39931816409984,86.17564847410856,90.5203703367947,76.68148878975859,70.314202558724,154.40521565851031,163.00168435201456,110.70624056753903,164.509985944609,123.23570860151301,128.15124375942028,161.90714922397967,93.43045697069871,146.1053733746441,86.5911266276367,79.87376660428959,105.51397097747623,134.91598005998674,151.83618458832547,173.23170122641557,159.76951760397014,118.9723805200566,117.99065150700872,164.8585030050792,169.89529725477786,164.76468480724043,172.99881284819753,148.68468103046806,172.694356648368,147.37980115296574,104.12028506830053,125.04817840705505,141.53006933113807,153.0985818397257,113.10119787939655,175.65275797832948,144.17753304290494,197.12941301626896]}];\n",
       " var layout_bVuz1TtvaF = {\"height\":350,\"width\":350,\"hovermode\":\"closest\",\"title\":{\"text\":\"XYZ.Scatter3D\"},\"showlegend\":false,\"margin\":{\"l\":50,\"r\":50,\"t\":50,\"b\":50}};\n",
       " var config_bVuz1TtvaF = {\"responsive\":true,\"scrollZoom\":true,\"displaylogo\":false};\n",
       " Plotly.newPlot(\"graph_bVuz1TtvaF\", traces_bVuz1TtvaF, layout_bVuz1TtvaF, config_bVuz1TtvaF);\n",
       "\n",
       " var traces_k9Y8f05b75 = [{\"name\":\"BtIPpJJf3q\",\"type\":\"surface\",\"z\":[[8.83,8.89,8.81,8.87,8.9,8.87],[8.89,8.94,8.85,8.94,8.96,8.92],[8.84,8.9,8.82,8.92,8.93,8.91],[8.79,8.85,8.79,8.9,8.94,8.92],[8.79,8.88,8.81,8.9,8.95,8.92],[8.8,8.82,8.78,8.91,8.94,8.92],[8.75,8.78,8.77,8.91,8.95,8.92],[8.8,8.8,8.77,8.91,8.95,8.94],[8.74,8.81,8.76,8.93,8.98,8.99],[8.89,8.99,8.92,9.1,9.13,9.11],[8.97,8.97,8.91,9.09,9.11,9.11],[9.04,9.08,9.05,9.25,9.28,9.27],[9,9.01,9,9.2,9.23,9.2],[8.99,8.99,8.98,9.18,9.2,9.19],[8.93,8.97,8.97,9.18,9.2,9.18]]}];\n",
       " var layout_k9Y8f05b75 = {\"height\":350,\"width\":350,\"hovermode\":\"closest\",\"title\":{\"text\":\"XYZ.Surface\"},\"showlegend\":false,\"margin\":{\"l\":50,\"r\":50,\"t\":50,\"b\":50}};\n",
       " var config_k9Y8f05b75 = {\"responsive\":true,\"scrollZoom\":true,\"displaylogo\":false};\n",
       " Plotly.newPlot(\"graph_k9Y8f05b75\", traces_k9Y8f05b75, layout_k9Y8f05b75, config_k9Y8f05b75);\n",
       "\n",
       " var traces_MvEQulWSGE = [{\"name\":\"t3ywtBGtdq\",\"type\":\"scatter\",\"mode\":\"markers\",\"marker\":{\"color\":[24.62440235583033,54.83789943670627,62.21496635365517,24.337279696983302,78.6805122580073,27.64684379427809,35.36301698867321,54.54754459058042,32.587245036986914,97.11452265443985,86.42124522180835,55.30590934309636,103.91924591010142,70.05886854791876,111.9735017438406,46.01567966306358,47.158670118041826,91.3244817893315,96.36705768133004,36.94037267462082,102.81214798527225,34.23148718527567,101.6409446032334,82.02196786390516,101.77497116357424,124.84290831302579,83.83953347698966,48.2889678696087,81.59833279534493,87.98087242564642,69.95508237419303,61.51312601249313,105.39763258235513,131.53523088443274,84.13758816891146,49.19940934986267,73.84668809920689,104.84643812767727,81.82975630134565,104.04456477803176,86.0349167364293,76.80784957153368,136.12947543303954,133.6754801939298,135.92144121934533,79.82084437398183,121.9516895647124,145.77924587547744,127.70218302896446,56.84949125739611,60.45608386060026,141.66264060620006,55.61300846419182,130.5597323894562,118.72658225710643,155.82956599284512,121.52403948290528,85.89135703354944,107.83310568382157,84.34069067240618,157.13724494585261,120.39931816409984,86.17564847410856,90.5203703367947,76.68148878975859,70.314202558724,154.40521565851031,163.00168435201456,110.70624056753903,164.509985944609,123.23570860151301,128.15124375942028,161.90714922397967,93.43045697069871,146.1053733746441,86.5911266276367,79.87376660428959,105.51397097747623,134.91598005998674,151.83618458832547,173.23170122641557,159.76951760397014,118.9723805200566,117.99065150700872,164.8585030050792,169.89529725477786,164.76468480724043,172.99881284819753,148.68468103046806,172.694356648368,147.37980115296574,104.12028506830053,125.04817840705505,141.53006933113807,153.0985818397257,113.10119787939655,175.65275797832948,144.17753304290494,197.12941301626896]},\"x\":[1,2,3,4,5,6,7,8,9,10,11,12,13,14,15,16,17,18,19,20,21,22,23,24,25,26,27,28,29,30,31,32,33,34,35,36,37,38,39,40,41,42,43,44,45,46,47,48,49,50,51,52,53,54,55,56,57,58,59,60,61,62,63,64,65,66,67,68,69,70,71,72,73,74,75,76,77,78,79,80,81,82,83,84,85,86,87,88,89,90,91,92,93,94,95,96,97,98,99],\"y\":[1,2,3,4,5,6,7,8,9,10,11,12,13,14,15,16,17,18,19,20,21,22,23,24,25,26,27,28,29,30,31,32,33,34,35,36,37,38,39,40,41,42,43,44,45,46,47,48,49,50,51,52,53,54,55,56,57,58,59,60,61,62,63,64,65,66,67,68,69,70,71,72,73,74,75,76,77,78,79,80,81,82,83,84,85,86,87,88,89,90,91,92,93,94,95,96,97,98,99]}];\n",
       " var layout_MvEQulWSGE = {\"height\":350,\"width\":350,\"hovermode\":\"closest\",\"title\":{\"text\":\"ScatterWithColor.Basic\"},\"showlegend\":false,\"margin\":{\"l\":50,\"r\":50,\"t\":50,\"b\":50}};\n",
       " var config_MvEQulWSGE = {\"responsive\":true,\"scrollZoom\":true,\"displaylogo\":false};\n",
       " Plotly.newPlot(\"graph_MvEQulWSGE\", traces_MvEQulWSGE, layout_MvEQulWSGE, config_MvEQulWSGE);\n",
       "\n",
       " var traces_F3hw1MxQ15 = [{\"name\":\"X998veeqRH\",\"type\":\"scatter\",\"mode\":\"markers\",\"x\":[1,2,3],\"y\":[2,4,5]},{\"name\":\"YXScsgFP5n\",\"type\":\"scatter\",\"mode\":\"markers\",\"xaxis\":\"x2\",\"yaxis\":\"y2\",\"x\":[8.390598895990342,18.920915037116448,25.11210366149747,29.845764585195166,36.770848980790305,18.12518603432628,42.742385421376916,31.259186357610965,21.746393657707408,34.53726775850667,15.980050171805631,16.18004051500038,6.872716175942778,24.28167658371913,38.500981831016034,4.518787006234892,6.961407811872217,26.06455908470085,15.19281035501105,16.479234140820132,23.192859210649036,33.377167419711675,6.263612304639038,19.140902734216276,6.982166963781039,44.014311641637086,15.816889481982994,25.616542524526782,36.64397362619223,18.739185309769578,5.466811090334844,26.589807196424253,37.161711550216985,13.201284985477102,27.483829153993817,20.219708431216194,47.43900812892376,49.80208856964882,18.68918480001282,37.892630260664305,21.29575704626174,19.103502931316065,25.85791380493844,40.109321856041824,38.16863994245904,43.58702489475207,45.74344967842783,28.913410163758215,46.98563218993759,0.0969085431887784,8.00292176097206,40.699647579691764,22.006317508382057,31.138558383709746,7.280795333004425,45.98421045651048,22.554564619377164,29.353726168504497,1.4994910438875408,40.77604290851667,19.517429592475636,3.9570184083597084,37.009139988507705,17.55735108554017,30.243870092437785,32.69356836305539,37.664659860006005,2.5630157854780453,40.049158549642655,17.965646267364267,4.1268395366404365,40.04281581220873,32.91561803621916,1.1763771480146956,11.725136687211856,43.49700493678898,6.177592823283246,45.05158519958699,20.073418797375385,18.494915491474234,3.9883210282334822,19.726238562656683,15.29587443053777,41.61792739753959,22.18864041354513,24.719791557113137,46.19887049829606,5.312240726167294,12.83222728968037,45.5751558563951,39.0154979709956,8.993568003127727,0.06933440896036425,30.8989220272618,31.45311013279327,42.614993477802855,10.350764165104586,32.8158132058208,5.690157715413485,20.090863267838593],\"y\":[18.986060767485586,31.43826464518988,21.697119909932937,26.463750893461736,21.974702355663283,11.852429828967193,6.797377470955757,44.50815088463268,6.726298323872126,30.33476140838451,44.73737330960367,23.58371032419192,17.795607134203216,45.038738245129444,27.70142939147951,45.982441365304965,44.08041722813128,45.22920774350824,37.685079788753015,33.7585034396631,42.06512656533599,42.29215712267283,9.431842689894697,22.085780447371643,5.640105302924431,35.21067700942275,45.7418206632245,3.5576213364730433,46.78669599722792,32.97322636329769,7.376565825165615,21.524754689027887,12.989981563159404,6.468225112004045,34.013147375971606,9.56151954585876,36.62620177024099,2.8193662970287914,19.74137879983655,38.45721372141034,38.76896303286148,35.82896476529707,16.451687471657877,41.74847203283007,44.86818601684461,17.222013362706367,21.127094275700326,45.740267167443356,12.577939259723047,14.721538770119713,18.531334331296804,30.207224838556257,22.644143321044393,14.636209421936769,49.076117693931174,41.523615912928484,42.21033295585834,28.604079236960946,2.7540767902823227,20.8395188305524,36.159474347941256,16.411692238402708,3.9399434777907363,46.10228058203365,26.182085891476902,49.39570782878612,48.591035380237926,18.216549721360366,29.14565652489283,11.834567623252212,34.91911838868069,48.44280217653176,46.03766001840226,30.95063303068467,40.9592587103321,26.25341060588425,20.264200237651757,39.66860295535666,47.62726513239887,14.296953516558197,39.408591087504355,10.11391479566337,33.83585976700405,29.865599706707325,17.688953230655997,49.98522742003447,31.030716285352987,30.31704724557891,17.301171698455946,28.3979603966303,18.111032609231266,23.27163745996324,45.593302675865324,42.5712842629662,14.1153102868665,21.08689058573833,1.5898245152106472,1.8188043250079722,35.28152961081219,3.1058752585595037]}];\n",
       " var layout_F3hw1MxQ15 = {\"height\":350,\"width\":350,\"hovermode\":\"closest\",\"title\":{\"text\":\"The MultiChart from Above\"},\"showlegend\":false,\"margin\":{\"l\":50,\"r\":50,\"t\":50,\"b\":50},\"grid\":{\"rows\":1,\"columns\":2,\"pattern\":\"independent\"},\"xaxis\":{\"title\":{\"text\":\"x1\"},\"showgrid\":true,\"zeroline\":false,\"showline\":false},\"yaxis\":{\"showgrid\":true,\"zeroline\":false,\"showline\":false},\"xaxis2\":{\"title\":{\"text\":\"x2\"},\"showgrid\":true,\"zeroline\":false,\"showline\":false},\"yaxis2\":{\"showgrid\":true,\"zeroline\":false,\"showline\":false}};\n",
       " var config_F3hw1MxQ15 = {\"responsive\":true,\"scrollZoom\":true,\"displaylogo\":false};\n",
       " Plotly.newPlot(\"graph_F3hw1MxQ15\", traces_F3hw1MxQ15, layout_F3hw1MxQ15, config_F3hw1MxQ15);\n",
       "</script> \n"
      ]
     },
     "metadata": {},
     "output_type": "display_data"
    }
   ],
   "source": [
    "// first define the x-axes we will use in the plot\n",
    "val ax1 = XAxis(title = \"x axis 1\")\n",
    "val ax2 = XAxis(title = \"x axis 2\")\n",
    "val ax3 = XAxis(title = \"x axis 3\")\n",
    "val ax4 = XAxis(title = \"x axis 4\")\n",
    "\n",
    "// first define the y-axes we will use in the plot\n",
    "val ax6 = YAxis(title = \"y axis 1\")\n",
    "val ax7 = YAxis(title = \"y axis 2\")\n",
    "val ax8 = YAxis(title = \"y axis 3\")\n",
    "val ax9 = YAxis(title = \"y axis 4\")\n",
    "\n",
    "// it may be necessary to play around with the chart dimensions and margin  in order to ensure a good fit on screen.\n",
    "val dim = 350\n",
    "\n",
    "// The canvas has an underlying grid. By default the underlying grid is 1x1, but we can pass in the dimensions we \n",
    "// require by passing in parameters in the constructor.\n",
    "Canvas(2, 2)\n",
    ".setChart(0, 0, chart1.setDimensions(width = dim, height = dim).setMargin(l=50, r=50, t=50, b=50))\n",
    ".setChart(0, 1, chart2.setDimensions(width = dim, height = dim)setMargin(l=50, r=50, t=50, b=50))\n",
    ".setChart(1, 0, chart3.setDimensions(width = dim, height = dim)setMargin(l=50, r=50, t=50, b=50))\n",
    ".setChart(1, 1, chart4.setDimensions(width = dim, height = dim)setMargin(l=50, r=50, t=50, b=50))\n",
    ".plotInline"
   ]
  },
  {
   "cell_type": "markdown",
   "metadata": {},
   "source": [
    "#### Map\n",
    "\n",
    "We can also create maps using the composition technique below."
   ]
  },
  {
   "cell_type": "code",
   "execution_count": 31,
   "metadata": {},
   "outputs": [],
   "source": [
    "import org.carbonateresearch.picta.options.{MapOptions, MapAxis, LatAxis, LongAxis, Margin}\n",
    "import org.carbonateresearch.picta.Map"
   ]
  },
  {
   "cell_type": "code",
   "execution_count": 32,
   "metadata": {},
   "outputs": [
    {
     "data": {
      "text/html": [
       "<div id=\"grid_Y6yfca0rO4\" align=\"center\"> \n",
       "<div id='graph_Yxst5FRVv6' class='graph'></div> \n",
       "</div> \n",
       "<script>\n",
       "var masonry = new Macy({\n",
       "    container: '#grid_Y6yfca0rO4',\n",
       "    debug: true,\n",
       "    mobileFirst: true,\n",
       "    columns: 1,\n",
       "  });\n",
       "\n",
       " var traces_Yxst5FRVv6 = [{\"lat\":[40.7127,51.5072],\"lon\":[-74.0059,0.1275],\"type\":\"scattergeo\",\"mode\":\"lines\",\"line\":{\"width\":2,\"color\":\"red\"}}];\n",
       " var layout_Yxst5FRVv6 = {\"height\":550,\"width\":600,\"hovermode\":\"closest\",\"showlegend\":false,\"geo\":{\"resolution\":50,\"showland\":true,\"showlakes\":true,\"coastlinewidth\":2,\"landcolor\":\"rgb(204, 204, 204)\",\"lakecolor\":\"rgb(255, 255, 255)\",\"lataxis\":{\"range\":[20,60],\"showgrid\":true,\"dtick\":10},\"lonaxis\":{\"range\":[-100,20],\"showgrid\":true,\"dtick\":10}},\"margin\":{\"l\":0,\"r\":0,\"t\":0,\"b\":0}};\n",
       " var config_Yxst5FRVv6 = {\"responsive\":true,\"scrollZoom\":true,\"displaylogo\":false};\n",
       " Plotly.newPlot(\"graph_Yxst5FRVv6\", traces_Yxst5FRVv6, layout_Yxst5FRVv6, config_Yxst5FRVv6);\n",
       "</script> \n"
      ]
     },
     "metadata": {},
     "output_type": "display_data"
    }
   ],
   "source": [
    "// draw a line on the map that is red\n",
    "val line = Line(width = 2) setColor \"red\"\n",
    "\n",
    "// construct the map Series. It is an XY chart as it takes in a List of Longitude and Latitude\n",
    "val series = Map(List(40.7127, 51.5072), List(-74.0059, 0.1275)) drawSymbol LINES drawLine line\n",
    "\n",
    "// These are options that further specify the options for the map\n",
    "val geo = MapOptions(landcolor = \"rgb(204, 204, 204)\", lakecolor = \"rgb(255, 255, 255)\")\n",
    "              .setMapAxes(LatAxis(List(20, 60)), LongAxis(List(-100, 20)))\n",
    "\n",
    "val chart = (\n",
    "    Chart() \n",
    "    addSeries series \n",
    "    setConfig config\n",
    "    setMapOptions geo\n",
    "    setMargin(l=0, r=0, t=0, b=0)\n",
    ")\n",
    "\n",
    "val canvas = Canvas() addCharts chart\n",
    "\n",
    "canvas.plotInline"
   ]
  },
  {
   "cell_type": "markdown",
   "metadata": {},
   "source": [
    "### Animated Charts\n",
    "\n",
    "We can also create animated charts. This can be useful for tracking the evolution of a data over time.\n",
    "\n",
    "All `Series` types should be supported.\n",
    "\n",
    "#### 2D Animated Chart"
   ]
  },
  {
   "cell_type": "code",
   "execution_count": 33,
   "metadata": {},
   "outputs": [],
   "source": [
    "import org.carbonateresearch.picta.options.ColorOptions._\n",
    "\n",
    "// creates random XY for testing purposes\n",
    "def createXYSeries[T: Color]\n",
    "(numberToCreate: Int, count: Int = 0, length: Int = 10): List[XY[Int, Double, T, T]] = {\n",
    "    if (count == numberToCreate) Nil\n",
    "    else {\n",
    "      val xs = List.range(0, length)\n",
    "      val ys = xs.map(x => scala.util.Random.nextDouble() * x)\n",
    "      val trace = XY(x = xs, y = ys, name = \"trace\" + count)\n",
    "      trace :: createXYSeries(numberToCreate, count + 1, length)\n",
    "    }\n",
    "}\n",
    "\n",
    "def createXYZSeries(numberToCreate: Int, count: Int = 0, length: Int = 10): List[XYZ[Int, Double, Double]] = {\n",
    "    if (count == numberToCreate) Nil\n",
    "    else {\n",
    "      val xs = List.range(0, length)\n",
    "      val ys = xs.map(x => scala.util.Random.nextDouble() * x)\n",
    "      val zs = xs.map(x => scala.util.Random.nextDouble() * x * scala.util.Random.nextInt())\n",
    "      val trace = XYZ(x = xs, y = ys, z = zs, name = \"trace\" + count, `type` = SCATTER3D)\n",
    "      trace :: createXYZSeries(numberToCreate, count + 1, length)\n",
    "    }\n",
    "}"
   ]
  },
  {
   "cell_type": "code",
   "execution_count": 34,
   "metadata": {
    "scrolled": false
   },
   "outputs": [
    {
     "data": {
      "text/html": [
       "<div id=\"grid_HA9yO5rjxk\" align=\"center\"> \n",
       "\n",
       "<div align=\"center\">\n",
       "  <div id='graph_HbBgcf6lRk' class=\"graph\"></div>\n",
       "  <div class='animationInterface'>\n",
       "    <button id='play_HbBgcf6lRk'>Play</button>\n",
       "    <button id='pause_HbBgcf6lRk'>Pause</button>\n",
       "    <div id=\"sliderContainer_HbBgcf6lRk\" class='progressBar'></div>\n",
       "    <div id='counterContainer_HbBgcf6lRk' class='inline-div'>\n",
       "        <h3>Frame: </h3> <h3 id=\"value_HbBgcf6lRk\">0</h3>\n",
       "    </div>\n",
       "   </div>\n",
       "</div> \n",
       "\n",
       "</div> \n",
       "<script>\n",
       "var masonry = new Macy({\n",
       "    container: '#grid_HA9yO5rjxk',\n",
       "    debug: true,\n",
       "    mobileFirst: true,\n",
       "    columns: 1,\n",
       "  });\n",
       "\n",
       "var graph_HbBgcf6lRk = document.getElementById('graph_HbBgcf6lRk')\n",
       "var traces_HbBgcf6lRk = [{\"name\":\"trace0\",\"type\":\"scatter\",\"x\":[0,1,2,3,4,5,6,7,8,9,10,11,12,13,14,15,16,17,18,19,20,21,22,23,24,25,26,27,28,29],\"y\":[0,0.27959767705862726,0.05793644102955464,2.690611803664102,2.4124492997082565,0.6174071525051106,4.241057218991812,1.85082765301958,7.218327321313329,8.00166110628785,1.8878520619238426,9.425930494900662,7.701416842169113,1.7298231243130398,11.576448636764148,9.834069486738255,3.9905197055553927,15.870404749324527,10.489888133679086,13.997521364580981,9.938439728850863,14.249366403441817,6.006981908150841,20.560892530310614,13.54114253045285,13.184005282957086,6.272013113032798,19.695446481935175,4.927498939393345,3.5771357665415713]}]\n",
       "var layout_HbBgcf6lRk = {\"height\":550,\"width\":600,\"hovermode\":\"closest\",\"title\":{\"text\":\"Animation.XY\"},\"showlegend\":false,\"xaxis\":{\"title\":{\"text\":\"X Variable\"},\"showgrid\":true,\"zeroline\":false,\"showline\":false,\"range\":[0,10]},\"yaxis\":{\"title\":{\"text\":\"Y Variable\"},\"showgrid\":true,\"zeroline\":false,\"showline\":false,\"range\":[0,10]}}\n",
       "var frames_HbBgcf6lRk = [{\"name\":\"trace0\",\"data\":[{\"name\":\"trace0\",\"type\":\"scatter\",\"x\":[0,1,2,3,4,5,6,7,8,9,10,11,12,13,14,15,16,17,18,19,20,21,22,23,24,25,26,27,28,29],\"y\":[0,0.27959767705862726,0.05793644102955464,2.690611803664102,2.4124492997082565,0.6174071525051106,4.241057218991812,1.85082765301958,7.218327321313329,8.00166110628785,1.8878520619238426,9.425930494900662,7.701416842169113,1.7298231243130398,11.576448636764148,9.834069486738255,3.9905197055553927,15.870404749324527,10.489888133679086,13.997521364580981,9.938439728850863,14.249366403441817,6.006981908150841,20.560892530310614,13.54114253045285,13.184005282957086,6.272013113032798,19.695446481935175,4.927498939393345,3.5771357665415713]}]},{\"name\":\"trace1\",\"data\":[{\"name\":\"trace1\",\"type\":\"scatter\",\"x\":[0,1,2,3,4,5,6,7,8,9,10,11,12,13,14,15,16,17,18,19,20,21,22,23,24,25,26,27,28,29],\"y\":[0,0.7546401094323268,0.6509904179369683,2.555574170417882,2.303523414344349,4.807959344733225,0.5354470592181586,2.1682250598627997,0.08785008822747997,3.6083860226302975,4.317804699949756,7.489643693912328,7.678825283548904,6.93182693977339,9.826460225515103,5.949732761277861,8.438033619644083,8.651863118475577,13.123513495789156,15.22779709557594,8.566780864730632,1.5941700903061689,0.9648778514001379,12.421304447423983,23.50741490118392,12.83201617000415,19.903239772023362,0.9986580312943591,12.79936577102311,24.575502237940622]}]},{\"name\":\"trace2\",\"data\":[{\"name\":\"trace2\",\"type\":\"scatter\",\"x\":[0,1,2,3,4,5,6,7,8,9,10,11,12,13,14,15,16,17,18,19,20,21,22,23,24,25,26,27,28,29],\"y\":[0,0.7480993941787328,1.750622490860037,1.8548090559142003,1.7940097320433512,4.148186963248709,0.6539276097459681,4.430138131097742,4.62755792955916,4.43461323551514,5.446715284915604,5.158514722334598,6.366455962673626,7.66129389220472,6.784615378558699,14.578031186819931,0.2693287701229625,15.472252443642814,2.8851968950352913,11.908462041827844,1.9802759472865827,5.58756957353567,16.438245196002676,11.06809632370656,0.2956069203174332,16.794307456640627,5.600171431723819,6.591114379585062,13.891914078262161,24.731598066400334]}]},{\"name\":\"trace3\",\"data\":[{\"name\":\"trace3\",\"type\":\"scatter\",\"x\":[0,1,2,3,4,5,6,7,8,9,10,11,12,13,14,15,16,17,18,19,20,21,22,23,24,25,26,27,28,29],\"y\":[0,0.2926802433636745,1.2820202255825301,2.574868136197395,1.2835846710343128,2.9133234440965556,2.0676024613730632,5.430458405146674,4.612794654727696,7.877121431900418,9.587256139225559,4.599068287641294,5.226292367649982,3.504520509052194,8.466811224334954,5.69090155631465,4.925869462269574,12.946436364009394,16.861754097532327,0.813564784654129,17.84237642492305,9.166187785319822,18.464113833342356,22.142941406108577,17.062064377523544,23.701410834634018,17.203657502641136,14.622170911254315,23.33654973589919,3.9314956912998755]}]},{\"name\":\"trace4\",\"data\":[{\"name\":\"trace4\",\"type\":\"scatter\",\"x\":[0,1,2,3,4,5,6,7,8,9,10,11,12,13,14,15,16,17,18,19,20,21,22,23,24,25,26,27,28,29],\"y\":[0,0.07463166812282718,0.7628797661579847,2.9644803749335225,3.3992019391612165,0.23029014493693656,5.524657960896658,4.741506560079998,1.5035298754585655,0.21922319731510598,2.5175102018015574,0.5307227396121178,11.727567934701437,8.173279215668058,5.998706315544489,11.771063538783448,15.806336074860964,13.855633299153514,1.1080933383780212,8.471312090210594,11.531241787582298,3.4773777386078986,1.9357737826434498,16.27742486704378,10.241805297800164,23.917922532603573,5.939126095304172,11.870795161610735,13.991496416251739,15.26402065488875]}]},{\"name\":\"trace5\",\"data\":[{\"name\":\"trace5\",\"type\":\"scatter\",\"x\":[0,1,2,3,4,5,6,7,8,9,10,11,12,13,14,15,16,17,18,19,20,21,22,23,24,25,26,27,28,29],\"y\":[0,0.6934685834752423,0.21620984029250123,2.598560679272919,1.4249118858410363,1.453550203470091,1.1992791559096467,2.9623010487656067,4.309437870191491,4.106019939456853,5.229963475444417,8.91612629979524,10.438804141548205,11.23938930552708,4.639666463391776,7.512416140359425,2.875979959150035,9.204897978980402,12.376738721713851,11.430927567067302,10.295181614077828,6.168802168145072,4.821402610425639,11.489232712166665,22.034314149171678,18.225690299294175,10.260269737290942,13.448350047449807,19.84213100169652,13.632958467633198]}]},{\"name\":\"trace6\",\"data\":[{\"name\":\"trace6\",\"type\":\"scatter\",\"x\":[0,1,2,3,4,5,6,7,8,9,10,11,12,13,14,15,16,17,18,19,20,21,22,23,24,25,26,27,28,29],\"y\":[0,0.5732222986288181,1.171630826423804,2.6088436950689795,2.016326655236205,0.11280665244977617,5.911311264936088,2.70595158582611,3.8005638148949066,0.8525521949458408,1.153798379961658,8.791614819401929,11.389522782792014,8.457217034524067,0.23270007970627216,8.969087768609972,0.14630904746290874,9.01301428164746,14.413789162702685,4.29670588214808,7.658121004060751,12.14447888916489,20.985292524148466,7.362520759564772,23.252129647499892,5.364409350203525,5.567955032381802,19.837804099311107,17.978081774975507,0.7715211998190377]}]},{\"name\":\"trace7\",\"data\":[{\"name\":\"trace7\",\"type\":\"scatter\",\"x\":[0,1,2,3,4,5,6,7,8,9,10,11,12,13,14,15,16,17,18,19,20,21,22,23,24,25,26,27,28,29],\"y\":[0,0.9372963809058281,1.1189593608361958,0.33180904268063605,1.5659077694920325,1.5051848262567658,2.7169134433587283,5.512891485393813,7.73361162732346,8.431751057451386,0.7597395292062636,9.709118816201814,1.8016895340181263,12.53497781684374,0.7721560273957733,14.571133759031532,12.244806971409076,9.200285848854165,15.845118033234616,16.49445241679471,13.04256072045003,11.52402416421388,14.767973122193736,3.6888214405420285,3.189064774355063,13.905237066326887,17.019616823656474,21.009419478537907,16.12333416508433,16.867144496811694]}]},{\"name\":\"trace8\",\"data\":[{\"name\":\"trace8\",\"type\":\"scatter\",\"x\":[0,1,2,3,4,5,6,7,8,9,10,11,12,13,14,15,16,17,18,19,20,21,22,23,24,25,26,27,28,29],\"y\":[0,0.4265941655485901,0.038404825739011494,0.6179993307038784,2.9239505997697983,1.046715610408349,3.0592391029789274,5.594778479616729,0.9539816130656096,8.28966122401677,4.103625608168531,10.704635984552262,6.579497492299883,3.892801973538664,6.050281004116967,13.329670795463297,9.662865664811155,16.845884542250346,10.166955021083007,13.571024941898866,10.741707473649777,2.264022115949584,8.525916327267687,8.21526672167353,13.575010137598298,0.7925027775386118,12.310181016069418,15.396659089739796,27.53622349215945,16.05710202763445]}]},{\"name\":\"trace9\",\"data\":[{\"name\":\"trace9\",\"type\":\"scatter\",\"x\":[0,1,2,3,4,5,6,7,8,9,10,11,12,13,14,15,16,17,18,19,20,21,22,23,24,25,26,27,28,29],\"y\":[0,0.6757420784113635,0.01858233515813068,1.5955026900710214,2.1269940581636613,2.2041206198966137,4.033648298263969,6.957128832423958,4.186964671480782,0.8057699454510157,8.01069577008621,0.18151560028681657,7.949748498202165,0.557626411958546,5.056018973655033,11.577023075769874,0.35244557152156375,12.602162440477082,17.404276748190636,16.104222061749642,7.546176049173241,17.266088673849342,8.472651464045855,7.365593872021335,5.946458473592483,0.03483719481353065,6.277856405300487,2.349851909903805,14.428272371627138,6.897305374265562]}]},{\"name\":\"trace10\",\"data\":[{\"name\":\"trace10\",\"type\":\"scatter\",\"x\":[0,1,2,3,4,5,6,7,8,9,10,11,12,13,14,15,16,17,18,19,20,21,22,23,24,25,26,27,28,29],\"y\":[0,0.6495258532500744,0.2465353374518855,0.44736691507612913,0.17242422106423616,4.402179542842619,3.8809075508693547,1.3247036822690104,6.962022889744256,2.730089994829133,7.171133944196415,8.801458788256031,3.6099233377567166,0.8852305957192903,5.335606108376506,9.074878814352417,14.96629763116403,1.9413133226857404,8.696589372033648,13.758956868369413,16.174048743523528,20.58760922807017,1.4460271559556654,10.652264622332538,23.618296746382043,8.51187543845953,15.7189009096285,25.589342010610807,0.9485686029151958,18.109340659337146]}]},{\"name\":\"trace11\",\"data\":[{\"name\":\"trace11\",\"type\":\"scatter\",\"x\":[0,1,2,3,4,5,6,7,8,9,10,11,12,13,14,15,16,17,18,19,20,21,22,23,24,25,26,27,28,29],\"y\":[0,0.7625314995207938,0.9165717193045082,0.051741277463409285,3.22479494860017,1.4328276873918249,3.3223179169640327,5.03809466049697,3.7109163567640246,1.9314128993873245,1.0512702142895858,6.630059702794448,2.9756290552130022,9.120686342725417,7.671627184748033,4.325375498237491,13.78104722428267,11.479583784867764,16.59531075231597,4.798396961726383,7.263826870484637,2.604812022159191,0.4771321516358775,17.44878268126785,0.7602574663681283,14.659698794006099,16.60541987249468,8.200263783097647,21.130541436201156,18.65488913942446]}]},{\"name\":\"trace12\",\"data\":[{\"name\":\"trace12\",\"type\":\"scatter\",\"x\":[0,1,2,3,4,5,6,7,8,9,10,11,12,13,14,15,16,17,18,19,20,21,22,23,24,25,26,27,28,29],\"y\":[0,0.7877594143042387,1.8042179516820775,2.8389378484565513,1.1528935034082717,4.002421613945469,3.072011736918545,1.4167180080128252,5.307645142265281,2.3502452978307184,4.085331866905624,6.370318641153203,7.994586079386361,1.872072962738046,7.888630170439956,2.9393186391022397,7.535102295869226,2.9823237296971916,10.985477096403436,13.71796045502775,14.603027138166865,4.154867367232109,20.36249385171417,14.132056487423998,21.852870108313805,9.052906001279872,2.6788183656430107,5.409345503476942,6.699726892372414,12.512292006615963]}]},{\"name\":\"trace13\",\"data\":[{\"name\":\"trace13\",\"type\":\"scatter\",\"x\":[0,1,2,3,4,5,6,7,8,9,10,11,12,13,14,15,16,17,18,19,20,21,22,23,24,25,26,27,28,29],\"y\":[0,0.6298543452411443,1.6790032359934668,0.7763342678359376,1.871362331679379,3.5505666169082217,1.1143423881046748,6.534520927837749,0.21480490934437668,6.90464096477349,9.679844811752059,2.0358668149670027,8.944259662036126,12.699776217651236,11.448782958272146,5.658492417972051,1.1324269586352482,0.9528224109475315,2.146056091065786,15.77885679587435,3.4535382470403553,17.039338727675535,6.731268401353084,6.20545721632039,3.1400126958976697,20.180995125283143,16.296938070763225,24.587320015638806,18.806221032987732,9.586509427528014]}]},{\"name\":\"trace14\",\"data\":[{\"name\":\"trace14\",\"type\":\"scatter\",\"x\":[0,1,2,3,4,5,6,7,8,9,10,11,12,13,14,15,16,17,18,19,20,21,22,23,24,25,26,27,28,29],\"y\":[0,0.06763447322821114,1.519861624059589,2.7256842501919505,3.1787822968946906,0.9991084824545349,4.9601337104971615,6.050236085035195,2.3810940492568706,8.908554151551185,7.935533157103354,8.630295212873822,7.15072291025127,5.145735286855803,4.766195625571012,4.754397661955747,8.23675144102273,10.399350208524153,1.0005694833533607,7.879934475897805,0.7085334282433853,11.02536234984326,4.523131702128227,0.07234232416139219,3.850402183223114,14.260903230776027,22.572092436809136,1.4714118893416694,23.89813561984922,24.479883908794008]}]},{\"name\":\"trace15\",\"data\":[{\"name\":\"trace15\",\"type\":\"scatter\",\"x\":[0,1,2,3,4,5,6,7,8,9,10,11,12,13,14,15,16,17,18,19,20,21,22,23,24,25,26,27,28,29],\"y\":[0,0.22775751616612616,1.1282045875478008,2.8941737461724535,1.9150575174358542,2.769340492444399,2.967620933040025,3.122252456789068,4.887398665318321,1.1635055522607316,8.187439579989691,3.090265522166806,9.215990666096394,5.433658727863242,7.255608105381812,0.3960649525963045,10.786967112011967,9.45511889944596,6.639765685873915,17.6162879695258,17.022368581549266,0.08742527172250802,19.301682378362322,11.923626495404974,19.295784869171744,24.8971584226278,16.845890707262402,19.109402333358936,12.22927971862495,14.505165900139318]}]},{\"name\":\"trace16\",\"data\":[{\"name\":\"trace16\",\"type\":\"scatter\",\"x\":[0,1,2,3,4,5,6,7,8,9,10,11,12,13,14,15,16,17,18,19,20,21,22,23,24,25,26,27,28,29],\"y\":[0,0.5524487818286491,0.5284322522423113,2.47729773860121,0.26175174356520126,4.099510452219227,0.33649059324539565,4.045446621997403,6.228194397505895,8.530108648026232,5.219298898037597,4.463879473440016,10.740945653443399,2.661890921747936,7.358448095165445,13.010261718310016,1.731349067622288,11.788999260334354,1.8710178222277067,14.865358570888688,17.279631224199747,7.030089283373966,5.654734694528556,14.835956331614593,6.96136818613037,3.1292183561622027,1.969361047063562,0.6139086320915256,13.844675111037272,22.31166688517699]}]},{\"name\":\"trace17\",\"data\":[{\"name\":\"trace17\",\"type\":\"scatter\",\"x\":[0,1,2,3,4,5,6,7,8,9,10,11,12,13,14,15,16,17,18,19,20,21,22,23,24,25,26,27,28,29],\"y\":[0,0.3819315896625095,0.16983471981894205,0.7657915174316958,2.5242382817106086,2.2480626180984298,2.9920582518677596,0.4281475961393466,0.5800025878764181,0.40316393351881497,8.778047896245585,5.093633212074423,6.364702909049205,3.844103066256488,10.881459166324609,12.667015007182997,9.88403613060179,5.031556945949044,17.10915766257185,0.04169634965058877,7.535035513884982,11.493272838075857,18.09067883698686,4.331803579838163,5.001364501722383,24.64703100581018,0.7266275708326067,0.8724707472896325,27.073112706100446,28.90710605098421]}]},{\"name\":\"trace18\",\"data\":[{\"name\":\"trace18\",\"type\":\"scatter\",\"x\":[0,1,2,3,4,5,6,7,8,9,10,11,12,13,14,15,16,17,18,19,20,21,22,23,24,25,26,27,28,29],\"y\":[0,0.5461150112003101,1.9072528174100374,1.7485201951561133,3.096174753090366,0.6598109457967416,1.2381207657173086,5.414401931148782,0.36337760870410385,7.951171098737657,0.4725515888748899,4.782322052052594,1.9549194910835204,6.497428694929578,4.57100340818579,13.083552928872255,3.579954597466804,13.889019709742442,3.208474083039063,0.13638217084640836,18.022294610488782,6.324006311581976,8.623924059497662,10.340102483979443,2.881599279947979,21.137467154004483,18.05926751182583,13.29104007611566,9.150966965928731,25.138051980462432]}]},{\"name\":\"trace19\",\"data\":[{\"name\":\"trace19\",\"type\":\"scatter\",\"x\":[0,1,2,3,4,5,6,7,8,9,10,11,12,13,14,15,16,17,18,19,20,21,22,23,24,25,26,27,28,29],\"y\":[0,0.9066520343691467,1.8940325755208534,0.017124043780733178,1.5344289397820248,2.165898232953594,2.769406764753212,4.910605914783783,0.13845641095944128,0.2587820567307024,7.679753354224822,5.88327294661697,11.785732738844963,3.360643174837014,1.9669062560235981,7.625372267942922,0.3222560148121154,11.91172184081811,2.7772264283333143,7.063129655032349,15.595139972804006,18.29351727712976,8.728597307633112,15.80474512130822,5.139119457213074,24.194613879496394,16.987123975823433,15.626415810978814,25.99264079948781,19.896398620008302]}]},{\"name\":\"trace20\",\"data\":[{\"name\":\"trace20\",\"type\":\"scatter\",\"x\":[0,1,2,3,4,5,6,7,8,9,10,11,12,13,14,15,16,17,18,19,20,21,22,23,24,25,26,27,28,29],\"y\":[0,0.01300429646241763,0.5669898331698344,1.3856623818762146,0.47319511216137,0.08179452441318347,1.9271507867318416,5.335241400801538,4.050520727546971,4.071284211111711,7.3128537492262655,5.081655108875749,2.4018163147791203,11.08337073707275,2.1766421675177074,13.822060468422812,11.20747463309526,5.5048377412030165,1.6396637993782104,2.067796458172732,11.062424263628719,15.522049131476075,11.885488265355136,0.03533216772978964,0.3478561796595434,6.50655790468114,8.719248684199133,14.673634077553787,15.509549639862172,21.363193570444643]}]},{\"name\":\"trace21\",\"data\":[{\"name\":\"trace21\",\"type\":\"scatter\",\"x\":[0,1,2,3,4,5,6,7,8,9,10,11,12,13,14,15,16,17,18,19,20,21,22,23,24,25,26,27,28,29],\"y\":[0,0.6348316014577607,1.8803107091550282,2.039468075966965,2.874184063870348,4.942960174300859,3.514653844712358,2.242896644437788,0.7003799970625115,1.7979210746090357,1.5598501324805691,7.9453832267337186,6.522054371754109,0.5574262795127055,2.6334251823445376,0.7388177545115765,2.6560863499094474,14.2461300771989,11.03531378819387,16.30950972335495,11.78440417210967,14.856328476725773,13.691431747254008,16.775192268803444,11.506805563603955,17.062533452408076,7.31402939701829,16.969382140773213,5.273133739565137,26.508679431077226]}]},{\"name\":\"trace22\",\"data\":[{\"name\":\"trace22\",\"type\":\"scatter\",\"x\":[0,1,2,3,4,5,6,7,8,9,10,11,12,13,14,15,16,17,18,19,20,21,22,23,24,25,26,27,28,29],\"y\":[0,0.15493709542397238,0.7383222842440194,2.0724944846678106,3.9274715617084217,1.0917359392040997,1.1555820925242344,4.02407036535887,4.868734815780938,6.821871230040081,5.52566926878728,8.011927493831896,11.780656640982883,10.768885062703399,4.406179531928809,6.33650947486735,15.698152003162233,12.733210067849152,4.084133455852028,15.118536661369248,5.519032972743762,0.9207935264871131,12.862800435965708,3.6990006861857125,4.445090607259455,14.521509458933757,3.257318137550348,14.720000250767049,20.542304557784373,19.222499691629594]}]},{\"name\":\"trace23\",\"data\":[{\"name\":\"trace23\",\"type\":\"scatter\",\"x\":[0,1,2,3,4,5,6,7,8,9,10,11,12,13,14,15,16,17,18,19,20,21,22,23,24,25,26,27,28,29],\"y\":[0,0.6960864331001382,0.41438483757099975,2.45282163423344,0.5543867335776316,2.4025195502681984,3.1992292852823514,4.823711061179448,7.7630874987372005,4.197012457882066,2.3747636893589084,8.146460009518764,4.395756648735338,6.2993865917920315,7.877558396423928,6.700823634191661,15.343317847153052,2.393481281349956,10.30560958789502,5.197784323344845,14.193009216641867,11.962692307918742,15.64670434404716,0.5478179476120221,20.83383710234467,5.182485821819352,8.827265292391578,1.5959061076978278,10.368633402388213,28.843718356412715]}]},{\"name\":\"trace24\",\"data\":[{\"name\":\"trace24\",\"type\":\"scatter\",\"x\":[0,1,2,3,4,5,6,7,8,9,10,11,12,13,14,15,16,17,18,19,20,21,22,23,24,25,26,27,28,29],\"y\":[0,0.5021026524654705,0.6970536125061919,0.653526320337213,3.3767388331067387,3.8406716786237594,5.208336155525053,1.005379378278691,4.544305713344805,6.115083878870455,3.5597651503066574,7.828089310349223,7.116750715740556,12.671928464712233,6.166504618673086,12.165172892370714,6.729800259021436,4.122487867023223,1.4604594568460976,1.621326398945761,5.807624471740896,3.746411187508947,20.637336764915354,18.092431399919505,19.500246259880583,14.906030680872018,23.419017650784262,25.102399442868727,10.102756179806054,23.349253382122917]}]},{\"name\":\"trace25\",\"data\":[{\"name\":\"trace25\",\"type\":\"scatter\",\"x\":[0,1,2,3,4,5,6,7,8,9,10,11,12,13,14,15,16,17,18,19,20,21,22,23,24,25,26,27,28,29],\"y\":[0,0.8864128974390816,0.9911456913567336,2.42326688272266,1.350253655823583,3.013615053036146,4.791856290871049,1.8938509292749588,1.3666507291458476,7.403278538688911,0.24065020537371362,4.0809821921981095,3.215442812585365,0.7537689867178031,5.518916936235081,6.535883717824877,10.876182987013705,9.486612713776891,3.6793718575420895,14.245216031096593,17.296771979962976,4.171776889041337,14.044253092470338,0.8941834938588376,5.571720142276852,0.98579513353588,21.894652732131693,24.4543898100887,0.4145677054381567,8.003347530649457]}]},{\"name\":\"trace26\",\"data\":[{\"name\":\"trace26\",\"type\":\"scatter\",\"x\":[0,1,2,3,4,5,6,7,8,9,10,11,12,13,14,15,16,17,18,19,20,21,22,23,24,25,26,27,28,29],\"y\":[0,0.9342579560668883,1.8801943569520965,1.3607826989804597,3.8463487681739736,1.3443332041824614,1.1840900422871032,0.714503855445435,2.944049805960047,1.9852992148939903,1.4717233772122573,4.4181198966632635,11.098535782271094,11.140217136726122,0.904654598342753,1.4486626223381127,11.781066776024835,10.046684018935496,17.34209447597855,12.074283259875434,2.493964569254734,10.526786478248003,4.619220946791619,10.041746048800126,9.279640046448566,12.15959413888801,5.2556701559265,6.779914079532437,4.982066379619354,11.191146844252433]}]},{\"name\":\"trace27\",\"data\":[{\"name\":\"trace27\",\"type\":\"scatter\",\"x\":[0,1,2,3,4,5,6,7,8,9,10,11,12,13,14,15,16,17,18,19,20,21,22,23,24,25,26,27,28,29],\"y\":[0,0.8295182445235191,0.33149527695731984,2.6537595286613684,0.324851458014376,2.416424524927678,4.77091573217219,2.4987049999317033,4.025659989205062,6.103970773725535,6.30312693482731,8.875016574982123,3.638779364932668,6.450565549882952,10.528498194716267,10.64212141455595,9.906930273986879,11.189592710563893,2.1538021897425845,16.605446159730768,7.534545887585013,17.103904939218047,14.044775914346893,9.396400828301003,2.8905348763912677,24.405855354915786,23.727722855738154,13.350311528005825,8.18587680876702,8.386981822992146]}]},{\"name\":\"trace28\",\"data\":[{\"name\":\"trace28\",\"type\":\"scatter\",\"x\":[0,1,2,3,4,5,6,7,8,9,10,11,12,13,14,15,16,17,18,19,20,21,22,23,24,25,26,27,28,29],\"y\":[0,0.9518782546116213,0.24280684637836147,2.48951394502396,0.07798591365361096,2.578873112949605,5.502733534894662,5.204495951743477,1.789410361461675,2.9780416858354735,0.970874629761721,9.212376785763434,4.92021057547116,5.4831430001255965,10.08013913429396,10.380189663662037,1.0741207184258492,13.551981772722712,11.60942743446419,8.71575929789283,14.553582941874826,8.561640747729387,15.228160340859672,17.919328528552825,9.199156022738284,9.78825931272908,8.88951159475682,18.195056317036762,22.167778500262244,26.532549285741933]}]},{\"name\":\"trace29\",\"data\":[{\"name\":\"trace29\",\"type\":\"scatter\",\"x\":[0,1,2,3,4,5,6,7,8,9,10,11,12,13,14,15,16,17,18,19,20,21,22,23,24,25,26,27,28,29],\"y\":[0,0.830042690293045,0.1817855298529949,1.3276539455742955,1.7374583820363316,2.214986221711877,2.6227392573369954,3.2031640811293784,6.082285652116486,5.939051857639418,0.9146675976721497,5.4093903234201655,4.20300886140142,9.271717610419993,6.913403943903107,12.34663131896388,7.556824813607024,0.5867283521886834,6.9096595130681955,6.695065125594951,5.411906122153978,20.884995064983862,21.017627501110972,22.502286420010186,2.430535847837101,10.706614133524987,9.428097655956876,6.98373352859063,6.983670852653371,22.421342301127176]}]},{\"name\":\"trace30\",\"data\":[{\"name\":\"trace30\",\"type\":\"scatter\",\"x\":[0,1,2,3,4,5,6,7,8,9,10,11,12,13,14,15,16,17,18,19,20,21,22,23,24,25,26,27,28,29],\"y\":[0,0.2640007913071367,1.5901713592763238,1.4188688843337096,0.9037823657384125,1.565117807233571,3.7200757658698267,1.9748932987259047,7.064684376686659,6.377243776969594,6.764785768518986,2.6678042038324024,8.031651852412269,8.940910902837402,9.46359510969708,5.980767006632025,1.5432984109122234,9.259511957786223,5.357510663025755,14.592419654499947,5.8025170773692425,6.05923816481604,19.034050352655367,15.826118465216046,4.498660829477827,6.474735344698021,5.088246167778017,11.539203757059893,10.628571087929105,24.26212944272829]}]},{\"name\":\"trace31\",\"data\":[{\"name\":\"trace31\",\"type\":\"scatter\",\"x\":[0,1,2,3,4,5,6,7,8,9,10,11,12,13,14,15,16,17,18,19,20,21,22,23,24,25,26,27,28,29],\"y\":[0,0.8628568285451413,0.39311288825382906,2.2755015278456097,2.649637838338585,0.5228357783026172,0.16329566788489536,4.038860259177181,0.9423132501404119,1.6014562804471533,6.695775517117351,5.331361771269986,1.0948377624295107,3.413975110559063,9.996157907666765,1.0361955715803246,4.675661447287336,9.016314952383281,10.378325204953775,10.59675552577043,10.304818014833055,6.825438559826165,18.040554584041583,17.65618235668532,2.7251305199470366,7.087378297222776,21.49950426063488,7.643053400221552,5.570186912388359,0.2941916254017106]}]},{\"name\":\"trace32\",\"data\":[{\"name\":\"trace32\",\"type\":\"scatter\",\"x\":[0,1,2,3,4,5,6,7,8,9,10,11,12,13,14,15,16,17,18,19,20,21,22,23,24,25,26,27,28,29],\"y\":[0,0.350324087692125,1.692096553440414,0.25539224769955826,2.7240903163414987,3.0094305798377463,2.3847249148348277,3.591239972684772,3.2568304676420503,8.991638227228247,6.89176373680653,2.191534023514232,7.318199254570096,4.131588339645522,9.048209558825562,10.18924356312418,12.448355922599106,1.577182069722576,4.219312123280787,2.2905002937624115,8.049951450548727,3.821724411826997,4.288952883101622,13.004429012005337,1.824252355608433,0.44119983427882703,8.876010041131615,13.280993310031834,16.047508145333214,4.877991821142685]}]},{\"name\":\"trace33\",\"data\":[{\"name\":\"trace33\",\"type\":\"scatter\",\"x\":[0,1,2,3,4,5,6,7,8,9,10,11,12,13,14,15,16,17,18,19,20,21,22,23,24,25,26,27,28,29],\"y\":[0,0.030312335477047037,0.1937371273559345,0.15812086223659683,3.686421898230803,2.966850348555987,2.2062804981278763,3.643113848090873,4.194884205417472,2.270819498459688,1.2611173219270722,5.910237648444461,4.414707917788276,12.004090999985005,12.901426234408236,6.069595127306183,4.897012536338238,5.3777877819916045,13.841181641995005,14.775659084351703,12.35965356531594,13.454235621483122,8.09771838897632,5.677222564713325,13.828687397569514,6.644122156680857,2.6237104568472067,10.79161458760277,2.5334969187675265,25.723782109692543]}]},{\"name\":\"trace34\",\"data\":[{\"name\":\"trace34\",\"type\":\"scatter\",\"x\":[0,1,2,3,4,5,6,7,8,9,10,11,12,13,14,15,16,17,18,19,20,21,22,23,24,25,26,27,28,29],\"y\":[0,0.08969537103194114,0.2459637150633971,0.7902952506118465,3.2591990775966564,0.5233733722655193,5.888862323461671,1.821829177015569,3.4783718136800514,4.9447113509576885,9.150667734606344,8.320556849495096,3.4789814817557225,0.45992891976656036,9.24120809440106,14.353760707194207,6.079105521014897,3.4860237115803074,12.852228524738921,14.991417333706124,15.183567835187334,4.393368164908738,3.327062985803387,8.146726736700627,1.404126303762129,12.560134597677678,19.15968532250078,23.182057393923255,4.959231106980155E-4,21.043769391364005]}]},{\"name\":\"trace35\",\"data\":[{\"name\":\"trace35\",\"type\":\"scatter\",\"x\":[0,1,2,3,4,5,6,7,8,9,10,11,12,13,14,15,16,17,18,19,20,21,22,23,24,25,26,27,28,29],\"y\":[0,0.050770759752702066,0.1714102041128569,1.5126516587385685,0.929532199248293,4.79306778638697,1.3486656273371227,4.934709517181357,4.905735617414209,5.722079036960076,0.5343934242084836,0.7601635309202057,0.9990455137763949,9.147574732278532,1.3500562528604865,2.4775161024293384,15.912543956496247,12.000500891566052,12.985802891745868,5.527454914433021,15.983575206343376,14.29580390099123,0.9985210707323311,6.770696529542079,21.549800538573876,22.491085730098277,14.719360153244242,7.579663806530121,14.350172755766541,12.226390731617748]}]},{\"name\":\"trace36\",\"data\":[{\"name\":\"trace36\",\"type\":\"scatter\",\"x\":[0,1,2,3,4,5,6,7,8,9,10,11,12,13,14,15,16,17,18,19,20,21,22,23,24,25,26,27,28,29],\"y\":[0,0.8254390807762791,1.20236004309805,2.9057841351506233,2.9523158116024657,3.1172023593116305,5.043929900146431,4.48200660596426,3.188968809466523,4.230025643570821,6.09964590692461,1.7075462422796945,8.743558859062762,1.1837310058745232,10.196066691040464,9.464127222646423,13.326339557468703,10.522981573417029,7.610993443102032,7.535343872087887,5.933583753240668,9.336965148460898,13.916721805009248,22.30780233011965,10.996042329270429,19.163966134344314,7.5389658529467845,3.336038322444912,12.775860343313001,11.799158230743352]}]},{\"name\":\"trace37\",\"data\":[{\"name\":\"trace37\",\"type\":\"scatter\",\"x\":[0,1,2,3,4,5,6,7,8,9,10,11,12,13,14,15,16,17,18,19,20,21,22,23,24,25,26,27,28,29],\"y\":[0,0.9169289716505213,1.273414494008962,1.0932617482466505,0.8140995887476903,3.375476357960138,3.4553134685552047,0.9636180112372433,4.412798525182922,1.439603727998168,0.6557803372402304,0.7023295758447673,7.2976818906921235,7.763509535947284,12.459954713098618,11.912128338811105,8.466865248053118,13.56568183681054,2.2125958653596047,10.489721973989644,11.391958528102377,7.262239616511976,21.428439391141392,0.17828030913203285,12.807842150870853,17.6638653753731,23.96089091067929,11.891314497870694,10.925798580140512,4.743723998858556]}]},{\"name\":\"trace38\",\"data\":[{\"name\":\"trace38\",\"type\":\"scatter\",\"x\":[0,1,2,3,4,5,6,7,8,9,10,11,12,13,14,15,16,17,18,19,20,21,22,23,24,25,26,27,28,29],\"y\":[0,0.3600495051420969,0.6019213654530986,2.041315852636389,1.9831618944149456,4.55383894395674,5.454044314582735,1.046490694156421,5.645303661804383,1.704857472135465,2.3942451848945776,10.977561050432644,9.562742531280225,1.0141760727120288,13.651959770382447,11.873809272996642,11.72207063226832,5.282251535317956,3.393008448145653,5.730098857125938,8.471598748180448,5.773379679759465,18.318430827306283,11.075994006625281,7.02655562189676,11.993525432582821,11.09551622962688,25.359555828628658,7.35519210490566,20.78717062624999]}]},{\"name\":\"trace39\",\"data\":[{\"name\":\"trace39\",\"type\":\"scatter\",\"x\":[0,1,2,3,4,5,6,7,8,9,10,11,12,13,14,15,16,17,18,19,20,21,22,23,24,25,26,27,28,29],\"y\":[0,0.781406106030766,1.110626836838753,2.0543905684758332,2.169872478839336,0.8047465675460702,2.797305419387435,1.770021396246914,5.742072643737242,4.150517074283658,4.50337842133054,6.56911919149292,0.36223455041280817,10.59798102262829,6.16544342748684,2.4206982634141063,15.15250836868081,9.820173264058447,5.542176361634438,14.492497979956228,14.52719011450425,9.237901080417945,16.99422102331456,4.499266923844175,19.997805036281548,2.836298172416199,22.530428100932877,9.894559934027708,12.5299725497336,25.8601469369129]}]},{\"name\":\"trace40\",\"data\":[{\"name\":\"trace40\",\"type\":\"scatter\",\"x\":[0,1,2,3,4,5,6,7,8,9,10,11,12,13,14,15,16,17,18,19,20,21,22,23,24,25,26,27,28,29],\"y\":[0,0.33759108683725136,0.8942705712533094,2.8374890392301624,1.8085653263922534,3.2603057554771055,2.664251271604667,6.366528965880401,4.3729730686571715,8.699972005266394,5.471669161766073,1.8162530253662288,4.530551447098684,4.27598648316449,7.465323616991362,3.8256478406313903,12.880235551771761,6.801229632247463,0.2924997647042529,0.2276328347016553,17.285539828287263,11.50768314029559,0.5352662275456119,7.513639956783276,18.83436514847947,0.3083845624016396,3.021033903212399,25.737854714041653,1.0248174550083045,8.087917671631628]}]},{\"name\":\"trace41\",\"data\":[{\"name\":\"trace41\",\"type\":\"scatter\",\"x\":[0,1,2,3,4,5,6,7,8,9,10,11,12,13,14,15,16,17,18,19,20,21,22,23,24,25,26,27,28,29],\"y\":[0,0.3897523271688249,0.017939525951326196,1.1718714864752902,2.1924375237317513,3.32860213684448,4.734184785512131,1.19249044444393,1.3007616316134865,7.367638434872781,7.80515681958173,2.5642386304470883,6.684823204472643,12.317458257068294,8.091332798649109,3.3861676991643352,5.162742910627914,16.911406370296323,10.717897996533813,17.99952339845702,11.3858231147414,17.356035828454612,9.639490394238118,20.147547340537415,14.8656362911089,18.888354132804672,23.408739909475912,4.2020345512237505,2.8041291698764703,11.176596035772402]}]},{\"name\":\"trace42\",\"data\":[{\"name\":\"trace42\",\"type\":\"scatter\",\"x\":[0,1,2,3,4,5,6,7,8,9,10,11,12,13,14,15,16,17,18,19,20,21,22,23,24,25,26,27,28,29],\"y\":[0,0.28172036482243834,1.719703624650562,1.6133603680138346,1.4784628655039085,2.8227216578473473,5.527527374487258,0.5113352735386459,5.868157640727993,8.521998369753378,3.7617856839408925,6.727355403408388,1.5403554937576414,11.771420454926044,10.149269330937859,7.817103028761637,3.09714742473545,16.584827124970523,12.03781739500407,0.9066308335905976,11.93214232786879,18.972563293783427,17.036999683915845,3.137650138556013,16.672324142594107,13.85886070350687,19.4459653936186,8.483122015954988,24.661479489532947,13.94502468052614]}]},{\"name\":\"trace43\",\"data\":[{\"name\":\"trace43\",\"type\":\"scatter\",\"x\":[0,1,2,3,4,5,6,7,8,9,10,11,12,13,14,15,16,17,18,19,20,21,22,23,24,25,26,27,28,29],\"y\":[0,0.9874837983805507,1.67688603654463,1.4759868244366632,2.1495050833975125,3.229005649941139,5.3283555448819016,4.575907830979754,3.7937131296737254,6.802972959480455,9.710483102848094,9.885649103592845,11.435099895879715,7.560998506260619,8.255061346333122,12.402429960925035,10.738073310182957,13.10760908305716,3.529596631489743,6.398513503031487,10.388735356338799,6.608789985956912,2.382964223411368,10.247968218707491,17.263447843205377,9.960865166862257,0.48205658378411975,0.6711149584831642,17.907254109325095,21.713708188827468]}]},{\"name\":\"trace44\",\"data\":[{\"name\":\"trace44\",\"type\":\"scatter\",\"x\":[0,1,2,3,4,5,6,7,8,9,10,11,12,13,14,15,16,17,18,19,20,21,22,23,24,25,26,27,28,29],\"y\":[0,0.21056352919299248,1.3315405687454605,0.9023164494137487,0.682756334369385,4.638797407323693,5.2637360221342755,2.84210956355487,6.4008906783868635,2.8172431593084637,5.716816914651455,3.7556234491159692,5.0493543277046875,10.579028363993952,12.17993484970012,8.718750718985149,9.199090668594057,6.753345606154646,13.211561557655447,2.847187534191956,8.303564985058983,12.845678830751245,16.096657241880038,8.878105245706333,15.11483427684755,5.18999087424929,20.77008348083309,16.699982112752203,23.93501428072359,18.83581852849701]}]},{\"name\":\"trace45\",\"data\":[{\"name\":\"trace45\",\"type\":\"scatter\",\"x\":[0,1,2,3,4,5,6,7,8,9,10,11,12,13,14,15,16,17,18,19,20,21,22,23,24,25,26,27,28,29],\"y\":[0,0.577945221858135,1.6473336316577762,0.38047115124867525,2.0218458995393833,4.253559605100963,3.3404307626560743,4.2467201328411734,7.348270106431948,2.8769417109011632,3.5203899387652693,0.6921410449007883,0.577157227381131,4.276440241319904,2.8198709927444012,3.9330831235729398,6.120379480373909,4.445577740765315,9.503757323489031,7.436860841332407,5.9015927325877,6.79226604462456,17.97016793249568,8.520793534978916,13.271172401803927,14.825301529573535,20.649737856018195,24.57411143475497,9.87627256948506,23.491102338199976]}]},{\"name\":\"trace46\",\"data\":[{\"name\":\"trace46\",\"type\":\"scatter\",\"x\":[0,1,2,3,4,5,6,7,8,9,10,11,12,13,14,15,16,17,18,19,20,21,22,23,24,25,26,27,28,29],\"y\":[0,0.24675406771872388,0.22182482049771735,2.872214006228416,3.5664988158189677,0.06838068981355694,1.2755389385862135,2.9220682114127436,4.205816604322666,8.051918697399708,8.000469702944129,4.111051207676576,4.321628008132768,7.07376252118821,6.584740241412634,2.5939395397491047,13.552592066606698,12.874309440265552,7.966127774057352,10.662243013600769,15.954891412014732,0.5423254529519846,7.7981752140679,1.5260138505554823,0.7595473456137878,10.612053664412871,9.173094130723296,8.370453841721485,15.495056139349838,6.9702234826047285]}]},{\"name\":\"trace47\",\"data\":[{\"name\":\"trace47\",\"type\":\"scatter\",\"x\":[0,1,2,3,4,5,6,7,8,9,10,11,12,13,14,15,16,17,18,19,20,21,22,23,24,25,26,27,28,29],\"y\":[0,0.7017453531823602,1.8836215692666674,2.6326879508428602,1.0479935138860954,3.969500219663934,4.677369418344911,2.44634552524127,4.621705287114758,5.006543932253849,5.0433182796584415,1.149664412909369,1.406476731478496,12.580792412682642,0.28408118745799826,0.3397570003062672,10.406792915843921,10.470409761844314,13.911937049285395,3.168534433117328,7.360569499405014,9.367414214587065,16.730699784755604,6.354381727247985,8.538426305849981,10.182957059132539,3.4635065463022943,1.3526819104105905,16.914605160702383,14.672926166576826]}]},{\"name\":\"trace48\",\"data\":[{\"name\":\"trace48\",\"type\":\"scatter\",\"x\":[0,1,2,3,4,5,6,7,8,9,10,11,12,13,14,15,16,17,18,19,20,21,22,23,24,25,26,27,28,29],\"y\":[0,0.9817552600535064,1.0853192261845819,2.0873389445885837,3.8079165963480652,4.407945554685611,3.940563906638456,0.7672738778730646,0.5103900326080213,2.243642279573425,2.163595382270959,4.051081554537367,2.641092869509096,4.479442793195777,7.395845236494154,1.3579433038377968,15.481018935260202,2.4575975845849904,7.347643120205814,5.16041440033181,19.8244256618424,7.848292768207719,16.756226633194117,20.660864253672475,4.604473934359231,11.13019296921413,6.797878139439781,0.6696920180988708,18.657992584251943,13.40582574191029]}]},{\"name\":\"trace49\",\"data\":[{\"name\":\"trace49\",\"type\":\"scatter\",\"x\":[0,1,2,3,4,5,6,7,8,9,10,11,12,13,14,15,16,17,18,19,20,21,22,23,24,25,26,27,28,29],\"y\":[0,0.5462065801370535,0.2265390628739108,1.1826667395587993,3.286361721854146,0.37838931540402576,2.5507840365400636,1.1430558859020197,5.204469691606047,5.9074133077673165,8.748147981431485,7.230054149121052,3.230670753682518,6.768809159265949,4.966146274759431,9.259653320621398,9.773521809852543,12.69741843044704,10.543440026802378,17.878508997588362,11.680939644067063,9.615391314314714,1.6967673329078612,4.323794696827575,16.317530704437214,3.8877661733950104,23.11213542673039,26.435267409061183,24.584123443275043,25.881686558038822]}]}]\n",
       "var labels_HbBgcf6lRk = [\"trace0\",\"trace1\",\"trace2\",\"trace3\",\"trace4\",\"trace5\",\"trace6\",\"trace7\",\"trace8\",\"trace9\",\"trace10\",\"trace11\",\"trace12\",\"trace13\",\"trace14\",\"trace15\",\"trace16\",\"trace17\",\"trace18\",\"trace19\",\"trace20\",\"trace21\",\"trace22\",\"trace23\",\"trace24\",\"trace25\",\"trace26\",\"trace27\",\"trace28\",\"trace29\",\"trace30\",\"trace31\",\"trace32\",\"trace33\",\"trace34\",\"trace35\",\"trace36\",\"trace37\",\"trace38\",\"trace39\",\"trace40\",\"trace41\",\"trace42\",\"trace43\",\"trace44\",\"trace45\",\"trace46\",\"trace47\",\"trace48\",\"trace49\"]\n",
       "var duration_HbBgcf6lRk = 100\n",
       "var config_HbBgcf6lRk = {\"responsive\":true,\"scrollZoom\":true,\"displaylogo\":false}\n",
       "\n",
       "var animation_settings_HbBgcf6lRk = {\n",
       "    mode: \"immediate\",\n",
       "    direction: {},\n",
       "    fromcurrent: true,\n",
       "    frame: [\n",
       "      {duration: duration_HbBgcf6lRk},\n",
       "      {duration: duration_HbBgcf6lRk},\n",
       "      {redraw: true}\n",
       "    ],\n",
       "    transition: [\n",
       "      {duration: duration_HbBgcf6lRk, easing: 'cubic-in-out'},\n",
       "      {duration: duration_HbBgcf6lRk, easing: 'cubic-in-out'},\n",
       "    ],\n",
       "    ordering: \"layout first\"\n",
       "}\n",
       "\n",
       "var slider_HbBgcf6lRk = document.createElement(\"input\")\n",
       "var play_HbBgcf6lRk = document.getElementById(\"play_HbBgcf6lRk\")\n",
       "var pause_HbBgcf6lRk = document.getElementById(\"pause_HbBgcf6lRk\")\n",
       "slider_HbBgcf6lRk.id = \"slider_HbBgcf6lRk\"\n",
       "slider_HbBgcf6lRk.type = \"range\"\n",
       "slider_HbBgcf6lRk.min = 0\n",
       "slider_HbBgcf6lRk.max = frames_HbBgcf6lRk.length - 1\n",
       "slider_HbBgcf6lRk.value = 0\n",
       "document.getElementById(\"sliderContainer_HbBgcf6lRk\").appendChild(slider_HbBgcf6lRk);\n",
       "\n",
       "Plotly.newPlot(graph_HbBgcf6lRk, traces_HbBgcf6lRk, layout_HbBgcf6lRk, config_HbBgcf6lRk)\n",
       ".then(function () { Plotly.addFrames(graph_HbBgcf6lRk, frames_HbBgcf6lRk) })\n",
       "\n",
       "var trigger_HbBgcf6lRk = true\n",
       "var reset_count_HbBgcf6lRk = false\n",
       "\n",
       "\n",
       "play_HbBgcf6lRk.addEventListener('click', function() {\n",
       "   trigger_HbBgcf6lRk = true\n",
       "   if (reset_count_HbBgcf6lRk) {\n",
       "      slider_HbBgcf6lRk.value = 0\n",
       "      reset_count_HbBgcf6lRk = false\n",
       "   }\n",
       "\n",
       "  const start_index = slider_HbBgcf6lRk.value == labels_HbBgcf6lRk.length - 1 ? 0 : slider_HbBgcf6lRk.value\n",
       "  const end_index = labels_HbBgcf6lRk.length\n",
       "  Plotly.animate(graph_HbBgcf6lRk, labels_HbBgcf6lRk.slice(start_index, end_index), animation_settings_HbBgcf6lRk)\n",
       "})\n",
       "\n",
       "pause_HbBgcf6lRk.addEventListener('click', function() {\n",
       "  Plotly.animate(graph_HbBgcf6lRk, [null], animation_settings_HbBgcf6lRk)\n",
       "})\n",
       "\n",
       "graph_HbBgcf6lRk.on('plotly_redraw', () => {\n",
       "   value_HbBgcf6lRk.innerHTML = slider_HbBgcf6lRk.value;\n",
       "   if (trigger_HbBgcf6lRk & !reset_count_HbBgcf6lRk) ++slider_HbBgcf6lRk.value\n",
       "   if (slider_HbBgcf6lRk.value == labels_HbBgcf6lRk.length - 1) reset_count_HbBgcf6lRk = true\n",
       "});\n",
       "\n",
       "slider_HbBgcf6lRk.oninput = function() {\n",
       "   Plotly.animate(graph_HbBgcf6lRk, frames_HbBgcf6lRk[this.value], animation_settings_HbBgcf6lRk)\n",
       "   trigger_HbBgcf6lRk = false\n",
       "   slider_HbBgcf6lRk.value = this.value\n",
       "   value_HbBgcf6lRk.innerHTML = this.value;\n",
       "   if (this.value == 0) reset_count_HbBgcf6lRk = false\n",
       "   if (this.value == labels_HbBgcf6lRk.length - 1) reset_count_HbBgcf6lRk = true\n",
       "   reset_count_HbBgcf6lRk = false\n",
       "}\n",
       "</script> \n"
      ]
     },
     "metadata": {},
     "output_type": "display_data"
    }
   ],
   "source": [
    "val xaxis = XAxis(title = \"X Variable\") setRange (0.0, 10.0)\n",
    "val yaxis = YAxis(title = \"Y Variable\") setRange (0.0, 10.0)\n",
    "\n",
    "val layout = Layout(\"Animation.XY\") setAxes(xaxis, yaxis)\n",
    "\n",
    "val series = createXYSeries(numberToCreate = 50, length = 30)\n",
    "\n",
    "val chart = Chart(animated = true) setLayout layout addSeries series\n",
    "\n",
    "val canvas = Canvas() addCharts chart\n",
    "\n",
    "canvas.plotInline"
   ]
  },
  {
   "cell_type": "markdown",
   "metadata": {},
   "source": [
    "### 3D Animated Chart"
   ]
  },
  {
   "cell_type": "code",
   "execution_count": 35,
   "metadata": {},
   "outputs": [
    {
     "data": {
      "text/html": [
       "<div id=\"grid_nTO8MS6vi8\" align=\"center\"> \n",
       "\n",
       "<div align=\"center\">\n",
       "  <div id='graph_uNwfZDZYBc' class=\"graph\"></div>\n",
       "  <div class='animationInterface'>\n",
       "    <button id='play_uNwfZDZYBc'>Play</button>\n",
       "    <button id='pause_uNwfZDZYBc'>Pause</button>\n",
       "    <div id=\"sliderContainer_uNwfZDZYBc\" class='progressBar'></div>\n",
       "    <div id='counterContainer_uNwfZDZYBc' class='inline-div'>\n",
       "        <h3>Frame: </h3> <h3 id=\"value_uNwfZDZYBc\">0</h3>\n",
       "    </div>\n",
       "   </div>\n",
       "</div> \n",
       "\n",
       "</div> \n",
       "<script>\n",
       "var masonry = new Macy({\n",
       "    container: '#grid_nTO8MS6vi8',\n",
       "    debug: true,\n",
       "    mobileFirst: true,\n",
       "    columns: 1,\n",
       "  });\n",
       "\n",
       "var graph_uNwfZDZYBc = document.getElementById('graph_uNwfZDZYBc')\n",
       "var traces_uNwfZDZYBc = [{\"name\":\"trace0\",\"type\":\"scatter3d\",\"x\":[0,1,2,3,4,5,6,7,8,9,10,11,12,13,14,15,16,17,18,19,20,21,22,23,24,25,26,27,28,29,30,31,32,33,34,35,36,37,38,39,40,41,42,43,44,45,46,47,48,49,50,51,52,53,54,55,56,57,58,59,60,61,62,63,64,65,66,67,68,69,70,71,72,73,74,75,76,77,78,79,80,81,82,83,84,85,86,87,88,89,90,91,92,93,94,95,96,97,98,99],\"y\":[0,0.08285665483232285,0.6031108180043558,0.8392620026221214,1.5372980972315924,2.535498295942914,0.3117565415172665,1.401058088393963,4.338466244944524,4.822098911383388,4.310935740140025,1.9218706266019407,5.796314428050048,10.280393509764174,13.397838610425861,2.4542508132474654,0.9356114175144796,11.604668702412928,2.07348868715762,10.11269540111664,11.057821166787544,9.836708701014432,20.58168196980342,12.289579213215806,2.45534424216593,20.602920175534,19.69169143825523,5.933672585081128,1.3531146467226307,2.4159978489753557,17.585714063012354,2.188623674291616,23.07621415889256,12.73646416771262,16.32823767082744,33.68486514816597,18.396286786285412,26.91713205456152,13.249014837036825,19.45029807764327,34.326894966954995,12.382072347809803,16.414078922808905,16.00274778258409,42.5686360567967,26.67095247520324,7.440323643596074,7.9606302410647,30.598788721590672,18.55969829715419,45.478473251527795,48.707483589767186,30.307472590585753,10.599279867445574,21.496908449157843,2.521021230010735,1.3528162598061302,48.34608490422754,52.29469964996717,36.37814830172963,7.2914237239366875,8.539735122777584,27.206390119910154,10.623930222625804,2.287500938411789,36.76742614569366,39.483515632708674,29.09486980294537,1.0643249792795308,27.987850357717743,35.098611027350536,70.36495581265939,66.98543685279083,40.922529801274194,40.46645678327393,53.78685243219686,6.9897741186924645,50.007919504745814,45.56463799128674,18.180297166038326,3.8052156126791736,72.58798256820393,6.411060823489284,51.62524028506593,21.67845849334655,80.56406277950286,55.06997461255193,11.098513284088108,20.03591245783944,4.056728807017079,2.560113916254924,76.89980096215831,64.2803313614567,84.02297411721982,32.47911592012212,25.195607524081332,94.58123086110976,23.461591251191003,69.08699469174321,15.818369902134144],\"z\":[0,-9.031034219761423E8,-3.894841087389074E8,-1.9467407454720793E9,-1.0356941819270751E9,2.0077981793826234E9,-1.3432325741764069E9,2.4098272926018596E9,7.1160281624150305E9,-3.9626845145759387E9,6.200703366214578E8,-8.019498126753115E9,7.339648093466594E9,-1.3695410016493504E10,1.339717280654551E9,-7.117208574475083E9,4.1115267309129333E9,1.711076336818658E9,4.1801014361686754E9,-1.5567354948683725E10,1.3085514419012594E10,5.095413306883789E9,-2.759261717685936E10,-8.684241819813663E9,2.1198020058554108E10,2.0382581044558346E10,2.859013537454501E10,-6.839825734881946E9,4.906068045967557E10,-2.5952475066966606E10,-1.035056569203143E10,-3.550114646715382E10,9.422413904645332E8,9.0826731003676E9,-5.469161857226547E9,-9.849691944098486E9,-1.758657598679887E9,-1.084888246969124E10,-4.578392977166854E9,-6.532372973249996E9,-1.6848611241548311E10,-1.5667836241547983E9,-2.1566312737060375E10,-1.953942777939005E10,-1.131221110297276E10,-1.3240562092112385E10,4.3600412125367E10,-3.400839782075441E10,2.155321417912189E10,1.0816432802427394E9,3.0041371779716633E10,-1.0054940636898975E10,-1.9368249719225647E10,2.4014020389480595E10,4.303672788053399E10,3.897202327117999E10,2.751724140239715E9,2.7718561586522907E10,-6.775723888614561E10,1.0974268740501822E11,1.394927182058211E10,1.5760654579196756E10,9.156413427790707E9,6.91910869659108E10,8.382736997222018E10,-1.0902690972311636E10,1.1711101046405884E10,-1.6559758549579454E10,-1.9632337233658688E9,1.7620747698229764E9,5.768922910727753E10,8.088214883618988E10,2.0208163231015854E10,-3.088733934565315E9,-1.099219796606314E9,-5.083821609387535E10,-4.4465890393034676E10,4.003443607130088E9,5.5795580078376434E10,-1.2843123343883007E10,9.939801445308885E10,2.8123670554176983E10,6.183776717272198E7,1.9067718429874623E8,7.856545280038748E10,-1.450091286592454E11,1.2334201314084204E10,6.5167207600371086E10,-2.2792555313827366E10,-1.7715997487429058E10,3.4820285066555695E10,1.9446293245451332E10,2.1541230600898215E8,-1.6828423007112625E10,-4.659370723223721E10,2.623708511083644E10,4.062382019505609E9,-2.998520244019683E10,-6.57173868797331E10,-5.645174039588311E8]}]\n",
       "var layout_uNwfZDZYBc = {\"height\":550,\"width\":600,\"hovermode\":\"closest\",\"title\":{\"text\":\"Animation.XYZ\"},\"showlegend\":false}\n",
       "var frames_uNwfZDZYBc = [{\"name\":\"trace0\",\"data\":[{\"name\":\"trace0\",\"type\":\"scatter3d\",\"x\":[0,1,2,3,4,5,6,7,8,9,10,11,12,13,14,15,16,17,18,19,20,21,22,23,24,25,26,27,28,29,30,31,32,33,34,35,36,37,38,39,40,41,42,43,44,45,46,47,48,49,50,51,52,53,54,55,56,57,58,59,60,61,62,63,64,65,66,67,68,69,70,71,72,73,74,75,76,77,78,79,80,81,82,83,84,85,86,87,88,89,90,91,92,93,94,95,96,97,98,99],\"y\":[0,0.08285665483232285,0.6031108180043558,0.8392620026221214,1.5372980972315924,2.535498295942914,0.3117565415172665,1.401058088393963,4.338466244944524,4.822098911383388,4.310935740140025,1.9218706266019407,5.796314428050048,10.280393509764174,13.397838610425861,2.4542508132474654,0.9356114175144796,11.604668702412928,2.07348868715762,10.11269540111664,11.057821166787544,9.836708701014432,20.58168196980342,12.289579213215806,2.45534424216593,20.602920175534,19.69169143825523,5.933672585081128,1.3531146467226307,2.4159978489753557,17.585714063012354,2.188623674291616,23.07621415889256,12.73646416771262,16.32823767082744,33.68486514816597,18.396286786285412,26.91713205456152,13.249014837036825,19.45029807764327,34.326894966954995,12.382072347809803,16.414078922808905,16.00274778258409,42.5686360567967,26.67095247520324,7.440323643596074,7.9606302410647,30.598788721590672,18.55969829715419,45.478473251527795,48.707483589767186,30.307472590585753,10.599279867445574,21.496908449157843,2.521021230010735,1.3528162598061302,48.34608490422754,52.29469964996717,36.37814830172963,7.2914237239366875,8.539735122777584,27.206390119910154,10.623930222625804,2.287500938411789,36.76742614569366,39.483515632708674,29.09486980294537,1.0643249792795308,27.987850357717743,35.098611027350536,70.36495581265939,66.98543685279083,40.922529801274194,40.46645678327393,53.78685243219686,6.9897741186924645,50.007919504745814,45.56463799128674,18.180297166038326,3.8052156126791736,72.58798256820393,6.411060823489284,51.62524028506593,21.67845849334655,80.56406277950286,55.06997461255193,11.098513284088108,20.03591245783944,4.056728807017079,2.560113916254924,76.89980096215831,64.2803313614567,84.02297411721982,32.47911592012212,25.195607524081332,94.58123086110976,23.461591251191003,69.08699469174321,15.818369902134144],\"z\":[0,-9.031034219761423E8,-3.894841087389074E8,-1.9467407454720793E9,-1.0356941819270751E9,2.0077981793826234E9,-1.3432325741764069E9,2.4098272926018596E9,7.1160281624150305E9,-3.9626845145759387E9,6.200703366214578E8,-8.019498126753115E9,7.339648093466594E9,-1.3695410016493504E10,1.339717280654551E9,-7.117208574475083E9,4.1115267309129333E9,1.711076336818658E9,4.1801014361686754E9,-1.5567354948683725E10,1.3085514419012594E10,5.095413306883789E9,-2.759261717685936E10,-8.684241819813663E9,2.1198020058554108E10,2.0382581044558346E10,2.859013537454501E10,-6.839825734881946E9,4.906068045967557E10,-2.5952475066966606E10,-1.035056569203143E10,-3.550114646715382E10,9.422413904645332E8,9.0826731003676E9,-5.469161857226547E9,-9.849691944098486E9,-1.758657598679887E9,-1.084888246969124E10,-4.578392977166854E9,-6.532372973249996E9,-1.6848611241548311E10,-1.5667836241547983E9,-2.1566312737060375E10,-1.953942777939005E10,-1.131221110297276E10,-1.3240562092112385E10,4.3600412125367E10,-3.400839782075441E10,2.155321417912189E10,1.0816432802427394E9,3.0041371779716633E10,-1.0054940636898975E10,-1.9368249719225647E10,2.4014020389480595E10,4.303672788053399E10,3.897202327117999E10,2.751724140239715E9,2.7718561586522907E10,-6.775723888614561E10,1.0974268740501822E11,1.394927182058211E10,1.5760654579196756E10,9.156413427790707E9,6.91910869659108E10,8.382736997222018E10,-1.0902690972311636E10,1.1711101046405884E10,-1.6559758549579454E10,-1.9632337233658688E9,1.7620747698229764E9,5.768922910727753E10,8.088214883618988E10,2.0208163231015854E10,-3.088733934565315E9,-1.099219796606314E9,-5.083821609387535E10,-4.4465890393034676E10,4.003443607130088E9,5.5795580078376434E10,-1.2843123343883007E10,9.939801445308885E10,2.8123670554176983E10,6.183776717272198E7,1.9067718429874623E8,7.856545280038748E10,-1.450091286592454E11,1.2334201314084204E10,6.5167207600371086E10,-2.2792555313827366E10,-1.7715997487429058E10,3.4820285066555695E10,1.9446293245451332E10,2.1541230600898215E8,-1.6828423007112625E10,-4.659370723223721E10,2.623708511083644E10,4.062382019505609E9,-2.998520244019683E10,-6.57173868797331E10,-5.645174039588311E8]}]},{\"name\":\"trace1\",\"data\":[{\"name\":\"trace1\",\"type\":\"scatter3d\",\"x\":[0,1,2,3,4,5,6,7,8,9,10,11,12,13,14,15,16,17,18,19,20,21,22,23,24,25,26,27,28,29,30,31,32,33,34,35,36,37,38,39,40,41,42,43,44,45,46,47,48,49,50,51,52,53,54,55,56,57,58,59,60,61,62,63,64,65,66,67,68,69,70,71,72,73,74,75,76,77,78,79,80,81,82,83,84,85,86,87,88,89,90,91,92,93,94,95,96,97,98,99],\"y\":[0,0.7243400089689072,1.5854851348472216,0.7445759638892429,3.752921764958575,1.9673718792439128,2.7506797216297247,1.4013658106122886,7.129492069660101,7.594579213311716,1.3797455260497093,5.686827662485119,7.954093754350071,0.9715693452333873,8.494683285252451,13.366141334667638,8.74859408591268,4.509616495947455,9.103837401106631,13.032300062728844,4.112781382570406,11.90654594098581,11.81784186719153,21.432626766714954,22.88436993571784,8.899630927860812,12.282891810442013,4.304588350773004,7.303257836245118,27.304370996042223,8.109144657790711,18.606605524143045,2.136160312126666,23.396238108433053,5.260149159222792,25.213137488379935,22.124979025056543,30.08895005660129,17.458059515651126,5.565203092298513,22.455262410773024,34.12260023267209,17.299039771831783,32.67766739568478,2.449910358902123,10.848028880062936,36.71370150287905,11.55303118469116,15.627845400723388,8.430120625248962,31.39862629492288,11.688210896157461,3.877721334764826,36.642362866394464,27.136999323171292,6.235780663159439,36.03287112436857,42.13786120273084,21.769190534703732,52.7444241481796,27.845627295388965,58.40818219207086,49.217638251833804,22.504916449230816,51.49680423691599,55.83085731915579,33.66473827536107,48.617814133171116,12.589660810120504,12.509122989013669,38.977572716439596,11.227106110832958,9.316880979396082,59.273451543521375,37.019193967789924,38.18055240182129,8.404144120038001,28.493774220690934,46.832858320727425,31.93206240119818,51.774728939225945,31.49383235783115,3.083076888298404,0.04449310939082518,42.896131932557346,4.614981317020915,16.835599890263936,66.43242884131499,80.71209683710259,55.595898758026976,21.00742260237179,19.7541006471533,36.181628857246196,91.16706916935095,76.86779822678398,85.36937601638681,69.99047826766224,22.85462968330078,93.07173059688097,68.27686943617886],\"z\":[0,-6420228.028069771,-7.84032370799999E8,-1.304319250901668E7,-2.701104655915445E8,-6.045443903377342E8,-4.526722685991445E9,7.344875383614897E9,-6.093709442313076E9,-8.5923259722701E9,5.58031894730749E9,-1.803767903593464E10,-8.843956594072144E9,-2.7948995864133353E9,-2.2431503146059976E9,1.413155707946338E10,-3.0519598739983654E9,-4.694642964684468E8,4.338739930432888E9,-3.3113016377399414E10,-2.322129110845494E9,3.7204107172755446E9,-5.011723919718408E8,-1.6813291074919968E10,-4.901646383763624E7,-2.251674446141141E10,1.3641945706860118E9,6.40129782354446E9,9.000768217904955E9,5.991334110144773E9,-1.4216034423430408E10,4.378157010118629E9,3.091626510495983E10,-1.976895396159791E10,-1.1585509630839446E9,1.5861766217413877E10,-1.450061280722712E10,7.803562122906756E9,1.0829881911966028E10,-1.8289566718755755E9,2.7480250439345955E10,1.6770530348386187E10,-1.872493506927641E10,1.8899745212176384E10,3.606488599349348E8,2.481056168407928E10,1.5493454496528881E10,4.802674226988314E10,-7.103998912028639E10,-7.397550736401787E10,-3.966590031535584E10,8.667874037821707E9,-2.4866178344190758E10,-3.3706358265260525E10,3.952687766957949E10,3.684688232803017E10,-3.101369613464931E10,-2.1656774386263256E10,-2.090515895523818E9,-5.814745951239297E10,-2.8504355151258965E10,-1.0141772942863046E9,-2.2635404383100536E10,5.9940600302671196E10,8.606996769757885E9,-1.4264026057690275E10,6.653723935761753E10,7.484468093735251E10,5.502092713504535E9,8.375391015832247E9,2.3164952992924988E10,-1.92801466736865E10,9.52076779472754E10,4.962351636007708E10,-2.0711469929945656E10,-3.92649541454796E10,4.2840091804207275E10,9.347317327707475E10,-3.869297977353033E10,-2.527010841916037E10,-4.203183046021457E8,9.158981992620709E10,-1.2999306918963838E11,4.5998941157017595E8,3.4697452435320854E10,2.2293856286724304E10,-6.199061216428491E10,5.696512976858592E10,3.2044344433254974E10,-1.3458701316307901E10,-1.6862298282759848E10,-2.746634044169157E10,5.012906752286066E10,-3.1973754607581036E10,-9.247246694902E10,4.83725302314609E10,5.317759280534419E10,1.6938125087522833E11,1.1867621843960266E10,1.2073282049248268E11]}]},{\"name\":\"trace2\",\"data\":[{\"name\":\"trace2\",\"type\":\"scatter3d\",\"x\":[0,1,2,3,4,5,6,7,8,9,10,11,12,13,14,15,16,17,18,19,20,21,22,23,24,25,26,27,28,29,30,31,32,33,34,35,36,37,38,39,40,41,42,43,44,45,46,47,48,49,50,51,52,53,54,55,56,57,58,59,60,61,62,63,64,65,66,67,68,69,70,71,72,73,74,75,76,77,78,79,80,81,82,83,84,85,86,87,88,89,90,91,92,93,94,95,96,97,98,99],\"y\":[0,0.11986276061352852,1.3461029162115008,2.5285183870510344,0.874783242292323,1.0901668374782647,4.960215078445964,4.29830463221601,7.94541237234264,1.4415207658911848,6.546693255313677,3.3511214803632137,11.637167198548177,9.584595492712882,12.608039490196308,8.272249407711962,2.2412283656671956,0.3261176336670497,15.232536695619661,18.652465107622472,8.277351561385835,11.024640623183661,10.736466078076829,9.509394075900714,6.648846062743239,6.614674963732478,5.481816690935621,24.752953781635306,5.5327444025879835,2.7236755032169873,9.515490158167658,22.289005154366414,7.820114177344976,31.295843986050098,2.885979560353892,26.72644129453791,19.031815675529455,11.00191794118027,9.566716012569211,27.82480223025079,25.23364071254797,24.505167959080847,40.10183677910544,14.042183983559077,5.811695012663112,27.620585246104103,8.639898565360662,20.066602604549274,35.2940488889344,10.796845200792566,39.184169455402454,7.288262767252527,11.968204889130318,37.41898042615057,41.91448106839852,38.04510226612806,41.09564381420385,37.42384261648361,43.57529944638222,44.39981791454082,13.31478062669569,12.890343151388356,28.4275648950192,24.433139009273596,22.601963651213502,55.86219214574554,34.37809387221799,36.815414223264746,67.17676207963109,66.93230392326802,38.87981384615174,30.996765090750642,43.24266633582666,68.3153230623375,29.288866788604142,26.98490864436804,75.69749668247941,11.507789318175083,30.820716393467045,24.609480574796216,28.17923302982245,2.434242551938083,80.31663857034756,11.652137670783441,53.28275200060951,82.45221336489064,61.964714664118276,7.502962525530499,74.74093242375505,33.9894401662135,18.165226981018638,40.33576668012398,41.05986459634019,92.16278566779269,81.13962021658605,27.427626547370508,38.7825361721743,13.730329755359426,80.90462227830443,53.431654611055755],\"z\":[0,-845421.6259728468,-9.449650388542236E7,-8.113774855537691E8,4.770975486384169E9,-2.1074475561371107E7,1.1405102017957792E9,6.629571045338761E8,2.846165032178666E9,-2.9661421684153457E9,1.1856432146931973E10,-4.914981812076998E9,4.866932377313182E8,-6.998422773328209E8,-1.2121388926631826E10,-3.268211781100082E9,1.2375222587495067E9,-9.288971596273697E9,4.0801286288053805E8,-2.8852238611505833E10,8.915814930768217E9,-1.251378923123829E10,-1.9130967685005074E10,1.5070316121373558E10,3.5365472757029884E10,-1.6491467250067108E10,3.2590102545549423E10,4.2320950876668015E10,1.2734836214822245E10,-5.0538250293788414E10,2.696218946027839E8,-5.2062613617367525E9,-1.8891278097894573E10,-2.8504881460699867E10,2.7535216624253284E10,-1.3149818194036627E9,2.898874912975687E10,-1.139795366090864E10,-1.1357181930844288E10,-2.0164175623354267E10,5.757592215284976E10,-4.471269954903988E9,-4.029379239568497E9,-4.176255581874698E10,-5.380811250409456E10,3.91766444858792E10,3.768786917793189E10,-3.680905927150865E10,-1.8798276796282332E9,-3.3053245925113773E10,2.785894326989214E10,3.3916264471362713E10,-4.898669648072748E9,8.411840006169202E10,3.1346127395112125E10,8.231851948755414E9,-7.826725127221037E10,8.971894598812553E9,-6.260545761355887E9,4.024846934433211E10,-3.624415044423176E10,1.576358336771057E9,-7.383413788189656E10,2.8315434346256577E10,-8.095959128575424E9,-1.6341974363240833E10,-1.2424477403995155E10,-1.0164500524116101E11,8.913232112610586E9,-6.996523571682019E10,-9.081758898605809E10,-1.1551940006847069E11,-4.433231579476699E9,4.927372514196536E10,-2.295227894795634E10,-1.9450846380581135E10,-1.8265830611102062E10,-5.162770929640037E10,4.002595566064121E9,-5.915166329400153E9,9.171314651024937E10,2.3225328581856995E9,7.725467465422229E10,3.6008167118900976E9,-7.31470363294795E10,-1.4101203253340503E11,1.0397679288874721E11,-2.384705864353295E9,1.5555753141666635E11,-9.015032258874278E10,8.281122433284966E10,4.17945064764483E10,2.279637316834236E10,-7.787440273983984E10,8.93165321004411E10,8.556744668819855E9,1.2595044726474735E10,7.432592810834247E10,4.517182080906634E10,6.650472611479877E7]}]},{\"name\":\"trace3\",\"data\":[{\"name\":\"trace3\",\"type\":\"scatter3d\",\"x\":[0,1,2,3,4,5,6,7,8,9,10,11,12,13,14,15,16,17,18,19,20,21,22,23,24,25,26,27,28,29,30,31,32,33,34,35,36,37,38,39,40,41,42,43,44,45,46,47,48,49,50,51,52,53,54,55,56,57,58,59,60,61,62,63,64,65,66,67,68,69,70,71,72,73,74,75,76,77,78,79,80,81,82,83,84,85,86,87,88,89,90,91,92,93,94,95,96,97,98,99],\"y\":[0,0.6479847651714687,0.674611560079547,0.04494592851854973,2.559790542114487,3.2550205666401673,5.699572949698854,6.23921758198223,3.2780961320814352,3.278320493968772,2.0798577551516493,5.0030285306629665,11.390206021039969,12.969129598981532,7.82753695357686,14.923586443255049,9.29144626534797,9.540446718547802,15.383805690249009,8.890914472378116,12.365398140443196,8.231442054858263,19.015990601048987,11.717637795999934,19.62588825566527,9.264247173811938,22.981061731591048,25.495050854232648,20.969577536328366,12.847731370804635,4.205599504032457,18.092520685712007,11.098664162852035,18.978580195691006,1.1140080616170882,19.765877050900702,11.236707428992942,34.62397871625436,37.54437371889244,23.762304278236318,13.874817951329156,38.19246626609638,35.674765946647426,15.344432294739088,19.200513919947646,31.260072551701143,12.791978118734429,17.05472235082297,24.827357086232954,37.567683762658994,29.81963344402227,22.553002241794957,47.21008471561819,0.592678603519834,47.03334960989321,43.23497409464237,45.94732832908063,13.773290681774585,46.57717276568561,40.327822585860346,7.292200694095299,39.97779870942597,10.507779766850748,46.51059345684694,16.8599419177448,60.31260818603951,9.381074514815337,12.571873790036701,65.99156409153369,51.10355302965131,56.109609147731305,21.445423986193187,59.75293649335277,43.11318578606068,41.20897707465526,65.40579912772655,31.37005944687153,74.02371920249185,76.86669799643406,37.51073121395361,74.27329026668153,26.170280491048672,66.75836615332804,45.794955575204256,59.09622205617617,82.70253349461142,32.452801764311914,28.501460000030917,85.19846373096422,38.03437937922906,81.84072840519501,23.03064433591963,48.80604090362305,86.86130753701664,42.54004490924758,91.54568732364154,88.93831557134679,66.4332795046458,97.92511187105322,70.54354050756336],\"z\":[0,-7.231456034713493E7,1.5416031809901088E8,1.0925346745635045E9,3.6086241402099814E9,6.774375305637377E9,5.45384465198085E9,2.9554906788236656E9,-1.5164614738570123E9,1.1185040921448484E10,-1.0779496295575113E10,-1.1783125915485406E9,-8.267423274069799E9,1.9445743348818264E10,4.439287568292123E9,-1.0871634929286438E10,-1.2363003695509054E10,-4.611763208824773E9,1.0377345670285261E10,1.756465111952236E10,1.775230759475941E10,-2.583151646960917E10,-7.927886205608927E9,-1.8465572638173615E10,-2.0127869971446228E10,8.435961254061746E9,-9.430101716146471E9,3.352431868721686E9,-1.6687068002358868E10,1.550700355364904E10,1.8719571276827908E10,-2.511224802899107E10,1.5022039126887825E10,2.4364705688865736E8,1.7346539819231018E8,-1.4125425643050287E10,-8.674955050716028E9,-3.18449708057952E9,5.571406065971392E10,3.256457215361168E9,-5.359990406679714E10,-1.0990716670276432E10,-3.6020152603785706E10,-1.2963997748354034E10,-4.927988812085987E9,4.443149577482261E10,1.9668083043981014E10,-1.1131668524540048E9,-3.5217320562318245E10,-5.993361016096159E9,1.270120404746838E10,-1.1793196047388535E10,-9.261773620731248E10,-5.2966654368040886E10,-6.98910601832967E10,2.6214734890029892E10,-8.489077329885516E10,-5.612836687409298E10,-6.087560198607813E10,-2.665944440690523E8,2.884724152824545E10,7.551772502655751E10,1.7837169873216293E10,-1.4537961856895895E10,-2.552174169679597E10,8.837684341355004E8,8.061898771749561E9,6.575554971093557E10,3.435521001173042E10,-3.4730765537825615E10,-9.305192030454762E10,2.9424164670055527E10,1.6318700054526856E9,-5.927644754590917E8,-5.262480035484303E10,-5.890758244824416E9,-1.9538757548125225E10,5.3793935102885544E10,-1.273127760663053E11,4.129435845124921E10,-5.963395138789531E10,-8.055604917828603E10,7.44162818380057E9,-2.548863352130304E10,3.0942652642154808E10,-2.2170463716805275E10,-4.765745835543273E9,-1.6161491039562204E11,-7.548765144790926E10,-9.310697953342981E9,8.44334358618492E10,1.1458827836653206E11,2.949602128295693E10,-1.2880666162610909E10,-9.381071983187009E10,-3.0976894977821198E10,6.998312936066156E10,6.219079701368236E10,-7.270832810216568E10,1.3130573590167006E11]}]},{\"name\":\"trace4\",\"data\":[{\"name\":\"trace4\",\"type\":\"scatter3d\",\"x\":[0,1,2,3,4,5,6,7,8,9,10,11,12,13,14,15,16,17,18,19,20,21,22,23,24,25,26,27,28,29,30,31,32,33,34,35,36,37,38,39,40,41,42,43,44,45,46,47,48,49,50,51,52,53,54,55,56,57,58,59,60,61,62,63,64,65,66,67,68,69,70,71,72,73,74,75,76,77,78,79,80,81,82,83,84,85,86,87,88,89,90,91,92,93,94,95,96,97,98,99],\"y\":[0,0.6921400920448064,0.8963742910908608,2.8664321109344217,2.3475480880456296,0.058584703987621944,2.6536844206472034,3.4883408946665684,2.6949917216311245,1.3968912162147056,8.131202791306643,8.446351498364232,6.974125048256437,8.097230690622267,4.888676157948581,5.592973722592234,15.756969627628486,10.015977375688715,7.061562209544336,16.896393239968884,6.5804078586461445,6.22666627443964,16.667321869477252,1.3666317848264087,16.680209770769185,2.97902190108576,10.68469584799009,15.058803752609938,3.1553434456657468,27.16465970237324,11.129982294272878,12.21231920628818,24.486767249199282,20.090000077664982,30.65802939472513,13.33097817436849,27.601516707873763,5.659687784182209,21.507666316154015,23.680774206351604,34.55278168242394,28.427305805073757,5.141547146808557,22.529876489957214,6.629810091932072,16.624485671373968,25.948959684188406,3.728711159818583,1.5679571540696742,8.484584285992746,41.13697360886103,16.17726535923816,11.74889833264055,6.182966174438155,42.68042317918115,54.60174097494512,30.114034265516167,12.772550642697855,20.18461259067104,3.113490377552692,32.210420362644015,35.85074025952692,1.9863267013836563,17.499677441580324,63.59811238997205,8.602005486917504,54.028672454291765,66.34750939478819,10.02066019387484,54.56943139172915,18.24353037818577,35.18196582760812,31.526653338599424,37.26825892284894,64.61192086481678,63.050883649766796,25.379576995675805,67.81502055167782,17.997373914334652,43.67092565602589,22.35600477677229,16.357195838913174,58.510513900315395,20.603452816927643,49.15804043820773,42.50042034448634,18.814399283083695,34.21053634125802,26.405293057161863,29.39316479163866,39.669831930213114,3.5984141614145404,65.27408351935387,19.89249726556873,48.3977655295741,5.638478165739636,12.56750846698845,19.548942678960557,90.05216758698445,25.714497701375606],\"z\":[0,-3.414427338580343E8,-7.75793888703465E8,-3.5986855818084426E9,2.98829612881228E9,-4.803432503271755E8,-8.865487109867601E9,-1.3378494528655571E10,-1.1918558428827185E10,-2.965260095599125E9,-7.558515330677139E9,2.6326047150176344E9,3.581464749839986E8,-3.8405799367335773E9,-9.648643315585772E9,3.513796033416E9,-9.770427814096859E9,1.7511834213662678E10,1.7993222660185509E9,2.594852429809333E9,-2.5175962025975956E10,4.601586427894985E9,1.6350920430349114E9,-1.3519090370009085E10,-5.588072553710168E9,-2.8451836788407097E10,1.185313183277357E10,4.271118978250966E10,9.966954929129642E9,4.978330745375568E10,-5.399174680018744E10,-6.967084216885905E9,-4.384228228288596E9,-9.4689760805871E9,-2.2045974685406185E10,-9.197930959072859E9,-3.164749939154664E10,1.570788098617599E10,4.354736228575936E9,-9.769933323792776E9,9.954359731083769E9,-1.3094386304645357E10,1.1806533478532675E10,-2.0227429647368687E10,3.984286813136041E10,-9.45384679079701E9,-4.800772411918897E8,1.3976765014685513E10,1.0326308962909054E10,2.7967138458691273E9,-3.9827324956352835E9,3.8898664870807495E10,2.8577108818510675E8,-5.2875088268496864E10,-6.673798525872832E10,1.6430123960319773E10,3.2598591941095802E10,-8.739633344596443E9,6.436544076368313E9,6.165847315661543E10,-8.398178571658133E10,2.108549079655754E10,-2.7395676627292786E9,4.551610644877242E10,7.360338407344643E10,1.3511072150929413E10,-1.2776254017160501E10,9.987301207761964E8,9.43286387082667E9,3.793733733283113E10,3.3247719746527033E9,-4.034980841941535E10,-5879217.1738307085,6.5868849518560776E10,-3.4072033907903763E10,-1.3033743731326147E10,-3.8318969796816765E10,-2.4645574028642796E10,-2.7350646566700573E9,-3.628605789220248E10,-1.2993873726380507E10,-4.4104045205951385E10,-9.798530678314793E9,5.185266620438052E9,1.1561291213199768E10,-1.413033480346748E11,6.3061140405810844E10,-1.3290493854371071E11,3.9847342266288895E10,1.8089822535174656E8,1.2009469925485573E10,2.6240639340230606E10,-1.841008364734286E10,-4.604364159255964E10,-1.3912322838491284E11,-1.2300856329939426E10,1.078278817226048E9,9.205562935266676E10,-5.285686823612468E9,-7.107230291534807E10]}]},{\"name\":\"trace5\",\"data\":[{\"name\":\"trace5\",\"type\":\"scatter3d\",\"x\":[0,1,2,3,4,5,6,7,8,9,10,11,12,13,14,15,16,17,18,19,20,21,22,23,24,25,26,27,28,29,30,31,32,33,34,35,36,37,38,39,40,41,42,43,44,45,46,47,48,49,50,51,52,53,54,55,56,57,58,59,60,61,62,63,64,65,66,67,68,69,70,71,72,73,74,75,76,77,78,79,80,81,82,83,84,85,86,87,88,89,90,91,92,93,94,95,96,97,98,99],\"y\":[0,0.5007777870295034,1.1534500790616413,1.0504974312286086,3.167944151871521,0.7096761886092917,4.298777413821886,1.7399635250726329,1.235326075922889,6.0003663638244165,9.020507688112748,3.5165849412856973,0.6469825902211555,11.436528394164448,7.159630927402558,2.7168190404160963,2.17833416943971,12.49492780878611,16.9291530871674,1.2007895784832059,15.290186859456336,18.22729418895318,15.376408522922876,16.664148179297104,19.237511749404923,12.658558007726189,12.207297645163724,1.6795606020613496,22.53164633436587,11.562268008262777,27.02501500039779,11.501696278176258,23.149292335001842,14.66221034687475,0.5114164288129739,24.603205929090553,31.601428730276943,33.58073297994031,24.10553701456759,36.33103986465447,23.870749422305323,18.73905507454974,6.5609309145681225,40.23261987135347,17.54753835754843,35.162878062383705,15.641420565059715,36.74980745818366,0.4909557517324572,10.007939965263452,25.393568395093997,46.36534349555322,43.26555685971731,28.844778784952908,38.163652968834114,5.161421666898602,38.70152618781973,25.579853094665392,54.05723762867296,24.363347089433365,50.45147416975298,34.59132529266713,29.12045231266064,32.042782360941196,13.616885106453125,14.472300953838605,51.40393242598466,13.99495406342079,58.64326187276356,47.952012160501866,7.5030228417731895,68.13227571472218,28.98476414087185,60.35648417430426,15.401198334301816,43.80329426535973,73.76669528654817,33.62448917635942,8.727872897301427,47.500523340358605,75.07748647761399,75.662197816221,73.12669872280836,58.713699287722186,11.85096489248852,51.950774400301064,65.56624231767566,4.466270773759411,76.80453566356005,28.065331204465895,58.36138526168088,56.59242713391522,25.82959815797195,55.37103206677726,53.66116416175649,38.31981162440179,6.836960145705383,92.88290041926341,79.44681999883939,94.46914639153957],\"z\":[0,-6.661557277658535E8,-1.1966428742128136E9,-3.9139925880152893E8,-2.10299430410805E9,3.69006229712106E9,-4.752755724932331E8,2.9527144006861997E9,-2.808273763594325E9,-1.1536302170358316E10,-1.5371109556907206E9,2.3196727126706085E9,1.1850872519006727E10,2.2446101007125008E10,4.262396911783404E9,8.463924130673752E9,-7.24010607881199E8,-2.289169742560393E10,-2.5891775094825512E10,9.046095984641681E8,-2.409032087246792E10,7.013613550062565E8,3.306096115142433E10,3.655413425880318E10,-1.6028167352350399E10,1.512783042060547E10,-1.0828804483971944E9,-1.2908795937778778E10,4.991110314446643E10,-2.0779402154822502E10,-5.127604097226435E9,-1.3735881042521357E10,-8.597891471818312E9,-1.637755439000486E10,-2.466732509212145E10,1.7654205398738697E8,-3.9379854220724655E10,-1.137989645843887E10,9866970.238071311,-1.835942045750785E10,1.2459359402631987E10,5.33155403684159E9,2.117438064263334E10,-1.2637050028263077E10,2.0556068152163098E9,-2.5380471088194393E10,3.181006072271505E10,-3.46694467445215E10,-7.018238214200106E7,6.295566700092295E10,7.157233284949617E10,-5.645325237690569E10,-1.1986803041080954E10,-3.0060263051989937E9,-4.0977129071957E10,8.779994877909073E9,1.4743136818024628E9,-4.5485578734440285E10,-3.942492349003005E10,4.316390029991071E10,-5.623788806086174E8,-3.4532490092528534E9,-2.503608786067013E10,-6.3220727019943146E10,-1.0579084806478432E10,1.5239888099662182E10,1.1960480307264012E11,1.3872847616596655E10,-3.3598100399712486E10,1.63058028960307E10,1.2276865209974388E11,-3.1671435939607536E10,-4.188141473973218E10,5.013462698695625E10,-1.0016708760633342E11,-1.647239816580007E10,6.608255297944987E10,-3.0522511756864834E9,-3.607558125430088E10,3.164861075511783E10,-8.428445626532507E10,-1.6028431278077562E10,-1.0042169423633373E10,-3.4382709361831825E10,3.002834563683589E10,-8.862066707710582E10,-2.1281164138477875E10,1.5416782897037088E11,1.3325450056908853E11,-1.0516260361370684E9,1.3044148883365584E11,-5.331125162119756E9,-4.529926858476081E9,-1.762735889790756E9,5.107519562856868E9,-4.132807172003998E10,5.8126358853108345E10,1.0611911911096259E9,1.47627860886418E8,1.2646174477821095E10]}]},{\"name\":\"trace6\",\"data\":[{\"name\":\"trace6\",\"type\":\"scatter3d\",\"x\":[0,1,2,3,4,5,6,7,8,9,10,11,12,13,14,15,16,17,18,19,20,21,22,23,24,25,26,27,28,29,30,31,32,33,34,35,36,37,38,39,40,41,42,43,44,45,46,47,48,49,50,51,52,53,54,55,56,57,58,59,60,61,62,63,64,65,66,67,68,69,70,71,72,73,74,75,76,77,78,79,80,81,82,83,84,85,86,87,88,89,90,91,92,93,94,95,96,97,98,99],\"y\":[0,0.4636764078138015,1.8292731187177584,2.5010671956695782,3.765330052299031,0.8881742317914326,1.7840727504329572,5.914969061175597,1.5148746957445942,4.213357512988225,0.6940832179967504,7.180456977164994,11.738233849031733,3.517051832350443,11.989379966501303,0.2542098645756713,5.7343323536556525,12.628937286130359,13.901790832702543,10.464505352067457,9.69537920894812,15.306100925364673,20.67049521906534,10.371082138358123,11.172534063851355,10.353595385842379,13.18231266096257,14.903811221855108,9.190141534493103,26.605660721000334,27.016670359148954,8.34672058421404,15.209953386567278,24.497727678069392,31.262680172237314,30.85500242870381,25.569628133826587,31.699544507888636,2.986527988407355,25.36451529574079,1.180906396767547,27.19580057831814,12.101367482451872,20.225941752982166,39.422305523624836,12.542395258803882,25.8792392349391,4.9192061241215175,30.548833616184353,17.044106949800895,47.695118189599555,29.027979357346332,48.817241000968984,4.542742707336819,17.057048273678994,49.52907492399595,9.139551179981805,20.624022990901285,47.8034808857565,21.627357591905017,19.68016782773061,25.59635235846086,24.78936780800327,10.09332201759233,11.652683850396173,16.81534656872978,20.686261224877878,50.58783951913238,49.901589498966516,55.07445299923514,19.93865735748916,28.036728250462186,69.9214987519176,50.10430433242274,24.6991283882564,47.99666144036028,21.022141506089355,1.971430162507449,37.95829365984856,39.38366927755265,17.641344967432858,27.590840726298197,16.342559053833266,36.165899125856946,83.59042380880031,70.91658350924928,1.422653071154372,40.903606385845045,65.5369325102853,30.899735988485652,50.109361770186425,58.601338284964285,40.53851301646708,43.254532199822606,36.05962188104415,36.47010657461,72.18863808674008,87.70019491007622,69.22597502633005,65.13092790673787],\"z\":[0,-2.403703779830493E8,1.523236019314054E9,-2.8326930412008753E9,2.9854831080592694E9,-1.0731016815472646E9,3.174367076280714E9,6.742188508702418E9,2.6261830176802497E9,-1.0585406460360655E10,-4.300272314854055E9,5.55616945321265E9,-1.8326030564278889E9,2.6448268491083656E10,-1.7195384555026783E10,-2.2298145060467148E10,8.476140154620741E9,-1.0250219958920465E10,-5.7687580252482815E9,-7.925321598232525E9,-2.8390334864490135E10,8.984856496890173E9,6.071280638950619E8,-6.01422679831357E9,-1.6629014379891515E9,-1.784635212948346E10,1.2001496718624647E10,3.406047550637455E10,2.662605704156567E10,7.225917418493622E9,-6.311912063954556E8,-2.2848938020944324E10,-5.165410556085905E9,1.0282846160252455E10,3.669611434772428E10,-1.9982230963046794E9,5.502908449671695E8,4.6543286067066036E7,4.565236078122457E10,-3.2810992947481103E9,2.1048355706838777E9,2.186733821112319E10,2.308463307732952E10,3.1469082131751003E10,-1.126712371902408E10,1.7355592186779377E10,-1.0728956871417015E10,-3.685311597052571E10,-1.554995607617224E10,-6.101224007776984E10,-5.879186539717126E10,-1.0518327964037836E10,-2.6717956296471554E10,-2.7727645471014862E10,-8.088794632305485E9,9.391069956973232E9,6.786305097549593E9,1.1645265168084857E9,-4.962009772642177E10,-7.5116839011861E10,4.108147569110172E10,4.613702745819642E10,3.5266636060241066E10,-5.578494874531326E9,-1.4011423147431988E10,-2.2439401305336614E9,-2.2470606122340942E10,-5.329576535989603E10,-3.162408819241734E9,-5.087984973542927E10,2.504880069987426E9,-1.7244395819943935E10,-1.2461462046828932E10,-5.5392265968573654E10,8.725344184906761E9,2.777948133808461E10,6.067391253258212E10,-4.067918582747794E10,-7.971961275720543E9,4.0540510008924885E9,7.48962798495064E10,2.792611093627752E10,4.1469875027529915E10,1.448709635836478E11,1.1205032862964304E11,-2.0039272307283806E10,7.508978295411151E9,1.1486872103332732E11,1.5470726395331364E10,2.7189256201751057E10,-1.0219866771913332E11,-6.6644963082420395E10,-4.778117030387105E10,7.352176434137694E8,3.256919569236581E9,8.712894054669958E10,2.1188656317342591E9,8.636673508133264E10,1.0989651752976555E11,5.124404569930491E10]}]},{\"name\":\"trace7\",\"data\":[{\"name\":\"trace7\",\"type\":\"scatter3d\",\"x\":[0,1,2,3,4,5,6,7,8,9,10,11,12,13,14,15,16,17,18,19,20,21,22,23,24,25,26,27,28,29,30,31,32,33,34,35,36,37,38,39,40,41,42,43,44,45,46,47,48,49,50,51,52,53,54,55,56,57,58,59,60,61,62,63,64,65,66,67,68,69,70,71,72,73,74,75,76,77,78,79,80,81,82,83,84,85,86,87,88,89,90,91,92,93,94,95,96,97,98,99],\"y\":[0,0.3163917759011531,1.8601773481578725,2.6491566281271512,0.6516972481289174,1.169730872512535,1.0988759010479643,2.8347975908855485,6.2348757077859185,1.4849776650671402,1.4579378545573896,9.098462193806437,2.339087200506511,4.620372576288351,5.6622295629606905,7.292290376224087,7.142053052487967,11.907104253471694,5.092899375532571,1.5804235789737788,19.518895872050162,5.08357921795037,12.556880806270552,19.41072478066652,2.0875033455792575,24.328348782933258,18.433420244843745,10.468000226052007,17.697540510951693,0.4991869157290839,27.65827552391393,10.249913105730199,0.19583099631494605,27.40651550348774,23.07556324519468,6.215371492326128,17.67679133266645,29.658361392326814,6.432346895170698,9.377033704258343,35.10336963797526,21.061287353004367,7.961975361347389,6.994755441645898,3.411477338855064,43.99729950882335,43.348829017339334,5.925218752353304,6.239218118869072,16.870546053183393,39.13962119847596,49.44471244737288,31.50132893657453,50.879745506072155,46.61463142552877,14.23703238333768,51.40911558324899,8.27265711384517,56.00626613000131,47.976739813107294,27.466860351000594,45.127603335719066,34.002164144271354,19.789608051693893,50.70706568925704,18.83397546039244,11.94562107535817,27.086895951556887,26.20920774799542,50.058915696886636,6.297520345294354,8.098226288390817,31.02959676893407,38.34086641801826,37.00104207366033,41.119273590116556,32.30379775504702,49.79249029638879,63.643424576131906,40.29510824225662,3.7175816045238808,77.97551330945265,37.98769574160204,11.928061929329047,64.0277813182266,46.07845439423283,32.801836192105945,64.08019651285399,29.100499550637608,78.33478147017773,67.19307939316991,48.88499752346023,3.271106220234044,9.414008600629131,46.11111875032545,77.74072830792652,4.968057084367768,22.551431783006493,56.56582189262054,43.67898182222158],\"z\":[0,3.003028659206648E8,-2.478720762140607E9,-5.198828294482182E7,-1.6623188918271655E8,2.1067801442874389E9,-7.332072463056388E8,3.78841338467286E9,-2.7463813675484824E9,-5.671159403315321E9,5.065204357071347E9,1.8056959636357784E8,-1.7709396237732048E10,-1.9266063731154663E10,7.219922290695521E9,7.274511200307707E9,-4.3502748534814005E9,-4.575620549937033E9,6.84731534046643E9,1.1804629856659323E10,2.925988773886557E9,2.5281354712088573E10,-7.703228682638753E9,3.7722855602466197E9,-5.788263845933395E9,3.028744798418729E10,-2.576361718975828E9,-5.220647885118093E10,2.997010693144419E10,3.006912374756822E8,-1.5893310446095312E10,5.963279722366048E9,-1.74616620342361E10,-3.566955907464221E10,-1.0005661053911793E10,-1.3302245312803911E10,2.911652828260306E10,-4.30476021528518E10,-1.990205744747231E10,-6.065671469136361E10,7.283396703968678E8,-3.60123168935796E10,1.4702006071437653E10,2.4989800829994812E10,8.653999803001862E9,-4.395449760728737E10,-5.739809231921774E10,-5.307855184985544E10,-6.119959075585857E9,1.3407309189068365E9,-4.291296374480517E10,-2.5317101622023884E10,3.2171902421699367E9,4.251059636705905E9,3.3045102893802676E9,7.931575654689784E10,-1.7661211294781277E10,-1.9739184943360027E10,-7.02266096858233E10,-2.1483170952932392E10,3.346749565768075E10,4.803758310606645E8,6.729391599069003E9,-1.1074314202277224E9,-3.676281048459772E10,4.0376290309165016E10,-6.482475743708577E10,-7.478942596175871E10,-1.8460182680323513E10,-9.923734450607408E10,7.556426057460945E8,1.8134707712743927E10,6.160810337519269E9,-3.158464254230662E10,4.9595157749922745E10,7.296356179023074E9,-3.692615905317557E10,-1.3337254323947506E10,7.99654277899495E9,9.624150073525713E7,-1.1224767311584097E11,-8.341883557608842E9,-1.1081338347002031E11,8.981046724901872E10,-3.934955685285313E10,-3.862394846861042E9,3.852617326366962E9,-1.1153003553825465E11,9.746464493861021E9,1.4436196726341518E10,1.4555464602794922E10,4.918408105748755E10,4.893983303250736E9,-8.397101078380936E10,7.941884080394074E9,4.49083537469325E10,-6.295441804995398E10,-6.536354483244137E10,-1.5588041304034615E10,6.262083893170883E10]}]},{\"name\":\"trace8\",\"data\":[{\"name\":\"trace8\",\"type\":\"scatter3d\",\"x\":[0,1,2,3,4,5,6,7,8,9,10,11,12,13,14,15,16,17,18,19,20,21,22,23,24,25,26,27,28,29,30,31,32,33,34,35,36,37,38,39,40,41,42,43,44,45,46,47,48,49,50,51,52,53,54,55,56,57,58,59,60,61,62,63,64,65,66,67,68,69,70,71,72,73,74,75,76,77,78,79,80,81,82,83,84,85,86,87,88,89,90,91,92,93,94,95,96,97,98,99],\"y\":[0,0.667842166882711,0.3078091547551751,0.18962650585773677,0.507240716649136,4.400720194833601,3.9114018642765798,2.785740952503203,1.571576348625677,2.955560330482969,8.22441738055394,5.837132555788855,5.590872875126752,5.665689500906748,5.135943885078307,6.338898902173523,13.368796178376684,6.872127128337928,17.685404909008973,4.969663419299426,18.406466526916155,10.16235009440697,10.04979059283175,3.7287119820876753,11.114294146804651,24.117895240181163,0.33993528880926926,21.08953798129134,13.499797495009746,18.52150018498132,1.9647617597964684,9.662003513147374,14.853021419826028,23.10142216873184,23.81361994746937,25.851406134242122,14.530265903407802,34.068323412582025,10.236358888568812,31.67461221683166,15.379244653931066,19.178622545237364,19.018517826072827,39.99109677472182,30.904421786169678,41.087502336338865,1.505096259271329,0.1801325487575859,11.190256093281286,40.58484403260889,19.97069511889015,21.994623242972022,45.13226646972554,45.18823786073568,27.516427896928597,27.197051563843278,19.921397281006,15.74881501557476,35.44491963093853,50.883810651207504,49.23588971288371,60.45812627538771,34.473864509381706,24.380735914413865,35.46697853274753,8.177443060526274,61.546094974118375,3.4950138676377804,28.790068738948335,55.59487198212359,39.62986383274141,53.9867455899837,27.241684132438614,18.600431929508087,12.027014889193932,46.627385967608056,7.424383131764155,68.70478728764535,77.56910145089653,43.391921637259344,61.28705580682268,13.563658580101249,46.93202383331606,21.43716137400252,28.86646232001963,52.95705307373826,15.388675448083774,18.79973479560159,40.17765168811533,7.160313355711307,89.896193796017,63.45442953195901,19.855944245794053,83.78271160145286,30.7298864348719,81.75634389581644,81.93144820541079,96.0887193915298,0.17958055793881944,67.59884863259187],\"z\":[0,2.71547132138001E8,1.4952366641289096E9,-2.009582826164353E9,6.023687820987949E9,9.657569920969602E7,-1.1224062266184947E9,-3.750460566296662E9,-3.03892378477815E9,6.550057406742812E8,3.8378254187285366E9,-1.760688221621202E9,3.1100411757937703E9,8.147491162451489E9,-1.0136226073081781E10,-1.0684889628731607E9,-2.162909711731152E10,1.390815141379862E9,2.0430395815306095E10,-3.046589083773655E10,-3.97390720354504E9,2.102431045615883E10,-1.2786041993055819E10,8.50453322337961E8,1.4929900315062191E10,1.7734509176016846E10,-1.7611742057285E10,-1.0443064268250408E10,3.822355902726656E7,-9.595332644748294E8,8.763108147264896E9,-3.307776579357368E10,-1.8345206475098854E10,-4.3481884012417786E10,2.0391504434027267E10,1.556855352726232E10,6.145294787573074E9,-1.1764178249912111E10,-3.2251820040578327E9,5.349023493587507E9,-2.553862692324764E9,-1.3507603269357893E10,2.7519256488037926E10,1.9530051589347424E10,-5.239406840015004E9,-6.652715349849257E10,-3.0367307446911568E10,2.2501945216952007E10,-2.0741477785283005E10,3.2936389809005623E10,-3.735563212634759E10,-6.160105294692539E10,-4.1491748881576824E9,-8.381002495261558E9,-7.382418601580357E10,-3.497020713254455E10,-8.85201420307017E9,3.6828333846936584E10,3.0179949958841164E10,4.752981910557656E10,-4.965621585814069E10,1.5069406451488236E8,3.1564356360761524E10,1.1928706433457863E10,6.104512734794176E9,3.417426947213842E9,-6.396613526351916E10,2.1250742777324738E10,-1.1046938015477913E11,-8.59376831845193E10,-6.348860928368307E10,-4.201196672675712E10,-3.4296835771725388E10,-1.2973744657374401E10,-4.613990591834017E10,1.0663831453875174E10,7.641188047969884E10,-6.208308426884649E9,6.89227423875193E8,-1.802616317300363E10,3.8449748494107947E9,3.9134968255318634E10,3.1812114862451243E9,6.417875615359725E10,-5.49793195846111E10,1.7562922963281806E9,2.8927613887628445E10,-5.848342028023064E10,-2.3405801665087246E10,8.680262950121175E10,3.3867879104219612E10,3.575913694594215E10,9.079342928940872E9,2.8245798763782578E10,-6.277305881965264E8,-1.2149173620305107E11,1.5429362744550209E10,-7.205935522819345E10,7.476832939535025E10,-1.2199608971497751E11]}]},{\"name\":\"trace9\",\"data\":[{\"name\":\"trace9\",\"type\":\"scatter3d\",\"x\":[0,1,2,3,4,5,6,7,8,9,10,11,12,13,14,15,16,17,18,19,20,21,22,23,24,25,26,27,28,29,30,31,32,33,34,35,36,37,38,39,40,41,42,43,44,45,46,47,48,49,50,51,52,53,54,55,56,57,58,59,60,61,62,63,64,65,66,67,68,69,70,71,72,73,74,75,76,77,78,79,80,81,82,83,84,85,86,87,88,89,90,91,92,93,94,95,96,97,98,99],\"y\":[0,0.06810681981428501,0.20530278032230775,0.8421433124495118,2.4599582172945835,1.2048474793458515,4.274496046766422,2.4412398440421033,3.258988549201683,7.373090101326623,8.541922558611866,6.581372192840278,4.5062097461398665,5.828207772720255,10.029171940265085,9.585546960915709,12.871113229638167,4.133465320741637,0.3658815753246736,5.877077766909053,13.234276908353575,11.665269458894718,2.8511151448326237,0.7455592565599579,15.784244952591806,24.90236927046154,19.849979573614473,26.846967542308953,5.956637059103425,17.92864845372007,5.374676730509727,4.541832106133965,17.46800998081577,9.112346682682837,12.362265650653995,20.859036896785167,12.729204699706713,16.071034985601113,32.625282811047576,6.294663802025632,28.380926310884735,5.041443701165393,13.966022367698676,32.06546777046635,38.82810596700663,13.896266414656814,41.7606844566879,33.08499239691195,35.70913013778129,33.53642528668981,27.685849780367217,29.067065171485076,16.471426843610008,40.48685247593854,30.426688429560034,19.03640925890314,44.885968877642654,12.486772812373685,14.424119902736694,3.389386483567971,6.670224452553075,35.94160799588299,31.23666195162376,26.7494462533863,34.65174482791001,55.54310932078294,54.162087597430855,21.451714540922648,48.343067960206874,60.4170350256051,46.6340666239932,9.819266495082541,22.662878885105243,27.07370913114248,64.82993251056926,24.710025435748534,42.07839446492815,71.46612118232254,67.14732551836312,10.367949172150638,25.909775694916686,42.852744960825994,79.98000280731856,79.65510303697762,32.17895576064732,17.168199376069175,30.796268478737392,1.5224792229578203,65.45266595055914,63.47391811826167,82.14755254520526,38.346959977257505,44.87261978346845,61.04351246717752,82.15946814039216,52.76962500617725,4.23470546320338,87.98312919316578,56.533228860145165,41.166704346289656],\"z\":[0,-2.778375626797567E7,-650939.6846462322,-9.718745121731035E8,-4.839439381441657E9,-7.162130989363891E8,9.887586183677723E9,3.261637828981953E9,-6.3191693708773E8,-8.521329213979319E9,-1.5235356208045115E9,-3.991004852827767E9,1.5727817596322464E10,9.378977596819876E9,-3.9984896013055663E9,4.558429969492491E9,-1.1443349225562841E10,8.026391713934762E9,2.999434458428102E10,1.2921055943539944E9,2.0668531835933826E10,-2.840682052304152E9,1.5258186487380873E10,-1.2105352961074623E10,-2.3908554570750954E10,-1.998112986882584E10,-1.655282579330842E10,-1.7900724214601295E10,-9.429236142258095E9,7.346438253608064E9,2.0420289682753933E10,1.516009491685849E10,-4.790529134116693E10,2.126981133029859E7,-3.497673737839934E10,3.117578842774794E10,-1.5479738509610382E10,-5.227823508218412E10,-6.345265847470678E9,4.2776684903979195E10,-2.276764795302697E10,2.068817640104912E10,-4.118766365129813E10,2.918068911625527E10,6.005362630155313E10,-2.4597496452884304E10,1.1258942715902979E10,8.799714045268572E9,-9.1127709146921E9,5.627514758491382E10,-1.9580624627865E10,1.953097646535865E10,7.459411433774535E9,1.0728891199664896E10,1.1351924285183891E11,4.810725279144236E9,7.747375975811682E10,4.8892972650964485E10,-1.4743337804548E10,2.471875888161198E10,-6.68613965117736E9,8.848135343889429E10,2.316880278555E10,-6.2204130346228165E10,4.551262616941376E10,9.37144867081077E10,2.5242613922851807E10,-1.731659355149921E10,-7.387099971202362E10,-7.320869529360916E10,3.712708570354961E10,1.4950724720159489E10,-1.874127000626286E10,7.556577456015077E10,5.931351844698587E10,1.1516301471504225E11,7.583226291957794E10,-1.76435071789342E10,1.0941400502017294E11,-2.3545316223900715E10,-2.3349870697498555E9,-5.122357548759651E10,-1.47458399166272E9,-1.0650997028970795E11,-1.6002437531864E10,3.1902887576897873E10,4.2269334198165886E10,-1.7322378999316784E10,-6.53834025901276E10,1.0464320469749485E10,9.263373471109167E10,-3.492423738415351E10,2.139879763753053E10,3.644893040887002E10,-1.3156926357712547E11,-9.902379338743624E9,-2.6994782990036917E9,-6.1619648758906E8,-5.077177702296417E9,1.6431754839500944E10]}]}]\n",
       "var labels_uNwfZDZYBc = [\"trace0\",\"trace1\",\"trace2\",\"trace3\",\"trace4\",\"trace5\",\"trace6\",\"trace7\",\"trace8\",\"trace9\"]\n",
       "var duration_uNwfZDZYBc = 100\n",
       "var config_uNwfZDZYBc = {\"responsive\":true,\"scrollZoom\":true,\"displaylogo\":false}\n",
       "\n",
       "var animation_settings_uNwfZDZYBc = {\n",
       "    mode: \"immediate\",\n",
       "    direction: {},\n",
       "    fromcurrent: true,\n",
       "    frame: [\n",
       "      {duration: duration_uNwfZDZYBc},\n",
       "      {duration: duration_uNwfZDZYBc},\n",
       "      {redraw: true}\n",
       "    ],\n",
       "    transition: [\n",
       "      {duration: duration_uNwfZDZYBc, easing: 'cubic-in-out'},\n",
       "      {duration: duration_uNwfZDZYBc, easing: 'cubic-in-out'},\n",
       "    ],\n",
       "    ordering: \"layout first\"\n",
       "}\n",
       "\n",
       "var slider_uNwfZDZYBc = document.createElement(\"input\")\n",
       "var play_uNwfZDZYBc = document.getElementById(\"play_uNwfZDZYBc\")\n",
       "var pause_uNwfZDZYBc = document.getElementById(\"pause_uNwfZDZYBc\")\n",
       "slider_uNwfZDZYBc.id = \"slider_uNwfZDZYBc\"\n",
       "slider_uNwfZDZYBc.type = \"range\"\n",
       "slider_uNwfZDZYBc.min = 0\n",
       "slider_uNwfZDZYBc.max = frames_uNwfZDZYBc.length - 1\n",
       "slider_uNwfZDZYBc.value = 0\n",
       "document.getElementById(\"sliderContainer_uNwfZDZYBc\").appendChild(slider_uNwfZDZYBc);\n",
       "\n",
       "Plotly.newPlot(graph_uNwfZDZYBc, traces_uNwfZDZYBc, layout_uNwfZDZYBc, config_uNwfZDZYBc)\n",
       ".then(function () { Plotly.addFrames(graph_uNwfZDZYBc, frames_uNwfZDZYBc) })\n",
       "\n",
       "var trigger_uNwfZDZYBc = true\n",
       "var reset_count_uNwfZDZYBc = false\n",
       "\n",
       "\n",
       "play_uNwfZDZYBc.addEventListener('click', function() {\n",
       "   trigger_uNwfZDZYBc = true\n",
       "   if (reset_count_uNwfZDZYBc) {\n",
       "      slider_uNwfZDZYBc.value = 0\n",
       "      reset_count_uNwfZDZYBc = false\n",
       "   }\n",
       "\n",
       "  const start_index = slider_uNwfZDZYBc.value == labels_uNwfZDZYBc.length - 1 ? 0 : slider_uNwfZDZYBc.value\n",
       "  const end_index = labels_uNwfZDZYBc.length\n",
       "  Plotly.animate(graph_uNwfZDZYBc, labels_uNwfZDZYBc.slice(start_index, end_index), animation_settings_uNwfZDZYBc)\n",
       "})\n",
       "\n",
       "pause_uNwfZDZYBc.addEventListener('click', function() {\n",
       "  Plotly.animate(graph_uNwfZDZYBc, [null], animation_settings_uNwfZDZYBc)\n",
       "})\n",
       "\n",
       "graph_uNwfZDZYBc.on('plotly_redraw', () => {\n",
       "   value_uNwfZDZYBc.innerHTML = slider_uNwfZDZYBc.value;\n",
       "   if (trigger_uNwfZDZYBc & !reset_count_uNwfZDZYBc) ++slider_uNwfZDZYBc.value\n",
       "   if (slider_uNwfZDZYBc.value == labels_uNwfZDZYBc.length - 1) reset_count_uNwfZDZYBc = true\n",
       "});\n",
       "\n",
       "slider_uNwfZDZYBc.oninput = function() {\n",
       "   Plotly.animate(graph_uNwfZDZYBc, frames_uNwfZDZYBc[this.value], animation_settings_uNwfZDZYBc)\n",
       "   trigger_uNwfZDZYBc = false\n",
       "   slider_uNwfZDZYBc.value = this.value\n",
       "   value_uNwfZDZYBc.innerHTML = this.value;\n",
       "   if (this.value == 0) reset_count_uNwfZDZYBc = false\n",
       "   if (this.value == labels_uNwfZDZYBc.length - 1) reset_count_uNwfZDZYBc = true\n",
       "   reset_count_uNwfZDZYBc = false\n",
       "}\n",
       "</script> \n"
      ]
     },
     "metadata": {},
     "output_type": "display_data"
    }
   ],
   "source": [
    "val series = createXYZSeries(numberToCreate = 10, length = 100)\n",
    "\n",
    "val layout = Layout(\"Animation.XYZ\")\n",
    "\n",
    "val chart = Chart(animated = true) setLayout layout addSeries series \n",
    "\n",
    "val canvas = Canvas() addCharts chart\n",
    "\n",
    "canvas.plotInline"
   ]
  },
  {
   "cell_type": "markdown",
   "metadata": {},
   "source": [
    "## IO + Utility Functions\n",
    "\n",
    "The library also comes with some basic CSV IO functions and a utility function for breaking down data"
   ]
  },
  {
   "cell_type": "code",
   "execution_count": 36,
   "metadata": {},
   "outputs": [],
   "source": [
    "import org.carbonateresearch.picta.IO._\n",
    "import org.carbonateresearch.picta.common.Utils.getSeriesbyCategory"
   ]
  },
  {
   "cell_type": "code",
   "execution_count": 37,
   "metadata": {},
   "outputs": [
    {
     "name": "stdout",
     "output_type": "stream",
     "text": [
      "/Users/fazi/IdeaProjects/irp-acse-fk4517/Code\n"
     ]
    }
   ],
   "source": [
    "val working_directory = getWorkingDirectory\n",
    "\n",
    "println(working_directory)"
   ]
  },
  {
   "cell_type": "code",
   "execution_count": 38,
   "metadata": {},
   "outputs": [],
   "source": [
    "// by providing a path, we can read in a CSV\n",
    "val filepath = working_directory + \"/iris_csv.csv\"\n",
    "\n",
    "val data = readCSV(filepath)\n",
    "\n",
    "// by default, CSV are read in as strings. However we can convert the individual columns to the correct format\n",
    "val sepal_length = data(\"sepallength\").map(_.toDouble)\n",
    "val petal_width = data(\"petalwidth\").map(_.toDouble)\n",
    "val categories = data(\"class\")"
   ]
  },
  {
   "cell_type": "code",
   "execution_count": 39,
   "metadata": {},
   "outputs": [
    {
     "data": {
      "text/html": [
       "<div id=\"grid_eu2e7kajqS\" align=\"center\"> \n",
       "<div id='graph_8FhJ1U1KFm' class='graph'></div> \n",
       "</div> \n",
       "<script>\n",
       "var masonry = new Macy({\n",
       "    container: '#grid_eu2e7kajqS',\n",
       "    debug: true,\n",
       "    mobileFirst: true,\n",
       "    columns: 1,\n",
       "  });\n",
       "\n",
       " var traces_8FhJ1U1KFm = [{\"name\":\"PdRPTa7Y3S\",\"type\":\"scatter\",\"mode\":\"markers\",\"x\":[5.9,6.2,6.5,6.3,6.7,6.7,6.8,5.8,6.9,6.7,6.9,6,6.4,6.3,7.7,6.1,6.3,6.4,7.9,7.4,7.2,6.4,6.1,6.2,7.2,6.7,6.3,7.7,5.6,6.9,6,7.7,7.7,6.5,6.4,5.8,5.7,6.8,6.4,6.5,7.2,6.7,7.3,4.9,7.6,6.5,6.3,7.1,5.8,6.3,5.7,5.1,6.2,5.7,5.7,5.6,5,5.8,6.1,5.5,5.5,5.6,6.3,6.7,6,5.4,6,5.8,5.5,5.5,5.7,6,6.7,6.8,6.6,6.4,6.1,6.3,6.1,5.9,5.6,6.2,5.8,5.6,6.7,5.6,6.1,6,5.9,5,5.2,6.6,4.9,6.3,5.7,6.5,5.5,6.9,6.4,7,5,5.3,4.6,5.1,4.8,5.1,5,4.4,4.5,5,5.1,4.4,4.9,5.5,5,4.9,5.5,5.2,5.4,4.8,4.7,5.2,5.2,5,5,4.8,5.1,4.6,5.1,5.4,5.1,5.7,5.1,5.4,5.7,5.8,4.3,4.8,4.8,5.4,4.9,4.4,5,4.6,5.4,5,4.6,4.7,4.9,5.1],\"y\":[1.8,2.3,2,1.9,2.3,2.5,2.3,1.9,2.3,2.4,2.1,1.8,1.8,2.4,2.3,1.4,1.5,2.2,2,1.9,1.6,2.1,1.8,1.8,1.8,2.1,1.8,2,2,2.3,1.5,2.3,2.2,1.8,2.3,2.4,2,2.1,1.9,2,2.5,1.8,1.8,1.7,2.1,2.2,1.8,2.1,1.9,2.5,1.3,1.1,1.3,1.3,1.2,1.3,1,1.2,1.4,1.2,1.3,1.3,1.3,1.5,1.6,1.5,1.6,1.2,1,1.1,1,1.5,1.7,1.4,1.4,1.3,1.2,1.5,1.3,1.8,1.1,1.5,1,1.5,1.4,1.3,1.4,1,1.5,1,1.4,1.3,1,1.6,1.3,1.5,1.3,1.5,1.5,1.4,0.2,0.2,0.2,0.2,0.3,0.4,0.6,0.2,0.3,0.3,0.2,0.2,0.1,0.2,0.2,0.1,0.2,0.1,0.4,0.2,0.2,0.2,0.2,0.4,0.2,0.2,0.5,0.2,0.4,0.2,0.3,0.3,0.3,0.4,0.4,0.2,0.1,0.1,0.2,0.2,0.1,0.2,0.2,0.3,0.4,0.2,0.2,0.2,0.2,0.2]}];\n",
       " var layout_8FhJ1U1KFm = {\"height\":550,\"width\":600,\"hovermode\":\"closest\",\"title\":{\"text\":\"Uninformative Chart\"},\"showlegend\":false};\n",
       " var config_8FhJ1U1KFm = {\"responsive\":true,\"scrollZoom\":true,\"displaylogo\":false};\n",
       " Plotly.newPlot(\"graph_8FhJ1U1KFm\", traces_8FhJ1U1KFm, layout_8FhJ1U1KFm, config_8FhJ1U1KFm);\n",
       "</script> \n"
      ]
     },
     "metadata": {},
     "output_type": "display_data"
    }
   ],
   "source": [
    "val series = XY(sepal_length, petal_width) asType SCATTER drawSymbol MARKERS\n",
    "\n",
    "val chart = Chart() addSeries series setTitle \"Uninformative Chart\"\n",
    "\n",
    "val canvas = Canvas() addCharts chart\n",
    "\n",
    "canvas.plotInline"
   ]
  },
  {
   "cell_type": "markdown",
   "metadata": {},
   "source": [
    "The above chart is not very informative. However since we have the per data point category labels, we can use the utility function to display the data in the different clusters"
   ]
  },
  {
   "cell_type": "code",
   "execution_count": 40,
   "metadata": {},
   "outputs": [
    {
     "data": {
      "text/html": [
       "<div id=\"grid_j7ptYwWMCl\" align=\"center\"> \n",
       "<div id='graph_XzFKCHMbsu' class='graph'></div> \n",
       "</div> \n",
       "<script>\n",
       "var masonry = new Macy({\n",
       "    container: '#grid_j7ptYwWMCl',\n",
       "    debug: true,\n",
       "    mobileFirst: true,\n",
       "    columns: 1,\n",
       "  });\n",
       "\n",
       " var traces_XzFKCHMbsu = [{\"name\":\"Iris-setosa\",\"type\":\"scatter\",\"mode\":\"markers\",\"x\":[5.1,4.9,4.7,4.6,5,5.4,4.6,5,4.4,4.9,5.4,4.8,4.8,4.3,5.8,5.7,5.4,5.1,5.7,5.1,5.4,5.1,4.6,5.1,4.8,5,5,5.2,5.2,4.7,4.8,5.4,5.2,5.5,4.9,5,5.5,4.9,4.4,5.1,5,4.5,4.4,5,5.1,4.8,5.1,4.6,5.3,5],\"y\":[0.2,0.2,0.2,0.2,0.2,0.4,0.3,0.2,0.2,0.1,0.2,0.2,0.1,0.1,0.2,0.4,0.4,0.3,0.3,0.3,0.2,0.4,0.2,0.5,0.2,0.2,0.4,0.2,0.2,0.2,0.2,0.4,0.1,0.2,0.1,0.2,0.2,0.1,0.2,0.2,0.3,0.3,0.2,0.6,0.4,0.3,0.2,0.2,0.2,0.2]},{\"name\":\"Iris-versicolor\",\"type\":\"scatter\",\"mode\":\"markers\",\"x\":[7,6.4,6.9,5.5,6.5,5.7,6.3,4.9,6.6,5.2,5,5.9,6,6.1,5.6,6.7,5.6,5.8,6.2,5.6,5.9,6.1,6.3,6.1,6.4,6.6,6.8,6.7,6,5.7,5.5,5.5,5.8,6,5.4,6,6.7,6.3,5.6,5.5,5.5,6.1,5.8,5,5.6,5.7,5.7,6.2,5.1,5.7],\"y\":[1.4,1.5,1.5,1.3,1.5,1.3,1.6,1,1.3,1.4,1,1.5,1,1.4,1.3,1.4,1.5,1,1.5,1.1,1.8,1.3,1.5,1.2,1.3,1.4,1.4,1.7,1.5,1,1.1,1,1.2,1.6,1.5,1.6,1.5,1.3,1.3,1.3,1.2,1.4,1.2,1,1.3,1.2,1.3,1.3,1.1,1.3]},{\"name\":\"Iris-virginica\",\"type\":\"scatter\",\"mode\":\"markers\",\"x\":[6.3,5.8,7.1,6.3,6.5,7.6,4.9,7.3,6.7,7.2,6.5,6.4,6.8,5.7,5.8,6.4,6.5,7.7,7.7,6,6.9,5.6,7.7,6.3,6.7,7.2,6.2,6.1,6.4,7.2,7.4,7.9,6.4,6.3,6.1,7.7,6.3,6.4,6,6.9,6.7,6.9,5.8,6.8,6.7,6.7,6.3,6.5,6.2,5.9],\"y\":[2.5,1.9,2.1,1.8,2.2,2.1,1.7,1.8,1.8,2.5,2,1.9,2.1,2,2.4,2.3,1.8,2.2,2.3,1.5,2.3,2,2,1.8,2.1,1.8,1.8,1.8,2.1,1.6,1.9,2,2.2,1.5,1.4,2.3,2.4,1.8,1.8,2.1,2.4,2.3,1.9,2.3,2.5,2.3,1.9,2,2.3,1.8]}];\n",
       " var layout_XzFKCHMbsu = {\"height\":550,\"width\":600,\"hovermode\":\"closest\",\"title\":{\"text\":\"Iris\"},\"showlegend\":true};\n",
       " var config_XzFKCHMbsu = {\"responsive\":true,\"scrollZoom\":true,\"displaylogo\":false};\n",
       " Plotly.newPlot(\"graph_XzFKCHMbsu\", traces_XzFKCHMbsu, layout_XzFKCHMbsu, config_XzFKCHMbsu);\n",
       "</script> \n"
      ]
     },
     "metadata": {},
     "output_type": "display_data"
    }
   ],
   "source": [
    "val result = getSeriesbyCategory(categories, (sepal_length, petal_width))\n",
    "\n",
    "val chart = Chart() addSeries result setLayout Layout(title = \"Iris\", showlegend = true)\n",
    "\n",
    "val canvas = Canvas() addCharts chart\n",
    "\n",
    "canvas.plotInline"
   ]
  },
  {
   "cell_type": "markdown",
   "metadata": {},
   "source": [
    "## Conus Integration\n",
    "\n",
    "A couple of utility functions make wrangling conus data easier. Below is an example taken from the conus repo and plotting some variables of interest."
   ]
  },
  {
   "cell_type": "code",
   "execution_count": 41,
   "metadata": {},
   "outputs": [],
   "source": [
    "import org.carbonateresearch.picta.conus.Utils._"
   ]
  },
  {
   "cell_type": "code",
   "execution_count": 42,
   "metadata": {},
   "outputs": [],
   "source": [
    "import org.carbonateresearch.picta.conus.Utils._\n",
    "import org.carbonateresearch.picta.{Canvas, Chart, XY}\n",
    "import org.carbonateresearch.conus.common.SingleModelResults\n",
    "import org.carbonateresearch.conus.modelzoo.GeneralGeology._\n",
    "import org.carbonateresearch.conus.modelzoo.PasseyHenkesClumpedDiffusionModel._\n",
    "import org.carbonateresearch.conus.{AllCells, ModelVariable, PerCell, Simulator, Step, SteppedModel}\n",
    "\n",
    "import math._"
   ]
  },
  {
   "cell_type": "code",
   "execution_count": 43,
   "metadata": {
    "scrolled": false
   },
   "outputs": [
    {
     "name": "stdout",
     "output_type": "stream",
     "text": [
      "23:04:45.342 [CoNuS-akka.actor.default-dispatcher-3] INFO akka.event.slf4j.Slf4jLogger - Slf4jLogger started\n"
     ]
    },
    {
     "name": "stderr",
     "output_type": "stream",
     "text": [
      "SLF4J: A number (1) of logging calls during the initialization phase have been intercepted and are\n",
      "SLF4J: now being replayed. These are subject to the filtering rules of the underlying logging system.\n",
      "SLF4J: See also http://www.slf4j.org/codes.html#replay\n"
     ]
    },
    {
     "name": "stdout",
     "output_type": "stream",
     "text": [
      "A total of 135 unique models were defined, attempting to create a list now.\n",
      "Models list successfully created.\n",
      "----------------------------------------\n",
      "RUN STARTED\n",
      "----------------------------------------\n",
      "\u001b[0m\u001b[35m\u001b[4mRUN DATA\u001b[0m\n",
      "\u001b[0m\u001b[33mTotal number of models:\u001b[0m \u001b[37m135\n",
      "\u001b[0m\u001b[33mNumber of cell per grid:\u001b[0m\u001b[37m 19\n",
      "\u001b[0m\u001b[33mNumber of steps per model:\u001b[0m\u001b[37m 10\n",
      "\u001b[0m\u001b[33mNumber of operation per step:\u001b[0m\u001b[37m 304\n",
      "\u001b[0m\u001b[33mTotal number of operations:\u001b[0m\u001b[37m 410'400\n",
      "\u001b[0m\u001b[33mAvailable CPU cores:\u001b[0m\u001b[37m 8\n",
      "\u001b[0m\u001b[34m----------------------------------------\u001b[0m\n",
      "\u001b[0m\u001b[35m\u001b[4mRUN PROGRESS\u001b[0m\n",
      "Model #6 completed in 0 seconds is calibrated.\n",
      "Model #3 completed in 0 seconds is calibrated.\n",
      "Model #1 completed in 0 seconds is calibrated.\n",
      "Model #8 completed in 0 seconds is calibrated.\n",
      "Model #7 completed in 0 seconds is calibrated.\n",
      "Model #4 completed in 0 seconds is calibrated.\n",
      "Model #2 completed in 0 seconds is calibrated.\n",
      "Model #5 completed in 0 seconds is calibrated.\n",
      "Model #13 completed in 1 seconds is calibrated.\n",
      "Model #15 completed in 1 seconds is calibrated.\n",
      "Model #12 completed in 1 seconds is calibrated.\n",
      "Model #16 completed in 1 seconds is calibrated.\n",
      "Model #14 completed in 1 seconds is calibrated.\n",
      "Model #9 completed in 1 seconds is calibrated.\n",
      "Model #18 completed in 1 seconds is calibrated.\n",
      "Model #19 completed in 1 seconds is calibrated.\n",
      "Model #10 completed in 1 seconds is calibrated.\n",
      "Model #20 completed in 1 seconds is calibrated.\n",
      "Model #11 completed in 1 seconds is calibrated.\n",
      "Model #21 completed in 1 seconds is calibrated.\n",
      "Model #17 completed in 1 seconds is calibrated.\n",
      "Model #27 completed in 1 seconds is calibrated.\n",
      "Model #24 completed in 1 seconds is calibrated.\n",
      "Model #26 completed in 1 seconds is calibrated.\n",
      "Model #23 completed in 1 seconds is calibrated.\n",
      "Model #25 completed in 1 seconds is calibrated.\n",
      "Model #31 completed in 1 seconds is calibrated.\n",
      "Model #28 completed in 1 seconds is calibrated.\n",
      "Model #33 completed in 1 seconds is calibrated.\n",
      "Model #32 completed in 1 seconds is calibrated.\n",
      "Model #29 completed in 1 seconds is calibrated.\n",
      "Model #30 completed in 1 seconds is calibrated.\n",
      "Model #22 completed in 1 seconds is calibrated.\n",
      "Model #38 completed in 1 seconds is calibrated.\n",
      "Model #35 completed in 1 seconds is calibrated.\n",
      "Model #37 completed in 1 seconds is calibrated.\n",
      "Model #39 completed in 1 seconds is calibrated.\n",
      "Model #41 completed in 1 seconds is calibrated.\n",
      "Model #42 completed in 1 seconds is calibrated.\n",
      "Model #34 completed in 1 seconds is calibrated.\n",
      "Model #44 completed in 1 seconds is calibrated.\n",
      "Model #40 completed in 1 seconds is calibrated.\n",
      "Model #36 completed in 1 seconds is calibrated.\n",
      "Model #47 completed in 1 seconds is calibrated.\n",
      "Model #48 completed in 1 seconds is calibrated.\n",
      "Model #49 completed in 1 seconds is calibrated.\n",
      "Model #51 completed in 1 seconds is calibrated.\n",
      "Model #50 completed in 1 seconds is calibrated.\n",
      "Model #52 completed in 1 seconds is calibrated.\n",
      "Model #43 completed in 1 seconds is calibrated.\n",
      "Model #53 completed in 1 seconds is calibrated.\n",
      "Model #55 completed in 1 seconds is calibrated.\n",
      "Model #57 completed in 1 seconds is calibrated.\n",
      "Model #54 completed in 1 seconds is calibrated.\n",
      "Model #58 completed in 1 seconds is calibrated.\n",
      "Model #56 completed in 1 seconds is calibrated.\n",
      "Model #61 completed in 1 seconds is calibrated.\n",
      "Model #62 completed in 1 seconds is calibrated.\n",
      "Model #63 completed in 1 seconds is calibrated.\n",
      "Model #45 completed in 1 seconds is calibrated.\n",
      "Model #66 completed in 1 seconds is calibrated.\n",
      "Model #65 completed in 1 seconds is calibrated.\n",
      "Model #67 completed in 1 seconds is calibrated.\n",
      "Model #68 completed in 1 seconds is calibrated.\n",
      "Model #69 completed in 1 seconds is calibrated.\n",
      "Model #59 completed in 1 seconds is calibrated.\n",
      "Model #64 completed in 1 seconds is calibrated.\n",
      "Model #70 completed in 1 seconds is calibrated.\n",
      "Model #73 completed in 1 seconds is calibrated.\n",
      "Model #74 completed in 1 seconds is calibrated.\n",
      "Model #60 completed in 1 seconds is calibrated.\n",
      "Model #46 completed in 1 seconds is calibrated.\n",
      "Model #75 completed in 1 seconds is calibrated.\n",
      "Model #76 completed in 1 seconds is calibrated.\n",
      "Model #72 completed in 1 seconds is calibrated.\n",
      "Model #81 completed in 1 seconds is calibrated.\n",
      "Model #80 completed in 1 seconds is calibrated.\n",
      "Model #82 completed in 1 seconds is calibrated.\n",
      "Model #83 completed in 1 seconds is calibrated.\n",
      "Model #71 completed in 1 seconds is calibrated.\n",
      "Model #78 completed in 1 seconds is calibrated.\n",
      "Model #79 completed in 1 seconds is calibrated.\n",
      "Model #85 completed in 1 seconds is calibrated.\n",
      "Model #84 completed in 1 seconds is calibrated.\n",
      "Model #77 completed in 1 seconds is calibrated.\n",
      "Model #87 completed in 1 seconds is calibrated.\n",
      "Model #88 completed in 1 seconds is calibrated.\n",
      "Model #86 completed in 1 seconds is calibrated.\n",
      "Model #90 completed in 1 seconds is calibrated.\n",
      "Model #93 completed in 1 seconds is calibrated.\n",
      "Model #92 completed in 1 seconds is calibrated.\n",
      "Model #89 completed in 1 seconds is calibrated.\n",
      "Model #91 completed in 1 seconds is calibrated.\n",
      "Model #95 completed in 1 seconds is calibrated.\n",
      "Model #96 completed in 1 seconds is calibrated.\n",
      "Model #97 completed in 1 seconds is calibrated.\n",
      "Model #101 completed in 1 seconds is not calibrated.\n",
      "Model #100 completed in 1 seconds is not calibrated.\n",
      "Model #102 completed in 1 seconds is not calibrated.\n",
      "Model #98 completed in 1 seconds is calibrated.\n",
      "Model #99 completed in 1 seconds is calibrated.\n",
      "Model #104 completed in 1 seconds is not calibrated.\n",
      "Model #107 completed in 1 seconds is calibrated.\n",
      "Model #108 completed in 1 seconds is calibrated.\n",
      "Model #103 completed in 1 seconds is not calibrated.\n",
      "Model #105 completed in 1 seconds is not calibrated.\n",
      "Model #94 completed in 1 seconds is calibrated.\n",
      "Model #106 completed in 1 seconds is calibrated.\n",
      "Model #110 completed in 1 seconds is calibrated.\n",
      "Model #111 completed in 1 seconds is calibrated.\n",
      "Model #112 completed in 1 seconds is calibrated.\n",
      "Model #114 completed in 1 seconds is calibrated.\n",
      "Model #113 completed in 1 seconds is calibrated.\n",
      "Model #115 completed in 1 seconds is not calibrated.\n",
      "Model #109 completed in 1 seconds is calibrated.\n",
      "Model #118 completed in 1 seconds is not calibrated.\n",
      "Model #117 completed in 1 seconds is not calibrated.\n",
      "Model #119 completed in 1 seconds is not calibrated.\n",
      "Model #120 completed in 1 seconds is not calibrated.\n",
      "Model #123 completed in 1 seconds is calibrated.\n",
      "Model #125 completed in 1 seconds is calibrated.\n",
      "Model #127 completed in 1 seconds is calibrated.\n",
      "Model #122 completed in 1 seconds is calibrated.\n",
      "Model #128 completed in 1 seconds is calibrated.\n",
      "Model #124 completed in 1 seconds is calibrated.\n",
      "Model #129 completed in 1 seconds is calibrated.\n",
      "Model #130 completed in 1 seconds is not calibrated.\n",
      "Model #126 completed in 1 seconds is calibrated.\n",
      "Model #116 completed in 1 seconds is not calibrated.\n",
      "Model #121 completed in 1 seconds is calibrated.\n",
      "Model #133 completed in 1 seconds is not calibrated.\n",
      "Model #135 completed in 1 seconds is not calibrated.\n",
      "Model #132 completed in 1 seconds is not calibrated.\n",
      "Model #134 completed in 1 seconds is not calibrated.\n",
      "Model #131 completed in 1 seconds is not calibrated.\n",
      "\n",
      "----------------------------------------\n",
      "END OF RUN\n",
      "----------------------------------------\n"
     ]
    }
   ],
   "source": [
    "val modelWarehouse = Simulator\n",
    "  // a few constants\n",
    "  val rhocal:Double = 2.71 //Density of carbonates\n",
    "  val cOf=889000 //concentration of O in fluid\n",
    "  val cCf=200 //concentration of C in fluid\n",
    "  val cOcal = 480000 //concentration of O in stoichiometric calcite\n",
    "  val cCcal = 120000 //concentration of C in stoichiometric calcite\n",
    "  val d13Ctdc = 0 //carbon isotope composition of total dissolved carbon in fluid\n",
    "\n",
    "  // setting model variables\n",
    "  val initialAge:ModelVariable[Double] = ModelVariable(\"Initial age\",96.0,\"Ma\")\n",
    "  val finalAge:ModelVariable[Double] = ModelVariable(\"Final age\",0.0,\"Ma\")\n",
    "  val d18Of:ModelVariable[Double] = ModelVariable(\"Fluid d18O\",-1.0,\"‰\")\n",
    "  val TmaxSample:ModelVariable[Double] = ModelVariable(\"Tmax\",0.0,\"˚C\")\n",
    "  val WFF:ModelVariable[Double] = ModelVariable(\"Weight fraction of fluid\",0.0,\"\")\n",
    "  val CWRR:ModelVariable[Double] = ModelVariable(\"Cumulative water/rock ratio\",0.0,\"\")\n",
    "  val FluidMass:ModelVariable[Double] = ModelVariable(\"Mass of fluid\",0.2,\"\")\n",
    "  val d18Occ:ModelVariable[Double] = ModelVariable(\"d18Occ\",1.0,\"‰\")\n",
    "  val d13Ccc:ModelVariable[Double] = ModelVariable(\"d13Ccc\",1.0,\"‰\")\n",
    "  val D47r:ModelVariable[Double] = ModelVariable(\"D47 with partial recrystallization\",.5,\"‰\")\n",
    "  val fractionRec:ModelVariable[Double] = ModelVariable(\"Fraction of recrystallization\",0.01,\"‰\")\n",
    "  val initalBurialAtModelStart:ModelVariable[Double] = ModelVariable(\"Initial burial at model start\",0.0,\"meters\")\n",
    "\n",
    "  // Initialise model conditions as lists\n",
    "  val burialHistory = List((96.0,0.0), (39.0,2000.0), (0.0,-70.0))\n",
    "  val geothermalGradientHistory= List((96.0,30.0),(0.0,30.0))\n",
    "  val surfaceTemperaturesHistory = List((96.0,30.0),(0.0,30.0))\n",
    "  val numberOfSteps = 10\n",
    "  val ageList:List[Double] = List(97.0,96.0,95.0)\n",
    "  val finalAgeList:List[Double] = List(0.0)\n",
    "  val rangeOfFluidMasses:List[Double] = List(0.2)\n",
    "  val rangeOfPartialRecrystallization = List(1.0,.5,.1,.01,0.0)\n",
    "\n",
    "  // Bulk isotope calculation equations\n",
    "  val d18OccFunction = (s:Step) => {\n",
    "    val cO=(WFF(s)*cOf)+(1-WFF(s))*cOcal\n",
    "    val alpha = math.exp((18.03*(1000*pow((burialTemperature(s)+273.15), -1)) - 32.42)/1000)\n",
    "    val d18O = ((d18Of(s) * WFF(s) * cOf) + d18Occ(s) * (1-WFF(s)) * cOf)/ cO\n",
    "    ((d18O * cOf * alpha) - (1000 * cOf * WFF(s) * (1-alpha))) / ((cOcal * (1-WFF(s)) * alpha) + cOf * WFF(s))\n",
    "  }\n",
    "\n",
    "  val d13CccFunction = (s:Step) => {\n",
    "    val cC=(WFF(s)*cCf)+(1-WFF(s))*cCcal\n",
    "    val alpha = exp((-2.4612+(7666.3/100) - (2.9880*pow(10,3)/pow((burialTemperature(s)+273.15),6)))/1000)\n",
    "    val d13C = ((d13Ctdc * WFF(s) * d13Ctdc) + (d13Ccc(s) * (1-WFF(s)) * cCcal))/cC\n",
    "    ((d13C * cC * alpha) - (1000 * cCf * WFF(s) * (1-alpha))) / (cCcal * (1-WFF(s) * alpha) + cCf * WFF(s))\n",
    "  }\n",
    "\n",
    "  val eaglefordModel = new SteppedModel(numberOfSteps,\"Eagleford recrystallization\")\n",
    "    .setGrid(19)\n",
    "    .defineMathematicalModel(\n",
    "      age =>> ageOfStep(initialAge,finalAge),\n",
    "      depth =>> {(s:Step) => {burialDepthFromAgeModel(age,burialHistory).apply(s)+initalBurialAtModelStart(s)}},\n",
    "      surfaceTemperature =>> surfaceTemperaturesAtAge(age, surfaceTemperaturesHistory),\n",
    "      geothermalGradient =>> geothermalGradientAtAge(age,geothermalGradientHistory),\n",
    "      burialTemperature =>> burialTemperatureFromGeothermalGradient(surfaceTemperature,depth,geothermalGradient),\n",
    "      dT =>> dTFun,\n",
    "      D47eq =>> D47eqFun,\n",
    "      D47i =>> D47iFun,\n",
    "      SampleTemp =>> davies19_T,\n",
    "      FluidMass =>> {(s:Step) => 0.2},\n",
    "      d18Of =>> {(s:Step) => -1.0},\n",
    "      WFF =>> {(s:Step) => FluidMass(s) / (FluidMass(s) + rhocal)},\n",
    "      CWRR =>> {(s:Step) => s.stepNumber * WFF(s)/(1-WFF(s))},\n",
    "      d18Occ =>> d18OccFunction,\n",
    "      d13Ccc =>> d13CccFunction,\n",
    "      D47r =>> {(s:Step) => {if(burialTemperature(s)-burialTemperature(s-1) >= 0){D47r(s-1) * (1.0-fractionRec(s)) + D47eq(s) * fractionRec(s)}\n",
    "      else {D47r(s-1)}}}\n",
    "    )\n",
    "    .defineInitialModelConditions(\n",
    "      AllCells(initialAge,ageList),\n",
    "      AllCells(finalAge,finalAgeList),\n",
    "      AllCells(fractionRec,rangeOfPartialRecrystallization),\n",
    "      AllCells(D47i,List(0.670,0.680,0.690)),\n",
    "      AllCells(D47r,List(0.670,0.680,0.690)),\n",
    "      PerCell(initalBurialAtModelStart,List(\n",
    "        (List(0.0),Seq(0)),\n",
    "        (List(-0.91),Seq(1)),\n",
    "        (List(-1.22),Seq(2)),\n",
    "        (List(-2.90),Seq(3)),\n",
    "        (List(-4.57),Seq(4)),\n",
    "        (List(-4.88),Seq(5)),\n",
    "        (List(-4.90),Seq(6)),\n",
    "        (List(-6.10),Seq(7)),\n",
    "        (List(-6.40),Seq(8)),\n",
    "        (List(-6.71),Seq(9)),\n",
    "        (List(-25.90),Seq(10)),\n",
    "        (List(-28.96),Seq(11)),\n",
    "        (List(-29.87),Seq(12)),\n",
    "        (List(-35.05),Seq(13)),\n",
    "        (List(-35.36),Seq(14)),\n",
    "        (List(-35.97),Seq(15)),\n",
    "        (List(-36.58),Seq(16)),\n",
    "        (List(-37.19),Seq(17)),\n",
    "        (List(-38.90),Seq(18)))))\n",
    "    .defineCalibration(\n",
    "      D47r.isBetween(0.511,0.683).atCells(Seq(0)),\n",
    "      D47r.isBetween(0.511,0.683).atCells(Seq(1)),\n",
    "      D47r.isBetween(0.511,0.683).atCells(Seq(2)),\n",
    "      D47r.isBetween(0.511,0.683).atCells(Seq(3)),\n",
    "      D47r.isBetween(0.511,0.683).atCells(Seq(4)),\n",
    "      D47r.isBetween(0.511,0.683).atCells(Seq(5)),\n",
    "      D47r.isBetween(0.511,0.683).atCells(Seq(6)),\n",
    "      D47r.isBetween(0.511,0.683).atCells(Seq(7)),\n",
    "      D47r.isBetween(0.511,0.683).atCells(Seq(8)),\n",
    "      D47r.isBetween(0.511,0.683).atCells(Seq(9)),\n",
    "      D47r.isBetween(0.511,0.683).atCells(Seq(10)),\n",
    "      D47r.isBetween(0.511,0.683).atCells(Seq(11)),\n",
    "      D47r.isBetween(0.511,0.683).atCells(Seq(12)),\n",
    "      D47r.isBetween(0.511,0.683).atCells(Seq(13)),\n",
    "      D47r.isBetween(0.511,0.683).atCells(Seq(14)),\n",
    "      D47r.isBetween(0.511,0.683).atCells(Seq(15)),\n",
    "      D47r.isBetween(0.511,0.683).atCells(Seq(16)),\n",
    "      D47r.isBetween(0.511,0.683).atCells(Seq(17)),\n",
    "      D47r.isBetween(0.511,0.683).atCells(Seq(18))\n",
    "    )\n",
    "\n",
    "  modelWarehouse.evaluate(eaglefordModel)\n",
    "  Thread.sleep(1000)"
   ]
  },
  {
   "cell_type": "code",
   "execution_count": 44,
   "metadata": {},
   "outputs": [
    {
     "data": {
      "text/html": [
       "<div id=\"grid_NfxpqeDiEU\" align=\"center\"> \n",
       "<div id='graph_YTxSplXUma' class='graph'></div> \n",
       "</div> \n",
       "<script>\n",
       "var masonry = new Macy({\n",
       "    container: '#grid_NfxpqeDiEU',\n",
       "    debug: true,\n",
       "    mobileFirst: true,\n",
       "    columns: 1,\n",
       "  });\n",
       "\n",
       " var traces_YTxSplXUma = [{\"name\":\"q7lEwWmT4d\",\"type\":\"scatter\",\"x\":[95,84.44444444444444,73.88888888888889,63.333333333333336,52.77777777777778,42.22222222222222,31.66666666666667,21.111111111111114,10.555555555555557,0],\"y\":[5.8447021539281225,5.597796303859945,5.36734395671948,5.151753878912124,4.949633567669663,4.759759172657933,4.900224806622807,5.206108819250285,5.543641691173061,5.918001697432124]}];\n",
       " var layout_YTxSplXUma = {\"height\":550,\"width\":600,\"hovermode\":\"closest\",\"title\":{\"text\":\"age vs. d18Occ\"},\"showlegend\":false,\"xaxis\":{\"title\":{\"text\":\"age\"},\"showgrid\":true,\"zeroline\":false,\"showline\":false},\"yaxis\":{\"title\":{\"text\":\"d18Occ\"},\"showgrid\":true,\"zeroline\":false,\"showline\":false}};\n",
       " var config_YTxSplXUma = {\"responsive\":true,\"scrollZoom\":true,\"displaylogo\":false};\n",
       " Plotly.newPlot(\"graph_YTxSplXUma\", traces_YTxSplXUma, layout_YTxSplXUma, config_YTxSplXUma);\n",
       "</script> \n"
      ]
     },
     "metadata": {},
     "output_type": "display_data"
    }
   ],
   "source": [
    "val model: SingleModelResults = modelWarehouse(eaglefordModel)(0)\n",
    "\n",
    "val series1: List[Double] = getDataFromSingleModel(model, age, List(0), numberOfSteps)\n",
    "\n",
    "val series2: List[Double] = getDataFromSingleModel(model, d18Occ, List(0), numberOfSteps)\n",
    "\n",
    "val xy = XY(series1, series2)\n",
    "\n",
    "// alternatively we can quickly get the same data for XY using the function below\n",
    "//  val xy = getXYSeriesFromSingleModel(model, (age, d18Occ), List(0), numberOfSteps)\n",
    "\n",
    "val chart = (\n",
    "    Chart() \n",
    "    addSeries xy \n",
    "    setTitle(\"age vs. d18Occ\") \n",
    "    addAxes(XAxis(title=\"age\"), YAxis(title=\"d18Occ\"))\n",
    ")\n",
    "\n",
    "val canvas = Canvas() addCharts chart\n",
    "\n",
    "canvas.plotInline()"
   ]
  },
  {
   "cell_type": "code",
   "execution_count": null,
   "metadata": {},
   "outputs": [],
   "source": []
  }
 ],
 "metadata": {
  "kernelspec": {
   "display_name": "Scala",
   "language": "scala",
   "name": "scala"
  },
  "language_info": {
   "codemirror_mode": "text/x-scala",
   "file_extension": ".scala",
   "mimetype": "text/x-scala",
   "name": "scala",
   "nbconvert_exporter": "script",
   "version": "2.13.2"
  }
 },
 "nbformat": 4,
 "nbformat_minor": 4
}
