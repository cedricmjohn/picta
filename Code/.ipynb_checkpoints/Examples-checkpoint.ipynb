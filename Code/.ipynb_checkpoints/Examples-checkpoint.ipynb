{
 "cells": [
  {
   "cell_type": "code",
   "execution_count": 1,
   "metadata": {
    "scrolled": true
   },
   "outputs": [],
   "source": [
    "interp.repositories() ++= Seq(coursierapi.MavenRepository.of(\n",
    "\"https://jitpack.io\"\n",
    "))"
   ]
  },
  {
   "cell_type": "code",
   "execution_count": 2,
   "metadata": {},
   "outputs": [
    {
     "data": {
      "text/plain": [
       "\u001b[32mimport \u001b[39m\u001b[36m$ivy.$                                  \u001b[39m"
      ]
     },
     "execution_count": 2,
     "metadata": {},
     "output_type": "execute_result"
    }
   ],
   "source": [
    "import $ivy. `org.carbonateresearch::picta:0.1`"
   ]
  },
  {
   "cell_type": "code",
   "execution_count": 3,
   "metadata": {
    "scrolled": true
   },
   "outputs": [
    {
     "data": {
      "text/html": [
       "\n",
       "<script type='text/javascript'>/** vim: et:ts=4:sw=4:sts=4\n",
       " * @license RequireJS 2.3.6 Copyright jQuery Foundation and other contributors.\n",
       " * Released under MIT license, https://github.com/requirejs/requirejs/blob/master/LICENSE\n",
       " */\n",
       "var requirejs,require,define;!function(global,setTimeout){var req,s,head,baseElement,dataMain,src,interactiveScript,currentlyAddingScript,mainScript,subPath,version=\"2.3.6\",commentRegExp=/\\/\\*[\\s\\S]*?\\*\\/|([^:\"'=]|^)\\/\\/.*$/gm,cjsRequireRegExp=/[^.]\\s*require\\s*\\(\\s*[\"']([^'\"\\s]+)[\"']\\s*\\)/g,jsSuffixRegExp=/\\.js$/,currDirRegExp=/^\\.\\//,op=Object.prototype,ostring=op.toString,hasOwn=op.hasOwnProperty,isBrowser=!(\"undefined\"==typeof window||\"undefined\"==typeof navigator||!window.document),isWebWorker=!isBrowser&&\"undefined\"!=typeof importScripts,readyRegExp=isBrowser&&\"PLAYSTATION 3\"===navigator.platform?/^complete$/:/^(complete|loaded)$/,defContextName=\"_\",isOpera=\"undefined\"!=typeof opera&&\"[object Opera]\"===opera.toString(),contexts={},cfg={},globalDefQueue=[],useInteractive=!1;function commentReplace(e,t){return t||\"\"}function isFunction(e){return\"[object Function]\"===ostring.call(e)}function isArray(e){return\"[object Array]\"===ostring.call(e)}function each(e,t){var i;if(e)for(i=0;i<e.length&&(!e[i]||!t(e[i],i,e));i+=1);}function eachReverse(e,t){var i;if(e)for(i=e.length-1;-1<i&&(!e[i]||!t(e[i],i,e));i-=1);}function hasProp(e,t){return hasOwn.call(e,t)}function getOwn(e,t){return hasProp(e,t)&&e[t]}function eachProp(e,t){var i;for(i in e)if(hasProp(e,i)&&t(e[i],i))break}function mixin(i,e,r,n){return e&&eachProp(e,function(e,t){!r&&hasProp(i,t)||(!n||\"object\"!=typeof e||!e||isArray(e)||isFunction(e)||e instanceof RegExp?i[t]=e:(i[t]||(i[t]={}),mixin(i[t],e,r,n)))}),i}function bind(e,t){return function(){return t.apply(e,arguments)}}function scripts(){return document.getElementsByTagName(\"script\")}function defaultOnError(e){throw e}function getGlobal(e){if(!e)return e;var t=global;return each(e.split(\".\"),function(e){t=t[e]}),t}function makeError(e,t,i,r){var n=new Error(t+\"\\nhttps://requirejs.org/docs/errors.html#\"+e);return n.requireType=e,n.requireModules=r,i&&(n.originalError=i),n}if(void 0===define){if(void 0!==requirejs){if(isFunction(requirejs))return;cfg=requirejs,requirejs=void 0}void 0===require||isFunction(require)||(cfg=require,require=void 0),req=requirejs=function(e,t,i,r){var n,o,a=defContextName;return isArray(e)||\"string\"==typeof e||(o=e,isArray(t)?(e=t,t=i,i=r):e=[]),o&&o.context&&(a=o.context),(n=getOwn(contexts,a))||(n=contexts[a]=req.s.newContext(a)),o&&n.configure(o),n.require(e,t,i)},req.config=function(e){return req(e)},req.nextTick=void 0!==setTimeout?function(e){setTimeout(e,4)}:function(e){e()},require||(require=req),req.version=version,req.jsExtRegExp=/^\\/|:|\\?|\\.js$/,req.isBrowser=isBrowser,s=req.s={contexts:contexts,newContext:newContext},req({}),each([\"toUrl\",\"undef\",\"defined\",\"specified\"],function(t){req[t]=function(){var e=contexts[defContextName];return e.require[t].apply(e,arguments)}}),isBrowser&&(head=s.head=document.getElementsByTagName(\"head\")[0],baseElement=document.getElementsByTagName(\"base\")[0],baseElement&&(head=s.head=baseElement.parentNode)),req.onError=defaultOnError,req.createNode=function(e,t,i){var r=e.xhtml?document.createElementNS(\"http://www.w3.org/1999/xhtml\",\"html:script\"):document.createElement(\"script\");return r.type=e.scriptType||\"text/javascript\",r.charset=\"utf-8\",r.async=!0,r},req.load=function(t,i,r){var e,n=t&&t.config||{};if(isBrowser)return(e=req.createNode(n,i,r)).setAttribute(\"data-requirecontext\",t.contextName),e.setAttribute(\"data-requiremodule\",i),!e.attachEvent||e.attachEvent.toString&&e.attachEvent.toString().indexOf(\"[native code\")<0||isOpera?(e.addEventListener(\"load\",t.onScriptLoad,!1),e.addEventListener(\"error\",t.onScriptError,!1)):(useInteractive=!0,e.attachEvent(\"onreadystatechange\",t.onScriptLoad)),e.src=r,n.onNodeCreated&&n.onNodeCreated(e,n,i,r),currentlyAddingScript=e,baseElement?head.insertBefore(e,baseElement):head.appendChild(e),currentlyAddingScript=null,e;if(isWebWorker)try{setTimeout(function(){},0),importScripts(r),t.completeLoad(i)}catch(e){t.onError(makeError(\"importscripts\",\"importScripts failed for \"+i+\" at \"+r,e,[i]))}},isBrowser&&!cfg.skipDataMain&&eachReverse(scripts(),function(e){if(head||(head=e.parentNode),dataMain=e.getAttribute(\"data-main\"))return mainScript=dataMain,cfg.baseUrl||-1!==mainScript.indexOf(\"!\")||(mainScript=(src=mainScript.split(\"/\")).pop(),subPath=src.length?src.join(\"/\")+\"/\":\"./\",cfg.baseUrl=subPath),mainScript=mainScript.replace(jsSuffixRegExp,\"\"),req.jsExtRegExp.test(mainScript)&&(mainScript=dataMain),cfg.deps=cfg.deps?cfg.deps.concat(mainScript):[mainScript],!0}),define=function(e,i,t){var r,n;\"string\"!=typeof e&&(t=i,i=e,e=null),isArray(i)||(t=i,i=null),!i&&isFunction(t)&&(i=[],t.length&&(t.toString().replace(commentRegExp,commentReplace).replace(cjsRequireRegExp,function(e,t){i.push(t)}),i=(1===t.length?[\"require\"]:[\"require\",\"exports\",\"module\"]).concat(i))),useInteractive&&(r=currentlyAddingScript||getInteractiveScript())&&(e||(e=r.getAttribute(\"data-requiremodule\")),n=contexts[r.getAttribute(\"data-requirecontext\")]),n?(n.defQueue.push([e,i,t]),n.defQueueMap[e]=!0):globalDefQueue.push([e,i,t])},define.amd={jQuery:!0},req.exec=function(text){return eval(text)},req(cfg)}function newContext(u){var i,e,l,c,d,g={waitSeconds:7,baseUrl:\"./\",paths:{},bundles:{},pkgs:{},shim:{},config:{}},p={},f={},r={},h=[],m={},n={},v={},x=1,b=1;function q(e,t,i){var r,n,o,a,s,u,c,d,p,f,l=t&&t.split(\"/\"),h=g.map,m=h&&h[\"*\"];if(e&&(u=(e=e.split(\"/\")).length-1,g.nodeIdCompat&&jsSuffixRegExp.test(e[u])&&(e[u]=e[u].replace(jsSuffixRegExp,\"\")),\".\"===e[0].charAt(0)&&l&&(e=l.slice(0,l.length-1).concat(e)),function(e){var t,i;for(t=0;t<e.length;t++)if(\".\"===(i=e[t]))e.splice(t,1),t-=1;else if(\"..\"===i){if(0===t||1===t&&\"..\"===e[2]||\"..\"===e[t-1])continue;0<t&&(e.splice(t-1,2),t-=2)}}(e),e=e.join(\"/\")),i&&h&&(l||m)){e:for(o=(n=e.split(\"/\")).length;0<o;o-=1){if(s=n.slice(0,o).join(\"/\"),l)for(a=l.length;0<a;a-=1)if((r=getOwn(h,l.slice(0,a).join(\"/\")))&&(r=getOwn(r,s))){c=r,d=o;break e}!p&&m&&getOwn(m,s)&&(p=getOwn(m,s),f=o)}!c&&p&&(c=p,d=f),c&&(n.splice(0,d,c),e=n.join(\"/\"))}return getOwn(g.pkgs,e)||e}function E(t){isBrowser&&each(scripts(),function(e){if(e.getAttribute(\"data-requiremodule\")===t&&e.getAttribute(\"data-requirecontext\")===l.contextName)return e.parentNode.removeChild(e),!0})}function w(e){var t=getOwn(g.paths,e);if(t&&isArray(t)&&1<t.length)return t.shift(),l.require.undef(e),l.makeRequire(null,{skipMap:!0})([e]),!0}function y(e){var t,i=e?e.indexOf(\"!\"):-1;return-1<i&&(t=e.substring(0,i),e=e.substring(i+1,e.length)),[t,e]}function S(e,t,i,r){var n,o,a,s,u=null,c=t?t.name:null,d=e,p=!0,f=\"\";return e||(p=!1,e=\"_@r\"+(x+=1)),u=(s=y(e))[0],e=s[1],u&&(u=q(u,c,r),o=getOwn(m,u)),e&&(u?f=i?e:o&&o.normalize?o.normalize(e,function(e){return q(e,c,r)}):-1===e.indexOf(\"!\")?q(e,c,r):e:(u=(s=y(f=q(e,c,r)))[0],f=s[1],i=!0,n=l.nameToUrl(f))),{prefix:u,name:f,parentMap:t,unnormalized:!!(a=!u||o||i?\"\":\"_unnormalized\"+(b+=1)),url:n,originalName:d,isDefine:p,id:(u?u+\"!\"+f:f)+a}}function k(e){var t=e.id,i=getOwn(p,t);return i||(i=p[t]=new l.Module(e)),i}function M(e,t,i){var r=e.id,n=getOwn(p,r);!hasProp(m,r)||n&&!n.defineEmitComplete?(n=k(e)).error&&\"error\"===t?i(n.error):n.on(t,i):\"defined\"===t&&i(m[r])}function O(i,e){var t=i.requireModules,r=!1;e?e(i):(each(t,function(e){var t=getOwn(p,e);t&&(t.error=i,t.events.error&&(r=!0,t.emit(\"error\",i)))}),r||req.onError(i))}function j(){globalDefQueue.length&&(each(globalDefQueue,function(e){var t=e[0];\"string\"==typeof t&&(l.defQueueMap[t]=!0),h.push(e)}),globalDefQueue=[])}function P(e){delete p[e],delete f[e]}function R(){var e,r,t=1e3*g.waitSeconds,n=t&&l.startTime+t<(new Date).getTime(),o=[],a=[],s=!1,u=!0;if(!i){if(i=!0,eachProp(f,function(e){var t=e.map,i=t.id;if(e.enabled&&(t.isDefine||a.push(e),!e.error))if(!e.inited&&n)w(i)?s=r=!0:(o.push(i),E(i));else if(!e.inited&&e.fetched&&t.isDefine&&(s=!0,!t.prefix))return u=!1}),n&&o.length)return(e=makeError(\"timeout\",\"Load timeout for modules: \"+o,null,o)).contextName=l.contextName,O(e);u&&each(a,function(e){!function n(o,a,s){var e=o.map.id;o.error?o.emit(\"error\",o.error):(a[e]=!0,each(o.depMaps,function(e,t){var i=e.id,r=getOwn(p,i);!r||o.depMatched[t]||s[i]||(getOwn(a,i)?(o.defineDep(t,m[i]),o.check()):n(r,a,s))}),s[e]=!0)}(e,{},{})}),n&&!r||!s||!isBrowser&&!isWebWorker||d||(d=setTimeout(function(){d=0,R()},50)),i=!1}}function a(e){hasProp(m,e[0])||k(S(e[0],null,!0)).init(e[1],e[2])}function o(e,t,i,r){e.detachEvent&&!isOpera?r&&e.detachEvent(r,t):e.removeEventListener(i,t,!1)}function s(e){var t=e.currentTarget||e.srcElement;return o(t,l.onScriptLoad,\"load\",\"onreadystatechange\"),o(t,l.onScriptError,\"error\"),{node:t,id:t&&t.getAttribute(\"data-requiremodule\")}}function T(){var e;for(j();h.length;){if(null===(e=h.shift())[0])return O(makeError(\"mismatch\",\"Mismatched anonymous define() module: \"+e[e.length-1]));a(e)}l.defQueueMap={}}return c={require:function(e){return e.require?e.require:e.require=l.makeRequire(e.map)},exports:function(e){if(e.usingExports=!0,e.map.isDefine)return e.exports?m[e.map.id]=e.exports:e.exports=m[e.map.id]={}},module:function(e){return e.module?e.module:e.module={id:e.map.id,uri:e.map.url,config:function(){return getOwn(g.config,e.map.id)||{}},exports:e.exports||(e.exports={})}}},(e=function(e){this.events=getOwn(r,e.id)||{},this.map=e,this.shim=getOwn(g.shim,e.id),this.depExports=[],this.depMaps=[],this.depMatched=[],this.pluginMaps={},this.depCount=0}).prototype={init:function(e,t,i,r){r=r||{},this.inited||(this.factory=t,i?this.on(\"error\",i):this.events.error&&(i=bind(this,function(e){this.emit(\"error\",e)})),this.depMaps=e&&e.slice(0),this.errback=i,this.inited=!0,this.ignore=r.ignore,r.enabled||this.enabled?this.enable():this.check())},defineDep:function(e,t){this.depMatched[e]||(this.depMatched[e]=!0,this.depCount-=1,this.depExports[e]=t)},fetch:function(){if(!this.fetched){this.fetched=!0,l.startTime=(new Date).getTime();var e=this.map;if(!this.shim)return e.prefix?this.callPlugin():this.load();l.makeRequire(this.map,{enableBuildCallback:!0})(this.shim.deps||[],bind(this,function(){return e.prefix?this.callPlugin():this.load()}))}},load:function(){var e=this.map.url;n[e]||(n[e]=!0,l.load(this.map.id,e))},check:function(){if(this.enabled&&!this.enabling){var t,e,i=this.map.id,r=this.depExports,n=this.exports,o=this.factory;if(this.inited){if(this.error)this.emit(\"error\",this.error);else if(!this.defining){if(this.defining=!0,this.depCount<1&&!this.defined){if(isFunction(o)){if(this.events.error&&this.map.isDefine||req.onError!==defaultOnError)try{n=l.execCb(i,o,r,n)}catch(e){t=e}else n=l.execCb(i,o,r,n);if(this.map.isDefine&&void 0===n&&((e=this.module)?n=e.exports:this.usingExports&&(n=this.exports)),t)return t.requireMap=this.map,t.requireModules=this.map.isDefine?[this.map.id]:null,t.requireType=this.map.isDefine?\"define\":\"require\",O(this.error=t)}else n=o;if(this.exports=n,this.map.isDefine&&!this.ignore&&(m[i]=n,req.onResourceLoad)){var a=[];each(this.depMaps,function(e){a.push(e.normalizedMap||e)}),req.onResourceLoad(l,this.map,a)}P(i),this.defined=!0}this.defining=!1,this.defined&&!this.defineEmitted&&(this.defineEmitted=!0,this.emit(\"defined\",this.exports),this.defineEmitComplete=!0)}}else hasProp(l.defQueueMap,i)||this.fetch()}},callPlugin:function(){var u=this.map,c=u.id,e=S(u.prefix);this.depMaps.push(e),M(e,\"defined\",bind(this,function(e){var o,t,i,r=getOwn(v,this.map.id),n=this.map.name,a=this.map.parentMap?this.map.parentMap.name:null,s=l.makeRequire(u.parentMap,{enableBuildCallback:!0});return this.map.unnormalized?(e.normalize&&(n=e.normalize(n,function(e){return q(e,a,!0)})||\"\"),M(t=S(u.prefix+\"!\"+n,this.map.parentMap,!0),\"defined\",bind(this,function(e){this.map.normalizedMap=t,this.init([],function(){return e},null,{enabled:!0,ignore:!0})})),void((i=getOwn(p,t.id))&&(this.depMaps.push(t),this.events.error&&i.on(\"error\",bind(this,function(e){this.emit(\"error\",e)})),i.enable()))):r?(this.map.url=l.nameToUrl(r),void this.load()):((o=bind(this,function(e){this.init([],function(){return e},null,{enabled:!0})})).error=bind(this,function(e){this.inited=!0,(this.error=e).requireModules=[c],eachProp(p,function(e){0===e.map.id.indexOf(c+\"_unnormalized\")&&P(e.map.id)}),O(e)}),o.fromText=bind(this,function(e,t){var i=u.name,r=S(i),n=useInteractive;t&&(e=t),n&&(useInteractive=!1),k(r),hasProp(g.config,c)&&(g.config[i]=g.config[c]);try{req.exec(e)}catch(e){return O(makeError(\"fromtexteval\",\"fromText eval for \"+c+\" failed: \"+e,e,[c]))}n&&(useInteractive=!0),this.depMaps.push(r),l.completeLoad(i),s([i],o)}),void e.load(u.name,s,o,g))})),l.enable(e,this),this.pluginMaps[e.id]=e},enable:function(){(f[this.map.id]=this).enabled=!0,this.enabling=!0,each(this.depMaps,bind(this,function(e,t){var i,r,n;if(\"string\"==typeof e){if(e=S(e,this.map.isDefine?this.map:this.map.parentMap,!1,!this.skipMap),this.depMaps[t]=e,n=getOwn(c,e.id))return void(this.depExports[t]=n(this));this.depCount+=1,M(e,\"defined\",bind(this,function(e){this.undefed||(this.defineDep(t,e),this.check())})),this.errback?M(e,\"error\",bind(this,this.errback)):this.events.error&&M(e,\"error\",bind(this,function(e){this.emit(\"error\",e)}))}i=e.id,r=p[i],hasProp(c,i)||!r||r.enabled||l.enable(e,this)})),eachProp(this.pluginMaps,bind(this,function(e){var t=getOwn(p,e.id);t&&!t.enabled&&l.enable(e,this)})),this.enabling=!1,this.check()},on:function(e,t){var i=this.events[e];i||(i=this.events[e]=[]),i.push(t)},emit:function(e,t){each(this.events[e],function(e){e(t)}),\"error\"===e&&delete this.events[e]}},(l={config:g,contextName:u,registry:p,defined:m,urlFetched:n,defQueue:h,defQueueMap:{},Module:e,makeModuleMap:S,nextTick:req.nextTick,onError:O,configure:function(e){if(e.baseUrl&&\"/\"!==e.baseUrl.charAt(e.baseUrl.length-1)&&(e.baseUrl+=\"/\"),\"string\"==typeof e.urlArgs){var i=e.urlArgs;e.urlArgs=function(e,t){return(-1===t.indexOf(\"?\")?\"?\":\"&\")+i}}var r=g.shim,n={paths:!0,bundles:!0,config:!0,map:!0};eachProp(e,function(e,t){n[t]?(g[t]||(g[t]={}),mixin(g[t],e,!0,!0)):g[t]=e}),e.bundles&&eachProp(e.bundles,function(e,t){each(e,function(e){e!==t&&(v[e]=t)})}),e.shim&&(eachProp(e.shim,function(e,t){isArray(e)&&(e={deps:e}),!e.exports&&!e.init||e.exportsFn||(e.exportsFn=l.makeShimExports(e)),r[t]=e}),g.shim=r),e.packages&&each(e.packages,function(e){var t;t=(e=\"string\"==typeof e?{name:e}:e).name,e.location&&(g.paths[t]=e.location),g.pkgs[t]=e.name+\"/\"+(e.main||\"main\").replace(currDirRegExp,\"\").replace(jsSuffixRegExp,\"\")}),eachProp(p,function(e,t){e.inited||e.map.unnormalized||(e.map=S(t,null,!0))}),(e.deps||e.callback)&&l.require(e.deps||[],e.callback)},makeShimExports:function(t){return function(){var e;return t.init&&(e=t.init.apply(global,arguments)),e||t.exports&&getGlobal(t.exports)}},makeRequire:function(o,a){function s(e,t,i){var r,n;return a.enableBuildCallback&&t&&isFunction(t)&&(t.__requireJsBuild=!0),\"string\"==typeof e?isFunction(t)?O(makeError(\"requireargs\",\"Invalid require call\"),i):o&&hasProp(c,e)?c[e](p[o.id]):req.get?req.get(l,e,o,s):(r=S(e,o,!1,!0).id,hasProp(m,r)?m[r]:O(makeError(\"notloaded\",'Module name \"'+r+'\" has not been loaded yet for context: '+u+(o?\"\":\". Use require([])\")))):(T(),l.nextTick(function(){T(),(n=k(S(null,o))).skipMap=a.skipMap,n.init(e,t,i,{enabled:!0}),R()}),s)}return a=a||{},mixin(s,{isBrowser:isBrowser,toUrl:function(e){var t,i=e.lastIndexOf(\".\"),r=e.split(\"/\")[0];return-1!==i&&(!(\".\"===r||\"..\"===r)||1<i)&&(t=e.substring(i,e.length),e=e.substring(0,i)),l.nameToUrl(q(e,o&&o.id,!0),t,!0)},defined:function(e){return hasProp(m,S(e,o,!1,!0).id)},specified:function(e){return e=S(e,o,!1,!0).id,hasProp(m,e)||hasProp(p,e)}}),o||(s.undef=function(i){j();var e=S(i,o,!0),t=getOwn(p,i);t.undefed=!0,E(i),delete m[i],delete n[e.url],delete r[i],eachReverse(h,function(e,t){e[0]===i&&h.splice(t,1)}),delete l.defQueueMap[i],t&&(t.events.defined&&(r[i]=t.events),P(i))}),s},enable:function(e){getOwn(p,e.id)&&k(e).enable()},completeLoad:function(e){var t,i,r,n=getOwn(g.shim,e)||{},o=n.exports;for(j();h.length;){if(null===(i=h.shift())[0]){if(i[0]=e,t)break;t=!0}else i[0]===e&&(t=!0);a(i)}if(l.defQueueMap={},r=getOwn(p,e),!t&&!hasProp(m,e)&&r&&!r.inited){if(!(!g.enforceDefine||o&&getGlobal(o)))return w(e)?void 0:O(makeError(\"nodefine\",\"No define call for \"+e,null,[e]));a([e,n.deps||[],n.exportsFn])}R()},nameToUrl:function(e,t,i){var r,n,o,a,s,u,c=getOwn(g.pkgs,e);if(c&&(e=c),u=getOwn(v,e))return l.nameToUrl(u,t,i);if(req.jsExtRegExp.test(e))a=e+(t||\"\");else{for(r=g.paths,o=(n=e.split(\"/\")).length;0<o;o-=1)if(s=getOwn(r,n.slice(0,o).join(\"/\"))){isArray(s)&&(s=s[0]),n.splice(0,o,s);break}a=n.join(\"/\"),a=(\"/\"===(a+=t||(/^data\\:|^blob\\:|\\?/.test(a)||i?\"\":\".js\")).charAt(0)||a.match(/^[\\w\\+\\.\\-]+:/)?\"\":g.baseUrl)+a}return g.urlArgs&&!/^blob\\:/.test(a)?a+g.urlArgs(e,a):a},load:function(e,t){req.load(l,e,t)},execCb:function(e,t,i,r){return t.apply(r,i)},onScriptLoad:function(e){if(\"load\"===e.type||readyRegExp.test((e.currentTarget||e.srcElement).readyState)){interactiveScript=null;var t=s(e);l.completeLoad(t.id)}},onScriptError:function(e){var i=s(e);if(!w(i.id)){var r=[];return eachProp(p,function(e,t){0!==t.indexOf(\"_@r\")&&each(e.depMaps,function(e){if(e.id===i.id)return r.push(t),!0})}),O(makeError(\"scripterror\",'Script error for \"'+i.id+(r.length?'\", needed by: '+r.join(\", \"):'\"'),e,[i.id]))}}}).require=l.makeRequire(),l}function getInteractiveScript(){return interactiveScript&&\"interactive\"===interactiveScript.readyState||eachReverse(scripts(),function(e){if(\"interactive\"===e.readyState)return interactiveScript=e}),interactiveScript}}(this,\"undefined\"==typeof setTimeout?void 0:setTimeout);</script>\n",
       "<script type='text/javascript'>\n",
       "require.config({\n",
       "paths: {\n",
       "        'plotly': \"https://cdn.plot.ly/plotly-latest.min\"\n",
       "    },\n",
       "})\n",
       "require( ['plotly'], function(Plotly) {\n",
       "window.Plotly = Plotly;\n",
       "})\n",
       "</script>\n"
      ]
     },
     "metadata": {},
     "output_type": "display_data"
    },
    {
     "data": {
      "text/plain": [
       "\u001b[32mimport \u001b[39m\u001b[36mpicta.Html._ // required to initialize jupyter notebook mode\n",
       "\u001b[39m"
      ]
     },
     "execution_count": 3,
     "metadata": {},
     "output_type": "execute_result"
    }
   ],
   "source": [
    "import picta.Html._ // required to initialize jupyter notebook mode\n",
    "init_notebook_mode() // stops ugly output"
   ]
  },
  {
   "cell_type": "markdown",
   "metadata": {},
   "source": [
    "# 1. Basics\n",
    "\n",
    "The aim of the Picta library is to be a highly configurable and composable general purpose charting library. The following examples are aimed at highlighting the charting grammar for the library, which should make constructing charts easy and intuitive."
   ]
  },
  {
   "cell_type": "markdown",
   "metadata": {},
   "source": [
    "#### Colors\n",
    "\n",
    "Colors in the library are represented as one of two types:\n",
    "\n",
    "1. `List[String]` => this may either be a color word, such as \"red\", or RGB value, such as \"rgb(255, 255, 255, 1)\".\n",
    "2. `List[Double]`"
   ]
  },
  {
   "cell_type": "markdown",
   "metadata": {},
   "source": [
    "#### Lines\n",
    "\n",
    "Lines are perhaps the simplest chart component. The constructor takes in the following arguments:\n",
    "\n",
    "1. `width: Double`\n",
    "2. `color: List[Double] or List[String] or String`\n",
    "\n",
    "They may be composed as follows:"
   ]
  },
  {
   "cell_type": "code",
   "execution_count": 4,
   "metadata": {},
   "outputs": [
    {
     "name": "stdout",
     "output_type": "stream",
     "text": [
      "Line(0.5,Some(List(rgb(255, 255, 255, 1))))\n"
     ]
    }
   ],
   "source": [
    "import picta.options.Line\n",
    "\n",
    "val line = Line() + \"rgb(255, 255, 255, 1)\" // the default constructor for Line has a width of 0.5\n",
    "\n",
    "println(line)"
   ]
  },
  {
   "cell_type": "markdown",
   "metadata": {},
   "source": [
    "#### Markers\n",
    "\n",
    "Markers take in the following optional parameters:\n",
    "\n",
    "1. `symbol: String`\n",
    "2. `color: List[String] or List[Double]`\n",
    "3. `line: Line`\n",
    "\n",
    "Again, composition of a line follows a similar pattern. However, we must wrap the color/s inside a `List` to avoid confusing the compiler. Here we create a `circle` marker, with the color `red` and a `line` of width 0.5:"
   ]
  },
  {
   "cell_type": "code",
   "execution_count": 5,
   "metadata": {},
   "outputs": [
    {
     "name": "stdout",
     "output_type": "stream",
     "text": [
      "Marker(None,Some(List(red)),Some(Line(0.5,Some(List()))))\n"
     ]
    }
   ],
   "source": [
    "import picta.options.Marker\n",
    "\n",
    "val marker = Marker() + \"circle\" + List(\"red\") + Line()\n",
    "\n",
    "println(marker)"
   ]
  },
  {
   "cell_type": "markdown",
   "metadata": {},
   "source": [
    "### [TO BE CONTINUED.....]"
   ]
  },
  {
   "cell_type": "markdown",
   "metadata": {},
   "source": [
    "## Chart compositions\n",
    "\n",
    "Charts consist of 3 components:\n",
    "\n",
    "1. `data`\n",
    "2. `layout`\n",
    "3. `config`\n",
    "\n",
    "Generally, most of the compositions make use of `data` and `layout` components."
   ]
  },
  {
   "cell_type": "markdown",
   "metadata": {},
   "source": [
    "#### Scatter Charts and Line Charts"
   ]
  },
  {
   "cell_type": "code",
   "execution_count": 6,
   "metadata": {},
   "outputs": [],
   "source": [
    "// some dummy data for x and y variables\n",
    "val x = List.range(1, 50)\n",
    "val y = x.map(x => x + scala.util.Random.nextDouble()*100)"
   ]
  },
  {
   "cell_type": "code",
   "execution_count": 7,
   "metadata": {},
   "outputs": [],
   "source": [
    "import picta.series.XY\n",
    "import picta.series.XYChartType._\n",
    "\n",
    "// the two data series are then wrapped inside \n",
    "val data = XY(x, y, series_name=\"test\", series_type=SCATTER, series_mode=\"markers\")"
   ]
  },
  {
   "cell_type": "code",
   "execution_count": 8,
   "metadata": {},
   "outputs": [],
   "source": [
    "import picta.options.{Layout, Config}\n",
    "\n",
    "// The layout is a composable object which determines how the chart is displayed\n",
    "val layout = Layout(title=Some(\"Chart\"))\n",
    "// the configuration option allows us to set whether the chart is responsible and zoomable using scroll\n",
    "val config = Config(responsive=false, scrollZoom=true)"
   ]
  },
  {
   "cell_type": "code",
   "execution_count": 9,
   "metadata": {},
   "outputs": [
    {
     "data": {
      "text/html": [
       "\n",
       "<div align=\"center\">\n",
       "<div id='graph_1593769427724' style=\"width:100%; margin:0 auto;\"></div>\n",
       "</div>\n",
       "<script>\n",
       " var traces = [{\"name\":\"test\",\"type\":\"scatter\",\"xaxis\":\"x\",\"yaxis\":\"y\",\"mode\":\"markers\",\"x\":[1,2,3,4,5,6,7,8,9,10,11,12,13,14,15,16,17,18,19,20,21,22,23,24,25,26,27,28,29,30,31,32,33,34,35,36,37,38,39,40,41,42,43,44,45,46,47,48,49],\"y\":[10.238840596010222,87.99190975841128,100.49255312245101,36.6026463005517,52.35658104271867,60.65347091286572,67.61104013969711,71.61279022953732,94.17430095874309,79.90503473218544,70.61927359342985,107.20777863871778,16.52025187514563,108.99005997314666,62.55223251135852,59.34553909334321,93.10879547952429,69.62169457483225,102.34672925169212,111.2191748047976,60.46291157112775,79.22135793952226,39.43089466061939,38.01449137890626,40.453297400895636,111.38627887637072,103.41593335314896,29.17164830478904,111.3677778274432,89.586535871928,50.51671220047456,93.00508738742039,63.756721033901826,108.95557512451975,78.97230407697191,46.211630996130964,83.25722751359251,56.52628836139897,102.00714707481859,49.09742432259033,74.18090249475978,66.3781993216326,58.76798332300729,46.28023867697065,74.8570145645201,102.8994003066193,51.19130363739656,112.17432772212504,118.55489623837533]}];\n",
       " var layout = {\"height\":500,\"width\":800,\"title\":{\"text\":\"Chart\"}};\n",
       " var config = {\"responsive\":false,\"scrollZoom\":true,\"displaylogo\":false};\n",
       " Plotly.newPlot(\"graph_1593769427724\", traces, layout, config);\n",
       "</script>\n"
      ]
     },
     "metadata": {},
     "output_type": "display_data"
    }
   ],
   "source": [
    "import picta.charts.Chart\n",
    "\n",
    "// we can compose a chart using the data, layout and config elements above. This grammar is the same for all charts\n",
    "val chart = Chart() + data + layout + config\n",
    "chart.plot_inline()"
   ]
  },
  {
   "cell_type": "markdown",
   "metadata": {},
   "source": [
    "#### Adding Additional Traces to a Chart\n",
    "\n",
    "We can compose an existing chart with more data series using the same composition technique as shown above for other components:"
   ]
  },
  {
   "cell_type": "code",
   "execution_count": 10,
   "metadata": {},
   "outputs": [
    {
     "data": {
      "text/html": [
       "\n",
       "<div align=\"center\">\n",
       "<div id='graph_1593769428006' style=\"width:100%; margin:0 auto;\"></div>\n",
       "</div>\n",
       "<script>\n",
       " var traces = [{\"name\":\"data1\",\"type\":\"bar\",\"xaxis\":\"x\",\"yaxis\":\"y\",\"x\":[1,2,3,4,5,6,7,8,9,10,11,12,13,14,15,16,17,18,19,20,21,22,23,24,25,26,27,28,29,30,31,32,33,34,35,36,37,38,39,40,41,42,43,44,45,46,47,48,49],\"y\":[72.96918104779951,154.89244396923016,129.23346855478408,45.86910355699334,122.30126710485477,100.65520782604844,71.39913425404457,154.32455598884906,135.8102145411936,88.94617534198474,102.14904383460909,140.8453762276613,26.836655254631513,135.39738355080567,121.71621384862753,110.15649390948673,122.50806737142554,123.72712399691943,128.25350559697435,168.28573866161412,138.98419375904217,172.32167897186582,95.64949845689623,39.36387391097771,91.03189141446697,188.7063379406683,176.30182286758583,94.07184331893434,141.4530805008775,132.5172836499564,58.68805482586957,113.56947858346248,108.58478151451845,140.5937334864775,175.39456947165885,123.8727076989174,119.03553731737125,107.06748913972041,179.33404008535737,53.02908240234077,118.01786423363964,156.83499513213354,84.20266233575089,87.07435551512714,131.08165281059368,202.5546217148879,99.7983823936873,130.63552707183624,208.7487529653967]},{\"name\":\"test\",\"type\":\"scatter\",\"xaxis\":\"x\",\"yaxis\":\"y\",\"mode\":\"markers\",\"x\":[1,2,3,4,5,6,7,8,9,10,11,12,13,14,15,16,17,18,19,20,21,22,23,24,25,26,27,28,29,30,31,32,33,34,35,36,37,38,39,40,41,42,43,44,45,46,47,48,49],\"y\":[10.238840596010222,87.99190975841128,100.49255312245101,36.6026463005517,52.35658104271867,60.65347091286572,67.61104013969711,71.61279022953732,94.17430095874309,79.90503473218544,70.61927359342985,107.20777863871778,16.52025187514563,108.99005997314666,62.55223251135852,59.34553909334321,93.10879547952429,69.62169457483225,102.34672925169212,111.2191748047976,60.46291157112775,79.22135793952226,39.43089466061939,38.01449137890626,40.453297400895636,111.38627887637072,103.41593335314896,29.17164830478904,111.3677778274432,89.586535871928,50.51671220047456,93.00508738742039,63.756721033901826,108.95557512451975,78.97230407697191,46.211630996130964,83.25722751359251,56.52628836139897,102.00714707481859,49.09742432259033,74.18090249475978,66.3781993216326,58.76798332300729,46.28023867697065,74.8570145645201,102.8994003066193,51.19130363739656,112.17432772212504,118.55489623837533]}];\n",
       " var layout = {\"height\":500,\"width\":800,\"title\":{\"text\":\"Chart\"}};\n",
       " var config = {\"responsive\":false,\"scrollZoom\":true,\"displaylogo\":false};\n",
       " Plotly.newPlot(\"graph_1593769428006\", traces, layout, config);\n",
       "</script>\n"
      ]
     },
     "metadata": {},
     "output_type": "display_data"
    }
   ],
   "source": [
    "// additional traces can simply be composed with an existing chart and added on\n",
    "val data1 = XY(x, y.map(x => x + scala.util.Random.nextDouble()*100), series_name=\"data1\", series_type=BAR)\n",
    "\n",
    "val chart1 = chart + data1\n",
    "chart1.plot_inline()"
   ]
  },
  {
   "cell_type": "markdown",
   "metadata": {},
   "source": [
    "#### Pie Chart"
   ]
  },
  {
   "cell_type": "code",
   "execution_count": 11,
   "metadata": {},
   "outputs": [
    {
     "data": {
      "text/html": [
       "\n",
       "<div align=\"center\">\n",
       "<div id='graph_1593769428286' style=\"width:100%; margin:0 auto;\"></div>\n",
       "</div>\n",
       "<script>\n",
       " var traces = [{\"name\":\"test\",\"type\":\"pie\",\"values\":[19,26,55],\"labels\":[\"Residential\",\"Non-Residential\",\"Utility\"]}];\n",
       " var layout = {\"height\":500,\"width\":800,\"title\":{\"text\":\"Pie Chart\"}};\n",
       " var config = {\"responsive\":false,\"scrollZoom\":true,\"displaylogo\":false};\n",
       " Plotly.newPlot(\"graph_1593769428286\", traces, layout, config);\n",
       "</script>\n"
      ]
     },
     "metadata": {},
     "output_type": "display_data"
    }
   ],
   "source": [
    "// pie charts can be composed in a similar way:\n",
    "val data = XY(List(19, 26, 55), List(\"Residential\", \"Non-Residential\", \"Utility\"), series_name=\"test\", series_type=PIE)\n",
    "val layout = Layout(Some(\"Pie Chart\"))\n",
    "val chart = Chart() + data +  layout + config\n",
    "chart.plot_inline()"
   ]
  },
  {
   "cell_type": "markdown",
   "metadata": {},
   "source": [
    "#### Setting Axes\n",
    "\n",
    "For all charts, each axis can be composed invidiually. The following is an example for a `Histogram` chart:"
   ]
  },
  {
   "cell_type": "code",
   "execution_count": 12,
   "metadata": {},
   "outputs": [],
   "source": [
    "val x = List.range(1, 1000).map(_+scala.util.Random.nextDouble()*1000)\n",
    "\n",
    "// for histogram charts, the xkey must be specified. It essentially sets the orientation (x direction or y direction)\n",
    "val data = XY(x=x, xkey=\"x\", series_name=\"hist\", series_type=HISTOGRAM)"
   ]
  },
  {
   "cell_type": "code",
   "execution_count": 13,
   "metadata": {},
   "outputs": [
    {
     "data": {
      "text/html": [
       "\n",
       "<div align=\"center\">\n",
       "<div id='graph_1593769428704' style=\"width:100%; margin:0 auto;\"></div>\n",
       "</div>\n",
       "<script>\n",
       " var traces = [{\"name\":\"hist\",\"type\":\"histogram\",\"xaxis\":\"x\",\"yaxis\":\"y\",\"x\":[206.895596914201,659.4128266485293,337.3776666603767,176.27837059959617,239.723845402374,830.1007200083734,731.9460942727414,478.03892454441933,133.47392489588628,329.86788126951546,555.2304126035418,983.37624154562,389.23162012135447,407.7511612309796,152.06625877807755,736.8744306386544,210.80802568660192,964.3927870476739,706.0342823929151,645.8722173185784,822.3676110717704,968.3089794232359,33.14184788610251,579.881512420553,856.3658686479984,247.3467224065332,251.18857296163475,167.29157256296944,1007.7500642660652,871.0568588064885,241.96052991482162,480.18532700706305,506.82159988509454,266.4706071237857,632.9679622559934,302.9769085898176,475.85412885469987,542.7736305253916,491.2620581480976,91.71254158134275,903.5065702241354,239.629736176976,43.93655727210429,48.25967872364363,796.265845230105,859.4147120655857,518.2401511440956,957.2419413479905,1047.5990167947753,95.37737880799087,628.7958878387636,563.4604175754755,703.1903842900497,625.7541459996761,330.24446815364024,303.67452872637574,594.5837805226004,708.1202990322867,200.69824428500888,148.9987878613483,763.746071040695,578.7690322373207,224.71323028343588,162.8039312409441,707.5132667493632,838.6677386893658,804.0567012515122,133.89472602380775,233.5751632007665,590.5481053548381,540.3682785607768,305.8685055367832,638.601023836356,80.94484161217856,705.8827712988934,790.9420163427062,994.3028658330556,996.5055119504672,346.70333560153637,730.1666925868005,558.6790352095886,365.65185884628943,647.6833956505409,641.835388528289,717.375768731518,224.6807572897275,528.7972843898015,686.016273911322,404.04989853652353,821.6505232784132,439.94805926083075,765.532535538084,648.810792709406,151.90668830029566,974.4831638157184,482.33937444910407,760.2655462865768,1045.858568526713,231.25752147949743,973.1322881716259,659.3861667928353,862.626042596592,820.9044635119164,559.154063066245,1052.3632417808813,1082.4338922111747,1034.0455679012348,962.5499781060787,454.8055001134761,736.1384529452343,967.489857219331,565.2540312635408,561.0904826317815,662.0296290290903,339.0444923603177,816.2716953133631,1090.3662395367712,1038.0587423253578,312.377651748988,429.3574320367654,1034.6498809536815,501.9009259488123,900.4463479586732,455.4680766410835,184.6637332815668,441.76788490489673,419.32115782579683,663.0061880870713,915.4952722661068,717.6455119612547,1023.8103408110676,913.749547564697,476.86233312858684,155.63798217688918,572.1063865407841,383.49723131559995,451.710457746725,647.3582959087585,938.7483532417717,543.8436315414782,622.0644499998327,581.8123241030927,423.51304672981615,795.1264687094331,212.5015709848684,638.9822114906683,1088.4194842064308,520.4760478080455,369.30913706737186,682.3218919595562,695.8503289616289,1117.027152619817,777.3345707508516,601.6358335378807,417.8648709671857,252.73663673509515,516.7312716357887,478.31966330407823,640.0986079154077,195.88365170546282,618.2489626903318,371.6993960598441,993.2140746755449,569.2113343922135,288.4126342852778,358.2135765712966,210.68851157783027,291.8021142773433,444.87908009565643,194.44036945562067,533.7943758474357,789.1616750206642,1027.4561427841707,1120.4799702007554,1162.9481388625281,775.6188936579164,531.714049015184,871.9597878082355,689.1741804285507,1043.0326481862494,349.81448710381073,926.938256946147,530.250254061491,725.9283390499048,797.1278349077501,378.24068481960046,1143.1715322571313,455.57066498162783,1153.404341088179,592.2683129949503,1187.8903663912386,664.111156803692,653.7105929608108,992.0797771511715,876.8595808228125,1054.832527105411,1127.0375833757048,885.5517970320756,460.7269642497394,915.6442824767875,899.4324287067932,248.68376117820983,1172.5994562362894,520.3667434054865,653.7005615646262,769.6187373157072,981.6152073276738,335.97398266448414,1169.1710667276675,260.7113395710633,1191.132616375267,1133.8484527923417,252.7128098675994,753.980356029798,257.6654281464074,389.23304503877387,716.1343925212375,1209.5423660630786,1203.7632447813253,545.4493353627391,955.2964107091111,787.1297446528833,651.3574406924643,818.0834701008404,542.7094174732296,1057.555187565659,811.6623693923837,1219.2235098691945,258.0871497410694,363.99135215709157,733.5422535900309,392.96599247077125,1150.268564953452,782.1936837487892,734.3247649731428,670.7907621227072,549.1190347097437,774.3007135125038,1215.3619545132801,479.03746524020005,427.46498394229457,682.605045994634,999.2099889532192,860.598542048448,1150.8129327686531,667.6955963775748,916.1196091492014,409.0775767725504,446.5476466448144,559.6294903687321,614.5986805905736,356.0436940022459,374.5011127374127,361.29980718625677,474.1299041598307,900.6460750376239,1187.2278396411225,819.9234606064525,1057.6954657193728,1125.7353804193172,1231.0184692528783,565.5808717654359,757.58211668424,1005.7715292809498,457.6281403064486,804.9972698900725,1160.00970875859,1079.1802453594678,691.8920141469239,454.26303285900417,1182.446475105309,331.4533927105052,531.845167674637,895.9485511496327,1222.0453722841014,715.1713748777591,645.6597770756412,1254.076504020692,394.45520304899605,519.2580607250953,1273.6574155452781,1194.6727850378923,439.33115878535466,492.1620188284813,943.8502164465556,780.1245340106932,1022.1896168149331,1222.2904872013285,765.9091515344322,832.3321486526696,971.8222023599492,783.9052957552983,1181.153692450583,592.6493627192383,458.30438194154976,1067.822597255858,715.1021294534032,1205.863842398184,1238.7047159352041,533.6415681817244,1104.3169914866119,700.9782427725397,875.9201724446784,343.85958961324775,1150.725808142874,693.3092945208747,1270.634571197407,970.114180963578,794.292193015111,990.4310623296814,937.2160992031687,397.92555326064985,1188.8578017951213,648.7453038537641,1201.4414030823386,998.6951233576979,1016.1713375152317,797.9705569613559,901.25314357988,986.349588377196,879.5653815514894,727.5987065693606,1231.3290297432463,1130.9018215586325,381.4378513056729,1312.376385348708,1088.059657277779,1062.3335060420072,407.63971615494256,843.1253071001978,643.603981015543,1065.5863615872634,1217.0661794531966,724.7245409809226,906.0104401909914,741.0827660952978,1166.1937534012563,1304.8348154891992,706.9629039426593,1285.0781928208846,1286.000783694742,1304.953024412528,899.5304348987906,430.2814668861568,472.6550352878978,939.6428070004498,545.3703776120034,1279.561723807405,753.5458001348319,830.2952557096346,524.1544974083134,364.1928451158121,946.6851309151202,1246.5308576566922,1307.5583752520406,1262.9702257316435,1044.196610501766,1041.3624720210437,605.9742753434023,1029.6665837976911,819.5561232215507,885.4963558218707,1218.1784513540229,493.6767324700715,483.44446526210197,1051.6562099238386,692.5035861301359,1222.3340661681243,694.5162284895687,1051.5731509456223,1342.6380333304137,563.2639560989974,869.0857327518889,886.2922590404203,751.993363629357,721.2728661184219,527.6752305719128,534.7040553002947,1147.6520817380588,1266.6537205280306,1366.5664283364097,575.7172834341513,928.2279308452031,820.4217545432007,848.9413095859172,516.2468888186169,1189.5413719182723,916.8777309581468,1372.894007538832,480.19937062070017,1307.833018959439,1205.0274153181472,492.5403121052596,402.894866795764,512.3084301138886,1217.7706512227712,1243.6470547977842,770.8737568563087,907.1275510909176,911.404113049186,1356.6488116276248,1248.7929386075552,587.5228015985517,1057.866747917651,1027.6145016169655,1243.1249959906609,1335.5500059107403,1358.2877223730811,961.6721926126855,566.631108176525,878.0464231079644,838.7814235552263,603.5953410429348,888.0866938857056,842.6908356200587,688.0650852799538,826.6990249124115,578.4960239626387,1357.6307398554673,1201.3588901986896,863.8904796847673,898.0403960630717,705.9619545867654,906.1602477987799,933.6628948328848,1207.2621895853626,568.4165405873483,1262.8671791515721,839.0174632437254,1031.494415305307,1165.9348253020796,556.8585946704102,798.7431161118287,1359.3039859963105,1048.3680093992211,728.521745608628,908.1797987230194,513.724194324158,1366.3781057992114,923.8502917881474,920.5353007865086,1299.3096551434955,1210.6719156148056,490.61902030604506,490.0218253526431,898.5553851018926,1006.0264522503376,993.7741369868116,624.5233696984064,1167.9786372120943,1007.1335671083223,578.5609212075982,858.2004625185843,567.1707408299845,659.1112695207136,671.0431619050985,573.3839453564251,943.3834337344867,957.6004707235754,573.051893331608,976.3051667110105,789.7222777226411,971.6851598583546,982.233361173647,1462.6546547509597,1396.7773961050611,1377.4452432145479,847.7494972059001,496.65732892317965,525.5298398824,1190.770974256814,1258.3164371682055,671.2972326865251,843.6293361210702,885.1386046018773,1251.6497936806657,1317.5200794372254,1387.6472935272745,733.3667621840764,533.0181675483066,886.6871990944419,740.6666486576618,521.944124029902,1095.4889255660278,1343.2502902221167,1447.577729625834,752.3380532063172,645.583559492327,973.5607550241062,1429.707820746638,1065.765795887809,555.4421214724696,1341.92355561542,805.9187447875079,906.228475626903,786.2298539569584,606.4506186202802,579.0659501118342,1371.1796766953175,857.4010529343566,1044.9635466333943,1104.7192465097223,790.0202127246092,1472.5688195434425,1435.14187046803,1123.304020770805,817.6808020774611,855.1114332963771,883.3070783745984,1407.328830277418,733.8752942608469,1195.279630266602,802.6790304238375,752.1237748225441,1198.1766962852867,865.4513349577173,1004.6360846958532,1121.5212565729453,926.8891269823314,1221.3133123235993,1285.455666282521,1249.1689652838284,629.758790444584,874.1322550148332,1466.2076533612299,891.6727847192418,1072.8875523616243,1292.9103447311008,574.9177340467426,1231.524404410822,1318.7829204284303,1475.103443150528,747.8135617120711,635.7773610008624,1035.2985596305023,1210.7123765760348,1470.4119874016428,1090.6921362609091,1262.2899597653454,1156.9413504468512,979.400354299995,1153.0790976108065,1178.1298454910338,1539.2494892864265,1002.7107530189302,1185.8259467657194,1217.7983768770282,799.5050482456538,1527.881380179159,978.1039132078411,1360.083862649381,923.0841976355052,957.7439101040607,590.005204794187,1523.4992728685725,1494.139095754701,837.6719430584363,1406.8712261176784,788.8409897636591,751.8933571152353,1320.0700339125149,940.3298360724718,600.8857264180347,1050.704876886537,669.4789000533948,871.067131378451,1192.542681017714,1162.7695513720823,1405.617221273836,1192.617028558815,1221.8474564736678,804.7220861936752,1131.8758249858324,1085.9602581376535,1015.5054439789833,618.0225983499456,703.2255056953759,1331.4814338872557,872.2619065993794,587.9009448030522,1150.1950943224979,647.8415374353115,595.1969451587552,1546.7630990103492,694.5214322384752,1336.5799179636913,794.113350272588,975.3471465882892,1267.268212866425,1006.7691141334515,1527.5058593427975,788.5488535393455,1171.6567071896068,955.8019324242192,1538.1709943151736,1172.7201229332763,920.5453275105817,990.3997149830213,677.3360543055093,827.3755548211586,822.4417534895267,1086.1871784374305,1109.2573593867248,1156.6264400611087,1590.125596344546,1304.687788544717,1541.557002647054,1054.2928895618247,1102.4054536436129,813.3514035925908,1036.1384139096838,931.5289843371152,1462.2293241710067,687.2332744694556,921.3413178404257,1546.9274493922783,663.3126039804326,1410.2018021897075,948.0663007713306,1016.4539059822037,1502.6433454582916,639.0599660554533,1110.9206878297223,1104.1936344882054,857.6698925951384,845.7232694553502,1490.0063641402098,1524.7757903407464,1084.6706477421003,910.6049436080464,1059.7916769612825,1524.4738104750813,1088.7521409115725,1604.6165702182884,658.5793529948465,1450.362945182842,1566.1157686567121,1167.7008413535336,1215.4022747081865,1365.5488191993254,1025.6796733537449,868.5699631414612,890.750337338993,1023.3637574729187,1459.8370862687175,1513.3320885348494,1003.3507737284881,674.5604394101208,953.0781750809504,1359.9452441867888,1487.2953552622932,1248.9152853781977,1092.3971559139322,790.9461647340347,1152.1281313891604,1426.2866073601858,774.8524908730619,1398.6596982552826,1203.0771852595708,992.055642446006,895.3425484866668,845.1014347324007,1319.4349726130276,1658.0111200299143,1441.6052259313633,973.045049338831,1086.161403528658,1222.1211385577844,723.6442912279495,1165.2325955027782,727.1045595440188,1539.2685937302736,821.2318326494546,875.4647118616019,897.8041430117152,1279.9095483242672,845.8301498950381,1588.3149653686187,761.6629976467275,864.7463486348049,1282.2229621632132,1203.470545306151,695.3425127342822,1280.8907322999953,1500.3401439314603,986.2092067178837,747.5578472734167,708.6240888536719,1509.2059509988508,777.280571264365,1410.0192804715255,1017.7458997252535,1162.636406860047,1113.4671237106238,1350.0865220731648,1228.6330858529986,1320.2558267472846,1274.358534633367,1501.772725141857,975.5168201299851,917.5987164629771,1041.3804318419843,1315.0555911222293,858.1155336667669,1505.5081128657912,1131.8768947563838,1023.0231650998443,1322.645847824676,1581.7368889276804,854.0532674594126,1502.2022245892847,1374.3659103643902,956.603794183423,1517.8443442955336,1673.4873444000652,991.1886999121114,1469.7513391708771,1532.28001372084,1419.409294695394,1581.535215386902,1606.4981346152854,921.679136162738,1678.051743619575,1209.480635778164,949.9730238713427,1201.009397357123,1714.7449470992706,1596.3793733224998,949.1646250835677,1165.0093833509363,1569.736466697218,1100.5373900996478,1183.2140470719332,1166.1764103737755,1333.3582662263943,975.1333070337255,1158.7250453452768,883.48179825632,1209.780464903641,1209.4725429580972,1689.5601076285616,1416.683048308188,1296.2621402451914,1169.7915758262611,1077.537148692554,780.3598500692569,1626.87978665315,1073.211956391191,1637.636195026521,1517.3093074186445,1308.0345692292262,1052.0770741210333,1592.771109687722,1202.692784472875,1507.609755832297,1195.7869088166158,1000.8766010831471,1068.3355143777278,1650.4696637696434,1493.3790215957301,1171.0059533263025,840.836744997299,1420.062581091821,1042.4872346629195,975.3305422985,1157.657453198165,1069.2095552250726,1238.9413453766624,1570.3771728453714,1602.1090453877364,1102.731574448313,916.1553332323545,1303.5347509457006,1481.175310809634,1610.3886362365843,1564.5828119069326,999.8071345501038,959.3571676105355,1400.6730420579797,828.9027490110261,1398.9842626073842,1057.2378091570429,1614.321196232717,1454.2302102375247,1244.8489627858148,1325.2234379978627,1680.9774054884751,1732.5302843088984,1415.7323782702838,1710.9228507126022,1323.2637289911331,1286.545802806246,1529.6755853847376,1252.886799692928,809.5806685052479,1720.9329068607149,1657.6515129721556,1753.9357397983995,810.2832079499227,1268.9300846808148,1134.7450275956126,1514.0628797655681,1021.4473481141174,1067.7708975581263,971.8858420578288,1535.9064034693422,1186.2626137856917,1107.181462211792,1039.6732101422363,1355.0436425002442,1266.156260548003,1212.688314679568,1021.0270621578179,1792.866696704923,1292.074927995069,1649.0938399175911,1110.845570387044,1481.557745269878,860.9205268086855,1059.3600037213412,1578.5445281235757,968.6892678137352,1332.9566758310934,1490.273480678104,1603.298620684841,1573.233074762098,1533.0727190649427,1198.6485495714073,1242.0011649892044,935.2689719416463,1162.1127017176882,1780.4563292248508,996.4028299579813,1378.4424831137715,1184.0467583871032,920.1523777776074,1208.5862150280284,1787.2282862358138,1170.5829103164006,1718.6070522454847,1432.8780096333403,1690.3141197640061,956.8874776687726,1125.426036573366,1007.4959135000447,1636.927811412999,990.4025595110649,1475.0811266515893,1280.6724782136623,1754.6875201425332,1439.3194527652024,1506.15435070033,1333.6939950742594,1585.5633952407547,1468.0872631676607,1529.131132470055,1587.237222876538,910.7968544542306,1084.4059635449885,1600.5611881183613,1377.582431617931,1296.130701909613,1615.4739248565747,1660.0384999505811,1445.726399428819,1515.462341214508,1180.8297400386336,1591.3345380929109,1295.114325688472,1844.0388000577575,1494.948946659053,1080.1520685152695,1542.6551878440412,1451.5712958515392,954.8263628312403,958.3488578170318,1712.8797702019597,1771.1539883070786,1246.0948075851838,1448.1145804829846,1406.5466650856413,1771.629960591093,1635.8018909264856,1349.465961374967,1412.6962782390456,1519.0549467843553,1710.7863184722896,1750.5584597438653,1127.0984665743676,1277.1673549719499,1567.6656830866905,1282.695981899271,1590.234690319759,1667.280664454458,1363.7680576730095,1290.5519908660856,1564.4008309474493,1084.772494373329,1697.9099486232262,1542.9992113418248,1332.2121407562545,1652.3521189806129,1505.7436760037544,1271.0772860631466,1317.7371794475362,1479.5460743412918,1026.4670010926632,1387.0105200740632,1206.6829531620942,1893.3494048077787,926.0090148470728,1711.821341768318,973.4983850047166,1606.748035150758,1846.375668916508,918.967123483861,1110.9592031893083,1499.8250403150141,1491.6595843175796,1687.5611624625753,1401.7420984164617,1802.4221565441717,1858.2880226444513,1251.1215840489172,1771.6916621096327,987.8350081718635,1370.404323033243,1126.4244695694877,1120.9284729533204,1613.7788661154598,1490.8476270098163,1311.920495679121,1541.6428369594225,1679.8688781428168,1844.016298160393,1656.3070848221155,1000.3630661993466,1810.117731655274,1008.9707829709297,1415.230910171085,1387.6830071291593,1714.4598586697261,1919.4520363062438,1237.7284537613036,1819.8789533590764,1935.0707389697818,1242.0616475121435,953.8951090295296,1214.540786852532,1841.2564766535165,1194.6704643022615,1571.406152901272,1456.2884806627499,1200.947415707063,1014.1927783546147,1830.8954601237324,1918.8391954324,1427.3367690179768,1686.1829194841744,1518.831211300341,1716.1365813428874,1775.9635807062073,1608.2824011325015,1491.4101188959226,1817.9487274057115,1350.5466482240686,1575.3651414567248,1024.1247845988833,1084.2863584853944,1765.134414324726,1846.299163873725,1669.0413806450583,1348.1885609468798,1705.6431092506964,1080.5630551262539,1275.4581985268587,1907.868566655663,1435.6133982913702,1617.5263692449475,1209.497465954609,1176.9070614355642,1499.0240966725744,1912.022921713089,1094.3169520970898,1785.1262404952304,1487.2582452230645,1936.9162780365625,1585.0091956104925,1122.9730835668072,1757.8260197260975,1016.6776898785646,1790.8903771116613,1178.685290076172,1419.205314198986,1865.566019861932,1962.7627766620435,1530.2089979614761,1729.1701453979824,1569.82045895478]}];\n",
       " var layout = {\"height\":500,\"width\":800,\"title\":{\"text\":\"Histogram with axes\"},\"yaxis\":{\"title\":{\"text\":\"my y data\"},\"showgrid\":true,\"zeroline\":false,\"showline\":false},\"xaxis\":{\"title\":{\"text\":\"my x data\"},\"showgrid\":true,\"zeroline\":false,\"showline\":false}};\n",
       " var config = {\"responsive\":false,\"scrollZoom\":true,\"displaylogo\":false};\n",
       " Plotly.newPlot(\"graph_1593769428704\", traces, layout, config);\n",
       "</script>\n"
      ]
     },
     "metadata": {},
     "output_type": "display_data"
    }
   ],
   "source": [
    "import picta.options.Axis\n",
    "\n",
    "// axis can be set composed like any other chart component\n",
    "val xaxis = Axis(key=\"xaxis\", title = \"my x data\")\n",
    "val yaxis = Axis(key=\"yaxis\", title = \"my y data\")\n",
    "\n",
    "// these are added to the layout object\n",
    "val layout = Layout(\"Histogram with axes\") + xaxis + yaxis\n",
    "\n",
    "val chart = Chart() + data + layout  + config\n",
    "chart.plot_inline()"
   ]
  },
  {
   "cell_type": "markdown",
   "metadata": {},
   "source": [
    "#### Customizing colors for a Histogram"
   ]
  },
  {
   "cell_type": "code",
   "execution_count": 14,
   "metadata": {},
   "outputs": [
    {
     "data": {
      "text/html": [
       "\n",
       "<div align=\"center\">\n",
       "<div id='graph_1593769428953' style=\"width:100%; margin:0 auto;\"></div>\n",
       "</div>\n",
       "<script>\n",
       " var traces = [{\"name\":\"test\",\"type\":\"histogram\",\"xaxis\":\"x\",\"yaxis\":\"y\",\"marker\":{\"color\":\"rgba(255, 100, 102, 0.4)\",\"line\":{\"width\":0.5}},\"y\":[206.895596914201,659.4128266485293,337.3776666603767,176.27837059959617,239.723845402374,830.1007200083734,731.9460942727414,478.03892454441933,133.47392489588628,329.86788126951546,555.2304126035418,983.37624154562,389.23162012135447,407.7511612309796,152.06625877807755,736.8744306386544,210.80802568660192,964.3927870476739,706.0342823929151,645.8722173185784,822.3676110717704,968.3089794232359,33.14184788610251,579.881512420553,856.3658686479984,247.3467224065332,251.18857296163475,167.29157256296944,1007.7500642660652,871.0568588064885,241.96052991482162,480.18532700706305,506.82159988509454,266.4706071237857,632.9679622559934,302.9769085898176,475.85412885469987,542.7736305253916,491.2620581480976,91.71254158134275,903.5065702241354,239.629736176976,43.93655727210429,48.25967872364363,796.265845230105,859.4147120655857,518.2401511440956,957.2419413479905,1047.5990167947753,95.37737880799087,628.7958878387636,563.4604175754755,703.1903842900497,625.7541459996761,330.24446815364024,303.67452872637574,594.5837805226004,708.1202990322867,200.69824428500888,148.9987878613483,763.746071040695,578.7690322373207,224.71323028343588,162.8039312409441,707.5132667493632,838.6677386893658,804.0567012515122,133.89472602380775,233.5751632007665,590.5481053548381,540.3682785607768,305.8685055367832,638.601023836356,80.94484161217856,705.8827712988934,790.9420163427062,994.3028658330556,996.5055119504672,346.70333560153637,730.1666925868005,558.6790352095886,365.65185884628943,647.6833956505409,641.835388528289,717.375768731518,224.6807572897275,528.7972843898015,686.016273911322,404.04989853652353,821.6505232784132,439.94805926083075,765.532535538084,648.810792709406,151.90668830029566,974.4831638157184,482.33937444910407,760.2655462865768,1045.858568526713,231.25752147949743,973.1322881716259,659.3861667928353,862.626042596592,820.9044635119164,559.154063066245,1052.3632417808813,1082.4338922111747,1034.0455679012348,962.5499781060787,454.8055001134761,736.1384529452343,967.489857219331,565.2540312635408,561.0904826317815,662.0296290290903,339.0444923603177,816.2716953133631,1090.3662395367712,1038.0587423253578,312.377651748988,429.3574320367654,1034.6498809536815,501.9009259488123,900.4463479586732,455.4680766410835,184.6637332815668,441.76788490489673,419.32115782579683,663.0061880870713,915.4952722661068,717.6455119612547,1023.8103408110676,913.749547564697,476.86233312858684,155.63798217688918,572.1063865407841,383.49723131559995,451.710457746725,647.3582959087585,938.7483532417717,543.8436315414782,622.0644499998327,581.8123241030927,423.51304672981615,795.1264687094331,212.5015709848684,638.9822114906683,1088.4194842064308,520.4760478080455,369.30913706737186,682.3218919595562,695.8503289616289,1117.027152619817,777.3345707508516,601.6358335378807,417.8648709671857,252.73663673509515,516.7312716357887,478.31966330407823,640.0986079154077,195.88365170546282,618.2489626903318,371.6993960598441,993.2140746755449,569.2113343922135,288.4126342852778,358.2135765712966,210.68851157783027,291.8021142773433,444.87908009565643,194.44036945562067,533.7943758474357,789.1616750206642,1027.4561427841707,1120.4799702007554,1162.9481388625281,775.6188936579164,531.714049015184,871.9597878082355,689.1741804285507,1043.0326481862494,349.81448710381073,926.938256946147,530.250254061491,725.9283390499048,797.1278349077501,378.24068481960046,1143.1715322571313,455.57066498162783,1153.404341088179,592.2683129949503,1187.8903663912386,664.111156803692,653.7105929608108,992.0797771511715,876.8595808228125,1054.832527105411,1127.0375833757048,885.5517970320756,460.7269642497394,915.6442824767875,899.4324287067932,248.68376117820983,1172.5994562362894,520.3667434054865,653.7005615646262,769.6187373157072,981.6152073276738,335.97398266448414,1169.1710667276675,260.7113395710633,1191.132616375267,1133.8484527923417,252.7128098675994,753.980356029798,257.6654281464074,389.23304503877387,716.1343925212375,1209.5423660630786,1203.7632447813253,545.4493353627391,955.2964107091111,787.1297446528833,651.3574406924643,818.0834701008404,542.7094174732296,1057.555187565659,811.6623693923837,1219.2235098691945,258.0871497410694,363.99135215709157,733.5422535900309,392.96599247077125,1150.268564953452,782.1936837487892,734.3247649731428,670.7907621227072,549.1190347097437,774.3007135125038,1215.3619545132801,479.03746524020005,427.46498394229457,682.605045994634,999.2099889532192,860.598542048448,1150.8129327686531,667.6955963775748,916.1196091492014,409.0775767725504,446.5476466448144,559.6294903687321,614.5986805905736,356.0436940022459,374.5011127374127,361.29980718625677,474.1299041598307,900.6460750376239,1187.2278396411225,819.9234606064525,1057.6954657193728,1125.7353804193172,1231.0184692528783,565.5808717654359,757.58211668424,1005.7715292809498,457.6281403064486,804.9972698900725,1160.00970875859,1079.1802453594678,691.8920141469239,454.26303285900417,1182.446475105309,331.4533927105052,531.845167674637,895.9485511496327,1222.0453722841014,715.1713748777591,645.6597770756412,1254.076504020692,394.45520304899605,519.2580607250953,1273.6574155452781,1194.6727850378923,439.33115878535466,492.1620188284813,943.8502164465556,780.1245340106932,1022.1896168149331,1222.2904872013285,765.9091515344322,832.3321486526696,971.8222023599492,783.9052957552983,1181.153692450583,592.6493627192383,458.30438194154976,1067.822597255858,715.1021294534032,1205.863842398184,1238.7047159352041,533.6415681817244,1104.3169914866119,700.9782427725397,875.9201724446784,343.85958961324775,1150.725808142874,693.3092945208747,1270.634571197407,970.114180963578,794.292193015111,990.4310623296814,937.2160992031687,397.92555326064985,1188.8578017951213,648.7453038537641,1201.4414030823386,998.6951233576979,1016.1713375152317,797.9705569613559,901.25314357988,986.349588377196,879.5653815514894,727.5987065693606,1231.3290297432463,1130.9018215586325,381.4378513056729,1312.376385348708,1088.059657277779,1062.3335060420072,407.63971615494256,843.1253071001978,643.603981015543,1065.5863615872634,1217.0661794531966,724.7245409809226,906.0104401909914,741.0827660952978,1166.1937534012563,1304.8348154891992,706.9629039426593,1285.0781928208846,1286.000783694742,1304.953024412528,899.5304348987906,430.2814668861568,472.6550352878978,939.6428070004498,545.3703776120034,1279.561723807405,753.5458001348319,830.2952557096346,524.1544974083134,364.1928451158121,946.6851309151202,1246.5308576566922,1307.5583752520406,1262.9702257316435,1044.196610501766,1041.3624720210437,605.9742753434023,1029.6665837976911,819.5561232215507,885.4963558218707,1218.1784513540229,493.6767324700715,483.44446526210197,1051.6562099238386,692.5035861301359,1222.3340661681243,694.5162284895687,1051.5731509456223,1342.6380333304137,563.2639560989974,869.0857327518889,886.2922590404203,751.993363629357,721.2728661184219,527.6752305719128,534.7040553002947,1147.6520817380588,1266.6537205280306,1366.5664283364097,575.7172834341513,928.2279308452031,820.4217545432007,848.9413095859172,516.2468888186169,1189.5413719182723,916.8777309581468,1372.894007538832,480.19937062070017,1307.833018959439,1205.0274153181472,492.5403121052596,402.894866795764,512.3084301138886,1217.7706512227712,1243.6470547977842,770.8737568563087,907.1275510909176,911.404113049186,1356.6488116276248,1248.7929386075552,587.5228015985517,1057.866747917651,1027.6145016169655,1243.1249959906609,1335.5500059107403,1358.2877223730811,961.6721926126855,566.631108176525,878.0464231079644,838.7814235552263,603.5953410429348,888.0866938857056,842.6908356200587,688.0650852799538,826.6990249124115,578.4960239626387,1357.6307398554673,1201.3588901986896,863.8904796847673,898.0403960630717,705.9619545867654,906.1602477987799,933.6628948328848,1207.2621895853626,568.4165405873483,1262.8671791515721,839.0174632437254,1031.494415305307,1165.9348253020796,556.8585946704102,798.7431161118287,1359.3039859963105,1048.3680093992211,728.521745608628,908.1797987230194,513.724194324158,1366.3781057992114,923.8502917881474,920.5353007865086,1299.3096551434955,1210.6719156148056,490.61902030604506,490.0218253526431,898.5553851018926,1006.0264522503376,993.7741369868116,624.5233696984064,1167.9786372120943,1007.1335671083223,578.5609212075982,858.2004625185843,567.1707408299845,659.1112695207136,671.0431619050985,573.3839453564251,943.3834337344867,957.6004707235754,573.051893331608,976.3051667110105,789.7222777226411,971.6851598583546,982.233361173647,1462.6546547509597,1396.7773961050611,1377.4452432145479,847.7494972059001,496.65732892317965,525.5298398824,1190.770974256814,1258.3164371682055,671.2972326865251,843.6293361210702,885.1386046018773,1251.6497936806657,1317.5200794372254,1387.6472935272745,733.3667621840764,533.0181675483066,886.6871990944419,740.6666486576618,521.944124029902,1095.4889255660278,1343.2502902221167,1447.577729625834,752.3380532063172,645.583559492327,973.5607550241062,1429.707820746638,1065.765795887809,555.4421214724696,1341.92355561542,805.9187447875079,906.228475626903,786.2298539569584,606.4506186202802,579.0659501118342,1371.1796766953175,857.4010529343566,1044.9635466333943,1104.7192465097223,790.0202127246092,1472.5688195434425,1435.14187046803,1123.304020770805,817.6808020774611,855.1114332963771,883.3070783745984,1407.328830277418,733.8752942608469,1195.279630266602,802.6790304238375,752.1237748225441,1198.1766962852867,865.4513349577173,1004.6360846958532,1121.5212565729453,926.8891269823314,1221.3133123235993,1285.455666282521,1249.1689652838284,629.758790444584,874.1322550148332,1466.2076533612299,891.6727847192418,1072.8875523616243,1292.9103447311008,574.9177340467426,1231.524404410822,1318.7829204284303,1475.103443150528,747.8135617120711,635.7773610008624,1035.2985596305023,1210.7123765760348,1470.4119874016428,1090.6921362609091,1262.2899597653454,1156.9413504468512,979.400354299995,1153.0790976108065,1178.1298454910338,1539.2494892864265,1002.7107530189302,1185.8259467657194,1217.7983768770282,799.5050482456538,1527.881380179159,978.1039132078411,1360.083862649381,923.0841976355052,957.7439101040607,590.005204794187,1523.4992728685725,1494.139095754701,837.6719430584363,1406.8712261176784,788.8409897636591,751.8933571152353,1320.0700339125149,940.3298360724718,600.8857264180347,1050.704876886537,669.4789000533948,871.067131378451,1192.542681017714,1162.7695513720823,1405.617221273836,1192.617028558815,1221.8474564736678,804.7220861936752,1131.8758249858324,1085.9602581376535,1015.5054439789833,618.0225983499456,703.2255056953759,1331.4814338872557,872.2619065993794,587.9009448030522,1150.1950943224979,647.8415374353115,595.1969451587552,1546.7630990103492,694.5214322384752,1336.5799179636913,794.113350272588,975.3471465882892,1267.268212866425,1006.7691141334515,1527.5058593427975,788.5488535393455,1171.6567071896068,955.8019324242192,1538.1709943151736,1172.7201229332763,920.5453275105817,990.3997149830213,677.3360543055093,827.3755548211586,822.4417534895267,1086.1871784374305,1109.2573593867248,1156.6264400611087,1590.125596344546,1304.687788544717,1541.557002647054,1054.2928895618247,1102.4054536436129,813.3514035925908,1036.1384139096838,931.5289843371152,1462.2293241710067,687.2332744694556,921.3413178404257,1546.9274493922783,663.3126039804326,1410.2018021897075,948.0663007713306,1016.4539059822037,1502.6433454582916,639.0599660554533,1110.9206878297223,1104.1936344882054,857.6698925951384,845.7232694553502,1490.0063641402098,1524.7757903407464,1084.6706477421003,910.6049436080464,1059.7916769612825,1524.4738104750813,1088.7521409115725,1604.6165702182884,658.5793529948465,1450.362945182842,1566.1157686567121,1167.7008413535336,1215.4022747081865,1365.5488191993254,1025.6796733537449,868.5699631414612,890.750337338993,1023.3637574729187,1459.8370862687175,1513.3320885348494,1003.3507737284881,674.5604394101208,953.0781750809504,1359.9452441867888,1487.2953552622932,1248.9152853781977,1092.3971559139322,790.9461647340347,1152.1281313891604,1426.2866073601858,774.8524908730619,1398.6596982552826,1203.0771852595708,992.055642446006,895.3425484866668,845.1014347324007,1319.4349726130276,1658.0111200299143,1441.6052259313633,973.045049338831,1086.161403528658,1222.1211385577844,723.6442912279495,1165.2325955027782,727.1045595440188,1539.2685937302736,821.2318326494546,875.4647118616019,897.8041430117152,1279.9095483242672,845.8301498950381,1588.3149653686187,761.6629976467275,864.7463486348049,1282.2229621632132,1203.470545306151,695.3425127342822,1280.8907322999953,1500.3401439314603,986.2092067178837,747.5578472734167,708.6240888536719,1509.2059509988508,777.280571264365,1410.0192804715255,1017.7458997252535,1162.636406860047,1113.4671237106238,1350.0865220731648,1228.6330858529986,1320.2558267472846,1274.358534633367,1501.772725141857,975.5168201299851,917.5987164629771,1041.3804318419843,1315.0555911222293,858.1155336667669,1505.5081128657912,1131.8768947563838,1023.0231650998443,1322.645847824676,1581.7368889276804,854.0532674594126,1502.2022245892847,1374.3659103643902,956.603794183423,1517.8443442955336,1673.4873444000652,991.1886999121114,1469.7513391708771,1532.28001372084,1419.409294695394,1581.535215386902,1606.4981346152854,921.679136162738,1678.051743619575,1209.480635778164,949.9730238713427,1201.009397357123,1714.7449470992706,1596.3793733224998,949.1646250835677,1165.0093833509363,1569.736466697218,1100.5373900996478,1183.2140470719332,1166.1764103737755,1333.3582662263943,975.1333070337255,1158.7250453452768,883.48179825632,1209.780464903641,1209.4725429580972,1689.5601076285616,1416.683048308188,1296.2621402451914,1169.7915758262611,1077.537148692554,780.3598500692569,1626.87978665315,1073.211956391191,1637.636195026521,1517.3093074186445,1308.0345692292262,1052.0770741210333,1592.771109687722,1202.692784472875,1507.609755832297,1195.7869088166158,1000.8766010831471,1068.3355143777278,1650.4696637696434,1493.3790215957301,1171.0059533263025,840.836744997299,1420.062581091821,1042.4872346629195,975.3305422985,1157.657453198165,1069.2095552250726,1238.9413453766624,1570.3771728453714,1602.1090453877364,1102.731574448313,916.1553332323545,1303.5347509457006,1481.175310809634,1610.3886362365843,1564.5828119069326,999.8071345501038,959.3571676105355,1400.6730420579797,828.9027490110261,1398.9842626073842,1057.2378091570429,1614.321196232717,1454.2302102375247,1244.8489627858148,1325.2234379978627,1680.9774054884751,1732.5302843088984,1415.7323782702838,1710.9228507126022,1323.2637289911331,1286.545802806246,1529.6755853847376,1252.886799692928,809.5806685052479,1720.9329068607149,1657.6515129721556,1753.9357397983995,810.2832079499227,1268.9300846808148,1134.7450275956126,1514.0628797655681,1021.4473481141174,1067.7708975581263,971.8858420578288,1535.9064034693422,1186.2626137856917,1107.181462211792,1039.6732101422363,1355.0436425002442,1266.156260548003,1212.688314679568,1021.0270621578179,1792.866696704923,1292.074927995069,1649.0938399175911,1110.845570387044,1481.557745269878,860.9205268086855,1059.3600037213412,1578.5445281235757,968.6892678137352,1332.9566758310934,1490.273480678104,1603.298620684841,1573.233074762098,1533.0727190649427,1198.6485495714073,1242.0011649892044,935.2689719416463,1162.1127017176882,1780.4563292248508,996.4028299579813,1378.4424831137715,1184.0467583871032,920.1523777776074,1208.5862150280284,1787.2282862358138,1170.5829103164006,1718.6070522454847,1432.8780096333403,1690.3141197640061,956.8874776687726,1125.426036573366,1007.4959135000447,1636.927811412999,990.4025595110649,1475.0811266515893,1280.6724782136623,1754.6875201425332,1439.3194527652024,1506.15435070033,1333.6939950742594,1585.5633952407547,1468.0872631676607,1529.131132470055,1587.237222876538,910.7968544542306,1084.4059635449885,1600.5611881183613,1377.582431617931,1296.130701909613,1615.4739248565747,1660.0384999505811,1445.726399428819,1515.462341214508,1180.8297400386336,1591.3345380929109,1295.114325688472,1844.0388000577575,1494.948946659053,1080.1520685152695,1542.6551878440412,1451.5712958515392,954.8263628312403,958.3488578170318,1712.8797702019597,1771.1539883070786,1246.0948075851838,1448.1145804829846,1406.5466650856413,1771.629960591093,1635.8018909264856,1349.465961374967,1412.6962782390456,1519.0549467843553,1710.7863184722896,1750.5584597438653,1127.0984665743676,1277.1673549719499,1567.6656830866905,1282.695981899271,1590.234690319759,1667.280664454458,1363.7680576730095,1290.5519908660856,1564.4008309474493,1084.772494373329,1697.9099486232262,1542.9992113418248,1332.2121407562545,1652.3521189806129,1505.7436760037544,1271.0772860631466,1317.7371794475362,1479.5460743412918,1026.4670010926632,1387.0105200740632,1206.6829531620942,1893.3494048077787,926.0090148470728,1711.821341768318,973.4983850047166,1606.748035150758,1846.375668916508,918.967123483861,1110.9592031893083,1499.8250403150141,1491.6595843175796,1687.5611624625753,1401.7420984164617,1802.4221565441717,1858.2880226444513,1251.1215840489172,1771.6916621096327,987.8350081718635,1370.404323033243,1126.4244695694877,1120.9284729533204,1613.7788661154598,1490.8476270098163,1311.920495679121,1541.6428369594225,1679.8688781428168,1844.016298160393,1656.3070848221155,1000.3630661993466,1810.117731655274,1008.9707829709297,1415.230910171085,1387.6830071291593,1714.4598586697261,1919.4520363062438,1237.7284537613036,1819.8789533590764,1935.0707389697818,1242.0616475121435,953.8951090295296,1214.540786852532,1841.2564766535165,1194.6704643022615,1571.406152901272,1456.2884806627499,1200.947415707063,1014.1927783546147,1830.8954601237324,1918.8391954324,1427.3367690179768,1686.1829194841744,1518.831211300341,1716.1365813428874,1775.9635807062073,1608.2824011325015,1491.4101188959226,1817.9487274057115,1350.5466482240686,1575.3651414567248,1024.1247845988833,1084.2863584853944,1765.134414324726,1846.299163873725,1669.0413806450583,1348.1885609468798,1705.6431092506964,1080.5630551262539,1275.4581985268587,1907.868566655663,1435.6133982913702,1617.5263692449475,1209.497465954609,1176.9070614355642,1499.0240966725744,1912.022921713089,1094.3169520970898,1785.1262404952304,1487.2582452230645,1936.9162780365625,1585.0091956104925,1122.9730835668072,1757.8260197260975,1016.6776898785646,1790.8903771116613,1178.685290076172,1419.205314198986,1865.566019861932,1962.7627766620435,1530.2089979614761,1729.1701453979824,1569.82045895478]}];\n",
       " var layout = {\"height\":500,\"width\":800,\"title\":{\"text\":\"XY.Histogram.Color\"}};\n",
       " var config = {\"responsive\":false,\"scrollZoom\":true,\"displaylogo\":false};\n",
       " Plotly.newPlot(\"graph_1593769428953\", traces, layout, config);\n",
       "</script>\n"
      ]
     },
     "metadata": {},
     "output_type": "display_data"
    }
   ],
   "source": [
    "// we can also compose customizations in much the same way:\n",
    "val marker = Marker() + List(\"rgba(255, 100, 102, 0.4)\") + Line()\n",
    "\n",
    "// change xkey to y to get a horizontal histogram\n",
    "val data = XY(x, xkey=\"y\", series_name=\"test\", series_type=HISTOGRAM, marker=marker)\n",
    "\n",
    "val chart = Chart() + data + Layout(\"XY.Histogram.Color\") + config\n",
    "chart.plot_inline()"
   ]
  },
  {
   "cell_type": "markdown",
   "metadata": {},
   "source": [
    "#### 2D Histogram Contour"
   ]
  },
  {
   "cell_type": "code",
   "execution_count": 15,
   "metadata": {},
   "outputs": [
    {
     "data": {
      "text/html": [
       "\n",
       "<div align=\"center\">\n",
       "<div id='graph_1593769429188' style=\"width:100%; margin:0 auto;\"></div>\n",
       "</div>\n",
       "<script>\n",
       " var traces = [{\"name\":\"2dHistCont\",\"type\":\"histogram2dcontour\",\"xaxis\":\"x\",\"yaxis\":\"y\",\"mode\":\"marker\",\"x\":[1,2,3,4,5,6,7,8,9,10,11,12,13,14,15,16,17,18,19,20,21,22,23,24,25,26,27,28,29,30,31,32,33,34,35,36,37,38,39,40,41,42,43,44,45,46,47,48,49],\"y\":[98.38678943748977,54.17827954965303,32.123332705669036,91.23464868576306,98.66300889169408,104.32970425125069,15.933911819790985,49.36963425195328,13.492345148158904,43.49841855824106,54.46980680678298,59.87150981584168,43.14773284445145,67.26898424685155,51.666506761793215,59.404415839459965,57.616892611172474,32.79202210667542,111.38190381205598,46.37441015063345,67.3333762456817,100.80568857547857,118.39102464660704,75.66190470452824,78.8858340470732,44.557524278190265,108.80995299993403,82.13953370205729,63.87014148889722,84.47975665652015,73.592154931816,42.07271985902373,85.16235143442813,49.36582087329962,87.66610437351643,68.70727942113541,131.62872060801868,122.31525464722317,46.83404875747171,91.1804110774466,109.65229353514316,102.85872131795149,124.72737246837552,84.34844013545415,127.84387607577142,105.44445601785927,132.91492476605666,101.20676102685539,89.91846899320157]}];\n",
       " var layout = {\"height\":500,\"width\":800,\"title\":{\"text\":\"2D Histogram Contour\"}};\n",
       " var config = {\"responsive\":false,\"scrollZoom\":true,\"displaylogo\":false};\n",
       " Plotly.newPlot(\"graph_1593769429188\", traces, layout, config);\n",
       "</script>\n"
      ]
     },
     "metadata": {},
     "output_type": "display_data"
    }
   ],
   "source": [
    "val x = List.range(1, 50)\n",
    "val y = x.map(x => x + scala.util.Random.nextDouble()*100)\n",
    "\n",
    "val data = XY(x, y, series_name=\"2dHistCont\", series_type=HISTOGRAM2DCONTOUR, series_mode=\"marker\")\n",
    "\n",
    "val chart = Chart() + data + Layout(\"2D Histogram Contour\") + config\n",
    "chart.plot_inline()"
   ]
  },
  {
   "cell_type": "markdown",
   "metadata": {},
   "source": [
    "#### Contour\n",
    "\n",
    "This is a 3 dimensional chart requiring the import of the `XYZ` class from the library."
   ]
  },
  {
   "cell_type": "code",
   "execution_count": 16,
   "metadata": {},
   "outputs": [],
   "source": [
    "import picta.series.XYZ\n",
    "import picta.series.XYZChartType._\n",
    "\n",
    "val x = List.range(1, 100)\n",
    "val y = List.range(1, 100)\n",
    "val z = List.range(1, 100).map(x => x + scala.util.Random.nextDouble()*100)\n",
    "\n",
    "val data = XYZ(x, y, z, series_name=\"contour\", series_type=CONTOUR, series_mode=\"marker\")"
   ]
  },
  {
   "cell_type": "code",
   "execution_count": 17,
   "metadata": {},
   "outputs": [
    {
     "data": {
      "text/html": [
       "\n",
       "<div align=\"center\">\n",
       "<div id='graph_1593769429567' style=\"width:100%; margin:0 auto;\"></div>\n",
       "</div>\n",
       "<script>\n",
       " var traces = [{\"name\":\"marker\",\"type\":\"contour\",\"mode\":\"marker\",\"x\":[1,2,3,4,5,6,7,8,9,10,11,12,13,14,15,16,17,18,19,20,21,22,23,24,25,26,27,28,29,30,31,32,33,34,35,36,37,38,39,40,41,42,43,44,45,46,47,48,49,50,51,52,53,54,55,56,57,58,59,60,61,62,63,64,65,66,67,68,69,70,71,72,73,74,75,76,77,78,79,80,81,82,83,84,85,86,87,88,89,90,91,92,93,94,95,96,97,98,99],\"y\":[1,2,3,4,5,6,7,8,9,10,11,12,13,14,15,16,17,18,19,20,21,22,23,24,25,26,27,28,29,30,31,32,33,34,35,36,37,38,39,40,41,42,43,44,45,46,47,48,49,50,51,52,53,54,55,56,57,58,59,60,61,62,63,64,65,66,67,68,69,70,71,72,73,74,75,76,77,78,79,80,81,82,83,84,85,86,87,88,89,90,91,92,93,94,95,96,97,98,99],\"z\":[69.86191233507157,29.686372095302847,60.28439834294685,30.956493833857152,22.197972225370496,18.0834654723165,98.72767392720658,35.13250175852004,31.565557081465638,37.427885226471126,53.74449394953849,94.48225009169832,74.11407972546945,100.89509142365202,96.6627866444057,24.39235777642825,67.72562849260504,90.60939264556721,41.06366725665711,68.23503380307957,52.320367583956845,65.28626781951547,53.28193253042857,74.93365672615586,45.83913853522512,47.6236715724246,94.02351067946812,103.23320451766477,68.74080647869012,103.44494051625662,77.93155591484714,59.06293064795567,59.24635838497075,61.02160703881344,112.6398511282876,66.61684763328195,46.581407311391644,96.05525236057278,119.18426195135734,58.64091567509813,110.11316217175468,125.47333387213624,141.60000770990212,46.90414474391527,128.54754861404632,111.49463454283394,125.11453639370806,99.94401561356625,115.24663773883664,76.34583098665468,79.55280272282519,111.91498013110355,143.2461268129737,67.56143061895988,147.40384757177677,93.73207499469248,86.69706204055987,93.97509154451876,64.45450860117919,155.6898973683936,144.22564355305371,73.31116055810743,134.9782150610811,79.35057426653404,164.09936897853407,93.7110093126749,143.17381101640703,95.73255316358046,161.10736253850718,93.57954893723186,87.88135524351793,96.69536463266097,100.70727808171716,106.81308466135656,158.55894322435404,106.90378315344076,127.26065083776822,103.77044177611614,167.0865649935987,134.86808277130177,130.07313955955271,82.27508978517608,112.17008751314384,103.29539026784599,173.4756304033271,127.48675625049972,180.95044698245093,131.350371139159,165.3266708391381,164.65681819920502,185.8802010745625,104.41182178696859,102.08628530146149,174.58254828882318,194.01160132600887,120.52500460476301,108.00570046528354,128.00102754368137,130.54736587966553]}];\n",
       " var layout = {\"height\":500,\"width\":800,\"title\":{\"text\":\"Contour\"}};\n",
       " var config = {\"responsive\":true,\"scrollZoom\":true,\"displaylogo\":false};\n",
       " Plotly.newPlot(\"graph_1593769429567\", traces, layout, config);\n",
       "</script>\n"
      ]
     },
     "metadata": {},
     "output_type": "display_data"
    }
   ],
   "source": [
    "val chart = Chart() + data + Layout(\"Contour\")\n",
    "chart.plot_inline()"
   ]
  },
  {
   "cell_type": "markdown",
   "metadata": {},
   "source": [
    "#### Heatmap"
   ]
  },
  {
   "cell_type": "code",
   "execution_count": 18,
   "metadata": {
    "scrolled": false
   },
   "outputs": [],
   "source": [
    "val z = List.range(1, 101).map(e => e + scala.util.Random.nextDouble()*100).grouped(10).toList"
   ]
  },
  {
   "cell_type": "code",
   "execution_count": 19,
   "metadata": {},
   "outputs": [
    {
     "data": {
      "text/html": [
       "\n",
       "<div align=\"center\">\n",
       "<div id='graph_1593769429882' style=\"width:100%; margin:0 auto;\"></div>\n",
       "</div>\n",
       "<script>\n",
       " var traces = [{\"name\":\"trace\",\"type\":\"heatmap\",\"z\":[[47.98779578957735,81.99710942454084,23.21438028818161,29.837414636812017,56.37208413340487,69.39202965438497,71.9137253366463,55.96179231417344,29.770067703050763,23.066470728202596],[107.47004340762257,57.62207791135692,52.16839901357455,25.30554749753927,103.88590596309159,74.27062309302806,96.59143118071819,34.29976708033044,118.15283828106521,98.23893674527233],[26.01807587863633,71.3097302203924,77.9348565024235,95.08362921171492,109.0650583354798,60.30552815744894,114.29945743210553,75.450319464367,31.042668912789438,35.28163143788397],[49.64319109182991,60.462942218548974,50.227351786412015,50.46759733505192,103.009669507694,97.97796231003878,109.05878937847842,64.29950647736656,67.67368895904778,67.99995405360646],[60.45739343074165,119.28647424673095,49.16587618009899,62.13715268017859,110.57141022784974,106.80119335448214,125.8381069979882,134.182484780075,111.00113036039853,88.34299591704686],[108.62069042513563,96.73772073992896,55.91096852233511,142.96635547731296,131.79806809774834,82.25537255050386,152.42843722476903,124.3374483188814,102.43066439554451,95.95499369790807],[136.34239769766765,140.27573772045375,72.47614170922938,162.77758985901735,99.35113659927245,112.6572408116703,74.7142746193066,110.87385721836185,78.97420122254059,136.20055063027706],[81.25527522935964,140.0790173251732,137.73015763957687,130.9262777795646,101.71230987811379,95.40903006921698,124.29570341350481,174.97510236554228,137.04466064964635,102.82000662767703],[166.0999168162503,111.98912788842449,144.62876726060784,127.30468679074201,90.17059864006984,150.40580431049096,150.29020175457742,181.8568437170675,107.03806599193464,110.78315731818932],[163.83039504008386,149.9165516211251,121.11492499684981,131.66968412068218,116.00766855177042,183.6162476508731,150.20872069310317,114.55169982237987,136.9830064977233,105.47958281745645]]}];\n",
       " var layout = {\"height\":500,\"width\":500,\"title\":{\"text\":\"Contour\"}};\n",
       " var config = {\"responsive\":true,\"scrollZoom\":true,\"displaylogo\":false};\n",
       " Plotly.newPlot(\"graph_1593769429882\", traces, layout, config);\n",
       "</script>\n"
      ]
     },
     "metadata": {},
     "output_type": "display_data"
    }
   ],
   "source": [
    "// add lines in between the grid items\n",
    "val data = XYZ(z, series_name=\"trace\", series_type=HEATMAP)\n",
    "\n",
    "val chart = Chart() + data + Layout(\"Contour\", height = 500, width = 500)\n",
    "chart.plot_inline()"
   ]
  },
  {
   "cell_type": "markdown",
   "metadata": {},
   "source": [
    "#### Scatter3D"
   ]
  },
  {
   "cell_type": "code",
   "execution_count": 20,
   "metadata": {},
   "outputs": [
    {
     "data": {
      "text/html": [
       "\n",
       "<div align=\"center\">\n",
       "<div id='graph_1593769430088' style=\"width:100%; margin:0 auto;\"></div>\n",
       "</div>\n",
       "<script>\n",
       " var traces = [{\"name\":\"Scatter3D\",\"type\":\"scatter3d\",\"x\":[1,2,3,4,5,6,7,8,9,10,11,12,13,14,15,16,17,18,19,20,21,22,23,24,25,26,27,28,29,30,31,32,33,34,35,36,37,38,39,40,41,42,43,44,45,46,47,48,49,50,51,52,53,54,55,56,57,58,59,60,61,62,63,64,65,66,67,68,69,70,71,72,73,74,75,76,77,78,79,80,81,82,83,84,85,86,87,88,89,90,91,92,93,94,95,96,97,98,99],\"y\":[1,2,3,4,5,6,7,8,9,10,11,12,13,14,15,16,17,18,19,20,21,22,23,24,25,26,27,28,29,30,31,32,33,34,35,36,37,38,39,40,41,42,43,44,45,46,47,48,49,50,51,52,53,54,55,56,57,58,59,60,61,62,63,64,65,66,67,68,69,70,71,72,73,74,75,76,77,78,79,80,81,82,83,84,85,86,87,88,89,90,91,92,93,94,95,96,97,98,99],\"z\":[46.687585911892846,74.05552990353627,38.91668410282303,72.18203629692286,13.307307132965958,60.851444127379544,48.70268769483293,55.56438923487492,97.82154502297787,41.6007717266924,60.75368184576835,58.297062210815945,32.235138602410196,52.807116738657044,44.29999723812278,109.42548116603241,54.92382598665567,93.57725023318079,44.84192120861839,78.48356259921854,116.83186053059777,86.06660564884827,65.19536076271196,105.94449804869257,26.5724224352504,111.77900016319833,97.99672866216345,72.48504232121279,33.49387110681657,126.90965591398258,108.58367398533437,119.87152174914041,82.63827135328253,70.56512331062464,134.84405275656917,92.2328196832631,101.00686496084677,105.96325651573873,78.92634461958198,88.06763665567135,90.66039732370326,76.61095247481505,114.6304801733709,100.54034578438561,110.92061051872872,116.9768248890997,123.84882202338567,76.45179686106135,129.30233993720827,130.3205772105174,105.6028378452524,142.72843983307348,108.79407947392949,135.11035249171726,72.0217875011014,133.35520413659694,77.71803216472351,85.85386066581741,157.03549315747966,99.38455491785356,97.63907251840732,94.18860214813667,115.60410255917552,99.9862443105794,104.65520249825411,111.7211025025199,83.9834780284346,153.45920249692495,149.89045604828053,87.37449446815933,104.82565451014364,73.70917755824323,106.12446344478231,78.89844217114225,94.83958986131329,129.902652323928,139.2311294016846,80.71481356057178,147.2882153503893,144.83964884245506,165.46220760717924,128.41714039859178,116.77354673565907,91.04506215232703,128.59985149962674,154.01135220518358,129.56244660089362,152.66018495486807,134.61540017606927,95.37986668831608,99.13136398689853,95.92311593749454,175.7100725244539,108.4706170186466,103.65917423204117,131.3587809047436,160.47644196573333,191.35711206454664,99.87305561958296]}];\n",
       " var layout = {\"height\":500,\"width\":800,\"title\":{\"text\":\"Histogram with axes\"},\"yaxis\":{\"title\":{\"text\":\"my y data\"},\"showgrid\":true,\"zeroline\":false,\"showline\":false},\"xaxis\":{\"title\":{\"text\":\"my x data\"},\"showgrid\":true,\"zeroline\":false,\"showline\":false}};\n",
       " var config = {\"responsive\":false,\"scrollZoom\":true,\"displaylogo\":false};\n",
       " Plotly.newPlot(\"graph_1593769430088\", traces, layout, config);\n",
       "</script>\n"
      ]
     },
     "metadata": {},
     "output_type": "display_data"
    }
   ],
   "source": [
    "val x = List.range(1, 100)\n",
    "val y = List.range(1, 100)\n",
    "val z = List.range(1, 100).map(e => e + scala.util.Random.nextDouble()*100)\n",
    "\n",
    "val data = XYZ(x, y, z, series_name=\"Scatter3D\", series_type = SCATTER3D)\n",
    "\n",
    "val chart = Chart() + data + layout + config\n",
    "chart.plot_inline()"
   ]
  },
  {
   "cell_type": "markdown",
   "metadata": {},
   "source": [
    "#### Surface Plot"
   ]
  },
  {
   "cell_type": "code",
   "execution_count": 21,
   "metadata": {
    "scrolled": false
   },
   "outputs": [
    {
     "data": {
      "text/html": [
       "\n",
       "<div align=\"center\">\n",
       "<div id='graph_1593769430317' style=\"width:100%; margin:0 auto;\"></div>\n",
       "</div>\n",
       "<script>\n",
       " var traces = [{\"name\":\"surface\",\"type\":\"surface\",\"z\":[[8.83,8.89,8.81,8.87,8.9,8.87,8.89,8.94,8.85,8.94,8.96,8.92,8.84,8.9,8.82],[8.92,8.93,8.91,8.79,8.85,8.79,8.9,8.94,8.92,8.79,8.88,8.81,8.9,8.95,8.92],[8.8,8.82,8.78,8.91,8.94,8.92,8.75,8.78,8.77,8.91,8.95,8.92,8.8,8.8,8.77],[8.91,8.95,8.94,8.74,8.81,8.76,8.93,8.98,8.99,8.89,8.99,8.92,9.1,9.13,9.11],[8.97,8.97,8.91,9.09,9.11,9.11,9.04,9.08,9.05,9.25,9.28,9.27,9,9.01,9],[9.2,9.23,9.2,8.99,8.99,8.98,9.18,9.2,9.19,8.93,8.97,8.97,9.18,9.2,9.18]]}];\n",
       " var layout = {\"height\":500,\"width\":800,\"title\":{\"text\":\"Surface Chart\"}};\n",
       " var config = {\"responsive\":true,\"scrollZoom\":true,\"displaylogo\":false};\n",
       " Plotly.newPlot(\"graph_1593769430317\", traces, layout, config);\n",
       "</script>\n"
      ]
     },
     "metadata": {},
     "output_type": "display_data"
    }
   ],
   "source": [
    "// 3d surface plot\n",
    "val k = List(\n",
    "    List(8.83,8.89,8.81,8.87,8.9,8.87),\n",
    "    List(8.89,8.94,8.85,8.94,8.96,8.92),\n",
    "    List(8.84,8.9,8.82,8.92,8.93,8.91),\n",
    "    List(8.79,8.85,8.79,8.9,8.94,8.92),\n",
    "    List(8.79,8.88,8.81,8.9,8.95,8.92),\n",
    "    List(8.8,8.82,8.78,8.91,8.94,8.92),\n",
    "    List(8.75,8.78,8.77,8.91,8.95,8.92),\n",
    "    List(8.8,8.8,8.77,8.91,8.95,8.94),\n",
    "    List(8.74,8.81,8.76,8.93,8.98,8.99),\n",
    "    List(8.89,8.99,8.92,9.1,9.13,9.11),\n",
    "    List(8.97,8.97,8.91,9.09,9.11,9.11),\n",
    "    List(9.04,9.08,9.05,9.25,9.28,9.27),\n",
    "    List(9,9.01,9,9.2,9.23,9.2),\n",
    "    List(8.99,8.99,8.98,9.18,9.2,9.19),\n",
    "    List(8.93,8.97,8.97,9.18,9.2,9.18)\n",
    "  )\n",
    "\n",
    "\n",
    "val data = XYZ(k, series_name=\"surface\", series_type=SURFACE)\n",
    "\n",
    "val chart = Chart() + data + Layout(\"Surface Chart\")\n",
    "chart.plot_inline()"
   ]
  },
  {
   "cell_type": "markdown",
   "metadata": {
    "scrolled": false
   },
   "source": [
    "#### Third Dimension as Color"
   ]
  },
  {
   "cell_type": "code",
   "execution_count": 22,
   "metadata": {},
   "outputs": [
    {
     "data": {
      "text/html": [
       "\n",
       "<div align=\"center\">\n",
       "<div id='graph_1593769430488' style=\"width:100%; margin:0 auto;\"></div>\n",
       "</div>\n",
       "<script>\n",
       " var traces = [{\"name\":\"scatter with color\",\"type\":\"scatter\",\"xaxis\":\"x\",\"yaxis\":\"y\",\"mode\":\"markers\",\"marker\":{\"color\":[46.687585911892846,74.05552990353627,38.91668410282303,72.18203629692286,13.307307132965958,60.851444127379544,48.70268769483293,55.56438923487492,97.82154502297787,41.6007717266924,60.75368184576835,58.297062210815945,32.235138602410196,52.807116738657044,44.29999723812278,109.42548116603241,54.92382598665567,93.57725023318079,44.84192120861839,78.48356259921854,116.83186053059777,86.06660564884827,65.19536076271196,105.94449804869257,26.5724224352504,111.77900016319833,97.99672866216345,72.48504232121279,33.49387110681657,126.90965591398258,108.58367398533437,119.87152174914041,82.63827135328253,70.56512331062464,134.84405275656917,92.2328196832631,101.00686496084677,105.96325651573873,78.92634461958198,88.06763665567135,90.66039732370326,76.61095247481505,114.6304801733709,100.54034578438561,110.92061051872872,116.9768248890997,123.84882202338567,76.45179686106135,129.30233993720827,130.3205772105174,105.6028378452524,142.72843983307348,108.79407947392949,135.11035249171726,72.0217875011014,133.35520413659694,77.71803216472351,85.85386066581741,157.03549315747966,99.38455491785356,97.63907251840732,94.18860214813667,115.60410255917552,99.9862443105794,104.65520249825411,111.7211025025199,83.9834780284346,153.45920249692495,149.89045604828053,87.37449446815933,104.82565451014364,73.70917755824323,106.12446344478231,78.89844217114225,94.83958986131329,129.902652323928,139.2311294016846,80.71481356057178,147.2882153503893,144.83964884245506,165.46220760717924,128.41714039859178,116.77354673565907,91.04506215232703,128.59985149962674,154.01135220518358,129.56244660089362,152.66018495486807,134.61540017606927,95.37986668831608,99.13136398689853,95.92311593749454,175.7100725244539,108.4706170186466,103.65917423204117,131.3587809047436,160.47644196573333,191.35711206454664,99.87305561958296]},\"x\":[1,2,3,4,5,6,7,8,9,10,11,12,13,14,15,16,17,18,19,20,21,22,23,24,25,26,27,28,29,30,31,32,33,34,35,36,37,38,39,40,41,42,43,44,45,46,47,48,49,50,51,52,53,54,55,56,57,58,59,60,61,62,63,64,65,66,67,68,69,70,71,72,73,74,75,76,77,78,79,80,81,82,83,84,85,86,87,88,89,90,91,92,93,94,95,96,97,98,99],\"y\":[1,2,3,4,5,6,7,8,9,10,11,12,13,14,15,16,17,18,19,20,21,22,23,24,25,26,27,28,29,30,31,32,33,34,35,36,37,38,39,40,41,42,43,44,45,46,47,48,49,50,51,52,53,54,55,56,57,58,59,60,61,62,63,64,65,66,67,68,69,70,71,72,73,74,75,76,77,78,79,80,81,82,83,84,85,86,87,88,89,90,91,92,93,94,95,96,97,98,99]}];\n",
       " var layout = {\"height\":500,\"width\":800,\"title\":{\"text\":\"Color2D.Basic\"}};\n",
       " var config = {\"responsive\":false,\"scrollZoom\":true,\"displaylogo\":false};\n",
       " Plotly.newPlot(\"graph_1593769430488\", traces, layout, config);\n",
       "</script>\n"
      ]
     },
     "metadata": {},
     "output_type": "display_data"
    }
   ],
   "source": [
    "// multiple compositions can be used to create scatter charts with a color representing some third dimension\n",
    "\n",
    "val marker = Marker() + z // we add the list of colors to the marker for each point\n",
    "val data = XY(x, y, series_name=\"scatter with color\", series_type = SCATTER, series_mode = \"markers\") + marker\n",
    "val chart = Chart() + Layout(\"Color2D.Basic\") + config + data\n",
    "chart.plot_inline()"
   ]
  },
  {
   "cell_type": "markdown",
   "metadata": {},
   "source": [
    "#### Grid\n",
    "\n",
    "The grid system can be used to generate subplots:"
   ]
  },
  {
   "cell_type": "code",
   "execution_count": 23,
   "metadata": {},
   "outputs": [
    {
     "data": {
      "text/html": [
       "\n",
       "<div align=\"center\">\n",
       "<div id='graph_1593769430833' style=\"width:100%; margin:0 auto;\"></div>\n",
       "</div>\n",
       "<script>\n",
       " var traces = [{\"name\":\"a\",\"type\":\"scatter\",\"xaxis\":\"x\",\"yaxis\":\"y\",\"mode\":\"markers\",\"x\":[1,2,3,4,5,6,7,8,9,10,11,12,13,14,15,16,17,18,19,20,21,22,23,24,25,26,27,28,29,30,31,32,33,34,35,36,37,38,39,40,41,42,43,44,45,46,47,48,49,50,51,52,53,54,55,56,57,58,59,60,61,62,63,64,65,66,67,68,69,70,71,72,73,74,75,76,77,78,79,80,81,82,83,84,85,86,87,88,89,90,91,92,93,94,95,96,97,98,99],\"y\":[1,2,3,4,5,6,7,8,9,10,11,12,13,14,15,16,17,18,19,20,21,22,23,24,25,26,27,28,29,30,31,32,33,34,35,36,37,38,39,40,41,42,43,44,45,46,47,48,49,50,51,52,53,54,55,56,57,58,59,60,61,62,63,64,65,66,67,68,69,70,71,72,73,74,75,76,77,78,79,80,81,82,83,84,85,86,87,88,89,90,91,92,93,94,95,96,97,98,99]},{\"name\":\"b\",\"type\":\"scatter\",\"xaxis\":\"x2\",\"yaxis\":\"y2\",\"mode\":\"markers\",\"x\":[1,2,3,4,5,6,7,8,9,10,11,12,13,14,15,16,17,18,19,20,21,22,23,24,25,26,27,28,29,30,31,32,33,34,35,36,37,38,39,40,41,42,43,44,45,46,47,48,49,50,51,52,53,54,55,56,57,58,59,60,61,62,63,64,65,66,67,68,69,70,71,72,73,74,75,76,77,78,79,80,81,82,83,84,85,86,87,88,89,90,91,92,93,94,95,96,97,98,99],\"y\":[46.687585911892846,74.05552990353627,38.91668410282303,72.18203629692286,13.307307132965958,60.851444127379544,48.70268769483293,55.56438923487492,97.82154502297787,41.6007717266924,60.75368184576835,58.297062210815945,32.235138602410196,52.807116738657044,44.29999723812278,109.42548116603241,54.92382598665567,93.57725023318079,44.84192120861839,78.48356259921854,116.83186053059777,86.06660564884827,65.19536076271196,105.94449804869257,26.5724224352504,111.77900016319833,97.99672866216345,72.48504232121279,33.49387110681657,126.90965591398258,108.58367398533437,119.87152174914041,82.63827135328253,70.56512331062464,134.84405275656917,92.2328196832631,101.00686496084677,105.96325651573873,78.92634461958198,88.06763665567135,90.66039732370326,76.61095247481505,114.6304801733709,100.54034578438561,110.92061051872872,116.9768248890997,123.84882202338567,76.45179686106135,129.30233993720827,130.3205772105174,105.6028378452524,142.72843983307348,108.79407947392949,135.11035249171726,72.0217875011014,133.35520413659694,77.71803216472351,85.85386066581741,157.03549315747966,99.38455491785356,97.63907251840732,94.18860214813667,115.60410255917552,99.9862443105794,104.65520249825411,111.7211025025199,83.9834780284346,153.45920249692495,149.89045604828053,87.37449446815933,104.82565451014364,73.70917755824323,106.12446344478231,78.89844217114225,94.83958986131329,129.902652323928,139.2311294016846,80.71481356057178,147.2882153503893,144.83964884245506,165.46220760717924,128.41714039859178,116.77354673565907,91.04506215232703,128.59985149962674,154.01135220518358,129.56244660089362,152.66018495486807,134.61540017606927,95.37986668831608,99.13136398689853,95.92311593749454,175.7100725244539,108.4706170186466,103.65917423204117,131.3587809047436,160.47644196573333,191.35711206454664,99.87305561958296]}];\n",
       " var layout = {\"height\":500,\"width\":800,\"title\":{\"text\":\"Axis Composition\"},\"grid\":{\"rows\":1,\"columns\":2,\"pattern\":\"independent\"},\"xaxis\":{\"title\":{\"text\":\"x axis 1\"},\"showgrid\":true,\"zeroline\":false,\"showline\":false},\"xaxis2\":{\"title\":{\"text\":\"x axis 2\"},\"showgrid\":true,\"zeroline\":false,\"showline\":false}};\n",
       " var config = {\"responsive\":false,\"scrollZoom\":true,\"displaylogo\":false};\n",
       " Plotly.newPlot(\"graph_1593769430833\", traces, layout, config);\n",
       "</script>\n"
      ]
     },
     "metadata": {},
     "output_type": "display_data"
    }
   ],
   "source": [
    "import picta.options.Grid\n",
    "\n",
    "// 1. first we define the grid layout - 1 row, 2 columns\n",
    "val grid = Grid(1, 2)\n",
    "\n",
    "// 2. Now define the axes we want to place on the grid\n",
    "val ax1 = Axis(\"xaxis\", title = \"x axis 1\")\n",
    "val ax2 = Axis(\"xaxis2\", title = \"x axis 2\")\n",
    "\n",
    "// 3. define the traces - notice how the axis maps to the xaxis and yaxis keys below:\n",
    "val data1 = XY(x, y, series_name=\"a\", series_type=SCATTER, series_mode=Some(\"markers\"))\n",
    "val data2 = XY(x, z, series_name=\"b\", series_type=SCATTER, series_mode=Some(\"markers\"), xaxis=\"x2\", yaxis=\"y2\")\n",
    "\n",
    "// 4. combine the axis and grid into a single layout component\n",
    "val layout = Layout(\"Axis Composition\") + List(ax1, ax2) + grid\n",
    "\n",
    "// 5. construct into a chart. We do not need to put the series into a single list, but this is done as an example here\n",
    "val chart = Chart() + List(data1, data2) + layout + config\n",
    "\n",
    "chart.plot_inline()"
   ]
  },
  {
   "cell_type": "markdown",
   "metadata": {},
   "source": [
    "#### Map\n",
    "\n",
    "We can also create maps using the composition technique below."
   ]
  },
  {
   "cell_type": "code",
   "execution_count": 24,
   "metadata": {},
   "outputs": [
    {
     "data": {
      "text/html": [
       "\n",
       "<div align=\"center\">\n",
       "<div id='graph_1593769431067' style=\"width:100%; margin:0 auto;\"></div>\n",
       "</div>\n",
       "<script>\n",
       " var traces = [{\"lat\":[40.7127,51.5072],\"lon\":[-74.0059,0.1275],\"type\":\"scattergeo\",\"mode\":\"lines\",\"line\":{\"width\":2,\"color\":\"red\"}}];\n",
       " var layout = {\"height\":500,\"width\":800,\"geo\":{\"resolution\":50,\"showland\":true,\"showlakes\":true,\"coastlinewidth\":2,\"landcolor\":\"rgb(204, 204, 204)\",\"lakecolor\":\"rgb(255, 255, 255)\",\"lataxis\":{\"range\":[20,60],\"showgrid\":true,\"dtick\":10},\"lonaxis\":{\"range\":[-100,20],\"showgrid\":true,\"dtick\":10}}};\n",
       " var config = {\"responsive\":true,\"scrollZoom\":true,\"displaylogo\":false};\n",
       " Plotly.newPlot(\"graph_1593769431067\", traces, layout, config);\n",
       "</script>\n"
      ]
     },
     "metadata": {},
     "output_type": "display_data"
    }
   ],
   "source": [
    "import picta.options.Geo\n",
    "import picta.options.MapAxis\n",
    "import picta.options.LatAxis\n",
    "import picta.options.LongAxis\n",
    "import picta.series.Map\n",
    "\n",
    "val line = Line(width = 2, color=\"red\")\n",
    "val data = Map(lat=List(40.7127, 51.5072), lon=List(-74.0059, 0.1275), series_mode = Some(\"lines\")) + line\n",
    "\n",
    "\n",
    "val geo = Geo(landcolor = Some(\"rgb(204, 204, 204)\"), lakecolor=Some(\"rgb(255, 255, 255)\")) + \n",
    "LatAxis(List(20, 60)) + LongAxis(List(-100, 20))\n",
    "\n",
    "val layout = Layout() + geo\n",
    "val chart = Chart() + data + layout\n",
    "chart.plot_inline()"
   ]
  }
 ],
 "metadata": {
  "kernelspec": {
   "display_name": "Scala",
   "language": "scala",
   "name": "scala"
  },
  "language_info": {
   "codemirror_mode": "text/x-scala",
   "file_extension": ".scala",
   "mimetype": "text/x-scala",
   "name": "scala",
   "nbconvert_exporter": "script",
   "version": "2.13.2"
  }
 },
 "nbformat": 4,
 "nbformat_minor": 4
}
