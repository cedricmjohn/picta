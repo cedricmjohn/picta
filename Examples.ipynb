{
 "cells": [
  {
   "cell_type": "code",
   "execution_count": 1,
   "metadata": {
    "scrolled": true
   },
   "outputs": [],
   "source": [
    "interp.repositories() ++= Seq(coursierapi.MavenRepository.of(\n",
    "\"https://jitpack.io\"\n",
    "))"
   ]
  },
  {
   "cell_type": "code",
   "execution_count": 2,
   "metadata": {},
   "outputs": [
    {
     "data": {
      "text/plain": [
       "\u001b[32mimport \u001b[39m\u001b[36m$ivy.$                                  \u001b[39m"
      ]
     },
     "execution_count": 2,
     "metadata": {},
     "output_type": "execute_result"
    }
   ],
   "source": [
    "import $ivy. `org.carbonateresearch::picta:0.1`"
   ]
  },
  {
   "cell_type": "code",
   "execution_count": 3,
   "metadata": {
    "scrolled": false
   },
   "outputs": [
    {
     "data": {
      "text/html": [
       "\n",
       "<style> #animationInterface {\n",
       "    margin-top: 50px;\n",
       "    margin-bottom: 50px;\n",
       "}\n",
       "\n",
       ".progressBar {\n",
       "    padding-top: 20px;\n",
       "    padding-bottom: 20px;\n",
       "}\n",
       "\n",
       ".inline-div {\n",
       "    display: block;\n",
       "    text-align: center;\n",
       "}\n",
       "\n",
       "h3 {\n",
       "    display: inline-block;\n",
       "    text-align: center;\n",
       "}\n",
       "\n",
       ".picta-button {\n",
       "    background-color: #003E74;\n",
       "    border: none;\n",
       "    color: white;\n",
       "    padding: 12px 28px;\n",
       "    text-align: center;\n",
       "    text-decoration: none;\n",
       "    display: inline-block;\n",
       "    font-size: 12px;\n",
       "    margin-top: 50px;\n",
       "    transition-duration: 0.4s;\n",
       "    cursor: pointer;\n",
       "}\n",
       "\n",
       ".picta-button:hover {\n",
       "    background-color: #002147;\n",
       "    color: white;\n",
       "}\n",
       "\n",
       ".grid-title h1 {\n",
       "    font-family: \"Open Sans\", verdana, arial, sans-serif;\n",
       "    font-weight: normal;\n",
       "}\n",
       "\n",
       ".grid-container {\n",
       "    padding-top: 40px;\n",
       "    background: white;\n",
       "} </style>\n",
       "<script> /** vim: et:ts=4:sw=4:sts=4\n",
       " * @license RequireJS 2.3.6 Copyright jQuery Foundation and other contributors.\n",
       " * Released under MIT license, https://github.com/requirejs/requirejs/blob/master/LICENSE\n",
       " */\n",
       "var requirejs,require,define;!function(global,setTimeout){var req,s,head,baseElement,dataMain,src,interactiveScript,currentlyAddingScript,mainScript,subPath,version=\"2.3.6\",commentRegExp=/\\/\\*[\\s\\S]*?\\*\\/|([^:\"'=]|^)\\/\\/.*$/gm,cjsRequireRegExp=/[^.]\\s*require\\s*\\(\\s*[\"']([^'\"\\s]+)[\"']\\s*\\)/g,jsSuffixRegExp=/\\.js$/,currDirRegExp=/^\\.\\//,op=Object.prototype,ostring=op.toString,hasOwn=op.hasOwnProperty,isBrowser=!(\"undefined\"==typeof window||\"undefined\"==typeof navigator||!window.document),isWebWorker=!isBrowser&&\"undefined\"!=typeof importScripts,readyRegExp=isBrowser&&\"PLAYSTATION 3\"===navigator.platform?/^complete$/:/^(complete|loaded)$/,defContextName=\"_\",isOpera=\"undefined\"!=typeof opera&&\"[object Opera]\"===opera.toString(),contexts={},cfg={},globalDefQueue=[],useInteractive=!1;function commentReplace(e,t){return t||\"\"}function isFunction(e){return\"[object Function]\"===ostring.call(e)}function isArray(e){return\"[object Array]\"===ostring.call(e)}function each(e,t){var i;if(e)for(i=0;i<e.length&&(!e[i]||!t(e[i],i,e));i+=1);}function eachReverse(e,t){var i;if(e)for(i=e.length-1;-1<i&&(!e[i]||!t(e[i],i,e));i-=1);}function hasProp(e,t){return hasOwn.call(e,t)}function getOwn(e,t){return hasProp(e,t)&&e[t]}function eachProp(e,t){var i;for(i in e)if(hasProp(e,i)&&t(e[i],i))break}function mixin(i,e,r,n){return e&&eachProp(e,function(e,t){!r&&hasProp(i,t)||(!n||\"object\"!=typeof e||!e||isArray(e)||isFunction(e)||e instanceof RegExp?i[t]=e:(i[t]||(i[t]={}),mixin(i[t],e,r,n)))}),i}function bind(e,t){return function(){return t.apply(e,arguments)}}function scripts(){return document.getElementsByTagName(\"script\")}function defaultOnError(e){throw e}function getGlobal(e){if(!e)return e;var t=global;return each(e.split(\".\"),function(e){t=t[e]}),t}function makeError(e,t,i,r){var n=new Error(t+\"\\nhttps://requirejs.org/docs/errors.html#\"+e);return n.requireType=e,n.requireModules=r,i&&(n.originalError=i),n}if(void 0===define){if(void 0!==requirejs){if(isFunction(requirejs))return;cfg=requirejs,requirejs=void 0}void 0===require||isFunction(require)||(cfg=require,require=void 0),req=requirejs=function(e,t,i,r){var n,o,a=defContextName;return isArray(e)||\"string\"==typeof e||(o=e,isArray(t)?(e=t,t=i,i=r):e=[]),o&&o.context&&(a=o.context),(n=getOwn(contexts,a))||(n=contexts[a]=req.s.newContext(a)),o&&n.configure(o),n.require(e,t,i)},req.config=function(e){return req(e)},req.nextTick=void 0!==setTimeout?function(e){setTimeout(e,4)}:function(e){e()},require||(require=req),req.version=version,req.jsExtRegExp=/^\\/|:|\\?|\\.js$/,req.isBrowser=isBrowser,s=req.s={contexts:contexts,newContext:newContext},req({}),each([\"toUrl\",\"undef\",\"defined\",\"specified\"],function(t){req[t]=function(){var e=contexts[defContextName];return e.require[t].apply(e,arguments)}}),isBrowser&&(head=s.head=document.getElementsByTagName(\"head\")[0],baseElement=document.getElementsByTagName(\"base\")[0],baseElement&&(head=s.head=baseElement.parentNode)),req.onError=defaultOnError,req.createNode=function(e,t,i){var r=e.xhtml?document.createElementNS(\"http://www.w3.org/1999/xhtml\",\"html:script\"):document.createElement(\"script\");return r.type=e.scriptType||\"text/javascript\",r.charset=\"utf-8\",r.async=!0,r},req.load=function(t,i,r){var e,n=t&&t.config||{};if(isBrowser)return(e=req.createNode(n,i,r)).setAttribute(\"data-requirecontext\",t.contextName),e.setAttribute(\"data-requiremodule\",i),!e.attachEvent||e.attachEvent.toString&&e.attachEvent.toString().indexOf(\"[native code\")<0||isOpera?(e.addEventListener(\"load\",t.onScriptLoad,!1),e.addEventListener(\"error\",t.onScriptError,!1)):(useInteractive=!0,e.attachEvent(\"onreadystatechange\",t.onScriptLoad)),e.src=r,n.onNodeCreated&&n.onNodeCreated(e,n,i,r),currentlyAddingScript=e,baseElement?head.insertBefore(e,baseElement):head.appendChild(e),currentlyAddingScript=null,e;if(isWebWorker)try{setTimeout(function(){},0),importScripts(r),t.completeLoad(i)}catch(e){t.onError(makeError(\"importscripts\",\"importScripts failed for \"+i+\" at \"+r,e,[i]))}},isBrowser&&!cfg.skipDataMain&&eachReverse(scripts(),function(e){if(head||(head=e.parentNode),dataMain=e.getAttribute(\"data-main\"))return mainScript=dataMain,cfg.baseUrl||-1!==mainScript.indexOf(\"!\")||(mainScript=(src=mainScript.split(\"/\")).pop(),subPath=src.length?src.join(\"/\")+\"/\":\"./\",cfg.baseUrl=subPath),mainScript=mainScript.replace(jsSuffixRegExp,\"\"),req.jsExtRegExp.test(mainScript)&&(mainScript=dataMain),cfg.deps=cfg.deps?cfg.deps.concat(mainScript):[mainScript],!0}),define=function(e,i,t){var r,n;\"string\"!=typeof e&&(t=i,i=e,e=null),isArray(i)||(t=i,i=null),!i&&isFunction(t)&&(i=[],t.length&&(t.toString().replace(commentRegExp,commentReplace).replace(cjsRequireRegExp,function(e,t){i.push(t)}),i=(1===t.length?[\"require\"]:[\"require\",\"exports\",\"module\"]).concat(i))),useInteractive&&(r=currentlyAddingScript||getInteractiveScript())&&(e||(e=r.getAttribute(\"data-requiremodule\")),n=contexts[r.getAttribute(\"data-requirecontext\")]),n?(n.defQueue.push([e,i,t]),n.defQueueMap[e]=!0):globalDefQueue.push([e,i,t])},define.amd={jQuery:!0},req.exec=function(text){return eval(text)},req(cfg)}function newContext(u){var i,e,l,c,d,g={waitSeconds:7,baseUrl:\"./\",paths:{},bundles:{},pkgs:{},shim:{},config:{}},p={},f={},r={},h=[],m={},n={},v={},x=1,b=1;function q(e,t,i){var r,n,o,a,s,u,c,d,p,f,l=t&&t.split(\"/\"),h=g.map,m=h&&h[\"*\"];if(e&&(u=(e=e.split(\"/\")).length-1,g.nodeIdCompat&&jsSuffixRegExp.test(e[u])&&(e[u]=e[u].replace(jsSuffixRegExp,\"\")),\".\"===e[0].charAt(0)&&l&&(e=l.slice(0,l.length-1).concat(e)),function(e){var t,i;for(t=0;t<e.length;t++)if(\".\"===(i=e[t]))e.splice(t,1),t-=1;else if(\"..\"===i){if(0===t||1===t&&\"..\"===e[2]||\"..\"===e[t-1])continue;0<t&&(e.splice(t-1,2),t-=2)}}(e),e=e.join(\"/\")),i&&h&&(l||m)){e:for(o=(n=e.split(\"/\")).length;0<o;o-=1){if(s=n.slice(0,o).join(\"/\"),l)for(a=l.length;0<a;a-=1)if((r=getOwn(h,l.slice(0,a).join(\"/\")))&&(r=getOwn(r,s))){c=r,d=o;break e}!p&&m&&getOwn(m,s)&&(p=getOwn(m,s),f=o)}!c&&p&&(c=p,d=f),c&&(n.splice(0,d,c),e=n.join(\"/\"))}return getOwn(g.pkgs,e)||e}function E(t){isBrowser&&each(scripts(),function(e){if(e.getAttribute(\"data-requiremodule\")===t&&e.getAttribute(\"data-requirecontext\")===l.contextName)return e.parentNode.removeChild(e),!0})}function w(e){var t=getOwn(g.paths,e);if(t&&isArray(t)&&1<t.length)return t.shift(),l.require.undef(e),l.makeRequire(null,{skipMap:!0})([e]),!0}function y(e){var t,i=e?e.indexOf(\"!\"):-1;return-1<i&&(t=e.substring(0,i),e=e.substring(i+1,e.length)),[t,e]}function S(e,t,i,r){var n,o,a,s,u=null,c=t?t.name:null,d=e,p=!0,f=\"\";return e||(p=!1,e=\"_@r\"+(x+=1)),u=(s=y(e))[0],e=s[1],u&&(u=q(u,c,r),o=getOwn(m,u)),e&&(u?f=i?e:o&&o.normalize?o.normalize(e,function(e){return q(e,c,r)}):-1===e.indexOf(\"!\")?q(e,c,r):e:(u=(s=y(f=q(e,c,r)))[0],f=s[1],i=!0,n=l.nameToUrl(f))),{prefix:u,name:f,parentMap:t,unnormalized:!!(a=!u||o||i?\"\":\"_unnormalized\"+(b+=1)),url:n,originalName:d,isDefine:p,id:(u?u+\"!\"+f:f)+a}}function k(e){var t=e.id,i=getOwn(p,t);return i||(i=p[t]=new l.Module(e)),i}function M(e,t,i){var r=e.id,n=getOwn(p,r);!hasProp(m,r)||n&&!n.defineEmitComplete?(n=k(e)).error&&\"error\"===t?i(n.error):n.on(t,i):\"defined\"===t&&i(m[r])}function O(i,e){var t=i.requireModules,r=!1;e?e(i):(each(t,function(e){var t=getOwn(p,e);t&&(t.error=i,t.events.error&&(r=!0,t.emit(\"error\",i)))}),r||req.onError(i))}function j(){globalDefQueue.length&&(each(globalDefQueue,function(e){var t=e[0];\"string\"==typeof t&&(l.defQueueMap[t]=!0),h.push(e)}),globalDefQueue=[])}function P(e){delete p[e],delete f[e]}function R(){var e,r,t=1e3*g.waitSeconds,n=t&&l.startTime+t<(new Date).getTime(),o=[],a=[],s=!1,u=!0;if(!i){if(i=!0,eachProp(f,function(e){var t=e.map,i=t.id;if(e.enabled&&(t.isDefine||a.push(e),!e.error))if(!e.inited&&n)w(i)?s=r=!0:(o.push(i),E(i));else if(!e.inited&&e.fetched&&t.isDefine&&(s=!0,!t.prefix))return u=!1}),n&&o.length)return(e=makeError(\"timeout\",\"Load timeout for modules: \"+o,null,o)).contextName=l.contextName,O(e);u&&each(a,function(e){!function n(o,a,s){var e=o.map.id;o.error?o.emit(\"error\",o.error):(a[e]=!0,each(o.depMaps,function(e,t){var i=e.id,r=getOwn(p,i);!r||o.depMatched[t]||s[i]||(getOwn(a,i)?(o.defineDep(t,m[i]),o.check()):n(r,a,s))}),s[e]=!0)}(e,{},{})}),n&&!r||!s||!isBrowser&&!isWebWorker||d||(d=setTimeout(function(){d=0,R()},50)),i=!1}}function a(e){hasProp(m,e[0])||k(S(e[0],null,!0)).init(e[1],e[2])}function o(e,t,i,r){e.detachEvent&&!isOpera?r&&e.detachEvent(r,t):e.removeEventListener(i,t,!1)}function s(e){var t=e.currentTarget||e.srcElement;return o(t,l.onScriptLoad,\"load\",\"onreadystatechange\"),o(t,l.onScriptError,\"error\"),{node:t,id:t&&t.getAttribute(\"data-requiremodule\")}}function T(){var e;for(j();h.length;){if(null===(e=h.shift())[0])return O(makeError(\"mismatch\",\"Mismatched anonymous define() module: \"+e[e.length-1]));a(e)}l.defQueueMap={}}return c={require:function(e){return e.require?e.require:e.require=l.makeRequire(e.map)},exports:function(e){if(e.usingExports=!0,e.map.isDefine)return e.exports?m[e.map.id]=e.exports:e.exports=m[e.map.id]={}},module:function(e){return e.module?e.module:e.module={id:e.map.id,uri:e.map.url,config:function(){return getOwn(g.config,e.map.id)||{}},exports:e.exports||(e.exports={})}}},(e=function(e){this.events=getOwn(r,e.id)||{},this.map=e,this.shim=getOwn(g.shim,e.id),this.depExports=[],this.depMaps=[],this.depMatched=[],this.pluginMaps={},this.depCount=0}).prototype={init:function(e,t,i,r){r=r||{},this.inited||(this.factory=t,i?this.on(\"error\",i):this.events.error&&(i=bind(this,function(e){this.emit(\"error\",e)})),this.depMaps=e&&e.slice(0),this.errback=i,this.inited=!0,this.ignore=r.ignore,r.enabled||this.enabled?this.enable():this.check())},defineDep:function(e,t){this.depMatched[e]||(this.depMatched[e]=!0,this.depCount-=1,this.depExports[e]=t)},fetch:function(){if(!this.fetched){this.fetched=!0,l.startTime=(new Date).getTime();var e=this.map;if(!this.shim)return e.prefix?this.callPlugin():this.load();l.makeRequire(this.map,{enableBuildCallback:!0})(this.shim.deps||[],bind(this,function(){return e.prefix?this.callPlugin():this.load()}))}},load:function(){var e=this.map.url;n[e]||(n[e]=!0,l.load(this.map.id,e))},check:function(){if(this.enabled&&!this.enabling){var t,e,i=this.map.id,r=this.depExports,n=this.exports,o=this.factory;if(this.inited){if(this.error)this.emit(\"error\",this.error);else if(!this.defining){if(this.defining=!0,this.depCount<1&&!this.defined){if(isFunction(o)){if(this.events.error&&this.map.isDefine||req.onError!==defaultOnError)try{n=l.execCb(i,o,r,n)}catch(e){t=e}else n=l.execCb(i,o,r,n);if(this.map.isDefine&&void 0===n&&((e=this.module)?n=e.exports:this.usingExports&&(n=this.exports)),t)return t.requireMap=this.map,t.requireModules=this.map.isDefine?[this.map.id]:null,t.requireType=this.map.isDefine?\"define\":\"require\",O(this.error=t)}else n=o;if(this.exports=n,this.map.isDefine&&!this.ignore&&(m[i]=n,req.onResourceLoad)){var a=[];each(this.depMaps,function(e){a.push(e.normalizedMap||e)}),req.onResourceLoad(l,this.map,a)}P(i),this.defined=!0}this.defining=!1,this.defined&&!this.defineEmitted&&(this.defineEmitted=!0,this.emit(\"defined\",this.exports),this.defineEmitComplete=!0)}}else hasProp(l.defQueueMap,i)||this.fetch()}},callPlugin:function(){var u=this.map,c=u.id,e=S(u.prefix);this.depMaps.push(e),M(e,\"defined\",bind(this,function(e){var o,t,i,r=getOwn(v,this.map.id),n=this.map.name,a=this.map.parentMap?this.map.parentMap.name:null,s=l.makeRequire(u.parentMap,{enableBuildCallback:!0});return this.map.unnormalized?(e.normalize&&(n=e.normalize(n,function(e){return q(e,a,!0)})||\"\"),M(t=S(u.prefix+\"!\"+n,this.map.parentMap,!0),\"defined\",bind(this,function(e){this.map.normalizedMap=t,this.init([],function(){return e},null,{enabled:!0,ignore:!0})})),void((i=getOwn(p,t.id))&&(this.depMaps.push(t),this.events.error&&i.on(\"error\",bind(this,function(e){this.emit(\"error\",e)})),i.enable()))):r?(this.map.url=l.nameToUrl(r),void this.load()):((o=bind(this,function(e){this.init([],function(){return e},null,{enabled:!0})})).error=bind(this,function(e){this.inited=!0,(this.error=e).requireModules=[c],eachProp(p,function(e){0===e.map.id.indexOf(c+\"_unnormalized\")&&P(e.map.id)}),O(e)}),o.fromText=bind(this,function(e,t){var i=u.name,r=S(i),n=useInteractive;t&&(e=t),n&&(useInteractive=!1),k(r),hasProp(g.config,c)&&(g.config[i]=g.config[c]);try{req.exec(e)}catch(e){return O(makeError(\"fromtexteval\",\"fromText eval for \"+c+\" failed: \"+e,e,[c]))}n&&(useInteractive=!0),this.depMaps.push(r),l.completeLoad(i),s([i],o)}),void e.load(u.name,s,o,g))})),l.enable(e,this),this.pluginMaps[e.id]=e},enable:function(){(f[this.map.id]=this).enabled=!0,this.enabling=!0,each(this.depMaps,bind(this,function(e,t){var i,r,n;if(\"string\"==typeof e){if(e=S(e,this.map.isDefine?this.map:this.map.parentMap,!1,!this.skipMap),this.depMaps[t]=e,n=getOwn(c,e.id))return void(this.depExports[t]=n(this));this.depCount+=1,M(e,\"defined\",bind(this,function(e){this.undefed||(this.defineDep(t,e),this.check())})),this.errback?M(e,\"error\",bind(this,this.errback)):this.events.error&&M(e,\"error\",bind(this,function(e){this.emit(\"error\",e)}))}i=e.id,r=p[i],hasProp(c,i)||!r||r.enabled||l.enable(e,this)})),eachProp(this.pluginMaps,bind(this,function(e){var t=getOwn(p,e.id);t&&!t.enabled&&l.enable(e,this)})),this.enabling=!1,this.check()},on:function(e,t){var i=this.events[e];i||(i=this.events[e]=[]),i.push(t)},emit:function(e,t){each(this.events[e],function(e){e(t)}),\"error\"===e&&delete this.events[e]}},(l={config:g,contextName:u,registry:p,defined:m,urlFetched:n,defQueue:h,defQueueMap:{},Module:e,makeModuleMap:S,nextTick:req.nextTick,onError:O,configure:function(e){if(e.baseUrl&&\"/\"!==e.baseUrl.charAt(e.baseUrl.length-1)&&(e.baseUrl+=\"/\"),\"string\"==typeof e.urlArgs){var i=e.urlArgs;e.urlArgs=function(e,t){return(-1===t.indexOf(\"?\")?\"?\":\"&\")+i}}var r=g.shim,n={paths:!0,bundles:!0,config:!0,map:!0};eachProp(e,function(e,t){n[t]?(g[t]||(g[t]={}),mixin(g[t],e,!0,!0)):g[t]=e}),e.bundles&&eachProp(e.bundles,function(e,t){each(e,function(e){e!==t&&(v[e]=t)})}),e.shim&&(eachProp(e.shim,function(e,t){isArray(e)&&(e={deps:e}),!e.exports&&!e.init||e.exportsFn||(e.exportsFn=l.makeShimExports(e)),r[t]=e}),g.shim=r),e.packages&&each(e.packages,function(e){var t;t=(e=\"string\"==typeof e?{name:e}:e).name,e.location&&(g.paths[t]=e.location),g.pkgs[t]=e.name+\"/\"+(e.main||\"main\").replace(currDirRegExp,\"\").replace(jsSuffixRegExp,\"\")}),eachProp(p,function(e,t){e.inited||e.map.unnormalized||(e.map=S(t,null,!0))}),(e.deps||e.callback)&&l.require(e.deps||[],e.callback)},makeShimExports:function(t){return function(){var e;return t.init&&(e=t.init.apply(global,arguments)),e||t.exports&&getGlobal(t.exports)}},makeRequire:function(o,a){function s(e,t,i){var r,n;return a.enableBuildCallback&&t&&isFunction(t)&&(t.__requireJsBuild=!0),\"string\"==typeof e?isFunction(t)?O(makeError(\"requireargs\",\"Invalid require call\"),i):o&&hasProp(c,e)?c[e](p[o.id]):req.get?req.get(l,e,o,s):(r=S(e,o,!1,!0).id,hasProp(m,r)?m[r]:O(makeError(\"notloaded\",'Module name \"'+r+'\" has not been loaded yet for context: '+u+(o?\"\":\". Use require([])\")))):(T(),l.nextTick(function(){T(),(n=k(S(null,o))).skipMap=a.skipMap,n.init(e,t,i,{enabled:!0}),R()}),s)}return a=a||{},mixin(s,{isBrowser:isBrowser,toUrl:function(e){var t,i=e.lastIndexOf(\".\"),r=e.split(\"/\")[0];return-1!==i&&(!(\".\"===r||\"..\"===r)||1<i)&&(t=e.substring(i,e.length),e=e.substring(0,i)),l.nameToUrl(q(e,o&&o.id,!0),t,!0)},defined:function(e){return hasProp(m,S(e,o,!1,!0).id)},specified:function(e){return e=S(e,o,!1,!0).id,hasProp(m,e)||hasProp(p,e)}}),o||(s.undef=function(i){j();var e=S(i,o,!0),t=getOwn(p,i);t.undefed=!0,E(i),delete m[i],delete n[e.url],delete r[i],eachReverse(h,function(e,t){e[0]===i&&h.splice(t,1)}),delete l.defQueueMap[i],t&&(t.events.defined&&(r[i]=t.events),P(i))}),s},enable:function(e){getOwn(p,e.id)&&k(e).enable()},completeLoad:function(e){var t,i,r,n=getOwn(g.shim,e)||{},o=n.exports;for(j();h.length;){if(null===(i=h.shift())[0]){if(i[0]=e,t)break;t=!0}else i[0]===e&&(t=!0);a(i)}if(l.defQueueMap={},r=getOwn(p,e),!t&&!hasProp(m,e)&&r&&!r.inited){if(!(!g.enforceDefine||o&&getGlobal(o)))return w(e)?void 0:O(makeError(\"nodefine\",\"No define call for \"+e,null,[e]));a([e,n.deps||[],n.exportsFn])}R()},nameToUrl:function(e,t,i){var r,n,o,a,s,u,c=getOwn(g.pkgs,e);if(c&&(e=c),u=getOwn(v,e))return l.nameToUrl(u,t,i);if(req.jsExtRegExp.test(e))a=e+(t||\"\");else{for(r=g.paths,o=(n=e.split(\"/\")).length;0<o;o-=1)if(s=getOwn(r,n.slice(0,o).join(\"/\"))){isArray(s)&&(s=s[0]),n.splice(0,o,s);break}a=n.join(\"/\"),a=(\"/\"===(a+=t||(/^data\\:|^blob\\:|\\?/.test(a)||i?\"\":\".js\")).charAt(0)||a.match(/^[\\w\\+\\.\\-]+:/)?\"\":g.baseUrl)+a}return g.urlArgs&&!/^blob\\:/.test(a)?a+g.urlArgs(e,a):a},load:function(e,t){req.load(l,e,t)},execCb:function(e,t,i,r){return t.apply(r,i)},onScriptLoad:function(e){if(\"load\"===e.type||readyRegExp.test((e.currentTarget||e.srcElement).readyState)){interactiveScript=null;var t=s(e);l.completeLoad(t.id)}},onScriptError:function(e){var i=s(e);if(!w(i.id)){var r=[];return eachProp(p,function(e,t){0!==t.indexOf(\"_@r\")&&each(e.depMaps,function(e){if(e.id===i.id)return r.push(t),!0})}),O(makeError(\"scripterror\",'Script error for \"'+i.id+(r.length?'\", needed by: '+r.join(\", \"):'\"'),e,[i.id]))}}}).require=l.makeRequire(),l}function getInteractiveScript(){return interactiveScript&&\"interactive\"===interactiveScript.readyState||eachReverse(scripts(),function(e){if(\"interactive\"===e.readyState)return interactiveScript=e}),interactiveScript}}(this,\"undefined\"==typeof setTimeout?void 0:setTimeout); </script>\n",
       "<script> /*! dom-to-image 10-06-2017 */\n",
       "!function(a){\"use strict\";function b(a,b){function c(a){return b.bgcolor&&(a.style.backgroundColor=b.bgcolor),b.width&&(a.style.width=b.width+\"px\"),b.height&&(a.style.height=b.height+\"px\"),b.style&&Object.keys(b.style).forEach(function(c){a.style[c]=b.style[c]}),a}return b=b||{},g(b),Promise.resolve(a).then(function(a){return i(a,b.filter,!0)}).then(j).then(k).then(c).then(function(c){return l(c,b.width||q.width(a),b.height||q.height(a))})}function c(a,b){return h(a,b||{}).then(function(b){return b.getContext(\"2d\").getImageData(0,0,q.width(a),q.height(a)).data})}function d(a,b){return h(a,b||{}).then(function(a){return a.toDataURL()})}function e(a,b){return b=b||{},h(a,b).then(function(a){return a.toDataURL(\"image/jpeg\",b.quality||1)})}function f(a,b){return h(a,b||{}).then(q.canvasToBlob)}function g(a){\"undefined\"==typeof a.imagePlaceholder?v.impl.options.imagePlaceholder=u.imagePlaceholder:v.impl.options.imagePlaceholder=a.imagePlaceholder,\"undefined\"==typeof a.cacheBust?v.impl.options.cacheBust=u.cacheBust:v.impl.options.cacheBust=a.cacheBust}function h(a,c){function d(a){var b=document.createElement(\"canvas\");if(b.width=c.width||q.width(a),b.height=c.height||q.height(a),c.bgcolor){var d=b.getContext(\"2d\");d.fillStyle=c.bgcolor,d.fillRect(0,0,b.width,b.height)}return b}return b(a,c).then(q.makeImage).then(q.delay(100)).then(function(b){var c=d(a);return c.getContext(\"2d\").drawImage(b,0,0),c})}function i(a,b,c){function d(a){return a instanceof HTMLCanvasElement?q.makeImage(a.toDataURL()):a.cloneNode(!1)}function e(a,b,c){function d(a,b,c){var d=Promise.resolve();return b.forEach(function(b){d=d.then(function(){return i(b,c)}).then(function(b){b&&a.appendChild(b)})}),d}var e=a.childNodes;return 0===e.length?Promise.resolve(b):d(b,q.asArray(e),c).then(function(){return b})}function f(a,b){function c(){function c(a,b){function c(a,b){q.asArray(a).forEach(function(c){b.setProperty(c,a.getPropertyValue(c),a.getPropertyPriority(c))})}a.cssText?b.cssText=a.cssText:c(a,b)}c(window.getComputedStyle(a),b.style)}function d(){function c(c){function d(a,b,c){function d(a){var b=a.getPropertyValue(\"content\");return a.cssText+\" content: \"+b+\";\"}function e(a){function b(b){return b+\": \"+a.getPropertyValue(b)+(a.getPropertyPriority(b)?\" !important\":\"\")}return q.asArray(a).map(b).join(\"; \")+\";\"}var f=\".\"+a+\":\"+b,g=c.cssText?d(c):e(c);return document.createTextNode(f+\"{\"+g+\"}\")}var e=window.getComputedStyle(a,c),f=e.getPropertyValue(\"content\");if(\"\"!==f&&\"none\"!==f){var g=q.uid();b.className=b.className+\" \"+g;var h=document.createElement(\"style\");h.appendChild(d(g,c,e)),b.appendChild(h)}}[\":before\",\":after\"].forEach(function(a){c(a)})}function e(){a instanceof HTMLTextAreaElement&&(b.innerHTML=a.value),a instanceof HTMLInputElement&&b.setAttribute(\"value\",a.value)}function f(){b instanceof SVGElement&&(b.setAttribute(\"xmlns\",\"http://www.w3.org/2000/svg\"),b instanceof SVGRectElement&&[\"width\",\"height\"].forEach(function(a){var c=b.getAttribute(a);c&&b.style.setProperty(a,c)}))}return b instanceof Element?Promise.resolve().then(c).then(d).then(e).then(f).then(function(){return b}):b}return c||!b||b(a)?Promise.resolve(a).then(d).then(function(c){return e(a,c,b)}).then(function(b){return f(a,b)}):Promise.resolve()}function j(a){return s.resolveAll().then(function(b){var c=document.createElement(\"style\");return a.appendChild(c),c.appendChild(document.createTextNode(b)),a})}function k(a){return t.inlineAll(a).then(function(){return a})}function l(a,b,c){return Promise.resolve(a).then(function(a){return a.setAttribute(\"xmlns\",\"http://www.w3.org/1999/xhtml\"),(new XMLSerializer).serializeToString(a)}).then(q.escapeXhtml).then(function(a){return'<foreignObject x=\"0\" y=\"0\" width=\"100%\" height=\"100%\">'+a+\"</foreignObject>\"}).then(function(a){return'<svg xmlns=\"http://www.w3.org/2000/svg\" width=\"'+b+'\" height=\"'+c+'\">'+a+\"</svg>\"}).then(function(a){return\"data:image/svg+xml;charset=utf-8,\"+a})}function m(){function a(){var a=\"application/font-woff\",b=\"image/jpeg\";return{woff:a,woff2:a,ttf:\"application/font-truetype\",eot:\"application/vnd.ms-fontobject\",png:\"image/png\",jpg:b,jpeg:b,gif:\"image/gif\",tiff:\"image/tiff\",svg:\"image/svg+xml\"}}function b(a){var b=/\\.([^\\.\\/]*?)$/g.exec(a);return b?b[1]:\"\"}function c(c){var d=b(c).toLowerCase();return a()[d]||\"\"}function d(a){return a.search(/^(data:)/)!==-1}function e(a){return new Promise(function(b){for(var c=window.atob(a.toDataURL().split(\",\")[1]),d=c.length,e=new Uint8Array(d),f=0;f<d;f++)e[f]=c.charCodeAt(f);b(new Blob([e],{type:\"image/png\"}))})}function f(a){return a.toBlob?new Promise(function(b){a.toBlob(b)}):e(a)}function g(a,b){var c=document.implementation.createHTMLDocument(),d=c.createElement(\"base\");c.head.appendChild(d);var e=c.createElement(\"a\");return c.body.appendChild(e),d.href=b,e.href=a,e.href}function h(){var a=0;return function(){function b(){return(\"0000\"+(Math.random()*Math.pow(36,4)<<0).toString(36)).slice(-4)}return\"u\"+b()+a++}}function i(a){return new Promise(function(b,c){var d=new Image;d.onload=function(){b(d)},d.onerror=c,d.src=a})}function j(a){var b=3e4;return v.impl.options.cacheBust&&(a+=(/\\?/.test(a)?\"&\":\"?\")+(new Date).getTime()),new Promise(function(c){function d(){if(4===g.readyState){if(200!==g.status)return void(h?c(h):f(\"cannot fetch resource: \"+a+\", status: \"+g.status));var b=new FileReader;b.onloadend=function(){var a=b.result.split(/,/)[1];c(a)},b.readAsDataURL(g.response)}}function e(){h?c(h):f(\"timeout of \"+b+\"ms occured while fetching resource: \"+a)}function f(a){console.error(a),c(\"\")}var g=new XMLHttpRequest;g.onreadystatechange=d,g.ontimeout=e,g.responseType=\"blob\",g.timeout=b,g.open(\"GET\",a,!0),g.send();var h;if(v.impl.options.imagePlaceholder){var i=v.impl.options.imagePlaceholder.split(/,/);i&&i[1]&&(h=i[1])}})}function k(a,b){return\"data:\"+b+\";base64,\"+a}function l(a){return a.replace(/([.*+?^${}()|\\[\\]\\/\\\\])/g,\"\\\\$1\")}function m(a){return function(b){return new Promise(function(c){setTimeout(function(){c(b)},a)})}}function n(a){for(var b=[],c=a.length,d=0;d<c;d++)b.push(a[d]);return b}function o(a){return a.replace(/#/g,\"%23\").replace(/\\n/g,\"%0A\")}function p(a){var b=r(a,\"border-left-width\"),c=r(a,\"border-right-width\");return a.scrollWidth+b+c}function q(a){var b=r(a,\"border-top-width\"),c=r(a,\"border-bottom-width\");return a.scrollHeight+b+c}function r(a,b){var c=window.getComputedStyle(a).getPropertyValue(b);return parseFloat(c.replace(\"px\",\"\"))}return{escape:l,parseExtension:b,mimeType:c,dataAsUrl:k,isDataUrl:d,canvasToBlob:f,resolveUrl:g,getAndEncode:j,uid:h(),delay:m,asArray:n,escapeXhtml:o,makeImage:i,width:p,height:q}}function n(){function a(a){return a.search(e)!==-1}function b(a){for(var b,c=[];null!==(b=e.exec(a));)c.push(b[1]);return c.filter(function(a){return!q.isDataUrl(a)})}function c(a,b,c,d){function e(a){return new RegExp(\"(url\\\\(['\\\"]?)(\"+q.escape(a)+\")(['\\\"]?\\\\))\",\"g\")}return Promise.resolve(b).then(function(a){return c?q.resolveUrl(a,c):a}).then(d||q.getAndEncode).then(function(a){return q.dataAsUrl(a,q.mimeType(b))}).then(function(c){return a.replace(e(b),\"$1\"+c+\"$3\")})}function d(d,e,f){function g(){return!a(d)}return g()?Promise.resolve(d):Promise.resolve(d).then(b).then(function(a){var b=Promise.resolve(d);return a.forEach(function(a){b=b.then(function(b){return c(b,a,e,f)})}),b})}var e=/url\\(['\"]?([^'\"]+?)['\"]?\\)/g;return{inlineAll:d,shouldProcess:a,impl:{readUrls:b,inline:c}}}function o(){function a(){return b(document).then(function(a){return Promise.all(a.map(function(a){return a.resolve()}))}).then(function(a){return a.join(\"\\n\")})}function b(){function a(a){return a.filter(function(a){return a.type===CSSRule.FONT_FACE_RULE}).filter(function(a){return r.shouldProcess(a.style.getPropertyValue(\"src\"))})}function b(a){var b=[];return a.forEach(function(a){try{q.asArray(a.cssRules||[]).forEach(b.push.bind(b))}catch(c){console.log(\"Error while reading CSS rules from \"+a.href,c.toString())}}),b}function c(a){return{resolve:function(){var b=(a.parentStyleSheet||{}).href;return r.inlineAll(a.cssText,b)},src:function(){return a.style.getPropertyValue(\"src\")}}}return Promise.resolve(q.asArray(document.styleSheets)).then(b).then(a).then(function(a){return a.map(c)})}return{resolveAll:a,impl:{readAll:b}}}function p(){function a(a){function b(b){return q.isDataUrl(a.src)?Promise.resolve():Promise.resolve(a.src).then(b||q.getAndEncode).then(function(b){return q.dataAsUrl(b,q.mimeType(a.src))}).then(function(b){return new Promise(function(c,d){a.onload=c,a.onerror=d,a.src=b})})}return{inline:b}}function b(c){function d(a){var b=a.style.getPropertyValue(\"background\");return b?r.inlineAll(b).then(function(b){a.style.setProperty(\"background\",b,a.style.getPropertyPriority(\"background\"))}).then(function(){return a}):Promise.resolve(a)}return c instanceof Element?d(c).then(function(){return c instanceof HTMLImageElement?a(c).inline():Promise.all(q.asArray(c.childNodes).map(function(a){return b(a)}))}):Promise.resolve(c)}return{inlineAll:b,impl:{newImage:a}}}var q=m(),r=n(),s=o(),t=p(),u={imagePlaceholder:void 0,cacheBust:!1},v={toSvg:b,toPng:d,toJpeg:e,toBlob:f,toPixelData:c,impl:{fontFaces:s,images:t,util:q,inliner:r,options:{}}};\"undefined\"!=typeof module?module.exports=v:a.domtoimage=v}(this); </script>\n",
       "<script>\n",
       " require.config({\n",
       "   paths: {\n",
       "     'plotly': \"https://cdn.plot.ly/plotly-latest.min\",\n",
       "     'macy': \"https://cdn.jsdelivr.net/npm/macy@2.5.1/dist/macy.min\"\n",
       "   },\n",
       " })\n",
       "require( ['plotly', 'macy'], function(Plotly, Macy) {\n",
       " window.Plotly = Plotly;\n",
       " window.Macy = Macy;\n",
       "})\n",
       "</script>\n"
      ]
     },
     "metadata": {},
     "output_type": "display_data"
    },
    {
     "data": {
      "text/plain": [
       "\u001b[32mimport \u001b[39m\u001b[36morg.carbonateresearch.picta.render.Html.initNotebook // required to initialize jupyter notebook mode\n",
       "\u001b[39m"
      ]
     },
     "execution_count": 3,
     "metadata": {},
     "output_type": "execute_result"
    }
   ],
   "source": [
    "import org.carbonateresearch.picta.render.Html.initNotebook // required to initialize jupyter notebook mode\n",
    "initNotebook() // stops ugly output"
   ]
  },
  {
   "cell_type": "markdown",
   "metadata": {},
   "source": [
    "# 1. Basics\n",
    "\n",
    "The aim of the Picta library is to be a highly configurable and composable charting library for data exploration. The library takes a grammatical approach to chart construction. \n",
    "\n",
    "The following examples are aimed at demonstrating the libraries capabilities, and eventually make constructing charts using this library easy and intuitive."
   ]
  },
  {
   "cell_type": "markdown",
   "metadata": {},
   "source": [
    "### Main Components\n",
    "\n",
    "Picta graphs are constructed in a modular manner. The main components are:\n",
    "\n",
    "1. `Canvas`: This is is the top-level component for representing the display. A `Canvas` may consist of multiple charts.\n",
    "\n",
    "\n",
    "2. `Chart`: This is the component that corresponds to an actual chart (i.e. scatter, pie etc).\n",
    "\n",
    "\n",
    "3. `Series`: This is the data series that is plotted on a `Chart`. `Series` come in 3 types:\n",
    "\n",
    "    - `XY`:   This is series data for constructing a 2D chart\n",
    "    - `XYZ`:  This is series data for constructing a 3D chart\n",
    "    - `Map`:  This is series data that constructs a Map chart\n",
    "    \n",
    "\n",
    "4. `ChartLayout`: This configures various parts of how the `Chart` is represented on screen.\n",
    "\n",
    "`Chart` may occassionally also make use of the `Config` component for further configuration. `Config` specifies whether the plot is responsive.\n",
    "\n",
    "The following examples in this notebook should provide a number of interactive examples to get used to the Picta library."
   ]
  },
  {
   "cell_type": "markdown",
   "metadata": {},
   "source": [
    "### Importing the Library\n",
    "\n",
    "Importing as below should bring in the most frequently used Components in the library."
   ]
  },
  {
   "cell_type": "code",
   "execution_count": 4,
   "metadata": {},
   "outputs": [],
   "source": [
    "import org.carbonateresearch.picta._"
   ]
  },
  {
   "cell_type": "markdown",
   "metadata": {},
   "source": [
    "### Create Some Dummy Data to Use in the Examples\n",
    "\n",
    "Here we create some dummy data to be used in the examples for this notebook."
   ]
  },
  {
   "cell_type": "code",
   "execution_count": 5,
   "metadata": {},
   "outputs": [],
   "source": [
    "val x = List.range(0, 100).map(x => scala.util.Random.nextDouble() * 50)\n",
    "val y = List.range(0, 100).map(x => scala.util.Random.nextDouble() * 50)\n",
    "val z = List.range(0, 100).map(x => scala.util.Random.nextDouble() * 50)"
   ]
  },
  {
   "cell_type": "markdown",
   "metadata": {},
   "source": [
    "### 2D Plots\n",
    "\n",
    "`Series` that represent 2D data are represented by `XY` series types.\n",
    "\n",
    "\n",
    "#### Scatter Plot\n",
    "\n",
    "An example `Scatter` plot is below. \n",
    "\n",
    "Note: This is just one way to call the library functions. Another way that uses function chaining will be shown immediately after this example."
   ]
  },
  {
   "cell_type": "code",
   "execution_count": 6,
   "metadata": {},
   "outputs": [
    {
     "data": {
      "text/html": [
       "<div id=\"grid-container_elRyPdyrmC\" class=\"grid-container\" align=\"center\"> \n",
       "<div id=\"grid_elRyPdyrmC\" class=\"grid\" align=\"center\"> \n",
       "<div id=\"graph_rFxe6dAyfz\" class=\"graph\"></div> \n",
       "</div> \n",
       "</div> \n",
       "<script>\n",
       "var masonry = new Macy({\n",
       "    container: '#grid_elRyPdyrmC',\n",
       "    debug: true,\n",
       "    mobileFirst: true,\n",
       "    columns: 1,\n",
       "    margin: {\n",
       "        x: 0,\n",
       "        y: 0\n",
       "    }\n",
       "  });\n",
       "\n",
       " var traces_rFxe6dAyfz = [{\"name\":\"GhkSrqwAny\",\"type\":\"scatter\",\"mode\":\"markers\",\"x\":[42.55838227418825,42.985312872626004,33.62137884324039,10.936282841992211,24.940975638542213,45.12864792149333,0.6945833089269215,17.721760433077964,9.061531097178616,22.795226112612166,2.1415090326446395,25.68742833606316,26.543202152687527,40.60810620201081,43.99867346750629,44.03345289504285,17.104145894912747,42.14986508117444,14.390516270136805,19.2247086504215,40.5765960787733,40.14190676458602,45.77546115831438,30.120638964160978,32.36125488794008,11.791976942818415,0.44375172613522196,49.0773013437432,24.75507800430351,46.71130480978271,4.073270031695508,27.58025398579705,42.96744705285339,39.382877723189,8.057756885841544,10.328266239020495,22.579178261686078,26.804934871380702,43.792554618608385,16.11165751077724,34.70079062113787,44.63884126228883,41.13619115289731,47.31541715994283,46.15087718376778,11.958087177420145,18.8618415695327,2.4260553892382077,34.602414587833884,5.525220943222231,17.07088039944484,17.532503517882585,22.834261634585097,49.416133009198774,30.2614662694879,3.4851528968011136,41.97707787504171,24.766131286214737,15.028303517342106,25.113529817124423,30.957331121659188,47.429906497065915,38.21538956702016,37.70183836910646,28.220028629819698,18.42747794090393,49.75182825108095,3.7830145101515997,12.250243024002593,23.190854948470136,9.371421264529634,10.235714888403564,49.41547196851058,40.831185145864474,17.95000181875825,41.65499801670566,11.215323909172369,23.91377446033006,2.290160812297054,41.01630073238532,28.15195348992453,22.55839689490505,26.841212444526896,2.763627042935873,4.12416143298212,4.0749410485400706,7.062963599659344,46.626694149749184,23.499980222175264,10.799482625177632,26.925041837508324,12.708116446187134,42.837075110472554,4.3134506939191075,17.379251108802922,49.680531740842774,20.597177757430014,13.808666507475237,33.55061170207739,38.29489901793637],\"y\":[1.1402934902688955,40.003573694536925,25.863469971863058,1.8250371254620756,33.78631157236301,13.721069803036261,34.35223351115953,3.559782684348678,23.796146079208626,20.005950507300224,46.00202080450122,19.002991038805828,29.751470916044497,24.490002876095986,42.1226948023023,47.05292810466627,41.00156588440043,28.60543037091348,26.48046744458418,40.106417675008984,39.5977384201774,34.20230414961292,15.194464033542154,37.76945461850181,23.45025376043615,16.143363874348804,36.2513269800402,32.65480836097482,41.31965089146526,33.52954210431399,29.89915508193823,29.608480444197372,15.693769509007216,6.352170506978105,11.152775408903025,31.630694143735163,6.603769598146219,44.57290256793121,2.1755412449033953,46.743435254172184,47.996899056002114,40.899986766566485,15.398560002393186,10.105385021296936,18.410666628063648,26.859551690270738,17.89645125903695,4.786420854568984,39.38259580842012,44.15321250851898,33.75944762611196,42.78767138145616,28.28164153248901,49.74831286973538,43.984841294408334,35.12946591823159,17.06180565557173,3.6647629752244724,22.75650269790069,36.128322142344025,34.815487871583464,33.00245212476059,4.8893676158866475,42.34546502695595,39.94348973564899,24.395841581185902,11.68653335066654,11.113177021831355,27.260609347081736,19.787388941630475,21.48977212338796,37.03162748295043,26.42017119594284,27.17904573565794,6.799991655617754,37.37764843057544,0.6678122161363376,8.851151306520693,22.002380503189954,48.97824067407976,49.124296598461676,24.43061891583604,14.451654925809576,29.77545090493223,11.549069574086168,35.14537965977682,46.95604941657302,38.04556115937061,21.850737081641054,18.619660154730983,11.544401150063138,31.034365006350345,5.4875868077910175,0.6446936373977197,32.80884345895677,32.63165651327551,16.34074339922777,31.502106019417976,4.086384343003618,16.631847270476136]}];\n",
       " var layout_rFxe6dAyfz = {\"height\":550,\"width\":600,\"hovermode\":\"closest\",\"legend\":{\"orientation\":\"v\"},\"title\":{\"text\":\"First Chart\"},\"showlegend\":true};\n",
       " var config_rFxe6dAyfz = {\"responsive\":true,\"scrollZoom\":true,\"displaylogo\":false};\n",
       " Plotly.newPlot(\"graph_rFxe6dAyfz\", traces_rFxe6dAyfz, layout_rFxe6dAyfz, config_rFxe6dAyfz);\n",
       "</script> \n"
      ]
     },
     "metadata": {},
     "output_type": "display_data"
    }
   ],
   "source": [
    "// create the data series using the data from above\n",
    "// 'asType SCATTER' transforms the series into a scatter chart\n",
    "// 'drawStyle Markers' specifies the style of the markers the chart should have\n",
    "// if a name is not provided to the series, Picta generates a random name to help keep track of the series in charts\n",
    "// multiple series.\n",
    "val series = XY(x, y) asType SCATTER drawStyle MARKERS\n",
    "\n",
    "// create a chart by adding to it a data series. We set the title as 'First Chart'\n",
    "val chart = Chart() addSeries series setTitle \"First Chart\"\n",
    "\n",
    "// if we have a single chart, then we do not need to use the Canvas and can simply call chart.plot\n",
    "\n",
    "chart.plotInline"
   ]
  },
  {
   "cell_type": "markdown",
   "metadata": {},
   "source": [
    "#### Chaining Functions\n",
    "\n",
    "Sometimes when we are specifying many options, it is quicker to use the IDE autocomplete and just chain the function calls. Throughout this book both the style above and the function chaining style will be used as and when convenient."
   ]
  },
  {
   "cell_type": "code",
   "execution_count": 7,
   "metadata": {},
   "outputs": [
    {
     "data": {
      "text/html": [
       "<div id=\"grid-container_7KyKP0sEC4\" class=\"grid-container\" align=\"center\"> \n",
       "<div id=\"grid_7KyKP0sEC4\" class=\"grid\" align=\"center\"> \n",
       "<div id=\"graph_yOoPE7pBss\" class=\"graph\"></div> \n",
       "</div> \n",
       "</div> \n",
       "<script>\n",
       "var masonry = new Macy({\n",
       "    container: '#grid_7KyKP0sEC4',\n",
       "    debug: true,\n",
       "    mobileFirst: true,\n",
       "    columns: 1,\n",
       "    margin: {\n",
       "        x: 0,\n",
       "        y: 0\n",
       "    }\n",
       "  });\n",
       "\n",
       " var traces_yOoPE7pBss = [{\"name\":\"LDFWFFgYYE\",\"type\":\"scatter\",\"mode\":\"markers\",\"x\":[42.55838227418825,42.985312872626004,33.62137884324039,10.936282841992211,24.940975638542213,45.12864792149333,0.6945833089269215,17.721760433077964,9.061531097178616,22.795226112612166,2.1415090326446395,25.68742833606316,26.543202152687527,40.60810620201081,43.99867346750629,44.03345289504285,17.104145894912747,42.14986508117444,14.390516270136805,19.2247086504215,40.5765960787733,40.14190676458602,45.77546115831438,30.120638964160978,32.36125488794008,11.791976942818415,0.44375172613522196,49.0773013437432,24.75507800430351,46.71130480978271,4.073270031695508,27.58025398579705,42.96744705285339,39.382877723189,8.057756885841544,10.328266239020495,22.579178261686078,26.804934871380702,43.792554618608385,16.11165751077724,34.70079062113787,44.63884126228883,41.13619115289731,47.31541715994283,46.15087718376778,11.958087177420145,18.8618415695327,2.4260553892382077,34.602414587833884,5.525220943222231,17.07088039944484,17.532503517882585,22.834261634585097,49.416133009198774,30.2614662694879,3.4851528968011136,41.97707787504171,24.766131286214737,15.028303517342106,25.113529817124423,30.957331121659188,47.429906497065915,38.21538956702016,37.70183836910646,28.220028629819698,18.42747794090393,49.75182825108095,3.7830145101515997,12.250243024002593,23.190854948470136,9.371421264529634,10.235714888403564,49.41547196851058,40.831185145864474,17.95000181875825,41.65499801670566,11.215323909172369,23.91377446033006,2.290160812297054,41.01630073238532,28.15195348992453,22.55839689490505,26.841212444526896,2.763627042935873,4.12416143298212,4.0749410485400706,7.062963599659344,46.626694149749184,23.499980222175264,10.799482625177632,26.925041837508324,12.708116446187134,42.837075110472554,4.3134506939191075,17.379251108802922,49.680531740842774,20.597177757430014,13.808666507475237,33.55061170207739,38.29489901793637],\"y\":[1.1402934902688955,40.003573694536925,25.863469971863058,1.8250371254620756,33.78631157236301,13.721069803036261,34.35223351115953,3.559782684348678,23.796146079208626,20.005950507300224,46.00202080450122,19.002991038805828,29.751470916044497,24.490002876095986,42.1226948023023,47.05292810466627,41.00156588440043,28.60543037091348,26.48046744458418,40.106417675008984,39.5977384201774,34.20230414961292,15.194464033542154,37.76945461850181,23.45025376043615,16.143363874348804,36.2513269800402,32.65480836097482,41.31965089146526,33.52954210431399,29.89915508193823,29.608480444197372,15.693769509007216,6.352170506978105,11.152775408903025,31.630694143735163,6.603769598146219,44.57290256793121,2.1755412449033953,46.743435254172184,47.996899056002114,40.899986766566485,15.398560002393186,10.105385021296936,18.410666628063648,26.859551690270738,17.89645125903695,4.786420854568984,39.38259580842012,44.15321250851898,33.75944762611196,42.78767138145616,28.28164153248901,49.74831286973538,43.984841294408334,35.12946591823159,17.06180565557173,3.6647629752244724,22.75650269790069,36.128322142344025,34.815487871583464,33.00245212476059,4.8893676158866475,42.34546502695595,39.94348973564899,24.395841581185902,11.68653335066654,11.113177021831355,27.260609347081736,19.787388941630475,21.48977212338796,37.03162748295043,26.42017119594284,27.17904573565794,6.799991655617754,37.37764843057544,0.6678122161363376,8.851151306520693,22.002380503189954,48.97824067407976,49.124296598461676,24.43061891583604,14.451654925809576,29.77545090493223,11.549069574086168,35.14537965977682,46.95604941657302,38.04556115937061,21.850737081641054,18.619660154730983,11.544401150063138,31.034365006350345,5.4875868077910175,0.6446936373977197,32.80884345895677,32.63165651327551,16.34074339922777,31.502106019417976,4.086384343003618,16.631847270476136]}];\n",
       " var layout_yOoPE7pBss = {\"height\":550,\"width\":600,\"hovermode\":\"closest\",\"legend\":{\"orientation\":\"v\"},\"title\":{\"text\":\"First Chart - Function Chaining\"},\"showlegend\":true,\"xaxis\":{\"showgrid\":true,\"zeroline\":false,\"showline\":false},\"yaxis\":{\"showgrid\":true,\"zeroline\":false,\"showline\":false}};\n",
       " var config_yOoPE7pBss = {\"responsive\":true,\"scrollZoom\":true,\"displaylogo\":false};\n",
       " Plotly.newPlot(\"graph_yOoPE7pBss\", traces_yOoPE7pBss, layout_yOoPE7pBss, config_yOoPE7pBss);\n",
       "</script> \n"
      ]
     },
     "metadata": {},
     "output_type": "display_data"
    }
   ],
   "source": [
    "// sometimes we may specify many options. In such cases it is clearer to use function chaining as below:\n",
    "val series = XY(x, y)\n",
    "            .asType(SCATTER)\n",
    "            .drawMarkers  // This is to help leverage the IDE autocompletion for quick scripting\n",
    "\n",
    "val chart = Chart()\n",
    "            .addSeries(series)\n",
    "            .setTitle(\"First Chart - Function Chaining\")\n",
    "            // by specifying axes we can get rid of the zerolines\n",
    "            .addAxes(XAxis(zeroline = false), YAxis(zeroline = false)) \n",
    "\n",
    "chart.plotInline"
   ]
  },
  {
   "cell_type": "markdown",
   "metadata": {},
   "source": [
    "#### Bar Chart\n",
    "\n",
    "Now using the same principles as above, let's create a `Bar` chart:"
   ]
  },
  {
   "cell_type": "code",
   "execution_count": 8,
   "metadata": {},
   "outputs": [
    {
     "data": {
      "text/html": [
       "<div id=\"grid-container_xxiuFfh1bv\" class=\"grid-container\" align=\"center\"> \n",
       "<div id=\"grid_xxiuFfh1bv\" class=\"grid\" align=\"center\"> \n",
       "<div id=\"graph_AEnMSODYpn\" class=\"graph\"></div> \n",
       "</div> \n",
       "</div> \n",
       "<script>\n",
       "var masonry = new Macy({\n",
       "    container: '#grid_xxiuFfh1bv',\n",
       "    debug: true,\n",
       "    mobileFirst: true,\n",
       "    columns: 1,\n",
       "    margin: {\n",
       "        x: 0,\n",
       "        y: 0\n",
       "    }\n",
       "  });\n",
       "\n",
       " var traces_AEnMSODYpn = [{\"name\":\"RwXKm11yul\",\"type\":\"bar\",\"x\":[\"a\",\"b\",\"c\"],\"y\":[10,20,300]}];\n",
       " var layout_AEnMSODYpn = {\"height\":550,\"width\":600,\"hovermode\":\"closest\",\"legend\":{\"orientation\":\"v\"},\"title\":{\"text\":\"Bar Chart\"},\"showlegend\":true};\n",
       " var config_AEnMSODYpn = {\"responsive\":false,\"scrollZoom\":false,\"displaylogo\":false};\n",
       " Plotly.newPlot(\"graph_AEnMSODYpn\", traces_AEnMSODYpn, layout_AEnMSODYpn, config_AEnMSODYpn);\n",
       "</script> \n"
      ]
     },
     "metadata": {},
     "output_type": "display_data"
    }
   ],
   "source": [
    "// First we create some data for the piechart\n",
    "val x_bar = List(\"a\", \"b\", \"c\")\n",
    "val y_bar = List(10, 20, 300)\n",
    "\n",
    "// again feed in the data that we want to represent as a Bar chart.\n",
    "// Notice how we change 'asType SCATTER' to 'asType BAR'\n",
    "val series = XY(x_bar, y_bar) asType BAR\n",
    "\n",
    "// we can turn off the scrollzoom using setConfig\n",
    "val chart = Chart() addSeries series setTitle \"Bar Chart\" setConfig(false, false)\n",
    "\n",
    "chart.plotInline"
   ]
  },
  {
   "cell_type": "markdown",
   "metadata": {},
   "source": [
    "#### Adding Multiple Series on the Same Axis\n",
    "\n",
    "Sometimes we may want to plot multiple `Series` on the same axis to compare different data series.\n",
    "\n",
    "Let's plot both of the above on the same pair of axis:"
   ]
  },
  {
   "cell_type": "code",
   "execution_count": 9,
   "metadata": {},
   "outputs": [],
   "source": [
    "// we import the marker option which lets us specify the marker\n",
    "import org.carbonateresearch.picta.options.Marker\n",
    "\n",
    "// these are the various shapes for the markers\n",
    "import org.carbonateresearch.picta.options.SymbolShape.{CIRCLE, SQUARE_OPEN}"
   ]
  },
  {
   "cell_type": "code",
   "execution_count": 10,
   "metadata": {},
   "outputs": [
    {
     "data": {
      "text/html": [
       "<div id=\"grid-container_F5hwtlfpHX\" class=\"grid-container\" align=\"center\"> \n",
       "<div id=\"grid_F5hwtlfpHX\" class=\"grid\" align=\"center\"> \n",
       "<div id=\"graph_H7USwykXBn\" class=\"graph\"></div> \n",
       "</div> \n",
       "</div> \n",
       "<script>\n",
       "var masonry = new Macy({\n",
       "    container: '#grid_F5hwtlfpHX',\n",
       "    debug: true,\n",
       "    mobileFirst: true,\n",
       "    columns: 1,\n",
       "    margin: {\n",
       "        x: 0,\n",
       "        y: 0\n",
       "    }\n",
       "  });\n",
       "\n",
       " var traces_H7USwykXBn = [{\"name\":\"Bar\",\"type\":\"bar\",\"x\":[42.55838227418825,42.985312872626004,33.62137884324039,10.936282841992211,24.940975638542213,45.12864792149333,0.6945833089269215,17.721760433077964,9.061531097178616,22.795226112612166,2.1415090326446395,25.68742833606316,26.543202152687527,40.60810620201081,43.99867346750629,44.03345289504285,17.104145894912747,42.14986508117444,14.390516270136805,19.2247086504215,40.5765960787733,40.14190676458602,45.77546115831438,30.120638964160978,32.36125488794008,11.791976942818415,0.44375172613522196,49.0773013437432,24.75507800430351,46.71130480978271,4.073270031695508,27.58025398579705,42.96744705285339,39.382877723189,8.057756885841544,10.328266239020495,22.579178261686078,26.804934871380702,43.792554618608385,16.11165751077724,34.70079062113787,44.63884126228883,41.13619115289731,47.31541715994283,46.15087718376778,11.958087177420145,18.8618415695327,2.4260553892382077,34.602414587833884,5.525220943222231,17.07088039944484,17.532503517882585,22.834261634585097,49.416133009198774,30.2614662694879,3.4851528968011136,41.97707787504171,24.766131286214737,15.028303517342106,25.113529817124423,30.957331121659188,47.429906497065915,38.21538956702016,37.70183836910646,28.220028629819698,18.42747794090393,49.75182825108095,3.7830145101515997,12.250243024002593,23.190854948470136,9.371421264529634,10.235714888403564,49.41547196851058,40.831185145864474,17.95000181875825,41.65499801670566,11.215323909172369,23.91377446033006,2.290160812297054,41.01630073238532,28.15195348992453,22.55839689490505,26.841212444526896,2.763627042935873,4.12416143298212,4.0749410485400706,7.062963599659344,46.626694149749184,23.499980222175264,10.799482625177632,26.925041837508324,12.708116446187134,42.837075110472554,4.3134506939191075,17.379251108802922,49.680531740842774,20.597177757430014,13.808666507475237,33.55061170207739,38.29489901793637],\"y\":[1.1402934902688955,40.003573694536925,25.863469971863058,1.8250371254620756,33.78631157236301,13.721069803036261,34.35223351115953,3.559782684348678,23.796146079208626,20.005950507300224,46.00202080450122,19.002991038805828,29.751470916044497,24.490002876095986,42.1226948023023,47.05292810466627,41.00156588440043,28.60543037091348,26.48046744458418,40.106417675008984,39.5977384201774,34.20230414961292,15.194464033542154,37.76945461850181,23.45025376043615,16.143363874348804,36.2513269800402,32.65480836097482,41.31965089146526,33.52954210431399,29.89915508193823,29.608480444197372,15.693769509007216,6.352170506978105,11.152775408903025,31.630694143735163,6.603769598146219,44.57290256793121,2.1755412449033953,46.743435254172184,47.996899056002114,40.899986766566485,15.398560002393186,10.105385021296936,18.410666628063648,26.859551690270738,17.89645125903695,4.786420854568984,39.38259580842012,44.15321250851898,33.75944762611196,42.78767138145616,28.28164153248901,49.74831286973538,43.984841294408334,35.12946591823159,17.06180565557173,3.6647629752244724,22.75650269790069,36.128322142344025,34.815487871583464,33.00245212476059,4.8893676158866475,42.34546502695595,39.94348973564899,24.395841581185902,11.68653335066654,11.113177021831355,27.260609347081736,19.787388941630475,21.48977212338796,37.03162748295043,26.42017119594284,27.17904573565794,6.799991655617754,37.37764843057544,0.6678122161363376,8.851151306520693,22.002380503189954,48.97824067407976,49.124296598461676,24.43061891583604,14.451654925809576,29.77545090493223,11.549069574086168,35.14537965977682,46.95604941657302,38.04556115937061,21.850737081641054,18.619660154730983,11.544401150063138,31.034365006350345,5.4875868077910175,0.6446936373977197,32.80884345895677,32.63165651327551,16.34074339922777,31.502106019417976,4.086384343003618,16.631847270476136]},{\"name\":\"Scatter\",\"type\":\"scatter\",\"mode\":\"markers\",\"marker\":{\"symbol\":\"square-open\",\"color\":\"red\"},\"x\":[42.55838227418825,42.985312872626004,33.62137884324039,10.936282841992211,24.940975638542213,45.12864792149333,0.6945833089269215,17.721760433077964,9.061531097178616,22.795226112612166,2.1415090326446395,25.68742833606316,26.543202152687527,40.60810620201081,43.99867346750629,44.03345289504285,17.104145894912747,42.14986508117444,14.390516270136805,19.2247086504215,40.5765960787733,40.14190676458602,45.77546115831438,30.120638964160978,32.36125488794008,11.791976942818415,0.44375172613522196,49.0773013437432,24.75507800430351,46.71130480978271,4.073270031695508,27.58025398579705,42.96744705285339,39.382877723189,8.057756885841544,10.328266239020495,22.579178261686078,26.804934871380702,43.792554618608385,16.11165751077724,34.70079062113787,44.63884126228883,41.13619115289731,47.31541715994283,46.15087718376778,11.958087177420145,18.8618415695327,2.4260553892382077,34.602414587833884,5.525220943222231,17.07088039944484,17.532503517882585,22.834261634585097,49.416133009198774,30.2614662694879,3.4851528968011136,41.97707787504171,24.766131286214737,15.028303517342106,25.113529817124423,30.957331121659188,47.429906497065915,38.21538956702016,37.70183836910646,28.220028629819698,18.42747794090393,49.75182825108095,3.7830145101515997,12.250243024002593,23.190854948470136,9.371421264529634,10.235714888403564,49.41547196851058,40.831185145864474,17.95000181875825,41.65499801670566,11.215323909172369,23.91377446033006,2.290160812297054,41.01630073238532,28.15195348992453,22.55839689490505,26.841212444526896,2.763627042935873,4.12416143298212,4.0749410485400706,7.062963599659344,46.626694149749184,23.499980222175264,10.799482625177632,26.925041837508324,12.708116446187134,42.837075110472554,4.3134506939191075,17.379251108802922,49.680531740842774,20.597177757430014,13.808666507475237,33.55061170207739,38.29489901793637],\"y\":[1.1402934902688955,40.003573694536925,25.863469971863058,1.8250371254620756,33.78631157236301,13.721069803036261,34.35223351115953,3.559782684348678,23.796146079208626,20.005950507300224,46.00202080450122,19.002991038805828,29.751470916044497,24.490002876095986,42.1226948023023,47.05292810466627,41.00156588440043,28.60543037091348,26.48046744458418,40.106417675008984,39.5977384201774,34.20230414961292,15.194464033542154,37.76945461850181,23.45025376043615,16.143363874348804,36.2513269800402,32.65480836097482,41.31965089146526,33.52954210431399,29.89915508193823,29.608480444197372,15.693769509007216,6.352170506978105,11.152775408903025,31.630694143735163,6.603769598146219,44.57290256793121,2.1755412449033953,46.743435254172184,47.996899056002114,40.899986766566485,15.398560002393186,10.105385021296936,18.410666628063648,26.859551690270738,17.89645125903695,4.786420854568984,39.38259580842012,44.15321250851898,33.75944762611196,42.78767138145616,28.28164153248901,49.74831286973538,43.984841294408334,35.12946591823159,17.06180565557173,3.6647629752244724,22.75650269790069,36.128322142344025,34.815487871583464,33.00245212476059,4.8893676158866475,42.34546502695595,39.94348973564899,24.395841581185902,11.68653335066654,11.113177021831355,27.260609347081736,19.787388941630475,21.48977212338796,37.03162748295043,26.42017119594284,27.17904573565794,6.799991655617754,37.37764843057544,0.6678122161363376,8.851151306520693,22.002380503189954,48.97824067407976,49.124296598461676,24.43061891583604,14.451654925809576,29.77545090493223,11.549069574086168,35.14537965977682,46.95604941657302,38.04556115937061,21.850737081641054,18.619660154730983,11.544401150063138,31.034365006350345,5.4875868077910175,0.6446936373977197,32.80884345895677,32.63165651327551,16.34074339922777,31.502106019417976,4.086384343003618,16.631847270476136]}];\n",
       " var layout_H7USwykXBn = {\"height\":550,\"width\":600,\"hovermode\":\"closest\",\"legend\":{\"orientation\":\"v\"},\"showlegend\":true};\n",
       " var config_H7USwykXBn = {\"responsive\":true,\"scrollZoom\":true,\"displaylogo\":false};\n",
       " Plotly.newPlot(\"graph_H7USwykXBn\", traces_H7USwykXBn, layout_H7USwykXBn, config_H7USwykXBn);\n",
       "</script> \n"
      ]
     },
     "metadata": {},
     "output_type": "display_data"
    }
   ],
   "source": [
    "// additional traces can simply be composed with an existing chart and added on\n",
    "val series1 = XY(x, y) asType BAR setName \"Bar\"\n",
    "\n",
    "// lets give the second series a red marker. Again we can 'compose' a marker using smaller components\n",
    "val marker = Marker() setSymbol SQUARE_OPEN setColor \"red\"\n",
    "\n",
    "val series2 = XY(x, y) asType SCATTER setName \"Scatter\" drawStyle MARKERS setMarker marker\n",
    "\n",
    "// we not put brackets in the 'addSeries' function to ensure that addSeries picks up the right series'\n",
    "val chart = Chart() addSeries(series1, series2)\n",
    "\n",
    "chart.plotInline"
   ]
  },
  {
   "cell_type": "markdown",
   "metadata": {},
   "source": [
    "### Lets Change The Appearance of The Markers\n",
    "\n",
    "We can control the appearance of the markers by setting the width"
   ]
  },
  {
   "cell_type": "code",
   "execution_count": 11,
   "metadata": {},
   "outputs": [
    {
     "data": {
      "text/html": [
       "<div id=\"grid-container_eR3WkiYFmV\" class=\"grid-container\" align=\"center\"> \n",
       "<div id=\"grid_eR3WkiYFmV\" class=\"grid\" align=\"center\"> \n",
       "<div id=\"graph_hewxLP7tdS\" class=\"graph\"></div> \n",
       "</div> \n",
       "</div> \n",
       "<script>\n",
       "var masonry = new Macy({\n",
       "    container: '#grid_eR3WkiYFmV',\n",
       "    debug: true,\n",
       "    mobileFirst: true,\n",
       "    columns: 1,\n",
       "    margin: {\n",
       "        x: 0,\n",
       "        y: 0\n",
       "    }\n",
       "  });\n",
       "\n",
       " var traces_hewxLP7tdS = [{\"name\":\"Bar\",\"type\":\"bar\",\"x\":[42.55838227418825,42.985312872626004,33.62137884324039,10.936282841992211,24.940975638542213,45.12864792149333,0.6945833089269215,17.721760433077964,9.061531097178616,22.795226112612166,2.1415090326446395,25.68742833606316,26.543202152687527,40.60810620201081,43.99867346750629,44.03345289504285,17.104145894912747,42.14986508117444,14.390516270136805,19.2247086504215,40.5765960787733,40.14190676458602,45.77546115831438,30.120638964160978,32.36125488794008,11.791976942818415,0.44375172613522196,49.0773013437432,24.75507800430351,46.71130480978271,4.073270031695508,27.58025398579705,42.96744705285339,39.382877723189,8.057756885841544,10.328266239020495,22.579178261686078,26.804934871380702,43.792554618608385,16.11165751077724,34.70079062113787,44.63884126228883,41.13619115289731,47.31541715994283,46.15087718376778,11.958087177420145,18.8618415695327,2.4260553892382077,34.602414587833884,5.525220943222231,17.07088039944484,17.532503517882585,22.834261634585097,49.416133009198774,30.2614662694879,3.4851528968011136,41.97707787504171,24.766131286214737,15.028303517342106,25.113529817124423,30.957331121659188,47.429906497065915,38.21538956702016,37.70183836910646,28.220028629819698,18.42747794090393,49.75182825108095,3.7830145101515997,12.250243024002593,23.190854948470136,9.371421264529634,10.235714888403564,49.41547196851058,40.831185145864474,17.95000181875825,41.65499801670566,11.215323909172369,23.91377446033006,2.290160812297054,41.01630073238532,28.15195348992453,22.55839689490505,26.841212444526896,2.763627042935873,4.12416143298212,4.0749410485400706,7.062963599659344,46.626694149749184,23.499980222175264,10.799482625177632,26.925041837508324,12.708116446187134,42.837075110472554,4.3134506939191075,17.379251108802922,49.680531740842774,20.597177757430014,13.808666507475237,33.55061170207739,38.29489901793637],\"y\":[1.1402934902688955,40.003573694536925,25.863469971863058,1.8250371254620756,33.78631157236301,13.721069803036261,34.35223351115953,3.559782684348678,23.796146079208626,20.005950507300224,46.00202080450122,19.002991038805828,29.751470916044497,24.490002876095986,42.1226948023023,47.05292810466627,41.00156588440043,28.60543037091348,26.48046744458418,40.106417675008984,39.5977384201774,34.20230414961292,15.194464033542154,37.76945461850181,23.45025376043615,16.143363874348804,36.2513269800402,32.65480836097482,41.31965089146526,33.52954210431399,29.89915508193823,29.608480444197372,15.693769509007216,6.352170506978105,11.152775408903025,31.630694143735163,6.603769598146219,44.57290256793121,2.1755412449033953,46.743435254172184,47.996899056002114,40.899986766566485,15.398560002393186,10.105385021296936,18.410666628063648,26.859551690270738,17.89645125903695,4.786420854568984,39.38259580842012,44.15321250851898,33.75944762611196,42.78767138145616,28.28164153248901,49.74831286973538,43.984841294408334,35.12946591823159,17.06180565557173,3.6647629752244724,22.75650269790069,36.128322142344025,34.815487871583464,33.00245212476059,4.8893676158866475,42.34546502695595,39.94348973564899,24.395841581185902,11.68653335066654,11.113177021831355,27.260609347081736,19.787388941630475,21.48977212338796,37.03162748295043,26.42017119594284,27.17904573565794,6.799991655617754,37.37764843057544,0.6678122161363376,8.851151306520693,22.002380503189954,48.97824067407976,49.124296598461676,24.43061891583604,14.451654925809576,29.77545090493223,11.549069574086168,35.14537965977682,46.95604941657302,38.04556115937061,21.850737081641054,18.619660154730983,11.544401150063138,31.034365006350345,5.4875868077910175,0.6446936373977197,32.80884345895677,32.63165651327551,16.34074339922777,31.502106019417976,4.086384343003618,16.631847270476136]},{\"name\":\"Scatter\",\"type\":\"scatter\",\"mode\":\"markers\",\"marker\":{\"symbol\":\"circle\",\"color\":\"red\",\"line\":{\"width\":2,\"color\":\"black\"},\"size\":[10,10,10,10,10,10,10,10,10,10,10,10,10,10,10,10,10,10,10,10,10,10,10,10,10,10,10,10,10,10,10,10,10,10,10,10,10,10,10,10,10,10,10,10,10,10,10,10,10,10,10,10,10,10,10,10,10,10,10,10,10,10,10,10,10,10,10,10,10,10,10,10,10,10,10,10,10,10,10,10,10,10,10,10,10,10,10,10,10,10,10,10,10,10,10,10,10,10,10,10]},\"x\":[42.55838227418825,42.985312872626004,33.62137884324039,10.936282841992211,24.940975638542213,45.12864792149333,0.6945833089269215,17.721760433077964,9.061531097178616,22.795226112612166,2.1415090326446395,25.68742833606316,26.543202152687527,40.60810620201081,43.99867346750629,44.03345289504285,17.104145894912747,42.14986508117444,14.390516270136805,19.2247086504215,40.5765960787733,40.14190676458602,45.77546115831438,30.120638964160978,32.36125488794008,11.791976942818415,0.44375172613522196,49.0773013437432,24.75507800430351,46.71130480978271,4.073270031695508,27.58025398579705,42.96744705285339,39.382877723189,8.057756885841544,10.328266239020495,22.579178261686078,26.804934871380702,43.792554618608385,16.11165751077724,34.70079062113787,44.63884126228883,41.13619115289731,47.31541715994283,46.15087718376778,11.958087177420145,18.8618415695327,2.4260553892382077,34.602414587833884,5.525220943222231,17.07088039944484,17.532503517882585,22.834261634585097,49.416133009198774,30.2614662694879,3.4851528968011136,41.97707787504171,24.766131286214737,15.028303517342106,25.113529817124423,30.957331121659188,47.429906497065915,38.21538956702016,37.70183836910646,28.220028629819698,18.42747794090393,49.75182825108095,3.7830145101515997,12.250243024002593,23.190854948470136,9.371421264529634,10.235714888403564,49.41547196851058,40.831185145864474,17.95000181875825,41.65499801670566,11.215323909172369,23.91377446033006,2.290160812297054,41.01630073238532,28.15195348992453,22.55839689490505,26.841212444526896,2.763627042935873,4.12416143298212,4.0749410485400706,7.062963599659344,46.626694149749184,23.499980222175264,10.799482625177632,26.925041837508324,12.708116446187134,42.837075110472554,4.3134506939191075,17.379251108802922,49.680531740842774,20.597177757430014,13.808666507475237,33.55061170207739,38.29489901793637],\"y\":[1.1402934902688955,40.003573694536925,25.863469971863058,1.8250371254620756,33.78631157236301,13.721069803036261,34.35223351115953,3.559782684348678,23.796146079208626,20.005950507300224,46.00202080450122,19.002991038805828,29.751470916044497,24.490002876095986,42.1226948023023,47.05292810466627,41.00156588440043,28.60543037091348,26.48046744458418,40.106417675008984,39.5977384201774,34.20230414961292,15.194464033542154,37.76945461850181,23.45025376043615,16.143363874348804,36.2513269800402,32.65480836097482,41.31965089146526,33.52954210431399,29.89915508193823,29.608480444197372,15.693769509007216,6.352170506978105,11.152775408903025,31.630694143735163,6.603769598146219,44.57290256793121,2.1755412449033953,46.743435254172184,47.996899056002114,40.899986766566485,15.398560002393186,10.105385021296936,18.410666628063648,26.859551690270738,17.89645125903695,4.786420854568984,39.38259580842012,44.15321250851898,33.75944762611196,42.78767138145616,28.28164153248901,49.74831286973538,43.984841294408334,35.12946591823159,17.06180565557173,3.6647629752244724,22.75650269790069,36.128322142344025,34.815487871583464,33.00245212476059,4.8893676158866475,42.34546502695595,39.94348973564899,24.395841581185902,11.68653335066654,11.113177021831355,27.260609347081736,19.787388941630475,21.48977212338796,37.03162748295043,26.42017119594284,27.17904573565794,6.799991655617754,37.37764843057544,0.6678122161363376,8.851151306520693,22.002380503189954,48.97824067407976,49.124296598461676,24.43061891583604,14.451654925809576,29.77545090493223,11.549069574086168,35.14537965977682,46.95604941657302,38.04556115937061,21.850737081641054,18.619660154730983,11.544401150063138,31.034365006350345,5.4875868077910175,0.6446936373977197,32.80884345895677,32.63165651327551,16.34074339922777,31.502106019417976,4.086384343003618,16.631847270476136]}];\n",
       " var layout_hewxLP7tdS = {\"height\":550,\"width\":600,\"hovermode\":\"closest\",\"legend\":{\"orientation\":\"v\"},\"showlegend\":true};\n",
       " var config_hewxLP7tdS = {\"responsive\":false,\"scrollZoom\":false,\"displaylogo\":false};\n",
       " Plotly.newPlot(\"graph_hewxLP7tdS\", traces_hewxLP7tdS, layout_hewxLP7tdS, config_hewxLP7tdS);\n",
       "</script> \n"
      ]
     },
     "metadata": {},
     "output_type": "display_data"
    }
   ],
   "source": [
    "// we can pass in the size of the markers\n",
    "val sizes = List.range(0, 100).map(x => 10)\n",
    "\n",
    "// additional traces can simply be composed with an existing chart and added on\n",
    "val series1 = XY(x, y) asType BAR setName \"Bar\"\n",
    "\n",
    "// lets give the second series a red marker. Again we can 'compose' a marker using smaller components\n",
    "val marker = (\n",
    "    Marker() \n",
    "    // sets the marker shape\n",
    "    setSymbol CIRCLE\n",
    "    // sets the fill to red\n",
    "    setColor \"red\" \n",
    "    // sets the outline to black, with width 2\n",
    "    setLine(width = 2, \"black\")\n",
    "    // set the size of the markers to 10 as per the list we created\n",
    "    setSize(sizes)\n",
    ") \n",
    "\n",
    "val series2 = XY(x, y) asType SCATTER setName \"Scatter\" drawStyle MARKERS setMarker marker\n",
    "\n",
    "// we not put brackets in the 'addSeries' function to ensure that addSeries picks up the right series'\n",
    "val chart = Chart() addSeries(series1, series2) setConfig(false, false)\n",
    "\n",
    "chart.plotInline"
   ]
  },
  {
   "cell_type": "markdown",
   "metadata": {},
   "source": [
    "### Adding Another Axes\n",
    "\n",
    "Sometimes we may wish to plot multiple series, but on two different Axes. We can do this as follows:"
   ]
  },
  {
   "cell_type": "code",
   "execution_count": 12,
   "metadata": {},
   "outputs": [
    {
     "data": {
      "text/html": [
       "<div id=\"grid-container_qeLlhwuE8K\" class=\"grid-container\" align=\"center\"> \n",
       "<div id=\"grid_qeLlhwuE8K\" class=\"grid\" align=\"center\"> \n",
       "<div id=\"graph_59kw7BZORU\" class=\"graph\"></div> \n",
       "</div> \n",
       "</div> \n",
       "<script>\n",
       "var masonry = new Macy({\n",
       "    container: '#grid_qeLlhwuE8K',\n",
       "    debug: true,\n",
       "    mobileFirst: true,\n",
       "    columns: 1,\n",
       "    margin: {\n",
       "        x: 0,\n",
       "        y: 0\n",
       "    }\n",
       "  });\n",
       "\n",
       " var traces_59kw7BZORU = [{\"name\":\"OmZHG9LAFo\",\"type\":\"scatter\",\"mode\":\"markers\",\"x\":[42.55838227418825,42.985312872626004,33.62137884324039,10.936282841992211,24.940975638542213,45.12864792149333,0.6945833089269215,17.721760433077964,9.061531097178616,22.795226112612166,2.1415090326446395,25.68742833606316,26.543202152687527,40.60810620201081,43.99867346750629,44.03345289504285,17.104145894912747,42.14986508117444,14.390516270136805,19.2247086504215,40.5765960787733,40.14190676458602,45.77546115831438,30.120638964160978,32.36125488794008,11.791976942818415,0.44375172613522196,49.0773013437432,24.75507800430351,46.71130480978271,4.073270031695508,27.58025398579705,42.96744705285339,39.382877723189,8.057756885841544,10.328266239020495,22.579178261686078,26.804934871380702,43.792554618608385,16.11165751077724,34.70079062113787,44.63884126228883,41.13619115289731,47.31541715994283,46.15087718376778,11.958087177420145,18.8618415695327,2.4260553892382077,34.602414587833884,5.525220943222231,17.07088039944484,17.532503517882585,22.834261634585097,49.416133009198774,30.2614662694879,3.4851528968011136,41.97707787504171,24.766131286214737,15.028303517342106,25.113529817124423,30.957331121659188,47.429906497065915,38.21538956702016,37.70183836910646,28.220028629819698,18.42747794090393,49.75182825108095,3.7830145101515997,12.250243024002593,23.190854948470136,9.371421264529634,10.235714888403564,49.41547196851058,40.831185145864474,17.95000181875825,41.65499801670566,11.215323909172369,23.91377446033006,2.290160812297054,41.01630073238532,28.15195348992453,22.55839689490505,26.841212444526896,2.763627042935873,4.12416143298212,4.0749410485400706,7.062963599659344,46.626694149749184,23.499980222175264,10.799482625177632,26.925041837508324,12.708116446187134,42.837075110472554,4.3134506939191075,17.379251108802922,49.680531740842774,20.597177757430014,13.808666507475237,33.55061170207739,38.29489901793637],\"y\":[1.1402934902688955,40.003573694536925,25.863469971863058,1.8250371254620756,33.78631157236301,13.721069803036261,34.35223351115953,3.559782684348678,23.796146079208626,20.005950507300224,46.00202080450122,19.002991038805828,29.751470916044497,24.490002876095986,42.1226948023023,47.05292810466627,41.00156588440043,28.60543037091348,26.48046744458418,40.106417675008984,39.5977384201774,34.20230414961292,15.194464033542154,37.76945461850181,23.45025376043615,16.143363874348804,36.2513269800402,32.65480836097482,41.31965089146526,33.52954210431399,29.89915508193823,29.608480444197372,15.693769509007216,6.352170506978105,11.152775408903025,31.630694143735163,6.603769598146219,44.57290256793121,2.1755412449033953,46.743435254172184,47.996899056002114,40.899986766566485,15.398560002393186,10.105385021296936,18.410666628063648,26.859551690270738,17.89645125903695,4.786420854568984,39.38259580842012,44.15321250851898,33.75944762611196,42.78767138145616,28.28164153248901,49.74831286973538,43.984841294408334,35.12946591823159,17.06180565557173,3.6647629752244724,22.75650269790069,36.128322142344025,34.815487871583464,33.00245212476059,4.8893676158866475,42.34546502695595,39.94348973564899,24.395841581185902,11.68653335066654,11.113177021831355,27.260609347081736,19.787388941630475,21.48977212338796,37.03162748295043,26.42017119594284,27.17904573565794,6.799991655617754,37.37764843057544,0.6678122161363376,8.851151306520693,22.002380503189954,48.97824067407976,49.124296598461676,24.43061891583604,14.451654925809576,29.77545090493223,11.549069574086168,35.14537965977682,46.95604941657302,38.04556115937061,21.850737081641054,18.619660154730983,11.544401150063138,31.034365006350345,5.4875868077910175,0.6446936373977197,32.80884345895677,32.63165651327551,16.34074339922777,31.502106019417976,4.086384343003618,16.631847270476136]},{\"name\":\"xAdOIYtgDK\",\"type\":\"scatter\",\"mode\":\"markers\",\"yaxis\":\"y2\",\"x\":[42.55838227418825,42.985312872626004,33.62137884324039,10.936282841992211,24.940975638542213,45.12864792149333,0.6945833089269215,17.721760433077964,9.061531097178616,22.795226112612166,2.1415090326446395,25.68742833606316,26.543202152687527,40.60810620201081,43.99867346750629,44.03345289504285,17.104145894912747,42.14986508117444,14.390516270136805,19.2247086504215,40.5765960787733,40.14190676458602,45.77546115831438,30.120638964160978,32.36125488794008,11.791976942818415,0.44375172613522196,49.0773013437432,24.75507800430351,46.71130480978271,4.073270031695508,27.58025398579705,42.96744705285339,39.382877723189,8.057756885841544,10.328266239020495,22.579178261686078,26.804934871380702,43.792554618608385,16.11165751077724,34.70079062113787,44.63884126228883,41.13619115289731,47.31541715994283,46.15087718376778,11.958087177420145,18.8618415695327,2.4260553892382077,34.602414587833884,5.525220943222231,17.07088039944484,17.532503517882585,22.834261634585097,49.416133009198774,30.2614662694879,3.4851528968011136,41.97707787504171,24.766131286214737,15.028303517342106,25.113529817124423,30.957331121659188,47.429906497065915,38.21538956702016,37.70183836910646,28.220028629819698,18.42747794090393,49.75182825108095,3.7830145101515997,12.250243024002593,23.190854948470136,9.371421264529634,10.235714888403564,49.41547196851058,40.831185145864474,17.95000181875825,41.65499801670566,11.215323909172369,23.91377446033006,2.290160812297054,41.01630073238532,28.15195348992453,22.55839689490505,26.841212444526896,2.763627042935873,4.12416143298212,4.0749410485400706,7.062963599659344,46.626694149749184,23.499980222175264,10.799482625177632,26.925041837508324,12.708116446187134,42.837075110472554,4.3134506939191075,17.379251108802922,49.680531740842774,20.597177757430014,13.808666507475237,33.55061170207739,38.29489901793637],\"y\":[10.644474610637733,19.622237886132304,21.275787629016797,38.113992096192526,9.122659457931508,34.627289165742894,27.181929939331752,20.52330617110243,3.6073331563565016,5.139215974281947,3.937980138769992,20.14759435790527,21.10471629803694,14.124903818864842,2.2764504301393984,42.855848604138686,16.526075056907807,36.006228312087835,24.203396775481156,30.202582233737257,25.11520406051791,15.28016550191143,29.975711427667047,13.300310523741516,16.981290329049354,5.974220496092353,21.18969064535961,3.223905318136949,9.085359158536821,24.9050031852354,9.259742768378631,46.13439225453174,4.530466466211497,19.412862834231177,12.599299510918083,19.796074787551866,45.07024743306448,12.013077511542663,36.411722978106305,35.7096998185789,30.377377643632208,10.234162623167709,26.157175355304503,37.695717934198555,26.802984608322873,9.806446505573946,49.48213580695988,3.435510193376073,9.109955780851164,23.319137757736236,1.6814532283562778,10.214765751915778,0.9775893554182569,34.48168993247449,46.60852082476009,19.912076368118292,3.951954136752706,10.20534393077972,48.357360969171665,21.137068300391576,29.95578904571243,48.86330291019226,19.01112535285805,38.346278566107344,29.473726219541003,3.293086610951723,4.284692447883271,28.751284914383795,36.0930843056413,41.3721725477422,1.984777115396874,37.8824334027769,28.207405727392292,45.328121605168306,7.869150019247634,23.782827220418383,40.37939282705772,3.3369552927285664,9.707276317710194,37.981084856025205,40.111836006670465,13.418648943718415,3.1278762230326773,18.627688244010777,20.589578172278735,0.1561482708662354,32.18463733825529,7.478572799601125,46.332532135747684,39.344433324511776,13.479476325997686,47.77095829416561,26.639182165268892,44.31870173068652,35.153480604420814,4.460204093817599,31.202006612452017,40.41584430607299,31.088854348150775,21.77285681038079]}];\n",
       " var layout_59kw7BZORU = {\"height\":550,\"width\":600,\"hovermode\":\"closest\",\"legend\":{\"orientation\":\"v\"},\"title\":{\"text\":\"Multiple Axes\"},\"showlegend\":true,\"xaxis\":{\"title\":{\"text\":\"X Axis\"},\"showgrid\":true,\"zeroline\":false,\"showline\":false},\"yaxis\":{\"title\":{\"text\":\"First Y Axis\"},\"showgrid\":true,\"zeroline\":false,\"showline\":false},\"yaxis2\":{\"title\":{\"text\":\"Second y axis\"},\"showgrid\":true,\"zeroline\":false,\"showline\":false,\"side\":\"right\",\"overlaying\":\"y\"}};\n",
       " var config_59kw7BZORU = {\"responsive\":false,\"scrollZoom\":false,\"displaylogo\":false};\n",
       " Plotly.newPlot(\"graph_59kw7BZORU\", traces_59kw7BZORU, layout_59kw7BZORU, config_59kw7BZORU);\n",
       "</script> \n"
      ]
     },
     "metadata": {},
     "output_type": "display_data"
    }
   ],
   "source": [
    "val series1 = XY(x, y) asType SCATTER drawStyle MARKERS\n",
    "\n",
    "// The following maps the series onto the second Y axis.\n",
    "val series2 = (\n",
    "    XY(x, z) \n",
    "    asType SCATTER \n",
    "    drawStyle MARKERS \n",
    "    setAxis YAxis(2)\n",
    ")\n",
    "      \n",
    "val chart = (\n",
    "    Chart() \n",
    "    setTitle \"Multiple Axes\"\n",
    "    // the following makes the chart unresponsive\n",
    "    setConfig(false, false) \n",
    "    addSeries(series1, series2) \n",
    "    // the following tells the chart how t render the second Y Axis\n",
    "    addAxes YAxis(position = 2, title = \"Second y axis\", overlaying = YAxis(), side = RIGHT)\n",
    "    addAxes YAxis(1, \"First Y Axis\")\n",
    "    addAxes XAxis(title = \"X Axis\")\n",
    ") \n",
    "\n",
    "// this is just for illustration purposes, but we can also do the following\n",
    "val canvas = Canvas() setChart(0, 0, chart)\n",
    "\n",
    "canvas.plotInline"
   ]
  },
  {
   "cell_type": "markdown",
   "metadata": {},
   "source": [
    "### Customizing the Axes\n",
    "\n",
    "As can be seen from some of the examples above, the axes were not set. While for quick data exploration the above is acceptable, for presentation purposes we would want named axes.\n",
    "\n",
    "We can do this as follows:"
   ]
  },
  {
   "cell_type": "code",
   "execution_count": 13,
   "metadata": {},
   "outputs": [
    {
     "data": {
      "text/html": [
       "<div id=\"grid-container_80jJxp2mSQ\" class=\"grid-container\" align=\"center\"> \n",
       "<div id=\"grid_80jJxp2mSQ\" class=\"grid\" align=\"center\"> \n",
       "<div id=\"graph_lwGTLb6LGV\" class=\"graph\"></div> \n",
       "</div> \n",
       "</div> \n",
       "<script>\n",
       "var masonry = new Macy({\n",
       "    container: '#grid_80jJxp2mSQ',\n",
       "    debug: true,\n",
       "    mobileFirst: true,\n",
       "    columns: 1,\n",
       "    margin: {\n",
       "        x: 0,\n",
       "        y: 0\n",
       "    }\n",
       "  });\n",
       "\n",
       " var traces_lwGTLb6LGV = [{\"name\":\"OmZHG9LAFo\",\"type\":\"scatter\",\"mode\":\"markers\",\"x\":[42.55838227418825,42.985312872626004,33.62137884324039,10.936282841992211,24.940975638542213,45.12864792149333,0.6945833089269215,17.721760433077964,9.061531097178616,22.795226112612166,2.1415090326446395,25.68742833606316,26.543202152687527,40.60810620201081,43.99867346750629,44.03345289504285,17.104145894912747,42.14986508117444,14.390516270136805,19.2247086504215,40.5765960787733,40.14190676458602,45.77546115831438,30.120638964160978,32.36125488794008,11.791976942818415,0.44375172613522196,49.0773013437432,24.75507800430351,46.71130480978271,4.073270031695508,27.58025398579705,42.96744705285339,39.382877723189,8.057756885841544,10.328266239020495,22.579178261686078,26.804934871380702,43.792554618608385,16.11165751077724,34.70079062113787,44.63884126228883,41.13619115289731,47.31541715994283,46.15087718376778,11.958087177420145,18.8618415695327,2.4260553892382077,34.602414587833884,5.525220943222231,17.07088039944484,17.532503517882585,22.834261634585097,49.416133009198774,30.2614662694879,3.4851528968011136,41.97707787504171,24.766131286214737,15.028303517342106,25.113529817124423,30.957331121659188,47.429906497065915,38.21538956702016,37.70183836910646,28.220028629819698,18.42747794090393,49.75182825108095,3.7830145101515997,12.250243024002593,23.190854948470136,9.371421264529634,10.235714888403564,49.41547196851058,40.831185145864474,17.95000181875825,41.65499801670566,11.215323909172369,23.91377446033006,2.290160812297054,41.01630073238532,28.15195348992453,22.55839689490505,26.841212444526896,2.763627042935873,4.12416143298212,4.0749410485400706,7.062963599659344,46.626694149749184,23.499980222175264,10.799482625177632,26.925041837508324,12.708116446187134,42.837075110472554,4.3134506939191075,17.379251108802922,49.680531740842774,20.597177757430014,13.808666507475237,33.55061170207739,38.29489901793637],\"y\":[1.1402934902688955,40.003573694536925,25.863469971863058,1.8250371254620756,33.78631157236301,13.721069803036261,34.35223351115953,3.559782684348678,23.796146079208626,20.005950507300224,46.00202080450122,19.002991038805828,29.751470916044497,24.490002876095986,42.1226948023023,47.05292810466627,41.00156588440043,28.60543037091348,26.48046744458418,40.106417675008984,39.5977384201774,34.20230414961292,15.194464033542154,37.76945461850181,23.45025376043615,16.143363874348804,36.2513269800402,32.65480836097482,41.31965089146526,33.52954210431399,29.89915508193823,29.608480444197372,15.693769509007216,6.352170506978105,11.152775408903025,31.630694143735163,6.603769598146219,44.57290256793121,2.1755412449033953,46.743435254172184,47.996899056002114,40.899986766566485,15.398560002393186,10.105385021296936,18.410666628063648,26.859551690270738,17.89645125903695,4.786420854568984,39.38259580842012,44.15321250851898,33.75944762611196,42.78767138145616,28.28164153248901,49.74831286973538,43.984841294408334,35.12946591823159,17.06180565557173,3.6647629752244724,22.75650269790069,36.128322142344025,34.815487871583464,33.00245212476059,4.8893676158866475,42.34546502695595,39.94348973564899,24.395841581185902,11.68653335066654,11.113177021831355,27.260609347081736,19.787388941630475,21.48977212338796,37.03162748295043,26.42017119594284,27.17904573565794,6.799991655617754,37.37764843057544,0.6678122161363376,8.851151306520693,22.002380503189954,48.97824067407976,49.124296598461676,24.43061891583604,14.451654925809576,29.77545090493223,11.549069574086168,35.14537965977682,46.95604941657302,38.04556115937061,21.850737081641054,18.619660154730983,11.544401150063138,31.034365006350345,5.4875868077910175,0.6446936373977197,32.80884345895677,32.63165651327551,16.34074339922777,31.502106019417976,4.086384343003618,16.631847270476136]}];\n",
       " var layout_lwGTLb6LGV = {\"height\":550,\"width\":600,\"hovermode\":\"closest\",\"legend\":{\"orientation\":\"v\"},\"title\":{\"text\":\"Chart with Axes\"},\"showlegend\":true,\"xaxis\":{\"title\":{\"text\":\"x variable\"},\"showgrid\":true,\"zeroline\":false,\"showline\":false},\"yaxis\":{\"title\":{\"text\":\"y variable\"},\"showgrid\":true,\"zeroline\":false,\"showline\":false}};\n",
       " var config_lwGTLb6LGV = {\"responsive\":true,\"scrollZoom\":true,\"displaylogo\":false};\n",
       " Plotly.newPlot(\"graph_lwGTLb6LGV\", traces_lwGTLb6LGV, layout_lwGTLb6LGV, config_lwGTLb6LGV);\n",
       "</script> \n"
      ]
     },
     "metadata": {},
     "output_type": "display_data"
    }
   ],
   "source": [
    "// We construct the axes and set their title\n",
    "val xaxis = XAxis(title = \"x variable\")\n",
    "val yaxis = YAxis(title = \"y variable\")\n",
    "\n",
    "// another way to do composition is to just add a bracket around the composition\n",
    "val chart = (\n",
    "    Chart()\n",
    "    setTitle \"Chart with Axes\"\n",
    "    addSeries(series1)\n",
    "    addAxes(xaxis, yaxis)\n",
    ")\n",
    "\n",
    "chart.plotInline"
   ]
  },
  {
   "cell_type": "markdown",
   "metadata": {},
   "source": [
    "### Display options - MultiCharts\n",
    "\n",
    "`MultiCharts` are a way to plot multiple axes on the same chart. This is seperate to Picta's grid system, which create a grid of subplot `Chart`'s. The next series of examples will make this clearer."
   ]
  },
  {
   "cell_type": "code",
   "execution_count": 14,
   "metadata": {},
   "outputs": [
    {
     "data": {
      "text/html": [
       "<div id=\"grid-container_uVhYFedS9g\" class=\"grid-container\" align=\"center\"> \n",
       "<div id=\"grid_uVhYFedS9g\" class=\"grid\" align=\"center\"> \n",
       "<div id=\"graph_WE1lLur4BO\" class=\"graph\"></div> \n",
       "</div> \n",
       "</div> \n",
       "<script>\n",
       "var masonry = new Macy({\n",
       "    container: '#grid_uVhYFedS9g',\n",
       "    debug: true,\n",
       "    mobileFirst: true,\n",
       "    columns: 1,\n",
       "    margin: {\n",
       "        x: 0,\n",
       "        y: 0\n",
       "    }\n",
       "  });\n",
       "\n",
       " var traces_WE1lLur4BO = [{\"name\":\"LPPw5cbsVK\",\"type\":\"scatter\",\"mode\":\"markers\",\"x\":[1,2,3],\"y\":[2,4,5]},{\"name\":\"04AAj6KCXv\",\"type\":\"scatter\",\"mode\":\"markers\",\"xaxis\":\"x2\",\"yaxis\":\"y2\",\"x\":[42.55838227418825,42.985312872626004,33.62137884324039,10.936282841992211,24.940975638542213,45.12864792149333,0.6945833089269215,17.721760433077964,9.061531097178616,22.795226112612166,2.1415090326446395,25.68742833606316,26.543202152687527,40.60810620201081,43.99867346750629,44.03345289504285,17.104145894912747,42.14986508117444,14.390516270136805,19.2247086504215,40.5765960787733,40.14190676458602,45.77546115831438,30.120638964160978,32.36125488794008,11.791976942818415,0.44375172613522196,49.0773013437432,24.75507800430351,46.71130480978271,4.073270031695508,27.58025398579705,42.96744705285339,39.382877723189,8.057756885841544,10.328266239020495,22.579178261686078,26.804934871380702,43.792554618608385,16.11165751077724,34.70079062113787,44.63884126228883,41.13619115289731,47.31541715994283,46.15087718376778,11.958087177420145,18.8618415695327,2.4260553892382077,34.602414587833884,5.525220943222231,17.07088039944484,17.532503517882585,22.834261634585097,49.416133009198774,30.2614662694879,3.4851528968011136,41.97707787504171,24.766131286214737,15.028303517342106,25.113529817124423,30.957331121659188,47.429906497065915,38.21538956702016,37.70183836910646,28.220028629819698,18.42747794090393,49.75182825108095,3.7830145101515997,12.250243024002593,23.190854948470136,9.371421264529634,10.235714888403564,49.41547196851058,40.831185145864474,17.95000181875825,41.65499801670566,11.215323909172369,23.91377446033006,2.290160812297054,41.01630073238532,28.15195348992453,22.55839689490505,26.841212444526896,2.763627042935873,4.12416143298212,4.0749410485400706,7.062963599659344,46.626694149749184,23.499980222175264,10.799482625177632,26.925041837508324,12.708116446187134,42.837075110472554,4.3134506939191075,17.379251108802922,49.680531740842774,20.597177757430014,13.808666507475237,33.55061170207739,38.29489901793637],\"y\":[1.1402934902688955,40.003573694536925,25.863469971863058,1.8250371254620756,33.78631157236301,13.721069803036261,34.35223351115953,3.559782684348678,23.796146079208626,20.005950507300224,46.00202080450122,19.002991038805828,29.751470916044497,24.490002876095986,42.1226948023023,47.05292810466627,41.00156588440043,28.60543037091348,26.48046744458418,40.106417675008984,39.5977384201774,34.20230414961292,15.194464033542154,37.76945461850181,23.45025376043615,16.143363874348804,36.2513269800402,32.65480836097482,41.31965089146526,33.52954210431399,29.89915508193823,29.608480444197372,15.693769509007216,6.352170506978105,11.152775408903025,31.630694143735163,6.603769598146219,44.57290256793121,2.1755412449033953,46.743435254172184,47.996899056002114,40.899986766566485,15.398560002393186,10.105385021296936,18.410666628063648,26.859551690270738,17.89645125903695,4.786420854568984,39.38259580842012,44.15321250851898,33.75944762611196,42.78767138145616,28.28164153248901,49.74831286973538,43.984841294408334,35.12946591823159,17.06180565557173,3.6647629752244724,22.75650269790069,36.128322142344025,34.815487871583464,33.00245212476059,4.8893676158866475,42.34546502695595,39.94348973564899,24.395841581185902,11.68653335066654,11.113177021831355,27.260609347081736,19.787388941630475,21.48977212338796,37.03162748295043,26.42017119594284,27.17904573565794,6.799991655617754,37.37764843057544,0.6678122161363376,8.851151306520693,22.002380503189954,48.97824067407976,49.124296598461676,24.43061891583604,14.451654925809576,29.77545090493223,11.549069574086168,35.14537965977682,46.95604941657302,38.04556115937061,21.850737081641054,18.619660154730983,11.544401150063138,31.034365006350345,5.4875868077910175,0.6446936373977197,32.80884345895677,32.63165651327551,16.34074339922777,31.502106019417976,4.086384343003618,16.631847270476136]}];\n",
       " var layout_WE1lLur4BO = {\"height\":550,\"width\":600,\"hovermode\":\"closest\",\"legend\":{\"orientation\":\"v\"},\"title\":{\"text\":\"Chart.Axis.Composition\"},\"showlegend\":true,\"grid\":{\"rows\":1,\"columns\":2,\"pattern\":\"independent\"},\"xaxis\":{\"title\":{\"text\":\"x1\"},\"showgrid\":true,\"zeroline\":false,\"showline\":false},\"yaxis\":{\"showgrid\":true,\"zeroline\":false,\"showline\":false},\"xaxis2\":{\"title\":{\"text\":\"x2\"},\"showgrid\":true,\"zeroline\":false,\"showline\":false},\"yaxis2\":{\"showgrid\":true,\"zeroline\":false,\"showline\":false}};\n",
       " var config_WE1lLur4BO = {\"responsive\":false,\"scrollZoom\":true,\"displaylogo\":false};\n",
       " Plotly.newPlot(\"graph_WE1lLur4BO\", traces_WE1lLur4BO, layout_WE1lLur4BO, config_WE1lLur4BO);\n",
       "</script> \n"
      ]
     },
     "metadata": {},
     "output_type": "display_data"
    }
   ],
   "source": [
    "// create the axes\n",
    "val xaxis1 = XAxis() setTitle \"x1\"\n",
    "val yaxis1 = YAxis() // this is not strictly necessary, but if it is not added there will be a zeroline at y = 0\n",
    "\n",
    "val xaxis2 = XAxis(2) setTitle \"x2\"\n",
    "val yaxis2 = YAxis(2) // this is not strictly necessary, but if it is not added there will be a zeroline at y = 0\n",
    "\n",
    "val series1 = (\n",
    "    XY(x = List(1, 2, 3), y = List(2, 4, 5))\n",
    "    asType SCATTER\n",
    "    drawStyle MARKERS\n",
    ")\n",
    "\n",
    "val series2 = (\n",
    "    XY(x = x, y = y) \n",
    "    asType SCATTER \n",
    "    drawStyle MARKERS \n",
    "    setAxes (xaxis2, yaxis2)\n",
    ")\n",
    "\n",
    "val chart1 = Chart()\n",
    "            .addSeries(series1, series2)\n",
    "            .setTitle(\"Chart.Axis.Composition\")\n",
    "            .addAxes(xaxis1, yaxis1, xaxis2, yaxis2)\n",
    "            .setConfig(responsive=false)\n",
    "            // This tells Picta that we want to actually subdivide this chart into multiple plots\n",
    "            .asMultiChart(1, 2)\n",
    "\n",
    "chart1.plotInline"
   ]
  },
  {
   "cell_type": "markdown",
   "metadata": {},
   "source": [
    "### Picta's Subplot System\n",
    "\n",
    "While the above is useful, sometimes it is more useful to plot independent charts in a subplot grid. This is where we can use the Picta subplot system.\n",
    "\n",
    "In the subplots below, each subplot is an individual `Chart`. This means we can actually embed the above `MultiChart` inside another subplot. This way we can create nested subplots to showcase any data we need to.\n",
    "\n",
    "Used creatively, this subplot system can be very useful for data exploration."
   ]
  },
  {
   "cell_type": "code",
   "execution_count": 15,
   "metadata": {
    "scrolled": false
   },
   "outputs": [
    {
     "data": {
      "text/html": [
       "<div id=\"grid-container_fmZiXSMNri\" class=\"grid-container\" align=\"center\"> \n",
       "<div class=\"grid-title\" align=\"center\"> <h1>The Picta Grid</h1> </div> \n",
       "<div id=\"grid_fmZiXSMNri\" class=\"grid\" align=\"center\"> \n",
       "<div id=\"graph_xEDXL7dVhz\" class=\"graph\"></div> \n",
       "<div id=\"graph_jJLeazihfe\" class=\"graph\"></div> \n",
       "<div id=\"graph_9eVScaV9vc\" class=\"graph\"></div> \n",
       "<div id=\"graph_IBeNkqinsM\" class=\"graph\"></div> \n",
       "</div> \n",
       "</div> \n",
       "\n",
       "<div align=\"center\">\n",
       "<button id = \"saveAsPNG_fmZiXSMNri\" class=\"picta-button\">Download Canvas as PNG</button>\n",
       "</div>\n",
       "<script>\n",
       "var masonry = new Macy({\n",
       "    container: '#grid_fmZiXSMNri',\n",
       "    debug: true,\n",
       "    mobileFirst: true,\n",
       "    columns: 2,\n",
       "    margin: {\n",
       "        x: 0,\n",
       "        y: 0\n",
       "    }\n",
       "  });\n",
       "\n",
       " var traces_xEDXL7dVhz = [{\"name\":\"a\",\"type\":\"scatter\",\"x\":[42.55838227418825,42.985312872626004,33.62137884324039,10.936282841992211,24.940975638542213,45.12864792149333,0.6945833089269215,17.721760433077964,9.061531097178616,22.795226112612166,2.1415090326446395,25.68742833606316,26.543202152687527,40.60810620201081,43.99867346750629,44.03345289504285,17.104145894912747,42.14986508117444,14.390516270136805,19.2247086504215,40.5765960787733,40.14190676458602,45.77546115831438,30.120638964160978,32.36125488794008,11.791976942818415,0.44375172613522196,49.0773013437432,24.75507800430351,46.71130480978271,4.073270031695508,27.58025398579705,42.96744705285339,39.382877723189,8.057756885841544,10.328266239020495,22.579178261686078,26.804934871380702,43.792554618608385,16.11165751077724,34.70079062113787,44.63884126228883,41.13619115289731,47.31541715994283,46.15087718376778,11.958087177420145,18.8618415695327,2.4260553892382077,34.602414587833884,5.525220943222231,17.07088039944484,17.532503517882585,22.834261634585097,49.416133009198774,30.2614662694879,3.4851528968011136,41.97707787504171,24.766131286214737,15.028303517342106,25.113529817124423,30.957331121659188,47.429906497065915,38.21538956702016,37.70183836910646,28.220028629819698,18.42747794090393,49.75182825108095,3.7830145101515997,12.250243024002593,23.190854948470136,9.371421264529634,10.235714888403564,49.41547196851058,40.831185145864474,17.95000181875825,41.65499801670566,11.215323909172369,23.91377446033006,2.290160812297054,41.01630073238532,28.15195348992453,22.55839689490505,26.841212444526896,2.763627042935873,4.12416143298212,4.0749410485400706,7.062963599659344,46.626694149749184,23.499980222175264,10.799482625177632,26.925041837508324,12.708116446187134,42.837075110472554,4.3134506939191075,17.379251108802922,49.680531740842774,20.597177757430014,13.808666507475237,33.55061170207739,38.29489901793637],\"y\":[1.1402934902688955,40.003573694536925,25.863469971863058,1.8250371254620756,33.78631157236301,13.721069803036261,34.35223351115953,3.559782684348678,23.796146079208626,20.005950507300224,46.00202080450122,19.002991038805828,29.751470916044497,24.490002876095986,42.1226948023023,47.05292810466627,41.00156588440043,28.60543037091348,26.48046744458418,40.106417675008984,39.5977384201774,34.20230414961292,15.194464033542154,37.76945461850181,23.45025376043615,16.143363874348804,36.2513269800402,32.65480836097482,41.31965089146526,33.52954210431399,29.89915508193823,29.608480444197372,15.693769509007216,6.352170506978105,11.152775408903025,31.630694143735163,6.603769598146219,44.57290256793121,2.1755412449033953,46.743435254172184,47.996899056002114,40.899986766566485,15.398560002393186,10.105385021296936,18.410666628063648,26.859551690270738,17.89645125903695,4.786420854568984,39.38259580842012,44.15321250851898,33.75944762611196,42.78767138145616,28.28164153248901,49.74831286973538,43.984841294408334,35.12946591823159,17.06180565557173,3.6647629752244724,22.75650269790069,36.128322142344025,34.815487871583464,33.00245212476059,4.8893676158866475,42.34546502695595,39.94348973564899,24.395841581185902,11.68653335066654,11.113177021831355,27.260609347081736,19.787388941630475,21.48977212338796,37.03162748295043,26.42017119594284,27.17904573565794,6.799991655617754,37.37764843057544,0.6678122161363376,8.851151306520693,22.002380503189954,48.97824067407976,49.124296598461676,24.43061891583604,14.451654925809576,29.77545090493223,11.549069574086168,35.14537965977682,46.95604941657302,38.04556115937061,21.850737081641054,18.619660154730983,11.544401150063138,31.034365006350345,5.4875868077910175,0.6446936373977197,32.80884345895677,32.63165651327551,16.34074339922777,31.502106019417976,4.086384343003618,16.631847270476136]}];\n",
       " var layout_xEDXL7dVhz = {\"height\":350,\"width\":350,\"hovermode\":\"closest\",\"legend\":{\"orientation\":\"v\"},\"showlegend\":true,\"margin\":{\"l\":50,\"r\":30,\"t\":50,\"b\":50},\"xaxis\":{\"title\":{\"text\":\"x axis 1\"},\"showgrid\":true,\"zeroline\":false,\"showline\":false},\"yaxis\":{\"title\":{\"text\":\"y axis 1\"},\"showgrid\":true,\"zeroline\":false,\"showline\":false}};\n",
       " var config_xEDXL7dVhz = {\"responsive\":true,\"scrollZoom\":true,\"displaylogo\":false};\n",
       " Plotly.newPlot(\"graph_xEDXL7dVhz\", traces_xEDXL7dVhz, layout_xEDXL7dVhz, config_xEDXL7dVhz);\n",
       "\n",
       " var traces_jJLeazihfe = [{\"name\":\"b\",\"type\":\"scatter\",\"x\":[42.55838227418825,42.985312872626004,33.62137884324039,10.936282841992211,24.940975638542213,45.12864792149333,0.6945833089269215,17.721760433077964,9.061531097178616,22.795226112612166,2.1415090326446395,25.68742833606316,26.543202152687527,40.60810620201081,43.99867346750629,44.03345289504285,17.104145894912747,42.14986508117444,14.390516270136805,19.2247086504215,40.5765960787733,40.14190676458602,45.77546115831438,30.120638964160978,32.36125488794008,11.791976942818415,0.44375172613522196,49.0773013437432,24.75507800430351,46.71130480978271,4.073270031695508,27.58025398579705,42.96744705285339,39.382877723189,8.057756885841544,10.328266239020495,22.579178261686078,26.804934871380702,43.792554618608385,16.11165751077724,34.70079062113787,44.63884126228883,41.13619115289731,47.31541715994283,46.15087718376778,11.958087177420145,18.8618415695327,2.4260553892382077,34.602414587833884,5.525220943222231,17.07088039944484,17.532503517882585,22.834261634585097,49.416133009198774,30.2614662694879,3.4851528968011136,41.97707787504171,24.766131286214737,15.028303517342106,25.113529817124423,30.957331121659188,47.429906497065915,38.21538956702016,37.70183836910646,28.220028629819698,18.42747794090393,49.75182825108095,3.7830145101515997,12.250243024002593,23.190854948470136,9.371421264529634,10.235714888403564,49.41547196851058,40.831185145864474,17.95000181875825,41.65499801670566,11.215323909172369,23.91377446033006,2.290160812297054,41.01630073238532,28.15195348992453,22.55839689490505,26.841212444526896,2.763627042935873,4.12416143298212,4.0749410485400706,7.062963599659344,46.626694149749184,23.499980222175264,10.799482625177632,26.925041837508324,12.708116446187134,42.837075110472554,4.3134506939191075,17.379251108802922,49.680531740842774,20.597177757430014,13.808666507475237,33.55061170207739,38.29489901793637],\"y\":[1.1402934902688955,40.003573694536925,25.863469971863058,1.8250371254620756,33.78631157236301,13.721069803036261,34.35223351115953,3.559782684348678,23.796146079208626,20.005950507300224,46.00202080450122,19.002991038805828,29.751470916044497,24.490002876095986,42.1226948023023,47.05292810466627,41.00156588440043,28.60543037091348,26.48046744458418,40.106417675008984,39.5977384201774,34.20230414961292,15.194464033542154,37.76945461850181,23.45025376043615,16.143363874348804,36.2513269800402,32.65480836097482,41.31965089146526,33.52954210431399,29.89915508193823,29.608480444197372,15.693769509007216,6.352170506978105,11.152775408903025,31.630694143735163,6.603769598146219,44.57290256793121,2.1755412449033953,46.743435254172184,47.996899056002114,40.899986766566485,15.398560002393186,10.105385021296936,18.410666628063648,26.859551690270738,17.89645125903695,4.786420854568984,39.38259580842012,44.15321250851898,33.75944762611196,42.78767138145616,28.28164153248901,49.74831286973538,43.984841294408334,35.12946591823159,17.06180565557173,3.6647629752244724,22.75650269790069,36.128322142344025,34.815487871583464,33.00245212476059,4.8893676158866475,42.34546502695595,39.94348973564899,24.395841581185902,11.68653335066654,11.113177021831355,27.260609347081736,19.787388941630475,21.48977212338796,37.03162748295043,26.42017119594284,27.17904573565794,6.799991655617754,37.37764843057544,0.6678122161363376,8.851151306520693,22.002380503189954,48.97824067407976,49.124296598461676,24.43061891583604,14.451654925809576,29.77545090493223,11.549069574086168,35.14537965977682,46.95604941657302,38.04556115937061,21.850737081641054,18.619660154730983,11.544401150063138,31.034365006350345,5.4875868077910175,0.6446936373977197,32.80884345895677,32.63165651327551,16.34074339922777,31.502106019417976,4.086384343003618,16.631847270476136]}];\n",
       " var layout_jJLeazihfe = {\"height\":350,\"width\":350,\"hovermode\":\"closest\",\"legend\":{\"orientation\":\"v\"},\"showlegend\":true,\"margin\":{\"l\":50,\"r\":50,\"t\":50,\"b\":50},\"xaxis\":{\"title\":{\"text\":\"x axis 2\"},\"showgrid\":true,\"zeroline\":false,\"showline\":false},\"yaxis\":{\"title\":{\"text\":\"y axis 2\"},\"showgrid\":true,\"zeroline\":false,\"showline\":false}};\n",
       " var config_jJLeazihfe = {\"responsive\":true,\"scrollZoom\":true,\"displaylogo\":false};\n",
       " Plotly.newPlot(\"graph_jJLeazihfe\", traces_jJLeazihfe, layout_jJLeazihfe, config_jJLeazihfe);\n",
       "\n",
       " var traces_9eVScaV9vc = [{\"name\":\"c\",\"type\":\"scatter\",\"x\":[42.55838227418825,42.985312872626004,33.62137884324039,10.936282841992211,24.940975638542213,45.12864792149333,0.6945833089269215,17.721760433077964,9.061531097178616,22.795226112612166,2.1415090326446395,25.68742833606316,26.543202152687527,40.60810620201081,43.99867346750629,44.03345289504285,17.104145894912747,42.14986508117444,14.390516270136805,19.2247086504215,40.5765960787733,40.14190676458602,45.77546115831438,30.120638964160978,32.36125488794008,11.791976942818415,0.44375172613522196,49.0773013437432,24.75507800430351,46.71130480978271,4.073270031695508,27.58025398579705,42.96744705285339,39.382877723189,8.057756885841544,10.328266239020495,22.579178261686078,26.804934871380702,43.792554618608385,16.11165751077724,34.70079062113787,44.63884126228883,41.13619115289731,47.31541715994283,46.15087718376778,11.958087177420145,18.8618415695327,2.4260553892382077,34.602414587833884,5.525220943222231,17.07088039944484,17.532503517882585,22.834261634585097,49.416133009198774,30.2614662694879,3.4851528968011136,41.97707787504171,24.766131286214737,15.028303517342106,25.113529817124423,30.957331121659188,47.429906497065915,38.21538956702016,37.70183836910646,28.220028629819698,18.42747794090393,49.75182825108095,3.7830145101515997,12.250243024002593,23.190854948470136,9.371421264529634,10.235714888403564,49.41547196851058,40.831185145864474,17.95000181875825,41.65499801670566,11.215323909172369,23.91377446033006,2.290160812297054,41.01630073238532,28.15195348992453,22.55839689490505,26.841212444526896,2.763627042935873,4.12416143298212,4.0749410485400706,7.062963599659344,46.626694149749184,23.499980222175264,10.799482625177632,26.925041837508324,12.708116446187134,42.837075110472554,4.3134506939191075,17.379251108802922,49.680531740842774,20.597177757430014,13.808666507475237,33.55061170207739,38.29489901793637],\"y\":[1.1402934902688955,40.003573694536925,25.863469971863058,1.8250371254620756,33.78631157236301,13.721069803036261,34.35223351115953,3.559782684348678,23.796146079208626,20.005950507300224,46.00202080450122,19.002991038805828,29.751470916044497,24.490002876095986,42.1226948023023,47.05292810466627,41.00156588440043,28.60543037091348,26.48046744458418,40.106417675008984,39.5977384201774,34.20230414961292,15.194464033542154,37.76945461850181,23.45025376043615,16.143363874348804,36.2513269800402,32.65480836097482,41.31965089146526,33.52954210431399,29.89915508193823,29.608480444197372,15.693769509007216,6.352170506978105,11.152775408903025,31.630694143735163,6.603769598146219,44.57290256793121,2.1755412449033953,46.743435254172184,47.996899056002114,40.899986766566485,15.398560002393186,10.105385021296936,18.410666628063648,26.859551690270738,17.89645125903695,4.786420854568984,39.38259580842012,44.15321250851898,33.75944762611196,42.78767138145616,28.28164153248901,49.74831286973538,43.984841294408334,35.12946591823159,17.06180565557173,3.6647629752244724,22.75650269790069,36.128322142344025,34.815487871583464,33.00245212476059,4.8893676158866475,42.34546502695595,39.94348973564899,24.395841581185902,11.68653335066654,11.113177021831355,27.260609347081736,19.787388941630475,21.48977212338796,37.03162748295043,26.42017119594284,27.17904573565794,6.799991655617754,37.37764843057544,0.6678122161363376,8.851151306520693,22.002380503189954,48.97824067407976,49.124296598461676,24.43061891583604,14.451654925809576,29.77545090493223,11.549069574086168,35.14537965977682,46.95604941657302,38.04556115937061,21.850737081641054,18.619660154730983,11.544401150063138,31.034365006350345,5.4875868077910175,0.6446936373977197,32.80884345895677,32.63165651327551,16.34074339922777,31.502106019417976,4.086384343003618,16.631847270476136]}];\n",
       " var layout_9eVScaV9vc = {\"height\":350,\"width\":350,\"hovermode\":\"closest\",\"legend\":{\"orientation\":\"v\"},\"showlegend\":true,\"margin\":{\"l\":50,\"r\":30,\"t\":50,\"b\":50},\"xaxis\":{\"title\":{\"text\":\"x axis 3\"},\"showgrid\":true,\"zeroline\":false,\"showline\":false},\"yaxis\":{\"title\":{\"text\":\"y axis 3\"},\"showgrid\":true,\"zeroline\":false,\"showline\":false}};\n",
       " var config_9eVScaV9vc = {\"responsive\":true,\"scrollZoom\":true,\"displaylogo\":false};\n",
       " Plotly.newPlot(\"graph_9eVScaV9vc\", traces_9eVScaV9vc, layout_9eVScaV9vc, config_9eVScaV9vc);\n",
       "\n",
       " var traces_IBeNkqinsM = [{\"name\":\"LPPw5cbsVK\",\"type\":\"scatter\",\"mode\":\"markers\",\"x\":[1,2,3],\"y\":[2,4,5]},{\"name\":\"04AAj6KCXv\",\"type\":\"scatter\",\"mode\":\"markers\",\"xaxis\":\"x2\",\"yaxis\":\"y2\",\"x\":[42.55838227418825,42.985312872626004,33.62137884324039,10.936282841992211,24.940975638542213,45.12864792149333,0.6945833089269215,17.721760433077964,9.061531097178616,22.795226112612166,2.1415090326446395,25.68742833606316,26.543202152687527,40.60810620201081,43.99867346750629,44.03345289504285,17.104145894912747,42.14986508117444,14.390516270136805,19.2247086504215,40.5765960787733,40.14190676458602,45.77546115831438,30.120638964160978,32.36125488794008,11.791976942818415,0.44375172613522196,49.0773013437432,24.75507800430351,46.71130480978271,4.073270031695508,27.58025398579705,42.96744705285339,39.382877723189,8.057756885841544,10.328266239020495,22.579178261686078,26.804934871380702,43.792554618608385,16.11165751077724,34.70079062113787,44.63884126228883,41.13619115289731,47.31541715994283,46.15087718376778,11.958087177420145,18.8618415695327,2.4260553892382077,34.602414587833884,5.525220943222231,17.07088039944484,17.532503517882585,22.834261634585097,49.416133009198774,30.2614662694879,3.4851528968011136,41.97707787504171,24.766131286214737,15.028303517342106,25.113529817124423,30.957331121659188,47.429906497065915,38.21538956702016,37.70183836910646,28.220028629819698,18.42747794090393,49.75182825108095,3.7830145101515997,12.250243024002593,23.190854948470136,9.371421264529634,10.235714888403564,49.41547196851058,40.831185145864474,17.95000181875825,41.65499801670566,11.215323909172369,23.91377446033006,2.290160812297054,41.01630073238532,28.15195348992453,22.55839689490505,26.841212444526896,2.763627042935873,4.12416143298212,4.0749410485400706,7.062963599659344,46.626694149749184,23.499980222175264,10.799482625177632,26.925041837508324,12.708116446187134,42.837075110472554,4.3134506939191075,17.379251108802922,49.680531740842774,20.597177757430014,13.808666507475237,33.55061170207739,38.29489901793637],\"y\":[1.1402934902688955,40.003573694536925,25.863469971863058,1.8250371254620756,33.78631157236301,13.721069803036261,34.35223351115953,3.559782684348678,23.796146079208626,20.005950507300224,46.00202080450122,19.002991038805828,29.751470916044497,24.490002876095986,42.1226948023023,47.05292810466627,41.00156588440043,28.60543037091348,26.48046744458418,40.106417675008984,39.5977384201774,34.20230414961292,15.194464033542154,37.76945461850181,23.45025376043615,16.143363874348804,36.2513269800402,32.65480836097482,41.31965089146526,33.52954210431399,29.89915508193823,29.608480444197372,15.693769509007216,6.352170506978105,11.152775408903025,31.630694143735163,6.603769598146219,44.57290256793121,2.1755412449033953,46.743435254172184,47.996899056002114,40.899986766566485,15.398560002393186,10.105385021296936,18.410666628063648,26.859551690270738,17.89645125903695,4.786420854568984,39.38259580842012,44.15321250851898,33.75944762611196,42.78767138145616,28.28164153248901,49.74831286973538,43.984841294408334,35.12946591823159,17.06180565557173,3.6647629752244724,22.75650269790069,36.128322142344025,34.815487871583464,33.00245212476059,4.8893676158866475,42.34546502695595,39.94348973564899,24.395841581185902,11.68653335066654,11.113177021831355,27.260609347081736,19.787388941630475,21.48977212338796,37.03162748295043,26.42017119594284,27.17904573565794,6.799991655617754,37.37764843057544,0.6678122161363376,8.851151306520693,22.002380503189954,48.97824067407976,49.124296598461676,24.43061891583604,14.451654925809576,29.77545090493223,11.549069574086168,35.14537965977682,46.95604941657302,38.04556115937061,21.850737081641054,18.619660154730983,11.544401150063138,31.034365006350345,5.4875868077910175,0.6446936373977197,32.80884345895677,32.63165651327551,16.34074339922777,31.502106019417976,4.086384343003618,16.631847270476136]}];\n",
       " var layout_IBeNkqinsM = {\"height\":350,\"width\":350,\"hovermode\":\"closest\",\"legend\":{\"orientation\":\"v\"},\"title\":{\"text\":\"The MultiChart from Above\"},\"showlegend\":true,\"grid\":{\"rows\":1,\"columns\":2,\"pattern\":\"independent\"},\"xaxis\":{\"title\":{\"text\":\"x1\"},\"showgrid\":true,\"zeroline\":false,\"showline\":false},\"yaxis\":{\"showgrid\":true,\"zeroline\":false,\"showline\":false},\"xaxis2\":{\"title\":{\"text\":\"x2\"},\"showgrid\":true,\"zeroline\":false,\"showline\":false},\"yaxis2\":{\"showgrid\":true,\"zeroline\":false,\"showline\":false}};\n",
       " var config_IBeNkqinsM = {\"responsive\":false,\"scrollZoom\":true,\"displaylogo\":false};\n",
       " Plotly.newPlot(\"graph_IBeNkqinsM\", traces_IBeNkqinsM, layout_IBeNkqinsM, config_IBeNkqinsM);\n",
       "\n",
       "var save = document.getElementById(\"saveAsPNG_fmZiXSMNri\")\n",
       "save.onclick = function() {\n",
       "    const grid = document.getElementById(\"grid-container_fmZiXSMNri\")\n",
       "    const svg_containers = grid.getElementsByClassName('svg-container')\n",
       "    const main_svgs = grid.getElementsByClassName('main-svg')\n",
       "\n",
       "    const svg_containers_styles = []\n",
       "    const main_svgs_styles = []\n",
       "\n",
       "    const modebars = document.getElementsByClassName(\"modebar-container\")\n",
       "\n",
       "    for (var i = 0; i < modebars.length; i++) {\n",
       "        modebars[i].style.display = \"none\"\n",
       "    }\n",
       "\n",
       "    domtoimage.toPng(grid)\n",
       "    .then(function (dataUrl) {\n",
       "        var img = new Image();\n",
       "        img.src = dataUrl;\n",
       "        var link = document.createElement('a');\n",
       "        link.download = 'Picta-image.png';\n",
       "        link.href = dataUrl;\n",
       "        link.click()\n",
       "    })\n",
       "    .catch(function (error) {\n",
       "        console.error('oops, something went wrong!', error);\n",
       "    });\n",
       "}\n",
       "</script> \n"
      ]
     },
     "metadata": {},
     "output_type": "display_data"
    }
   ],
   "source": [
    "// first define the x-axes we will use in the plot\n",
    "val ax1 = XAxis(title = \"x axis 1\")\n",
    "val ax2 = XAxis(title = \"x axis 2\")\n",
    "val ax3 = XAxis(title = \"x axis 3\")\n",
    "val ax4 = XAxis(title = \"x axis 4\")\n",
    "\n",
    "// first define the y-axes we will use in the plot\n",
    "val ax6 = YAxis(title = \"y axis 1\")\n",
    "val ax7 = YAxis(title = \"y axis 2\")\n",
    "val ax8 = YAxis(title = \"y axis 3\")\n",
    "val ax9 = YAxis(title = \"y axis 4\")\n",
    "\n",
    "// it may be necessary to play around with the chart dimensions and margin  in order to ensure a good fit on screen.\n",
    "val dim = 350\n",
    "\n",
    "val chart1 = (\n",
    "    Chart()\n",
    "    setDimensions(width = dim, height = dim)\n",
    "    addSeries XY(x, y).setName(\"a\")\n",
    "    addAxes(ax1, ax6)\n",
    "    setMargin(l=50, r=30, t=50, b=50)\n",
    ")\n",
    "\n",
    "val chart2 = (\n",
    "    Chart() \n",
    "    setDimensions(width = dim, height = dim)\n",
    "    addSeries XY(x, y).setName(\"b\")\n",
    "    addAxes(ax2, ax7)\n",
    "    setMargin(l=50, r=50, t=50, b=50)\n",
    ")\n",
    "\n",
    "val chart3 = (\n",
    "    Chart()\n",
    "    setDimensions(width = dim, height = dim)\n",
    "    addSeries XY(x, y).setName(\"c\") \n",
    "    addAxes(ax3, ax8)\n",
    "    setMargin(l=50, r=30, t=50, b=50)\n",
    ")\n",
    "\n",
    "val chart4 = (\n",
    "    Chart()\n",
    "    setDimensions(width = dim, height = dim)\n",
    "    addSeries(series1, series2)\n",
    "    setTitle \"The MultiChart from Above\"\n",
    "    addAxes(xaxis1, yaxis1, xaxis2, yaxis2) // these axes come from above\n",
    "    setConfig(responsive=false)\n",
    "    asMultiChart(1, 2)\n",
    ")\n",
    "\n",
    "// The canvas has an underlying grid. By default the underlying grid is 1x1, but we can pass in the dimensions we \n",
    "// require by passing in parameters in the constructor.\n",
    "Canvas(2, 2, title=\"The Picta Grid\")\n",
    ".setChart(0, 0, chart1)\n",
    ".setChart(0, 1, chart2)\n",
    ".setChart(1, 0, chart3)\n",
    ".setChart(1, 1, chart4)\n",
    ".plotInline"
   ]
  },
  {
   "cell_type": "markdown",
   "metadata": {},
   "source": [
    "### Error Bars\n",
    "\n",
    "We can also add Error Bars to our plots.\n",
    "\n",
    "Error bars come in two flavours:\n",
    "\n",
    "1. `XError`\n",
    "2. `YError`\n",
    "\n",
    "Both of these has an associated `mode` that determines how the error bar is calculated for an individual point. The following `mode`s can be specified:\n",
    "\n",
    "- `DATA`: The user passes in an array that specifies the per point error\n",
    "- `PERCENT`: The user passes in a Double that calculates the error as a percentage of the value of the point\n",
    "- `CONSTANT`: The user passes in a double that is the constant value for the error for all points\n",
    "- `SQRT`: This calculates the error as a square root of the point value.\n",
    "\n",
    "The next few examples will demonstrate:"
   ]
  },
  {
   "cell_type": "code",
   "execution_count": 16,
   "metadata": {},
   "outputs": [],
   "source": [
    "// First import the Error Bar options\n",
    "import org.carbonateresearch.picta.options.{YError, CONSTANT, DATA, PERCENT, SQRT}"
   ]
  },
  {
   "cell_type": "code",
   "execution_count": 17,
   "metadata": {},
   "outputs": [
    {
     "data": {
      "text/html": [
       "<div id=\"grid-container_OOuoa1QSqA\" class=\"grid-container\" align=\"center\"> \n",
       "<div class=\"grid-title\" align=\"center\"> <h1>Errors</h1> </div> \n",
       "<div id=\"grid_OOuoa1QSqA\" class=\"grid\" align=\"center\"> \n",
       "<div id=\"graph_qC78pcRkny\" class=\"graph\"></div> \n",
       "<div id=\"graph_sUBDt6ytTC\" class=\"graph\"></div> \n",
       "<div id=\"graph_nLpQiIh08U\" class=\"graph\"></div> \n",
       "<div id=\"graph_dfJ9rz3ZCd\" class=\"graph\"></div> \n",
       "</div> \n",
       "</div> \n",
       "\n",
       "<div align=\"center\">\n",
       "<button id = \"saveAsPNG_OOuoa1QSqA\" class=\"picta-button\">Download Canvas as PNG</button>\n",
       "</div>\n",
       "<script>\n",
       "var masonry = new Macy({\n",
       "    container: '#grid_OOuoa1QSqA',\n",
       "    debug: true,\n",
       "    mobileFirst: true,\n",
       "    columns: 2,\n",
       "    margin: {\n",
       "        x: 0,\n",
       "        y: 0\n",
       "    }\n",
       "  });\n",
       "\n",
       " var traces_qC78pcRkny = [{\"name\":\"ec5W2H9y2b\",\"type\":\"scatter\",\"mode\":\"markers\",\"x\":[1,2,3],\"y\":[1.234,5.2112,2.44332],\"error_y\":{\"type\":\"data\",\"visible\":true,\"array\":[0.5,0.5,0.5]}}];\n",
       " var layout_qC78pcRkny = {\"height\":400,\"width\":400,\"hovermode\":\"closest\",\"legend\":{\"orientation\":\"v\"},\"title\":{\"text\":\"Per Point Specified Error\"},\"showlegend\":true};\n",
       " var config_qC78pcRkny = {\"responsive\":true,\"scrollZoom\":true,\"displaylogo\":false};\n",
       " Plotly.newPlot(\"graph_qC78pcRkny\", traces_qC78pcRkny, layout_qC78pcRkny, config_qC78pcRkny);\n",
       "\n",
       " var traces_sUBDt6ytTC = [{\"name\":\"YAOqg83weZ\",\"type\":\"scatter\",\"mode\":\"markers\",\"x\":[1,2,3],\"y\":[1.234,5.2112,2.44332],\"error_y\":{\"type\":\"percent\",\"visible\":true,\"value\":10}}];\n",
       " var layout_sUBDt6ytTC = {\"height\":400,\"width\":400,\"hovermode\":\"closest\",\"legend\":{\"orientation\":\"v\"},\"title\":{\"text\":\"Percentage Error\"},\"showlegend\":true};\n",
       " var config_sUBDt6ytTC = {\"responsive\":true,\"scrollZoom\":true,\"displaylogo\":false};\n",
       " Plotly.newPlot(\"graph_sUBDt6ytTC\", traces_sUBDt6ytTC, layout_sUBDt6ytTC, config_sUBDt6ytTC);\n",
       "\n",
       " var traces_nLpQiIh08U = [{\"name\":\"fczeh3SBmL\",\"type\":\"scatter\",\"mode\":\"markers\",\"x\":[1,2,3],\"y\":[1.234,5.2112,2.44332],\"error_y\":{\"type\":\"constant\",\"visible\":true,\"value\":10}}];\n",
       " var layout_nLpQiIh08U = {\"height\":400,\"width\":400,\"hovermode\":\"closest\",\"legend\":{\"orientation\":\"v\"},\"title\":{\"text\":\"Constant Error\"},\"showlegend\":true};\n",
       " var config_nLpQiIh08U = {\"responsive\":true,\"scrollZoom\":true,\"displaylogo\":false};\n",
       " Plotly.newPlot(\"graph_nLpQiIh08U\", traces_nLpQiIh08U, layout_nLpQiIh08U, config_nLpQiIh08U);\n",
       "\n",
       " var traces_dfJ9rz3ZCd = [{\"name\":\"4IvLDm1VGO\",\"type\":\"scatter\",\"mode\":\"markers\",\"x\":[1,2,3],\"y\":[1.234,5.2112,2.44332],\"error_y\":{\"type\":\"sqrt\",\"visible\":true}}];\n",
       " var layout_dfJ9rz3ZCd = {\"height\":400,\"width\":400,\"hovermode\":\"closest\",\"legend\":{\"orientation\":\"v\"},\"title\":{\"text\":\"Sqrt Error\"},\"showlegend\":true};\n",
       " var config_dfJ9rz3ZCd = {\"responsive\":true,\"scrollZoom\":true,\"displaylogo\":false};\n",
       " Plotly.newPlot(\"graph_dfJ9rz3ZCd\", traces_dfJ9rz3ZCd, layout_dfJ9rz3ZCd, config_dfJ9rz3ZCd);\n",
       "\n",
       "var save = document.getElementById(\"saveAsPNG_OOuoa1QSqA\")\n",
       "save.onclick = function() {\n",
       "    const grid = document.getElementById(\"grid-container_OOuoa1QSqA\")\n",
       "    const svg_containers = grid.getElementsByClassName('svg-container')\n",
       "    const main_svgs = grid.getElementsByClassName('main-svg')\n",
       "\n",
       "    const svg_containers_styles = []\n",
       "    const main_svgs_styles = []\n",
       "\n",
       "    const modebars = document.getElementsByClassName(\"modebar-container\")\n",
       "\n",
       "    for (var i = 0; i < modebars.length; i++) {\n",
       "        modebars[i].style.display = \"none\"\n",
       "    }\n",
       "\n",
       "    domtoimage.toPng(grid)\n",
       "    .then(function (dataUrl) {\n",
       "        var img = new Image();\n",
       "        img.src = dataUrl;\n",
       "        var link = document.createElement('a');\n",
       "        link.download = 'Picta-image.png';\n",
       "        link.href = dataUrl;\n",
       "        link.click()\n",
       "    })\n",
       "    .catch(function (error) {\n",
       "        console.error('oops, something went wrong!', error);\n",
       "    });\n",
       "}\n",
       "</script> \n"
      ]
     },
     "metadata": {},
     "output_type": "display_data"
    }
   ],
   "source": [
    "val dim = 400\n",
    "\n",
    "val series1 = (\n",
    "    XY(List(1, 2, 3), List(1.234, 5.2112, 2.44332))\n",
    "    asType SCATTER\n",
    "    drawStyle MARKERS\n",
    "    // User specifies the error per point \n",
    "    setErrorBars YError(mode = DATA, array = List(0.5, 0.5, 0.5))\n",
    ")\n",
    "\n",
    "val chart1 = (\n",
    "    Chart()\n",
    "    addSeries series1\n",
    "    setTitle \"Per Point Specified Error\"\n",
    "    setDimensions(width = dim, height = dim)\n",
    ")\n",
    "\n",
    "\n",
    "val series2 = (\n",
    "    XY(List(1, 2, 3), List(1.234, 5.2112, 2.44332))\n",
    "    asType SCATTER\n",
    "    drawStyle MARKERS\n",
    "    // the error here is 10% of the corresponding y-value for the point\n",
    "    setErrorBars YError(mode = PERCENT, value = 10.0)\n",
    ")\n",
    "\n",
    "val chart2 = (\n",
    "    Chart()\n",
    "    addSeries series2\n",
    "    setTitle \"Percentage Error\"\n",
    "    setDimensions(width = dim, height = dim)\n",
    ")\n",
    "\n",
    "\n",
    "val series3 = (\n",
    "    XY(List(1, 2, 3), List(1.234, 5.2112, 2.44332))\n",
    "    asType SCATTER\n",
    "    drawStyle MARKERS\n",
    "    // a constant error of 10 is applied to each point\n",
    "    setErrorBars YError(mode = CONSTANT, value = 10.0)\n",
    ")\n",
    "\n",
    "val chart3 = (\n",
    "    Chart()\n",
    "    addSeries series3\n",
    "    setTitle \"Constant Error\"\n",
    "    setDimensions(width = dim, height = dim)\n",
    ")\n",
    "\n",
    "\n",
    "val series4 = (\n",
    "    XY(List(1, 2, 3), List(1.234, 5.2112, 2.44332))\n",
    "    asType SCATTER\n",
    "    drawStyle MARKERS\n",
    "    setErrorBars YError(mode = SQRT)\n",
    ")\n",
    "\n",
    "val chart4 = (\n",
    "    Chart()\n",
    "    addSeries series4\n",
    "    setTitle \"Sqrt Error\"\n",
    "    // the error is set to the sqrt of the corresponding point\n",
    "    setDimensions(width = dim, height = dim)\n",
    ")\n",
    "\n",
    "val canvas = Canvas(2, 2, \"Errors\") addCharts (chart1, chart2, chart3, chart4)\n",
    "\n",
    "canvas.plotInline"
   ]
  },
  {
   "cell_type": "markdown",
   "metadata": {},
   "source": [
    "### Other Types of Charts\n",
    "\n",
    "The next examples will demonstrate how to create a variety of `Chart`s. All of the examples below are composable with the `Canvas` subplot system.\n",
    "\n",
    "#### Pie Chart\n",
    "\n",
    "Pie charts can be created in two ways. The first way uses the `PieElement` component to compose a Piechart:"
   ]
  },
  {
   "cell_type": "code",
   "execution_count": 18,
   "metadata": {},
   "outputs": [
    {
     "data": {
      "text/html": [
       "<div id=\"grid-container_a9ZoX0njim\" class=\"grid-container\" align=\"center\"> \n",
       "<div id=\"grid_a9ZoX0njim\" class=\"grid\" align=\"center\"> \n",
       "<div id=\"graph_b2wT1X9XYW\" class=\"graph\"></div> \n",
       "</div> \n",
       "</div> \n",
       "<script>\n",
       "var masonry = new Macy({\n",
       "    container: '#grid_a9ZoX0njim',\n",
       "    debug: true,\n",
       "    mobileFirst: true,\n",
       "    columns: 1,\n",
       "    margin: {\n",
       "        x: 0,\n",
       "        y: 0\n",
       "    }\n",
       "  });\n",
       "\n",
       " var traces_b2wT1X9XYW = [{\"name\":\"cVVSy9pyCL\",\"type\":\"pie\",\"values\":[60,20,20],\"labels\":[\"Residential\",\"Non-Residential\",\"Utility\"]}];\n",
       " var layout_b2wT1X9XYW = {\"height\":550,\"width\":600,\"hovermode\":\"closest\",\"legend\":{\"orientation\":\"v\"},\"title\":{\"text\":\"Pie Elements\"},\"showlegend\":true};\n",
       " var config_b2wT1X9XYW = {\"responsive\":true,\"scrollZoom\":true,\"displaylogo\":false};\n",
       " Plotly.newPlot(\"graph_b2wT1X9XYW\", traces_b2wT1X9XYW, layout_b2wT1X9XYW, config_b2wT1X9XYW);\n",
       "</script> \n"
      ]
     },
     "metadata": {},
     "output_type": "display_data"
    }
   ],
   "source": [
    "val a = PieElement(value=60, name=\"Residential\")\n",
    "val b = PieElement(value=20, name=\"Non-Residential\")\n",
    "val c = PieElement(value=20, name=\"Utility\")\n",
    "\n",
    "// we add a list of Pie Elements to an XY series as the list of Pie Elements gets deconstructed down into two series:\n",
    "// X => values: [60, 20, 20]\n",
    "// Y => labels: [\"Residential\", \"Non-Residential\", \"Utility\"]\n",
    "// The labels become the series_name for each individual PieElement\n",
    "// As we pass in a list of PieElements, we do not need to specify the type as a PIE\n",
    "val series = XY(x=List(a, b, c))\n",
    "\n",
    "val chart = Chart() addSeries series setTitle \"Pie Elements\"\n",
    "\n",
    "chart.plotInline"
   ]
  },
  {
   "cell_type": "code",
   "execution_count": 19,
   "metadata": {},
   "outputs": [
    {
     "data": {
      "text/html": [
       "<div id=\"grid-container_yNKqUZ5dNw\" class=\"grid-container\" align=\"center\"> \n",
       "<div id=\"grid_yNKqUZ5dNw\" class=\"grid\" align=\"center\"> \n",
       "<div id=\"graph_e6KhEljm5k\" class=\"graph\"></div> \n",
       "</div> \n",
       "</div> \n",
       "<script>\n",
       "var masonry = new Macy({\n",
       "    container: '#grid_yNKqUZ5dNw',\n",
       "    debug: true,\n",
       "    mobileFirst: true,\n",
       "    columns: 1,\n",
       "    margin: {\n",
       "        x: 0,\n",
       "        y: 0\n",
       "    }\n",
       "  });\n",
       "\n",
       " var traces_e6KhEljm5k = [{\"name\":\"tNNmmXBfYo\",\"type\":\"pie\",\"values\":[60,20,20],\"labels\":[\"Residential\",\"Non-Residential\",\"Utility\"]}];\n",
       " var layout_e6KhEljm5k = {\"height\":550,\"width\":600,\"hovermode\":\"closest\",\"legend\":{\"orientation\":\"v\"},\"title\":{\"text\":\"Pie Chart\"},\"showlegend\":true};\n",
       " var config_e6KhEljm5k = {\"responsive\":false,\"scrollZoom\":false,\"displaylogo\":false};\n",
       " Plotly.newPlot(\"graph_e6KhEljm5k\", traces_e6KhEljm5k, layout_e6KhEljm5k, config_e6KhEljm5k);\n",
       "</script> \n"
      ]
     },
     "metadata": {},
     "output_type": "display_data"
    }
   ],
   "source": [
    "// However, composing individual PieElements may be tedious if there is a lot of data and we know how to it all fits\n",
    "// together. Picta provides a short hand to quickly create a Pie Chart using the methods we have seen previously\n",
    "// In this case we pass the (value, name) pairs as two seperate lists. As before, the labels become an individual\n",
    "// series name for each point; which is why the legend renders correctly.\n",
    "val series = XY(x=List(60, 20, 20), y=List(\"Residential\", \"Non-Residential\", \"Utility\")) asType PIE\n",
    "\n",
    "val chart = Chart() addSeries series setConfig(false, false) setTitle \"Pie Chart\"\n",
    "\n",
    "chart.plotInline"
   ]
  },
  {
   "cell_type": "markdown",
   "metadata": {},
   "source": [
    "### Histogram"
   ]
  },
  {
   "cell_type": "code",
   "execution_count": 20,
   "metadata": {},
   "outputs": [
    {
     "data": {
      "text/html": [
       "<div id=\"grid-container_VbQeMW5olC\" class=\"grid-container\" align=\"center\"> \n",
       "<div id=\"grid_VbQeMW5olC\" class=\"grid\" align=\"center\"> \n",
       "<div id=\"graph_veAzSQMJHy\" class=\"graph\"></div> \n",
       "</div> \n",
       "</div> \n",
       "<script>\n",
       "var masonry = new Macy({\n",
       "    container: '#grid_VbQeMW5olC',\n",
       "    debug: true,\n",
       "    mobileFirst: true,\n",
       "    columns: 1,\n",
       "    margin: {\n",
       "        x: 0,\n",
       "        y: 0\n",
       "    }\n",
       "  });\n",
       "\n",
       " var traces_veAzSQMJHy = [{\"name\":\"kM0fem9GtB\",\"type\":\"histogram\",\"x\":[42.55838227418825,42.985312872626004,33.62137884324039,10.936282841992211,24.940975638542213,45.12864792149333,0.6945833089269215,17.721760433077964,9.061531097178616,22.795226112612166,2.1415090326446395,25.68742833606316,26.543202152687527,40.60810620201081,43.99867346750629,44.03345289504285,17.104145894912747,42.14986508117444,14.390516270136805,19.2247086504215,40.5765960787733,40.14190676458602,45.77546115831438,30.120638964160978,32.36125488794008,11.791976942818415,0.44375172613522196,49.0773013437432,24.75507800430351,46.71130480978271,4.073270031695508,27.58025398579705,42.96744705285339,39.382877723189,8.057756885841544,10.328266239020495,22.579178261686078,26.804934871380702,43.792554618608385,16.11165751077724,34.70079062113787,44.63884126228883,41.13619115289731,47.31541715994283,46.15087718376778,11.958087177420145,18.8618415695327,2.4260553892382077,34.602414587833884,5.525220943222231,17.07088039944484,17.532503517882585,22.834261634585097,49.416133009198774,30.2614662694879,3.4851528968011136,41.97707787504171,24.766131286214737,15.028303517342106,25.113529817124423,30.957331121659188,47.429906497065915,38.21538956702016,37.70183836910646,28.220028629819698,18.42747794090393,49.75182825108095,3.7830145101515997,12.250243024002593,23.190854948470136,9.371421264529634,10.235714888403564,49.41547196851058,40.831185145864474,17.95000181875825,41.65499801670566,11.215323909172369,23.91377446033006,2.290160812297054,41.01630073238532,28.15195348992453,22.55839689490505,26.841212444526896,2.763627042935873,4.12416143298212,4.0749410485400706,7.062963599659344,46.626694149749184,23.499980222175264,10.799482625177632,26.925041837508324,12.708116446187134,42.837075110472554,4.3134506939191075,17.379251108802922,49.680531740842774,20.597177757430014,13.808666507475237,33.55061170207739,38.29489901793637]}];\n",
       " var layout_veAzSQMJHy = {\"height\":550,\"width\":600,\"hovermode\":\"closest\",\"legend\":{\"orientation\":\"v\"},\"title\":{\"text\":\"Histogram with axes\"},\"showlegend\":true,\"xaxis\":{\"title\":{\"text\":\"my x data\"},\"showgrid\":true,\"zeroline\":false,\"showline\":false},\"yaxis\":{\"title\":{\"text\":\"my y data\"},\"showgrid\":true,\"zeroline\":false,\"showline\":false}};\n",
       " var config_veAzSQMJHy = {\"responsive\":true,\"scrollZoom\":true,\"displaylogo\":false};\n",
       " Plotly.newPlot(\"graph_veAzSQMJHy\", traces_veAzSQMJHy, layout_veAzSQMJHy, config_veAzSQMJHy);\n",
       "</script> \n"
      ]
     },
     "metadata": {},
     "output_type": "display_data"
    }
   ],
   "source": [
    "val series = XY(x=x) asType HISTOGRAM\n",
    "\n",
    "val xaxis = XAxis(title = \"my x data\")\n",
    "val yaxis = YAxis(title = \"my y data\")\n",
    "\n",
    "val chart = (\n",
    "    Chart() \n",
    "    addSeries series\n",
    "    setTitle \"Histogram with axes\"\n",
    "    addAxes(xaxis, yaxis)\n",
    ")\n",
    "\n",
    "Canvas()\n",
    ".addCharts(chart)\n",
    ".plotInline"
   ]
  },
  {
   "cell_type": "markdown",
   "metadata": {},
   "source": [
    "#### Customizing colors for a Histogram\n",
    "\n",
    "We can use the `HistOptions` class to further specify options for a histogram. For example, if we wanted to create a horizontally positioned histogram, we can do the following:"
   ]
  },
  {
   "cell_type": "code",
   "execution_count": 21,
   "metadata": {},
   "outputs": [],
   "source": [
    "import org.carbonateresearch.picta.options.histogram.HistOptions\n",
    "import org.carbonateresearch.picta.options.Line\n",
    "import org.carbonateresearch.picta.options.HORIZONTAL"
   ]
  },
  {
   "cell_type": "code",
   "execution_count": 22,
   "metadata": {},
   "outputs": [
    {
     "data": {
      "text/html": [
       "<div id=\"grid-container_c4fqXMter4\" class=\"grid-container\" align=\"center\"> \n",
       "<div id=\"grid_c4fqXMter4\" class=\"grid\" align=\"center\"> \n",
       "<div id=\"graph_5XHVRIApqM\" class=\"graph\"></div> \n",
       "</div> \n",
       "</div> \n",
       "<script>\n",
       "var masonry = new Macy({\n",
       "    container: '#grid_c4fqXMter4',\n",
       "    debug: true,\n",
       "    mobileFirst: true,\n",
       "    columns: 1,\n",
       "    margin: {\n",
       "        x: 0,\n",
       "        y: 0\n",
       "    }\n",
       "  });\n",
       "\n",
       " var traces_5XHVRIApqM = [{\"name\":\"Tf9XL1UFvH\",\"type\":\"histogram\",\"marker\":{\"color\":\"rgba(255, 100, 102, 0.5)\",\"line\":{\"width\":0.5}},\"y\":[42.55838227418825,42.985312872626004,33.62137884324039,10.936282841992211,24.940975638542213,45.12864792149333,0.6945833089269215,17.721760433077964,9.061531097178616,22.795226112612166,2.1415090326446395,25.68742833606316,26.543202152687527,40.60810620201081,43.99867346750629,44.03345289504285,17.104145894912747,42.14986508117444,14.390516270136805,19.2247086504215,40.5765960787733,40.14190676458602,45.77546115831438,30.120638964160978,32.36125488794008,11.791976942818415,0.44375172613522196,49.0773013437432,24.75507800430351,46.71130480978271,4.073270031695508,27.58025398579705,42.96744705285339,39.382877723189,8.057756885841544,10.328266239020495,22.579178261686078,26.804934871380702,43.792554618608385,16.11165751077724,34.70079062113787,44.63884126228883,41.13619115289731,47.31541715994283,46.15087718376778,11.958087177420145,18.8618415695327,2.4260553892382077,34.602414587833884,5.525220943222231,17.07088039944484,17.532503517882585,22.834261634585097,49.416133009198774,30.2614662694879,3.4851528968011136,41.97707787504171,24.766131286214737,15.028303517342106,25.113529817124423,30.957331121659188,47.429906497065915,38.21538956702016,37.70183836910646,28.220028629819698,18.42747794090393,49.75182825108095,3.7830145101515997,12.250243024002593,23.190854948470136,9.371421264529634,10.235714888403564,49.41547196851058,40.831185145864474,17.95000181875825,41.65499801670566,11.215323909172369,23.91377446033006,2.290160812297054,41.01630073238532,28.15195348992453,22.55839689490505,26.841212444526896,2.763627042935873,4.12416143298212,4.0749410485400706,7.062963599659344,46.626694149749184,23.499980222175264,10.799482625177632,26.925041837508324,12.708116446187134,42.837075110472554,4.3134506939191075,17.379251108802922,49.680531740842774,20.597177757430014,13.808666507475237,33.55061170207739,38.29489901793637]}];\n",
       " var layout_5XHVRIApqM = {\"height\":550,\"width\":600,\"hovermode\":\"closest\",\"legend\":{\"orientation\":\"v\"},\"title\":{\"text\":\"XY.Histogram.Color\"},\"showlegend\":true};\n",
       " var config_5XHVRIApqM = {\"responsive\":true,\"scrollZoom\":true,\"displaylogo\":false};\n",
       " Plotly.newPlot(\"graph_5XHVRIApqM\", traces_5XHVRIApqM, layout_5XHVRIApqM, config_5XHVRIApqM);\n",
       "</script> \n"
      ]
     },
     "metadata": {},
     "output_type": "display_data"
    }
   ],
   "source": [
    "// we can also compose customizations in much the same way:\n",
    "val marker = Marker() setColor \"rgba(255, 100, 102, 0.5)\" setLine Line()\n",
    "\n",
    "// change xkey to y to get a horizontal histogram\n",
    "val series = (\n",
    "    XY(x) \n",
    "    asType HISTOGRAM\n",
    "    setMarker marker\n",
    "    // we can set histogram specific options using the setHistOptions method\n",
    "    setHistOptions(orientation = HORIZONTAL)\n",
    ")\n",
    "\n",
    "val chart = (\n",
    "    Chart() \n",
    "    addSeries series \n",
    "    setTitle \"XY.Histogram.Color\"\n",
    ")\n",
    "\n",
    "chart.plotInline"
   ]
  },
  {
   "cell_type": "markdown",
   "metadata": {},
   "source": [
    "#### Cumulative Histogram\n",
    "\n",
    "Sometimes a cumulative histogram may be desired. We can do this as follows:"
   ]
  },
  {
   "cell_type": "code",
   "execution_count": 23,
   "metadata": {},
   "outputs": [],
   "source": [
    "// we can import a range of histnorms\n",
    "import org.carbonateresearch.picta.options.histogram.{Cumulative, PERCENT, DENSITY, PROBABILITY_DENSITY, NUMBER}"
   ]
  },
  {
   "cell_type": "code",
   "execution_count": 24,
   "metadata": {},
   "outputs": [
    {
     "data": {
      "text/html": [
       "<div id=\"grid-container_ILq8HCOIN3\" class=\"grid-container\" align=\"center\"> \n",
       "<div id=\"grid_ILq8HCOIN3\" class=\"grid\" align=\"center\"> \n",
       "<div id=\"graph_1N8jM3RnXy\" class=\"graph\"></div> \n",
       "</div> \n",
       "</div> \n",
       "<script>\n",
       "var masonry = new Macy({\n",
       "    container: '#grid_ILq8HCOIN3',\n",
       "    debug: true,\n",
       "    mobileFirst: true,\n",
       "    columns: 1,\n",
       "    margin: {\n",
       "        x: 0,\n",
       "        y: 0\n",
       "    }\n",
       "  });\n",
       "\n",
       " var traces_1N8jM3RnXy = [{\"name\":\"I0pdUO9jAu\",\"type\":\"histogram\",\"cumulative\":{\"enabled\":true},\"histnorm\":\"\",\"x\":[42.55838227418825,42.985312872626004,33.62137884324039,10.936282841992211,24.940975638542213,45.12864792149333,0.6945833089269215,17.721760433077964,9.061531097178616,22.795226112612166,2.1415090326446395,25.68742833606316,26.543202152687527,40.60810620201081,43.99867346750629,44.03345289504285,17.104145894912747,42.14986508117444,14.390516270136805,19.2247086504215,40.5765960787733,40.14190676458602,45.77546115831438,30.120638964160978,32.36125488794008,11.791976942818415,0.44375172613522196,49.0773013437432,24.75507800430351,46.71130480978271,4.073270031695508,27.58025398579705,42.96744705285339,39.382877723189,8.057756885841544,10.328266239020495,22.579178261686078,26.804934871380702,43.792554618608385,16.11165751077724,34.70079062113787,44.63884126228883,41.13619115289731,47.31541715994283,46.15087718376778,11.958087177420145,18.8618415695327,2.4260553892382077,34.602414587833884,5.525220943222231,17.07088039944484,17.532503517882585,22.834261634585097,49.416133009198774,30.2614662694879,3.4851528968011136,41.97707787504171,24.766131286214737,15.028303517342106,25.113529817124423,30.957331121659188,47.429906497065915,38.21538956702016,37.70183836910646,28.220028629819698,18.42747794090393,49.75182825108095,3.7830145101515997,12.250243024002593,23.190854948470136,9.371421264529634,10.235714888403564,49.41547196851058,40.831185145864474,17.95000181875825,41.65499801670566,11.215323909172369,23.91377446033006,2.290160812297054,41.01630073238532,28.15195348992453,22.55839689490505,26.841212444526896,2.763627042935873,4.12416143298212,4.0749410485400706,7.062963599659344,46.626694149749184,23.499980222175264,10.799482625177632,26.925041837508324,12.708116446187134,42.837075110472554,4.3134506939191075,17.379251108802922,49.680531740842774,20.597177757430014,13.808666507475237,33.55061170207739,38.29489901793637]}];\n",
       " var layout_1N8jM3RnXy = {\"height\":550,\"width\":600,\"hovermode\":\"closest\",\"legend\":{\"orientation\":\"v\"},\"title\":{\"text\":\"Histogram - Cumulative\"},\"showlegend\":true};\n",
       " var config_1N8jM3RnXy = {\"responsive\":true,\"scrollZoom\":true,\"displaylogo\":false};\n",
       " Plotly.newPlot(\"graph_1N8jM3RnXy\", traces_1N8jM3RnXy, layout_1N8jM3RnXy, config_1N8jM3RnXy);\n",
       "</script> \n"
      ]
     },
     "metadata": {},
     "output_type": "display_data"
    }
   ],
   "source": [
    "val series = XY(x) asType HISTOGRAM setHistOptions(histnorm = NUMBER, cumulative = Cumulative(enabled=true))\n",
    "\n",
    "val chart = Chart() addSeries series setTitle \"Histogram - Cumulative\"\n",
    "\n",
    "chart.plotInline"
   ]
  },
  {
   "cell_type": "markdown",
   "metadata": {},
   "source": [
    "#### Specifiying the Binning Function\n",
    "\n",
    "We can also specify the binning function for a histogram."
   ]
  },
  {
   "cell_type": "code",
   "execution_count": 25,
   "metadata": {},
   "outputs": [],
   "source": [
    "import org.carbonateresearch.picta.options.histogram.{COUNT, SUM, AVG, MIN, MAX, HistOptions}"
   ]
  },
  {
   "cell_type": "code",
   "execution_count": 26,
   "metadata": {},
   "outputs": [
    {
     "data": {
      "text/html": [
       "<div id=\"grid-container_RvmEQSdYHT\" class=\"grid-container\" align=\"center\"> \n",
       "<div id=\"grid_RvmEQSdYHT\" class=\"grid\" align=\"center\"> \n",
       "<div id=\"graph_4xFItVplgH\" class=\"graph\"></div> \n",
       "</div> \n",
       "</div> \n",
       "<script>\n",
       "var masonry = new Macy({\n",
       "    container: '#grid_RvmEQSdYHT',\n",
       "    debug: true,\n",
       "    mobileFirst: true,\n",
       "    columns: 1,\n",
       "    margin: {\n",
       "        x: 0,\n",
       "        y: 0\n",
       "    }\n",
       "  });\n",
       "\n",
       " var traces_4xFItVplgH = [{\"name\":\"GJlYhbdDmP\",\"type\":\"histogram\",\"histfunc\":\"count\",\"x\":[\"Apples\",\"Apples\",\"Apples\",\"Oranges\",\"Bananas\"],\"y\":[\"5\",\"10\",\"3\",\"10\",\"5\"]},{\"name\":\"5SE6sPGqF3\",\"type\":\"histogram\",\"histfunc\":\"sum\",\"x\":[\"Apples\",\"Apples\",\"Apples\",\"Oranges\",\"Bananas\"],\"y\":[\"5\",\"10\",\"3\",\"10\",\"5\"]}];\n",
       " var layout_4xFItVplgH = {\"height\":550,\"width\":600,\"hovermode\":\"closest\",\"legend\":{\"orientation\":\"v\"},\"title\":{\"text\":\"Histogram - Specify Binning Function\"},\"showlegend\":true};\n",
       " var config_4xFItVplgH = {\"responsive\":true,\"scrollZoom\":true,\"displaylogo\":false};\n",
       " Plotly.newPlot(\"graph_4xFItVplgH\", traces_4xFItVplgH, layout_4xFItVplgH, config_4xFItVplgH);\n",
       "</script> \n"
      ]
     },
     "metadata": {},
     "output_type": "display_data"
    }
   ],
   "source": [
    "val x = List(\"Apples\", \"Apples\", \"Apples\", \"Oranges\", \"Bananas\")\n",
    "val y = List(\"5\", \"10\", \"3\", \"10\", \"5\")\n",
    "\n",
    "// we can also assign histOptions to a value and pass them to the setHistOptions method\n",
    "val ho1 = HistOptions(histfunc = COUNT)\n",
    "val ho2 = HistOptions(histfunc = SUM)\n",
    "    \n",
    "val t1 = XY(x = x, y = y) asType HISTOGRAM setHistOptions ho1\n",
    "val t2 = XY(x = x, y = y) asType HISTOGRAM setHistOptions ho2\n",
    "\n",
    "val chart = Chart() addSeries(t1, t2) setTitle \"Histogram - Specify Binning Function\"\n",
    "val canvas = Canvas() addCharts chart\n",
    "canvas.plotInline"
   ]
  },
  {
   "cell_type": "markdown",
   "metadata": {},
   "source": [
    "### 2D Histogram Contour"
   ]
  },
  {
   "cell_type": "code",
   "execution_count": 27,
   "metadata": {},
   "outputs": [
    {
     "data": {
      "text/html": [
       "<div id=\"grid-container_Ye1f7aVi70\" class=\"grid-container\" align=\"center\"> \n",
       "<div id=\"grid_Ye1f7aVi70\" class=\"grid\" align=\"center\"> \n",
       "<div id=\"graph_FjD2eflj8Q\" class=\"graph\"></div> \n",
       "</div> \n",
       "</div> \n",
       "<script>\n",
       "var masonry = new Macy({\n",
       "    container: '#grid_Ye1f7aVi70',\n",
       "    debug: true,\n",
       "    mobileFirst: true,\n",
       "    columns: 1,\n",
       "    margin: {\n",
       "        x: 0,\n",
       "        y: 0\n",
       "    }\n",
       "  });\n",
       "\n",
       " var traces_FjD2eflj8Q = [{\"name\":\"48dDGf3Oxt\",\"type\":\"histogram2dcontour\",\"mode\":\"markers\",\"x\":[1,2,3,4,5,6,7,8,9,10,11,12,13,14,15,16,17,18,19,20,21,22,23,24,25,26,27,28,29,30,31,32,33,34,35,36,37,38,39,40,41,42,43,44,45,46,47,48,49],\"y\":[77.17015150582087,83.50749739105507,92.57768779296977,71.7637427235474,17.77336056688122,103.1959863692171,99.42152680628631,64.45289596728975,61.5641719081969,82.44030429004854,86.0978069899102,72.35331323921987,18.895564952072075,14.599400884396918,29.8633879684945,100.4380176820286,111.78997868804781,47.38686726477577,66.8001798607277,112.1056239612947,79.55443283937669,65.97432821581091,31.11946573613249,93.90876620752124,48.79626383753258,103.63400550065616,86.32191025771228,115.76754625036659,71.01629440722247,46.30531124074933,63.939018305071265,95.6798533884192,44.33525432525833,52.25554362228918,128.02311253484442,84.28801612842675,52.4131366625624,90.91485661777088,39.11939757288146,69.13399582219711,73.25009183380288,116.00090695398302,100.14497000439727,61.03287473038646,133.31135506776616,127.20861738349367,128.41619437138942,65.71714547270614,108.29762809797892]}];\n",
       " var layout_FjD2eflj8Q = {\"height\":550,\"width\":600,\"hovermode\":\"closest\",\"legend\":{\"orientation\":\"v\"},\"title\":{\"text\":\"2D Histogram Contour\"},\"showlegend\":true};\n",
       " var config_FjD2eflj8Q = {\"responsive\":true,\"scrollZoom\":true,\"displaylogo\":false};\n",
       " Plotly.newPlot(\"graph_FjD2eflj8Q\", traces_FjD2eflj8Q, layout_FjD2eflj8Q, config_FjD2eflj8Q);\n",
       "</script> \n"
      ]
     },
     "metadata": {},
     "output_type": "display_data"
    }
   ],
   "source": [
    "val x = List.range(1, 50)\n",
    "val y = x.map(x => x + scala.util.Random.nextDouble()*100)\n",
    "\n",
    "val series = XY(x, y).asType(HISTOGRAM2DCONTOUR).drawMarkers\n",
    "\n",
    "val chart = (\n",
    "    Chart() addSeries series\n",
    "    setTitle \"2D Histogram Contour\"\n",
    ")\n",
    "\n",
    "chart.plotInline"
   ]
  },
  {
   "cell_type": "markdown",
   "metadata": {},
   "source": [
    "#### Adding additional axes\n",
    "\n",
    "As the above is a density plot, adding histograms can be useful too.\n",
    "\n",
    "We can add histograms as follows:"
   ]
  },
  {
   "cell_type": "code",
   "execution_count": 28,
   "metadata": {},
   "outputs": [],
   "source": [
    "// import the 2d Density histogram options\n",
    "import org.carbonateresearch.picta.options.histogram2d.Hist2dOptions\n",
    "import org.carbonateresearch.picta.options.HORIZONTAL"
   ]
  },
  {
   "cell_type": "code",
   "execution_count": 29,
   "metadata": {},
   "outputs": [
    {
     "data": {
      "text/html": [
       "<div id=\"grid-container_VOMWOXcOUF\" class=\"grid-container\" align=\"center\"> \n",
       "<div id=\"grid_VOMWOXcOUF\" class=\"grid\" align=\"center\"> \n",
       "<div id=\"graph_6RVf7hjHAJ\" class=\"graph\"></div> \n",
       "</div> \n",
       "</div> \n",
       "<script>\n",
       "var masonry = new Macy({\n",
       "    container: '#grid_VOMWOXcOUF',\n",
       "    debug: true,\n",
       "    mobileFirst: true,\n",
       "    columns: 1,\n",
       "    margin: {\n",
       "        x: 0,\n",
       "        y: 0\n",
       "    }\n",
       "  });\n",
       "\n",
       " var traces_6RVf7hjHAJ = [{\"name\":\"points\",\"type\":\"scatter\",\"mode\":\"markers\",\"marker\":{\"color\":\"rgb(102,0,0)\"},\"x\":[1,2,3,4,5,6,7,8,9,10,11,12,13,14,15,16,17,18,19,20,21,22,23,24,25,26,27,28,29,30,31,32,33,34,35,36,37,38,39,40,41,42,43,44,45,46,47,48,49],\"y\":[77.17015150582087,83.50749739105507,92.57768779296977,71.7637427235474,17.77336056688122,103.1959863692171,99.42152680628631,64.45289596728975,61.5641719081969,82.44030429004854,86.0978069899102,72.35331323921987,18.895564952072075,14.599400884396918,29.8633879684945,100.4380176820286,111.78997868804781,47.38686726477577,66.8001798607277,112.1056239612947,79.55443283937669,65.97432821581091,31.11946573613249,93.90876620752124,48.79626383753258,103.63400550065616,86.32191025771228,115.76754625036659,71.01629440722247,46.30531124074933,63.939018305071265,95.6798533884192,44.33525432525833,52.25554362228918,128.02311253484442,84.28801612842675,52.4131366625624,90.91485661777088,39.11939757288146,69.13399582219711,73.25009183380288,116.00090695398302,100.14497000439727,61.03287473038646,133.31135506776616,127.20861738349367,128.41619437138942,65.71714547270614,108.29762809797892]},{\"name\":\"density\",\"type\":\"histogram2dcontour\",\"ncontours\":20,\"reversescale\":false,\"showscale\":true,\"x\":[1,2,3,4,5,6,7,8,9,10,11,12,13,14,15,16,17,18,19,20,21,22,23,24,25,26,27,28,29,30,31,32,33,34,35,36,37,38,39,40,41,42,43,44,45,46,47,48,49],\"y\":[77.17015150582087,83.50749739105507,92.57768779296977,71.7637427235474,17.77336056688122,103.1959863692171,99.42152680628631,64.45289596728975,61.5641719081969,82.44030429004854,86.0978069899102,72.35331323921987,18.895564952072075,14.599400884396918,29.8633879684945,100.4380176820286,111.78997868804781,47.38686726477577,66.8001798607277,112.1056239612947,79.55443283937669,65.97432821581091,31.11946573613249,93.90876620752124,48.79626383753258,103.63400550065616,86.32191025771228,115.76754625036659,71.01629440722247,46.30531124074933,63.939018305071265,95.6798533884192,44.33525432525833,52.25554362228918,128.02311253484442,84.28801612842675,52.4131366625624,90.91485661777088,39.11939757288146,69.13399582219711,73.25009183380288,116.00090695398302,100.14497000439727,61.03287473038646,133.31135506776616,127.20861738349367,128.41619437138942,65.71714547270614,108.29762809797892]},{\"name\":\"histogram\",\"type\":\"histogram\",\"yaxis\":\"y2\",\"x\":[1,2,3,4,5,6,7,8,9,10,11,12,13,14,15,16,17,18,19,20,21,22,23,24,25,26,27,28,29,30,31,32,33,34,35,36,37,38,39,40,41,42,43,44,45,46,47,48,49]},{\"name\":\"y density\",\"type\":\"histogram\",\"xaxis\":\"x2\",\"marker\":{\"color\":\"rgb(102,0,0)\"},\"y\":[77.17015150582087,83.50749739105507,92.57768779296977,71.7637427235474,17.77336056688122,103.1959863692171,99.42152680628631,64.45289596728975,61.5641719081969,82.44030429004854,86.0978069899102,72.35331323921987,18.895564952072075,14.599400884396918,29.8633879684945,100.4380176820286,111.78997868804781,47.38686726477577,66.8001798607277,112.1056239612947,79.55443283937669,65.97432821581091,31.11946573613249,93.90876620752124,48.79626383753258,103.63400550065616,86.32191025771228,115.76754625036659,71.01629440722247,46.30531124074933,63.939018305071265,95.6798533884192,44.33525432525833,52.25554362228918,128.02311253484442,84.28801612842675,52.4131366625624,90.91485661777088,39.11939757288146,69.13399582219711,73.25009183380288,116.00090695398302,100.14497000439727,61.03287473038646,133.31135506776616,127.20861738349367,128.41619437138942,65.71714547270614,108.29762809797892]}];\n",
       " var layout_6RVf7hjHAJ = {\"height\":550,\"width\":600,\"hovermode\":\"closest\",\"legend\":{\"orientation\":\"v\"},\"title\":{\"text\":\"Histogram2dContour With Density\"},\"showlegend\":false,\"autosize\":false,\"xaxis\":{\"showgrid\":false,\"zeroline\":false,\"showline\":false,\"domain\":[0,0.85]},\"yaxis\":{\"showgrid\":false,\"zeroline\":false,\"showline\":false,\"domain\":[0,0.85]},\"xaxis2\":{\"showgrid\":false,\"zeroline\":false,\"showline\":false,\"domain\":[0.85,1]},\"yaxis2\":{\"showgrid\":false,\"zeroline\":false,\"showline\":false,\"domain\":[0.85,1]}};\n",
       " var config_6RVf7hjHAJ = {\"responsive\":true,\"scrollZoom\":true,\"displaylogo\":false};\n",
       " Plotly.newPlot(\"graph_6RVf7hjHAJ\", traces_6RVf7hjHAJ, layout_6RVf7hjHAJ, config_6RVf7hjHAJ);\n",
       "</script> \n"
      ]
     },
     "metadata": {},
     "output_type": "display_data"
    }
   ],
   "source": [
    "val marker = Marker() setColor \"rgb(102,0,0)\"\n",
    "\n",
    "val series1 = XY(x, y) \n",
    "            .asType(SCATTER)\n",
    "            .drawMarkers\n",
    "            .setName(\"points\")\n",
    "            .setMarker(marker)\n",
    "\n",
    "\n",
    "val hist2d_options = Hist2dOptions(ncontours = 20, reversescale = false, showscale = true)\n",
    "\n",
    "val series2 = XY(x, y) \n",
    "            .setName(\"density\")\n",
    "            .asType(HISTOGRAM2DCONTOUR)\n",
    "            .setHist2dOptions(hist2d_options)\n",
    "\n",
    "val series3 = XY(x = x)\n",
    "            .asType(HISTOGRAM)\n",
    "            .setName(\"histogram\")\n",
    "            .setAxes(XAxis(), YAxis(2))\n",
    "\n",
    "val series4 = (XY(y)\n",
    "            .setName(\"y density\")\n",
    "            .asType(HISTOGRAM)\n",
    "            .setAxis(XAxis(2))\n",
    "            .setMarker(marker)\n",
    "            .setHistOptions(HistOptions(orientation = HORIZONTAL)))\n",
    "\n",
    "val ax1 = XAxis(showgrid = false) setDomain(0.0, 0.85)\n",
    "val ax2 = YAxis(showgrid = false) setDomain(0.0, 0.85)\n",
    "val ax3 = XAxis(position = 2, showgrid = false) setDomain(0.85, 1.0)\n",
    "val ax4 = YAxis(position = 2, showgrid = false) setDomain(0.85, 1.0)\n",
    "\n",
    "val layout = (\n",
    "    ChartLayout(\"Histogram2dContour With Density\", autosize = false, showlegend = false) \n",
    "    setAxes(ax1, ax2, ax3, ax4)\n",
    ")\n",
    "\n",
    "val chart = Chart() addSeries(series1, series2, series3, series4) setChartLayout layout\n",
    "\n",
    "chart.plotInline"
   ]
  },
  {
   "cell_type": "markdown",
   "metadata": {},
   "source": [
    "### 3D Charts\n",
    "\n",
    "3D charts are constructed using a `XYZ` series as they take in 3 `Series`' to create a single point.\n",
    "\n",
    "The Picta API does not accept nested lists, however the underlying Plotlyjs render does. In order to render any series that will make use of a nested list, we must flatten and provide the length of an element (before the list was flattened).\n",
    "\n",
    "The following examples will make it clearer.\n",
    "\n",
    "#### Contour"
   ]
  },
  {
   "cell_type": "code",
   "execution_count": 30,
   "metadata": {},
   "outputs": [],
   "source": [
    "// lets create some dummy adata for the third dimension\n",
    "val x = List(-9, -6, -5 , -3, -1)\n",
    "val y = List(0, 1, 4, 5, 7)\n",
    "val z = List(\n",
    "    List(10, 10.625, 12.5, 15.625, 20),\n",
    "    List(5.625, 6.25, 8.125, 11.25, 15.625),\n",
    "    List(2.5, 3.125, 5.0, 8.125, 12.5),\n",
    "    List(0.625, 1.25, 3.125, 6.25, 10.625),\n",
    "    List(0, 0.625, 2.5, 5.625, 10)\n",
    ")"
   ]
  },
  {
   "cell_type": "code",
   "execution_count": 31,
   "metadata": {},
   "outputs": [
    {
     "data": {
      "text/html": [
       "<div id=\"grid-container_2lhhzYPo5W\" class=\"grid-container\" align=\"center\"> \n",
       "<div id=\"grid_2lhhzYPo5W\" class=\"grid\" align=\"center\"> \n",
       "<div id=\"graph_10w0t8IvhE\" class=\"graph\"></div> \n",
       "</div> \n",
       "</div> \n",
       "<script>\n",
       "var masonry = new Macy({\n",
       "    container: '#grid_2lhhzYPo5W',\n",
       "    debug: true,\n",
       "    mobileFirst: true,\n",
       "    columns: 1,\n",
       "    margin: {\n",
       "        x: 0,\n",
       "        y: 0\n",
       "    }\n",
       "  });\n",
       "\n",
       " var traces_10w0t8IvhE = [{\"name\":\"uGUXVkdQOv\",\"type\":\"contour\",\"x\":[-9,-6,-5,-3,-1],\"y\":[0,1,4,5,7],\"z\":[[10,10.625,12.5,15.625,20],[5.625,6.25,8.125,11.25,15.625],[2.5,3.125,5,8.125,12.5],[0.625,1.25,3.125,6.25,10.625],[0,0.625,2.5,5.625,10]]}];\n",
       " var layout_10w0t8IvhE = {\"height\":550,\"width\":600,\"hovermode\":\"closest\",\"legend\":{\"orientation\":\"v\"},\"title\":{\"text\":\"Contour\"},\"showlegend\":true};\n",
       " var config_10w0t8IvhE = {\"responsive\":true,\"scrollZoom\":true,\"displaylogo\":false};\n",
       " Plotly.newPlot(\"graph_10w0t8IvhE\", traces_10w0t8IvhE, layout_10w0t8IvhE, config_10w0t8IvhE);\n",
       "</script> \n"
      ]
     },
     "metadata": {},
     "output_type": "display_data"
    }
   ],
   "source": [
    "// we flatten the nested list as we pass it into the Series constructor\n",
    "val series = XYZ(x=x, y=y, z=z.flatten, n=z(0).length).asType(CONTOUR)\n",
    "\n",
    "// set up the chart\n",
    "val chart = Chart()\n",
    "            .addSeries(series)\n",
    "            .setTitle(\"Contour\")\n",
    "\n",
    "// plot the chart\n",
    "chart.plotInline"
   ]
  },
  {
   "cell_type": "markdown",
   "metadata": {},
   "source": [
    "#### Heatmap"
   ]
  },
  {
   "cell_type": "code",
   "execution_count": 32,
   "metadata": {
    "scrolled": false
   },
   "outputs": [],
   "source": [
    "// create a new nested list for the heatmap\n",
    "val z = List.range(1, 101).map(e => e + scala.util.Random.nextDouble()*100).grouped(10).toList"
   ]
  },
  {
   "cell_type": "code",
   "execution_count": 33,
   "metadata": {},
   "outputs": [
    {
     "data": {
      "text/html": [
       "<div id=\"grid-container_r4bZnszTjC\" class=\"grid-container\" align=\"center\"> \n",
       "<div id=\"grid_r4bZnszTjC\" class=\"grid\" align=\"center\"> \n",
       "<div id=\"graph_ySwI1t41St\" class=\"graph\"></div> \n",
       "</div> \n",
       "</div> \n",
       "<script>\n",
       "var masonry = new Macy({\n",
       "    container: '#grid_r4bZnszTjC',\n",
       "    debug: true,\n",
       "    mobileFirst: true,\n",
       "    columns: 1,\n",
       "    margin: {\n",
       "        x: 0,\n",
       "        y: 0\n",
       "    }\n",
       "  });\n",
       "\n",
       " var traces_ySwI1t41St = [{\"name\":\"VxGu0BBEx3\",\"type\":\"heatmap\",\"z\":[[40.24131659480615,58.859180317883954,87.87081278390032,29.04650985862604,35.40753133965536,89.22794422317281,88.21125125227192,49.266258972932015,26.882078527174293,41.14427891077194],[76.80482254863136,52.24485185324511,32.68241430824518,113.70581221463213,42.29607868228224,87.50974612396651,52.87595635264139,19.763306029163893,36.97327576525487,25.00580820780392],[45.81689788451996,25.74096164674793,116.59812448203832,70.14986986232894,67.30575910645393,80.62229291230634,106.53874506931714,76.90251106294727,125.62887238947908,64.91521445574578],[112.44617699829477,69.40698004033081,68.032589381458,113.16379912495805,132.87494113651988,44.56159417346284,54.90968109080856,89.45316737497328,98.53335884288393,42.83334007832175],[96.82304937743008,124.35778391180308,58.25939854306743,142.6868596087206,126.4645382420197,53.91240799012116,55.35310496116362,55.194318770304164,52.7442662442593,136.43882606293133],[89.55665376632442,69.70816934928419,97.42857329548907,61.440387326432486,139.7584354833083,128.9201379637418,146.09235019968418,106.28030581765657,130.40751437098774,92.1962152607027],[154.62412315200703,140.98856342649225,160.6601412163628,79.7688290357771,140.11995738934627,129.2961716471678,79.44006052175726,77.18378255500099,150.7249334249899,124.87445161134494],[81.87950745808901,119.3409560931694,152.8285121102774,115.7609166191549,123.0180084150899,166.5341311636131,95.99285407411797,127.08219215824244,93.17119920593147,131.08680277659502],[116.09077452168535,152.43840432123943,176.0420328125954,112.49711534768335,115.35266281940636,147.69227183282723,115.43195504881552,151.44660220330476,114.36935838304538,187.41014147920382],[149.3197162666201,118.59369055639529,105.57067098087047,153.83102416515683,131.1106882281882,112.76445253954104,150.29680373203348,100.9936588535333,147.0197095545896,154.96939135140846]]}];\n",
       " var layout_ySwI1t41St = {\"height\":550,\"width\":600,\"hovermode\":\"closest\",\"legend\":{\"orientation\":\"v\"},\"title\":{\"text\":\"Heatmap\"},\"showlegend\":true};\n",
       " var config_ySwI1t41St = {\"responsive\":true,\"scrollZoom\":true,\"displaylogo\":false};\n",
       " Plotly.newPlot(\"graph_ySwI1t41St\", traces_ySwI1t41St, layout_ySwI1t41St, config_ySwI1t41St);\n",
       "</script> \n"
      ]
     },
     "metadata": {},
     "output_type": "display_data"
    }
   ],
   "source": [
    "// we get the length of an element of the nested list\n",
    "val n = z(0).length\n",
    "\n",
    "// we now flatten the list and pass it into Series constructor, as well as 'n', the length of an element so that the \n",
    "// heatmap dimensions are correctly constructed\n",
    "val series = XYZ(z=z.flatten, n=n) asType HEATMAP\n",
    "\n",
    "val chart = Chart() addSeries series setTitle \"Heatmap\"\n",
    "\n",
    "chart.plotInline"
   ]
  },
  {
   "cell_type": "markdown",
   "metadata": {},
   "source": [
    "#### Scatter3D"
   ]
  },
  {
   "cell_type": "code",
   "execution_count": 34,
   "metadata": {
    "scrolled": false
   },
   "outputs": [
    {
     "data": {
      "text/html": [
       "<div id=\"grid-container_ojiErjKOgt\" class=\"grid-container\" align=\"center\"> \n",
       "<div id=\"grid_ojiErjKOgt\" class=\"grid\" align=\"center\"> \n",
       "<div id=\"graph_ucgTXe2tR5\" class=\"graph\"></div> \n",
       "</div> \n",
       "</div> \n",
       "<script>\n",
       "var masonry = new Macy({\n",
       "    container: '#grid_ojiErjKOgt',\n",
       "    debug: true,\n",
       "    mobileFirst: true,\n",
       "    columns: 1,\n",
       "    margin: {\n",
       "        x: 0,\n",
       "        y: 0\n",
       "    }\n",
       "  });\n",
       "\n",
       " var traces_ucgTXe2tR5 = [{\"name\":\"GQzw6Rs05l\",\"type\":\"scatter3d\",\"mode\":\"markers\",\"x\":[1,2,3,4,5,6,7,8,9,10,11,12,13,14,15,16,17,18,19,20,21,22,23,24,25,26,27,28,29,30,31,32,33,34,35,36,37,38,39,40,41,42,43,44,45,46,47,48,49,50,51,52,53,54,55,56,57,58,59,60,61,62,63,64,65,66,67,68,69,70,71,72,73,74,75,76,77,78,79,80,81,82,83,84,85,86,87,88,89,90,91,92,93,94,95,96,97,98,99],\"y\":[1,2,3,4,5,6,7,8,9,10,11,12,13,14,15,16,17,18,19,20,21,22,23,24,25,26,27,28,29,30,31,32,33,34,35,36,37,38,39,40,41,42,43,44,45,46,47,48,49,50,51,52,53,54,55,56,57,58,59,60,61,62,63,64,65,66,67,68,69,70,71,72,73,74,75,76,77,78,79,80,81,82,83,84,85,86,87,88,89,90,91,92,93,94,95,96,97,98,99],\"z\":[30.51197335896336,73.0688870719008,60.176922359160486,59.82515371009698,25.927726356315834,39.43670308058609,50.1004795061971,84.20993516402653,57.78141626821449,14.26359415674038,100.0707765166729,110.37760074820804,34.26182440750097,90.10110625675195,49.284001799917284,47.16406203371738,104.40132013768932,100.4467194684544,99.06894019866346,113.9228525601386,97.28648013906715,34.765780778018296,115.06225607183032,56.41341327280478,33.09724093224311,76.61531847646569,95.95264133349613,68.67856249091608,95.28431711779206,75.19997368974198,38.777310181433805,126.99327362862043,72.82346577041383,71.72538194889316,39.44582233660381,104.56457997410094,104.23909008614105,41.074544905875754,128.98251390753506,76.38510426610797,80.96862440939621,76.61780933717651,60.920310331804316,142.49028665658764,96.64297915149805,141.3773423070522,133.34505991518836,94.8421142120622,60.987308623872785,132.30203459184008,150.28092320028213,128.15979549628554,132.3002038948608,56.06900536964613,101.42379616149756,148.2404494982342,60.84835081766822,94.6129621279221,66.67112824413503,62.660566708738585,77.01761711987032,146.49491260007676,132.46289255734422,148.22165762869645,102.69037632681986,66.25679503520274,140.63989595588748,77.1011125304457,112.07287575069637,88.06882599848326,77.34201424846287,149.3920347054427,119.07525467599862,112.26143336832448,149.41033513348958,123.56338416301782,122.35082848308073,153.7439187687702,88.82360358786573,158.34447334953947,96.23007542274414,99.84700896571883,171.89078237958424,179.63550318017872,176.03873781362827,101.78674769479537,139.23791943774782,164.2684612201135,149.6682835372029,128.73222643679458,155.06894638066382,188.7904166056426,133.77096934612456,146.3698675755674,149.74643363770093,125.91381921122752,182.58057089456918,142.8921296654236,148.42971518484825]}];\n",
       " var layout_ucgTXe2tR5 = {\"height\":550,\"width\":600,\"hovermode\":\"closest\",\"legend\":{\"orientation\":\"v\"},\"title\":{\"text\":\"XYZ.Scatter3D\"},\"showlegend\":true};\n",
       " var config_ucgTXe2tR5 = {\"responsive\":false,\"scrollZoom\":false,\"displaylogo\":false};\n",
       " Plotly.newPlot(\"graph_ucgTXe2tR5\", traces_ucgTXe2tR5, layout_ucgTXe2tR5, config_ucgTXe2tR5);\n",
       "</script> \n"
      ]
     },
     "metadata": {},
     "output_type": "display_data"
    }
   ],
   "source": [
    "val x = List.range(1, 100)\n",
    "val y = List.range(1, 100)\n",
    "val z = List.range(1, 100).map(e => e + scala.util.Random.nextDouble()*100)\n",
    "\n",
    "val series = XYZ(x, y, z) asType SCATTER3D drawStyle MARKERS\n",
    "val chart1 = Chart() addSeries series setTitle \"XYZ.Scatter3D\" setConfig(false, false)\n",
    "val canvas = Canvas() addCharts chart1\n",
    "canvas.plotInline"
   ]
  },
  {
   "cell_type": "markdown",
   "metadata": {},
   "source": [
    "#### Surface Plot"
   ]
  },
  {
   "cell_type": "code",
   "execution_count": 35,
   "metadata": {
    "scrolled": false
   },
   "outputs": [
    {
     "data": {
      "text/html": [
       "<div id=\"grid-container_BFrwMNaNiA\" class=\"grid-container\" align=\"center\"> \n",
       "<div id=\"grid_BFrwMNaNiA\" class=\"grid\" align=\"center\"> \n",
       "<div id=\"graph_eMDMYCSYmV\" class=\"graph\"></div> \n",
       "</div> \n",
       "</div> \n",
       "<script>\n",
       "var masonry = new Macy({\n",
       "    container: '#grid_BFrwMNaNiA',\n",
       "    debug: true,\n",
       "    mobileFirst: true,\n",
       "    columns: 1,\n",
       "    margin: {\n",
       "        x: 0,\n",
       "        y: 0\n",
       "    }\n",
       "  });\n",
       "\n",
       " var traces_eMDMYCSYmV = [{\"name\":\"pZU6j49gCI\",\"type\":\"surface\",\"z\":[[8.83,8.89,8.81,8.87,8.9,8.87],[8.89,8.94,8.85,8.94,8.96,8.92],[8.84,8.9,8.82,8.92,8.93,8.91],[8.79,8.85,8.79,8.9,8.94,8.92],[8.79,8.88,8.81,8.9,8.95,8.92],[8.8,8.82,8.78,8.91,8.94,8.92],[8.75,8.78,8.77,8.91,8.95,8.92],[8.8,8.8,8.77,8.91,8.95,8.94],[8.74,8.81,8.76,8.93,8.98,8.99],[8.89,8.99,8.92,9.1,9.13,9.11],[8.97,8.97,8.91,9.09,9.11,9.11],[9.04,9.08,9.05,9.25,9.28,9.27],[9,9.01,9,9.2,9.23,9.2],[8.99,8.99,8.98,9.18,9.2,9.19],[8.93,8.97,8.97,9.18,9.2,9.18]]}];\n",
       " var layout_eMDMYCSYmV = {\"height\":550,\"width\":600,\"hovermode\":\"closest\",\"legend\":{\"orientation\":\"v\"},\"title\":{\"text\":\"Surface\"},\"showlegend\":true};\n",
       " var config_eMDMYCSYmV = {\"responsive\":true,\"scrollZoom\":true,\"displaylogo\":false};\n",
       " Plotly.newPlot(\"graph_eMDMYCSYmV\", traces_eMDMYCSYmV, layout_eMDMYCSYmV, config_eMDMYCSYmV);\n",
       "</script> \n"
      ]
     },
     "metadata": {},
     "output_type": "display_data"
    }
   ],
   "source": [
    "// 3d surface plot\n",
    "val k = List(\n",
    "    List(8.83,8.89,8.81,8.87,8.9,8.87),\n",
    "    List(8.89,8.94,8.85,8.94,8.96,8.92),\n",
    "    List(8.84,8.9,8.82,8.92,8.93,8.91),\n",
    "    List(8.79,8.85,8.79,8.9,8.94,8.92),\n",
    "    List(8.79,8.88,8.81,8.9,8.95,8.92),\n",
    "    List(8.8,8.82,8.78,8.91,8.94,8.92),\n",
    "    List(8.75,8.78,8.77,8.91,8.95,8.92),\n",
    "    List(8.8,8.8,8.77,8.91,8.95,8.94),\n",
    "    List(8.74,8.81,8.76,8.93,8.98,8.99),\n",
    "    List(8.89,8.99,8.92,9.1,9.13,9.11),\n",
    "    List(8.97,8.97,8.91,9.09,9.11,9.11),\n",
    "    List(9.04,9.08,9.05,9.25,9.28,9.27),\n",
    "    List(9,9.01,9,9.2,9.23,9.2),\n",
    "    List(8.99,8.99,8.98,9.18,9.2,9.19),\n",
    "    List(8.93,8.97,8.97,9.18,9.2,9.18)\n",
    "  )\n",
    "\n",
    "val series = XYZ(z=k.flatten, n = k(0).length) asType SURFACE\n",
    "val chart2 = Chart() addSeries series setTitle \"Surface\"\n",
    "\n",
    "chart2.plotInline"
   ]
  },
  {
   "cell_type": "markdown",
   "metadata": {
    "scrolled": false
   },
   "source": [
    "#### Third Dimension as Color"
   ]
  },
  {
   "cell_type": "code",
   "execution_count": 36,
   "metadata": {},
   "outputs": [
    {
     "data": {
      "text/html": [
       "<div id=\"grid-container_lKuCXUoHWz\" class=\"grid-container\" align=\"center\"> \n",
       "<div id=\"grid_lKuCXUoHWz\" class=\"grid\" align=\"center\"> \n",
       "<div id=\"graph_kxUB00aqY1\" class=\"graph\"></div> \n",
       "</div> \n",
       "</div> \n",
       "<script>\n",
       "var masonry = new Macy({\n",
       "    container: '#grid_lKuCXUoHWz',\n",
       "    debug: true,\n",
       "    mobileFirst: true,\n",
       "    columns: 1,\n",
       "    margin: {\n",
       "        x: 0,\n",
       "        y: 0\n",
       "    }\n",
       "  });\n",
       "\n",
       " var traces_kxUB00aqY1 = [{\"name\":\"y9gbhjseby\",\"type\":\"scatter\",\"mode\":\"markers\",\"marker\":{\"color\":[30.51197335896336,73.0688870719008,60.176922359160486,59.82515371009698,25.927726356315834,39.43670308058609,50.1004795061971,84.20993516402653,57.78141626821449,14.26359415674038,100.0707765166729,110.37760074820804,34.26182440750097,90.10110625675195,49.284001799917284,47.16406203371738,104.40132013768932,100.4467194684544,99.06894019866346,113.9228525601386,97.28648013906715,34.765780778018296,115.06225607183032,56.41341327280478,33.09724093224311,76.61531847646569,95.95264133349613,68.67856249091608,95.28431711779206,75.19997368974198,38.777310181433805,126.99327362862043,72.82346577041383,71.72538194889316,39.44582233660381,104.56457997410094,104.23909008614105,41.074544905875754,128.98251390753506,76.38510426610797,80.96862440939621,76.61780933717651,60.920310331804316,142.49028665658764,96.64297915149805,141.3773423070522,133.34505991518836,94.8421142120622,60.987308623872785,132.30203459184008,150.28092320028213,128.15979549628554,132.3002038948608,56.06900536964613,101.42379616149756,148.2404494982342,60.84835081766822,94.6129621279221,66.67112824413503,62.660566708738585,77.01761711987032,146.49491260007676,132.46289255734422,148.22165762869645,102.69037632681986,66.25679503520274,140.63989595588748,77.1011125304457,112.07287575069637,88.06882599848326,77.34201424846287,149.3920347054427,119.07525467599862,112.26143336832448,149.41033513348958,123.56338416301782,122.35082848308073,153.7439187687702,88.82360358786573,158.34447334953947,96.23007542274414,99.84700896571883,171.89078237958424,179.63550318017872,176.03873781362827,101.78674769479537,139.23791943774782,164.2684612201135,149.6682835372029,128.73222643679458,155.06894638066382,188.7904166056426,133.77096934612456,146.3698675755674,149.74643363770093,125.91381921122752,182.58057089456918,142.8921296654236,148.42971518484825]},\"x\":[1,2,3,4,5,6,7,8,9,10,11,12,13,14,15,16,17,18,19,20,21,22,23,24,25,26,27,28,29,30,31,32,33,34,35,36,37,38,39,40,41,42,43,44,45,46,47,48,49,50,51,52,53,54,55,56,57,58,59,60,61,62,63,64,65,66,67,68,69,70,71,72,73,74,75,76,77,78,79,80,81,82,83,84,85,86,87,88,89,90,91,92,93,94,95,96,97,98,99],\"y\":[1,2,3,4,5,6,7,8,9,10,11,12,13,14,15,16,17,18,19,20,21,22,23,24,25,26,27,28,29,30,31,32,33,34,35,36,37,38,39,40,41,42,43,44,45,46,47,48,49,50,51,52,53,54,55,56,57,58,59,60,61,62,63,64,65,66,67,68,69,70,71,72,73,74,75,76,77,78,79,80,81,82,83,84,85,86,87,88,89,90,91,92,93,94,95,96,97,98,99]}];\n",
       " var layout_kxUB00aqY1 = {\"height\":550,\"width\":600,\"hovermode\":\"closest\",\"legend\":{\"orientation\":\"v\"},\"title\":{\"text\":\"ScatterWithColor\"},\"showlegend\":true};\n",
       " var config_kxUB00aqY1 = {\"responsive\":true,\"scrollZoom\":true,\"displaylogo\":false};\n",
       " Plotly.newPlot(\"graph_kxUB00aqY1\", traces_kxUB00aqY1, layout_kxUB00aqY1, config_kxUB00aqY1);\n",
       "</script> \n"
      ]
     },
     "metadata": {},
     "output_type": "display_data"
    }
   ],
   "source": [
    "// multiple compositions can be used to create scatter charts with a color representing some third dimension\n",
    "val marker = Marker() setColor z\n",
    "val series = XY(x, y) asType SCATTER drawStyle MARKERS setMarker marker\n",
    "val chart3 = Chart() addSeries series setTitle \"ScatterWithColor\"\n",
    "chart3.plotInline"
   ]
  },
  {
   "cell_type": "markdown",
   "metadata": {},
   "source": [
    "#### Subplot\n",
    "\n",
    "The Subplot class can be used to generate subplots for an XYZ plots just as we did previously."
   ]
  },
  {
   "cell_type": "code",
   "execution_count": 37,
   "metadata": {},
   "outputs": [
    {
     "data": {
      "text/html": [
       "<div id=\"grid-container_j2qkgVvLG5\" class=\"grid-container\" align=\"center\"> \n",
       "<div id=\"grid_j2qkgVvLG5\" class=\"grid\" align=\"center\"> \n",
       "<div id=\"graph_7o9rRxExbo\" class=\"graph\"></div> \n",
       "<div id=\"graph_zUh8o61m62\" class=\"graph\"></div> \n",
       "<div id=\"graph_6ZMw9C5yTa\" class=\"graph\"></div> \n",
       "<div id=\"graph_QZ3bLeLQyS\" class=\"graph\"></div> \n",
       "</div> \n",
       "</div> \n",
       "\n",
       "<div align=\"center\">\n",
       "<button id = \"saveAsPNG_j2qkgVvLG5\" class=\"picta-button\">Download Canvas as PNG</button>\n",
       "</div>\n",
       "<script>\n",
       "var masonry = new Macy({\n",
       "    container: '#grid_j2qkgVvLG5',\n",
       "    debug: true,\n",
       "    mobileFirst: true,\n",
       "    columns: 2,\n",
       "    margin: {\n",
       "        x: 0,\n",
       "        y: 0\n",
       "    }\n",
       "  });\n",
       "\n",
       " var traces_7o9rRxExbo = [{\"name\":\"GQzw6Rs05l\",\"type\":\"scatter3d\",\"mode\":\"markers\",\"x\":[1,2,3,4,5,6,7,8,9,10,11,12,13,14,15,16,17,18,19,20,21,22,23,24,25,26,27,28,29,30,31,32,33,34,35,36,37,38,39,40,41,42,43,44,45,46,47,48,49,50,51,52,53,54,55,56,57,58,59,60,61,62,63,64,65,66,67,68,69,70,71,72,73,74,75,76,77,78,79,80,81,82,83,84,85,86,87,88,89,90,91,92,93,94,95,96,97,98,99],\"y\":[1,2,3,4,5,6,7,8,9,10,11,12,13,14,15,16,17,18,19,20,21,22,23,24,25,26,27,28,29,30,31,32,33,34,35,36,37,38,39,40,41,42,43,44,45,46,47,48,49,50,51,52,53,54,55,56,57,58,59,60,61,62,63,64,65,66,67,68,69,70,71,72,73,74,75,76,77,78,79,80,81,82,83,84,85,86,87,88,89,90,91,92,93,94,95,96,97,98,99],\"z\":[30.51197335896336,73.0688870719008,60.176922359160486,59.82515371009698,25.927726356315834,39.43670308058609,50.1004795061971,84.20993516402653,57.78141626821449,14.26359415674038,100.0707765166729,110.37760074820804,34.26182440750097,90.10110625675195,49.284001799917284,47.16406203371738,104.40132013768932,100.4467194684544,99.06894019866346,113.9228525601386,97.28648013906715,34.765780778018296,115.06225607183032,56.41341327280478,33.09724093224311,76.61531847646569,95.95264133349613,68.67856249091608,95.28431711779206,75.19997368974198,38.777310181433805,126.99327362862043,72.82346577041383,71.72538194889316,39.44582233660381,104.56457997410094,104.23909008614105,41.074544905875754,128.98251390753506,76.38510426610797,80.96862440939621,76.61780933717651,60.920310331804316,142.49028665658764,96.64297915149805,141.3773423070522,133.34505991518836,94.8421142120622,60.987308623872785,132.30203459184008,150.28092320028213,128.15979549628554,132.3002038948608,56.06900536964613,101.42379616149756,148.2404494982342,60.84835081766822,94.6129621279221,66.67112824413503,62.660566708738585,77.01761711987032,146.49491260007676,132.46289255734422,148.22165762869645,102.69037632681986,66.25679503520274,140.63989595588748,77.1011125304457,112.07287575069637,88.06882599848326,77.34201424846287,149.3920347054427,119.07525467599862,112.26143336832448,149.41033513348958,123.56338416301782,122.35082848308073,153.7439187687702,88.82360358786573,158.34447334953947,96.23007542274414,99.84700896571883,171.89078237958424,179.63550318017872,176.03873781362827,101.78674769479537,139.23791943774782,164.2684612201135,149.6682835372029,128.73222643679458,155.06894638066382,188.7904166056426,133.77096934612456,146.3698675755674,149.74643363770093,125.91381921122752,182.58057089456918,142.8921296654236,148.42971518484825]}];\n",
       " var layout_7o9rRxExbo = {\"height\":350,\"width\":350,\"hovermode\":\"closest\",\"legend\":{\"orientation\":\"v\"},\"title\":{\"text\":\"XYZ.Scatter3D\"},\"showlegend\":true,\"margin\":{\"l\":50,\"r\":50,\"t\":50,\"b\":50}};\n",
       " var config_7o9rRxExbo = {\"responsive\":false,\"scrollZoom\":false,\"displaylogo\":false};\n",
       " Plotly.newPlot(\"graph_7o9rRxExbo\", traces_7o9rRxExbo, layout_7o9rRxExbo, config_7o9rRxExbo);\n",
       "\n",
       " var traces_zUh8o61m62 = [{\"name\":\"pZU6j49gCI\",\"type\":\"surface\",\"z\":[[8.83,8.89,8.81,8.87,8.9,8.87],[8.89,8.94,8.85,8.94,8.96,8.92],[8.84,8.9,8.82,8.92,8.93,8.91],[8.79,8.85,8.79,8.9,8.94,8.92],[8.79,8.88,8.81,8.9,8.95,8.92],[8.8,8.82,8.78,8.91,8.94,8.92],[8.75,8.78,8.77,8.91,8.95,8.92],[8.8,8.8,8.77,8.91,8.95,8.94],[8.74,8.81,8.76,8.93,8.98,8.99],[8.89,8.99,8.92,9.1,9.13,9.11],[8.97,8.97,8.91,9.09,9.11,9.11],[9.04,9.08,9.05,9.25,9.28,9.27],[9,9.01,9,9.2,9.23,9.2],[8.99,8.99,8.98,9.18,9.2,9.19],[8.93,8.97,8.97,9.18,9.2,9.18]]}];\n",
       " var layout_zUh8o61m62 = {\"height\":350,\"width\":350,\"hovermode\":\"closest\",\"legend\":{\"orientation\":\"v\"},\"title\":{\"text\":\"Surface\"},\"showlegend\":true,\"margin\":{\"l\":50,\"r\":50,\"t\":50,\"b\":50}};\n",
       " var config_zUh8o61m62 = {\"responsive\":true,\"scrollZoom\":true,\"displaylogo\":false};\n",
       " Plotly.newPlot(\"graph_zUh8o61m62\", traces_zUh8o61m62, layout_zUh8o61m62, config_zUh8o61m62);\n",
       "\n",
       " var traces_6ZMw9C5yTa = [{\"name\":\"y9gbhjseby\",\"type\":\"scatter\",\"mode\":\"markers\",\"marker\":{\"color\":[30.51197335896336,73.0688870719008,60.176922359160486,59.82515371009698,25.927726356315834,39.43670308058609,50.1004795061971,84.20993516402653,57.78141626821449,14.26359415674038,100.0707765166729,110.37760074820804,34.26182440750097,90.10110625675195,49.284001799917284,47.16406203371738,104.40132013768932,100.4467194684544,99.06894019866346,113.9228525601386,97.28648013906715,34.765780778018296,115.06225607183032,56.41341327280478,33.09724093224311,76.61531847646569,95.95264133349613,68.67856249091608,95.28431711779206,75.19997368974198,38.777310181433805,126.99327362862043,72.82346577041383,71.72538194889316,39.44582233660381,104.56457997410094,104.23909008614105,41.074544905875754,128.98251390753506,76.38510426610797,80.96862440939621,76.61780933717651,60.920310331804316,142.49028665658764,96.64297915149805,141.3773423070522,133.34505991518836,94.8421142120622,60.987308623872785,132.30203459184008,150.28092320028213,128.15979549628554,132.3002038948608,56.06900536964613,101.42379616149756,148.2404494982342,60.84835081766822,94.6129621279221,66.67112824413503,62.660566708738585,77.01761711987032,146.49491260007676,132.46289255734422,148.22165762869645,102.69037632681986,66.25679503520274,140.63989595588748,77.1011125304457,112.07287575069637,88.06882599848326,77.34201424846287,149.3920347054427,119.07525467599862,112.26143336832448,149.41033513348958,123.56338416301782,122.35082848308073,153.7439187687702,88.82360358786573,158.34447334953947,96.23007542274414,99.84700896571883,171.89078237958424,179.63550318017872,176.03873781362827,101.78674769479537,139.23791943774782,164.2684612201135,149.6682835372029,128.73222643679458,155.06894638066382,188.7904166056426,133.77096934612456,146.3698675755674,149.74643363770093,125.91381921122752,182.58057089456918,142.8921296654236,148.42971518484825]},\"x\":[1,2,3,4,5,6,7,8,9,10,11,12,13,14,15,16,17,18,19,20,21,22,23,24,25,26,27,28,29,30,31,32,33,34,35,36,37,38,39,40,41,42,43,44,45,46,47,48,49,50,51,52,53,54,55,56,57,58,59,60,61,62,63,64,65,66,67,68,69,70,71,72,73,74,75,76,77,78,79,80,81,82,83,84,85,86,87,88,89,90,91,92,93,94,95,96,97,98,99],\"y\":[1,2,3,4,5,6,7,8,9,10,11,12,13,14,15,16,17,18,19,20,21,22,23,24,25,26,27,28,29,30,31,32,33,34,35,36,37,38,39,40,41,42,43,44,45,46,47,48,49,50,51,52,53,54,55,56,57,58,59,60,61,62,63,64,65,66,67,68,69,70,71,72,73,74,75,76,77,78,79,80,81,82,83,84,85,86,87,88,89,90,91,92,93,94,95,96,97,98,99]}];\n",
       " var layout_6ZMw9C5yTa = {\"height\":350,\"width\":350,\"hovermode\":\"closest\",\"legend\":{\"orientation\":\"v\"},\"title\":{\"text\":\"ScatterWithColor\"},\"showlegend\":true,\"margin\":{\"l\":50,\"r\":50,\"t\":50,\"b\":50}};\n",
       " var config_6ZMw9C5yTa = {\"responsive\":true,\"scrollZoom\":true,\"displaylogo\":false};\n",
       " Plotly.newPlot(\"graph_6ZMw9C5yTa\", traces_6ZMw9C5yTa, layout_6ZMw9C5yTa, config_6ZMw9C5yTa);\n",
       "\n",
       " var traces_QZ3bLeLQyS = [{\"name\":\"VxGu0BBEx3\",\"type\":\"heatmap\",\"z\":[[40.24131659480615,58.859180317883954,87.87081278390032,29.04650985862604,35.40753133965536,89.22794422317281,88.21125125227192,49.266258972932015,26.882078527174293,41.14427891077194],[76.80482254863136,52.24485185324511,32.68241430824518,113.70581221463213,42.29607868228224,87.50974612396651,52.87595635264139,19.763306029163893,36.97327576525487,25.00580820780392],[45.81689788451996,25.74096164674793,116.59812448203832,70.14986986232894,67.30575910645393,80.62229291230634,106.53874506931714,76.90251106294727,125.62887238947908,64.91521445574578],[112.44617699829477,69.40698004033081,68.032589381458,113.16379912495805,132.87494113651988,44.56159417346284,54.90968109080856,89.45316737497328,98.53335884288393,42.83334007832175],[96.82304937743008,124.35778391180308,58.25939854306743,142.6868596087206,126.4645382420197,53.91240799012116,55.35310496116362,55.194318770304164,52.7442662442593,136.43882606293133],[89.55665376632442,69.70816934928419,97.42857329548907,61.440387326432486,139.7584354833083,128.9201379637418,146.09235019968418,106.28030581765657,130.40751437098774,92.1962152607027],[154.62412315200703,140.98856342649225,160.6601412163628,79.7688290357771,140.11995738934627,129.2961716471678,79.44006052175726,77.18378255500099,150.7249334249899,124.87445161134494],[81.87950745808901,119.3409560931694,152.8285121102774,115.7609166191549,123.0180084150899,166.5341311636131,95.99285407411797,127.08219215824244,93.17119920593147,131.08680277659502],[116.09077452168535,152.43840432123943,176.0420328125954,112.49711534768335,115.35266281940636,147.69227183282723,115.43195504881552,151.44660220330476,114.36935838304538,187.41014147920382],[149.3197162666201,118.59369055639529,105.57067098087047,153.83102416515683,131.1106882281882,112.76445253954104,150.29680373203348,100.9936588535333,147.0197095545896,154.96939135140846]]}];\n",
       " var layout_QZ3bLeLQyS = {\"height\":350,\"width\":350,\"hovermode\":\"closest\",\"legend\":{\"orientation\":\"v\"},\"title\":{\"text\":\"Heatmap\"},\"showlegend\":true,\"margin\":{\"l\":50,\"r\":50,\"t\":50,\"b\":50}};\n",
       " var config_QZ3bLeLQyS = {\"responsive\":true,\"scrollZoom\":true,\"displaylogo\":false};\n",
       " Plotly.newPlot(\"graph_QZ3bLeLQyS\", traces_QZ3bLeLQyS, layout_QZ3bLeLQyS, config_QZ3bLeLQyS);\n",
       "\n",
       "var save = document.getElementById(\"saveAsPNG_j2qkgVvLG5\")\n",
       "save.onclick = function() {\n",
       "    const grid = document.getElementById(\"grid-container_j2qkgVvLG5\")\n",
       "    const svg_containers = grid.getElementsByClassName('svg-container')\n",
       "    const main_svgs = grid.getElementsByClassName('main-svg')\n",
       "\n",
       "    const svg_containers_styles = []\n",
       "    const main_svgs_styles = []\n",
       "\n",
       "    const modebars = document.getElementsByClassName(\"modebar-container\")\n",
       "\n",
       "    for (var i = 0; i < modebars.length; i++) {\n",
       "        modebars[i].style.display = \"none\"\n",
       "    }\n",
       "\n",
       "    domtoimage.toPng(grid)\n",
       "    .then(function (dataUrl) {\n",
       "        var img = new Image();\n",
       "        img.src = dataUrl;\n",
       "        var link = document.createElement('a');\n",
       "        link.download = 'Picta-image.png';\n",
       "        link.href = dataUrl;\n",
       "        link.click()\n",
       "    })\n",
       "    .catch(function (error) {\n",
       "        console.error('oops, something went wrong!', error);\n",
       "    });\n",
       "}\n",
       "</script> \n"
      ]
     },
     "metadata": {},
     "output_type": "display_data"
    }
   ],
   "source": [
    "// it may be necessary to play around with the chart dimensions and margin  in order to ensure a good fit on screen.\n",
    "val dim = 350\n",
    "\n",
    "// The canvas has an underlying grid. By default the underlying grid is 1x1, but we can pass in the dimensions we \n",
    "// require by passing in parameters in the constructor.\n",
    "Canvas(2, 2)\n",
    ".setChart(0, 0, chart1.setDimensions(width = dim, height = dim).setMargin(l=50, r=50, t=50, b=50))\n",
    ".setChart(0, 1, chart2.setDimensions(width = dim, height = dim)setMargin(l=50, r=50, t=50, b=50))\n",
    ".setChart(1, 0, chart3.setDimensions(width = dim, height = dim)setMargin(l=50, r=50, t=50, b=50))\n",
    ".setChart(1, 1, chart.setDimensions(width = dim, height = dim)setMargin(l=50, r=50, t=50, b=50))\n",
    ".plotInline"
   ]
  },
  {
   "cell_type": "markdown",
   "metadata": {},
   "source": [
    "#### Map\n",
    "\n",
    "We can also create maps using the composition technique below."
   ]
  },
  {
   "cell_type": "code",
   "execution_count": 38,
   "metadata": {},
   "outputs": [],
   "source": [
    "import org.carbonateresearch.picta.options.{Margin, Line}\n",
    "import org.carbonateresearch.picta.Map"
   ]
  },
  {
   "cell_type": "code",
   "execution_count": 39,
   "metadata": {},
   "outputs": [
    {
     "data": {
      "text/html": [
       "<div id=\"grid-container_4HLgmzVRfn\" class=\"grid-container\" align=\"center\"> \n",
       "<div id=\"grid_4HLgmzVRfn\" class=\"grid\" align=\"center\"> \n",
       "<div id=\"graph_us51J6YlEO\" class=\"graph\"></div> \n",
       "</div> \n",
       "</div> \n",
       "<script>\n",
       "var masonry = new Macy({\n",
       "    container: '#grid_4HLgmzVRfn',\n",
       "    debug: true,\n",
       "    mobileFirst: true,\n",
       "    columns: 1,\n",
       "    margin: {\n",
       "        x: 0,\n",
       "        y: 0\n",
       "    }\n",
       "  });\n",
       "\n",
       " var traces_us51J6YlEO = [{\"name\":\"sZvhzIS3Oc\",\"lat\":[40.7127,51.5072],\"lon\":[-74.0059,0.1275],\"type\":\"scattergeo\",\"mode\":\"lines\",\"line\":{\"width\":2,\"color\":\"red\"}}];\n",
       " var layout_us51J6YlEO = {\"height\":550,\"width\":600,\"hovermode\":\"closest\",\"legend\":{\"orientation\":\"v\"},\"showlegend\":true,\"geo\":{\"resolution\":50,\"showland\":true,\"showlakes\":true,\"coastlinewidth\":2,\"landcolor\":\"rgb(204, 204, 204)\",\"lakecolor\":\"rgb(255, 255, 255)\",\"lataxis\":{\"range\":[20,60],\"showgrid\":true,\"dtick\":10},\"lonaxis\":{\"range\":[-100,20],\"showgrid\":true,\"dtick\":10}},\"margin\":{\"l\":0,\"r\":0,\"t\":0,\"b\":0}};\n",
       " var config_us51J6YlEO = {\"responsive\":false,\"scrollZoom\":false,\"displaylogo\":false};\n",
       " Plotly.newPlot(\"graph_us51J6YlEO\", traces_us51J6YlEO, layout_us51J6YlEO, config_us51J6YlEO);\n",
       "</script> \n"
      ]
     },
     "metadata": {},
     "output_type": "display_data"
    }
   ],
   "source": [
    "// draw a line on the map that is red\n",
    "val line = Line(width = 2) setColor \"red\"\n",
    "\n",
    "// construct the map Series. It is an XY chart as it takes in a List of Longitude and Latitude\n",
    "val series = Map(List(40.7127, 51.5072), List(-74.0059, 0.1275)) drawSymbol LINES drawLine line\n",
    "\n",
    "// These are options that further specify the options for the map\n",
    "val geo = MapOptions(landcolor = \"rgb(204, 204, 204)\", lakecolor = \"rgb(255, 255, 255)\")\n",
    "              .setMapAxes(LatAxis(List(20, 60)), LongAxis(List(-100, 20)))\n",
    "\n",
    "val chart = (\n",
    "    Chart() \n",
    "    addSeries series \n",
    "    setConfig(false, false)\n",
    "    setMapOptions geo\n",
    "    setMargin(l=0, r=0, t=0, b=0)\n",
    ")\n",
    "\n",
    "chart.plotInline"
   ]
  },
  {
   "cell_type": "markdown",
   "metadata": {},
   "source": [
    "### Animated Charts\n",
    "\n",
    "We can also create animated charts. This can be useful for tracking the evolution of a data over time.\n",
    "\n",
    "All `Series` types should be supported.\n",
    "\n",
    "#### 2D Animated Chart"
   ]
  },
  {
   "cell_type": "code",
   "execution_count": 40,
   "metadata": {},
   "outputs": [],
   "source": [
    "import org.carbonateresearch.picta.options.ColorOptions._\n",
    "\n",
    "// creates random XY for testing purposes\n",
    "def createXYSeries[T: Color]\n",
    "(numberToCreate: Int, count: Int = 0, length: Int = 10): List[XY[Int, Double, T, T]] = {\n",
    "    if (count == numberToCreate) Nil\n",
    "    else {\n",
    "      val xs = List.range(0, length)\n",
    "      val ys = xs.map(x => scala.util.Random.nextDouble() * x)\n",
    "      val series = XY(x = xs, y = ys, name = \"series \" + count).drawMarkers\n",
    "      series :: createXYSeries(numberToCreate, count + 1, length)\n",
    "    }\n",
    "}\n",
    "\n",
    "def createXYZSeries(numberToCreate: Int, count: Int = 0, length: Int = 10): List[XYZ[Int, Double, Double]] = {\n",
    "    if (count == numberToCreate) Nil\n",
    "    else {\n",
    "      val xs = List.range(0, length)\n",
    "      val ys = xs.map(x => scala.util.Random.nextDouble() * x)\n",
    "      val zs = xs.map(x => scala.util.Random.nextDouble() * x * scala.util.Random.nextInt())\n",
    "      val series = XYZ(x = xs, y = ys, z = zs, name = \"series \" + count, `type` = SCATTER3D).drawMarkers\n",
    "      series :: createXYZSeries(numberToCreate, count + 1, length)\n",
    "    }\n",
    "}"
   ]
  },
  {
   "cell_type": "code",
   "execution_count": 41,
   "metadata": {
    "scrolled": false
   },
   "outputs": [
    {
     "data": {
      "text/html": [
       "<div id=\"grid-container_Gkoqwo5Utr\" class=\"grid-container\" align=\"center\"> \n",
       "<div id=\"grid_Gkoqwo5Utr\" class=\"grid\" align=\"center\"> \n",
       "\n",
       "<div align=\"center\">\n",
       "  <div id=\"graph_xy0JoyUcpv\" class=\"graph\"></div>\n",
       "  <div class=\"animationInterface\">\n",
       "    <button id=\"play_xy0JoyUcpv\" class=\"picta-button\">Play</button>\n",
       "    <button id=\"pause_xy0JoyUcpv\" class=\"picta-button\">Pause</button>\n",
       "    <div id=\"sliderContainer_xy0JoyUcpv\" class=\"progressBar\"></div>\n",
       "    <div id=\"counterContainer_xy0JoyUcpv\" class=\"inline-div\">\n",
       "        <h3>Frame: </h3> <h3 id=\"value_xy0JoyUcpv\">0</h3>\n",
       "    </div>\n",
       "   </div>\n",
       "</div> \n",
       "\n",
       "</div> \n",
       "</div> \n",
       "<script>\n",
       "var masonry = new Macy({\n",
       "    container: '#grid_Gkoqwo5Utr',\n",
       "    debug: true,\n",
       "    mobileFirst: true,\n",
       "    columns: 1,\n",
       "    margin: {\n",
       "        x: 0,\n",
       "        y: 0\n",
       "    }\n",
       "  });\n",
       "\n",
       "var graph_xy0JoyUcpv = document.getElementById('graph_xy0JoyUcpv')\n",
       "var traces_xy0JoyUcpv = [{\"name\":\"series 0\",\"type\":\"scatter\",\"mode\":\"markers\",\"x\":[0,1,2,3,4,5,6,7,8,9,10,11,12,13,14,15,16,17,18,19,20,21,22,23,24,25,26,27,28,29],\"y\":[0,0.5078800990295892,0.5037066299771371,1.564561204104499,3.454511692362087,2.1709203918447733,3.1148003254414585,0.06930122569903063,7.564648542173302,2.3548638338530297,3.266202695896868,10.669825243559021,8.57334450643835,4.897981597100458,11.40539546098096,9.734255316324612,14.33415977623555,7.66880640465589,4.189360975854426,14.29892891231983,16.456038409061268,20.954967215532644,16.99338092871894,15.55144512812719,12.384567722485567,14.791196073915744,2.5053507476547097,6.210307698809343,25.561272378496984,7.944088792845904]}]\n",
       "var layout_xy0JoyUcpv = {\"height\":550,\"width\":600,\"hovermode\":\"closest\",\"legend\":{\"orientation\":\"v\"},\"title\":{\"text\":\"Animation XY\"},\"showlegend\":true,\"xaxis\":{\"title\":{\"text\":\"X Variable\"},\"showgrid\":true,\"zeroline\":false,\"showline\":false,\"range\":[0,10]},\"yaxis\":{\"title\":{\"text\":\"Y Variable\"},\"showgrid\":true,\"zeroline\":false,\"showline\":false,\"range\":[0,10]}}\n",
       "var frames_xy0JoyUcpv = [{\"name\":\"series 0\",\"data\":[{\"name\":\"series 0\",\"type\":\"scatter\",\"mode\":\"markers\",\"x\":[0,1,2,3,4,5,6,7,8,9,10,11,12,13,14,15,16,17,18,19,20,21,22,23,24,25,26,27,28,29],\"y\":[0,0.5078800990295892,0.5037066299771371,1.564561204104499,3.454511692362087,2.1709203918447733,3.1148003254414585,0.06930122569903063,7.564648542173302,2.3548638338530297,3.266202695896868,10.669825243559021,8.57334450643835,4.897981597100458,11.40539546098096,9.734255316324612,14.33415977623555,7.66880640465589,4.189360975854426,14.29892891231983,16.456038409061268,20.954967215532644,16.99338092871894,15.55144512812719,12.384567722485567,14.791196073915744,2.5053507476547097,6.210307698809343,25.561272378496984,7.944088792845904]}]},{\"name\":\"series 1\",\"data\":[{\"name\":\"series 1\",\"type\":\"scatter\",\"mode\":\"markers\",\"x\":[0,1,2,3,4,5,6,7,8,9,10,11,12,13,14,15,16,17,18,19,20,21,22,23,24,25,26,27,28,29],\"y\":[0,0.7925814249050807,0.8011930575190709,2.7982710900007266,3.812723608588471,0.5301395941213283,5.667526471366566,6.955342257040517,3.4733547851177757,8.938333358691871,2.680377148256458,6.459833924844949,2.9016046898815966,1.5443019609876139,10.274086656472921,7.05680767786295,6.587209397857507,9.267167703318917,14.56127890680447,6.98581625379987,13.959115574862416,4.982540064421989,5.473269137337828,1.7045227539015715,20.937676354678747,21.606209395731682,11.194443715689486,16.600688090021052,16.55169154259705,6.094369085451213]}]},{\"name\":\"series 2\",\"data\":[{\"name\":\"series 2\",\"type\":\"scatter\",\"mode\":\"markers\",\"x\":[0,1,2,3,4,5,6,7,8,9,10,11,12,13,14,15,16,17,18,19,20,21,22,23,24,25,26,27,28,29],\"y\":[0,0.9901877190832622,0.8751935462707445,0.7828375427474052,0.10384291400104173,2.7695329610865826,2.9694998451456067,3.955886690305637,6.976560082961519,7.818616259640399,0.7433832221366832,8.573958405683916,1.7698756273362517,12.517915382863812,0.45522897800875306,6.0893744577868585,9.965300505436074,4.618185640722268,8.049036748386534,11.445024003716936,4.252884628274001,3.970986193595979,6.354372841501044,13.919629208972745,6.378734346427572,1.9794491867745234,3.272811870450779,20.072125028484813,17.410572536143587,23.14227628168903]}]},{\"name\":\"series 3\",\"data\":[{\"name\":\"series 3\",\"type\":\"scatter\",\"mode\":\"markers\",\"x\":[0,1,2,3,4,5,6,7,8,9,10,11,12,13,14,15,16,17,18,19,20,21,22,23,24,25,26,27,28,29],\"y\":[0,0.2401222594241249,1.7566231158236678,0.7964736628389568,2.8627647928612077,0.004602079087243638,5.499103958834049,2.73537380057573,4.203356683153649,3.325518196986203,3.663563332193527,7.741632454144615,2.7155289524144153,5.1331850460888315,5.001565610767008,5.615880047921977,9.643772629281143,8.48258860859525,10.748210555917499,17.304576228584118,4.921664236362179,11.758446154648407,12.091337928790216,16.572495769008846,15.491671419143596,8.314200648563276,6.199329274961762,24.053480216736524,20.66591784333188,23.705099906951137]}]},{\"name\":\"series 4\",\"data\":[{\"name\":\"series 4\",\"type\":\"scatter\",\"mode\":\"markers\",\"x\":[0,1,2,3,4,5,6,7,8,9,10,11,12,13,14,15,16,17,18,19,20,21,22,23,24,25,26,27,28,29],\"y\":[0,0.9977401356913046,0.9129452103442792,1.9742299887194468,1.2343525891175045,2.4513690385400073,3.142927587145108,6.289819811119123,5.713365909161622,1.9101031907114185,9.892867919166896,5.103606771579068,8.287311907895411,11.971990319866656,10.806299223105627,8.127372389961488,4.230960597686536,4.12578389425437,14.142977115062026,12.072816096446363,2.2971082377465124,7.658044211870122,1.2541983506725691,10.055618386794057,21.025782288697762,22.596475650424065,15.885779066121954,22.334102854803888,10.187215618734967,23.713960923356556]}]},{\"name\":\"series 5\",\"data\":[{\"name\":\"series 5\",\"type\":\"scatter\",\"mode\":\"markers\",\"x\":[0,1,2,3,4,5,6,7,8,9,10,11,12,13,14,15,16,17,18,19,20,21,22,23,24,25,26,27,28,29],\"y\":[0,0.2395803675848892,0.9806761115022518,2.7729582502908148,0.9127388737918696,1.805029699843688,4.218808095260335,4.098829116921594,1.6128243516097296,5.619707771707506,8.85810796773347,4.109231619923585,6.0399568695943255,3.1848391482827845,11.094639258929398,1.3254287037712031,13.525571870673817,10.335597185021928,4.549836569415624,6.146287377549035,5.650103147903398,13.921794201375281,12.773025482920183,20.41053631922204,18.523079206858675,15.126064599948648,22.026878796176316,21.045306620243263,20.506800560680865,15.401104506036576]}]},{\"name\":\"series 6\",\"data\":[{\"name\":\"series 6\",\"type\":\"scatter\",\"mode\":\"markers\",\"x\":[0,1,2,3,4,5,6,7,8,9,10,11,12,13,14,15,16,17,18,19,20,21,22,23,24,25,26,27,28,29],\"y\":[0,0.09216850347477323,1.2089265388295065,2.8396404744259174,2.4132332137133696,0.8307559132057563,0.5138106306935009,6.788480717739525,0.25519895659739866,5.027120631948023,9.355497427868094,9.129431813139492,10.003973613366654,11.743039612646802,13.755714918550327,11.823741585169712,11.130885586126166,9.155223675994833,4.330821088859713,17.573492712875144,7.909624871870335,17.986948237851994,18.708129590496274,7.576138960189419,7.186626468862271,17.272126406611243,23.277807047741902,2.8898977220778086,26.665764749059743,20.248880550813066]}]},{\"name\":\"series 7\",\"data\":[{\"name\":\"series 7\",\"type\":\"scatter\",\"mode\":\"markers\",\"x\":[0,1,2,3,4,5,6,7,8,9,10,11,12,13,14,15,16,17,18,19,20,21,22,23,24,25,26,27,28,29],\"y\":[0,0.27294966839230683,1.7458276871082068,1.8410845420598188,0.44307734418297384,0.2104004881703675,1.2604706402356147,3.2491895819157293,3.7042588548551105,2.1978037581616836,4.861803733734805,3.3935906195980037,10.24557878178576,7.718252203941359,3.579062529694827,12.603114319198276,8.257935966265785,5.544874327577378,2.549568992340656,4.489556913203289,1.3680596764926745,5.81755243793619,8.319017344956233,22.19548076042905,17.791665489840064,20.569823211192485,17.710318327225163,23.637230897239736,21.423391866087254,6.692532610360775]}]},{\"name\":\"series 8\",\"data\":[{\"name\":\"series 8\",\"type\":\"scatter\",\"mode\":\"markers\",\"x\":[0,1,2,3,4,5,6,7,8,9,10,11,12,13,14,15,16,17,18,19,20,21,22,23,24,25,26,27,28,29],\"y\":[0,0.7835107686081442,1.8132091029434585,2.612438763102944,1.8493425696404096,4.710055319337697,4.766701566902739,3.0159555275868457,4.8126148352955544,2.126294268654152,8.522976859384936,8.22810904208735,9.69266541471453,8.867405423133361,5.191699373573828,1.765138012889817,12.091441661510581,13.9418550781837,8.880371032341106,18.533494424698183,9.621273567767634,18.836851324079326,14.59950347974043,15.184906016103339,16.115797281352936,7.627984094837132,10.154584646714355,15.157124895730128,19.439581079005084,17.708792562532373]}]},{\"name\":\"series 9\",\"data\":[{\"name\":\"series 9\",\"type\":\"scatter\",\"mode\":\"markers\",\"x\":[0,1,2,3,4,5,6,7,8,9,10,11,12,13,14,15,16,17,18,19,20,21,22,23,24,25,26,27,28,29],\"y\":[0,0.3291895051941055,1.711693894339289,1.9287043802942523,2.3282085929809044,4.922277853811845,2.3949584763666705,3.7814805648915693,5.165986517119191,6.3200313907398185,7.840982802199697,3.8680859263645,7.398496988680717,9.931493191733347,12.14950788686295,11.690256996377638,12.51561615883968,11.449850377075498,12.675876166110681,17.34494940429424,19.593702380541735,15.006688724759774,17.941754909705903,8.159073328345201,17.81795134562637,7.2685611588225205,24.812885239983817,26.062138894597762,9.939378183049502,6.77604605614158]}]},{\"name\":\"series 10\",\"data\":[{\"name\":\"series 10\",\"type\":\"scatter\",\"mode\":\"markers\",\"x\":[0,1,2,3,4,5,6,7,8,9,10,11,12,13,14,15,16,17,18,19,20,21,22,23,24,25,26,27,28,29],\"y\":[0,0.5658203812001876,0.6522770626781564,2.6753607514211173,1.6898678511111274,1.6513315405043332,2.4635273152459822,1.5260745712685393,0.33317824580348976,2.4114578876702484,4.585899642281572,2.9046261483420976,0.32586469800967244,2.019531410200587,0.7495536917923422,6.882603634130775,7.942870793037054,8.655039880117618,1.9680580542493609,15.179493856806557,6.964776973938161,14.896815385631662,7.538233819825572,14.064972317677304,9.339267867494504,4.513011601734506,21.04788761271183,23.328117961207948,22.01860185248743,17.853375578079778]}]},{\"name\":\"series 11\",\"data\":[{\"name\":\"series 11\",\"type\":\"scatter\",\"mode\":\"markers\",\"x\":[0,1,2,3,4,5,6,7,8,9,10,11,12,13,14,15,16,17,18,19,20,21,22,23,24,25,26,27,28,29],\"y\":[0,0.08845792141369058,1.514038486439533,1.7724155323253932,1.3350054287501707,4.329874714688992,5.282421924602556,3.903257579991062,5.7892731125246115,4.252410106456815,9.301005173868731,1.3700802928104117,4.353750062121566,9.444120758995306,9.258624792125989,11.138489330079224,11.347365241883825,5.074674885747953,10.10246094687609,7.502494686753189,3.88129184382765,15.6205374941284,3.7833694810236973,15.139013046110795,3.0683037306625707,7.524360404749503,5.981108994985064,14.859514412970471,22.833296760284725,1.8359459414089638]}]},{\"name\":\"series 12\",\"data\":[{\"name\":\"series 12\",\"type\":\"scatter\",\"mode\":\"markers\",\"x\":[0,1,2,3,4,5,6,7,8,9,10,11,12,13,14,15,16,17,18,19,20,21,22,23,24,25,26,27,28,29],\"y\":[0,0.9075486260713317,0.892236062674437,1.4248314722263382,0.49738144879444546,3.232931360044539,5.459792700007298,1.5983654802371163,1.3651761069206394,1.4129103303616297,8.125254521929854,6.031556684285493,6.641573937444274,3.1497004115981437,8.489468669622486,8.034857834600388,2.0180216753994813,8.212616407515503,16.939634213553315,13.546029915781563,5.936726230270222,13.23582221336665,0.9584053064339475,3.83630337703822,12.169079789496983,16.321627958645298,4.808412553952656,19.228905720134797,1.1793821073546509,10.540702487920422]}]},{\"name\":\"series 13\",\"data\":[{\"name\":\"series 13\",\"type\":\"scatter\",\"mode\":\"markers\",\"x\":[0,1,2,3,4,5,6,7,8,9,10,11,12,13,14,15,16,17,18,19,20,21,22,23,24,25,26,27,28,29],\"y\":[0,0.3186721887247971,1.0567088662229884,0.36866668404280134,0.9651387180653992,3.1633223580591596,2.499723355768025,6.901723161254993,4.815682190822035,7.2533506451605465,7.305592333636413,8.716935245805315,2.150821195907195,12.972665059407621,5.122999585686683,1.941166846240721,9.402605568648228,14.5801900535049,4.8207459837851525,15.119246466946334,14.636267068188431,0.23705122982770088,19.44164442560806,8.853264629284476,10.199309374904999,2.029925816286507,10.215138458915227,23.447617982155602,1.2210708445674907,1.3437038063368956]}]},{\"name\":\"series 14\",\"data\":[{\"name\":\"series 14\",\"type\":\"scatter\",\"mode\":\"markers\",\"x\":[0,1,2,3,4,5,6,7,8,9,10,11,12,13,14,15,16,17,18,19,20,21,22,23,24,25,26,27,28,29],\"y\":[0,0.610488695818265,0.7361210956711326,2.446829457523693,2.071231319840341,0.3675305509797344,1.8927970012436168,5.121155096918068,7.661022115726617,5.257813051381003,3.5801167066790542,3.8230886049295982,5.750715937396888,11.98481786567179,0.5264228911080695,3.4214190613864615,0.8564448598561967,2.7780260803883166,2.476048476664792,13.530996485401745,17.7461792053665,3.6282350207435687,16.556812124650595,12.577624080470377,6.658733502061057,8.998657917907305,18.46346134597185,1.392777610640842,19.238405367039157,24.61013324773795]}]},{\"name\":\"series 15\",\"data\":[{\"name\":\"series 15\",\"type\":\"scatter\",\"mode\":\"markers\",\"x\":[0,1,2,3,4,5,6,7,8,9,10,11,12,13,14,15,16,17,18,19,20,21,22,23,24,25,26,27,28,29],\"y\":[0,0.004141017111924383,1.746673665753335,2.9746389731806158,1.8384809215134146,3.769608751733988,1.8670809387489746,1.7544661419259366,5.2886525905909245,1.4595098229349697,6.045094404013297,9.016964565274256,5.96662021443418,10.985902838964812,0.7393349327291316,0.1364756817109808,1.026887583925145,14.498159089106277,0.9134080395853281,6.348694761030099,1.036458389615742,7.481668027522882,11.835368824730535,10.447774044924934,16.239615550209923,3.305043512291275,7.48228027881505,16.029949649596514,27.169300848454828,18.558365226004284]}]},{\"name\":\"series 16\",\"data\":[{\"name\":\"series 16\",\"type\":\"scatter\",\"mode\":\"markers\",\"x\":[0,1,2,3,4,5,6,7,8,9,10,11,12,13,14,15,16,17,18,19,20,21,22,23,24,25,26,27,28,29],\"y\":[0,0.8426710686469785,1.380828578428166,0.790089810118129,0.8123610814599296,3.922461746017788,3.8657028767557584,5.995384529087331,5.7232346831769485,2.0189034804393686,2.7308665971625015,0.8285791123539756,11.42242969503419,5.261725181973108,13.00919933400178,1.5699763915663256,4.638358376283376,16.752818851180955,7.186417572750558,5.616477348395684,6.142226778183479,4.976600004831831,19.21142527311708,21.121561736061132,13.76422292648671,8.813175105269377,19.312698880954134,19.012392401308684,25.41578480539156,15.005688053532513]}]},{\"name\":\"series 17\",\"data\":[{\"name\":\"series 17\",\"type\":\"scatter\",\"mode\":\"markers\",\"x\":[0,1,2,3,4,5,6,7,8,9,10,11,12,13,14,15,16,17,18,19,20,21,22,23,24,25,26,27,28,29],\"y\":[0,0.10199010158576205,0.8674139841279203,1.1766356756892793,3.287359835960303,1.031787311742861,3.950697765199876,6.741275495985533,5.678582040326724,1.1523122330296993,7.0541642152153115,3.2209334687719275,10.049406453011647,2.243094984382954,11.002222842655252,8.489438494404617,9.983462528055098,9.658615005927501,17.40341468913426,18.279279882483692,17.95530606290159,13.482276540367328,6.683804774061137,7.268289688417678,22.17333951078881,7.041923359916124,11.590925144548882,6.118621675752435,15.926351030872818,6.927388961476617]}]},{\"name\":\"series 18\",\"data\":[{\"name\":\"series 18\",\"type\":\"scatter\",\"mode\":\"markers\",\"x\":[0,1,2,3,4,5,6,7,8,9,10,11,12,13,14,15,16,17,18,19,20,21,22,23,24,25,26,27,28,29],\"y\":[0,0.2609509662001557,1.0330253237829043,1.000372560785562,0.7408138562780375,0.8411464290412479,5.66028078997725,6.283286448673804,3.566182892147535,5.084366644122682,0.8314201282277811,9.50365059487094,10.16408446467145,4.965832762584481,9.374851907549887,11.188323878989127,12.613626244540198,8.078224496660308,5.964458323393462,7.300977562677714,15.663665463341228,4.022311719634043,13.868370173647353,17.073301991702508,7.686551793684577,8.92951025645404,15.269987148899649,5.89828012567399,7.077565419776715,3.091890477938237]}]},{\"name\":\"series 19\",\"data\":[{\"name\":\"series 19\",\"type\":\"scatter\",\"mode\":\"markers\",\"x\":[0,1,2,3,4,5,6,7,8,9,10,11,12,13,14,15,16,17,18,19,20,21,22,23,24,25,26,27,28,29],\"y\":[0,0.9168291159098854,1.1784974854769141,0.6247649948527476,3.1791174461378375,0.3319356971166526,5.483380657346309,0.4056931344745819,2.996016859364537,2.8015967314568213,0.4672081406564732,3.411090833964361,2.8500782867552563,11.818550923813806,13.575423248490607,2.9215586202928643,14.448917472085123,16.4565303194439,8.836219526618773,17.670929546017085,11.021234136048864,15.32827794312535,13.130842702537663,6.438853860483405,15.225103340118173,14.099139530430946,24.720547260807045,6.249253470596302,23.541858141433636,22.42829904270221]}]},{\"name\":\"series 20\",\"data\":[{\"name\":\"series 20\",\"type\":\"scatter\",\"mode\":\"markers\",\"x\":[0,1,2,3,4,5,6,7,8,9,10,11,12,13,14,15,16,17,18,19,20,21,22,23,24,25,26,27,28,29],\"y\":[0,0.9681302793525902,0.9947161284781143,1.6137033833722048,0.06032826390076096,4.016208921873578,5.832641592232852,2.207917519913681,7.7871031904330055,4.516117904007082,6.2055958816190016,8.896331424170489,10.318305723679483,6.094943796268074,4.8967496512713335,2.4983161788301853,1.431507406342016,10.379212154972377,16.696696639702957,8.21391036975338,9.579698319757854,5.977043131229684,16.548110447472606,8.775452095966262,21.83250063780831,16.218769123851942,23.781549159007273,21.441685507254462,24.390919745328965,25.751771063667814]}]},{\"name\":\"series 21\",\"data\":[{\"name\":\"series 21\",\"type\":\"scatter\",\"mode\":\"markers\",\"x\":[0,1,2,3,4,5,6,7,8,9,10,11,12,13,14,15,16,17,18,19,20,21,22,23,24,25,26,27,28,29],\"y\":[0,0.8975844412822971,0.6592427510233627,0.7700058863408492,2.207087531113906,0.9319833721888271,1.1228875769825388,4.237427469199117,6.302859045550976,0.6666298634864423,4.475368069857554,0.8823240518374672,5.985231100154976,11.259823894313465,1.2916141973639794,14.699599969960373,3.3214493086900756,6.058128876160804,10.473469200011648,6.356468148527313,1.5606219423784573,19.797992331425505,18.612782806638233,14.492585313946071,20.23267533114156,13.408297497267881,15.669488310287568,6.66024593211927,19.45389026311495,20.076080297389318]}]},{\"name\":\"series 22\",\"data\":[{\"name\":\"series 22\",\"type\":\"scatter\",\"mode\":\"markers\",\"x\":[0,1,2,3,4,5,6,7,8,9,10,11,12,13,14,15,16,17,18,19,20,21,22,23,24,25,26,27,28,29],\"y\":[0,0.5973084521060833,1.8779786341090976,0.9969221500472358,1.8245921263722416,3.310362215410654,3.8802472256928144,1.0226136783111663,5.610210244188638,5.356916482887781,4.991882513436366,2.871494073687885,0.12976660298764342,4.558953903203432,7.198621505034073,0.7777121966809292,14.417563976523118,13.922921315644006,6.600224666262431,0.464246901115832,12.091369750500222,16.743978260307983,12.596146947343883,12.745506698681064,21.54134349818908,5.637963211568567,23.160499500947452,23.856078916604748,25.7976413037026,14.838174878607024]}]},{\"name\":\"series 23\",\"data\":[{\"name\":\"series 23\",\"type\":\"scatter\",\"mode\":\"markers\",\"x\":[0,1,2,3,4,5,6,7,8,9,10,11,12,13,14,15,16,17,18,19,20,21,22,23,24,25,26,27,28,29],\"y\":[0,0.19264892018881785,0.08196093389277004,1.3333020971520677,3.9877596807404925,3.7139021630765017,0.4579761901961563,1.0004662436056326,1.9768161241315783,0.5872656828934032,5.611683709790817,8.033901614167215,8.709351597190937,11.914546278888933,0.5411235638268406,14.019035538514691,7.770972678714161,4.31999440207579,14.134781387241516,11.70893266343043,11.160083686012243,16.826669571109246,16.949544780386923,6.994737594243133,16.82914365855316,21.550726795169545,2.7357473017687184,4.81379354877909,2.5565669267330215,26.84960341742352]}]},{\"name\":\"series 24\",\"data\":[{\"name\":\"series 24\",\"type\":\"scatter\",\"mode\":\"markers\",\"x\":[0,1,2,3,4,5,6,7,8,9,10,11,12,13,14,15,16,17,18,19,20,21,22,23,24,25,26,27,28,29],\"y\":[0,0.582757661847202,1.9947033985230946,0.7705555140056795,1.7948763955959328,0.3604102307937196,5.314978954248897,0.7137815072533129,3.888026193514577,1.808642624562044,3.2775134321539836,4.08882538649597,3.089978610046507,9.760685900366298,7.623824455166661,9.725411045816658,15.484740996375962,14.52059827159533,7.594735337948622,3.012548673137235,4.539210682920835,11.027767923885069,7.590640768756448,20.947270112878012,1.6861629086488277,10.856425360774432,6.875021186850054,14.654273945460796,8.707420804001956,10.874696142957639]}]},{\"name\":\"series 25\",\"data\":[{\"name\":\"series 25\",\"type\":\"scatter\",\"mode\":\"markers\",\"x\":[0,1,2,3,4,5,6,7,8,9,10,11,12,13,14,15,16,17,18,19,20,21,22,23,24,25,26,27,28,29],\"y\":[0,0.5504762773899393,1.8053368632423243,2.286133403671195,3.27455464074277,2.3818925853970074,4.474862827002711,4.716682640520732,2.279630787262387,2.919327340597946,1.6414744702866113,4.460384844774737,11.241485426845038,12.192348937111039,1.3581992074423366,3.5229662084789637,13.350890807204715,5.585744202566747,16.319864282281976,2.266255573085029,12.947063233315399,20.48912700563164,12.832455417023827,7.823583474047859,0.7424843631770051,23.223399061487246,1.18701133204206,18.646708360864533,7.319560942820214,4.162395756930783]}]},{\"name\":\"series 26\",\"data\":[{\"name\":\"series 26\",\"type\":\"scatter\",\"mode\":\"markers\",\"x\":[0,1,2,3,4,5,6,7,8,9,10,11,12,13,14,15,16,17,18,19,20,21,22,23,24,25,26,27,28,29],\"y\":[0,0.6619695976219947,1.8910040583012204,2.5519595779907878,0.9889255977384717,1.1327187269738177,5.936025675628981,6.476020438778418,2.114378532426115,2.1347347876086955,9.106895566929426,1.6478180428272093,0.8487714349967597,2.1814351773023573,0.12835245562138264,14.936488526768436,12.506252224236503,15.378119606792893,15.678001713215588,0.7491430332003591,9.913363580987395,11.85575945486207,3.9189894452509138,9.623813225122518,5.469339492891779,21.63044215324679,21.212259527366843,21.40695587656071,5.933490586968053,11.571519801603577]}]},{\"name\":\"series 27\",\"data\":[{\"name\":\"series 27\",\"type\":\"scatter\",\"mode\":\"markers\",\"x\":[0,1,2,3,4,5,6,7,8,9,10,11,12,13,14,15,16,17,18,19,20,21,22,23,24,25,26,27,28,29],\"y\":[0,0.12247453469518943,1.8210937292918197,0.8280689354143409,3.446292488817389,0.9840785791004725,1.8120309731765165,6.930941158709017,2.7249397945317204,2.358316367532067,2.672869224621955,0.40665482533925046,9.584683564744385,3.6035133874065277,2.7239208994457673,11.48383409601347,6.881975430667191,5.135384417341604,4.276433084372766,3.451455455004994,3.426019724530547,5.666527651172049,0.3876376384752993,21.531520779706806,8.356319996254662,23.243953248393655,24.50468487315025,14.35616514924249,5.714474048270368,1.718928634175521]}]},{\"name\":\"series 28\",\"data\":[{\"name\":\"series 28\",\"type\":\"scatter\",\"mode\":\"markers\",\"x\":[0,1,2,3,4,5,6,7,8,9,10,11,12,13,14,15,16,17,18,19,20,21,22,23,24,25,26,27,28,29],\"y\":[0,0.8576226074058448,0.8572921955614772,0.41585649238071853,0.7061408426295088,2.625267893799648,0.8678379778362575,3.905404836824582,5.323816958758857,1.0391978805373392,6.781077419239059,0.9177522963879823,5.586633538457911,4.916877628382778,11.707901161977073,11.225592327330299,5.618534118528515,10.494937548498767,6.275940768303754,10.511029078369889,13.88823453330332,20.850438793308573,12.947486867376533,8.316987464464406,18.19273241717189,5.71710012301607,17.812251358127178,4.323551924832455,15.639309964566017,7.734149263858204]}]},{\"name\":\"series 29\",\"data\":[{\"name\":\"series 29\",\"type\":\"scatter\",\"mode\":\"markers\",\"x\":[0,1,2,3,4,5,6,7,8,9,10,11,12,13,14,15,16,17,18,19,20,21,22,23,24,25,26,27,28,29],\"y\":[0,0.41352912306937617,0.6671596008311087,2.209110414966932,1.1510906307145552,2.959857045037275,2.059067994001473,5.031173989401667,7.436922924543185,0.6543513253336191,4.627803521049568,1.9346200995630065,9.394501106103924,6.834940553486359,10.977905852371384,8.843029238258985,8.709432459709944,9.891561546226075,4.150103630431967,15.329403719326521,14.82076349762121,1.0560963960984067,0.3123690153988048,18.996883339170388,15.761610540430798,5.144101412355814,16.00268231796211,7.348666675722907,1.011697511873705,20.157139162334204]}]},{\"name\":\"series 30\",\"data\":[{\"name\":\"series 30\",\"type\":\"scatter\",\"mode\":\"markers\",\"x\":[0,1,2,3,4,5,6,7,8,9,10,11,12,13,14,15,16,17,18,19,20,21,22,23,24,25,26,27,28,29],\"y\":[0,0.611069690761004,1.043837487729855,1.2848216788202698,1.974244290615235,3.631903998896109,0.5123793586555825,2.8948470034613996,7.32252113171063,3.1427574611043068,5.484086887183474,9.58138859660346,0.9725412157609243,12.574804178776464,9.273599192544907,1.7706483905189958,6.063159479804767,4.524740137901683,1.9778408257877098,12.476130043663916,13.904493903570359,18.004147666865276,4.932810468072808,14.127243769394612,6.494013354761378,0.8771085560162067,4.8259708356788185,5.097722295517123,26.936067162135927,16.49942634326163]}]},{\"name\":\"series 31\",\"data\":[{\"name\":\"series 31\",\"type\":\"scatter\",\"mode\":\"markers\",\"x\":[0,1,2,3,4,5,6,7,8,9,10,11,12,13,14,15,16,17,18,19,20,21,22,23,24,25,26,27,28,29],\"y\":[0,0.03271306074973879,1.3381357491578814,0.2631898366612254,0.5840849021356771,2.8614311701359405,5.095439688009446,3.0756037720414047,7.136219880102485,0.9487737714990886,2.4266951196339184,5.738035493422067,2.995793843202538,1.8867289226878101,2.1665061290282406,7.052514496739608,0.8248467969706841,15.034781720336454,16.260626408470273,14.50042402491826,13.361791533519359,17.7655550222314,7.212652210074122,17.396264764996392,2.8649411749884024,18.768878934155765,15.025272721955742,10.710072602995094,2.9449434934743057,11.28123228493939]}]},{\"name\":\"series 32\",\"data\":[{\"name\":\"series 32\",\"type\":\"scatter\",\"mode\":\"markers\",\"x\":[0,1,2,3,4,5,6,7,8,9,10,11,12,13,14,15,16,17,18,19,20,21,22,23,24,25,26,27,28,29],\"y\":[0,0.3805489799185958,0.5479643511924275,2.433954939790057,1.397772660610841,4.098667585547381,1.9613899581653034,3.284789876426542,7.016077500052578,5.013649119392733,3.578603560722425,0.338079385666502,5.687382376178831,8.255724080607083,2.357816603506638,7.063480365124169,12.817212478513424,1.0433520834998635,2.9442894098861583,13.23583769204135,0.497038288760685,19.71203162773758,18.36118716983406,9.227454434662548,5.501538734905324,5.743924700602804,19.898867924091242,1.7673976927386388,4.7668587234057345,26.53346592938515]}]},{\"name\":\"series 33\",\"data\":[{\"name\":\"series 33\",\"type\":\"scatter\",\"mode\":\"markers\",\"x\":[0,1,2,3,4,5,6,7,8,9,10,11,12,13,14,15,16,17,18,19,20,21,22,23,24,25,26,27,28,29],\"y\":[0,0.02271825121112392,1.778942129677837,0.19398894709622205,0.35002410978150866,1.434189741981657,2.0178480034756268,2.789255005562577,7.584899027149323,3.6591472799701736,8.14040033936212,2.5369846575524106,1.8150214206095034,12.399085302368924,10.653239331393515,4.692859312181531,8.735341204614215,6.446268946081104,1.894544058979572,18.546394821834152,13.820739770405215,18.410824382483607,4.213584998169802,3.377766190854146,11.705029305892413,14.63609069862196,1.7192736481725366,7.190232696424567,2.2992337182421028,26.935890380292477]}]},{\"name\":\"series 34\",\"data\":[{\"name\":\"series 34\",\"type\":\"scatter\",\"mode\":\"markers\",\"x\":[0,1,2,3,4,5,6,7,8,9,10,11,12,13,14,15,16,17,18,19,20,21,22,23,24,25,26,27,28,29],\"y\":[0,0.8776703660040136,0.5128617540982654,0.4219003904810563,3.29890242408927,3.3100823343306636,4.623362227880888,0.42307336942104234,0.6698214022679858,0.016195735437059433,8.907576106395092,1.0352508408145844,9.973545709902378,9.490695060676936,9.060755520291702,12.449847397237962,11.402273555802788,9.92038756580535,3.5897907348054607,3.365327438581237,17.118304405676717,0.4178026945648139,1.250698719753196,1.1356515455148917,15.571090804074295,12.032772512844552,20.81599411434328,15.053120058263927,10.33450369619429,25.87005762400499]}]},{\"name\":\"series 35\",\"data\":[{\"name\":\"series 35\",\"type\":\"scatter\",\"mode\":\"markers\",\"x\":[0,1,2,3,4,5,6,7,8,9,10,11,12,13,14,15,16,17,18,19,20,21,22,23,24,25,26,27,28,29],\"y\":[0,0.39126828746880926,1.9400951334129295,0.48530425574951364,0.20944387805838272,2.8704762539838073,2.5700501325010885,5.133103280260245,3.2675783863724606,0.5044181947711478,1.950939066580839,8.384937084026845,2.288240652809552,8.749495979831368,6.377749422094263,5.153608341131285,13.852885915747361,14.38247958961331,1.7875469341595345,5.91672388477294,4.83236447409902,0.40605906829620253,11.669986711169454,12.197396444949428,21.96499093460023,6.115989505825106,18.354411425484223,7.237793092404066,14.661725531856714,14.663813336964143]}]},{\"name\":\"series 36\",\"data\":[{\"name\":\"series 36\",\"type\":\"scatter\",\"mode\":\"markers\",\"x\":[0,1,2,3,4,5,6,7,8,9,10,11,12,13,14,15,16,17,18,19,20,21,22,23,24,25,26,27,28,29],\"y\":[0,0.19483335733317297,0.8893134816345036,1.044559113772342,1.8262657076258435,3.94504716778246,4.8414133386276506,0.9196446458339314,0.7577481988618748,4.014741166388577,4.120037643563258,8.226699345369287,9.776714479185053,5.00780834380278,6.2403237068561594,14.618543295518801,3.902765837014048,8.960868948312006,11.894018360584724,13.485945026736056,16.132100449695184,18.41927890521732,1.1143016091275486,5.274061650435428,12.728760239702702,14.728201163933264,23.46712155284391,6.7585950127187475,7.07604933390488,23.45579429558028]}]},{\"name\":\"series 37\",\"data\":[{\"name\":\"series 37\",\"type\":\"scatter\",\"mode\":\"markers\",\"x\":[0,1,2,3,4,5,6,7,8,9,10,11,12,13,14,15,16,17,18,19,20,21,22,23,24,25,26,27,28,29],\"y\":[0,0.031249844611231592,0.703150338703747,1.795484264627585,3.2297817729548384,4.774926879114993,4.166755810001363,5.121675147767555,3.781112806581734,0.39579173042926186,1.0378762590015567,10.028919123382044,4.7229374728966125,8.294031478850098,3.7726303928807816,0.25467066035629704,7.567343402081251,0.489406255555893,12.690509402578892,5.769478100287631,3.1577297677016958,3.9993179047433136,0.8730950281867138,2.493956441535996,11.753856491846637,21.765627681288162,17.331678983503263,13.068960176132967,17.883350406135346,6.223107816374218]}]},{\"name\":\"series 38\",\"data\":[{\"name\":\"series 38\",\"type\":\"scatter\",\"mode\":\"markers\",\"x\":[0,1,2,3,4,5,6,7,8,9,10,11,12,13,14,15,16,17,18,19,20,21,22,23,24,25,26,27,28,29],\"y\":[0,0.3740824759710565,1.0604826799233495,2.348268134162275,2.3675728465303147,1.9374813656749357,2.1122215209593778,2.044876828329489,3.626311323755689,8.71366765362622,4.40850142216221,7.291887279796278,2.776374359848299,10.039582105941637,4.102092616022923,14.757611870507802,15.365057449684171,6.17153372680322,3.8850980646199442,15.645006896965441,9.453912109850513,19.166803799497412,9.755733509137844,20.895512506647698,18.65517350078442,11.522617073425764,9.800000007962169,15.343707964300863,25.058104894369713,12.19961750346736]}]},{\"name\":\"series 39\",\"data\":[{\"name\":\"series 39\",\"type\":\"scatter\",\"mode\":\"markers\",\"x\":[0,1,2,3,4,5,6,7,8,9,10,11,12,13,14,15,16,17,18,19,20,21,22,23,24,25,26,27,28,29],\"y\":[0,0.4985263386716713,0.2524207334357216,1.3390220464848626,0.9604527686702391,1.6969352106043551,4.593446374663763,3.3686211191190125,0.8505692269905092,2.521419391200946,3.470126915051832,8.677195639261623,1.6348134745938885,5.264348136057664,8.533003280491677,0.5614509972233367,12.057441469069715,13.187633962371121,9.071392097107877,1.0671416053149883,18.03057987546322,6.565200525813331,16.03000252444768,16.322058885930097,12.06676150683114,9.395480656845104,12.373039803847973,12.108511735488102,5.732833964405998,16.819349328162694]}]},{\"name\":\"series 40\",\"data\":[{\"name\":\"series 40\",\"type\":\"scatter\",\"mode\":\"markers\",\"x\":[0,1,2,3,4,5,6,7,8,9,10,11,12,13,14,15,16,17,18,19,20,21,22,23,24,25,26,27,28,29],\"y\":[0,0.48450869915629546,1.0162126149351918,2.3358990169226788,1.1370124310398828,1.0661319448139102,3.1626807153137166,2.414591021367885,7.519741544505079,4.126148913813387,3.1019754304571077,9.29241668593158,7.957011747217225,4.568078269947506,12.062935047835985,14.235371623385142,13.389324725896994,2.9137493365708624,13.46526591823108,18.325670174447424,2.489415999456659,5.767527310698871,9.857606227012669,15.543266935400759,21.007201796059306,7.880750279378312,10.627168679863162,7.712880862955669,0.663257554107338,9.399685972506935]}]},{\"name\":\"series 41\",\"data\":[{\"name\":\"series 41\",\"type\":\"scatter\",\"mode\":\"markers\",\"x\":[0,1,2,3,4,5,6,7,8,9,10,11,12,13,14,15,16,17,18,19,20,21,22,23,24,25,26,27,28,29],\"y\":[0,0.1173740120777117,0.6741597832470383,2.5581896502003003,1.223559642711118,1.9969399017112732,2.2667027849787234,2.1747449801187857,0.08452868670032299,8.024277904780067,0.8333531286088236,9.14897979260921,8.74861811980162,4.313398146938871,6.1817731397747675,7.301709617935969,14.284501068907,11.600738216533557,6.100901057994644,8.166894780395971,9.092137223608232,19.71752163120317,6.485867727769861,14.038537579088066,2.919168647262989,20.65787716560244,11.926838128723665,0.40209247427800077,21.28324999538278,1.5292122234085754]}]},{\"name\":\"series 42\",\"data\":[{\"name\":\"series 42\",\"type\":\"scatter\",\"mode\":\"markers\",\"x\":[0,1,2,3,4,5,6,7,8,9,10,11,12,13,14,15,16,17,18,19,20,21,22,23,24,25,26,27,28,29],\"y\":[0,0.010656398581995297,0.18713543928614462,2.752259616269936,1.2185578693320913,1.280956369521311,5.599909155287969,6.8304662176468565,5.583826094940054,7.344940451888936,8.302762209050119,1.6901010809737933,1.3524513096184303,7.432887675559034,3.0412341711682753,2.58484504601922,12.866820727836442,12.83095258901989,14.813710605565486,7.543080195151392,19.573710652589675,9.382163275778087,8.420574771224171,5.8265369564985,15.08424087706332,4.676322747896291,11.53650336707989,4.6005177058905575,9.558881850190371,11.839393654135007]}]},{\"name\":\"series 43\",\"data\":[{\"name\":\"series 43\",\"type\":\"scatter\",\"mode\":\"markers\",\"x\":[0,1,2,3,4,5,6,7,8,9,10,11,12,13,14,15,16,17,18,19,20,21,22,23,24,25,26,27,28,29],\"y\":[0,0.6032071080705026,1.7069762879937513,0.8436556291888294,1.9595692751604128,0.318108122166022,0.5548560829233189,4.839183817717137,5.52806543559888,2.212668753957594,4.661003992858548,5.407059931953279,8.145079131315343,3.5280576431438897,2.6840508262729204,13.22866404366155,8.504369760996193,13.559942990455628,9.6029873593163,14.242002292872467,3.157859809849719,4.9506232203581595,20.164787368302875,1.6443174158685037,17.9864240634588,15.127402305094865,0.5517961162470542,0.7658009634050547,9.75487711562347,17.85839470985309]}]},{\"name\":\"series 44\",\"data\":[{\"name\":\"series 44\",\"type\":\"scatter\",\"mode\":\"markers\",\"x\":[0,1,2,3,4,5,6,7,8,9,10,11,12,13,14,15,16,17,18,19,20,21,22,23,24,25,26,27,28,29],\"y\":[0,0.30849712825548004,0.4102058357837759,1.2443607175814164,0.6314633288507676,0.950257666870058,4.1217349757776915,0.4013536704232865,1.2854072989552217,3.437936484318465,1.1868587452324297,1.9055482972049032,1.2012446600721254,3.599190728205609,1.168358883079354,7.272334816560502,4.4558013070922655,3.78324494320841,7.103350430540164,15.28280359761294,18.039569941163045,13.768218387777303,3.524594675595187,20.441392645400693,17.30707318264048,11.387210175321783,2.72795796376749,1.6803964989078923,1.1857920210467099,19.607084325668108]}]},{\"name\":\"series 45\",\"data\":[{\"name\":\"series 45\",\"type\":\"scatter\",\"mode\":\"markers\",\"x\":[0,1,2,3,4,5,6,7,8,9,10,11,12,13,14,15,16,17,18,19,20,21,22,23,24,25,26,27,28,29],\"y\":[0,0.8307355570810779,1.6473259853940512,2.6753334530574833,2.289942193599787,4.033625959324154,0.08651351677491648,5.27189673837089,0.7670620489315931,1.2515424519353475,7.762445728827803,10.906840912300114,8.953955336364004,3.895821043045079,10.237260797679767,0.492620479663618,15.023629754568754,8.797076643424024,16.621992972837916,11.123806377788357,16.172967904043308,7.757156024023439,16.52358945230127,1.2219261091763576,22.665882559398057,0.9928911243497457,18.958491855555025,10.512347343904395,5.846691442873048,15.686117891571659]}]},{\"name\":\"series 46\",\"data\":[{\"name\":\"series 46\",\"type\":\"scatter\",\"mode\":\"markers\",\"x\":[0,1,2,3,4,5,6,7,8,9,10,11,12,13,14,15,16,17,18,19,20,21,22,23,24,25,26,27,28,29],\"y\":[0,0.05838325374405995,0.7961080865885546,2.257541444490009,3.144390826655158,0.48325027651015373,3.3587636477119016,3.3591029137673045,4.255166965367305,7.909378427980053,3.7069076401359347,9.456907092592935,5.981497816864358,1.0989277837160412,1.320384630846248,5.21429253255265,15.530006134033913,9.085258211347504,5.20775499599087,3.9936179536227234,6.343783332936884,0.3848288702596345,13.6078887195058,21.045504571518432,19.6882680296682,24.344185080515572,21.35870192113223,1.6772444268460576,18.375242838186374,25.8004316284206]}]},{\"name\":\"series 47\",\"data\":[{\"name\":\"series 47\",\"type\":\"scatter\",\"mode\":\"markers\",\"x\":[0,1,2,3,4,5,6,7,8,9,10,11,12,13,14,15,16,17,18,19,20,21,22,23,24,25,26,27,28,29],\"y\":[0,0.5329250806464111,1.4315038040860308,1.823259834459532,1.5563589871212429,1.7321858894330218,5.21474485755976,1.91432371245003,5.782840106774726,2.760403235089094,2.2545150130496827,6.034173515919509,10.536208436422367,11.725412030611245,12.7990098354731,12.582443275885474,14.816785734577522,1.2357005079862495,16.66643058112614,13.563024508835428,7.201836804873951,8.503191827726715,12.943642067000463,9.178131664077243,7.814777571646378,0.5987581595069874,8.490726576964738,5.572529356006903,25.022450753406538,28.001814020933708]}]},{\"name\":\"series 48\",\"data\":[{\"name\":\"series 48\",\"type\":\"scatter\",\"mode\":\"markers\",\"x\":[0,1,2,3,4,5,6,7,8,9,10,11,12,13,14,15,16,17,18,19,20,21,22,23,24,25,26,27,28,29],\"y\":[0,0.03599554873055866,1.5053104070581538,0.25012398903571365,3.599764385935761,3.146997757453944,4.315617916915899,4.301838278252093,6.881578685237903,0.7545168555405601,0.24329295942863038,4.085425939912599,8.648984131992876,3.217677863046547,5.835849590148111,2.271265423526078,9.974195181596565,0.1256269984705376,13.451373458511771,6.9590266656452195,9.356454986089888,3.2292128465043257,18.496341889447528,1.8050985940364168,8.434015097265984,11.505872935542302,3.926143138012158,16.31632636603898,22.198899193182243,24.726671565101217]}]},{\"name\":\"series 49\",\"data\":[{\"name\":\"series 49\",\"type\":\"scatter\",\"mode\":\"markers\",\"x\":[0,1,2,3,4,5,6,7,8,9,10,11,12,13,14,15,16,17,18,19,20,21,22,23,24,25,26,27,28,29],\"y\":[0,0.5921059273516647,0.8706377070910309,0.17311037571239085,0.5688432321872736,0.09039605530727413,1.857449245398349,6.435048191003702,3.951388251946648,7.689833316258461,1.5032239264738578,7.149454598710792,0.2662514082642802,3.377603043080757,9.912835703146646,9.678445606184297,3.011752860735088,0.30690000629743897,8.535100830556463,2.4744610637501596,11.159622527556994,12.768277045046684,16.42916386104421,19.101815565099226,10.002941805682843,18.160349942093916,13.120205788150786,1.716522238208292,9.775900390519439,8.836684310079537]}]}]\n",
       "var labels_xy0JoyUcpv = [\"series 0\",\"series 1\",\"series 2\",\"series 3\",\"series 4\",\"series 5\",\"series 6\",\"series 7\",\"series 8\",\"series 9\",\"series 10\",\"series 11\",\"series 12\",\"series 13\",\"series 14\",\"series 15\",\"series 16\",\"series 17\",\"series 18\",\"series 19\",\"series 20\",\"series 21\",\"series 22\",\"series 23\",\"series 24\",\"series 25\",\"series 26\",\"series 27\",\"series 28\",\"series 29\",\"series 30\",\"series 31\",\"series 32\",\"series 33\",\"series 34\",\"series 35\",\"series 36\",\"series 37\",\"series 38\",\"series 39\",\"series 40\",\"series 41\",\"series 42\",\"series 43\",\"series 44\",\"series 45\",\"series 46\",\"series 47\",\"series 48\",\"series 49\"]\n",
       "var duration_xy0JoyUcpv = 100\n",
       "var config_xy0JoyUcpv = {\"responsive\":true,\"scrollZoom\":true,\"displaylogo\":false}\n",
       "\n",
       "var animation_settings_xy0JoyUcpv = {\n",
       "    mode: \"immediate\",\n",
       "    direction: {},\n",
       "    fromcurrent: true,\n",
       "    frame: [\n",
       "      {duration: duration_xy0JoyUcpv},\n",
       "      {duration: duration_xy0JoyUcpv},\n",
       "      {redraw: true}\n",
       "    ],\n",
       "    transition: [\n",
       "      {duration: duration_xy0JoyUcpv, easing: 'cubic-in-out'},\n",
       "      {duration: duration_xy0JoyUcpv, easing: 'cubic-in-out'},\n",
       "    ],\n",
       "    ordering: \"layout first\"\n",
       "}\n",
       "\n",
       "var slider_xy0JoyUcpv = document.createElement(\"input\")\n",
       "var play_xy0JoyUcpv = document.getElementById(\"play_xy0JoyUcpv\")\n",
       "var pause_xy0JoyUcpv = document.getElementById(\"pause_xy0JoyUcpv\")\n",
       "slider_xy0JoyUcpv.id = \"slider_xy0JoyUcpv\"\n",
       "slider_xy0JoyUcpv.type = \"range\"\n",
       "slider_xy0JoyUcpv.min = 0\n",
       "slider_xy0JoyUcpv.max = frames_xy0JoyUcpv.length - 1\n",
       "slider_xy0JoyUcpv.value = 0\n",
       "document.getElementById(\"sliderContainer_xy0JoyUcpv\").appendChild(slider_xy0JoyUcpv);\n",
       "\n",
       "Plotly.newPlot(graph_xy0JoyUcpv, traces_xy0JoyUcpv, layout_xy0JoyUcpv, config_xy0JoyUcpv)\n",
       ".then(function () { Plotly.addFrames(graph_xy0JoyUcpv, frames_xy0JoyUcpv) })\n",
       "\n",
       "var trigger_xy0JoyUcpv = true\n",
       "var reset_count_xy0JoyUcpv = false\n",
       "\n",
       "play_xy0JoyUcpv.addEventListener('click', function() {\n",
       "   trigger_xy0JoyUcpv = true\n",
       "   if (reset_count_xy0JoyUcpv) {\n",
       "      slider_xy0JoyUcpv.value = 0\n",
       "      reset_count_xy0JoyUcpv = false\n",
       "   }\n",
       "\n",
       "  const start_index = slider_xy0JoyUcpv.value == labels_xy0JoyUcpv.length - 1 ? 0 : slider_xy0JoyUcpv.value\n",
       "  const end_index = labels_xy0JoyUcpv.length\n",
       "  Plotly.animate(graph_xy0JoyUcpv, labels_xy0JoyUcpv.slice(start_index, end_index), animation_settings_xy0JoyUcpv)\n",
       "})\n",
       "\n",
       "pause_xy0JoyUcpv.addEventListener('click', function() {\n",
       "  Plotly.animate(graph_xy0JoyUcpv, [null], animation_settings_xy0JoyUcpv)\n",
       "})\n",
       "\n",
       "graph_xy0JoyUcpv.on('plotly_redraw', () => {\n",
       "   value_xy0JoyUcpv.innerHTML = slider_xy0JoyUcpv.value;\n",
       "   if (trigger_xy0JoyUcpv & !reset_count_xy0JoyUcpv) ++slider_xy0JoyUcpv.value\n",
       "   if (slider_xy0JoyUcpv.value == labels_xy0JoyUcpv.length - 1) reset_count_xy0JoyUcpv = true\n",
       "});\n",
       "\n",
       "slider_xy0JoyUcpv.oninput = function() {\n",
       "   Plotly.animate(graph_xy0JoyUcpv, frames_xy0JoyUcpv[this.value], animation_settings_xy0JoyUcpv)\n",
       "   trigger_xy0JoyUcpv = false\n",
       "   slider_xy0JoyUcpv.value = this.value\n",
       "   value_xy0JoyUcpv.innerHTML = this.value;\n",
       "   if (this.value == 0) reset_count_xy0JoyUcpv = false\n",
       "   if (this.value == labels_xy0JoyUcpv.length - 1) reset_count_xy0JoyUcpv = true\n",
       "   reset_count_xy0JoyUcpv = false\n",
       "}\n",
       "</script> \n"
      ]
     },
     "metadata": {},
     "output_type": "display_data"
    }
   ],
   "source": [
    "val xaxis = XAxis(title = \"X Variable\") setRange (0.0, 10.0)\n",
    "val yaxis = YAxis(title = \"Y Variable\") setRange (0.0, 10.0)\n",
    "\n",
    "// we can also specifiy the underlying layout directly - sometimes this can be useful\n",
    "val layout = ChartLayout(\"Animation XY\") setAxes(xaxis, yaxis)\n",
    "\n",
    "val series = createXYSeries(numberToCreate = 50, length = 30)\n",
    "\n",
    "val chart = Chart(animated = true, transition_duration=100) setChartLayout layout addSeries series\n",
    "\n",
    "chart.plotInline"
   ]
  },
  {
   "cell_type": "markdown",
   "metadata": {},
   "source": [
    "### 3D Animated Chart"
   ]
  },
  {
   "cell_type": "code",
   "execution_count": 42,
   "metadata": {},
   "outputs": [
    {
     "data": {
      "text/html": [
       "<div id=\"grid-container_YVcHhh1Cme\" class=\"grid-container\" align=\"center\"> \n",
       "<div id=\"grid_YVcHhh1Cme\" class=\"grid\" align=\"center\"> \n",
       "\n",
       "<div align=\"center\">\n",
       "  <div id=\"graph_eKcBcqPQrU\" class=\"graph\"></div>\n",
       "  <div class=\"animationInterface\">\n",
       "    <button id=\"play_eKcBcqPQrU\" class=\"picta-button\">Play</button>\n",
       "    <button id=\"pause_eKcBcqPQrU\" class=\"picta-button\">Pause</button>\n",
       "    <div id=\"sliderContainer_eKcBcqPQrU\" class=\"progressBar\"></div>\n",
       "    <div id=\"counterContainer_eKcBcqPQrU\" class=\"inline-div\">\n",
       "        <h3>Frame: </h3> <h3 id=\"value_eKcBcqPQrU\">0</h3>\n",
       "    </div>\n",
       "   </div>\n",
       "</div> \n",
       "\n",
       "</div> \n",
       "</div> \n",
       "<script>\n",
       "var masonry = new Macy({\n",
       "    container: '#grid_YVcHhh1Cme',\n",
       "    debug: true,\n",
       "    mobileFirst: true,\n",
       "    columns: 1,\n",
       "    margin: {\n",
       "        x: 0,\n",
       "        y: 0\n",
       "    }\n",
       "  });\n",
       "\n",
       "var graph_eKcBcqPQrU = document.getElementById('graph_eKcBcqPQrU')\n",
       "var traces_eKcBcqPQrU = [{\"name\":\"series 0\",\"type\":\"scatter3d\",\"mode\":\"markers\",\"x\":[0,1,2,3,4,5,6,7,8,9,10,11,12,13,14,15,16,17,18,19,20,21,22,23,24,25,26,27,28,29,30,31,32,33,34,35,36,37,38,39,40,41,42,43,44,45,46,47,48,49,50,51,52,53,54,55,56,57,58,59,60,61,62,63,64,65,66,67,68,69,70,71,72,73,74,75,76,77,78,79,80,81,82,83,84,85,86,87,88,89,90,91,92,93,94,95,96,97,98,99],\"y\":[0,0.9963517819817476,1.7059699864274969,0.8052692028566257,3.8380361828511598,0.5357644032533754,3.3122480917127257,6.976868663334409,2.2221367258511027,6.51842074554972,7.712217862367434,1.9723386580612048,11.446583020566298,5.728717901259191,9.249581326586162,7.082156805241944,4.7990889453883145,11.313489964713014,1.1852826007060697,6.890061863834247,6.540462339265723,8.413088540001514,16.16671196138699,5.064830058506378,23.918577754809363,12.19968342966076,5.105095304988143,22.952488433581607,20.08915272269818,28.161949515347054,24.34917532889615,16.796898089062626,12.707422866833369,11.735075658528928,29.686867550227635,26.647121033179232,13.162819740019863,36.138701941998015,19.79152135318482,22.369350179546117,21.20316646500833,15.802964891124173,28.50578635141674,25.919462081967726,8.285734474347379,29.28433016872946,8.073865042190034,39.39944845587439,1.649716827426868,36.34825591396723,35.342094603833694,44.667068921580785,1.0783210676637638,37.17505541723129,17.29841903118418,13.643061024998365,50.85871420337345,8.678519587759709,38.36325207838339,20.214180704357425,31.804509098110078,47.963951000961316,18.827707337702694,2.013102749646844,1.6283105076003181,57.243316451210305,7.009876670839427,36.617997940766486,37.69112406829799,38.320107526125796,48.31615949966985,22.105166525467745,21.461075932832472,32.30534622711564,59.702165629933205,32.65768226402889,66.13597326127946,51.778912091153046,45.276791521602995,23.33141545369763,49.07270778058175,48.416996791255286,29.233501045265772,15.35715738116843,54.17136886313088,40.417024790579354,13.174646596943239,27.763813276234362,81.43327440706284,36.115884843266116,47.46792912014322,51.89278449072249,6.7997515469003105,17.265607822533557,93.78874499889119,18.787751262193567,12.332662021951936,36.7529379236919,3.7082170558258842,47.73697252803763],\"z\":[0,-2.658362322786032E8,-2.159000201328011E9,-2.7230739331184287E9,5.103094226497266E9,2.6776713113696327E9,1.4167310594889977E9,-8.622694599726261E9,4.502652161274242E9,-3.2847739077030814E8,-2.3212611665255713E9,2.4777056719961336E8,-7.73219798748442E9,1.8496648777708817E10,-3.7608309630164948E9,1.5243664338368486E10,-8.136176445185862E9,3.2597478442018448E10,3.774032928234203E9,-1.864711059451279E9,5.601989174342599E9,3.9129348038641315E9,3.7292112857737213E8,-1.5614773817285704E10,2.250716062350053E10,1.4410588695714357E10,7.530681442184993E9,2.034287841232146E10,-2.0690524191709553E10,1.88511516859103E10,-8.79805384370251E9,-3.777210017835588E8,-1.06285475561354E8,2.646633338169386E7,8.038464043798764E9,-1.9029962563212395E10,-6.801723310800419E10,-3.2513858737111443E10,3.7008720476419876E10,2.7174965911744488E10,5.630697579434101E9,-2.470501343290014E10,4.251446741093808E9,-3.971404332158853E10,2.904255497648959E10,-5.944040065921357E9,1.4581384329086603E10,-1.9437815827836193E10,-4.901947484304442E9,-4.177827544706507E10,1.4130415568769722E10,1.930792064199971E10,-7.203017578464436E9,3.950053103661558E8,-9.620409448267563E10,7.047044901172739E10,-9.404775358820711E7,6.910278623362973E10,-7.333037628393309E9,1.2239891489292284E10,3.814004602914354E10,-5.768015810118097E10,-2.6047304610942917E10,-3.80110309517684E10,2.183383045215573E10,1.7876271477687798E10,1.6091693532443945E10,1.1024407371658437E9,3.209597458000686E10,-3.9836871692196434E10,1.5472798564533782E9,3.17997996499856E10,-1.1483199438709593E11,7.155409624367189E10,-2.3705501927971535E10,1.6755724845059792E10,-1.383044736300067E10,-7.163229218325316E9,-3.2393618329805115E10,-4.790347819222372E10,1.0992150913327196E10,-7.237467879965167E8,-1.4577962007450885E11,5.0988172211204346E10,-6.714103624608851E10,-4.227547004223056E10,-7.959039774853017E9,3.586728822644519E10,-8.586826034405703E9,-1.6042965949920694E10,-3.872335579411092E9,-1.1340090099079324E11,2.0519420109792698E10,-1.6238930296417322E11,3.510352953851274E10,-1.3611144266196518E11,1.4238095613607883E9,-8.841367130044905E9,8.02833020418355E10,-4.067959521630132E10]}]\n",
       "var layout_eKcBcqPQrU = {\"height\":550,\"width\":600,\"hovermode\":\"closest\",\"legend\":{\"orientation\":\"v\"},\"title\":{\"text\":\"Animation 3D\"},\"showlegend\":true}\n",
       "var frames_eKcBcqPQrU = [{\"name\":\"series 0\",\"data\":[{\"name\":\"series 0\",\"type\":\"scatter3d\",\"mode\":\"markers\",\"x\":[0,1,2,3,4,5,6,7,8,9,10,11,12,13,14,15,16,17,18,19,20,21,22,23,24,25,26,27,28,29,30,31,32,33,34,35,36,37,38,39,40,41,42,43,44,45,46,47,48,49,50,51,52,53,54,55,56,57,58,59,60,61,62,63,64,65,66,67,68,69,70,71,72,73,74,75,76,77,78,79,80,81,82,83,84,85,86,87,88,89,90,91,92,93,94,95,96,97,98,99],\"y\":[0,0.9963517819817476,1.7059699864274969,0.8052692028566257,3.8380361828511598,0.5357644032533754,3.3122480917127257,6.976868663334409,2.2221367258511027,6.51842074554972,7.712217862367434,1.9723386580612048,11.446583020566298,5.728717901259191,9.249581326586162,7.082156805241944,4.7990889453883145,11.313489964713014,1.1852826007060697,6.890061863834247,6.540462339265723,8.413088540001514,16.16671196138699,5.064830058506378,23.918577754809363,12.19968342966076,5.105095304988143,22.952488433581607,20.08915272269818,28.161949515347054,24.34917532889615,16.796898089062626,12.707422866833369,11.735075658528928,29.686867550227635,26.647121033179232,13.162819740019863,36.138701941998015,19.79152135318482,22.369350179546117,21.20316646500833,15.802964891124173,28.50578635141674,25.919462081967726,8.285734474347379,29.28433016872946,8.073865042190034,39.39944845587439,1.649716827426868,36.34825591396723,35.342094603833694,44.667068921580785,1.0783210676637638,37.17505541723129,17.29841903118418,13.643061024998365,50.85871420337345,8.678519587759709,38.36325207838339,20.214180704357425,31.804509098110078,47.963951000961316,18.827707337702694,2.013102749646844,1.6283105076003181,57.243316451210305,7.009876670839427,36.617997940766486,37.69112406829799,38.320107526125796,48.31615949966985,22.105166525467745,21.461075932832472,32.30534622711564,59.702165629933205,32.65768226402889,66.13597326127946,51.778912091153046,45.276791521602995,23.33141545369763,49.07270778058175,48.416996791255286,29.233501045265772,15.35715738116843,54.17136886313088,40.417024790579354,13.174646596943239,27.763813276234362,81.43327440706284,36.115884843266116,47.46792912014322,51.89278449072249,6.7997515469003105,17.265607822533557,93.78874499889119,18.787751262193567,12.332662021951936,36.7529379236919,3.7082170558258842,47.73697252803763],\"z\":[0,-2.658362322786032E8,-2.159000201328011E9,-2.7230739331184287E9,5.103094226497266E9,2.6776713113696327E9,1.4167310594889977E9,-8.622694599726261E9,4.502652161274242E9,-3.2847739077030814E8,-2.3212611665255713E9,2.4777056719961336E8,-7.73219798748442E9,1.8496648777708817E10,-3.7608309630164948E9,1.5243664338368486E10,-8.136176445185862E9,3.2597478442018448E10,3.774032928234203E9,-1.864711059451279E9,5.601989174342599E9,3.9129348038641315E9,3.7292112857737213E8,-1.5614773817285704E10,2.250716062350053E10,1.4410588695714357E10,7.530681442184993E9,2.034287841232146E10,-2.0690524191709553E10,1.88511516859103E10,-8.79805384370251E9,-3.777210017835588E8,-1.06285475561354E8,2.646633338169386E7,8.038464043798764E9,-1.9029962563212395E10,-6.801723310800419E10,-3.2513858737111443E10,3.7008720476419876E10,2.7174965911744488E10,5.630697579434101E9,-2.470501343290014E10,4.251446741093808E9,-3.971404332158853E10,2.904255497648959E10,-5.944040065921357E9,1.4581384329086603E10,-1.9437815827836193E10,-4.901947484304442E9,-4.177827544706507E10,1.4130415568769722E10,1.930792064199971E10,-7.203017578464436E9,3.950053103661558E8,-9.620409448267563E10,7.047044901172739E10,-9.404775358820711E7,6.910278623362973E10,-7.333037628393309E9,1.2239891489292284E10,3.814004602914354E10,-5.768015810118097E10,-2.6047304610942917E10,-3.80110309517684E10,2.183383045215573E10,1.7876271477687798E10,1.6091693532443945E10,1.1024407371658437E9,3.209597458000686E10,-3.9836871692196434E10,1.5472798564533782E9,3.17997996499856E10,-1.1483199438709593E11,7.155409624367189E10,-2.3705501927971535E10,1.6755724845059792E10,-1.383044736300067E10,-7.163229218325316E9,-3.2393618329805115E10,-4.790347819222372E10,1.0992150913327196E10,-7.237467879965167E8,-1.4577962007450885E11,5.0988172211204346E10,-6.714103624608851E10,-4.227547004223056E10,-7.959039774853017E9,3.586728822644519E10,-8.586826034405703E9,-1.6042965949920694E10,-3.872335579411092E9,-1.1340090099079324E11,2.0519420109792698E10,-1.6238930296417322E11,3.510352953851274E10,-1.3611144266196518E11,1.4238095613607883E9,-8.841367130044905E9,8.02833020418355E10,-4.067959521630132E10]}]},{\"name\":\"series 1\",\"data\":[{\"name\":\"series 1\",\"type\":\"scatter3d\",\"mode\":\"markers\",\"x\":[0,1,2,3,4,5,6,7,8,9,10,11,12,13,14,15,16,17,18,19,20,21,22,23,24,25,26,27,28,29,30,31,32,33,34,35,36,37,38,39,40,41,42,43,44,45,46,47,48,49,50,51,52,53,54,55,56,57,58,59,60,61,62,63,64,65,66,67,68,69,70,71,72,73,74,75,76,77,78,79,80,81,82,83,84,85,86,87,88,89,90,91,92,93,94,95,96,97,98,99],\"y\":[0,0.36988555511578014,0.579694188907284,0.5501807025657858,2.337701536289357,0.03480898143268851,0.14944672509036772,2.49440958328202,1.18532107982616,2.385694137271745,3.110875459249468,7.823588648676134,9.39620927340203,7.77320162754955,9.461535492670158,13.378011506704368,9.020761165031987,8.097496000604313,8.219035325018634,14.735507159047891,15.735036114049867,5.37884501687333,18.931599573666546,6.343259004770451,19.01733812261379,5.307041732745518,24.161137884384658,11.146759411522131,19.595823846855634,23.827755410122403,10.727513255516378,15.426826554928398,9.034929870354947,32.11492435959495,2.0056282941580625,4.723593420627206,1.8020514452032321,5.885730024594519,13.32379682431056,34.83574523448041,39.00843196444797,35.188520945084385,26.772587222377403,39.18405514428524,8.49967949888711,11.784293681414933,23.74799944424139,19.57048019582439,21.33167274714949,10.298956144220993,14.571368844700716,5.797641571113296,51.156875231746945,37.6966868479156,53.80087361437544,36.98854242502865,9.914236912928537,39.56410687701523,8.625858749819479,5.012751908187588,1.71295514105821,43.450891697294765,39.26549940748487,31.43314371331692,28.1763055442577,10.334660995159034,19.82748325760976,16.086431102577546,6.016674311152402,12.416719577642324,6.8704720331645355,9.051425437329183,30.496683271700253,64.16023508706789,60.206120246659104,64.59094345624855,33.94401443505628,46.00397043016483,61.52230448521574,16.926738919407246,47.87912711379964,1.7725686889947774,24.459028443899918,82.67166164184466,25.835585924808463,52.708661784587804,54.07217838819913,23.649530524128803,42.85211225371597,39.52280857129392,25.427942285304944,10.93080677788641,50.14380065184415,60.144362383979455,13.632177331526044,27.45130415124071,26.867188833446072,15.209879446311913,88.16449331095542,46.81152458777289],\"z\":[0,-7.628178439303266E8,-1.367652919548292E7,2.476119917730578E9,2.50780680383003E9,9.152677403033213E9,1.918213767213649E8,3.629363962279336E9,-8.166150108738986E8,-1.027830157582264E8,1.4941113642219421E10,-5.184636668043746E9,-1.831080386296452E9,1.2971369994829594E10,-2.5871706012041992E10,-6.099813382869772E9,2.186053717036013E9,8.452683837645643E8,-1.1362669346592369E7,-1.1982625127614515E10,-3.3791069233433968E10,-7.726054811834759E9,-1.055600968388486E10,2.180998699000025E9,-5.875588856617252E8,-2.4846660070087695E9,-1.3104689260543684E10,2.2144886465809273E10,7.175517076181325E9,-7.824141562460653E9,-9.905633340933159E9,-3.038471036838912E10,-2.0315551519766514E10,-2.2611192240860344E10,1.19847075551057E9,1.5014838599785059E10,3.1325493526945507E10,6.471782073147505E10,1.5360592565257387E9,5.3108257301951614E10,1.9714215412378407E10,-2.3256035870470364E10,-2.548240544009879E10,6.71456317150629E9,4.624469946451234E10,-4.952456652188244E9,3.3397086122259987E10,-7.121016534935782E10,1.0685121104660053E10,-8.48660725102574E10,-1.2260627620315323E10,-1.7296232105711963E9,-4.1800648179719185E10,-9.420545199540094E10,1.0052232668582014E11,-7.663129668696985E9,-3.958312125368523E10,6.737468897179996E9,4.547778484054526E10,-5.4254690081090164E10,-1.7023862812232854E9,3.88390192701516E8,-9.77079915801426E9,2.3829941592457134E10,2.638342684962172E10,1.9007338936909966E10,2.259496131262151E10,-1.9787874140503473E9,4.6182904368834755E10,1.3531227729091725E11,1.6665562909098794E9,6.915719955455739E9,4.296059044243829E9,-1.0450694247495552E10,-3.1014606741009914E10,-3.615759506302818E10,-8.045553014138364E9,-7.081144688677536E10,-3.677929618463817E9,3.1220567771816463E10,1.5483822635534245E10,-3.9189065508625097E9,-2.5013022121354424E10,-1.3912748937803406E10,1.9876547663298553E10,-9.354735776697624E9,-3.5639880150969826E10,3.950305533938914E8,-1.354499593694552E11,2.8483420568330555E9,3.149065800854444E10,-4.2553123174736276E9,1.0760436722847604E11,6.626493437672261E10,6.818877725308051E10,3.9966753004376525E8,1.1108977344340456E11,1.0648334263933052E11,6.219269951013475E10,-5.325986159256758E9]}]},{\"name\":\"series 2\",\"data\":[{\"name\":\"series 2\",\"type\":\"scatter3d\",\"mode\":\"markers\",\"x\":[0,1,2,3,4,5,6,7,8,9,10,11,12,13,14,15,16,17,18,19,20,21,22,23,24,25,26,27,28,29,30,31,32,33,34,35,36,37,38,39,40,41,42,43,44,45,46,47,48,49,50,51,52,53,54,55,56,57,58,59,60,61,62,63,64,65,66,67,68,69,70,71,72,73,74,75,76,77,78,79,80,81,82,83,84,85,86,87,88,89,90,91,92,93,94,95,96,97,98,99],\"y\":[0,0.32069477046432204,0.2103376551823184,0.5614110336638264,0.10906413764301659,3.9683713459450027,0.26255697898205566,1.0841018942309553,7.5218278186362335,5.1395994057399434,9.664101100358097,8.685761113435468,0.7547300215753872,3.399892954293196,12.706559192838583,7.377189985171221,11.652916862422295,9.948529813783145,9.789156472721231,18.17055022300166,11.240189588169127,0.1725874067782509,17.71644976689711,13.928000345751059,5.516588518550669,21.629766456215183,2.8347980602076692,4.176564627590604,24.44658377462917,0.025121688976771805,27.76621201512159,19.8962464109609,26.428702790934096,8.569085738904532,5.610481514011747,2.3938711064364755,4.526689071160849,27.055346535551315,6.665210270092075,15.23451834938215,10.922931624411891,21.32721518895045,41.20848249848858,42.065677880526785,29.6769878298309,42.76009703148433,34.95042864633624,38.28647088373668,10.185510032104565,26.225587972724096,22.63786502608679,33.1353407140307,21.99473547430049,39.96950259740484,45.24055202539968,2.14464499100167,47.06302646065646,37.18183138270829,20.40831240907614,41.28947968769885,9.458616955766265,34.011272234483975,27.715450295063405,56.79086022486446,0.05682973137034253,48.630447680778516,18.852416790662943,44.670140671272506,18.321552319639185,50.94038428477183,9.634662351056326,29.04213587586538,13.967634265003412,69.86413290782193,68.72498682572501,19.02896891544242,37.45423983164342,76.16964607581212,0.5584259254546382,55.32509770936137,21.10388263705337,17.631186876634104,28.36795870767014,39.096318806617305,45.42799370409511,56.33656310641779,6.6848495936537455,31.30179049869735,67.21745898047426,4.324456232700117,42.47946879289703,58.938276294750494,70.37546115320353,59.74197221989277,19.466798676453624,17.369882612918538,24.580314614682333,20.597271891129825,6.275683979166853,53.074519840525284],\"z\":[0,1.5707215275376544E9,2.967636771429238E8,-3.6979319661139274E8,-2.0842812618926105E8,6.919700051009026E8,9.762873670956925E8,-5.335058074413129E9,-1.7764876831205757E9,-3.4175988271944604E9,1.4096053500620294E9,5.744498385971613E8,2.6196026205189276E9,6.261659825531287E9,2.2269501617379936E10,-3.351922754109447E9,1.820382366114563E10,1.4016334104353249E10,-7.141945995699214E8,2.415126784445226E9,-8.640122000347403E9,-2.1218827831334593E9,5.0699558942677325E8,-1.5464073248449552E9,-7.77300903723821E8,2.465723660153113E9,-2.193054749633817E10,4162274.5112647484,-2.40161882609042E9,-3.496355989706881E10,-1.1625803174498632E10,4.208681346689391E10,-1.2195421026053528E10,-1.8581899618111526E10,1.264295844477125E10,7.064732090018464E9,-2.065046855300084E10,-4.211034374660298E10,9.114034499700953E9,-8.144524230905738E9,1.0716947028778362E8,-8.20998943048894E9,1.4224346617113075E10,3.114935770278352E10,-6.658786071202351E9,5.082544367140969E9,2.5919638867629284E10,1.464469275936678E10,-8.159822694086505E8,5.458977478827254E10,-5.740030691815567E10,4.195632611399204E10,-8.90443236800639E9,3.4061620407808018E10,2.3812185648083596E9,-3.8499812186284466E9,-4.542626761407726E9,-8.018175696980116E10,8.380936180389558E8,1.3887472106988941E10,-7.625851219756464E10,-5.8285334415963326E10,-8.258230565489062E8,-2.5654819305511242E10,1.0032116275447406E9,-1.6837517703499773E10,4.32865412855305E8,5.643882017891581E10,8.694513459658243E9,6.17418043939774E9,-7.3248065253749E10,-9.555582664714455E10,4.374179369250835E10,-1.2216947897591862E10,-3.126875797417699E10,-8.155215881365593E10,-7.783550605294397E10,4.559318057739461E10,6.489641214044969E9,8.356674587097571E10,8.567570795716081E10,5.980284885489797E10,-2.2098005924057583E10,-2.6088824013479355E10,2.775379346865127E10,-2.7718834755008183E10,-2.5218009372027508E10,-3.3134176843586628E10,1.03266781010315E11,1.3722117161957983E10,2.9762337380725304E10,-1.328916526408934E11,-4.535230222416167E9,4.073427372148549E10,1.1261019355442859E11,1.3299611116283037E11,-1.4272547850299374E11,3.2505127316433308E10,-2.4179020813672657E9,3.0744760506824E8]}]},{\"name\":\"series 3\",\"data\":[{\"name\":\"series 3\",\"type\":\"scatter3d\",\"mode\":\"markers\",\"x\":[0,1,2,3,4,5,6,7,8,9,10,11,12,13,14,15,16,17,18,19,20,21,22,23,24,25,26,27,28,29,30,31,32,33,34,35,36,37,38,39,40,41,42,43,44,45,46,47,48,49,50,51,52,53,54,55,56,57,58,59,60,61,62,63,64,65,66,67,68,69,70,71,72,73,74,75,76,77,78,79,80,81,82,83,84,85,86,87,88,89,90,91,92,93,94,95,96,97,98,99],\"y\":[0,0.6087933483016958,0.6012733239883408,1.040225459083218,3.8376166598179804,0.7331088301787991,1.8951662603313861,1.807295066201854,0.4313482392986234,3.948780245301861,2.077609295972127,9.419385167199383,7.424718562147088,9.89773242682826,4.243206991332242,8.162114175126877,3.4607639621140205,12.655753095242009,2.3740881874360067,7.655031841095428,12.2140292544056,10.296811806846236,18.202510886524976,21.885662345916543,17.898662718722793,14.662726926456154,8.634163516503154,20.86045387867878,2.70671406702112,3.6202805244914686,24.95188105373736,2.5106943688075227,13.631700294399757,2.9414026399228974,23.49118411891822,11.53441722368469,7.887410649717202,18.736956954981903,1.82962339651174,9.464698299476103,33.890680674465,23.360993856690403,6.011411869544718,10.680530135402556,35.7895885237777,24.130082733346832,18.18722959973814,6.5686417312431225,13.035114291324577,28.321445818950664,11.536372777105536,47.85322549756509,19.764807683261896,48.97420037811245,35.70465393613518,19.48554045689308,53.041433572939376,32.26994178246045,38.4865608302515,55.67675435600527,15.517889886308245,31.962263794082418,29.354197842053345,2.915219043754111,60.13188162246821,10.70959002087568,0.9385025848308446,57.38356705953655,13.220029513621386,24.49185643145061,56.95000513578698,37.33166504709485,57.23107640680804,20.80915248781662,68.53719685620376,1.9184829952303362,56.26182322104861,50.31942380422151,44.970191415766735,48.059357501751286,48.18728029831938,42.222739862593485,38.0559275152462,8.155020658285054,15.458267533125593,47.29138779890289,80.08861336539137,79.48494623407704,23.945367222120844,51.228320390847365,43.66549485806134,61.77028660387026,86.76770429740179,24.26102980691347,45.60328867942118,49.20069370305134,9.108506710669321,65.79396279058888,15.724827807607381,63.32480317207552],\"z\":[0,-5.213627223246887E8,-5.339602429060815E8,5.702359002182577E8,-5.5926050546290554E7,2.5220130118652506E9,-3.7431110848111343E9,-3.608287715047645E9,1.396389233282469E9,6.150918743285021E9,-5.325722503577695E9,7.187864702860126E9,6.523610573655559E9,-6.090226483254786E9,-1.1758368209718313E10,2.849467152617545E9,9.345479658476877E9,1.8315582475665844E10,2.8656851352481265E9,-1.3763336867942936E10,-5.165265289271057E9,2.842495494554016E10,-1.1366169363651379E10,-3.300227314555062E9,-2.896815528571472E10,-8.854582142584692E9,-3.411617287659455E8,-1.197006650873885E10,-7.681600556521465E9,2.018703413947358E10,-2.54115624894821E10,-1.0260396688981981E10,-4.4655239909815834E10,-4.489310484438653E10,1.3995378414744341E9,-1.1711515420223639E10,3.053167035207721E10,-3.3753327058618326E9,4.162902294424181E10,2.5379289060067307E10,8.432184714576427E9,8.572048227296743E8,6.750507532827799E9,1.7272945693372335E9,1.7900333063225594E10,1.3626818129595468E9,-7.669788576402084E10,-8.189754391843973E10,1.7568688057347462E9,-8.669846747804163E9,-3.08540267603892E10,-2.9484633298150948E10,-3.2909940210822353E10,3.179025401742599E10,-5.085329809239799E10,5.870026891557602E10,3.595405848398322E9,4.2397290792969795E10,-2.84223630457801E9,3.3838929346466155E9,-3.0266110877850437E10,-4.308828982088333E9,-3.4588085367929924E10,-2.976710679414541E9,-6.434270333147796E10,3.909234176640836E10,-5.171743203874667E10,6.049555473071134E9,-3.680309262015096E9,1.0273631156279654E10,-2.3891271480950386E10,-5.092821819400772E10,8.024060995387541E9,-8.588881216627336E10,4.47908760199863E9,2.461826766188873E8,3.2960985241368423E10,-7.604245473610076E9,-1.9042651480653767E10,7.420470106620691E9,-1.596965414367729E9,-7.948655131066176E10,3.0206321211694427E10,-5.348617367074619E10,1.0895744392983539E11,9.930306074381822E10,-1.4244265975274652E11,-7.872845311887422E8,1.5553136753877418E9,1.2449658965012447E11,5.312279120384603E10,-7.263842217398639E10,-5.1860355661684074E10,-1.001800924882536E11,6.001068107024796E9,-1.3851333613421085E10,-3.6862920325803626E8,-4.819772376669804E10,-9.483622725731126E10,1.1613574545152081E11]}]},{\"name\":\"series 4\",\"data\":[{\"name\":\"series 4\",\"type\":\"scatter3d\",\"mode\":\"markers\",\"x\":[0,1,2,3,4,5,6,7,8,9,10,11,12,13,14,15,16,17,18,19,20,21,22,23,24,25,26,27,28,29,30,31,32,33,34,35,36,37,38,39,40,41,42,43,44,45,46,47,48,49,50,51,52,53,54,55,56,57,58,59,60,61,62,63,64,65,66,67,68,69,70,71,72,73,74,75,76,77,78,79,80,81,82,83,84,85,86,87,88,89,90,91,92,93,94,95,96,97,98,99],\"y\":[0,0.22084386428096148,1.3405439379362225,1.4656949883844441,2.2561334217586677,0.3997226428736944,1.534036557063815,3.72856532711879,4.271680687061928,5.549703395308271,0.17957906399870605,3.579445159398197,4.766596080947618,7.124250695347316,3.821606373111369,11.407637930361442,15.33415502845824,6.772372552853369,16.341003719364842,0.22455993481967929,4.492386315754951,4.683978160611684,6.160412945841765,17.853010161848903,8.208520242131398,5.9263607910270215,3.313391535725728,22.08416000009818,24.224755389466797,8.652724798334178,5.721352070852608,16.078198173486758,16.717751726359275,21.44843939871119,14.603268924534234,21.265030539792683,16.594765837232575,2.2193707971689225,16.215593812433646,19.360822038282635,32.31624588751234,21.169227071919547,34.333695760188526,29.10443836604637,11.78805118547487,41.80932892781454,16.29140752029154,21.185034571562856,18.836153389875488,42.8446212334382,26.2419431204094,43.82813516336603,5.312841276444593,14.434019865740838,25.84154799822244,2.882548780094847,1.235961442419808,1.9814064233456659,22.036706274792575,29.254362880057297,11.781705232081368,8.525688161362833,13.30666640170433,22.417079764575256,50.6867625665848,19.21435434255633,32.8253177520682,7.738685611514608,31.91746278376226,23.51488002611983,20.810180931734557,69.75702971594237,14.5816650103375,57.99216104399059,36.07139473569153,69.55448523987148,35.243712165049764,39.907904333884936,11.710070208980303,20.281234483379535,68.3037993665527,22.829516139279825,51.293382421997975,38.903920990625394,38.17041585413654,11.121601671848413,66.90302370266356,66.66260872892063,35.838361428851464,75.88264273558097,60.46443944442025,0.7542034923808995,44.43501564616222,46.83274595464296,93.96641650154145,6.674492261886526,66.56414173767227,89.10565594403691,27.82409674119292,54.69398832830161],\"z\":[0,-9.32498936885256E8,4.2766530641175574E8,4.167887820934069E8,-1.6402487459504554E9,7.208338557945995E7,1.6284632706301105E9,5.391318839168007E7,-3.277716496038068E9,-1.3047983365836103E9,-7.599781760423111E9,-6.77665744259097E9,6.446520118347325E9,9.458603665356443E9,-2.6444812220757794E9,1.984220835807512E10,4.072080264952177E7,2.9852403747378435E9,-9.781858601589226E9,2.4934020394182813E8,-5.48884703941449E8,-2.6410639628871906E10,-5.369987679692154E9,-2.5059265938853917E8,-1.5860048040879693E9,-2.619776485380327E9,3.6876614152159935E10,-1.5143693874872375E10,-1.159763781846587E8,4.069028015522388E9,-2.1765324774311016E10,1.0026476948761517E10,-5.799508236812619E9,8.749186199835672E9,1.3434530304055372E10,-2.5832817211780727E7,-4.0060967016637664E9,-4.509655180214711E10,4.237707949291127E10,9.228429263557577E9,3.061251761233309E10,-1.091084038107109E10,8.147632279596571E10,-4.7312414951284454E10,-2.1826412857823784E10,-1.2017345888836312E9,-1.8499990042327414E9,3.67236478962053E9,-3.913385048205709E9,1.1883991056946398E10,5.806341872885534E9,-7.073545386290631E8,-1.6791166014057682E10,-8.730893921288966E8,6.866863640314134E9,-3.442198226912583E10,1.0538578977261166E10,5.2610658394990456E10,-3.2508159460763332E10,-1.3863832625297384E10,2.3197717496679577E10,-3.1072764149509E10,-2.595537500649117E9,-5.405989983775638E10,1.2043420685206715E10,1.5161586397132557E10,4.680321179637095E10,4.891338823832515E9,2.383074002518033E10,-7.31992682218748E10,2.463237985238894E10,3.984178936469778E10,-5.720199185908413E10,1.5425348783914437E9,4.866328991344458E10,-5.819977865625781E10,-3.469306050630457E10,-3.808987125901741E10,2.7952820462387455E10,1.294414738203913E10,2.8214319344439583E10,6.05370426062475E8,-1.0156263696881357E11,1.5557289302817266E10,8.312811820627517E9,-7.103158753141391E10,1.9344489264177746E10,9.293415448627702E10,-9.403088654116035E9,-6.004902383348579E10,4.227905440163158E10,-6.289216290373014E10,-1.547429584363572E11,-7.925296467067108E10,-6.033032941680901E9,1.8659500612573692E10,4.810261470946894E10,1.7137228771190805E11,1.4558114676764084E11,9.589791286782138E10]}]},{\"name\":\"series 5\",\"data\":[{\"name\":\"series 5\",\"type\":\"scatter3d\",\"mode\":\"markers\",\"x\":[0,1,2,3,4,5,6,7,8,9,10,11,12,13,14,15,16,17,18,19,20,21,22,23,24,25,26,27,28,29,30,31,32,33,34,35,36,37,38,39,40,41,42,43,44,45,46,47,48,49,50,51,52,53,54,55,56,57,58,59,60,61,62,63,64,65,66,67,68,69,70,71,72,73,74,75,76,77,78,79,80,81,82,83,84,85,86,87,88,89,90,91,92,93,94,95,96,97,98,99],\"y\":[0,0.8331214338447346,0.1015400309743093,2.174786336984981,1.4103224429309806,2.6258280169684185,5.599747907930868,1.7472896298130405,1.5837703041819315,4.9582252376739095,5.879591431312985,4.265806026556966,8.742392858051993,1.1210906996471142,1.9237060712191567,12.796866861132315,9.375092467875726,1.7072895362755571,6.532746454788623,18.806709412253834,15.483546757446147,15.298982258353153,13.966873188051073,9.546414317064505,1.9530295089906824,18.60794390782622,4.982947792115257,26.833639780509078,27.835603104589204,8.852442849320182,28.320536967351934,30.573467292601947,22.99037247494133,1.570131866257543,25.1302416119726,13.278869064196808,20.56164679285163,11.048837831843029,30.782229323883833,33.96064555503078,7.4408634700457466,26.355958822937907,40.19105827538864,30.3075088076313,30.40209834597379,14.812407409421098,39.49505890356217,27.319124202267616,12.273830767159101,1.9386879971012072,39.88456898681594,7.7385612547523115,9.561383245528951,18.648744952200445,53.833304791576964,11.00557609265479,1.615121558044648,47.03164392032145,41.20098825106909,27.2685645386967,2.9990919886961565,0.6920653149430553,11.89315455873431,11.500838650948312,44.40320775301888,55.56777870253267,44.235720671399406,62.216096366868825,46.50951840711174,60.656017811383464,35.197485369421095,62.91857157920231,52.919371134239995,20.410676887553766,55.32324138153802,63.505400953249804,65.82345552605014,41.96881140278784,38.973555950961966,28.612161674748783,62.800844770743055,41.077741876468025,38.45458679443068,7.607391045280412,70.21614743960558,66.87341559796427,38.11252134274992,16.848146961319014,49.395786727882104,39.75634463439777,42.71234334371925,66.15630697809642,1.3552663855885898,26.77358635371563,80.66962844230692,39.51441447286006,55.568989749218645,61.393687493790274,22.207038639204768,79.96026994070871],\"z\":[0,-1.1399978312413628E8,-2.9015147169581285E9,-4.5597501326467924E7,-2.8326411591012263E9,-3.095330533704114E9,-1.8706931460167757E8,5.165770538527314E9,-1.6107330441084847E9,7.999772079785637E9,-2.0952870511457813E9,8.17865266575259E9,-6.651459466914185E8,-1.0902918167996416E9,-1.0378865343917624E10,1.7525043855218072E9,-1.725297461901939E10,1.8981972052692524E10,-2.136347203643042E10,-2.6639972684523864E9,1.1532494542024298E9,-9.996665566431768E9,-2.403352305270748E10,-2.7247975199288063E10,1.2511450643018497E10,1.3564072423376293E10,1.585880406962707E10,1.7042202359306753E9,1.3508560751668379E10,-2.0037488599993828E10,2.6655327980654068E10,-1.830016585169327E10,-2.5822762736549774E10,-7.843245356611705E9,-5.9927770585500946E10,-1.4659408977960806E10,-3.0563118995864872E10,5.1599897868819094E8,1.038538401709261E10,4.672071851645659E10,-4.5271320987616325E10,1.981200412044053E10,-1.0630431060745815E10,3.586864239903576E10,5.0399368786308105E10,-5.220244780239176E10,-1.2531925757393787E10,2.7021471554844467E10,-1.5017500562439013E8,1.2556404341992733E10,-5.0157540142487335E9,2.7008963164203022E10,-4.257820153539479E10,1.0778497933959312E10,1.478142017200363E10,-4.85362871468038E10,-3.0572076750477547E10,2.503615861116835E10,-6.150488336716535E8,1.5393945465100943E10,1.3741224939985727E10,7.600537013217436E8,-6.421047573058061E9,2.5372653631725872E10,3.658938622520494E10,1.2794455839100048E10,-2.729331638233292E8,3.1072708286763966E10,-5.348255633305991E9,7.705263027674976E10,-6.77334634673618E10,8.072714568521626E10,-3.192723801302466E10,-1.0625963658091792E11,-8.480353100920456E9,2.0878530657324932E10,-3.011419519868072E10,-3.436918955991307E10,2.1149303327702072E10,3.686387472543462E10,3.8564223541819244E10,1.1966399919819157E10,-9.347942261550714E10,3.707962269864893E9,-6.764064261876409E9,-2.6238388761242256E9,-1.3687293906955349E10,2.0601330039989895E10,-1.1796625357986359E11,1.2438259843167009E11,-1.3702030341933212E10,1.0165103984420772E11,-3.553706178970203E10,-2.6761973753148584E9,-9.814841108293573E9,1.3408627972566957E11,-7.831581887809628E10,-7.424481099664034E10,1.582653953049331E10,-3.8227975459933846E10]}]},{\"name\":\"series 6\",\"data\":[{\"name\":\"series 6\",\"type\":\"scatter3d\",\"mode\":\"markers\",\"x\":[0,1,2,3,4,5,6,7,8,9,10,11,12,13,14,15,16,17,18,19,20,21,22,23,24,25,26,27,28,29,30,31,32,33,34,35,36,37,38,39,40,41,42,43,44,45,46,47,48,49,50,51,52,53,54,55,56,57,58,59,60,61,62,63,64,65,66,67,68,69,70,71,72,73,74,75,76,77,78,79,80,81,82,83,84,85,86,87,88,89,90,91,92,93,94,95,96,97,98,99],\"y\":[0,0.6979552772756161,1.9652243924723118,0.8542668183835983,1.281591196784475,0.9200696029590777,0.48173595244134626,0.3647358593945208,3.325821499786292,4.4745973272159905,0.7958973468425823,5.722277273136762,2.5813890422573382,4.24636580718348,5.133980163323064,6.77759056355073,13.067092206514655,5.878413256934293,10.399198944290356,15.167798838519985,4.871102907734688,7.795707729157962,3.634377273986477,20.051146154929057,11.065383369740704,16.221544772643966,11.96021611582714,11.732529662615446,20.538727505173203,19.348176776526394,21.00825999520309,25.18957324168506,10.612250645834248,16.77049113598668,2.9174696093248054,9.364401704951254,11.852909265563166,23.617745152019843,1.3295148163713169,29.945671075139117,39.49380812406225,8.773409908578488,19.750522036842767,42.478675042179,0.5546000437962717,19.407196579653288,6.396032973411467,39.2585404551964,38.3812920088751,9.00620258500185,34.451353887582314,2.8326191906563913,32.14211450380543,16.433922844403973,24.81133488102967,27.3131902629663,33.074945397479134,0.5165785853581706,42.06181789579811,25.33047194706191,13.231922777659067,35.50581126787323,26.979693463265797,57.58878113414725,11.358542169557282,33.74531372080977,21.40951034226867,38.875384576596474,1.627484485229656,6.226408179340686,45.272078876986164,24.262196405500053,41.47187630967201,1.7038720312110271,49.92436946258909,38.38504899079982,47.978476249369756,42.90857174637582,42.37024954814601,39.333643222126796,69.45853963384853,11.387621711395797,80.16834054671611,63.08769653693972,69.16270637309734,26.87578366760344,80.54630861056731,86.84098465181351,86.89632283139187,78.1038253948066,20.460417716764322,54.21518831499324,20.773063605767966,19.830372147731453,66.38507345838276,18.529500374438875,88.76753615761005,83.89361117743663,74.7293920358597,89.20987615376097],\"z\":[0,5.108359159733548E7,2.1570009008317333E7,5.412062673854024E8,3.13217305889562E9,-2.7680369173258915E9,-4.019939738204079E9,-6.289812836985251E9,9.686355694751259E9,9.664102070056572E9,8.943774016190987E9,-1.0810921031171858E9,1.57886686455709E10,-9.556379984110083E9,-1.0558164304109356E10,1.1144106950619645E8,-2.3143611765972687E10,-1.8342290185348263E10,1.2037230511723772E8,-1.2266750223900022E8,-2.451211607491522E10,1.6998659576926828E10,-6.6917323213907E7,3.3783193128518215E10,6.742069233483692E9,-2.836748602135439E9,-1.5060203326210043E9,-3.414020595378971E9,-3.4142775275710598E10,3.1353110292074207E10,-1.0827600847961138E10,1.0465290547643368E10,2.172522832589522E10,-1.970282827275503E10,1.3601468811149934E8,-2.912843768189494E10,2.9369631407532696E10,-5.054343313682964E9,1.3343625842291588E10,-1.9980871507604336E10,5.167912182433451E10,1.2919309634937517E10,-4.303766894319539E10,-5.060183189433691E9,-9.436623866722511E9,5.901735773566963E10,-1.6050009966459644E9,8.628733315971725E9,9.073458635129336E8,6.942871233371251E10,4.633258942944678E10,9.467460974598644E9,3.14424268834696E10,1.3354071910704265E9,-5.633341274120257E10,8.558533494546599E8,2.824531587281479E10,-4.0350555121659744E10,2.8311061206653423E10,5.253020494250281E10,-5.6207311412594925E10,1.02032661880999E10,2.882643497919315E10,-8.268358542176296E9,5.394442256698532E9,6.071790702542657E10,4.15093986968399E10,-3.544039780266248E10,-1.3242724143217628E10,7.965693796254116E9,1.122460190655675E10,-1.4861730446508772E9,-9.028455805156275E9,-7.39095579711712E10,-2.8885309088621983E10,6.0607991595745544E10,-1.453092934883492E10,-5.682302085207884E10,5.776865486886976E10,1.2257783698217384E11,2.848144135376799E10,1.7692100479704174E10,-5.060859753676784E10,-7.640886888199686E9,4.04363331135627E10,-4.130247408618208E10,-1.6149103719257288E9,-2.669593062861167E10,1.0149312083183327E11,2.3183283334941765E10,-5.606952768219023E8,-2.933924779067864E10,1.8148642156553165E10,-4.551221670381131E9,-4.3984406941963047E8,1.6762587995804607E10,-8.425175269042383E10,-1.6098973189831211E10,6.754737996628081E10,2.2116460292216907E9]}]},{\"name\":\"series 7\",\"data\":[{\"name\":\"series 7\",\"type\":\"scatter3d\",\"mode\":\"markers\",\"x\":[0,1,2,3,4,5,6,7,8,9,10,11,12,13,14,15,16,17,18,19,20,21,22,23,24,25,26,27,28,29,30,31,32,33,34,35,36,37,38,39,40,41,42,43,44,45,46,47,48,49,50,51,52,53,54,55,56,57,58,59,60,61,62,63,64,65,66,67,68,69,70,71,72,73,74,75,76,77,78,79,80,81,82,83,84,85,86,87,88,89,90,91,92,93,94,95,96,97,98,99],\"y\":[0,0.02209548275996487,1.3933684607334378,2.73612955793635,0.9616993850424285,3.3536370543270615,5.422708419582822,6.636900246846624,3.5871977181038908,4.996452616963551,8.186419042674787,0.35747925440431305,7.874167798141319,11.888690979523195,5.727510723193548,5.273563533751487,15.932336535312073,6.290877135866017,3.523838859973215,16.49238575595972,0.8225675086408879,9.128618194971144,17.39695533650199,11.031106166898596,19.269978130327182,17.830868238169995,3.2656982560001278,6.792332653903513,18.149282530508227,1.6008760482600302,17.408329943663098,26.5361070514281,3.9540256731921524,16.03546537815343,30.306224986100894,23.840660537421044,25.77875570178299,3.1782127231725115,15.68017955197668,26.653620717022786,6.914480168048054,4.703421179189774,1.247421346525974,40.711141804903384,5.232925901999908,26.23051887343302,36.27328749976332,4.09457870260445,17.364252123162878,8.012644875101211,4.416348780258206,4.7529906239011614,23.505845347083095,42.67876363764527,5.9194606998106245,51.19467897623015,43.78676911631819,37.58554425241568,0.13185273482038817,14.992429123788783,44.70322754896737,58.903660562057745,14.90887910268965,54.504917677778494,16.485161297297452,23.07290434094917,30.876483317679785,9.540952362888731,16.60270388945898,42.9616725170061,7.116778971765254,36.83387171055003,38.22377458212884,29.208958780362362,69.77937369864009,17.400425626405635,72.54053645261153,24.061031323423745,3.700221631901675,78.3819045146781,31.74277803146456,11.790247138408667,12.56584190037412,76.05516649129083,74.28055979756911,22.750378791083694,2.7457082759350704,5.607391418928991,75.17661982436248,4.530945043333429,20.87946680277101,16.241118198581994,16.771094763847696,29.772675529675535,76.89842323946063,73.46513466861363,56.65710732760389,89.24727141809926,85.63242533326337,55.28227998666835],\"z\":[0,2.479403585513186E8,8.647830721746032E8,1.1849437709269629E9,1.0106364974838958E9,2.075010074391917E9,-5.607507763834786E9,-2.450348988520384E7,7.222825532888227E8,-9.330575087891756E8,-1.0958843999251412E8,-6.418313488590905E9,-1.415538168767283E10,2.2754034363063684E9,1.385008202434606E9,2.0544128111552025E10,1.1250100529882425E10,-1.298585929470617E10,1.8463220379789858E9,7.061268649395114E9,3.188545083182204E8,1.7174145578664253E10,-7.880371664443636E9,-5.705172552207448E8,-2.7387026969870934E10,-1.3542702902556362E10,5.655574344592931E9,2.060441176008766E9,3.0221547233044024E9,-3.4691935164548316E9,-8.891393987787739E9,3.059440884631685E9,2.664024166058197E10,6.216343910939814E9,7.128212557174643E9,-1.4144713184246752E10,5.645817103193921E9,-6.389848222131497E9,-1.2120260516824277E8,1.7710414442554657E9,2.9157856639406017E10,5.001579715062624E9,2.6889071080263336E10,1.2989149135403933E10,1.0050093663362324E10,-1.551739795211703E9,8.276175896013647E10,-4.126751851974034E10,4.580880801241132E7,4.0148118679796234E10,1.1547296154957993E10,-3.865587123277619E10,-1.552965014955117E9,-5.074079584939756E10,1.6407412612259787E10,1.858507628046665E10,1.1583933563162504E8,-6.804945670636072E10,3.589857024632699E10,-3.667854176241524E10,-3.8714091594627256E9,8.932562854195448E10,1.020088690501252E11,-3.231558052361739E10,-4.855568610086179E10,8.491325516384391E9,-6.633315478802905E8,9.783736474204523E9,3.066058136756613E10,-2.0224833108568668E9,1.564041559220706E10,1.2664552348910947E9,-3.3027021121584473E10,-2.750208170646059E10,9.6388168327797E9,-1.6577585818134335E10,1.7812666231966255E10,1.3111947564514005E11,7.008987344583963E10,-2.409159827716704E10,8.030403176375163E10,-1.6950981949898477E9,-2.3815176607263565E10,-2.5944470652606007E10,-7.905683495248973E10,2.34621409094376E10,3.9639753591310135E10,2.3890178560773563E10,8.451284243909291E10,5.328189000603085E9,-1.412757851128594E10,-1.8105046885009003E10,1.3005996810228462E10,1.1353517695381358E11,3.920979118464236E10,1.39844022811369E10,-1.4195938129189774E11,2.8921897034752953E10,-2.1797506595548744E10,-5.7646055608696075E10]}]},{\"name\":\"series 8\",\"data\":[{\"name\":\"series 8\",\"type\":\"scatter3d\",\"mode\":\"markers\",\"x\":[0,1,2,3,4,5,6,7,8,9,10,11,12,13,14,15,16,17,18,19,20,21,22,23,24,25,26,27,28,29,30,31,32,33,34,35,36,37,38,39,40,41,42,43,44,45,46,47,48,49,50,51,52,53,54,55,56,57,58,59,60,61,62,63,64,65,66,67,68,69,70,71,72,73,74,75,76,77,78,79,80,81,82,83,84,85,86,87,88,89,90,91,92,93,94,95,96,97,98,99],\"y\":[0,0.3077405265509524,0.8694707113174724,1.6300538970938283,3.4663048093266093,0.7971061131354884,4.456485671766382,3.2194743970137445,7.369506519117283,2.7282780079531115,2.897962154539575,0.6798214405721118,10.446850446856306,7.678425445002552,4.061507525329208,12.967497233977728,3.5323153334103026,5.387284608723668,8.527353534961309,14.976117011335754,7.903523814254236,1.1657462619559467,5.042045704882701,8.118222709263836,10.95736911698004,1.3863103652498125,12.388335721078242,20.47852645324806,19.35783949778393,16.837454880826446,8.830398826997145,12.121978006342104,6.316142056137654,11.233717565900056,10.812035176421126,2.8704521706459096,8.996217778065335,7.686972461790471,17.04549663106187,0.2211922360417946,35.438163973484855,30.711952411615073,19.779924854032394,19.31845578811581,37.10789715121896,31.610561816829662,35.13118434545827,38.25697524477043,34.463616940073365,21.104905717442655,20.139031804220526,5.741959526346349,50.02826032319522,29.118266160532006,32.94316084350823,50.505338421972716,7.622190124231343,21.88644785990251,39.386655666282344,11.131884371531036,38.891775554521054,39.36904882545913,13.713770985626986,40.33163937292358,4.317411098999919,47.471192232805464,54.078783362510016,25.45679734904621,66.74875410393297,24.131211837946058,66.57384772730954,22.451828299636286,20.445629469847347,56.12858660231819,25.66641609487318,34.695140972088055,54.85012562577695,61.76916535679024,61.56081415709084,49.58905138720931,41.12887957551871,68.66137978426516,59.31398206411588,11.532120618161558,72.15442330659585,56.85762807606797,81.79222357249708,16.314218244668883,16.290787521512318,29.949568041249005,10.004067574299167,9.259821190471838,7.361182599990872,67.52431652783898,57.233965095629706,33.859067791301975,88.75476426725744,22.960866447011426,14.982634213032764,40.419141483097754],\"z\":[0,-6.811641465278909E8,8.785789641276586E8,-8.069137507204537E7,-1.7697237113032846E9,-7.786805918437658E9,1.0886964270730312E9,1.730928724430463E9,2.0086811596534111E9,-5.654067851693769E9,6.9038277182664E9,-8.972801977402903E9,5.418104841469152E9,3.8034700687438955E9,-3.3565440322250384E8,-1.8803896808817172E9,-6.126081247169279E9,7.677226681274921E8,-1.050110284165085E10,-1.5720328742717762E9,-8.72512239567449E9,-3.11595201038802E9,-6.62905160897359E9,-4.3554390053480536E8,3.0431191436487026E9,1.6327854052837596E9,3.980509025438337E10,-1.6575400183793676E10,2.6198063072523303E9,7.279536310678869E9,-4.923555732698904E9,-1.8365429517460506E10,1.6937656239105394E10,3.7100189047521086E9,3.498395700023676E8,1.8601240292036503E10,-3.704242114336457E10,2.8146017976055436E9,8.462640600275777E9,-3.4300649021995796E10,-4.098924095938964E9,3.651771819314463E10,-5.105824763980359E10,-1.7126133356951815E10,-8.33367079919945E10,-8.998075004115599E10,1.128853029475779E10,-8.523482682325127E9,-7.376557750228195E10,-1.7848769758717895E9,1.2574673794386969E10,5.041766138896997E10,-4.669167302204887E10,-2.256966158720961E10,4.689060218833978E10,2.4362434232416096E10,3.783151334364427E10,-2.058043445042723E10,2.73033994551964E10,2.2102231507824945E9,2.7901574416099186E9,-9.444317020687586E7,-2.923418513512334E10,3.486711321658353E10,-1.3844643178925055E10,1.7307416644414086E9,-1.0251377784904396E11,-1.1460712192199411E10,2.089280851114172E10,7.637588464209537E10,5.104184297286199E10,-4.6199151241726105E10,4.094492010240305E10,-2.7656222335845084E9,1.4893317264583366E10,-1.73470959771817E9,1.320624279158159E11,5.482997323028385E10,4.5702322788743614E10,3.444457285097184E10,4.567908441565176E9,1.0773511504073729E11,-2.6704325202465087E8,7.022317152715372E10,5.1714305771611534E10,5.371699910854168E10,-1.8431610595127224E10,3.3542859095390194E10,-1.347258781778827E11,7.517524680264192E9,-1.5500836594669155E10,1.082983079368494E11,-1.1554387362122885E11,-7.181828536720149E10,3.9654208171341675E10,1.5986726177349207E11,4.407298133982936E10,-1.2375659119000478E11,8.784525321112226E9,2.0705575299743752E9]}]},{\"name\":\"series 9\",\"data\":[{\"name\":\"series 9\",\"type\":\"scatter3d\",\"mode\":\"markers\",\"x\":[0,1,2,3,4,5,6,7,8,9,10,11,12,13,14,15,16,17,18,19,20,21,22,23,24,25,26,27,28,29,30,31,32,33,34,35,36,37,38,39,40,41,42,43,44,45,46,47,48,49,50,51,52,53,54,55,56,57,58,59,60,61,62,63,64,65,66,67,68,69,70,71,72,73,74,75,76,77,78,79,80,81,82,83,84,85,86,87,88,89,90,91,92,93,94,95,96,97,98,99],\"y\":[0,0.5329696524604723,0.25558704759906337,0.09872825991733536,3.562380622510716,3.0909942814658904,4.425292624970512,1.094520390332217,0.8335752126323817,8.784097989612418,4.106806181379711,6.197221200193521,9.85914552999337,12.672863083752446,3.0198825757529626,5.492218252476533,15.919189302026426,9.728354834255482,6.888652352167561,7.901446677802732,15.90926890612036,0.12966458080613952,20.84374785738058,2.3287586189536107,4.3745437007088475,1.4175643285379764,9.849397152209173,17.334744591085443,22.35835591170604,7.622441637879963,21.582355332561384,25.924499195038226,10.196247887286201,23.02567287590173,11.5674919303711,24.69978637801298,29.98502260939264,33.57105543660136,0.5066586465901732,9.736453314498798,33.933991194019896,16.36670412432616,26.873235897796466,24.34869204644963,0.4120162523359192,28.458082542368103,29.234386379196106,43.64397441222828,33.48927336899551,39.35947280915656,33.65659307894531,0.7060397839863038,13.386962823018878,44.9542234046007,11.197550873305229,20.618345008113877,39.74132102776693,56.56357729274364,56.138800850002916,24.606778860405534,28.210374625102983,52.489750158804476,24.518818986997925,37.58826072785724,48.952851092827274,41.41117133366721,53.935409614066394,19.61105285525096,10.138555324509618,0.8964909849585762,0.7493748502465003,58.31325084842841,56.15828213719418,50.259037441067335,50.9883854697956,26.857950956909104,65.83905095591584,1.2448666275292486,27.67092108066874,9.07701112681414,1.9870667184454849,77.8854699166456,75.19491082593039,81.02019166856651,9.226261916763477,79.50048801413512,38.1144423633513,82.0126912640113,39.62475838233738,18.556470940879493,38.31052315555984,13.921762329891145,30.254865753916206,52.12484822113668,92.4983796892722,90.8721388846617,92.86445156107467,51.28579397245133,48.4542378917567,49.38051080277897],\"z\":[0,-4.856674615190375E8,-6.089797157602403E8,5.170796172024265E7,-2.6354013796260357E9,3.181396562303933E9,2.589853494444638E9,4.179973775771615E9,1.0770346394917246E10,4.876271670033217E9,-5.849887860560782E8,3.1022131875131625E8,-3.3513642749929347E9,1.4413865109024178E10,-1.732582008474016E10,3.9446447216135507E9,4.433125986032253E8,-4.0158756950239167E9,-1.2726188612067432E9,-5.60085348007048E9,7.78652408668449E8,1.1561235923827732E10,3.0105189398753296E10,-2.788918099286812E10,-4.25288314745026E9,2.6511612378359776E10,3.449202433045507E10,-1.4677672867529E10,-2.675436506177352E9,-3.3927194052752533E9,1.2765045050100212E10,2.5449647723663815E10,-1.0975648456405968E10,-1.0965700746747461E8,-2.0057423988094256E9,5.690817934739478E8,-6.680323424913905E9,1.1988410297085232E10,-1.7791693465439644E10,1.9227289525957344E10,1.4996628413685993E10,-2.0183892029021826E9,1.8697208124021942E10,1.7178820886622581E10,-4.67069573536233E10,7.440252744815863E8,-5.337068855250049E9,1.8340741771458427E10,6.1350260118515526E10,-1.8262151819071907E8,-5.694493255164429E9,9.351298122959137E9,-1.4720077264450476E9,3.4634315508325424E10,-1.0368749191290012E10,-1.6151179389479248E10,6.287569257940292E10,1.0923347646847666E10,-3.6295683294695697E9,3.681601368659801E10,-4.310702601146447E10,-1.555757240414217E10,2.033803157319838E10,-1.0947885665243721E10,6.4467859998220215E9,7.801859402353221E8,6.018173101172507E10,2.967437065246812E9,-1.0078228205445847E10,2.6611287797035E10,2.7205502711676617E10,1.0387909191761244E11,-5.67645240578367E9,-9.970877585796434E10,-5.005803445115533E10,-8.797682996970773E10,-4.8177670555244995E10,-6.274093259823486E10,1.8131916172826782E10,-1.321965783620772E11,2.3854937781740013E10,1.3969782220515596E10,-8.743568595916722E10,-3.97152940321203E10,-7.08411253634921E10,-7.179840246562639E10,5.598466049973891E10,-4.216447820352136E10,-2.3063693539168175E10,1.0956881971927328E9,1.3227801696969526E10,-4.304426233463549E9,-6.670546715842113E10,1.0120867601366228E11,1.0448527647757753E10,3.528790233351097E10,-6.217400097842655E9,-3.7929805815486916E10,-3.3084593824192486E10,-6.910079804487637E10]}]}]\n",
       "var labels_eKcBcqPQrU = [\"series 0\",\"series 1\",\"series 2\",\"series 3\",\"series 4\",\"series 5\",\"series 6\",\"series 7\",\"series 8\",\"series 9\"]\n",
       "var duration_eKcBcqPQrU = 100\n",
       "var config_eKcBcqPQrU = {\"responsive\":true,\"scrollZoom\":true,\"displaylogo\":false}\n",
       "\n",
       "var animation_settings_eKcBcqPQrU = {\n",
       "    mode: \"immediate\",\n",
       "    direction: {},\n",
       "    fromcurrent: true,\n",
       "    frame: [\n",
       "      {duration: duration_eKcBcqPQrU},\n",
       "      {duration: duration_eKcBcqPQrU},\n",
       "      {redraw: true}\n",
       "    ],\n",
       "    transition: [\n",
       "      {duration: duration_eKcBcqPQrU, easing: 'cubic-in-out'},\n",
       "      {duration: duration_eKcBcqPQrU, easing: 'cubic-in-out'},\n",
       "    ],\n",
       "    ordering: \"layout first\"\n",
       "}\n",
       "\n",
       "var slider_eKcBcqPQrU = document.createElement(\"input\")\n",
       "var play_eKcBcqPQrU = document.getElementById(\"play_eKcBcqPQrU\")\n",
       "var pause_eKcBcqPQrU = document.getElementById(\"pause_eKcBcqPQrU\")\n",
       "slider_eKcBcqPQrU.id = \"slider_eKcBcqPQrU\"\n",
       "slider_eKcBcqPQrU.type = \"range\"\n",
       "slider_eKcBcqPQrU.min = 0\n",
       "slider_eKcBcqPQrU.max = frames_eKcBcqPQrU.length - 1\n",
       "slider_eKcBcqPQrU.value = 0\n",
       "document.getElementById(\"sliderContainer_eKcBcqPQrU\").appendChild(slider_eKcBcqPQrU);\n",
       "\n",
       "Plotly.newPlot(graph_eKcBcqPQrU, traces_eKcBcqPQrU, layout_eKcBcqPQrU, config_eKcBcqPQrU)\n",
       ".then(function () { Plotly.addFrames(graph_eKcBcqPQrU, frames_eKcBcqPQrU) })\n",
       "\n",
       "var trigger_eKcBcqPQrU = true\n",
       "var reset_count_eKcBcqPQrU = false\n",
       "\n",
       "play_eKcBcqPQrU.addEventListener('click', function() {\n",
       "   trigger_eKcBcqPQrU = true\n",
       "   if (reset_count_eKcBcqPQrU) {\n",
       "      slider_eKcBcqPQrU.value = 0\n",
       "      reset_count_eKcBcqPQrU = false\n",
       "   }\n",
       "\n",
       "  const start_index = slider_eKcBcqPQrU.value == labels_eKcBcqPQrU.length - 1 ? 0 : slider_eKcBcqPQrU.value\n",
       "  const end_index = labels_eKcBcqPQrU.length\n",
       "  Plotly.animate(graph_eKcBcqPQrU, labels_eKcBcqPQrU.slice(start_index, end_index), animation_settings_eKcBcqPQrU)\n",
       "})\n",
       "\n",
       "pause_eKcBcqPQrU.addEventListener('click', function() {\n",
       "  Plotly.animate(graph_eKcBcqPQrU, [null], animation_settings_eKcBcqPQrU)\n",
       "})\n",
       "\n",
       "graph_eKcBcqPQrU.on('plotly_redraw', () => {\n",
       "   value_eKcBcqPQrU.innerHTML = slider_eKcBcqPQrU.value;\n",
       "   if (trigger_eKcBcqPQrU & !reset_count_eKcBcqPQrU) ++slider_eKcBcqPQrU.value\n",
       "   if (slider_eKcBcqPQrU.value == labels_eKcBcqPQrU.length - 1) reset_count_eKcBcqPQrU = true\n",
       "});\n",
       "\n",
       "slider_eKcBcqPQrU.oninput = function() {\n",
       "   Plotly.animate(graph_eKcBcqPQrU, frames_eKcBcqPQrU[this.value], animation_settings_eKcBcqPQrU)\n",
       "   trigger_eKcBcqPQrU = false\n",
       "   slider_eKcBcqPQrU.value = this.value\n",
       "   value_eKcBcqPQrU.innerHTML = this.value;\n",
       "   if (this.value == 0) reset_count_eKcBcqPQrU = false\n",
       "   if (this.value == labels_eKcBcqPQrU.length - 1) reset_count_eKcBcqPQrU = true\n",
       "   reset_count_eKcBcqPQrU = false\n",
       "}\n",
       "</script> \n"
      ]
     },
     "metadata": {},
     "output_type": "display_data"
    }
   ],
   "source": [
    "val series = createXYZSeries(numberToCreate = 10, length = 100)\n",
    "\n",
    "val layout = ChartLayout()\n",
    "\n",
    "val chart = Chart(animated = true) setTitle \"Animation 3D\" addSeries series \n",
    "\n",
    "chart.plotInline"
   ]
  },
  {
   "cell_type": "markdown",
   "metadata": {},
   "source": [
    "## IO + Utility Functions\n",
    "\n",
    "The library also comes with some basic CSV IO functions and a utility function for breaking down data"
   ]
  },
  {
   "cell_type": "code",
   "execution_count": 43,
   "metadata": {},
   "outputs": [],
   "source": [
    "import org.carbonateresearch.picta.IO._\n",
    "import org.carbonateresearch.picta.common.Utils.getSeriesbyCategory"
   ]
  },
  {
   "cell_type": "code",
   "execution_count": 44,
   "metadata": {},
   "outputs": [
    {
     "name": "stdout",
     "output_type": "stream",
     "text": [
      "/Users/fazi/Desktop/Final Project/irp-acse-fk4517/Code\n"
     ]
    }
   ],
   "source": [
    "val working_directory = getWorkingDirectory\n",
    "\n",
    "println(working_directory)"
   ]
  },
  {
   "cell_type": "code",
   "execution_count": 45,
   "metadata": {},
   "outputs": [],
   "source": [
    "// by providing a path, we can read in a CSV\n",
    "val filepath = working_directory + \"/iris_csv.csv\"\n",
    "\n",
    "val data = readCSV(filepath)\n",
    "\n",
    "// by default, CSV are read in as strings. However we can convert the individual columns to the correct format\n",
    "val sepal_length = data(\"sepallength\").map(_.toDouble)\n",
    "val petal_width = data(\"petalwidth\").map(_.toDouble)\n",
    "val categories = data(\"class\")"
   ]
  },
  {
   "cell_type": "code",
   "execution_count": 46,
   "metadata": {},
   "outputs": [
    {
     "data": {
      "text/html": [
       "<div id=\"grid-container_x8vjwTrl9R\" class=\"grid-container\" align=\"center\"> \n",
       "<div id=\"grid_x8vjwTrl9R\" class=\"grid\" align=\"center\"> \n",
       "<div id=\"graph_CG7selqR49\" class=\"graph\"></div> \n",
       "</div> \n",
       "</div> \n",
       "<script>\n",
       "var masonry = new Macy({\n",
       "    container: '#grid_x8vjwTrl9R',\n",
       "    debug: true,\n",
       "    mobileFirst: true,\n",
       "    columns: 1,\n",
       "    margin: {\n",
       "        x: 0,\n",
       "        y: 0\n",
       "    }\n",
       "  });\n",
       "\n",
       " var traces_CG7selqR49 = [{\"name\":\"440yfhIxAn\",\"type\":\"scatter\",\"mode\":\"markers\",\"x\":[5.9,6.2,6.5,6.3,6.7,6.7,6.8,5.8,6.9,6.7,6.9,6,6.4,6.3,7.7,6.1,6.3,6.4,7.9,7.4,7.2,6.4,6.1,6.2,7.2,6.7,6.3,7.7,5.6,6.9,6,7.7,7.7,6.5,6.4,5.8,5.7,6.8,6.4,6.5,7.2,6.7,7.3,4.9,7.6,6.5,6.3,7.1,5.8,6.3,5.7,5.1,6.2,5.7,5.7,5.6,5,5.8,6.1,5.5,5.5,5.6,6.3,6.7,6,5.4,6,5.8,5.5,5.5,5.7,6,6.7,6.8,6.6,6.4,6.1,6.3,6.1,5.9,5.6,6.2,5.8,5.6,6.7,5.6,6.1,6,5.9,5,5.2,6.6,4.9,6.3,5.7,6.5,5.5,6.9,6.4,7,5,5.3,4.6,5.1,4.8,5.1,5,4.4,4.5,5,5.1,4.4,4.9,5.5,5,4.9,5.5,5.2,5.4,4.8,4.7,5.2,5.2,5,5,4.8,5.1,4.6,5.1,5.4,5.1,5.7,5.1,5.4,5.7,5.8,4.3,4.8,4.8,5.4,4.9,4.4,5,4.6,5.4,5,4.6,4.7,4.9,5.1],\"y\":[1.8,2.3,2,1.9,2.3,2.5,2.3,1.9,2.3,2.4,2.1,1.8,1.8,2.4,2.3,1.4,1.5,2.2,2,1.9,1.6,2.1,1.8,1.8,1.8,2.1,1.8,2,2,2.3,1.5,2.3,2.2,1.8,2.3,2.4,2,2.1,1.9,2,2.5,1.8,1.8,1.7,2.1,2.2,1.8,2.1,1.9,2.5,1.3,1.1,1.3,1.3,1.2,1.3,1,1.2,1.4,1.2,1.3,1.3,1.3,1.5,1.6,1.5,1.6,1.2,1,1.1,1,1.5,1.7,1.4,1.4,1.3,1.2,1.5,1.3,1.8,1.1,1.5,1,1.5,1.4,1.3,1.4,1,1.5,1,1.4,1.3,1,1.6,1.3,1.5,1.3,1.5,1.5,1.4,0.2,0.2,0.2,0.2,0.3,0.4,0.6,0.2,0.3,0.3,0.2,0.2,0.1,0.2,0.2,0.1,0.2,0.1,0.4,0.2,0.2,0.2,0.2,0.4,0.2,0.2,0.5,0.2,0.4,0.2,0.3,0.3,0.3,0.4,0.4,0.2,0.1,0.1,0.2,0.2,0.1,0.2,0.2,0.3,0.4,0.2,0.2,0.2,0.2,0.2]}];\n",
       " var layout_CG7selqR49 = {\"height\":550,\"width\":600,\"hovermode\":\"closest\",\"legend\":{\"orientation\":\"v\"},\"title\":{\"text\":\"Uninformative Chart\"},\"showlegend\":true};\n",
       " var config_CG7selqR49 = {\"responsive\":true,\"scrollZoom\":true,\"displaylogo\":false};\n",
       " Plotly.newPlot(\"graph_CG7selqR49\", traces_CG7selqR49, layout_CG7selqR49, config_CG7selqR49);\n",
       "</script> \n"
      ]
     },
     "metadata": {},
     "output_type": "display_data"
    }
   ],
   "source": [
    "val series = XY(sepal_length, petal_width) asType SCATTER drawStyle MARKERS\n",
    "\n",
    "val chart = Chart() addSeries series setTitle \"Uninformative Chart\"\n",
    "\n",
    "chart.plotInline"
   ]
  },
  {
   "cell_type": "markdown",
   "metadata": {},
   "source": [
    "The above chart is not very informative. However since we have the per data point category labels, we can use the utility function to display the data in the different clusters"
   ]
  },
  {
   "cell_type": "code",
   "execution_count": 47,
   "metadata": {},
   "outputs": [
    {
     "data": {
      "text/html": [
       "<div id=\"grid-container_Yd0SWCBLOh\" class=\"grid-container\" align=\"center\"> \n",
       "<div id=\"grid_Yd0SWCBLOh\" class=\"grid\" align=\"center\"> \n",
       "<div id=\"graph_NjZDcns98k\" class=\"graph\"></div> \n",
       "</div> \n",
       "</div> \n",
       "<script>\n",
       "var masonry = new Macy({\n",
       "    container: '#grid_Yd0SWCBLOh',\n",
       "    debug: true,\n",
       "    mobileFirst: true,\n",
       "    columns: 1,\n",
       "    margin: {\n",
       "        x: 0,\n",
       "        y: 0\n",
       "    }\n",
       "  });\n",
       "\n",
       " var traces_NjZDcns98k = [{\"name\":\"Iris-versicolor\",\"type\":\"scatter\",\"mode\":\"markers\",\"x\":[7,6.4,6.9,5.5,6.5,5.7,6.3,4.9,6.6,5.2,5,5.9,6,6.1,5.6,6.7,5.6,5.8,6.2,5.6,5.9,6.1,6.3,6.1,6.4,6.6,6.8,6.7,6,5.7,5.5,5.5,5.8,6,5.4,6,6.7,6.3,5.6,5.5,5.5,6.1,5.8,5,5.6,5.7,5.7,6.2,5.1,5.7],\"y\":[1.4,1.5,1.5,1.3,1.5,1.3,1.6,1,1.3,1.4,1,1.5,1,1.4,1.3,1.4,1.5,1,1.5,1.1,1.8,1.3,1.5,1.2,1.3,1.4,1.4,1.7,1.5,1,1.1,1,1.2,1.6,1.5,1.6,1.5,1.3,1.3,1.3,1.2,1.4,1.2,1,1.3,1.2,1.3,1.3,1.1,1.3]},{\"name\":\"Iris-setosa\",\"type\":\"scatter\",\"mode\":\"markers\",\"x\":[5.1,4.9,4.7,4.6,5,5.4,4.6,5,4.4,4.9,5.4,4.8,4.8,4.3,5.8,5.7,5.4,5.1,5.7,5.1,5.4,5.1,4.6,5.1,4.8,5,5,5.2,5.2,4.7,4.8,5.4,5.2,5.5,4.9,5,5.5,4.9,4.4,5.1,5,4.5,4.4,5,5.1,4.8,5.1,4.6,5.3,5],\"y\":[0.2,0.2,0.2,0.2,0.2,0.4,0.3,0.2,0.2,0.1,0.2,0.2,0.1,0.1,0.2,0.4,0.4,0.3,0.3,0.3,0.2,0.4,0.2,0.5,0.2,0.2,0.4,0.2,0.2,0.2,0.2,0.4,0.1,0.2,0.1,0.2,0.2,0.1,0.2,0.2,0.3,0.3,0.2,0.6,0.4,0.3,0.2,0.2,0.2,0.2]},{\"name\":\"Iris-virginica\",\"type\":\"scatter\",\"mode\":\"markers\",\"x\":[6.3,5.8,7.1,6.3,6.5,7.6,4.9,7.3,6.7,7.2,6.5,6.4,6.8,5.7,5.8,6.4,6.5,7.7,7.7,6,6.9,5.6,7.7,6.3,6.7,7.2,6.2,6.1,6.4,7.2,7.4,7.9,6.4,6.3,6.1,7.7,6.3,6.4,6,6.9,6.7,6.9,5.8,6.8,6.7,6.7,6.3,6.5,6.2,5.9],\"y\":[2.5,1.9,2.1,1.8,2.2,2.1,1.7,1.8,1.8,2.5,2,1.9,2.1,2,2.4,2.3,1.8,2.2,2.3,1.5,2.3,2,2,1.8,2.1,1.8,1.8,1.8,2.1,1.6,1.9,2,2.2,1.5,1.4,2.3,2.4,1.8,1.8,2.1,2.4,2.3,1.9,2.3,2.5,2.3,1.9,2,2.3,1.8]}];\n",
       " var layout_NjZDcns98k = {\"height\":550,\"width\":600,\"hovermode\":\"closest\",\"legend\":{\"orientation\":\"v\"},\"title\":{\"text\":\"Iris\"},\"showlegend\":true};\n",
       " var config_NjZDcns98k = {\"responsive\":true,\"scrollZoom\":true,\"displaylogo\":false};\n",
       " Plotly.newPlot(\"graph_NjZDcns98k\", traces_NjZDcns98k, layout_NjZDcns98k, config_NjZDcns98k);\n",
       "</script> \n"
      ]
     },
     "metadata": {},
     "output_type": "display_data"
    }
   ],
   "source": [
    "val result = getSeriesbyCategory(categories, (sepal_length, petal_width))\n",
    "\n",
    "val chart = Chart() addSeries result setTitle \"Iris\" showLegend true\n",
    "\n",
    "chart.plotInline"
   ]
  },
  {
   "cell_type": "markdown",
   "metadata": {},
   "source": [
    "## Conus Integration\n",
    "\n",
    "A couple of utility functions make wrangling conus data easier. Below is an example taken from the conus repo and plotting some variables of interest."
   ]
  },
  {
   "cell_type": "code",
   "execution_count": 48,
   "metadata": {},
   "outputs": [],
   "source": [
    "import org.carbonateresearch.picta.conus.Utils._"
   ]
  },
  {
   "cell_type": "code",
   "execution_count": 49,
   "metadata": {},
   "outputs": [],
   "source": [
    "import org.carbonateresearch.picta.conus.Utils._\n",
    "import org.carbonateresearch.picta.{Canvas, Chart, XY}\n",
    "import org.carbonateresearch.conus.common.SingleModelResults\n",
    "import org.carbonateresearch.conus.modelzoo.GeneralGeology._\n",
    "import org.carbonateresearch.conus.modelzoo.PasseyHenkesClumpedDiffusionModel._\n",
    "import org.carbonateresearch.conus.{AllCells, ModelVariable, PerCell, Simulator, Step, SteppedModel}\n",
    "\n",
    "import math._"
   ]
  },
  {
   "cell_type": "code",
   "execution_count": 50,
   "metadata": {
    "scrolled": false
   },
   "outputs": [
    {
     "name": "stdout",
     "output_type": "stream",
     "text": [
      "15:36:10.591 [CoNuS-akka.actor.default-dispatcher-5] INFO akka.event.slf4j.Slf4jLogger - Slf4jLogger started\n",
      "A total of 135 unique models were defined, attempting to create a list now.\n",
      "Models list successfully created.\n",
      "----------------------------------------\n",
      "RUN STARTED\n",
      "----------------------------------------\n",
      "\u001b[0m\u001b[35m\u001b[4mRUN DATA\u001b[0m\n",
      "\u001b[0m\u001b[33mTotal number of models:\u001b[0m \u001b[37m135\n",
      "\u001b[0m\u001b[33mNumber of cell per grid:\u001b[0m\u001b[37m 19\n",
      "\u001b[0m\u001b[33mNumber of steps per model:\u001b[0m\u001b[37m 10\n",
      "\u001b[0m\u001b[33mNumber of operation per step:\u001b[0m\u001b[37m 304\n",
      "\u001b[0m\u001b[33mTotal number of operations:\u001b[0m\u001b[37m 410'400\n",
      "\u001b[0m\u001b[33mAvailable CPU cores:\u001b[0m\u001b[37m 8\n",
      "\u001b[0m\u001b[34m----------------------------------------\u001b[0m\n",
      "\u001b[0m\u001b[35m\u001b[4mRUN PROGRESS\u001b[0m\n",
      "Model #4 completed in 0 seconds is calibrated.\n",
      "Model #6 completed in 0 seconds is calibrated.\n",
      "Model #7 completed in 0 seconds is calibrated.\n",
      "Model #5 completed in 0 seconds is calibrated.\n",
      "Model #1 completed in 0 seconds is calibrated.\n",
      "Model #2 completed in 0 seconds is calibrated.\n",
      "Model #8 completed in 0 seconds is calibrated.\n",
      "Model #9 completed in 0 seconds is calibrated.\n",
      "Model #10 completed in 0 seconds is calibrated.\n",
      "Model #12 completed in 0 seconds is calibrated.\n",
      "Model #3 completed in 0 seconds is calibrated.\n",
      "Model #11 completed in 0 seconds is calibrated.\n",
      "Model #13 completed in 0 seconds is calibrated.\n",
      "Model #15 completed in 0 seconds is calibrated.\n",
      "Model #14 completed in 0 seconds is calibrated.\n",
      "Model #17 completed in 0 seconds is calibrated.\n",
      "Model #20 completed in 0 seconds is calibrated.\n",
      "Model #16 completed in 0 seconds is calibrated.\n",
      "Model #19 completed in 0 seconds is calibrated.\n",
      "Model #23 completed in 0 seconds is calibrated.\n",
      "Model #18 completed in 0 seconds is calibrated.\n",
      "Model #22 completed in 0 seconds is calibrated.\n",
      "Model #24 completed in 0 seconds is calibrated.\n",
      "Model #21 completed in 0 seconds is calibrated.\n",
      "Model #25 completed in 0 seconds is calibrated.\n",
      "Model #26 completed in 0 seconds is calibrated.\n",
      "Model #29 completed in 0 seconds is calibrated.\n",
      "Model #28 completed in 0 seconds is calibrated.\n",
      "Model #31 completed in 0 seconds is calibrated.\n",
      "Model #27 completed in 0 seconds is calibrated.\n",
      "Model #32 completed in 0 seconds is calibrated.\n",
      "Model #35 completed in 0 seconds is calibrated.\n",
      "Model #30 completed in 0 seconds is calibrated.\n",
      "Model #34 completed in 0 seconds is calibrated.\n",
      "Model #33 completed in 0 seconds is calibrated.\n",
      "Model #37 completed in 0 seconds is calibrated.\n",
      "Model #36 completed in 0 seconds is calibrated.\n",
      "Model #38 completed in 0 seconds is calibrated.\n",
      "Model #39 completed in 0 seconds is calibrated.\n",
      "Model #44 completed in 0 seconds is calibrated.\n",
      "Model #40 completed in 0 seconds is calibrated.\n",
      "Model #45 completed in 1 seconds is calibrated.\n",
      "Model #41 completed in 1 seconds is calibrated.\n",
      "Model #42 completed in 1 seconds is calibrated.\n",
      "Model #43 completed in 1 seconds is calibrated.\n",
      "Model #51 completed in 1 seconds is calibrated.\n",
      "Model #46 completed in 1 seconds is calibrated.\n",
      "Model #48 completed in 1 seconds is calibrated.\n",
      "Model #52 completed in 1 seconds is calibrated.\n",
      "Model #50 completed in 1 seconds is calibrated.\n",
      "Model #47 completed in 1 seconds is calibrated.\n",
      "Model #49 completed in 1 seconds is calibrated.\n",
      "Model #55 completed in 1 seconds is calibrated.\n",
      "Model #57 completed in 1 seconds is calibrated.\n",
      "Model #53 completed in 1 seconds is calibrated.\n",
      "Model #58 completed in 1 seconds is calibrated.\n",
      "Model #59 completed in 1 seconds is calibrated.\n",
      "Model #61 completed in 1 seconds is calibrated.\n",
      "Model #54 completed in 1 seconds is calibrated.\n",
      "Model #63 completed in 1 seconds is calibrated.\n",
      "Model #62 completed in 1 seconds is calibrated.\n",
      "Model #65 completed in 1 seconds is calibrated.\n",
      "Model #66 completed in 1 seconds is calibrated.\n",
      "Model #60 completed in 1 seconds is calibrated.\n",
      "Model #56 completed in 1 seconds is calibrated.\n",
      "Model #71 completed in 1 seconds is calibrated.\n",
      "Model #64 completed in 1 seconds is calibrated.\n",
      "Model #72 completed in 1 seconds is calibrated.\n",
      "Model #73 completed in 1 seconds is calibrated.\n",
      "Model #75 completed in 1 seconds is calibrated.\n",
      "Model #68 completed in 1 seconds is calibrated.\n",
      "Model #70 completed in 1 seconds is calibrated.\n",
      "Model #69 completed in 1 seconds is calibrated.\n",
      "Model #74 completed in 1 seconds is calibrated.\n",
      "Model #79 completed in 1 seconds is calibrated.\n",
      "Model #80 completed in 1 seconds is calibrated.\n",
      "Model #67 completed in 1 seconds is calibrated.\n",
      "Model #81 completed in 1 seconds is calibrated.\n",
      "Model #83 completed in 1 seconds is calibrated.\n",
      "Model #84 completed in 1 seconds is calibrated.\n",
      "Model #76 completed in 1 seconds is calibrated.\n",
      "Model #78 completed in 1 seconds is calibrated.\n",
      "Model #77 completed in 1 seconds is calibrated.\n",
      "Model #86 completed in 1 seconds is calibrated.\n",
      "Model #89 completed in 1 seconds is calibrated.\n",
      "Model #91 completed in 1 seconds is calibrated.\n",
      "Model #90 completed in 1 seconds is calibrated.\n",
      "Model #87 completed in 1 seconds is calibrated.\n",
      "Model #82 completed in 1 seconds is calibrated.\n",
      "Model #85 completed in 1 seconds is calibrated.\n",
      "Model #88 completed in 1 seconds is calibrated.\n",
      "Model #93 completed in 1 seconds is calibrated.\n",
      "Model #95 completed in 1 seconds is calibrated.\n",
      "Model #97 completed in 1 seconds is calibrated.\n",
      "Model #92 completed in 1 seconds is calibrated.\n",
      "Model #100 completed in 1 seconds is not calibrated.\n",
      "Model #99 completed in 1 seconds is calibrated.\n",
      "Model #94 completed in 1 seconds is calibrated.\n",
      "Model #102 completed in 1 seconds is not calibrated.\n",
      "Model #103 completed in 1 seconds is not calibrated.\n",
      "Model #96 completed in 1 seconds is calibrated.\n",
      "Model #101 completed in 1 seconds is not calibrated.\n",
      "Model #105 completed in 1 seconds is not calibrated.\n",
      "Model #107 completed in 1 seconds is calibrated.\n",
      "Model #106 completed in 1 seconds is calibrated.\n",
      "Model #108 completed in 1 seconds is calibrated.\n",
      "Model #104 completed in 1 seconds is not calibrated.\n",
      "Model #109 completed in 1 seconds is calibrated.\n",
      "Model #112 completed in 1 seconds is calibrated.\n",
      "Model #98 completed in 1 seconds is calibrated.\n",
      "Model #113 completed in 1 seconds is calibrated.\n",
      "Model #115 completed in 1 seconds is not calibrated.\n",
      "Model #116 completed in 1 seconds is not calibrated.\n",
      "Model #110 completed in 1 seconds is calibrated.\n",
      "Model #117 completed in 1 seconds is not calibrated.\n",
      "Model #118 completed in 1 seconds is not calibrated.\n",
      "Model #114 completed in 1 seconds is calibrated.\n",
      "Model #111 completed in 1 seconds is calibrated.\n",
      "Model #121 completed in 1 seconds is calibrated.\n",
      "Model #122 completed in 1 seconds is calibrated.\n",
      "Model #124 completed in 1 seconds is calibrated.\n",
      "Model #127 completed in 1 seconds is calibrated.\n",
      "Model #125 completed in 1 seconds is calibrated.\n",
      "Model #119 completed in 1 seconds is not calibrated.\n",
      "Model #123 completed in 1 seconds is calibrated.\n",
      "Model #120 completed in 1 seconds is not calibrated.\n",
      "Model #130 completed in 1 seconds is not calibrated.\n",
      "Model #131 completed in 1 seconds is not calibrated.\n",
      "Model #126 completed in 1 seconds is calibrated.\n",
      "Model #133 completed in 1 seconds is not calibrated.\n",
      "Model #128 completed in 1 seconds is calibrated.\n",
      "Model #135 completed in 1 seconds is not calibrated.\n",
      "Model #129 completed in 1 seconds is calibrated.\n",
      "Model #132 completed in 1 seconds is not calibrated.\n",
      "Model #134 completed in 1 seconds is not calibrated.\n",
      "\n",
      "----------------------------------------\n",
      "END OF RUN\n",
      "----------------------------------------\n"
     ]
    }
   ],
   "source": [
    "val modelWarehouse = Simulator\n",
    "\n",
    "// a few constants\n",
    "val rhocal:Double = 2.71 //Density of carbonates\n",
    "val cOf=889000 //concentration of O in fluid\n",
    "val cCf=200 //concentration of C in fluid\n",
    "val cOcal = 480000 //concentration of O in stoichiometric calcite\n",
    "val cCcal = 120000 //concentration of C in stoichiometric calcite\n",
    "val d13Ctdc = 0 //carbon isotope composition of total dissolved carbon in fluid\n",
    "\n",
    "// setting model variables\n",
    "val initialAge:ModelVariable[Double] = ModelVariable(\"Initial age\",96.0,\"Ma\")\n",
    "val finalAge:ModelVariable[Double] = ModelVariable(\"Final age\",0.0,\"Ma\")\n",
    "val d18Of:ModelVariable[Double] = ModelVariable(\"Fluid d18O\",-1.0,\"‰\")\n",
    "val TmaxSample:ModelVariable[Double] = ModelVariable(\"Tmax\",0.0,\"˚C\")\n",
    "val WFF:ModelVariable[Double] = ModelVariable(\"Weight fraction of fluid\",0.0,\"\")\n",
    "val CWRR:ModelVariable[Double] = ModelVariable(\"Cumulative water/rock ratio\",0.0,\"\")\n",
    "val FluidMass:ModelVariable[Double] = ModelVariable(\"Mass of fluid\",0.2,\"\")\n",
    "val d18Occ:ModelVariable[Double] = ModelVariable(\"d18Occ\",1.0,\"‰\")\n",
    "val d13Ccc:ModelVariable[Double] = ModelVariable(\"d13Ccc\",1.0,\"‰\")\n",
    "val D47r:ModelVariable[Double] = ModelVariable(\"D47 with partial recrystallization\",.5,\"‰\")\n",
    "val fractionRec:ModelVariable[Double] = ModelVariable(\"Fraction of recrystallization\",0.01,\"‰\")\n",
    "val initalBurialAtModelStart:ModelVariable[Double] = ModelVariable(\"Initial burial at model start\",0.0,\"meters\")\n",
    "\n",
    "// Initialise model conditions as lists\n",
    "val burialHistory = List((96.0,0.0), (39.0,2000.0), (0.0,-70.0))\n",
    "val geothermalGradientHistory= List((96.0,30.0),(0.0,30.0))\n",
    "val surfaceTemperaturesHistory = List((96.0,30.0),(0.0,30.0))\n",
    "val numberOfSteps = 10\n",
    "val ageList:List[Double] = List(97.0,96.0,95.0)\n",
    "val finalAgeList:List[Double] = List(0.0)\n",
    "val rangeOfFluidMasses:List[Double] = List(0.2)\n",
    "val rangeOfPartialRecrystallization = List(1.0,.5,.1,.01,0.0)\n",
    "\n",
    "// Bulk isotope calculation equations\n",
    "val d18OccFunction = (s:Step) => {\n",
    "    val cO=(WFF(s)*cOf)+(1-WFF(s))*cOcal\n",
    "    val alpha = math.exp((18.03*(1000*pow((burialTemperature(s)+273.15), -1)) - 32.42)/1000)\n",
    "    val d18O = ((d18Of(s) * WFF(s) * cOf) + d18Occ(s) * (1-WFF(s)) * cOf)/ cO\n",
    "    ((d18O * cOf * alpha) - (1000 * cOf * WFF(s) * (1-alpha))) / ((cOcal * (1-WFF(s)) * alpha) + cOf * WFF(s))\n",
    "}\n",
    "\n",
    "val d13CccFunction = (s:Step) => {\n",
    "    val cC=(WFF(s)*cCf)+(1-WFF(s))*cCcal\n",
    "    val alpha = exp((-2.4612+(7666.3/100) - (2.9880*pow(10,3)/pow((burialTemperature(s)+273.15),6)))/1000)\n",
    "    val d13C = ((d13Ctdc * WFF(s) * d13Ctdc) + (d13Ccc(s) * (1-WFF(s)) * cCcal))/cC\n",
    "    ((d13C * cC * alpha) - (1000 * cCf * WFF(s) * (1-alpha))) / (cCcal * (1-WFF(s) * alpha) + cCf * WFF(s))\n",
    "}\n",
    "\n",
    "val eaglefordModel = new SteppedModel(numberOfSteps,\"Eagleford recrystallization\")\n",
    "    .setGrid(19)\n",
    "    .defineMathematicalModel(\n",
    "      age =>> ageOfStep(initialAge,finalAge),\n",
    "      depth =>> {(s:Step) => {burialDepthFromAgeModel(age,burialHistory).apply(s)+initalBurialAtModelStart(s)}},\n",
    "      surfaceTemperature =>> surfaceTemperaturesAtAge(age, surfaceTemperaturesHistory),\n",
    "      geothermalGradient =>> geothermalGradientAtAge(age,geothermalGradientHistory),\n",
    "      burialTemperature =>> burialTemperatureFromGeothermalGradient(surfaceTemperature,depth,geothermalGradient),\n",
    "      dT =>> dTFun,\n",
    "      D47eq =>> D47eqFun,\n",
    "      D47i =>> D47iFun,\n",
    "      SampleTemp =>> davies19_T,\n",
    "      FluidMass =>> {(s:Step) => 0.2},\n",
    "      d18Of =>> {(s:Step) => -1.0},\n",
    "      WFF =>> {(s:Step) => FluidMass(s) / (FluidMass(s) + rhocal)},\n",
    "      CWRR =>> {(s:Step) => s.stepNumber * WFF(s)/(1-WFF(s))},\n",
    "      d18Occ =>> d18OccFunction,\n",
    "      d13Ccc =>> d13CccFunction,\n",
    "      D47r =>> {(s:Step) => {if(burialTemperature(s)-burialTemperature(s-1) >= 0){D47r(s-1) * (1.0-fractionRec(s)) + D47eq(s) * fractionRec(s)}\n",
    "      else {D47r(s-1)}}}\n",
    "    )\n",
    "    .defineInitialModelConditions(\n",
    "      AllCells(initialAge,ageList),\n",
    "      AllCells(finalAge,finalAgeList),\n",
    "      AllCells(fractionRec,rangeOfPartialRecrystallization),\n",
    "      AllCells(D47i,List(0.670,0.680,0.690)),\n",
    "      AllCells(D47r,List(0.670,0.680,0.690)),\n",
    "      PerCell(initalBurialAtModelStart,List(\n",
    "        (List(0.0),Seq(0)),\n",
    "        (List(-0.91),Seq(1)),\n",
    "        (List(-1.22),Seq(2)),\n",
    "        (List(-2.90),Seq(3)),\n",
    "        (List(-4.57),Seq(4)),\n",
    "        (List(-4.88),Seq(5)),\n",
    "        (List(-4.90),Seq(6)),\n",
    "        (List(-6.10),Seq(7)),\n",
    "        (List(-6.40),Seq(8)),\n",
    "        (List(-6.71),Seq(9)),\n",
    "        (List(-25.90),Seq(10)),\n",
    "        (List(-28.96),Seq(11)),\n",
    "        (List(-29.87),Seq(12)),\n",
    "        (List(-35.05),Seq(13)),\n",
    "        (List(-35.36),Seq(14)),\n",
    "        (List(-35.97),Seq(15)),\n",
    "        (List(-36.58),Seq(16)),\n",
    "        (List(-37.19),Seq(17)),\n",
    "        (List(-38.90),Seq(18)))))\n",
    "    .defineCalibration(\n",
    "      D47r.isBetween(0.511,0.683).atCells(Seq(0)),\n",
    "      D47r.isBetween(0.511,0.683).atCells(Seq(1)),\n",
    "      D47r.isBetween(0.511,0.683).atCells(Seq(2)),\n",
    "      D47r.isBetween(0.511,0.683).atCells(Seq(3)),\n",
    "      D47r.isBetween(0.511,0.683).atCells(Seq(4)),\n",
    "      D47r.isBetween(0.511,0.683).atCells(Seq(5)),\n",
    "      D47r.isBetween(0.511,0.683).atCells(Seq(6)),\n",
    "      D47r.isBetween(0.511,0.683).atCells(Seq(7)),\n",
    "      D47r.isBetween(0.511,0.683).atCells(Seq(8)),\n",
    "      D47r.isBetween(0.511,0.683).atCells(Seq(9)),\n",
    "      D47r.isBetween(0.511,0.683).atCells(Seq(10)),\n",
    "      D47r.isBetween(0.511,0.683).atCells(Seq(11)),\n",
    "      D47r.isBetween(0.511,0.683).atCells(Seq(12)),\n",
    "      D47r.isBetween(0.511,0.683).atCells(Seq(13)),\n",
    "      D47r.isBetween(0.511,0.683).atCells(Seq(14)),\n",
    "      D47r.isBetween(0.511,0.683).atCells(Seq(15)),\n",
    "      D47r.isBetween(0.511,0.683).atCells(Seq(16)),\n",
    "      D47r.isBetween(0.511,0.683).atCells(Seq(17)),\n",
    "      D47r.isBetween(0.511,0.683).atCells(Seq(18))\n",
    ")\n",
    "\n",
    "modelWarehouse.evaluate(eaglefordModel)\n",
    "Thread.sleep(1000)"
   ]
  },
  {
   "cell_type": "code",
   "execution_count": 51,
   "metadata": {
    "scrolled": false
   },
   "outputs": [
    {
     "data": {
      "text/html": [
       "<div id=\"grid-container_VIoVcnNub9\" class=\"grid-container\" align=\"center\"> \n",
       "<div id=\"grid_VIoVcnNub9\" class=\"grid\" align=\"center\"> \n",
       "<div id=\"graph_RflqNaA1rm\" class=\"graph\"></div> \n",
       "</div> \n",
       "</div> \n",
       "<script>\n",
       "var masonry = new Macy({\n",
       "    container: '#grid_VIoVcnNub9',\n",
       "    debug: true,\n",
       "    mobileFirst: true,\n",
       "    columns: 1,\n",
       "    margin: {\n",
       "        x: 0,\n",
       "        y: 0\n",
       "    }\n",
       "  });\n",
       "\n",
       " var traces_RflqNaA1rm = [{\"name\":\"JLhDQgaRf3\",\"type\":\"scatter\",\"yaxis\":\"y2\",\"x\":[97,86.22222222222223,75.44444444444444,64.66666666666666,53.888888888888886,43.11111111111111,32.33333333333333,21.555555555555543,10.777777777777771,0],\"y\":[1.092574472614591,1.0925744726145918,1.0925744726145925,1.0925744726145934,1.0925744726145936,1.0925744726145943,1.0925744726145938,1.0925744726145932,1.0925744726145923,1.0925744726145907]},{\"name\":\"b0M5q92SfO\",\"type\":\"scatter\",\"x\":[97,86.22222222222223,75.44444444444444,64.66666666666666,53.888888888888886,43.11111111111111,32.33333333333333,21.555555555555543,10.777777777777771,0],\"y\":[5.89348426912598,5.638181586030623,5.40033576234191,5.178215948453285,4.970312739614294,4.775303866897426,4.881865925657495,5.192623895144487,5.5361762606165605,5.918001697432124]}];\n",
       " var layout_RflqNaA1rm = {\"height\":550,\"width\":600,\"hovermode\":\"closest\",\"legend\":{\"orientation\":\"v\"},\"title\":{\"text\":\"d18Occ vs d13Ccc\"},\"showlegend\":true,\"xaxis\":{\"title\":{\"text\":\"age\"},\"showgrid\":true,\"zeroline\":false,\"showline\":false},\"yaxis\":{\"title\":{\"text\":\"d18Occ\"},\"showgrid\":true,\"zeroline\":false,\"showline\":false},\"yaxis2\":{\"title\":{\"text\":\"d13Ccc\"},\"showgrid\":true,\"zeroline\":false,\"showline\":false,\"side\":\"right\",\"overlaying\":\"y\",\"tickformat\":\"0.2f\"}};\n",
       " var config_RflqNaA1rm = {\"responsive\":true,\"scrollZoom\":true,\"displaylogo\":false};\n",
       " Plotly.newPlot(\"graph_RflqNaA1rm\", traces_RflqNaA1rm, layout_RflqNaA1rm, config_RflqNaA1rm);\n",
       "</script> \n"
      ]
     },
     "metadata": {},
     "output_type": "display_data"
    }
   ],
   "source": [
    "// grab the results from the Conus model\n",
    "val model: SingleModelResults = modelWarehouse(eaglefordModel)(0)\n",
    "\n",
    "// we can use the utility function to grab the series for a single variable\n",
    "val series1: List[Double] = getDataFromSingleModel(model, age, List(0), numberOfSteps)\n",
    "val series2: List[Double] = getDataFromSingleModel(model, d18Occ, List(0), numberOfSteps)\n",
    "\n",
    "val xy1 = XY(series1, series2)\n",
    "\n",
    "// alternatively we can quickly get the same data for XY using the function below\n",
    "//  val xy1 = getXYSeriesFromSingleModel(model, (age, d18Occ), List(0), numberOfSteps)\n",
    "\n",
    "// lets also plot a second y variable\n",
    "val yaxis2 = YAxis(\n",
    "    position = 2, \n",
    "    title = \"d13Ccc\", \n",
    "    overlaying = YAxis(), // this ensures that the axis sits on a seperate axis\n",
    "    side = RIGHT, // this ensures the axis is on the right hand side\n",
    "    tickformat = \"0.2f\" // this will keep formatting reasonable for display purposes\n",
    ")\n",
    "\n",
    "// we construct the second y variable;\n",
    "val series3: List[Double] = getDataFromSingleModel(model, d13Ccc, List(0), numberOfSteps)\n",
    "val xy2 = XY(series1, series3) setAxis yaxis2\n",
    "\n",
    "// finally we can combine in a single chart\n",
    "val chart = (\n",
    "    Chart() \n",
    "    addSeries xy1\n",
    "    addSeries xy2\n",
    "    setTitle(\"d18Occ vs d13Ccc\") \n",
    "    addAxes(XAxis(title=\"age\"), YAxis(title=\"d18Occ\"), yaxis2)\n",
    ")\n",
    "\n",
    "val canvas = Canvas() addCharts chart\n",
    "\n",
    "// When we plot the result, we can see the legend is in the wrong place and overlaying the axis - we can overcome this\n",
    "// in the next example\n",
    "canvas.plotInline()"
   ]
  },
  {
   "cell_type": "markdown",
   "metadata": {},
   "source": [
    "### Moving the Legend\n",
    "\n",
    "We can also move the Legend and position it where we would like as follows:"
   ]
  },
  {
   "cell_type": "code",
   "execution_count": 52,
   "metadata": {},
   "outputs": [],
   "source": [
    "import org.carbonateresearch.picta.options.AUTO\n",
    "import org.carbonateresearch.picta.options.VERTICAL"
   ]
  },
  {
   "cell_type": "code",
   "execution_count": 55,
   "metadata": {},
   "outputs": [
    {
     "data": {
      "text/html": [
       "<div id=\"grid-container_iD05BUpFIl\" class=\"grid-container\" align=\"center\"> \n",
       "<div id=\"grid_iD05BUpFIl\" class=\"grid\" align=\"center\"> \n",
       "<div id=\"graph_BM3xDkHaUL\" class=\"graph\"></div> \n",
       "</div> \n",
       "</div> \n",
       "<script>\n",
       "var masonry = new Macy({\n",
       "    container: '#grid_iD05BUpFIl',\n",
       "    debug: true,\n",
       "    mobileFirst: true,\n",
       "    columns: 1,\n",
       "    margin: {\n",
       "        x: 0,\n",
       "        y: 0\n",
       "    }\n",
       "  });\n",
       "\n",
       " var traces_BM3xDkHaUL = [{\"name\":\"b0M5q92SfO\",\"type\":\"scatter\",\"x\":[97,86.22222222222223,75.44444444444444,64.66666666666666,53.888888888888886,43.11111111111111,32.33333333333333,21.555555555555543,10.777777777777771,0],\"y\":[5.89348426912598,5.638181586030623,5.40033576234191,5.178215948453285,4.970312739614294,4.775303866897426,4.881865925657495,5.192623895144487,5.5361762606165605,5.918001697432124]}];\n",
       " var layout_BM3xDkHaUL = {\"height\":550,\"width\":600,\"hovermode\":\"closest\",\"legend\":{\"orientation\":\"h\",\"x\":0.5,\"y\":-0.5,\"xanchor\":\"auto\",\"yanchor\":\"auto\"},\"title\":{\"text\":\"Move Axis\"},\"showlegend\":true,\"xaxis\":{\"title\":{\"text\":\"age\"},\"showgrid\":true,\"zeroline\":false,\"showline\":false},\"yaxis\":{\"title\":{\"text\":\"d18Occ\"},\"showgrid\":true,\"zeroline\":false,\"showline\":false},\"yaxis2\":{\"title\":{\"text\":\"d13Ccc\"},\"showgrid\":true,\"zeroline\":false,\"showline\":false,\"side\":\"right\",\"overlaying\":\"y\",\"tickformat\":\"0.2f\"}};\n",
       " var config_BM3xDkHaUL = {\"responsive\":true,\"scrollZoom\":true,\"displaylogo\":false};\n",
       " Plotly.newPlot(\"graph_BM3xDkHaUL\", traces_BM3xDkHaUL, layout_BM3xDkHaUL, config_BM3xDkHaUL);\n",
       "</script> \n"
      ]
     },
     "metadata": {},
     "output_type": "display_data"
    }
   ],
   "source": [
    "\n",
    "// finally we can combine in a single chart\n",
    "val chart = (\n",
    "    Chart() \n",
    "    addSeries xy1\n",
    "    setTitle(\"Move Axis\") \n",
    "    addAxes(XAxis(title=\"age\"), YAxis(title=\"d18Occ\"), yaxis2)\n",
    "    setLegend(x = 0.5, y = -0.5, orientation = HORIZONTAL, xanchor = AUTO, yanchor = AUTO)\n",
    ")\n",
    "\n",
    "val canvas = Canvas() addCharts chart\n",
    "\n",
    "canvas.plotInline()"
   ]
  }
 ],
 "metadata": {
  "kernelspec": {
   "display_name": "Scala",
   "language": "scala",
   "name": "scala"
  },
  "language_info": {
   "codemirror_mode": "text/x-scala",
   "file_extension": ".scala",
   "mimetype": "text/x-scala",
   "name": "scala",
   "nbconvert_exporter": "script",
   "version": "2.13.2"
  }
 },
 "nbformat": 4,
 "nbformat_minor": 4
}
