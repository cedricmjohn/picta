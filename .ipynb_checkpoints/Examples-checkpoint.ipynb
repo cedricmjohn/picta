{
 "cells": [
  {
   "cell_type": "code",
   "execution_count": 1,
   "metadata": {
    "scrolled": true
   },
   "outputs": [],
   "source": [
    "interp.repositories() ++= Seq(coursierapi.MavenRepository.of(\n",
    "\"https://jitpack.io\"\n",
    "))"
   ]
  },
  {
   "cell_type": "code",
   "execution_count": 2,
   "metadata": {},
   "outputs": [
    {
     "data": {
      "text/plain": [
       "\u001b[32mimport \u001b[39m\u001b[36m$ivy.$                                  \u001b[39m"
      ]
     },
     "execution_count": 2,
     "metadata": {},
     "output_type": "execute_result"
    }
   ],
   "source": [
    "import $ivy. `org.carbonateresearch::picta:0.1`"
   ]
  },
  {
   "cell_type": "code",
   "execution_count": 3,
   "metadata": {
    "scrolled": false
   },
   "outputs": [
    {
     "data": {
      "text/html": [
       "\n",
       "<style> #animationInterface {\n",
       "    margin-top: 50px;\n",
       "    margin-bottom: 50px;\n",
       "}\n",
       "\n",
       ".progressBar {\n",
       "    padding-top: 20px;\n",
       "    padding-bottom: 20px;\n",
       "}\n",
       "\n",
       ".inline-div {\n",
       "    display: block;\n",
       "    text-align: center;\n",
       "}\n",
       "\n",
       "h3 {\n",
       "    display: inline-block;\n",
       "    text-align: center;\n",
       "}\n",
       "\n",
       ".picta-button {\n",
       "    background-color: #003E74;\n",
       "    border: none;\n",
       "    color: white;\n",
       "    padding: 12px 28px;\n",
       "    text-align: center;\n",
       "    text-decoration: none;\n",
       "    display: inline-block;\n",
       "    font-size: 12px;\n",
       "    margin-top: 50px;\n",
       "    transition-duration: 0.4s;\n",
       "    cursor: pointer;\n",
       "}\n",
       "\n",
       ".picta-button:hover {\n",
       "    background-color: #002147;\n",
       "    color: white;\n",
       "}\n",
       "\n",
       ".grid-title h1 {\n",
       "    font-family: \"Open Sans\", verdana, arial, sans-serif;\n",
       "    font-weight: normal;\n",
       "}\n",
       "\n",
       ".grid-container {\n",
       "    padding-top: 40px;\n",
       "    background: white;\n",
       "} </style>\n",
       "<script> /** vim: et:ts=4:sw=4:sts=4\n",
       " * @license RequireJS 2.3.6 Copyright jQuery Foundation and other contributors.\n",
       " * Released under MIT license, https://github.com/requirejs/requirejs/blob/master/LICENSE\n",
       " */\n",
       "var requirejs,require,define;!function(global,setTimeout){var req,s,head,baseElement,dataMain,src,interactiveScript,currentlyAddingScript,mainScript,subPath,version=\"2.3.6\",commentRegExp=/\\/\\*[\\s\\S]*?\\*\\/|([^:\"'=]|^)\\/\\/.*$/gm,cjsRequireRegExp=/[^.]\\s*require\\s*\\(\\s*[\"']([^'\"\\s]+)[\"']\\s*\\)/g,jsSuffixRegExp=/\\.js$/,currDirRegExp=/^\\.\\//,op=Object.prototype,ostring=op.toString,hasOwn=op.hasOwnProperty,isBrowser=!(\"undefined\"==typeof window||\"undefined\"==typeof navigator||!window.document),isWebWorker=!isBrowser&&\"undefined\"!=typeof importScripts,readyRegExp=isBrowser&&\"PLAYSTATION 3\"===navigator.platform?/^complete$/:/^(complete|loaded)$/,defContextName=\"_\",isOpera=\"undefined\"!=typeof opera&&\"[object Opera]\"===opera.toString(),contexts={},cfg={},globalDefQueue=[],useInteractive=!1;function commentReplace(e,t){return t||\"\"}function isFunction(e){return\"[object Function]\"===ostring.call(e)}function isArray(e){return\"[object Array]\"===ostring.call(e)}function each(e,t){var i;if(e)for(i=0;i<e.length&&(!e[i]||!t(e[i],i,e));i+=1);}function eachReverse(e,t){var i;if(e)for(i=e.length-1;-1<i&&(!e[i]||!t(e[i],i,e));i-=1);}function hasProp(e,t){return hasOwn.call(e,t)}function getOwn(e,t){return hasProp(e,t)&&e[t]}function eachProp(e,t){var i;for(i in e)if(hasProp(e,i)&&t(e[i],i))break}function mixin(i,e,r,n){return e&&eachProp(e,function(e,t){!r&&hasProp(i,t)||(!n||\"object\"!=typeof e||!e||isArray(e)||isFunction(e)||e instanceof RegExp?i[t]=e:(i[t]||(i[t]={}),mixin(i[t],e,r,n)))}),i}function bind(e,t){return function(){return t.apply(e,arguments)}}function scripts(){return document.getElementsByTagName(\"script\")}function defaultOnError(e){throw e}function getGlobal(e){if(!e)return e;var t=global;return each(e.split(\".\"),function(e){t=t[e]}),t}function makeError(e,t,i,r){var n=new Error(t+\"\\nhttps://requirejs.org/docs/errors.html#\"+e);return n.requireType=e,n.requireModules=r,i&&(n.originalError=i),n}if(void 0===define){if(void 0!==requirejs){if(isFunction(requirejs))return;cfg=requirejs,requirejs=void 0}void 0===require||isFunction(require)||(cfg=require,require=void 0),req=requirejs=function(e,t,i,r){var n,o,a=defContextName;return isArray(e)||\"string\"==typeof e||(o=e,isArray(t)?(e=t,t=i,i=r):e=[]),o&&o.context&&(a=o.context),(n=getOwn(contexts,a))||(n=contexts[a]=req.s.newContext(a)),o&&n.configure(o),n.require(e,t,i)},req.config=function(e){return req(e)},req.nextTick=void 0!==setTimeout?function(e){setTimeout(e,4)}:function(e){e()},require||(require=req),req.version=version,req.jsExtRegExp=/^\\/|:|\\?|\\.js$/,req.isBrowser=isBrowser,s=req.s={contexts:contexts,newContext:newContext},req({}),each([\"toUrl\",\"undef\",\"defined\",\"specified\"],function(t){req[t]=function(){var e=contexts[defContextName];return e.require[t].apply(e,arguments)}}),isBrowser&&(head=s.head=document.getElementsByTagName(\"head\")[0],baseElement=document.getElementsByTagName(\"base\")[0],baseElement&&(head=s.head=baseElement.parentNode)),req.onError=defaultOnError,req.createNode=function(e,t,i){var r=e.xhtml?document.createElementNS(\"http://www.w3.org/1999/xhtml\",\"html:script\"):document.createElement(\"script\");return r.type=e.scriptType||\"text/javascript\",r.charset=\"utf-8\",r.async=!0,r},req.load=function(t,i,r){var e,n=t&&t.config||{};if(isBrowser)return(e=req.createNode(n,i,r)).setAttribute(\"data-requirecontext\",t.contextName),e.setAttribute(\"data-requiremodule\",i),!e.attachEvent||e.attachEvent.toString&&e.attachEvent.toString().indexOf(\"[native code\")<0||isOpera?(e.addEventListener(\"load\",t.onScriptLoad,!1),e.addEventListener(\"error\",t.onScriptError,!1)):(useInteractive=!0,e.attachEvent(\"onreadystatechange\",t.onScriptLoad)),e.src=r,n.onNodeCreated&&n.onNodeCreated(e,n,i,r),currentlyAddingScript=e,baseElement?head.insertBefore(e,baseElement):head.appendChild(e),currentlyAddingScript=null,e;if(isWebWorker)try{setTimeout(function(){},0),importScripts(r),t.completeLoad(i)}catch(e){t.onError(makeError(\"importscripts\",\"importScripts failed for \"+i+\" at \"+r,e,[i]))}},isBrowser&&!cfg.skipDataMain&&eachReverse(scripts(),function(e){if(head||(head=e.parentNode),dataMain=e.getAttribute(\"data-main\"))return mainScript=dataMain,cfg.baseUrl||-1!==mainScript.indexOf(\"!\")||(mainScript=(src=mainScript.split(\"/\")).pop(),subPath=src.length?src.join(\"/\")+\"/\":\"./\",cfg.baseUrl=subPath),mainScript=mainScript.replace(jsSuffixRegExp,\"\"),req.jsExtRegExp.test(mainScript)&&(mainScript=dataMain),cfg.deps=cfg.deps?cfg.deps.concat(mainScript):[mainScript],!0}),define=function(e,i,t){var r,n;\"string\"!=typeof e&&(t=i,i=e,e=null),isArray(i)||(t=i,i=null),!i&&isFunction(t)&&(i=[],t.length&&(t.toString().replace(commentRegExp,commentReplace).replace(cjsRequireRegExp,function(e,t){i.push(t)}),i=(1===t.length?[\"require\"]:[\"require\",\"exports\",\"module\"]).concat(i))),useInteractive&&(r=currentlyAddingScript||getInteractiveScript())&&(e||(e=r.getAttribute(\"data-requiremodule\")),n=contexts[r.getAttribute(\"data-requirecontext\")]),n?(n.defQueue.push([e,i,t]),n.defQueueMap[e]=!0):globalDefQueue.push([e,i,t])},define.amd={jQuery:!0},req.exec=function(text){return eval(text)},req(cfg)}function newContext(u){var i,e,l,c,d,g={waitSeconds:7,baseUrl:\"./\",paths:{},bundles:{},pkgs:{},shim:{},config:{}},p={},f={},r={},h=[],m={},n={},v={},x=1,b=1;function q(e,t,i){var r,n,o,a,s,u,c,d,p,f,l=t&&t.split(\"/\"),h=g.map,m=h&&h[\"*\"];if(e&&(u=(e=e.split(\"/\")).length-1,g.nodeIdCompat&&jsSuffixRegExp.test(e[u])&&(e[u]=e[u].replace(jsSuffixRegExp,\"\")),\".\"===e[0].charAt(0)&&l&&(e=l.slice(0,l.length-1).concat(e)),function(e){var t,i;for(t=0;t<e.length;t++)if(\".\"===(i=e[t]))e.splice(t,1),t-=1;else if(\"..\"===i){if(0===t||1===t&&\"..\"===e[2]||\"..\"===e[t-1])continue;0<t&&(e.splice(t-1,2),t-=2)}}(e),e=e.join(\"/\")),i&&h&&(l||m)){e:for(o=(n=e.split(\"/\")).length;0<o;o-=1){if(s=n.slice(0,o).join(\"/\"),l)for(a=l.length;0<a;a-=1)if((r=getOwn(h,l.slice(0,a).join(\"/\")))&&(r=getOwn(r,s))){c=r,d=o;break e}!p&&m&&getOwn(m,s)&&(p=getOwn(m,s),f=o)}!c&&p&&(c=p,d=f),c&&(n.splice(0,d,c),e=n.join(\"/\"))}return getOwn(g.pkgs,e)||e}function E(t){isBrowser&&each(scripts(),function(e){if(e.getAttribute(\"data-requiremodule\")===t&&e.getAttribute(\"data-requirecontext\")===l.contextName)return e.parentNode.removeChild(e),!0})}function w(e){var t=getOwn(g.paths,e);if(t&&isArray(t)&&1<t.length)return t.shift(),l.require.undef(e),l.makeRequire(null,{skipMap:!0})([e]),!0}function y(e){var t,i=e?e.indexOf(\"!\"):-1;return-1<i&&(t=e.substring(0,i),e=e.substring(i+1,e.length)),[t,e]}function S(e,t,i,r){var n,o,a,s,u=null,c=t?t.name:null,d=e,p=!0,f=\"\";return e||(p=!1,e=\"_@r\"+(x+=1)),u=(s=y(e))[0],e=s[1],u&&(u=q(u,c,r),o=getOwn(m,u)),e&&(u?f=i?e:o&&o.normalize?o.normalize(e,function(e){return q(e,c,r)}):-1===e.indexOf(\"!\")?q(e,c,r):e:(u=(s=y(f=q(e,c,r)))[0],f=s[1],i=!0,n=l.nameToUrl(f))),{prefix:u,name:f,parentMap:t,unnormalized:!!(a=!u||o||i?\"\":\"_unnormalized\"+(b+=1)),url:n,originalName:d,isDefine:p,id:(u?u+\"!\"+f:f)+a}}function k(e){var t=e.id,i=getOwn(p,t);return i||(i=p[t]=new l.Module(e)),i}function M(e,t,i){var r=e.id,n=getOwn(p,r);!hasProp(m,r)||n&&!n.defineEmitComplete?(n=k(e)).error&&\"error\"===t?i(n.error):n.on(t,i):\"defined\"===t&&i(m[r])}function O(i,e){var t=i.requireModules,r=!1;e?e(i):(each(t,function(e){var t=getOwn(p,e);t&&(t.error=i,t.events.error&&(r=!0,t.emit(\"error\",i)))}),r||req.onError(i))}function j(){globalDefQueue.length&&(each(globalDefQueue,function(e){var t=e[0];\"string\"==typeof t&&(l.defQueueMap[t]=!0),h.push(e)}),globalDefQueue=[])}function P(e){delete p[e],delete f[e]}function R(){var e,r,t=1e3*g.waitSeconds,n=t&&l.startTime+t<(new Date).getTime(),o=[],a=[],s=!1,u=!0;if(!i){if(i=!0,eachProp(f,function(e){var t=e.map,i=t.id;if(e.enabled&&(t.isDefine||a.push(e),!e.error))if(!e.inited&&n)w(i)?s=r=!0:(o.push(i),E(i));else if(!e.inited&&e.fetched&&t.isDefine&&(s=!0,!t.prefix))return u=!1}),n&&o.length)return(e=makeError(\"timeout\",\"Load timeout for modules: \"+o,null,o)).contextName=l.contextName,O(e);u&&each(a,function(e){!function n(o,a,s){var e=o.map.id;o.error?o.emit(\"error\",o.error):(a[e]=!0,each(o.depMaps,function(e,t){var i=e.id,r=getOwn(p,i);!r||o.depMatched[t]||s[i]||(getOwn(a,i)?(o.defineDep(t,m[i]),o.check()):n(r,a,s))}),s[e]=!0)}(e,{},{})}),n&&!r||!s||!isBrowser&&!isWebWorker||d||(d=setTimeout(function(){d=0,R()},50)),i=!1}}function a(e){hasProp(m,e[0])||k(S(e[0],null,!0)).init(e[1],e[2])}function o(e,t,i,r){e.detachEvent&&!isOpera?r&&e.detachEvent(r,t):e.removeEventListener(i,t,!1)}function s(e){var t=e.currentTarget||e.srcElement;return o(t,l.onScriptLoad,\"load\",\"onreadystatechange\"),o(t,l.onScriptError,\"error\"),{node:t,id:t&&t.getAttribute(\"data-requiremodule\")}}function T(){var e;for(j();h.length;){if(null===(e=h.shift())[0])return O(makeError(\"mismatch\",\"Mismatched anonymous define() module: \"+e[e.length-1]));a(e)}l.defQueueMap={}}return c={require:function(e){return e.require?e.require:e.require=l.makeRequire(e.map)},exports:function(e){if(e.usingExports=!0,e.map.isDefine)return e.exports?m[e.map.id]=e.exports:e.exports=m[e.map.id]={}},module:function(e){return e.module?e.module:e.module={id:e.map.id,uri:e.map.url,config:function(){return getOwn(g.config,e.map.id)||{}},exports:e.exports||(e.exports={})}}},(e=function(e){this.events=getOwn(r,e.id)||{},this.map=e,this.shim=getOwn(g.shim,e.id),this.depExports=[],this.depMaps=[],this.depMatched=[],this.pluginMaps={},this.depCount=0}).prototype={init:function(e,t,i,r){r=r||{},this.inited||(this.factory=t,i?this.on(\"error\",i):this.events.error&&(i=bind(this,function(e){this.emit(\"error\",e)})),this.depMaps=e&&e.slice(0),this.errback=i,this.inited=!0,this.ignore=r.ignore,r.enabled||this.enabled?this.enable():this.check())},defineDep:function(e,t){this.depMatched[e]||(this.depMatched[e]=!0,this.depCount-=1,this.depExports[e]=t)},fetch:function(){if(!this.fetched){this.fetched=!0,l.startTime=(new Date).getTime();var e=this.map;if(!this.shim)return e.prefix?this.callPlugin():this.load();l.makeRequire(this.map,{enableBuildCallback:!0})(this.shim.deps||[],bind(this,function(){return e.prefix?this.callPlugin():this.load()}))}},load:function(){var e=this.map.url;n[e]||(n[e]=!0,l.load(this.map.id,e))},check:function(){if(this.enabled&&!this.enabling){var t,e,i=this.map.id,r=this.depExports,n=this.exports,o=this.factory;if(this.inited){if(this.error)this.emit(\"error\",this.error);else if(!this.defining){if(this.defining=!0,this.depCount<1&&!this.defined){if(isFunction(o)){if(this.events.error&&this.map.isDefine||req.onError!==defaultOnError)try{n=l.execCb(i,o,r,n)}catch(e){t=e}else n=l.execCb(i,o,r,n);if(this.map.isDefine&&void 0===n&&((e=this.module)?n=e.exports:this.usingExports&&(n=this.exports)),t)return t.requireMap=this.map,t.requireModules=this.map.isDefine?[this.map.id]:null,t.requireType=this.map.isDefine?\"define\":\"require\",O(this.error=t)}else n=o;if(this.exports=n,this.map.isDefine&&!this.ignore&&(m[i]=n,req.onResourceLoad)){var a=[];each(this.depMaps,function(e){a.push(e.normalizedMap||e)}),req.onResourceLoad(l,this.map,a)}P(i),this.defined=!0}this.defining=!1,this.defined&&!this.defineEmitted&&(this.defineEmitted=!0,this.emit(\"defined\",this.exports),this.defineEmitComplete=!0)}}else hasProp(l.defQueueMap,i)||this.fetch()}},callPlugin:function(){var u=this.map,c=u.id,e=S(u.prefix);this.depMaps.push(e),M(e,\"defined\",bind(this,function(e){var o,t,i,r=getOwn(v,this.map.id),n=this.map.name,a=this.map.parentMap?this.map.parentMap.name:null,s=l.makeRequire(u.parentMap,{enableBuildCallback:!0});return this.map.unnormalized?(e.normalize&&(n=e.normalize(n,function(e){return q(e,a,!0)})||\"\"),M(t=S(u.prefix+\"!\"+n,this.map.parentMap,!0),\"defined\",bind(this,function(e){this.map.normalizedMap=t,this.init([],function(){return e},null,{enabled:!0,ignore:!0})})),void((i=getOwn(p,t.id))&&(this.depMaps.push(t),this.events.error&&i.on(\"error\",bind(this,function(e){this.emit(\"error\",e)})),i.enable()))):r?(this.map.url=l.nameToUrl(r),void this.load()):((o=bind(this,function(e){this.init([],function(){return e},null,{enabled:!0})})).error=bind(this,function(e){this.inited=!0,(this.error=e).requireModules=[c],eachProp(p,function(e){0===e.map.id.indexOf(c+\"_unnormalized\")&&P(e.map.id)}),O(e)}),o.fromText=bind(this,function(e,t){var i=u.name,r=S(i),n=useInteractive;t&&(e=t),n&&(useInteractive=!1),k(r),hasProp(g.config,c)&&(g.config[i]=g.config[c]);try{req.exec(e)}catch(e){return O(makeError(\"fromtexteval\",\"fromText eval for \"+c+\" failed: \"+e,e,[c]))}n&&(useInteractive=!0),this.depMaps.push(r),l.completeLoad(i),s([i],o)}),void e.load(u.name,s,o,g))})),l.enable(e,this),this.pluginMaps[e.id]=e},enable:function(){(f[this.map.id]=this).enabled=!0,this.enabling=!0,each(this.depMaps,bind(this,function(e,t){var i,r,n;if(\"string\"==typeof e){if(e=S(e,this.map.isDefine?this.map:this.map.parentMap,!1,!this.skipMap),this.depMaps[t]=e,n=getOwn(c,e.id))return void(this.depExports[t]=n(this));this.depCount+=1,M(e,\"defined\",bind(this,function(e){this.undefed||(this.defineDep(t,e),this.check())})),this.errback?M(e,\"error\",bind(this,this.errback)):this.events.error&&M(e,\"error\",bind(this,function(e){this.emit(\"error\",e)}))}i=e.id,r=p[i],hasProp(c,i)||!r||r.enabled||l.enable(e,this)})),eachProp(this.pluginMaps,bind(this,function(e){var t=getOwn(p,e.id);t&&!t.enabled&&l.enable(e,this)})),this.enabling=!1,this.check()},on:function(e,t){var i=this.events[e];i||(i=this.events[e]=[]),i.push(t)},emit:function(e,t){each(this.events[e],function(e){e(t)}),\"error\"===e&&delete this.events[e]}},(l={config:g,contextName:u,registry:p,defined:m,urlFetched:n,defQueue:h,defQueueMap:{},Module:e,makeModuleMap:S,nextTick:req.nextTick,onError:O,configure:function(e){if(e.baseUrl&&\"/\"!==e.baseUrl.charAt(e.baseUrl.length-1)&&(e.baseUrl+=\"/\"),\"string\"==typeof e.urlArgs){var i=e.urlArgs;e.urlArgs=function(e,t){return(-1===t.indexOf(\"?\")?\"?\":\"&\")+i}}var r=g.shim,n={paths:!0,bundles:!0,config:!0,map:!0};eachProp(e,function(e,t){n[t]?(g[t]||(g[t]={}),mixin(g[t],e,!0,!0)):g[t]=e}),e.bundles&&eachProp(e.bundles,function(e,t){each(e,function(e){e!==t&&(v[e]=t)})}),e.shim&&(eachProp(e.shim,function(e,t){isArray(e)&&(e={deps:e}),!e.exports&&!e.init||e.exportsFn||(e.exportsFn=l.makeShimExports(e)),r[t]=e}),g.shim=r),e.packages&&each(e.packages,function(e){var t;t=(e=\"string\"==typeof e?{name:e}:e).name,e.location&&(g.paths[t]=e.location),g.pkgs[t]=e.name+\"/\"+(e.main||\"main\").replace(currDirRegExp,\"\").replace(jsSuffixRegExp,\"\")}),eachProp(p,function(e,t){e.inited||e.map.unnormalized||(e.map=S(t,null,!0))}),(e.deps||e.callback)&&l.require(e.deps||[],e.callback)},makeShimExports:function(t){return function(){var e;return t.init&&(e=t.init.apply(global,arguments)),e||t.exports&&getGlobal(t.exports)}},makeRequire:function(o,a){function s(e,t,i){var r,n;return a.enableBuildCallback&&t&&isFunction(t)&&(t.__requireJsBuild=!0),\"string\"==typeof e?isFunction(t)?O(makeError(\"requireargs\",\"Invalid require call\"),i):o&&hasProp(c,e)?c[e](p[o.id]):req.get?req.get(l,e,o,s):(r=S(e,o,!1,!0).id,hasProp(m,r)?m[r]:O(makeError(\"notloaded\",'Module name \"'+r+'\" has not been loaded yet for context: '+u+(o?\"\":\". Use require([])\")))):(T(),l.nextTick(function(){T(),(n=k(S(null,o))).skipMap=a.skipMap,n.init(e,t,i,{enabled:!0}),R()}),s)}return a=a||{},mixin(s,{isBrowser:isBrowser,toUrl:function(e){var t,i=e.lastIndexOf(\".\"),r=e.split(\"/\")[0];return-1!==i&&(!(\".\"===r||\"..\"===r)||1<i)&&(t=e.substring(i,e.length),e=e.substring(0,i)),l.nameToUrl(q(e,o&&o.id,!0),t,!0)},defined:function(e){return hasProp(m,S(e,o,!1,!0).id)},specified:function(e){return e=S(e,o,!1,!0).id,hasProp(m,e)||hasProp(p,e)}}),o||(s.undef=function(i){j();var e=S(i,o,!0),t=getOwn(p,i);t.undefed=!0,E(i),delete m[i],delete n[e.url],delete r[i],eachReverse(h,function(e,t){e[0]===i&&h.splice(t,1)}),delete l.defQueueMap[i],t&&(t.events.defined&&(r[i]=t.events),P(i))}),s},enable:function(e){getOwn(p,e.id)&&k(e).enable()},completeLoad:function(e){var t,i,r,n=getOwn(g.shim,e)||{},o=n.exports;for(j();h.length;){if(null===(i=h.shift())[0]){if(i[0]=e,t)break;t=!0}else i[0]===e&&(t=!0);a(i)}if(l.defQueueMap={},r=getOwn(p,e),!t&&!hasProp(m,e)&&r&&!r.inited){if(!(!g.enforceDefine||o&&getGlobal(o)))return w(e)?void 0:O(makeError(\"nodefine\",\"No define call for \"+e,null,[e]));a([e,n.deps||[],n.exportsFn])}R()},nameToUrl:function(e,t,i){var r,n,o,a,s,u,c=getOwn(g.pkgs,e);if(c&&(e=c),u=getOwn(v,e))return l.nameToUrl(u,t,i);if(req.jsExtRegExp.test(e))a=e+(t||\"\");else{for(r=g.paths,o=(n=e.split(\"/\")).length;0<o;o-=1)if(s=getOwn(r,n.slice(0,o).join(\"/\"))){isArray(s)&&(s=s[0]),n.splice(0,o,s);break}a=n.join(\"/\"),a=(\"/\"===(a+=t||(/^data\\:|^blob\\:|\\?/.test(a)||i?\"\":\".js\")).charAt(0)||a.match(/^[\\w\\+\\.\\-]+:/)?\"\":g.baseUrl)+a}return g.urlArgs&&!/^blob\\:/.test(a)?a+g.urlArgs(e,a):a},load:function(e,t){req.load(l,e,t)},execCb:function(e,t,i,r){return t.apply(r,i)},onScriptLoad:function(e){if(\"load\"===e.type||readyRegExp.test((e.currentTarget||e.srcElement).readyState)){interactiveScript=null;var t=s(e);l.completeLoad(t.id)}},onScriptError:function(e){var i=s(e);if(!w(i.id)){var r=[];return eachProp(p,function(e,t){0!==t.indexOf(\"_@r\")&&each(e.depMaps,function(e){if(e.id===i.id)return r.push(t),!0})}),O(makeError(\"scripterror\",'Script error for \"'+i.id+(r.length?'\", needed by: '+r.join(\", \"):'\"'),e,[i.id]))}}}).require=l.makeRequire(),l}function getInteractiveScript(){return interactiveScript&&\"interactive\"===interactiveScript.readyState||eachReverse(scripts(),function(e){if(\"interactive\"===e.readyState)return interactiveScript=e}),interactiveScript}}(this,\"undefined\"==typeof setTimeout?void 0:setTimeout); </script>\n",
       "<script>\n",
       " require.config({\n",
       "   paths: {\n",
       "     'plotly': \"https://cdn.plot.ly/plotly-latest.min\",\n",
       "     'macy': \"https://cdn.jsdelivr.net/npm/macy@2.5.1/dist/macy.min\",\n",
       "     'merge': \"https://unpkg.com/merge-images@2.0.0/dist/index.umd\"\n",
       "   },\n",
       " })\n",
       "require( ['plotly', 'macy', 'merge'], function(Plotly, Macy, mergeImages) {\n",
       " window.Plotly = Plotly;\n",
       " window.Macy = Macy;\n",
       " window.mergeImages = mergeImages;\n",
       "})\n",
       "</script>\n"
      ]
     },
     "metadata": {},
     "output_type": "display_data"
    },
    {
     "data": {
      "text/plain": [
       "\u001b[32mimport \u001b[39m\u001b[36morg.carbonateresearch.picta.render.Html.initNotebook // required to initialize jupyter notebook mode\n",
       "\u001b[39m"
      ]
     },
     "execution_count": 3,
     "metadata": {},
     "output_type": "execute_result"
    }
   ],
   "source": [
    "import org.carbonateresearch.picta.render.Html.initNotebook // required to initialize jupyter notebook mode\n",
    "initNotebook() // stops ugly output"
   ]
  },
  {
   "cell_type": "markdown",
   "metadata": {},
   "source": [
    "# 1. Basics\n",
    "\n",
    "The aim of the Picta library is to be a highly configurable and composable charting library for data exploration. The library takes a grammatical approach to chart construction. \n",
    "\n",
    "The following examples are aimed at demonstrating the libraries capabilities, and eventually make constructing charts using this library easy and intuitive."
   ]
  },
  {
   "cell_type": "markdown",
   "metadata": {},
   "source": [
    "### Main Components\n",
    "\n",
    "Picta graphs are constructed in a modular manner. The main components are:\n",
    "\n",
    "1. `Canvas`: This is is the top-level component for representing the display. A `Canvas` may consist of multiple charts.\n",
    "\n",
    "\n",
    "2. `Chart`: This is the component that corresponds to an actual chart (i.e. scatter, pie etc).\n",
    "\n",
    "\n",
    "3. `Series`: This is the data series that is plotted on a `Chart`. `Series` come in 3 types:\n",
    "\n",
    "    - `XY`:   This is series data for constructing a 2D chart\n",
    "    - `XYZ`:  This is series data for constructing a 3D chart\n",
    "    - `Map`:  This is series data that constructs a Map chart\n",
    "    \n",
    "\n",
    "4. `ChartLayout`: This configures various parts of how the `Chart` is represented on screen.\n",
    "\n",
    "`Chart` may occassionally also make use of the `Config` component for further configuration. `Config` specifies whether the plot is responsive.\n",
    "\n",
    "The following examples in this notebook should provide a number of interactive examples to get used to the Picta library."
   ]
  },
  {
   "cell_type": "markdown",
   "metadata": {},
   "source": [
    "### Importing the Library\n",
    "\n",
    "Importing as below should bring in the most frequently used Components in the library."
   ]
  },
  {
   "cell_type": "code",
   "execution_count": 4,
   "metadata": {},
   "outputs": [],
   "source": [
    "import org.carbonateresearch.picta._"
   ]
  },
  {
   "cell_type": "markdown",
   "metadata": {},
   "source": [
    "### Create Some Dummy Data to Use in the Examples\n",
    "\n",
    "Here we create some dummy data to be used in the examples for this notebook."
   ]
  },
  {
   "cell_type": "code",
   "execution_count": 5,
   "metadata": {},
   "outputs": [],
   "source": [
    "val x = List.range(0, 100).map(x => scala.util.Random.nextDouble() * 50)\n",
    "val y = List.range(0, 100).map(x => scala.util.Random.nextDouble() * 50)\n",
    "val z = List.range(0, 100).map(x => scala.util.Random.nextDouble() * 50)"
   ]
  },
  {
   "cell_type": "markdown",
   "metadata": {},
   "source": [
    "### 2D Plots\n",
    "\n",
    "`Series` that represent 2D data are represented by `XY` series types.\n",
    "\n",
    "\n",
    "#### Scatter Plot\n",
    "\n",
    "An example `Scatter` plot is below. \n",
    "\n",
    "Note: This is just one way to call the library functions. Another way that uses function chaining will be shown immediately after this example."
   ]
  },
  {
   "cell_type": "code",
   "execution_count": 6,
   "metadata": {},
   "outputs": [
    {
     "data": {
      "text/html": [
       "<div id=\"grid-container_KFEttOo0yP\" class=\"grid-container\" align=\"center\"> \n",
       "<div id=\"grid_KFEttOo0yP\" class=\"grid\" align=\"center\"> \n",
       "<div id=\"graph_w6MvPb0KEu\" class=\"graph\"></div> \n",
       "</div> \n",
       "</div> \n",
       "<script>\n",
       "var masonry = new Macy({\n",
       "    container: '#grid_KFEttOo0yP',\n",
       "    debug: true,\n",
       "    mobileFirst: true,\n",
       "    columns: 1,\n",
       "    margin: {\n",
       "        x: 0,\n",
       "        y: 0\n",
       "    }\n",
       "  });\n",
       "\n",
       " var traces_w6MvPb0KEu = [{\"name\":\"TpQSCGJec2\",\"type\":\"scatter\",\"mode\":\"markers\",\"x\":[0.48583798436385717,17.073325584881477,38.93152359359658,38.43921235850027,49.264580184471,42.71757393562388,47.92875086317176,49.91631763714667,23.31324254988445,20.665198299169653,30.25751442409968,33.23334282833028,28.37171585450377,2.7293748320436464,47.919006306165144,1.125144955881896,36.56866679364732,21.396240043798887,38.27606444786976,8.148986914717998,44.62117360745994,13.739467864996364,43.291946620399976,43.87605343185538,26.089020822424647,0.9804633109823935,34.31681846842902,10.766809283731732,16.082383171908866,6.343393200401998,42.62246982521609,21.06400203182681,28.003285680548395,42.92655824957466,33.47364668110375,18.765644946746907,8.39536726688624,10.19635526125245,9.424780477324163,37.281283284747886,37.783112445083674,2.407372465847124,46.743783448802404,40.72841033772875,32.500847554533046,4.761901791882445,7.38998313730499,16.991901490777384,44.943460923671545,33.44443430763179,27.811133570354574,43.647826299398865,47.41491852483465,13.801452546659243,14.974866279712352,33.64405186717881,17.80731677907533,36.88412264727503,29.512800930759216,36.23354411936535,23.712327484568124,38.331233027950006,5.630945040305163,20.072277709209324,25.248555893051012,5.142009624128324,47.52790951011606,49.622226455483236,35.882445947488186,35.27318006036108,2.4628269098508127,33.04085749839917,44.82703241900802,2.19196110809598,41.32778616922088,19.592135175976814,14.221975440737294,11.526371273346664,28.604963925147793,7.279994938510859,19.229926926055228,29.776553009933902,34.926536818108374,36.88380887350004,49.42846743657476,15.685565768277826,37.10584093807749,46.86636496916445,35.4334403971242,43.31535504473586,12.471126736245724,44.7283764907312,5.558700796939592,22.133382337566253,16.608686982662146,14.29959283523754,13.498885757454882,43.48766205351422,36.20997467144782,25.185073052871694],\"y\":[9.516002772935323,14.732713315275593,31.617747772538753,40.12619877292959,4.417239971864778,31.96621964643402,26.879174093920238,28.3895296491481,47.730552848932184,39.845912720272715,18.63919405536813,38.46261333027655,8.916224405835216,32.27851942973,9.045359055610962,11.314383914648884,13.196743179917004,10.907328086616458,21.985728070975757,26.268785824721423,41.64396270526156,39.2722146776849,36.44431201252829,15.14378948758835,8.531665831695607,9.275747052261845,15.533947566053413,6.723974936778698,27.6433006537074,23.16122537870507,24.854352294360744,22.863372555974376,23.218770397726647,38.59330537650644,19.223531474863314,39.556270391959224,30.530830929015966,26.629098790561812,32.543579854785705,1.167210616011316,15.70077077035939,2.3774315550761758,31.587310071535146,33.677414240896795,24.29468970925449,5.966177670028378,40.830041671537764,43.28338937932414,43.485852463364004,37.07238625167725,12.101277370404146,9.974484473417277,33.12519673457999,29.71714939003248,49.79386003936575,41.81969469741279,46.93125814593972,45.28695644122131,9.643622363554638,44.60999345774317,26.192390501312012,10.815526991967067,16.68041657451039,33.2310241251581,4.8682919817476575,36.44487328689211,45.85181489280458,15.68198368461301,16.784526842039554,10.681640974214895,27.033629311186697,18.010044071878827,42.73282229579869,44.574505078093495,24.66684621462431,38.59566250416661,27.721602626331443,16.26068429636177,1.0983977097222875,23.20269318050938,36.3653429067819,5.464404309730536,1.8536447815347856,37.99814827709187,47.457964267709784,3.477391262799162,0.5312734459323454,36.35007017685572,17.14464768821884,37.91125762216036,10.786766180891538,16.627893842270947,13.78806537915892,13.083899098184693,12.958426958505282,2.4582773997058602,46.619187264196924,36.286798683284296,3.29040047887037,43.93033923332497]}];\n",
       " var layout_w6MvPb0KEu = {\"height\":550,\"width\":600,\"hovermode\":\"closest\",\"legend\":{\"orientation\":\"v\"},\"title\":{\"text\":\"First Chart\"},\"showlegend\":true};\n",
       " var config_w6MvPb0KEu = {\"responsive\":true,\"scrollZoom\":true,\"displaylogo\":false};\n",
       " Plotly.newPlot(\"graph_w6MvPb0KEu\", traces_w6MvPb0KEu, layout_w6MvPb0KEu, config_w6MvPb0KEu);\n",
       "</script> \n"
      ]
     },
     "metadata": {},
     "output_type": "display_data"
    }
   ],
   "source": [
    "// create the data series using the data from above\n",
    "// 'asType SCATTER' transforms the series into a scatter chart\n",
    "// 'drawStyle Markers' specifies the style of the markers the chart should have\n",
    "// if a name is not provided to the series, Picta generates a random name to help keep track of the series in charts\n",
    "// multiple series.\n",
    "val series = XY(x, y) asType SCATTER drawStyle MARKERS\n",
    "\n",
    "// create a chart by adding to it a data series. We set the title as 'First Chart'\n",
    "val chart = Chart() addSeries series setTitle \"First Chart\"\n",
    "\n",
    "// if we have a single chart, then we do not need to use the Canvas and can simply call chart.plot\n",
    "\n",
    "chart.plotInline"
   ]
  },
  {
   "cell_type": "markdown",
   "metadata": {},
   "source": [
    "#### Chaining Functions\n",
    "\n",
    "Sometimes when we are specifying many options, it is quicker to use the IDE autocomplete and just chain the function calls. Throughout this book both the style above and the function chaining style will be used as and when convenient."
   ]
  },
  {
   "cell_type": "code",
   "execution_count": 7,
   "metadata": {},
   "outputs": [
    {
     "data": {
      "text/html": [
       "<div id=\"grid-container_zqyWf1zjF9\" class=\"grid-container\" align=\"center\"> \n",
       "<div id=\"grid_zqyWf1zjF9\" class=\"grid\" align=\"center\"> \n",
       "<div id=\"graph_Yv3hgX82I4\" class=\"graph\"></div> \n",
       "</div> \n",
       "</div> \n",
       "<script>\n",
       "var masonry = new Macy({\n",
       "    container: '#grid_zqyWf1zjF9',\n",
       "    debug: true,\n",
       "    mobileFirst: true,\n",
       "    columns: 1,\n",
       "    margin: {\n",
       "        x: 0,\n",
       "        y: 0\n",
       "    }\n",
       "  });\n",
       "\n",
       " var traces_Yv3hgX82I4 = [{\"name\":\"l7x9tWK6z6\",\"type\":\"scatter\",\"mode\":\"markers\",\"x\":[0.48583798436385717,17.073325584881477,38.93152359359658,38.43921235850027,49.264580184471,42.71757393562388,47.92875086317176,49.91631763714667,23.31324254988445,20.665198299169653,30.25751442409968,33.23334282833028,28.37171585450377,2.7293748320436464,47.919006306165144,1.125144955881896,36.56866679364732,21.396240043798887,38.27606444786976,8.148986914717998,44.62117360745994,13.739467864996364,43.291946620399976,43.87605343185538,26.089020822424647,0.9804633109823935,34.31681846842902,10.766809283731732,16.082383171908866,6.343393200401998,42.62246982521609,21.06400203182681,28.003285680548395,42.92655824957466,33.47364668110375,18.765644946746907,8.39536726688624,10.19635526125245,9.424780477324163,37.281283284747886,37.783112445083674,2.407372465847124,46.743783448802404,40.72841033772875,32.500847554533046,4.761901791882445,7.38998313730499,16.991901490777384,44.943460923671545,33.44443430763179,27.811133570354574,43.647826299398865,47.41491852483465,13.801452546659243,14.974866279712352,33.64405186717881,17.80731677907533,36.88412264727503,29.512800930759216,36.23354411936535,23.712327484568124,38.331233027950006,5.630945040305163,20.072277709209324,25.248555893051012,5.142009624128324,47.52790951011606,49.622226455483236,35.882445947488186,35.27318006036108,2.4628269098508127,33.04085749839917,44.82703241900802,2.19196110809598,41.32778616922088,19.592135175976814,14.221975440737294,11.526371273346664,28.604963925147793,7.279994938510859,19.229926926055228,29.776553009933902,34.926536818108374,36.88380887350004,49.42846743657476,15.685565768277826,37.10584093807749,46.86636496916445,35.4334403971242,43.31535504473586,12.471126736245724,44.7283764907312,5.558700796939592,22.133382337566253,16.608686982662146,14.29959283523754,13.498885757454882,43.48766205351422,36.20997467144782,25.185073052871694],\"y\":[9.516002772935323,14.732713315275593,31.617747772538753,40.12619877292959,4.417239971864778,31.96621964643402,26.879174093920238,28.3895296491481,47.730552848932184,39.845912720272715,18.63919405536813,38.46261333027655,8.916224405835216,32.27851942973,9.045359055610962,11.314383914648884,13.196743179917004,10.907328086616458,21.985728070975757,26.268785824721423,41.64396270526156,39.2722146776849,36.44431201252829,15.14378948758835,8.531665831695607,9.275747052261845,15.533947566053413,6.723974936778698,27.6433006537074,23.16122537870507,24.854352294360744,22.863372555974376,23.218770397726647,38.59330537650644,19.223531474863314,39.556270391959224,30.530830929015966,26.629098790561812,32.543579854785705,1.167210616011316,15.70077077035939,2.3774315550761758,31.587310071535146,33.677414240896795,24.29468970925449,5.966177670028378,40.830041671537764,43.28338937932414,43.485852463364004,37.07238625167725,12.101277370404146,9.974484473417277,33.12519673457999,29.71714939003248,49.79386003936575,41.81969469741279,46.93125814593972,45.28695644122131,9.643622363554638,44.60999345774317,26.192390501312012,10.815526991967067,16.68041657451039,33.2310241251581,4.8682919817476575,36.44487328689211,45.85181489280458,15.68198368461301,16.784526842039554,10.681640974214895,27.033629311186697,18.010044071878827,42.73282229579869,44.574505078093495,24.66684621462431,38.59566250416661,27.721602626331443,16.26068429636177,1.0983977097222875,23.20269318050938,36.3653429067819,5.464404309730536,1.8536447815347856,37.99814827709187,47.457964267709784,3.477391262799162,0.5312734459323454,36.35007017685572,17.14464768821884,37.91125762216036,10.786766180891538,16.627893842270947,13.78806537915892,13.083899098184693,12.958426958505282,2.4582773997058602,46.619187264196924,36.286798683284296,3.29040047887037,43.93033923332497]}];\n",
       " var layout_Yv3hgX82I4 = {\"height\":550,\"width\":600,\"hovermode\":\"closest\",\"legend\":{\"orientation\":\"v\"},\"title\":{\"text\":\"First Chart - Function Chaining\"},\"showlegend\":true,\"xaxis\":{\"showgrid\":true,\"zeroline\":false,\"showline\":false},\"yaxis\":{\"showgrid\":true,\"zeroline\":false,\"showline\":false}};\n",
       " var config_Yv3hgX82I4 = {\"responsive\":true,\"scrollZoom\":true,\"displaylogo\":false};\n",
       " Plotly.newPlot(\"graph_Yv3hgX82I4\", traces_Yv3hgX82I4, layout_Yv3hgX82I4, config_Yv3hgX82I4);\n",
       "</script> \n"
      ]
     },
     "metadata": {},
     "output_type": "display_data"
    }
   ],
   "source": [
    "// sometimes we may specify many options. In such cases it is clearer to use function chaining as below:\n",
    "val series = XY(x, y)\n",
    "            .asType(SCATTER)\n",
    "            .drawMarkers  // This is to help leverage the IDE autocompletion for quick scripting\n",
    "\n",
    "val chart = Chart()\n",
    "            .addSeries(series)\n",
    "            .setTitle(\"First Chart - Function Chaining\")\n",
    "            // by specifying axes we can get rid of the zerolines\n",
    "            .addAxes(XAxis(zeroline = false), YAxis(zeroline = false)) \n",
    "\n",
    "chart.plotInline"
   ]
  },
  {
   "cell_type": "markdown",
   "metadata": {},
   "source": [
    "#### Bar Chart\n",
    "\n",
    "Now using the same principles as above, let's create a `Bar` chart:"
   ]
  },
  {
   "cell_type": "code",
   "execution_count": 8,
   "metadata": {},
   "outputs": [
    {
     "data": {
      "text/html": [
       "<div id=\"grid-container_PhXyRLqKJs\" class=\"grid-container\" align=\"center\"> \n",
       "<div id=\"grid_PhXyRLqKJs\" class=\"grid\" align=\"center\"> \n",
       "<div id=\"graph_yfUWK6HdNk\" class=\"graph\"></div> \n",
       "</div> \n",
       "</div> \n",
       "<script>\n",
       "var masonry = new Macy({\n",
       "    container: '#grid_PhXyRLqKJs',\n",
       "    debug: true,\n",
       "    mobileFirst: true,\n",
       "    columns: 1,\n",
       "    margin: {\n",
       "        x: 0,\n",
       "        y: 0\n",
       "    }\n",
       "  });\n",
       "\n",
       " var traces_yfUWK6HdNk = [{\"name\":\"4q46PsvBg0\",\"type\":\"bar\",\"x\":[\"a\",\"b\",\"c\"],\"y\":[10,20,300]}];\n",
       " var layout_yfUWK6HdNk = {\"height\":550,\"width\":600,\"hovermode\":\"closest\",\"legend\":{\"orientation\":\"v\"},\"title\":{\"text\":\"Bar Chart\"},\"showlegend\":true};\n",
       " var config_yfUWK6HdNk = {\"responsive\":false,\"scrollZoom\":false,\"displaylogo\":false};\n",
       " Plotly.newPlot(\"graph_yfUWK6HdNk\", traces_yfUWK6HdNk, layout_yfUWK6HdNk, config_yfUWK6HdNk);\n",
       "</script> \n"
      ]
     },
     "metadata": {},
     "output_type": "display_data"
    }
   ],
   "source": [
    "// First we create some data for the piechart\n",
    "val x_bar = List(\"a\", \"b\", \"c\")\n",
    "val y_bar = List(10, 20, 300)\n",
    "\n",
    "// again feed in the data that we want to represent as a Bar chart.\n",
    "// Notice how we change 'asType SCATTER' to 'asType BAR'\n",
    "val series = XY(x_bar, y_bar) asType BAR\n",
    "\n",
    "// we can turn off the scrollzoom using setConfig\n",
    "val chart = Chart() addSeries series setTitle \"Bar Chart\" setConfig(false, false)\n",
    "\n",
    "chart.plotInline"
   ]
  },
  {
   "cell_type": "markdown",
   "metadata": {},
   "source": [
    "#### Adding Multiple Series on the Same Axis\n",
    "\n",
    "Sometimes we may want to plot multiple `Series` on the same axis to compare different data series.\n",
    "\n",
    "Let's plot both of the above on the same pair of axis:"
   ]
  },
  {
   "cell_type": "code",
   "execution_count": 9,
   "metadata": {},
   "outputs": [],
   "source": [
    "// we import the marker option which lets us specify the marker\n",
    "import org.carbonateresearch.picta.options.Marker\n",
    "import org.carbonateresearch.picta.SymbolShape._"
   ]
  },
  {
   "cell_type": "code",
   "execution_count": 10,
   "metadata": {},
   "outputs": [
    {
     "data": {
      "text/html": [
       "<div id=\"grid-container_IOH9VZwEz2\" class=\"grid-container\" align=\"center\"> \n",
       "<div id=\"grid_IOH9VZwEz2\" class=\"grid\" align=\"center\"> \n",
       "<div id=\"graph_2vhx1ucmA9\" class=\"graph\"></div> \n",
       "</div> \n",
       "</div> \n",
       "<script>\n",
       "var masonry = new Macy({\n",
       "    container: '#grid_IOH9VZwEz2',\n",
       "    debug: true,\n",
       "    mobileFirst: true,\n",
       "    columns: 1,\n",
       "    margin: {\n",
       "        x: 0,\n",
       "        y: 0\n",
       "    }\n",
       "  });\n",
       "\n",
       " var traces_2vhx1ucmA9 = [{\"name\":\"Bar\",\"type\":\"bar\",\"x\":[0.48583798436385717,17.073325584881477,38.93152359359658,38.43921235850027,49.264580184471,42.71757393562388,47.92875086317176,49.91631763714667,23.31324254988445,20.665198299169653,30.25751442409968,33.23334282833028,28.37171585450377,2.7293748320436464,47.919006306165144,1.125144955881896,36.56866679364732,21.396240043798887,38.27606444786976,8.148986914717998,44.62117360745994,13.739467864996364,43.291946620399976,43.87605343185538,26.089020822424647,0.9804633109823935,34.31681846842902,10.766809283731732,16.082383171908866,6.343393200401998,42.62246982521609,21.06400203182681,28.003285680548395,42.92655824957466,33.47364668110375,18.765644946746907,8.39536726688624,10.19635526125245,9.424780477324163,37.281283284747886,37.783112445083674,2.407372465847124,46.743783448802404,40.72841033772875,32.500847554533046,4.761901791882445,7.38998313730499,16.991901490777384,44.943460923671545,33.44443430763179,27.811133570354574,43.647826299398865,47.41491852483465,13.801452546659243,14.974866279712352,33.64405186717881,17.80731677907533,36.88412264727503,29.512800930759216,36.23354411936535,23.712327484568124,38.331233027950006,5.630945040305163,20.072277709209324,25.248555893051012,5.142009624128324,47.52790951011606,49.622226455483236,35.882445947488186,35.27318006036108,2.4628269098508127,33.04085749839917,44.82703241900802,2.19196110809598,41.32778616922088,19.592135175976814,14.221975440737294,11.526371273346664,28.604963925147793,7.279994938510859,19.229926926055228,29.776553009933902,34.926536818108374,36.88380887350004,49.42846743657476,15.685565768277826,37.10584093807749,46.86636496916445,35.4334403971242,43.31535504473586,12.471126736245724,44.7283764907312,5.558700796939592,22.133382337566253,16.608686982662146,14.29959283523754,13.498885757454882,43.48766205351422,36.20997467144782,25.185073052871694],\"y\":[9.516002772935323,14.732713315275593,31.617747772538753,40.12619877292959,4.417239971864778,31.96621964643402,26.879174093920238,28.3895296491481,47.730552848932184,39.845912720272715,18.63919405536813,38.46261333027655,8.916224405835216,32.27851942973,9.045359055610962,11.314383914648884,13.196743179917004,10.907328086616458,21.985728070975757,26.268785824721423,41.64396270526156,39.2722146776849,36.44431201252829,15.14378948758835,8.531665831695607,9.275747052261845,15.533947566053413,6.723974936778698,27.6433006537074,23.16122537870507,24.854352294360744,22.863372555974376,23.218770397726647,38.59330537650644,19.223531474863314,39.556270391959224,30.530830929015966,26.629098790561812,32.543579854785705,1.167210616011316,15.70077077035939,2.3774315550761758,31.587310071535146,33.677414240896795,24.29468970925449,5.966177670028378,40.830041671537764,43.28338937932414,43.485852463364004,37.07238625167725,12.101277370404146,9.974484473417277,33.12519673457999,29.71714939003248,49.79386003936575,41.81969469741279,46.93125814593972,45.28695644122131,9.643622363554638,44.60999345774317,26.192390501312012,10.815526991967067,16.68041657451039,33.2310241251581,4.8682919817476575,36.44487328689211,45.85181489280458,15.68198368461301,16.784526842039554,10.681640974214895,27.033629311186697,18.010044071878827,42.73282229579869,44.574505078093495,24.66684621462431,38.59566250416661,27.721602626331443,16.26068429636177,1.0983977097222875,23.20269318050938,36.3653429067819,5.464404309730536,1.8536447815347856,37.99814827709187,47.457964267709784,3.477391262799162,0.5312734459323454,36.35007017685572,17.14464768821884,37.91125762216036,10.786766180891538,16.627893842270947,13.78806537915892,13.083899098184693,12.958426958505282,2.4582773997058602,46.619187264196924,36.286798683284296,3.29040047887037,43.93033923332497]},{\"name\":\"Scatter\",\"type\":\"scatter\",\"mode\":\"markers\",\"marker\":{\"symbol\":\"square-open\",\"color\":\"red\"},\"x\":[0.48583798436385717,17.073325584881477,38.93152359359658,38.43921235850027,49.264580184471,42.71757393562388,47.92875086317176,49.91631763714667,23.31324254988445,20.665198299169653,30.25751442409968,33.23334282833028,28.37171585450377,2.7293748320436464,47.919006306165144,1.125144955881896,36.56866679364732,21.396240043798887,38.27606444786976,8.148986914717998,44.62117360745994,13.739467864996364,43.291946620399976,43.87605343185538,26.089020822424647,0.9804633109823935,34.31681846842902,10.766809283731732,16.082383171908866,6.343393200401998,42.62246982521609,21.06400203182681,28.003285680548395,42.92655824957466,33.47364668110375,18.765644946746907,8.39536726688624,10.19635526125245,9.424780477324163,37.281283284747886,37.783112445083674,2.407372465847124,46.743783448802404,40.72841033772875,32.500847554533046,4.761901791882445,7.38998313730499,16.991901490777384,44.943460923671545,33.44443430763179,27.811133570354574,43.647826299398865,47.41491852483465,13.801452546659243,14.974866279712352,33.64405186717881,17.80731677907533,36.88412264727503,29.512800930759216,36.23354411936535,23.712327484568124,38.331233027950006,5.630945040305163,20.072277709209324,25.248555893051012,5.142009624128324,47.52790951011606,49.622226455483236,35.882445947488186,35.27318006036108,2.4628269098508127,33.04085749839917,44.82703241900802,2.19196110809598,41.32778616922088,19.592135175976814,14.221975440737294,11.526371273346664,28.604963925147793,7.279994938510859,19.229926926055228,29.776553009933902,34.926536818108374,36.88380887350004,49.42846743657476,15.685565768277826,37.10584093807749,46.86636496916445,35.4334403971242,43.31535504473586,12.471126736245724,44.7283764907312,5.558700796939592,22.133382337566253,16.608686982662146,14.29959283523754,13.498885757454882,43.48766205351422,36.20997467144782,25.185073052871694],\"y\":[9.516002772935323,14.732713315275593,31.617747772538753,40.12619877292959,4.417239971864778,31.96621964643402,26.879174093920238,28.3895296491481,47.730552848932184,39.845912720272715,18.63919405536813,38.46261333027655,8.916224405835216,32.27851942973,9.045359055610962,11.314383914648884,13.196743179917004,10.907328086616458,21.985728070975757,26.268785824721423,41.64396270526156,39.2722146776849,36.44431201252829,15.14378948758835,8.531665831695607,9.275747052261845,15.533947566053413,6.723974936778698,27.6433006537074,23.16122537870507,24.854352294360744,22.863372555974376,23.218770397726647,38.59330537650644,19.223531474863314,39.556270391959224,30.530830929015966,26.629098790561812,32.543579854785705,1.167210616011316,15.70077077035939,2.3774315550761758,31.587310071535146,33.677414240896795,24.29468970925449,5.966177670028378,40.830041671537764,43.28338937932414,43.485852463364004,37.07238625167725,12.101277370404146,9.974484473417277,33.12519673457999,29.71714939003248,49.79386003936575,41.81969469741279,46.93125814593972,45.28695644122131,9.643622363554638,44.60999345774317,26.192390501312012,10.815526991967067,16.68041657451039,33.2310241251581,4.8682919817476575,36.44487328689211,45.85181489280458,15.68198368461301,16.784526842039554,10.681640974214895,27.033629311186697,18.010044071878827,42.73282229579869,44.574505078093495,24.66684621462431,38.59566250416661,27.721602626331443,16.26068429636177,1.0983977097222875,23.20269318050938,36.3653429067819,5.464404309730536,1.8536447815347856,37.99814827709187,47.457964267709784,3.477391262799162,0.5312734459323454,36.35007017685572,17.14464768821884,37.91125762216036,10.786766180891538,16.627893842270947,13.78806537915892,13.083899098184693,12.958426958505282,2.4582773997058602,46.619187264196924,36.286798683284296,3.29040047887037,43.93033923332497]}];\n",
       " var layout_2vhx1ucmA9 = {\"height\":550,\"width\":600,\"hovermode\":\"closest\",\"legend\":{\"orientation\":\"v\"},\"showlegend\":true};\n",
       " var config_2vhx1ucmA9 = {\"responsive\":true,\"scrollZoom\":true,\"displaylogo\":false};\n",
       " Plotly.newPlot(\"graph_2vhx1ucmA9\", traces_2vhx1ucmA9, layout_2vhx1ucmA9, config_2vhx1ucmA9);\n",
       "</script> \n"
      ]
     },
     "metadata": {},
     "output_type": "display_data"
    }
   ],
   "source": [
    "// additional traces can simply be composed with an existing chart and added on\n",
    "val series1 = XY(x, y) asType BAR setName \"Bar\"\n",
    "\n",
    "// lets give the second series a red marker. Again we can 'compose' a marker using smaller components\n",
    "val marker = Marker() setSymbol SQUARE_OPEN setColor \"red\"\n",
    "\n",
    "val series2 = XY(x, y) asType SCATTER setName \"Scatter\" drawStyle MARKERS setMarker marker\n",
    "\n",
    "// we not put brackets in the 'addSeries' function to ensure that addSeries picks up the right series'\n",
    "val chart = Chart() addSeries(series1, series2)\n",
    "\n",
    "chart.plotInline"
   ]
  },
  {
   "cell_type": "markdown",
   "metadata": {},
   "source": [
    "### Lets Change The Appearance of The Markers\n",
    "\n",
    "We can control the appearance of the markers by setting the width"
   ]
  },
  {
   "cell_type": "code",
   "execution_count": 11,
   "metadata": {},
   "outputs": [
    {
     "data": {
      "text/html": [
       "<div id=\"grid-container_T2xDA5WBz0\" class=\"grid-container\" align=\"center\"> \n",
       "<div id=\"grid_T2xDA5WBz0\" class=\"grid\" align=\"center\"> \n",
       "<div id=\"graph_HO4a8SEdYq\" class=\"graph\"></div> \n",
       "</div> \n",
       "</div> \n",
       "<script>\n",
       "var masonry = new Macy({\n",
       "    container: '#grid_T2xDA5WBz0',\n",
       "    debug: true,\n",
       "    mobileFirst: true,\n",
       "    columns: 1,\n",
       "    margin: {\n",
       "        x: 0,\n",
       "        y: 0\n",
       "    }\n",
       "  });\n",
       "\n",
       " var traces_HO4a8SEdYq = [{\"name\":\"Bar\",\"type\":\"bar\",\"x\":[0.48583798436385717,17.073325584881477,38.93152359359658,38.43921235850027,49.264580184471,42.71757393562388,47.92875086317176,49.91631763714667,23.31324254988445,20.665198299169653,30.25751442409968,33.23334282833028,28.37171585450377,2.7293748320436464,47.919006306165144,1.125144955881896,36.56866679364732,21.396240043798887,38.27606444786976,8.148986914717998,44.62117360745994,13.739467864996364,43.291946620399976,43.87605343185538,26.089020822424647,0.9804633109823935,34.31681846842902,10.766809283731732,16.082383171908866,6.343393200401998,42.62246982521609,21.06400203182681,28.003285680548395,42.92655824957466,33.47364668110375,18.765644946746907,8.39536726688624,10.19635526125245,9.424780477324163,37.281283284747886,37.783112445083674,2.407372465847124,46.743783448802404,40.72841033772875,32.500847554533046,4.761901791882445,7.38998313730499,16.991901490777384,44.943460923671545,33.44443430763179,27.811133570354574,43.647826299398865,47.41491852483465,13.801452546659243,14.974866279712352,33.64405186717881,17.80731677907533,36.88412264727503,29.512800930759216,36.23354411936535,23.712327484568124,38.331233027950006,5.630945040305163,20.072277709209324,25.248555893051012,5.142009624128324,47.52790951011606,49.622226455483236,35.882445947488186,35.27318006036108,2.4628269098508127,33.04085749839917,44.82703241900802,2.19196110809598,41.32778616922088,19.592135175976814,14.221975440737294,11.526371273346664,28.604963925147793,7.279994938510859,19.229926926055228,29.776553009933902,34.926536818108374,36.88380887350004,49.42846743657476,15.685565768277826,37.10584093807749,46.86636496916445,35.4334403971242,43.31535504473586,12.471126736245724,44.7283764907312,5.558700796939592,22.133382337566253,16.608686982662146,14.29959283523754,13.498885757454882,43.48766205351422,36.20997467144782,25.185073052871694],\"y\":[9.516002772935323,14.732713315275593,31.617747772538753,40.12619877292959,4.417239971864778,31.96621964643402,26.879174093920238,28.3895296491481,47.730552848932184,39.845912720272715,18.63919405536813,38.46261333027655,8.916224405835216,32.27851942973,9.045359055610962,11.314383914648884,13.196743179917004,10.907328086616458,21.985728070975757,26.268785824721423,41.64396270526156,39.2722146776849,36.44431201252829,15.14378948758835,8.531665831695607,9.275747052261845,15.533947566053413,6.723974936778698,27.6433006537074,23.16122537870507,24.854352294360744,22.863372555974376,23.218770397726647,38.59330537650644,19.223531474863314,39.556270391959224,30.530830929015966,26.629098790561812,32.543579854785705,1.167210616011316,15.70077077035939,2.3774315550761758,31.587310071535146,33.677414240896795,24.29468970925449,5.966177670028378,40.830041671537764,43.28338937932414,43.485852463364004,37.07238625167725,12.101277370404146,9.974484473417277,33.12519673457999,29.71714939003248,49.79386003936575,41.81969469741279,46.93125814593972,45.28695644122131,9.643622363554638,44.60999345774317,26.192390501312012,10.815526991967067,16.68041657451039,33.2310241251581,4.8682919817476575,36.44487328689211,45.85181489280458,15.68198368461301,16.784526842039554,10.681640974214895,27.033629311186697,18.010044071878827,42.73282229579869,44.574505078093495,24.66684621462431,38.59566250416661,27.721602626331443,16.26068429636177,1.0983977097222875,23.20269318050938,36.3653429067819,5.464404309730536,1.8536447815347856,37.99814827709187,47.457964267709784,3.477391262799162,0.5312734459323454,36.35007017685572,17.14464768821884,37.91125762216036,10.786766180891538,16.627893842270947,13.78806537915892,13.083899098184693,12.958426958505282,2.4582773997058602,46.619187264196924,36.286798683284296,3.29040047887037,43.93033923332497]},{\"name\":\"Scatter\",\"type\":\"scatter\",\"mode\":\"markers\",\"marker\":{\"symbol\":\"circle\",\"color\":\"red\",\"line\":{\"width\":2,\"color\":\"black\"},\"size\":[10,10,10,10,10,10,10,10,10,10,10,10,10,10,10,10,10,10,10,10,10,10,10,10,10,10,10,10,10,10,10,10,10,10,10,10,10,10,10,10,10,10,10,10,10,10,10,10,10,10,10,10,10,10,10,10,10,10,10,10,10,10,10,10,10,10,10,10,10,10,10,10,10,10,10,10,10,10,10,10,10,10,10,10,10,10,10,10,10,10,10,10,10,10,10,10,10,10,10,10]},\"x\":[0.48583798436385717,17.073325584881477,38.93152359359658,38.43921235850027,49.264580184471,42.71757393562388,47.92875086317176,49.91631763714667,23.31324254988445,20.665198299169653,30.25751442409968,33.23334282833028,28.37171585450377,2.7293748320436464,47.919006306165144,1.125144955881896,36.56866679364732,21.396240043798887,38.27606444786976,8.148986914717998,44.62117360745994,13.739467864996364,43.291946620399976,43.87605343185538,26.089020822424647,0.9804633109823935,34.31681846842902,10.766809283731732,16.082383171908866,6.343393200401998,42.62246982521609,21.06400203182681,28.003285680548395,42.92655824957466,33.47364668110375,18.765644946746907,8.39536726688624,10.19635526125245,9.424780477324163,37.281283284747886,37.783112445083674,2.407372465847124,46.743783448802404,40.72841033772875,32.500847554533046,4.761901791882445,7.38998313730499,16.991901490777384,44.943460923671545,33.44443430763179,27.811133570354574,43.647826299398865,47.41491852483465,13.801452546659243,14.974866279712352,33.64405186717881,17.80731677907533,36.88412264727503,29.512800930759216,36.23354411936535,23.712327484568124,38.331233027950006,5.630945040305163,20.072277709209324,25.248555893051012,5.142009624128324,47.52790951011606,49.622226455483236,35.882445947488186,35.27318006036108,2.4628269098508127,33.04085749839917,44.82703241900802,2.19196110809598,41.32778616922088,19.592135175976814,14.221975440737294,11.526371273346664,28.604963925147793,7.279994938510859,19.229926926055228,29.776553009933902,34.926536818108374,36.88380887350004,49.42846743657476,15.685565768277826,37.10584093807749,46.86636496916445,35.4334403971242,43.31535504473586,12.471126736245724,44.7283764907312,5.558700796939592,22.133382337566253,16.608686982662146,14.29959283523754,13.498885757454882,43.48766205351422,36.20997467144782,25.185073052871694],\"y\":[9.516002772935323,14.732713315275593,31.617747772538753,40.12619877292959,4.417239971864778,31.96621964643402,26.879174093920238,28.3895296491481,47.730552848932184,39.845912720272715,18.63919405536813,38.46261333027655,8.916224405835216,32.27851942973,9.045359055610962,11.314383914648884,13.196743179917004,10.907328086616458,21.985728070975757,26.268785824721423,41.64396270526156,39.2722146776849,36.44431201252829,15.14378948758835,8.531665831695607,9.275747052261845,15.533947566053413,6.723974936778698,27.6433006537074,23.16122537870507,24.854352294360744,22.863372555974376,23.218770397726647,38.59330537650644,19.223531474863314,39.556270391959224,30.530830929015966,26.629098790561812,32.543579854785705,1.167210616011316,15.70077077035939,2.3774315550761758,31.587310071535146,33.677414240896795,24.29468970925449,5.966177670028378,40.830041671537764,43.28338937932414,43.485852463364004,37.07238625167725,12.101277370404146,9.974484473417277,33.12519673457999,29.71714939003248,49.79386003936575,41.81969469741279,46.93125814593972,45.28695644122131,9.643622363554638,44.60999345774317,26.192390501312012,10.815526991967067,16.68041657451039,33.2310241251581,4.8682919817476575,36.44487328689211,45.85181489280458,15.68198368461301,16.784526842039554,10.681640974214895,27.033629311186697,18.010044071878827,42.73282229579869,44.574505078093495,24.66684621462431,38.59566250416661,27.721602626331443,16.26068429636177,1.0983977097222875,23.20269318050938,36.3653429067819,5.464404309730536,1.8536447815347856,37.99814827709187,47.457964267709784,3.477391262799162,0.5312734459323454,36.35007017685572,17.14464768821884,37.91125762216036,10.786766180891538,16.627893842270947,13.78806537915892,13.083899098184693,12.958426958505282,2.4582773997058602,46.619187264196924,36.286798683284296,3.29040047887037,43.93033923332497]}];\n",
       " var layout_HO4a8SEdYq = {\"height\":550,\"width\":600,\"hovermode\":\"closest\",\"legend\":{\"orientation\":\"v\"},\"showlegend\":true};\n",
       " var config_HO4a8SEdYq = {\"responsive\":false,\"scrollZoom\":false,\"displaylogo\":false};\n",
       " Plotly.newPlot(\"graph_HO4a8SEdYq\", traces_HO4a8SEdYq, layout_HO4a8SEdYq, config_HO4a8SEdYq);\n",
       "</script> \n"
      ]
     },
     "metadata": {},
     "output_type": "display_data"
    }
   ],
   "source": [
    "// we can pass in the size of the markers\n",
    "val sizes = List.range(0, 100).map(x => 10)\n",
    "\n",
    "// additional traces can simply be composed with an existing chart and added on\n",
    "val series1 = XY(x, y) asType BAR setName \"Bar\"\n",
    "\n",
    "// lets give the second series a red marker. Again we can 'compose' a marker using smaller components\n",
    "val marker = (\n",
    "    Marker() \n",
    "    // sets the marker shape\n",
    "    setSymbol CIRCLE\n",
    "    // sets the fill to red\n",
    "    setColor \"red\" \n",
    "    // sets the outline to black, with width 2\n",
    "    setLine(width = 2, \"black\")\n",
    "    // set the size of the markers to 10 as per the list we created\n",
    "    setSize(sizes)\n",
    ") \n",
    "\n",
    "val series2 = XY(x, y) asType SCATTER setName \"Scatter\" drawStyle MARKERS setMarker marker\n",
    "\n",
    "// we not put brackets in the 'addSeries' function to ensure that addSeries picks up the right series'\n",
    "val chart = Chart() addSeries(series1, series2) setConfig(false, false)\n",
    "\n",
    "chart.plotInline"
   ]
  },
  {
   "cell_type": "markdown",
   "metadata": {},
   "source": [
    "### Adding Another Axes\n",
    "\n",
    "Sometimes we may wish to plot multiple series, but on two different Axes. We can do this as follows:"
   ]
  },
  {
   "cell_type": "code",
   "execution_count": 12,
   "metadata": {},
   "outputs": [
    {
     "data": {
      "text/html": [
       "<div id=\"grid-container_71Jg8kPYgO\" class=\"grid-container\" align=\"center\"> \n",
       "<div id=\"grid_71Jg8kPYgO\" class=\"grid\" align=\"center\"> \n",
       "<div id=\"graph_3LoFhI8YWi\" class=\"graph\"></div> \n",
       "</div> \n",
       "</div> \n",
       "<script>\n",
       "var masonry = new Macy({\n",
       "    container: '#grid_71Jg8kPYgO',\n",
       "    debug: true,\n",
       "    mobileFirst: true,\n",
       "    columns: 1,\n",
       "    margin: {\n",
       "        x: 0,\n",
       "        y: 0\n",
       "    }\n",
       "  });\n",
       "\n",
       " var traces_3LoFhI8YWi = [{\"name\":\"WMkwWNPtnu\",\"type\":\"scatter\",\"mode\":\"markers\",\"x\":[0.48583798436385717,17.073325584881477,38.93152359359658,38.43921235850027,49.264580184471,42.71757393562388,47.92875086317176,49.91631763714667,23.31324254988445,20.665198299169653,30.25751442409968,33.23334282833028,28.37171585450377,2.7293748320436464,47.919006306165144,1.125144955881896,36.56866679364732,21.396240043798887,38.27606444786976,8.148986914717998,44.62117360745994,13.739467864996364,43.291946620399976,43.87605343185538,26.089020822424647,0.9804633109823935,34.31681846842902,10.766809283731732,16.082383171908866,6.343393200401998,42.62246982521609,21.06400203182681,28.003285680548395,42.92655824957466,33.47364668110375,18.765644946746907,8.39536726688624,10.19635526125245,9.424780477324163,37.281283284747886,37.783112445083674,2.407372465847124,46.743783448802404,40.72841033772875,32.500847554533046,4.761901791882445,7.38998313730499,16.991901490777384,44.943460923671545,33.44443430763179,27.811133570354574,43.647826299398865,47.41491852483465,13.801452546659243,14.974866279712352,33.64405186717881,17.80731677907533,36.88412264727503,29.512800930759216,36.23354411936535,23.712327484568124,38.331233027950006,5.630945040305163,20.072277709209324,25.248555893051012,5.142009624128324,47.52790951011606,49.622226455483236,35.882445947488186,35.27318006036108,2.4628269098508127,33.04085749839917,44.82703241900802,2.19196110809598,41.32778616922088,19.592135175976814,14.221975440737294,11.526371273346664,28.604963925147793,7.279994938510859,19.229926926055228,29.776553009933902,34.926536818108374,36.88380887350004,49.42846743657476,15.685565768277826,37.10584093807749,46.86636496916445,35.4334403971242,43.31535504473586,12.471126736245724,44.7283764907312,5.558700796939592,22.133382337566253,16.608686982662146,14.29959283523754,13.498885757454882,43.48766205351422,36.20997467144782,25.185073052871694],\"y\":[9.516002772935323,14.732713315275593,31.617747772538753,40.12619877292959,4.417239971864778,31.96621964643402,26.879174093920238,28.3895296491481,47.730552848932184,39.845912720272715,18.63919405536813,38.46261333027655,8.916224405835216,32.27851942973,9.045359055610962,11.314383914648884,13.196743179917004,10.907328086616458,21.985728070975757,26.268785824721423,41.64396270526156,39.2722146776849,36.44431201252829,15.14378948758835,8.531665831695607,9.275747052261845,15.533947566053413,6.723974936778698,27.6433006537074,23.16122537870507,24.854352294360744,22.863372555974376,23.218770397726647,38.59330537650644,19.223531474863314,39.556270391959224,30.530830929015966,26.629098790561812,32.543579854785705,1.167210616011316,15.70077077035939,2.3774315550761758,31.587310071535146,33.677414240896795,24.29468970925449,5.966177670028378,40.830041671537764,43.28338937932414,43.485852463364004,37.07238625167725,12.101277370404146,9.974484473417277,33.12519673457999,29.71714939003248,49.79386003936575,41.81969469741279,46.93125814593972,45.28695644122131,9.643622363554638,44.60999345774317,26.192390501312012,10.815526991967067,16.68041657451039,33.2310241251581,4.8682919817476575,36.44487328689211,45.85181489280458,15.68198368461301,16.784526842039554,10.681640974214895,27.033629311186697,18.010044071878827,42.73282229579869,44.574505078093495,24.66684621462431,38.59566250416661,27.721602626331443,16.26068429636177,1.0983977097222875,23.20269318050938,36.3653429067819,5.464404309730536,1.8536447815347856,37.99814827709187,47.457964267709784,3.477391262799162,0.5312734459323454,36.35007017685572,17.14464768821884,37.91125762216036,10.786766180891538,16.627893842270947,13.78806537915892,13.083899098184693,12.958426958505282,2.4582773997058602,46.619187264196924,36.286798683284296,3.29040047887037,43.93033923332497]},{\"name\":\"1tXU8f1PY7\",\"type\":\"scatter\",\"mode\":\"markers\",\"yaxis\":\"y2\",\"x\":[0.48583798436385717,17.073325584881477,38.93152359359658,38.43921235850027,49.264580184471,42.71757393562388,47.92875086317176,49.91631763714667,23.31324254988445,20.665198299169653,30.25751442409968,33.23334282833028,28.37171585450377,2.7293748320436464,47.919006306165144,1.125144955881896,36.56866679364732,21.396240043798887,38.27606444786976,8.148986914717998,44.62117360745994,13.739467864996364,43.291946620399976,43.87605343185538,26.089020822424647,0.9804633109823935,34.31681846842902,10.766809283731732,16.082383171908866,6.343393200401998,42.62246982521609,21.06400203182681,28.003285680548395,42.92655824957466,33.47364668110375,18.765644946746907,8.39536726688624,10.19635526125245,9.424780477324163,37.281283284747886,37.783112445083674,2.407372465847124,46.743783448802404,40.72841033772875,32.500847554533046,4.761901791882445,7.38998313730499,16.991901490777384,44.943460923671545,33.44443430763179,27.811133570354574,43.647826299398865,47.41491852483465,13.801452546659243,14.974866279712352,33.64405186717881,17.80731677907533,36.88412264727503,29.512800930759216,36.23354411936535,23.712327484568124,38.331233027950006,5.630945040305163,20.072277709209324,25.248555893051012,5.142009624128324,47.52790951011606,49.622226455483236,35.882445947488186,35.27318006036108,2.4628269098508127,33.04085749839917,44.82703241900802,2.19196110809598,41.32778616922088,19.592135175976814,14.221975440737294,11.526371273346664,28.604963925147793,7.279994938510859,19.229926926055228,29.776553009933902,34.926536818108374,36.88380887350004,49.42846743657476,15.685565768277826,37.10584093807749,46.86636496916445,35.4334403971242,43.31535504473586,12.471126736245724,44.7283764907312,5.558700796939592,22.133382337566253,16.608686982662146,14.29959283523754,13.498885757454882,43.48766205351422,36.20997467144782,25.185073052871694],\"y\":[24.569441085939125,27.377366545467584,4.419959055811895,38.097778742848796,41.30017097123485,44.15026812237533,26.821757540070923,49.79136960457886,37.3769502994615,48.76389718136049,42.23963091167342,29.2338376318431,40.780472188691405,41.13295340249362,21.786903745405635,21.24012545596799,32.50236128410282,43.6453481129583,3.3590732999012496,41.88960009958245,24.843403522032027,37.82139683890325,35.278111051219206,12.472739999821297,26.213329213013697,27.605573613030614,45.67553386851144,37.24337629004117,47.72541807871915,35.865815453684824,10.021767597919172,41.04856528767469,33.685842162385825,30.37266610376581,32.42222665618817,45.26169402241498,20.196811144150374,23.040307090383074,19.825929810043146,5.6104362355461905,43.524192808399356,41.53376528064818,12.130346004660542,13.469677372510901,32.62447365453315,35.4814024976322,35.31657003892082,22.98055912527177,28.282522846522863,0.4789921983108014,19.211811677269864,9.960316080491872,24.680763205952257,31.831521041792026,16.251577710643556,44.98355472135283,27.902039493167326,6.551068306703389,22.701801749456695,22.244195505636338,19.86255479986074,36.513899815821226,39.20159075477025,27.84825785460443,5.477925384863425,37.877193023224436,13.200133003393056,6.041236918470166,5.484538181837545,21.865548216485415,31.886699257734293,39.539793553771375,37.270026706331514,29.85972604558271,30.55056886181786,0.6160182234601574,1.3108213661393753,11.35480781541019,47.95810742960594,2.873534184104576,11.37138966391647,26.802252088856644,47.297091123972336,39.75823868620056,22.488896399548175,48.61006177296709,28.51379545564579,34.762461026826045,21.948677609163514,32.64758132956833,35.456220381570674,0.009883229649743086,4.9500407406157905,39.486162817161,9.137255772903947,4.449523955132978,8.46856612362646,49.30424871160856,6.644436651392987,40.24066067669025]}];\n",
       " var layout_3LoFhI8YWi = {\"height\":550,\"width\":600,\"hovermode\":\"closest\",\"legend\":{\"orientation\":\"v\"},\"title\":{\"text\":\"Multiple Axes\"},\"showlegend\":true,\"yaxis2\":{\"title\":{\"text\":\"Second y axis\"},\"showgrid\":true,\"zeroline\":false,\"showline\":false,\"side\":\"right\",\"overlaying\":\"y\"},\"yaxis\":{\"title\":{\"text\":\"First Y Axis\"},\"showgrid\":true,\"zeroline\":false,\"showline\":false},\"xaxis\":{\"title\":{\"text\":\"X Axis\"},\"showgrid\":true,\"zeroline\":false,\"showline\":false}};\n",
       " var config_3LoFhI8YWi = {\"responsive\":false,\"scrollZoom\":false,\"displaylogo\":false};\n",
       " Plotly.newPlot(\"graph_3LoFhI8YWi\", traces_3LoFhI8YWi, layout_3LoFhI8YWi, config_3LoFhI8YWi);\n",
       "</script> \n"
      ]
     },
     "metadata": {},
     "output_type": "display_data"
    }
   ],
   "source": [
    "val series1 = XY(x, y) asType SCATTER drawStyle MARKERS\n",
    "\n",
    "// The following maps the series onto the second Y axis.\n",
    "val series2 = (\n",
    "    XY(x, z) \n",
    "    asType SCATTER \n",
    "    drawStyle MARKERS \n",
    "    setAxis YAxis(2)\n",
    ")\n",
    "      \n",
    "val chart = (\n",
    "    Chart() \n",
    "    setTitle \"Multiple Axes\"\n",
    "    // the following makes the chart unresponsive\n",
    "    setConfig(false, false) \n",
    "    addSeries(series1, series2) \n",
    "    // the following tells the chart how t render the second Y Axis\n",
    "    addAxes YAxis(position = 2, title = \"Second y axis\", overlaying = YAxis(), side = RIGHT)\n",
    "    addAxes YAxis(1, \"First Y Axis\")\n",
    "    addAxes XAxis(title = \"X Axis\")\n",
    ") \n",
    "\n",
    "// this is just for illustration purposes, but we can also do the following\n",
    "val canvas = Canvas() setChart(0, 0, chart)\n",
    "\n",
    "canvas.plotInline"
   ]
  },
  {
   "cell_type": "markdown",
   "metadata": {},
   "source": [
    "### Customizing the Axes\n",
    "\n",
    "As can be seen from some of the examples above, the axes were not set. While for quick data exploration the above is acceptable, for presentation purposes we would want named axes.\n",
    "\n",
    "We can do this as follows:"
   ]
  },
  {
   "cell_type": "code",
   "execution_count": 13,
   "metadata": {},
   "outputs": [
    {
     "data": {
      "text/html": [
       "<div id=\"grid-container_dq5PARfFhJ\" class=\"grid-container\" align=\"center\"> \n",
       "<div id=\"grid_dq5PARfFhJ\" class=\"grid\" align=\"center\"> \n",
       "<div id=\"graph_CD3jXDCUGM\" class=\"graph\"></div> \n",
       "</div> \n",
       "</div> \n",
       "<script>\n",
       "var masonry = new Macy({\n",
       "    container: '#grid_dq5PARfFhJ',\n",
       "    debug: true,\n",
       "    mobileFirst: true,\n",
       "    columns: 1,\n",
       "    margin: {\n",
       "        x: 0,\n",
       "        y: 0\n",
       "    }\n",
       "  });\n",
       "\n",
       " var traces_CD3jXDCUGM = [{\"name\":\"WMkwWNPtnu\",\"type\":\"scatter\",\"mode\":\"markers\",\"x\":[0.48583798436385717,17.073325584881477,38.93152359359658,38.43921235850027,49.264580184471,42.71757393562388,47.92875086317176,49.91631763714667,23.31324254988445,20.665198299169653,30.25751442409968,33.23334282833028,28.37171585450377,2.7293748320436464,47.919006306165144,1.125144955881896,36.56866679364732,21.396240043798887,38.27606444786976,8.148986914717998,44.62117360745994,13.739467864996364,43.291946620399976,43.87605343185538,26.089020822424647,0.9804633109823935,34.31681846842902,10.766809283731732,16.082383171908866,6.343393200401998,42.62246982521609,21.06400203182681,28.003285680548395,42.92655824957466,33.47364668110375,18.765644946746907,8.39536726688624,10.19635526125245,9.424780477324163,37.281283284747886,37.783112445083674,2.407372465847124,46.743783448802404,40.72841033772875,32.500847554533046,4.761901791882445,7.38998313730499,16.991901490777384,44.943460923671545,33.44443430763179,27.811133570354574,43.647826299398865,47.41491852483465,13.801452546659243,14.974866279712352,33.64405186717881,17.80731677907533,36.88412264727503,29.512800930759216,36.23354411936535,23.712327484568124,38.331233027950006,5.630945040305163,20.072277709209324,25.248555893051012,5.142009624128324,47.52790951011606,49.622226455483236,35.882445947488186,35.27318006036108,2.4628269098508127,33.04085749839917,44.82703241900802,2.19196110809598,41.32778616922088,19.592135175976814,14.221975440737294,11.526371273346664,28.604963925147793,7.279994938510859,19.229926926055228,29.776553009933902,34.926536818108374,36.88380887350004,49.42846743657476,15.685565768277826,37.10584093807749,46.86636496916445,35.4334403971242,43.31535504473586,12.471126736245724,44.7283764907312,5.558700796939592,22.133382337566253,16.608686982662146,14.29959283523754,13.498885757454882,43.48766205351422,36.20997467144782,25.185073052871694],\"y\":[9.516002772935323,14.732713315275593,31.617747772538753,40.12619877292959,4.417239971864778,31.96621964643402,26.879174093920238,28.3895296491481,47.730552848932184,39.845912720272715,18.63919405536813,38.46261333027655,8.916224405835216,32.27851942973,9.045359055610962,11.314383914648884,13.196743179917004,10.907328086616458,21.985728070975757,26.268785824721423,41.64396270526156,39.2722146776849,36.44431201252829,15.14378948758835,8.531665831695607,9.275747052261845,15.533947566053413,6.723974936778698,27.6433006537074,23.16122537870507,24.854352294360744,22.863372555974376,23.218770397726647,38.59330537650644,19.223531474863314,39.556270391959224,30.530830929015966,26.629098790561812,32.543579854785705,1.167210616011316,15.70077077035939,2.3774315550761758,31.587310071535146,33.677414240896795,24.29468970925449,5.966177670028378,40.830041671537764,43.28338937932414,43.485852463364004,37.07238625167725,12.101277370404146,9.974484473417277,33.12519673457999,29.71714939003248,49.79386003936575,41.81969469741279,46.93125814593972,45.28695644122131,9.643622363554638,44.60999345774317,26.192390501312012,10.815526991967067,16.68041657451039,33.2310241251581,4.8682919817476575,36.44487328689211,45.85181489280458,15.68198368461301,16.784526842039554,10.681640974214895,27.033629311186697,18.010044071878827,42.73282229579869,44.574505078093495,24.66684621462431,38.59566250416661,27.721602626331443,16.26068429636177,1.0983977097222875,23.20269318050938,36.3653429067819,5.464404309730536,1.8536447815347856,37.99814827709187,47.457964267709784,3.477391262799162,0.5312734459323454,36.35007017685572,17.14464768821884,37.91125762216036,10.786766180891538,16.627893842270947,13.78806537915892,13.083899098184693,12.958426958505282,2.4582773997058602,46.619187264196924,36.286798683284296,3.29040047887037,43.93033923332497]}];\n",
       " var layout_CD3jXDCUGM = {\"height\":550,\"width\":600,\"hovermode\":\"closest\",\"legend\":{\"orientation\":\"v\"},\"title\":{\"text\":\"Chart with Axes\"},\"showlegend\":true,\"xaxis\":{\"title\":{\"text\":\"x variable\"},\"showgrid\":true,\"zeroline\":false,\"showline\":false},\"yaxis\":{\"title\":{\"text\":\"y variable\"},\"showgrid\":true,\"zeroline\":false,\"showline\":false}};\n",
       " var config_CD3jXDCUGM = {\"responsive\":true,\"scrollZoom\":true,\"displaylogo\":false};\n",
       " Plotly.newPlot(\"graph_CD3jXDCUGM\", traces_CD3jXDCUGM, layout_CD3jXDCUGM, config_CD3jXDCUGM);\n",
       "</script> \n"
      ]
     },
     "metadata": {},
     "output_type": "display_data"
    }
   ],
   "source": [
    "// We construct the axes and set their title\n",
    "val xaxis = XAxis(title = \"x variable\")\n",
    "val yaxis = YAxis(title = \"y variable\")\n",
    "\n",
    "// another way to do composition is to just add a bracket around the composition\n",
    "val chart = (\n",
    "    Chart()\n",
    "    setTitle \"Chart with Axes\"\n",
    "    addSeries(series1)\n",
    "    addAxes(xaxis, yaxis)\n",
    ")\n",
    "\n",
    "chart.plotInline"
   ]
  },
  {
   "cell_type": "markdown",
   "metadata": {},
   "source": [
    "### Quickly Configuring The Axes\n",
    "\n",
    "Picta comes with a range of utility functions to make configuring the primary axes quick and easy"
   ]
  },
  {
   "cell_type": "code",
   "execution_count": 19,
   "metadata": {},
   "outputs": [],
   "source": [
    "val x = List.range(0, 100).map(x => x * scala.util.Random.nextDouble())\n",
    "val y = List.range(0, 100).map(x => x * scala.util.Random.nextDouble())"
   ]
  },
  {
   "cell_type": "markdown",
   "metadata": {},
   "source": [
    "#### Adjusting Axes Limits"
   ]
  },
  {
   "cell_type": "code",
   "execution_count": 20,
   "metadata": {},
   "outputs": [
    {
     "data": {
      "text/html": [
       "<div id=\"grid-container_6nvYT81aaW\" class=\"grid-container\" align=\"center\"> \n",
       "<div id=\"grid_6nvYT81aaW\" class=\"grid\" align=\"center\"> \n",
       "<div id=\"graph_QFssaVjT85\" class=\"graph\"></div> \n",
       "</div> \n",
       "</div> \n",
       "<script>\n",
       "var masonry = new Macy({\n",
       "    container: '#grid_6nvYT81aaW',\n",
       "    debug: true,\n",
       "    mobileFirst: true,\n",
       "    columns: 1,\n",
       "    margin: {\n",
       "        x: 0,\n",
       "        y: 0\n",
       "    }\n",
       "  });\n",
       "\n",
       " var traces_QFssaVjT85 = [{\"name\":\"wbv15r6B6c\",\"type\":\"scatter\",\"mode\":\"markers\",\"x\":[0,0.6339779071651709,0.8338930597411276,0.7233299554665356,1.2821124299868405,0.19390854183414852,5.445203768755922,6.771267614883155,2.079553889510893,6.586360283613493,7.661196758469744,7.2445688526462035,5.190549344237164,5.171485607738514,2.1210047862153365,1.9582842791502508,6.859028006895208,1.0193518375893529,17.027045113739888,6.051190953770199,2.429414947681381,16.205850359108112,2.5687071558162415,5.926843254498448,4.478134508816237,12.229381019278046,22.496248499462652,14.479680036473429,22.29299303735324,16.656171969671167,13.169197744350173,14.075863169934042,28.80305468264696,28.38529693841152,18.19162988730261,1.9421219458491923,4.968842452033167,31.320936947782958,25.835573613634516,31.037745490966362,38.47571526404766,15.999206835746955,35.09342953963489,36.39502504417757,43.58205729116143,9.089897835556144,34.64072790449641,44.56189158060637,46.40847808831367,27.929833083032804,13.481764164639149,14.417194414264694,49.064589100906424,52.594123641428425,44.842625082995795,2.504097439933912,27.046033209263584,46.724531864615194,0.2189177908347637,16.390311669270314,43.54639512696697,35.66028259601944,40.629044223664884,2.665483870795298,9.966258413643025,27.606142642587614,49.31822526806249,14.275876841261322,52.2152149886939,61.87533376885906,30.653563696002728,70.22461195028048,9.641837984276284,37.910802124579526,19.996358457123346,55.4821590455668,41.841715920493094,45.06775928322862,59.184571405178865,74.50643281255986,4.434403796403119,11.28288450471561,50.15575583145697,65.31481626747414,50.41682783721831,45.011509598680064,13.439075137827082,40.83173217775251,7.142986332872534,54.43323315319248,24.993995889667318,32.50482389029027,22.598007482896765,47.15879128879468,30.42308422222471,89.19071994960852,68.67854613085966,77.76680284807885,96.18689339081163,93.3073753809468],\"y\":[0,0.20502839525842742,0.18334013550699457,0.24711833042020714,1.6033219049206875,4.93742393308687,4.349551419837907,4.492129063426505,5.400405458032413,8.65420327642335,6.223747605246215,5.55721961146134,1.5201534024600165,4.93254042693406,3.827874240140264,4.686701843103181,9.752621596571379,15.00007385045256,8.819003401527699,2.300102521909683,10.76086332063132,11.693074301383676,7.13521712835227,7.7865356363387,14.258067086365394,5.652962831783431,14.932805736812961,19.21556737423267,7.974641779332055,9.834249486759461,27.592566983590363,26.227576000567723,12.377602203088749,6.742669422435077,32.07981969156156,2.4252193273306775,21.543092171202655,31.906269438886454,34.375376537731285,17.509488918338487,36.57211769921455,24.154469653105014,6.303095728132692,18.43898227678877,14.729630813668885,39.59067714010368,22.113842953204358,40.289477982196416,25.32790344178442,37.94284064152694,30.895616390364687,7.502596606075966,50.516735923538924,29.513460500266255,8.515381188475429,51.087349672431586,51.83544432340128,10.475950129808826,2.609618664493892,49.326640118020705,17.874699514193786,17.02792505853951,40.377961647563914,62.89236494805816,6.940287709043815,11.163927621068892,65.84734401820319,27.23758436067894,53.45553103586241,16.82037136164355,37.112942644771486,39.962383840536674,70.23465589130225,59.123949879118584,9.076883404555364,54.79142080914502,66.95568043316668,65.69160018594955,51.64606862402465,52.10586567870922,34.40843378719083,16.635167199596445,53.466733805189826,72.89039957539528,58.64121252015919,15.36726474006497,65.31527750136028,44.737203679880224,9.228189352740209,21.736501204645013,11.482766017013871,12.443365695464001,79.77909063893266,2.6901172296957285,54.133971104984234,27.995976219946623,6.762893463820447,87.82033320836115,50.941219414851496,26.61027652502551]}];\n",
       " var layout_QFssaVjT85 = {\"height\":550,\"width\":600,\"hovermode\":\"closest\",\"legend\":{\"orientation\":\"v\"},\"title\":{\"text\":\"Axis.SetAxisRange\"},\"showlegend\":true,\"yaxis\":{\"title\":{\"text\":\"y axis\"},\"showgrid\":true,\"zeroline\":false,\"showline\":false,\"range\":[-100,100]},\"xaxis\":{\"title\":{\"text\":\"x axis\"},\"showgrid\":true,\"zeroline\":false,\"showline\":false,\"range\":[-100,100]}};\n",
       " var config_QFssaVjT85 = {\"responsive\":true,\"scrollZoom\":true,\"displaylogo\":false};\n",
       " Plotly.newPlot(\"graph_QFssaVjT85\", traces_QFssaVjT85, layout_QFssaVjT85, config_QFssaVjT85);\n",
       "</script> \n"
      ]
     },
     "metadata": {},
     "output_type": "display_data"
    }
   ],
   "source": [
    "val series = (\n",
    "    XY(x, y)\n",
    "    asType SCATTER\n",
    "    drawStyle MARKERS\n",
    ")\n",
    "\n",
    "val chart = (\n",
    "      Chart()\n",
    "    addSeries series\n",
    "    setTitle \"Axis.SetAxisRange\"\n",
    "    addAxes yaxis\n",
    "    setXAxisLimits(-100, 100)\n",
    "    setYAxisLimits(-100, 100)\n",
    "    setXAxisTitle(\"x axis\")\n",
    "    setYAxisTitle(\"y axis\")\n",
    ")\n",
    "\n",
    "chart.plotInline"
   ]
  },
  {
   "cell_type": "markdown",
   "metadata": {},
   "source": [
    "#### Adjusting Axis Ticks"
   ]
  },
  {
   "cell_type": "code",
   "execution_count": 26,
   "metadata": {
    "scrolled": false
   },
   "outputs": [
    {
     "data": {
      "text/html": [
       "<div id=\"grid-container_DuN7YJ7jEr\" class=\"grid-container\" align=\"center\"> \n",
       "<div id=\"grid_DuN7YJ7jEr\" class=\"grid\" align=\"center\"> \n",
       "<div id=\"graph_jm6MmbkOd4\" class=\"graph\"></div> \n",
       "</div> \n",
       "</div> \n",
       "<script>\n",
       "var masonry = new Macy({\n",
       "    container: '#grid_DuN7YJ7jEr',\n",
       "    debug: true,\n",
       "    mobileFirst: true,\n",
       "    columns: 1,\n",
       "    margin: {\n",
       "        x: 0,\n",
       "        y: 0\n",
       "    }\n",
       "  });\n",
       "\n",
       " var traces_jm6MmbkOd4 = [{\"name\":\"sbfY15y1U9\",\"type\":\"scatter\",\"mode\":\"markers\",\"x\":[0,0.6339779071651709,0.8338930597411276,0.7233299554665356,1.2821124299868405,0.19390854183414852,5.445203768755922,6.771267614883155,2.079553889510893,6.586360283613493,7.661196758469744,7.2445688526462035,5.190549344237164,5.171485607738514,2.1210047862153365,1.9582842791502508,6.859028006895208,1.0193518375893529,17.027045113739888,6.051190953770199,2.429414947681381,16.205850359108112,2.5687071558162415,5.926843254498448,4.478134508816237,12.229381019278046,22.496248499462652,14.479680036473429,22.29299303735324,16.656171969671167,13.169197744350173,14.075863169934042,28.80305468264696,28.38529693841152,18.19162988730261,1.9421219458491923,4.968842452033167,31.320936947782958,25.835573613634516,31.037745490966362,38.47571526404766,15.999206835746955,35.09342953963489,36.39502504417757,43.58205729116143,9.089897835556144,34.64072790449641,44.56189158060637,46.40847808831367,27.929833083032804,13.481764164639149,14.417194414264694,49.064589100906424,52.594123641428425,44.842625082995795,2.504097439933912,27.046033209263584,46.724531864615194,0.2189177908347637,16.390311669270314,43.54639512696697,35.66028259601944,40.629044223664884,2.665483870795298,9.966258413643025,27.606142642587614,49.31822526806249,14.275876841261322,52.2152149886939,61.87533376885906,30.653563696002728,70.22461195028048,9.641837984276284,37.910802124579526,19.996358457123346,55.4821590455668,41.841715920493094,45.06775928322862,59.184571405178865,74.50643281255986,4.434403796403119,11.28288450471561,50.15575583145697,65.31481626747414,50.41682783721831,45.011509598680064,13.439075137827082,40.83173217775251,7.142986332872534,54.43323315319248,24.993995889667318,32.50482389029027,22.598007482896765,47.15879128879468,30.42308422222471,89.19071994960852,68.67854613085966,77.76680284807885,96.18689339081163,93.3073753809468],\"y\":[0,0.20502839525842742,0.18334013550699457,0.24711833042020714,1.6033219049206875,4.93742393308687,4.349551419837907,4.492129063426505,5.400405458032413,8.65420327642335,6.223747605246215,5.55721961146134,1.5201534024600165,4.93254042693406,3.827874240140264,4.686701843103181,9.752621596571379,15.00007385045256,8.819003401527699,2.300102521909683,10.76086332063132,11.693074301383676,7.13521712835227,7.7865356363387,14.258067086365394,5.652962831783431,14.932805736812961,19.21556737423267,7.974641779332055,9.834249486759461,27.592566983590363,26.227576000567723,12.377602203088749,6.742669422435077,32.07981969156156,2.4252193273306775,21.543092171202655,31.906269438886454,34.375376537731285,17.509488918338487,36.57211769921455,24.154469653105014,6.303095728132692,18.43898227678877,14.729630813668885,39.59067714010368,22.113842953204358,40.289477982196416,25.32790344178442,37.94284064152694,30.895616390364687,7.502596606075966,50.516735923538924,29.513460500266255,8.515381188475429,51.087349672431586,51.83544432340128,10.475950129808826,2.609618664493892,49.326640118020705,17.874699514193786,17.02792505853951,40.377961647563914,62.89236494805816,6.940287709043815,11.163927621068892,65.84734401820319,27.23758436067894,53.45553103586241,16.82037136164355,37.112942644771486,39.962383840536674,70.23465589130225,59.123949879118584,9.076883404555364,54.79142080914502,66.95568043316668,65.69160018594955,51.64606862402465,52.10586567870922,34.40843378719083,16.635167199596445,53.466733805189826,72.89039957539528,58.64121252015919,15.36726474006497,65.31527750136028,44.737203679880224,9.228189352740209,21.736501204645013,11.482766017013871,12.443365695464001,79.77909063893266,2.6901172296957285,54.133971104984234,27.995976219946623,6.762893463820447,87.82033320836115,50.941219414851496,26.61027652502551]}];\n",
       " var layout_jm6MmbkOd4 = {\"height\":550,\"width\":600,\"hovermode\":\"closest\",\"legend\":{\"orientation\":\"v\"},\"title\":{\"text\":\"Set Axis Ticks\"},\"showlegend\":true,\"yaxis\":{\"title\":{\"text\":\"y variable\"},\"showgrid\":true,\"zeroline\":false,\"showline\":false,\"range\":[-100,100]},\"xaxis\":{\"title\":{\"text\":\"my new x axis\"},\"showgrid\":true,\"zeroline\":false,\"showline\":false,\"range\":[0,100],\"tick0\":5,\"dtick\":15}};\n",
       " var config_jm6MmbkOd4 = {\"responsive\":true,\"scrollZoom\":true,\"displaylogo\":false};\n",
       " Plotly.newPlot(\"graph_jm6MmbkOd4\", traces_jm6MmbkOd4, layout_jm6MmbkOd4, config_jm6MmbkOd4);\n",
       "</script> \n"
      ]
     },
     "metadata": {},
     "output_type": "display_data"
    }
   ],
   "source": [
    "val series = (\n",
    "    XY(x, y)\n",
    "    asType SCATTER\n",
    "    drawStyle MARKERS\n",
    ")\n",
    "\n",
    "val chart = (\n",
    "    Chart()\n",
    "    addSeries series\n",
    "    setTitle \"Set Axis Ticks\"\n",
    "    addAxes yaxis\n",
    "    setXAxisLimits(0, 100)\n",
    "    setYAxisLimits(-100, 100)\n",
    "    setXAxisTitle(\"my new x axis\")\n",
    "    setXAxisStartTick 5\n",
    "    setXAxisTickGap 15\n",
    ")\n",
    "\n",
    "chart.plotInline"
   ]
  },
  {
   "cell_type": "markdown",
   "metadata": {},
   "source": [
    "### Setting Logarithmic Axes"
   ]
  },
  {
   "cell_type": "code",
   "execution_count": 28,
   "metadata": {},
   "outputs": [
    {
     "data": {
      "text/html": [
       "<div id=\"grid-container_Andlp8q5NI\" class=\"grid-container\" align=\"center\"> \n",
       "<div id=\"grid_Andlp8q5NI\" class=\"grid\" align=\"center\"> \n",
       "<div id=\"graph_0cIqPpQl5X\" class=\"graph\"></div> \n",
       "</div> \n",
       "</div> \n",
       "<script>\n",
       "var masonry = new Macy({\n",
       "    container: '#grid_Andlp8q5NI',\n",
       "    debug: true,\n",
       "    mobileFirst: true,\n",
       "    columns: 1,\n",
       "    margin: {\n",
       "        x: 0,\n",
       "        y: 0\n",
       "    }\n",
       "  });\n",
       "\n",
       " var traces_0cIqPpQl5X = [{\"name\":\"SSzVjxXUyB\",\"type\":\"scatter\",\"mode\":\"markers\",\"x\":[1,2,3],\"y\":[1.234,5.2112,2.44332]}];\n",
       " var layout_0cIqPpQl5X = {\"height\":550,\"width\":600,\"hovermode\":\"closest\",\"legend\":{\"orientation\":\"v\"},\"title\":{\"text\":\"Logarithmic Axes\"},\"showlegend\":true,\"yaxis\":{\"title\":{\"text\":\"y variable\"},\"showgrid\":true,\"zeroline\":false,\"showline\":false,\"type\":\"log\"},\"xaxis\":{\"showgrid\":true,\"zeroline\":false,\"showline\":false,\"type\":\"log\"}};\n",
       " var config_0cIqPpQl5X = {\"responsive\":true,\"scrollZoom\":true,\"displaylogo\":false};\n",
       " Plotly.newPlot(\"graph_0cIqPpQl5X\", traces_0cIqPpQl5X, layout_0cIqPpQl5X, config_0cIqPpQl5X);\n",
       "</script> \n"
      ]
     },
     "metadata": {},
     "output_type": "display_data"
    }
   ],
   "source": [
    "val series = (\n",
    "    XY(List(1, 2, 3), List(1.234, 5.2112, 2.44332))\n",
    "    asType SCATTER\n",
    "    drawStyle MARKERS\n",
    ")\n",
    "\n",
    "val chart = (\n",
    "    Chart()\n",
    "    addSeries series\n",
    "    setTitle \"Logarithmic Axes\"\n",
    "    addAxes yaxis\n",
    "    drawXAxisLog true\n",
    "    drawYAxisLog true\n",
    ")\n",
    "\n",
    "chart.plotInline"
   ]
  },
  {
   "cell_type": "code",
   "execution_count": 31,
   "metadata": {},
   "outputs": [
    {
     "data": {
      "text/html": [
       "<div id=\"grid-container_pD4mW96XEY\" class=\"grid-container\" align=\"center\"> \n",
       "<div id=\"grid_pD4mW96XEY\" class=\"grid\" align=\"center\"> \n",
       "<div id=\"graph_FjM3TikUlM\" class=\"graph\"></div> \n",
       "</div> \n",
       "</div> \n",
       "<script>\n",
       "var masonry = new Macy({\n",
       "    container: '#grid_pD4mW96XEY',\n",
       "    debug: true,\n",
       "    mobileFirst: true,\n",
       "    columns: 1,\n",
       "    margin: {\n",
       "        x: 0,\n",
       "        y: 0\n",
       "    }\n",
       "  });\n",
       "\n",
       " var traces_FjM3TikUlM = [{\"name\":\"uWGWxjU0WY\",\"type\":\"scatter\",\"mode\":\"markers\",\"x\":[0,0.6339779071651709,0.8338930597411276,0.7233299554665356,1.2821124299868405,0.19390854183414852,5.445203768755922,6.771267614883155,2.079553889510893,6.586360283613493,7.661196758469744,7.2445688526462035,5.190549344237164,5.171485607738514,2.1210047862153365,1.9582842791502508,6.859028006895208,1.0193518375893529,17.027045113739888,6.051190953770199,2.429414947681381,16.205850359108112,2.5687071558162415,5.926843254498448,4.478134508816237,12.229381019278046,22.496248499462652,14.479680036473429,22.29299303735324,16.656171969671167,13.169197744350173,14.075863169934042,28.80305468264696,28.38529693841152,18.19162988730261,1.9421219458491923,4.968842452033167,31.320936947782958,25.835573613634516,31.037745490966362,38.47571526404766,15.999206835746955,35.09342953963489,36.39502504417757,43.58205729116143,9.089897835556144,34.64072790449641,44.56189158060637,46.40847808831367,27.929833083032804,13.481764164639149,14.417194414264694,49.064589100906424,52.594123641428425,44.842625082995795,2.504097439933912,27.046033209263584,46.724531864615194,0.2189177908347637,16.390311669270314,43.54639512696697,35.66028259601944,40.629044223664884,2.665483870795298,9.966258413643025,27.606142642587614,49.31822526806249,14.275876841261322,52.2152149886939,61.87533376885906,30.653563696002728,70.22461195028048,9.641837984276284,37.910802124579526,19.996358457123346,55.4821590455668,41.841715920493094,45.06775928322862,59.184571405178865,74.50643281255986,4.434403796403119,11.28288450471561,50.15575583145697,65.31481626747414,50.41682783721831,45.011509598680064,13.439075137827082,40.83173217775251,7.142986332872534,54.43323315319248,24.993995889667318,32.50482389029027,22.598007482896765,47.15879128879468,30.42308422222471,89.19071994960852,68.67854613085966,77.76680284807885,96.18689339081163,93.3073753809468],\"y\":[0,0.20502839525842742,0.18334013550699457,0.24711833042020714,1.6033219049206875,4.93742393308687,4.349551419837907,4.492129063426505,5.400405458032413,8.65420327642335,6.223747605246215,5.55721961146134,1.5201534024600165,4.93254042693406,3.827874240140264,4.686701843103181,9.752621596571379,15.00007385045256,8.819003401527699,2.300102521909683,10.76086332063132,11.693074301383676,7.13521712835227,7.7865356363387,14.258067086365394,5.652962831783431,14.932805736812961,19.21556737423267,7.974641779332055,9.834249486759461,27.592566983590363,26.227576000567723,12.377602203088749,6.742669422435077,32.07981969156156,2.4252193273306775,21.543092171202655,31.906269438886454,34.375376537731285,17.509488918338487,36.57211769921455,24.154469653105014,6.303095728132692,18.43898227678877,14.729630813668885,39.59067714010368,22.113842953204358,40.289477982196416,25.32790344178442,37.94284064152694,30.895616390364687,7.502596606075966,50.516735923538924,29.513460500266255,8.515381188475429,51.087349672431586,51.83544432340128,10.475950129808826,2.609618664493892,49.326640118020705,17.874699514193786,17.02792505853951,40.377961647563914,62.89236494805816,6.940287709043815,11.163927621068892,65.84734401820319,27.23758436067894,53.45553103586241,16.82037136164355,37.112942644771486,39.962383840536674,70.23465589130225,59.123949879118584,9.076883404555364,54.79142080914502,66.95568043316668,65.69160018594955,51.64606862402465,52.10586567870922,34.40843378719083,16.635167199596445,53.466733805189826,72.89039957539528,58.64121252015919,15.36726474006497,65.31527750136028,44.737203679880224,9.228189352740209,21.736501204645013,11.482766017013871,12.443365695464001,79.77909063893266,2.6901172296957285,54.133971104984234,27.995976219946623,6.762893463820447,87.82033320836115,50.941219414851496,26.61027652502551]}];\n",
       " var layout_FjM3TikUlM = {\"height\":550,\"width\":600,\"hovermode\":\"closest\",\"legend\":{\"orientation\":\"v\"},\"title\":{\"text\":\"Reversed Axes\"},\"showlegend\":true,\"yaxis\":{\"title\":{\"text\":\"y variable\"},\"showgrid\":true,\"zeroline\":false,\"showline\":false,\"autorange\":\"reversed\"},\"xaxis\":{\"showgrid\":true,\"zeroline\":false,\"showline\":false,\"autorange\":\"reversed\"}};\n",
       " var config_FjM3TikUlM = {\"responsive\":true,\"scrollZoom\":true,\"displaylogo\":false};\n",
       " Plotly.newPlot(\"graph_FjM3TikUlM\", traces_FjM3TikUlM, layout_FjM3TikUlM, config_FjM3TikUlM);\n",
       "</script> \n"
      ]
     },
     "metadata": {},
     "output_type": "display_data"
    }
   ],
   "source": [
    "val series = (\n",
    "    XY(x, y)\n",
    "    asType SCATTER\n",
    "    drawStyle MARKERS\n",
    ")\n",
    "\n",
    "val chart = (\n",
    "    Chart()\n",
    "    addSeries series\n",
    "    setTitle \"Reversed Axes\"\n",
    "    addAxes yaxis\n",
    "    drawXAxisReversed true\n",
    "    drawYAxisReversed true\n",
    ")\n",
    "\n",
    "chart.plotInline"
   ]
  },
  {
   "cell_type": "markdown",
   "metadata": {},
   "source": [
    "### Display options - MultiCharts\n",
    "\n",
    "`MultiCharts` are a way to plot multiple axes on the same chart. This is seperate to Picta's grid system, which create a grid of subplot `Chart`'s. The next series of examples will make this clearer."
   ]
  },
  {
   "cell_type": "code",
   "execution_count": null,
   "metadata": {},
   "outputs": [],
   "source": [
    "// create the axes\n",
    "val xaxis1 = XAxis() setTitle \"x1\"\n",
    "val yaxis1 = YAxis() // this is not strictly necessary, but if it is not added there will be a zeroline at y = 0\n",
    "\n",
    "val xaxis2 = XAxis(2) setTitle \"x2\"\n",
    "val yaxis2 = YAxis(2) // this is not strictly necessary, but if it is not added there will be a zeroline at y = 0\n",
    "\n",
    "val series1 = (\n",
    "    XY(x = List(1, 2, 3), y = List(2, 4, 5))\n",
    "    asType SCATTER\n",
    "    drawStyle MARKERS\n",
    ")\n",
    "\n",
    "val series2 = (\n",
    "    XY(x = x, y = y) \n",
    "    asType SCATTER \n",
    "    drawStyle MARKERS \n",
    "    setAxes (xaxis2, yaxis2)\n",
    ")\n",
    "\n",
    "val chart1 = Chart()\n",
    "            .addSeries(series1, series2)\n",
    "            .setTitle(\"Chart.Axis.Composition\")\n",
    "            .addAxes(xaxis1, yaxis1, xaxis2, yaxis2)\n",
    "            .setConfig(responsive=false)\n",
    "            // This tells Picta that we want to actually subdivide this chart into multiple plots\n",
    "            .asMultiChart(1, 2)\n",
    "\n",
    "chart1.plotInline"
   ]
  },
  {
   "cell_type": "markdown",
   "metadata": {},
   "source": [
    "### Picta's Subplot System\n",
    "\n",
    "While the above is useful, sometimes it is more useful to plot independent charts in a subplot grid. This is where we can use the Picta subplot system.\n",
    "\n",
    "In the subplots below, each subplot is an individual `Chart`. This means we can actually embed the above `MultiChart` inside another subplot. This way we can create nested subplots to showcase any data we need to.\n",
    "\n",
    "Used creatively, this subplot system can be very useful for data exploration."
   ]
  },
  {
   "cell_type": "code",
   "execution_count": null,
   "metadata": {
    "scrolled": false
   },
   "outputs": [],
   "source": [
    "// first define the x-axes we will use in the plot\n",
    "val ax1 = XAxis(title = \"x axis 1\")\n",
    "val ax2 = XAxis(title = \"x axis 2\")\n",
    "val ax3 = XAxis(title = \"x axis 3\")\n",
    "val ax4 = XAxis(title = \"x axis 4\")\n",
    "\n",
    "// first define the y-axes we will use in the plot\n",
    "val ax6 = YAxis(title = \"y axis 1\")\n",
    "val ax7 = YAxis(title = \"y axis 2\")\n",
    "val ax8 = YAxis(title = \"y axis 3\")\n",
    "val ax9 = YAxis(title = \"y axis 4\")\n",
    "\n",
    "// it may be necessary to play around with the chart dimensions and margin  in order to ensure a good fit on screen.\n",
    "val dim = 350\n",
    "\n",
    "val chart1 = (\n",
    "    Chart()\n",
    "    setDimensions(width = dim, height = dim)\n",
    "    addSeries XY(x, y).setName(\"a\").drawMarkers\n",
    "    addAxes(ax1, ax6)\n",
    "    setMargin(l=50, r=30, t=50, b=50)\n",
    ")\n",
    "\n",
    "val chart2 = (\n",
    "    Chart() \n",
    "    setDimensions(width = dim, height = dim)\n",
    "    addSeries XY(x, y).setName(\"b\").drawMarkers\n",
    "    addAxes(ax2, ax7)\n",
    "    setMargin(l=50, r=50, t=50, b=50)\n",
    ")\n",
    "\n",
    "val chart3 = (\n",
    "    Chart()\n",
    "    setDimensions(width = dim, height = dim)\n",
    "    addSeries XY(x, y).setName(\"c\").drawMarkers\n",
    "    addAxes(ax3, ax8)\n",
    "    setMargin(l=50, r=30, t=50, b=50)\n",
    ")\n",
    "\n",
    "val chart4 = (\n",
    "    Chart()\n",
    "    setDimensions(width = dim, height = dim)\n",
    "    addSeries(series1, series2)\n",
    "    setTitle \"The MultiChart from Above\"\n",
    "    addAxes(xaxis1, yaxis1, xaxis2, yaxis2) // these axes come from above\n",
    "    setConfig(responsive=false)\n",
    "    asMultiChart(1, 2)\n",
    ")\n",
    "\n",
    "// The canvas has an underlying grid. By default the underlying grid is 1x1, but we can pass in the dimensions we \n",
    "// require by passing in parameters in the constructor.\n",
    "Canvas(2, 2)\n",
    ".setChart(0, 0, chart1)\n",
    ".setChart(0, 1, chart2)\n",
    ".setChart(1, 0, chart3)\n",
    ".setChart(1, 1, chart4)\n",
    ".plotInline"
   ]
  },
  {
   "cell_type": "markdown",
   "metadata": {},
   "source": [
    "### Error Bars\n",
    "\n",
    "We can also add Error Bars to our plots.\n",
    "\n",
    "Error bars come in two flavours:\n",
    "\n",
    "1. `XError`\n",
    "2. `YError`\n",
    "\n",
    "Both of these has an associated `mode` that determines how the error bar is calculated for an individual point. The following `mode`s can be specified:\n",
    "\n",
    "- `DATA`: The user passes in an array that specifies the per point error\n",
    "- `PERCENT`: The user passes in a Double that calculates the error as a percentage of the value of the point\n",
    "- `CONSTANT`: The user passes in a double that is the constant value for the error for all points\n",
    "- `SQRT`: This calculates the error as a square root of the point value.\n",
    "\n",
    "The next few examples will demonstrate:"
   ]
  },
  {
   "cell_type": "code",
   "execution_count": null,
   "metadata": {},
   "outputs": [],
   "source": [
    "// First import the Error Bar options\n",
    "import org.carbonateresearch.picta.options.{YError, CONSTANT, DATA, PERCENT, SQRT}"
   ]
  },
  {
   "cell_type": "code",
   "execution_count": null,
   "metadata": {},
   "outputs": [],
   "source": [
    "val dim = 400\n",
    "\n",
    "val series1 = (\n",
    "    XY(List(1, 2, 3), List(1.234, 5.2112, 2.44332))\n",
    "    asType SCATTER\n",
    "    drawStyle MARKERS\n",
    "    // User specifies the error per point \n",
    "    setErrorBars YError(mode = DATA, array = List(0.5, 0.5, 0.5))\n",
    ")\n",
    "\n",
    "val chart1 = (\n",
    "    Chart()\n",
    "    addSeries series1\n",
    "    setTitle \"Per Point Specified Error\"\n",
    "    setDimensions(width = dim, height = dim)\n",
    ")\n",
    "\n",
    "\n",
    "val series2 = (\n",
    "    XY(List(1, 2, 3), List(1.234, 5.2112, 2.44332))\n",
    "    asType SCATTER\n",
    "    drawStyle MARKERS\n",
    "    // the error here is 10% of the corresponding y-value for the point\n",
    "    setErrorBars YError(mode = PERCENT, value = 10.0)\n",
    ")\n",
    "\n",
    "val chart2 = (\n",
    "    Chart()\n",
    "    addSeries series2\n",
    "    setTitle \"Percentage Error\"\n",
    "    setDimensions(width = dim, height = dim)\n",
    ")\n",
    "\n",
    "\n",
    "val series3 = (\n",
    "    XY(List(1, 2, 3), List(1.234, 5.2112, 2.44332))\n",
    "    asType SCATTER\n",
    "    drawStyle MARKERS\n",
    "    // a constant error of 10 is applied to each point\n",
    "    setErrorBars YError(mode = CONSTANT, value = 10.0)\n",
    ")\n",
    "\n",
    "val chart3 = (\n",
    "    Chart()\n",
    "    addSeries series3\n",
    "    setTitle \"Constant Error\"\n",
    "    setDimensions(width = dim, height = dim)\n",
    ")\n",
    "\n",
    "\n",
    "val series4 = (\n",
    "    XY(List(1, 2, 3), List(1.234, 5.2112, 2.44332))\n",
    "    asType SCATTER\n",
    "    drawStyle MARKERS\n",
    "    setErrorBars YError(mode = SQRT)\n",
    ")\n",
    "\n",
    "val chart4 = (\n",
    "    Chart()\n",
    "    addSeries series4\n",
    "    setTitle \"Sqrt Error\"\n",
    "    // the error is set to the sqrt of the corresponding point\n",
    "    setDimensions(width = dim, height = dim)\n",
    ")\n",
    "\n",
    "val canvas = Canvas(2, 2) addCharts (chart1, chart2, chart3, chart4)\n",
    "\n",
    "canvas.plotInline"
   ]
  },
  {
   "cell_type": "markdown",
   "metadata": {},
   "source": [
    "### Other Types of Charts\n",
    "\n",
    "The next examples will demonstrate how to create a variety of `Chart`s. All of the examples below are composable with the `Canvas` subplot system.\n",
    "\n",
    "#### Pie Chart\n",
    "\n",
    "Pie charts can be created in two ways. The first way uses the `PieElement` component to compose a Piechart:"
   ]
  },
  {
   "cell_type": "code",
   "execution_count": null,
   "metadata": {},
   "outputs": [],
   "source": [
    "val a = PieElement(value=60, name=\"Residential\")\n",
    "val b = PieElement(value=20, name=\"Non-Residential\")\n",
    "val c = PieElement(value=20, name=\"Utility\")\n",
    "\n",
    "// we add a list of Pie Elements to an XY series as the list of Pie Elements gets deconstructed down into two series:\n",
    "// X => values: [60, 20, 20]\n",
    "// Y => labels: [\"Residential\", \"Non-Residential\", \"Utility\"]\n",
    "// The labels become the series_name for each individual PieElement\n",
    "// As we pass in a list of PieElements, we do not need to specify the type as a PIE\n",
    "val series = XY(x=List(a, b, c))\n",
    "\n",
    "val chart = Chart() addSeries series setTitle \"Pie Elements\"\n",
    "\n",
    "chart.plotInline"
   ]
  },
  {
   "cell_type": "code",
   "execution_count": null,
   "metadata": {},
   "outputs": [],
   "source": [
    "// However, composing individual PieElements may be tedious if there is a lot of data and we know how to it all fits\n",
    "// together. Picta provides a short hand to quickly create a Pie Chart using the methods we have seen previously\n",
    "// In this case we pass the (value, name) pairs as two seperate lists. As before, the labels become an individual\n",
    "// series name for each point; which is why the legend renders correctly.\n",
    "val series = XY(x=List(60, 20, 20), y=List(\"Residential\", \"Non-Residential\", \"Utility\")) asType PIE\n",
    "\n",
    "val chart = Chart() addSeries series setConfig(false, false) setTitle \"Pie Chart\"\n",
    "\n",
    "chart.plotInline"
   ]
  },
  {
   "cell_type": "markdown",
   "metadata": {},
   "source": [
    "### Histogram"
   ]
  },
  {
   "cell_type": "code",
   "execution_count": null,
   "metadata": {},
   "outputs": [],
   "source": [
    "val series = XY(x=x) asType HISTOGRAM\n",
    "\n",
    "val xaxis = XAxis(title = \"my x data\")\n",
    "val yaxis = YAxis(title = \"my y data\")\n",
    "\n",
    "val chart = (\n",
    "    Chart() \n",
    "    addSeries series\n",
    "    setTitle \"Histogram with axes\"\n",
    "    addAxes(xaxis, yaxis)\n",
    ")\n",
    "\n",
    "Canvas()\n",
    ".addCharts(chart)\n",
    ".plotInline"
   ]
  },
  {
   "cell_type": "markdown",
   "metadata": {},
   "source": [
    "#### Customizing colors for a Histogram\n",
    "\n",
    "We can use the `HistOptions` class to further specify options for a histogram. For example, if we wanted to create a horizontally positioned histogram, we can do the following:"
   ]
  },
  {
   "cell_type": "code",
   "execution_count": null,
   "metadata": {},
   "outputs": [],
   "source": [
    "import org.carbonateresearch.picta.options.histogram.HistOptions\n",
    "import org.carbonateresearch.picta.options.Line"
   ]
  },
  {
   "cell_type": "code",
   "execution_count": null,
   "metadata": {},
   "outputs": [],
   "source": [
    "// we can also compose customizations in much the same way:\n",
    "val marker = Marker() setColor \"rgba(255, 100, 102, 0.5)\" setLine Line()\n",
    "\n",
    "// change xkey to y to get a horizontal histogram\n",
    "val series = (\n",
    "    XY(x) \n",
    "    asType HISTOGRAM\n",
    "    setMarker marker\n",
    "    // we can set histogram specific options using the setHistOptions method\n",
    "    setHistOptions(orientation = HORIZONTAL)\n",
    ")\n",
    "\n",
    "val chart = (\n",
    "    Chart() \n",
    "    addSeries series \n",
    "    setTitle \"XY.Histogram.Color\"\n",
    ")\n",
    "\n",
    "chart.plotInline"
   ]
  },
  {
   "cell_type": "markdown",
   "metadata": {},
   "source": [
    "#### Cumulative Histogram\n",
    "\n",
    "Sometimes a cumulative histogram may be desired. We can do this as follows:"
   ]
  },
  {
   "cell_type": "code",
   "execution_count": null,
   "metadata": {},
   "outputs": [],
   "source": [
    "// we can import a range of histnorms\n",
    "import org.carbonateresearch.picta.options.histogram.{Cumulative, PERCENT, DENSITY, PROBABILITY_DENSITY, NUMBER}"
   ]
  },
  {
   "cell_type": "code",
   "execution_count": null,
   "metadata": {},
   "outputs": [],
   "source": [
    "val series = XY(x) asType HISTOGRAM setHistOptions(histnorm = NUMBER, cumulative = Cumulative(enabled=true))\n",
    "\n",
    "val chart = Chart() addSeries series setTitle \"Histogram - Cumulative\"\n",
    "\n",
    "chart.plotInline"
   ]
  },
  {
   "cell_type": "markdown",
   "metadata": {},
   "source": [
    "#### Specifiying the Binning Function\n",
    "\n",
    "We can also specify the binning function for a histogram."
   ]
  },
  {
   "cell_type": "code",
   "execution_count": null,
   "metadata": {},
   "outputs": [],
   "source": [
    "import org.carbonateresearch.picta.options.histogram.{COUNT, SUM, AVG, MIN, MAX, HistOptions}"
   ]
  },
  {
   "cell_type": "code",
   "execution_count": null,
   "metadata": {},
   "outputs": [],
   "source": [
    "val x = List(\"Apples\", \"Apples\", \"Apples\", \"Oranges\", \"Bananas\")\n",
    "val y = List(\"5\", \"10\", \"3\", \"10\", \"5\")\n",
    "\n",
    "// we can also assign histOptions to a value and pass them to the setHistOptions method\n",
    "val ho1 = HistOptions(histfunc = COUNT)\n",
    "val ho2 = HistOptions(histfunc = SUM)\n",
    "    \n",
    "val t1 = XY(x = x, y = y) asType HISTOGRAM setHistOptions ho1\n",
    "val t2 = XY(x = x, y = y) asType HISTOGRAM setHistOptions ho2\n",
    "\n",
    "val chart = Chart() addSeries(t1, t2) setTitle \"Histogram - Specify Binning Function\"\n",
    "val canvas = Canvas() addCharts chart\n",
    "canvas.plotInline"
   ]
  },
  {
   "cell_type": "markdown",
   "metadata": {},
   "source": [
    "### 2D Histogram Contour"
   ]
  },
  {
   "cell_type": "code",
   "execution_count": null,
   "metadata": {},
   "outputs": [],
   "source": [
    "val x = List.range(1, 50)\n",
    "val y = x.map(x => x + scala.util.Random.nextDouble()*100)\n",
    "\n",
    "val series = XY(x, y).asType(HISTOGRAM2DCONTOUR).drawMarkers\n",
    "\n",
    "val chart = (\n",
    "    Chart() addSeries series\n",
    "    setTitle \"2D Histogram Contour\"\n",
    ")\n",
    "\n",
    "chart.plotInline"
   ]
  },
  {
   "cell_type": "markdown",
   "metadata": {},
   "source": [
    "#### Adding additional axes\n",
    "\n",
    "As the above is a density plot, adding histograms can be useful too.\n",
    "\n",
    "We can add histograms as follows:"
   ]
  },
  {
   "cell_type": "code",
   "execution_count": null,
   "metadata": {},
   "outputs": [],
   "source": [
    "// import the 2d Density histogram options\n",
    "import org.carbonateresearch.picta.options.histogram2d.Hist2dOptions"
   ]
  },
  {
   "cell_type": "code",
   "execution_count": null,
   "metadata": {},
   "outputs": [],
   "source": [
    "val marker = Marker() setColor \"rgb(102,0,0)\"\n",
    "\n",
    "val series1 = XY(x, y) \n",
    "            .asType(SCATTER)\n",
    "            .drawMarkers\n",
    "            .setName(\"points\")\n",
    "            .setMarker(marker)\n",
    "\n",
    "\n",
    "val hist2d_options = Hist2dOptions(ncontours = 20, reversescale = false, showscale = true)\n",
    "\n",
    "val series2 = XY(x, y) \n",
    "            .setName(\"density\")\n",
    "            .asType(HISTOGRAM2DCONTOUR)\n",
    "            .setHist2dOptions(hist2d_options)\n",
    "\n",
    "val series3 = XY(x = x)\n",
    "            .asType(HISTOGRAM)\n",
    "            .setName(\"histogram\")\n",
    "            .setAxes(XAxis(), YAxis(2))\n",
    "\n",
    "val series4 = (XY(y)\n",
    "            .setName(\"y density\")\n",
    "            .asType(HISTOGRAM)\n",
    "            .setAxis(XAxis(2))\n",
    "            .setMarker(marker)\n",
    "            .setHistOptions(HistOptions(orientation = HORIZONTAL)))\n",
    "\n",
    "val ax1 = XAxis(showgrid = false) setDomain(0.0, 0.85)\n",
    "val ax2 = YAxis(showgrid = false) setDomain(0.0, 0.85)\n",
    "val ax3 = XAxis(position = 2, showgrid = false) setDomain(0.85, 1.0)\n",
    "val ax4 = YAxis(position = 2, showgrid = false) setDomain(0.85, 1.0)\n",
    "\n",
    "val layout = (\n",
    "    ChartLayout(\"Histogram2dContour With Density\", autosize = false, showlegend = false) \n",
    "    setAxes(ax1, ax2, ax3, ax4)\n",
    ")\n",
    "\n",
    "val chart = Chart() addSeries(series1, series2, series3, series4) setChartLayout layout\n",
    "\n",
    "chart.plotInline"
   ]
  },
  {
   "cell_type": "markdown",
   "metadata": {},
   "source": [
    "### 3D Charts\n",
    "\n",
    "3D charts are constructed using a `XYZ` series as they take in 3 `Series`' to create a single point.\n",
    "\n",
    "The Picta API does not accept nested lists, however the underlying Plotlyjs render does. In order to render any series that will make use of a nested list, we must flatten and provide the length of an element (before the list was flattened).\n",
    "\n",
    "The following examples will make it clearer.\n",
    "\n",
    "#### Contour"
   ]
  },
  {
   "cell_type": "code",
   "execution_count": null,
   "metadata": {},
   "outputs": [],
   "source": [
    "// lets create some dummy adata for the third dimension\n",
    "val x = List(-9, -6, -5 , -3, -1)\n",
    "val y = List(0, 1, 4, 5, 7)\n",
    "val z = List(\n",
    "    List(10, 10.625, 12.5, 15.625, 20),\n",
    "    List(5.625, 6.25, 8.125, 11.25, 15.625),\n",
    "    List(2.5, 3.125, 5.0, 8.125, 12.5),\n",
    "    List(0.625, 1.25, 3.125, 6.25, 10.625),\n",
    "    List(0, 0.625, 2.5, 5.625, 10)\n",
    ")"
   ]
  },
  {
   "cell_type": "code",
   "execution_count": null,
   "metadata": {},
   "outputs": [],
   "source": [
    "// we flatten the nested list as we pass it into the Series constructor\n",
    "val series = XYZ(x=x, y=y, z=z.flatten, n=z(0).length).asType(CONTOUR)\n",
    "\n",
    "// set up the chart\n",
    "val chart = Chart()\n",
    "            .addSeries(series)\n",
    "            .setTitle(\"Contour\")\n",
    "\n",
    "// plot the chart\n",
    "chart.plotInline"
   ]
  },
  {
   "cell_type": "markdown",
   "metadata": {},
   "source": [
    "#### Heatmap"
   ]
  },
  {
   "cell_type": "code",
   "execution_count": null,
   "metadata": {
    "scrolled": false
   },
   "outputs": [],
   "source": [
    "// create a new nested list for the heatmap\n",
    "val z = List.range(1, 101).map(e => e + scala.util.Random.nextDouble()*100).grouped(10).toList"
   ]
  },
  {
   "cell_type": "code",
   "execution_count": null,
   "metadata": {},
   "outputs": [],
   "source": [
    "// we get the length of an element of the nested list\n",
    "val n = z(0).length\n",
    "\n",
    "// we now flatten the list and pass it into Series constructor, as well as 'n', the length of an element so that the \n",
    "// heatmap dimensions are correctly constructed\n",
    "val series = XYZ(z=z.flatten, n=n) asType HEATMAP\n",
    "\n",
    "val chart = Chart() addSeries series setTitle \"Heatmap\"\n",
    "\n",
    "chart.plotInline"
   ]
  },
  {
   "cell_type": "markdown",
   "metadata": {},
   "source": [
    "#### Scatter3D"
   ]
  },
  {
   "cell_type": "code",
   "execution_count": null,
   "metadata": {
    "scrolled": false
   },
   "outputs": [],
   "source": [
    "val x = List.range(1, 100)\n",
    "val y = List.range(1, 100)\n",
    "val z = List.range(1, 100).map(e => e + scala.util.Random.nextDouble()*100)\n",
    "\n",
    "val series = XYZ(x, y, z) asType SCATTER3D drawStyle MARKERS\n",
    "val chart1 = Chart() addSeries series setTitle \"XYZ.Scatter3D\" setConfig(false, false)\n",
    "val canvas = Canvas() addCharts chart1\n",
    "canvas.plotInline"
   ]
  },
  {
   "cell_type": "markdown",
   "metadata": {},
   "source": [
    "#### Surface Plot"
   ]
  },
  {
   "cell_type": "code",
   "execution_count": null,
   "metadata": {
    "scrolled": false
   },
   "outputs": [],
   "source": [
    "// 3d surface plot\n",
    "val k = List(\n",
    "    List(8.83,8.89,8.81,8.87,8.9,8.87),\n",
    "    List(8.89,8.94,8.85,8.94,8.96,8.92),\n",
    "    List(8.84,8.9,8.82,8.92,8.93,8.91),\n",
    "    List(8.79,8.85,8.79,8.9,8.94,8.92),\n",
    "    List(8.79,8.88,8.81,8.9,8.95,8.92),\n",
    "    List(8.8,8.82,8.78,8.91,8.94,8.92),\n",
    "    List(8.75,8.78,8.77,8.91,8.95,8.92),\n",
    "    List(8.8,8.8,8.77,8.91,8.95,8.94),\n",
    "    List(8.74,8.81,8.76,8.93,8.98,8.99),\n",
    "    List(8.89,8.99,8.92,9.1,9.13,9.11),\n",
    "    List(8.97,8.97,8.91,9.09,9.11,9.11),\n",
    "    List(9.04,9.08,9.05,9.25,9.28,9.27),\n",
    "    List(9,9.01,9,9.2,9.23,9.2),\n",
    "    List(8.99,8.99,8.98,9.18,9.2,9.19),\n",
    "    List(8.93,8.97,8.97,9.18,9.2,9.18)\n",
    "  )\n",
    "\n",
    "val series = XYZ(z=k.flatten, n = k(0).length) asType SURFACE\n",
    "val chart2 = Chart() addSeries series setTitle \"Surface\"\n",
    "\n",
    "chart2.plotInline"
   ]
  },
  {
   "cell_type": "markdown",
   "metadata": {
    "scrolled": false
   },
   "source": [
    "#### Third Dimension as Color"
   ]
  },
  {
   "cell_type": "code",
   "execution_count": null,
   "metadata": {},
   "outputs": [],
   "source": [
    "// multiple compositions can be used to create scatter charts with a color representing some third dimension\n",
    "val marker = Marker() setColor z\n",
    "val series = XY(x, y) asType SCATTER drawStyle MARKERS setMarker marker\n",
    "val chart3 = Chart() addSeries series setTitle \"ScatterWithColor\"\n",
    "chart3.plotInline"
   ]
  },
  {
   "cell_type": "markdown",
   "metadata": {},
   "source": [
    "#### Subplot\n",
    "\n",
    "The Subplot class can be used to generate subplots for an XYZ plots just as we did previously."
   ]
  },
  {
   "cell_type": "code",
   "execution_count": null,
   "metadata": {},
   "outputs": [],
   "source": [
    "// it may be necessary to play around with the chart dimensions and margin  in order to ensure a good fit on screen.\n",
    "val dim = 350\n",
    "\n",
    "// The canvas has an underlying grid. By default the underlying grid is 1x1, but we can pass in the dimensions we \n",
    "// require by passing in parameters in the constructor.\n",
    "Canvas(2, 2)\n",
    ".setChart(0, 0, chart1.setDimensions(width = dim, height = dim).setMargin(l=50, r=50, t=50, b=50))\n",
    ".setChart(0, 1, chart2.setDimensions(width = dim, height = dim)setMargin(l=50, r=50, t=50, b=50))\n",
    ".setChart(1, 0, chart3.setDimensions(width = dim, height = dim)setMargin(l=50, r=50, t=50, b=50))\n",
    ".setChart(1, 1, chart.setDimensions(width = dim, height = dim)setMargin(l=50, r=50, t=50, b=50))\n",
    ".plotInline"
   ]
  },
  {
   "cell_type": "markdown",
   "metadata": {},
   "source": [
    "#### Map\n",
    "\n",
    "We can also create maps using the composition technique below."
   ]
  },
  {
   "cell_type": "code",
   "execution_count": null,
   "metadata": {},
   "outputs": [],
   "source": [
    "import org.carbonateresearch.picta.options.{Margin, Line}\n",
    "import org.carbonateresearch.picta.Map"
   ]
  },
  {
   "cell_type": "code",
   "execution_count": null,
   "metadata": {},
   "outputs": [],
   "source": [
    "// draw a line on the map that is red\n",
    "val line = Line(width = 2) setColor \"red\"\n",
    "\n",
    "// construct the map Series. It is an XY chart as it takes in a List of Longitude and Latitude\n",
    "val series = Map(List(40.7127, 51.5072), List(-74.0059, 0.1275)) drawSymbol LINES drawLine line\n",
    "\n",
    "// These are options that further specify the options for the map\n",
    "val geo = MapOptions(landcolor = \"rgb(204, 204, 204)\", lakecolor = \"rgb(255, 255, 255)\")\n",
    "              .setMapAxes(LatAxis(List(20, 60)), LongAxis(List(-100, 20)))\n",
    "\n",
    "val chart = (\n",
    "    Chart() \n",
    "    addSeries series \n",
    "    setConfig(false, false)\n",
    "    setMapOptions geo\n",
    "    setMargin(l=0, r=0, t=0, b=0)\n",
    ")\n",
    "\n",
    "chart.plotInline"
   ]
  },
  {
   "cell_type": "markdown",
   "metadata": {},
   "source": [
    "### Animated Charts\n",
    "\n",
    "We can also create animated charts. This can be useful for tracking the evolution of a data over time.\n",
    "\n",
    "All `Series` types should be supported.\n",
    "\n",
    "#### 2D Animated Chart"
   ]
  },
  {
   "cell_type": "code",
   "execution_count": null,
   "metadata": {},
   "outputs": [],
   "source": [
    "import org.carbonateresearch.picta.options.ColorOptions._\n",
    "\n",
    "// creates random XY for testing purposes\n",
    "def createXYSeries[T: Color]\n",
    "(numberToCreate: Int, count: Int = 0, length: Int = 10): List[XY[Int, Double, T, T]] = {\n",
    "    if (count == numberToCreate) Nil\n",
    "    else {\n",
    "      val xs = List.range(0, length)\n",
    "      val ys = xs.map(x => scala.util.Random.nextDouble() * x)\n",
    "      val series = XY(x = xs, y = ys, name = \"series \" + count).drawMarkers\n",
    "      series :: createXYSeries(numberToCreate, count + 1, length)\n",
    "    }\n",
    "}\n",
    "\n",
    "def createXYZSeries(numberToCreate: Int, count: Int = 0, length: Int = 10): List[XYZ[Int, Double, Double]] = {\n",
    "    if (count == numberToCreate) Nil\n",
    "    else {\n",
    "      val xs = List.range(0, length)\n",
    "      val ys = xs.map(x => scala.util.Random.nextDouble() * x)\n",
    "      val zs = xs.map(x => scala.util.Random.nextDouble() * x * scala.util.Random.nextInt())\n",
    "      val series = XYZ(x = xs, y = ys, z = zs, name = \"series \" + count, `type` = SCATTER3D).drawMarkers\n",
    "      series :: createXYZSeries(numberToCreate, count + 1, length)\n",
    "    }\n",
    "}"
   ]
  },
  {
   "cell_type": "code",
   "execution_count": null,
   "metadata": {
    "scrolled": false
   },
   "outputs": [],
   "source": [
    "val xaxis = XAxis(title = \"X Variable\") setRange (0.0, 10.0)\n",
    "val yaxis = YAxis(title = \"Y Variable\") setRange (0.0, 10.0)\n",
    "\n",
    "// we can also specifiy the underlying layout directly - sometimes this can be useful\n",
    "val layout = ChartLayout(\"Animation XY\") setAxes(xaxis, yaxis)\n",
    "\n",
    "val series = createXYSeries(numberToCreate = 50, length = 30)\n",
    "\n",
    "val chart = Chart(animated = true, transition_duration=100) setChartLayout layout addSeries series\n",
    "\n",
    "chart.plotInline"
   ]
  },
  {
   "cell_type": "markdown",
   "metadata": {},
   "source": [
    "### 3D Animated Chart"
   ]
  },
  {
   "cell_type": "code",
   "execution_count": null,
   "metadata": {},
   "outputs": [],
   "source": [
    "val series = createXYZSeries(numberToCreate = 10, length = 100)\n",
    "\n",
    "val layout = ChartLayout()\n",
    "\n",
    "val chart = Chart(animated = true) setTitle \"Animation 3D\" addSeries series \n",
    "\n",
    "chart.plotInline"
   ]
  },
  {
   "cell_type": "markdown",
   "metadata": {},
   "source": [
    "## IO + Utility Functions\n",
    "\n",
    "The library also comes with some basic CSV IO functions and a utility function for breaking down data"
   ]
  },
  {
   "cell_type": "code",
   "execution_count": null,
   "metadata": {},
   "outputs": [],
   "source": [
    "import org.carbonateresearch.picta.IO._\n",
    "import org.carbonateresearch.picta.common.Utils.getSeriesbyCategory"
   ]
  },
  {
   "cell_type": "code",
   "execution_count": null,
   "metadata": {},
   "outputs": [],
   "source": [
    "val working_directory = getWorkingDirectory\n",
    "\n",
    "println(working_directory)"
   ]
  },
  {
   "cell_type": "code",
   "execution_count": null,
   "metadata": {},
   "outputs": [],
   "source": [
    "// by providing a path, we can read in a CSV\n",
    "val filepath = working_directory + \"/iris_csv.csv\"\n",
    "\n",
    "val data = readCSV(filepath)\n",
    "\n",
    "// by default, CSV are read in as strings. However we can convert the individual columns to the correct format\n",
    "val sepal_length = data(\"sepallength\").map(_.toDouble)\n",
    "val petal_width = data(\"petalwidth\").map(_.toDouble)\n",
    "val categories = data(\"class\")"
   ]
  },
  {
   "cell_type": "code",
   "execution_count": null,
   "metadata": {},
   "outputs": [],
   "source": [
    "val series = XY(sepal_length, petal_width) asType SCATTER drawStyle MARKERS\n",
    "\n",
    "val chart = Chart() addSeries series setTitle \"Uninformative Chart\"\n",
    "\n",
    "chart.plotInline"
   ]
  },
  {
   "cell_type": "markdown",
   "metadata": {},
   "source": [
    "The above chart is not very informative. However since we have the per data point category labels, we can use the utility function to display the data in the different clusters"
   ]
  },
  {
   "cell_type": "code",
   "execution_count": null,
   "metadata": {},
   "outputs": [],
   "source": [
    "val result = getSeriesbyCategory(categories, (sepal_length, petal_width))\n",
    "\n",
    "val chart = Chart() addSeries result setTitle \"Iris\" showLegend true\n",
    "\n",
    "chart.plotInline"
   ]
  },
  {
   "cell_type": "markdown",
   "metadata": {},
   "source": [
    "## Conus Integration\n",
    "\n",
    "A couple of utility functions make wrangling conus data easier. Below is an example taken from the conus repo and plotting some variables of interest."
   ]
  },
  {
   "cell_type": "code",
   "execution_count": null,
   "metadata": {},
   "outputs": [],
   "source": [
    "import org.carbonateresearch.picta.conus.Utils._"
   ]
  },
  {
   "cell_type": "code",
   "execution_count": null,
   "metadata": {},
   "outputs": [],
   "source": [
    "import org.carbonateresearch.picta.conus.Utils._\n",
    "import org.carbonateresearch.picta.{Canvas, Chart, XY}\n",
    "import org.carbonateresearch.conus.common.SingleModelResults\n",
    "import org.carbonateresearch.conus.modelzoo.GeneralGeology._\n",
    "import org.carbonateresearch.conus.modelzoo.PasseyHenkesClumpedDiffusionModel._\n",
    "import org.carbonateresearch.conus.{AllCells, ModelVariable, PerCell, Simulator, Step, SteppedModel}\n",
    "\n",
    "import math._"
   ]
  },
  {
   "cell_type": "code",
   "execution_count": null,
   "metadata": {
    "scrolled": false
   },
   "outputs": [],
   "source": [
    "val modelWarehouse = Simulator\n",
    "\n",
    "// a few constants\n",
    "val rhocal:Double = 2.71 //Density of carbonates\n",
    "val cOf=889000 //concentration of O in fluid\n",
    "val cCf=200 //concentration of C in fluid\n",
    "val cOcal = 480000 //concentration of O in stoichiometric calcite\n",
    "val cCcal = 120000 //concentration of C in stoichiometric calcite\n",
    "val d13Ctdc = 0 //carbon isotope composition of total dissolved carbon in fluid\n",
    "\n",
    "// setting model variables\n",
    "val initialAge:ModelVariable[Double] = ModelVariable(\"Initial age\",96.0,\"Ma\")\n",
    "val finalAge:ModelVariable[Double] = ModelVariable(\"Final age\",0.0,\"Ma\")\n",
    "val d18Of:ModelVariable[Double] = ModelVariable(\"Fluid d18O\",-1.0,\"‰\")\n",
    "val TmaxSample:ModelVariable[Double] = ModelVariable(\"Tmax\",0.0,\"˚C\")\n",
    "val WFF:ModelVariable[Double] = ModelVariable(\"Weight fraction of fluid\",0.0,\"\")\n",
    "val CWRR:ModelVariable[Double] = ModelVariable(\"Cumulative water/rock ratio\",0.0,\"\")\n",
    "val FluidMass:ModelVariable[Double] = ModelVariable(\"Mass of fluid\",0.2,\"\")\n",
    "val d18Occ:ModelVariable[Double] = ModelVariable(\"d18Occ\",1.0,\"‰\")\n",
    "val d13Ccc:ModelVariable[Double] = ModelVariable(\"d13Ccc\",1.0,\"‰\")\n",
    "val D47r:ModelVariable[Double] = ModelVariable(\"D47 with partial recrystallization\",.5,\"‰\")\n",
    "val fractionRec:ModelVariable[Double] = ModelVariable(\"Fraction of recrystallization\",0.01,\"‰\")\n",
    "val initalBurialAtModelStart:ModelVariable[Double] = ModelVariable(\"Initial burial at model start\",0.0,\"meters\")\n",
    "\n",
    "// Initialise model conditions as lists\n",
    "val burialHistory = List((96.0,0.0), (39.0,2000.0), (0.0,-70.0))\n",
    "val geothermalGradientHistory= List((96.0,30.0),(0.0,30.0))\n",
    "val surfaceTemperaturesHistory = List((96.0,30.0),(0.0,30.0))\n",
    "val numberOfSteps = 10\n",
    "val ageList:List[Double] = List(97.0,96.0,95.0)\n",
    "val finalAgeList:List[Double] = List(0.0)\n",
    "val rangeOfFluidMasses:List[Double] = List(0.2)\n",
    "val rangeOfPartialRecrystallization = List(1.0,.5,.1,.01,0.0)\n",
    "\n",
    "// Bulk isotope calculation equations\n",
    "val d18OccFunction = (s:Step) => {\n",
    "    val cO=(WFF(s)*cOf)+(1-WFF(s))*cOcal\n",
    "    val alpha = math.exp((18.03*(1000*pow((burialTemperature(s)+273.15), -1)) - 32.42)/1000)\n",
    "    val d18O = ((d18Of(s) * WFF(s) * cOf) + d18Occ(s) * (1-WFF(s)) * cOf)/ cO\n",
    "    ((d18O * cOf * alpha) - (1000 * cOf * WFF(s) * (1-alpha))) / ((cOcal * (1-WFF(s)) * alpha) + cOf * WFF(s))\n",
    "}\n",
    "\n",
    "val d13CccFunction = (s:Step) => {\n",
    "    val cC=(WFF(s)*cCf)+(1-WFF(s))*cCcal\n",
    "    val alpha = exp((-2.4612+(7666.3/100) - (2.9880*pow(10,3)/pow((burialTemperature(s)+273.15),6)))/1000)\n",
    "    val d13C = ((d13Ctdc * WFF(s) * d13Ctdc) + (d13Ccc(s) * (1-WFF(s)) * cCcal))/cC\n",
    "    ((d13C * cC * alpha) - (1000 * cCf * WFF(s) * (1-alpha))) / (cCcal * (1-WFF(s) * alpha) + cCf * WFF(s))\n",
    "}\n",
    "\n",
    "val eaglefordModel = new SteppedModel(numberOfSteps,\"Eagleford recrystallization\")\n",
    "    .setGrid(19)\n",
    "    .defineMathematicalModel(\n",
    "      age =>> ageOfStep(initialAge,finalAge),\n",
    "      depth =>> {(s:Step) => {burialDepthFromAgeModel(age,burialHistory).apply(s)+initalBurialAtModelStart(s)}},\n",
    "      surfaceTemperature =>> surfaceTemperaturesAtAge(age, surfaceTemperaturesHistory),\n",
    "      geothermalGradient =>> geothermalGradientAtAge(age,geothermalGradientHistory),\n",
    "      burialTemperature =>> burialTemperatureFromGeothermalGradient(surfaceTemperature,depth,geothermalGradient),\n",
    "      dT =>> dTFun,\n",
    "      D47eq =>> D47eqFun,\n",
    "      D47i =>> D47iFun,\n",
    "      SampleTemp =>> davies19_T,\n",
    "      FluidMass =>> {(s:Step) => 0.2},\n",
    "      d18Of =>> {(s:Step) => -1.0},\n",
    "      WFF =>> {(s:Step) => FluidMass(s) / (FluidMass(s) + rhocal)},\n",
    "      CWRR =>> {(s:Step) => s.stepNumber * WFF(s)/(1-WFF(s))},\n",
    "      d18Occ =>> d18OccFunction,\n",
    "      d13Ccc =>> d13CccFunction,\n",
    "      D47r =>> {(s:Step) => {if(burialTemperature(s)-burialTemperature(s-1) >= 0){D47r(s-1) * (1.0-fractionRec(s)) + D47eq(s) * fractionRec(s)}\n",
    "      else {D47r(s-1)}}}\n",
    "    )\n",
    "    .defineInitialModelConditions(\n",
    "      AllCells(initialAge,ageList),\n",
    "      AllCells(finalAge,finalAgeList),\n",
    "      AllCells(fractionRec,rangeOfPartialRecrystallization),\n",
    "      AllCells(D47i,List(0.670,0.680,0.690)),\n",
    "      AllCells(D47r,List(0.670,0.680,0.690)),\n",
    "      PerCell(initalBurialAtModelStart,List(\n",
    "        (List(0.0),Seq(0)),\n",
    "        (List(-0.91),Seq(1)),\n",
    "        (List(-1.22),Seq(2)),\n",
    "        (List(-2.90),Seq(3)),\n",
    "        (List(-4.57),Seq(4)),\n",
    "        (List(-4.88),Seq(5)),\n",
    "        (List(-4.90),Seq(6)),\n",
    "        (List(-6.10),Seq(7)),\n",
    "        (List(-6.40),Seq(8)),\n",
    "        (List(-6.71),Seq(9)),\n",
    "        (List(-25.90),Seq(10)),\n",
    "        (List(-28.96),Seq(11)),\n",
    "        (List(-29.87),Seq(12)),\n",
    "        (List(-35.05),Seq(13)),\n",
    "        (List(-35.36),Seq(14)),\n",
    "        (List(-35.97),Seq(15)),\n",
    "        (List(-36.58),Seq(16)),\n",
    "        (List(-37.19),Seq(17)),\n",
    "        (List(-38.90),Seq(18)))))\n",
    "    .defineCalibration(\n",
    "      D47r.isBetween(0.511,0.683).atCells(Seq(0)),\n",
    "      D47r.isBetween(0.511,0.683).atCells(Seq(1)),\n",
    "      D47r.isBetween(0.511,0.683).atCells(Seq(2)),\n",
    "      D47r.isBetween(0.511,0.683).atCells(Seq(3)),\n",
    "      D47r.isBetween(0.511,0.683).atCells(Seq(4)),\n",
    "      D47r.isBetween(0.511,0.683).atCells(Seq(5)),\n",
    "      D47r.isBetween(0.511,0.683).atCells(Seq(6)),\n",
    "      D47r.isBetween(0.511,0.683).atCells(Seq(7)),\n",
    "      D47r.isBetween(0.511,0.683).atCells(Seq(8)),\n",
    "      D47r.isBetween(0.511,0.683).atCells(Seq(9)),\n",
    "      D47r.isBetween(0.511,0.683).atCells(Seq(10)),\n",
    "      D47r.isBetween(0.511,0.683).atCells(Seq(11)),\n",
    "      D47r.isBetween(0.511,0.683).atCells(Seq(12)),\n",
    "      D47r.isBetween(0.511,0.683).atCells(Seq(13)),\n",
    "      D47r.isBetween(0.511,0.683).atCells(Seq(14)),\n",
    "      D47r.isBetween(0.511,0.683).atCells(Seq(15)),\n",
    "      D47r.isBetween(0.511,0.683).atCells(Seq(16)),\n",
    "      D47r.isBetween(0.511,0.683).atCells(Seq(17)),\n",
    "      D47r.isBetween(0.511,0.683).atCells(Seq(18))\n",
    ")\n",
    "\n",
    "modelWarehouse.evaluate(eaglefordModel)\n",
    "Thread.sleep(1000)"
   ]
  },
  {
   "cell_type": "code",
   "execution_count": null,
   "metadata": {
    "scrolled": false
   },
   "outputs": [],
   "source": [
    "// grab the results from the Conus model\n",
    "val model: SingleModelResults = modelWarehouse(eaglefordModel)(0)\n",
    "\n",
    "// we can use the utility function to grab the series for a single variable\n",
    "val series1: List[Double] = getDataFromSingleModel(model, age, List(0), numberOfSteps)\n",
    "val series2: List[Double] = getDataFromSingleModel(model, d18Occ, List(0), numberOfSteps)\n",
    "\n",
    "val xy1 = XY(series1, series2)\n",
    "\n",
    "// alternatively we can quickly get the same data for XY using the function below\n",
    "//  val xy1 = getXYSeriesFromSingleModel(model, (age, d18Occ), List(0), numberOfSteps)\n",
    "\n",
    "// lets also plot a second y variable\n",
    "val yaxis2 = YAxis(\n",
    "    position = 2, \n",
    "    title = \"d13Ccc\", \n",
    "    overlaying = YAxis(), // this ensures that the axis sits on a seperate axis\n",
    "    side = RIGHT, // this ensures the axis is on the right hand side\n",
    "    tickformat = \"0.2f\" // this will keep formatting reasonable for display purposes\n",
    ")\n",
    "\n",
    "// we construct the second y variable;\n",
    "val series3: List[Double] = getDataFromSingleModel(model, d13Ccc, List(0), numberOfSteps)\n",
    "val xy2 = XY(series1, series3) setAxis yaxis2\n",
    "\n",
    "// finally we can combine in a single chart\n",
    "val chart = (\n",
    "    Chart() \n",
    "    addSeries xy1\n",
    "    addSeries xy2\n",
    "    setTitle(\"d18Occ vs d13Ccc\") \n",
    "    addAxes(XAxis(title=\"age\"), YAxis(title=\"d18Occ\"), yaxis2)\n",
    ")\n",
    "\n",
    "val canvas = Canvas() addCharts chart\n",
    "\n",
    "// When we plot the result, we can see the legend is in the wrong place and overlaying the axis - we can overcome this\n",
    "// in the next example\n",
    "canvas.plotInline()"
   ]
  },
  {
   "cell_type": "markdown",
   "metadata": {},
   "source": [
    "### Moving the Legend\n",
    "\n",
    "We can also move the Legend and position it where we would like as follows:"
   ]
  },
  {
   "cell_type": "code",
   "execution_count": null,
   "metadata": {},
   "outputs": [],
   "source": [
    "import org.carbonateresearch.picta.options.AUTO"
   ]
  },
  {
   "cell_type": "code",
   "execution_count": null,
   "metadata": {
    "scrolled": false
   },
   "outputs": [],
   "source": [
    "// finally we can combine in a single chart\n",
    "val chart = (\n",
    "    Chart() \n",
    "    addSeries xy1\n",
    "    addSeries xy2\n",
    "    setTitle(\"d18Occ vs d13Ccc\") \n",
    "    addAxes(XAxis(title=\"age\"), YAxis(title=\"d18Occ\"), yaxis2)\n",
    "    setLegend(x = 0.5, y = -0.5, orientation = HORIZONTAL, xanchor = AUTO, yanchor = AUTO)\n",
    ")\n",
    "\n",
    "\n",
    "val canvas = Canvas() addCharts chart\n",
    "\n",
    "canvas.plotInline()"
   ]
  },
  {
   "cell_type": "code",
   "execution_count": null,
   "metadata": {},
   "outputs": [],
   "source": []
  }
 ],
 "metadata": {
  "kernelspec": {
   "display_name": "Scala",
   "language": "scala",
   "name": "scala"
  },
  "language_info": {
   "codemirror_mode": "text/x-scala",
   "file_extension": ".scala",
   "mimetype": "text/x-scala",
   "name": "scala",
   "nbconvert_exporter": "script",
   "version": "2.13.2"
  }
 },
 "nbformat": 4,
 "nbformat_minor": 4
}
