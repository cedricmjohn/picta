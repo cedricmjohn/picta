{
 "cells": [
  {
   "cell_type": "markdown",
   "metadata": {},
   "source": [
    "# 1. Setup\n",
    "\n",
    "To use Picta in a Jupyter notebook with the Almond.sh kernel, you need to first register a new Jitpack repository as some essential component of Almond are not availble in Maven Central (simply copy and run the first cell below). You then need to import the library from Maven (second cell) and initiliaze the notebook to have nicer outputs (optional, third cell)."
   ]
  },
  {
   "cell_type": "code",
   "execution_count": 1,
   "metadata": {},
   "outputs": [],
   "source": [
    "interp.repositories() ++= Seq(coursierapi.MavenRepository.of(\n",
    "\"https://jitpack.io\"\n",
    "))"
   ]
  },
  {
   "cell_type": "code",
   "execution_count": 2,
   "metadata": {},
   "outputs": [
    {
     "data": {
      "text/plain": [
       "\u001b[32mimport \u001b[39m\u001b[36m$ivy.$                                    \u001b[39m"
      ]
     },
     "execution_count": 2,
     "metadata": {},
     "output_type": "execute_result"
    }
   ],
   "source": [
    "import $ivy. `org.carbonateresearch::picta:0.1.1`"
   ]
  },
  {
   "cell_type": "code",
   "execution_count": 3,
   "metadata": {
    "scrolled": false
   },
   "outputs": [
    {
     "data": {
      "text/html": [
       "\n",
       "<style> #animationInterface {\n",
       "    margin-top: 50px;\n",
       "    margin-bottom: 50px;\n",
       "}\n",
       "\n",
       ".progressBar {\n",
       "    padding-top: 20px;\n",
       "    padding-bottom: 20px;\n",
       "}\n",
       "\n",
       ".inline-div {\n",
       "    display: block;\n",
       "    text-align: center;\n",
       "}\n",
       "\n",
       "h3 {\n",
       "    display: inline-block;\n",
       "    text-align: center;\n",
       "}\n",
       "\n",
       ".picta-button {\n",
       "    background-color: #003E74;\n",
       "    border: none;\n",
       "    color: white;\n",
       "    padding: 12px 28px;\n",
       "    text-align: center;\n",
       "    text-decoration: none;\n",
       "    display: inline-block;\n",
       "    font-size: 12px;\n",
       "    margin-top: 50px;\n",
       "    transition-duration: 0.4s;\n",
       "    cursor: pointer;\n",
       "}\n",
       "\n",
       ".picta-button:hover {\n",
       "    background-color: #002147;\n",
       "    color: white;\n",
       "}\n",
       "\n",
       ".grid-title h1 {\n",
       "    font-family: \"Open Sans\", verdana, arial, sans-serif;\n",
       "    font-weight: normal;\n",
       "}\n",
       "\n",
       ".grid-container {\n",
       "    padding-top: 40px;\n",
       "    background: white;\n",
       "} </style>\n",
       "<script> /** vim: et:ts=4:sw=4:sts=4\n",
       " * @license RequireJS 2.3.6 Copyright jQuery Foundation and other contributors.\n",
       " * Released under MIT license, https://github.com/requirejs/requirejs/blob/master/LICENSE\n",
       " */\n",
       "var requirejs,require,define;!function(global,setTimeout){var req,s,head,baseElement,dataMain,src,interactiveScript,currentlyAddingScript,mainScript,subPath,version=\"2.3.6\",commentRegExp=/\\/\\*[\\s\\S]*?\\*\\/|([^:\"'=]|^)\\/\\/.*$/gm,cjsRequireRegExp=/[^.]\\s*require\\s*\\(\\s*[\"']([^'\"\\s]+)[\"']\\s*\\)/g,jsSuffixRegExp=/\\.js$/,currDirRegExp=/^\\.\\//,op=Object.prototype,ostring=op.toString,hasOwn=op.hasOwnProperty,isBrowser=!(\"undefined\"==typeof window||\"undefined\"==typeof navigator||!window.document),isWebWorker=!isBrowser&&\"undefined\"!=typeof importScripts,readyRegExp=isBrowser&&\"PLAYSTATION 3\"===navigator.platform?/^complete$/:/^(complete|loaded)$/,defContextName=\"_\",isOpera=\"undefined\"!=typeof opera&&\"[object Opera]\"===opera.toString(),contexts={},cfg={},globalDefQueue=[],useInteractive=!1;function commentReplace(e,t){return t||\"\"}function isFunction(e){return\"[object Function]\"===ostring.call(e)}function isArray(e){return\"[object Array]\"===ostring.call(e)}function each(e,t){var i;if(e)for(i=0;i<e.length&&(!e[i]||!t(e[i],i,e));i+=1);}function eachReverse(e,t){var i;if(e)for(i=e.length-1;-1<i&&(!e[i]||!t(e[i],i,e));i-=1);}function hasProp(e,t){return hasOwn.call(e,t)}function getOwn(e,t){return hasProp(e,t)&&e[t]}function eachProp(e,t){var i;for(i in e)if(hasProp(e,i)&&t(e[i],i))break}function mixin(i,e,r,n){return e&&eachProp(e,function(e,t){!r&&hasProp(i,t)||(!n||\"object\"!=typeof e||!e||isArray(e)||isFunction(e)||e instanceof RegExp?i[t]=e:(i[t]||(i[t]={}),mixin(i[t],e,r,n)))}),i}function bind(e,t){return function(){return t.apply(e,arguments)}}function scripts(){return document.getElementsByTagName(\"script\")}function defaultOnError(e){throw e}function getGlobal(e){if(!e)return e;var t=global;return each(e.split(\".\"),function(e){t=t[e]}),t}function makeError(e,t,i,r){var n=new Error(t+\"\\nhttps://requirejs.org/docs/errors.html#\"+e);return n.requireType=e,n.requireModules=r,i&&(n.originalError=i),n}if(void 0===define){if(void 0!==requirejs){if(isFunction(requirejs))return;cfg=requirejs,requirejs=void 0}void 0===require||isFunction(require)||(cfg=require,require=void 0),req=requirejs=function(e,t,i,r){var n,o,a=defContextName;return isArray(e)||\"string\"==typeof e||(o=e,isArray(t)?(e=t,t=i,i=r):e=[]),o&&o.context&&(a=o.context),(n=getOwn(contexts,a))||(n=contexts[a]=req.s.newContext(a)),o&&n.configure(o),n.require(e,t,i)},req.config=function(e){return req(e)},req.nextTick=void 0!==setTimeout?function(e){setTimeout(e,4)}:function(e){e()},require||(require=req),req.version=version,req.jsExtRegExp=/^\\/|:|\\?|\\.js$/,req.isBrowser=isBrowser,s=req.s={contexts:contexts,newContext:newContext},req({}),each([\"toUrl\",\"undef\",\"defined\",\"specified\"],function(t){req[t]=function(){var e=contexts[defContextName];return e.require[t].apply(e,arguments)}}),isBrowser&&(head=s.head=document.getElementsByTagName(\"head\")[0],baseElement=document.getElementsByTagName(\"base\")[0],baseElement&&(head=s.head=baseElement.parentNode)),req.onError=defaultOnError,req.createNode=function(e,t,i){var r=e.xhtml?document.createElementNS(\"http://www.w3.org/1999/xhtml\",\"html:script\"):document.createElement(\"script\");return r.type=e.scriptType||\"text/javascript\",r.charset=\"utf-8\",r.async=!0,r},req.load=function(t,i,r){var e,n=t&&t.config||{};if(isBrowser)return(e=req.createNode(n,i,r)).setAttribute(\"data-requirecontext\",t.contextName),e.setAttribute(\"data-requiremodule\",i),!e.attachEvent||e.attachEvent.toString&&e.attachEvent.toString().indexOf(\"[native code\")<0||isOpera?(e.addEventListener(\"load\",t.onScriptLoad,!1),e.addEventListener(\"error\",t.onScriptError,!1)):(useInteractive=!0,e.attachEvent(\"onreadystatechange\",t.onScriptLoad)),e.src=r,n.onNodeCreated&&n.onNodeCreated(e,n,i,r),currentlyAddingScript=e,baseElement?head.insertBefore(e,baseElement):head.appendChild(e),currentlyAddingScript=null,e;if(isWebWorker)try{setTimeout(function(){},0),importScripts(r),t.completeLoad(i)}catch(e){t.onError(makeError(\"importscripts\",\"importScripts failed for \"+i+\" at \"+r,e,[i]))}},isBrowser&&!cfg.skipDataMain&&eachReverse(scripts(),function(e){if(head||(head=e.parentNode),dataMain=e.getAttribute(\"data-main\"))return mainScript=dataMain,cfg.baseUrl||-1!==mainScript.indexOf(\"!\")||(mainScript=(src=mainScript.split(\"/\")).pop(),subPath=src.length?src.join(\"/\")+\"/\":\"./\",cfg.baseUrl=subPath),mainScript=mainScript.replace(jsSuffixRegExp,\"\"),req.jsExtRegExp.test(mainScript)&&(mainScript=dataMain),cfg.deps=cfg.deps?cfg.deps.concat(mainScript):[mainScript],!0}),define=function(e,i,t){var r,n;\"string\"!=typeof e&&(t=i,i=e,e=null),isArray(i)||(t=i,i=null),!i&&isFunction(t)&&(i=[],t.length&&(t.toString().replace(commentRegExp,commentReplace).replace(cjsRequireRegExp,function(e,t){i.push(t)}),i=(1===t.length?[\"require\"]:[\"require\",\"exports\",\"module\"]).concat(i))),useInteractive&&(r=currentlyAddingScript||getInteractiveScript())&&(e||(e=r.getAttribute(\"data-requiremodule\")),n=contexts[r.getAttribute(\"data-requirecontext\")]),n?(n.defQueue.push([e,i,t]),n.defQueueMap[e]=!0):globalDefQueue.push([e,i,t])},define.amd={jQuery:!0},req.exec=function(text){return eval(text)},req(cfg)}function newContext(u){var i,e,l,c,d,g={waitSeconds:7,baseUrl:\"./\",paths:{},bundles:{},pkgs:{},shim:{},config:{}},p={},f={},r={},h=[],m={},n={},v={},x=1,b=1;function q(e,t,i){var r,n,o,a,s,u,c,d,p,f,l=t&&t.split(\"/\"),h=g.map,m=h&&h[\"*\"];if(e&&(u=(e=e.split(\"/\")).length-1,g.nodeIdCompat&&jsSuffixRegExp.test(e[u])&&(e[u]=e[u].replace(jsSuffixRegExp,\"\")),\".\"===e[0].charAt(0)&&l&&(e=l.slice(0,l.length-1).concat(e)),function(e){var t,i;for(t=0;t<e.length;t++)if(\".\"===(i=e[t]))e.splice(t,1),t-=1;else if(\"..\"===i){if(0===t||1===t&&\"..\"===e[2]||\"..\"===e[t-1])continue;0<t&&(e.splice(t-1,2),t-=2)}}(e),e=e.join(\"/\")),i&&h&&(l||m)){e:for(o=(n=e.split(\"/\")).length;0<o;o-=1){if(s=n.slice(0,o).join(\"/\"),l)for(a=l.length;0<a;a-=1)if((r=getOwn(h,l.slice(0,a).join(\"/\")))&&(r=getOwn(r,s))){c=r,d=o;break e}!p&&m&&getOwn(m,s)&&(p=getOwn(m,s),f=o)}!c&&p&&(c=p,d=f),c&&(n.splice(0,d,c),e=n.join(\"/\"))}return getOwn(g.pkgs,e)||e}function E(t){isBrowser&&each(scripts(),function(e){if(e.getAttribute(\"data-requiremodule\")===t&&e.getAttribute(\"data-requirecontext\")===l.contextName)return e.parentNode.removeChild(e),!0})}function w(e){var t=getOwn(g.paths,e);if(t&&isArray(t)&&1<t.length)return t.shift(),l.require.undef(e),l.makeRequire(null,{skipMap:!0})([e]),!0}function y(e){var t,i=e?e.indexOf(\"!\"):-1;return-1<i&&(t=e.substring(0,i),e=e.substring(i+1,e.length)),[t,e]}function S(e,t,i,r){var n,o,a,s,u=null,c=t?t.name:null,d=e,p=!0,f=\"\";return e||(p=!1,e=\"_@r\"+(x+=1)),u=(s=y(e))[0],e=s[1],u&&(u=q(u,c,r),o=getOwn(m,u)),e&&(u?f=i?e:o&&o.normalize?o.normalize(e,function(e){return q(e,c,r)}):-1===e.indexOf(\"!\")?q(e,c,r):e:(u=(s=y(f=q(e,c,r)))[0],f=s[1],i=!0,n=l.nameToUrl(f))),{prefix:u,name:f,parentMap:t,unnormalized:!!(a=!u||o||i?\"\":\"_unnormalized\"+(b+=1)),url:n,originalName:d,isDefine:p,id:(u?u+\"!\"+f:f)+a}}function k(e){var t=e.id,i=getOwn(p,t);return i||(i=p[t]=new l.Module(e)),i}function M(e,t,i){var r=e.id,n=getOwn(p,r);!hasProp(m,r)||n&&!n.defineEmitComplete?(n=k(e)).error&&\"error\"===t?i(n.error):n.on(t,i):\"defined\"===t&&i(m[r])}function O(i,e){var t=i.requireModules,r=!1;e?e(i):(each(t,function(e){var t=getOwn(p,e);t&&(t.error=i,t.events.error&&(r=!0,t.emit(\"error\",i)))}),r||req.onError(i))}function j(){globalDefQueue.length&&(each(globalDefQueue,function(e){var t=e[0];\"string\"==typeof t&&(l.defQueueMap[t]=!0),h.push(e)}),globalDefQueue=[])}function P(e){delete p[e],delete f[e]}function R(){var e,r,t=1e3*g.waitSeconds,n=t&&l.startTime+t<(new Date).getTime(),o=[],a=[],s=!1,u=!0;if(!i){if(i=!0,eachProp(f,function(e){var t=e.map,i=t.id;if(e.enabled&&(t.isDefine||a.push(e),!e.error))if(!e.inited&&n)w(i)?s=r=!0:(o.push(i),E(i));else if(!e.inited&&e.fetched&&t.isDefine&&(s=!0,!t.prefix))return u=!1}),n&&o.length)return(e=makeError(\"timeout\",\"Load timeout for modules: \"+o,null,o)).contextName=l.contextName,O(e);u&&each(a,function(e){!function n(o,a,s){var e=o.map.id;o.error?o.emit(\"error\",o.error):(a[e]=!0,each(o.depMaps,function(e,t){var i=e.id,r=getOwn(p,i);!r||o.depMatched[t]||s[i]||(getOwn(a,i)?(o.defineDep(t,m[i]),o.check()):n(r,a,s))}),s[e]=!0)}(e,{},{})}),n&&!r||!s||!isBrowser&&!isWebWorker||d||(d=setTimeout(function(){d=0,R()},50)),i=!1}}function a(e){hasProp(m,e[0])||k(S(e[0],null,!0)).init(e[1],e[2])}function o(e,t,i,r){e.detachEvent&&!isOpera?r&&e.detachEvent(r,t):e.removeEventListener(i,t,!1)}function s(e){var t=e.currentTarget||e.srcElement;return o(t,l.onScriptLoad,\"load\",\"onreadystatechange\"),o(t,l.onScriptError,\"error\"),{node:t,id:t&&t.getAttribute(\"data-requiremodule\")}}function T(){var e;for(j();h.length;){if(null===(e=h.shift())[0])return O(makeError(\"mismatch\",\"Mismatched anonymous define() module: \"+e[e.length-1]));a(e)}l.defQueueMap={}}return c={require:function(e){return e.require?e.require:e.require=l.makeRequire(e.map)},exports:function(e){if(e.usingExports=!0,e.map.isDefine)return e.exports?m[e.map.id]=e.exports:e.exports=m[e.map.id]={}},module:function(e){return e.module?e.module:e.module={id:e.map.id,uri:e.map.url,config:function(){return getOwn(g.config,e.map.id)||{}},exports:e.exports||(e.exports={})}}},(e=function(e){this.events=getOwn(r,e.id)||{},this.map=e,this.shim=getOwn(g.shim,e.id),this.depExports=[],this.depMaps=[],this.depMatched=[],this.pluginMaps={},this.depCount=0}).prototype={init:function(e,t,i,r){r=r||{},this.inited||(this.factory=t,i?this.on(\"error\",i):this.events.error&&(i=bind(this,function(e){this.emit(\"error\",e)})),this.depMaps=e&&e.slice(0),this.errback=i,this.inited=!0,this.ignore=r.ignore,r.enabled||this.enabled?this.enable():this.check())},defineDep:function(e,t){this.depMatched[e]||(this.depMatched[e]=!0,this.depCount-=1,this.depExports[e]=t)},fetch:function(){if(!this.fetched){this.fetched=!0,l.startTime=(new Date).getTime();var e=this.map;if(!this.shim)return e.prefix?this.callPlugin():this.load();l.makeRequire(this.map,{enableBuildCallback:!0})(this.shim.deps||[],bind(this,function(){return e.prefix?this.callPlugin():this.load()}))}},load:function(){var e=this.map.url;n[e]||(n[e]=!0,l.load(this.map.id,e))},check:function(){if(this.enabled&&!this.enabling){var t,e,i=this.map.id,r=this.depExports,n=this.exports,o=this.factory;if(this.inited){if(this.error)this.emit(\"error\",this.error);else if(!this.defining){if(this.defining=!0,this.depCount<1&&!this.defined){if(isFunction(o)){if(this.events.error&&this.map.isDefine||req.onError!==defaultOnError)try{n=l.execCb(i,o,r,n)}catch(e){t=e}else n=l.execCb(i,o,r,n);if(this.map.isDefine&&void 0===n&&((e=this.module)?n=e.exports:this.usingExports&&(n=this.exports)),t)return t.requireMap=this.map,t.requireModules=this.map.isDefine?[this.map.id]:null,t.requireType=this.map.isDefine?\"define\":\"require\",O(this.error=t)}else n=o;if(this.exports=n,this.map.isDefine&&!this.ignore&&(m[i]=n,req.onResourceLoad)){var a=[];each(this.depMaps,function(e){a.push(e.normalizedMap||e)}),req.onResourceLoad(l,this.map,a)}P(i),this.defined=!0}this.defining=!1,this.defined&&!this.defineEmitted&&(this.defineEmitted=!0,this.emit(\"defined\",this.exports),this.defineEmitComplete=!0)}}else hasProp(l.defQueueMap,i)||this.fetch()}},callPlugin:function(){var u=this.map,c=u.id,e=S(u.prefix);this.depMaps.push(e),M(e,\"defined\",bind(this,function(e){var o,t,i,r=getOwn(v,this.map.id),n=this.map.name,a=this.map.parentMap?this.map.parentMap.name:null,s=l.makeRequire(u.parentMap,{enableBuildCallback:!0});return this.map.unnormalized?(e.normalize&&(n=e.normalize(n,function(e){return q(e,a,!0)})||\"\"),M(t=S(u.prefix+\"!\"+n,this.map.parentMap,!0),\"defined\",bind(this,function(e){this.map.normalizedMap=t,this.init([],function(){return e},null,{enabled:!0,ignore:!0})})),void((i=getOwn(p,t.id))&&(this.depMaps.push(t),this.events.error&&i.on(\"error\",bind(this,function(e){this.emit(\"error\",e)})),i.enable()))):r?(this.map.url=l.nameToUrl(r),void this.load()):((o=bind(this,function(e){this.init([],function(){return e},null,{enabled:!0})})).error=bind(this,function(e){this.inited=!0,(this.error=e).requireModules=[c],eachProp(p,function(e){0===e.map.id.indexOf(c+\"_unnormalized\")&&P(e.map.id)}),O(e)}),o.fromText=bind(this,function(e,t){var i=u.name,r=S(i),n=useInteractive;t&&(e=t),n&&(useInteractive=!1),k(r),hasProp(g.config,c)&&(g.config[i]=g.config[c]);try{req.exec(e)}catch(e){return O(makeError(\"fromtexteval\",\"fromText eval for \"+c+\" failed: \"+e,e,[c]))}n&&(useInteractive=!0),this.depMaps.push(r),l.completeLoad(i),s([i],o)}),void e.load(u.name,s,o,g))})),l.enable(e,this),this.pluginMaps[e.id]=e},enable:function(){(f[this.map.id]=this).enabled=!0,this.enabling=!0,each(this.depMaps,bind(this,function(e,t){var i,r,n;if(\"string\"==typeof e){if(e=S(e,this.map.isDefine?this.map:this.map.parentMap,!1,!this.skipMap),this.depMaps[t]=e,n=getOwn(c,e.id))return void(this.depExports[t]=n(this));this.depCount+=1,M(e,\"defined\",bind(this,function(e){this.undefed||(this.defineDep(t,e),this.check())})),this.errback?M(e,\"error\",bind(this,this.errback)):this.events.error&&M(e,\"error\",bind(this,function(e){this.emit(\"error\",e)}))}i=e.id,r=p[i],hasProp(c,i)||!r||r.enabled||l.enable(e,this)})),eachProp(this.pluginMaps,bind(this,function(e){var t=getOwn(p,e.id);t&&!t.enabled&&l.enable(e,this)})),this.enabling=!1,this.check()},on:function(e,t){var i=this.events[e];i||(i=this.events[e]=[]),i.push(t)},emit:function(e,t){each(this.events[e],function(e){e(t)}),\"error\"===e&&delete this.events[e]}},(l={config:g,contextName:u,registry:p,defined:m,urlFetched:n,defQueue:h,defQueueMap:{},Module:e,makeModuleMap:S,nextTick:req.nextTick,onError:O,configure:function(e){if(e.baseUrl&&\"/\"!==e.baseUrl.charAt(e.baseUrl.length-1)&&(e.baseUrl+=\"/\"),\"string\"==typeof e.urlArgs){var i=e.urlArgs;e.urlArgs=function(e,t){return(-1===t.indexOf(\"?\")?\"?\":\"&\")+i}}var r=g.shim,n={paths:!0,bundles:!0,config:!0,map:!0};eachProp(e,function(e,t){n[t]?(g[t]||(g[t]={}),mixin(g[t],e,!0,!0)):g[t]=e}),e.bundles&&eachProp(e.bundles,function(e,t){each(e,function(e){e!==t&&(v[e]=t)})}),e.shim&&(eachProp(e.shim,function(e,t){isArray(e)&&(e={deps:e}),!e.exports&&!e.init||e.exportsFn||(e.exportsFn=l.makeShimExports(e)),r[t]=e}),g.shim=r),e.packages&&each(e.packages,function(e){var t;t=(e=\"string\"==typeof e?{name:e}:e).name,e.location&&(g.paths[t]=e.location),g.pkgs[t]=e.name+\"/\"+(e.main||\"main\").replace(currDirRegExp,\"\").replace(jsSuffixRegExp,\"\")}),eachProp(p,function(e,t){e.inited||e.map.unnormalized||(e.map=S(t,null,!0))}),(e.deps||e.callback)&&l.require(e.deps||[],e.callback)},makeShimExports:function(t){return function(){var e;return t.init&&(e=t.init.apply(global,arguments)),e||t.exports&&getGlobal(t.exports)}},makeRequire:function(o,a){function s(e,t,i){var r,n;return a.enableBuildCallback&&t&&isFunction(t)&&(t.__requireJsBuild=!0),\"string\"==typeof e?isFunction(t)?O(makeError(\"requireargs\",\"Invalid require call\"),i):o&&hasProp(c,e)?c[e](p[o.id]):req.get?req.get(l,e,o,s):(r=S(e,o,!1,!0).id,hasProp(m,r)?m[r]:O(makeError(\"notloaded\",'Module name \"'+r+'\" has not been loaded yet for context: '+u+(o?\"\":\". Use require([])\")))):(T(),l.nextTick(function(){T(),(n=k(S(null,o))).skipMap=a.skipMap,n.init(e,t,i,{enabled:!0}),R()}),s)}return a=a||{},mixin(s,{isBrowser:isBrowser,toUrl:function(e){var t,i=e.lastIndexOf(\".\"),r=e.split(\"/\")[0];return-1!==i&&(!(\".\"===r||\"..\"===r)||1<i)&&(t=e.substring(i,e.length),e=e.substring(0,i)),l.nameToUrl(q(e,o&&o.id,!0),t,!0)},defined:function(e){return hasProp(m,S(e,o,!1,!0).id)},specified:function(e){return e=S(e,o,!1,!0).id,hasProp(m,e)||hasProp(p,e)}}),o||(s.undef=function(i){j();var e=S(i,o,!0),t=getOwn(p,i);t.undefed=!0,E(i),delete m[i],delete n[e.url],delete r[i],eachReverse(h,function(e,t){e[0]===i&&h.splice(t,1)}),delete l.defQueueMap[i],t&&(t.events.defined&&(r[i]=t.events),P(i))}),s},enable:function(e){getOwn(p,e.id)&&k(e).enable()},completeLoad:function(e){var t,i,r,n=getOwn(g.shim,e)||{},o=n.exports;for(j();h.length;){if(null===(i=h.shift())[0]){if(i[0]=e,t)break;t=!0}else i[0]===e&&(t=!0);a(i)}if(l.defQueueMap={},r=getOwn(p,e),!t&&!hasProp(m,e)&&r&&!r.inited){if(!(!g.enforceDefine||o&&getGlobal(o)))return w(e)?void 0:O(makeError(\"nodefine\",\"No define call for \"+e,null,[e]));a([e,n.deps||[],n.exportsFn])}R()},nameToUrl:function(e,t,i){var r,n,o,a,s,u,c=getOwn(g.pkgs,e);if(c&&(e=c),u=getOwn(v,e))return l.nameToUrl(u,t,i);if(req.jsExtRegExp.test(e))a=e+(t||\"\");else{for(r=g.paths,o=(n=e.split(\"/\")).length;0<o;o-=1)if(s=getOwn(r,n.slice(0,o).join(\"/\"))){isArray(s)&&(s=s[0]),n.splice(0,o,s);break}a=n.join(\"/\"),a=(\"/\"===(a+=t||(/^data\\:|^blob\\:|\\?/.test(a)||i?\"\":\".js\")).charAt(0)||a.match(/^[\\w\\+\\.\\-]+:/)?\"\":g.baseUrl)+a}return g.urlArgs&&!/^blob\\:/.test(a)?a+g.urlArgs(e,a):a},load:function(e,t){req.load(l,e,t)},execCb:function(e,t,i,r){return t.apply(r,i)},onScriptLoad:function(e){if(\"load\"===e.type||readyRegExp.test((e.currentTarget||e.srcElement).readyState)){interactiveScript=null;var t=s(e);l.completeLoad(t.id)}},onScriptError:function(e){var i=s(e);if(!w(i.id)){var r=[];return eachProp(p,function(e,t){0!==t.indexOf(\"_@r\")&&each(e.depMaps,function(e){if(e.id===i.id)return r.push(t),!0})}),O(makeError(\"scripterror\",'Script error for \"'+i.id+(r.length?'\", needed by: '+r.join(\", \"):'\"'),e,[i.id]))}}}).require=l.makeRequire(),l}function getInteractiveScript(){return interactiveScript&&\"interactive\"===interactiveScript.readyState||eachReverse(scripts(),function(e){if(\"interactive\"===e.readyState)return interactiveScript=e}),interactiveScript}}(this,\"undefined\"==typeof setTimeout?void 0:setTimeout); </script>\n",
       "<script>\n",
       " require.config({\n",
       "   paths: {\n",
       "     'plotly': \"https://cdn.plot.ly/plotly-latest.min\",\n",
       "     'macy': \"https://cdn.jsdelivr.net/npm/macy@2.5.1/dist/macy.min\",\n",
       "     'merge': \"https://unpkg.com/merge-images@2.0.0/dist/index.umd\"\n",
       "   },\n",
       " })\n",
       "require( ['plotly', 'macy', 'merge'], function(Plotly, Macy, mergeImages) {\n",
       " window.Plotly = Plotly;\n",
       " window.Macy = Macy;\n",
       " window.mergeImages = mergeImages;\n",
       "})\n",
       "</script>\n"
      ]
     },
     "metadata": {},
     "output_type": "display_data"
    },
    {
     "data": {
      "text/plain": [
       "\u001b[32mimport \u001b[39m\u001b[36morg.carbonateresearch.picta.render.Html.initNotebook // required to initialize jupyter notebook mode\n",
       "\u001b[39m"
      ]
     },
     "execution_count": 3,
     "metadata": {},
     "output_type": "execute_result"
    }
   ],
   "source": [
    "import org.carbonateresearch.picta.render.Html.initNotebook // required to initialize jupyter notebook mode\n",
    "initNotebook() // stops ugly output"
   ]
  },
  {
   "cell_type": "markdown",
   "metadata": {},
   "source": [
    "# 1. Basics\n",
    "\n",
    "The aim of the Picta library is to be a highly configurable and composable charting library for data exploration. The library takes a grammatical approach to chart construction. \n",
    "\n",
    "The following examples are aimed at demonstrating the libraries capabilities, and eventually make constructing charts using this library easy and intuitive."
   ]
  },
  {
   "cell_type": "markdown",
   "metadata": {},
   "source": [
    "### Main Components\n",
    "\n",
    "Picta graphs are constructed in a modular manner. The main components are:\n",
    "\n",
    "1. `Canvas`: This is is the top-level component for representing the display. A `Canvas` may consist of multiple charts.\n",
    "\n",
    "\n",
    "2. `Chart`: This is the component that corresponds to an actual chart (i.e. scatter, pie etc).\n",
    "\n",
    "\n",
    "3. `Series`: This is the data series that is plotted on a `Chart`. `Series` come in 3 types:\n",
    "\n",
    "    - `XY`:   This is series data for constructing a 2D chart\n",
    "    - `XYZ`:  This is series data for constructing a 3D chart\n",
    "    - `Map`:  This is series data that constructs a Map chart\n",
    "    \n",
    "\n",
    "4. `ChartLayout`: This configures various parts of how the `Chart` is represented on screen.\n",
    "\n",
    "`Chart` may occassionally also make use of the `Config` component for further configuration. `Config` specifies whether the plot is responsive.\n",
    "\n",
    "The following examples in this notebook should provide a number of interactive examples to get used to the Picta library."
   ]
  },
  {
   "cell_type": "markdown",
   "metadata": {},
   "source": [
    "### Importing the Library\n",
    "\n",
    "Importing as below should bring in the most frequently used Components in the library."
   ]
  },
  {
   "cell_type": "code",
   "execution_count": 4,
   "metadata": {},
   "outputs": [],
   "source": [
    "import org.carbonateresearch.picta._"
   ]
  },
  {
   "cell_type": "markdown",
   "metadata": {},
   "source": [
    "### Create Some Dummy Data to Use in the Examples\n",
    "\n",
    "Here we create some dummy data to be used in the examples for this notebook."
   ]
  },
  {
   "cell_type": "code",
   "execution_count": 5,
   "metadata": {},
   "outputs": [],
   "source": [
    "val x = List.range(0, 100).map(x => scala.util.Random.nextDouble() * 50)\n",
    "val y = List.range(0, 100).map(x => scala.util.Random.nextDouble() * 50)\n",
    "val z = List.range(0, 100).map(x => scala.util.Random.nextDouble() * 50)"
   ]
  },
  {
   "cell_type": "markdown",
   "metadata": {},
   "source": [
    "### 2D Plots\n",
    "\n",
    "`Series` that represent 2D data are represented by `XY` series types.\n",
    "\n",
    "\n",
    "#### Scatter Plot\n",
    "\n",
    "An example `Scatter` plot is below. \n",
    "\n",
    "Note: This is just one way to call the library functions. Another way that uses function chaining will be shown immediately after this example."
   ]
  },
  {
   "cell_type": "code",
   "execution_count": 6,
   "metadata": {},
   "outputs": [
    {
     "data": {
      "text/html": [
       "<div id=\"grid-container_qcnc2GbZoX\" class=\"grid-container\" align=\"center\"> \n",
       "<div id=\"grid_qcnc2GbZoX\" class=\"grid\" align=\"center\"> \n",
       "<div id=\"graph_6EqtPcY5bw\" class=\"graph\"></div> \n",
       "</div> \n",
       "</div> \n",
       "<script>\n",
       "var masonry = new Macy({\n",
       "    container: '#grid_qcnc2GbZoX',\n",
       "    debug: true,\n",
       "    mobileFirst: true,\n",
       "    columns: 1,\n",
       "    margin: {\n",
       "        x: 0,\n",
       "        y: 0\n",
       "    }\n",
       "  });\n",
       "\n",
       "  var traces_6EqtPcY5bw = [{\"name\":\"jL43DliwEt\",\"type\":\"scatter\",\"mode\":\"markers\",\"x\":[2.0177549645193746,42.28169843028757,39.509966534059004,29.328378560431766,35.99166921689989,4.571299427807496,38.2021711226861,27.41911889270726,0.1138119400223847,3.3651345731753546,7.17094351355152,15.940613560623063,13.070233335569126,17.21197607693054,19.34595434477764,4.513732900264861,21.675708999046527,43.08024635419282,49.9861428988206,26.56760376468334,34.15562070721729,39.44882961990983,35.578936381218305,2.634137283607396,21.931264505168052,31.032196551136877,38.15466926594694,35.15371660250351,48.65645176595696,38.19676347125317,11.7767648980931,1.6820044947098933,38.23178377063439,31.869598637712826,6.1030009362352535,42.5382132053877,29.313986686394372,47.79717785074549,37.860452297885985,38.398063795766774,32.44122215307396,22.381080911036893,14.836459494192827,43.11007568765268,7.311312201083653,35.99911497967941,8.56025726878027,27.101695300656743,11.978288978465523,18.71453391787093,41.23463931398336,47.14215448769848,42.7737666541424,37.58262433371785,29.67431669756747,38.941892591726315,33.61307337316282,44.38310431114246,14.017383439124131,30.093693358733827,16.01215540969235,17.538396275913083,41.79858681691713,42.198632968756385,6.619747942060589,32.2219880237549,28.60783497698905,42.670312137346784,37.360332016853114,38.21773642152863,25.004668290243586,18.67372065027315,24.386916847065816,15.960098184699062,35.61916711669183,27.93048960641391,35.95869985765588,17.366936136239897,10.44205734111574,33.710178864441815,16.08716310537303,29.57065805676739,10.191510128570009,4.227619502486613,0.33520111143744424,26.46011040177297,37.341414394252304,49.879240876014066,22.50736724964299,45.06479106812101,21.905684041779622,35.27670023807071,6.135354840133045,41.24455286262197,6.395380786648547,36.87400433816796,12.641351051996546,41.892164550004495,37.50025647580812,21.134726546060357],\"y\":[28.852896499396152,18.912681895607626,42.99352942794158,42.6488127992851,20.14641808139389,13.612754409980848,1.118519793783379,6.383828343052144,1.9126056394086544,38.81463682914312,46.28800269283109,3.343434341439422,41.26533846331758,30.003782510104465,49.31193052271516,14.306241782606877,42.95685063098085,6.125584370395881,12.56640293556579,32.03108292671991,48.31536563007778,35.265911488268856,30.52658769968249,28.340157422655786,33.68744872920447,30.38180144526288,33.90849151701585,38.82935950621304,35.345816411909745,25.49272904810833,11.299302402329081,4.6055219099510545,1.1143766432516855,3.299588921412661,35.603266577218925,47.41317523157375,25.065801884653105,11.06761055350971,13.889819848990054,11.788835498054134,10.562902729964197,12.791095457827705,28.302982521971508,35.46870141398509,28.64366155833768,32.152011697151956,42.57577352143116,7.1760385655681045,43.290712115141226,42.59109142246821,13.390667672779244,39.12743949034483,12.479660382787882,7.929251394394382,18.33690699102084,20.12251194224321,44.06657015566742,19.408776219310248,42.53769895091854,23.91944260296307,38.55352015355129,12.767850455505469,4.155152214542024,26.749294267945483,36.56210858490554,32.01866753454695,44.9280179846004,37.284768269035155,7.448335481037588,34.96848879525623,15.657110038747735,12.154541564646754,16.90826895115314,9.204644294805874,48.125518825253444,20.182224666083293,45.65245149410878,36.25864785045707,24.325497465480534,28.929315482619582,48.267997004813765,5.9711951999324775,31.06119724985255,17.83446654030239,41.240854558594094,42.698987180888196,23.006134611079087,23.266752595614555,41.77672376166901,9.935945740779811,10.116613069464787,42.14850438159053,44.537637163222236,10.165533472602267,35.93701914808544,12.453688167687465,21.702210879153718,42.317526367896335,21.780222265855315,0.8506951656575779]}];\n",
       " var layout_6EqtPcY5bw = {\"height\":550,\"width\":600,\"hovermode\":\"closest\",\"title\":{\"text\":\"First Chart\"},\"showlegend\":true};\n",
       " var config_6EqtPcY5bw = {\"responsive\":true,\"scrollZoom\":true,\"displaylogo\":false};\n",
       " Plotly.newPlot(\"graph_6EqtPcY5bw\", traces_6EqtPcY5bw, layout_6EqtPcY5bw, config_6EqtPcY5bw);\n",
       "</script> \n"
      ]
     },
     "metadata": {},
     "output_type": "display_data"
    }
   ],
   "source": [
    "// create the data series using the data from above\n",
    "// 'asType SCATTER' transforms the series into a scatter chart\n",
    "// 'drawStyle Markers' specifies the style of the markers the chart should have\n",
    "// if a name is not provided to the series, Picta generates a random name to help keep track of the series in charts\n",
    "// multiple series.\n",
    "val series = XY(x, y) asType SCATTER drawStyle MARKERS\n",
    "\n",
    "// create a chart by adding to it a data series. We set the title as 'First Chart'\n",
    "val chart = Chart() addSeries series setTitle \"First Chart\"\n",
    "\n",
    "// if we have a single chart, then we do not need to use the Canvas and can simply call chart.plot\n",
    "chart.plotInline"
   ]
  },
  {
   "cell_type": "markdown",
   "metadata": {},
   "source": [
    "### Simple costumization\n",
    "This plot is nice, but could use some simple costumization to make it more attractive. First, the data series does not have a name and so the legend come with a generated arbitrary name (not very useful). Second, the X and Y axis don't have labels. Let's fix that."
   ]
  },
  {
   "cell_type": "code",
   "execution_count": 7,
   "metadata": {},
   "outputs": [
    {
     "data": {
      "text/html": [
       "<div id=\"grid-container_Ve8zTQ0JPU\" class=\"grid-container\" align=\"center\"> \n",
       "<div id=\"grid_Ve8zTQ0JPU\" class=\"grid\" align=\"center\"> \n",
       "<div id=\"graph_GFsjHV1LVC\" class=\"graph\"></div> \n",
       "</div> \n",
       "</div> \n",
       "<script>\n",
       "var masonry = new Macy({\n",
       "    container: '#grid_Ve8zTQ0JPU',\n",
       "    debug: true,\n",
       "    mobileFirst: true,\n",
       "    columns: 1,\n",
       "    margin: {\n",
       "        x: 0,\n",
       "        y: 0\n",
       "    }\n",
       "  });\n",
       "\n",
       "  var traces_GFsjHV1LVC = [{\"name\":\"x vs y\",\"type\":\"scatter\",\"mode\":\"markers\",\"x\":[2.0177549645193746,42.28169843028757,39.509966534059004,29.328378560431766,35.99166921689989,4.571299427807496,38.2021711226861,27.41911889270726,0.1138119400223847,3.3651345731753546,7.17094351355152,15.940613560623063,13.070233335569126,17.21197607693054,19.34595434477764,4.513732900264861,21.675708999046527,43.08024635419282,49.9861428988206,26.56760376468334,34.15562070721729,39.44882961990983,35.578936381218305,2.634137283607396,21.931264505168052,31.032196551136877,38.15466926594694,35.15371660250351,48.65645176595696,38.19676347125317,11.7767648980931,1.6820044947098933,38.23178377063439,31.869598637712826,6.1030009362352535,42.5382132053877,29.313986686394372,47.79717785074549,37.860452297885985,38.398063795766774,32.44122215307396,22.381080911036893,14.836459494192827,43.11007568765268,7.311312201083653,35.99911497967941,8.56025726878027,27.101695300656743,11.978288978465523,18.71453391787093,41.23463931398336,47.14215448769848,42.7737666541424,37.58262433371785,29.67431669756747,38.941892591726315,33.61307337316282,44.38310431114246,14.017383439124131,30.093693358733827,16.01215540969235,17.538396275913083,41.79858681691713,42.198632968756385,6.619747942060589,32.2219880237549,28.60783497698905,42.670312137346784,37.360332016853114,38.21773642152863,25.004668290243586,18.67372065027315,24.386916847065816,15.960098184699062,35.61916711669183,27.93048960641391,35.95869985765588,17.366936136239897,10.44205734111574,33.710178864441815,16.08716310537303,29.57065805676739,10.191510128570009,4.227619502486613,0.33520111143744424,26.46011040177297,37.341414394252304,49.879240876014066,22.50736724964299,45.06479106812101,21.905684041779622,35.27670023807071,6.135354840133045,41.24455286262197,6.395380786648547,36.87400433816796,12.641351051996546,41.892164550004495,37.50025647580812,21.134726546060357],\"y\":[28.852896499396152,18.912681895607626,42.99352942794158,42.6488127992851,20.14641808139389,13.612754409980848,1.118519793783379,6.383828343052144,1.9126056394086544,38.81463682914312,46.28800269283109,3.343434341439422,41.26533846331758,30.003782510104465,49.31193052271516,14.306241782606877,42.95685063098085,6.125584370395881,12.56640293556579,32.03108292671991,48.31536563007778,35.265911488268856,30.52658769968249,28.340157422655786,33.68744872920447,30.38180144526288,33.90849151701585,38.82935950621304,35.345816411909745,25.49272904810833,11.299302402329081,4.6055219099510545,1.1143766432516855,3.299588921412661,35.603266577218925,47.41317523157375,25.065801884653105,11.06761055350971,13.889819848990054,11.788835498054134,10.562902729964197,12.791095457827705,28.302982521971508,35.46870141398509,28.64366155833768,32.152011697151956,42.57577352143116,7.1760385655681045,43.290712115141226,42.59109142246821,13.390667672779244,39.12743949034483,12.479660382787882,7.929251394394382,18.33690699102084,20.12251194224321,44.06657015566742,19.408776219310248,42.53769895091854,23.91944260296307,38.55352015355129,12.767850455505469,4.155152214542024,26.749294267945483,36.56210858490554,32.01866753454695,44.9280179846004,37.284768269035155,7.448335481037588,34.96848879525623,15.657110038747735,12.154541564646754,16.90826895115314,9.204644294805874,48.125518825253444,20.182224666083293,45.65245149410878,36.25864785045707,24.325497465480534,28.929315482619582,48.267997004813765,5.9711951999324775,31.06119724985255,17.83446654030239,41.240854558594094,42.698987180888196,23.006134611079087,23.266752595614555,41.77672376166901,9.935945740779811,10.116613069464787,42.14850438159053,44.537637163222236,10.165533472602267,35.93701914808544,12.453688167687465,21.702210879153718,42.317526367896335,21.780222265855315,0.8506951656575779]}];\n",
       " var layout_GFsjHV1LVC = {\"height\":550,\"width\":600,\"hovermode\":\"closest\",\"title\":{\"text\":\"Chart with custom axis and label\"},\"showlegend\":true,\"xaxis\":{\"title\":{\"text\":\"X values\"},\"showgrid\":true,\"zeroline\":false,\"showline\":false},\"yaxis\":{\"title\":{\"text\":\"Y values\"},\"showgrid\":true,\"zeroline\":false,\"showline\":false}};\n",
       " var config_GFsjHV1LVC = {\"responsive\":true,\"scrollZoom\":true,\"displaylogo\":false};\n",
       " Plotly.newPlot(\"graph_GFsjHV1LVC\", traces_GFsjHV1LVC, layout_GFsjHV1LVC, config_GFsjHV1LVC);\n",
       "</script> \n"
      ]
     },
     "metadata": {},
     "output_type": "display_data"
    }
   ],
   "source": [
    "val series = XY(x, y) asType SCATTER drawStyle MARKERS setName(\"x vs y\") // Using 'setName' gives a name to our series \n",
    "\n",
    "// Note the use of the setXAxisTitle and setYAxisTitle compared to above\n",
    "val chart = Chart() addSeries series setTitle \"Chart with custom axis and label\" setXAxisTitle(\"X values\") setYAxisTitle(\"Y values\")\n",
    "\n",
    "chart.plotInline"
   ]
  },
  {
   "cell_type": "markdown",
   "metadata": {},
   "source": [
    "#### Chaining Functions using the '.dot' notation\n",
    "\n",
    "Sometimes when we are specifying many options, it is quicker to use the IDE autocomplete and just chain the function calls using the familiar '.dot' notation. Throughout this book both the style above and the function chaining style will be used as and when convenient."
   ]
  },
  {
   "cell_type": "code",
   "execution_count": 8,
   "metadata": {},
   "outputs": [
    {
     "data": {
      "text/html": [
       "<div id=\"grid-container_25v03W74dE\" class=\"grid-container\" align=\"center\"> \n",
       "<div id=\"grid_25v03W74dE\" class=\"grid\" align=\"center\"> \n",
       "<div id=\"graph_GkrKoynQdb\" class=\"graph\"></div> \n",
       "</div> \n",
       "</div> \n",
       "<script>\n",
       "var masonry = new Macy({\n",
       "    container: '#grid_25v03W74dE',\n",
       "    debug: true,\n",
       "    mobileFirst: true,\n",
       "    columns: 1,\n",
       "    margin: {\n",
       "        x: 0,\n",
       "        y: 0\n",
       "    }\n",
       "  });\n",
       "\n",
       "  var traces_GkrKoynQdb = [{\"name\":\"Chained xy\",\"type\":\"scatter\",\"mode\":\"markers\",\"x\":[2.0177549645193746,42.28169843028757,39.509966534059004,29.328378560431766,35.99166921689989,4.571299427807496,38.2021711226861,27.41911889270726,0.1138119400223847,3.3651345731753546,7.17094351355152,15.940613560623063,13.070233335569126,17.21197607693054,19.34595434477764,4.513732900264861,21.675708999046527,43.08024635419282,49.9861428988206,26.56760376468334,34.15562070721729,39.44882961990983,35.578936381218305,2.634137283607396,21.931264505168052,31.032196551136877,38.15466926594694,35.15371660250351,48.65645176595696,38.19676347125317,11.7767648980931,1.6820044947098933,38.23178377063439,31.869598637712826,6.1030009362352535,42.5382132053877,29.313986686394372,47.79717785074549,37.860452297885985,38.398063795766774,32.44122215307396,22.381080911036893,14.836459494192827,43.11007568765268,7.311312201083653,35.99911497967941,8.56025726878027,27.101695300656743,11.978288978465523,18.71453391787093,41.23463931398336,47.14215448769848,42.7737666541424,37.58262433371785,29.67431669756747,38.941892591726315,33.61307337316282,44.38310431114246,14.017383439124131,30.093693358733827,16.01215540969235,17.538396275913083,41.79858681691713,42.198632968756385,6.619747942060589,32.2219880237549,28.60783497698905,42.670312137346784,37.360332016853114,38.21773642152863,25.004668290243586,18.67372065027315,24.386916847065816,15.960098184699062,35.61916711669183,27.93048960641391,35.95869985765588,17.366936136239897,10.44205734111574,33.710178864441815,16.08716310537303,29.57065805676739,10.191510128570009,4.227619502486613,0.33520111143744424,26.46011040177297,37.341414394252304,49.879240876014066,22.50736724964299,45.06479106812101,21.905684041779622,35.27670023807071,6.135354840133045,41.24455286262197,6.395380786648547,36.87400433816796,12.641351051996546,41.892164550004495,37.50025647580812,21.134726546060357],\"y\":[28.852896499396152,18.912681895607626,42.99352942794158,42.6488127992851,20.14641808139389,13.612754409980848,1.118519793783379,6.383828343052144,1.9126056394086544,38.81463682914312,46.28800269283109,3.343434341439422,41.26533846331758,30.003782510104465,49.31193052271516,14.306241782606877,42.95685063098085,6.125584370395881,12.56640293556579,32.03108292671991,48.31536563007778,35.265911488268856,30.52658769968249,28.340157422655786,33.68744872920447,30.38180144526288,33.90849151701585,38.82935950621304,35.345816411909745,25.49272904810833,11.299302402329081,4.6055219099510545,1.1143766432516855,3.299588921412661,35.603266577218925,47.41317523157375,25.065801884653105,11.06761055350971,13.889819848990054,11.788835498054134,10.562902729964197,12.791095457827705,28.302982521971508,35.46870141398509,28.64366155833768,32.152011697151956,42.57577352143116,7.1760385655681045,43.290712115141226,42.59109142246821,13.390667672779244,39.12743949034483,12.479660382787882,7.929251394394382,18.33690699102084,20.12251194224321,44.06657015566742,19.408776219310248,42.53769895091854,23.91944260296307,38.55352015355129,12.767850455505469,4.155152214542024,26.749294267945483,36.56210858490554,32.01866753454695,44.9280179846004,37.284768269035155,7.448335481037588,34.96848879525623,15.657110038747735,12.154541564646754,16.90826895115314,9.204644294805874,48.125518825253444,20.182224666083293,45.65245149410878,36.25864785045707,24.325497465480534,28.929315482619582,48.267997004813765,5.9711951999324775,31.06119724985255,17.83446654030239,41.240854558594094,42.698987180888196,23.006134611079087,23.266752595614555,41.77672376166901,9.935945740779811,10.116613069464787,42.14850438159053,44.537637163222236,10.165533472602267,35.93701914808544,12.453688167687465,21.702210879153718,42.317526367896335,21.780222265855315,0.8506951656575779]}];\n",
       " var layout_GkrKoynQdb = {\"height\":550,\"width\":600,\"hovermode\":\"closest\",\"title\":{\"text\":\"Using Function Chaining\"},\"showlegend\":true,\"xaxis\":{\"showgrid\":true,\"zeroline\":false,\"showline\":false},\"yaxis\":{\"showgrid\":true,\"zeroline\":false,\"showline\":false}};\n",
       " var config_GkrKoynQdb = {\"responsive\":true,\"scrollZoom\":true,\"displaylogo\":false};\n",
       " Plotly.newPlot(\"graph_GkrKoynQdb\", traces_GkrKoynQdb, layout_GkrKoynQdb, config_GkrKoynQdb);\n",
       "</script> \n"
      ]
     },
     "metadata": {},
     "output_type": "display_data"
    }
   ],
   "source": [
    "// sometimes we may specify many options. In such cases it is clearer to use function chaining as below:\n",
    "val series = XY(x, y)\n",
    "            .asType(SCATTER)\n",
    "            .setName(\"Chained xy\")\n",
    "            .drawMarkers  // This is to help leverage the IDE autocompletion for quick scripting. Tap 'tab' twice to see options.\n",
    "\n",
    "val chart = Chart()\n",
    "            .addSeries(series)\n",
    "            .setTitle(\"Using Function Chaining\")\n",
    "            // by specifying and X and Y axes we can give more rid of the zerolines\n",
    "            .addAxes(Axis(X ,zeroline = false), Axis(Y ,zeroline = false)) \n",
    "\n",
    "chart.plotInline"
   ]
  },
  {
   "cell_type": "markdown",
   "metadata": {},
   "source": [
    "#### Bar Chart\n",
    "\n",
    "Now using the same principles as above, let's create a `Bar` chart:"
   ]
  },
  {
   "cell_type": "code",
   "execution_count": 9,
   "metadata": {},
   "outputs": [
    {
     "data": {
      "text/html": [
       "<div id=\"grid-container_jsSE97kgui\" class=\"grid-container\" align=\"center\"> \n",
       "<div id=\"grid_jsSE97kgui\" class=\"grid\" align=\"center\"> \n",
       "<div id=\"graph_sOJy1MYoPz\" class=\"graph\"></div> \n",
       "</div> \n",
       "</div> \n",
       "<script>\n",
       "var masonry = new Macy({\n",
       "    container: '#grid_jsSE97kgui',\n",
       "    debug: true,\n",
       "    mobileFirst: true,\n",
       "    columns: 1,\n",
       "    margin: {\n",
       "        x: 0,\n",
       "        y: 0\n",
       "    }\n",
       "  });\n",
       "\n",
       "  var traces_sOJy1MYoPz = [{\"name\":\"My data\",\"type\":\"bar\",\"x\":[\"a\",\"b\",\"c\"],\"y\":[10,20,300]}];\n",
       " var layout_sOJy1MYoPz = {\"height\":550,\"width\":600,\"hovermode\":\"closest\",\"title\":{\"text\":\"Bar Chart\"},\"showlegend\":true};\n",
       " var config_sOJy1MYoPz = {\"responsive\":false,\"scrollZoom\":false,\"displaylogo\":false};\n",
       " Plotly.newPlot(\"graph_sOJy1MYoPz\", traces_sOJy1MYoPz, layout_sOJy1MYoPz, config_sOJy1MYoPz);\n",
       "</script> \n"
      ]
     },
     "metadata": {},
     "output_type": "display_data"
    }
   ],
   "source": [
    "// First we create some data for the piechart\n",
    "val x_bar = List(\"a\", \"b\", \"c\")\n",
    "val y_bar = List(10, 20, 300)\n",
    "\n",
    "// again feed in the data that we want to represent as a Bar chart.\n",
    "// Notice how we change 'asType SCATTER' to 'asType BAR'\n",
    "val series = XY(x_bar, y_bar) asType BAR setName(\"My data\")\n",
    "\n",
    "// we can turn off the scrollzoom using setConfig\n",
    "val chart = Chart() addSeries series setTitle \"Bar Chart\" setConfig(false, false)\n",
    "\n",
    "chart.plotInline"
   ]
  },
  {
   "cell_type": "markdown",
   "metadata": {},
   "source": [
    "#### Adding Multiple Series on the Same Axis\n",
    "\n",
    "Sometimes we may want to plot multiple `Series` on the same axis to compare different data series.\n",
    "\n",
    "Let's plot both of the above on the same pair of axis:"
   ]
  },
  {
   "cell_type": "code",
   "execution_count": 10,
   "metadata": {},
   "outputs": [],
   "source": [
    "// we import the marker option which lets us specify the marker\n",
    "import org.carbonateresearch.picta.options.Marker\n",
    "import org.carbonateresearch.picta.SymbolShape._"
   ]
  },
  {
   "cell_type": "code",
   "execution_count": 11,
   "metadata": {},
   "outputs": [
    {
     "data": {
      "text/html": [
       "<div id=\"grid-container_gDiTfMH0t4\" class=\"grid-container\" align=\"center\"> \n",
       "<div id=\"grid_gDiTfMH0t4\" class=\"grid\" align=\"center\"> \n",
       "<div id=\"graph_A8yW1fNz3d\" class=\"graph\"></div> \n",
       "</div> \n",
       "</div> \n",
       "<script>\n",
       "var masonry = new Macy({\n",
       "    container: '#grid_gDiTfMH0t4',\n",
       "    debug: true,\n",
       "    mobileFirst: true,\n",
       "    columns: 1,\n",
       "    margin: {\n",
       "        x: 0,\n",
       "        y: 0\n",
       "    }\n",
       "  });\n",
       "\n",
       "  var traces_A8yW1fNz3d = [{\"name\":\"Bar\",\"type\":\"bar\",\"x\":[2.0177549645193746,42.28169843028757,39.509966534059004,29.328378560431766,35.99166921689989,4.571299427807496,38.2021711226861,27.41911889270726,0.1138119400223847,3.3651345731753546,7.17094351355152,15.940613560623063,13.070233335569126,17.21197607693054,19.34595434477764,4.513732900264861,21.675708999046527,43.08024635419282,49.9861428988206,26.56760376468334,34.15562070721729,39.44882961990983,35.578936381218305,2.634137283607396,21.931264505168052,31.032196551136877,38.15466926594694,35.15371660250351,48.65645176595696,38.19676347125317,11.7767648980931,1.6820044947098933,38.23178377063439,31.869598637712826,6.1030009362352535,42.5382132053877,29.313986686394372,47.79717785074549,37.860452297885985,38.398063795766774,32.44122215307396,22.381080911036893,14.836459494192827,43.11007568765268,7.311312201083653,35.99911497967941,8.56025726878027,27.101695300656743,11.978288978465523,18.71453391787093,41.23463931398336,47.14215448769848,42.7737666541424,37.58262433371785,29.67431669756747,38.941892591726315,33.61307337316282,44.38310431114246,14.017383439124131,30.093693358733827,16.01215540969235,17.538396275913083,41.79858681691713,42.198632968756385,6.619747942060589,32.2219880237549,28.60783497698905,42.670312137346784,37.360332016853114,38.21773642152863,25.004668290243586,18.67372065027315,24.386916847065816,15.960098184699062,35.61916711669183,27.93048960641391,35.95869985765588,17.366936136239897,10.44205734111574,33.710178864441815,16.08716310537303,29.57065805676739,10.191510128570009,4.227619502486613,0.33520111143744424,26.46011040177297,37.341414394252304,49.879240876014066,22.50736724964299,45.06479106812101,21.905684041779622,35.27670023807071,6.135354840133045,41.24455286262197,6.395380786648547,36.87400433816796,12.641351051996546,41.892164550004495,37.50025647580812,21.134726546060357],\"y\":[28.852896499396152,18.912681895607626,42.99352942794158,42.6488127992851,20.14641808139389,13.612754409980848,1.118519793783379,6.383828343052144,1.9126056394086544,38.81463682914312,46.28800269283109,3.343434341439422,41.26533846331758,30.003782510104465,49.31193052271516,14.306241782606877,42.95685063098085,6.125584370395881,12.56640293556579,32.03108292671991,48.31536563007778,35.265911488268856,30.52658769968249,28.340157422655786,33.68744872920447,30.38180144526288,33.90849151701585,38.82935950621304,35.345816411909745,25.49272904810833,11.299302402329081,4.6055219099510545,1.1143766432516855,3.299588921412661,35.603266577218925,47.41317523157375,25.065801884653105,11.06761055350971,13.889819848990054,11.788835498054134,10.562902729964197,12.791095457827705,28.302982521971508,35.46870141398509,28.64366155833768,32.152011697151956,42.57577352143116,7.1760385655681045,43.290712115141226,42.59109142246821,13.390667672779244,39.12743949034483,12.479660382787882,7.929251394394382,18.33690699102084,20.12251194224321,44.06657015566742,19.408776219310248,42.53769895091854,23.91944260296307,38.55352015355129,12.767850455505469,4.155152214542024,26.749294267945483,36.56210858490554,32.01866753454695,44.9280179846004,37.284768269035155,7.448335481037588,34.96848879525623,15.657110038747735,12.154541564646754,16.90826895115314,9.204644294805874,48.125518825253444,20.182224666083293,45.65245149410878,36.25864785045707,24.325497465480534,28.929315482619582,48.267997004813765,5.9711951999324775,31.06119724985255,17.83446654030239,41.240854558594094,42.698987180888196,23.006134611079087,23.266752595614555,41.77672376166901,9.935945740779811,10.116613069464787,42.14850438159053,44.537637163222236,10.165533472602267,35.93701914808544,12.453688167687465,21.702210879153718,42.317526367896335,21.780222265855315,0.8506951656575779]},{\"name\":\"Scatter\",\"type\":\"scatter\",\"mode\":\"markers\",\"marker\":{\"symbol\":\"square-open\",\"color\":\"red\"},\"x\":[2.0177549645193746,42.28169843028757,39.509966534059004,29.328378560431766,35.99166921689989,4.571299427807496,38.2021711226861,27.41911889270726,0.1138119400223847,3.3651345731753546,7.17094351355152,15.940613560623063,13.070233335569126,17.21197607693054,19.34595434477764,4.513732900264861,21.675708999046527,43.08024635419282,49.9861428988206,26.56760376468334,34.15562070721729,39.44882961990983,35.578936381218305,2.634137283607396,21.931264505168052,31.032196551136877,38.15466926594694,35.15371660250351,48.65645176595696,38.19676347125317,11.7767648980931,1.6820044947098933,38.23178377063439,31.869598637712826,6.1030009362352535,42.5382132053877,29.313986686394372,47.79717785074549,37.860452297885985,38.398063795766774,32.44122215307396,22.381080911036893,14.836459494192827,43.11007568765268,7.311312201083653,35.99911497967941,8.56025726878027,27.101695300656743,11.978288978465523,18.71453391787093,41.23463931398336,47.14215448769848,42.7737666541424,37.58262433371785,29.67431669756747,38.941892591726315,33.61307337316282,44.38310431114246,14.017383439124131,30.093693358733827,16.01215540969235,17.538396275913083,41.79858681691713,42.198632968756385,6.619747942060589,32.2219880237549,28.60783497698905,42.670312137346784,37.360332016853114,38.21773642152863,25.004668290243586,18.67372065027315,24.386916847065816,15.960098184699062,35.61916711669183,27.93048960641391,35.95869985765588,17.366936136239897,10.44205734111574,33.710178864441815,16.08716310537303,29.57065805676739,10.191510128570009,4.227619502486613,0.33520111143744424,26.46011040177297,37.341414394252304,49.879240876014066,22.50736724964299,45.06479106812101,21.905684041779622,35.27670023807071,6.135354840133045,41.24455286262197,6.395380786648547,36.87400433816796,12.641351051996546,41.892164550004495,37.50025647580812,21.134726546060357],\"y\":[28.852896499396152,18.912681895607626,42.99352942794158,42.6488127992851,20.14641808139389,13.612754409980848,1.118519793783379,6.383828343052144,1.9126056394086544,38.81463682914312,46.28800269283109,3.343434341439422,41.26533846331758,30.003782510104465,49.31193052271516,14.306241782606877,42.95685063098085,6.125584370395881,12.56640293556579,32.03108292671991,48.31536563007778,35.265911488268856,30.52658769968249,28.340157422655786,33.68744872920447,30.38180144526288,33.90849151701585,38.82935950621304,35.345816411909745,25.49272904810833,11.299302402329081,4.6055219099510545,1.1143766432516855,3.299588921412661,35.603266577218925,47.41317523157375,25.065801884653105,11.06761055350971,13.889819848990054,11.788835498054134,10.562902729964197,12.791095457827705,28.302982521971508,35.46870141398509,28.64366155833768,32.152011697151956,42.57577352143116,7.1760385655681045,43.290712115141226,42.59109142246821,13.390667672779244,39.12743949034483,12.479660382787882,7.929251394394382,18.33690699102084,20.12251194224321,44.06657015566742,19.408776219310248,42.53769895091854,23.91944260296307,38.55352015355129,12.767850455505469,4.155152214542024,26.749294267945483,36.56210858490554,32.01866753454695,44.9280179846004,37.284768269035155,7.448335481037588,34.96848879525623,15.657110038747735,12.154541564646754,16.90826895115314,9.204644294805874,48.125518825253444,20.182224666083293,45.65245149410878,36.25864785045707,24.325497465480534,28.929315482619582,48.267997004813765,5.9711951999324775,31.06119724985255,17.83446654030239,41.240854558594094,42.698987180888196,23.006134611079087,23.266752595614555,41.77672376166901,9.935945740779811,10.116613069464787,42.14850438159053,44.537637163222236,10.165533472602267,35.93701914808544,12.453688167687465,21.702210879153718,42.317526367896335,21.780222265855315,0.8506951656575779]}];\n",
       " var layout_A8yW1fNz3d = {\"height\":550,\"width\":600,\"hovermode\":\"closest\",\"title\":{\"text\":\"Multiple series on one chart\"},\"showlegend\":true};\n",
       " var config_A8yW1fNz3d = {\"responsive\":true,\"scrollZoom\":true,\"displaylogo\":false};\n",
       " Plotly.newPlot(\"graph_A8yW1fNz3d\", traces_A8yW1fNz3d, layout_A8yW1fNz3d, config_A8yW1fNz3d);\n",
       "</script> \n"
      ]
     },
     "metadata": {},
     "output_type": "display_data"
    }
   ],
   "source": [
    "// additional traces can simply be composed with an existing chart and added on\n",
    "val series1 = XY(x, y) asType BAR setName \"Bar\"\n",
    "\n",
    "// lets give the second series a red marker. Again we can 'compose' a marker using smaller components\n",
    "val marker = Marker() setSymbol SQUARE_OPEN setColor \"red\"\n",
    "\n",
    "val series2 = XY(x, y) asType SCATTER setName \"Scatter\" drawStyle MARKERS setMarker marker\n",
    "\n",
    "// we not put brackets in the 'addSeries' function to ensure that addSeries picks up the right series'\n",
    "val chart = Chart() addSeries(series1, series2) setTitle(\"Multiple series on one chart\")\n",
    "\n",
    "chart.plotInline"
   ]
  },
  {
   "cell_type": "markdown",
   "metadata": {},
   "source": [
    "### Lets Change The Appearance of The Markers\n",
    "\n",
    "We can control the appearance of the markers by setting the width"
   ]
  },
  {
   "cell_type": "code",
   "execution_count": 12,
   "metadata": {},
   "outputs": [
    {
     "data": {
      "text/html": [
       "<div id=\"grid-container_wo94ajx5Pr\" class=\"grid-container\" align=\"center\"> \n",
       "<div id=\"grid_wo94ajx5Pr\" class=\"grid\" align=\"center\"> \n",
       "<div id=\"graph_ffxSb4gTA3\" class=\"graph\"></div> \n",
       "</div> \n",
       "</div> \n",
       "<script>\n",
       "var masonry = new Macy({\n",
       "    container: '#grid_wo94ajx5Pr',\n",
       "    debug: true,\n",
       "    mobileFirst: true,\n",
       "    columns: 1,\n",
       "    margin: {\n",
       "        x: 0,\n",
       "        y: 0\n",
       "    }\n",
       "  });\n",
       "\n",
       "  var traces_ffxSb4gTA3 = [{\"name\":\"Bar\",\"type\":\"bar\",\"x\":[2.0177549645193746,42.28169843028757,39.509966534059004,29.328378560431766,35.99166921689989,4.571299427807496,38.2021711226861,27.41911889270726,0.1138119400223847,3.3651345731753546,7.17094351355152,15.940613560623063,13.070233335569126,17.21197607693054,19.34595434477764,4.513732900264861,21.675708999046527,43.08024635419282,49.9861428988206,26.56760376468334,34.15562070721729,39.44882961990983,35.578936381218305,2.634137283607396,21.931264505168052,31.032196551136877,38.15466926594694,35.15371660250351,48.65645176595696,38.19676347125317,11.7767648980931,1.6820044947098933,38.23178377063439,31.869598637712826,6.1030009362352535,42.5382132053877,29.313986686394372,47.79717785074549,37.860452297885985,38.398063795766774,32.44122215307396,22.381080911036893,14.836459494192827,43.11007568765268,7.311312201083653,35.99911497967941,8.56025726878027,27.101695300656743,11.978288978465523,18.71453391787093,41.23463931398336,47.14215448769848,42.7737666541424,37.58262433371785,29.67431669756747,38.941892591726315,33.61307337316282,44.38310431114246,14.017383439124131,30.093693358733827,16.01215540969235,17.538396275913083,41.79858681691713,42.198632968756385,6.619747942060589,32.2219880237549,28.60783497698905,42.670312137346784,37.360332016853114,38.21773642152863,25.004668290243586,18.67372065027315,24.386916847065816,15.960098184699062,35.61916711669183,27.93048960641391,35.95869985765588,17.366936136239897,10.44205734111574,33.710178864441815,16.08716310537303,29.57065805676739,10.191510128570009,4.227619502486613,0.33520111143744424,26.46011040177297,37.341414394252304,49.879240876014066,22.50736724964299,45.06479106812101,21.905684041779622,35.27670023807071,6.135354840133045,41.24455286262197,6.395380786648547,36.87400433816796,12.641351051996546,41.892164550004495,37.50025647580812,21.134726546060357],\"y\":[28.852896499396152,18.912681895607626,42.99352942794158,42.6488127992851,20.14641808139389,13.612754409980848,1.118519793783379,6.383828343052144,1.9126056394086544,38.81463682914312,46.28800269283109,3.343434341439422,41.26533846331758,30.003782510104465,49.31193052271516,14.306241782606877,42.95685063098085,6.125584370395881,12.56640293556579,32.03108292671991,48.31536563007778,35.265911488268856,30.52658769968249,28.340157422655786,33.68744872920447,30.38180144526288,33.90849151701585,38.82935950621304,35.345816411909745,25.49272904810833,11.299302402329081,4.6055219099510545,1.1143766432516855,3.299588921412661,35.603266577218925,47.41317523157375,25.065801884653105,11.06761055350971,13.889819848990054,11.788835498054134,10.562902729964197,12.791095457827705,28.302982521971508,35.46870141398509,28.64366155833768,32.152011697151956,42.57577352143116,7.1760385655681045,43.290712115141226,42.59109142246821,13.390667672779244,39.12743949034483,12.479660382787882,7.929251394394382,18.33690699102084,20.12251194224321,44.06657015566742,19.408776219310248,42.53769895091854,23.91944260296307,38.55352015355129,12.767850455505469,4.155152214542024,26.749294267945483,36.56210858490554,32.01866753454695,44.9280179846004,37.284768269035155,7.448335481037588,34.96848879525623,15.657110038747735,12.154541564646754,16.90826895115314,9.204644294805874,48.125518825253444,20.182224666083293,45.65245149410878,36.25864785045707,24.325497465480534,28.929315482619582,48.267997004813765,5.9711951999324775,31.06119724985255,17.83446654030239,41.240854558594094,42.698987180888196,23.006134611079087,23.266752595614555,41.77672376166901,9.935945740779811,10.116613069464787,42.14850438159053,44.537637163222236,10.165533472602267,35.93701914808544,12.453688167687465,21.702210879153718,42.317526367896335,21.780222265855315,0.8506951656575779]},{\"name\":\"Scatter\",\"type\":\"scatter\",\"mode\":\"markers\",\"marker\":{\"symbol\":\"circle\",\"color\":\"red\",\"line\":{\"width\":2,\"color\":\"black\"},\"size\":[10,10,10,10,10,10,10,10,10,10,10,10,10,10,10,10,10,10,10,10,10,10,10,10,10,10,10,10,10,10,10,10,10,10,10,10,10,10,10,10,10,10,10,10,10,10,10,10,10,10,10,10,10,10,10,10,10,10,10,10,10,10,10,10,10,10,10,10,10,10,10,10,10,10,10,10,10,10,10,10,10,10,10,10,10,10,10,10,10,10,10,10,10,10,10,10,10,10,10,10]},\"x\":[2.0177549645193746,42.28169843028757,39.509966534059004,29.328378560431766,35.99166921689989,4.571299427807496,38.2021711226861,27.41911889270726,0.1138119400223847,3.3651345731753546,7.17094351355152,15.940613560623063,13.070233335569126,17.21197607693054,19.34595434477764,4.513732900264861,21.675708999046527,43.08024635419282,49.9861428988206,26.56760376468334,34.15562070721729,39.44882961990983,35.578936381218305,2.634137283607396,21.931264505168052,31.032196551136877,38.15466926594694,35.15371660250351,48.65645176595696,38.19676347125317,11.7767648980931,1.6820044947098933,38.23178377063439,31.869598637712826,6.1030009362352535,42.5382132053877,29.313986686394372,47.79717785074549,37.860452297885985,38.398063795766774,32.44122215307396,22.381080911036893,14.836459494192827,43.11007568765268,7.311312201083653,35.99911497967941,8.56025726878027,27.101695300656743,11.978288978465523,18.71453391787093,41.23463931398336,47.14215448769848,42.7737666541424,37.58262433371785,29.67431669756747,38.941892591726315,33.61307337316282,44.38310431114246,14.017383439124131,30.093693358733827,16.01215540969235,17.538396275913083,41.79858681691713,42.198632968756385,6.619747942060589,32.2219880237549,28.60783497698905,42.670312137346784,37.360332016853114,38.21773642152863,25.004668290243586,18.67372065027315,24.386916847065816,15.960098184699062,35.61916711669183,27.93048960641391,35.95869985765588,17.366936136239897,10.44205734111574,33.710178864441815,16.08716310537303,29.57065805676739,10.191510128570009,4.227619502486613,0.33520111143744424,26.46011040177297,37.341414394252304,49.879240876014066,22.50736724964299,45.06479106812101,21.905684041779622,35.27670023807071,6.135354840133045,41.24455286262197,6.395380786648547,36.87400433816796,12.641351051996546,41.892164550004495,37.50025647580812,21.134726546060357],\"y\":[28.852896499396152,18.912681895607626,42.99352942794158,42.6488127992851,20.14641808139389,13.612754409980848,1.118519793783379,6.383828343052144,1.9126056394086544,38.81463682914312,46.28800269283109,3.343434341439422,41.26533846331758,30.003782510104465,49.31193052271516,14.306241782606877,42.95685063098085,6.125584370395881,12.56640293556579,32.03108292671991,48.31536563007778,35.265911488268856,30.52658769968249,28.340157422655786,33.68744872920447,30.38180144526288,33.90849151701585,38.82935950621304,35.345816411909745,25.49272904810833,11.299302402329081,4.6055219099510545,1.1143766432516855,3.299588921412661,35.603266577218925,47.41317523157375,25.065801884653105,11.06761055350971,13.889819848990054,11.788835498054134,10.562902729964197,12.791095457827705,28.302982521971508,35.46870141398509,28.64366155833768,32.152011697151956,42.57577352143116,7.1760385655681045,43.290712115141226,42.59109142246821,13.390667672779244,39.12743949034483,12.479660382787882,7.929251394394382,18.33690699102084,20.12251194224321,44.06657015566742,19.408776219310248,42.53769895091854,23.91944260296307,38.55352015355129,12.767850455505469,4.155152214542024,26.749294267945483,36.56210858490554,32.01866753454695,44.9280179846004,37.284768269035155,7.448335481037588,34.96848879525623,15.657110038747735,12.154541564646754,16.90826895115314,9.204644294805874,48.125518825253444,20.182224666083293,45.65245149410878,36.25864785045707,24.325497465480534,28.929315482619582,48.267997004813765,5.9711951999324775,31.06119724985255,17.83446654030239,41.240854558594094,42.698987180888196,23.006134611079087,23.266752595614555,41.77672376166901,9.935945740779811,10.116613069464787,42.14850438159053,44.537637163222236,10.165533472602267,35.93701914808544,12.453688167687465,21.702210879153718,42.317526367896335,21.780222265855315,0.8506951656575779]}];\n",
       " var layout_ffxSb4gTA3 = {\"height\":550,\"width\":600,\"hovermode\":\"closest\",\"showlegend\":true};\n",
       " var config_ffxSb4gTA3 = {\"responsive\":false,\"scrollZoom\":false,\"displaylogo\":false};\n",
       " Plotly.newPlot(\"graph_ffxSb4gTA3\", traces_ffxSb4gTA3, layout_ffxSb4gTA3, config_ffxSb4gTA3);\n",
       "</script> \n"
      ]
     },
     "metadata": {},
     "output_type": "display_data"
    }
   ],
   "source": [
    "// we can pass in the size of the markers\n",
    "val sizes = List.range(0, 100).map(x => 10)\n",
    "\n",
    "// additional traces can simply be composed with an existing chart and added on\n",
    "val series1 = XY(x, y) asType BAR setName \"Bar\"\n",
    "\n",
    "// lets give the second series a red marker. Again we can 'compose' a marker using smaller components\n",
    "val marker = (\n",
    "    Marker() \n",
    "    // sets the marker shape\n",
    "    setSymbol CIRCLE\n",
    "    // sets the fill to red\n",
    "    setColor \"red\" \n",
    "    // sets the outline to black, with width 2\n",
    "    setLine(width = 2, \"black\")\n",
    "    // set the size of the markers to 10 as per the list we created\n",
    "    setSize(sizes)\n",
    ") \n",
    "\n",
    "val series2 = XY(x, y) asType SCATTER setName \"Scatter\" drawStyle MARKERS setMarker marker\n",
    "\n",
    "// we not put brackets in the 'addSeries' function to ensure that addSeries picks up the right series'\n",
    "val chart = Chart() addSeries(series1, series2) setConfig(false, false)\n",
    "\n",
    "chart.plotInline"
   ]
  },
  {
   "cell_type": "markdown",
   "metadata": {},
   "source": [
    "### Adding Another Axes\n",
    "\n",
    "Sometimes we may wish to plot multiple series on one chart, but using two different Axes. This may be because the values of the two series are very different, yet we want to compare them on the same plot. We can do this as follows:"
   ]
  },
  {
   "cell_type": "code",
   "execution_count": 13,
   "metadata": {},
   "outputs": [
    {
     "data": {
      "text/html": [
       "<div id=\"grid-container_kzBS4xSWNI\" class=\"grid-container\" align=\"center\"> \n",
       "<div id=\"grid_kzBS4xSWNI\" class=\"grid\" align=\"center\"> \n",
       "<div id=\"graph_eNalUJEro9\" class=\"graph\"></div> \n",
       "</div> \n",
       "</div> \n",
       "<script>\n",
       "var masonry = new Macy({\n",
       "    container: '#grid_kzBS4xSWNI',\n",
       "    debug: true,\n",
       "    mobileFirst: true,\n",
       "    columns: 1,\n",
       "    margin: {\n",
       "        x: 0,\n",
       "        y: 0\n",
       "    }\n",
       "  });\n",
       "\n",
       "  var traces_eNalUJEro9 = [{\"name\":\"Series 3 using Y axis 1\",\"type\":\"scatter\",\"mode\":\"markers\",\"x\":[2.0177549645193746,42.28169843028757,39.509966534059004,29.328378560431766,35.99166921689989,4.571299427807496,38.2021711226861,27.41911889270726,0.1138119400223847,3.3651345731753546,7.17094351355152,15.940613560623063,13.070233335569126,17.21197607693054,19.34595434477764,4.513732900264861,21.675708999046527,43.08024635419282,49.9861428988206,26.56760376468334,34.15562070721729,39.44882961990983,35.578936381218305,2.634137283607396,21.931264505168052,31.032196551136877,38.15466926594694,35.15371660250351,48.65645176595696,38.19676347125317,11.7767648980931,1.6820044947098933,38.23178377063439,31.869598637712826,6.1030009362352535,42.5382132053877,29.313986686394372,47.79717785074549,37.860452297885985,38.398063795766774,32.44122215307396,22.381080911036893,14.836459494192827,43.11007568765268,7.311312201083653,35.99911497967941,8.56025726878027,27.101695300656743,11.978288978465523,18.71453391787093,41.23463931398336,47.14215448769848,42.7737666541424,37.58262433371785,29.67431669756747,38.941892591726315,33.61307337316282,44.38310431114246,14.017383439124131,30.093693358733827,16.01215540969235,17.538396275913083,41.79858681691713,42.198632968756385,6.619747942060589,32.2219880237549,28.60783497698905,42.670312137346784,37.360332016853114,38.21773642152863,25.004668290243586,18.67372065027315,24.386916847065816,15.960098184699062,35.61916711669183,27.93048960641391,35.95869985765588,17.366936136239897,10.44205734111574,33.710178864441815,16.08716310537303,29.57065805676739,10.191510128570009,4.227619502486613,0.33520111143744424,26.46011040177297,37.341414394252304,49.879240876014066,22.50736724964299,45.06479106812101,21.905684041779622,35.27670023807071,6.135354840133045,41.24455286262197,6.395380786648547,36.87400433816796,12.641351051996546,41.892164550004495,37.50025647580812,21.134726546060357],\"y\":[28.852896499396152,18.912681895607626,42.99352942794158,42.6488127992851,20.14641808139389,13.612754409980848,1.118519793783379,6.383828343052144,1.9126056394086544,38.81463682914312,46.28800269283109,3.343434341439422,41.26533846331758,30.003782510104465,49.31193052271516,14.306241782606877,42.95685063098085,6.125584370395881,12.56640293556579,32.03108292671991,48.31536563007778,35.265911488268856,30.52658769968249,28.340157422655786,33.68744872920447,30.38180144526288,33.90849151701585,38.82935950621304,35.345816411909745,25.49272904810833,11.299302402329081,4.6055219099510545,1.1143766432516855,3.299588921412661,35.603266577218925,47.41317523157375,25.065801884653105,11.06761055350971,13.889819848990054,11.788835498054134,10.562902729964197,12.791095457827705,28.302982521971508,35.46870141398509,28.64366155833768,32.152011697151956,42.57577352143116,7.1760385655681045,43.290712115141226,42.59109142246821,13.390667672779244,39.12743949034483,12.479660382787882,7.929251394394382,18.33690699102084,20.12251194224321,44.06657015566742,19.408776219310248,42.53769895091854,23.91944260296307,38.55352015355129,12.767850455505469,4.155152214542024,26.749294267945483,36.56210858490554,32.01866753454695,44.9280179846004,37.284768269035155,7.448335481037588,34.96848879525623,15.657110038747735,12.154541564646754,16.90826895115314,9.204644294805874,48.125518825253444,20.182224666083293,45.65245149410878,36.25864785045707,24.325497465480534,28.929315482619582,48.267997004813765,5.9711951999324775,31.06119724985255,17.83446654030239,41.240854558594094,42.698987180888196,23.006134611079087,23.266752595614555,41.77672376166901,9.935945740779811,10.116613069464787,42.14850438159053,44.537637163222236,10.165533472602267,35.93701914808544,12.453688167687465,21.702210879153718,42.317526367896335,21.780222265855315,0.8506951656575779]},{\"name\":\"Series 2 using Y axis 2\",\"type\":\"scatter\",\"mode\":\"markers\",\"yaxis\":\"y2\",\"x\":[2.0177549645193746,42.28169843028757,39.509966534059004,29.328378560431766,35.99166921689989,4.571299427807496,38.2021711226861,27.41911889270726,0.1138119400223847,3.3651345731753546,7.17094351355152,15.940613560623063,13.070233335569126,17.21197607693054,19.34595434477764,4.513732900264861,21.675708999046527,43.08024635419282,49.9861428988206,26.56760376468334,34.15562070721729,39.44882961990983,35.578936381218305,2.634137283607396,21.931264505168052,31.032196551136877,38.15466926594694,35.15371660250351,48.65645176595696,38.19676347125317,11.7767648980931,1.6820044947098933,38.23178377063439,31.869598637712826,6.1030009362352535,42.5382132053877,29.313986686394372,47.79717785074549,37.860452297885985,38.398063795766774,32.44122215307396,22.381080911036893,14.836459494192827,43.11007568765268,7.311312201083653,35.99911497967941,8.56025726878027,27.101695300656743,11.978288978465523,18.71453391787093,41.23463931398336,47.14215448769848,42.7737666541424,37.58262433371785,29.67431669756747,38.941892591726315,33.61307337316282,44.38310431114246,14.017383439124131,30.093693358733827,16.01215540969235,17.538396275913083,41.79858681691713,42.198632968756385,6.619747942060589,32.2219880237549,28.60783497698905,42.670312137346784,37.360332016853114,38.21773642152863,25.004668290243586,18.67372065027315,24.386916847065816,15.960098184699062,35.61916711669183,27.93048960641391,35.95869985765588,17.366936136239897,10.44205734111574,33.710178864441815,16.08716310537303,29.57065805676739,10.191510128570009,4.227619502486613,0.33520111143744424,26.46011040177297,37.341414394252304,49.879240876014066,22.50736724964299,45.06479106812101,21.905684041779622,35.27670023807071,6.135354840133045,41.24455286262197,6.395380786648547,36.87400433816796,12.641351051996546,41.892164550004495,37.50025647580812,21.134726546060357],\"y\":[12.861117683237605,20.071739487217123,18.026061535505374,10.033773727937739,35.17532177752364,40.432829762106984,27.85315235553783,20.87527048388285,40.95314823451602,23.494463236500028,0.6040418641514944,7.431180874806237,29.343270438314857,21.117738871859835,31.6809781756412,6.045467753611927,31.194201386730413,14.367954355654572,3.3793441144569725,33.32392654837435,31.29692682084858,36.985376276036725,6.388060687634923,31.58632740761524,20.205780496781784,24.9098834259796,44.82103796651538,24.55590809449327,28.623728966535637,49.935936793061614,48.591010836162575,40.508216167463054,40.941720216659085,48.94350010272416,45.69686731249575,4.876678516307942,10.937763967927811,8.832178109392046,33.56784292167092,19.400141162184553,11.869946896388289,11.279961386743215,32.99271151336905,30.298065510694805,45.23858985148302,30.75461607453711,10.35938138672911,43.671914624436745,7.346251652660246,13.824912543017037,13.940069981927493,22.356656862068185,20.45035421799825,47.75049608292613,37.779475416441706,44.78424025854425,25.781640235862007,1.5733698277485109,2.3781566231293905,23.07123530197781,8.992771631393188,43.490600973345515,24.81059084078547,14.50576648400365,34.70482848484962,4.156968528120652,42.1771297543062,17.884231228023058,5.735524167966199,16.747962768448797,1.361349758022018,23.736191432387514,34.32144414942581,21.107645220467464,34.94906899570932,35.376235039783936,17.187649724508923,21.1125301168894,7.862554956990508,45.934458568248246,43.6714871060541,31.50181365312078,41.773207245068875,45.042651268868624,36.273471694059154,42.855864348516675,4.678290791587325,37.69112818448597,25.986624765521256,21.149094591518686,41.16202810905503,36.92154780917758,0.5466506264265647,41.35991786783014,14.808647643520606,41.48396997577402,32.34888103107284,32.98966461977362,37.9947559042945,29.361755229864606]}];\n",
       " var layout_eNalUJEro9 = {\"height\":550,\"width\":600,\"hovermode\":\"closest\",\"title\":{\"text\":\"Using Multiple Axes\"},\"showlegend\":true,\"yaxis2\":{\"title\":{\"text\":\"Second y axis\"},\"showgrid\":true,\"zeroline\":false,\"showline\":false,\"side\":\"right\",\"overlaying\":\"y\"},\"yaxis\":{\"title\":{\"text\":\"First Y Axis\"},\"showgrid\":true,\"zeroline\":false,\"showline\":false},\"xaxis\":{\"title\":{\"text\":\"X Axis\"},\"showgrid\":true,\"zeroline\":false,\"showline\":false}};\n",
       " var config_eNalUJEro9 = {\"responsive\":false,\"scrollZoom\":false,\"displaylogo\":false};\n",
       " Plotly.newPlot(\"graph_eNalUJEro9\", traces_eNalUJEro9, layout_eNalUJEro9, config_eNalUJEro9);\n",
       "</script> \n"
      ]
     },
     "metadata": {},
     "output_type": "display_data"
    }
   ],
   "source": [
    "val series1 = XY(x, y) asType SCATTER drawStyle MARKERS\n",
    "\n",
    "// The following maps the series onto the second Y axis.\n",
    "val series2 = (\n",
    "    XY(x, z) \n",
    "    asType SCATTER \n",
    "    drawStyle MARKERS \n",
    "    setAxis Axis(Y, 2)\n",
    "    setName(\"Series 2 using Y axis 2\")\n",
    ")\n",
    "\n",
    "val series3 = series1.copy() setName(\"Series 3 using Y axis 1\")\n",
    "      \n",
    "val chart = (\n",
    "    Chart() \n",
    "    setTitle \"Using Multiple Axes\"\n",
    "    // the following makes the chart unresponsive\n",
    "    setConfig(false, false) \n",
    "    addSeries(series3, series2) \n",
    "    // the following tells the chart how to render the second Y Axis\n",
    "    addAxes Axis(Y, position = 2, title = \"Second y axis\", overlaying = Axis(Y), side = RIGHT_SIDE)\n",
    "    addAxes Axis(Y, 1, \"First Y Axis\")\n",
    "    addAxes Axis(X, title = \"X Axis\")\n",
    ") \n",
    "\n",
    "// this is just for illustration purposes, but we can also do the following\n",
    "val canvas = Canvas() setChart(0, 0, chart)\n",
    "\n",
    "canvas.plotInline"
   ]
  },
  {
   "cell_type": "markdown",
   "metadata": {},
   "source": [
    "### Customizing the Axes\n",
    "\n",
    "As can be seen from some of the examples above, if you do a simple chart you can use the standard axis (X and Y) and costumise them in the chart object. But for more complex layout,  we may would want to create new axis and name them.\n",
    "\n",
    "We can do this as follows:"
   ]
  },
  {
   "cell_type": "code",
   "execution_count": 14,
   "metadata": {},
   "outputs": [
    {
     "data": {
      "text/html": [
       "<div id=\"grid-container_dcPljvivWh\" class=\"grid-container\" align=\"center\"> \n",
       "<div id=\"grid_dcPljvivWh\" class=\"grid\" align=\"center\"> \n",
       "<div id=\"graph_ET5NR9uYEW\" class=\"graph\"></div> \n",
       "</div> \n",
       "</div> \n",
       "<script>\n",
       "var masonry = new Macy({\n",
       "    container: '#grid_dcPljvivWh',\n",
       "    debug: true,\n",
       "    mobileFirst: true,\n",
       "    columns: 1,\n",
       "    margin: {\n",
       "        x: 0,\n",
       "        y: 0\n",
       "    }\n",
       "  });\n",
       "\n",
       "  var traces_ET5NR9uYEW = [{\"name\":\"Data\",\"type\":\"scatter\",\"mode\":\"markers\",\"x\":[2.0177549645193746,42.28169843028757,39.509966534059004,29.328378560431766,35.99166921689989,4.571299427807496,38.2021711226861,27.41911889270726,0.1138119400223847,3.3651345731753546,7.17094351355152,15.940613560623063,13.070233335569126,17.21197607693054,19.34595434477764,4.513732900264861,21.675708999046527,43.08024635419282,49.9861428988206,26.56760376468334,34.15562070721729,39.44882961990983,35.578936381218305,2.634137283607396,21.931264505168052,31.032196551136877,38.15466926594694,35.15371660250351,48.65645176595696,38.19676347125317,11.7767648980931,1.6820044947098933,38.23178377063439,31.869598637712826,6.1030009362352535,42.5382132053877,29.313986686394372,47.79717785074549,37.860452297885985,38.398063795766774,32.44122215307396,22.381080911036893,14.836459494192827,43.11007568765268,7.311312201083653,35.99911497967941,8.56025726878027,27.101695300656743,11.978288978465523,18.71453391787093,41.23463931398336,47.14215448769848,42.7737666541424,37.58262433371785,29.67431669756747,38.941892591726315,33.61307337316282,44.38310431114246,14.017383439124131,30.093693358733827,16.01215540969235,17.538396275913083,41.79858681691713,42.198632968756385,6.619747942060589,32.2219880237549,28.60783497698905,42.670312137346784,37.360332016853114,38.21773642152863,25.004668290243586,18.67372065027315,24.386916847065816,15.960098184699062,35.61916711669183,27.93048960641391,35.95869985765588,17.366936136239897,10.44205734111574,33.710178864441815,16.08716310537303,29.57065805676739,10.191510128570009,4.227619502486613,0.33520111143744424,26.46011040177297,37.341414394252304,49.879240876014066,22.50736724964299,45.06479106812101,21.905684041779622,35.27670023807071,6.135354840133045,41.24455286262197,6.395380786648547,36.87400433816796,12.641351051996546,41.892164550004495,37.50025647580812,21.134726546060357],\"y\":[28.852896499396152,18.912681895607626,42.99352942794158,42.6488127992851,20.14641808139389,13.612754409980848,1.118519793783379,6.383828343052144,1.9126056394086544,38.81463682914312,46.28800269283109,3.343434341439422,41.26533846331758,30.003782510104465,49.31193052271516,14.306241782606877,42.95685063098085,6.125584370395881,12.56640293556579,32.03108292671991,48.31536563007778,35.265911488268856,30.52658769968249,28.340157422655786,33.68744872920447,30.38180144526288,33.90849151701585,38.82935950621304,35.345816411909745,25.49272904810833,11.299302402329081,4.6055219099510545,1.1143766432516855,3.299588921412661,35.603266577218925,47.41317523157375,25.065801884653105,11.06761055350971,13.889819848990054,11.788835498054134,10.562902729964197,12.791095457827705,28.302982521971508,35.46870141398509,28.64366155833768,32.152011697151956,42.57577352143116,7.1760385655681045,43.290712115141226,42.59109142246821,13.390667672779244,39.12743949034483,12.479660382787882,7.929251394394382,18.33690699102084,20.12251194224321,44.06657015566742,19.408776219310248,42.53769895091854,23.91944260296307,38.55352015355129,12.767850455505469,4.155152214542024,26.749294267945483,36.56210858490554,32.01866753454695,44.9280179846004,37.284768269035155,7.448335481037588,34.96848879525623,15.657110038747735,12.154541564646754,16.90826895115314,9.204644294805874,48.125518825253444,20.182224666083293,45.65245149410878,36.25864785045707,24.325497465480534,28.929315482619582,48.267997004813765,5.9711951999324775,31.06119724985255,17.83446654030239,41.240854558594094,42.698987180888196,23.006134611079087,23.266752595614555,41.77672376166901,9.935945740779811,10.116613069464787,42.14850438159053,44.537637163222236,10.165533472602267,35.93701914808544,12.453688167687465,21.702210879153718,42.317526367896335,21.780222265855315,0.8506951656575779]}];\n",
       " var layout_ET5NR9uYEW = {\"height\":550,\"width\":600,\"hovermode\":\"closest\",\"title\":{\"text\":\"Chart with Axes\"},\"showlegend\":true,\"xaxis\":{\"title\":{\"text\":\"x variable\"},\"showgrid\":true,\"zeroline\":false,\"showline\":false},\"yaxis\":{\"title\":{\"text\":\"y variable\"},\"showgrid\":true,\"zeroline\":false,\"showline\":false}};\n",
       " var config_ET5NR9uYEW = {\"responsive\":true,\"scrollZoom\":true,\"displaylogo\":false};\n",
       " Plotly.newPlot(\"graph_ET5NR9uYEW\", traces_ET5NR9uYEW, layout_ET5NR9uYEW, config_ET5NR9uYEW);\n",
       "</script> \n"
      ]
     },
     "metadata": {},
     "output_type": "display_data"
    }
   ],
   "source": [
    "// We construct the axes and set their title\n",
    "val xaxis = Axis(X, title = \"x variable\")\n",
    "val yaxis = Axis(Y, title = \"y variable\")\n",
    "\n",
    "// another way to do composition is to just add a bracket around the composition\n",
    "val chart = (\n",
    "    Chart()\n",
    "    setTitle \"Chart with Axes\"\n",
    "    addSeries(series1 setName(\"Data\"))\n",
    "    addAxes(xaxis, yaxis)\n",
    ")\n",
    "\n",
    "chart.plotInline"
   ]
  },
  {
   "cell_type": "markdown",
   "metadata": {},
   "source": [
    "### Quickly Configuring The Axes\n",
    "\n",
    "Picta comes with a range of utility functions to make configuring the primary axes quick and easy"
   ]
  },
  {
   "cell_type": "code",
   "execution_count": 15,
   "metadata": {},
   "outputs": [],
   "source": [
    "// Let's create 100 randome data points\n",
    "val x = List.range(0, 100).map(x => x * scala.util.Random.nextDouble())\n",
    "val y = List.range(0, 100).map(x => x * scala.util.Random.nextDouble())"
   ]
  },
  {
   "cell_type": "markdown",
   "metadata": {},
   "source": [
    "#### Adjusting Axes Limits"
   ]
  },
  {
   "cell_type": "code",
   "execution_count": 16,
   "metadata": {},
   "outputs": [
    {
     "data": {
      "text/html": [
       "<div id=\"grid-container_8OcsB682tI\" class=\"grid-container\" align=\"center\"> \n",
       "<div id=\"grid_8OcsB682tI\" class=\"grid\" align=\"center\"> \n",
       "<div id=\"graph_2ljjf3Tknv\" class=\"graph\"></div> \n",
       "</div> \n",
       "</div> \n",
       "<script>\n",
       "var masonry = new Macy({\n",
       "    container: '#grid_8OcsB682tI',\n",
       "    debug: true,\n",
       "    mobileFirst: true,\n",
       "    columns: 1,\n",
       "    margin: {\n",
       "        x: 0,\n",
       "        y: 0\n",
       "    }\n",
       "  });\n",
       "\n",
       "  var traces_2ljjf3Tknv = [{\"name\":\"Data for Axis Limit example\",\"type\":\"scatter\",\"mode\":\"markers\",\"x\":[0,0.24568038187621222,0.9629731644742203,1.971702661458402,1.8782697729179425,0.16497109169897495,5.973558934284088,3.0462254258186343,0.11443157797915404,1.7839640749527437,1.289775513140602,10.012880292005917,10.350526996101065,8.25447300600215,5.990295229197867,2.4358697831011495,7.968857817563109,6.310846445887597,7.712915912171708,11.909982591347001,15.487697795244769,5.035673134114914,13.621018131768071,3.4962182912105098,5.454215262661319,7.963347380744956,9.216127563822399,10.884262601233717,10.91399511604172,26.87565933815582,15.65410407495773,15.439216340608203,21.46330470665283,4.629910902457163,27.846485619176185,18.06730241203488,4.274040654501172,13.740908272581018,8.334580567296461,7.132165689696747,12.572105806763378,22.463577152847932,23.961986070402965,25.719778659677285,31.0978287156654,37.042877449253034,13.99132845434864,16.635908604552558,45.33191242298108,26.86211778178409,45.76316359463242,38.87556343442215,6.982316084499307,23.679806396363457,11.529155619638944,11.17884566999805,28.646416807553763,31.248627344389767,19.957878664094242,46.93216030188264,41.93877837129508,27.608232654967495,14.259816919822413,43.337793502852605,37.95785944995394,60.486083163053976,26.158384191389203,18.708476656606717,63.00503355626223,47.77770511852752,7.296159721510188,41.196661776112016,52.21636427674753,29.259345050813273,25.35979644405724,56.49091132151118,15.47167457400223,49.7622053468046,39.483463777216016,46.25396308646504,9.856591247689801,53.258115086543,42.59910033820286,23.58878095033192,23.321409583826174,82.92176087941326,65.59212475964313,44.850138411756824,49.25580426943778,16.494331222724576,35.643793751128094,4.9200511227613255,1.7306555887624202,6.4277544599550405,55.24579771903027,71.88570866587197,40.397507903522595,21.587518060367437,69.30930631970074,82.14839381189144],\"y\":[0,0.257281444326082,1.52566910497931,1.56120079961218,0.8351822014371151,1.016740651694907,1.401187353041619,3.002315913741933,3.214076733444606,5.580581915056204,9.746286063938864,6.757572504957293,0.1432674723111531,2.935514654831465,0.8416005459791827,8.155954148081332,8.8385654969865,9.608530342974657,4.792051524107965,13.733473142180346,14.202681656456107,7.275061592086926,8.74476747723827,12.36182656893148,13.303031789850262,15.045659446246281,21.057295426043503,11.73528294991677,26.217516267755553,21.804279455705203,8.862067100683365,2.3452276858221732,18.69911929074428,32.52009325810631,32.565851223506805,17.724158583601454,2.275217740840262,4.023097754726226,31.62274881196265,27.537776019873842,23.894548722126217,6.571696983041341,32.67609491458244,4.295238817267638,32.31390838082281,28.89783947539239,28.128518593119672,35.28357393797251,46.32775718533509,8.542250383771798,26.62031934938016,50.06271876272548,36.937101482792215,39.43879835693539,35.02420229184632,6.732660215312089,29.879188878256876,28.123015324672497,46.64944541089829,54.45366018353831,2.8468093715254272,9.87539085800345,60.64049284922469,58.614644707845954,47.465223553802346,57.81506776199201,15.304050248933503,52.85340515338882,59.91604706440537,4.684261344431628,39.55477207361679,70.08538043723438,50.25074341611791,24.05777094578587,4.08273409391848,4.045479963059318,25.17170814252514,43.225711228300135,27.466007001972013,45.83955080222049,28.626332777478964,3.280743568734135,76.52878514030976,60.88884120722469,25.20883723650942,34.24381552390931,45.02970100794786,10.682049958193149,17.34610727613288,15.63472887773795,66.5061845229548,88.17534198478293,16.807266123135292,2.985609173521949,30.04893679455467,51.75100728658188,2.472169339875002,73.65669119943928,28.185909140075175,74.61030055719206]}];\n",
       " var layout_2ljjf3Tknv = {\"height\":550,\"width\":600,\"hovermode\":\"closest\",\"title\":{\"text\":\"Axis.SetAxisRange\"},\"showlegend\":true,\"yaxis\":{\"title\":{\"text\":\"y axis\"},\"showgrid\":true,\"zeroline\":false,\"showline\":false,\"range\":[100,-100]},\"xaxis\":{\"title\":{\"text\":\"x axis\"},\"showgrid\":true,\"zeroline\":false,\"showline\":false,\"range\":[-100,100]}};\n",
       " var config_2ljjf3Tknv = {\"responsive\":true,\"scrollZoom\":true,\"displaylogo\":false};\n",
       " Plotly.newPlot(\"graph_2ljjf3Tknv\", traces_2ljjf3Tknv, layout_2ljjf3Tknv, config_2ljjf3Tknv);\n",
       "</script> \n"
      ]
     },
     "metadata": {},
     "output_type": "display_data"
    }
   ],
   "source": [
    "val series = (\n",
    "    XY(x, y)\n",
    "    asType SCATTER\n",
    "    drawStyle MARKERS\n",
    ")\n",
    "\n",
    "val chart = (\n",
    "      Chart()\n",
    "    addSeries series.setName(\"Data for Axis Limit example\")\n",
    "    setTitle \"Axis.SetAxisRange\"\n",
    "    addAxes yaxis\n",
    "    setXAxisLimits(-100, 100) // Here we set the axis limit from -100 to 100\n",
    "    setYAxisLimits(100, -100) // Here, by using the minimum as 100 and the maximum as -100, we automatically reverse the axis\n",
    "    setXAxisTitle(\"x axis\")\n",
    "    setYAxisTitle(\"y axis\")\n",
    ")\n",
    "\n",
    "chart.plotInline"
   ]
  },
  {
   "cell_type": "markdown",
   "metadata": {},
   "source": [
    "#### Adjusting Axis Ticks"
   ]
  },
  {
   "cell_type": "code",
   "execution_count": 17,
   "metadata": {
    "scrolled": false
   },
   "outputs": [
    {
     "data": {
      "text/html": [
       "<div id=\"grid-container_FWGZ32WiT0\" class=\"grid-container\" align=\"center\"> \n",
       "<div id=\"grid_FWGZ32WiT0\" class=\"grid\" align=\"center\"> \n",
       "<div id=\"graph_x8X00uMyjS\" class=\"graph\"></div> \n",
       "</div> \n",
       "</div> \n",
       "<script>\n",
       "var masonry = new Macy({\n",
       "    container: '#grid_FWGZ32WiT0',\n",
       "    debug: true,\n",
       "    mobileFirst: true,\n",
       "    columns: 1,\n",
       "    margin: {\n",
       "        x: 0,\n",
       "        y: 0\n",
       "    }\n",
       "  });\n",
       "\n",
       "  var traces_x8X00uMyjS = [{\"name\":\"jpLEbINN4o\",\"type\":\"scatter\",\"mode\":\"markers\",\"x\":[0,0.24568038187621222,0.9629731644742203,1.971702661458402,1.8782697729179425,0.16497109169897495,5.973558934284088,3.0462254258186343,0.11443157797915404,1.7839640749527437,1.289775513140602,10.012880292005917,10.350526996101065,8.25447300600215,5.990295229197867,2.4358697831011495,7.968857817563109,6.310846445887597,7.712915912171708,11.909982591347001,15.487697795244769,5.035673134114914,13.621018131768071,3.4962182912105098,5.454215262661319,7.963347380744956,9.216127563822399,10.884262601233717,10.91399511604172,26.87565933815582,15.65410407495773,15.439216340608203,21.46330470665283,4.629910902457163,27.846485619176185,18.06730241203488,4.274040654501172,13.740908272581018,8.334580567296461,7.132165689696747,12.572105806763378,22.463577152847932,23.961986070402965,25.719778659677285,31.0978287156654,37.042877449253034,13.99132845434864,16.635908604552558,45.33191242298108,26.86211778178409,45.76316359463242,38.87556343442215,6.982316084499307,23.679806396363457,11.529155619638944,11.17884566999805,28.646416807553763,31.248627344389767,19.957878664094242,46.93216030188264,41.93877837129508,27.608232654967495,14.259816919822413,43.337793502852605,37.95785944995394,60.486083163053976,26.158384191389203,18.708476656606717,63.00503355626223,47.77770511852752,7.296159721510188,41.196661776112016,52.21636427674753,29.259345050813273,25.35979644405724,56.49091132151118,15.47167457400223,49.7622053468046,39.483463777216016,46.25396308646504,9.856591247689801,53.258115086543,42.59910033820286,23.58878095033192,23.321409583826174,82.92176087941326,65.59212475964313,44.850138411756824,49.25580426943778,16.494331222724576,35.643793751128094,4.9200511227613255,1.7306555887624202,6.4277544599550405,55.24579771903027,71.88570866587197,40.397507903522595,21.587518060367437,69.30930631970074,82.14839381189144],\"y\":[0,0.257281444326082,1.52566910497931,1.56120079961218,0.8351822014371151,1.016740651694907,1.401187353041619,3.002315913741933,3.214076733444606,5.580581915056204,9.746286063938864,6.757572504957293,0.1432674723111531,2.935514654831465,0.8416005459791827,8.155954148081332,8.8385654969865,9.608530342974657,4.792051524107965,13.733473142180346,14.202681656456107,7.275061592086926,8.74476747723827,12.36182656893148,13.303031789850262,15.045659446246281,21.057295426043503,11.73528294991677,26.217516267755553,21.804279455705203,8.862067100683365,2.3452276858221732,18.69911929074428,32.52009325810631,32.565851223506805,17.724158583601454,2.275217740840262,4.023097754726226,31.62274881196265,27.537776019873842,23.894548722126217,6.571696983041341,32.67609491458244,4.295238817267638,32.31390838082281,28.89783947539239,28.128518593119672,35.28357393797251,46.32775718533509,8.542250383771798,26.62031934938016,50.06271876272548,36.937101482792215,39.43879835693539,35.02420229184632,6.732660215312089,29.879188878256876,28.123015324672497,46.64944541089829,54.45366018353831,2.8468093715254272,9.87539085800345,60.64049284922469,58.614644707845954,47.465223553802346,57.81506776199201,15.304050248933503,52.85340515338882,59.91604706440537,4.684261344431628,39.55477207361679,70.08538043723438,50.25074341611791,24.05777094578587,4.08273409391848,4.045479963059318,25.17170814252514,43.225711228300135,27.466007001972013,45.83955080222049,28.626332777478964,3.280743568734135,76.52878514030976,60.88884120722469,25.20883723650942,34.24381552390931,45.02970100794786,10.682049958193149,17.34610727613288,15.63472887773795,66.5061845229548,88.17534198478293,16.807266123135292,2.985609173521949,30.04893679455467,51.75100728658188,2.472169339875002,73.65669119943928,28.185909140075175,74.61030055719206]}];\n",
       " var layout_x8X00uMyjS = {\"height\":550,\"width\":600,\"hovermode\":\"closest\",\"title\":{\"text\":\"Set Axis Ticks\"},\"showlegend\":true,\"yaxis\":{\"title\":{\"text\":\"y variable\"},\"showgrid\":true,\"zeroline\":false,\"showline\":false,\"range\":[-100,100]},\"xaxis\":{\"title\":{\"text\":\"my new x axis\"},\"showgrid\":true,\"zeroline\":false,\"showline\":false,\"range\":[0,100],\"tick0\":5,\"dtick\":15}};\n",
       " var config_x8X00uMyjS = {\"responsive\":true,\"scrollZoom\":true,\"displaylogo\":false};\n",
       " Plotly.newPlot(\"graph_x8X00uMyjS\", traces_x8X00uMyjS, layout_x8X00uMyjS, config_x8X00uMyjS);\n",
       "</script> \n"
      ]
     },
     "metadata": {},
     "output_type": "display_data"
    }
   ],
   "source": [
    "val series = (\n",
    "    XY(x, y)\n",
    "    asType SCATTER\n",
    "    drawStyle MARKERS\n",
    ")\n",
    "\n",
    "val chart = (\n",
    "    Chart()\n",
    "    addSeries series\n",
    "    setTitle \"Set Axis Ticks\"\n",
    "    addAxes yaxis\n",
    "    setXAxisLimits(0, 100)\n",
    "    setYAxisLimits(-100, 100)\n",
    "    setXAxisTitle(\"my new x axis\")\n",
    "    setXAxisStartTick 5\n",
    "    setXAxisTickGap 15\n",
    ")\n",
    "\n",
    "chart.plotInline"
   ]
  },
  {
   "cell_type": "markdown",
   "metadata": {},
   "source": [
    "### Setting Logarithmic Axes"
   ]
  },
  {
   "cell_type": "code",
   "execution_count": 18,
   "metadata": {},
   "outputs": [
    {
     "data": {
      "text/html": [
       "<div id=\"grid-container_i3dv9fTYwv\" class=\"grid-container\" align=\"center\"> \n",
       "<div id=\"grid_i3dv9fTYwv\" class=\"grid\" align=\"center\"> \n",
       "<div id=\"graph_FZosy1HGq8\" class=\"graph\"></div> \n",
       "</div> \n",
       "</div> \n",
       "<script>\n",
       "var masonry = new Macy({\n",
       "    container: '#grid_i3dv9fTYwv',\n",
       "    debug: true,\n",
       "    mobileFirst: true,\n",
       "    columns: 1,\n",
       "    margin: {\n",
       "        x: 0,\n",
       "        y: 0\n",
       "    }\n",
       "  });\n",
       "\n",
       "  var traces_FZosy1HGq8 = [{\"name\":\"9iDWMpfVR2\",\"type\":\"scatter\",\"mode\":\"markers\",\"x\":[1,2,3],\"y\":[1.234,5.2112,2.44332]}];\n",
       " var layout_FZosy1HGq8 = {\"height\":550,\"width\":600,\"hovermode\":\"closest\",\"title\":{\"text\":\"Logarithmic Axes\"},\"showlegend\":true,\"yaxis\":{\"title\":{\"text\":\"y variable\"},\"showgrid\":true,\"zeroline\":false,\"showline\":false,\"type\":\"log\"},\"xaxis\":{\"showgrid\":true,\"zeroline\":false,\"showline\":false,\"type\":\"log\"}};\n",
       " var config_FZosy1HGq8 = {\"responsive\":true,\"scrollZoom\":true,\"displaylogo\":false};\n",
       " Plotly.newPlot(\"graph_FZosy1HGq8\", traces_FZosy1HGq8, layout_FZosy1HGq8, config_FZosy1HGq8);\n",
       "</script> \n"
      ]
     },
     "metadata": {},
     "output_type": "display_data"
    }
   ],
   "source": [
    "val series = (\n",
    "    XY(List(1, 2, 3), List(1.234, 5.2112, 2.44332))\n",
    "    asType SCATTER\n",
    "    drawStyle MARKERS\n",
    ")\n",
    "\n",
    "val chart = (\n",
    "    Chart()\n",
    "    addSeries series\n",
    "    setTitle \"Logarithmic Axes\"\n",
    "    addAxes yaxis\n",
    "    drawXAxisLog true // We set the 'drawXAxisLog' value to 'true' to draw it on a logarithmic scale\n",
    "    drawYAxisLog true\n",
    ")\n",
    "\n",
    "chart.plotInline"
   ]
  },
  {
   "cell_type": "markdown",
   "metadata": {},
   "source": [
    "### Reversing axis\n",
    "We can also reverse the axis by setting the appropriate 'drawXAxisReversed'"
   ]
  },
  {
   "cell_type": "code",
   "execution_count": 19,
   "metadata": {},
   "outputs": [
    {
     "data": {
      "text/html": [
       "<div id=\"grid-container_ItmGwxhDmG\" class=\"grid-container\" align=\"center\"> \n",
       "<div id=\"grid_ItmGwxhDmG\" class=\"grid\" align=\"center\"> \n",
       "<div id=\"graph_SMrG7BLcNJ\" class=\"graph\"></div> \n",
       "</div> \n",
       "</div> \n",
       "<script>\n",
       "var masonry = new Macy({\n",
       "    container: '#grid_ItmGwxhDmG',\n",
       "    debug: true,\n",
       "    mobileFirst: true,\n",
       "    columns: 1,\n",
       "    margin: {\n",
       "        x: 0,\n",
       "        y: 0\n",
       "    }\n",
       "  });\n",
       "\n",
       "  var traces_SMrG7BLcNJ = [{\"name\":\"zmrsn3d4zQ\",\"type\":\"scatter\",\"mode\":\"markers\",\"x\":[0,0.24568038187621222,0.9629731644742203,1.971702661458402,1.8782697729179425,0.16497109169897495,5.973558934284088,3.0462254258186343,0.11443157797915404,1.7839640749527437,1.289775513140602,10.012880292005917,10.350526996101065,8.25447300600215,5.990295229197867,2.4358697831011495,7.968857817563109,6.310846445887597,7.712915912171708,11.909982591347001,15.487697795244769,5.035673134114914,13.621018131768071,3.4962182912105098,5.454215262661319,7.963347380744956,9.216127563822399,10.884262601233717,10.91399511604172,26.87565933815582,15.65410407495773,15.439216340608203,21.46330470665283,4.629910902457163,27.846485619176185,18.06730241203488,4.274040654501172,13.740908272581018,8.334580567296461,7.132165689696747,12.572105806763378,22.463577152847932,23.961986070402965,25.719778659677285,31.0978287156654,37.042877449253034,13.99132845434864,16.635908604552558,45.33191242298108,26.86211778178409,45.76316359463242,38.87556343442215,6.982316084499307,23.679806396363457,11.529155619638944,11.17884566999805,28.646416807553763,31.248627344389767,19.957878664094242,46.93216030188264,41.93877837129508,27.608232654967495,14.259816919822413,43.337793502852605,37.95785944995394,60.486083163053976,26.158384191389203,18.708476656606717,63.00503355626223,47.77770511852752,7.296159721510188,41.196661776112016,52.21636427674753,29.259345050813273,25.35979644405724,56.49091132151118,15.47167457400223,49.7622053468046,39.483463777216016,46.25396308646504,9.856591247689801,53.258115086543,42.59910033820286,23.58878095033192,23.321409583826174,82.92176087941326,65.59212475964313,44.850138411756824,49.25580426943778,16.494331222724576,35.643793751128094,4.9200511227613255,1.7306555887624202,6.4277544599550405,55.24579771903027,71.88570866587197,40.397507903522595,21.587518060367437,69.30930631970074,82.14839381189144],\"y\":[0,0.257281444326082,1.52566910497931,1.56120079961218,0.8351822014371151,1.016740651694907,1.401187353041619,3.002315913741933,3.214076733444606,5.580581915056204,9.746286063938864,6.757572504957293,0.1432674723111531,2.935514654831465,0.8416005459791827,8.155954148081332,8.8385654969865,9.608530342974657,4.792051524107965,13.733473142180346,14.202681656456107,7.275061592086926,8.74476747723827,12.36182656893148,13.303031789850262,15.045659446246281,21.057295426043503,11.73528294991677,26.217516267755553,21.804279455705203,8.862067100683365,2.3452276858221732,18.69911929074428,32.52009325810631,32.565851223506805,17.724158583601454,2.275217740840262,4.023097754726226,31.62274881196265,27.537776019873842,23.894548722126217,6.571696983041341,32.67609491458244,4.295238817267638,32.31390838082281,28.89783947539239,28.128518593119672,35.28357393797251,46.32775718533509,8.542250383771798,26.62031934938016,50.06271876272548,36.937101482792215,39.43879835693539,35.02420229184632,6.732660215312089,29.879188878256876,28.123015324672497,46.64944541089829,54.45366018353831,2.8468093715254272,9.87539085800345,60.64049284922469,58.614644707845954,47.465223553802346,57.81506776199201,15.304050248933503,52.85340515338882,59.91604706440537,4.684261344431628,39.55477207361679,70.08538043723438,50.25074341611791,24.05777094578587,4.08273409391848,4.045479963059318,25.17170814252514,43.225711228300135,27.466007001972013,45.83955080222049,28.626332777478964,3.280743568734135,76.52878514030976,60.88884120722469,25.20883723650942,34.24381552390931,45.02970100794786,10.682049958193149,17.34610727613288,15.63472887773795,66.5061845229548,88.17534198478293,16.807266123135292,2.985609173521949,30.04893679455467,51.75100728658188,2.472169339875002,73.65669119943928,28.185909140075175,74.61030055719206]}];\n",
       " var layout_SMrG7BLcNJ = {\"height\":550,\"width\":600,\"hovermode\":\"closest\",\"title\":{\"text\":\"Reversed Axes\"},\"showlegend\":true,\"yaxis\":{\"title\":{\"text\":\"Mah\"},\"showgrid\":true,\"zeroline\":false,\"showline\":false,\"autorange\":\"reversed\"},\"xaxis\":{\"showgrid\":true,\"zeroline\":false,\"showline\":false,\"autorange\":\"reversed\"}};\n",
       " var config_SMrG7BLcNJ = {\"responsive\":true,\"scrollZoom\":true,\"displaylogo\":false};\n",
       " Plotly.newPlot(\"graph_SMrG7BLcNJ\", traces_SMrG7BLcNJ, layout_SMrG7BLcNJ, config_SMrG7BLcNJ);\n",
       "</script> \n"
      ]
     },
     "metadata": {},
     "output_type": "display_data"
    }
   ],
   "source": [
    "val series = (\n",
    "    XY(x, y)\n",
    "    asType SCATTER\n",
    "    drawStyle MARKERS\n",
    ")\n",
    "\n",
    "val chart = (\n",
    "    Chart()\n",
    "    addSeries series\n",
    "    setTitle \"Reversed Axes\"\n",
    "    setYAxisTitle(\"Mah\")\n",
    "    drawXAxisReversed true\n",
    "    drawYAxisReversed true\n",
    ")\n",
    "chart.plotInline"
   ]
  },
  {
   "cell_type": "markdown",
   "metadata": {},
   "source": [
    "### Display options - MultiCharts\n",
    "\n",
    "`MultiCharts` are a way to plot multiple axes on the same chart. This is seperate to Picta's grid system, which create a grid of subplot `Chart`'s. The next series of examples will make this clearer."
   ]
  },
  {
   "cell_type": "code",
   "execution_count": 20,
   "metadata": {},
   "outputs": [
    {
     "data": {
      "text/html": [
       "<div id=\"grid-container_quQ5OtS0na\" class=\"grid-container\" align=\"center\"> \n",
       "<div id=\"grid_quQ5OtS0na\" class=\"grid\" align=\"center\"> \n",
       "<div id=\"graph_UH26MRkkgT\" class=\"graph\"></div> \n",
       "</div> \n",
       "</div> \n",
       "<script>\n",
       "var masonry = new Macy({\n",
       "    container: '#grid_quQ5OtS0na',\n",
       "    debug: true,\n",
       "    mobileFirst: true,\n",
       "    columns: 1,\n",
       "    margin: {\n",
       "        x: 0,\n",
       "        y: 0\n",
       "    }\n",
       "  });\n",
       "\n",
       "  var traces_UH26MRkkgT = [{\"name\":\"First series\",\"type\":\"scatter\",\"mode\":\"markers\",\"x\":[1,2,3],\"y\":[2,4,5]},{\"name\":\"Second series\",\"type\":\"scatter\",\"mode\":\"markers\",\"xaxis\":\"x2\",\"yaxis\":\"y2\",\"x\":[0,0.24568038187621222,0.9629731644742203,1.971702661458402,1.8782697729179425,0.16497109169897495,5.973558934284088,3.0462254258186343,0.11443157797915404,1.7839640749527437,1.289775513140602,10.012880292005917,10.350526996101065,8.25447300600215,5.990295229197867,2.4358697831011495,7.968857817563109,6.310846445887597,7.712915912171708,11.909982591347001,15.487697795244769,5.035673134114914,13.621018131768071,3.4962182912105098,5.454215262661319,7.963347380744956,9.216127563822399,10.884262601233717,10.91399511604172,26.87565933815582,15.65410407495773,15.439216340608203,21.46330470665283,4.629910902457163,27.846485619176185,18.06730241203488,4.274040654501172,13.740908272581018,8.334580567296461,7.132165689696747,12.572105806763378,22.463577152847932,23.961986070402965,25.719778659677285,31.0978287156654,37.042877449253034,13.99132845434864,16.635908604552558,45.33191242298108,26.86211778178409,45.76316359463242,38.87556343442215,6.982316084499307,23.679806396363457,11.529155619638944,11.17884566999805,28.646416807553763,31.248627344389767,19.957878664094242,46.93216030188264,41.93877837129508,27.608232654967495,14.259816919822413,43.337793502852605,37.95785944995394,60.486083163053976,26.158384191389203,18.708476656606717,63.00503355626223,47.77770511852752,7.296159721510188,41.196661776112016,52.21636427674753,29.259345050813273,25.35979644405724,56.49091132151118,15.47167457400223,49.7622053468046,39.483463777216016,46.25396308646504,9.856591247689801,53.258115086543,42.59910033820286,23.58878095033192,23.321409583826174,82.92176087941326,65.59212475964313,44.850138411756824,49.25580426943778,16.494331222724576,35.643793751128094,4.9200511227613255,1.7306555887624202,6.4277544599550405,55.24579771903027,71.88570866587197,40.397507903522595,21.587518060367437,69.30930631970074,82.14839381189144],\"y\":[0,0.257281444326082,1.52566910497931,1.56120079961218,0.8351822014371151,1.016740651694907,1.401187353041619,3.002315913741933,3.214076733444606,5.580581915056204,9.746286063938864,6.757572504957293,0.1432674723111531,2.935514654831465,0.8416005459791827,8.155954148081332,8.8385654969865,9.608530342974657,4.792051524107965,13.733473142180346,14.202681656456107,7.275061592086926,8.74476747723827,12.36182656893148,13.303031789850262,15.045659446246281,21.057295426043503,11.73528294991677,26.217516267755553,21.804279455705203,8.862067100683365,2.3452276858221732,18.69911929074428,32.52009325810631,32.565851223506805,17.724158583601454,2.275217740840262,4.023097754726226,31.62274881196265,27.537776019873842,23.894548722126217,6.571696983041341,32.67609491458244,4.295238817267638,32.31390838082281,28.89783947539239,28.128518593119672,35.28357393797251,46.32775718533509,8.542250383771798,26.62031934938016,50.06271876272548,36.937101482792215,39.43879835693539,35.02420229184632,6.732660215312089,29.879188878256876,28.123015324672497,46.64944541089829,54.45366018353831,2.8468093715254272,9.87539085800345,60.64049284922469,58.614644707845954,47.465223553802346,57.81506776199201,15.304050248933503,52.85340515338882,59.91604706440537,4.684261344431628,39.55477207361679,70.08538043723438,50.25074341611791,24.05777094578587,4.08273409391848,4.045479963059318,25.17170814252514,43.225711228300135,27.466007001972013,45.83955080222049,28.626332777478964,3.280743568734135,76.52878514030976,60.88884120722469,25.20883723650942,34.24381552390931,45.02970100794786,10.682049958193149,17.34610727613288,15.63472887773795,66.5061845229548,88.17534198478293,16.807266123135292,2.985609173521949,30.04893679455467,51.75100728658188,2.472169339875002,73.65669119943928,28.185909140075175,74.61030055719206]}];\n",
       " var layout_UH26MRkkgT = {\"height\":550,\"width\":600,\"hovermode\":\"closest\",\"title\":{\"text\":\"Chart.Axis.Composition\"},\"showlegend\":true,\"grid\":{\"rows\":1,\"columns\":2,\"pattern\":\"independent\"},\"xaxis\":{\"showgrid\":true,\"zeroline\":false,\"showline\":false},\"xaxis2\":{\"title\":{\"text\":\"x2\"},\"showgrid\":true,\"zeroline\":false,\"showline\":false},\"yaxis2\":{\"showgrid\":true,\"zeroline\":false,\"showline\":false}};\n",
       " var config_UH26MRkkgT = {\"responsive\":false,\"scrollZoom\":true,\"displaylogo\":false};\n",
       " Plotly.newPlot(\"graph_UH26MRkkgT\", traces_UH26MRkkgT, layout_UH26MRkkgT, config_UH26MRkkgT);\n",
       "</script> \n"
      ]
     },
     "metadata": {},
     "output_type": "display_data"
    }
   ],
   "source": [
    "// create the axes\n",
    "val xaxis1 = Axis(X) setTitle \"x1\"\n",
    "val yaxis1 = Axis(X) // this is not strictly necessary, but if it is not added there will be a zeroline at y = 0\n",
    "\n",
    "val xaxis2 = Axis(X, 2) setTitle \"x2\"\n",
    "val yaxis2 = Axis(Y, 2) // this is not strictly necessary, but if it is not added there will be a zeroline at y = 0\n",
    "\n",
    "val series1 = (\n",
    "    XY(x = List(1, 2, 3), y = List(2, 4, 5))\n",
    "    asType SCATTER\n",
    "    drawStyle MARKERS\n",
    "    setName(\"First series\") //Here we don't specify the axis, so the standard axis will be used\n",
    ")\n",
    "\n",
    "val series2 = (\n",
    "    XY(x = x, y = y) \n",
    "    asType SCATTER \n",
    "    drawStyle MARKERS \n",
    "    setName(\"Second series\")\n",
    "    setAxes (xaxis2, yaxis2) //Here we specify the axis for this plot, which are the second axis\n",
    ")\n",
    "\n",
    "val chart1 = Chart()\n",
    "            .addSeries(series1, series2)\n",
    "            .setTitle(\"Chart.Axis.Composition\")\n",
    "            .addAxes(xaxis1, yaxis1, xaxis2, yaxis2)\n",
    "            .setConfig(responsive=false)\n",
    "            // This tells Picta that we want to actually subdivide this chart into multiple plots\n",
    "            .asMultiChart(1, 2) //These correspond to the axis values given above\n",
    "\n",
    "chart1.plotInline"
   ]
  },
  {
   "cell_type": "markdown",
   "metadata": {},
   "source": [
    "### Picta's Subplot System\n",
    "\n",
    "While the above is useful, sometimes it is easier to plot independent charts in a subplot grid. This is where we can use the Picta subplot system.\n",
    "\n",
    "In the subplots below, each subplot is an individual `Chart`. This means we can actually embed the above `MultiChart` inside another subplot. This way we can create nested subplots to showcase any data we need to.\n",
    "\n",
    "Used creatively, this subplot system can be very useful for data exploration."
   ]
  },
  {
   "cell_type": "code",
   "execution_count": 21,
   "metadata": {
    "scrolled": false
   },
   "outputs": [
    {
     "data": {
      "text/html": [
       "<div id=\"grid-container_Q1mrfcKoWZ\" class=\"grid-container\" align=\"center\"> \n",
       "<div id=\"grid_Q1mrfcKoWZ\" class=\"grid\" align=\"center\"> \n",
       "<div id=\"graph_5bcqsq0Asc\" class=\"graph\"></div> \n",
       "<div id=\"graph_Qlebd1WXfV\" class=\"graph\"></div> \n",
       "<div id=\"graph_dzLTMwRY26\" class=\"graph\"></div> \n",
       "<div id=\"graph_9hiTCiYkx4\" class=\"graph\"></div> \n",
       "</div> \n",
       "</div> \n",
       "\n",
       "<div align=\"center\">\n",
       "<button id = \"saveAsPNG_Q1mrfcKoWZ\" class=\"picta-button\">Download Canvas as PNG</button>\n",
       "</div>\n",
       "<script>\n",
       "var masonry = new Macy({\n",
       "    container: '#grid_Q1mrfcKoWZ',\n",
       "    debug: true,\n",
       "    mobileFirst: true,\n",
       "    columns: 2,\n",
       "    margin: {\n",
       "        x: 0,\n",
       "        y: 0\n",
       "    }\n",
       "  });\n",
       "\n",
       "  var traces_5bcqsq0Asc = [{\"name\":\"a\",\"type\":\"scatter\",\"mode\":\"markers\",\"x\":[0,0.24568038187621222,0.9629731644742203,1.971702661458402,1.8782697729179425,0.16497109169897495,5.973558934284088,3.0462254258186343,0.11443157797915404,1.7839640749527437,1.289775513140602,10.012880292005917,10.350526996101065,8.25447300600215,5.990295229197867,2.4358697831011495,7.968857817563109,6.310846445887597,7.712915912171708,11.909982591347001,15.487697795244769,5.035673134114914,13.621018131768071,3.4962182912105098,5.454215262661319,7.963347380744956,9.216127563822399,10.884262601233717,10.91399511604172,26.87565933815582,15.65410407495773,15.439216340608203,21.46330470665283,4.629910902457163,27.846485619176185,18.06730241203488,4.274040654501172,13.740908272581018,8.334580567296461,7.132165689696747,12.572105806763378,22.463577152847932,23.961986070402965,25.719778659677285,31.0978287156654,37.042877449253034,13.99132845434864,16.635908604552558,45.33191242298108,26.86211778178409,45.76316359463242,38.87556343442215,6.982316084499307,23.679806396363457,11.529155619638944,11.17884566999805,28.646416807553763,31.248627344389767,19.957878664094242,46.93216030188264,41.93877837129508,27.608232654967495,14.259816919822413,43.337793502852605,37.95785944995394,60.486083163053976,26.158384191389203,18.708476656606717,63.00503355626223,47.77770511852752,7.296159721510188,41.196661776112016,52.21636427674753,29.259345050813273,25.35979644405724,56.49091132151118,15.47167457400223,49.7622053468046,39.483463777216016,46.25396308646504,9.856591247689801,53.258115086543,42.59910033820286,23.58878095033192,23.321409583826174,82.92176087941326,65.59212475964313,44.850138411756824,49.25580426943778,16.494331222724576,35.643793751128094,4.9200511227613255,1.7306555887624202,6.4277544599550405,55.24579771903027,71.88570866587197,40.397507903522595,21.587518060367437,69.30930631970074,82.14839381189144],\"y\":[0,0.257281444326082,1.52566910497931,1.56120079961218,0.8351822014371151,1.016740651694907,1.401187353041619,3.002315913741933,3.214076733444606,5.580581915056204,9.746286063938864,6.757572504957293,0.1432674723111531,2.935514654831465,0.8416005459791827,8.155954148081332,8.8385654969865,9.608530342974657,4.792051524107965,13.733473142180346,14.202681656456107,7.275061592086926,8.74476747723827,12.36182656893148,13.303031789850262,15.045659446246281,21.057295426043503,11.73528294991677,26.217516267755553,21.804279455705203,8.862067100683365,2.3452276858221732,18.69911929074428,32.52009325810631,32.565851223506805,17.724158583601454,2.275217740840262,4.023097754726226,31.62274881196265,27.537776019873842,23.894548722126217,6.571696983041341,32.67609491458244,4.295238817267638,32.31390838082281,28.89783947539239,28.128518593119672,35.28357393797251,46.32775718533509,8.542250383771798,26.62031934938016,50.06271876272548,36.937101482792215,39.43879835693539,35.02420229184632,6.732660215312089,29.879188878256876,28.123015324672497,46.64944541089829,54.45366018353831,2.8468093715254272,9.87539085800345,60.64049284922469,58.614644707845954,47.465223553802346,57.81506776199201,15.304050248933503,52.85340515338882,59.91604706440537,4.684261344431628,39.55477207361679,70.08538043723438,50.25074341611791,24.05777094578587,4.08273409391848,4.045479963059318,25.17170814252514,43.225711228300135,27.466007001972013,45.83955080222049,28.626332777478964,3.280743568734135,76.52878514030976,60.88884120722469,25.20883723650942,34.24381552390931,45.02970100794786,10.682049958193149,17.34610727613288,15.63472887773795,66.5061845229548,88.17534198478293,16.807266123135292,2.985609173521949,30.04893679455467,51.75100728658188,2.472169339875002,73.65669119943928,28.185909140075175,74.61030055719206]}];\n",
       " var layout_5bcqsq0Asc = {\"height\":350,\"width\":350,\"hovermode\":\"closest\",\"showlegend\":true,\"margin\":{\"l\":50,\"r\":30,\"t\":50,\"b\":50},\"xaxis\":{\"title\":{\"text\":\"x axis 1\"},\"showgrid\":true,\"zeroline\":false,\"showline\":false},\"yaxis\":{\"title\":{\"text\":\"y axis 1\"},\"showgrid\":true,\"zeroline\":false,\"showline\":false}};\n",
       " var config_5bcqsq0Asc = {\"responsive\":true,\"scrollZoom\":true,\"displaylogo\":false};\n",
       " Plotly.newPlot(\"graph_5bcqsq0Asc\", traces_5bcqsq0Asc, layout_5bcqsq0Asc, config_5bcqsq0Asc);\n",
       "\n",
       "  var traces_Qlebd1WXfV = [{\"name\":\"b\",\"type\":\"scatter\",\"mode\":\"markers\",\"x\":[0,0.24568038187621222,0.9629731644742203,1.971702661458402,1.8782697729179425,0.16497109169897495,5.973558934284088,3.0462254258186343,0.11443157797915404,1.7839640749527437,1.289775513140602,10.012880292005917,10.350526996101065,8.25447300600215,5.990295229197867,2.4358697831011495,7.968857817563109,6.310846445887597,7.712915912171708,11.909982591347001,15.487697795244769,5.035673134114914,13.621018131768071,3.4962182912105098,5.454215262661319,7.963347380744956,9.216127563822399,10.884262601233717,10.91399511604172,26.87565933815582,15.65410407495773,15.439216340608203,21.46330470665283,4.629910902457163,27.846485619176185,18.06730241203488,4.274040654501172,13.740908272581018,8.334580567296461,7.132165689696747,12.572105806763378,22.463577152847932,23.961986070402965,25.719778659677285,31.0978287156654,37.042877449253034,13.99132845434864,16.635908604552558,45.33191242298108,26.86211778178409,45.76316359463242,38.87556343442215,6.982316084499307,23.679806396363457,11.529155619638944,11.17884566999805,28.646416807553763,31.248627344389767,19.957878664094242,46.93216030188264,41.93877837129508,27.608232654967495,14.259816919822413,43.337793502852605,37.95785944995394,60.486083163053976,26.158384191389203,18.708476656606717,63.00503355626223,47.77770511852752,7.296159721510188,41.196661776112016,52.21636427674753,29.259345050813273,25.35979644405724,56.49091132151118,15.47167457400223,49.7622053468046,39.483463777216016,46.25396308646504,9.856591247689801,53.258115086543,42.59910033820286,23.58878095033192,23.321409583826174,82.92176087941326,65.59212475964313,44.850138411756824,49.25580426943778,16.494331222724576,35.643793751128094,4.9200511227613255,1.7306555887624202,6.4277544599550405,55.24579771903027,71.88570866587197,40.397507903522595,21.587518060367437,69.30930631970074,82.14839381189144],\"y\":[0,0.257281444326082,1.52566910497931,1.56120079961218,0.8351822014371151,1.016740651694907,1.401187353041619,3.002315913741933,3.214076733444606,5.580581915056204,9.746286063938864,6.757572504957293,0.1432674723111531,2.935514654831465,0.8416005459791827,8.155954148081332,8.8385654969865,9.608530342974657,4.792051524107965,13.733473142180346,14.202681656456107,7.275061592086926,8.74476747723827,12.36182656893148,13.303031789850262,15.045659446246281,21.057295426043503,11.73528294991677,26.217516267755553,21.804279455705203,8.862067100683365,2.3452276858221732,18.69911929074428,32.52009325810631,32.565851223506805,17.724158583601454,2.275217740840262,4.023097754726226,31.62274881196265,27.537776019873842,23.894548722126217,6.571696983041341,32.67609491458244,4.295238817267638,32.31390838082281,28.89783947539239,28.128518593119672,35.28357393797251,46.32775718533509,8.542250383771798,26.62031934938016,50.06271876272548,36.937101482792215,39.43879835693539,35.02420229184632,6.732660215312089,29.879188878256876,28.123015324672497,46.64944541089829,54.45366018353831,2.8468093715254272,9.87539085800345,60.64049284922469,58.614644707845954,47.465223553802346,57.81506776199201,15.304050248933503,52.85340515338882,59.91604706440537,4.684261344431628,39.55477207361679,70.08538043723438,50.25074341611791,24.05777094578587,4.08273409391848,4.045479963059318,25.17170814252514,43.225711228300135,27.466007001972013,45.83955080222049,28.626332777478964,3.280743568734135,76.52878514030976,60.88884120722469,25.20883723650942,34.24381552390931,45.02970100794786,10.682049958193149,17.34610727613288,15.63472887773795,66.5061845229548,88.17534198478293,16.807266123135292,2.985609173521949,30.04893679455467,51.75100728658188,2.472169339875002,73.65669119943928,28.185909140075175,74.61030055719206]}];\n",
       " var layout_Qlebd1WXfV = {\"height\":350,\"width\":350,\"hovermode\":\"closest\",\"showlegend\":true,\"margin\":{\"l\":50,\"r\":50,\"t\":50,\"b\":50},\"xaxis\":{\"title\":{\"text\":\"x axis 2\"},\"showgrid\":true,\"zeroline\":false,\"showline\":false},\"yaxis\":{\"title\":{\"text\":\"y axis 2\"},\"showgrid\":true,\"zeroline\":false,\"showline\":false}};\n",
       " var config_Qlebd1WXfV = {\"responsive\":true,\"scrollZoom\":true,\"displaylogo\":false};\n",
       " Plotly.newPlot(\"graph_Qlebd1WXfV\", traces_Qlebd1WXfV, layout_Qlebd1WXfV, config_Qlebd1WXfV);\n",
       "\n",
       "  var traces_dzLTMwRY26 = [{\"name\":\"c\",\"type\":\"scatter\",\"mode\":\"markers\",\"x\":[0,0.24568038187621222,0.9629731644742203,1.971702661458402,1.8782697729179425,0.16497109169897495,5.973558934284088,3.0462254258186343,0.11443157797915404,1.7839640749527437,1.289775513140602,10.012880292005917,10.350526996101065,8.25447300600215,5.990295229197867,2.4358697831011495,7.968857817563109,6.310846445887597,7.712915912171708,11.909982591347001,15.487697795244769,5.035673134114914,13.621018131768071,3.4962182912105098,5.454215262661319,7.963347380744956,9.216127563822399,10.884262601233717,10.91399511604172,26.87565933815582,15.65410407495773,15.439216340608203,21.46330470665283,4.629910902457163,27.846485619176185,18.06730241203488,4.274040654501172,13.740908272581018,8.334580567296461,7.132165689696747,12.572105806763378,22.463577152847932,23.961986070402965,25.719778659677285,31.0978287156654,37.042877449253034,13.99132845434864,16.635908604552558,45.33191242298108,26.86211778178409,45.76316359463242,38.87556343442215,6.982316084499307,23.679806396363457,11.529155619638944,11.17884566999805,28.646416807553763,31.248627344389767,19.957878664094242,46.93216030188264,41.93877837129508,27.608232654967495,14.259816919822413,43.337793502852605,37.95785944995394,60.486083163053976,26.158384191389203,18.708476656606717,63.00503355626223,47.77770511852752,7.296159721510188,41.196661776112016,52.21636427674753,29.259345050813273,25.35979644405724,56.49091132151118,15.47167457400223,49.7622053468046,39.483463777216016,46.25396308646504,9.856591247689801,53.258115086543,42.59910033820286,23.58878095033192,23.321409583826174,82.92176087941326,65.59212475964313,44.850138411756824,49.25580426943778,16.494331222724576,35.643793751128094,4.9200511227613255,1.7306555887624202,6.4277544599550405,55.24579771903027,71.88570866587197,40.397507903522595,21.587518060367437,69.30930631970074,82.14839381189144],\"y\":[0,0.257281444326082,1.52566910497931,1.56120079961218,0.8351822014371151,1.016740651694907,1.401187353041619,3.002315913741933,3.214076733444606,5.580581915056204,9.746286063938864,6.757572504957293,0.1432674723111531,2.935514654831465,0.8416005459791827,8.155954148081332,8.8385654969865,9.608530342974657,4.792051524107965,13.733473142180346,14.202681656456107,7.275061592086926,8.74476747723827,12.36182656893148,13.303031789850262,15.045659446246281,21.057295426043503,11.73528294991677,26.217516267755553,21.804279455705203,8.862067100683365,2.3452276858221732,18.69911929074428,32.52009325810631,32.565851223506805,17.724158583601454,2.275217740840262,4.023097754726226,31.62274881196265,27.537776019873842,23.894548722126217,6.571696983041341,32.67609491458244,4.295238817267638,32.31390838082281,28.89783947539239,28.128518593119672,35.28357393797251,46.32775718533509,8.542250383771798,26.62031934938016,50.06271876272548,36.937101482792215,39.43879835693539,35.02420229184632,6.732660215312089,29.879188878256876,28.123015324672497,46.64944541089829,54.45366018353831,2.8468093715254272,9.87539085800345,60.64049284922469,58.614644707845954,47.465223553802346,57.81506776199201,15.304050248933503,52.85340515338882,59.91604706440537,4.684261344431628,39.55477207361679,70.08538043723438,50.25074341611791,24.05777094578587,4.08273409391848,4.045479963059318,25.17170814252514,43.225711228300135,27.466007001972013,45.83955080222049,28.626332777478964,3.280743568734135,76.52878514030976,60.88884120722469,25.20883723650942,34.24381552390931,45.02970100794786,10.682049958193149,17.34610727613288,15.63472887773795,66.5061845229548,88.17534198478293,16.807266123135292,2.985609173521949,30.04893679455467,51.75100728658188,2.472169339875002,73.65669119943928,28.185909140075175,74.61030055719206]}];\n",
       " var layout_dzLTMwRY26 = {\"height\":350,\"width\":350,\"hovermode\":\"closest\",\"showlegend\":true,\"margin\":{\"l\":50,\"r\":30,\"t\":50,\"b\":50},\"xaxis\":{\"title\":{\"text\":\"x axis 3\"},\"showgrid\":true,\"zeroline\":false,\"showline\":false},\"yaxis\":{\"title\":{\"text\":\"y axis 3\"},\"showgrid\":true,\"zeroline\":false,\"showline\":false}};\n",
       " var config_dzLTMwRY26 = {\"responsive\":true,\"scrollZoom\":true,\"displaylogo\":false};\n",
       " Plotly.newPlot(\"graph_dzLTMwRY26\", traces_dzLTMwRY26, layout_dzLTMwRY26, config_dzLTMwRY26);\n",
       "\n",
       "  var traces_9hiTCiYkx4 = [{\"name\":\"First series\",\"type\":\"scatter\",\"mode\":\"markers\",\"x\":[1,2,3],\"y\":[2,4,5]},{\"name\":\"Second series\",\"type\":\"scatter\",\"mode\":\"markers\",\"xaxis\":\"x2\",\"yaxis\":\"y2\",\"x\":[0,0.24568038187621222,0.9629731644742203,1.971702661458402,1.8782697729179425,0.16497109169897495,5.973558934284088,3.0462254258186343,0.11443157797915404,1.7839640749527437,1.289775513140602,10.012880292005917,10.350526996101065,8.25447300600215,5.990295229197867,2.4358697831011495,7.968857817563109,6.310846445887597,7.712915912171708,11.909982591347001,15.487697795244769,5.035673134114914,13.621018131768071,3.4962182912105098,5.454215262661319,7.963347380744956,9.216127563822399,10.884262601233717,10.91399511604172,26.87565933815582,15.65410407495773,15.439216340608203,21.46330470665283,4.629910902457163,27.846485619176185,18.06730241203488,4.274040654501172,13.740908272581018,8.334580567296461,7.132165689696747,12.572105806763378,22.463577152847932,23.961986070402965,25.719778659677285,31.0978287156654,37.042877449253034,13.99132845434864,16.635908604552558,45.33191242298108,26.86211778178409,45.76316359463242,38.87556343442215,6.982316084499307,23.679806396363457,11.529155619638944,11.17884566999805,28.646416807553763,31.248627344389767,19.957878664094242,46.93216030188264,41.93877837129508,27.608232654967495,14.259816919822413,43.337793502852605,37.95785944995394,60.486083163053976,26.158384191389203,18.708476656606717,63.00503355626223,47.77770511852752,7.296159721510188,41.196661776112016,52.21636427674753,29.259345050813273,25.35979644405724,56.49091132151118,15.47167457400223,49.7622053468046,39.483463777216016,46.25396308646504,9.856591247689801,53.258115086543,42.59910033820286,23.58878095033192,23.321409583826174,82.92176087941326,65.59212475964313,44.850138411756824,49.25580426943778,16.494331222724576,35.643793751128094,4.9200511227613255,1.7306555887624202,6.4277544599550405,55.24579771903027,71.88570866587197,40.397507903522595,21.587518060367437,69.30930631970074,82.14839381189144],\"y\":[0,0.257281444326082,1.52566910497931,1.56120079961218,0.8351822014371151,1.016740651694907,1.401187353041619,3.002315913741933,3.214076733444606,5.580581915056204,9.746286063938864,6.757572504957293,0.1432674723111531,2.935514654831465,0.8416005459791827,8.155954148081332,8.8385654969865,9.608530342974657,4.792051524107965,13.733473142180346,14.202681656456107,7.275061592086926,8.74476747723827,12.36182656893148,13.303031789850262,15.045659446246281,21.057295426043503,11.73528294991677,26.217516267755553,21.804279455705203,8.862067100683365,2.3452276858221732,18.69911929074428,32.52009325810631,32.565851223506805,17.724158583601454,2.275217740840262,4.023097754726226,31.62274881196265,27.537776019873842,23.894548722126217,6.571696983041341,32.67609491458244,4.295238817267638,32.31390838082281,28.89783947539239,28.128518593119672,35.28357393797251,46.32775718533509,8.542250383771798,26.62031934938016,50.06271876272548,36.937101482792215,39.43879835693539,35.02420229184632,6.732660215312089,29.879188878256876,28.123015324672497,46.64944541089829,54.45366018353831,2.8468093715254272,9.87539085800345,60.64049284922469,58.614644707845954,47.465223553802346,57.81506776199201,15.304050248933503,52.85340515338882,59.91604706440537,4.684261344431628,39.55477207361679,70.08538043723438,50.25074341611791,24.05777094578587,4.08273409391848,4.045479963059318,25.17170814252514,43.225711228300135,27.466007001972013,45.83955080222049,28.626332777478964,3.280743568734135,76.52878514030976,60.88884120722469,25.20883723650942,34.24381552390931,45.02970100794786,10.682049958193149,17.34610727613288,15.63472887773795,66.5061845229548,88.17534198478293,16.807266123135292,2.985609173521949,30.04893679455467,51.75100728658188,2.472169339875002,73.65669119943928,28.185909140075175,74.61030055719206]}];\n",
       " var layout_9hiTCiYkx4 = {\"height\":350,\"width\":350,\"hovermode\":\"closest\",\"title\":{\"text\":\"The MultiChart from Above\"},\"showlegend\":true,\"grid\":{\"rows\":1,\"columns\":2,\"pattern\":\"independent\"},\"xaxis\":{\"showgrid\":true,\"zeroline\":false,\"showline\":false},\"xaxis2\":{\"title\":{\"text\":\"x2\"},\"showgrid\":true,\"zeroline\":false,\"showline\":false},\"yaxis2\":{\"showgrid\":true,\"zeroline\":false,\"showline\":false}};\n",
       " var config_9hiTCiYkx4 = {\"responsive\":false,\"scrollZoom\":true,\"displaylogo\":false};\n",
       " Plotly.newPlot(\"graph_9hiTCiYkx4\", traces_9hiTCiYkx4, layout_9hiTCiYkx4, config_9hiTCiYkx4);\n",
       "\n",
       "var save_Q1mrfcKoWZ = document.getElementById(\"saveAsPNG_Q1mrfcKoWZ\")\n",
       "save_Q1mrfcKoWZ.onclick = async function() {\n",
       "    const grid = document.getElementById(\"grid-container_Q1mrfcKoWZ\")\n",
       "    const graphs = grid.getElementsByClassName(\"graph\")\n",
       "\n",
       "    const images = []\n",
       "\n",
       "    const rows = 2\n",
       "    const cols = 2\n",
       "    const img_width = 400\n",
       "    const img_height = 400\n",
       "    var margin = 50\n",
       "\n",
       "    for (var i=0; i<rows; i++) {\n",
       "      for (var j=0; j<cols; j++) {\n",
       "        const image = await Plotly.toImage(graphs[i * cols + j], {format: 'png', width: img_width, height: img_height})\n",
       "        images.push(image);\n",
       "      }\n",
       "    }\n",
       "\n",
       "    const positioned_images = []\n",
       "\n",
       "        for (var i=0; i<rows; i++) {\n",
       "            for (var j=0; j<cols; j++) {\n",
       "\n",
       "                const obj = {\n",
       "                    \"src\": images[i*cols + j],\n",
       "                    x: j*img_width+margin,\n",
       "                    y: i*img_height+margin\n",
       "                }\n",
       "\n",
       "                positioned_images.push(obj)\n",
       "            }\n",
       "        }\n",
       "\n",
       "        mergeImages(positioned_images, {\n",
       "            width: img_width*cols+60, height: img_height*rows+60\n",
       "        })\n",
       "        .then(b64 => {\n",
       "            var a = document.createElement(\"a\");\n",
       "            a.href = b64;\n",
       "            a.download = \"Image.png\";\n",
       "            a.click();\n",
       "            a.remove()\n",
       "        });\n",
       "}\n",
       "</script> \n"
      ]
     },
     "metadata": {},
     "output_type": "display_data"
    }
   ],
   "source": [
    "// first define the x-axes we will use in the plot\n",
    "val ax1 = Axis(X, title = \"x axis 1\")\n",
    "val ax2 = Axis(X, title = \"x axis 2\")\n",
    "val ax3 = Axis(X, title = \"x axis 3\")\n",
    "val ax4 = Axis(X, title = \"x axis 4\")\n",
    "\n",
    "// first define the y-axes we will use in the plot\n",
    "val ax6 = Axis(Y, title = \"y axis 1\")\n",
    "val ax7 = Axis(Y, title = \"y axis 2\")\n",
    "val ax8 = Axis(Y, title = \"y axis 3\")\n",
    "val ax9 = Axis(Y, title = \"y axis 4\")\n",
    "\n",
    "// it may be necessary to play around with the chart dimensions and margin  in order to ensure a good fit on screen.\n",
    "val dim = 350\n",
    "\n",
    "val chart1 = (\n",
    "    Chart()\n",
    "    setDimensions(width = dim, height = dim)\n",
    "    addSeries XY(x, y).setName(\"a\").drawMarkers\n",
    "    addAxes(ax1, ax6)\n",
    "    setMargin(l=50, r=30, t=50, b=50)\n",
    ")\n",
    "\n",
    "val chart2 = (\n",
    "    Chart() \n",
    "    setDimensions(width = dim, height = dim)\n",
    "    addSeries XY(x, y).setName(\"b\").drawMarkers\n",
    "    addAxes(ax2, ax7)\n",
    "    setMargin(l=50, r=50, t=50, b=50)\n",
    ")\n",
    "\n",
    "val chart3 = (\n",
    "    Chart()\n",
    "    setDimensions(width = dim, height = dim)\n",
    "    addSeries XY(x, y).setName(\"c\").drawMarkers\n",
    "    addAxes(ax3, ax8)\n",
    "    setMargin(l=50, r=30, t=50, b=50)\n",
    ")\n",
    "\n",
    "val chart4 = (\n",
    "    Chart()\n",
    "    setDimensions(width = dim, height = dim)\n",
    "    addSeries(series1, series2)\n",
    "    setTitle \"The MultiChart from Above\"\n",
    "    addAxes(xaxis1, yaxis1, xaxis2, yaxis2) // these axes come from above\n",
    "    setConfig(responsive=false)\n",
    "    asMultiChart(1, 2)\n",
    ")\n",
    "\n",
    "// The canvas has an underlying grid. By default the underlying grid is 1x1, but we can pass in the dimensions we \n",
    "// require by passing in parameters in the constructor.\n",
    "Canvas(2, 2)\n",
    ".setChart(0, 0, chart1)\n",
    ".setChart(0, 1, chart2)\n",
    ".setChart(1, 0, chart3)\n",
    ".setChart(1, 1, chart4)\n",
    ".plotInline"
   ]
  },
  {
   "cell_type": "markdown",
   "metadata": {},
   "source": [
    "### Error Bars\n",
    "\n",
    "We can also add Error Bars to our plots.\n",
    "\n",
    "Error bars come in two flavours:\n",
    "\n",
    "1. `XError`\n",
    "2. `YError`\n",
    "\n",
    "Both of these has an associated `mode` that determines how the error bar is calculated for an individual point. The following `mode`s can be specified:\n",
    "\n",
    "- `DATA`: The user passes in an array that specifies the per point error\n",
    "- `PERCENT`: The user passes in a Double that calculates the error as a percentage of the value of the point\n",
    "- `CONSTANT`: The user passes in a double that is the constant value for the error for all points\n",
    "- `SQRT`: This calculates the error as a square root of the point value.\n",
    "\n",
    "The next few examples will demonstrate:"
   ]
  },
  {
   "cell_type": "code",
   "execution_count": 22,
   "metadata": {},
   "outputs": [],
   "source": [
    "// First import the Error Bar options\n",
    "import org.carbonateresearch.picta.options.{YError, CONSTANT, DATA, PERCENT, SQRT}"
   ]
  },
  {
   "cell_type": "code",
   "execution_count": 23,
   "metadata": {},
   "outputs": [
    {
     "data": {
      "text/html": [
       "<div id=\"grid-container_oS4HWPvo3z\" class=\"grid-container\" align=\"center\"> \n",
       "<div id=\"grid_oS4HWPvo3z\" class=\"grid\" align=\"center\"> \n",
       "<div id=\"graph_PQ7DTYOS4B\" class=\"graph\"></div> \n",
       "<div id=\"graph_j8whW69u3U\" class=\"graph\"></div> \n",
       "<div id=\"graph_Yr8YAefxdi\" class=\"graph\"></div> \n",
       "<div id=\"graph_t8Cq4hpLyw\" class=\"graph\"></div> \n",
       "</div> \n",
       "</div> \n",
       "\n",
       "<div align=\"center\">\n",
       "<button id = \"saveAsPNG_oS4HWPvo3z\" class=\"picta-button\">Download Canvas as PNG</button>\n",
       "</div>\n",
       "<script>\n",
       "var masonry = new Macy({\n",
       "    container: '#grid_oS4HWPvo3z',\n",
       "    debug: true,\n",
       "    mobileFirst: true,\n",
       "    columns: 2,\n",
       "    margin: {\n",
       "        x: 0,\n",
       "        y: 0\n",
       "    }\n",
       "  });\n",
       "\n",
       "  var traces_PQ7DTYOS4B = [{\"name\":\"Error from provided data\",\"type\":\"scatter\",\"mode\":\"markers\",\"x\":[1,2,3],\"y\":[1.234,5.2112,2.44332],\"error_y\":{\"type\":\"data\",\"visible\":true,\"array\":[0.5,0.5,0.5]}}];\n",
       " var layout_PQ7DTYOS4B = {\"height\":400,\"width\":400,\"hovermode\":\"closest\",\"title\":{\"text\":\"Per Point Specified Error\"},\"showlegend\":true};\n",
       " var config_PQ7DTYOS4B = {\"responsive\":true,\"scrollZoom\":true,\"displaylogo\":false};\n",
       " Plotly.newPlot(\"graph_PQ7DTYOS4B\", traces_PQ7DTYOS4B, layout_PQ7DTYOS4B, config_PQ7DTYOS4B);\n",
       "\n",
       "  var traces_j8whW69u3U = [{\"name\":\"% error\",\"type\":\"scatter\",\"mode\":\"markers\",\"x\":[1,2,3],\"y\":[1.234,5.2112,2.44332],\"error_y\":{\"type\":\"percent\",\"visible\":true,\"value\":10}}];\n",
       " var layout_j8whW69u3U = {\"height\":400,\"width\":400,\"hovermode\":\"closest\",\"title\":{\"text\":\"Percentage Error\"},\"showlegend\":true};\n",
       " var config_j8whW69u3U = {\"responsive\":true,\"scrollZoom\":true,\"displaylogo\":false};\n",
       " Plotly.newPlot(\"graph_j8whW69u3U\", traces_j8whW69u3U, layout_j8whW69u3U, config_j8whW69u3U);\n",
       "\n",
       "  var traces_Yr8YAefxdi = [{\"name\":\"constant error\",\"type\":\"scatter\",\"mode\":\"markers\",\"x\":[1,2,3],\"y\":[1.234,5.2112,2.44332],\"error_y\":{\"type\":\"constant\",\"visible\":true,\"value\":10}}];\n",
       " var layout_Yr8YAefxdi = {\"height\":400,\"width\":400,\"hovermode\":\"closest\",\"title\":{\"text\":\"Constant Error\"},\"showlegend\":true};\n",
       " var config_Yr8YAefxdi = {\"responsive\":true,\"scrollZoom\":true,\"displaylogo\":false};\n",
       " Plotly.newPlot(\"graph_Yr8YAefxdi\", traces_Yr8YAefxdi, layout_Yr8YAefxdi, config_Yr8YAefxdi);\n",
       "\n",
       "  var traces_t8Cq4hpLyw = [{\"name\":\"Sqrt\",\"type\":\"scatter\",\"mode\":\"markers\",\"x\":[1,2,3],\"y\":[1.234,5.2112,2.44332],\"error_y\":{\"type\":\"sqrt\",\"visible\":true}}];\n",
       " var layout_t8Cq4hpLyw = {\"height\":400,\"width\":400,\"hovermode\":\"closest\",\"title\":{\"text\":\"Sqrt Error\"},\"showlegend\":true};\n",
       " var config_t8Cq4hpLyw = {\"responsive\":true,\"scrollZoom\":true,\"displaylogo\":false};\n",
       " Plotly.newPlot(\"graph_t8Cq4hpLyw\", traces_t8Cq4hpLyw, layout_t8Cq4hpLyw, config_t8Cq4hpLyw);\n",
       "\n",
       "var save_oS4HWPvo3z = document.getElementById(\"saveAsPNG_oS4HWPvo3z\")\n",
       "save_oS4HWPvo3z.onclick = async function() {\n",
       "    const grid = document.getElementById(\"grid-container_oS4HWPvo3z\")\n",
       "    const graphs = grid.getElementsByClassName(\"graph\")\n",
       "\n",
       "    const images = []\n",
       "\n",
       "    const rows = 2\n",
       "    const cols = 2\n",
       "    const img_width = 400\n",
       "    const img_height = 400\n",
       "    var margin = 50\n",
       "\n",
       "    for (var i=0; i<rows; i++) {\n",
       "      for (var j=0; j<cols; j++) {\n",
       "        const image = await Plotly.toImage(graphs[i * cols + j], {format: 'png', width: img_width, height: img_height})\n",
       "        images.push(image);\n",
       "      }\n",
       "    }\n",
       "\n",
       "    const positioned_images = []\n",
       "\n",
       "        for (var i=0; i<rows; i++) {\n",
       "            for (var j=0; j<cols; j++) {\n",
       "\n",
       "                const obj = {\n",
       "                    \"src\": images[i*cols + j],\n",
       "                    x: j*img_width+margin,\n",
       "                    y: i*img_height+margin\n",
       "                }\n",
       "\n",
       "                positioned_images.push(obj)\n",
       "            }\n",
       "        }\n",
       "\n",
       "        mergeImages(positioned_images, {\n",
       "            width: img_width*cols+60, height: img_height*rows+60\n",
       "        })\n",
       "        .then(b64 => {\n",
       "            var a = document.createElement(\"a\");\n",
       "            a.href = b64;\n",
       "            a.download = \"Image.png\";\n",
       "            a.click();\n",
       "            a.remove()\n",
       "        });\n",
       "}\n",
       "</script> \n"
      ]
     },
     "metadata": {},
     "output_type": "display_data"
    }
   ],
   "source": [
    "val dim = 400\n",
    "\n",
    "val series1 = (\n",
    "    XY(List(1, 2, 3), List(1.234, 5.2112, 2.44332))\n",
    "    asType SCATTER\n",
    "    drawStyle MARKERS\n",
    "    // User specifies the error per point \n",
    "    setErrorBars YError(mode = DATA, array = List(0.5, 0.5, 0.5))\n",
    ")\n",
    "\n",
    "val chart1 = (\n",
    "    Chart()\n",
    "    addSeries series1.setName(\"Error from provided data\")\n",
    "    setTitle \"Per Point Specified Error\"\n",
    "    setDimensions(width = dim, height = dim)\n",
    ")\n",
    "\n",
    "\n",
    "val series2 = (\n",
    "    XY(List(1, 2, 3), List(1.234, 5.2112, 2.44332))\n",
    "    asType SCATTER\n",
    "    drawStyle MARKERS\n",
    "    // the error here is 10% of the corresponding y-value for the point\n",
    "    setErrorBars YError(mode = PERCENT, value = 10.0)\n",
    ")\n",
    "\n",
    "val chart2 = (\n",
    "    Chart()\n",
    "    addSeries series2.setName(\"% error\")\n",
    "    setTitle \"Percentage Error\"\n",
    "    setDimensions(width = dim, height = dim)\n",
    "    \n",
    ")\n",
    "\n",
    "\n",
    "val series3 = (\n",
    "    XY(List(1, 2, 3), List(1.234, 5.2112, 2.44332))\n",
    "    asType SCATTER\n",
    "    drawStyle MARKERS\n",
    "    // a constant error of 10 is applied to each point\n",
    "    setErrorBars YError(mode = CONSTANT, value = 10.0)\n",
    "    setName(\"Constant value\")\n",
    ")\n",
    "\n",
    "val chart3 = (\n",
    "    Chart()\n",
    "    addSeries series3.setName(\"constant error\")\n",
    "    setTitle \"Constant Error\"\n",
    "    setDimensions(width = dim, height = dim)\n",
    ")\n",
    "\n",
    "\n",
    "val series4 = (\n",
    "    XY(List(1, 2, 3), List(1.234, 5.2112, 2.44332))\n",
    "    asType SCATTER\n",
    "    drawStyle MARKERS\n",
    "    setErrorBars YError(mode = SQRT)\n",
    "    setName(\"Sqrt\")\n",
    ")\n",
    "\n",
    "val chart4 = (\n",
    "    Chart()\n",
    "    addSeries series4.setName(\"Sqrt\")\n",
    "    setTitle \"Sqrt Error\"\n",
    "    // the error is set to the sqrt of the corresponding point\n",
    "    setDimensions(width = dim, height = dim)\n",
    ")\n",
    "\n",
    "val canvas = Canvas(2, 2) addCharts (chart1, chart2, chart3, chart4)\n",
    "\n",
    "canvas.plotInline"
   ]
  },
  {
   "cell_type": "markdown",
   "metadata": {},
   "source": [
    "### Other Types of Charts\n",
    "\n",
    "The next examples will demonstrate how to create a variety of `Chart`s. All of the examples below are composable with the `Canvas` subplot system.\n",
    "\n",
    "#### Pie Chart\n",
    "\n",
    "Pie charts can be created in two ways. The first way uses the `PieElement` component to compose a Piechart:"
   ]
  },
  {
   "cell_type": "code",
   "execution_count": 24,
   "metadata": {},
   "outputs": [
    {
     "data": {
      "text/html": [
       "<div id=\"grid-container_FqD69zLjmb\" class=\"grid-container\" align=\"center\"> \n",
       "<div id=\"grid_FqD69zLjmb\" class=\"grid\" align=\"center\"> \n",
       "<div id=\"graph_scvOznF9Lc\" class=\"graph\"></div> \n",
       "</div> \n",
       "</div> \n",
       "<script>\n",
       "var masonry = new Macy({\n",
       "    container: '#grid_FqD69zLjmb',\n",
       "    debug: true,\n",
       "    mobileFirst: true,\n",
       "    columns: 1,\n",
       "    margin: {\n",
       "        x: 0,\n",
       "        y: 0\n",
       "    }\n",
       "  });\n",
       "\n",
       "  var traces_scvOznF9Lc = [{\"name\":\"slQpnjJGaj\",\"type\":\"pie\",\"values\":[60,20,20],\"labels\":[\"Residential\",\"Non-Residential\",\"Utility\"]}];\n",
       " var layout_scvOznF9Lc = {\"height\":550,\"width\":600,\"hovermode\":\"closest\",\"title\":{\"text\":\"Pie Elements\"},\"showlegend\":true};\n",
       " var config_scvOznF9Lc = {\"responsive\":true,\"scrollZoom\":true,\"displaylogo\":false};\n",
       " Plotly.newPlot(\"graph_scvOznF9Lc\", traces_scvOznF9Lc, layout_scvOznF9Lc, config_scvOznF9Lc);\n",
       "</script> \n"
      ]
     },
     "metadata": {},
     "output_type": "display_data"
    }
   ],
   "source": [
    "val a = PieElement(value=60, name=\"Residential\")\n",
    "val b = PieElement(value=20, name=\"Non-Residential\")\n",
    "val c = PieElement(value=20, name=\"Utility\")\n",
    "\n",
    "// we add a list of Pie Elements to an XY series as the list of Pie Elements gets deconstructed down into two series:\n",
    "// X => values: [60, 20, 20]\n",
    "// Y => labels: [\"Residential\", \"Non-Residential\", \"Utility\"]\n",
    "// The labels become the series_name for each individual PieElement\n",
    "// As we pass in a list of PieElements, we do not need to specify the type as a PIE\n",
    "val series = XY(x=List(a, b, c))\n",
    "\n",
    "val chart = Chart() addSeries series setTitle \"Pie Elements\"\n",
    "\n",
    "chart.plotInline"
   ]
  },
  {
   "cell_type": "code",
   "execution_count": 25,
   "metadata": {},
   "outputs": [
    {
     "data": {
      "text/html": [
       "<div id=\"grid-container_5iTs5HrUwH\" class=\"grid-container\" align=\"center\"> \n",
       "<div id=\"grid_5iTs5HrUwH\" class=\"grid\" align=\"center\"> \n",
       "<div id=\"graph_e6U8Z9lWLI\" class=\"graph\"></div> \n",
       "</div> \n",
       "</div> \n",
       "<script>\n",
       "var masonry = new Macy({\n",
       "    container: '#grid_5iTs5HrUwH',\n",
       "    debug: true,\n",
       "    mobileFirst: true,\n",
       "    columns: 1,\n",
       "    margin: {\n",
       "        x: 0,\n",
       "        y: 0\n",
       "    }\n",
       "  });\n",
       "\n",
       "  var traces_e6U8Z9lWLI = [{\"name\":\"oOdkrRt8WY\",\"type\":\"pie\",\"values\":[60,20,20],\"labels\":[\"Residential\",\"Non-Residential\",\"Utility\"]}];\n",
       " var layout_e6U8Z9lWLI = {\"height\":550,\"width\":600,\"hovermode\":\"closest\",\"title\":{\"text\":\"Pie Chart\"},\"showlegend\":true};\n",
       " var config_e6U8Z9lWLI = {\"responsive\":false,\"scrollZoom\":false,\"displaylogo\":false};\n",
       " Plotly.newPlot(\"graph_e6U8Z9lWLI\", traces_e6U8Z9lWLI, layout_e6U8Z9lWLI, config_e6U8Z9lWLI);\n",
       "</script> \n"
      ]
     },
     "metadata": {},
     "output_type": "display_data"
    }
   ],
   "source": [
    "// However, composing individual PieElements may be tedious if there is a lot of data and we know how to it all fits\n",
    "// together. Picta provides a short hand to quickly create a Pie Chart using the methods we have seen previously\n",
    "// In this case we pass the (value, name) pairs as two seperate lists. As before, the labels become an individual\n",
    "// series name for each point; which is why the legend renders correctly.\n",
    "val series = XY(x=List(60, 20, 20), y=List(\"Residential\", \"Non-Residential\", \"Utility\")) asType PIE\n",
    "\n",
    "val chart = Chart() addSeries series setConfig(false, false) setTitle \"Pie Chart\"\n",
    "\n",
    "chart.plotInline"
   ]
  },
  {
   "cell_type": "markdown",
   "metadata": {},
   "source": [
    "### Histogram"
   ]
  },
  {
   "cell_type": "code",
   "execution_count": 26,
   "metadata": {},
   "outputs": [
    {
     "data": {
      "text/html": [
       "<div id=\"grid-container_Hrk0q3jfrX\" class=\"grid-container\" align=\"center\"> \n",
       "<div id=\"grid_Hrk0q3jfrX\" class=\"grid\" align=\"center\"> \n",
       "<div id=\"graph_pAbSYr3Xqr\" class=\"graph\"></div> \n",
       "</div> \n",
       "</div> \n",
       "<script>\n",
       "var masonry = new Macy({\n",
       "    container: '#grid_Hrk0q3jfrX',\n",
       "    debug: true,\n",
       "    mobileFirst: true,\n",
       "    columns: 1,\n",
       "    margin: {\n",
       "        x: 0,\n",
       "        y: 0\n",
       "    }\n",
       "  });\n",
       "\n",
       "  var traces_pAbSYr3Xqr = [{\"name\":\"N53u4TcJyM\",\"type\":\"histogram\",\"x\":[0,0.24568038187621222,0.9629731644742203,1.971702661458402,1.8782697729179425,0.16497109169897495,5.973558934284088,3.0462254258186343,0.11443157797915404,1.7839640749527437,1.289775513140602,10.012880292005917,10.350526996101065,8.25447300600215,5.990295229197867,2.4358697831011495,7.968857817563109,6.310846445887597,7.712915912171708,11.909982591347001,15.487697795244769,5.035673134114914,13.621018131768071,3.4962182912105098,5.454215262661319,7.963347380744956,9.216127563822399,10.884262601233717,10.91399511604172,26.87565933815582,15.65410407495773,15.439216340608203,21.46330470665283,4.629910902457163,27.846485619176185,18.06730241203488,4.274040654501172,13.740908272581018,8.334580567296461,7.132165689696747,12.572105806763378,22.463577152847932,23.961986070402965,25.719778659677285,31.0978287156654,37.042877449253034,13.99132845434864,16.635908604552558,45.33191242298108,26.86211778178409,45.76316359463242,38.87556343442215,6.982316084499307,23.679806396363457,11.529155619638944,11.17884566999805,28.646416807553763,31.248627344389767,19.957878664094242,46.93216030188264,41.93877837129508,27.608232654967495,14.259816919822413,43.337793502852605,37.95785944995394,60.486083163053976,26.158384191389203,18.708476656606717,63.00503355626223,47.77770511852752,7.296159721510188,41.196661776112016,52.21636427674753,29.259345050813273,25.35979644405724,56.49091132151118,15.47167457400223,49.7622053468046,39.483463777216016,46.25396308646504,9.856591247689801,53.258115086543,42.59910033820286,23.58878095033192,23.321409583826174,82.92176087941326,65.59212475964313,44.850138411756824,49.25580426943778,16.494331222724576,35.643793751128094,4.9200511227613255,1.7306555887624202,6.4277544599550405,55.24579771903027,71.88570866587197,40.397507903522595,21.587518060367437,69.30930631970074,82.14839381189144]}];\n",
       " var layout_pAbSYr3Xqr = {\"height\":550,\"width\":600,\"hovermode\":\"closest\",\"title\":{\"text\":\"Histogram with axes\"},\"showlegend\":true,\"xaxis\":{\"title\":{\"text\":\"my x data\"},\"showgrid\":true,\"zeroline\":false,\"showline\":false},\"yaxis\":{\"title\":{\"text\":\"my y data\"},\"showgrid\":true,\"zeroline\":false,\"showline\":false}};\n",
       " var config_pAbSYr3Xqr = {\"responsive\":true,\"scrollZoom\":true,\"displaylogo\":false};\n",
       " Plotly.newPlot(\"graph_pAbSYr3Xqr\", traces_pAbSYr3Xqr, layout_pAbSYr3Xqr, config_pAbSYr3Xqr);\n",
       "</script> \n"
      ]
     },
     "metadata": {},
     "output_type": "display_data"
    }
   ],
   "source": [
    "val series = XY(x=x) asType HISTOGRAM\n",
    "\n",
    "val xaxis = Axis(X, title = \"my x data\")\n",
    "val yaxis = Axis(Y, title = \"my y data\")\n",
    "\n",
    "val chart = (\n",
    "    Chart() \n",
    "    addSeries series\n",
    "    setTitle \"Histogram with axes\"\n",
    "    addAxes(xaxis, yaxis)\n",
    ")\n",
    "\n",
    "Canvas()\n",
    ".addCharts(chart)\n",
    ".plotInline"
   ]
  },
  {
   "cell_type": "markdown",
   "metadata": {},
   "source": [
    "#### Customizing colors for a Histogram\n",
    "\n",
    "We can use the `HistOptions` class to further specify options for a histogram. For example, if we wanted to create a horizontally positioned histogram, we can do the following:"
   ]
  },
  {
   "cell_type": "code",
   "execution_count": 27,
   "metadata": {},
   "outputs": [],
   "source": [
    "import org.carbonateresearch.picta.options.histogram.HistOptions\n",
    "import org.carbonateresearch.picta.options.Line"
   ]
  },
  {
   "cell_type": "code",
   "execution_count": 28,
   "metadata": {},
   "outputs": [
    {
     "data": {
      "text/html": [
       "<div id=\"grid-container_gneLDr2FTz\" class=\"grid-container\" align=\"center\"> \n",
       "<div id=\"grid_gneLDr2FTz\" class=\"grid\" align=\"center\"> \n",
       "<div id=\"graph_vk6a4oNP5D\" class=\"graph\"></div> \n",
       "</div> \n",
       "</div> \n",
       "<script>\n",
       "var masonry = new Macy({\n",
       "    container: '#grid_gneLDr2FTz',\n",
       "    debug: true,\n",
       "    mobileFirst: true,\n",
       "    columns: 1,\n",
       "    margin: {\n",
       "        x: 0,\n",
       "        y: 0\n",
       "    }\n",
       "  });\n",
       "\n",
       "  var traces_vk6a4oNP5D = [{\"name\":\"KF7SxymwPn\",\"type\":\"histogram\",\"marker\":{\"color\":\"rgba(255.0, 100.0, 102.0, 0.5)\",\"line\":{\"width\":0.5}},\"y\":[0,0.24568038187621222,0.9629731644742203,1.971702661458402,1.8782697729179425,0.16497109169897495,5.973558934284088,3.0462254258186343,0.11443157797915404,1.7839640749527437,1.289775513140602,10.012880292005917,10.350526996101065,8.25447300600215,5.990295229197867,2.4358697831011495,7.968857817563109,6.310846445887597,7.712915912171708,11.909982591347001,15.487697795244769,5.035673134114914,13.621018131768071,3.4962182912105098,5.454215262661319,7.963347380744956,9.216127563822399,10.884262601233717,10.91399511604172,26.87565933815582,15.65410407495773,15.439216340608203,21.46330470665283,4.629910902457163,27.846485619176185,18.06730241203488,4.274040654501172,13.740908272581018,8.334580567296461,7.132165689696747,12.572105806763378,22.463577152847932,23.961986070402965,25.719778659677285,31.0978287156654,37.042877449253034,13.99132845434864,16.635908604552558,45.33191242298108,26.86211778178409,45.76316359463242,38.87556343442215,6.982316084499307,23.679806396363457,11.529155619638944,11.17884566999805,28.646416807553763,31.248627344389767,19.957878664094242,46.93216030188264,41.93877837129508,27.608232654967495,14.259816919822413,43.337793502852605,37.95785944995394,60.486083163053976,26.158384191389203,18.708476656606717,63.00503355626223,47.77770511852752,7.296159721510188,41.196661776112016,52.21636427674753,29.259345050813273,25.35979644405724,56.49091132151118,15.47167457400223,49.7622053468046,39.483463777216016,46.25396308646504,9.856591247689801,53.258115086543,42.59910033820286,23.58878095033192,23.321409583826174,82.92176087941326,65.59212475964313,44.850138411756824,49.25580426943778,16.494331222724576,35.643793751128094,4.9200511227613255,1.7306555887624202,6.4277544599550405,55.24579771903027,71.88570866587197,40.397507903522595,21.587518060367437,69.30930631970074,82.14839381189144]}];\n",
       " var layout_vk6a4oNP5D = {\"height\":550,\"width\":600,\"hovermode\":\"closest\",\"title\":{\"text\":\"XY.Histogram.Color\"},\"showlegend\":true};\n",
       " var config_vk6a4oNP5D = {\"responsive\":true,\"scrollZoom\":true,\"displaylogo\":false};\n",
       " Plotly.newPlot(\"graph_vk6a4oNP5D\", traces_vk6a4oNP5D, layout_vk6a4oNP5D, config_vk6a4oNP5D);\n",
       "</script> \n"
      ]
     },
     "metadata": {},
     "output_type": "display_data"
    }
   ],
   "source": [
    "// we can also compose customizations in much the same way:\n",
    "val marker = Marker() setColor RGBA(255, 100, 102, 0.5) setLine Line()\n",
    "\n",
    "// change xkey to y to get a horizontal histogram\n",
    "val series = (\n",
    "    XY(x) \n",
    "    asType HISTOGRAM\n",
    "    setMarker marker\n",
    "    // we can set histogram specific options using the setHistOptions method\n",
    "    setHistOptions(orientation = HORIZONTAL)\n",
    ")\n",
    "\n",
    "val chart = (\n",
    "    Chart() \n",
    "    addSeries series \n",
    "    setTitle \"XY.Histogram.Color\"\n",
    ")\n",
    "\n",
    "chart.plotInline"
   ]
  },
  {
   "cell_type": "markdown",
   "metadata": {},
   "source": [
    "#### Cumulative Histogram\n",
    "\n",
    "Sometimes a cumulative histogram may be desired. We can do this as follows:"
   ]
  },
  {
   "cell_type": "code",
   "execution_count": 29,
   "metadata": {},
   "outputs": [],
   "source": [
    "// we can import a range of histnorms\n",
    "import org.carbonateresearch.picta.options.histogram.{Cumulative, PERCENT, DENSITY, PROBABILITY_DENSITY, NUMBER}"
   ]
  },
  {
   "cell_type": "code",
   "execution_count": 30,
   "metadata": {},
   "outputs": [
    {
     "data": {
      "text/html": [
       "<div id=\"grid-container_aWPPvKutXF\" class=\"grid-container\" align=\"center\"> \n",
       "<div id=\"grid_aWPPvKutXF\" class=\"grid\" align=\"center\"> \n",
       "<div id=\"graph_hTorpCHfD0\" class=\"graph\"></div> \n",
       "</div> \n",
       "</div> \n",
       "<script>\n",
       "var masonry = new Macy({\n",
       "    container: '#grid_aWPPvKutXF',\n",
       "    debug: true,\n",
       "    mobileFirst: true,\n",
       "    columns: 1,\n",
       "    margin: {\n",
       "        x: 0,\n",
       "        y: 0\n",
       "    }\n",
       "  });\n",
       "\n",
       "  var traces_hTorpCHfD0 = [{\"name\":\"Zps06rjleW\",\"type\":\"histogram\",\"cumulative\":{\"enabled\":true},\"histnorm\":\"\",\"x\":[0,0.24568038187621222,0.9629731644742203,1.971702661458402,1.8782697729179425,0.16497109169897495,5.973558934284088,3.0462254258186343,0.11443157797915404,1.7839640749527437,1.289775513140602,10.012880292005917,10.350526996101065,8.25447300600215,5.990295229197867,2.4358697831011495,7.968857817563109,6.310846445887597,7.712915912171708,11.909982591347001,15.487697795244769,5.035673134114914,13.621018131768071,3.4962182912105098,5.454215262661319,7.963347380744956,9.216127563822399,10.884262601233717,10.91399511604172,26.87565933815582,15.65410407495773,15.439216340608203,21.46330470665283,4.629910902457163,27.846485619176185,18.06730241203488,4.274040654501172,13.740908272581018,8.334580567296461,7.132165689696747,12.572105806763378,22.463577152847932,23.961986070402965,25.719778659677285,31.0978287156654,37.042877449253034,13.99132845434864,16.635908604552558,45.33191242298108,26.86211778178409,45.76316359463242,38.87556343442215,6.982316084499307,23.679806396363457,11.529155619638944,11.17884566999805,28.646416807553763,31.248627344389767,19.957878664094242,46.93216030188264,41.93877837129508,27.608232654967495,14.259816919822413,43.337793502852605,37.95785944995394,60.486083163053976,26.158384191389203,18.708476656606717,63.00503355626223,47.77770511852752,7.296159721510188,41.196661776112016,52.21636427674753,29.259345050813273,25.35979644405724,56.49091132151118,15.47167457400223,49.7622053468046,39.483463777216016,46.25396308646504,9.856591247689801,53.258115086543,42.59910033820286,23.58878095033192,23.321409583826174,82.92176087941326,65.59212475964313,44.850138411756824,49.25580426943778,16.494331222724576,35.643793751128094,4.9200511227613255,1.7306555887624202,6.4277544599550405,55.24579771903027,71.88570866587197,40.397507903522595,21.587518060367437,69.30930631970074,82.14839381189144]}];\n",
       " var layout_hTorpCHfD0 = {\"height\":550,\"width\":600,\"hovermode\":\"closest\",\"title\":{\"text\":\"Histogram - Cumulative\"},\"showlegend\":true};\n",
       " var config_hTorpCHfD0 = {\"responsive\":true,\"scrollZoom\":true,\"displaylogo\":false};\n",
       " Plotly.newPlot(\"graph_hTorpCHfD0\", traces_hTorpCHfD0, layout_hTorpCHfD0, config_hTorpCHfD0);\n",
       "</script> \n"
      ]
     },
     "metadata": {},
     "output_type": "display_data"
    }
   ],
   "source": [
    "val series = XY(x) asType HISTOGRAM setHistOptions(histnorm = NUMBER, cumulative = Cumulative(enabled=true))\n",
    "\n",
    "val chart = Chart() addSeries series setTitle \"Histogram - Cumulative\"\n",
    "\n",
    "chart.plotInline"
   ]
  },
  {
   "cell_type": "markdown",
   "metadata": {},
   "source": [
    "#### Specifiying the Binning Function\n",
    "\n",
    "We can also specify the binning function for a histogram."
   ]
  },
  {
   "cell_type": "code",
   "execution_count": 31,
   "metadata": {},
   "outputs": [],
   "source": [
    "import org.carbonateresearch.picta.options.histogram.{COUNT, SUM, AVG, MIN, MAX, HistOptions}"
   ]
  },
  {
   "cell_type": "code",
   "execution_count": 32,
   "metadata": {},
   "outputs": [
    {
     "data": {
      "text/html": [
       "<div id=\"grid-container_kp646cbpxb\" class=\"grid-container\" align=\"center\"> \n",
       "<div id=\"grid_kp646cbpxb\" class=\"grid\" align=\"center\"> \n",
       "<div id=\"graph_al02xqvwbU\" class=\"graph\"></div> \n",
       "</div> \n",
       "</div> \n",
       "<script>\n",
       "var masonry = new Macy({\n",
       "    container: '#grid_kp646cbpxb',\n",
       "    debug: true,\n",
       "    mobileFirst: true,\n",
       "    columns: 1,\n",
       "    margin: {\n",
       "        x: 0,\n",
       "        y: 0\n",
       "    }\n",
       "  });\n",
       "\n",
       "  var traces_al02xqvwbU = [{\"name\":\"MDbeRfJ0uF\",\"type\":\"histogram\",\"histfunc\":\"count\",\"x\":[\"Apples\",\"Apples\",\"Apples\",\"Oranges\",\"Bananas\"],\"y\":[\"5\",\"10\",\"3\",\"10\",\"5\"]},{\"name\":\"1PuZoMGvTG\",\"type\":\"histogram\",\"histfunc\":\"sum\",\"x\":[\"Apples\",\"Apples\",\"Apples\",\"Oranges\",\"Bananas\"],\"y\":[\"5\",\"10\",\"3\",\"10\",\"5\"]}];\n",
       " var layout_al02xqvwbU = {\"height\":550,\"width\":600,\"hovermode\":\"closest\",\"title\":{\"text\":\"Histogram - Specify Binning Function\"},\"showlegend\":true};\n",
       " var config_al02xqvwbU = {\"responsive\":true,\"scrollZoom\":true,\"displaylogo\":false};\n",
       " Plotly.newPlot(\"graph_al02xqvwbU\", traces_al02xqvwbU, layout_al02xqvwbU, config_al02xqvwbU);\n",
       "</script> \n"
      ]
     },
     "metadata": {},
     "output_type": "display_data"
    }
   ],
   "source": [
    "val x = List(\"Apples\", \"Apples\", \"Apples\", \"Oranges\", \"Bananas\")\n",
    "val y = List(\"5\", \"10\", \"3\", \"10\", \"5\")\n",
    "\n",
    "// we can also assign histOptions to a value and pass them to the setHistOptions method\n",
    "val ho1 = HistOptions(histfunc = COUNT)\n",
    "val ho2 = HistOptions(histfunc = SUM)\n",
    "    \n",
    "val t1 = XY(x = x, y = y) asType HISTOGRAM setHistOptions ho1\n",
    "val t2 = XY(x = x, y = y) asType HISTOGRAM setHistOptions ho2\n",
    "\n",
    "val chart = Chart() addSeries(t1, t2) setTitle \"Histogram - Specify Binning Function\"\n",
    "val canvas = Canvas() addCharts chart\n",
    "canvas.plotInline"
   ]
  },
  {
   "cell_type": "markdown",
   "metadata": {},
   "source": [
    "### 2D Histogram Contour"
   ]
  },
  {
   "cell_type": "code",
   "execution_count": 33,
   "metadata": {},
   "outputs": [
    {
     "data": {
      "text/html": [
       "<div id=\"grid-container_0b6ImcY5XG\" class=\"grid-container\" align=\"center\"> \n",
       "<div id=\"grid_0b6ImcY5XG\" class=\"grid\" align=\"center\"> \n",
       "<div id=\"graph_OyRtkrFoSF\" class=\"graph\"></div> \n",
       "</div> \n",
       "</div> \n",
       "<script>\n",
       "var masonry = new Macy({\n",
       "    container: '#grid_0b6ImcY5XG',\n",
       "    debug: true,\n",
       "    mobileFirst: true,\n",
       "    columns: 1,\n",
       "    margin: {\n",
       "        x: 0,\n",
       "        y: 0\n",
       "    }\n",
       "  });\n",
       "\n",
       "  var traces_OyRtkrFoSF = [{\"name\":\"51V2rIsJNQ\",\"type\":\"histogram2dcontour\",\"mode\":\"markers\",\"x\":[1,2,3,4,5,6,7,8,9,10,11,12,13,14,15,16,17,18,19,20,21,22,23,24,25,26,27,28,29,30,31,32,33,34,35,36,37,38,39,40,41,42,43,44,45,46,47,48,49],\"y\":[48.468124563891614,46.645227449952785,86.64522840217586,39.59309694364702,88.1872604868056,88.19798619537048,72.33810107709874,82.1685005257846,97.88395848431976,30.355073890132182,85.09559981770738,111.63740256854457,85.25176813714373,76.46656219870547,66.73073114381955,99.44852319172954,98.32887746698289,88.78069196974096,67.77294509305642,83.68155834383612,73.69967201927986,89.3300274808583,102.85872467534114,28.712734999097236,38.94022469011258,120.93392817753453,116.03781014678911,110.05554789658188,106.94507353825968,71.7993459308698,35.673409473638245,67.16539292172129,94.01088169737768,112.22157585714457,75.66551640916951,107.32880393580069,78.41586965585134,52.531035953315666,57.4022325483121,49.71507133190468,91.72220301829938,107.70177389410227,85.1448187296483,70.25001835457118,101.1417860512023,145.93183173951746,106.47789795831343,145.17876043474877,98.04418264798909]}];\n",
       " var layout_OyRtkrFoSF = {\"height\":550,\"width\":600,\"hovermode\":\"closest\",\"title\":{\"text\":\"2D Histogram Contour\"},\"showlegend\":true};\n",
       " var config_OyRtkrFoSF = {\"responsive\":true,\"scrollZoom\":true,\"displaylogo\":false};\n",
       " Plotly.newPlot(\"graph_OyRtkrFoSF\", traces_OyRtkrFoSF, layout_OyRtkrFoSF, config_OyRtkrFoSF);\n",
       "</script> \n"
      ]
     },
     "metadata": {},
     "output_type": "display_data"
    }
   ],
   "source": [
    "val x = List.range(1, 50)\n",
    "val y = x.map(x => x + scala.util.Random.nextDouble()*100)\n",
    "\n",
    "val series = XY(x, y).asType(HISTOGRAM2DCONTOUR).drawMarkers\n",
    "\n",
    "val chart = (\n",
    "    Chart() addSeries series\n",
    "    setTitle \"2D Histogram Contour\"\n",
    ")\n",
    "\n",
    "chart.plotInline"
   ]
  },
  {
   "cell_type": "markdown",
   "metadata": {},
   "source": [
    "#### Adding additional axes\n",
    "\n",
    "As the above is a density plot, adding histograms can be useful too.\n",
    "\n",
    "We can add histograms as follows:"
   ]
  },
  {
   "cell_type": "code",
   "execution_count": 34,
   "metadata": {},
   "outputs": [],
   "source": [
    "// import the 2d Density histogram options\n",
    "import org.carbonateresearch.picta.options.histogram2d.Hist2dOptions"
   ]
  },
  {
   "cell_type": "code",
   "execution_count": 35,
   "metadata": {},
   "outputs": [
    {
     "data": {
      "text/html": [
       "<div id=\"grid-container_zpV5zYxgvL\" class=\"grid-container\" align=\"center\"> \n",
       "<div id=\"grid_zpV5zYxgvL\" class=\"grid\" align=\"center\"> \n",
       "<div id=\"graph_VO0dZ6rKNi\" class=\"graph\"></div> \n",
       "</div> \n",
       "</div> \n",
       "<script>\n",
       "var masonry = new Macy({\n",
       "    container: '#grid_zpV5zYxgvL',\n",
       "    debug: true,\n",
       "    mobileFirst: true,\n",
       "    columns: 1,\n",
       "    margin: {\n",
       "        x: 0,\n",
       "        y: 0\n",
       "    }\n",
       "  });\n",
       "\n",
       "  var traces_VO0dZ6rKNi = [{\"name\":\"points\",\"type\":\"scatter\",\"mode\":\"markers\",\"marker\":{\"color\":\"rgb(102.0, 0.0, 0.0)\"},\"x\":[1,2,3,4,5,6,7,8,9,10,11,12,13,14,15,16,17,18,19,20,21,22,23,24,25,26,27,28,29,30,31,32,33,34,35,36,37,38,39,40,41,42,43,44,45,46,47,48,49],\"y\":[48.468124563891614,46.645227449952785,86.64522840217586,39.59309694364702,88.1872604868056,88.19798619537048,72.33810107709874,82.1685005257846,97.88395848431976,30.355073890132182,85.09559981770738,111.63740256854457,85.25176813714373,76.46656219870547,66.73073114381955,99.44852319172954,98.32887746698289,88.78069196974096,67.77294509305642,83.68155834383612,73.69967201927986,89.3300274808583,102.85872467534114,28.712734999097236,38.94022469011258,120.93392817753453,116.03781014678911,110.05554789658188,106.94507353825968,71.7993459308698,35.673409473638245,67.16539292172129,94.01088169737768,112.22157585714457,75.66551640916951,107.32880393580069,78.41586965585134,52.531035953315666,57.4022325483121,49.71507133190468,91.72220301829938,107.70177389410227,85.1448187296483,70.25001835457118,101.1417860512023,145.93183173951746,106.47789795831343,145.17876043474877,98.04418264798909]},{\"name\":\"density\",\"type\":\"histogram2dcontour\",\"ncontours\":20,\"reversescale\":false,\"showscale\":true,\"x\":[1,2,3,4,5,6,7,8,9,10,11,12,13,14,15,16,17,18,19,20,21,22,23,24,25,26,27,28,29,30,31,32,33,34,35,36,37,38,39,40,41,42,43,44,45,46,47,48,49],\"y\":[48.468124563891614,46.645227449952785,86.64522840217586,39.59309694364702,88.1872604868056,88.19798619537048,72.33810107709874,82.1685005257846,97.88395848431976,30.355073890132182,85.09559981770738,111.63740256854457,85.25176813714373,76.46656219870547,66.73073114381955,99.44852319172954,98.32887746698289,88.78069196974096,67.77294509305642,83.68155834383612,73.69967201927986,89.3300274808583,102.85872467534114,28.712734999097236,38.94022469011258,120.93392817753453,116.03781014678911,110.05554789658188,106.94507353825968,71.7993459308698,35.673409473638245,67.16539292172129,94.01088169737768,112.22157585714457,75.66551640916951,107.32880393580069,78.41586965585134,52.531035953315666,57.4022325483121,49.71507133190468,91.72220301829938,107.70177389410227,85.1448187296483,70.25001835457118,101.1417860512023,145.93183173951746,106.47789795831343,145.17876043474877,98.04418264798909]},{\"name\":\"histogram\",\"type\":\"histogram\",\"yaxis\":\"y2\",\"x\":[1,2,3,4,5,6,7,8,9,10,11,12,13,14,15,16,17,18,19,20,21,22,23,24,25,26,27,28,29,30,31,32,33,34,35,36,37,38,39,40,41,42,43,44,45,46,47,48,49]},{\"name\":\"y density\",\"type\":\"histogram\",\"xaxis\":\"x2\",\"marker\":{\"color\":\"rgb(102.0, 0.0, 0.0)\"},\"y\":[48.468124563891614,46.645227449952785,86.64522840217586,39.59309694364702,88.1872604868056,88.19798619537048,72.33810107709874,82.1685005257846,97.88395848431976,30.355073890132182,85.09559981770738,111.63740256854457,85.25176813714373,76.46656219870547,66.73073114381955,99.44852319172954,98.32887746698289,88.78069196974096,67.77294509305642,83.68155834383612,73.69967201927986,89.3300274808583,102.85872467534114,28.712734999097236,38.94022469011258,120.93392817753453,116.03781014678911,110.05554789658188,106.94507353825968,71.7993459308698,35.673409473638245,67.16539292172129,94.01088169737768,112.22157585714457,75.66551640916951,107.32880393580069,78.41586965585134,52.531035953315666,57.4022325483121,49.71507133190468,91.72220301829938,107.70177389410227,85.1448187296483,70.25001835457118,101.1417860512023,145.93183173951746,106.47789795831343,145.17876043474877,98.04418264798909]}];\n",
       " var layout_VO0dZ6rKNi = {\"height\":550,\"width\":600,\"hovermode\":\"closest\",\"title\":{\"text\":\"XY.Histogram2dContour.WithDensity\"},\"showlegend\":false,\"autosize\":false,\"xaxis\":{\"showgrid\":false,\"zeroline\":false,\"showline\":false,\"domain\":[0,0.85]},\"yaxis\":{\"showgrid\":false,\"zeroline\":false,\"showline\":false,\"domain\":[0,0.85]},\"xaxis2\":{\"showgrid\":false,\"zeroline\":false,\"showline\":false,\"domain\":[0.85,1]},\"yaxis2\":{\"showgrid\":false,\"zeroline\":false,\"showline\":false,\"domain\":[0.85,1]}};\n",
       " var config_VO0dZ6rKNi = {\"responsive\":true,\"scrollZoom\":true,\"displaylogo\":false};\n",
       " Plotly.newPlot(\"graph_VO0dZ6rKNi\", traces_VO0dZ6rKNi, layout_VO0dZ6rKNi, config_VO0dZ6rKNi);\n",
       "</script> \n"
      ]
     },
     "metadata": {},
     "output_type": "display_data"
    }
   ],
   "source": [
    "val ax1 = Axis(X, showgrid = false) setDomain(0.0, 0.85)\n",
    "val ax2 = Axis(Y, showgrid = false) setDomain(0.0, 0.85)\n",
    "val ax3 = Axis(X, position = 2, showgrid = false) setDomain(0.85, 1.0)\n",
    "val ax4 = Axis(Y, position = 2, showgrid = false) setDomain(0.85, 1.0)\n",
    "\n",
    "val marker = Marker() setColor RGB(102,0,0)\n",
    "val series1 = XY(x, y) asType SCATTER drawStyle MARKERS setName \"points\" setMarker marker\n",
    "\n",
    "val series2 = (\n",
    "  XY(x, y)\n",
    "    setName \"density\"\n",
    "    asType HISTOGRAM2DCONTOUR\n",
    "    setHist2dOptions(ncontours = 20, reversescale = false, showscale = true)\n",
    "  )\n",
    "\n",
    "val series3 = XY(x = x) asType HISTOGRAM setName \"histogram\" setAxes(ax1, ax4)\n",
    "val series4 = (XY(y) setName \"y density\" asType HISTOGRAM setAxis ax3 setMarker marker\n",
    "  setHistOptions (orientation = HORIZONTAL))\n",
    "\n",
    "val layout = (ChartLayout(\"XY.Histogram2dContour.WithDensity\", auto_size = false) setAxes(ax1, ax2, ax3, ax4))\n",
    "\n",
    "val chart = Chart() addSeries(series1, series2, series3, series4) setChartLayout layout showLegend false\n",
    "\n",
    "chart.plotInline"
   ]
  },
  {
   "cell_type": "markdown",
   "metadata": {},
   "source": [
    "### 3D Charts\n",
    "\n",
    "3D charts are constructed using a `XYZ` series as they take in 3 `Series`' to create a single point.\n",
    "\n",
    "The Picta API does not accept nested lists, however the underlying Plotlyjs render does. In order to render any series that will make use of a nested list, we must flatten and provide the length of an element (before the list was flattened).\n",
    "\n",
    "The following examples will make it clearer.\n",
    "\n",
    "#### Contour"
   ]
  },
  {
   "cell_type": "code",
   "execution_count": 36,
   "metadata": {},
   "outputs": [],
   "source": [
    "// lets create some dummy adata for the third dimension\n",
    "val x = List(-9, -6, -5 , -3, -1)\n",
    "val y = List(0, 1, 4, 5, 7)\n",
    "val z = List(\n",
    "    List(10, 10.625, 12.5, 15.625, 20),\n",
    "    List(5.625, 6.25, 8.125, 11.25, 15.625),\n",
    "    List(2.5, 3.125, 5.0, 8.125, 12.5),\n",
    "    List(0.625, 1.25, 3.125, 6.25, 10.625),\n",
    "    List(0, 0.625, 2.5, 5.625, 10)\n",
    ")"
   ]
  },
  {
   "cell_type": "code",
   "execution_count": 37,
   "metadata": {},
   "outputs": [
    {
     "data": {
      "text/html": [
       "<div id=\"grid-container_qDNDawGPDm\" class=\"grid-container\" align=\"center\"> \n",
       "<div id=\"grid_qDNDawGPDm\" class=\"grid\" align=\"center\"> \n",
       "<div id=\"graph_aMS2VMgl8F\" class=\"graph\"></div> \n",
       "</div> \n",
       "</div> \n",
       "<script>\n",
       "var masonry = new Macy({\n",
       "    container: '#grid_qDNDawGPDm',\n",
       "    debug: true,\n",
       "    mobileFirst: true,\n",
       "    columns: 1,\n",
       "    margin: {\n",
       "        x: 0,\n",
       "        y: 0\n",
       "    }\n",
       "  });\n",
       "\n",
       "  var traces_aMS2VMgl8F = [{\"name\":\"S2jwBWtHPF\",\"type\":\"contour\",\"x\":[-9,-6,-5,-3,-1],\"y\":[0,1,4,5,7],\"z\":[[10,10.625,12.5,15.625,20],[5.625,6.25,8.125,11.25,15.625],[2.5,3.125,5,8.125,12.5],[0.625,1.25,3.125,6.25,10.625],[0,0.625,2.5,5.625,10]]}];\n",
       " var layout_aMS2VMgl8F = {\"height\":550,\"width\":600,\"hovermode\":\"closest\",\"title\":{\"text\":\"Contour\"},\"showlegend\":true};\n",
       " var config_aMS2VMgl8F = {\"responsive\":true,\"scrollZoom\":true,\"displaylogo\":false};\n",
       " Plotly.newPlot(\"graph_aMS2VMgl8F\", traces_aMS2VMgl8F, layout_aMS2VMgl8F, config_aMS2VMgl8F);\n",
       "</script> \n"
      ]
     },
     "metadata": {},
     "output_type": "display_data"
    }
   ],
   "source": [
    "// we flatten the nested list as we pass it into the Series constructor\n",
    "val series = XYZ(x=x, y=y, z=z.flatten, n=z(0).length).asType(CONTOUR)\n",
    "\n",
    "// set up the chart\n",
    "val chart = Chart()\n",
    "            .addSeries(series)\n",
    "            .setTitle(\"Contour\")\n",
    "\n",
    "// plot the chart\n",
    "chart.plotInline"
   ]
  },
  {
   "cell_type": "markdown",
   "metadata": {},
   "source": [
    "#### Heatmap"
   ]
  },
  {
   "cell_type": "code",
   "execution_count": 38,
   "metadata": {
    "scrolled": false
   },
   "outputs": [],
   "source": [
    "// create a new nested list for the heatmap\n",
    "val z = List.range(1, 101).map(e => e + scala.util.Random.nextDouble()*100).grouped(10).toList"
   ]
  },
  {
   "cell_type": "code",
   "execution_count": 39,
   "metadata": {},
   "outputs": [
    {
     "data": {
      "text/html": [
       "<div id=\"grid-container_ibVQLqOPcO\" class=\"grid-container\" align=\"center\"> \n",
       "<div id=\"grid_ibVQLqOPcO\" class=\"grid\" align=\"center\"> \n",
       "<div id=\"graph_6DcRwZCTyZ\" class=\"graph\"></div> \n",
       "</div> \n",
       "</div> \n",
       "<script>\n",
       "var masonry = new Macy({\n",
       "    container: '#grid_ibVQLqOPcO',\n",
       "    debug: true,\n",
       "    mobileFirst: true,\n",
       "    columns: 1,\n",
       "    margin: {\n",
       "        x: 0,\n",
       "        y: 0\n",
       "    }\n",
       "  });\n",
       "\n",
       "  var traces_6DcRwZCTyZ = [{\"name\":\"7k24EcsDqb\",\"type\":\"heatmap\",\"z\":[[51.49721258923877,65.12176758569623,92.77852414866166,37.18945975903084,65.15942842650955,42.995514601591225,68.10267367505801,91.61791378300592,59.85262369364425,72.37168767011069],[108.70350427231,48.549033042537395,16.456682892934325,106.82730589082345,43.66554682496939,92.47007808145261,70.2326431609433,30.211483568357828,48.891155120134215,103.73239786394144],[102.77833277502825,112.14669306531975,101.7120089367963,91.96773255873906,40.24438339295852,47.48283554678135,69.73496692349093,64.00207466089032,87.51341558484097,37.55629160101782],[109.96286744615634,74.59775724296361,99.62715623230818,37.21940581081551,46.12553895931448,107.28025414065353,128.95332985693682,48.34414558370551,99.6756364174181,72.05693519534724],[89.41616230164647,87.86694257615132,73.0486403319576,87.01081417574956,47.571380025951996,96.43003149045026,122.55572205771611,131.55308019602316,84.38864135527155,82.2878266746057],[112.672802215894,120.5440524297906,71.31132135010157,114.38525725303796,113.50867206645307,150.54288936802055,69.49562811356449,88.3781409504647,88.87949522579464,112.12223517901612],[92.08809573096265,89.85406386754678,123.68661419863886,145.48472718942207,65.98242564069555,70.12544291338077,156.18910241521087,140.5441034006503,91.70383193321622,131.70476996926575],[113.28200085224881,147.18439125401164,127.90091316891233,92.93530972772443,95.03574082531746,166.58646416070286,120.3822526259007,164.23877483272184,118.52180070416992,140.312049094057],[154.71684587838877,122.05483525941204,110.34409514629145,140.26098974589647,136.12462358867828,110.78555053027097,132.31525644009147,89.66843442350468,90.71523149845207,137.9211400644716],[135.36136782178608,112.98433096565637,138.09036440786736,153.01173498372594,163.00832650610937,120.7784198445999,106.90693900399282,117.26308819647137,167.69750692390107,184.73970357669117]]}];\n",
       " var layout_6DcRwZCTyZ = {\"height\":550,\"width\":600,\"hovermode\":\"closest\",\"title\":{\"text\":\"Heatmap\"},\"showlegend\":true};\n",
       " var config_6DcRwZCTyZ = {\"responsive\":true,\"scrollZoom\":true,\"displaylogo\":false};\n",
       " Plotly.newPlot(\"graph_6DcRwZCTyZ\", traces_6DcRwZCTyZ, layout_6DcRwZCTyZ, config_6DcRwZCTyZ);\n",
       "</script> \n"
      ]
     },
     "metadata": {},
     "output_type": "display_data"
    }
   ],
   "source": [
    "// we get the length of an element of the nested list\n",
    "val n = z(0).length\n",
    "\n",
    "// we now flatten the list and pass it into Series constructor, as well as 'n', the length of an element so that the \n",
    "// heatmap dimensions are correctly constructed\n",
    "val series = XYZ(z=z.flatten, n=n) asType HEATMAP\n",
    "\n",
    "val chart = Chart().addSeries(series).setTitle(\"Heatmap\")\n",
    "\n",
    "chart.plotInline"
   ]
  },
  {
   "cell_type": "markdown",
   "metadata": {},
   "source": [
    "#### Scatter3D"
   ]
  },
  {
   "cell_type": "code",
   "execution_count": 40,
   "metadata": {
    "scrolled": false
   },
   "outputs": [
    {
     "data": {
      "text/html": [
       "<div id=\"grid-container_dRj2HNGBbV\" class=\"grid-container\" align=\"center\"> \n",
       "<div id=\"grid_dRj2HNGBbV\" class=\"grid\" align=\"center\"> \n",
       "<div id=\"graph_4TYDj91HLr\" class=\"graph\"></div> \n",
       "</div> \n",
       "</div> \n",
       "<script>\n",
       "var masonry = new Macy({\n",
       "    container: '#grid_dRj2HNGBbV',\n",
       "    debug: true,\n",
       "    mobileFirst: true,\n",
       "    columns: 1,\n",
       "    margin: {\n",
       "        x: 0,\n",
       "        y: 0\n",
       "    }\n",
       "  });\n",
       "\n",
       "  var traces_4TYDj91HLr = [{\"name\":\"s8ttJzt5kD\",\"type\":\"scatter3d\",\"mode\":\"markers\",\"x\":[1,2,3,4,5,6,7,8,9,10,11,12,13,14,15,16,17,18,19,20,21,22,23,24,25,26,27,28,29,30,31,32,33,34,35,36,37,38,39,40,41,42,43,44,45,46,47,48,49,50,51,52,53,54,55,56,57,58,59,60,61,62,63,64,65,66,67,68,69,70,71,72,73,74,75,76,77,78,79,80,81,82,83,84,85,86,87,88,89,90,91,92,93,94,95,96,97,98,99],\"y\":[1,2,3,4,5,6,7,8,9,10,11,12,13,14,15,16,17,18,19,20,21,22,23,24,25,26,27,28,29,30,31,32,33,34,35,36,37,38,39,40,41,42,43,44,45,46,47,48,49,50,51,52,53,54,55,56,57,58,59,60,61,62,63,64,65,66,67,68,69,70,71,72,73,74,75,76,77,78,79,80,81,82,83,84,85,86,87,88,89,90,91,92,93,94,95,96,97,98,99],\"z\":[94.5143889067177,47.56678897051407,84.71381009780933,30.476872398512807,98.51253876311067,33.24532392006187,51.281220982714096,51.08494209565799,52.45958579136605,67.64259575153064,61.01880138982096,24.47571336284602,82.30199616475579,110.23145886932082,94.41484853301996,97.6085313195734,87.13982527634357,102.74405852030891,85.61350867444068,35.087322238731794,93.34963834754478,50.49262638673349,36.03691063516058,65.89220444213605,88.12837962111291,60.51674418753788,70.61946637173263,91.54731026950708,80.44706559808432,126.95323631712688,42.30925742810053,126.05252224166549,112.89151085777023,130.29431917980418,48.79217759145243,109.48893307593637,113.98050407384027,109.09419543134959,124.32032256398239,74.41487352494333,137.2901961881015,70.20380915639811,109.07685938888858,47.00130515838576,81.07670092792907,126.75799693335513,78.68541776961675,133.31253329334174,120.07721578715186,91.90881553031171,137.2728209684625,75.22008444519393,109.78324194517694,110.69334301139568,138.91973652579998,60.1447538305882,142.71773821711074,82.44380187832063,104.3846317387058,134.1537594367739,146.1114136684689,111.79236453065072,142.66219415202067,98.89702591831318,110.86149283424501,127.59254879640955,70.23815304826036,69.448651005882,132.76974577798444,125.97361260573648,144.82821258513525,132.32660305457267,128.7947023906445,126.26394318455522,94.93961509343588,170.7957621486466,163.41635048693573,176.66391073733726,131.76959576602536,118.01645046840807,83.19986595856946,110.31820126218486,175.7558180423769,157.6825944523152,111.25818205041772,131.832229585417,116.51960019752757,116.50072745185429,97.5515348317848,109.29665181024649,151.99360533876123,183.19306680948625,155.82535028732153,157.52866784784558,120.20134286235705,144.6649104132208,143.47617972730865,124.50820501824151,145.45673367862344]}];\n",
       " var layout_4TYDj91HLr = {\"height\":550,\"width\":600,\"hovermode\":\"closest\",\"title\":{\"text\":\"XYZ.Scatter3D\"},\"showlegend\":true};\n",
       " var config_4TYDj91HLr = {\"responsive\":false,\"scrollZoom\":false,\"displaylogo\":false};\n",
       " Plotly.newPlot(\"graph_4TYDj91HLr\", traces_4TYDj91HLr, layout_4TYDj91HLr, config_4TYDj91HLr);\n",
       "</script> \n"
      ]
     },
     "metadata": {},
     "output_type": "display_data"
    }
   ],
   "source": [
    "val x = List.range(1, 100)\n",
    "val y = List.range(1, 100)\n",
    "val z = List.range(1, 100).map(e => e + scala.util.Random.nextDouble()*100)\n",
    "\n",
    "val series = XYZ(x, y, z).asType(SCATTER3D).drawStyle(MARKERS)\n",
    "val chart1 = Chart() addSeries series setTitle \"XYZ.Scatter3D\" setConfig(false, false)\n",
    "val canvas = Canvas() addCharts chart1\n",
    "canvas.plotInline"
   ]
  },
  {
   "cell_type": "markdown",
   "metadata": {},
   "source": [
    "#### Surface Plot"
   ]
  },
  {
   "cell_type": "code",
   "execution_count": 41,
   "metadata": {
    "scrolled": false
   },
   "outputs": [
    {
     "data": {
      "text/html": [
       "<div id=\"grid-container_M5etdwG0uE\" class=\"grid-container\" align=\"center\"> \n",
       "<div id=\"grid_M5etdwG0uE\" class=\"grid\" align=\"center\"> \n",
       "<div id=\"graph_ppHogHrT1k\" class=\"graph\"></div> \n",
       "</div> \n",
       "</div> \n",
       "<script>\n",
       "var masonry = new Macy({\n",
       "    container: '#grid_M5etdwG0uE',\n",
       "    debug: true,\n",
       "    mobileFirst: true,\n",
       "    columns: 1,\n",
       "    margin: {\n",
       "        x: 0,\n",
       "        y: 0\n",
       "    }\n",
       "  });\n",
       "\n",
       "  var traces_ppHogHrT1k = [{\"name\":\"HJmfE728Kr\",\"type\":\"surface\",\"colorbar\":{\"title\":{\"text\":\"Altitude\",\"side\":\"right\"}},\"z\":[[8.83,8.89,8.81,8.87,8.9,8.87],[8.89,8.94,8.85,8.94,8.96,8.92],[8.84,8.9,8.82,8.92,8.93,8.91],[8.79,8.85,8.79,8.9,8.94,8.92],[8.79,8.88,8.81,8.9,8.95,8.92],[8.8,8.82,8.78,8.91,8.94,8.92],[8.75,8.78,8.77,8.91,8.95,8.92],[8.8,8.8,8.77,8.91,8.95,8.94],[8.74,8.81,8.76,8.93,8.98,8.99],[8.89,8.99,8.92,9.1,9.13,9.11],[8.97,8.97,8.91,9.09,9.11,9.11],[9.04,9.08,9.05,9.25,9.28,9.27],[9,9.01,9,9.2,9.23,9.2],[8.99,8.99,8.98,9.18,9.2,9.19],[8.93,8.97,8.97,9.18,9.2,9.18]]}];\n",
       " var layout_ppHogHrT1k = {\"height\":550,\"width\":600,\"hovermode\":\"closest\",\"title\":{\"text\":\"Surface\"},\"showlegend\":true};\n",
       " var config_ppHogHrT1k = {\"responsive\":true,\"scrollZoom\":true,\"displaylogo\":false};\n",
       " Plotly.newPlot(\"graph_ppHogHrT1k\", traces_ppHogHrT1k, layout_ppHogHrT1k, config_ppHogHrT1k);\n",
       "</script> \n"
      ]
     },
     "metadata": {},
     "output_type": "display_data"
    }
   ],
   "source": [
    "// 3d surface plot\n",
    "val k = List(\n",
    "    List(8.83,8.89,8.81,8.87,8.9,8.87),\n",
    "    List(8.89,8.94,8.85,8.94,8.96,8.92),\n",
    "    List(8.84,8.9,8.82,8.92,8.93,8.91),\n",
    "    List(8.79,8.85,8.79,8.9,8.94,8.92),\n",
    "    List(8.79,8.88,8.81,8.9,8.95,8.92),\n",
    "    List(8.8,8.82,8.78,8.91,8.94,8.92),\n",
    "    List(8.75,8.78,8.77,8.91,8.95,8.92),\n",
    "    List(8.8,8.8,8.77,8.91,8.95,8.94),\n",
    "    List(8.74,8.81,8.76,8.93,8.98,8.99),\n",
    "    List(8.89,8.99,8.92,9.1,9.13,9.11),\n",
    "    List(8.97,8.97,8.91,9.09,9.11,9.11),\n",
    "    List(9.04,9.08,9.05,9.25,9.28,9.27),\n",
    "    List(9,9.01,9,9.2,9.23,9.2),\n",
    "    List(8.99,8.99,8.98,9.18,9.2,9.19),\n",
    "    List(8.93,8.97,8.97,9.18,9.2,9.18)\n",
    "  )\n",
    "\n",
    "val series = XYZ(z=k.flatten, n = k(0).length) asType SURFACE setColorBar(\"Altitude\", RIGHT_SIDE)\n",
    "val chart2 = Chart() addSeries series setTitle \"Surface\"\n",
    "\n",
    "chart2.plotInline"
   ]
  },
  {
   "cell_type": "markdown",
   "metadata": {},
   "source": [
    "#### Third Dimension as Color"
   ]
  },
  {
   "cell_type": "code",
   "execution_count": 42,
   "metadata": {},
   "outputs": [
    {
     "data": {
      "text/html": [
       "<div id=\"grid-container_QhrdptGTww\" class=\"grid-container\" align=\"center\"> \n",
       "<div id=\"grid_QhrdptGTww\" class=\"grid\" align=\"center\"> \n",
       "<div id=\"graph_e0sCiGyEoH\" class=\"graph\"></div> \n",
       "</div> \n",
       "</div> \n",
       "<script>\n",
       "var masonry = new Macy({\n",
       "    container: '#grid_QhrdptGTww',\n",
       "    debug: true,\n",
       "    mobileFirst: true,\n",
       "    columns: 1,\n",
       "    margin: {\n",
       "        x: 0,\n",
       "        y: 0\n",
       "    }\n",
       "  });\n",
       "\n",
       "  var traces_e0sCiGyEoH = [{\"name\":\"lcE4kWaR6Y\",\"type\":\"scatter\",\"mode\":\"markers\",\"marker\":{\"color\":[94.5143889067177,47.56678897051407,84.71381009780933,30.476872398512807,98.51253876311067,33.24532392006187,51.281220982714096,51.08494209565799,52.45958579136605,67.64259575153064,61.01880138982096,24.47571336284602,82.30199616475579,110.23145886932082,94.41484853301996,97.6085313195734,87.13982527634357,102.74405852030891,85.61350867444068,35.087322238731794,93.34963834754478,50.49262638673349,36.03691063516058,65.89220444213605,88.12837962111291,60.51674418753788,70.61946637173263,91.54731026950708,80.44706559808432,126.95323631712688,42.30925742810053,126.05252224166549,112.89151085777023,130.29431917980418,48.79217759145243,109.48893307593637,113.98050407384027,109.09419543134959,124.32032256398239,74.41487352494333,137.2901961881015,70.20380915639811,109.07685938888858,47.00130515838576,81.07670092792907,126.75799693335513,78.68541776961675,133.31253329334174,120.07721578715186,91.90881553031171,137.2728209684625,75.22008444519393,109.78324194517694,110.69334301139568,138.91973652579998,60.1447538305882,142.71773821711074,82.44380187832063,104.3846317387058,134.1537594367739,146.1114136684689,111.79236453065072,142.66219415202067,98.89702591831318,110.86149283424501,127.59254879640955,70.23815304826036,69.448651005882,132.76974577798444,125.97361260573648,144.82821258513525,132.32660305457267,128.7947023906445,126.26394318455522,94.93961509343588,170.7957621486466,163.41635048693573,176.66391073733726,131.76959576602536,118.01645046840807,83.19986595856946,110.31820126218486,175.7558180423769,157.6825944523152,111.25818205041772,131.832229585417,116.51960019752757,116.50072745185429,97.5515348317848,109.29665181024649,151.99360533876123,183.19306680948625,155.82535028732153,157.52866784784558,120.20134286235705,144.6649104132208,143.47617972730865,124.50820501824151,145.45673367862344],\"colorbar\":{\"title\":{\"text\":\"3rd Dimension\",\"side\":\"right\"}}},\"x\":[1,2,3,4,5,6,7,8,9,10,11,12,13,14,15,16,17,18,19,20,21,22,23,24,25,26,27,28,29,30,31,32,33,34,35,36,37,38,39,40,41,42,43,44,45,46,47,48,49,50,51,52,53,54,55,56,57,58,59,60,61,62,63,64,65,66,67,68,69,70,71,72,73,74,75,76,77,78,79,80,81,82,83,84,85,86,87,88,89,90,91,92,93,94,95,96,97,98,99],\"y\":[1,2,3,4,5,6,7,8,9,10,11,12,13,14,15,16,17,18,19,20,21,22,23,24,25,26,27,28,29,30,31,32,33,34,35,36,37,38,39,40,41,42,43,44,45,46,47,48,49,50,51,52,53,54,55,56,57,58,59,60,61,62,63,64,65,66,67,68,69,70,71,72,73,74,75,76,77,78,79,80,81,82,83,84,85,86,87,88,89,90,91,92,93,94,95,96,97,98,99]}];\n",
       " var layout_e0sCiGyEoH = {\"height\":550,\"width\":600,\"hovermode\":\"closest\",\"title\":{\"text\":\"Scatter With Color\"},\"showlegend\":false};\n",
       " var config_e0sCiGyEoH = {\"responsive\":true,\"scrollZoom\":true,\"displaylogo\":false};\n",
       " Plotly.newPlot(\"graph_e0sCiGyEoH\", traces_e0sCiGyEoH, layout_e0sCiGyEoH, config_e0sCiGyEoH);\n",
       "</script> \n"
      ]
     },
     "metadata": {},
     "output_type": "display_data"
    }
   ],
   "source": [
    "// multiple compositions can be used to create scatter charts with a color representing some third dimension\n",
    "val series = (\n",
    "    XY(x, y) \n",
    "    asType SCATTER \n",
    "    drawStyle MARKERS \n",
    "    setMarker marker \n",
    "    setColor z \n",
    "    setColorBar(\"3rd Dimension\", RIGHT_SIDE)\n",
    ")\n",
    "\n",
    "val chart3 = Chart() addSeries series setTitle \"Scatter With Color\" showLegend false\n",
    "chart3.plotInline"
   ]
  },
  {
   "cell_type": "markdown",
   "metadata": {},
   "source": [
    "#### Subplot\n",
    "\n",
    "The Subplot class can be used to generate subplots for an XYZ plots just as we did previously."
   ]
  },
  {
   "cell_type": "code",
   "execution_count": 43,
   "metadata": {},
   "outputs": [
    {
     "data": {
      "text/html": [
       "<div id=\"grid-container_gMZfSu9jup\" class=\"grid-container\" align=\"center\"> \n",
       "<div id=\"grid_gMZfSu9jup\" class=\"grid\" align=\"center\"> \n",
       "<div id=\"graph_ZTT6fzLGVq\" class=\"graph\"></div> \n",
       "<div id=\"graph_YCHDcWe6w6\" class=\"graph\"></div> \n",
       "<div id=\"graph_x86gjaduGs\" class=\"graph\"></div> \n",
       "<div id=\"graph_Dk8bBPLgvp\" class=\"graph\"></div> \n",
       "</div> \n",
       "</div> \n",
       "\n",
       "<div align=\"center\">\n",
       "<button id = \"saveAsPNG_gMZfSu9jup\" class=\"picta-button\">Download Canvas as PNG</button>\n",
       "</div>\n",
       "<script>\n",
       "var masonry = new Macy({\n",
       "    container: '#grid_gMZfSu9jup',\n",
       "    debug: true,\n",
       "    mobileFirst: true,\n",
       "    columns: 2,\n",
       "    margin: {\n",
       "        x: 0,\n",
       "        y: 0\n",
       "    }\n",
       "  });\n",
       "\n",
       "  var traces_ZTT6fzLGVq = [{\"name\":\"s8ttJzt5kD\",\"type\":\"scatter3d\",\"mode\":\"markers\",\"x\":[1,2,3,4,5,6,7,8,9,10,11,12,13,14,15,16,17,18,19,20,21,22,23,24,25,26,27,28,29,30,31,32,33,34,35,36,37,38,39,40,41,42,43,44,45,46,47,48,49,50,51,52,53,54,55,56,57,58,59,60,61,62,63,64,65,66,67,68,69,70,71,72,73,74,75,76,77,78,79,80,81,82,83,84,85,86,87,88,89,90,91,92,93,94,95,96,97,98,99],\"y\":[1,2,3,4,5,6,7,8,9,10,11,12,13,14,15,16,17,18,19,20,21,22,23,24,25,26,27,28,29,30,31,32,33,34,35,36,37,38,39,40,41,42,43,44,45,46,47,48,49,50,51,52,53,54,55,56,57,58,59,60,61,62,63,64,65,66,67,68,69,70,71,72,73,74,75,76,77,78,79,80,81,82,83,84,85,86,87,88,89,90,91,92,93,94,95,96,97,98,99],\"z\":[94.5143889067177,47.56678897051407,84.71381009780933,30.476872398512807,98.51253876311067,33.24532392006187,51.281220982714096,51.08494209565799,52.45958579136605,67.64259575153064,61.01880138982096,24.47571336284602,82.30199616475579,110.23145886932082,94.41484853301996,97.6085313195734,87.13982527634357,102.74405852030891,85.61350867444068,35.087322238731794,93.34963834754478,50.49262638673349,36.03691063516058,65.89220444213605,88.12837962111291,60.51674418753788,70.61946637173263,91.54731026950708,80.44706559808432,126.95323631712688,42.30925742810053,126.05252224166549,112.89151085777023,130.29431917980418,48.79217759145243,109.48893307593637,113.98050407384027,109.09419543134959,124.32032256398239,74.41487352494333,137.2901961881015,70.20380915639811,109.07685938888858,47.00130515838576,81.07670092792907,126.75799693335513,78.68541776961675,133.31253329334174,120.07721578715186,91.90881553031171,137.2728209684625,75.22008444519393,109.78324194517694,110.69334301139568,138.91973652579998,60.1447538305882,142.71773821711074,82.44380187832063,104.3846317387058,134.1537594367739,146.1114136684689,111.79236453065072,142.66219415202067,98.89702591831318,110.86149283424501,127.59254879640955,70.23815304826036,69.448651005882,132.76974577798444,125.97361260573648,144.82821258513525,132.32660305457267,128.7947023906445,126.26394318455522,94.93961509343588,170.7957621486466,163.41635048693573,176.66391073733726,131.76959576602536,118.01645046840807,83.19986595856946,110.31820126218486,175.7558180423769,157.6825944523152,111.25818205041772,131.832229585417,116.51960019752757,116.50072745185429,97.5515348317848,109.29665181024649,151.99360533876123,183.19306680948625,155.82535028732153,157.52866784784558,120.20134286235705,144.6649104132208,143.47617972730865,124.50820501824151,145.45673367862344]}];\n",
       " var layout_ZTT6fzLGVq = {\"height\":350,\"width\":350,\"hovermode\":\"closest\",\"title\":{\"text\":\"XYZ.Scatter3D\"},\"showlegend\":true,\"margin\":{\"l\":50,\"r\":50,\"t\":50,\"b\":50}};\n",
       " var config_ZTT6fzLGVq = {\"responsive\":false,\"scrollZoom\":false,\"displaylogo\":false};\n",
       " Plotly.newPlot(\"graph_ZTT6fzLGVq\", traces_ZTT6fzLGVq, layout_ZTT6fzLGVq, config_ZTT6fzLGVq);\n",
       "\n",
       "  var traces_YCHDcWe6w6 = [{\"name\":\"HJmfE728Kr\",\"type\":\"surface\",\"colorbar\":{\"title\":{\"text\":\"Altitude\",\"side\":\"right\"}},\"z\":[[8.83,8.89,8.81,8.87,8.9,8.87],[8.89,8.94,8.85,8.94,8.96,8.92],[8.84,8.9,8.82,8.92,8.93,8.91],[8.79,8.85,8.79,8.9,8.94,8.92],[8.79,8.88,8.81,8.9,8.95,8.92],[8.8,8.82,8.78,8.91,8.94,8.92],[8.75,8.78,8.77,8.91,8.95,8.92],[8.8,8.8,8.77,8.91,8.95,8.94],[8.74,8.81,8.76,8.93,8.98,8.99],[8.89,8.99,8.92,9.1,9.13,9.11],[8.97,8.97,8.91,9.09,9.11,9.11],[9.04,9.08,9.05,9.25,9.28,9.27],[9,9.01,9,9.2,9.23,9.2],[8.99,8.99,8.98,9.18,9.2,9.19],[8.93,8.97,8.97,9.18,9.2,9.18]]}];\n",
       " var layout_YCHDcWe6w6 = {\"height\":350,\"width\":350,\"hovermode\":\"closest\",\"title\":{\"text\":\"Surface\"},\"showlegend\":true,\"margin\":{\"l\":50,\"r\":50,\"t\":50,\"b\":50}};\n",
       " var config_YCHDcWe6w6 = {\"responsive\":true,\"scrollZoom\":true,\"displaylogo\":false};\n",
       " Plotly.newPlot(\"graph_YCHDcWe6w6\", traces_YCHDcWe6w6, layout_YCHDcWe6w6, config_YCHDcWe6w6);\n",
       "\n",
       "  var traces_x86gjaduGs = [{\"name\":\"lcE4kWaR6Y\",\"type\":\"scatter\",\"mode\":\"markers\",\"marker\":{\"color\":[94.5143889067177,47.56678897051407,84.71381009780933,30.476872398512807,98.51253876311067,33.24532392006187,51.281220982714096,51.08494209565799,52.45958579136605,67.64259575153064,61.01880138982096,24.47571336284602,82.30199616475579,110.23145886932082,94.41484853301996,97.6085313195734,87.13982527634357,102.74405852030891,85.61350867444068,35.087322238731794,93.34963834754478,50.49262638673349,36.03691063516058,65.89220444213605,88.12837962111291,60.51674418753788,70.61946637173263,91.54731026950708,80.44706559808432,126.95323631712688,42.30925742810053,126.05252224166549,112.89151085777023,130.29431917980418,48.79217759145243,109.48893307593637,113.98050407384027,109.09419543134959,124.32032256398239,74.41487352494333,137.2901961881015,70.20380915639811,109.07685938888858,47.00130515838576,81.07670092792907,126.75799693335513,78.68541776961675,133.31253329334174,120.07721578715186,91.90881553031171,137.2728209684625,75.22008444519393,109.78324194517694,110.69334301139568,138.91973652579998,60.1447538305882,142.71773821711074,82.44380187832063,104.3846317387058,134.1537594367739,146.1114136684689,111.79236453065072,142.66219415202067,98.89702591831318,110.86149283424501,127.59254879640955,70.23815304826036,69.448651005882,132.76974577798444,125.97361260573648,144.82821258513525,132.32660305457267,128.7947023906445,126.26394318455522,94.93961509343588,170.7957621486466,163.41635048693573,176.66391073733726,131.76959576602536,118.01645046840807,83.19986595856946,110.31820126218486,175.7558180423769,157.6825944523152,111.25818205041772,131.832229585417,116.51960019752757,116.50072745185429,97.5515348317848,109.29665181024649,151.99360533876123,183.19306680948625,155.82535028732153,157.52866784784558,120.20134286235705,144.6649104132208,143.47617972730865,124.50820501824151,145.45673367862344],\"colorbar\":{\"title\":{\"text\":\"3rd Dimension\",\"side\":\"right\"}}},\"x\":[1,2,3,4,5,6,7,8,9,10,11,12,13,14,15,16,17,18,19,20,21,22,23,24,25,26,27,28,29,30,31,32,33,34,35,36,37,38,39,40,41,42,43,44,45,46,47,48,49,50,51,52,53,54,55,56,57,58,59,60,61,62,63,64,65,66,67,68,69,70,71,72,73,74,75,76,77,78,79,80,81,82,83,84,85,86,87,88,89,90,91,92,93,94,95,96,97,98,99],\"y\":[1,2,3,4,5,6,7,8,9,10,11,12,13,14,15,16,17,18,19,20,21,22,23,24,25,26,27,28,29,30,31,32,33,34,35,36,37,38,39,40,41,42,43,44,45,46,47,48,49,50,51,52,53,54,55,56,57,58,59,60,61,62,63,64,65,66,67,68,69,70,71,72,73,74,75,76,77,78,79,80,81,82,83,84,85,86,87,88,89,90,91,92,93,94,95,96,97,98,99]}];\n",
       " var layout_x86gjaduGs = {\"height\":350,\"width\":350,\"hovermode\":\"closest\",\"title\":{\"text\":\"Scatter With Color\"},\"showlegend\":false,\"margin\":{\"l\":50,\"r\":50,\"t\":50,\"b\":50}};\n",
       " var config_x86gjaduGs = {\"responsive\":true,\"scrollZoom\":true,\"displaylogo\":false};\n",
       " Plotly.newPlot(\"graph_x86gjaduGs\", traces_x86gjaduGs, layout_x86gjaduGs, config_x86gjaduGs);\n",
       "\n",
       "  var traces_Dk8bBPLgvp = [{\"name\":\"7k24EcsDqb\",\"type\":\"heatmap\",\"z\":[[51.49721258923877,65.12176758569623,92.77852414866166,37.18945975903084,65.15942842650955,42.995514601591225,68.10267367505801,91.61791378300592,59.85262369364425,72.37168767011069],[108.70350427231,48.549033042537395,16.456682892934325,106.82730589082345,43.66554682496939,92.47007808145261,70.2326431609433,30.211483568357828,48.891155120134215,103.73239786394144],[102.77833277502825,112.14669306531975,101.7120089367963,91.96773255873906,40.24438339295852,47.48283554678135,69.73496692349093,64.00207466089032,87.51341558484097,37.55629160101782],[109.96286744615634,74.59775724296361,99.62715623230818,37.21940581081551,46.12553895931448,107.28025414065353,128.95332985693682,48.34414558370551,99.6756364174181,72.05693519534724],[89.41616230164647,87.86694257615132,73.0486403319576,87.01081417574956,47.571380025951996,96.43003149045026,122.55572205771611,131.55308019602316,84.38864135527155,82.2878266746057],[112.672802215894,120.5440524297906,71.31132135010157,114.38525725303796,113.50867206645307,150.54288936802055,69.49562811356449,88.3781409504647,88.87949522579464,112.12223517901612],[92.08809573096265,89.85406386754678,123.68661419863886,145.48472718942207,65.98242564069555,70.12544291338077,156.18910241521087,140.5441034006503,91.70383193321622,131.70476996926575],[113.28200085224881,147.18439125401164,127.90091316891233,92.93530972772443,95.03574082531746,166.58646416070286,120.3822526259007,164.23877483272184,118.52180070416992,140.312049094057],[154.71684587838877,122.05483525941204,110.34409514629145,140.26098974589647,136.12462358867828,110.78555053027097,132.31525644009147,89.66843442350468,90.71523149845207,137.9211400644716],[135.36136782178608,112.98433096565637,138.09036440786736,153.01173498372594,163.00832650610937,120.7784198445999,106.90693900399282,117.26308819647137,167.69750692390107,184.73970357669117]]}];\n",
       " var layout_Dk8bBPLgvp = {\"height\":350,\"width\":350,\"hovermode\":\"closest\",\"title\":{\"text\":\"Heatmap\"},\"showlegend\":true,\"margin\":{\"l\":50,\"r\":50,\"t\":50,\"b\":50}};\n",
       " var config_Dk8bBPLgvp = {\"responsive\":true,\"scrollZoom\":true,\"displaylogo\":false};\n",
       " Plotly.newPlot(\"graph_Dk8bBPLgvp\", traces_Dk8bBPLgvp, layout_Dk8bBPLgvp, config_Dk8bBPLgvp);\n",
       "\n",
       "var save_gMZfSu9jup = document.getElementById(\"saveAsPNG_gMZfSu9jup\")\n",
       "save_gMZfSu9jup.onclick = async function() {\n",
       "    const grid = document.getElementById(\"grid-container_gMZfSu9jup\")\n",
       "    const graphs = grid.getElementsByClassName(\"graph\")\n",
       "\n",
       "    const images = []\n",
       "\n",
       "    const rows = 2\n",
       "    const cols = 2\n",
       "    const img_width = 400\n",
       "    const img_height = 400\n",
       "    var margin = 50\n",
       "\n",
       "    for (var i=0; i<rows; i++) {\n",
       "      for (var j=0; j<cols; j++) {\n",
       "        const image = await Plotly.toImage(graphs[i * cols + j], {format: 'png', width: img_width, height: img_height})\n",
       "        images.push(image);\n",
       "      }\n",
       "    }\n",
       "\n",
       "    const positioned_images = []\n",
       "\n",
       "        for (var i=0; i<rows; i++) {\n",
       "            for (var j=0; j<cols; j++) {\n",
       "\n",
       "                const obj = {\n",
       "                    \"src\": images[i*cols + j],\n",
       "                    x: j*img_width+margin,\n",
       "                    y: i*img_height+margin\n",
       "                }\n",
       "\n",
       "                positioned_images.push(obj)\n",
       "            }\n",
       "        }\n",
       "\n",
       "        mergeImages(positioned_images, {\n",
       "            width: img_width*cols+60, height: img_height*rows+60\n",
       "        })\n",
       "        .then(b64 => {\n",
       "            var a = document.createElement(\"a\");\n",
       "            a.href = b64;\n",
       "            a.download = \"Image.png\";\n",
       "            a.click();\n",
       "            a.remove()\n",
       "        });\n",
       "}\n",
       "</script> \n"
      ]
     },
     "metadata": {},
     "output_type": "display_data"
    }
   ],
   "source": [
    "// it may be necessary to play around with the chart dimensions and margin  in order to ensure a good fit on screen.\n",
    "val dim = 350\n",
    "\n",
    "// The canvas has an underlying grid. By default the underlying grid is 1x1, but we can pass in the dimensions we \n",
    "// require by passing in parameters in the constructor.\n",
    "Canvas(2, 2)\n",
    ".setChart(0, 0, chart1.setDimensions(width = dim, height = dim).setMargin(l=50, r=50, t=50, b=50))\n",
    ".setChart(0, 1, chart2.setDimensions(width = dim, height = dim)setMargin(l=50, r=50, t=50, b=50))\n",
    ".setChart(1, 0, chart3.setDimensions(width = dim, height = dim)setMargin(l=50, r=50, t=50, b=50))\n",
    ".setChart(1, 1, chart.setDimensions(width = dim, height = dim)setMargin(l=50, r=50, t=50, b=50))\n",
    ".plotInline"
   ]
  },
  {
   "cell_type": "markdown",
   "metadata": {},
   "source": [
    "#### Map\n",
    "\n",
    "We can also create maps using the composition technique below."
   ]
  },
  {
   "cell_type": "code",
   "execution_count": 44,
   "metadata": {},
   "outputs": [],
   "source": [
    "import org.carbonateresearch.picta.options.{Margin, Line}\n",
    "import org.carbonateresearch.picta.Map"
   ]
  },
  {
   "cell_type": "code",
   "execution_count": 45,
   "metadata": {},
   "outputs": [
    {
     "data": {
      "text/html": [
       "<div id=\"grid-container_IiN3XG1t13\" class=\"grid-container\" align=\"center\"> \n",
       "<div id=\"grid_IiN3XG1t13\" class=\"grid\" align=\"center\"> \n",
       "<div id=\"graph_qr9uag1oyG\" class=\"graph\"></div> \n",
       "</div> \n",
       "</div> \n",
       "<script>\n",
       "var masonry = new Macy({\n",
       "    container: '#grid_IiN3XG1t13',\n",
       "    debug: true,\n",
       "    mobileFirst: true,\n",
       "    columns: 1,\n",
       "    margin: {\n",
       "        x: 0,\n",
       "        y: 0\n",
       "    }\n",
       "  });\n",
       "\n",
       "  var traces_qr9uag1oyG = [{\"name\":\"7Pn72xSmhF\",\"lat\":[40.7127,51.5072],\"lon\":[-74.0059,0.1275],\"type\":\"scattergeo\",\"mode\":\"lines\",\"line\":{\"width\":2,\"color\":\"red\"}}];\n",
       " var layout_qr9uag1oyG = {\"height\":550,\"width\":600,\"hovermode\":\"closest\",\"showlegend\":true,\"geo\":{\"resolution\":50,\"showland\":true,\"showlakes\":true,\"coastlinewidth\":2,\"landcolor\":\"rgb(204.0, 204.0, 204.0)\",\"lakecolor\":\"rgb(255.0, 255.0, 255.0)\",\"lataxis\":{\"range\":[20,60],\"showgrid\":true,\"dtick\":10},\"lonaxis\":{\"range\":[-100,20],\"showgrid\":true,\"dtick\":10}},\"margin\":{\"l\":0,\"r\":0,\"t\":0,\"b\":0}};\n",
       " var config_qr9uag1oyG = {\"responsive\":false,\"scrollZoom\":false,\"displaylogo\":false};\n",
       " Plotly.newPlot(\"graph_qr9uag1oyG\", traces_qr9uag1oyG, layout_qr9uag1oyG, config_qr9uag1oyG);\n",
       "</script> \n"
      ]
     },
     "metadata": {},
     "output_type": "display_data"
    }
   ],
   "source": [
    "// draw a line on the map that is red\n",
    "val line = Line(width = 2) setColor \"red\"\n",
    "\n",
    "// construct the map Series. It is an XY chart as it takes in a List of Longitude and Latitude\n",
    "val series = Map(List(40.7127, 51.5072), List(-74.0059, 0.1275)) drawSymbol LINES drawLine line\n",
    "\n",
    "// These are options that further specify the options for the map\n",
    "val geo = MapOptions(landcolor = RGB(204, 204, 204), lakecolor = RGB(255, 255, 255))\n",
    "              .setMapAxes(LatAxis(List(20, 60)), LongAxis(List(-100, 20)))\n",
    "\n",
    "val chart = (\n",
    "    Chart()\n",
    "    addSeries series\n",
    "    setConfig(false, false)\n",
    "    setMapOptions geo\n",
    "    setMargin(l=0, r=0, t=0, b=0)\n",
    ")\n",
    "\n",
    "chart.plotInline"
   ]
  },
  {
   "cell_type": "markdown",
   "metadata": {},
   "source": [
    "### Animated Charts\n",
    "\n",
    "We can also create animated charts. This can be useful for tracking the evolution of a data over time.\n",
    "\n",
    "All `Series` types should be supported.\n",
    "\n",
    "#### 2D Animated Chart"
   ]
  },
  {
   "cell_type": "code",
   "execution_count": 46,
   "metadata": {},
   "outputs": [],
   "source": [
    "import org.carbonateresearch.picta.ColorOptions._\n",
    "\n",
    "def genRangeRandomInt(min: Int = 0, max: Int = 10000) = min + (max - min) * scala.util.Random.nextInt()\n",
    "def genRangeRandomDouble(min: Double = 0.0, max: Double = 10000.0) = min + (max - min) * scala.util.Random.nextDouble()\n",
    "\n",
    "// creates random XY for testing purposes\n",
    "def createXYSeries[T: Color]\n",
    "(numberToCreate: Int, count: Int = 0, length: Int = 10): List[XY[Double, Double, T, T]] = {\n",
    "    if (count == numberToCreate) Nil\n",
    "    else {\n",
    "      val xs = List.range(0, length).map(x => genRangeRandomDouble())\n",
    "      val ys = xs.map(x => genRangeRandomDouble())\n",
    "      val series = XY(x = xs, y = ys, name = \"series \" + count).drawMarkers\n",
    "      series :: createXYSeries(numberToCreate, count + 1, length)\n",
    "    }\n",
    "}\n",
    "\n",
    "def createXYZSeries(numberToCreate: Int, count: Int = 0, length: Int = 10): List[XYZ[Double, Double, Double]] = {\n",
    "    if (count == numberToCreate) Nil\n",
    "    else {\n",
    "      val xs = List.range(0, length).map(x => genRangeRandomDouble())\n",
    "      val ys = xs.map(x => genRangeRandomDouble())\n",
    "      val zs = xs.map(x => genRangeRandomDouble())\n",
    "      val series = XYZ(x = xs, y = ys, z = zs, name = \"series \" + count, `type` = SCATTER3D).drawMarkers\n",
    "      series :: createXYZSeries(numberToCreate, count + 1, length)\n",
    "    }\n",
    "}"
   ]
  },
  {
   "cell_type": "code",
   "execution_count": 47,
   "metadata": {
    "scrolled": false
   },
   "outputs": [
    {
     "data": {
      "text/html": [
       "<div id=\"grid-container_ZDxGefpt3y\" class=\"grid-container\" align=\"center\"> \n",
       "<div id=\"grid_ZDxGefpt3y\" class=\"grid\" align=\"center\"> \n",
       "\n",
       "<div align=\"center\">\n",
       "  <div id=\"graph_59rI81QUFx\" class=\"graph\"></div>\n",
       "  <div class=\"animationInterface\">\n",
       "    <button id=\"play_59rI81QUFx\" class=\"picta-button\">&#9658</button>\n",
       "    <button id=\"pause_59rI81QUFx\" class=\"picta-button\">&#9616;&#9616;</button>\n",
       "    <button id=\"prev_59rI81QUFx\" class=\"picta-button\"><</button>\n",
       "    <button id=\"next_59rI81QUFx\" class=\"picta-button\">></button>\n",
       "\n",
       "    <div id=\"sliderContainer_59rI81QUFx\" class=\"progressBar\"></div>\n",
       "    <div id=\"counterContainer_59rI81QUFx\" class=\"inline-div\">\n",
       "        <h3>Frame: </h3> <h3 id=\"value_59rI81QUFx\">0</h3>\n",
       "    </div>\n",
       "   </div>\n",
       "</div> \n",
       "\n",
       "</div> \n",
       "</div> \n",
       "<script>\n",
       "var masonry = new Macy({\n",
       "    container: '#grid_ZDxGefpt3y',\n",
       "    debug: true,\n",
       "    mobileFirst: true,\n",
       "    columns: 1,\n",
       "    margin: {\n",
       "        x: 0,\n",
       "        y: 0\n",
       "    }\n",
       "  });\n",
       "\n",
       "var graph_59rI81QUFx = document.getElementById('graph_59rI81QUFx')\n",
       "\n",
       "var layout_59rI81QUFx = {\"height\":550,\"width\":600,\"hovermode\":\"closest\",\"title\":{\"text\":\"Animation XY\"},\"showlegend\":true,\"xaxis\":{\"title\":{\"text\":\"X Variable\"},\"showgrid\":true,\"zeroline\":false,\"showline\":false,\"range\":[0,10000]},\"yaxis\":{\"title\":{\"text\":\"Y Variable\"},\"showgrid\":true,\"zeroline\":false,\"showline\":false,\"range\":[0,10000]}}\n",
       "var frames_59rI81QUFx = [{\"name\":\"series 0 (F0)\",\"data\":[{\"name\":\"series 0 (F0)\",\"type\":\"scatter\",\"mode\":\"markers\",\"x\":[1668.5891882396243,2994.178333063762,9194.703479675349,8481.07269235542,5538.76063778851,6955.179417378051,9453.02452762667,1783.7006119359999,647.7539763471651,7377.387695446669,5405.023013202377,3126.7138059290687,2558.733314168129,7928.853266117369,6152.59160728237,1177.4948647622207,8743.043839662107,7248.908914209911,4404.06792029711,5134.2687658852155,3689.1681548941715,8691.96777607221,3067.9325881660116,1307.7668126426256,8416.486310099435,8869.508885064664,9020.628375419104,8732.55882096972,4046.2396390270073,8649.00521615033],\"y\":[4623.754613570721,6866.213921279769,9443.438310164793,3207.9980309271914,1208.4728754946007,5905.1644844382945,2367.26710658293,2243.47855788098,6450.036046721864,4279.3431259466115,2053.883099138345,7501.185147946248,9322.931044804202,8483.369144693774,8704.320413821302,2416.384715485912,2157.2052091428272,7560.2642538030705,1961.546844093832,7847.154985468385,9209.121875514655,8274.379551312548,6134.5489607284935,8633.137147364967,5114.3712496624585,7293.417549781473,4663.643362870532,8027.186220050284,4609.639611070186,3545.1395047780256]}]},{\"name\":\"series 1 (F1)\",\"data\":[{\"name\":\"series 1 (F1)\",\"type\":\"scatter\",\"mode\":\"markers\",\"x\":[120.0468287679346,924.2938586040872,6988.418177813198,7322.548821764621,8894.06247790295,2251.617090067339,4899.510858016272,2682.044472818408,1650.0666552069454,3885.3918149717338,7301.777900993401,6212.243671870458,1612.8131357291797,2024.9753824521345,656.2343139074611,8346.873387160798,2798.3944605489787,7081.199412168991,766.6903934164382,3053.33470209608,9414.532931286654,9825.68324186169,72.71572829660843,7949.248845371826,5828.698427910977,799.7007675141609,1653.7663146794334,9682.492043547987,3738.879438647137,4795.649246976204],\"y\":[1720.9116451255436,8755.936830696202,9480.663776368705,8601.125191460667,6952.663707747135,3886.311470040349,9765.61074046876,8135.060831931352,1673.9928298809848,8457.301421394313,8569.725162487786,607.3309122632975,2582.6931256082685,660.2129039797866,1377.174506624693,8397.69016813912,5494.840855329911,4511.224633914813,5533.212849882681,3976.859018894823,9411.159016603768,1092.4594774991058,7071.611896699111,9382.023529761207,8098.6910588782,8084.803667653623,5055.718791109068,9510.969750266033,8337.255070445523,943.6127134733085]}]},{\"name\":\"series 2 (F2)\",\"data\":[{\"name\":\"series 2 (F2)\",\"type\":\"scatter\",\"mode\":\"markers\",\"x\":[4208.592880095255,5813.530759862866,6997.732290628681,914.1403895011191,5406.502810539605,5835.9700177997,6199.323217570168,3491.7331698164467,1471.39185614947,4513.382699842785,6935.477633757914,5902.533463283761,2621.7442129646815,5107.1501753701605,6763.289289980779,3713.642037186854,1927.6211365714692,1248.9323796030815,6418.718676956191,4777.386546691589,6164.4561008416595,6679.6387001416115,3550.0885379938986,3372.5545981212267,1571.5294589711814,5961.271481839475,9154.87461482366,8626.144376408203,7194.873312869704,7691.487061369753],\"y\":[3759.891254329901,9082.396790894158,730.6809331240682,1565.1739291079757,5902.5495755309175,9631.569940517222,3084.1261259130792,2004.300965786272,5050.945201737036,7919.121672082272,8219.827027659083,4016.7405657397926,4743.110271200837,4826.674782419223,4304.012346583533,1446.7261588114832,9430.841891837492,7649.331582205722,624.7826029786174,3844.0552186388322,281.0971468025769,5189.616603908686,2325.6810520917525,5806.103405592683,1018.0251250193428,1146.5270552571305,1599.120460739767,1836.1672266206142,4781.280750485486,5898.871815802351]}]},{\"name\":\"series 3 (F3)\",\"data\":[{\"name\":\"series 3 (F3)\",\"type\":\"scatter\",\"mode\":\"markers\",\"x\":[9660.040085137867,513.6062700373734,6931.348168510477,7065.285221752714,8556.4937020727,4085.7109458443706,6750.175234545161,6069.002493680759,5672.698699805816,3468.171025926686,3065.4989510338514,1343.6901617259578,6641.40327059191,4080.476054398463,4969.825254803533,8787.325163616959,4306.260070934807,4944.5338829001,9010.097490511798,6604.319223897299,2361.2176626961623,2039.2395361199167,8491.67095053206,4771.793946414192,2342.7742443687684,7030.68791613481,8870.286348829026,9024.1029245628,1762.262404730297,4187.173539237223],\"y\":[5598.314201739849,5470.415692521974,9339.164675935115,1540.0694435870066,7246.621682883319,4743.369222463588,532.7869500569849,7166.141256515926,7240.98794022938,3922.501813042714,2868.4412462337527,7843.790784472613,2132.0769687543016,384.3853873365377,5915.626521105789,5275.192563804549,2960.549252550023,4202.076301643504,5199.511781500473,4568.226833174719,8983.976579468193,4749.707587855671,2813.366921976641,736.5722342125969,9799.803341164254,2763.7481545580536,48.40429707348104,1603.273648853981,2728.6655562418973,1270.6561105305325]}]},{\"name\":\"series 4 (F4)\",\"data\":[{\"name\":\"series 4 (F4)\",\"type\":\"scatter\",\"mode\":\"markers\",\"x\":[8968.827685996725,9682.553284382111,7214.974835125848,7511.363138639236,533.7135583491104,1366.5852283505287,6956.732828190161,3276.220002277559,6603.674340522698,9058.408791625112,3494.135826264899,2909.7451263040143,1969.0839522380254,769.1070351826545,2066.598467210048,6652.714487154476,397.9744828349818,2136.8327267316477,1690.4048124989868,1959.8418728253787,5625.539209269962,7827.213569817947,6614.277539160737,6964.493236340217,4193.506288747687,2839.1247058427425,5577.728233945322,8357.586423388559,2096.475514212436,9366.767436435031],\"y\":[8627.133298721223,606.0350420543236,1303.6377985653958,1558.448833663888,8637.058857958988,4656.785821616478,5398.12757677601,8764.407116845783,6139.431916514913,2055.7158406892017,5812.582547272312,7680.4814669075995,1580.7400910688984,4756.3518087545945,1438.3190593709428,5171.381130313593,8707.511560389516,1801.5748325073378,4746.850107102428,6496.757250676805,6422.913081639823,1532.1848126910586,6986.3147565974205,8165.23675851302,4162.378242958619,2009.3930192516395,3501.7003131258894,706.0304173459475,7603.754722656588,2934.022712252691]}]},{\"name\":\"series 5 (F5)\",\"data\":[{\"name\":\"series 5 (F5)\",\"type\":\"scatter\",\"mode\":\"markers\",\"x\":[7776.581527591645,4274.679300732889,7357.541629822379,9503.392683503587,9405.415791192454,9198.958987018057,3175.36289691818,2367.569326737199,6879.273513264842,4322.911156155257,169.90135792858686,8129.870841225134,804.2023784311269,8321.428039550787,1557.0980426133597,1682.2119554537474,6970.253780458074,3034.766325783247,4511.49772904377,5074.081375300954,1550.5348123616757,3311.822453944494,1868.1974560712588,7584.644779877472,2633.464274265416,4852.950748437299,2609.9408295684843,8200.675081720836,3277.754969137113,107.5632734286136],\"y\":[8345.469547013483,4798.7049944984365,1328.4571891238495,2408.7007106315573,1315.327098789072,3988.0125597362694,343.7390583973976,216.21727247551627,1853.887368827598,1791.740192604172,4155.899714428284,6592.174736638922,9691.458067352276,8126.662232369068,4826.4426198753345,3846.4972368393846,3997.886478520134,7387.813947582102,53.86444570614435,9667.887100737198,1649.1740878511084,3352.3941817751133,1454.1406978104244,8994.459329099642,1841.1856293051487,9088.067296417117,9557.720620859604,5380.500081578367,7879.6135324774195,1583.983799474613]}]},{\"name\":\"series 6 (F6)\",\"data\":[{\"name\":\"series 6 (F6)\",\"type\":\"scatter\",\"mode\":\"markers\",\"x\":[4853.170771712949,6680.215721358713,3742.9398953406358,6418.544034546093,6756.4328845744785,2496.2830261676204,3845.2131853559868,9936.138841678398,3995.9933608424194,5030.470581207186,9318.038845610137,5125.794772029796,578.0866892115466,725.554076795497,3086.2578458239955,2677.860089925538,1232.384064924581,7402.194835891345,9029.363911316032,540.5726520929466,9037.448897924482,471.41583215939534,7600.796732915851,3706.5476426398723,5786.565327454389,2242.750110476132,1419.8140620089582,929.9317331852019,2578.3763653266346,350.09744325654736],\"y\":[9555.734781823023,6608.170413895535,4103.095930940059,4881.777041421063,8491.916840546286,4158.041010119609,5143.886798397931,8928.21463880214,1086.91411290887,1873.8034889242717,1924.3255418601423,3950.157094763483,2242.834095621522,3476.0270870980657,4106.702065250904,9622.262639446264,1445.9972658210274,3342.8532223346288,5482.2310480900405,7621.362717797655,7862.574917103368,761.1578076280723,2693.0790740109865,205.65203993307523,3251.9639775084097,8443.278230348664,1687.4428261337525,7370.5080081820715,1603.229955803749,8025.678587541616]}]},{\"name\":\"series 7 (F7)\",\"data\":[{\"name\":\"series 7 (F7)\",\"type\":\"scatter\",\"mode\":\"markers\",\"x\":[1032.73697381979,868.6019479235807,2105.0354063654186,9299.119830032778,9698.279692574042,9446.411376602277,3827.038813349629,515.6159167888708,4467.698556931289,7276.20053313124,6320.837953839435,4275.653876624411,8752.596430245883,6751.984249566697,241.10207607474067,7219.85672147945,252.85304928772456,7569.949585171796,6042.617530986116,2032.4794145763526,9645.26554927279,6328.256915933735,6826.552435320853,7109.82170262845,6281.055113807119,4758.100179038457,3489.3190290118214,2654.852293624299,9734.099185127669,137.35444616056913],\"y\":[6469.995499489249,1930.038884388382,7965.574182809135,8440.096717156126,8597.342809863138,2933.5787929703915,3857.02526877137,9339.735650517021,7805.0342186913695,8859.93571174167,1912.7024618060739,2310.439203640595,6813.789474129958,5363.782098754132,6043.334078326025,4761.007036679484,9271.687899868342,8867.157644068344,7517.339073847023,6387.277368931915,8299.007479036904,2932.852282060855,9401.800590157029,8743.625105477307,3901.520850815442,9072.727784767496,114.35861213612175,5411.047618014956,296.25389521407584,4267.894187261102]}]},{\"name\":\"series 8 (F8)\",\"data\":[{\"name\":\"series 8 (F8)\",\"type\":\"scatter\",\"mode\":\"markers\",\"x\":[4068.502985651684,6078.797380584673,2836.289619324419,9948.360932270985,1818.578962409745,7358.4681340298985,6926.282949527712,6212.9849955181335,5597.14325310905,4213.897671598763,8087.924536432025,666.2423457969691,8686.139717531645,8517.201545863756,3164.6731642023897,3406.5525204956793,8674.687037279306,5430.705742779835,7547.655945597967,8421.585132722454,5330.105673261799,4066.4999699850036,2259.7066219282638,6929.18950287603,3545.1323267516864,6189.784875237217,7752.100007236759,48.27856257916818,623.1045669896284,5609.142803687915],\"y\":[8348.611837737228,6592.214886214776,5024.220778968051,1336.3093574820161,2414.112448769945,6747.939649930014,619.8145169628266,9599.98260154932,8529.984586905357,3937.293689957805,6487.904178787535,3362.6550196015105,7226.22790633797,5252.68083267107,7332.1127824940495,3116.4082946772787,1150.1969030668101,5517.429516884879,3717.377520699394,9423.064771470214,3944.4927067975445,1241.905268452521,4489.697353869004,5916.0410100486015,9561.608223267534,8529.641683334481,5983.493967324298,1295.7026327816102,9260.507171521856,3333.4438423621928]}]},{\"name\":\"series 9 (F9)\",\"data\":[{\"name\":\"series 9 (F9)\",\"type\":\"scatter\",\"mode\":\"markers\",\"x\":[3918.9953021181454,226.97361215984756,3110.3906077774714,3369.6398918871228,4253.3689274702365,5987.405756623954,6469.48774932105,8469.344141966363,8673.169769904584,2215.86557350423,9611.781489848989,178.80716826311095,8901.991710132968,7176.451883191853,442.1620052623154,2016.6276535198967,1546.0373730219967,1579.208542930025,6070.574467629901,8953.806291791981,1811.6544563987525,188.65030974670404,8908.309529421804,8403.322529713958,102.7105014584051,8203.072504759357,6904.662412982663,5289.119621645669,242.00868450647062,5702.070758679665],\"y\":[5559.76067476061,610.0884062907552,1859.7739798395896,7336.645141008131,1429.446017121343,6322.836877640432,2353.566824124864,9875.723072667624,2980.665815628063,9337.74560978256,5747.812289841532,7224.879430486626,4860.916012847655,3956.002193409873,6767.45706344524,1097.4986170029576,5912.846961578698,5171.018304664525,8489.096888891521,5645.5582973253795,9595.228824314368,4915.832840085715,1044.2462774421856,6046.688180732685,7864.046876697777,9558.806827904964,7023.246922020811,4296.091864246536,6022.579786278084,9733.123098957063]}]},{\"name\":\"series 10 (F10)\",\"data\":[{\"name\":\"series 10 (F10)\",\"type\":\"scatter\",\"mode\":\"markers\",\"x\":[6464.642713663883,266.3861391007427,6566.883739325634,2931.300770859361,613.6765119729959,2475.358432805289,4633.1942053103185,5204.14501069251,8994.890596201369,941.0963394812211,6296.32716292794,774.246044835053,8767.641104867118,4005.9018401951275,3673.2422675740195,7407.358362008791,8819.669888820255,2074.8485047208096,7553.5089029144165,980.676223674114,3602.6938958513124,3841.797581440236,9108.49560694289,4845.243649027051,3325.31464450296,4765.1426277350665,7123.676396055062,8300.423858372988,7792.3665256795175,3307.5008681093955],\"y\":[6153.533698738993,3781.568366543696,916.1584885191864,7768.028735666432,4016.105959069296,4207.721088510942,1723.886041222543,5412.987596764429,4124.315732197654,344.40118202076377,5546.82535613846,6049.638230849914,9293.785655682243,3007.205767046508,6000.7404482008915,4190.503111911067,8871.929032661548,6465.1857591330745,4353.273510561845,7519.476943609166,300.68264706679895,7498.640113574008,7922.904625633177,4498.229513147853,9555.325886816901,9224.18603296229,3265.406864367321,640.7939434605337,2294.4043644134595,20.661018325758285]}]},{\"name\":\"series 11 (F11)\",\"data\":[{\"name\":\"series 11 (F11)\",\"type\":\"scatter\",\"mode\":\"markers\",\"x\":[3077.5407929327125,1236.1834855545528,9010.86379078142,5672.616713331914,7984.067665016191,8113.338702439382,2992.0677970058828,7193.869086517861,5672.985224640295,9419.658606765326,9476.458217642019,7701.770296832698,205.21927780281501,4323.816559306934,8037.191077421569,9183.572043552294,3748.8321999760965,9055.52522735521,7928.162849746193,4029.453991503461,1474.1363305446819,6759.35887814806,7895.415324242148,6802.4926454112565,7894.931427052858,1266.6979291774906,7786.989576094743,8874.048803292293,9552.409984819635,4079.317030554378],\"y\":[9186.875170723537,2273.757236297105,4612.105682102357,4610.083881797883,6253.779698366816,9386.502921664402,4680.584629471793,6040.69532830438,5963.0239281537715,1974.4723411390419,7947.409299399902,3033.3276895985628,9029.939465488855,6410.571876999027,5619.236368896176,2972.532408264017,8935.732631912575,1980.2067016185897,5536.729856396267,9415.65971670449,6681.851454784203,5641.619469786815,7851.306696097165,4994.547314006503,3166.468844454692,9730.688453014971,7687.555850410178,1138.165493961779,9406.778123364624,8754.289336566877]}]},{\"name\":\"series 12 (F12)\",\"data\":[{\"name\":\"series 12 (F12)\",\"type\":\"scatter\",\"mode\":\"markers\",\"x\":[8828.50284061789,3675.3591053225455,7223.373643667201,7637.029858633455,634.7150210707764,6628.7853557889775,9458.063161841814,6569.3621211903965,7644.579000899526,1325.5949735210547,9314.044831491161,6950.794141995165,7601.899781869656,4327.359005404531,2987.4503267814257,8830.108637890651,9018.308833580506,5621.198748429574,8401.84203454303,2715.2149709062733,3801.790598993777,8016.02527383841,5562.326799588015,7658.45392024051,3968.9642288585183,9752.251571244846,813.5234452597217,3118.8818669863626,4007.59266321178,4960.291994748613],\"y\":[8115.707842516975,4261.262915006289,2067.1100738730242,792.6177367298181,5346.028906727268,9072.203212360964,3828.7931912121267,5806.087080014339,2586.7716621470104,957.0595112294089,2643.529362678901,1485.7288945178548,2380.2211013737196,2326.9621387548323,8323.957011845561,7678.102514376923,9009.758494294434,3093.4946554336807,4839.091558518628,3141.817601363659,5009.396789971425,2959.272872871619,4083.369487303865,4424.746451919651,8309.04781259181,7925.872635586495,8878.37446914427,9841.914531688779,2690.3809787164055,9536.255580011353]}]},{\"name\":\"series 13 (F13)\",\"data\":[{\"name\":\"series 13 (F13)\",\"type\":\"scatter\",\"mode\":\"markers\",\"x\":[3414.3416679725756,455.01282297755296,7558.22357689289,27.049571078199275,3449.854552553451,6643.919518697351,425.01767446352034,7786.737503328774,1761.9887426463997,7112.583261739263,6960.941498232205,5299.017289167247,6575.475988396379,6986.061850997011,8979.866604112241,6096.296280015569,1998.293926130187,3032.4727747888237,311.41129123926413,8156.48371942899,9852.414102970348,6983.059624471617,4151.923059994621,8646.955839512779,1712.2714536173767,2425.5316511695023,3192.3037929164243,8952.762018080208,8449.84102436721,6810.292009718794],\"y\":[5588.167937580289,9521.848604368033,2134.041494421064,7736.116002793013,5667.900463534546,1218.2832045017444,1743.5108693237578,1871.298034595039,8166.766244937139,3595.155367419377,9825.627003665084,5618.241000398118,8730.29119974776,782.04355325588,1970.974499008903,8943.90985622271,1447.7209267451462,2527.636491414511,4771.288379248317,7675.526884202008,6256.438348210508,1346.2968300550015,790.2343652692279,5000.340454995184,5200.798419656805,6688.0664752994935,1000.2060171954253,9910.251143896203,6733.918139710396,3584.8082029136663]}]},{\"name\":\"series 14 (F14)\",\"data\":[{\"name\":\"series 14 (F14)\",\"type\":\"scatter\",\"mode\":\"markers\",\"x\":[6124.658946804166,8896.530223161597,1518.5380717138507,6320.884266687022,8374.322832911095,7326.821640996143,1513.1488639323554,7334.979544411608,4176.958877636313,8626.071262940352,6522.155062585446,7780.371439244127,6674.163919502595,2634.978331249135,8843.923933907588,8954.1599015617,3995.047620109391,9334.018411597026,7168.152906145163,3151.6714340732665,5615.437289554844,498.0417128711034,5454.05580750152,8410.450923716262,4472.591988529026,9785.900369511948,1163.4562897390622,4078.9631014137726,6929.238310446658,1271.5154347994173],\"y\":[9927.950032581333,3178.3254208482535,6167.068148615671,7487.24330143441,496.87608483126036,3121.0983889763365,7138.661556074933,677.3590300638233,4642.91605376957,8509.363701740152,2818.1356259480426,5148.920957501026,1594.7201891057027,8455.019424894248,2164.6381402212787,4359.242604305332,5521.031439721156,6148.429217178306,9949.14025470059,3693.6409275003457,7608.363897355699,247.26625721441465,7393.808438409768,8764.093707598053,1354.368031475469,6065.586891086864,434.5603134869236,9498.881745513529,841.5875752812497,9513.887443173806]}]},{\"name\":\"series 15 (F15)\",\"data\":[{\"name\":\"series 15 (F15)\",\"type\":\"scatter\",\"mode\":\"markers\",\"x\":[9341.244314682563,2295.2527644579313,6961.398980500825,8274.083206007492,9416.206109060477,6071.592917104772,5825.5004744263515,2789.067357887558,7540.831281682769,3182.545427548288,6932.389887070743,4304.699099956967,3450.989862387509,2849.9696804648556,6048.858685893719,8422.781298107318,7796.125381023504,3014.5878574370577,9221.596360350657,406.7855768547524,1273.071612989587,6327.615989291821,9851.590632145268,2827.7905370425037,424.49483980350755,7378.635454584004,344.07232842153303,7046.297334383555,6053.200901797066,1195.4070072715083],\"y\":[3489.344427519314,7496.292801745604,9627.362556846987,7553.288140186377,6434.907172788063,1771.1357270852934,1538.0613640210283,1696.3649744709742,1876.8670049999569,106.53652925812551,2619.357462871258,9699.363680636765,6928.7020505682485,5014.11480393358,6952.433745454277,5888.859362978524,18.028967340556477,5539.714149500858,9649.190584642456,494.2540148667696,117.09640086045026,903.8598755399519,8046.987379435238,8013.446746725283,630.3084128380488,5127.447295959243,8545.067061072546,655.0748127315243,2342.1602883969217,7653.954808926571]}]},{\"name\":\"series 16 (F16)\",\"data\":[{\"name\":\"series 16 (F16)\",\"type\":\"scatter\",\"mode\":\"markers\",\"x\":[4174.515861402812,6658.657205002698,5971.544043075531,4950.173008165621,9917.447631637904,295.9207650171247,5083.463059439278,4600.648771621341,3777.4265857470136,8921.048421557982,4376.771473482084,6506.74777583686,1651.9691314391694,2564.540782033685,6696.630759275272,5459.434227165597,3169.297721215021,3254.8297539277137,4512.956704811785,5575.579755267844,3825.3413130787562,4503.744483788995,8061.2062880451895,9870.809660505123,5993.314897280724,6206.377509397427,2859.434343397356,7587.59982385742,7677.026921972488,6582.852445071975],\"y\":[3895.6225835888736,7805.540847011445,3240.401401254803,728.9501842524882,2421.869967204233,331.38888141885036,4769.52361187047,4844.502398004757,3997.103776617168,3899.7287046802976,6209.851103805355,6272.913652331419,3187.552958941826,7310.7685623785,4970.053956651403,2112.125718037733,1164.3043833813583,1290.0029821780513,7295.281861473854,3346.7955648656157,7329.835552473214,7575.171202892875,4386.481325601572,7203.403937254809,5060.50170466184,7019.147214579794,5978.714814060332,7744.473806715982,4669.530150727155,343.10106986511823]}]},{\"name\":\"series 17 (F17)\",\"data\":[{\"name\":\"series 17 (F17)\",\"type\":\"scatter\",\"mode\":\"markers\",\"x\":[6890.260038911119,3595.0199834922423,3775.1511237205505,3582.472336824696,9915.600231189012,2133.817451426575,6401.077606615586,5238.99844906015,5359.236602023314,1484.0154537602134,7341.618950497745,3685.249974667816,3493.595102410849,5202.089754071562,7591.296811526956,1463.8188228169868,1273.1091689707641,9691.06780090664,9968.904069319591,7781.517215218506,8747.90992140458,1053.4257383569102,1458.5317846714474,1719.6420873186623,3794.362703886531,6350.997177390488,245.16206882169155,6464.566335536196,6016.034254475258,4053.6983127956514],\"y\":[940.0056392729527,9208.62068715705,1967.489598527271,9835.818826760815,1070.8424408027195,2279.431216867889,4214.655340162227,6818.084503842686,5555.195011180672,8526.582883751706,6169.308819153849,3855.651586272677,3579.253644300414,8027.683550469123,3121.5816198355196,1536.6434311279686,4073.0379766796455,3771.6002588774113,7443.196693367798,3182.794591440047,1802.3674411679601,1134.8515311682206,2545.4826893777795,7333.220965435306,5990.787331439597,9687.834254249283,5850.040398592312,8944.286545752957,7339.673499646883,6150.772281970421]}]},{\"name\":\"series 18 (F18)\",\"data\":[{\"name\":\"series 18 (F18)\",\"type\":\"scatter\",\"mode\":\"markers\",\"x\":[5766.260924591978,8852.990980932083,7332.321884852357,4164.974052169751,1468.7286784064668,4928.257336679034,5787.900515091897,9953.19197246041,7128.863513717208,3773.947024710054,8773.72786521462,2913.576798390143,4178.990475892308,8849.388372833411,9189.411491582565,6724.925395840502,6173.350522221832,9437.656624822492,6603.964207593475,9636.623738789935,859.3945945932013,5018.790007826871,1257.0912962223301,2274.887253729442,3184.0306289827413,1294.59198537204,9528.421957186247,7517.606027741193,1133.323832957913,7363.610414019413],\"y\":[4633.53301227273,9773.308478181016,3540.4753161425774,8359.345788061673,6823.193869692079,345.44968194193615,5295.734393188811,4241.689710612979,1942.3406813826782,1471.4497655416114,753.2271005613889,3371.049797570823,5847.861535780405,4096.594257149814,553.5137868512485,8996.5697605028,4889.357568763836,3476.1237889607887,567.0114715675334,7854.305064674886,9424.618718876904,2294.537776337885,4212.2515399354,2698.172769768814,8171.634784857172,3149.3401268191533,1014.2668563255297,4775.937326650836,6091.537413788253,967.1604750471241]}]},{\"name\":\"series 19 (F19)\",\"data\":[{\"name\":\"series 19 (F19)\",\"type\":\"scatter\",\"mode\":\"markers\",\"x\":[4942.231076850216,8014.461264895031,7451.949769870718,1203.385193451424,5801.803991159253,3992.8891556020017,8737.794048787538,1522.1378808006668,5756.45954473238,5659.3932521505285,3156.691933425232,3061.648601725828,913.4083495959111,8186.5650619479065,9628.664648361648,2360.7584000576544,4833.545969206677,7362.481632447082,4354.9217519381355,6555.50802034027,6811.196483928549,9478.936260834855,2328.1040695625243,2550.456302100695,2818.238915045219,1805.2739857870893,9476.422478627572,5527.589394320229,1118.5406016147792,9425.72197926544],\"y\":[3526.7198427971157,3376.3726656316094,7732.441567948344,2470.064406320003,3126.5499492030804,1411.7081095737394,9167.372903861737,7581.959003591621,282.95535746889476,6092.258679242351,1129.5078858082043,8846.148063197104,755.7003086769953,7359.809087575499,2292.6818470465782,6335.270310199292,685.2916567070677,6691.029465693219,1624.6418334972402,4938.9318818763695,5441.201961926932,1986.2163829244305,6257.013418944459,2202.1470867321723,8443.284146218288,1015.2870679961956,4434.204914164429,1527.2159698749576,3539.4479226589783,2299.504830922933]}]},{\"name\":\"series 20 (F20)\",\"data\":[{\"name\":\"series 20 (F20)\",\"type\":\"scatter\",\"mode\":\"markers\",\"x\":[4687.790558988783,6282.555210200372,4415.243406991159,6028.119053601984,8056.7493172157465,1113.9546367669284,8466.078812209656,7892.3049884743905,4910.260759797601,9068.181457896953,580.3744052316117,5564.489512043428,1728.5849506997997,7015.812899022423,4362.032310307259,959.3574172200503,6058.88833195224,7299.626121625263,4463.187089055536,1383.5319570719507,9786.697901792442,536.8276920149228,3903.2669995506285,9214.124646485438,1849.9999536517198,3067.862442060989,4517.988865520619,2842.0600890758096,1571.8267304562205,2671.4896052870354],\"y\":[7011.976182208575,1274.2755983586574,2898.4973795258206,7855.269161222669,9481.272767087692,1009.6049602413204,8004.51600261359,9282.55563000011,9727.104602986994,6586.355953371415,5961.451518165814,6711.549680834662,7199.814110773473,5545.294274728462,8466.952946369109,1198.9053818968798,4991.977919419825,4459.953055123208,9991.387207801565,259.8547788865724,942.2872984166474,5156.883483909085,4123.404327939583,3178.753598382401,9616.859567164442,9281.673079150409,1382.0750603523702,4728.413953017039,3702.2157848366132,4962.25463245653]}]},{\"name\":\"series 21 (F21)\",\"data\":[{\"name\":\"series 21 (F21)\",\"type\":\"scatter\",\"mode\":\"markers\",\"x\":[6312.063975681498,8183.533384709247,4174.247469560835,1479.2382448168917,3289.637393600271,2702.995546775541,3500.067383847445,6573.692540829117,1141.1241000670336,5907.757866971641,5084.720693881012,6306.0193368363,6411.787676451246,9795.502441023698,5192.307864400614,9225.250778163412,3921.8827006431243,7010.178973725388,651.1527504588943,5016.316307091571,1108.0096874691635,4924.018176617463,6795.22463428999,2763.5230460900007,9571.699239249383,6991.550333386064,5299.100221516862,5501.695741356763,3243.493054933062,4399.616474613573],\"y\":[831.334134244901,5822.12922373804,7619.61243515128,6164.310401519114,8781.179765094701,1958.704145568655,8639.635327410359,2515.2461144152594,3706.1833242344824,5000.229086738101,2947.430200696034,4659.496157935559,9603.249854995132,5658.26188744543,3513.9240393469186,3832.001379385751,8623.361492512287,3365.378836448236,5899.107584804359,3916.201476050233,4430.203224100098,1387.0572696406168,792.012273427839,4858.096363338041,45.53016152118228,9101.038609335425,7891.221029271961,8598.891920026548,7729.189128686829,6631.24862496758]}]},{\"name\":\"series 22 (F22)\",\"data\":[{\"name\":\"series 22 (F22)\",\"type\":\"scatter\",\"mode\":\"markers\",\"x\":[4674.7972354021385,5315.84805751727,209.2873956933161,7619.047220324381,1157.3560717926766,5387.88761347311,8408.07251868494,3072.789067005385,8343.317652805237,1691.9882251177332,701.6771909916031,2957.3755137955527,3759.217769252605,7588.328542919405,2706.9461767655234,2468.6851393825814,2184.2803328362616,8266.609504491478,4606.157196489477,6783.4689881088725,3497.2759833181035,7002.933120271993,5100.507605069295,1483.5034755090937,2419.0296791672904,3316.064481491815,7225.836565422438,5823.495612189205,6853.761283872149,7013.8644419842585],\"y\":[1469.1108365060622,2545.436488535352,2518.7717695402935,685.1266738815898,5891.796813479122,1037.8076374049283,1600.8214516535525,3319.0129084727614,1296.3091962635165,296.23978769850567,2288.865527330154,9423.72523920958,1864.3085993525133,4362.93369580464,4206.650535857413,1268.0135903209577,8150.699711998268,5705.354799526507,2004.993855528272,6683.569427136439,9834.756038720307,1340.4099134375936,5672.404992905482,1243.3045461117576,209.8803554697415,2418.5286195076005,1484.0280858889532,1569.972873979999,3036.081690192478,452.7649142125401]}]},{\"name\":\"series 23 (F23)\",\"data\":[{\"name\":\"series 23 (F23)\",\"type\":\"scatter\",\"mode\":\"markers\",\"x\":[1932.71908566222,6031.543956889016,5084.3356569672105,2411.242412027651,6472.396003989903,144.18891758397834,4469.564792970545,2486.971391828321,7452.629375439462,6630.694293746206,5699.060906715154,517.2629918860716,7234.768218559343,4271.572916238578,7255.744628157859,5745.675623457989,3153.7251799312394,5438.089520897221,6490.73772789235,9902.628085628894,6725.873508350083,9510.881632169912,9617.302105006067,5426.516783155942,2302.3334138113537,8264.79511534946,1678.2747372228034,3055.3795334807223,8228.257840407277,9740.023055623571],\"y\":[2501.71181656612,7989.850930442727,492.55267347850906,9121.575042889024,9864.524364140365,5361.355153631531,4838.796426411487,8713.568145669535,351.4771444883025,3835.190116426681,8356.949527535737,4221.7771851316975,1726.9890229444995,836.3533061426353,5686.77582062376,1247.3383852944175,8029.761029968708,4106.670365329992,8137.72554149544,4146.451729878563,55.32942258262396,2084.982293838099,6266.3526693995445,9225.38189350696,9409.224022011153,9947.859793342192,7751.174480301888,5617.0109647919035,3893.4864948428803,9056.505433696258]}]},{\"name\":\"series 24 (F24)\",\"data\":[{\"name\":\"series 24 (F24)\",\"type\":\"scatter\",\"mode\":\"markers\",\"x\":[2766.2070843735996,124.6471491453205,5631.883784623877,5026.219803104805,8478.233970331554,6820.748041368263,1044.2302471334651,3667.9974378804936,2779.201198090467,8252.672508035963,3547.80700356777,4647.534117523069,4913.952331061841,2734.522925706916,5693.948883277498,9865.121820336864,7274.852902061407,1393.5987055475275,7340.447054711606,7280.613301296183,8308.67463455115,9391.930495347398,415.4884437615036,1190.8429564409596,1217.441510004249,8057.820067497881,8846.43979022134,6812.591694530404,6933.769373473106,8539.263096493683],\"y\":[4306.856085349093,432.3857153712196,2712.5548247064526,3030.5857192770604,4577.669240017025,6355.127908599332,9604.700764423362,6625.578274067722,1523.6026904217326,8416.754430045972,3064.8915945529766,1414.8631633830466,9953.417298357936,6921.820816726677,994.2627773295865,4572.186596613116,6962.692636045975,1525.1228577027198,2630.13084981603,3863.7773778782334,3750.407628367539,6797.153158031351,9868.78774079266,7266.87006497425,8355.675444553564,9996.411291799448,9843.681434196043,8197.938178492534,8278.558822934365,9917.276103120481]}]},{\"name\":\"series 25 (F25)\",\"data\":[{\"name\":\"series 25 (F25)\",\"type\":\"scatter\",\"mode\":\"markers\",\"x\":[3880.1403242774877,4228.14550523101,6528.972435545998,1590.3577844507445,3309.1237432515672,5102.965942142969,3290.257576341069,4082.9492096501695,7046.309523464016,5384.883211296974,8089.090046371933,7680.400906677216,9329.15676169004,8102.532234391796,4130.96459537776,2324.9427829460956,8553.413696507807,8416.595461178631,7290.571823401919,1346.6837623957606,9761.862038628084,502.2244700375023,7138.966611995063,3242.221167923114,4011.926881678215,6599.705991867401,6344.50231577077,9539.49318165634,7585.097469275859,4499.548094622703],\"y\":[7802.085214596279,8633.216446087534,2799.943604791875,8605.113343228437,5925.376438533991,3883.445373674743,51.833788752833065,155.37936486100133,9679.15816970405,9240.503687786446,7626.2900343805295,4192.361316526379,134.14329007761629,7192.730549556635,1819.2459759372525,4422.181396202947,4594.10179043254,1929.1949075858017,4946.298022458648,2245.7274462952737,2675.241492500766,5267.732042093355,2934.3721005276325,2924.2932027819124,7110.370098006354,4119.358775122279,7363.052347521465,97.54384877993294,3505.4349653044824,6043.327142612522]}]},{\"name\":\"series 26 (F26)\",\"data\":[{\"name\":\"series 26 (F26)\",\"type\":\"scatter\",\"mode\":\"markers\",\"x\":[9059.15099165468,9685.610134907063,8793.621195402335,3792.7822607351636,1646.9225567382696,5584.061122138498,7712.26314636809,659.1865978742195,3817.65446497165,2499.960894490092,270.404438687093,5894.385813077433,8506.196951034757,5779.169438116083,879.9185193543535,3522.3834887687135,5648.321537753809,4139.4987140090225,1590.681134806411,8448.604299204571,2741.6231809893266,8851.288170931524,7700.362853821489,932.6237399406779,4044.013125649828,2096.418659424082,3901.989892707759,4211.045080822884,4917.676349998395,7988.7367874767815],\"y\":[3087.495538723938,340.4117388107253,2562.6939800635328,2053.311117562572,7943.070027104316,6175.739107980323,8183.361402315598,8838.90065425101,7552.185341074143,4808.462642566955,8491.55894419853,2777.465440044479,7364.7568984765885,7758.29245507387,6375.363912391608,4406.5017284140295,1095.9803860575546,9746.674181045046,1547.4125964241025,2634.4389451663696,7385.957596730968,975.2569371713294,2036.3628331477812,3856.2899490495784,2381.3064237744065,1490.9715457263917,6496.117496349737,416.19638362440094,1792.5253969655275,8440.026709980928]}]},{\"name\":\"series 27 (F27)\",\"data\":[{\"name\":\"series 27 (F27)\",\"type\":\"scatter\",\"mode\":\"markers\",\"x\":[5481.317158941991,4165.464327447593,2435.966614278563,9796.334372976697,7073.921219853807,5679.141849522339,3786.8393831056214,7495.575840682062,8544.537006121815,6071.1393289785165,4649.756695883093,8814.32485067835,1093.4768769130999,6287.348019027992,8695.905358179589,7304.350681990584,9140.355760789209,8258.16740801398,5321.0051176183515,3625.4202194319487,9117.367969030951,3356.2992592001283,9045.792111095177,2215.6265977480903,5270.210890945404,6232.6297866940085,1510.8547575270736,1896.4727952996207,1581.9499704307361,6292.459226296313],\"y\":[5010.208653368297,7230.643691972488,9608.950296157569,4826.30939373314,5463.094243060321,2733.5998166900345,1754.3232896085437,3123.976143322512,5741.0438717395555,3885.8329523044767,8303.17350554953,5777.457979559789,7347.354824706539,7300.8236346545245,4405.247089685379,3817.8401759309686,9588.673986612748,7374.446491211681,114.42303263614728,4333.168269243212,583.483724843994,8274.769839106468,2580.808996681725,6778.799614422076,3719.854270361741,8226.902476321275,4540.034676263001,1318.6671183101118,6504.90626216435,7705.7379542746585]}]},{\"name\":\"series 28 (F28)\",\"data\":[{\"name\":\"series 28 (F28)\",\"type\":\"scatter\",\"mode\":\"markers\",\"x\":[7355.661887788362,1225.3569119735198,6141.0054073289475,4370.15925280665,44.4633427696961,9618.838223225255,7618.790132349271,5355.456840756972,7950.640628087906,638.1489771723881,5634.708937905057,1886.430515797697,6033.8944452371425,6517.289681085909,1220.824815900039,2081.8365317586386,2097.5709163764277,4976.028375130994,7617.221795984185,5291.552235944136,4706.95350612938,5838.278452077309,7622.425395982761,5341.030205503345,9034.08303403382,1855.1588504646288,6424.82564878283,653.3172939207865,1414.327222939986,6336.80277240805],\"y\":[9748.177855008476,6377.118542942134,11.243477156126502,9386.43355626752,7036.819781718068,7370.087558428765,4660.108250624609,5282.176433917779,3361.336250397822,1169.7280120799269,3696.816148311437,5866.533351172928,1742.9734608508018,6929.996457755032,9377.676289877378,8680.396946651515,9675.181462174796,9709.895700573681,6356.965864615108,4017.933474127865,9763.248229223062,9471.055430228786,9612.926617445672,2080.6205320175386,4608.0595869372755,674.4957396948992,9199.216380026586,9973.174096323206,327.6033128803035,1462.476335061652]}]},{\"name\":\"series 29 (F29)\",\"data\":[{\"name\":\"series 29 (F29)\",\"type\":\"scatter\",\"mode\":\"markers\",\"x\":[9247.66170227905,8411.05588831733,1439.9088512849578,1069.535098433081,7759.477243185504,9698.705220578051,2223.696455552895,327.52149527662147,1895.955181061656,1789.5885586774618,6128.08648823567,2912.6368455709185,715.9481869164408,8053.61971398557,5320.292985258675,4328.194571799772,3606.3015272438947,8754.450301863473,7040.313315901605,1525.0172428974906,8012.7179784232485,8178.587253799186,2074.1944632253117,8532.08669713457,4502.365679011755,860.2453705114488,3362.540979951332,2503.275884977342,675.8678419126207,1410.298725535376],\"y\":[9528.50232609757,181.68443667599732,7995.143501617929,5084.642956356756,8939.562355843935,6941.3053231475205,7204.891092755606,416.7386961493302,4810.024668078518,9286.460786112733,8699.34399675185,991.0555301052204,806.1707429134046,6972.635738375968,3922.2431927460475,748.5937876262238,9633.64298958012,2758.0531652713557,2686.8115104475833,6092.606896602424,4166.684993528354,6203.527880681673,9163.835430186595,8502.11092305985,1821.4478785961342,2908.8471581592003,6209.79162514352,3362.7085753592823,8080.650456236125,2107.124102802913]}]},{\"name\":\"series 30 (F30)\",\"data\":[{\"name\":\"series 30 (F30)\",\"type\":\"scatter\",\"mode\":\"markers\",\"x\":[3693.2809954374356,4288.71990157808,4344.4590357624065,3634.274504414051,1526.8632342237609,7337.555852175986,8612.530417424767,9948.972568459172,2222.7116475473695,6206.729878344362,4894.740322951027,99.14059014437981,964.3398141028503,7755.853692766408,8703.197398871303,314.23543146850807,3422.9706878643597,7010.414131488935,1495.7217445905878,248.29210403669478,2845.9600825037987,2181.0876639211506,6521.041007366541,4806.894203420822,8306.001255809017,3171.794107809235,2158.544182459583,8961.937797033723,5423.675900868426,1551.6507236635923],\"y\":[6550.499980151274,6991.264521779117,9362.238121399772,6030.437501622252,9092.234695325893,8175.935917186434,7442.350829521615,5104.139461315178,175.83594191804553,8146.133461603396,5335.81714683581,7726.581433114095,475.52976880129495,8787.3596933617,6471.183526522035,3615.131319476581,5017.957485688756,9901.831528263463,9020.413944487744,7112.891084726963,5298.153954254919,2665.651980716982,8634.666493094464,2406.7560063119354,4782.108740561031,8330.550164655304,7958.527170200868,3340.171939980364,9279.371058637194,5589.68677461738]}]},{\"name\":\"series 31 (F31)\",\"data\":[{\"name\":\"series 31 (F31)\",\"type\":\"scatter\",\"mode\":\"markers\",\"x\":[5875.893089977595,8061.373449706633,3874.234689418138,6560.221306129879,427.01283836031445,7312.342034459069,2371.618080772984,4431.042670936129,9385.028170459826,5290.670384098811,3543.8362820082525,5482.266612899321,1591.6903875351752,3705.9805007194636,857.0330210052057,4403.807246012571,325.7471333040685,2904.4882940840334,8811.126488900794,4623.533434670017,7213.825318529016,8749.764404782252,9544.693092741145,4701.221681039667,1492.4679055482327,324.6962212036153,7936.301012277878,7752.725658808222,4791.305780892549,1459.1036739580832],\"y\":[2076.3715570562813,3339.477377091855,6031.175517481771,8589.418848336114,8688.736363690527,291.64612425864544,4517.3235176613525,8521.291552597817,9848.628442309191,4528.980516582075,1856.6614701049755,2292.9344856895095,8173.92567197642,8101.5601681319795,4939.372446555076,5526.477926822477,2559.046424660356,4393.393262620705,2898.9856785042834,1406.5531492962002,5475.967837195271,9714.992442327624,701.3774480693779,9739.781092179437,5884.425268803286,3356.766732501387,811.9737292128848,4425.790622607025,8873.420021249556,6583.274390217231]}]},{\"name\":\"series 32 (F32)\",\"data\":[{\"name\":\"series 32 (F32)\",\"type\":\"scatter\",\"mode\":\"markers\",\"x\":[2251.764478028683,2109.8508932153027,4298.746179306634,6019.077044489676,3276.564313041481,6789.147127464505,1886.326781366714,8410.14729369213,9900.286139652913,8709.192028883728,9538.719089346632,1840.4765194014449,7531.816218687217,1013.8058244992842,4912.239636906646,3141.739845222181,7106.415397328214,4301.565146644398,7724.72595086209,2454.574390885045,266.39071718109864,7493.56237693316,1709.0371719209875,3683.2297000832937,382.1180653619527,3231.7745936772135,644.9720843358009,3931.0575412722037,7503.317902918081,7404.298935187524],\"y\":[2482.3595384337527,5912.501779419245,5691.818020510698,5333.155009144087,9210.657236624293,4807.964648336199,610.8642369404172,1662.3147448560971,7835.470219584681,5061.115983044706,3732.36763420662,7048.073300020381,9589.98056570813,3213.9262714790484,7072.308293596561,2380.8238297143357,339.35705495973247,32.89834925380042,8975.83506359103,456.7539375974705,5028.790679244061,8900.683592133983,7147.442924821662,5769.936944213402,2980.884120651324,7730.464818768244,9857.921865855978,5409.741658486877,8865.693381169296,8506.196921294666]}]},{\"name\":\"series 33 (F33)\",\"data\":[{\"name\":\"series 33 (F33)\",\"type\":\"scatter\",\"mode\":\"markers\",\"x\":[58.61210976066733,7925.435490416249,6246.809223087623,1959.9936517461247,9994.822351485205,2459.316436267377,6749.431158965663,4868.658849625774,5834.095861102684,7451.652433155338,8101.477332574766,3984.5564745492447,2811.33940749408,6785.168921646888,8566.343564061002,3711.7224825141325,1441.658086864317,1363.7721552004834,3616.0031509693804,4296.321695510113,4463.065151521759,5809.652334867625,3085.725274690404,3521.2576238583083,2345.0663831481243,3214.8621255479648,3506.755449105289,7677.943023111325,2435.444202613253,5697.921168894674],\"y\":[830.8912172120575,6933.948852728684,3116.398880131298,4892.94750305555,3340.956740920784,6123.443920091961,9702.526811957547,4438.271718541046,3183.7617354042036,4458.046494050797,3236.9494264907007,6033.443709202918,7667.2078751723175,6688.912440527316,6828.229415902038,1697.9929314241615,8230.781430568919,3846.582266775589,6719.544073850996,7492.2565275802235,5828.753719384202,3843.318400983664,6892.909630992038,8150.044756575222,6357.983693393716,943.3650065318866,6685.080518991034,7824.863944320405,8717.299442414356,8389.764129044694]}]},{\"name\":\"series 34 (F34)\",\"data\":[{\"name\":\"series 34 (F34)\",\"type\":\"scatter\",\"mode\":\"markers\",\"x\":[628.074519954256,9465.872412090637,1103.0120917051222,322.0666816028572,8526.105030017157,4216.693384897329,8225.191111594093,7527.482602956507,1642.0280307859737,2669.672183024981,3271.91368980324,6538.710299425638,7790.237098628261,1810.1026755466899,3653.7736125948772,3124.89668437938,4119.275767316568,5049.418735536626,8828.515090982442,9317.876404461009,1416.2544820361434,7873.282631562678,1835.7374473116718,7774.047521046138,7876.495452094645,8319.969036944867,3564.1920320962595,8492.935070766525,3455.6535705317447,9756.389228198346],\"y\":[229.26764143319622,696.7100681462802,8157.888334241054,3233.552495180635,55.85054883477936,7020.6203136374115,8912.494689522766,8080.221244765903,4741.806093471336,8072.504624799562,52.722361812628236,2332.9617367373958,4919.925399672011,2890.257623444722,1834.3467504926236,9102.752306240336,6541.241714507087,4859.318087607245,9917.880657683383,1042.7572873887968,6870.213543634126,3247.957150192532,6287.142275316557,2708.8347775845214,4612.339019873034,7676.346425347918,8688.227087063491,9793.795284867438,8587.351414584069,6556.084955557183]}]},{\"name\":\"series 35 (F35)\",\"data\":[{\"name\":\"series 35 (F35)\",\"type\":\"scatter\",\"mode\":\"markers\",\"x\":[1346.756090797736,4968.381678384417,3316.218851477488,820.0739394512568,4457.601934122124,2376.395287567453,7907.752222551512,1108.325680494232,3740.1220706204654,6708.345786646019,6710.703456612205,9983.497312543752,4213.259699351905,8217.455743843328,6339.8120993094535,720.6477785774146,4268.694888589831,2043.8023228600944,3889.3383353501176,748.9100842055551,7106.562109646873,8776.834558496683,5415.199605092927,918.4854827191402,6647.0765992787055,3313.453563622516,2096.902411822742,1424.5592070169855,4142.738278225879,758.3029915757111],\"y\":[3883.041809503641,1440.4482829078024,9889.6141903876,1364.8617014103936,6879.221549186904,2295.487161365475,1672.5242868094547,1330.3889104686561,1254.8172166650706,3378.8714120591635,7877.785017211857,2634.727927272812,1025.095249936897,5858.868525376658,8568.49643686207,3052.418002945081,5707.768524154444,1777.5205763086976,2241.179914306153,6969.527852832459,6558.150443784656,5114.159172306174,9468.908579662668,8701.07053674822,6854.651371734777,7006.760180011207,7184.897094944686,2631.8144683286214,6536.433769385948,9478.365278122345]}]},{\"name\":\"series 36 (F36)\",\"data\":[{\"name\":\"series 36 (F36)\",\"type\":\"scatter\",\"mode\":\"markers\",\"x\":[8971.84576035862,8692.76026173542,6387.624693338619,736.5032736636057,7396.161476344437,7437.503148940379,5917.557667745497,396.7480019363012,4162.510471724664,6297.154306768636,2104.10233009956,4827.248675221067,2662.9779963957058,7469.45206678885,3247.2078937829574,1219.2754178523069,5356.448015834932,8337.139847788147,3322.373380528282,3959.5246106095274,5337.634677454377,7312.646783910261,7428.830520607424,8413.132569005811,7441.530175096036,1570.5563247656607,8194.805804728618,5322.045888526661,9277.86646163174,8256.304991301897],\"y\":[6332.3055214418,3681.6057672161596,6701.5024242506115,7449.000995626682,5926.4457506393965,1178.9006025730675,1398.4937104911621,3408.2127770359193,6499.425525285339,9059.649550329914,503.91500238641805,449.02295405389145,9406.825703587208,2636.077324613482,9466.345126988736,1166.604290723775,5703.984819598902,9556.451154082983,9735.243151066157,7671.017795103906,6262.791021409453,5427.645280636868,2271.2802591658956,994.8984970061703,2624.2984626999655,415.3063494813725,6366.0139318867,9901.13351069502,8840.161905240515,1041.9007826952165]}]},{\"name\":\"series 37 (F37)\",\"data\":[{\"name\":\"series 37 (F37)\",\"type\":\"scatter\",\"mode\":\"markers\",\"x\":[806.1233550878933,7944.604214799087,385.9582927854599,8561.11397744233,1028.750517518321,6831.503598694424,6122.0392506333355,9007.792333684074,1588.3206737980881,4871.707060464994,3232.6429395546465,305.8080235847216,7991.54503653913,1634.1155089708825,3091.5683743711984,8661.935666887874,5756.13309628773,3791.8503112036083,8082.789891948815,9882.035533485865,7410.075261957852,2583.631676740055,5546.975543647088,1216.5324036518011,72.17889796602428,319.62159319781745,5229.945461381308,5875.393921381446,7240.875255164651,1924.4713410742754],\"y\":[876.6842249138862,5448.504708690347,8467.136216950172,7637.2597204891035,4944.604344759147,5125.5415605612125,9698.673839592873,4677.469132305277,7802.329480855668,2830.1588068304172,5256.420154165979,8938.091726472932,9235.349932803996,6166.490812594465,9640.613027488123,2581.419296743892,597.4784013588009,421.687878053999,3662.645157165807,9790.01433948264,527.1096756769389,6776.399842329688,4760.157517352735,864.8229580555721,5789.873283299586,2345.8293553066424,5776.6874001370625,4364.332999090319,1514.336725920611,2707.1740894358577]}]},{\"name\":\"series 38 (F38)\",\"data\":[{\"name\":\"series 38 (F38)\",\"type\":\"scatter\",\"mode\":\"markers\",\"x\":[9973.51207932788,8043.144974035738,1855.0050724981393,3164.9882595238278,2590.155949362829,1975.2666296229727,2946.93105313608,7164.18830450593,881.3526561690777,1436.898905710915,4908.835347277139,8981.13779654537,5232.090630357498,2875.4383455739885,8606.712666018331,3106.4448633674447,3688.690157745749,3605.8668810270765,5907.473537411289,4578.811905108006,1042.6933742822598,4752.656803635315,9232.25797549936,2937.47815003364,1465.6747883773812,7394.772646533735,7361.6259442726005,7431.500161022408,616.909246229742,3873.3039801878576],\"y\":[9649.91454232596,2657.3184122600646,9132.157277233666,9785.71391877294,73.62839685792876,1891.759205184168,4450.668924871689,7317.644594294119,5868.803827210879,45.82838191291572,2048.814925617034,7252.67329735721,2904.8730745335993,9385.35192008883,322.6047382396269,5252.363939828061,1397.6256222625227,8947.724350480587,5597.659511907194,7813.414521997803,1081.4445349332102,2929.7284479947216,5044.051652603357,4685.65180547781,4541.077879651183,4229.59298027789,5634.737277666064,7474.0798336944845,1045.7746582795835,6797.158561770137]}]},{\"name\":\"series 39 (F39)\",\"data\":[{\"name\":\"series 39 (F39)\",\"type\":\"scatter\",\"mode\":\"markers\",\"x\":[6710.148820990153,8650.140959889752,933.7022634557179,4479.2203845517915,2197.832745770498,1261.8000652255857,2362.132664154043,4642.832387295027,6084.850480606246,7259.0172101373455,8068.969364166089,2017.5403611956356,1351.990840902133,1540.6292723417591,9683.758943408508,1918.2374238318578,8252.661731197686,9580.607797149689,1081.4156154191835,2293.51868580965,2555.669435790792,8806.11903257516,289.45819069133296,890.1277436486644,8169.90999526895,7776.76610485863,1539.645032879512,7232.285191692157,1430.332844733031,2653.8390821668145],\"y\":[5197.4616978694585,9085.394881930924,6248.364339435063,7450.3614583562285,3508.005505162174,9606.82346444769,316.30069746228173,3117.1653039825765,4364.373772277189,4482.15637277106,2604.0180026798075,647.1890820949222,3634.7581956335484,8003.533827604151,1497.6650245721469,5069.639129217232,8977.012512603165,3267.3718148012344,1103.8417659416223,457.61040903251615,4524.544644086489,4451.9817566052125,479.0860387615681,887.2173541003914,6344.96102393294,8481.299367520198,6843.32611650295,8663.236949109203,3152.9710957009393,9289.140915564954]}]},{\"name\":\"series 40 (F40)\",\"data\":[{\"name\":\"series 40 (F40)\",\"type\":\"scatter\",\"mode\":\"markers\",\"x\":[9197.281156736995,9065.719489141777,5401.635206939427,369.1057656295049,3187.6203631453013,373.9733468825657,8581.117850036428,328.44794603998474,1550.019310662185,8988.790673554058,3321.688747592746,1759.9429759473028,7009.08330278451,2100.7250135981503,5727.7889106364,5903.9787237466035,6125.430102101735,4541.687942943096,6262.560324794685,4293.802125523372,3254.057394344557,2209.09140244538,4457.312484705672,3860.058369600945,3514.446180342532,1766.2037850844304,9737.98090559447,3816.4586450875095,2471.6799229973585,5199.350982828673],\"y\":[5740.706793877112,1056.6200209218491,8089.1866844056585,8252.041849927446,6631.250392221986,5762.820970088488,7437.541545904946,3758.0523513867925,9148.021820034619,460.6207003666618,6630.093648627806,4459.953756757025,3356.098137833905,3848.993986740826,7505.006969190164,5026.526550792806,8429.670180609814,5393.832194166186,8684.639716443415,9671.951790148316,7172.937861807537,7893.373216121112,1817.00837078971,31.627657992906457,4444.560514034325,3007.314159641865,6040.411984194983,7763.908439301246,168.33200301850647,9087.076378876964]}]},{\"name\":\"series 41 (F41)\",\"data\":[{\"name\":\"series 41 (F41)\",\"type\":\"scatter\",\"mode\":\"markers\",\"x\":[5011.125648363387,7724.020065677742,7192.845005143189,1552.8847658682232,1195.3902450969945,495.8574978845132,7905.474477315159,3534.0319843748393,1550.7655225237372,7569.321232278025,1211.0930156008938,8521.902569468773,7208.230192127938,8515.307008423491,3253.5100813754516,7381.03032025109,7315.250668833455,7137.411991284571,1087.7043117907315,9221.66829839166,3811.362026866254,2768.8767567050186,8403.494368258605,9358.055219593778,9581.633367526365,3635.2314653290164,6356.374376779698,7859.761810275188,7169.722409119483,1517.5754431108558],\"y\":[578.8164836682264,9049.205483492497,9031.045514951618,828.3626408550493,7525.423585165986,5706.62714508046,3167.9250534618186,651.0261385335003,9447.889011756608,1714.5203873760406,9912.395983924007,5296.726170357072,7500.803248961993,3406.716244735467,6608.688876104828,7495.955226291916,6746.9221785862655,2983.019564485466,6996.2305297413195,8469.693151881898,5160.590834860534,7008.504333973683,1205.332201966204,814.2557473808621,1120.5944341996922,9237.272961501061,451.5647075109908,3385.9285668117145,338.78758455457955,9783.69088787277]}]},{\"name\":\"series 42 (F42)\",\"data\":[{\"name\":\"series 42 (F42)\",\"type\":\"scatter\",\"mode\":\"markers\",\"x\":[7751.1472414955215,2185.9408720120286,3688.4289383037562,2009.8106381301607,2278.502836878612,7623.278882338763,1976.228677789853,4405.897615654509,348.46699790637035,6472.294167949714,2344.692217350649,7211.685646982717,429.45578948051957,6344.016915260257,3696.4229696166985,2559.1746295367625,3080.237398763518,1554.534847290845,5299.625784620524,2513.5046084189416,9251.769964660783,1900.754110742734,3564.1287907360797,1546.6304750295224,2006.9055459757624,43.30771693012103,6869.8215521638895,8699.23273469081,7384.579409210954,8948.336238410795],\"y\":[7284.483810981579,9969.495477832277,9871.43963485797,8154.3107244478815,1025.558010190799,3313.0944000668783,6742.694862283187,6507.030796764263,6600.498509570299,7046.932966137707,3395.289424656178,9445.372134341433,702.904202968796,7419.873403558984,8720.340712659647,922.3229478426009,7146.725515217504,2646.9093881208473,5548.103332739911,3610.2914929361373,3388.4084023108385,8798.930966202233,6247.553426011373,6166.628794681254,2516.920543729777,7598.437212866471,7674.011705407838,3024.755150298325,5984.1820094880595,7392.251197442293]}]},{\"name\":\"series 43 (F43)\",\"data\":[{\"name\":\"series 43 (F43)\",\"type\":\"scatter\",\"mode\":\"markers\",\"x\":[2832.054291974664,428.24140786843043,3803.501161201246,6355.5014109964195,8857.290027830939,2239.639528910835,4461.190892782807,1326.8276767388577,2219.4059508588416,432.81938232248905,6366.62483737472,6582.984073801877,2410.21572389863,8117.013876008721,6308.567746254855,4331.703194619267,4804.271137748896,7442.733256092615,8090.689313542635,2734.898190659757,1865.927763637859,804.1582970391393,6286.757155395591,7869.976224785354,9425.579005997528,1379.5799448320033,5886.0741418464395,3195.243280893023,1359.1060817318812,8240.902623161073],\"y\":[8492.306880737277,3806.083414792677,1678.417542375933,2015.1791081359095,9693.93454148216,3051.7953154644306,7777.278460186812,9395.607945219179,242.11562948186273,5928.676211759368,2375.461086662293,8676.363166015695,5751.8586055611695,7073.144891262228,4565.572251201687,3925.094057427422,5784.9529868848285,1149.3974088509074,2290.746625059954,2408.8734660909618,3378.201015790645,9959.293783687312,9567.718071749485,8453.83278055165,348.0620009759483,3697.8765485618615,1818.6112229855432,7045.676480439213,2032.9073534607767,3436.1243618409944]}]},{\"name\":\"series 44 (F44)\",\"data\":[{\"name\":\"series 44 (F44)\",\"type\":\"scatter\",\"mode\":\"markers\",\"x\":[1786.1244105467777,2167.7140586112596,7526.655845521514,8133.250639093198,6680.603149031867,8125.010521028419,7912.638364107136,2264.05266257517,4443.828416274301,6917.701297116223,5524.124344722143,9492.529045340401,3313.1786831168565,1103.476033108063,1838.0099779687775,3731.1798312214296,4231.142180255159,9528.686338632502,250.76021992876173,1396.108489250333,68.99872524530282,2809.4842023149326,2690.7595611975744,7701.251458662217,9119.801943121302,6508.857488954081,5788.818234167704,5430.756052486616,2864.635484261122,2582.3719429802995],\"y\":[3158.6504001432804,6786.7409381708885,9627.435440855681,3854.892107261759,5231.7200004839415,7630.369021887903,6407.502841476254,2042.5003130746954,7045.931077651677,8717.365999154737,915.1592155832855,7148.287546075895,7405.216661317896,374.8273099904276,4634.82327625713,4937.64598789886,9907.154516637156,5474.352231547867,5601.11805176038,9638.141283831066,7478.322279430669,527.247812639865,6497.44323482128,1010.9996342074256,7262.177894721234,6260.757004818909,9672.778884675821,8505.695749513341,1971.8305201221676,7129.954126283897]}]},{\"name\":\"series 45 (F45)\",\"data\":[{\"name\":\"series 45 (F45)\",\"type\":\"scatter\",\"mode\":\"markers\",\"x\":[5721.309754819233,336.0826795190441,7150.14917377384,3878.1661797301535,6380.793651593753,2005.9554784384493,1172.2256026118073,4479.476723917561,5679.420450471646,7063.895796758893,6280.296903294704,6580.071875912482,5497.239632655444,2681.6953023612455,4458.802857041098,8900.891275325743,3007.0598943542914,4027.61201459758,1537.33403336069,9972.251963537134,7821.054508584405,4345.165052326346,6551.808896392307,41.81311632130536,6093.134426095008,2150.124569882719,1099.2874041874013,6030.456189387418,7313.475054841553,3022.810595037445],\"y\":[5189.415175160592,6.354733059354967,7080.418349569414,1099.7654672652302,1925.5672988153826,8805.714315699188,5746.292750466867,4558.317202695814,3241.3359126492624,6149.363297550657,8507.523772376948,139.50493692248656,2873.089694544757,8887.58079332216,7245.740958201353,4069.292171359078,766.9061643823383,5851.249516297261,8225.405782585309,614.9436576609779,5198.260905762795,1195.6250145773838,2614.8228563064404,4952.897232624912,5025.428560812454,4093.7174520985463,8721.217377193256,4026.413971270925,4702.640159514734,3169.4806987874526]}]},{\"name\":\"series 46 (F46)\",\"data\":[{\"name\":\"series 46 (F46)\",\"type\":\"scatter\",\"mode\":\"markers\",\"x\":[5816.895151203643,7635.743724883058,8946.603826266022,7156.7126159210375,9482.325315759159,2130.4968145149137,2280.0910630610306,2927.7687457670186,7503.31891201999,763.3626335622201,1068.8559069837188,8256.897318327954,3533.2985569304633,8016.273500349387,2123.235642126199,9466.204204523747,2967.98994845887,24.56269013264567,2453.3674917504045,3447.966032507662,1778.6845491408233,9601.618255197223,9347.020642483736,9465.1996808005,4411.562382761726,2305.9887137967917,8581.63295417649,8603.116389413743,1284.3818294603416,9494.849675294738],\"y\":[1287.2125302971083,7777.278289400516,9898.176421569988,5372.192119030135,6744.346213758377,799.98341615521,6130.4269585805205,7667.049467622964,9231.631852436756,1164.6104865831098,3887.503456912018,5766.527933572929,1929.4341955644768,9928.353457713489,1968.0016382161914,5880.364179754925,9841.937059199614,7356.982747571049,6724.922109827636,128.18659925047936,6717.0466056460755,8840.96934193238,7913.478560446603,5317.599103692629,8023.775230679421,4000.5157772184184,2972.6348440821657,7620.680041123323,3189.3185879782573,2867.7370438757234]}]},{\"name\":\"series 47 (F47)\",\"data\":[{\"name\":\"series 47 (F47)\",\"type\":\"scatter\",\"mode\":\"markers\",\"x\":[1912.31444298119,1358.419685496468,5503.108393604015,4567.43999536269,964.5409241509295,3667.0878186533087,7362.714074303707,2013.6504013880174,8205.6051490877,1947.472233483979,1866.528325033735,797.2454633691762,8467.676909548021,7687.377703486353,9150.766467190382,1660.7430203655715,8032.112910790108,8499.734860958062,7323.374862730595,3739.514514932233,1833.035020756495,33.11670483327478,3365.0267773559017,94.37982375416043,7198.582714742405,788.4141070261207,8947.466818796296,7968.752544007844,8518.576901827293,5814.880107021142],\"y\":[9762.03101269223,3674.205354901976,6651.152579473427,9760.695712778657,4656.261484964184,6041.5279696567695,5367.249613131157,5817.674316679123,2644.1028260021835,2970.0534661742226,4680.680520355892,4726.666262987415,1685.2507085561385,2766.233179888409,7522.82026174377,7199.683840846097,3021.799270073607,5683.1390052310335,1894.7904723032193,3866.7157352136073,8815.411539146271,1355.7830622200117,5366.340647802528,9169.657522911752,8845.817380736315,4672.8387375782595,2589.4569118092336,9502.733419655327,4111.519648459832,6033.557484117533]}]},{\"name\":\"series 48 (F48)\",\"data\":[{\"name\":\"series 48 (F48)\",\"type\":\"scatter\",\"mode\":\"markers\",\"x\":[9356.053491437815,1338.242942068112,1316.1681699289086,1909.3750397412512,8652.937377374308,2078.411200432403,2429.1392767182406,8162.904107515357,5153.554524343599,4938.5859658283935,7776.43597293801,1672.7165307111159,4634.866147927911,9293.965097015911,9448.10349589413,5470.515127644382,3919.020594979906,9611.50294567979,4200.932041516991,8818.007313368462,5113.321780063984,9340.587938913464,1490.2954883492503,6433.986050221201,5158.319636093937,950.5426199328992,2782.556825273861,427.83504472635127,7992.680050065615,9679.947723102006],\"y\":[2879.5439607668404,4403.872704931087,2004.811227942055,6502.246927467949,2629.1822917269938,1671.6546475981197,9865.0662681341,5314.039982465072,5101.445999554587,8530.558558065255,1318.6524883123018,416.9256357721329,4076.3679078544947,9192.676317909838,2068.2196283859466,2990.7111734178384,4520.928624984584,1066.2424872747977,3486.4222695606595,9445.254508508875,9624.220813972017,7842.53233058309,8572.57782508589,290.16208152915834,7915.362424752215,3112.362434063044,9303.873699894892,5476.013629646865,7006.215675409962,9084.03494899236]}]},{\"name\":\"series 49 (F49)\",\"data\":[{\"name\":\"series 49 (F49)\",\"type\":\"scatter\",\"mode\":\"markers\",\"x\":[9330.401974754224,1037.7460926555605,7581.039045761041,3382.7651714845542,3824.630805834016,2310.272852674853,2397.7840722726573,1882.337184207844,5219.74731790172,988.3736380763763,270.8254032749602,7052.936783108633,9557.638284501792,6867.34300358683,4272.48660307042,9404.80997562671,3216.096685292378,227.83490443014753,6720.808695924694,4265.604165221362,3896.18053521126,7517.799880669373,913.581511314846,7349.946421616512,2924.4660022834055,1236.3556187143788,1023.7400938208951,363.0213287601824,8161.278348446483,4738.89781713062],\"y\":[7088.80055217663,2225.608792442183,8104.797698555566,4059.694795399111,1607.0961801499118,2416.2529736234105,8142.280330274024,1787.6814142245955,7896.145386755586,396.92679343189764,9323.450775242636,2533.1003735034865,8073.564448882574,9121.768292284833,8517.457385784486,5587.112285416178,288.51738173060085,1224.163481205517,6363.604812383465,8003.433046296072,661.7694802804608,3635.6550166641723,6037.4150299166395,520.518897699741,5284.992984352051,110.85797147315945,1527.3837629789223,9494.772050799767,1585.0501946493146,1415.7698689332399]}]}]\n",
       "var labels_59rI81QUFx = [\"series 0 (F0)\",\"series 1 (F1)\",\"series 2 (F2)\",\"series 3 (F3)\",\"series 4 (F4)\",\"series 5 (F5)\",\"series 6 (F6)\",\"series 7 (F7)\",\"series 8 (F8)\",\"series 9 (F9)\",\"series 10 (F10)\",\"series 11 (F11)\",\"series 12 (F12)\",\"series 13 (F13)\",\"series 14 (F14)\",\"series 15 (F15)\",\"series 16 (F16)\",\"series 17 (F17)\",\"series 18 (F18)\",\"series 19 (F19)\",\"series 20 (F20)\",\"series 21 (F21)\",\"series 22 (F22)\",\"series 23 (F23)\",\"series 24 (F24)\",\"series 25 (F25)\",\"series 26 (F26)\",\"series 27 (F27)\",\"series 28 (F28)\",\"series 29 (F29)\",\"series 30 (F30)\",\"series 31 (F31)\",\"series 32 (F32)\",\"series 33 (F33)\",\"series 34 (F34)\",\"series 35 (F35)\",\"series 36 (F36)\",\"series 37 (F37)\",\"series 38 (F38)\",\"series 39 (F39)\",\"series 40 (F40)\",\"series 41 (F41)\",\"series 42 (F42)\",\"series 43 (F43)\",\"series 44 (F44)\",\"series 45 (F45)\",\"series 46 (F46)\",\"series 47 (F47)\",\"series 48 (F48)\",\"series 49 (F49)\"]\n",
       "var duration_59rI81QUFx = 100\n",
       "var config_59rI81QUFx = {\"responsive\":true,\"scrollZoom\":true,\"displaylogo\":false}\n",
       "\n",
       "var traces_59rI81QUFx = JSON.parse(JSON.stringify(frames_59rI81QUFx[0].data.map(x => x)))\n",
       "\n",
       "var animation_settings_59rI81QUFx = {\n",
       "    mode: \"immediate\",\n",
       "    direction: {},\n",
       "    fromcurrent: true,\n",
       "    frame: [\n",
       "      {duration: duration_59rI81QUFx},\n",
       "      {duration: duration_59rI81QUFx},\n",
       "      {redraw: true}\n",
       "    ],\n",
       "    transition: [\n",
       "      {duration: duration_59rI81QUFx, easing: 'cubic-in-out'},\n",
       "      {duration: duration_59rI81QUFx, easing: 'cubic-in-out'},\n",
       "    ],\n",
       "    ordering: \"layout first\"\n",
       "}\n",
       "\n",
       "var slider_59rI81QUFx = document.createElement(\"input\")\n",
       "var play_59rI81QUFx = document.getElementById(\"play_59rI81QUFx\")\n",
       "var pause_59rI81QUFx = document.getElementById(\"pause_59rI81QUFx\")\n",
       "slider_59rI81QUFx.id = \"slider_59rI81QUFx\"\n",
       "slider_59rI81QUFx.type = \"range\"\n",
       "slider_59rI81QUFx.min = 0\n",
       "slider_59rI81QUFx.max = frames_59rI81QUFx.length - 1\n",
       "slider_59rI81QUFx.value = 0\n",
       "document.getElementById(\"sliderContainer_59rI81QUFx\").appendChild(slider_59rI81QUFx);\n",
       "\n",
       "Plotly.newPlot(graph_59rI81QUFx, traces_59rI81QUFx, layout_59rI81QUFx, config_59rI81QUFx)\n",
       ".then(function () { Plotly.addFrames(graph_59rI81QUFx, frames_59rI81QUFx) })\n",
       "\n",
       "var trigger_59rI81QUFx = true\n",
       "var reset_count_59rI81QUFx = false\n",
       "\n",
       "play_59rI81QUFx.addEventListener('click', async function() {\n",
       "   trigger_59rI81QUFx = true\n",
       "   if (reset_count_59rI81QUFx) {\n",
       "      slider_59rI81QUFx.value = 0\n",
       "      reset_count_59rI81QUFx = false\n",
       "   }\n",
       "\n",
       "  const start_index = slider_59rI81QUFx.value == labels_59rI81QUFx.length - 1 ? 0 : slider_59rI81QUFx.value\n",
       "  const end_index = labels_59rI81QUFx.length\n",
       "  await Plotly.animate(graph_59rI81QUFx, labels_59rI81QUFx.slice(start_index, end_index), animation_settings_59rI81QUFx)\n",
       "})\n",
       "\n",
       "pause_59rI81QUFx.addEventListener('click', async function() {\n",
       "  await Plotly.animate(graph_59rI81QUFx, [null], animation_settings_59rI81QUFx)\n",
       "  trigger_59rI81QUFx = false;\n",
       "})\n",
       "\n",
       "graph_59rI81QUFx.on('plotly_redraw', () => {\n",
       "   value_59rI81QUFx.innerHTML = slider_59rI81QUFx.value;\n",
       "   if (trigger_59rI81QUFx & !reset_count_59rI81QUFx) ++slider_59rI81QUFx.value\n",
       "   if (slider_59rI81QUFx.value == labels_59rI81QUFx.length - 1) reset_count_59rI81QUFx = true\n",
       "});\n",
       "\n",
       "slider_59rI81QUFx.oninput = async function() {\n",
       "   await Plotly.animate(graph_59rI81QUFx, frames_59rI81QUFx[this.value], animation_settings_59rI81QUFx)\n",
       "   trigger_59rI81QUFx = false\n",
       "   slider_59rI81QUFx.value = this.value\n",
       "   value_59rI81QUFx.innerHTML = this.value;\n",
       "   if (this.value == 0) reset_count_59rI81QUFx = false\n",
       "   if (this.value == labels_59rI81QUFx.length - 1) reset_count_59rI81QUFx = true\n",
       "   reset_count_59rI81QUFx = false\n",
       "}\n",
       "\n",
       "next_59rI81QUFx.addEventListener('click', function() {\n",
       "    if (slider_59rI81QUFx.value == labels_59rI81QUFx.length - 1) {\n",
       "        reset_count_59rI81QUFx = true;\n",
       "        return;\n",
       "    }\n",
       "    ++slider_59rI81QUFx.value;\n",
       "    value_59rI81QUFx.innerHTML = slider_59rI81QUFx.value;\n",
       "    trigger_59rI81QUFx = false;\n",
       "    slider_59rI81QUFx.oninput();\n",
       "})\n",
       "\n",
       "prev_59rI81QUFx.addEventListener('click', function() {\n",
       "    if (slider_59rI81QUFx.value == 0) {\n",
       "        reset_count_59rI81QUFx = false;\n",
       "        return;\n",
       "    }\n",
       "    --slider_59rI81QUFx.value;\n",
       "    value_59rI81QUFx.innerHTML = slider_59rI81QUFx.value;\n",
       "    trigger_59rI81QUFx = false;\n",
       "    slider_59rI81QUFx.oninput();\n",
       "})\n",
       "\n",
       "</script> \n"
      ]
     },
     "metadata": {},
     "output_type": "display_data"
    }
   ],
   "source": [
    "val xaxis = Axis(X, title = \"X Variable\") setLimits (0.0, 10000.0)\n",
    "val yaxis = Axis(Y, title = \"Y Variable\") setLimits (0.0, 10000.0)\n",
    "\n",
    "// we can also specifiy the underlying layout directly - sometimes this can be useful\n",
    "val layout = ChartLayout(\"Animation XY\") setAxes(xaxis, yaxis)\n",
    "\n",
    "val series = createXYSeries(numberToCreate = 50, length = 30)\n",
    "\n",
    "val chart = Chart(animated = true, transition_duration=100) setChartLayout layout addSeries series\n",
    "\n",
    "chart.plotInline"
   ]
  },
  {
   "cell_type": "markdown",
   "metadata": {},
   "source": [
    "### 3D Animated Chart"
   ]
  },
  {
   "cell_type": "code",
   "execution_count": 48,
   "metadata": {},
   "outputs": [
    {
     "data": {
      "text/html": [
       "<div id=\"grid-container_k42d0JTNVJ\" class=\"grid-container\" align=\"center\"> \n",
       "<div id=\"grid_k42d0JTNVJ\" class=\"grid\" align=\"center\"> \n",
       "\n",
       "<div align=\"center\">\n",
       "  <div id=\"graph_2cwZwlCaLT\" class=\"graph\"></div>\n",
       "  <div class=\"animationInterface\">\n",
       "    <button id=\"play_2cwZwlCaLT\" class=\"picta-button\">&#9658</button>\n",
       "    <button id=\"pause_2cwZwlCaLT\" class=\"picta-button\">&#9616;&#9616;</button>\n",
       "    <button id=\"prev_2cwZwlCaLT\" class=\"picta-button\"><</button>\n",
       "    <button id=\"next_2cwZwlCaLT\" class=\"picta-button\">></button>\n",
       "\n",
       "    <div id=\"sliderContainer_2cwZwlCaLT\" class=\"progressBar\"></div>\n",
       "    <div id=\"counterContainer_2cwZwlCaLT\" class=\"inline-div\">\n",
       "        <h3>Frame: </h3> <h3 id=\"value_2cwZwlCaLT\">0</h3>\n",
       "    </div>\n",
       "   </div>\n",
       "</div> \n",
       "\n",
       "</div> \n",
       "</div> \n",
       "<script>\n",
       "var masonry = new Macy({\n",
       "    container: '#grid_k42d0JTNVJ',\n",
       "    debug: true,\n",
       "    mobileFirst: true,\n",
       "    columns: 1,\n",
       "    margin: {\n",
       "        x: 0,\n",
       "        y: 0\n",
       "    }\n",
       "  });\n",
       "\n",
       "var graph_2cwZwlCaLT = document.getElementById('graph_2cwZwlCaLT')\n",
       "\n",
       "var layout_2cwZwlCaLT = {\"height\":550,\"width\":600,\"hovermode\":\"closest\",\"title\":{\"text\":\"Animation 3D\"},\"showlegend\":true,\"scene\":{\"xaxis\":{\"showgrid\":true,\"zeroline\":false,\"showline\":false,\"range\":[0,10000]},\"yaxis\":{\"showgrid\":true,\"zeroline\":false,\"showline\":false,\"range\":[0,10000]},\"zaxis\":{\"showgrid\":true,\"zeroline\":false,\"showline\":false,\"range\":[0,4],\"type\":\"log\"}}}\n",
       "var frames_2cwZwlCaLT = [{\"name\":\"series 0 (F0)\",\"data\":[{\"name\":\"series 0 (F0)\",\"type\":\"scatter3d\",\"mode\":\"markers\",\"x\":[4160.055165876616,3920.3450199731483,2600.483957764166,5397.144403732237,7894.163017989814,3099.3898182371095,8956.699487532784,9934.57916597647,5885.670367511618,1318.2774763315908,8176.112127927279,5681.941403803536,2273.334180024087,3641.6114184824523,2523.1686904776284,1017.053316967883,759.1524791170224,3965.16012412672,2579.441908517567,1938.8178661571499,5674.800579872968,1442.4599821248773,3515.358683378712,598.8719160840384,8211.84171426282,8370.435443224718,9641.701222567968,9425.098685253011,4958.35012293083,4667.397272118694],\"y\":[7650.119418844249,1463.5269926461824,8433.41717623956,6703.73388845413,9781.975049060264,9723.343598873997,922.3317713234946,2435.0654258645086,3057.4148320415884,7030.454107601185,3589.061655331475,539.5801630955543,9651.646185114325,3178.2238784523074,2578.986967037187,8575.727481310276,6522.970086431717,8009.74196436507,2623.6630904926415,4053.395708301035,9477.201589350121,7474.1449949041225,6520.724325972484,2751.1563785558524,7995.688888439593,4670.24785899742,5785.863384585892,614.1048426304052,2359.215079401209,9423.930005041959],\"z\":[3760.147565651296,9131.288830471472,3867.6541958628663,8041.425835787161,7504.770365991809,9218.66155988792,2285.318534915781,9538.87471559687,8926.652030975887,5322.953340536131,2034.5249370163865,5869.186968558541,8752.142021125579,9713.808219242572,114.97617882011535,1450.4870602399533,9202.400004285408,6745.985408645036,4244.139457711841,1646.0966221210215,2522.856630000705,8250.376206775454,9293.872821581803,754.2236092804122,2880.4906856495836,4152.044194981095,3741.1409207731294,7536.227592631276,8566.482623243082,6915.445092349779]}]},{\"name\":\"series 1 (F1)\",\"data\":[{\"name\":\"series 1 (F1)\",\"type\":\"scatter3d\",\"mode\":\"markers\",\"x\":[5555.726990463086,345.53557292386404,9928.131825895363,4481.440776973187,8715.43425759974,4514.978824168388,6002.758588944797,3987.669243359839,7369.346459518448,1818.537888320365,9437.631506009397,7753.292194930364,4562.290716042583,5544.170628169207,4953.7979183134275,3761.0871526558144,6388.733302530644,4997.611739629116,1348.0178649760066,5184.313135008266,461.9071454129731,102.7331810765264,825.8285930119824,7382.72326176458,9664.05367495936,172.25387781187874,2320.1028110019174,6231.55743344016,8286.239564662064,893.2964701322165],\"y\":[7373.281634569793,8649.297909232442,7871.284737008882,105.4868891781735,8147.799529844179,4754.423113334001,4340.9170369643625,6044.997494092506,7178.042071520769,1208.3542166344919,6318.350124092913,1386.1404266330358,7588.507515512557,6991.230977299571,6950.051894969753,2632.814006384617,676.6712507835415,6109.118808675184,7985.558239448,7195.317180121342,4995.377693777647,6545.693074910314,5391.758076904679,9833.741129022617,7368.417701701185,1148.4042113493742,358.1542536330962,6057.356952980789,1634.2705441921291,4078.5798016651875],\"z\":[8192.190116014071,2540.1196032610196,5336.825006726006,5956.869452059388,308.79822302161466,3645.6082248549515,8068.217332364813,1899.8999367984238,1285.9152140769181,8750.431185740155,7717.7511304522695,9270.948121267651,3787.7829687382323,7213.323771628174,2492.200561944543,6156.906772445057,9050.429376865106,6557.8709246773205,7246.611758801687,7335.759003970164,9578.805394745585,4719.989797539533,2401.063683547817,1813.2400966559326,3722.633842074583,9057.011601340284,2517.659641372929,4884.310105192264,8878.097957493097,3223.402542234408]}]},{\"name\":\"series 2 (F2)\",\"data\":[{\"name\":\"series 2 (F2)\",\"type\":\"scatter3d\",\"mode\":\"markers\",\"x\":[9473.362966337536,8114.520982566188,1205.0804679184569,7988.87089092105,2088.11181820774,2638.3099111932597,4954.741639931145,3607.8048726489374,53.974177189933805,4735.706836530919,3769.8005992775306,9444.694665401315,5059.939778722954,7775.89574200589,9649.964832622783,1218.3927246665783,6118.266749639683,1305.522539944919,2667.529134335981,7448.7673650565075,9272.131230311343,6311.595793712039,5973.2449299020755,4472.510237435562,4100.658609080894,5503.280129449241,6150.137191010535,3740.565170869865,736.2391949128555,8833.83375750517],\"y\":[8553.025462967349,6017.837410316152,1470.3620267339923,7423.397113294375,914.0850215950858,4576.561041858297,448.0289737042942,3545.290006237678,6199.8576057371565,3507.890689968457,3437.135382489734,402.9290723124657,7472.707159318771,7871.996530017582,7208.037729633554,3051.432482334605,3339.782973176605,9565.143372287723,4669.851879692613,1007.4261217277103,2465.1447980007247,6502.930405464168,7583.855663324524,3842.5276269873966,9575.767367485683,3002.0830229482067,3410.697931306519,3370.4276156586743,3409.734184749884,6088.880420091409],\"z\":[6646.944351642631,9914.447390235584,9134.997847003115,5870.513173791604,7867.815315262976,5581.906980221644,3909.6671444801245,8076.365485602697,5616.804875231635,4473.580203158477,4459.859553245687,3409.4167223385243,7269.195273580639,8320.980237524873,9818.733782787825,1443.667350954152,5045.304375271707,6171.162473325389,700.3975928850115,6461.690154304149,2460.6436449453663,8428.18749875966,9374.960580235713,8847.116298354484,4673.9785086467555,8812.341688476141,366.08450790101557,8430.063259681743,3430.623044671206,2612.6640434161372]}]},{\"name\":\"series 3 (F3)\",\"data\":[{\"name\":\"series 3 (F3)\",\"type\":\"scatter3d\",\"mode\":\"markers\",\"x\":[2809.9572773513282,5529.221656488249,3597.119410346544,5985.282101644908,9894.699301266364,1342.515026897083,3644.7888720515966,8989.511380416807,9441.783304692388,1808.9527676972027,6863.4620874373895,4555.628478541721,2396.13445358178,8097.499864056834,3573.0298528869153,6642.679618283472,2759.1478278396376,2474.48755700146,7149.281461130176,3471.637464794368,3328.9430819983536,459.2956513577839,8291.825203331893,5908.677426089297,6504.755577279765,8898.73799047967,2635.714694913044,6825.291085289523,8367.435151760425,4873.785613011619],\"y\":[6544.733369679955,4576.416516469049,7265.60932928934,2197.967708244788,4723.1172254813555,2614.704391907453,5217.140330628947,674.9891635366312,1143.8215245016047,7698.510285200559,1578.0850075784292,8253.812535144918,1715.270189170357,1153.1387171510853,3636.4475141060093,7752.649767963328,3094.850699248084,1209.3309309272393,8055.587962124884,7919.0156526529645,7106.246543036043,9569.93411458571,422.23212971531865,3251.1969824620846,4329.028490452236,2045.1449130520894,7546.604979347624,8227.193424986792,3602.7523066909393,1348.6746042584684],\"z\":[8617.285793113455,9370.392130550135,6424.140717864949,9961.635020180787,6830.965869962149,2926.9392670810444,6514.752980755153,2347.8955571829597,2697.3615849551124,6837.971428624775,5197.876430350694,8744.121829092686,3862.123153696314,3160.5834100975126,2647.1998543958252,7249.647954645227,3995.643784340047,1124.5977296136045,3556.158010409556,7005.799904668901,5063.267337994086,1607.916920670659,3325.6661833095645,2881.23220917771,3122.4585315146146,971.4356670641544,7479.286973353183,1269.2965288673263,7685.085341309857,5915.194178790687]}]},{\"name\":\"series 4 (F4)\",\"data\":[{\"name\":\"series 4 (F4)\",\"type\":\"scatter3d\",\"mode\":\"markers\",\"x\":[2688.7071310571387,7355.41322821935,8638.035969289165,1300.66069791148,2528.721458832979,6526.870618853705,2732.9782915223054,9729.727311421404,4879.7574039126675,6474.429034779465,3736.1362380248197,5079.215410635766,757.2957872305475,1974.5601439192694,6471.549751843285,2160.381794866235,6271.374884201213,1343.105892722255,5196.3515872844755,1206.1247146355747,405.69308671973283,2115.5930935908686,1014.1768049546184,8984.290224752536,1354.648141094671,3636.3935175882157,1362.9004807744072,7993.684246104307,3267.988888596641,5928.373361302114],\"y\":[7005.47571830052,1420.093392141758,3426.5750062528023,7466.6290737384525,8407.719475666208,4312.832339636771,7109.0706617167125,9294.354584374729,3904.4775269949737,788.0214178046474,3708.229422727054,9295.84853062713,6635.672850744782,2973.0199753592533,3016.7521522107154,8381.112932149592,5876.322500556963,9877.129075058068,5026.526213205578,9838.451918319683,1089.6865840359571,3406.889423339011,71.39219318451073,4175.935533801146,3800.2880103690127,4339.997829685194,8692.395984128128,4399.538596370409,3213.623599621419,3230.07517550271],\"z\":[2215.8305175809246,865.2298007276105,6401.9625638680345,9935.21343742342,5708.184654626621,594.2231739964476,2830.708597928071,746.4401964997292,4708.453591669869,3255.075028916449,6017.377020591074,3937.9376625120576,5937.0900503374505,4893.246929063026,2195.3194637053084,2969.0581780133907,42.20307685085967,928.2205676020494,6996.906575648812,1538.8809461273834,1367.4443140942938,1940.1937991950313,6375.953491471512,6227.256392578001,5712.338819646957,9332.848437842174,7256.756537406157,551.9916824706517,2104.660757529395,3085.6266120937094]}]},{\"name\":\"series 5 (F5)\",\"data\":[{\"name\":\"series 5 (F5)\",\"type\":\"scatter3d\",\"mode\":\"markers\",\"x\":[6727.183559998116,8930.029011840872,8715.769052080104,498.4111693352822,5985.8413871234925,251.1743702605218,6223.651893935284,3083.4544910186655,6708.41689145508,8556.137496983969,4164.760968905587,8573.856555123353,3015.874990215268,2656.346858471641,7114.53422167689,6394.843600741091,1807.26623687393,7441.20516952954,7897.844438401393,7883.553296252007,7862.478988187914,7089.1540949714545,4454.432831499524,7044.985224666433,7825.35022137149,4432.124283877918,5470.718064382462,3696.2285654802863,8945.124633210573,1318.6433069847715],\"y\":[7438.195521063988,8478.03207183374,4284.330530122117,1979.082337272805,2409.975646047877,8402.232430687332,5993.720682316056,5117.22182183423,1400.8313526994532,2355.5165809724745,2210.002146980934,735.5251189783673,3112.46009266256,8294.437261341953,1149.6591114126397,4547.202829415264,1464.4854983737432,7743.562790876282,8052.248424565157,6236.365842066673,8273.061424071224,8648.089964408699,6769.130744563484,7798.255451976308,9342.761508075544,4634.20457569903,7998.670864702547,4724.75376178046,3223.768670760997,7294.925545585501],\"z\":[436.5253154290982,5896.070755656319,1935.207390462359,8246.12337905454,9439.710677966294,7697.715572677484,2066.7893987440043,9386.856042450372,195.72500159157235,4102.556120542689,2844.771203044877,3050.1169789265846,8843.070287571803,7240.980529829829,4984.549429691147,8544.547125208315,5507.107960312805,2327.8699762306255,451.0479796854172,7964.611746718394,7795.249238651521,6723.303107825108,8609.38417190839,2086.196039086947,1938.0703849047654,5374.609692176104,8672.11944585018,6666.5328381746085,1468.008415130312,3920.5955584531994]}]},{\"name\":\"series 6 (F6)\",\"data\":[{\"name\":\"series 6 (F6)\",\"type\":\"scatter3d\",\"mode\":\"markers\",\"x\":[1835.7364422667833,531.8193842758478,94.88442982789613,6334.466939503467,9047.810510061336,9462.841277732052,6267.570841235596,6140.181573122263,1957.6691399394751,4078.369697370371,1803.6979159925004,8957.658917717212,5277.1649505641635,5668.054385689075,5924.3775147189945,9415.485124521238,8514.51040877177,1240.9868715233351,9048.495176035962,7315.451923647417,3842.9597408011027,7933.059180302022,7781.204239143649,6341.467109182833,4727.439425620056,7355.701516620186,3673.827260730631,3576.088114769945,6856.067808782717,2470.531553414136],\"y\":[3537.4579768197746,9621.119469621708,8909.82769477087,3138.900096477141,8360.124235278508,7214.428442458,5752.480403802989,1622.2765886724944,1207.4602543645697,893.333813544368,734.1477855719836,5998.865144581807,1879.40501371072,1475.622085765519,6975.804602535975,7713.797829049275,7550.533683777414,6912.453389241635,9738.262381730052,9294.704642206734,4139.193064305367,5413.119459118328,3278.046755432242,9641.4124273449,2730.7027817909825,7649.821485852488,5953.904014784765,7237.979166549613,9022.454253805623,2321.3356227406343],\"z\":[6771.4937546676,6137.220954964812,1463.8204565234291,3387.640854557186,5040.16185198693,5632.3442454918195,5531.367025996788,7883.2824357915,2364.5062773238215,2157.248132095189,7409.934547941932,375.4540156388331,2804.7846444917277,1146.5160050884238,242.73753163970625,3853.476206533074,2714.0352145016245,7338.063627098371,68.70616369176297,7119.55942000031,6496.113598391347,4315.875385712971,6582.874003138569,5596.438806976177,8327.674620481728,7967.196729561723,5935.692483167662,5875.672957546712,2748.458074294372,3968.022663754619]}]},{\"name\":\"series 7 (F7)\",\"data\":[{\"name\":\"series 7 (F7)\",\"type\":\"scatter3d\",\"mode\":\"markers\",\"x\":[8929.731128295356,4301.09982588889,8948.062616151681,6412.658589674861,8177.304802806195,6415.15015354923,4563.725270272877,3267.594500052926,2050.136704872184,7191.416013980211,4852.443953343311,4456.882177584462,1582.2585932951695,1635.0808550806273,2212.1188055414086,75.6554754852945,8879.914534063479,1553.5180538360228,9200.206493862333,9480.394623977098,2047.321796824687,7082.566905760846,5434.716093090079,6818.978495560719,2154.715313058585,899.6997908323323,5061.2027021517915,4940.532915103137,2355.1811898138985,8963.499006745438],\"y\":[6830.737854014035,7564.525055859362,7899.367920174811,4089.558840015967,3257.6714601089043,9090.516634916712,8502.232070662572,7706.14080350377,8812.323312546017,2494.4368444451925,1283.5641193402214,728.6031836370122,9652.56944035181,8384.188355015738,3334.1096823512607,6649.83706687196,9009.622412877512,2476.8554100382744,7851.6872147610275,8664.638709293482,3017.126079857139,4511.737078690535,6746.771131212007,7929.155572549396,1509.0177772113511,8927.876380184909,5634.6008863025445,1902.2435861932051,7110.436978200299,6511.715265259244],\"z\":[4210.941517827647,123.775598716096,3807.289608776405,6659.95592678772,6151.207469819869,9755.648974347565,3103.902833279475,1904.660743179213,7877.737735247383,4744.436594747471,1864.5346946252982,9912.079017971932,4807.5881131711385,560.3347209169285,983.3317934932805,3293.6397750596725,7023.281042773517,1125.2594191631094,8138.653382498047,4257.003651877031,3701.541150201069,5763.652460470804,1061.5137548633556,9377.02042239645,7090.110752919898,1792.750943071324,9984.215910089972,9580.89157992557,2340.3261315386835,2714.79095736447]}]},{\"name\":\"series 8 (F8)\",\"data\":[{\"name\":\"series 8 (F8)\",\"type\":\"scatter3d\",\"mode\":\"markers\",\"x\":[9234.08291744993,1818.7895674276156,9083.212747500178,2881.8061308796096,8298.521886500974,1830.640683733733,4279.4287369098065,6974.393797315151,2111.476608011005,1921.7275828082313,3578.4755329755103,6669.020853224367,8797.663931675503,3724.228395628378,190.16019179010968,7464.143744838797,659.8064597357734,3548.750206706953,6101.384049246834,5793.624701012628,805.4091991044754,7119.382146499036,363.900080105829,276.62365011316024,3483.45360678739,1237.7336256794413,3133.7664007130215,1236.3504082904376,937.7101601275529,2235.885858420511],\"y\":[2160.7989325227304,9465.770531608208,3382.1992906199484,4955.132099403898,506.4040963090599,8626.548780301562,1565.658896647627,1426.8377952223555,410.7505996175209,5638.231600462445,3315.703951415109,5433.703608093055,8435.319402723593,9947.863424771229,6439.694268939177,7694.170204051159,1274.4465426413665,5665.936245243025,408.14836227158423,6539.652335127285,9959.551962131949,212.77947269076392,8357.879409112033,643.745390549667,2572.3282351516086,9340.19624484106,9125.847271789733,3614.504285287028,2038.237161056864,1176.3539556211122],\"z\":[6261.0561501973325,5075.337841134801,6089.24496534393,1287.6471105529251,7260.650379283141,9237.026713774345,1064.798923233703,6659.444782505947,1637.6936178998492,9902.81755653926,9862.633902913332,8968.343346639656,851.940586718849,350.50252550119285,7056.06829550526,6551.7499318200125,6621.241245767919,7599.846370767119,962.0318809445582,76.31792271196036,6680.044724147089,3200.675758758059,3274.143107326162,9064.96732003836,8662.798895971006,6866.398917855235,1767.7338940151421,5162.920758889735,3463.867363274463,5029.6773010837915]}]},{\"name\":\"series 9 (F9)\",\"data\":[{\"name\":\"series 9 (F9)\",\"type\":\"scatter3d\",\"mode\":\"markers\",\"x\":[538.7973161871662,3306.389569955277,9161.917699197411,3711.421436201203,5256.40888059884,3803.2495718216687,5395.55956318016,3971.2433006657775,7988.256288114804,6743.24719457664,5938.3413901357,8646.93955130901,7301.485332261016,5125.981549520281,4145.039197799415,1092.5438402473576,4546.148041167011,4628.109130202256,1927.5057008601127,188.932324532467,6496.122438634338,6026.922406847664,7967.168972226768,1027.9257687039733,7852.4436463421325,955.65704014835,4982.601490764156,7360.276630616003,4506.572977672868,2886.5833012640264],\"y\":[9044.41019307361,149.89120607262873,9916.19986856,3021.1435893254966,6166.020590972985,6391.083547455452,2463.7583540386663,5112.098658901411,2697.7630937983854,3722.6164367600413,1247.915379487319,4150.848205395678,6412.99250057038,9311.731789453885,1400.8602814854632,1323.7975512430844,4598.803361087823,5983.330695057291,7729.314891464748,1674.8410482644315,3950.226963763178,4633.916068099026,7244.7483945064205,1506.7399588374287,4615.632443235948,9596.860526261838,6978.371277709228,9712.371311334986,7352.372129940903,2815.0192109334025],\"z\":[3369.051488860202,947.5328720067932,8425.549572965689,3428.658258959214,3467.3799535431317,8840.187521542279,1619.1059334566826,1701.122867805729,6216.687876446262,4276.735851346629,527.2616700295118,81.62302848010228,4151.897744492151,7214.107675227315,7155.6655522097835,9643.967498219816,1999.6663539396852,437.17017841148675,4785.4398755977845,7142.028640254173,8868.358504346752,214.14605730588397,4039.6356365938946,6487.176096140474,4983.968427779091,1898.4451681909109,1140.4388092654683,8579.869767814398,2258.177485511682,8183.51435727467]}]},{\"name\":\"series 10 (F10)\",\"data\":[{\"name\":\"series 10 (F10)\",\"type\":\"scatter3d\",\"mode\":\"markers\",\"x\":[6456.8012854786075,5117.052420578527,367.3284358185458,3938.0103348479865,9615.989163331013,5248.9415937371205,6476.157693313842,4331.8068352352275,4688.882511980482,8773.2672197389,7257.7204946034735,2309.0506331080574,5257.675031312276,5931.960290452261,6441.011046156875,7372.681265520157,4535.959975487259,1814.7441856293844,9760.365261797,115.53413732262374,135.0126203236024,2876.0425039469606,1885.8055615360136,5966.351446072256,6556.407009058071,4136.059350431495,6681.07117966378,7214.724835741783,1039.937199424742,8263.852950930603],\"y\":[2966.151613318978,4537.200244446164,7.136303052898141,1929.6651399903208,2853.7201343997144,7967.4756389672675,4014.515753129607,565.7331515839026,8683.941684056097,2536.828149019382,8866.980371933456,9989.252274184182,7599.711675673953,5656.609437242072,9340.694352853905,2218.123910232871,9884.451814848066,1722.8481589273626,9826.010514304255,3249.561698106469,8327.17774282835,4393.706956333204,3124.895107786457,2573.595981680663,1084.621784237736,8523.74071471085,4623.614361711508,7757.959808326274,9777.779583409163,1834.6067879719562],\"z\":[4110.274315666435,2567.79713969557,7890.323336241415,1060.0807697888447,1618.136502751204,3773.0874445266595,1928.9018652142443,8523.936568125651,6849.4531731784455,48.63194803331194,9260.431626340946,2892.448842100237,3970.9038426259544,6185.899263548429,2059.052463780815,2188.9832867684677,4870.535572174148,7212.986995346042,6375.508684011381,8066.340008672639,4327.439067114827,9958.40001733055,8984.285236177062,7803.21864768727,9969.224266926498,4096.308879153724,2368.916370285531,4524.381564874361,8378.681561415799,775.3956183737887]}]},{\"name\":\"series 11 (F11)\",\"data\":[{\"name\":\"series 11 (F11)\",\"type\":\"scatter3d\",\"mode\":\"markers\",\"x\":[9973.453890493656,6739.78723847259,6259.8483740033835,4560.355076305057,9678.165915296639,5456.173832648706,2185.0251877953365,3604.568866979946,3350.1123992532366,835.2767819919937,118.11430953065027,3724.4232714700797,4274.321290783051,656.0637218994359,645.9850454415383,4360.193626073974,2288.8726738371947,9684.076068827597,9648.392305867366,8285.376822400049,8527.26551415292,2459.167988018186,6998.308055379187,2365.797541378766,7814.033979572316,1983.6384263646312,9808.352475108486,3671.7752862579687,6964.644531389561,3325.953629054308],\"y\":[5725.336886139936,3811.088210336946,1508.2939890127557,4250.9595277625085,1823.7620398971521,4477.42358793605,1682.299787052286,4645.691247930814,3760.442584586643,8898.45610129917,939.3557295424692,2730.583745710774,8026.254942246933,7119.654789633758,6664.002713043018,8829.094262130764,7367.336396160522,7874.362495356501,3312.2432285600357,6814.452548067169,5746.889399663972,6167.654305665663,2768.304554073496,9260.451963148118,4580.0741272933665,3640.929105097629,5355.137206644533,4793.904297402827,6398.302011566139,8286.141639359852],\"z\":[7640.310216649202,5179.576684202199,5585.565247887088,1143.0405483949569,9946.543100423782,5264.142006289853,8378.275102876245,239.72188185866327,7306.194551393817,1063.867937609181,5931.399714073747,6226.271935657764,2491.6053732468267,1.4771437576066582,4927.526578338656,9903.216567677371,8708.268339920054,2580.81579196648,9941.804038606097,9160.95312118548,2555.3806188993553,6633.666268270362,574.5354726635,1723.2911187216016,4938.409341332585,3681.2480641770394,4224.541004702125,527.6843357508986,8760.879169633035,1923.649551228138]}]},{\"name\":\"series 12 (F12)\",\"data\":[{\"name\":\"series 12 (F12)\",\"type\":\"scatter3d\",\"mode\":\"markers\",\"x\":[2300.2170149019707,576.6858639158934,7427.669916399884,1903.638902603596,3651.562241013616,9659.614080494104,7459.690917497096,8987.00595468663,4055.258678523358,470.3689837312519,1849.8736787542591,1459.7881792572898,4696.230810257057,8336.792434635,8183.0072209115015,4263.436735001217,5762.9297689986315,7028.918143246732,6997.0144047904305,6172.186361584288,3509.9208685085227,4927.911178625886,1380.8490175346178,2562.588534318102,440.1768399250794,5214.448194457384,8384.268534034847,6833.376591434773,8620.811920229908,6674.745598885496],\"y\":[6457.31770923048,1004.5321274601326,5569.817713014215,6224.393723120381,842.4356092431717,57.625289016695056,637.6867376848827,314.6078111139794,609.6770775434146,5175.204286334233,7356.64736155296,12.462405241336905,6855.616274364605,8195.21517008699,3841.5472660623063,3736.1256487664386,1479.081528886429,3317.130394029929,9000.267166061605,2378.066681893942,9901.943744252398,2379.6747508975245,7047.860041657052,3863.6586673180086,9120.763323693673,6875.73579227653,6617.449535159848,8069.554113317471,4555.177693706984,3278.2507040620267],\"z\":[3622.244177827284,8465.666428485165,5301.487308715027,8221.562227829767,8946.852157079247,3846.5387800846697,7604.977448306518,6615.944813959305,3032.414116630403,2082.3365172169615,632.0931827779397,8868.698946077348,9468.89231021145,7946.655805918139,6953.661114931308,3043.4192871358014,8819.189828327651,8767.789467277595,2542.928376270713,4009.7426367658873,2073.5963176944083,4902.0459148018645,7547.269844116904,4419.087621468597,369.3874762234806,6842.172146053357,9609.992990282673,1687.597642783808,3909.233903873689,7150.88263472865]}]},{\"name\":\"series 13 (F13)\",\"data\":[{\"name\":\"series 13 (F13)\",\"type\":\"scatter3d\",\"mode\":\"markers\",\"x\":[6098.744234671352,1075.7041027776925,8373.400770338058,3348.9489512957603,239.60307940509185,7424.430562396838,1544.5509730191498,7389.258671979086,8861.027229813984,7141.76011744613,6350.289231128684,8412.707809357684,6219.386944099935,7628.089687295275,9077.415261999882,8108.738182314141,9207.90893442733,3488.0048945909725,3123.182469171405,2192.790402140169,4143.428092715129,7596.302587285746,9322.683395408696,7264.893027598917,4280.419283523476,369.3996859075488,3627.815286408266,9628.060706580278,219.3649941992182,2438.9657857595016],\"y\":[1712.1058064957829,1522.131755896433,2456.5885363705697,4332.819494957105,7937.004269493442,668.1226895079328,6465.2625481928135,1738.8366330203453,3039.0790209783345,1020.1349977064189,5902.382047921473,6460.813822711884,883.8797122681863,6186.301614231212,8804.065021020711,1270.9415451216532,9681.060649498657,2107.210412230536,4961.626237252221,1521.7395725522665,7166.684953508161,2269.700621241858,63.44634283751316,7601.011683871021,2432.4557662336842,6985.877821600959,3642.7346633438506,96.57959318678633,9317.955253339558,8081.644282685669],\"z\":[3388.866396863549,3883.261065215915,7580.791584050363,1716.0005726801776,7960.048669223706,8252.756649928373,8420.890455135923,4991.822357611446,4077.6498665162244,7677.8163090236885,358.98992327368376,6520.770560619297,1387.6063476771317,1835.2580164311505,9955.729607484405,7169.447608311548,341.89619686773364,4108.1135390099635,9406.549690596048,4840.864518404594,4183.148552598623,4945.382041943117,9658.946188875889,6334.736806948394,6008.036714693645,178.5724653926446,3372.45579423469,82.08042218995737,5840.178167884945,4677.419278475786]}]},{\"name\":\"series 14 (F14)\",\"data\":[{\"name\":\"series 14 (F14)\",\"type\":\"scatter3d\",\"mode\":\"markers\",\"x\":[6778.071439155448,5864.03140048317,660.8481340955708,8572.862339461675,3292.6205278839725,1501.768263883687,2425.8830715728163,6683.579895475147,4604.960044545073,1943.866292548837,5239.738417456579,1753.070483194049,6874.677351342138,3179.3670955253074,3062.735654362394,8637.4818290402,670.3112682105294,1969.30313577788,3595.113995195176,9680.086667493895,3322.9325788186857,2516.361628345426,2311.5825339788253,1166.5104246979286,1482.257761527531,2881.8383068604358,3012.64304747782,6975.516500878739,9836.29274213362,7210.969620492009],\"y\":[7714.034716809903,8323.36230714742,9191.83328537397,4642.198009035527,9213.227502140246,7845.434792511756,3411.9773866456326,2152.87236774064,4251.972965859149,2167.0874397316643,68.13299221366864,6533.334027052309,3836.494205146661,9586.29301997663,4087.8300752314876,183.30467207275157,9981.979744039476,8523.939648358151,7165.979658966776,6488.93190875179,4915.620525540297,7993.291642177387,8256.042201031076,3165.810120434257,9602.510182166765,3498.3490510861425,2068.906317682627,6142.744725776918,3351.3041806620968,491.5319093004622],\"z\":[3181.097541402983,2312.9802092269715,5211.6145582655945,2804.330616909444,3090.268897527609,6794.065156136976,892.6920220504076,5310.257090657527,6354.755953601177,9214.48605257166,6013.0266001916,8487.638495156487,9815.30103873736,3984.6450923264233,7633.07883439715,7520.499038945004,5820.884219123439,1511.7183041686721,1228.4255533285427,108.9789234262073,6366.924766551678,882.3814036828547,9528.189174339797,5256.437702058842,102.9469983183251,9664.34291320794,2973.6913172535797,9958.599029579525,8278.127323136327,3167.0748960158066]}]},{\"name\":\"series 15 (F15)\",\"data\":[{\"name\":\"series 15 (F15)\",\"type\":\"scatter3d\",\"mode\":\"markers\",\"x\":[8944.855313121394,1940.7924067268812,8866.974619380575,3754.092441973572,8356.957389379133,4372.554724455981,353.7188140855463,613.5767013485138,3747.90185120636,2834.5506624522623,7952.812989223734,1771.0973618452108,2556.2812919938947,5720.981482840447,5404.28148905015,3067.6365168791917,2933.0523785642736,6731.352639477932,4906.475554109579,3328.076980835576,7134.740722484244,2138.669197692674,6235.125089567574,1009.7620831265064,9313.668078157152,6116.840124003752,3646.4044601682413,5247.696729046316,350.7669820257564,4568.263787577534],\"y\":[5773.057519016811,3402.403798825182,2269.1323797437135,1613.2849006166161,9396.455402764792,7968.408847478407,8721.533980809898,3186.3999460583714,2713.787726466248,8015.778407390598,6062.69357319288,9029.806631763762,7518.419796851313,4214.0861123056475,1597.20789309046,7783.083168137156,2572.7695377966543,1927.6417037105687,1736.5770297284332,9838.49525873552,2376.8946594408767,3872.761989263002,3003.875834620624,9164.629391311562,6522.300569152521,2392.3241215773683,3092.182591081569,8396.748366516673,4869.3136128250335,1529.7897559847584],\"z\":[7512.962733584556,1150.479566768793,2897.688904911738,774.341907233036,9763.174677153931,1736.1377174088477,9753.951858362845,5600.733465403625,9394.950967798311,5234.19548662955,8755.299216535193,4741.895131637778,2889.2825348130123,238.11517226568046,6408.716666817911,509.3030645283048,6815.212162801348,2478.955002325792,1365.2918240501544,6415.567407602899,1398.6201900792782,16.874364911512174,9153.538097716555,5855.644232030702,5329.768480328294,9717.855865752128,2021.8660039999836,6667.536850764538,9406.339279495953,329.67484681253546]}]},{\"name\":\"series 16 (F16)\",\"data\":[{\"name\":\"series 16 (F16)\",\"type\":\"scatter3d\",\"mode\":\"markers\",\"x\":[5769.168886000436,9020.299495791223,7438.791525183515,9629.341485397114,7053.821120119851,8266.612628998995,7737.427973725322,1834.9484203323852,5345.208729987384,149.14933118818197,7455.65269823527,6758.062373948453,3418.2472531000353,3064.409693993968,5081.4670084941035,4018.492813019162,9090.165122663362,964.6474915997927,3449.339307533921,4051.483375828708,8760.159278225497,917.9731338500585,6787.156855495625,2608.0701015759187,236.36260755812043,1348.6632207124683,518.0460184399915,6982.550972696171,8320.88360856172,544.1658580139597],\"y\":[1804.428463981671,296.72241403637554,1672.5126757332255,142.2416923774883,2151.756178284,4828.732767024251,3578.014905236777,5001.130680888636,781.9478058556062,6595.112856560534,2436.757749756957,9107.596296185213,8941.625055135453,1177.7415791489032,9999.750854902528,6992.140291904508,827.8300077609501,5133.210377353861,6703.001694712196,1497.6453810976166,6393.976769488082,8230.25588536841,3796.4206022913495,1687.1484880769328,4941.373675506013,9231.625247526003,1393.3376944085496,9178.404318593506,6106.728523060655,1969.9514911766148],\"z\":[52.01665158488189,7257.3519100030535,6623.6272455110375,9062.91245578239,1049.3883915364643,4749.547211300731,7066.054127037863,7771.15296346431,7118.5451539588985,5818.080053165857,2674.602364461055,6223.152304467915,1095.3699494984382,7608.449928133596,6321.0984222938405,8514.422025449829,4656.005959642714,9975.319442737236,9684.94397118248,4034.1223001063486,3125.690538812501,5403.027674322719,794.5569036028144,9780.390469598067,5200.815489212125,2671.191010346624,2229.8714113744213,4396.37193563471,8349.899003642442,4818.67751075684]}]},{\"name\":\"series 17 (F17)\",\"data\":[{\"name\":\"series 17 (F17)\",\"type\":\"scatter3d\",\"mode\":\"markers\",\"x\":[4486.93236389686,9192.15561185287,1645.4823868439405,523.6884236521266,3273.2033139507844,4513.513488900749,7827.794434867341,8144.6411916921825,7832.278921767522,9476.54546991297,5512.354002140115,3355.9921603497664,9789.27601476995,9308.04185023307,627.5092014952411,4565.099256789522,8463.250538183534,7314.56863413835,3404.239416418604,5110.6714733003555,9110.572056304254,7848.9932999024195,3539.376986397379,7620.308393773306,5143.260734836891,2551.3632408804265,1514.726985573146,3844.0856856483097,4008.868623531805,4611.760346102967],\"y\":[8478.401879940695,2783.0953173529483,9123.572631746241,4835.95278975973,581.0056171719691,996.3000173499659,7017.71715469068,8890.369191510856,6208.136426710551,1596.0211923574097,9683.124451907965,7261.126120410898,6162.004401136357,2631.824178236092,7004.0719592992855,8182.538652682378,7518.78475340716,1314.5250038458046,3108.9098341413223,9073.751450887068,1624.6616743142272,7846.4904936480325,3496.8734941474045,3867.8277709013064,5492.340088717998,1501.3623608367332,6874.720560609602,2025.8366523428463,3721.135381574827,2035.7815114057453],\"z\":[6780.404055156002,9999.186840918417,4987.573473801955,1517.6510421455168,3276.066942344348,7436.649610995647,3139.770507605488,5219.920503385899,4260.226080664416,8528.226025232678,7977.680664507485,5355.834630071432,9279.087418062318,3536.211224513636,4912.632387298491,8121.036822125036,6109.5156831424,6784.510394398469,5873.405290559226,2759.8772540576433,1841.258958817744,5160.472127115246,6062.419657252216,1187.7194512201838,5703.604212588884,5529.196529583797,2464.4468374572957,8078.004142827202,461.72318654082886,368.48755317361537]}]},{\"name\":\"series 18 (F18)\",\"data\":[{\"name\":\"series 18 (F18)\",\"type\":\"scatter3d\",\"mode\":\"markers\",\"x\":[371.57109519847853,4262.270486424481,2850.540543120684,8403.321837543852,3611.9665244346997,793.2967602868857,1219.0382343831075,1051.8998689890436,2656.375565026059,7085.9710666463525,325.4866624956454,6091.062086763871,2325.006871280254,4177.457000184804,9054.170437356754,7107.045194179535,7428.900729822627,3337.672907360103,6716.757989474724,1018.2627270002631,353.63124734413276,1013.0545047257966,7556.536849763953,6239.993418835114,9329.550868192178,3401.0275831074364,1091.3219673429796,906.5661319906426,9931.603591375955,7829.565696171849],\"y\":[8010.913348455635,3974.8357282060274,5213.067742636625,3555.665444999071,7487.5677741043,2003.4387629398109,1801.4130308906251,1598.5211943347754,1963.0180518170237,935.5322938317423,270.7852277877065,1787.6380335294916,9743.158238978222,5308.414357582083,8154.462323113141,5333.070879540665,4061.5862291296003,6971.629549015108,3071.952168818507,2914.434755026926,9665.778072312385,1615.8676477455913,1619.228795005283,1537.2808152817063,4434.743226457263,4198.165891530479,6906.935742442632,8219.8880545806,4054.5885299634956,3694.627036120982],\"z\":[3930.21111648996,4950.474046849726,2358.4965755953103,3520.071282662448,7315.1155439994445,7294.278226296414,8580.20522696354,6424.740362631095,410.47602329996715,8531.928521591593,5475.149565399066,1711.3774247956171,8180.28372777143,2274.9517211940397,9031.006017774504,8211.70763002788,8900.614076735976,9131.24302949373,1319.458857641095,8619.550319645554,1276.3622435959453,7182.763274032732,2933.586626523744,9498.492062398314,4266.921482486956,1789.6843352300295,410.3405873821986,6565.258089555278,6646.2506342722945,7549.657124989168]}]},{\"name\":\"series 19 (F19)\",\"data\":[{\"name\":\"series 19 (F19)\",\"type\":\"scatter3d\",\"mode\":\"markers\",\"x\":[7055.173105191721,6695.620609490771,2121.616236233994,4117.830051164987,2665.942240092928,6507.883107232574,3696.6137231928433,8032.698030003612,8795.805599394545,2349.68907033968,7887.903308510686,4694.815877592137,1399.8903334462254,8047.097351322778,5391.428095622937,8209.86383394488,1978.1036173201016,4870.58272558253,9842.702128430103,1934.502728275077,1656.5288863379735,2830.8069784543077,427.0929032622495,9252.915292299369,42.42914410543585,3637.7251932554723,7269.844894769622,2363.875869344074,2142.957883492188,3439.78271947154],\"y\":[771.9209897858836,6672.652009808201,2155.2554875341,7805.668111095072,7356.565307017075,9758.986597726513,2515.687090736649,2319.2875294162063,4452.82428615392,6831.868915159061,238.55782481216337,9629.333391557022,6966.081700015389,9083.75164190225,279.71629195087775,7828.013405106102,5972.001352254896,7421.326088964465,7428.037285109283,5629.223558305783,7919.092908210477,1676.920885667913,4057.854993092259,6974.639172401301,9236.444515444797,4594.042266313736,967.9889496880867,1416.9072165202058,6916.999411307188,632.5262880212434],\"z\":[2488.0933348544677,6912.325850872475,383.07574914571484,1953.228481914907,5050.628361023105,8501.098518530347,3739.658327077542,7819.1262506340045,506.83792991624955,9761.455661014425,382.3252402929012,9089.169124375776,1607.6904245053602,3894.637155589895,3850.4877088524745,6483.153910182008,7275.823993805708,7830.933144364589,9802.965290567261,9860.367985227445,9562.10836509391,5842.686023665903,4041.732364225805,5881.686363715595,2510.517559843921,8808.356324314776,621.0102964523123,3114.2679848498424,5547.589826260111,1492.457340881157]}]},{\"name\":\"series 20 (F20)\",\"data\":[{\"name\":\"series 20 (F20)\",\"type\":\"scatter3d\",\"mode\":\"markers\",\"x\":[2252.702554682325,6889.945166984274,467.8177315827447,2989.3745153307395,2455.4982097675147,1042.8592551761662,1603.9020204168276,4824.777137427714,5193.800549393548,28.839674975023044,3350.8747748573887,7116.541825954937,3113.9632551415266,2868.4876140970127,7855.67400297584,5667.806569684949,9909.14348716659,9857.8678114089,8388.834673420866,1897.979908569034,5830.414039478547,4055.175056703043,682.5356533236903,3113.226626599376,7910.5987863883975,2178.6859109612533,5349.322448508036,2776.164589226957,8078.628841538091,3740.7664589553715],\"y\":[9388.40061529535,9155.201327298311,3016.0428666308158,2994.6582721424875,3741.4777720227553,6017.145087657662,9343.581248105897,5585.212256277366,6877.7060004076075,872.4329070346059,6524.6565160322425,671.7035035285035,1467.3543541320055,4690.511429323894,7733.806956300782,9730.303304313784,2346.424972622474,1973.6198436035734,5862.067593615571,5245.744799504872,9179.496113419867,1610.4207712928776,7817.526771140348,6066.167460833557,6495.660622059944,7026.629358684181,5328.156263303345,1322.0808556848528,7102.503175007132,8807.996381160061],\"z\":[4565.337437474194,1499.8411902956666,2275.636277854938,4191.700685169477,80.332927249126,3511.9864228104516,3576.399140167499,5605.411853426987,782.2791514256411,6421.228784792502,6667.89297725775,4778.987531188665,6985.102937658955,5851.858836767604,7079.61304537517,9861.969906731883,7912.099809606701,8061.763173442405,1513.5085706205687,450.7532751709764,8470.729521320603,9150.219747042098,5989.386783762559,9462.49348723466,2596.5216374976453,941.0771141496388,3895.148210793922,1388.5346987285275,8013.807580404161,2707.8863695905607]}]},{\"name\":\"series 21 (F21)\",\"data\":[{\"name\":\"series 21 (F21)\",\"type\":\"scatter3d\",\"mode\":\"markers\",\"x\":[2837.424163637715,3618.3369569329416,3872.324518308855,7097.001794541592,9080.762569220757,1245.5801176103264,8392.562411454885,9356.623051075032,2318.5890242789296,6051.334123635399,8389.061125953634,1294.2015614956038,1536.7421116416958,7204.882262358759,6339.682206345744,5261.588886045797,4810.469701243226,4630.989922793496,3530.2145326651967,8906.759645396864,2018.3417640424284,5963.111694414916,9727.502325918302,8432.889417306158,9661.619124051327,4535.235860679179,820.607508927853,6670.026504266218,1245.1918268431584,8960.767458519604],\"y\":[5918.347751387776,2391.5486825844455,5006.284783747757,4505.053421406452,4502.883648492932,8997.04334421932,3169.6989626424433,2678.855451022173,2412.8507356654327,3935.21313951986,3363.439864855452,8263.284727720462,2665.864842283692,5054.852366890189,3346.1609386249793,2322.407405147907,3429.0547535399405,6448.8978461287525,4777.929108671282,5667.940096975893,807.6038183494883,4296.009504030229,408.39678827726766,9711.154623620589,8545.115737900558,2706.0905265772785,1761.5413729740792,670.313810107046,215.93828333015043,640.6070920964802],\"z\":[1163.714657910432,8697.665261871674,2038.4160967863163,3605.5239739328194,2791.821188492907,5648.222279865572,6049.366351166344,8004.1238116620725,2311.0207162676397,3933.262197959101,4053.9012318453915,1788.930259051744,3626.43224578264,4184.678990866292,2501.048974953015,2366.4113561193876,4290.88967908187,1302.0297708865446,7234.4526373784975,1585.0883148630057,8190.885038348772,6862.312574607406,4928.7557149104,8077.131652736056,5275.403679622737,843.2253058590422,4946.109312207265,9225.47843971093,3297.442117209154,7143.848277964241]}]},{\"name\":\"series 22 (F22)\",\"data\":[{\"name\":\"series 22 (F22)\",\"type\":\"scatter3d\",\"mode\":\"markers\",\"x\":[1333.5655933399992,8592.956410214254,5805.574747185922,5482.406017845793,9730.950743977568,9776.855959568962,3953.010575031403,6908.958964805412,8070.135122709051,4341.842294272801,7084.16351052254,1391.5835612015503,3120.4534216561765,9736.055432119332,8513.838120760087,3717.8016623995622,7171.346226306377,2909.693579908318,8431.704694296259,8298.720318490308,442.1330182436256,6732.339495155591,5444.823778482753,4371.551678220297,5170.14591409572,9244.725060314311,1913.55373919904,566.8790257104395,6752.285764083579,282.6044128552163],\"y\":[5941.252642408949,1840.2448598935916,5801.392295854619,6074.83728463186,4645.76682744681,2363.336474303713,2527.64078026256,44.75396368759932,9170.773246797698,5128.243674679798,1466.5169315797389,7233.317575063024,1787.6254405363234,2738.978624094417,248.73622192809196,514.5546920801613,9393.424225992769,4147.635669577774,843.8169836596587,9088.178821014837,5728.619891652873,8938.283918733283,5507.830479478438,3611.285583218189,6717.5259176747695,4169.8817020767765,2527.190225534076,7770.447489148253,9477.702736092702,8760.210424158935],\"z\":[8774.163895155229,3097.494363537261,5749.250215506126,6926.021385056584,7076.124508695252,2396.715156679906,4762.625533514292,5290.300212668243,6449.380082323787,7278.171772650337,8893.676948203174,7925.7515712395325,2359.75541330293,6981.265677363261,7847.1703869230105,9824.310280114827,2345.9214854085462,8924.658169936743,3565.1540400191916,2065.6901635723434,9577.802417669855,6233.088338689343,8574.091594848467,1303.6851324606346,3221.2108754716205,3868.594045052558,5064.771443306067,2097.135190982743,9841.199025522652,2933.0929195297226]}]},{\"name\":\"series 23 (F23)\",\"data\":[{\"name\":\"series 23 (F23)\",\"type\":\"scatter3d\",\"mode\":\"markers\",\"x\":[641.5739987416624,3083.182638879799,4500.431854779971,2211.2266349212396,9382.76155328432,7023.635086673246,3695.2262177197204,7086.837081267723,3621.029098998325,350.9661269713382,4820.7195438085855,8593.384738004646,2683.639001415584,9998.68018290291,8467.96503985993,9548.078052832829,9724.032019862656,4021.473497716046,529.5768337051154,471.4371321629718,6731.892612013072,7793.828751716222,826.8771709231215,5308.46328951522,826.2206201352917,9421.3784964025,3770.3240249021073,5844.543334142437,2016.0408538622087,6407.581405366037],\"y\":[4426.329060858811,4148.670054318607,3755.9613945616265,588.9546936401069,287.39969359387385,4378.510095342524,2828.864838085656,9885.312492023946,5028.871238978891,8846.30852722252,4355.601898202385,3507.156046085442,5584.321128304781,8371.568704895113,1061.629523472667,1920.5765473559256,7983.083836216576,3635.9004027689857,3323.115307238054,4090.7233244010667,567.1185274815072,2507.382992934393,7970.108298094062,2308.09717095797,5440.802530810593,8116.24378154861,9341.955730921978,9247.635418973709,306.0567392598779,3840.600944421553],\"z\":[5670.220033800872,2818.7531844798773,3196.537674110408,4300.480413820373,7506.932495836961,1835.2099680336087,2048.4535934382375,5960.262573117962,2621.0944529801604,9566.876071448622,9531.897155276976,7004.172748078853,3553.9180683624118,2831.17269123093,1115.4101714298715,3776.3777856346824,9853.375276695127,1440.1673716376117,947.8262831154816,266.7095995180202,6901.200891244956,6540.003226072311,5815.265565999322,7874.984724483655,7200.576621053955,6662.551743626785,2167.4803847151347,5001.345879548551,8010.296980615706,7154.872603442529]}]},{\"name\":\"series 24 (F24)\",\"data\":[{\"name\":\"series 24 (F24)\",\"type\":\"scatter3d\",\"mode\":\"markers\",\"x\":[5006.586782689339,9887.002096541004,1291.3021854403228,2060.2768270914316,292.53527799965593,5569.1964679165085,8074.031782864469,7495.483959410445,4443.50804837686,2816.189179597437,9560.142922967458,2101.573159773117,5495.757352833806,5472.488550993247,1539.7044240805913,3242.1290118409806,536.2292102892485,2771.5226175636376,7035.062066236389,7280.185206164773,3132.6370021792627,4862.392880313424,4475.148161150711,8486.273165611026,2659.4912907153157,1049.3070497669066,5159.082975242887,3913.087572427215,4654.904828265219,5056.740286587724],\"y\":[4285.498794694053,917.9803593406965,7641.834782923037,8010.3272692966275,4404.0914372285215,9922.699029191053,7208.73876110957,7762.939656436251,8788.48388435008,7470.492678106209,2568.4591260474785,2697.359328363833,4934.5645325590995,3673.903722895494,4300.475777408997,9201.407953900136,5156.043110988827,3742.274876470333,4530.490807106033,4638.348360138276,2079.037919943324,5436.197636241848,2412.643286173758,1824.8255882508547,1730.097320224493,3016.837271674745,8453.477857352198,6780.56926842956,5867.12611376651,3541.266921698388],\"z\":[953.1170890971752,8828.530019834838,8220.272493983299,3200.650355079907,6637.918265630836,1001.0808113905689,6389.906042230292,9806.315051047315,5420.223887762037,9147.358744804447,2291.3961100003853,2499.4607819006974,6144.638064289345,138.7861758716935,9241.478384567356,1293.4486086601116,6166.598747446794,3134.2549230019613,3048.5759357928355,7153.325589096281,2657.8308571386456,2993.4128782840808,7799.517050527925,7975.4351697191705,7644.608560593825,1615.9495465624375,4427.67402311786,7050.672885852148,1958.5691060945899,1236.7227789204371]}]},{\"name\":\"series 25 (F25)\",\"data\":[{\"name\":\"series 25 (F25)\",\"type\":\"scatter3d\",\"mode\":\"markers\",\"x\":[1602.6212259012284,8378.146294821632,5516.156762580025,3521.029464694406,3998.990047282537,7541.704152879271,2641.6043849174985,9681.268696376077,2582.2810178209534,7769.99781558462,1509.6798213113427,9775.707471884249,5191.962361471574,8271.449896741166,6208.264308977247,3852.0041621878186,3407.271049112064,5968.697834984587,8407.14799656672,3662.6029554193005,3448.7057533369148,2352.7908897074158,3168.260890770006,1306.0646649785879,4698.281470806105,4335.619459927361,43.885137443991916,337.850129039472,9314.191368289194,1699.7577099198836],\"y\":[6283.222574968221,5646.0295319285015,370.6024557158949,4028.1059330667945,3704.016661071926,701.841231025272,3970.886818159385,6841.421035887598,4584.7631381080055,4671.976761890034,2862.671865714128,80.02451081631112,4794.3610024816,7318.923278153994,5225.665888478384,2036.6863786720457,4299.897993062002,6617.646737996389,2508.300441973281,8380.878170181613,6179.575094411617,2581.354040198396,4456.801467200292,9010.301905982702,5316.6224990121955,916.0216951568101,7810.385626421637,5123.790969818176,7061.3683473764995,1812.8359009054407],\"z\":[7528.853268785537,5130.39833145679,4322.464381692658,2439.6393289795883,5873.927097074127,792.6766694824428,8784.59501822049,6506.935430797804,5183.2653920799075,4347.866468605061,8248.820319762548,660.9491351500163,4756.157435172789,3258.9062097629217,7453.041002108025,5395.705028055725,912.4825291907912,1717.8891130175623,4153.893197921893,7678.02532094988,1991.598846127165,7057.782240649791,5737.713222539592,3543.815719420628,6825.399640279313,4823.939930362795,4177.039710101452,1550.9485287302382,6049.858532625588,8415.137716439529]}]},{\"name\":\"series 26 (F26)\",\"data\":[{\"name\":\"series 26 (F26)\",\"type\":\"scatter3d\",\"mode\":\"markers\",\"x\":[8760.44787786164,2163.515614732905,511.9578602773589,7924.558935722642,6697.34116255469,3894.1693934602226,9983.977888738596,8094.369204224768,1435.6484755740728,4345.726906841437,8414.697801663688,7143.219402464828,7329.211258002485,3170.1658016345623,9027.14297248482,6634.214845414317,7152.9650700266175,4402.591216631426,3715.0835408487615,7521.598691921761,5887.852444059917,7629.706799156764,6395.575225476702,9047.59514261997,183.73092471981045,1016.7798256926275,9242.408824831535,5256.564340304601,7957.371701369303,4344.034940974856],\"y\":[4055.407736448,8551.823307605377,6693.963022912889,6892.877329775877,8413.100648322972,941.1881176388348,2194.3730916159097,3274.2809986621014,7711.366389809477,1400.5010329535905,1746.7455534807953,106.15398896124061,9708.229279307934,2130.101704830206,6999.833395996317,7823.420956074423,7775.063654726318,7387.412160095689,2176.804062321246,4844.0380644005545,2697.038765653137,6049.504990013712,2692.077642775245,5816.091965991782,570.7193639746799,3092.7245184215567,7720.085447446362,1735.60051183124,6114.3112475637245,5772.141002823558],\"z\":[7813.667187494324,7351.5747391836685,6536.121080948301,7441.814121748812,5281.154095763053,464.36503535768225,999.3769478278169,5677.548413230994,705.0081292660848,8475.25881528849,4676.63594538098,1647.0256476554612,3721.220010228864,9859.756393237712,4404.580556948376,4517.905092047251,9977.498910698549,2113.9015397083194,5030.086521650058,8102.677201970339,9049.606468672677,3162.497947513713,1681.0201319326402,6909.774479302383,19.025257412720322,219.99354512429403,3400.304402871831,5303.626646688209,2401.474925612136,8659.272615824595]}]},{\"name\":\"series 27 (F27)\",\"data\":[{\"name\":\"series 27 (F27)\",\"type\":\"scatter3d\",\"mode\":\"markers\",\"x\":[7849.367810228197,6572.0698222191695,164.6161637977861,3570.542232386342,5117.171635962462,8357.709207237102,5684.616710013926,8381.958589767195,1063.5859988843633,7130.543484138693,8665.073774832033,8165.588210050952,7080.96528549723,7162.360433615139,2278.1236423933383,66.75345660269616,3675.352438247217,8809.11973887803,5086.389305992414,9671.764920721933,9848.815425059103,6815.735199899872,2665.7522650998635,68.4971201011464,8907.00474552895,1828.3799655102218,7272.757776574963,9856.214103787903,4021.0900112643244,7332.63629510673],\"y\":[7386.792691598155,7425.509168976427,3640.819253170179,9831.513368134709,1506.003921966389,1456.171867565612,7685.51923883599,2235.5666426609155,2187.253415829843,1770.2504181525092,332.4330337023529,9158.046382459359,6994.231091613582,429.5336246002779,4176.87126729138,8091.214007593543,2754.1789734241975,281.1216636101521,3556.2272787901693,2285.6627761751733,8322.506913841666,7031.716611939794,1909.992737177867,9562.684389394719,8915.90635691929,1370.7137718973795,9190.47772041146,6260.427530438993,1998.3979067963853,9664.124599349443],\"z\":[544.0260409290044,7047.793630186633,691.0793864416509,5305.820282407797,6750.090783395119,9435.72494482338,5725.163910935,7939.5355189407765,235.6146056072217,6473.732616585493,1069.2290986744367,4454.524333830091,7874.733764977745,2340.228150868304,1535.4275770795266,3909.717140721921,3238.9116543776177,3318.415381397938,2905.7334696034163,8355.673700575937,6480.1733347570025,995.2059317396489,6418.1295619390985,2900.589664897816,9610.203033427017,5428.825856049809,9813.970866864322,1306.0568681768082,8580.635046544934,3501.484405658215]}]},{\"name\":\"series 28 (F28)\",\"data\":[{\"name\":\"series 28 (F28)\",\"type\":\"scatter3d\",\"mode\":\"markers\",\"x\":[6571.581461365608,7900.242367084423,1274.9544302721783,1706.6732504451643,3437.4773434312046,2660.590729707217,2289.994653726356,3216.3765486557827,3915.430933045516,3945.1211556086273,1215.1016913041747,6231.669352461799,1984.9220939635481,2540.8335027771413,1009.6160802939214,4340.88556592199,5994.350666362954,1449.6954436565934,7034.389423612205,9892.741225554071,7410.7118561040115,8147.136205865998,5310.647658728875,8237.503059419842,2906.2622983757547,9924.921269948092,659.5759183816164,4097.490436000906,1124.0386525503686,8369.743536826085],\"y\":[1518.5875380913528,1298.908969609045,7387.909839365953,6030.808847182136,8435.314274775168,3630.211468705895,609.1818797109527,6894.158013868501,7507.932630204065,7687.887011891873,6690.593930423802,2408.410652367592,8370.522024645265,8228.783368813825,1839.8778721684416,6496.078445376884,8714.723859938376,2768.769067625808,7378.879931904946,6236.539653894415,3794.0544268984045,4950.74480935895,4870.569215360023,9721.227408425835,9874.798436702129,5550.720089649305,6685.091537748808,8958.532373848842,5177.489783051844,5898.866845726733],\"z\":[2487.346563169712,3645.3772377274495,495.56317973692643,963.1764606243343,6552.404479119768,1124.36839208497,4382.8424643444,8376.534972754722,4301.3962014163735,8909.890918516363,4569.100582899681,5283.750183705845,8999.349702679194,8793.457935818016,8093.016248772295,7043.25332964395,1167.762761171931,5728.085522451574,7534.420235925852,538.9113223012032,3938.540661455703,443.4116199432636,9682.807623441702,140.58348807039266,7312.244420712644,2057.7358466441688,5996.669001482713,6197.761142935539,3082.4373073714096,5830.104503386639]}]},{\"name\":\"series 29 (F29)\",\"data\":[{\"name\":\"series 29 (F29)\",\"type\":\"scatter3d\",\"mode\":\"markers\",\"x\":[1288.2738112772695,4358.830743173688,49.22858442762856,1635.02641642982,8211.110851376523,8979.208601503493,6068.958517665061,744.3457699761136,332.27927529759006,5414.7889272023185,9473.283514842355,2065.267351326863,5839.690282762595,4092.8631484639045,7439.755469764013,4110.466869692119,7264.02853045697,3910.8580811028014,3007.3166627961123,5665.684564478758,9987.99044123955,3733.9552266592623,5603.957622340182,6372.143675617102,3770.403412106994,8545.846972407546,2190.113607309243,8255.598528423052,7030.400691240614,1152.5978098454848],\"y\":[7420.207318874771,610.759010437315,3216.912705583048,1247.7717399708777,1586.068424684971,3589.3021519914882,2231.3031959813266,1117.7013241892942,4529.79116969402,341.6245995898204,7576.069827277709,1298.9648145762744,2199.920366957058,3626.9525227239683,1670.093172870708,95.85403422010863,73.68221714404544,433.37022051813113,7601.008920397756,8023.80547047011,4279.305657571395,7338.78743213008,5477.8451433600685,1965.4818001155927,6926.307372860513,95.81545434497963,5502.153342133163,4109.385784315921,6887.942041127564,3237.978383442832],\"z\":[7893.435894328803,7586.597276151049,1078.8494379354186,9381.633821082381,1884.7480230219394,4129.422537060636,4132.253330446542,3337.4362891105548,2146.939226696175,9046.452829720827,6304.8994615354495,3147.1255242513676,1205.0676635824043,5341.729058724186,424.24972514546135,8725.87731084064,678.1032828642209,1901.4107525347913,8741.267929210313,8917.406723386392,2503.1169428625335,329.559861283929,9663.47613687456,9458.46571999335,3697.7230699891993,1235.338859416153,2516.771654032607,7601.332677883881,4669.6295630773575,3557.13900492727]}]},{\"name\":\"series 30 (F30)\",\"data\":[{\"name\":\"series 30 (F30)\",\"type\":\"scatter3d\",\"mode\":\"markers\",\"x\":[5720.838856473447,3957.3435408193545,1599.7209823434798,9854.849740169473,61.805383348255695,8501.463202210589,8005.1825285014775,6409.68586240776,4107.126597997876,5617.36005454311,9231.748461305919,9441.692281485775,3231.5132806455504,2564.383976135082,6329.238368746328,7788.250195353542,7209.034690252254,6812.315769663142,2532.120627667157,7982.608285429762,3875.3710089553483,316.69982409606723,6396.924477526087,9829.669983746002,7975.507035168758,2997.0295406287796,540.8950131311229,9296.968091388268,4985.990520552439,3432.005684261262],\"y\":[3881.366374861198,821.962357795586,9437.208999510834,2100.543812793445,8292.909876483653,2982.497506484314,6059.962377189949,1374.1544361285273,7679.38324425953,9885.463979159049,9941.941612411025,6905.7815186814205,8600.59360383856,5599.40689659788,8803.546290026483,7062.1291698681525,6798.361882271872,490.0286130219045,6488.810458738292,610.9640155327701,3234.3537493921203,6413.23749971253,1816.0222447862718,8001.835713496727,6582.118976583738,2378.597716449694,1043.963440600918,8268.104706750395,6508.3657842639395,3516.734398118719],\"z\":[5383.51550901524,1830.1265028543635,3533.5652423369734,3967.4567764208477,7220.706699160797,9293.890642940365,6779.567204128798,8651.061881745187,16.108706537135696,7716.367214633163,491.9837915346947,9793.485846869962,7206.813539617469,8748.264435489522,3867.6729653980847,1546.6708626666525,4861.050903211347,7566.860898213181,6422.7364887405165,78.72275510131476,1321.8387062757442,7576.017809795964,2904.023339579238,7104.133104483759,4624.879198776544,3477.44154809442,7577.206421094644,1982.5464583259923,5087.25009384045,4506.7118878113015]}]},{\"name\":\"series 31 (F31)\",\"data\":[{\"name\":\"series 31 (F31)\",\"type\":\"scatter3d\",\"mode\":\"markers\",\"x\":[7617.078739961519,1235.253640257009,6137.262843387585,379.5476058501646,9280.79656885127,4611.796114955995,1192.1888262418468,4808.234111399943,8562.370747611365,3684.7726409177694,8189.3847030775605,5325.090388128249,106.78855762895844,2359.135214053847,6237.673886954558,3589.3053315523703,4304.724710389517,8652.97295071547,779.6704652814412,7355.428749189417,2693.8807590145398,3639.9784882394492,4642.059922433578,3846.250625742176,6060.56545165317,6539.501496886013,2399.6785460080696,4399.763111864213,7965.214761612833,4598.288196737904],\"y\":[4590.563136031513,1949.3438666909124,8808.117662559222,2628.7196725134663,6492.966081685941,6148.259951900173,2006.7037422356937,9851.555343201635,3411.667693816711,5764.04087142926,4373.315122335065,1036.8949975893472,719.7367402063549,4345.221434202657,7362.474516037454,4845.279493042127,2263.222865790666,3102.4130165636975,4499.229649880785,4741.545208433873,5160.092216194487,4447.609870330776,3005.238061889006,6887.2573159807835,2511.0463786623927,700.0924978526823,4406.8344526098035,5013.248943128639,8088.690090293923,5094.243707408534],\"z\":[9739.396800024713,4431.991953932265,8682.844874230412,6414.044174739572,9854.910764235097,6070.234396642497,453.6298429893992,4330.971663074574,294.70542991113405,6685.538778853661,5380.264490838454,9836.473315301158,3206.914896099631,3276.0586976897953,2692.3706713287743,4037.1437282874367,5868.29606406336,8101.09748000451,8031.882536461322,9020.185299846135,6512.613774194241,5700.69079661308,17.50118543542234,6498.687068219995,3372.8790268341145,4835.663735570985,9869.95602760183,3510.7074181861917,2112.305564921003,6365.310541823591]}]},{\"name\":\"series 32 (F32)\",\"data\":[{\"name\":\"series 32 (F32)\",\"type\":\"scatter3d\",\"mode\":\"markers\",\"x\":[4805.168730991417,9573.101147217445,148.93310863946076,2738.0530158025063,13.73590188688767,6380.484870006413,3771.43279119304,5991.134424411657,7218.982826647252,9391.684503895096,5398.699401361071,8938.608357003775,42.16200799143643,460.46654228145576,3853.407447655245,8572.585362326145,7702.204113322937,2044.3048946470565,99.78647041864019,1610.9069632104688,8938.750437493065,6464.388128310024,4538.452312867223,9595.11201184603,7471.032782815594,8192.026796264063,9656.203894978826,4975.773675095498,8791.485396559598,3201.071366063801],\"y\":[3596.2790848200057,217.97654236515916,5641.808106195807,7052.907613402473,6044.636178625224,9117.919217672094,6130.528448671219,2570.045395801409,7720.409698296231,3242.3197149745943,4124.930272693024,8706.274122911078,8713.765493788098,6685.511340846453,6286.558145843255,4535.807450021635,8931.9561605331,9184.817208974548,3918.3201083599815,6160.795045611944,5994.461893275074,1042.993411624924,652.5519109757095,9776.033420560645,2060.671596691325,3277.2384954919207,8933.226171582917,1131.6577757690204,1278.6474405447877,2947.4626698478014],\"z\":[9231.821773185353,199.05141808813752,3811.0827006887594,6712.222574864512,5985.194273186891,9972.1656803814,724.6517744775949,5318.920992621159,3355.1194695309796,25.88953935936722,6421.520082698038,7955.581653450433,2083.0083966623615,8705.066755249763,1746.8681679885156,8174.7089637084955,5949.618864203116,2632.2122240767067,1423.8542501753116,2445.4444688206345,2648.4205249538927,8598.924611029079,4047.5245414985293,8298.438551745208,9242.593806292009,845.4569382583244,1511.7537882252109,1498.5553308820708,6799.477082738475,6234.848164151527]}]},{\"name\":\"series 33 (F33)\",\"data\":[{\"name\":\"series 33 (F33)\",\"type\":\"scatter3d\",\"mode\":\"markers\",\"x\":[7448.380204242892,713.7345229854086,2282.597961594869,892.4826602412217,1025.2750407910605,3744.036639081667,8330.257637989176,4508.888398129506,3280.163753008062,1533.0978807873541,3160.963920012326,2693.0443649077774,8059.599485946436,4904.931166756068,3519.8358814315866,3515.417750558826,8587.560442584345,4252.203767226977,3316.4313177447334,1694.4047587456469,3705.7265421551565,4247.8344804805165,9403.278453182958,2756.8030990351776,4907.565426101301,4059.94749157482,3805.717625053782,9942.396492754682,6430.938520316468,8520.931326790256],\"y\":[8637.49126265249,8624.684995577521,5879.013340201387,7234.548364311043,5922.8440955148835,6584.247074386191,2106.848513200533,6700.7467266568265,9594.72745538235,3598.1756873934014,441.0965353995744,5196.027460105397,1050.0279198225792,498.47828991789964,2692.8430942135997,1367.9267276797536,2816.568386541395,6104.289691166973,878.6865244037201,5285.368764919428,7122.956879870527,247.19466812990197,9082.733522824408,5032.359032835342,7461.191829257015,2485.9164039666493,7472.2678940053975,2840.677222954585,1593.2522562561026,9046.070636016617],\"z\":[6122.427254085389,2227.9468911211443,3876.7370638635102,5022.651125656366,4010.2997748566195,1640.647385434436,3270.940829785347,4947.351567952264,306.43248100473807,697.3502687339461,933.5836839556299,2449.794050413232,921.8177655266202,2285.653718253071,7929.741953645693,8931.17919860875,3161.0089228132433,7487.00284324242,9248.351008610882,1920.8303984858367,5287.085072160647,586.7747058559758,5057.984501851926,6100.555632468016,5821.774384132281,8272.72249017681,3932.4363522795456,3858.70519460374,9484.110155977478,533.0651611467218]}]},{\"name\":\"series 34 (F34)\",\"data\":[{\"name\":\"series 34 (F34)\",\"type\":\"scatter3d\",\"mode\":\"markers\",\"x\":[5637.967344730843,7675.255898687066,2813.585140964244,736.2225378980713,2997.8995632466253,3641.2041505388825,2728.8397244334174,8907.38716515221,3336.5736121958657,3980.00589186097,5540.496772785405,5312.841087639815,53.51111358921745,6565.753636688767,2266.842346632715,1121.1142697572395,3989.953066129357,1122.2322946807683,8493.62059093601,9130.797835253847,2423.7716730741554,5038.95157271121,3474.2923483760424,338.01871668889373,765.0836621877665,6554.702887653494,3684.690105697276,1462.2905506520467,8323.718885297505,9436.14363769081],\"y\":[626.0688948979409,4457.656678590522,4881.026547841506,1218.3657045264174,1313.1457532100965,1506.7462394108188,9222.332780283628,6576.354022163739,2588.781481306789,8028.56328702258,4272.684459377638,8460.700744716929,7174.553889247066,1826.5386209902113,6027.351891060897,2257.8862400680678,196.53472712145015,8661.569249480483,5079.879329299179,2424.8981403139956,9818.171176719072,3255.482105156563,224.3136691001679,6799.906128672694,4567.245408551682,13.551937853768514,3344.5576512387843,1105.172242121688,2961.4661270971055,9600.417700856866],\"z\":[3602.6301485460012,5035.316668593394,8117.322762271327,5911.9335699806115,6798.940382396125,1763.5275339674617,1169.4122753918157,2956.202752767253,2701.5129756673628,4700.241296803221,2532.526111918445,2690.23988826266,9127.426005122481,8903.286212274726,9306.363482272765,2954.414798863172,6608.558827963619,9665.42497221678,452.81271371656715,9305.029349290977,1585.0624100748057,7494.691179453999,8768.325917475717,5766.085840076209,9243.809860893192,6954.867059052346,128.98488056221512,7304.508240104852,9355.396595091821,6647.8974918618505]}]},{\"name\":\"series 35 (F35)\",\"data\":[{\"name\":\"series 35 (F35)\",\"type\":\"scatter3d\",\"mode\":\"markers\",\"x\":[6003.436249504404,1178.7760487864496,9762.09834401554,8996.998789324267,4808.954123850273,5219.142256574897,2530.5195558479,1428.662360097438,1328.462011385474,8568.300599512084,7206.491987158976,5053.7154208618995,1111.4299567720354,4444.577351828973,4096.114095838626,3012.0494991006462,8549.134040012048,5085.423193399341,8045.648298841137,8272.579801015212,3144.849831758806,6187.183295938818,9804.320175038962,9869.458149339076,8392.125096189455,1877.8282462409245,7727.894403048792,7307.504844740133,1629.3585263581356,1542.5319352220347],\"y\":[7317.230218653682,5184.289064774992,1256.4852334708432,6667.682554911192,9884.8417741909,3953.231562717937,9779.653673732999,9277.12128269733,4503.828036725519,8191.5615886955775,7292.34958751813,3505.1005726146345,9317.350602698076,738.9132029397949,206.50791273935653,8383.660631797331,9273.18101930588,9636.793442545373,4314.727440442476,3017.826566527497,7396.654070646224,4926.11863963794,9594.7793618834,4980.227154324608,5826.70052455227,4049.455039164257,6560.187561307486,8977.444584479446,1013.457473394932,7856.566094535168],\"z\":[415.72379784038384,5623.606120017173,4712.28154006758,4026.311510191739,9794.252030010586,9502.42793963318,8707.822541124182,1094.9020379276785,1431.4228505395154,1607.1306376329487,6563.135864293157,4219.965972674502,777.3090008716166,3718.34442972113,112.65107669611085,3311.83553500913,1249.1366036078432,1313.328212042053,1904.1289196953014,5227.914467923133,1596.860412940202,7195.525498024259,7343.579679335673,4352.942959456683,1683.3967748227385,191.69098581190647,1908.4345190629303,77.4264701839833,1873.9138367522246,1984.514286053407]}]},{\"name\":\"series 36 (F36)\",\"data\":[{\"name\":\"series 36 (F36)\",\"type\":\"scatter3d\",\"mode\":\"markers\",\"x\":[9468.09691384215,5438.451775065014,183.6522181271827,431.88046154686856,7487.320155347652,8501.56251575922,4351.332750913441,9569.604286891077,3686.6987926446573,6939.32151119872,3085.2771849104065,4902.678283555175,6595.873038544652,6701.643371681639,1871.9574929785877,7560.782431567001,9358.890428640725,7674.927578111035,3941.7568428229056,2426.9984199590813,2137.48235577209,2791.4805809437494,6254.3093153589025,3444.385858733805,3506.851439764651,2177.667314497994,3695.863246543204,3963.26867303646,5349.889244646069,618.6830269051425],\"y\":[2073.688822150892,1212.789999812205,8929.57229267241,4869.794881911461,1947.6308198415481,1763.4999136478168,2055.6145171850794,7158.350024429903,856.4842723573373,9193.433430075956,8560.278644949227,2597.802386743364,1076.9490882120735,6078.3501479730985,1659.5818083228696,1174.4666979651363,3695.4990137366162,9897.500917642077,2199.9540769762316,9469.654961991648,7478.578219645744,6479.499055697455,1276.7422374559078,3344.3095464092075,2794.112266152602,5208.567662144998,4259.772833938453,440.1969660028926,6667.408316565262,7369.644056678017],\"z\":[9872.520268761156,541.1795196026603,4947.085573399299,2731.5247394498156,3645.2576629763644,2590.038893047241,1511.7666008839326,9750.43198060895,9798.885592111634,9470.771176842662,2465.8269817040646,1622.0953752000444,9414.973546399364,5543.2373100431905,5352.591125529705,3818.63627912975,5608.870039773236,7356.492346527532,9555.926381470696,8717.252005271263,8346.568020120867,4969.083002223353,4266.280593320199,9460.895121492737,2532.3383095179706,9869.047253174744,4654.772654855911,8286.852165082077,3042.9758072733216,5613.306289297464]}]},{\"name\":\"series 37 (F37)\",\"data\":[{\"name\":\"series 37 (F37)\",\"type\":\"scatter3d\",\"mode\":\"markers\",\"x\":[5229.033477606105,4217.321281810189,9495.826368436507,8995.593880134455,1737.0677793740242,1226.8010051654687,1711.5951034015675,2804.0152164443775,9440.488335248765,784.2959552474305,4069.260107881284,6043.790098863874,6096.047859571115,2014.055271202254,3249.250188454824,3877.6768482880507,2564.4793259131684,8626.760465920352,9222.36492007341,7476.03836450909,2608.224821353161,4243.780047692638,3765.7528428763053,3470.454762486026,6144.718306701539,6770.316737264952,4273.582119565887,3769.2452222931483,6989.461944759097,8068.97124082242],\"y\":[3178.875529377232,9120.216770881523,6953.21520642877,7343.45086016647,4914.301315474451,3995.4037108234875,3050.193467990383,5362.857856414655,3013.5468060374783,6124.522910109618,3529.25125231451,1940.1901080749872,9691.223391069869,1318.3155773697908,1457.6037481680426,924.3932487272355,9038.084689034431,3099.9075060911828,1666.7165298757802,5373.507659889289,2829.6655063229637,7101.762508812437,8012.5756900881015,547.150960609113,4870.2765679971635,2187.768558054729,3107.6229470220183,3889.7873914926586,5780.620917351063,3824.439791539722],\"z\":[1949.2231088825185,9271.934703304652,5186.122360862967,352.1747447469592,4199.608031944142,7414.659047914614,2374.387338037123,9496.966148848209,7264.81755742042,5643.419512029161,9664.049585739158,714.9047140824605,3775.239518212468,7900.520105810037,4963.5725399508965,8776.280710432777,2587.9245078741333,291.1311669134853,1297.4154720252795,5373.030672526903,2010.934731064724,8346.052626572897,1438.2954606975673,8472.740340980097,7592.558747732582,9655.079648842006,5208.107545013422,3644.357284679668,4523.306441932562,9558.052080328296]}]},{\"name\":\"series 38 (F38)\",\"data\":[{\"name\":\"series 38 (F38)\",\"type\":\"scatter3d\",\"mode\":\"markers\",\"x\":[5496.390399236124,7645.229102015945,6466.17365616912,8176.358711670941,6594.055794565033,2186.030358041878,8460.74734254265,4225.875621556194,5051.428470473561,4979.59463864202,1439.295487645068,4773.023987590006,8943.466744494848,5931.627142999615,9848.068605436842,378.82702010788915,6161.369634624252,8645.718720458533,1884.6160620573394,1921.5613345853133,6148.596035033204,1292.0393702470178,3941.9987962888513,8796.787143979,2360.657461983816,6328.5429122900905,6993.355658863646,8164.2585133188195,4651.8681213638,5565.464655475182],\"y\":[2855.364043785753,1444.405334954848,1778.5673409036162,5628.352357180226,2536.7088439414374,7362.793616015735,4257.157092904986,9001.81493485992,7207.753422771752,499.16213811388667,6926.623493364859,7525.637678696622,4720.185995189557,518.3499819139304,8739.042357232258,8466.856890622064,1060.4893388354642,43.61626761351434,4537.894984397801,8105.843125912975,6638.6636281577485,8478.57407660482,9882.848648455843,4151.397873070776,1893.7094777413488,4992.149175470344,5340.984823146333,6239.315827208952,5339.953083963393,6351.685399267476],\"z\":[1088.2865626426963,3270.825647386786,9883.377947218158,4322.519882241829,6151.523310398905,7411.766585934165,4.704182553461056,2948.052287422256,9169.502409544493,7200.319271352142,3236.033441103763,8182.53978553684,9163.979208845452,6400.557307595026,4250.454521158154,1069.5463339902044,5484.353210691944,991.0404008588824,8839.090786760511,942.1843520930429,5826.59996538707,3992.124970069776,8067.6346880007195,6966.987125616113,25.71704872731395,6712.618231583858,9984.506462475289,4761.450291761558,5182.2959773684,5435.856555958301]}]},{\"name\":\"series 39 (F39)\",\"data\":[{\"name\":\"series 39 (F39)\",\"type\":\"scatter3d\",\"mode\":\"markers\",\"x\":[7395.345659045343,9785.992028698278,4607.651841320656,4567.242365551134,5423.619751892665,744.2735545148471,9058.27812040275,829.725827147495,1844.7200634579508,4321.5386342634965,3779.2163953261247,8220.672266115042,6510.9849650727,7248.817419370543,8987.263306142473,133.00613718135733,3577.6760604753877,2901.559132984534,4598.763163739398,3295.480942846549,1695.003487495359,7424.448028003951,2243.060193391039,8001.370981080482,2848.881846351323,4719.872219821808,8901.51961585062,471.8402632573548,113.17160814371397,545.7043222619418],\"y\":[6873.346319136475,6139.6929764272145,8218.739757591775,3438.7709800226653,4193.265631497113,7141.163670199198,8549.754601621458,4213.578769775477,8112.451827640659,3367.8590103314255,1945.2028482479811,6381.574814651618,1802.9245003625526,4057.91824672696,8513.69981168726,6994.4205307492775,1056.9580094260566,6094.90680716935,3562.2383464033624,1135.4605046236134,3426.8751607442473,5934.917362408903,2694.6019678762677,3566.772309225259,6986.928883032461,4396.801322262694,7152.746918814563,7884.884271209828,9697.802588182974,7427.407854529349],\"z\":[2554.5317689577696,6946.454553555007,3215.582615775022,1393.1615063026613,323.7555016046001,8295.905685157113,6910.895831022161,8451.263052672992,1313.5428275444895,4860.209963011449,8850.218557684491,6118.248171588112,5391.689869253292,4271.73012526798,540.2069525063769,5280.595823653525,9086.666444980572,9838.218165478902,1347.2122727964452,2581.5287947947263,5785.545221323616,2399.7768387861242,6677.984772328465,6370.102125711928,9430.208938294714,5095.797918994189,1243.889946127864,213.12916778049473,3175.7632688491713,2410.5887828937657]}]},{\"name\":\"series 40 (F40)\",\"data\":[{\"name\":\"series 40 (F40)\",\"type\":\"scatter3d\",\"mode\":\"markers\",\"x\":[5029.793165462405,4347.448280371631,9055.16255296743,774.6032003051317,4950.095072048445,3389.4846764064014,3336.631045083351,468.8971856244573,9598.229226801546,8121.016101660371,4965.544459781479,7613.631352782988,7982.260068983741,234.50596175497716,1250.0110401224763,617.1488843647854,5688.051580979962,1548.315440301472,5779.472857847697,7620.351966535109,3522.795949674944,3391.567496894663,8458.219448725426,191.81571324213388,4365.533922379108,7610.378804125013,6490.796991755216,3812.2701182002206,3687.6106802756017,7961.636739299101],\"y\":[8173.85877808075,7532.790942833884,8004.85294711049,9537.450070993207,8429.0907754906,3599.2385292313033,3384.5710711436573,4302.8500823892855,6154.424659581864,2806.1922670126473,3054.325240435859,2831.2794967988507,8675.821392151032,2876.8263841897656,9145.71816205683,5886.854234883198,7849.493334878685,5260.878650042867,8655.30652824656,4629.337854395052,5694.510236194089,401.0637636984538,7816.052211308431,4907.222157147263,4828.306009481841,2738.995536854413,2246.563013186219,9356.261086451219,432.69361844152974,4514.866825874],\"z\":[2481.695537778109,835.2552541943114,5995.559300902649,1760.8625196368343,5786.9302156951035,2107.840766785095,4653.497694853201,6796.462914403447,5520.247760812665,9618.487883562346,1603.218645157226,9004.512673767671,8729.06881704294,3712.868549416214,754.6410742587717,9700.124526881758,1156.1475729701287,3717.202971992345,566.1629200424578,7500.197730724299,6377.133744192411,3918.1522095705045,9832.676213302115,7759.524392535209,2403.8510456080676,5674.27353254071,4089.4752863670283,3360.1726968352486,4761.164577949757,1642.0107853291622]}]},{\"name\":\"series 41 (F41)\",\"data\":[{\"name\":\"series 41 (F41)\",\"type\":\"scatter3d\",\"mode\":\"markers\",\"x\":[7250.2822342222125,4424.0260318710925,9781.638441700934,413.6420797942564,1115.1923053413605,1364.0710307824577,5661.013896773783,3741.565455576081,7464.42288142859,9098.221972872938,1678.8660178725556,3962.74938206207,3596.3223845019443,220.18167903038233,7912.623798368045,6239.1353765704625,2373.1797938035447,1455.0296004391173,8759.470543197629,8794.226559868888,2105.9483670887257,822.944222994041,3629.4626665733285,4453.053846200202,9939.077565404044,2592.660613480133,7284.541899171224,8482.162640176599,4789.226136814886,3326.970233372285],\"y\":[471.9365235045858,978.21498681815,2346.706971699409,5105.775034947972,8736.777076335627,6868.2589679553075,5166.088912047087,1357.907159964149,3597.586661920348,2961.6646020833236,5452.465888755705,6641.131800405063,5629.622810830659,9433.18444717568,6792.474540259357,4180.453969981676,3424.885141053996,2618.547112342674,3784.2251020668573,4008.0485840397782,5883.927701443205,7068.443534384694,5287.884498203182,143.8440436132027,7843.44185255166,7433.723192550991,7848.733093519541,7413.984601369575,654.9076976608314,4944.068200221678],\"z\":[737.0885558957418,7225.105657437592,3.4348142519291525,8994.36562142199,3004.574677289893,6895.557482916749,2992.244681718135,1667.4504759025176,5973.787758676557,8990.413254763407,5317.077323946345,1898.8523616506902,1658.491091153983,5515.306989522439,7216.124791855505,6428.620765058664,8754.047822789335,6794.841845150288,3804.9334073384366,6687.264454405987,3042.879021713272,6394.519122275472,1392.0334530641421,4327.293827871021,8327.314779175418,1540.838253727147,6419.893925741579,3238.802756044479,7332.2780326621805,3152.421088041665]}]},{\"name\":\"series 42 (F42)\",\"data\":[{\"name\":\"series 42 (F42)\",\"type\":\"scatter3d\",\"mode\":\"markers\",\"x\":[7787.116966286666,2576.9859042518196,9412.82771765045,815.7191038728595,6481.62693840178,3581.4362411450775,3356.6591807332047,5822.061791157293,8690.924418597491,2781.5215302532915,9089.238305482288,9728.511563554062,9854.314461468299,5559.095080251618,1669.329578358909,6813.189578871021,7483.340882919405,6979.240890531023,4605.250367919827,6266.445174263779,0.48631277173583065,1301.719204766204,7227.26233492499,3992.4381113019135,7332.527681457274,7650.217692873135,2619.094643614649,4491.411612419392,6543.76698422861,6943.476386944391],\"y\":[8441.665071031803,451.13588329393497,2405.6774776556667,4381.805038639894,2874.6464145496698,1396.7013727158894,8473.345262456605,2534.461068975581,1856.6029196436707,3031.050194428716,8975.401237460019,2387.816816433298,1822.0026880386342,5744.331764601343,5622.979633693029,3591.1880436055253,4213.482875549846,4178.376251699646,6304.5560912868295,576.6606772309435,4190.330281195148,9703.27811709697,4557.353291420032,8231.192294790137,6159.215928557103,4196.28913014901,9692.329423848973,9363.732576995288,3020.7948544183337,6608.92116751842],\"z\":[7498.589026074298,6337.0466421459005,4355.8700258197305,3466.3642840822226,564.3896388519298,923.3875293823279,1167.3881302524858,664.0224548148188,5425.739379866666,9695.113042540228,1249.621730559176,6709.185153724745,989.9163180038295,7075.796927089825,9773.46088547622,6901.5397245067525,8980.060632455872,4554.335839825816,4256.8250615030065,3854.447359731846,2508.323872139565,2504.0078940329613,1731.777686179774,2229.5982637590673,3308.8880121586308,550.392592544906,8625.005305789595,4590.871399400076,1648.4895412567535,3496.512717207586]}]},{\"name\":\"series 43 (F43)\",\"data\":[{\"name\":\"series 43 (F43)\",\"type\":\"scatter3d\",\"mode\":\"markers\",\"x\":[635.9044554588634,878.9238405761013,5480.920772946036,2440.5132292991107,726.592340860468,6166.23817986797,7023.298574665097,4910.646130108898,8230.740745664385,73.0592006255748,5605.729689031139,3594.281298965557,1043.206547998995,6507.8593766606755,5382.319012668828,552.1184220599429,5870.011753644102,4241.665697859394,5290.303579418908,2685.727990949208,8598.30790422959,7233.794345162824,6505.420316594131,4665.9996866261545,7988.528747165989,8597.23387508273,9565.44137925312,7532.034406285647,1096.0231978812851,3625.1272870078465],\"y\":[9320.144766808306,4734.4660891967615,8097.033611511545,5395.504645145471,914.8077859417492,2524.1511901622493,7523.960389907903,1129.6154303926044,4125.648632257433,8276.622349322206,307.43938817846094,8699.923473297078,6539.461157563757,8594.649740073351,2477.827226937086,467.0220008113257,8306.020913582184,8845.710647336125,1896.2778208151842,5970.431521058906,2490.6675937194887,7168.119092066318,3965.6620105532893,5906.448093978995,5415.795694763063,8919.021119426514,4914.167940995101,7296.912501370562,803.8147192050127,2039.416217289005],\"z\":[8949.492511199915,3785.9710434562776,20.46955613923318,9875.81303309758,7349.117230493543,5597.604793299801,8266.235300876493,5625.088525161302,3382.23338989732,844.907194542257,3174.835687909642,1758.5641168668253,6851.4690201463045,3602.790935055784,7951.755186660384,8533.275634828982,5997.635955493455,4439.0086886038,5921.948317628974,8012.854677447309,2528.307140412244,5944.079482519053,7154.776963674279,3897.4055604380765,7611.100844161319,9208.907177518835,695.5294633361952,2901.20300968416,2815.131856247666,7169.589489382884]}]},{\"name\":\"series 44 (F44)\",\"data\":[{\"name\":\"series 44 (F44)\",\"type\":\"scatter3d\",\"mode\":\"markers\",\"x\":[7856.713302873516,418.9978108118086,189.17005656318153,7272.115935047532,3008.6302102178797,1786.164767465529,9932.617877897665,9005.349839404562,8357.579971578092,564.8850472954359,2445.5049905880487,1508.9064885582825,8311.360236077628,6978.004977767475,3936.2684057062947,2683.2282317154045,7205.563449870467,2864.1666199149117,1221.1695127855282,4012.368481207692,1400.49577185702,4342.260655965162,1866.7774161610796,4655.700932100976,3057.373951782637,9750.204806050837,407.02373782708355,4272.965684251788,8263.78188314776,8362.500394889898],\"y\":[8.912284628572742,6517.775334485515,6602.198712757305,4892.97953046521,1666.04867670495,4167.903202581189,2741.7376943185536,5853.600301374686,9766.729026502277,2456.378010153918,3182.0634385750545,6467.110081202455,3713.406156400971,9325.615887431002,2889.7806647137845,1020.8409391343076,162.93277376029258,47.52155554403337,7241.421173074925,5300.859525696458,9412.053054148544,8935.69173275948,4423.47876206494,7060.146663379346,2470.1985253688163,2721.5629906484005,2238.77312709902,9351.432651285048,2441.719240908957,8574.541833868136],\"z\":[1129.7479091705663,1994.7707394114743,4982.258753558568,4716.864113131738,2153.1425886336997,8451.87963269077,7799.061646168547,3117.1301632167147,4626.800792270878,8943.745916965892,8432.577449264449,1842.1679758136622,3218.2059350373493,5774.920497500358,2886.8080855089106,9305.075859592806,8355.666567841181,3517.4095894952775,5068.417114249682,3868.0050963725744,7016.8997066588945,4958.999090428835,8449.703188550793,41.43927393271185,3186.087481724411,3535.3165791444085,6888.115675501554,6867.43797898476,8569.313350672504,4341.8818309181015]}]},{\"name\":\"series 45 (F45)\",\"data\":[{\"name\":\"series 45 (F45)\",\"type\":\"scatter3d\",\"mode\":\"markers\",\"x\":[1115.0674610206834,4982.505734552096,4519.609925670199,8761.85083727821,1049.38228811159,6326.461654573955,5546.679665392703,2247.1130195939672,1795.7844262439414,4496.8782005771955,3272.6789999388216,854.8526030852577,2956.427735628565,4344.367701798344,7244.278439854002,9768.63923141665,6713.526358272838,6562.19328787576,5622.551797357427,6222.5679142768995,33.73906464947951,6744.388635886384,4446.060476041879,9998.91447654293,300.0307952385339,8669.76997363337,8898.839148039187,6984.237831967967,1694.3125980149332,8414.930798000654],\"y\":[3813.811139343715,5145.799784322039,1734.244231094032,9307.50732651945,3503.4911146585555,7729.636881462399,3510.1580181120994,7701.713600816618,2933.660997135538,5483.568667926078,9373.139437390068,6091.340345071158,3242.035753975846,8272.874122222016,6092.884162878834,3171.1214003503474,4652.756656102916,6583.33309361249,9834.022440721954,115.56853760601116,8948.88725406822,5095.769999526308,1692.182280750183,8565.085626204665,1838.9068832982337,3768.1991024394347,986.1444736802582,8592.368635971363,2789.5318453731666,6676.120379444696],\"z\":[4020.0152264724297,4267.807538087109,6196.0146628411,5238.466931948987,609.4236745666126,350.8052568777198,3122.408563577064,396.1612921581359,9308.328716554997,6104.6339508569135,7268.106324456423,7812.187989388657,4978.096845596526,1265.650381583402,2303.2919958561984,1226.54571074574,9108.094392884035,4793.39845662282,264.773685669103,1726.3907672713608,4127.108652553749,9186.32464811365,2314.9943120202374,4881.145815967495,7837.499397657689,1868.5419017592142,3840.838928239575,3444.2875313036534,3059.053285705803,436.2743815197423]}]},{\"name\":\"series 46 (F46)\",\"data\":[{\"name\":\"series 46 (F46)\",\"type\":\"scatter3d\",\"mode\":\"markers\",\"x\":[5605.197511861668,637.9937877922437,587.0939218004401,398.3230827404527,1463.0555429559445,7913.775287092716,649.4814038690511,2453.094003599934,1015.2265592444265,1521.6709234175619,9189.707928243603,1315.4321520622202,2496.6581181049787,4222.543824237356,508.3806014046166,9639.70990825617,7182.578432054583,2042.4611772687206,7062.9523120254935,8681.321497945844,1644.5736351854723,1095.1014384870773,555.6495961082952,1996.935369402585,8300.017982063722,6187.579146240779,5832.115475080942,9704.563683367995,7872.105035529456,1177.0341853125465],\"y\":[568.3704289680325,8607.70891681523,9614.05436722918,859.786136979418,9241.267075900765,7833.549643489769,6449.9029251444435,5551.805614786997,9457.69686209539,543.3328248906155,2545.6091739991925,2458.70545605163,2360.3825396340817,9743.842612986264,248.0344678086477,2435.416640918012,6533.168853740003,262.01781670901926,1815.689768629698,6800.152124423814,6596.30165343603,9540.494649357108,8913.963620098808,6494.232569835041,3512.2664538160407,7070.052192992039,9458.880112667946,5068.785400383578,3515.3305858028248,5995.6447254919585],\"z\":[7067.255409167072,7731.291352036621,6533.0159045761475,715.9045430884114,3107.4611659993425,999.4019200259808,2985.3041564695673,1141.704885042415,5143.816097266583,1386.4062670845778,9927.458533147028,7687.573404700179,8428.973634153303,6982.176125806984,3644.9170250605243,1040.4512732059402,9022.481859336396,2795.374945280793,6013.798871346652,7283.496680267729,8100.0367478865,9287.165419755856,6208.138762422141,2048.330783304211,7066.768637209265,3653.607860207998,7665.039683770806,7027.334102219958,2199.231882931548,5103.390213622125]}]},{\"name\":\"series 47 (F47)\",\"data\":[{\"name\":\"series 47 (F47)\",\"type\":\"scatter3d\",\"mode\":\"markers\",\"x\":[2611.5233354736165,8398.296033942173,5714.596467305149,8629.48737710634,2911.919370993501,9496.932053235227,7401.869252783663,6587.799830543725,6512.228938080824,9418.479789659219,7248.798188659183,3772.7711615194003,3337.964867792802,5137.788131538675,4859.444023721758,9619.442104609963,3144.5550480038933,7208.025339654883,5881.228435850165,663.3517037337,524.4696172878771,8131.322457701592,9146.599861419092,7454.141746947257,9042.815250127445,8090.381041774044,783.2830471957009,2745.685986962767,7303.211901567267,4888.274081543867],\"y\":[3158.4078229618626,1975.0068893232042,4638.353972622519,3664.3723425843746,7195.641887053667,2794.2048941314247,3074.72437629283,7237.529411099418,6340.776442962471,7734.071779623369,5238.522323487862,9773.366707794197,9250.048416345755,2955.0177968217126,4949.928525237443,4880.698414542435,6136.803386277456,6480.390644353796,8395.42363281129,4212.840378000931,635.9375945324364,1309.2230388231708,8972.944360700296,4182.751999039417,5031.88265337169,2369.893002203608,8172.242174565197,6496.6617134660555,1744.7244785796934,1403.1375971805182],\"z\":[8182.891544449428,2869.0289413500823,8080.378381391058,552.3153693149108,9314.967237898863,5502.401905551897,4424.5672628151615,3690.7581978034023,6772.490690513429,2698.92897789177,8296.68004654911,4330.519863811774,6837.3260962474615,3315.9881910452214,7978.416156638564,333.76545489770757,2101.2793108384344,4686.602589758786,9793.447652198287,8587.51383067163,9026.736479598445,6096.008335346161,2538.1602793622083,7304.386813055965,8821.254517893569,3938.950886661666,1049.8638688595875,9676.481218008304,4379.09247076431,5277.982787346157]}]},{\"name\":\"series 48 (F48)\",\"data\":[{\"name\":\"series 48 (F48)\",\"type\":\"scatter3d\",\"mode\":\"markers\",\"x\":[8447.68702388441,236.42531641220654,1872.7555296306864,3681.24545472554,3192.7032752032214,4469.1396023325715,5470.195846612671,4938.913197467658,2787.662864721977,2969.772442390387,7608.396973294462,540.6864149899715,673.0294822721905,3757.7351584814032,5271.645071469125,3642.4242232298775,6674.853414865907,233.71358907365857,4802.8670020641475,5658.204012695282,4221.3384110742145,7705.987311113423,3918.996124312226,1584.8064942494977,9468.789248294817,8414.339759857832,9806.402487621775,8698.821611668713,8463.95232185205,3544.2963320371855],\"y\":[6440.0043122379975,6362.276245430309,8518.593876999923,851.379771363373,2599.7525459132753,4330.890405784429,9083.483982744685,8204.526588845314,4450.76326347005,3179.7635880699936,5582.7862853148235,6609.761387368654,3008.444819865668,3244.508878933332,6906.1799719920355,1089.676101417867,7327.55122096822,7821.540978830328,3554.868226421938,4171.219057500088,8834.16510577456,2279.439188121831,8798.956168402121,4673.7481665060495,862.1976261621567,3204.004824874497,9627.510546474037,3991.2567379476604,161.06482163090297,732.8323835484518],\"z\":[7758.937776994571,3127.1345893725156,3908.783913658842,2830.92454183261,3528.1511998943392,6366.77877907571,6594.806382560584,2417.077396992265,7078.318062126585,1662.823227961342,6029.487259619558,6971.467905079783,1958.8163155671111,3559.704733272272,6692.161652198089,5538.082508612339,5967.345378300356,1798.7457215674563,1647.3860475326685,9881.318128574967,2872.977648034556,7621.875479971375,1338.9736096735905,4964.305937125737,6518.253341510311,231.57341561278244,8714.032292304842,8887.194268459703,5722.258294952557,7866.567638778718]}]},{\"name\":\"series 49 (F49)\",\"data\":[{\"name\":\"series 49 (F49)\",\"type\":\"scatter3d\",\"mode\":\"markers\",\"x\":[5334.295432459245,3956.8447850039256,4392.946339032412,1517.2756408653643,2399.6088178216137,8655.0877779618,6305.800387450078,4431.925977315074,3938.5188483875677,4930.895332870607,8117.251569729391,7253.755436760315,6813.482761893411,6462.5259912392075,7355.105368046085,6881.627729969827,3643.3034983960843,1318.9006947691696,4364.5512283844355,6960.870842188545,262.96433754704583,6795.178566458767,8487.160935297836,9288.090396824118,8921.121622002733,5105.691899442853,9111.60744174754,8353.157215941144,2058.0892046071185,6088.115654088357],\"y\":[1658.66698346794,5743.536566406996,9212.228242444258,7105.941464033837,7049.391856173507,7200.562211948297,1370.2316668938208,932.0321070635407,754.1720086808045,2744.227555061449,2906.8725790924286,9554.237387989497,4131.731813983534,9472.506263797328,1152.3647393015924,5564.7504476150025,6440.932980408135,7393.17769295019,7580.558405388692,3078.0928337859546,644.5882221790611,960.5793841049315,2628.776609765089,6968.314597737848,9923.312906468947,2866.6636571812755,8240.17124058047,2624.201880948761,4678.774442936561,2075.190635001091],\"z\":[8362.060061917578,8391.986417536822,1729.5246945411702,5089.8395644963275,7838.781211086823,9408.255055358875,8388.92959587845,8011.477722538392,4405.182222779837,4621.458772062068,4163.537997061912,7066.771851472444,6816.934924922503,8458.627479015417,1921.5611894842489,6979.793294801738,4546.4515738137,4814.596202293974,8554.95920713541,9810.203686105046,928.2494418390586,3824.251777621429,2394.9651817249073,1696.0787492933848,2155.192793427988,1224.017293420786,939.6965984599315,1316.3659934608197,9107.120714036551,6016.98643049573]}]}]\n",
       "var labels_2cwZwlCaLT = [\"series 0 (F0)\",\"series 1 (F1)\",\"series 2 (F2)\",\"series 3 (F3)\",\"series 4 (F4)\",\"series 5 (F5)\",\"series 6 (F6)\",\"series 7 (F7)\",\"series 8 (F8)\",\"series 9 (F9)\",\"series 10 (F10)\",\"series 11 (F11)\",\"series 12 (F12)\",\"series 13 (F13)\",\"series 14 (F14)\",\"series 15 (F15)\",\"series 16 (F16)\",\"series 17 (F17)\",\"series 18 (F18)\",\"series 19 (F19)\",\"series 20 (F20)\",\"series 21 (F21)\",\"series 22 (F22)\",\"series 23 (F23)\",\"series 24 (F24)\",\"series 25 (F25)\",\"series 26 (F26)\",\"series 27 (F27)\",\"series 28 (F28)\",\"series 29 (F29)\",\"series 30 (F30)\",\"series 31 (F31)\",\"series 32 (F32)\",\"series 33 (F33)\",\"series 34 (F34)\",\"series 35 (F35)\",\"series 36 (F36)\",\"series 37 (F37)\",\"series 38 (F38)\",\"series 39 (F39)\",\"series 40 (F40)\",\"series 41 (F41)\",\"series 42 (F42)\",\"series 43 (F43)\",\"series 44 (F44)\",\"series 45 (F45)\",\"series 46 (F46)\",\"series 47 (F47)\",\"series 48 (F48)\",\"series 49 (F49)\"]\n",
       "var duration_2cwZwlCaLT = 100\n",
       "var config_2cwZwlCaLT = {\"responsive\":true,\"scrollZoom\":true,\"displaylogo\":false}\n",
       "\n",
       "var traces_2cwZwlCaLT = JSON.parse(JSON.stringify(frames_2cwZwlCaLT[0].data.map(x => x)))\n",
       "\n",
       "var animation_settings_2cwZwlCaLT = {\n",
       "    mode: \"immediate\",\n",
       "    direction: {},\n",
       "    fromcurrent: true,\n",
       "    frame: [\n",
       "      {duration: duration_2cwZwlCaLT},\n",
       "      {duration: duration_2cwZwlCaLT},\n",
       "      {redraw: true}\n",
       "    ],\n",
       "    transition: [\n",
       "      {duration: duration_2cwZwlCaLT, easing: 'cubic-in-out'},\n",
       "      {duration: duration_2cwZwlCaLT, easing: 'cubic-in-out'},\n",
       "    ],\n",
       "    ordering: \"layout first\"\n",
       "}\n",
       "\n",
       "var slider_2cwZwlCaLT = document.createElement(\"input\")\n",
       "var play_2cwZwlCaLT = document.getElementById(\"play_2cwZwlCaLT\")\n",
       "var pause_2cwZwlCaLT = document.getElementById(\"pause_2cwZwlCaLT\")\n",
       "slider_2cwZwlCaLT.id = \"slider_2cwZwlCaLT\"\n",
       "slider_2cwZwlCaLT.type = \"range\"\n",
       "slider_2cwZwlCaLT.min = 0\n",
       "slider_2cwZwlCaLT.max = frames_2cwZwlCaLT.length - 1\n",
       "slider_2cwZwlCaLT.value = 0\n",
       "document.getElementById(\"sliderContainer_2cwZwlCaLT\").appendChild(slider_2cwZwlCaLT);\n",
       "\n",
       "Plotly.newPlot(graph_2cwZwlCaLT, traces_2cwZwlCaLT, layout_2cwZwlCaLT, config_2cwZwlCaLT)\n",
       ".then(function () { Plotly.addFrames(graph_2cwZwlCaLT, frames_2cwZwlCaLT) })\n",
       "\n",
       "var trigger_2cwZwlCaLT = true\n",
       "var reset_count_2cwZwlCaLT = false\n",
       "\n",
       "play_2cwZwlCaLT.addEventListener('click', async function() {\n",
       "   trigger_2cwZwlCaLT = true\n",
       "   if (reset_count_2cwZwlCaLT) {\n",
       "      slider_2cwZwlCaLT.value = 0\n",
       "      reset_count_2cwZwlCaLT = false\n",
       "   }\n",
       "\n",
       "  const start_index = slider_2cwZwlCaLT.value == labels_2cwZwlCaLT.length - 1 ? 0 : slider_2cwZwlCaLT.value\n",
       "  const end_index = labels_2cwZwlCaLT.length\n",
       "  await Plotly.animate(graph_2cwZwlCaLT, labels_2cwZwlCaLT.slice(start_index, end_index), animation_settings_2cwZwlCaLT)\n",
       "})\n",
       "\n",
       "pause_2cwZwlCaLT.addEventListener('click', async function() {\n",
       "  await Plotly.animate(graph_2cwZwlCaLT, [null], animation_settings_2cwZwlCaLT)\n",
       "  trigger_2cwZwlCaLT = false;\n",
       "})\n",
       "\n",
       "graph_2cwZwlCaLT.on('plotly_redraw', () => {\n",
       "   value_2cwZwlCaLT.innerHTML = slider_2cwZwlCaLT.value;\n",
       "   if (trigger_2cwZwlCaLT & !reset_count_2cwZwlCaLT) ++slider_2cwZwlCaLT.value\n",
       "   if (slider_2cwZwlCaLT.value == labels_2cwZwlCaLT.length - 1) reset_count_2cwZwlCaLT = true\n",
       "});\n",
       "\n",
       "slider_2cwZwlCaLT.oninput = async function() {\n",
       "   await Plotly.animate(graph_2cwZwlCaLT, frames_2cwZwlCaLT[this.value], animation_settings_2cwZwlCaLT)\n",
       "   trigger_2cwZwlCaLT = false\n",
       "   slider_2cwZwlCaLT.value = this.value\n",
       "   value_2cwZwlCaLT.innerHTML = this.value;\n",
       "   if (this.value == 0) reset_count_2cwZwlCaLT = false\n",
       "   if (this.value == labels_2cwZwlCaLT.length - 1) reset_count_2cwZwlCaLT = true\n",
       "   reset_count_2cwZwlCaLT = false\n",
       "}\n",
       "\n",
       "next_2cwZwlCaLT.addEventListener('click', function() {\n",
       "    if (slider_2cwZwlCaLT.value == labels_2cwZwlCaLT.length - 1) {\n",
       "        reset_count_2cwZwlCaLT = true;\n",
       "        return;\n",
       "    }\n",
       "    ++slider_2cwZwlCaLT.value;\n",
       "    value_2cwZwlCaLT.innerHTML = slider_2cwZwlCaLT.value;\n",
       "    trigger_2cwZwlCaLT = false;\n",
       "    slider_2cwZwlCaLT.oninput();\n",
       "})\n",
       "\n",
       "prev_2cwZwlCaLT.addEventListener('click', function() {\n",
       "    if (slider_2cwZwlCaLT.value == 0) {\n",
       "        reset_count_2cwZwlCaLT = false;\n",
       "        return;\n",
       "    }\n",
       "    --slider_2cwZwlCaLT.value;\n",
       "    value_2cwZwlCaLT.innerHTML = slider_2cwZwlCaLT.value;\n",
       "    trigger_2cwZwlCaLT = false;\n",
       "    slider_2cwZwlCaLT.oninput();\n",
       "})\n",
       "\n",
       "</script> \n"
      ]
     },
     "metadata": {},
     "output_type": "display_data"
    }
   ],
   "source": [
    "val series = createXYZSeries(numberToCreate = 50, length = 30)\n",
    "\n",
    "val chart = (\n",
    "  Chart(animated = true)\n",
    "  setTitle \"Animation 3D\"\n",
    "  addSeries series\n",
    "  setXAxisLimits(0, 1E4)\n",
    "  setYAxisLimits(0, 1E4)\n",
    "  setZAxisLimits(0, 1E4)\n",
    "  drawZAxisLog true\n",
    ")\n",
    "\n",
    "chart.plotInline"
   ]
  },
  {
   "cell_type": "markdown",
   "metadata": {},
   "source": [
    "## IO + Utility Functions\n",
    "\n",
    "The library also comes with some basic CSV IO functions and a utility function for breaking down data"
   ]
  },
  {
   "cell_type": "code",
   "execution_count": 49,
   "metadata": {},
   "outputs": [],
   "source": [
    "import org.carbonateresearch.picta.IO._\n",
    "import org.carbonateresearch.picta.common.Utils.getSeriesbyCategory"
   ]
  },
  {
   "cell_type": "code",
   "execution_count": 50,
   "metadata": {},
   "outputs": [
    {
     "name": "stdout",
     "output_type": "stream",
     "text": [
      "/Users/fazi/Desktop/Final Project/picta\n"
     ]
    }
   ],
   "source": [
    "val working_directory = getWorkingDirectory\n",
    "\n",
    "println(working_directory)"
   ]
  },
  {
   "cell_type": "code",
   "execution_count": 51,
   "metadata": {},
   "outputs": [],
   "source": [
    "// by providing a path, we can read in a CSV\n",
    "val filepath = working_directory + \"/iris_csv.csv\"\n",
    "\n",
    "val data = readCSV(filepath)\n",
    "\n",
    "// by default, CSV are read in as strings. However we can convert the individual columns to the correct format\n",
    "val sepal_length = data(\"sepallength\").map(_.toDouble)\n",
    "val petal_width = data(\"petalwidth\").map(_.toDouble)\n",
    "val categories = data(\"class\")"
   ]
  },
  {
   "cell_type": "code",
   "execution_count": 52,
   "metadata": {},
   "outputs": [
    {
     "data": {
      "text/html": [
       "<div id=\"grid-container_LgGU6kQBpJ\" class=\"grid-container\" align=\"center\"> \n",
       "<div id=\"grid_LgGU6kQBpJ\" class=\"grid\" align=\"center\"> \n",
       "<div id=\"graph_IzF8QDLMMa\" class=\"graph\"></div> \n",
       "</div> \n",
       "</div> \n",
       "<script>\n",
       "var masonry = new Macy({\n",
       "    container: '#grid_LgGU6kQBpJ',\n",
       "    debug: true,\n",
       "    mobileFirst: true,\n",
       "    columns: 1,\n",
       "    margin: {\n",
       "        x: 0,\n",
       "        y: 0\n",
       "    }\n",
       "  });\n",
       "\n",
       "  var traces_IzF8QDLMMa = [{\"name\":\"HBE253Fe53\",\"type\":\"scatter\",\"mode\":\"markers\",\"x\":[5.9,6.2,6.5,6.3,6.7,6.7,6.8,5.8,6.9,6.7,6.9,6,6.4,6.3,7.7,6.1,6.3,6.4,7.9,7.4,7.2,6.4,6.1,6.2,7.2,6.7,6.3,7.7,5.6,6.9,6,7.7,7.7,6.5,6.4,5.8,5.7,6.8,6.4,6.5,7.2,6.7,7.3,4.9,7.6,6.5,6.3,7.1,5.8,6.3,5.7,5.1,6.2,5.7,5.7,5.6,5,5.8,6.1,5.5,5.5,5.6,6.3,6.7,6,5.4,6,5.8,5.5,5.5,5.7,6,6.7,6.8,6.6,6.4,6.1,6.3,6.1,5.9,5.6,6.2,5.8,5.6,6.7,5.6,6.1,6,5.9,5,5.2,6.6,4.9,6.3,5.7,6.5,5.5,6.9,6.4,7,5,5.3,4.6,5.1,4.8,5.1,5,4.4,4.5,5,5.1,4.4,4.9,5.5,5,4.9,5.5,5.2,5.4,4.8,4.7,5.2,5.2,5,5,4.8,5.1,4.6,5.1,5.4,5.1,5.7,5.1,5.4,5.7,5.8,4.3,4.8,4.8,5.4,4.9,4.4,5,4.6,5.4,5,4.6,4.7,4.9,5.1],\"y\":[1.8,2.3,2,1.9,2.3,2.5,2.3,1.9,2.3,2.4,2.1,1.8,1.8,2.4,2.3,1.4,1.5,2.2,2,1.9,1.6,2.1,1.8,1.8,1.8,2.1,1.8,2,2,2.3,1.5,2.3,2.2,1.8,2.3,2.4,2,2.1,1.9,2,2.5,1.8,1.8,1.7,2.1,2.2,1.8,2.1,1.9,2.5,1.3,1.1,1.3,1.3,1.2,1.3,1,1.2,1.4,1.2,1.3,1.3,1.3,1.5,1.6,1.5,1.6,1.2,1,1.1,1,1.5,1.7,1.4,1.4,1.3,1.2,1.5,1.3,1.8,1.1,1.5,1,1.5,1.4,1.3,1.4,1,1.5,1,1.4,1.3,1,1.6,1.3,1.5,1.3,1.5,1.5,1.4,0.2,0.2,0.2,0.2,0.3,0.4,0.6,0.2,0.3,0.3,0.2,0.2,0.1,0.2,0.2,0.1,0.2,0.1,0.4,0.2,0.2,0.2,0.2,0.4,0.2,0.2,0.5,0.2,0.4,0.2,0.3,0.3,0.3,0.4,0.4,0.2,0.1,0.1,0.2,0.2,0.1,0.2,0.2,0.3,0.4,0.2,0.2,0.2,0.2,0.2]}];\n",
       " var layout_IzF8QDLMMa = {\"height\":550,\"width\":600,\"hovermode\":\"closest\",\"title\":{\"text\":\"Uninformative Chart\"},\"showlegend\":true};\n",
       " var config_IzF8QDLMMa = {\"responsive\":true,\"scrollZoom\":true,\"displaylogo\":false};\n",
       " Plotly.newPlot(\"graph_IzF8QDLMMa\", traces_IzF8QDLMMa, layout_IzF8QDLMMa, config_IzF8QDLMMa);\n",
       "</script> \n"
      ]
     },
     "metadata": {},
     "output_type": "display_data"
    }
   ],
   "source": [
    "val series = XY(sepal_length, petal_width) asType SCATTER drawStyle MARKERS\n",
    "\n",
    "val chart = Chart() addSeries series setTitle \"Uninformative Chart\"\n",
    "\n",
    "chart.plotInline"
   ]
  },
  {
   "cell_type": "markdown",
   "metadata": {},
   "source": [
    "The above chart is not very informative. However since we have the per data point category labels, we can use the utility function to display the data in the different clusters"
   ]
  },
  {
   "cell_type": "code",
   "execution_count": 53,
   "metadata": {},
   "outputs": [
    {
     "data": {
      "text/html": [
       "<div id=\"grid-container_Hj5Gz3nyPp\" class=\"grid-container\" align=\"center\"> \n",
       "<div id=\"grid_Hj5Gz3nyPp\" class=\"grid\" align=\"center\"> \n",
       "<div id=\"graph_YrcqL4lk6s\" class=\"graph\"></div> \n",
       "</div> \n",
       "</div> \n",
       "<script>\n",
       "var masonry = new Macy({\n",
       "    container: '#grid_Hj5Gz3nyPp',\n",
       "    debug: true,\n",
       "    mobileFirst: true,\n",
       "    columns: 1,\n",
       "    margin: {\n",
       "        x: 0,\n",
       "        y: 0\n",
       "    }\n",
       "  });\n",
       "\n",
       "  var traces_YrcqL4lk6s = [{\"name\":\"Iris-versicolor\",\"type\":\"scatter\",\"mode\":\"markers\",\"x\":[7,6.4,6.9,5.5,6.5,5.7,6.3,4.9,6.6,5.2,5,5.9,6,6.1,5.6,6.7,5.6,5.8,6.2,5.6,5.9,6.1,6.3,6.1,6.4,6.6,6.8,6.7,6,5.7,5.5,5.5,5.8,6,5.4,6,6.7,6.3,5.6,5.5,5.5,6.1,5.8,5,5.6,5.7,5.7,6.2,5.1,5.7],\"y\":[1.4,1.5,1.5,1.3,1.5,1.3,1.6,1,1.3,1.4,1,1.5,1,1.4,1.3,1.4,1.5,1,1.5,1.1,1.8,1.3,1.5,1.2,1.3,1.4,1.4,1.7,1.5,1,1.1,1,1.2,1.6,1.5,1.6,1.5,1.3,1.3,1.3,1.2,1.4,1.2,1,1.3,1.2,1.3,1.3,1.1,1.3]},{\"name\":\"Iris-setosa\",\"type\":\"scatter\",\"mode\":\"markers\",\"x\":[5.1,4.9,4.7,4.6,5,5.4,4.6,5,4.4,4.9,5.4,4.8,4.8,4.3,5.8,5.7,5.4,5.1,5.7,5.1,5.4,5.1,4.6,5.1,4.8,5,5,5.2,5.2,4.7,4.8,5.4,5.2,5.5,4.9,5,5.5,4.9,4.4,5.1,5,4.5,4.4,5,5.1,4.8,5.1,4.6,5.3,5],\"y\":[0.2,0.2,0.2,0.2,0.2,0.4,0.3,0.2,0.2,0.1,0.2,0.2,0.1,0.1,0.2,0.4,0.4,0.3,0.3,0.3,0.2,0.4,0.2,0.5,0.2,0.2,0.4,0.2,0.2,0.2,0.2,0.4,0.1,0.2,0.1,0.2,0.2,0.1,0.2,0.2,0.3,0.3,0.2,0.6,0.4,0.3,0.2,0.2,0.2,0.2]},{\"name\":\"Iris-virginica\",\"type\":\"scatter\",\"mode\":\"markers\",\"x\":[6.3,5.8,7.1,6.3,6.5,7.6,4.9,7.3,6.7,7.2,6.5,6.4,6.8,5.7,5.8,6.4,6.5,7.7,7.7,6,6.9,5.6,7.7,6.3,6.7,7.2,6.2,6.1,6.4,7.2,7.4,7.9,6.4,6.3,6.1,7.7,6.3,6.4,6,6.9,6.7,6.9,5.8,6.8,6.7,6.7,6.3,6.5,6.2,5.9],\"y\":[2.5,1.9,2.1,1.8,2.2,2.1,1.7,1.8,1.8,2.5,2,1.9,2.1,2,2.4,2.3,1.8,2.2,2.3,1.5,2.3,2,2,1.8,2.1,1.8,1.8,1.8,2.1,1.6,1.9,2,2.2,1.5,1.4,2.3,2.4,1.8,1.8,2.1,2.4,2.3,1.9,2.3,2.5,2.3,1.9,2,2.3,1.8]}];\n",
       " var layout_YrcqL4lk6s = {\"height\":550,\"width\":600,\"hovermode\":\"closest\",\"title\":{\"text\":\"Iris\"},\"showlegend\":true};\n",
       " var config_YrcqL4lk6s = {\"responsive\":true,\"scrollZoom\":true,\"displaylogo\":false};\n",
       " Plotly.newPlot(\"graph_YrcqL4lk6s\", traces_YrcqL4lk6s, layout_YrcqL4lk6s, config_YrcqL4lk6s);\n",
       "</script> \n"
      ]
     },
     "metadata": {},
     "output_type": "display_data"
    }
   ],
   "source": [
    "val result = getSeriesbyCategory(categories, (sepal_length, petal_width))\n",
    "\n",
    "val chart = Chart() addSeries result setTitle \"Iris\" showLegend true\n",
    "\n",
    "chart.plotInline"
   ]
  },
  {
   "cell_type": "markdown",
   "metadata": {},
   "source": [
    "## Conus Integration\n",
    "\n",
    "Picta was originally created to help plot data in CoNuS and with Spark. A couple of utility functions make wrangling CoNuS data easier. Below is an example taken from the conus repo and plotting some variables of interest."
   ]
  },
  {
   "cell_type": "code",
   "execution_count": 54,
   "metadata": {},
   "outputs": [],
   "source": [
    "import org.carbonateresearch.picta.conus.Utils._\n",
    "import org.carbonateresearch.picta.{Canvas, Chart, XY}\n",
    "import org.carbonateresearch.conus.common.SingleModelResults\n",
    "import org.carbonateresearch.conus._\n",
    "\n",
    "import math._"
   ]
  },
  {
   "cell_type": "code",
   "execution_count": 55,
   "metadata": {
    "scrolled": false
   },
   "outputs": [
    {
     "name": "stdout",
     "output_type": "stream",
     "text": [
      "13:35:48.263 [CoNuS-akka.actor.default-dispatcher-3] INFO akka.event.slf4j.Slf4jLogger - Slf4jLogger started\n"
     ]
    },
    {
     "name": "stderr",
     "output_type": "stream",
     "text": [
      "SLF4J: A number (1) of logging calls during the initialization phase have been intercepted and are\n",
      "SLF4J: now being replayed. These are subject to the filtering rules of the underlying logging system.\n",
      "SLF4J: See also http://www.slf4j.org/codes.html#replay\n"
     ]
    },
    {
     "data": {
      "text/html": [
       "Variable <b>Number of Rats</b> with initial value of 2 Individuals  defined"
      ]
     },
     "metadata": {},
     "output_type": "display_data"
    },
    {
     "data": {
      "text/html": [
       "Variable <b>Death rate</b> with initial value of 0.0 %  defined"
      ]
     },
     "metadata": {},
     "output_type": "display_data"
    }
   ],
   "source": [
    "val simulator = new AlmondSimulator // We create an Almond specific simulator\n",
    "\n",
    "// We will now create a ver simple 2D CoNuS model. The model has a dimension of 3x3 grids, and each grid is meant to represent\n",
    "// about 100x100 meters of a field. We initialize the model with values ranging from 2.0 to 6.0. These represent the population \n",
    "// of rats living in each 100 sq meter of the field. We will run the simulation for 10 time step, each time step represents\n",
    "// one generation. We assume a perfect parity between male and female rat, and we also assume that each couple will have 10\n",
    "// babies per generation. In addition, we will simulate a death rate between 0 to 0.9 (0 to 90% of the population), assigned\n",
    "// randomly at each timestep and for each square. A major simplification is that each cell (square in the field) has its own\n",
    "// rat population, there is no movement of rats in between the different cells.\n",
    "\n",
    "// In CoNuS, values that will be calculated are know as model variables. Let's set a few\n",
    "val nbRats:ModelVariable[Int] = ModelVariable(\"Number of Rats\",2,\"Individuals\") //Notice this is an Int\n",
    "val deathRate:ModelVariable[Double] = ModelVariable(\"Death rate\",0.0,\"%\")\n",
    "\n",
    "// Let's initialise a few model conditions \n",
    "val numberOfSteps = 10\n",
    "\n",
    "// And let's create a function that, given a rat population and a deathRate, calculates a new population \n",
    "\n",
    "def survivingRats(initialPopulation:Int, deathRate:Double): Int = {\n",
    "    initialPopulation-math.floor(initialPopulation.toDouble*deathRate).toInt\n",
    "}\n"
   ]
  },
  {
   "cell_type": "code",
   "execution_count": 56,
   "metadata": {},
   "outputs": [
    {
     "name": "stdout",
     "output_type": "stream",
     "text": [
      "A total of 1 unique models were defined, attempting to create a list now.\n",
      "Models list successfully created.\n"
     ]
    },
    {
     "data": {
      "text/html": [
       "<b>Model characteristics</b><table class=\"table\"><tr><th>Feature</th><th>Value</th></tr><tr><td>Name</td><td>Simplified rat population dynamics</td></tr><tr><td>Nb of steps</td><td>10</td></tr><tr><td>Nb of models</td><td>1</td></tr><tr><td>Nb grid cells</td><td>9</td></tr><tr><td>Nb of operations per step</td><td>2</td></tr><tr><td>Total nb of operations</td><td>180</td></tr></table>"
      ]
     },
     "metadata": {},
     "output_type": "display_data"
    }
   ],
   "source": [
    "// Now we can create our model, step by step\n",
    "val ratPopulation = new SteppedModel(numberOfSteps,\"Simplified rat population dynamics\")\n",
    "    .setGrid(3,3) // 9 cells\n",
    "    .defineMathematicalModel( // In this super simple model we do only two things at each step\n",
    "      deathRate =>> {(s:Step) => scala.util.Random.nextDouble()*0.9}, // calculate a death rate\n",
    "      nbRats =>> {(s:Step) => {survivingRats(nbRats(s-1)+(nbRats(s-1)/2*10),deathRate(s))}} // calcuate the nb rats\n",
    "    )\n",
    "    .defineInitialModelConditions( // Now we need to determine the inital size of the population at each model grid\n",
    "      PerCell(nbRats,List(\n",
    "        (List(2),Seq(0,0)),\n",
    "        (List(2),Seq(0,1)),\n",
    "        (List(4),Seq(0,2)),\n",
    "        (List(4),Seq(1,0)),\n",
    "        (List(2),Seq(1,1)),\n",
    "        (List(6),Seq(1,2)),\n",
    "        (List(2),Seq(2,0)),\n",
    "        (List(4),Seq(2,1)),\n",
    "        (List(6),Seq(2,2)))))"
   ]
  },
  {
   "cell_type": "code",
   "execution_count": 57,
   "metadata": {},
   "outputs": [
    {
     "data": {
      "text/html": [
       "Run progress:<br>#################################################################################################### 100.0%<br>Total runtime: 0 seconds"
      ]
     },
     "metadata": {},
     "output_type": "display_data"
    }
   ],
   "source": [
    "// Now we run the model\n",
    "simulator.evaluate(ratPopulation)"
   ]
  },
  {
   "cell_type": "code",
   "execution_count": 59,
   "metadata": {
    "scrolled": false
   },
   "outputs": [
    {
     "data": {
      "text/html": [
       "<div id=\"grid-container_aJitheJFEX\" class=\"grid-container\" align=\"center\"> \n",
       "<div id=\"grid_aJitheJFEX\" class=\"grid\" align=\"center\"> \n",
       "<div id=\"graph_0mUzazHHcf\" class=\"graph\"></div> \n",
       "</div> \n",
       "</div> \n",
       "<script>\n",
       "var masonry = new Macy({\n",
       "    container: '#grid_aJitheJFEX',\n",
       "    debug: true,\n",
       "    mobileFirst: true,\n",
       "    columns: 1,\n",
       "    margin: {\n",
       "        x: 0,\n",
       "        y: 0\n",
       "    }\n",
       "  });\n",
       "\n",
       "  var traces_0mUzazHHcf = [{\"name\":\"Death rate\",\"type\":\"scatter\",\"x\":[0,1,2,3,4,5,6,7,8],\"y\":[0.10449415663140087,0.06498403128633079,0.3625786132027748,0.41322104977229096,0.01697750145167959,0.39460981260533834,0.4478239784490479,0.5005283037376237,0.11756618191771571,0.1486069702455952]},{\"name\":\"Nb of rats\",\"type\":\"scatter\",\"yaxis\":\"y2\",\"x\":[0,1,2,3,4,5,6,7,8],\"y\":[11,58,222,782,4613,16753,55501,166325,880621,4498524]}];\n",
       " var layout_0mUzazHHcf = {\"height\":550,\"width\":600,\"hovermode\":\"closest\",\"title\":{\"text\":\"Date rate vs nb of rats per generation for cell (0,0)\"},\"showlegend\":true,\"xaxis\":{\"title\":{\"text\":\"Generation\"},\"showgrid\":true,\"zeroline\":false,\"showline\":false},\"yaxis\":{\"title\":{\"text\":\"Death rate\"},\"showgrid\":true,\"zeroline\":false,\"showline\":false},\"yaxis2\":{\"title\":{\"text\":\"Nb rats\"},\"showgrid\":true,\"zeroline\":false,\"showline\":false,\"side\":\"right\",\"overlaying\":\"y\",\"tickformat\":\"0.0f\"}};\n",
       " var config_0mUzazHHcf = {\"responsive\":true,\"scrollZoom\":true,\"displaylogo\":false};\n",
       " Plotly.newPlot(\"graph_0mUzazHHcf\", traces_0mUzazHHcf, layout_0mUzazHHcf, config_0mUzazHHcf);\n",
       "</script> \n"
      ]
     },
     "metadata": {},
     "output_type": "display_data"
    },
    {
     "data": {
      "text/html": [
       "<b>Simplified rat population dynamics model #1 <br>Timestep: 9</b> [from 0 to 9]<table class=\"table\" style=\"align: center; display:block; background-color:fffff0; border: 2px solid green; height: 450px; overflow-y: scroll\"><tr><th style=\"border: 1px solid green; background-color:fffff0\">Cell coordinates</th><th style=\"border: 1px solid green; background-color:#ebebec\">Number of Rats</th><th style=\"border: 1px solid green; background-color:#ebebec\">Death rate</th></tr><tr style=\"border: 1px solid green; background-color:fffff0\"><td style=\"border: 1px solid green; background-color:fffff0\">(0, 0)</td><td style=\"border: 1px solid green; background-color:fffff0\">4498524</td><td style=\"border: 1px solid green; background-color:fffff0\">0.1486069702455952</td></tr><tr style=\"border: 1px solid green; background-color:fffff0\"><td style=\"border: 1px solid green; background-color:fffff0\">(0, 1)</td><td style=\"border: 1px solid green; background-color:fffff0\">42563</td><td style=\"border: 1px solid green; background-color:fffff0\">0.11174063693654093</td></tr><tr style=\"border: 1px solid green; background-color:fffff0\"><td style=\"border: 1px solid green; background-color:fffff0\">(0, 2)</td><td style=\"border: 1px solid green; background-color:fffff0\">199458</td><td style=\"border: 1px solid green; background-color:fffff0\">0.5133957877392384</td></tr><tr style=\"border: 1px solid green; background-color:fffff0\"><td style=\"border: 1px solid green; background-color:fffff0\">(1, 0)</td><td style=\"border: 1px solid green; background-color:fffff0\">80070</td><td style=\"border: 1px solid green; background-color:fffff0\">5.263839933121961E-4</td></tr><tr style=\"border: 1px solid green; background-color:fffff0\"><td style=\"border: 1px solid green; background-color:fffff0\">(1, 1)</td><td style=\"border: 1px solid green; background-color:fffff0\">13750</td><td style=\"border: 1px solid green; background-color:fffff0\">0.3060012452046141</td></tr><tr style=\"border: 1px solid green; background-color:fffff0\"><td style=\"border: 1px solid green; background-color:fffff0\">(1, 2)</td><td style=\"border: 1px solid green; background-color:fffff0\">139156</td><td style=\"border: 1px solid green; background-color:fffff0\">0.7369799992203814</td></tr><tr style=\"border: 1px solid green; background-color:fffff0\"><td style=\"border: 1px solid green; background-color:fffff0\">(2, 0)</td><td style=\"border: 1px solid green; background-color:fffff0\">7747</td><td style=\"border: 1px solid green; background-color:fffff0\">0.7918939436302825</td></tr><tr style=\"border: 1px solid green; background-color:fffff0\"><td style=\"border: 1px solid green; background-color:fffff0\">(2, 1)</td><td style=\"border: 1px solid green; background-color:fffff0\">383124</td><td style=\"border: 1px solid green; background-color:fffff0\">0.33931595735818293</td></tr><tr style=\"border: 1px solid green; background-color:fffff0\"><td style=\"border: 1px solid green; background-color:fffff0\">(2, 2)</td><td style=\"border: 1px solid green; background-color:fffff0\">996426</td><td style=\"border: 1px solid green; background-color:fffff0\">0.80079971409663</td></tr></table>"
      ]
     },
     "metadata": {},
     "output_type": "display_data"
    }
   ],
   "source": [
    "// grab the results from the Conus model\n",
    "val model: SingleModelResults = simulator(ratPopulation)(0)\n",
    "\n",
    "val generation = (0 until numberOfSteps-1).map(x=>x.toDouble).toList\n",
    "\n",
    "// we can use the utility function to grab the series for a single variable\n",
    "val deathRateSeries: List[Double] = getDataFromSingleModel(model, deathRate, List(0,0), numberOfSteps)\n",
    "\n",
    "val xy1 = XY(generation, deathRateSeries) setName(\"Death rate\")\n",
    "\n",
    "// alternatively we can quickly get the same data for XY using the function below\n",
    "//  val xy1 = getXYSeriesFromSingleModel(model, (age, d18Occ), List(0), numberOfSteps)\n",
    "\n",
    "// lets also plot a second y variable\n",
    "val yaxis2 = Axis(\n",
    "    Y,\n",
    "    position = 2, \n",
    "    title = \"Nb rats\", \n",
    "    overlaying = Axis(Y), // this ensures that the axis sits on a seperate axis\n",
    "    side = RIGHT_SIDE, // this ensures the axis is on the right hand side\n",
    "    tickformat = \"0.0f\" // this will keep formatting reasonable for display purposes\n",
    ")\n",
    "\n",
    "// we construct the second y variable;\n",
    "val nbRatsSeries: List[Double] = getDataFromSingleModel(model, nbRats, List(0,0), numberOfSteps).map(x => x.toDouble)\n",
    "val xy2 = XY(generation, nbRatsSeries) setAxis yaxis2 setName(\"Nb of rats\")\n",
    "\n",
    "// finally we can combine in a single chart\n",
    "val chart = (\n",
    "    Chart() \n",
    "    addSeries xy1\n",
    "    addSeries xy2\n",
    "    setTitle(\"Date rate vs nb of rats per generation for cell (0,0)\") \n",
    "    addAxes(Axis(X, title=\"Generation\"), Axis(Y, title=\"Death rate\"), yaxis2)\n",
    ")\n",
    "\n",
    "val canvas = Canvas() addCharts chart\n",
    "\n",
    "// When we plot the result, we can see the legend is in the wrong place and overlaying the axis - we can overcome this\n",
    "// in the next example\n",
    "canvas.plotInline()"
   ]
  },
  {
   "cell_type": "markdown",
   "metadata": {
    "pycharm": {
     "name": "#%% md\n"
    }
   },
   "source": [
    "### Moving the Legend\n",
    "\n",
    "We can also move the Legend and position it where we would like as follows:"
   ]
  },
  {
   "cell_type": "code",
   "execution_count": 60,
   "metadata": {
    "pycharm": {
     "name": "#%%\n"
    }
   },
   "outputs": [],
   "source": [
    "import org.carbonateresearch.picta.options.AUTO"
   ]
  },
  {
   "cell_type": "code",
   "execution_count": 61,
   "metadata": {
    "scrolled": false
   },
   "outputs": [
    {
     "data": {
      "text/html": [
       "<div id=\"grid-container_4pWaRVdYq1\" class=\"grid-container\" align=\"center\"> \n",
       "<div id=\"grid_4pWaRVdYq1\" class=\"grid\" align=\"center\"> \n",
       "<div id=\"graph_0VXfiRadBJ\" class=\"graph\"></div> \n",
       "</div> \n",
       "</div> \n",
       "<script>\n",
       "var masonry = new Macy({\n",
       "    container: '#grid_4pWaRVdYq1',\n",
       "    debug: true,\n",
       "    mobileFirst: true,\n",
       "    columns: 1,\n",
       "    margin: {\n",
       "        x: 0,\n",
       "        y: 0\n",
       "    }\n",
       "  });\n",
       "\n",
       "  var traces_0VXfiRadBJ = [{\"name\":\"Death rate\",\"type\":\"scatter\",\"x\":[0,1,2,3,4,5,6,7,8],\"y\":[0.10449415663140087,0.06498403128633079,0.3625786132027748,0.41322104977229096,0.01697750145167959,0.39460981260533834,0.4478239784490479,0.5005283037376237,0.11756618191771571,0.1486069702455952]},{\"name\":\"Nb of rats\",\"type\":\"scatter\",\"yaxis\":\"y2\",\"x\":[0,1,2,3,4,5,6,7,8],\"y\":[11,58,222,782,4613,16753,55501,166325,880621,4498524]}];\n",
       " var layout_0VXfiRadBJ = {\"height\":550,\"width\":600,\"hovermode\":\"closest\",\"title\":{\"text\":\"Death rate vs Nb of rats for cell (0,0)\"},\"showlegend\":true,\"legend\":{\"orientation\":\"h\",\"x\":0.5,\"y\":-0.5,\"xanchor\":\"auto\",\"yanchor\":\"auto\"},\"xaxis\":{\"title\":{\"text\":\"Generation\"},\"showgrid\":true,\"zeroline\":false,\"showline\":false},\"yaxis\":{\"title\":{\"text\":\"Death rate\"},\"showgrid\":true,\"zeroline\":false,\"showline\":false},\"yaxis2\":{\"title\":{\"text\":\"Nb rats\"},\"showgrid\":true,\"zeroline\":false,\"showline\":false,\"side\":\"right\",\"overlaying\":\"y\",\"tickformat\":\"0.0f\"}};\n",
       " var config_0VXfiRadBJ = {\"responsive\":true,\"scrollZoom\":true,\"displaylogo\":false};\n",
       " Plotly.newPlot(\"graph_0VXfiRadBJ\", traces_0VXfiRadBJ, layout_0VXfiRadBJ, config_0VXfiRadBJ);\n",
       "</script> \n"
      ]
     },
     "metadata": {},
     "output_type": "display_data"
    }
   ],
   "source": [
    "// finally we can combine in a single chart\n",
    "val chart = (\n",
    "    Chart() \n",
    "    addSeries xy1\n",
    "    addSeries xy2\n",
    "    setTitle(\"Death rate vs Nb of rats for cell (0,0)\") \n",
    "    addAxes(Axis(X, title=\"Generation\"), Axis(Y, title=\"Death rate\"), yaxis2)\n",
    "    setLegend(x = 0.5, y = -0.5, orientation = HORIZONTAL, xanchor = AUTO, yanchor = AUTO)\n",
    ")\n",
    "\n",
    "val canvas = Canvas() addCharts chart\n",
    "\n",
    "canvas.plotInline()"
   ]
  },
  {
   "cell_type": "code",
   "execution_count": 62,
   "metadata": {},
   "outputs": [
    {
     "data": {
      "text/html": [
       "<div id=\"grid-container_NviLT7OTlV\" class=\"grid-container\" align=\"center\"> \n",
       "<div id=\"grid_NviLT7OTlV\" class=\"grid\" align=\"center\"> \n",
       "\n",
       "<div align=\"center\">\n",
       "  <div id=\"graph_d37NEsWWl0\" class=\"graph\"></div>\n",
       "  <div class=\"animationInterface\">\n",
       "    <button id=\"play_d37NEsWWl0\" class=\"picta-button\">&#9658</button>\n",
       "    <button id=\"pause_d37NEsWWl0\" class=\"picta-button\">&#9616;&#9616;</button>\n",
       "    <button id=\"prev_d37NEsWWl0\" class=\"picta-button\"><</button>\n",
       "    <button id=\"next_d37NEsWWl0\" class=\"picta-button\">></button>\n",
       "\n",
       "    <div id=\"sliderContainer_d37NEsWWl0\" class=\"progressBar\"></div>\n",
       "    <div id=\"counterContainer_d37NEsWWl0\" class=\"inline-div\">\n",
       "        <h3>Frame: </h3> <h3 id=\"value_d37NEsWWl0\">0</h3>\n",
       "    </div>\n",
       "   </div>\n",
       "</div> \n",
       "\n",
       "</div> \n",
       "</div> \n",
       "<script>\n",
       "var masonry = new Macy({\n",
       "    container: '#grid_NviLT7OTlV',\n",
       "    debug: true,\n",
       "    mobileFirst: true,\n",
       "    columns: 1,\n",
       "    margin: {\n",
       "        x: 0,\n",
       "        y: 0\n",
       "    }\n",
       "  });\n",
       "\n",
       "var graph_d37NEsWWl0 = document.getElementById('graph_d37NEsWWl0')\n",
       "\n",
       "var layout_d37NEsWWl0 = {\"height\":550,\"width\":600,\"hovermode\":\"closest\",\"title\":{\"text\":\"Animation XY with Multiple Series\"},\"showlegend\":true,\"legend\":{\"orientation\":\"h\",\"x\":0.5,\"y\":-0.5,\"xanchor\":\"auto\",\"yanchor\":\"auto\"},\"xaxis\":{\"title\":{\"text\":\"Generation\"},\"showgrid\":true,\"zeroline\":false,\"showline\":false,\"range\":[0,9]},\"yaxis\":{\"title\":{\"text\":\"Death Rate\"},\"showgrid\":true,\"zeroline\":false,\"showline\":false,\"range\":[0,1]},\"yaxis2\":{\"title\":{\"text\":\"Nb rats\"},\"showgrid\":true,\"zeroline\":false,\"showline\":false,\"side\":\"right\",\"overlaying\":\"y\",\"range\":[0,10000],\"tickformat\":\"0.0f\"}}\n",
       "var frames_d37NEsWWl0 = [{\"name\":\"Frame 0\",\"data\":[{\"name\":\"Death Rate (F0)\",\"type\":\"scatter\",\"x\":[0],\"y\":[0.10449415663140087]},{\"name\":\"Nb of rats (F0)\",\"type\":\"scatter\",\"yaxis\":\"y2\",\"x\":[0],\"y\":[11]}]},{\"name\":\"Frame 1\",\"data\":[{\"name\":\"Death Rate (F1)\",\"type\":\"scatter\",\"x\":[0,1],\"y\":[0.10449415663140087,0.06498403128633079]},{\"name\":\"Nb of rats (F1)\",\"type\":\"scatter\",\"yaxis\":\"y2\",\"x\":[0,1],\"y\":[11,58]}]},{\"name\":\"Frame 2\",\"data\":[{\"name\":\"Death Rate (F2)\",\"type\":\"scatter\",\"x\":[0,1,2],\"y\":[0.10449415663140087,0.06498403128633079,0.3625786132027748]},{\"name\":\"Nb of rats (F2)\",\"type\":\"scatter\",\"yaxis\":\"y2\",\"x\":[0,1,2],\"y\":[11,58,222]}]},{\"name\":\"Frame 3\",\"data\":[{\"name\":\"Death Rate (F3)\",\"type\":\"scatter\",\"x\":[0,1,2,3],\"y\":[0.10449415663140087,0.06498403128633079,0.3625786132027748,0.41322104977229096]},{\"name\":\"Nb of rats (F3)\",\"type\":\"scatter\",\"yaxis\":\"y2\",\"x\":[0,1,2,3],\"y\":[11,58,222,782]}]},{\"name\":\"Frame 4\",\"data\":[{\"name\":\"Death Rate (F4)\",\"type\":\"scatter\",\"x\":[0,1,2,3,4],\"y\":[0.10449415663140087,0.06498403128633079,0.3625786132027748,0.41322104977229096,0.01697750145167959]},{\"name\":\"Nb of rats (F4)\",\"type\":\"scatter\",\"yaxis\":\"y2\",\"x\":[0,1,2,3,4],\"y\":[11,58,222,782,4613]}]},{\"name\":\"Frame 5\",\"data\":[{\"name\":\"Death Rate (F5)\",\"type\":\"scatter\",\"x\":[0,1,2,3,4,5],\"y\":[0.10449415663140087,0.06498403128633079,0.3625786132027748,0.41322104977229096,0.01697750145167959,0.39460981260533834]},{\"name\":\"Nb of rats (F5)\",\"type\":\"scatter\",\"yaxis\":\"y2\",\"x\":[0,1,2,3,4,5],\"y\":[11,58,222,782,4613,16753]}]},{\"name\":\"Frame 6\",\"data\":[{\"name\":\"Death Rate (F6)\",\"type\":\"scatter\",\"x\":[0,1,2,3,4,5,6],\"y\":[0.10449415663140087,0.06498403128633079,0.3625786132027748,0.41322104977229096,0.01697750145167959,0.39460981260533834,0.4478239784490479]},{\"name\":\"Nb of rats (F6)\",\"type\":\"scatter\",\"yaxis\":\"y2\",\"x\":[0,1,2,3,4,5,6],\"y\":[11,58,222,782,4613,16753,55501]}]},{\"name\":\"Frame 7\",\"data\":[{\"name\":\"Death Rate (F7)\",\"type\":\"scatter\",\"x\":[0,1,2,3,4,5,6,7],\"y\":[0.10449415663140087,0.06498403128633079,0.3625786132027748,0.41322104977229096,0.01697750145167959,0.39460981260533834,0.4478239784490479,0.5005283037376237]},{\"name\":\"Nb of rats (F7)\",\"type\":\"scatter\",\"yaxis\":\"y2\",\"x\":[0,1,2,3,4,5,6,7],\"y\":[11,58,222,782,4613,16753,55501,166325]}]},{\"name\":\"Frame 8\",\"data\":[{\"name\":\"Death Rate (F8)\",\"type\":\"scatter\",\"x\":[0,1,2,3,4,5,6,7,8],\"y\":[0.10449415663140087,0.06498403128633079,0.3625786132027748,0.41322104977229096,0.01697750145167959,0.39460981260533834,0.4478239784490479,0.5005283037376237,0.11756618191771571]},{\"name\":\"Nb of rats (F8)\",\"type\":\"scatter\",\"yaxis\":\"y2\",\"x\":[0,1,2,3,4,5,6,7,8],\"y\":[11,58,222,782,4613,16753,55501,166325,880621]}]}]\n",
       "var labels_d37NEsWWl0 = [\"Frame 0\",\"Frame 1\",\"Frame 2\",\"Frame 3\",\"Frame 4\",\"Frame 5\",\"Frame 6\",\"Frame 7\",\"Frame 8\"]\n",
       "var duration_d37NEsWWl0 = 100\n",
       "var config_d37NEsWWl0 = {\"responsive\":true,\"scrollZoom\":true,\"displaylogo\":false}\n",
       "\n",
       "var traces_d37NEsWWl0 = JSON.parse(JSON.stringify(frames_d37NEsWWl0[0].data.map(x => x)))\n",
       "\n",
       "var animation_settings_d37NEsWWl0 = {\n",
       "    mode: \"immediate\",\n",
       "    direction: {},\n",
       "    fromcurrent: true,\n",
       "    frame: [\n",
       "      {duration: duration_d37NEsWWl0},\n",
       "      {duration: duration_d37NEsWWl0},\n",
       "      {redraw: true}\n",
       "    ],\n",
       "    transition: [\n",
       "      {duration: duration_d37NEsWWl0, easing: 'cubic-in-out'},\n",
       "      {duration: duration_d37NEsWWl0, easing: 'cubic-in-out'},\n",
       "    ],\n",
       "    ordering: \"layout first\"\n",
       "}\n",
       "\n",
       "var slider_d37NEsWWl0 = document.createElement(\"input\")\n",
       "var play_d37NEsWWl0 = document.getElementById(\"play_d37NEsWWl0\")\n",
       "var pause_d37NEsWWl0 = document.getElementById(\"pause_d37NEsWWl0\")\n",
       "slider_d37NEsWWl0.id = \"slider_d37NEsWWl0\"\n",
       "slider_d37NEsWWl0.type = \"range\"\n",
       "slider_d37NEsWWl0.min = 0\n",
       "slider_d37NEsWWl0.max = frames_d37NEsWWl0.length - 1\n",
       "slider_d37NEsWWl0.value = 0\n",
       "document.getElementById(\"sliderContainer_d37NEsWWl0\").appendChild(slider_d37NEsWWl0);\n",
       "\n",
       "Plotly.newPlot(graph_d37NEsWWl0, traces_d37NEsWWl0, layout_d37NEsWWl0, config_d37NEsWWl0)\n",
       ".then(function () { Plotly.addFrames(graph_d37NEsWWl0, frames_d37NEsWWl0) })\n",
       "\n",
       "var trigger_d37NEsWWl0 = true\n",
       "var reset_count_d37NEsWWl0 = false\n",
       "\n",
       "play_d37NEsWWl0.addEventListener('click', async function() {\n",
       "   trigger_d37NEsWWl0 = true\n",
       "   if (reset_count_d37NEsWWl0) {\n",
       "      slider_d37NEsWWl0.value = 0\n",
       "      reset_count_d37NEsWWl0 = false\n",
       "   }\n",
       "\n",
       "  const start_index = slider_d37NEsWWl0.value == labels_d37NEsWWl0.length - 1 ? 0 : slider_d37NEsWWl0.value\n",
       "  const end_index = labels_d37NEsWWl0.length\n",
       "  await Plotly.animate(graph_d37NEsWWl0, labels_d37NEsWWl0.slice(start_index, end_index), animation_settings_d37NEsWWl0)\n",
       "})\n",
       "\n",
       "pause_d37NEsWWl0.addEventListener('click', async function() {\n",
       "  await Plotly.animate(graph_d37NEsWWl0, [null], animation_settings_d37NEsWWl0)\n",
       "  trigger_d37NEsWWl0 = false;\n",
       "})\n",
       "\n",
       "graph_d37NEsWWl0.on('plotly_redraw', () => {\n",
       "   value_d37NEsWWl0.innerHTML = slider_d37NEsWWl0.value;\n",
       "   if (trigger_d37NEsWWl0 & !reset_count_d37NEsWWl0) ++slider_d37NEsWWl0.value\n",
       "   if (slider_d37NEsWWl0.value == labels_d37NEsWWl0.length - 1) reset_count_d37NEsWWl0 = true\n",
       "});\n",
       "\n",
       "slider_d37NEsWWl0.oninput = async function() {\n",
       "   await Plotly.animate(graph_d37NEsWWl0, frames_d37NEsWWl0[this.value], animation_settings_d37NEsWWl0)\n",
       "   trigger_d37NEsWWl0 = false\n",
       "   slider_d37NEsWWl0.value = this.value\n",
       "   value_d37NEsWWl0.innerHTML = this.value;\n",
       "   if (this.value == 0) reset_count_d37NEsWWl0 = false\n",
       "   if (this.value == labels_d37NEsWWl0.length - 1) reset_count_d37NEsWWl0 = true\n",
       "   reset_count_d37NEsWWl0 = false\n",
       "}\n",
       "\n",
       "next_d37NEsWWl0.addEventListener('click', function() {\n",
       "    if (slider_d37NEsWWl0.value == labels_d37NEsWWl0.length - 1) {\n",
       "        reset_count_d37NEsWWl0 = true;\n",
       "        return;\n",
       "    }\n",
       "    ++slider_d37NEsWWl0.value;\n",
       "    value_d37NEsWWl0.innerHTML = slider_d37NEsWWl0.value;\n",
       "    trigger_d37NEsWWl0 = false;\n",
       "    slider_d37NEsWWl0.oninput();\n",
       "})\n",
       "\n",
       "prev_d37NEsWWl0.addEventListener('click', function() {\n",
       "    if (slider_d37NEsWWl0.value == 0) {\n",
       "        reset_count_d37NEsWWl0 = false;\n",
       "        return;\n",
       "    }\n",
       "    --slider_d37NEsWWl0.value;\n",
       "    value_d37NEsWWl0.innerHTML = slider_d37NEsWWl0.value;\n",
       "    trigger_d37NEsWWl0 = false;\n",
       "    slider_d37NEsWWl0.oninput();\n",
       "})\n",
       "\n",
       "</script> \n"
      ]
     },
     "metadata": {},
     "output_type": "display_data"
    }
   ],
   "source": [
    "val xaxis = Axis(X, title = \"Generation\") setLimits (0.0, 9.0)\n",
    "val yaxis = Axis(Y, title = \"Death Rate\") setLimits(0.0, 1.0)\n",
    "\n",
    "// lets also plot a second y variable\n",
    "val yaxis2 = Axis(\n",
    "    Y,\n",
    "    position = 2, \n",
    "    title = \"Nb rats\",\n",
    "    overlaying = Axis(Y), // this ensures that the axis sits on a seperate axis\n",
    "    side = RIGHT_SIDE, // this ensures the axis is on the right hand side\n",
    "    tickformat = \"0.0f\" // this will keep formatting reasonable for display purposes\n",
    ").setLimits (0.0, 10000.0)\n",
    "\n",
    "// we can also specifiy the underlying layout directly - sometimes this can be useful\n",
    "val layout = ChartLayout(\"Animation XY with Multiple Series\") setAxes(xaxis, yaxis, yaxis2)\n",
    "\n",
    "val animation = \n",
    "    (0 to generation.size-1)\n",
    "    .map(x => XY(generation.take(x+1), deathRateSeries.take(x+1)) setName \"Death Rate\")\n",
    "    .toList\n",
    "\n",
    "val animation2 = \n",
    "    (0 to generation.size-1)\n",
    "    .map(x => XY(generation.take(x+1), nbRatsSeries.take(x+1)) setName \"Nb of rats\" setAxis yaxis2)\n",
    "    .toList\n",
    "\n",
    "val chart = (\n",
    "    Chart(animated = true, transition_duration=100, animate_multiple_series = true)\n",
    "    setChartLayout layout \n",
    "    addSeries animation\n",
    "    addSeries animation2\n",
    "    setLegend(x = 0.5, y = -0.5, orientation = HORIZONTAL, xanchor = AUTO, yanchor = AUTO)\n",
    ") \n",
    "\n",
    "chart.plotInline"
   ]
  },
  {
   "cell_type": "code",
   "execution_count": 63,
   "metadata": {
    "pycharm": {
     "name": "#%%\n"
    }
   },
   "outputs": [
    {
     "data": {
      "text/html": [
       "<div id=\"grid-container_XLWMNRMOgn\" class=\"grid-container\" align=\"center\"> \n",
       "<div id=\"grid_XLWMNRMOgn\" class=\"grid\" align=\"center\"> \n",
       "<div id=\"graph_nGrsKRuDVa\" class=\"graph\"></div> \n",
       "</div> \n",
       "</div> \n",
       "<script>\n",
       "var masonry = new Macy({\n",
       "    container: '#grid_XLWMNRMOgn',\n",
       "    debug: true,\n",
       "    mobileFirst: true,\n",
       "    columns: 1,\n",
       "    margin: {\n",
       "        x: 0,\n",
       "        y: 0\n",
       "    }\n",
       "  });\n",
       "\n",
       "  var traces_nGrsKRuDVa = [{\"name\":\"zPVir4YUPA\",\"type\":\"heatmap\",\"z\":[[4498524,42563,199458],[80070,13750,139156],[7747,383124,996426]]}];\n",
       " var layout_nGrsKRuDVa = {\"height\":550,\"width\":600,\"hovermode\":\"closest\",\"title\":{\"text\":\"Nb of rats at time step 10\"},\"showlegend\":true};\n",
       " var config_nGrsKRuDVa = {\"responsive\":true,\"scrollZoom\":true,\"displaylogo\":false};\n",
       " Plotly.newPlot(\"graph_nGrsKRuDVa\", traces_nGrsKRuDVa, layout_nGrsKRuDVa, config_nGrsKRuDVa);\n",
       "</script> \n"
      ]
     },
     "metadata": {},
     "output_type": "display_data"
    }
   ],
   "source": [
    "val nbCol = (0 to 2).toList\n",
    "val mySeries:List[Double] = nbCol.flatMap(r => {\n",
    "    nbCol.map{c => getDataFromSingleModel(model, nbRats, List(r,c), numberOfSteps).last.toDouble}})\n",
    "\n",
    "val series = XYZ(z=mySeries,n=3) asType HEATMAP\n",
    "\n",
    "val chart = Chart().addSeries(series).setTitle(\"Nb of rats at time step 10\")\n",
    "\n",
    "chart.plotInline"
   ]
  },
  {
   "cell_type": "code",
   "execution_count": 64,
   "metadata": {},
   "outputs": [
    {
     "data": {
      "text/html": [
       "<div id=\"grid-container_8ktILsynkm\" class=\"grid-container\" align=\"center\"> \n",
       "<div id=\"grid_8ktILsynkm\" class=\"grid\" align=\"center\"> \n",
       "<div id=\"graph_qqzBIVOSms\" class=\"graph\"></div> \n",
       "</div> \n",
       "</div> \n",
       "<script>\n",
       "var masonry = new Macy({\n",
       "    container: '#grid_8ktILsynkm',\n",
       "    debug: true,\n",
       "    mobileFirst: true,\n",
       "    columns: 1,\n",
       "    margin: {\n",
       "        x: 0,\n",
       "        y: 0\n",
       "    }\n",
       "  });\n",
       "\n",
       "  var traces_qqzBIVOSms = [{\"name\":\"NTD4d1pede\",\"type\":\"surface\",\"colorbar\":{\"title\":{\"text\":\"Rat Population\",\"side\":\"right\"}},\"z\":[[4498524,42563,199458],[80070,13750,139156],[7747,383124,996426]]}];\n",
       " var layout_qqzBIVOSms = {\"height\":550,\"width\":600,\"hovermode\":\"closest\",\"title\":{\"text\":\"Surface\"},\"showlegend\":true};\n",
       " var config_qqzBIVOSms = {\"responsive\":true,\"scrollZoom\":true,\"displaylogo\":false};\n",
       " Plotly.newPlot(\"graph_qqzBIVOSms\", traces_qqzBIVOSms, layout_qqzBIVOSms, config_qqzBIVOSms);\n",
       "</script> \n"
      ]
     },
     "metadata": {},
     "output_type": "display_data"
    }
   ],
   "source": [
    "val ratsAsSurface = XYZ(z=mySeries,n=3) asType SURFACE setColorBar(\"Rat Population\", RIGHT_SIDE)\n",
    "\n",
    "val ratsChart = Chart() addSeries ratsAsSurface setTitle \"Surface\"\n",
    "\n",
    "ratsChart.plotInline"
   ]
  },
  {
   "cell_type": "code",
   "execution_count": 65,
   "metadata": {},
   "outputs": [
    {
     "data": {
      "text/html": [
       "<div id=\"grid-container_a0sPIX3AtV\" class=\"grid-container\" align=\"center\"> \n",
       "<div id=\"grid_a0sPIX3AtV\" class=\"grid\" align=\"center\"> \n",
       "\n",
       "<div align=\"center\">\n",
       "  <div id=\"graph_Pqnvzdvl4r\" class=\"graph\"></div>\n",
       "  <div class=\"animationInterface\">\n",
       "    <button id=\"play_Pqnvzdvl4r\" class=\"picta-button\">&#9658</button>\n",
       "    <button id=\"pause_Pqnvzdvl4r\" class=\"picta-button\">&#9616;&#9616;</button>\n",
       "    <button id=\"prev_Pqnvzdvl4r\" class=\"picta-button\"><</button>\n",
       "    <button id=\"next_Pqnvzdvl4r\" class=\"picta-button\">></button>\n",
       "\n",
       "    <div id=\"sliderContainer_Pqnvzdvl4r\" class=\"progressBar\"></div>\n",
       "    <div id=\"counterContainer_Pqnvzdvl4r\" class=\"inline-div\">\n",
       "        <h3>Frame: </h3> <h3 id=\"value_Pqnvzdvl4r\">0</h3>\n",
       "    </div>\n",
       "   </div>\n",
       "</div> \n",
       "\n",
       "</div> \n",
       "</div> \n",
       "<script>\n",
       "var masonry = new Macy({\n",
       "    container: '#grid_a0sPIX3AtV',\n",
       "    debug: true,\n",
       "    mobileFirst: true,\n",
       "    columns: 1,\n",
       "    margin: {\n",
       "        x: 0,\n",
       "        y: 0\n",
       "    }\n",
       "  });\n",
       "\n",
       "var graph_Pqnvzdvl4r = document.getElementById('graph_Pqnvzdvl4r')\n",
       "\n",
       "var layout_Pqnvzdvl4r = {\"height\":550,\"width\":600,\"hovermode\":\"closest\",\"title\":{\"text\":\"Surface\"},\"showlegend\":true,\"scene\":{\"zaxis\":{\"showgrid\":true,\"zeroline\":false,\"showline\":false,\"range\":[0,3000000]}}}\n",
       "var frames_Pqnvzdvl4r = [{\"name\":\"KUeST36czi (F0)\",\"data\":[{\"name\":\"KUeST36czi (F0)\",\"type\":\"surface\",\"colorbar\":{\"title\":{\"text\":\"Rat Population\",\"side\":\"right\"}},\"z\":[[11,12,18],[23,2,9],[8,18,10]]}]},{\"name\":\"3fgwa16FJs (F1)\",\"data\":[{\"name\":\"3fgwa16FJs (F1)\",\"type\":\"surface\",\"colorbar\":{\"title\":{\"text\":\"Rat Population\",\"side\":\"right\"}},\"z\":[[58,52,92],[35,3,48],[30,72,48]]}]},{\"name\":\"gopesNmGca (F2)\",\"data\":[{\"name\":\"gopesNmGca (F2)\",\"type\":\"surface\",\"colorbar\":{\"title\":{\"text\":\"Rat Population\",\"side\":\"right\"}},\"z\":[[222,274,250],[46,5,176],[97,146,230]]}]},{\"name\":\"0wSsjQ75am (F3)\",\"data\":[{\"name\":\"0wSsjQ75am (F3)\",\"type\":\"surface\",\"colorbar\":{\"title\":{\"text\":\"Rat Population\",\"side\":\"right\"}},\"z\":[[782,209,811],[80,5,760],[505,797,385]]}]},{\"name\":\"ggD5b0Swvk (F4)\",\"data\":[{\"name\":\"ggD5b0Swvk (F4)\",\"type\":\"surface\",\"colorbar\":{\"title\":{\"text\":\"Rat Population\",\"side\":\"right\"}},\"z\":[[4613,763,2505],[56,12,3697],[2135,493,1746]]}]},{\"name\":\"WNVKKsEkg9 (F5)\",\"data\":[{\"name\":\"WNVKKsEkg9 (F5)\",\"type\":\"surface\",\"colorbar\":{\"title\":{\"text\":\"Rat Population\",\"side\":\"right\"}},\"z\":[[16753,2753,9090],[173,48,9892],[3663,2638,8284]]}]},{\"name\":\"bQnbVRMvbU (F6)\",\"data\":[{\"name\":\"bQnbVRMvbU (F6)\",\"type\":\"surface\",\"colorbar\":{\"title\":{\"text\":\"Rat Population\",\"side\":\"right\"}},\"z\":[[55501,9870,9534],[632,283,13460],[10862,6414,45535]]}]},{\"name\":\"FOhksAVkrX (F7)\",\"data\":[{\"name\":\"FOhksAVkrX (F7)\",\"type\":\"surface\",\"colorbar\":{\"title\":{\"text\":\"Rat Population\",\"side\":\"right\"}},\"z\":[[166325,5959,33827],[3672,623,72575],[7838,18927,154223]]}]},{\"name\":\"sgUSDHzA4m (F8)\",\"data\":[{\"name\":\"sgUSDHzA4m (F8)\",\"type\":\"surface\",\"colorbar\":{\"title\":{\"text\":\"Rat Population\",\"side\":\"right\"}},\"z\":[[880621,7987,68316],[13352,3302,88178],[6205,96649,833688]]}]},{\"name\":\"pBbja5f1l2 (F9)\",\"data\":[{\"name\":\"pBbja5f1l2 (F9)\",\"type\":\"surface\",\"colorbar\":{\"title\":{\"text\":\"Rat Population\",\"side\":\"right\"}},\"z\":[[4498524,42563,199458],[80070,13750,139156],[7747,383124,996426]]}]}]\n",
       "var labels_Pqnvzdvl4r = [\"KUeST36czi (F0)\",\"3fgwa16FJs (F1)\",\"gopesNmGca (F2)\",\"0wSsjQ75am (F3)\",\"ggD5b0Swvk (F4)\",\"WNVKKsEkg9 (F5)\",\"bQnbVRMvbU (F6)\",\"FOhksAVkrX (F7)\",\"sgUSDHzA4m (F8)\",\"pBbja5f1l2 (F9)\"]\n",
       "var duration_Pqnvzdvl4r = 100\n",
       "var config_Pqnvzdvl4r = {\"responsive\":true,\"scrollZoom\":true,\"displaylogo\":false}\n",
       "\n",
       "var traces_Pqnvzdvl4r = JSON.parse(JSON.stringify(frames_Pqnvzdvl4r[0].data.map(x => x)))\n",
       "\n",
       "var animation_settings_Pqnvzdvl4r = {\n",
       "    mode: \"immediate\",\n",
       "    direction: {},\n",
       "    fromcurrent: true,\n",
       "    frame: [\n",
       "      {duration: duration_Pqnvzdvl4r},\n",
       "      {duration: duration_Pqnvzdvl4r},\n",
       "      {redraw: true}\n",
       "    ],\n",
       "    transition: [\n",
       "      {duration: duration_Pqnvzdvl4r, easing: 'cubic-in-out'},\n",
       "      {duration: duration_Pqnvzdvl4r, easing: 'cubic-in-out'},\n",
       "    ],\n",
       "    ordering: \"layout first\"\n",
       "}\n",
       "\n",
       "var slider_Pqnvzdvl4r = document.createElement(\"input\")\n",
       "var play_Pqnvzdvl4r = document.getElementById(\"play_Pqnvzdvl4r\")\n",
       "var pause_Pqnvzdvl4r = document.getElementById(\"pause_Pqnvzdvl4r\")\n",
       "slider_Pqnvzdvl4r.id = \"slider_Pqnvzdvl4r\"\n",
       "slider_Pqnvzdvl4r.type = \"range\"\n",
       "slider_Pqnvzdvl4r.min = 0\n",
       "slider_Pqnvzdvl4r.max = frames_Pqnvzdvl4r.length - 1\n",
       "slider_Pqnvzdvl4r.value = 0\n",
       "document.getElementById(\"sliderContainer_Pqnvzdvl4r\").appendChild(slider_Pqnvzdvl4r);\n",
       "\n",
       "Plotly.newPlot(graph_Pqnvzdvl4r, traces_Pqnvzdvl4r, layout_Pqnvzdvl4r, config_Pqnvzdvl4r)\n",
       ".then(function () { Plotly.addFrames(graph_Pqnvzdvl4r, frames_Pqnvzdvl4r) })\n",
       "\n",
       "var trigger_Pqnvzdvl4r = true\n",
       "var reset_count_Pqnvzdvl4r = false\n",
       "\n",
       "play_Pqnvzdvl4r.addEventListener('click', async function() {\n",
       "   trigger_Pqnvzdvl4r = true\n",
       "   if (reset_count_Pqnvzdvl4r) {\n",
       "      slider_Pqnvzdvl4r.value = 0\n",
       "      reset_count_Pqnvzdvl4r = false\n",
       "   }\n",
       "\n",
       "  const start_index = slider_Pqnvzdvl4r.value == labels_Pqnvzdvl4r.length - 1 ? 0 : slider_Pqnvzdvl4r.value\n",
       "  const end_index = labels_Pqnvzdvl4r.length\n",
       "  await Plotly.animate(graph_Pqnvzdvl4r, labels_Pqnvzdvl4r.slice(start_index, end_index), animation_settings_Pqnvzdvl4r)\n",
       "})\n",
       "\n",
       "pause_Pqnvzdvl4r.addEventListener('click', async function() {\n",
       "  await Plotly.animate(graph_Pqnvzdvl4r, [null], animation_settings_Pqnvzdvl4r)\n",
       "  trigger_Pqnvzdvl4r = false;\n",
       "})\n",
       "\n",
       "graph_Pqnvzdvl4r.on('plotly_redraw', () => {\n",
       "   value_Pqnvzdvl4r.innerHTML = slider_Pqnvzdvl4r.value;\n",
       "   if (trigger_Pqnvzdvl4r & !reset_count_Pqnvzdvl4r) ++slider_Pqnvzdvl4r.value\n",
       "   if (slider_Pqnvzdvl4r.value == labels_Pqnvzdvl4r.length - 1) reset_count_Pqnvzdvl4r = true\n",
       "});\n",
       "\n",
       "slider_Pqnvzdvl4r.oninput = async function() {\n",
       "   await Plotly.animate(graph_Pqnvzdvl4r, frames_Pqnvzdvl4r[this.value], animation_settings_Pqnvzdvl4r)\n",
       "   trigger_Pqnvzdvl4r = false\n",
       "   slider_Pqnvzdvl4r.value = this.value\n",
       "   value_Pqnvzdvl4r.innerHTML = this.value;\n",
       "   if (this.value == 0) reset_count_Pqnvzdvl4r = false\n",
       "   if (this.value == labels_Pqnvzdvl4r.length - 1) reset_count_Pqnvzdvl4r = true\n",
       "   reset_count_Pqnvzdvl4r = false\n",
       "}\n",
       "\n",
       "next_Pqnvzdvl4r.addEventListener('click', function() {\n",
       "    if (slider_Pqnvzdvl4r.value == labels_Pqnvzdvl4r.length - 1) {\n",
       "        reset_count_Pqnvzdvl4r = true;\n",
       "        return;\n",
       "    }\n",
       "    ++slider_Pqnvzdvl4r.value;\n",
       "    value_Pqnvzdvl4r.innerHTML = slider_Pqnvzdvl4r.value;\n",
       "    trigger_Pqnvzdvl4r = false;\n",
       "    slider_Pqnvzdvl4r.oninput();\n",
       "})\n",
       "\n",
       "prev_Pqnvzdvl4r.addEventListener('click', function() {\n",
       "    if (slider_Pqnvzdvl4r.value == 0) {\n",
       "        reset_count_Pqnvzdvl4r = false;\n",
       "        return;\n",
       "    }\n",
       "    --slider_Pqnvzdvl4r.value;\n",
       "    value_Pqnvzdvl4r.innerHTML = slider_Pqnvzdvl4r.value;\n",
       "    trigger_Pqnvzdvl4r = false;\n",
       "    slider_Pqnvzdvl4r.oninput();\n",
       "})\n",
       "\n",
       "</script> \n"
      ]
     },
     "metadata": {},
     "output_type": "display_data"
    }
   ],
   "source": [
    "def createSeries:List[List[Double]] = {\n",
    "    val nbCol = (0 to 2).toList\n",
    "    val nestedList:List[List[Double]] = nbCol.flatMap(r => {\n",
    "    nbCol.map{c => getDataFromSingleModel(model, nbRats, List(r,c), numberOfSteps).map(x=>x.toDouble)}})\n",
    "    (0 to 9).map(x => (0 to 8).map(y => nestedList(y)(x)).toList).toList\n",
    "}\n",
    "\n",
    "\n",
    "val ratsAsSurface = createSeries.map(s => XYZ(z=s,n=3) asType SURFACE setColorBar(\"Rat Population\", RIGHT_SIDE)) \n",
    "\n",
    "val ratsChart = Chart(animated = true, transition_duration=100) addSeries ratsAsSurface setTitle \"Surface\" setZAxisLimits(0, 3E6)\n",
    "\n",
    "ratsChart.plotInline"
   ]
  },
  {
   "cell_type": "code",
   "execution_count": null,
   "metadata": {},
   "outputs": [],
   "source": []
  },
  {
   "cell_type": "code",
   "execution_count": null,
   "metadata": {},
   "outputs": [],
   "source": []
  }
 ],
 "metadata": {
  "kernelspec": {
   "display_name": "Scala",
   "language": "scala",
   "name": "scala"
  },
  "language_info": {
   "codemirror_mode": "text/x-scala",
   "file_extension": ".scala",
   "mimetype": "text/x-scala",
   "name": "scala",
   "nbconvert_exporter": "script",
   "version": "2.13.2"
  }
 },
 "nbformat": 4,
 "nbformat_minor": 4
}
