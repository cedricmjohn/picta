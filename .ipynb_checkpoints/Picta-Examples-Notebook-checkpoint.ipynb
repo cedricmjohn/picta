{
 "cells": [
  {
   "cell_type": "markdown",
   "metadata": {},
   "source": [
    "# 1. Setup\n",
    "\n",
    "To use Picta in a Jupyter notebook with the Almond.sh kernel, you need to first register a new Jitpack repository as some essential components of Almond are not availble in Maven Central (simply copy and run the first cell below). You then need to import the library from Maven (second cell) and initialize the notebook to have nicer outputs (optional, third cell)."
   ]
  },
  {
   "cell_type": "code",
   "execution_count": 1,
   "metadata": {},
   "outputs": [],
   "source": [
    "interp.repositories() ++= Seq(coursierapi.MavenRepository.of(\n",
    "\"https://jitpack.io\"\n",
    "))"
   ]
  },
  {
   "cell_type": "code",
   "execution_count": 2,
   "metadata": {},
   "outputs": [
    {
     "data": {
      "text/plain": [
       "\u001b[32mimport \u001b[39m\u001b[36m$ivy.$                                    \u001b[39m"
      ]
     },
     "execution_count": 2,
     "metadata": {},
     "output_type": "execute_result"
    }
   ],
   "source": [
    "import $ivy. `org.carbonateresearch::picta:0.1.1`"
   ]
  },
  {
   "cell_type": "code",
   "execution_count": 3,
   "metadata": {
    "scrolled": false
   },
   "outputs": [
    {
     "data": {
      "text/html": [
       "\n",
       "<style> #animationInterface {\n",
       "    margin-top: 50px;\n",
       "    margin-bottom: 50px;\n",
       "}\n",
       "\n",
       ".progressBar {\n",
       "    padding-top: 20px;\n",
       "    padding-bottom: 20px;\n",
       "}\n",
       "\n",
       ".inline-div {\n",
       "    display: block;\n",
       "    text-align: center;\n",
       "}\n",
       "\n",
       "h3 {\n",
       "    display: inline-block;\n",
       "    text-align: center;\n",
       "}\n",
       "\n",
       ".picta-button {\n",
       "    background-color: #003E74;\n",
       "    border: none;\n",
       "    color: white;\n",
       "    padding: 12px 28px;\n",
       "    text-align: center;\n",
       "    text-decoration: none;\n",
       "    display: inline-block;\n",
       "    font-size: 12px;\n",
       "    margin-top: 50px;\n",
       "    transition-duration: 0.4s;\n",
       "    cursor: pointer;\n",
       "}\n",
       "\n",
       ".picta-button:hover {\n",
       "    background-color: #002147;\n",
       "    color: white;\n",
       "}\n",
       "\n",
       ".grid-title h1 {\n",
       "    font-family: \"Open Sans\", verdana, arial, sans-serif;\n",
       "    font-weight: normal;\n",
       "}\n",
       "\n",
       ".grid-container {\n",
       "    padding-top: 40px;\n",
       "    background: white;\n",
       "} </style>\n",
       "<script> /** vim: et:ts=4:sw=4:sts=4\n",
       " * @license RequireJS 2.3.6 Copyright jQuery Foundation and other contributors.\n",
       " * Released under MIT license, https://github.com/requirejs/requirejs/blob/master/LICENSE\n",
       " */\n",
       "var requirejs,require,define;!function(global,setTimeout){var req,s,head,baseElement,dataMain,src,interactiveScript,currentlyAddingScript,mainScript,subPath,version=\"2.3.6\",commentRegExp=/\\/\\*[\\s\\S]*?\\*\\/|([^:\"'=]|^)\\/\\/.*$/gm,cjsRequireRegExp=/[^.]\\s*require\\s*\\(\\s*[\"']([^'\"\\s]+)[\"']\\s*\\)/g,jsSuffixRegExp=/\\.js$/,currDirRegExp=/^\\.\\//,op=Object.prototype,ostring=op.toString,hasOwn=op.hasOwnProperty,isBrowser=!(\"undefined\"==typeof window||\"undefined\"==typeof navigator||!window.document),isWebWorker=!isBrowser&&\"undefined\"!=typeof importScripts,readyRegExp=isBrowser&&\"PLAYSTATION 3\"===navigator.platform?/^complete$/:/^(complete|loaded)$/,defContextName=\"_\",isOpera=\"undefined\"!=typeof opera&&\"[object Opera]\"===opera.toString(),contexts={},cfg={},globalDefQueue=[],useInteractive=!1;function commentReplace(e,t){return t||\"\"}function isFunction(e){return\"[object Function]\"===ostring.call(e)}function isArray(e){return\"[object Array]\"===ostring.call(e)}function each(e,t){var i;if(e)for(i=0;i<e.length&&(!e[i]||!t(e[i],i,e));i+=1);}function eachReverse(e,t){var i;if(e)for(i=e.length-1;-1<i&&(!e[i]||!t(e[i],i,e));i-=1);}function hasProp(e,t){return hasOwn.call(e,t)}function getOwn(e,t){return hasProp(e,t)&&e[t]}function eachProp(e,t){var i;for(i in e)if(hasProp(e,i)&&t(e[i],i))break}function mixin(i,e,r,n){return e&&eachProp(e,function(e,t){!r&&hasProp(i,t)||(!n||\"object\"!=typeof e||!e||isArray(e)||isFunction(e)||e instanceof RegExp?i[t]=e:(i[t]||(i[t]={}),mixin(i[t],e,r,n)))}),i}function bind(e,t){return function(){return t.apply(e,arguments)}}function scripts(){return document.getElementsByTagName(\"script\")}function defaultOnError(e){throw e}function getGlobal(e){if(!e)return e;var t=global;return each(e.split(\".\"),function(e){t=t[e]}),t}function makeError(e,t,i,r){var n=new Error(t+\"\\nhttps://requirejs.org/docs/errors.html#\"+e);return n.requireType=e,n.requireModules=r,i&&(n.originalError=i),n}if(void 0===define){if(void 0!==requirejs){if(isFunction(requirejs))return;cfg=requirejs,requirejs=void 0}void 0===require||isFunction(require)||(cfg=require,require=void 0),req=requirejs=function(e,t,i,r){var n,o,a=defContextName;return isArray(e)||\"string\"==typeof e||(o=e,isArray(t)?(e=t,t=i,i=r):e=[]),o&&o.context&&(a=o.context),(n=getOwn(contexts,a))||(n=contexts[a]=req.s.newContext(a)),o&&n.configure(o),n.require(e,t,i)},req.config=function(e){return req(e)},req.nextTick=void 0!==setTimeout?function(e){setTimeout(e,4)}:function(e){e()},require||(require=req),req.version=version,req.jsExtRegExp=/^\\/|:|\\?|\\.js$/,req.isBrowser=isBrowser,s=req.s={contexts:contexts,newContext:newContext},req({}),each([\"toUrl\",\"undef\",\"defined\",\"specified\"],function(t){req[t]=function(){var e=contexts[defContextName];return e.require[t].apply(e,arguments)}}),isBrowser&&(head=s.head=document.getElementsByTagName(\"head\")[0],baseElement=document.getElementsByTagName(\"base\")[0],baseElement&&(head=s.head=baseElement.parentNode)),req.onError=defaultOnError,req.createNode=function(e,t,i){var r=e.xhtml?document.createElementNS(\"http://www.w3.org/1999/xhtml\",\"html:script\"):document.createElement(\"script\");return r.type=e.scriptType||\"text/javascript\",r.charset=\"utf-8\",r.async=!0,r},req.load=function(t,i,r){var e,n=t&&t.config||{};if(isBrowser)return(e=req.createNode(n,i,r)).setAttribute(\"data-requirecontext\",t.contextName),e.setAttribute(\"data-requiremodule\",i),!e.attachEvent||e.attachEvent.toString&&e.attachEvent.toString().indexOf(\"[native code\")<0||isOpera?(e.addEventListener(\"load\",t.onScriptLoad,!1),e.addEventListener(\"error\",t.onScriptError,!1)):(useInteractive=!0,e.attachEvent(\"onreadystatechange\",t.onScriptLoad)),e.src=r,n.onNodeCreated&&n.onNodeCreated(e,n,i,r),currentlyAddingScript=e,baseElement?head.insertBefore(e,baseElement):head.appendChild(e),currentlyAddingScript=null,e;if(isWebWorker)try{setTimeout(function(){},0),importScripts(r),t.completeLoad(i)}catch(e){t.onError(makeError(\"importscripts\",\"importScripts failed for \"+i+\" at \"+r,e,[i]))}},isBrowser&&!cfg.skipDataMain&&eachReverse(scripts(),function(e){if(head||(head=e.parentNode),dataMain=e.getAttribute(\"data-main\"))return mainScript=dataMain,cfg.baseUrl||-1!==mainScript.indexOf(\"!\")||(mainScript=(src=mainScript.split(\"/\")).pop(),subPath=src.length?src.join(\"/\")+\"/\":\"./\",cfg.baseUrl=subPath),mainScript=mainScript.replace(jsSuffixRegExp,\"\"),req.jsExtRegExp.test(mainScript)&&(mainScript=dataMain),cfg.deps=cfg.deps?cfg.deps.concat(mainScript):[mainScript],!0}),define=function(e,i,t){var r,n;\"string\"!=typeof e&&(t=i,i=e,e=null),isArray(i)||(t=i,i=null),!i&&isFunction(t)&&(i=[],t.length&&(t.toString().replace(commentRegExp,commentReplace).replace(cjsRequireRegExp,function(e,t){i.push(t)}),i=(1===t.length?[\"require\"]:[\"require\",\"exports\",\"module\"]).concat(i))),useInteractive&&(r=currentlyAddingScript||getInteractiveScript())&&(e||(e=r.getAttribute(\"data-requiremodule\")),n=contexts[r.getAttribute(\"data-requirecontext\")]),n?(n.defQueue.push([e,i,t]),n.defQueueMap[e]=!0):globalDefQueue.push([e,i,t])},define.amd={jQuery:!0},req.exec=function(text){return eval(text)},req(cfg)}function newContext(u){var i,e,l,c,d,g={waitSeconds:7,baseUrl:\"./\",paths:{},bundles:{},pkgs:{},shim:{},config:{}},p={},f={},r={},h=[],m={},n={},v={},x=1,b=1;function q(e,t,i){var r,n,o,a,s,u,c,d,p,f,l=t&&t.split(\"/\"),h=g.map,m=h&&h[\"*\"];if(e&&(u=(e=e.split(\"/\")).length-1,g.nodeIdCompat&&jsSuffixRegExp.test(e[u])&&(e[u]=e[u].replace(jsSuffixRegExp,\"\")),\".\"===e[0].charAt(0)&&l&&(e=l.slice(0,l.length-1).concat(e)),function(e){var t,i;for(t=0;t<e.length;t++)if(\".\"===(i=e[t]))e.splice(t,1),t-=1;else if(\"..\"===i){if(0===t||1===t&&\"..\"===e[2]||\"..\"===e[t-1])continue;0<t&&(e.splice(t-1,2),t-=2)}}(e),e=e.join(\"/\")),i&&h&&(l||m)){e:for(o=(n=e.split(\"/\")).length;0<o;o-=1){if(s=n.slice(0,o).join(\"/\"),l)for(a=l.length;0<a;a-=1)if((r=getOwn(h,l.slice(0,a).join(\"/\")))&&(r=getOwn(r,s))){c=r,d=o;break e}!p&&m&&getOwn(m,s)&&(p=getOwn(m,s),f=o)}!c&&p&&(c=p,d=f),c&&(n.splice(0,d,c),e=n.join(\"/\"))}return getOwn(g.pkgs,e)||e}function E(t){isBrowser&&each(scripts(),function(e){if(e.getAttribute(\"data-requiremodule\")===t&&e.getAttribute(\"data-requirecontext\")===l.contextName)return e.parentNode.removeChild(e),!0})}function w(e){var t=getOwn(g.paths,e);if(t&&isArray(t)&&1<t.length)return t.shift(),l.require.undef(e),l.makeRequire(null,{skipMap:!0})([e]),!0}function y(e){var t,i=e?e.indexOf(\"!\"):-1;return-1<i&&(t=e.substring(0,i),e=e.substring(i+1,e.length)),[t,e]}function S(e,t,i,r){var n,o,a,s,u=null,c=t?t.name:null,d=e,p=!0,f=\"\";return e||(p=!1,e=\"_@r\"+(x+=1)),u=(s=y(e))[0],e=s[1],u&&(u=q(u,c,r),o=getOwn(m,u)),e&&(u?f=i?e:o&&o.normalize?o.normalize(e,function(e){return q(e,c,r)}):-1===e.indexOf(\"!\")?q(e,c,r):e:(u=(s=y(f=q(e,c,r)))[0],f=s[1],i=!0,n=l.nameToUrl(f))),{prefix:u,name:f,parentMap:t,unnormalized:!!(a=!u||o||i?\"\":\"_unnormalized\"+(b+=1)),url:n,originalName:d,isDefine:p,id:(u?u+\"!\"+f:f)+a}}function k(e){var t=e.id,i=getOwn(p,t);return i||(i=p[t]=new l.Module(e)),i}function M(e,t,i){var r=e.id,n=getOwn(p,r);!hasProp(m,r)||n&&!n.defineEmitComplete?(n=k(e)).error&&\"error\"===t?i(n.error):n.on(t,i):\"defined\"===t&&i(m[r])}function O(i,e){var t=i.requireModules,r=!1;e?e(i):(each(t,function(e){var t=getOwn(p,e);t&&(t.error=i,t.events.error&&(r=!0,t.emit(\"error\",i)))}),r||req.onError(i))}function j(){globalDefQueue.length&&(each(globalDefQueue,function(e){var t=e[0];\"string\"==typeof t&&(l.defQueueMap[t]=!0),h.push(e)}),globalDefQueue=[])}function P(e){delete p[e],delete f[e]}function R(){var e,r,t=1e3*g.waitSeconds,n=t&&l.startTime+t<(new Date).getTime(),o=[],a=[],s=!1,u=!0;if(!i){if(i=!0,eachProp(f,function(e){var t=e.map,i=t.id;if(e.enabled&&(t.isDefine||a.push(e),!e.error))if(!e.inited&&n)w(i)?s=r=!0:(o.push(i),E(i));else if(!e.inited&&e.fetched&&t.isDefine&&(s=!0,!t.prefix))return u=!1}),n&&o.length)return(e=makeError(\"timeout\",\"Load timeout for modules: \"+o,null,o)).contextName=l.contextName,O(e);u&&each(a,function(e){!function n(o,a,s){var e=o.map.id;o.error?o.emit(\"error\",o.error):(a[e]=!0,each(o.depMaps,function(e,t){var i=e.id,r=getOwn(p,i);!r||o.depMatched[t]||s[i]||(getOwn(a,i)?(o.defineDep(t,m[i]),o.check()):n(r,a,s))}),s[e]=!0)}(e,{},{})}),n&&!r||!s||!isBrowser&&!isWebWorker||d||(d=setTimeout(function(){d=0,R()},50)),i=!1}}function a(e){hasProp(m,e[0])||k(S(e[0],null,!0)).init(e[1],e[2])}function o(e,t,i,r){e.detachEvent&&!isOpera?r&&e.detachEvent(r,t):e.removeEventListener(i,t,!1)}function s(e){var t=e.currentTarget||e.srcElement;return o(t,l.onScriptLoad,\"load\",\"onreadystatechange\"),o(t,l.onScriptError,\"error\"),{node:t,id:t&&t.getAttribute(\"data-requiremodule\")}}function T(){var e;for(j();h.length;){if(null===(e=h.shift())[0])return O(makeError(\"mismatch\",\"Mismatched anonymous define() module: \"+e[e.length-1]));a(e)}l.defQueueMap={}}return c={require:function(e){return e.require?e.require:e.require=l.makeRequire(e.map)},exports:function(e){if(e.usingExports=!0,e.map.isDefine)return e.exports?m[e.map.id]=e.exports:e.exports=m[e.map.id]={}},module:function(e){return e.module?e.module:e.module={id:e.map.id,uri:e.map.url,config:function(){return getOwn(g.config,e.map.id)||{}},exports:e.exports||(e.exports={})}}},(e=function(e){this.events=getOwn(r,e.id)||{},this.map=e,this.shim=getOwn(g.shim,e.id),this.depExports=[],this.depMaps=[],this.depMatched=[],this.pluginMaps={},this.depCount=0}).prototype={init:function(e,t,i,r){r=r||{},this.inited||(this.factory=t,i?this.on(\"error\",i):this.events.error&&(i=bind(this,function(e){this.emit(\"error\",e)})),this.depMaps=e&&e.slice(0),this.errback=i,this.inited=!0,this.ignore=r.ignore,r.enabled||this.enabled?this.enable():this.check())},defineDep:function(e,t){this.depMatched[e]||(this.depMatched[e]=!0,this.depCount-=1,this.depExports[e]=t)},fetch:function(){if(!this.fetched){this.fetched=!0,l.startTime=(new Date).getTime();var e=this.map;if(!this.shim)return e.prefix?this.callPlugin():this.load();l.makeRequire(this.map,{enableBuildCallback:!0})(this.shim.deps||[],bind(this,function(){return e.prefix?this.callPlugin():this.load()}))}},load:function(){var e=this.map.url;n[e]||(n[e]=!0,l.load(this.map.id,e))},check:function(){if(this.enabled&&!this.enabling){var t,e,i=this.map.id,r=this.depExports,n=this.exports,o=this.factory;if(this.inited){if(this.error)this.emit(\"error\",this.error);else if(!this.defining){if(this.defining=!0,this.depCount<1&&!this.defined){if(isFunction(o)){if(this.events.error&&this.map.isDefine||req.onError!==defaultOnError)try{n=l.execCb(i,o,r,n)}catch(e){t=e}else n=l.execCb(i,o,r,n);if(this.map.isDefine&&void 0===n&&((e=this.module)?n=e.exports:this.usingExports&&(n=this.exports)),t)return t.requireMap=this.map,t.requireModules=this.map.isDefine?[this.map.id]:null,t.requireType=this.map.isDefine?\"define\":\"require\",O(this.error=t)}else n=o;if(this.exports=n,this.map.isDefine&&!this.ignore&&(m[i]=n,req.onResourceLoad)){var a=[];each(this.depMaps,function(e){a.push(e.normalizedMap||e)}),req.onResourceLoad(l,this.map,a)}P(i),this.defined=!0}this.defining=!1,this.defined&&!this.defineEmitted&&(this.defineEmitted=!0,this.emit(\"defined\",this.exports),this.defineEmitComplete=!0)}}else hasProp(l.defQueueMap,i)||this.fetch()}},callPlugin:function(){var u=this.map,c=u.id,e=S(u.prefix);this.depMaps.push(e),M(e,\"defined\",bind(this,function(e){var o,t,i,r=getOwn(v,this.map.id),n=this.map.name,a=this.map.parentMap?this.map.parentMap.name:null,s=l.makeRequire(u.parentMap,{enableBuildCallback:!0});return this.map.unnormalized?(e.normalize&&(n=e.normalize(n,function(e){return q(e,a,!0)})||\"\"),M(t=S(u.prefix+\"!\"+n,this.map.parentMap,!0),\"defined\",bind(this,function(e){this.map.normalizedMap=t,this.init([],function(){return e},null,{enabled:!0,ignore:!0})})),void((i=getOwn(p,t.id))&&(this.depMaps.push(t),this.events.error&&i.on(\"error\",bind(this,function(e){this.emit(\"error\",e)})),i.enable()))):r?(this.map.url=l.nameToUrl(r),void this.load()):((o=bind(this,function(e){this.init([],function(){return e},null,{enabled:!0})})).error=bind(this,function(e){this.inited=!0,(this.error=e).requireModules=[c],eachProp(p,function(e){0===e.map.id.indexOf(c+\"_unnormalized\")&&P(e.map.id)}),O(e)}),o.fromText=bind(this,function(e,t){var i=u.name,r=S(i),n=useInteractive;t&&(e=t),n&&(useInteractive=!1),k(r),hasProp(g.config,c)&&(g.config[i]=g.config[c]);try{req.exec(e)}catch(e){return O(makeError(\"fromtexteval\",\"fromText eval for \"+c+\" failed: \"+e,e,[c]))}n&&(useInteractive=!0),this.depMaps.push(r),l.completeLoad(i),s([i],o)}),void e.load(u.name,s,o,g))})),l.enable(e,this),this.pluginMaps[e.id]=e},enable:function(){(f[this.map.id]=this).enabled=!0,this.enabling=!0,each(this.depMaps,bind(this,function(e,t){var i,r,n;if(\"string\"==typeof e){if(e=S(e,this.map.isDefine?this.map:this.map.parentMap,!1,!this.skipMap),this.depMaps[t]=e,n=getOwn(c,e.id))return void(this.depExports[t]=n(this));this.depCount+=1,M(e,\"defined\",bind(this,function(e){this.undefed||(this.defineDep(t,e),this.check())})),this.errback?M(e,\"error\",bind(this,this.errback)):this.events.error&&M(e,\"error\",bind(this,function(e){this.emit(\"error\",e)}))}i=e.id,r=p[i],hasProp(c,i)||!r||r.enabled||l.enable(e,this)})),eachProp(this.pluginMaps,bind(this,function(e){var t=getOwn(p,e.id);t&&!t.enabled&&l.enable(e,this)})),this.enabling=!1,this.check()},on:function(e,t){var i=this.events[e];i||(i=this.events[e]=[]),i.push(t)},emit:function(e,t){each(this.events[e],function(e){e(t)}),\"error\"===e&&delete this.events[e]}},(l={config:g,contextName:u,registry:p,defined:m,urlFetched:n,defQueue:h,defQueueMap:{},Module:e,makeModuleMap:S,nextTick:req.nextTick,onError:O,configure:function(e){if(e.baseUrl&&\"/\"!==e.baseUrl.charAt(e.baseUrl.length-1)&&(e.baseUrl+=\"/\"),\"string\"==typeof e.urlArgs){var i=e.urlArgs;e.urlArgs=function(e,t){return(-1===t.indexOf(\"?\")?\"?\":\"&\")+i}}var r=g.shim,n={paths:!0,bundles:!0,config:!0,map:!0};eachProp(e,function(e,t){n[t]?(g[t]||(g[t]={}),mixin(g[t],e,!0,!0)):g[t]=e}),e.bundles&&eachProp(e.bundles,function(e,t){each(e,function(e){e!==t&&(v[e]=t)})}),e.shim&&(eachProp(e.shim,function(e,t){isArray(e)&&(e={deps:e}),!e.exports&&!e.init||e.exportsFn||(e.exportsFn=l.makeShimExports(e)),r[t]=e}),g.shim=r),e.packages&&each(e.packages,function(e){var t;t=(e=\"string\"==typeof e?{name:e}:e).name,e.location&&(g.paths[t]=e.location),g.pkgs[t]=e.name+\"/\"+(e.main||\"main\").replace(currDirRegExp,\"\").replace(jsSuffixRegExp,\"\")}),eachProp(p,function(e,t){e.inited||e.map.unnormalized||(e.map=S(t,null,!0))}),(e.deps||e.callback)&&l.require(e.deps||[],e.callback)},makeShimExports:function(t){return function(){var e;return t.init&&(e=t.init.apply(global,arguments)),e||t.exports&&getGlobal(t.exports)}},makeRequire:function(o,a){function s(e,t,i){var r,n;return a.enableBuildCallback&&t&&isFunction(t)&&(t.__requireJsBuild=!0),\"string\"==typeof e?isFunction(t)?O(makeError(\"requireargs\",\"Invalid require call\"),i):o&&hasProp(c,e)?c[e](p[o.id]):req.get?req.get(l,e,o,s):(r=S(e,o,!1,!0).id,hasProp(m,r)?m[r]:O(makeError(\"notloaded\",'Module name \"'+r+'\" has not been loaded yet for context: '+u+(o?\"\":\". Use require([])\")))):(T(),l.nextTick(function(){T(),(n=k(S(null,o))).skipMap=a.skipMap,n.init(e,t,i,{enabled:!0}),R()}),s)}return a=a||{},mixin(s,{isBrowser:isBrowser,toUrl:function(e){var t,i=e.lastIndexOf(\".\"),r=e.split(\"/\")[0];return-1!==i&&(!(\".\"===r||\"..\"===r)||1<i)&&(t=e.substring(i,e.length),e=e.substring(0,i)),l.nameToUrl(q(e,o&&o.id,!0),t,!0)},defined:function(e){return hasProp(m,S(e,o,!1,!0).id)},specified:function(e){return e=S(e,o,!1,!0).id,hasProp(m,e)||hasProp(p,e)}}),o||(s.undef=function(i){j();var e=S(i,o,!0),t=getOwn(p,i);t.undefed=!0,E(i),delete m[i],delete n[e.url],delete r[i],eachReverse(h,function(e,t){e[0]===i&&h.splice(t,1)}),delete l.defQueueMap[i],t&&(t.events.defined&&(r[i]=t.events),P(i))}),s},enable:function(e){getOwn(p,e.id)&&k(e).enable()},completeLoad:function(e){var t,i,r,n=getOwn(g.shim,e)||{},o=n.exports;for(j();h.length;){if(null===(i=h.shift())[0]){if(i[0]=e,t)break;t=!0}else i[0]===e&&(t=!0);a(i)}if(l.defQueueMap={},r=getOwn(p,e),!t&&!hasProp(m,e)&&r&&!r.inited){if(!(!g.enforceDefine||o&&getGlobal(o)))return w(e)?void 0:O(makeError(\"nodefine\",\"No define call for \"+e,null,[e]));a([e,n.deps||[],n.exportsFn])}R()},nameToUrl:function(e,t,i){var r,n,o,a,s,u,c=getOwn(g.pkgs,e);if(c&&(e=c),u=getOwn(v,e))return l.nameToUrl(u,t,i);if(req.jsExtRegExp.test(e))a=e+(t||\"\");else{for(r=g.paths,o=(n=e.split(\"/\")).length;0<o;o-=1)if(s=getOwn(r,n.slice(0,o).join(\"/\"))){isArray(s)&&(s=s[0]),n.splice(0,o,s);break}a=n.join(\"/\"),a=(\"/\"===(a+=t||(/^data\\:|^blob\\:|\\?/.test(a)||i?\"\":\".js\")).charAt(0)||a.match(/^[\\w\\+\\.\\-]+:/)?\"\":g.baseUrl)+a}return g.urlArgs&&!/^blob\\:/.test(a)?a+g.urlArgs(e,a):a},load:function(e,t){req.load(l,e,t)},execCb:function(e,t,i,r){return t.apply(r,i)},onScriptLoad:function(e){if(\"load\"===e.type||readyRegExp.test((e.currentTarget||e.srcElement).readyState)){interactiveScript=null;var t=s(e);l.completeLoad(t.id)}},onScriptError:function(e){var i=s(e);if(!w(i.id)){var r=[];return eachProp(p,function(e,t){0!==t.indexOf(\"_@r\")&&each(e.depMaps,function(e){if(e.id===i.id)return r.push(t),!0})}),O(makeError(\"scripterror\",'Script error for \"'+i.id+(r.length?'\", needed by: '+r.join(\", \"):'\"'),e,[i.id]))}}}).require=l.makeRequire(),l}function getInteractiveScript(){return interactiveScript&&\"interactive\"===interactiveScript.readyState||eachReverse(scripts(),function(e){if(\"interactive\"===e.readyState)return interactiveScript=e}),interactiveScript}}(this,\"undefined\"==typeof setTimeout?void 0:setTimeout); </script>\n",
       "<script>\n",
       " require.config({\n",
       "   paths: {\n",
       "     'plotly': \"https://cdn.plot.ly/plotly-latest.min\",\n",
       "     'macy': \"https://cdn.jsdelivr.net/npm/macy@2.5.1/dist/macy.min\",\n",
       "     'merge': \"https://unpkg.com/merge-images@2.0.0/dist/index.umd\"\n",
       "   },\n",
       " })\n",
       "require( ['plotly', 'macy', 'merge'], function(Plotly, Macy, mergeImages) {\n",
       " window.Plotly = Plotly;\n",
       " window.Macy = Macy;\n",
       " window.mergeImages = mergeImages;\n",
       "})\n",
       "</script>\n"
      ]
     },
     "metadata": {},
     "output_type": "display_data"
    },
    {
     "data": {
      "text/plain": [
       "\u001b[32mimport \u001b[39m\u001b[36morg.carbonateresearch.picta.render.Html.initNotebook // required to initialize jupyter notebook mode\n",
       "\u001b[39m"
      ]
     },
     "execution_count": 3,
     "metadata": {},
     "output_type": "execute_result"
    }
   ],
   "source": [
    "import org.carbonateresearch.picta.render.Html.initNotebook // required to initialize jupyter notebook mode\n",
    "initNotebook() // stops ugly output"
   ]
  },
  {
   "cell_type": "markdown",
   "metadata": {},
   "source": [
    "# 1. Basics\n",
    "\n",
    "The aim of the Picta library is to be a highly configurable and composable charting library for data exploration. The library takes a grammatical approach to chart construction, using a DSL for creating plots. \n",
    "\n",
    "The following examples are aimed at demonstrating the libraries capabilities, and eventually make constructing charts using this library easy and intuitive."
   ]
  },
  {
   "cell_type": "markdown",
   "metadata": {},
   "source": [
    "### Main Components\n",
    "\n",
    "Picta graphs are constructed in a modular manner. The main components are:\n",
    "\n",
    "1. `Canvas`: This is is the top-level component for representing the display. A `Canvas` may consist of multiple charts.\n",
    "\n",
    "\n",
    "2. `Chart`: This is the component that corresponds to an actual chart (i.e. scatter, pie etc).\n",
    "\n",
    "\n",
    "3. `Series`: This is the data series that is plotted on a `Chart`. `Series` come in 3 types:\n",
    "\n",
    "    - `XY`:   This is series data for constructing a 2D chart\n",
    "    - `XYZ`:  This is series data for constructing a 3D chart\n",
    "    - `Map`:  This is series data that constructs a Map chart\n",
    "    \n",
    "\n",
    "4. `ChartLayout`: This configures various parts of how the `Chart` is represented on screen.\n",
    "\n",
    "`Chart` may occassionally also make use of the `Config` component for further configuration. `Config` specifies whether the plot is responsive.\n",
    "\n",
    "The following examples in this notebook should provide a number of interactive examples to get used to the Picta library."
   ]
  },
  {
   "cell_type": "markdown",
   "metadata": {},
   "source": [
    "### Importing the Library\n",
    "\n",
    "Importing as below should bring in the most frequently used Components in the library."
   ]
  },
  {
   "cell_type": "code",
   "execution_count": 4,
   "metadata": {},
   "outputs": [],
   "source": [
    "import org.carbonateresearch.picta._"
   ]
  },
  {
   "cell_type": "markdown",
   "metadata": {},
   "source": [
    "### Create Some Dummy Data to Use in the Examples\n",
    "\n",
    "Here we create some dummy data to be used in the examples for this notebook."
   ]
  },
  {
   "cell_type": "code",
   "execution_count": 5,
   "metadata": {},
   "outputs": [],
   "source": [
    "val x = List.range(0, 100).map(x => scala.util.Random.nextDouble() * 50)\n",
    "val y = List.range(0, 100).map(x => scala.util.Random.nextDouble() * 50)\n",
    "val z = List.range(0, 100).map(x => scala.util.Random.nextDouble() * 50)"
   ]
  },
  {
   "cell_type": "markdown",
   "metadata": {},
   "source": [
    "### 2D Plots\n",
    "\n",
    "`Series` that represent 2D data are represented by `XY` series types.\n",
    "\n",
    "\n",
    "#### Scatter Plot\n",
    "\n",
    "An example `Scatter` plot is below. \n",
    "\n",
    "Note: This is just one way to call the library functions. Another way that uses function chaining will be shown immediately after this example."
   ]
  },
  {
   "cell_type": "code",
   "execution_count": 6,
   "metadata": {},
   "outputs": [
    {
     "data": {
      "text/html": [
       "<div id=\"grid-container_t3DSr2LIn2\" class=\"grid-container\" align=\"center\"> \n",
       "<div id=\"grid_t3DSr2LIn2\" class=\"grid\" align=\"center\"> \n",
       "<div id=\"graph_xin2O34y2S\" class=\"graph\"></div> \n",
       "</div> \n",
       "</div> \n",
       "<script>\n",
       "var masonry = new Macy({\n",
       "    container: '#grid_t3DSr2LIn2',\n",
       "    debug: true,\n",
       "    mobileFirst: true,\n",
       "    columns: 1,\n",
       "    margin: {\n",
       "        x: 0,\n",
       "        y: 0\n",
       "    }\n",
       "  });\n",
       "\n",
       "  var traces_xin2O34y2S = [{\"name\":\"TEncyO8vw7\",\"type\":\"scatter\",\"mode\":\"markers\",\"x\":[23.384073954744682,42.204041460241335,28.35416067047506,37.13513415036919,46.20607593666776,47.55384587083593,25.777721908212005,24.16021256171515,25.02165230272083,28.363942436777513,19.323681360340807,12.986202450402018,41.9906924156315,44.840027831909964,29.699676582775485,34.91589215613837,9.111922841796872,34.62145703071744,16.348860042659254,44.281864509588345,14.234123670045257,29.549389957091677,36.42091280183596,23.055587179449887,26.19196045919087,39.52806228994976,6.944962574610091,18.556894869779782,12.418778862389262,37.50782401276872,6.491344789745929,18.922325485865542,33.96099525992754,19.706446310728097,36.83764833370895,39.984993409093214,2.203465041032099,25.58561275985154,32.195495565364666,11.52527126009279,8.812475643843253,32.81239650046434,3.408036853116758,10.470714111100271,25.41279483594986,43.46089465347969,37.19415082547722,43.55530166552559,12.337449371384102,49.04711614806628,35.993844666245465,32.19220190573926,26.423685874263807,3.6405801738441044,32.26038063367612,47.87091509728098,26.275827635678457,46.258997369077704,42.14816934563659,37.258789910160644,39.675516281152056,46.027771045315724,37.46147246520183,12.368540597756228,31.89207275771377,46.173962125646305,11.457481516076145,12.647539386304295,45.53050156301339,5.824760609425522,43.63836553810217,22.65131072806938,22.251903206834335,31.793375919248827,31.020372397129094,1.0827587246714732,14.210853885677437,6.0606565506022,48.53411396245837,44.410356649720235,48.376547995222175,48.4986514441341,29.188642614501813,21.022591594199348,20.039284201662028,8.53270610285788,15.422981676554064,19.932691807653853,12.751136325468066,3.9015665434520566,26.672270522190082,11.416710195171941,20.70941308214923,19.450381700134496,14.59168664345103,15.649747811941017,36.16377353887541,43.97936868001681,36.60984987264032,19.399204127604413],\"y\":[8.812650335151911,8.571280748939907,20.524405099957665,20.140609165219203,36.35186428415895,45.533748750729394,17.706025763655788,11.580695224099035,5.348111873245564,13.117918720141308,0.14305072375079275,4.504045078308239,19.432255933393854,27.512715105886127,47.037528012501475,2.10377444754527,27.44211938370502,10.26445992531907,39.95443168752715,19.513353356176662,47.59174938130299,46.2344450144627,41.62933051341001,3.1257953004816486,25.003871753517444,4.482461821787398,22.455819464925625,16.468123164840637,9.014555097615329,2.052185787322175,20.402524180542642,15.893104572801587,43.543823743827424,38.53469025020105,24.6505103778839,41.156948425177845,28.523252371925217,47.49925634987592,10.595454011820326,43.07075940325305,32.88135602340826,49.40606543010605,24.024927533744705,12.845173684793092,19.909800190991987,49.45320024199109,15.25968440635001,15.49181036382708,33.96828583928918,2.9608106459858616,9.83884078901393,12.701714272201963,43.43318637264503,20.35818740280222,20.932357799493456,38.99019395454966,38.55478492526834,3.6148511557031804,10.080256485905242,18.579043387811122,44.46025929841452,46.04469075877561,37.08650516036809,29.481307884778406,28.924266964957358,37.812540841823896,6.936537834767126,35.56037489744544,11.726312850304438,0.18551820887781623,21.46087453341442,16.954329292324942,17.423805622151683,22.596772705891293,26.13333264797193,34.188131130139396,6.191982677402391,47.927265885803,7.8708387765227155,11.540342198452858,18.01665849368875,43.06152576669213,47.992851044440336,20.78774344492344,23.97301806474931,3.7362401320268135,15.601943089417913,37.32033174236889,44.583426332620604,24.975940597898237,0.5630761633745207,26.800850653935722,19.31949758844722,20.99792710815769,31.987660562847193,2.0371006899153943,43.19845530688848,1.3689444011581064,7.669451623960294,16.541964300744716]}];\n",
       " var layout_xin2O34y2S = {\"height\":550,\"width\":600,\"hovermode\":\"closest\",\"title\":{\"text\":\"My First Chart\"},\"showlegend\":true};\n",
       " var config_xin2O34y2S = {\"responsive\":true,\"scrollZoom\":true,\"displaylogo\":false};\n",
       " Plotly.newPlot(\"graph_xin2O34y2S\", traces_xin2O34y2S, layout_xin2O34y2S, config_xin2O34y2S);\n",
       "</script> \n"
      ]
     },
     "metadata": {},
     "output_type": "display_data"
    }
   ],
   "source": [
    "// create the data series using the data from above\n",
    "// 'asType SCATTER' transforms the series into a scatter chart\n",
    "// 'drawStyle Markers' specifies the style of the markers the chart should have\n",
    "// if a name is not provided to the series, Picta generates a random name to help keep track of the series in charts\n",
    "// multiple series.\n",
    "val series = XY(x, y) asType SCATTER drawStyle MARKERS\n",
    "\n",
    "// create a chart by adding to it a data series. We set the title as 'First Chart'\n",
    "val chart = Chart() addSeries series setTitle \"My First Chart\"\n",
    "\n",
    "// if we have a single chart, then we do not need to use the Canvas and can simply call chart.plot\n",
    "chart.plotInline"
   ]
  },
  {
   "cell_type": "markdown",
   "metadata": {},
   "source": [
    "### Simple costumization\n",
    "This plot is nice, but could use some simple costumization to make it more attractive. First, the data series does not have a name and so the legend come with a generated arbitrary name (not very useful). Second, the X and Y axis don't have labels. Let's fix that."
   ]
  },
  {
   "cell_type": "code",
   "execution_count": 7,
   "metadata": {},
   "outputs": [
    {
     "data": {
      "text/html": [
       "<div id=\"grid-container_gooGWkIgNE\" class=\"grid-container\" align=\"center\"> \n",
       "<div id=\"grid_gooGWkIgNE\" class=\"grid\" align=\"center\"> \n",
       "<div id=\"graph_RNqr7zXxY5\" class=\"graph\"></div> \n",
       "</div> \n",
       "</div> \n",
       "<script>\n",
       "var masonry = new Macy({\n",
       "    container: '#grid_gooGWkIgNE',\n",
       "    debug: true,\n",
       "    mobileFirst: true,\n",
       "    columns: 1,\n",
       "    margin: {\n",
       "        x: 0,\n",
       "        y: 0\n",
       "    }\n",
       "  });\n",
       "\n",
       "  var traces_RNqr7zXxY5 = [{\"name\":\"x vs y\",\"type\":\"scatter\",\"mode\":\"markers\",\"x\":[23.384073954744682,42.204041460241335,28.35416067047506,37.13513415036919,46.20607593666776,47.55384587083593,25.777721908212005,24.16021256171515,25.02165230272083,28.363942436777513,19.323681360340807,12.986202450402018,41.9906924156315,44.840027831909964,29.699676582775485,34.91589215613837,9.111922841796872,34.62145703071744,16.348860042659254,44.281864509588345,14.234123670045257,29.549389957091677,36.42091280183596,23.055587179449887,26.19196045919087,39.52806228994976,6.944962574610091,18.556894869779782,12.418778862389262,37.50782401276872,6.491344789745929,18.922325485865542,33.96099525992754,19.706446310728097,36.83764833370895,39.984993409093214,2.203465041032099,25.58561275985154,32.195495565364666,11.52527126009279,8.812475643843253,32.81239650046434,3.408036853116758,10.470714111100271,25.41279483594986,43.46089465347969,37.19415082547722,43.55530166552559,12.337449371384102,49.04711614806628,35.993844666245465,32.19220190573926,26.423685874263807,3.6405801738441044,32.26038063367612,47.87091509728098,26.275827635678457,46.258997369077704,42.14816934563659,37.258789910160644,39.675516281152056,46.027771045315724,37.46147246520183,12.368540597756228,31.89207275771377,46.173962125646305,11.457481516076145,12.647539386304295,45.53050156301339,5.824760609425522,43.63836553810217,22.65131072806938,22.251903206834335,31.793375919248827,31.020372397129094,1.0827587246714732,14.210853885677437,6.0606565506022,48.53411396245837,44.410356649720235,48.376547995222175,48.4986514441341,29.188642614501813,21.022591594199348,20.039284201662028,8.53270610285788,15.422981676554064,19.932691807653853,12.751136325468066,3.9015665434520566,26.672270522190082,11.416710195171941,20.70941308214923,19.450381700134496,14.59168664345103,15.649747811941017,36.16377353887541,43.97936868001681,36.60984987264032,19.399204127604413],\"y\":[8.812650335151911,8.571280748939907,20.524405099957665,20.140609165219203,36.35186428415895,45.533748750729394,17.706025763655788,11.580695224099035,5.348111873245564,13.117918720141308,0.14305072375079275,4.504045078308239,19.432255933393854,27.512715105886127,47.037528012501475,2.10377444754527,27.44211938370502,10.26445992531907,39.95443168752715,19.513353356176662,47.59174938130299,46.2344450144627,41.62933051341001,3.1257953004816486,25.003871753517444,4.482461821787398,22.455819464925625,16.468123164840637,9.014555097615329,2.052185787322175,20.402524180542642,15.893104572801587,43.543823743827424,38.53469025020105,24.6505103778839,41.156948425177845,28.523252371925217,47.49925634987592,10.595454011820326,43.07075940325305,32.88135602340826,49.40606543010605,24.024927533744705,12.845173684793092,19.909800190991987,49.45320024199109,15.25968440635001,15.49181036382708,33.96828583928918,2.9608106459858616,9.83884078901393,12.701714272201963,43.43318637264503,20.35818740280222,20.932357799493456,38.99019395454966,38.55478492526834,3.6148511557031804,10.080256485905242,18.579043387811122,44.46025929841452,46.04469075877561,37.08650516036809,29.481307884778406,28.924266964957358,37.812540841823896,6.936537834767126,35.56037489744544,11.726312850304438,0.18551820887781623,21.46087453341442,16.954329292324942,17.423805622151683,22.596772705891293,26.13333264797193,34.188131130139396,6.191982677402391,47.927265885803,7.8708387765227155,11.540342198452858,18.01665849368875,43.06152576669213,47.992851044440336,20.78774344492344,23.97301806474931,3.7362401320268135,15.601943089417913,37.32033174236889,44.583426332620604,24.975940597898237,0.5630761633745207,26.800850653935722,19.31949758844722,20.99792710815769,31.987660562847193,2.0371006899153943,43.19845530688848,1.3689444011581064,7.669451623960294,16.541964300744716]}];\n",
       " var layout_RNqr7zXxY5 = {\"height\":550,\"width\":600,\"hovermode\":\"closest\",\"title\":{\"text\":\"Chart with custom axis and label\"},\"showlegend\":true,\"xaxis\":{\"title\":{\"text\":\"X values\"},\"showgrid\":true,\"zeroline\":false,\"showline\":false},\"yaxis\":{\"title\":{\"text\":\"Y values\"},\"showgrid\":true,\"zeroline\":false,\"showline\":false}};\n",
       " var config_RNqr7zXxY5 = {\"responsive\":true,\"scrollZoom\":true,\"displaylogo\":false};\n",
       " Plotly.newPlot(\"graph_RNqr7zXxY5\", traces_RNqr7zXxY5, layout_RNqr7zXxY5, config_RNqr7zXxY5);\n",
       "</script> \n"
      ]
     },
     "metadata": {},
     "output_type": "display_data"
    }
   ],
   "source": [
    "val series = XY(x, y) asType SCATTER drawStyle MARKERS setName(\"x vs y\") // Using 'setName' gives a name to our series \n",
    "\n",
    "// Note the use of the setXAxisTitle and setYAxisTitle compared to above\n",
    "val chart = Chart() addSeries series setTitle \"Chart with custom axis and label\" setXAxisTitle(\"X values\") setYAxisTitle(\"Y values\")\n",
    "\n",
    "chart.plotInline"
   ]
  },
  {
   "cell_type": "markdown",
   "metadata": {},
   "source": [
    "#### Chaining methods using the '.dot' notation\n",
    "\n",
    "Sometimes when we are specifying many options, it is quicker to use the IDE autocomplete and just chain the method calls using the familiar '.dot' notation. Throughout this book both the style above and the method chaining style will be used as and when convenient."
   ]
  },
  {
   "cell_type": "code",
   "execution_count": 8,
   "metadata": {},
   "outputs": [
    {
     "data": {
      "text/html": [
       "<div id=\"grid-container_fgN0zrIcU0\" class=\"grid-container\" align=\"center\"> \n",
       "<div id=\"grid_fgN0zrIcU0\" class=\"grid\" align=\"center\"> \n",
       "<div id=\"graph_mxQpT5sKBm\" class=\"graph\"></div> \n",
       "</div> \n",
       "</div> \n",
       "<script>\n",
       "var masonry = new Macy({\n",
       "    container: '#grid_fgN0zrIcU0',\n",
       "    debug: true,\n",
       "    mobileFirst: true,\n",
       "    columns: 1,\n",
       "    margin: {\n",
       "        x: 0,\n",
       "        y: 0\n",
       "    }\n",
       "  });\n",
       "\n",
       "  var traces_mxQpT5sKBm = [{\"name\":\"Chained xy\",\"type\":\"scatter\",\"mode\":\"markers\",\"x\":[23.384073954744682,42.204041460241335,28.35416067047506,37.13513415036919,46.20607593666776,47.55384587083593,25.777721908212005,24.16021256171515,25.02165230272083,28.363942436777513,19.323681360340807,12.986202450402018,41.9906924156315,44.840027831909964,29.699676582775485,34.91589215613837,9.111922841796872,34.62145703071744,16.348860042659254,44.281864509588345,14.234123670045257,29.549389957091677,36.42091280183596,23.055587179449887,26.19196045919087,39.52806228994976,6.944962574610091,18.556894869779782,12.418778862389262,37.50782401276872,6.491344789745929,18.922325485865542,33.96099525992754,19.706446310728097,36.83764833370895,39.984993409093214,2.203465041032099,25.58561275985154,32.195495565364666,11.52527126009279,8.812475643843253,32.81239650046434,3.408036853116758,10.470714111100271,25.41279483594986,43.46089465347969,37.19415082547722,43.55530166552559,12.337449371384102,49.04711614806628,35.993844666245465,32.19220190573926,26.423685874263807,3.6405801738441044,32.26038063367612,47.87091509728098,26.275827635678457,46.258997369077704,42.14816934563659,37.258789910160644,39.675516281152056,46.027771045315724,37.46147246520183,12.368540597756228,31.89207275771377,46.173962125646305,11.457481516076145,12.647539386304295,45.53050156301339,5.824760609425522,43.63836553810217,22.65131072806938,22.251903206834335,31.793375919248827,31.020372397129094,1.0827587246714732,14.210853885677437,6.0606565506022,48.53411396245837,44.410356649720235,48.376547995222175,48.4986514441341,29.188642614501813,21.022591594199348,20.039284201662028,8.53270610285788,15.422981676554064,19.932691807653853,12.751136325468066,3.9015665434520566,26.672270522190082,11.416710195171941,20.70941308214923,19.450381700134496,14.59168664345103,15.649747811941017,36.16377353887541,43.97936868001681,36.60984987264032,19.399204127604413],\"y\":[8.812650335151911,8.571280748939907,20.524405099957665,20.140609165219203,36.35186428415895,45.533748750729394,17.706025763655788,11.580695224099035,5.348111873245564,13.117918720141308,0.14305072375079275,4.504045078308239,19.432255933393854,27.512715105886127,47.037528012501475,2.10377444754527,27.44211938370502,10.26445992531907,39.95443168752715,19.513353356176662,47.59174938130299,46.2344450144627,41.62933051341001,3.1257953004816486,25.003871753517444,4.482461821787398,22.455819464925625,16.468123164840637,9.014555097615329,2.052185787322175,20.402524180542642,15.893104572801587,43.543823743827424,38.53469025020105,24.6505103778839,41.156948425177845,28.523252371925217,47.49925634987592,10.595454011820326,43.07075940325305,32.88135602340826,49.40606543010605,24.024927533744705,12.845173684793092,19.909800190991987,49.45320024199109,15.25968440635001,15.49181036382708,33.96828583928918,2.9608106459858616,9.83884078901393,12.701714272201963,43.43318637264503,20.35818740280222,20.932357799493456,38.99019395454966,38.55478492526834,3.6148511557031804,10.080256485905242,18.579043387811122,44.46025929841452,46.04469075877561,37.08650516036809,29.481307884778406,28.924266964957358,37.812540841823896,6.936537834767126,35.56037489744544,11.726312850304438,0.18551820887781623,21.46087453341442,16.954329292324942,17.423805622151683,22.596772705891293,26.13333264797193,34.188131130139396,6.191982677402391,47.927265885803,7.8708387765227155,11.540342198452858,18.01665849368875,43.06152576669213,47.992851044440336,20.78774344492344,23.97301806474931,3.7362401320268135,15.601943089417913,37.32033174236889,44.583426332620604,24.975940597898237,0.5630761633745207,26.800850653935722,19.31949758844722,20.99792710815769,31.987660562847193,2.0371006899153943,43.19845530688848,1.3689444011581064,7.669451623960294,16.541964300744716]}];\n",
       " var layout_mxQpT5sKBm = {\"height\":550,\"width\":600,\"hovermode\":\"closest\",\"title\":{\"text\":\"Using Method Chaining\"},\"showlegend\":true,\"xaxis\":{\"title\":{\"text\":\"X values\"},\"showgrid\":true,\"zeroline\":false,\"showline\":false},\"yaxis\":{\"title\":{\"text\":\"Y values\"},\"showgrid\":true,\"zeroline\":false,\"showline\":false}};\n",
       " var config_mxQpT5sKBm = {\"responsive\":true,\"scrollZoom\":true,\"displaylogo\":false};\n",
       " Plotly.newPlot(\"graph_mxQpT5sKBm\", traces_mxQpT5sKBm, layout_mxQpT5sKBm, config_mxQpT5sKBm);\n",
       "</script> \n"
      ]
     },
     "metadata": {},
     "output_type": "display_data"
    }
   ],
   "source": [
    "// sometimes we may specify many options. In such cases it is clearer to use function chaining as below:\n",
    "val series = XY(x, y)\n",
    "            .asType(SCATTER)\n",
    "            .setName(\"Chained xy\")\n",
    "            .drawMarkers  // This is to help leverage the IDE autocompletion for quick scripting. Tap 'tab' twice to see options.\n",
    "\n",
    "val chart = Chart()\n",
    "            .addSeries(series)\n",
    "            .setTitle(\"Using Method Chaining\")\n",
    "            // by specifying and X and Y axes we can give more rid of the zerolines\n",
    "            .addAxes(Axis(X ,zeroline = false), Axis(Y ,zeroline = false))\n",
    "            .setXAxisTitle(\"X values\")\n",
    "            .setYAxisTitle(\"Y values\")\n",
    "\n",
    "chart.plotInline"
   ]
  },
  {
   "cell_type": "markdown",
   "metadata": {},
   "source": [
    "#### Bar Chart\n",
    "\n",
    "Now using the same principles as above, let's create a `Bar` chart:"
   ]
  },
  {
   "cell_type": "code",
   "execution_count": 9,
   "metadata": {},
   "outputs": [
    {
     "data": {
      "text/html": [
       "<div id=\"grid-container_aYrhsGOkgl\" class=\"grid-container\" align=\"center\"> \n",
       "<div id=\"grid_aYrhsGOkgl\" class=\"grid\" align=\"center\"> \n",
       "<div id=\"graph_eqGyU3pPfT\" class=\"graph\"></div> \n",
       "</div> \n",
       "</div> \n",
       "<script>\n",
       "var masonry = new Macy({\n",
       "    container: '#grid_aYrhsGOkgl',\n",
       "    debug: true,\n",
       "    mobileFirst: true,\n",
       "    columns: 1,\n",
       "    margin: {\n",
       "        x: 0,\n",
       "        y: 0\n",
       "    }\n",
       "  });\n",
       "\n",
       "  var traces_eqGyU3pPfT = [{\"name\":\"My data\",\"type\":\"bar\",\"x\":[\"a\",\"b\",\"c\"],\"y\":[10,20,300]}];\n",
       " var layout_eqGyU3pPfT = {\"height\":550,\"width\":600,\"hovermode\":\"closest\",\"title\":{\"text\":\"Bar Chart\"},\"showlegend\":true,\"xaxis\":{\"title\":{\"text\":\"Category\"},\"showgrid\":true,\"zeroline\":false,\"showline\":false},\"yaxis\":{\"title\":{\"text\":\"Count\"},\"showgrid\":true,\"zeroline\":false,\"showline\":false}};\n",
       " var config_eqGyU3pPfT = {\"responsive\":false,\"scrollZoom\":false,\"displaylogo\":false};\n",
       " Plotly.newPlot(\"graph_eqGyU3pPfT\", traces_eqGyU3pPfT, layout_eqGyU3pPfT, config_eqGyU3pPfT);\n",
       "</script> \n"
      ]
     },
     "metadata": {},
     "output_type": "display_data"
    }
   ],
   "source": [
    "// First we create some data for the piechart\n",
    "val x_bar = List(\"a\", \"b\", \"c\")\n",
    "val y_bar = List(10, 20, 300)\n",
    "\n",
    "// again feed in the data that we want to represent as a Bar chart.\n",
    "// Notice how we change 'asType SCATTER' to 'asType BAR'\n",
    "val series = XY(x_bar, y_bar) asType BAR setName(\"My data\")\n",
    "\n",
    "// we can turn off the scrollzoom using setConfig\n",
    "val chart = Chart() addSeries series setTitle \"Bar Chart\" setConfig(false, false) setXAxisTitle \"Category\" setYAxisTitle \"Count\"\n",
    "\n",
    "chart.plotInline"
   ]
  },
  {
   "cell_type": "markdown",
   "metadata": {},
   "source": [
    "#### Adding Multiple Series on the Same Axis\n",
    "\n",
    "Sometimes we may want to plot multiple `Series` on the same axis to compare different data series.\n",
    "\n",
    "Let's plot both of the above on the same pair of axis:"
   ]
  },
  {
   "cell_type": "code",
   "execution_count": 10,
   "metadata": {},
   "outputs": [],
   "source": [
    "// we import the marker option which lets us specify the marker\n",
    "import org.carbonateresearch.picta.options.Marker\n",
    "import org.carbonateresearch.picta.SymbolShape._"
   ]
  },
  {
   "cell_type": "code",
   "execution_count": 11,
   "metadata": {},
   "outputs": [
    {
     "data": {
      "text/html": [
       "<div id=\"grid-container_Z0TyE4q8Ao\" class=\"grid-container\" align=\"center\"> \n",
       "<div id=\"grid_Z0TyE4q8Ao\" class=\"grid\" align=\"center\"> \n",
       "<div id=\"graph_HN5ztbXd9T\" class=\"graph\"></div> \n",
       "</div> \n",
       "</div> \n",
       "<script>\n",
       "var masonry = new Macy({\n",
       "    container: '#grid_Z0TyE4q8Ao',\n",
       "    debug: true,\n",
       "    mobileFirst: true,\n",
       "    columns: 1,\n",
       "    margin: {\n",
       "        x: 0,\n",
       "        y: 0\n",
       "    }\n",
       "  });\n",
       "\n",
       "  var traces_HN5ztbXd9T = [{\"name\":\"Bar\",\"type\":\"bar\",\"x\":[23.384073954744682,42.204041460241335,28.35416067047506,37.13513415036919,46.20607593666776,47.55384587083593,25.777721908212005,24.16021256171515,25.02165230272083,28.363942436777513,19.323681360340807,12.986202450402018,41.9906924156315,44.840027831909964,29.699676582775485,34.91589215613837,9.111922841796872,34.62145703071744,16.348860042659254,44.281864509588345,14.234123670045257,29.549389957091677,36.42091280183596,23.055587179449887,26.19196045919087,39.52806228994976,6.944962574610091,18.556894869779782,12.418778862389262,37.50782401276872,6.491344789745929,18.922325485865542,33.96099525992754,19.706446310728097,36.83764833370895,39.984993409093214,2.203465041032099,25.58561275985154,32.195495565364666,11.52527126009279,8.812475643843253,32.81239650046434,3.408036853116758,10.470714111100271,25.41279483594986,43.46089465347969,37.19415082547722,43.55530166552559,12.337449371384102,49.04711614806628,35.993844666245465,32.19220190573926,26.423685874263807,3.6405801738441044,32.26038063367612,47.87091509728098,26.275827635678457,46.258997369077704,42.14816934563659,37.258789910160644,39.675516281152056,46.027771045315724,37.46147246520183,12.368540597756228,31.89207275771377,46.173962125646305,11.457481516076145,12.647539386304295,45.53050156301339,5.824760609425522,43.63836553810217,22.65131072806938,22.251903206834335,31.793375919248827,31.020372397129094,1.0827587246714732,14.210853885677437,6.0606565506022,48.53411396245837,44.410356649720235,48.376547995222175,48.4986514441341,29.188642614501813,21.022591594199348,20.039284201662028,8.53270610285788,15.422981676554064,19.932691807653853,12.751136325468066,3.9015665434520566,26.672270522190082,11.416710195171941,20.70941308214923,19.450381700134496,14.59168664345103,15.649747811941017,36.16377353887541,43.97936868001681,36.60984987264032,19.399204127604413],\"y\":[8.812650335151911,8.571280748939907,20.524405099957665,20.140609165219203,36.35186428415895,45.533748750729394,17.706025763655788,11.580695224099035,5.348111873245564,13.117918720141308,0.14305072375079275,4.504045078308239,19.432255933393854,27.512715105886127,47.037528012501475,2.10377444754527,27.44211938370502,10.26445992531907,39.95443168752715,19.513353356176662,47.59174938130299,46.2344450144627,41.62933051341001,3.1257953004816486,25.003871753517444,4.482461821787398,22.455819464925625,16.468123164840637,9.014555097615329,2.052185787322175,20.402524180542642,15.893104572801587,43.543823743827424,38.53469025020105,24.6505103778839,41.156948425177845,28.523252371925217,47.49925634987592,10.595454011820326,43.07075940325305,32.88135602340826,49.40606543010605,24.024927533744705,12.845173684793092,19.909800190991987,49.45320024199109,15.25968440635001,15.49181036382708,33.96828583928918,2.9608106459858616,9.83884078901393,12.701714272201963,43.43318637264503,20.35818740280222,20.932357799493456,38.99019395454966,38.55478492526834,3.6148511557031804,10.080256485905242,18.579043387811122,44.46025929841452,46.04469075877561,37.08650516036809,29.481307884778406,28.924266964957358,37.812540841823896,6.936537834767126,35.56037489744544,11.726312850304438,0.18551820887781623,21.46087453341442,16.954329292324942,17.423805622151683,22.596772705891293,26.13333264797193,34.188131130139396,6.191982677402391,47.927265885803,7.8708387765227155,11.540342198452858,18.01665849368875,43.06152576669213,47.992851044440336,20.78774344492344,23.97301806474931,3.7362401320268135,15.601943089417913,37.32033174236889,44.583426332620604,24.975940597898237,0.5630761633745207,26.800850653935722,19.31949758844722,20.99792710815769,31.987660562847193,2.0371006899153943,43.19845530688848,1.3689444011581064,7.669451623960294,16.541964300744716]},{\"name\":\"Scatter\",\"type\":\"scatter\",\"mode\":\"markers\",\"marker\":{\"symbol\":\"square-open\",\"color\":\"red\"},\"x\":[23.384073954744682,42.204041460241335,28.35416067047506,37.13513415036919,46.20607593666776,47.55384587083593,25.777721908212005,24.16021256171515,25.02165230272083,28.363942436777513,19.323681360340807,12.986202450402018,41.9906924156315,44.840027831909964,29.699676582775485,34.91589215613837,9.111922841796872,34.62145703071744,16.348860042659254,44.281864509588345,14.234123670045257,29.549389957091677,36.42091280183596,23.055587179449887,26.19196045919087,39.52806228994976,6.944962574610091,18.556894869779782,12.418778862389262,37.50782401276872,6.491344789745929,18.922325485865542,33.96099525992754,19.706446310728097,36.83764833370895,39.984993409093214,2.203465041032099,25.58561275985154,32.195495565364666,11.52527126009279,8.812475643843253,32.81239650046434,3.408036853116758,10.470714111100271,25.41279483594986,43.46089465347969,37.19415082547722,43.55530166552559,12.337449371384102,49.04711614806628,35.993844666245465,32.19220190573926,26.423685874263807,3.6405801738441044,32.26038063367612,47.87091509728098,26.275827635678457,46.258997369077704,42.14816934563659,37.258789910160644,39.675516281152056,46.027771045315724,37.46147246520183,12.368540597756228,31.89207275771377,46.173962125646305,11.457481516076145,12.647539386304295,45.53050156301339,5.824760609425522,43.63836553810217,22.65131072806938,22.251903206834335,31.793375919248827,31.020372397129094,1.0827587246714732,14.210853885677437,6.0606565506022,48.53411396245837,44.410356649720235,48.376547995222175,48.4986514441341,29.188642614501813,21.022591594199348,20.039284201662028,8.53270610285788,15.422981676554064,19.932691807653853,12.751136325468066,3.9015665434520566,26.672270522190082,11.416710195171941,20.70941308214923,19.450381700134496,14.59168664345103,15.649747811941017,36.16377353887541,43.97936868001681,36.60984987264032,19.399204127604413],\"y\":[8.812650335151911,8.571280748939907,20.524405099957665,20.140609165219203,36.35186428415895,45.533748750729394,17.706025763655788,11.580695224099035,5.348111873245564,13.117918720141308,0.14305072375079275,4.504045078308239,19.432255933393854,27.512715105886127,47.037528012501475,2.10377444754527,27.44211938370502,10.26445992531907,39.95443168752715,19.513353356176662,47.59174938130299,46.2344450144627,41.62933051341001,3.1257953004816486,25.003871753517444,4.482461821787398,22.455819464925625,16.468123164840637,9.014555097615329,2.052185787322175,20.402524180542642,15.893104572801587,43.543823743827424,38.53469025020105,24.6505103778839,41.156948425177845,28.523252371925217,47.49925634987592,10.595454011820326,43.07075940325305,32.88135602340826,49.40606543010605,24.024927533744705,12.845173684793092,19.909800190991987,49.45320024199109,15.25968440635001,15.49181036382708,33.96828583928918,2.9608106459858616,9.83884078901393,12.701714272201963,43.43318637264503,20.35818740280222,20.932357799493456,38.99019395454966,38.55478492526834,3.6148511557031804,10.080256485905242,18.579043387811122,44.46025929841452,46.04469075877561,37.08650516036809,29.481307884778406,28.924266964957358,37.812540841823896,6.936537834767126,35.56037489744544,11.726312850304438,0.18551820887781623,21.46087453341442,16.954329292324942,17.423805622151683,22.596772705891293,26.13333264797193,34.188131130139396,6.191982677402391,47.927265885803,7.8708387765227155,11.540342198452858,18.01665849368875,43.06152576669213,47.992851044440336,20.78774344492344,23.97301806474931,3.7362401320268135,15.601943089417913,37.32033174236889,44.583426332620604,24.975940597898237,0.5630761633745207,26.800850653935722,19.31949758844722,20.99792710815769,31.987660562847193,2.0371006899153943,43.19845530688848,1.3689444011581064,7.669451623960294,16.541964300744716]}];\n",
       " var layout_HN5ztbXd9T = {\"height\":550,\"width\":600,\"hovermode\":\"closest\",\"title\":{\"text\":\"Multiple series on one chart\"},\"showlegend\":true,\"xaxis\":{\"title\":{\"text\":\"X values\"},\"showgrid\":true,\"zeroline\":false,\"showline\":false},\"yaxis\":{\"title\":{\"text\":\"Y values\"},\"showgrid\":true,\"zeroline\":false,\"showline\":false}};\n",
       " var config_HN5ztbXd9T = {\"responsive\":true,\"scrollZoom\":true,\"displaylogo\":false};\n",
       " Plotly.newPlot(\"graph_HN5ztbXd9T\", traces_HN5ztbXd9T, layout_HN5ztbXd9T, config_HN5ztbXd9T);\n",
       "</script> \n"
      ]
     },
     "metadata": {},
     "output_type": "display_data"
    }
   ],
   "source": [
    "// additional traces can simply be composed with an existing chart and added on\n",
    "val series1 = XY(x, y) asType BAR setName \"Bar\"\n",
    "\n",
    "// lets give the second series a red marker. Again we can 'compose' a marker using smaller components\n",
    "val marker = Marker() setSymbol SQUARE_OPEN setColor \"red\"\n",
    "\n",
    "val series2 = XY(x, y) asType SCATTER setName \"Scatter\" drawStyle MARKERS setMarker marker\n",
    "\n",
    "// we not put brackets in the 'addSeries' function to ensure that addSeries picks up the right series'\n",
    "val chart = Chart() addSeries(series1, series2) setTitle(\"Multiple series on one chart\") setXAxisTitle \"X values\" setYAxisTitle \"Y values\"\n",
    "\n",
    "chart.plotInline"
   ]
  },
  {
   "cell_type": "markdown",
   "metadata": {},
   "source": [
    "### Lets Change The Appearance of The Markers\n",
    "\n",
    "We can control the appearance of the markers by setting the width"
   ]
  },
  {
   "cell_type": "code",
   "execution_count": 12,
   "metadata": {},
   "outputs": [
    {
     "data": {
      "text/html": [
       "<div id=\"grid-container_qPO71Xk4XJ\" class=\"grid-container\" align=\"center\"> \n",
       "<div id=\"grid_qPO71Xk4XJ\" class=\"grid\" align=\"center\"> \n",
       "<div id=\"graph_T7f4hNGNQn\" class=\"graph\"></div> \n",
       "</div> \n",
       "</div> \n",
       "<script>\n",
       "var masonry = new Macy({\n",
       "    container: '#grid_qPO71Xk4XJ',\n",
       "    debug: true,\n",
       "    mobileFirst: true,\n",
       "    columns: 1,\n",
       "    margin: {\n",
       "        x: 0,\n",
       "        y: 0\n",
       "    }\n",
       "  });\n",
       "\n",
       "  var traces_T7f4hNGNQn = [{\"name\":\"Bar\",\"type\":\"bar\",\"x\":[23.384073954744682,42.204041460241335,28.35416067047506,37.13513415036919,46.20607593666776,47.55384587083593,25.777721908212005,24.16021256171515,25.02165230272083,28.363942436777513,19.323681360340807,12.986202450402018,41.9906924156315,44.840027831909964,29.699676582775485,34.91589215613837,9.111922841796872,34.62145703071744,16.348860042659254,44.281864509588345,14.234123670045257,29.549389957091677,36.42091280183596,23.055587179449887,26.19196045919087,39.52806228994976,6.944962574610091,18.556894869779782,12.418778862389262,37.50782401276872,6.491344789745929,18.922325485865542,33.96099525992754,19.706446310728097,36.83764833370895,39.984993409093214,2.203465041032099,25.58561275985154,32.195495565364666,11.52527126009279,8.812475643843253,32.81239650046434,3.408036853116758,10.470714111100271,25.41279483594986,43.46089465347969,37.19415082547722,43.55530166552559,12.337449371384102,49.04711614806628,35.993844666245465,32.19220190573926,26.423685874263807,3.6405801738441044,32.26038063367612,47.87091509728098,26.275827635678457,46.258997369077704,42.14816934563659,37.258789910160644,39.675516281152056,46.027771045315724,37.46147246520183,12.368540597756228,31.89207275771377,46.173962125646305,11.457481516076145,12.647539386304295,45.53050156301339,5.824760609425522,43.63836553810217,22.65131072806938,22.251903206834335,31.793375919248827,31.020372397129094,1.0827587246714732,14.210853885677437,6.0606565506022,48.53411396245837,44.410356649720235,48.376547995222175,48.4986514441341,29.188642614501813,21.022591594199348,20.039284201662028,8.53270610285788,15.422981676554064,19.932691807653853,12.751136325468066,3.9015665434520566,26.672270522190082,11.416710195171941,20.70941308214923,19.450381700134496,14.59168664345103,15.649747811941017,36.16377353887541,43.97936868001681,36.60984987264032,19.399204127604413],\"y\":[8.812650335151911,8.571280748939907,20.524405099957665,20.140609165219203,36.35186428415895,45.533748750729394,17.706025763655788,11.580695224099035,5.348111873245564,13.117918720141308,0.14305072375079275,4.504045078308239,19.432255933393854,27.512715105886127,47.037528012501475,2.10377444754527,27.44211938370502,10.26445992531907,39.95443168752715,19.513353356176662,47.59174938130299,46.2344450144627,41.62933051341001,3.1257953004816486,25.003871753517444,4.482461821787398,22.455819464925625,16.468123164840637,9.014555097615329,2.052185787322175,20.402524180542642,15.893104572801587,43.543823743827424,38.53469025020105,24.6505103778839,41.156948425177845,28.523252371925217,47.49925634987592,10.595454011820326,43.07075940325305,32.88135602340826,49.40606543010605,24.024927533744705,12.845173684793092,19.909800190991987,49.45320024199109,15.25968440635001,15.49181036382708,33.96828583928918,2.9608106459858616,9.83884078901393,12.701714272201963,43.43318637264503,20.35818740280222,20.932357799493456,38.99019395454966,38.55478492526834,3.6148511557031804,10.080256485905242,18.579043387811122,44.46025929841452,46.04469075877561,37.08650516036809,29.481307884778406,28.924266964957358,37.812540841823896,6.936537834767126,35.56037489744544,11.726312850304438,0.18551820887781623,21.46087453341442,16.954329292324942,17.423805622151683,22.596772705891293,26.13333264797193,34.188131130139396,6.191982677402391,47.927265885803,7.8708387765227155,11.540342198452858,18.01665849368875,43.06152576669213,47.992851044440336,20.78774344492344,23.97301806474931,3.7362401320268135,15.601943089417913,37.32033174236889,44.583426332620604,24.975940597898237,0.5630761633745207,26.800850653935722,19.31949758844722,20.99792710815769,31.987660562847193,2.0371006899153943,43.19845530688848,1.3689444011581064,7.669451623960294,16.541964300744716]},{\"name\":\"Scatter\",\"type\":\"scatter\",\"mode\":\"markers\",\"marker\":{\"symbol\":\"circle\",\"color\":\"red\",\"line\":{\"width\":2,\"color\":\"black\"},\"size\":[10,10,10,10,10,10,10,10,10,10,10,10,10,10,10,10,10,10,10,10,10,10,10,10,10,10,10,10,10,10,10,10,10,10,10,10,10,10,10,10,10,10,10,10,10,10,10,10,10,10,10,10,10,10,10,10,10,10,10,10,10,10,10,10,10,10,10,10,10,10,10,10,10,10,10,10,10,10,10,10,10,10,10,10,10,10,10,10,10,10,10,10,10,10,10,10,10,10,10,10]},\"x\":[23.384073954744682,42.204041460241335,28.35416067047506,37.13513415036919,46.20607593666776,47.55384587083593,25.777721908212005,24.16021256171515,25.02165230272083,28.363942436777513,19.323681360340807,12.986202450402018,41.9906924156315,44.840027831909964,29.699676582775485,34.91589215613837,9.111922841796872,34.62145703071744,16.348860042659254,44.281864509588345,14.234123670045257,29.549389957091677,36.42091280183596,23.055587179449887,26.19196045919087,39.52806228994976,6.944962574610091,18.556894869779782,12.418778862389262,37.50782401276872,6.491344789745929,18.922325485865542,33.96099525992754,19.706446310728097,36.83764833370895,39.984993409093214,2.203465041032099,25.58561275985154,32.195495565364666,11.52527126009279,8.812475643843253,32.81239650046434,3.408036853116758,10.470714111100271,25.41279483594986,43.46089465347969,37.19415082547722,43.55530166552559,12.337449371384102,49.04711614806628,35.993844666245465,32.19220190573926,26.423685874263807,3.6405801738441044,32.26038063367612,47.87091509728098,26.275827635678457,46.258997369077704,42.14816934563659,37.258789910160644,39.675516281152056,46.027771045315724,37.46147246520183,12.368540597756228,31.89207275771377,46.173962125646305,11.457481516076145,12.647539386304295,45.53050156301339,5.824760609425522,43.63836553810217,22.65131072806938,22.251903206834335,31.793375919248827,31.020372397129094,1.0827587246714732,14.210853885677437,6.0606565506022,48.53411396245837,44.410356649720235,48.376547995222175,48.4986514441341,29.188642614501813,21.022591594199348,20.039284201662028,8.53270610285788,15.422981676554064,19.932691807653853,12.751136325468066,3.9015665434520566,26.672270522190082,11.416710195171941,20.70941308214923,19.450381700134496,14.59168664345103,15.649747811941017,36.16377353887541,43.97936868001681,36.60984987264032,19.399204127604413],\"y\":[8.812650335151911,8.571280748939907,20.524405099957665,20.140609165219203,36.35186428415895,45.533748750729394,17.706025763655788,11.580695224099035,5.348111873245564,13.117918720141308,0.14305072375079275,4.504045078308239,19.432255933393854,27.512715105886127,47.037528012501475,2.10377444754527,27.44211938370502,10.26445992531907,39.95443168752715,19.513353356176662,47.59174938130299,46.2344450144627,41.62933051341001,3.1257953004816486,25.003871753517444,4.482461821787398,22.455819464925625,16.468123164840637,9.014555097615329,2.052185787322175,20.402524180542642,15.893104572801587,43.543823743827424,38.53469025020105,24.6505103778839,41.156948425177845,28.523252371925217,47.49925634987592,10.595454011820326,43.07075940325305,32.88135602340826,49.40606543010605,24.024927533744705,12.845173684793092,19.909800190991987,49.45320024199109,15.25968440635001,15.49181036382708,33.96828583928918,2.9608106459858616,9.83884078901393,12.701714272201963,43.43318637264503,20.35818740280222,20.932357799493456,38.99019395454966,38.55478492526834,3.6148511557031804,10.080256485905242,18.579043387811122,44.46025929841452,46.04469075877561,37.08650516036809,29.481307884778406,28.924266964957358,37.812540841823896,6.936537834767126,35.56037489744544,11.726312850304438,0.18551820887781623,21.46087453341442,16.954329292324942,17.423805622151683,22.596772705891293,26.13333264797193,34.188131130139396,6.191982677402391,47.927265885803,7.8708387765227155,11.540342198452858,18.01665849368875,43.06152576669213,47.992851044440336,20.78774344492344,23.97301806474931,3.7362401320268135,15.601943089417913,37.32033174236889,44.583426332620604,24.975940597898237,0.5630761633745207,26.800850653935722,19.31949758844722,20.99792710815769,31.987660562847193,2.0371006899153943,43.19845530688848,1.3689444011581064,7.669451623960294,16.541964300744716]}];\n",
       " var layout_T7f4hNGNQn = {\"height\":550,\"width\":600,\"hovermode\":\"closest\",\"showlegend\":true,\"xaxis\":{\"title\":{\"text\":\"X values\"},\"showgrid\":true,\"zeroline\":false,\"showline\":false},\"yaxis\":{\"title\":{\"text\":\"Y values\"},\"showgrid\":true,\"zeroline\":false,\"showline\":false}};\n",
       " var config_T7f4hNGNQn = {\"responsive\":false,\"scrollZoom\":false,\"displaylogo\":false};\n",
       " Plotly.newPlot(\"graph_T7f4hNGNQn\", traces_T7f4hNGNQn, layout_T7f4hNGNQn, config_T7f4hNGNQn);\n",
       "</script> \n"
      ]
     },
     "metadata": {},
     "output_type": "display_data"
    }
   ],
   "source": [
    "// we can pass in the size of the markers\n",
    "val sizes = List.range(0, 100).map(x => 10)\n",
    "\n",
    "// additional traces can simply be composed with an existing chart and added on\n",
    "val series1 = XY(x, y) asType BAR setName \"Bar\"\n",
    "\n",
    "// lets give the second series a red marker. Again we can 'compose' a marker using smaller components\n",
    "val marker = (\n",
    "    Marker() \n",
    "    // sets the marker shape\n",
    "    setSymbol CIRCLE\n",
    "    // sets the fill to red\n",
    "    setColor \"red\" \n",
    "    // sets the outline to black, with width 2\n",
    "    setLine(width = 2, \"black\")\n",
    "    // set the size of the markers to 10 as per the list we created\n",
    "    setSize(sizes)\n",
    ") \n",
    "\n",
    "val series2 = XY(x, y) asType SCATTER setName \"Scatter\" drawStyle MARKERS setMarker marker\n",
    "\n",
    "// we not put brackets in the 'addSeries' function to ensure that addSeries picks up the right series'\n",
    "val chart = Chart() addSeries(series1, series2) setConfig(false, false) setXAxisTitle \"X values\" setYAxisTitle \"Y values\"\n",
    "\n",
    "chart.plotInline"
   ]
  },
  {
   "cell_type": "markdown",
   "metadata": {},
   "source": [
    "### Adding Another Axes\n",
    "\n",
    "Sometimes we may wish to plot multiple series on one chart, but using two different Axes. This may be because the values of the two series are very different, yet we want to compare them on the same plot. We can do this as follows:"
   ]
  },
  {
   "cell_type": "code",
   "execution_count": 13,
   "metadata": {},
   "outputs": [
    {
     "data": {
      "text/html": [
       "<div id=\"grid-container_lZ5w7rqkCp\" class=\"grid-container\" align=\"center\"> \n",
       "<div id=\"grid_lZ5w7rqkCp\" class=\"grid\" align=\"center\"> \n",
       "<div id=\"graph_KT722W7q0y\" class=\"graph\"></div> \n",
       "</div> \n",
       "</div> \n",
       "<script>\n",
       "var masonry = new Macy({\n",
       "    container: '#grid_lZ5w7rqkCp',\n",
       "    debug: true,\n",
       "    mobileFirst: true,\n",
       "    columns: 1,\n",
       "    margin: {\n",
       "        x: 0,\n",
       "        y: 0\n",
       "    }\n",
       "  });\n",
       "\n",
       "  var traces_KT722W7q0y = [{\"name\":\"Series 3 using Y axis 1\",\"type\":\"scatter\",\"mode\":\"markers\",\"x\":[23.384073954744682,42.204041460241335,28.35416067047506,37.13513415036919,46.20607593666776,47.55384587083593,25.777721908212005,24.16021256171515,25.02165230272083,28.363942436777513,19.323681360340807,12.986202450402018,41.9906924156315,44.840027831909964,29.699676582775485,34.91589215613837,9.111922841796872,34.62145703071744,16.348860042659254,44.281864509588345,14.234123670045257,29.549389957091677,36.42091280183596,23.055587179449887,26.19196045919087,39.52806228994976,6.944962574610091,18.556894869779782,12.418778862389262,37.50782401276872,6.491344789745929,18.922325485865542,33.96099525992754,19.706446310728097,36.83764833370895,39.984993409093214,2.203465041032099,25.58561275985154,32.195495565364666,11.52527126009279,8.812475643843253,32.81239650046434,3.408036853116758,10.470714111100271,25.41279483594986,43.46089465347969,37.19415082547722,43.55530166552559,12.337449371384102,49.04711614806628,35.993844666245465,32.19220190573926,26.423685874263807,3.6405801738441044,32.26038063367612,47.87091509728098,26.275827635678457,46.258997369077704,42.14816934563659,37.258789910160644,39.675516281152056,46.027771045315724,37.46147246520183,12.368540597756228,31.89207275771377,46.173962125646305,11.457481516076145,12.647539386304295,45.53050156301339,5.824760609425522,43.63836553810217,22.65131072806938,22.251903206834335,31.793375919248827,31.020372397129094,1.0827587246714732,14.210853885677437,6.0606565506022,48.53411396245837,44.410356649720235,48.376547995222175,48.4986514441341,29.188642614501813,21.022591594199348,20.039284201662028,8.53270610285788,15.422981676554064,19.932691807653853,12.751136325468066,3.9015665434520566,26.672270522190082,11.416710195171941,20.70941308214923,19.450381700134496,14.59168664345103,15.649747811941017,36.16377353887541,43.97936868001681,36.60984987264032,19.399204127604413],\"y\":[8.812650335151911,8.571280748939907,20.524405099957665,20.140609165219203,36.35186428415895,45.533748750729394,17.706025763655788,11.580695224099035,5.348111873245564,13.117918720141308,0.14305072375079275,4.504045078308239,19.432255933393854,27.512715105886127,47.037528012501475,2.10377444754527,27.44211938370502,10.26445992531907,39.95443168752715,19.513353356176662,47.59174938130299,46.2344450144627,41.62933051341001,3.1257953004816486,25.003871753517444,4.482461821787398,22.455819464925625,16.468123164840637,9.014555097615329,2.052185787322175,20.402524180542642,15.893104572801587,43.543823743827424,38.53469025020105,24.6505103778839,41.156948425177845,28.523252371925217,47.49925634987592,10.595454011820326,43.07075940325305,32.88135602340826,49.40606543010605,24.024927533744705,12.845173684793092,19.909800190991987,49.45320024199109,15.25968440635001,15.49181036382708,33.96828583928918,2.9608106459858616,9.83884078901393,12.701714272201963,43.43318637264503,20.35818740280222,20.932357799493456,38.99019395454966,38.55478492526834,3.6148511557031804,10.080256485905242,18.579043387811122,44.46025929841452,46.04469075877561,37.08650516036809,29.481307884778406,28.924266964957358,37.812540841823896,6.936537834767126,35.56037489744544,11.726312850304438,0.18551820887781623,21.46087453341442,16.954329292324942,17.423805622151683,22.596772705891293,26.13333264797193,34.188131130139396,6.191982677402391,47.927265885803,7.8708387765227155,11.540342198452858,18.01665849368875,43.06152576669213,47.992851044440336,20.78774344492344,23.97301806474931,3.7362401320268135,15.601943089417913,37.32033174236889,44.583426332620604,24.975940597898237,0.5630761633745207,26.800850653935722,19.31949758844722,20.99792710815769,31.987660562847193,2.0371006899153943,43.19845530688848,1.3689444011581064,7.669451623960294,16.541964300744716]},{\"name\":\"Series 2 using Y axis 2\",\"type\":\"scatter\",\"mode\":\"markers\",\"yaxis\":\"y2\",\"x\":[23.384073954744682,42.204041460241335,28.35416067047506,37.13513415036919,46.20607593666776,47.55384587083593,25.777721908212005,24.16021256171515,25.02165230272083,28.363942436777513,19.323681360340807,12.986202450402018,41.9906924156315,44.840027831909964,29.699676582775485,34.91589215613837,9.111922841796872,34.62145703071744,16.348860042659254,44.281864509588345,14.234123670045257,29.549389957091677,36.42091280183596,23.055587179449887,26.19196045919087,39.52806228994976,6.944962574610091,18.556894869779782,12.418778862389262,37.50782401276872,6.491344789745929,18.922325485865542,33.96099525992754,19.706446310728097,36.83764833370895,39.984993409093214,2.203465041032099,25.58561275985154,32.195495565364666,11.52527126009279,8.812475643843253,32.81239650046434,3.408036853116758,10.470714111100271,25.41279483594986,43.46089465347969,37.19415082547722,43.55530166552559,12.337449371384102,49.04711614806628,35.993844666245465,32.19220190573926,26.423685874263807,3.6405801738441044,32.26038063367612,47.87091509728098,26.275827635678457,46.258997369077704,42.14816934563659,37.258789910160644,39.675516281152056,46.027771045315724,37.46147246520183,12.368540597756228,31.89207275771377,46.173962125646305,11.457481516076145,12.647539386304295,45.53050156301339,5.824760609425522,43.63836553810217,22.65131072806938,22.251903206834335,31.793375919248827,31.020372397129094,1.0827587246714732,14.210853885677437,6.0606565506022,48.53411396245837,44.410356649720235,48.376547995222175,48.4986514441341,29.188642614501813,21.022591594199348,20.039284201662028,8.53270610285788,15.422981676554064,19.932691807653853,12.751136325468066,3.9015665434520566,26.672270522190082,11.416710195171941,20.70941308214923,19.450381700134496,14.59168664345103,15.649747811941017,36.16377353887541,43.97936868001681,36.60984987264032,19.399204127604413],\"y\":[26.121038300796158,3.409059334998299,22.272910754333665,33.375193699758896,28.108009033622945,44.363522692899224,27.24062169156005,25.292654332813157,28.914574452547953,40.70135026367843,33.36490616827924,24.972865842802356,3.6367835090572456,46.04968495047685,27.759779435556776,2.1473193241113684,46.87125735871317,33.7359569786139,20.572898409986646,47.83017527018056,16.749336750190043,44.685186650730294,13.193193251435325,44.52461751108132,6.739047572131479,36.5077290891368,38.93836467699659,45.27725254431436,47.49298503403052,5.01307777085303,19.247456973977613,23.758593368166075,43.21755730423521,5.09831620800954,3.2572261013486923,42.16681497998327,7.048728237336316,23.985125656005668,16.307051463022177,13.683592004854333,27.741704198932766,6.117184994616453,33.39563376328475,11.454990058292363,25.616774416599725,45.68019387197804,16.903757300729406,46.62700467862227,39.15074445732524,49.669613318168196,14.000900851486897,3.8344987516282125,24.863222778431275,31.706627555032586,48.06949418834488,33.723913491335516,2.2192378510152375,24.390732262751058,10.209141004756257,8.584279586286264,32.15445618111569,45.877704898022564,11.424144935324565,48.967699797648265,32.5265234250633,24.58466006022767,43.451169331011805,26.29959645775496,6.305829512108524,24.44922651907195,16.349925845240126,38.91067656985259,38.64125209535722,22.007812456395303,43.95823172645045,46.66670692751937,7.071196514080702,15.708303469497654,34.10386921443796,32.42880664001178,45.09754413810784,47.33542577329862,9.069131284206216,36.946150035118144,3.0998379349504668,35.20239886345461,33.219982355573194,37.464570416592096,12.13934273568174,8.850388721502982,8.940302886717122,9.328715080626232,25.587370454883914,45.39769096403583,19.052631353127918,24.16205132942027,40.709508852213396,38.393406931767224,43.760412594247455,47.8281440783037]}];\n",
       " var layout_KT722W7q0y = {\"height\":550,\"width\":600,\"hovermode\":\"closest\",\"title\":{\"text\":\"Using Multiple Axes\"},\"showlegend\":true,\"yaxis2\":{\"title\":{\"text\":\"Second y axis\"},\"showgrid\":true,\"zeroline\":false,\"showline\":false,\"side\":\"right\",\"overlaying\":\"y\"},\"yaxis\":{\"title\":{\"text\":\"First Y Axis\"},\"showgrid\":true,\"zeroline\":false,\"showline\":false},\"xaxis\":{\"title\":{\"text\":\"X Axis\"},\"showgrid\":true,\"zeroline\":false,\"showline\":false}};\n",
       " var config_KT722W7q0y = {\"responsive\":false,\"scrollZoom\":false,\"displaylogo\":false};\n",
       " Plotly.newPlot(\"graph_KT722W7q0y\", traces_KT722W7q0y, layout_KT722W7q0y, config_KT722W7q0y);\n",
       "</script> \n"
      ]
     },
     "metadata": {},
     "output_type": "display_data"
    }
   ],
   "source": [
    "val series1 = XY(x, y) asType SCATTER drawStyle MARKERS\n",
    "\n",
    "// The following maps the series onto the second Y axis.\n",
    "val series2 = (\n",
    "    XY(x, z) \n",
    "    asType SCATTER \n",
    "    drawStyle MARKERS \n",
    "    setAxis Axis(Y, 2)\n",
    "    setName(\"Series 2 using Y axis 2\")\n",
    ")\n",
    "\n",
    "val series3 = series1.copy() setName(\"Series 3 using Y axis 1\")\n",
    "      \n",
    "val chart = (\n",
    "    Chart() \n",
    "    setTitle \"Using Multiple Axes\"\n",
    "    // the following makes the chart unresponsive\n",
    "    setConfig(false, false) \n",
    "    addSeries(series3, series2) \n",
    "    // the following tells the chart how to render the second Y Axis\n",
    "    addAxes Axis(Y, position = 2, title = \"Second y axis\", overlaying = Axis(Y), side = RIGHT_SIDE)\n",
    "    addAxes Axis(Y, 1, \"First Y Axis\")\n",
    "    addAxes Axis(X, title = \"X Axis\")\n",
    ") \n",
    "\n",
    "// this is just for illustration purposes, but we can also do the following\n",
    "val canvas = Canvas() setChart(0, 0, chart)\n",
    "\n",
    "canvas.plotInline"
   ]
  },
  {
   "cell_type": "markdown",
   "metadata": {},
   "source": [
    "### Customizing the Axes\n",
    "\n",
    "As can be seen from some of the examples above, if you do a simple chart you can use the standard axis (X and Y) and costumise them in the chart object. But for more complex layout,  we may would want to create new axis and name them.\n",
    "\n",
    "We can do this as follows:"
   ]
  },
  {
   "cell_type": "code",
   "execution_count": 14,
   "metadata": {},
   "outputs": [
    {
     "data": {
      "text/html": [
       "<div id=\"grid-container_PbV3VG288K\" class=\"grid-container\" align=\"center\"> \n",
       "<div id=\"grid_PbV3VG288K\" class=\"grid\" align=\"center\"> \n",
       "<div id=\"graph_cAtGnpRhyh\" class=\"graph\"></div> \n",
       "</div> \n",
       "</div> \n",
       "<script>\n",
       "var masonry = new Macy({\n",
       "    container: '#grid_PbV3VG288K',\n",
       "    debug: true,\n",
       "    mobileFirst: true,\n",
       "    columns: 1,\n",
       "    margin: {\n",
       "        x: 0,\n",
       "        y: 0\n",
       "    }\n",
       "  });\n",
       "\n",
       "  var traces_cAtGnpRhyh = [{\"name\":\"Data\",\"type\":\"scatter\",\"mode\":\"markers\",\"x\":[23.384073954744682,42.204041460241335,28.35416067047506,37.13513415036919,46.20607593666776,47.55384587083593,25.777721908212005,24.16021256171515,25.02165230272083,28.363942436777513,19.323681360340807,12.986202450402018,41.9906924156315,44.840027831909964,29.699676582775485,34.91589215613837,9.111922841796872,34.62145703071744,16.348860042659254,44.281864509588345,14.234123670045257,29.549389957091677,36.42091280183596,23.055587179449887,26.19196045919087,39.52806228994976,6.944962574610091,18.556894869779782,12.418778862389262,37.50782401276872,6.491344789745929,18.922325485865542,33.96099525992754,19.706446310728097,36.83764833370895,39.984993409093214,2.203465041032099,25.58561275985154,32.195495565364666,11.52527126009279,8.812475643843253,32.81239650046434,3.408036853116758,10.470714111100271,25.41279483594986,43.46089465347969,37.19415082547722,43.55530166552559,12.337449371384102,49.04711614806628,35.993844666245465,32.19220190573926,26.423685874263807,3.6405801738441044,32.26038063367612,47.87091509728098,26.275827635678457,46.258997369077704,42.14816934563659,37.258789910160644,39.675516281152056,46.027771045315724,37.46147246520183,12.368540597756228,31.89207275771377,46.173962125646305,11.457481516076145,12.647539386304295,45.53050156301339,5.824760609425522,43.63836553810217,22.65131072806938,22.251903206834335,31.793375919248827,31.020372397129094,1.0827587246714732,14.210853885677437,6.0606565506022,48.53411396245837,44.410356649720235,48.376547995222175,48.4986514441341,29.188642614501813,21.022591594199348,20.039284201662028,8.53270610285788,15.422981676554064,19.932691807653853,12.751136325468066,3.9015665434520566,26.672270522190082,11.416710195171941,20.70941308214923,19.450381700134496,14.59168664345103,15.649747811941017,36.16377353887541,43.97936868001681,36.60984987264032,19.399204127604413],\"y\":[8.812650335151911,8.571280748939907,20.524405099957665,20.140609165219203,36.35186428415895,45.533748750729394,17.706025763655788,11.580695224099035,5.348111873245564,13.117918720141308,0.14305072375079275,4.504045078308239,19.432255933393854,27.512715105886127,47.037528012501475,2.10377444754527,27.44211938370502,10.26445992531907,39.95443168752715,19.513353356176662,47.59174938130299,46.2344450144627,41.62933051341001,3.1257953004816486,25.003871753517444,4.482461821787398,22.455819464925625,16.468123164840637,9.014555097615329,2.052185787322175,20.402524180542642,15.893104572801587,43.543823743827424,38.53469025020105,24.6505103778839,41.156948425177845,28.523252371925217,47.49925634987592,10.595454011820326,43.07075940325305,32.88135602340826,49.40606543010605,24.024927533744705,12.845173684793092,19.909800190991987,49.45320024199109,15.25968440635001,15.49181036382708,33.96828583928918,2.9608106459858616,9.83884078901393,12.701714272201963,43.43318637264503,20.35818740280222,20.932357799493456,38.99019395454966,38.55478492526834,3.6148511557031804,10.080256485905242,18.579043387811122,44.46025929841452,46.04469075877561,37.08650516036809,29.481307884778406,28.924266964957358,37.812540841823896,6.936537834767126,35.56037489744544,11.726312850304438,0.18551820887781623,21.46087453341442,16.954329292324942,17.423805622151683,22.596772705891293,26.13333264797193,34.188131130139396,6.191982677402391,47.927265885803,7.8708387765227155,11.540342198452858,18.01665849368875,43.06152576669213,47.992851044440336,20.78774344492344,23.97301806474931,3.7362401320268135,15.601943089417913,37.32033174236889,44.583426332620604,24.975940597898237,0.5630761633745207,26.800850653935722,19.31949758844722,20.99792710815769,31.987660562847193,2.0371006899153943,43.19845530688848,1.3689444011581064,7.669451623960294,16.541964300744716]}];\n",
       " var layout_cAtGnpRhyh = {\"height\":550,\"width\":600,\"hovermode\":\"closest\",\"title\":{\"text\":\"Chart with Axes\"},\"showlegend\":true,\"xaxis\":{\"title\":{\"text\":\"x variable\"},\"showgrid\":true,\"zeroline\":false,\"showline\":false},\"yaxis\":{\"title\":{\"text\":\"y variable\"},\"showgrid\":true,\"zeroline\":false,\"showline\":false}};\n",
       " var config_cAtGnpRhyh = {\"responsive\":true,\"scrollZoom\":true,\"displaylogo\":false};\n",
       " Plotly.newPlot(\"graph_cAtGnpRhyh\", traces_cAtGnpRhyh, layout_cAtGnpRhyh, config_cAtGnpRhyh);\n",
       "</script> \n"
      ]
     },
     "metadata": {},
     "output_type": "display_data"
    }
   ],
   "source": [
    "// We construct the axes and set their title\n",
    "val xaxis = Axis(X, title = \"x variable\")\n",
    "val yaxis = Axis(Y, title = \"y variable\")\n",
    "\n",
    "// another way to do composition is to just add a bracket around the composition\n",
    "val chart = (\n",
    "    Chart()\n",
    "    setTitle \"Chart with Axes\"\n",
    "    addSeries(series1 setName(\"Data\"))\n",
    "    addAxes(xaxis, yaxis)\n",
    ")\n",
    "\n",
    "chart.plotInline"
   ]
  },
  {
   "cell_type": "markdown",
   "metadata": {},
   "source": [
    "### Quickly Configuring The Axes\n",
    "\n",
    "Picta comes with a range of utility functions to make configuring the primary axes quick and easy"
   ]
  },
  {
   "cell_type": "code",
   "execution_count": 15,
   "metadata": {},
   "outputs": [],
   "source": [
    "// Let's create 100 randome data points\n",
    "val x = List.range(0, 100).map(x => x * scala.util.Random.nextDouble())\n",
    "val y = List.range(0, 100).map(x => x * scala.util.Random.nextDouble())"
   ]
  },
  {
   "cell_type": "markdown",
   "metadata": {},
   "source": [
    "#### Adjusting Axes Limits"
   ]
  },
  {
   "cell_type": "code",
   "execution_count": 16,
   "metadata": {},
   "outputs": [
    {
     "data": {
      "text/html": [
       "<div id=\"grid-container_G4XUOyUoFl\" class=\"grid-container\" align=\"center\"> \n",
       "<div id=\"grid_G4XUOyUoFl\" class=\"grid\" align=\"center\"> \n",
       "<div id=\"graph_BlJvCeKuXe\" class=\"graph\"></div> \n",
       "</div> \n",
       "</div> \n",
       "<script>\n",
       "var masonry = new Macy({\n",
       "    container: '#grid_G4XUOyUoFl',\n",
       "    debug: true,\n",
       "    mobileFirst: true,\n",
       "    columns: 1,\n",
       "    margin: {\n",
       "        x: 0,\n",
       "        y: 0\n",
       "    }\n",
       "  });\n",
       "\n",
       "  var traces_BlJvCeKuXe = [{\"name\":\"Data for Axis Limit example\",\"type\":\"scatter\",\"mode\":\"markers\",\"x\":[0,0.3444789888784522,0.2026214309828971,0.31412117235481374,0.7047324542004483,0.8281548590371224,4.375285634331407,2.020449357958172,6.633199822357609,0.9328553535046797,3.041595700138029,0.08503985796495062,4.739057983822313,11.3142749730644,9.920746628729114,13.473315204592161,9.953748886291375,2.971868947206685,6.817174518398452,3.72672411649547,6.230406042212156,14.366085441447582,9.184221688055107,9.188262216811395,8.885055303655578,0.35586845841087955,17.15763145883886,1.9708609520024867,0.32505567867200247,28.90904922638694,11.476945408963303,3.135418903298244,14.478359536034525,30.993315342255443,19.7275280504752,17.385106106602564,5.105340661203277,36.09257501228591,4.620107373643329,3.1294204370482595,35.937622921429195,36.66264851678743,26.82845564789561,41.27542529189671,14.4955788052674,0.7914146323264543,32.479054495117715,35.81447590188495,26.737916202926314,39.61172805652758,35.97937308968841,50.44077525027808,30.643080177902398,46.880663833133944,48.73369149962662,39.31304862412365,35.66297517613356,1.8359097294805549,1.6772323392425348,3.9026834128592687,17.97492516377698,38.219426896085245,48.71074432340154,36.91073035395963,52.837614000515366,38.469815448449076,11.288559815162564,41.732284652534204,39.38119100062364,45.778205849880436,67.85359330808551,25.149832736388362,32.08068466712877,18.227852808933214,9.77270431328175,68.09737841396233,11.225305082293332,48.845070128868336,66.1553403388021,25.704289040284173,28.154259078845804,49.32855247996099,15.687400414799152,64.65205534615977,0.13222921471674987,74.74566522127587,42.63080345023974,47.408404143879665,46.73471941179183,66.83775924537782,2.677357649224917,65.39146411046104,44.75512732165386,62.01212024474924,10.653116507952534,52.812022603768725,58.181438317734155,13.865770138263844,54.39655800563576,62.09425734184521],\"y\":[0,0.529068401217908,0.34765950265394485,2.0281939502870454,2.8241822632972373,4.026354417629388,1.2772593757176232,1.3395066865007617,4.830190087004299,2.8849321249837807,6.549981336702774,2.4270525415432633,4.883230066229328,12.687351252909286,11.250354526715302,13.196249129792372,4.530652468841572,14.632129634012363,0.13113370942336622,6.587970001848612,14.001213693083564,15.97459381818828,1.640022615149218,19.948529783354186,10.241981991606114,6.8958592869839155,19.504902993269404,12.00694090035929,5.4904244974195695,14.703134423178689,18.203239818252037,13.579902313126754,11.7591021427701,13.282098042226133,28.624715836624176,8.839833876379803,0.7598024520313995,32.94672454574612,29.114100118055923,26.028132249838265,26.462900454251525,35.51356018103743,9.103791996089507,5.124743669018816,4.926192235737455,42.8161288853655,33.9624988408667,20.446081800326006,11.485489383659543,34.220853948297275,6.748002635281369,4.68627403753543,45.12675177191855,30.25860628418621,49.5080547965829,3.7917479294655627,34.10665840488326,34.495769188619306,13.87399193672126,44.51617708736092,21.905078858700648,7.485490132025909,10.186819657393889,10.791873583878113,60.62905985670861,16.31363167145662,30.535118781902547,66.4248089831668,40.29360909193442,20.134793145360707,50.11834481834995,30.3235835041465,11.22971577555437,12.431648406631053,13.52777985534439,7.757792069398353,31.464850549504767,22.775788225018886,58.1106489478649,35.258454110601086,17.53536070131438,13.870196288292915,21.80067476476141,78.9723622743169,18.074005882573406,84.86247377215906,73.91066591052991,81.81348248436397,38.91923227676348,30.583956568384117,80.6395582536431,4.867805422729955,40.66554275978513,60.74288096379182,4.697701153071151,74.45335673145172,38.766822580604654,3.429874796538487,32.75006071412773,80.2644297876946]}];\n",
       " var layout_BlJvCeKuXe = {\"height\":550,\"width\":600,\"hovermode\":\"closest\",\"title\":{\"text\":\"Axis.SetAxisRange\"},\"showlegend\":true,\"yaxis\":{\"title\":{\"text\":\"y axis\"},\"showgrid\":true,\"zeroline\":false,\"showline\":false,\"range\":[100,-100]},\"xaxis\":{\"title\":{\"text\":\"x axis\"},\"showgrid\":true,\"zeroline\":false,\"showline\":false,\"range\":[-100,100]}};\n",
       " var config_BlJvCeKuXe = {\"responsive\":true,\"scrollZoom\":true,\"displaylogo\":false};\n",
       " Plotly.newPlot(\"graph_BlJvCeKuXe\", traces_BlJvCeKuXe, layout_BlJvCeKuXe, config_BlJvCeKuXe);\n",
       "</script> \n"
      ]
     },
     "metadata": {},
     "output_type": "display_data"
    }
   ],
   "source": [
    "val series = (\n",
    "    XY(x, y)\n",
    "    asType SCATTER\n",
    "    drawStyle MARKERS\n",
    ")\n",
    "\n",
    "val chart = (\n",
    "      Chart()\n",
    "    addSeries series.setName(\"Data for Axis Limit example\")\n",
    "    setTitle \"Axis.SetAxisRange\"\n",
    "    addAxes yaxis\n",
    "    setXAxisLimits(-100, 100) // Here we set the axis limit from -100 to 100\n",
    "    setYAxisLimits(100, -100) // Here, by using the minimum as 100 and the maximum as -100, we automatically reverse the axis\n",
    "    setXAxisTitle(\"x axis\")\n",
    "    setYAxisTitle(\"y axis\")\n",
    ")\n",
    "\n",
    "chart.plotInline"
   ]
  },
  {
   "cell_type": "markdown",
   "metadata": {},
   "source": [
    "#### Adjusting Axis Ticks"
   ]
  },
  {
   "cell_type": "code",
   "execution_count": 17,
   "metadata": {
    "scrolled": false
   },
   "outputs": [
    {
     "data": {
      "text/html": [
       "<div id=\"grid-container_2ui0Yz6PEc\" class=\"grid-container\" align=\"center\"> \n",
       "<div id=\"grid_2ui0Yz6PEc\" class=\"grid\" align=\"center\"> \n",
       "<div id=\"graph_8dugceEfct\" class=\"graph\"></div> \n",
       "</div> \n",
       "</div> \n",
       "<script>\n",
       "var masonry = new Macy({\n",
       "    container: '#grid_2ui0Yz6PEc',\n",
       "    debug: true,\n",
       "    mobileFirst: true,\n",
       "    columns: 1,\n",
       "    margin: {\n",
       "        x: 0,\n",
       "        y: 0\n",
       "    }\n",
       "  });\n",
       "\n",
       "  var traces_8dugceEfct = [{\"name\":\"BrVwGW73IX\",\"type\":\"scatter\",\"mode\":\"markers\",\"x\":[0,0.3444789888784522,0.2026214309828971,0.31412117235481374,0.7047324542004483,0.8281548590371224,4.375285634331407,2.020449357958172,6.633199822357609,0.9328553535046797,3.041595700138029,0.08503985796495062,4.739057983822313,11.3142749730644,9.920746628729114,13.473315204592161,9.953748886291375,2.971868947206685,6.817174518398452,3.72672411649547,6.230406042212156,14.366085441447582,9.184221688055107,9.188262216811395,8.885055303655578,0.35586845841087955,17.15763145883886,1.9708609520024867,0.32505567867200247,28.90904922638694,11.476945408963303,3.135418903298244,14.478359536034525,30.993315342255443,19.7275280504752,17.385106106602564,5.105340661203277,36.09257501228591,4.620107373643329,3.1294204370482595,35.937622921429195,36.66264851678743,26.82845564789561,41.27542529189671,14.4955788052674,0.7914146323264543,32.479054495117715,35.81447590188495,26.737916202926314,39.61172805652758,35.97937308968841,50.44077525027808,30.643080177902398,46.880663833133944,48.73369149962662,39.31304862412365,35.66297517613356,1.8359097294805549,1.6772323392425348,3.9026834128592687,17.97492516377698,38.219426896085245,48.71074432340154,36.91073035395963,52.837614000515366,38.469815448449076,11.288559815162564,41.732284652534204,39.38119100062364,45.778205849880436,67.85359330808551,25.149832736388362,32.08068466712877,18.227852808933214,9.77270431328175,68.09737841396233,11.225305082293332,48.845070128868336,66.1553403388021,25.704289040284173,28.154259078845804,49.32855247996099,15.687400414799152,64.65205534615977,0.13222921471674987,74.74566522127587,42.63080345023974,47.408404143879665,46.73471941179183,66.83775924537782,2.677357649224917,65.39146411046104,44.75512732165386,62.01212024474924,10.653116507952534,52.812022603768725,58.181438317734155,13.865770138263844,54.39655800563576,62.09425734184521],\"y\":[0,0.529068401217908,0.34765950265394485,2.0281939502870454,2.8241822632972373,4.026354417629388,1.2772593757176232,1.3395066865007617,4.830190087004299,2.8849321249837807,6.549981336702774,2.4270525415432633,4.883230066229328,12.687351252909286,11.250354526715302,13.196249129792372,4.530652468841572,14.632129634012363,0.13113370942336622,6.587970001848612,14.001213693083564,15.97459381818828,1.640022615149218,19.948529783354186,10.241981991606114,6.8958592869839155,19.504902993269404,12.00694090035929,5.4904244974195695,14.703134423178689,18.203239818252037,13.579902313126754,11.7591021427701,13.282098042226133,28.624715836624176,8.839833876379803,0.7598024520313995,32.94672454574612,29.114100118055923,26.028132249838265,26.462900454251525,35.51356018103743,9.103791996089507,5.124743669018816,4.926192235737455,42.8161288853655,33.9624988408667,20.446081800326006,11.485489383659543,34.220853948297275,6.748002635281369,4.68627403753543,45.12675177191855,30.25860628418621,49.5080547965829,3.7917479294655627,34.10665840488326,34.495769188619306,13.87399193672126,44.51617708736092,21.905078858700648,7.485490132025909,10.186819657393889,10.791873583878113,60.62905985670861,16.31363167145662,30.535118781902547,66.4248089831668,40.29360909193442,20.134793145360707,50.11834481834995,30.3235835041465,11.22971577555437,12.431648406631053,13.52777985534439,7.757792069398353,31.464850549504767,22.775788225018886,58.1106489478649,35.258454110601086,17.53536070131438,13.870196288292915,21.80067476476141,78.9723622743169,18.074005882573406,84.86247377215906,73.91066591052991,81.81348248436397,38.91923227676348,30.583956568384117,80.6395582536431,4.867805422729955,40.66554275978513,60.74288096379182,4.697701153071151,74.45335673145172,38.766822580604654,3.429874796538487,32.75006071412773,80.2644297876946]}];\n",
       " var layout_8dugceEfct = {\"height\":550,\"width\":600,\"hovermode\":\"closest\",\"title\":{\"text\":\"Set Axis Ticks\"},\"showlegend\":true,\"yaxis\":{\"title\":{\"text\":\"y variable\"},\"showgrid\":true,\"zeroline\":false,\"showline\":false,\"range\":[-100,100]},\"xaxis\":{\"title\":{\"text\":\"my new x axis\"},\"showgrid\":true,\"zeroline\":false,\"showline\":false,\"range\":[0,100],\"tick0\":5,\"dtick\":15}};\n",
       " var config_8dugceEfct = {\"responsive\":true,\"scrollZoom\":true,\"displaylogo\":false};\n",
       " Plotly.newPlot(\"graph_8dugceEfct\", traces_8dugceEfct, layout_8dugceEfct, config_8dugceEfct);\n",
       "</script> \n"
      ]
     },
     "metadata": {},
     "output_type": "display_data"
    }
   ],
   "source": [
    "val series = (\n",
    "    XY(x, y)\n",
    "    asType SCATTER\n",
    "    drawStyle MARKERS\n",
    ")\n",
    "\n",
    "val chart = (\n",
    "    Chart()\n",
    "    addSeries series\n",
    "    setTitle \"Set Axis Ticks\"\n",
    "    addAxes yaxis\n",
    "    setXAxisLimits(0, 100)\n",
    "    setYAxisLimits(-100, 100)\n",
    "    setXAxisTitle(\"my new x axis\")\n",
    "    setXAxisStartTick 5\n",
    "    setXAxisTickGap 15\n",
    ")\n",
    "\n",
    "chart.plotInline"
   ]
  },
  {
   "cell_type": "markdown",
   "metadata": {},
   "source": [
    "### Setting Logarithmic Axes"
   ]
  },
  {
   "cell_type": "code",
   "execution_count": 18,
   "metadata": {},
   "outputs": [
    {
     "data": {
      "text/html": [
       "<div id=\"grid-container_YhwZbfoQMc\" class=\"grid-container\" align=\"center\"> \n",
       "<div id=\"grid_YhwZbfoQMc\" class=\"grid\" align=\"center\"> \n",
       "<div id=\"graph_1grZjyWZkB\" class=\"graph\"></div> \n",
       "</div> \n",
       "</div> \n",
       "<script>\n",
       "var masonry = new Macy({\n",
       "    container: '#grid_YhwZbfoQMc',\n",
       "    debug: true,\n",
       "    mobileFirst: true,\n",
       "    columns: 1,\n",
       "    margin: {\n",
       "        x: 0,\n",
       "        y: 0\n",
       "    }\n",
       "  });\n",
       "\n",
       "  var traces_1grZjyWZkB = [{\"name\":\"SpXXhm5780\",\"type\":\"scatter\",\"mode\":\"markers\",\"x\":[1,2,3],\"y\":[1.234,5.2112,2.44332]}];\n",
       " var layout_1grZjyWZkB = {\"height\":550,\"width\":600,\"hovermode\":\"closest\",\"title\":{\"text\":\"Logarithmic Axes\"},\"showlegend\":true,\"xaxis\":{\"title\":{\"text\":\"x variable\"},\"showgrid\":true,\"zeroline\":false,\"showline\":false,\"type\":\"log\"},\"yaxis\":{\"title\":{\"text\":\"y variable\"},\"showgrid\":true,\"zeroline\":false,\"showline\":false,\"type\":\"log\"}};\n",
       " var config_1grZjyWZkB = {\"responsive\":true,\"scrollZoom\":true,\"displaylogo\":false};\n",
       " Plotly.newPlot(\"graph_1grZjyWZkB\", traces_1grZjyWZkB, layout_1grZjyWZkB, config_1grZjyWZkB);\n",
       "</script> \n"
      ]
     },
     "metadata": {},
     "output_type": "display_data"
    }
   ],
   "source": [
    "val series = (\n",
    "    XY(List(1, 2, 3), List(1.234, 5.2112, 2.44332))\n",
    "    asType SCATTER\n",
    "    drawStyle MARKERS\n",
    ")\n",
    "\n",
    "val chart = (\n",
    "    Chart()\n",
    "    addSeries series\n",
    "    setTitle \"Logarithmic Axes\"\n",
    "    addAxes(xaxis, yaxis)\n",
    "    drawXAxisLog true // We set the 'drawXAxisLog' value to 'true' to draw it on a logarithmic scale\n",
    "    drawYAxisLog true\n",
    ")\n",
    "\n",
    "chart.plotInline"
   ]
  },
  {
   "cell_type": "markdown",
   "metadata": {},
   "source": [
    "### Reversing axis\n",
    "We can also reverse the axis by setting the appropriate 'drawXAxisReversed'"
   ]
  },
  {
   "cell_type": "code",
   "execution_count": 19,
   "metadata": {},
   "outputs": [
    {
     "data": {
      "text/html": [
       "<div id=\"grid-container_9NbKJ3Mqa3\" class=\"grid-container\" align=\"center\"> \n",
       "<div id=\"grid_9NbKJ3Mqa3\" class=\"grid\" align=\"center\"> \n",
       "<div id=\"graph_eGCeGQmwMY\" class=\"graph\"></div> \n",
       "</div> \n",
       "</div> \n",
       "<script>\n",
       "var masonry = new Macy({\n",
       "    container: '#grid_9NbKJ3Mqa3',\n",
       "    debug: true,\n",
       "    mobileFirst: true,\n",
       "    columns: 1,\n",
       "    margin: {\n",
       "        x: 0,\n",
       "        y: 0\n",
       "    }\n",
       "  });\n",
       "\n",
       "  var traces_eGCeGQmwMY = [{\"name\":\"5naVhPm2Kg\",\"type\":\"scatter\",\"mode\":\"markers\",\"x\":[0,0.3444789888784522,0.2026214309828971,0.31412117235481374,0.7047324542004483,0.8281548590371224,4.375285634331407,2.020449357958172,6.633199822357609,0.9328553535046797,3.041595700138029,0.08503985796495062,4.739057983822313,11.3142749730644,9.920746628729114,13.473315204592161,9.953748886291375,2.971868947206685,6.817174518398452,3.72672411649547,6.230406042212156,14.366085441447582,9.184221688055107,9.188262216811395,8.885055303655578,0.35586845841087955,17.15763145883886,1.9708609520024867,0.32505567867200247,28.90904922638694,11.476945408963303,3.135418903298244,14.478359536034525,30.993315342255443,19.7275280504752,17.385106106602564,5.105340661203277,36.09257501228591,4.620107373643329,3.1294204370482595,35.937622921429195,36.66264851678743,26.82845564789561,41.27542529189671,14.4955788052674,0.7914146323264543,32.479054495117715,35.81447590188495,26.737916202926314,39.61172805652758,35.97937308968841,50.44077525027808,30.643080177902398,46.880663833133944,48.73369149962662,39.31304862412365,35.66297517613356,1.8359097294805549,1.6772323392425348,3.9026834128592687,17.97492516377698,38.219426896085245,48.71074432340154,36.91073035395963,52.837614000515366,38.469815448449076,11.288559815162564,41.732284652534204,39.38119100062364,45.778205849880436,67.85359330808551,25.149832736388362,32.08068466712877,18.227852808933214,9.77270431328175,68.09737841396233,11.225305082293332,48.845070128868336,66.1553403388021,25.704289040284173,28.154259078845804,49.32855247996099,15.687400414799152,64.65205534615977,0.13222921471674987,74.74566522127587,42.63080345023974,47.408404143879665,46.73471941179183,66.83775924537782,2.677357649224917,65.39146411046104,44.75512732165386,62.01212024474924,10.653116507952534,52.812022603768725,58.181438317734155,13.865770138263844,54.39655800563576,62.09425734184521],\"y\":[0,0.529068401217908,0.34765950265394485,2.0281939502870454,2.8241822632972373,4.026354417629388,1.2772593757176232,1.3395066865007617,4.830190087004299,2.8849321249837807,6.549981336702774,2.4270525415432633,4.883230066229328,12.687351252909286,11.250354526715302,13.196249129792372,4.530652468841572,14.632129634012363,0.13113370942336622,6.587970001848612,14.001213693083564,15.97459381818828,1.640022615149218,19.948529783354186,10.241981991606114,6.8958592869839155,19.504902993269404,12.00694090035929,5.4904244974195695,14.703134423178689,18.203239818252037,13.579902313126754,11.7591021427701,13.282098042226133,28.624715836624176,8.839833876379803,0.7598024520313995,32.94672454574612,29.114100118055923,26.028132249838265,26.462900454251525,35.51356018103743,9.103791996089507,5.124743669018816,4.926192235737455,42.8161288853655,33.9624988408667,20.446081800326006,11.485489383659543,34.220853948297275,6.748002635281369,4.68627403753543,45.12675177191855,30.25860628418621,49.5080547965829,3.7917479294655627,34.10665840488326,34.495769188619306,13.87399193672126,44.51617708736092,21.905078858700648,7.485490132025909,10.186819657393889,10.791873583878113,60.62905985670861,16.31363167145662,30.535118781902547,66.4248089831668,40.29360909193442,20.134793145360707,50.11834481834995,30.3235835041465,11.22971577555437,12.431648406631053,13.52777985534439,7.757792069398353,31.464850549504767,22.775788225018886,58.1106489478649,35.258454110601086,17.53536070131438,13.870196288292915,21.80067476476141,78.9723622743169,18.074005882573406,84.86247377215906,73.91066591052991,81.81348248436397,38.91923227676348,30.583956568384117,80.6395582536431,4.867805422729955,40.66554275978513,60.74288096379182,4.697701153071151,74.45335673145172,38.766822580604654,3.429874796538487,32.75006071412773,80.2644297876946]}];\n",
       " var layout_eGCeGQmwMY = {\"height\":550,\"width\":600,\"hovermode\":\"closest\",\"title\":{\"text\":\"Reversed Axes\"},\"showlegend\":true,\"xaxis\":{\"title\":{\"text\":\"x reversed\"},\"showgrid\":true,\"zeroline\":false,\"showline\":false,\"autorange\":\"reversed\"},\"yaxis\":{\"title\":{\"text\":\"y reversed\"},\"showgrid\":true,\"zeroline\":false,\"showline\":false,\"autorange\":\"reversed\"}};\n",
       " var config_eGCeGQmwMY = {\"responsive\":true,\"scrollZoom\":true,\"displaylogo\":false};\n",
       " Plotly.newPlot(\"graph_eGCeGQmwMY\", traces_eGCeGQmwMY, layout_eGCeGQmwMY, config_eGCeGQmwMY);\n",
       "</script> \n"
      ]
     },
     "metadata": {},
     "output_type": "display_data"
    }
   ],
   "source": [
    "val series = (\n",
    "    XY(x, y)\n",
    "    asType SCATTER\n",
    "    drawStyle MARKERS\n",
    ")\n",
    "\n",
    "val chart = (\n",
    "    Chart()\n",
    "    addSeries series\n",
    "    setTitle \"Reversed Axes\"\n",
    "    setXAxisTitle(\"x reversed\")\n",
    "    setYAxisTitle(\"y reversed\")\n",
    "    drawXAxisReversed true\n",
    "    drawYAxisReversed true\n",
    ")\n",
    "chart.plotInline"
   ]
  },
  {
   "cell_type": "markdown",
   "metadata": {},
   "source": [
    "### Display options - MultiCharts\n",
    "\n",
    "`MultiCharts` are a way to plot multiple axes on the same chart. This is seperate to Picta's grid system, which create a grid of subplot `Chart`'s. The next series of examples will make this clearer."
   ]
  },
  {
   "cell_type": "code",
   "execution_count": 20,
   "metadata": {},
   "outputs": [
    {
     "data": {
      "text/html": [
       "<div id=\"grid-container_Oo87Z3eGIl\" class=\"grid-container\" align=\"center\"> \n",
       "<div id=\"grid_Oo87Z3eGIl\" class=\"grid\" align=\"center\"> \n",
       "<div id=\"graph_J4TJ9obGQ8\" class=\"graph\"></div> \n",
       "</div> \n",
       "</div> \n",
       "<script>\n",
       "var masonry = new Macy({\n",
       "    container: '#grid_Oo87Z3eGIl',\n",
       "    debug: true,\n",
       "    mobileFirst: true,\n",
       "    columns: 1,\n",
       "    margin: {\n",
       "        x: 0,\n",
       "        y: 0\n",
       "    }\n",
       "  });\n",
       "\n",
       "  var traces_J4TJ9obGQ8 = [{\"name\":\"First series\",\"type\":\"scatter\",\"mode\":\"markers\",\"x\":[1,2,3],\"y\":[2,4,5]},{\"name\":\"Second series\",\"type\":\"scatter\",\"mode\":\"markers\",\"xaxis\":\"x2\",\"yaxis\":\"y2\",\"x\":[0,0.3444789888784522,0.2026214309828971,0.31412117235481374,0.7047324542004483,0.8281548590371224,4.375285634331407,2.020449357958172,6.633199822357609,0.9328553535046797,3.041595700138029,0.08503985796495062,4.739057983822313,11.3142749730644,9.920746628729114,13.473315204592161,9.953748886291375,2.971868947206685,6.817174518398452,3.72672411649547,6.230406042212156,14.366085441447582,9.184221688055107,9.188262216811395,8.885055303655578,0.35586845841087955,17.15763145883886,1.9708609520024867,0.32505567867200247,28.90904922638694,11.476945408963303,3.135418903298244,14.478359536034525,30.993315342255443,19.7275280504752,17.385106106602564,5.105340661203277,36.09257501228591,4.620107373643329,3.1294204370482595,35.937622921429195,36.66264851678743,26.82845564789561,41.27542529189671,14.4955788052674,0.7914146323264543,32.479054495117715,35.81447590188495,26.737916202926314,39.61172805652758,35.97937308968841,50.44077525027808,30.643080177902398,46.880663833133944,48.73369149962662,39.31304862412365,35.66297517613356,1.8359097294805549,1.6772323392425348,3.9026834128592687,17.97492516377698,38.219426896085245,48.71074432340154,36.91073035395963,52.837614000515366,38.469815448449076,11.288559815162564,41.732284652534204,39.38119100062364,45.778205849880436,67.85359330808551,25.149832736388362,32.08068466712877,18.227852808933214,9.77270431328175,68.09737841396233,11.225305082293332,48.845070128868336,66.1553403388021,25.704289040284173,28.154259078845804,49.32855247996099,15.687400414799152,64.65205534615977,0.13222921471674987,74.74566522127587,42.63080345023974,47.408404143879665,46.73471941179183,66.83775924537782,2.677357649224917,65.39146411046104,44.75512732165386,62.01212024474924,10.653116507952534,52.812022603768725,58.181438317734155,13.865770138263844,54.39655800563576,62.09425734184521],\"y\":[0,0.529068401217908,0.34765950265394485,2.0281939502870454,2.8241822632972373,4.026354417629388,1.2772593757176232,1.3395066865007617,4.830190087004299,2.8849321249837807,6.549981336702774,2.4270525415432633,4.883230066229328,12.687351252909286,11.250354526715302,13.196249129792372,4.530652468841572,14.632129634012363,0.13113370942336622,6.587970001848612,14.001213693083564,15.97459381818828,1.640022615149218,19.948529783354186,10.241981991606114,6.8958592869839155,19.504902993269404,12.00694090035929,5.4904244974195695,14.703134423178689,18.203239818252037,13.579902313126754,11.7591021427701,13.282098042226133,28.624715836624176,8.839833876379803,0.7598024520313995,32.94672454574612,29.114100118055923,26.028132249838265,26.462900454251525,35.51356018103743,9.103791996089507,5.124743669018816,4.926192235737455,42.8161288853655,33.9624988408667,20.446081800326006,11.485489383659543,34.220853948297275,6.748002635281369,4.68627403753543,45.12675177191855,30.25860628418621,49.5080547965829,3.7917479294655627,34.10665840488326,34.495769188619306,13.87399193672126,44.51617708736092,21.905078858700648,7.485490132025909,10.186819657393889,10.791873583878113,60.62905985670861,16.31363167145662,30.535118781902547,66.4248089831668,40.29360909193442,20.134793145360707,50.11834481834995,30.3235835041465,11.22971577555437,12.431648406631053,13.52777985534439,7.757792069398353,31.464850549504767,22.775788225018886,58.1106489478649,35.258454110601086,17.53536070131438,13.870196288292915,21.80067476476141,78.9723622743169,18.074005882573406,84.86247377215906,73.91066591052991,81.81348248436397,38.91923227676348,30.583956568384117,80.6395582536431,4.867805422729955,40.66554275978513,60.74288096379182,4.697701153071151,74.45335673145172,38.766822580604654,3.429874796538487,32.75006071412773,80.2644297876946]}];\n",
       " var layout_J4TJ9obGQ8 = {\"height\":550,\"width\":600,\"hovermode\":\"closest\",\"title\":{\"text\":\"Chart with Axis Composition\"},\"showlegend\":true,\"grid\":{\"rows\":1,\"columns\":2,\"pattern\":\"independent\"},\"xaxis\":{\"title\":{\"text\":\"x1\"},\"showgrid\":true,\"zeroline\":false,\"showline\":false},\"yaxis\":{\"title\":{\"text\":\"y1\"},\"showgrid\":true,\"zeroline\":false,\"showline\":false},\"xaxis2\":{\"title\":{\"text\":\"x2\"},\"showgrid\":true,\"zeroline\":false,\"showline\":false},\"yaxis2\":{\"showgrid\":true,\"zeroline\":false,\"showline\":false}};\n",
       " var config_J4TJ9obGQ8 = {\"responsive\":false,\"scrollZoom\":true,\"displaylogo\":false};\n",
       " Plotly.newPlot(\"graph_J4TJ9obGQ8\", traces_J4TJ9obGQ8, layout_J4TJ9obGQ8, config_J4TJ9obGQ8);\n",
       "</script> \n"
      ]
     },
     "metadata": {},
     "output_type": "display_data"
    }
   ],
   "source": [
    "// create the axes\n",
    "val xaxis1 = Axis(X) setTitle \"x1\"\n",
    "val yaxis1 = Axis(Y) setTitle \"y1\" // this is not strictly necessary, but if it is not added there will be a zeroline at y = 0\n",
    "\n",
    "val xaxis2 = Axis(X, 2) setTitle \"x2\"\n",
    "val yaxis2 = Axis(Y, 2) // this is not strictly necessary, but if it is not added there will be a zeroline at y = 0\n",
    "\n",
    "val series1 = (\n",
    "    XY(x = List(1, 2, 3), y = List(2, 4, 5))\n",
    "    asType SCATTER\n",
    "    drawStyle MARKERS\n",
    "    setName(\"First series\") //Here we don't specify the axis, so the standard axis will be used\n",
    ")\n",
    "\n",
    "val series2 = (\n",
    "    XY(x = x, y = y) \n",
    "    asType SCATTER\n",
    "    drawStyle MARKERS\n",
    "    setName(\"Second series\")\n",
    "    setAxes (xaxis2, yaxis2) //Here we specify the axis for this plot, which are the second axis\n",
    ")\n",
    "\n",
    "val chart1 = Chart()\n",
    "            .addSeries(series1, series2)\n",
    "            .setTitle(\"Chart with Axis Composition\")\n",
    "            .addAxes(xaxis1, yaxis1, xaxis2, yaxis2)\n",
    "            .setConfig(responsive=false)\n",
    "            // This tells Picta that we want to actually subdivide this chart into multiple plots\n",
    "            .asMultiChart(1, 2) //These correspond to the axis values given above\n",
    "\n",
    "chart1.plotInline"
   ]
  },
  {
   "cell_type": "markdown",
   "metadata": {},
   "source": [
    "### Picta's Subplot System\n",
    "\n",
    "While the above is useful, sometimes it is easier to plot independent charts in a subplot grid. This is where we can use the Picta subplot system.\n",
    "\n",
    "In the subplots below, each subplot is an individual `Chart`. This means we can actually embed the above `MultiChart` inside another subplot. This way we can create nested subplots to showcase any data we need to.\n",
    "\n",
    "Used creatively, this subplot system can be very useful for data exploration."
   ]
  },
  {
   "cell_type": "code",
   "execution_count": 21,
   "metadata": {
    "scrolled": false
   },
   "outputs": [
    {
     "data": {
      "text/html": [
       "<div id=\"grid-container_yOkYoZo8dA\" class=\"grid-container\" align=\"center\"> \n",
       "<div id=\"grid_yOkYoZo8dA\" class=\"grid\" align=\"center\"> \n",
       "<div id=\"graph_Bxc0Pz1B8G\" class=\"graph\"></div> \n",
       "<div id=\"graph_Khs4P1IcUf\" class=\"graph\"></div> \n",
       "<div id=\"graph_T93h5Wm7Ep\" class=\"graph\"></div> \n",
       "<div id=\"graph_5Tmy3b1xc6\" class=\"graph\"></div> \n",
       "</div> \n",
       "</div> \n",
       "\n",
       "<div align=\"center\">\n",
       "<button id = \"saveAsPNG_yOkYoZo8dA\" class=\"picta-button\">Download Canvas as PNG</button>\n",
       "</div>\n",
       "<script>\n",
       "var masonry = new Macy({\n",
       "    container: '#grid_yOkYoZo8dA',\n",
       "    debug: true,\n",
       "    mobileFirst: true,\n",
       "    columns: 2,\n",
       "    margin: {\n",
       "        x: 0,\n",
       "        y: 0\n",
       "    }\n",
       "  });\n",
       "\n",
       "  var traces_Bxc0Pz1B8G = [{\"name\":\"a\",\"type\":\"scatter\",\"mode\":\"markers\",\"x\":[0,0.3444789888784522,0.2026214309828971,0.31412117235481374,0.7047324542004483,0.8281548590371224,4.375285634331407,2.020449357958172,6.633199822357609,0.9328553535046797,3.041595700138029,0.08503985796495062,4.739057983822313,11.3142749730644,9.920746628729114,13.473315204592161,9.953748886291375,2.971868947206685,6.817174518398452,3.72672411649547,6.230406042212156,14.366085441447582,9.184221688055107,9.188262216811395,8.885055303655578,0.35586845841087955,17.15763145883886,1.9708609520024867,0.32505567867200247,28.90904922638694,11.476945408963303,3.135418903298244,14.478359536034525,30.993315342255443,19.7275280504752,17.385106106602564,5.105340661203277,36.09257501228591,4.620107373643329,3.1294204370482595,35.937622921429195,36.66264851678743,26.82845564789561,41.27542529189671,14.4955788052674,0.7914146323264543,32.479054495117715,35.81447590188495,26.737916202926314,39.61172805652758,35.97937308968841,50.44077525027808,30.643080177902398,46.880663833133944,48.73369149962662,39.31304862412365,35.66297517613356,1.8359097294805549,1.6772323392425348,3.9026834128592687,17.97492516377698,38.219426896085245,48.71074432340154,36.91073035395963,52.837614000515366,38.469815448449076,11.288559815162564,41.732284652534204,39.38119100062364,45.778205849880436,67.85359330808551,25.149832736388362,32.08068466712877,18.227852808933214,9.77270431328175,68.09737841396233,11.225305082293332,48.845070128868336,66.1553403388021,25.704289040284173,28.154259078845804,49.32855247996099,15.687400414799152,64.65205534615977,0.13222921471674987,74.74566522127587,42.63080345023974,47.408404143879665,46.73471941179183,66.83775924537782,2.677357649224917,65.39146411046104,44.75512732165386,62.01212024474924,10.653116507952534,52.812022603768725,58.181438317734155,13.865770138263844,54.39655800563576,62.09425734184521],\"y\":[0,0.529068401217908,0.34765950265394485,2.0281939502870454,2.8241822632972373,4.026354417629388,1.2772593757176232,1.3395066865007617,4.830190087004299,2.8849321249837807,6.549981336702774,2.4270525415432633,4.883230066229328,12.687351252909286,11.250354526715302,13.196249129792372,4.530652468841572,14.632129634012363,0.13113370942336622,6.587970001848612,14.001213693083564,15.97459381818828,1.640022615149218,19.948529783354186,10.241981991606114,6.8958592869839155,19.504902993269404,12.00694090035929,5.4904244974195695,14.703134423178689,18.203239818252037,13.579902313126754,11.7591021427701,13.282098042226133,28.624715836624176,8.839833876379803,0.7598024520313995,32.94672454574612,29.114100118055923,26.028132249838265,26.462900454251525,35.51356018103743,9.103791996089507,5.124743669018816,4.926192235737455,42.8161288853655,33.9624988408667,20.446081800326006,11.485489383659543,34.220853948297275,6.748002635281369,4.68627403753543,45.12675177191855,30.25860628418621,49.5080547965829,3.7917479294655627,34.10665840488326,34.495769188619306,13.87399193672126,44.51617708736092,21.905078858700648,7.485490132025909,10.186819657393889,10.791873583878113,60.62905985670861,16.31363167145662,30.535118781902547,66.4248089831668,40.29360909193442,20.134793145360707,50.11834481834995,30.3235835041465,11.22971577555437,12.431648406631053,13.52777985534439,7.757792069398353,31.464850549504767,22.775788225018886,58.1106489478649,35.258454110601086,17.53536070131438,13.870196288292915,21.80067476476141,78.9723622743169,18.074005882573406,84.86247377215906,73.91066591052991,81.81348248436397,38.91923227676348,30.583956568384117,80.6395582536431,4.867805422729955,40.66554275978513,60.74288096379182,4.697701153071151,74.45335673145172,38.766822580604654,3.429874796538487,32.75006071412773,80.2644297876946]}];\n",
       " var layout_Bxc0Pz1B8G = {\"height\":350,\"width\":350,\"hovermode\":\"closest\",\"showlegend\":true,\"margin\":{\"l\":50,\"r\":30,\"t\":50,\"b\":50},\"xaxis\":{\"title\":{\"text\":\"x axis 1\"},\"showgrid\":true,\"zeroline\":false,\"showline\":false},\"yaxis\":{\"title\":{\"text\":\"y axis 1\"},\"showgrid\":true,\"zeroline\":false,\"showline\":false}};\n",
       " var config_Bxc0Pz1B8G = {\"responsive\":true,\"scrollZoom\":true,\"displaylogo\":false};\n",
       " Plotly.newPlot(\"graph_Bxc0Pz1B8G\", traces_Bxc0Pz1B8G, layout_Bxc0Pz1B8G, config_Bxc0Pz1B8G);\n",
       "\n",
       "  var traces_Khs4P1IcUf = [{\"name\":\"b\",\"type\":\"scatter\",\"mode\":\"markers\",\"x\":[0,0.3444789888784522,0.2026214309828971,0.31412117235481374,0.7047324542004483,0.8281548590371224,4.375285634331407,2.020449357958172,6.633199822357609,0.9328553535046797,3.041595700138029,0.08503985796495062,4.739057983822313,11.3142749730644,9.920746628729114,13.473315204592161,9.953748886291375,2.971868947206685,6.817174518398452,3.72672411649547,6.230406042212156,14.366085441447582,9.184221688055107,9.188262216811395,8.885055303655578,0.35586845841087955,17.15763145883886,1.9708609520024867,0.32505567867200247,28.90904922638694,11.476945408963303,3.135418903298244,14.478359536034525,30.993315342255443,19.7275280504752,17.385106106602564,5.105340661203277,36.09257501228591,4.620107373643329,3.1294204370482595,35.937622921429195,36.66264851678743,26.82845564789561,41.27542529189671,14.4955788052674,0.7914146323264543,32.479054495117715,35.81447590188495,26.737916202926314,39.61172805652758,35.97937308968841,50.44077525027808,30.643080177902398,46.880663833133944,48.73369149962662,39.31304862412365,35.66297517613356,1.8359097294805549,1.6772323392425348,3.9026834128592687,17.97492516377698,38.219426896085245,48.71074432340154,36.91073035395963,52.837614000515366,38.469815448449076,11.288559815162564,41.732284652534204,39.38119100062364,45.778205849880436,67.85359330808551,25.149832736388362,32.08068466712877,18.227852808933214,9.77270431328175,68.09737841396233,11.225305082293332,48.845070128868336,66.1553403388021,25.704289040284173,28.154259078845804,49.32855247996099,15.687400414799152,64.65205534615977,0.13222921471674987,74.74566522127587,42.63080345023974,47.408404143879665,46.73471941179183,66.83775924537782,2.677357649224917,65.39146411046104,44.75512732165386,62.01212024474924,10.653116507952534,52.812022603768725,58.181438317734155,13.865770138263844,54.39655800563576,62.09425734184521],\"y\":[0,0.529068401217908,0.34765950265394485,2.0281939502870454,2.8241822632972373,4.026354417629388,1.2772593757176232,1.3395066865007617,4.830190087004299,2.8849321249837807,6.549981336702774,2.4270525415432633,4.883230066229328,12.687351252909286,11.250354526715302,13.196249129792372,4.530652468841572,14.632129634012363,0.13113370942336622,6.587970001848612,14.001213693083564,15.97459381818828,1.640022615149218,19.948529783354186,10.241981991606114,6.8958592869839155,19.504902993269404,12.00694090035929,5.4904244974195695,14.703134423178689,18.203239818252037,13.579902313126754,11.7591021427701,13.282098042226133,28.624715836624176,8.839833876379803,0.7598024520313995,32.94672454574612,29.114100118055923,26.028132249838265,26.462900454251525,35.51356018103743,9.103791996089507,5.124743669018816,4.926192235737455,42.8161288853655,33.9624988408667,20.446081800326006,11.485489383659543,34.220853948297275,6.748002635281369,4.68627403753543,45.12675177191855,30.25860628418621,49.5080547965829,3.7917479294655627,34.10665840488326,34.495769188619306,13.87399193672126,44.51617708736092,21.905078858700648,7.485490132025909,10.186819657393889,10.791873583878113,60.62905985670861,16.31363167145662,30.535118781902547,66.4248089831668,40.29360909193442,20.134793145360707,50.11834481834995,30.3235835041465,11.22971577555437,12.431648406631053,13.52777985534439,7.757792069398353,31.464850549504767,22.775788225018886,58.1106489478649,35.258454110601086,17.53536070131438,13.870196288292915,21.80067476476141,78.9723622743169,18.074005882573406,84.86247377215906,73.91066591052991,81.81348248436397,38.91923227676348,30.583956568384117,80.6395582536431,4.867805422729955,40.66554275978513,60.74288096379182,4.697701153071151,74.45335673145172,38.766822580604654,3.429874796538487,32.75006071412773,80.2644297876946]}];\n",
       " var layout_Khs4P1IcUf = {\"height\":350,\"width\":350,\"hovermode\":\"closest\",\"showlegend\":true,\"margin\":{\"l\":50,\"r\":50,\"t\":50,\"b\":50},\"xaxis\":{\"title\":{\"text\":\"x axis 2\"},\"showgrid\":true,\"zeroline\":false,\"showline\":false},\"yaxis\":{\"title\":{\"text\":\"y axis 2\"},\"showgrid\":true,\"zeroline\":false,\"showline\":false}};\n",
       " var config_Khs4P1IcUf = {\"responsive\":true,\"scrollZoom\":true,\"displaylogo\":false};\n",
       " Plotly.newPlot(\"graph_Khs4P1IcUf\", traces_Khs4P1IcUf, layout_Khs4P1IcUf, config_Khs4P1IcUf);\n",
       "\n",
       "  var traces_T93h5Wm7Ep = [{\"name\":\"c\",\"type\":\"scatter\",\"mode\":\"markers\",\"x\":[0,0.3444789888784522,0.2026214309828971,0.31412117235481374,0.7047324542004483,0.8281548590371224,4.375285634331407,2.020449357958172,6.633199822357609,0.9328553535046797,3.041595700138029,0.08503985796495062,4.739057983822313,11.3142749730644,9.920746628729114,13.473315204592161,9.953748886291375,2.971868947206685,6.817174518398452,3.72672411649547,6.230406042212156,14.366085441447582,9.184221688055107,9.188262216811395,8.885055303655578,0.35586845841087955,17.15763145883886,1.9708609520024867,0.32505567867200247,28.90904922638694,11.476945408963303,3.135418903298244,14.478359536034525,30.993315342255443,19.7275280504752,17.385106106602564,5.105340661203277,36.09257501228591,4.620107373643329,3.1294204370482595,35.937622921429195,36.66264851678743,26.82845564789561,41.27542529189671,14.4955788052674,0.7914146323264543,32.479054495117715,35.81447590188495,26.737916202926314,39.61172805652758,35.97937308968841,50.44077525027808,30.643080177902398,46.880663833133944,48.73369149962662,39.31304862412365,35.66297517613356,1.8359097294805549,1.6772323392425348,3.9026834128592687,17.97492516377698,38.219426896085245,48.71074432340154,36.91073035395963,52.837614000515366,38.469815448449076,11.288559815162564,41.732284652534204,39.38119100062364,45.778205849880436,67.85359330808551,25.149832736388362,32.08068466712877,18.227852808933214,9.77270431328175,68.09737841396233,11.225305082293332,48.845070128868336,66.1553403388021,25.704289040284173,28.154259078845804,49.32855247996099,15.687400414799152,64.65205534615977,0.13222921471674987,74.74566522127587,42.63080345023974,47.408404143879665,46.73471941179183,66.83775924537782,2.677357649224917,65.39146411046104,44.75512732165386,62.01212024474924,10.653116507952534,52.812022603768725,58.181438317734155,13.865770138263844,54.39655800563576,62.09425734184521],\"y\":[0,0.529068401217908,0.34765950265394485,2.0281939502870454,2.8241822632972373,4.026354417629388,1.2772593757176232,1.3395066865007617,4.830190087004299,2.8849321249837807,6.549981336702774,2.4270525415432633,4.883230066229328,12.687351252909286,11.250354526715302,13.196249129792372,4.530652468841572,14.632129634012363,0.13113370942336622,6.587970001848612,14.001213693083564,15.97459381818828,1.640022615149218,19.948529783354186,10.241981991606114,6.8958592869839155,19.504902993269404,12.00694090035929,5.4904244974195695,14.703134423178689,18.203239818252037,13.579902313126754,11.7591021427701,13.282098042226133,28.624715836624176,8.839833876379803,0.7598024520313995,32.94672454574612,29.114100118055923,26.028132249838265,26.462900454251525,35.51356018103743,9.103791996089507,5.124743669018816,4.926192235737455,42.8161288853655,33.9624988408667,20.446081800326006,11.485489383659543,34.220853948297275,6.748002635281369,4.68627403753543,45.12675177191855,30.25860628418621,49.5080547965829,3.7917479294655627,34.10665840488326,34.495769188619306,13.87399193672126,44.51617708736092,21.905078858700648,7.485490132025909,10.186819657393889,10.791873583878113,60.62905985670861,16.31363167145662,30.535118781902547,66.4248089831668,40.29360909193442,20.134793145360707,50.11834481834995,30.3235835041465,11.22971577555437,12.431648406631053,13.52777985534439,7.757792069398353,31.464850549504767,22.775788225018886,58.1106489478649,35.258454110601086,17.53536070131438,13.870196288292915,21.80067476476141,78.9723622743169,18.074005882573406,84.86247377215906,73.91066591052991,81.81348248436397,38.91923227676348,30.583956568384117,80.6395582536431,4.867805422729955,40.66554275978513,60.74288096379182,4.697701153071151,74.45335673145172,38.766822580604654,3.429874796538487,32.75006071412773,80.2644297876946]}];\n",
       " var layout_T93h5Wm7Ep = {\"height\":350,\"width\":350,\"hovermode\":\"closest\",\"showlegend\":true,\"margin\":{\"l\":50,\"r\":30,\"t\":50,\"b\":50},\"xaxis\":{\"title\":{\"text\":\"x axis 3\"},\"showgrid\":true,\"zeroline\":false,\"showline\":false},\"yaxis\":{\"title\":{\"text\":\"y axis 3\"},\"showgrid\":true,\"zeroline\":false,\"showline\":false}};\n",
       " var config_T93h5Wm7Ep = {\"responsive\":true,\"scrollZoom\":true,\"displaylogo\":false};\n",
       " Plotly.newPlot(\"graph_T93h5Wm7Ep\", traces_T93h5Wm7Ep, layout_T93h5Wm7Ep, config_T93h5Wm7Ep);\n",
       "\n",
       "  var traces_5Tmy3b1xc6 = [{\"name\":\"First series\",\"type\":\"scatter\",\"mode\":\"markers\",\"x\":[1,2,3],\"y\":[2,4,5]},{\"name\":\"Second series\",\"type\":\"scatter\",\"mode\":\"markers\",\"xaxis\":\"x2\",\"yaxis\":\"y2\",\"x\":[0,0.3444789888784522,0.2026214309828971,0.31412117235481374,0.7047324542004483,0.8281548590371224,4.375285634331407,2.020449357958172,6.633199822357609,0.9328553535046797,3.041595700138029,0.08503985796495062,4.739057983822313,11.3142749730644,9.920746628729114,13.473315204592161,9.953748886291375,2.971868947206685,6.817174518398452,3.72672411649547,6.230406042212156,14.366085441447582,9.184221688055107,9.188262216811395,8.885055303655578,0.35586845841087955,17.15763145883886,1.9708609520024867,0.32505567867200247,28.90904922638694,11.476945408963303,3.135418903298244,14.478359536034525,30.993315342255443,19.7275280504752,17.385106106602564,5.105340661203277,36.09257501228591,4.620107373643329,3.1294204370482595,35.937622921429195,36.66264851678743,26.82845564789561,41.27542529189671,14.4955788052674,0.7914146323264543,32.479054495117715,35.81447590188495,26.737916202926314,39.61172805652758,35.97937308968841,50.44077525027808,30.643080177902398,46.880663833133944,48.73369149962662,39.31304862412365,35.66297517613356,1.8359097294805549,1.6772323392425348,3.9026834128592687,17.97492516377698,38.219426896085245,48.71074432340154,36.91073035395963,52.837614000515366,38.469815448449076,11.288559815162564,41.732284652534204,39.38119100062364,45.778205849880436,67.85359330808551,25.149832736388362,32.08068466712877,18.227852808933214,9.77270431328175,68.09737841396233,11.225305082293332,48.845070128868336,66.1553403388021,25.704289040284173,28.154259078845804,49.32855247996099,15.687400414799152,64.65205534615977,0.13222921471674987,74.74566522127587,42.63080345023974,47.408404143879665,46.73471941179183,66.83775924537782,2.677357649224917,65.39146411046104,44.75512732165386,62.01212024474924,10.653116507952534,52.812022603768725,58.181438317734155,13.865770138263844,54.39655800563576,62.09425734184521],\"y\":[0,0.529068401217908,0.34765950265394485,2.0281939502870454,2.8241822632972373,4.026354417629388,1.2772593757176232,1.3395066865007617,4.830190087004299,2.8849321249837807,6.549981336702774,2.4270525415432633,4.883230066229328,12.687351252909286,11.250354526715302,13.196249129792372,4.530652468841572,14.632129634012363,0.13113370942336622,6.587970001848612,14.001213693083564,15.97459381818828,1.640022615149218,19.948529783354186,10.241981991606114,6.8958592869839155,19.504902993269404,12.00694090035929,5.4904244974195695,14.703134423178689,18.203239818252037,13.579902313126754,11.7591021427701,13.282098042226133,28.624715836624176,8.839833876379803,0.7598024520313995,32.94672454574612,29.114100118055923,26.028132249838265,26.462900454251525,35.51356018103743,9.103791996089507,5.124743669018816,4.926192235737455,42.8161288853655,33.9624988408667,20.446081800326006,11.485489383659543,34.220853948297275,6.748002635281369,4.68627403753543,45.12675177191855,30.25860628418621,49.5080547965829,3.7917479294655627,34.10665840488326,34.495769188619306,13.87399193672126,44.51617708736092,21.905078858700648,7.485490132025909,10.186819657393889,10.791873583878113,60.62905985670861,16.31363167145662,30.535118781902547,66.4248089831668,40.29360909193442,20.134793145360707,50.11834481834995,30.3235835041465,11.22971577555437,12.431648406631053,13.52777985534439,7.757792069398353,31.464850549504767,22.775788225018886,58.1106489478649,35.258454110601086,17.53536070131438,13.870196288292915,21.80067476476141,78.9723622743169,18.074005882573406,84.86247377215906,73.91066591052991,81.81348248436397,38.91923227676348,30.583956568384117,80.6395582536431,4.867805422729955,40.66554275978513,60.74288096379182,4.697701153071151,74.45335673145172,38.766822580604654,3.429874796538487,32.75006071412773,80.2644297876946]}];\n",
       " var layout_5Tmy3b1xc6 = {\"height\":350,\"width\":350,\"hovermode\":\"closest\",\"title\":{\"text\":\"The MultiChart from Above\"},\"showlegend\":true,\"grid\":{\"rows\":1,\"columns\":2,\"pattern\":\"independent\"},\"xaxis\":{\"title\":{\"text\":\"x1\"},\"showgrid\":true,\"zeroline\":false,\"showline\":false},\"yaxis\":{\"title\":{\"text\":\"y1\"},\"showgrid\":true,\"zeroline\":false,\"showline\":false},\"xaxis2\":{\"title\":{\"text\":\"x2\"},\"showgrid\":true,\"zeroline\":false,\"showline\":false},\"yaxis2\":{\"showgrid\":true,\"zeroline\":false,\"showline\":false}};\n",
       " var config_5Tmy3b1xc6 = {\"responsive\":false,\"scrollZoom\":true,\"displaylogo\":false};\n",
       " Plotly.newPlot(\"graph_5Tmy3b1xc6\", traces_5Tmy3b1xc6, layout_5Tmy3b1xc6, config_5Tmy3b1xc6);\n",
       "\n",
       "var save_yOkYoZo8dA = document.getElementById(\"saveAsPNG_yOkYoZo8dA\")\n",
       "save_yOkYoZo8dA.onclick = async function() {\n",
       "    const grid = document.getElementById(\"grid-container_yOkYoZo8dA\")\n",
       "    const graphs = grid.getElementsByClassName(\"graph\")\n",
       "\n",
       "    const images = []\n",
       "\n",
       "    const rows = 2\n",
       "    const cols = 2\n",
       "    const img_width = 400\n",
       "    const img_height = 400\n",
       "    var margin = 50\n",
       "\n",
       "    for (var i=0; i<rows; i++) {\n",
       "      for (var j=0; j<cols; j++) {\n",
       "        const image = await Plotly.toImage(graphs[i * cols + j], {format: 'png', width: img_width, height: img_height})\n",
       "        images.push(image);\n",
       "      }\n",
       "    }\n",
       "\n",
       "    const positioned_images = []\n",
       "\n",
       "        for (var i=0; i<rows; i++) {\n",
       "            for (var j=0; j<cols; j++) {\n",
       "\n",
       "                const obj = {\n",
       "                    \"src\": images[i*cols + j],\n",
       "                    x: j*img_width+margin,\n",
       "                    y: i*img_height+margin\n",
       "                }\n",
       "\n",
       "                positioned_images.push(obj)\n",
       "            }\n",
       "        }\n",
       "\n",
       "        mergeImages(positioned_images, {\n",
       "            width: img_width*cols+60, height: img_height*rows+60\n",
       "        })\n",
       "        .then(b64 => {\n",
       "            var a = document.createElement(\"a\");\n",
       "            a.href = b64;\n",
       "            a.download = \"Image.png\";\n",
       "            a.click();\n",
       "            a.remove()\n",
       "        });\n",
       "}\n",
       "</script> \n"
      ]
     },
     "metadata": {},
     "output_type": "display_data"
    }
   ],
   "source": [
    "// first define the x-axes we will use in the plot\n",
    "val ax1 = Axis(X, title = \"x axis 1\")\n",
    "val ax2 = Axis(X, title = \"x axis 2\")\n",
    "val ax3 = Axis(X, title = \"x axis 3\")\n",
    "val ax4 = Axis(X, title = \"x axis 4\")\n",
    "\n",
    "// first define the y-axes we will use in the plot\n",
    "val ax6 = Axis(Y, title = \"y axis 1\")\n",
    "val ax7 = Axis(Y, title = \"y axis 2\")\n",
    "val ax8 = Axis(Y, title = \"y axis 3\")\n",
    "val ax9 = Axis(Y, title = \"y axis 4\")\n",
    "\n",
    "// it may be necessary to play around with the chart dimensions and margin  in order to ensure a good fit on screen.\n",
    "val dim = 350\n",
    "\n",
    "val chart1 = (\n",
    "    Chart()\n",
    "    setDimensions(width = dim, height = dim)\n",
    "    addSeries XY(x, y).setName(\"a\").drawMarkers\n",
    "    addAxes(ax1, ax6)\n",
    "    setMargin(l=50, r=30, t=50, b=50)\n",
    ")\n",
    "\n",
    "val chart2 = (\n",
    "    Chart() \n",
    "    setDimensions(width = dim, height = dim)\n",
    "    addSeries XY(x, y).setName(\"b\").drawMarkers\n",
    "    addAxes(ax2, ax7)\n",
    "    setMargin(l=50, r=50, t=50, b=50)\n",
    ")\n",
    "\n",
    "val chart3 = (\n",
    "    Chart()\n",
    "    setDimensions(width = dim, height = dim)\n",
    "    addSeries XY(x, y).setName(\"c\").drawMarkers\n",
    "    addAxes(ax3, ax8)\n",
    "    setMargin(l=50, r=30, t=50, b=50)\n",
    ")\n",
    "\n",
    "val chart4 = (\n",
    "    Chart()\n",
    "    setDimensions(width = dim, height = dim)\n",
    "    addSeries(series1, series2)\n",
    "    setTitle \"The MultiChart from Above\"\n",
    "    addAxes(xaxis1, yaxis1, xaxis2, yaxis2) // these axes come from above\n",
    "    setConfig(responsive=false)\n",
    "    asMultiChart(1, 2)\n",
    ")\n",
    "\n",
    "// The canvas has an underlying grid. By default the underlying grid is 1x1, but we can pass in the dimensions we \n",
    "// require by passing in parameters in the constructor.\n",
    "Canvas(2, 2)\n",
    ".setChart(0, 0, chart1)\n",
    ".setChart(0, 1, chart2)\n",
    ".setChart(1, 0, chart3)\n",
    ".setChart(1, 1, chart4)\n",
    ".plotInline"
   ]
  },
  {
   "cell_type": "markdown",
   "metadata": {},
   "source": [
    "### Error Bars\n",
    "\n",
    "We can also add Error Bars to our plots.\n",
    "\n",
    "Error bars come in two flavours:\n",
    "\n",
    "1. `XError`\n",
    "2. `YError`\n",
    "\n",
    "Both of these has an associated `mode` that determines how the error bar is calculated for an individual point. The following `mode`s can be specified:\n",
    "\n",
    "- `DATA`: The user passes in an array that specifies the per point error\n",
    "- `PERCENT`: The user passes in a Double that calculates the error as a percentage of the value of the point\n",
    "- `CONSTANT`: The user passes in a double that is the constant value for the error for all points\n",
    "- `SQRT`: This calculates the error as a square root of the point value.\n",
    "\n",
    "The next few examples will demonstrate:"
   ]
  },
  {
   "cell_type": "code",
   "execution_count": 22,
   "metadata": {},
   "outputs": [],
   "source": [
    "// First import the Error Bar options\n",
    "import org.carbonateresearch.picta.options.{YError, CONSTANT, DATA, PERCENT, SQRT}"
   ]
  },
  {
   "cell_type": "code",
   "execution_count": 23,
   "metadata": {},
   "outputs": [
    {
     "data": {
      "text/html": [
       "<div id=\"grid-container_f79uqFq7TC\" class=\"grid-container\" align=\"center\"> \n",
       "<div id=\"grid_f79uqFq7TC\" class=\"grid\" align=\"center\"> \n",
       "<div id=\"graph_ZnHZ0hzV2B\" class=\"graph\"></div> \n",
       "<div id=\"graph_0u22WZTP05\" class=\"graph\"></div> \n",
       "<div id=\"graph_s7UEuoGMht\" class=\"graph\"></div> \n",
       "<div id=\"graph_ttAm6u6qhw\" class=\"graph\"></div> \n",
       "</div> \n",
       "</div> \n",
       "\n",
       "<div align=\"center\">\n",
       "<button id = \"saveAsPNG_f79uqFq7TC\" class=\"picta-button\">Download Canvas as PNG</button>\n",
       "</div>\n",
       "<script>\n",
       "var masonry = new Macy({\n",
       "    container: '#grid_f79uqFq7TC',\n",
       "    debug: true,\n",
       "    mobileFirst: true,\n",
       "    columns: 2,\n",
       "    margin: {\n",
       "        x: 0,\n",
       "        y: 0\n",
       "    }\n",
       "  });\n",
       "\n",
       "  var traces_ZnHZ0hzV2B = [{\"name\":\"Error from provided data\",\"type\":\"scatter\",\"mode\":\"markers\",\"x\":[1,2,3],\"y\":[1.234,5.2112,2.44332],\"error_y\":{\"type\":\"data\",\"visible\":true,\"array\":[0.5,0.5,0.5]}}];\n",
       " var layout_ZnHZ0hzV2B = {\"height\":400,\"width\":400,\"hovermode\":\"closest\",\"title\":{\"text\":\"Per Point Specified Error\"},\"showlegend\":true};\n",
       " var config_ZnHZ0hzV2B = {\"responsive\":true,\"scrollZoom\":true,\"displaylogo\":false};\n",
       " Plotly.newPlot(\"graph_ZnHZ0hzV2B\", traces_ZnHZ0hzV2B, layout_ZnHZ0hzV2B, config_ZnHZ0hzV2B);\n",
       "\n",
       "  var traces_0u22WZTP05 = [{\"name\":\"% error\",\"type\":\"scatter\",\"mode\":\"markers\",\"x\":[1,2,3],\"y\":[1.234,5.2112,2.44332],\"error_y\":{\"type\":\"percent\",\"visible\":true,\"value\":10}}];\n",
       " var layout_0u22WZTP05 = {\"height\":400,\"width\":400,\"hovermode\":\"closest\",\"title\":{\"text\":\"Percentage Error\"},\"showlegend\":true};\n",
       " var config_0u22WZTP05 = {\"responsive\":true,\"scrollZoom\":true,\"displaylogo\":false};\n",
       " Plotly.newPlot(\"graph_0u22WZTP05\", traces_0u22WZTP05, layout_0u22WZTP05, config_0u22WZTP05);\n",
       "\n",
       "  var traces_s7UEuoGMht = [{\"name\":\"constant error\",\"type\":\"scatter\",\"mode\":\"markers\",\"x\":[1,2,3],\"y\":[1.234,5.2112,2.44332],\"error_y\":{\"type\":\"constant\",\"visible\":true,\"value\":10}}];\n",
       " var layout_s7UEuoGMht = {\"height\":400,\"width\":400,\"hovermode\":\"closest\",\"title\":{\"text\":\"Constant Error\"},\"showlegend\":true};\n",
       " var config_s7UEuoGMht = {\"responsive\":true,\"scrollZoom\":true,\"displaylogo\":false};\n",
       " Plotly.newPlot(\"graph_s7UEuoGMht\", traces_s7UEuoGMht, layout_s7UEuoGMht, config_s7UEuoGMht);\n",
       "\n",
       "  var traces_ttAm6u6qhw = [{\"name\":\"Sqrt\",\"type\":\"scatter\",\"mode\":\"markers\",\"x\":[1,2,3],\"y\":[1.234,5.2112,2.44332],\"error_y\":{\"type\":\"sqrt\",\"visible\":true}}];\n",
       " var layout_ttAm6u6qhw = {\"height\":400,\"width\":400,\"hovermode\":\"closest\",\"title\":{\"text\":\"Sqrt Error\"},\"showlegend\":true};\n",
       " var config_ttAm6u6qhw = {\"responsive\":true,\"scrollZoom\":true,\"displaylogo\":false};\n",
       " Plotly.newPlot(\"graph_ttAm6u6qhw\", traces_ttAm6u6qhw, layout_ttAm6u6qhw, config_ttAm6u6qhw);\n",
       "\n",
       "var save_f79uqFq7TC = document.getElementById(\"saveAsPNG_f79uqFq7TC\")\n",
       "save_f79uqFq7TC.onclick = async function() {\n",
       "    const grid = document.getElementById(\"grid-container_f79uqFq7TC\")\n",
       "    const graphs = grid.getElementsByClassName(\"graph\")\n",
       "\n",
       "    const images = []\n",
       "\n",
       "    const rows = 2\n",
       "    const cols = 2\n",
       "    const img_width = 400\n",
       "    const img_height = 400\n",
       "    var margin = 50\n",
       "\n",
       "    for (var i=0; i<rows; i++) {\n",
       "      for (var j=0; j<cols; j++) {\n",
       "        const image = await Plotly.toImage(graphs[i * cols + j], {format: 'png', width: img_width, height: img_height})\n",
       "        images.push(image);\n",
       "      }\n",
       "    }\n",
       "\n",
       "    const positioned_images = []\n",
       "\n",
       "        for (var i=0; i<rows; i++) {\n",
       "            for (var j=0; j<cols; j++) {\n",
       "\n",
       "                const obj = {\n",
       "                    \"src\": images[i*cols + j],\n",
       "                    x: j*img_width+margin,\n",
       "                    y: i*img_height+margin\n",
       "                }\n",
       "\n",
       "                positioned_images.push(obj)\n",
       "            }\n",
       "        }\n",
       "\n",
       "        mergeImages(positioned_images, {\n",
       "            width: img_width*cols+60, height: img_height*rows+60\n",
       "        })\n",
       "        .then(b64 => {\n",
       "            var a = document.createElement(\"a\");\n",
       "            a.href = b64;\n",
       "            a.download = \"Image.png\";\n",
       "            a.click();\n",
       "            a.remove()\n",
       "        });\n",
       "}\n",
       "</script> \n"
      ]
     },
     "metadata": {},
     "output_type": "display_data"
    }
   ],
   "source": [
    "val dim = 400\n",
    "\n",
    "val series1 = (\n",
    "    XY(List(1, 2, 3), List(1.234, 5.2112, 2.44332))\n",
    "    asType SCATTER\n",
    "    drawStyle MARKERS\n",
    "    // User specifies the error per point\n",
    "    setErrorBars YError(mode = DATA, array = List(0.5, 0.5, 0.5))\n",
    ")\n",
    "\n",
    "val chart1 = (\n",
    "    Chart()\n",
    "    addSeries series1.setName(\"Error from provided data\")\n",
    "    setTitle \"Per Point Specified Error\"\n",
    "    setDimensions(width = dim, height = dim)\n",
    ")\n",
    "\n",
    "\n",
    "val series2 = (\n",
    "    XY(List(1, 2, 3), List(1.234, 5.2112, 2.44332))\n",
    "    asType SCATTER\n",
    "    drawStyle MARKERS\n",
    "    // the error here is 10% of the corresponding y-value for the point\n",
    "    setErrorBars YError(mode = PERCENT, value = 10.0)\n",
    ")\n",
    "\n",
    "val chart2 = (\n",
    "    Chart()\n",
    "    addSeries series2.setName(\"% error\")\n",
    "    setTitle \"Percentage Error\"\n",
    "    setDimensions(width = dim, height = dim) \n",
    ")\n",
    "\n",
    "\n",
    "val series3 = (\n",
    "    XY(List(1, 2, 3), List(1.234, 5.2112, 2.44332))\n",
    "    asType SCATTER\n",
    "    drawStyle MARKERS\n",
    "    // a constant error of 10 is applied to each point\n",
    "    setErrorBars YError(mode = CONSTANT, value = 10.0)\n",
    "    setName(\"Constant value\")\n",
    ")\n",
    "\n",
    "val chart3 = (\n",
    "    Chart()\n",
    "    addSeries series3.setName(\"constant error\")\n",
    "    setTitle \"Constant Error\"\n",
    "    setDimensions(width = dim, height = dim)\n",
    ")\n",
    "\n",
    "\n",
    "val series4 = (\n",
    "    XY(List(1, 2, 3), List(1.234, 5.2112, 2.44332))\n",
    "    asType SCATTER\n",
    "    drawStyle MARKERS\n",
    "    setErrorBars YError(mode = SQRT)\n",
    "    setName(\"Sqrt\")\n",
    ")\n",
    "\n",
    "val chart4 = (\n",
    "    Chart()\n",
    "    addSeries series4.setName(\"Sqrt\")\n",
    "    setTitle \"Sqrt Error\"\n",
    "    // the error is set to the sqrt of the corresponding point\n",
    "    setDimensions(width = dim, height = dim)\n",
    ")\n",
    "\n",
    "val canvas = Canvas(2, 2) addCharts (chart1, chart2, chart3, chart4)\n",
    "\n",
    "canvas.plotInline"
   ]
  },
  {
   "cell_type": "markdown",
   "metadata": {},
   "source": [
    "### Other Types of Charts\n",
    "\n",
    "The next examples will demonstrate how to create a variety of `Chart`s. All of the examples below are composable with the `Canvas` subplot system.\n",
    "\n",
    "#### Pie Chart\n",
    "\n",
    "Pie charts can be created in two ways. The first way uses the `PieElement` component to compose a Piechart:"
   ]
  },
  {
   "cell_type": "code",
   "execution_count": 24,
   "metadata": {},
   "outputs": [
    {
     "data": {
      "text/html": [
       "<div id=\"grid-container_xxfZ3JMh28\" class=\"grid-container\" align=\"center\"> \n",
       "<div id=\"grid_xxfZ3JMh28\" class=\"grid\" align=\"center\"> \n",
       "<div id=\"graph_I0ZT6j47kI\" class=\"graph\"></div> \n",
       "</div> \n",
       "</div> \n",
       "<script>\n",
       "var masonry = new Macy({\n",
       "    container: '#grid_xxfZ3JMh28',\n",
       "    debug: true,\n",
       "    mobileFirst: true,\n",
       "    columns: 1,\n",
       "    margin: {\n",
       "        x: 0,\n",
       "        y: 0\n",
       "    }\n",
       "  });\n",
       "\n",
       "  var traces_I0ZT6j47kI = [{\"name\":\"umF5recG3M\",\"type\":\"pie\",\"values\":[60,20,20],\"labels\":[\"Residential\",\"Non-Residential\",\"Utility\"]}];\n",
       " var layout_I0ZT6j47kI = {\"height\":550,\"width\":600,\"hovermode\":\"closest\",\"title\":{\"text\":\"Pie Elements\"},\"showlegend\":true};\n",
       " var config_I0ZT6j47kI = {\"responsive\":true,\"scrollZoom\":true,\"displaylogo\":false};\n",
       " Plotly.newPlot(\"graph_I0ZT6j47kI\", traces_I0ZT6j47kI, layout_I0ZT6j47kI, config_I0ZT6j47kI);\n",
       "</script> \n"
      ]
     },
     "metadata": {},
     "output_type": "display_data"
    }
   ],
   "source": [
    "val a = PieElement(value=60, name=\"Residential\")\n",
    "val b = PieElement(value=20, name=\"Non-Residential\")\n",
    "val c = PieElement(value=20, name=\"Utility\")\n",
    "\n",
    "// we add a list of Pie Elements to an XY series as the list of Pie Elements gets deconstructed down into two series:\n",
    "// X => values: [60, 20, 20]\n",
    "// Y => labels: [\"Residential\", \"Non-Residential\", \"Utility\"]\n",
    "// The labels become the series_name for each individual PieElement\n",
    "// As we pass in a list of PieElements, we do not need to specify the type as a PIE\n",
    "val series = XY(x=List(a, b, c))\n",
    "\n",
    "val chart = Chart() addSeries series setTitle \"Pie Elements\"\n",
    "\n",
    "chart.plotInline"
   ]
  },
  {
   "cell_type": "code",
   "execution_count": 25,
   "metadata": {},
   "outputs": [
    {
     "data": {
      "text/html": [
       "<div id=\"grid-container_PYSF4gJ45x\" class=\"grid-container\" align=\"center\"> \n",
       "<div id=\"grid_PYSF4gJ45x\" class=\"grid\" align=\"center\"> \n",
       "<div id=\"graph_bQfAU6TGVi\" class=\"graph\"></div> \n",
       "</div> \n",
       "</div> \n",
       "<script>\n",
       "var masonry = new Macy({\n",
       "    container: '#grid_PYSF4gJ45x',\n",
       "    debug: true,\n",
       "    mobileFirst: true,\n",
       "    columns: 1,\n",
       "    margin: {\n",
       "        x: 0,\n",
       "        y: 0\n",
       "    }\n",
       "  });\n",
       "\n",
       "  var traces_bQfAU6TGVi = [{\"name\":\"Nc2VamXBXS\",\"type\":\"pie\",\"values\":[60,20,20],\"labels\":[\"Residential\",\"Non-Residential\",\"Utility\"]}];\n",
       " var layout_bQfAU6TGVi = {\"height\":550,\"width\":600,\"hovermode\":\"closest\",\"title\":{\"text\":\"Pie Chart\"},\"showlegend\":true};\n",
       " var config_bQfAU6TGVi = {\"responsive\":false,\"scrollZoom\":false,\"displaylogo\":false};\n",
       " Plotly.newPlot(\"graph_bQfAU6TGVi\", traces_bQfAU6TGVi, layout_bQfAU6TGVi, config_bQfAU6TGVi);\n",
       "</script> \n"
      ]
     },
     "metadata": {},
     "output_type": "display_data"
    }
   ],
   "source": [
    "// However, composing individual PieElements may be tedious if there is a lot of data and we know how to it all fits\n",
    "// together. Picta provides a short hand to quickly create a Pie Chart using the methods we have seen previously\n",
    "// In this case we pass the (value, name) pairs as two seperate lists. As before, the labels become an individual\n",
    "// series name for each point; which is why the legend renders correctly.\n",
    "val series = XY(x=List(60, 20, 20), y=List(\"Residential\", \"Non-Residential\", \"Utility\")) asType PIE\n",
    "\n",
    "val chart = Chart() addSeries series setConfig(false, false) setTitle \"Pie Chart\"\n",
    "\n",
    "chart.plotInline"
   ]
  },
  {
   "cell_type": "markdown",
   "metadata": {},
   "source": [
    "### Histogram"
   ]
  },
  {
   "cell_type": "code",
   "execution_count": 26,
   "metadata": {},
   "outputs": [
    {
     "data": {
      "text/html": [
       "<div id=\"grid-container_QJPF58sm6K\" class=\"grid-container\" align=\"center\"> \n",
       "<div id=\"grid_QJPF58sm6K\" class=\"grid\" align=\"center\"> \n",
       "<div id=\"graph_yt41Mm71Do\" class=\"graph\"></div> \n",
       "</div> \n",
       "</div> \n",
       "<script>\n",
       "var masonry = new Macy({\n",
       "    container: '#grid_QJPF58sm6K',\n",
       "    debug: true,\n",
       "    mobileFirst: true,\n",
       "    columns: 1,\n",
       "    margin: {\n",
       "        x: 0,\n",
       "        y: 0\n",
       "    }\n",
       "  });\n",
       "\n",
       "  var traces_yt41Mm71Do = [{\"name\":\"eMuzsmV7D3\",\"type\":\"histogram\",\"x\":[0,0.3444789888784522,0.2026214309828971,0.31412117235481374,0.7047324542004483,0.8281548590371224,4.375285634331407,2.020449357958172,6.633199822357609,0.9328553535046797,3.041595700138029,0.08503985796495062,4.739057983822313,11.3142749730644,9.920746628729114,13.473315204592161,9.953748886291375,2.971868947206685,6.817174518398452,3.72672411649547,6.230406042212156,14.366085441447582,9.184221688055107,9.188262216811395,8.885055303655578,0.35586845841087955,17.15763145883886,1.9708609520024867,0.32505567867200247,28.90904922638694,11.476945408963303,3.135418903298244,14.478359536034525,30.993315342255443,19.7275280504752,17.385106106602564,5.105340661203277,36.09257501228591,4.620107373643329,3.1294204370482595,35.937622921429195,36.66264851678743,26.82845564789561,41.27542529189671,14.4955788052674,0.7914146323264543,32.479054495117715,35.81447590188495,26.737916202926314,39.61172805652758,35.97937308968841,50.44077525027808,30.643080177902398,46.880663833133944,48.73369149962662,39.31304862412365,35.66297517613356,1.8359097294805549,1.6772323392425348,3.9026834128592687,17.97492516377698,38.219426896085245,48.71074432340154,36.91073035395963,52.837614000515366,38.469815448449076,11.288559815162564,41.732284652534204,39.38119100062364,45.778205849880436,67.85359330808551,25.149832736388362,32.08068466712877,18.227852808933214,9.77270431328175,68.09737841396233,11.225305082293332,48.845070128868336,66.1553403388021,25.704289040284173,28.154259078845804,49.32855247996099,15.687400414799152,64.65205534615977,0.13222921471674987,74.74566522127587,42.63080345023974,47.408404143879665,46.73471941179183,66.83775924537782,2.677357649224917,65.39146411046104,44.75512732165386,62.01212024474924,10.653116507952534,52.812022603768725,58.181438317734155,13.865770138263844,54.39655800563576,62.09425734184521]}];\n",
       " var layout_yt41Mm71Do = {\"height\":550,\"width\":600,\"hovermode\":\"closest\",\"title\":{\"text\":\"Histogram with axes\"},\"showlegend\":true,\"xaxis\":{\"title\":{\"text\":\"x\"},\"showgrid\":true,\"zeroline\":false,\"showline\":false},\"yaxis\":{\"title\":{\"text\":\"y\"},\"showgrid\":true,\"zeroline\":false,\"showline\":false}};\n",
       " var config_yt41Mm71Do = {\"responsive\":true,\"scrollZoom\":true,\"displaylogo\":false};\n",
       " Plotly.newPlot(\"graph_yt41Mm71Do\", traces_yt41Mm71Do, layout_yt41Mm71Do, config_yt41Mm71Do);\n",
       "</script> \n"
      ]
     },
     "metadata": {},
     "output_type": "display_data"
    }
   ],
   "source": [
    "val series = XY(x=x) asType HISTOGRAM\n",
    "\n",
    "val xaxis = Axis(X, title = \"x\")\n",
    "val yaxis = Axis(Y, title = \"y\")\n",
    "\n",
    "val chart = (\n",
    "    Chart() \n",
    "    addSeries series\n",
    "    setTitle \"Histogram with axes\"\n",
    "    addAxes(xaxis, yaxis)\n",
    ")\n",
    "\n",
    "Canvas()\n",
    ".addCharts(chart)\n",
    ".plotInline"
   ]
  },
  {
   "cell_type": "markdown",
   "metadata": {},
   "source": [
    "#### Customizing colors for a Histogram\n",
    "\n",
    "We can use the `HistOptions` class to further specify options for a histogram. For example, if we wanted to create a horizontally positioned histogram, we can do the following:"
   ]
  },
  {
   "cell_type": "code",
   "execution_count": 27,
   "metadata": {},
   "outputs": [],
   "source": [
    "import org.carbonateresearch.picta.options.histogram.HistOptions\n",
    "import org.carbonateresearch.picta.options.Line"
   ]
  },
  {
   "cell_type": "code",
   "execution_count": 28,
   "metadata": {},
   "outputs": [
    {
     "data": {
      "text/html": [
       "<div id=\"grid-container_Hg025GReTj\" class=\"grid-container\" align=\"center\"> \n",
       "<div id=\"grid_Hg025GReTj\" class=\"grid\" align=\"center\"> \n",
       "<div id=\"graph_mBsCFJCpy3\" class=\"graph\"></div> \n",
       "</div> \n",
       "</div> \n",
       "<script>\n",
       "var masonry = new Macy({\n",
       "    container: '#grid_Hg025GReTj',\n",
       "    debug: true,\n",
       "    mobileFirst: true,\n",
       "    columns: 1,\n",
       "    margin: {\n",
       "        x: 0,\n",
       "        y: 0\n",
       "    }\n",
       "  });\n",
       "\n",
       "  var traces_mBsCFJCpy3 = [{\"name\":\"JPWRymyU7c\",\"type\":\"histogram\",\"marker\":{\"color\":\"rgba(255.0, 100.0, 102.0, 0.5)\",\"line\":{\"width\":0.5}},\"y\":[0,0.3444789888784522,0.2026214309828971,0.31412117235481374,0.7047324542004483,0.8281548590371224,4.375285634331407,2.020449357958172,6.633199822357609,0.9328553535046797,3.041595700138029,0.08503985796495062,4.739057983822313,11.3142749730644,9.920746628729114,13.473315204592161,9.953748886291375,2.971868947206685,6.817174518398452,3.72672411649547,6.230406042212156,14.366085441447582,9.184221688055107,9.188262216811395,8.885055303655578,0.35586845841087955,17.15763145883886,1.9708609520024867,0.32505567867200247,28.90904922638694,11.476945408963303,3.135418903298244,14.478359536034525,30.993315342255443,19.7275280504752,17.385106106602564,5.105340661203277,36.09257501228591,4.620107373643329,3.1294204370482595,35.937622921429195,36.66264851678743,26.82845564789561,41.27542529189671,14.4955788052674,0.7914146323264543,32.479054495117715,35.81447590188495,26.737916202926314,39.61172805652758,35.97937308968841,50.44077525027808,30.643080177902398,46.880663833133944,48.73369149962662,39.31304862412365,35.66297517613356,1.8359097294805549,1.6772323392425348,3.9026834128592687,17.97492516377698,38.219426896085245,48.71074432340154,36.91073035395963,52.837614000515366,38.469815448449076,11.288559815162564,41.732284652534204,39.38119100062364,45.778205849880436,67.85359330808551,25.149832736388362,32.08068466712877,18.227852808933214,9.77270431328175,68.09737841396233,11.225305082293332,48.845070128868336,66.1553403388021,25.704289040284173,28.154259078845804,49.32855247996099,15.687400414799152,64.65205534615977,0.13222921471674987,74.74566522127587,42.63080345023974,47.408404143879665,46.73471941179183,66.83775924537782,2.677357649224917,65.39146411046104,44.75512732165386,62.01212024474924,10.653116507952534,52.812022603768725,58.181438317734155,13.865770138263844,54.39655800563576,62.09425734184521]}];\n",
       " var layout_mBsCFJCpy3 = {\"height\":550,\"width\":600,\"hovermode\":\"closest\",\"title\":{\"text\":\"XY.Histogram.Color\"},\"showlegend\":true};\n",
       " var config_mBsCFJCpy3 = {\"responsive\":true,\"scrollZoom\":true,\"displaylogo\":false};\n",
       " Plotly.newPlot(\"graph_mBsCFJCpy3\", traces_mBsCFJCpy3, layout_mBsCFJCpy3, config_mBsCFJCpy3);\n",
       "</script> \n"
      ]
     },
     "metadata": {},
     "output_type": "display_data"
    }
   ],
   "source": [
    "// we can also compose customizations in much the same way:\n",
    "val marker = Marker() setColor RGBA(255, 100, 102, 0.5) setLine Line()\n",
    "\n",
    "// change xkey to y to get a horizontal histogram\n",
    "val series = (\n",
    "    XY(x) \n",
    "    asType HISTOGRAM\n",
    "    setMarker marker\n",
    "    // we can set histogram specific options using the setHistOptions method\n",
    "    setHistOptions(orientation = HORIZONTAL)\n",
    ")\n",
    "\n",
    "val chart = (\n",
    "    Chart() \n",
    "    addSeries series \n",
    "    setTitle \"XY.Histogram.Color\"\n",
    ")\n",
    "\n",
    "chart.plotInline"
   ]
  },
  {
   "cell_type": "markdown",
   "metadata": {},
   "source": [
    "#### Cumulative Histogram\n",
    "\n",
    "Sometimes a cumulative histogram may be desired. We can do this as follows:"
   ]
  },
  {
   "cell_type": "code",
   "execution_count": 29,
   "metadata": {},
   "outputs": [],
   "source": [
    "// we can import a range of histnorms\n",
    "import org.carbonateresearch.picta.options.histogram.{Cumulative, PERCENT, DENSITY, PROBABILITY_DENSITY, NUMBER}"
   ]
  },
  {
   "cell_type": "code",
   "execution_count": 30,
   "metadata": {},
   "outputs": [
    {
     "data": {
      "text/html": [
       "<div id=\"grid-container_NbTNzGS4fv\" class=\"grid-container\" align=\"center\"> \n",
       "<div id=\"grid_NbTNzGS4fv\" class=\"grid\" align=\"center\"> \n",
       "<div id=\"graph_0UyDvb3fXw\" class=\"graph\"></div> \n",
       "</div> \n",
       "</div> \n",
       "<script>\n",
       "var masonry = new Macy({\n",
       "    container: '#grid_NbTNzGS4fv',\n",
       "    debug: true,\n",
       "    mobileFirst: true,\n",
       "    columns: 1,\n",
       "    margin: {\n",
       "        x: 0,\n",
       "        y: 0\n",
       "    }\n",
       "  });\n",
       "\n",
       "  var traces_0UyDvb3fXw = [{\"name\":\"16aysey6cP\",\"type\":\"histogram\",\"cumulative\":{\"enabled\":true},\"histnorm\":\"\",\"x\":[0,0.3444789888784522,0.2026214309828971,0.31412117235481374,0.7047324542004483,0.8281548590371224,4.375285634331407,2.020449357958172,6.633199822357609,0.9328553535046797,3.041595700138029,0.08503985796495062,4.739057983822313,11.3142749730644,9.920746628729114,13.473315204592161,9.953748886291375,2.971868947206685,6.817174518398452,3.72672411649547,6.230406042212156,14.366085441447582,9.184221688055107,9.188262216811395,8.885055303655578,0.35586845841087955,17.15763145883886,1.9708609520024867,0.32505567867200247,28.90904922638694,11.476945408963303,3.135418903298244,14.478359536034525,30.993315342255443,19.7275280504752,17.385106106602564,5.105340661203277,36.09257501228591,4.620107373643329,3.1294204370482595,35.937622921429195,36.66264851678743,26.82845564789561,41.27542529189671,14.4955788052674,0.7914146323264543,32.479054495117715,35.81447590188495,26.737916202926314,39.61172805652758,35.97937308968841,50.44077525027808,30.643080177902398,46.880663833133944,48.73369149962662,39.31304862412365,35.66297517613356,1.8359097294805549,1.6772323392425348,3.9026834128592687,17.97492516377698,38.219426896085245,48.71074432340154,36.91073035395963,52.837614000515366,38.469815448449076,11.288559815162564,41.732284652534204,39.38119100062364,45.778205849880436,67.85359330808551,25.149832736388362,32.08068466712877,18.227852808933214,9.77270431328175,68.09737841396233,11.225305082293332,48.845070128868336,66.1553403388021,25.704289040284173,28.154259078845804,49.32855247996099,15.687400414799152,64.65205534615977,0.13222921471674987,74.74566522127587,42.63080345023974,47.408404143879665,46.73471941179183,66.83775924537782,2.677357649224917,65.39146411046104,44.75512732165386,62.01212024474924,10.653116507952534,52.812022603768725,58.181438317734155,13.865770138263844,54.39655800563576,62.09425734184521]}];\n",
       " var layout_0UyDvb3fXw = {\"height\":550,\"width\":600,\"hovermode\":\"closest\",\"title\":{\"text\":\"Histogram - Cumulative\"},\"showlegend\":true};\n",
       " var config_0UyDvb3fXw = {\"responsive\":true,\"scrollZoom\":true,\"displaylogo\":false};\n",
       " Plotly.newPlot(\"graph_0UyDvb3fXw\", traces_0UyDvb3fXw, layout_0UyDvb3fXw, config_0UyDvb3fXw);\n",
       "</script> \n"
      ]
     },
     "metadata": {},
     "output_type": "display_data"
    }
   ],
   "source": [
    "val series = XY(x) asType HISTOGRAM setHistOptions(histnorm = NUMBER, cumulative = Cumulative(enabled=true))\n",
    "\n",
    "val chart = Chart() addSeries series setTitle \"Histogram - Cumulative\"\n",
    "\n",
    "chart.plotInline"
   ]
  },
  {
   "cell_type": "markdown",
   "metadata": {},
   "source": [
    "#### Specifiying the Binning Function\n",
    "\n",
    "We can also specify the binning function for a histogram."
   ]
  },
  {
   "cell_type": "code",
   "execution_count": 31,
   "metadata": {},
   "outputs": [],
   "source": [
    "import org.carbonateresearch.picta.options.histogram.{COUNT, SUM, AVG, MIN, MAX, HistOptions}"
   ]
  },
  {
   "cell_type": "code",
   "execution_count": 32,
   "metadata": {},
   "outputs": [
    {
     "data": {
      "text/html": [
       "<div id=\"grid-container_OQRUAvLJDs\" class=\"grid-container\" align=\"center\"> \n",
       "<div id=\"grid_OQRUAvLJDs\" class=\"grid\" align=\"center\"> \n",
       "<div id=\"graph_kgaykdVSzT\" class=\"graph\"></div> \n",
       "</div> \n",
       "</div> \n",
       "<script>\n",
       "var masonry = new Macy({\n",
       "    container: '#grid_OQRUAvLJDs',\n",
       "    debug: true,\n",
       "    mobileFirst: true,\n",
       "    columns: 1,\n",
       "    margin: {\n",
       "        x: 0,\n",
       "        y: 0\n",
       "    }\n",
       "  });\n",
       "\n",
       "  var traces_kgaykdVSzT = [{\"name\":\"WJkiZ798SJ\",\"type\":\"histogram\",\"histfunc\":\"count\",\"x\":[\"Apples\",\"Apples\",\"Apples\",\"Oranges\",\"Bananas\"],\"y\":[\"5\",\"10\",\"3\",\"10\",\"5\"]},{\"name\":\"7QooXhE7IT\",\"type\":\"histogram\",\"histfunc\":\"sum\",\"x\":[\"Apples\",\"Apples\",\"Apples\",\"Oranges\",\"Bananas\"],\"y\":[\"5\",\"10\",\"3\",\"10\",\"5\"]}];\n",
       " var layout_kgaykdVSzT = {\"height\":550,\"width\":600,\"hovermode\":\"closest\",\"title\":{\"text\":\"Histogram - Specify Binning Function\"},\"showlegend\":true};\n",
       " var config_kgaykdVSzT = {\"responsive\":true,\"scrollZoom\":true,\"displaylogo\":false};\n",
       " Plotly.newPlot(\"graph_kgaykdVSzT\", traces_kgaykdVSzT, layout_kgaykdVSzT, config_kgaykdVSzT);\n",
       "</script> \n"
      ]
     },
     "metadata": {},
     "output_type": "display_data"
    }
   ],
   "source": [
    "val x = List(\"Apples\", \"Apples\", \"Apples\", \"Oranges\", \"Bananas\")\n",
    "val y = List(\"5\", \"10\", \"3\", \"10\", \"5\")\n",
    "\n",
    "// we can also assign histOptions to a value and pass them to the setHistOptions method\n",
    "val ho1 = HistOptions(histfunc = COUNT)\n",
    "val ho2 = HistOptions(histfunc = SUM)\n",
    "    \n",
    "val t1 = XY(x = x, y = y) asType HISTOGRAM setHistOptions ho1\n",
    "val t2 = XY(x = x, y = y) asType HISTOGRAM setHistOptions ho2\n",
    "\n",
    "val chart = Chart() addSeries(t1, t2) setTitle \"Histogram - Specify Binning Function\"\n",
    "val canvas = Canvas() addCharts chart\n",
    "canvas.plotInline"
   ]
  },
  {
   "cell_type": "markdown",
   "metadata": {},
   "source": [
    "### 2D Histogram Contour"
   ]
  },
  {
   "cell_type": "code",
   "execution_count": 33,
   "metadata": {},
   "outputs": [
    {
     "data": {
      "text/html": [
       "<div id=\"grid-container_CESLqh4VTW\" class=\"grid-container\" align=\"center\"> \n",
       "<div id=\"grid_CESLqh4VTW\" class=\"grid\" align=\"center\"> \n",
       "<div id=\"graph_lmq7rfdzo0\" class=\"graph\"></div> \n",
       "</div> \n",
       "</div> \n",
       "<script>\n",
       "var masonry = new Macy({\n",
       "    container: '#grid_CESLqh4VTW',\n",
       "    debug: true,\n",
       "    mobileFirst: true,\n",
       "    columns: 1,\n",
       "    margin: {\n",
       "        x: 0,\n",
       "        y: 0\n",
       "    }\n",
       "  });\n",
       "\n",
       "  var traces_lmq7rfdzo0 = [{\"name\":\"0wfU3RtTzP\",\"type\":\"histogram2dcontour\",\"mode\":\"markers\",\"x\":[1,2,3,4,5,6,7,8,9,10,11,12,13,14,15,16,17,18,19,20,21,22,23,24,25,26,27,28,29,30,31,32,33,34,35,36,37,38,39,40,41,42,43,44,45,46,47,48,49],\"y\":[83.82745799726693,30.23847701816704,56.316998969903565,31.475714167311605,99.75013770567739,21.9137160181978,82.76160926551232,54.51200357042008,55.561325305253085,26.941049294079225,12.391595147104708,83.00121558696087,30.620591278549202,46.52379916730285,46.494167340754544,96.62897342075995,68.94574105756813,64.62547474531645,40.48307686447207,37.724583858059304,80.08213392798612,108.43859223830741,47.0849716393284,46.68584948236027,39.99688155716971,75.18776619928795,40.295604996833674,48.98747405777307,62.20363791838705,123.42681922626701,115.94630000517176,108.58321101497339,108.24942644030345,64.19675903369637,121.45943278661458,70.0314804747859,46.245771113363666,90.24346071158165,114.73497198557854,134.81871108841665,46.30216149174413,49.950962159745856,90.09830325157512,56.1241521406717,122.52067346794,106.72824584721067,137.85299590859745,90.66448892404708,92.63630641034833]}];\n",
       " var layout_lmq7rfdzo0 = {\"height\":550,\"width\":600,\"hovermode\":\"closest\",\"title\":{\"text\":\"2D Histogram Contour\"},\"showlegend\":true};\n",
       " var config_lmq7rfdzo0 = {\"responsive\":true,\"scrollZoom\":true,\"displaylogo\":false};\n",
       " Plotly.newPlot(\"graph_lmq7rfdzo0\", traces_lmq7rfdzo0, layout_lmq7rfdzo0, config_lmq7rfdzo0);\n",
       "</script> \n"
      ]
     },
     "metadata": {},
     "output_type": "display_data"
    }
   ],
   "source": [
    "val x = List.range(1, 50)\n",
    "val y = x.map(x => x + scala.util.Random.nextDouble()*100)\n",
    "\n",
    "val series = XY(x, y).asType(HISTOGRAM2DCONTOUR).drawMarkers\n",
    "\n",
    "val chart = (\n",
    "    Chart() addSeries series\n",
    "    setTitle \"2D Histogram Contour\"\n",
    ")\n",
    "\n",
    "chart.plotInline"
   ]
  },
  {
   "cell_type": "markdown",
   "metadata": {},
   "source": [
    "#### Adding additional axes\n",
    "\n",
    "As the above is a density plot, adding histograms can be useful too.\n",
    "\n",
    "We can add histograms as follows:"
   ]
  },
  {
   "cell_type": "code",
   "execution_count": 34,
   "metadata": {},
   "outputs": [],
   "source": [
    "// import the 2d Density histogram options\n",
    "import org.carbonateresearch.picta.options.histogram2d.Hist2dOptions"
   ]
  },
  {
   "cell_type": "code",
   "execution_count": 35,
   "metadata": {},
   "outputs": [
    {
     "data": {
      "text/html": [
       "<div id=\"grid-container_bpwDDt1wXQ\" class=\"grid-container\" align=\"center\"> \n",
       "<div id=\"grid_bpwDDt1wXQ\" class=\"grid\" align=\"center\"> \n",
       "<div id=\"graph_2YffODO4uS\" class=\"graph\"></div> \n",
       "</div> \n",
       "</div> \n",
       "<script>\n",
       "var masonry = new Macy({\n",
       "    container: '#grid_bpwDDt1wXQ',\n",
       "    debug: true,\n",
       "    mobileFirst: true,\n",
       "    columns: 1,\n",
       "    margin: {\n",
       "        x: 0,\n",
       "        y: 0\n",
       "    }\n",
       "  });\n",
       "\n",
       "  var traces_2YffODO4uS = [{\"name\":\"points\",\"type\":\"scatter\",\"mode\":\"markers\",\"marker\":{\"color\":\"rgb(102.0, 0.0, 0.0)\"},\"x\":[1,2,3,4,5,6,7,8,9,10,11,12,13,14,15,16,17,18,19,20,21,22,23,24,25,26,27,28,29,30,31,32,33,34,35,36,37,38,39,40,41,42,43,44,45,46,47,48,49],\"y\":[83.82745799726693,30.23847701816704,56.316998969903565,31.475714167311605,99.75013770567739,21.9137160181978,82.76160926551232,54.51200357042008,55.561325305253085,26.941049294079225,12.391595147104708,83.00121558696087,30.620591278549202,46.52379916730285,46.494167340754544,96.62897342075995,68.94574105756813,64.62547474531645,40.48307686447207,37.724583858059304,80.08213392798612,108.43859223830741,47.0849716393284,46.68584948236027,39.99688155716971,75.18776619928795,40.295604996833674,48.98747405777307,62.20363791838705,123.42681922626701,115.94630000517176,108.58321101497339,108.24942644030345,64.19675903369637,121.45943278661458,70.0314804747859,46.245771113363666,90.24346071158165,114.73497198557854,134.81871108841665,46.30216149174413,49.950962159745856,90.09830325157512,56.1241521406717,122.52067346794,106.72824584721067,137.85299590859745,90.66448892404708,92.63630641034833]},{\"name\":\"density\",\"type\":\"histogram2dcontour\",\"ncontours\":20,\"reversescale\":false,\"showscale\":true,\"x\":[1,2,3,4,5,6,7,8,9,10,11,12,13,14,15,16,17,18,19,20,21,22,23,24,25,26,27,28,29,30,31,32,33,34,35,36,37,38,39,40,41,42,43,44,45,46,47,48,49],\"y\":[83.82745799726693,30.23847701816704,56.316998969903565,31.475714167311605,99.75013770567739,21.9137160181978,82.76160926551232,54.51200357042008,55.561325305253085,26.941049294079225,12.391595147104708,83.00121558696087,30.620591278549202,46.52379916730285,46.494167340754544,96.62897342075995,68.94574105756813,64.62547474531645,40.48307686447207,37.724583858059304,80.08213392798612,108.43859223830741,47.0849716393284,46.68584948236027,39.99688155716971,75.18776619928795,40.295604996833674,48.98747405777307,62.20363791838705,123.42681922626701,115.94630000517176,108.58321101497339,108.24942644030345,64.19675903369637,121.45943278661458,70.0314804747859,46.245771113363666,90.24346071158165,114.73497198557854,134.81871108841665,46.30216149174413,49.950962159745856,90.09830325157512,56.1241521406717,122.52067346794,106.72824584721067,137.85299590859745,90.66448892404708,92.63630641034833]},{\"name\":\"histogram\",\"type\":\"histogram\",\"yaxis\":\"y2\",\"x\":[1,2,3,4,5,6,7,8,9,10,11,12,13,14,15,16,17,18,19,20,21,22,23,24,25,26,27,28,29,30,31,32,33,34,35,36,37,38,39,40,41,42,43,44,45,46,47,48,49]},{\"name\":\"y density\",\"type\":\"histogram\",\"xaxis\":\"x2\",\"marker\":{\"color\":\"rgb(102.0, 0.0, 0.0)\"},\"y\":[83.82745799726693,30.23847701816704,56.316998969903565,31.475714167311605,99.75013770567739,21.9137160181978,82.76160926551232,54.51200357042008,55.561325305253085,26.941049294079225,12.391595147104708,83.00121558696087,30.620591278549202,46.52379916730285,46.494167340754544,96.62897342075995,68.94574105756813,64.62547474531645,40.48307686447207,37.724583858059304,80.08213392798612,108.43859223830741,47.0849716393284,46.68584948236027,39.99688155716971,75.18776619928795,40.295604996833674,48.98747405777307,62.20363791838705,123.42681922626701,115.94630000517176,108.58321101497339,108.24942644030345,64.19675903369637,121.45943278661458,70.0314804747859,46.245771113363666,90.24346071158165,114.73497198557854,134.81871108841665,46.30216149174413,49.950962159745856,90.09830325157512,56.1241521406717,122.52067346794,106.72824584721067,137.85299590859745,90.66448892404708,92.63630641034833]}];\n",
       " var layout_2YffODO4uS = {\"height\":550,\"width\":600,\"hovermode\":\"closest\",\"title\":{\"text\":\"XY.Histogram2dContour.WithDensity\"},\"showlegend\":false,\"autosize\":false,\"xaxis\":{\"showgrid\":false,\"zeroline\":false,\"showline\":false,\"domain\":[0,0.85]},\"yaxis\":{\"showgrid\":false,\"zeroline\":false,\"showline\":false,\"domain\":[0,0.85]},\"xaxis2\":{\"showgrid\":false,\"zeroline\":false,\"showline\":false,\"domain\":[0.85,1]},\"yaxis2\":{\"showgrid\":false,\"zeroline\":false,\"showline\":false,\"domain\":[0.85,1]}};\n",
       " var config_2YffODO4uS = {\"responsive\":true,\"scrollZoom\":true,\"displaylogo\":false};\n",
       " Plotly.newPlot(\"graph_2YffODO4uS\", traces_2YffODO4uS, layout_2YffODO4uS, config_2YffODO4uS);\n",
       "</script> \n"
      ]
     },
     "metadata": {},
     "output_type": "display_data"
    }
   ],
   "source": [
    "val ax1 = Axis(X, showgrid = false) setDomain(0.0, 0.85)\n",
    "val ax2 = Axis(Y, showgrid = false) setDomain(0.0, 0.85)\n",
    "val ax3 = Axis(X, position = 2, showgrid = false) setDomain(0.85, 1.0)\n",
    "val ax4 = Axis(Y, position = 2, showgrid = false) setDomain(0.85, 1.0)\n",
    "\n",
    "val marker = Marker() setColor RGB(102,0,0)\n",
    "val series1 = XY(x, y) asType SCATTER drawStyle MARKERS setName \"points\" setMarker marker\n",
    "\n",
    "val series2 = (\n",
    "  XY(x, y)\n",
    "    setName \"density\"\n",
    "    asType HISTOGRAM2DCONTOUR\n",
    "    setHist2dOptions(ncontours = 20, reversescale = false, showscale = true)\n",
    "  )\n",
    "\n",
    "val series3 = XY(x = x) asType HISTOGRAM setName \"histogram\" setAxes(ax1, ax4)\n",
    "val series4 = (XY(y) setName \"y density\" asType HISTOGRAM setAxis ax3 setMarker marker\n",
    "  setHistOptions (orientation = HORIZONTAL))\n",
    "\n",
    "val layout = (ChartLayout(\"XY.Histogram2dContour.WithDensity\", auto_size = false) setAxes(ax1, ax2, ax3, ax4))\n",
    "\n",
    "val chart = Chart() addSeries(series1, series2, series3, series4) setChartLayout layout showLegend false\n",
    "\n",
    "chart.plotInline"
   ]
  },
  {
   "cell_type": "markdown",
   "metadata": {},
   "source": [
    "### 3D Charts\n",
    "\n",
    "3D charts are constructed using a `XYZ` series as they take in 3 `Series`' to create a single point.\n",
    "\n",
    "The Picta API does not accept nested lists, however the underlying Plotlyjs render does. In order to render any series that will make use of a nested list, we must flatten and provide the length of an element (before the list was flattened).\n",
    "\n",
    "The following examples will make it clearer.\n",
    "\n",
    "#### Contour"
   ]
  },
  {
   "cell_type": "code",
   "execution_count": 36,
   "metadata": {},
   "outputs": [],
   "source": [
    "// lets create some dummy adata for the third dimension\n",
    "val x = List(-9, -6, -5 , -3, -1)\n",
    "val y = List(0, 1, 4, 5, 7)\n",
    "val z = List(\n",
    "    List(10, 10.625, 12.5, 15.625, 20),\n",
    "    List(5.625, 6.25, 8.125, 11.25, 15.625),\n",
    "    List(2.5, 3.125, 5.0, 8.125, 12.5),\n",
    "    List(0.625, 1.25, 3.125, 6.25, 10.625),\n",
    "    List(0, 0.625, 2.5, 5.625, 10)\n",
    ")"
   ]
  },
  {
   "cell_type": "code",
   "execution_count": 37,
   "metadata": {},
   "outputs": [
    {
     "data": {
      "text/html": [
       "<div id=\"grid-container_xBXS14lfmO\" class=\"grid-container\" align=\"center\"> \n",
       "<div id=\"grid_xBXS14lfmO\" class=\"grid\" align=\"center\"> \n",
       "<div id=\"graph_Th2SGOLOMH\" class=\"graph\"></div> \n",
       "</div> \n",
       "</div> \n",
       "<script>\n",
       "var masonry = new Macy({\n",
       "    container: '#grid_xBXS14lfmO',\n",
       "    debug: true,\n",
       "    mobileFirst: true,\n",
       "    columns: 1,\n",
       "    margin: {\n",
       "        x: 0,\n",
       "        y: 0\n",
       "    }\n",
       "  });\n",
       "\n",
       "  var traces_Th2SGOLOMH = [{\"name\":\"anAc21hoTM\",\"type\":\"contour\",\"x\":[-9,-6,-5,-3,-1],\"y\":[0,1,4,5,7],\"z\":[[10,10.625,12.5,15.625,20],[5.625,6.25,8.125,11.25,15.625],[2.5,3.125,5,8.125,12.5],[0.625,1.25,3.125,6.25,10.625],[0,0.625,2.5,5.625,10]]}];\n",
       " var layout_Th2SGOLOMH = {\"height\":550,\"width\":600,\"hovermode\":\"closest\",\"title\":{\"text\":\"Contour\"},\"showlegend\":true};\n",
       " var config_Th2SGOLOMH = {\"responsive\":true,\"scrollZoom\":true,\"displaylogo\":false};\n",
       " Plotly.newPlot(\"graph_Th2SGOLOMH\", traces_Th2SGOLOMH, layout_Th2SGOLOMH, config_Th2SGOLOMH);\n",
       "</script> \n"
      ]
     },
     "metadata": {},
     "output_type": "display_data"
    }
   ],
   "source": [
    "// we flatten the nested list as we pass it into the Series constructor\n",
    "val series = XYZ(x=x, y=y, z=z.flatten, n=z(0).length).asType(CONTOUR)\n",
    "\n",
    "// set up the chart\n",
    "val chart = Chart()\n",
    "            .addSeries(series)\n",
    "            .setTitle(\"Contour\")\n",
    "\n",
    "// plot the chart\n",
    "chart.plotInline"
   ]
  },
  {
   "cell_type": "markdown",
   "metadata": {},
   "source": [
    "#### Heatmap"
   ]
  },
  {
   "cell_type": "code",
   "execution_count": 38,
   "metadata": {
    "scrolled": false
   },
   "outputs": [],
   "source": [
    "// create a new nested list for the heatmap\n",
    "val z = List.range(1, 101).map(e => e + scala.util.Random.nextDouble()*100).grouped(10).toList"
   ]
  },
  {
   "cell_type": "code",
   "execution_count": 39,
   "metadata": {},
   "outputs": [
    {
     "data": {
      "text/html": [
       "<div id=\"grid-container_Szo1oVvdhw\" class=\"grid-container\" align=\"center\"> \n",
       "<div id=\"grid_Szo1oVvdhw\" class=\"grid\" align=\"center\"> \n",
       "<div id=\"graph_fpf8sOXCsx\" class=\"graph\"></div> \n",
       "</div> \n",
       "</div> \n",
       "<script>\n",
       "var masonry = new Macy({\n",
       "    container: '#grid_Szo1oVvdhw',\n",
       "    debug: true,\n",
       "    mobileFirst: true,\n",
       "    columns: 1,\n",
       "    margin: {\n",
       "        x: 0,\n",
       "        y: 0\n",
       "    }\n",
       "  });\n",
       "\n",
       "  var traces_fpf8sOXCsx = [{\"name\":\"mmAe3CZ53k\",\"type\":\"heatmap\",\"z\":[[66.72252328865737,57.85253529432052,82.36578927969478,42.48409710865792,88.93528197575455,21.931007230133808,48.30191128135574,98.61930189718083,60.35481524072234,77.23036787627352],[40.52530285245647,82.99460299529719,56.621669765196216,65.36802139000068,108.02614968995988,68.61579951627122,58.752528503524175,62.99296958463902,58.82330395522868,119.36237372195161],[72.7929808042501,50.14923913574076,92.2263737811586,62.23870009813935,123.0570333799827,87.32813297106321,86.83333165174025,94.71332244890185,55.05261658859255,105.69233880983818],[91.54447555482682,130.70158976047043,122.96185349785402,35.75572422554513,100.95569098297322,117.36024174266167,90.93941249452459,61.22839526039364,96.20095910375264,74.10077667257536],[47.51176538023144,86.78741521838167,97.6460619097003,115.09177837418247,118.0047158477305,51.2093108745872,106.79253680583511,117.00858595963248,61.196124110257315,100.60133612694482],[111.33286416877999,84.90206033713471,53.28521901497884,60.39419456573922,89.5050178559184,150.79636888753848,94.78949017697647,109.30972582969727,77.72643683199512,111.98912861266942],[124.12465259428366,63.69283313786606,158.94458238498243,79.01538351138431,85.3926836257393,126.39773659853655,88.22321242815505,156.85029975750112,77.29750822656557,140.84435661078845],[96.79061078286279,127.16365963961704,105.12742181141338,117.91149932913864,106.10796155358273,134.30256043270913,168.38785363602113,171.00922777358596,139.47315625681404,103.16697325940706],[142.93763335019946,102.97359019417132,140.25729304711345,133.25614900736335,158.3764340091564,137.35271789915834,93.07821757610174,119.90206190173308,128.9506023331361,176.2040042139908],[97.047456597462,151.0694454709386,169.38912902521497,96.69792065659055,158.6838963096472,116.09019789606563,115.85102571133393,169.62477290440103,156.16965893611717,141.31325102787588]]}];\n",
       " var layout_fpf8sOXCsx = {\"height\":550,\"width\":600,\"hovermode\":\"closest\",\"title\":{\"text\":\"Heatmap\"},\"showlegend\":true};\n",
       " var config_fpf8sOXCsx = {\"responsive\":true,\"scrollZoom\":true,\"displaylogo\":false};\n",
       " Plotly.newPlot(\"graph_fpf8sOXCsx\", traces_fpf8sOXCsx, layout_fpf8sOXCsx, config_fpf8sOXCsx);\n",
       "</script> \n"
      ]
     },
     "metadata": {},
     "output_type": "display_data"
    }
   ],
   "source": [
    "// we get the length of an element of the nested list\n",
    "val n = z(0).length\n",
    "\n",
    "// we now flatten the list and pass it into Series constructor, as well as 'n', the length of an element so that the \n",
    "// heatmap dimensions are correctly constructed\n",
    "val series = XYZ(z=z.flatten, n=n) asType HEATMAP\n",
    "\n",
    "val chart = Chart().addSeries(series).setTitle(\"Heatmap\")\n",
    "\n",
    "chart.plotInline"
   ]
  },
  {
   "cell_type": "markdown",
   "metadata": {},
   "source": [
    "#### Scatter3D"
   ]
  },
  {
   "cell_type": "code",
   "execution_count": 40,
   "metadata": {
    "scrolled": false
   },
   "outputs": [
    {
     "data": {
      "text/html": [
       "<div id=\"grid-container_RDU1s8rwOp\" class=\"grid-container\" align=\"center\"> \n",
       "<div id=\"grid_RDU1s8rwOp\" class=\"grid\" align=\"center\"> \n",
       "<div id=\"graph_rXvSRRV9KI\" class=\"graph\"></div> \n",
       "</div> \n",
       "</div> \n",
       "<script>\n",
       "var masonry = new Macy({\n",
       "    container: '#grid_RDU1s8rwOp',\n",
       "    debug: true,\n",
       "    mobileFirst: true,\n",
       "    columns: 1,\n",
       "    margin: {\n",
       "        x: 0,\n",
       "        y: 0\n",
       "    }\n",
       "  });\n",
       "\n",
       "  var traces_rXvSRRV9KI = [{\"name\":\"xVrcCC8suq\",\"type\":\"scatter3d\",\"mode\":\"markers\",\"x\":[1,2,3,4,5,6,7,8,9,10,11,12,13,14,15,16,17,18,19,20,21,22,23,24,25,26,27,28,29,30,31,32,33,34,35,36,37,38,39,40,41,42,43,44,45,46,47,48,49,50,51,52,53,54,55,56,57,58,59,60,61,62,63,64,65,66,67,68,69,70,71,72,73,74,75,76,77,78,79,80,81,82,83,84,85,86,87,88,89,90,91,92,93,94,95,96,97,98,99],\"y\":[1,2,3,4,5,6,7,8,9,10,11,12,13,14,15,16,17,18,19,20,21,22,23,24,25,26,27,28,29,30,31,32,33,34,35,36,37,38,39,40,41,42,43,44,45,46,47,48,49,50,51,52,53,54,55,56,57,58,59,60,61,62,63,64,65,66,67,68,69,70,71,72,73,74,75,76,77,78,79,80,81,82,83,84,85,86,87,88,89,90,91,92,93,94,95,96,97,98,99],\"z\":[54.37144488463179,66.79546972333364,66.88277733016608,95.94103491063564,87.38333024129145,14.08523643566076,26.01232580989659,37.10615819018966,99.98142198273064,43.78218250702395,81.83582723402901,32.03071891164837,20.8265536761969,113.32716388477019,86.40066405934516,98.3515387232724,55.37061844124842,84.3798764478206,20.69791341302342,91.58786246018103,73.32046018609802,57.84765946287673,40.18121288830969,56.66971791043205,25.502876702628395,62.87672439589701,30.138709207978827,37.91632599314852,30.062992504116345,119.25464922554053,102.11009422562746,74.18878568334986,48.1040224967852,61.13005602495281,100.529024277407,44.71079039882824,89.67723504433704,44.03731897795843,117.38453097503967,85.4457216160739,52.45674514441627,56.92133946724496,131.93324344544868,65.93791599968247,97.48444796370268,126.18927687890599,102.3575892114278,102.1705004151687,109.0463198536375,129.77330737189857,136.75339836393903,82.26168599927273,69.04198092367797,135.77042883820218,61.94359131671079,98.71594656547524,100.13525496654947,142.4323619849409,90.3529647240857,113.46606014414456,96.52422122013007,124.11070149240413,157.54232724983177,130.0864759895532,66.34504881276602,81.2193942220307,165.98852133914883,111.32807217467166,155.52466873752172,151.35874493573675,124.31019598814072,159.51882718862078,109.32313540122144,163.4521416465716,115.3773928908818,172.39449607067962,154.85729314091935,107.07871199300396,161.60638719826613,97.56793536928234,155.57316709944283,145.1421927570333,181.22941191606384,135.11518709869,96.93526799708795,119.5982767588664,145.44224783976927,179.65104084798878,111.5267500394491,187.16978112262137,153.07090766977996,150.78625172386936,141.30523351288429,174.81098397482629,136.76193109368748,134.0031874726954,164.9347543224309,163.1394909272215,102.68906861765056]}];\n",
       " var layout_rXvSRRV9KI = {\"height\":550,\"width\":600,\"hovermode\":\"closest\",\"title\":{\"text\":\"3D Scatter Chart\"},\"showlegend\":true};\n",
       " var config_rXvSRRV9KI = {\"responsive\":false,\"scrollZoom\":false,\"displaylogo\":false};\n",
       " Plotly.newPlot(\"graph_rXvSRRV9KI\", traces_rXvSRRV9KI, layout_rXvSRRV9KI, config_rXvSRRV9KI);\n",
       "</script> \n"
      ]
     },
     "metadata": {},
     "output_type": "display_data"
    }
   ],
   "source": [
    "val x = List.range(1, 100)\n",
    "val y = List.range(1, 100)\n",
    "val z = List.range(1, 100).map(e => e + scala.util.Random.nextDouble()*100)\n",
    "\n",
    "val series = XYZ(x, y, z).asType(SCATTER3D).drawStyle(MARKERS)\n",
    "val chart1 = Chart() addSeries series setTitle \"3D Scatter Chart\" setConfig(false, false)\n",
    "val canvas = Canvas() addCharts chart1\n",
    "canvas.plotInline"
   ]
  },
  {
   "cell_type": "markdown",
   "metadata": {},
   "source": [
    "#### 3D Line"
   ]
  },
  {
   "cell_type": "code",
   "execution_count": 41,
   "metadata": {},
   "outputs": [
    {
     "data": {
      "text/html": [
       "<div id=\"grid-container_gpqDWKQ6qf\" class=\"grid-container\" align=\"center\"> \n",
       "<div id=\"grid_gpqDWKQ6qf\" class=\"grid\" align=\"center\"> \n",
       "<div id=\"graph_AOTWNFc7Cf\" class=\"graph\"></div> \n",
       "</div> \n",
       "</div> \n",
       "<script>\n",
       "var masonry = new Macy({\n",
       "    container: '#grid_gpqDWKQ6qf',\n",
       "    debug: true,\n",
       "    mobileFirst: true,\n",
       "    columns: 1,\n",
       "    margin: {\n",
       "        x: 0,\n",
       "        y: 0\n",
       "    }\n",
       "  });\n",
       "\n",
       "  var traces_AOTWNFc7Cf = [{\"name\":\"dt9LzBdnXW\",\"type\":\"scatter3d\",\"mode\":\"lines\",\"x\":[1,2,3,4,5,6,7,8,9,10,11,12,13,14,15,16,17,18,19,20,21,22,23,24,25,26,27,28,29,30,31,32,33,34,35,36,37,38,39,40,41,42,43,44,45,46,47,48,49,50,51,52,53,54,55,56,57,58,59,60,61,62,63,64,65,66,67,68,69,70,71,72,73,74,75,76,77,78,79,80,81,82,83,84,85,86,87,88,89,90,91,92,93,94,95,96,97,98,99],\"y\":[1,2,3,4,5,6,7,8,9,10,11,12,13,14,15,16,17,18,19,20,21,22,23,24,25,26,27,28,29,30,31,32,33,34,35,36,37,38,39,40,41,42,43,44,45,46,47,48,49,50,51,52,53,54,55,56,57,58,59,60,61,62,63,64,65,66,67,68,69,70,71,72,73,74,75,76,77,78,79,80,81,82,83,84,85,86,87,88,89,90,91,92,93,94,95,96,97,98,99],\"z\":[65.66625823652802,87.74186945237972,42.33140092785003,22.86450858645222,33.43621688004482,50.37389527676922,27.171216981510078,27.429570681615093,50.766836577901955,64.69793596783013,66.17695094724569,19.58495039210574,86.61922305092445,69.82487820759482,113.78702509094161,23.666950570593634,30.443339303208457,19.958850044715334,39.908339403203456,46.68721402071185,115.33477362133277,40.957984331186765,58.11746640268893,78.25310970635402,99.60568768334754,60.66656912541997,54.59320264892014,39.596706795832716,122.77642203876586,70.26040542381466,67.2342499623536,75.91708334977201,91.5449721866796,76.67921576685744,111.7790077715142,109.38516385910677,131.4674040733996,74.67699061277585,89.73278829258837,108.92991354814002,60.88300867464188,101.1031871191345,141.52103958208446,87.31914845696451,105.04378768475819,133.7347399030137,127.52542706183883,106.06783325764049,70.45864766150065,62.31083393799513,129.52291766055902,54.35120571379501,142.1384687001291,90.37947202247003,65.53629201411638,69.3696484340882,149.7289715626453,123.1468718554284,102.21778964874356,82.50674181199689,72.44411612295697,158.72775350090015,130.62586377669027,108.14142149107892,117.26351969870785,128.02663883152314,143.6183264958819,140.1197977294248,110.03319659395176,121.93726418625656,116.07341984732068,84.66159118964863,84.90965437323038,103.62931755352794,142.7636472236863,137.870811061349,144.0132123705235,128.39865854622192,132.94546853402272,111.03968227747076,86.20718022401577,83.88926278223181,95.59127581835098,117.5795239015679,171.59525478013097,119.45213595695921,174.67827913125558,161.6816676710638,96.63038306500643,154.98853527528865,110.0622943243509,110.70611913392077,103.65402464949227,146.83173685834888,106.20265769244187,190.81518045746208,138.2355624208652,141.05379644370342,188.36777165073937]}];\n",
       " var layout_AOTWNFc7Cf = {\"height\":550,\"width\":600,\"hovermode\":\"closest\",\"title\":{\"text\":\"3D Line Chart\"},\"showlegend\":true};\n",
       " var config_AOTWNFc7Cf = {\"responsive\":false,\"scrollZoom\":false,\"displaylogo\":false};\n",
       " Plotly.newPlot(\"graph_AOTWNFc7Cf\", traces_AOTWNFc7Cf, layout_AOTWNFc7Cf, config_AOTWNFc7Cf);\n",
       "</script> \n"
      ]
     },
     "metadata": {},
     "output_type": "display_data"
    }
   ],
   "source": [
    "val x = List.range(1, 100)\n",
    "val y = List.range(1, 100)\n",
    "val z = List.range(1, 100).map(e => e + scala.util.Random.nextDouble()*100)\n",
    "\n",
    "val series = XYZ(x, y, z).asType(SCATTER3D).drawStyle(LINES)\n",
    "val chart1 = Chart() addSeries series setTitle \"3D Line Chart\" setConfig(false, false)\n",
    "val canvas = Canvas() addCharts chart1\n",
    "canvas.plotInline"
   ]
  },
  {
   "cell_type": "markdown",
   "metadata": {},
   "source": [
    "#### Surface Plot"
   ]
  },
  {
   "cell_type": "code",
   "execution_count": 42,
   "metadata": {
    "scrolled": false
   },
   "outputs": [
    {
     "data": {
      "text/html": [
       "<div id=\"grid-container_PRYY97X2hQ\" class=\"grid-container\" align=\"center\"> \n",
       "<div id=\"grid_PRYY97X2hQ\" class=\"grid\" align=\"center\"> \n",
       "<div id=\"graph_pjqcjk67VJ\" class=\"graph\"></div> \n",
       "</div> \n",
       "</div> \n",
       "<script>\n",
       "var masonry = new Macy({\n",
       "    container: '#grid_PRYY97X2hQ',\n",
       "    debug: true,\n",
       "    mobileFirst: true,\n",
       "    columns: 1,\n",
       "    margin: {\n",
       "        x: 0,\n",
       "        y: 0\n",
       "    }\n",
       "  });\n",
       "\n",
       "  var traces_pjqcjk67VJ = [{\"name\":\"56xlVVIob5\",\"type\":\"surface\",\"colorbar\":{\"title\":{\"text\":\"Altitude\",\"side\":\"right\"}},\"z\":[[8.83,8.89,8.81,8.87,8.9,8.87],[8.89,8.94,8.85,8.94,8.96,8.92],[8.84,8.9,8.82,8.92,8.93,8.91],[8.79,8.85,8.79,8.9,8.94,8.92],[8.79,8.88,8.81,8.9,8.95,8.92],[8.8,8.82,8.78,8.91,8.94,8.92],[8.75,8.78,8.77,8.91,8.95,8.92],[8.8,8.8,8.77,8.91,8.95,8.94],[8.74,8.81,8.76,8.93,8.98,8.99],[8.89,8.99,8.92,9.1,9.13,9.11],[8.97,8.97,8.91,9.09,9.11,9.11],[9.04,9.08,9.05,9.25,9.28,9.27],[9,9.01,9,9.2,9.23,9.2],[8.99,8.99,8.98,9.18,9.2,9.19],[8.93,8.97,8.97,9.18,9.2,9.18]]}];\n",
       " var layout_pjqcjk67VJ = {\"height\":550,\"width\":600,\"hovermode\":\"closest\",\"title\":{\"text\":\"Surface\"},\"showlegend\":true};\n",
       " var config_pjqcjk67VJ = {\"responsive\":true,\"scrollZoom\":true,\"displaylogo\":false};\n",
       " Plotly.newPlot(\"graph_pjqcjk67VJ\", traces_pjqcjk67VJ, layout_pjqcjk67VJ, config_pjqcjk67VJ);\n",
       "</script> \n"
      ]
     },
     "metadata": {},
     "output_type": "display_data"
    }
   ],
   "source": [
    "// 3d surface plot\n",
    "val k = List(\n",
    "    List(8.83,8.89,8.81,8.87,8.9,8.87),\n",
    "    List(8.89,8.94,8.85,8.94,8.96,8.92),\n",
    "    List(8.84,8.9,8.82,8.92,8.93,8.91),\n",
    "    List(8.79,8.85,8.79,8.9,8.94,8.92),\n",
    "    List(8.79,8.88,8.81,8.9,8.95,8.92),\n",
    "    List(8.8,8.82,8.78,8.91,8.94,8.92),\n",
    "    List(8.75,8.78,8.77,8.91,8.95,8.92),\n",
    "    List(8.8,8.8,8.77,8.91,8.95,8.94),\n",
    "    List(8.74,8.81,8.76,8.93,8.98,8.99),\n",
    "    List(8.89,8.99,8.92,9.1,9.13,9.11),\n",
    "    List(8.97,8.97,8.91,9.09,9.11,9.11),\n",
    "    List(9.04,9.08,9.05,9.25,9.28,9.27),\n",
    "    List(9,9.01,9,9.2,9.23,9.2),\n",
    "    List(8.99,8.99,8.98,9.18,9.2,9.19),\n",
    "    List(8.93,8.97,8.97,9.18,9.2,9.18)\n",
    "  )\n",
    "\n",
    "val series = XYZ(z=k.flatten, n = k(0).length) asType SURFACE setColorBar(\"Altitude\", RIGHT_SIDE)\n",
    "val chart2 = Chart() addSeries series setTitle \"Surface\"\n",
    "\n",
    "chart2.plotInline"
   ]
  },
  {
   "cell_type": "markdown",
   "metadata": {},
   "source": [
    "#### Third Dimension as Color"
   ]
  },
  {
   "cell_type": "code",
   "execution_count": 43,
   "metadata": {},
   "outputs": [
    {
     "data": {
      "text/html": [
       "<div id=\"grid-container_Qo21qKtOK4\" class=\"grid-container\" align=\"center\"> \n",
       "<div id=\"grid_Qo21qKtOK4\" class=\"grid\" align=\"center\"> \n",
       "<div id=\"graph_PIkVOCXDXz\" class=\"graph\"></div> \n",
       "</div> \n",
       "</div> \n",
       "<script>\n",
       "var masonry = new Macy({\n",
       "    container: '#grid_Qo21qKtOK4',\n",
       "    debug: true,\n",
       "    mobileFirst: true,\n",
       "    columns: 1,\n",
       "    margin: {\n",
       "        x: 0,\n",
       "        y: 0\n",
       "    }\n",
       "  });\n",
       "\n",
       "  var traces_PIkVOCXDXz = [{\"name\":\"sl9CplgL1X\",\"type\":\"scatter\",\"mode\":\"markers\",\"marker\":{\"color\":[65.66625823652802,87.74186945237972,42.33140092785003,22.86450858645222,33.43621688004482,50.37389527676922,27.171216981510078,27.429570681615093,50.766836577901955,64.69793596783013,66.17695094724569,19.58495039210574,86.61922305092445,69.82487820759482,113.78702509094161,23.666950570593634,30.443339303208457,19.958850044715334,39.908339403203456,46.68721402071185,115.33477362133277,40.957984331186765,58.11746640268893,78.25310970635402,99.60568768334754,60.66656912541997,54.59320264892014,39.596706795832716,122.77642203876586,70.26040542381466,67.2342499623536,75.91708334977201,91.5449721866796,76.67921576685744,111.7790077715142,109.38516385910677,131.4674040733996,74.67699061277585,89.73278829258837,108.92991354814002,60.88300867464188,101.1031871191345,141.52103958208446,87.31914845696451,105.04378768475819,133.7347399030137,127.52542706183883,106.06783325764049,70.45864766150065,62.31083393799513,129.52291766055902,54.35120571379501,142.1384687001291,90.37947202247003,65.53629201411638,69.3696484340882,149.7289715626453,123.1468718554284,102.21778964874356,82.50674181199689,72.44411612295697,158.72775350090015,130.62586377669027,108.14142149107892,117.26351969870785,128.02663883152314,143.6183264958819,140.1197977294248,110.03319659395176,121.93726418625656,116.07341984732068,84.66159118964863,84.90965437323038,103.62931755352794,142.7636472236863,137.870811061349,144.0132123705235,128.39865854622192,132.94546853402272,111.03968227747076,86.20718022401577,83.88926278223181,95.59127581835098,117.5795239015679,171.59525478013097,119.45213595695921,174.67827913125558,161.6816676710638,96.63038306500643,154.98853527528865,110.0622943243509,110.70611913392077,103.65402464949227,146.83173685834888,106.20265769244187,190.81518045746208,138.2355624208652,141.05379644370342,188.36777165073937],\"colorbar\":{\"title\":{\"text\":\"3rd Dimension\",\"side\":\"right\"}}},\"x\":[1,2,3,4,5,6,7,8,9,10,11,12,13,14,15,16,17,18,19,20,21,22,23,24,25,26,27,28,29,30,31,32,33,34,35,36,37,38,39,40,41,42,43,44,45,46,47,48,49,50,51,52,53,54,55,56,57,58,59,60,61,62,63,64,65,66,67,68,69,70,71,72,73,74,75,76,77,78,79,80,81,82,83,84,85,86,87,88,89,90,91,92,93,94,95,96,97,98,99],\"y\":[1,2,3,4,5,6,7,8,9,10,11,12,13,14,15,16,17,18,19,20,21,22,23,24,25,26,27,28,29,30,31,32,33,34,35,36,37,38,39,40,41,42,43,44,45,46,47,48,49,50,51,52,53,54,55,56,57,58,59,60,61,62,63,64,65,66,67,68,69,70,71,72,73,74,75,76,77,78,79,80,81,82,83,84,85,86,87,88,89,90,91,92,93,94,95,96,97,98,99]}];\n",
       " var layout_PIkVOCXDXz = {\"height\":550,\"width\":600,\"hovermode\":\"closest\",\"title\":{\"text\":\"Scatter With Color\"},\"showlegend\":false};\n",
       " var config_PIkVOCXDXz = {\"responsive\":true,\"scrollZoom\":true,\"displaylogo\":false};\n",
       " Plotly.newPlot(\"graph_PIkVOCXDXz\", traces_PIkVOCXDXz, layout_PIkVOCXDXz, config_PIkVOCXDXz);\n",
       "</script> \n"
      ]
     },
     "metadata": {},
     "output_type": "display_data"
    }
   ],
   "source": [
    "// multiple compositions can be used to create scatter charts with a color representing some third dimension\n",
    "val series = (\n",
    "    XY(x, y) \n",
    "    asType SCATTER \n",
    "    drawStyle MARKERS \n",
    "    setMarker marker \n",
    "    setColor z \n",
    "    setColorBar(\"3rd Dimension\", RIGHT_SIDE)\n",
    ")\n",
    "\n",
    "val chart3 = Chart() addSeries series setTitle \"Scatter With Color\" showLegend false\n",
    "chart3.plotInline"
   ]
  },
  {
   "cell_type": "markdown",
   "metadata": {},
   "source": [
    "#### Subplot\n",
    "\n",
    "The Subplot class can be used to generate subplots for an XYZ plots just as we did previously."
   ]
  },
  {
   "cell_type": "code",
   "execution_count": 44,
   "metadata": {},
   "outputs": [
    {
     "data": {
      "text/html": [
       "<div id=\"grid-container_S8qJMH91QR\" class=\"grid-container\" align=\"center\"> \n",
       "<div id=\"grid_S8qJMH91QR\" class=\"grid\" align=\"center\"> \n",
       "<div id=\"graph_ecRkeYwshD\" class=\"graph\"></div> \n",
       "<div id=\"graph_kh7QmB5324\" class=\"graph\"></div> \n",
       "<div id=\"graph_wDqfqtYAKA\" class=\"graph\"></div> \n",
       "<div id=\"graph_vuPJ5042Er\" class=\"graph\"></div> \n",
       "</div> \n",
       "</div> \n",
       "\n",
       "<div align=\"center\">\n",
       "<button id = \"saveAsPNG_S8qJMH91QR\" class=\"picta-button\">Download Canvas as PNG</button>\n",
       "</div>\n",
       "<script>\n",
       "var masonry = new Macy({\n",
       "    container: '#grid_S8qJMH91QR',\n",
       "    debug: true,\n",
       "    mobileFirst: true,\n",
       "    columns: 2,\n",
       "    margin: {\n",
       "        x: 0,\n",
       "        y: 0\n",
       "    }\n",
       "  });\n",
       "\n",
       "  var traces_ecRkeYwshD = [{\"name\":\"dt9LzBdnXW\",\"type\":\"scatter3d\",\"mode\":\"lines\",\"x\":[1,2,3,4,5,6,7,8,9,10,11,12,13,14,15,16,17,18,19,20,21,22,23,24,25,26,27,28,29,30,31,32,33,34,35,36,37,38,39,40,41,42,43,44,45,46,47,48,49,50,51,52,53,54,55,56,57,58,59,60,61,62,63,64,65,66,67,68,69,70,71,72,73,74,75,76,77,78,79,80,81,82,83,84,85,86,87,88,89,90,91,92,93,94,95,96,97,98,99],\"y\":[1,2,3,4,5,6,7,8,9,10,11,12,13,14,15,16,17,18,19,20,21,22,23,24,25,26,27,28,29,30,31,32,33,34,35,36,37,38,39,40,41,42,43,44,45,46,47,48,49,50,51,52,53,54,55,56,57,58,59,60,61,62,63,64,65,66,67,68,69,70,71,72,73,74,75,76,77,78,79,80,81,82,83,84,85,86,87,88,89,90,91,92,93,94,95,96,97,98,99],\"z\":[65.66625823652802,87.74186945237972,42.33140092785003,22.86450858645222,33.43621688004482,50.37389527676922,27.171216981510078,27.429570681615093,50.766836577901955,64.69793596783013,66.17695094724569,19.58495039210574,86.61922305092445,69.82487820759482,113.78702509094161,23.666950570593634,30.443339303208457,19.958850044715334,39.908339403203456,46.68721402071185,115.33477362133277,40.957984331186765,58.11746640268893,78.25310970635402,99.60568768334754,60.66656912541997,54.59320264892014,39.596706795832716,122.77642203876586,70.26040542381466,67.2342499623536,75.91708334977201,91.5449721866796,76.67921576685744,111.7790077715142,109.38516385910677,131.4674040733996,74.67699061277585,89.73278829258837,108.92991354814002,60.88300867464188,101.1031871191345,141.52103958208446,87.31914845696451,105.04378768475819,133.7347399030137,127.52542706183883,106.06783325764049,70.45864766150065,62.31083393799513,129.52291766055902,54.35120571379501,142.1384687001291,90.37947202247003,65.53629201411638,69.3696484340882,149.7289715626453,123.1468718554284,102.21778964874356,82.50674181199689,72.44411612295697,158.72775350090015,130.62586377669027,108.14142149107892,117.26351969870785,128.02663883152314,143.6183264958819,140.1197977294248,110.03319659395176,121.93726418625656,116.07341984732068,84.66159118964863,84.90965437323038,103.62931755352794,142.7636472236863,137.870811061349,144.0132123705235,128.39865854622192,132.94546853402272,111.03968227747076,86.20718022401577,83.88926278223181,95.59127581835098,117.5795239015679,171.59525478013097,119.45213595695921,174.67827913125558,161.6816676710638,96.63038306500643,154.98853527528865,110.0622943243509,110.70611913392077,103.65402464949227,146.83173685834888,106.20265769244187,190.81518045746208,138.2355624208652,141.05379644370342,188.36777165073937]}];\n",
       " var layout_ecRkeYwshD = {\"height\":350,\"width\":350,\"hovermode\":\"closest\",\"title\":{\"text\":\"3D Line Chart\"},\"showlegend\":true,\"margin\":{\"l\":50,\"r\":50,\"t\":50,\"b\":50}};\n",
       " var config_ecRkeYwshD = {\"responsive\":false,\"scrollZoom\":false,\"displaylogo\":false};\n",
       " Plotly.newPlot(\"graph_ecRkeYwshD\", traces_ecRkeYwshD, layout_ecRkeYwshD, config_ecRkeYwshD);\n",
       "\n",
       "  var traces_kh7QmB5324 = [{\"name\":\"56xlVVIob5\",\"type\":\"surface\",\"colorbar\":{\"title\":{\"text\":\"Altitude\",\"side\":\"right\"}},\"z\":[[8.83,8.89,8.81,8.87,8.9,8.87],[8.89,8.94,8.85,8.94,8.96,8.92],[8.84,8.9,8.82,8.92,8.93,8.91],[8.79,8.85,8.79,8.9,8.94,8.92],[8.79,8.88,8.81,8.9,8.95,8.92],[8.8,8.82,8.78,8.91,8.94,8.92],[8.75,8.78,8.77,8.91,8.95,8.92],[8.8,8.8,8.77,8.91,8.95,8.94],[8.74,8.81,8.76,8.93,8.98,8.99],[8.89,8.99,8.92,9.1,9.13,9.11],[8.97,8.97,8.91,9.09,9.11,9.11],[9.04,9.08,9.05,9.25,9.28,9.27],[9,9.01,9,9.2,9.23,9.2],[8.99,8.99,8.98,9.18,9.2,9.19],[8.93,8.97,8.97,9.18,9.2,9.18]]}];\n",
       " var layout_kh7QmB5324 = {\"height\":350,\"width\":350,\"hovermode\":\"closest\",\"title\":{\"text\":\"Surface\"},\"showlegend\":true,\"margin\":{\"l\":50,\"r\":50,\"t\":50,\"b\":50}};\n",
       " var config_kh7QmB5324 = {\"responsive\":true,\"scrollZoom\":true,\"displaylogo\":false};\n",
       " Plotly.newPlot(\"graph_kh7QmB5324\", traces_kh7QmB5324, layout_kh7QmB5324, config_kh7QmB5324);\n",
       "\n",
       "  var traces_wDqfqtYAKA = [{\"name\":\"sl9CplgL1X\",\"type\":\"scatter\",\"mode\":\"markers\",\"marker\":{\"color\":[65.66625823652802,87.74186945237972,42.33140092785003,22.86450858645222,33.43621688004482,50.37389527676922,27.171216981510078,27.429570681615093,50.766836577901955,64.69793596783013,66.17695094724569,19.58495039210574,86.61922305092445,69.82487820759482,113.78702509094161,23.666950570593634,30.443339303208457,19.958850044715334,39.908339403203456,46.68721402071185,115.33477362133277,40.957984331186765,58.11746640268893,78.25310970635402,99.60568768334754,60.66656912541997,54.59320264892014,39.596706795832716,122.77642203876586,70.26040542381466,67.2342499623536,75.91708334977201,91.5449721866796,76.67921576685744,111.7790077715142,109.38516385910677,131.4674040733996,74.67699061277585,89.73278829258837,108.92991354814002,60.88300867464188,101.1031871191345,141.52103958208446,87.31914845696451,105.04378768475819,133.7347399030137,127.52542706183883,106.06783325764049,70.45864766150065,62.31083393799513,129.52291766055902,54.35120571379501,142.1384687001291,90.37947202247003,65.53629201411638,69.3696484340882,149.7289715626453,123.1468718554284,102.21778964874356,82.50674181199689,72.44411612295697,158.72775350090015,130.62586377669027,108.14142149107892,117.26351969870785,128.02663883152314,143.6183264958819,140.1197977294248,110.03319659395176,121.93726418625656,116.07341984732068,84.66159118964863,84.90965437323038,103.62931755352794,142.7636472236863,137.870811061349,144.0132123705235,128.39865854622192,132.94546853402272,111.03968227747076,86.20718022401577,83.88926278223181,95.59127581835098,117.5795239015679,171.59525478013097,119.45213595695921,174.67827913125558,161.6816676710638,96.63038306500643,154.98853527528865,110.0622943243509,110.70611913392077,103.65402464949227,146.83173685834888,106.20265769244187,190.81518045746208,138.2355624208652,141.05379644370342,188.36777165073937],\"colorbar\":{\"title\":{\"text\":\"3rd Dimension\",\"side\":\"right\"}}},\"x\":[1,2,3,4,5,6,7,8,9,10,11,12,13,14,15,16,17,18,19,20,21,22,23,24,25,26,27,28,29,30,31,32,33,34,35,36,37,38,39,40,41,42,43,44,45,46,47,48,49,50,51,52,53,54,55,56,57,58,59,60,61,62,63,64,65,66,67,68,69,70,71,72,73,74,75,76,77,78,79,80,81,82,83,84,85,86,87,88,89,90,91,92,93,94,95,96,97,98,99],\"y\":[1,2,3,4,5,6,7,8,9,10,11,12,13,14,15,16,17,18,19,20,21,22,23,24,25,26,27,28,29,30,31,32,33,34,35,36,37,38,39,40,41,42,43,44,45,46,47,48,49,50,51,52,53,54,55,56,57,58,59,60,61,62,63,64,65,66,67,68,69,70,71,72,73,74,75,76,77,78,79,80,81,82,83,84,85,86,87,88,89,90,91,92,93,94,95,96,97,98,99]}];\n",
       " var layout_wDqfqtYAKA = {\"height\":350,\"width\":350,\"hovermode\":\"closest\",\"title\":{\"text\":\"Scatter With Color\"},\"showlegend\":false,\"margin\":{\"l\":50,\"r\":50,\"t\":50,\"b\":50}};\n",
       " var config_wDqfqtYAKA = {\"responsive\":true,\"scrollZoom\":true,\"displaylogo\":false};\n",
       " Plotly.newPlot(\"graph_wDqfqtYAKA\", traces_wDqfqtYAKA, layout_wDqfqtYAKA, config_wDqfqtYAKA);\n",
       "\n",
       "  var traces_vuPJ5042Er = [{\"name\":\"mmAe3CZ53k\",\"type\":\"heatmap\",\"z\":[[66.72252328865737,57.85253529432052,82.36578927969478,42.48409710865792,88.93528197575455,21.931007230133808,48.30191128135574,98.61930189718083,60.35481524072234,77.23036787627352],[40.52530285245647,82.99460299529719,56.621669765196216,65.36802139000068,108.02614968995988,68.61579951627122,58.752528503524175,62.99296958463902,58.82330395522868,119.36237372195161],[72.7929808042501,50.14923913574076,92.2263737811586,62.23870009813935,123.0570333799827,87.32813297106321,86.83333165174025,94.71332244890185,55.05261658859255,105.69233880983818],[91.54447555482682,130.70158976047043,122.96185349785402,35.75572422554513,100.95569098297322,117.36024174266167,90.93941249452459,61.22839526039364,96.20095910375264,74.10077667257536],[47.51176538023144,86.78741521838167,97.6460619097003,115.09177837418247,118.0047158477305,51.2093108745872,106.79253680583511,117.00858595963248,61.196124110257315,100.60133612694482],[111.33286416877999,84.90206033713471,53.28521901497884,60.39419456573922,89.5050178559184,150.79636888753848,94.78949017697647,109.30972582969727,77.72643683199512,111.98912861266942],[124.12465259428366,63.69283313786606,158.94458238498243,79.01538351138431,85.3926836257393,126.39773659853655,88.22321242815505,156.85029975750112,77.29750822656557,140.84435661078845],[96.79061078286279,127.16365963961704,105.12742181141338,117.91149932913864,106.10796155358273,134.30256043270913,168.38785363602113,171.00922777358596,139.47315625681404,103.16697325940706],[142.93763335019946,102.97359019417132,140.25729304711345,133.25614900736335,158.3764340091564,137.35271789915834,93.07821757610174,119.90206190173308,128.9506023331361,176.2040042139908],[97.047456597462,151.0694454709386,169.38912902521497,96.69792065659055,158.6838963096472,116.09019789606563,115.85102571133393,169.62477290440103,156.16965893611717,141.31325102787588]]}];\n",
       " var layout_vuPJ5042Er = {\"height\":350,\"width\":350,\"hovermode\":\"closest\",\"title\":{\"text\":\"Heatmap\"},\"showlegend\":true,\"margin\":{\"l\":50,\"r\":50,\"t\":50,\"b\":50}};\n",
       " var config_vuPJ5042Er = {\"responsive\":true,\"scrollZoom\":true,\"displaylogo\":false};\n",
       " Plotly.newPlot(\"graph_vuPJ5042Er\", traces_vuPJ5042Er, layout_vuPJ5042Er, config_vuPJ5042Er);\n",
       "\n",
       "var save_S8qJMH91QR = document.getElementById(\"saveAsPNG_S8qJMH91QR\")\n",
       "save_S8qJMH91QR.onclick = async function() {\n",
       "    const grid = document.getElementById(\"grid-container_S8qJMH91QR\")\n",
       "    const graphs = grid.getElementsByClassName(\"graph\")\n",
       "\n",
       "    const images = []\n",
       "\n",
       "    const rows = 2\n",
       "    const cols = 2\n",
       "    const img_width = 400\n",
       "    const img_height = 400\n",
       "    var margin = 50\n",
       "\n",
       "    for (var i=0; i<rows; i++) {\n",
       "      for (var j=0; j<cols; j++) {\n",
       "        const image = await Plotly.toImage(graphs[i * cols + j], {format: 'png', width: img_width, height: img_height})\n",
       "        images.push(image);\n",
       "      }\n",
       "    }\n",
       "\n",
       "    const positioned_images = []\n",
       "\n",
       "        for (var i=0; i<rows; i++) {\n",
       "            for (var j=0; j<cols; j++) {\n",
       "\n",
       "                const obj = {\n",
       "                    \"src\": images[i*cols + j],\n",
       "                    x: j*img_width+margin,\n",
       "                    y: i*img_height+margin\n",
       "                }\n",
       "\n",
       "                positioned_images.push(obj)\n",
       "            }\n",
       "        }\n",
       "\n",
       "        mergeImages(positioned_images, {\n",
       "            width: img_width*cols+60, height: img_height*rows+60\n",
       "        })\n",
       "        .then(b64 => {\n",
       "            var a = document.createElement(\"a\");\n",
       "            a.href = b64;\n",
       "            a.download = \"Image.png\";\n",
       "            a.click();\n",
       "            a.remove()\n",
       "        });\n",
       "}\n",
       "</script> \n"
      ]
     },
     "metadata": {},
     "output_type": "display_data"
    }
   ],
   "source": [
    "// it may be necessary to play around with the chart dimensions and margin  in order to ensure a good fit on screen.\n",
    "val dim = 350\n",
    "\n",
    "// The canvas has an underlying grid. By default the underlying grid is 1x1, but we can pass in the dimensions we \n",
    "// require by passing in parameters in the constructor.\n",
    "Canvas(2, 2)\n",
    ".setChart(0, 0, chart1.setDimensions(width = dim, height = dim).setMargin(l=50, r=50, t=50, b=50))\n",
    ".setChart(0, 1, chart2.setDimensions(width = dim, height = dim)setMargin(l=50, r=50, t=50, b=50))\n",
    ".setChart(1, 0, chart3.setDimensions(width = dim, height = dim)setMargin(l=50, r=50, t=50, b=50))\n",
    ".setChart(1, 1, chart.setDimensions(width = dim, height = dim)setMargin(l=50, r=50, t=50, b=50))\n",
    ".plotInline"
   ]
  },
  {
   "cell_type": "markdown",
   "metadata": {},
   "source": [
    "#### Map\n",
    "\n",
    "We can also create maps using the composition technique below."
   ]
  },
  {
   "cell_type": "code",
   "execution_count": 45,
   "metadata": {},
   "outputs": [],
   "source": [
    "import org.carbonateresearch.picta.options.{Margin, Line}\n",
    "import org.carbonateresearch.picta.Map"
   ]
  },
  {
   "cell_type": "code",
   "execution_count": 46,
   "metadata": {},
   "outputs": [
    {
     "data": {
      "text/html": [
       "<div id=\"grid-container_HBtImnZnNX\" class=\"grid-container\" align=\"center\"> \n",
       "<div id=\"grid_HBtImnZnNX\" class=\"grid\" align=\"center\"> \n",
       "<div id=\"graph_az5Jx350LG\" class=\"graph\"></div> \n",
       "</div> \n",
       "</div> \n",
       "<script>\n",
       "var masonry = new Macy({\n",
       "    container: '#grid_HBtImnZnNX',\n",
       "    debug: true,\n",
       "    mobileFirst: true,\n",
       "    columns: 1,\n",
       "    margin: {\n",
       "        x: 0,\n",
       "        y: 0\n",
       "    }\n",
       "  });\n",
       "\n",
       "  var traces_az5Jx350LG = [{\"name\":\"nxyPV4vtTi\",\"lat\":[40.7127,51.5072],\"lon\":[-74.0059,0.1275],\"type\":\"scattergeo\",\"mode\":\"lines\",\"line\":{\"width\":2,\"color\":\"red\"}}];\n",
       " var layout_az5Jx350LG = {\"height\":550,\"width\":600,\"hovermode\":\"closest\",\"title\":{\"text\":\"Map\"},\"showlegend\":false,\"geo\":{\"resolution\":50,\"showland\":true,\"showlakes\":true,\"coastlinewidth\":2,\"landcolor\":\"rgb(204.0, 204.0, 204.0)\",\"lakecolor\":\"rgb(255.0, 255.0, 255.0)\",\"lataxis\":{\"range\":[20,60],\"showgrid\":true,\"dtick\":10},\"lonaxis\":{\"range\":[-100,20],\"showgrid\":true,\"dtick\":10}}};\n",
       " var config_az5Jx350LG = {\"responsive\":false,\"scrollZoom\":false,\"displaylogo\":false};\n",
       " Plotly.newPlot(\"graph_az5Jx350LG\", traces_az5Jx350LG, layout_az5Jx350LG, config_az5Jx350LG);\n",
       "</script> \n"
      ]
     },
     "metadata": {},
     "output_type": "display_data"
    }
   ],
   "source": [
    "// draw a line on the map that is red\n",
    "val line = Line(width = 2) setColor \"red\"\n",
    "\n",
    "// construct the map Series. It is an XY chart as it takes in a List of Longitude and Latitude\n",
    "val series = Map(List(40.7127, 51.5072), List(-74.0059, 0.1275)) drawSymbol LINES drawLine line\n",
    "\n",
    "// These are options that further specify the options for the map\n",
    "val geo = MapOptions(landcolor = RGB(204, 204, 204), lakecolor = RGB(255, 255, 255))\n",
    "              .setMapAxes(LatAxis(List(20, 60)), LongAxis(List(-100, 20)))\n",
    "\n",
    "val chart = (\n",
    "    Chart()\n",
    "    addSeries series\n",
    "    setConfig(false, false)\n",
    "    setMapOptions geo\n",
    "//     setMargin(l=0, r=0, t=0, b=0)\n",
    "    showLegend false\n",
    "    setTitle \"Map\"\n",
    ")\n",
    "\n",
    "chart.plotInline"
   ]
  },
  {
   "cell_type": "markdown",
   "metadata": {},
   "source": [
    "### Animated Charts\n",
    "\n",
    "We can also create animated charts. This can be useful for tracking the evolution of a data over time.\n",
    "\n",
    "All `Series` types should be supported.\n",
    "\n",
    "#### 2D Animated Chart"
   ]
  },
  {
   "cell_type": "code",
   "execution_count": 47,
   "metadata": {},
   "outputs": [],
   "source": [
    "import org.carbonateresearch.picta.ColorOptions._\n",
    "\n",
    "def genRangeRandomInt(min: Int = 0, max: Int = 10000) = min + (max - min) * scala.util.Random.nextInt()\n",
    "def genRangeRandomDouble(min: Double = 0.0, max: Double = 10000.0) = min + (max - min) * scala.util.Random.nextDouble()\n",
    "\n",
    "// creates random XY for testing purposes\n",
    "def createXYSeries[T: Color]\n",
    "(numberToCreate: Int, count: Int = 0, length: Int = 10): List[XY[Double, Double, T, T]] = {\n",
    "    if (count == numberToCreate) Nil\n",
    "    else {\n",
    "      val xs = List.range(0, length).map(x => genRangeRandomDouble())\n",
    "      val ys = xs.map(x => genRangeRandomDouble())\n",
    "      val series = XY(x = xs, y = ys, name = \"series \" + count).drawMarkers\n",
    "      series :: createXYSeries(numberToCreate, count + 1, length)\n",
    "    }\n",
    "}\n",
    "\n",
    "def createXYZSeries(numberToCreate: Int, count: Int = 0, length: Int = 10): List[XYZ[Double, Double, Double]] = {\n",
    "    if (count == numberToCreate) Nil\n",
    "    else {\n",
    "      val xs = List.range(0, length).map(x => genRangeRandomDouble())\n",
    "      val ys = xs.map(x => genRangeRandomDouble())\n",
    "      val zs = xs.map(x => genRangeRandomDouble())\n",
    "      val series = XYZ(x = xs, y = ys, z = zs, name = \"series \" + count, `type` = SCATTER3D).drawMarkers\n",
    "      series :: createXYZSeries(numberToCreate, count + 1, length)\n",
    "    }\n",
    "}"
   ]
  },
  {
   "cell_type": "code",
   "execution_count": 48,
   "metadata": {
    "scrolled": false
   },
   "outputs": [
    {
     "data": {
      "text/html": [
       "<div id=\"grid-container_F6I3AKygPr\" class=\"grid-container\" align=\"center\"> \n",
       "<div id=\"grid_F6I3AKygPr\" class=\"grid\" align=\"center\"> \n",
       "\n",
       "<div align=\"center\">\n",
       "  <div id=\"graph_fi3hfrfcFr\" class=\"graph\"></div>\n",
       "  <div class=\"animationInterface\">\n",
       "    <button id=\"play_fi3hfrfcFr\" class=\"picta-button\">&#9658</button>\n",
       "    <button id=\"pause_fi3hfrfcFr\" class=\"picta-button\">&#9616;&#9616;</button>\n",
       "    <button id=\"prev_fi3hfrfcFr\" class=\"picta-button\"><</button>\n",
       "    <button id=\"next_fi3hfrfcFr\" class=\"picta-button\">></button>\n",
       "\n",
       "    <div id=\"sliderContainer_fi3hfrfcFr\" class=\"progressBar\"></div>\n",
       "    <div id=\"counterContainer_fi3hfrfcFr\" class=\"inline-div\">\n",
       "        <h3>Frame: </h3> <h3 id=\"value_fi3hfrfcFr\">0</h3>\n",
       "    </div>\n",
       "   </div>\n",
       "</div> \n",
       "\n",
       "</div> \n",
       "</div> \n",
       "<script>\n",
       "var masonry = new Macy({\n",
       "    container: '#grid_F6I3AKygPr',\n",
       "    debug: true,\n",
       "    mobileFirst: true,\n",
       "    columns: 1,\n",
       "    margin: {\n",
       "        x: 0,\n",
       "        y: 0\n",
       "    }\n",
       "  });\n",
       "\n",
       "var graph_fi3hfrfcFr = document.getElementById('graph_fi3hfrfcFr')\n",
       "\n",
       "var layout_fi3hfrfcFr = {\"height\":550,\"width\":600,\"hovermode\":\"closest\",\"title\":{\"text\":\"Animation XY\"},\"showlegend\":true,\"xaxis\":{\"title\":{\"text\":\"X Variable\"},\"showgrid\":true,\"zeroline\":false,\"showline\":false,\"range\":[0,10000]},\"yaxis\":{\"title\":{\"text\":\"Y Variable\"},\"showgrid\":true,\"zeroline\":false,\"showline\":false,\"range\":[0,10000]}}\n",
       "var frames_fi3hfrfcFr = [{\"name\":\"series 0 (F0)\",\"data\":[{\"name\":\"series 0 (F0)\",\"type\":\"scatter\",\"mode\":\"markers\",\"x\":[957.9124406499573,6229.618395001866,1017.2730671873476,5618.4081098167635,9646.476515153008,4691.432893631619,1391.5310587717545,5867.735784432336,9550.956536254833,1151.0227089928815,2062.0883015352597,5669.953176882564,3386.75736390735,9247.01740985838,9771.085658422888,4670.809503431865,1235.158622904361,779.973777079731,3870.699041380753,1053.0630247689244,7568.627984595757,2545.1436395887317,5024.921571621764,6158.732884700065,8924.983348724973,2354.208691864467,2507.735630333894,8495.170346317758,9465.822330828953,6620.555101492245],\"y\":[8334.067034993406,7102.065710147895,3422.204076966769,2478.3626473288255,4008.73734765789,1883.4523715943164,9260.655202346912,4563.989312164429,2289.9588286017615,7698.2264243879235,295.1474402774568,308.8312147414851,2037.747258222522,9754.655978700277,425.76892951087797,7876.045597807048,8953.953460720664,168.7995493662886,1702.3955844019522,7719.222963112038,8819.442623243373,9423.715942495406,2491.7431197405695,2149.3010933078017,2695.2811159589874,1905.7929668253892,1168.7577497296109,7266.715958541824,5478.614690210389,1696.4797158795486]}]},{\"name\":\"series 1 (F1)\",\"data\":[{\"name\":\"series 1 (F1)\",\"type\":\"scatter\",\"mode\":\"markers\",\"x\":[458.3837523049461,8148.985650475341,190.25411760737242,3362.1587798987607,1821.3260056077386,1279.6299259353316,419.8091844647955,2611.85023838865,7607.497365303314,7862.5287986242565,2465.542139361676,3381.887330067289,1093.4259662794389,7886.526489835185,6879.940054229157,1158.6621784132933,974.9713151108797,7588.292235980828,6368.328972028611,7164.991135516267,7404.276185777391,2307.1506934547438,3286.6908462876854,4412.600198067051,1239.9650325617106,2633.7980893777535,5346.159578595795,4562.688103605046,6822.166837114184,4225.525095084267],\"y\":[2555.5127623487083,4038.4745725073135,1289.0307974516013,693.7669422492854,1919.2936588820287,8898.096536657817,218.9724906878976,4565.5101624852905,8958.03489087346,603.165807473951,212.97081827893248,3478.2796681910822,6728.375723748707,9007.75746776919,3923.810267795801,7489.143978082706,3694.6985701295553,4644.550234087193,1994.2481702305824,8661.370588091102,1540.2357394198064,9699.292300978945,9383.6549804252,5938.070281703418,2804.4266833875554,5941.719938303606,642.7621781270432,6720.371725042897,6094.631608490066,8320.511963061854]}]},{\"name\":\"series 2 (F2)\",\"data\":[{\"name\":\"series 2 (F2)\",\"type\":\"scatter\",\"mode\":\"markers\",\"x\":[9838.726631033662,1538.3725575368524,3544.141853675704,4931.808929565788,6037.798570270646,9736.312620309585,1174.745983546871,7635.289341083072,4520.4589777611645,2189.1216274442536,7870.94739374931,2718.7385335155923,7233.970875869719,1725.6949630092377,2784.2523307699553,7701.505625029562,3379.864911315471,3154.953637728186,4159.778943719599,8619.193838800698,2488.9621253838636,2573.950892632483,4813.759088649922,1946.3841923131497,7854.109211618427,9982.98716808788,789.3450478409969,6691.144257350171,7770.882953934167,140.89878813924207],\"y\":[79.44661567231392,5134.526900286664,5679.101971762839,4064.3944872266748,7729.164826419149,5190.22054968945,8003.052857443531,7608.506818355727,2116.7097209159215,3423.959494528793,255.92541803605485,4160.938589563654,4760.517343554115,5399.2611511529885,7804.024650458655,5641.281718203078,2611.616671615952,9205.506735986146,7578.905550914736,9716.789025858949,7464.1135833958515,8776.339181989513,980.6580557550049,1429.5891166710628,1852.998887251084,5920.8001549320825,6233.142155350797,4275.9265975828785,4607.306604201944,3866.583945793612]}]},{\"name\":\"series 3 (F3)\",\"data\":[{\"name\":\"series 3 (F3)\",\"type\":\"scatter\",\"mode\":\"markers\",\"x\":[532.0583768569564,9186.22325359728,2087.9825867340583,554.240450441077,8469.309424816893,9825.454025657744,3063.648324183064,6923.108820799248,3422.1926655795696,9166.533975787162,6163.774735619652,3994.219902029811,2863.5393318210854,5385.120353722446,8897.608135897082,2682.3576348353595,6878.993151742296,4782.428477006209,6338.518061682595,1958.9210752166775,1570.2008089229623,5663.375376984887,5747.266050008292,4239.18373815917,5477.764892015227,9880.554852815912,644.0236859831605,1682.0021795398943,7675.386649443414,8100.263123411022],\"y\":[4137.790424272021,3466.9711082525055,766.7056914146608,754.985307313788,6683.198745476217,2053.4849882568938,658.920670359684,9117.46985875166,7858.514990217865,5928.113414430289,7692.353838798273,9964.706306266411,5244.9759896595015,7411.15187846906,472.69920724629765,2895.837951835861,6036.427841095032,6720.161940968456,4582.775062637933,1526.233737213306,8619.56369589243,7677.77170069061,3243.175981980584,8500.656973812705,2038.8825486988615,6202.954049769508,5946.300746647591,9551.6597004783,996.8228113753696,39.46036605341207]}]},{\"name\":\"series 4 (F4)\",\"data\":[{\"name\":\"series 4 (F4)\",\"type\":\"scatter\",\"mode\":\"markers\",\"x\":[4105.807318799835,3675.0470185547647,2838.3466803452184,7052.035688976138,9843.630227154572,4902.448619137189,830.5886978452193,9860.49414653302,5179.265333818516,6121.744500317973,4971.998107129233,6583.6923852659975,4091.111819494905,6929.2916015583,7551.7459515991595,1029.8834390328516,9187.237042168015,5593.603255202854,5728.9828101131925,796.8954462096812,8053.009360350771,9868.333689826753,7512.872110280452,8435.02327507826,1735.6161883035215,2613.126045389167,698.1461402019418,9077.483547372043,9280.574352234506,5964.084790314152],\"y\":[6547.260283660141,7757.7304876257995,7752.904775065016,2141.3340027767467,1309.0511638448133,1009.8850149286443,6755.730720554663,9889.328994210327,9025.13376313366,287.9826991523471,101.63474782145853,3016.291718707772,8499.093740642465,9241.699562867101,4997.18489339379,1532.3418176801474,5789.8680860900395,2950.6674779074438,868.6225624542376,6481.597528060006,1139.530274677617,4846.445317085779,5786.778719752067,6721.730591002649,5857.025935774748,6240.659285185125,8341.869105165686,9625.150659415978,353.22905224676737,4129.791301069923]}]},{\"name\":\"series 5 (F5)\",\"data\":[{\"name\":\"series 5 (F5)\",\"type\":\"scatter\",\"mode\":\"markers\",\"x\":[6773.889666241987,7959.2096870239275,9259.026834808928,5261.532038957967,5181.917916386187,2048.5121756724266,3356.9565629577346,8324.580991940256,8715.699905807556,9730.622316508094,918.2561934222111,1563.223054084455,5795.483963248239,6587.165937871129,2961.0138146894037,119.96332175803315,5611.137918889352,5465.5205062119685,7931.429486579996,5973.960133240121,3419.1647953139113,7401.997932225769,1359.0326237682348,3469.94276785183,4486.312655986948,5715.620724214879,5148.024838241653,5121.761533813282,9921.048339680825,1262.3026518175618],\"y\":[9340.746518328873,5626.660213184332,4089.247681836188,9622.440137312482,6425.595093064769,6840.826619886109,3828.0274565195527,340.630477091719,4560.547204788896,2843.7186792159687,4251.729464194131,4244.432529627929,1444.771834228026,2158.124763873466,4586.635883696603,7339.788546423598,4994.639819794719,3694.865388766233,176.08400747747942,8813.932667045372,466.77488637943634,4055.4978482486727,3565.216958134584,6272.307347253066,6219.609035155795,6453.341206591522,8404.690853346741,3494.2231447301397,1916.2390918302551,5702.586390620219]}]},{\"name\":\"series 6 (F6)\",\"data\":[{\"name\":\"series 6 (F6)\",\"type\":\"scatter\",\"mode\":\"markers\",\"x\":[4805.236985848884,4712.6860405965745,3645.209461641543,9477.214205092518,3730.049915080579,4707.035855101862,172.16988734455097,3355.8959091872966,1029.559193166647,5842.7274828367745,3334.1911525594305,6046.004156039039,8803.212775535858,1600.8001018680995,3449.8434184524585,1619.3119872162254,2915.4842451086793,1110.2778202443042,7541.975664645425,7593.91700540535,698.3892216720589,729.9503170486099,4156.459365875835,1261.3770027811777,2140.377510271034,6821.681843649006,3608.9898264007224,1784.9942695587183,1191.5454883129262,8515.606673196537],\"y\":[6603.362593523369,2284.644656509269,1207.6897287391587,488.2648808958778,7338.477663294994,4375.4970804464465,10.802227409235643,3557.9392380666486,9457.644102323839,7442.420271684435,5561.185972459098,5247.158300461693,4492.593979185546,6308.833021773846,2816.4469618419853,3370.5297835007855,2815.9340465933237,3898.2009877933933,5995.195887592192,3176.776051106308,6539.600266890065,9988.338852801631,8168.374478953751,2607.0428643561104,2283.200798977929,3223.130899919675,1868.6957124351777,827.2580443358979,9284.968905953921,1173.2334457370953]}]},{\"name\":\"series 7 (F7)\",\"data\":[{\"name\":\"series 7 (F7)\",\"type\":\"scatter\",\"mode\":\"markers\",\"x\":[238.76552700494935,2350.5190126476373,4939.36591494139,2426.778932075534,8131.03692307729,2786.191455336644,5519.212967788471,5443.0508295979225,6527.817195236926,2535.603227352545,4576.549802403003,1216.5554654531607,1667.1331179633642,1599.9238865109455,5315.251237005788,675.8677410287528,2340.3379484418565,2074.0192953677683,6089.7601081636,3181.0797565159955,4969.915150657138,4870.777606629544,108.12167130692995,9485.63848067581,6281.019877157495,3753.603943632241,1403.8341249521525,1092.8084289644712,7647.872454967281,2850.482609527728],\"y\":[9189.857006568549,8063.947526792023,3526.198675695139,3481.2145616549374,1819.4490933758468,9025.241321327938,8775.487367980679,2350.134948644189,9752.33282375847,371.4930772069314,6129.917112868535,5939.819651582704,4161.012373158498,6480.012962560334,5594.378979555186,5286.9983148481215,4110.90215685409,9124.616963222827,2122.101688068221,1230.0864156012735,609.2440913514286,2219.1848398042657,6572.966070531195,2688.4579215563344,241.62971510906073,7522.188667647593,7656.666225892254,9566.780076727298,4601.263571349416,7998.052169624899]}]},{\"name\":\"series 8 (F8)\",\"data\":[{\"name\":\"series 8 (F8)\",\"type\":\"scatter\",\"mode\":\"markers\",\"x\":[9332.464997661995,7473.439523685353,4264.935253987904,8158.158816019888,8967.35530572749,3600.282413744825,7680.995503157134,4893.772662780307,6447.031118946775,1831.6083713873688,6008.462222852111,8065.095610184172,3389.138224754301,433.54656503566844,4682.703656965767,7425.135687695454,4625.859691872063,7520.657423342088,1281.9826393276778,1334.0124952196686,1202.9685514373057,7904.79863679513,7130.467876967844,3158.780291281945,5285.05565780931,9902.000142094012,6997.148581490527,3255.80477571173,2561.7201914923858,2206.2987745399687],\"y\":[7236.416255289295,7997.175937416535,7017.089213649889,9035.178313794291,7764.907282770111,2429.6035468754517,6255.111372608061,6409.474394068458,7380.52457218225,9843.679562621164,2965.6433801755757,3651.2977561450653,5103.388507074081,9783.362793874883,9571.43231278893,1966.7374112155612,2454.794380816978,5839.978562426572,8613.67188385608,6325.806752747997,2889.0781342962546,5951.988248365116,1013.8858179308286,7760.299582173355,4954.626516682258,871.2351706073706,7992.47780840264,670.9252347775285,5184.09102955336,958.3236320831368]}]},{\"name\":\"series 9 (F9)\",\"data\":[{\"name\":\"series 9 (F9)\",\"type\":\"scatter\",\"mode\":\"markers\",\"x\":[129.3553068967479,3768.296378109459,5200.195374962271,7534.244005439054,8819.623211636395,3868.0424539070013,5072.353773551496,2642.3078684037505,1207.4113723482803,8918.53358035938,1570.6440886605988,263.9132532757871,9573.486347982449,360.3901988326674,5637.5127861193605,2783.6089824142873,107.3711520842402,5200.16873355906,8133.907962496176,8813.3841693259,4012.275872584462,5026.309373829579,6715.377004698932,2363.057583650092,5971.221097600589,2603.6384392439027,9554.980111359871,8783.10212263875,1145.3148675546076,6653.418258283048],\"y\":[3553.7104263131946,9908.182448294901,2080.216744071032,1959.1460859721476,5665.432693326838,9394.148128232793,1164.410101323985,5033.997061880021,6012.184196342222,9368.166997168762,2612.971782095983,5244.022116085969,577.0055253449491,1201.1468500934109,343.1143697193262,7501.90134123502,9435.304223179515,6463.537158428825,4562.849066843766,5429.268072406885,3722.073459937669,8940.062923696698,411.6982983065931,3231.314794815626,831.1237785824554,4955.892482265723,6572.465194379511,435.59734454272746,2703.8082598494084,7206.195099782665]}]},{\"name\":\"series 10 (F10)\",\"data\":[{\"name\":\"series 10 (F10)\",\"type\":\"scatter\",\"mode\":\"markers\",\"x\":[415.64236035370516,6117.657354703456,6488.554902120386,6782.99464730536,8943.123590485584,8269.286763829195,338.8428471988414,9157.68579498114,1565.4610941104618,9560.957676445294,9666.090975260648,2504.5236613769016,1576.9836439496842,2908.149507891643,775.2546326436926,939.8550294731511,8085.6746696004375,8972.003784861936,9484.75271887414,1003.8168649322498,9109.785523490249,3007.942197251415,2068.678706848922,7025.669855285965,9570.736137838438,321.5862669816438,4658.071842345867,9890.900667248778,4991.935751603654,7999.520146735271],\"y\":[5099.362011826346,4167.667866653545,2855.7310772901947,5553.142033018726,8191.919755194691,552.1299001831869,8775.772056915797,8647.050599374163,1212.9747133614833,4156.640010081919,3909.6592370866224,8179.117432406656,1687.0017533696125,4291.745390160524,3366.8163781186554,1637.6003642415017,3467.9860922995485,8082.390316975745,2759.1122841060865,4881.355840079839,376.82237749326885,8510.66217447461,1496.8292511621605,272.4056742604275,8872.422740528304,7291.883811435854,6950.158818058911,1435.8290215540792,2533.9366182729304,4367.804103484532]}]},{\"name\":\"series 11 (F11)\",\"data\":[{\"name\":\"series 11 (F11)\",\"type\":\"scatter\",\"mode\":\"markers\",\"x\":[3176.479444671003,5830.139716854728,1492.8180930632207,8740.091945939583,1556.2508361934313,3782.0208937727175,9377.30034044768,9869.29211388285,8385.43931854187,6672.49124140837,8818.166686230143,4928.854491611716,6239.961843182302,7557.2760612285765,4113.533631916581,4830.803330230466,1757.7205902546077,4662.363512426393,6261.69642018181,1129.0628399552616,2376.372650453531,1916.428375345367,1244.9039674114138,6658.410738625422,8520.061356381844,965.0082789608505,7183.27035309829,5081.484611325394,5745.912452821727,5957.019437937125],\"y\":[9776.849077340668,8393.217385950906,3441.175999092504,5802.4069349209485,8315.23063475544,6871.535048556408,2804.472940317594,8570.419838037744,6457.846485674176,2965.096264180044,7049.685158127267,9231.211827197545,2974.4976714333525,9173.314420472763,1038.603852634997,5039.167587773293,7684.444913629296,100.84975867696633,5878.5307670246775,2514.558470610864,6943.736608308283,558.2169881998822,6413.6039342975555,6200.834385900866,1204.2686108473865,4832.1004905239615,5993.696835848823,2158.0634892566964,4404.404146794189,7063.431429558032]}]},{\"name\":\"series 12 (F12)\",\"data\":[{\"name\":\"series 12 (F12)\",\"type\":\"scatter\",\"mode\":\"markers\",\"x\":[3422.321732934354,8498.73126896019,1249.8089912575826,9048.225569169068,1565.041351726335,1180.318074684502,3804.485920332239,9715.638497972353,5742.474312808042,5739.7701646204005,3235.814411799196,39.64809708067452,2737.0566266823425,4688.1933451046,6043.741990948592,8205.22320347918,8010.300933688165,5879.788809348912,6653.0892674501265,2476.7969741280026,9557.36949905343,9327.265384401078,9859.265847201405,3406.3106450229675,1718.3617788697247,8656.6559175138,7291.520765818978,2770.048619856631,1220.7900007879314,8677.676717676679],\"y\":[1794.1775205754084,3937.9415150252885,745.2940885640402,2391.4657776801682,2425.1374766967137,7255.962033906944,2386.729657172183,9165.743417716561,632.254338299898,4461.695883879552,4525.339135223173,778.1370025435385,5092.019584447459,8155.121036262109,827.7905062066726,3561.6224384288585,8681.321047235508,5911.080912823872,9365.452918565652,2981.7267689291193,6101.868589418797,3746.8945860328017,3167.3489098971395,1633.3518714218098,4788.204391427589,347.9928164793134,917.8108131150831,2865.7729646200014,4904.051245350532,1706.4298400291666]}]},{\"name\":\"series 13 (F13)\",\"data\":[{\"name\":\"series 13 (F13)\",\"type\":\"scatter\",\"mode\":\"markers\",\"x\":[7963.936064248427,27.573431863119335,6468.068886082561,5641.567605918818,3315.5221007574232,5668.978484169559,2948.9300238164483,7049.187434216904,7900.237864615824,5947.255010681994,1030.9440114656188,7664.731157071459,2979.3635035414313,2951.5473337463027,5675.291390905149,8628.335064918285,5334.5164057307475,1696.7201405678668,8088.257855842687,203.7627627983174,7603.346382629359,9131.487308707092,1756.6856027848078,630.3081823027557,7972.275698549659,9664.301393262427,8322.186462389498,5276.181893880747,3326.9288792907714,5431.190915603712],\"y\":[739.4904229450327,8013.853798522087,3915.974553795355,9812.92686527892,5900.633536661642,9052.276425076647,5601.6874403291395,9554.607439673593,2705.5103070922805,7337.866893587013,7850.607351694373,4248.955353935044,4420.65371835622,1075.57691058491,1760.257886247022,1915.3174569906196,6091.924874102335,6923.334452764837,2622.9597455989474,5939.569604350815,8763.128933058295,6977.596431672364,5795.358005847857,1735.8233628790697,2301.398134500494,2794.6972891471887,2972.35308995734,1149.0421117106464,7741.513337382789,7382.143804553013]}]},{\"name\":\"series 14 (F14)\",\"data\":[{\"name\":\"series 14 (F14)\",\"type\":\"scatter\",\"mode\":\"markers\",\"x\":[8356.709211654981,8838.36982346987,8235.16162432072,9345.944014615156,670.6927614538228,7664.186659237111,4927.457639803712,8194.526616535872,7473.663204875621,9447.602581101553,381.8829903201992,6176.74902648453,2829.6291718931166,3379.3049352750136,7536.126149912975,9970.9518040254,8011.349470656936,6825.381979136712,6595.134440999255,5043.966563378391,7632.644928017039,2310.943570601641,5754.018157964587,6563.440910943053,368.1581205295281,58.06284064601708,4192.271193792793,3373.7936661852395,4249.884014879757,7612.774143111439],\"y\":[7392.10751898709,5735.5699018223495,1422.3648875829886,6816.551031560281,5507.533662330922,3279.9155132602455,6193.528485848099,3660.906797125243,5247.111074744557,6944.347017361491,3235.7168890882335,8409.451695503913,4532.186866896194,7532.943060001356,9871.544123788834,1779.9503970013054,7053.700905416123,3983.5392172381644,7521.78722870988,7949.621949601845,774.5070121790543,6426.458463614598,2597.599438922251,6680.133811105996,410.46947965241884,2683.7644977666673,6386.91325322732,4954.436993503005,8972.430131069212,1984.979191775823]}]},{\"name\":\"series 15 (F15)\",\"data\":[{\"name\":\"series 15 (F15)\",\"type\":\"scatter\",\"mode\":\"markers\",\"x\":[6814.974476014937,3175.7981910833564,7562.46425950083,6364.655637313015,2351.5307827386887,2200.0863697201034,5791.674452218074,8459.152943241934,9792.273556651693,5255.573277859456,7423.100605340503,4234.414519693288,3159.7148824354394,3150.210892150752,7142.147590313839,553.4977808917174,548.7494140569494,2074.5533362677947,4718.267823685505,432.06579222054955,9384.74284768298,779.1921380023003,2245.454612646971,3331.99669952292,8267.055006873994,7938.7785226685355,8635.44055575834,3907.7225266204705,5338.4892999428575,1110.4076276886044],\"y\":[3086.314728146361,246.86378560048848,8951.237100389118,5852.34287538324,5860.605953849619,1836.177482358381,6292.466606580319,7289.766046612718,380.7039190625927,8235.78903061423,9587.776800243888,6697.433167695961,5385.8224941506605,1759.1328641152993,7518.323725842401,2514.8309395379297,9693.531783019276,1332.979327769871,1567.4982051742115,8617.617205539176,4970.219904499278,151.37867118277802,3155.6154234516853,2639.8495411411527,3838.668191975333,6739.304725328522,7626.153120534256,3674.6903544695797,1637.25523616168,7606.2361812986155]}]},{\"name\":\"series 16 (F16)\",\"data\":[{\"name\":\"series 16 (F16)\",\"type\":\"scatter\",\"mode\":\"markers\",\"x\":[5414.655036606672,1776.9965890613726,194.13123956882882,9796.864262568852,9061.493387894887,1349.394333198034,1091.0344835849594,3335.5728668971665,7122.261167211975,6714.146430275896,4065.247091496257,6813.282175320539,2484.6465955843223,956.322199179307,3434.516345864987,4179.709682138846,3118.2146838789536,8469.486172843566,1728.598649321711,7181.049318583929,7863.606054908422,7543.3170815208205,5072.406416277125,5822.524261977743,8510.233955828398,1803.2822252721714,9289.570587631779,8737.2208167019,2116.645666017687,8345.684621686265],\"y\":[9181.557127015845,6407.069556021628,4295.284772741671,6007.113050055046,5986.305812285466,2808.7817338608133,5013.477040163515,9365.523026468845,9631.685088251974,5247.0167283554965,3355.0348853486935,2790.878610988933,3072.887530691717,7888.994979136186,6641.955255479846,4146.492407343546,5739.218540950408,1829.2356621010242,2333.266566061133,9587.90254456775,1914.5550528238687,3390.043164354196,8198.151432596595,9314.326491109301,7737.086339039606,2802.825699679188,7403.060626212063,9098.436715500502,7427.768929513928,7417.276617327877]}]},{\"name\":\"series 17 (F17)\",\"data\":[{\"name\":\"series 17 (F17)\",\"type\":\"scatter\",\"mode\":\"markers\",\"x\":[357.60022085456586,3953.4075563666192,5343.262595986042,7149.9091379845795,4431.561936449178,8391.882025979548,5497.938240601794,5010.380386326186,5985.537773725032,2389.7123746072825,4310.8786348823105,2233.500481967663,6550.141898499599,3388.0364053462254,5507.620200558456,5796.7728108638585,6443.940911906852,2450.4411442708097,8342.713769398883,5917.762262199987,4637.767840347546,7037.685712425171,1608.0067568034617,2502.547824117969,3253.180445001148,3770.645317677116,6252.881099562359,2455.961835528916,8725.39351644421,2022.845869471096],\"y\":[8866.509167899541,4266.274828657804,9366.101659916372,3217.1648935797493,6758.514112763152,2341.4407939607518,829.1819515898113,1296.9717364819933,2923.254268269202,1200.9645109978828,6812.343829316685,7000.186828418222,5784.275116832844,8816.909687245268,2220.375480659411,2285.4443975837667,4289.304375191661,9149.520471630987,9970.71122672587,1542.7389388098977,3662.4900289954544,6237.37960979474,639.6216151092715,3066.6493135022297,919.4125330681746,6078.980491196906,6227.409364244827,7678.429383738024,2111.727641806401,7982.044922032392]}]},{\"name\":\"series 18 (F18)\",\"data\":[{\"name\":\"series 18 (F18)\",\"type\":\"scatter\",\"mode\":\"markers\",\"x\":[5463.570258987581,1353.9576823797072,5192.127658417317,4058.8676819727543,8277.956182780043,5247.748706679599,3376.6328817724325,4110.428582297562,1331.5553012288917,9598.92264338833,3930.058970908321,3268.9582510670225,4830.585114490766,7663.239981275493,6411.827338888899,1458.1024967573485,3240.168879892901,2036.0057201353065,2593.117179620441,6981.781877672271,8968.94654360261,8513.857095524538,7492.690382583739,1367.2947359810628,8613.546784050764,1989.1428286322498,7277.537563005495,8965.165826601176,5931.927491021744,4778.817537667903],\"y\":[5135.832428671036,2747.69848431886,4357.1714263344265,260.46308615550686,653.5053174680195,7250.1351496763655,4568.394186252251,3721.2666640073967,1712.0722571931935,662.7925590840955,9403.010628334736,7921.475482716605,474.19047370853895,709.4822578670857,9224.67638347532,3032.062568538848,6634.732851481017,3136.9876951285437,5753.799769450913,9327.031361557543,1789.006571762496,7392.317694202536,1322.602928170288,6293.996522987459,8506.066689735268,1378.9101454435558,3534.2824866391043,3672.379633035189,6493.905385769333,6059.915166837481]}]},{\"name\":\"series 19 (F19)\",\"data\":[{\"name\":\"series 19 (F19)\",\"type\":\"scatter\",\"mode\":\"markers\",\"x\":[2385.901098142611,8336.75952273656,6104.623096813847,1116.1359738124243,8057.2226165632,5913.624381943055,6351.520324782376,4868.162597794163,2772.773025134959,7552.969981742493,596.3708972081405,5236.686621571551,9411.998469776312,371.89873789667536,8113.971918241062,3641.9323212619347,2872.460901322623,4745.571100270285,3852.3884553520447,432.60262627858094,7583.592947999968,2841.5665314759754,1881.1445106433066,8686.682857530894,6023.615245444875,576.9157052576701,255.932928636905,3040.9016785025356,8609.790817646825,9522.765382233474],\"y\":[6327.25241691694,1582.603980830616,4912.275921216758,6189.845224496947,1881.7032779674657,1777.238267063136,9784.3983642875,3598.60266675589,6928.50175730155,5906.619518807052,5707.280406290342,4071.0811159828854,9430.106253528857,7557.577729951086,4414.2932394344525,2777.3171933241138,5824.665403675842,8327.55818629834,6690.91250618279,8727.235339110379,3799.342061268107,3103.1917539610886,9138.12337512798,3619.720341039123,4447.379863845008,3019.8051775090717,642.5999764700052,9243.758114564223,5678.117661161488,7524.295814367377]}]},{\"name\":\"series 20 (F20)\",\"data\":[{\"name\":\"series 20 (F20)\",\"type\":\"scatter\",\"mode\":\"markers\",\"x\":[9314.460020982464,972.2261371975294,2547.980120112938,840.7498111327893,2733.479835598663,8297.1315712415,3041.803732218924,3577.6326919471035,487.2250457766314,3325.7863404643017,9757.68206821763,7217.336960633219,8189.638117981818,4690.622088125095,8934.84660805806,7793.322484175557,6436.197483740146,7421.040227143795,8312.925220193343,5187.0401719372385,6481.839496969668,8983.90641145396,4422.246524133432,6166.284365485653,6820.41969113772,7919.993285451469,8078.691799242987,2538.563977232665,1299.559115296084,4286.881598393815],\"y\":[4092.9177272842708,607.5493958285583,9922.307571762425,464.53667575580005,7502.608557190773,4497.590997443891,8067.12735872672,6787.971259850717,3997.7376908670635,3850.7701539685513,8500.283970340683,8942.119948059231,6632.649752278622,5902.88633396743,3259.8040083286496,3087.242996508549,4405.105381978947,3009.2464202431825,9257.74423731478,278.88939622831674,831.25052360277,9318.069105293347,2277.587962233163,3904.646147971591,2256.813067323249,4478.772610716005,8936.166880023506,2580.605061782526,6318.642766960559,8024.3671308675375]}]},{\"name\":\"series 21 (F21)\",\"data\":[{\"name\":\"series 21 (F21)\",\"type\":\"scatter\",\"mode\":\"markers\",\"x\":[5134.582613096168,6233.685419645506,707.0509336709896,5381.626261958753,2540.1828486008835,4941.6476491648,1178.2292304089935,5339.664841338221,1721.7218055291382,8510.841369883028,5627.3520642076965,9247.004087954123,1702.4148069917244,9742.431122018124,7956.8045815437545,4209.1570647803455,900.6757891527917,5871.049671243201,1460.2932469232544,6123.221853617972,3695.900458944573,755.5273995138378,6492.438345236412,3512.9227168490106,186.7442522148044,5059.553332140109,1304.763254153466,9816.990472390764,4101.909714758854,2880.8231690868747],\"y\":[8102.831518576549,35.73022489171795,5278.551753604433,1070.4388241544682,8615.609971611719,7455.076451264229,8640.971035245511,1830.015309129458,4766.958259983669,7544.384765162841,1192.3580771291763,82.17022677822649,400.4821138387604,9063.667509849132,2174.9184523114727,4580.759201051412,9432.808110020107,6917.934731105575,9258.794132020577,5760.431813324888,4296.672657578028,7360.746057926301,5387.770653819511,3920.7852904494744,6084.037682178184,3776.045202164783,6739.83808420266,8498.593115269894,4410.783082765825,456.79038951131787]}]},{\"name\":\"series 22 (F22)\",\"data\":[{\"name\":\"series 22 (F22)\",\"type\":\"scatter\",\"mode\":\"markers\",\"x\":[2153.2557928022043,2902.2915457770905,698.3467596322057,2550.8536704276084,8323.842565807534,9666.109049422175,3304.0144350566848,2659.1139519730323,3096.796165396416,7526.927695797684,6730.39004590854,8447.619445339777,1256.4271259310156,5435.166537487983,5.902883962894956,1075.152936987348,3359.7597865602334,8481.683439067061,1252.0386859004918,1239.479684114464,8365.04580153731,7255.891171003594,6439.3091432898145,8210.018586836708,5073.79844686263,5245.990769780885,382.80124055927735,7341.62428764552,5735.046281185599,8550.424829657339],\"y\":[7139.476075184668,3253.6231962380457,7553.078757867156,8390.356711052187,5143.219349274929,9110.201789978066,4295.028230807589,9696.189668622728,9649.964664044315,7252.694042541237,712.2236087315492,8386.834737309742,1364.0494769119582,2811.27064181662,7069.317328714686,5868.647669289588,5478.284097210013,9862.988322300154,9717.771659131653,1751.6514003996442,9784.043669833616,9205.104663362501,6355.366825894762,4813.8700514278335,3994.0260641888412,7877.020868366778,1380.9716205792754,7840.297409656419,4969.139451280885,3191.1696746638827]}]},{\"name\":\"series 23 (F23)\",\"data\":[{\"name\":\"series 23 (F23)\",\"type\":\"scatter\",\"mode\":\"markers\",\"x\":[7583.895802702403,4121.230286025038,4152.315956591769,8222.614670772387,5299.720813887547,2115.3985629389217,4185.8763252942135,1459.0804512992672,9119.582867042576,66.52852482725623,1425.3945823009162,627.5927555746607,5257.463488254682,4207.674959333457,9861.846113817677,9590.851064770037,9760.11932425097,2595.8661777132506,9825.142107480528,7645.917198103749,8886.85712312102,1590.3062001994072,1765.992733528433,2559.753194346698,8191.4448106018945,3520.579124483888,1399.356573345477,2240.592856210679,6106.024060915408,2187.011381788788],\"y\":[7541.57362892017,5071.091967971577,1156.9665149205532,7493.541363156831,8084.600265923755,5618.64480370082,9335.196915363163,1734.1564452144198,2724.5936253060077,690.2151855613037,9598.584160666729,7837.155702481194,3298.4254661629243,513.4842928409322,1001.5742839078923,4217.204019991672,3880.5258769611473,1203.0625765853974,4527.328205960193,1793.3405440474537,3153.7933801576023,7609.975280860562,6340.193197262608,6201.8157192252065,992.1313446230063,154.57712924618394,6881.423524642669,2265.825114876322,9678.49740431892,5307.512251517021]}]},{\"name\":\"series 24 (F24)\",\"data\":[{\"name\":\"series 24 (F24)\",\"type\":\"scatter\",\"mode\":\"markers\",\"x\":[1998.6390814733224,8379.91956397412,7731.188720854294,7010.279555200925,8129.593848956308,5625.0685288554105,922.402513606293,5516.424868417562,3453.3972068190187,151.0579337907314,746.9491432131903,886.3291937500728,877.4170762651312,7646.112430204166,5335.317813601097,683.0190735808827,6745.66513233246,5559.323133030982,1604.1259001025676,5293.375027135754,1234.5463478703666,2149.680734690762,298.3078605606893,9738.569199356141,2544.433920061829,1406.1997697277695,7503.2332457249895,7839.515864043451,7200.604692666132,9416.839723554307],\"y\":[7191.261652877531,3167.571973780262,3044.6529339918848,859.6194720032757,9416.086391660569,1337.6773117586904,9827.573135575414,3947.528951118006,7879.527058750206,9890.57661496274,4708.289946552368,8379.547511340661,8769.276120942179,5262.722135380133,6416.476710751532,3633.2776366569587,2.425634683407285,1156.9022671077066,2356.099653998773,4280.407230220165,6308.426143337371,9003.603189162779,7506.187310909515,4914.417970081699,946.4616345939226,9142.555111117326,2617.912845133876,9750.658788701992,9276.054013786297,855.8735067359224]}]},{\"name\":\"series 25 (F25)\",\"data\":[{\"name\":\"series 25 (F25)\",\"type\":\"scatter\",\"mode\":\"markers\",\"x\":[1912.152208615191,992.1073942979475,2886.0324900417168,448.65871206630993,7249.257014975161,5649.845205512556,5535.839038839194,9199.864597914746,6572.862189007388,2665.474795576579,3774.46014929858,7195.709861985747,9322.12491466745,903.4139380720019,5776.115683362763,4809.847464344343,461.87073748423126,3864.1979709284833,1668.1491401631033,908.9713195777127,7797.698923519465,8815.631968908603,7425.403725468632,5739.485668061545,4323.178594358013,6446.831848672493,2266.6900736822336,6890.315716955605,8488.847063911371,2120.9019723456768],\"y\":[6412.784358707453,8728.89742390494,487.7943004457319,1335.1935645923518,2051.7155712752265,9271.830470409732,1920.2027917829646,93.79656033113304,5405.941014568259,3578.6338891900814,9529.284226035901,5555.120815132862,1907.324873728673,9446.50012596148,1093.6373053979842,3538.1185538243544,9659.671049588584,9435.890696086066,3016.1238247858278,7253.914730931784,8604.8877653429,3071.2750081301233,4666.943881169015,5975.303459046642,4107.684909446585,4438.262954848549,4118.664871588662,3264.779743329909,4035.04161300683,3337.8395479375376]}]},{\"name\":\"series 26 (F26)\",\"data\":[{\"name\":\"series 26 (F26)\",\"type\":\"scatter\",\"mode\":\"markers\",\"x\":[3553.5399245004064,1852.475298759574,7830.5025651251735,2660.3563775028174,328.5272222147506,6288.572208696536,4569.692227987404,706.3956405799964,1451.0022956259472,5090.467731046574,4532.264057036791,4808.568251904836,5048.230673330483,1263.1728709159718,5436.8330207629015,1797.7679267872259,2306.2492724967733,3792.1236174188234,159.25969536792928,1609.3483080707438,7308.879856541688,2990.7920211458495,7490.993380203686,2639.150148093966,225.18001683043187,9431.185345249814,1292.999211223612,1336.2552183594157,1373.7111140480517,9593.52310574514],\"y\":[6262.130076877455,3958.798203445524,9834.58393680111,1342.08914086548,450.6287595921887,5421.118549881173,485.31808935172614,8867.454759069748,5665.773143323177,8724.990025938052,7604.133718208405,9830.973964660692,6925.508884728795,8594.619601037277,1514.3656511588388,7105.655894446475,1257.238764472043,4624.555895458268,7136.274343098829,3728.2200872141934,4300.766446797133,2501.6045913477824,9767.604935109373,2460.345394645157,412.72338777450733,6676.301168668505,3931.8185149161345,702.8272672204882,8268.631906734405,4236.440730745935]}]},{\"name\":\"series 27 (F27)\",\"data\":[{\"name\":\"series 27 (F27)\",\"type\":\"scatter\",\"mode\":\"markers\",\"x\":[5713.005156444387,7414.5572353636635,9320.088382462056,7674.625116607596,7639.0640129043295,1158.947108670142,888.3763837893476,3743.7291590373525,7879.808496240947,7433.617723946184,9162.150873113053,6658.655690685141,2294.243320333683,9034.881082718928,9915.658765111139,6529.687144347309,8691.327216096619,5366.7424830998125,6375.292088608141,8102.207409112518,7561.120229709684,5324.85648199728,4336.097505356516,629.5110725627661,2488.291613573871,3669.0696383124564,4366.194157778703,7019.877490682394,6477.541161832062,2643.8930593992004],\"y\":[9735.87776822192,9276.034181214412,7500.5619383159365,9014.438850393835,6569.521237688061,7684.592866863991,7716.760893752839,1656.0743327356165,9642.206834234476,3214.9900482646876,6025.0168299522375,6369.231385243888,3229.3534471573125,6151.918952294859,2871.3487188669874,2686.532954530064,1466.4323755163011,9112.195118694806,9567.432217268772,2097.580340729722,6787.190758074182,9286.444220246753,1767.4912324117531,8337.465692963617,8182.6327220599105,2997.9634400251575,8206.160632058327,8168.267042339287,3259.3336034632525,5485.5518356754055]}]},{\"name\":\"series 28 (F28)\",\"data\":[{\"name\":\"series 28 (F28)\",\"type\":\"scatter\",\"mode\":\"markers\",\"x\":[1317.5020124392045,5428.488391822428,9374.493049676907,194.0639839356273,5935.42554767822,2033.6139940915998,9486.458472443037,4795.8924669375765,5918.354017008997,7081.644294786404,7783.2819040699505,5668.535885788594,6246.042260352325,9250.687192622054,8638.197560728257,8617.868709221328,9904.041763916273,8271.379603685293,9989.737744359294,1263.6713086689333,4701.378358623174,8415.120500602632,8855.535009855694,1693.4454642902897,5059.5923174513455,659.7948131832898,2362.678802926752,8742.480593191474,7766.364777450245,477.87525994456126],\"y\":[2413.8346897507013,1572.5982742098342,8704.53222301189,5037.489640326169,5907.150042727717,98.95156035864439,9647.373090063427,7015.245978298107,5289.308407028223,3253.71015385979,353.6247201985265,2190.3088248133495,6144.917156172862,9077.41397793426,1400.7674263645843,4522.425939849285,9511.740611232466,9193.233464755771,7462.692496347314,5512.305202818578,6660.12444146815,346.3247084006715,9067.947639561671,4300.946032619785,3186.279300973004,7379.925065303804,3267.3321899972875,1185.2317260642053,7442.923296765127,5271.782537308465]}]},{\"name\":\"series 29 (F29)\",\"data\":[{\"name\":\"series 29 (F29)\",\"type\":\"scatter\",\"mode\":\"markers\",\"x\":[94.6921843341364,10.29594940411438,5567.108531609159,2668.9703114348117,2222.3408981354696,4244.871452897921,1663.888987574028,5736.088423603366,9792.617402719854,7454.043960276681,7065.810363795293,9071.306750446867,1049.6593320955906,1354.5242611285234,7012.034439448393,9946.661586349828,2100.561308493316,3670.766872494424,6577.235305323372,3193.461070345013,5902.651205400722,3605.9572977128105,229.23684874858296,6680.623965686326,1403.7093857891925,4900.099595699376,1005.6864778722053,1523.209625965901,8654.525808105996,5168.1341152540535],\"y\":[5973.88638503356,6910.367868274368,4668.268779107414,5494.222112228648,4374.237231651974,6756.379009903512,7818.720594216838,6104.035247351225,3646.5721073360246,4255.4146412104765,5649.509955075849,2345.091407791081,6399.988408128943,860.0952758896474,2109.052152349168,175.88152197492656,8310.615932492228,8205.8834314941,5430.9828836589795,1897.7344486845093,2918.0816210577054,5067.795823953851,7147.452311701207,959.0729394150155,4340.267915136415,6562.875565340708,6052.723615438975,9319.911623458038,3037.2798969064343,9501.317695917101]}]},{\"name\":\"series 30 (F30)\",\"data\":[{\"name\":\"series 30 (F30)\",\"type\":\"scatter\",\"mode\":\"markers\",\"x\":[8327.09752998592,2085.1571706906757,2929.3749441298646,6041.092784869176,6486.262251465297,1898.467107722307,409.92764905997905,7615.371596678112,5338.748687922769,9934.136852183447,7093.336338551973,2478.9976331675266,2714.2451275611766,1232.6732603321523,8499.104232612688,3159.7184445846515,6368.109064408761,9596.43234008718,297.1567343897563,4601.831617562926,6172.483923216656,1294.887372289799,2225.7813405022575,9854.35679777324,2472.0173934500745,7424.808727906379,7342.411607698367,7782.801900791598,7312.24414442749,1928.8291431916816],\"y\":[878.7975192210329,6473.036544159309,5141.285043572925,5996.581778940158,8645.935601851628,6747.749095156529,3540.5844240108895,9855.792363689652,9670.463566628918,2530.408617571517,2557.991017045296,9806.414929744527,1543.0459499170934,8668.609070036959,3296.5618454722558,1759.104617713505,9820.610227459176,2268.1278413458117,2555.049695586903,2510.018812760584,4748.117939802983,590.9818693782065,521.112424273863,6517.146769292031,9551.889192326473,7135.2162031813705,2785.8579518474035,9039.067912792932,4605.316741090285,7641.118786880679]}]},{\"name\":\"series 31 (F31)\",\"data\":[{\"name\":\"series 31 (F31)\",\"type\":\"scatter\",\"mode\":\"markers\",\"x\":[6278.421282027413,6155.242545946665,879.1444037638629,9458.001054870774,1111.8413962076345,8407.643197822666,4262.3072350631455,957.641515080444,6786.594702199454,7586.73497538393,9575.659683209105,2494.9429167813487,1715.7060056548546,5530.519436658612,9399.746986414673,6793.304043511212,9615.447783287718,9713.559018885258,8199.102141158583,4571.661792764588,4948.211849548738,2873.6012010337377,6649.37990032199,732.1129357736489,2309.2150351799933,2956.6235073359194,4559.967756938232,7491.476898887987,1416.27895882518,5256.828574330427],\"y\":[3333.5392051405242,3467.1149470683217,192.00515973996747,786.3149270412762,515.346131618205,1916.7722134390986,3320.2394457514683,3629.858576198307,9658.874994731372,7084.166792454306,2613.8035615355748,5323.437129847576,8470.814451305105,4916.497610695546,8548.045995285687,6140.839078417337,6997.118919479459,3296.998486081397,9394.841520074297,1580.8963109658491,5473.273417507617,7375.122530764927,5534.253591868717,7318.585468100831,8385.69537405767,7578.883795059237,1726.1411573963815,7416.4471916612765,7277.539428640316,1458.3514264477183]}]},{\"name\":\"series 32 (F32)\",\"data\":[{\"name\":\"series 32 (F32)\",\"type\":\"scatter\",\"mode\":\"markers\",\"x\":[9391.58184598689,8688.472288736946,9880.995272767525,5636.228557659022,4284.049544454988,8766.809973723992,7269.501969565334,830.913990619434,2322.8733687233407,6642.354660017467,3897.122878098669,1169.3913780866217,7816.574730918726,2233.472736285006,7628.662802916693,8821.74365191603,3821.2615936063944,5882.829993318876,8162.928718599746,6366.0482670866,3959.337116331404,9590.49040651514,2612.867632740501,2231.855777596914,8666.356713944706,9262.151749046525,6430.1428614989745,9072.41283488957,6538.945296479931,1284.593559160312],\"y\":[6348.040352190704,980.2392948869798,3224.2667857419583,7336.111638665528,9565.415839219953,3087.6265114887856,6121.613602701329,8497.919294038194,5.737176830326041,6283.072797142967,3059.263334933109,3453.197472775045,8159.0863381084455,526.6292831713026,7064.829201381087,5843.676477874097,5751.330104725626,2561.578771639781,7364.904570227273,2699.3431325554097,283.4837680794655,7696.8254947954565,8829.885449833157,9265.058121141697,7345.630820901223,773.8278348859362,8222.429936141763,5518.58300684533,533.5792335650069,8433.854685199312]}]},{\"name\":\"series 33 (F33)\",\"data\":[{\"name\":\"series 33 (F33)\",\"type\":\"scatter\",\"mode\":\"markers\",\"x\":[5813.090791424159,6207.713399803955,9782.772757488072,3365.805345665048,5194.237840913708,9329.918654999352,8982.798165372367,1341.7819307260381,2453.466384359193,7636.091869102373,2847.1577332665556,3537.054591392532,8260.257835182143,3960.7184569388887,1186.8070162462718,9883.021017012132,2874.7480799853543,3963.9721557725106,5972.284213384344,4016.2051181883176,4605.030938772164,9216.953912727664,2868.084523029959,6763.299028065768,6819.49901599038,9469.487154293327,4284.266071642877,3041.704051039239,7263.312297200451,5410.592235497782],\"y\":[5414.092694933254,6556.979323565713,6133.1519421254025,2264.959876193349,8212.859119649513,7743.0587509345005,6132.003979275103,164.45299787662293,821.8597444363196,3018.0529090183595,8555.789257462788,9391.861009445787,1552.802124560867,7617.90351444724,4356.2361952284045,7314.844228909811,7221.784383390043,22.11077386078508,8079.4754809754695,9111.1995802608,5358.289505208552,3300.2073798249066,5597.4039271915935,6232.288180322051,8613.47839470755,7584.610554908671,3628.9536362216513,4959.6636602656445,7553.385781094115,8314.927325905403]}]},{\"name\":\"series 34 (F34)\",\"data\":[{\"name\":\"series 34 (F34)\",\"type\":\"scatter\",\"mode\":\"markers\",\"x\":[190.97509078190967,2380.6511905356297,4946.457423748435,6900.750323754377,323.5184092761123,8641.817519491966,641.1941211669958,4014.42936684553,701.8835526044564,2434.9897279335055,1178.49086481988,852.2599497876005,77.87882729072382,1328.672838713203,2394.5948038193665,391.98026435678156,9885.313660201826,9778.423987048733,6444.428908029171,8926.424849100662,799.8221992383047,5432.944330359048,6911.360049053011,7967.630646801454,6560.697134340432,8698.35193873103,6968.312779034349,7992.653688537932,5942.492885786279,1431.3010485564726],\"y\":[5916.464685036564,8441.795162570585,7406.7268194980825,8102.318411721878,8851.584374282345,2881.901800413413,8669.097863371711,6803.929176448086,2694.398737479288,4311.847402358637,5185.206130785026,8073.848008869639,9370.208551344558,3214.2643358475775,7387.850488755773,6661.7149636341,3534.299243371296,147.03961359896934,6401.542194935865,5088.557553003168,7913.51660284118,5420.050539718437,1914.9676328789012,8131.364421452556,4070.7119223705713,717.0599497860309,3909.6980218316735,4210.859473398612,197.58707929066532,1399.6523556140971]}]},{\"name\":\"series 35 (F35)\",\"data\":[{\"name\":\"series 35 (F35)\",\"type\":\"scatter\",\"mode\":\"markers\",\"x\":[2023.5297276495467,3068.767778391842,402.79382340481453,3669.5389915818632,2469.4150569509998,9091.56728300372,1885.9767362065927,7767.51777520629,2636.018223935506,6170.925079832716,7374.7727206690515,6951.821188159261,7763.517502401377,3086.7183571504397,250.6090535990191,2125.546536274674,2418.341718024288,8056.7436911286895,8900.471768883855,3672.3088578598527,1883.1153448654602,7317.923897321449,5005.640032242526,5311.213144877583,5033.165021304087,5387.019245344622,7714.716607605401,9596.69611025301,788.510847096674,3994.560471137507],\"y\":[1947.107597280968,1065.7378806370366,4810.351610867932,2593.915339516515,4434.432604888357,974.4017442841257,1753.6292410946253,5818.114278729992,5531.180960769848,7067.60979205824,1092.3321711706947,2290.25136008398,8312.247716459291,2890.5146848020936,1301.7811363099452,4788.991866113258,9023.820967592128,3776.7839054732776,8012.214358307259,3928.912921794553,4565.4134935789825,838.5655570086736,6640.57045196889,6236.108808250187,3354.663529517444,34.85494089572661,8962.442399222238,2782.697802504147,5662.854872873932,709.4358004512225]}]},{\"name\":\"series 36 (F36)\",\"data\":[{\"name\":\"series 36 (F36)\",\"type\":\"scatter\",\"mode\":\"markers\",\"x\":[6103.759037651848,6389.568666815282,8307.938736462438,6866.52804474234,7511.821284890497,3814.906866283848,6453.162547914153,4891.715612421479,6607.905442000567,4316.746502063475,2183.241549518327,3427.6950166904076,9028.719757714312,7510.996359030242,5516.341461543983,4678.826220201192,8631.582064648304,1542.0875301754788,8558.95899070538,1545.4291645521855,9768.259029066827,7241.601739541687,7622.124673888825,1678.2168034418455,1724.9916530205978,5170.93319383108,1291.1747259094063,7795.21240533559,2681.3065681281923,227.24592848487268],\"y\":[4677.668752747773,3417.948809404413,6057.789688780829,2837.6903782818117,1380.858414651559,4560.704989657729,1703.081972449909,6675.044447894068,5047.440462835667,845.9810370844523,8012.927590598005,298.65104878543434,1842.1533470717466,4021.3742243952975,8779.19075962087,4157.7207061563995,3628.1093359626025,7917.466519314934,334.329461992825,4989.780351353595,9204.57607477046,1513.2881748958548,386.8965922434708,6805.242932550106,7561.2568671899335,5965.3756964592085,9836.214405213022,1369.7817192738426,2781.9387991744993,7208.395117476539]}]},{\"name\":\"series 37 (F37)\",\"data\":[{\"name\":\"series 37 (F37)\",\"type\":\"scatter\",\"mode\":\"markers\",\"x\":[2809.4466580062203,1379.3956437600907,4966.7155034404705,8049.756240234252,8181.875714283746,6368.751886456744,5340.8085966004255,7557.593307923973,7921.259003427693,4801.598562048004,6579.35092631673,980.9440957823834,3739.732171933595,5762.741577132439,1301.3146162102662,442.9102720999423,3741.7890017498266,204.28474991410096,2672.0983369133332,5212.036771083876,5024.460751885355,4794.5305261164585,1103.1175535507055,484.09849404660423,6515.883232014775,1076.1508064223124,148.06616987164233,5295.940536102208,8731.026621764277,8860.929842454321],\"y\":[2869.350822236746,3444.9638019693916,3578.4369812278505,5571.592007612841,7184.520552165893,6102.308595724647,7869.419077560684,2586.92804476275,5001.350483185911,1184.7377233338884,8761.164168181396,5554.634565621484,5311.560581107656,2489.6752678732028,8007.90997545204,8106.987895118324,5836.9807462607605,1099.8063096587641,4599.294634243425,7447.67587727323,1308.3004937727437,2628.106434598291,2132.6436644502446,5873.809540247586,9005.373370324476,6501.106925758455,8096.011697505202,4455.349332611869,3799.36753573864,7667.673160175293]}]},{\"name\":\"series 38 (F38)\",\"data\":[{\"name\":\"series 38 (F38)\",\"type\":\"scatter\",\"mode\":\"markers\",\"x\":[7131.373272045786,3814.8729728280673,5610.889490200835,6872.50826073249,9302.439774690973,2233.8226914880397,1934.5303347379017,2948.0640501505695,7409.15450698289,3157.070627788464,6879.116459596288,9455.482000717118,4470.997723938856,2575.8420538132777,6034.2697908652535,8444.646300095172,3643.8108627617926,1739.743051911653,3397.7163596082783,6105.383283341277,8039.927936373531,2181.8378076772583,2584.105277287069,8646.291827576666,7188.980268415212,8136.430622297118,9584.931981849184,1864.6487464315842,206.81556298099312,6087.400781139725],\"y\":[8460.485853410975,4560.2762754389405,3132.558634777052,2405.654177480693,4518.569245490032,4198.22549111231,9348.908426246693,7817.444609365261,1771.065617457771,3039.5667583597765,7518.351758400749,1791.035525111433,2758.264166933313,4336.546402861711,1048.052077573126,837.3627664297934,9192.167312457967,1127.8105366185953,6738.744698351765,2191.0716585589776,1293.8498396461862,4671.358668665581,7978.051667525263,8371.49858314699,2186.2527910744734,5617.334603085495,9606.20880521095,8718.87506196154,1252.6329584737139,8649.723690544235]}]},{\"name\":\"series 39 (F39)\",\"data\":[{\"name\":\"series 39 (F39)\",\"type\":\"scatter\",\"mode\":\"markers\",\"x\":[7412.272184193474,1159.2331984705495,6982.2109352788775,515.47172012526,5111.450525624268,1172.192073442756,5498.394675411159,2111.4978412969567,5609.29118541392,5219.012820558612,5701.2750052661095,7614.524755072614,1376.0192560091843,2734.0116115016876,5754.928524904645,7515.606227769871,834.4153566186641,4190.6183824110985,8511.382025291685,7860.678666990475,3807.186936920902,2724.0786929958304,5386.925213770206,5000.424197403487,9274.874945549647,3325.997552555925,9192.787894449868,3717.178326361019,2962.9089875907057,6721.621545948551],\"y\":[6471.0202175501845,6723.576890720713,606.5056919752576,4698.968816711629,8997.749712489858,5217.079508764554,5134.681879842825,9879.609353303977,2289.813158833146,3426.4710539709617,2469.733421230734,5704.109022734662,6187.087146043186,4900.887742423096,1156.1074724427356,1750.8490583317805,8881.67572892013,4668.869787120181,5612.673378412709,5415.138202598208,1126.4366350394127,9334.398236622352,1444.979628600691,3446.2365541712934,1779.1561597879202,6678.824217884981,3959.1558212646573,5873.114777344326,9325.011978316857,7402.048516150942]}]},{\"name\":\"series 40 (F40)\",\"data\":[{\"name\":\"series 40 (F40)\",\"type\":\"scatter\",\"mode\":\"markers\",\"x\":[7786.702716142784,445.4734449322617,6568.795145087014,4263.274788657488,6359.489874077746,7874.751904018234,7299.679510269994,8071.0942320557615,4866.854905370121,6880.560752033931,4405.167401106866,5724.632645246208,9281.78170549801,3331.1687410787817,8647.164462278277,2821.925659810954,7060.711154030629,9612.386937181664,6111.955943336473,2228.6562729711,2201.6140406753548,8767.389104927466,207.20156363545627,439.83185342654997,8487.536037709257,2920.7145376112444,1002.8779634186125,5568.933645520763,9947.90448625562,7032.899133381666],\"y\":[699.4370134867601,4363.529445053585,6837.458707357876,7127.887180842589,9055.270499712939,773.2839145228232,8762.751988331192,6793.577546321549,6716.900764451663,5285.765219280113,3978.744230089991,6976.561349078843,7569.149496353998,2497.3897247992973,5333.086145136586,1875.3101938421014,3458.8566219686877,4201.306843971758,8853.27381847895,8081.781009708079,5944.556628001262,6650.974853810271,551.9292161451073,5029.601215541074,85.8463433251,3597.6342396124396,668.0426165493514,2277.7053680022696,4710.002344266638,1201.836844647356]}]},{\"name\":\"series 41 (F41)\",\"data\":[{\"name\":\"series 41 (F41)\",\"type\":\"scatter\",\"mode\":\"markers\",\"x\":[2267.0865179285092,3191.495108977479,2079.7381461344035,6983.642765249291,2890.494774763499,5179.300780419154,7434.821522673314,2603.049852620911,3775.074973929956,3800.119274216612,5491.591265370312,9451.673012677391,1055.499639315207,1779.3140136416375,6658.253387881055,6788.6474493082815,7318.103645867029,4252.162003048491,460.1528546787892,4468.175928276703,9891.789011550247,8400.833193894588,7468.05575303829,6183.101274659321,4341.919217664768,9058.598087498896,3883.7947732575008,4588.331406898144,7775.663400645034,1825.7543022258972],\"y\":[4861.468891780623,6669.904163439333,6772.326608850992,1774.9723223541325,3628.707224576516,6289.9257244498995,9019.782531497114,8919.461422936807,3521.3415554276694,964.5738601231335,6068.2016371215905,1275.5568761147783,9156.158650874773,1621.808263260872,7004.849595580937,2572.0386753542225,1140.2281109043743,7337.386768084235,9308.801660177109,4441.691687512493,5951.635794968069,1862.2323753317605,3662.005326286325,2276.318385345485,8925.274156816102,5131.157325652193,4073.194320287963,9834.623489476082,3638.6760900179447,882.3982298474419]}]},{\"name\":\"series 42 (F42)\",\"data\":[{\"name\":\"series 42 (F42)\",\"type\":\"scatter\",\"mode\":\"markers\",\"x\":[3313.7416100106243,163.08722656442788,5416.699518697808,1019.371486306676,6369.610396195407,9423.153139221537,160.20546923333546,8410.508972066273,1381.1476597838168,5813.753919253727,2252.6933731634313,2449.992205261234,8372.536340951456,7936.40529173036,6910.192638567268,5891.649918827122,965.3034545865946,5670.799248016884,3013.5312215396416,7220.242802002169,5225.360333414481,1912.0332990404909,2198.433723944362,138.8075567136071,2810.6284792517345,5366.313252983566,8777.729878320393,627.6881126922129,2666.379896917277,3010.170317876154],\"y\":[2931.279453668485,2470.337248552461,6658.003969881582,5788.938791159687,6523.050716567111,4142.917886394093,9735.988265585618,2663.4406256279985,6891.117222924397,3529.1949986751947,4495.4764761545985,6209.528632065971,9005.162939748328,2049.15375463405,3322.850010515677,7633.342499738883,497.4198284937104,6479.243002183859,8714.355804553179,285.8326767531594,7246.781368974612,4994.083110673251,3806.8763262599605,8543.31598995445,9432.174934232542,3773.943956121021,678.524467111411,3266.5238799079143,9270.090738639994,1899.2407064665383]}]},{\"name\":\"series 43 (F43)\",\"data\":[{\"name\":\"series 43 (F43)\",\"type\":\"scatter\",\"mode\":\"markers\",\"x\":[3556.817269858531,5958.808354104118,2012.5068319137406,5192.755422406699,7714.763876605384,1214.880134689832,1205.26704061799,4172.243762368067,2540.2790431851495,1084.6469850987905,7693.302397312739,7340.535718669486,9031.91582839501,5572.429880449765,9407.91275290087,8667.198342825202,7803.98159918833,650.0369956534291,5582.655413843074,7305.276724653937,3576.6890546941454,8882.876383289871,4718.212395010889,8338.585400823464,6082.0657803840695,8051.492170833726,352.9395989987194,5669.473515709516,5333.923058484465,9996.614186562643],\"y\":[2494.6265126708813,2033.94208365549,1290.268771953109,5324.012208104076,5430.325325473158,6570.4439013632,4079.1232596808013,9576.147242345522,4554.934184847378,7370.648565421978,1163.7722349221003,3010.8212879695816,5845.550297706496,5004.911431265534,2091.0788411995586,9222.723338575423,1657.434481555664,3142.1344342156467,9796.541678264099,7501.976946081589,5628.757462097046,4073.163083867073,9832.376358962429,44.49723860619148,7655.125235684402,198.8158679716301,5339.96732135646,7912.16481144011,7131.214062413139,7358.094231539527]}]},{\"name\":\"series 44 (F44)\",\"data\":[{\"name\":\"series 44 (F44)\",\"type\":\"scatter\",\"mode\":\"markers\",\"x\":[6105.620577992808,8986.53468918176,8955.664267316979,2249.0774034179726,4618.620013742554,7067.990193219419,2156.7216168687364,4134.455152236608,693.1770142474891,3742.969192047363,5419.931796336289,525.6099046386254,8920.931346048255,3675.0782810540527,7285.531845985683,7603.60862667083,9988.24637774229,9571.625259813492,1332.0025345513243,8762.418014141991,7722.616361877047,5235.297443084379,8273.578849246813,8849.114455723191,8625.084875073571,3831.418337661432,7573.341946301365,7427.807277337105,9600.645694854697,3784.417014069946],\"y\":[909.8426341685617,1708.4496174981377,2616.183323609127,6562.849060312771,8634.039117583878,8658.667278048542,2095.5824859092854,9020.511748189803,8214.653774256645,6256.180718304579,2004.2156826891212,7931.896288904659,593.8875189122273,5841.360603443101,4780.097237951097,5893.4257444482855,6361.753628921203,1093.897382469574,3536.570475651212,5857.629651931255,8706.126474478355,4284.529878180024,2291.4694810329693,6225.609136892563,4206.921466436909,7142.221968666734,6370.27906078178,9643.848940619579,5716.65827361102,1929.1372310119914]}]},{\"name\":\"series 45 (F45)\",\"data\":[{\"name\":\"series 45 (F45)\",\"type\":\"scatter\",\"mode\":\"markers\",\"x\":[6585.8936519865965,6434.638643926924,3805.9821034605757,8130.206865369189,6315.150723234543,7935.063706825406,4551.5487452157495,1541.0474650731542,172.39828513280543,5927.735492447473,1805.0054766975366,5477.431102324659,6622.928471512665,1817.1274918689971,1505.6286898787087,8331.46743243628,4584.1913732071,3238.5930776809546,4085.5106426422817,7764.110585400526,5830.278267270459,6382.837426693075,8565.005405930928,9450.55429978562,845.2458379759042,9476.826160817818,8547.488675722652,7484.533915213869,5663.423709385634,6582.810875048045],\"y\":[5996.297308312562,4299.506323374638,1189.9364050628812,1160.355231921938,3413.0539060350175,279.1338500634044,4512.237783471109,5681.955299010694,8835.406315457449,7106.445467353961,3793.541151908486,7001.037914712943,933.5380415055761,4340.511514478926,4481.6064544921655,7141.839963803307,3408.6373522531444,5711.408985411558,4771.418352829877,5713.859327069987,8882.839223368384,188.72140224841627,2527.8744470592474,3249.2829045046424,2518.9798678141306,3005.7572881537285,4204.674944842411,4419.994242428414,4719.838697150117,3511.1328596280964]}]},{\"name\":\"series 46 (F46)\",\"data\":[{\"name\":\"series 46 (F46)\",\"type\":\"scatter\",\"mode\":\"markers\",\"x\":[8688.187022486716,6311.467359555134,430.36213173368253,9971.315886721213,5450.134481494994,9714.056616702648,9802.697669592804,6262.178258263986,6910.5390657633325,737.8990819909981,1282.6932820578884,1764.5600016676556,9492.421419921191,5965.841502797124,3537.8445750129495,3718.301829896684,6492.345515042207,6829.5158275831955,7070.5012809441105,791.1540396593153,8595.96968286413,7926.880952308878,9846.470164405671,7683.421384034705,4635.343925255342,9595.263634565572,3817.9854020318726,3216.163840248988,6014.773160440998,7212.119150001022],\"y\":[831.3375860542127,8540.215316046164,3124.6435709895272,8416.451566657153,7083.2893938316965,7855.246668219847,1017.6860188993742,4727.023537773353,5026.723902377995,1342.5455622322124,4639.731507699705,5879.19633031328,424.81252754955733,8892.137375292848,987.0881714511559,3610.4420165866914,114.30267047115028,3644.3341992442524,6705.250070902343,6595.270598578916,2962.36847344859,6367.739506489458,4848.726684162807,9763.520971410435,2487.782615454399,5260.199352519308,3789.356157919149,9331.667719077512,4666.005861404453,886.137316251786]}]},{\"name\":\"series 47 (F47)\",\"data\":[{\"name\":\"series 47 (F47)\",\"type\":\"scatter\",\"mode\":\"markers\",\"x\":[4590.548248470263,9534.994282155752,8549.11269464447,2653.1681856014143,557.4780384123634,8269.194477840398,505.30173635466747,1482.836352024789,4128.331034605588,6633.157246100024,5119.068060123263,3144.77673284272,1789.277430578744,1710.4036279346124,7091.941987815768,8100.551774152268,7275.932324102456,2834.8374374100804,8845.027590240006,6642.870696567668,6966.635196946692,9057.181952413463,7948.400187686003,2617.848866041689,9077.963141393971,9561.67590772924,6988.756082018288,5082.418237792657,40.467130044936624,9378.301770751597],\"y\":[6035.526456815816,4875.956319059848,7262.70054572284,9894.02918881377,4477.005127762464,2274.6483600438974,7384.187213311755,7387.251881806347,4671.861892383169,2649.058012713127,3073.053348231576,3092.8069167940466,4597.742564085703,9359.826734929744,9441.627733239555,5150.660248309638,477.48771786435884,7003.381415882731,3233.3906488540433,6199.555911575102,3224.824889183163,3558.9818984579624,4077.2310204206196,347.61748689228546,4475.2235700503,6990.389298244179,7310.049479416666,9785.104264353136,8953.924250206115,419.8941882948415]}]},{\"name\":\"series 48 (F48)\",\"data\":[{\"name\":\"series 48 (F48)\",\"type\":\"scatter\",\"mode\":\"markers\",\"x\":[2136.3234620875137,4400.219354603652,9981.986543590485,119.39369720527893,7223.328190855795,7417.077384349747,4032.5235769966484,2252.659978427586,8223.284552157205,6295.634837236852,8423.124736962387,7554.898456962807,8168.78477668598,916.5976950953269,3466.790346451667,7950.1426128514295,2205.4248251220665,420.01616777737615,6702.535802761412,5483.9881674250855,2705.64788821273,5974.483582147855,2188.1442674093632,1888.625053434496,9450.384769244527,9224.56252118591,2261.38476774979,6599.071384222549,2270.154741735518,5197.2551847592185],\"y\":[2662.327954716558,2103.974675006365,304.8646165908564,4044.049467002274,4458.233190181452,8141.294541943223,2871.6286651236087,8153.264943055285,7823.797148968794,438.63276413177886,1822.5020972498319,9888.135255429024,3403.3914611496853,5449.935857425502,4229.108025318864,489.25952466635226,6718.238731017715,9854.74131528382,7248.706490649844,2525.7604142241685,9880.307137038491,2463.094666669654,4106.340103711977,6687.693203042593,2736.0327152085674,6608.721990557986,1270.2641986750584,8682.948379300291,2486.802823457952,3114.9858647295027]}]},{\"name\":\"series 49 (F49)\",\"data\":[{\"name\":\"series 49 (F49)\",\"type\":\"scatter\",\"mode\":\"markers\",\"x\":[2102.950245335973,3535.0962566530775,6819.468482099147,7482.61618585698,1537.5266321857662,2674.3235618537256,628.9741880645372,75.15392357021699,9659.602456526638,3871.817939762342,526.5282308733499,4767.500101112187,9466.994369044847,5288.6561395429935,4500.561697152513,9774.918317922034,5534.959169290502,2693.454523023038,6334.050668915466,4194.288153314198,5832.107853714854,3248.7497510227336,5680.609708155387,5166.362971470705,8512.25806066357,174.2720453064406,5063.086652159705,3507.2373633196507,9150.060906207595,65.98100882329815],\"y\":[4482.221968089385,159.1823729783315,1593.3131237608122,8682.940906026086,2809.260166210079,1875.4622554106415,7372.445298793974,1609.8047002022797,2685.2309498740246,2180.695112030265,4437.756463189254,3360.8917158589047,2260.9465853625843,2837.777147404921,5887.540805610839,2212.537986800672,2785.5877668817775,1804.3414328094432,3305.3315132975813,8333.604990264927,5788.080481937706,5976.175146775713,7342.065465577689,9629.735908108021,7394.29181128543,891.972649867372,259.0505011506139,3125.149393622173,184.40648767710454,5013.256632760034]}]}]\n",
       "var labels_fi3hfrfcFr = [\"series 0 (F0)\",\"series 1 (F1)\",\"series 2 (F2)\",\"series 3 (F3)\",\"series 4 (F4)\",\"series 5 (F5)\",\"series 6 (F6)\",\"series 7 (F7)\",\"series 8 (F8)\",\"series 9 (F9)\",\"series 10 (F10)\",\"series 11 (F11)\",\"series 12 (F12)\",\"series 13 (F13)\",\"series 14 (F14)\",\"series 15 (F15)\",\"series 16 (F16)\",\"series 17 (F17)\",\"series 18 (F18)\",\"series 19 (F19)\",\"series 20 (F20)\",\"series 21 (F21)\",\"series 22 (F22)\",\"series 23 (F23)\",\"series 24 (F24)\",\"series 25 (F25)\",\"series 26 (F26)\",\"series 27 (F27)\",\"series 28 (F28)\",\"series 29 (F29)\",\"series 30 (F30)\",\"series 31 (F31)\",\"series 32 (F32)\",\"series 33 (F33)\",\"series 34 (F34)\",\"series 35 (F35)\",\"series 36 (F36)\",\"series 37 (F37)\",\"series 38 (F38)\",\"series 39 (F39)\",\"series 40 (F40)\",\"series 41 (F41)\",\"series 42 (F42)\",\"series 43 (F43)\",\"series 44 (F44)\",\"series 45 (F45)\",\"series 46 (F46)\",\"series 47 (F47)\",\"series 48 (F48)\",\"series 49 (F49)\"]\n",
       "var duration_fi3hfrfcFr = 100\n",
       "var config_fi3hfrfcFr = {\"responsive\":true,\"scrollZoom\":true,\"displaylogo\":false}\n",
       "\n",
       "var traces_fi3hfrfcFr = JSON.parse(JSON.stringify(frames_fi3hfrfcFr[0].data.map(x => x)))\n",
       "\n",
       "var animation_settings_fi3hfrfcFr = {\n",
       "    mode: \"immediate\",\n",
       "    direction: {},\n",
       "    fromcurrent: true,\n",
       "    frame: [\n",
       "      {duration: duration_fi3hfrfcFr},\n",
       "      {duration: duration_fi3hfrfcFr},\n",
       "      {redraw: true}\n",
       "    ],\n",
       "    transition: [\n",
       "      {duration: duration_fi3hfrfcFr, easing: 'cubic-in-out'},\n",
       "      {duration: duration_fi3hfrfcFr, easing: 'cubic-in-out'},\n",
       "    ],\n",
       "    ordering: \"layout first\"\n",
       "}\n",
       "\n",
       "var slider_fi3hfrfcFr = document.createElement(\"input\")\n",
       "var play_fi3hfrfcFr = document.getElementById(\"play_fi3hfrfcFr\")\n",
       "var pause_fi3hfrfcFr = document.getElementById(\"pause_fi3hfrfcFr\")\n",
       "slider_fi3hfrfcFr.id = \"slider_fi3hfrfcFr\"\n",
       "slider_fi3hfrfcFr.type = \"range\"\n",
       "slider_fi3hfrfcFr.min = 0\n",
       "slider_fi3hfrfcFr.max = frames_fi3hfrfcFr.length - 1\n",
       "slider_fi3hfrfcFr.value = 0\n",
       "document.getElementById(\"sliderContainer_fi3hfrfcFr\").appendChild(slider_fi3hfrfcFr);\n",
       "\n",
       "Plotly.newPlot(graph_fi3hfrfcFr, traces_fi3hfrfcFr, layout_fi3hfrfcFr, config_fi3hfrfcFr)\n",
       ".then(function () { Plotly.addFrames(graph_fi3hfrfcFr, frames_fi3hfrfcFr) })\n",
       "\n",
       "var trigger_fi3hfrfcFr = true\n",
       "var reset_count_fi3hfrfcFr = false\n",
       "\n",
       "play_fi3hfrfcFr.addEventListener('click', async function() {\n",
       "   trigger_fi3hfrfcFr = true\n",
       "   if (reset_count_fi3hfrfcFr) {\n",
       "      slider_fi3hfrfcFr.value = 0\n",
       "      reset_count_fi3hfrfcFr = false\n",
       "   }\n",
       "\n",
       "  const start_index = slider_fi3hfrfcFr.value == labels_fi3hfrfcFr.length - 1 ? 0 : slider_fi3hfrfcFr.value\n",
       "  const end_index = labels_fi3hfrfcFr.length\n",
       "  await Plotly.animate(graph_fi3hfrfcFr, labels_fi3hfrfcFr.slice(start_index, end_index), animation_settings_fi3hfrfcFr)\n",
       "})\n",
       "\n",
       "pause_fi3hfrfcFr.addEventListener('click', async function() {\n",
       "  await Plotly.animate(graph_fi3hfrfcFr, [null], animation_settings_fi3hfrfcFr)\n",
       "  trigger_fi3hfrfcFr = false;\n",
       "})\n",
       "\n",
       "graph_fi3hfrfcFr.on('plotly_redraw', () => {\n",
       "   value_fi3hfrfcFr.innerHTML = slider_fi3hfrfcFr.value;\n",
       "   if (trigger_fi3hfrfcFr & !reset_count_fi3hfrfcFr) ++slider_fi3hfrfcFr.value\n",
       "   if (slider_fi3hfrfcFr.value == labels_fi3hfrfcFr.length - 1) reset_count_fi3hfrfcFr = true\n",
       "});\n",
       "\n",
       "slider_fi3hfrfcFr.oninput = async function() {\n",
       "   await Plotly.animate(graph_fi3hfrfcFr, frames_fi3hfrfcFr[this.value], animation_settings_fi3hfrfcFr)\n",
       "   trigger_fi3hfrfcFr = false\n",
       "   slider_fi3hfrfcFr.value = this.value\n",
       "   value_fi3hfrfcFr.innerHTML = this.value;\n",
       "   if (this.value == 0) reset_count_fi3hfrfcFr = false\n",
       "   if (this.value == labels_fi3hfrfcFr.length - 1) reset_count_fi3hfrfcFr = true\n",
       "   reset_count_fi3hfrfcFr = false\n",
       "}\n",
       "\n",
       "next_fi3hfrfcFr.addEventListener('click', function() {\n",
       "    if (slider_fi3hfrfcFr.value == labels_fi3hfrfcFr.length - 1) {\n",
       "        reset_count_fi3hfrfcFr = true;\n",
       "        return;\n",
       "    }\n",
       "    ++slider_fi3hfrfcFr.value;\n",
       "    value_fi3hfrfcFr.innerHTML = slider_fi3hfrfcFr.value;\n",
       "    trigger_fi3hfrfcFr = false;\n",
       "    slider_fi3hfrfcFr.oninput();\n",
       "})\n",
       "\n",
       "prev_fi3hfrfcFr.addEventListener('click', function() {\n",
       "    if (slider_fi3hfrfcFr.value == 0) {\n",
       "        reset_count_fi3hfrfcFr = false;\n",
       "        return;\n",
       "    }\n",
       "    --slider_fi3hfrfcFr.value;\n",
       "    value_fi3hfrfcFr.innerHTML = slider_fi3hfrfcFr.value;\n",
       "    trigger_fi3hfrfcFr = false;\n",
       "    slider_fi3hfrfcFr.oninput();\n",
       "})\n",
       "\n",
       "</script> \n"
      ]
     },
     "metadata": {},
     "output_type": "display_data"
    }
   ],
   "source": [
    "val xaxis = Axis(X, title = \"X Variable\") setLimits (0.0, 10000.0)\n",
    "val yaxis = Axis(Y, title = \"Y Variable\") setLimits (0.0, 10000.0)\n",
    "\n",
    "// we can also specifiy the underlying layout directly - sometimes this can be useful\n",
    "val layout = ChartLayout(\"Animation XY\") setAxes(xaxis, yaxis)\n",
    "\n",
    "val series = createXYSeries(numberToCreate = 50, length = 30)\n",
    "\n",
    "val chart = Chart(animated = true, transition_duration=100) setChartLayout layout addSeries series\n",
    "\n",
    "chart.plotInline"
   ]
  },
  {
   "cell_type": "markdown",
   "metadata": {},
   "source": [
    "### 3D Animated Chart"
   ]
  },
  {
   "cell_type": "code",
   "execution_count": 49,
   "metadata": {},
   "outputs": [
    {
     "data": {
      "text/html": [
       "<div id=\"grid-container_dy0M2cCKUM\" class=\"grid-container\" align=\"center\"> \n",
       "<div id=\"grid_dy0M2cCKUM\" class=\"grid\" align=\"center\"> \n",
       "\n",
       "<div align=\"center\">\n",
       "  <div id=\"graph_eeMkPB6YNv\" class=\"graph\"></div>\n",
       "  <div class=\"animationInterface\">\n",
       "    <button id=\"play_eeMkPB6YNv\" class=\"picta-button\">&#9658</button>\n",
       "    <button id=\"pause_eeMkPB6YNv\" class=\"picta-button\">&#9616;&#9616;</button>\n",
       "    <button id=\"prev_eeMkPB6YNv\" class=\"picta-button\"><</button>\n",
       "    <button id=\"next_eeMkPB6YNv\" class=\"picta-button\">></button>\n",
       "\n",
       "    <div id=\"sliderContainer_eeMkPB6YNv\" class=\"progressBar\"></div>\n",
       "    <div id=\"counterContainer_eeMkPB6YNv\" class=\"inline-div\">\n",
       "        <h3>Frame: </h3> <h3 id=\"value_eeMkPB6YNv\">0</h3>\n",
       "    </div>\n",
       "   </div>\n",
       "</div> \n",
       "\n",
       "</div> \n",
       "</div> \n",
       "<script>\n",
       "var masonry = new Macy({\n",
       "    container: '#grid_dy0M2cCKUM',\n",
       "    debug: true,\n",
       "    mobileFirst: true,\n",
       "    columns: 1,\n",
       "    margin: {\n",
       "        x: 0,\n",
       "        y: 0\n",
       "    }\n",
       "  });\n",
       "\n",
       "var graph_eeMkPB6YNv = document.getElementById('graph_eeMkPB6YNv')\n",
       "\n",
       "var layout_eeMkPB6YNv = {\"height\":550,\"width\":600,\"hovermode\":\"closest\",\"title\":{\"text\":\"Animation 3D\"},\"showlegend\":true,\"scene\":{\"xaxis\":{\"showgrid\":true,\"zeroline\":false,\"showline\":false,\"range\":[0,10000]},\"yaxis\":{\"showgrid\":true,\"zeroline\":false,\"showline\":false,\"range\":[0,10000]},\"zaxis\":{\"showgrid\":true,\"zeroline\":false,\"showline\":false,\"range\":[0,4],\"type\":\"log\"}}}\n",
       "var frames_eeMkPB6YNv = [{\"name\":\"series 0 (F0)\",\"data\":[{\"name\":\"series 0 (F0)\",\"type\":\"scatter3d\",\"mode\":\"markers\",\"x\":[5667.97829645941,59.72264715117692,7048.024278699364,6299.59821574202,5824.020088916195,4955.693595364018,4497.695152342103,1278.1984605226448,36.92685822694885,7135.925868203247,62.54808956598579,8527.064236852351,4136.5105658346365,7888.148907094556,9496.88711193479,1921.8829533038938,6711.493435748422,2225.5981434728765,6226.2407744982465,5071.248712154603,5934.310236908133,1360.5656480148587,2736.6651083367933,8182.327763962628,5933.382019182879,9190.831601360309,6290.112906064279,3895.0006004073834,4157.260712491905,2116.908946172259],\"y\":[1254.9938258305438,2598.7020763845017,130.11603050346875,6791.235228220459,77.37532543458991,5060.636346425782,9015.61981715023,2246.150043379583,3717.108137270162,9070.988815473322,486.36045440433537,1255.7006977791607,234.47801512115117,7250.2220951619565,4538.493597567645,757.019977618133,7136.827313381457,5165.4836126645705,1096.4199228902871,2690.22412481589,9080.90374205177,2467.6165745348467,9519.853558904018,4711.48100930718,7575.532574009786,4887.210974532475,7455.72624598984,4892.1031447953255,3440.531239332316,1617.5895876562374],\"z\":[5869.948170312163,5737.22448291272,5951.616211783811,864.5736568455698,8549.127428169046,640.8162414075836,4837.376026779664,6157.329006190716,9879.922932996085,239.51145221333238,2593.2187515548253,7391.5445781560875,4293.79173739252,7035.899923903391,4938.524309130221,3515.6471076774255,4407.46036120852,4132.665282236549,6667.063344655166,8272.715412632988,2594.5371527755356,7952.136711154331,8627.072298837822,6475.199670091812,2491.2532009903143,5411.530693538432,9116.201849678597,5916.5155920664865,2769.401918441997,3182.3625952844604]}]},{\"name\":\"series 1 (F1)\",\"data\":[{\"name\":\"series 1 (F1)\",\"type\":\"scatter3d\",\"mode\":\"markers\",\"x\":[9587.882900592958,9213.030678132023,5402.124099695527,383.21002646168,239.4851515874896,621.9105668416747,4603.264815898596,6338.211337645968,5788.97053985525,5194.754936921066,638.6016983435084,1879.3921596204377,5545.567924018706,1503.8953654890975,4787.331404080607,6079.105238560687,4741.331064420072,4617.689733975833,7874.768222486964,269.58389167166087,6014.2637393543,3003.0941652550114,5002.296254989964,7739.804145664664,920.0248936080757,1598.2503038257335,3368.1895122127703,595.5560168715568,1398.060507911527,3424.779007572755],\"y\":[8402.993932308156,4926.82927131753,229.32728936045143,3798.9203106378045,5835.741896412274,1647.3197894356074,7696.609990149887,4452.620233523116,3762.352987735553,3154.0682940016964,8894.75951176412,9690.109346516238,9305.145138304311,5300.94250542783,2437.002629848416,3082.479910519975,9032.463859794549,87.88077286469131,6664.811827563279,1142.2118645828782,950.0168259231634,6938.5172266455265,3892.6413776451186,9921.562538942628,8580.571448075236,9472.00997780063,6705.171910664068,1543.17693680336,4416.260638304331,270.5982809515961],\"z\":[2873.5282115833784,298.23483149173825,857.8113687938571,8302.6196426835,7068.269379671351,2136.9054163338687,1647.5984221565077,2381.4152538406984,8220.770691063715,7127.825948263881,5758.492543509902,9323.763457781788,1120.951725097936,1777.783223800914,8718.061266467465,7317.176584150689,9638.128583839243,6979.722439013204,3427.7492246914244,3413.602307194257,6813.1014027097335,7796.665176620724,3679.2515214889854,9037.778086408814,3993.406933877708,3291.0699461474455,8775.365482503463,8931.680718120879,7170.00897311815,8173.622029578383]}]},{\"name\":\"series 2 (F2)\",\"data\":[{\"name\":\"series 2 (F2)\",\"type\":\"scatter3d\",\"mode\":\"markers\",\"x\":[6930.1862556827855,7052.226842171853,3722.51031981625,3172.3928651887845,8453.591903747893,7597.575963186806,6891.312734635494,7712.761793012035,7117.537896868647,558.092728111621,8468.971004825273,6750.446325926742,9556.762817241795,8971.231059116,2439.317866859503,3414.4400084790395,8074.082178627702,9405.3009289315,3591.7644610088473,493.61176549942655,1800.527761592403,8105.2854755013905,5499.5099278453445,6740.168930662325,4803.166381487253,2704.57882045246,1674.2210203503428,8465.14844497356,7438.510203521483,3439.7151694972126],\"y\":[2196.07028340736,2965.5402208880146,9017.010597643266,8400.867516216185,5666.851084138411,7949.615384409255,5674.204018947544,4509.0938975353,2945.212409228243,316.4720695880296,7236.6550832527655,9632.011984484456,4796.891972329764,8397.772715218709,825.9249918096923,1532.7906236405809,329.1440366146847,4084.095427584581,6961.365458476742,6193.042487673971,6877.393323243236,5135.278787449921,6002.622552929286,1458.4131128024146,4873.475796210737,3413.588847919917,8915.30725468391,1926.358643402536,3148.6478584428614,1780.4928503684657],\"z\":[6548.371472584805,7528.810815343513,1110.881703036962,962.2768416256699,5879.305666815261,1358.1301257845269,4284.786434861223,7816.696589230413,13.350740752856582,1942.9504835043133,8813.828337370489,8122.303707846762,1115.4982105235956,1401.2241885644705,8698.34486957307,264.04709333420874,1909.1253998830205,3680.975316504583,6779.183801781128,1003.1937929064871,1892.6980047331908,6444.976338406608,6775.617510462717,896.5752087968715,9006.04221494393,6063.763683003332,9047.518912996096,4869.61378951224,6120.275304727947,7652.11262629577]}]},{\"name\":\"series 3 (F3)\",\"data\":[{\"name\":\"series 3 (F3)\",\"type\":\"scatter3d\",\"mode\":\"markers\",\"x\":[7175.608987002949,2949.5376043114065,4430.552337905095,1117.2936723646264,5939.913124518834,7229.645721008516,2598.3741868492984,9783.137128652601,3825.3979968018793,3762.4398560920213,1320.2725219441302,312.13257838846766,4795.078607249932,2268.887339463731,7892.271637383228,1368.4998661468028,4744.724040594808,2303.041189944062,4294.598713096116,3748.3606216523303,7789.612376332436,1825.6877629336366,5338.699001455689,6548.85463399211,6332.610290785283,3017.65140663688,498.68454321025604,2356.239743978075,6724.1935422540555,602.8353042052936],\"y\":[4191.929691754525,9403.719085980232,9248.83507083437,9953.035322382355,4478.594901146072,182.94520032593132,7158.532966725323,5811.007328021128,9417.452442344931,4088.8516869380774,4523.064907084856,7595.23696423081,3645.450011800705,6335.665640729609,6777.891730813981,3939.294991267721,5141.039744343595,6602.657652348104,1024.4605127323514,7370.633413263189,3586.3707214402384,8651.391121207802,5373.978899604303,9848.115310832058,7261.022925608953,6501.933646938698,7924.570379163543,1254.5340371641412,4980.039152327883,3663.6958538532303],\"z\":[6323.0413400771195,5879.825574278256,3231.590142229429,9387.268352873427,8286.320428647108,6432.635228572299,6374.684158523251,9936.830888203525,1943.9600252869927,1182.3470991236718,9524.914199112904,3478.406220654484,2411.9174583356153,7460.6449751820555,9586.307608490719,4337.440314123463,7619.161185689745,3941.1177517099527,9779.929373185749,6099.891438863355,2082.474755058097,4867.387750522179,6974.961894966548,3314.210441355796,2061.1602424696594,1714.6788158376157,9145.563634964006,8397.302937626913,9322.17366205391,1646.7051689726575]}]},{\"name\":\"series 4 (F4)\",\"data\":[{\"name\":\"series 4 (F4)\",\"type\":\"scatter3d\",\"mode\":\"markers\",\"x\":[2356.8913449615447,3755.7662165224224,3607.545170086037,7569.214504572642,2826.2417912205674,9104.390532892012,5819.77506506302,1583.4605842651217,9810.35173014499,497.12843055248925,4927.217148382618,2207.35335617815,9337.473469597326,681.4289123554407,1640.290928138819,5858.96478866178,7132.917048713751,45.04173048821447,1020.697312147908,4786.544368655808,1479.3339427997664,3645.0996446381523,4359.629623081224,6881.131960633684,3208.08979064909,2592.4873611740663,7897.313956697068,7622.321807715818,535.6555130190754,7410.212622638374],\"y\":[2255.0273435245017,784.6799634952184,1039.0243790056952,6892.693705518125,1812.0813170433569,2471.768785945314,1706.736634655327,8463.583604657633,7684.078677025334,2546.687793600142,707.1775404438574,5062.955941128053,1445.0846517588457,8592.494963604327,1283.38686851591,9190.374123333717,9285.178104644943,162.82003372510178,9013.699395468657,6888.577211458255,7906.1808864472305,5272.439139371402,8570.115516114996,3173.211841584884,4132.184532795265,6829.534761030454,5061.373284640022,5697.245833020285,9947.830963538767,4025.808579695146],\"z\":[8065.278823498517,5284.402468476771,3476.1226384998067,2577.584243683694,3534.9229640948975,374.15743502023923,4268.873227835989,8150.469952893117,9905.997403016609,7391.5421500021275,8206.732760310117,9302.12316190175,9937.494665104765,588.1996077132101,3292.052578909882,9842.10095993951,9085.657942904085,2996.8483767248213,2666.681849429792,5634.733762003283,4541.129000225244,4799.504603077278,5298.115986373905,7560.420284797886,6451.807947364483,6630.518844818878,7951.246989769569,602.6849889072172,4309.034755615177,3118.6916129048327]}]},{\"name\":\"series 5 (F5)\",\"data\":[{\"name\":\"series 5 (F5)\",\"type\":\"scatter3d\",\"mode\":\"markers\",\"x\":[4299.289173641327,8842.801901502335,6992.261078791141,6318.428638355971,8326.288099304718,7520.733441046714,4547.476795367126,9588.100964164041,9534.94454465263,6260.592031395576,3417.2208762453206,9944.484035563042,6897.314839453174,2060.7823735709676,4545.090638967316,955.3419802456897,6972.274935661026,6713.436799384167,5545.239751272638,8827.940401177033,9162.469038711419,944.7080094143312,3957.4360122327435,1509.4604987326709,7694.784086126708,6756.937317997379,8500.821258695205,4335.998965845548,5582.227284737504,205.66960762256724],\"y\":[9194.603348453824,6050.041610325495,561.4065481627284,9158.940173604104,5231.4811278504285,5851.993158450051,6798.64238341501,4463.210387847374,1569.6830813986862,5559.560389589408,9019.072175414074,8379.780267091783,1352.0801928144922,919.4802608759201,7636.930648767334,1157.4677720557293,1465.9119304248957,2649.290892244275,4451.522173865763,5171.7840578675105,2824.237927053129,882.5477845072483,8522.223796761906,6187.801159952305,5280.310415197295,6349.087307249913,947.1956552576466,2993.3502379911415,9478.64307379896,7842.647283232676],\"z\":[5444.290544228563,9901.151154307316,4401.618573194542,8311.350891169286,8868.994048130751,1432.917002887598,9888.072387278002,1252.2714842452676,2103.047803518785,4875.442997542222,7980.349556426868,4999.492475242947,7108.7388054099865,4338.1288476289,5598.928686172408,4965.782310522086,367.6681387519376,9443.346720155354,3748.7671119721745,2931.2063333254646,6409.133712355766,2845.5173451453675,5229.113481272957,8067.705154725857,7682.100021513961,3401.7054957411488,3648.604313072995,6546.863040448884,8636.044626086139,6006.007121722915]}]},{\"name\":\"series 6 (F6)\",\"data\":[{\"name\":\"series 6 (F6)\",\"type\":\"scatter3d\",\"mode\":\"markers\",\"x\":[1440.0430690284027,5298.803162396267,2549.810010546254,4851.94626780702,3524.3333451975477,773.3416550181194,9383.908919077485,4201.5579843730775,6290.624917567097,5400.240700191383,1730.5631697727563,9616.783472589275,8639.798721918403,2853.6031174562536,3797.087532351153,3048.2588112751905,2981.0031623921986,8196.149543529324,5282.049582604294,7178.530146589525,9276.028726900995,512.3291471123703,7989.972730317973,7981.1834893251225,4493.886834576242,3734.9137394190225,8079.174692478504,9584.327168527214,3168.0355942103643,6027.92845574408],\"y\":[948.6608122035311,2216.3220512984026,2141.275524615026,9309.479004732182,8943.820955045352,2263.6042538774204,4038.4161684902742,8281.230759591272,4297.00726786868,3284.899904365328,9524.389771773103,2677.007160559448,1017.8972653578888,8203.08546334636,7985.569294170194,7351.174655184185,9809.87340943077,5835.3968868555985,9914.626022981443,2298.179004211265,9512.48580614661,9424.649639704068,1984.3375774349581,8727.809766396522,7056.377421645891,898.5783744577824,7563.340545393095,7916.467833140021,5465.901215915136,2211.362036099551],\"z\":[1256.890291653191,6712.915428090598,6055.963109288575,4310.85337650086,5948.282211163273,7297.6878419078,6643.472542499486,5026.984495539883,4771.655591540009,9078.55832552202,2330.0984649253487,9491.268639753453,8464.481444286077,7450.1353596453755,9211.861167195046,574.282456315266,628.1209674184196,7553.895005635366,4232.417558836045,2267.4531788473605,9567.409362095617,1145.631842992587,6320.728070820013,5937.437111627008,5585.305709012396,1210.5348993900134,4940.115713810868,7945.826944626788,6876.221628326961,2061.7839842624976]}]},{\"name\":\"series 7 (F7)\",\"data\":[{\"name\":\"series 7 (F7)\",\"type\":\"scatter3d\",\"mode\":\"markers\",\"x\":[2224.5623602206933,7253.875559276628,5491.726470804418,2316.7741670901596,3989.4127331758077,3321.3823125828258,7244.896654502054,4365.77156345301,3077.482116907406,7860.834496736196,5874.66261411688,6731.015633329138,5737.896901489251,8822.356200493898,2309.081101914191,5059.976094168369,8033.822541064489,1361.966050627178,4446.536233968286,3404.6851980278757,4636.559683384973,8485.099038740123,1516.4582069347932,9909.762754719372,6787.322825152134,3559.3007743872627,9786.218835775815,64.95738247439431,9694.337043754027,7954.4587749413695],\"y\":[3148.4462939806403,6273.728877982108,2181.723526593907,9695.880202948547,2953.0775582984656,4647.60315355903,3017.9664951768414,3204.990383217853,6341.045308545321,8656.729032592511,9025.587587401224,5954.369304340772,1291.5740254794173,4550.273355664507,9809.975721292245,5178.300640567004,9612.639703208495,5305.993470829347,2744.1577388041096,6656.96412276941,6184.224327739263,8276.527242621058,9707.611509485683,8031.84556969541,3906.5723052770973,6670.647219048167,4001.063066210485,1111.9059216577998,9010.739846395516,6540.922642935395],\"z\":[1845.526406205291,1194.4890442008416,656.301149756553,9044.946660524638,7922.68546090654,6551.913470418612,2071.154665045195,2405.4758350933857,8525.029667619705,7924.13794378643,7880.9527887190625,9215.54438834262,9058.000596465587,6109.847689170289,3730.754885743335,2517.809528790409,4872.719993432081,5562.7630259542375,9819.081304052183,8433.094186296457,5706.705571888286,3276.9184325185843,9544.624012970324,4021.2932290931335,4371.310416360302,5184.122019447378,8108.450632474107,6528.509672157648,9748.442718541002,6788.750532345283]}]},{\"name\":\"series 8 (F8)\",\"data\":[{\"name\":\"series 8 (F8)\",\"type\":\"scatter3d\",\"mode\":\"markers\",\"x\":[3619.6126451693376,4207.498030171178,2645.457545185643,829.49447841699,5019.64816320018,9494.188386769561,605.9380459086927,2384.616720055861,6971.549542573198,2481.2694450501526,4385.409184664336,1026.741996856745,1751.3431193276829,6350.51523584937,4474.860768491061,385.15208953654343,2135.502981654186,6708.737561309727,791.2797734894993,7788.005184926363,7295.00580445631,3617.9556523505953,2453.2199301667547,533.8634582196156,5786.906857212923,8518.57237600914,7420.770867347539,781.353018363593,5876.894445583025,8215.052609782833],\"y\":[3703.1089641969115,8047.744934746152,3631.3643912475814,4626.800694037374,4823.144990669372,6871.6923118216,3485.1263843409565,2102.6392699523512,2277.6127895825193,7322.311635014706,4320.939215753744,3755.492517676242,6842.266433336112,7726.254640964792,6489.644743463585,4494.580128921454,8745.686717324945,2236.36516478512,1654.7506374038933,1215.634727183884,3971.5229038750012,679.9694327354899,7862.892775689715,9955.352966190934,247.823331926057,4501.804226236312,6821.68024355365,5724.499756669519,1643.4400507833102,556.0374938864188],\"z\":[9009.009182658856,3204.783492328026,5115.316398159856,4003.7898688278606,4943.008520168893,5527.824904398582,5836.798516685038,2637.018540068833,7709.356089471856,3950.247160712572,685.9365428417264,7576.580604509392,2672.787523533763,3397.113334560351,884.0714229168145,9481.741407635789,5192.191844879348,7566.647728943798,5448.831412411732,5160.349664342434,6113.768499851147,2572.3700999572243,6861.989192533027,6783.35490629294,7834.303536522478,9944.488153167522,9151.460213180657,4784.294326666495,806.6905691014081,8220.58416814192]}]},{\"name\":\"series 9 (F9)\",\"data\":[{\"name\":\"series 9 (F9)\",\"type\":\"scatter3d\",\"mode\":\"markers\",\"x\":[6448.0486407510725,5963.82672815766,1502.4090815085044,7326.343475372017,7001.378687816501,321.3533936701352,8050.748547707104,1480.2713450837068,3625.7754014951447,3700.205465632438,9042.140876019315,4452.050169325213,6595.683913379484,8459.843268039447,4313.0489320959205,5662.388557349292,9121.554607402697,1077.9585925771885,3922.4285383334454,6832.923765869868,8710.933260849733,3837.3246087253756,2984.868615936639,6677.9326732459285,9955.841797678415,7566.697214355481,5543.085352884862,5475.318105662304,5586.349062124076,3782.013817298402],\"y\":[242.5260336926427,2262.536484580755,2991.5651713637435,7513.602005861257,4213.418855465542,4873.835581379724,2833.1232499203006,6607.050812391366,9270.680718878093,7068.374507943268,4862.533619098396,9349.860770571995,6309.672178851846,7594.505517277807,3602.631355896956,9902.935183030593,9605.871640213529,3193.6905566127048,3164.660831378022,205.4318162175106,2619.1120541075798,1268.2405696642707,6146.370802979287,7773.445084082541,858.1075473512057,8220.259667491435,6292.82192804123,1127.4449957206189,5378.573886639819,6314.882410211404],\"z\":[8400.436527983878,8460.348207901283,2568.3205089307794,5329.09789878804,1806.1494052172477,597.552895365333,2015.2785356617153,5218.152461631911,5727.342984573921,6302.221058049221,4459.497588269206,2564.731167240879,5704.585515019681,6543.54454038949,6097.7309926209255,6671.817383019187,448.009064410565,4472.68563565891,3839.3007218583684,818.3356720303536,7499.502568083441,9540.534472486452,8504.515065707239,417.38350975441875,4296.715657084531,7443.379242767747,9411.989224433644,2600.063830885474,8461.201196178692,2397.0396439186325]}]},{\"name\":\"series 10 (F10)\",\"data\":[{\"name\":\"series 10 (F10)\",\"type\":\"scatter3d\",\"mode\":\"markers\",\"x\":[4318.796277654833,1093.6315099035498,7431.850673059895,4616.965693629556,3257.4561033740347,6170.867306957462,2926.1040999692245,3821.2558651403815,3456.344774272687,1918.305089477479,135.25043065035547,9075.506097026395,5235.190445528693,2104.127997227966,5046.450625283306,6362.848411301352,5534.891568505746,1522.2646359495207,5832.954987974724,7889.496532009156,6570.980710014956,1847.4128078555452,5865.311853632767,1325.565618801454,1992.6296939429112,9756.420451967328,6570.184458266788,2932.8868312825616,1884.1684333678832,354.6633107454189],\"y\":[8099.73520113291,5845.992237936895,963.6751571963464,791.7549040313987,4573.352771899219,3649.3954687611454,1413.2660629993698,7359.130518810703,8514.829792402887,9833.752043360666,2918.2956122837413,4332.750149734147,6031.930468350825,5715.428730541541,7697.753268224168,4357.3702700526665,271.60823461588546,2968.4728176124563,7575.724701176037,8264.52965074453,5732.968436622628,2044.9192403234563,3473.860005887063,6874.611469584999,131.39523871490866,4448.827605283956,5097.370058148047,8554.029613591583,3681.0930697450417,5081.39775547174],\"z\":[42.15359557499965,4081.8078368522383,7899.615807237021,688.9622983364396,7068.230314391299,4725.509683018991,7336.79182993314,1822.6065247235624,7864.738752000624,334.6871208008684,7991.7766395115395,8657.624865746919,5274.3321552645475,1730.7189554581626,5605.793357038809,5522.969688355025,3649.8847748030093,5705.109547840356,5504.451760041501,5055.305766459132,8784.00075498455,1534.025817828113,3212.3610423509554,519.2340037002674,681.8920471016843,5075.049092823572,1674.0853502815978,4024.704933321436,2340.7753116847994,232.82685964578496]}]},{\"name\":\"series 11 (F11)\",\"data\":[{\"name\":\"series 11 (F11)\",\"type\":\"scatter3d\",\"mode\":\"markers\",\"x\":[6589.309639316416,9124.589639890282,1654.0101804045783,7863.507773261972,6106.425248313554,8589.835835563357,1575.783082150579,9033.547759497598,4917.557500239224,2036.584697233542,5762.219733688595,2956.680207789448,5659.39823398696,3519.0791017664615,3047.3828195942256,9903.544911850793,2448.028108350193,6204.1477399598525,4317.693048003075,5911.6726041199645,2362.2404895207283,9807.50045771219,9615.89287642408,9219.225687144324,738.7131217754672,6599.027601906926,1635.7409835142455,8004.100048529608,5253.694725662232,3473.742108301079],\"y\":[4161.21390679553,5230.69542058565,1939.7073950463307,836.9657224466054,459.0637080441473,9189.862611323671,3522.088779009596,3866.802988478282,7151.1589722060435,7663.244477738978,6759.032143486647,8093.911538828933,3673.1159748065966,9551.42242668588,830.1045628910009,9178.018427970086,6068.305529776759,275.9917624757757,3242.0553005098895,6262.5958197119435,6571.397066272465,6298.888445352247,3207.053593016761,9353.553984214124,7203.179498779313,9697.989894240296,4997.323370517006,3794.77075242186,6428.481876837095,5896.223791443516],\"z\":[5391.469087885152,9102.72152959635,2821.5847674633887,6362.111921973753,1.6176272231749333,5174.433531356702,8638.60323671634,3382.8881588457307,3006.827810419688,6197.436892231653,9213.890943446873,5857.027558364759,3617.045309320208,1467.3424835954197,1177.5980009363407,3461.226378676765,453.21470555688137,2758.1239326515315,3634.0923371950785,1517.5824687761296,1952.9803769361786,9892.140616480412,1646.0309546512008,419.91685982707304,6897.743127733148,9721.384877176337,636.4486721709251,1573.894335462731,4205.664555304859,8858.397485880669]}]},{\"name\":\"series 12 (F12)\",\"data\":[{\"name\":\"series 12 (F12)\",\"type\":\"scatter3d\",\"mode\":\"markers\",\"x\":[3651.3064509505234,6463.7924497228205,5246.539615170549,7184.742013852909,817.5220758044733,6679.476772738891,5108.283452623948,7416.883003304732,1786.5833970128642,520.3457036660752,1481.112933950014,5823.771093275778,7471.421962450792,6138.703249088105,1124.326168834685,567.3843040881021,6964.3035792728515,2093.2311844060737,4241.911058859501,7076.931614678569,9166.07035082778,3653.925891669677,6517.047131109573,4369.3798163649335,6362.146484766467,7233.076854802012,7041.886633569597,2293.411433887309,8748.299748643576,5912.55887052343],\"y\":[7927.835816065949,7300.882770635752,4739.224558129951,6195.918898864925,7992.877482850451,3539.296759480982,1785.5978605387147,9834.440418363234,8596.311976905057,6810.764638856524,6380.328996678742,4859.568830289463,4427.617578481943,1257.3784917459086,9952.309240395902,6799.786685033408,5854.956431336932,2509.873946610468,9426.040544582607,4468.230725535988,2300.191215552855,6475.910962658275,7368.106430509019,4678.046341618106,8031.090185613301,9946.260574758937,6846.516655162045,6775.674683858974,2747.7414049584104,7761.630231685303],\"z\":[396.54748869258907,977.9747212131895,9389.015154278542,1409.819727534023,816.7680667118016,4157.285468929253,696.2453132977587,5612.350901365818,3911.5250697485026,2939.232462543001,4245.129027443446,2711.666801056315,9751.237129452085,6761.293104998321,2893.1703636839634,9484.44868196649,9539.425825016417,2885.8279649721508,3888.824192430538,7383.556360665007,9755.490705495868,1269.5025196070908,5249.82166799971,5150.543124320374,3884.8105763368158,9661.71107978636,2441.9884024963667,2242.657727642452,4752.83871283418,8337.831613490545]}]},{\"name\":\"series 13 (F13)\",\"data\":[{\"name\":\"series 13 (F13)\",\"type\":\"scatter3d\",\"mode\":\"markers\",\"x\":[1876.1961177448195,2582.693636102671,7247.425459985471,9468.83384451958,289.91344869498613,766.9994151449022,2043.693593919389,8286.971645930988,691.1517923520338,7056.421188993583,5838.360382866986,1927.989783020746,6216.430049128684,3226.894988427338,2555.480513249645,7113.482668972618,2990.708682669414,8670.866373291601,3003.1658060899804,9682.74228812518,1876.0763292372874,5017.662514668314,7540.911403866116,7391.635440058568,6857.291102119335,7980.398815130258,7459.737567194907,2366.758005466555,4736.118181877896,7138.951593093036],\"y\":[5982.4366159739375,1136.3123229856665,6792.725175529225,7932.988240332741,9058.787387173785,8254.856107823432,8121.227316224438,5265.987522997392,9460.685871988155,4197.282704557397,4457.8040878240245,4810.652125551505,5074.708103000566,9418.084088624111,9493.63506072151,6358.049208074367,3744.7105675820526,4255.159997906517,7901.232172895514,3367.28955017506,2534.6449388179217,8703.136253915985,601.5721249644046,4249.487895953957,8861.840091614642,6989.357324489697,9160.763281553305,3859.2165621781405,4593.59116972492,9356.425019882512],\"z\":[5628.806499781163,8168.606555107663,1904.965173090164,7488.353043544982,2619.34115611139,1163.7127459031683,1463.3130093062596,613.1172464062995,5978.091563033684,629.7036352674346,9335.06100253219,6472.57688802094,8999.060305253073,8680.895273524744,8902.922298364945,5071.45040762715,2821.34126427947,3643.602280108825,8036.761273280019,3400.2321225992173,2375.754883210779,2214.2275204818475,9778.906072829994,6172.637179209104,1049.3361856666484,4691.970153958552,6884.79715668868,1026.3645573251922,97.02982007259942,1524.98068729787]}]},{\"name\":\"series 14 (F14)\",\"data\":[{\"name\":\"series 14 (F14)\",\"type\":\"scatter3d\",\"mode\":\"markers\",\"x\":[6702.427341470153,6606.676447014976,753.7833871740818,6410.748641596228,3079.1125802576335,8485.48973464911,7986.54818925721,9755.957072695068,6251.7087590884075,964.3780503037058,4874.5337590634,6427.998296544005,6.468705082378623,2468.094264293005,5717.38451411485,3419.787852488123,7787.311067136644,8455.915166329718,4144.775542823855,6301.47817932681,5886.350834299255,8561.320463077405,9737.25926629469,8147.119299075624,2368.12059512849,4016.220664662109,2967.0112452496955,1001.2675257188253,4958.988488249236,7324.1481134547785],\"y\":[3628.46448135371,7890.0000724967285,9775.856726214208,8617.533067958402,2352.636234401919,2882.74388468602,5473.303740676157,2167.3857016333595,8285.294924683545,7775.778824006051,4155.911906662105,2109.411055213903,8557.926018576713,6595.231604964227,1232.5969870632514,8608.78502354411,6791.79763895684,3306.8291389765823,1282.3387533948628,4406.524751924599,8549.248634387268,3871.630116116783,5955.786207998934,6973.588166773194,1382.6485692225333,1101.4114326127321,2954.792592494282,3344.5390924001485,5930.312348830937,9644.336702575105],\"z\":[2212.00912219309,3110.8235134275596,2369.974535775432,8870.985174498783,6535.247931630568,24.39846724036854,3464.26219572199,3432.777016302312,9186.403025436137,4195.660740631457,1418.9284313656292,4829.28262008678,132.29399558001953,4965.329952868546,823.4386060999999,2447.851842601383,6034.873870790472,9188.136620744093,4054.8325601118763,9228.46062889882,6440.829094385906,886.8729205246461,8699.607257151529,5358.617909562116,85.66543749885413,6018.567781978195,8784.701049422481,3217.6363086239126,744.9617100412498,440.2491178621149]}]},{\"name\":\"series 15 (F15)\",\"data\":[{\"name\":\"series 15 (F15)\",\"type\":\"scatter3d\",\"mode\":\"markers\",\"x\":[2907.478391144155,8166.5117772090225,1645.5460298580383,69.95813369029213,2715.955581735611,2719.126715668858,1091.9312912199464,9709.388247614499,4614.321376149285,6132.428412862521,9668.418412641551,1027.7180855980205,6055.145600899983,7517.697978814317,1144.8631239400497,801.9173995285278,5328.492983570136,8201.97280200133,5044.171094872211,7667.00319068942,369.4853773626638,8258.142213890334,8722.169299110192,9350.428987500878,7779.6882089894325,2874.1877819823226,765.5813623940444,2647.9906076782213,7994.02169468818,6546.48975679088],\"y\":[5531.405749000398,5244.340838027452,6323.726821440971,6959.08084374831,731.0815400274806,1889.3994481482212,2467.2438710234114,5850.17426317782,6105.40087536116,7412.658090013404,3004.689906543404,1169.25346140906,1441.2026835535785,5590.573329734876,2377.9484624221304,3392.4573826299775,6448.468050912005,5977.952116674677,7907.215490781102,8990.952044041484,3346.5072568169585,472.4326160975556,3506.1704361495003,5736.431971198036,5400.512077999588,7601.866502108319,4931.770269085248,7779.848316425282,1104.8240256177332,5307.613696455111],\"z\":[6640.996662653253,3253.910326603533,4226.84449384976,2342.4647617216797,6625.70585244777,3526.865615356749,4505.596500164693,4310.1030089556025,958.0692674909186,1174.5136533278544,2441.5189238007197,2843.73140371969,4202.912906936782,3239.3595788092935,4319.158977323889,5454.682341088995,5339.595064428875,7410.274233718481,372.000552377848,9177.538711160356,1384.889423955762,1382.969640077546,9828.750992894245,3296.495272082012,2519.6718147522247,9851.06360663199,1472.9791999637798,5158.390916283454,3196.0288190171104,9329.450623737508]}]},{\"name\":\"series 16 (F16)\",\"data\":[{\"name\":\"series 16 (F16)\",\"type\":\"scatter3d\",\"mode\":\"markers\",\"x\":[7303.0840116269155,8361.04868278078,3437.745522344523,8326.156069072653,9897.14253361593,4451.260605314163,3345.947451633604,9255.79899291445,1167.272878853547,7674.960762582351,1683.0086900124898,8927.24519818871,1330.718080221136,7292.827758847925,6331.6588282203165,6439.9852053593595,2129.9419126324747,3507.769215403339,412.5545661785923,888.2211444632304,7601.598707894509,1146.434254361508,2892.4092377331044,6398.605759250232,9024.323748213434,9895.111764798996,6626.0975309340665,8717.023785758432,8067.864788666311,1111.0680357526503],\"y\":[9949.987669871707,5811.76497060863,3621.156417887257,9013.589307459686,180.0745760694289,4774.883590869693,3294.5127164749433,8404.685529622344,8667.321412812282,8680.502670951031,171.19729956181385,1977.6289560987536,7423.939294673779,9998.262525533293,9026.20426010858,7742.190909044675,6758.170552826441,1662.0774945363926,3935.161726810622,1128.6548622670578,1841.4593861122141,2958.8082651544855,963.8502249096103,6928.3778788118425,3680.732549234217,5028.418740079748,5458.903180101848,3386.88115438179,6579.83184868746,9956.631886531495],\"z\":[3352.8380600070773,4486.151763335423,9847.972416727982,8193.059680042948,9851.642628436728,6736.040022405478,6249.430367567952,1342.2259536265724,6890.718300501551,3640.341818022428,3487.4873788347813,1251.8662709478344,2825.06446264575,4411.356825771144,7876.991396190446,1762.3299659100544,3962.1608969779422,3477.4170004530556,1283.7201089437888,6482.870487038465,7751.087409135501,3861.0842874140694,3395.057983573534,4525.060754880777,1708.9956512184724,601.4169848238548,1435.3345635669468,6250.523199313159,496.12630071260264,51.90951315128367]}]},{\"name\":\"series 17 (F17)\",\"data\":[{\"name\":\"series 17 (F17)\",\"type\":\"scatter3d\",\"mode\":\"markers\",\"x\":[8550.489559383705,2779.616808945581,5943.146841915793,7106.412475547048,260.5648734750232,6259.679026002623,1289.654359876321,5188.544185635701,5614.852333347777,2705.870312465154,1410.2772278339648,3185.8051878594106,5983.348540662317,5604.624574742072,5384.879412514696,9417.814130817591,9779.501575591374,6409.160424003094,6411.950990676638,5198.782817930187,5833.061186810579,7558.463173065845,6769.349275331216,9587.555700413903,1618.1690188869468,4715.5977797893365,2294.130730604356,2514.2375076762646,5090.660450420902,7548.168923082729],\"y\":[1683.2928058969233,5630.637179974872,499.8676179665229,2563.195610079999,809.8203863402887,8952.46498941924,9214.05411761578,7260.621612338591,1203.5164035091561,6644.411548461349,6334.926087318801,2184.137081895736,4863.664945975385,7144.952990098408,2675.5047776458387,6324.936136288393,4650.661779199532,1235.9191714513174,9536.965974166405,1773.4946283497,646.3208320690261,6632.573323459486,643.8822883073492,5516.39803888997,8077.6420263575865,9203.148318510925,1583.633613537122,9839.71005848332,1666.4107328825662,9022.49049676406],\"z\":[2144.577757915357,7927.318007177817,4597.067249236497,4122.668138040844,1058.8993495959132,7932.151431338433,7687.872665522558,6024.097162620191,5829.891148602375,7050.118043916335,5805.470000778945,8913.94741905707,2559.7365936689353,6941.056754782662,4080.5166703019936,8684.292148205659,1992.7058350584537,3217.961334626901,6062.147672988245,8950.667738246699,8349.993475655372,4665.17803412498,9591.602870904064,8642.410870943608,6956.260062814214,2348.2384585824466,3880.429334567962,9789.349462658418,5144.268988706095,4842.437891706756]}]},{\"name\":\"series 18 (F18)\",\"data\":[{\"name\":\"series 18 (F18)\",\"type\":\"scatter3d\",\"mode\":\"markers\",\"x\":[3046.2527350348823,4725.120818164011,8472.83109887423,3434.2233756741857,7189.1834885028875,9085.596747676653,904.6073524404097,338.91220799938117,1984.5055565160862,701.5971897229933,3264.141646273353,3730.2092310409907,1722.3759579381326,4768.279330086842,9032.821376992804,5691.449291760235,8742.831918998005,2519.2878793404925,336.3042408575201,3075.4401660808585,4294.493851488579,4041.960459630438,9841.258329643573,6699.239849341976,1987.919067970716,5840.582074064474,6202.11238229779,1302.1477621246702,5219.6450398528505,287.8845220261816],\"y\":[1684.8210979819744,7259.649825328851,4210.539131689798,7200.69544741826,643.4941921449666,5173.007038792984,6632.146785184069,7433.836751594262,6637.056586733846,6143.627925903365,8187.311764932869,4607.082574854701,4146.938468520622,3793.324880146982,5966.417201922488,3863.1865748031914,8093.12362066175,8906.001163715744,7918.176552046249,5900.690664660856,644.7081106880237,3943.271116788566,6353.980433827466,433.43122970691314,182.45415331467396,2625.9709062117863,2047.3838374714037,5699.366797558803,1694.6510066161957,9275.466105596182],\"z\":[8195.397214257091,9674.543975528799,1373.9183404018318,3673.1203074999207,275.81999076275787,4243.731054512741,731.4234312864243,9823.238089989412,8664.93772940321,5737.448827272292,7156.306756026976,1194.249256497567,5772.478232978156,3965.8275024705727,8521.935825337017,764.8611276708806,8405.80301260634,7162.927694236761,9176.944855411888,1516.344517687962,9092.88648659936,2100.8653430443082,3457.834884208546,1889.088582372034,7173.713503091754,7041.274928278382,721.2461823171478,1161.001271733353,1612.3070266483796,162.36599365361815]}]},{\"name\":\"series 19 (F19)\",\"data\":[{\"name\":\"series 19 (F19)\",\"type\":\"scatter3d\",\"mode\":\"markers\",\"x\":[2817.835329158238,1707.2900608249297,2686.6712207686396,7633.011046653261,916.0238206313876,8665.608277129886,8981.517383500264,3601.0228182014057,3632.71089446323,2657.510442271073,9438.714264939399,9020.969964730391,2539.3669608661585,7906.605782098523,7612.988541656828,7467.591437474088,4285.761701977435,6345.758807223617,6735.470908124912,3864.0687466968193,819.8985792547453,8120.134144844361,9705.2704065226,6400.1191989806375,481.56465163528117,269.84092090500013,7709.329385149562,2823.076519222588,3108.224899988149,8315.379236640672],\"y\":[4813.397379697836,9755.829575754678,1715.8249676425996,9971.049560081425,3572.033107383471,7728.691332690439,1803.3898815717641,6275.9342995035595,8473.127516602694,5207.97178746723,6879.137093569808,3059.022091885325,9862.51628469868,2062.239603301066,5417.147707515949,4844.483811372885,886.8271383720083,6627.947166543449,127.47091541930212,4055.0816050039853,3947.790653612141,819.3107204550109,5158.863616617576,686.1265718738085,1178.8131052360407,4573.0294916709345,652.1923254460771,1499.3694372035282,5534.696729550361,4326.63809996071],\"z\":[6923.858958772214,3225.648851486791,5227.96559190207,199.98552148069894,2482.433584262833,1267.0863681419276,4450.33199534213,3082.539192964003,1068.0098429985273,3954.060272346228,7585.424838750985,5924.913621340634,2952.624952700207,2539.1518860621663,2448.9674322173614,3191.2295309447004,4851.413848004252,8799.704530094312,485.18181363724653,8649.6093237458,967.9986551108077,5372.594103453434,8303.266817075266,4461.319218856189,4933.936173632076,8759.25784852765,5455.37856778639,3874.7722134724604,8700.881190441874,1315.9854672185445]}]},{\"name\":\"series 20 (F20)\",\"data\":[{\"name\":\"series 20 (F20)\",\"type\":\"scatter3d\",\"mode\":\"markers\",\"x\":[7937.6204158173105,5738.807478294328,9805.44828790448,6483.928096027136,5538.127252002952,1520.3664797530714,2850.5814019807476,1015.2328896277396,3861.4039947352653,4544.887452567708,4533.571714604577,9016.165890886694,8625.66394921204,6773.446471901133,4099.691886719875,5255.038414172556,659.9788775691784,588.8711386084677,2711.739047536503,9372.202189153262,4920.646811088038,1783.7613142766295,5899.613762948787,8381.340458210216,5801.242703626842,5226.550755415075,2990.3844638733976,2165.7215214253065,4028.413239183378,6527.449693503525],\"y\":[6218.116789084281,5550.0492878206305,7515.543708853136,1434.3069355069038,74.07768538165382,967.9870858557738,9689.005821828296,9659.139097347512,8381.74820510753,7747.38907644647,4006.7748162575945,1369.2744611465612,2567.411350249499,7599.728130405437,2656.783331836381,2672.759053543502,9645.9038542413,1027.158042069991,752.452683490541,1085.8836059078226,2552.4568618956755,6050.102627842913,4735.425974746258,3191.3846596378526,8625.370858416636,8910.221473188696,5150.602091795461,4479.0826624445135,4280.600391119831,6218.046943136011],\"z\":[9476.149031965797,5706.419281582551,5218.158608911858,9391.54816976804,271.2526867731091,1024.55964253238,1861.5691060813544,5171.326465306155,7546.936547240791,586.431743570861,9155.427420219055,500.1013096371376,1970.3630162611985,4386.272530035404,8332.46534143859,6118.5983818499,7280.609126308704,4675.959047520063,5810.327957736417,856.902983684974,6123.984016665766,1461.602273072493,989.6163224435517,7789.800642305088,3409.536082549107,9304.586591929474,398.564289114457,4176.573948085759,5240.474136333239,3934.4396096695377]}]},{\"name\":\"series 21 (F21)\",\"data\":[{\"name\":\"series 21 (F21)\",\"type\":\"scatter3d\",\"mode\":\"markers\",\"x\":[366.0533555279555,9420.17746950182,9494.806222008827,4026.620579303918,4203.494489418348,9157.673424846342,6208.577874770287,6906.519689655361,2737.4353282388875,9033.25509254673,2057.6684691889004,6911.662570214035,8958.578148161545,8707.141020444964,3439.1831300501117,1677.3162576387901,8539.224693112854,5218.0811148188,6921.05699950038,4706.400649666211,8019.985825960001,4944.159111849167,4158.565184404569,2242.8064540989467,1577.9326409916982,5096.038732333597,769.0097700961218,8687.928430452199,5462.181671507278,8928.7475299427],\"y\":[5110.93473199752,7583.422693291766,6419.244097060698,3672.5480981670867,3431.7969776307323,4528.904794529285,6729.293278044429,6560.40047049319,2428.0988964659045,4311.499322243572,3835.8333591536875,2268.968357975891,8904.568558173214,6994.8679067810845,6975.078872437834,4592.0812624864975,8924.048842427823,6748.530296017304,6697.686897564165,6230.011832741272,5607.336289249044,2794.0133474717377,5724.306288567876,3204.8848494537197,5572.288367467952,4002.548032213803,1187.7419752388719,4601.984842349191,8894.098789672318,7399.753101493274],\"z\":[8988.35568078683,4088.6838371342105,6423.711192840938,6115.937519225398,725.655744947663,6977.164485465353,1318.9283299059973,4166.361599934407,2467.8573744107935,5474.065057374113,8722.846331292038,3853.9968097796773,2482.51668605577,5199.626390858226,8666.8243958496,6558.029649889881,1975.1803107768917,8060.876152388273,2480.276642532497,9204.55789978486,8869.310429789119,127.83536333214718,2257.152248240123,6811.629840335381,9709.579429092564,8288.688756756015,6259.048688170211,6158.97919852049,8881.954145298761,6149.310884685481]}]},{\"name\":\"series 22 (F22)\",\"data\":[{\"name\":\"series 22 (F22)\",\"type\":\"scatter3d\",\"mode\":\"markers\",\"x\":[527.4770085010039,6853.514036469746,7517.818262172022,7894.49413049414,8432.884286545364,3844.821876551291,6685.709523758332,8642.680063408174,5405.605329242984,9790.648562006258,773.0769509318325,1202.942514443417,5674.0056952897385,6580.524948192433,7321.789203352819,2082.432303213658,1477.6467448736264,2796.4046270766594,9004.95875099107,4094.4387085506373,2928.38728075095,7922.388767200835,1918.9665978867808,8981.683590253684,8459.910262292231,4711.31399707228,1913.4084399976325,1096.4073049509038,1636.247464745466,8274.180376910403],\"y\":[7293.005238469013,2368.269959023256,9982.44389128434,4179.103213254956,1899.3536873694138,9543.037617740612,5455.591647113287,8129.674193281984,7316.716026379818,6989.474982066201,4192.033792179654,6638.3179250840385,6744.8822735312915,2248.8256901534987,5246.619969043953,1518.4393014175357,5943.457985037278,6940.709576889831,4182.474093148866,989.851613667676,8575.76927507465,2641.219174199313,7574.81083916418,6725.186918515098,4266.89366588352,9913.454265111486,8759.918019732897,9260.688850674336,7739.1638991707505,8797.683581064533],\"z\":[3490.495353955474,3852.9887822734277,6499.811443346065,757.7761422751006,6551.126678892289,5084.178340688246,2729.250754216935,5332.4993481192005,6842.731224812062,1300.6814333331952,2254.828759421693,9554.733450075424,8962.423979501868,9317.145667827277,9793.697102692098,4578.6024838822295,3885.2930569410128,5724.766033176525,5009.78654138119,1893.9811270151185,9997.174106084229,3614.159877019885,8353.698424508837,1009.781887573753,8432.589157036808,2556.119654647243,9140.649225671385,1551.88821757559,3439.588910120085,5279.265077358312]}]},{\"name\":\"series 23 (F23)\",\"data\":[{\"name\":\"series 23 (F23)\",\"type\":\"scatter3d\",\"mode\":\"markers\",\"x\":[870.4361465186894,5348.545732077849,9323.31538193874,6641.827015961354,404.721878111588,8265.480739444238,412.6846904670467,9215.492166500157,8290.75725875467,7304.968740345472,9449.66373028981,5082.447775806266,7256.997874885337,5797.522900535681,2818.193864579751,5292.45955385554,4704.891833735872,8391.835202752567,8109.893134667421,6835.030074031822,2882.447665849084,7988.047210611644,666.2479473248495,1952.3774599912947,7349.018094912556,8761.38546762385,942.0781445478033,6152.184466956141,327.0636492806822,2987.648390893808],\"y\":[3802.645460216626,9374.7692148436,585.488889908119,4508.98380717526,4196.846310335754,9427.529612341634,5610.471456071846,8367.851849991728,1041.5120236526266,8020.220183362785,4993.5321203627645,4389.017104719131,2606.916755071933,7517.821841407404,6202.922597981675,2303.871107999479,2211.1706508176153,873.4664745829846,5203.2365253437265,7388.337124484474,2611.254990880254,8112.083474706275,4749.476915310243,8525.06277641476,1121.0331466197322,206.13905462939064,2605.6375307952017,5102.5590136460405,5191.6522199366855,5218.038666471424],\"z\":[424.1932803822301,5228.396977507002,9957.32206215949,2179.4714708480788,1571.7119542896362,5360.529468466849,5079.545145597455,5336.17260283628,2797.134533508007,650.2517362823978,8115.440143065749,5107.288074169824,313.0985872335224,6042.2765435955835,5590.887141171193,2391.725893270764,5597.004437259886,491.84498184146383,976.7967967051461,9699.581617445165,17.35441236481283,535.7519287203272,846.8840452582004,5994.933349620786,252.2256804690093,4893.616640084768,6637.906653953935,2106.994062124079,8390.557592736457,8777.681322404536]}]},{\"name\":\"series 24 (F24)\",\"data\":[{\"name\":\"series 24 (F24)\",\"type\":\"scatter3d\",\"mode\":\"markers\",\"x\":[9638.406399716823,99.82577212239718,1593.2736630425127,5153.874976103068,1099.5683349284068,3086.5137178484615,6240.074515109538,323.8329077428492,7691.891026651107,1631.9014780859309,599.0775516980717,2887.014974341732,4923.941549100917,9108.701280732073,8230.298224154452,8394.017100971061,7594.54398399715,1154.982690848666,1570.3008790238425,6816.628055776285,6867.330117657016,3726.7561812626204,1444.1739657616447,6337.131228452311,8136.65876467777,147.56985768481945,3612.31369750156,4898.809206555424,2496.4873348871884,27.734988036745012],\"y\":[7883.323273679681,461.5590994241814,7328.86006526938,1959.005363486933,8810.67206267368,1970.9786566799637,8296.25207603256,7486.237823116784,9539.578666997715,5676.241439608757,5852.0879577261885,6015.7582932971545,1981.9126102613882,5621.526790877273,4276.33303695355,9040.871629493613,7170.742851381663,2887.7258864716005,198.13241757654754,7348.144616228871,9382.477777896951,5475.599206722251,585.048991500201,6713.804979845748,6413.383523005722,9598.512436725914,7258.534159723686,6007.794816386278,6258.58338508493,3592.3300806237335],\"z\":[6137.840142273164,6593.725576759007,7365.476699513041,7652.004164454936,4619.659723608882,3446.179990561038,5619.841663364181,6168.838596059042,9768.362548473395,6502.514165021408,6271.711539592323,4569.377535826895,3321.7678764564007,5424.5110460168235,3119.450183686391,9246.301288541325,6909.978694872805,2165.9462296750585,444.2683089054933,7423.684597467192,2339.8766919685563,3525.321794623494,5423.763125744395,3613.41096388306,7315.454620981969,208.73542395709597,51.88312450544741,696.4977136776251,6544.245318452187,9836.049161041383]}]},{\"name\":\"series 25 (F25)\",\"data\":[{\"name\":\"series 25 (F25)\",\"type\":\"scatter3d\",\"mode\":\"markers\",\"x\":[1954.0519835047533,6602.537204908776,1822.6788351155164,8794.22868520113,2910.0110609732033,2062.4123333169787,2398.2825504597317,1874.9237599090384,2383.2729712416676,973.8984526280736,8674.213655948735,9229.069143499639,904.899685791557,2546.717343945728,8151.694057257804,7329.481303020066,4770.652471157687,3583.059410423319,2398.4923436208505,4353.1358126232735,9184.387661922608,1.5476744852915836,7786.682095840018,678.0095070527515,1716.8996657554026,9027.066662989537,760.4739295772112,2035.0750504104287,1748.2384734494915,7345.831460709404],\"y\":[475.0091892678909,6264.24178240196,4422.864476073968,5964.534097912466,7789.568734676838,4593.734342744974,9570.822347627758,9514.341591940667,9803.738480469523,4895.610362020231,7034.4492784023405,6304.991394151362,3392.6467082749546,7465.813472841309,9888.961123072515,5561.167902077558,9527.463657890194,3535.371864451103,6156.586187589603,9962.806792783489,2559.941801324385,2940.0422143443107,7787.744145537768,4862.920940912052,5104.839598502602,158.91668336289632,2919.097990813233,370.9989788987744,9671.663537629967,7278.199833480765],\"z\":[3717.133442786964,8866.978596974122,2777.229381285783,8344.576762387902,7477.2483359437665,8450.24817241451,5913.130262898561,2043.2884444962785,3072.1642483543997,2330.0895626013316,447.2753149074948,8669.241135918439,8329.797395721593,5228.419394053414,306.23382010849684,2955.1706607368733,6469.559051190707,492.64632808008855,7115.2117933874815,6479.095508298285,1337.3765840055296,5805.912698120716,7365.050801393268,2093.9867893589317,1853.5642957301145,1133.9387898303544,130.728592051923,8105.794432497059,5823.990573187746,9862.149240504243]}]},{\"name\":\"series 26 (F26)\",\"data\":[{\"name\":\"series 26 (F26)\",\"type\":\"scatter3d\",\"mode\":\"markers\",\"x\":[6883.412285631726,1771.6625335673164,2063.823811553366,2953.7024260790668,2018.1978727022777,98.38243521187007,7644.46443586555,6398.509538155094,3862.242369062172,891.8202896969595,3998.099512794319,4225.2724975230985,1133.0792472559015,8541.273618059296,1600.6428932659323,2913.0315218742044,9084.4811979087,7118.404630508741,8002.654862074408,8165.657257851544,2907.3138591016614,8028.603027063963,8089.159568019219,1702.1868993307232,3345.403778912687,673.3388618110258,8623.110968560743,3967.843494273301,941.519223724715,2365.2634179260936],\"y\":[1363.583745318312,8485.043504643343,846.1442417874765,8083.520785086099,348.58999536816924,4940.643583123629,9701.799140604962,1564.939293664016,9293.76172049606,1045.1279046195327,9758.244354575574,6697.470604425152,4481.954330290736,7701.402521596266,3078.9804924491173,2215.4490853991647,7005.161354644284,8085.301078884464,467.03216613028786,3291.9479766419536,5768.961037960296,8866.871214948365,5568.088934080936,781.7111526756537,9281.03505366186,990.9591343145663,4501.64667097469,2588.84331975926,9919.136843668024,8187.561723509988],\"z\":[5325.876404636645,1916.6426114368328,9110.211058954128,3696.8722435365344,9659.522193869483,4002.664178534171,5651.18996319691,9570.896783815722,864.2126889075153,6350.307187591534,2263.329829792875,8352.972054273205,9333.140864256226,7438.920495617808,7395.770957940998,3938.4665514753215,5637.154483017265,5427.621029786611,280.3330958792549,6984.404857116434,6546.869634622322,1463.730257567768,7288.394980851671,362.7027194325816,7279.502774665928,1864.9308166733358,6752.020497473706,1841.1565116774632,5711.692671645836,9664.949140791308]}]},{\"name\":\"series 27 (F27)\",\"data\":[{\"name\":\"series 27 (F27)\",\"type\":\"scatter3d\",\"mode\":\"markers\",\"x\":[7585.33692193453,4428.284672862867,754.6625146685171,8795.77719010358,4278.486979570652,9632.567387270372,7605.650880300755,3525.143913004175,7135.312936424246,5263.590740084951,7169.616656618809,1676.155092828524,1987.2525047208424,7342.046968863618,5587.803338588478,2626.718952230103,8039.760683924799,5187.503761813739,2514.826231726608,119.58307356035203,5993.8949412990805,9817.300349484958,3553.520391419399,5509.50617668853,1134.5309420786186,8416.887837925644,3086.87114336201,9232.295000614806,7688.004024813723,1831.3814007153674],\"y\":[8638.922957792922,7001.136762798084,1425.802252499776,7780.044654499323,6851.640740651833,2518.8663215008855,7227.260021992515,9809.881787719223,4182.279513433344,340.50054880082945,7113.03223111024,881.464387658385,2505.8901222604145,928.5874901116886,2122.45983811854,919.5721850682614,950.1741854428413,4914.61068167095,8331.757573143368,9663.184280844574,494.9729433335015,5112.897369434932,3296.2945698798653,9713.804487277584,7136.2573466231825,2929.1838006554503,4249.054224285254,9808.063708066109,2744.563025952932,464.18751780361475],\"z\":[3498.696550340896,5029.990103712497,140.39132646353812,833.247876186669,9644.47280295618,8930.29351361549,364.1778557608055,7006.291880238902,5461.564582164804,2334.4660375108683,5636.00538316084,3818.0910522522536,4609.258435522778,4998.446578156306,1080.3172336763444,8706.974059504382,9675.682350956973,9210.060336406981,1933.4693499204147,4210.865026572711,3496.6707599954307,8936.386582109453,657.0269616144698,9282.722590604466,4172.642663666555,4181.671222804702,147.3030056297342,7083.151771817999,1756.213930553756,7847.345418011216]}]},{\"name\":\"series 28 (F28)\",\"data\":[{\"name\":\"series 28 (F28)\",\"type\":\"scatter3d\",\"mode\":\"markers\",\"x\":[5061.703140809282,4066.1703421537854,1194.5866179574382,1575.1708204337078,3175.027081380174,8894.811379044228,1784.5905158095409,7806.481677919442,2633.9480792385584,6.446307681968744,8134.575935421112,7604.946965372757,8995.476901737326,7493.418410971614,1426.192326899658,7667.233275243462,8015.290033991196,8372.776282829727,2630.404509804719,5385.3946893259645,6294.381964531512,4289.603428697686,1255.9382685222065,7826.776552568204,2097.5794987072427,7231.641809087684,4194.666434551317,9061.670043372213,2925.032234551691,1928.6086440887796],\"y\":[9277.275899792905,395.9042642958721,4747.8759755659785,3267.8121664003256,7263.891999749437,9755.021798881387,211.83765866401137,3278.3730948451384,4168.152700215648,9718.634711169849,9567.635036225272,5019.5606579317155,3049.561993749027,8518.006615765978,8604.596685849207,54.45860416264825,707.7779744752011,4686.865980126117,2444.0104307515253,2098.3769145772544,73.81574834859794,3994.9074615927007,2691.2846955226732,1902.1279731787877,3516.979975735626,6795.3849588336525,8151.08291158858,7463.490858360695,5772.662890281595,4982.664373495539],\"z\":[6077.176254986236,9255.89016989872,7744.976126414373,382.546195956156,1758.8280729133198,2321.5168485510417,4049.5132693313594,587.6292252820203,9138.112183881283,5796.823590260056,7835.364864923342,4001.9330332114178,4107.635990013417,5721.5328300746705,6161.837037459478,3173.4585835631347,5155.7246759399895,8827.989547329049,8004.156624817822,4370.31004529039,3106.195480575583,3415.9077019230945,4823.766294538794,1795.4586249786664,2842.433616572706,8388.249373966682,562.6503141762329,6837.185695717379,5110.555101967566,3057.1868822542892]}]},{\"name\":\"series 29 (F29)\",\"data\":[{\"name\":\"series 29 (F29)\",\"type\":\"scatter3d\",\"mode\":\"markers\",\"x\":[3907.4516906862345,6316.688822273599,5764.024589873407,8424.7981145213,717.9734722038445,8821.29044491733,3142.1716947454424,5301.350256463513,8625.987263431862,4901.145300337276,1667.6243212844777,5844.725732194662,8984.093737482088,5159.288548019368,1202.7644724281472,2887.7553906479534,3580.7144410276983,79.3285583042469,7222.881590811142,5765.918435109021,4836.118389246322,6812.032280435439,6443.7789857656635,2266.076694968251,8555.717968592104,1081.5128080439717,6184.171076660344,3787.614996529819,7740.691905793663,6873.674072028383],\"y\":[3448.2808241879516,4840.5554309880035,4442.328637200967,2634.0281071434424,1481.6294307931055,8600.927915556793,4195.303756549559,328.94655450702913,7383.087778503623,7401.8702789188255,4176.440133697645,2913.8669487744405,4248.835607341293,759.6431761509914,1909.3212147721283,6503.924140217445,5278.953249483842,3816.9444764391324,6071.460181245154,5856.92983931076,5294.950780348152,5931.61061147886,4759.557395766163,5655.579489729221,7196.614320266242,2546.9976803923346,9429.699190573201,5515.218322337466,7029.1287541964175,3451.0369178073706],\"z\":[4653.188339010345,3645.4445375782097,1536.5167556737058,7064.159382596449,4815.018007553883,2658.2946737832713,6345.007360305975,3491.996379669388,8930.831499737958,1142.6927863258607,1250.0289307724843,8736.953446681133,3869.5401377270077,6314.313821091695,1473.0986725048656,8683.468891841652,4442.59611561336,6301.9511226862605,209.95792033997262,4254.967095411275,6057.245786577931,5445.943209389198,8308.883691778172,8486.217136104928,1929.9225079102812,2361.1567482939276,1498.1790810143668,2163.017268174413,2217.2565979617475,8456.484884745245]}]},{\"name\":\"series 30 (F30)\",\"data\":[{\"name\":\"series 30 (F30)\",\"type\":\"scatter3d\",\"mode\":\"markers\",\"x\":[4224.430599397315,7151.820470449912,6846.017877107785,4104.769639531855,1868.1931773603887,5575.127156550469,7309.626864854784,721.5072473380358,9871.343942767837,8584.171204716575,5247.704087688025,9637.655309428961,9140.42290516394,638.6236769726883,7236.450914391125,2841.3051404634016,1982.8599041904627,3923.7523849524537,5891.48850382451,6414.947168459381,1788.0596594402166,2818.669358950556,7121.101472789626,4809.495206659981,2682.900455797362,175.00358004142402,2166.6724021695595,2973.2048218746554,2471.2769453223204,5573.543505682882],\"y\":[928.4090846581738,3793.0619731385095,3309.8965589694185,697.0917812317168,9998.305564738024,308.1769298490245,9777.617926553608,8490.98036858476,4808.597168763239,5719.168824851488,3263.1955211763775,878.3974098875802,352.80448382241536,9344.48444652823,4926.375074372756,4455.880012120497,9047.785094431463,3364.040014165366,6879.86319008636,4815.028744297269,7479.042707430719,3442.5345778955407,2694.7684429393094,7919.70534741323,6007.8696138403775,6139.234347476593,3849.6946822762843,1313.6773685649428,6517.727851455561,7387.979113877094],\"z\":[8323.741055629305,8841.874081983397,3938.600685149498,9270.617070262704,1176.2449969419154,39.126687820464355,6611.877308838939,6809.028145152468,4661.178896924259,9373.46167179001,9044.659265014072,2565.3442579162997,7191.693435456545,1126.7266343153292,8151.204425226325,4466.9346827377385,6300.37228058953,2853.525438537149,690.556011159138,1462.1736099278726,633.3525066247347,4080.1459380864703,5283.229332042727,2364.9590301385924,9971.52616337118,7188.364224786148,7126.157057945897,5560.411856946002,289.63590903239634,4274.716055331605]}]},{\"name\":\"series 31 (F31)\",\"data\":[{\"name\":\"series 31 (F31)\",\"type\":\"scatter3d\",\"mode\":\"markers\",\"x\":[7323.924939885857,1121.127159542008,2944.1375905176524,7184.024122364888,1615.6533469164126,2322.813050809909,3223.2961958338137,7886.677904660509,5200.712655697962,550.0969337330974,3698.047916861178,2902.364125074044,1352.7851141725046,6147.739362693206,2079.74634084788,8568.644982825192,1560.617656059249,7899.441880351452,1620.9858290968905,3610.994550861668,4045.1327266626404,5505.896498785464,4488.275140751891,1691.5937865759788,5676.399546663162,2685.6667327026253,4990.409930581612,9397.399178739539,9550.288821993907,3336.957519318787],\"y\":[63.97283291351474,4473.696080821928,6783.468165810623,9575.267498477113,8997.468478912248,5017.554020118463,6446.720932186173,8401.387244871841,3018.1757460622407,2816.3040142483896,1980.397605268679,3256.1472158544557,8070.883025948969,3049.357916666879,5922.141259619005,7782.778279043705,885.2439046492777,8167.401057948245,7325.852900196438,1744.7011269202728,9258.573923072161,5921.181551376481,7862.191966024608,3236.011949017066,2373.485395986238,232.83148185312407,3264.738214652817,7073.883396449335,5924.83496287896,8885.854907816562],\"z\":[6522.26122716705,6576.559141910865,9848.03702516902,3855.620226934088,8016.383731103771,4807.566796302528,3520.874449556094,8510.399242720172,5665.2414687990595,1806.2291975412725,4453.516929522358,883.6967075219093,5057.578654833244,6326.510538228807,1686.5324278264516,3751.819360052847,5548.04227982185,4170.681611973723,4384.259795158569,346.33373116421006,3333.266871123248,331.2453656400538,9440.985774770656,9189.268435688904,6639.6714298960205,8844.014747455132,9309.946845613056,2759.6157409218326,1327.7160188685577,2507.1913106673483]}]},{\"name\":\"series 32 (F32)\",\"data\":[{\"name\":\"series 32 (F32)\",\"type\":\"scatter3d\",\"mode\":\"markers\",\"x\":[2720.25766444939,2482.8961889570446,7453.695220830288,4435.740119127148,6464.444597911387,6881.246002899764,8628.972420672135,4797.318493665241,6019.338713785221,629.6957049183205,6377.890332397395,9015.458018731499,6405.664630536311,9735.009849641448,1119.414495731903,8227.664955862245,2396.7366921586863,2086.6588840743393,9883.903085769709,8850.545355388242,8954.254260830186,3225.2012925018116,8425.217766117226,5731.023317934465,8599.264114834143,4331.5533646771455,1999.7229953116714,2552.1693129896285,2318.935964236657,3161.3291450523375],\"y\":[4757.543561205087,3914.108988601829,4564.879187059855,8931.635886227685,2427.788394566722,5824.938225831024,916.3010370744806,9013.413770429654,6778.263115264014,5213.52134349486,9061.389344451996,8690.610543491717,3191.5342109255384,4515.502303446125,9892.87749591572,5218.187092908071,4623.030429554421,4385.813206094652,5718.832632989624,3944.1487622652317,6193.1930437964775,6155.417915947872,6857.27808779023,7356.508253206232,4714.5183506482645,5776.977890325586,6213.348334898665,7574.278924677597,6565.665506723717,2693.586804243638],\"z\":[3830.245200539011,9022.3085163838,5498.62400927349,316.66757198155483,9860.347836921077,812.9629968051499,9201.270019698537,9613.582212792537,4920.40324140412,7703.374906111901,9736.465149437716,3682.456644407781,1374.802884194224,4405.168756935679,8340.183318243437,9131.176214999836,7733.532665474495,494.2898249577543,9484.971182456702,9579.460472857714,1056.4567773128185,2201.751624495273,2601.3886455428783,7667.379111329287,9023.17525349994,2961.8345698452763,2398.8883349736125,4580.6240225109605,4157.777816466873,6752.459679866974]}]},{\"name\":\"series 33 (F33)\",\"data\":[{\"name\":\"series 33 (F33)\",\"type\":\"scatter3d\",\"mode\":\"markers\",\"x\":[338.9390944042425,292.30464868766904,7590.3860872912755,6983.172139686924,487.00652539073855,3472.990700065953,8692.46330694278,8969.37088322369,2706.35194773572,7335.172164679776,9940.442790794441,5877.119554028577,4955.4226439339745,6555.267299503577,3442.3073949107043,6431.081521528684,4311.9446880743535,855.7593307823774,6704.327112527471,7648.825899266582,3270.653458707078,2831.992486209073,420.24693374410504,7397.948707844153,3847.926364182591,1172.6178646340545,332.7860647068914,9668.163266540694,7075.40887414833,5549.626423681945],\"y\":[8547.395148021646,108.71035794379091,9576.056549868495,6143.363575809447,7070.792090595001,602.1488095188299,2089.8388387524424,9019.87128670119,7801.878115021189,9428.78554287566,7052.68357139121,8392.355573966437,8720.209698912004,7921.705458706365,3631.0663421038403,8175.535273286576,5597.285395478091,5420.574544651919,8975.97580322874,8181.073545043193,2198.4817038509573,1803.0769127927183,3883.819574566775,4804.25380813099,9648.546778679396,906.0673996704094,9538.156292959346,2116.51008506197,7401.1501836375,8744.208392475644],\"z\":[9554.974274068049,6905.378687199455,4083.048783346167,7592.074818120823,8165.5578677948715,392.8863266643523,6376.0226884691365,716.405871549537,1044.8210469513774,115.34967573367582,8054.802655858139,2828.3927226720416,29.304438663148026,7762.0065813361125,9316.794414933456,8171.585643227237,6767.867718763685,2646.8596818867773,8619.477581778701,1569.2161573385067,3209.4372189997102,5927.561946079919,5383.9441048032995,7725.427309010633,8755.990235353627,7687.125857558689,2128.108691566054,608.1097120029144,4895.295075918845,7558.697628918597]}]},{\"name\":\"series 34 (F34)\",\"data\":[{\"name\":\"series 34 (F34)\",\"type\":\"scatter3d\",\"mode\":\"markers\",\"x\":[8860.710287488864,7836.743612701487,8176.7456719155625,9700.580654383286,897.2966311665853,4656.852970207887,1504.962590023622,4618.155804632312,3651.9646554693054,8303.376705094908,1899.6584116676506,3581.2930257693674,4413.706862765979,6338.4679021765,106.59615911198239,6200.303763223384,1633.7919486986664,1894.9361245920416,3743.2916361869607,8100.43551658013,6830.684795841887,4664.7455930872575,1024.4458198578777,3574.3660915520636,2861.592317744792,8942.692028082105,6535.918541851584,7594.105419696433,5014.796329403944,9068.580942196875],\"y\":[4012.3790249052204,2628.165509736353,8144.514722092225,8206.930240151061,3622.605200895186,8336.816560612388,3900.1090860011177,8561.430115133313,2877.723229889754,6407.692369357918,6994.037407873521,9842.088838948946,951.5143406233694,8545.97219898857,8408.024141899597,8086.20288672527,5938.237476634316,2947.8087016658674,6454.504841023861,8779.985305464726,3372.2490373488845,3462.631361480427,3690.472416424105,6635.9007078828545,2195.02811339909,6089.405705233359,8823.437214629212,9351.444194280135,1279.0419478105487,9453.882000493617],\"z\":[7954.288281580655,4208.316284680166,5604.216975787151,9478.320933787843,8769.42063986418,4466.644708858394,6231.6066159412985,3582.133665712881,4624.572096262063,7167.103789520936,2330.1784357856004,6441.333254106021,2855.3942137956533,5174.493743596719,6686.4638538250565,7586.640177329753,3104.854002636813,4079.5340769276713,8363.15639925743,934.5431012930461,6975.145873244453,8921.340124913999,7471.551613574967,7722.567297495705,9891.872700679323,6601.24618450381,7384.073263521845,7259.4546857267405,9710.825851906306,7329.343585723812]}]},{\"name\":\"series 35 (F35)\",\"data\":[{\"name\":\"series 35 (F35)\",\"type\":\"scatter3d\",\"mode\":\"markers\",\"x\":[9136.936191850073,4402.917006513103,4302.781016901587,2478.311056231258,1259.3436289717285,8742.07043570115,2119.297025999177,6814.807723559049,5814.431619121071,8088.620027529307,5572.58997158749,236.91332972898272,8048.50589395308,8070.309934207657,6955.1270168305,7866.792339343439,2718.946491012517,372.1105159262916,579.6653212581249,7630.9715204775885,4907.482664209922,4485.067880718963,2838.0412610455896,1306.3165677446343,6924.363082175376,1699.6935885956254,3957.0880571519874,8418.002221118124,5770.28586283438,5520.2211757457335],\"y\":[1372.6449716888078,2346.465588400931,7546.767627488238,9678.020577866662,4847.691867872926,4533.546637173295,6191.973225194455,3486.8985414441267,7728.228357961353,5773.711509392432,3967.8401128139894,4409.982461760384,7060.589121495507,3234.466343898027,235.6757155636846,9397.326128805324,7686.467720673064,8070.76501204482,3231.2195543838307,9805.335237749634,1886.9999399025994,1281.4260640669029,6786.50247541944,9523.56140711814,6664.834183568852,4801.266038756556,244.65348156443633,2311.3683622504545,5333.19465404614,730.871916027368],\"z\":[5175.139338361126,2286.4245394048976,8723.523348079443,4076.6278032577075,6920.747527574374,1008.9306935775122,4028.3623502607525,3406.8204731346054,2493.951321411174,5669.946021526787,6063.717408159621,9425.348886996331,8889.124960492652,5519.124986082513,6565.220788210142,3622.7684995072996,7488.4032650049385,7856.636435897615,2024.99308726942,7885.099579927747,912.8107925268025,665.982914517006,9531.175259695363,1224.0381816795575,8406.610298031066,6278.896128926672,3089.6877537253818,1637.903711407772,4641.651715493699,9340.436072181023]}]},{\"name\":\"series 36 (F36)\",\"data\":[{\"name\":\"series 36 (F36)\",\"type\":\"scatter3d\",\"mode\":\"markers\",\"x\":[9987.844574631303,9520.869881756555,4689.829692525268,2781.873717867692,7902.035809878595,4008.7195217620374,4835.58419080052,7510.891271114457,8656.76151990305,5182.572984818259,4886.709733186768,5093.087734421735,3809.887934864035,3147.7400006685784,2690.5645495822773,7825.726705479733,569.0641147633557,9663.050218940061,5674.102770477793,7294.123663532235,3936.8263939650374,9216.7184035942,7399.972313696213,753.0167848520108,2436.987169151229,4228.005499034007,9367.262180294732,4489.7186730632975,292.48757872710195,3399.6373607650544],\"y\":[9584.298879595965,4702.805253303513,8504.969798040604,3154.149853315622,9802.227493244887,9369.545473235616,928.9055124054968,9558.028854533855,2721.936426570286,9077.23000515572,9138.188621716554,2170.7161541522623,8973.217491023232,858.0111032839577,1650.6887514795653,1851.2617659906184,1213.8765836660205,6693.820181861416,8906.329697384792,1713.595945499269,9307.83992876567,7547.378284414502,5286.841959126608,4142.107470429013,6215.133195239455,4527.273356732962,3420.4139039008983,7062.411398359871,8962.929708751984,1109.5267011479116],\"z\":[4032.045698975326,9507.895041614614,2865.7017741938184,4215.0270589852325,6680.485174240544,9930.833823829955,23.831689421328626,7381.66281870187,2865.207885700092,677.5712383329136,5053.866779097393,6271.935945582443,3191.9762229913563,8580.461700657817,1989.936453300618,5321.2937358538475,4553.095895921836,4714.975566564652,6344.669676769011,4459.369542909637,1608.5621320631515,6028.5716585368145,5429.285143302845,6525.774947536503,9246.866724784559,7768.64402614444,8206.352577309926,9254.039557078017,9159.318602565554,8420.052766357809]}]},{\"name\":\"series 37 (F37)\",\"data\":[{\"name\":\"series 37 (F37)\",\"type\":\"scatter3d\",\"mode\":\"markers\",\"x\":[3185.052212536307,511.74729308909536,4179.303521121005,8208.453101848923,9167.585560291416,1861.8726434603616,8617.991138230424,8133.838535214776,9016.722569610816,3449.772293865031,1470.5729808500378,8969.417831287843,1038.2943417222857,2722.2386028412293,2072.193532949995,8694.148848035647,6058.772188099303,549.4815286479637,4550.316476373473,2422.954988003664,826.8984121623679,947.8481811446238,8250.343641441736,1056.853021882105,9979.666650484105,4790.551858279782,6203.884856760698,3595.924839624055,9486.772942844913,3645.6317067225295],\"y\":[2664.152495930808,3341.2683754587424,4223.99019701924,7194.815218912945,3750.5343413430223,57.76468014124902,1124.746601830754,6563.91251864959,2324.4772065527354,8577.705582381142,7220.514906960576,6334.822767411742,9361.389343686757,9296.023498343291,8804.448353539703,11.185898466665734,9288.349759559478,7541.072873063298,3939.028170530623,7274.168000495597,6024.991064177258,6900.614334232434,5577.3150111530385,6491.817682335987,9794.996546874027,6240.853569523549,6678.724428285397,2634.8882586199798,2168.239848851357,1377.094803042781],\"z\":[1874.073434796405,9003.973489568054,8248.658431396772,137.76715332437962,2470.97851668619,987.2513968564123,440.54724698392,3909.2874958150624,2889.506388282157,1445.0935640468488,7806.024915010024,9657.427829404545,6979.311141397861,257.2433829826337,8669.006435618243,3891.5543869251214,2093.32064118626,5070.221556810323,1826.0973545845727,4071.3130956988675,7279.358974239129,6347.07038507276,3492.397763109907,3551.036734006595,9499.92327430073,7448.504705004305,2940.2878638947104,3315.3529285429504,8401.66160893996,9663.982838654036]}]},{\"name\":\"series 38 (F38)\",\"data\":[{\"name\":\"series 38 (F38)\",\"type\":\"scatter3d\",\"mode\":\"markers\",\"x\":[9681.838154379566,7480.1739301121015,5829.922167533505,2863.173660961,9000.573242588142,9816.455446519349,1020.0795852651202,4752.739749585809,655.8897143340015,5399.811973989545,6196.16415338314,5600.317563975068,7663.511091657856,4897.278694167016,168.65474808349768,727.0222873492138,8197.9382838077,8973.216880963022,9447.119886020273,71.76402413876292,3867.933656766288,6829.5606084144465,7369.723053122896,2695.1097840026205,1883.6545277694038,5991.3021356730005,1800.4310697716119,4217.3807283962215,6964.130060641704,106.32493029118173],\"y\":[1056.0993561344324,6875.13173834548,1226.351960930445,7749.386477740728,5899.430810671931,5132.104687393881,6752.331944356519,8003.266705622033,2670.1364740965596,4595.207077900465,6048.051137738025,7935.789706001239,8925.450127176631,8363.019186048392,188.3111670507054,2999.6390860663837,8322.482003990588,2873.7830116578634,3084.0662745353775,3852.585400073122,5898.723246345474,4821.784232891568,3013.9061485319285,2128.9472348753293,8393.33630536482,1775.4874829069167,9328.922860319755,3288.8159352294233,6800.7040510378265,1757.738708468607],\"z\":[3070.2866219026723,6829.76546079355,9959.028948237248,1237.8067355342125,5131.422747397582,2866.488763843672,8650.606080912576,6736.980529389787,4551.769729861467,9366.987929332838,9426.725749733268,2563.8999914570472,2546.6657999083377,6179.661202020541,6168.978378267254,6072.744592933745,4958.001478659448,393.82736121064244,5260.077666038053,2276.8647642286487,6952.842579859784,2546.9299379702948,7161.130550085033,1652.3839992387045,9002.314322690989,4724.87303575603,3178.6243336122834,8530.76458296574,2440.6103523957468,9697.635853497835]}]},{\"name\":\"series 39 (F39)\",\"data\":[{\"name\":\"series 39 (F39)\",\"type\":\"scatter3d\",\"mode\":\"markers\",\"x\":[1253.2185177602316,2606.272006299799,6234.073329077692,4890.521242477727,8713.76523988443,2773.73302416437,3982.864133224224,6212.097320427443,3113.8041023535866,763.9350576862014,1632.825793043805,4543.088679032775,4504.110795827652,1858.4630688396696,1892.715432456088,2036.184276967532,3793.7007364118103,1342.7290482840092,932.0635496927299,6284.925291551711,2213.025322059019,8295.398886305127,6577.492876473727,7890.5454262726935,6316.917332615582,2814.3734148095245,4930.412480453619,988.8344478556344,1451.1766795606984,8843.939732579267],\"y\":[4096.574307341881,6894.801532759592,4155.514462935644,2394.6524596840723,9548.062408615446,8181.117312050084,586.9000118066836,4136.968370869597,5530.864615885785,4227.0169349165335,3721.1828669043957,6101.599761613677,886.2462942821359,9557.54953454849,6827.1948742488585,4534.017650929366,5671.733452803068,3138.762026645894,4506.358666200081,4827.4753049821775,7047.586169997041,202.60779656239626,5452.162547393707,9898.388027266063,9037.219995882939,8146.078453350192,3007.687464819313,369.85006381399563,975.1146528645538,4582.252311454452],\"z\":[585.6988606157643,3493.526002212727,3723.3245056345554,8716.6614884345,9064.648806308614,7867.108193955787,1067.7856746210523,6880.584833648141,2385.2544638397176,2693.9794775905925,6098.19198475297,9273.568579721197,5746.15562602233,3583.682239785463,8830.287512313891,7750.689395077306,8033.474968510825,1706.239479433559,1847.0070031722785,3835.7708411297176,6417.937860197556,9490.331434591953,5314.969302349045,2049.9704769920736,6414.5329694913735,3994.7838669739454,1375.4065687563134,6115.857000657946,5123.526712458644,8584.776191254276]}]},{\"name\":\"series 40 (F40)\",\"data\":[{\"name\":\"series 40 (F40)\",\"type\":\"scatter3d\",\"mode\":\"markers\",\"x\":[613.6950891415993,4630.3006799816285,8857.966678982813,4608.631223761329,79.22660360359379,8395.202333186984,8911.648665036104,7398.001768089672,3157.436963658713,3753.2907373852777,832.8329372803655,5103.7219577242395,6488.394791975576,4996.9181241161905,3242.8437236556697,4631.5444300168065,8081.418735386052,4200.993860446451,1974.993280267454,6256.437117726496,3792.781112993967,8676.889051449658,4108.119889108828,7371.069290107704,6413.6268339079215,4652.357632910113,4330.340008892876,6263.564875376383,2757.8183025754943,753.2164910325845],\"y\":[2992.4554387341273,8821.557398505312,9344.493997673431,6395.734176819534,1196.778183823255,4624.033896819763,6537.70512237183,8294.376101134187,3315.963767535374,4009.408805088831,4335.575649888568,2947.763967881256,1447.7760784491568,4397.7176673166405,394.00654282820693,4186.404040291139,9485.530211497673,2396.779833415893,2325.026083728444,2648.943798636797,6720.29219032775,8036.6292168497,1827.4609614136116,8399.424421439113,2189.7364223912887,8853.462409910862,7787.68966294382,8806.19061702543,1349.8990183384208,4483.815301453321],\"z\":[9130.807296537374,1273.830046566413,6069.88253618814,6931.620482078671,5907.618555898713,4452.716432442354,7435.907607814901,7735.263006506488,8870.44677207083,2146.4282053534243,8399.920841735757,888.6954675327752,3620.829750421608,1295.525197312739,9919.312847412903,9560.132073509038,5304.74873121599,9136.865146653789,9908.112607423833,5403.793159913459,3786.1142831173765,4920.842758466613,9056.365978668407,1574.6239049278754,7246.81507112248,8414.642570902954,1373.222294028833,4432.8644060140805,4241.708673807621,827.7956292124844]}]},{\"name\":\"series 41 (F41)\",\"data\":[{\"name\":\"series 41 (F41)\",\"type\":\"scatter3d\",\"mode\":\"markers\",\"x\":[170.59169430238774,4364.80226226619,379.5149466746539,3767.0352074558523,2128.0579057453742,3147.9919056857066,6005.647533716812,8360.648558807568,3066.0579998606663,3853.6753453435335,5530.603366274681,9788.226326712222,9103.17580540914,9406.097162471242,7377.599663973937,2109.913744496068,5984.715395180812,7607.853895410816,5915.73346539837,4509.969878502305,7543.556287228481,3692.3771798246953,3200.011008889575,2852.645760632725,1490.6149658850898,6279.096425698391,8857.178837464315,9794.094989004347,7031.067413465573,8983.786644500218],\"y\":[1036.3587922348738,2602.2325913714817,4163.81843961849,7876.054955422535,9986.075037240913,307.1624762421121,8945.524973006215,4477.875415483977,8524.333420954008,837.9961708842199,2486.814491096627,5061.533617447263,435.9946246750679,4397.588147858343,3997.1665897997964,9632.296091478018,8661.759860611379,1484.916468373909,9806.250848909647,8170.57210001642,35.66702503546293,2695.5432117646615,963.3471685562378,7460.291102780166,2283.07022412774,2713.787231934902,1752.7976057340422,9144.66651627042,2008.6579457833097,2755.947531939299],\"z\":[262.27154501307746,8527.476857283906,9484.14084272846,4132.122271402114,1.9518064391221834,4077.441971642587,7187.817465395047,564.8637502931631,8496.575476967218,9595.230586646232,4253.306678245177,8436.119276654714,4758.5980451878195,4567.0848779952585,8252.312205102147,2229.60927347435,2599.567490623249,3355.9997320273583,9066.363439967603,7093.99535765029,848.1350715127589,570.8542764796409,6995.053008452501,1672.8954121302875,4716.945177144427,8205.839291932853,8703.37391597128,2131.0083807067117,4796.984701089177,9956.978057311191]}]},{\"name\":\"series 42 (F42)\",\"data\":[{\"name\":\"series 42 (F42)\",\"type\":\"scatter3d\",\"mode\":\"markers\",\"x\":[128.33048492048692,2651.307765771206,1456.7965913131186,9499.496897056339,5045.08538034512,8586.475232569568,2785.28908237794,2449.249389636796,1635.470065987633,5918.439748457323,3640.701315762238,6233.350662124234,7106.777044936128,4713.09847907922,1854.6170107027626,8159.638264888053,2176.3219846589886,4852.992081854725,5188.741321143846,9601.518909088438,3067.3443425293713,9488.916349771442,9253.485713463942,3404.225196652452,8554.39536814554,5372.15037439978,2271.237303283552,2370.4486743136076,3551.436104354122,9512.18699368505],\"y\":[7303.51172000111,8997.775184206428,8753.450737090698,8450.554432680894,6360.019510099761,517.3011255294268,7922.455665665201,9849.519330007299,3669.005807975011,8722.259802305945,551.3630067976083,6065.168965085866,7312.047621749353,1077.4410247119358,7844.238758540775,5907.5641955452165,9412.822287019566,8164.643512721826,4219.067421190188,3886.372527573343,5118.192496574924,2646.346052984354,4869.220939279186,5898.5765480318005,9721.274556796152,6619.244220783833,2312.401036505256,6535.572806994623,1449.9908445422882,7481.247231520772],\"z\":[1310.9062919489756,5970.163693853912,4680.932192090372,7249.982607798842,2064.6525579776985,3729.6633781908463,4637.185715249196,6647.814540909617,6158.450975038542,2569.528585577222,9990.109629438102,3207.8295920548217,8387.631730905745,8132.635022180812,4208.866916931993,2157.196961303508,291.172235172501,9112.525169511879,9987.858951206259,9898.769056979161,7989.072952003403,8234.64981262445,3631.021198813146,2538.7328984575597,7750.798913532791,6527.833562095495,7883.282280538903,6097.584230587627,7614.1839298981395,2078.8972418591466]}]},{\"name\":\"series 43 (F43)\",\"data\":[{\"name\":\"series 43 (F43)\",\"type\":\"scatter3d\",\"mode\":\"markers\",\"x\":[2373.306238710553,793.6422296394918,2329.2720572948347,9746.571215773274,567.9712912051482,9102.781949066,1919.1514529776243,156.5385820371723,937.8626640940868,6175.010495589789,1229.909352036811,4707.650311843472,7894.3915064278435,1627.966988416838,8984.419042251333,8290.055250888494,4982.971368481994,3739.381762427484,59.74757536778785,2949.1952312680246,8803.019561281753,624.9798774494941,3975.546833797329,3825.313412607555,7174.374747205124,8115.269413081103,5910.87477607602,3356.3319055384823,9181.049687129898,734.108960435561],\"y\":[3959.4674998844835,952.656187545734,7897.070530041905,433.8978903674784,7788.561983200602,3135.662228044791,8835.477965215794,7556.690942271734,9383.949074881144,3477.3375638531934,8460.391991874701,9867.489047140496,6144.010992205187,2586.7340614383907,7463.38098040932,8445.410907989643,228.07961262758081,5859.6088632112205,2929.185826573638,3720.4053060686438,5769.528256174347,740.8226291403707,2002.1982417877648,1007.6156769256684,7331.584466877416,5844.771481269722,7213.902731857236,2518.460676760208,8813.938374473255,1437.3331559338953],\"z\":[242.83239334661144,2016.9517069076815,1910.7880667473244,4503.507425483239,6552.410276702425,9041.71399346335,7176.049367459679,1908.1376400652096,8088.378593178377,1928.6411852543029,8769.035225611131,2002.8011474427021,5016.343471582288,2746.05564457734,6033.9815160553435,8440.159570600152,341.2976059546602,2693.708639530712,1209.3824397673302,9927.764862948592,3174.801644528632,3518.9019336847527,2768.172923341202,6186.517907838565,7401.842422427848,9067.469246165028,8157.371011566438,3474.6794413123725,2548.2083098964436,1214.3063316841508]}]},{\"name\":\"series 44 (F44)\",\"data\":[{\"name\":\"series 44 (F44)\",\"type\":\"scatter3d\",\"mode\":\"markers\",\"x\":[8035.876482710094,2696.542128876769,2760.553025293402,6107.592734491189,6501.6977432394515,9335.562982626052,7985.144793495699,9912.8036223782,8254.95522575939,7234.974200974632,8667.630828762725,8057.055926967498,4160.591832364184,7594.580878120324,1594.9679679740668,8351.29851077673,1254.794683264877,460.6647399632746,9862.00554854238,6307.293864329085,1881.713640704914,8456.610291914963,4369.029344121109,468.30821446457446,9352.140350005538,1535.0812280066862,7742.907147156745,6636.864419068562,4283.38538297246,7128.267569369708],\"y\":[4123.303115262692,2509.877536333642,6609.67568303083,2230.936367517131,9866.7546427344,8420.939102717954,3144.9678426181695,2671.71680025156,895.2386867826623,5641.47184120974,9535.150735796879,111.25288091575092,2152.175245759217,1006.9293823907454,8454.195172865702,9151.567669397675,3427.649981806302,5511.166509179394,2978.875740176092,5349.173503590443,3675.9652393773868,4951.564862841607,5219.280176460581,9895.177917363342,2872.4517651703727,2709.4416409084733,5487.3907073421315,8258.83151116697,6442.807632383279,8314.73436313618],\"z\":[6553.602494870373,8186.668767251659,2347.058480463916,570.8963409269086,871.1258810753142,7107.593881206653,5011.554200679307,705.4002092182044,6040.791578874879,214.9730360569535,3476.2563638052925,9263.193067804843,5243.861655798843,8279.987736580808,3360.889554035854,274.90280643664767,4888.019777005613,8596.219592852758,3552.361870447992,7608.548686874511,1291.8046555360806,3363.624778338495,8877.187898684504,1352.9629075936823,1875.3130179313794,7290.775148755107,9446.477252386523,6583.078616603847,4030.0901507211606,227.43472784679363]}]},{\"name\":\"series 45 (F45)\",\"data\":[{\"name\":\"series 45 (F45)\",\"type\":\"scatter3d\",\"mode\":\"markers\",\"x\":[5847.372458472617,2921.699162116833,6608.69703095245,1235.2481585790686,6903.660122851031,939.3125669212566,4804.522666175798,7662.521368433037,3339.5947071175956,622.9682874103048,9084.988145322091,6509.774105485711,6354.813599030971,7897.189974231103,2796.36965105034,5655.952876860505,4854.541660655361,7494.34477743658,1076.0411736340825,9360.889854263864,8878.115423538457,4348.850725692911,5788.019095466467,5867.799811349598,9630.187265034294,1129.0500972865025,7340.269305953656,4900.311650678104,8442.792730457402,6522.532034218642],\"y\":[4447.313058933133,9381.730285807582,7982.796649489803,7455.144628004431,7169.246508273749,8799.929444416315,9068.060334948408,8550.882511906908,6888.371497046043,1299.4814339260286,5566.999355156557,3829.2947691182953,9277.20429723593,7803.329058330215,8030.031819958756,8889.010487350351,2766.717680990005,4249.511253885177,3937.7423212103413,6640.4280906120985,5541.239121644984,7374.154956008002,8749.417052176515,6027.574410785399,8666.517584697685,5380.150309853374,7296.9338951191685,1118.5875261803747,1600.0369328042518,7301.627440052493],\"z\":[9492.816965400027,7446.230231852263,9037.745204736373,3907.5611808169274,7807.594790196208,3544.3002562169945,4818.93348388073,8583.52427638909,6520.431702153391,8252.747542742103,9441.089689549144,8788.822078190504,4358.324351307753,8553.770111709426,2629.119100995391,7406.941098517601,2812.9904930276193,8453.107508854078,1358.4109532098166,8590.44229922595,2160.898275446178,6735.208178915375,6748.80072930065,4547.143492758667,6010.718843037428,297.8947522682085,326.56225802131235,8122.627204268393,3063.807861654676,211.61334171935997]}]},{\"name\":\"series 46 (F46)\",\"data\":[{\"name\":\"series 46 (F46)\",\"type\":\"scatter3d\",\"mode\":\"markers\",\"x\":[1294.1364787455855,1004.8214676243217,1697.1537141533354,9650.294496523278,1652.3877077154802,8909.601353452998,8964.554627333722,6405.316920005476,5287.750480901816,3202.0595808924945,660.6198146074172,7821.011384836614,466.71052788081704,3066.304287141509,3203.511781026366,2679.6000862058854,2572.6457402422598,3557.336333241398,1266.180440847231,2815.4159903427467,5375.121490986457,2651.7709384533105,7322.16586717167,7052.700975076095,4639.323759821143,4759.863345308786,570.8729279982061,1438.2384852258479,7463.382990099813,9069.508256463654],\"y\":[3068.551637545307,2679.5214354552554,4373.924824951372,8563.579044619124,315.0443153773719,6201.117797002912,8915.259385264962,9585.183083161812,2032.6893670573243,6296.345496185173,1235.200928577317,2421.1065596797866,6422.596612366497,3478.3184917694343,8000.585773877878,531.9296589922074,7794.842660515064,3323.88523189331,868.1354454565127,9777.9916652764,3142.957345693288,1855.9304926928587,9691.390502891389,9273.594705797655,7969.40410537612,4823.961853982532,4662.019080156748,2347.530550774293,5467.584549911314,2119.8626069668658],\"z\":[3663.879625378235,9496.226599342654,6027.223464338035,4005.1383830851405,7260.798207638794,5186.500498741297,5953.821807621505,2827.942063785338,3944.0994388489835,6898.126207706809,5279.191350725082,2472.6149320735767,2533.5043118673916,7892.107939564672,4588.9136188129805,7911.4324521593835,6955.0891076492735,4848.769260487612,9903.890919850446,8917.698858066047,1012.580268691713,7740.46287155807,2826.994247174441,5251.2851668626945,7223.3318327351235,2086.912386178816,402.12701754127613,5442.162824176186,4307.914786141113,3086.896570922887]}]},{\"name\":\"series 47 (F47)\",\"data\":[{\"name\":\"series 47 (F47)\",\"type\":\"scatter3d\",\"mode\":\"markers\",\"x\":[5431.8642715616115,7674.432057462841,2502.3249903068654,7028.19767455262,3361.150459905539,9212.80295493922,4504.395458465191,7848.428973356724,6258.362849571368,315.4368474153646,2571.072412688211,5752.565740743542,7911.385320906208,9641.509902646305,9050.797782034237,388.70630245779637,6605.154168238949,788.8139867537702,8465.318711390359,3241.7910302751143,3758.475188188204,3786.164188955674,4147.816640621372,2625.713017038043,7271.7354182566405,1117.3298976490598,1399.335297752783,9937.4523964653,8173.457679333898,5167.670948692223],\"y\":[2143.058278734714,7682.5773858950215,7952.482308038756,2861.5975860518806,3136.0689858980804,8189.649485702119,1823.8816143707093,3698.443428547399,940.8011331660359,6901.779307009576,100.54206173448432,9396.277567034194,2063.4685703395817,5666.780271705373,5828.681128595571,6917.649250003987,5934.34033767457,9543.072750679357,1894.3880548682912,1778.1989827699574,1734.8013805661944,5296.68900766725,4919.613596453425,5228.533483063365,7468.727772745325,985.439713699654,6439.84878842427,7151.710060975612,1130.769020961272,3809.5003099167425],\"z\":[4092.080940446725,6333.126654141193,9341.7204636838,7753.3811350616925,6840.4211082231695,1136.5745494647063,8401.240631373514,3452.44856749481,8628.141717353741,6559.655385493598,6350.748081399371,187.8645660062328,4268.684319216241,8143.723498154869,2344.410268993451,3947.0195088723726,9874.526477681118,9277.964907126887,1393.7151058540665,6082.234566443328,7671.6238349459045,6064.1764164782235,8381.19473519678,4258.710065459977,1658.4745939702893,3098.2661466638715,5131.447437953507,1103.4043539773297,6242.679298163841,4276.443040178632]}]},{\"name\":\"series 48 (F48)\",\"data\":[{\"name\":\"series 48 (F48)\",\"type\":\"scatter3d\",\"mode\":\"markers\",\"x\":[8282.683588908703,6249.727013925716,4724.1969327503975,5048.521779020454,3719.598051281271,4318.636242169947,8293.327973524909,6417.7205550107365,5408.451933203491,4784.9297174064095,9072.782640263109,6425.781035639083,2617.8215439592655,9648.226041519174,2657.017975818431,1864.1956486789945,9713.551814512728,1361.332902774426,6588.361643815141,1516.7781766734245,6984.033001599208,6564.403206617826,1258.2614641030066,2365.7672071071966,9281.990660488107,831.4832132012417,8833.332719727845,1883.1062885159733,1661.562745261357,5856.759891312743],\"y\":[3979.7021416889957,2780.498057801174,7644.514011502549,3291.017948093733,7395.472827558953,1406.2778082900752,6267.016936461763,8784.519577741316,9459.969054979943,7354.113737063528,8638.50074831807,5700.722784382312,6669.738381129735,9787.986045401301,3386.661201079604,435.9601546999281,7955.128125390695,5489.855119201215,3067.7850161661545,313.39785981238435,1457.5705052481692,4700.879623310279,389.13597760719233,615.3029307848201,4896.545866045041,3454.0011708512375,3920.2187847160963,9475.846851549897,4266.51979153873,5285.160907872264],\"z\":[7862.317249821344,8077.378210929056,6277.975897906785,962.3727663846205,9400.7844012997,8876.299399327898,9692.998653461735,2186.323549155227,182.13531812639295,6430.384360699909,9504.682046494834,4093.130921787501,5538.073833582605,3807.581878973908,5770.977464485064,1829.3387874714085,6221.165642176575,2527.047187184257,5837.410347469711,8471.181202543357,2621.941500359036,5516.347546097309,4669.435485217646,5124.606470097989,704.7997151623065,664.4982744598437,3064.0209855273015,9169.496545328122,2230.148653258939,7208.677404992024]}]},{\"name\":\"series 49 (F49)\",\"data\":[{\"name\":\"series 49 (F49)\",\"type\":\"scatter3d\",\"mode\":\"markers\",\"x\":[7621.378665648194,3300.978566776687,9222.81424919901,8413.179624020619,9531.595698636862,6272.672558722196,4101.809560805587,1782.3679634343214,1467.236892920505,6061.1735891595135,2404.1471537436432,2395.0885442882563,3171.829511390751,7548.025829117572,4615.450081537818,5856.21298160008,6695.455676515244,9754.887243598907,7262.693892611822,4831.678558734145,1652.5222549971008,2169.549371529873,1129.4952106284807,7166.599026565818,9363.08970036891,5764.920181141076,6221.936501316807,4181.723049680736,2287.981196374461,1940.0368690806235],\"y\":[8942.994324068131,4901.717842798545,1779.2165865611898,1801.6272055452964,6826.220116901911,5689.459567974948,2841.1458380371237,8956.687680191182,134.3985441771578,5043.7182558251025,9333.979268676841,1301.0067915312172,7646.484757133467,163.3235372592756,6850.2513521307455,1165.5065669336295,6036.203644381163,5289.102482131259,3356.0697315378998,8621.738477826595,8388.269659917512,1805.5860792836208,9612.838357545703,9749.810049074238,7603.266584019275,6617.681292336744,2381.4698914871246,236.48601864202146,4709.799484429214,8413.207296686716],\"z\":[3459.9254289620094,4798.1502825167745,432.6158711485606,1080.4043000847785,6716.258127087525,4612.771995499926,757.9669281034107,9770.217728033409,3453.1536113751504,8196.972613512211,3692.558852225203,7876.371404536253,3676.29656386666,5978.743337666329,4930.0221785623735,2551.9408761585773,7137.71880741601,5193.315099638864,4718.906648166265,2289.344117598672,3386.609932650515,9669.135762792625,6868.784425181411,2561.369599109775,4483.902279589731,8572.865329355693,3536.12512558493,4554.064219390352,7523.270136540168,9246.749507964296]}]}]\n",
       "var labels_eeMkPB6YNv = [\"series 0 (F0)\",\"series 1 (F1)\",\"series 2 (F2)\",\"series 3 (F3)\",\"series 4 (F4)\",\"series 5 (F5)\",\"series 6 (F6)\",\"series 7 (F7)\",\"series 8 (F8)\",\"series 9 (F9)\",\"series 10 (F10)\",\"series 11 (F11)\",\"series 12 (F12)\",\"series 13 (F13)\",\"series 14 (F14)\",\"series 15 (F15)\",\"series 16 (F16)\",\"series 17 (F17)\",\"series 18 (F18)\",\"series 19 (F19)\",\"series 20 (F20)\",\"series 21 (F21)\",\"series 22 (F22)\",\"series 23 (F23)\",\"series 24 (F24)\",\"series 25 (F25)\",\"series 26 (F26)\",\"series 27 (F27)\",\"series 28 (F28)\",\"series 29 (F29)\",\"series 30 (F30)\",\"series 31 (F31)\",\"series 32 (F32)\",\"series 33 (F33)\",\"series 34 (F34)\",\"series 35 (F35)\",\"series 36 (F36)\",\"series 37 (F37)\",\"series 38 (F38)\",\"series 39 (F39)\",\"series 40 (F40)\",\"series 41 (F41)\",\"series 42 (F42)\",\"series 43 (F43)\",\"series 44 (F44)\",\"series 45 (F45)\",\"series 46 (F46)\",\"series 47 (F47)\",\"series 48 (F48)\",\"series 49 (F49)\"]\n",
       "var duration_eeMkPB6YNv = 100\n",
       "var config_eeMkPB6YNv = {\"responsive\":true,\"scrollZoom\":true,\"displaylogo\":false}\n",
       "\n",
       "var traces_eeMkPB6YNv = JSON.parse(JSON.stringify(frames_eeMkPB6YNv[0].data.map(x => x)))\n",
       "\n",
       "var animation_settings_eeMkPB6YNv = {\n",
       "    mode: \"immediate\",\n",
       "    direction: {},\n",
       "    fromcurrent: true,\n",
       "    frame: [\n",
       "      {duration: duration_eeMkPB6YNv},\n",
       "      {duration: duration_eeMkPB6YNv},\n",
       "      {redraw: true}\n",
       "    ],\n",
       "    transition: [\n",
       "      {duration: duration_eeMkPB6YNv, easing: 'cubic-in-out'},\n",
       "      {duration: duration_eeMkPB6YNv, easing: 'cubic-in-out'},\n",
       "    ],\n",
       "    ordering: \"layout first\"\n",
       "}\n",
       "\n",
       "var slider_eeMkPB6YNv = document.createElement(\"input\")\n",
       "var play_eeMkPB6YNv = document.getElementById(\"play_eeMkPB6YNv\")\n",
       "var pause_eeMkPB6YNv = document.getElementById(\"pause_eeMkPB6YNv\")\n",
       "slider_eeMkPB6YNv.id = \"slider_eeMkPB6YNv\"\n",
       "slider_eeMkPB6YNv.type = \"range\"\n",
       "slider_eeMkPB6YNv.min = 0\n",
       "slider_eeMkPB6YNv.max = frames_eeMkPB6YNv.length - 1\n",
       "slider_eeMkPB6YNv.value = 0\n",
       "document.getElementById(\"sliderContainer_eeMkPB6YNv\").appendChild(slider_eeMkPB6YNv);\n",
       "\n",
       "Plotly.newPlot(graph_eeMkPB6YNv, traces_eeMkPB6YNv, layout_eeMkPB6YNv, config_eeMkPB6YNv)\n",
       ".then(function () { Plotly.addFrames(graph_eeMkPB6YNv, frames_eeMkPB6YNv) })\n",
       "\n",
       "var trigger_eeMkPB6YNv = true\n",
       "var reset_count_eeMkPB6YNv = false\n",
       "\n",
       "play_eeMkPB6YNv.addEventListener('click', async function() {\n",
       "   trigger_eeMkPB6YNv = true\n",
       "   if (reset_count_eeMkPB6YNv) {\n",
       "      slider_eeMkPB6YNv.value = 0\n",
       "      reset_count_eeMkPB6YNv = false\n",
       "   }\n",
       "\n",
       "  const start_index = slider_eeMkPB6YNv.value == labels_eeMkPB6YNv.length - 1 ? 0 : slider_eeMkPB6YNv.value\n",
       "  const end_index = labels_eeMkPB6YNv.length\n",
       "  await Plotly.animate(graph_eeMkPB6YNv, labels_eeMkPB6YNv.slice(start_index, end_index), animation_settings_eeMkPB6YNv)\n",
       "})\n",
       "\n",
       "pause_eeMkPB6YNv.addEventListener('click', async function() {\n",
       "  await Plotly.animate(graph_eeMkPB6YNv, [null], animation_settings_eeMkPB6YNv)\n",
       "  trigger_eeMkPB6YNv = false;\n",
       "})\n",
       "\n",
       "graph_eeMkPB6YNv.on('plotly_redraw', () => {\n",
       "   value_eeMkPB6YNv.innerHTML = slider_eeMkPB6YNv.value;\n",
       "   if (trigger_eeMkPB6YNv & !reset_count_eeMkPB6YNv) ++slider_eeMkPB6YNv.value\n",
       "   if (slider_eeMkPB6YNv.value == labels_eeMkPB6YNv.length - 1) reset_count_eeMkPB6YNv = true\n",
       "});\n",
       "\n",
       "slider_eeMkPB6YNv.oninput = async function() {\n",
       "   await Plotly.animate(graph_eeMkPB6YNv, frames_eeMkPB6YNv[this.value], animation_settings_eeMkPB6YNv)\n",
       "   trigger_eeMkPB6YNv = false\n",
       "   slider_eeMkPB6YNv.value = this.value\n",
       "   value_eeMkPB6YNv.innerHTML = this.value;\n",
       "   if (this.value == 0) reset_count_eeMkPB6YNv = false\n",
       "   if (this.value == labels_eeMkPB6YNv.length - 1) reset_count_eeMkPB6YNv = true\n",
       "   reset_count_eeMkPB6YNv = false\n",
       "}\n",
       "\n",
       "next_eeMkPB6YNv.addEventListener('click', function() {\n",
       "    if (slider_eeMkPB6YNv.value == labels_eeMkPB6YNv.length - 1) {\n",
       "        reset_count_eeMkPB6YNv = true;\n",
       "        return;\n",
       "    }\n",
       "    ++slider_eeMkPB6YNv.value;\n",
       "    value_eeMkPB6YNv.innerHTML = slider_eeMkPB6YNv.value;\n",
       "    trigger_eeMkPB6YNv = false;\n",
       "    slider_eeMkPB6YNv.oninput();\n",
       "})\n",
       "\n",
       "prev_eeMkPB6YNv.addEventListener('click', function() {\n",
       "    if (slider_eeMkPB6YNv.value == 0) {\n",
       "        reset_count_eeMkPB6YNv = false;\n",
       "        return;\n",
       "    }\n",
       "    --slider_eeMkPB6YNv.value;\n",
       "    value_eeMkPB6YNv.innerHTML = slider_eeMkPB6YNv.value;\n",
       "    trigger_eeMkPB6YNv = false;\n",
       "    slider_eeMkPB6YNv.oninput();\n",
       "})\n",
       "\n",
       "</script> \n"
      ]
     },
     "metadata": {},
     "output_type": "display_data"
    }
   ],
   "source": [
    "val series = createXYZSeries(numberToCreate = 50, length = 30)\n",
    "\n",
    "val chart = (\n",
    "  Chart(animated = true)\n",
    "  setTitle \"Animation 3D\"\n",
    "  addSeries series\n",
    "  setXAxisLimits(0, 1E4)\n",
    "  setYAxisLimits(0, 1E4)\n",
    "  setZAxisLimits(0, 1E4)\n",
    "  drawZAxisLog true\n",
    ")\n",
    "\n",
    "chart.plotInline"
   ]
  },
  {
   "cell_type": "markdown",
   "metadata": {},
   "source": [
    "## IO + Utility Functions\n",
    "\n",
    "The library also comes with some basic CSV IO functions and a utility function for breaking down data"
   ]
  },
  {
   "cell_type": "code",
   "execution_count": 50,
   "metadata": {},
   "outputs": [],
   "source": [
    "import org.carbonateresearch.picta.IO._\n",
    "import org.carbonateresearch.picta.common.Utils.getSeriesbyCategory"
   ]
  },
  {
   "cell_type": "code",
   "execution_count": 51,
   "metadata": {},
   "outputs": [
    {
     "name": "stdout",
     "output_type": "stream",
     "text": [
      "/Users/fazi/Desktop/Final Project/picta\n"
     ]
    }
   ],
   "source": [
    "val working_directory = getWorkingDirectory\n",
    "\n",
    "println(working_directory)"
   ]
  },
  {
   "cell_type": "code",
   "execution_count": 52,
   "metadata": {},
   "outputs": [],
   "source": [
    "// by providing a path, we can read in a CSV\n",
    "val filepath = working_directory + \"/iris_csv.csv\"\n",
    "\n",
    "val data = readCSV(filepath)\n",
    "\n",
    "// by default, CSV are read in as strings. However we can convert the individual columns to the correct format\n",
    "val sepal_length = data(\"sepallength\").map(_.toDouble)\n",
    "val petal_width = data(\"petalwidth\").map(_.toDouble)\n",
    "val categories = data(\"class\")"
   ]
  },
  {
   "cell_type": "code",
   "execution_count": 53,
   "metadata": {},
   "outputs": [
    {
     "data": {
      "text/html": [
       "<div id=\"grid-container_OGBLhZdb39\" class=\"grid-container\" align=\"center\"> \n",
       "<div id=\"grid_OGBLhZdb39\" class=\"grid\" align=\"center\"> \n",
       "<div id=\"graph_VqhZ31WOlY\" class=\"graph\"></div> \n",
       "</div> \n",
       "</div> \n",
       "<script>\n",
       "var masonry = new Macy({\n",
       "    container: '#grid_OGBLhZdb39',\n",
       "    debug: true,\n",
       "    mobileFirst: true,\n",
       "    columns: 1,\n",
       "    margin: {\n",
       "        x: 0,\n",
       "        y: 0\n",
       "    }\n",
       "  });\n",
       "\n",
       "  var traces_VqhZ31WOlY = [{\"name\":\"sOoIK5nBB8\",\"type\":\"scatter\",\"mode\":\"markers\",\"x\":[5.9,6.2,6.5,6.3,6.7,6.7,6.8,5.8,6.9,6.7,6.9,6,6.4,6.3,7.7,6.1,6.3,6.4,7.9,7.4,7.2,6.4,6.1,6.2,7.2,6.7,6.3,7.7,5.6,6.9,6,7.7,7.7,6.5,6.4,5.8,5.7,6.8,6.4,6.5,7.2,6.7,7.3,4.9,7.6,6.5,6.3,7.1,5.8,6.3,5.7,5.1,6.2,5.7,5.7,5.6,5,5.8,6.1,5.5,5.5,5.6,6.3,6.7,6,5.4,6,5.8,5.5,5.5,5.7,6,6.7,6.8,6.6,6.4,6.1,6.3,6.1,5.9,5.6,6.2,5.8,5.6,6.7,5.6,6.1,6,5.9,5,5.2,6.6,4.9,6.3,5.7,6.5,5.5,6.9,6.4,7,5,5.3,4.6,5.1,4.8,5.1,5,4.4,4.5,5,5.1,4.4,4.9,5.5,5,4.9,5.5,5.2,5.4,4.8,4.7,5.2,5.2,5,5,4.8,5.1,4.6,5.1,5.4,5.1,5.7,5.1,5.4,5.7,5.8,4.3,4.8,4.8,5.4,4.9,4.4,5,4.6,5.4,5,4.6,4.7,4.9,5.1],\"y\":[1.8,2.3,2,1.9,2.3,2.5,2.3,1.9,2.3,2.4,2.1,1.8,1.8,2.4,2.3,1.4,1.5,2.2,2,1.9,1.6,2.1,1.8,1.8,1.8,2.1,1.8,2,2,2.3,1.5,2.3,2.2,1.8,2.3,2.4,2,2.1,1.9,2,2.5,1.8,1.8,1.7,2.1,2.2,1.8,2.1,1.9,2.5,1.3,1.1,1.3,1.3,1.2,1.3,1,1.2,1.4,1.2,1.3,1.3,1.3,1.5,1.6,1.5,1.6,1.2,1,1.1,1,1.5,1.7,1.4,1.4,1.3,1.2,1.5,1.3,1.8,1.1,1.5,1,1.5,1.4,1.3,1.4,1,1.5,1,1.4,1.3,1,1.6,1.3,1.5,1.3,1.5,1.5,1.4,0.2,0.2,0.2,0.2,0.3,0.4,0.6,0.2,0.3,0.3,0.2,0.2,0.1,0.2,0.2,0.1,0.2,0.1,0.4,0.2,0.2,0.2,0.2,0.4,0.2,0.2,0.5,0.2,0.4,0.2,0.3,0.3,0.3,0.4,0.4,0.2,0.1,0.1,0.2,0.2,0.1,0.2,0.2,0.3,0.4,0.2,0.2,0.2,0.2,0.2]}];\n",
       " var layout_VqhZ31WOlY = {\"height\":550,\"width\":600,\"hovermode\":\"closest\",\"title\":{\"text\":\"Uninformative Chart\"},\"showlegend\":true};\n",
       " var config_VqhZ31WOlY = {\"responsive\":true,\"scrollZoom\":true,\"displaylogo\":false};\n",
       " Plotly.newPlot(\"graph_VqhZ31WOlY\", traces_VqhZ31WOlY, layout_VqhZ31WOlY, config_VqhZ31WOlY);\n",
       "</script> \n"
      ]
     },
     "metadata": {},
     "output_type": "display_data"
    }
   ],
   "source": [
    "val series = XY(sepal_length, petal_width) asType SCATTER drawStyle MARKERS\n",
    "\n",
    "val chart = Chart() addSeries series setTitle \"Uninformative Chart\"\n",
    "\n",
    "chart.plotInline"
   ]
  },
  {
   "cell_type": "markdown",
   "metadata": {},
   "source": [
    "The above chart is not very informative. However since we have the per data point category labels, we can use the utility function to display the data in the different clusters"
   ]
  },
  {
   "cell_type": "code",
   "execution_count": 54,
   "metadata": {},
   "outputs": [
    {
     "data": {
      "text/html": [
       "<div id=\"grid-container_lHPg82LOZ3\" class=\"grid-container\" align=\"center\"> \n",
       "<div id=\"grid_lHPg82LOZ3\" class=\"grid\" align=\"center\"> \n",
       "<div id=\"graph_CIyc9ZatHa\" class=\"graph\"></div> \n",
       "</div> \n",
       "</div> \n",
       "<script>\n",
       "var masonry = new Macy({\n",
       "    container: '#grid_lHPg82LOZ3',\n",
       "    debug: true,\n",
       "    mobileFirst: true,\n",
       "    columns: 1,\n",
       "    margin: {\n",
       "        x: 0,\n",
       "        y: 0\n",
       "    }\n",
       "  });\n",
       "\n",
       "  var traces_CIyc9ZatHa = [{\"name\":\"Iris-versicolor\",\"type\":\"scatter\",\"mode\":\"markers\",\"x\":[7,6.4,6.9,5.5,6.5,5.7,6.3,4.9,6.6,5.2,5,5.9,6,6.1,5.6,6.7,5.6,5.8,6.2,5.6,5.9,6.1,6.3,6.1,6.4,6.6,6.8,6.7,6,5.7,5.5,5.5,5.8,6,5.4,6,6.7,6.3,5.6,5.5,5.5,6.1,5.8,5,5.6,5.7,5.7,6.2,5.1,5.7],\"y\":[1.4,1.5,1.5,1.3,1.5,1.3,1.6,1,1.3,1.4,1,1.5,1,1.4,1.3,1.4,1.5,1,1.5,1.1,1.8,1.3,1.5,1.2,1.3,1.4,1.4,1.7,1.5,1,1.1,1,1.2,1.6,1.5,1.6,1.5,1.3,1.3,1.3,1.2,1.4,1.2,1,1.3,1.2,1.3,1.3,1.1,1.3]},{\"name\":\"Iris-setosa\",\"type\":\"scatter\",\"mode\":\"markers\",\"x\":[5.1,4.9,4.7,4.6,5,5.4,4.6,5,4.4,4.9,5.4,4.8,4.8,4.3,5.8,5.7,5.4,5.1,5.7,5.1,5.4,5.1,4.6,5.1,4.8,5,5,5.2,5.2,4.7,4.8,5.4,5.2,5.5,4.9,5,5.5,4.9,4.4,5.1,5,4.5,4.4,5,5.1,4.8,5.1,4.6,5.3,5],\"y\":[0.2,0.2,0.2,0.2,0.2,0.4,0.3,0.2,0.2,0.1,0.2,0.2,0.1,0.1,0.2,0.4,0.4,0.3,0.3,0.3,0.2,0.4,0.2,0.5,0.2,0.2,0.4,0.2,0.2,0.2,0.2,0.4,0.1,0.2,0.1,0.2,0.2,0.1,0.2,0.2,0.3,0.3,0.2,0.6,0.4,0.3,0.2,0.2,0.2,0.2]},{\"name\":\"Iris-virginica\",\"type\":\"scatter\",\"mode\":\"markers\",\"x\":[6.3,5.8,7.1,6.3,6.5,7.6,4.9,7.3,6.7,7.2,6.5,6.4,6.8,5.7,5.8,6.4,6.5,7.7,7.7,6,6.9,5.6,7.7,6.3,6.7,7.2,6.2,6.1,6.4,7.2,7.4,7.9,6.4,6.3,6.1,7.7,6.3,6.4,6,6.9,6.7,6.9,5.8,6.8,6.7,6.7,6.3,6.5,6.2,5.9],\"y\":[2.5,1.9,2.1,1.8,2.2,2.1,1.7,1.8,1.8,2.5,2,1.9,2.1,2,2.4,2.3,1.8,2.2,2.3,1.5,2.3,2,2,1.8,2.1,1.8,1.8,1.8,2.1,1.6,1.9,2,2.2,1.5,1.4,2.3,2.4,1.8,1.8,2.1,2.4,2.3,1.9,2.3,2.5,2.3,1.9,2,2.3,1.8]}];\n",
       " var layout_CIyc9ZatHa = {\"height\":550,\"width\":600,\"hovermode\":\"closest\",\"title\":{\"text\":\"Iris\"},\"showlegend\":true};\n",
       " var config_CIyc9ZatHa = {\"responsive\":true,\"scrollZoom\":true,\"displaylogo\":false};\n",
       " Plotly.newPlot(\"graph_CIyc9ZatHa\", traces_CIyc9ZatHa, layout_CIyc9ZatHa, config_CIyc9ZatHa);\n",
       "</script> \n"
      ]
     },
     "metadata": {},
     "output_type": "display_data"
    }
   ],
   "source": [
    "val result = getSeriesbyCategory(categories, (sepal_length, petal_width))\n",
    "\n",
    "val chart = Chart() addSeries result setTitle \"Iris\" showLegend true\n",
    "\n",
    "chart.plotInline"
   ]
  },
  {
   "cell_type": "markdown",
   "metadata": {},
   "source": [
    "## Conus Integration\n",
    "\n",
    "Picta was originally created to help plot data in CoNuS and with Spark. A couple of utility functions make wrangling CoNuS data easier. Below is an example taken from the conus repo and plotting some variables of interest."
   ]
  },
  {
   "cell_type": "code",
   "execution_count": 55,
   "metadata": {},
   "outputs": [],
   "source": [
    "import org.carbonateresearch.picta.conus.Utils._\n",
    "import org.carbonateresearch.picta.{Canvas, Chart, XY}\n",
    "import org.carbonateresearch.conus.common.SingleModelResults\n",
    "import org.carbonateresearch.conus._\n",
    "\n",
    "import math._"
   ]
  },
  {
   "cell_type": "code",
   "execution_count": 56,
   "metadata": {
    "scrolled": false
   },
   "outputs": [
    {
     "name": "stdout",
     "output_type": "stream",
     "text": [
      "13:48:00.926 [CoNuS-akka.actor.default-dispatcher-3] INFO akka.event.slf4j.Slf4jLogger - Slf4jLogger started\n"
     ]
    },
    {
     "name": "stderr",
     "output_type": "stream",
     "text": [
      "SLF4J: A number (1) of logging calls during the initialization phase have been intercepted and are\n",
      "SLF4J: now being replayed. These are subject to the filtering rules of the underlying logging system.\n",
      "SLF4J: See also http://www.slf4j.org/codes.html#replay\n"
     ]
    },
    {
     "data": {
      "text/html": [
       "Variable <b>Number of Rats</b> with initial value of 2 Individuals  defined"
      ]
     },
     "metadata": {},
     "output_type": "display_data"
    },
    {
     "data": {
      "text/html": [
       "Variable <b>Death rate</b> with initial value of 0.0 %  defined"
      ]
     },
     "metadata": {},
     "output_type": "display_data"
    }
   ],
   "source": [
    "val simulator = new AlmondSimulator // We create an Almond specific simulator\n",
    "\n",
    "// We will now create a ver simple 2D CoNuS model. The model has a dimension of 3x3 grids, and each grid is meant to represent\n",
    "// about 100x100 meters of a field. We initialize the model with values ranging from 2.0 to 6.0. These represent the population \n",
    "// of rats living in each 100 sq meter of the field. We will run the simulation for 10 time step, each time step represents\n",
    "// one generation. We assume a perfect parity between male and female rat, and we also assume that each couple will have 10\n",
    "// babies per generation. In addition, we will simulate a death rate between 0 to 0.9 (0 to 90% of the population), assigned\n",
    "// randomly at each timestep and for each square. A major simplification is that each cell (square in the field) has its own\n",
    "// rat population, there is no movement of rats in between the different cells.\n",
    "\n",
    "// In CoNuS, values that will be calculated are know as model variables. Let's set a few\n",
    "val nbRats:ModelVariable[Int] = ModelVariable(\"Number of Rats\",2,\"Individuals\") //Notice this is an Int\n",
    "val deathRate:ModelVariable[Double] = ModelVariable(\"Death rate\",0.0,\"%\")\n",
    "\n",
    "// Let's initialise a few model conditions \n",
    "val numberOfSteps = 10\n",
    "\n",
    "// And let's create a function that, given a rat population and a deathRate, calculates a new population \n",
    "\n",
    "def survivingRats(initialPopulation:Int, deathRate:Double): Int = {\n",
    "    initialPopulation-math.floor(initialPopulation.toDouble*deathRate).toInt\n",
    "}\n"
   ]
  },
  {
   "cell_type": "code",
   "execution_count": 57,
   "metadata": {},
   "outputs": [
    {
     "name": "stdout",
     "output_type": "stream",
     "text": [
      "A total of 1 unique models were defined, attempting to create a list now.\n",
      "Models list successfully created.\n"
     ]
    },
    {
     "data": {
      "text/html": [
       "<b>Model characteristics</b><table class=\"table\"><tr><th>Feature</th><th>Value</th></tr><tr><td>Name</td><td>Simplified rat population dynamics</td></tr><tr><td>Nb of steps</td><td>10</td></tr><tr><td>Nb of models</td><td>1</td></tr><tr><td>Nb grid cells</td><td>9</td></tr><tr><td>Nb of operations per step</td><td>2</td></tr><tr><td>Total nb of operations</td><td>180</td></tr></table>"
      ]
     },
     "metadata": {},
     "output_type": "display_data"
    }
   ],
   "source": [
    "// Now we can create our model, step by step\n",
    "val ratPopulation = new SteppedModel(numberOfSteps,\"Simplified rat population dynamics\")\n",
    "    .setGrid(3,3) // 9 cells\n",
    "    .defineMathematicalModel( // In this super simple model we do only two things at each step\n",
    "      deathRate =>> {(s:Step) => scala.util.Random.nextDouble()*0.9}, // calculate a death rate\n",
    "      nbRats =>> {(s:Step) => {survivingRats(nbRats(s-1)+(nbRats(s-1)/2*10),deathRate(s))}} // calcuate the nb rats\n",
    "    )\n",
    "    .defineInitialModelConditions( // Now we need to determine the inital size of the population at each model grid\n",
    "      PerCell(nbRats,List(\n",
    "        (List(2),Seq(0,0)),\n",
    "        (List(2),Seq(0,1)),\n",
    "        (List(4),Seq(0,2)),\n",
    "        (List(4),Seq(1,0)),\n",
    "        (List(2),Seq(1,1)),\n",
    "        (List(6),Seq(1,2)),\n",
    "        (List(2),Seq(2,0)),\n",
    "        (List(4),Seq(2,1)),\n",
    "        (List(6),Seq(2,2)))))"
   ]
  },
  {
   "cell_type": "code",
   "execution_count": 60,
   "metadata": {},
   "outputs": [
    {
     "data": {
      "text/html": [
       "Run progress:<br>#################################################################################################### 100.0%"
      ]
     },
     "metadata": {},
     "output_type": "display_data"
    }
   ],
   "source": [
    "// Now we run the model\n",
    "simulator.evaluate(ratPopulation)"
   ]
  },
  {
   "cell_type": "code",
   "execution_count": 61,
   "metadata": {
    "scrolled": false
   },
   "outputs": [
    {
     "data": {
      "text/html": [
       "<div id=\"grid-container_mhkwUc5EHf\" class=\"grid-container\" align=\"center\"> \n",
       "<div id=\"grid_mhkwUc5EHf\" class=\"grid\" align=\"center\"> \n",
       "<div id=\"graph_zh02cmWUvE\" class=\"graph\"></div> \n",
       "</div> \n",
       "</div> \n",
       "<script>\n",
       "var masonry = new Macy({\n",
       "    container: '#grid_mhkwUc5EHf',\n",
       "    debug: true,\n",
       "    mobileFirst: true,\n",
       "    columns: 1,\n",
       "    margin: {\n",
       "        x: 0,\n",
       "        y: 0\n",
       "    }\n",
       "  });\n",
       "\n",
       "  var traces_zh02cmWUvE = [{\"name\":\"Death rate\",\"type\":\"scatter\",\"x\":[0,1,2,3,4,5,6,7,8],\"y\":[0.04011285862469194,0.12049393679775877,0.38443496464743915,0.1092313344885812,0.6748471799692686,0.8162010269757152,0.899140823017846,0.27423768988525254,0.4142260827014893,0.8500492258740381]},{\"name\":\"Nb of rats\",\"type\":\"scatter\",\"yaxis\":\"y2\",\"x\":[0,1,2,3,4,5,6,7,8],\"y\":[12,64,237,1263,2463,2716,1644,7159,25159,22635]}];\n",
       " var layout_zh02cmWUvE = {\"height\":550,\"width\":600,\"hovermode\":\"closest\",\"title\":{\"text\":\"Date rate vs nb of rats per generation for cell (0,0)\"},\"showlegend\":true,\"xaxis\":{\"title\":{\"text\":\"Generation\"},\"showgrid\":true,\"zeroline\":false,\"showline\":false},\"yaxis\":{\"title\":{\"text\":\"Death rate\"},\"showgrid\":true,\"zeroline\":false,\"showline\":false},\"yaxis2\":{\"title\":{\"text\":\"Nb rats\"},\"showgrid\":true,\"zeroline\":false,\"showline\":false,\"side\":\"right\",\"overlaying\":\"y\",\"tickformat\":\"0.0f\"}};\n",
       " var config_zh02cmWUvE = {\"responsive\":true,\"scrollZoom\":true,\"displaylogo\":false};\n",
       " Plotly.newPlot(\"graph_zh02cmWUvE\", traces_zh02cmWUvE, layout_zh02cmWUvE, config_zh02cmWUvE);\n",
       "</script> \n"
      ]
     },
     "metadata": {},
     "output_type": "display_data"
    },
    {
     "data": {
      "text/html": [
       "<b>Simplified rat population dynamics model #1 <br>Timestep: 9</b> [from 0 to 9]<table class=\"table\" style=\"align: center; display:block; background-color:fffff0; border: 2px solid green; height: 450px; overflow-y: scroll\"><tr><th style=\"border: 1px solid green; background-color:fffff0\">Cell coordinates</th><th style=\"border: 1px solid green; background-color:#ebebec\">Number of Rats</th><th style=\"border: 1px solid green; background-color:#ebebec\">Death rate</th></tr><tr style=\"border: 1px solid green; background-color:fffff0\"><td style=\"border: 1px solid green; background-color:fffff0\">(0, 0)</td><td style=\"border: 1px solid green; background-color:fffff0\">22635</td><td style=\"border: 1px solid green; background-color:fffff0\">0.8500492258740381</td></tr><tr style=\"border: 1px solid green; background-color:fffff0\"><td style=\"border: 1px solid green; background-color:fffff0\">(0, 1)</td><td style=\"border: 1px solid green; background-color:fffff0\">117505</td><td style=\"border: 1px solid green; background-color:fffff0\">0.2505685857614021</td></tr><tr style=\"border: 1px solid green; background-color:fffff0\"><td style=\"border: 1px solid green; background-color:fffff0\">(0, 2)</td><td style=\"border: 1px solid green; background-color:fffff0\">1188691</td><td style=\"border: 1px solid green; background-color:fffff0\">0.11437144600879766</td></tr><tr style=\"border: 1px solid green; background-color:fffff0\"><td style=\"border: 1px solid green; background-color:fffff0\">(1, 0)</td><td style=\"border: 1px solid green; background-color:fffff0\">2443262</td><td style=\"border: 1px solid green; background-color:fffff0\">0.10848891706690411</td></tr><tr style=\"border: 1px solid green; background-color:fffff0\"><td style=\"border: 1px solid green; background-color:fffff0\">(1, 1)</td><td style=\"border: 1px solid green; background-color:fffff0\">41764</td><td style=\"border: 1px solid green; background-color:fffff0\">0.4227546447621717</td></tr><tr style=\"border: 1px solid green; background-color:fffff0\"><td style=\"border: 1px solid green; background-color:fffff0\">(1, 2)</td><td style=\"border: 1px solid green; background-color:fffff0\">162309</td><td style=\"border: 1px solid green; background-color:fffff0\">0.6142902993688921</td></tr><tr style=\"border: 1px solid green; background-color:fffff0\"><td style=\"border: 1px solid green; background-color:fffff0\">(2, 0)</td><td style=\"border: 1px solid green; background-color:fffff0\">18225</td><td style=\"border: 1px solid green; background-color:fffff0\">0.529519017681563</td></tr><tr style=\"border: 1px solid green; background-color:fffff0\"><td style=\"border: 1px solid green; background-color:fffff0\">(2, 1)</td><td style=\"border: 1px solid green; background-color:fffff0\">331151</td><td style=\"border: 1px solid green; background-color:fffff0\">0.7680996103376929</td></tr><tr style=\"border: 1px solid green; background-color:fffff0\"><td style=\"border: 1px solid green; background-color:fffff0\">(2, 2)</td><td style=\"border: 1px solid green; background-color:fffff0\">134382</td><td style=\"border: 1px solid green; background-color:fffff0\">0.1701749515579096</td></tr></table>"
      ]
     },
     "metadata": {},
     "output_type": "display_data"
    }
   ],
   "source": [
    "// grab the results from the Conus model\n",
    "val model: SingleModelResults = simulator(ratPopulation)(0)\n",
    "\n",
    "val generation = (0 until numberOfSteps-1).map(x=>x.toDouble).toList\n",
    "\n",
    "// we can use the utility function to grab the series for a single variable\n",
    "val deathRateSeries: List[Double] = getDataFromSingleModel(model, deathRate, List(0,0), numberOfSteps)\n",
    "\n",
    "val xy1 = XY(generation, deathRateSeries) setName(\"Death rate\")\n",
    "\n",
    "// alternatively we can quickly get the same data for XY using the function below\n",
    "//  val xy1 = getXYSeriesFromSingleModel(model, (age, d18Occ), List(0), numberOfSteps)\n",
    "\n",
    "// lets also plot a second y variable\n",
    "val yaxis2 = Axis(\n",
    "    Y,\n",
    "    position = 2, \n",
    "    title = \"Nb rats\", \n",
    "    overlaying = Axis(Y), // this ensures that the axis sits on a seperate axis\n",
    "    side = RIGHT_SIDE, // this ensures the axis is on the right hand side\n",
    "    tickformat = \"0.0f\" // this will keep formatting reasonable for display purposes\n",
    ")\n",
    "\n",
    "// we construct the second y variable;\n",
    "val nbRatsSeries: List[Double] = getDataFromSingleModel(model, nbRats, List(0,0), numberOfSteps).map(x => x.toDouble)\n",
    "val xy2 = XY(generation, nbRatsSeries) setAxis yaxis2 setName(\"Nb of rats\")\n",
    "\n",
    "// finally we can combine in a single chart\n",
    "val chart = (\n",
    "    Chart() \n",
    "    addSeries xy1\n",
    "    addSeries xy2\n",
    "    setTitle(\"Date rate vs nb of rats per generation for cell (0,0)\") \n",
    "    addAxes(Axis(X, title=\"Generation\"), Axis(Y, title=\"Death rate\"), yaxis2)\n",
    ")\n",
    "\n",
    "val canvas = Canvas() addCharts chart\n",
    "\n",
    "// When we plot the result, we can see the legend is in the wrong place and overlaying the axis - we can overcome this\n",
    "// in the next example\n",
    "canvas.plotInline()"
   ]
  },
  {
   "cell_type": "markdown",
   "metadata": {
    "pycharm": {
     "name": "#%% md\n"
    }
   },
   "source": [
    "### Moving the Legend\n",
    "\n",
    "We can also move the Legend and position it where we would like as follows:"
   ]
  },
  {
   "cell_type": "code",
   "execution_count": 62,
   "metadata": {
    "pycharm": {
     "name": "#%%\n"
    }
   },
   "outputs": [],
   "source": [
    "import org.carbonateresearch.picta.options.AUTO"
   ]
  },
  {
   "cell_type": "code",
   "execution_count": 63,
   "metadata": {
    "scrolled": false
   },
   "outputs": [
    {
     "data": {
      "text/html": [
       "<div id=\"grid-container_hx6zxLNJhh\" class=\"grid-container\" align=\"center\"> \n",
       "<div id=\"grid_hx6zxLNJhh\" class=\"grid\" align=\"center\"> \n",
       "<div id=\"graph_tdAojAVbHi\" class=\"graph\"></div> \n",
       "</div> \n",
       "</div> \n",
       "<script>\n",
       "var masonry = new Macy({\n",
       "    container: '#grid_hx6zxLNJhh',\n",
       "    debug: true,\n",
       "    mobileFirst: true,\n",
       "    columns: 1,\n",
       "    margin: {\n",
       "        x: 0,\n",
       "        y: 0\n",
       "    }\n",
       "  });\n",
       "\n",
       "  var traces_tdAojAVbHi = [{\"name\":\"Death rate\",\"type\":\"scatter\",\"x\":[0,1,2,3,4,5,6,7,8],\"y\":[0.04011285862469194,0.12049393679775877,0.38443496464743915,0.1092313344885812,0.6748471799692686,0.8162010269757152,0.899140823017846,0.27423768988525254,0.4142260827014893,0.8500492258740381]},{\"name\":\"Nb of rats\",\"type\":\"scatter\",\"yaxis\":\"y2\",\"x\":[0,1,2,3,4,5,6,7,8],\"y\":[12,64,237,1263,2463,2716,1644,7159,25159,22635]}];\n",
       " var layout_tdAojAVbHi = {\"height\":550,\"width\":600,\"hovermode\":\"closest\",\"title\":{\"text\":\"Death rate vs Nb of rats for cell (0,0)\"},\"showlegend\":true,\"legend\":{\"orientation\":\"h\",\"x\":0.5,\"y\":-0.5,\"xanchor\":\"auto\",\"yanchor\":\"auto\"},\"xaxis\":{\"title\":{\"text\":\"Generation\"},\"showgrid\":true,\"zeroline\":false,\"showline\":false},\"yaxis\":{\"title\":{\"text\":\"Death rate\"},\"showgrid\":true,\"zeroline\":false,\"showline\":false},\"yaxis2\":{\"title\":{\"text\":\"Nb rats\"},\"showgrid\":true,\"zeroline\":false,\"showline\":false,\"side\":\"right\",\"overlaying\":\"y\",\"tickformat\":\"0.0f\"}};\n",
       " var config_tdAojAVbHi = {\"responsive\":true,\"scrollZoom\":true,\"displaylogo\":false};\n",
       " Plotly.newPlot(\"graph_tdAojAVbHi\", traces_tdAojAVbHi, layout_tdAojAVbHi, config_tdAojAVbHi);\n",
       "</script> \n"
      ]
     },
     "metadata": {},
     "output_type": "display_data"
    }
   ],
   "source": [
    "// finally we can combine in a single chart\n",
    "val chart = (\n",
    "    Chart() \n",
    "    addSeries xy1\n",
    "    addSeries xy2\n",
    "    setTitle(\"Death rate vs Nb of rats for cell (0,0)\") \n",
    "    addAxes(Axis(X, title=\"Generation\"), Axis(Y, title=\"Death rate\"), yaxis2)\n",
    "    setLegend(x = 0.5, y = -0.5, orientation = HORIZONTAL, xanchor = AUTO, yanchor = AUTO)\n",
    ")\n",
    "\n",
    "val canvas = Canvas() addCharts chart\n",
    "\n",
    "canvas.plotInline()"
   ]
  },
  {
   "cell_type": "code",
   "execution_count": 64,
   "metadata": {},
   "outputs": [
    {
     "data": {
      "text/html": [
       "<div id=\"grid-container_rC532kJpvY\" class=\"grid-container\" align=\"center\"> \n",
       "<div id=\"grid_rC532kJpvY\" class=\"grid\" align=\"center\"> \n",
       "\n",
       "<div align=\"center\">\n",
       "  <div id=\"graph_LlsRvtAhPU\" class=\"graph\"></div>\n",
       "  <div class=\"animationInterface\">\n",
       "    <button id=\"play_LlsRvtAhPU\" class=\"picta-button\">&#9658</button>\n",
       "    <button id=\"pause_LlsRvtAhPU\" class=\"picta-button\">&#9616;&#9616;</button>\n",
       "    <button id=\"prev_LlsRvtAhPU\" class=\"picta-button\"><</button>\n",
       "    <button id=\"next_LlsRvtAhPU\" class=\"picta-button\">></button>\n",
       "\n",
       "    <div id=\"sliderContainer_LlsRvtAhPU\" class=\"progressBar\"></div>\n",
       "    <div id=\"counterContainer_LlsRvtAhPU\" class=\"inline-div\">\n",
       "        <h3>Frame: </h3> <h3 id=\"value_LlsRvtAhPU\">0</h3>\n",
       "    </div>\n",
       "   </div>\n",
       "</div> \n",
       "\n",
       "</div> \n",
       "</div> \n",
       "<script>\n",
       "var masonry = new Macy({\n",
       "    container: '#grid_rC532kJpvY',\n",
       "    debug: true,\n",
       "    mobileFirst: true,\n",
       "    columns: 1,\n",
       "    margin: {\n",
       "        x: 0,\n",
       "        y: 0\n",
       "    }\n",
       "  });\n",
       "\n",
       "var graph_LlsRvtAhPU = document.getElementById('graph_LlsRvtAhPU')\n",
       "\n",
       "var layout_LlsRvtAhPU = {\"height\":550,\"width\":600,\"hovermode\":\"closest\",\"title\":{\"text\":\"Animation XY with Multiple Series\"},\"showlegend\":true,\"legend\":{\"orientation\":\"h\",\"x\":0.5,\"y\":-0.5,\"xanchor\":\"auto\",\"yanchor\":\"auto\"},\"xaxis\":{\"title\":{\"text\":\"Generation\"},\"showgrid\":true,\"zeroline\":false,\"showline\":false,\"range\":[0,9]},\"yaxis\":{\"title\":{\"text\":\"Death Rate\"},\"showgrid\":true,\"zeroline\":false,\"showline\":false,\"range\":[0,1]},\"yaxis2\":{\"title\":{\"text\":\"Nb rats\"},\"showgrid\":true,\"zeroline\":false,\"showline\":false,\"side\":\"right\",\"overlaying\":\"y\",\"range\":[0,10000],\"tickformat\":\"0.0f\"}}\n",
       "var frames_LlsRvtAhPU = [{\"name\":\"Frame 0\",\"data\":[{\"name\":\"Death Rate (F0)\",\"type\":\"scatter\",\"x\":[0],\"y\":[0.04011285862469194]},{\"name\":\"Nb of rats (F0)\",\"type\":\"scatter\",\"yaxis\":\"y2\",\"x\":[0],\"y\":[12]}]},{\"name\":\"Frame 1\",\"data\":[{\"name\":\"Death Rate (F1)\",\"type\":\"scatter\",\"x\":[0,1],\"y\":[0.04011285862469194,0.12049393679775877]},{\"name\":\"Nb of rats (F1)\",\"type\":\"scatter\",\"yaxis\":\"y2\",\"x\":[0,1],\"y\":[12,64]}]},{\"name\":\"Frame 2\",\"data\":[{\"name\":\"Death Rate (F2)\",\"type\":\"scatter\",\"x\":[0,1,2],\"y\":[0.04011285862469194,0.12049393679775877,0.38443496464743915]},{\"name\":\"Nb of rats (F2)\",\"type\":\"scatter\",\"yaxis\":\"y2\",\"x\":[0,1,2],\"y\":[12,64,237]}]},{\"name\":\"Frame 3\",\"data\":[{\"name\":\"Death Rate (F3)\",\"type\":\"scatter\",\"x\":[0,1,2,3],\"y\":[0.04011285862469194,0.12049393679775877,0.38443496464743915,0.1092313344885812]},{\"name\":\"Nb of rats (F3)\",\"type\":\"scatter\",\"yaxis\":\"y2\",\"x\":[0,1,2,3],\"y\":[12,64,237,1263]}]},{\"name\":\"Frame 4\",\"data\":[{\"name\":\"Death Rate (F4)\",\"type\":\"scatter\",\"x\":[0,1,2,3,4],\"y\":[0.04011285862469194,0.12049393679775877,0.38443496464743915,0.1092313344885812,0.6748471799692686]},{\"name\":\"Nb of rats (F4)\",\"type\":\"scatter\",\"yaxis\":\"y2\",\"x\":[0,1,2,3,4],\"y\":[12,64,237,1263,2463]}]},{\"name\":\"Frame 5\",\"data\":[{\"name\":\"Death Rate (F5)\",\"type\":\"scatter\",\"x\":[0,1,2,3,4,5],\"y\":[0.04011285862469194,0.12049393679775877,0.38443496464743915,0.1092313344885812,0.6748471799692686,0.8162010269757152]},{\"name\":\"Nb of rats (F5)\",\"type\":\"scatter\",\"yaxis\":\"y2\",\"x\":[0,1,2,3,4,5],\"y\":[12,64,237,1263,2463,2716]}]},{\"name\":\"Frame 6\",\"data\":[{\"name\":\"Death Rate (F6)\",\"type\":\"scatter\",\"x\":[0,1,2,3,4,5,6],\"y\":[0.04011285862469194,0.12049393679775877,0.38443496464743915,0.1092313344885812,0.6748471799692686,0.8162010269757152,0.899140823017846]},{\"name\":\"Nb of rats (F6)\",\"type\":\"scatter\",\"yaxis\":\"y2\",\"x\":[0,1,2,3,4,5,6],\"y\":[12,64,237,1263,2463,2716,1644]}]},{\"name\":\"Frame 7\",\"data\":[{\"name\":\"Death Rate (F7)\",\"type\":\"scatter\",\"x\":[0,1,2,3,4,5,6,7],\"y\":[0.04011285862469194,0.12049393679775877,0.38443496464743915,0.1092313344885812,0.6748471799692686,0.8162010269757152,0.899140823017846,0.27423768988525254]},{\"name\":\"Nb of rats (F7)\",\"type\":\"scatter\",\"yaxis\":\"y2\",\"x\":[0,1,2,3,4,5,6,7],\"y\":[12,64,237,1263,2463,2716,1644,7159]}]},{\"name\":\"Frame 8\",\"data\":[{\"name\":\"Death Rate (F8)\",\"type\":\"scatter\",\"x\":[0,1,2,3,4,5,6,7,8],\"y\":[0.04011285862469194,0.12049393679775877,0.38443496464743915,0.1092313344885812,0.6748471799692686,0.8162010269757152,0.899140823017846,0.27423768988525254,0.4142260827014893]},{\"name\":\"Nb of rats (F8)\",\"type\":\"scatter\",\"yaxis\":\"y2\",\"x\":[0,1,2,3,4,5,6,7,8],\"y\":[12,64,237,1263,2463,2716,1644,7159,25159]}]}]\n",
       "var labels_LlsRvtAhPU = [\"Frame 0\",\"Frame 1\",\"Frame 2\",\"Frame 3\",\"Frame 4\",\"Frame 5\",\"Frame 6\",\"Frame 7\",\"Frame 8\"]\n",
       "var duration_LlsRvtAhPU = 100\n",
       "var config_LlsRvtAhPU = {\"responsive\":true,\"scrollZoom\":true,\"displaylogo\":false}\n",
       "\n",
       "var traces_LlsRvtAhPU = JSON.parse(JSON.stringify(frames_LlsRvtAhPU[0].data.map(x => x)))\n",
       "\n",
       "var animation_settings_LlsRvtAhPU = {\n",
       "    mode: \"immediate\",\n",
       "    direction: {},\n",
       "    fromcurrent: true,\n",
       "    frame: [\n",
       "      {duration: duration_LlsRvtAhPU},\n",
       "      {duration: duration_LlsRvtAhPU},\n",
       "      {redraw: true}\n",
       "    ],\n",
       "    transition: [\n",
       "      {duration: duration_LlsRvtAhPU, easing: 'cubic-in-out'},\n",
       "      {duration: duration_LlsRvtAhPU, easing: 'cubic-in-out'},\n",
       "    ],\n",
       "    ordering: \"layout first\"\n",
       "}\n",
       "\n",
       "var slider_LlsRvtAhPU = document.createElement(\"input\")\n",
       "var play_LlsRvtAhPU = document.getElementById(\"play_LlsRvtAhPU\")\n",
       "var pause_LlsRvtAhPU = document.getElementById(\"pause_LlsRvtAhPU\")\n",
       "slider_LlsRvtAhPU.id = \"slider_LlsRvtAhPU\"\n",
       "slider_LlsRvtAhPU.type = \"range\"\n",
       "slider_LlsRvtAhPU.min = 0\n",
       "slider_LlsRvtAhPU.max = frames_LlsRvtAhPU.length - 1\n",
       "slider_LlsRvtAhPU.value = 0\n",
       "document.getElementById(\"sliderContainer_LlsRvtAhPU\").appendChild(slider_LlsRvtAhPU);\n",
       "\n",
       "Plotly.newPlot(graph_LlsRvtAhPU, traces_LlsRvtAhPU, layout_LlsRvtAhPU, config_LlsRvtAhPU)\n",
       ".then(function () { Plotly.addFrames(graph_LlsRvtAhPU, frames_LlsRvtAhPU) })\n",
       "\n",
       "var trigger_LlsRvtAhPU = true\n",
       "var reset_count_LlsRvtAhPU = false\n",
       "\n",
       "play_LlsRvtAhPU.addEventListener('click', async function() {\n",
       "   trigger_LlsRvtAhPU = true\n",
       "   if (reset_count_LlsRvtAhPU) {\n",
       "      slider_LlsRvtAhPU.value = 0\n",
       "      reset_count_LlsRvtAhPU = false\n",
       "   }\n",
       "\n",
       "  const start_index = slider_LlsRvtAhPU.value == labels_LlsRvtAhPU.length - 1 ? 0 : slider_LlsRvtAhPU.value\n",
       "  const end_index = labels_LlsRvtAhPU.length\n",
       "  await Plotly.animate(graph_LlsRvtAhPU, labels_LlsRvtAhPU.slice(start_index, end_index), animation_settings_LlsRvtAhPU)\n",
       "})\n",
       "\n",
       "pause_LlsRvtAhPU.addEventListener('click', async function() {\n",
       "  await Plotly.animate(graph_LlsRvtAhPU, [null], animation_settings_LlsRvtAhPU)\n",
       "  trigger_LlsRvtAhPU = false;\n",
       "})\n",
       "\n",
       "graph_LlsRvtAhPU.on('plotly_redraw', () => {\n",
       "   value_LlsRvtAhPU.innerHTML = slider_LlsRvtAhPU.value;\n",
       "   if (trigger_LlsRvtAhPU & !reset_count_LlsRvtAhPU) ++slider_LlsRvtAhPU.value\n",
       "   if (slider_LlsRvtAhPU.value == labels_LlsRvtAhPU.length - 1) reset_count_LlsRvtAhPU = true\n",
       "});\n",
       "\n",
       "slider_LlsRvtAhPU.oninput = async function() {\n",
       "   await Plotly.animate(graph_LlsRvtAhPU, frames_LlsRvtAhPU[this.value], animation_settings_LlsRvtAhPU)\n",
       "   trigger_LlsRvtAhPU = false\n",
       "   slider_LlsRvtAhPU.value = this.value\n",
       "   value_LlsRvtAhPU.innerHTML = this.value;\n",
       "   if (this.value == 0) reset_count_LlsRvtAhPU = false\n",
       "   if (this.value == labels_LlsRvtAhPU.length - 1) reset_count_LlsRvtAhPU = true\n",
       "   reset_count_LlsRvtAhPU = false\n",
       "}\n",
       "\n",
       "next_LlsRvtAhPU.addEventListener('click', function() {\n",
       "    if (slider_LlsRvtAhPU.value == labels_LlsRvtAhPU.length - 1) {\n",
       "        reset_count_LlsRvtAhPU = true;\n",
       "        return;\n",
       "    }\n",
       "    ++slider_LlsRvtAhPU.value;\n",
       "    value_LlsRvtAhPU.innerHTML = slider_LlsRvtAhPU.value;\n",
       "    trigger_LlsRvtAhPU = false;\n",
       "    slider_LlsRvtAhPU.oninput();\n",
       "})\n",
       "\n",
       "prev_LlsRvtAhPU.addEventListener('click', function() {\n",
       "    if (slider_LlsRvtAhPU.value == 0) {\n",
       "        reset_count_LlsRvtAhPU = false;\n",
       "        return;\n",
       "    }\n",
       "    --slider_LlsRvtAhPU.value;\n",
       "    value_LlsRvtAhPU.innerHTML = slider_LlsRvtAhPU.value;\n",
       "    trigger_LlsRvtAhPU = false;\n",
       "    slider_LlsRvtAhPU.oninput();\n",
       "})\n",
       "\n",
       "</script> \n"
      ]
     },
     "metadata": {},
     "output_type": "display_data"
    }
   ],
   "source": [
    "val xaxis = Axis(X, title = \"Generation\") setLimits (0.0, 9.0)\n",
    "val yaxis = Axis(Y, title = \"Death Rate\") setLimits(0.0, 1.0)\n",
    "\n",
    "// lets also plot a second y variable\n",
    "val yaxis2 = Axis(\n",
    "    Y,\n",
    "    position = 2, \n",
    "    title = \"Nb rats\",\n",
    "    overlaying = Axis(Y), // this ensures that the axis sits on a seperate axis\n",
    "    side = RIGHT_SIDE, // this ensures the axis is on the right hand side\n",
    "    tickformat = \"0.0f\" // this will keep formatting reasonable for display purposes\n",
    ").setLimits (0.0, 10000.0)\n",
    "\n",
    "// we can also specifiy the underlying layout directly - sometimes this can be useful\n",
    "val layout = ChartLayout(\"Animation XY with Multiple Series\") setAxes(xaxis, yaxis, yaxis2)\n",
    "\n",
    "val animation = \n",
    "    (0 to generation.size-1)\n",
    "    .map(x => XY(generation.take(x+1), deathRateSeries.take(x+1)) setName \"Death Rate\")\n",
    "    .toList\n",
    "\n",
    "val animation2 = \n",
    "    (0 to generation.size-1)\n",
    "    .map(x => XY(generation.take(x+1), nbRatsSeries.take(x+1)) setName \"Nb of rats\" setAxis yaxis2)\n",
    "    .toList\n",
    "\n",
    "val chart = (\n",
    "    Chart(animated = true, transition_duration=100, animate_multiple_series = true)\n",
    "    setChartLayout layout \n",
    "    addSeries animation\n",
    "    addSeries animation2\n",
    "    setLegend(x = 0.5, y = -0.5, orientation = HORIZONTAL, xanchor = AUTO, yanchor = AUTO)\n",
    ") \n",
    "\n",
    "chart.plotInline"
   ]
  },
  {
   "cell_type": "code",
   "execution_count": 65,
   "metadata": {
    "pycharm": {
     "name": "#%%\n"
    }
   },
   "outputs": [
    {
     "data": {
      "text/html": [
       "<div id=\"grid-container_VdeGBbvyhY\" class=\"grid-container\" align=\"center\"> \n",
       "<div id=\"grid_VdeGBbvyhY\" class=\"grid\" align=\"center\"> \n",
       "<div id=\"graph_QoNoCZE6t1\" class=\"graph\"></div> \n",
       "</div> \n",
       "</div> \n",
       "<script>\n",
       "var masonry = new Macy({\n",
       "    container: '#grid_VdeGBbvyhY',\n",
       "    debug: true,\n",
       "    mobileFirst: true,\n",
       "    columns: 1,\n",
       "    margin: {\n",
       "        x: 0,\n",
       "        y: 0\n",
       "    }\n",
       "  });\n",
       "\n",
       "  var traces_QoNoCZE6t1 = [{\"name\":\"qEv1RAWO0X\",\"type\":\"heatmap\",\"z\":[[22635,117505,1188691],[2443262,41764,162309],[18225,331151,134382]]}];\n",
       " var layout_QoNoCZE6t1 = {\"height\":550,\"width\":600,\"hovermode\":\"closest\",\"title\":{\"text\":\"Nb of rats at time step 10\"},\"showlegend\":true};\n",
       " var config_QoNoCZE6t1 = {\"responsive\":true,\"scrollZoom\":true,\"displaylogo\":false};\n",
       " Plotly.newPlot(\"graph_QoNoCZE6t1\", traces_QoNoCZE6t1, layout_QoNoCZE6t1, config_QoNoCZE6t1);\n",
       "</script> \n"
      ]
     },
     "metadata": {},
     "output_type": "display_data"
    }
   ],
   "source": [
    "val nbCol = (0 to 2).toList\n",
    "val mySeries:List[Double] = nbCol.flatMap(r => {\n",
    "    nbCol.map{c => getDataFromSingleModel(model, nbRats, List(r,c), numberOfSteps).last.toDouble}})\n",
    "\n",
    "val series = XYZ(z=mySeries,n=3) asType HEATMAP\n",
    "\n",
    "val chart = Chart().addSeries(series).setTitle(\"Nb of rats at time step 10\")\n",
    "\n",
    "chart.plotInline"
   ]
  },
  {
   "cell_type": "code",
   "execution_count": 66,
   "metadata": {},
   "outputs": [
    {
     "data": {
      "text/html": [
       "<div id=\"grid-container_5JUksgPfc4\" class=\"grid-container\" align=\"center\"> \n",
       "<div id=\"grid_5JUksgPfc4\" class=\"grid\" align=\"center\"> \n",
       "<div id=\"graph_iLmP3Rn5Fm\" class=\"graph\"></div> \n",
       "</div> \n",
       "</div> \n",
       "<script>\n",
       "var masonry = new Macy({\n",
       "    container: '#grid_5JUksgPfc4',\n",
       "    debug: true,\n",
       "    mobileFirst: true,\n",
       "    columns: 1,\n",
       "    margin: {\n",
       "        x: 0,\n",
       "        y: 0\n",
       "    }\n",
       "  });\n",
       "\n",
       "  var traces_iLmP3Rn5Fm = [{\"name\":\"2OeKjXRigP\",\"type\":\"surface\",\"colorbar\":{\"title\":{\"text\":\"Rat Population\",\"side\":\"right\"}},\"z\":[[22635,117505,1188691],[2443262,41764,162309],[18225,331151,134382]]}];\n",
       " var layout_iLmP3Rn5Fm = {\"height\":550,\"width\":600,\"hovermode\":\"closest\",\"title\":{\"text\":\"Surface\"},\"showlegend\":true};\n",
       " var config_iLmP3Rn5Fm = {\"responsive\":true,\"scrollZoom\":true,\"displaylogo\":false};\n",
       " Plotly.newPlot(\"graph_iLmP3Rn5Fm\", traces_iLmP3Rn5Fm, layout_iLmP3Rn5Fm, config_iLmP3Rn5Fm);\n",
       "</script> \n"
      ]
     },
     "metadata": {},
     "output_type": "display_data"
    }
   ],
   "source": [
    "val ratsAsSurface = XYZ(z=mySeries,n=3) asType SURFACE setColorBar(\"Rat Population\", RIGHT_SIDE)\n",
    "\n",
    "val ratsChart = Chart() addSeries ratsAsSurface setTitle \"Surface\"\n",
    "\n",
    "ratsChart.plotInline"
   ]
  },
  {
   "cell_type": "code",
   "execution_count": 67,
   "metadata": {},
   "outputs": [
    {
     "data": {
      "text/html": [
       "<div id=\"grid-container_ZOvzZh7oUc\" class=\"grid-container\" align=\"center\"> \n",
       "<div id=\"grid_ZOvzZh7oUc\" class=\"grid\" align=\"center\"> \n",
       "\n",
       "<div align=\"center\">\n",
       "  <div id=\"graph_Ru2GruCbcs\" class=\"graph\"></div>\n",
       "  <div class=\"animationInterface\">\n",
       "    <button id=\"play_Ru2GruCbcs\" class=\"picta-button\">&#9658</button>\n",
       "    <button id=\"pause_Ru2GruCbcs\" class=\"picta-button\">&#9616;&#9616;</button>\n",
       "    <button id=\"prev_Ru2GruCbcs\" class=\"picta-button\"><</button>\n",
       "    <button id=\"next_Ru2GruCbcs\" class=\"picta-button\">></button>\n",
       "\n",
       "    <div id=\"sliderContainer_Ru2GruCbcs\" class=\"progressBar\"></div>\n",
       "    <div id=\"counterContainer_Ru2GruCbcs\" class=\"inline-div\">\n",
       "        <h3>Frame: </h3> <h3 id=\"value_Ru2GruCbcs\">0</h3>\n",
       "    </div>\n",
       "   </div>\n",
       "</div> \n",
       "\n",
       "</div> \n",
       "</div> \n",
       "<script>\n",
       "var masonry = new Macy({\n",
       "    container: '#grid_ZOvzZh7oUc',\n",
       "    debug: true,\n",
       "    mobileFirst: true,\n",
       "    columns: 1,\n",
       "    margin: {\n",
       "        x: 0,\n",
       "        y: 0\n",
       "    }\n",
       "  });\n",
       "\n",
       "var graph_Ru2GruCbcs = document.getElementById('graph_Ru2GruCbcs')\n",
       "\n",
       "var layout_Ru2GruCbcs = {\"height\":550,\"width\":600,\"hovermode\":\"closest\",\"title\":{\"text\":\"Animated Surface\"},\"showlegend\":true,\"scene\":{\"zaxis\":{\"showgrid\":true,\"zeroline\":false,\"showline\":false,\"range\":[0,2000000]}}}\n",
       "var frames_Ru2GruCbcs = [{\"name\":\"NdkPVUuHox (F0)\",\"data\":[{\"name\":\"NdkPVUuHox (F0)\",\"type\":\"surface\",\"colorbar\":{\"title\":{\"text\":\"Rat Population\",\"side\":\"right\"}},\"z\":[[12,5,8],[24,6,9],[8,22,34]]}]},{\"name\":\"mt6Bml2asV (F1)\",\"data\":[{\"name\":\"mt6Bml2asV (F1)\",\"type\":\"surface\",\"colorbar\":{\"title\":{\"text\":\"Rat Population\",\"side\":\"right\"}},\"z\":[[64,12,45],[131,15,9],[11,132,64]]}]},{\"name\":\"MszNcMB4Ff (F2)\",\"data\":[{\"name\":\"MszNcMB4Ff (F2)\",\"type\":\"surface\",\"colorbar\":{\"title\":{\"text\":\"Rat Population\",\"side\":\"right\"}},\"z\":[[237,22,155],[349,36,21],[11,321,260]]}]},{\"name\":\"P3xjxLoxgr (F3)\",\"data\":[{\"name\":\"P3xjxLoxgr (F3)\",\"type\":\"surface\",\"colorbar\":{\"title\":{\"text\":\"Rat Population\",\"side\":\"right\"}},\"z\":[[1263,38,355],[1505,67,117],[50,573,477]]}]},{\"name\":\"KOHZ1d1dcP (F4)\",\"data\":[{\"name\":\"KOHZ1d1dcP (F4)\",\"type\":\"surface\",\"colorbar\":{\"title\":{\"text\":\"Rat Population\",\"side\":\"right\"}},\"z\":[[2463,134,1650],[4486,155,472],[181,2283,2679]]}]},{\"name\":\"dwdaiwcwcp (F5)\",\"data\":[{\"name\":\"dwdaiwcwcp (F5)\",\"type\":\"surface\",\"colorbar\":{\"title\":{\"text\":\"Rat Population\",\"side\":\"right\"}},\"z\":[[2716,405,9600],[10824,157,565],[330,5586,2937]]}]},{\"name\":\"MsnHLhWCE3 (F6)\",\"data\":[{\"name\":\"MsnHLhWCE3 (F6)\",\"type\":\"surface\",\"colorbar\":{\"title\":{\"text\":\"Rat Population\",\"side\":\"right\"}},\"z\":[[1644,2404,52424],[34707,890,2161],[1100,23933,10948]]}]},{\"name\":\"8f22KBgAnc (F7)\",\"data\":[{\"name\":\"8f22KBgAnc (F7)\",\"type\":\"surface\",\"colorbar\":{\"title\":{\"text\":\"Rat Population\",\"side\":\"right\"}},\"z\":[[7159,9963,221679],[137046,5183,12960],[2425,88407,9340]]}]},{\"name\":\"7Jyn2Zn45U (F8)\",\"data\":[{\"name\":\"7Jyn2Zn45U (F8)\",\"type\":\"surface\",\"colorbar\":{\"title\":{\"text\":\"Rat Population\",\"side\":\"right\"}},\"z\":[[25159,26132,223700],[456764,12059,70134],[6456,237998,26990]]}]},{\"name\":\"rPiodyJ3Kb (F9)\",\"data\":[{\"name\":\"rPiodyJ3Kb (F9)\",\"type\":\"surface\",\"colorbar\":{\"title\":{\"text\":\"Rat Population\",\"side\":\"right\"}},\"z\":[[22635,117505,1188691],[2443262,41764,162309],[18225,331151,134382]]}]}]\n",
       "var labels_Ru2GruCbcs = [\"NdkPVUuHox (F0)\",\"mt6Bml2asV (F1)\",\"MszNcMB4Ff (F2)\",\"P3xjxLoxgr (F3)\",\"KOHZ1d1dcP (F4)\",\"dwdaiwcwcp (F5)\",\"MsnHLhWCE3 (F6)\",\"8f22KBgAnc (F7)\",\"7Jyn2Zn45U (F8)\",\"rPiodyJ3Kb (F9)\"]\n",
       "var duration_Ru2GruCbcs = 100\n",
       "var config_Ru2GruCbcs = {\"responsive\":true,\"scrollZoom\":true,\"displaylogo\":false}\n",
       "\n",
       "var traces_Ru2GruCbcs = JSON.parse(JSON.stringify(frames_Ru2GruCbcs[0].data.map(x => x)))\n",
       "\n",
       "var animation_settings_Ru2GruCbcs = {\n",
       "    mode: \"immediate\",\n",
       "    direction: {},\n",
       "    fromcurrent: true,\n",
       "    frame: [\n",
       "      {duration: duration_Ru2GruCbcs},\n",
       "      {duration: duration_Ru2GruCbcs},\n",
       "      {redraw: true}\n",
       "    ],\n",
       "    transition: [\n",
       "      {duration: duration_Ru2GruCbcs, easing: 'cubic-in-out'},\n",
       "      {duration: duration_Ru2GruCbcs, easing: 'cubic-in-out'},\n",
       "    ],\n",
       "    ordering: \"layout first\"\n",
       "}\n",
       "\n",
       "var slider_Ru2GruCbcs = document.createElement(\"input\")\n",
       "var play_Ru2GruCbcs = document.getElementById(\"play_Ru2GruCbcs\")\n",
       "var pause_Ru2GruCbcs = document.getElementById(\"pause_Ru2GruCbcs\")\n",
       "slider_Ru2GruCbcs.id = \"slider_Ru2GruCbcs\"\n",
       "slider_Ru2GruCbcs.type = \"range\"\n",
       "slider_Ru2GruCbcs.min = 0\n",
       "slider_Ru2GruCbcs.max = frames_Ru2GruCbcs.length - 1\n",
       "slider_Ru2GruCbcs.value = 0\n",
       "document.getElementById(\"sliderContainer_Ru2GruCbcs\").appendChild(slider_Ru2GruCbcs);\n",
       "\n",
       "Plotly.newPlot(graph_Ru2GruCbcs, traces_Ru2GruCbcs, layout_Ru2GruCbcs, config_Ru2GruCbcs)\n",
       ".then(function () { Plotly.addFrames(graph_Ru2GruCbcs, frames_Ru2GruCbcs) })\n",
       "\n",
       "var trigger_Ru2GruCbcs = true\n",
       "var reset_count_Ru2GruCbcs = false\n",
       "\n",
       "play_Ru2GruCbcs.addEventListener('click', async function() {\n",
       "   trigger_Ru2GruCbcs = true\n",
       "   if (reset_count_Ru2GruCbcs) {\n",
       "      slider_Ru2GruCbcs.value = 0\n",
       "      reset_count_Ru2GruCbcs = false\n",
       "   }\n",
       "\n",
       "  const start_index = slider_Ru2GruCbcs.value == labels_Ru2GruCbcs.length - 1 ? 0 : slider_Ru2GruCbcs.value\n",
       "  const end_index = labels_Ru2GruCbcs.length\n",
       "  await Plotly.animate(graph_Ru2GruCbcs, labels_Ru2GruCbcs.slice(start_index, end_index), animation_settings_Ru2GruCbcs)\n",
       "})\n",
       "\n",
       "pause_Ru2GruCbcs.addEventListener('click', async function() {\n",
       "  await Plotly.animate(graph_Ru2GruCbcs, [null], animation_settings_Ru2GruCbcs)\n",
       "  trigger_Ru2GruCbcs = false;\n",
       "})\n",
       "\n",
       "graph_Ru2GruCbcs.on('plotly_redraw', () => {\n",
       "   value_Ru2GruCbcs.innerHTML = slider_Ru2GruCbcs.value;\n",
       "   if (trigger_Ru2GruCbcs & !reset_count_Ru2GruCbcs) ++slider_Ru2GruCbcs.value\n",
       "   if (slider_Ru2GruCbcs.value == labels_Ru2GruCbcs.length - 1) reset_count_Ru2GruCbcs = true\n",
       "});\n",
       "\n",
       "slider_Ru2GruCbcs.oninput = async function() {\n",
       "   await Plotly.animate(graph_Ru2GruCbcs, frames_Ru2GruCbcs[this.value], animation_settings_Ru2GruCbcs)\n",
       "   trigger_Ru2GruCbcs = false\n",
       "   slider_Ru2GruCbcs.value = this.value\n",
       "   value_Ru2GruCbcs.innerHTML = this.value;\n",
       "   if (this.value == 0) reset_count_Ru2GruCbcs = false\n",
       "   if (this.value == labels_Ru2GruCbcs.length - 1) reset_count_Ru2GruCbcs = true\n",
       "   reset_count_Ru2GruCbcs = false\n",
       "}\n",
       "\n",
       "next_Ru2GruCbcs.addEventListener('click', function() {\n",
       "    if (slider_Ru2GruCbcs.value == labels_Ru2GruCbcs.length - 1) {\n",
       "        reset_count_Ru2GruCbcs = true;\n",
       "        return;\n",
       "    }\n",
       "    ++slider_Ru2GruCbcs.value;\n",
       "    value_Ru2GruCbcs.innerHTML = slider_Ru2GruCbcs.value;\n",
       "    trigger_Ru2GruCbcs = false;\n",
       "    slider_Ru2GruCbcs.oninput();\n",
       "})\n",
       "\n",
       "prev_Ru2GruCbcs.addEventListener('click', function() {\n",
       "    if (slider_Ru2GruCbcs.value == 0) {\n",
       "        reset_count_Ru2GruCbcs = false;\n",
       "        return;\n",
       "    }\n",
       "    --slider_Ru2GruCbcs.value;\n",
       "    value_Ru2GruCbcs.innerHTML = slider_Ru2GruCbcs.value;\n",
       "    trigger_Ru2GruCbcs = false;\n",
       "    slider_Ru2GruCbcs.oninput();\n",
       "})\n",
       "\n",
       "</script> \n"
      ]
     },
     "metadata": {},
     "output_type": "display_data"
    }
   ],
   "source": [
    "def createSeries:List[List[Double]] = {\n",
    "    val nbCol = (0 to 2).toList\n",
    "    val nestedList:List[List[Double]] = nbCol.flatMap(r => {\n",
    "    nbCol.map{c => getDataFromSingleModel(model, nbRats, List(r,c), numberOfSteps).map(x=>x.toDouble)}})\n",
    "    (0 to 9).map(x => (0 to 8).map(y => nestedList(y)(x)).toList).toList\n",
    "}\n",
    "\n",
    "\n",
    "val ratsAsSurface = createSeries.map(s => XYZ(z=s,n=3) asType SURFACE setColorBar(\"Rat Population\", RIGHT_SIDE)) \n",
    "\n",
    "val ratsChart = Chart(animated = true, transition_duration=100) addSeries ratsAsSurface setTitle \"Animated Surface\" setZAxisLimits(0, 2E6)\n",
    "\n",
    "ratsChart.plotInline"
   ]
  }
 ],
 "metadata": {
  "kernelspec": {
   "display_name": "Scala",
   "language": "scala",
   "name": "scala"
  },
  "language_info": {
   "codemirror_mode": "text/x-scala",
   "file_extension": ".scala",
   "mimetype": "text/x-scala",
   "name": "scala",
   "nbconvert_exporter": "script",
   "version": "2.13.2"
  }
 },
 "nbformat": 4,
 "nbformat_minor": 4
}
