{
 "cells": [
  {
   "cell_type": "code",
   "execution_count": 46,
   "metadata": {
    "scrolled": true
   },
   "outputs": [],
   "source": [
    "interp.repositories() ++= Seq(coursierapi.MavenRepository.of(\n",
    "\"https://jitpack.io\"\n",
    "))"
   ]
  },
  {
   "cell_type": "code",
   "execution_count": 47,
   "metadata": {},
   "outputs": [],
   "source": [
    "import $ivy. `org.carbonateresearch::picta:0.1`"
   ]
  },
  {
   "cell_type": "code",
   "execution_count": 48,
   "metadata": {
    "scrolled": false
   },
   "outputs": [
    {
     "data": {
      "text/html": [
       "\n",
       "<style> #animationInterface {\n",
       "    margin-top: 50px;\n",
       "    margin-bottom: 50px;\n",
       "}\n",
       "\n",
       ".progressBar {\n",
       "    padding-top: 20px;\n",
       "    padding-bottom: 20px;\n",
       "}\n",
       "\n",
       ".inline-div {\n",
       "    display: block;\n",
       "    text-align: center;\n",
       "}\n",
       "\n",
       "h3 {\n",
       "    display: inline-block;\n",
       "    text-align: center;\n",
       "}\n",
       "\n",
       ".picta-button {\n",
       "    background-color: #003E74;\n",
       "    border: none;\n",
       "    color: white;\n",
       "    padding: 12px 28px;\n",
       "    text-align: center;\n",
       "    text-decoration: none;\n",
       "    display: inline-block;\n",
       "    font-size: 12px;\n",
       "    margin-top: 50px;\n",
       "    transition-duration: 0.4s;\n",
       "    cursor: pointer;\n",
       "}\n",
       "\n",
       ".picta-button:hover {\n",
       "    background-color: #002147;\n",
       "    color: white;\n",
       "}\n",
       "\n",
       ".grid-title h1 {\n",
       "    font-family: \"Open Sans\", verdana, arial, sans-serif;\n",
       "    font-weight: normal;\n",
       "}\n",
       "\n",
       ".grid-container {\n",
       "    padding-top: 40px;\n",
       "    background: white;\n",
       "} </style>\n",
       "<script> /** vim: et:ts=4:sw=4:sts=4\n",
       " * @license RequireJS 2.3.6 Copyright jQuery Foundation and other contributors.\n",
       " * Released under MIT license, https://github.com/requirejs/requirejs/blob/master/LICENSE\n",
       " */\n",
       "var requirejs,require,define;!function(global,setTimeout){var req,s,head,baseElement,dataMain,src,interactiveScript,currentlyAddingScript,mainScript,subPath,version=\"2.3.6\",commentRegExp=/\\/\\*[\\s\\S]*?\\*\\/|([^:\"'=]|^)\\/\\/.*$/gm,cjsRequireRegExp=/[^.]\\s*require\\s*\\(\\s*[\"']([^'\"\\s]+)[\"']\\s*\\)/g,jsSuffixRegExp=/\\.js$/,currDirRegExp=/^\\.\\//,op=Object.prototype,ostring=op.toString,hasOwn=op.hasOwnProperty,isBrowser=!(\"undefined\"==typeof window||\"undefined\"==typeof navigator||!window.document),isWebWorker=!isBrowser&&\"undefined\"!=typeof importScripts,readyRegExp=isBrowser&&\"PLAYSTATION 3\"===navigator.platform?/^complete$/:/^(complete|loaded)$/,defContextName=\"_\",isOpera=\"undefined\"!=typeof opera&&\"[object Opera]\"===opera.toString(),contexts={},cfg={},globalDefQueue=[],useInteractive=!1;function commentReplace(e,t){return t||\"\"}function isFunction(e){return\"[object Function]\"===ostring.call(e)}function isArray(e){return\"[object Array]\"===ostring.call(e)}function each(e,t){var i;if(e)for(i=0;i<e.length&&(!e[i]||!t(e[i],i,e));i+=1);}function eachReverse(e,t){var i;if(e)for(i=e.length-1;-1<i&&(!e[i]||!t(e[i],i,e));i-=1);}function hasProp(e,t){return hasOwn.call(e,t)}function getOwn(e,t){return hasProp(e,t)&&e[t]}function eachProp(e,t){var i;for(i in e)if(hasProp(e,i)&&t(e[i],i))break}function mixin(i,e,r,n){return e&&eachProp(e,function(e,t){!r&&hasProp(i,t)||(!n||\"object\"!=typeof e||!e||isArray(e)||isFunction(e)||e instanceof RegExp?i[t]=e:(i[t]||(i[t]={}),mixin(i[t],e,r,n)))}),i}function bind(e,t){return function(){return t.apply(e,arguments)}}function scripts(){return document.getElementsByTagName(\"script\")}function defaultOnError(e){throw e}function getGlobal(e){if(!e)return e;var t=global;return each(e.split(\".\"),function(e){t=t[e]}),t}function makeError(e,t,i,r){var n=new Error(t+\"\\nhttps://requirejs.org/docs/errors.html#\"+e);return n.requireType=e,n.requireModules=r,i&&(n.originalError=i),n}if(void 0===define){if(void 0!==requirejs){if(isFunction(requirejs))return;cfg=requirejs,requirejs=void 0}void 0===require||isFunction(require)||(cfg=require,require=void 0),req=requirejs=function(e,t,i,r){var n,o,a=defContextName;return isArray(e)||\"string\"==typeof e||(o=e,isArray(t)?(e=t,t=i,i=r):e=[]),o&&o.context&&(a=o.context),(n=getOwn(contexts,a))||(n=contexts[a]=req.s.newContext(a)),o&&n.configure(o),n.require(e,t,i)},req.config=function(e){return req(e)},req.nextTick=void 0!==setTimeout?function(e){setTimeout(e,4)}:function(e){e()},require||(require=req),req.version=version,req.jsExtRegExp=/^\\/|:|\\?|\\.js$/,req.isBrowser=isBrowser,s=req.s={contexts:contexts,newContext:newContext},req({}),each([\"toUrl\",\"undef\",\"defined\",\"specified\"],function(t){req[t]=function(){var e=contexts[defContextName];return e.require[t].apply(e,arguments)}}),isBrowser&&(head=s.head=document.getElementsByTagName(\"head\")[0],baseElement=document.getElementsByTagName(\"base\")[0],baseElement&&(head=s.head=baseElement.parentNode)),req.onError=defaultOnError,req.createNode=function(e,t,i){var r=e.xhtml?document.createElementNS(\"http://www.w3.org/1999/xhtml\",\"html:script\"):document.createElement(\"script\");return r.type=e.scriptType||\"text/javascript\",r.charset=\"utf-8\",r.async=!0,r},req.load=function(t,i,r){var e,n=t&&t.config||{};if(isBrowser)return(e=req.createNode(n,i,r)).setAttribute(\"data-requirecontext\",t.contextName),e.setAttribute(\"data-requiremodule\",i),!e.attachEvent||e.attachEvent.toString&&e.attachEvent.toString().indexOf(\"[native code\")<0||isOpera?(e.addEventListener(\"load\",t.onScriptLoad,!1),e.addEventListener(\"error\",t.onScriptError,!1)):(useInteractive=!0,e.attachEvent(\"onreadystatechange\",t.onScriptLoad)),e.src=r,n.onNodeCreated&&n.onNodeCreated(e,n,i,r),currentlyAddingScript=e,baseElement?head.insertBefore(e,baseElement):head.appendChild(e),currentlyAddingScript=null,e;if(isWebWorker)try{setTimeout(function(){},0),importScripts(r),t.completeLoad(i)}catch(e){t.onError(makeError(\"importscripts\",\"importScripts failed for \"+i+\" at \"+r,e,[i]))}},isBrowser&&!cfg.skipDataMain&&eachReverse(scripts(),function(e){if(head||(head=e.parentNode),dataMain=e.getAttribute(\"data-main\"))return mainScript=dataMain,cfg.baseUrl||-1!==mainScript.indexOf(\"!\")||(mainScript=(src=mainScript.split(\"/\")).pop(),subPath=src.length?src.join(\"/\")+\"/\":\"./\",cfg.baseUrl=subPath),mainScript=mainScript.replace(jsSuffixRegExp,\"\"),req.jsExtRegExp.test(mainScript)&&(mainScript=dataMain),cfg.deps=cfg.deps?cfg.deps.concat(mainScript):[mainScript],!0}),define=function(e,i,t){var r,n;\"string\"!=typeof e&&(t=i,i=e,e=null),isArray(i)||(t=i,i=null),!i&&isFunction(t)&&(i=[],t.length&&(t.toString().replace(commentRegExp,commentReplace).replace(cjsRequireRegExp,function(e,t){i.push(t)}),i=(1===t.length?[\"require\"]:[\"require\",\"exports\",\"module\"]).concat(i))),useInteractive&&(r=currentlyAddingScript||getInteractiveScript())&&(e||(e=r.getAttribute(\"data-requiremodule\")),n=contexts[r.getAttribute(\"data-requirecontext\")]),n?(n.defQueue.push([e,i,t]),n.defQueueMap[e]=!0):globalDefQueue.push([e,i,t])},define.amd={jQuery:!0},req.exec=function(text){return eval(text)},req(cfg)}function newContext(u){var i,e,l,c,d,g={waitSeconds:7,baseUrl:\"./\",paths:{},bundles:{},pkgs:{},shim:{},config:{}},p={},f={},r={},h=[],m={},n={},v={},x=1,b=1;function q(e,t,i){var r,n,o,a,s,u,c,d,p,f,l=t&&t.split(\"/\"),h=g.map,m=h&&h[\"*\"];if(e&&(u=(e=e.split(\"/\")).length-1,g.nodeIdCompat&&jsSuffixRegExp.test(e[u])&&(e[u]=e[u].replace(jsSuffixRegExp,\"\")),\".\"===e[0].charAt(0)&&l&&(e=l.slice(0,l.length-1).concat(e)),function(e){var t,i;for(t=0;t<e.length;t++)if(\".\"===(i=e[t]))e.splice(t,1),t-=1;else if(\"..\"===i){if(0===t||1===t&&\"..\"===e[2]||\"..\"===e[t-1])continue;0<t&&(e.splice(t-1,2),t-=2)}}(e),e=e.join(\"/\")),i&&h&&(l||m)){e:for(o=(n=e.split(\"/\")).length;0<o;o-=1){if(s=n.slice(0,o).join(\"/\"),l)for(a=l.length;0<a;a-=1)if((r=getOwn(h,l.slice(0,a).join(\"/\")))&&(r=getOwn(r,s))){c=r,d=o;break e}!p&&m&&getOwn(m,s)&&(p=getOwn(m,s),f=o)}!c&&p&&(c=p,d=f),c&&(n.splice(0,d,c),e=n.join(\"/\"))}return getOwn(g.pkgs,e)||e}function E(t){isBrowser&&each(scripts(),function(e){if(e.getAttribute(\"data-requiremodule\")===t&&e.getAttribute(\"data-requirecontext\")===l.contextName)return e.parentNode.removeChild(e),!0})}function w(e){var t=getOwn(g.paths,e);if(t&&isArray(t)&&1<t.length)return t.shift(),l.require.undef(e),l.makeRequire(null,{skipMap:!0})([e]),!0}function y(e){var t,i=e?e.indexOf(\"!\"):-1;return-1<i&&(t=e.substring(0,i),e=e.substring(i+1,e.length)),[t,e]}function S(e,t,i,r){var n,o,a,s,u=null,c=t?t.name:null,d=e,p=!0,f=\"\";return e||(p=!1,e=\"_@r\"+(x+=1)),u=(s=y(e))[0],e=s[1],u&&(u=q(u,c,r),o=getOwn(m,u)),e&&(u?f=i?e:o&&o.normalize?o.normalize(e,function(e){return q(e,c,r)}):-1===e.indexOf(\"!\")?q(e,c,r):e:(u=(s=y(f=q(e,c,r)))[0],f=s[1],i=!0,n=l.nameToUrl(f))),{prefix:u,name:f,parentMap:t,unnormalized:!!(a=!u||o||i?\"\":\"_unnormalized\"+(b+=1)),url:n,originalName:d,isDefine:p,id:(u?u+\"!\"+f:f)+a}}function k(e){var t=e.id,i=getOwn(p,t);return i||(i=p[t]=new l.Module(e)),i}function M(e,t,i){var r=e.id,n=getOwn(p,r);!hasProp(m,r)||n&&!n.defineEmitComplete?(n=k(e)).error&&\"error\"===t?i(n.error):n.on(t,i):\"defined\"===t&&i(m[r])}function O(i,e){var t=i.requireModules,r=!1;e?e(i):(each(t,function(e){var t=getOwn(p,e);t&&(t.error=i,t.events.error&&(r=!0,t.emit(\"error\",i)))}),r||req.onError(i))}function j(){globalDefQueue.length&&(each(globalDefQueue,function(e){var t=e[0];\"string\"==typeof t&&(l.defQueueMap[t]=!0),h.push(e)}),globalDefQueue=[])}function P(e){delete p[e],delete f[e]}function R(){var e,r,t=1e3*g.waitSeconds,n=t&&l.startTime+t<(new Date).getTime(),o=[],a=[],s=!1,u=!0;if(!i){if(i=!0,eachProp(f,function(e){var t=e.map,i=t.id;if(e.enabled&&(t.isDefine||a.push(e),!e.error))if(!e.inited&&n)w(i)?s=r=!0:(o.push(i),E(i));else if(!e.inited&&e.fetched&&t.isDefine&&(s=!0,!t.prefix))return u=!1}),n&&o.length)return(e=makeError(\"timeout\",\"Load timeout for modules: \"+o,null,o)).contextName=l.contextName,O(e);u&&each(a,function(e){!function n(o,a,s){var e=o.map.id;o.error?o.emit(\"error\",o.error):(a[e]=!0,each(o.depMaps,function(e,t){var i=e.id,r=getOwn(p,i);!r||o.depMatched[t]||s[i]||(getOwn(a,i)?(o.defineDep(t,m[i]),o.check()):n(r,a,s))}),s[e]=!0)}(e,{},{})}),n&&!r||!s||!isBrowser&&!isWebWorker||d||(d=setTimeout(function(){d=0,R()},50)),i=!1}}function a(e){hasProp(m,e[0])||k(S(e[0],null,!0)).init(e[1],e[2])}function o(e,t,i,r){e.detachEvent&&!isOpera?r&&e.detachEvent(r,t):e.removeEventListener(i,t,!1)}function s(e){var t=e.currentTarget||e.srcElement;return o(t,l.onScriptLoad,\"load\",\"onreadystatechange\"),o(t,l.onScriptError,\"error\"),{node:t,id:t&&t.getAttribute(\"data-requiremodule\")}}function T(){var e;for(j();h.length;){if(null===(e=h.shift())[0])return O(makeError(\"mismatch\",\"Mismatched anonymous define() module: \"+e[e.length-1]));a(e)}l.defQueueMap={}}return c={require:function(e){return e.require?e.require:e.require=l.makeRequire(e.map)},exports:function(e){if(e.usingExports=!0,e.map.isDefine)return e.exports?m[e.map.id]=e.exports:e.exports=m[e.map.id]={}},module:function(e){return e.module?e.module:e.module={id:e.map.id,uri:e.map.url,config:function(){return getOwn(g.config,e.map.id)||{}},exports:e.exports||(e.exports={})}}},(e=function(e){this.events=getOwn(r,e.id)||{},this.map=e,this.shim=getOwn(g.shim,e.id),this.depExports=[],this.depMaps=[],this.depMatched=[],this.pluginMaps={},this.depCount=0}).prototype={init:function(e,t,i,r){r=r||{},this.inited||(this.factory=t,i?this.on(\"error\",i):this.events.error&&(i=bind(this,function(e){this.emit(\"error\",e)})),this.depMaps=e&&e.slice(0),this.errback=i,this.inited=!0,this.ignore=r.ignore,r.enabled||this.enabled?this.enable():this.check())},defineDep:function(e,t){this.depMatched[e]||(this.depMatched[e]=!0,this.depCount-=1,this.depExports[e]=t)},fetch:function(){if(!this.fetched){this.fetched=!0,l.startTime=(new Date).getTime();var e=this.map;if(!this.shim)return e.prefix?this.callPlugin():this.load();l.makeRequire(this.map,{enableBuildCallback:!0})(this.shim.deps||[],bind(this,function(){return e.prefix?this.callPlugin():this.load()}))}},load:function(){var e=this.map.url;n[e]||(n[e]=!0,l.load(this.map.id,e))},check:function(){if(this.enabled&&!this.enabling){var t,e,i=this.map.id,r=this.depExports,n=this.exports,o=this.factory;if(this.inited){if(this.error)this.emit(\"error\",this.error);else if(!this.defining){if(this.defining=!0,this.depCount<1&&!this.defined){if(isFunction(o)){if(this.events.error&&this.map.isDefine||req.onError!==defaultOnError)try{n=l.execCb(i,o,r,n)}catch(e){t=e}else n=l.execCb(i,o,r,n);if(this.map.isDefine&&void 0===n&&((e=this.module)?n=e.exports:this.usingExports&&(n=this.exports)),t)return t.requireMap=this.map,t.requireModules=this.map.isDefine?[this.map.id]:null,t.requireType=this.map.isDefine?\"define\":\"require\",O(this.error=t)}else n=o;if(this.exports=n,this.map.isDefine&&!this.ignore&&(m[i]=n,req.onResourceLoad)){var a=[];each(this.depMaps,function(e){a.push(e.normalizedMap||e)}),req.onResourceLoad(l,this.map,a)}P(i),this.defined=!0}this.defining=!1,this.defined&&!this.defineEmitted&&(this.defineEmitted=!0,this.emit(\"defined\",this.exports),this.defineEmitComplete=!0)}}else hasProp(l.defQueueMap,i)||this.fetch()}},callPlugin:function(){var u=this.map,c=u.id,e=S(u.prefix);this.depMaps.push(e),M(e,\"defined\",bind(this,function(e){var o,t,i,r=getOwn(v,this.map.id),n=this.map.name,a=this.map.parentMap?this.map.parentMap.name:null,s=l.makeRequire(u.parentMap,{enableBuildCallback:!0});return this.map.unnormalized?(e.normalize&&(n=e.normalize(n,function(e){return q(e,a,!0)})||\"\"),M(t=S(u.prefix+\"!\"+n,this.map.parentMap,!0),\"defined\",bind(this,function(e){this.map.normalizedMap=t,this.init([],function(){return e},null,{enabled:!0,ignore:!0})})),void((i=getOwn(p,t.id))&&(this.depMaps.push(t),this.events.error&&i.on(\"error\",bind(this,function(e){this.emit(\"error\",e)})),i.enable()))):r?(this.map.url=l.nameToUrl(r),void this.load()):((o=bind(this,function(e){this.init([],function(){return e},null,{enabled:!0})})).error=bind(this,function(e){this.inited=!0,(this.error=e).requireModules=[c],eachProp(p,function(e){0===e.map.id.indexOf(c+\"_unnormalized\")&&P(e.map.id)}),O(e)}),o.fromText=bind(this,function(e,t){var i=u.name,r=S(i),n=useInteractive;t&&(e=t),n&&(useInteractive=!1),k(r),hasProp(g.config,c)&&(g.config[i]=g.config[c]);try{req.exec(e)}catch(e){return O(makeError(\"fromtexteval\",\"fromText eval for \"+c+\" failed: \"+e,e,[c]))}n&&(useInteractive=!0),this.depMaps.push(r),l.completeLoad(i),s([i],o)}),void e.load(u.name,s,o,g))})),l.enable(e,this),this.pluginMaps[e.id]=e},enable:function(){(f[this.map.id]=this).enabled=!0,this.enabling=!0,each(this.depMaps,bind(this,function(e,t){var i,r,n;if(\"string\"==typeof e){if(e=S(e,this.map.isDefine?this.map:this.map.parentMap,!1,!this.skipMap),this.depMaps[t]=e,n=getOwn(c,e.id))return void(this.depExports[t]=n(this));this.depCount+=1,M(e,\"defined\",bind(this,function(e){this.undefed||(this.defineDep(t,e),this.check())})),this.errback?M(e,\"error\",bind(this,this.errback)):this.events.error&&M(e,\"error\",bind(this,function(e){this.emit(\"error\",e)}))}i=e.id,r=p[i],hasProp(c,i)||!r||r.enabled||l.enable(e,this)})),eachProp(this.pluginMaps,bind(this,function(e){var t=getOwn(p,e.id);t&&!t.enabled&&l.enable(e,this)})),this.enabling=!1,this.check()},on:function(e,t){var i=this.events[e];i||(i=this.events[e]=[]),i.push(t)},emit:function(e,t){each(this.events[e],function(e){e(t)}),\"error\"===e&&delete this.events[e]}},(l={config:g,contextName:u,registry:p,defined:m,urlFetched:n,defQueue:h,defQueueMap:{},Module:e,makeModuleMap:S,nextTick:req.nextTick,onError:O,configure:function(e){if(e.baseUrl&&\"/\"!==e.baseUrl.charAt(e.baseUrl.length-1)&&(e.baseUrl+=\"/\"),\"string\"==typeof e.urlArgs){var i=e.urlArgs;e.urlArgs=function(e,t){return(-1===t.indexOf(\"?\")?\"?\":\"&\")+i}}var r=g.shim,n={paths:!0,bundles:!0,config:!0,map:!0};eachProp(e,function(e,t){n[t]?(g[t]||(g[t]={}),mixin(g[t],e,!0,!0)):g[t]=e}),e.bundles&&eachProp(e.bundles,function(e,t){each(e,function(e){e!==t&&(v[e]=t)})}),e.shim&&(eachProp(e.shim,function(e,t){isArray(e)&&(e={deps:e}),!e.exports&&!e.init||e.exportsFn||(e.exportsFn=l.makeShimExports(e)),r[t]=e}),g.shim=r),e.packages&&each(e.packages,function(e){var t;t=(e=\"string\"==typeof e?{name:e}:e).name,e.location&&(g.paths[t]=e.location),g.pkgs[t]=e.name+\"/\"+(e.main||\"main\").replace(currDirRegExp,\"\").replace(jsSuffixRegExp,\"\")}),eachProp(p,function(e,t){e.inited||e.map.unnormalized||(e.map=S(t,null,!0))}),(e.deps||e.callback)&&l.require(e.deps||[],e.callback)},makeShimExports:function(t){return function(){var e;return t.init&&(e=t.init.apply(global,arguments)),e||t.exports&&getGlobal(t.exports)}},makeRequire:function(o,a){function s(e,t,i){var r,n;return a.enableBuildCallback&&t&&isFunction(t)&&(t.__requireJsBuild=!0),\"string\"==typeof e?isFunction(t)?O(makeError(\"requireargs\",\"Invalid require call\"),i):o&&hasProp(c,e)?c[e](p[o.id]):req.get?req.get(l,e,o,s):(r=S(e,o,!1,!0).id,hasProp(m,r)?m[r]:O(makeError(\"notloaded\",'Module name \"'+r+'\" has not been loaded yet for context: '+u+(o?\"\":\". Use require([])\")))):(T(),l.nextTick(function(){T(),(n=k(S(null,o))).skipMap=a.skipMap,n.init(e,t,i,{enabled:!0}),R()}),s)}return a=a||{},mixin(s,{isBrowser:isBrowser,toUrl:function(e){var t,i=e.lastIndexOf(\".\"),r=e.split(\"/\")[0];return-1!==i&&(!(\".\"===r||\"..\"===r)||1<i)&&(t=e.substring(i,e.length),e=e.substring(0,i)),l.nameToUrl(q(e,o&&o.id,!0),t,!0)},defined:function(e){return hasProp(m,S(e,o,!1,!0).id)},specified:function(e){return e=S(e,o,!1,!0).id,hasProp(m,e)||hasProp(p,e)}}),o||(s.undef=function(i){j();var e=S(i,o,!0),t=getOwn(p,i);t.undefed=!0,E(i),delete m[i],delete n[e.url],delete r[i],eachReverse(h,function(e,t){e[0]===i&&h.splice(t,1)}),delete l.defQueueMap[i],t&&(t.events.defined&&(r[i]=t.events),P(i))}),s},enable:function(e){getOwn(p,e.id)&&k(e).enable()},completeLoad:function(e){var t,i,r,n=getOwn(g.shim,e)||{},o=n.exports;for(j();h.length;){if(null===(i=h.shift())[0]){if(i[0]=e,t)break;t=!0}else i[0]===e&&(t=!0);a(i)}if(l.defQueueMap={},r=getOwn(p,e),!t&&!hasProp(m,e)&&r&&!r.inited){if(!(!g.enforceDefine||o&&getGlobal(o)))return w(e)?void 0:O(makeError(\"nodefine\",\"No define call for \"+e,null,[e]));a([e,n.deps||[],n.exportsFn])}R()},nameToUrl:function(e,t,i){var r,n,o,a,s,u,c=getOwn(g.pkgs,e);if(c&&(e=c),u=getOwn(v,e))return l.nameToUrl(u,t,i);if(req.jsExtRegExp.test(e))a=e+(t||\"\");else{for(r=g.paths,o=(n=e.split(\"/\")).length;0<o;o-=1)if(s=getOwn(r,n.slice(0,o).join(\"/\"))){isArray(s)&&(s=s[0]),n.splice(0,o,s);break}a=n.join(\"/\"),a=(\"/\"===(a+=t||(/^data\\:|^blob\\:|\\?/.test(a)||i?\"\":\".js\")).charAt(0)||a.match(/^[\\w\\+\\.\\-]+:/)?\"\":g.baseUrl)+a}return g.urlArgs&&!/^blob\\:/.test(a)?a+g.urlArgs(e,a):a},load:function(e,t){req.load(l,e,t)},execCb:function(e,t,i,r){return t.apply(r,i)},onScriptLoad:function(e){if(\"load\"===e.type||readyRegExp.test((e.currentTarget||e.srcElement).readyState)){interactiveScript=null;var t=s(e);l.completeLoad(t.id)}},onScriptError:function(e){var i=s(e);if(!w(i.id)){var r=[];return eachProp(p,function(e,t){0!==t.indexOf(\"_@r\")&&each(e.depMaps,function(e){if(e.id===i.id)return r.push(t),!0})}),O(makeError(\"scripterror\",'Script error for \"'+i.id+(r.length?'\", needed by: '+r.join(\", \"):'\"'),e,[i.id]))}}}).require=l.makeRequire(),l}function getInteractiveScript(){return interactiveScript&&\"interactive\"===interactiveScript.readyState||eachReverse(scripts(),function(e){if(\"interactive\"===e.readyState)return interactiveScript=e}),interactiveScript}}(this,\"undefined\"==typeof setTimeout?void 0:setTimeout); </script>\n",
       "<script>\n",
       " require.config({\n",
       "   paths: {\n",
       "     'plotly': \"https://cdn.plot.ly/plotly-latest.min\",\n",
       "     'macy': \"https://cdn.jsdelivr.net/npm/macy@2.5.1/dist/macy.min\",\n",
       "     'merge': \"https://unpkg.com/merge-images@2.0.0/dist/index.umd\"\n",
       "   },\n",
       " })\n",
       "require( ['plotly', 'macy', 'merge'], function(Plotly, Macy, mergeImages) {\n",
       " window.Plotly = Plotly;\n",
       " window.Macy = Macy;\n",
       " window.mergeImages = mergeImages;\n",
       "})\n",
       "</script>\n"
      ]
     },
     "metadata": {},
     "output_type": "display_data"
    }
   ],
   "source": [
    "import org.carbonateresearch.picta.render.Html.initNotebook // required to initialize jupyter notebook mode\n",
    "initNotebook() // stops ugly output"
   ]
  },
  {
   "cell_type": "markdown",
   "metadata": {},
   "source": [
    "# 1. Basics\n",
    "\n",
    "The aim of the Picta library is to be a highly configurable and composable charting library for data exploration. The library takes a grammatical approach to chart construction. \n",
    "\n",
    "The following examples are aimed at demonstrating the libraries capabilities, and eventually make constructing charts using this library easy and intuitive."
   ]
  },
  {
   "cell_type": "markdown",
   "metadata": {},
   "source": [
    "### Main Components\n",
    "\n",
    "Picta graphs are constructed in a modular manner. The main components are:\n",
    "\n",
    "1. `Canvas`: This is is the top-level component for representing the display. A `Canvas` may consist of multiple charts.\n",
    "\n",
    "\n",
    "2. `Chart`: This is the component that corresponds to an actual chart (i.e. scatter, pie etc).\n",
    "\n",
    "\n",
    "3. `Series`: This is the data series that is plotted on a `Chart`. `Series` come in 3 types:\n",
    "\n",
    "    - `XY`:   This is series data for constructing a 2D chart\n",
    "    - `XYZ`:  This is series data for constructing a 3D chart\n",
    "    - `Map`:  This is series data that constructs a Map chart\n",
    "    \n",
    "\n",
    "4. `ChartLayout`: This configures various parts of how the `Chart` is represented on screen.\n",
    "\n",
    "`Chart` may occassionally also make use of the `Config` component for further configuration. `Config` specifies whether the plot is responsive.\n",
    "\n",
    "The following examples in this notebook should provide a number of interactive examples to get used to the Picta library."
   ]
  },
  {
   "cell_type": "markdown",
   "metadata": {},
   "source": [
    "### Importing the Library\n",
    "\n",
    "Importing as below should bring in the most frequently used Components in the library."
   ]
  },
  {
   "cell_type": "code",
   "execution_count": 49,
   "metadata": {},
   "outputs": [],
   "source": [
    "import org.carbonateresearch.picta._"
   ]
  },
  {
   "cell_type": "markdown",
   "metadata": {},
   "source": [
    "### Create Some Dummy Data to Use in the Examples\n",
    "\n",
    "Here we create some dummy data to be used in the examples for this notebook."
   ]
  },
  {
   "cell_type": "code",
   "execution_count": 50,
   "metadata": {},
   "outputs": [],
   "source": [
    "val x = List.range(0, 100).map(x => scala.util.Random.nextDouble() * 50)\n",
    "val y = List.range(0, 100).map(x => scala.util.Random.nextDouble() * 50)\n",
    "val z = List.range(0, 100).map(x => scala.util.Random.nextDouble() * 50)"
   ]
  },
  {
   "cell_type": "markdown",
   "metadata": {},
   "source": [
    "### 2D Plots\n",
    "\n",
    "`Series` that represent 2D data are represented by `XY` series types.\n",
    "\n",
    "\n",
    "#### Scatter Plot\n",
    "\n",
    "An example `Scatter` plot is below. \n",
    "\n",
    "Note: This is just one way to call the library functions. Another way that uses function chaining will be shown immediately after this example."
   ]
  },
  {
   "cell_type": "code",
   "execution_count": 51,
   "metadata": {},
   "outputs": [
    {
     "data": {
      "text/html": [
       "<div id=\"grid-container_hTRcfh1Ap1\" class=\"grid-container\" align=\"center\"> \n",
       "<div id=\"grid_hTRcfh1Ap1\" class=\"grid\" align=\"center\"> \n",
       "<div id=\"graph_vMtUcvhCuJ\" class=\"graph\"></div> \n",
       "</div> \n",
       "</div> \n",
       "<script>\n",
       "var masonry = new Macy({\n",
       "    container: '#grid_hTRcfh1Ap1',\n",
       "    debug: true,\n",
       "    mobileFirst: true,\n",
       "    columns: 1,\n",
       "    margin: {\n",
       "        x: 0,\n",
       "        y: 0\n",
       "    }\n",
       "  });\n",
       "\n",
       " var traces_vMtUcvhCuJ = [{\"name\":\"kSzD4VyZ43\",\"type\":\"scatter\",\"mode\":\"markers\",\"x\":[28.272840789467697,45.9351415696758,41.49700428880536,5.640476298572916,1.7454609184810788,47.460171403814485,25.24049632543097,34.84490565260429,25.901330496991353,5.434289149428418,35.73333969830257,12.134718016492767,27.205272007882236,48.163788697305456,29.969983517985188,8.473194659494792,44.647362441815766,7.882864103638809,15.521507893900328,16.607370093499824,2.0736784544665596,29.062880196393536,16.60046917148848,10.747082177852368,24.731530922326634,8.329688508974082,25.59770075451548,39.02777219102234,24.499699104278395,29.924861632065213,29.13680596995593,5.588386910591408,9.377715800844744,1.5158228897219017,13.95179286380477,31.371138675021793,36.724242839368756,31.341517463113945,31.9656386950653,35.33776938611751,26.463103288549732,19.17438351526813,35.83224960985926,0.6973337444529992,30.016565766865195,10.386055231866559,35.90163678446117,33.95344392242779,13.078963843071778,34.52334328724981,27.077820008251546,38.1042772012531,5.509773710517946,17.23268222326232,39.36128455281319,5.166550097681089,49.603774408275754,17.115399650768726,29.00256650679789,37.34505800981697,38.78694093610195,47.15276783823453,48.140794838167736,30.632258733153805,32.39022249313736,43.70895738752852,9.560811038751964,49.397788276698144,8.569393876577191,44.80166198413169,49.774723943325874,35.615657778439655,26.66766106531327,33.32428327571934,38.01854697508908,31.777298267821806,12.358734886206395,40.210216129321644,30.95182047970339,2.2515031630929827,3.761593852085121,37.148919590061205,32.857877243617054,13.87769950601323,4.384167828048446,28.395085892883536,38.964701257095854,32.91687665181242,29.231722398847438,26.456386977269048,15.141059930540196,12.13490203749637,3.706672584349419,17.00186889458241,0.6698968850885167,28.755820493674513,31.0301527317417,34.20227224851809,12.060697417825583,41.29814159490114],\"y\":[32.8316130185204,28.8951362469348,24.934836015146843,10.895016607017089,39.2812858965552,18.46172678129524,17.90265670499157,30.599570335408384,9.681325850752941,9.109437864121173,27.048332123282265,24.389569287140123,1.784998043596392,28.37248113049903,32.148266281893555,16.110991095958187,28.279258957213145,48.075317990340785,26.071133939219404,27.437943904733597,41.84462650755588,15.747393718064039,6.94235447685605,43.07678027598277,25.997215868090883,45.534431925706784,28.603100069197936,30.905144051529103,37.52136643447753,48.020632867978925,48.6537040765194,24.512072956596075,47.71728056238067,2.05779923468995,24.943565251328998,15.693173268091098,13.916611168655274,40.69153054507051,30.754469887827906,14.85527064039161,29.759970021444904,37.58127808221539,36.12145096752955,17.997846301380154,2.583810031670658,39.93018732038463,37.745128450592,19.963926966858054,38.93018975682303,48.87230902093664,12.771698654296582,34.991025456797566,34.671409861470224,48.50887325452956,22.3515278052061,27.243088551370658,14.53254834250519,30.341997601101355,49.33457190335096,15.967322777956532,46.89843270954315,0.7233053393998767,20.720588270032408,2.1951354994260597,23.70759163850156,45.116597910106975,39.55440105153551,16.494348461766894,41.96426165203378,4.467851032524001,32.84122548579325,10.180199861665551,2.9405280096162887,45.7824526295866,11.754325119164749,5.605565241058991,7.49419195572667,31.128726976053223,37.917058229882414,34.676214404464126,21.09399591303147,6.7184632655232726,44.86360263356575,28.574797477366097,10.12231024151315,46.45925323797749,26.917456984247778,25.82765990334653,11.81644925642933,42.43014651176201,28.67404070907208,40.31147742036198,43.81326521927056,38.10122210930181,47.033502837807276,25.572069667001106,35.67770333209043,48.799335873785594,44.302119508145765,36.91567849415991]}];\n",
       " var layout_vMtUcvhCuJ = {\"height\":550,\"width\":600,\"hovermode\":\"closest\",\"legend\":{\"orientation\":\"v\"},\"title\":{\"text\":\"First Chart\"},\"showlegend\":true};\n",
       " var config_vMtUcvhCuJ = {\"responsive\":true,\"scrollZoom\":true,\"displaylogo\":false};\n",
       " Plotly.newPlot(\"graph_vMtUcvhCuJ\", traces_vMtUcvhCuJ, layout_vMtUcvhCuJ, config_vMtUcvhCuJ);\n",
       "</script> \n"
      ]
     },
     "metadata": {},
     "output_type": "display_data"
    }
   ],
   "source": [
    "// create the data series using the data from above\n",
    "// 'asType SCATTER' transforms the series into a scatter chart\n",
    "// 'drawStyle Markers' specifies the style of the markers the chart should have\n",
    "// if a name is not provided to the series, Picta generates a random name to help keep track of the series in charts\n",
    "// multiple series.\n",
    "val series = XY(x, y) asType SCATTER drawStyle MARKERS\n",
    "\n",
    "// create a chart by adding to it a data series. We set the title as 'First Chart'\n",
    "val chart = Chart() addSeries series setTitle \"First Chart\"\n",
    "\n",
    "// if we have a single chart, then we do not need to use the Canvas and can simply call chart.plot\n",
    "\n",
    "chart.plotInline"
   ]
  },
  {
   "cell_type": "markdown",
   "metadata": {},
   "source": [
    "#### Chaining Functions\n",
    "\n",
    "Sometimes when we are specifying many options, it is quicker to use the IDE autocomplete and just chain the function calls. Throughout this book both the style above and the function chaining style will be used as and when convenient."
   ]
  },
  {
   "cell_type": "code",
   "execution_count": 52,
   "metadata": {},
   "outputs": [
    {
     "data": {
      "text/html": [
       "<div id=\"grid-container_IxAL0JABAl\" class=\"grid-container\" align=\"center\"> \n",
       "<div id=\"grid_IxAL0JABAl\" class=\"grid\" align=\"center\"> \n",
       "<div id=\"graph_mGZHwq23FK\" class=\"graph\"></div> \n",
       "</div> \n",
       "</div> \n",
       "<script>\n",
       "var masonry = new Macy({\n",
       "    container: '#grid_IxAL0JABAl',\n",
       "    debug: true,\n",
       "    mobileFirst: true,\n",
       "    columns: 1,\n",
       "    margin: {\n",
       "        x: 0,\n",
       "        y: 0\n",
       "    }\n",
       "  });\n",
       "\n",
       " var traces_mGZHwq23FK = [{\"name\":\"W4C3nekuD2\",\"type\":\"scatter\",\"mode\":\"markers\",\"x\":[28.272840789467697,45.9351415696758,41.49700428880536,5.640476298572916,1.7454609184810788,47.460171403814485,25.24049632543097,34.84490565260429,25.901330496991353,5.434289149428418,35.73333969830257,12.134718016492767,27.205272007882236,48.163788697305456,29.969983517985188,8.473194659494792,44.647362441815766,7.882864103638809,15.521507893900328,16.607370093499824,2.0736784544665596,29.062880196393536,16.60046917148848,10.747082177852368,24.731530922326634,8.329688508974082,25.59770075451548,39.02777219102234,24.499699104278395,29.924861632065213,29.13680596995593,5.588386910591408,9.377715800844744,1.5158228897219017,13.95179286380477,31.371138675021793,36.724242839368756,31.341517463113945,31.9656386950653,35.33776938611751,26.463103288549732,19.17438351526813,35.83224960985926,0.6973337444529992,30.016565766865195,10.386055231866559,35.90163678446117,33.95344392242779,13.078963843071778,34.52334328724981,27.077820008251546,38.1042772012531,5.509773710517946,17.23268222326232,39.36128455281319,5.166550097681089,49.603774408275754,17.115399650768726,29.00256650679789,37.34505800981697,38.78694093610195,47.15276783823453,48.140794838167736,30.632258733153805,32.39022249313736,43.70895738752852,9.560811038751964,49.397788276698144,8.569393876577191,44.80166198413169,49.774723943325874,35.615657778439655,26.66766106531327,33.32428327571934,38.01854697508908,31.777298267821806,12.358734886206395,40.210216129321644,30.95182047970339,2.2515031630929827,3.761593852085121,37.148919590061205,32.857877243617054,13.87769950601323,4.384167828048446,28.395085892883536,38.964701257095854,32.91687665181242,29.231722398847438,26.456386977269048,15.141059930540196,12.13490203749637,3.706672584349419,17.00186889458241,0.6698968850885167,28.755820493674513,31.0301527317417,34.20227224851809,12.060697417825583,41.29814159490114],\"y\":[32.8316130185204,28.8951362469348,24.934836015146843,10.895016607017089,39.2812858965552,18.46172678129524,17.90265670499157,30.599570335408384,9.681325850752941,9.109437864121173,27.048332123282265,24.389569287140123,1.784998043596392,28.37248113049903,32.148266281893555,16.110991095958187,28.279258957213145,48.075317990340785,26.071133939219404,27.437943904733597,41.84462650755588,15.747393718064039,6.94235447685605,43.07678027598277,25.997215868090883,45.534431925706784,28.603100069197936,30.905144051529103,37.52136643447753,48.020632867978925,48.6537040765194,24.512072956596075,47.71728056238067,2.05779923468995,24.943565251328998,15.693173268091098,13.916611168655274,40.69153054507051,30.754469887827906,14.85527064039161,29.759970021444904,37.58127808221539,36.12145096752955,17.997846301380154,2.583810031670658,39.93018732038463,37.745128450592,19.963926966858054,38.93018975682303,48.87230902093664,12.771698654296582,34.991025456797566,34.671409861470224,48.50887325452956,22.3515278052061,27.243088551370658,14.53254834250519,30.341997601101355,49.33457190335096,15.967322777956532,46.89843270954315,0.7233053393998767,20.720588270032408,2.1951354994260597,23.70759163850156,45.116597910106975,39.55440105153551,16.494348461766894,41.96426165203378,4.467851032524001,32.84122548579325,10.180199861665551,2.9405280096162887,45.7824526295866,11.754325119164749,5.605565241058991,7.49419195572667,31.128726976053223,37.917058229882414,34.676214404464126,21.09399591303147,6.7184632655232726,44.86360263356575,28.574797477366097,10.12231024151315,46.45925323797749,26.917456984247778,25.82765990334653,11.81644925642933,42.43014651176201,28.67404070907208,40.31147742036198,43.81326521927056,38.10122210930181,47.033502837807276,25.572069667001106,35.67770333209043,48.799335873785594,44.302119508145765,36.91567849415991]}];\n",
       " var layout_mGZHwq23FK = {\"height\":550,\"width\":600,\"hovermode\":\"closest\",\"legend\":{\"orientation\":\"v\"},\"title\":{\"text\":\"First Chart - Function Chaining\"},\"showlegend\":true,\"xaxis\":{\"showgrid\":true,\"zeroline\":false,\"showline\":false},\"yaxis\":{\"showgrid\":true,\"zeroline\":false,\"showline\":false}};\n",
       " var config_mGZHwq23FK = {\"responsive\":true,\"scrollZoom\":true,\"displaylogo\":false};\n",
       " Plotly.newPlot(\"graph_mGZHwq23FK\", traces_mGZHwq23FK, layout_mGZHwq23FK, config_mGZHwq23FK);\n",
       "</script> \n"
      ]
     },
     "metadata": {},
     "output_type": "display_data"
    }
   ],
   "source": [
    "// sometimes we may specify many options. In such cases it is clearer to use function chaining as below:\n",
    "val series = XY(x, y)\n",
    "            .asType(SCATTER)\n",
    "            .drawMarkers  // This is to help leverage the IDE autocompletion for quick scripting\n",
    "\n",
    "val chart = Chart()\n",
    "            .addSeries(series)\n",
    "            .setTitle(\"First Chart - Function Chaining\")\n",
    "            // by specifying axes we can get rid of the zerolines\n",
    "            .addAxes(XAxis(zeroline = false), YAxis(zeroline = false)) \n",
    "\n",
    "chart.plotInline"
   ]
  },
  {
   "cell_type": "markdown",
   "metadata": {},
   "source": [
    "#### Bar Chart\n",
    "\n",
    "Now using the same principles as above, let's create a `Bar` chart:"
   ]
  },
  {
   "cell_type": "code",
   "execution_count": 53,
   "metadata": {},
   "outputs": [
    {
     "data": {
      "text/html": [
       "<div id=\"grid-container_Ki7uNb90uq\" class=\"grid-container\" align=\"center\"> \n",
       "<div id=\"grid_Ki7uNb90uq\" class=\"grid\" align=\"center\"> \n",
       "<div id=\"graph_JbwhQZRgo9\" class=\"graph\"></div> \n",
       "</div> \n",
       "</div> \n",
       "<script>\n",
       "var masonry = new Macy({\n",
       "    container: '#grid_Ki7uNb90uq',\n",
       "    debug: true,\n",
       "    mobileFirst: true,\n",
       "    columns: 1,\n",
       "    margin: {\n",
       "        x: 0,\n",
       "        y: 0\n",
       "    }\n",
       "  });\n",
       "\n",
       " var traces_JbwhQZRgo9 = [{\"name\":\"om0wPUcZMA\",\"type\":\"bar\",\"x\":[\"a\",\"b\",\"c\"],\"y\":[10,20,300]}];\n",
       " var layout_JbwhQZRgo9 = {\"height\":550,\"width\":600,\"hovermode\":\"closest\",\"legend\":{\"orientation\":\"v\"},\"title\":{\"text\":\"Bar Chart\"},\"showlegend\":true};\n",
       " var config_JbwhQZRgo9 = {\"responsive\":false,\"scrollZoom\":false,\"displaylogo\":false};\n",
       " Plotly.newPlot(\"graph_JbwhQZRgo9\", traces_JbwhQZRgo9, layout_JbwhQZRgo9, config_JbwhQZRgo9);\n",
       "</script> \n"
      ]
     },
     "metadata": {},
     "output_type": "display_data"
    }
   ],
   "source": [
    "// First we create some data for the piechart\n",
    "val x_bar = List(\"a\", \"b\", \"c\")\n",
    "val y_bar = List(10, 20, 300)\n",
    "\n",
    "// again feed in the data that we want to represent as a Bar chart.\n",
    "// Notice how we change 'asType SCATTER' to 'asType BAR'\n",
    "val series = XY(x_bar, y_bar) asType BAR\n",
    "\n",
    "// we can turn off the scrollzoom using setConfig\n",
    "val chart = Chart() addSeries series setTitle \"Bar Chart\" setConfig(false, false)\n",
    "\n",
    "chart.plotInline"
   ]
  },
  {
   "cell_type": "markdown",
   "metadata": {},
   "source": [
    "#### Adding Multiple Series on the Same Axis\n",
    "\n",
    "Sometimes we may want to plot multiple `Series` on the same axis to compare different data series.\n",
    "\n",
    "Let's plot both of the above on the same pair of axis:"
   ]
  },
  {
   "cell_type": "code",
   "execution_count": 54,
   "metadata": {},
   "outputs": [],
   "source": [
    "// we import the marker option which lets us specify the marker\n",
    "import org.carbonateresearch.picta.options.Marker\n",
    "import org.carbonateresearch.picta.SymbolShape._"
   ]
  },
  {
   "cell_type": "code",
   "execution_count": 55,
   "metadata": {},
   "outputs": [
    {
     "data": {
      "text/html": [
       "<div id=\"grid-container_Ja2uLuyO4V\" class=\"grid-container\" align=\"center\"> \n",
       "<div id=\"grid_Ja2uLuyO4V\" class=\"grid\" align=\"center\"> \n",
       "<div id=\"graph_P7DZ19Avdd\" class=\"graph\"></div> \n",
       "</div> \n",
       "</div> \n",
       "<script>\n",
       "var masonry = new Macy({\n",
       "    container: '#grid_Ja2uLuyO4V',\n",
       "    debug: true,\n",
       "    mobileFirst: true,\n",
       "    columns: 1,\n",
       "    margin: {\n",
       "        x: 0,\n",
       "        y: 0\n",
       "    }\n",
       "  });\n",
       "\n",
       " var traces_P7DZ19Avdd = [{\"name\":\"Bar\",\"type\":\"bar\",\"x\":[28.272840789467697,45.9351415696758,41.49700428880536,5.640476298572916,1.7454609184810788,47.460171403814485,25.24049632543097,34.84490565260429,25.901330496991353,5.434289149428418,35.73333969830257,12.134718016492767,27.205272007882236,48.163788697305456,29.969983517985188,8.473194659494792,44.647362441815766,7.882864103638809,15.521507893900328,16.607370093499824,2.0736784544665596,29.062880196393536,16.60046917148848,10.747082177852368,24.731530922326634,8.329688508974082,25.59770075451548,39.02777219102234,24.499699104278395,29.924861632065213,29.13680596995593,5.588386910591408,9.377715800844744,1.5158228897219017,13.95179286380477,31.371138675021793,36.724242839368756,31.341517463113945,31.9656386950653,35.33776938611751,26.463103288549732,19.17438351526813,35.83224960985926,0.6973337444529992,30.016565766865195,10.386055231866559,35.90163678446117,33.95344392242779,13.078963843071778,34.52334328724981,27.077820008251546,38.1042772012531,5.509773710517946,17.23268222326232,39.36128455281319,5.166550097681089,49.603774408275754,17.115399650768726,29.00256650679789,37.34505800981697,38.78694093610195,47.15276783823453,48.140794838167736,30.632258733153805,32.39022249313736,43.70895738752852,9.560811038751964,49.397788276698144,8.569393876577191,44.80166198413169,49.774723943325874,35.615657778439655,26.66766106531327,33.32428327571934,38.01854697508908,31.777298267821806,12.358734886206395,40.210216129321644,30.95182047970339,2.2515031630929827,3.761593852085121,37.148919590061205,32.857877243617054,13.87769950601323,4.384167828048446,28.395085892883536,38.964701257095854,32.91687665181242,29.231722398847438,26.456386977269048,15.141059930540196,12.13490203749637,3.706672584349419,17.00186889458241,0.6698968850885167,28.755820493674513,31.0301527317417,34.20227224851809,12.060697417825583,41.29814159490114],\"y\":[32.8316130185204,28.8951362469348,24.934836015146843,10.895016607017089,39.2812858965552,18.46172678129524,17.90265670499157,30.599570335408384,9.681325850752941,9.109437864121173,27.048332123282265,24.389569287140123,1.784998043596392,28.37248113049903,32.148266281893555,16.110991095958187,28.279258957213145,48.075317990340785,26.071133939219404,27.437943904733597,41.84462650755588,15.747393718064039,6.94235447685605,43.07678027598277,25.997215868090883,45.534431925706784,28.603100069197936,30.905144051529103,37.52136643447753,48.020632867978925,48.6537040765194,24.512072956596075,47.71728056238067,2.05779923468995,24.943565251328998,15.693173268091098,13.916611168655274,40.69153054507051,30.754469887827906,14.85527064039161,29.759970021444904,37.58127808221539,36.12145096752955,17.997846301380154,2.583810031670658,39.93018732038463,37.745128450592,19.963926966858054,38.93018975682303,48.87230902093664,12.771698654296582,34.991025456797566,34.671409861470224,48.50887325452956,22.3515278052061,27.243088551370658,14.53254834250519,30.341997601101355,49.33457190335096,15.967322777956532,46.89843270954315,0.7233053393998767,20.720588270032408,2.1951354994260597,23.70759163850156,45.116597910106975,39.55440105153551,16.494348461766894,41.96426165203378,4.467851032524001,32.84122548579325,10.180199861665551,2.9405280096162887,45.7824526295866,11.754325119164749,5.605565241058991,7.49419195572667,31.128726976053223,37.917058229882414,34.676214404464126,21.09399591303147,6.7184632655232726,44.86360263356575,28.574797477366097,10.12231024151315,46.45925323797749,26.917456984247778,25.82765990334653,11.81644925642933,42.43014651176201,28.67404070907208,40.31147742036198,43.81326521927056,38.10122210930181,47.033502837807276,25.572069667001106,35.67770333209043,48.799335873785594,44.302119508145765,36.91567849415991]},{\"name\":\"Scatter\",\"type\":\"scatter\",\"mode\":\"markers\",\"marker\":{\"symbol\":\"square-open\",\"color\":\"red\"},\"x\":[28.272840789467697,45.9351415696758,41.49700428880536,5.640476298572916,1.7454609184810788,47.460171403814485,25.24049632543097,34.84490565260429,25.901330496991353,5.434289149428418,35.73333969830257,12.134718016492767,27.205272007882236,48.163788697305456,29.969983517985188,8.473194659494792,44.647362441815766,7.882864103638809,15.521507893900328,16.607370093499824,2.0736784544665596,29.062880196393536,16.60046917148848,10.747082177852368,24.731530922326634,8.329688508974082,25.59770075451548,39.02777219102234,24.499699104278395,29.924861632065213,29.13680596995593,5.588386910591408,9.377715800844744,1.5158228897219017,13.95179286380477,31.371138675021793,36.724242839368756,31.341517463113945,31.9656386950653,35.33776938611751,26.463103288549732,19.17438351526813,35.83224960985926,0.6973337444529992,30.016565766865195,10.386055231866559,35.90163678446117,33.95344392242779,13.078963843071778,34.52334328724981,27.077820008251546,38.1042772012531,5.509773710517946,17.23268222326232,39.36128455281319,5.166550097681089,49.603774408275754,17.115399650768726,29.00256650679789,37.34505800981697,38.78694093610195,47.15276783823453,48.140794838167736,30.632258733153805,32.39022249313736,43.70895738752852,9.560811038751964,49.397788276698144,8.569393876577191,44.80166198413169,49.774723943325874,35.615657778439655,26.66766106531327,33.32428327571934,38.01854697508908,31.777298267821806,12.358734886206395,40.210216129321644,30.95182047970339,2.2515031630929827,3.761593852085121,37.148919590061205,32.857877243617054,13.87769950601323,4.384167828048446,28.395085892883536,38.964701257095854,32.91687665181242,29.231722398847438,26.456386977269048,15.141059930540196,12.13490203749637,3.706672584349419,17.00186889458241,0.6698968850885167,28.755820493674513,31.0301527317417,34.20227224851809,12.060697417825583,41.29814159490114],\"y\":[32.8316130185204,28.8951362469348,24.934836015146843,10.895016607017089,39.2812858965552,18.46172678129524,17.90265670499157,30.599570335408384,9.681325850752941,9.109437864121173,27.048332123282265,24.389569287140123,1.784998043596392,28.37248113049903,32.148266281893555,16.110991095958187,28.279258957213145,48.075317990340785,26.071133939219404,27.437943904733597,41.84462650755588,15.747393718064039,6.94235447685605,43.07678027598277,25.997215868090883,45.534431925706784,28.603100069197936,30.905144051529103,37.52136643447753,48.020632867978925,48.6537040765194,24.512072956596075,47.71728056238067,2.05779923468995,24.943565251328998,15.693173268091098,13.916611168655274,40.69153054507051,30.754469887827906,14.85527064039161,29.759970021444904,37.58127808221539,36.12145096752955,17.997846301380154,2.583810031670658,39.93018732038463,37.745128450592,19.963926966858054,38.93018975682303,48.87230902093664,12.771698654296582,34.991025456797566,34.671409861470224,48.50887325452956,22.3515278052061,27.243088551370658,14.53254834250519,30.341997601101355,49.33457190335096,15.967322777956532,46.89843270954315,0.7233053393998767,20.720588270032408,2.1951354994260597,23.70759163850156,45.116597910106975,39.55440105153551,16.494348461766894,41.96426165203378,4.467851032524001,32.84122548579325,10.180199861665551,2.9405280096162887,45.7824526295866,11.754325119164749,5.605565241058991,7.49419195572667,31.128726976053223,37.917058229882414,34.676214404464126,21.09399591303147,6.7184632655232726,44.86360263356575,28.574797477366097,10.12231024151315,46.45925323797749,26.917456984247778,25.82765990334653,11.81644925642933,42.43014651176201,28.67404070907208,40.31147742036198,43.81326521927056,38.10122210930181,47.033502837807276,25.572069667001106,35.67770333209043,48.799335873785594,44.302119508145765,36.91567849415991]}];\n",
       " var layout_P7DZ19Avdd = {\"height\":550,\"width\":600,\"hovermode\":\"closest\",\"legend\":{\"orientation\":\"v\"},\"showlegend\":true};\n",
       " var config_P7DZ19Avdd = {\"responsive\":true,\"scrollZoom\":true,\"displaylogo\":false};\n",
       " Plotly.newPlot(\"graph_P7DZ19Avdd\", traces_P7DZ19Avdd, layout_P7DZ19Avdd, config_P7DZ19Avdd);\n",
       "</script> \n"
      ]
     },
     "metadata": {},
     "output_type": "display_data"
    }
   ],
   "source": [
    "// additional traces can simply be composed with an existing chart and added on\n",
    "val series1 = XY(x, y) asType BAR setName \"Bar\"\n",
    "\n",
    "// lets give the second series a red marker. Again we can 'compose' a marker using smaller components\n",
    "val marker = Marker() setSymbol SQUARE_OPEN setColor \"red\"\n",
    "\n",
    "val series2 = XY(x, y) asType SCATTER setName \"Scatter\" drawStyle MARKERS setMarker marker\n",
    "\n",
    "// we not put brackets in the 'addSeries' function to ensure that addSeries picks up the right series'\n",
    "val chart = Chart() addSeries(series1, series2)\n",
    "\n",
    "chart.plotInline"
   ]
  },
  {
   "cell_type": "markdown",
   "metadata": {},
   "source": [
    "### Lets Change The Appearance of The Markers\n",
    "\n",
    "We can control the appearance of the markers by setting the width"
   ]
  },
  {
   "cell_type": "code",
   "execution_count": 56,
   "metadata": {},
   "outputs": [
    {
     "data": {
      "text/html": [
       "<div id=\"grid-container_0eVRpDV2dk\" class=\"grid-container\" align=\"center\"> \n",
       "<div id=\"grid_0eVRpDV2dk\" class=\"grid\" align=\"center\"> \n",
       "<div id=\"graph_hOrGtwpNMx\" class=\"graph\"></div> \n",
       "</div> \n",
       "</div> \n",
       "<script>\n",
       "var masonry = new Macy({\n",
       "    container: '#grid_0eVRpDV2dk',\n",
       "    debug: true,\n",
       "    mobileFirst: true,\n",
       "    columns: 1,\n",
       "    margin: {\n",
       "        x: 0,\n",
       "        y: 0\n",
       "    }\n",
       "  });\n",
       "\n",
       " var traces_hOrGtwpNMx = [{\"name\":\"Bar\",\"type\":\"bar\",\"x\":[28.272840789467697,45.9351415696758,41.49700428880536,5.640476298572916,1.7454609184810788,47.460171403814485,25.24049632543097,34.84490565260429,25.901330496991353,5.434289149428418,35.73333969830257,12.134718016492767,27.205272007882236,48.163788697305456,29.969983517985188,8.473194659494792,44.647362441815766,7.882864103638809,15.521507893900328,16.607370093499824,2.0736784544665596,29.062880196393536,16.60046917148848,10.747082177852368,24.731530922326634,8.329688508974082,25.59770075451548,39.02777219102234,24.499699104278395,29.924861632065213,29.13680596995593,5.588386910591408,9.377715800844744,1.5158228897219017,13.95179286380477,31.371138675021793,36.724242839368756,31.341517463113945,31.9656386950653,35.33776938611751,26.463103288549732,19.17438351526813,35.83224960985926,0.6973337444529992,30.016565766865195,10.386055231866559,35.90163678446117,33.95344392242779,13.078963843071778,34.52334328724981,27.077820008251546,38.1042772012531,5.509773710517946,17.23268222326232,39.36128455281319,5.166550097681089,49.603774408275754,17.115399650768726,29.00256650679789,37.34505800981697,38.78694093610195,47.15276783823453,48.140794838167736,30.632258733153805,32.39022249313736,43.70895738752852,9.560811038751964,49.397788276698144,8.569393876577191,44.80166198413169,49.774723943325874,35.615657778439655,26.66766106531327,33.32428327571934,38.01854697508908,31.777298267821806,12.358734886206395,40.210216129321644,30.95182047970339,2.2515031630929827,3.761593852085121,37.148919590061205,32.857877243617054,13.87769950601323,4.384167828048446,28.395085892883536,38.964701257095854,32.91687665181242,29.231722398847438,26.456386977269048,15.141059930540196,12.13490203749637,3.706672584349419,17.00186889458241,0.6698968850885167,28.755820493674513,31.0301527317417,34.20227224851809,12.060697417825583,41.29814159490114],\"y\":[32.8316130185204,28.8951362469348,24.934836015146843,10.895016607017089,39.2812858965552,18.46172678129524,17.90265670499157,30.599570335408384,9.681325850752941,9.109437864121173,27.048332123282265,24.389569287140123,1.784998043596392,28.37248113049903,32.148266281893555,16.110991095958187,28.279258957213145,48.075317990340785,26.071133939219404,27.437943904733597,41.84462650755588,15.747393718064039,6.94235447685605,43.07678027598277,25.997215868090883,45.534431925706784,28.603100069197936,30.905144051529103,37.52136643447753,48.020632867978925,48.6537040765194,24.512072956596075,47.71728056238067,2.05779923468995,24.943565251328998,15.693173268091098,13.916611168655274,40.69153054507051,30.754469887827906,14.85527064039161,29.759970021444904,37.58127808221539,36.12145096752955,17.997846301380154,2.583810031670658,39.93018732038463,37.745128450592,19.963926966858054,38.93018975682303,48.87230902093664,12.771698654296582,34.991025456797566,34.671409861470224,48.50887325452956,22.3515278052061,27.243088551370658,14.53254834250519,30.341997601101355,49.33457190335096,15.967322777956532,46.89843270954315,0.7233053393998767,20.720588270032408,2.1951354994260597,23.70759163850156,45.116597910106975,39.55440105153551,16.494348461766894,41.96426165203378,4.467851032524001,32.84122548579325,10.180199861665551,2.9405280096162887,45.7824526295866,11.754325119164749,5.605565241058991,7.49419195572667,31.128726976053223,37.917058229882414,34.676214404464126,21.09399591303147,6.7184632655232726,44.86360263356575,28.574797477366097,10.12231024151315,46.45925323797749,26.917456984247778,25.82765990334653,11.81644925642933,42.43014651176201,28.67404070907208,40.31147742036198,43.81326521927056,38.10122210930181,47.033502837807276,25.572069667001106,35.67770333209043,48.799335873785594,44.302119508145765,36.91567849415991]},{\"name\":\"Scatter\",\"type\":\"scatter\",\"mode\":\"markers\",\"marker\":{\"symbol\":\"circle\",\"color\":\"red\",\"line\":{\"width\":2,\"color\":\"black\"},\"size\":[10,10,10,10,10,10,10,10,10,10,10,10,10,10,10,10,10,10,10,10,10,10,10,10,10,10,10,10,10,10,10,10,10,10,10,10,10,10,10,10,10,10,10,10,10,10,10,10,10,10,10,10,10,10,10,10,10,10,10,10,10,10,10,10,10,10,10,10,10,10,10,10,10,10,10,10,10,10,10,10,10,10,10,10,10,10,10,10,10,10,10,10,10,10,10,10,10,10,10,10]},\"x\":[28.272840789467697,45.9351415696758,41.49700428880536,5.640476298572916,1.7454609184810788,47.460171403814485,25.24049632543097,34.84490565260429,25.901330496991353,5.434289149428418,35.73333969830257,12.134718016492767,27.205272007882236,48.163788697305456,29.969983517985188,8.473194659494792,44.647362441815766,7.882864103638809,15.521507893900328,16.607370093499824,2.0736784544665596,29.062880196393536,16.60046917148848,10.747082177852368,24.731530922326634,8.329688508974082,25.59770075451548,39.02777219102234,24.499699104278395,29.924861632065213,29.13680596995593,5.588386910591408,9.377715800844744,1.5158228897219017,13.95179286380477,31.371138675021793,36.724242839368756,31.341517463113945,31.9656386950653,35.33776938611751,26.463103288549732,19.17438351526813,35.83224960985926,0.6973337444529992,30.016565766865195,10.386055231866559,35.90163678446117,33.95344392242779,13.078963843071778,34.52334328724981,27.077820008251546,38.1042772012531,5.509773710517946,17.23268222326232,39.36128455281319,5.166550097681089,49.603774408275754,17.115399650768726,29.00256650679789,37.34505800981697,38.78694093610195,47.15276783823453,48.140794838167736,30.632258733153805,32.39022249313736,43.70895738752852,9.560811038751964,49.397788276698144,8.569393876577191,44.80166198413169,49.774723943325874,35.615657778439655,26.66766106531327,33.32428327571934,38.01854697508908,31.777298267821806,12.358734886206395,40.210216129321644,30.95182047970339,2.2515031630929827,3.761593852085121,37.148919590061205,32.857877243617054,13.87769950601323,4.384167828048446,28.395085892883536,38.964701257095854,32.91687665181242,29.231722398847438,26.456386977269048,15.141059930540196,12.13490203749637,3.706672584349419,17.00186889458241,0.6698968850885167,28.755820493674513,31.0301527317417,34.20227224851809,12.060697417825583,41.29814159490114],\"y\":[32.8316130185204,28.8951362469348,24.934836015146843,10.895016607017089,39.2812858965552,18.46172678129524,17.90265670499157,30.599570335408384,9.681325850752941,9.109437864121173,27.048332123282265,24.389569287140123,1.784998043596392,28.37248113049903,32.148266281893555,16.110991095958187,28.279258957213145,48.075317990340785,26.071133939219404,27.437943904733597,41.84462650755588,15.747393718064039,6.94235447685605,43.07678027598277,25.997215868090883,45.534431925706784,28.603100069197936,30.905144051529103,37.52136643447753,48.020632867978925,48.6537040765194,24.512072956596075,47.71728056238067,2.05779923468995,24.943565251328998,15.693173268091098,13.916611168655274,40.69153054507051,30.754469887827906,14.85527064039161,29.759970021444904,37.58127808221539,36.12145096752955,17.997846301380154,2.583810031670658,39.93018732038463,37.745128450592,19.963926966858054,38.93018975682303,48.87230902093664,12.771698654296582,34.991025456797566,34.671409861470224,48.50887325452956,22.3515278052061,27.243088551370658,14.53254834250519,30.341997601101355,49.33457190335096,15.967322777956532,46.89843270954315,0.7233053393998767,20.720588270032408,2.1951354994260597,23.70759163850156,45.116597910106975,39.55440105153551,16.494348461766894,41.96426165203378,4.467851032524001,32.84122548579325,10.180199861665551,2.9405280096162887,45.7824526295866,11.754325119164749,5.605565241058991,7.49419195572667,31.128726976053223,37.917058229882414,34.676214404464126,21.09399591303147,6.7184632655232726,44.86360263356575,28.574797477366097,10.12231024151315,46.45925323797749,26.917456984247778,25.82765990334653,11.81644925642933,42.43014651176201,28.67404070907208,40.31147742036198,43.81326521927056,38.10122210930181,47.033502837807276,25.572069667001106,35.67770333209043,48.799335873785594,44.302119508145765,36.91567849415991]}];\n",
       " var layout_hOrGtwpNMx = {\"height\":550,\"width\":600,\"hovermode\":\"closest\",\"legend\":{\"orientation\":\"v\"},\"showlegend\":true};\n",
       " var config_hOrGtwpNMx = {\"responsive\":false,\"scrollZoom\":false,\"displaylogo\":false};\n",
       " Plotly.newPlot(\"graph_hOrGtwpNMx\", traces_hOrGtwpNMx, layout_hOrGtwpNMx, config_hOrGtwpNMx);\n",
       "</script> \n"
      ]
     },
     "metadata": {},
     "output_type": "display_data"
    }
   ],
   "source": [
    "// we can pass in the size of the markers\n",
    "val sizes = List.range(0, 100).map(x => 10)\n",
    "\n",
    "// additional traces can simply be composed with an existing chart and added on\n",
    "val series1 = XY(x, y) asType BAR setName \"Bar\"\n",
    "\n",
    "// lets give the second series a red marker. Again we can 'compose' a marker using smaller components\n",
    "val marker = (\n",
    "    Marker() \n",
    "    // sets the marker shape\n",
    "    setSymbol CIRCLE\n",
    "    // sets the fill to red\n",
    "    setColor \"red\" \n",
    "    // sets the outline to black, with width 2\n",
    "    setLine(width = 2, \"black\")\n",
    "    // set the size of the markers to 10 as per the list we created\n",
    "    setSize(sizes)\n",
    ") \n",
    "\n",
    "val series2 = XY(x, y) asType SCATTER setName \"Scatter\" drawStyle MARKERS setMarker marker\n",
    "\n",
    "// we not put brackets in the 'addSeries' function to ensure that addSeries picks up the right series'\n",
    "val chart = Chart() addSeries(series1, series2) setConfig(false, false)\n",
    "\n",
    "chart.plotInline"
   ]
  },
  {
   "cell_type": "markdown",
   "metadata": {},
   "source": [
    "### Adding Another Axes\n",
    "\n",
    "Sometimes we may wish to plot multiple series, but on two different Axes. We can do this as follows:"
   ]
  },
  {
   "cell_type": "code",
   "execution_count": 57,
   "metadata": {},
   "outputs": [
    {
     "data": {
      "text/html": [
       "<div id=\"grid-container_eeFNLqLmaR\" class=\"grid-container\" align=\"center\"> \n",
       "<div id=\"grid_eeFNLqLmaR\" class=\"grid\" align=\"center\"> \n",
       "<div id=\"graph_hBSyfTjA0d\" class=\"graph\"></div> \n",
       "</div> \n",
       "</div> \n",
       "<script>\n",
       "var masonry = new Macy({\n",
       "    container: '#grid_eeFNLqLmaR',\n",
       "    debug: true,\n",
       "    mobileFirst: true,\n",
       "    columns: 1,\n",
       "    margin: {\n",
       "        x: 0,\n",
       "        y: 0\n",
       "    }\n",
       "  });\n",
       "\n",
       " var traces_hBSyfTjA0d = [{\"name\":\"eDwL2NQSrD\",\"type\":\"scatter\",\"mode\":\"markers\",\"x\":[28.272840789467697,45.9351415696758,41.49700428880536,5.640476298572916,1.7454609184810788,47.460171403814485,25.24049632543097,34.84490565260429,25.901330496991353,5.434289149428418,35.73333969830257,12.134718016492767,27.205272007882236,48.163788697305456,29.969983517985188,8.473194659494792,44.647362441815766,7.882864103638809,15.521507893900328,16.607370093499824,2.0736784544665596,29.062880196393536,16.60046917148848,10.747082177852368,24.731530922326634,8.329688508974082,25.59770075451548,39.02777219102234,24.499699104278395,29.924861632065213,29.13680596995593,5.588386910591408,9.377715800844744,1.5158228897219017,13.95179286380477,31.371138675021793,36.724242839368756,31.341517463113945,31.9656386950653,35.33776938611751,26.463103288549732,19.17438351526813,35.83224960985926,0.6973337444529992,30.016565766865195,10.386055231866559,35.90163678446117,33.95344392242779,13.078963843071778,34.52334328724981,27.077820008251546,38.1042772012531,5.509773710517946,17.23268222326232,39.36128455281319,5.166550097681089,49.603774408275754,17.115399650768726,29.00256650679789,37.34505800981697,38.78694093610195,47.15276783823453,48.140794838167736,30.632258733153805,32.39022249313736,43.70895738752852,9.560811038751964,49.397788276698144,8.569393876577191,44.80166198413169,49.774723943325874,35.615657778439655,26.66766106531327,33.32428327571934,38.01854697508908,31.777298267821806,12.358734886206395,40.210216129321644,30.95182047970339,2.2515031630929827,3.761593852085121,37.148919590061205,32.857877243617054,13.87769950601323,4.384167828048446,28.395085892883536,38.964701257095854,32.91687665181242,29.231722398847438,26.456386977269048,15.141059930540196,12.13490203749637,3.706672584349419,17.00186889458241,0.6698968850885167,28.755820493674513,31.0301527317417,34.20227224851809,12.060697417825583,41.29814159490114],\"y\":[32.8316130185204,28.8951362469348,24.934836015146843,10.895016607017089,39.2812858965552,18.46172678129524,17.90265670499157,30.599570335408384,9.681325850752941,9.109437864121173,27.048332123282265,24.389569287140123,1.784998043596392,28.37248113049903,32.148266281893555,16.110991095958187,28.279258957213145,48.075317990340785,26.071133939219404,27.437943904733597,41.84462650755588,15.747393718064039,6.94235447685605,43.07678027598277,25.997215868090883,45.534431925706784,28.603100069197936,30.905144051529103,37.52136643447753,48.020632867978925,48.6537040765194,24.512072956596075,47.71728056238067,2.05779923468995,24.943565251328998,15.693173268091098,13.916611168655274,40.69153054507051,30.754469887827906,14.85527064039161,29.759970021444904,37.58127808221539,36.12145096752955,17.997846301380154,2.583810031670658,39.93018732038463,37.745128450592,19.963926966858054,38.93018975682303,48.87230902093664,12.771698654296582,34.991025456797566,34.671409861470224,48.50887325452956,22.3515278052061,27.243088551370658,14.53254834250519,30.341997601101355,49.33457190335096,15.967322777956532,46.89843270954315,0.7233053393998767,20.720588270032408,2.1951354994260597,23.70759163850156,45.116597910106975,39.55440105153551,16.494348461766894,41.96426165203378,4.467851032524001,32.84122548579325,10.180199861665551,2.9405280096162887,45.7824526295866,11.754325119164749,5.605565241058991,7.49419195572667,31.128726976053223,37.917058229882414,34.676214404464126,21.09399591303147,6.7184632655232726,44.86360263356575,28.574797477366097,10.12231024151315,46.45925323797749,26.917456984247778,25.82765990334653,11.81644925642933,42.43014651176201,28.67404070907208,40.31147742036198,43.81326521927056,38.10122210930181,47.033502837807276,25.572069667001106,35.67770333209043,48.799335873785594,44.302119508145765,36.91567849415991]},{\"name\":\"HIPPsCog7Q\",\"type\":\"scatter\",\"mode\":\"markers\",\"yaxis\":\"y2\",\"x\":[28.272840789467697,45.9351415696758,41.49700428880536,5.640476298572916,1.7454609184810788,47.460171403814485,25.24049632543097,34.84490565260429,25.901330496991353,5.434289149428418,35.73333969830257,12.134718016492767,27.205272007882236,48.163788697305456,29.969983517985188,8.473194659494792,44.647362441815766,7.882864103638809,15.521507893900328,16.607370093499824,2.0736784544665596,29.062880196393536,16.60046917148848,10.747082177852368,24.731530922326634,8.329688508974082,25.59770075451548,39.02777219102234,24.499699104278395,29.924861632065213,29.13680596995593,5.588386910591408,9.377715800844744,1.5158228897219017,13.95179286380477,31.371138675021793,36.724242839368756,31.341517463113945,31.9656386950653,35.33776938611751,26.463103288549732,19.17438351526813,35.83224960985926,0.6973337444529992,30.016565766865195,10.386055231866559,35.90163678446117,33.95344392242779,13.078963843071778,34.52334328724981,27.077820008251546,38.1042772012531,5.509773710517946,17.23268222326232,39.36128455281319,5.166550097681089,49.603774408275754,17.115399650768726,29.00256650679789,37.34505800981697,38.78694093610195,47.15276783823453,48.140794838167736,30.632258733153805,32.39022249313736,43.70895738752852,9.560811038751964,49.397788276698144,8.569393876577191,44.80166198413169,49.774723943325874,35.615657778439655,26.66766106531327,33.32428327571934,38.01854697508908,31.777298267821806,12.358734886206395,40.210216129321644,30.95182047970339,2.2515031630929827,3.761593852085121,37.148919590061205,32.857877243617054,13.87769950601323,4.384167828048446,28.395085892883536,38.964701257095854,32.91687665181242,29.231722398847438,26.456386977269048,15.141059930540196,12.13490203749637,3.706672584349419,17.00186889458241,0.6698968850885167,28.755820493674513,31.0301527317417,34.20227224851809,12.060697417825583,41.29814159490114],\"y\":[24.024496734582375,7.91645408822661,15.265409354289105,28.133352421101165,44.8832290221541,16.66359755163946,3.3333662977666325,25.431996832815123,31.810472172598352,9.792592261956246,20.867990024974407,47.17100902351095,35.91873994312388,29.639426041865292,46.62553946195754,34.34135588468198,24.47051744855944,26.087203619359723,48.88070791848507,23.374282160873115,37.97663452030135,20.603264987999736,16.247193448391307,29.829782269451833,41.841768160957734,38.37424707327543,19.46888604927532,18.790324556438808,47.51586932519852,23.744439228594423,26.528175696722062,15.373222864645413,49.83884639077876,10.65697784327111,0.3026392913569542,6.675435642478883,31.806814863270244,21.604041709668653,22.698632859580325,4.67746732413406,25.34178984038332,15.711336429250888,11.700090340168535,28.158430992982748,36.812655616384866,49.01384519180265,28.093074756171283,20.51223147683147,49.03381532614743,47.72389890477219,6.761424216124734,49.505208253557555,47.25890378129683,28.349308868343776,43.396063311131876,34.47847288618171,35.29047349326894,26.88844309345789,21.22035461609818,16.27357200158895,9.242588136010577,23.01072039514031,23.90609466262469,25.247988430649954,40.72175776787881,14.125202514489043,0.2395592140732039,13.147381646105178,38.2326751818413,8.546560957139599,23.294230143924256,45.31437747929948,5.468729257743138,16.586846641815356,21.876647158939903,0.739081447644524,47.81328436559112,23.333140205258672,4.834040224654579,48.794407484145445,43.85622098922276,27.115286557687913,49.4472192234293,13.149677140096871,47.02127203851052,23.224572670115812,33.57942121375276,45.31886370072376,13.503182074189656,3.3133367220416376,7.511591675267631,12.575219352406425,16.62973440806362,27.08714509373443,25.46686110377541,7.551935877313909,4.492230782502238,4.395308469003156,38.711726070627996,9.748863154983873]}];\n",
       " var layout_hBSyfTjA0d = {\"height\":550,\"width\":600,\"hovermode\":\"closest\",\"legend\":{\"orientation\":\"v\"},\"title\":{\"text\":\"Multiple Axes\"},\"showlegend\":true,\"yaxis2\":{\"title\":{\"text\":\"Second y axis\"},\"showgrid\":true,\"zeroline\":false,\"showline\":false,\"side\":\"right\",\"overlaying\":\"y\"},\"yaxis\":{\"title\":{\"text\":\"First Y Axis\"},\"showgrid\":true,\"zeroline\":false,\"showline\":false},\"xaxis\":{\"title\":{\"text\":\"X Axis\"},\"showgrid\":true,\"zeroline\":false,\"showline\":false}};\n",
       " var config_hBSyfTjA0d = {\"responsive\":false,\"scrollZoom\":false,\"displaylogo\":false};\n",
       " Plotly.newPlot(\"graph_hBSyfTjA0d\", traces_hBSyfTjA0d, layout_hBSyfTjA0d, config_hBSyfTjA0d);\n",
       "</script> \n"
      ]
     },
     "metadata": {},
     "output_type": "display_data"
    }
   ],
   "source": [
    "val series1 = XY(x, y) asType SCATTER drawStyle MARKERS\n",
    "\n",
    "// The following maps the series onto the second Y axis.\n",
    "val series2 = (\n",
    "    XY(x, z) \n",
    "    asType SCATTER \n",
    "    drawStyle MARKERS \n",
    "    setAxis YAxis(2)\n",
    ")\n",
    "      \n",
    "val chart = (\n",
    "    Chart() \n",
    "    setTitle \"Multiple Axes\"\n",
    "    // the following makes the chart unresponsive\n",
    "    setConfig(false, false) \n",
    "    addSeries(series1, series2) \n",
    "    // the following tells the chart how t render the second Y Axis\n",
    "    addAxes YAxis(position = 2, title = \"Second y axis\", overlaying = YAxis(), side = RIGHT)\n",
    "    addAxes YAxis(1, \"First Y Axis\")\n",
    "    addAxes XAxis(title = \"X Axis\")\n",
    ") \n",
    "\n",
    "// this is just for illustration purposes, but we can also do the following\n",
    "val canvas = Canvas() setChart(0, 0, chart)\n",
    "\n",
    "canvas.plotInline"
   ]
  },
  {
   "cell_type": "markdown",
   "metadata": {},
   "source": [
    "### Customizing the Axes\n",
    "\n",
    "As can be seen from some of the examples above, the axes were not set. While for quick data exploration the above is acceptable, for presentation purposes we would want named axes.\n",
    "\n",
    "We can do this as follows:"
   ]
  },
  {
   "cell_type": "code",
   "execution_count": 58,
   "metadata": {},
   "outputs": [
    {
     "data": {
      "text/html": [
       "<div id=\"grid-container_cRGD3M1uTN\" class=\"grid-container\" align=\"center\"> \n",
       "<div id=\"grid_cRGD3M1uTN\" class=\"grid\" align=\"center\"> \n",
       "<div id=\"graph_diIbmDA4X2\" class=\"graph\"></div> \n",
       "</div> \n",
       "</div> \n",
       "<script>\n",
       "var masonry = new Macy({\n",
       "    container: '#grid_cRGD3M1uTN',\n",
       "    debug: true,\n",
       "    mobileFirst: true,\n",
       "    columns: 1,\n",
       "    margin: {\n",
       "        x: 0,\n",
       "        y: 0\n",
       "    }\n",
       "  });\n",
       "\n",
       " var traces_diIbmDA4X2 = [{\"name\":\"eDwL2NQSrD\",\"type\":\"scatter\",\"mode\":\"markers\",\"x\":[28.272840789467697,45.9351415696758,41.49700428880536,5.640476298572916,1.7454609184810788,47.460171403814485,25.24049632543097,34.84490565260429,25.901330496991353,5.434289149428418,35.73333969830257,12.134718016492767,27.205272007882236,48.163788697305456,29.969983517985188,8.473194659494792,44.647362441815766,7.882864103638809,15.521507893900328,16.607370093499824,2.0736784544665596,29.062880196393536,16.60046917148848,10.747082177852368,24.731530922326634,8.329688508974082,25.59770075451548,39.02777219102234,24.499699104278395,29.924861632065213,29.13680596995593,5.588386910591408,9.377715800844744,1.5158228897219017,13.95179286380477,31.371138675021793,36.724242839368756,31.341517463113945,31.9656386950653,35.33776938611751,26.463103288549732,19.17438351526813,35.83224960985926,0.6973337444529992,30.016565766865195,10.386055231866559,35.90163678446117,33.95344392242779,13.078963843071778,34.52334328724981,27.077820008251546,38.1042772012531,5.509773710517946,17.23268222326232,39.36128455281319,5.166550097681089,49.603774408275754,17.115399650768726,29.00256650679789,37.34505800981697,38.78694093610195,47.15276783823453,48.140794838167736,30.632258733153805,32.39022249313736,43.70895738752852,9.560811038751964,49.397788276698144,8.569393876577191,44.80166198413169,49.774723943325874,35.615657778439655,26.66766106531327,33.32428327571934,38.01854697508908,31.777298267821806,12.358734886206395,40.210216129321644,30.95182047970339,2.2515031630929827,3.761593852085121,37.148919590061205,32.857877243617054,13.87769950601323,4.384167828048446,28.395085892883536,38.964701257095854,32.91687665181242,29.231722398847438,26.456386977269048,15.141059930540196,12.13490203749637,3.706672584349419,17.00186889458241,0.6698968850885167,28.755820493674513,31.0301527317417,34.20227224851809,12.060697417825583,41.29814159490114],\"y\":[32.8316130185204,28.8951362469348,24.934836015146843,10.895016607017089,39.2812858965552,18.46172678129524,17.90265670499157,30.599570335408384,9.681325850752941,9.109437864121173,27.048332123282265,24.389569287140123,1.784998043596392,28.37248113049903,32.148266281893555,16.110991095958187,28.279258957213145,48.075317990340785,26.071133939219404,27.437943904733597,41.84462650755588,15.747393718064039,6.94235447685605,43.07678027598277,25.997215868090883,45.534431925706784,28.603100069197936,30.905144051529103,37.52136643447753,48.020632867978925,48.6537040765194,24.512072956596075,47.71728056238067,2.05779923468995,24.943565251328998,15.693173268091098,13.916611168655274,40.69153054507051,30.754469887827906,14.85527064039161,29.759970021444904,37.58127808221539,36.12145096752955,17.997846301380154,2.583810031670658,39.93018732038463,37.745128450592,19.963926966858054,38.93018975682303,48.87230902093664,12.771698654296582,34.991025456797566,34.671409861470224,48.50887325452956,22.3515278052061,27.243088551370658,14.53254834250519,30.341997601101355,49.33457190335096,15.967322777956532,46.89843270954315,0.7233053393998767,20.720588270032408,2.1951354994260597,23.70759163850156,45.116597910106975,39.55440105153551,16.494348461766894,41.96426165203378,4.467851032524001,32.84122548579325,10.180199861665551,2.9405280096162887,45.7824526295866,11.754325119164749,5.605565241058991,7.49419195572667,31.128726976053223,37.917058229882414,34.676214404464126,21.09399591303147,6.7184632655232726,44.86360263356575,28.574797477366097,10.12231024151315,46.45925323797749,26.917456984247778,25.82765990334653,11.81644925642933,42.43014651176201,28.67404070907208,40.31147742036198,43.81326521927056,38.10122210930181,47.033502837807276,25.572069667001106,35.67770333209043,48.799335873785594,44.302119508145765,36.91567849415991]}];\n",
       " var layout_diIbmDA4X2 = {\"height\":550,\"width\":600,\"hovermode\":\"closest\",\"legend\":{\"orientation\":\"v\"},\"title\":{\"text\":\"Chart with Axes\"},\"showlegend\":true,\"xaxis\":{\"title\":{\"text\":\"x variable\"},\"showgrid\":true,\"zeroline\":false,\"showline\":false},\"yaxis\":{\"title\":{\"text\":\"y variable\"},\"showgrid\":true,\"zeroline\":false,\"showline\":false}};\n",
       " var config_diIbmDA4X2 = {\"responsive\":true,\"scrollZoom\":true,\"displaylogo\":false};\n",
       " Plotly.newPlot(\"graph_diIbmDA4X2\", traces_diIbmDA4X2, layout_diIbmDA4X2, config_diIbmDA4X2);\n",
       "</script> \n"
      ]
     },
     "metadata": {},
     "output_type": "display_data"
    }
   ],
   "source": [
    "// We construct the axes and set their title\n",
    "val xaxis = XAxis(title = \"x variable\")\n",
    "val yaxis = YAxis(title = \"y variable\")\n",
    "\n",
    "// another way to do composition is to just add a bracket around the composition\n",
    "val chart = (\n",
    "    Chart()\n",
    "    setTitle \"Chart with Axes\"\n",
    "    addSeries(series1)\n",
    "    addAxes(xaxis, yaxis)\n",
    ")\n",
    "\n",
    "chart.plotInline"
   ]
  },
  {
   "cell_type": "markdown",
   "metadata": {},
   "source": [
    "### Quickly Configuring The Axes\n",
    "\n",
    "Picta comes with a range of utility functions to make configuring the primary axes quick and easy"
   ]
  },
  {
   "cell_type": "code",
   "execution_count": 59,
   "metadata": {},
   "outputs": [],
   "source": [
    "val x = List.range(0, 100).map(x => x * scala.util.Random.nextDouble())\n",
    "val y = List.range(0, 100).map(x => x * scala.util.Random.nextDouble())"
   ]
  },
  {
   "cell_type": "markdown",
   "metadata": {},
   "source": [
    "#### Adjusting Axes Limits"
   ]
  },
  {
   "cell_type": "code",
   "execution_count": 60,
   "metadata": {},
   "outputs": [
    {
     "data": {
      "text/html": [
       "<div id=\"grid-container_syhbA2DBcs\" class=\"grid-container\" align=\"center\"> \n",
       "<div id=\"grid_syhbA2DBcs\" class=\"grid\" align=\"center\"> \n",
       "<div id=\"graph_VCUDNqakFG\" class=\"graph\"></div> \n",
       "</div> \n",
       "</div> \n",
       "<script>\n",
       "var masonry = new Macy({\n",
       "    container: '#grid_syhbA2DBcs',\n",
       "    debug: true,\n",
       "    mobileFirst: true,\n",
       "    columns: 1,\n",
       "    margin: {\n",
       "        x: 0,\n",
       "        y: 0\n",
       "    }\n",
       "  });\n",
       "\n",
       " var traces_VCUDNqakFG = [{\"name\":\"xIb13SZbOX\",\"type\":\"scatter\",\"mode\":\"markers\",\"x\":[0,0.25689618548005466,1.8958044556754978,1.3779147952872206,1.572775614030983,3.448791563487272,5.16565666830318,2.8593217095622103,5.9172441117667836,8.198390095462402,0.3997675169995285,2.898805070795073,1.845459343376905,9.194808353711005,2.993053961164914,4.697269261823264,8.31913380819673,5.229430485268747,16.34989184987632,15.957276174549646,2.4539361549252647,11.391967936387296,11.940296969481095,11.837435913596039,10.469065924554721,24.930322623101393,25.342561356385318,3.6494303501207566,25.251129358138574,19.211218684985507,3.394484911279243,26.97145864733761,23.182772625924393,27.001758870756937,0.613431293381558,30.03546192494546,3.5437672453526643,10.188571083618786,4.384308618428183,13.667389106272678,22.375243101177333,26.310941866943054,32.30421013018452,24.969897389889084,15.456557808295495,44.157413613591075,21.762902199890142,9.585332155645983,38.228851525609294,4.411630875616978,17.57952749192232,23.013546905769076,34.35970908534167,33.18282992420357,26.557918548959563,6.334120464653668,23.429457995800412,28.46926848218227,50.41565739362079,6.0458152843350685,8.18155929309846,15.429061670559776,16.935599406457854,35.837678509789214,27.16726103510822,42.02232413011822,45.63288726016077,39.196033186988075,35.6781032364849,20.391284922591268,4.97562871853316,62.0797321123509,10.849197795693186,0.5110296218764797,17.49328732660447,30.712453727709256,9.981188575884179,31.422835155212887,1.2035237513182049,44.09550494521405,20.719633757068152,46.00463732477114,24.9356851818761,2.3875682646388956,83.99716809535363,48.989036638987734,75.57737924751379,7.079067390137293,77.83615805188008,41.058365998401335,23.26960436418391,31.15839272095551,42.47776516664587,37.578804947637416,76.37569577428445,8.474979866159353,65.09722816351712,91.13118574165027,59.899945537674405,5.500390363942275],\"y\":[0,0.7198530092482286,0.4545708360054983,1.9492103841604713,2.9334027645560345,2.309313844453995,4.834200016680127,6.81902419751607,7.7793789749625075,8.085613632343602,2.4473446047113323,2.0735233418707404,7.629041725793199,11.857669206245337,3.5655733521981317,8.525222579138061,4.282724231530077,9.199584453223407,7.11125650901344,1.4523338291868617,2.45204650464961,4.531229166429618,20.46044780934174,8.891435611563878,15.671231376940138,10.263396948904003,12.664342961553656,2.103036302455222,2.5714286818095964,25.44097276803094,1.6961975485761271,4.708401302440612,17.059503281419925,25.163227883716733,28.08742047133266,4.05459191780635,34.131212927151594,7.644359442387664,26.999188264252673,24.28655859884623,20.78797237686397,19.349639196985997,8.634308985249847,2.6402675628288317,23.066427294712586,11.453106669319139,17.178251185010083,25.869291983553918,35.78088109973338,29.16154847875168,17.41821882559732,25.72901534407112,3.4702336731090666,38.486621001672155,40.07488701093072,17.317581575810575,25.483461661822904,15.072376545468796,41.942939156838236,42.061029340716935,1.3808316606814564,23.949104498473304,21.42385797332326,4.4815887557709395,15.121991234786876,3.836374319014544,60.19749358273094,15.852991371026727,42.10681168116929,53.10837255094975,53.86781725858059,34.674710803699355,36.28034690120833,18.01317862037719,70.68290503160841,64.83855620155225,35.45958751719307,6.454393790959907,42.11962726901093,32.66561384556534,8.036732323030211,43.848611821849616,28.489731053075424,73.90958606817043,57.51157514410407,67.515608734007,83.01601517978024,3.603795760660543,11.154220365732634,23.9897500245583,55.29501394145878,81.52365276733647,25.748764201787353,17.811018459966405,45.95624050322462,40.29418645041571,35.06876995725958,9.012309350350302,62.89730078175354,50.04337178445709]}];\n",
       " var layout_VCUDNqakFG = {\"height\":550,\"width\":600,\"hovermode\":\"closest\",\"legend\":{\"orientation\":\"v\"},\"title\":{\"text\":\"Axis.SetAxisRange\"},\"showlegend\":true,\"yaxis\":{\"title\":{\"text\":\"y axis\"},\"showgrid\":true,\"zeroline\":false,\"showline\":false,\"range\":[-100,100]},\"xaxis\":{\"title\":{\"text\":\"x axis\"},\"showgrid\":true,\"zeroline\":false,\"showline\":false,\"range\":[-100,100]}};\n",
       " var config_VCUDNqakFG = {\"responsive\":true,\"scrollZoom\":true,\"displaylogo\":false};\n",
       " Plotly.newPlot(\"graph_VCUDNqakFG\", traces_VCUDNqakFG, layout_VCUDNqakFG, config_VCUDNqakFG);\n",
       "</script> \n"
      ]
     },
     "metadata": {},
     "output_type": "display_data"
    }
   ],
   "source": [
    "val series = (\n",
    "    XY(x, y)\n",
    "    asType SCATTER\n",
    "    drawStyle MARKERS\n",
    ")\n",
    "\n",
    "val chart = (\n",
    "      Chart()\n",
    "    addSeries series\n",
    "    setTitle \"Axis.SetAxisRange\"\n",
    "    addAxes yaxis\n",
    "    setXAxisLimits(-100, 100)\n",
    "    setYAxisLimits(-100, 100)\n",
    "    setXAxisTitle(\"x axis\")\n",
    "    setYAxisTitle(\"y axis\")\n",
    ")\n",
    "\n",
    "chart.plotInline"
   ]
  },
  {
   "cell_type": "markdown",
   "metadata": {},
   "source": [
    "#### Adjusting Axis Ticks"
   ]
  },
  {
   "cell_type": "code",
   "execution_count": 61,
   "metadata": {
    "scrolled": false
   },
   "outputs": [
    {
     "data": {
      "text/html": [
       "<div id=\"grid-container_zpzeE0rU8R\" class=\"grid-container\" align=\"center\"> \n",
       "<div id=\"grid_zpzeE0rU8R\" class=\"grid\" align=\"center\"> \n",
       "<div id=\"graph_zayy8GKTDw\" class=\"graph\"></div> \n",
       "</div> \n",
       "</div> \n",
       "<script>\n",
       "var masonry = new Macy({\n",
       "    container: '#grid_zpzeE0rU8R',\n",
       "    debug: true,\n",
       "    mobileFirst: true,\n",
       "    columns: 1,\n",
       "    margin: {\n",
       "        x: 0,\n",
       "        y: 0\n",
       "    }\n",
       "  });\n",
       "\n",
       " var traces_zayy8GKTDw = [{\"name\":\"OFCaaGxZlt\",\"type\":\"scatter\",\"mode\":\"markers\",\"x\":[0,0.25689618548005466,1.8958044556754978,1.3779147952872206,1.572775614030983,3.448791563487272,5.16565666830318,2.8593217095622103,5.9172441117667836,8.198390095462402,0.3997675169995285,2.898805070795073,1.845459343376905,9.194808353711005,2.993053961164914,4.697269261823264,8.31913380819673,5.229430485268747,16.34989184987632,15.957276174549646,2.4539361549252647,11.391967936387296,11.940296969481095,11.837435913596039,10.469065924554721,24.930322623101393,25.342561356385318,3.6494303501207566,25.251129358138574,19.211218684985507,3.394484911279243,26.97145864733761,23.182772625924393,27.001758870756937,0.613431293381558,30.03546192494546,3.5437672453526643,10.188571083618786,4.384308618428183,13.667389106272678,22.375243101177333,26.310941866943054,32.30421013018452,24.969897389889084,15.456557808295495,44.157413613591075,21.762902199890142,9.585332155645983,38.228851525609294,4.411630875616978,17.57952749192232,23.013546905769076,34.35970908534167,33.18282992420357,26.557918548959563,6.334120464653668,23.429457995800412,28.46926848218227,50.41565739362079,6.0458152843350685,8.18155929309846,15.429061670559776,16.935599406457854,35.837678509789214,27.16726103510822,42.02232413011822,45.63288726016077,39.196033186988075,35.6781032364849,20.391284922591268,4.97562871853316,62.0797321123509,10.849197795693186,0.5110296218764797,17.49328732660447,30.712453727709256,9.981188575884179,31.422835155212887,1.2035237513182049,44.09550494521405,20.719633757068152,46.00463732477114,24.9356851818761,2.3875682646388956,83.99716809535363,48.989036638987734,75.57737924751379,7.079067390137293,77.83615805188008,41.058365998401335,23.26960436418391,31.15839272095551,42.47776516664587,37.578804947637416,76.37569577428445,8.474979866159353,65.09722816351712,91.13118574165027,59.899945537674405,5.500390363942275],\"y\":[0,0.7198530092482286,0.4545708360054983,1.9492103841604713,2.9334027645560345,2.309313844453995,4.834200016680127,6.81902419751607,7.7793789749625075,8.085613632343602,2.4473446047113323,2.0735233418707404,7.629041725793199,11.857669206245337,3.5655733521981317,8.525222579138061,4.282724231530077,9.199584453223407,7.11125650901344,1.4523338291868617,2.45204650464961,4.531229166429618,20.46044780934174,8.891435611563878,15.671231376940138,10.263396948904003,12.664342961553656,2.103036302455222,2.5714286818095964,25.44097276803094,1.6961975485761271,4.708401302440612,17.059503281419925,25.163227883716733,28.08742047133266,4.05459191780635,34.131212927151594,7.644359442387664,26.999188264252673,24.28655859884623,20.78797237686397,19.349639196985997,8.634308985249847,2.6402675628288317,23.066427294712586,11.453106669319139,17.178251185010083,25.869291983553918,35.78088109973338,29.16154847875168,17.41821882559732,25.72901534407112,3.4702336731090666,38.486621001672155,40.07488701093072,17.317581575810575,25.483461661822904,15.072376545468796,41.942939156838236,42.061029340716935,1.3808316606814564,23.949104498473304,21.42385797332326,4.4815887557709395,15.121991234786876,3.836374319014544,60.19749358273094,15.852991371026727,42.10681168116929,53.10837255094975,53.86781725858059,34.674710803699355,36.28034690120833,18.01317862037719,70.68290503160841,64.83855620155225,35.45958751719307,6.454393790959907,42.11962726901093,32.66561384556534,8.036732323030211,43.848611821849616,28.489731053075424,73.90958606817043,57.51157514410407,67.515608734007,83.01601517978024,3.603795760660543,11.154220365732634,23.9897500245583,55.29501394145878,81.52365276733647,25.748764201787353,17.811018459966405,45.95624050322462,40.29418645041571,35.06876995725958,9.012309350350302,62.89730078175354,50.04337178445709]}];\n",
       " var layout_zayy8GKTDw = {\"height\":550,\"width\":600,\"hovermode\":\"closest\",\"legend\":{\"orientation\":\"v\"},\"title\":{\"text\":\"Set Axis Ticks\"},\"showlegend\":true,\"yaxis\":{\"title\":{\"text\":\"y variable\"},\"showgrid\":true,\"zeroline\":false,\"showline\":false,\"range\":[-100,100]},\"xaxis\":{\"title\":{\"text\":\"my new x axis\"},\"showgrid\":true,\"zeroline\":false,\"showline\":false,\"range\":[0,100],\"tick0\":5,\"dtick\":15}};\n",
       " var config_zayy8GKTDw = {\"responsive\":true,\"scrollZoom\":true,\"displaylogo\":false};\n",
       " Plotly.newPlot(\"graph_zayy8GKTDw\", traces_zayy8GKTDw, layout_zayy8GKTDw, config_zayy8GKTDw);\n",
       "</script> \n"
      ]
     },
     "metadata": {},
     "output_type": "display_data"
    }
   ],
   "source": [
    "val series = (\n",
    "    XY(x, y)\n",
    "    asType SCATTER\n",
    "    drawStyle MARKERS\n",
    ")\n",
    "\n",
    "val chart = (\n",
    "    Chart()\n",
    "    addSeries series\n",
    "    setTitle \"Set Axis Ticks\"\n",
    "    addAxes yaxis\n",
    "    setXAxisLimits(0, 100)\n",
    "    setYAxisLimits(-100, 100)\n",
    "    setXAxisTitle(\"my new x axis\")\n",
    "    setXAxisStartTick 5\n",
    "    setXAxisTickGap 15\n",
    ")\n",
    "\n",
    "chart.plotInline"
   ]
  },
  {
   "cell_type": "markdown",
   "metadata": {},
   "source": [
    "### Setting Logarithmic Axes"
   ]
  },
  {
   "cell_type": "code",
   "execution_count": 62,
   "metadata": {},
   "outputs": [
    {
     "data": {
      "text/html": [
       "<div id=\"grid-container_jjJa1rfyAh\" class=\"grid-container\" align=\"center\"> \n",
       "<div id=\"grid_jjJa1rfyAh\" class=\"grid\" align=\"center\"> \n",
       "<div id=\"graph_72dWkgdPKz\" class=\"graph\"></div> \n",
       "</div> \n",
       "</div> \n",
       "<script>\n",
       "var masonry = new Macy({\n",
       "    container: '#grid_jjJa1rfyAh',\n",
       "    debug: true,\n",
       "    mobileFirst: true,\n",
       "    columns: 1,\n",
       "    margin: {\n",
       "        x: 0,\n",
       "        y: 0\n",
       "    }\n",
       "  });\n",
       "\n",
       " var traces_72dWkgdPKz = [{\"name\":\"K41toXhqFn\",\"type\":\"scatter\",\"mode\":\"markers\",\"x\":[1,2,3],\"y\":[1.234,5.2112,2.44332]}];\n",
       " var layout_72dWkgdPKz = {\"height\":550,\"width\":600,\"hovermode\":\"closest\",\"legend\":{\"orientation\":\"v\"},\"title\":{\"text\":\"Logarithmic Axes\"},\"showlegend\":true,\"yaxis\":{\"title\":{\"text\":\"y variable\"},\"showgrid\":true,\"zeroline\":false,\"showline\":false,\"type\":\"log\"},\"xaxis\":{\"showgrid\":true,\"zeroline\":false,\"showline\":false,\"type\":\"log\"}};\n",
       " var config_72dWkgdPKz = {\"responsive\":true,\"scrollZoom\":true,\"displaylogo\":false};\n",
       " Plotly.newPlot(\"graph_72dWkgdPKz\", traces_72dWkgdPKz, layout_72dWkgdPKz, config_72dWkgdPKz);\n",
       "</script> \n"
      ]
     },
     "metadata": {},
     "output_type": "display_data"
    }
   ],
   "source": [
    "val series = (\n",
    "    XY(List(1, 2, 3), List(1.234, 5.2112, 2.44332))\n",
    "    asType SCATTER\n",
    "    drawStyle MARKERS\n",
    ")\n",
    "\n",
    "val chart = (\n",
    "    Chart()\n",
    "    addSeries series\n",
    "    setTitle \"Logarithmic Axes\"\n",
    "    addAxes yaxis\n",
    "    drawXAxisLog true\n",
    "    drawYAxisLog true\n",
    ")\n",
    "\n",
    "chart.plotInline"
   ]
  },
  {
   "cell_type": "code",
   "execution_count": 63,
   "metadata": {},
   "outputs": [
    {
     "data": {
      "text/html": [
       "<div id=\"grid-container_1mIKn53CIy\" class=\"grid-container\" align=\"center\"> \n",
       "<div id=\"grid_1mIKn53CIy\" class=\"grid\" align=\"center\"> \n",
       "<div id=\"graph_GswjSVVNmJ\" class=\"graph\"></div> \n",
       "</div> \n",
       "</div> \n",
       "<script>\n",
       "var masonry = new Macy({\n",
       "    container: '#grid_1mIKn53CIy',\n",
       "    debug: true,\n",
       "    mobileFirst: true,\n",
       "    columns: 1,\n",
       "    margin: {\n",
       "        x: 0,\n",
       "        y: 0\n",
       "    }\n",
       "  });\n",
       "\n",
       " var traces_GswjSVVNmJ = [{\"name\":\"wIwCcZ31UW\",\"type\":\"scatter\",\"mode\":\"markers\",\"x\":[0,0.25689618548005466,1.8958044556754978,1.3779147952872206,1.572775614030983,3.448791563487272,5.16565666830318,2.8593217095622103,5.9172441117667836,8.198390095462402,0.3997675169995285,2.898805070795073,1.845459343376905,9.194808353711005,2.993053961164914,4.697269261823264,8.31913380819673,5.229430485268747,16.34989184987632,15.957276174549646,2.4539361549252647,11.391967936387296,11.940296969481095,11.837435913596039,10.469065924554721,24.930322623101393,25.342561356385318,3.6494303501207566,25.251129358138574,19.211218684985507,3.394484911279243,26.97145864733761,23.182772625924393,27.001758870756937,0.613431293381558,30.03546192494546,3.5437672453526643,10.188571083618786,4.384308618428183,13.667389106272678,22.375243101177333,26.310941866943054,32.30421013018452,24.969897389889084,15.456557808295495,44.157413613591075,21.762902199890142,9.585332155645983,38.228851525609294,4.411630875616978,17.57952749192232,23.013546905769076,34.35970908534167,33.18282992420357,26.557918548959563,6.334120464653668,23.429457995800412,28.46926848218227,50.41565739362079,6.0458152843350685,8.18155929309846,15.429061670559776,16.935599406457854,35.837678509789214,27.16726103510822,42.02232413011822,45.63288726016077,39.196033186988075,35.6781032364849,20.391284922591268,4.97562871853316,62.0797321123509,10.849197795693186,0.5110296218764797,17.49328732660447,30.712453727709256,9.981188575884179,31.422835155212887,1.2035237513182049,44.09550494521405,20.719633757068152,46.00463732477114,24.9356851818761,2.3875682646388956,83.99716809535363,48.989036638987734,75.57737924751379,7.079067390137293,77.83615805188008,41.058365998401335,23.26960436418391,31.15839272095551,42.47776516664587,37.578804947637416,76.37569577428445,8.474979866159353,65.09722816351712,91.13118574165027,59.899945537674405,5.500390363942275],\"y\":[0,0.7198530092482286,0.4545708360054983,1.9492103841604713,2.9334027645560345,2.309313844453995,4.834200016680127,6.81902419751607,7.7793789749625075,8.085613632343602,2.4473446047113323,2.0735233418707404,7.629041725793199,11.857669206245337,3.5655733521981317,8.525222579138061,4.282724231530077,9.199584453223407,7.11125650901344,1.4523338291868617,2.45204650464961,4.531229166429618,20.46044780934174,8.891435611563878,15.671231376940138,10.263396948904003,12.664342961553656,2.103036302455222,2.5714286818095964,25.44097276803094,1.6961975485761271,4.708401302440612,17.059503281419925,25.163227883716733,28.08742047133266,4.05459191780635,34.131212927151594,7.644359442387664,26.999188264252673,24.28655859884623,20.78797237686397,19.349639196985997,8.634308985249847,2.6402675628288317,23.066427294712586,11.453106669319139,17.178251185010083,25.869291983553918,35.78088109973338,29.16154847875168,17.41821882559732,25.72901534407112,3.4702336731090666,38.486621001672155,40.07488701093072,17.317581575810575,25.483461661822904,15.072376545468796,41.942939156838236,42.061029340716935,1.3808316606814564,23.949104498473304,21.42385797332326,4.4815887557709395,15.121991234786876,3.836374319014544,60.19749358273094,15.852991371026727,42.10681168116929,53.10837255094975,53.86781725858059,34.674710803699355,36.28034690120833,18.01317862037719,70.68290503160841,64.83855620155225,35.45958751719307,6.454393790959907,42.11962726901093,32.66561384556534,8.036732323030211,43.848611821849616,28.489731053075424,73.90958606817043,57.51157514410407,67.515608734007,83.01601517978024,3.603795760660543,11.154220365732634,23.9897500245583,55.29501394145878,81.52365276733647,25.748764201787353,17.811018459966405,45.95624050322462,40.29418645041571,35.06876995725958,9.012309350350302,62.89730078175354,50.04337178445709]}];\n",
       " var layout_GswjSVVNmJ = {\"height\":550,\"width\":600,\"hovermode\":\"closest\",\"legend\":{\"orientation\":\"v\"},\"title\":{\"text\":\"Reversed Axes\"},\"showlegend\":true,\"yaxis\":{\"title\":{\"text\":\"y variable\"},\"showgrid\":true,\"zeroline\":false,\"showline\":false,\"autorange\":\"reversed\"},\"xaxis\":{\"showgrid\":true,\"zeroline\":false,\"showline\":false,\"autorange\":\"reversed\"}};\n",
       " var config_GswjSVVNmJ = {\"responsive\":true,\"scrollZoom\":true,\"displaylogo\":false};\n",
       " Plotly.newPlot(\"graph_GswjSVVNmJ\", traces_GswjSVVNmJ, layout_GswjSVVNmJ, config_GswjSVVNmJ);\n",
       "</script> \n"
      ]
     },
     "metadata": {},
     "output_type": "display_data"
    }
   ],
   "source": [
    "val series = (\n",
    "    XY(x, y)\n",
    "    asType SCATTER\n",
    "    drawStyle MARKERS\n",
    ")\n",
    "\n",
    "val chart = (\n",
    "    Chart()\n",
    "    addSeries series\n",
    "    setTitle \"Reversed Axes\"\n",
    "    addAxes yaxis\n",
    "    drawXAxisReversed true\n",
    "    drawYAxisReversed true\n",
    ")\n",
    "\n",
    "chart.plotInline"
   ]
  },
  {
   "cell_type": "markdown",
   "metadata": {},
   "source": [
    "### Display options - MultiCharts\n",
    "\n",
    "`MultiCharts` are a way to plot multiple axes on the same chart. This is seperate to Picta's grid system, which create a grid of subplot `Chart`'s. The next series of examples will make this clearer."
   ]
  },
  {
   "cell_type": "code",
   "execution_count": 64,
   "metadata": {},
   "outputs": [
    {
     "data": {
      "text/html": [
       "<div id=\"grid-container_CjRm0DAKvk\" class=\"grid-container\" align=\"center\"> \n",
       "<div id=\"grid_CjRm0DAKvk\" class=\"grid\" align=\"center\"> \n",
       "<div id=\"graph_Bdyts1HUyk\" class=\"graph\"></div> \n",
       "</div> \n",
       "</div> \n",
       "<script>\n",
       "var masonry = new Macy({\n",
       "    container: '#grid_CjRm0DAKvk',\n",
       "    debug: true,\n",
       "    mobileFirst: true,\n",
       "    columns: 1,\n",
       "    margin: {\n",
       "        x: 0,\n",
       "        y: 0\n",
       "    }\n",
       "  });\n",
       "\n",
       " var traces_Bdyts1HUyk = [{\"name\":\"IAlnRgChG7\",\"type\":\"scatter\",\"mode\":\"markers\",\"x\":[1,2,3],\"y\":[2,4,5]},{\"name\":\"pCx4PbAA5c\",\"type\":\"scatter\",\"mode\":\"markers\",\"xaxis\":\"x2\",\"yaxis\":\"y2\",\"x\":[0,0.25689618548005466,1.8958044556754978,1.3779147952872206,1.572775614030983,3.448791563487272,5.16565666830318,2.8593217095622103,5.9172441117667836,8.198390095462402,0.3997675169995285,2.898805070795073,1.845459343376905,9.194808353711005,2.993053961164914,4.697269261823264,8.31913380819673,5.229430485268747,16.34989184987632,15.957276174549646,2.4539361549252647,11.391967936387296,11.940296969481095,11.837435913596039,10.469065924554721,24.930322623101393,25.342561356385318,3.6494303501207566,25.251129358138574,19.211218684985507,3.394484911279243,26.97145864733761,23.182772625924393,27.001758870756937,0.613431293381558,30.03546192494546,3.5437672453526643,10.188571083618786,4.384308618428183,13.667389106272678,22.375243101177333,26.310941866943054,32.30421013018452,24.969897389889084,15.456557808295495,44.157413613591075,21.762902199890142,9.585332155645983,38.228851525609294,4.411630875616978,17.57952749192232,23.013546905769076,34.35970908534167,33.18282992420357,26.557918548959563,6.334120464653668,23.429457995800412,28.46926848218227,50.41565739362079,6.0458152843350685,8.18155929309846,15.429061670559776,16.935599406457854,35.837678509789214,27.16726103510822,42.02232413011822,45.63288726016077,39.196033186988075,35.6781032364849,20.391284922591268,4.97562871853316,62.0797321123509,10.849197795693186,0.5110296218764797,17.49328732660447,30.712453727709256,9.981188575884179,31.422835155212887,1.2035237513182049,44.09550494521405,20.719633757068152,46.00463732477114,24.9356851818761,2.3875682646388956,83.99716809535363,48.989036638987734,75.57737924751379,7.079067390137293,77.83615805188008,41.058365998401335,23.26960436418391,31.15839272095551,42.47776516664587,37.578804947637416,76.37569577428445,8.474979866159353,65.09722816351712,91.13118574165027,59.899945537674405,5.500390363942275],\"y\":[0,0.7198530092482286,0.4545708360054983,1.9492103841604713,2.9334027645560345,2.309313844453995,4.834200016680127,6.81902419751607,7.7793789749625075,8.085613632343602,2.4473446047113323,2.0735233418707404,7.629041725793199,11.857669206245337,3.5655733521981317,8.525222579138061,4.282724231530077,9.199584453223407,7.11125650901344,1.4523338291868617,2.45204650464961,4.531229166429618,20.46044780934174,8.891435611563878,15.671231376940138,10.263396948904003,12.664342961553656,2.103036302455222,2.5714286818095964,25.44097276803094,1.6961975485761271,4.708401302440612,17.059503281419925,25.163227883716733,28.08742047133266,4.05459191780635,34.131212927151594,7.644359442387664,26.999188264252673,24.28655859884623,20.78797237686397,19.349639196985997,8.634308985249847,2.6402675628288317,23.066427294712586,11.453106669319139,17.178251185010083,25.869291983553918,35.78088109973338,29.16154847875168,17.41821882559732,25.72901534407112,3.4702336731090666,38.486621001672155,40.07488701093072,17.317581575810575,25.483461661822904,15.072376545468796,41.942939156838236,42.061029340716935,1.3808316606814564,23.949104498473304,21.42385797332326,4.4815887557709395,15.121991234786876,3.836374319014544,60.19749358273094,15.852991371026727,42.10681168116929,53.10837255094975,53.86781725858059,34.674710803699355,36.28034690120833,18.01317862037719,70.68290503160841,64.83855620155225,35.45958751719307,6.454393790959907,42.11962726901093,32.66561384556534,8.036732323030211,43.848611821849616,28.489731053075424,73.90958606817043,57.51157514410407,67.515608734007,83.01601517978024,3.603795760660543,11.154220365732634,23.9897500245583,55.29501394145878,81.52365276733647,25.748764201787353,17.811018459966405,45.95624050322462,40.29418645041571,35.06876995725958,9.012309350350302,62.89730078175354,50.04337178445709]}];\n",
       " var layout_Bdyts1HUyk = {\"height\":550,\"width\":600,\"hovermode\":\"closest\",\"legend\":{\"orientation\":\"v\"},\"title\":{\"text\":\"Chart.Axis.Composition\"},\"showlegend\":true,\"grid\":{\"rows\":1,\"columns\":2,\"pattern\":\"independent\"},\"xaxis\":{\"title\":{\"text\":\"x1\"},\"showgrid\":true,\"zeroline\":false,\"showline\":false},\"yaxis\":{\"showgrid\":true,\"zeroline\":false,\"showline\":false},\"xaxis2\":{\"title\":{\"text\":\"x2\"},\"showgrid\":true,\"zeroline\":false,\"showline\":false},\"yaxis2\":{\"showgrid\":true,\"zeroline\":false,\"showline\":false}};\n",
       " var config_Bdyts1HUyk = {\"responsive\":false,\"scrollZoom\":true,\"displaylogo\":false};\n",
       " Plotly.newPlot(\"graph_Bdyts1HUyk\", traces_Bdyts1HUyk, layout_Bdyts1HUyk, config_Bdyts1HUyk);\n",
       "</script> \n"
      ]
     },
     "metadata": {},
     "output_type": "display_data"
    }
   ],
   "source": [
    "// create the axes\n",
    "val xaxis1 = XAxis() setTitle \"x1\"\n",
    "val yaxis1 = YAxis() // this is not strictly necessary, but if it is not added there will be a zeroline at y = 0\n",
    "\n",
    "val xaxis2 = XAxis(2) setTitle \"x2\"\n",
    "val yaxis2 = YAxis(2) // this is not strictly necessary, but if it is not added there will be a zeroline at y = 0\n",
    "\n",
    "val series1 = (\n",
    "    XY(x = List(1, 2, 3), y = List(2, 4, 5))\n",
    "    asType SCATTER\n",
    "    drawStyle MARKERS\n",
    ")\n",
    "\n",
    "val series2 = (\n",
    "    XY(x = x, y = y) \n",
    "    asType SCATTER \n",
    "    drawStyle MARKERS \n",
    "    setAxes (xaxis2, yaxis2)\n",
    ")\n",
    "\n",
    "val chart1 = Chart()\n",
    "            .addSeries(series1, series2)\n",
    "            .setTitle(\"Chart.Axis.Composition\")\n",
    "            .addAxes(xaxis1, yaxis1, xaxis2, yaxis2)\n",
    "            .setConfig(responsive=false)\n",
    "            // This tells Picta that we want to actually subdivide this chart into multiple plots\n",
    "            .asMultiChart(1, 2)\n",
    "\n",
    "chart1.plotInline"
   ]
  },
  {
   "cell_type": "markdown",
   "metadata": {},
   "source": [
    "### Picta's Subplot System\n",
    "\n",
    "While the above is useful, sometimes it is more useful to plot independent charts in a subplot grid. This is where we can use the Picta subplot system.\n",
    "\n",
    "In the subplots below, each subplot is an individual `Chart`. This means we can actually embed the above `MultiChart` inside another subplot. This way we can create nested subplots to showcase any data we need to.\n",
    "\n",
    "Used creatively, this subplot system can be very useful for data exploration."
   ]
  },
  {
   "cell_type": "code",
   "execution_count": 65,
   "metadata": {
    "scrolled": false
   },
   "outputs": [
    {
     "data": {
      "text/html": [
       "<div id=\"grid-container_kcTtTORFem\" class=\"grid-container\" align=\"center\"> \n",
       "<div id=\"grid_kcTtTORFem\" class=\"grid\" align=\"center\"> \n",
       "<div id=\"graph_znSdwYvQNZ\" class=\"graph\"></div> \n",
       "<div id=\"graph_VG97y5C2JY\" class=\"graph\"></div> \n",
       "<div id=\"graph_m5Fcbg9G6W\" class=\"graph\"></div> \n",
       "<div id=\"graph_BfXn1FSlB3\" class=\"graph\"></div> \n",
       "</div> \n",
       "</div> \n",
       "\n",
       "<div align=\"center\">\n",
       "<button id = \"saveAsPNG_kcTtTORFem\" class=\"picta-button\">Download Canvas as PNG</button>\n",
       "</div>\n",
       "<script>\n",
       "var masonry = new Macy({\n",
       "    container: '#grid_kcTtTORFem',\n",
       "    debug: true,\n",
       "    mobileFirst: true,\n",
       "    columns: 2,\n",
       "    margin: {\n",
       "        x: 0,\n",
       "        y: 0\n",
       "    }\n",
       "  });\n",
       "\n",
       " var traces_znSdwYvQNZ = [{\"name\":\"a\",\"type\":\"scatter\",\"mode\":\"markers\",\"x\":[0,0.25689618548005466,1.8958044556754978,1.3779147952872206,1.572775614030983,3.448791563487272,5.16565666830318,2.8593217095622103,5.9172441117667836,8.198390095462402,0.3997675169995285,2.898805070795073,1.845459343376905,9.194808353711005,2.993053961164914,4.697269261823264,8.31913380819673,5.229430485268747,16.34989184987632,15.957276174549646,2.4539361549252647,11.391967936387296,11.940296969481095,11.837435913596039,10.469065924554721,24.930322623101393,25.342561356385318,3.6494303501207566,25.251129358138574,19.211218684985507,3.394484911279243,26.97145864733761,23.182772625924393,27.001758870756937,0.613431293381558,30.03546192494546,3.5437672453526643,10.188571083618786,4.384308618428183,13.667389106272678,22.375243101177333,26.310941866943054,32.30421013018452,24.969897389889084,15.456557808295495,44.157413613591075,21.762902199890142,9.585332155645983,38.228851525609294,4.411630875616978,17.57952749192232,23.013546905769076,34.35970908534167,33.18282992420357,26.557918548959563,6.334120464653668,23.429457995800412,28.46926848218227,50.41565739362079,6.0458152843350685,8.18155929309846,15.429061670559776,16.935599406457854,35.837678509789214,27.16726103510822,42.02232413011822,45.63288726016077,39.196033186988075,35.6781032364849,20.391284922591268,4.97562871853316,62.0797321123509,10.849197795693186,0.5110296218764797,17.49328732660447,30.712453727709256,9.981188575884179,31.422835155212887,1.2035237513182049,44.09550494521405,20.719633757068152,46.00463732477114,24.9356851818761,2.3875682646388956,83.99716809535363,48.989036638987734,75.57737924751379,7.079067390137293,77.83615805188008,41.058365998401335,23.26960436418391,31.15839272095551,42.47776516664587,37.578804947637416,76.37569577428445,8.474979866159353,65.09722816351712,91.13118574165027,59.899945537674405,5.500390363942275],\"y\":[0,0.7198530092482286,0.4545708360054983,1.9492103841604713,2.9334027645560345,2.309313844453995,4.834200016680127,6.81902419751607,7.7793789749625075,8.085613632343602,2.4473446047113323,2.0735233418707404,7.629041725793199,11.857669206245337,3.5655733521981317,8.525222579138061,4.282724231530077,9.199584453223407,7.11125650901344,1.4523338291868617,2.45204650464961,4.531229166429618,20.46044780934174,8.891435611563878,15.671231376940138,10.263396948904003,12.664342961553656,2.103036302455222,2.5714286818095964,25.44097276803094,1.6961975485761271,4.708401302440612,17.059503281419925,25.163227883716733,28.08742047133266,4.05459191780635,34.131212927151594,7.644359442387664,26.999188264252673,24.28655859884623,20.78797237686397,19.349639196985997,8.634308985249847,2.6402675628288317,23.066427294712586,11.453106669319139,17.178251185010083,25.869291983553918,35.78088109973338,29.16154847875168,17.41821882559732,25.72901534407112,3.4702336731090666,38.486621001672155,40.07488701093072,17.317581575810575,25.483461661822904,15.072376545468796,41.942939156838236,42.061029340716935,1.3808316606814564,23.949104498473304,21.42385797332326,4.4815887557709395,15.121991234786876,3.836374319014544,60.19749358273094,15.852991371026727,42.10681168116929,53.10837255094975,53.86781725858059,34.674710803699355,36.28034690120833,18.01317862037719,70.68290503160841,64.83855620155225,35.45958751719307,6.454393790959907,42.11962726901093,32.66561384556534,8.036732323030211,43.848611821849616,28.489731053075424,73.90958606817043,57.51157514410407,67.515608734007,83.01601517978024,3.603795760660543,11.154220365732634,23.9897500245583,55.29501394145878,81.52365276733647,25.748764201787353,17.811018459966405,45.95624050322462,40.29418645041571,35.06876995725958,9.012309350350302,62.89730078175354,50.04337178445709]}];\n",
       " var layout_znSdwYvQNZ = {\"height\":350,\"width\":350,\"hovermode\":\"closest\",\"legend\":{\"orientation\":\"v\"},\"showlegend\":true,\"margin\":{\"l\":50,\"r\":30,\"t\":50,\"b\":50},\"xaxis\":{\"title\":{\"text\":\"x axis 1\"},\"showgrid\":true,\"zeroline\":false,\"showline\":false},\"yaxis\":{\"title\":{\"text\":\"y axis 1\"},\"showgrid\":true,\"zeroline\":false,\"showline\":false}};\n",
       " var config_znSdwYvQNZ = {\"responsive\":true,\"scrollZoom\":true,\"displaylogo\":false};\n",
       " Plotly.newPlot(\"graph_znSdwYvQNZ\", traces_znSdwYvQNZ, layout_znSdwYvQNZ, config_znSdwYvQNZ);\n",
       "\n",
       " var traces_VG97y5C2JY = [{\"name\":\"b\",\"type\":\"scatter\",\"mode\":\"markers\",\"x\":[0,0.25689618548005466,1.8958044556754978,1.3779147952872206,1.572775614030983,3.448791563487272,5.16565666830318,2.8593217095622103,5.9172441117667836,8.198390095462402,0.3997675169995285,2.898805070795073,1.845459343376905,9.194808353711005,2.993053961164914,4.697269261823264,8.31913380819673,5.229430485268747,16.34989184987632,15.957276174549646,2.4539361549252647,11.391967936387296,11.940296969481095,11.837435913596039,10.469065924554721,24.930322623101393,25.342561356385318,3.6494303501207566,25.251129358138574,19.211218684985507,3.394484911279243,26.97145864733761,23.182772625924393,27.001758870756937,0.613431293381558,30.03546192494546,3.5437672453526643,10.188571083618786,4.384308618428183,13.667389106272678,22.375243101177333,26.310941866943054,32.30421013018452,24.969897389889084,15.456557808295495,44.157413613591075,21.762902199890142,9.585332155645983,38.228851525609294,4.411630875616978,17.57952749192232,23.013546905769076,34.35970908534167,33.18282992420357,26.557918548959563,6.334120464653668,23.429457995800412,28.46926848218227,50.41565739362079,6.0458152843350685,8.18155929309846,15.429061670559776,16.935599406457854,35.837678509789214,27.16726103510822,42.02232413011822,45.63288726016077,39.196033186988075,35.6781032364849,20.391284922591268,4.97562871853316,62.0797321123509,10.849197795693186,0.5110296218764797,17.49328732660447,30.712453727709256,9.981188575884179,31.422835155212887,1.2035237513182049,44.09550494521405,20.719633757068152,46.00463732477114,24.9356851818761,2.3875682646388956,83.99716809535363,48.989036638987734,75.57737924751379,7.079067390137293,77.83615805188008,41.058365998401335,23.26960436418391,31.15839272095551,42.47776516664587,37.578804947637416,76.37569577428445,8.474979866159353,65.09722816351712,91.13118574165027,59.899945537674405,5.500390363942275],\"y\":[0,0.7198530092482286,0.4545708360054983,1.9492103841604713,2.9334027645560345,2.309313844453995,4.834200016680127,6.81902419751607,7.7793789749625075,8.085613632343602,2.4473446047113323,2.0735233418707404,7.629041725793199,11.857669206245337,3.5655733521981317,8.525222579138061,4.282724231530077,9.199584453223407,7.11125650901344,1.4523338291868617,2.45204650464961,4.531229166429618,20.46044780934174,8.891435611563878,15.671231376940138,10.263396948904003,12.664342961553656,2.103036302455222,2.5714286818095964,25.44097276803094,1.6961975485761271,4.708401302440612,17.059503281419925,25.163227883716733,28.08742047133266,4.05459191780635,34.131212927151594,7.644359442387664,26.999188264252673,24.28655859884623,20.78797237686397,19.349639196985997,8.634308985249847,2.6402675628288317,23.066427294712586,11.453106669319139,17.178251185010083,25.869291983553918,35.78088109973338,29.16154847875168,17.41821882559732,25.72901534407112,3.4702336731090666,38.486621001672155,40.07488701093072,17.317581575810575,25.483461661822904,15.072376545468796,41.942939156838236,42.061029340716935,1.3808316606814564,23.949104498473304,21.42385797332326,4.4815887557709395,15.121991234786876,3.836374319014544,60.19749358273094,15.852991371026727,42.10681168116929,53.10837255094975,53.86781725858059,34.674710803699355,36.28034690120833,18.01317862037719,70.68290503160841,64.83855620155225,35.45958751719307,6.454393790959907,42.11962726901093,32.66561384556534,8.036732323030211,43.848611821849616,28.489731053075424,73.90958606817043,57.51157514410407,67.515608734007,83.01601517978024,3.603795760660543,11.154220365732634,23.9897500245583,55.29501394145878,81.52365276733647,25.748764201787353,17.811018459966405,45.95624050322462,40.29418645041571,35.06876995725958,9.012309350350302,62.89730078175354,50.04337178445709]}];\n",
       " var layout_VG97y5C2JY = {\"height\":350,\"width\":350,\"hovermode\":\"closest\",\"legend\":{\"orientation\":\"v\"},\"showlegend\":true,\"margin\":{\"l\":50,\"r\":50,\"t\":50,\"b\":50},\"xaxis\":{\"title\":{\"text\":\"x axis 2\"},\"showgrid\":true,\"zeroline\":false,\"showline\":false},\"yaxis\":{\"title\":{\"text\":\"y axis 2\"},\"showgrid\":true,\"zeroline\":false,\"showline\":false}};\n",
       " var config_VG97y5C2JY = {\"responsive\":true,\"scrollZoom\":true,\"displaylogo\":false};\n",
       " Plotly.newPlot(\"graph_VG97y5C2JY\", traces_VG97y5C2JY, layout_VG97y5C2JY, config_VG97y5C2JY);\n",
       "\n",
       " var traces_m5Fcbg9G6W = [{\"name\":\"c\",\"type\":\"scatter\",\"mode\":\"markers\",\"x\":[0,0.25689618548005466,1.8958044556754978,1.3779147952872206,1.572775614030983,3.448791563487272,5.16565666830318,2.8593217095622103,5.9172441117667836,8.198390095462402,0.3997675169995285,2.898805070795073,1.845459343376905,9.194808353711005,2.993053961164914,4.697269261823264,8.31913380819673,5.229430485268747,16.34989184987632,15.957276174549646,2.4539361549252647,11.391967936387296,11.940296969481095,11.837435913596039,10.469065924554721,24.930322623101393,25.342561356385318,3.6494303501207566,25.251129358138574,19.211218684985507,3.394484911279243,26.97145864733761,23.182772625924393,27.001758870756937,0.613431293381558,30.03546192494546,3.5437672453526643,10.188571083618786,4.384308618428183,13.667389106272678,22.375243101177333,26.310941866943054,32.30421013018452,24.969897389889084,15.456557808295495,44.157413613591075,21.762902199890142,9.585332155645983,38.228851525609294,4.411630875616978,17.57952749192232,23.013546905769076,34.35970908534167,33.18282992420357,26.557918548959563,6.334120464653668,23.429457995800412,28.46926848218227,50.41565739362079,6.0458152843350685,8.18155929309846,15.429061670559776,16.935599406457854,35.837678509789214,27.16726103510822,42.02232413011822,45.63288726016077,39.196033186988075,35.6781032364849,20.391284922591268,4.97562871853316,62.0797321123509,10.849197795693186,0.5110296218764797,17.49328732660447,30.712453727709256,9.981188575884179,31.422835155212887,1.2035237513182049,44.09550494521405,20.719633757068152,46.00463732477114,24.9356851818761,2.3875682646388956,83.99716809535363,48.989036638987734,75.57737924751379,7.079067390137293,77.83615805188008,41.058365998401335,23.26960436418391,31.15839272095551,42.47776516664587,37.578804947637416,76.37569577428445,8.474979866159353,65.09722816351712,91.13118574165027,59.899945537674405,5.500390363942275],\"y\":[0,0.7198530092482286,0.4545708360054983,1.9492103841604713,2.9334027645560345,2.309313844453995,4.834200016680127,6.81902419751607,7.7793789749625075,8.085613632343602,2.4473446047113323,2.0735233418707404,7.629041725793199,11.857669206245337,3.5655733521981317,8.525222579138061,4.282724231530077,9.199584453223407,7.11125650901344,1.4523338291868617,2.45204650464961,4.531229166429618,20.46044780934174,8.891435611563878,15.671231376940138,10.263396948904003,12.664342961553656,2.103036302455222,2.5714286818095964,25.44097276803094,1.6961975485761271,4.708401302440612,17.059503281419925,25.163227883716733,28.08742047133266,4.05459191780635,34.131212927151594,7.644359442387664,26.999188264252673,24.28655859884623,20.78797237686397,19.349639196985997,8.634308985249847,2.6402675628288317,23.066427294712586,11.453106669319139,17.178251185010083,25.869291983553918,35.78088109973338,29.16154847875168,17.41821882559732,25.72901534407112,3.4702336731090666,38.486621001672155,40.07488701093072,17.317581575810575,25.483461661822904,15.072376545468796,41.942939156838236,42.061029340716935,1.3808316606814564,23.949104498473304,21.42385797332326,4.4815887557709395,15.121991234786876,3.836374319014544,60.19749358273094,15.852991371026727,42.10681168116929,53.10837255094975,53.86781725858059,34.674710803699355,36.28034690120833,18.01317862037719,70.68290503160841,64.83855620155225,35.45958751719307,6.454393790959907,42.11962726901093,32.66561384556534,8.036732323030211,43.848611821849616,28.489731053075424,73.90958606817043,57.51157514410407,67.515608734007,83.01601517978024,3.603795760660543,11.154220365732634,23.9897500245583,55.29501394145878,81.52365276733647,25.748764201787353,17.811018459966405,45.95624050322462,40.29418645041571,35.06876995725958,9.012309350350302,62.89730078175354,50.04337178445709]}];\n",
       " var layout_m5Fcbg9G6W = {\"height\":350,\"width\":350,\"hovermode\":\"closest\",\"legend\":{\"orientation\":\"v\"},\"showlegend\":true,\"margin\":{\"l\":50,\"r\":30,\"t\":50,\"b\":50},\"xaxis\":{\"title\":{\"text\":\"x axis 3\"},\"showgrid\":true,\"zeroline\":false,\"showline\":false},\"yaxis\":{\"title\":{\"text\":\"y axis 3\"},\"showgrid\":true,\"zeroline\":false,\"showline\":false}};\n",
       " var config_m5Fcbg9G6W = {\"responsive\":true,\"scrollZoom\":true,\"displaylogo\":false};\n",
       " Plotly.newPlot(\"graph_m5Fcbg9G6W\", traces_m5Fcbg9G6W, layout_m5Fcbg9G6W, config_m5Fcbg9G6W);\n",
       "\n",
       " var traces_BfXn1FSlB3 = [{\"name\":\"IAlnRgChG7\",\"type\":\"scatter\",\"mode\":\"markers\",\"x\":[1,2,3],\"y\":[2,4,5]},{\"name\":\"pCx4PbAA5c\",\"type\":\"scatter\",\"mode\":\"markers\",\"xaxis\":\"x2\",\"yaxis\":\"y2\",\"x\":[0,0.25689618548005466,1.8958044556754978,1.3779147952872206,1.572775614030983,3.448791563487272,5.16565666830318,2.8593217095622103,5.9172441117667836,8.198390095462402,0.3997675169995285,2.898805070795073,1.845459343376905,9.194808353711005,2.993053961164914,4.697269261823264,8.31913380819673,5.229430485268747,16.34989184987632,15.957276174549646,2.4539361549252647,11.391967936387296,11.940296969481095,11.837435913596039,10.469065924554721,24.930322623101393,25.342561356385318,3.6494303501207566,25.251129358138574,19.211218684985507,3.394484911279243,26.97145864733761,23.182772625924393,27.001758870756937,0.613431293381558,30.03546192494546,3.5437672453526643,10.188571083618786,4.384308618428183,13.667389106272678,22.375243101177333,26.310941866943054,32.30421013018452,24.969897389889084,15.456557808295495,44.157413613591075,21.762902199890142,9.585332155645983,38.228851525609294,4.411630875616978,17.57952749192232,23.013546905769076,34.35970908534167,33.18282992420357,26.557918548959563,6.334120464653668,23.429457995800412,28.46926848218227,50.41565739362079,6.0458152843350685,8.18155929309846,15.429061670559776,16.935599406457854,35.837678509789214,27.16726103510822,42.02232413011822,45.63288726016077,39.196033186988075,35.6781032364849,20.391284922591268,4.97562871853316,62.0797321123509,10.849197795693186,0.5110296218764797,17.49328732660447,30.712453727709256,9.981188575884179,31.422835155212887,1.2035237513182049,44.09550494521405,20.719633757068152,46.00463732477114,24.9356851818761,2.3875682646388956,83.99716809535363,48.989036638987734,75.57737924751379,7.079067390137293,77.83615805188008,41.058365998401335,23.26960436418391,31.15839272095551,42.47776516664587,37.578804947637416,76.37569577428445,8.474979866159353,65.09722816351712,91.13118574165027,59.899945537674405,5.500390363942275],\"y\":[0,0.7198530092482286,0.4545708360054983,1.9492103841604713,2.9334027645560345,2.309313844453995,4.834200016680127,6.81902419751607,7.7793789749625075,8.085613632343602,2.4473446047113323,2.0735233418707404,7.629041725793199,11.857669206245337,3.5655733521981317,8.525222579138061,4.282724231530077,9.199584453223407,7.11125650901344,1.4523338291868617,2.45204650464961,4.531229166429618,20.46044780934174,8.891435611563878,15.671231376940138,10.263396948904003,12.664342961553656,2.103036302455222,2.5714286818095964,25.44097276803094,1.6961975485761271,4.708401302440612,17.059503281419925,25.163227883716733,28.08742047133266,4.05459191780635,34.131212927151594,7.644359442387664,26.999188264252673,24.28655859884623,20.78797237686397,19.349639196985997,8.634308985249847,2.6402675628288317,23.066427294712586,11.453106669319139,17.178251185010083,25.869291983553918,35.78088109973338,29.16154847875168,17.41821882559732,25.72901534407112,3.4702336731090666,38.486621001672155,40.07488701093072,17.317581575810575,25.483461661822904,15.072376545468796,41.942939156838236,42.061029340716935,1.3808316606814564,23.949104498473304,21.42385797332326,4.4815887557709395,15.121991234786876,3.836374319014544,60.19749358273094,15.852991371026727,42.10681168116929,53.10837255094975,53.86781725858059,34.674710803699355,36.28034690120833,18.01317862037719,70.68290503160841,64.83855620155225,35.45958751719307,6.454393790959907,42.11962726901093,32.66561384556534,8.036732323030211,43.848611821849616,28.489731053075424,73.90958606817043,57.51157514410407,67.515608734007,83.01601517978024,3.603795760660543,11.154220365732634,23.9897500245583,55.29501394145878,81.52365276733647,25.748764201787353,17.811018459966405,45.95624050322462,40.29418645041571,35.06876995725958,9.012309350350302,62.89730078175354,50.04337178445709]}];\n",
       " var layout_BfXn1FSlB3 = {\"height\":350,\"width\":350,\"hovermode\":\"closest\",\"legend\":{\"orientation\":\"v\"},\"title\":{\"text\":\"The MultiChart from Above\"},\"showlegend\":true,\"grid\":{\"rows\":1,\"columns\":2,\"pattern\":\"independent\"},\"xaxis\":{\"title\":{\"text\":\"x1\"},\"showgrid\":true,\"zeroline\":false,\"showline\":false},\"yaxis\":{\"showgrid\":true,\"zeroline\":false,\"showline\":false},\"xaxis2\":{\"title\":{\"text\":\"x2\"},\"showgrid\":true,\"zeroline\":false,\"showline\":false},\"yaxis2\":{\"showgrid\":true,\"zeroline\":false,\"showline\":false}};\n",
       " var config_BfXn1FSlB3 = {\"responsive\":false,\"scrollZoom\":true,\"displaylogo\":false};\n",
       " Plotly.newPlot(\"graph_BfXn1FSlB3\", traces_BfXn1FSlB3, layout_BfXn1FSlB3, config_BfXn1FSlB3);\n",
       "\n",
       "var save_kcTtTORFem = document.getElementById(\"saveAsPNG_kcTtTORFem\")\n",
       "save_kcTtTORFem.onclick = function() {\n",
       "    const grid = document.getElementById(\"grid-container_kcTtTORFem\")\n",
       "    const graphs = grid.getElementsByClassName(\"graph\")\n",
       "\n",
       "    const promises = []\n",
       "\n",
       "    const rows = 2\n",
       "    const cols = 2\n",
       "    const img_width = 400\n",
       "    const img_height = 400\n",
       "    var margin = 50\n",
       "\n",
       "    for (var i=0; i<graphs.length; i++) {\n",
       "        const promise = Plotly.toImage(graphs[i], {format: 'png', width: img_width, height: img_height})\n",
       "        promises.push(new Promise((resolve) => {\n",
       "            resolve(promise);\n",
       "        }));\n",
       "    }\n",
       "\n",
       "    Promise.all(promises).then((images) => {\n",
       "        const positioned_images = []\n",
       "\n",
       "        for (var i=0; i<rows; i++) {\n",
       "            for (var j=0; j<cols; j++) {\n",
       "\n",
       "                const obj = {\n",
       "                    \"src\": images[i*cols + j],\n",
       "                    x: i*img_width+margin,\n",
       "                    y: j*img_height+margin\n",
       "                }\n",
       "\n",
       "                positioned_images.push(obj)\n",
       "            }\n",
       "        }\n",
       "\n",
       "        mergeImages(positioned_images, {\n",
       "            width: img_width*cols+60, height: img_height*rows+60\n",
       "        })\n",
       "        .then(b64 => {\n",
       "            var a = document.createElement(\"a\");\n",
       "            a.href = b64;\n",
       "            a.download = \"Image.png\";\n",
       "            a.click();\n",
       "            a.remove()\n",
       "        });\n",
       "    });\n",
       "}\n",
       "</script> \n"
      ]
     },
     "metadata": {},
     "output_type": "display_data"
    }
   ],
   "source": [
    "// first define the x-axes we will use in the plot\n",
    "val ax1 = XAxis(title = \"x axis 1\")\n",
    "val ax2 = XAxis(title = \"x axis 2\")\n",
    "val ax3 = XAxis(title = \"x axis 3\")\n",
    "val ax4 = XAxis(title = \"x axis 4\")\n",
    "\n",
    "// first define the y-axes we will use in the plot\n",
    "val ax6 = YAxis(title = \"y axis 1\")\n",
    "val ax7 = YAxis(title = \"y axis 2\")\n",
    "val ax8 = YAxis(title = \"y axis 3\")\n",
    "val ax9 = YAxis(title = \"y axis 4\")\n",
    "\n",
    "// it may be necessary to play around with the chart dimensions and margin  in order to ensure a good fit on screen.\n",
    "val dim = 350\n",
    "\n",
    "val chart1 = (\n",
    "    Chart()\n",
    "    setDimensions(width = dim, height = dim)\n",
    "    addSeries XY(x, y).setName(\"a\").drawMarkers\n",
    "    addAxes(ax1, ax6)\n",
    "    setMargin(l=50, r=30, t=50, b=50)\n",
    ")\n",
    "\n",
    "val chart2 = (\n",
    "    Chart() \n",
    "    setDimensions(width = dim, height = dim)\n",
    "    addSeries XY(x, y).setName(\"b\").drawMarkers\n",
    "    addAxes(ax2, ax7)\n",
    "    setMargin(l=50, r=50, t=50, b=50)\n",
    ")\n",
    "\n",
    "val chart3 = (\n",
    "    Chart()\n",
    "    setDimensions(width = dim, height = dim)\n",
    "    addSeries XY(x, y).setName(\"c\").drawMarkers\n",
    "    addAxes(ax3, ax8)\n",
    "    setMargin(l=50, r=30, t=50, b=50)\n",
    ")\n",
    "\n",
    "val chart4 = (\n",
    "    Chart()\n",
    "    setDimensions(width = dim, height = dim)\n",
    "    addSeries(series1, series2)\n",
    "    setTitle \"The MultiChart from Above\"\n",
    "    addAxes(xaxis1, yaxis1, xaxis2, yaxis2) // these axes come from above\n",
    "    setConfig(responsive=false)\n",
    "    asMultiChart(1, 2)\n",
    ")\n",
    "\n",
    "// The canvas has an underlying grid. By default the underlying grid is 1x1, but we can pass in the dimensions we \n",
    "// require by passing in parameters in the constructor.\n",
    "Canvas(2, 2)\n",
    ".setChart(0, 0, chart1)\n",
    ".setChart(0, 1, chart2)\n",
    ".setChart(1, 0, chart3)\n",
    ".setChart(1, 1, chart4)\n",
    ".plotInline"
   ]
  },
  {
   "cell_type": "markdown",
   "metadata": {},
   "source": [
    "### Error Bars\n",
    "\n",
    "We can also add Error Bars to our plots.\n",
    "\n",
    "Error bars come in two flavours:\n",
    "\n",
    "1. `XError`\n",
    "2. `YError`\n",
    "\n",
    "Both of these has an associated `mode` that determines how the error bar is calculated for an individual point. The following `mode`s can be specified:\n",
    "\n",
    "- `DATA`: The user passes in an array that specifies the per point error\n",
    "- `PERCENT`: The user passes in a Double that calculates the error as a percentage of the value of the point\n",
    "- `CONSTANT`: The user passes in a double that is the constant value for the error for all points\n",
    "- `SQRT`: This calculates the error as a square root of the point value.\n",
    "\n",
    "The next few examples will demonstrate:"
   ]
  },
  {
   "cell_type": "code",
   "execution_count": 66,
   "metadata": {},
   "outputs": [],
   "source": [
    "// First import the Error Bar options\n",
    "import org.carbonateresearch.picta.options.{YError, CONSTANT, DATA, PERCENT, SQRT}"
   ]
  },
  {
   "cell_type": "code",
   "execution_count": 67,
   "metadata": {},
   "outputs": [
    {
     "data": {
      "text/html": [
       "<div id=\"grid-container_gPhRhrxV2p\" class=\"grid-container\" align=\"center\"> \n",
       "<div id=\"grid_gPhRhrxV2p\" class=\"grid\" align=\"center\"> \n",
       "<div id=\"graph_IJNwvKclcz\" class=\"graph\"></div> \n",
       "<div id=\"graph_vmrh5Mnc5s\" class=\"graph\"></div> \n",
       "<div id=\"graph_OkEoKNJmXb\" class=\"graph\"></div> \n",
       "<div id=\"graph_hEet4D8mfX\" class=\"graph\"></div> \n",
       "</div> \n",
       "</div> \n",
       "\n",
       "<div align=\"center\">\n",
       "<button id = \"saveAsPNG_gPhRhrxV2p\" class=\"picta-button\">Download Canvas as PNG</button>\n",
       "</div>\n",
       "<script>\n",
       "var masonry = new Macy({\n",
       "    container: '#grid_gPhRhrxV2p',\n",
       "    debug: true,\n",
       "    mobileFirst: true,\n",
       "    columns: 2,\n",
       "    margin: {\n",
       "        x: 0,\n",
       "        y: 0\n",
       "    }\n",
       "  });\n",
       "\n",
       " var traces_IJNwvKclcz = [{\"name\":\"paAIMigs3v\",\"type\":\"scatter\",\"mode\":\"markers\",\"x\":[1,2,3],\"y\":[1.234,5.2112,2.44332],\"error_y\":{\"type\":\"data\",\"visible\":true,\"array\":[0.5,0.5,0.5]}}];\n",
       " var layout_IJNwvKclcz = {\"height\":400,\"width\":400,\"hovermode\":\"closest\",\"legend\":{\"orientation\":\"v\"},\"title\":{\"text\":\"Per Point Specified Error\"},\"showlegend\":true};\n",
       " var config_IJNwvKclcz = {\"responsive\":true,\"scrollZoom\":true,\"displaylogo\":false};\n",
       " Plotly.newPlot(\"graph_IJNwvKclcz\", traces_IJNwvKclcz, layout_IJNwvKclcz, config_IJNwvKclcz);\n",
       "\n",
       " var traces_vmrh5Mnc5s = [{\"name\":\"YdtIxfWpDQ\",\"type\":\"scatter\",\"mode\":\"markers\",\"x\":[1,2,3],\"y\":[1.234,5.2112,2.44332],\"error_y\":{\"type\":\"percent\",\"visible\":true,\"value\":10}}];\n",
       " var layout_vmrh5Mnc5s = {\"height\":400,\"width\":400,\"hovermode\":\"closest\",\"legend\":{\"orientation\":\"v\"},\"title\":{\"text\":\"Percentage Error\"},\"showlegend\":true};\n",
       " var config_vmrh5Mnc5s = {\"responsive\":true,\"scrollZoom\":true,\"displaylogo\":false};\n",
       " Plotly.newPlot(\"graph_vmrh5Mnc5s\", traces_vmrh5Mnc5s, layout_vmrh5Mnc5s, config_vmrh5Mnc5s);\n",
       "\n",
       " var traces_OkEoKNJmXb = [{\"name\":\"Sqh7wiXq6N\",\"type\":\"scatter\",\"mode\":\"markers\",\"x\":[1,2,3],\"y\":[1.234,5.2112,2.44332],\"error_y\":{\"type\":\"constant\",\"visible\":true,\"value\":10}}];\n",
       " var layout_OkEoKNJmXb = {\"height\":400,\"width\":400,\"hovermode\":\"closest\",\"legend\":{\"orientation\":\"v\"},\"title\":{\"text\":\"Constant Error\"},\"showlegend\":true};\n",
       " var config_OkEoKNJmXb = {\"responsive\":true,\"scrollZoom\":true,\"displaylogo\":false};\n",
       " Plotly.newPlot(\"graph_OkEoKNJmXb\", traces_OkEoKNJmXb, layout_OkEoKNJmXb, config_OkEoKNJmXb);\n",
       "\n",
       " var traces_hEet4D8mfX = [{\"name\":\"y4so6PzB1p\",\"type\":\"scatter\",\"mode\":\"markers\",\"x\":[1,2,3],\"y\":[1.234,5.2112,2.44332],\"error_y\":{\"type\":\"sqrt\",\"visible\":true}}];\n",
       " var layout_hEet4D8mfX = {\"height\":400,\"width\":400,\"hovermode\":\"closest\",\"legend\":{\"orientation\":\"v\"},\"title\":{\"text\":\"Sqrt Error\"},\"showlegend\":true};\n",
       " var config_hEet4D8mfX = {\"responsive\":true,\"scrollZoom\":true,\"displaylogo\":false};\n",
       " Plotly.newPlot(\"graph_hEet4D8mfX\", traces_hEet4D8mfX, layout_hEet4D8mfX, config_hEet4D8mfX);\n",
       "\n",
       "var save_gPhRhrxV2p = document.getElementById(\"saveAsPNG_gPhRhrxV2p\")\n",
       "save_gPhRhrxV2p.onclick = function() {\n",
       "    const grid = document.getElementById(\"grid-container_gPhRhrxV2p\")\n",
       "    const graphs = grid.getElementsByClassName(\"graph\")\n",
       "\n",
       "    const promises = []\n",
       "\n",
       "    const rows = 2\n",
       "    const cols = 2\n",
       "    const img_width = 400\n",
       "    const img_height = 400\n",
       "    var margin = 50\n",
       "\n",
       "    for (var i=0; i<graphs.length; i++) {\n",
       "        const promise = Plotly.toImage(graphs[i], {format: 'png', width: img_width, height: img_height})\n",
       "        promises.push(new Promise((resolve) => {\n",
       "            resolve(promise);\n",
       "        }));\n",
       "    }\n",
       "\n",
       "    Promise.all(promises).then((images) => {\n",
       "        const positioned_images = []\n",
       "\n",
       "        for (var i=0; i<rows; i++) {\n",
       "            for (var j=0; j<cols; j++) {\n",
       "\n",
       "                const obj = {\n",
       "                    \"src\": images[i*cols + j],\n",
       "                    x: i*img_width+margin,\n",
       "                    y: j*img_height+margin\n",
       "                }\n",
       "\n",
       "                positioned_images.push(obj)\n",
       "            }\n",
       "        }\n",
       "\n",
       "        mergeImages(positioned_images, {\n",
       "            width: img_width*cols+60, height: img_height*rows+60\n",
       "        })\n",
       "        .then(b64 => {\n",
       "            var a = document.createElement(\"a\");\n",
       "            a.href = b64;\n",
       "            a.download = \"Image.png\";\n",
       "            a.click();\n",
       "            a.remove()\n",
       "        });\n",
       "    });\n",
       "}\n",
       "</script> \n"
      ]
     },
     "metadata": {},
     "output_type": "display_data"
    }
   ],
   "source": [
    "val dim = 400\n",
    "\n",
    "val series1 = (\n",
    "    XY(List(1, 2, 3), List(1.234, 5.2112, 2.44332))\n",
    "    asType SCATTER\n",
    "    drawStyle MARKERS\n",
    "    // User specifies the error per point \n",
    "    setErrorBars YError(mode = DATA, array = List(0.5, 0.5, 0.5))\n",
    ")\n",
    "\n",
    "val chart1 = (\n",
    "    Chart()\n",
    "    addSeries series1\n",
    "    setTitle \"Per Point Specified Error\"\n",
    "    setDimensions(width = dim, height = dim)\n",
    ")\n",
    "\n",
    "\n",
    "val series2 = (\n",
    "    XY(List(1, 2, 3), List(1.234, 5.2112, 2.44332))\n",
    "    asType SCATTER\n",
    "    drawStyle MARKERS\n",
    "    // the error here is 10% of the corresponding y-value for the point\n",
    "    setErrorBars YError(mode = PERCENT, value = 10.0)\n",
    ")\n",
    "\n",
    "val chart2 = (\n",
    "    Chart()\n",
    "    addSeries series2\n",
    "    setTitle \"Percentage Error\"\n",
    "    setDimensions(width = dim, height = dim)\n",
    ")\n",
    "\n",
    "\n",
    "val series3 = (\n",
    "    XY(List(1, 2, 3), List(1.234, 5.2112, 2.44332))\n",
    "    asType SCATTER\n",
    "    drawStyle MARKERS\n",
    "    // a constant error of 10 is applied to each point\n",
    "    setErrorBars YError(mode = CONSTANT, value = 10.0)\n",
    ")\n",
    "\n",
    "val chart3 = (\n",
    "    Chart()\n",
    "    addSeries series3\n",
    "    setTitle \"Constant Error\"\n",
    "    setDimensions(width = dim, height = dim)\n",
    ")\n",
    "\n",
    "\n",
    "val series4 = (\n",
    "    XY(List(1, 2, 3), List(1.234, 5.2112, 2.44332))\n",
    "    asType SCATTER\n",
    "    drawStyle MARKERS\n",
    "    setErrorBars YError(mode = SQRT)\n",
    ")\n",
    "\n",
    "val chart4 = (\n",
    "    Chart()\n",
    "    addSeries series4\n",
    "    setTitle \"Sqrt Error\"\n",
    "    // the error is set to the sqrt of the corresponding point\n",
    "    setDimensions(width = dim, height = dim)\n",
    ")\n",
    "\n",
    "val canvas = Canvas(2, 2) addCharts (chart1, chart2, chart3, chart4)\n",
    "\n",
    "canvas.plotInline"
   ]
  },
  {
   "cell_type": "markdown",
   "metadata": {},
   "source": [
    "### Other Types of Charts\n",
    "\n",
    "The next examples will demonstrate how to create a variety of `Chart`s. All of the examples below are composable with the `Canvas` subplot system.\n",
    "\n",
    "#### Pie Chart\n",
    "\n",
    "Pie charts can be created in two ways. The first way uses the `PieElement` component to compose a Piechart:"
   ]
  },
  {
   "cell_type": "code",
   "execution_count": 68,
   "metadata": {},
   "outputs": [
    {
     "data": {
      "text/html": [
       "<div id=\"grid-container_hEojgOc01K\" class=\"grid-container\" align=\"center\"> \n",
       "<div id=\"grid_hEojgOc01K\" class=\"grid\" align=\"center\"> \n",
       "<div id=\"graph_DzlrXPdZdW\" class=\"graph\"></div> \n",
       "</div> \n",
       "</div> \n",
       "<script>\n",
       "var masonry = new Macy({\n",
       "    container: '#grid_hEojgOc01K',\n",
       "    debug: true,\n",
       "    mobileFirst: true,\n",
       "    columns: 1,\n",
       "    margin: {\n",
       "        x: 0,\n",
       "        y: 0\n",
       "    }\n",
       "  });\n",
       "\n",
       " var traces_DzlrXPdZdW = [{\"name\":\"tHAG5QiFjZ\",\"type\":\"pie\",\"values\":[60,20,20],\"labels\":[\"Residential\",\"Non-Residential\",\"Utility\"]}];\n",
       " var layout_DzlrXPdZdW = {\"height\":550,\"width\":600,\"hovermode\":\"closest\",\"legend\":{\"orientation\":\"v\"},\"title\":{\"text\":\"Pie Elements\"},\"showlegend\":true};\n",
       " var config_DzlrXPdZdW = {\"responsive\":true,\"scrollZoom\":true,\"displaylogo\":false};\n",
       " Plotly.newPlot(\"graph_DzlrXPdZdW\", traces_DzlrXPdZdW, layout_DzlrXPdZdW, config_DzlrXPdZdW);\n",
       "</script> \n"
      ]
     },
     "metadata": {},
     "output_type": "display_data"
    }
   ],
   "source": [
    "val a = PieElement(value=60, name=\"Residential\")\n",
    "val b = PieElement(value=20, name=\"Non-Residential\")\n",
    "val c = PieElement(value=20, name=\"Utility\")\n",
    "\n",
    "// we add a list of Pie Elements to an XY series as the list of Pie Elements gets deconstructed down into two series:\n",
    "// X => values: [60, 20, 20]\n",
    "// Y => labels: [\"Residential\", \"Non-Residential\", \"Utility\"]\n",
    "// The labels become the series_name for each individual PieElement\n",
    "// As we pass in a list of PieElements, we do not need to specify the type as a PIE\n",
    "val series = XY(x=List(a, b, c))\n",
    "\n",
    "val chart = Chart() addSeries series setTitle \"Pie Elements\"\n",
    "\n",
    "chart.plotInline"
   ]
  },
  {
   "cell_type": "code",
   "execution_count": 69,
   "metadata": {},
   "outputs": [
    {
     "data": {
      "text/html": [
       "<div id=\"grid-container_jiyoLXNuKS\" class=\"grid-container\" align=\"center\"> \n",
       "<div id=\"grid_jiyoLXNuKS\" class=\"grid\" align=\"center\"> \n",
       "<div id=\"graph_sPSu9oTYZi\" class=\"graph\"></div> \n",
       "</div> \n",
       "</div> \n",
       "<script>\n",
       "var masonry = new Macy({\n",
       "    container: '#grid_jiyoLXNuKS',\n",
       "    debug: true,\n",
       "    mobileFirst: true,\n",
       "    columns: 1,\n",
       "    margin: {\n",
       "        x: 0,\n",
       "        y: 0\n",
       "    }\n",
       "  });\n",
       "\n",
       " var traces_sPSu9oTYZi = [{\"name\":\"xeHjpbAqSd\",\"type\":\"pie\",\"values\":[60,20,20],\"labels\":[\"Residential\",\"Non-Residential\",\"Utility\"]}];\n",
       " var layout_sPSu9oTYZi = {\"height\":550,\"width\":600,\"hovermode\":\"closest\",\"legend\":{\"orientation\":\"v\"},\"title\":{\"text\":\"Pie Chart\"},\"showlegend\":true};\n",
       " var config_sPSu9oTYZi = {\"responsive\":false,\"scrollZoom\":false,\"displaylogo\":false};\n",
       " Plotly.newPlot(\"graph_sPSu9oTYZi\", traces_sPSu9oTYZi, layout_sPSu9oTYZi, config_sPSu9oTYZi);\n",
       "</script> \n"
      ]
     },
     "metadata": {},
     "output_type": "display_data"
    }
   ],
   "source": [
    "// However, composing individual PieElements may be tedious if there is a lot of data and we know how to it all fits\n",
    "// together. Picta provides a short hand to quickly create a Pie Chart using the methods we have seen previously\n",
    "// In this case we pass the (value, name) pairs as two seperate lists. As before, the labels become an individual\n",
    "// series name for each point; which is why the legend renders correctly.\n",
    "val series = XY(x=List(60, 20, 20), y=List(\"Residential\", \"Non-Residential\", \"Utility\")) asType PIE\n",
    "\n",
    "val chart = Chart() addSeries series setConfig(false, false) setTitle \"Pie Chart\"\n",
    "\n",
    "chart.plotInline"
   ]
  },
  {
   "cell_type": "markdown",
   "metadata": {},
   "source": [
    "### Histogram"
   ]
  },
  {
   "cell_type": "code",
   "execution_count": 70,
   "metadata": {},
   "outputs": [
    {
     "data": {
      "text/html": [
       "<div id=\"grid-container_S1KQowzi6U\" class=\"grid-container\" align=\"center\"> \n",
       "<div id=\"grid_S1KQowzi6U\" class=\"grid\" align=\"center\"> \n",
       "<div id=\"graph_iZMXN8pmab\" class=\"graph\"></div> \n",
       "</div> \n",
       "</div> \n",
       "<script>\n",
       "var masonry = new Macy({\n",
       "    container: '#grid_S1KQowzi6U',\n",
       "    debug: true,\n",
       "    mobileFirst: true,\n",
       "    columns: 1,\n",
       "    margin: {\n",
       "        x: 0,\n",
       "        y: 0\n",
       "    }\n",
       "  });\n",
       "\n",
       " var traces_iZMXN8pmab = [{\"name\":\"fmYDeoLenh\",\"type\":\"histogram\",\"x\":[0,0.25689618548005466,1.8958044556754978,1.3779147952872206,1.572775614030983,3.448791563487272,5.16565666830318,2.8593217095622103,5.9172441117667836,8.198390095462402,0.3997675169995285,2.898805070795073,1.845459343376905,9.194808353711005,2.993053961164914,4.697269261823264,8.31913380819673,5.229430485268747,16.34989184987632,15.957276174549646,2.4539361549252647,11.391967936387296,11.940296969481095,11.837435913596039,10.469065924554721,24.930322623101393,25.342561356385318,3.6494303501207566,25.251129358138574,19.211218684985507,3.394484911279243,26.97145864733761,23.182772625924393,27.001758870756937,0.613431293381558,30.03546192494546,3.5437672453526643,10.188571083618786,4.384308618428183,13.667389106272678,22.375243101177333,26.310941866943054,32.30421013018452,24.969897389889084,15.456557808295495,44.157413613591075,21.762902199890142,9.585332155645983,38.228851525609294,4.411630875616978,17.57952749192232,23.013546905769076,34.35970908534167,33.18282992420357,26.557918548959563,6.334120464653668,23.429457995800412,28.46926848218227,50.41565739362079,6.0458152843350685,8.18155929309846,15.429061670559776,16.935599406457854,35.837678509789214,27.16726103510822,42.02232413011822,45.63288726016077,39.196033186988075,35.6781032364849,20.391284922591268,4.97562871853316,62.0797321123509,10.849197795693186,0.5110296218764797,17.49328732660447,30.712453727709256,9.981188575884179,31.422835155212887,1.2035237513182049,44.09550494521405,20.719633757068152,46.00463732477114,24.9356851818761,2.3875682646388956,83.99716809535363,48.989036638987734,75.57737924751379,7.079067390137293,77.83615805188008,41.058365998401335,23.26960436418391,31.15839272095551,42.47776516664587,37.578804947637416,76.37569577428445,8.474979866159353,65.09722816351712,91.13118574165027,59.899945537674405,5.500390363942275]}];\n",
       " var layout_iZMXN8pmab = {\"height\":550,\"width\":600,\"hovermode\":\"closest\",\"legend\":{\"orientation\":\"v\"},\"title\":{\"text\":\"Histogram with axes\"},\"showlegend\":true,\"xaxis\":{\"title\":{\"text\":\"my x data\"},\"showgrid\":true,\"zeroline\":false,\"showline\":false},\"yaxis\":{\"title\":{\"text\":\"my y data\"},\"showgrid\":true,\"zeroline\":false,\"showline\":false}};\n",
       " var config_iZMXN8pmab = {\"responsive\":true,\"scrollZoom\":true,\"displaylogo\":false};\n",
       " Plotly.newPlot(\"graph_iZMXN8pmab\", traces_iZMXN8pmab, layout_iZMXN8pmab, config_iZMXN8pmab);\n",
       "</script> \n"
      ]
     },
     "metadata": {},
     "output_type": "display_data"
    }
   ],
   "source": [
    "val series = XY(x=x) asType HISTOGRAM\n",
    "\n",
    "val xaxis = XAxis(title = \"my x data\")\n",
    "val yaxis = YAxis(title = \"my y data\")\n",
    "\n",
    "val chart = (\n",
    "    Chart() \n",
    "    addSeries series\n",
    "    setTitle \"Histogram with axes\"\n",
    "    addAxes(xaxis, yaxis)\n",
    ")\n",
    "\n",
    "Canvas()\n",
    ".addCharts(chart)\n",
    ".plotInline"
   ]
  },
  {
   "cell_type": "markdown",
   "metadata": {},
   "source": [
    "#### Customizing colors for a Histogram\n",
    "\n",
    "We can use the `HistOptions` class to further specify options for a histogram. For example, if we wanted to create a horizontally positioned histogram, we can do the following:"
   ]
  },
  {
   "cell_type": "code",
   "execution_count": 71,
   "metadata": {},
   "outputs": [],
   "source": [
    "import org.carbonateresearch.picta.options.histogram.HistOptions\n",
    "import org.carbonateresearch.picta.options.Line"
   ]
  },
  {
   "cell_type": "code",
   "execution_count": 72,
   "metadata": {},
   "outputs": [
    {
     "data": {
      "text/html": [
       "<div id=\"grid-container_Z9AXkCyBSW\" class=\"grid-container\" align=\"center\"> \n",
       "<div id=\"grid_Z9AXkCyBSW\" class=\"grid\" align=\"center\"> \n",
       "<div id=\"graph_KL9BoqTG1a\" class=\"graph\"></div> \n",
       "</div> \n",
       "</div> \n",
       "<script>\n",
       "var masonry = new Macy({\n",
       "    container: '#grid_Z9AXkCyBSW',\n",
       "    debug: true,\n",
       "    mobileFirst: true,\n",
       "    columns: 1,\n",
       "    margin: {\n",
       "        x: 0,\n",
       "        y: 0\n",
       "    }\n",
       "  });\n",
       "\n",
       " var traces_KL9BoqTG1a = [{\"name\":\"MhMHQissFn\",\"type\":\"histogram\",\"marker\":{\"color\":\"rgba(255, 100, 102, 0.5)\",\"line\":{\"width\":0.5}},\"y\":[0,0.25689618548005466,1.8958044556754978,1.3779147952872206,1.572775614030983,3.448791563487272,5.16565666830318,2.8593217095622103,5.9172441117667836,8.198390095462402,0.3997675169995285,2.898805070795073,1.845459343376905,9.194808353711005,2.993053961164914,4.697269261823264,8.31913380819673,5.229430485268747,16.34989184987632,15.957276174549646,2.4539361549252647,11.391967936387296,11.940296969481095,11.837435913596039,10.469065924554721,24.930322623101393,25.342561356385318,3.6494303501207566,25.251129358138574,19.211218684985507,3.394484911279243,26.97145864733761,23.182772625924393,27.001758870756937,0.613431293381558,30.03546192494546,3.5437672453526643,10.188571083618786,4.384308618428183,13.667389106272678,22.375243101177333,26.310941866943054,32.30421013018452,24.969897389889084,15.456557808295495,44.157413613591075,21.762902199890142,9.585332155645983,38.228851525609294,4.411630875616978,17.57952749192232,23.013546905769076,34.35970908534167,33.18282992420357,26.557918548959563,6.334120464653668,23.429457995800412,28.46926848218227,50.41565739362079,6.0458152843350685,8.18155929309846,15.429061670559776,16.935599406457854,35.837678509789214,27.16726103510822,42.02232413011822,45.63288726016077,39.196033186988075,35.6781032364849,20.391284922591268,4.97562871853316,62.0797321123509,10.849197795693186,0.5110296218764797,17.49328732660447,30.712453727709256,9.981188575884179,31.422835155212887,1.2035237513182049,44.09550494521405,20.719633757068152,46.00463732477114,24.9356851818761,2.3875682646388956,83.99716809535363,48.989036638987734,75.57737924751379,7.079067390137293,77.83615805188008,41.058365998401335,23.26960436418391,31.15839272095551,42.47776516664587,37.578804947637416,76.37569577428445,8.474979866159353,65.09722816351712,91.13118574165027,59.899945537674405,5.500390363942275]}];\n",
       " var layout_KL9BoqTG1a = {\"height\":550,\"width\":600,\"hovermode\":\"closest\",\"legend\":{\"orientation\":\"v\"},\"title\":{\"text\":\"XY.Histogram.Color\"},\"showlegend\":true};\n",
       " var config_KL9BoqTG1a = {\"responsive\":true,\"scrollZoom\":true,\"displaylogo\":false};\n",
       " Plotly.newPlot(\"graph_KL9BoqTG1a\", traces_KL9BoqTG1a, layout_KL9BoqTG1a, config_KL9BoqTG1a);\n",
       "</script> \n"
      ]
     },
     "metadata": {},
     "output_type": "display_data"
    }
   ],
   "source": [
    "// we can also compose customizations in much the same way:\n",
    "val marker = Marker() setColor \"rgba(255, 100, 102, 0.5)\" setLine Line()\n",
    "\n",
    "// change xkey to y to get a horizontal histogram\n",
    "val series = (\n",
    "    XY(x) \n",
    "    asType HISTOGRAM\n",
    "    setMarker marker\n",
    "    // we can set histogram specific options using the setHistOptions method\n",
    "    setHistOptions(orientation = HORIZONTAL)\n",
    ")\n",
    "\n",
    "val chart = (\n",
    "    Chart() \n",
    "    addSeries series \n",
    "    setTitle \"XY.Histogram.Color\"\n",
    ")\n",
    "\n",
    "chart.plotInline"
   ]
  },
  {
   "cell_type": "markdown",
   "metadata": {},
   "source": [
    "#### Cumulative Histogram\n",
    "\n",
    "Sometimes a cumulative histogram may be desired. We can do this as follows:"
   ]
  },
  {
   "cell_type": "code",
   "execution_count": 73,
   "metadata": {},
   "outputs": [],
   "source": [
    "// we can import a range of histnorms\n",
    "import org.carbonateresearch.picta.options.histogram.{Cumulative, PERCENT, DENSITY, PROBABILITY_DENSITY, NUMBER}"
   ]
  },
  {
   "cell_type": "code",
   "execution_count": 74,
   "metadata": {},
   "outputs": [
    {
     "data": {
      "text/html": [
       "<div id=\"grid-container_NsBvMnwX38\" class=\"grid-container\" align=\"center\"> \n",
       "<div id=\"grid_NsBvMnwX38\" class=\"grid\" align=\"center\"> \n",
       "<div id=\"graph_5AHNt5sR2w\" class=\"graph\"></div> \n",
       "</div> \n",
       "</div> \n",
       "<script>\n",
       "var masonry = new Macy({\n",
       "    container: '#grid_NsBvMnwX38',\n",
       "    debug: true,\n",
       "    mobileFirst: true,\n",
       "    columns: 1,\n",
       "    margin: {\n",
       "        x: 0,\n",
       "        y: 0\n",
       "    }\n",
       "  });\n",
       "\n",
       " var traces_5AHNt5sR2w = [{\"name\":\"qosHDntvHm\",\"type\":\"histogram\",\"cumulative\":{\"enabled\":true},\"histnorm\":\"\",\"x\":[0,0.25689618548005466,1.8958044556754978,1.3779147952872206,1.572775614030983,3.448791563487272,5.16565666830318,2.8593217095622103,5.9172441117667836,8.198390095462402,0.3997675169995285,2.898805070795073,1.845459343376905,9.194808353711005,2.993053961164914,4.697269261823264,8.31913380819673,5.229430485268747,16.34989184987632,15.957276174549646,2.4539361549252647,11.391967936387296,11.940296969481095,11.837435913596039,10.469065924554721,24.930322623101393,25.342561356385318,3.6494303501207566,25.251129358138574,19.211218684985507,3.394484911279243,26.97145864733761,23.182772625924393,27.001758870756937,0.613431293381558,30.03546192494546,3.5437672453526643,10.188571083618786,4.384308618428183,13.667389106272678,22.375243101177333,26.310941866943054,32.30421013018452,24.969897389889084,15.456557808295495,44.157413613591075,21.762902199890142,9.585332155645983,38.228851525609294,4.411630875616978,17.57952749192232,23.013546905769076,34.35970908534167,33.18282992420357,26.557918548959563,6.334120464653668,23.429457995800412,28.46926848218227,50.41565739362079,6.0458152843350685,8.18155929309846,15.429061670559776,16.935599406457854,35.837678509789214,27.16726103510822,42.02232413011822,45.63288726016077,39.196033186988075,35.6781032364849,20.391284922591268,4.97562871853316,62.0797321123509,10.849197795693186,0.5110296218764797,17.49328732660447,30.712453727709256,9.981188575884179,31.422835155212887,1.2035237513182049,44.09550494521405,20.719633757068152,46.00463732477114,24.9356851818761,2.3875682646388956,83.99716809535363,48.989036638987734,75.57737924751379,7.079067390137293,77.83615805188008,41.058365998401335,23.26960436418391,31.15839272095551,42.47776516664587,37.578804947637416,76.37569577428445,8.474979866159353,65.09722816351712,91.13118574165027,59.899945537674405,5.500390363942275]}];\n",
       " var layout_5AHNt5sR2w = {\"height\":550,\"width\":600,\"hovermode\":\"closest\",\"legend\":{\"orientation\":\"v\"},\"title\":{\"text\":\"Histogram - Cumulative\"},\"showlegend\":true};\n",
       " var config_5AHNt5sR2w = {\"responsive\":true,\"scrollZoom\":true,\"displaylogo\":false};\n",
       " Plotly.newPlot(\"graph_5AHNt5sR2w\", traces_5AHNt5sR2w, layout_5AHNt5sR2w, config_5AHNt5sR2w);\n",
       "</script> \n"
      ]
     },
     "metadata": {},
     "output_type": "display_data"
    }
   ],
   "source": [
    "val series = XY(x) asType HISTOGRAM setHistOptions(histnorm = NUMBER, cumulative = Cumulative(enabled=true))\n",
    "\n",
    "val chart = Chart() addSeries series setTitle \"Histogram - Cumulative\"\n",
    "\n",
    "chart.plotInline"
   ]
  },
  {
   "cell_type": "markdown",
   "metadata": {},
   "source": [
    "#### Specifiying the Binning Function\n",
    "\n",
    "We can also specify the binning function for a histogram."
   ]
  },
  {
   "cell_type": "code",
   "execution_count": 75,
   "metadata": {},
   "outputs": [],
   "source": [
    "import org.carbonateresearch.picta.options.histogram.{COUNT, SUM, AVG, MIN, MAX, HistOptions}"
   ]
  },
  {
   "cell_type": "code",
   "execution_count": 76,
   "metadata": {},
   "outputs": [
    {
     "data": {
      "text/html": [
       "<div id=\"grid-container_3E078Zcozg\" class=\"grid-container\" align=\"center\"> \n",
       "<div id=\"grid_3E078Zcozg\" class=\"grid\" align=\"center\"> \n",
       "<div id=\"graph_4jnmfEEmIv\" class=\"graph\"></div> \n",
       "</div> \n",
       "</div> \n",
       "<script>\n",
       "var masonry = new Macy({\n",
       "    container: '#grid_3E078Zcozg',\n",
       "    debug: true,\n",
       "    mobileFirst: true,\n",
       "    columns: 1,\n",
       "    margin: {\n",
       "        x: 0,\n",
       "        y: 0\n",
       "    }\n",
       "  });\n",
       "\n",
       " var traces_4jnmfEEmIv = [{\"name\":\"ttHHSA1Aoz\",\"type\":\"histogram\",\"histfunc\":\"count\",\"x\":[\"Apples\",\"Apples\",\"Apples\",\"Oranges\",\"Bananas\"],\"y\":[\"5\",\"10\",\"3\",\"10\",\"5\"]},{\"name\":\"Q43Q03zubt\",\"type\":\"histogram\",\"histfunc\":\"sum\",\"x\":[\"Apples\",\"Apples\",\"Apples\",\"Oranges\",\"Bananas\"],\"y\":[\"5\",\"10\",\"3\",\"10\",\"5\"]}];\n",
       " var layout_4jnmfEEmIv = {\"height\":550,\"width\":600,\"hovermode\":\"closest\",\"legend\":{\"orientation\":\"v\"},\"title\":{\"text\":\"Histogram - Specify Binning Function\"},\"showlegend\":true};\n",
       " var config_4jnmfEEmIv = {\"responsive\":true,\"scrollZoom\":true,\"displaylogo\":false};\n",
       " Plotly.newPlot(\"graph_4jnmfEEmIv\", traces_4jnmfEEmIv, layout_4jnmfEEmIv, config_4jnmfEEmIv);\n",
       "</script> \n"
      ]
     },
     "metadata": {},
     "output_type": "display_data"
    }
   ],
   "source": [
    "val x = List(\"Apples\", \"Apples\", \"Apples\", \"Oranges\", \"Bananas\")\n",
    "val y = List(\"5\", \"10\", \"3\", \"10\", \"5\")\n",
    "\n",
    "// we can also assign histOptions to a value and pass them to the setHistOptions method\n",
    "val ho1 = HistOptions(histfunc = COUNT)\n",
    "val ho2 = HistOptions(histfunc = SUM)\n",
    "    \n",
    "val t1 = XY(x = x, y = y) asType HISTOGRAM setHistOptions ho1\n",
    "val t2 = XY(x = x, y = y) asType HISTOGRAM setHistOptions ho2\n",
    "\n",
    "val chart = Chart() addSeries(t1, t2) setTitle \"Histogram - Specify Binning Function\"\n",
    "val canvas = Canvas() addCharts chart\n",
    "canvas.plotInline"
   ]
  },
  {
   "cell_type": "markdown",
   "metadata": {},
   "source": [
    "### 2D Histogram Contour"
   ]
  },
  {
   "cell_type": "code",
   "execution_count": 77,
   "metadata": {},
   "outputs": [
    {
     "data": {
      "text/html": [
       "<div id=\"grid-container_HAlFRzBEtr\" class=\"grid-container\" align=\"center\"> \n",
       "<div id=\"grid_HAlFRzBEtr\" class=\"grid\" align=\"center\"> \n",
       "<div id=\"graph_yqQGloMqSb\" class=\"graph\"></div> \n",
       "</div> \n",
       "</div> \n",
       "<script>\n",
       "var masonry = new Macy({\n",
       "    container: '#grid_HAlFRzBEtr',\n",
       "    debug: true,\n",
       "    mobileFirst: true,\n",
       "    columns: 1,\n",
       "    margin: {\n",
       "        x: 0,\n",
       "        y: 0\n",
       "    }\n",
       "  });\n",
       "\n",
       " var traces_yqQGloMqSb = [{\"name\":\"8Ktde3HgwH\",\"type\":\"histogram2dcontour\",\"mode\":\"markers\",\"x\":[1,2,3,4,5,6,7,8,9,10,11,12,13,14,15,16,17,18,19,20,21,22,23,24,25,26,27,28,29,30,31,32,33,34,35,36,37,38,39,40,41,42,43,44,45,46,47,48,49],\"y\":[29.626106415039278,15.99371898490811,17.30420034222123,79.2904713013955,50.952179213605525,28.015238189869446,62.1637074787641,95.81612609571529,72.32727141198296,83.88319447688055,76.94402304611154,25.618145705174367,40.12852218810717,60.609433565506954,34.973846366947846,59.00981763282453,103.27875673342801,117.68869486047737,41.92865897564633,110.59911516170517,68.32590502103805,77.52253634838974,109.32317676881996,70.40871510534683,78.0832500884587,95.4021300515715,102.43892341491912,124.64068936440017,93.24025123182628,46.14041997167972,58.747148810858,46.46728342905721,93.56081122836602,111.18233873327122,80.40675329377046,96.78007249385736,118.11781432280591,97.38513061075037,127.56150750766201,55.005499884720095,132.4698050603891,56.64905757979446,77.93030377867325,120.89563317944598,144.7677639110268,104.19208158293786,72.5787773153777,89.62871956680571,92.48687476114465]}];\n",
       " var layout_yqQGloMqSb = {\"height\":550,\"width\":600,\"hovermode\":\"closest\",\"legend\":{\"orientation\":\"v\"},\"title\":{\"text\":\"2D Histogram Contour\"},\"showlegend\":true};\n",
       " var config_yqQGloMqSb = {\"responsive\":true,\"scrollZoom\":true,\"displaylogo\":false};\n",
       " Plotly.newPlot(\"graph_yqQGloMqSb\", traces_yqQGloMqSb, layout_yqQGloMqSb, config_yqQGloMqSb);\n",
       "</script> \n"
      ]
     },
     "metadata": {},
     "output_type": "display_data"
    }
   ],
   "source": [
    "val x = List.range(1, 50)\n",
    "val y = x.map(x => x + scala.util.Random.nextDouble()*100)\n",
    "\n",
    "val series = XY(x, y).asType(HISTOGRAM2DCONTOUR).drawMarkers\n",
    "\n",
    "val chart = (\n",
    "    Chart() addSeries series\n",
    "    setTitle \"2D Histogram Contour\"\n",
    ")\n",
    "\n",
    "chart.plotInline"
   ]
  },
  {
   "cell_type": "markdown",
   "metadata": {},
   "source": [
    "#### Adding additional axes\n",
    "\n",
    "As the above is a density plot, adding histograms can be useful too.\n",
    "\n",
    "We can add histograms as follows:"
   ]
  },
  {
   "cell_type": "code",
   "execution_count": 78,
   "metadata": {},
   "outputs": [],
   "source": [
    "// import the 2d Density histogram options\n",
    "import org.carbonateresearch.picta.options.histogram2d.Hist2dOptions"
   ]
  },
  {
   "cell_type": "code",
   "execution_count": 79,
   "metadata": {},
   "outputs": [
    {
     "data": {
      "text/html": [
       "<div id=\"grid-container_qpeYUcT4sm\" class=\"grid-container\" align=\"center\"> \n",
       "<div id=\"grid_qpeYUcT4sm\" class=\"grid\" align=\"center\"> \n",
       "<div id=\"graph_XiFrVkEWUL\" class=\"graph\"></div> \n",
       "</div> \n",
       "</div> \n",
       "<script>\n",
       "var masonry = new Macy({\n",
       "    container: '#grid_qpeYUcT4sm',\n",
       "    debug: true,\n",
       "    mobileFirst: true,\n",
       "    columns: 1,\n",
       "    margin: {\n",
       "        x: 0,\n",
       "        y: 0\n",
       "    }\n",
       "  });\n",
       "\n",
       " var traces_XiFrVkEWUL = [{\"name\":\"points\",\"type\":\"scatter\",\"mode\":\"markers\",\"marker\":{\"color\":\"rgb(102,0,0)\"},\"x\":[1,2,3,4,5,6,7,8,9,10,11,12,13,14,15,16,17,18,19,20,21,22,23,24,25,26,27,28,29,30,31,32,33,34,35,36,37,38,39,40,41,42,43,44,45,46,47,48,49],\"y\":[29.626106415039278,15.99371898490811,17.30420034222123,79.2904713013955,50.952179213605525,28.015238189869446,62.1637074787641,95.81612609571529,72.32727141198296,83.88319447688055,76.94402304611154,25.618145705174367,40.12852218810717,60.609433565506954,34.973846366947846,59.00981763282453,103.27875673342801,117.68869486047737,41.92865897564633,110.59911516170517,68.32590502103805,77.52253634838974,109.32317676881996,70.40871510534683,78.0832500884587,95.4021300515715,102.43892341491912,124.64068936440017,93.24025123182628,46.14041997167972,58.747148810858,46.46728342905721,93.56081122836602,111.18233873327122,80.40675329377046,96.78007249385736,118.11781432280591,97.38513061075037,127.56150750766201,55.005499884720095,132.4698050603891,56.64905757979446,77.93030377867325,120.89563317944598,144.7677639110268,104.19208158293786,72.5787773153777,89.62871956680571,92.48687476114465]},{\"name\":\"density\",\"type\":\"histogram2dcontour\",\"ncontours\":20,\"reversescale\":false,\"showscale\":true,\"x\":[1,2,3,4,5,6,7,8,9,10,11,12,13,14,15,16,17,18,19,20,21,22,23,24,25,26,27,28,29,30,31,32,33,34,35,36,37,38,39,40,41,42,43,44,45,46,47,48,49],\"y\":[29.626106415039278,15.99371898490811,17.30420034222123,79.2904713013955,50.952179213605525,28.015238189869446,62.1637074787641,95.81612609571529,72.32727141198296,83.88319447688055,76.94402304611154,25.618145705174367,40.12852218810717,60.609433565506954,34.973846366947846,59.00981763282453,103.27875673342801,117.68869486047737,41.92865897564633,110.59911516170517,68.32590502103805,77.52253634838974,109.32317676881996,70.40871510534683,78.0832500884587,95.4021300515715,102.43892341491912,124.64068936440017,93.24025123182628,46.14041997167972,58.747148810858,46.46728342905721,93.56081122836602,111.18233873327122,80.40675329377046,96.78007249385736,118.11781432280591,97.38513061075037,127.56150750766201,55.005499884720095,132.4698050603891,56.64905757979446,77.93030377867325,120.89563317944598,144.7677639110268,104.19208158293786,72.5787773153777,89.62871956680571,92.48687476114465]},{\"name\":\"histogram\",\"type\":\"histogram\",\"yaxis\":\"y2\",\"x\":[1,2,3,4,5,6,7,8,9,10,11,12,13,14,15,16,17,18,19,20,21,22,23,24,25,26,27,28,29,30,31,32,33,34,35,36,37,38,39,40,41,42,43,44,45,46,47,48,49]},{\"name\":\"y density\",\"type\":\"histogram\",\"xaxis\":\"x2\",\"marker\":{\"color\":\"rgb(102,0,0)\"},\"y\":[29.626106415039278,15.99371898490811,17.30420034222123,79.2904713013955,50.952179213605525,28.015238189869446,62.1637074787641,95.81612609571529,72.32727141198296,83.88319447688055,76.94402304611154,25.618145705174367,40.12852218810717,60.609433565506954,34.973846366947846,59.00981763282453,103.27875673342801,117.68869486047737,41.92865897564633,110.59911516170517,68.32590502103805,77.52253634838974,109.32317676881996,70.40871510534683,78.0832500884587,95.4021300515715,102.43892341491912,124.64068936440017,93.24025123182628,46.14041997167972,58.747148810858,46.46728342905721,93.56081122836602,111.18233873327122,80.40675329377046,96.78007249385736,118.11781432280591,97.38513061075037,127.56150750766201,55.005499884720095,132.4698050603891,56.64905757979446,77.93030377867325,120.89563317944598,144.7677639110268,104.19208158293786,72.5787773153777,89.62871956680571,92.48687476114465]}];\n",
       " var layout_XiFrVkEWUL = {\"height\":550,\"width\":600,\"hovermode\":\"closest\",\"legend\":{\"orientation\":\"v\"},\"title\":{\"text\":\"Histogram2dContour With Density\"},\"showlegend\":false,\"autosize\":false,\"xaxis\":{\"showgrid\":false,\"zeroline\":false,\"showline\":false,\"domain\":[0,0.85]},\"yaxis\":{\"showgrid\":false,\"zeroline\":false,\"showline\":false,\"domain\":[0,0.85]},\"xaxis2\":{\"showgrid\":false,\"zeroline\":false,\"showline\":false,\"domain\":[0.85,1]},\"yaxis2\":{\"showgrid\":false,\"zeroline\":false,\"showline\":false,\"domain\":[0.85,1]}};\n",
       " var config_XiFrVkEWUL = {\"responsive\":true,\"scrollZoom\":true,\"displaylogo\":false};\n",
       " Plotly.newPlot(\"graph_XiFrVkEWUL\", traces_XiFrVkEWUL, layout_XiFrVkEWUL, config_XiFrVkEWUL);\n",
       "</script> \n"
      ]
     },
     "metadata": {},
     "output_type": "display_data"
    }
   ],
   "source": [
    "val marker = Marker() setColor \"rgb(102,0,0)\"\n",
    "\n",
    "val series1 = XY(x, y) \n",
    "            .asType(SCATTER)\n",
    "            .drawMarkers\n",
    "            .setName(\"points\")\n",
    "            .setMarker(marker)\n",
    "\n",
    "\n",
    "val hist2d_options = Hist2dOptions(ncontours = 20, reversescale = false, showscale = true)\n",
    "\n",
    "val series2 = XY(x, y) \n",
    "            .setName(\"density\")\n",
    "            .asType(HISTOGRAM2DCONTOUR)\n",
    "            .setHist2dOptions(hist2d_options)\n",
    "\n",
    "val series3 = XY(x = x)\n",
    "            .asType(HISTOGRAM)\n",
    "            .setName(\"histogram\")\n",
    "            .setAxes(XAxis(), YAxis(2))\n",
    "\n",
    "val series4 = (XY(y)\n",
    "            .setName(\"y density\")\n",
    "            .asType(HISTOGRAM)\n",
    "            .setAxis(XAxis(2))\n",
    "            .setMarker(marker)\n",
    "            .setHistOptions(HistOptions(orientation = HORIZONTAL)))\n",
    "\n",
    "val ax1 = XAxis(showgrid = false) setDomain(0.0, 0.85)\n",
    "val ax2 = YAxis(showgrid = false) setDomain(0.0, 0.85)\n",
    "val ax3 = XAxis(position = 2, showgrid = false) setDomain(0.85, 1.0)\n",
    "val ax4 = YAxis(position = 2, showgrid = false) setDomain(0.85, 1.0)\n",
    "\n",
    "val layout = (\n",
    "    ChartLayout(\"Histogram2dContour With Density\", autosize = false, showlegend = false) \n",
    "    setAxes(ax1, ax2, ax3, ax4)\n",
    ")\n",
    "\n",
    "val chart = Chart() addSeries(series1, series2, series3, series4) setChartLayout layout\n",
    "\n",
    "chart.plotInline"
   ]
  },
  {
   "cell_type": "markdown",
   "metadata": {},
   "source": [
    "### 3D Charts\n",
    "\n",
    "3D charts are constructed using a `XYZ` series as they take in 3 `Series`' to create a single point.\n",
    "\n",
    "The Picta API does not accept nested lists, however the underlying Plotlyjs render does. In order to render any series that will make use of a nested list, we must flatten and provide the length of an element (before the list was flattened).\n",
    "\n",
    "The following examples will make it clearer.\n",
    "\n",
    "#### Contour"
   ]
  },
  {
   "cell_type": "code",
   "execution_count": 80,
   "metadata": {},
   "outputs": [],
   "source": [
    "// lets create some dummy adata for the third dimension\n",
    "val x = List(-9, -6, -5 , -3, -1)\n",
    "val y = List(0, 1, 4, 5, 7)\n",
    "val z = List(\n",
    "    List(10, 10.625, 12.5, 15.625, 20),\n",
    "    List(5.625, 6.25, 8.125, 11.25, 15.625),\n",
    "    List(2.5, 3.125, 5.0, 8.125, 12.5),\n",
    "    List(0.625, 1.25, 3.125, 6.25, 10.625),\n",
    "    List(0, 0.625, 2.5, 5.625, 10)\n",
    ")"
   ]
  },
  {
   "cell_type": "code",
   "execution_count": 81,
   "metadata": {},
   "outputs": [
    {
     "data": {
      "text/html": [
       "<div id=\"grid-container_4u2fBRqSan\" class=\"grid-container\" align=\"center\"> \n",
       "<div id=\"grid_4u2fBRqSan\" class=\"grid\" align=\"center\"> \n",
       "<div id=\"graph_AhJ5NcwhjL\" class=\"graph\"></div> \n",
       "</div> \n",
       "</div> \n",
       "<script>\n",
       "var masonry = new Macy({\n",
       "    container: '#grid_4u2fBRqSan',\n",
       "    debug: true,\n",
       "    mobileFirst: true,\n",
       "    columns: 1,\n",
       "    margin: {\n",
       "        x: 0,\n",
       "        y: 0\n",
       "    }\n",
       "  });\n",
       "\n",
       " var traces_AhJ5NcwhjL = [{\"name\":\"5kbgm5OCwF\",\"type\":\"contour\",\"x\":[-9,-6,-5,-3,-1],\"y\":[0,1,4,5,7],\"z\":[[10,10.625,12.5,15.625,20],[5.625,6.25,8.125,11.25,15.625],[2.5,3.125,5,8.125,12.5],[0.625,1.25,3.125,6.25,10.625],[0,0.625,2.5,5.625,10]]}];\n",
       " var layout_AhJ5NcwhjL = {\"height\":550,\"width\":600,\"hovermode\":\"closest\",\"legend\":{\"orientation\":\"v\"},\"title\":{\"text\":\"Contour\"},\"showlegend\":true};\n",
       " var config_AhJ5NcwhjL = {\"responsive\":true,\"scrollZoom\":true,\"displaylogo\":false};\n",
       " Plotly.newPlot(\"graph_AhJ5NcwhjL\", traces_AhJ5NcwhjL, layout_AhJ5NcwhjL, config_AhJ5NcwhjL);\n",
       "</script> \n"
      ]
     },
     "metadata": {},
     "output_type": "display_data"
    }
   ],
   "source": [
    "// we flatten the nested list as we pass it into the Series constructor\n",
    "val series = XYZ(x=x, y=y, z=z.flatten, n=z(0).length).asType(CONTOUR)\n",
    "\n",
    "// set up the chart\n",
    "val chart = Chart()\n",
    "            .addSeries(series)\n",
    "            .setTitle(\"Contour\")\n",
    "\n",
    "// plot the chart\n",
    "chart.plotInline"
   ]
  },
  {
   "cell_type": "markdown",
   "metadata": {},
   "source": [
    "#### Heatmap"
   ]
  },
  {
   "cell_type": "code",
   "execution_count": 82,
   "metadata": {
    "scrolled": false
   },
   "outputs": [],
   "source": [
    "// create a new nested list for the heatmap\n",
    "val z = List.range(1, 101).map(e => e + scala.util.Random.nextDouble()*100).grouped(10).toList"
   ]
  },
  {
   "cell_type": "code",
   "execution_count": 83,
   "metadata": {},
   "outputs": [
    {
     "data": {
      "text/html": [
       "<div id=\"grid-container_b6PQNzIElz\" class=\"grid-container\" align=\"center\"> \n",
       "<div id=\"grid_b6PQNzIElz\" class=\"grid\" align=\"center\"> \n",
       "<div id=\"graph_vlYzzT5uEe\" class=\"graph\"></div> \n",
       "</div> \n",
       "</div> \n",
       "<script>\n",
       "var masonry = new Macy({\n",
       "    container: '#grid_b6PQNzIElz',\n",
       "    debug: true,\n",
       "    mobileFirst: true,\n",
       "    columns: 1,\n",
       "    margin: {\n",
       "        x: 0,\n",
       "        y: 0\n",
       "    }\n",
       "  });\n",
       "\n",
       " var traces_vlYzzT5uEe = [{\"name\":\"icbFlqZkkF\",\"type\":\"heatmap\",\"z\":[[76.93230598550214,79.68966381897782,52.11971807866525,7.38360133051594,15.416979648633651,18.413803451718685,84.50424880885795,100.82024624345343,59.48570562445903,82.73938606226349],[73.2566467590765,44.85639362455771,15.574393489619686,50.47890497313783,90.33561230588806,17.47498025248609,62.884967577027666,20.684555414257794,90.98627770126218,101.68757562906433],[83.30274488303122,87.20061576433947,24.596165213446078,60.39621811185349,61.91669889296061,68.92788641892176,83.17825904917319,87.5427844137378,93.87566175517755,125.33106721756974],[122.2865042527163,91.6647218746013,54.1142450971401,119.8019985014568,117.78231315204498,122.37038165777358,47.908125150161666,93.19868513883134,41.10892101066935,120.26684270703018],[62.26900098601242,75.21211328123708,45.593760361334944,56.51758921567067,80.86545601416478,92.1698446012863,56.78725115157556,129.47689073254637,108.4566064323321,126.46745136035157],[150.9597235462078,102.74239181317765,74.75127247133534,145.02582328502376,87.61645746690176,101.48681667373121,152.1561833567764,142.0045006253664,134.2541107196753,132.074294067499],[127.0524964500697,134.45813462998453,84.57006520358787,153.73635078754717,110.0406795004372,108.70523608524819,124.94954059525074,110.47709092398833,157.01960661017438,139.88542829960807],[148.29358487450634,126.39668982683023,100.01651315471177,97.51343571591038,149.11430921128323,78.26677074094988,154.3601843922002,105.79502214565879,159.31206557801698,85.46087677792806],[177.09059118812206,149.05223715437512,100.16252444487134,99.23765274530423,100.42393598333508,99.81222560464862,132.7798566609496,130.8940006154791,153.64285205827446,99.94601042261264],[186.6855609417587,131.44992055904856,116.95729290050046,143.7005760857832,134.100745338843,124.29632878669486,121.68244414645098,195.54972505166324,156.1929064047574,196.6316453236294]]}];\n",
       " var layout_vlYzzT5uEe = {\"height\":550,\"width\":600,\"hovermode\":\"closest\",\"legend\":{\"orientation\":\"v\"},\"title\":{\"text\":\"Heatmap\"},\"showlegend\":true};\n",
       " var config_vlYzzT5uEe = {\"responsive\":true,\"scrollZoom\":true,\"displaylogo\":false};\n",
       " Plotly.newPlot(\"graph_vlYzzT5uEe\", traces_vlYzzT5uEe, layout_vlYzzT5uEe, config_vlYzzT5uEe);\n",
       "</script> \n"
      ]
     },
     "metadata": {},
     "output_type": "display_data"
    }
   ],
   "source": [
    "// we get the length of an element of the nested list\n",
    "val n = z(0).length\n",
    "\n",
    "// we now flatten the list and pass it into Series constructor, as well as 'n', the length of an element so that the \n",
    "// heatmap dimensions are correctly constructed\n",
    "val series = XYZ(z=z.flatten, n=n) asType HEATMAP\n",
    "\n",
    "val chart = Chart() addSeries series setTitle \"Heatmap\"\n",
    "\n",
    "chart.plotInline"
   ]
  },
  {
   "cell_type": "markdown",
   "metadata": {},
   "source": [
    "#### Scatter3D"
   ]
  },
  {
   "cell_type": "code",
   "execution_count": 84,
   "metadata": {
    "scrolled": false
   },
   "outputs": [
    {
     "data": {
      "text/html": [
       "<div id=\"grid-container_3zIVxxcfs0\" class=\"grid-container\" align=\"center\"> \n",
       "<div id=\"grid_3zIVxxcfs0\" class=\"grid\" align=\"center\"> \n",
       "<div id=\"graph_oNP1IVT4tu\" class=\"graph\"></div> \n",
       "</div> \n",
       "</div> \n",
       "<script>\n",
       "var masonry = new Macy({\n",
       "    container: '#grid_3zIVxxcfs0',\n",
       "    debug: true,\n",
       "    mobileFirst: true,\n",
       "    columns: 1,\n",
       "    margin: {\n",
       "        x: 0,\n",
       "        y: 0\n",
       "    }\n",
       "  });\n",
       "\n",
       " var traces_oNP1IVT4tu = [{\"name\":\"NSypZdCvE8\",\"type\":\"scatter3d\",\"mode\":\"markers\",\"x\":[1,2,3,4,5,6,7,8,9,10,11,12,13,14,15,16,17,18,19,20,21,22,23,24,25,26,27,28,29,30,31,32,33,34,35,36,37,38,39,40,41,42,43,44,45,46,47,48,49,50,51,52,53,54,55,56,57,58,59,60,61,62,63,64,65,66,67,68,69,70,71,72,73,74,75,76,77,78,79,80,81,82,83,84,85,86,87,88,89,90,91,92,93,94,95,96,97,98,99],\"y\":[1,2,3,4,5,6,7,8,9,10,11,12,13,14,15,16,17,18,19,20,21,22,23,24,25,26,27,28,29,30,31,32,33,34,35,36,37,38,39,40,41,42,43,44,45,46,47,48,49,50,51,52,53,54,55,56,57,58,59,60,61,62,63,64,65,66,67,68,69,70,71,72,73,74,75,76,77,78,79,80,81,82,83,84,85,86,87,88,89,90,91,92,93,94,95,96,97,98,99],\"z\":[94.65846106893926,31.934537576611497,89.43184101329123,58.26691622771098,93.18097102083694,41.644411289024625,54.49738114639851,104.03593369559617,91.16052193734139,54.28953910249944,84.12161274749906,100.18100290008601,24.28254327768312,31.204023410511404,32.54899242449404,98.98546125635156,47.51268448605434,101.2393029174179,90.674434223462,33.8235739170675,22.939329145861844,54.848707767410716,65.09243210109238,78.82949436708196,81.30512455930872,119.31412383900455,100.94778939817802,39.81364755466798,57.926314093012024,77.55684229380788,56.562167075969235,127.78457760523355,72.15580877561457,130.96283535102145,76.5802499921722,87.23505833896145,53.62789681559475,135.26609031349676,64.77384056888255,112.77707505272059,118.22951675633925,57.77182194381859,127.66168591577411,89.76104602060843,62.07511041090787,114.06471557680717,145.7474470277029,137.1904438730343,72.71903031557144,142.83564657378727,130.44767077656417,114.54374827727463,53.42155801900374,68.57354160126724,141.67623998714095,78.0414613367533,118.4916093085533,83.60740683892253,73.57120523863583,136.44668773739426,145.5612051697984,153.34674658552308,63.99454947916401,161.66353481819075,164.10387718872428,111.5569636424654,147.20487243615253,155.19843518834278,118.59113568040277,166.11954546755126,148.49756526931606,157.97520975728122,169.38822777501997,79.96514476587315,114.62656087783257,118.04550752497342,84.82239471151274,126.73095561199233,84.46627220578766,98.41201926554564,133.81389937626903,146.18206339779795,130.64188022071244,115.48267708617524,110.04208170724327,140.549702913048,144.7506319534113,147.59977472401852,105.8258329897383,159.67768011735444,96.31638970360223,142.63879489383362,106.729750517076,120.23145809224732,168.7641355596098,183.84744775749783,196.36443613375326,192.21271783097603,164.47075791306085]}];\n",
       " var layout_oNP1IVT4tu = {\"height\":550,\"width\":600,\"hovermode\":\"closest\",\"legend\":{\"orientation\":\"v\"},\"title\":{\"text\":\"XYZ.Scatter3D\"},\"showlegend\":true};\n",
       " var config_oNP1IVT4tu = {\"responsive\":false,\"scrollZoom\":false,\"displaylogo\":false};\n",
       " Plotly.newPlot(\"graph_oNP1IVT4tu\", traces_oNP1IVT4tu, layout_oNP1IVT4tu, config_oNP1IVT4tu);\n",
       "</script> \n"
      ]
     },
     "metadata": {},
     "output_type": "display_data"
    }
   ],
   "source": [
    "val x = List.range(1, 100)\n",
    "val y = List.range(1, 100)\n",
    "val z = List.range(1, 100).map(e => e + scala.util.Random.nextDouble()*100)\n",
    "\n",
    "val series = XYZ(x, y, z) asType SCATTER3D drawStyle MARKERS\n",
    "val chart1 = Chart() addSeries series setTitle \"XYZ.Scatter3D\" setConfig(false, false)\n",
    "val canvas = Canvas() addCharts chart1\n",
    "canvas.plotInline"
   ]
  },
  {
   "cell_type": "markdown",
   "metadata": {},
   "source": [
    "#### Surface Plot"
   ]
  },
  {
   "cell_type": "code",
   "execution_count": 85,
   "metadata": {
    "scrolled": false
   },
   "outputs": [
    {
     "data": {
      "text/html": [
       "<div id=\"grid-container_2dRWSr0IJG\" class=\"grid-container\" align=\"center\"> \n",
       "<div id=\"grid_2dRWSr0IJG\" class=\"grid\" align=\"center\"> \n",
       "<div id=\"graph_jotCve4lqg\" class=\"graph\"></div> \n",
       "</div> \n",
       "</div> \n",
       "<script>\n",
       "var masonry = new Macy({\n",
       "    container: '#grid_2dRWSr0IJG',\n",
       "    debug: true,\n",
       "    mobileFirst: true,\n",
       "    columns: 1,\n",
       "    margin: {\n",
       "        x: 0,\n",
       "        y: 0\n",
       "    }\n",
       "  });\n",
       "\n",
       " var traces_jotCve4lqg = [{\"name\":\"qH1VpsDCcf\",\"type\":\"surface\",\"z\":[[8.83,8.89,8.81,8.87,8.9,8.87],[8.89,8.94,8.85,8.94,8.96,8.92],[8.84,8.9,8.82,8.92,8.93,8.91],[8.79,8.85,8.79,8.9,8.94,8.92],[8.79,8.88,8.81,8.9,8.95,8.92],[8.8,8.82,8.78,8.91,8.94,8.92],[8.75,8.78,8.77,8.91,8.95,8.92],[8.8,8.8,8.77,8.91,8.95,8.94],[8.74,8.81,8.76,8.93,8.98,8.99],[8.89,8.99,8.92,9.1,9.13,9.11],[8.97,8.97,8.91,9.09,9.11,9.11],[9.04,9.08,9.05,9.25,9.28,9.27],[9,9.01,9,9.2,9.23,9.2],[8.99,8.99,8.98,9.18,9.2,9.19],[8.93,8.97,8.97,9.18,9.2,9.18]]}];\n",
       " var layout_jotCve4lqg = {\"height\":550,\"width\":600,\"hovermode\":\"closest\",\"legend\":{\"orientation\":\"v\"},\"title\":{\"text\":\"Surface\"},\"showlegend\":true};\n",
       " var config_jotCve4lqg = {\"responsive\":true,\"scrollZoom\":true,\"displaylogo\":false};\n",
       " Plotly.newPlot(\"graph_jotCve4lqg\", traces_jotCve4lqg, layout_jotCve4lqg, config_jotCve4lqg);\n",
       "</script> \n"
      ]
     },
     "metadata": {},
     "output_type": "display_data"
    }
   ],
   "source": [
    "// 3d surface plot\n",
    "val k = List(\n",
    "    List(8.83,8.89,8.81,8.87,8.9,8.87),\n",
    "    List(8.89,8.94,8.85,8.94,8.96,8.92),\n",
    "    List(8.84,8.9,8.82,8.92,8.93,8.91),\n",
    "    List(8.79,8.85,8.79,8.9,8.94,8.92),\n",
    "    List(8.79,8.88,8.81,8.9,8.95,8.92),\n",
    "    List(8.8,8.82,8.78,8.91,8.94,8.92),\n",
    "    List(8.75,8.78,8.77,8.91,8.95,8.92),\n",
    "    List(8.8,8.8,8.77,8.91,8.95,8.94),\n",
    "    List(8.74,8.81,8.76,8.93,8.98,8.99),\n",
    "    List(8.89,8.99,8.92,9.1,9.13,9.11),\n",
    "    List(8.97,8.97,8.91,9.09,9.11,9.11),\n",
    "    List(9.04,9.08,9.05,9.25,9.28,9.27),\n",
    "    List(9,9.01,9,9.2,9.23,9.2),\n",
    "    List(8.99,8.99,8.98,9.18,9.2,9.19),\n",
    "    List(8.93,8.97,8.97,9.18,9.2,9.18)\n",
    "  )\n",
    "\n",
    "val series = XYZ(z=k.flatten, n = k(0).length) asType SURFACE\n",
    "val chart2 = Chart() addSeries series setTitle \"Surface\"\n",
    "\n",
    "chart2.plotInline"
   ]
  },
  {
   "cell_type": "markdown",
   "metadata": {
    "scrolled": false
   },
   "source": [
    "#### Third Dimension as Color"
   ]
  },
  {
   "cell_type": "code",
   "execution_count": 86,
   "metadata": {},
   "outputs": [
    {
     "data": {
      "text/html": [
       "<div id=\"grid-container_8sGe4SPcXi\" class=\"grid-container\" align=\"center\"> \n",
       "<div id=\"grid_8sGe4SPcXi\" class=\"grid\" align=\"center\"> \n",
       "<div id=\"graph_RxLfV4PN8Y\" class=\"graph\"></div> \n",
       "</div> \n",
       "</div> \n",
       "<script>\n",
       "var masonry = new Macy({\n",
       "    container: '#grid_8sGe4SPcXi',\n",
       "    debug: true,\n",
       "    mobileFirst: true,\n",
       "    columns: 1,\n",
       "    margin: {\n",
       "        x: 0,\n",
       "        y: 0\n",
       "    }\n",
       "  });\n",
       "\n",
       " var traces_RxLfV4PN8Y = [{\"name\":\"xsGNpE65pX\",\"type\":\"scatter\",\"mode\":\"markers\",\"marker\":{\"color\":[94.65846106893926,31.934537576611497,89.43184101329123,58.26691622771098,93.18097102083694,41.644411289024625,54.49738114639851,104.03593369559617,91.16052193734139,54.28953910249944,84.12161274749906,100.18100290008601,24.28254327768312,31.204023410511404,32.54899242449404,98.98546125635156,47.51268448605434,101.2393029174179,90.674434223462,33.8235739170675,22.939329145861844,54.848707767410716,65.09243210109238,78.82949436708196,81.30512455930872,119.31412383900455,100.94778939817802,39.81364755466798,57.926314093012024,77.55684229380788,56.562167075969235,127.78457760523355,72.15580877561457,130.96283535102145,76.5802499921722,87.23505833896145,53.62789681559475,135.26609031349676,64.77384056888255,112.77707505272059,118.22951675633925,57.77182194381859,127.66168591577411,89.76104602060843,62.07511041090787,114.06471557680717,145.7474470277029,137.1904438730343,72.71903031557144,142.83564657378727,130.44767077656417,114.54374827727463,53.42155801900374,68.57354160126724,141.67623998714095,78.0414613367533,118.4916093085533,83.60740683892253,73.57120523863583,136.44668773739426,145.5612051697984,153.34674658552308,63.99454947916401,161.66353481819075,164.10387718872428,111.5569636424654,147.20487243615253,155.19843518834278,118.59113568040277,166.11954546755126,148.49756526931606,157.97520975728122,169.38822777501997,79.96514476587315,114.62656087783257,118.04550752497342,84.82239471151274,126.73095561199233,84.46627220578766,98.41201926554564,133.81389937626903,146.18206339779795,130.64188022071244,115.48267708617524,110.04208170724327,140.549702913048,144.7506319534113,147.59977472401852,105.8258329897383,159.67768011735444,96.31638970360223,142.63879489383362,106.729750517076,120.23145809224732,168.7641355596098,183.84744775749783,196.36443613375326,192.21271783097603,164.47075791306085]},\"x\":[1,2,3,4,5,6,7,8,9,10,11,12,13,14,15,16,17,18,19,20,21,22,23,24,25,26,27,28,29,30,31,32,33,34,35,36,37,38,39,40,41,42,43,44,45,46,47,48,49,50,51,52,53,54,55,56,57,58,59,60,61,62,63,64,65,66,67,68,69,70,71,72,73,74,75,76,77,78,79,80,81,82,83,84,85,86,87,88,89,90,91,92,93,94,95,96,97,98,99],\"y\":[1,2,3,4,5,6,7,8,9,10,11,12,13,14,15,16,17,18,19,20,21,22,23,24,25,26,27,28,29,30,31,32,33,34,35,36,37,38,39,40,41,42,43,44,45,46,47,48,49,50,51,52,53,54,55,56,57,58,59,60,61,62,63,64,65,66,67,68,69,70,71,72,73,74,75,76,77,78,79,80,81,82,83,84,85,86,87,88,89,90,91,92,93,94,95,96,97,98,99]}];\n",
       " var layout_RxLfV4PN8Y = {\"height\":550,\"width\":600,\"hovermode\":\"closest\",\"legend\":{\"orientation\":\"v\"},\"title\":{\"text\":\"ScatterWithColor\"},\"showlegend\":true};\n",
       " var config_RxLfV4PN8Y = {\"responsive\":true,\"scrollZoom\":true,\"displaylogo\":false};\n",
       " Plotly.newPlot(\"graph_RxLfV4PN8Y\", traces_RxLfV4PN8Y, layout_RxLfV4PN8Y, config_RxLfV4PN8Y);\n",
       "</script> \n"
      ]
     },
     "metadata": {},
     "output_type": "display_data"
    }
   ],
   "source": [
    "// multiple compositions can be used to create scatter charts with a color representing some third dimension\n",
    "val marker = Marker() setColor z\n",
    "val series = XY(x, y) asType SCATTER drawStyle MARKERS setMarker marker\n",
    "val chart3 = Chart() addSeries series setTitle \"ScatterWithColor\"\n",
    "chart3.plotInline"
   ]
  },
  {
   "cell_type": "markdown",
   "metadata": {},
   "source": [
    "#### Subplot\n",
    "\n",
    "The Subplot class can be used to generate subplots for an XYZ plots just as we did previously."
   ]
  },
  {
   "cell_type": "code",
   "execution_count": 87,
   "metadata": {},
   "outputs": [
    {
     "data": {
      "text/html": [
       "<div id=\"grid-container_Bbm9cQWCmb\" class=\"grid-container\" align=\"center\"> \n",
       "<div id=\"grid_Bbm9cQWCmb\" class=\"grid\" align=\"center\"> \n",
       "<div id=\"graph_wPsFXiuA7X\" class=\"graph\"></div> \n",
       "<div id=\"graph_LwhJHE3yPI\" class=\"graph\"></div> \n",
       "<div id=\"graph_LHRkQ4AqAa\" class=\"graph\"></div> \n",
       "<div id=\"graph_yPerAX0Fc2\" class=\"graph\"></div> \n",
       "</div> \n",
       "</div> \n",
       "\n",
       "<div align=\"center\">\n",
       "<button id = \"saveAsPNG_Bbm9cQWCmb\" class=\"picta-button\">Download Canvas as PNG</button>\n",
       "</div>\n",
       "<script>\n",
       "var masonry = new Macy({\n",
       "    container: '#grid_Bbm9cQWCmb',\n",
       "    debug: true,\n",
       "    mobileFirst: true,\n",
       "    columns: 2,\n",
       "    margin: {\n",
       "        x: 0,\n",
       "        y: 0\n",
       "    }\n",
       "  });\n",
       "\n",
       " var traces_wPsFXiuA7X = [{\"name\":\"NSypZdCvE8\",\"type\":\"scatter3d\",\"mode\":\"markers\",\"x\":[1,2,3,4,5,6,7,8,9,10,11,12,13,14,15,16,17,18,19,20,21,22,23,24,25,26,27,28,29,30,31,32,33,34,35,36,37,38,39,40,41,42,43,44,45,46,47,48,49,50,51,52,53,54,55,56,57,58,59,60,61,62,63,64,65,66,67,68,69,70,71,72,73,74,75,76,77,78,79,80,81,82,83,84,85,86,87,88,89,90,91,92,93,94,95,96,97,98,99],\"y\":[1,2,3,4,5,6,7,8,9,10,11,12,13,14,15,16,17,18,19,20,21,22,23,24,25,26,27,28,29,30,31,32,33,34,35,36,37,38,39,40,41,42,43,44,45,46,47,48,49,50,51,52,53,54,55,56,57,58,59,60,61,62,63,64,65,66,67,68,69,70,71,72,73,74,75,76,77,78,79,80,81,82,83,84,85,86,87,88,89,90,91,92,93,94,95,96,97,98,99],\"z\":[94.65846106893926,31.934537576611497,89.43184101329123,58.26691622771098,93.18097102083694,41.644411289024625,54.49738114639851,104.03593369559617,91.16052193734139,54.28953910249944,84.12161274749906,100.18100290008601,24.28254327768312,31.204023410511404,32.54899242449404,98.98546125635156,47.51268448605434,101.2393029174179,90.674434223462,33.8235739170675,22.939329145861844,54.848707767410716,65.09243210109238,78.82949436708196,81.30512455930872,119.31412383900455,100.94778939817802,39.81364755466798,57.926314093012024,77.55684229380788,56.562167075969235,127.78457760523355,72.15580877561457,130.96283535102145,76.5802499921722,87.23505833896145,53.62789681559475,135.26609031349676,64.77384056888255,112.77707505272059,118.22951675633925,57.77182194381859,127.66168591577411,89.76104602060843,62.07511041090787,114.06471557680717,145.7474470277029,137.1904438730343,72.71903031557144,142.83564657378727,130.44767077656417,114.54374827727463,53.42155801900374,68.57354160126724,141.67623998714095,78.0414613367533,118.4916093085533,83.60740683892253,73.57120523863583,136.44668773739426,145.5612051697984,153.34674658552308,63.99454947916401,161.66353481819075,164.10387718872428,111.5569636424654,147.20487243615253,155.19843518834278,118.59113568040277,166.11954546755126,148.49756526931606,157.97520975728122,169.38822777501997,79.96514476587315,114.62656087783257,118.04550752497342,84.82239471151274,126.73095561199233,84.46627220578766,98.41201926554564,133.81389937626903,146.18206339779795,130.64188022071244,115.48267708617524,110.04208170724327,140.549702913048,144.7506319534113,147.59977472401852,105.8258329897383,159.67768011735444,96.31638970360223,142.63879489383362,106.729750517076,120.23145809224732,168.7641355596098,183.84744775749783,196.36443613375326,192.21271783097603,164.47075791306085]}];\n",
       " var layout_wPsFXiuA7X = {\"height\":350,\"width\":350,\"hovermode\":\"closest\",\"legend\":{\"orientation\":\"v\"},\"title\":{\"text\":\"XYZ.Scatter3D\"},\"showlegend\":true,\"margin\":{\"l\":50,\"r\":50,\"t\":50,\"b\":50}};\n",
       " var config_wPsFXiuA7X = {\"responsive\":false,\"scrollZoom\":false,\"displaylogo\":false};\n",
       " Plotly.newPlot(\"graph_wPsFXiuA7X\", traces_wPsFXiuA7X, layout_wPsFXiuA7X, config_wPsFXiuA7X);\n",
       "\n",
       " var traces_LwhJHE3yPI = [{\"name\":\"qH1VpsDCcf\",\"type\":\"surface\",\"z\":[[8.83,8.89,8.81,8.87,8.9,8.87],[8.89,8.94,8.85,8.94,8.96,8.92],[8.84,8.9,8.82,8.92,8.93,8.91],[8.79,8.85,8.79,8.9,8.94,8.92],[8.79,8.88,8.81,8.9,8.95,8.92],[8.8,8.82,8.78,8.91,8.94,8.92],[8.75,8.78,8.77,8.91,8.95,8.92],[8.8,8.8,8.77,8.91,8.95,8.94],[8.74,8.81,8.76,8.93,8.98,8.99],[8.89,8.99,8.92,9.1,9.13,9.11],[8.97,8.97,8.91,9.09,9.11,9.11],[9.04,9.08,9.05,9.25,9.28,9.27],[9,9.01,9,9.2,9.23,9.2],[8.99,8.99,8.98,9.18,9.2,9.19],[8.93,8.97,8.97,9.18,9.2,9.18]]}];\n",
       " var layout_LwhJHE3yPI = {\"height\":350,\"width\":350,\"hovermode\":\"closest\",\"legend\":{\"orientation\":\"v\"},\"title\":{\"text\":\"Surface\"},\"showlegend\":true,\"margin\":{\"l\":50,\"r\":50,\"t\":50,\"b\":50}};\n",
       " var config_LwhJHE3yPI = {\"responsive\":true,\"scrollZoom\":true,\"displaylogo\":false};\n",
       " Plotly.newPlot(\"graph_LwhJHE3yPI\", traces_LwhJHE3yPI, layout_LwhJHE3yPI, config_LwhJHE3yPI);\n",
       "\n",
       " var traces_LHRkQ4AqAa = [{\"name\":\"xsGNpE65pX\",\"type\":\"scatter\",\"mode\":\"markers\",\"marker\":{\"color\":[94.65846106893926,31.934537576611497,89.43184101329123,58.26691622771098,93.18097102083694,41.644411289024625,54.49738114639851,104.03593369559617,91.16052193734139,54.28953910249944,84.12161274749906,100.18100290008601,24.28254327768312,31.204023410511404,32.54899242449404,98.98546125635156,47.51268448605434,101.2393029174179,90.674434223462,33.8235739170675,22.939329145861844,54.848707767410716,65.09243210109238,78.82949436708196,81.30512455930872,119.31412383900455,100.94778939817802,39.81364755466798,57.926314093012024,77.55684229380788,56.562167075969235,127.78457760523355,72.15580877561457,130.96283535102145,76.5802499921722,87.23505833896145,53.62789681559475,135.26609031349676,64.77384056888255,112.77707505272059,118.22951675633925,57.77182194381859,127.66168591577411,89.76104602060843,62.07511041090787,114.06471557680717,145.7474470277029,137.1904438730343,72.71903031557144,142.83564657378727,130.44767077656417,114.54374827727463,53.42155801900374,68.57354160126724,141.67623998714095,78.0414613367533,118.4916093085533,83.60740683892253,73.57120523863583,136.44668773739426,145.5612051697984,153.34674658552308,63.99454947916401,161.66353481819075,164.10387718872428,111.5569636424654,147.20487243615253,155.19843518834278,118.59113568040277,166.11954546755126,148.49756526931606,157.97520975728122,169.38822777501997,79.96514476587315,114.62656087783257,118.04550752497342,84.82239471151274,126.73095561199233,84.46627220578766,98.41201926554564,133.81389937626903,146.18206339779795,130.64188022071244,115.48267708617524,110.04208170724327,140.549702913048,144.7506319534113,147.59977472401852,105.8258329897383,159.67768011735444,96.31638970360223,142.63879489383362,106.729750517076,120.23145809224732,168.7641355596098,183.84744775749783,196.36443613375326,192.21271783097603,164.47075791306085]},\"x\":[1,2,3,4,5,6,7,8,9,10,11,12,13,14,15,16,17,18,19,20,21,22,23,24,25,26,27,28,29,30,31,32,33,34,35,36,37,38,39,40,41,42,43,44,45,46,47,48,49,50,51,52,53,54,55,56,57,58,59,60,61,62,63,64,65,66,67,68,69,70,71,72,73,74,75,76,77,78,79,80,81,82,83,84,85,86,87,88,89,90,91,92,93,94,95,96,97,98,99],\"y\":[1,2,3,4,5,6,7,8,9,10,11,12,13,14,15,16,17,18,19,20,21,22,23,24,25,26,27,28,29,30,31,32,33,34,35,36,37,38,39,40,41,42,43,44,45,46,47,48,49,50,51,52,53,54,55,56,57,58,59,60,61,62,63,64,65,66,67,68,69,70,71,72,73,74,75,76,77,78,79,80,81,82,83,84,85,86,87,88,89,90,91,92,93,94,95,96,97,98,99]}];\n",
       " var layout_LHRkQ4AqAa = {\"height\":350,\"width\":350,\"hovermode\":\"closest\",\"legend\":{\"orientation\":\"v\"},\"title\":{\"text\":\"ScatterWithColor\"},\"showlegend\":true,\"margin\":{\"l\":50,\"r\":50,\"t\":50,\"b\":50}};\n",
       " var config_LHRkQ4AqAa = {\"responsive\":true,\"scrollZoom\":true,\"displaylogo\":false};\n",
       " Plotly.newPlot(\"graph_LHRkQ4AqAa\", traces_LHRkQ4AqAa, layout_LHRkQ4AqAa, config_LHRkQ4AqAa);\n",
       "\n",
       " var traces_yPerAX0Fc2 = [{\"name\":\"icbFlqZkkF\",\"type\":\"heatmap\",\"z\":[[76.93230598550214,79.68966381897782,52.11971807866525,7.38360133051594,15.416979648633651,18.413803451718685,84.50424880885795,100.82024624345343,59.48570562445903,82.73938606226349],[73.2566467590765,44.85639362455771,15.574393489619686,50.47890497313783,90.33561230588806,17.47498025248609,62.884967577027666,20.684555414257794,90.98627770126218,101.68757562906433],[83.30274488303122,87.20061576433947,24.596165213446078,60.39621811185349,61.91669889296061,68.92788641892176,83.17825904917319,87.5427844137378,93.87566175517755,125.33106721756974],[122.2865042527163,91.6647218746013,54.1142450971401,119.8019985014568,117.78231315204498,122.37038165777358,47.908125150161666,93.19868513883134,41.10892101066935,120.26684270703018],[62.26900098601242,75.21211328123708,45.593760361334944,56.51758921567067,80.86545601416478,92.1698446012863,56.78725115157556,129.47689073254637,108.4566064323321,126.46745136035157],[150.9597235462078,102.74239181317765,74.75127247133534,145.02582328502376,87.61645746690176,101.48681667373121,152.1561833567764,142.0045006253664,134.2541107196753,132.074294067499],[127.0524964500697,134.45813462998453,84.57006520358787,153.73635078754717,110.0406795004372,108.70523608524819,124.94954059525074,110.47709092398833,157.01960661017438,139.88542829960807],[148.29358487450634,126.39668982683023,100.01651315471177,97.51343571591038,149.11430921128323,78.26677074094988,154.3601843922002,105.79502214565879,159.31206557801698,85.46087677792806],[177.09059118812206,149.05223715437512,100.16252444487134,99.23765274530423,100.42393598333508,99.81222560464862,132.7798566609496,130.8940006154791,153.64285205827446,99.94601042261264],[186.6855609417587,131.44992055904856,116.95729290050046,143.7005760857832,134.100745338843,124.29632878669486,121.68244414645098,195.54972505166324,156.1929064047574,196.6316453236294]]}];\n",
       " var layout_yPerAX0Fc2 = {\"height\":350,\"width\":350,\"hovermode\":\"closest\",\"legend\":{\"orientation\":\"v\"},\"title\":{\"text\":\"Heatmap\"},\"showlegend\":true,\"margin\":{\"l\":50,\"r\":50,\"t\":50,\"b\":50}};\n",
       " var config_yPerAX0Fc2 = {\"responsive\":true,\"scrollZoom\":true,\"displaylogo\":false};\n",
       " Plotly.newPlot(\"graph_yPerAX0Fc2\", traces_yPerAX0Fc2, layout_yPerAX0Fc2, config_yPerAX0Fc2);\n",
       "\n",
       "var save_Bbm9cQWCmb = document.getElementById(\"saveAsPNG_Bbm9cQWCmb\")\n",
       "save_Bbm9cQWCmb.onclick = function() {\n",
       "    const grid = document.getElementById(\"grid-container_Bbm9cQWCmb\")\n",
       "    const graphs = grid.getElementsByClassName(\"graph\")\n",
       "\n",
       "    const promises = []\n",
       "\n",
       "    const rows = 2\n",
       "    const cols = 2\n",
       "    const img_width = 400\n",
       "    const img_height = 400\n",
       "    var margin = 50\n",
       "\n",
       "    for (var i=0; i<graphs.length; i++) {\n",
       "        const promise = Plotly.toImage(graphs[i], {format: 'png', width: img_width, height: img_height})\n",
       "        promises.push(new Promise((resolve) => {\n",
       "            resolve(promise);\n",
       "        }));\n",
       "    }\n",
       "\n",
       "    Promise.all(promises).then((images) => {\n",
       "        const positioned_images = []\n",
       "\n",
       "        for (var i=0; i<rows; i++) {\n",
       "            for (var j=0; j<cols; j++) {\n",
       "\n",
       "                const obj = {\n",
       "                    \"src\": images[i*cols + j],\n",
       "                    x: i*img_width+margin,\n",
       "                    y: j*img_height+margin\n",
       "                }\n",
       "\n",
       "                positioned_images.push(obj)\n",
       "            }\n",
       "        }\n",
       "\n",
       "        mergeImages(positioned_images, {\n",
       "            width: img_width*cols+60, height: img_height*rows+60\n",
       "        })\n",
       "        .then(b64 => {\n",
       "            var a = document.createElement(\"a\");\n",
       "            a.href = b64;\n",
       "            a.download = \"Image.png\";\n",
       "            a.click();\n",
       "            a.remove()\n",
       "        });\n",
       "    });\n",
       "}\n",
       "</script> \n"
      ]
     },
     "metadata": {},
     "output_type": "display_data"
    }
   ],
   "source": [
    "// it may be necessary to play around with the chart dimensions and margin  in order to ensure a good fit on screen.\n",
    "val dim = 350\n",
    "\n",
    "// The canvas has an underlying grid. By default the underlying grid is 1x1, but we can pass in the dimensions we \n",
    "// require by passing in parameters in the constructor.\n",
    "Canvas(2, 2)\n",
    ".setChart(0, 0, chart1.setDimensions(width = dim, height = dim).setMargin(l=50, r=50, t=50, b=50))\n",
    ".setChart(0, 1, chart2.setDimensions(width = dim, height = dim)setMargin(l=50, r=50, t=50, b=50))\n",
    ".setChart(1, 0, chart3.setDimensions(width = dim, height = dim)setMargin(l=50, r=50, t=50, b=50))\n",
    ".setChart(1, 1, chart.setDimensions(width = dim, height = dim)setMargin(l=50, r=50, t=50, b=50))\n",
    ".plotInline"
   ]
  },
  {
   "cell_type": "markdown",
   "metadata": {},
   "source": [
    "#### Map\n",
    "\n",
    "We can also create maps using the composition technique below."
   ]
  },
  {
   "cell_type": "code",
   "execution_count": 88,
   "metadata": {},
   "outputs": [],
   "source": [
    "import org.carbonateresearch.picta.options.{Margin, Line}\n",
    "import org.carbonateresearch.picta.Map"
   ]
  },
  {
   "cell_type": "code",
   "execution_count": 89,
   "metadata": {},
   "outputs": [
    {
     "data": {
      "text/html": [
       "<div id=\"grid-container_2ZJTw57igE\" class=\"grid-container\" align=\"center\"> \n",
       "<div id=\"grid_2ZJTw57igE\" class=\"grid\" align=\"center\"> \n",
       "<div id=\"graph_8AxgK5FWz6\" class=\"graph\"></div> \n",
       "</div> \n",
       "</div> \n",
       "<script>\n",
       "var masonry = new Macy({\n",
       "    container: '#grid_2ZJTw57igE',\n",
       "    debug: true,\n",
       "    mobileFirst: true,\n",
       "    columns: 1,\n",
       "    margin: {\n",
       "        x: 0,\n",
       "        y: 0\n",
       "    }\n",
       "  });\n",
       "\n",
       " var traces_8AxgK5FWz6 = [{\"name\":\"ppE0ibiVvt\",\"lat\":[40.7127,51.5072],\"lon\":[-74.0059,0.1275],\"type\":\"scattergeo\",\"mode\":\"lines\",\"line\":{\"width\":2,\"color\":\"red\"}}];\n",
       " var layout_8AxgK5FWz6 = {\"height\":550,\"width\":600,\"hovermode\":\"closest\",\"legend\":{\"orientation\":\"v\"},\"showlegend\":true,\"geo\":{\"resolution\":50,\"showland\":true,\"showlakes\":true,\"coastlinewidth\":2,\"landcolor\":\"rgb(204, 204, 204)\",\"lakecolor\":\"rgb(255, 255, 255)\",\"lataxis\":{\"range\":[20,60],\"showgrid\":true,\"dtick\":10},\"lonaxis\":{\"range\":[-100,20],\"showgrid\":true,\"dtick\":10}},\"margin\":{\"l\":0,\"r\":0,\"t\":0,\"b\":0}};\n",
       " var config_8AxgK5FWz6 = {\"responsive\":false,\"scrollZoom\":false,\"displaylogo\":false};\n",
       " Plotly.newPlot(\"graph_8AxgK5FWz6\", traces_8AxgK5FWz6, layout_8AxgK5FWz6, config_8AxgK5FWz6);\n",
       "</script> \n"
      ]
     },
     "metadata": {},
     "output_type": "display_data"
    }
   ],
   "source": [
    "// draw a line on the map that is red\n",
    "val line = Line(width = 2) setColor \"red\"\n",
    "\n",
    "// construct the map Series. It is an XY chart as it takes in a List of Longitude and Latitude\n",
    "val series = Map(List(40.7127, 51.5072), List(-74.0059, 0.1275)) drawSymbol LINES drawLine line\n",
    "\n",
    "// These are options that further specify the options for the map\n",
    "val geo = MapOptions(landcolor = \"rgb(204, 204, 204)\", lakecolor = \"rgb(255, 255, 255)\")\n",
    "              .setMapAxes(LatAxis(List(20, 60)), LongAxis(List(-100, 20)))\n",
    "\n",
    "val chart = (\n",
    "    Chart() \n",
    "    addSeries series \n",
    "    setConfig(false, false)\n",
    "    setMapOptions geo\n",
    "    setMargin(l=0, r=0, t=0, b=0)\n",
    ")\n",
    "\n",
    "chart.plotInline"
   ]
  },
  {
   "cell_type": "markdown",
   "metadata": {},
   "source": [
    "### Animated Charts\n",
    "\n",
    "We can also create animated charts. This can be useful for tracking the evolution of a data over time.\n",
    "\n",
    "All `Series` types should be supported.\n",
    "\n",
    "#### 2D Animated Chart"
   ]
  },
  {
   "cell_type": "code",
   "execution_count": 90,
   "metadata": {},
   "outputs": [],
   "source": [
    "import org.carbonateresearch.picta.options.ColorOptions._\n",
    "\n",
    "// creates random XY for testing purposes\n",
    "def createXYSeries[T: Color]\n",
    "(numberToCreate: Int, count: Int = 0, length: Int = 10): List[XY[Int, Double, T, T]] = {\n",
    "    if (count == numberToCreate) Nil\n",
    "    else {\n",
    "      val xs = List.range(0, length)\n",
    "      val ys = xs.map(x => scala.util.Random.nextDouble() * x)\n",
    "      val series = XY(x = xs, y = ys, name = \"series \" + count).drawMarkers\n",
    "      series :: createXYSeries(numberToCreate, count + 1, length)\n",
    "    }\n",
    "}\n",
    "\n",
    "def createXYZSeries(numberToCreate: Int, count: Int = 0, length: Int = 10): List[XYZ[Int, Double, Double]] = {\n",
    "    if (count == numberToCreate) Nil\n",
    "    else {\n",
    "      val xs = List.range(0, length)\n",
    "      val ys = xs.map(x => scala.util.Random.nextDouble() * x)\n",
    "      val zs = xs.map(x => scala.util.Random.nextDouble() * x * scala.util.Random.nextInt())\n",
    "      val series = XYZ(x = xs, y = ys, z = zs, name = \"series \" + count, `type` = SCATTER3D).drawMarkers\n",
    "      series :: createXYZSeries(numberToCreate, count + 1, length)\n",
    "    }\n",
    "}"
   ]
  },
  {
   "cell_type": "code",
   "execution_count": 91,
   "metadata": {
    "scrolled": false
   },
   "outputs": [
    {
     "data": {
      "text/html": [
       "<div id=\"grid-container_khWeZIovwD\" class=\"grid-container\" align=\"center\"> \n",
       "<div id=\"grid_khWeZIovwD\" class=\"grid\" align=\"center\"> \n",
       "\n",
       "<div align=\"center\">\n",
       "  <div id=\"graph_AAj9sJ28UL\" class=\"graph\"></div>\n",
       "  <div class=\"animationInterface\">\n",
       "    <button id=\"play_AAj9sJ28UL\" class=\"picta-button\">Play</button>\n",
       "    <button id=\"pause_AAj9sJ28UL\" class=\"picta-button\">Pause</button>\n",
       "    <div id=\"sliderContainer_AAj9sJ28UL\" class=\"progressBar\"></div>\n",
       "    <div id=\"counterContainer_AAj9sJ28UL\" class=\"inline-div\">\n",
       "        <h3>Frame: </h3> <h3 id=\"value_AAj9sJ28UL\">0</h3>\n",
       "    </div>\n",
       "   </div>\n",
       "</div> \n",
       "\n",
       "</div> \n",
       "</div> \n",
       "<script>\n",
       "var masonry = new Macy({\n",
       "    container: '#grid_khWeZIovwD',\n",
       "    debug: true,\n",
       "    mobileFirst: true,\n",
       "    columns: 1,\n",
       "    margin: {\n",
       "        x: 0,\n",
       "        y: 0\n",
       "    }\n",
       "  });\n",
       "\n",
       "var graph_AAj9sJ28UL = document.getElementById('graph_AAj9sJ28UL')\n",
       "var traces_AAj9sJ28UL = [{\"name\":\"series 0\",\"type\":\"scatter\",\"mode\":\"markers\",\"x\":[0,1,2,3,4,5,6,7,8,9,10,11,12,13,14,15,16,17,18,19,20,21,22,23,24,25,26,27,28,29],\"y\":[0,0.6106281111393375,0.08865720916614306,0.7176555354912659,2.799286992160532,1.729709393589407,0.4428189491479546,0.6096345886943096,4.156844605639134,5.78118634739541,4.009946133030446,8.593354484937004,7.179136607317647,12.43998563356327,6.785235552443234,1.3192393755796412,15.86088943499658,13.774074375559906,14.85651185579222,8.588988313178303,7.252326003304308,20.77034004554358,8.835885681706982,6.9276800116646235,23.899170107373244,19.325959278992794,8.537137601640977,15.746718368697543,24.449329394096807,12.188387796274142]}]\n",
       "var layout_AAj9sJ28UL = {\"height\":550,\"width\":600,\"hovermode\":\"closest\",\"legend\":{\"orientation\":\"v\"},\"title\":{\"text\":\"Animation XY\"},\"showlegend\":true,\"xaxis\":{\"title\":{\"text\":\"X Variable\"},\"showgrid\":true,\"zeroline\":false,\"showline\":false,\"range\":[0,10]},\"yaxis\":{\"title\":{\"text\":\"Y Variable\"},\"showgrid\":true,\"zeroline\":false,\"showline\":false,\"range\":[0,10]}}\n",
       "var frames_AAj9sJ28UL = [{\"name\":\"series 0\",\"data\":[{\"name\":\"series 0\",\"type\":\"scatter\",\"mode\":\"markers\",\"x\":[0,1,2,3,4,5,6,7,8,9,10,11,12,13,14,15,16,17,18,19,20,21,22,23,24,25,26,27,28,29],\"y\":[0,0.6106281111393375,0.08865720916614306,0.7176555354912659,2.799286992160532,1.729709393589407,0.4428189491479546,0.6096345886943096,4.156844605639134,5.78118634739541,4.009946133030446,8.593354484937004,7.179136607317647,12.43998563356327,6.785235552443234,1.3192393755796412,15.86088943499658,13.774074375559906,14.85651185579222,8.588988313178303,7.252326003304308,20.77034004554358,8.835885681706982,6.9276800116646235,23.899170107373244,19.325959278992794,8.537137601640977,15.746718368697543,24.449329394096807,12.188387796274142]}]},{\"name\":\"series 1\",\"data\":[{\"name\":\"series 1\",\"type\":\"scatter\",\"mode\":\"markers\",\"x\":[0,1,2,3,4,5,6,7,8,9,10,11,12,13,14,15,16,17,18,19,20,21,22,23,24,25,26,27,28,29],\"y\":[0,0.17544097158026994,0.4832053352932413,2.4233807374605782,0.5301745685337842,3.97641132481432,2.7358157976573114,4.828677805250401,7.041516139572708,3.923913316822932,9.203872713459985,5.624274663011052,0.7227373679032807,2.0015434804626415,8.828562756042215,1.396560061627103,9.998594375007086,4.106605407648942,2.9318710289731476,15.046008690270618,13.7770068746725,9.109877800934099,20.922644080060945,21.392531881375845,19.387110699631293,20.44436402793793,9.02556817231402,10.527606352393349,8.214749084594768,15.672287145312893]}]},{\"name\":\"series 2\",\"data\":[{\"name\":\"series 2\",\"type\":\"scatter\",\"mode\":\"markers\",\"x\":[0,1,2,3,4,5,6,7,8,9,10,11,12,13,14,15,16,17,18,19,20,21,22,23,24,25,26,27,28,29],\"y\":[0,0.2699609232364031,1.9140577097676457,0.729855959294227,0.864708251363584,2.074938108537547,5.070961351298893,2.7444106996570516,0.11179400487571556,4.009471386703555,8.531416220400011,3.4585218468867103,0.14478033553284675,8.301865369604865,8.213623225689203,12.167250644138472,4.603382827336695,10.894697345862369,8.590920650318607,12.614385471759432,1.6684742680691667,11.131612073639184,20.943747735972725,5.216340296671602,21.874507329761737,4.636877357453431,10.620160522979667,15.114723903217545,18.85614097580156,7.954448390553945]}]},{\"name\":\"series 3\",\"data\":[{\"name\":\"series 3\",\"type\":\"scatter\",\"mode\":\"markers\",\"x\":[0,1,2,3,4,5,6,7,8,9,10,11,12,13,14,15,16,17,18,19,20,21,22,23,24,25,26,27,28,29],\"y\":[0,0.23884280603132624,1.4037927663960479,1.252807526991626,1.2581517651201408,0.299500326874817,5.072066738700229,1.8164113627972418,4.756026525694221,3.099322780667511,5.917162702599635,2.539955753326106,5.172358016245148,5.823459938848884,10.535421940960974,11.600121145173821,15.33267280331494,6.415713131888435,7.4700184803302525,12.67585128062034,3.4562808259907407,2.6698096520723587,15.622597298032442,20.599954725159503,4.579738409398768,11.563625567630515,11.48568956966459,4.54743621319568,7.639489410747517,11.500096141519117]}]},{\"name\":\"series 4\",\"data\":[{\"name\":\"series 4\",\"type\":\"scatter\",\"mode\":\"markers\",\"x\":[0,1,2,3,4,5,6,7,8,9,10,11,12,13,14,15,16,17,18,19,20,21,22,23,24,25,26,27,28,29],\"y\":[0,0.8258880017242998,1.8983221833010306,1.6004438473372187,3.9727792828084425,1.7605300846259075,0.55545271281137,5.507621040271395,6.342629174588706,1.2052890546924333,4.535920229305016,7.885583427323053,8.63915592438024,5.484641682087041,13.981592297004259,13.201009835910973,1.8289741001982467,11.426713417656135,6.722466179333774,2.520890008365431,7.502422428114044,12.141350229919004,20.909735232910467,18.18759581659189,10.69671615407133,3.4357501484039767,5.585998376568911,24.61197289105168,4.608079829968164,1.185998891445498]}]},{\"name\":\"series 5\",\"data\":[{\"name\":\"series 5\",\"type\":\"scatter\",\"mode\":\"markers\",\"x\":[0,1,2,3,4,5,6,7,8,9,10,11,12,13,14,15,16,17,18,19,20,21,22,23,24,25,26,27,28,29],\"y\":[0,0.7324016603990001,1.0652522954802637,1.5625382267019077,0.9175570416862366,2.400574681400644,0.035033422345911,3.84012035296525,1.5770221094175154,3.118106788833555,6.390900108867806,10.273595679331915,1.3697686219616334,5.393419635237329,3.89670977870822,6.693402315514751,4.026514478292151,12.224222943232487,0.4851968215414648,10.440408563935662,0.4333379905504864,8.728721815218323,19.724004884398333,16.693161284903127,8.007904154807854,6.533299511571161,23.22628870370605,17.411619555721565,18.200265511119426,5.775362903586289]}]},{\"name\":\"series 6\",\"data\":[{\"name\":\"series 6\",\"type\":\"scatter\",\"mode\":\"markers\",\"x\":[0,1,2,3,4,5,6,7,8,9,10,11,12,13,14,15,16,17,18,19,20,21,22,23,24,25,26,27,28,29],\"y\":[0,0.6324565414580694,0.34082068393459486,2.6367143995780613,1.8908568773339685,4.934703698200161,2.593168227521346,2.5452253134720246,0.8806525177269364,6.298541341120102,6.259056885715068,1.1752056502105463,3.1344999619112817,0.5983963812969425,1.3244027952119088,7.8777168719942745,12.508462129336259,5.567532740741552,14.588490996617587,2.5702500319108235,11.388286903674636,16.332995938168096,2.28471141071627,6.37023757431134,4.133154207379063,6.60200403462018,14.490622189518133,24.35150810761013,24.120754193126565,27.86269511830013]}]},{\"name\":\"series 7\",\"data\":[{\"name\":\"series 7\",\"type\":\"scatter\",\"mode\":\"markers\",\"x\":[0,1,2,3,4,5,6,7,8,9,10,11,12,13,14,15,16,17,18,19,20,21,22,23,24,25,26,27,28,29],\"y\":[0,0.7712938997311428,0.036399536482999206,1.8276995639188516,2.642907362958861,3.384398535824338,3.5214576834749955,2.301409635550171,0.3009901503101222,8.785903789690892,9.087081905547784,2.175330190027154,6.241226055867682,10.608084786669519,6.47871910422087,14.774641984036892,3.1695802706089005,15.416729805994509,16.494346573393827,9.103153098465011,1.6977788750083245,12.76851481175923,9.07332594922136,19.26356104493736,2.4725286035168033,9.564504047742345,5.412351226723817,6.902802886000023,6.843694931380037,11.358876865413567]}]},{\"name\":\"series 8\",\"data\":[{\"name\":\"series 8\",\"type\":\"scatter\",\"mode\":\"markers\",\"x\":[0,1,2,3,4,5,6,7,8,9,10,11,12,13,14,15,16,17,18,19,20,21,22,23,24,25,26,27,28,29],\"y\":[0,0.04398606498732127,1.175762440504051,0.33120945896151854,2.870930211104179,4.464341261321085,0.3449477760250068,2.5792680836749393,3.1868778743948907,6.326677746857332,1.6175871868930414,1.6052021142013944,2.5280344053674697,11.242544831502414,6.526103370052344,11.800235980079236,13.659664641250004,4.79036184257885,3.9693035199094586,0.610638179200602,6.510782736401595,15.711956108445234,8.539539216693395,9.723734143687652,12.261323419284926,12.945102925919599,7.922774572763688,4.511421076807833,11.82087667998249,0.8174867619762557]}]},{\"name\":\"series 9\",\"data\":[{\"name\":\"series 9\",\"type\":\"scatter\",\"mode\":\"markers\",\"x\":[0,1,2,3,4,5,6,7,8,9,10,11,12,13,14,15,16,17,18,19,20,21,22,23,24,25,26,27,28,29],\"y\":[0,0.5355487572101247,0.7980106842188275,2.3461437436681742,0.6873557594403867,1.0058692176628936,1.916862595019529,2.306227567109228,7.47338700302469,6.4728208745897104,2.7932164979974274,1.576884539113189,8.426706348453987,6.692207634266927,3.566002490984901,14.032053823308559,0.7596921181792666,5.623724315899723,17.64600171394931,11.804196480374612,18.169227065675805,1.6199447466914,14.219455634770588,16.31929831863404,7.230944172357218,10.453776018045016,1.2028511452468509,9.883492995889352,15.891092167164484,6.874353500424374]}]},{\"name\":\"series 10\",\"data\":[{\"name\":\"series 10\",\"type\":\"scatter\",\"mode\":\"markers\",\"x\":[0,1,2,3,4,5,6,7,8,9,10,11,12,13,14,15,16,17,18,19,20,21,22,23,24,25,26,27,28,29],\"y\":[0,0.7808106519301364,0.5036331955767825,0.9709266510277337,0.6234361254090661,3.769781032763687,1.4727047488934288,1.7247950123436537,3.8909440626781775,5.47662448060504,5.328715544102856,4.290967309302197,0.22253860844723272,8.270463432032985,10.271824916802819,8.507757039811498,2.928364725980707,4.8901713197392,11.633043239545572,8.43827811627974,14.099287430036993,4.8252773640081905,3.680163287619163,6.043718464423336,19.089693784090223,5.239636411590048,7.469378386793879,26.54236847899999,17.33027268783804,11.26878040191335]}]},{\"name\":\"series 11\",\"data\":[{\"name\":\"series 11\",\"type\":\"scatter\",\"mode\":\"markers\",\"x\":[0,1,2,3,4,5,6,7,8,9,10,11,12,13,14,15,16,17,18,19,20,21,22,23,24,25,26,27,28,29],\"y\":[0,0.024277982336889714,0.9117773688479933,1.3217670420050838,1.3977676011495364,1.2047065150110159,3.4072430886877743,1.699737133258596,0.09650467929442907,5.695117220425236,0.2280792815247834,4.750645576732959,0.0428483915000597,7.275602739738948,8.941159725651534,6.6799517410518945,2.454789317192928,15.43953305934423,13.767084876550086,17.559634443357062,9.904969085355592,15.555228936298947,18.39290135245008,11.795446923976755,12.457678344165984,11.13767975870198,13.134437671302111,4.3293020042180395,15.551732890953138,8.80664576354023]}]},{\"name\":\"series 12\",\"data\":[{\"name\":\"series 12\",\"type\":\"scatter\",\"mode\":\"markers\",\"x\":[0,1,2,3,4,5,6,7,8,9,10,11,12,13,14,15,16,17,18,19,20,21,22,23,24,25,26,27,28,29],\"y\":[0,6.076552247757938E-4,1.8983231698566538,2.067618305534292,0.22996679066207149,3.8447964328780717,3.4117485584977585,5.787760708810387,2.346533044535171,4.487063912167288,2.3952483782165923,1.614777887285713,0.4296049994942206,12.125023015859975,12.507600570100005,11.9410242032135,7.416522660971184,11.68638007823895,10.380551001873748,15.047008583385665,7.402007479071029,14.788924257429496,21.545849965634304,14.666285641859409,0.1895650273407199,23.573827501471396,21.077785592772184,25.87213231045926,3.0798030238550487,16.916628716956275]}]},{\"name\":\"series 13\",\"data\":[{\"name\":\"series 13\",\"type\":\"scatter\",\"mode\":\"markers\",\"x\":[0,1,2,3,4,5,6,7,8,9,10,11,12,13,14,15,16,17,18,19,20,21,22,23,24,25,26,27,28,29],\"y\":[0,0.8606304569230601,0.5534214068071774,0.6795776720391296,0.33980936621060254,1.370848147783052,2.089231032914782,5.027200205413499,2.9940498076279356,4.361722372338878,4.750619510144174,2.7568344698421687,7.118347917092915,5.725578654475529,4.845156887673809,5.165221986694814,14.17425532453445,3.0451899070201836,7.842669920361215,2.9860063094452673,9.647993316858543,18.89622971428342,4.247743030225514,7.468932998918596,4.502533711501854,19.737163214785227,21.077460617351868,5.323727128865412,4.8087286337216435,20.32973400061335]}]},{\"name\":\"series 14\",\"data\":[{\"name\":\"series 14\",\"type\":\"scatter\",\"mode\":\"markers\",\"x\":[0,1,2,3,4,5,6,7,8,9,10,11,12,13,14,15,16,17,18,19,20,21,22,23,24,25,26,27,28,29],\"y\":[0,0.9035295116246448,0.8841705489845937,0.5279123869349892,3.5548063092583226,0.7503104237913355,3.641074597788838,0.7472042217314013,4.2716045655569115,0.3396216145643359,9.298853253068305,5.9539759533563545,5.945698207759348,6.1182937712971395,3.065348245999464,11.206070754742298,2.3881323943913717,15.62989766582496,14.224224975197234,12.77582394447112,13.674308458839484,8.449392972451244,13.386853486979641,8.484447256808624,17.424151822326785,13.796970352413386,18.584328662591147,20.866045907792394,4.76493951321123,15.801895323987221]}]},{\"name\":\"series 15\",\"data\":[{\"name\":\"series 15\",\"type\":\"scatter\",\"mode\":\"markers\",\"x\":[0,1,2,3,4,5,6,7,8,9,10,11,12,13,14,15,16,17,18,19,20,21,22,23,24,25,26,27,28,29],\"y\":[0,0.48203605654186377,1.6372045761844696,1.4799758814244375,1.9552533002916008,4.051458794965903,4.359266594229303,4.301398830279935,4.370283727790574,4.077532776397887,0.7417801661206125,1.4395480284669242,6.293722304318281,7.237491904789173,13.738112178321883,5.777355610728845,9.219236315529882,14.40429044897769,16.6847458183836,1.8727001402660088,15.61080833982107,15.651363373902875,7.46946877558848,1.1328277910342626,14.340738013048242,1.7545868818219263,12.550417058472886,18.96811915856391,19.97009472132019,0.606900164580112]}]},{\"name\":\"series 16\",\"data\":[{\"name\":\"series 16\",\"type\":\"scatter\",\"mode\":\"markers\",\"x\":[0,1,2,3,4,5,6,7,8,9,10,11,12,13,14,15,16,17,18,19,20,21,22,23,24,25,26,27,28,29],\"y\":[0,0.48548769658144675,1.0650384374221054,1.8247591290532856,0.7035140429238025,2.332299030047125,0.9155514208211795,4.268524786151083,0.9683208081944992,1.5552129358214186,3.808097044108397,4.632379787459719,0.3659875762647724,2.0921542722886244,3.488369885687888,13.255503577381432,0.9362096972028162,12.551439837012538,9.375842817287584,5.410337438944213,12.156677828768341,19.521417018672626,19.472038424876487,5.636748308853236,14.540757954809472,9.442089900110709,23.196231116040252,3.6995687439992797,27.222713140935706,10.893930103852737]}]},{\"name\":\"series 17\",\"data\":[{\"name\":\"series 17\",\"type\":\"scatter\",\"mode\":\"markers\",\"x\":[0,1,2,3,4,5,6,7,8,9,10,11,12,13,14,15,16,17,18,19,20,21,22,23,24,25,26,27,28,29],\"y\":[0,0.008310593119310483,1.9407069760518205,1.908105685531743,1.3094795456391375,3.6317481522764843,1.5447252854941202,5.053795501896217,0.7031210777757142,1.8299885479665998,2.262201674505432,3.1674072236155424,6.65470722416881,1.4839243878166353,9.314467808393063,6.118493730196794,14.78451958815816,8.111030815279067,15.43079632567842,5.78665627002357,12.769338204475122,17.46879630793596,21.537317368009948,16.934465972515106,17.414626608027756,12.974059333294363,1.9152059296227133,3.948558257827663,24.65810045278745,21.55646523618551]}]},{\"name\":\"series 18\",\"data\":[{\"name\":\"series 18\",\"type\":\"scatter\",\"mode\":\"markers\",\"x\":[0,1,2,3,4,5,6,7,8,9,10,11,12,13,14,15,16,17,18,19,20,21,22,23,24,25,26,27,28,29],\"y\":[0,0.4338213702324517,1.162931427928109,2.055733375538437,3.440053500475166,4.345007900027901,2.68760606078349,6.394494758783302,7.59409330489275,2.1432489648626403,1.3098938442128427,8.24485346165999,11.540757578773496,10.178771562472956,3.4829736308826917,0.507756723072591,4.647540025254871,14.871029166272617,4.946858763719062,18.121243735288754,5.33417968998803,13.677332960851677,18.193823014932477,4.731002337928425,8.321599596112819,0.9347249659175494,13.168999459695582,21.22799493290266,8.102705021167765,19.35766234146182]}]},{\"name\":\"series 19\",\"data\":[{\"name\":\"series 19\",\"type\":\"scatter\",\"mode\":\"markers\",\"x\":[0,1,2,3,4,5,6,7,8,9,10,11,12,13,14,15,16,17,18,19,20,21,22,23,24,25,26,27,28,29],\"y\":[0,0.13195189128842832,1.5078895361472138,0.7037881414074432,2.037942443283561,0.8118329611512454,4.284875725576381,4.899567802197764,4.462157345368872,0.16376145147861698,7.059472767203946,6.780754998097166,10.97089329342604,12.139594193426596,2.8729468228133257,8.119425659245291,6.437647763174368,12.474500313891669,6.5852625049969875,2.7365087256453706,7.1950907072917,18.936672791837164,20.677810795221,3.4878829472022357,3.121009538743719,0.8471531262782495,11.649436173104483,19.320712534670925,7.115428881729435,22.046194060914306]}]},{\"name\":\"series 20\",\"data\":[{\"name\":\"series 20\",\"type\":\"scatter\",\"mode\":\"markers\",\"x\":[0,1,2,3,4,5,6,7,8,9,10,11,12,13,14,15,16,17,18,19,20,21,22,23,24,25,26,27,28,29],\"y\":[0,0.13321553169260958,1.6865507722925681,2.6789941157449806,1.2122469087553438,0.5600177406772977,5.27217573968016,4.516701640418729,4.681754981612133,8.326598568931084,6.01244334747678,2.7618073395433287,1.0440532919633592,11.38089075825475,10.224545834306811,3.2323468025844204,3.75492702388199,7.765357620454699,17.680693370312756,13.73127522228964,16.96068777362242,10.166188419698738,5.417073521018146,10.125262750895342,13.168515786908399,6.177021819794246,21.314001737100348,1.8982598552439227,17.122738349194933,12.655105917820524]}]},{\"name\":\"series 21\",\"data\":[{\"name\":\"series 21\",\"type\":\"scatter\",\"mode\":\"markers\",\"x\":[0,1,2,3,4,5,6,7,8,9,10,11,12,13,14,15,16,17,18,19,20,21,22,23,24,25,26,27,28,29],\"y\":[0,0.520464615679282,0.1650963418978162,0.5684437396213992,0.5261452353588845,2.4606684014027866,4.776962763043308,0.7558280668831197,1.2441547215722482,5.570452419042886,3.906805714469294,5.6048082839121545,6.138550642118862,0.3344605009417275,7.600688323059071,7.423228011742938,10.34408440933112,5.521941905622643,7.576737029159085,12.047305960021221,10.08270086496611,12.973008749735463,17.35670954302232,4.733392191905344,22.503057693606507,0.7212672275574872,7.5033232490660895,25.924324067067392,20.437163033762463,19.167945493544714]}]},{\"name\":\"series 22\",\"data\":[{\"name\":\"series 22\",\"type\":\"scatter\",\"mode\":\"markers\",\"x\":[0,1,2,3,4,5,6,7,8,9,10,11,12,13,14,15,16,17,18,19,20,21,22,23,24,25,26,27,28,29],\"y\":[0,0.3171163462913936,0.10057596679971148,1.9042259469436584,0.5486181857950827,3.809857263327267,4.697375372772801,0.3424149260949585,0.5834141332383975,8.584140969829058,9.24469994837817,3.10848249205477,0.5140569332382365,9.41160146285023,2.361643527556826,0.7430306459503422,7.2198174257069905,12.060188840070337,15.640046269614631,0.1917815294231251,3.3975736029936443,17.611985313858266,17.66039498444855,12.603587669345353,4.426507198978593,6.7184234447211635,14.301016754641783,14.238990604555461,17.742885630529322,19.059124002200424]}]},{\"name\":\"series 23\",\"data\":[{\"name\":\"series 23\",\"type\":\"scatter\",\"mode\":\"markers\",\"x\":[0,1,2,3,4,5,6,7,8,9,10,11,12,13,14,15,16,17,18,19,20,21,22,23,24,25,26,27,28,29],\"y\":[0,0.45980919803982023,0.22879328250112407,2.5375591058253764,3.65845102546634,2.6556106097650045,4.672634443850904,0.917771276396047,6.7700767791774,3.286015657481531,0.6007103611129028,3.3168820701039916,8.278938415150888,3.0415813570245493,11.602427428449838,8.000222150986733,9.72035790415283,11.296067900611689,7.250983730584734,1.00224889842544,7.133865207016427,0.7285611661227644,2.5296607038977212,4.53565728439711,1.2602354840914876,20.186853474834923,1.8975801426875272,3.7208127911025146,20.693070012935245,14.651373837386636]}]},{\"name\":\"series 24\",\"data\":[{\"name\":\"series 24\",\"type\":\"scatter\",\"mode\":\"markers\",\"x\":[0,1,2,3,4,5,6,7,8,9,10,11,12,13,14,15,16,17,18,19,20,21,22,23,24,25,26,27,28,29],\"y\":[0,0.061024660281934096,0.20435226869582568,1.1836628588063114,0.07796486130131752,0.25177938410396117,3.634491613418434,0.840429891606849,4.739113815065435,2.3154503903316352,4.391859992138638,2.2332075741263346,5.939534619889929,2.6717235686529572,12.989406973647418,6.060882351948964,0.6412957370022649,3.9792415656608817,8.56329061050876,8.320965288674254,14.75794216653435,3.180477535902653,15.102556417898949,9.755833326678161,13.43071393663816,3.6900413411950077,0.9881116599520845,20.487444513080767,24.75937787921361,25.798915449141223]}]},{\"name\":\"series 25\",\"data\":[{\"name\":\"series 25\",\"type\":\"scatter\",\"mode\":\"markers\",\"x\":[0,1,2,3,4,5,6,7,8,9,10,11,12,13,14,15,16,17,18,19,20,21,22,23,24,25,26,27,28,29],\"y\":[0,0.8010780374715072,1.4154798947383944,1.5406528176480756,2.1468390105393924,4.412463166598451,1.1423491373047825,6.4191745907599636,4.789327317952092,5.998198497660016,7.728443685856433,3.9157634625695326,7.720734342033843,10.579140445602146,12.589578383661129,12.806172154612632,6.200249051881391,4.1076573868481585,15.354661985304006,6.494389740041401,14.837579083444377,0.07540350385895267,7.307365656742989,17.6864296859873,3.9944955110119684,24.08241747326286,4.404997012929746,17.260574993995174,18.885135133954254,28.60147785518468]}]},{\"name\":\"series 26\",\"data\":[{\"name\":\"series 26\",\"type\":\"scatter\",\"mode\":\"markers\",\"x\":[0,1,2,3,4,5,6,7,8,9,10,11,12,13,14,15,16,17,18,19,20,21,22,23,24,25,26,27,28,29],\"y\":[0,0.5689306178340907,0.9540540058017453,0.9973150017990444,0.28628565841166553,2.4429772486131123,3.314593539178273,2.074242747675557,0.6479853829861977,0.5385857133711953,8.758310076037999,10.029409136596593,5.306540830620955,9.400183161890372,9.103827918605509,10.735677808167868,12.840568328226304,9.338999634675647,11.582506244231348,2.8079564858478903,9.163905537089132,15.312729342632021,14.373578755142049,3.4986405429023884,15.191141075312274,2.4893753935481904,5.2162913540268825,25.465651018233228,25.61297402797649,16.91701214432405]}]},{\"name\":\"series 27\",\"data\":[{\"name\":\"series 27\",\"type\":\"scatter\",\"mode\":\"markers\",\"x\":[0,1,2,3,4,5,6,7,8,9,10,11,12,13,14,15,16,17,18,19,20,21,22,23,24,25,26,27,28,29],\"y\":[0,0.6992605856598519,1.5833518776391857,2.385343313272453,1.5014938565555327,0.7758997012367119,3.420328141960636,2.481596921179271,4.288408346756282,6.11960706657564,9.536721031285246,7.032521761877791,10.997565931268868,5.797653134979208,3.0405591798426967,12.150129687736406,2.502198431323352,12.284541963032181,3.8868902454619088,17.899018064672507,17.940502291061325,3.372089479889838,9.689134355536021,0.3091773275414834,22.665631772508135,4.302644686909046,24.582261751695338,8.430875702967686,25.29075406257283,4.589485614142148]}]},{\"name\":\"series 28\",\"data\":[{\"name\":\"series 28\",\"type\":\"scatter\",\"mode\":\"markers\",\"x\":[0,1,2,3,4,5,6,7,8,9,10,11,12,13,14,15,16,17,18,19,20,21,22,23,24,25,26,27,28,29],\"y\":[0,0.5527860687625649,0.17528410986143328,1.1567953668554734,1.3639663060265246,3.0929330438131917,0.9152193742307482,5.411967902362015,1.1461389540773634,3.482167499200883,6.838933792136142,7.857985045247506,9.484406714194876,6.908725969678185,13.101142946587709,4.9465832581777605,0.42318728712075426,9.33065650511432,0.16174049933607093,4.22030233410201,7.115802632396617,10.70119745367074,0.6193213179495485,20.458954953717733,9.809129976343222,4.8553647223126415,7.6489313824395335,11.90307167292801,27.124312402830398,9.996703156522747]}]},{\"name\":\"series 29\",\"data\":[{\"name\":\"series 29\",\"type\":\"scatter\",\"mode\":\"markers\",\"x\":[0,1,2,3,4,5,6,7,8,9,10,11,12,13,14,15,16,17,18,19,20,21,22,23,24,25,26,27,28,29],\"y\":[0,0.15346537408012584,1.2419330400824482,2.198019266228679,2.1309014145689886,3.5739411852353924,1.000032809134964,4.390814184522931,2.5027797254436033,6.279076270513806,7.891369824092465,0.34450534402404587,1.0189713523413944,12.133722963436567,6.352686649673714,11.199089361690937,5.989249096265631,16.431720265162618,3.2055444581682635,17.626482215255447,2.030185310446324,14.783207133061719,13.579246980891405,6.650128476931128,21.53338029727228,17.50520670923043,22.779884955068002,14.61084411240563,0.9724753594292421,7.690085452257214]}]},{\"name\":\"series 30\",\"data\":[{\"name\":\"series 30\",\"type\":\"scatter\",\"mode\":\"markers\",\"x\":[0,1,2,3,4,5,6,7,8,9,10,11,12,13,14,15,16,17,18,19,20,21,22,23,24,25,26,27,28,29],\"y\":[0,0.947293615564238,1.5134606780228763,2.1636652876837927,0.10941249495728611,0.6017558774993076,4.539269409702959,4.83971409147092,5.072106429656714,2.7268572485463594,7.1066255841470225,2.8297394106449962,0.8198847371483691,5.4070374246409685,0.7518596118252752,2.8420229292747874,1.5743822534671956,1.675904082339604,11.467587788875411,4.2671047245433344,13.5386648352966,17.13036266862413,11.420192790669994,12.381861259861214,19.149251303404213,21.47082831272412,23.316094830622582,4.0192715213255035,10.911735552893006,21.2166408809779]}]},{\"name\":\"series 31\",\"data\":[{\"name\":\"series 31\",\"type\":\"scatter\",\"mode\":\"markers\",\"x\":[0,1,2,3,4,5,6,7,8,9,10,11,12,13,14,15,16,17,18,19,20,21,22,23,24,25,26,27,28,29],\"y\":[0,0.9722265134540965,1.7600352095364762,2.9307634946086907,2.8599007425381235,3.2427098469041975,0.5700727929856557,6.829448507531835,7.082259034524323,0.5248446357437839,8.413316174036257,6.907987071828417,8.725453929702038,8.540811271625804,12.027445936893827,1.713591526071826,11.415954978871612,6.2847234688337945,14.972469445223924,2.345463285840749,1.6577851427527945,16.986789137216753,17.423580367386894,0.8838129240726076,22.41854107510305,0.10574433658747107,14.856926887388575,15.366891443299856,21.090639555915608,19.340203799162197]}]},{\"name\":\"series 32\",\"data\":[{\"name\":\"series 32\",\"type\":\"scatter\",\"mode\":\"markers\",\"x\":[0,1,2,3,4,5,6,7,8,9,10,11,12,13,14,15,16,17,18,19,20,21,22,23,24,25,26,27,28,29],\"y\":[0,0.2384239897244761,0.5572327380988438,0.7509906990023741,1.8435961136829087,4.705278302380755,5.609409936524521,4.9986855029488035,1.6272069929110025,4.6890615176029256,5.48831159433797,10.451915216709526,8.623166000683918,12.237823950333313,9.756648661728594,4.32370999757613,5.7959951293536225,2.68253446732502,14.925205691165662,6.865924939201845,12.512649403038175,5.219003677240275,5.798909960169201,20.32117914985904,20.969994998701385,17.570163951815577,6.541405762460187,15.327575066151924,5.915057496015276,0.7059804802768606]}]},{\"name\":\"series 33\",\"data\":[{\"name\":\"series 33\",\"type\":\"scatter\",\"mode\":\"markers\",\"x\":[0,1,2,3,4,5,6,7,8,9,10,11,12,13,14,15,16,17,18,19,20,21,22,23,24,25,26,27,28,29],\"y\":[0,0.49552870695768625,0.8840453191975519,2.9025770131074085,2.3299275996155315,3.6989657821997133,5.762872362652745,5.541433191334463,0.3618675472379991,8.417602215079867,9.409495661436459,9.80987397703344,1.8156496090505154,10.355340745242193,5.264930281070384,0.6816709707629437,9.359811630064835,4.8994869638345255,6.406526363848858,5.6782507814977246,17.8058192222936,5.627459712930645,10.489514576909569,4.860992037852006,9.920090326671865,23.588212810050642,10.963551887025757,20.859972609818364,14.135735681159536,11.89551865989002]}]},{\"name\":\"series 34\",\"data\":[{\"name\":\"series 34\",\"type\":\"scatter\",\"mode\":\"markers\",\"x\":[0,1,2,3,4,5,6,7,8,9,10,11,12,13,14,15,16,17,18,19,20,21,22,23,24,25,26,27,28,29],\"y\":[0,0.8139569699001549,0.3455571989531223,2.6108263955960993,3.6532644382905293,0.7283467960319234,0.2649618888541163,6.116086970411351,6.714771418833149,8.721114482884445,3.203737291978822,0.7184430830046481,9.569330389458592,4.373629078496309,5.481581014227999,7.13119297313766,11.246643517635325,9.558841388045714,16.44139155276722,6.63873820197386,14.010553802168037,10.984965560955247,9.769024571836223,20.124203490518063,19.64630533430941,18.214755250810793,4.884222775024941,25.29938922516951,11.241697667005333,25.908769806172995]}]},{\"name\":\"series 35\",\"data\":[{\"name\":\"series 35\",\"type\":\"scatter\",\"mode\":\"markers\",\"x\":[0,1,2,3,4,5,6,7,8,9,10,11,12,13,14,15,16,17,18,19,20,21,22,23,24,25,26,27,28,29],\"y\":[0,0.2069431511048463,0.547680741203902,1.4826006389330315,2.2964627157500037,2.2779758827832914,1.8333417674654688,3.206884171704024,5.041589699980455,8.719805506451495,4.187981880888029,7.65512157240953,0.5359554539131697,4.423055917552157,1.4897305387977733,9.998023706265581,0.5378985251445467,12.176869000865604,3.885681688455162,10.262333686440885,18.760402857480802,16.366362021110337,2.06017326585246,18.68291427645813,16.279926391769365,9.139232039911768,4.728265068413856,11.20545326794657,18.30277156251061,18.480633146952382]}]},{\"name\":\"series 36\",\"data\":[{\"name\":\"series 36\",\"type\":\"scatter\",\"mode\":\"markers\",\"x\":[0,1,2,3,4,5,6,7,8,9,10,11,12,13,14,15,16,17,18,19,20,21,22,23,24,25,26,27,28,29],\"y\":[0,0.4679726358932671,1.4319597407000626,0.465616969258966,1.018842507864349,4.097153421542145,5.174421738868133,0.2059581763510684,0.2687242606354445,3.9274036832127934,4.580726759204622,6.230362943421396,2.003630144528454,6.778134323675883,1.7729135718007185,7.140891912888835,3.799853480195498,16.272545242908787,16.692369507209143,14.320602735024357,3.1569409332653087,6.505847179151628,1.6552408164260748,18.631157766561657,1.7967177627615936,3.9268501601536414,6.622455739894379,7.738823668507612,2.9695819300313695,27.620399838505023]}]},{\"name\":\"series 37\",\"data\":[{\"name\":\"series 37\",\"type\":\"scatter\",\"mode\":\"markers\",\"x\":[0,1,2,3,4,5,6,7,8,9,10,11,12,13,14,15,16,17,18,19,20,21,22,23,24,25,26,27,28,29],\"y\":[0,0.2647746911912362,1.0109925346339002,2.943928910525054,3.764481727593095,1.2630502174463372,2.492225795140782,1.5651280232347848,1.6800727692289028,3.7597158198458476,5.75483109526097,1.0539375663808799,3.05032891376113,0.2959084549319595,3.289531703802089,1.7210213705725985,15.412533888038318,15.56858415595704,0.6990989111745198,9.446649989234304,5.576324391946946,4.840821955355898,18.6246051691314,13.598142400728339,13.89158945087777,3.9402690611650195,7.2980047204913205,22.12690252622388,10.960410210883754,22.167300535855645]}]},{\"name\":\"series 38\",\"data\":[{\"name\":\"series 38\",\"type\":\"scatter\",\"mode\":\"markers\",\"x\":[0,1,2,3,4,5,6,7,8,9,10,11,12,13,14,15,16,17,18,19,20,21,22,23,24,25,26,27,28,29],\"y\":[0,0.5086038626415357,1.329894110589336,1.0780274483671355,0.9963403654825931,2.879621884100616,1.0654337437682582,5.7783735486452725,5.058582123229214,4.9648359239532995,1.8375754362613617,7.470963971395253,4.228856996174752,10.704432042499233,0.8668653629223304,5.25745984381259,3.8880357741488556,5.260495085458571,9.977439633731716,6.204372984132713,10.589807723148368,20.770286587507837,3.7583332002717538,8.075346677434828,6.55751317834102,21.2447475961138,12.13142276392917,22.45847362286806,26.584180402821847,24.531773162037776]}]},{\"name\":\"series 39\",\"data\":[{\"name\":\"series 39\",\"type\":\"scatter\",\"mode\":\"markers\",\"x\":[0,1,2,3,4,5,6,7,8,9,10,11,12,13,14,15,16,17,18,19,20,21,22,23,24,25,26,27,28,29],\"y\":[0,0.9703779536492979,0.11053878120268212,1.2187597544465645,3.203483294274998,4.510622867794866,0.2887208187566541,6.139066256255699,2.2588621295122673,2.764445605355149,9.735843304571311,0.45158395191216116,3.5602927151350556,7.013844780592226,12.019169881413127,7.732188446692939,3.192884150001623,5.2537087186928275,5.697462782737426,7.546107886955488,17.327218474414735,7.27737292354171,18.51855293673694,22.986760268162346,8.003982384551213,7.1204323649582655,24.72811410440379,24.377004563554742,19.523101231242265,5.672311231986168]}]},{\"name\":\"series 40\",\"data\":[{\"name\":\"series 40\",\"type\":\"scatter\",\"mode\":\"markers\",\"x\":[0,1,2,3,4,5,6,7,8,9,10,11,12,13,14,15,16,17,18,19,20,21,22,23,24,25,26,27,28,29],\"y\":[0,0.8294928592022053,0.5010027373462247,2.5114902176214224,3.610857338340974,0.2097748585282161,3.225203979620924,4.81399482597651,5.684494079338095,0.6087409218316392,8.637695273070902,2.92951387991076,2.067883231892301,7.191215501213659,11.337564468072193,1.1454254135739301,0.6533018391269625,16.409647530438654,8.430671904651527,14.165669741599224,7.447137132620063,14.104594215974299,9.84177931758154,13.391684791764115,9.926024873407075,16.47794631680576,4.28173806432963,22.119657879877938,0.39502037881287366,22.50846135411449]}]},{\"name\":\"series 41\",\"data\":[{\"name\":\"series 41\",\"type\":\"scatter\",\"mode\":\"markers\",\"x\":[0,1,2,3,4,5,6,7,8,9,10,11,12,13,14,15,16,17,18,19,20,21,22,23,24,25,26,27,28,29],\"y\":[0,0.2748084304636109,0.834289734415326,2.7690217314515038,1.7594539413119406,0.12104081016067414,3.1693748940682847,0.38573605676001976,4.675323791490153,8.515861815610844,6.649643470282122,2.353541908467718,11.122539932369751,8.90871864370883,4.906874951233096,0.8209930479315486,12.542578530973925,11.11104176030397,16.72453318970286,9.514518495405005,12.212009228715164,3.901171495326468,14.406013147092668,5.121554626048205,6.975803398453444,21.385351288545852,11.20551240373155,16.56184248717576,0.01490926791915026,7.642655614825386]}]},{\"name\":\"series 42\",\"data\":[{\"name\":\"series 42\",\"type\":\"scatter\",\"mode\":\"markers\",\"x\":[0,1,2,3,4,5,6,7,8,9,10,11,12,13,14,15,16,17,18,19,20,21,22,23,24,25,26,27,28,29],\"y\":[0,0.810277691060366,1.073474656966013,0.9527781345545214,2.9825581677842674,0.5076718349903658,0.23801850874889996,0.9357703626154009,7.452507038599536,6.721759885405864,2.473572504624407,2.3680501289157165,0.33430891811203933,10.92507825365185,10.766571900162084,7.325441234297135,15.879239585258999,5.937826993804538,6.861331797922593,2.014481900846329,10.317072248248456,18.31824863844485,0.38401614514627314,15.519195579247732,12.524893769576959,24.500485422689824,24.684290113366817,18.904156514101874,14.569973648700365,6.442465508392939]}]},{\"name\":\"series 43\",\"data\":[{\"name\":\"series 43\",\"type\":\"scatter\",\"mode\":\"markers\",\"x\":[0,1,2,3,4,5,6,7,8,9,10,11,12,13,14,15,16,17,18,19,20,21,22,23,24,25,26,27,28,29],\"y\":[0,0.6017317782768691,0.553967311544961,0.051268896974929534,3.4319095878933545,3.0202661094748735,2.1352065859588802,4.725856218515396,0.37397135950569727,1.5865194876153783,8.379189172841718,8.240012491168386,2.013866940182073,6.009159314513122,12.89591553360767,11.322311678046352,2.006520140885856,5.442495009044422,3.035191420731145,1.113847358118492,8.342686988352938,3.6530173102028676,19.4898266076661,8.976842466479797,16.49109383123261,21.694053540004294,12.512244932201744,0.19914952298519806,25.219192646145974,3.1902673064966107]}]},{\"name\":\"series 44\",\"data\":[{\"name\":\"series 44\",\"type\":\"scatter\",\"mode\":\"markers\",\"x\":[0,1,2,3,4,5,6,7,8,9,10,11,12,13,14,15,16,17,18,19,20,21,22,23,24,25,26,27,28,29],\"y\":[0,0.010067599937646388,0.19058548602006198,2.6881867953090484,0.9442755148005402,3.4309237007525493,0.3027010542958446,3.5406288141948217,6.5468061214887445,0.4634502484746664,7.626568516388954,3.1575263613012012,4.30899523279337,12.26307514371212,4.370127771226066,6.8420730594725345,0.6308942309975087,2.104540733091639,10.159744898418833,10.903162012678612,0.18187387767902408,17.939319204396433,3.569523718534874,4.317276221229489,14.318769630352321,7.824018323095028,11.25296033389327,10.019411792215815,13.343601472912276,1.3432942649211352]}]},{\"name\":\"series 45\",\"data\":[{\"name\":\"series 45\",\"type\":\"scatter\",\"mode\":\"markers\",\"x\":[0,1,2,3,4,5,6,7,8,9,10,11,12,13,14,15,16,17,18,19,20,21,22,23,24,25,26,27,28,29],\"y\":[0,0.5350232564647239,1.0541623200876962,1.1005326652593914,2.6099344324670875,4.701482643959091,0.2764002113159496,1.6893270463818435,1.4274782560193486,7.159865628083249,5.84701798320609,8.236193257861101,7.520510915500898,8.985567348388809,12.663848618123227,9.444651974251876,3.373193355710468,6.626312181004157,8.41499863983612,15.15672868528037,2.6674088434091647,14.062071029905939,9.40009267091588,21.592900825870284,9.450981068498923,0.055959182883902336,7.9978995780727224,13.066713874078777,9.53877969335523,9.652160796470389]}]},{\"name\":\"series 46\",\"data\":[{\"name\":\"series 46\",\"type\":\"scatter\",\"mode\":\"markers\",\"x\":[0,1,2,3,4,5,6,7,8,9,10,11,12,13,14,15,16,17,18,19,20,21,22,23,24,25,26,27,28,29],\"y\":[0,0.31024871752368743,0.2898956177690082,0.38643235021353073,2.523176238489063,2.4869512650484116,0.6115146904880726,1.1413190659494667,1.392239102212712,3.122296434514732,5.576027629556468,2.27270378338638,2.9101082015326942,8.554434136567275,4.1855043369675275,13.79894219743816,5.483328446721261,16.07762188480787,8.058823287946359,14.285233147618568,14.952210940942594,18.607173207401665,5.5837426534400825,13.405920949567006,2.244639480726157,19.439246723742855,18.135796613941583,4.90540287112699,18.498794770026574,6.382930222259226]}]},{\"name\":\"series 47\",\"data\":[{\"name\":\"series 47\",\"type\":\"scatter\",\"mode\":\"markers\",\"x\":[0,1,2,3,4,5,6,7,8,9,10,11,12,13,14,15,16,17,18,19,20,21,22,23,24,25,26,27,28,29],\"y\":[0,0.2837459115108446,1.9917135524891756,1.584966859624177,3.1619189171738236,1.228140807394964,1.8838586218408286,4.354084262088769,2.2302141022058404,7.029778327357101,5.495242161388844,2.9084763135863243,8.18130973703925,3.1535259624245486,0.2830554813488313,8.344220259804585,15.891909786165513,4.696301310381559,7.413568654178834,10.179435440240923,7.986799439502404,9.428068739738597,4.332247705413362,13.397522637676376,20.811404988775717,15.564047972565392,17.12821005918099,2.1539558625278277,0.5467367598582635,12.583980656231924]}]},{\"name\":\"series 48\",\"data\":[{\"name\":\"series 48\",\"type\":\"scatter\",\"mode\":\"markers\",\"x\":[0,1,2,3,4,5,6,7,8,9,10,11,12,13,14,15,16,17,18,19,20,21,22,23,24,25,26,27,28,29],\"y\":[0,0.44909438369564414,1.7014739119583648,0.6841464709192413,2.6472081388280597,1.1970717883424775,5.473189012336933,1.3121055324930304,4.326999311402359,3.839500879341644,8.295629302593362,2.2295085565106447,4.95913377075832,5.9637781652453015,5.595570675610285,3.5521416547424876,8.672253615287486,14.770731207450048,1.0824907851012113,10.465319772726817,7.6297506162007345,9.854851997047868,4.931118670636763,4.0868133457079425,11.396656192515692,6.005135193251881,21.582935187307466,12.408835702443902,6.388918910398371,0.875860262732752]}]},{\"name\":\"series 49\",\"data\":[{\"name\":\"series 49\",\"type\":\"scatter\",\"mode\":\"markers\",\"x\":[0,1,2,3,4,5,6,7,8,9,10,11,12,13,14,15,16,17,18,19,20,21,22,23,24,25,26,27,28,29],\"y\":[0,0.29520502159928486,1.6004726406725298,0.29152262249411987,2.4494811149752134,4.921260664529651,5.819313881594497,2.3523837856679624,6.568713566633769,1.8090704366403378,1.204511547196313,8.391678697189601,2.7914484028391744,8.851752378523495,5.820232085086298,6.823161195348248,5.4675463605938965,11.254403414151948,14.988807138701054,12.964053556480945,16.400252649108037,20.741211103636616,21.192189346103213,9.436026881331804,2.4412792611699716,1.1679511721123887,10.413501695057665,18.817779744797743,15.688298730854981,11.745969273448443]}]}]\n",
       "var labels_AAj9sJ28UL = [\"series 0\",\"series 1\",\"series 2\",\"series 3\",\"series 4\",\"series 5\",\"series 6\",\"series 7\",\"series 8\",\"series 9\",\"series 10\",\"series 11\",\"series 12\",\"series 13\",\"series 14\",\"series 15\",\"series 16\",\"series 17\",\"series 18\",\"series 19\",\"series 20\",\"series 21\",\"series 22\",\"series 23\",\"series 24\",\"series 25\",\"series 26\",\"series 27\",\"series 28\",\"series 29\",\"series 30\",\"series 31\",\"series 32\",\"series 33\",\"series 34\",\"series 35\",\"series 36\",\"series 37\",\"series 38\",\"series 39\",\"series 40\",\"series 41\",\"series 42\",\"series 43\",\"series 44\",\"series 45\",\"series 46\",\"series 47\",\"series 48\",\"series 49\"]\n",
       "var duration_AAj9sJ28UL = 100\n",
       "var config_AAj9sJ28UL = {\"responsive\":true,\"scrollZoom\":true,\"displaylogo\":false}\n",
       "\n",
       "var animation_settings_AAj9sJ28UL = {\n",
       "    mode: \"immediate\",\n",
       "    direction: {},\n",
       "    fromcurrent: true,\n",
       "    frame: [\n",
       "      {duration: duration_AAj9sJ28UL},\n",
       "      {duration: duration_AAj9sJ28UL},\n",
       "      {redraw: true}\n",
       "    ],\n",
       "    transition: [\n",
       "      {duration: duration_AAj9sJ28UL, easing: 'cubic-in-out'},\n",
       "      {duration: duration_AAj9sJ28UL, easing: 'cubic-in-out'},\n",
       "    ],\n",
       "    ordering: \"layout first\"\n",
       "}\n",
       "\n",
       "var slider_AAj9sJ28UL = document.createElement(\"input\")\n",
       "var play_AAj9sJ28UL = document.getElementById(\"play_AAj9sJ28UL\")\n",
       "var pause_AAj9sJ28UL = document.getElementById(\"pause_AAj9sJ28UL\")\n",
       "slider_AAj9sJ28UL.id = \"slider_AAj9sJ28UL\"\n",
       "slider_AAj9sJ28UL.type = \"range\"\n",
       "slider_AAj9sJ28UL.min = 0\n",
       "slider_AAj9sJ28UL.max = frames_AAj9sJ28UL.length - 1\n",
       "slider_AAj9sJ28UL.value = 0\n",
       "document.getElementById(\"sliderContainer_AAj9sJ28UL\").appendChild(slider_AAj9sJ28UL);\n",
       "\n",
       "Plotly.newPlot(graph_AAj9sJ28UL, traces_AAj9sJ28UL, layout_AAj9sJ28UL, config_AAj9sJ28UL)\n",
       ".then(function () { Plotly.addFrames(graph_AAj9sJ28UL, frames_AAj9sJ28UL) })\n",
       "\n",
       "var trigger_AAj9sJ28UL = true\n",
       "var reset_count_AAj9sJ28UL = false\n",
       "\n",
       "play_AAj9sJ28UL.addEventListener('click', function() {\n",
       "   trigger_AAj9sJ28UL = true\n",
       "   if (reset_count_AAj9sJ28UL) {\n",
       "      slider_AAj9sJ28UL.value = 0\n",
       "      reset_count_AAj9sJ28UL = false\n",
       "   }\n",
       "\n",
       "  const start_index = slider_AAj9sJ28UL.value == labels_AAj9sJ28UL.length - 1 ? 0 : slider_AAj9sJ28UL.value\n",
       "  const end_index = labels_AAj9sJ28UL.length\n",
       "  Plotly.animate(graph_AAj9sJ28UL, labels_AAj9sJ28UL.slice(start_index, end_index), animation_settings_AAj9sJ28UL)\n",
       "})\n",
       "\n",
       "pause_AAj9sJ28UL.addEventListener('click', function() {\n",
       "  Plotly.animate(graph_AAj9sJ28UL, [null], animation_settings_AAj9sJ28UL)\n",
       "})\n",
       "\n",
       "graph_AAj9sJ28UL.on('plotly_redraw', () => {\n",
       "   value_AAj9sJ28UL.innerHTML = slider_AAj9sJ28UL.value;\n",
       "   if (trigger_AAj9sJ28UL & !reset_count_AAj9sJ28UL) ++slider_AAj9sJ28UL.value\n",
       "   if (slider_AAj9sJ28UL.value == labels_AAj9sJ28UL.length - 1) reset_count_AAj9sJ28UL = true\n",
       "});\n",
       "\n",
       "slider_AAj9sJ28UL.oninput = function() {\n",
       "   Plotly.animate(graph_AAj9sJ28UL, frames_AAj9sJ28UL[this.value], animation_settings_AAj9sJ28UL)\n",
       "   trigger_AAj9sJ28UL = false\n",
       "   slider_AAj9sJ28UL.value = this.value\n",
       "   value_AAj9sJ28UL.innerHTML = this.value;\n",
       "   if (this.value == 0) reset_count_AAj9sJ28UL = false\n",
       "   if (this.value == labels_AAj9sJ28UL.length - 1) reset_count_AAj9sJ28UL = true\n",
       "   reset_count_AAj9sJ28UL = false\n",
       "}\n",
       "</script> \n"
      ]
     },
     "metadata": {},
     "output_type": "display_data"
    }
   ],
   "source": [
    "val xaxis = XAxis(title = \"X Variable\") setLimits (0.0, 10.0)\n",
    "val yaxis = YAxis(title = \"Y Variable\") setLimits (0.0, 10.0)\n",
    "\n",
    "// we can also specifiy the underlying layout directly - sometimes this can be useful\n",
    "val layout = ChartLayout(\"Animation XY\") setAxes(xaxis, yaxis)\n",
    "\n",
    "val series = createXYSeries(numberToCreate = 50, length = 30)\n",
    "\n",
    "val chart = Chart(animated = true, transition_duration=100) setChartLayout layout addSeries series\n",
    "\n",
    "chart.plotInline"
   ]
  },
  {
   "cell_type": "markdown",
   "metadata": {},
   "source": [
    "### 3D Animated Chart"
   ]
  },
  {
   "cell_type": "code",
   "execution_count": 92,
   "metadata": {},
   "outputs": [
    {
     "data": {
      "text/html": [
       "<div id=\"grid-container_I2SQB7jI9X\" class=\"grid-container\" align=\"center\"> \n",
       "<div id=\"grid_I2SQB7jI9X\" class=\"grid\" align=\"center\"> \n",
       "\n",
       "<div align=\"center\">\n",
       "  <div id=\"graph_KyYJ1cuzec\" class=\"graph\"></div>\n",
       "  <div class=\"animationInterface\">\n",
       "    <button id=\"play_KyYJ1cuzec\" class=\"picta-button\">Play</button>\n",
       "    <button id=\"pause_KyYJ1cuzec\" class=\"picta-button\">Pause</button>\n",
       "    <div id=\"sliderContainer_KyYJ1cuzec\" class=\"progressBar\"></div>\n",
       "    <div id=\"counterContainer_KyYJ1cuzec\" class=\"inline-div\">\n",
       "        <h3>Frame: </h3> <h3 id=\"value_KyYJ1cuzec\">0</h3>\n",
       "    </div>\n",
       "   </div>\n",
       "</div> \n",
       "\n",
       "</div> \n",
       "</div> \n",
       "<script>\n",
       "var masonry = new Macy({\n",
       "    container: '#grid_I2SQB7jI9X',\n",
       "    debug: true,\n",
       "    mobileFirst: true,\n",
       "    columns: 1,\n",
       "    margin: {\n",
       "        x: 0,\n",
       "        y: 0\n",
       "    }\n",
       "  });\n",
       "\n",
       "var graph_KyYJ1cuzec = document.getElementById('graph_KyYJ1cuzec')\n",
       "var traces_KyYJ1cuzec = [{\"name\":\"series 0\",\"type\":\"scatter3d\",\"mode\":\"markers\",\"x\":[0,1,2,3,4,5,6,7,8,9,10,11,12,13,14,15,16,17,18,19,20,21,22,23,24,25,26,27,28,29,30,31,32,33,34,35,36,37,38,39,40,41,42,43,44,45,46,47,48,49,50,51,52,53,54,55,56,57,58,59,60,61,62,63,64,65,66,67,68,69,70,71,72,73,74,75,76,77,78,79,80,81,82,83,84,85,86,87,88,89,90,91,92,93,94,95,96,97,98,99],\"y\":[0,0.007014475995824054,1.292034130922178,1.5006637850061169,1.8893360300958344,0.1799869679647348,4.332614598166173,3.1419709528232254,0.1601868319447144,7.653315280467912,9.316176082329038,10.323866168392412,7.9543224291821195,1.700990306692082,7.653923188426027,14.83156061688581,15.654983758549005,7.216562589663399,11.666341553651405,1.3825960543076097,11.513728007227343,0.79918418602132,3.4391446414442797,20.39450360152724,16.832550990973903,5.43297683364905,14.069996965104108,19.263374206058092,23.226528364384727,4.0773313877031745,19.159388068783453,0.016370945522997893,19.278372502463746,9.565826319306506,10.101176067986017,4.791036954743428,8.576930754042499,26.123565358152018,0.9500098885077488,7.141139673497368,36.95688727355754,19.806859165616682,17.63404087080138,20.922692895884214,33.97662668932254,27.49537220142134,42.29207390713159,32.724735423304566,30.535478446138768,45.975030387050055,16.79459813820997,34.72741934266205,23.29037690540528,31.39025647943544,38.30792600427095,13.744957186988671,43.435250218920096,38.16631804884504,14.330001219034235,22.293000467996887,58.704343219823315,23.65691490321004,31.215334397341767,53.05910907886355,43.40303167861402,11.508444061893695,33.06487695450522,53.401027455719756,18.106620296488487,26.300711503567943,13.234612097846467,58.70064738475538,58.64904566207987,24.674314417543634,36.86409513696803,33.811666288554086,5.399392591881707,47.137271599955305,19.993148419063804,69.70614038781237,14.844653687954086,5.307974119752731,33.27144994589119,6.999384182579713,36.41214791973924,22.748007288955563,24.221827233993192,70.56385131108703,42.52465192597751,42.01689183842309,17.743630978245054,34.180980260806805,63.33537572153378,1.3913684507893858,20.287688979274368,32.37527298591995,45.688493934225306,51.08438809329614,77.14897945908201,19.477191627187334],\"z\":[0,3.932248574785737E7,9.93421098751031E8,1.2491952636490278E9,2.3612773798422804E9,-8.582195517135272E9,5.96609783057945E9,2.9217734616775054E7,7.795087155852944E9,3.706396818720724E9,-7.184600407737993E8,1.424632786480639E10,7.946415922139374E9,-2.266496935376325E10,2.906067795362062E9,8.379248768149412E9,2.7071796340886696E10,3.660097045031534E8,-7.02863633475853E8,-2.9314374660746894E9,4.1463362225268803E9,-3.231691277814497E9,-2.4724796181139427E10,6.52806286897552E9,-2.5346318700144405E9,-1.6863656833094704E9,-9.981889373237653E8,-3.0744797964247336E9,-3.3529142639286846E10,-2.377271712860108E10,3.2143350148324646E10,-7.0600628230077095E9,1.3532463777650543E10,-2.626431643533836E9,-1.6788228008535995E10,-1.2118715662877811E10,6.2227747160214554E10,-7.151062001770941E9,-4.115946185776157E10,2.175464730989515E10,-3.804027834765906E9,-1.1016613590848112E9,-7.623128375078304E8,-5.261048011006077E9,8.912732925949623E10,3.49204663687339E10,3.464875049225501E10,7.155538840207346E9,9.975958048357801E9,-2.0593639273078926E10,-5.969605197624314E9,2.82906763629397E10,3.4026338381165245E10,1.003621469186986E10,1.1786664485843714E10,-3.747795654992345E10,-9.841321919860487E9,3.578234627833091E10,-1.204000894467536E10,7.595264264520314E10,-3.657072641903581E10,-3.143569697711502E10,-4.417650946217876E9,-2.58976282266537E10,-3.167291609968596E10,-2.846679901950814E10,-7.184015102617224E8,1.2994659832445905E11,1.4874645885490822E10,-8.087271512131629E8,4.1286930550729847E9,-2.7608782321738403E10,2.129970735386062E10,1.3718367828038046E9,-1.8831959245708553E10,-2.745407361713259E10,-8.877203453447905E9,1.965471224549751E10,5.96576217394594E9,-6.553046090036294E9,1.0541423262514214E11,2.1358290522303345E10,-1.8632936016445442E10,2.6459786074016636E10,3.895731575407292E9,-9.974487738910765E9,1.6019768926168379E10,-3.814142643522603E9,2.4083731450467888E10,9.977918359673381E10,1.3660029722627884E10,-4.208126458444265E10,-8.572146316802676E10,-8.390659764399342E10,1.1904736211260915E11,-6.5446218127991905E10,-1.2361838829666179E11,2.385231765828649E10,6.392977431426607E10,-1.3635191418540746E11]}]\n",
       "var layout_KyYJ1cuzec = {\"height\":550,\"width\":600,\"hovermode\":\"closest\",\"legend\":{\"orientation\":\"v\"},\"title\":{\"text\":\"Animation 3D\"},\"showlegend\":true}\n",
       "var frames_KyYJ1cuzec = [{\"name\":\"series 0\",\"data\":[{\"name\":\"series 0\",\"type\":\"scatter3d\",\"mode\":\"markers\",\"x\":[0,1,2,3,4,5,6,7,8,9,10,11,12,13,14,15,16,17,18,19,20,21,22,23,24,25,26,27,28,29,30,31,32,33,34,35,36,37,38,39,40,41,42,43,44,45,46,47,48,49,50,51,52,53,54,55,56,57,58,59,60,61,62,63,64,65,66,67,68,69,70,71,72,73,74,75,76,77,78,79,80,81,82,83,84,85,86,87,88,89,90,91,92,93,94,95,96,97,98,99],\"y\":[0,0.007014475995824054,1.292034130922178,1.5006637850061169,1.8893360300958344,0.1799869679647348,4.332614598166173,3.1419709528232254,0.1601868319447144,7.653315280467912,9.316176082329038,10.323866168392412,7.9543224291821195,1.700990306692082,7.653923188426027,14.83156061688581,15.654983758549005,7.216562589663399,11.666341553651405,1.3825960543076097,11.513728007227343,0.79918418602132,3.4391446414442797,20.39450360152724,16.832550990973903,5.43297683364905,14.069996965104108,19.263374206058092,23.226528364384727,4.0773313877031745,19.159388068783453,0.016370945522997893,19.278372502463746,9.565826319306506,10.101176067986017,4.791036954743428,8.576930754042499,26.123565358152018,0.9500098885077488,7.141139673497368,36.95688727355754,19.806859165616682,17.63404087080138,20.922692895884214,33.97662668932254,27.49537220142134,42.29207390713159,32.724735423304566,30.535478446138768,45.975030387050055,16.79459813820997,34.72741934266205,23.29037690540528,31.39025647943544,38.30792600427095,13.744957186988671,43.435250218920096,38.16631804884504,14.330001219034235,22.293000467996887,58.704343219823315,23.65691490321004,31.215334397341767,53.05910907886355,43.40303167861402,11.508444061893695,33.06487695450522,53.401027455719756,18.106620296488487,26.300711503567943,13.234612097846467,58.70064738475538,58.64904566207987,24.674314417543634,36.86409513696803,33.811666288554086,5.399392591881707,47.137271599955305,19.993148419063804,69.70614038781237,14.844653687954086,5.307974119752731,33.27144994589119,6.999384182579713,36.41214791973924,22.748007288955563,24.221827233993192,70.56385131108703,42.52465192597751,42.01689183842309,17.743630978245054,34.180980260806805,63.33537572153378,1.3913684507893858,20.287688979274368,32.37527298591995,45.688493934225306,51.08438809329614,77.14897945908201,19.477191627187334],\"z\":[0,3.932248574785737E7,9.93421098751031E8,1.2491952636490278E9,2.3612773798422804E9,-8.582195517135272E9,5.96609783057945E9,2.9217734616775054E7,7.795087155852944E9,3.706396818720724E9,-7.184600407737993E8,1.424632786480639E10,7.946415922139374E9,-2.266496935376325E10,2.906067795362062E9,8.379248768149412E9,2.7071796340886696E10,3.660097045031534E8,-7.02863633475853E8,-2.9314374660746894E9,4.1463362225268803E9,-3.231691277814497E9,-2.4724796181139427E10,6.52806286897552E9,-2.5346318700144405E9,-1.6863656833094704E9,-9.981889373237653E8,-3.0744797964247336E9,-3.3529142639286846E10,-2.377271712860108E10,3.2143350148324646E10,-7.0600628230077095E9,1.3532463777650543E10,-2.626431643533836E9,-1.6788228008535995E10,-1.2118715662877811E10,6.2227747160214554E10,-7.151062001770941E9,-4.115946185776157E10,2.175464730989515E10,-3.804027834765906E9,-1.1016613590848112E9,-7.623128375078304E8,-5.261048011006077E9,8.912732925949623E10,3.49204663687339E10,3.464875049225501E10,7.155538840207346E9,9.975958048357801E9,-2.0593639273078926E10,-5.969605197624314E9,2.82906763629397E10,3.4026338381165245E10,1.003621469186986E10,1.1786664485843714E10,-3.747795654992345E10,-9.841321919860487E9,3.578234627833091E10,-1.204000894467536E10,7.595264264520314E10,-3.657072641903581E10,-3.143569697711502E10,-4.417650946217876E9,-2.58976282266537E10,-3.167291609968596E10,-2.846679901950814E10,-7.184015102617224E8,1.2994659832445905E11,1.4874645885490822E10,-8.087271512131629E8,4.1286930550729847E9,-2.7608782321738403E10,2.129970735386062E10,1.3718367828038046E9,-1.8831959245708553E10,-2.745407361713259E10,-8.877203453447905E9,1.965471224549751E10,5.96576217394594E9,-6.553046090036294E9,1.0541423262514214E11,2.1358290522303345E10,-1.8632936016445442E10,2.6459786074016636E10,3.895731575407292E9,-9.974487738910765E9,1.6019768926168379E10,-3.814142643522603E9,2.4083731450467888E10,9.977918359673381E10,1.3660029722627884E10,-4.208126458444265E10,-8.572146316802676E10,-8.390659764399342E10,1.1904736211260915E11,-6.5446218127991905E10,-1.2361838829666179E11,2.385231765828649E10,6.392977431426607E10,-1.3635191418540746E11]}]},{\"name\":\"series 1\",\"data\":[{\"name\":\"series 1\",\"type\":\"scatter3d\",\"mode\":\"markers\",\"x\":[0,1,2,3,4,5,6,7,8,9,10,11,12,13,14,15,16,17,18,19,20,21,22,23,24,25,26,27,28,29,30,31,32,33,34,35,36,37,38,39,40,41,42,43,44,45,46,47,48,49,50,51,52,53,54,55,56,57,58,59,60,61,62,63,64,65,66,67,68,69,70,71,72,73,74,75,76,77,78,79,80,81,82,83,84,85,86,87,88,89,90,91,92,93,94,95,96,97,98,99],\"y\":[0,0.04214167015610826,1.085272673551821,2.3551024482665195,3.3322267868679454,0.16909872803697268,2.914226621638014,1.2519287047213563,4.589031133746298,6.446930542183495,4.69873657908347,1.8623695811489687,1.9448836489322412,5.713770856143043,10.91887952987302,2.5746377544496517,11.061545411947257,16.644068110391743,9.129004780399454,7.749835092159608,18.128967589813772,8.117142217732825,12.583491691315013,18.01410277771489,3.016224150444982,1.5507072165401592,16.89687791203055,25.847363665129024,20.91899718308932,13.688777988171605,19.703003179379607,9.948793633749254,14.191885225066425,16.069717784560385,30.026830073749952,25.136519618427165,10.31260510884202,10.031024459351055,36.41366306741042,30.835903525144804,13.390964287097136,0.8828717789293805,24.02357214300126,32.777175640493496,29.558339637683424,28.052307311301494,13.143948250697546,15.609136828290852,23.203284187803387,22.8145055602633,41.150241401410625,4.9910982483833966,27.605794271178794,12.936410694468087,51.104172958526206,32.60022479017191,16.316708030928304,32.411663669188016,23.16983031190345,34.63601737456827,6.879702321361949,35.71373017155101,26.101397652115534,49.06766378979843,62.45132813864393,40.88671433812209,1.4614717048655048,25.30366166351456,53.78961421677088,8.580497596951426,39.21625079875656,26.41616946183348,58.20378233402188,42.06842377470408,10.17322237889196,34.77525511136169,21.636769171981026,38.61196993964197,0.6283162285890134,59.19035318240732,41.33834396189761,47.507514310711535,39.822938435848755,19.667995507353627,25.829799340701815,16.015581394102373,69.62666009860038,16.9261109811309,10.311384241001257,47.382662823416034,4.508877911037473,13.105972476296078,43.570862957284135,56.570057371452144,38.59216867007863,3.9432059728204605,67.06584917455316,79.35297061779654,21.641663707431167,80.24905464059972],\"z\":[0,2.902066648366483E8,-5.874169936121968E8,-3.621820594223572E7,1.078662803227519E9,-6.533627985337304E9,7.316829601978416E9,-2.7367861373082232E9,4.410162424799593E8,5.250950161716513E9,1.897292664945175E7,1.0408427514770206E9,-2.975595118989996E9,-5.18530592844267E9,-1.174960317144885E8,1.9848727113414787E10,-6.795515997496613E9,6.623548076938734E9,-2.1643102467564617E10,-3.692942828254717E10,1.2287900228574936E8,-3.3491731956609535E9,1.57122433865608E10,2.8685193107123978E10,4.784222006473481E9,2.0538971858861468E9,5.944581976833763E9,-2.2488268680795525E10,-7.921965542331209E9,3.930212571988464E10,-2.636235720590976E10,2.3108125257642546E9,3.5958584732015236E10,1.9616037007781353E10,9.204885258672225E8,-1.6492717954122512E9,3.0563585969581673E10,-3.66828705341634E10,4.025478922008872E9,1.4245278133561302E10,4.062954781350071E10,-8.852809418376637E9,-4.1840167759815664E9,-3.813655664827848E10,6.955710155168617E10,-2.386028416194064E10,3.090535434306653E9,3.3670930947906685E10,7.28813607258165E10,5.189270787144834E10,-5.659697895129047E10,-3.135386463830424E10,-8.507292834685901E8,-3.176531701945774E10,6.720035023774173E10,4.7665617156047165E10,1.4830935885486652E10,-4.2920409124072266E10,-1.7298251388447365E10,-1.4521682604002838E10,-1.1363412905932186E9,-9.523495159597095E9,4.5070775893734184E10,8.631154852843286E10,2.5769162491644093E10,-7.13118503361211E10,-7.406508744520352E9,-4.121480609164529E10,2.8363927665120087E9,1.5601604296985994E10,3.5000548445825014E9,-1.1140045229489954E11,-1.0056697624421889E11,1.7542495135627728E9,-6.776982316067493E10,-8.306801950006401E10,4.714239165845681E10,1.1122618753560526E10,-4.0451829236642845E10,8.471403343855528E8,1.0141179500632832E10,2.139783236437803E10,2.147163901536436E10,2.3628769976702335E10,1.0999905865007312E11,4.381598902139003E10,-3.819596415503979E10,-5.007388596355286E10,-2.105855537512204E10,-4.535157625588433E10,6.058233630472051E10,9.011370866449415E9,-3.3402732726060284E10,7.619382541815575E10,8.11290089998133E10,-6.473899110718074E10,-8.718296893578668E10,2.9532418498379673E10,-1.4036915289728878E10,-2.4450868844565697E10]}]},{\"name\":\"series 2\",\"data\":[{\"name\":\"series 2\",\"type\":\"scatter3d\",\"mode\":\"markers\",\"x\":[0,1,2,3,4,5,6,7,8,9,10,11,12,13,14,15,16,17,18,19,20,21,22,23,24,25,26,27,28,29,30,31,32,33,34,35,36,37,38,39,40,41,42,43,44,45,46,47,48,49,50,51,52,53,54,55,56,57,58,59,60,61,62,63,64,65,66,67,68,69,70,71,72,73,74,75,76,77,78,79,80,81,82,83,84,85,86,87,88,89,90,91,92,93,94,95,96,97,98,99],\"y\":[0,0.2895507479278747,1.0237885714539094,1.8427568665055598,2.0377579346518067,4.471244815444434,4.853380153248059,3.16819675339502,5.721187079573428,2.2437575972372064,0.17058714721161716,8.86937414942151,1.0422799952310364,11.163205906849775,12.458966258415124,6.88277308707254,11.969168865320997,13.862944082365724,10.708144659606798,15.402749192518813,12.848517682842427,5.28057222418918,20.902670862317677,3.5980568829175112,21.847162848383327,0.19438935666603596,10.416316233233019,26.87712615104957,14.574335841220396,0.2178269477824596,25.281280694388737,29.911671275895298,27.093187846384698,4.292990148989038,7.847675668438333,4.593043438855947,23.61726084787592,22.574024546973245,33.53906708380935,36.1426266247247,16.54397370730046,4.64768195657047,22.49483811784435,41.976479550167404,39.35319019923813,30.552131493323518,23.11960602742486,19.885352712562945,40.54442264031335,32.27574661888933,36.18397158931888,6.884194710384676,43.45129584878349,33.595354482106586,6.389422972114892,18.960256895695068,28.706413858541477,2.4981992493157383,23.47329097007925,51.15592980833046,9.583937270065503,56.27363388012704,29.237294542559557,1.2115058662545382,55.670764620313754,45.90943970060809,30.58535143418353,51.61417955437079,43.560381996163116,37.93348551956719,68.00299005917086,31.602690697040934,28.776168478195135,70.55433692435885,8.151954470959723,38.712188919121026,23.163146753888405,69.12438539420093,62.639282953716396,50.06108749720399,52.78890293845991,40.8259487304992,24.800462736170203,5.030881899524843,37.2157779325573,6.314865625524611,70.76102979131255,9.521172095162466,66.09711474128379,40.09704380194465,16.360341783986996,0.8253907852101157,39.66085608169894,25.911518952256333,47.98512127945956,82.6180840454998,76.0235101087415,20.598632016968306,41.21873250351917,5.821878804150178],\"z\":[0,-1.3072201840680215E8,7.067991376074495E8,2.341216506126098E7,-3.2576420459767E9,1.1695817427618617E7,5.54879911745867E9,3.0003502725797877E9,1.1564338742840343E9,7.869058521163918E9,3.130839829664243E9,-6.015789463201896E9,1.739041148500444E8,-2.122642575203319E10,7.309973909097599E9,1.055258188505741E10,7.943733864260074E9,-9.233454093708067E9,-2.140486210961081E10,-2.23594127999485E9,6.1758667709817E9,-8.646737895100868E9,-5.551142105537786E9,2.056164909508884E10,-1.840126999561281E10,1.0883938633108823E9,8.587519109786051E9,-2.431805335079627E10,-5.823295086520183E9,-1.2119008850900707E10,-1.679176177487904E8,-5.310705929917754E10,4.1213663904070946E10,4.481246619460003E10,5.883280132627556E10,2.3536794825765594E10,-7.365142622938516E10,1.4552516246468021E10,-6.854156243161151E9,-4.5936065274631836E10,2.370399517118588E10,5.213599077204261E9,-3.048998784752061E10,-3.597883211819082E9,1.1140160421226717E10,-4.438569715244208E10,4.420295584724062E10,-1.01333723355294E9,-4.508451341670519E10,-1.117019986713832E10,8.600396893222427E10,-2.039427875144289E10,-9.459207625143082E10,6.873130901258619E9,-1.0944842938039719E10,-2.357796272625153E10,-7.488938828031696E9,1.575951756927747E10,4.043446386534038E10,1.147294572946507E9,6.587896550707769E9,4.734223698668871E10,-2.5626644682119545E10,2.3646660566298878E10,1.2266456922959305E11,-6.326324425524862E10,-6.464319697888217E10,-1.062237562247082E11,-6.527079539353918E10,-7.8983100471187935E9,6.318673108416599E10,6.638679219709533E9,2.901675149205263E10,2.1112327172549324E10,-1.2180537503619357E11,1.656458682190583E8,-1.1398286285951445E11,-2.6738825531456513E9,-9.20142629897111E10,4.126494258487204E10,-2.337713446044281E10,-7.7375810040383E10,3.836272335134814E8,-6.3722155005078156E10,-1.3331355582051352E11,2.29421858652421E10,-9.782529760642697E10,1.3156723462106448E11,8.240754155495576E10,-1.0881781714910081E11,-4.6526037568056496E10,-2.2460594622503204E10,-6.6720999685023026E10,-1.7777481397786346E11,-9.699696865645216E10,-5.3534472228149704E10,7.96605666262482E10,2.203104174301921E10,9.320034447314285E10,-2.315396116666008E10]}]},{\"name\":\"series 3\",\"data\":[{\"name\":\"series 3\",\"type\":\"scatter3d\",\"mode\":\"markers\",\"x\":[0,1,2,3,4,5,6,7,8,9,10,11,12,13,14,15,16,17,18,19,20,21,22,23,24,25,26,27,28,29,30,31,32,33,34,35,36,37,38,39,40,41,42,43,44,45,46,47,48,49,50,51,52,53,54,55,56,57,58,59,60,61,62,63,64,65,66,67,68,69,70,71,72,73,74,75,76,77,78,79,80,81,82,83,84,85,86,87,88,89,90,91,92,93,94,95,96,97,98,99],\"y\":[0,0.10120438221376782,1.9983657674580628,1.9929641689022821,0.8128516215015753,1.6741466695545015,1.3982733144599921,5.622696082452703,7.87649784464352,7.69914748756432,1.5606897806651743,1.8452735445415382,5.550865996973879,6.369017904899459,4.978421291289298,12.469232333018825,9.969895554287808,4.96994052893452,16.761051946328536,6.961588022142766,17.309097042738124,15.388401203096327,12.846852382426883,5.089522289619226,18.031759779831294,0.3454680638949825,23.2841219101527,16.609752666686518,22.762899506706837,10.01275670184002,21.309170258284354,10.416268439054884,21.52303965876227,11.213248799420587,0.040935226739923225,8.209462019104587,14.218969209364737,15.978488698822158,27.412021854499976,20.546567036691005,32.78567697769152,15.071578599708612,38.71279989018753,10.32470732222982,26.452779427774043,16.442804605480287,39.08904717246064,12.583807338573505,39.51987099351963,24.71169532047801,41.75454048261323,27.247090872729732,18.01841595135312,13.915778541308145,27.8079141884489,39.29187061947525,27.962977532467463,51.18233917992687,20.62806982487431,47.11288525393491,19.801802347723317,32.915002055687914,30.1144279528811,34.75450239927048,25.41606419001203,28.792078003034405,37.787293432723125,38.49668234741281,67.83831694952077,58.59817487795007,59.21972638200222,17.232730927506864,58.01408292997851,20.904766072396626,29.685331678226277,20.424543271700184,9.665788518360937,73.1290283303125,46.52653554398499,3.4131938299757976,28.885698930407344,0.7835190651062337,57.825064624413855,7.749481554563597,67.73388706506921,26.031938402223766,83.74049913972011,34.24025988483514,57.098726759701215,81.23855741758857,80.62399828361546,9.832181254766153,75.64087664344582,44.290602106880584,76.96256918850237,52.52479977055676,43.03721020492392,7.334305619595471,94.61443154059454,96.46979643620836],\"z\":[0,7.122400554413147E8,-2.4700274877773376E9,1.520021478670161E7,1.0492556567460507E8,-2.810800528431469E9,-2.4139207117012763E9,5.669079309483172E8,-7.684826623547153E7,1.0740940296172396E10,-2.7286356864613247E9,-8.474032047872595E7,7.896907818819905E9,1.855741949445689E10,-5.380912135261082E9,-9.904342164507923E9,1.3058658061076532E10,-6.95884218551151E9,8.488580951523721E9,-2.4465375337928905E10,-1.6856011468403156E10,-1.1000322371222787E7,8.412762332640006E7,-2.0530866511904344E8,-9.18882097429897E7,1.0150582211679436E10,-5.8304521860791445E9,-2.3514938927108116E9,-3.9355132746882534E9,7.695706704601995E8,-5.445441742936398E8,-2.1786207549259907E10,1.3304898125707432E10,2.189338132706164E10,-1.0635303097401052E10,-4.2960071545952835E10,-3.1078059556772964E10,-3.020612593040307E10,4.811758647300538E10,-3.571227455775966E9,-3.4944738227730384E9,6.806512940208393E10,-2.8510923285323383E10,-9.28062827764197E9,4.711996453930205E9,4.834134105192618E10,1.020955238924219E10,-2.2792025664099342E10,3.0040917762277954E10,-1.6775252523528646E10,1.1613373183701845E10,-1.0720974622339336E10,4.2352526786185575E9,1.1968083204621416E10,2.3710647746660408E10,1.7978892999230735E9,-1.1858790611060095E10,4.918383948548019E9,3.297343356411068E10,5.901730341608109E10,-5.172472821411004E10,-8.910722347504425E10,6.304636115077717E8,-4.792268159914484E10,-4.4070868101349724E10,1.6910759846049826E10,5.493504915588357E10,-1.4100492756677135E10,5.7452671511744804E10,-7.324843367747346E10,-8.466606772617802E10,-6.5668480351961266E10,8.142747770123851E10,1.9161067702533554E10,3.4784377560425735E10,-5.89846650628808E10,-1.4806225816465767E10,1.993527143044203E10,2.270063210258133E10,-3.622797944707796E8,4.567011239410369E9,-7.314704081989778E9,-2.5066523658707798E10,-9.083155987242894E10,2.0294947927383552E9,-9.21849048918293E10,-5.3085506123593346E10,-9.11412800685732E8,1.2066031663478981E10,-3.589826499427751E10,-4.93282001458387E10,4.072709607446113E10,2.5946657734113884E9,3.4267699216976704E10,-4.3130857106686944E8,1.3635854637712585E11,1.503878980861291E11,-3.803635598390433E10,6.185060466362954E10,-5.0964067467155427E8]}]},{\"name\":\"series 4\",\"data\":[{\"name\":\"series 4\",\"type\":\"scatter3d\",\"mode\":\"markers\",\"x\":[0,1,2,3,4,5,6,7,8,9,10,11,12,13,14,15,16,17,18,19,20,21,22,23,24,25,26,27,28,29,30,31,32,33,34,35,36,37,38,39,40,41,42,43,44,45,46,47,48,49,50,51,52,53,54,55,56,57,58,59,60,61,62,63,64,65,66,67,68,69,70,71,72,73,74,75,76,77,78,79,80,81,82,83,84,85,86,87,88,89,90,91,92,93,94,95,96,97,98,99],\"y\":[0,0.20630412657857344,1.3794518788306043,2.3228880961645952,1.086065100699166,0.9968503161608328,2.827246954454096,6.652828882091274,3.6350490762502554,1.3917748615484709,3.153412965044243,0.7198449616867253,3.761799383124043,12.454288690497501,2.797272728846605,7.332505733181633,0.6068348278816114,10.717559883477731,5.367018253907136,9.953046274677687,15.787025899245037,12.672414472676975,18.23281545211189,13.916935566128146,12.644638248106785,2.4961736579276472,25.32103338594649,23.522968660287855,19.813884221601707,6.138820228065311,1.9568665349965586,10.186729132855584,24.972760385947016,28.58776383244718,19.99227342868869,26.190128432960673,7.141118477977352,13.919584953767771,2.6153261088774817,30.106579654147648,5.773600278002844,27.86627881806431,24.41578920432129,18.985289514616596,12.428308755349004,31.32468709906841,19.72996226320025,24.08909008122968,30.218834579122074,21.77101646236407,27.255641988403127,23.648177168822635,3.828545445469063,37.15757008404636,15.66529458257357,3.9671490995321563,8.83188168756418,0.8160942189332407,35.70244295095873,46.554766855598196,29.677727209850232,50.421419898943405,1.272580800508897,57.98489390547358,37.194832269916084,20.430424453670973,21.585841351863575,53.19320380243987,57.12866874417939,20.854706029657518,4.72410660232269,48.117344949276834,31.26302961465791,20.000717396450668,14.340149268695203,15.248408455013942,58.3682018288009,5.16856183222584,69.80094358826473,35.028751926355355,49.8004847967234,25.490110443706424,44.21128045400697,49.355426115110504,46.30544947504854,6.358539404109596,12.647368001161182,36.97971801596494,44.699310834462274,33.50495618499802,30.843202387828928,23.581593557381765,61.86946798639976,55.96331196080168,40.75512062998582,27.99315962045844,9.196354480905114,70.18233328843384,12.132051398742263,46.69755639024582],\"z\":[0,-4.0785464952240634E8,2.2890220982110224E9,-2.475261249494818E9,1.0655455728931863E9,3.824610017830187E9,-4.098751893793273E9,-4.110187610995421E8,4.879471293292397E9,-4.32486495947956E9,9.367705904246021E9,8.777781186765305E8,6.594162033806978E9,5.13911227326709E9,5.437301321018976E9,1.0418379540998873E10,5.506690375948768E9,7.915912099371175E9,1.4362655086445614E10,-8.290611166817652E8,-2.1151695969385735E10,1.5612434926149136E10,4.522375629366439E10,2.875519873056684E8,7.838271051384793E9,-1.0439580398392908E10,-1.5521172299021948E10,2.1139747588465797E10,-8.604331018823843E9,9.957586028891672E9,3.678176862378392E10,1.3275170200607417E9,1.6398312521375628E10,-4.220517157151243E9,5.680394742360288E10,2.7066586636427164E9,1.3335743114657977E9,6.8265413220284605E9,3.6116017086549835E10,3.494477268149779E10,5.06200404857636E9,7.53035040780254E10,-1.93133790532973E10,-2.665826780562882E9,6.1767770941601456E10,-8.63426250510287E9,-5.1791566381516045E10,2.2009314929103493E10,5.099540103090298E9,9.806208926418631E8,-1.1044348062446611E10,1.1646986233141665E10,-1.2096211862457E9,-5.929486338344767E10,-4.932835892396926E10,-1.8557091469629164E9,3.3798449242757688E9,-1.741762138931158E10,-2.130188791572136E9,-3.481155397584014E10,-1.7555174719074364E10,4.825566760286141E10,1.9509301628451744E10,1.0656875925706313E11,-1.850316969212146E10,1.073261995758013E11,-5.3919572799364334E10,-3.8854343529535007E9,1.077850530579336E10,-2.227455686154635E8,8.044980283786969E10,2.5444017674931095E10,3.1064452916594227E10,2.0858936484976543E10,1.7934090206551826E10,1.055943060318179E10,7.319918724383003E10,6.591576084642194E9,-5.173556261819389E10,7.432071013770128E10,1.4721630475316782E10,2.378549915494668E10,-1.600868997524077E10,2.3797393060412525E10,1.3535351120540695E10,7.521194564395282E10,4.8472312033483475E10,-1.2466478003333495E9,-3.2065230636446366E9,-8.189606432141956E10,2.1104401698055424E10,4.507132914737247E10,2.037484921452348E10,7.039405017853143E10,4.553271781790887E10,-1.2680424755834685E11,1.2199654892228111E11,2.0646328633989615E9,9.404965318466495E10,9.563358761663669E10]}]},{\"name\":\"series 5\",\"data\":[{\"name\":\"series 5\",\"type\":\"scatter3d\",\"mode\":\"markers\",\"x\":[0,1,2,3,4,5,6,7,8,9,10,11,12,13,14,15,16,17,18,19,20,21,22,23,24,25,26,27,28,29,30,31,32,33,34,35,36,37,38,39,40,41,42,43,44,45,46,47,48,49,50,51,52,53,54,55,56,57,58,59,60,61,62,63,64,65,66,67,68,69,70,71,72,73,74,75,76,77,78,79,80,81,82,83,84,85,86,87,88,89,90,91,92,93,94,95,96,97,98,99],\"y\":[0,0.4438404417543078,0.2082535417379543,2.367375945198438,2.1044789312574688,4.686957205122654,1.0150415148153749,6.134137844363883,5.2158011455799995,6.5472198037616085,4.2055886307365995,7.528836669610525,10.249780707184721,5.282444309689362,6.769140586514734,14.623257702512333,2.585177827245843,14.665066483014641,4.472579768204557,1.107907000462553,8.763578583859218,4.102945743735963,0.8733070221779795,22.058416268865003,19.54215704592351,6.305322349981318,20.6668336976094,5.843251827852592,14.410192260451282,19.88739292422206,10.058090807648606,16.58816925837288,28.544489131475874,17.6683199812724,10.281987428309487,6.640208509525369,24.250126950333936,31.923323845676013,18.667300846677776,26.770890447804376,31.461282914252727,36.75091948723817,4.988569674893387,29.674699632294377,28.112234854670646,21.26127098695853,1.5332825792821803,29.904843962720467,19.381030216218754,14.731084507048434,49.57628978409241,38.993785257299464,35.20770470265135,38.45446426086582,49.05006170622279,29.381016211374522,48.34540940176058,11.99764622182982,24.37811985193183,30.165080349788543,46.766255625965584,44.18859295466422,11.949708071424821,53.86093577765404,16.764209929074468,37.69000051859464,9.806546861228567,31.527293105050923,0.8249009248920567,2.6663754301739426,14.037316665777889,53.081744975439314,37.516776381766775,13.112488869168741,9.382362531405821,41.59413095633393,51.549656153300006,8.111680665604188,73.88995309116352,65.09075325404257,46.99532987326178,44.8881963892435,43.38636338194516,52.163822585394286,15.720567220181929,32.257951719059534,15.274943751397963,10.71172532395849,44.595535657788844,14.216930710077648,59.014325445542816,9.686491366831318,71.26041363055877,38.185664481984965,38.7928889766928,23.045165336016506,13.409691984329438,47.10211032980022,78.66564549634977,17.441635108463032],\"z\":[0,-5.386008317971605E7,-3.4474750539926567E9,-1.197302350841679E9,-3.5977828363970356E9,-2.3724199230087E9,6.287940906528153E7,-2.2404410227818947E9,-2.8629120452592053E9,-2.1669612042165103E9,4.902527090264137E9,4.0870864589164777E9,9.576273211247977E8,1.0407421536670598E9,-3.2172482904478087E9,2.1303990286087524E10,-1.6932883395317748E8,1.3272222590982027E10,6.636020650617074E9,-4.5429893148328286E8,1.4880398177407318E10,-3.308915819309264E10,7.305557328634156E9,3.2602022633646175E10,1.3014749232638691E8,-1.8620525467127125E10,2.119976643646545E10,1.6204776252597442E8,-3.7687044528770256E9,2.895445986550013E9,1.0881327210737707E10,3.9626450329805083E9,3.1096102111195004E10,-1.3179496870791157E10,-7.205644355430791E9,3.5149417072729177E9,-3.698301126913915E10,6.136903070532505E10,3.594851699219164E10,-3.356745471833107E10,-1.1117989895772302E9,-1.3207878012889376E10,3.2546740736780324E9,1.6234548351289352E10,-9.563095654479443E9,1.6554903456722E9,4.27086742738081E10,1.388924509051936E10,-3.116613264615997E10,3.442792733327514E10,1.3080192011759315E10,-4.131997952553479E9,-5.322666347370332E10,-2.694474257768538E9,-3.979879717517588E10,-3.385993631581524E10,4.054520222904224E10,6.890617882216971E9,-6.721877017839842E9,6.995226681190995E9,-3.688926393951024E10,-2.9756943547905838E10,-1.747436489080061E10,1.150958150704324E10,2.0041131813103893E10,-7.272907092745672E7,-6.877872277830226E10,2.3273366016094418E10,-1.0354425731853839E11,4.3783489714426834E10,5.427876657080823E10,-4.9689067885656715E10,-8.058141407446617E9,2.964018921161192E9,-1.093599735985299E10,2.1312299488483513E10,1.1634478607506214E10,-3.149811060075211E10,3.517438030360025E9,5.041527299603909E10,-2.37630599219699E10,-6.434977774833211E9,6.571438577191887E10,-3.0486457990243862E10,5.6734940517694916E10,-1.224937922709946E10,-1.35628456493822E11,-9.042556508403564E9,-7.619180096188898E10,-6.765862638627295E10,-6.722165604815419E10,-1.2546979376393301E11,-1.2524336100644297E10,1.7177299090307371E10,-1.0315837925710201E10,-9.51719550662526E9,1.3159241724785184E11,1.046733851047354E10,1.4527701681132297E11,4.154327292144414E10]}]},{\"name\":\"series 6\",\"data\":[{\"name\":\"series 6\",\"type\":\"scatter3d\",\"mode\":\"markers\",\"x\":[0,1,2,3,4,5,6,7,8,9,10,11,12,13,14,15,16,17,18,19,20,21,22,23,24,25,26,27,28,29,30,31,32,33,34,35,36,37,38,39,40,41,42,43,44,45,46,47,48,49,50,51,52,53,54,55,56,57,58,59,60,61,62,63,64,65,66,67,68,69,70,71,72,73,74,75,76,77,78,79,80,81,82,83,84,85,86,87,88,89,90,91,92,93,94,95,96,97,98,99],\"y\":[0,0.6061160655978329,1.3130920910317043,2.3446841979875495,1.1289232865196013,0.9752125143958629,2.7425724248570367,1.9773386767624073,0.5193055266915252,4.987371146353465,8.004730093211318,1.6612378114412547,0.8398210233573171,7.749806820310542,5.732993517224774,4.031064259451484,11.398738541560276,14.257467144193306,5.4822276288588405,11.858775733314125,10.079323264395626,10.223671017753933,20.275980082576215,15.992131114111482,0.5063054753583556,24.66634597898113,17.767467866291877,13.074133858663187,27.977081755321233,26.345418007208895,21.376111062839303,21.731234479624693,19.321209948204224,29.664502256450337,8.994801008800458,10.632991901812265,27.751164487805077,8.374637472345238,18.991031205958652,27.872744628028155,0.18626102788902088,5.599458509872846,17.49747819492482,23.747782910316698,7.720157293759031,37.58986722190395,5.654614190087108,30.47841441636934,32.110307069456645,20.461968856564592,6.779441564848265,22.948310561552702,36.64532824736737,25.22476703857199,3.640523839847093,35.42351473705864,42.743271597922416,24.91388863459552,51.37003802711178,58.664510830341804,50.400416344326985,54.86440713413102,56.28871987068681,58.134836187389155,43.39633116207313,24.329632646657796,55.309207581732316,22.380797059811307,15.21659563475336,60.033639211869605,30.86746743843198,38.359982568203684,21.229808559024768,51.083168293639396,66.76070940514398,68.78141623221605,65.00018147224077,57.20944612738707,41.09341948296549,7.6373933104841525,27.981333136848534,11.8124704865889,16.00094313190687,7.306246531225716,22.47063483135601,8.98922385856488,78.18231751602382,61.13653684602196,41.856823730800926,84.89336879458547,75.78092450783859,5.536483930156797,82.11641693918081,20.646940383421704,50.05287837427825,71.537686003517,72.45685962718528,73.85473147938396,24.808971053923187,43.829629539422534],\"z\":[0,1.1216665117724228E8,-3.585172750272325E8,-1.9642307552159348E9,-1.24012024717214E9,-3.508321434035517E8,1.2763777111249146E9,-6.685279536414468E9,-6.731235891915256E8,1.4484098581376371E9,1.0363952783181698E10,-1.5381472706250813E9,-1.4365152961427032E10,6.883009693929027E9,1.4841955813375669E9,-1.5268232904318521E10,1.4911612477115992E10,4.923228490604489E8,-1.4634321163189268E10,-1.853351145971399E9,-4.627773396744023E9,-1.8859975532448032E10,6.851819607967015E9,1.996546884368372E9,-3.53754467579894E10,-1.4437887560024335E9,2.9164918121328556E10,1.1379074352719774E10,-1.3799008000328856E10,2.6562835877351322E10,-1.9886526832803974E10,-4.9680308449548065E10,-3.577810910279195E8,-3.190060161573717E9,-3.875743554705659E8,3.0025988183598637E10,-3.2848185655281097E10,-5.612818042495359E10,-1.200776449492473E10,7.735900698045338E10,-3.1819087657670235E10,-9.675246719458742E9,-2.223749948806918E10,2.3227478375376656E10,-1.3200233340325658E9,-6.749663714311682E10,4.311594696058077E8,1.0736184871876837E10,1.1071554095627453E10,7.277358013555592E9,1.8747387074682163E10,2.3590229641469055E10,-2.3526628615551945E10,2.358675014580223E10,9.582801213945892E9,-1.9161834145320137E10,3.1990091132448184E8,-5.061708257374519E9,1.5187577758158726E10,1.6936990669622488E10,-5.321159640578518E10,-9.480298134964372E10,-7.525173622396425E10,1.8125603921401554E10,-5.4910853971887955E10,6.105561786130317E9,-1.1317045706616025E11,3.167222606818665E9,2.394844045292007E10,-1.6519875246693904E9,4.780685081800208E10,3.812295025170362E9,1.0108351173829347E11,-9.71435044198792E10,1.2309355627989886E11,-2.242226871139633E9,-9.628522690389017E8,-7.230479671090761E9,1.3812425714798337E11,1.3378803250105217E11,-4.080554834186939E10,-2.2246754838086853E10,6.751773833617003E10,-5.901029773722662E10,4.955092703848969E10,-9.964825935141809E10,1.7294368344969837E10,-7.690026964588846E10,5.606242003497081E9,-1.0993011767188276E10,-6.423261845183408E10,-1.2155019035098531E9,-8.149221404222461E10,5.9347546531673325E10,-1.1184253472853824E11,-6.277977706433138E10,-8.358950867773147E9,7.6099588852740755E9,8.615510765337476E10,9.44088818310243E10]}]},{\"name\":\"series 7\",\"data\":[{\"name\":\"series 7\",\"type\":\"scatter3d\",\"mode\":\"markers\",\"x\":[0,1,2,3,4,5,6,7,8,9,10,11,12,13,14,15,16,17,18,19,20,21,22,23,24,25,26,27,28,29,30,31,32,33,34,35,36,37,38,39,40,41,42,43,44,45,46,47,48,49,50,51,52,53,54,55,56,57,58,59,60,61,62,63,64,65,66,67,68,69,70,71,72,73,74,75,76,77,78,79,80,81,82,83,84,85,86,87,88,89,90,91,92,93,94,95,96,97,98,99],\"y\":[0,0.6525107890662006,1.2497024041159228,1.9398391162861177,3.830927325315555,3.8649096906794,4.059227591532105,3.577842731459398,5.077762259266138,0.4971138044336214,4.291321042643094,6.534612200687634,1.054083572920697,10.937912969330922,12.567177365021934,9.545905566048065,11.091200505786924,12.926079588618467,11.592750739929894,15.559232591845761,9.58854248479415,11.428149047351095,10.802293345427616,4.204484051582088,13.57020822654481,14.676756398673913,23.043047023900503,3.5216931633200956,27.394570563450472,24.951364313305984,2.0261057872051556,6.315368002171738,19.909330505358227,22.857036902357397,24.048744176946254,10.90715417596313,32.32196994985683,8.30027239019327,34.23080425385982,17.855484250768804,14.615099752006483,2.3238077155275,8.452069829917098,34.65224732430751,38.72782792375118,32.69472488545567,41.578931809502315,28.742499498773203,40.19788215282664,7.892128158602623,46.677044116997166,7.693633189927171,26.764900916954392,10.162182885765478,26.972083947416877,15.215499881339852,0.8229913637290567,30.849267997252326,8.593223620937717,38.25245300462975,58.83039110848115,26.522601437985514,59.86337457313955,62.782365132674535,5.085810234677403,8.74771894937447,30.336820636381013,0.5162819944171003,15.91484782046504,16.951847118074202,6.1783975301840455,38.64545645750261,51.52565983848565,43.95130455282609,36.0789501054846,71.38021543190943,38.840948274479125,69.59778056907051,15.95945074683435,11.517253382654605,65.7431785051354,3.9085116696230906,11.48075975027764,1.9087013885935409,13.631902690112089,23.223117836537618,83.09774913030736,42.73753912972765,25.235942184696682,72.62715701540337,45.32516615480188,7.179735802482122,8.499230842251176,72.34918344322517,38.26838645452255,61.603768233046175,69.31707570468173,27.324514254845056,53.56497567903918,21.173066605296626],\"z\":[0,-1.6199012190927155E9,6.118086901004263E8,-2.2178613746781764E9,1.5348544567698464E8,-1.31910902569516E9,-1.8324018830277622E9,7.625785168683142E9,8.53512806069551E8,1.2649988215562851E9,-9.031231196461632E8,3.158105016746647E9,4.3809041537105465E9,2.9766471407625084E9,-2.4751759426970563E9,-9.767274859409384E9,1.7291624629783913E10,3.654533631902552E9,-1.763493102679062E10,7.59990644756235E7,3.8753534988277407E9,-2.605135730096656E9,-7.823327824384959E9,8.37688547940605E9,4.748565389353628E9,2.4725073293796707E10,-1.0685805280094954E10,-2.873587323086015E9,7.507718976999344E9,-1.8612115522175825E9,1.8964288363560963E9,2.509807002878932E8,1.7904799077143593E10,3.956073069038523E10,2.9632459605139126E10,-5.904919321961695E8,3.9286701657279366E10,5.399051011840053E9,2.023023600649885E10,-3.147045134913466E10,6.476236410811358E10,5.932709854596638E10,1.9003897851680943E10,2.1963721495203333E9,3.507933179410487E10,5.788747702711325E8,-2.8507532219868973E10,-1.3716908255393288E10,-6.774820968151864E9,7.838384899726859E10,-1.1731493094775774E10,3.1334847209453384E10,4.227560658503575E10,-6.836361871982761E10,-8.233563154809172E10,-1.2389936877107946E10,9.398922128650146E10,-6.064424427806684E9,2.486759377794837E9,-3.0086147938679592E10,-2.0956662977090374E10,-2.5699451162695362E10,-6.397035832798107E10,6.8364731272641655E10,8.789942042035068E10,9.217580286302847E9,2.9062465163648197E10,-6.072001092791903E9,-2.38847555515177E10,3.125155861073646E9,-1.6107714178152367E10,1.922895784991798E10,4.66372992147361E10,-4.642868418243132E9,9.354667991364784E10,6.880930287715796E9,-9.92548681411029E9,1.4785533822714566E11,-7.823146067253975E10,-1.0912117202353249E10,-1.970053954506746E9,1.5847210858588055E10,1.9273587979126835E10,-1.0172952780423386E10,3.1855702940555115E10,5.582779295898117E9,7.603864564049158E10,2.641433983510439E9,8.072053306767223E9,-2.7755758731332707E9,-7.734629400457234E10,3.0778046347614025E10,5.028123223108944E10,2.397601169895473E10,9.770614774693385E10,-1.4679634834256937E10,-2.515695982037883E10,-1343270.0911594187,9.51362050315148E10,-5.8334871753461464E10]}]},{\"name\":\"series 8\",\"data\":[{\"name\":\"series 8\",\"type\":\"scatter3d\",\"mode\":\"markers\",\"x\":[0,1,2,3,4,5,6,7,8,9,10,11,12,13,14,15,16,17,18,19,20,21,22,23,24,25,26,27,28,29,30,31,32,33,34,35,36,37,38,39,40,41,42,43,44,45,46,47,48,49,50,51,52,53,54,55,56,57,58,59,60,61,62,63,64,65,66,67,68,69,70,71,72,73,74,75,76,77,78,79,80,81,82,83,84,85,86,87,88,89,90,91,92,93,94,95,96,97,98,99],\"y\":[0,0.5088293549957277,0.8373024687729982,0.08875902880876851,3.6059625133970012,0.16757420101620846,0.5594840268278634,6.148564547103714,1.4173045135346571,2.690800240366278,9.894458402956401,5.873645242313806,8.709549786568829,7.466362123323069,13.817313508729354,1.7854183042617255,13.789035577768278,6.884231134126619,15.962249327600315,6.652559349574399,9.267076911003231,12.6212529207705,7.981296636148246,2.9675535446689443,22.819916233919518,1.8959129590794155,15.132282517501743,0.757862836428449,15.494378334253625,23.65475193923384,2.4840851949198814,3.3012778625241257,30.53027918464542,13.98217020774818,31.20436423226798,34.40484738443762,9.976299779055054,27.68744934594901,24.491644189256732,38.45367690737333,36.326241976882045,3.266977079171519,20.079831151777917,21.68977207447967,36.247296828933685,12.515824038759012,37.12897616116272,17.39206231912742,45.461220769746745,48.22102691841361,15.971402179041927,11.046683029691572,28.223102295385697,39.859161956047465,9.857076067082374,15.471620280781128,45.87072282704566,31.293073137006843,4.786473835323321,2.4418330715515206,42.84037428150719,34.366894895634765,26.98304956466045,25.900047301734002,19.612347685260765,44.28484996522734,49.79079264615188,64.58449491241315,28.511282532740772,20.97767196353099,69.0353305985992,56.108004473591016,54.39292882916264,29.560865807939297,44.40944823963961,11.433001015092312,26.249943089722443,65.72146624414717,28.485927554759684,4.5541778395232155,13.914755697942685,5.6844017841969015,2.7721071074313413,19.274786297868346,50.57765925857757,1.5560366061663027,52.05162897646282,65.49377309413052,53.02280300368289,34.571009071706214,40.35942853687789,69.65927362533058,81.56387218577522,54.32902770025343,30.556121201485844,29.23923747029343,68.88490287117081,75.75081222985573,26.857607899880755,23.462392196017888],\"z\":[0,-3.4281133154262763E8,-7.306753830909244E8,-3.893381170247446E8,1.3038874605274453E9,-2.6924005758753963E9,2.657471536796578E9,-2.3947399465008154E9,5.118319632448068E8,2.3524460772601986E9,1.260204798297595E9,-1.0314762553191265E10,-6.373147421952964E9,-1.598291266243761E9,-4.272441855514546E9,-9.28604223212226E8,5.166054643055162E9,2.888040406887311E9,4.578504712686297E9,-2.0415738455865826E10,-2.3369946292920723E10,-6.251294313921983E8,-5.064478718073513E9,1.146644129229079E10,-1.1625539539067914E9,-1.8736456571283538E9,3.579730565064034E10,3.826374367766427E10,3.567148336995429E10,3.0879780074458927E10,-7744682.502554625,1.6080113851297184E10,-3.3469856203746753E9,-1.2477541059273811E10,1.2355274101774707E9,3.511843880711791E9,2.5693966118871136E10,-1.3466225579107897E10,1.473738634029923E10,-5.690249013401111E9,6.024396583094729E10,-1.572254132558379E10,-4.796026343786901E10,-7.133557487728274E9,-1.4577204450728731E10,-2.5527376933170776E10,-3.8237103567956996E8,5.626001601068118E10,2.473008333768518E10,-1.210191496064701E10,3.3223583842968407E9,-5.8551908141547356E10,1.5348739116273846E10,5.876031197952246E9,1.37389964283968E10,-2.005346046367625E10,4.2192715492573044E10,5.305107270151387E8,1.3608641377039148E10,2.132915600564549E10,2.212991520020864E10,4.982710763342789E10,8.827128761901405E9,1.2390337513155949E10,8.465044057224373E10,8.838913823116792E10,-7.968905522758629E10,-2.961309201903566E10,2.752601199828993E10,7.404007122156319E10,-4.614214427970704E9,-2.7193295449564957E10,-4.331858078820429E10,2.7613372567162266E9,6.0220969481413355E9,4.946370835755791E10,1.1143616708866179E11,-1.1405869678906637E10,-5.785567460910203E10,-1.195579996521433E10,-6.875301437540817E10,-1.3039138217193146E10,7.753384109438928E10,9.418986545004495E10,-8.916833679789106E9,5199719.075864048,-2.5536588234950443E10,-7.033645472218297E10,8.145925881099365E9,1.925606092986968E10,5.552723654450805E10,9.754708902125826E10,-1.1260770824271808E11,1.1391854507567935E11,-1.7607164914728466E10,1.0514884103910434E11,-5.290201994165749E10,3.513925237256978E9,1.0429965339807634E11,-3.1308778446568172E10]}]},{\"name\":\"series 9\",\"data\":[{\"name\":\"series 9\",\"type\":\"scatter3d\",\"mode\":\"markers\",\"x\":[0,1,2,3,4,5,6,7,8,9,10,11,12,13,14,15,16,17,18,19,20,21,22,23,24,25,26,27,28,29,30,31,32,33,34,35,36,37,38,39,40,41,42,43,44,45,46,47,48,49,50,51,52,53,54,55,56,57,58,59,60,61,62,63,64,65,66,67,68,69,70,71,72,73,74,75,76,77,78,79,80,81,82,83,84,85,86,87,88,89,90,91,92,93,94,95,96,97,98,99],\"y\":[0,0.3776153709313206,1.5810380401345945,2.453086495644171,3.4176493755198982,0.15687388444731054,2.0620342342491695,2.970262499868202,2.1424775108620047,5.70415659474979,9.098718063906752,6.729058105943804,11.411583389624752,2.3043699905785253,6.87439055354258,11.920758696021315,9.710261431629048,7.634286782141528,6.799052496541773,15.420548247533528,18.87001697830859,13.086908736260439,10.669557559103644,15.100086920924795,13.62851380055545,9.161592521991416,1.9794630507055038,15.964966280145454,18.783574666668088,13.014343542762473,0.08882593386564386,30.264669890725244,20.50012207603976,17.249006840350805,5.088212863408593,14.500008714961618,0.21271683189574775,30.410941214096766,37.39725373750707,37.54987031999238,21.15719218142761,0.6701665972224616,41.67614488420611,10.205535199798783,37.11272399590126,16.100874974682316,13.748631640769299,9.486750630226355,36.69055104875173,27.028671036226743,48.18715165416574,16.46921140246219,14.717499896153107,26.375873389758016,15.244986913164013,30.22810845360443,17.181380346425158,9.03873877822351,53.1865000214031,16.146930618494032,24.081321037962965,20.32850895916673,52.01475480792896,1.504776456501959,9.609109874558769,2.65075805401932,57.376118972160484,10.189004233451652,17.62764632376137,38.13463538044698,5.28372142725135,12.833203796365934,14.659681502126595,62.105230507071354,29.495992474007604,59.90311146787372,2.8041213245717893,33.36846077362726,52.162885896862434,56.49527706988638,77.40831449148413,76.49859686441143,48.9607545652376,59.12501392796898,37.19288275005499,4.9337516181493415,36.62732717991146,23.811422563552888,68.10088097594883,36.944452406293536,59.830627774923684,9.568030188359618,72.67528219257403,16.694678416964425,69.91024194842089,68.2279477688495,58.50802539382849,92.91363032549313,46.465813663560326,98.62224728988218],\"z\":[0,-1.24078060604253E9,-5.796386513738217E8,3.1493616607706637E9,5.401545900062156E9,-1.578106253169009E8,-7.578383248052787E9,-3.1930292028933606E9,-3.041462712967812E8,-3.1393383917398987E9,6.969153001724003E9,-1.5842422943966957E10,3.8114850406272845E9,2.0696600286847878E10,1.2279778108169468E10,7.371849233446813E9,2.728644898147851E10,-2.8940147781092463E9,-1.2941130332653164E10,2.3124580102285843E10,1.7988084445460552E10,-5.274322409584419E9,-2.6461849321756283E10,2.1289727119629025E9,1.0965692284966576E8,1.6551026595728317E10,2.370308877289202E10,-6.30009860497915E9,3.2749494992071434E10,-1.2290203814915228E10,4.2069515516124725E10,-1.767466973797549E7,2.8054474614284447E10,-3.211196836331924E10,1.9297059747765736E10,-5.3538170072736275E10,7.480685755005053E9,-3.5405762352516904E9,-1.2032854734644054E10,9.20526711433143E9,1.5853739867614317E10,-6.6286560367925825E9,1.1361216487069826E10,-3.0079750450670304E9,-1.7551181264998748E9,-4.147534220312019E10,1.2823609750629933E9,-9.831029912867234E8,-6.744898109670479E9,5.228072915174212E10,-4.212916648045629E10,3.762773248257105E10,3.0390283588836365E9,1.5716041881448698E10,2.4613728896337708E10,6.578899901554236E10,6.965683603275153E10,3.14567231643582E8,1.0333147710365216E11,-5.81712691742894E10,-1.5438527846751554E10,-3.925299403570149E10,-4.081653489596187E10,-8.38664581104362E10,-1.1263635885716362E10,-6.644810791419157E10,-8.911886769550886E9,4.285408183786136E9,-1.1075721886923613E11,1.3638743464310526E10,6.044180660544848E10,-3.2430649214222355E10,-9.651582065258078E10,-3.899705565631843E10,-5.971367814530687E10,-2.2154163097055576E10,6.502873914492192E9,-8.971960328669972E10,-1.4329964970044903E10,2.3985813153666183E10,-5.248194341289492E10,-4.2319159934392864E8,-4.7630246805942535E7,1.208176744346036E11,6.156189830523318E10,-2.0953172646891975E10,5.0927519306173874E10,9.625302333071085E10,5.830001148386977E9,-1.2186241799716133E10,-1.5863477695840837E10,2.36476386900516E9,2.6040903114056255E10,2.848670609004788E10,6.98390837781647E10,-4.5737383540745415E10,-1.5736258204857314E8,-1.746891007405523E9,-6.161367834200972E10,5.313115671686664E10]}]}]\n",
       "var labels_KyYJ1cuzec = [\"series 0\",\"series 1\",\"series 2\",\"series 3\",\"series 4\",\"series 5\",\"series 6\",\"series 7\",\"series 8\",\"series 9\"]\n",
       "var duration_KyYJ1cuzec = 100\n",
       "var config_KyYJ1cuzec = {\"responsive\":true,\"scrollZoom\":true,\"displaylogo\":false}\n",
       "\n",
       "var animation_settings_KyYJ1cuzec = {\n",
       "    mode: \"immediate\",\n",
       "    direction: {},\n",
       "    fromcurrent: true,\n",
       "    frame: [\n",
       "      {duration: duration_KyYJ1cuzec},\n",
       "      {duration: duration_KyYJ1cuzec},\n",
       "      {redraw: true}\n",
       "    ],\n",
       "    transition: [\n",
       "      {duration: duration_KyYJ1cuzec, easing: 'cubic-in-out'},\n",
       "      {duration: duration_KyYJ1cuzec, easing: 'cubic-in-out'},\n",
       "    ],\n",
       "    ordering: \"layout first\"\n",
       "}\n",
       "\n",
       "var slider_KyYJ1cuzec = document.createElement(\"input\")\n",
       "var play_KyYJ1cuzec = document.getElementById(\"play_KyYJ1cuzec\")\n",
       "var pause_KyYJ1cuzec = document.getElementById(\"pause_KyYJ1cuzec\")\n",
       "slider_KyYJ1cuzec.id = \"slider_KyYJ1cuzec\"\n",
       "slider_KyYJ1cuzec.type = \"range\"\n",
       "slider_KyYJ1cuzec.min = 0\n",
       "slider_KyYJ1cuzec.max = frames_KyYJ1cuzec.length - 1\n",
       "slider_KyYJ1cuzec.value = 0\n",
       "document.getElementById(\"sliderContainer_KyYJ1cuzec\").appendChild(slider_KyYJ1cuzec);\n",
       "\n",
       "Plotly.newPlot(graph_KyYJ1cuzec, traces_KyYJ1cuzec, layout_KyYJ1cuzec, config_KyYJ1cuzec)\n",
       ".then(function () { Plotly.addFrames(graph_KyYJ1cuzec, frames_KyYJ1cuzec) })\n",
       "\n",
       "var trigger_KyYJ1cuzec = true\n",
       "var reset_count_KyYJ1cuzec = false\n",
       "\n",
       "play_KyYJ1cuzec.addEventListener('click', function() {\n",
       "   trigger_KyYJ1cuzec = true\n",
       "   if (reset_count_KyYJ1cuzec) {\n",
       "      slider_KyYJ1cuzec.value = 0\n",
       "      reset_count_KyYJ1cuzec = false\n",
       "   }\n",
       "\n",
       "  const start_index = slider_KyYJ1cuzec.value == labels_KyYJ1cuzec.length - 1 ? 0 : slider_KyYJ1cuzec.value\n",
       "  const end_index = labels_KyYJ1cuzec.length\n",
       "  Plotly.animate(graph_KyYJ1cuzec, labels_KyYJ1cuzec.slice(start_index, end_index), animation_settings_KyYJ1cuzec)\n",
       "})\n",
       "\n",
       "pause_KyYJ1cuzec.addEventListener('click', function() {\n",
       "  Plotly.animate(graph_KyYJ1cuzec, [null], animation_settings_KyYJ1cuzec)\n",
       "})\n",
       "\n",
       "graph_KyYJ1cuzec.on('plotly_redraw', () => {\n",
       "   value_KyYJ1cuzec.innerHTML = slider_KyYJ1cuzec.value;\n",
       "   if (trigger_KyYJ1cuzec & !reset_count_KyYJ1cuzec) ++slider_KyYJ1cuzec.value\n",
       "   if (slider_KyYJ1cuzec.value == labels_KyYJ1cuzec.length - 1) reset_count_KyYJ1cuzec = true\n",
       "});\n",
       "\n",
       "slider_KyYJ1cuzec.oninput = function() {\n",
       "   Plotly.animate(graph_KyYJ1cuzec, frames_KyYJ1cuzec[this.value], animation_settings_KyYJ1cuzec)\n",
       "   trigger_KyYJ1cuzec = false\n",
       "   slider_KyYJ1cuzec.value = this.value\n",
       "   value_KyYJ1cuzec.innerHTML = this.value;\n",
       "   if (this.value == 0) reset_count_KyYJ1cuzec = false\n",
       "   if (this.value == labels_KyYJ1cuzec.length - 1) reset_count_KyYJ1cuzec = true\n",
       "   reset_count_KyYJ1cuzec = false\n",
       "}\n",
       "</script> \n"
      ]
     },
     "metadata": {},
     "output_type": "display_data"
    }
   ],
   "source": [
    "val series = createXYZSeries(numberToCreate = 10, length = 100)\n",
    "\n",
    "val layout = ChartLayout()\n",
    "\n",
    "val chart = Chart(animated = true) setTitle \"Animation 3D\" addSeries series \n",
    "\n",
    "chart.plotInline"
   ]
  },
  {
   "cell_type": "markdown",
   "metadata": {},
   "source": [
    "## IO + Utility Functions\n",
    "\n",
    "The library also comes with some basic CSV IO functions and a utility function for breaking down data"
   ]
  },
  {
   "cell_type": "code",
   "execution_count": 93,
   "metadata": {},
   "outputs": [],
   "source": [
    "import org.carbonateresearch.picta.IO._\n",
    "import org.carbonateresearch.picta.common.Utils.getSeriesbyCategory"
   ]
  },
  {
   "cell_type": "code",
   "execution_count": 94,
   "metadata": {},
   "outputs": [
    {
     "name": "stdout",
     "output_type": "stream",
     "text": [
      "/Users/fazi/Desktop/Final Project/irp-acse-fk4517/Code\n"
     ]
    }
   ],
   "source": [
    "val working_directory = getWorkingDirectory\n",
    "\n",
    "println(working_directory)"
   ]
  },
  {
   "cell_type": "code",
   "execution_count": 95,
   "metadata": {},
   "outputs": [],
   "source": [
    "// by providing a path, we can read in a CSV\n",
    "val filepath = working_directory + \"/iris_csv.csv\"\n",
    "\n",
    "val data = readCSV(filepath)\n",
    "\n",
    "// by default, CSV are read in as strings. However we can convert the individual columns to the correct format\n",
    "val sepal_length = data(\"sepallength\").map(_.toDouble)\n",
    "val petal_width = data(\"petalwidth\").map(_.toDouble)\n",
    "val categories = data(\"class\")"
   ]
  },
  {
   "cell_type": "code",
   "execution_count": 96,
   "metadata": {},
   "outputs": [
    {
     "data": {
      "text/html": [
       "<div id=\"grid-container_yIj7yp37Ei\" class=\"grid-container\" align=\"center\"> \n",
       "<div id=\"grid_yIj7yp37Ei\" class=\"grid\" align=\"center\"> \n",
       "<div id=\"graph_9kiagwxuLE\" class=\"graph\"></div> \n",
       "</div> \n",
       "</div> \n",
       "<script>\n",
       "var masonry = new Macy({\n",
       "    container: '#grid_yIj7yp37Ei',\n",
       "    debug: true,\n",
       "    mobileFirst: true,\n",
       "    columns: 1,\n",
       "    margin: {\n",
       "        x: 0,\n",
       "        y: 0\n",
       "    }\n",
       "  });\n",
       "\n",
       " var traces_9kiagwxuLE = [{\"name\":\"aP57fsnWKv\",\"type\":\"scatter\",\"mode\":\"markers\",\"x\":[5.9,6.2,6.5,6.3,6.7,6.7,6.8,5.8,6.9,6.7,6.9,6,6.4,6.3,7.7,6.1,6.3,6.4,7.9,7.4,7.2,6.4,6.1,6.2,7.2,6.7,6.3,7.7,5.6,6.9,6,7.7,7.7,6.5,6.4,5.8,5.7,6.8,6.4,6.5,7.2,6.7,7.3,4.9,7.6,6.5,6.3,7.1,5.8,6.3,5.7,5.1,6.2,5.7,5.7,5.6,5,5.8,6.1,5.5,5.5,5.6,6.3,6.7,6,5.4,6,5.8,5.5,5.5,5.7,6,6.7,6.8,6.6,6.4,6.1,6.3,6.1,5.9,5.6,6.2,5.8,5.6,6.7,5.6,6.1,6,5.9,5,5.2,6.6,4.9,6.3,5.7,6.5,5.5,6.9,6.4,7,5,5.3,4.6,5.1,4.8,5.1,5,4.4,4.5,5,5.1,4.4,4.9,5.5,5,4.9,5.5,5.2,5.4,4.8,4.7,5.2,5.2,5,5,4.8,5.1,4.6,5.1,5.4,5.1,5.7,5.1,5.4,5.7,5.8,4.3,4.8,4.8,5.4,4.9,4.4,5,4.6,5.4,5,4.6,4.7,4.9,5.1],\"y\":[1.8,2.3,2,1.9,2.3,2.5,2.3,1.9,2.3,2.4,2.1,1.8,1.8,2.4,2.3,1.4,1.5,2.2,2,1.9,1.6,2.1,1.8,1.8,1.8,2.1,1.8,2,2,2.3,1.5,2.3,2.2,1.8,2.3,2.4,2,2.1,1.9,2,2.5,1.8,1.8,1.7,2.1,2.2,1.8,2.1,1.9,2.5,1.3,1.1,1.3,1.3,1.2,1.3,1,1.2,1.4,1.2,1.3,1.3,1.3,1.5,1.6,1.5,1.6,1.2,1,1.1,1,1.5,1.7,1.4,1.4,1.3,1.2,1.5,1.3,1.8,1.1,1.5,1,1.5,1.4,1.3,1.4,1,1.5,1,1.4,1.3,1,1.6,1.3,1.5,1.3,1.5,1.5,1.4,0.2,0.2,0.2,0.2,0.3,0.4,0.6,0.2,0.3,0.3,0.2,0.2,0.1,0.2,0.2,0.1,0.2,0.1,0.4,0.2,0.2,0.2,0.2,0.4,0.2,0.2,0.5,0.2,0.4,0.2,0.3,0.3,0.3,0.4,0.4,0.2,0.1,0.1,0.2,0.2,0.1,0.2,0.2,0.3,0.4,0.2,0.2,0.2,0.2,0.2]}];\n",
       " var layout_9kiagwxuLE = {\"height\":550,\"width\":600,\"hovermode\":\"closest\",\"legend\":{\"orientation\":\"v\"},\"title\":{\"text\":\"Uninformative Chart\"},\"showlegend\":true};\n",
       " var config_9kiagwxuLE = {\"responsive\":true,\"scrollZoom\":true,\"displaylogo\":false};\n",
       " Plotly.newPlot(\"graph_9kiagwxuLE\", traces_9kiagwxuLE, layout_9kiagwxuLE, config_9kiagwxuLE);\n",
       "</script> \n"
      ]
     },
     "metadata": {},
     "output_type": "display_data"
    }
   ],
   "source": [
    "val series = XY(sepal_length, petal_width) asType SCATTER drawStyle MARKERS\n",
    "\n",
    "val chart = Chart() addSeries series setTitle \"Uninformative Chart\"\n",
    "\n",
    "chart.plotInline"
   ]
  },
  {
   "cell_type": "markdown",
   "metadata": {},
   "source": [
    "The above chart is not very informative. However since we have the per data point category labels, we can use the utility function to display the data in the different clusters"
   ]
  },
  {
   "cell_type": "code",
   "execution_count": 97,
   "metadata": {},
   "outputs": [
    {
     "data": {
      "text/html": [
       "<div id=\"grid-container_JGHKrXIjQP\" class=\"grid-container\" align=\"center\"> \n",
       "<div id=\"grid_JGHKrXIjQP\" class=\"grid\" align=\"center\"> \n",
       "<div id=\"graph_NbHUAYx1mJ\" class=\"graph\"></div> \n",
       "</div> \n",
       "</div> \n",
       "<script>\n",
       "var masonry = new Macy({\n",
       "    container: '#grid_JGHKrXIjQP',\n",
       "    debug: true,\n",
       "    mobileFirst: true,\n",
       "    columns: 1,\n",
       "    margin: {\n",
       "        x: 0,\n",
       "        y: 0\n",
       "    }\n",
       "  });\n",
       "\n",
       " var traces_NbHUAYx1mJ = [{\"name\":\"Iris-versicolor\",\"type\":\"scatter\",\"mode\":\"markers\",\"x\":[7,6.4,6.9,5.5,6.5,5.7,6.3,4.9,6.6,5.2,5,5.9,6,6.1,5.6,6.7,5.6,5.8,6.2,5.6,5.9,6.1,6.3,6.1,6.4,6.6,6.8,6.7,6,5.7,5.5,5.5,5.8,6,5.4,6,6.7,6.3,5.6,5.5,5.5,6.1,5.8,5,5.6,5.7,5.7,6.2,5.1,5.7],\"y\":[1.4,1.5,1.5,1.3,1.5,1.3,1.6,1,1.3,1.4,1,1.5,1,1.4,1.3,1.4,1.5,1,1.5,1.1,1.8,1.3,1.5,1.2,1.3,1.4,1.4,1.7,1.5,1,1.1,1,1.2,1.6,1.5,1.6,1.5,1.3,1.3,1.3,1.2,1.4,1.2,1,1.3,1.2,1.3,1.3,1.1,1.3]},{\"name\":\"Iris-setosa\",\"type\":\"scatter\",\"mode\":\"markers\",\"x\":[5.1,4.9,4.7,4.6,5,5.4,4.6,5,4.4,4.9,5.4,4.8,4.8,4.3,5.8,5.7,5.4,5.1,5.7,5.1,5.4,5.1,4.6,5.1,4.8,5,5,5.2,5.2,4.7,4.8,5.4,5.2,5.5,4.9,5,5.5,4.9,4.4,5.1,5,4.5,4.4,5,5.1,4.8,5.1,4.6,5.3,5],\"y\":[0.2,0.2,0.2,0.2,0.2,0.4,0.3,0.2,0.2,0.1,0.2,0.2,0.1,0.1,0.2,0.4,0.4,0.3,0.3,0.3,0.2,0.4,0.2,0.5,0.2,0.2,0.4,0.2,0.2,0.2,0.2,0.4,0.1,0.2,0.1,0.2,0.2,0.1,0.2,0.2,0.3,0.3,0.2,0.6,0.4,0.3,0.2,0.2,0.2,0.2]},{\"name\":\"Iris-virginica\",\"type\":\"scatter\",\"mode\":\"markers\",\"x\":[6.3,5.8,7.1,6.3,6.5,7.6,4.9,7.3,6.7,7.2,6.5,6.4,6.8,5.7,5.8,6.4,6.5,7.7,7.7,6,6.9,5.6,7.7,6.3,6.7,7.2,6.2,6.1,6.4,7.2,7.4,7.9,6.4,6.3,6.1,7.7,6.3,6.4,6,6.9,6.7,6.9,5.8,6.8,6.7,6.7,6.3,6.5,6.2,5.9],\"y\":[2.5,1.9,2.1,1.8,2.2,2.1,1.7,1.8,1.8,2.5,2,1.9,2.1,2,2.4,2.3,1.8,2.2,2.3,1.5,2.3,2,2,1.8,2.1,1.8,1.8,1.8,2.1,1.6,1.9,2,2.2,1.5,1.4,2.3,2.4,1.8,1.8,2.1,2.4,2.3,1.9,2.3,2.5,2.3,1.9,2,2.3,1.8]}];\n",
       " var layout_NbHUAYx1mJ = {\"height\":550,\"width\":600,\"hovermode\":\"closest\",\"legend\":{\"orientation\":\"v\"},\"title\":{\"text\":\"Iris\"},\"showlegend\":true};\n",
       " var config_NbHUAYx1mJ = {\"responsive\":true,\"scrollZoom\":true,\"displaylogo\":false};\n",
       " Plotly.newPlot(\"graph_NbHUAYx1mJ\", traces_NbHUAYx1mJ, layout_NbHUAYx1mJ, config_NbHUAYx1mJ);\n",
       "</script> \n"
      ]
     },
     "metadata": {},
     "output_type": "display_data"
    }
   ],
   "source": [
    "val result = getSeriesbyCategory(categories, (sepal_length, petal_width))\n",
    "\n",
    "val chart = Chart() addSeries result setTitle \"Iris\" showLegend true\n",
    "\n",
    "chart.plotInline"
   ]
  },
  {
   "cell_type": "markdown",
   "metadata": {},
   "source": [
    "## Conus Integration\n",
    "\n",
    "A couple of utility functions make wrangling conus data easier. Below is an example taken from the conus repo and plotting some variables of interest."
   ]
  },
  {
   "cell_type": "code",
   "execution_count": 98,
   "metadata": {},
   "outputs": [],
   "source": [
    "import org.carbonateresearch.picta.conus.Utils._"
   ]
  },
  {
   "cell_type": "code",
   "execution_count": 100,
   "metadata": {},
   "outputs": [],
   "source": [
    "import org.carbonateresearch.picta.conus.Utils._\n",
    "import org.carbonateresearch.picta.{Canvas, Chart, XY}\n",
    "import org.carbonateresearch.conus.common.SingleModelResults\n",
    "import org.carbonateresearch.conus.modelzoo.GeneralGeology._\n",
    "import org.carbonateresearch.conus.modelzoo.PasseyHenkesClumpedDiffusionModel._\n",
    "import org.carbonateresearch.conus.{AllCells, ModelVariable, PerCell, BasicSimulator, Step, SteppedModel}\n",
    "\n",
    "import math._"
   ]
  },
  {
   "cell_type": "code",
   "execution_count": 101,
   "metadata": {
    "scrolled": false
   },
   "outputs": [
    {
     "name": "stdout",
     "output_type": "stream",
     "text": [
      "11:28:28.223 [CoNuS-akka.actor.default-dispatcher-3] INFO akka.event.slf4j.Slf4jLogger - Slf4jLogger started\n"
     ]
    },
    {
     "name": "stderr",
     "output_type": "stream",
     "text": [
      "SLF4J: A number (1) of logging calls during the initialization phase have been intercepted and are\n",
      "SLF4J: now being replayed. These are subject to the filtering rules of the underlying logging system.\n",
      "SLF4J: See also http://www.slf4j.org/codes.html#replay\n"
     ]
    },
    {
     "name": "stdout",
     "output_type": "stream",
     "text": [
      "A total of 135 unique models were defined, attempting to create a list now.\n",
      "Models list successfully created.\n",
      "----------------------------------------\n",
      "EVALUATING MODEL\n",
      "----------------------------------------\n",
      "/2020-07-30-11-28-28\n",
      "RUN DATA\n",
      "Total number of models:135\n",
      "Number of cell per grid: 19\n",
      "Number of steps per model: 10\n",
      "Number of operation per step: 304\n",
      "Total number of operations: 410'400\n",
      "Available CPU cores: 8\n",
      "----------------------------------------\n",
      "RUN PROGRESS\n",
      "Run progress:\n",
      "# 0.7%\n",
      "Run progress:\n",
      "## 1.5%\n",
      "Run progress:\n",
      "### 2.2%\n",
      "Run progress:\n",
      "### 3.0%\n",
      "Run progress:\n",
      "#### 3.7%\n",
      "Run progress:\n",
      "##### 4.4%\n",
      "Run progress:\n",
      "###### 5.2%\n",
      "Run progress:\n",
      "###### 5.9%\n",
      "Run progress:\n",
      "####### 6.7%\n",
      "Run progress:\n",
      "######## 7.4%\n",
      "Run progress:\n",
      "######### 8.1%\n",
      "Run progress:\n",
      "######### 8.9%\n",
      "Run progress:\n",
      "########## 9.6%\n",
      "Run progress:\n",
      "########### 10.4%\n",
      "Run progress:\n",
      "############ 11.1%\n",
      "Run progress:\n",
      "############ 11.9%\n",
      "Run progress:\n",
      "############# 12.6%\n",
      "Run progress:\n",
      "############## 13.3%\n",
      "Run progress:\n",
      "############### 14.1%\n",
      "Run progress:\n",
      "############### 14.8%\n",
      "Run progress:\n",
      "################ 15.6%\n",
      "Run progress:\n",
      "################# 16.3%\n",
      "Run progress:\n",
      "################## 17.0%\n",
      "Run progress:\n",
      "################## 17.8%\n",
      "Run progress:\n",
      "################### 18.5%\n",
      "Run progress:\n",
      "#################### 19.3%\n",
      "Run progress:\n",
      "#################### 20.0%\n",
      "Run progress:\n",
      "##################### 20.7%\n",
      "Run progress:\n",
      "###################### 21.5%\n",
      "Run progress:\n",
      "####################### 22.2%\n",
      "Run progress:\n",
      "####################### 23.0%\n",
      "Run progress:\n",
      "######################## 23.7%\n",
      "Run progress:\n",
      "######################### 24.4%\n",
      "Run progress:\n",
      "########################## 25.2%\n",
      "Run progress:\n",
      "########################## 25.9%\n",
      "Run progress:\n",
      "########################### 26.7%\n",
      "Run progress:\n",
      "############################ 27.4%\n",
      "Run progress:\n",
      "############################# 28.1%\n",
      "Run progress:\n",
      "############################# 28.9%\n",
      "Run progress:\n",
      "############################## 29.6%\n",
      "Run progress:\n",
      "############################### 30.4%\n",
      "Run progress:\n",
      "################################ 31.1%\n",
      "Run progress:\n",
      "################################ 31.9%\n",
      "Run progress:\n",
      "################################# 32.6%\n",
      "Run progress:\n",
      "################################## 33.3%\n",
      "Run progress:\n",
      "################################### 34.1%\n",
      "Run progress:\n",
      "################################### 34.8%\n",
      "Run progress:\n",
      "#################################### 35.6%\n",
      "Run progress:\n",
      "##################################### 36.3%\n",
      "Run progress:\n",
      "###################################### 37.0%\n",
      "Run progress:\n",
      "###################################### 37.8%\n",
      "Run progress:\n",
      "####################################### 38.5%\n",
      "Run progress:\n",
      "######################################## 39.3%\n",
      "Run progress:\n",
      "######################################## 40.0%\n",
      "Run progress:\n",
      "######################################### 40.7%\n",
      "Run progress:\n",
      "########################################## 41.5%\n",
      "Run progress:\n",
      "########################################### 42.2%\n",
      "Run progress:\n",
      "########################################### 43.0%\n",
      "Run progress:\n",
      "############################################ 43.7%\n",
      "Run progress:\n",
      "############################################# 44.4%\n",
      "Run progress:\n",
      "############################################## 45.2%\n",
      "Run progress:\n",
      "############################################## 45.9%\n",
      "Run progress:\n",
      "############################################### 46.7%\n",
      "Run progress:\n",
      "################################################ 47.4%\n",
      "Run progress:\n",
      "################################################# 48.1%\n",
      "Run progress:\n",
      "################################################# 48.9%\n",
      "Run progress:\n",
      "################################################## 49.6%\n",
      "Run progress:\n",
      "################################################### 50.4%\n",
      "Run progress:\n",
      "#################################################### 51.1%\n",
      "Run progress:\n",
      "#################################################### 51.9%\n",
      "Run progress:\n",
      "##################################################### 52.6%\n",
      "Run progress:\n",
      "###################################################### 53.3%\n",
      "Run progress:\n",
      "####################################################### 54.1%\n",
      "Run progress:\n",
      "####################################################### 54.8%\n",
      "Run progress:\n",
      "######################################################## 55.6%\n",
      "Run progress:\n",
      "######################################################### 56.3%\n",
      "Run progress:\n",
      "########################################################## 57.0%\n",
      "Run progress:\n",
      "########################################################## 57.8%\n",
      "Run progress:\n",
      "########################################################### 58.5%\n",
      "Run progress:\n",
      "############################################################ 59.3%\n",
      "Run progress:\n",
      "############################################################ 60.0%\n",
      "Run progress:\n",
      "############################################################# 60.7%\n",
      "Run progress:\n",
      "############################################################## 61.5%\n",
      "Run progress:\n",
      "############################################################### 62.2%\n",
      "Run progress:\n",
      "############################################################### 63.0%\n",
      "Run progress:\n",
      "################################################################ 63.7%\n",
      "Run progress:\n",
      "################################################################# 64.4%\n",
      "Run progress:\n",
      "################################################################## 65.2%\n",
      "Run progress:\n",
      "################################################################## 65.9%\n",
      "Run progress:\n",
      "################################################################### 66.7%\n",
      "Run progress:\n",
      "#################################################################### 67.4%\n",
      "Run progress:\n",
      "##################################################################### 68.1%\n",
      "Run progress:\n",
      "##################################################################### 68.9%\n",
      "Run progress:\n",
      "###################################################################### 69.6%\n",
      "Run progress:\n",
      "####################################################################### 70.4%\n",
      "Run progress:\n",
      "######################################################################## 71.1%\n",
      "Run progress:\n",
      "######################################################################## 71.9%\n",
      "Run progress:\n",
      "######################################################################### 72.6%\n",
      "Run progress:\n",
      "########################################################################## 73.3%\n",
      "Run progress:\n",
      "########################################################################### 74.1%\n",
      "Run progress:\n",
      "########################################################################### 74.8%\n",
      "Run progress:\n",
      "############################################################################ 75.6%\n",
      "Run progress:\n",
      "############################################################################# 76.3%\n",
      "Run progress:\n",
      "############################################################################## 77.0%\n",
      "Run progress:\n",
      "############################################################################## 77.8%\n",
      "Run progress:\n",
      "############################################################################### 78.5%\n",
      "Run progress:\n",
      "################################################################################ 79.3%\n",
      "Run progress:\n",
      "################################################################################ 80.0%\n",
      "Run progress:\n",
      "################################################################################# 80.7%\n",
      "Run progress:\n",
      "################################################################################## 81.5%\n",
      "Run progress:\n",
      "################################################################################### 82.2%\n",
      "Run progress:\n",
      "################################################################################### 83.0%\n",
      "Run progress:\n",
      "#################################################################################### 83.7%\n",
      "Run progress:\n",
      "##################################################################################### 84.4%\n",
      "Run progress:\n",
      "###################################################################################### 85.2%\n",
      "Run progress:\n",
      "###################################################################################### 85.9%\n",
      "Run progress:\n",
      "####################################################################################### 86.7%\n",
      "Run progress:\n",
      "######################################################################################## 87.4%\n"
     ]
    },
    {
     "name": "stdout",
     "output_type": "stream",
     "text": [
      "Run progress:\n",
      "######################################################################################### 88.1%\n",
      "Run progress:\n",
      "######################################################################################### 88.9%\n",
      "Run progress:\n",
      "########################################################################################## 89.6%\n",
      "Run progress:\n",
      "########################################################################################### 90.4%\n",
      "Run progress:\n",
      "############################################################################################ 91.1%\n",
      "Run progress:\n",
      "############################################################################################ 91.9%\n",
      "Run progress:\n",
      "############################################################################################# 92.6%\n",
      "Run progress:\n",
      "############################################################################################## 93.3%\n",
      "Run progress:\n",
      "############################################################################################### 94.1%\n",
      "Run progress:\n",
      "############################################################################################### 94.8%\n",
      "Run progress:\n",
      "################################################################################################ 95.6%\n",
      "Run progress:\n",
      "################################################################################################# 96.3%\n",
      "Run progress:\n",
      "################################################################################################## 97.0%\n",
      "Run progress:\n",
      "################################################################################################## 97.8%\n",
      "Run progress:\n",
      "################################################################################################### 98.5%\n",
      "Run progress:\n",
      "#################################################################################################### 99.3%\n",
      "Run progress:\n",
      "#################################################################################################### 100.0%\n",
      "Run progress:\n",
      "#################################################################################################### 100.0%\n",
      "Total runtime: 0 seconds\n"
     ]
    }
   ],
   "source": [
    "val modelWarehouse = new BasicSimulator\n",
    "\n",
    "// a few constants\n",
    "val rhocal:Double = 2.71 //Density of carbonates\n",
    "val cOf=889000 //concentration of O in fluid\n",
    "val cCf=200 //concentration of C in fluid\n",
    "val cOcal = 480000 //concentration of O in stoichiometric calcite\n",
    "val cCcal = 120000 //concentration of C in stoichiometric calcite\n",
    "val d13Ctdc = 0 //carbon isotope composition of total dissolved carbon in fluid\n",
    "\n",
    "// setting model variables\n",
    "val initialAge:ModelVariable[Double] = ModelVariable(\"Initial age\",96.0,\"Ma\")\n",
    "val finalAge:ModelVariable[Double] = ModelVariable(\"Final age\",0.0,\"Ma\")\n",
    "val d18Of:ModelVariable[Double] = ModelVariable(\"Fluid d18O\",-1.0,\"‰\")\n",
    "val TmaxSample:ModelVariable[Double] = ModelVariable(\"Tmax\",0.0,\"˚C\")\n",
    "val WFF:ModelVariable[Double] = ModelVariable(\"Weight fraction of fluid\",0.0,\"\")\n",
    "val CWRR:ModelVariable[Double] = ModelVariable(\"Cumulative water/rock ratio\",0.0,\"\")\n",
    "val FluidMass:ModelVariable[Double] = ModelVariable(\"Mass of fluid\",0.2,\"\")\n",
    "val d18Occ:ModelVariable[Double] = ModelVariable(\"d18Occ\",1.0,\"‰\")\n",
    "val d13Ccc:ModelVariable[Double] = ModelVariable(\"d13Ccc\",1.0,\"‰\")\n",
    "val D47r:ModelVariable[Double] = ModelVariable(\"D47 with partial recrystallization\",.5,\"‰\")\n",
    "val fractionRec:ModelVariable[Double] = ModelVariable(\"Fraction of recrystallization\",0.01,\"‰\")\n",
    "val initalBurialAtModelStart:ModelVariable[Double] = ModelVariable(\"Initial burial at model start\",0.0,\"meters\")\n",
    "\n",
    "// Initialise model conditions as lists\n",
    "val burialHistory = List((96.0,0.0), (39.0,2000.0), (0.0,-70.0))\n",
    "val geothermalGradientHistory= List((96.0,30.0),(0.0,30.0))\n",
    "val surfaceTemperaturesHistory = List((96.0,30.0),(0.0,30.0))\n",
    "val numberOfSteps = 10\n",
    "val ageList:List[Double] = List(97.0,96.0,95.0)\n",
    "val finalAgeList:List[Double] = List(0.0)\n",
    "val rangeOfFluidMasses:List[Double] = List(0.2)\n",
    "val rangeOfPartialRecrystallization = List(1.0,.5,.1,.01,0.0)\n",
    "\n",
    "// Bulk isotope calculation equations\n",
    "val d18OccFunction = (s:Step) => {\n",
    "    val cO=(WFF(s)*cOf)+(1-WFF(s))*cOcal\n",
    "    val alpha = math.exp((18.03*(1000*pow((burialTemperature(s)+273.15), -1)) - 32.42)/1000)\n",
    "    val d18O = ((d18Of(s) * WFF(s) * cOf) + d18Occ(s) * (1-WFF(s)) * cOf)/ cO\n",
    "    ((d18O * cOf * alpha) - (1000 * cOf * WFF(s) * (1-alpha))) / ((cOcal * (1-WFF(s)) * alpha) + cOf * WFF(s))\n",
    "}\n",
    "\n",
    "val d13CccFunction = (s:Step) => {\n",
    "    val cC=(WFF(s)*cCf)+(1-WFF(s))*cCcal\n",
    "    val alpha = exp((-2.4612+(7666.3/100) - (2.9880*pow(10,3)/pow((burialTemperature(s)+273.15),6)))/1000)\n",
    "    val d13C = ((d13Ctdc * WFF(s) * d13Ctdc) + (d13Ccc(s) * (1-WFF(s)) * cCcal))/cC\n",
    "    ((d13C * cC * alpha) - (1000 * cCf * WFF(s) * (1-alpha))) / (cCcal * (1-WFF(s) * alpha) + cCf * WFF(s))\n",
    "}\n",
    "\n",
    "val eaglefordModel = new SteppedModel(numberOfSteps,\"Eagleford recrystallization\")\n",
    "    .setGrid(19)\n",
    "    .defineMathematicalModel(\n",
    "      age =>> ageOfStep(initialAge,finalAge),\n",
    "      depth =>> {(s:Step) => {burialDepthFromAgeModel(age,burialHistory).apply(s)+initalBurialAtModelStart(s)}},\n",
    "      surfaceTemperature =>> surfaceTemperaturesAtAge(age, surfaceTemperaturesHistory),\n",
    "      geothermalGradient =>> geothermalGradientAtAge(age,geothermalGradientHistory),\n",
    "      burialTemperature =>> burialTemperatureFromGeothermalGradient(surfaceTemperature,depth,geothermalGradient),\n",
    "      dT =>> dTFun,\n",
    "      D47eq =>> D47eqFun,\n",
    "      D47i =>> D47iFun,\n",
    "      SampleTemp =>> davies19_T,\n",
    "      FluidMass =>> {(s:Step) => 0.2},\n",
    "      d18Of =>> {(s:Step) => -1.0},\n",
    "      WFF =>> {(s:Step) => FluidMass(s) / (FluidMass(s) + rhocal)},\n",
    "      CWRR =>> {(s:Step) => s.stepNumber * WFF(s)/(1-WFF(s))},\n",
    "      d18Occ =>> d18OccFunction,\n",
    "      d13Ccc =>> d13CccFunction,\n",
    "      D47r =>> {(s:Step) => {if(burialTemperature(s)-burialTemperature(s-1) >= 0){D47r(s-1) * (1.0-fractionRec(s)) + D47eq(s) * fractionRec(s)}\n",
    "      else {D47r(s-1)}}}\n",
    "    )\n",
    "    .defineInitialModelConditions(\n",
    "      AllCells(initialAge,ageList),\n",
    "      AllCells(finalAge,finalAgeList),\n",
    "      AllCells(fractionRec,rangeOfPartialRecrystallization),\n",
    "      AllCells(D47i,List(0.670,0.680,0.690)),\n",
    "      AllCells(D47r,List(0.670,0.680,0.690)),\n",
    "      PerCell(initalBurialAtModelStart,List(\n",
    "        (List(0.0),Seq(0)),\n",
    "        (List(-0.91),Seq(1)),\n",
    "        (List(-1.22),Seq(2)),\n",
    "        (List(-2.90),Seq(3)),\n",
    "        (List(-4.57),Seq(4)),\n",
    "        (List(-4.88),Seq(5)),\n",
    "        (List(-4.90),Seq(6)),\n",
    "        (List(-6.10),Seq(7)),\n",
    "        (List(-6.40),Seq(8)),\n",
    "        (List(-6.71),Seq(9)),\n",
    "        (List(-25.90),Seq(10)),\n",
    "        (List(-28.96),Seq(11)),\n",
    "        (List(-29.87),Seq(12)),\n",
    "        (List(-35.05),Seq(13)),\n",
    "        (List(-35.36),Seq(14)),\n",
    "        (List(-35.97),Seq(15)),\n",
    "        (List(-36.58),Seq(16)),\n",
    "        (List(-37.19),Seq(17)),\n",
    "        (List(-38.90),Seq(18)))))\n",
    "    .defineCalibration(\n",
    "      D47r.isBetween(0.511,0.683).atCells(Seq(0)),\n",
    "      D47r.isBetween(0.511,0.683).atCells(Seq(1)),\n",
    "      D47r.isBetween(0.511,0.683).atCells(Seq(2)),\n",
    "      D47r.isBetween(0.511,0.683).atCells(Seq(3)),\n",
    "      D47r.isBetween(0.511,0.683).atCells(Seq(4)),\n",
    "      D47r.isBetween(0.511,0.683).atCells(Seq(5)),\n",
    "      D47r.isBetween(0.511,0.683).atCells(Seq(6)),\n",
    "      D47r.isBetween(0.511,0.683).atCells(Seq(7)),\n",
    "      D47r.isBetween(0.511,0.683).atCells(Seq(8)),\n",
    "      D47r.isBetween(0.511,0.683).atCells(Seq(9)),\n",
    "      D47r.isBetween(0.511,0.683).atCells(Seq(10)),\n",
    "      D47r.isBetween(0.511,0.683).atCells(Seq(11)),\n",
    "      D47r.isBetween(0.511,0.683).atCells(Seq(12)),\n",
    "      D47r.isBetween(0.511,0.683).atCells(Seq(13)),\n",
    "      D47r.isBetween(0.511,0.683).atCells(Seq(14)),\n",
    "      D47r.isBetween(0.511,0.683).atCells(Seq(15)),\n",
    "      D47r.isBetween(0.511,0.683).atCells(Seq(16)),\n",
    "      D47r.isBetween(0.511,0.683).atCells(Seq(17)),\n",
    "      D47r.isBetween(0.511,0.683).atCells(Seq(18))\n",
    ")\n",
    "\n",
    "modelWarehouse.evaluate(eaglefordModel)\n",
    "Thread.sleep(1000)"
   ]
  },
  {
   "cell_type": "code",
   "execution_count": 102,
   "metadata": {
    "scrolled": false
   },
   "outputs": [
    {
     "data": {
      "text/html": [
       "<div id=\"grid-container_0yYHRLsqNm\" class=\"grid-container\" align=\"center\"> \n",
       "<div id=\"grid_0yYHRLsqNm\" class=\"grid\" align=\"center\"> \n",
       "<div id=\"graph_594rhOB8O2\" class=\"graph\"></div> \n",
       "</div> \n",
       "</div> \n",
       "<script>\n",
       "var masonry = new Macy({\n",
       "    container: '#grid_0yYHRLsqNm',\n",
       "    debug: true,\n",
       "    mobileFirst: true,\n",
       "    columns: 1,\n",
       "    margin: {\n",
       "        x: 0,\n",
       "        y: 0\n",
       "    }\n",
       "  });\n",
       "\n",
       " var traces_594rhOB8O2 = [{\"name\":\"na0ytfQhWd\",\"type\":\"scatter\",\"x\":[97,86.22222222222223,75.44444444444444,64.66666666666666,53.888888888888886,43.11111111111111,32.33333333333333,21.555555555555543,10.777777777777771,0],\"y\":[5.89348426912598,5.638181586030623,5.40033576234191,5.178215948453285,4.970312739614294,4.775303866897426,4.881865925657495,5.192623895144487,5.5361762606165605,5.918001697432124]},{\"name\":\"tjHMI9Zs6M\",\"type\":\"scatter\",\"yaxis\":\"y2\",\"x\":[97,86.22222222222223,75.44444444444444,64.66666666666666,53.888888888888886,43.11111111111111,32.33333333333333,21.555555555555543,10.777777777777771,0],\"y\":[1.092574472614591,1.0925744726145918,1.0925744726145925,1.0925744726145934,1.0925744726145936,1.0925744726145943,1.0925744726145938,1.0925744726145932,1.0925744726145923,1.0925744726145907]}];\n",
       " var layout_594rhOB8O2 = {\"height\":550,\"width\":600,\"hovermode\":\"closest\",\"legend\":{\"orientation\":\"v\"},\"title\":{\"text\":\"d18Occ vs d13Ccc\"},\"showlegend\":true,\"xaxis\":{\"title\":{\"text\":\"age\"},\"showgrid\":true,\"zeroline\":false,\"showline\":false},\"yaxis\":{\"title\":{\"text\":\"d18Occ\"},\"showgrid\":true,\"zeroline\":false,\"showline\":false},\"yaxis2\":{\"title\":{\"text\":\"d13Ccc\"},\"showgrid\":true,\"zeroline\":false,\"showline\":false,\"side\":\"right\",\"overlaying\":\"y\",\"tickformat\":\"0.2f\"}};\n",
       " var config_594rhOB8O2 = {\"responsive\":true,\"scrollZoom\":true,\"displaylogo\":false};\n",
       " Plotly.newPlot(\"graph_594rhOB8O2\", traces_594rhOB8O2, layout_594rhOB8O2, config_594rhOB8O2);\n",
       "</script> \n"
      ]
     },
     "metadata": {},
     "output_type": "display_data"
    }
   ],
   "source": [
    "// grab the results from the Conus model\n",
    "val model: SingleModelResults = modelWarehouse(eaglefordModel)(0)\n",
    "\n",
    "// we can use the utility function to grab the series for a single variable\n",
    "val series1: List[Double] = getDataFromSingleModel(model, age, List(0), numberOfSteps)\n",
    "val series2: List[Double] = getDataFromSingleModel(model, d18Occ, List(0), numberOfSteps)\n",
    "\n",
    "val xy1 = XY(series1, series2)\n",
    "\n",
    "// alternatively we can quickly get the same data for XY using the function below\n",
    "//  val xy1 = getXYSeriesFromSingleModel(model, (age, d18Occ), List(0), numberOfSteps)\n",
    "\n",
    "// lets also plot a second y variable\n",
    "val yaxis2 = YAxis(\n",
    "    position = 2, \n",
    "    title = \"d13Ccc\", \n",
    "    overlaying = YAxis(), // this ensures that the axis sits on a seperate axis\n",
    "    side = RIGHT, // this ensures the axis is on the right hand side\n",
    "    tickformat = \"0.2f\" // this will keep formatting reasonable for display purposes\n",
    ")\n",
    "\n",
    "// we construct the second y variable;\n",
    "val series3: List[Double] = getDataFromSingleModel(model, d13Ccc, List(0), numberOfSteps)\n",
    "val xy2 = XY(series1, series3) setAxis yaxis2\n",
    "\n",
    "// finally we can combine in a single chart\n",
    "val chart = (\n",
    "    Chart() \n",
    "    addSeries xy1\n",
    "    addSeries xy2\n",
    "    setTitle(\"d18Occ vs d13Ccc\") \n",
    "    addAxes(XAxis(title=\"age\"), YAxis(title=\"d18Occ\"), yaxis2)\n",
    ")\n",
    "\n",
    "val canvas = Canvas() addCharts chart\n",
    "\n",
    "// When we plot the result, we can see the legend is in the wrong place and overlaying the axis - we can overcome this\n",
    "// in the next example\n",
    "canvas.plotInline()"
   ]
  },
  {
   "cell_type": "markdown",
   "metadata": {},
   "source": [
    "### Moving the Legend\n",
    "\n",
    "We can also move the Legend and position it where we would like as follows:"
   ]
  },
  {
   "cell_type": "code",
   "execution_count": 103,
   "metadata": {},
   "outputs": [],
   "source": [
    "import org.carbonateresearch.picta.options.AUTO"
   ]
  },
  {
   "cell_type": "code",
   "execution_count": 104,
   "metadata": {
    "scrolled": false
   },
   "outputs": [
    {
     "data": {
      "text/html": [
       "<div id=\"grid-container_fh9kgcSgf1\" class=\"grid-container\" align=\"center\"> \n",
       "<div id=\"grid_fh9kgcSgf1\" class=\"grid\" align=\"center\"> \n",
       "<div id=\"graph_5yyOJ5Fxml\" class=\"graph\"></div> \n",
       "</div> \n",
       "</div> \n",
       "<script>\n",
       "var masonry = new Macy({\n",
       "    container: '#grid_fh9kgcSgf1',\n",
       "    debug: true,\n",
       "    mobileFirst: true,\n",
       "    columns: 1,\n",
       "    margin: {\n",
       "        x: 0,\n",
       "        y: 0\n",
       "    }\n",
       "  });\n",
       "\n",
       " var traces_5yyOJ5Fxml = [{\"name\":\"na0ytfQhWd\",\"type\":\"scatter\",\"x\":[97,86.22222222222223,75.44444444444444,64.66666666666666,53.888888888888886,43.11111111111111,32.33333333333333,21.555555555555543,10.777777777777771,0],\"y\":[5.89348426912598,5.638181586030623,5.40033576234191,5.178215948453285,4.970312739614294,4.775303866897426,4.881865925657495,5.192623895144487,5.5361762606165605,5.918001697432124]},{\"name\":\"tjHMI9Zs6M\",\"type\":\"scatter\",\"yaxis\":\"y2\",\"x\":[97,86.22222222222223,75.44444444444444,64.66666666666666,53.888888888888886,43.11111111111111,32.33333333333333,21.555555555555543,10.777777777777771,0],\"y\":[1.092574472614591,1.0925744726145918,1.0925744726145925,1.0925744726145934,1.0925744726145936,1.0925744726145943,1.0925744726145938,1.0925744726145932,1.0925744726145923,1.0925744726145907]}];\n",
       " var layout_5yyOJ5Fxml = {\"height\":550,\"width\":600,\"hovermode\":\"closest\",\"legend\":{\"orientation\":\"h\",\"x\":0.5,\"y\":-0.5,\"xanchor\":\"auto\",\"yanchor\":\"auto\"},\"title\":{\"text\":\"d18Occ vs d13Ccc\"},\"showlegend\":true,\"xaxis\":{\"title\":{\"text\":\"age\"},\"showgrid\":true,\"zeroline\":false,\"showline\":false},\"yaxis\":{\"title\":{\"text\":\"d18Occ\"},\"showgrid\":true,\"zeroline\":false,\"showline\":false},\"yaxis2\":{\"title\":{\"text\":\"d13Ccc\"},\"showgrid\":true,\"zeroline\":false,\"showline\":false,\"side\":\"right\",\"overlaying\":\"y\",\"tickformat\":\"0.2f\"}};\n",
       " var config_5yyOJ5Fxml = {\"responsive\":true,\"scrollZoom\":true,\"displaylogo\":false};\n",
       " Plotly.newPlot(\"graph_5yyOJ5Fxml\", traces_5yyOJ5Fxml, layout_5yyOJ5Fxml, config_5yyOJ5Fxml);\n",
       "</script> \n"
      ]
     },
     "metadata": {},
     "output_type": "display_data"
    }
   ],
   "source": [
    "// finally we can combine in a single chart\n",
    "val chart = (\n",
    "    Chart() \n",
    "    addSeries xy1\n",
    "    addSeries xy2\n",
    "    setTitle(\"d18Occ vs d13Ccc\") \n",
    "    addAxes(XAxis(title=\"age\"), YAxis(title=\"d18Occ\"), yaxis2)\n",
    "    setLegend(x = 0.5, y = -0.5, orientation = HORIZONTAL, xanchor = AUTO, yanchor = AUTO)\n",
    ")\n",
    "\n",
    "\n",
    "val canvas = Canvas() addCharts chart\n",
    "\n",
    "canvas.plotInline()"
   ]
  },
  {
   "cell_type": "code",
   "execution_count": null,
   "metadata": {},
   "outputs": [],
   "source": []
  }
 ],
 "metadata": {
  "kernelspec": {
   "display_name": "Scala",
   "language": "scala",
   "name": "scala"
  },
  "language_info": {
   "codemirror_mode": "text/x-scala",
   "file_extension": ".scala",
   "mimetype": "text/x-scala",
   "name": "scala",
   "nbconvert_exporter": "script",
   "version": "2.13.2"
  }
 },
 "nbformat": 4,
 "nbformat_minor": 4
}
