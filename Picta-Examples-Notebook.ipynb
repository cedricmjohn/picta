{
 "cells": [
  {
   "cell_type": "markdown",
   "metadata": {},
   "source": [
    "# 1. Setup\n",
    "\n",
    "To use Picta in a Jupyter notebook with the Almond.sh kernel, you need to first register a new Jitpack repository as some essential components of Almond are not availble in Maven Central (simply copy and run the first cell below). You then need to import the library from Maven (second cell) and initialize the notebook to have nicer outputs (optional, third cell)."
   ]
  },
  {
   "cell_type": "code",
   "execution_count": 1,
   "metadata": {},
   "outputs": [],
   "source": [
    "interp.repositories() ++= Seq(coursierapi.MavenRepository.of(\n",
    "\"https://jitpack.io\"\n",
    "))"
   ]
  },
  {
   "cell_type": "code",
   "execution_count": 2,
   "metadata": {},
   "outputs": [
    {
     "data": {
      "text/plain": [
       "\u001b[32mimport \u001b[39m\u001b[36m$ivy.$                                    \u001b[39m"
      ]
     },
     "execution_count": 2,
     "metadata": {},
     "output_type": "execute_result"
    }
   ],
   "source": [
    "import $ivy. `org.carbonateresearch::picta:0.1.1`"
   ]
  },
  {
   "cell_type": "code",
   "execution_count": 3,
   "metadata": {
    "scrolled": false
   },
   "outputs": [
    {
     "data": {
      "text/html": [
       "\n",
       "<style> #animationInterface {\n",
       "    margin-top: 50px;\n",
       "    margin-bottom: 50px;\n",
       "}\n",
       "\n",
       ".progressBar {\n",
       "    padding-top: 20px;\n",
       "    padding-bottom: 20px;\n",
       "}\n",
       "\n",
       ".inline-div {\n",
       "    display: block;\n",
       "    text-align: center;\n",
       "}\n",
       "\n",
       "h3 {\n",
       "    display: inline-block;\n",
       "    text-align: center;\n",
       "}\n",
       "\n",
       ".picta-button {\n",
       "    background-color: #003E74;\n",
       "    border: none;\n",
       "    color: white;\n",
       "    padding: 12px 28px;\n",
       "    text-align: center;\n",
       "    text-decoration: none;\n",
       "    display: inline-block;\n",
       "    font-size: 12px;\n",
       "    margin-top: 50px;\n",
       "    transition-duration: 0.4s;\n",
       "    cursor: pointer;\n",
       "}\n",
       "\n",
       ".picta-button:hover {\n",
       "    background-color: #002147;\n",
       "    color: white;\n",
       "}\n",
       "\n",
       ".grid-title h1 {\n",
       "    font-family: \"Open Sans\", verdana, arial, sans-serif;\n",
       "    font-weight: normal;\n",
       "}\n",
       "\n",
       ".grid-container {\n",
       "    padding-top: 40px;\n",
       "    background: white;\n",
       "} </style>\n",
       "<script> /** vim: et:ts=4:sw=4:sts=4\n",
       " * @license RequireJS 2.3.6 Copyright jQuery Foundation and other contributors.\n",
       " * Released under MIT license, https://github.com/requirejs/requirejs/blob/master/LICENSE\n",
       " */\n",
       "var requirejs,require,define;!function(global,setTimeout){var req,s,head,baseElement,dataMain,src,interactiveScript,currentlyAddingScript,mainScript,subPath,version=\"2.3.6\",commentRegExp=/\\/\\*[\\s\\S]*?\\*\\/|([^:\"'=]|^)\\/\\/.*$/gm,cjsRequireRegExp=/[^.]\\s*require\\s*\\(\\s*[\"']([^'\"\\s]+)[\"']\\s*\\)/g,jsSuffixRegExp=/\\.js$/,currDirRegExp=/^\\.\\//,op=Object.prototype,ostring=op.toString,hasOwn=op.hasOwnProperty,isBrowser=!(\"undefined\"==typeof window||\"undefined\"==typeof navigator||!window.document),isWebWorker=!isBrowser&&\"undefined\"!=typeof importScripts,readyRegExp=isBrowser&&\"PLAYSTATION 3\"===navigator.platform?/^complete$/:/^(complete|loaded)$/,defContextName=\"_\",isOpera=\"undefined\"!=typeof opera&&\"[object Opera]\"===opera.toString(),contexts={},cfg={},globalDefQueue=[],useInteractive=!1;function commentReplace(e,t){return t||\"\"}function isFunction(e){return\"[object Function]\"===ostring.call(e)}function isArray(e){return\"[object Array]\"===ostring.call(e)}function each(e,t){var i;if(e)for(i=0;i<e.length&&(!e[i]||!t(e[i],i,e));i+=1);}function eachReverse(e,t){var i;if(e)for(i=e.length-1;-1<i&&(!e[i]||!t(e[i],i,e));i-=1);}function hasProp(e,t){return hasOwn.call(e,t)}function getOwn(e,t){return hasProp(e,t)&&e[t]}function eachProp(e,t){var i;for(i in e)if(hasProp(e,i)&&t(e[i],i))break}function mixin(i,e,r,n){return e&&eachProp(e,function(e,t){!r&&hasProp(i,t)||(!n||\"object\"!=typeof e||!e||isArray(e)||isFunction(e)||e instanceof RegExp?i[t]=e:(i[t]||(i[t]={}),mixin(i[t],e,r,n)))}),i}function bind(e,t){return function(){return t.apply(e,arguments)}}function scripts(){return document.getElementsByTagName(\"script\")}function defaultOnError(e){throw e}function getGlobal(e){if(!e)return e;var t=global;return each(e.split(\".\"),function(e){t=t[e]}),t}function makeError(e,t,i,r){var n=new Error(t+\"\\nhttps://requirejs.org/docs/errors.html#\"+e);return n.requireType=e,n.requireModules=r,i&&(n.originalError=i),n}if(void 0===define){if(void 0!==requirejs){if(isFunction(requirejs))return;cfg=requirejs,requirejs=void 0}void 0===require||isFunction(require)||(cfg=require,require=void 0),req=requirejs=function(e,t,i,r){var n,o,a=defContextName;return isArray(e)||\"string\"==typeof e||(o=e,isArray(t)?(e=t,t=i,i=r):e=[]),o&&o.context&&(a=o.context),(n=getOwn(contexts,a))||(n=contexts[a]=req.s.newContext(a)),o&&n.configure(o),n.require(e,t,i)},req.config=function(e){return req(e)},req.nextTick=void 0!==setTimeout?function(e){setTimeout(e,4)}:function(e){e()},require||(require=req),req.version=version,req.jsExtRegExp=/^\\/|:|\\?|\\.js$/,req.isBrowser=isBrowser,s=req.s={contexts:contexts,newContext:newContext},req({}),each([\"toUrl\",\"undef\",\"defined\",\"specified\"],function(t){req[t]=function(){var e=contexts[defContextName];return e.require[t].apply(e,arguments)}}),isBrowser&&(head=s.head=document.getElementsByTagName(\"head\")[0],baseElement=document.getElementsByTagName(\"base\")[0],baseElement&&(head=s.head=baseElement.parentNode)),req.onError=defaultOnError,req.createNode=function(e,t,i){var r=e.xhtml?document.createElementNS(\"http://www.w3.org/1999/xhtml\",\"html:script\"):document.createElement(\"script\");return r.type=e.scriptType||\"text/javascript\",r.charset=\"utf-8\",r.async=!0,r},req.load=function(t,i,r){var e,n=t&&t.config||{};if(isBrowser)return(e=req.createNode(n,i,r)).setAttribute(\"data-requirecontext\",t.contextName),e.setAttribute(\"data-requiremodule\",i),!e.attachEvent||e.attachEvent.toString&&e.attachEvent.toString().indexOf(\"[native code\")<0||isOpera?(e.addEventListener(\"load\",t.onScriptLoad,!1),e.addEventListener(\"error\",t.onScriptError,!1)):(useInteractive=!0,e.attachEvent(\"onreadystatechange\",t.onScriptLoad)),e.src=r,n.onNodeCreated&&n.onNodeCreated(e,n,i,r),currentlyAddingScript=e,baseElement?head.insertBefore(e,baseElement):head.appendChild(e),currentlyAddingScript=null,e;if(isWebWorker)try{setTimeout(function(){},0),importScripts(r),t.completeLoad(i)}catch(e){t.onError(makeError(\"importscripts\",\"importScripts failed for \"+i+\" at \"+r,e,[i]))}},isBrowser&&!cfg.skipDataMain&&eachReverse(scripts(),function(e){if(head||(head=e.parentNode),dataMain=e.getAttribute(\"data-main\"))return mainScript=dataMain,cfg.baseUrl||-1!==mainScript.indexOf(\"!\")||(mainScript=(src=mainScript.split(\"/\")).pop(),subPath=src.length?src.join(\"/\")+\"/\":\"./\",cfg.baseUrl=subPath),mainScript=mainScript.replace(jsSuffixRegExp,\"\"),req.jsExtRegExp.test(mainScript)&&(mainScript=dataMain),cfg.deps=cfg.deps?cfg.deps.concat(mainScript):[mainScript],!0}),define=function(e,i,t){var r,n;\"string\"!=typeof e&&(t=i,i=e,e=null),isArray(i)||(t=i,i=null),!i&&isFunction(t)&&(i=[],t.length&&(t.toString().replace(commentRegExp,commentReplace).replace(cjsRequireRegExp,function(e,t){i.push(t)}),i=(1===t.length?[\"require\"]:[\"require\",\"exports\",\"module\"]).concat(i))),useInteractive&&(r=currentlyAddingScript||getInteractiveScript())&&(e||(e=r.getAttribute(\"data-requiremodule\")),n=contexts[r.getAttribute(\"data-requirecontext\")]),n?(n.defQueue.push([e,i,t]),n.defQueueMap[e]=!0):globalDefQueue.push([e,i,t])},define.amd={jQuery:!0},req.exec=function(text){return eval(text)},req(cfg)}function newContext(u){var i,e,l,c,d,g={waitSeconds:7,baseUrl:\"./\",paths:{},bundles:{},pkgs:{},shim:{},config:{}},p={},f={},r={},h=[],m={},n={},v={},x=1,b=1;function q(e,t,i){var r,n,o,a,s,u,c,d,p,f,l=t&&t.split(\"/\"),h=g.map,m=h&&h[\"*\"];if(e&&(u=(e=e.split(\"/\")).length-1,g.nodeIdCompat&&jsSuffixRegExp.test(e[u])&&(e[u]=e[u].replace(jsSuffixRegExp,\"\")),\".\"===e[0].charAt(0)&&l&&(e=l.slice(0,l.length-1).concat(e)),function(e){var t,i;for(t=0;t<e.length;t++)if(\".\"===(i=e[t]))e.splice(t,1),t-=1;else if(\"..\"===i){if(0===t||1===t&&\"..\"===e[2]||\"..\"===e[t-1])continue;0<t&&(e.splice(t-1,2),t-=2)}}(e),e=e.join(\"/\")),i&&h&&(l||m)){e:for(o=(n=e.split(\"/\")).length;0<o;o-=1){if(s=n.slice(0,o).join(\"/\"),l)for(a=l.length;0<a;a-=1)if((r=getOwn(h,l.slice(0,a).join(\"/\")))&&(r=getOwn(r,s))){c=r,d=o;break e}!p&&m&&getOwn(m,s)&&(p=getOwn(m,s),f=o)}!c&&p&&(c=p,d=f),c&&(n.splice(0,d,c),e=n.join(\"/\"))}return getOwn(g.pkgs,e)||e}function E(t){isBrowser&&each(scripts(),function(e){if(e.getAttribute(\"data-requiremodule\")===t&&e.getAttribute(\"data-requirecontext\")===l.contextName)return e.parentNode.removeChild(e),!0})}function w(e){var t=getOwn(g.paths,e);if(t&&isArray(t)&&1<t.length)return t.shift(),l.require.undef(e),l.makeRequire(null,{skipMap:!0})([e]),!0}function y(e){var t,i=e?e.indexOf(\"!\"):-1;return-1<i&&(t=e.substring(0,i),e=e.substring(i+1,e.length)),[t,e]}function S(e,t,i,r){var n,o,a,s,u=null,c=t?t.name:null,d=e,p=!0,f=\"\";return e||(p=!1,e=\"_@r\"+(x+=1)),u=(s=y(e))[0],e=s[1],u&&(u=q(u,c,r),o=getOwn(m,u)),e&&(u?f=i?e:o&&o.normalize?o.normalize(e,function(e){return q(e,c,r)}):-1===e.indexOf(\"!\")?q(e,c,r):e:(u=(s=y(f=q(e,c,r)))[0],f=s[1],i=!0,n=l.nameToUrl(f))),{prefix:u,name:f,parentMap:t,unnormalized:!!(a=!u||o||i?\"\":\"_unnormalized\"+(b+=1)),url:n,originalName:d,isDefine:p,id:(u?u+\"!\"+f:f)+a}}function k(e){var t=e.id,i=getOwn(p,t);return i||(i=p[t]=new l.Module(e)),i}function M(e,t,i){var r=e.id,n=getOwn(p,r);!hasProp(m,r)||n&&!n.defineEmitComplete?(n=k(e)).error&&\"error\"===t?i(n.error):n.on(t,i):\"defined\"===t&&i(m[r])}function O(i,e){var t=i.requireModules,r=!1;e?e(i):(each(t,function(e){var t=getOwn(p,e);t&&(t.error=i,t.events.error&&(r=!0,t.emit(\"error\",i)))}),r||req.onError(i))}function j(){globalDefQueue.length&&(each(globalDefQueue,function(e){var t=e[0];\"string\"==typeof t&&(l.defQueueMap[t]=!0),h.push(e)}),globalDefQueue=[])}function P(e){delete p[e],delete f[e]}function R(){var e,r,t=1e3*g.waitSeconds,n=t&&l.startTime+t<(new Date).getTime(),o=[],a=[],s=!1,u=!0;if(!i){if(i=!0,eachProp(f,function(e){var t=e.map,i=t.id;if(e.enabled&&(t.isDefine||a.push(e),!e.error))if(!e.inited&&n)w(i)?s=r=!0:(o.push(i),E(i));else if(!e.inited&&e.fetched&&t.isDefine&&(s=!0,!t.prefix))return u=!1}),n&&o.length)return(e=makeError(\"timeout\",\"Load timeout for modules: \"+o,null,o)).contextName=l.contextName,O(e);u&&each(a,function(e){!function n(o,a,s){var e=o.map.id;o.error?o.emit(\"error\",o.error):(a[e]=!0,each(o.depMaps,function(e,t){var i=e.id,r=getOwn(p,i);!r||o.depMatched[t]||s[i]||(getOwn(a,i)?(o.defineDep(t,m[i]),o.check()):n(r,a,s))}),s[e]=!0)}(e,{},{})}),n&&!r||!s||!isBrowser&&!isWebWorker||d||(d=setTimeout(function(){d=0,R()},50)),i=!1}}function a(e){hasProp(m,e[0])||k(S(e[0],null,!0)).init(e[1],e[2])}function o(e,t,i,r){e.detachEvent&&!isOpera?r&&e.detachEvent(r,t):e.removeEventListener(i,t,!1)}function s(e){var t=e.currentTarget||e.srcElement;return o(t,l.onScriptLoad,\"load\",\"onreadystatechange\"),o(t,l.onScriptError,\"error\"),{node:t,id:t&&t.getAttribute(\"data-requiremodule\")}}function T(){var e;for(j();h.length;){if(null===(e=h.shift())[0])return O(makeError(\"mismatch\",\"Mismatched anonymous define() module: \"+e[e.length-1]));a(e)}l.defQueueMap={}}return c={require:function(e){return e.require?e.require:e.require=l.makeRequire(e.map)},exports:function(e){if(e.usingExports=!0,e.map.isDefine)return e.exports?m[e.map.id]=e.exports:e.exports=m[e.map.id]={}},module:function(e){return e.module?e.module:e.module={id:e.map.id,uri:e.map.url,config:function(){return getOwn(g.config,e.map.id)||{}},exports:e.exports||(e.exports={})}}},(e=function(e){this.events=getOwn(r,e.id)||{},this.map=e,this.shim=getOwn(g.shim,e.id),this.depExports=[],this.depMaps=[],this.depMatched=[],this.pluginMaps={},this.depCount=0}).prototype={init:function(e,t,i,r){r=r||{},this.inited||(this.factory=t,i?this.on(\"error\",i):this.events.error&&(i=bind(this,function(e){this.emit(\"error\",e)})),this.depMaps=e&&e.slice(0),this.errback=i,this.inited=!0,this.ignore=r.ignore,r.enabled||this.enabled?this.enable():this.check())},defineDep:function(e,t){this.depMatched[e]||(this.depMatched[e]=!0,this.depCount-=1,this.depExports[e]=t)},fetch:function(){if(!this.fetched){this.fetched=!0,l.startTime=(new Date).getTime();var e=this.map;if(!this.shim)return e.prefix?this.callPlugin():this.load();l.makeRequire(this.map,{enableBuildCallback:!0})(this.shim.deps||[],bind(this,function(){return e.prefix?this.callPlugin():this.load()}))}},load:function(){var e=this.map.url;n[e]||(n[e]=!0,l.load(this.map.id,e))},check:function(){if(this.enabled&&!this.enabling){var t,e,i=this.map.id,r=this.depExports,n=this.exports,o=this.factory;if(this.inited){if(this.error)this.emit(\"error\",this.error);else if(!this.defining){if(this.defining=!0,this.depCount<1&&!this.defined){if(isFunction(o)){if(this.events.error&&this.map.isDefine||req.onError!==defaultOnError)try{n=l.execCb(i,o,r,n)}catch(e){t=e}else n=l.execCb(i,o,r,n);if(this.map.isDefine&&void 0===n&&((e=this.module)?n=e.exports:this.usingExports&&(n=this.exports)),t)return t.requireMap=this.map,t.requireModules=this.map.isDefine?[this.map.id]:null,t.requireType=this.map.isDefine?\"define\":\"require\",O(this.error=t)}else n=o;if(this.exports=n,this.map.isDefine&&!this.ignore&&(m[i]=n,req.onResourceLoad)){var a=[];each(this.depMaps,function(e){a.push(e.normalizedMap||e)}),req.onResourceLoad(l,this.map,a)}P(i),this.defined=!0}this.defining=!1,this.defined&&!this.defineEmitted&&(this.defineEmitted=!0,this.emit(\"defined\",this.exports),this.defineEmitComplete=!0)}}else hasProp(l.defQueueMap,i)||this.fetch()}},callPlugin:function(){var u=this.map,c=u.id,e=S(u.prefix);this.depMaps.push(e),M(e,\"defined\",bind(this,function(e){var o,t,i,r=getOwn(v,this.map.id),n=this.map.name,a=this.map.parentMap?this.map.parentMap.name:null,s=l.makeRequire(u.parentMap,{enableBuildCallback:!0});return this.map.unnormalized?(e.normalize&&(n=e.normalize(n,function(e){return q(e,a,!0)})||\"\"),M(t=S(u.prefix+\"!\"+n,this.map.parentMap,!0),\"defined\",bind(this,function(e){this.map.normalizedMap=t,this.init([],function(){return e},null,{enabled:!0,ignore:!0})})),void((i=getOwn(p,t.id))&&(this.depMaps.push(t),this.events.error&&i.on(\"error\",bind(this,function(e){this.emit(\"error\",e)})),i.enable()))):r?(this.map.url=l.nameToUrl(r),void this.load()):((o=bind(this,function(e){this.init([],function(){return e},null,{enabled:!0})})).error=bind(this,function(e){this.inited=!0,(this.error=e).requireModules=[c],eachProp(p,function(e){0===e.map.id.indexOf(c+\"_unnormalized\")&&P(e.map.id)}),O(e)}),o.fromText=bind(this,function(e,t){var i=u.name,r=S(i),n=useInteractive;t&&(e=t),n&&(useInteractive=!1),k(r),hasProp(g.config,c)&&(g.config[i]=g.config[c]);try{req.exec(e)}catch(e){return O(makeError(\"fromtexteval\",\"fromText eval for \"+c+\" failed: \"+e,e,[c]))}n&&(useInteractive=!0),this.depMaps.push(r),l.completeLoad(i),s([i],o)}),void e.load(u.name,s,o,g))})),l.enable(e,this),this.pluginMaps[e.id]=e},enable:function(){(f[this.map.id]=this).enabled=!0,this.enabling=!0,each(this.depMaps,bind(this,function(e,t){var i,r,n;if(\"string\"==typeof e){if(e=S(e,this.map.isDefine?this.map:this.map.parentMap,!1,!this.skipMap),this.depMaps[t]=e,n=getOwn(c,e.id))return void(this.depExports[t]=n(this));this.depCount+=1,M(e,\"defined\",bind(this,function(e){this.undefed||(this.defineDep(t,e),this.check())})),this.errback?M(e,\"error\",bind(this,this.errback)):this.events.error&&M(e,\"error\",bind(this,function(e){this.emit(\"error\",e)}))}i=e.id,r=p[i],hasProp(c,i)||!r||r.enabled||l.enable(e,this)})),eachProp(this.pluginMaps,bind(this,function(e){var t=getOwn(p,e.id);t&&!t.enabled&&l.enable(e,this)})),this.enabling=!1,this.check()},on:function(e,t){var i=this.events[e];i||(i=this.events[e]=[]),i.push(t)},emit:function(e,t){each(this.events[e],function(e){e(t)}),\"error\"===e&&delete this.events[e]}},(l={config:g,contextName:u,registry:p,defined:m,urlFetched:n,defQueue:h,defQueueMap:{},Module:e,makeModuleMap:S,nextTick:req.nextTick,onError:O,configure:function(e){if(e.baseUrl&&\"/\"!==e.baseUrl.charAt(e.baseUrl.length-1)&&(e.baseUrl+=\"/\"),\"string\"==typeof e.urlArgs){var i=e.urlArgs;e.urlArgs=function(e,t){return(-1===t.indexOf(\"?\")?\"?\":\"&\")+i}}var r=g.shim,n={paths:!0,bundles:!0,config:!0,map:!0};eachProp(e,function(e,t){n[t]?(g[t]||(g[t]={}),mixin(g[t],e,!0,!0)):g[t]=e}),e.bundles&&eachProp(e.bundles,function(e,t){each(e,function(e){e!==t&&(v[e]=t)})}),e.shim&&(eachProp(e.shim,function(e,t){isArray(e)&&(e={deps:e}),!e.exports&&!e.init||e.exportsFn||(e.exportsFn=l.makeShimExports(e)),r[t]=e}),g.shim=r),e.packages&&each(e.packages,function(e){var t;t=(e=\"string\"==typeof e?{name:e}:e).name,e.location&&(g.paths[t]=e.location),g.pkgs[t]=e.name+\"/\"+(e.main||\"main\").replace(currDirRegExp,\"\").replace(jsSuffixRegExp,\"\")}),eachProp(p,function(e,t){e.inited||e.map.unnormalized||(e.map=S(t,null,!0))}),(e.deps||e.callback)&&l.require(e.deps||[],e.callback)},makeShimExports:function(t){return function(){var e;return t.init&&(e=t.init.apply(global,arguments)),e||t.exports&&getGlobal(t.exports)}},makeRequire:function(o,a){function s(e,t,i){var r,n;return a.enableBuildCallback&&t&&isFunction(t)&&(t.__requireJsBuild=!0),\"string\"==typeof e?isFunction(t)?O(makeError(\"requireargs\",\"Invalid require call\"),i):o&&hasProp(c,e)?c[e](p[o.id]):req.get?req.get(l,e,o,s):(r=S(e,o,!1,!0).id,hasProp(m,r)?m[r]:O(makeError(\"notloaded\",'Module name \"'+r+'\" has not been loaded yet for context: '+u+(o?\"\":\". Use require([])\")))):(T(),l.nextTick(function(){T(),(n=k(S(null,o))).skipMap=a.skipMap,n.init(e,t,i,{enabled:!0}),R()}),s)}return a=a||{},mixin(s,{isBrowser:isBrowser,toUrl:function(e){var t,i=e.lastIndexOf(\".\"),r=e.split(\"/\")[0];return-1!==i&&(!(\".\"===r||\"..\"===r)||1<i)&&(t=e.substring(i,e.length),e=e.substring(0,i)),l.nameToUrl(q(e,o&&o.id,!0),t,!0)},defined:function(e){return hasProp(m,S(e,o,!1,!0).id)},specified:function(e){return e=S(e,o,!1,!0).id,hasProp(m,e)||hasProp(p,e)}}),o||(s.undef=function(i){j();var e=S(i,o,!0),t=getOwn(p,i);t.undefed=!0,E(i),delete m[i],delete n[e.url],delete r[i],eachReverse(h,function(e,t){e[0]===i&&h.splice(t,1)}),delete l.defQueueMap[i],t&&(t.events.defined&&(r[i]=t.events),P(i))}),s},enable:function(e){getOwn(p,e.id)&&k(e).enable()},completeLoad:function(e){var t,i,r,n=getOwn(g.shim,e)||{},o=n.exports;for(j();h.length;){if(null===(i=h.shift())[0]){if(i[0]=e,t)break;t=!0}else i[0]===e&&(t=!0);a(i)}if(l.defQueueMap={},r=getOwn(p,e),!t&&!hasProp(m,e)&&r&&!r.inited){if(!(!g.enforceDefine||o&&getGlobal(o)))return w(e)?void 0:O(makeError(\"nodefine\",\"No define call for \"+e,null,[e]));a([e,n.deps||[],n.exportsFn])}R()},nameToUrl:function(e,t,i){var r,n,o,a,s,u,c=getOwn(g.pkgs,e);if(c&&(e=c),u=getOwn(v,e))return l.nameToUrl(u,t,i);if(req.jsExtRegExp.test(e))a=e+(t||\"\");else{for(r=g.paths,o=(n=e.split(\"/\")).length;0<o;o-=1)if(s=getOwn(r,n.slice(0,o).join(\"/\"))){isArray(s)&&(s=s[0]),n.splice(0,o,s);break}a=n.join(\"/\"),a=(\"/\"===(a+=t||(/^data\\:|^blob\\:|\\?/.test(a)||i?\"\":\".js\")).charAt(0)||a.match(/^[\\w\\+\\.\\-]+:/)?\"\":g.baseUrl)+a}return g.urlArgs&&!/^blob\\:/.test(a)?a+g.urlArgs(e,a):a},load:function(e,t){req.load(l,e,t)},execCb:function(e,t,i,r){return t.apply(r,i)},onScriptLoad:function(e){if(\"load\"===e.type||readyRegExp.test((e.currentTarget||e.srcElement).readyState)){interactiveScript=null;var t=s(e);l.completeLoad(t.id)}},onScriptError:function(e){var i=s(e);if(!w(i.id)){var r=[];return eachProp(p,function(e,t){0!==t.indexOf(\"_@r\")&&each(e.depMaps,function(e){if(e.id===i.id)return r.push(t),!0})}),O(makeError(\"scripterror\",'Script error for \"'+i.id+(r.length?'\", needed by: '+r.join(\", \"):'\"'),e,[i.id]))}}}).require=l.makeRequire(),l}function getInteractiveScript(){return interactiveScript&&\"interactive\"===interactiveScript.readyState||eachReverse(scripts(),function(e){if(\"interactive\"===e.readyState)return interactiveScript=e}),interactiveScript}}(this,\"undefined\"==typeof setTimeout?void 0:setTimeout); </script>\n",
       "<script>\n",
       " require.config({\n",
       "   paths: {\n",
       "     'plotly': \"https://cdn.plot.ly/plotly-latest.min\",\n",
       "     'macy': \"https://cdn.jsdelivr.net/npm/macy@2.5.1/dist/macy.min\",\n",
       "     'merge': \"https://unpkg.com/merge-images@2.0.0/dist/index.umd\"\n",
       "   },\n",
       " })\n",
       "require( ['plotly', 'macy', 'merge'], function(Plotly, Macy, mergeImages) {\n",
       " window.Plotly = Plotly;\n",
       " window.Macy = Macy;\n",
       " window.mergeImages = mergeImages;\n",
       "})\n",
       "</script>\n"
      ]
     },
     "metadata": {},
     "output_type": "display_data"
    },
    {
     "data": {
      "text/plain": [
       "\u001b[32mimport \u001b[39m\u001b[36morg.carbonateresearch.picta.render.Html.initNotebook // required to initialize jupyter notebook mode\n",
       "\u001b[39m"
      ]
     },
     "execution_count": 3,
     "metadata": {},
     "output_type": "execute_result"
    }
   ],
   "source": [
    "import org.carbonateresearch.picta.render.Html.initNotebook // required to initialize jupyter notebook mode\n",
    "initNotebook() // stops ugly output"
   ]
  },
  {
   "cell_type": "markdown",
   "metadata": {},
   "source": [
    "# 1. Basics\n",
    "\n",
    "The aim of the Picta library is to be a highly configurable and composable charting library for data exploration. The library takes a grammatical approach to chart construction, using a DSL for creating plots. \n",
    "\n",
    "The following examples are aimed at demonstrating the libraries capabilities, and eventually make constructing charts using this library easy and intuitive."
   ]
  },
  {
   "cell_type": "markdown",
   "metadata": {},
   "source": [
    "### Main Components\n",
    "\n",
    "Picta graphs are constructed in a modular manner. The main components are:\n",
    "\n",
    "1. `Canvas`: This is is the top-level component for representing the display. A `Canvas` may consist of multiple charts.\n",
    "\n",
    "\n",
    "2. `Chart`: This is the component that corresponds to an actual chart (i.e. scatter, pie etc).\n",
    "\n",
    "\n",
    "3. `Series`: This is the data series that is plotted on a `Chart`. `Series` come in 3 types:\n",
    "\n",
    "    - `XY`:   This is series data for constructing a 2D chart\n",
    "    - `XYZ`:  This is series data for constructing a 3D chart\n",
    "    - `Map`:  This is series data that constructs a Map chart\n",
    "    \n",
    "\n",
    "4. `ChartLayout`: This configures various parts of how the `Chart` is represented on screen.\n",
    "\n",
    "`Chart` may occassionally also make use of the `Config` component for further configuration. `Config` specifies whether the plot is responsive.\n",
    "\n",
    "The following examples in this notebook should provide a number of interactive examples to get used to the Picta library."
   ]
  },
  {
   "cell_type": "markdown",
   "metadata": {},
   "source": [
    "### Importing the Library\n",
    "\n",
    "Importing as below should bring in the most frequently used Components in the library."
   ]
  },
  {
   "cell_type": "code",
   "execution_count": 4,
   "metadata": {},
   "outputs": [],
   "source": [
    "import org.carbonateresearch.picta._"
   ]
  },
  {
   "cell_type": "markdown",
   "metadata": {},
   "source": [
    "### Create Some Dummy Data to Use in the Examples\n",
    "\n",
    "Here we create some dummy data to be used in the examples for this notebook."
   ]
  },
  {
   "cell_type": "code",
   "execution_count": 5,
   "metadata": {},
   "outputs": [],
   "source": [
    "val x = List.range(0, 100).map(x => scala.util.Random.nextDouble() * 50)\n",
    "val y = List.range(0, 100).map(x => scala.util.Random.nextDouble() * 50)\n",
    "val z = List.range(0, 100).map(x => scala.util.Random.nextDouble() * 50)"
   ]
  },
  {
   "cell_type": "markdown",
   "metadata": {},
   "source": [
    "### 2D Plots\n",
    "\n",
    "`Series` that represent 2D data are represented by `XY` series types.\n",
    "\n",
    "\n",
    "#### Scatter Plot\n",
    "\n",
    "An example `Scatter` plot is below. \n",
    "\n",
    "Note: This is just one way to call the library functions. Another way that uses function chaining will be shown immediately after this example."
   ]
  },
  {
   "cell_type": "code",
   "execution_count": 6,
   "metadata": {},
   "outputs": [
    {
     "data": {
      "text/html": [
       "<div id=\"grid-container_LNnjuhGfBL\" class=\"grid-container\" align=\"center\"> \n",
       "<div id=\"grid_LNnjuhGfBL\" class=\"grid\" align=\"center\"> \n",
       "<div id=\"graph_dGT5Tby3Yq\" class=\"graph\"></div> \n",
       "</div> \n",
       "</div> \n",
       "<script>\n",
       "var masonry = new Macy({\n",
       "    container: '#grid_LNnjuhGfBL',\n",
       "    debug: true,\n",
       "    mobileFirst: true,\n",
       "    columns: 1,\n",
       "    margin: {\n",
       "        x: 0,\n",
       "        y: 0\n",
       "    }\n",
       "  });\n",
       "\n",
       "  var traces_dGT5Tby3Yq = [{\"name\":\"W9urV7MyfI\",\"type\":\"scatter\",\"mode\":\"markers\",\"x\":[22.150270256105276,34.65943444381033,1.3262972805380302,44.33792798648544,8.008887036947016,31.691598273438625,24.384826572879614,41.2566201276294,25.948371830494388,40.29238873580396,15.962381627254619,11.123514981131915,25.75949499376365,36.882273057229106,44.428209847178245,2.6967295333187815,3.4558821093819416,36.77327368963716,47.09496710984342,8.585149617467486,32.47276856720503,23.221824363439787,15.452492081307312,47.62924100585143,17.92946064129413,41.26171764012835,19.34739642799368,37.88670706578454,12.763180184169387,28.77960269807068,32.57337559445711,29.194218527609962,4.1220542832375475,38.2037159821477,42.698484779610496,27.21593405316028,12.047578054822534,9.64719678590828,37.379420118804546,5.391467857126436,40.18197140267688,40.380567317643546,7.899211351265989,17.26041563669696,30.00341092569115,6.103655902449972,48.21354127146423,39.26750313525956,45.92220880862421,26.645435042704797,4.402223103977021,43.34187354895123,8.463597197379292,32.44096811714643,45.096231327615385,19.295994091445507,46.717816778338786,28.417835783189226,28.186969981251636,39.404092914036106,9.255849571042146,18.770142515753314,32.923314436827525,31.397012720850775,4.7891376512905754,49.50638458591893,9.363286382262508,1.5498115720464833,39.99427774988675,45.62818852155136,19.071049355930224,26.540382843300954,32.12871565034464,16.33009343109561,1.9362249885736316,11.321856516833684,48.331061360853234,24.706313188607176,4.041398918501643,40.37844284664606,11.829704088593672,18.108543659711035,40.61495443451733,31.4238747232961,17.67603164149454,41.51965007593037,46.28026478568885,33.853553710171596,17.073562033860423,9.091240430005321,32.048541438279806,49.07593057575336,9.891954429737243,38.33882008660262,24.801516011660375,36.2256391413872,29.534875902523122,7.396470914335474,10.371424785973089,4.700322761506542],\"y\":[12.973331022328678,28.203653899482784,35.74961183104922,34.465085078924496,21.461101407446705,37.529965037281144,49.441391727467895,6.13289917414539,14.216540359562396,43.33937749515063,21.533634908228798,15.456311099379333,28.185049038215265,26.153680093820885,36.65287497960688,41.0552036917245,31.889117867932555,33.795573639886925,43.66555594487659,29.957321981849223,0.32791930179014717,23.175023322096234,25.708378287869767,12.842764294278986,0.9059992611865852,44.62824131844912,22.935520181164947,9.760547870181918,37.45070158856345,32.7268162607324,48.23084166405828,37.52482397577586,20.520530964420274,12.445247725518,33.05699941130476,32.000301775782766,17.41174922492489,1.1083242784586222,26.599763564297994,2.0508362084297405,34.538063913284674,34.635505609916265,46.414589245439366,37.05214535213213,48.18835091030528,21.25765249829385,42.8938967128605,46.559037962879074,27.05994468640693,27.102173189177652,43.047291885853326,18.969492801447668,31.42008763048567,25.825832621627853,31.323310621716182,45.842409748693306,29.26571215492687,48.82020011534197,6.500080913299666,19.902754647984754,39.43182467492877,3.4228992667601874,24.03365651030142,27.70733605123643,45.24131696001255,34.038520062315655,42.676558921616916,22.446341925183955,19.994115556463733,35.10628293493035,42.665435498520075,28.4202760018863,17.361172374785706,35.44721378820248,20.325539886697403,46.35883437380398,5.578849207158493,10.681820081046745,40.55108305319244,47.93776175545444,14.231852743933299,44.129949575937474,44.294339168300766,18.601636551010454,16.367948913678198,46.88770255927029,12.932681364313247,30.11503329421863,36.7052461947908,14.622014847344738,35.1816130890581,48.14141985962324,8.77293983733175,42.03166878330554,5.083116729151188,5.588626759884063,49.968980420876704,35.8942514418879,1.522536577096073,49.461677750254154]}];\n",
       " var layout_dGT5Tby3Yq = {\"height\":550,\"width\":600,\"hovermode\":\"closest\",\"title\":{\"text\":\"My First Chart\"},\"showlegend\":true};\n",
       " var config_dGT5Tby3Yq = {\"responsive\":true,\"scrollZoom\":true,\"displaylogo\":false};\n",
       " Plotly.newPlot(\"graph_dGT5Tby3Yq\", traces_dGT5Tby3Yq, layout_dGT5Tby3Yq, config_dGT5Tby3Yq);\n",
       "</script> \n"
      ]
     },
     "metadata": {},
     "output_type": "display_data"
    }
   ],
   "source": [
    "// create the data series using the data from above\n",
    "// 'asType SCATTER' transforms the series into a scatter chart\n",
    "// 'drawStyle Markers' specifies the style of the markers the chart should have\n",
    "// if a name is not provided to the series, Picta generates a random name to help keep track of the series in charts\n",
    "// multiple series.\n",
    "val series = XY(x, y) asType SCATTER drawStyle MARKERS\n",
    "\n",
    "// create a chart by adding to it a data series. We set the title as 'First Chart'\n",
    "val chart = Chart() addSeries series setTitle \"My First Chart\"\n",
    "\n",
    "// if we have a single chart, then we do not need to use the Canvas and can simply call chart.plot\n",
    "chart.plotInline"
   ]
  },
  {
   "cell_type": "markdown",
   "metadata": {},
   "source": [
    "### Simple costumization\n",
    "This plot is nice, but could use some simple costumization to make it more attractive. First, the data series does not have a name and so the legend come with a generated arbitrary name (not very useful). Second, the X and Y axis don't have labels. Let's fix that."
   ]
  },
  {
   "cell_type": "code",
   "execution_count": 7,
   "metadata": {},
   "outputs": [
    {
     "data": {
      "text/html": [
       "<div id=\"grid-container_U9b6vPCCNC\" class=\"grid-container\" align=\"center\"> \n",
       "<div id=\"grid_U9b6vPCCNC\" class=\"grid\" align=\"center\"> \n",
       "<div id=\"graph_jn071HI8hm\" class=\"graph\"></div> \n",
       "</div> \n",
       "</div> \n",
       "<script>\n",
       "var masonry = new Macy({\n",
       "    container: '#grid_U9b6vPCCNC',\n",
       "    debug: true,\n",
       "    mobileFirst: true,\n",
       "    columns: 1,\n",
       "    margin: {\n",
       "        x: 0,\n",
       "        y: 0\n",
       "    }\n",
       "  });\n",
       "\n",
       "  var traces_jn071HI8hm = [{\"name\":\"x vs y\",\"type\":\"scatter\",\"mode\":\"markers\",\"x\":[22.150270256105276,34.65943444381033,1.3262972805380302,44.33792798648544,8.008887036947016,31.691598273438625,24.384826572879614,41.2566201276294,25.948371830494388,40.29238873580396,15.962381627254619,11.123514981131915,25.75949499376365,36.882273057229106,44.428209847178245,2.6967295333187815,3.4558821093819416,36.77327368963716,47.09496710984342,8.585149617467486,32.47276856720503,23.221824363439787,15.452492081307312,47.62924100585143,17.92946064129413,41.26171764012835,19.34739642799368,37.88670706578454,12.763180184169387,28.77960269807068,32.57337559445711,29.194218527609962,4.1220542832375475,38.2037159821477,42.698484779610496,27.21593405316028,12.047578054822534,9.64719678590828,37.379420118804546,5.391467857126436,40.18197140267688,40.380567317643546,7.899211351265989,17.26041563669696,30.00341092569115,6.103655902449972,48.21354127146423,39.26750313525956,45.92220880862421,26.645435042704797,4.402223103977021,43.34187354895123,8.463597197379292,32.44096811714643,45.096231327615385,19.295994091445507,46.717816778338786,28.417835783189226,28.186969981251636,39.404092914036106,9.255849571042146,18.770142515753314,32.923314436827525,31.397012720850775,4.7891376512905754,49.50638458591893,9.363286382262508,1.5498115720464833,39.99427774988675,45.62818852155136,19.071049355930224,26.540382843300954,32.12871565034464,16.33009343109561,1.9362249885736316,11.321856516833684,48.331061360853234,24.706313188607176,4.041398918501643,40.37844284664606,11.829704088593672,18.108543659711035,40.61495443451733,31.4238747232961,17.67603164149454,41.51965007593037,46.28026478568885,33.853553710171596,17.073562033860423,9.091240430005321,32.048541438279806,49.07593057575336,9.891954429737243,38.33882008660262,24.801516011660375,36.2256391413872,29.534875902523122,7.396470914335474,10.371424785973089,4.700322761506542],\"y\":[12.973331022328678,28.203653899482784,35.74961183104922,34.465085078924496,21.461101407446705,37.529965037281144,49.441391727467895,6.13289917414539,14.216540359562396,43.33937749515063,21.533634908228798,15.456311099379333,28.185049038215265,26.153680093820885,36.65287497960688,41.0552036917245,31.889117867932555,33.795573639886925,43.66555594487659,29.957321981849223,0.32791930179014717,23.175023322096234,25.708378287869767,12.842764294278986,0.9059992611865852,44.62824131844912,22.935520181164947,9.760547870181918,37.45070158856345,32.7268162607324,48.23084166405828,37.52482397577586,20.520530964420274,12.445247725518,33.05699941130476,32.000301775782766,17.41174922492489,1.1083242784586222,26.599763564297994,2.0508362084297405,34.538063913284674,34.635505609916265,46.414589245439366,37.05214535213213,48.18835091030528,21.25765249829385,42.8938967128605,46.559037962879074,27.05994468640693,27.102173189177652,43.047291885853326,18.969492801447668,31.42008763048567,25.825832621627853,31.323310621716182,45.842409748693306,29.26571215492687,48.82020011534197,6.500080913299666,19.902754647984754,39.43182467492877,3.4228992667601874,24.03365651030142,27.70733605123643,45.24131696001255,34.038520062315655,42.676558921616916,22.446341925183955,19.994115556463733,35.10628293493035,42.665435498520075,28.4202760018863,17.361172374785706,35.44721378820248,20.325539886697403,46.35883437380398,5.578849207158493,10.681820081046745,40.55108305319244,47.93776175545444,14.231852743933299,44.129949575937474,44.294339168300766,18.601636551010454,16.367948913678198,46.88770255927029,12.932681364313247,30.11503329421863,36.7052461947908,14.622014847344738,35.1816130890581,48.14141985962324,8.77293983733175,42.03166878330554,5.083116729151188,5.588626759884063,49.968980420876704,35.8942514418879,1.522536577096073,49.461677750254154]}];\n",
       " var layout_jn071HI8hm = {\"height\":550,\"width\":600,\"hovermode\":\"closest\",\"title\":{\"text\":\"Chart with custom axis and label\"},\"showlegend\":true,\"xaxis\":{\"title\":{\"text\":\"X values\"},\"showgrid\":true,\"zeroline\":false,\"showline\":false},\"yaxis\":{\"title\":{\"text\":\"Y values\"},\"showgrid\":true,\"zeroline\":false,\"showline\":false}};\n",
       " var config_jn071HI8hm = {\"responsive\":true,\"scrollZoom\":true,\"displaylogo\":false};\n",
       " Plotly.newPlot(\"graph_jn071HI8hm\", traces_jn071HI8hm, layout_jn071HI8hm, config_jn071HI8hm);\n",
       "</script> \n"
      ]
     },
     "metadata": {},
     "output_type": "display_data"
    }
   ],
   "source": [
    "val series = XY(x, y) asType SCATTER drawStyle MARKERS setName(\"x vs y\") // Using 'setName' gives a name to our series \n",
    "\n",
    "// Note the use of the setXAxisTitle and setYAxisTitle compared to above\n",
    "val chart = Chart() addSeries series setTitle \"Chart with custom axis and label\" setXAxisTitle(\"X values\") setYAxisTitle(\"Y values\")\n",
    "\n",
    "chart.plotInline"
   ]
  },
  {
   "cell_type": "markdown",
   "metadata": {},
   "source": [
    "#### Chaining methods using the '.dot' notation\n",
    "\n",
    "Sometimes when we are specifying many options, it is quicker to use the IDE autocomplete and just chain the method calls using the familiar '.dot' notation. Throughout this book both the style above and the method chaining style will be used as and when convenient."
   ]
  },
  {
   "cell_type": "code",
   "execution_count": 8,
   "metadata": {},
   "outputs": [
    {
     "data": {
      "text/html": [
       "<div id=\"grid-container_DTfveOn2Rn\" class=\"grid-container\" align=\"center\"> \n",
       "<div id=\"grid_DTfveOn2Rn\" class=\"grid\" align=\"center\"> \n",
       "<div id=\"graph_ejMgATyjTi\" class=\"graph\"></div> \n",
       "</div> \n",
       "</div> \n",
       "<script>\n",
       "var masonry = new Macy({\n",
       "    container: '#grid_DTfveOn2Rn',\n",
       "    debug: true,\n",
       "    mobileFirst: true,\n",
       "    columns: 1,\n",
       "    margin: {\n",
       "        x: 0,\n",
       "        y: 0\n",
       "    }\n",
       "  });\n",
       "\n",
       "  var traces_ejMgATyjTi = [{\"name\":\"Chained xy\",\"type\":\"scatter\",\"mode\":\"markers\",\"x\":[22.150270256105276,34.65943444381033,1.3262972805380302,44.33792798648544,8.008887036947016,31.691598273438625,24.384826572879614,41.2566201276294,25.948371830494388,40.29238873580396,15.962381627254619,11.123514981131915,25.75949499376365,36.882273057229106,44.428209847178245,2.6967295333187815,3.4558821093819416,36.77327368963716,47.09496710984342,8.585149617467486,32.47276856720503,23.221824363439787,15.452492081307312,47.62924100585143,17.92946064129413,41.26171764012835,19.34739642799368,37.88670706578454,12.763180184169387,28.77960269807068,32.57337559445711,29.194218527609962,4.1220542832375475,38.2037159821477,42.698484779610496,27.21593405316028,12.047578054822534,9.64719678590828,37.379420118804546,5.391467857126436,40.18197140267688,40.380567317643546,7.899211351265989,17.26041563669696,30.00341092569115,6.103655902449972,48.21354127146423,39.26750313525956,45.92220880862421,26.645435042704797,4.402223103977021,43.34187354895123,8.463597197379292,32.44096811714643,45.096231327615385,19.295994091445507,46.717816778338786,28.417835783189226,28.186969981251636,39.404092914036106,9.255849571042146,18.770142515753314,32.923314436827525,31.397012720850775,4.7891376512905754,49.50638458591893,9.363286382262508,1.5498115720464833,39.99427774988675,45.62818852155136,19.071049355930224,26.540382843300954,32.12871565034464,16.33009343109561,1.9362249885736316,11.321856516833684,48.331061360853234,24.706313188607176,4.041398918501643,40.37844284664606,11.829704088593672,18.108543659711035,40.61495443451733,31.4238747232961,17.67603164149454,41.51965007593037,46.28026478568885,33.853553710171596,17.073562033860423,9.091240430005321,32.048541438279806,49.07593057575336,9.891954429737243,38.33882008660262,24.801516011660375,36.2256391413872,29.534875902523122,7.396470914335474,10.371424785973089,4.700322761506542],\"y\":[12.973331022328678,28.203653899482784,35.74961183104922,34.465085078924496,21.461101407446705,37.529965037281144,49.441391727467895,6.13289917414539,14.216540359562396,43.33937749515063,21.533634908228798,15.456311099379333,28.185049038215265,26.153680093820885,36.65287497960688,41.0552036917245,31.889117867932555,33.795573639886925,43.66555594487659,29.957321981849223,0.32791930179014717,23.175023322096234,25.708378287869767,12.842764294278986,0.9059992611865852,44.62824131844912,22.935520181164947,9.760547870181918,37.45070158856345,32.7268162607324,48.23084166405828,37.52482397577586,20.520530964420274,12.445247725518,33.05699941130476,32.000301775782766,17.41174922492489,1.1083242784586222,26.599763564297994,2.0508362084297405,34.538063913284674,34.635505609916265,46.414589245439366,37.05214535213213,48.18835091030528,21.25765249829385,42.8938967128605,46.559037962879074,27.05994468640693,27.102173189177652,43.047291885853326,18.969492801447668,31.42008763048567,25.825832621627853,31.323310621716182,45.842409748693306,29.26571215492687,48.82020011534197,6.500080913299666,19.902754647984754,39.43182467492877,3.4228992667601874,24.03365651030142,27.70733605123643,45.24131696001255,34.038520062315655,42.676558921616916,22.446341925183955,19.994115556463733,35.10628293493035,42.665435498520075,28.4202760018863,17.361172374785706,35.44721378820248,20.325539886697403,46.35883437380398,5.578849207158493,10.681820081046745,40.55108305319244,47.93776175545444,14.231852743933299,44.129949575937474,44.294339168300766,18.601636551010454,16.367948913678198,46.88770255927029,12.932681364313247,30.11503329421863,36.7052461947908,14.622014847344738,35.1816130890581,48.14141985962324,8.77293983733175,42.03166878330554,5.083116729151188,5.588626759884063,49.968980420876704,35.8942514418879,1.522536577096073,49.461677750254154]}];\n",
       " var layout_ejMgATyjTi = {\"height\":550,\"width\":600,\"hovermode\":\"closest\",\"title\":{\"text\":\"Using Method Chaining\"},\"showlegend\":true,\"xaxis\":{\"title\":{\"text\":\"X values\"},\"showgrid\":true,\"zeroline\":false,\"showline\":false},\"yaxis\":{\"title\":{\"text\":\"Y values\"},\"showgrid\":true,\"zeroline\":false,\"showline\":false}};\n",
       " var config_ejMgATyjTi = {\"responsive\":true,\"scrollZoom\":true,\"displaylogo\":false};\n",
       " Plotly.newPlot(\"graph_ejMgATyjTi\", traces_ejMgATyjTi, layout_ejMgATyjTi, config_ejMgATyjTi);\n",
       "</script> \n"
      ]
     },
     "metadata": {},
     "output_type": "display_data"
    }
   ],
   "source": [
    "// sometimes we may specify many options. In such cases it is clearer to use function chaining as below:\n",
    "val series = XY(x, y)\n",
    "            .asType(SCATTER)\n",
    "            .setName(\"Chained xy\")\n",
    "            .drawMarkers  // This is to help leverage the IDE autocompletion for quick scripting. Tap 'tab' twice to see options.\n",
    "\n",
    "val chart = Chart()\n",
    "            .addSeries(series)\n",
    "            .setTitle(\"Using Method Chaining\")\n",
    "            // by specifying and X and Y axes we can give more rid of the zerolines\n",
    "            .addAxes(Axis(X ,zeroline = false), Axis(Y ,zeroline = false))\n",
    "            .setXAxisTitle(\"X values\")\n",
    "            .setYAxisTitle(\"Y values\")\n",
    "\n",
    "chart.plotInline"
   ]
  },
  {
   "cell_type": "markdown",
   "metadata": {},
   "source": [
    "#### Bar Chart\n",
    "\n",
    "Now using the same principles as above, let's create a `Bar` chart:"
   ]
  },
  {
   "cell_type": "code",
   "execution_count": 9,
   "metadata": {},
   "outputs": [
    {
     "data": {
      "text/html": [
       "<div id=\"grid-container_Inq5bQY3Cm\" class=\"grid-container\" align=\"center\"> \n",
       "<div id=\"grid_Inq5bQY3Cm\" class=\"grid\" align=\"center\"> \n",
       "<div id=\"graph_25YdKaXtfz\" class=\"graph\"></div> \n",
       "</div> \n",
       "</div> \n",
       "<script>\n",
       "var masonry = new Macy({\n",
       "    container: '#grid_Inq5bQY3Cm',\n",
       "    debug: true,\n",
       "    mobileFirst: true,\n",
       "    columns: 1,\n",
       "    margin: {\n",
       "        x: 0,\n",
       "        y: 0\n",
       "    }\n",
       "  });\n",
       "\n",
       "  var traces_25YdKaXtfz = [{\"name\":\"My data\",\"type\":\"bar\",\"x\":[\"a\",\"b\",\"c\"],\"y\":[10,20,300]}];\n",
       " var layout_25YdKaXtfz = {\"height\":550,\"width\":600,\"hovermode\":\"closest\",\"title\":{\"text\":\"Bar Chart\"},\"showlegend\":true,\"xaxis\":{\"title\":{\"text\":\"Category\"},\"showgrid\":true,\"zeroline\":false,\"showline\":false},\"yaxis\":{\"title\":{\"text\":\"Count\"},\"showgrid\":true,\"zeroline\":false,\"showline\":false}};\n",
       " var config_25YdKaXtfz = {\"responsive\":false,\"scrollZoom\":false,\"displaylogo\":false};\n",
       " Plotly.newPlot(\"graph_25YdKaXtfz\", traces_25YdKaXtfz, layout_25YdKaXtfz, config_25YdKaXtfz);\n",
       "</script> \n"
      ]
     },
     "metadata": {},
     "output_type": "display_data"
    }
   ],
   "source": [
    "// First we create some data for the piechart\n",
    "val x_bar = List(\"a\", \"b\", \"c\")\n",
    "val y_bar = List(10, 20, 300)\n",
    "\n",
    "// again feed in the data that we want to represent as a Bar chart.\n",
    "// Notice how we change 'asType SCATTER' to 'asType BAR'\n",
    "val series = XY(x_bar, y_bar) asType BAR setName(\"My data\")\n",
    "\n",
    "// we can turn off the scrollzoom using setConfig\n",
    "val chart = Chart() addSeries series setTitle \"Bar Chart\" setConfig(false, false) setXAxisTitle \"Category\" setYAxisTitle \"Count\"\n",
    "\n",
    "chart.plotInline"
   ]
  },
  {
   "cell_type": "markdown",
   "metadata": {},
   "source": [
    "#### Adding Multiple Series on the Same Axis\n",
    "\n",
    "Sometimes we may want to plot multiple `Series` on the same axis to compare different data series.\n",
    "\n",
    "Let's plot both of the above on the same pair of axis:"
   ]
  },
  {
   "cell_type": "code",
   "execution_count": 10,
   "metadata": {},
   "outputs": [],
   "source": [
    "// we import the marker option which lets us specify the marker\n",
    "import org.carbonateresearch.picta.options.Marker\n",
    "import org.carbonateresearch.picta.SymbolShape._"
   ]
  },
  {
   "cell_type": "code",
   "execution_count": 11,
   "metadata": {},
   "outputs": [
    {
     "data": {
      "text/html": [
       "<div id=\"grid-container_c9JU5uFdL7\" class=\"grid-container\" align=\"center\"> \n",
       "<div id=\"grid_c9JU5uFdL7\" class=\"grid\" align=\"center\"> \n",
       "<div id=\"graph_dcqBDr7qfY\" class=\"graph\"></div> \n",
       "</div> \n",
       "</div> \n",
       "<script>\n",
       "var masonry = new Macy({\n",
       "    container: '#grid_c9JU5uFdL7',\n",
       "    debug: true,\n",
       "    mobileFirst: true,\n",
       "    columns: 1,\n",
       "    margin: {\n",
       "        x: 0,\n",
       "        y: 0\n",
       "    }\n",
       "  });\n",
       "\n",
       "  var traces_dcqBDr7qfY = [{\"name\":\"Bar\",\"type\":\"bar\",\"x\":[22.150270256105276,34.65943444381033,1.3262972805380302,44.33792798648544,8.008887036947016,31.691598273438625,24.384826572879614,41.2566201276294,25.948371830494388,40.29238873580396,15.962381627254619,11.123514981131915,25.75949499376365,36.882273057229106,44.428209847178245,2.6967295333187815,3.4558821093819416,36.77327368963716,47.09496710984342,8.585149617467486,32.47276856720503,23.221824363439787,15.452492081307312,47.62924100585143,17.92946064129413,41.26171764012835,19.34739642799368,37.88670706578454,12.763180184169387,28.77960269807068,32.57337559445711,29.194218527609962,4.1220542832375475,38.2037159821477,42.698484779610496,27.21593405316028,12.047578054822534,9.64719678590828,37.379420118804546,5.391467857126436,40.18197140267688,40.380567317643546,7.899211351265989,17.26041563669696,30.00341092569115,6.103655902449972,48.21354127146423,39.26750313525956,45.92220880862421,26.645435042704797,4.402223103977021,43.34187354895123,8.463597197379292,32.44096811714643,45.096231327615385,19.295994091445507,46.717816778338786,28.417835783189226,28.186969981251636,39.404092914036106,9.255849571042146,18.770142515753314,32.923314436827525,31.397012720850775,4.7891376512905754,49.50638458591893,9.363286382262508,1.5498115720464833,39.99427774988675,45.62818852155136,19.071049355930224,26.540382843300954,32.12871565034464,16.33009343109561,1.9362249885736316,11.321856516833684,48.331061360853234,24.706313188607176,4.041398918501643,40.37844284664606,11.829704088593672,18.108543659711035,40.61495443451733,31.4238747232961,17.67603164149454,41.51965007593037,46.28026478568885,33.853553710171596,17.073562033860423,9.091240430005321,32.048541438279806,49.07593057575336,9.891954429737243,38.33882008660262,24.801516011660375,36.2256391413872,29.534875902523122,7.396470914335474,10.371424785973089,4.700322761506542],\"y\":[12.973331022328678,28.203653899482784,35.74961183104922,34.465085078924496,21.461101407446705,37.529965037281144,49.441391727467895,6.13289917414539,14.216540359562396,43.33937749515063,21.533634908228798,15.456311099379333,28.185049038215265,26.153680093820885,36.65287497960688,41.0552036917245,31.889117867932555,33.795573639886925,43.66555594487659,29.957321981849223,0.32791930179014717,23.175023322096234,25.708378287869767,12.842764294278986,0.9059992611865852,44.62824131844912,22.935520181164947,9.760547870181918,37.45070158856345,32.7268162607324,48.23084166405828,37.52482397577586,20.520530964420274,12.445247725518,33.05699941130476,32.000301775782766,17.41174922492489,1.1083242784586222,26.599763564297994,2.0508362084297405,34.538063913284674,34.635505609916265,46.414589245439366,37.05214535213213,48.18835091030528,21.25765249829385,42.8938967128605,46.559037962879074,27.05994468640693,27.102173189177652,43.047291885853326,18.969492801447668,31.42008763048567,25.825832621627853,31.323310621716182,45.842409748693306,29.26571215492687,48.82020011534197,6.500080913299666,19.902754647984754,39.43182467492877,3.4228992667601874,24.03365651030142,27.70733605123643,45.24131696001255,34.038520062315655,42.676558921616916,22.446341925183955,19.994115556463733,35.10628293493035,42.665435498520075,28.4202760018863,17.361172374785706,35.44721378820248,20.325539886697403,46.35883437380398,5.578849207158493,10.681820081046745,40.55108305319244,47.93776175545444,14.231852743933299,44.129949575937474,44.294339168300766,18.601636551010454,16.367948913678198,46.88770255927029,12.932681364313247,30.11503329421863,36.7052461947908,14.622014847344738,35.1816130890581,48.14141985962324,8.77293983733175,42.03166878330554,5.083116729151188,5.588626759884063,49.968980420876704,35.8942514418879,1.522536577096073,49.461677750254154]},{\"name\":\"Scatter\",\"type\":\"scatter\",\"mode\":\"markers\",\"marker\":{\"symbol\":\"square-open\",\"color\":\"red\"},\"x\":[22.150270256105276,34.65943444381033,1.3262972805380302,44.33792798648544,8.008887036947016,31.691598273438625,24.384826572879614,41.2566201276294,25.948371830494388,40.29238873580396,15.962381627254619,11.123514981131915,25.75949499376365,36.882273057229106,44.428209847178245,2.6967295333187815,3.4558821093819416,36.77327368963716,47.09496710984342,8.585149617467486,32.47276856720503,23.221824363439787,15.452492081307312,47.62924100585143,17.92946064129413,41.26171764012835,19.34739642799368,37.88670706578454,12.763180184169387,28.77960269807068,32.57337559445711,29.194218527609962,4.1220542832375475,38.2037159821477,42.698484779610496,27.21593405316028,12.047578054822534,9.64719678590828,37.379420118804546,5.391467857126436,40.18197140267688,40.380567317643546,7.899211351265989,17.26041563669696,30.00341092569115,6.103655902449972,48.21354127146423,39.26750313525956,45.92220880862421,26.645435042704797,4.402223103977021,43.34187354895123,8.463597197379292,32.44096811714643,45.096231327615385,19.295994091445507,46.717816778338786,28.417835783189226,28.186969981251636,39.404092914036106,9.255849571042146,18.770142515753314,32.923314436827525,31.397012720850775,4.7891376512905754,49.50638458591893,9.363286382262508,1.5498115720464833,39.99427774988675,45.62818852155136,19.071049355930224,26.540382843300954,32.12871565034464,16.33009343109561,1.9362249885736316,11.321856516833684,48.331061360853234,24.706313188607176,4.041398918501643,40.37844284664606,11.829704088593672,18.108543659711035,40.61495443451733,31.4238747232961,17.67603164149454,41.51965007593037,46.28026478568885,33.853553710171596,17.073562033860423,9.091240430005321,32.048541438279806,49.07593057575336,9.891954429737243,38.33882008660262,24.801516011660375,36.2256391413872,29.534875902523122,7.396470914335474,10.371424785973089,4.700322761506542],\"y\":[12.973331022328678,28.203653899482784,35.74961183104922,34.465085078924496,21.461101407446705,37.529965037281144,49.441391727467895,6.13289917414539,14.216540359562396,43.33937749515063,21.533634908228798,15.456311099379333,28.185049038215265,26.153680093820885,36.65287497960688,41.0552036917245,31.889117867932555,33.795573639886925,43.66555594487659,29.957321981849223,0.32791930179014717,23.175023322096234,25.708378287869767,12.842764294278986,0.9059992611865852,44.62824131844912,22.935520181164947,9.760547870181918,37.45070158856345,32.7268162607324,48.23084166405828,37.52482397577586,20.520530964420274,12.445247725518,33.05699941130476,32.000301775782766,17.41174922492489,1.1083242784586222,26.599763564297994,2.0508362084297405,34.538063913284674,34.635505609916265,46.414589245439366,37.05214535213213,48.18835091030528,21.25765249829385,42.8938967128605,46.559037962879074,27.05994468640693,27.102173189177652,43.047291885853326,18.969492801447668,31.42008763048567,25.825832621627853,31.323310621716182,45.842409748693306,29.26571215492687,48.82020011534197,6.500080913299666,19.902754647984754,39.43182467492877,3.4228992667601874,24.03365651030142,27.70733605123643,45.24131696001255,34.038520062315655,42.676558921616916,22.446341925183955,19.994115556463733,35.10628293493035,42.665435498520075,28.4202760018863,17.361172374785706,35.44721378820248,20.325539886697403,46.35883437380398,5.578849207158493,10.681820081046745,40.55108305319244,47.93776175545444,14.231852743933299,44.129949575937474,44.294339168300766,18.601636551010454,16.367948913678198,46.88770255927029,12.932681364313247,30.11503329421863,36.7052461947908,14.622014847344738,35.1816130890581,48.14141985962324,8.77293983733175,42.03166878330554,5.083116729151188,5.588626759884063,49.968980420876704,35.8942514418879,1.522536577096073,49.461677750254154]}];\n",
       " var layout_dcqBDr7qfY = {\"height\":550,\"width\":600,\"hovermode\":\"closest\",\"title\":{\"text\":\"Multiple series on one chart\"},\"showlegend\":true,\"xaxis\":{\"title\":{\"text\":\"X values\"},\"showgrid\":true,\"zeroline\":false,\"showline\":false},\"yaxis\":{\"title\":{\"text\":\"Y values\"},\"showgrid\":true,\"zeroline\":false,\"showline\":false}};\n",
       " var config_dcqBDr7qfY = {\"responsive\":true,\"scrollZoom\":true,\"displaylogo\":false};\n",
       " Plotly.newPlot(\"graph_dcqBDr7qfY\", traces_dcqBDr7qfY, layout_dcqBDr7qfY, config_dcqBDr7qfY);\n",
       "</script> \n"
      ]
     },
     "metadata": {},
     "output_type": "display_data"
    }
   ],
   "source": [
    "// additional traces can simply be composed with an existing chart and added on\n",
    "val series1 = XY(x, y) asType BAR setName \"Bar\"\n",
    "\n",
    "// lets give the second series a red marker. Again we can 'compose' a marker using smaller components\n",
    "val marker = Marker() setSymbol SQUARE_OPEN setColor \"red\"\n",
    "\n",
    "val series2 = XY(x, y) asType SCATTER setName \"Scatter\" drawStyle MARKERS setMarker marker\n",
    "\n",
    "// we not put brackets in the 'addSeries' function to ensure that addSeries picks up the right series'\n",
    "val chart = Chart() addSeries(series1, series2) setTitle(\"Multiple series on one chart\") setXAxisTitle \"X values\" setYAxisTitle \"Y values\"\n",
    "\n",
    "chart.plotInline"
   ]
  },
  {
   "cell_type": "markdown",
   "metadata": {},
   "source": [
    "### Lets Change The Appearance of The Markers\n",
    "\n",
    "We can control the appearance of the markers by setting the width"
   ]
  },
  {
   "cell_type": "code",
   "execution_count": 12,
   "metadata": {},
   "outputs": [
    {
     "data": {
      "text/html": [
       "<div id=\"grid-container_9Ky2mfEKh0\" class=\"grid-container\" align=\"center\"> \n",
       "<div id=\"grid_9Ky2mfEKh0\" class=\"grid\" align=\"center\"> \n",
       "<div id=\"graph_v0Wyc0DcSH\" class=\"graph\"></div> \n",
       "</div> \n",
       "</div> \n",
       "<script>\n",
       "var masonry = new Macy({\n",
       "    container: '#grid_9Ky2mfEKh0',\n",
       "    debug: true,\n",
       "    mobileFirst: true,\n",
       "    columns: 1,\n",
       "    margin: {\n",
       "        x: 0,\n",
       "        y: 0\n",
       "    }\n",
       "  });\n",
       "\n",
       "  var traces_v0Wyc0DcSH = [{\"name\":\"Bar\",\"type\":\"bar\",\"x\":[22.150270256105276,34.65943444381033,1.3262972805380302,44.33792798648544,8.008887036947016,31.691598273438625,24.384826572879614,41.2566201276294,25.948371830494388,40.29238873580396,15.962381627254619,11.123514981131915,25.75949499376365,36.882273057229106,44.428209847178245,2.6967295333187815,3.4558821093819416,36.77327368963716,47.09496710984342,8.585149617467486,32.47276856720503,23.221824363439787,15.452492081307312,47.62924100585143,17.92946064129413,41.26171764012835,19.34739642799368,37.88670706578454,12.763180184169387,28.77960269807068,32.57337559445711,29.194218527609962,4.1220542832375475,38.2037159821477,42.698484779610496,27.21593405316028,12.047578054822534,9.64719678590828,37.379420118804546,5.391467857126436,40.18197140267688,40.380567317643546,7.899211351265989,17.26041563669696,30.00341092569115,6.103655902449972,48.21354127146423,39.26750313525956,45.92220880862421,26.645435042704797,4.402223103977021,43.34187354895123,8.463597197379292,32.44096811714643,45.096231327615385,19.295994091445507,46.717816778338786,28.417835783189226,28.186969981251636,39.404092914036106,9.255849571042146,18.770142515753314,32.923314436827525,31.397012720850775,4.7891376512905754,49.50638458591893,9.363286382262508,1.5498115720464833,39.99427774988675,45.62818852155136,19.071049355930224,26.540382843300954,32.12871565034464,16.33009343109561,1.9362249885736316,11.321856516833684,48.331061360853234,24.706313188607176,4.041398918501643,40.37844284664606,11.829704088593672,18.108543659711035,40.61495443451733,31.4238747232961,17.67603164149454,41.51965007593037,46.28026478568885,33.853553710171596,17.073562033860423,9.091240430005321,32.048541438279806,49.07593057575336,9.891954429737243,38.33882008660262,24.801516011660375,36.2256391413872,29.534875902523122,7.396470914335474,10.371424785973089,4.700322761506542],\"y\":[12.973331022328678,28.203653899482784,35.74961183104922,34.465085078924496,21.461101407446705,37.529965037281144,49.441391727467895,6.13289917414539,14.216540359562396,43.33937749515063,21.533634908228798,15.456311099379333,28.185049038215265,26.153680093820885,36.65287497960688,41.0552036917245,31.889117867932555,33.795573639886925,43.66555594487659,29.957321981849223,0.32791930179014717,23.175023322096234,25.708378287869767,12.842764294278986,0.9059992611865852,44.62824131844912,22.935520181164947,9.760547870181918,37.45070158856345,32.7268162607324,48.23084166405828,37.52482397577586,20.520530964420274,12.445247725518,33.05699941130476,32.000301775782766,17.41174922492489,1.1083242784586222,26.599763564297994,2.0508362084297405,34.538063913284674,34.635505609916265,46.414589245439366,37.05214535213213,48.18835091030528,21.25765249829385,42.8938967128605,46.559037962879074,27.05994468640693,27.102173189177652,43.047291885853326,18.969492801447668,31.42008763048567,25.825832621627853,31.323310621716182,45.842409748693306,29.26571215492687,48.82020011534197,6.500080913299666,19.902754647984754,39.43182467492877,3.4228992667601874,24.03365651030142,27.70733605123643,45.24131696001255,34.038520062315655,42.676558921616916,22.446341925183955,19.994115556463733,35.10628293493035,42.665435498520075,28.4202760018863,17.361172374785706,35.44721378820248,20.325539886697403,46.35883437380398,5.578849207158493,10.681820081046745,40.55108305319244,47.93776175545444,14.231852743933299,44.129949575937474,44.294339168300766,18.601636551010454,16.367948913678198,46.88770255927029,12.932681364313247,30.11503329421863,36.7052461947908,14.622014847344738,35.1816130890581,48.14141985962324,8.77293983733175,42.03166878330554,5.083116729151188,5.588626759884063,49.968980420876704,35.8942514418879,1.522536577096073,49.461677750254154]},{\"name\":\"Scatter\",\"type\":\"scatter\",\"mode\":\"markers\",\"marker\":{\"symbol\":\"circle\",\"color\":\"red\",\"line\":{\"width\":2,\"color\":\"black\"},\"size\":[10,10,10,10,10,10,10,10,10,10,10,10,10,10,10,10,10,10,10,10,10,10,10,10,10,10,10,10,10,10,10,10,10,10,10,10,10,10,10,10,10,10,10,10,10,10,10,10,10,10,10,10,10,10,10,10,10,10,10,10,10,10,10,10,10,10,10,10,10,10,10,10,10,10,10,10,10,10,10,10,10,10,10,10,10,10,10,10,10,10,10,10,10,10,10,10,10,10,10,10]},\"x\":[22.150270256105276,34.65943444381033,1.3262972805380302,44.33792798648544,8.008887036947016,31.691598273438625,24.384826572879614,41.2566201276294,25.948371830494388,40.29238873580396,15.962381627254619,11.123514981131915,25.75949499376365,36.882273057229106,44.428209847178245,2.6967295333187815,3.4558821093819416,36.77327368963716,47.09496710984342,8.585149617467486,32.47276856720503,23.221824363439787,15.452492081307312,47.62924100585143,17.92946064129413,41.26171764012835,19.34739642799368,37.88670706578454,12.763180184169387,28.77960269807068,32.57337559445711,29.194218527609962,4.1220542832375475,38.2037159821477,42.698484779610496,27.21593405316028,12.047578054822534,9.64719678590828,37.379420118804546,5.391467857126436,40.18197140267688,40.380567317643546,7.899211351265989,17.26041563669696,30.00341092569115,6.103655902449972,48.21354127146423,39.26750313525956,45.92220880862421,26.645435042704797,4.402223103977021,43.34187354895123,8.463597197379292,32.44096811714643,45.096231327615385,19.295994091445507,46.717816778338786,28.417835783189226,28.186969981251636,39.404092914036106,9.255849571042146,18.770142515753314,32.923314436827525,31.397012720850775,4.7891376512905754,49.50638458591893,9.363286382262508,1.5498115720464833,39.99427774988675,45.62818852155136,19.071049355930224,26.540382843300954,32.12871565034464,16.33009343109561,1.9362249885736316,11.321856516833684,48.331061360853234,24.706313188607176,4.041398918501643,40.37844284664606,11.829704088593672,18.108543659711035,40.61495443451733,31.4238747232961,17.67603164149454,41.51965007593037,46.28026478568885,33.853553710171596,17.073562033860423,9.091240430005321,32.048541438279806,49.07593057575336,9.891954429737243,38.33882008660262,24.801516011660375,36.2256391413872,29.534875902523122,7.396470914335474,10.371424785973089,4.700322761506542],\"y\":[12.973331022328678,28.203653899482784,35.74961183104922,34.465085078924496,21.461101407446705,37.529965037281144,49.441391727467895,6.13289917414539,14.216540359562396,43.33937749515063,21.533634908228798,15.456311099379333,28.185049038215265,26.153680093820885,36.65287497960688,41.0552036917245,31.889117867932555,33.795573639886925,43.66555594487659,29.957321981849223,0.32791930179014717,23.175023322096234,25.708378287869767,12.842764294278986,0.9059992611865852,44.62824131844912,22.935520181164947,9.760547870181918,37.45070158856345,32.7268162607324,48.23084166405828,37.52482397577586,20.520530964420274,12.445247725518,33.05699941130476,32.000301775782766,17.41174922492489,1.1083242784586222,26.599763564297994,2.0508362084297405,34.538063913284674,34.635505609916265,46.414589245439366,37.05214535213213,48.18835091030528,21.25765249829385,42.8938967128605,46.559037962879074,27.05994468640693,27.102173189177652,43.047291885853326,18.969492801447668,31.42008763048567,25.825832621627853,31.323310621716182,45.842409748693306,29.26571215492687,48.82020011534197,6.500080913299666,19.902754647984754,39.43182467492877,3.4228992667601874,24.03365651030142,27.70733605123643,45.24131696001255,34.038520062315655,42.676558921616916,22.446341925183955,19.994115556463733,35.10628293493035,42.665435498520075,28.4202760018863,17.361172374785706,35.44721378820248,20.325539886697403,46.35883437380398,5.578849207158493,10.681820081046745,40.55108305319244,47.93776175545444,14.231852743933299,44.129949575937474,44.294339168300766,18.601636551010454,16.367948913678198,46.88770255927029,12.932681364313247,30.11503329421863,36.7052461947908,14.622014847344738,35.1816130890581,48.14141985962324,8.77293983733175,42.03166878330554,5.083116729151188,5.588626759884063,49.968980420876704,35.8942514418879,1.522536577096073,49.461677750254154]}];\n",
       " var layout_v0Wyc0DcSH = {\"height\":550,\"width\":600,\"hovermode\":\"closest\",\"showlegend\":true,\"xaxis\":{\"title\":{\"text\":\"X values\"},\"showgrid\":true,\"zeroline\":false,\"showline\":false},\"yaxis\":{\"title\":{\"text\":\"Y values\"},\"showgrid\":true,\"zeroline\":false,\"showline\":false}};\n",
       " var config_v0Wyc0DcSH = {\"responsive\":false,\"scrollZoom\":false,\"displaylogo\":false};\n",
       " Plotly.newPlot(\"graph_v0Wyc0DcSH\", traces_v0Wyc0DcSH, layout_v0Wyc0DcSH, config_v0Wyc0DcSH);\n",
       "</script> \n"
      ]
     },
     "metadata": {},
     "output_type": "display_data"
    }
   ],
   "source": [
    "// we can pass in the size of the markers\n",
    "val sizes = List.range(0, 100).map(x => 10)\n",
    "\n",
    "// additional traces can simply be composed with an existing chart and added on\n",
    "val series1 = XY(x, y) asType BAR setName \"Bar\"\n",
    "\n",
    "// lets give the second series a red marker. Again we can 'compose' a marker using smaller components\n",
    "val marker = (\n",
    "    Marker() \n",
    "    // sets the marker shape\n",
    "    setSymbol CIRCLE\n",
    "    // sets the fill to red\n",
    "    setColor \"red\" \n",
    "    // sets the outline to black, with width 2\n",
    "    setLine(width = 2, \"black\")\n",
    "    // set the size of the markers to 10 as per the list we created\n",
    "    setSize(sizes)\n",
    ") \n",
    "\n",
    "val series2 = XY(x, y) asType SCATTER setName \"Scatter\" drawStyle MARKERS setMarker marker\n",
    "\n",
    "// we not put brackets in the 'addSeries' function to ensure that addSeries picks up the right series'\n",
    "val chart = Chart() addSeries(series1, series2) setConfig(false, false) setXAxisTitle \"X values\" setYAxisTitle \"Y values\"\n",
    "\n",
    "chart.plotInline"
   ]
  },
  {
   "cell_type": "markdown",
   "metadata": {},
   "source": [
    "### Adding Another Axes\n",
    "\n",
    "Sometimes we may wish to plot multiple series on one chart, but using two different Axes. This may be because the values of the two series are very different, yet we want to compare them on the same plot. We can do this as follows:"
   ]
  },
  {
   "cell_type": "code",
   "execution_count": 13,
   "metadata": {},
   "outputs": [
    {
     "data": {
      "text/html": [
       "<div id=\"grid-container_YrCur4Qks7\" class=\"grid-container\" align=\"center\"> \n",
       "<div id=\"grid_YrCur4Qks7\" class=\"grid\" align=\"center\"> \n",
       "<div id=\"graph_T2USbAQv3j\" class=\"graph\"></div> \n",
       "</div> \n",
       "</div> \n",
       "<script>\n",
       "var masonry = new Macy({\n",
       "    container: '#grid_YrCur4Qks7',\n",
       "    debug: true,\n",
       "    mobileFirst: true,\n",
       "    columns: 1,\n",
       "    margin: {\n",
       "        x: 0,\n",
       "        y: 0\n",
       "    }\n",
       "  });\n",
       "\n",
       "  var traces_T2USbAQv3j = [{\"name\":\"Series 3 using Y axis 1\",\"type\":\"scatter\",\"mode\":\"markers\",\"x\":[22.150270256105276,34.65943444381033,1.3262972805380302,44.33792798648544,8.008887036947016,31.691598273438625,24.384826572879614,41.2566201276294,25.948371830494388,40.29238873580396,15.962381627254619,11.123514981131915,25.75949499376365,36.882273057229106,44.428209847178245,2.6967295333187815,3.4558821093819416,36.77327368963716,47.09496710984342,8.585149617467486,32.47276856720503,23.221824363439787,15.452492081307312,47.62924100585143,17.92946064129413,41.26171764012835,19.34739642799368,37.88670706578454,12.763180184169387,28.77960269807068,32.57337559445711,29.194218527609962,4.1220542832375475,38.2037159821477,42.698484779610496,27.21593405316028,12.047578054822534,9.64719678590828,37.379420118804546,5.391467857126436,40.18197140267688,40.380567317643546,7.899211351265989,17.26041563669696,30.00341092569115,6.103655902449972,48.21354127146423,39.26750313525956,45.92220880862421,26.645435042704797,4.402223103977021,43.34187354895123,8.463597197379292,32.44096811714643,45.096231327615385,19.295994091445507,46.717816778338786,28.417835783189226,28.186969981251636,39.404092914036106,9.255849571042146,18.770142515753314,32.923314436827525,31.397012720850775,4.7891376512905754,49.50638458591893,9.363286382262508,1.5498115720464833,39.99427774988675,45.62818852155136,19.071049355930224,26.540382843300954,32.12871565034464,16.33009343109561,1.9362249885736316,11.321856516833684,48.331061360853234,24.706313188607176,4.041398918501643,40.37844284664606,11.829704088593672,18.108543659711035,40.61495443451733,31.4238747232961,17.67603164149454,41.51965007593037,46.28026478568885,33.853553710171596,17.073562033860423,9.091240430005321,32.048541438279806,49.07593057575336,9.891954429737243,38.33882008660262,24.801516011660375,36.2256391413872,29.534875902523122,7.396470914335474,10.371424785973089,4.700322761506542],\"y\":[12.973331022328678,28.203653899482784,35.74961183104922,34.465085078924496,21.461101407446705,37.529965037281144,49.441391727467895,6.13289917414539,14.216540359562396,43.33937749515063,21.533634908228798,15.456311099379333,28.185049038215265,26.153680093820885,36.65287497960688,41.0552036917245,31.889117867932555,33.795573639886925,43.66555594487659,29.957321981849223,0.32791930179014717,23.175023322096234,25.708378287869767,12.842764294278986,0.9059992611865852,44.62824131844912,22.935520181164947,9.760547870181918,37.45070158856345,32.7268162607324,48.23084166405828,37.52482397577586,20.520530964420274,12.445247725518,33.05699941130476,32.000301775782766,17.41174922492489,1.1083242784586222,26.599763564297994,2.0508362084297405,34.538063913284674,34.635505609916265,46.414589245439366,37.05214535213213,48.18835091030528,21.25765249829385,42.8938967128605,46.559037962879074,27.05994468640693,27.102173189177652,43.047291885853326,18.969492801447668,31.42008763048567,25.825832621627853,31.323310621716182,45.842409748693306,29.26571215492687,48.82020011534197,6.500080913299666,19.902754647984754,39.43182467492877,3.4228992667601874,24.03365651030142,27.70733605123643,45.24131696001255,34.038520062315655,42.676558921616916,22.446341925183955,19.994115556463733,35.10628293493035,42.665435498520075,28.4202760018863,17.361172374785706,35.44721378820248,20.325539886697403,46.35883437380398,5.578849207158493,10.681820081046745,40.55108305319244,47.93776175545444,14.231852743933299,44.129949575937474,44.294339168300766,18.601636551010454,16.367948913678198,46.88770255927029,12.932681364313247,30.11503329421863,36.7052461947908,14.622014847344738,35.1816130890581,48.14141985962324,8.77293983733175,42.03166878330554,5.083116729151188,5.588626759884063,49.968980420876704,35.8942514418879,1.522536577096073,49.461677750254154]},{\"name\":\"Series 2 using Y axis 2\",\"type\":\"scatter\",\"mode\":\"markers\",\"yaxis\":\"y2\",\"x\":[22.150270256105276,34.65943444381033,1.3262972805380302,44.33792798648544,8.008887036947016,31.691598273438625,24.384826572879614,41.2566201276294,25.948371830494388,40.29238873580396,15.962381627254619,11.123514981131915,25.75949499376365,36.882273057229106,44.428209847178245,2.6967295333187815,3.4558821093819416,36.77327368963716,47.09496710984342,8.585149617467486,32.47276856720503,23.221824363439787,15.452492081307312,47.62924100585143,17.92946064129413,41.26171764012835,19.34739642799368,37.88670706578454,12.763180184169387,28.77960269807068,32.57337559445711,29.194218527609962,4.1220542832375475,38.2037159821477,42.698484779610496,27.21593405316028,12.047578054822534,9.64719678590828,37.379420118804546,5.391467857126436,40.18197140267688,40.380567317643546,7.899211351265989,17.26041563669696,30.00341092569115,6.103655902449972,48.21354127146423,39.26750313525956,45.92220880862421,26.645435042704797,4.402223103977021,43.34187354895123,8.463597197379292,32.44096811714643,45.096231327615385,19.295994091445507,46.717816778338786,28.417835783189226,28.186969981251636,39.404092914036106,9.255849571042146,18.770142515753314,32.923314436827525,31.397012720850775,4.7891376512905754,49.50638458591893,9.363286382262508,1.5498115720464833,39.99427774988675,45.62818852155136,19.071049355930224,26.540382843300954,32.12871565034464,16.33009343109561,1.9362249885736316,11.321856516833684,48.331061360853234,24.706313188607176,4.041398918501643,40.37844284664606,11.829704088593672,18.108543659711035,40.61495443451733,31.4238747232961,17.67603164149454,41.51965007593037,46.28026478568885,33.853553710171596,17.073562033860423,9.091240430005321,32.048541438279806,49.07593057575336,9.891954429737243,38.33882008660262,24.801516011660375,36.2256391413872,29.534875902523122,7.396470914335474,10.371424785973089,4.700322761506542],\"y\":[33.72318575899551,14.151754773735837,10.71349101284853,47.52821646471762,12.221934564657428,1.5832027672982918,3.139155228691004,21.228701418763414,31.480618227109524,32.27092643123577,15.549603145966023,2.9530459370934183,32.942637001541506,45.287792391401126,16.78869021909839,49.05727158679915,2.2387725325095422,12.815883268320327,3.4603041396962575,24.808233624062215,6.258384776153153,19.25285085049258,27.742652162006475,13.821420253977129,4.263927238728998,15.770367231921972,5.020550147358432,42.496286743537524,27.422869219193778,7.259776343446267,33.429539738056235,49.455522619206995,43.83618367074704,37.633279887971064,30.891958915542734,21.059122692285147,12.910147593760884,25.044682967275904,7.773951253198941,6.6910749223675845,33.748270542416805,10.751921856232249,44.903683350175555,21.705923679199422,7.132747162078096,24.06431434022321,37.36492331782392,41.67444783363077,9.619911988195163,31.10066260944972,44.216411638692946,38.88211542188513,21.291742639092913,26.93004758336228,3.0863065535051804,10.910934261262511,5.7855557278082115,49.075362348163495,26.452320692109655,1.574810849718622,12.366588581018402,35.33031281797651,43.341979479783326,16.480404674529485,5.013272434854288,20.37385592789477,36.173765898609965,39.05000927887807,22.7525443225142,13.761710308860764,47.50873991762501,7.969875028965795,38.812656193062644,26.53279708073374,45.59356040200895,23.716867788129502,13.553494989795917,14.889171644959537,40.74965457287962,10.068320879724807,27.589515877054854,37.19120084770501,36.89961311313603,16.314367670884,37.03797230322642,24.855454910603527,33.82070799902049,7.26901706576758,12.405184733623752,48.65097464083449,16.07677754990253,1.1156736933323586,6.266204401181286,19.360291554019966,24.003535700309786,29.624750334187006,42.598259234531774,45.80476206771871,0.6086900273308771,11.345512386933759]}];\n",
       " var layout_T2USbAQv3j = {\"height\":550,\"width\":600,\"hovermode\":\"closest\",\"title\":{\"text\":\"Using Multiple Axes\"},\"showlegend\":true,\"yaxis2\":{\"title\":{\"text\":\"Second y axis\"},\"showgrid\":true,\"zeroline\":false,\"showline\":false,\"side\":\"right\",\"overlaying\":\"y\"},\"yaxis\":{\"title\":{\"text\":\"First Y Axis\"},\"showgrid\":true,\"zeroline\":false,\"showline\":false},\"xaxis\":{\"title\":{\"text\":\"X Axis\"},\"showgrid\":true,\"zeroline\":false,\"showline\":false}};\n",
       " var config_T2USbAQv3j = {\"responsive\":false,\"scrollZoom\":false,\"displaylogo\":false};\n",
       " Plotly.newPlot(\"graph_T2USbAQv3j\", traces_T2USbAQv3j, layout_T2USbAQv3j, config_T2USbAQv3j);\n",
       "</script> \n"
      ]
     },
     "metadata": {},
     "output_type": "display_data"
    }
   ],
   "source": [
    "val series1 = XY(x, y) asType SCATTER drawStyle MARKERS\n",
    "\n",
    "// The following maps the series onto the second Y axis.\n",
    "val series2 = (\n",
    "    XY(x, z) \n",
    "    asType SCATTER \n",
    "    drawStyle MARKERS \n",
    "    setAxis Axis(Y, 2)\n",
    "    setName(\"Series 2 using Y axis 2\")\n",
    ")\n",
    "\n",
    "val series3 = series1.copy() setName(\"Series 3 using Y axis 1\")\n",
    "      \n",
    "val chart = (\n",
    "    Chart() \n",
    "    setTitle \"Using Multiple Axes\"\n",
    "    // the following makes the chart unresponsive\n",
    "    setConfig(false, false) \n",
    "    addSeries(series3, series2) \n",
    "    // the following tells the chart how to render the second Y Axis\n",
    "    addAxes Axis(Y, position = 2, title = \"Second y axis\", overlaying = Axis(Y), side = RIGHT_SIDE)\n",
    "    addAxes Axis(Y, 1, \"First Y Axis\")\n",
    "    addAxes Axis(X, title = \"X Axis\")\n",
    ") \n",
    "\n",
    "// this is just for illustration purposes, but we can also do the following\n",
    "val canvas = Canvas() setChart(0, 0, chart)\n",
    "\n",
    "canvas.plotInline"
   ]
  },
  {
   "cell_type": "markdown",
   "metadata": {},
   "source": [
    "### Customizing the Axes\n",
    "\n",
    "As can be seen from some of the examples above, if you do a simple chart you can use the standard axis (X and Y) and costumise them in the chart object. But for more complex layout,  we may would want to create new axis and name them.\n",
    "\n",
    "We can do this as follows:"
   ]
  },
  {
   "cell_type": "code",
   "execution_count": 14,
   "metadata": {},
   "outputs": [
    {
     "data": {
      "text/html": [
       "<div id=\"grid-container_tMMcRWIluE\" class=\"grid-container\" align=\"center\"> \n",
       "<div id=\"grid_tMMcRWIluE\" class=\"grid\" align=\"center\"> \n",
       "<div id=\"graph_l0nyPVxhMF\" class=\"graph\"></div> \n",
       "</div> \n",
       "</div> \n",
       "<script>\n",
       "var masonry = new Macy({\n",
       "    container: '#grid_tMMcRWIluE',\n",
       "    debug: true,\n",
       "    mobileFirst: true,\n",
       "    columns: 1,\n",
       "    margin: {\n",
       "        x: 0,\n",
       "        y: 0\n",
       "    }\n",
       "  });\n",
       "\n",
       "  var traces_l0nyPVxhMF = [{\"name\":\"Data\",\"type\":\"scatter\",\"mode\":\"markers\",\"x\":[22.150270256105276,34.65943444381033,1.3262972805380302,44.33792798648544,8.008887036947016,31.691598273438625,24.384826572879614,41.2566201276294,25.948371830494388,40.29238873580396,15.962381627254619,11.123514981131915,25.75949499376365,36.882273057229106,44.428209847178245,2.6967295333187815,3.4558821093819416,36.77327368963716,47.09496710984342,8.585149617467486,32.47276856720503,23.221824363439787,15.452492081307312,47.62924100585143,17.92946064129413,41.26171764012835,19.34739642799368,37.88670706578454,12.763180184169387,28.77960269807068,32.57337559445711,29.194218527609962,4.1220542832375475,38.2037159821477,42.698484779610496,27.21593405316028,12.047578054822534,9.64719678590828,37.379420118804546,5.391467857126436,40.18197140267688,40.380567317643546,7.899211351265989,17.26041563669696,30.00341092569115,6.103655902449972,48.21354127146423,39.26750313525956,45.92220880862421,26.645435042704797,4.402223103977021,43.34187354895123,8.463597197379292,32.44096811714643,45.096231327615385,19.295994091445507,46.717816778338786,28.417835783189226,28.186969981251636,39.404092914036106,9.255849571042146,18.770142515753314,32.923314436827525,31.397012720850775,4.7891376512905754,49.50638458591893,9.363286382262508,1.5498115720464833,39.99427774988675,45.62818852155136,19.071049355930224,26.540382843300954,32.12871565034464,16.33009343109561,1.9362249885736316,11.321856516833684,48.331061360853234,24.706313188607176,4.041398918501643,40.37844284664606,11.829704088593672,18.108543659711035,40.61495443451733,31.4238747232961,17.67603164149454,41.51965007593037,46.28026478568885,33.853553710171596,17.073562033860423,9.091240430005321,32.048541438279806,49.07593057575336,9.891954429737243,38.33882008660262,24.801516011660375,36.2256391413872,29.534875902523122,7.396470914335474,10.371424785973089,4.700322761506542],\"y\":[12.973331022328678,28.203653899482784,35.74961183104922,34.465085078924496,21.461101407446705,37.529965037281144,49.441391727467895,6.13289917414539,14.216540359562396,43.33937749515063,21.533634908228798,15.456311099379333,28.185049038215265,26.153680093820885,36.65287497960688,41.0552036917245,31.889117867932555,33.795573639886925,43.66555594487659,29.957321981849223,0.32791930179014717,23.175023322096234,25.708378287869767,12.842764294278986,0.9059992611865852,44.62824131844912,22.935520181164947,9.760547870181918,37.45070158856345,32.7268162607324,48.23084166405828,37.52482397577586,20.520530964420274,12.445247725518,33.05699941130476,32.000301775782766,17.41174922492489,1.1083242784586222,26.599763564297994,2.0508362084297405,34.538063913284674,34.635505609916265,46.414589245439366,37.05214535213213,48.18835091030528,21.25765249829385,42.8938967128605,46.559037962879074,27.05994468640693,27.102173189177652,43.047291885853326,18.969492801447668,31.42008763048567,25.825832621627853,31.323310621716182,45.842409748693306,29.26571215492687,48.82020011534197,6.500080913299666,19.902754647984754,39.43182467492877,3.4228992667601874,24.03365651030142,27.70733605123643,45.24131696001255,34.038520062315655,42.676558921616916,22.446341925183955,19.994115556463733,35.10628293493035,42.665435498520075,28.4202760018863,17.361172374785706,35.44721378820248,20.325539886697403,46.35883437380398,5.578849207158493,10.681820081046745,40.55108305319244,47.93776175545444,14.231852743933299,44.129949575937474,44.294339168300766,18.601636551010454,16.367948913678198,46.88770255927029,12.932681364313247,30.11503329421863,36.7052461947908,14.622014847344738,35.1816130890581,48.14141985962324,8.77293983733175,42.03166878330554,5.083116729151188,5.588626759884063,49.968980420876704,35.8942514418879,1.522536577096073,49.461677750254154]}];\n",
       " var layout_l0nyPVxhMF = {\"height\":550,\"width\":600,\"hovermode\":\"closest\",\"title\":{\"text\":\"Chart with Axes\"},\"showlegend\":true,\"xaxis\":{\"title\":{\"text\":\"x variable\"},\"showgrid\":true,\"zeroline\":false,\"showline\":false},\"yaxis\":{\"title\":{\"text\":\"y variable\"},\"showgrid\":true,\"zeroline\":false,\"showline\":false}};\n",
       " var config_l0nyPVxhMF = {\"responsive\":true,\"scrollZoom\":true,\"displaylogo\":false};\n",
       " Plotly.newPlot(\"graph_l0nyPVxhMF\", traces_l0nyPVxhMF, layout_l0nyPVxhMF, config_l0nyPVxhMF);\n",
       "</script> \n"
      ]
     },
     "metadata": {},
     "output_type": "display_data"
    }
   ],
   "source": [
    "// We construct the axes and set their title\n",
    "val xaxis = Axis(X, title = \"x variable\")\n",
    "val yaxis = Axis(Y, title = \"y variable\")\n",
    "\n",
    "// another way to do composition is to just add a bracket around the composition\n",
    "val chart = (\n",
    "    Chart()\n",
    "    setTitle \"Chart with Axes\"\n",
    "    addSeries(series1 setName(\"Data\"))\n",
    "    addAxes(xaxis, yaxis)\n",
    ")\n",
    "\n",
    "chart.plotInline"
   ]
  },
  {
   "cell_type": "markdown",
   "metadata": {},
   "source": [
    "### Quickly Configuring The Axes\n",
    "\n",
    "Picta comes with a range of utility functions to make configuring the primary axes quick and easy"
   ]
  },
  {
   "cell_type": "code",
   "execution_count": 15,
   "metadata": {},
   "outputs": [],
   "source": [
    "// Let's create 100 randome data points\n",
    "val x = List.range(0, 100).map(x => x * scala.util.Random.nextDouble())\n",
    "val y = List.range(0, 100).map(x => x * scala.util.Random.nextDouble())"
   ]
  },
  {
   "cell_type": "markdown",
   "metadata": {},
   "source": [
    "#### Adjusting Axes Limits"
   ]
  },
  {
   "cell_type": "code",
   "execution_count": 16,
   "metadata": {},
   "outputs": [
    {
     "data": {
      "text/html": [
       "<div id=\"grid-container_6xydktVcqD\" class=\"grid-container\" align=\"center\"> \n",
       "<div id=\"grid_6xydktVcqD\" class=\"grid\" align=\"center\"> \n",
       "<div id=\"graph_vgod21inGS\" class=\"graph\"></div> \n",
       "</div> \n",
       "</div> \n",
       "<script>\n",
       "var masonry = new Macy({\n",
       "    container: '#grid_6xydktVcqD',\n",
       "    debug: true,\n",
       "    mobileFirst: true,\n",
       "    columns: 1,\n",
       "    margin: {\n",
       "        x: 0,\n",
       "        y: 0\n",
       "    }\n",
       "  });\n",
       "\n",
       "  var traces_vgod21inGS = [{\"name\":\"Data for Axis Limit example\",\"type\":\"scatter\",\"mode\":\"markers\",\"x\":[0,0.8032256736370166,0.9017654719442916,0.794929975509058,0.2779510481630072,0.6692955891251345,4.450188424293253,1.914457262189314,6.152187891414233,3.4771143626617924,5.4647753818620455,0.31375112965471486,3.9990635382091013,6.9524463910192535,8.88589603312171,9.59796378548773,4.604678442171108,16.523215494977798,8.520722875777743,3.0204731006030627,2.4641210770327104,19.063478775113488,18.594495164883774,20.012169924769523,8.902100460460444,7.68317865589011,5.5466800666508504,22.09732840776694,8.559003110544944,18.688638273176622,22.006691162754368,4.634008275298997,20.763943344502227,32.20790877535006,7.035181191712223,15.82866920538521,1.9540807828148687,3.691865431827361,35.65347168200555,17.45903679425865,13.847315541893025,34.81641942518643,17.65532805923764,1.9463059839146837,19.783500714620807,40.47329934058588,45.95216972620892,0.09744249483686951,33.76744367941075,39.79664014549269,9.494745375802916,8.240701426631253,40.525330191689875,22.780035277725485,6.391501011675967,28.852456825661385,41.574636542420805,8.243777409351498,36.45613156662126,12.371127348263425,53.15627183920159,0.9647499709877025,60.31430250658724,43.96426724150167,54.13644239318753,11.931844980485973,41.63211901796973,41.80787198947196,10.904701192188766,37.18778067874775,51.24670260851815,55.202564888581655,63.12374020596185,10.81395848974604,56.232183356588145,67.83963818283827,2.1757395075941677,38.55828765214538,54.47245489555877,28.99080563865915,64.5494883088095,20.647005544473256,45.38533911223203,58.57919950290423,2.4721075758700795,66.71008826993062,19.30116420855249,59.245298079762975,7.05885462622393,44.7362980132736,2.8923294823273924,37.90045431987964,76.38447190185289,57.8077726326985,77.2291420287928,82.11222974689726,17.419473358401632,73.2958070416028,43.75107233299071,91.23994028000226],\"y\":[0,0.5096902060690023,1.2341491690724642,0.5471572721782733,0.5350209969606867,0.01998047707594708,3.2846635180284096,3.414690409535345,6.7502308261713635,0.8807243758553784,5.714088956950169,1.6440632350030544,10.774235475831423,12.098054359887934,12.821845318651688,14.459802435496336,0.3712170711472531,4.780605857358255,2.0818951280675484,17.324999352146836,17.90418808983903,3.420460553283591,2.9688567819882685,16.97934590110092,14.415737813735099,0.39704293160039705,3.0911710091378493,12.191754360089014,3.5821023528842897,24.318078892396684,25.277766740892623,4.420261720437139,26.055166976606937,19.993345932825285,11.759806704734736,14.958663611953044,22.250962871706022,13.491267918154522,35.99433321089468,9.63367768852496,32.222319516434396,19.105335427661196,34.24210254338283,30.94848134654316,6.117588954893366,22.406958860082486,24.987457088943838,10.998150677083702,45.12677960624436,30.133621615431924,35.9238303217228,50.759866120623784,24.0009941835838,6.70611644886717,16.774389613264898,43.73576702519969,47.45081340033998,22.936240755853884,46.9233572646232,50.64896475153924,35.23413178306491,23.226539400907562,26.94979037811886,15.213577967154187,49.78398627610541,14.526609374056775,27.931920511494628,27.167571638510886,47.0521480793718,65.74597481034239,23.07674248359935,19.02285515021123,9.104559791957495,16.481805518496284,40.07615829356689,18.600341910471542,57.15022055233016,58.0505494656344,54.84784404795597,44.62863435254492,17.365811032187732,21.16612959625524,45.23602643411597,26.743553463092116,6.344117171109345,24.433465519010728,64.074452286558,62.38205127427251,61.495352267617356,52.37495127478437,56.001171341024474,4.567867841840197,19.516558269755258,34.22898458118099,44.812221550467356,7.687923012942781,14.365569172354924,7.5037954514163,83.19888793739764,66.30760975475188]}];\n",
       " var layout_vgod21inGS = {\"height\":550,\"width\":600,\"hovermode\":\"closest\",\"title\":{\"text\":\"Axis.SetAxisRange\"},\"showlegend\":true,\"yaxis\":{\"title\":{\"text\":\"y axis\"},\"showgrid\":true,\"zeroline\":false,\"showline\":false,\"range\":[100,-100]},\"xaxis\":{\"title\":{\"text\":\"x axis\"},\"showgrid\":true,\"zeroline\":false,\"showline\":false,\"range\":[-100,100]}};\n",
       " var config_vgod21inGS = {\"responsive\":true,\"scrollZoom\":true,\"displaylogo\":false};\n",
       " Plotly.newPlot(\"graph_vgod21inGS\", traces_vgod21inGS, layout_vgod21inGS, config_vgod21inGS);\n",
       "</script> \n"
      ]
     },
     "metadata": {},
     "output_type": "display_data"
    }
   ],
   "source": [
    "val series = (\n",
    "    XY(x, y)\n",
    "    asType SCATTER\n",
    "    drawStyle MARKERS\n",
    ")\n",
    "\n",
    "val chart = (\n",
    "      Chart()\n",
    "    addSeries series.setName(\"Data for Axis Limit example\")\n",
    "    setTitle \"Axis.SetAxisRange\"\n",
    "    addAxes yaxis\n",
    "    setXAxisLimits(-100, 100) // Here we set the axis limit from -100 to 100\n",
    "    setYAxisLimits(100, -100) // Here, by using the minimum as 100 and the maximum as -100, we automatically reverse the axis\n",
    "    setXAxisTitle(\"x axis\")\n",
    "    setYAxisTitle(\"y axis\")\n",
    ")\n",
    "\n",
    "chart.plotInline"
   ]
  },
  {
   "cell_type": "markdown",
   "metadata": {},
   "source": [
    "#### Adjusting Axis Ticks"
   ]
  },
  {
   "cell_type": "code",
   "execution_count": 17,
   "metadata": {
    "scrolled": false
   },
   "outputs": [
    {
     "data": {
      "text/html": [
       "<div id=\"grid-container_nJ2xnsfWOa\" class=\"grid-container\" align=\"center\"> \n",
       "<div id=\"grid_nJ2xnsfWOa\" class=\"grid\" align=\"center\"> \n",
       "<div id=\"graph_gjLmXDbuSc\" class=\"graph\"></div> \n",
       "</div> \n",
       "</div> \n",
       "<script>\n",
       "var masonry = new Macy({\n",
       "    container: '#grid_nJ2xnsfWOa',\n",
       "    debug: true,\n",
       "    mobileFirst: true,\n",
       "    columns: 1,\n",
       "    margin: {\n",
       "        x: 0,\n",
       "        y: 0\n",
       "    }\n",
       "  });\n",
       "\n",
       "  var traces_gjLmXDbuSc = [{\"name\":\"aqipZA0ucr\",\"type\":\"scatter\",\"mode\":\"markers\",\"x\":[0,0.8032256736370166,0.9017654719442916,0.794929975509058,0.2779510481630072,0.6692955891251345,4.450188424293253,1.914457262189314,6.152187891414233,3.4771143626617924,5.4647753818620455,0.31375112965471486,3.9990635382091013,6.9524463910192535,8.88589603312171,9.59796378548773,4.604678442171108,16.523215494977798,8.520722875777743,3.0204731006030627,2.4641210770327104,19.063478775113488,18.594495164883774,20.012169924769523,8.902100460460444,7.68317865589011,5.5466800666508504,22.09732840776694,8.559003110544944,18.688638273176622,22.006691162754368,4.634008275298997,20.763943344502227,32.20790877535006,7.035181191712223,15.82866920538521,1.9540807828148687,3.691865431827361,35.65347168200555,17.45903679425865,13.847315541893025,34.81641942518643,17.65532805923764,1.9463059839146837,19.783500714620807,40.47329934058588,45.95216972620892,0.09744249483686951,33.76744367941075,39.79664014549269,9.494745375802916,8.240701426631253,40.525330191689875,22.780035277725485,6.391501011675967,28.852456825661385,41.574636542420805,8.243777409351498,36.45613156662126,12.371127348263425,53.15627183920159,0.9647499709877025,60.31430250658724,43.96426724150167,54.13644239318753,11.931844980485973,41.63211901796973,41.80787198947196,10.904701192188766,37.18778067874775,51.24670260851815,55.202564888581655,63.12374020596185,10.81395848974604,56.232183356588145,67.83963818283827,2.1757395075941677,38.55828765214538,54.47245489555877,28.99080563865915,64.5494883088095,20.647005544473256,45.38533911223203,58.57919950290423,2.4721075758700795,66.71008826993062,19.30116420855249,59.245298079762975,7.05885462622393,44.7362980132736,2.8923294823273924,37.90045431987964,76.38447190185289,57.8077726326985,77.2291420287928,82.11222974689726,17.419473358401632,73.2958070416028,43.75107233299071,91.23994028000226],\"y\":[0,0.5096902060690023,1.2341491690724642,0.5471572721782733,0.5350209969606867,0.01998047707594708,3.2846635180284096,3.414690409535345,6.7502308261713635,0.8807243758553784,5.714088956950169,1.6440632350030544,10.774235475831423,12.098054359887934,12.821845318651688,14.459802435496336,0.3712170711472531,4.780605857358255,2.0818951280675484,17.324999352146836,17.90418808983903,3.420460553283591,2.9688567819882685,16.97934590110092,14.415737813735099,0.39704293160039705,3.0911710091378493,12.191754360089014,3.5821023528842897,24.318078892396684,25.277766740892623,4.420261720437139,26.055166976606937,19.993345932825285,11.759806704734736,14.958663611953044,22.250962871706022,13.491267918154522,35.99433321089468,9.63367768852496,32.222319516434396,19.105335427661196,34.24210254338283,30.94848134654316,6.117588954893366,22.406958860082486,24.987457088943838,10.998150677083702,45.12677960624436,30.133621615431924,35.9238303217228,50.759866120623784,24.0009941835838,6.70611644886717,16.774389613264898,43.73576702519969,47.45081340033998,22.936240755853884,46.9233572646232,50.64896475153924,35.23413178306491,23.226539400907562,26.94979037811886,15.213577967154187,49.78398627610541,14.526609374056775,27.931920511494628,27.167571638510886,47.0521480793718,65.74597481034239,23.07674248359935,19.02285515021123,9.104559791957495,16.481805518496284,40.07615829356689,18.600341910471542,57.15022055233016,58.0505494656344,54.84784404795597,44.62863435254492,17.365811032187732,21.16612959625524,45.23602643411597,26.743553463092116,6.344117171109345,24.433465519010728,64.074452286558,62.38205127427251,61.495352267617356,52.37495127478437,56.001171341024474,4.567867841840197,19.516558269755258,34.22898458118099,44.812221550467356,7.687923012942781,14.365569172354924,7.5037954514163,83.19888793739764,66.30760975475188]}];\n",
       " var layout_gjLmXDbuSc = {\"height\":550,\"width\":600,\"hovermode\":\"closest\",\"title\":{\"text\":\"Set Axis Ticks\"},\"showlegend\":true,\"yaxis\":{\"title\":{\"text\":\"y variable\"},\"showgrid\":true,\"zeroline\":false,\"showline\":false,\"range\":[-100,100]},\"xaxis\":{\"title\":{\"text\":\"my new x axis\"},\"showgrid\":true,\"zeroline\":false,\"showline\":false,\"range\":[0,100],\"tick0\":5,\"dtick\":15}};\n",
       " var config_gjLmXDbuSc = {\"responsive\":true,\"scrollZoom\":true,\"displaylogo\":false};\n",
       " Plotly.newPlot(\"graph_gjLmXDbuSc\", traces_gjLmXDbuSc, layout_gjLmXDbuSc, config_gjLmXDbuSc);\n",
       "</script> \n"
      ]
     },
     "metadata": {},
     "output_type": "display_data"
    }
   ],
   "source": [
    "val series = (\n",
    "    XY(x, y)\n",
    "    asType SCATTER\n",
    "    drawStyle MARKERS\n",
    ")\n",
    "\n",
    "val chart = (\n",
    "    Chart()\n",
    "    addSeries series\n",
    "    setTitle \"Set Axis Ticks\"\n",
    "    addAxes yaxis\n",
    "    setXAxisLimits(0, 100)\n",
    "    setYAxisLimits(-100, 100)\n",
    "    setXAxisTitle(\"my new x axis\")\n",
    "    setXAxisStartTick 5\n",
    "    setXAxisTickGap 15\n",
    ")\n",
    "\n",
    "chart.plotInline"
   ]
  },
  {
   "cell_type": "markdown",
   "metadata": {},
   "source": [
    "### Setting Logarithmic Axes"
   ]
  },
  {
   "cell_type": "code",
   "execution_count": 18,
   "metadata": {},
   "outputs": [
    {
     "data": {
      "text/html": [
       "<div id=\"grid-container_iWo2yMAQpu\" class=\"grid-container\" align=\"center\"> \n",
       "<div id=\"grid_iWo2yMAQpu\" class=\"grid\" align=\"center\"> \n",
       "<div id=\"graph_ujUI6lAZxh\" class=\"graph\"></div> \n",
       "</div> \n",
       "</div> \n",
       "<script>\n",
       "var masonry = new Macy({\n",
       "    container: '#grid_iWo2yMAQpu',\n",
       "    debug: true,\n",
       "    mobileFirst: true,\n",
       "    columns: 1,\n",
       "    margin: {\n",
       "        x: 0,\n",
       "        y: 0\n",
       "    }\n",
       "  });\n",
       "\n",
       "  var traces_ujUI6lAZxh = [{\"name\":\"lQfeZxOJwZ\",\"type\":\"scatter\",\"mode\":\"markers\",\"x\":[1,2,3],\"y\":[1.234,5.2112,2.44332]}];\n",
       " var layout_ujUI6lAZxh = {\"height\":550,\"width\":600,\"hovermode\":\"closest\",\"title\":{\"text\":\"Logarithmic Axes\"},\"showlegend\":true,\"xaxis\":{\"title\":{\"text\":\"x variable\"},\"showgrid\":true,\"zeroline\":false,\"showline\":false,\"type\":\"log\"},\"yaxis\":{\"title\":{\"text\":\"y variable\"},\"showgrid\":true,\"zeroline\":false,\"showline\":false,\"type\":\"log\"}};\n",
       " var config_ujUI6lAZxh = {\"responsive\":true,\"scrollZoom\":true,\"displaylogo\":false};\n",
       " Plotly.newPlot(\"graph_ujUI6lAZxh\", traces_ujUI6lAZxh, layout_ujUI6lAZxh, config_ujUI6lAZxh);\n",
       "</script> \n"
      ]
     },
     "metadata": {},
     "output_type": "display_data"
    }
   ],
   "source": [
    "val series = (\n",
    "    XY(List(1, 2, 3), List(1.234, 5.2112, 2.44332))\n",
    "    asType SCATTER\n",
    "    drawStyle MARKERS\n",
    ")\n",
    "\n",
    "val chart = (\n",
    "    Chart()\n",
    "    addSeries series\n",
    "    setTitle \"Logarithmic Axes\"\n",
    "    addAxes(xaxis, yaxis)\n",
    "    drawXAxisLog true // We set the 'drawXAxisLog' value to 'true' to draw it on a logarithmic scale\n",
    "    drawYAxisLog true\n",
    ")\n",
    "\n",
    "chart.plotInline"
   ]
  },
  {
   "cell_type": "markdown",
   "metadata": {},
   "source": [
    "### Reversing axis\n",
    "We can also reverse the axis by setting the appropriate 'drawXAxisReversed'"
   ]
  },
  {
   "cell_type": "code",
   "execution_count": 19,
   "metadata": {},
   "outputs": [
    {
     "data": {
      "text/html": [
       "<div id=\"grid-container_e9fmE7Ru2Z\" class=\"grid-container\" align=\"center\"> \n",
       "<div id=\"grid_e9fmE7Ru2Z\" class=\"grid\" align=\"center\"> \n",
       "<div id=\"graph_EyhD4nMpHx\" class=\"graph\"></div> \n",
       "</div> \n",
       "</div> \n",
       "<script>\n",
       "var masonry = new Macy({\n",
       "    container: '#grid_e9fmE7Ru2Z',\n",
       "    debug: true,\n",
       "    mobileFirst: true,\n",
       "    columns: 1,\n",
       "    margin: {\n",
       "        x: 0,\n",
       "        y: 0\n",
       "    }\n",
       "  });\n",
       "\n",
       "  var traces_EyhD4nMpHx = [{\"name\":\"g6ZhvotOrb\",\"type\":\"scatter\",\"mode\":\"markers\",\"x\":[0,0.8032256736370166,0.9017654719442916,0.794929975509058,0.2779510481630072,0.6692955891251345,4.450188424293253,1.914457262189314,6.152187891414233,3.4771143626617924,5.4647753818620455,0.31375112965471486,3.9990635382091013,6.9524463910192535,8.88589603312171,9.59796378548773,4.604678442171108,16.523215494977798,8.520722875777743,3.0204731006030627,2.4641210770327104,19.063478775113488,18.594495164883774,20.012169924769523,8.902100460460444,7.68317865589011,5.5466800666508504,22.09732840776694,8.559003110544944,18.688638273176622,22.006691162754368,4.634008275298997,20.763943344502227,32.20790877535006,7.035181191712223,15.82866920538521,1.9540807828148687,3.691865431827361,35.65347168200555,17.45903679425865,13.847315541893025,34.81641942518643,17.65532805923764,1.9463059839146837,19.783500714620807,40.47329934058588,45.95216972620892,0.09744249483686951,33.76744367941075,39.79664014549269,9.494745375802916,8.240701426631253,40.525330191689875,22.780035277725485,6.391501011675967,28.852456825661385,41.574636542420805,8.243777409351498,36.45613156662126,12.371127348263425,53.15627183920159,0.9647499709877025,60.31430250658724,43.96426724150167,54.13644239318753,11.931844980485973,41.63211901796973,41.80787198947196,10.904701192188766,37.18778067874775,51.24670260851815,55.202564888581655,63.12374020596185,10.81395848974604,56.232183356588145,67.83963818283827,2.1757395075941677,38.55828765214538,54.47245489555877,28.99080563865915,64.5494883088095,20.647005544473256,45.38533911223203,58.57919950290423,2.4721075758700795,66.71008826993062,19.30116420855249,59.245298079762975,7.05885462622393,44.7362980132736,2.8923294823273924,37.90045431987964,76.38447190185289,57.8077726326985,77.2291420287928,82.11222974689726,17.419473358401632,73.2958070416028,43.75107233299071,91.23994028000226],\"y\":[0,0.5096902060690023,1.2341491690724642,0.5471572721782733,0.5350209969606867,0.01998047707594708,3.2846635180284096,3.414690409535345,6.7502308261713635,0.8807243758553784,5.714088956950169,1.6440632350030544,10.774235475831423,12.098054359887934,12.821845318651688,14.459802435496336,0.3712170711472531,4.780605857358255,2.0818951280675484,17.324999352146836,17.90418808983903,3.420460553283591,2.9688567819882685,16.97934590110092,14.415737813735099,0.39704293160039705,3.0911710091378493,12.191754360089014,3.5821023528842897,24.318078892396684,25.277766740892623,4.420261720437139,26.055166976606937,19.993345932825285,11.759806704734736,14.958663611953044,22.250962871706022,13.491267918154522,35.99433321089468,9.63367768852496,32.222319516434396,19.105335427661196,34.24210254338283,30.94848134654316,6.117588954893366,22.406958860082486,24.987457088943838,10.998150677083702,45.12677960624436,30.133621615431924,35.9238303217228,50.759866120623784,24.0009941835838,6.70611644886717,16.774389613264898,43.73576702519969,47.45081340033998,22.936240755853884,46.9233572646232,50.64896475153924,35.23413178306491,23.226539400907562,26.94979037811886,15.213577967154187,49.78398627610541,14.526609374056775,27.931920511494628,27.167571638510886,47.0521480793718,65.74597481034239,23.07674248359935,19.02285515021123,9.104559791957495,16.481805518496284,40.07615829356689,18.600341910471542,57.15022055233016,58.0505494656344,54.84784404795597,44.62863435254492,17.365811032187732,21.16612959625524,45.23602643411597,26.743553463092116,6.344117171109345,24.433465519010728,64.074452286558,62.38205127427251,61.495352267617356,52.37495127478437,56.001171341024474,4.567867841840197,19.516558269755258,34.22898458118099,44.812221550467356,7.687923012942781,14.365569172354924,7.5037954514163,83.19888793739764,66.30760975475188]}];\n",
       " var layout_EyhD4nMpHx = {\"height\":550,\"width\":600,\"hovermode\":\"closest\",\"title\":{\"text\":\"Reversed Axes\"},\"showlegend\":true,\"xaxis\":{\"title\":{\"text\":\"x reversed\"},\"showgrid\":true,\"zeroline\":false,\"showline\":false,\"autorange\":\"reversed\"},\"yaxis\":{\"title\":{\"text\":\"y reversed\"},\"showgrid\":true,\"zeroline\":false,\"showline\":false,\"autorange\":\"reversed\"}};\n",
       " var config_EyhD4nMpHx = {\"responsive\":true,\"scrollZoom\":true,\"displaylogo\":false};\n",
       " Plotly.newPlot(\"graph_EyhD4nMpHx\", traces_EyhD4nMpHx, layout_EyhD4nMpHx, config_EyhD4nMpHx);\n",
       "</script> \n"
      ]
     },
     "metadata": {},
     "output_type": "display_data"
    }
   ],
   "source": [
    "val series = (\n",
    "    XY(x, y)\n",
    "    asType SCATTER\n",
    "    drawStyle MARKERS\n",
    ")\n",
    "\n",
    "val chart = (\n",
    "    Chart()\n",
    "    addSeries series\n",
    "    setTitle \"Reversed Axes\"\n",
    "    setXAxisTitle(\"x reversed\")\n",
    "    setYAxisTitle(\"y reversed\")\n",
    "    drawXAxisReversed true\n",
    "    drawYAxisReversed true\n",
    ")\n",
    "chart.plotInline"
   ]
  },
  {
   "cell_type": "markdown",
   "metadata": {},
   "source": [
    "### Display options - MultiCharts\n",
    "\n",
    "`MultiCharts` are a way to plot multiple axes on the same chart. This is seperate to Picta's grid system, which create a grid of subplot `Chart`'s. The next series of examples will make this clearer."
   ]
  },
  {
   "cell_type": "code",
   "execution_count": 20,
   "metadata": {},
   "outputs": [
    {
     "data": {
      "text/html": [
       "<div id=\"grid-container_Nj6Q1RlF8O\" class=\"grid-container\" align=\"center\"> \n",
       "<div id=\"grid_Nj6Q1RlF8O\" class=\"grid\" align=\"center\"> \n",
       "<div id=\"graph_ZRHX2f7NW0\" class=\"graph\"></div> \n",
       "</div> \n",
       "</div> \n",
       "<script>\n",
       "var masonry = new Macy({\n",
       "    container: '#grid_Nj6Q1RlF8O',\n",
       "    debug: true,\n",
       "    mobileFirst: true,\n",
       "    columns: 1,\n",
       "    margin: {\n",
       "        x: 0,\n",
       "        y: 0\n",
       "    }\n",
       "  });\n",
       "\n",
       "  var traces_ZRHX2f7NW0 = [{\"name\":\"First series\",\"type\":\"scatter\",\"mode\":\"markers\",\"x\":[1,2,3],\"y\":[2,4,5]},{\"name\":\"Second series\",\"type\":\"scatter\",\"mode\":\"markers\",\"xaxis\":\"x2\",\"yaxis\":\"y2\",\"x\":[0,0.8032256736370166,0.9017654719442916,0.794929975509058,0.2779510481630072,0.6692955891251345,4.450188424293253,1.914457262189314,6.152187891414233,3.4771143626617924,5.4647753818620455,0.31375112965471486,3.9990635382091013,6.9524463910192535,8.88589603312171,9.59796378548773,4.604678442171108,16.523215494977798,8.520722875777743,3.0204731006030627,2.4641210770327104,19.063478775113488,18.594495164883774,20.012169924769523,8.902100460460444,7.68317865589011,5.5466800666508504,22.09732840776694,8.559003110544944,18.688638273176622,22.006691162754368,4.634008275298997,20.763943344502227,32.20790877535006,7.035181191712223,15.82866920538521,1.9540807828148687,3.691865431827361,35.65347168200555,17.45903679425865,13.847315541893025,34.81641942518643,17.65532805923764,1.9463059839146837,19.783500714620807,40.47329934058588,45.95216972620892,0.09744249483686951,33.76744367941075,39.79664014549269,9.494745375802916,8.240701426631253,40.525330191689875,22.780035277725485,6.391501011675967,28.852456825661385,41.574636542420805,8.243777409351498,36.45613156662126,12.371127348263425,53.15627183920159,0.9647499709877025,60.31430250658724,43.96426724150167,54.13644239318753,11.931844980485973,41.63211901796973,41.80787198947196,10.904701192188766,37.18778067874775,51.24670260851815,55.202564888581655,63.12374020596185,10.81395848974604,56.232183356588145,67.83963818283827,2.1757395075941677,38.55828765214538,54.47245489555877,28.99080563865915,64.5494883088095,20.647005544473256,45.38533911223203,58.57919950290423,2.4721075758700795,66.71008826993062,19.30116420855249,59.245298079762975,7.05885462622393,44.7362980132736,2.8923294823273924,37.90045431987964,76.38447190185289,57.8077726326985,77.2291420287928,82.11222974689726,17.419473358401632,73.2958070416028,43.75107233299071,91.23994028000226],\"y\":[0,0.5096902060690023,1.2341491690724642,0.5471572721782733,0.5350209969606867,0.01998047707594708,3.2846635180284096,3.414690409535345,6.7502308261713635,0.8807243758553784,5.714088956950169,1.6440632350030544,10.774235475831423,12.098054359887934,12.821845318651688,14.459802435496336,0.3712170711472531,4.780605857358255,2.0818951280675484,17.324999352146836,17.90418808983903,3.420460553283591,2.9688567819882685,16.97934590110092,14.415737813735099,0.39704293160039705,3.0911710091378493,12.191754360089014,3.5821023528842897,24.318078892396684,25.277766740892623,4.420261720437139,26.055166976606937,19.993345932825285,11.759806704734736,14.958663611953044,22.250962871706022,13.491267918154522,35.99433321089468,9.63367768852496,32.222319516434396,19.105335427661196,34.24210254338283,30.94848134654316,6.117588954893366,22.406958860082486,24.987457088943838,10.998150677083702,45.12677960624436,30.133621615431924,35.9238303217228,50.759866120623784,24.0009941835838,6.70611644886717,16.774389613264898,43.73576702519969,47.45081340033998,22.936240755853884,46.9233572646232,50.64896475153924,35.23413178306491,23.226539400907562,26.94979037811886,15.213577967154187,49.78398627610541,14.526609374056775,27.931920511494628,27.167571638510886,47.0521480793718,65.74597481034239,23.07674248359935,19.02285515021123,9.104559791957495,16.481805518496284,40.07615829356689,18.600341910471542,57.15022055233016,58.0505494656344,54.84784404795597,44.62863435254492,17.365811032187732,21.16612959625524,45.23602643411597,26.743553463092116,6.344117171109345,24.433465519010728,64.074452286558,62.38205127427251,61.495352267617356,52.37495127478437,56.001171341024474,4.567867841840197,19.516558269755258,34.22898458118099,44.812221550467356,7.687923012942781,14.365569172354924,7.5037954514163,83.19888793739764,66.30760975475188]}];\n",
       " var layout_ZRHX2f7NW0 = {\"height\":550,\"width\":600,\"hovermode\":\"closest\",\"title\":{\"text\":\"Chart with Axis Composition\"},\"showlegend\":true,\"grid\":{\"rows\":1,\"columns\":2,\"pattern\":\"independent\"},\"xaxis\":{\"title\":{\"text\":\"x1\"},\"showgrid\":true,\"zeroline\":false,\"showline\":false},\"yaxis\":{\"title\":{\"text\":\"y1\"},\"showgrid\":true,\"zeroline\":false,\"showline\":false},\"xaxis2\":{\"title\":{\"text\":\"x2\"},\"showgrid\":true,\"zeroline\":false,\"showline\":false},\"yaxis2\":{\"showgrid\":true,\"zeroline\":false,\"showline\":false}};\n",
       " var config_ZRHX2f7NW0 = {\"responsive\":false,\"scrollZoom\":true,\"displaylogo\":false};\n",
       " Plotly.newPlot(\"graph_ZRHX2f7NW0\", traces_ZRHX2f7NW0, layout_ZRHX2f7NW0, config_ZRHX2f7NW0);\n",
       "</script> \n"
      ]
     },
     "metadata": {},
     "output_type": "display_data"
    }
   ],
   "source": [
    "// create the axes\n",
    "val xaxis1 = Axis(X) setTitle \"x1\"\n",
    "val yaxis1 = Axis(Y) setTitle \"y1\" // this is not strictly necessary, but if it is not added there will be a zeroline at y = 0\n",
    "\n",
    "val xaxis2 = Axis(X, 2) setTitle \"x2\"\n",
    "val yaxis2 = Axis(Y, 2) // this is not strictly necessary, but if it is not added there will be a zeroline at y = 0\n",
    "\n",
    "val series1 = (\n",
    "    XY(x = List(1, 2, 3), y = List(2, 4, 5))\n",
    "    asType SCATTER\n",
    "    drawStyle MARKERS\n",
    "    setName(\"First series\") //Here we don't specify the axis, so the standard axis will be used\n",
    ")\n",
    "\n",
    "val series2 = (\n",
    "    XY(x = x, y = y) \n",
    "    asType SCATTER\n",
    "    drawStyle MARKERS\n",
    "    setName(\"Second series\")\n",
    "    setAxes (xaxis2, yaxis2) //Here we specify the axis for this plot, which are the second axis\n",
    ")\n",
    "\n",
    "val chart1 = Chart()\n",
    "            .addSeries(series1, series2)\n",
    "            .setTitle(\"Chart with Axis Composition\")\n",
    "            .addAxes(xaxis1, yaxis1, xaxis2, yaxis2)\n",
    "            .setConfig(responsive=false)\n",
    "            // This tells Picta that we want to actually subdivide this chart into multiple plots\n",
    "            .asMultiChart(1, 2) //These correspond to the axis values given above\n",
    "\n",
    "chart1.plotInline"
   ]
  },
  {
   "cell_type": "markdown",
   "metadata": {},
   "source": [
    "### Picta's Subplot System\n",
    "\n",
    "While the above is useful, sometimes it is easier to plot independent charts in a subplot grid. This is where we can use the Picta subplot system.\n",
    "\n",
    "In the subplots below, each subplot is an individual `Chart`. This means we can actually embed the above `MultiChart` inside another subplot. This way we can create nested subplots to showcase any data we need to.\n",
    "\n",
    "Used creatively, this subplot system can be very useful for data exploration."
   ]
  },
  {
   "cell_type": "code",
   "execution_count": 21,
   "metadata": {
    "scrolled": false
   },
   "outputs": [
    {
     "data": {
      "text/html": [
       "<div id=\"grid-container_fsVtVnCB6a\" class=\"grid-container\" align=\"center\"> \n",
       "<div id=\"grid_fsVtVnCB6a\" class=\"grid\" align=\"center\"> \n",
       "<div id=\"graph_IcKGf4fdcb\" class=\"graph\"></div> \n",
       "<div id=\"graph_14pWE211Rm\" class=\"graph\"></div> \n",
       "<div id=\"graph_KU3CPwH1Nl\" class=\"graph\"></div> \n",
       "<div id=\"graph_sBgJ5KdPBF\" class=\"graph\"></div> \n",
       "</div> \n",
       "</div> \n",
       "\n",
       "<div align=\"center\">\n",
       "<button id = \"saveAsPNG_fsVtVnCB6a\" class=\"picta-button\">Download Canvas as PNG</button>\n",
       "</div>\n",
       "<script>\n",
       "var masonry = new Macy({\n",
       "    container: '#grid_fsVtVnCB6a',\n",
       "    debug: true,\n",
       "    mobileFirst: true,\n",
       "    columns: 2,\n",
       "    margin: {\n",
       "        x: 0,\n",
       "        y: 0\n",
       "    }\n",
       "  });\n",
       "\n",
       "  var traces_IcKGf4fdcb = [{\"name\":\"a\",\"type\":\"scatter\",\"mode\":\"markers\",\"x\":[0,0.8032256736370166,0.9017654719442916,0.794929975509058,0.2779510481630072,0.6692955891251345,4.450188424293253,1.914457262189314,6.152187891414233,3.4771143626617924,5.4647753818620455,0.31375112965471486,3.9990635382091013,6.9524463910192535,8.88589603312171,9.59796378548773,4.604678442171108,16.523215494977798,8.520722875777743,3.0204731006030627,2.4641210770327104,19.063478775113488,18.594495164883774,20.012169924769523,8.902100460460444,7.68317865589011,5.5466800666508504,22.09732840776694,8.559003110544944,18.688638273176622,22.006691162754368,4.634008275298997,20.763943344502227,32.20790877535006,7.035181191712223,15.82866920538521,1.9540807828148687,3.691865431827361,35.65347168200555,17.45903679425865,13.847315541893025,34.81641942518643,17.65532805923764,1.9463059839146837,19.783500714620807,40.47329934058588,45.95216972620892,0.09744249483686951,33.76744367941075,39.79664014549269,9.494745375802916,8.240701426631253,40.525330191689875,22.780035277725485,6.391501011675967,28.852456825661385,41.574636542420805,8.243777409351498,36.45613156662126,12.371127348263425,53.15627183920159,0.9647499709877025,60.31430250658724,43.96426724150167,54.13644239318753,11.931844980485973,41.63211901796973,41.80787198947196,10.904701192188766,37.18778067874775,51.24670260851815,55.202564888581655,63.12374020596185,10.81395848974604,56.232183356588145,67.83963818283827,2.1757395075941677,38.55828765214538,54.47245489555877,28.99080563865915,64.5494883088095,20.647005544473256,45.38533911223203,58.57919950290423,2.4721075758700795,66.71008826993062,19.30116420855249,59.245298079762975,7.05885462622393,44.7362980132736,2.8923294823273924,37.90045431987964,76.38447190185289,57.8077726326985,77.2291420287928,82.11222974689726,17.419473358401632,73.2958070416028,43.75107233299071,91.23994028000226],\"y\":[0,0.5096902060690023,1.2341491690724642,0.5471572721782733,0.5350209969606867,0.01998047707594708,3.2846635180284096,3.414690409535345,6.7502308261713635,0.8807243758553784,5.714088956950169,1.6440632350030544,10.774235475831423,12.098054359887934,12.821845318651688,14.459802435496336,0.3712170711472531,4.780605857358255,2.0818951280675484,17.324999352146836,17.90418808983903,3.420460553283591,2.9688567819882685,16.97934590110092,14.415737813735099,0.39704293160039705,3.0911710091378493,12.191754360089014,3.5821023528842897,24.318078892396684,25.277766740892623,4.420261720437139,26.055166976606937,19.993345932825285,11.759806704734736,14.958663611953044,22.250962871706022,13.491267918154522,35.99433321089468,9.63367768852496,32.222319516434396,19.105335427661196,34.24210254338283,30.94848134654316,6.117588954893366,22.406958860082486,24.987457088943838,10.998150677083702,45.12677960624436,30.133621615431924,35.9238303217228,50.759866120623784,24.0009941835838,6.70611644886717,16.774389613264898,43.73576702519969,47.45081340033998,22.936240755853884,46.9233572646232,50.64896475153924,35.23413178306491,23.226539400907562,26.94979037811886,15.213577967154187,49.78398627610541,14.526609374056775,27.931920511494628,27.167571638510886,47.0521480793718,65.74597481034239,23.07674248359935,19.02285515021123,9.104559791957495,16.481805518496284,40.07615829356689,18.600341910471542,57.15022055233016,58.0505494656344,54.84784404795597,44.62863435254492,17.365811032187732,21.16612959625524,45.23602643411597,26.743553463092116,6.344117171109345,24.433465519010728,64.074452286558,62.38205127427251,61.495352267617356,52.37495127478437,56.001171341024474,4.567867841840197,19.516558269755258,34.22898458118099,44.812221550467356,7.687923012942781,14.365569172354924,7.5037954514163,83.19888793739764,66.30760975475188]}];\n",
       " var layout_IcKGf4fdcb = {\"height\":350,\"width\":350,\"hovermode\":\"closest\",\"showlegend\":true,\"margin\":{\"l\":50,\"r\":30,\"t\":50,\"b\":50},\"xaxis\":{\"title\":{\"text\":\"x axis 1\"},\"showgrid\":true,\"zeroline\":false,\"showline\":false},\"yaxis\":{\"title\":{\"text\":\"y axis 1\"},\"showgrid\":true,\"zeroline\":false,\"showline\":false}};\n",
       " var config_IcKGf4fdcb = {\"responsive\":true,\"scrollZoom\":true,\"displaylogo\":false};\n",
       " Plotly.newPlot(\"graph_IcKGf4fdcb\", traces_IcKGf4fdcb, layout_IcKGf4fdcb, config_IcKGf4fdcb);\n",
       "\n",
       "  var traces_14pWE211Rm = [{\"name\":\"b\",\"type\":\"scatter\",\"mode\":\"markers\",\"x\":[0,0.8032256736370166,0.9017654719442916,0.794929975509058,0.2779510481630072,0.6692955891251345,4.450188424293253,1.914457262189314,6.152187891414233,3.4771143626617924,5.4647753818620455,0.31375112965471486,3.9990635382091013,6.9524463910192535,8.88589603312171,9.59796378548773,4.604678442171108,16.523215494977798,8.520722875777743,3.0204731006030627,2.4641210770327104,19.063478775113488,18.594495164883774,20.012169924769523,8.902100460460444,7.68317865589011,5.5466800666508504,22.09732840776694,8.559003110544944,18.688638273176622,22.006691162754368,4.634008275298997,20.763943344502227,32.20790877535006,7.035181191712223,15.82866920538521,1.9540807828148687,3.691865431827361,35.65347168200555,17.45903679425865,13.847315541893025,34.81641942518643,17.65532805923764,1.9463059839146837,19.783500714620807,40.47329934058588,45.95216972620892,0.09744249483686951,33.76744367941075,39.79664014549269,9.494745375802916,8.240701426631253,40.525330191689875,22.780035277725485,6.391501011675967,28.852456825661385,41.574636542420805,8.243777409351498,36.45613156662126,12.371127348263425,53.15627183920159,0.9647499709877025,60.31430250658724,43.96426724150167,54.13644239318753,11.931844980485973,41.63211901796973,41.80787198947196,10.904701192188766,37.18778067874775,51.24670260851815,55.202564888581655,63.12374020596185,10.81395848974604,56.232183356588145,67.83963818283827,2.1757395075941677,38.55828765214538,54.47245489555877,28.99080563865915,64.5494883088095,20.647005544473256,45.38533911223203,58.57919950290423,2.4721075758700795,66.71008826993062,19.30116420855249,59.245298079762975,7.05885462622393,44.7362980132736,2.8923294823273924,37.90045431987964,76.38447190185289,57.8077726326985,77.2291420287928,82.11222974689726,17.419473358401632,73.2958070416028,43.75107233299071,91.23994028000226],\"y\":[0,0.5096902060690023,1.2341491690724642,0.5471572721782733,0.5350209969606867,0.01998047707594708,3.2846635180284096,3.414690409535345,6.7502308261713635,0.8807243758553784,5.714088956950169,1.6440632350030544,10.774235475831423,12.098054359887934,12.821845318651688,14.459802435496336,0.3712170711472531,4.780605857358255,2.0818951280675484,17.324999352146836,17.90418808983903,3.420460553283591,2.9688567819882685,16.97934590110092,14.415737813735099,0.39704293160039705,3.0911710091378493,12.191754360089014,3.5821023528842897,24.318078892396684,25.277766740892623,4.420261720437139,26.055166976606937,19.993345932825285,11.759806704734736,14.958663611953044,22.250962871706022,13.491267918154522,35.99433321089468,9.63367768852496,32.222319516434396,19.105335427661196,34.24210254338283,30.94848134654316,6.117588954893366,22.406958860082486,24.987457088943838,10.998150677083702,45.12677960624436,30.133621615431924,35.9238303217228,50.759866120623784,24.0009941835838,6.70611644886717,16.774389613264898,43.73576702519969,47.45081340033998,22.936240755853884,46.9233572646232,50.64896475153924,35.23413178306491,23.226539400907562,26.94979037811886,15.213577967154187,49.78398627610541,14.526609374056775,27.931920511494628,27.167571638510886,47.0521480793718,65.74597481034239,23.07674248359935,19.02285515021123,9.104559791957495,16.481805518496284,40.07615829356689,18.600341910471542,57.15022055233016,58.0505494656344,54.84784404795597,44.62863435254492,17.365811032187732,21.16612959625524,45.23602643411597,26.743553463092116,6.344117171109345,24.433465519010728,64.074452286558,62.38205127427251,61.495352267617356,52.37495127478437,56.001171341024474,4.567867841840197,19.516558269755258,34.22898458118099,44.812221550467356,7.687923012942781,14.365569172354924,7.5037954514163,83.19888793739764,66.30760975475188]}];\n",
       " var layout_14pWE211Rm = {\"height\":350,\"width\":350,\"hovermode\":\"closest\",\"showlegend\":true,\"margin\":{\"l\":50,\"r\":50,\"t\":50,\"b\":50},\"xaxis\":{\"title\":{\"text\":\"x axis 2\"},\"showgrid\":true,\"zeroline\":false,\"showline\":false},\"yaxis\":{\"title\":{\"text\":\"y axis 2\"},\"showgrid\":true,\"zeroline\":false,\"showline\":false}};\n",
       " var config_14pWE211Rm = {\"responsive\":true,\"scrollZoom\":true,\"displaylogo\":false};\n",
       " Plotly.newPlot(\"graph_14pWE211Rm\", traces_14pWE211Rm, layout_14pWE211Rm, config_14pWE211Rm);\n",
       "\n",
       "  var traces_KU3CPwH1Nl = [{\"name\":\"c\",\"type\":\"scatter\",\"mode\":\"markers\",\"x\":[0,0.8032256736370166,0.9017654719442916,0.794929975509058,0.2779510481630072,0.6692955891251345,4.450188424293253,1.914457262189314,6.152187891414233,3.4771143626617924,5.4647753818620455,0.31375112965471486,3.9990635382091013,6.9524463910192535,8.88589603312171,9.59796378548773,4.604678442171108,16.523215494977798,8.520722875777743,3.0204731006030627,2.4641210770327104,19.063478775113488,18.594495164883774,20.012169924769523,8.902100460460444,7.68317865589011,5.5466800666508504,22.09732840776694,8.559003110544944,18.688638273176622,22.006691162754368,4.634008275298997,20.763943344502227,32.20790877535006,7.035181191712223,15.82866920538521,1.9540807828148687,3.691865431827361,35.65347168200555,17.45903679425865,13.847315541893025,34.81641942518643,17.65532805923764,1.9463059839146837,19.783500714620807,40.47329934058588,45.95216972620892,0.09744249483686951,33.76744367941075,39.79664014549269,9.494745375802916,8.240701426631253,40.525330191689875,22.780035277725485,6.391501011675967,28.852456825661385,41.574636542420805,8.243777409351498,36.45613156662126,12.371127348263425,53.15627183920159,0.9647499709877025,60.31430250658724,43.96426724150167,54.13644239318753,11.931844980485973,41.63211901796973,41.80787198947196,10.904701192188766,37.18778067874775,51.24670260851815,55.202564888581655,63.12374020596185,10.81395848974604,56.232183356588145,67.83963818283827,2.1757395075941677,38.55828765214538,54.47245489555877,28.99080563865915,64.5494883088095,20.647005544473256,45.38533911223203,58.57919950290423,2.4721075758700795,66.71008826993062,19.30116420855249,59.245298079762975,7.05885462622393,44.7362980132736,2.8923294823273924,37.90045431987964,76.38447190185289,57.8077726326985,77.2291420287928,82.11222974689726,17.419473358401632,73.2958070416028,43.75107233299071,91.23994028000226],\"y\":[0,0.5096902060690023,1.2341491690724642,0.5471572721782733,0.5350209969606867,0.01998047707594708,3.2846635180284096,3.414690409535345,6.7502308261713635,0.8807243758553784,5.714088956950169,1.6440632350030544,10.774235475831423,12.098054359887934,12.821845318651688,14.459802435496336,0.3712170711472531,4.780605857358255,2.0818951280675484,17.324999352146836,17.90418808983903,3.420460553283591,2.9688567819882685,16.97934590110092,14.415737813735099,0.39704293160039705,3.0911710091378493,12.191754360089014,3.5821023528842897,24.318078892396684,25.277766740892623,4.420261720437139,26.055166976606937,19.993345932825285,11.759806704734736,14.958663611953044,22.250962871706022,13.491267918154522,35.99433321089468,9.63367768852496,32.222319516434396,19.105335427661196,34.24210254338283,30.94848134654316,6.117588954893366,22.406958860082486,24.987457088943838,10.998150677083702,45.12677960624436,30.133621615431924,35.9238303217228,50.759866120623784,24.0009941835838,6.70611644886717,16.774389613264898,43.73576702519969,47.45081340033998,22.936240755853884,46.9233572646232,50.64896475153924,35.23413178306491,23.226539400907562,26.94979037811886,15.213577967154187,49.78398627610541,14.526609374056775,27.931920511494628,27.167571638510886,47.0521480793718,65.74597481034239,23.07674248359935,19.02285515021123,9.104559791957495,16.481805518496284,40.07615829356689,18.600341910471542,57.15022055233016,58.0505494656344,54.84784404795597,44.62863435254492,17.365811032187732,21.16612959625524,45.23602643411597,26.743553463092116,6.344117171109345,24.433465519010728,64.074452286558,62.38205127427251,61.495352267617356,52.37495127478437,56.001171341024474,4.567867841840197,19.516558269755258,34.22898458118099,44.812221550467356,7.687923012942781,14.365569172354924,7.5037954514163,83.19888793739764,66.30760975475188]}];\n",
       " var layout_KU3CPwH1Nl = {\"height\":350,\"width\":350,\"hovermode\":\"closest\",\"showlegend\":true,\"margin\":{\"l\":50,\"r\":30,\"t\":50,\"b\":50},\"xaxis\":{\"title\":{\"text\":\"x axis 3\"},\"showgrid\":true,\"zeroline\":false,\"showline\":false},\"yaxis\":{\"title\":{\"text\":\"y axis 3\"},\"showgrid\":true,\"zeroline\":false,\"showline\":false}};\n",
       " var config_KU3CPwH1Nl = {\"responsive\":true,\"scrollZoom\":true,\"displaylogo\":false};\n",
       " Plotly.newPlot(\"graph_KU3CPwH1Nl\", traces_KU3CPwH1Nl, layout_KU3CPwH1Nl, config_KU3CPwH1Nl);\n",
       "\n",
       "  var traces_sBgJ5KdPBF = [{\"name\":\"First series\",\"type\":\"scatter\",\"mode\":\"markers\",\"x\":[1,2,3],\"y\":[2,4,5]},{\"name\":\"Second series\",\"type\":\"scatter\",\"mode\":\"markers\",\"xaxis\":\"x2\",\"yaxis\":\"y2\",\"x\":[0,0.8032256736370166,0.9017654719442916,0.794929975509058,0.2779510481630072,0.6692955891251345,4.450188424293253,1.914457262189314,6.152187891414233,3.4771143626617924,5.4647753818620455,0.31375112965471486,3.9990635382091013,6.9524463910192535,8.88589603312171,9.59796378548773,4.604678442171108,16.523215494977798,8.520722875777743,3.0204731006030627,2.4641210770327104,19.063478775113488,18.594495164883774,20.012169924769523,8.902100460460444,7.68317865589011,5.5466800666508504,22.09732840776694,8.559003110544944,18.688638273176622,22.006691162754368,4.634008275298997,20.763943344502227,32.20790877535006,7.035181191712223,15.82866920538521,1.9540807828148687,3.691865431827361,35.65347168200555,17.45903679425865,13.847315541893025,34.81641942518643,17.65532805923764,1.9463059839146837,19.783500714620807,40.47329934058588,45.95216972620892,0.09744249483686951,33.76744367941075,39.79664014549269,9.494745375802916,8.240701426631253,40.525330191689875,22.780035277725485,6.391501011675967,28.852456825661385,41.574636542420805,8.243777409351498,36.45613156662126,12.371127348263425,53.15627183920159,0.9647499709877025,60.31430250658724,43.96426724150167,54.13644239318753,11.931844980485973,41.63211901796973,41.80787198947196,10.904701192188766,37.18778067874775,51.24670260851815,55.202564888581655,63.12374020596185,10.81395848974604,56.232183356588145,67.83963818283827,2.1757395075941677,38.55828765214538,54.47245489555877,28.99080563865915,64.5494883088095,20.647005544473256,45.38533911223203,58.57919950290423,2.4721075758700795,66.71008826993062,19.30116420855249,59.245298079762975,7.05885462622393,44.7362980132736,2.8923294823273924,37.90045431987964,76.38447190185289,57.8077726326985,77.2291420287928,82.11222974689726,17.419473358401632,73.2958070416028,43.75107233299071,91.23994028000226],\"y\":[0,0.5096902060690023,1.2341491690724642,0.5471572721782733,0.5350209969606867,0.01998047707594708,3.2846635180284096,3.414690409535345,6.7502308261713635,0.8807243758553784,5.714088956950169,1.6440632350030544,10.774235475831423,12.098054359887934,12.821845318651688,14.459802435496336,0.3712170711472531,4.780605857358255,2.0818951280675484,17.324999352146836,17.90418808983903,3.420460553283591,2.9688567819882685,16.97934590110092,14.415737813735099,0.39704293160039705,3.0911710091378493,12.191754360089014,3.5821023528842897,24.318078892396684,25.277766740892623,4.420261720437139,26.055166976606937,19.993345932825285,11.759806704734736,14.958663611953044,22.250962871706022,13.491267918154522,35.99433321089468,9.63367768852496,32.222319516434396,19.105335427661196,34.24210254338283,30.94848134654316,6.117588954893366,22.406958860082486,24.987457088943838,10.998150677083702,45.12677960624436,30.133621615431924,35.9238303217228,50.759866120623784,24.0009941835838,6.70611644886717,16.774389613264898,43.73576702519969,47.45081340033998,22.936240755853884,46.9233572646232,50.64896475153924,35.23413178306491,23.226539400907562,26.94979037811886,15.213577967154187,49.78398627610541,14.526609374056775,27.931920511494628,27.167571638510886,47.0521480793718,65.74597481034239,23.07674248359935,19.02285515021123,9.104559791957495,16.481805518496284,40.07615829356689,18.600341910471542,57.15022055233016,58.0505494656344,54.84784404795597,44.62863435254492,17.365811032187732,21.16612959625524,45.23602643411597,26.743553463092116,6.344117171109345,24.433465519010728,64.074452286558,62.38205127427251,61.495352267617356,52.37495127478437,56.001171341024474,4.567867841840197,19.516558269755258,34.22898458118099,44.812221550467356,7.687923012942781,14.365569172354924,7.5037954514163,83.19888793739764,66.30760975475188]}];\n",
       " var layout_sBgJ5KdPBF = {\"height\":350,\"width\":350,\"hovermode\":\"closest\",\"title\":{\"text\":\"The MultiChart from Above\"},\"showlegend\":true,\"grid\":{\"rows\":1,\"columns\":2,\"pattern\":\"independent\"},\"xaxis\":{\"title\":{\"text\":\"x1\"},\"showgrid\":true,\"zeroline\":false,\"showline\":false},\"yaxis\":{\"title\":{\"text\":\"y1\"},\"showgrid\":true,\"zeroline\":false,\"showline\":false},\"xaxis2\":{\"title\":{\"text\":\"x2\"},\"showgrid\":true,\"zeroline\":false,\"showline\":false},\"yaxis2\":{\"showgrid\":true,\"zeroline\":false,\"showline\":false}};\n",
       " var config_sBgJ5KdPBF = {\"responsive\":false,\"scrollZoom\":true,\"displaylogo\":false};\n",
       " Plotly.newPlot(\"graph_sBgJ5KdPBF\", traces_sBgJ5KdPBF, layout_sBgJ5KdPBF, config_sBgJ5KdPBF);\n",
       "\n",
       "var save_fsVtVnCB6a = document.getElementById(\"saveAsPNG_fsVtVnCB6a\")\n",
       "save_fsVtVnCB6a.onclick = async function() {\n",
       "    const grid = document.getElementById(\"grid-container_fsVtVnCB6a\")\n",
       "    const graphs = grid.getElementsByClassName(\"graph\")\n",
       "\n",
       "    const images = []\n",
       "\n",
       "    const rows = 2\n",
       "    const cols = 2\n",
       "    const img_width = 400\n",
       "    const img_height = 400\n",
       "    var margin = 50\n",
       "\n",
       "    for (var i=0; i<rows; i++) {\n",
       "      for (var j=0; j<cols; j++) {\n",
       "        const image = await Plotly.toImage(graphs[i * cols + j], {format: 'png', width: img_width, height: img_height})\n",
       "        images.push(image);\n",
       "      }\n",
       "    }\n",
       "\n",
       "    const positioned_images = []\n",
       "\n",
       "        for (var i=0; i<rows; i++) {\n",
       "            for (var j=0; j<cols; j++) {\n",
       "\n",
       "                const obj = {\n",
       "                    \"src\": images[i*cols + j],\n",
       "                    x: j*img_width+margin,\n",
       "                    y: i*img_height+margin\n",
       "                }\n",
       "\n",
       "                positioned_images.push(obj)\n",
       "            }\n",
       "        }\n",
       "\n",
       "        mergeImages(positioned_images, {\n",
       "            width: img_width*cols+60, height: img_height*rows+60\n",
       "        })\n",
       "        .then(b64 => {\n",
       "            var a = document.createElement(\"a\");\n",
       "            a.href = b64;\n",
       "            a.download = \"Image.png\";\n",
       "            a.click();\n",
       "            a.remove()\n",
       "        });\n",
       "}\n",
       "</script> \n"
      ]
     },
     "metadata": {},
     "output_type": "display_data"
    }
   ],
   "source": [
    "// first define the x-axes we will use in the plot\n",
    "val ax1 = Axis(X, title = \"x axis 1\")\n",
    "val ax2 = Axis(X, title = \"x axis 2\")\n",
    "val ax3 = Axis(X, title = \"x axis 3\")\n",
    "val ax4 = Axis(X, title = \"x axis 4\")\n",
    "\n",
    "// first define the y-axes we will use in the plot\n",
    "val ax6 = Axis(Y, title = \"y axis 1\")\n",
    "val ax7 = Axis(Y, title = \"y axis 2\")\n",
    "val ax8 = Axis(Y, title = \"y axis 3\")\n",
    "val ax9 = Axis(Y, title = \"y axis 4\")\n",
    "\n",
    "// it may be necessary to play around with the chart dimensions and margin  in order to ensure a good fit on screen.\n",
    "val dim = 350\n",
    "\n",
    "val chart1 = (\n",
    "    Chart()\n",
    "    setDimensions(width = dim, height = dim)\n",
    "    addSeries XY(x, y).setName(\"a\").drawMarkers\n",
    "    addAxes(ax1, ax6)\n",
    "    setMargin(l=50, r=30, t=50, b=50)\n",
    ")\n",
    "\n",
    "val chart2 = (\n",
    "    Chart() \n",
    "    setDimensions(width = dim, height = dim)\n",
    "    addSeries XY(x, y).setName(\"b\").drawMarkers\n",
    "    addAxes(ax2, ax7)\n",
    "    setMargin(l=50, r=50, t=50, b=50)\n",
    ")\n",
    "\n",
    "val chart3 = (\n",
    "    Chart()\n",
    "    setDimensions(width = dim, height = dim)\n",
    "    addSeries XY(x, y).setName(\"c\").drawMarkers\n",
    "    addAxes(ax3, ax8)\n",
    "    setMargin(l=50, r=30, t=50, b=50)\n",
    ")\n",
    "\n",
    "val chart4 = (\n",
    "    Chart()\n",
    "    setDimensions(width = dim, height = dim)\n",
    "    addSeries(series1, series2)\n",
    "    setTitle \"The MultiChart from Above\"\n",
    "    addAxes(xaxis1, yaxis1, xaxis2, yaxis2) // these axes come from above\n",
    "    setConfig(responsive=false)\n",
    "    asMultiChart(1, 2)\n",
    ")\n",
    "\n",
    "// The canvas has an underlying grid. By default the underlying grid is 1x1, but we can pass in the dimensions we \n",
    "// require by passing in parameters in the constructor.\n",
    "Canvas(2, 2)\n",
    ".setChart(0, 0, chart1)\n",
    ".setChart(0, 1, chart2)\n",
    ".setChart(1, 0, chart3)\n",
    ".setChart(1, 1, chart4)\n",
    ".plotInline"
   ]
  },
  {
   "cell_type": "markdown",
   "metadata": {},
   "source": [
    "### Error Bars\n",
    "\n",
    "We can also add Error Bars to our plots.\n",
    "\n",
    "Error bars come in two flavours:\n",
    "\n",
    "1. `XError`\n",
    "2. `YError`\n",
    "\n",
    "Both of these has an associated `mode` that determines how the error bar is calculated for an individual point. The following `mode`s can be specified:\n",
    "\n",
    "- `DATA`: The user passes in an array that specifies the per point error\n",
    "- `PERCENT`: The user passes in a Double that calculates the error as a percentage of the value of the point\n",
    "- `CONSTANT`: The user passes in a double that is the constant value for the error for all points\n",
    "- `SQRT`: This calculates the error as a square root of the point value.\n",
    "\n",
    "The next few examples will demonstrate:"
   ]
  },
  {
   "cell_type": "code",
   "execution_count": 22,
   "metadata": {},
   "outputs": [],
   "source": [
    "// First import the Error Bar options\n",
    "import org.carbonateresearch.picta.options.{YError, CONSTANT, DATA, PERCENT, SQRT}"
   ]
  },
  {
   "cell_type": "code",
   "execution_count": 23,
   "metadata": {},
   "outputs": [
    {
     "data": {
      "text/html": [
       "<div id=\"grid-container_NkhvQmvDzl\" class=\"grid-container\" align=\"center\"> \n",
       "<div id=\"grid_NkhvQmvDzl\" class=\"grid\" align=\"center\"> \n",
       "<div id=\"graph_zlX69Pa591\" class=\"graph\"></div> \n",
       "<div id=\"graph_lmcdc5ogDr\" class=\"graph\"></div> \n",
       "<div id=\"graph_COOJGgBnn7\" class=\"graph\"></div> \n",
       "<div id=\"graph_GmEOk0QRs4\" class=\"graph\"></div> \n",
       "</div> \n",
       "</div> \n",
       "\n",
       "<div align=\"center\">\n",
       "<button id = \"saveAsPNG_NkhvQmvDzl\" class=\"picta-button\">Download Canvas as PNG</button>\n",
       "</div>\n",
       "<script>\n",
       "var masonry = new Macy({\n",
       "    container: '#grid_NkhvQmvDzl',\n",
       "    debug: true,\n",
       "    mobileFirst: true,\n",
       "    columns: 2,\n",
       "    margin: {\n",
       "        x: 0,\n",
       "        y: 0\n",
       "    }\n",
       "  });\n",
       "\n",
       "  var traces_zlX69Pa591 = [{\"name\":\"Error from provided data\",\"type\":\"scatter\",\"mode\":\"markers\",\"x\":[1,2,3],\"y\":[1.234,5.2112,2.44332],\"error_y\":{\"type\":\"data\",\"visible\":true,\"array\":[0.5,0.5,0.5]}}];\n",
       " var layout_zlX69Pa591 = {\"height\":400,\"width\":400,\"hovermode\":\"closest\",\"title\":{\"text\":\"Per Point Specified Error\"},\"showlegend\":true};\n",
       " var config_zlX69Pa591 = {\"responsive\":true,\"scrollZoom\":true,\"displaylogo\":false};\n",
       " Plotly.newPlot(\"graph_zlX69Pa591\", traces_zlX69Pa591, layout_zlX69Pa591, config_zlX69Pa591);\n",
       "\n",
       "  var traces_lmcdc5ogDr = [{\"name\":\"% error\",\"type\":\"scatter\",\"mode\":\"markers\",\"x\":[1,2,3],\"y\":[1.234,5.2112,2.44332],\"error_y\":{\"type\":\"percent\",\"visible\":true,\"value\":10}}];\n",
       " var layout_lmcdc5ogDr = {\"height\":400,\"width\":400,\"hovermode\":\"closest\",\"title\":{\"text\":\"Percentage Error\"},\"showlegend\":true};\n",
       " var config_lmcdc5ogDr = {\"responsive\":true,\"scrollZoom\":true,\"displaylogo\":false};\n",
       " Plotly.newPlot(\"graph_lmcdc5ogDr\", traces_lmcdc5ogDr, layout_lmcdc5ogDr, config_lmcdc5ogDr);\n",
       "\n",
       "  var traces_COOJGgBnn7 = [{\"name\":\"constant error\",\"type\":\"scatter\",\"mode\":\"markers\",\"x\":[1,2,3],\"y\":[1.234,5.2112,2.44332],\"error_y\":{\"type\":\"constant\",\"visible\":true,\"value\":10}}];\n",
       " var layout_COOJGgBnn7 = {\"height\":400,\"width\":400,\"hovermode\":\"closest\",\"title\":{\"text\":\"Constant Error\"},\"showlegend\":true};\n",
       " var config_COOJGgBnn7 = {\"responsive\":true,\"scrollZoom\":true,\"displaylogo\":false};\n",
       " Plotly.newPlot(\"graph_COOJGgBnn7\", traces_COOJGgBnn7, layout_COOJGgBnn7, config_COOJGgBnn7);\n",
       "\n",
       "  var traces_GmEOk0QRs4 = [{\"name\":\"Sqrt\",\"type\":\"scatter\",\"mode\":\"markers\",\"x\":[1,2,3],\"y\":[1.234,5.2112,2.44332],\"error_y\":{\"type\":\"sqrt\",\"visible\":true}}];\n",
       " var layout_GmEOk0QRs4 = {\"height\":400,\"width\":400,\"hovermode\":\"closest\",\"title\":{\"text\":\"Sqrt Error\"},\"showlegend\":true};\n",
       " var config_GmEOk0QRs4 = {\"responsive\":true,\"scrollZoom\":true,\"displaylogo\":false};\n",
       " Plotly.newPlot(\"graph_GmEOk0QRs4\", traces_GmEOk0QRs4, layout_GmEOk0QRs4, config_GmEOk0QRs4);\n",
       "\n",
       "var save_NkhvQmvDzl = document.getElementById(\"saveAsPNG_NkhvQmvDzl\")\n",
       "save_NkhvQmvDzl.onclick = async function() {\n",
       "    const grid = document.getElementById(\"grid-container_NkhvQmvDzl\")\n",
       "    const graphs = grid.getElementsByClassName(\"graph\")\n",
       "\n",
       "    const images = []\n",
       "\n",
       "    const rows = 2\n",
       "    const cols = 2\n",
       "    const img_width = 400\n",
       "    const img_height = 400\n",
       "    var margin = 50\n",
       "\n",
       "    for (var i=0; i<rows; i++) {\n",
       "      for (var j=0; j<cols; j++) {\n",
       "        const image = await Plotly.toImage(graphs[i * cols + j], {format: 'png', width: img_width, height: img_height})\n",
       "        images.push(image);\n",
       "      }\n",
       "    }\n",
       "\n",
       "    const positioned_images = []\n",
       "\n",
       "        for (var i=0; i<rows; i++) {\n",
       "            for (var j=0; j<cols; j++) {\n",
       "\n",
       "                const obj = {\n",
       "                    \"src\": images[i*cols + j],\n",
       "                    x: j*img_width+margin,\n",
       "                    y: i*img_height+margin\n",
       "                }\n",
       "\n",
       "                positioned_images.push(obj)\n",
       "            }\n",
       "        }\n",
       "\n",
       "        mergeImages(positioned_images, {\n",
       "            width: img_width*cols+60, height: img_height*rows+60\n",
       "        })\n",
       "        .then(b64 => {\n",
       "            var a = document.createElement(\"a\");\n",
       "            a.href = b64;\n",
       "            a.download = \"Image.png\";\n",
       "            a.click();\n",
       "            a.remove()\n",
       "        });\n",
       "}\n",
       "</script> \n"
      ]
     },
     "metadata": {},
     "output_type": "display_data"
    }
   ],
   "source": [
    "val dim = 400\n",
    "\n",
    "val series1 = (\n",
    "    XY(List(1, 2, 3), List(1.234, 5.2112, 2.44332))\n",
    "    asType SCATTER\n",
    "    drawStyle MARKERS\n",
    "    // User specifies the error per point\n",
    "    setErrorBars YError(mode = DATA, array = List(0.5, 0.5, 0.5))\n",
    ")\n",
    "\n",
    "val chart1 = (\n",
    "    Chart()\n",
    "    addSeries series1.setName(\"Error from provided data\")\n",
    "    setTitle \"Per Point Specified Error\"\n",
    "    setDimensions(width = dim, height = dim)\n",
    ")\n",
    "\n",
    "\n",
    "val series2 = (\n",
    "    XY(List(1, 2, 3), List(1.234, 5.2112, 2.44332))\n",
    "    asType SCATTER\n",
    "    drawStyle MARKERS\n",
    "    // the error here is 10% of the corresponding y-value for the point\n",
    "    setErrorBars YError(mode = PERCENT, value = 10.0)\n",
    ")\n",
    "\n",
    "val chart2 = (\n",
    "    Chart()\n",
    "    addSeries series2.setName(\"% error\")\n",
    "    setTitle \"Percentage Error\"\n",
    "    setDimensions(width = dim, height = dim) \n",
    ")\n",
    "\n",
    "\n",
    "val series3 = (\n",
    "    XY(List(1, 2, 3), List(1.234, 5.2112, 2.44332))\n",
    "    asType SCATTER\n",
    "    drawStyle MARKERS\n",
    "    // a constant error of 10 is applied to each point\n",
    "    setErrorBars YError(mode = CONSTANT, value = 10.0)\n",
    "    setName(\"Constant value\")\n",
    ")\n",
    "\n",
    "val chart3 = (\n",
    "    Chart()\n",
    "    addSeries series3.setName(\"constant error\")\n",
    "    setTitle \"Constant Error\"\n",
    "    setDimensions(width = dim, height = dim)\n",
    ")\n",
    "\n",
    "\n",
    "val series4 = (\n",
    "    XY(List(1, 2, 3), List(1.234, 5.2112, 2.44332))\n",
    "    asType SCATTER\n",
    "    drawStyle MARKERS\n",
    "    setErrorBars YError(mode = SQRT)\n",
    "    setName(\"Sqrt\")\n",
    ")\n",
    "\n",
    "val chart4 = (\n",
    "    Chart()\n",
    "    addSeries series4.setName(\"Sqrt\")\n",
    "    setTitle \"Sqrt Error\"\n",
    "    // the error is set to the sqrt of the corresponding point\n",
    "    setDimensions(width = dim, height = dim)\n",
    ")\n",
    "\n",
    "val canvas = Canvas(2, 2) addCharts (chart1, chart2, chart3, chart4)\n",
    "\n",
    "canvas.plotInline"
   ]
  },
  {
   "cell_type": "markdown",
   "metadata": {},
   "source": [
    "### Other Types of Charts\n",
    "\n",
    "The next examples will demonstrate how to create a variety of `Chart`s. All of the examples below are composable with the `Canvas` subplot system.\n",
    "\n",
    "#### Pie Chart\n",
    "\n",
    "Pie charts can be created in two ways. The first way uses the `PieElement` component to compose a Piechart:"
   ]
  },
  {
   "cell_type": "code",
   "execution_count": 24,
   "metadata": {},
   "outputs": [
    {
     "data": {
      "text/html": [
       "<div id=\"grid-container_nEaGCDWrpr\" class=\"grid-container\" align=\"center\"> \n",
       "<div id=\"grid_nEaGCDWrpr\" class=\"grid\" align=\"center\"> \n",
       "<div id=\"graph_oGlEI9G7Em\" class=\"graph\"></div> \n",
       "</div> \n",
       "</div> \n",
       "<script>\n",
       "var masonry = new Macy({\n",
       "    container: '#grid_nEaGCDWrpr',\n",
       "    debug: true,\n",
       "    mobileFirst: true,\n",
       "    columns: 1,\n",
       "    margin: {\n",
       "        x: 0,\n",
       "        y: 0\n",
       "    }\n",
       "  });\n",
       "\n",
       "  var traces_oGlEI9G7Em = [{\"name\":\"UeGLi09Hrf\",\"type\":\"pie\",\"values\":[60,20,20],\"labels\":[\"Residential\",\"Non-Residential\",\"Utility\"]}];\n",
       " var layout_oGlEI9G7Em = {\"height\":550,\"width\":600,\"hovermode\":\"closest\",\"title\":{\"text\":\"Pie Elements\"},\"showlegend\":true};\n",
       " var config_oGlEI9G7Em = {\"responsive\":true,\"scrollZoom\":true,\"displaylogo\":false};\n",
       " Plotly.newPlot(\"graph_oGlEI9G7Em\", traces_oGlEI9G7Em, layout_oGlEI9G7Em, config_oGlEI9G7Em);\n",
       "</script> \n"
      ]
     },
     "metadata": {},
     "output_type": "display_data"
    }
   ],
   "source": [
    "val a = PieElement(value=60, name=\"Residential\")\n",
    "val b = PieElement(value=20, name=\"Non-Residential\")\n",
    "val c = PieElement(value=20, name=\"Utility\")\n",
    "\n",
    "// we add a list of Pie Elements to an XY series as the list of Pie Elements gets deconstructed down into two series:\n",
    "// X => values: [60, 20, 20]\n",
    "// Y => labels: [\"Residential\", \"Non-Residential\", \"Utility\"]\n",
    "// The labels become the series_name for each individual PieElement\n",
    "// As we pass in a list of PieElements, we do not need to specify the type as a PIE\n",
    "val series = XY(x=List(a, b, c))\n",
    "\n",
    "val chart = Chart() addSeries series setTitle \"Pie Elements\"\n",
    "\n",
    "chart.plotInline"
   ]
  },
  {
   "cell_type": "code",
   "execution_count": 25,
   "metadata": {},
   "outputs": [
    {
     "data": {
      "text/html": [
       "<div id=\"grid-container_tkWrwVLfq0\" class=\"grid-container\" align=\"center\"> \n",
       "<div id=\"grid_tkWrwVLfq0\" class=\"grid\" align=\"center\"> \n",
       "<div id=\"graph_zsEJgLoSDS\" class=\"graph\"></div> \n",
       "</div> \n",
       "</div> \n",
       "<script>\n",
       "var masonry = new Macy({\n",
       "    container: '#grid_tkWrwVLfq0',\n",
       "    debug: true,\n",
       "    mobileFirst: true,\n",
       "    columns: 1,\n",
       "    margin: {\n",
       "        x: 0,\n",
       "        y: 0\n",
       "    }\n",
       "  });\n",
       "\n",
       "  var traces_zsEJgLoSDS = [{\"name\":\"Y1Qcp4AIdD\",\"type\":\"pie\",\"values\":[60,20,20],\"labels\":[\"Residential\",\"Non-Residential\",\"Utility\"]}];\n",
       " var layout_zsEJgLoSDS = {\"height\":550,\"width\":600,\"hovermode\":\"closest\",\"title\":{\"text\":\"Pie Chart\"},\"showlegend\":true};\n",
       " var config_zsEJgLoSDS = {\"responsive\":false,\"scrollZoom\":false,\"displaylogo\":false};\n",
       " Plotly.newPlot(\"graph_zsEJgLoSDS\", traces_zsEJgLoSDS, layout_zsEJgLoSDS, config_zsEJgLoSDS);\n",
       "</script> \n"
      ]
     },
     "metadata": {},
     "output_type": "display_data"
    }
   ],
   "source": [
    "// However, composing individual PieElements may be tedious if there is a lot of data and we know how to it all fits\n",
    "// together. Picta provides a short hand to quickly create a Pie Chart using the methods we have seen previously\n",
    "// In this case we pass the (value, name) pairs as two seperate lists. As before, the labels become an individual\n",
    "// series name for each point; which is why the legend renders correctly.\n",
    "val series = XY(x=List(60, 20, 20), y=List(\"Residential\", \"Non-Residential\", \"Utility\")) asType PIE\n",
    "\n",
    "val chart = Chart() addSeries series setConfig(false, false) setTitle \"Pie Chart\"\n",
    "\n",
    "chart.plotInline"
   ]
  },
  {
   "cell_type": "markdown",
   "metadata": {},
   "source": [
    "### Histogram"
   ]
  },
  {
   "cell_type": "code",
   "execution_count": 26,
   "metadata": {},
   "outputs": [
    {
     "data": {
      "text/html": [
       "<div id=\"grid-container_q8MiGiDlvS\" class=\"grid-container\" align=\"center\"> \n",
       "<div id=\"grid_q8MiGiDlvS\" class=\"grid\" align=\"center\"> \n",
       "<div id=\"graph_KpjvgSaMth\" class=\"graph\"></div> \n",
       "</div> \n",
       "</div> \n",
       "<script>\n",
       "var masonry = new Macy({\n",
       "    container: '#grid_q8MiGiDlvS',\n",
       "    debug: true,\n",
       "    mobileFirst: true,\n",
       "    columns: 1,\n",
       "    margin: {\n",
       "        x: 0,\n",
       "        y: 0\n",
       "    }\n",
       "  });\n",
       "\n",
       "  var traces_KpjvgSaMth = [{\"name\":\"JtN8cY3blx\",\"type\":\"histogram\",\"x\":[0,0.8032256736370166,0.9017654719442916,0.794929975509058,0.2779510481630072,0.6692955891251345,4.450188424293253,1.914457262189314,6.152187891414233,3.4771143626617924,5.4647753818620455,0.31375112965471486,3.9990635382091013,6.9524463910192535,8.88589603312171,9.59796378548773,4.604678442171108,16.523215494977798,8.520722875777743,3.0204731006030627,2.4641210770327104,19.063478775113488,18.594495164883774,20.012169924769523,8.902100460460444,7.68317865589011,5.5466800666508504,22.09732840776694,8.559003110544944,18.688638273176622,22.006691162754368,4.634008275298997,20.763943344502227,32.20790877535006,7.035181191712223,15.82866920538521,1.9540807828148687,3.691865431827361,35.65347168200555,17.45903679425865,13.847315541893025,34.81641942518643,17.65532805923764,1.9463059839146837,19.783500714620807,40.47329934058588,45.95216972620892,0.09744249483686951,33.76744367941075,39.79664014549269,9.494745375802916,8.240701426631253,40.525330191689875,22.780035277725485,6.391501011675967,28.852456825661385,41.574636542420805,8.243777409351498,36.45613156662126,12.371127348263425,53.15627183920159,0.9647499709877025,60.31430250658724,43.96426724150167,54.13644239318753,11.931844980485973,41.63211901796973,41.80787198947196,10.904701192188766,37.18778067874775,51.24670260851815,55.202564888581655,63.12374020596185,10.81395848974604,56.232183356588145,67.83963818283827,2.1757395075941677,38.55828765214538,54.47245489555877,28.99080563865915,64.5494883088095,20.647005544473256,45.38533911223203,58.57919950290423,2.4721075758700795,66.71008826993062,19.30116420855249,59.245298079762975,7.05885462622393,44.7362980132736,2.8923294823273924,37.90045431987964,76.38447190185289,57.8077726326985,77.2291420287928,82.11222974689726,17.419473358401632,73.2958070416028,43.75107233299071,91.23994028000226]}];\n",
       " var layout_KpjvgSaMth = {\"height\":550,\"width\":600,\"hovermode\":\"closest\",\"title\":{\"text\":\"Histogram with axes\"},\"showlegend\":true,\"xaxis\":{\"title\":{\"text\":\"x\"},\"showgrid\":true,\"zeroline\":false,\"showline\":false},\"yaxis\":{\"title\":{\"text\":\"y\"},\"showgrid\":true,\"zeroline\":false,\"showline\":false}};\n",
       " var config_KpjvgSaMth = {\"responsive\":true,\"scrollZoom\":true,\"displaylogo\":false};\n",
       " Plotly.newPlot(\"graph_KpjvgSaMth\", traces_KpjvgSaMth, layout_KpjvgSaMth, config_KpjvgSaMth);\n",
       "</script> \n"
      ]
     },
     "metadata": {},
     "output_type": "display_data"
    }
   ],
   "source": [
    "val series = XY(x=x) asType HISTOGRAM\n",
    "\n",
    "val xaxis = Axis(X, title = \"x\")\n",
    "val yaxis = Axis(Y, title = \"y\")\n",
    "\n",
    "val chart = (\n",
    "    Chart() \n",
    "    addSeries series\n",
    "    setTitle \"Histogram with axes\"\n",
    "    addAxes(xaxis, yaxis)\n",
    ")\n",
    "\n",
    "Canvas()\n",
    ".addCharts(chart)\n",
    ".plotInline"
   ]
  },
  {
   "cell_type": "markdown",
   "metadata": {},
   "source": [
    "#### Customizing colors for a Histogram\n",
    "\n",
    "We can use the `HistOptions` class to further specify options for a histogram. For example, if we wanted to create a horizontally positioned histogram, we can do the following:"
   ]
  },
  {
   "cell_type": "code",
   "execution_count": 27,
   "metadata": {},
   "outputs": [],
   "source": [
    "import org.carbonateresearch.picta.options.histogram.HistOptions\n",
    "import org.carbonateresearch.picta.options.Line"
   ]
  },
  {
   "cell_type": "code",
   "execution_count": 28,
   "metadata": {},
   "outputs": [
    {
     "data": {
      "text/html": [
       "<div id=\"grid-container_N5blZT9B6b\" class=\"grid-container\" align=\"center\"> \n",
       "<div id=\"grid_N5blZT9B6b\" class=\"grid\" align=\"center\"> \n",
       "<div id=\"graph_Y3BWUQjwiJ\" class=\"graph\"></div> \n",
       "</div> \n",
       "</div> \n",
       "<script>\n",
       "var masonry = new Macy({\n",
       "    container: '#grid_N5blZT9B6b',\n",
       "    debug: true,\n",
       "    mobileFirst: true,\n",
       "    columns: 1,\n",
       "    margin: {\n",
       "        x: 0,\n",
       "        y: 0\n",
       "    }\n",
       "  });\n",
       "\n",
       "  var traces_Y3BWUQjwiJ = [{\"name\":\"rgJdHK7bqx\",\"type\":\"histogram\",\"marker\":{\"color\":\"rgba(255.0, 100.0, 102.0, 0.5)\",\"line\":{\"width\":0.5}},\"y\":[0,0.8032256736370166,0.9017654719442916,0.794929975509058,0.2779510481630072,0.6692955891251345,4.450188424293253,1.914457262189314,6.152187891414233,3.4771143626617924,5.4647753818620455,0.31375112965471486,3.9990635382091013,6.9524463910192535,8.88589603312171,9.59796378548773,4.604678442171108,16.523215494977798,8.520722875777743,3.0204731006030627,2.4641210770327104,19.063478775113488,18.594495164883774,20.012169924769523,8.902100460460444,7.68317865589011,5.5466800666508504,22.09732840776694,8.559003110544944,18.688638273176622,22.006691162754368,4.634008275298997,20.763943344502227,32.20790877535006,7.035181191712223,15.82866920538521,1.9540807828148687,3.691865431827361,35.65347168200555,17.45903679425865,13.847315541893025,34.81641942518643,17.65532805923764,1.9463059839146837,19.783500714620807,40.47329934058588,45.95216972620892,0.09744249483686951,33.76744367941075,39.79664014549269,9.494745375802916,8.240701426631253,40.525330191689875,22.780035277725485,6.391501011675967,28.852456825661385,41.574636542420805,8.243777409351498,36.45613156662126,12.371127348263425,53.15627183920159,0.9647499709877025,60.31430250658724,43.96426724150167,54.13644239318753,11.931844980485973,41.63211901796973,41.80787198947196,10.904701192188766,37.18778067874775,51.24670260851815,55.202564888581655,63.12374020596185,10.81395848974604,56.232183356588145,67.83963818283827,2.1757395075941677,38.55828765214538,54.47245489555877,28.99080563865915,64.5494883088095,20.647005544473256,45.38533911223203,58.57919950290423,2.4721075758700795,66.71008826993062,19.30116420855249,59.245298079762975,7.05885462622393,44.7362980132736,2.8923294823273924,37.90045431987964,76.38447190185289,57.8077726326985,77.2291420287928,82.11222974689726,17.419473358401632,73.2958070416028,43.75107233299071,91.23994028000226]}];\n",
       " var layout_Y3BWUQjwiJ = {\"height\":550,\"width\":600,\"hovermode\":\"closest\",\"title\":{\"text\":\"XY.Histogram.Color\"},\"showlegend\":true};\n",
       " var config_Y3BWUQjwiJ = {\"responsive\":true,\"scrollZoom\":true,\"displaylogo\":false};\n",
       " Plotly.newPlot(\"graph_Y3BWUQjwiJ\", traces_Y3BWUQjwiJ, layout_Y3BWUQjwiJ, config_Y3BWUQjwiJ);\n",
       "</script> \n"
      ]
     },
     "metadata": {},
     "output_type": "display_data"
    }
   ],
   "source": [
    "// we can also compose customizations in much the same way:\n",
    "val marker = Marker() setColor RGBA(255, 100, 102, 0.5) setLine Line()\n",
    "\n",
    "// change xkey to y to get a horizontal histogram\n",
    "val series = (\n",
    "    XY(x) \n",
    "    asType HISTOGRAM\n",
    "    setMarker marker\n",
    "    // we can set histogram specific options using the setHistOptions method\n",
    "    setHistOptions(orientation = HORIZONTAL)\n",
    ")\n",
    "\n",
    "val chart = (\n",
    "    Chart() \n",
    "    addSeries series \n",
    "    setTitle \"XY.Histogram.Color\"\n",
    ")\n",
    "\n",
    "chart.plotInline"
   ]
  },
  {
   "cell_type": "markdown",
   "metadata": {},
   "source": [
    "#### Cumulative Histogram\n",
    "\n",
    "Sometimes a cumulative histogram may be desired. We can do this as follows:"
   ]
  },
  {
   "cell_type": "code",
   "execution_count": 29,
   "metadata": {},
   "outputs": [],
   "source": [
    "// we can import a range of histnorms\n",
    "import org.carbonateresearch.picta.options.histogram.{Cumulative, PERCENT, DENSITY, PROBABILITY_DENSITY, NUMBER}"
   ]
  },
  {
   "cell_type": "code",
   "execution_count": 30,
   "metadata": {},
   "outputs": [
    {
     "data": {
      "text/html": [
       "<div id=\"grid-container_qnEir9IL3G\" class=\"grid-container\" align=\"center\"> \n",
       "<div id=\"grid_qnEir9IL3G\" class=\"grid\" align=\"center\"> \n",
       "<div id=\"graph_l3muAfk5yQ\" class=\"graph\"></div> \n",
       "</div> \n",
       "</div> \n",
       "<script>\n",
       "var masonry = new Macy({\n",
       "    container: '#grid_qnEir9IL3G',\n",
       "    debug: true,\n",
       "    mobileFirst: true,\n",
       "    columns: 1,\n",
       "    margin: {\n",
       "        x: 0,\n",
       "        y: 0\n",
       "    }\n",
       "  });\n",
       "\n",
       "  var traces_l3muAfk5yQ = [{\"name\":\"AUkrvcr7BP\",\"type\":\"histogram\",\"cumulative\":{\"enabled\":true},\"histnorm\":\"\",\"x\":[0,0.8032256736370166,0.9017654719442916,0.794929975509058,0.2779510481630072,0.6692955891251345,4.450188424293253,1.914457262189314,6.152187891414233,3.4771143626617924,5.4647753818620455,0.31375112965471486,3.9990635382091013,6.9524463910192535,8.88589603312171,9.59796378548773,4.604678442171108,16.523215494977798,8.520722875777743,3.0204731006030627,2.4641210770327104,19.063478775113488,18.594495164883774,20.012169924769523,8.902100460460444,7.68317865589011,5.5466800666508504,22.09732840776694,8.559003110544944,18.688638273176622,22.006691162754368,4.634008275298997,20.763943344502227,32.20790877535006,7.035181191712223,15.82866920538521,1.9540807828148687,3.691865431827361,35.65347168200555,17.45903679425865,13.847315541893025,34.81641942518643,17.65532805923764,1.9463059839146837,19.783500714620807,40.47329934058588,45.95216972620892,0.09744249483686951,33.76744367941075,39.79664014549269,9.494745375802916,8.240701426631253,40.525330191689875,22.780035277725485,6.391501011675967,28.852456825661385,41.574636542420805,8.243777409351498,36.45613156662126,12.371127348263425,53.15627183920159,0.9647499709877025,60.31430250658724,43.96426724150167,54.13644239318753,11.931844980485973,41.63211901796973,41.80787198947196,10.904701192188766,37.18778067874775,51.24670260851815,55.202564888581655,63.12374020596185,10.81395848974604,56.232183356588145,67.83963818283827,2.1757395075941677,38.55828765214538,54.47245489555877,28.99080563865915,64.5494883088095,20.647005544473256,45.38533911223203,58.57919950290423,2.4721075758700795,66.71008826993062,19.30116420855249,59.245298079762975,7.05885462622393,44.7362980132736,2.8923294823273924,37.90045431987964,76.38447190185289,57.8077726326985,77.2291420287928,82.11222974689726,17.419473358401632,73.2958070416028,43.75107233299071,91.23994028000226]}];\n",
       " var layout_l3muAfk5yQ = {\"height\":550,\"width\":600,\"hovermode\":\"closest\",\"title\":{\"text\":\"Histogram - Cumulative\"},\"showlegend\":true};\n",
       " var config_l3muAfk5yQ = {\"responsive\":true,\"scrollZoom\":true,\"displaylogo\":false};\n",
       " Plotly.newPlot(\"graph_l3muAfk5yQ\", traces_l3muAfk5yQ, layout_l3muAfk5yQ, config_l3muAfk5yQ);\n",
       "</script> \n"
      ]
     },
     "metadata": {},
     "output_type": "display_data"
    }
   ],
   "source": [
    "val series = XY(x) asType HISTOGRAM setHistOptions(histnorm = NUMBER, cumulative = Cumulative(enabled=true))\n",
    "\n",
    "val chart = Chart() addSeries series setTitle \"Histogram - Cumulative\"\n",
    "\n",
    "chart.plotInline"
   ]
  },
  {
   "cell_type": "markdown",
   "metadata": {},
   "source": [
    "#### Specifiying the Binning Function\n",
    "\n",
    "We can also specify the binning function for a histogram."
   ]
  },
  {
   "cell_type": "code",
   "execution_count": 31,
   "metadata": {},
   "outputs": [],
   "source": [
    "import org.carbonateresearch.picta.options.histogram.{COUNT, SUM, AVG, MIN, MAX, HistOptions}"
   ]
  },
  {
   "cell_type": "code",
   "execution_count": 32,
   "metadata": {},
   "outputs": [
    {
     "data": {
      "text/html": [
       "<div id=\"grid-container_YOw6P6aFxy\" class=\"grid-container\" align=\"center\"> \n",
       "<div id=\"grid_YOw6P6aFxy\" class=\"grid\" align=\"center\"> \n",
       "<div id=\"graph_ZEXmPmbXJX\" class=\"graph\"></div> \n",
       "</div> \n",
       "</div> \n",
       "<script>\n",
       "var masonry = new Macy({\n",
       "    container: '#grid_YOw6P6aFxy',\n",
       "    debug: true,\n",
       "    mobileFirst: true,\n",
       "    columns: 1,\n",
       "    margin: {\n",
       "        x: 0,\n",
       "        y: 0\n",
       "    }\n",
       "  });\n",
       "\n",
       "  var traces_ZEXmPmbXJX = [{\"name\":\"9Mup6LFFPT\",\"type\":\"histogram\",\"histfunc\":\"count\",\"x\":[\"Apples\",\"Apples\",\"Apples\",\"Oranges\",\"Bananas\"],\"y\":[\"5\",\"10\",\"3\",\"10\",\"5\"]},{\"name\":\"YmUiJhNSzn\",\"type\":\"histogram\",\"histfunc\":\"sum\",\"x\":[\"Apples\",\"Apples\",\"Apples\",\"Oranges\",\"Bananas\"],\"y\":[\"5\",\"10\",\"3\",\"10\",\"5\"]}];\n",
       " var layout_ZEXmPmbXJX = {\"height\":550,\"width\":600,\"hovermode\":\"closest\",\"title\":{\"text\":\"Histogram - Specify Binning Function\"},\"showlegend\":true};\n",
       " var config_ZEXmPmbXJX = {\"responsive\":true,\"scrollZoom\":true,\"displaylogo\":false};\n",
       " Plotly.newPlot(\"graph_ZEXmPmbXJX\", traces_ZEXmPmbXJX, layout_ZEXmPmbXJX, config_ZEXmPmbXJX);\n",
       "</script> \n"
      ]
     },
     "metadata": {},
     "output_type": "display_data"
    }
   ],
   "source": [
    "val x = List(\"Apples\", \"Apples\", \"Apples\", \"Oranges\", \"Bananas\")\n",
    "val y = List(\"5\", \"10\", \"3\", \"10\", \"5\")\n",
    "\n",
    "// we can also assign histOptions to a value and pass them to the setHistOptions method\n",
    "val ho1 = HistOptions(histfunc = COUNT)\n",
    "val ho2 = HistOptions(histfunc = SUM)\n",
    "    \n",
    "val t1 = XY(x = x, y = y) asType HISTOGRAM setHistOptions ho1\n",
    "val t2 = XY(x = x, y = y) asType HISTOGRAM setHistOptions ho2\n",
    "\n",
    "val chart = Chart() addSeries(t1, t2) setTitle \"Histogram - Specify Binning Function\"\n",
    "val canvas = Canvas() addCharts chart\n",
    "canvas.plotInline"
   ]
  },
  {
   "cell_type": "markdown",
   "metadata": {},
   "source": [
    "### 2D Histogram Contour"
   ]
  },
  {
   "cell_type": "code",
   "execution_count": 33,
   "metadata": {},
   "outputs": [
    {
     "data": {
      "text/html": [
       "<div id=\"grid-container_zlT5lFWJAD\" class=\"grid-container\" align=\"center\"> \n",
       "<div id=\"grid_zlT5lFWJAD\" class=\"grid\" align=\"center\"> \n",
       "<div id=\"graph_1iteNi9ryk\" class=\"graph\"></div> \n",
       "</div> \n",
       "</div> \n",
       "<script>\n",
       "var masonry = new Macy({\n",
       "    container: '#grid_zlT5lFWJAD',\n",
       "    debug: true,\n",
       "    mobileFirst: true,\n",
       "    columns: 1,\n",
       "    margin: {\n",
       "        x: 0,\n",
       "        y: 0\n",
       "    }\n",
       "  });\n",
       "\n",
       "  var traces_1iteNi9ryk = [{\"name\":\"lIN5B3OxIC\",\"type\":\"histogram2dcontour\",\"mode\":\"markers\",\"x\":[1,2,3,4,5,6,7,8,9,10,11,12,13,14,15,16,17,18,19,20,21,22,23,24,25,26,27,28,29,30,31,32,33,34,35,36,37,38,39,40,41,42,43,44,45,46,47,48,49],\"y\":[22.668080077422548,45.51324018106191,78.79503207505883,41.07043816273593,68.12066355731562,80.92636352692172,51.770577454280435,23.773522075324607,28.454293622738604,40.39637956549943,11.856509382365012,41.58576535680139,51.193559521836264,75.8039407615884,46.73895481700188,103.73655668081612,28.232364623038105,91.64586159548152,48.02546634086628,62.82154886802169,63.77678810624893,31.508957277340414,32.74016770249079,118.13940656143738,35.51389190199203,111.71649652882734,79.90919257415231,34.61091666492888,82.79862085806215,58.131818691973024,80.92108374627881,71.98567463043094,111.21727297761467,86.57622269458086,121.97574246345172,130.07669287494016,111.57749579901804,129.91597618790928,39.68947199045043,54.92345052461316,53.19113082567161,55.595877729453136,116.80248633552804,118.06906565657422,126.25765023658255,136.24451782354166,113.93923598417152,76.54737455554832,76.22232546929627]}];\n",
       " var layout_1iteNi9ryk = {\"height\":550,\"width\":600,\"hovermode\":\"closest\",\"title\":{\"text\":\"2D Histogram Contour\"},\"showlegend\":true};\n",
       " var config_1iteNi9ryk = {\"responsive\":true,\"scrollZoom\":true,\"displaylogo\":false};\n",
       " Plotly.newPlot(\"graph_1iteNi9ryk\", traces_1iteNi9ryk, layout_1iteNi9ryk, config_1iteNi9ryk);\n",
       "</script> \n"
      ]
     },
     "metadata": {},
     "output_type": "display_data"
    }
   ],
   "source": [
    "val x = List.range(1, 50)\n",
    "val y = x.map(x => x + scala.util.Random.nextDouble()*100)\n",
    "\n",
    "val series = XY(x, y).asType(HISTOGRAM2DCONTOUR).drawMarkers\n",
    "\n",
    "val chart = (\n",
    "    Chart() addSeries series\n",
    "    setTitle \"2D Histogram Contour\"\n",
    ")\n",
    "\n",
    "chart.plotInline"
   ]
  },
  {
   "cell_type": "markdown",
   "metadata": {},
   "source": [
    "#### Adding additional axes\n",
    "\n",
    "As the above is a density plot, adding histograms can be useful too.\n",
    "\n",
    "We can add histograms as follows:"
   ]
  },
  {
   "cell_type": "code",
   "execution_count": 34,
   "metadata": {},
   "outputs": [],
   "source": [
    "// import the 2d Density histogram options\n",
    "import org.carbonateresearch.picta.options.histogram2d.Hist2dOptions"
   ]
  },
  {
   "cell_type": "code",
   "execution_count": 35,
   "metadata": {},
   "outputs": [
    {
     "data": {
      "text/html": [
       "<div id=\"grid-container_EB4pjrHDFL\" class=\"grid-container\" align=\"center\"> \n",
       "<div id=\"grid_EB4pjrHDFL\" class=\"grid\" align=\"center\"> \n",
       "<div id=\"graph_vaRoIuUtTF\" class=\"graph\"></div> \n",
       "</div> \n",
       "</div> \n",
       "<script>\n",
       "var masonry = new Macy({\n",
       "    container: '#grid_EB4pjrHDFL',\n",
       "    debug: true,\n",
       "    mobileFirst: true,\n",
       "    columns: 1,\n",
       "    margin: {\n",
       "        x: 0,\n",
       "        y: 0\n",
       "    }\n",
       "  });\n",
       "\n",
       "  var traces_vaRoIuUtTF = [{\"name\":\"points\",\"type\":\"scatter\",\"mode\":\"markers\",\"marker\":{\"color\":\"rgb(102.0, 0.0, 0.0)\"},\"x\":[1,2,3,4,5,6,7,8,9,10,11,12,13,14,15,16,17,18,19,20,21,22,23,24,25,26,27,28,29,30,31,32,33,34,35,36,37,38,39,40,41,42,43,44,45,46,47,48,49],\"y\":[22.668080077422548,45.51324018106191,78.79503207505883,41.07043816273593,68.12066355731562,80.92636352692172,51.770577454280435,23.773522075324607,28.454293622738604,40.39637956549943,11.856509382365012,41.58576535680139,51.193559521836264,75.8039407615884,46.73895481700188,103.73655668081612,28.232364623038105,91.64586159548152,48.02546634086628,62.82154886802169,63.77678810624893,31.508957277340414,32.74016770249079,118.13940656143738,35.51389190199203,111.71649652882734,79.90919257415231,34.61091666492888,82.79862085806215,58.131818691973024,80.92108374627881,71.98567463043094,111.21727297761467,86.57622269458086,121.97574246345172,130.07669287494016,111.57749579901804,129.91597618790928,39.68947199045043,54.92345052461316,53.19113082567161,55.595877729453136,116.80248633552804,118.06906565657422,126.25765023658255,136.24451782354166,113.93923598417152,76.54737455554832,76.22232546929627]},{\"name\":\"density\",\"type\":\"histogram2dcontour\",\"ncontours\":20,\"reversescale\":false,\"showscale\":true,\"x\":[1,2,3,4,5,6,7,8,9,10,11,12,13,14,15,16,17,18,19,20,21,22,23,24,25,26,27,28,29,30,31,32,33,34,35,36,37,38,39,40,41,42,43,44,45,46,47,48,49],\"y\":[22.668080077422548,45.51324018106191,78.79503207505883,41.07043816273593,68.12066355731562,80.92636352692172,51.770577454280435,23.773522075324607,28.454293622738604,40.39637956549943,11.856509382365012,41.58576535680139,51.193559521836264,75.8039407615884,46.73895481700188,103.73655668081612,28.232364623038105,91.64586159548152,48.02546634086628,62.82154886802169,63.77678810624893,31.508957277340414,32.74016770249079,118.13940656143738,35.51389190199203,111.71649652882734,79.90919257415231,34.61091666492888,82.79862085806215,58.131818691973024,80.92108374627881,71.98567463043094,111.21727297761467,86.57622269458086,121.97574246345172,130.07669287494016,111.57749579901804,129.91597618790928,39.68947199045043,54.92345052461316,53.19113082567161,55.595877729453136,116.80248633552804,118.06906565657422,126.25765023658255,136.24451782354166,113.93923598417152,76.54737455554832,76.22232546929627]},{\"name\":\"histogram\",\"type\":\"histogram\",\"yaxis\":\"y2\",\"x\":[1,2,3,4,5,6,7,8,9,10,11,12,13,14,15,16,17,18,19,20,21,22,23,24,25,26,27,28,29,30,31,32,33,34,35,36,37,38,39,40,41,42,43,44,45,46,47,48,49]},{\"name\":\"y density\",\"type\":\"histogram\",\"xaxis\":\"x2\",\"marker\":{\"color\":\"rgb(102.0, 0.0, 0.0)\"},\"y\":[22.668080077422548,45.51324018106191,78.79503207505883,41.07043816273593,68.12066355731562,80.92636352692172,51.770577454280435,23.773522075324607,28.454293622738604,40.39637956549943,11.856509382365012,41.58576535680139,51.193559521836264,75.8039407615884,46.73895481700188,103.73655668081612,28.232364623038105,91.64586159548152,48.02546634086628,62.82154886802169,63.77678810624893,31.508957277340414,32.74016770249079,118.13940656143738,35.51389190199203,111.71649652882734,79.90919257415231,34.61091666492888,82.79862085806215,58.131818691973024,80.92108374627881,71.98567463043094,111.21727297761467,86.57622269458086,121.97574246345172,130.07669287494016,111.57749579901804,129.91597618790928,39.68947199045043,54.92345052461316,53.19113082567161,55.595877729453136,116.80248633552804,118.06906565657422,126.25765023658255,136.24451782354166,113.93923598417152,76.54737455554832,76.22232546929627]}];\n",
       " var layout_vaRoIuUtTF = {\"height\":550,\"width\":600,\"hovermode\":\"closest\",\"title\":{\"text\":\"XY.Histogram2dContour.WithDensity\"},\"showlegend\":false,\"autosize\":false,\"xaxis\":{\"showgrid\":false,\"zeroline\":false,\"showline\":false,\"domain\":[0,0.85]},\"yaxis\":{\"showgrid\":false,\"zeroline\":false,\"showline\":false,\"domain\":[0,0.85]},\"xaxis2\":{\"showgrid\":false,\"zeroline\":false,\"showline\":false,\"domain\":[0.85,1]},\"yaxis2\":{\"showgrid\":false,\"zeroline\":false,\"showline\":false,\"domain\":[0.85,1]}};\n",
       " var config_vaRoIuUtTF = {\"responsive\":true,\"scrollZoom\":true,\"displaylogo\":false};\n",
       " Plotly.newPlot(\"graph_vaRoIuUtTF\", traces_vaRoIuUtTF, layout_vaRoIuUtTF, config_vaRoIuUtTF);\n",
       "</script> \n"
      ]
     },
     "metadata": {},
     "output_type": "display_data"
    }
   ],
   "source": [
    "val ax1 = Axis(X, showgrid = false) setDomain(0.0, 0.85)\n",
    "val ax2 = Axis(Y, showgrid = false) setDomain(0.0, 0.85)\n",
    "val ax3 = Axis(X, position = 2, showgrid = false) setDomain(0.85, 1.0)\n",
    "val ax4 = Axis(Y, position = 2, showgrid = false) setDomain(0.85, 1.0)\n",
    "\n",
    "val marker = Marker() setColor RGB(102,0,0)\n",
    "val series1 = XY(x, y) asType SCATTER drawStyle MARKERS setName \"points\" setMarker marker\n",
    "\n",
    "val series2 = (\n",
    "  XY(x, y)\n",
    "    setName \"density\"\n",
    "    asType HISTOGRAM2DCONTOUR\n",
    "    setHist2dOptions(ncontours = 20, reversescale = false, showscale = true)\n",
    "  )\n",
    "\n",
    "val series3 = XY(x = x) asType HISTOGRAM setName \"histogram\" setAxes(ax1, ax4)\n",
    "val series4 = (XY(y) setName \"y density\" asType HISTOGRAM setAxis ax3 setMarker marker\n",
    "  setHistOptions (orientation = HORIZONTAL))\n",
    "\n",
    "val layout = (ChartLayout(\"XY.Histogram2dContour.WithDensity\", auto_size = false) setAxes(ax1, ax2, ax3, ax4))\n",
    "\n",
    "val chart = Chart() addSeries(series1, series2, series3, series4) setChartLayout layout showLegend false\n",
    "\n",
    "chart.plotInline"
   ]
  },
  {
   "cell_type": "markdown",
   "metadata": {},
   "source": [
    "### 3D Charts\n",
    "\n",
    "3D charts are constructed using a `XYZ` series as they take in 3 `Series`' to create a single point.\n",
    "\n",
    "The Picta API does not accept nested lists, however the underlying Plotlyjs render does. In order to render any series that will make use of a nested list, we must flatten and provide the length of an element (before the list was flattened).\n",
    "\n",
    "The following examples will make it clearer.\n",
    "\n",
    "#### Contour"
   ]
  },
  {
   "cell_type": "code",
   "execution_count": 36,
   "metadata": {},
   "outputs": [],
   "source": [
    "// lets create some dummy adata for the third dimension\n",
    "val x = List(-9, -6, -5 , -3, -1)\n",
    "val y = List(0, 1, 4, 5, 7)\n",
    "val z = List(\n",
    "    List(10, 10.625, 12.5, 15.625, 20),\n",
    "    List(5.625, 6.25, 8.125, 11.25, 15.625),\n",
    "    List(2.5, 3.125, 5.0, 8.125, 12.5),\n",
    "    List(0.625, 1.25, 3.125, 6.25, 10.625),\n",
    "    List(0, 0.625, 2.5, 5.625, 10)\n",
    ")"
   ]
  },
  {
   "cell_type": "code",
   "execution_count": 37,
   "metadata": {},
   "outputs": [
    {
     "data": {
      "text/html": [
       "<div id=\"grid-container_A2NhI4R95i\" class=\"grid-container\" align=\"center\"> \n",
       "<div id=\"grid_A2NhI4R95i\" class=\"grid\" align=\"center\"> \n",
       "<div id=\"graph_wLiIwHCCBT\" class=\"graph\"></div> \n",
       "</div> \n",
       "</div> \n",
       "<script>\n",
       "var masonry = new Macy({\n",
       "    container: '#grid_A2NhI4R95i',\n",
       "    debug: true,\n",
       "    mobileFirst: true,\n",
       "    columns: 1,\n",
       "    margin: {\n",
       "        x: 0,\n",
       "        y: 0\n",
       "    }\n",
       "  });\n",
       "\n",
       "  var traces_wLiIwHCCBT = [{\"name\":\"n29A42TMpd\",\"type\":\"contour\",\"x\":[-9,-6,-5,-3,-1],\"y\":[0,1,4,5,7],\"z\":[[10,10.625,12.5,15.625,20],[5.625,6.25,8.125,11.25,15.625],[2.5,3.125,5,8.125,12.5],[0.625,1.25,3.125,6.25,10.625],[0,0.625,2.5,5.625,10]]}];\n",
       " var layout_wLiIwHCCBT = {\"height\":550,\"width\":600,\"hovermode\":\"closest\",\"title\":{\"text\":\"Contour\"},\"showlegend\":true};\n",
       " var config_wLiIwHCCBT = {\"responsive\":true,\"scrollZoom\":true,\"displaylogo\":false};\n",
       " Plotly.newPlot(\"graph_wLiIwHCCBT\", traces_wLiIwHCCBT, layout_wLiIwHCCBT, config_wLiIwHCCBT);\n",
       "</script> \n"
      ]
     },
     "metadata": {},
     "output_type": "display_data"
    }
   ],
   "source": [
    "// we flatten the nested list as we pass it into the Series constructor\n",
    "val series = XYZ(x=x, y=y, z=z.flatten, n=z(0).length).asType(CONTOUR)\n",
    "\n",
    "// set up the chart\n",
    "val chart = Chart()\n",
    "            .addSeries(series)\n",
    "            .setTitle(\"Contour\")\n",
    "\n",
    "// plot the chart\n",
    "chart.plotInline"
   ]
  },
  {
   "cell_type": "markdown",
   "metadata": {},
   "source": [
    "#### Heatmap"
   ]
  },
  {
   "cell_type": "code",
   "execution_count": 38,
   "metadata": {
    "scrolled": false
   },
   "outputs": [],
   "source": [
    "// create a new nested list for the heatmap\n",
    "val z = List.range(1, 101).map(e => e + scala.util.Random.nextDouble()*100).grouped(10).toList"
   ]
  },
  {
   "cell_type": "code",
   "execution_count": 39,
   "metadata": {},
   "outputs": [
    {
     "data": {
      "text/html": [
       "<div id=\"grid-container_7wgJ59GiAy\" class=\"grid-container\" align=\"center\"> \n",
       "<div id=\"grid_7wgJ59GiAy\" class=\"grid\" align=\"center\"> \n",
       "<div id=\"graph_NDGpO2o9Yx\" class=\"graph\"></div> \n",
       "</div> \n",
       "</div> \n",
       "<script>\n",
       "var masonry = new Macy({\n",
       "    container: '#grid_7wgJ59GiAy',\n",
       "    debug: true,\n",
       "    mobileFirst: true,\n",
       "    columns: 1,\n",
       "    margin: {\n",
       "        x: 0,\n",
       "        y: 0\n",
       "    }\n",
       "  });\n",
       "\n",
       "  var traces_NDGpO2o9Yx = [{\"name\":\"VoLT0Wi83o\",\"type\":\"heatmap\",\"z\":[[87.55344801632337,20.03683503235366,32.49267287074582,5.9135647324578064,21.512853689555286,33.16621806360992,70.41444071828698,94.53918835872692,63.91664290438708,15.960391968755573],[106.51766109749596,74.6381008018491,87.06820545982818,22.450079121127096,81.72568637461224,103.19871422557367,94.12066010159909,99.89831166484332,65.69834781282162,108.01768705736059],[41.206504507437685,33.08862756829856,103.65915997923003,50.938058985588896,85.84911701236497,29.699960334056474,59.208020661481875,92.46613235790531,109.68158815335426,34.75953333030667],[50.02190757248713,102.83847710119723,130.78357573029612,77.10648458105686,92.19364152035394,93.61440528880976,116.35699681794128,118.86540281767901,65.93154806718208,75.99811188182977],[129.996547503594,100.1202941911194,90.44040515362144,87.34863199583748,99.47117473982469,145.29595224001625,49.02682250797158,65.7146449686554,70.71780101710621,125.19509716155865],[136.81973073565013,93.73505987597284,121.65876644375774,149.20604970427777,112.96944957494608,77.87523552947627,145.48956403676846,95.88711605554818,126.78634926861551,76.72260698522827],[77.24366052927786,76.95027101046594,153.0028380409372,142.94433866293548,129.7262977416421,69.60812109168343,115.19006237762554,97.5136218666163,125.31937460995346,145.3145563155502],[98.33331008266066,111.94005397847387,158.69460870234502,169.1208785022642,151.66784519615788,134.4934848344203,102.1324128584499,143.18561779387812,161.09947481716583,159.789639299726],[169.92896665521505,120.41766372975103,126.88188149054184,107.6096702024988,91.28424586656703,119.7987115419468,116.69534412387713,146.45478308832128,102.0988325190808,133.62246258128755],[176.86918212962024,170.0908952773515,155.26750478740064,128.70441566014296,175.21285471061447,111.21728171165147,166.3428342565984,108.55747340289778,117.76838920442523,155.39698528943583]]}];\n",
       " var layout_NDGpO2o9Yx = {\"height\":550,\"width\":600,\"hovermode\":\"closest\",\"title\":{\"text\":\"Heatmap\"},\"showlegend\":true};\n",
       " var config_NDGpO2o9Yx = {\"responsive\":true,\"scrollZoom\":true,\"displaylogo\":false};\n",
       " Plotly.newPlot(\"graph_NDGpO2o9Yx\", traces_NDGpO2o9Yx, layout_NDGpO2o9Yx, config_NDGpO2o9Yx);\n",
       "</script> \n"
      ]
     },
     "metadata": {},
     "output_type": "display_data"
    }
   ],
   "source": [
    "// we get the length of an element of the nested list\n",
    "val n = z(0).length\n",
    "\n",
    "// we now flatten the list and pass it into Series constructor, as well as 'n', the length of an element so that the \n",
    "// heatmap dimensions are correctly constructed\n",
    "val series = XYZ(z=z.flatten, n=n) asType HEATMAP\n",
    "\n",
    "val chart = Chart().addSeries(series).setTitle(\"Heatmap\")\n",
    "\n",
    "chart.plotInline"
   ]
  },
  {
   "cell_type": "markdown",
   "metadata": {},
   "source": [
    "#### Scatter3D"
   ]
  },
  {
   "cell_type": "code",
   "execution_count": 40,
   "metadata": {
    "scrolled": false
   },
   "outputs": [
    {
     "data": {
      "text/html": [
       "<div id=\"grid-container_G7sKAuPzS6\" class=\"grid-container\" align=\"center\"> \n",
       "<div id=\"grid_G7sKAuPzS6\" class=\"grid\" align=\"center\"> \n",
       "<div id=\"graph_waGAfLyY3q\" class=\"graph\"></div> \n",
       "</div> \n",
       "</div> \n",
       "<script>\n",
       "var masonry = new Macy({\n",
       "    container: '#grid_G7sKAuPzS6',\n",
       "    debug: true,\n",
       "    mobileFirst: true,\n",
       "    columns: 1,\n",
       "    margin: {\n",
       "        x: 0,\n",
       "        y: 0\n",
       "    }\n",
       "  });\n",
       "\n",
       "  var traces_waGAfLyY3q = [{\"name\":\"ucDmu1z7yD\",\"type\":\"scatter3d\",\"mode\":\"markers\",\"x\":[1,2,3,4,5,6,7,8,9,10,11,12,13,14,15,16,17,18,19,20,21,22,23,24,25,26,27,28,29,30,31,32,33,34,35,36,37,38,39,40,41,42,43,44,45,46,47,48,49,50,51,52,53,54,55,56,57,58,59,60,61,62,63,64,65,66,67,68,69,70,71,72,73,74,75,76,77,78,79,80,81,82,83,84,85,86,87,88,89,90,91,92,93,94,95,96,97,98,99],\"y\":[1,2,3,4,5,6,7,8,9,10,11,12,13,14,15,16,17,18,19,20,21,22,23,24,25,26,27,28,29,30,31,32,33,34,35,36,37,38,39,40,41,42,43,44,45,46,47,48,49,50,51,52,53,54,55,56,57,58,59,60,61,62,63,64,65,66,67,68,69,70,71,72,73,74,75,76,77,78,79,80,81,82,83,84,85,86,87,88,89,90,91,92,93,94,95,96,97,98,99],\"z\":[48.71068115510872,81.44872530661142,25.427311010304763,7.073538745561177,41.88165796253613,85.07532680155079,17.602524311238504,71.18351656318636,41.17266858970721,103.1797660885033,106.34664491447899,72.7087907640639,54.12694280332193,110.35576953708185,79.61061640853617,68.41072062560409,34.02230656472635,109.80071960798003,73.42240810901833,70.60065630225554,53.56221924062858,38.680048560609706,36.75546814817196,40.31756466265489,92.01372140932953,109.48874437837183,28.68106038487521,117.04140369437037,90.09219615427608,96.71476330372529,45.1219700845469,36.09274353255328,88.70930943216777,118.83182777007751,98.40402128739602,52.154315003703715,82.64184291963343,84.4967269516113,101.80569112870026,82.76029823447666,88.24557727712693,68.79889370047601,43.43506853471612,109.13434717600877,45.5297774996795,60.507695872497095,69.01727956624458,123.41747354827834,49.22423008578232,74.48553407630101,131.5544039577493,91.11209151476228,130.91220947993565,54.78250108802374,107.32384455382528,105.47867933943746,94.86912667489818,103.40098883131712,122.30998204885447,146.6566463559867,143.9380596760456,157.31630292611248,80.91789027065248,122.44118325918504,118.58972578018718,102.06203404733759,139.69674277239187,159.93302415331016,112.25590066805063,154.03650410594446,122.8045049142842,137.6881540015778,119.09166418135149,165.6593664935772,133.07437427163165,96.52974286868098,116.51330636352287,107.60500588880011,172.79735064017652,143.84467465182047,84.17505872212391,160.5621150151157,151.71421955807887,170.97218637157277,113.48928847121793,105.31640140395288,126.21414247807671,136.2023788152208,167.36119464701432,134.42612745516846,183.36596101331708,126.93739193773554,108.5003819103772,121.35774682493995,156.16220181285212,103.72830149392969,126.48820344435094,173.67163746490752,132.23470945542053]}];\n",
       " var layout_waGAfLyY3q = {\"height\":550,\"width\":600,\"hovermode\":\"closest\",\"title\":{\"text\":\"3D Scatter Chart\"},\"showlegend\":true};\n",
       " var config_waGAfLyY3q = {\"responsive\":false,\"scrollZoom\":false,\"displaylogo\":false};\n",
       " Plotly.newPlot(\"graph_waGAfLyY3q\", traces_waGAfLyY3q, layout_waGAfLyY3q, config_waGAfLyY3q);\n",
       "</script> \n"
      ]
     },
     "metadata": {},
     "output_type": "display_data"
    }
   ],
   "source": [
    "val x = List.range(1, 100)\n",
    "val y = List.range(1, 100)\n",
    "val z = List.range(1, 100).map(e => e + scala.util.Random.nextDouble()*100)\n",
    "\n",
    "val series = XYZ(x, y, z).asType(SCATTER3D).drawStyle(MARKERS)\n",
    "val chart1 = Chart() addSeries series setTitle \"3D Scatter Chart\" setConfig(false, false)\n",
    "val canvas = Canvas() addCharts chart1\n",
    "canvas.plotInline"
   ]
  },
  {
   "cell_type": "markdown",
   "metadata": {},
   "source": [
    "#### 3D Line"
   ]
  },
  {
   "cell_type": "code",
   "execution_count": 41,
   "metadata": {},
   "outputs": [
    {
     "data": {
      "text/html": [
       "<div id=\"grid-container_hObwhVf3rR\" class=\"grid-container\" align=\"center\"> \n",
       "<div id=\"grid_hObwhVf3rR\" class=\"grid\" align=\"center\"> \n",
       "<div id=\"graph_uptq47nRll\" class=\"graph\"></div> \n",
       "</div> \n",
       "</div> \n",
       "<script>\n",
       "var masonry = new Macy({\n",
       "    container: '#grid_hObwhVf3rR',\n",
       "    debug: true,\n",
       "    mobileFirst: true,\n",
       "    columns: 1,\n",
       "    margin: {\n",
       "        x: 0,\n",
       "        y: 0\n",
       "    }\n",
       "  });\n",
       "\n",
       "  var traces_uptq47nRll = [{\"name\":\"kSN9vAEueG\",\"type\":\"scatter3d\",\"mode\":\"lines\",\"x\":[1,2,3,4,5,6,7,8,9,10,11,12,13,14,15,16,17,18,19,20,21,22,23,24,25,26,27,28,29,30,31,32,33,34,35,36,37,38,39,40,41,42,43,44,45,46,47,48,49,50,51,52,53,54,55,56,57,58,59,60,61,62,63,64,65,66,67,68,69,70,71,72,73,74,75,76,77,78,79,80,81,82,83,84,85,86,87,88,89,90,91,92,93,94,95,96,97,98,99],\"y\":[1,2,3,4,5,6,7,8,9,10,11,12,13,14,15,16,17,18,19,20,21,22,23,24,25,26,27,28,29,30,31,32,33,34,35,36,37,38,39,40,41,42,43,44,45,46,47,48,49,50,51,52,53,54,55,56,57,58,59,60,61,62,63,64,65,66,67,68,69,70,71,72,73,74,75,76,77,78,79,80,81,82,83,84,85,86,87,88,89,90,91,92,93,94,95,96,97,98,99],\"z\":[65.64609649196593,59.59415925394149,3.4832733059340955,79.93987796394879,94.88550625120179,40.27924620436763,84.98720387763855,59.43387962041079,50.83658108927857,64.8505515073827,24.70497840489957,110.96522504844262,31.70023866157068,52.2493975637209,65.09514556915545,111.28490909041331,71.91258534372778,115.343660523215,113.46335397939346,66.19051362554289,25.026994063132605,60.40369850613313,114.07939335007873,121.20252262441545,84.84470199899124,118.93465295842776,49.987185504584374,103.91493003126675,118.52750478619667,111.69724515226319,127.19629474606486,113.13549155138512,94.11739595836536,107.3469112581203,116.6974845013176,109.0911264558788,46.70455693818606,78.84369652127502,55.6237231557523,126.25916729165397,42.42637917443093,79.63308820894349,137.88195884865863,125.79524531991447,67.54671906541866,58.57051178399197,56.709885553230734,128.06380813902382,91.05588765250715,107.65996392945377,96.86582592643633,117.4374338347364,123.5483555951012,89.899847496962,112.53878253154696,91.31618098854489,122.57654590013499,125.87677093214795,68.56958211505628,133.2284716346855,75.24547423041686,127.22070389748622,67.20295898769743,125.91009759113771,122.50439276865004,152.63256832785657,130.34436788435653,84.41810493809562,76.4080835039857,127.91795143544354,158.1741319680234,81.62148419399807,121.56170857054406,115.30833900290312,138.97554423395096,158.82074961231075,85.02967746286151,139.32388101120225,142.16236154160663,162.78361658080797,105.18030012012046,176.5293841341844,86.74509662003253,127.14417820665679,129.2544469493643,94.7578696073742,140.8543668668012,120.89814246749211,121.8878187610911,183.72368365717273,174.44352012904255,119.63678552822401,172.38286648840818,153.41982937061834,156.92161532053822,116.19752997306557,147.21776430332977,189.2918186586792,164.22177595614653]}];\n",
       " var layout_uptq47nRll = {\"height\":550,\"width\":600,\"hovermode\":\"closest\",\"title\":{\"text\":\"3D Line Chart\"},\"showlegend\":true};\n",
       " var config_uptq47nRll = {\"responsive\":false,\"scrollZoom\":false,\"displaylogo\":false};\n",
       " Plotly.newPlot(\"graph_uptq47nRll\", traces_uptq47nRll, layout_uptq47nRll, config_uptq47nRll);\n",
       "</script> \n"
      ]
     },
     "metadata": {},
     "output_type": "display_data"
    }
   ],
   "source": [
    "val x = List.range(1, 100)\n",
    "val y = List.range(1, 100)\n",
    "val z = List.range(1, 100).map(e => e + scala.util.Random.nextDouble()*100)\n",
    "\n",
    "val series = XYZ(x, y, z).asType(SCATTER3D).drawStyle(LINES)\n",
    "val chart1 = Chart() addSeries series setTitle \"3D Line Chart\" setConfig(false, false)\n",
    "val canvas = Canvas() addCharts chart1\n",
    "canvas.plotInline"
   ]
  },
  {
   "cell_type": "markdown",
   "metadata": {},
   "source": [
    "#### Surface Plot"
   ]
  },
  {
   "cell_type": "code",
   "execution_count": 42,
   "metadata": {
    "scrolled": false
   },
   "outputs": [
    {
     "data": {
      "text/html": [
       "<div id=\"grid-container_RwzGx32TmH\" class=\"grid-container\" align=\"center\"> \n",
       "<div id=\"grid_RwzGx32TmH\" class=\"grid\" align=\"center\"> \n",
       "<div id=\"graph_b06UhOwqJG\" class=\"graph\"></div> \n",
       "</div> \n",
       "</div> \n",
       "<script>\n",
       "var masonry = new Macy({\n",
       "    container: '#grid_RwzGx32TmH',\n",
       "    debug: true,\n",
       "    mobileFirst: true,\n",
       "    columns: 1,\n",
       "    margin: {\n",
       "        x: 0,\n",
       "        y: 0\n",
       "    }\n",
       "  });\n",
       "\n",
       "  var traces_b06UhOwqJG = [{\"name\":\"3JmKvnIYHF\",\"type\":\"surface\",\"colorbar\":{\"title\":{\"text\":\"Altitude\",\"side\":\"right\"}},\"z\":[[8.83,8.89,8.81,8.87,8.9,8.87],[8.89,8.94,8.85,8.94,8.96,8.92],[8.84,8.9,8.82,8.92,8.93,8.91],[8.79,8.85,8.79,8.9,8.94,8.92],[8.79,8.88,8.81,8.9,8.95,8.92],[8.8,8.82,8.78,8.91,8.94,8.92],[8.75,8.78,8.77,8.91,8.95,8.92],[8.8,8.8,8.77,8.91,8.95,8.94],[8.74,8.81,8.76,8.93,8.98,8.99],[8.89,8.99,8.92,9.1,9.13,9.11],[8.97,8.97,8.91,9.09,9.11,9.11],[9.04,9.08,9.05,9.25,9.28,9.27],[9,9.01,9,9.2,9.23,9.2],[8.99,8.99,8.98,9.18,9.2,9.19],[8.93,8.97,8.97,9.18,9.2,9.18]]}];\n",
       " var layout_b06UhOwqJG = {\"height\":550,\"width\":600,\"hovermode\":\"closest\",\"title\":{\"text\":\"Surface\"},\"showlegend\":true};\n",
       " var config_b06UhOwqJG = {\"responsive\":true,\"scrollZoom\":true,\"displaylogo\":false};\n",
       " Plotly.newPlot(\"graph_b06UhOwqJG\", traces_b06UhOwqJG, layout_b06UhOwqJG, config_b06UhOwqJG);\n",
       "</script> \n"
      ]
     },
     "metadata": {},
     "output_type": "display_data"
    }
   ],
   "source": [
    "// 3d surface plot\n",
    "val k = List(\n",
    "    List(8.83,8.89,8.81,8.87,8.9,8.87),\n",
    "    List(8.89,8.94,8.85,8.94,8.96,8.92),\n",
    "    List(8.84,8.9,8.82,8.92,8.93,8.91),\n",
    "    List(8.79,8.85,8.79,8.9,8.94,8.92),\n",
    "    List(8.79,8.88,8.81,8.9,8.95,8.92),\n",
    "    List(8.8,8.82,8.78,8.91,8.94,8.92),\n",
    "    List(8.75,8.78,8.77,8.91,8.95,8.92),\n",
    "    List(8.8,8.8,8.77,8.91,8.95,8.94),\n",
    "    List(8.74,8.81,8.76,8.93,8.98,8.99),\n",
    "    List(8.89,8.99,8.92,9.1,9.13,9.11),\n",
    "    List(8.97,8.97,8.91,9.09,9.11,9.11),\n",
    "    List(9.04,9.08,9.05,9.25,9.28,9.27),\n",
    "    List(9,9.01,9,9.2,9.23,9.2),\n",
    "    List(8.99,8.99,8.98,9.18,9.2,9.19),\n",
    "    List(8.93,8.97,8.97,9.18,9.2,9.18)\n",
    "  )\n",
    "\n",
    "val series = XYZ(z=k.flatten, n = k(0).length) asType SURFACE setColorBar(\"Altitude\", RIGHT_SIDE)\n",
    "val chart2 = Chart() addSeries series setTitle \"Surface\"\n",
    "\n",
    "chart2.plotInline"
   ]
  },
  {
   "cell_type": "markdown",
   "metadata": {},
   "source": [
    "#### Third Dimension as Color"
   ]
  },
  {
   "cell_type": "code",
   "execution_count": 43,
   "metadata": {},
   "outputs": [
    {
     "data": {
      "text/html": [
       "<div id=\"grid-container_wZglbCosEB\" class=\"grid-container\" align=\"center\"> \n",
       "<div id=\"grid_wZglbCosEB\" class=\"grid\" align=\"center\"> \n",
       "<div id=\"graph_vEnbYLEqpJ\" class=\"graph\"></div> \n",
       "</div> \n",
       "</div> \n",
       "<script>\n",
       "var masonry = new Macy({\n",
       "    container: '#grid_wZglbCosEB',\n",
       "    debug: true,\n",
       "    mobileFirst: true,\n",
       "    columns: 1,\n",
       "    margin: {\n",
       "        x: 0,\n",
       "        y: 0\n",
       "    }\n",
       "  });\n",
       "\n",
       "  var traces_vEnbYLEqpJ = [{\"name\":\"XfiXBkn1il\",\"type\":\"scatter\",\"mode\":\"markers\",\"marker\":{\"color\":[65.64609649196593,59.59415925394149,3.4832733059340955,79.93987796394879,94.88550625120179,40.27924620436763,84.98720387763855,59.43387962041079,50.83658108927857,64.8505515073827,24.70497840489957,110.96522504844262,31.70023866157068,52.2493975637209,65.09514556915545,111.28490909041331,71.91258534372778,115.343660523215,113.46335397939346,66.19051362554289,25.026994063132605,60.40369850613313,114.07939335007873,121.20252262441545,84.84470199899124,118.93465295842776,49.987185504584374,103.91493003126675,118.52750478619667,111.69724515226319,127.19629474606486,113.13549155138512,94.11739595836536,107.3469112581203,116.6974845013176,109.0911264558788,46.70455693818606,78.84369652127502,55.6237231557523,126.25916729165397,42.42637917443093,79.63308820894349,137.88195884865863,125.79524531991447,67.54671906541866,58.57051178399197,56.709885553230734,128.06380813902382,91.05588765250715,107.65996392945377,96.86582592643633,117.4374338347364,123.5483555951012,89.899847496962,112.53878253154696,91.31618098854489,122.57654590013499,125.87677093214795,68.56958211505628,133.2284716346855,75.24547423041686,127.22070389748622,67.20295898769743,125.91009759113771,122.50439276865004,152.63256832785657,130.34436788435653,84.41810493809562,76.4080835039857,127.91795143544354,158.1741319680234,81.62148419399807,121.56170857054406,115.30833900290312,138.97554423395096,158.82074961231075,85.02967746286151,139.32388101120225,142.16236154160663,162.78361658080797,105.18030012012046,176.5293841341844,86.74509662003253,127.14417820665679,129.2544469493643,94.7578696073742,140.8543668668012,120.89814246749211,121.8878187610911,183.72368365717273,174.44352012904255,119.63678552822401,172.38286648840818,153.41982937061834,156.92161532053822,116.19752997306557,147.21776430332977,189.2918186586792,164.22177595614653],\"colorbar\":{\"title\":{\"text\":\"3rd Dimension\",\"side\":\"right\"}}},\"x\":[1,2,3,4,5,6,7,8,9,10,11,12,13,14,15,16,17,18,19,20,21,22,23,24,25,26,27,28,29,30,31,32,33,34,35,36,37,38,39,40,41,42,43,44,45,46,47,48,49,50,51,52,53,54,55,56,57,58,59,60,61,62,63,64,65,66,67,68,69,70,71,72,73,74,75,76,77,78,79,80,81,82,83,84,85,86,87,88,89,90,91,92,93,94,95,96,97,98,99],\"y\":[1,2,3,4,5,6,7,8,9,10,11,12,13,14,15,16,17,18,19,20,21,22,23,24,25,26,27,28,29,30,31,32,33,34,35,36,37,38,39,40,41,42,43,44,45,46,47,48,49,50,51,52,53,54,55,56,57,58,59,60,61,62,63,64,65,66,67,68,69,70,71,72,73,74,75,76,77,78,79,80,81,82,83,84,85,86,87,88,89,90,91,92,93,94,95,96,97,98,99]}];\n",
       " var layout_vEnbYLEqpJ = {\"height\":550,\"width\":600,\"hovermode\":\"closest\",\"title\":{\"text\":\"Scatter With Color\"},\"showlegend\":false};\n",
       " var config_vEnbYLEqpJ = {\"responsive\":true,\"scrollZoom\":true,\"displaylogo\":false};\n",
       " Plotly.newPlot(\"graph_vEnbYLEqpJ\", traces_vEnbYLEqpJ, layout_vEnbYLEqpJ, config_vEnbYLEqpJ);\n",
       "</script> \n"
      ]
     },
     "metadata": {},
     "output_type": "display_data"
    }
   ],
   "source": [
    "// multiple compositions can be used to create scatter charts with a color representing some third dimension\n",
    "val series = (\n",
    "    XY(x, y) \n",
    "    asType SCATTER \n",
    "    drawStyle MARKERS \n",
    "    setMarker marker \n",
    "    setColor z \n",
    "    setColorBar(\"3rd Dimension\", RIGHT_SIDE)\n",
    ")\n",
    "\n",
    "val chart3 = Chart() addSeries series setTitle \"Scatter With Color\" showLegend false\n",
    "chart3.plotInline"
   ]
  },
  {
   "cell_type": "markdown",
   "metadata": {},
   "source": [
    "#### Subplot\n",
    "\n",
    "The Subplot class can be used to generate subplots for an XYZ plots just as we did previously."
   ]
  },
  {
   "cell_type": "code",
   "execution_count": 44,
   "metadata": {},
   "outputs": [
    {
     "data": {
      "text/html": [
       "<div id=\"grid-container_sLYD30rQ3x\" class=\"grid-container\" align=\"center\"> \n",
       "<div id=\"grid_sLYD30rQ3x\" class=\"grid\" align=\"center\"> \n",
       "<div id=\"graph_gt1DhySdTL\" class=\"graph\"></div> \n",
       "<div id=\"graph_4RmWeK2p7P\" class=\"graph\"></div> \n",
       "<div id=\"graph_nJtlkRults\" class=\"graph\"></div> \n",
       "<div id=\"graph_zQZM6Nk4gS\" class=\"graph\"></div> \n",
       "</div> \n",
       "</div> \n",
       "\n",
       "<div align=\"center\">\n",
       "<button id = \"saveAsPNG_sLYD30rQ3x\" class=\"picta-button\">Download Canvas as PNG</button>\n",
       "</div>\n",
       "<script>\n",
       "var masonry = new Macy({\n",
       "    container: '#grid_sLYD30rQ3x',\n",
       "    debug: true,\n",
       "    mobileFirst: true,\n",
       "    columns: 2,\n",
       "    margin: {\n",
       "        x: 0,\n",
       "        y: 0\n",
       "    }\n",
       "  });\n",
       "\n",
       "  var traces_gt1DhySdTL = [{\"name\":\"kSN9vAEueG\",\"type\":\"scatter3d\",\"mode\":\"lines\",\"x\":[1,2,3,4,5,6,7,8,9,10,11,12,13,14,15,16,17,18,19,20,21,22,23,24,25,26,27,28,29,30,31,32,33,34,35,36,37,38,39,40,41,42,43,44,45,46,47,48,49,50,51,52,53,54,55,56,57,58,59,60,61,62,63,64,65,66,67,68,69,70,71,72,73,74,75,76,77,78,79,80,81,82,83,84,85,86,87,88,89,90,91,92,93,94,95,96,97,98,99],\"y\":[1,2,3,4,5,6,7,8,9,10,11,12,13,14,15,16,17,18,19,20,21,22,23,24,25,26,27,28,29,30,31,32,33,34,35,36,37,38,39,40,41,42,43,44,45,46,47,48,49,50,51,52,53,54,55,56,57,58,59,60,61,62,63,64,65,66,67,68,69,70,71,72,73,74,75,76,77,78,79,80,81,82,83,84,85,86,87,88,89,90,91,92,93,94,95,96,97,98,99],\"z\":[65.64609649196593,59.59415925394149,3.4832733059340955,79.93987796394879,94.88550625120179,40.27924620436763,84.98720387763855,59.43387962041079,50.83658108927857,64.8505515073827,24.70497840489957,110.96522504844262,31.70023866157068,52.2493975637209,65.09514556915545,111.28490909041331,71.91258534372778,115.343660523215,113.46335397939346,66.19051362554289,25.026994063132605,60.40369850613313,114.07939335007873,121.20252262441545,84.84470199899124,118.93465295842776,49.987185504584374,103.91493003126675,118.52750478619667,111.69724515226319,127.19629474606486,113.13549155138512,94.11739595836536,107.3469112581203,116.6974845013176,109.0911264558788,46.70455693818606,78.84369652127502,55.6237231557523,126.25916729165397,42.42637917443093,79.63308820894349,137.88195884865863,125.79524531991447,67.54671906541866,58.57051178399197,56.709885553230734,128.06380813902382,91.05588765250715,107.65996392945377,96.86582592643633,117.4374338347364,123.5483555951012,89.899847496962,112.53878253154696,91.31618098854489,122.57654590013499,125.87677093214795,68.56958211505628,133.2284716346855,75.24547423041686,127.22070389748622,67.20295898769743,125.91009759113771,122.50439276865004,152.63256832785657,130.34436788435653,84.41810493809562,76.4080835039857,127.91795143544354,158.1741319680234,81.62148419399807,121.56170857054406,115.30833900290312,138.97554423395096,158.82074961231075,85.02967746286151,139.32388101120225,142.16236154160663,162.78361658080797,105.18030012012046,176.5293841341844,86.74509662003253,127.14417820665679,129.2544469493643,94.7578696073742,140.8543668668012,120.89814246749211,121.8878187610911,183.72368365717273,174.44352012904255,119.63678552822401,172.38286648840818,153.41982937061834,156.92161532053822,116.19752997306557,147.21776430332977,189.2918186586792,164.22177595614653]}];\n",
       " var layout_gt1DhySdTL = {\"height\":350,\"width\":350,\"hovermode\":\"closest\",\"title\":{\"text\":\"3D Line Chart\"},\"showlegend\":true,\"margin\":{\"l\":50,\"r\":50,\"t\":50,\"b\":50}};\n",
       " var config_gt1DhySdTL = {\"responsive\":false,\"scrollZoom\":false,\"displaylogo\":false};\n",
       " Plotly.newPlot(\"graph_gt1DhySdTL\", traces_gt1DhySdTL, layout_gt1DhySdTL, config_gt1DhySdTL);\n",
       "\n",
       "  var traces_4RmWeK2p7P = [{\"name\":\"3JmKvnIYHF\",\"type\":\"surface\",\"colorbar\":{\"title\":{\"text\":\"Altitude\",\"side\":\"right\"}},\"z\":[[8.83,8.89,8.81,8.87,8.9,8.87],[8.89,8.94,8.85,8.94,8.96,8.92],[8.84,8.9,8.82,8.92,8.93,8.91],[8.79,8.85,8.79,8.9,8.94,8.92],[8.79,8.88,8.81,8.9,8.95,8.92],[8.8,8.82,8.78,8.91,8.94,8.92],[8.75,8.78,8.77,8.91,8.95,8.92],[8.8,8.8,8.77,8.91,8.95,8.94],[8.74,8.81,8.76,8.93,8.98,8.99],[8.89,8.99,8.92,9.1,9.13,9.11],[8.97,8.97,8.91,9.09,9.11,9.11],[9.04,9.08,9.05,9.25,9.28,9.27],[9,9.01,9,9.2,9.23,9.2],[8.99,8.99,8.98,9.18,9.2,9.19],[8.93,8.97,8.97,9.18,9.2,9.18]]}];\n",
       " var layout_4RmWeK2p7P = {\"height\":350,\"width\":350,\"hovermode\":\"closest\",\"title\":{\"text\":\"Surface\"},\"showlegend\":true,\"margin\":{\"l\":50,\"r\":50,\"t\":50,\"b\":50}};\n",
       " var config_4RmWeK2p7P = {\"responsive\":true,\"scrollZoom\":true,\"displaylogo\":false};\n",
       " Plotly.newPlot(\"graph_4RmWeK2p7P\", traces_4RmWeK2p7P, layout_4RmWeK2p7P, config_4RmWeK2p7P);\n",
       "\n",
       "  var traces_nJtlkRults = [{\"name\":\"XfiXBkn1il\",\"type\":\"scatter\",\"mode\":\"markers\",\"marker\":{\"color\":[65.64609649196593,59.59415925394149,3.4832733059340955,79.93987796394879,94.88550625120179,40.27924620436763,84.98720387763855,59.43387962041079,50.83658108927857,64.8505515073827,24.70497840489957,110.96522504844262,31.70023866157068,52.2493975637209,65.09514556915545,111.28490909041331,71.91258534372778,115.343660523215,113.46335397939346,66.19051362554289,25.026994063132605,60.40369850613313,114.07939335007873,121.20252262441545,84.84470199899124,118.93465295842776,49.987185504584374,103.91493003126675,118.52750478619667,111.69724515226319,127.19629474606486,113.13549155138512,94.11739595836536,107.3469112581203,116.6974845013176,109.0911264558788,46.70455693818606,78.84369652127502,55.6237231557523,126.25916729165397,42.42637917443093,79.63308820894349,137.88195884865863,125.79524531991447,67.54671906541866,58.57051178399197,56.709885553230734,128.06380813902382,91.05588765250715,107.65996392945377,96.86582592643633,117.4374338347364,123.5483555951012,89.899847496962,112.53878253154696,91.31618098854489,122.57654590013499,125.87677093214795,68.56958211505628,133.2284716346855,75.24547423041686,127.22070389748622,67.20295898769743,125.91009759113771,122.50439276865004,152.63256832785657,130.34436788435653,84.41810493809562,76.4080835039857,127.91795143544354,158.1741319680234,81.62148419399807,121.56170857054406,115.30833900290312,138.97554423395096,158.82074961231075,85.02967746286151,139.32388101120225,142.16236154160663,162.78361658080797,105.18030012012046,176.5293841341844,86.74509662003253,127.14417820665679,129.2544469493643,94.7578696073742,140.8543668668012,120.89814246749211,121.8878187610911,183.72368365717273,174.44352012904255,119.63678552822401,172.38286648840818,153.41982937061834,156.92161532053822,116.19752997306557,147.21776430332977,189.2918186586792,164.22177595614653],\"colorbar\":{\"title\":{\"text\":\"3rd Dimension\",\"side\":\"right\"}}},\"x\":[1,2,3,4,5,6,7,8,9,10,11,12,13,14,15,16,17,18,19,20,21,22,23,24,25,26,27,28,29,30,31,32,33,34,35,36,37,38,39,40,41,42,43,44,45,46,47,48,49,50,51,52,53,54,55,56,57,58,59,60,61,62,63,64,65,66,67,68,69,70,71,72,73,74,75,76,77,78,79,80,81,82,83,84,85,86,87,88,89,90,91,92,93,94,95,96,97,98,99],\"y\":[1,2,3,4,5,6,7,8,9,10,11,12,13,14,15,16,17,18,19,20,21,22,23,24,25,26,27,28,29,30,31,32,33,34,35,36,37,38,39,40,41,42,43,44,45,46,47,48,49,50,51,52,53,54,55,56,57,58,59,60,61,62,63,64,65,66,67,68,69,70,71,72,73,74,75,76,77,78,79,80,81,82,83,84,85,86,87,88,89,90,91,92,93,94,95,96,97,98,99]}];\n",
       " var layout_nJtlkRults = {\"height\":350,\"width\":350,\"hovermode\":\"closest\",\"title\":{\"text\":\"Scatter With Color\"},\"showlegend\":false,\"margin\":{\"l\":50,\"r\":50,\"t\":50,\"b\":50}};\n",
       " var config_nJtlkRults = {\"responsive\":true,\"scrollZoom\":true,\"displaylogo\":false};\n",
       " Plotly.newPlot(\"graph_nJtlkRults\", traces_nJtlkRults, layout_nJtlkRults, config_nJtlkRults);\n",
       "\n",
       "  var traces_zQZM6Nk4gS = [{\"name\":\"VoLT0Wi83o\",\"type\":\"heatmap\",\"z\":[[87.55344801632337,20.03683503235366,32.49267287074582,5.9135647324578064,21.512853689555286,33.16621806360992,70.41444071828698,94.53918835872692,63.91664290438708,15.960391968755573],[106.51766109749596,74.6381008018491,87.06820545982818,22.450079121127096,81.72568637461224,103.19871422557367,94.12066010159909,99.89831166484332,65.69834781282162,108.01768705736059],[41.206504507437685,33.08862756829856,103.65915997923003,50.938058985588896,85.84911701236497,29.699960334056474,59.208020661481875,92.46613235790531,109.68158815335426,34.75953333030667],[50.02190757248713,102.83847710119723,130.78357573029612,77.10648458105686,92.19364152035394,93.61440528880976,116.35699681794128,118.86540281767901,65.93154806718208,75.99811188182977],[129.996547503594,100.1202941911194,90.44040515362144,87.34863199583748,99.47117473982469,145.29595224001625,49.02682250797158,65.7146449686554,70.71780101710621,125.19509716155865],[136.81973073565013,93.73505987597284,121.65876644375774,149.20604970427777,112.96944957494608,77.87523552947627,145.48956403676846,95.88711605554818,126.78634926861551,76.72260698522827],[77.24366052927786,76.95027101046594,153.0028380409372,142.94433866293548,129.7262977416421,69.60812109168343,115.19006237762554,97.5136218666163,125.31937460995346,145.3145563155502],[98.33331008266066,111.94005397847387,158.69460870234502,169.1208785022642,151.66784519615788,134.4934848344203,102.1324128584499,143.18561779387812,161.09947481716583,159.789639299726],[169.92896665521505,120.41766372975103,126.88188149054184,107.6096702024988,91.28424586656703,119.7987115419468,116.69534412387713,146.45478308832128,102.0988325190808,133.62246258128755],[176.86918212962024,170.0908952773515,155.26750478740064,128.70441566014296,175.21285471061447,111.21728171165147,166.3428342565984,108.55747340289778,117.76838920442523,155.39698528943583]]}];\n",
       " var layout_zQZM6Nk4gS = {\"height\":350,\"width\":350,\"hovermode\":\"closest\",\"title\":{\"text\":\"Heatmap\"},\"showlegend\":true,\"margin\":{\"l\":50,\"r\":50,\"t\":50,\"b\":50}};\n",
       " var config_zQZM6Nk4gS = {\"responsive\":true,\"scrollZoom\":true,\"displaylogo\":false};\n",
       " Plotly.newPlot(\"graph_zQZM6Nk4gS\", traces_zQZM6Nk4gS, layout_zQZM6Nk4gS, config_zQZM6Nk4gS);\n",
       "\n",
       "var save_sLYD30rQ3x = document.getElementById(\"saveAsPNG_sLYD30rQ3x\")\n",
       "save_sLYD30rQ3x.onclick = async function() {\n",
       "    const grid = document.getElementById(\"grid-container_sLYD30rQ3x\")\n",
       "    const graphs = grid.getElementsByClassName(\"graph\")\n",
       "\n",
       "    const images = []\n",
       "\n",
       "    const rows = 2\n",
       "    const cols = 2\n",
       "    const img_width = 400\n",
       "    const img_height = 400\n",
       "    var margin = 50\n",
       "\n",
       "    for (var i=0; i<rows; i++) {\n",
       "      for (var j=0; j<cols; j++) {\n",
       "        const image = await Plotly.toImage(graphs[i * cols + j], {format: 'png', width: img_width, height: img_height})\n",
       "        images.push(image);\n",
       "      }\n",
       "    }\n",
       "\n",
       "    const positioned_images = []\n",
       "\n",
       "        for (var i=0; i<rows; i++) {\n",
       "            for (var j=0; j<cols; j++) {\n",
       "\n",
       "                const obj = {\n",
       "                    \"src\": images[i*cols + j],\n",
       "                    x: j*img_width+margin,\n",
       "                    y: i*img_height+margin\n",
       "                }\n",
       "\n",
       "                positioned_images.push(obj)\n",
       "            }\n",
       "        }\n",
       "\n",
       "        mergeImages(positioned_images, {\n",
       "            width: img_width*cols+60, height: img_height*rows+60\n",
       "        })\n",
       "        .then(b64 => {\n",
       "            var a = document.createElement(\"a\");\n",
       "            a.href = b64;\n",
       "            a.download = \"Image.png\";\n",
       "            a.click();\n",
       "            a.remove()\n",
       "        });\n",
       "}\n",
       "</script> \n"
      ]
     },
     "metadata": {},
     "output_type": "display_data"
    }
   ],
   "source": [
    "// it may be necessary to play around with the chart dimensions and margin  in order to ensure a good fit on screen.\n",
    "val dim = 350\n",
    "\n",
    "// The canvas has an underlying grid. By default the underlying grid is 1x1, but we can pass in the dimensions we \n",
    "// require by passing in parameters in the constructor.\n",
    "Canvas(2, 2)\n",
    ".setChart(0, 0, chart1.setDimensions(width = dim, height = dim).setMargin(l=50, r=50, t=50, b=50))\n",
    ".setChart(0, 1, chart2.setDimensions(width = dim, height = dim)setMargin(l=50, r=50, t=50, b=50))\n",
    ".setChart(1, 0, chart3.setDimensions(width = dim, height = dim)setMargin(l=50, r=50, t=50, b=50))\n",
    ".setChart(1, 1, chart.setDimensions(width = dim, height = dim)setMargin(l=50, r=50, t=50, b=50))\n",
    ".plotInline"
   ]
  },
  {
   "cell_type": "markdown",
   "metadata": {},
   "source": [
    "#### Map\n",
    "\n",
    "We can also create maps using the composition technique below."
   ]
  },
  {
   "cell_type": "code",
   "execution_count": 45,
   "metadata": {},
   "outputs": [],
   "source": [
    "import org.carbonateresearch.picta.options.{Margin, Line}\n",
    "import org.carbonateresearch.picta.Map"
   ]
  },
  {
   "cell_type": "code",
   "execution_count": 46,
   "metadata": {},
   "outputs": [
    {
     "data": {
      "text/html": [
       "<div id=\"grid-container_AZXJpwhwqH\" class=\"grid-container\" align=\"center\"> \n",
       "<div id=\"grid_AZXJpwhwqH\" class=\"grid\" align=\"center\"> \n",
       "<div id=\"graph_wWKKF7nXSr\" class=\"graph\"></div> \n",
       "</div> \n",
       "</div> \n",
       "<script>\n",
       "var masonry = new Macy({\n",
       "    container: '#grid_AZXJpwhwqH',\n",
       "    debug: true,\n",
       "    mobileFirst: true,\n",
       "    columns: 1,\n",
       "    margin: {\n",
       "        x: 0,\n",
       "        y: 0\n",
       "    }\n",
       "  });\n",
       "\n",
       "  var traces_wWKKF7nXSr = [{\"name\":\"dKphvHPsML\",\"lat\":[40.7127,51.5072],\"lon\":[-74.0059,0.1275],\"type\":\"scattergeo\",\"mode\":\"lines\",\"line\":{\"width\":2,\"color\":\"red\"}}];\n",
       " var layout_wWKKF7nXSr = {\"height\":550,\"width\":600,\"hovermode\":\"closest\",\"title\":{\"text\":\"Map\"},\"showlegend\":false,\"geo\":{\"resolution\":50,\"showland\":true,\"showlakes\":true,\"coastlinewidth\":2,\"landcolor\":\"rgb(204.0, 204.0, 204.0)\",\"lakecolor\":\"rgb(255.0, 255.0, 255.0)\",\"lataxis\":{\"range\":[20,60],\"showgrid\":true,\"dtick\":10},\"lonaxis\":{\"range\":[-100,20],\"showgrid\":true,\"dtick\":10}}};\n",
       " var config_wWKKF7nXSr = {\"responsive\":false,\"scrollZoom\":false,\"displaylogo\":false};\n",
       " Plotly.newPlot(\"graph_wWKKF7nXSr\", traces_wWKKF7nXSr, layout_wWKKF7nXSr, config_wWKKF7nXSr);\n",
       "</script> \n"
      ]
     },
     "metadata": {},
     "output_type": "display_data"
    }
   ],
   "source": [
    "// draw a line on the map that is red\n",
    "val line = Line(width = 2) setColor \"red\"\n",
    "\n",
    "// construct the map Series. It is an XY chart as it takes in a List of Longitude and Latitude\n",
    "val series = Map(List(40.7127, 51.5072), List(-74.0059, 0.1275)) drawSymbol LINES drawLine line\n",
    "\n",
    "// These are options that further specify the options for the map\n",
    "val geo = MapOptions(landcolor = RGB(204, 204, 204), lakecolor = RGB(255, 255, 255))\n",
    "              .setMapAxes(LatAxis(List(20, 60)), LongAxis(List(-100, 20)))\n",
    "\n",
    "val chart = (\n",
    "    Chart()\n",
    "    addSeries series\n",
    "    setConfig(false, false)\n",
    "    setMapOptions geo\n",
    "//     setMargin(l=0, r=0, t=0, b=0)\n",
    "    showLegend false\n",
    "    setTitle \"Map\"\n",
    ")\n",
    "\n",
    "chart.plotInline"
   ]
  },
  {
   "cell_type": "markdown",
   "metadata": {},
   "source": [
    "### Animated Charts\n",
    "\n",
    "We can also create animated charts. This can be useful for tracking the evolution of a data over time.\n",
    "\n",
    "All `Series` types should be supported.\n",
    "\n",
    "#### 2D Animated Chart"
   ]
  },
  {
   "cell_type": "code",
   "execution_count": 47,
   "metadata": {},
   "outputs": [],
   "source": [
    "import org.carbonateresearch.picta.ColorOptions._\n",
    "\n",
    "def genRangeRandomInt(min: Int = 0, max: Int = 10000) = min + (max - min) * scala.util.Random.nextInt()\n",
    "def genRangeRandomDouble(min: Double = 0.0, max: Double = 10000.0) = min + (max - min) * scala.util.Random.nextDouble()\n",
    "\n",
    "// creates random XY for testing purposes\n",
    "def createXYSeries[T: Color]\n",
    "(numberToCreate: Int, count: Int = 0, length: Int = 10): List[XY[Double, Double, T, T]] = {\n",
    "    if (count == numberToCreate) Nil\n",
    "    else {\n",
    "      val xs = List.range(0, length).map(x => genRangeRandomDouble())\n",
    "      val ys = xs.map(x => genRangeRandomDouble())\n",
    "      val series = XY(x = xs, y = ys, name = \"series \" + count).drawMarkers\n",
    "      series :: createXYSeries(numberToCreate, count + 1, length)\n",
    "    }\n",
    "}\n",
    "\n",
    "def createXYZSeries(numberToCreate: Int, count: Int = 0, length: Int = 10): List[XYZ[Double, Double, Double]] = {\n",
    "    if (count == numberToCreate) Nil\n",
    "    else {\n",
    "      val xs = List.range(0, length).map(x => genRangeRandomDouble())\n",
    "      val ys = xs.map(x => genRangeRandomDouble())\n",
    "      val zs = xs.map(x => genRangeRandomDouble())\n",
    "      val series = XYZ(x = xs, y = ys, z = zs, name = \"series \" + count, `type` = SCATTER3D).drawMarkers\n",
    "      series :: createXYZSeries(numberToCreate, count + 1, length)\n",
    "    }\n",
    "}"
   ]
  },
  {
   "cell_type": "code",
   "execution_count": 48,
   "metadata": {
    "scrolled": false
   },
   "outputs": [
    {
     "data": {
      "text/html": [
       "<div id=\"grid-container_TacXWOIrAX\" class=\"grid-container\" align=\"center\"> \n",
       "<div id=\"grid_TacXWOIrAX\" class=\"grid\" align=\"center\"> \n",
       "\n",
       "<div align=\"center\">\n",
       "  <div id=\"graph_8HPkCYWJLQ\" class=\"graph\"></div>\n",
       "  <div class=\"animationInterface\">\n",
       "    <button id=\"play_8HPkCYWJLQ\" class=\"picta-button\">&#9658</button>\n",
       "    <button id=\"pause_8HPkCYWJLQ\" class=\"picta-button\">&#9616;&#9616;</button>\n",
       "    <button id=\"prev_8HPkCYWJLQ\" class=\"picta-button\"><</button>\n",
       "    <button id=\"next_8HPkCYWJLQ\" class=\"picta-button\">></button>\n",
       "\n",
       "    <div id=\"sliderContainer_8HPkCYWJLQ\" class=\"progressBar\"></div>\n",
       "    <div id=\"counterContainer_8HPkCYWJLQ\" class=\"inline-div\">\n",
       "        <h3>Frame: </h3> <h3 id=\"value_8HPkCYWJLQ\">0</h3>\n",
       "    </div>\n",
       "   </div>\n",
       "</div> \n",
       "\n",
       "</div> \n",
       "</div> \n",
       "<script>\n",
       "var masonry = new Macy({\n",
       "    container: '#grid_TacXWOIrAX',\n",
       "    debug: true,\n",
       "    mobileFirst: true,\n",
       "    columns: 1,\n",
       "    margin: {\n",
       "        x: 0,\n",
       "        y: 0\n",
       "    }\n",
       "  });\n",
       "\n",
       "var graph_8HPkCYWJLQ = document.getElementById('graph_8HPkCYWJLQ')\n",
       "\n",
       "var layout_8HPkCYWJLQ = {\"height\":550,\"width\":600,\"hovermode\":\"closest\",\"title\":{\"text\":\"Animation XY\"},\"showlegend\":true,\"xaxis\":{\"title\":{\"text\":\"X Variable\"},\"showgrid\":true,\"zeroline\":false,\"showline\":false,\"range\":[0,10000]},\"yaxis\":{\"title\":{\"text\":\"Y Variable\"},\"showgrid\":true,\"zeroline\":false,\"showline\":false,\"range\":[0,10000]}}\n",
       "var frames_8HPkCYWJLQ = [{\"name\":\"series 0 (F0)\",\"data\":[{\"name\":\"series 0 (F0)\",\"type\":\"scatter\",\"mode\":\"markers\",\"x\":[9505.167380022323,1309.031026443558,836.4694514820559,449.31252977729264,2185.3290935709224,9742.401217484401,9738.99049814992,170.36009360730242,9821.164394893645,2507.9538672616773,1932.4563942716377,4337.294463991526,1904.8845107224122,4554.592185215076,2450.3267554076715,1134.9646084825938,2374.1672673589233,5088.047945722612,5210.615353277975,1612.7487136336772,9509.298187480263,5328.659300993582,4364.1476196135245,4665.427399322797,6831.984706810474,5727.010933643004,852.4064980655188,5568.751369917854,7271.774505334713,1341.357918349102],\"y\":[117.65721365860404,5333.19683066038,7797.645885422846,6903.017196896175,8245.924716062957,3617.9105022483272,1956.4842916696102,3730.6767053677413,5473.798234643205,6237.864950790741,3316.7955299741657,9101.834475698555,7952.919797032921,9400.759610951667,3685.1499936967093,4949.354559473061,941.4078092275524,6726.218532603803,6144.487745436139,6823.379117101267,9179.356780631975,1828.3535687553476,4457.5641348240215,5943.615803154545,3105.946111617468,8783.772504199533,7185.4428008464865,6864.27286551147,2788.5778384143646,5160.632636600894]}]},{\"name\":\"series 1 (F1)\",\"data\":[{\"name\":\"series 1 (F1)\",\"type\":\"scatter\",\"mode\":\"markers\",\"x\":[6990.0997146630325,783.6885477402134,4959.859506693893,7450.353236147058,3021.8269729053395,9852.962913216412,2396.131271210995,6722.114961226179,7036.276168515615,972.6668282256967,9021.638080897132,3111.2921859542585,1942.6199013267587,8513.967844205758,8585.324895417787,1356.480234378531,4853.443794376346,4160.281023726904,9532.634464275381,6015.790437567565,5388.632606124971,8637.812290852215,3782.572751886141,4221.6084228661475,3979.6481026227225,4488.137241074443,2520.7004535471556,5874.0206714391015,4227.2348839194165,1233.2119681705522],\"y\":[7831.592634467096,6026.634237652689,7984.739455120572,4292.989505564679,5019.7118413600265,1884.5265814402844,1770.8593312575306,6838.072724778937,6805.517932978066,7312.581474719969,8359.785649121031,9394.605510891346,7234.035353892099,1043.481133258385,7953.3407865451645,5465.865647811663,95.98896174173976,878.1379704094527,9208.854079275116,2694.791783929411,3937.0069843915567,5087.370162560301,1578.15702297324,8163.940594308503,3318.283319658346,3952.1358255080886,6907.225230961558,3314.135961657052,3892.480765701294,8920.659205787164]}]},{\"name\":\"series 2 (F2)\",\"data\":[{\"name\":\"series 2 (F2)\",\"type\":\"scatter\",\"mode\":\"markers\",\"x\":[52.62881347831705,8660.33951577755,7071.548143280854,4214.297119248546,5390.097209214007,993.0331534744963,8588.511532416906,5880.008795265311,8522.146317712728,6075.675599241216,4093.1986417317103,6265.809543971982,235.84864437869112,7983.556246874012,4072.23362145151,7686.601401409483,2818.4822217419637,2176.636387712626,9846.543614262315,7651.29344822211,7207.917071085428,3158.73437300494,2174.9982420917913,9438.138175652213,3136.253588555945,9147.676083848206,4080.7004766486743,6033.7225583503,3419.3598981457053,5565.798868547429],\"y\":[9916.83347597549,2492.075307891998,7851.595755838325,6357.458701496572,3401.863849985718,1623.8615800340383,1784.1578226754796,7149.964154188422,8379.285987290259,591.6537562516511,9397.111356667538,7096.615406244403,7394.988524440167,1465.783322317512,1919.3241552719608,6875.302195561291,4835.710713304082,7086.293280526539,6607.15474485565,8763.37599604582,3334.950031960582,4680.0269809546935,3161.881772187176,969.2732730769116,4428.068882125876,3597.905803712783,447.5179553368525,2473.6416628320812,7026.245503149629,265.9600001463036]}]},{\"name\":\"series 3 (F3)\",\"data\":[{\"name\":\"series 3 (F3)\",\"type\":\"scatter\",\"mode\":\"markers\",\"x\":[7864.771235833371,6517.477910489442,179.2963809755377,2984.6976173848307,2543.5772147128955,572.0559314500928,9810.29662668687,1564.9079061658322,5635.751874068863,8135.1902299330295,2630.307664739442,1954.0158278414976,8420.963375652476,3020.640693309098,4279.418504094212,3985.6120732743993,1683.3586890471431,9942.23676370883,2890.6940243409986,1175.8086332956907,9872.820729175764,6141.558179891749,3736.5146536104035,5093.578846844159,4933.9771095952665,7567.781214075972,5392.182671300965,3248.2559466140137,3367.7142157597627,9690.560205573527],\"y\":[2939.5635205886138,8665.88512499064,4084.0991284565707,7411.580606936184,9133.915234499718,1367.1361540853466,3912.248669731839,737.6900697608269,169.95667367770585,6812.996894593793,2251.821869788286,2888.271915055398,8708.610709905872,4050.4911126600564,6282.46302361357,5331.796734158165,3163.7518835328506,6769.169920827404,3391.6513086852306,9881.254522206222,8898.67615314919,3770.151376342826,8038.0609462138345,1425.425547587733,3944.9049141005753,1452.9905016870348,6136.675838904617,6132.730062566211,9131.322928639043,9841.683381651734]}]},{\"name\":\"series 4 (F4)\",\"data\":[{\"name\":\"series 4 (F4)\",\"type\":\"scatter\",\"mode\":\"markers\",\"x\":[1233.5404686042884,9036.64625175882,99.53972145104851,5399.6207927703435,3232.1695048367515,1796.461355971355,6581.75813809984,8424.323637564594,2240.2865304677534,6124.384850090358,2530.3223058129665,166.3104135959992,7224.688029274724,879.8139850164222,9213.50628550986,4982.45874413878,1593.6875853423217,1153.8152301066839,2229.999327394181,5812.7384681861095,5570.720805789127,5801.641564049363,2544.9299817510764,7060.217849847471,8279.338781641422,5828.379580201388,1113.1647199866657,7557.7444874486455,828.9616147318868,9792.580257708176],\"y\":[6431.007353659573,7720.736148301096,5372.394571606157,3964.996098992548,4445.314295351877,9214.016076869297,4100.259965076537,4364.311140355814,649.4325020925684,2501.6553538446883,6444.13333957599,4989.01759914038,4908.256713285715,7502.292298589897,2379.3136604506417,1574.3560285673652,580.0979403003493,5238.420278240558,4649.797125251494,3025.5044957396194,840.9352224236743,3846.645579493827,2982.170228514759,3312.9666446237793,6767.025729748154,606.9375224327999,8911.767319701697,5063.371981361529,3694.729962295744,2752.405570218116]}]},{\"name\":\"series 5 (F5)\",\"data\":[{\"name\":\"series 5 (F5)\",\"type\":\"scatter\",\"mode\":\"markers\",\"x\":[713.5940122475604,2338.6726686605675,4651.8042330195385,3737.155331097238,4112.140229353629,4168.978379630762,2242.2991804993344,8368.288119241646,5938.364997669549,2289.0484629199336,3267.5993616146548,9749.130549467529,4708.763460222381,6225.711573685528,3579.0229715178843,3334.2885401382714,4220.570572407557,6393.262461132856,4182.797312780772,8563.141804646815,3688.7997743341193,1176.141171958528,3456.1121378843995,6516.9067319867945,694.9524898363735,7112.970869124713,4483.344916473648,2835.414180343393,1273.8739316765268,2243.2948722490733],\"y\":[984.4446626304692,8733.261617393064,4834.373734972531,1438.1184030722716,82.8474923135103,9371.016220873364,290.87133029748304,9107.625419925103,5248.192319214193,8065.661191517457,3777.462872990851,9064.210319208853,8149.490263128467,6865.492223688693,7622.4488007638465,3516.2258016616897,3867.2995353385577,8868.188254266202,4880.505270404564,3177.6143635861445,9938.840021199427,5326.792965953664,3651.3175014102426,8300.860486165044,6047.877558394327,1066.8655113366099,657.6370561460221,6075.459503392707,7821.597191618684,5029.065812771387]}]},{\"name\":\"series 6 (F6)\",\"data\":[{\"name\":\"series 6 (F6)\",\"type\":\"scatter\",\"mode\":\"markers\",\"x\":[4112.365944687728,3281.3714708756825,5159.575815421565,8854.963320024302,1773.4090519204926,4346.690291955042,2795.3534242543365,5349.868768193657,1266.6795992693658,4031.022550257264,8378.994185876112,385.0083265586979,6251.779891831295,840.8421642993513,1269.4216549830205,6342.368746063568,3811.523831623869,1980.3448114956445,3438.1962174499913,2559.0640939844698,5565.603996026849,3151.098378045012,2411.80099474631,8394.089143364818,7440.351772614967,6836.046549697261,5017.389163900419,7518.8350383152465,770.673990896934,838.1914378162836],\"y\":[9847.33556398364,7823.765726528418,466.89679478607803,4791.546659603701,5820.830055572548,9937.16529351794,4348.380930888728,6121.712474658108,3996.1344738744997,8767.878223050724,1427.4176678930694,8505.700283846973,9875.023458053205,6712.492242210055,5921.056757347325,5265.389406985747,3841.311699413703,4208.413574135445,8075.152427560192,7326.271676943026,8088.2696081000895,3167.8134431239146,2504.0591457016394,382.8989191760479,9415.110140026078,1493.4306994051606,9681.04909912778,8734.722841530647,8610.629997894011,2355.7366014923377]}]},{\"name\":\"series 7 (F7)\",\"data\":[{\"name\":\"series 7 (F7)\",\"type\":\"scatter\",\"mode\":\"markers\",\"x\":[6458.6605686971925,3890.7707746500996,8792.471667482403,201.9831019240248,7054.831770258385,4488.877589918991,7033.367979171567,6571.167364602017,6809.808656036625,334.9516602234337,5881.116935282291,2704.965662804307,7200.467099631917,7440.023552480646,3966.9318308148404,2673.204216140095,2092.814239205628,2817.587451102577,7797.194886620724,273.44620046939605,2020.0920649764275,7501.015734761195,36.53897904261516,5317.79815730659,5393.033342281246,3750.5878895544342,3115.5680447839018,86.04449306140127,2980.466622154788,7741.943921324732],\"y\":[834.4247159603813,4702.742648522107,4742.607181598253,2162.5368134582714,4783.791958469179,986.9229898505105,6156.012451082953,4089.924622479899,6867.820736630322,7926.553958395066,4538.316227775165,2285.507829947424,3988.8548113689703,8345.949004407763,4562.502428775517,4609.583065655522,6041.720805448305,5562.806872237223,6144.617831899411,648.3519231117873,3765.7383252281984,872.5929879274519,7195.4607386955595,6840.785555041405,8715.501032657423,7551.485683274325,8345.927418180929,1403.0157733811322,3636.8620169074607,4735.1243890943515]}]},{\"name\":\"series 8 (F8)\",\"data\":[{\"name\":\"series 8 (F8)\",\"type\":\"scatter\",\"mode\":\"markers\",\"x\":[6687.338182198687,4170.184646525322,7872.455126523159,5008.9159403813055,812.2020905434823,2110.4546698570516,9071.472907236956,2836.6679852484313,9997.524016858577,4713.141708372674,9441.305470982994,7057.83575790177,6241.896266711914,4712.704381149087,2054.0466910010746,9599.682861794523,9049.257620865214,8682.586259941838,308.755982230966,4279.1734279798775,9346.345281538193,8917.67042705896,1550.7570269148496,4110.4275951618465,727.5013827889653,2721.378223503594,4062.147221520974,2887.089619423736,3339.643369374855,7723.201575360075],\"y\":[5163.080372542487,6974.971357569259,8151.83893546552,2174.731810905385,7001.275470818413,6228.850232976152,7098.077257150864,7307.0066765684705,5757.597120838513,8738.317851662425,7638.459462742591,4779.26680761979,9458.440942449683,2711.089612622175,8653.177382115975,6008.979351272386,9361.05087532628,218.20022865681744,8265.291229267947,1745.2469444934227,9965.78437068757,1754.0290652221836,3182.449828553775,9632.49239963147,3109.7296753324476,7605.111588372767,3454.348861855737,4708.570449183401,2308.977528951094,1875.2106116173738]}]},{\"name\":\"series 9 (F9)\",\"data\":[{\"name\":\"series 9 (F9)\",\"type\":\"scatter\",\"mode\":\"markers\",\"x\":[6161.852413039766,2791.224733979234,4542.229890705071,7680.134951743568,6485.352391710124,9529.074479254348,8006.328336168097,7504.3118900718655,4844.075106818292,8528.08188457592,6024.66831106745,1002.1312692125117,4354.685789792783,411.71308999923497,9252.362594206306,3630.5996765067016,3726.6893424616896,932.7751891253732,597.4006903437856,3415.8516652798876,6893.752334061048,327.17632491569447,9864.94786279854,9884.590550093164,2174.2281070190584,7984.619449504392,8032.314134253937,8732.535239330637,560.7941683342788,6208.509262337275],\"y\":[4275.016969013626,8155.476392178091,4858.258910126425,4347.1142408239375,2389.7501759030115,7934.553035068221,8820.234807125471,9900.29421030868,7097.95971243672,345.87914928929763,8179.511901814688,6340.8676876952095,4864.127342773404,2755.6652356324985,3523.6100835505767,8336.9589810238,8325.739294535137,5365.497540082778,8336.12783619038,3821.4306495347905,8207.320730797264,3988.447800884579,4206.145773111909,8926.774511421392,1678.8009157863116,6965.208274334654,9202.08405790627,6188.5972240554265,1518.8629929744525,7370.457764604831]}]},{\"name\":\"series 10 (F10)\",\"data\":[{\"name\":\"series 10 (F10)\",\"type\":\"scatter\",\"mode\":\"markers\",\"x\":[4713.050594217755,8618.102302565625,6156.831676747165,6513.182750205998,679.8665603581211,2253.740181328905,6692.029101091358,2400.6930355580034,9069.581104601026,7624.456061993432,3327.4357248686483,7314.583660528654,691.4457709839961,6191.739845270799,304.868021406941,1937.9162927006432,1008.943841737806,1284.938990231338,5391.787881054054,9576.403591927266,6471.620908852743,4304.069894032954,7245.2422472510525,2932.398296944131,4072.098453491818,6036.619680053423,1566.3248448874845,7619.005651683092,3327.7952637838516,9819.60403507727],\"y\":[4858.940192046534,1142.6481980917624,1693.5206850805162,7975.408591223728,2819.543247501346,3435.9343901366933,1530.244634482103,5459.704269701886,8909.920076020197,5188.69249235671,9186.991129257229,4981.999633916687,7502.957467027366,3203.5514655996667,4496.9409024001625,5994.153138171378,5141.752023747679,7793.461640911595,2045.4704684502144,5889.43457672792,2915.2890833032106,5842.066629252459,3936.994841457697,5514.494609029767,2729.3184214076214,4563.853231939676,7469.124061014969,2668.8596553464063,338.9443885520749,5229.520637666794]}]},{\"name\":\"series 11 (F11)\",\"data\":[{\"name\":\"series 11 (F11)\",\"type\":\"scatter\",\"mode\":\"markers\",\"x\":[116.77902274306095,6651.344141102849,8409.834706036005,3163.026598819084,8535.55905903228,4110.029639108759,3587.8459447486644,170.28493348274276,7912.792157611332,1462.2302720886016,2582.255329521821,8225.499043508786,2926.334153093555,1973.1286570007933,3605.676318022464,8719.642077953717,1815.3332633911468,6216.532211049953,1164.1253560014363,9866.598652273517,623.8089313019634,3088.464455937452,4153.603482584601,5966.005591907525,5547.039321016066,4804.073479028644,9494.940274724413,6137.843480287356,7492.389744181337,3380.6021891366113],\"y\":[6126.5423737447,6872.3452004935525,4460.356820449718,7993.935553553823,7075.077839809422,2279.803507863454,4158.240776354873,2293.4991012835935,537.0206668937338,8278.378149920944,1378.005408074613,8270.054765013801,4429.363848410767,2124.0120901115833,2101.5160990984627,8593.202706529064,2705.7109361172684,6665.090728912708,9040.496655839048,2470.162600868466,5884.333806068999,9495.486357509066,1375.1805850668875,1024.675390639026,2697.6875090545373,783.1492474703206,4824.772201302332,6954.633336223038,4548.252763295179,9967.421873576392]}]},{\"name\":\"series 12 (F12)\",\"data\":[{\"name\":\"series 12 (F12)\",\"type\":\"scatter\",\"mode\":\"markers\",\"x\":[6864.480749209884,9799.306021682849,9543.475610591573,746.7673623885485,5898.021074623048,2531.802946536801,8282.95832690028,5819.621379672157,2501.1255740667093,7389.674108281266,9283.95193156769,7694.588331562831,5470.74172822931,8866.317633052013,7956.585181311624,9552.222709581198,5346.243375345198,9608.127015294427,9378.160713310685,619.1481179534486,3313.1086597215385,597.0798655243459,1766.2375389981155,3806.2857784163684,3956.1749894913746,445.732572222336,4513.107240894842,9466.477403708197,6198.707281101537,9891.349900311065],\"y\":[1919.6695688797117,8042.802908943947,7945.166284417567,6648.170638935776,1354.5912713152231,6107.410893999368,6439.7002776396885,2661.566729590533,2465.0377631513165,4831.694858544735,8159.023180821499,505.12588950424765,2278.1429600245383,7282.161002501295,9177.486501770843,8171.452603751172,9557.785961948766,1102.3545002408653,9373.789726572722,1829.7433670822638,619.1238865319093,6119.721094314596,1592.9148257668403,4257.962475020269,7953.728262885801,2207.300446494531,9933.514423255634,2604.710486230847,2481.0567110853076,1333.6611152104417]}]},{\"name\":\"series 13 (F13)\",\"data\":[{\"name\":\"series 13 (F13)\",\"type\":\"scatter\",\"mode\":\"markers\",\"x\":[9700.117649360718,2895.6379595165636,17.389268291007063,9150.504133830622,5241.166017897691,271.5278551994327,2641.2419653176266,5695.876387158441,888.0244744138266,3329.9345418718153,6034.666226621344,1831.951688413973,4516.7601591759485,8139.5299868418115,4592.731096813633,7889.853069563673,2873.6177841092726,2506.07856486725,7118.875426607691,3660.004016127425,2736.7611858686037,3891.220729382919,7261.711364751315,4345.013971902953,2230.995885593854,5020.02012052685,4499.243898836144,5383.117554868485,2168.820372338831,9660.483666146232],\"y\":[3439.3707379994166,153.70397035490035,8160.302941895171,7318.042333921124,1480.910496954021,8492.486673919177,415.9143772769847,9660.23179391795,7467.30085151623,672.3813218170816,9660.590926541858,3371.5917405130026,6865.498530791432,1047.1732128449373,4383.944847959413,3836.0573996099565,2215.503564728273,7908.574202410628,6770.672758138141,1553.8889817007916,1121.3211178608906,1273.2818350971443,2086.8625537209086,8522.44637039196,7892.062679506784,8295.168093313343,9042.032465907781,4944.885785988536,9092.284480263903,6788.747657350617]}]},{\"name\":\"series 14 (F14)\",\"data\":[{\"name\":\"series 14 (F14)\",\"type\":\"scatter\",\"mode\":\"markers\",\"x\":[6703.379012555834,7578.117186402513,7723.543008659373,953.5817763997745,6907.854251161804,9791.1285780258,5534.548341810242,9805.29550030294,9799.326972888164,9977.049799784847,8045.178129037385,8047.401213313738,4112.230260734764,9347.091777220816,2270.00872688464,1159.1347632753257,3129.732341896463,2331.764723662966,2839.91355503044,1328.0272078066469,1863.6125881284893,2824.543586860562,8245.664029500158,8521.952472091543,934.6619771720666,7325.415374135592,5265.362419717791,1473.9029212174814,7876.571330064784,1676.5062178546652],\"y\":[6287.927642416181,6643.766043883048,7142.907027370094,1529.2567456182483,1207.7397288957015,9324.883920956046,5965.919669331866,7942.373124519271,2840.949132347428,9979.200180941949,4397.566462148928,8582.052941070377,2401.836075046575,613.3102008486735,4357.271462410525,1880.7470591628871,9478.007027624466,548.7468295667597,4317.59174365652,6207.984923804301,9156.095311847144,8293.348143120225,3378.0889500034996,8616.558766175574,7475.0349808147075,6386.575819772244,909.3573543649613,8049.622279011573,5221.855064624664,9070.157465028988]}]},{\"name\":\"series 15 (F15)\",\"data\":[{\"name\":\"series 15 (F15)\",\"type\":\"scatter\",\"mode\":\"markers\",\"x\":[5693.290166773401,6029.0321340402215,9235.344447170219,8426.453408174735,1542.3162708665207,3792.520277197753,9845.817036050017,3230.453727631537,4749.470464663011,8607.054359368576,2854.606609986753,6177.335669371995,2402.806961077744,3558.006698213405,4544.805460936039,9376.021673211575,9591.80765159747,4498.519102049152,8615.154235048763,5040.195075716103,7840.069876877717,5040.718292462021,4641.879700854511,8161.747659169838,6717.708959738313,5480.197683836808,8698.669239982852,617.6471362926006,5518.541286225816,4367.451263466872],\"y\":[8102.860599038795,1639.7295096471187,2131.264055176624,2074.7089171743073,3906.3149470608705,7867.935807533426,1790.4807031514624,4153.887958057493,6712.334872652036,7311.02914695107,9262.565655996534,8541.143436139537,3675.3770916415774,5454.842832643351,4203.001175271566,4735.761689666172,7128.199919602744,8486.628186703978,915.961747078935,4965.909912559035,8181.4784407507705,8145.081286889337,553.5587617339677,7051.022402535818,1853.810262249609,5059.151039218322,5911.30058604759,6180.3614878731,3815.4235689023685,2604.7381134035177]}]},{\"name\":\"series 16 (F16)\",\"data\":[{\"name\":\"series 16 (F16)\",\"type\":\"scatter\",\"mode\":\"markers\",\"x\":[6407.967257492875,8149.566815963102,2666.7907618922095,1286.9169676159797,3582.2304770707424,9731.767345101533,5823.743488537757,4446.326001055037,5495.000978819773,2807.092850651821,1543.5740265933339,9691.883186506338,1795.6190086933077,7634.194084488789,4401.995862622016,6878.009165524015,9891.645183950646,7219.643838945531,6618.732436141817,2673.0430594423538,6656.152763837261,9125.852364940252,3029.8895281988434,3806.5642046967428,9413.059402464609,3255.403736624689,3218.158704928733,5936.839467313038,4560.1792924188585,4159.479360787052],\"y\":[337.2903250415282,2745.636938730892,2121.3154079631513,4240.3045912064445,2505.1638419239184,346.1586724901722,9762.855409458387,9852.314954682748,9290.174946545,5380.863334949785,366.970860814142,5754.011582251624,2778.550973379821,1289.4652724283285,3122.6638326484467,4622.234095036458,9985.59181865306,6143.4093929442315,9277.544155325932,7412.8459200415755,961.7311307348319,7171.64095983279,187.36006158813768,7236.600018814084,4844.695798471671,1643.4993566396904,7106.949337447288,4116.206820310102,4321.940288906978,1128.0899927744504]}]},{\"name\":\"series 17 (F17)\",\"data\":[{\"name\":\"series 17 (F17)\",\"type\":\"scatter\",\"mode\":\"markers\",\"x\":[9285.412481224605,500.4000975599676,7492.914133740443,6315.489885422071,9359.95729791079,7733.061409560816,4958.621149746904,2563.6744643953057,2786.998709296398,1810.22490965129,9116.309804260947,2126.055304248983,1105.742032409589,2705.0555085107,2100.033500695183,7618.0404129384715,7198.6185626169145,5300.655053352387,8583.204082296565,2697.0456626591013,4394.577652184519,1542.81690490501,9747.154333732926,158.89734020569924,255.39001475363142,2809.619060396098,5120.119441153487,4694.581008972907,191.74665024503267,8692.006670947532],\"y\":[9703.929543013935,7404.816575018874,5675.086359273034,3389.281634747102,4831.107107649181,1835.940703871034,6742.722647909302,3745.686485806836,2532.942186063495,6779.106653945905,8737.979535496619,3589.028034965959,4849.520313172107,9365.817214613766,8783.690734590205,7479.560126145709,1475.5571152752934,3096.3310813617186,8356.55267381528,3237.1040483462234,1411.2964214519575,9353.489116268584,4511.466315832537,6686.653732373204,6875.60644305089,7683.0304409008195,3799.141229572004,3947.4778967839975,638.810850389302,9662.481027575792]}]},{\"name\":\"series 18 (F18)\",\"data\":[{\"name\":\"series 18 (F18)\",\"type\":\"scatter\",\"mode\":\"markers\",\"x\":[9726.876104068804,6287.9978564438325,1145.6761688539107,3534.2104205760684,6731.570009391128,78.48255397679526,3324.3642524304073,1944.2722858706652,1065.663582709283,9695.872099107235,6815.060145156886,3107.159288242054,1740.842553237636,4369.8033983008,7502.3652002838535,6507.613669536067,2730.9822055046216,906.1769070548031,2698.4395498845583,7854.157944299623,1004.9521877415291,2984.373629771072,5099.274238307252,4415.019113304619,3641.536352116728,4296.491475221416,5724.35322276771,1095.6415434657883,1272.8706925301037,7181.738426626099],\"y\":[1450.3665544717137,9657.991501366934,4409.435313492959,606.3859754732792,8462.520236960981,8335.380953406197,3818.7826285044434,1349.4518345631523,8972.379654772985,6762.546875901799,6061.821892601281,76.5438531903484,4889.077902670371,1619.2405833627754,534.622983436529,9619.06833274133,8781.106498746594,1676.5987536879977,4920.337392348558,6223.263232538211,9428.797393707746,7039.07913694019,1824.985364259395,5793.292399026492,6542.999509380398,6290.765621815005,552.4856938266897,6224.893991501766,6813.338480084515,6983.355112095988]}]},{\"name\":\"series 19 (F19)\",\"data\":[{\"name\":\"series 19 (F19)\",\"type\":\"scatter\",\"mode\":\"markers\",\"x\":[4468.458465932537,3810.8461559498196,1349.843010355488,9444.16352866963,6208.959910342313,6396.7779828536495,2794.6083142766297,1235.9960774116075,109.45797174919613,8475.620133487744,8905.561813588807,9766.746021651947,3660.993649822557,3731.2512718097255,8252.283295581443,3525.101668822034,7544.612583543206,8676.66939080334,2814.224329572289,8209.756104512502,6851.79806137254,6979.273407853013,1734.5606738321405,2623.032704864513,4467.768132912364,7825.615935237621,258.30591182514627,615.8482189331005,1276.1496043035502,3250.2443151118778],\"y\":[7971.198544361258,9599.459568373764,6837.674208863092,8738.021096301125,856.2726705992318,3180.449021062519,8502.189044855355,8606.572999210019,2397.908436787384,5328.923370271209,6532.410919999807,2685.2903575761557,9988.549157474135,6155.913094984341,7749.494309251574,3629.5585804682573,4231.165035475232,4854.478498521484,454.62492052956384,4843.672590646543,380.9324656619284,3650.0408092062708,8937.491945142523,7433.148819951134,3132.4895601451785,7708.975506827585,6751.630157537037,866.9168645175363,8234.515477105937,9870.517810909438]}]},{\"name\":\"series 20 (F20)\",\"data\":[{\"name\":\"series 20 (F20)\",\"type\":\"scatter\",\"mode\":\"markers\",\"x\":[4118.266169289951,6102.135679662873,7001.277826487578,5795.548550295365,6314.4419472597165,1809.1485511252693,2691.1799385483437,4666.841054367044,6707.830924100341,4031.3527108566327,935.2266095314787,2928.8698244116117,219.80199848678495,7124.528421939052,9923.72589744709,3721.2918268463422,429.92578350635523,9142.435674406814,9897.427914012784,2638.7324578516123,6279.261426189633,7970.255040645629,5639.694827155577,1240.519103781379,2386.399566181154,5454.709324563159,129.18946835724253,3337.5248370010668,359.38004405971947,5539.4763075870205],\"y\":[2287.9533447747335,5499.296602256915,7168.242124056143,8986.761983553826,6847.645905622677,2453.160867446289,637.1066693817462,1650.669492365603,9757.096564724428,88.01425688777175,1421.3291327023646,5465.272253966522,8267.221406707466,3629.0231153473064,5454.404018830088,1320.0530025848623,854.7374699031651,6215.467859663002,780.941171109939,817.6480807645137,8484.009088733541,3592.4896669412788,7936.176893646155,9543.59421702844,5356.7402258959855,3918.5091524610993,3589.1188626877447,7925.0427333840635,4262.12649830059,7793.599339410867]}]},{\"name\":\"series 21 (F21)\",\"data\":[{\"name\":\"series 21 (F21)\",\"type\":\"scatter\",\"mode\":\"markers\",\"x\":[3035.5707345575242,7015.174321565948,8915.464192628495,2530.1189962185467,8308.918121732551,5612.3081432875115,3261.111225921044,6415.420940464359,5170.699468413915,2007.4711233268938,5616.077527502444,3257.465383917252,4049.627798730435,8351.450539947562,3743.420248163464,4857.692162215674,7116.867119197646,8142.1271144246975,5470.006314846927,9221.509442913846,6117.01041597843,7655.148150084778,8301.09321401781,5295.283897438844,3318.344713086858,275.75981196443666,634.5781902263892,809.7218643286342,1002.6310436040586,8636.89672269767],\"y\":[6640.643207504412,8413.058171488306,3283.765981653668,3228.3791869246825,6647.9270649918135,6693.472532488117,7726.334783953288,7714.3413781087065,4965.23840678975,6918.680618860222,3229.2028713348795,580.7776278031629,7468.216056971091,3361.654823563449,4945.93679683745,9932.360916094667,1993.2352661044606,4934.947725564911,6632.984586774853,3267.4488324605213,5606.246946318497,8522.108314974188,5748.186004161931,6882.465092981397,4152.128205348597,9873.194311139785,6866.323187834909,191.60323472028784,1140.5149760528166,6222.40144920551]}]},{\"name\":\"series 22 (F22)\",\"data\":[{\"name\":\"series 22 (F22)\",\"type\":\"scatter\",\"mode\":\"markers\",\"x\":[4535.066629944603,8695.068395068192,4986.974720046008,5889.34348312963,7563.805370049541,5588.840307967059,5903.771430345357,4041.5375210792436,2919.498043694523,6081.200892767697,6322.362461154806,524.1583538817196,8897.816801085093,366.04080744681465,1630.1598881389846,5204.14560663267,4044.498180745972,900.2221615181138,1216.9780169596422,8629.262744371621,420.95856847534253,7142.040560110086,3351.982699200713,968.719132093202,7239.868548826783,6230.096395162015,1249.8405937915002,180.4888983084685,3640.5203975561462,1216.6492362309311],\"y\":[1835.1685720780165,1141.4658617712769,7430.470192275317,9416.795666424046,3177.2636805619804,1080.1196547529712,9989.069673332917,2194.577276264361,1342.4931271955986,3067.328948621505,6210.144972400579,4079.389832710839,2499.605882201046,8549.580643805355,2355.224128952752,3490.83090540228,1513.6265083124567,1949.7455830092435,3995.351013859181,9547.388924278306,3976.876167653567,5214.153157346155,838.6655208814575,9444.141166005413,4651.060576128217,7850.701765845556,5172.573008537144,8706.89777958838,1632.2519608087948,8481.263333892852]}]},{\"name\":\"series 23 (F23)\",\"data\":[{\"name\":\"series 23 (F23)\",\"type\":\"scatter\",\"mode\":\"markers\",\"x\":[5893.460439823738,2264.9859317958,2200.984785369582,7222.647431947714,653.5673606193482,7732.147200278427,3282.5758415587716,4313.914360747555,4523.747291120335,3544.770461458321,6718.16870806972,9323.836037723691,4752.508899304886,3678.9642962917956,7134.892787132679,7000.822473399375,7695.856562235863,7552.726722134501,8103.919037772711,368.64754912554474,5799.098025264061,8416.74189775024,488.08798395606476,9024.818910502463,9630.921995460825,6047.096220893202,5406.166727695896,764.4605085920664,2401.6930056385268,9875.473801935972],\"y\":[3078.6933241638503,7631.081808143042,2142.048814866051,6827.155904109236,7970.75291714613,3286.634277594003,9774.528742371875,4084.4138693189125,109.91673105739119,7196.75981918742,9680.099382347886,752.6525333866919,2232.97309901888,2543.1634827176877,3043.0859091083294,3978.9250664446886,2502.965184349303,9003.548237674584,3252.159824099161,4457.206662579988,2938.4418496826493,8580.569114661683,6941.670067813324,3452.0792263337476,4409.719389282445,2514.7841079111677,3876.7498649894083,8482.247824753336,82.34226794345933,9982.585402355853]}]},{\"name\":\"series 24 (F24)\",\"data\":[{\"name\":\"series 24 (F24)\",\"type\":\"scatter\",\"mode\":\"markers\",\"x\":[3817.2678641032376,7627.569228364558,525.8219452642421,4758.618639540831,8739.838145590666,3058.045853427691,5356.121177793166,4313.209370269009,4353.737304734905,2830.498466110636,8243.245675282027,6918.831992635474,5715.725333838125,6258.398531345606,4390.693124049247,6255.67227562042,7930.399737782786,2232.6084855404883,2181.3994268864435,9734.851510795173,4416.859466730363,1755.5390754927346,3585.2157802117645,6298.89454364907,2029.0928486344062,5648.506458300534,1135.8377824911493,1812.537497728791,4436.642630308728,5901.826259309597],\"y\":[2810.4994251161297,5322.992859893305,2603.747300442952,4459.458811413954,9983.636385618423,7447.297689807936,3949.2931898032202,6364.77866917562,7776.11213913185,2935.393065513544,9826.5522181263,5141.3070901800875,1584.4928388338087,3061.092657421083,4330.828713154725,7042.016417639674,8350.244345061405,9909.118930220982,6124.76774870883,7373.0754303453405,6216.620020899975,3854.8966403818,8965.226721749346,6482.673524112684,1621.3941209720094,7574.814546664299,5922.251312705584,5202.8278769986255,8586.48932020137,4778.1735915263]}]},{\"name\":\"series 25 (F25)\",\"data\":[{\"name\":\"series 25 (F25)\",\"type\":\"scatter\",\"mode\":\"markers\",\"x\":[6899.830125208265,9541.840187677199,990.9362395621246,9518.06602499476,8999.757641990289,2247.3384442571773,4951.491898568526,2416.9336043064936,4514.057677818509,4494.602558572034,5085.638819987113,3433.5817960836202,1888.076164108773,4402.139231247302,5394.574364966499,6901.929424007985,865.4829606867953,336.23811541981354,2779.18689596138,3487.798170687727,4208.066051996686,6038.5040495221,8789.917196693741,5438.5591869746595,4877.343791823764,1495.130156936163,3111.7782016717133,6041.467302368844,9371.65629885916,8163.935783147153],\"y\":[498.7138521777934,1560.0332248241255,5031.545642746557,9684.967040274809,1396.853087022386,4083.7953190496632,1557.8670393520122,9522.715607148446,5334.116603334121,6705.372195622792,4731.218952150301,5122.783043730595,5304.019914939006,8229.690229703676,3377.9195513279246,4113.07893279225,834.4072550918902,3223.795943626743,8996.896224916452,1839.4092426694851,7207.24016193166,4631.682081149587,1143.4963001878018,1097.579111117698,8383.460791709787,407.06550667980235,660.369328549184,4308.891797948225,1587.3333080456441,2658.078622231974]}]},{\"name\":\"series 26 (F26)\",\"data\":[{\"name\":\"series 26 (F26)\",\"type\":\"scatter\",\"mode\":\"markers\",\"x\":[7152.209891933061,5583.203092639494,2217.560490014684,7651.343409822028,6720.289671558116,5123.444034035939,8777.86760004548,7688.919769922726,904.3508651267596,1247.7997021124654,8857.62695125082,1350.1319074851815,8023.5736875353505,5940.492611826803,8843.495805385011,6881.291079886926,3664.9674509122256,8289.384651769613,2005.926222689035,4619.853642276188,7936.678470113459,6428.381118618002,1879.7988370596386,8255.561080669635,3285.3496899887136,2674.882430384685,446.3175980385592,1459.6350532773638,8170.804692640188,8437.293391898878],\"y\":[3523.7034449450634,5954.10334459948,8697.971110198554,5164.872246309027,8987.103064061264,9446.859162532803,2425.0966496454985,5121.9586328267815,6963.530818748287,7024.066887966835,5998.958192956938,1090.8933189563052,4985.543080250179,7570.042633725872,1011.894244256748,7242.701594611006,5237.743117739135,7575.755997089888,532.1440359284712,4361.880645692579,5493.098796327053,8300.610660757166,2128.105492038921,1371.4004232209575,111.44887020735017,8668.184935471543,1888.773981490035,1676.2846759601935,2560.4653199149484,5505.120035373682]}]},{\"name\":\"series 27 (F27)\",\"data\":[{\"name\":\"series 27 (F27)\",\"type\":\"scatter\",\"mode\":\"markers\",\"x\":[7936.759357304703,7228.913572994797,6319.727775808423,4773.365275899171,1236.921033994407,5416.44654113358,6741.456362658056,2299.5031319947325,6122.800861354594,3880.539045116954,2466.8421867367165,170.8931753353271,2894.6766747058005,6201.782495452872,1334.804653627325,5446.888597809165,87.19312156922898,7016.068787151068,2370.39259713937,1124.396050084976,4561.178697217887,8577.34720487666,2402.940757964056,5400.564408237853,3443.385802122505,2040.9994899399974,3139.482703076036,4191.402765337671,3119.5384684758,5814.334978123618],\"y\":[2106.8092506762314,3593.645557841153,6980.215901836401,205.46433369296068,8775.955907292071,3518.197914157346,5425.728716672038,2299.081051657941,5395.790918510011,1077.0070548762667,8755.30132852155,7497.445354949584,587.7659253838108,2471.225715628459,5997.498497968716,4487.126865765697,2591.786587049886,5107.046948275834,482.98983256317206,8526.832550862791,8203.54180300164,7456.60269162084,6017.372196485132,3898.9113689712317,2906.531618498979,2784.8411728397605,5880.925164706784,126.88827490322963,7477.414992558465,4279.30427935295]}]},{\"name\":\"series 28 (F28)\",\"data\":[{\"name\":\"series 28 (F28)\",\"type\":\"scatter\",\"mode\":\"markers\",\"x\":[563.7997310437504,8133.651617388491,6431.197794880038,3348.2514396387255,9139.29623455289,1899.682369874951,4073.163956211915,9893.585507791386,3484.5177288399896,8377.972545587992,4637.3494714402605,3218.551459194272,4176.827483930633,3432.059349059805,4016.746253267881,4896.202012653421,1826.186231825716,4385.851187231114,1928.3143657849832,403.12966969587194,7847.575283084099,408.7007617003247,5006.273504267904,4613.987867265934,4234.3612175124745,406.4376807439862,3280.031024645984,7355.836067499831,2762.593257707038,4348.843681109526],\"y\":[4768.498221332531,9137.359707797155,237.86682943209402,8036.313495405304,5510.437580640374,3896.532280745947,7890.527405951989,3193.219569204456,5250.869163621867,5151.303406597183,9831.629610617469,4472.750628730641,2216.4624253155052,4291.407193424526,7601.205031036643,2467.7758713622634,3938.22279187513,4915.410611495317,5272.037517754059,7144.535861312068,4917.679846213964,5095.623742734801,2316.2787211024784,9250.741689669183,6083.16919452396,244.52520458626336,9498.884891777821,8196.918530083445,5445.693563934042,2859.8553972712693]}]},{\"name\":\"series 29 (F29)\",\"data\":[{\"name\":\"series 29 (F29)\",\"type\":\"scatter\",\"mode\":\"markers\",\"x\":[6430.988880407848,3669.6005590134505,4139.238345707764,1841.5611123945996,8097.9680252152775,4807.2494079430735,7118.309503286222,3302.2774173383127,1671.1068630744342,5154.5332387144745,3185.8466323077737,6834.058002954658,4218.391980500762,3807.8683311402037,4737.562597166229,6047.575353737377,6549.121989951803,3174.8928735870254,3634.1466046016544,9866.032054864281,8358.65158593304,1592.806448723545,5950.657094600033,1534.5320865309452,5083.732041127418,4685.274766580514,5002.825922625631,5596.689749459928,7435.549722197929,2784.8648332776115],\"y\":[9012.884799052299,9193.755636610162,446.7049004893675,3007.743042386316,7052.91062973635,2957.5628397470464,50.015304578480134,3639.6300373328127,4491.584508249823,8497.112851366459,1701.1680391427342,5376.777561740303,7070.6440153716585,4019.6286474371077,7363.882658169017,8662.992134471251,950.2022387340114,6980.428440579214,4295.393439581072,8873.502695261282,4587.496123996712,2821.979280649041,1501.6950637436355,1418.7259040199108,7151.517518050733,1841.0133462327071,7476.136808082277,6975.760944023469,7326.371521450108,2013.600123830349]}]},{\"name\":\"series 30 (F30)\",\"data\":[{\"name\":\"series 30 (F30)\",\"type\":\"scatter\",\"mode\":\"markers\",\"x\":[5891.596183252242,3002.696898557119,5819.097190436756,4211.584977112436,4285.59517545744,1450.5939842791993,4663.074920530609,7659.8218630079255,4459.370577972754,4160.257597978114,6496.038964173024,7712.140833202478,2306.045980452914,6815.6931549544815,7392.098179219844,5065.007813534133,9089.695165647454,9523.39367571208,7540.067562074323,5381.350509425544,5816.227787126466,7096.38174181622,5085.791626142794,963.0386527698265,7268.666182393337,4944.183718191306,9794.04607581461,1589.023654939703,2523.528189189329,7104.693535625291],\"y\":[4835.980320935036,9927.157293445332,4321.663123185449,1401.134732844851,6970.964715005317,8031.223571399194,536.0392761524613,2967.1066654130195,7667.091258856599,5350.73860784428,7160.61087394177,1454.957158246375,292.46977524330475,5409.581120666867,3738.5431595307828,9127.49845079398,1409.8501156646194,7850.54100160424,8954.705457816357,6730.339551020139,7419.994494505136,4896.377805821818,6236.492031763005,1551.8822861093772,1324.611679439539,6444.009688179692,6638.662746084164,7400.287780721964,8217.556037714656,5986.956495745852]}]},{\"name\":\"series 31 (F31)\",\"data\":[{\"name\":\"series 31 (F31)\",\"type\":\"scatter\",\"mode\":\"markers\",\"x\":[9032.04220136279,9361.488798541084,2263.388451335675,352.1868001161022,5672.5544386371375,7149.589130816518,2385.2796083083263,9841.024708324627,4596.208141580803,9620.754453658972,8659.635825003845,1779.7972196051714,8967.294762294367,9593.966658508407,6502.711020898823,9714.411232227088,7501.195325541098,2506.780223070617,1134.860189302045,2524.068170196461,9389.83690203364,4631.481901868419,520.9852158664852,2582.84018273521,1776.9778106256174,6586.822221037317,1011.1090345941154,9763.846609258062,7762.145072038788,5702.753894715631],\"y\":[6242.906164020463,8559.28334609342,8156.180611668963,6430.37640318489,6518.41007780462,8880.578050997003,768.0039983849952,1436.5517581328525,2830.0072067810543,7206.454386309102,6871.330218033975,7282.422288911193,6986.216474873137,3662.7072088474965,5681.726877379056,7657.327711489021,6875.648993658642,2346.0070354722707,4168.536497879964,4024.384000822767,3807.9246142355473,6745.064012531984,1332.824996987083,8231.249485479573,7083.222497858763,9466.001065043192,3201.666587979285,4149.37574347089,9467.525508783212,5634.798890375924]}]},{\"name\":\"series 32 (F32)\",\"data\":[{\"name\":\"series 32 (F32)\",\"type\":\"scatter\",\"mode\":\"markers\",\"x\":[7220.7035871395365,5727.297266424856,6088.514197282956,2328.1949554264193,2471.0760240508857,6978.290387248477,8417.452629143156,2175.4264763387287,5193.4416474222035,5369.986016982765,4465.302019341969,7876.732861076113,7470.9564433678,3843.296715096217,6096.688313317238,5800.542600917299,604.724415762371,8260.27688690534,4453.238019263903,1049.7838198756315,3709.3645930665807,6465.304668431591,4878.191073982749,3428.778866285136,2362.985407054936,2341.2383354781064,3447.0863158080842,3595.6973022633842,1764.995328676916,3251.9645224782225],\"y\":[8234.708248172445,1351.5512456674417,3786.823630599645,2085.02298895189,9786.374563747184,3495.241020969175,7544.758642433628,5742.759550926609,6912.032361828731,6965.172148215777,8680.758503229667,377.7179488794091,5884.52338920908,4091.475336572444,3406.226460627383,9927.756843505002,3398.768857699641,698.8842520278382,9545.382479067235,8578.63494719545,6236.515569013865,4528.836065705308,8309.008280980794,9666.577401013385,3481.673484565533,990.3789155592058,7335.976669501397,3230.60171473742,344.1688585568348,5602.982187780173]}]},{\"name\":\"series 33 (F33)\",\"data\":[{\"name\":\"series 33 (F33)\",\"type\":\"scatter\",\"mode\":\"markers\",\"x\":[7659.12265590496,1934.1477127077278,6175.624537572554,7660.3645481241765,4683.651634991956,397.81626517926605,3098.0722377160964,7622.971539885533,6010.421282943138,6119.797740383594,5817.289812283722,1537.7426088319257,6993.07333238244,1107.8261316278627,7655.250298899523,9387.331650059978,8287.133825843703,2106.264906343034,2611.554579810754,686.9584773002668,8330.839454064228,3874.1991007322085,8351.618750459333,9875.579336350658,7691.591047132916,4355.168041018385,419.7685829923437,6089.087324184843,1518.56815433141,2776.441744607473],\"y\":[3688.290767700009,6756.762852882975,961.1937050774244,1725.5130481052915,3078.8787335110515,2128.2167859421897,4344.759854414373,2073.7328169649018,1930.7999214226834,8316.577453632908,4138.684721401222,5251.795360565624,3040.506627501611,9734.691563753491,6309.497027258097,829.0332526734412,4360.298447656212,7904.6276335881175,4519.791700117943,8608.256698521702,8619.035994920863,2536.7797393707237,2816.043473097034,3520.1323120576844,3715.7991962212645,2503.390121738889,6942.29737834902,8485.863363070872,8637.770615842448,8872.324214178467]}]},{\"name\":\"series 34 (F34)\",\"data\":[{\"name\":\"series 34 (F34)\",\"type\":\"scatter\",\"mode\":\"markers\",\"x\":[6223.404485119681,5114.198836221182,7866.516221981562,9520.443658521872,5080.6060580640715,4608.567227826305,5762.226403336168,5011.943311063998,5673.912471012737,1582.3909707178275,1253.3722819227844,8405.530435499555,909.8641211547043,1615.409137126692,2309.6194526938275,7445.341188674171,109.89920616056637,9331.09563354035,9138.73468391839,6194.0060656842825,8003.699175005167,7535.032056702602,4823.613384132439,4582.289648960042,1393.5166765866281,9526.354884544713,2203.439182155186,8578.24571900459,6829.638985709134,6079.163164201507],\"y\":[6203.388002254047,719.8478735464631,6943.7714872087145,5788.043543239506,1530.1682079552747,608.5656010026386,2706.275863683132,2481.6264884122106,6676.09103477109,7627.3777210198805,3804.831887768223,6230.3603529597485,6512.242907449809,3625.2245035341025,9586.233561006537,5109.453107700297,7401.736240375281,1600.9210461657108,8559.67336058076,3325.1950266974186,726.8928161495858,7523.066170181199,5329.005250965115,7572.646716699227,2999.6119579389147,6338.498684905366,3.12204598575061,7564.933994148766,3312.0670377104366,9950.366683609584]}]},{\"name\":\"series 35 (F35)\",\"data\":[{\"name\":\"series 35 (F35)\",\"type\":\"scatter\",\"mode\":\"markers\",\"x\":[6627.719574622231,8559.16866604229,1785.257948002722,4487.895107272634,3988.3615771133063,3401.266067663645,5885.845765049473,6543.446798015954,4253.902505330801,9121.707362231571,5007.0791435933725,3218.4920329640145,2360.9629723750536,8436.554050406578,7547.518618813355,8798.616180611856,1784.292835573995,9642.789501412435,8871.653192749252,1668.7101689253382,394.50248674493093,9344.32866153739,2999.389758941695,8683.005238459637,3473.7762803329706,1204.800631852888,5646.798547152466,620.6258652821095,9641.828485846954,495.4754955869156],\"y\":[1328.372444530709,1585.85574143698,9438.500993258609,8591.475126599535,2631.463033983744,7253.32222160497,5616.039785224385,3766.667889062715,5486.437542594359,1711.8239059891816,8813.235243014593,4647.417324162414,281.4961636253155,326.5379380448241,2215.239722556929,507.6178270706444,5008.976351248118,6517.864840765623,4047.03220673721,8222.21861256622,3280.3675690200394,3646.1769451019,7305.125052439162,9143.69962563235,7010.140673290689,9295.258798827954,2001.2606163224077,425.7310970331174,843.8959468989227,8163.240541941384]}]},{\"name\":\"series 36 (F36)\",\"data\":[{\"name\":\"series 36 (F36)\",\"type\":\"scatter\",\"mode\":\"markers\",\"x\":[6373.476390178389,4390.5139776303495,2994.222517365557,1498.3394203471478,14.068226142290863,6421.061211024305,5048.045755784719,5557.744853502458,3670.609666754148,6556.951791926583,1522.1389703809207,8921.491339516877,7595.337955488651,2481.8453265158837,8468.86162891919,8659.18690093531,2749.8507765434497,1913.3225078596417,9272.07768932993,8325.974433873946,6916.198384433487,540.37035070714,4923.596639434611,6555.119785932986,822.1004050403125,7601.107581265258,5533.374442148443,3618.1412701893655,7757.154342362823,4953.101737565839],\"y\":[9602.099682051357,4739.401550091312,3838.5439911105336,7060.903153673017,7672.6779222348,3180.6085268937077,5078.896362147287,8710.180336786698,7377.525335685311,3151.6794764624988,1715.5773127831453,4455.112079283229,7611.466933275356,2457.9436572880577,9879.855260746446,8815.452371212787,585.4255852882451,7459.671339697586,5616.004662776223,9061.952972161418,1853.98492926081,8398.432416381615,6504.560395692932,3063.5943378250818,60.28997105461564,1435.808128658156,1700.5739187766378,3117.339966249252,104.65052433197619,4853.486950985345]}]},{\"name\":\"series 37 (F37)\",\"data\":[{\"name\":\"series 37 (F37)\",\"type\":\"scatter\",\"mode\":\"markers\",\"x\":[2066.8670386894673,2940.8934725653944,5718.592872765636,779.7995243750966,8263.91150964168,9081.20688559963,14.006647660045335,536.2582132575744,6152.11461951451,9876.250714998514,5477.412336735688,1238.6833044735158,5668.919272862169,4804.826760719956,8092.275973202505,3641.014856022503,1462.2780777199662,4568.9624172362655,3797.6835489745185,6375.924054760955,993.6956829143218,7575.699419855836,9329.577178406913,9724.851997528536,8568.174298834074,1619.8501918208885,3641.1483072922247,2841.122731627033,1805.0435203458271,516.5620399069226],\"y\":[561.8725674301339,1953.2900023106426,432.78713915165355,4192.295962554315,8130.0621803501435,3491.8959739465295,5972.628323868537,7315.089797871717,5121.702134485851,5311.329273526812,4869.7726432957825,5929.746621081753,698.7248042039984,1219.4955743249602,6937.846193530313,3760.8462013788258,8812.773783324137,8881.519936834165,5601.209225231768,9856.252431267705,5025.892098615987,8829.720973408374,6351.469236046194,7066.048525567934,9747.465001973282,2790.6118896341204,5078.650319098182,6486.599039318702,8537.136077199562,2830.695857648665]}]},{\"name\":\"series 38 (F38)\",\"data\":[{\"name\":\"series 38 (F38)\",\"type\":\"scatter\",\"mode\":\"markers\",\"x\":[8494.12505969304,6446.707562348971,7086.3054852302475,8926.345809385713,4731.548219343531,5872.596412126977,5766.213492365198,1479.0649279958056,3393.6777902839444,940.707630843377,6218.496972605446,7025.948434148103,807.1069890623461,812.0883615854724,364.5039972419106,9936.177673077333,8053.569921352995,2939.3850864604533,422.536590458521,237.8942736732803,6465.628909188354,947.2439656916631,7047.584802489843,7885.819610179055,7706.187925212541,8409.172991046253,1546.0071930940421,6758.496840692607,3295.4167432810345,9978.693575615102],\"y\":[7267.999902475512,7465.053282733153,1505.3169729837946,7279.869809028976,4743.5913803048015,6644.890890165933,7911.293682860033,722.072433179679,4903.287048928915,1859.7329794005136,9571.743294420405,9976.098376387978,4812.37901912513,5405.969128665948,1800.8048126456665,5233.533470348468,748.3297107682107,7416.254047843165,806.0676629806595,8568.512783852973,4163.525319810962,8472.835850242018,5082.160396038042,9730.79253867952,7101.088332020291,4621.100693767836,3382.796807112419,3521.322922933413,4969.325195989734,3150.3389492793744]}]},{\"name\":\"series 39 (F39)\",\"data\":[{\"name\":\"series 39 (F39)\",\"type\":\"scatter\",\"mode\":\"markers\",\"x\":[7337.986831849808,6536.268608915962,6230.7816282957965,5799.753361853927,2339.7675160271538,9512.69172848139,524.7635667000428,7151.243735273386,1188.9434219566863,7768.881220103334,9017.573947380477,9886.520259699191,1176.972699618769,6304.571662638422,3362.6077027932,5314.611713668343,6771.271471433031,8011.067047845178,2552.8357836169334,7116.85240776284,6878.849460715828,3138.5435950023034,161.10060486434708,8609.944404919192,7782.336319528197,5677.579435711821,7989.036675388288,8993.708788096155,274.08957313192593,7634.216651743138],\"y\":[5983.319652540101,2028.657377582408,2258.2241291851656,5312.631939849471,2428.3360107559183,1379.5285161487313,6147.039054719583,2666.7567333588972,2887.263461098131,464.4461322163895,3747.4582802881373,5541.95025234517,1138.9310450685907,1065.3810042829582,14.746409328522114,7200.10160324739,445.7288755656563,4184.105063089838,1044.894884660603,9906.292286796099,8888.226090973214,8668.84530433783,983.7219800427677,9552.427639081752,8215.038281557421,7990.362997123644,7149.862640529573,303.00146219097047,1681.88821961482,3212.192801624333]}]},{\"name\":\"series 40 (F40)\",\"data\":[{\"name\":\"series 40 (F40)\",\"type\":\"scatter\",\"mode\":\"markers\",\"x\":[2600.472979486438,4070.430246985688,2691.685495993661,678.3001878492445,612.607513052995,5262.154980208781,2697.8454613347712,6232.426161327048,6109.87432989266,4688.9793797110615,3795.9563191392863,3886.902887734196,4933.10663906216,7783.868630269797,8704.29649543928,5774.744005828435,3035.4399532313214,1352.7147665172945,8421.59074450609,1947.32566657012,4176.31171909871,9963.321333054333,5750.790127027216,3120.989513842656,6495.555165630688,7776.141625402924,1090.5461118088733,6829.418567849268,5467.886071380626,4130.062372434534],\"y\":[5421.440336699665,7604.646682928357,3169.7336988015422,1518.7893047203627,4251.928125011475,4788.083533877806,1534.4976224335826,2728.16340894761,5439.3351266343725,7363.94803420271,328.96186534402403,9851.99593450425,3264.1458169039493,3811.022630475873,8952.729848353656,1663.7769581570428,911.2060664346411,6384.653552018398,4844.1919750354755,7393.883099166325,3599.3590958804243,3469.440043320946,270.6730159435955,4346.6657367102025,5001.4186248809665,684.0675431523124,3587.047742496936,3989.079365056288,309.27845813175094,1273.2619414064793]}]},{\"name\":\"series 41 (F41)\",\"data\":[{\"name\":\"series 41 (F41)\",\"type\":\"scatter\",\"mode\":\"markers\",\"x\":[666.2588552757264,6152.262547782125,324.3460931756448,8987.850153529573,7136.80342080754,3809.7591332331826,2291.378422870908,2132.4334229575293,2306.402130510781,1530.8274183938763,4844.189644500241,5751.192089676801,1207.7020091676627,9154.555129406092,6394.590308775574,25.85850192048378,2071.0072486367394,8490.258456545598,8571.308453063235,6875.909655457285,2710.6689792678594,4921.912715022268,8903.534046620669,3479.5439149905283,805.908960892402,7679.127238471986,9844.118617661636,975.027682706483,9863.492605411493,2234.4421707930683],\"y\":[4440.351591547227,8955.509056509482,4768.804476975933,5796.49050009452,2485.628165695135,1536.4088819308352,8263.524884356502,2190.835124979079,4823.208558980367,8753.02572692407,2432.241054914078,5555.052444751087,7623.668149255318,7836.992497822526,7336.971522220995,3221.9088028112187,2920.5189735447125,2523.749331585,2307.722421662598,6924.229515783112,6463.880478211747,4959.208767874435,4078.8305623535693,8027.336446259523,9039.964001820954,4002.3032039201557,9954.996224668452,6879.68814626473,2804.5297289806194,5761.125586842777]}]},{\"name\":\"series 42 (F42)\",\"data\":[{\"name\":\"series 42 (F42)\",\"type\":\"scatter\",\"mode\":\"markers\",\"x\":[3497.542692589207,8569.62944317161,9891.360973902225,7053.881042523548,4840.582963737845,7385.913071401181,6582.196668171405,151.89529095199993,7678.416456576136,101.93405984667115,2662.4481256701583,7640.42727354818,209.61285027164212,3838.3706809106866,2237.4197612216485,9524.061019327468,7879.8908860538695,7706.201983073454,9246.646358638272,806.9596573922233,1635.0288825438374,8691.829839794354,8189.343224779239,6694.284680591838,6576.696022052988,1318.3021105522807,8161.863076753544,4289.595664700169,2408.2219135323635,7501.402494140016],\"y\":[6208.439904599083,4204.063358185458,8863.976151576862,7716.630039014747,4199.394703138042,2846.845972092924,6435.157415588251,7102.865819812289,1976.3629928593184,6331.9898493531655,5136.4389844507095,450.7838065481973,8341.998524096904,9915.735932096215,1802.0603890046393,8158.830391343127,621.9994115181637,2669.126183014585,9456.588071811771,1186.8646481186495,2990.188749741014,5694.320081314835,674.7153620568647,6797.313819195176,3522.7777580294573,3609.049313233189,526.1087689775712,8445.965583852185,35.82497985906152,3252.1497217582228]}]},{\"name\":\"series 43 (F43)\",\"data\":[{\"name\":\"series 43 (F43)\",\"type\":\"scatter\",\"mode\":\"markers\",\"x\":[3695.449941231864,2569.285748322513,5160.3001382651155,604.131798530938,4674.4630325092785,2212.411888980694,1822.0508701137683,6770.257670789412,9541.858486689101,2451.7443367533474,1319.3560728747534,6539.620165536635,2778.7605974923245,5388.314849401709,7528.650367633102,8512.221332189984,2811.335042223516,3122.887201392802,2419.383704111393,4077.075182825125,5528.965475635794,5571.000691089791,21.879683600291024,3627.868705353635,5895.471275208808,6235.940451543258,8267.440140137998,2318.7321985813282,3952.503308555949,3129.879440070531],\"y\":[707.8399132218627,4391.186771467499,3008.3865441348244,3918.2063386487785,3021.7414699779697,4644.349716753928,4612.329485420911,4059.3134405262153,2428.4521214620067,7973.998289304145,7033.050990117975,4221.893962324962,1654.8382349320623,3072.103843792068,1392.5228887696016,8584.05021323842,2939.0974952425163,4356.966364977565,2349.664523167474,8753.29482777943,1705.486368084219,6995.09432193831,8285.464805152937,8993.780201500469,4006.9852000604587,3479.491114652554,9310.152972115386,7206.864639946268,6608.277525073638,6645.022686897596]}]},{\"name\":\"series 44 (F44)\",\"data\":[{\"name\":\"series 44 (F44)\",\"type\":\"scatter\",\"mode\":\"markers\",\"x\":[94.66957804390219,2683.384906268844,3669.309871170574,3230.060392264005,8522.84613163843,6030.775737142844,9390.089041272968,4134.605509140671,467.32437899613564,8875.43409504139,1690.2620478368212,2378.6174856251864,5611.39890077369,950.5014750664786,8022.420344276397,7430.28675843459,9170.606090107975,1.4966176558806055,755.9534062942597,5052.506337371233,9612.016148536875,5576.9953993174995,6218.673449134333,5106.809196120716,3025.8336423470446,1218.8293994554633,8446.31987640825,5857.561440947867,673.0483870039571,826.0273368300175],\"y\":[5965.443545674528,2235.209207261861,7414.51955596143,4039.001917951397,7523.063827119926,7245.898423237377,5221.016875808021,2375.239467914367,576.8788699683225,255.79728685896308,7770.384466456331,2545.0237881676217,4572.700119298475,3231.973432607388,9257.131289604507,5885.485030833185,9561.178029950213,6187.6853885093,2971.395029600956,3173.534625442731,9543.766838560105,6058.470845747312,2948.3646074269222,2213.0104109350877,9088.279879430082,9026.425510374993,5045.889510485242,1538.6206071242293,1217.2623029246033,4913.582718212235]}]},{\"name\":\"series 45 (F45)\",\"data\":[{\"name\":\"series 45 (F45)\",\"type\":\"scatter\",\"mode\":\"markers\",\"x\":[2177.1441086552545,7339.046321005983,4347.814185012117,3681.3212483744605,2106.8522696549917,2273.81950963385,6149.373851735161,8301.242248753972,5213.725444199179,4243.3675582632495,2586.373172048745,5303.973785739136,3928.4003337579065,368.87558760078434,1125.5582970788003,4165.874160818367,5175.307848054398,6448.384436949626,8113.166606208159,9359.626358528072,2078.544530327857,4977.809871337682,1665.0372344530906,4373.223749747957,1435.9560422239192,5460.330820875885,3063.123849545053,5292.86978382988,9022.28725655274,9174.864343629857],\"y\":[1614.770893712628,2648.8274245632783,5651.389656877404,6834.107011991719,206.5035359963685,4139.268247367195,3109.1197341823063,1634.8869877228678,1371.970672302899,7575.688355507035,562.7041541184874,2088.3447290139247,6594.07572080195,2934.474270226649,8858.981938008415,8714.714602856977,4774.215000390461,4752.717299509653,2243.0845987738244,6197.252953731957,9326.937223277782,1272.3881026218264,4460.74514434763,7912.122837925254,7196.230244519032,4715.503779382312,8951.574550940255,2885.807930212191,7240.023601831348,7863.929644848291]}]},{\"name\":\"series 46 (F46)\",\"data\":[{\"name\":\"series 46 (F46)\",\"type\":\"scatter\",\"mode\":\"markers\",\"x\":[897.2831926850699,6178.898625970302,9892.399138732011,5720.978359448255,2257.9632863489683,2454.852278502895,4788.378704164201,7447.981943134302,9611.192630426856,9064.604097567342,8124.058971331667,2997.528138680434,8602.855183904976,9362.661963207067,6925.247988266134,906.0702627269491,8125.223885112331,9167.589465488578,3110.652388744576,8562.130897922025,1956.979196548585,9289.546749077397,6261.052608338294,3932.3404797831217,5531.488625922393,4869.820307912157,343.7935662041514,8206.065924438602,743.8073856977601,7912.044746645657],\"y\":[6292.312472906413,2110.3955044928025,2263.501808050642,2832.0800953318703,9303.311340121167,4750.769260058446,4689.539019807771,6113.274519372417,6989.576237836968,2748.555786684085,1065.1252754072138,226.11227084380124,2114.3334674634198,9175.389682516241,9764.517205650247,8856.006025881625,1533.4238338142181,6325.105522063865,8570.471638739413,5180.2628034719255,1184.4712973354576,3717.6139858205315,1880.1370115396255,7445.016178445934,5487.601651659331,2895.0860654893995,9408.833889028694,6415.185512552073,8360.172521852395,3549.3210730098135]}]},{\"name\":\"series 47 (F47)\",\"data\":[{\"name\":\"series 47 (F47)\",\"type\":\"scatter\",\"mode\":\"markers\",\"x\":[2505.31063549881,7405.285299398353,2198.3545694392246,1310.1995850350322,7248.700729846846,5546.174584609144,641.2986837955192,6128.625156973189,1866.5501422139596,6702.604652478594,709.0174034379282,1603.3863258944182,9694.9221199554,8028.684271067011,9992.99399055665,9829.87689592622,7895.730416043774,1533.151405295552,4978.926763188424,3389.636357214144,6453.086574453061,1223.6014548246733,7293.9069547363115,5953.1782143636865,1589.596504717693,9408.596059013658,5695.716563190045,5634.599990463,2675.1724060752304,558.8290623813863],\"y\":[2959.826120990483,714.9767303535359,1945.0750952619478,1763.306077519312,8470.060481189379,5642.557667926945,1900.5367646303505,7263.748170212666,9281.79415620579,6321.303363103292,6134.456159433035,810.2042701700663,4701.923647074239,7615.313435428237,5506.303240566856,3653.1159625160126,2017.7617861153162,2725.2119636116513,3084.5024985407845,7871.849162155599,3907.3834994974277,3633.5733193994024,8081.211965161268,4436.967910568944,1276.8441418013908,4169.986553993341,1123.5547895625086,2913.296726137028,8795.087086168842,2412.372200869878]}]},{\"name\":\"series 48 (F48)\",\"data\":[{\"name\":\"series 48 (F48)\",\"type\":\"scatter\",\"mode\":\"markers\",\"x\":[636.9937928850744,5033.079319161386,4235.2413717265235,7119.678818086013,2860.691874087178,7503.30631335108,6881.402882287465,3682.10968693215,6071.331082830623,358.5569200249983,4722.888541430461,8678.533605817653,2961.008602078884,5930.454851711391,4933.3322423834625,8546.760881925175,3796.4692724568818,77.11603025052915,7219.894813889385,7100.873662110961,6981.073877724968,1700.7195413902898,5028.241167745121,8670.820547245172,2947.5387057972325,8778.609857796433,5301.833579913951,8492.996052890969,1928.6335290380553,9143.094382012023],\"y\":[3519.477281183422,9646.5457324577,6084.651281919208,2067.372805073353,7072.950311610544,6308.650530396834,1710.61744472772,2349.7994953420607,6696.932169768352,6393.059762463667,7802.835334586039,2035.9384667490444,2626.3464555211626,2739.6595374273056,3133.5155255052205,6177.64969519055,9431.612571679427,938.8775224925372,5163.867869986081,8100.696780461537,1070.2027857050477,3603.2404814718066,620.183755982171,6537.141342920358,5593.282579461313,5439.4172353554295,9364.07033019482,1676.0521441722087,7159.107164394211,827.5963113501194]}]},{\"name\":\"series 49 (F49)\",\"data\":[{\"name\":\"series 49 (F49)\",\"type\":\"scatter\",\"mode\":\"markers\",\"x\":[307.1441247627249,9695.821183562937,1530.240559344398,5781.0596413068115,552.1279778110022,5663.64584125947,69.54528760857892,9137.334654783628,6686.439773395951,2822.5022359027585,6400.292139357366,3623.3173162558696,210.99675975159494,2233.201979381536,9358.620927984823,6040.278047748192,7456.108282224097,498.88350249357336,5641.98065621164,7230.677050333067,8017.958416199381,4871.564978074746,5645.06402868719,6717.229164816105,4743.3355913805235,4425.142372763352,6375.140958538883,3945.6782460703553,2596.889406321443,3176.4860974823882],\"y\":[6051.593682195054,7916.2521657269035,3364.3539865136363,6046.057453746664,6019.8349017234095,9654.78794852058,8076.801958060716,1371.7235414075924,6947.693975306439,7453.0328007957905,9285.144039787405,4324.226752793597,7922.735102462939,3098.637180208058,870.7243782408169,4020.0189169974797,9031.869957669689,8418.881147114225,3947.006245414756,3386.943491648171,280.0161078634022,5378.179118730118,3588.9790047921233,4910.513019630215,2292.4398525373604,9697.936712425042,2621.0626128034833,7273.291272495664,7145.817237521253,7508.334311442158]}]}]\n",
       "var labels_8HPkCYWJLQ = [\"series 0 (F0)\",\"series 1 (F1)\",\"series 2 (F2)\",\"series 3 (F3)\",\"series 4 (F4)\",\"series 5 (F5)\",\"series 6 (F6)\",\"series 7 (F7)\",\"series 8 (F8)\",\"series 9 (F9)\",\"series 10 (F10)\",\"series 11 (F11)\",\"series 12 (F12)\",\"series 13 (F13)\",\"series 14 (F14)\",\"series 15 (F15)\",\"series 16 (F16)\",\"series 17 (F17)\",\"series 18 (F18)\",\"series 19 (F19)\",\"series 20 (F20)\",\"series 21 (F21)\",\"series 22 (F22)\",\"series 23 (F23)\",\"series 24 (F24)\",\"series 25 (F25)\",\"series 26 (F26)\",\"series 27 (F27)\",\"series 28 (F28)\",\"series 29 (F29)\",\"series 30 (F30)\",\"series 31 (F31)\",\"series 32 (F32)\",\"series 33 (F33)\",\"series 34 (F34)\",\"series 35 (F35)\",\"series 36 (F36)\",\"series 37 (F37)\",\"series 38 (F38)\",\"series 39 (F39)\",\"series 40 (F40)\",\"series 41 (F41)\",\"series 42 (F42)\",\"series 43 (F43)\",\"series 44 (F44)\",\"series 45 (F45)\",\"series 46 (F46)\",\"series 47 (F47)\",\"series 48 (F48)\",\"series 49 (F49)\"]\n",
       "var duration_8HPkCYWJLQ = 100\n",
       "var config_8HPkCYWJLQ = {\"responsive\":true,\"scrollZoom\":true,\"displaylogo\":false}\n",
       "\n",
       "var traces_8HPkCYWJLQ = JSON.parse(JSON.stringify(frames_8HPkCYWJLQ[0].data.map(x => x)))\n",
       "\n",
       "var animation_settings_8HPkCYWJLQ = {\n",
       "    mode: \"immediate\",\n",
       "    direction: {},\n",
       "    fromcurrent: true,\n",
       "    frame: [\n",
       "      {duration: duration_8HPkCYWJLQ},\n",
       "      {duration: duration_8HPkCYWJLQ},\n",
       "      {redraw: true}\n",
       "    ],\n",
       "    transition: [\n",
       "      {duration: duration_8HPkCYWJLQ, easing: 'cubic-in-out'},\n",
       "      {duration: duration_8HPkCYWJLQ, easing: 'cubic-in-out'},\n",
       "    ],\n",
       "    ordering: \"layout first\"\n",
       "}\n",
       "\n",
       "var slider_8HPkCYWJLQ = document.createElement(\"input\")\n",
       "var play_8HPkCYWJLQ = document.getElementById(\"play_8HPkCYWJLQ\")\n",
       "var pause_8HPkCYWJLQ = document.getElementById(\"pause_8HPkCYWJLQ\")\n",
       "slider_8HPkCYWJLQ.id = \"slider_8HPkCYWJLQ\"\n",
       "slider_8HPkCYWJLQ.type = \"range\"\n",
       "slider_8HPkCYWJLQ.min = 0\n",
       "slider_8HPkCYWJLQ.max = frames_8HPkCYWJLQ.length - 1\n",
       "slider_8HPkCYWJLQ.value = 0\n",
       "document.getElementById(\"sliderContainer_8HPkCYWJLQ\").appendChild(slider_8HPkCYWJLQ);\n",
       "\n",
       "Plotly.newPlot(graph_8HPkCYWJLQ, traces_8HPkCYWJLQ, layout_8HPkCYWJLQ, config_8HPkCYWJLQ)\n",
       ".then(function () { Plotly.addFrames(graph_8HPkCYWJLQ, frames_8HPkCYWJLQ) })\n",
       "\n",
       "var trigger_8HPkCYWJLQ = true\n",
       "var reset_count_8HPkCYWJLQ = false\n",
       "\n",
       "play_8HPkCYWJLQ.addEventListener('click', async function() {\n",
       "   trigger_8HPkCYWJLQ = true\n",
       "   if (reset_count_8HPkCYWJLQ) {\n",
       "      slider_8HPkCYWJLQ.value = 0\n",
       "      reset_count_8HPkCYWJLQ = false\n",
       "   }\n",
       "\n",
       "  const start_index = slider_8HPkCYWJLQ.value == labels_8HPkCYWJLQ.length - 1 ? 0 : slider_8HPkCYWJLQ.value\n",
       "  const end_index = labels_8HPkCYWJLQ.length\n",
       "  await Plotly.animate(graph_8HPkCYWJLQ, labels_8HPkCYWJLQ.slice(start_index, end_index), animation_settings_8HPkCYWJLQ)\n",
       "})\n",
       "\n",
       "pause_8HPkCYWJLQ.addEventListener('click', async function() {\n",
       "  await Plotly.animate(graph_8HPkCYWJLQ, [null], animation_settings_8HPkCYWJLQ)\n",
       "  trigger_8HPkCYWJLQ = false;\n",
       "})\n",
       "\n",
       "graph_8HPkCYWJLQ.on('plotly_redraw', () => {\n",
       "   value_8HPkCYWJLQ.innerHTML = slider_8HPkCYWJLQ.value;\n",
       "   if (trigger_8HPkCYWJLQ & !reset_count_8HPkCYWJLQ) ++slider_8HPkCYWJLQ.value\n",
       "   if (slider_8HPkCYWJLQ.value == labels_8HPkCYWJLQ.length - 1) reset_count_8HPkCYWJLQ = true\n",
       "});\n",
       "\n",
       "slider_8HPkCYWJLQ.oninput = async function() {\n",
       "   await Plotly.animate(graph_8HPkCYWJLQ, frames_8HPkCYWJLQ[this.value], animation_settings_8HPkCYWJLQ)\n",
       "   trigger_8HPkCYWJLQ = false\n",
       "   slider_8HPkCYWJLQ.value = this.value\n",
       "   value_8HPkCYWJLQ.innerHTML = this.value;\n",
       "   if (this.value == 0) reset_count_8HPkCYWJLQ = false\n",
       "   if (this.value == labels_8HPkCYWJLQ.length - 1) reset_count_8HPkCYWJLQ = true\n",
       "   reset_count_8HPkCYWJLQ = false\n",
       "}\n",
       "\n",
       "next_8HPkCYWJLQ.addEventListener('click', function() {\n",
       "    if (slider_8HPkCYWJLQ.value == labels_8HPkCYWJLQ.length - 1) {\n",
       "        reset_count_8HPkCYWJLQ = true;\n",
       "        return;\n",
       "    }\n",
       "    ++slider_8HPkCYWJLQ.value;\n",
       "    value_8HPkCYWJLQ.innerHTML = slider_8HPkCYWJLQ.value;\n",
       "    trigger_8HPkCYWJLQ = false;\n",
       "    slider_8HPkCYWJLQ.oninput();\n",
       "})\n",
       "\n",
       "prev_8HPkCYWJLQ.addEventListener('click', function() {\n",
       "    if (slider_8HPkCYWJLQ.value == 0) {\n",
       "        reset_count_8HPkCYWJLQ = false;\n",
       "        return;\n",
       "    }\n",
       "    --slider_8HPkCYWJLQ.value;\n",
       "    value_8HPkCYWJLQ.innerHTML = slider_8HPkCYWJLQ.value;\n",
       "    trigger_8HPkCYWJLQ = false;\n",
       "    slider_8HPkCYWJLQ.oninput();\n",
       "})\n",
       "\n",
       "</script> \n"
      ]
     },
     "metadata": {},
     "output_type": "display_data"
    }
   ],
   "source": [
    "val xaxis = Axis(X, title = \"X Variable\") setLimits (0.0, 10000.0)\n",
    "val yaxis = Axis(Y, title = \"Y Variable\") setLimits (0.0, 10000.0)\n",
    "\n",
    "// we can also specifiy the underlying layout directly - sometimes this can be useful\n",
    "val layout = ChartLayout(\"Animation XY\") setAxes(xaxis, yaxis)\n",
    "\n",
    "val series = createXYSeries(numberToCreate = 50, length = 30)\n",
    "\n",
    "val chart = Chart(animated = true, transition_duration=100) setChartLayout layout addSeries series\n",
    "\n",
    "chart.plotInline"
   ]
  },
  {
   "cell_type": "markdown",
   "metadata": {},
   "source": [
    "### 3D Animated Chart"
   ]
  },
  {
   "cell_type": "code",
   "execution_count": 49,
   "metadata": {},
   "outputs": [
    {
     "data": {
      "text/html": [
       "<div id=\"grid-container_ZanYQ7AI7X\" class=\"grid-container\" align=\"center\"> \n",
       "<div id=\"grid_ZanYQ7AI7X\" class=\"grid\" align=\"center\"> \n",
       "\n",
       "<div align=\"center\">\n",
       "  <div id=\"graph_zaaCOYL1Ch\" class=\"graph\"></div>\n",
       "  <div class=\"animationInterface\">\n",
       "    <button id=\"play_zaaCOYL1Ch\" class=\"picta-button\">&#9658</button>\n",
       "    <button id=\"pause_zaaCOYL1Ch\" class=\"picta-button\">&#9616;&#9616;</button>\n",
       "    <button id=\"prev_zaaCOYL1Ch\" class=\"picta-button\"><</button>\n",
       "    <button id=\"next_zaaCOYL1Ch\" class=\"picta-button\">></button>\n",
       "\n",
       "    <div id=\"sliderContainer_zaaCOYL1Ch\" class=\"progressBar\"></div>\n",
       "    <div id=\"counterContainer_zaaCOYL1Ch\" class=\"inline-div\">\n",
       "        <h3>Frame: </h3> <h3 id=\"value_zaaCOYL1Ch\">0</h3>\n",
       "    </div>\n",
       "   </div>\n",
       "</div> \n",
       "\n",
       "</div> \n",
       "</div> \n",
       "<script>\n",
       "var masonry = new Macy({\n",
       "    container: '#grid_ZanYQ7AI7X',\n",
       "    debug: true,\n",
       "    mobileFirst: true,\n",
       "    columns: 1,\n",
       "    margin: {\n",
       "        x: 0,\n",
       "        y: 0\n",
       "    }\n",
       "  });\n",
       "\n",
       "var graph_zaaCOYL1Ch = document.getElementById('graph_zaaCOYL1Ch')\n",
       "\n",
       "var layout_zaaCOYL1Ch = {\"height\":550,\"width\":600,\"hovermode\":\"closest\",\"title\":{\"text\":\"Animation 3D\"},\"showlegend\":true,\"scene\":{\"xaxis\":{\"showgrid\":true,\"zeroline\":false,\"showline\":false,\"range\":[0,10000]},\"yaxis\":{\"showgrid\":true,\"zeroline\":false,\"showline\":false,\"range\":[0,10000]},\"zaxis\":{\"showgrid\":true,\"zeroline\":false,\"showline\":false,\"range\":[0,4],\"type\":\"log\"}}}\n",
       "var frames_zaaCOYL1Ch = [{\"name\":\"series 0 (F0)\",\"data\":[{\"name\":\"series 0 (F0)\",\"type\":\"scatter3d\",\"mode\":\"markers\",\"x\":[7535.783357824728,8093.200248397059,1685.1762868821918,973.5503532741152,3437.7104790968237,3636.8083552755115,6797.891189238811,2002.2803369144171,5375.1935213473935,692.5868527700518,4655.1941128872895,5502.672570487017,1654.7066868977113,7675.774517617877,1063.4976045152812,3350.803180934299,9134.311913235224,5698.455275136009,3981.9693891140173,5664.907199621069,1022.8223441040496,5214.387964626,8865.796763747625,2483.820005372368,6799.717964712945,4468.806026118907,4259.0196505332815,541.5578363684615,3347.914915517529,205.15498833654777],\"y\":[2124.540825320056,4618.32454383865,2260.633078796103,2340.4975719429,4674.313030060363,1864.2439112258091,9465.243190531852,3393.584438127909,7050.593779898343,9220.637902697714,9801.118079960323,334.3496992602402,3109.55222375167,8604.678186771236,995.1537398432231,1220.862743205251,9771.39753178957,1876.7644339805856,8597.763142959873,1499.5278640718868,3926.592101045494,7775.990214000096,5873.790816383675,5166.59030916008,4725.605556681782,5987.575619747912,386.9335186132061,4123.774194147954,3230.0517167273447,9297.163251831944],\"z\":[2072.893409450316,5008.144604108863,865.9424523789904,3390.38718096344,5965.633815579538,6536.043997073873,7895.1876280293955,5272.141462318211,6422.742304186887,1973.2324559475335,3209.3531008178056,5508.489743806603,8690.05288934543,728.1118787074803,7150.086367818172,6535.173470052866,7952.317204606224,262.192033349089,9773.505792951455,9130.194178663956,5635.851128869951,4521.712359143231,8001.24200870456,1813.9531961348675,7660.731615187375,7916.609341721048,6438.709682026241,3418.9596188262685,9584.254203764147,4507.77231094036]}]},{\"name\":\"series 1 (F1)\",\"data\":[{\"name\":\"series 1 (F1)\",\"type\":\"scatter3d\",\"mode\":\"markers\",\"x\":[8291.57957475666,7362.121894516303,9134.000994381828,510.8099302673985,4774.309799249011,7256.160282242007,7498.0154349824525,4484.302416391195,3679.987329923169,7412.692524602427,6921.212843638064,3642.7902688428003,368.6217110043077,8518.05738972048,3651.306754082394,6619.50861937096,7331.420115458117,8303.960015408493,2084.1573000169533,2701.148224144945,1701.4697221720076,9388.537592847615,8077.605405919255,5066.683392470433,3606.6371379836605,1629.4578845873132,6834.482649176229,884.5785095431625,2098.389587117002,4309.18040521152],\"y\":[3499.6349442217365,4257.445171027625,9540.634666848235,4263.526928300826,2672.4385736275512,8950.493804687881,9805.55791926822,9668.217614822732,6405.423875119166,6599.882272986955,398.83965011996645,5614.055923708956,8941.266859178582,2669.334662484203,3724.51291164303,6829.946202750821,434.54638402496084,6808.167793556935,8100.122249181061,4953.958346415511,1211.3064722829147,6461.128378033542,4845.727441647217,2606.1581183912917,2738.6052971972586,2590.2066364722255,3795.6941208269236,4182.945417173441,1407.8704215303105,4190.86492901564],\"z\":[5920.096266780164,3771.149851994765,6480.020893817537,3919.876774988524,8392.951713434437,3871.1611938227175,4096.961539517486,599.2451702258594,4407.401439313465,4721.871951122709,5133.187731564905,5620.42821409615,7313.32924543478,2936.2400972690016,5842.887355046749,9345.370509327162,6240.818317124845,9884.78447639976,6752.062579986247,485.60167257495124,8273.221899253895,4805.348638668601,7051.835603957238,6137.931109176842,446.5227969827479,4970.977872674648,8868.244954087639,2665.0293387893244,3377.0441224734427,5413.776728516904]}]},{\"name\":\"series 2 (F2)\",\"data\":[{\"name\":\"series 2 (F2)\",\"type\":\"scatter3d\",\"mode\":\"markers\",\"x\":[8215.475838448336,7931.459683119036,7157.464755166675,3681.1232393030045,7183.614162011094,3540.4799423634013,9311.483494869512,891.6378761142063,4968.647118578049,1664.209493225016,4060.367800177983,8961.81467941373,3721.5830926233652,4819.512358280324,1930.0124453787193,5290.243585600285,8875.194489081117,8514.222500285181,8815.021291001705,414.8648061457427,2601.0345195259765,6073.096632784396,4016.724163607668,1199.7116295606957,3356.0189190554293,2150.146648063788,7484.9215219244625,1961.117650338744,4096.998731702926,6443.770596437756],\"y\":[7518.548358918619,8609.373282878694,6673.400352923444,1953.3683051261553,1518.3315291418864,6360.340271182222,152.1381928094334,2750.887451937485,4034.9164154570503,9862.540613446114,6385.658326699795,4688.019666313242,8318.815302573543,5688.756792765681,7003.099752951672,8719.523619631862,9853.934203857136,1057.1963047038414,2186.2115116053005,595.4251255165533,2944.314889543308,9375.784305389188,3085.7970602228625,2559.604239998461,4324.126361043766,2744.169416305261,6541.099968506312,2389.5481354618455,973.8274403418712,3901.5386014081487],\"z\":[2883.6879426765795,2621.812561284753,2850.8133536051896,5274.358291274573,5039.030506644149,8130.002044613913,5080.749266719008,756.6662787449741,9883.105012160091,3356.8426232306615,8306.186849788433,6646.564537493994,868.0107927786806,1449.186948451594,351.9464220139035,1766.0696172196288,4299.706123333757,6304.559900451819,7142.142107888391,3207.4993663975815,332.63044354245653,5110.11388455688,5891.615372198285,3378.0860507439515,3740.1050999676568,3339.6320731177866,8994.932533553661,6055.525248130187,8826.057354832648,6371.4822085633905]}]},{\"name\":\"series 3 (F3)\",\"data\":[{\"name\":\"series 3 (F3)\",\"type\":\"scatter3d\",\"mode\":\"markers\",\"x\":[2748.996470290287,4020.682605561435,7462.745413033758,1900.190788707884,1070.70742346005,8499.696177706055,9170.804744322364,5136.568127646822,709.0026858267362,1126.2315234199293,7402.079234341585,4426.089339193707,1100.9964832528897,2425.6567547107334,6742.337235424428,8362.490601131658,8984.825184264691,6926.425279190574,1620.115965845972,6733.3170429251895,5157.203552819385,3919.965978784049,8289.57734474785,6706.415192599974,8351.579474598599,4618.89847841912,8349.399762648445,2551.133392924113,9113.170370077338,1004.4054418871484],\"y\":[3866.370345073046,1885.2590283385528,4760.054092592965,9007.11208760814,1291.4811183963116,3948.4843254838643,5044.875414044641,8831.834168806874,3787.9777320769404,5725.459905201765,6969.6241223065745,8215.072772628495,9334.944489792571,9876.263447261927,6356.327391777222,195.15701396365824,5026.654659130816,4379.3694989767655,3239.391895837177,5578.437508146337,6357.052633078189,7551.980351246481,7920.720272584976,1700.9626819943014,3960.3773215710858,3684.8373671129507,4616.619334631068,3313.5766059930593,9273.073578007557,3913.399083301011],\"z\":[25.906230363672567,8459.398205670015,4888.7839249103245,4144.543834257077,4861.509876443918,2066.1519563811894,4997.349049533543,6867.707474057998,7413.25511108596,2641.842579637841,6230.3875442907265,6501.648379950189,9547.408847139819,2940.774316667887,9480.169145135857,8562.78315458041,7198.958648934581,3757.9385604361646,8815.128160431794,1388.31243649161,9375.47925283945,1113.3018804928984,4484.516175828456,5407.115405940126,1966.8442483248084,1003.5485350221307,3186.322104868655,9023.661204669392,5242.917455761766,2627.343589463581]}]},{\"name\":\"series 4 (F4)\",\"data\":[{\"name\":\"series 4 (F4)\",\"type\":\"scatter3d\",\"mode\":\"markers\",\"x\":[266.73703985589106,2064.9472455217256,6821.759908060505,531.1965229997006,5326.075529180521,7437.7461520772995,5103.772936333279,8476.529196696432,4825.211134933651,9153.199358892345,1692.5919011211488,2994.555434757823,2718.2200564999016,198.0721311654554,5161.431613020355,2574.107383719385,2881.0716134204727,6866.739460482192,2673.9807351319346,9218.547983700964,5162.838049565966,7115.24847206476,431.82744399922865,2711.436696759092,255.04750781829898,9258.558021364139,8695.793952276264,4346.617618066643,7256.433641955856,3904.330893058635],\"y\":[2216.4440917991415,6106.929337318778,1804.4829663659646,6401.4146179292675,2309.421964254996,3316.7367529251446,1951.8192764373787,9278.41231714349,2524.168767330107,3647.0133926347626,3584.6038828370874,4157.51546721775,5879.955555557531,3017.7112755592393,7111.7750146639555,451.0283199643905,7981.0610030061725,9420.671529260437,2398.0861486514814,3782.787073254157,6973.312219224641,8977.347040197183,9470.544476196565,523.9382032937556,8267.100035997611,4649.123747022581,8396.994991846723,6092.305432559556,9227.3689897926,6934.038144860678],\"z\":[2917.230408020637,3736.844513613122,6618.97079460811,7612.213334185896,8901.15328180365,7413.446244730067,7496.167969023051,2143.3403966210763,515.1530719903907,7055.614607669022,2437.9532863974387,3673.058480170016,4097.0041664531345,7053.317289887804,8556.254965823005,1771.093259798412,2171.2315456421093,9075.563135755283,8541.976349621182,2002.5350196483805,7781.028230537863,8507.034619097782,1164.215136279404,8224.6522777862,2369.4537315120733,9716.363142412141,8100.900194078984,8105.148964577137,8811.78002011583,9133.40617824828]}]},{\"name\":\"series 5 (F5)\",\"data\":[{\"name\":\"series 5 (F5)\",\"type\":\"scatter3d\",\"mode\":\"markers\",\"x\":[1754.4664177416903,3773.793698414679,4882.493754790339,6685.144282765439,8794.08802239059,3747.862882373142,1434.6037493502572,5524.587119191476,4566.374866394207,9312.854113099314,3875.542767963479,7184.3423524234,4229.329593169283,8393.442450887233,5143.094003348121,4296.263638613468,7489.754107862219,2615.670490471692,3316.4138539342594,5840.862577962015,5162.181859989321,8739.876147026755,7241.36058253974,524.9353353776165,7417.810253578529,3934.875889653261,9105.98339548685,2333.1179601900453,5554.784704739612,5467.442222783141],\"y\":[3771.1620357628963,8558.851958234787,1396.5959080648083,9297.123460932207,843.0323593003908,4692.5071288814715,1013.2186128937925,8794.976596070805,6967.97023129363,2429.172075952838,2360.0361844765325,4345.791411300713,2637.5490428156213,6755.892777648968,9642.463575887608,6946.907838011856,9910.02716022587,5587.901255392512,739.5874478392117,4082.737891828393,4886.556955674822,745.6429769778595,7858.02435450023,4132.622346310315,1524.4586311220653,2199.1785461807267,5737.592671900298,6360.666754473629,1426.528415464322,8453.800084878625],\"z\":[6193.281760959476,7139.719404345173,7614.5052307730875,4710.467441898149,2553.3958426579675,9477.663822082846,8976.44894509008,7006.936349427756,2641.6357642197763,2142.722121352415,6071.933943390866,4930.216465647528,4351.278176904097,6725.471399207772,8285.592529975009,7688.260699137623,3572.498660522557,5828.803431784744,6938.693708798488,8338.554714133814,259.27613015101383,3243.05805978757,8900.072151856262,8793.541403360587,4760.206423367883,7442.0923296552055,481.8757042379895,3857.579088966484,3187.9480600986963,3027.0506197619584]}]},{\"name\":\"series 6 (F6)\",\"data\":[{\"name\":\"series 6 (F6)\",\"type\":\"scatter3d\",\"mode\":\"markers\",\"x\":[1962.226327923411,5997.400530500328,7564.904761373457,848.1216766218702,8946.042449924435,3807.8001139369876,3758.1488494597147,6450.588236388672,7956.904805477054,6206.550623182713,7804.4765825395525,8219.978512788795,146.9871935187772,1277.3076118359306,9126.874511421223,1142.1614445120588,8818.719132737744,3376.5310827810604,7356.572385284931,9447.723200869452,3570.986556061011,4630.218594708735,8000.2427125780305,1576.0000203638492,6314.312836828733,7268.506710326907,1029.8040907904604,3872.636321031071,2143.609459158019,1380.9685666085813],\"y\":[5622.668032866378,5225.570769509397,1113.7225174978737,8622.69416634561,3743.1686798928445,3447.857188374485,5332.142857276028,6161.012839576323,5031.296928756999,5631.747117863638,9464.886599258894,6724.976635979471,5552.759243338772,8926.977157198862,1745.6991575772463,4.494368040393049,3364.7632308938323,5237.216296255839,6885.365972465867,7843.267470048785,4564.831224252206,3182.148976302721,1897.0669687376696,679.4458199534847,4515.327875838283,3338.6818996480783,785.3398970178116,5510.189868441764,274.2812381076731,8253.27588101124],\"z\":[4290.3670064475755,6291.086040643523,1913.4652677273045,7008.428878085221,6435.937450399487,6128.631811861875,2367.6055785100625,5229.840568594169,498.5757656071943,6883.7731887718755,7733.9576598252215,5336.810454114855,3196.9709484934297,5876.737571376465,2529.3975077073083,8566.940499479186,7394.980947587435,1268.178351160798,7312.5609203530485,9847.219329889193,418.126927003476,7388.903718974492,9291.446938363586,8937.089298395957,7202.629389922998,8800.24064928437,62.305084231985,6435.109607727356,4927.686997883489,7189.334784595364]}]},{\"name\":\"series 7 (F7)\",\"data\":[{\"name\":\"series 7 (F7)\",\"type\":\"scatter3d\",\"mode\":\"markers\",\"x\":[8463.50570333872,1219.3452589319254,8525.830220209074,8338.46801671395,678.489702363566,6682.625603368137,4522.830517827066,7354.728345481832,4184.781051425987,6727.334399733107,4027.7776323534354,9106.143691736937,6921.439401739907,8900.406434383272,4375.590265624829,7382.645512882835,8135.217362044304,1277.7248289999443,2918.3523561706193,685.0040200501439,2766.0795935007345,1748.123680568412,5768.518504368936,4742.13488832568,6945.631920586672,3200.7208340870066,8916.168081115193,1866.947835264019,8207.396475631924,5785.319285148258],\"y\":[9074.127249236604,5083.169009221496,345.7649709383115,7894.132335269502,6848.922575693016,590.3401063925961,9510.843875125443,804.1010681188787,5392.166151802567,5581.455917099528,5089.308024221136,8022.589685107277,3556.1168576210766,9687.473770849876,6196.75727649934,9295.263244081101,3758.799511932287,7395.19060518128,2194.9713108303295,963.4595269751189,1258.20610508253,5669.750281459155,3547.841381293746,8899.391774579564,3341.7451576535873,5710.307264956486,7542.654280313821,7601.028937475185,4056.2421623746327,277.1433075366514],\"z\":[1928.7890867499545,9194.516508377506,2535.438119668817,8350.793437687473,8363.781302759136,9070.518558189387,726.073043929747,7018.5067891082,6707.098749829202,671.8752295941,9370.2801272717,6430.632727450951,664.8641665584576,553.4866515753356,9471.159811547732,7429.289325628757,5064.1488913768735,6251.349555477642,150.04001299936064,3023.9330838244314,5123.355537873078,3726.187841201699,2798.074515186386,4273.22019608283,8485.594896908822,8188.1363881310945,5731.465084208156,8329.80902445988,1494.8549021623392,1962.4482476091864]}]},{\"name\":\"series 8 (F8)\",\"data\":[{\"name\":\"series 8 (F8)\",\"type\":\"scatter3d\",\"mode\":\"markers\",\"x\":[3178.7414347933786,1414.5259370975082,2220.149625540301,5722.217618678111,7360.166984281941,2308.5747311459913,4070.728098360158,4892.619513394297,2663.483152857974,2587.2424034172072,5495.809279784566,1322.1891804828267,6476.844411341336,8265.814675968139,3225.2063619067762,1420.1745463891236,2108.935855834376,3788.183845074985,8782.589055444865,5875.0146086031655,5407.906589691675,3360.892957998345,591.0245716085516,2797.5084431098517,8184.8945745510955,6520.131913952798,6890.830296855866,5673.261743399316,8354.555615047255,4516.461227095992],\"y\":[7902.661114760525,9862.503472539518,8824.151793182718,1611.80635758297,9194.140472948626,6551.390045157126,4594.396709670171,705.5339003379823,2046.2448024516555,1037.426127271821,279.3919995436156,5841.181579481936,766.0297110518777,3022.645295002938,8309.633390874304,5092.685704781704,1355.1871516681092,191.7134084480221,1451.20389264644,6088.708663200172,719.306470502462,2768.1292234753864,1955.9118951669109,3005.940326585338,690.6065837016084,5970.214786891816,3651.2736398488155,8247.009349059346,6537.295273413812,9329.603896768751],\"z\":[2585.8789395299955,4215.908105915261,5345.603824053686,6688.449763589003,6464.821123048473,613.599549103857,5685.935572902416,8357.593708147602,3041.5120212132897,498.7385029270475,6312.453041686093,7396.445013225258,2876.341895697999,3993.210304848088,8295.82981702182,5266.347859285366,2429.288647220993,1959.448179976254,1951.769875453363,8212.71364163205,9322.717460651695,3236.2642948872,7203.299267163407,4647.226551555599,2792.253620358316,8092.187519619075,3602.720513038745,5529.936443034658,8837.755473028627,7440.072742214745]}]},{\"name\":\"series 9 (F9)\",\"data\":[{\"name\":\"series 9 (F9)\",\"type\":\"scatter3d\",\"mode\":\"markers\",\"x\":[4139.510190249705,4292.070270255701,1393.0481653167437,2054.007839169346,5173.3328957237045,193.91327588779373,7952.224936795965,8539.313436018125,3356.7351674613665,9178.119777634409,521.9642684950232,9128.692493901017,9249.972053643818,9257.339302292174,513.4441994605799,512.3558353822655,6480.810127166769,3266.044037034436,9244.0857053548,2857.2137571335475,4765.0441466341645,409.9772645155719,4088.490017322648,3929.9900208648387,4878.849535115451,9462.642566434504,3999.5786074672656,4811.378147748708,3761.9899487183275,686.780022071083],\"y\":[7115.085570185067,3073.129410181082,8331.284447383607,599.7826474517954,7471.192223485862,6487.223210963313,7296.631978815071,3555.531915172906,7464.231600153063,5346.041694281587,1297.2831024180632,6781.133939281341,7633.037271055603,4294.727007296071,3013.9343020832807,985.5684679345821,5578.644588388108,5211.677835555294,562.6173420566561,6948.263978371433,1394.6990321211472,1120.3938370937205,9439.241812182436,9599.138601287486,7851.061599596352,7375.655298074609,559.0402748184608,5017.656591770935,9754.749086871307,439.27857314170814],\"z\":[4523.060030525957,2506.9686454670514,8406.476229656328,6445.4640850161695,5144.23154230186,3440.2154383488605,3877.722152007885,1453.012458172348,8478.435005741545,929.5962708522576,9952.368489915796,2791.4525727380255,7131.38014683806,9534.814631316302,4008.6136484320546,6230.391324185391,3450.000980432538,2206.030125232986,6860.989263766375,6836.158959931992,9357.460828709016,2447.4618600007416,5638.966922727773,2327.0905060042514,5053.752949762858,3291.304264866234,6147.76328661293,6498.55016420927,3579.270151281264,1087.6320154950924]}]},{\"name\":\"series 10 (F10)\",\"data\":[{\"name\":\"series 10 (F10)\",\"type\":\"scatter3d\",\"mode\":\"markers\",\"x\":[9838.608504250253,6861.068076535092,3326.6121514885726,1344.4839869596747,4509.8734455147105,5019.730035730404,5986.284764369743,5893.337259672151,7167.095926356458,520.2189625184661,3124.8416864644355,5508.689841263567,2089.0872948772044,8896.680284859605,619.4018202012097,9776.495043959701,7078.938803265605,2478.842685827796,6510.3778505568935,6484.699781170755,6122.889702058747,8150.595471913851,4484.626918017763,6100.156366582444,7236.658808673736,9699.48706558699,2164.1404119621398,2999.6948163954607,147.98348784635485,3656.3758285158156],\"y\":[650.769775207497,4039.156594229858,9645.74723595358,6596.729955609227,9365.380336809167,6772.705966962246,6920.221305112575,8759.839035103652,8120.213224520219,4175.7518074084355,3025.5851155115365,3539.463066062699,6576.132294865732,78.32944519774676,5715.029652032311,4909.215692682127,9761.81282952882,9681.803218954796,3330.38866695229,5168.237783197037,7169.831118779426,2510.2719632759054,7172.38908273532,3527.487750722996,2094.99577263227,939.0713583694298,6834.239771710689,2004.238153623269,7343.156344922115,6046.284375830002],\"z\":[1350.4336724416876,8852.135150839766,3214.1169783130886,3949.1839870578992,2694.2672985394443,1326.441766544859,3750.16631894992,16.0533782918304,7151.728361032146,8968.852555847909,7642.136730102716,5384.8384685637475,4406.039936087748,5793.531837787615,897.7844295250825,73.60701177972385,3786.2926710243914,4765.796729969963,9402.682437833393,9633.80293140899,2065.2337572561573,787.1227936478608,841.7023060731588,7775.8001934229,7435.427859285321,9034.930686627456,7099.556205926782,5687.27627807419,9849.636138138329,3952.8612427963894]}]},{\"name\":\"series 11 (F11)\",\"data\":[{\"name\":\"series 11 (F11)\",\"type\":\"scatter3d\",\"mode\":\"markers\",\"x\":[221.7578501561046,9868.441610879283,8780.41324173553,447.02405199202985,7292.7518278734115,4224.173240379106,5635.548734694321,2915.966347891118,2175.8555440378914,8881.625294207826,9560.132699183721,9626.871811929994,4960.042187100906,7742.892374127598,2162.6543437156643,9647.770665572085,3171.488470645173,9135.82872539314,8821.694942878974,7055.298862633898,2333.201061914152,9092.134161853215,1661.4053593379563,2459.824497916263,7293.924347599006,4760.338638015071,2028.1084734127287,5024.505007488985,9897.92202833886,6252.327340046566],\"y\":[8357.001408375996,9102.126239636105,3030.1214915252563,8825.570465180397,8687.07607815713,8373.320577182889,5846.493615674301,3719.2302471718986,5764.015738382336,6942.041391570289,87.43276848878989,5190.840725564083,6664.968385261282,1228.9294762748516,2772.2985494872987,3341.265234348152,8185.732800803702,8700.47205419833,6286.16188213712,7169.155995997297,3850.041840932691,9481.626480471547,2895.1955663009753,9962.153456542577,8332.260700955436,4721.840242279748,7065.037431473409,9610.581560245779,328.9623416589871,1219.1673014592975],\"z\":[5606.84679183298,9720.40726658829,5471.482074775533,5254.447355890141,2638.6608197000483,3505.7507747124805,6740.695641266262,9847.277274964332,3625.0553510185678,1357.247753391304,1026.9008800965419,8717.772180379354,345.9970968371884,4711.079656318427,6971.830011300059,7122.878902524376,6546.1732959468245,3384.5065092835334,1036.4548463787505,4433.268632936995,2228.9669782258247,897.2472117550778,5857.391455061474,5826.602538021316,3084.644147416391,2464.0753680912208,7386.349953055889,795.2294280866179,380.20412973082006,3322.5051937982485]}]},{\"name\":\"series 12 (F12)\",\"data\":[{\"name\":\"series 12 (F12)\",\"type\":\"scatter3d\",\"mode\":\"markers\",\"x\":[5051.21449509282,4301.140672975645,5788.740061733176,850.4668496597723,2233.9827316290252,2358.2726329628576,5099.039910561163,2532.379070475589,2729.930697090458,7582.010484181451,4521.5596320899185,3248.0467427244585,2534.011753548877,1818.0197433844492,3394.7785469357727,9587.324116295098,5294.639365649564,2347.285619223297,7496.347155713998,5934.503126489905,4081.6416403306534,5361.522028060003,7876.324703994728,6919.8971447279555,1734.319669091988,5412.859722785409,1155.1927451065958,3502.112145220726,6987.179691342915,2364.003250398812],\"y\":[8567.225460608746,5423.0071206009225,3815.0492993342386,7999.805734032527,2680.1826827272835,1068.3647617004299,6995.931967487464,2908.474844711304,2685.1905171319468,6870.808524352823,7759.091084715142,500.3920423625352,1426.055150616241,2307.516219471263,9567.49676554338,9104.79277385854,9925.153013279752,3273.7980991071813,5577.910501071793,4969.317818176712,8063.430212767492,6154.6210241018025,6128.520905781871,8684.714007780483,3284.931135392466,7269.677734928438,6723.186467558856,5066.730915647665,2721.6710443905345,7533.614949877545],\"z\":[4412.980567421224,1849.5159640037696,7972.555945004428,151.54792100988357,3219.876658866293,5679.590738636622,5920.442827182159,9961.009042829679,7304.048145720736,4846.742586505802,3434.327172601218,6634.990571353071,3945.4029240802215,6947.938796187879,8579.030700588368,376.754667805691,7091.609472986153,6252.639137437158,6042.65801264224,7965.608262390019,6219.0151381155565,9922.636880060485,9892.477302219539,9053.845092037642,4559.492802779708,4436.837515433995,2482.772824399543,7468.579507671845,5365.400640587061,3581.1399865675153]}]},{\"name\":\"series 13 (F13)\",\"data\":[{\"name\":\"series 13 (F13)\",\"type\":\"scatter3d\",\"mode\":\"markers\",\"x\":[4363.60657731094,9938.214217533665,4816.4715899272605,7185.855292609536,6377.32004128892,5141.790924093237,5416.597066506814,5427.862946607525,1779.9914846653419,9270.496837161467,4285.104626284043,6961.970209450523,3187.9626286221883,394.11418492087734,6616.274457076029,405.7039373508409,6424.932055452391,2841.209760150645,5762.47593738051,7774.033990259956,933.0084669625282,4530.385410345567,7890.448850801778,5345.287788272975,4311.504189016309,4730.920044527786,966.8956902298354,2136.7862497965307,6760.142777494353,7084.651091030045],\"y\":[4948.686761201429,8678.492180492029,9728.741991282119,2886.960650786613,2484.6265290753076,9095.232875292755,1913.3271272579532,2603.243485284502,7179.867435191138,7642.818385503666,4889.017541684802,9388.255507476213,9530.696067818519,6790.6492819731,132.92377789913323,6979.248169731444,9006.562521938613,7703.167779625362,8965.677243427137,5749.81959292184,4437.858838319522,5544.773000759988,7028.11192744083,4939.923629353871,3862.096395492013,1417.5906231209212,5310.0021447634645,6118.491031872316,9287.771180024658,9938.746666841222],\"z\":[460.6557263140432,2788.640707689044,1454.3492196567743,6473.565285578896,8136.549821493232,3711.4647600962635,4598.439017351978,863.3753462460236,4479.087264393773,3002.897705242469,1480.3665199728832,5121.372692882384,2465.9440907744633,8349.18363813406,4482.00297886541,1017.2583005277913,1842.367017980512,9789.980213483075,9455.836531700532,9731.12738109348,3614.172158097766,5434.153512489752,5186.924306440509,9829.361287369135,2672.0850279788087,7201.822292058077,2823.4972260214918,1700.0298580840656,5017.454647967165,9227.244736486522]}]},{\"name\":\"series 14 (F14)\",\"data\":[{\"name\":\"series 14 (F14)\",\"type\":\"scatter3d\",\"mode\":\"markers\",\"x\":[6438.630867552314,6282.587485550532,9272.263882603114,3910.636213943356,8004.539424264797,3436.3993485562173,5681.748045622555,5773.039422006766,7492.688432521668,614.9142596852464,9655.826850368247,1246.8704409058928,1557.061271347313,5647.052591859392,1045.9435847397535,3325.790138090049,2314.5585415073256,8374.653927667669,4816.79409933983,3601.059105186377,1105.6450230919468,4654.588885834778,3547.826057250674,627.5520843247983,800.0065584582494,2806.404777662228,7287.268336745286,2791.126310562997,4206.111642131512,6971.146226530084],\"y\":[1681.8527804234839,5890.048867071562,5450.220566261172,4044.250721097481,1018.272581403321,496.70651704779135,5809.520059241653,855.1880664629075,8837.815973827843,1831.838451307871,5415.705519861704,6088.777542126021,5123.504755833732,5362.043949847543,7489.471437688246,7077.885168746933,5709.454071237329,4622.337106452512,2323.0133860998358,5044.461671323262,6525.068010709398,3869.033414427671,4096.781795659794,3625.656475601643,2562.067396984509,7084.267993465093,4798.374059567202,4594.0008596960215,9040.241841041296,6581.966128863351],\"z\":[6005.585783061833,1565.426688531454,148.2097667910498,9006.093776200616,1102.2871126746425,7186.142904291384,8948.355514461626,3865.541241682801,7614.9316149825945,1799.1688745375145,560.5103250012289,9915.998637716222,1789.1379026387533,1913.579491796803,9576.82671032749,7677.707316939213,5269.93584406561,4934.289572130651,1810.6941235031993,2168.978711980841,6805.901595348862,2557.465856276048,9945.427858585717,8538.893635152384,266.55074703533785,8996.423444910013,2423.859405050873,4698.606982237109,3943.995276061807,1775.1286235662133]}]},{\"name\":\"series 15 (F15)\",\"data\":[{\"name\":\"series 15 (F15)\",\"type\":\"scatter3d\",\"mode\":\"markers\",\"x\":[5007.841810522553,9279.198795606197,5104.017105430817,2211.1947329584614,4837.078382637222,285.03292306501396,8058.343420519537,9907.52410310231,7529.5714910071865,9665.091923788837,3649.0577634966294,581.5139654295931,8891.379552137672,1690.779733646992,2967.716225884621,9383.011560363026,4141.262258626416,8507.196279141901,8375.877814246227,2486.9672590832324,9206.178553391821,4515.902345010335,450.40629860613524,8194.000824977733,606.5048270690554,2350.7128765852335,346.03119248947655,5031.86346239462,2725.2155424363177,7124.068080171171],\"y\":[3249.3037201516286,8423.039587252233,3843.1748664541988,2350.0490741062717,92.22123947297378,9368.502057929607,5223.065121481703,491.122926438462,1500.4338701305642,8294.900408705525,737.378255549005,3429.2121985723443,70.09077109407235,4722.221047640776,8061.2810361769425,3327.7050752848604,4499.018549285573,8731.233320915746,6289.059668192086,2329.5341306301766,1842.0707789591117,3344.792129619345,8983.235055737749,327.46935959511944,2217.1250053943327,7884.341579575994,6128.337876932683,3646.286250298788,3657.344860868673,1122.7209753474842],\"z\":[3236.715151208849,3892.484318204703,3486.9643731338997,9626.648459714903,941.6344724042281,5455.749397521331,6591.9962003203955,1067.018351363972,3813.3466342672305,2187.3649959986574,263.90077818901017,4472.413478546587,2846.650068216775,8634.299366869158,9913.397395361848,9411.003694183899,2093.895485877871,8873.702687942741,9883.237459533595,3908.2624301319147,6255.261320903573,6471.072516157844,8832.904070425277,6542.702188519599,2688.5179097379687,2376.3557038923577,9724.835721243182,1609.093865146678,8263.389928979866,3675.772529709126]}]},{\"name\":\"series 16 (F16)\",\"data\":[{\"name\":\"series 16 (F16)\",\"type\":\"scatter3d\",\"mode\":\"markers\",\"x\":[310.91979853993814,7498.400906451237,8761.019288628942,5033.1636291499835,1199.6380596564081,7515.924090258641,6106.916270096948,6383.18060633845,5078.388871711278,9243.922002856143,6626.185013990288,4979.64505979731,2472.149414598197,3252.2311597406397,1722.69204409917,7255.933912598223,6538.7839253220045,4470.181430471806,909.2431630848574,6120.245236580506,1832.9445377215436,9855.365819780418,5953.720483147641,2287.1319636532785,9714.648307105614,4129.589456268069,4056.5255918890366,4037.6925877993576,6135.262206708791,1299.585929306628],\"y\":[7437.562594537642,8404.333909673438,5902.757588844187,3439.860473927915,6486.3867475250945,8192.02889134513,1209.748690453919,9787.279114042036,3717.0343465889855,3476.5124250900094,1201.9601858468309,8581.79100181567,6169.443415607922,3260.874525029509,3671.413205623465,1284.938596759444,4612.255870939545,2825.52069659598,9577.763046982505,3817.571349575196,8927.199102165992,4972.4913546811285,6032.856652130524,2280.4503294346077,393.1155799644659,8843.64200703283,3627.721411748135,1256.190513289156,3238.115296933267,8283.206591797141],\"z\":[9537.83972068072,1238.2571898355689,9791.21183727316,2818.7783365379314,8711.697926593479,7992.499409812937,5840.188176771294,8250.759052639267,1629.248009140085,728.9615719923037,5390.336197593705,568.8448703922577,8611.051085559155,7846.4935748361895,6919.101564185878,6455.130480009551,7465.520464401168,8709.928631313243,6434.55616013099,5986.929442645558,3380.8183619551014,7429.3784236288275,6171.009707808589,8318.425520263607,7399.601394200521,9933.452631379656,1592.9664435971947,9098.782687371639,2558.953623606808,8762.977379460595]}]},{\"name\":\"series 17 (F17)\",\"data\":[{\"name\":\"series 17 (F17)\",\"type\":\"scatter3d\",\"mode\":\"markers\",\"x\":[3529.018390127503,9175.36100513981,4834.480502918727,959.0512608876356,6720.164268309373,7734.197852125119,9396.684570925658,3179.050215481971,842.4233682612636,9445.929695584166,1369.380525263878,4746.445375879724,5151.5177280585285,4413.848206120646,4274.047629662346,3725.078562294231,3297.77204535767,1761.797423515784,8650.659072538012,3305.7922394855423,572.2853448481579,2553.1357077937287,7964.669986407401,5803.085703479054,1870.8070058818305,5397.9991612416825,8841.48270076553,9381.730980912154,4999.650003247974,8584.624303188017],\"y\":[7913.853740006211,8268.048430879353,598.3570888576772,5861.496158215527,8124.339740877265,647.8046951190674,6916.731988477529,9100.611147299149,3194.031037388698,9712.46919948877,4959.236345961427,9988.153490867157,150.4508688047146,2387.8200655869487,7097.640674180947,4617.403233861305,6301.647625672629,7163.666130224154,153.2152919320684,9399.706498190952,8850.142838091026,7140.709453155616,2162.629658513291,4062.860697827866,2459.5412303491394,6920.345151630686,567.1251667264931,7672.271649023853,2518.246513541598,2285.454619706838],\"z\":[8402.416161098485,6588.768837108453,9588.87420306619,9755.018310799138,4217.158946332103,9067.969494137189,3588.5809777364166,9042.638296266197,910.7292559618885,9809.602427493723,4614.686178266311,5208.82725463269,8456.430194193546,9181.220837008563,1011.5876056417983,8869.182689793759,5564.146635410355,6069.242663696692,4269.124915595601,2205.338221422758,5736.855054788316,351.27729439285326,4649.176400684311,5722.839722627483,3888.2844054570833,837.212759133531,1056.422780973928,5709.869108493211,714.4160226162977,7192.549839250173]}]},{\"name\":\"series 18 (F18)\",\"data\":[{\"name\":\"series 18 (F18)\",\"type\":\"scatter3d\",\"mode\":\"markers\",\"x\":[3600.846177844541,5172.995451610379,3349.402513490488,9835.99022769263,7543.677117749089,1660.909218925345,2486.8730116553984,94.29761473693677,2875.141557685746,3834.348021941516,8110.487105034787,4000.9640407832426,4641.499651144859,4900.199480186204,8252.98400933283,7041.240984346876,5320.510368531825,5100.027190717335,7790.873378876981,3874.59192619771,2038.5960831521566,7328.02978886486,7182.294656082302,6606.657903158547,8229.621216959986,9650.713061569833,4268.470162902116,7536.327417688847,1454.339903486157,6010.319113670897],\"y\":[5784.564175437319,7469.5294379212955,6531.208027572178,1716.3179675487472,9063.650599475392,8669.874827522954,5873.399711113429,3464.0413438932082,8567.886027155308,2307.295085558123,6983.498555495886,4566.795178624577,6343.869343149111,3869.335417916533,426.4877227563979,4847.557821607571,274.56765358477185,6415.781408137489,283.29404510735844,1208.6365083144335,9088.070436015643,785.8086805642073,3081.2855591296084,9282.418725267265,8483.832385635986,3907.865155433087,504.76158328202735,8763.619739092743,8449.94842415276,1216.008796416287],\"z\":[5807.616549936952,5033.198191772888,7870.403482724811,6842.435957745574,3781.9980505207504,7506.369803733918,8859.1218885935,5734.462047558613,9380.920275855337,771.9230349756434,9908.036278776643,5135.216854378869,649.4342963081879,8037.297100940638,3899.2881382488354,8970.8447318125,7488.099110074616,7653.658979134823,4307.057291072955,7603.009901113345,8954.136132371945,2567.4714434810176,502.4147364424281,7134.023999146119,8299.791658055357,9429.816872986929,974.9766365564739,6992.926537678875,6754.069056565283,8792.001797216637]}]},{\"name\":\"series 19 (F19)\",\"data\":[{\"name\":\"series 19 (F19)\",\"type\":\"scatter3d\",\"mode\":\"markers\",\"x\":[1498.0359379334573,1884.368685601563,4173.141740487198,325.7409403020017,3789.2320908368138,4348.1643706345785,7116.385759733617,7328.473827239605,9056.71246480165,7155.88533676574,2649.1229590099806,2909.1422031368884,9971.131358030034,561.8972797214361,9229.801763665666,6197.017868192212,4066.719643332467,8029.748359134512,4408.479815582392,675.9372710158374,1350.0518552494145,5470.834468124316,2745.1207011810798,8318.562985771854,8983.025832049416,3260.7837382291304,6350.351012995754,2580.0604751255564,6306.962270200922,7340.019015494083],\"y\":[4757.969594566412,507.8432644896469,4187.622214223765,5558.469077832507,457.6356839002649,9233.80395281967,3686.3279524155055,8090.420734602454,1347.811082335093,4937.716384527985,400.2693867814977,6224.012304930824,1613.1646740684669,3005.2561202113116,2465.4625339265103,2120.891729811917,8087.290938866517,6551.359058143515,2178.7199562926116,3245.0732103383007,30.739936943218193,6739.394553759092,3470.3876164069593,9076.043854075924,6435.984782161844,2398.901549129162,47.48190341038683,4449.688157933878,6465.106474874925,8329.40096191036],\"z\":[1927.2658263014252,3411.611172739425,5432.608200230306,1375.060704881087,1294.183640079234,9820.961312923768,864.9144451714974,864.7564283753917,2138.4649771478926,6108.861771755618,599.7502425359024,5334.33946153123,1972.6061914310144,9574.085925808296,7632.739070115408,582.6828944628593,8072.320354257875,6389.617175711543,4475.193240419585,5060.350389046202,5151.44037195039,7097.255967728924,3156.2181297397283,7349.490477660527,6155.654723595355,3783.448407144191,5683.884043827402,7065.828480038361,2947.835505416192,8358.032622449362]}]},{\"name\":\"series 20 (F20)\",\"data\":[{\"name\":\"series 20 (F20)\",\"type\":\"scatter3d\",\"mode\":\"markers\",\"x\":[3774.3701316633183,4898.395625316077,9058.121366389265,3398.6037487901153,5964.61479538233,9699.894250962687,2384.8000168909657,1876.7274952685998,4843.155693491898,550.3712652239179,1757.428325709739,9748.236420686322,7065.479744740593,9539.131539881448,7611.518285597293,5868.36473443975,4064.343816474856,6644.591642292895,3674.510731164825,6983.4925236776635,1922.168533950136,1539.0398028715736,3525.6429693659743,1654.7839998983593,4741.747895604473,8405.033077606557,3167.7122936742862,5885.020830231794,7033.15850794439,8922.426261832186],\"y\":[8336.628903128203,4948.448784554088,7128.890984179109,5469.797585881853,3175.0356094139997,464.4688719362122,5445.869833650233,1281.2977802730352,5109.16979379358,9109.521054373876,8532.165083511169,6809.715148714065,9293.529740962404,9527.526234026212,2267.8436721632943,1868.817149289006,4825.798673085474,6977.763508760882,5333.545242400115,1262.792548189331,4084.8709149463602,1050.0791337892501,7117.009199126292,7557.884777888559,6007.716087390422,380.83646242761506,2596.923013533934,8411.07059322286,3896.203984654053,9719.036224619038],\"z\":[425.0975570951554,7442.909501305796,8432.909891919495,8920.545062332041,9422.119380887058,7026.4477339319665,6985.304296708362,489.39201224487806,3008.269950638951,8561.329724981393,990.6256363492971,2138.606597589943,710.6411837375204,812.0391234652568,4239.123959483849,3509.08551522958,819.0187875222232,9711.448096301496,6211.253420897345,1663.4941374729683,8507.244355120982,3665.6290480912303,6274.783865994356,8263.221673848522,9293.407363082224,6843.142486401729,6510.690731540079,2439.924392760453,8581.363306478652,9191.780346043834]}]},{\"name\":\"series 21 (F21)\",\"data\":[{\"name\":\"series 21 (F21)\",\"type\":\"scatter3d\",\"mode\":\"markers\",\"x\":[3212.0739043124004,7289.213660983871,4207.706022574182,5998.015207526696,9688.247058822477,4642.546855118355,412.47268204316345,1689.1637278172323,5906.527104089921,2314.412481559437,8458.49335333511,2275.54391880439,3717.150479519773,375.40173724434635,1243.4413362600694,8339.670096866654,9932.123819248067,8167.782535690783,6680.279969010295,5801.794134269149,3366.717907780913,1758.7060781323848,7365.942150085814,4825.866771750851,6102.694750143624,2317.188563500636,2114.719637896838,8177.260436777026,3695.2552299845433,9504.531885411308],\"y\":[8301.980296174657,9103.360485155607,3821.0827050758635,383.85555250062043,2645.470309537409,5380.39340592081,7952.745975199115,3582.9375417559386,2045.6023021967208,554.6320096415348,6045.123932320171,485.5635237164802,5412.766289845701,5603.3795871059765,9932.392127774701,80.11671985426628,2028.8472557009106,4250.90059168983,7159.515553568997,1760.1398950449166,1921.7653854954308,2996.733670563161,3310.0716199167537,850.1265544698266,8976.005256479732,2548.5849065343778,7542.626726216798,4920.813349675962,8058.73234236021,799.2677487668653],\"z\":[3010.7720129501013,5061.755665298374,3310.242150169743,8746.920727010627,1117.3214809798303,5194.9897474006375,5929.122622253518,9829.997938623063,6141.064383582761,4242.098920058557,6276.656915643382,33.29762306709006,4674.8497447004,498.0131870739535,6931.627619238706,818.5525663431492,2526.6804256507335,4918.395880731202,445.8308144317025,9442.879281012421,260.8750163670326,193.4749187213758,7982.243348101491,1550.6437659888527,7394.254473973388,5459.7021320669255,2761.9319180189395,9059.067151440731,4412.696323787291,2291.6341821342944]}]},{\"name\":\"series 22 (F22)\",\"data\":[{\"name\":\"series 22 (F22)\",\"type\":\"scatter3d\",\"mode\":\"markers\",\"x\":[5302.42825110903,2305.1649759720017,1236.2914491438314,6219.947231526993,5799.440305230358,9181.371940402301,536.7295761834267,9437.508976576839,2685.4082068403363,5559.477302080847,4398.427719796111,4583.951683526809,5392.5504675026905,687.2554094771266,3215.3110810481867,6540.205085280519,3654.694759741138,8439.445964718148,6428.041783354284,9017.95749671084,5301.318970973484,314.5027524875621,5731.883497653593,5395.041135831602,9428.87696386793,8890.791512556249,2723.2816872994304,8726.238394134827,2078.6177129747452,1090.691963315209],\"y\":[4603.628411160334,4150.03481637809,7106.751443864006,9048.315008637599,3521.56959373251,8015.352207205328,5801.954786896914,2636.3183018898985,7410.608854458608,1968.3116795456579,4986.849651021922,1779.5646278407517,2766.6454173801258,6967.59727642153,4834.226347746617,8568.139751275328,2710.4811188106883,1737.9987482629922,4435.429674189978,8879.500562060328,6893.214931710133,2525.234868228702,5277.460672800354,729.3044786456171,3327.8423841757,6181.167708147176,216.99016776687063,1892.7241073990454,6068.260622519617,6587.041442684992],\"z\":[8283.620417380786,2472.822691304426,6807.27328676946,5213.386100853446,3701.372787966617,9039.833715678964,2928.0822482841286,218.75151465227339,886.5191192571531,5724.946061209322,9319.13949604828,4905.443314696728,5861.513307301116,4224.469190704289,6350.126057182964,5578.956209811397,8518.923092597111,9055.016289589164,1807.21506945405,898.8109045363591,9475.90414767796,6597.60494893771,298.66656535131875,9662.016544579035,9878.891263198642,6478.34695369264,9667.189645452801,1626.4008334817636,2449.832897903399,1655.6598580161542]}]},{\"name\":\"series 23 (F23)\",\"data\":[{\"name\":\"series 23 (F23)\",\"type\":\"scatter3d\",\"mode\":\"markers\",\"x\":[283.4046891514741,6459.557499801977,7309.425948574455,9218.699536703498,9745.120678582067,9190.185117218192,6669.456650261653,7348.9809219834215,2470.0411441248893,6642.101991811831,8355.487209123368,5156.915920215441,944.895980788929,8247.236216679357,9302.774412280487,1177.2658679739634,2981.892405190204,6362.4108852218005,6662.44101724624,3192.271593063525,7233.766804198622,5755.754714604115,5961.565549487095,6748.487193137549,7431.607619208383,9282.087778519506,2879.9990115415617,2243.1114833759702,4335.015164973605,6932.644441267901],\"y\":[7638.347649073279,777.8786287197048,3222.0504117187575,8423.014632331659,8735.71479302607,7113.328718835501,3896.8166119784896,5274.1970400718965,5832.424666000433,4003.5502308721793,9655.409715914251,6945.17674789715,9942.097436241907,5951.2524688450985,1426.3625124397229,6991.450534123191,2779.083584340687,1995.2870201380467,3389.598722782138,9452.444730246327,6101.406501643416,6527.504652046628,6778.303281832881,2711.7821708553715,6196.002632275093,4333.104457237252,9281.007943123786,7927.870229989442,8272.1897436658,1058.3887571607709],\"z\":[8486.576257657423,1798.3001803286281,460.933828399388,3132.1127713707842,9152.672746978442,8900.062576671415,7361.6265342699835,1801.3739133580154,5728.678377733026,7138.595394811039,8634.723717322055,4390.260075908013,3526.91816741483,942.2064503571603,9007.739909999422,2149.2357444955933,4211.448331252876,754.4150556001483,2243.73127240914,8135.512024622445,3861.5440909304643,4105.284053620142,3115.538846732955,449.41677090108215,4767.420950931237,3083.8234054710024,8235.710325433409,5849.034441567524,5328.61220581213,5387.062750162261]}]},{\"name\":\"series 24 (F24)\",\"data\":[{\"name\":\"series 24 (F24)\",\"type\":\"scatter3d\",\"mode\":\"markers\",\"x\":[8711.153148628748,6275.170053705935,5950.813522591642,1287.408785006533,5023.214383395227,6140.936901275178,2674.9002893890083,6838.413345871271,7278.025759193093,1375.0468337528976,4422.2104313175405,4430.10220372549,2028.5890316043542,2155.144958967449,4203.080213642931,5408.518860956751,239.22093216141027,27.29044447026263,9411.004255889835,5890.1673277812315,9644.613881109373,6679.959230981272,1412.6902419962285,6130.537404348897,8749.914783758732,6025.702242625921,44.6611462434332,5846.927674710439,9024.85680087237,3440.8656723355325],\"y\":[4339.956283108098,2749.2829478088765,6464.128973707015,6023.537589523213,6833.866285987272,9198.789988429577,3617.801275188451,5552.15934945976,5135.530811854853,2392.4830660808448,8439.768299599502,1461.9977010573436,1102.6197334115295,6763.129212429159,6858.812234450955,4603.94493742651,4919.207178062973,3387.180644284038,1846.0289869797552,3809.878602944051,8652.337325439406,109.59470491588075,2934.0000821748613,6361.074824096479,1450.6758525019825,7822.837501287922,6637.235255995924,340.93980578959514,6449.025373325256,2878.404380451348],\"z\":[30.04759582696859,1550.5876779893667,7655.3815973047585,2962.7062597165864,6857.171021473684,175.55445785440438,3622.5882303989933,3935.1839631459397,7984.060392950848,2714.212758132095,3544.547737793271,8105.030571993727,5737.966020911951,2813.2056018362473,567.3318727231291,213.91811046227895,4747.504969582881,602.4972347619373,6568.424809243819,5995.636829324736,257.6003215183553,3882.3884308800702,2432.7266707816784,9599.5748395178,8578.295225964805,6087.124704862607,7941.832363272969,393.4803687537025,3320.089704538245,5334.4822015649115]}]},{\"name\":\"series 25 (F25)\",\"data\":[{\"name\":\"series 25 (F25)\",\"type\":\"scatter3d\",\"mode\":\"markers\",\"x\":[5793.491971526644,6701.96323491257,5375.092455124567,6067.982543939894,4981.052026942151,3890.708038593117,4222.414462383905,9808.156839975649,9788.063210209732,6872.390861860822,3067.8784427321725,4351.543968334902,1991.1351603382288,2588.7997648350656,572.2531382422613,1390.8699264887414,5514.5060339701495,6314.682130251079,7478.865536215286,977.1261002659714,4742.688495640288,6732.352692475239,7320.584861254867,7504.025279361627,9972.939572216463,8642.116210303682,6567.807578372177,5967.585216031574,6077.200283866046,8902.067489620498],\"y\":[1073.2229245355074,9138.347705167838,3343.530579058531,731.8546116415392,2475.769826519718,5981.014716396188,2679.9683206513814,3868.502996014542,345.3402043811804,9166.04282648752,889.1206573332955,3228.412779611934,3281.426893314652,4840.006031015972,5559.693047808648,6708.1596234162635,4923.050930586973,956.3002056799108,3271.551195206898,3547.7448520997636,8883.94496764066,1415.0338981069233,9273.798666639186,8283.453442634407,9996.11156688891,2020.703236223602,1570.746660274962,1733.4992834312911,7926.514296961429,838.5327132174458],\"z\":[7438.5435971005545,9688.145462472465,3225.8001705447127,9915.109608386634,5795.618125428697,2017.0115728823612,5174.593628456076,7526.222184558362,4562.984634414197,9759.78706681191,5412.041385919105,124.56455411351098,8175.851173181525,5432.593369012093,1262.9295355990755,982.2468280839303,6745.854125557319,2260.744550465801,7923.834876461656,8157.807027106692,5023.641766357463,1339.6823246908252,9225.411209913971,7864.691339572983,6274.417124927896,1829.364986629556,2557.0538284031686,577.9348227857805,3454.4377498307977,8203.415922851087]}]},{\"name\":\"series 26 (F26)\",\"data\":[{\"name\":\"series 26 (F26)\",\"type\":\"scatter3d\",\"mode\":\"markers\",\"x\":[4721.82640127783,6288.0351103050725,7664.366883051102,302.8467390899514,1983.672597157299,2195.788421572905,1755.7545631073124,6485.188506929716,9375.578117930234,839.1065079704085,5179.823764970936,7513.3766285017455,1456.488416119891,9152.617548530769,4693.122753930803,8994.758386814405,9136.42635395349,9283.10175403041,4372.497963852101,3159.0952032477994,4933.398548532677,118.59224445861739,7542.2323709322245,6555.463434698945,2082.315870988121,4436.229242685055,2679.081627976544,8851.454731895334,1285.2954924238502,333.72162190875133],\"y\":[5136.337413440705,9334.111222096564,2574.3548234909854,7181.542568041968,6615.929649072636,1940.5306972119406,8751.643034902494,5717.740685618488,4717.979083480217,6687.103230002725,1179.003838689775,9104.524222230455,5610.0930165278505,5219.8502911668675,8307.79494625547,6775.532339627941,3884.0951158904936,874.3571718000143,2271.5402660354243,5724.982858526444,5005.768083242256,9112.299659456707,9108.120376722482,4524.641011770809,7413.574602148226,2492.590015634549,3734.859815009395,3801.827199818637,3285.2225929356227,5438.67257541713],\"z\":[1668.9966288108237,3171.445688360773,9266.320144903306,7979.523883211363,5667.675602221588,8687.277027790176,1043.262336206131,4370.423707470091,6955.731952415193,6762.551546475527,8542.884432904142,2040.5771882207823,7516.18256360292,207.07664282618276,1754.2993596592526,8668.188936450764,2037.4835804582758,9537.964623899783,693.7371873681575,349.6026698026422,5543.242260739292,8043.270261445959,6871.0862659570585,1807.6329812371673,5474.229256474903,2212.610129739567,7767.231879151492,375.23788800995715,5049.157750784549,96.10600786890022]}]},{\"name\":\"series 27 (F27)\",\"data\":[{\"name\":\"series 27 (F27)\",\"type\":\"scatter3d\",\"mode\":\"markers\",\"x\":[294.1779016355761,9094.190439811251,8099.858291419367,8912.759059286587,3985.3269011752823,684.4263349060565,4258.096454725582,9801.624166716849,9751.1823628372,3368.260131645371,7365.442412775457,1993.9234926275585,5436.13320316579,1574.6756968322827,9284.22465846688,881.5010473276664,5124.865521532248,9402.41638985131,5906.7505806036415,4466.786060141121,5172.340912497359,2386.612241044078,2091.6174674663557,501.7028600840745,6269.169288743107,3592.198753607725,7500.069002180454,2257.7208996392274,7504.595085550307,3348.3973407119747],\"y\":[5862.005837733028,4316.517155436448,5352.208934932163,8042.04408183219,6070.389104254173,1030.4752390800898,7778.880340435956,2303.565782037531,4684.420853133824,9374.52330407515,1265.3096095611427,647.9226131195204,5916.026408205412,4795.568706092168,6426.974308205443,9173.849110765916,6980.802012720748,3363.061298786658,6137.145517337922,5278.240279279016,3813.7334396657343,6033.974804370507,8579.037774527387,3508.5480576877517,4581.630219566325,1167.7677325238355,6492.0434577803535,8654.569319032953,6168.365818086783,9561.648587224845],\"z\":[3027.3994372943025,2972.014245673844,1865.6451567669474,2223.7344334285226,4091.515899246688,3033.7734480166755,6871.170692783355,4861.459976451841,6830.599799381538,3120.8048453064052,1877.7152671884978,4634.857791772902,3998.0814942660745,6293.0834476607115,4030.7501889377804,4109.097874397876,4346.756815884441,1322.0735854000454,8838.916818864178,4537.938208365558,9900.440069963814,3519.692185810105,6240.773723954799,5619.505932995139,1985.3144622962238,164.75813469164268,8962.889751078295,1688.092409476456,9239.06171404843,6706.4263472716875]}]},{\"name\":\"series 28 (F28)\",\"data\":[{\"name\":\"series 28 (F28)\",\"type\":\"scatter3d\",\"mode\":\"markers\",\"x\":[1548.4925282065576,4940.412668945847,2466.237811527744,8215.129272649136,3992.5283476678496,4742.043198727345,3171.2542334404,1655.0623225225613,4788.122407447303,8319.520737644978,4875.7179469000175,8468.261791172541,4371.0734640001965,2215.846634287029,8914.769276561845,3688.8442033227598,1443.1593313140845,5771.912765104219,9307.447393284256,7346.990533480464,1461.6642796528433,7593.620233242513,4509.012364942523,6275.769172797004,8701.685764060187,3474.2424992751653,7378.528126921561,9599.916503844432,729.4160797362048,9563.83479918867],\"y\":[8532.917497690441,9164.20188951301,6868.734333594376,7712.269052563525,2409.07828502087,6950.020568505627,300.0856876698865,859.7326553435802,9818.548817767623,5132.380545418028,6799.768617617835,5108.298303066602,5554.595835871221,845.4513950698961,1809.3833782553093,1680.4340596683376,4699.492909345746,6953.376867713365,1519.345482263479,6355.094963272831,6680.14451100302,2164.048801500086,2956.9999719067964,6169.2940627577955,1833.1036936415967,8677.073415080791,2689.0197206050125,3182.8258819827984,1265.4225698144028,3223.1641701126077],\"z\":[3679.406076238806,2926.073149602998,7135.661629861873,7830.718128660618,5088.555053911413,785.5984607195443,7129.779176656726,9946.342599470161,355.48941915658713,3029.485043578868,3869.51105130241,7639.62284095661,4774.502615543188,434.15735809076097,7266.238439254607,4538.426288909107,4959.091635490516,1546.6807669269333,5421.238013783684,869.5645854804146,9080.211054871932,9501.298073458485,7573.594770867497,1520.6442011225063,8572.505161409159,1006.2353908247135,809.9492827179466,9392.453206561044,9121.32871056726,8626.566320325972]}]},{\"name\":\"series 29 (F29)\",\"data\":[{\"name\":\"series 29 (F29)\",\"type\":\"scatter3d\",\"mode\":\"markers\",\"x\":[775.6432758526765,2477.249509194036,1174.9979316448112,7811.197984921871,5464.7175927046765,6076.82910402107,7970.862363161686,8246.799620128919,316.60457420573107,7365.267712835429,2120.4209458311398,5068.7668035922,2310.2537314439373,8104.75140839542,167.85323975491818,9219.07667407953,521.8103724415856,2738.9161106588144,8217.96960273631,7813.153869566024,699.8699113120266,3316.642135027966,723.7351532971959,4762.637574767276,1812.7086748515353,9740.260567974607,8830.152304069314,9098.199576581796,3234.7931177438695,3685.643856006976],\"y\":[4290.433735679598,3446.334082171325,2265.25307985419,7207.669298370871,9902.037450160282,7936.301546227242,3008.8968465742773,2523.0603870823397,7654.2733607044565,5448.177421631094,9300.74004736477,7753.626394815162,1335.8353839305703,2560.219776219207,6317.906715732839,4516.434973787596,1219.7506416580384,6813.540220726647,7798.152248907177,7163.469075365665,4624.8794764134245,4984.318664507985,8372.150226089738,201.83629347352516,7647.2396839482935,8938.581160202506,3417.075537177734,9966.6104106572,161.07043532740394,5341.811895263051],\"z\":[2051.9050392601657,8971.908173086658,8308.69013819821,3005.449179403995,2420.2483173373234,6531.8085925224805,6129.844230167308,6974.569355515683,2244.4149295775173,7221.250433673035,725.3806265543539,1595.8349917958392,1784.807802002738,9538.048161698642,3406.726895750879,5752.050801916617,801.6327699320735,730.6899651902165,2651.7907482695477,2209.4271235611627,5891.294837940399,172.59298738077743,3369.538768354421,9595.928352110743,9657.752332610546,2892.006834904668,969.6538647901809,9913.840007333174,8579.480072799755,6907.775298985388]}]},{\"name\":\"series 30 (F30)\",\"data\":[{\"name\":\"series 30 (F30)\",\"type\":\"scatter3d\",\"mode\":\"markers\",\"x\":[8040.310894834955,6686.958720390814,2145.5944488150726,2874.6765446142863,6056.251560727145,8852.57305769124,1860.073969453354,2208.0821275073913,4470.97609436625,3330.6697308238,5050.90699831707,336.1906322699904,4791.017121841525,4837.564460677536,5071.383510786707,5019.101892211702,7786.895699552811,4958.422996087348,6443.642708302625,5777.521427101896,7864.502593430493,3752.9032978317214,769.9760908481857,9389.89450169977,9802.287362275592,6240.41483651836,6825.276840567984,8145.2874168769595,9553.78070905226,2996.259341157295],\"y\":[6144.417085986575,2080.3468855282335,2621.6136844348357,8787.177700140182,3631.227777546403,3782.1882401432595,628.3379666090838,5684.597939313199,1241.1397392413426,4505.07456870524,9140.995494321838,7416.145722792366,1627.4432568771479,3327.266432640048,7550.52231861757,9850.736574729472,7791.5104988520025,6865.43679317705,4863.712434511519,8459.84631660044,4240.211763225005,5667.563078083603,3634.6124080154686,7357.310735457955,4929.1559692380315,4821.221253776306,7943.852074304372,6092.2792652412845,3358.267116973361,542.7253120718779],\"z\":[328.56309915496706,9754.708736194903,586.6079842989858,1553.5666232968592,6872.17177723157,5150.048567002829,7646.243011784359,3904.131860742486,9282.49878018581,809.5390344671661,9860.334526008197,570.6812438464736,7718.235207204113,1424.8048533091528,1908.544423062094,2630.097468653473,8368.008068891155,7930.1921351103865,4133.216350910953,7107.922657369458,5342.884351058471,2903.56787054067,2542.6949489923754,7698.718448713682,7312.309684545977,7216.059511443802,7243.532204623202,8473.80149339116,5495.112442852518,7933.483351047584]}]},{\"name\":\"series 31 (F31)\",\"data\":[{\"name\":\"series 31 (F31)\",\"type\":\"scatter3d\",\"mode\":\"markers\",\"x\":[6621.22559058468,7419.922518312146,1111.347811726695,9356.972455833955,7489.515243656436,6193.468053882829,7207.397848100337,8787.583537668877,4641.165448000122,4828.285974037206,1885.8802366367222,6109.423660580922,6758.543768182261,5301.248317048481,7403.563324724209,1608.1097854743575,9480.19767892274,5838.17861241993,2344.623318823649,9576.132281151018,570.0282145100532,8633.790903681895,2133.2207934181956,6203.9630032691275,6598.541866810127,7262.801162726088,6518.513726091523,9015.517443357925,5321.056095280853,6475.385096878666],\"y\":[1346.8668537654537,1678.8386449444836,3025.6283054491164,6298.676905829978,5930.15256010585,2407.6410210220256,1523.8591458309459,4407.015556570765,6625.689551332751,6366.618346208116,5170.6237830305945,5577.159637491103,1862.4905338960684,2503.1826340531493,4324.163843187585,4710.714490220777,3780.1494714159458,3050.569626865367,7995.872211500806,384.5201716076907,6890.820648316986,9582.008960085168,5089.488438563234,9180.774611463294,4731.39871939794,2942.9253816554146,592.3134841993116,7152.175702436375,1342.1382952726658,5647.901278183157],\"z\":[356.44819135144724,3693.3837225364286,5589.597659643208,4401.398826645081,5695.941299837751,4818.621911672084,2845.93128595648,7286.001177083194,6926.133063077812,7386.24596592448,343.194537512328,4859.202867469291,3184.3649004515196,3164.6328099297093,9640.4651708347,6909.5411032002985,4396.618143698798,1799.7503575372787,2073.2303151122455,6945.129779938308,92.53523786105889,4723.289167097036,798.6216557615555,4622.416328103342,8921.669951114836,7831.249784202107,6106.728704465058,2270.2580086324133,2186.697461536861,9366.398062408964]}]},{\"name\":\"series 32 (F32)\",\"data\":[{\"name\":\"series 32 (F32)\",\"type\":\"scatter3d\",\"mode\":\"markers\",\"x\":[9037.356747551796,5424.166575314355,4484.713570156222,854.0126424156435,2023.2367834490972,8857.848754032475,4635.636277375142,3168.8677614737326,4274.839339125181,8983.926493834262,477.1190780424361,6852.409630579569,3928.577444793807,692.9908836626287,1818.2709293776866,5652.597843397991,8599.332769729563,1709.9085243866907,6869.872297079245,4924.900181347277,909.8749656628602,368.5622767173469,8806.666577260241,2011.4493067820483,5813.882082013745,3340.980400519947,767.6924194135182,4006.375607381487,2085.9202380192487,8304.063976980733],\"y\":[9563.52351584871,9418.85644037732,1220.8691389277838,2786.899414948474,634.6577448140245,4161.429631132095,3166.9322534409894,4513.896232085821,9393.205868386956,9019.641834416012,9810.499588820592,443.76815196549126,6980.403193885224,5300.11001917279,3937.7839472031283,1401.632272381047,1685.3727642373594,7707.598479073443,3517.2809359860835,6711.269718488804,795.9506141649009,8667.721023130305,8578.750708928208,8556.85808788783,1490.275048708245,6290.401741683369,708.5581637193139,8938.250080297903,3528.2375531694233,8960.235190622203],\"z\":[3237.8470569176875,3031.1369623428486,964.7785238325946,3143.4113693705876,3569.1671357093437,1523.2063555882257,4882.402163076203,7416.877170185515,7768.812242158059,1069.6621799315653,4228.17907751213,4953.929214447627,1546.2678269877229,6396.245766674251,7240.89117770583,8741.444704628851,1048.8076714109552,9775.1618046072,1666.8679431363487,8657.472456710771,1518.4211120321877,3609.0753685660093,7988.450936173467,7203.925487982589,1789.8886290145176,9680.616041875262,6226.914458747372,1167.6260083254674,7852.971831796748,4259.588074814537]}]},{\"name\":\"series 33 (F33)\",\"data\":[{\"name\":\"series 33 (F33)\",\"type\":\"scatter3d\",\"mode\":\"markers\",\"x\":[3532.0647430874565,9773.976049055238,9258.313708345971,1707.3511574436707,6733.623748296329,6001.037228197627,8015.7991105529145,477.6047268218486,1304.9001904492409,6637.822305346052,815.7522719043064,4485.0711331707935,5777.137662637594,8399.114172829257,1897.4985069584093,9698.337503493505,8543.325037266759,1950.1463857000956,5696.455213608136,510.39110921727524,2203.134838184686,3047.990883084003,5520.055256604557,2950.132554784225,9126.06026392442,172.52018501966228,6934.449714796698,2120.434016351377,747.6981363683522,998.3205613319801],\"y\":[2288.0760961851433,9383.060955810726,2264.526587641853,5849.950770958901,5854.820063779387,758.0528826917754,3855.408972605121,4886.462001044616,7448.636467846342,1764.9143004602986,9333.451640454174,7177.097137340101,6043.139328241112,5505.2419324711045,3219.731060969783,4058.619452756652,3923.810072319841,171.17142346609106,7630.797150784072,6205.723051689427,6207.111491657287,9361.298737586738,1084.748373192328,3699.4988297744158,179.94092216005342,3595.495922638905,2356.0710203584313,1044.948099333778,3844.4893645663856,4242.299570946639],\"z\":[3847.31559134185,4567.042747227504,3297.721659937881,1707.3305976974295,596.0844571036583,7905.858169683676,4131.328105371263,8178.450892929017,2998.688311509535,2434.8084154300677,2907.139112275788,1483.1467637531514,3607.219875336318,3342.039796823855,944.6392889881782,685.8788964462159,944.6923954403386,8843.547826410799,4151.351217105665,5937.915077432568,6183.266967168407,9537.598780472581,9433.506326590192,4789.421308530262,1743.4962256525932,7263.556862281024,343.556816574897,4683.357100291598,4397.896009205152,7994.227573937173]}]},{\"name\":\"series 34 (F34)\",\"data\":[{\"name\":\"series 34 (F34)\",\"type\":\"scatter3d\",\"mode\":\"markers\",\"x\":[2052.7241631070738,6672.981064250502,9300.04742166352,1269.3509016548621,8480.921484406646,8539.543566952567,5510.824988890775,9468.882833702246,2473.0260673852154,6434.006721433037,8056.236506261185,3828.2342233430654,3279.6209546455457,2926.3970179967678,6326.746708853708,513.6348605633301,4281.960814198675,5918.661541672356,3715.8539223182597,9304.32205013326,7895.065693123861,7261.667372746145,8796.076551426,9469.254424761688,3889.4788261838985,2114.2433493900558,4043.3944699320577,2279.5803712098004,1991.3682530851195,91.93713339163745],\"y\":[4146.584752008435,7264.0949052369,9552.296758871189,7075.417317948451,2275.7813013332584,9793.443056578191,324.1165837712334,2183.2229329565957,9334.97438499674,869.8368000749856,931.0960421473679,7860.825806230752,8186.064660934888,6102.573264692474,7500.515603962366,2297.7336203256714,2107.4677933532894,9765.65454992534,6094.621806584683,2456.635979085293,4338.16266508657,1562.3264959821593,7080.958644653652,2883.348093054714,3458.465571266164,8262.368037598511,5384.743891952318,163.58821745837582,7571.702065620454,9731.481324901582],\"z\":[5686.093531549601,5402.374933837231,8776.338372288332,9038.142803437444,4056.5418214913575,7424.108659316443,8256.027409340903,9301.799112006014,5273.442452868716,7526.158476953254,1465.4146838233505,5737.299477029008,8107.477301914727,2566.0473125602266,2352.434525887597,9953.975971962602,9247.641947761087,6922.089858803294,5333.228491134846,4983.798178482034,209.71531314911806,5439.604708502529,3823.6957875486664,3741.5465853668716,568.3619373140302,8859.589392486752,4532.087513054568,660.9557821354417,5159.657869321025,424.0090586529432]}]},{\"name\":\"series 35 (F35)\",\"data\":[{\"name\":\"series 35 (F35)\",\"type\":\"scatter3d\",\"mode\":\"markers\",\"x\":[7429.9380653424905,6104.308420185157,2519.9687178382733,7361.619938114564,2344.0252620140477,5808.962615486527,6758.751738521338,3780.5082989914895,4449.934789974507,3112.820958804652,5306.993595124556,2128.2970872748165,2598.199622231371,9991.75879588302,539.6338303215975,8828.236078748017,6366.875500679259,4045.549167063698,4139.469918694755,5959.153374649495,9.799783067817591,2484.834170065745,9251.674271977632,4919.5182385377475,4057.67734529208,900.2104951098122,6972.199524185183,9900.625538950775,8229.525189961356,4135.512282622913],\"y\":[519.9834899969169,8691.17935641043,2524.8961776135648,8940.88801544131,2562.013801577744,5845.3215246343625,6892.69753038786,3247.28449911126,8591.942200418265,8568.411361809334,3710.305366195731,4882.472638764517,2007.0901738991809,8809.633489843476,1457.0700878092912,3339.7513571437944,4585.319208869882,5997.771619107183,2429.1997370956087,1813.9982796211584,9432.38600035445,3616.257758871937,2118.393469402984,3135.7391338444986,2152.038084422787,9385.86540266365,2964.492243184502,2462.428814598552,9985.253445229271,3208.184631838651],\"z\":[592.8061383505623,1627.1516086962079,7971.656192695286,9220.282921786391,6359.660857064484,4898.463759815256,5805.297997080133,8320.719660414243,6055.105999765827,3571.1179321304153,8988.617226731329,5349.347382162126,949.6111195119861,7285.921734012233,3132.542614924906,738.1010159256474,4021.969161360166,3268.003358913593,807.3419877071242,9897.23984629721,1168.5177264587132,776.2664732737712,6217.958621330389,4861.272696034255,4469.177854871862,6972.840403917497,4159.21773442499,1791.063116481255,2173.703061343357,2149.836028330181]}]},{\"name\":\"series 36 (F36)\",\"data\":[{\"name\":\"series 36 (F36)\",\"type\":\"scatter3d\",\"mode\":\"markers\",\"x\":[6200.429416929276,4813.37812180764,7971.918498457253,6791.7469558106295,8855.549289026892,1376.4055599358405,324.6223888378219,305.3389418910124,5614.205826582892,6809.5364790836375,1157.215387843008,1414.8921100079926,7140.535570647883,6097.969409341905,2056.009369950518,3199.1797505943564,1690.9180341350927,9017.462556150747,5257.558984780691,1537.5711155156769,858.3316897039028,721.8237878555667,6184.253775178802,4336.17634242228,4120.204182572376,3635.494443300348,4054.7936200506397,320.95474186159765,9348.260945086355,8075.84825840466],\"y\":[7186.065428242143,413.23039658084923,5433.022310169138,8414.592155954679,3.3266342943683025,1744.0728961269913,7482.240060707603,8784.924687684164,9488.493202330063,4217.515001316739,4671.702197660233,7350.865511955845,9821.721166219315,2198.5971257177416,5758.476415734381,977.445087287957,5309.357646250569,9380.741943267558,7510.805510653325,2775.199912655192,3341.7351329957855,3177.9817623843132,6865.50410672606,3439.6934459124673,1087.1622626170551,6091.069560068265,8492.852972991557,3566.5373898128437,1903.8692829421655,5412.53020577455],\"z\":[5630.61901162517,8194.667352424527,39.54313304646462,9364.21521443271,3542.981963390016,6715.377917162286,5088.486492789222,7301.944388394553,1766.7745529164558,981.9004784670449,889.3233281169832,3975.334399019741,3426.598113933902,1964.06378757359,7071.563624997642,2996.923994767704,7332.004066848933,614.8476225754551,5297.230381447783,2653.2294127158875,1314.0819930819214,1750.4063177231099,6394.142662273804,7981.373700184476,3315.4278252527424,692.3965882282401,9040.342446085191,6638.448351045296,116.61348318733667,1181.2231201270918]}]},{\"name\":\"series 37 (F37)\",\"data\":[{\"name\":\"series 37 (F37)\",\"type\":\"scatter3d\",\"mode\":\"markers\",\"x\":[5434.536995834065,2506.7864174433985,2263.9114364091197,9641.067927252217,4475.324318284237,206.83876694925664,7757.178436953014,5262.342447732202,8372.36129819614,5730.358656307471,6363.434491069156,7564.466597488463,4325.515594108707,3260.1195013608562,1040.8168700717101,3111.6406902520375,8933.445401901978,5908.405909570545,2889.2344664461243,876.5464916337795,9330.933261525714,8585.02870682354,1288.1773489737025,1381.6751153780715,1704.6923448062635,4496.6376722308805,1438.7884050615407,8195.25017253002,4800.254942225663,2882.6155123868393],\"y\":[7396.4395876478175,1618.472346118659,3307.9474853400948,4508.855164789012,9861.691793334281,3473.088422600684,3603.8374117455883,3169.23596073131,4491.668198824465,8783.038765213878,2221.937879808449,5985.634570916758,8300.501105600653,4841.2205270967615,5646.841455004114,2650.813885727522,8836.65894293444,662.1508791882302,8541.345025334886,3924.5583389738904,3256.6005560418243,143.597142136459,6361.520591552489,2671.9322042585704,2158.3404946379123,394.992056506398,7462.0753014127495,6523.556538055436,6095.155128363943,2637.7298709504103],\"z\":[9257.736457505445,9841.315812051605,1058.7950819941539,6842.195535039236,2781.7868178337358,4088.9207435402964,2903.213629457034,2838.6494738228007,70.76545650791633,9935.26775755171,9673.959304432856,23.857356590371026,9204.741099772404,1459.554454480939,5115.022868302522,4982.614078425229,2545.4573060329967,2680.6229383216996,6244.068112068562,1353.082923486678,4740.034368989813,9299.020059113249,2818.6175259192923,9087.13251978336,8395.80897378007,4018.7800254256613,6759.905115164242,891.6248000127458,6982.279161614835,2106.9467233553087]}]},{\"name\":\"series 38 (F38)\",\"data\":[{\"name\":\"series 38 (F38)\",\"type\":\"scatter3d\",\"mode\":\"markers\",\"x\":[5157.746147065959,2083.861866893201,6479.015897067202,4952.375636762429,1348.9198966055094,6354.181935697711,9563.791264983738,3301.3613792425913,4743.195509809206,4000.9441907212918,8723.063011411261,8576.162731405491,1565.2767627902408,1087.916070589412,7567.350255304988,223.5044314534873,5487.579540622938,7671.34483435525,2846.9187477885284,9393.65448920069,9247.896723382179,753.7502096120352,3188.5930144724407,4416.6934764597645,5777.649443192698,2943.7537382660926,4412.394599275094,1521.0991494511306,110.55497466488706,936.013792333108],\"y\":[5437.103813928073,5030.798813124233,1398.194412339706,8872.612006943004,3246.7302128101537,4880.3443162258045,7728.095602438876,406.9926652076661,165.26265357740488,5703.888898379624,5121.587738593836,9863.828473611575,1774.9713006472311,982.1568746736065,6082.829280971096,7272.950941317049,9213.91432607171,7772.613773641879,2377.0480473589205,4252.745394558188,5301.197570521677,2401.5596335824807,1335.1718841435422,7728.183227199183,9963.924439314287,5162.885286144106,4913.673532937743,6290.919743405071,6777.6674475588,2546.745250629886],\"z\":[5982.589114757927,9643.663482223934,9082.67704439527,8812.41728796705,6871.312747378222,5018.278119271621,1100.9395436657833,4823.134292511414,1070.9106560785665,5716.849213627813,6754.584795678063,976.6899268644946,173.33643542484788,5997.212558730398,6474.033847635679,2794.1352296789123,4622.073810669869,3409.206602109359,184.66859992181338,2269.8978588982345,8655.369132659522,4385.175638022404,2873.696242491104,5440.172547322687,6942.360056104754,1398.0178688026979,7664.2714971811465,6792.447018521648,2844.0465827377725,322.33880267877436]}]},{\"name\":\"series 39 (F39)\",\"data\":[{\"name\":\"series 39 (F39)\",\"type\":\"scatter3d\",\"mode\":\"markers\",\"x\":[161.8285037320444,4117.542634974306,5975.188729431315,4769.032082688042,6987.969318303015,3196.562234818097,9799.8602985077,110.87909104186444,880.1431381844938,318.66236976585196,8362.526725119895,3676.525115099176,4510.738763942537,2041.5665297371065,4938.150629051847,9162.450961769651,5267.111848131043,5835.271769355695,4378.981175092735,2697.3279287299533,3634.4483556441487,2290.3966967145175,5242.311222061293,5190.411595566104,8536.264819751757,9426.152127783767,7402.633921052526,605.3876412011294,4012.732233357663,2298.9163680486004],\"y\":[5783.2707884363135,2623.359286947886,2954.9035855861994,6590.924661050879,1086.6813949507637,2793.4227112579347,5263.31053630203,3149.5894557847782,3959.307384424877,1716.5463672500591,9762.294718328742,1551.4895110631278,9895.943411678028,1068.2364641422892,1476.818353203143,4681.076590091277,8370.266706128816,8337.732607674687,8466.400772674491,3042.6697622069555,1172.3027761835292,8046.2491866229875,5311.206457277865,7065.316769326081,1740.2381960785774,2904.0377868701694,3558.2147639525174,8013.62203282939,9393.13734646091,5875.813678780002],\"z\":[2960.7752904499685,3283.6566222601036,9802.75874307287,9446.359297339424,1182.7604862223784,9841.57539016262,5786.80787021795,1512.873822473958,3788.905039641116,353.59091226726093,562.6017237918568,8277.91459275179,805.8184765654985,159.46216262419432,8969.264801289086,3276.5320221724514,913.5460263374217,9657.674523277985,848.2149833982755,8243.472785834892,9415.44417507835,5899.003664630696,4765.834954916797,5911.08574861648,1534.5280054437637,9226.170823905564,9568.872879709936,7025.836465520036,8297.336671688667,5650.811651141385]}]},{\"name\":\"series 40 (F40)\",\"data\":[{\"name\":\"series 40 (F40)\",\"type\":\"scatter3d\",\"mode\":\"markers\",\"x\":[5882.250537408529,3881.095688237394,8291.75535134122,3324.9983631753953,9590.59980417612,486.1382665347336,4923.123918749404,1943.0691876218464,4588.986997230641,5126.050124650209,5443.347397712039,7200.535802377513,2644.9332099676926,4514.511844505708,4990.624663176797,8540.35257220809,4082.9647079596266,1.1848513840129193,6152.788003321095,7332.851730338283,4184.584827012228,5367.702758341384,2155.1514124653327,4364.158219278506,6690.685027971472,2631.0240617391755,9674.14591999822,48.919490149031965,7600.063847452972,6970.179136474649],\"y\":[5490.914166805335,8136.696364731527,9576.857013888068,4402.202334495969,9724.429662481327,3847.37941781654,9711.324561159048,6155.307107194269,7221.590796257895,349.51185139195485,1122.5813838538068,1822.1329378468843,7832.138232847326,3286.4106325299726,1948.5006601438427,9323.150497116685,5759.124763788334,1658.4992937676068,3637.1521054806667,3470.0820487366045,7951.070579626831,4786.277833747186,4135.790405152459,6491.460746602079,1589.8118262819971,9306.870272876042,567.5376596806881,3267.2125453600065,1128.4567089516252,7198.111146975664],\"z\":[292.5513715023509,1216.4167696838258,6046.740512162874,5677.638146729469,8869.607794148013,9792.161514856303,1516.4722102437988,2490.485889061346,8365.6717241528,7359.678844670101,5507.647039163383,5577.181032924053,9705.16342186685,3868.710589095541,7516.198890278074,4405.360816401232,8307.276664581568,6178.317529585437,6057.247459209046,1351.448325404294,3128.836595994584,9152.115262252331,4343.094991759787,5434.94031128272,5411.835881857286,9714.182359163262,6153.110748704441,7436.36869414547,4928.919334083535,2940.652526580437]}]},{\"name\":\"series 41 (F41)\",\"data\":[{\"name\":\"series 41 (F41)\",\"type\":\"scatter3d\",\"mode\":\"markers\",\"x\":[6803.036423651348,4971.022422526813,8326.732066096243,8959.27049799335,7334.133917550627,8444.026494446776,6286.187850461519,6938.951862496002,3567.9904677328745,3978.3924786911216,3650.352963930843,7773.659584994562,5510.681439570084,7386.167142281333,9414.780448194058,199.66958993531847,6740.388380518827,4043.829926956838,1531.7732181602962,6032.565912392315,7875.454026477123,3136.593241495095,4849.194660872992,8970.072287647154,2995.253959173789,1152.286402322059,9186.081989205722,7979.091503818867,2974.1455462969034,8734.015223050483],\"y\":[8541.46465236906,670.0884678216601,5089.155608136307,7041.799327464397,1739.4247612085524,4259.222203291353,3974.953033865206,4626.919250682263,9432.581559066843,1728.3926480940015,5025.041135762299,3488.7031457145636,2317.819428213772,8615.63862605212,7676.0032881778825,3462.0135454582733,662.220837457661,1503.0849571323922,2662.018421854415,7374.70151892839,5793.808283248557,2716.9043927062785,4289.754820240231,5517.815362071879,80.83535280107301,7013.527063087433,6059.146475301068,6887.362667204775,3105.010848615195,5098.590889937829],\"z\":[5543.440210807148,6384.945059270991,8228.181773503502,5709.898529687919,2342.296073883792,1705.5981274989795,5558.637009540497,2692.905288919223,1134.6129315765152,994.6825682105675,4442.338485383949,6007.034910800651,383.14472899409367,2521.692099967768,1036.025464006407,5923.3797980970485,6080.856611175131,597.3572459875976,4263.278790679235,7809.110719663939,9079.36896711453,7751.439349415827,6511.269707618805,841.1885089396742,4002.72325819122,1792.1260456164466,3795.0648330219115,7751.729850211006,7525.093976939409,7783.955626930271]}]},{\"name\":\"series 42 (F42)\",\"data\":[{\"name\":\"series 42 (F42)\",\"type\":\"scatter3d\",\"mode\":\"markers\",\"x\":[3797.9917234618442,4279.6525680443465,3878.96266942377,9209.707636942328,9190.718339145265,6387.985320094347,5860.66458256534,9622.724912066244,7938.3293955909185,503.4950423005691,313.1002223770063,5949.631954604901,1923.8381634027057,7045.051434367826,8090.801987469569,7269.444236920701,148.19669852451312,329.41075536143785,9850.435487465647,8373.57034885818,3011.02139640824,8577.87090998984,660.2037677011896,5702.227486730977,9732.882606882225,6194.511344532677,8384.513420035415,4356.305591841363,1849.1530319963056,6746.49879350566],\"y\":[3075.6553587993076,8799.732887142954,1887.047255988561,9149.208506651037,7192.138406996097,6595.907138624139,7831.626243719901,1443.6666806477028,9363.710738380649,4062.7772864189337,793.1822661652787,6251.0997798811495,7635.989410176724,5084.672907277866,5407.55729650979,9499.128101636425,1653.0094313235777,9484.995162701729,9932.593985049309,9336.415434159953,7073.901489311176,5342.3994755233025,5748.052748871183,5287.349847519242,9670.28627289235,424.1114995753326,4022.9735059209747,8645.593424920975,1013.8739584205392,1513.5444168978706],\"z\":[683.59885719935,3865.1101758359964,2439.1433664085403,6825.3841503587,9496.617804314967,7279.541355356616,9053.86770178569,5929.843046522173,7076.628676922165,3865.5662122567937,970.641341365699,3648.7841638207506,2933.3607099982196,4963.150688217203,4645.457640223531,9239.941138740354,2293.333568301411,9875.35379616067,3234.774803740056,9851.473044514407,9362.279323185823,2092.6232699920356,1220.3977329596817,7707.606706277919,3938.7804875595,6521.2829063648305,5201.895119363572,3777.1395344590774,4846.237348793949,7543.174737918919]}]},{\"name\":\"series 43 (F43)\",\"data\":[{\"name\":\"series 43 (F43)\",\"type\":\"scatter3d\",\"mode\":\"markers\",\"x\":[9719.164431305297,6780.0839678134835,9519.396183227995,8993.18871122322,4243.13983417673,5303.760626316487,263.32864792092846,6213.6753942080895,5060.540514284956,2528.1510289861917,4196.8842232387515,7229.503837995794,3678.9353740002407,7601.347383132484,5699.280170675476,4784.793341444413,1591.3009755923513,5059.444180217842,7297.633215939247,3492.112129224654,9764.6329981953,3851.2378160981375,7364.881667362551,6667.200389047965,55.0646056542714,506.6114539585043,741.6810329658164,5557.0470223268085,4902.339806974202,6778.501642233697],\"y\":[1452.5021617096768,9616.40366211173,1119.3712245460463,691.8573761592628,5055.2989850918275,247.5983219126421,3368.011258736057,1349.0167147571176,1845.7543991623438,1990.766030199721,3000.0521583467066,2069.443119202742,1131.25368093293,4536.386254208861,8342.861558265575,3482.7809794652685,1096.3725438435213,6129.2774678604155,3221.950114880875,8047.700638333791,8400.814468434135,3942.970223879527,1538.1606818496418,135.02295363916116,6582.363219618835,9825.64009190976,7055.056125941474,1292.128798617116,2581.565604631182,453.55183317621226],\"z\":[9202.47626279485,8596.671526063277,6261.4947963333825,9375.229210756062,7665.122915689927,5111.129701935153,8665.086955791598,4689.333250717325,800.4242605232425,5365.749937315494,934.1852401791817,171.49186422231844,5517.819009566643,5525.948676198864,7308.564534096308,9550.097865902482,9151.992075653325,7441.253174295745,2429.8514176024523,3328.348094864744,7075.485104076868,8126.381873231773,5294.394896484593,5059.5717085587585,3321.4936384010475,1391.07564980669,9630.783524470986,9305.1535235166,5325.555149139524,6313.812329796715]}]},{\"name\":\"series 44 (F44)\",\"data\":[{\"name\":\"series 44 (F44)\",\"type\":\"scatter3d\",\"mode\":\"markers\",\"x\":[3221.845382375529,6639.129217063398,8045.222293376155,8045.5469855442,6747.607008370185,2010.79033270124,7179.705526009261,33.1385127314543,6094.831906208704,1536.4080185217344,5986.86197668412,3168.142098758694,760.3923029867466,9363.444709102847,5282.794250918733,6595.154936063894,4969.877995150889,635.391610379128,1609.7194536709803,6954.926167659957,7439.477797186604,8782.635986093594,4270.652022829363,7690.95222383434,328.31641538243696,5374.524979574684,7954.840869936137,7714.297323065187,7860.066730275152,8590.060082359914],\"y\":[4015.788908082769,9199.893598792323,336.7971518158763,1999.4251033536125,114.0736703169043,7578.58950400806,9824.660679331533,8795.807336725964,4900.078852870161,2892.7347981664097,9660.162265096622,7876.748462119565,1687.1384050685378,599.0994423956664,1107.393384843073,7246.519346873721,2653.483208608649,1631.4477494357604,6990.753551406638,7095.7787750425005,3011.771552449366,6076.096861669814,3934.326015909688,9612.04886086557,2797.8780688449956,2167.3095683780507,1958.2110702293664,5084.295673193115,2456.0009712083165,2475.3843132511556],\"z\":[2613.7654605760054,4187.178611989457,7235.044889142214,2138.822502234745,4583.829434172265,4465.2893835645245,4561.619359015377,9782.966704298133,8730.67307555453,4984.972012023404,8017.891349237909,371.02392157670863,2943.529553476204,6881.082362269655,1327.915616698787,649.3938858211156,819.2185518576056,9098.305856492414,5843.959172214955,2077.7519092053585,7203.514740964839,8011.420640595054,5424.7274826727,3175.337770294071,7927.5483422583175,6806.160415706135,3310.286977560488,3068.4263692362224,692.6664113716253,5512.09634374021]}]},{\"name\":\"series 45 (F45)\",\"data\":[{\"name\":\"series 45 (F45)\",\"type\":\"scatter3d\",\"mode\":\"markers\",\"x\":[6623.877498087496,689.9689124260533,8988.828746021873,5401.21773570258,5468.6861494525065,9560.908746008481,1175.7474612337082,2100.6669026379145,5238.057380720049,6373.691414531644,2412.6239326135124,215.3388290204905,2720.496381539752,2702.0052678563734,7991.473704190972,8515.829810981557,8856.21772723548,3076.8028037961635,2810.675630841184,8819.478998581715,3589.8792520831967,9397.172260531888,3219.515114885976,3577.0180753258305,1164.5326666918731,1185.637668368994,4271.1421574358465,6874.603257426895,7414.715522149312,3550.989711913304],\"y\":[7540.490907087554,1070.7772220435374,4141.994969309186,9887.759240889218,2095.3650761495624,6610.165781451605,9494.167416449896,4319.962303341261,3953.0196776931593,5690.487742406238,7419.710264798354,9687.762857277532,7411.219447740686,1406.7152833804253,3731.967630710924,479.2137166879018,5011.889014761772,2755.9936160540256,1092.9480349401733,6525.250636521267,1577.1160364321356,2459.1891275390153,314.4992308915973,2504.6336560181903,1751.4039385872827,8939.702954790559,775.0155760183764,346.54153280386015,9790.714338938484,5997.45740310941],\"z\":[8462.728113630295,6472.042275361822,4957.9802875977175,3725.717011126044,6182.013713383589,3481.6805015481978,5816.409809758839,2040.6825321434208,6797.049883558591,6374.933463111643,1956.0421945728147,3828.557989346905,7037.540389246743,6678.30757796388,2245.6582466506093,8162.052128246496,6354.114232470352,3962.3601099450257,4571.2886473782055,5298.051232982529,2586.403364670268,3143.948448999456,3204.200635475287,4240.45254485206,3794.690091597407,7698.5219912202765,6435.391036423531,536.9284266517416,3506.4022708969387,3448.2920111554804]}]},{\"name\":\"series 46 (F46)\",\"data\":[{\"name\":\"series 46 (F46)\",\"type\":\"scatter3d\",\"mode\":\"markers\",\"x\":[8920.247469523641,6675.6422446089955,4841.633226368478,4945.622892517403,296.18273423505315,9957.713421129698,7507.246242873706,6637.015377472318,4067.6902383540214,3043.489374064262,487.0179802809538,3971.554107502412,8497.405217053281,505.4503905778651,2405.666848569765,5408.719218445349,4298.398281687259,667.834686820068,1007.4974449653806,4883.971458325143,2292.071997363593,5772.8431578409645,2965.7906843009982,5706.535166780229,7877.664605572588,5085.543230772095,5326.9530925200215,1092.3251283981529,8153.513461660065,4934.359808818117],\"y\":[293.8326162588034,3575.969586351129,1836.8651893615406,6881.306613160469,5765.498221701149,5399.407297098294,1748.1647019143531,225.87344346881366,5076.172622845085,4640.544764722372,4557.391580908145,7868.759929592227,713.8939443664472,7323.977834813987,2734.1587644975775,5196.395494140921,8449.879229668197,4046.8005629977088,9199.920637980147,94.47301009858356,272.44526750683565,756.0320793043373,6049.788820637378,8458.465827764645,6794.742119272589,7230.218848956327,4893.083821002756,3641.381931030906,2393.4359227582922,3546.272665426644],\"z\":[7855.900117536167,163.764779778941,9235.875640858241,4353.633374710806,5095.598032474521,1708.2191792600154,9566.1658479445,3131.3484606229704,6796.275735773376,930.5053013640053,9145.956025580059,3769.6876483635465,5045.921525763914,3941.509982104632,8583.654070361195,4796.420864588784,3740.077533658377,5449.171038398611,3436.15455422393,2358.9020452865716,2713.4965060971863,1496.6926679129178,8430.068735684717,1676.6240272872258,5670.405633604615,5493.160833395894,5924.830600436756,3094.9156142276356,165.63993478932227,9804.927963019783]}]},{\"name\":\"series 47 (F47)\",\"data\":[{\"name\":\"series 47 (F47)\",\"type\":\"scatter3d\",\"mode\":\"markers\",\"x\":[3827.947106721401,8098.9776791100785,1883.0385017438966,9560.904202237632,3573.0453806967953,2688.462110234031,4764.148853394451,7522.160081892863,4484.269138525461,366.31741371546565,3159.4158582642617,8876.006861350368,6875.9584715565115,4661.643250905427,2105.677193973343,2636.9898223240607,2574.4441013407873,1584.8025329536563,7077.927736289099,1971.9934648465564,8199.17276822164,5704.064911949003,5119.951956776285,9213.92527919441,3503.277061643911,9636.567411998109,5127.571256228684,2588.2062547450923,4349.086294214179,5662.392031485058],\"y\":[6239.886541102862,748.5694200936476,7481.973426144862,9899.076270575699,9788.039103974043,8103.422983998326,2166.316163653984,4014.8932289885765,2057.658589096243,8611.310359839668,1960.2475394593366,6812.743955652001,2240.2989701843267,8233.758254363689,8431.25645866794,8182.530535785884,2380.8099047161213,6556.0730556386425,7452.594806907583,898.386123238455,3871.7309937756727,6221.408872132259,7870.831970700137,1528.159655056456,8102.434094014355,4770.699228506415,1797.7935566708425,326.0617972063018,7239.882243345301,7240.806544188535],\"z\":[5555.5108348307,1395.4044184034442,4799.5141828232245,9445.513711151314,390.69395209237246,8636.868936059313,4658.902075889152,1248.7405290704735,2475.638676428965,38.765865054013474,1473.4720581842798,6336.6433573867835,2425.362030999059,2719.2571031372913,5072.720312273284,5.011702858926936,5586.15633067318,3796.5284931659417,6346.991021052175,9300.648277895845,5688.638194487387,7641.4194358242685,2379.031696288274,490.18266622230857,6108.763977779832,8358.02776008607,4131.176500351149,7277.0304198287395,4943.171293009833,7441.325848565028]}]},{\"name\":\"series 48 (F48)\",\"data\":[{\"name\":\"series 48 (F48)\",\"type\":\"scatter3d\",\"mode\":\"markers\",\"x\":[868.1483532294254,9446.984085846894,2380.5941270038134,476.8404124615988,1677.11673745919,5695.178137468644,1438.9964983963378,3475.9606338393555,5940.782001198517,6271.941077014754,6038.455174665438,8981.45956238142,1425.9030522736825,782.3151242081084,3592.7117766534557,4431.325725345369,768.8209838311344,3983.7818322164508,2827.7102789455,435.01795309364377,4571.177534903893,7749.00959635628,1373.3216717164444,4594.775097221347,2063.1618659885607,495.19073793859667,1824.8506690011857,7295.6224480635865,8348.265017429247,6328.812471548562],\"y\":[9433.80865392073,9491.238806842559,612.6586494615271,4914.4688550656565,9362.829546754345,8928.858791075847,4363.955754158445,9648.580655796228,6527.493367293257,484.9017824934998,4758.254342113782,6103.664973611557,6448.215475387497,8324.035408091779,7381.000507705769,4906.05455447666,1248.2481272494194,2447.8992162133063,7466.3545847515115,3219.737062482446,959.2314874049101,9865.721647781498,6471.378285337713,6831.2467408655775,6633.625524336803,1097.591651457982,165.50635551304094,465.3097836777742,8413.738582776701,6012.148262866277],\"z\":[2952.4031167720846,7408.207842773904,8669.964622966234,9103.980508290133,9010.446894988689,775.5899032877822,7596.229328482631,3232.031117125852,2019.7281062259365,7833.730827721573,6238.53608923071,2568.828998384973,1737.5805819529578,5667.998488666234,9832.892390641946,51.377501050496875,7491.313671435125,1189.5552023567413,2541.791642479211,1978.04820398784,5775.951212598931,981.0893982345026,3203.810506796283,2561.844311136823,1576.4185749708793,6804.635957337221,548.7773021007403,4228.913496629399,777.7694248138467,729.3090044881134]}]},{\"name\":\"series 49 (F49)\",\"data\":[{\"name\":\"series 49 (F49)\",\"type\":\"scatter3d\",\"mode\":\"markers\",\"x\":[5481.355486246779,5242.203377987782,4083.6773078149035,9784.038251841957,7498.774855610154,4833.672485344067,1232.5571324502305,3800.1650920399456,2083.8407343556764,7444.480888535933,7982.329508569983,1681.0196141913002,6002.231839054996,1901.1054233669245,7328.973554008948,720.3651611833927,7833.497198393527,8396.33222252067,730.6584962624785,788.8646015516365,1778.047212549706,5997.605000001686,4728.385073217627,217.48574581621716,3807.8301761042476,6071.21415664948,3285.7063137472173,3029.031087499902,566.2680300674206,2489.3326468388886],\"y\":[6414.239567113068,7803.739011178645,3073.425194249135,7777.918215265561,1208.323626269886,6912.17498306869,9255.26734103378,5467.01791248787,2281.3091527446095,1108.3930993458391,1591.2613668775243,2821.025854353131,4777.6212016451545,8548.61099542559,8762.459591428444,4854.961387762923,4628.863850752255,9185.415989701187,3082.595597707859,83.84977924339898,7528.882136169518,5184.775708266765,8707.619515107785,805.8045317375751,221.83855231459603,5522.898522766652,9144.481326279056,5885.423051428046,5128.997603919367,8242.253791828098],\"z\":[6417.86711604796,1982.6281472060668,2084.0555642028858,6980.823448890216,8403.984213680458,9963.097677139931,9003.492371604832,9335.930273832662,5303.377654170275,6829.943228494994,6687.564596895697,3383.742334148546,1000.1545187125471,9932.317387845937,1629.1960766015911,5247.831690934575,142.88363129060343,9435.13525961197,4702.164929182097,4994.920404936566,7182.823105140866,7075.124889701362,2906.629267045967,333.21718933283506,9318.029254476662,4081.924419075539,5969.168559469727,7598.5154104330095,1317.2791172617892,8808.967025512067]}]}]\n",
       "var labels_zaaCOYL1Ch = [\"series 0 (F0)\",\"series 1 (F1)\",\"series 2 (F2)\",\"series 3 (F3)\",\"series 4 (F4)\",\"series 5 (F5)\",\"series 6 (F6)\",\"series 7 (F7)\",\"series 8 (F8)\",\"series 9 (F9)\",\"series 10 (F10)\",\"series 11 (F11)\",\"series 12 (F12)\",\"series 13 (F13)\",\"series 14 (F14)\",\"series 15 (F15)\",\"series 16 (F16)\",\"series 17 (F17)\",\"series 18 (F18)\",\"series 19 (F19)\",\"series 20 (F20)\",\"series 21 (F21)\",\"series 22 (F22)\",\"series 23 (F23)\",\"series 24 (F24)\",\"series 25 (F25)\",\"series 26 (F26)\",\"series 27 (F27)\",\"series 28 (F28)\",\"series 29 (F29)\",\"series 30 (F30)\",\"series 31 (F31)\",\"series 32 (F32)\",\"series 33 (F33)\",\"series 34 (F34)\",\"series 35 (F35)\",\"series 36 (F36)\",\"series 37 (F37)\",\"series 38 (F38)\",\"series 39 (F39)\",\"series 40 (F40)\",\"series 41 (F41)\",\"series 42 (F42)\",\"series 43 (F43)\",\"series 44 (F44)\",\"series 45 (F45)\",\"series 46 (F46)\",\"series 47 (F47)\",\"series 48 (F48)\",\"series 49 (F49)\"]\n",
       "var duration_zaaCOYL1Ch = 100\n",
       "var config_zaaCOYL1Ch = {\"responsive\":true,\"scrollZoom\":true,\"displaylogo\":false}\n",
       "\n",
       "var traces_zaaCOYL1Ch = JSON.parse(JSON.stringify(frames_zaaCOYL1Ch[0].data.map(x => x)))\n",
       "\n",
       "var animation_settings_zaaCOYL1Ch = {\n",
       "    mode: \"immediate\",\n",
       "    direction: {},\n",
       "    fromcurrent: true,\n",
       "    frame: [\n",
       "      {duration: duration_zaaCOYL1Ch},\n",
       "      {duration: duration_zaaCOYL1Ch},\n",
       "      {redraw: true}\n",
       "    ],\n",
       "    transition: [\n",
       "      {duration: duration_zaaCOYL1Ch, easing: 'cubic-in-out'},\n",
       "      {duration: duration_zaaCOYL1Ch, easing: 'cubic-in-out'},\n",
       "    ],\n",
       "    ordering: \"layout first\"\n",
       "}\n",
       "\n",
       "var slider_zaaCOYL1Ch = document.createElement(\"input\")\n",
       "var play_zaaCOYL1Ch = document.getElementById(\"play_zaaCOYL1Ch\")\n",
       "var pause_zaaCOYL1Ch = document.getElementById(\"pause_zaaCOYL1Ch\")\n",
       "slider_zaaCOYL1Ch.id = \"slider_zaaCOYL1Ch\"\n",
       "slider_zaaCOYL1Ch.type = \"range\"\n",
       "slider_zaaCOYL1Ch.min = 0\n",
       "slider_zaaCOYL1Ch.max = frames_zaaCOYL1Ch.length - 1\n",
       "slider_zaaCOYL1Ch.value = 0\n",
       "document.getElementById(\"sliderContainer_zaaCOYL1Ch\").appendChild(slider_zaaCOYL1Ch);\n",
       "\n",
       "Plotly.newPlot(graph_zaaCOYL1Ch, traces_zaaCOYL1Ch, layout_zaaCOYL1Ch, config_zaaCOYL1Ch)\n",
       ".then(function () { Plotly.addFrames(graph_zaaCOYL1Ch, frames_zaaCOYL1Ch) })\n",
       "\n",
       "var trigger_zaaCOYL1Ch = true\n",
       "var reset_count_zaaCOYL1Ch = false\n",
       "\n",
       "play_zaaCOYL1Ch.addEventListener('click', async function() {\n",
       "   trigger_zaaCOYL1Ch = true\n",
       "   if (reset_count_zaaCOYL1Ch) {\n",
       "      slider_zaaCOYL1Ch.value = 0\n",
       "      reset_count_zaaCOYL1Ch = false\n",
       "   }\n",
       "\n",
       "  const start_index = slider_zaaCOYL1Ch.value == labels_zaaCOYL1Ch.length - 1 ? 0 : slider_zaaCOYL1Ch.value\n",
       "  const end_index = labels_zaaCOYL1Ch.length\n",
       "  await Plotly.animate(graph_zaaCOYL1Ch, labels_zaaCOYL1Ch.slice(start_index, end_index), animation_settings_zaaCOYL1Ch)\n",
       "})\n",
       "\n",
       "pause_zaaCOYL1Ch.addEventListener('click', async function() {\n",
       "  await Plotly.animate(graph_zaaCOYL1Ch, [null], animation_settings_zaaCOYL1Ch)\n",
       "  trigger_zaaCOYL1Ch = false;\n",
       "})\n",
       "\n",
       "graph_zaaCOYL1Ch.on('plotly_redraw', () => {\n",
       "   value_zaaCOYL1Ch.innerHTML = slider_zaaCOYL1Ch.value;\n",
       "   if (trigger_zaaCOYL1Ch & !reset_count_zaaCOYL1Ch) ++slider_zaaCOYL1Ch.value\n",
       "   if (slider_zaaCOYL1Ch.value == labels_zaaCOYL1Ch.length - 1) reset_count_zaaCOYL1Ch = true\n",
       "});\n",
       "\n",
       "slider_zaaCOYL1Ch.oninput = async function() {\n",
       "   await Plotly.animate(graph_zaaCOYL1Ch, frames_zaaCOYL1Ch[this.value], animation_settings_zaaCOYL1Ch)\n",
       "   trigger_zaaCOYL1Ch = false\n",
       "   slider_zaaCOYL1Ch.value = this.value\n",
       "   value_zaaCOYL1Ch.innerHTML = this.value;\n",
       "   if (this.value == 0) reset_count_zaaCOYL1Ch = false\n",
       "   if (this.value == labels_zaaCOYL1Ch.length - 1) reset_count_zaaCOYL1Ch = true\n",
       "   reset_count_zaaCOYL1Ch = false\n",
       "}\n",
       "\n",
       "next_zaaCOYL1Ch.addEventListener('click', function() {\n",
       "    if (slider_zaaCOYL1Ch.value == labels_zaaCOYL1Ch.length - 1) {\n",
       "        reset_count_zaaCOYL1Ch = true;\n",
       "        return;\n",
       "    }\n",
       "    ++slider_zaaCOYL1Ch.value;\n",
       "    value_zaaCOYL1Ch.innerHTML = slider_zaaCOYL1Ch.value;\n",
       "    trigger_zaaCOYL1Ch = false;\n",
       "    slider_zaaCOYL1Ch.oninput();\n",
       "})\n",
       "\n",
       "prev_zaaCOYL1Ch.addEventListener('click', function() {\n",
       "    if (slider_zaaCOYL1Ch.value == 0) {\n",
       "        reset_count_zaaCOYL1Ch = false;\n",
       "        return;\n",
       "    }\n",
       "    --slider_zaaCOYL1Ch.value;\n",
       "    value_zaaCOYL1Ch.innerHTML = slider_zaaCOYL1Ch.value;\n",
       "    trigger_zaaCOYL1Ch = false;\n",
       "    slider_zaaCOYL1Ch.oninput();\n",
       "})\n",
       "\n",
       "</script> \n"
      ]
     },
     "metadata": {},
     "output_type": "display_data"
    }
   ],
   "source": [
    "val series = createXYZSeries(numberToCreate = 50, length = 30)\n",
    "\n",
    "val chart = (\n",
    "  Chart(animated = true)\n",
    "  setTitle \"Animation 3D\"\n",
    "  addSeries series\n",
    "  setXAxisLimits(0, 1E4)\n",
    "  setYAxisLimits(0, 1E4)\n",
    "  setZAxisLimits(0, 1E4)\n",
    "  drawZAxisLog true\n",
    ")\n",
    "\n",
    "chart.plotInline"
   ]
  },
  {
   "cell_type": "markdown",
   "metadata": {},
   "source": [
    "## IO + Utility Functions\n",
    "\n",
    "The library also comes with some basic CSV IO functions and a utility function for breaking down data"
   ]
  },
  {
   "cell_type": "code",
   "execution_count": 50,
   "metadata": {},
   "outputs": [],
   "source": [
    "import org.carbonateresearch.picta.IO._\n",
    "import org.carbonateresearch.picta.common.Utils.getSeriesbyCategory"
   ]
  },
  {
   "cell_type": "code",
   "execution_count": 51,
   "metadata": {},
   "outputs": [
    {
     "name": "stdout",
     "output_type": "stream",
     "text": [
      "/Users/fazi/Desktop/Final Project/picta\n"
     ]
    }
   ],
   "source": [
    "val working_directory = getWorkingDirectory\n",
    "\n",
    "println(working_directory)"
   ]
  },
  {
   "cell_type": "code",
   "execution_count": 52,
   "metadata": {},
   "outputs": [],
   "source": [
    "// by providing a path, we can read in a CSV\n",
    "val filepath = working_directory + \"/iris_csv.csv\"\n",
    "\n",
    "val data = readCSV(filepath)\n",
    "\n",
    "// by default, CSV are read in as strings. However we can convert the individual columns to the correct format\n",
    "val sepal_length = data(\"sepallength\").map(_.toDouble)\n",
    "val petal_width = data(\"petalwidth\").map(_.toDouble)\n",
    "val categories = data(\"class\")"
   ]
  },
  {
   "cell_type": "code",
   "execution_count": 53,
   "metadata": {},
   "outputs": [
    {
     "data": {
      "text/html": [
       "<div id=\"grid-container_oXLRqEzo7e\" class=\"grid-container\" align=\"center\"> \n",
       "<div id=\"grid_oXLRqEzo7e\" class=\"grid\" align=\"center\"> \n",
       "<div id=\"graph_zkYk7LjqD6\" class=\"graph\"></div> \n",
       "</div> \n",
       "</div> \n",
       "<script>\n",
       "var masonry = new Macy({\n",
       "    container: '#grid_oXLRqEzo7e',\n",
       "    debug: true,\n",
       "    mobileFirst: true,\n",
       "    columns: 1,\n",
       "    margin: {\n",
       "        x: 0,\n",
       "        y: 0\n",
       "    }\n",
       "  });\n",
       "\n",
       "  var traces_zkYk7LjqD6 = [{\"name\":\"CJKsblext1\",\"type\":\"scatter\",\"mode\":\"markers\",\"x\":[5.9,6.2,6.5,6.3,6.7,6.7,6.8,5.8,6.9,6.7,6.9,6,6.4,6.3,7.7,6.1,6.3,6.4,7.9,7.4,7.2,6.4,6.1,6.2,7.2,6.7,6.3,7.7,5.6,6.9,6,7.7,7.7,6.5,6.4,5.8,5.7,6.8,6.4,6.5,7.2,6.7,7.3,4.9,7.6,6.5,6.3,7.1,5.8,6.3,5.7,5.1,6.2,5.7,5.7,5.6,5,5.8,6.1,5.5,5.5,5.6,6.3,6.7,6,5.4,6,5.8,5.5,5.5,5.7,6,6.7,6.8,6.6,6.4,6.1,6.3,6.1,5.9,5.6,6.2,5.8,5.6,6.7,5.6,6.1,6,5.9,5,5.2,6.6,4.9,6.3,5.7,6.5,5.5,6.9,6.4,7,5,5.3,4.6,5.1,4.8,5.1,5,4.4,4.5,5,5.1,4.4,4.9,5.5,5,4.9,5.5,5.2,5.4,4.8,4.7,5.2,5.2,5,5,4.8,5.1,4.6,5.1,5.4,5.1,5.7,5.1,5.4,5.7,5.8,4.3,4.8,4.8,5.4,4.9,4.4,5,4.6,5.4,5,4.6,4.7,4.9,5.1],\"y\":[1.8,2.3,2,1.9,2.3,2.5,2.3,1.9,2.3,2.4,2.1,1.8,1.8,2.4,2.3,1.4,1.5,2.2,2,1.9,1.6,2.1,1.8,1.8,1.8,2.1,1.8,2,2,2.3,1.5,2.3,2.2,1.8,2.3,2.4,2,2.1,1.9,2,2.5,1.8,1.8,1.7,2.1,2.2,1.8,2.1,1.9,2.5,1.3,1.1,1.3,1.3,1.2,1.3,1,1.2,1.4,1.2,1.3,1.3,1.3,1.5,1.6,1.5,1.6,1.2,1,1.1,1,1.5,1.7,1.4,1.4,1.3,1.2,1.5,1.3,1.8,1.1,1.5,1,1.5,1.4,1.3,1.4,1,1.5,1,1.4,1.3,1,1.6,1.3,1.5,1.3,1.5,1.5,1.4,0.2,0.2,0.2,0.2,0.3,0.4,0.6,0.2,0.3,0.3,0.2,0.2,0.1,0.2,0.2,0.1,0.2,0.1,0.4,0.2,0.2,0.2,0.2,0.4,0.2,0.2,0.5,0.2,0.4,0.2,0.3,0.3,0.3,0.4,0.4,0.2,0.1,0.1,0.2,0.2,0.1,0.2,0.2,0.3,0.4,0.2,0.2,0.2,0.2,0.2]}];\n",
       " var layout_zkYk7LjqD6 = {\"height\":550,\"width\":600,\"hovermode\":\"closest\",\"title\":{\"text\":\"Uninformative Chart\"},\"showlegend\":true};\n",
       " var config_zkYk7LjqD6 = {\"responsive\":true,\"scrollZoom\":true,\"displaylogo\":false};\n",
       " Plotly.newPlot(\"graph_zkYk7LjqD6\", traces_zkYk7LjqD6, layout_zkYk7LjqD6, config_zkYk7LjqD6);\n",
       "</script> \n"
      ]
     },
     "metadata": {},
     "output_type": "display_data"
    }
   ],
   "source": [
    "val series = XY(sepal_length, petal_width) asType SCATTER drawStyle MARKERS\n",
    "\n",
    "val chart = Chart() addSeries series setTitle \"Uninformative Chart\"\n",
    "\n",
    "chart.plotInline"
   ]
  },
  {
   "cell_type": "markdown",
   "metadata": {},
   "source": [
    "The above chart is not very informative. However since we have the per data point category labels, we can use the utility function to display the data in the different clusters"
   ]
  },
  {
   "cell_type": "code",
   "execution_count": 54,
   "metadata": {},
   "outputs": [
    {
     "data": {
      "text/html": [
       "<div id=\"grid-container_4EGCPdFMXE\" class=\"grid-container\" align=\"center\"> \n",
       "<div id=\"grid_4EGCPdFMXE\" class=\"grid\" align=\"center\"> \n",
       "<div id=\"graph_EJS2Ilnq0g\" class=\"graph\"></div> \n",
       "</div> \n",
       "</div> \n",
       "<script>\n",
       "var masonry = new Macy({\n",
       "    container: '#grid_4EGCPdFMXE',\n",
       "    debug: true,\n",
       "    mobileFirst: true,\n",
       "    columns: 1,\n",
       "    margin: {\n",
       "        x: 0,\n",
       "        y: 0\n",
       "    }\n",
       "  });\n",
       "\n",
       "  var traces_EJS2Ilnq0g = [{\"name\":\"Iris-versicolor\",\"type\":\"scatter\",\"mode\":\"markers\",\"x\":[7,6.4,6.9,5.5,6.5,5.7,6.3,4.9,6.6,5.2,5,5.9,6,6.1,5.6,6.7,5.6,5.8,6.2,5.6,5.9,6.1,6.3,6.1,6.4,6.6,6.8,6.7,6,5.7,5.5,5.5,5.8,6,5.4,6,6.7,6.3,5.6,5.5,5.5,6.1,5.8,5,5.6,5.7,5.7,6.2,5.1,5.7],\"y\":[1.4,1.5,1.5,1.3,1.5,1.3,1.6,1,1.3,1.4,1,1.5,1,1.4,1.3,1.4,1.5,1,1.5,1.1,1.8,1.3,1.5,1.2,1.3,1.4,1.4,1.7,1.5,1,1.1,1,1.2,1.6,1.5,1.6,1.5,1.3,1.3,1.3,1.2,1.4,1.2,1,1.3,1.2,1.3,1.3,1.1,1.3]},{\"name\":\"Iris-setosa\",\"type\":\"scatter\",\"mode\":\"markers\",\"x\":[5.1,4.9,4.7,4.6,5,5.4,4.6,5,4.4,4.9,5.4,4.8,4.8,4.3,5.8,5.7,5.4,5.1,5.7,5.1,5.4,5.1,4.6,5.1,4.8,5,5,5.2,5.2,4.7,4.8,5.4,5.2,5.5,4.9,5,5.5,4.9,4.4,5.1,5,4.5,4.4,5,5.1,4.8,5.1,4.6,5.3,5],\"y\":[0.2,0.2,0.2,0.2,0.2,0.4,0.3,0.2,0.2,0.1,0.2,0.2,0.1,0.1,0.2,0.4,0.4,0.3,0.3,0.3,0.2,0.4,0.2,0.5,0.2,0.2,0.4,0.2,0.2,0.2,0.2,0.4,0.1,0.2,0.1,0.2,0.2,0.1,0.2,0.2,0.3,0.3,0.2,0.6,0.4,0.3,0.2,0.2,0.2,0.2]},{\"name\":\"Iris-virginica\",\"type\":\"scatter\",\"mode\":\"markers\",\"x\":[6.3,5.8,7.1,6.3,6.5,7.6,4.9,7.3,6.7,7.2,6.5,6.4,6.8,5.7,5.8,6.4,6.5,7.7,7.7,6,6.9,5.6,7.7,6.3,6.7,7.2,6.2,6.1,6.4,7.2,7.4,7.9,6.4,6.3,6.1,7.7,6.3,6.4,6,6.9,6.7,6.9,5.8,6.8,6.7,6.7,6.3,6.5,6.2,5.9],\"y\":[2.5,1.9,2.1,1.8,2.2,2.1,1.7,1.8,1.8,2.5,2,1.9,2.1,2,2.4,2.3,1.8,2.2,2.3,1.5,2.3,2,2,1.8,2.1,1.8,1.8,1.8,2.1,1.6,1.9,2,2.2,1.5,1.4,2.3,2.4,1.8,1.8,2.1,2.4,2.3,1.9,2.3,2.5,2.3,1.9,2,2.3,1.8]}];\n",
       " var layout_EJS2Ilnq0g = {\"height\":550,\"width\":600,\"hovermode\":\"closest\",\"title\":{\"text\":\"Iris\"},\"showlegend\":true};\n",
       " var config_EJS2Ilnq0g = {\"responsive\":true,\"scrollZoom\":true,\"displaylogo\":false};\n",
       " Plotly.newPlot(\"graph_EJS2Ilnq0g\", traces_EJS2Ilnq0g, layout_EJS2Ilnq0g, config_EJS2Ilnq0g);\n",
       "</script> \n"
      ]
     },
     "metadata": {},
     "output_type": "display_data"
    }
   ],
   "source": [
    "val result = getSeriesbyCategory(categories, (sepal_length, petal_width))\n",
    "\n",
    "val chart = Chart() addSeries result setTitle \"Iris\" showLegend true\n",
    "\n",
    "chart.plotInline"
   ]
  },
  {
   "cell_type": "markdown",
   "metadata": {},
   "source": [
    "## Conus Integration\n",
    "\n",
    "Picta was originally created to help plot data in CoNuS and with Spark. A couple of utility functions make wrangling CoNuS data easier. Below is an example taken from the conus repo and plotting some variables of interest."
   ]
  },
  {
   "cell_type": "code",
   "execution_count": 55,
   "metadata": {},
   "outputs": [],
   "source": [
    "import org.carbonateresearch.picta.conus.Utils._\n",
    "import org.carbonateresearch.picta.{Canvas, Chart, XY}\n",
    "import org.carbonateresearch.conus.common.SingleModelResults\n",
    "import org.carbonateresearch.conus._\n",
    "\n",
    "import math._"
   ]
  },
  {
   "cell_type": "code",
   "execution_count": 56,
   "metadata": {
    "scrolled": false
   },
   "outputs": [
    {
     "name": "stdout",
     "output_type": "stream",
     "text": [
      "13:35:53.036 [CoNuS-akka.actor.default-dispatcher-3] INFO akka.event.slf4j.Slf4jLogger - Slf4jLogger started\n"
     ]
    },
    {
     "name": "stderr",
     "output_type": "stream",
     "text": [
      "SLF4J: A number (1) of logging calls during the initialization phase have been intercepted and are\n",
      "SLF4J: now being replayed. These are subject to the filtering rules of the underlying logging system.\n",
      "SLF4J: See also http://www.slf4j.org/codes.html#replay\n"
     ]
    },
    {
     "data": {
      "text/html": [
       "Variable <b>Number of Rats</b> with initial value of 2 Individuals  defined"
      ]
     },
     "metadata": {},
     "output_type": "display_data"
    },
    {
     "data": {
      "text/html": [
       "Variable <b>Death rate</b> with initial value of 0.0 %  defined"
      ]
     },
     "metadata": {},
     "output_type": "display_data"
    }
   ],
   "source": [
    "val simulator = new AlmondSimulator // We create an Almond specific simulator\n",
    "\n",
    "// We will now create a ver simple 2D CoNuS model. The model has a dimension of 3x3 grids, and each grid is meant to represent\n",
    "// about 100x100 meters of a field. We initialize the model with values ranging from 2.0 to 6.0. These represent the population \n",
    "// of rats living in each 100 sq meter of the field. We will run the simulation for 10 time step, each time step represents\n",
    "// one generation. We assume a perfect parity between male and female rat, and we also assume that each couple will have 10\n",
    "// babies per generation. In addition, we will simulate a death rate between 0 to 0.9 (0 to 90% of the population), assigned\n",
    "// randomly at each timestep and for each square. A major simplification is that each cell (square in the field) has its own\n",
    "// rat population, there is no movement of rats in between the different cells.\n",
    "\n",
    "// In CoNuS, values that will be calculated are know as model variables. Let's set a few\n",
    "val nbRats:ModelVariable[Int] = ModelVariable(\"Number of Rats\",2,\"Individuals\") //Notice this is an Int\n",
    "val deathRate:ModelVariable[Double] = ModelVariable(\"Death rate\",0.0,\"%\")\n",
    "\n",
    "// Let's initialise a few model conditions \n",
    "val numberOfSteps = 10\n",
    "\n",
    "// And let's create a function that, given a rat population and a deathRate, calculates a new population \n",
    "\n",
    "def survivingRats(initialPopulation:Int, deathRate:Double): Int = {\n",
    "    initialPopulation-math.floor(initialPopulation.toDouble*deathRate).toInt\n",
    "}\n"
   ]
  },
  {
   "cell_type": "code",
   "execution_count": 57,
   "metadata": {},
   "outputs": [
    {
     "name": "stdout",
     "output_type": "stream",
     "text": [
      "A total of 1 unique models were defined, attempting to create a list now.\n",
      "Models list successfully created.\n"
     ]
    },
    {
     "data": {
      "text/html": [
       "<b>Model characteristics</b><table class=\"table\"><tr><th>Feature</th><th>Value</th></tr><tr><td>Name</td><td>Simplified rat population dynamics</td></tr><tr><td>Nb of steps</td><td>10</td></tr><tr><td>Nb of models</td><td>1</td></tr><tr><td>Nb grid cells</td><td>9</td></tr><tr><td>Nb of operations per step</td><td>2</td></tr><tr><td>Total nb of operations</td><td>180</td></tr></table>"
      ]
     },
     "metadata": {},
     "output_type": "display_data"
    }
   ],
   "source": [
    "// Now we can create our model, step by step\n",
    "val ratPopulation = new SteppedModel(numberOfSteps,\"Simplified rat population dynamics\")\n",
    "    .setGrid(3,3) // 9 cells\n",
    "    .defineMathematicalModel( // In this super simple model we do only two things at each step\n",
    "      deathRate =>> {(s:Step) => scala.util.Random.nextDouble()*0.9}, // calculate a death rate\n",
    "      nbRats =>> {(s:Step) => {survivingRats(nbRats(s-1)+(nbRats(s-1)/2*10),deathRate(s))}} // calcuate the nb rats\n",
    "    )\n",
    "    .defineInitialModelConditions( // Now we need to determine the inital size of the population at each model grid\n",
    "      PerCell(nbRats,List(\n",
    "        (List(2),Seq(0,0)),\n",
    "        (List(2),Seq(0,1)),\n",
    "        (List(4),Seq(0,2)),\n",
    "        (List(4),Seq(1,0)),\n",
    "        (List(2),Seq(1,1)),\n",
    "        (List(6),Seq(1,2)),\n",
    "        (List(2),Seq(2,0)),\n",
    "        (List(4),Seq(2,1)),\n",
    "        (List(6),Seq(2,2)))))"
   ]
  },
  {
   "cell_type": "code",
   "execution_count": 60,
   "metadata": {},
   "outputs": [
    {
     "data": {
      "text/html": [
       "/2020-08-17-01-38-17\n",
       "RUN DATA\n",
       "Total number of models:1\n",
       "Number of cell per grid: 9\n",
       "Number of steps per model: 10\n",
       "Number of operation per step: 18\n",
       "Total number of operations: 180\n",
       "Available CPU cores: 8\n",
       "----------------------------------------\n",
       "RUN PROGRESS"
      ]
     },
     "metadata": {},
     "output_type": "display_data"
    }
   ],
   "source": [
    "// Now we run the model\n",
    "simulator.evaluate(ratPopulation)"
   ]
  },
  {
   "cell_type": "code",
   "execution_count": 61,
   "metadata": {
    "scrolled": false
   },
   "outputs": [
    {
     "data": {
      "text/html": [
       "<div id=\"grid-container_Hj4KHtQQkI\" class=\"grid-container\" align=\"center\"> \n",
       "<div id=\"grid_Hj4KHtQQkI\" class=\"grid\" align=\"center\"> \n",
       "<div id=\"graph_NBRDrF4gj6\" class=\"graph\"></div> \n",
       "</div> \n",
       "</div> \n",
       "<script>\n",
       "var masonry = new Macy({\n",
       "    container: '#grid_Hj4KHtQQkI',\n",
       "    debug: true,\n",
       "    mobileFirst: true,\n",
       "    columns: 1,\n",
       "    margin: {\n",
       "        x: 0,\n",
       "        y: 0\n",
       "    }\n",
       "  });\n",
       "\n",
       "  var traces_NBRDrF4gj6 = [{\"name\":\"Death rate\",\"type\":\"scatter\",\"x\":[0,1,2,3,4,5,6,7,8],\"y\":[0.4902154836481792,0.6721058868135239,0.5866896789343985,0.6901655772567079,0.7704640295016727,0.2712274283803305,0.10375902510161848,0.7447146662477531,0.2617032201192131,0.004409261620045935]},{\"name\":\"Nb of rats\",\"type\":\"scatter\",\"yaxis\":\"y2\",\"x\":[0,1,2,3,4,5,6,7,8],\"y\":[7,13,31,57,78,342,1840,2819,12484,74574]}];\n",
       " var layout_NBRDrF4gj6 = {\"height\":550,\"width\":600,\"hovermode\":\"closest\",\"title\":{\"text\":\"Date rate vs nb of rats per generation for cell (0,0)\"},\"showlegend\":true,\"xaxis\":{\"title\":{\"text\":\"Generation\"},\"showgrid\":true,\"zeroline\":false,\"showline\":false},\"yaxis\":{\"title\":{\"text\":\"Death rate\"},\"showgrid\":true,\"zeroline\":false,\"showline\":false},\"yaxis2\":{\"title\":{\"text\":\"Nb rats\"},\"showgrid\":true,\"zeroline\":false,\"showline\":false,\"side\":\"right\",\"overlaying\":\"y\",\"tickformat\":\"0.0f\"}};\n",
       " var config_NBRDrF4gj6 = {\"responsive\":true,\"scrollZoom\":true,\"displaylogo\":false};\n",
       " Plotly.newPlot(\"graph_NBRDrF4gj6\", traces_NBRDrF4gj6, layout_NBRDrF4gj6, config_NBRDrF4gj6);\n",
       "</script> \n"
      ]
     },
     "metadata": {},
     "output_type": "display_data"
    },
    {
     "data": {
      "text/html": [
       "<b>Simplified rat population dynamics model #1 <br>Timestep: 9</b> [from 0 to 9]<table class=\"table\" style=\"align: center; display:block; background-color:fffff0; border: 2px solid green; height: 450px; overflow-y: scroll\"><tr><th style=\"border: 1px solid green; background-color:fffff0\">Cell coordinates</th><th style=\"border: 1px solid green; background-color:#ebebec\">Number of Rats</th><th style=\"border: 1px solid green; background-color:#ebebec\">Death rate</th></tr><tr style=\"border: 1px solid green; background-color:fffff0\"><td style=\"border: 1px solid green; background-color:fffff0\">(0, 0)</td><td style=\"border: 1px solid green; background-color:fffff0\">74574</td><td style=\"border: 1px solid green; background-color:fffff0\">0.004409261620045935</td></tr><tr style=\"border: 1px solid green; background-color:fffff0\"><td style=\"border: 1px solid green; background-color:fffff0\">(0, 1)</td><td style=\"border: 1px solid green; background-color:fffff0\">157622</td><td style=\"border: 1px solid green; background-color:fffff0\">0.05434943455087252</td></tr><tr style=\"border: 1px solid green; background-color:fffff0\"><td style=\"border: 1px solid green; background-color:fffff0\">(0, 2)</td><td style=\"border: 1px solid green; background-color:fffff0\">137505</td><td style=\"border: 1px solid green; background-color:fffff0\">0.446972468357303</td></tr><tr style=\"border: 1px solid green; background-color:fffff0\"><td style=\"border: 1px solid green; background-color:fffff0\">(1, 0)</td><td style=\"border: 1px solid green; background-color:fffff0\">107530</td><td style=\"border: 1px solid green; background-color:fffff0\">0.6504732368868785</td></tr><tr style=\"border: 1px solid green; background-color:fffff0\"><td style=\"border: 1px solid green; background-color:fffff0\">(1, 1)</td><td style=\"border: 1px solid green; background-color:fffff0\">3526</td><td style=\"border: 1px solid green; background-color:fffff0\">0.8892366094403933</td></tr><tr style=\"border: 1px solid green; background-color:fffff0\"><td style=\"border: 1px solid green; background-color:fffff0\">(1, 2)</td><td style=\"border: 1px solid green; background-color:fffff0\">557373</td><td style=\"border: 1px solid green; background-color:fffff0\">0.2630639280290681</td></tr><tr style=\"border: 1px solid green; background-color:fffff0\"><td style=\"border: 1px solid green; background-color:fffff0\">(2, 0)</td><td style=\"border: 1px solid green; background-color:fffff0\">85859</td><td style=\"border: 1px solid green; background-color:fffff0\">0.5136402686820701</td></tr><tr style=\"border: 1px solid green; background-color:fffff0\"><td style=\"border: 1px solid green; background-color:fffff0\">(2, 1)</td><td style=\"border: 1px solid green; background-color:fffff0\">702656</td><td style=\"border: 1px solid green; background-color:fffff0\">0.185757959436094</td></tr><tr style=\"border: 1px solid green; background-color:fffff0\"><td style=\"border: 1px solid green; background-color:fffff0\">(2, 2)</td><td style=\"border: 1px solid green; background-color:fffff0\">695179</td><td style=\"border: 1px solid green; background-color:fffff0\">0.19925436928844953</td></tr></table>"
      ]
     },
     "metadata": {},
     "output_type": "display_data"
    }
   ],
   "source": [
    "// grab the results from the Conus model\n",
    "val model: SingleModelResults = simulator(ratPopulation)(0)\n",
    "\n",
    "val generation = (0 until numberOfSteps-1).map(x=>x.toDouble).toList\n",
    "\n",
    "// we can use the utility function to grab the series for a single variable\n",
    "val deathRateSeries: List[Double] = getDataFromSingleModel(model, deathRate, List(0,0), numberOfSteps)\n",
    "\n",
    "val xy1 = XY(generation, deathRateSeries) setName(\"Death rate\")\n",
    "\n",
    "// alternatively we can quickly get the same data for XY using the function below\n",
    "//  val xy1 = getXYSeriesFromSingleModel(model, (age, d18Occ), List(0), numberOfSteps)\n",
    "\n",
    "// lets also plot a second y variable\n",
    "val yaxis2 = Axis(\n",
    "    Y,\n",
    "    position = 2, \n",
    "    title = \"Nb rats\", \n",
    "    overlaying = Axis(Y), // this ensures that the axis sits on a seperate axis\n",
    "    side = RIGHT_SIDE, // this ensures the axis is on the right hand side\n",
    "    tickformat = \"0.0f\" // this will keep formatting reasonable for display purposes\n",
    ")\n",
    "\n",
    "// we construct the second y variable;\n",
    "val nbRatsSeries: List[Double] = getDataFromSingleModel(model, nbRats, List(0,0), numberOfSteps).map(x => x.toDouble)\n",
    "val xy2 = XY(generation, nbRatsSeries) setAxis yaxis2 setName(\"Nb of rats\")\n",
    "\n",
    "// finally we can combine in a single chart\n",
    "val chart = (\n",
    "    Chart() \n",
    "    addSeries xy1\n",
    "    addSeries xy2\n",
    "    setTitle(\"Date rate vs nb of rats per generation for cell (0,0)\") \n",
    "    addAxes(Axis(X, title=\"Generation\"), Axis(Y, title=\"Death rate\"), yaxis2)\n",
    ")\n",
    "\n",
    "val canvas = Canvas() addCharts chart\n",
    "\n",
    "// When we plot the result, we can see the legend is in the wrong place and overlaying the axis - we can overcome this\n",
    "// in the next example\n",
    "canvas.plotInline()"
   ]
  },
  {
   "cell_type": "markdown",
   "metadata": {
    "pycharm": {
     "name": "#%% md\n"
    }
   },
   "source": [
    "### Moving the Legend\n",
    "\n",
    "We can also move the Legend and position it where we would like as follows:"
   ]
  },
  {
   "cell_type": "code",
   "execution_count": 62,
   "metadata": {
    "pycharm": {
     "name": "#%%\n"
    }
   },
   "outputs": [],
   "source": [
    "import org.carbonateresearch.picta.options.AUTO"
   ]
  },
  {
   "cell_type": "code",
   "execution_count": 63,
   "metadata": {
    "scrolled": false
   },
   "outputs": [
    {
     "data": {
      "text/html": [
       "<div id=\"grid-container_mKHAXnsriZ\" class=\"grid-container\" align=\"center\"> \n",
       "<div id=\"grid_mKHAXnsriZ\" class=\"grid\" align=\"center\"> \n",
       "<div id=\"graph_UsDUKZLLvj\" class=\"graph\"></div> \n",
       "</div> \n",
       "</div> \n",
       "<script>\n",
       "var masonry = new Macy({\n",
       "    container: '#grid_mKHAXnsriZ',\n",
       "    debug: true,\n",
       "    mobileFirst: true,\n",
       "    columns: 1,\n",
       "    margin: {\n",
       "        x: 0,\n",
       "        y: 0\n",
       "    }\n",
       "  });\n",
       "\n",
       "  var traces_UsDUKZLLvj = [{\"name\":\"Death rate\",\"type\":\"scatter\",\"x\":[0,1,2,3,4,5,6,7,8],\"y\":[0.4902154836481792,0.6721058868135239,0.5866896789343985,0.6901655772567079,0.7704640295016727,0.2712274283803305,0.10375902510161848,0.7447146662477531,0.2617032201192131,0.004409261620045935]},{\"name\":\"Nb of rats\",\"type\":\"scatter\",\"yaxis\":\"y2\",\"x\":[0,1,2,3,4,5,6,7,8],\"y\":[7,13,31,57,78,342,1840,2819,12484,74574]}];\n",
       " var layout_UsDUKZLLvj = {\"height\":550,\"width\":600,\"hovermode\":\"closest\",\"title\":{\"text\":\"Death rate vs Nb of rats for cell (0,0)\"},\"showlegend\":true,\"legend\":{\"orientation\":\"h\",\"x\":0.5,\"y\":-0.5,\"xanchor\":\"auto\",\"yanchor\":\"auto\"},\"xaxis\":{\"title\":{\"text\":\"Generation\"},\"showgrid\":true,\"zeroline\":false,\"showline\":false},\"yaxis\":{\"title\":{\"text\":\"Death rate\"},\"showgrid\":true,\"zeroline\":false,\"showline\":false},\"yaxis2\":{\"title\":{\"text\":\"Nb rats\"},\"showgrid\":true,\"zeroline\":false,\"showline\":false,\"side\":\"right\",\"overlaying\":\"y\",\"tickformat\":\"0.0f\"}};\n",
       " var config_UsDUKZLLvj = {\"responsive\":true,\"scrollZoom\":true,\"displaylogo\":false};\n",
       " Plotly.newPlot(\"graph_UsDUKZLLvj\", traces_UsDUKZLLvj, layout_UsDUKZLLvj, config_UsDUKZLLvj);\n",
       "</script> \n"
      ]
     },
     "metadata": {},
     "output_type": "display_data"
    }
   ],
   "source": [
    "// finally we can combine in a single chart\n",
    "val chart = (\n",
    "    Chart() \n",
    "    addSeries xy1\n",
    "    addSeries xy2\n",
    "    setTitle(\"Death rate vs Nb of rats for cell (0,0)\") \n",
    "    addAxes(Axis(X, title=\"Generation\"), Axis(Y, title=\"Death rate\"), yaxis2)\n",
    "    setLegend(x = 0.5, y = -0.5, orientation = HORIZONTAL, xanchor = AUTO, yanchor = AUTO)\n",
    ")\n",
    "\n",
    "val canvas = Canvas() addCharts chart\n",
    "\n",
    "canvas.plotInline()"
   ]
  },
  {
   "cell_type": "code",
   "execution_count": 64,
   "metadata": {},
   "outputs": [
    {
     "data": {
      "text/html": [
       "<div id=\"grid-container_hOVuVuGQHK\" class=\"grid-container\" align=\"center\"> \n",
       "<div id=\"grid_hOVuVuGQHK\" class=\"grid\" align=\"center\"> \n",
       "\n",
       "<div align=\"center\">\n",
       "  <div id=\"graph_mvx2bIrtDK\" class=\"graph\"></div>\n",
       "  <div class=\"animationInterface\">\n",
       "    <button id=\"play_mvx2bIrtDK\" class=\"picta-button\">&#9658</button>\n",
       "    <button id=\"pause_mvx2bIrtDK\" class=\"picta-button\">&#9616;&#9616;</button>\n",
       "    <button id=\"prev_mvx2bIrtDK\" class=\"picta-button\"><</button>\n",
       "    <button id=\"next_mvx2bIrtDK\" class=\"picta-button\">></button>\n",
       "\n",
       "    <div id=\"sliderContainer_mvx2bIrtDK\" class=\"progressBar\"></div>\n",
       "    <div id=\"counterContainer_mvx2bIrtDK\" class=\"inline-div\">\n",
       "        <h3>Frame: </h3> <h3 id=\"value_mvx2bIrtDK\">0</h3>\n",
       "    </div>\n",
       "   </div>\n",
       "</div> \n",
       "\n",
       "</div> \n",
       "</div> \n",
       "<script>\n",
       "var masonry = new Macy({\n",
       "    container: '#grid_hOVuVuGQHK',\n",
       "    debug: true,\n",
       "    mobileFirst: true,\n",
       "    columns: 1,\n",
       "    margin: {\n",
       "        x: 0,\n",
       "        y: 0\n",
       "    }\n",
       "  });\n",
       "\n",
       "var graph_mvx2bIrtDK = document.getElementById('graph_mvx2bIrtDK')\n",
       "\n",
       "var layout_mvx2bIrtDK = {\"height\":550,\"width\":600,\"hovermode\":\"closest\",\"title\":{\"text\":\"Animation XY with Multiple Series\"},\"showlegend\":true,\"legend\":{\"orientation\":\"h\",\"x\":0.5,\"y\":-0.5,\"xanchor\":\"auto\",\"yanchor\":\"auto\"},\"xaxis\":{\"title\":{\"text\":\"Generation\"},\"showgrid\":true,\"zeroline\":false,\"showline\":false,\"range\":[0,9]},\"yaxis\":{\"title\":{\"text\":\"Death Rate\"},\"showgrid\":true,\"zeroline\":false,\"showline\":false,\"range\":[0,1]},\"yaxis2\":{\"title\":{\"text\":\"Nb rats\"},\"showgrid\":true,\"zeroline\":false,\"showline\":false,\"side\":\"right\",\"overlaying\":\"y\",\"range\":[0,10000],\"tickformat\":\"0.0f\"}}\n",
       "var frames_mvx2bIrtDK = [{\"name\":\"Frame 0\",\"data\":[{\"name\":\"Death Rate (F0)\",\"type\":\"scatter\",\"x\":[0],\"y\":[0.4902154836481792]},{\"name\":\"Nb of rats (F0)\",\"type\":\"scatter\",\"yaxis\":\"y2\",\"x\":[0],\"y\":[7]}]},{\"name\":\"Frame 1\",\"data\":[{\"name\":\"Death Rate (F1)\",\"type\":\"scatter\",\"x\":[0,1],\"y\":[0.4902154836481792,0.6721058868135239]},{\"name\":\"Nb of rats (F1)\",\"type\":\"scatter\",\"yaxis\":\"y2\",\"x\":[0,1],\"y\":[7,13]}]},{\"name\":\"Frame 2\",\"data\":[{\"name\":\"Death Rate (F2)\",\"type\":\"scatter\",\"x\":[0,1,2],\"y\":[0.4902154836481792,0.6721058868135239,0.5866896789343985]},{\"name\":\"Nb of rats (F2)\",\"type\":\"scatter\",\"yaxis\":\"y2\",\"x\":[0,1,2],\"y\":[7,13,31]}]},{\"name\":\"Frame 3\",\"data\":[{\"name\":\"Death Rate (F3)\",\"type\":\"scatter\",\"x\":[0,1,2,3],\"y\":[0.4902154836481792,0.6721058868135239,0.5866896789343985,0.6901655772567079]},{\"name\":\"Nb of rats (F3)\",\"type\":\"scatter\",\"yaxis\":\"y2\",\"x\":[0,1,2,3],\"y\":[7,13,31,57]}]},{\"name\":\"Frame 4\",\"data\":[{\"name\":\"Death Rate (F4)\",\"type\":\"scatter\",\"x\":[0,1,2,3,4],\"y\":[0.4902154836481792,0.6721058868135239,0.5866896789343985,0.6901655772567079,0.7704640295016727]},{\"name\":\"Nb of rats (F4)\",\"type\":\"scatter\",\"yaxis\":\"y2\",\"x\":[0,1,2,3,4],\"y\":[7,13,31,57,78]}]},{\"name\":\"Frame 5\",\"data\":[{\"name\":\"Death Rate (F5)\",\"type\":\"scatter\",\"x\":[0,1,2,3,4,5],\"y\":[0.4902154836481792,0.6721058868135239,0.5866896789343985,0.6901655772567079,0.7704640295016727,0.2712274283803305]},{\"name\":\"Nb of rats (F5)\",\"type\":\"scatter\",\"yaxis\":\"y2\",\"x\":[0,1,2,3,4,5],\"y\":[7,13,31,57,78,342]}]},{\"name\":\"Frame 6\",\"data\":[{\"name\":\"Death Rate (F6)\",\"type\":\"scatter\",\"x\":[0,1,2,3,4,5,6],\"y\":[0.4902154836481792,0.6721058868135239,0.5866896789343985,0.6901655772567079,0.7704640295016727,0.2712274283803305,0.10375902510161848]},{\"name\":\"Nb of rats (F6)\",\"type\":\"scatter\",\"yaxis\":\"y2\",\"x\":[0,1,2,3,4,5,6],\"y\":[7,13,31,57,78,342,1840]}]},{\"name\":\"Frame 7\",\"data\":[{\"name\":\"Death Rate (F7)\",\"type\":\"scatter\",\"x\":[0,1,2,3,4,5,6,7],\"y\":[0.4902154836481792,0.6721058868135239,0.5866896789343985,0.6901655772567079,0.7704640295016727,0.2712274283803305,0.10375902510161848,0.7447146662477531]},{\"name\":\"Nb of rats (F7)\",\"type\":\"scatter\",\"yaxis\":\"y2\",\"x\":[0,1,2,3,4,5,6,7],\"y\":[7,13,31,57,78,342,1840,2819]}]},{\"name\":\"Frame 8\",\"data\":[{\"name\":\"Death Rate (F8)\",\"type\":\"scatter\",\"x\":[0,1,2,3,4,5,6,7,8],\"y\":[0.4902154836481792,0.6721058868135239,0.5866896789343985,0.6901655772567079,0.7704640295016727,0.2712274283803305,0.10375902510161848,0.7447146662477531,0.2617032201192131]},{\"name\":\"Nb of rats (F8)\",\"type\":\"scatter\",\"yaxis\":\"y2\",\"x\":[0,1,2,3,4,5,6,7,8],\"y\":[7,13,31,57,78,342,1840,2819,12484]}]}]\n",
       "var labels_mvx2bIrtDK = [\"Frame 0\",\"Frame 1\",\"Frame 2\",\"Frame 3\",\"Frame 4\",\"Frame 5\",\"Frame 6\",\"Frame 7\",\"Frame 8\"]\n",
       "var duration_mvx2bIrtDK = 100\n",
       "var config_mvx2bIrtDK = {\"responsive\":true,\"scrollZoom\":true,\"displaylogo\":false}\n",
       "\n",
       "var traces_mvx2bIrtDK = JSON.parse(JSON.stringify(frames_mvx2bIrtDK[0].data.map(x => x)))\n",
       "\n",
       "var animation_settings_mvx2bIrtDK = {\n",
       "    mode: \"immediate\",\n",
       "    direction: {},\n",
       "    fromcurrent: true,\n",
       "    frame: [\n",
       "      {duration: duration_mvx2bIrtDK},\n",
       "      {duration: duration_mvx2bIrtDK},\n",
       "      {redraw: true}\n",
       "    ],\n",
       "    transition: [\n",
       "      {duration: duration_mvx2bIrtDK, easing: 'cubic-in-out'},\n",
       "      {duration: duration_mvx2bIrtDK, easing: 'cubic-in-out'},\n",
       "    ],\n",
       "    ordering: \"layout first\"\n",
       "}\n",
       "\n",
       "var slider_mvx2bIrtDK = document.createElement(\"input\")\n",
       "var play_mvx2bIrtDK = document.getElementById(\"play_mvx2bIrtDK\")\n",
       "var pause_mvx2bIrtDK = document.getElementById(\"pause_mvx2bIrtDK\")\n",
       "slider_mvx2bIrtDK.id = \"slider_mvx2bIrtDK\"\n",
       "slider_mvx2bIrtDK.type = \"range\"\n",
       "slider_mvx2bIrtDK.min = 0\n",
       "slider_mvx2bIrtDK.max = frames_mvx2bIrtDK.length - 1\n",
       "slider_mvx2bIrtDK.value = 0\n",
       "document.getElementById(\"sliderContainer_mvx2bIrtDK\").appendChild(slider_mvx2bIrtDK);\n",
       "\n",
       "Plotly.newPlot(graph_mvx2bIrtDK, traces_mvx2bIrtDK, layout_mvx2bIrtDK, config_mvx2bIrtDK)\n",
       ".then(function () { Plotly.addFrames(graph_mvx2bIrtDK, frames_mvx2bIrtDK) })\n",
       "\n",
       "var trigger_mvx2bIrtDK = true\n",
       "var reset_count_mvx2bIrtDK = false\n",
       "\n",
       "play_mvx2bIrtDK.addEventListener('click', async function() {\n",
       "   trigger_mvx2bIrtDK = true\n",
       "   if (reset_count_mvx2bIrtDK) {\n",
       "      slider_mvx2bIrtDK.value = 0\n",
       "      reset_count_mvx2bIrtDK = false\n",
       "   }\n",
       "\n",
       "  const start_index = slider_mvx2bIrtDK.value == labels_mvx2bIrtDK.length - 1 ? 0 : slider_mvx2bIrtDK.value\n",
       "  const end_index = labels_mvx2bIrtDK.length\n",
       "  await Plotly.animate(graph_mvx2bIrtDK, labels_mvx2bIrtDK.slice(start_index, end_index), animation_settings_mvx2bIrtDK)\n",
       "})\n",
       "\n",
       "pause_mvx2bIrtDK.addEventListener('click', async function() {\n",
       "  await Plotly.animate(graph_mvx2bIrtDK, [null], animation_settings_mvx2bIrtDK)\n",
       "  trigger_mvx2bIrtDK = false;\n",
       "})\n",
       "\n",
       "graph_mvx2bIrtDK.on('plotly_redraw', () => {\n",
       "   value_mvx2bIrtDK.innerHTML = slider_mvx2bIrtDK.value;\n",
       "   if (trigger_mvx2bIrtDK & !reset_count_mvx2bIrtDK) ++slider_mvx2bIrtDK.value\n",
       "   if (slider_mvx2bIrtDK.value == labels_mvx2bIrtDK.length - 1) reset_count_mvx2bIrtDK = true\n",
       "});\n",
       "\n",
       "slider_mvx2bIrtDK.oninput = async function() {\n",
       "   await Plotly.animate(graph_mvx2bIrtDK, frames_mvx2bIrtDK[this.value], animation_settings_mvx2bIrtDK)\n",
       "   trigger_mvx2bIrtDK = false\n",
       "   slider_mvx2bIrtDK.value = this.value\n",
       "   value_mvx2bIrtDK.innerHTML = this.value;\n",
       "   if (this.value == 0) reset_count_mvx2bIrtDK = false\n",
       "   if (this.value == labels_mvx2bIrtDK.length - 1) reset_count_mvx2bIrtDK = true\n",
       "   reset_count_mvx2bIrtDK = false\n",
       "}\n",
       "\n",
       "next_mvx2bIrtDK.addEventListener('click', function() {\n",
       "    if (slider_mvx2bIrtDK.value == labels_mvx2bIrtDK.length - 1) {\n",
       "        reset_count_mvx2bIrtDK = true;\n",
       "        return;\n",
       "    }\n",
       "    ++slider_mvx2bIrtDK.value;\n",
       "    value_mvx2bIrtDK.innerHTML = slider_mvx2bIrtDK.value;\n",
       "    trigger_mvx2bIrtDK = false;\n",
       "    slider_mvx2bIrtDK.oninput();\n",
       "})\n",
       "\n",
       "prev_mvx2bIrtDK.addEventListener('click', function() {\n",
       "    if (slider_mvx2bIrtDK.value == 0) {\n",
       "        reset_count_mvx2bIrtDK = false;\n",
       "        return;\n",
       "    }\n",
       "    --slider_mvx2bIrtDK.value;\n",
       "    value_mvx2bIrtDK.innerHTML = slider_mvx2bIrtDK.value;\n",
       "    trigger_mvx2bIrtDK = false;\n",
       "    slider_mvx2bIrtDK.oninput();\n",
       "})\n",
       "\n",
       "</script> \n"
      ]
     },
     "metadata": {},
     "output_type": "display_data"
    }
   ],
   "source": [
    "val xaxis = Axis(X, title = \"Generation\") setLimits (0.0, 9.0)\n",
    "val yaxis = Axis(Y, title = \"Death Rate\") setLimits(0.0, 1.0)\n",
    "\n",
    "// lets also plot a second y variable\n",
    "val yaxis2 = Axis(\n",
    "    Y,\n",
    "    position = 2, \n",
    "    title = \"Nb rats\",\n",
    "    overlaying = Axis(Y), // this ensures that the axis sits on a seperate axis\n",
    "    side = RIGHT_SIDE, // this ensures the axis is on the right hand side\n",
    "    tickformat = \"0.0f\" // this will keep formatting reasonable for display purposes\n",
    ").setLimits (0.0, 10000.0)\n",
    "\n",
    "// we can also specifiy the underlying layout directly - sometimes this can be useful\n",
    "val layout = ChartLayout(\"Animation XY with Multiple Series\") setAxes(xaxis, yaxis, yaxis2)\n",
    "\n",
    "val animation = \n",
    "    (0 to generation.size-1)\n",
    "    .map(x => XY(generation.take(x+1), deathRateSeries.take(x+1)) setName \"Death Rate\")\n",
    "    .toList\n",
    "\n",
    "val animation2 = \n",
    "    (0 to generation.size-1)\n",
    "    .map(x => XY(generation.take(x+1), nbRatsSeries.take(x+1)) setName \"Nb of rats\" setAxis yaxis2)\n",
    "    .toList\n",
    "\n",
    "val chart = (\n",
    "    Chart(animated = true, transition_duration=100, animate_multiple_series = true)\n",
    "    setChartLayout layout \n",
    "    addSeries animation\n",
    "    addSeries animation2\n",
    "    setLegend(x = 0.5, y = -0.5, orientation = HORIZONTAL, xanchor = AUTO, yanchor = AUTO)\n",
    ") \n",
    "\n",
    "chart.plotInline"
   ]
  },
  {
   "cell_type": "code",
   "execution_count": 65,
   "metadata": {
    "pycharm": {
     "name": "#%%\n"
    }
   },
   "outputs": [
    {
     "data": {
      "text/html": [
       "<div id=\"grid-container_U9HCPajDCK\" class=\"grid-container\" align=\"center\"> \n",
       "<div id=\"grid_U9HCPajDCK\" class=\"grid\" align=\"center\"> \n",
       "<div id=\"graph_NlkXwKTAMg\" class=\"graph\"></div> \n",
       "</div> \n",
       "</div> \n",
       "<script>\n",
       "var masonry = new Macy({\n",
       "    container: '#grid_U9HCPajDCK',\n",
       "    debug: true,\n",
       "    mobileFirst: true,\n",
       "    columns: 1,\n",
       "    margin: {\n",
       "        x: 0,\n",
       "        y: 0\n",
       "    }\n",
       "  });\n",
       "\n",
       "  var traces_NlkXwKTAMg = [{\"name\":\"ZdHgvl7Tzs\",\"type\":\"heatmap\",\"z\":[[74574,157622,137505],[107530,3526,557373],[85859,702656,695179]]}];\n",
       " var layout_NlkXwKTAMg = {\"height\":550,\"width\":600,\"hovermode\":\"closest\",\"title\":{\"text\":\"Nb of rats at time step 10\"},\"showlegend\":true};\n",
       " var config_NlkXwKTAMg = {\"responsive\":true,\"scrollZoom\":true,\"displaylogo\":false};\n",
       " Plotly.newPlot(\"graph_NlkXwKTAMg\", traces_NlkXwKTAMg, layout_NlkXwKTAMg, config_NlkXwKTAMg);\n",
       "</script> \n"
      ]
     },
     "metadata": {},
     "output_type": "display_data"
    }
   ],
   "source": [
    "val nbCol = (0 to 2).toList\n",
    "val mySeries:List[Double] = nbCol.flatMap(r => {\n",
    "    nbCol.map{c => getDataFromSingleModel(model, nbRats, List(r,c), numberOfSteps).last.toDouble}})\n",
    "\n",
    "val series = XYZ(z=mySeries,n=3) asType HEATMAP\n",
    "\n",
    "val chart = Chart().addSeries(series).setTitle(\"Nb of rats at time step 10\")\n",
    "\n",
    "chart.plotInline"
   ]
  },
  {
   "cell_type": "code",
   "execution_count": 66,
   "metadata": {},
   "outputs": [
    {
     "data": {
      "text/html": [
       "<div id=\"grid-container_CcdarrgWKL\" class=\"grid-container\" align=\"center\"> \n",
       "<div id=\"grid_CcdarrgWKL\" class=\"grid\" align=\"center\"> \n",
       "<div id=\"graph_w0moXXjPNK\" class=\"graph\"></div> \n",
       "</div> \n",
       "</div> \n",
       "<script>\n",
       "var masonry = new Macy({\n",
       "    container: '#grid_CcdarrgWKL',\n",
       "    debug: true,\n",
       "    mobileFirst: true,\n",
       "    columns: 1,\n",
       "    margin: {\n",
       "        x: 0,\n",
       "        y: 0\n",
       "    }\n",
       "  });\n",
       "\n",
       "  var traces_w0moXXjPNK = [{\"name\":\"iLduPACQsd\",\"type\":\"surface\",\"colorbar\":{\"title\":{\"text\":\"Rat Population\",\"side\":\"right\"}},\"z\":[[74574,157622,137505],[107530,3526,557373],[85859,702656,695179]]}];\n",
       " var layout_w0moXXjPNK = {\"height\":550,\"width\":600,\"hovermode\":\"closest\",\"title\":{\"text\":\"Surface\"},\"showlegend\":true};\n",
       " var config_w0moXXjPNK = {\"responsive\":true,\"scrollZoom\":true,\"displaylogo\":false};\n",
       " Plotly.newPlot(\"graph_w0moXXjPNK\", traces_w0moXXjPNK, layout_w0moXXjPNK, config_w0moXXjPNK);\n",
       "</script> \n"
      ]
     },
     "metadata": {},
     "output_type": "display_data"
    }
   ],
   "source": [
    "val ratsAsSurface = XYZ(z=mySeries,n=3) asType SURFACE setColorBar(\"Rat Population\", RIGHT_SIDE)\n",
    "\n",
    "val ratsChart = Chart() addSeries ratsAsSurface setTitle \"Surface\"\n",
    "\n",
    "ratsChart.plotInline"
   ]
  },
  {
   "cell_type": "code",
   "execution_count": 67,
   "metadata": {},
   "outputs": [
    {
     "data": {
      "text/html": [
       "<div id=\"grid-container_z6YoDb1gUv\" class=\"grid-container\" align=\"center\"> \n",
       "<div id=\"grid_z6YoDb1gUv\" class=\"grid\" align=\"center\"> \n",
       "\n",
       "<div align=\"center\">\n",
       "  <div id=\"graph_kclXHTzOCn\" class=\"graph\"></div>\n",
       "  <div class=\"animationInterface\">\n",
       "    <button id=\"play_kclXHTzOCn\" class=\"picta-button\">&#9658</button>\n",
       "    <button id=\"pause_kclXHTzOCn\" class=\"picta-button\">&#9616;&#9616;</button>\n",
       "    <button id=\"prev_kclXHTzOCn\" class=\"picta-button\"><</button>\n",
       "    <button id=\"next_kclXHTzOCn\" class=\"picta-button\">></button>\n",
       "\n",
       "    <div id=\"sliderContainer_kclXHTzOCn\" class=\"progressBar\"></div>\n",
       "    <div id=\"counterContainer_kclXHTzOCn\" class=\"inline-div\">\n",
       "        <h3>Frame: </h3> <h3 id=\"value_kclXHTzOCn\">0</h3>\n",
       "    </div>\n",
       "   </div>\n",
       "</div> \n",
       "\n",
       "</div> \n",
       "</div> \n",
       "<script>\n",
       "var masonry = new Macy({\n",
       "    container: '#grid_z6YoDb1gUv',\n",
       "    debug: true,\n",
       "    mobileFirst: true,\n",
       "    columns: 1,\n",
       "    margin: {\n",
       "        x: 0,\n",
       "        y: 0\n",
       "    }\n",
       "  });\n",
       "\n",
       "var graph_kclXHTzOCn = document.getElementById('graph_kclXHTzOCn')\n",
       "\n",
       "var layout_kclXHTzOCn = {\"height\":550,\"width\":600,\"hovermode\":\"closest\",\"title\":{\"text\":\"Animated Surface\"},\"showlegend\":true,\"scene\":{\"zaxis\":{\"showgrid\":true,\"zeroline\":false,\"showline\":false,\"range\":[0,2000000]}}}\n",
       "var frames_kclXHTzOCn = [{\"name\":\"wtAa2GQMb3 (F0)\",\"data\":[{\"name\":\"wtAa2GQMb3 (F0)\",\"type\":\"surface\",\"colorbar\":{\"title\":{\"text\":\"Rat Population\",\"side\":\"right\"}},\"z\":[[7,12,24],[7,8,7],[8,10,26]]}]},{\"name\":\"fx5nyBOwqN (F1)\",\"data\":[{\"name\":\"fx5nyBOwqN (F1)\",\"type\":\"surface\",\"colorbar\":{\"title\":{\"text\":\"Rat Population\",\"side\":\"right\"}},\"z\":[[13,48,121],[11,10,29],[34,43,111]]}]},{\"name\":\"CzeXyYpia9 (F2)\",\"data\":[{\"name\":\"CzeXyYpia9 (F2)\",\"type\":\"surface\",\"colorbar\":{\"title\":{\"text\":\"Rat Population\",\"side\":\"right\"}},\"z\":[[31,32,376],[30,56,138],[193,235,534]]}]},{\"name\":\"62bWxh0Nj8 (F3)\",\"data\":[{\"name\":\"62bWxh0Nj8 (F3)\",\"type\":\"surface\",\"colorbar\":{\"title\":{\"text\":\"Rat Population\",\"side\":\"right\"}},\"z\":[[57,71,815],[47,71,595],[915,840,3124]]}]},{\"name\":\"mGSXPDdBHR (F4)\",\"data\":[{\"name\":\"mGSXPDdBHR (F4)\",\"type\":\"surface\",\"colorbar\":{\"title\":{\"text\":\"Rat Population\",\"side\":\"right\"}},\"z\":[[78,179,893],[196,102,1685],[4702,4141,12884]]}]},{\"name\":\"BuhZ161qxV (F5)\",\"data\":[{\"name\":\"BuhZ161qxV (F5)\",\"type\":\"surface\",\"colorbar\":{\"title\":{\"text\":\"Rat Population\",\"side\":\"right\"}},\"z\":[[342,544,3141],[523,165,4045],[15921,13663,43857]]}]},{\"name\":\"8bB5DeTYMl (F6)\",\"data\":[{\"name\":\"8bB5DeTYMl (F6)\",\"type\":\"surface\",\"colorbar\":{\"title\":{\"text\":\"Rat Population\",\"side\":\"right\"}},\"z\":[[1840,2117,10424],[2337,971,4568],[18810,34998,33956]]}]},{\"name\":\"HeyIunAYTd (F7)\",\"data\":[{\"name\":\"HeyIunAYTd (F7)\",\"type\":\"surface\",\"colorbar\":{\"title\":{\"text\":\"Rat Population\",\"side\":\"right\"}},\"z\":[[2819,4994,7123],[12133,1055,26100],[32793,79355,182389]]}]},{\"name\":\"WpLtvllcbG (F8)\",\"data\":[{\"name\":\"WpLtvllcbG (F8)\",\"type\":\"surface\",\"colorbar\":{\"title\":{\"text\":\"Rat Population\",\"side\":\"right\"}},\"z\":[[12484,27780,41440],[51274,5305,126057],[29423,143826,144694]]}]},{\"name\":\"fOVO66IRVd (F9)\",\"data\":[{\"name\":\"fOVO66IRVd (F9)\",\"type\":\"surface\",\"colorbar\":{\"title\":{\"text\":\"Rat Population\",\"side\":\"right\"}},\"z\":[[74574,157622,137505],[107530,3526,557373],[85859,702656,695179]]}]}]\n",
       "var labels_kclXHTzOCn = [\"wtAa2GQMb3 (F0)\",\"fx5nyBOwqN (F1)\",\"CzeXyYpia9 (F2)\",\"62bWxh0Nj8 (F3)\",\"mGSXPDdBHR (F4)\",\"BuhZ161qxV (F5)\",\"8bB5DeTYMl (F6)\",\"HeyIunAYTd (F7)\",\"WpLtvllcbG (F8)\",\"fOVO66IRVd (F9)\"]\n",
       "var duration_kclXHTzOCn = 100\n",
       "var config_kclXHTzOCn = {\"responsive\":true,\"scrollZoom\":true,\"displaylogo\":false}\n",
       "\n",
       "var traces_kclXHTzOCn = JSON.parse(JSON.stringify(frames_kclXHTzOCn[0].data.map(x => x)))\n",
       "\n",
       "var animation_settings_kclXHTzOCn = {\n",
       "    mode: \"immediate\",\n",
       "    direction: {},\n",
       "    fromcurrent: true,\n",
       "    frame: [\n",
       "      {duration: duration_kclXHTzOCn},\n",
       "      {duration: duration_kclXHTzOCn},\n",
       "      {redraw: true}\n",
       "    ],\n",
       "    transition: [\n",
       "      {duration: duration_kclXHTzOCn, easing: 'cubic-in-out'},\n",
       "      {duration: duration_kclXHTzOCn, easing: 'cubic-in-out'},\n",
       "    ],\n",
       "    ordering: \"layout first\"\n",
       "}\n",
       "\n",
       "var slider_kclXHTzOCn = document.createElement(\"input\")\n",
       "var play_kclXHTzOCn = document.getElementById(\"play_kclXHTzOCn\")\n",
       "var pause_kclXHTzOCn = document.getElementById(\"pause_kclXHTzOCn\")\n",
       "slider_kclXHTzOCn.id = \"slider_kclXHTzOCn\"\n",
       "slider_kclXHTzOCn.type = \"range\"\n",
       "slider_kclXHTzOCn.min = 0\n",
       "slider_kclXHTzOCn.max = frames_kclXHTzOCn.length - 1\n",
       "slider_kclXHTzOCn.value = 0\n",
       "document.getElementById(\"sliderContainer_kclXHTzOCn\").appendChild(slider_kclXHTzOCn);\n",
       "\n",
       "Plotly.newPlot(graph_kclXHTzOCn, traces_kclXHTzOCn, layout_kclXHTzOCn, config_kclXHTzOCn)\n",
       ".then(function () { Plotly.addFrames(graph_kclXHTzOCn, frames_kclXHTzOCn) })\n",
       "\n",
       "var trigger_kclXHTzOCn = true\n",
       "var reset_count_kclXHTzOCn = false\n",
       "\n",
       "play_kclXHTzOCn.addEventListener('click', async function() {\n",
       "   trigger_kclXHTzOCn = true\n",
       "   if (reset_count_kclXHTzOCn) {\n",
       "      slider_kclXHTzOCn.value = 0\n",
       "      reset_count_kclXHTzOCn = false\n",
       "   }\n",
       "\n",
       "  const start_index = slider_kclXHTzOCn.value == labels_kclXHTzOCn.length - 1 ? 0 : slider_kclXHTzOCn.value\n",
       "  const end_index = labels_kclXHTzOCn.length\n",
       "  await Plotly.animate(graph_kclXHTzOCn, labels_kclXHTzOCn.slice(start_index, end_index), animation_settings_kclXHTzOCn)\n",
       "})\n",
       "\n",
       "pause_kclXHTzOCn.addEventListener('click', async function() {\n",
       "  await Plotly.animate(graph_kclXHTzOCn, [null], animation_settings_kclXHTzOCn)\n",
       "  trigger_kclXHTzOCn = false;\n",
       "})\n",
       "\n",
       "graph_kclXHTzOCn.on('plotly_redraw', () => {\n",
       "   value_kclXHTzOCn.innerHTML = slider_kclXHTzOCn.value;\n",
       "   if (trigger_kclXHTzOCn & !reset_count_kclXHTzOCn) ++slider_kclXHTzOCn.value\n",
       "   if (slider_kclXHTzOCn.value == labels_kclXHTzOCn.length - 1) reset_count_kclXHTzOCn = true\n",
       "});\n",
       "\n",
       "slider_kclXHTzOCn.oninput = async function() {\n",
       "   await Plotly.animate(graph_kclXHTzOCn, frames_kclXHTzOCn[this.value], animation_settings_kclXHTzOCn)\n",
       "   trigger_kclXHTzOCn = false\n",
       "   slider_kclXHTzOCn.value = this.value\n",
       "   value_kclXHTzOCn.innerHTML = this.value;\n",
       "   if (this.value == 0) reset_count_kclXHTzOCn = false\n",
       "   if (this.value == labels_kclXHTzOCn.length - 1) reset_count_kclXHTzOCn = true\n",
       "   reset_count_kclXHTzOCn = false\n",
       "}\n",
       "\n",
       "next_kclXHTzOCn.addEventListener('click', function() {\n",
       "    if (slider_kclXHTzOCn.value == labels_kclXHTzOCn.length - 1) {\n",
       "        reset_count_kclXHTzOCn = true;\n",
       "        return;\n",
       "    }\n",
       "    ++slider_kclXHTzOCn.value;\n",
       "    value_kclXHTzOCn.innerHTML = slider_kclXHTzOCn.value;\n",
       "    trigger_kclXHTzOCn = false;\n",
       "    slider_kclXHTzOCn.oninput();\n",
       "})\n",
       "\n",
       "prev_kclXHTzOCn.addEventListener('click', function() {\n",
       "    if (slider_kclXHTzOCn.value == 0) {\n",
       "        reset_count_kclXHTzOCn = false;\n",
       "        return;\n",
       "    }\n",
       "    --slider_kclXHTzOCn.value;\n",
       "    value_kclXHTzOCn.innerHTML = slider_kclXHTzOCn.value;\n",
       "    trigger_kclXHTzOCn = false;\n",
       "    slider_kclXHTzOCn.oninput();\n",
       "})\n",
       "\n",
       "</script> \n"
      ]
     },
     "metadata": {},
     "output_type": "display_data"
    }
   ],
   "source": [
    "def createSeries:List[List[Double]] = {\n",
    "    val nbCol = (0 to 2).toList\n",
    "    val nestedList:List[List[Double]] = nbCol.flatMap(r => {\n",
    "    nbCol.map{c => getDataFromSingleModel(model, nbRats, List(r,c), numberOfSteps).map(x=>x.toDouble)}})\n",
    "    (0 to 9).map(x => (0 to 8).map(y => nestedList(y)(x)).toList).toList\n",
    "}\n",
    "\n",
    "\n",
    "val ratsAsSurface = createSeries.map(s => XYZ(z=s,n=3) asType SURFACE setColorBar(\"Rat Population\", RIGHT_SIDE)) \n",
    "\n",
    "val ratsChart = Chart(animated = true, transition_duration=100) addSeries ratsAsSurface setTitle \"Animated Surface\" setZAxisLimits(0, 2E6)\n",
    "\n",
    "ratsChart.plotInline"
   ]
  }
 ],
 "metadata": {
  "kernelspec": {
   "display_name": "Scala",
   "language": "scala",
   "name": "scala"
  },
  "language_info": {
   "codemirror_mode": "text/x-scala",
   "file_extension": ".scala",
   "mimetype": "text/x-scala",
   "name": "scala",
   "nbconvert_exporter": "script",
   "version": "2.13.2"
  }
 },
 "nbformat": 4,
 "nbformat_minor": 4
}
