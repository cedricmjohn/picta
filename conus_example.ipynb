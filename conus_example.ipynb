{
 "cells": [
  {
   "cell_type": "code",
   "execution_count": 1,
   "metadata": {
    "scrolled": true
   },
   "outputs": [
    {
     "data": {
      "text/plain": [
       "\u001b[32mimport \u001b[39m\u001b[36m$ivy.$                                     \u001b[39m"
      ]
     },
     "execution_count": 1,
     "metadata": {},
     "output_type": "execute_result"
    }
   ],
   "source": [
    "import $ivy. `org.carbonateresearch::conus:0.0.1b`"
   ]
  },
  {
   "cell_type": "code",
   "execution_count": 2,
   "metadata": {},
   "outputs": [
    {
     "data": {
      "text/plain": [
       "\u001b[32mimport \u001b[39m\u001b[36morg.carbonateresearch.conus.common._\n",
       "\u001b[39m\n",
       "\u001b[32mimport \u001b[39m\u001b[36morg.carbonateresearch.conus.grids._\u001b[39m"
      ]
     },
     "execution_count": 2,
     "metadata": {},
     "output_type": "execute_result"
    }
   ],
   "source": [
    "import org.carbonateresearch.conus.common._\n",
    "import org.carbonateresearch.conus.grids._"
   ]
  },
  {
   "cell_type": "code",
   "execution_count": 3,
   "metadata": {
    "scrolled": false
   },
   "outputs": [
    {
     "data": {
      "text/plain": [
       "\u001b[36msum\u001b[39m: \u001b[32mModelVariable\u001b[39m[\u001b[32mDouble\u001b[39m] = \u001b[33mModelVariable\u001b[39m(\n",
       "  \u001b[32m\"Sum\"\u001b[39m,\n",
       "  \u001b[32m1.0\u001b[39m,\n",
       "  \u001b[32m\"\"\u001b[39m,\n",
       "  false,\n",
       "  \u001b[32m2\u001b[39m,\n",
       "  ReturnDefaultValue\n",
       ")\n",
       "\u001b[36msum2\u001b[39m: \u001b[32mModelVariable\u001b[39m[\u001b[32mDouble\u001b[39m] = \u001b[33mModelVariable\u001b[39m(\n",
       "  \u001b[32m\"Sum2\"\u001b[39m,\n",
       "  \u001b[32m10.0\u001b[39m,\n",
       "  \u001b[32m\"\"\u001b[39m,\n",
       "  false,\n",
       "  \u001b[32m2\u001b[39m,\n",
       "  ReturnDefaultValue\n",
       ")\n",
       "\u001b[36minterestRate\u001b[39m: \u001b[32mModelVariable\u001b[39m[\u001b[32mDouble\u001b[39m] = \u001b[33mModelVariable\u001b[39m(\n",
       "  \u001b[32m\"Interest Rate\"\u001b[39m,\n",
       "  \u001b[32m0.1\u001b[39m,\n",
       "  \u001b[32m\"\"\u001b[39m,\n",
       "  false,\n",
       "  \u001b[32m2\u001b[39m,\n",
       "  ReturnDefaultValue\n",
       ")"
      ]
     },
     "execution_count": 3,
     "metadata": {},
     "output_type": "execute_result"
    }
   ],
   "source": [
    "val sum: ModelVariable[Double] = ModelVariable(\"Sum\", 1.0)\n",
    "val sum2: ModelVariable[Double] = ModelVariable(\"Sum2\", 10.0)\n",
    "val interestRate: ModelVariable[Double] = ModelVariable(\"Interest Rate\", 0.1)"
   ]
  },
  {
   "cell_type": "code",
   "execution_count": 4,
   "metadata": {},
   "outputs": [
    {
     "data": {
      "text/plain": [
       "defined \u001b[32mfunction\u001b[39m \u001b[36minterestCalculator\u001b[39m"
      ]
     },
     "execution_count": 4,
     "metadata": {},
     "output_type": "execute_result"
    }
   ],
   "source": [
    "def interestCalculator = (s: Step) => sum(s-1) + sum(s-1)*interestRate(s)"
   ]
  },
  {
   "cell_type": "code",
   "execution_count": 5,
   "metadata": {},
   "outputs": [
    {
     "data": {
      "text/plain": [
       "\u001b[36mmodel\u001b[39m: \u001b[32mModelCalculationSpace\u001b[39m = \u001b[33mModelCalculationSpace\u001b[39m(\n",
       "  \u001b[33mList\u001b[39m(\n",
       "    \u001b[33mSingleModel\u001b[39m(\n",
       "      \u001b[32m1\u001b[39m,\n",
       "      \u001b[32m10\u001b[39m,\n",
       "      \u001b[33mUniversalGrid\u001b[39m(\n",
       "        \u001b[33mArraySeq\u001b[39m(\u001b[32m3\u001b[39m),\n",
       "        \u001b[32m10\u001b[39m,\n",
       "        \u001b[33mMap\u001b[39m(\n",
       "          \u001b[33mModelVariable\u001b[39m(\u001b[32m\"Number of steps\"\u001b[39m, \u001b[32m0\u001b[39m, \u001b[32m\"\"\u001b[39m, true, \u001b[32m0\u001b[39m, ReturnDefaultValue) -> \u001b[32m0\u001b[39m,\n",
       "          \u001b[33mModelVariable\u001b[39m(\u001b[32m\"Sum\"\u001b[39m, \u001b[32m1.0\u001b[39m, \u001b[32m\"\"\u001b[39m, false, \u001b[32m2\u001b[39m, ReturnDefaultValue) -> \u001b[32m1\u001b[39m,\n",
       "          \u001b[33mModelVariable\u001b[39m(\u001b[32m\"Sum2\"\u001b[39m, \u001b[32m10.0\u001b[39m, \u001b[32m\"\"\u001b[39m, false, \u001b[32m2\u001b[39m, ReturnDefaultValue) -> \u001b[32m2\u001b[39m,\n",
       "          \u001b[33mModelVariable\u001b[39m(\u001b[32m\"Interest Rate\"\u001b[39m, \u001b[32m0.1\u001b[39m, \u001b[32m\"\"\u001b[39m, false, \u001b[32m2\u001b[39m, ReturnDefaultValue) -> \u001b[32m3\u001b[39m\n",
       "        ),\n",
       "        \u001b[33mMap\u001b[39m(\n",
       "          \u001b[33mModelVariable\u001b[39m(\u001b[32m\"Number of steps\"\u001b[39m, \u001b[32m0\u001b[39m, \u001b[32m\"\"\u001b[39m, true, \u001b[32m0\u001b[39m, ReturnDefaultValue) -> \u001b[33mTimeStepVector\u001b[39m(\n",
       "            \u001b[33mArraySeq\u001b[39m(\u001b[32m3\u001b[39m),\n",
       "            DenseVector(TODO, TODO, TODO, TODO, TODO, TODO, TODO, TODO, TODO, TODO)\n",
       "          ),\n",
       "          \u001b[33mModelVariable\u001b[39m(\u001b[32m\"Sum\"\u001b[39m, \u001b[32m1.0\u001b[39m, \u001b[32m\"\"\u001b[39m, false, \u001b[32m2\u001b[39m, ReturnDefaultValue) -> \u001b[33mTimeStepVector\u001b[39m(\n",
       "            \u001b[33mArraySeq\u001b[39m(\u001b[32m3\u001b[39m),\n",
       "            DenseVector(TODO, TODO, TODO, TODO, TODO, TODO, TODO, TODO, TODO, TODO)\n",
       "          ),\n",
       "          \u001b[33mModelVariable\u001b[39m(\u001b[32m\"Sum2\"\u001b[39m, \u001b[32m10.0\u001b[39m, \u001b[32m\"\"\u001b[39m, false, \u001b[32m2\u001b[39m, ReturnDefaultValue) -> \u001b[33mTimeStepVector\u001b[39m(\n",
       "            \u001b[33mArraySeq\u001b[39m(\u001b[32m3\u001b[39m),\n",
       "            DenseVector(TODO, TODO, TODO, TODO, TODO, TODO, TODO, TODO, TODO, TODO)\n",
       "          ),\n",
       "          \u001b[33mModelVariable\u001b[39m(\u001b[32m\"Interest Rate\"\u001b[39m, \u001b[32m0.1\u001b[39m, \u001b[32m\"\"\u001b[39m, false, \u001b[32m2\u001b[39m, ReturnDefaultValue) -> \u001b[33mTimeStepVector\u001b[39m(\n",
       "            \u001b[33mArraySeq\u001b[39m(\u001b[32m3\u001b[39m),\n",
       "            DenseVector(TODO, TODO, TODO, TODO, TODO, TODO, TODO, TODO, TODO, TO..."
      ]
     },
     "execution_count": 5,
     "metadata": {},
     "output_type": "execute_result"
    }
   ],
   "source": [
    "val model = new SteppedModel(10, \"Finance\").setGrid(3)\n",
    "    .defineMathematicalModel(sum =>> interestCalculator, sum2 =>> interestCalculator)\n",
    "    .defineInitialModelConditions(\n",
    "        PerCell(sum, List(\n",
    "            (List(1.0), Seq(0)),\n",
    "            (List(10.0), Seq(1)),\n",
    "            (List(100.0), Seq(2))\n",
    "        )),\n",
    "        PerCell(sum2, List(\n",
    "            (List(1.0), Seq(0)),\n",
    "            (List(10.0), Seq(1)),\n",
    "            (List(100.0), Seq(2))\n",
    "        )),\n",
    "        AllCells(interestRate, List(0.10))\n",
    "    )"
   ]
  },
  {
   "cell_type": "code",
   "execution_count": 6,
   "metadata": {},
   "outputs": [
    {
     "name": "stdout",
     "output_type": "stream",
     "text": [
      "----------------------------------------\n",
      "RUN STARTED\n",
      "----------------------------------------\n",
      "\u001b[0m\u001b[35m\u001b[4mRUN DATA\u001b[0m\n",
      "\u001b[0m\u001b[33mTotal number of models:\u001b[0m \u001b[37m1\n",
      "\u001b[0m\u001b[33mNumber of cell per grid:\u001b[0m\u001b[37m 3\n",
      "\u001b[0m\u001b[33mNumber of steps per model:\u001b[0m\u001b[37m 10\n",
      "\u001b[0m\u001b[33mNumber of operation per step:\u001b[0m\u001b[37m 6\n",
      "\u001b[0m\u001b[33mTotal number of operations:\u001b[0m\u001b[37m 60\n",
      "\u001b[0m\u001b[33mAvailable CPU cores:\u001b[0m\u001b[37m 4\n",
      "\u001b[0m\u001b[34m----------------------------------------\u001b[0m\n",
      "\u001b[0m\u001b[35m\u001b[4mRUN PROGRESS\u001b[0m\n",
      "Model #1 completed in 0 seconds is calibrated.\n",
      "\n",
      "----------------------------------------\n",
      "END OF RUN\n",
      "----------------------------------------\n",
      "Writing results to folder '/Users/fazi/Conus/Finance/2020-06-04-03-26-14'\n"
     ]
    },
    {
     "data": {
      "text/plain": [
       "\u001b[36mrunnedModel\u001b[39m: \u001b[32mModelCalculationSpace\u001b[39m = \u001b[33mModelCalculationSpace\u001b[39m(\n",
       "  \u001b[33mList\u001b[39m(\n",
       "    \u001b[33mSingleModel\u001b[39m(\n",
       "      \u001b[32m1\u001b[39m,\n",
       "      \u001b[32m10\u001b[39m,\n",
       "      \u001b[33mUniversalGrid\u001b[39m(\n",
       "        \u001b[33mArraySeq\u001b[39m(\u001b[32m3\u001b[39m),\n",
       "        \u001b[32m10\u001b[39m,\n",
       "        \u001b[33mMap\u001b[39m(\n",
       "          \u001b[33mModelVariable\u001b[39m(\u001b[32m\"Number of steps\"\u001b[39m, \u001b[32m0\u001b[39m, \u001b[32m\"\"\u001b[39m, true, \u001b[32m0\u001b[39m, ReturnDefaultValue) -> \u001b[32m0\u001b[39m,\n",
       "          \u001b[33mModelVariable\u001b[39m(\u001b[32m\"Sum\"\u001b[39m, \u001b[32m1.0\u001b[39m, \u001b[32m\"\"\u001b[39m, false, \u001b[32m2\u001b[39m, ReturnDefaultValue) -> \u001b[32m1\u001b[39m,\n",
       "          \u001b[33mModelVariable\u001b[39m(\u001b[32m\"Sum2\"\u001b[39m, \u001b[32m10.0\u001b[39m, \u001b[32m\"\"\u001b[39m, false, \u001b[32m2\u001b[39m, ReturnDefaultValue) -> \u001b[32m2\u001b[39m,\n",
       "          \u001b[33mModelVariable\u001b[39m(\u001b[32m\"Interest Rate\"\u001b[39m, \u001b[32m0.1\u001b[39m, \u001b[32m\"\"\u001b[39m, false, \u001b[32m2\u001b[39m, ReturnDefaultValue) -> \u001b[32m3\u001b[39m\n",
       "        ),\n",
       "        \u001b[33mMap\u001b[39m(\n",
       "          \u001b[33mModelVariable\u001b[39m(\u001b[32m\"Number of steps\"\u001b[39m, \u001b[32m0\u001b[39m, \u001b[32m\"\"\u001b[39m, true, \u001b[32m0\u001b[39m, ReturnDefaultValue) -> \u001b[33mTimeStepVector\u001b[39m(\n",
       "            \u001b[33mArraySeq\u001b[39m(\u001b[32m3\u001b[39m),\n",
       "            DenseVector(TODO, TODO, TODO, TODO, TODO, TODO, TODO, TODO, TODO, TODO)\n",
       "          ),\n",
       "          \u001b[33mModelVariable\u001b[39m(\u001b[32m\"Sum\"\u001b[39m, \u001b[32m1.0\u001b[39m, \u001b[32m\"\"\u001b[39m, false, \u001b[32m2\u001b[39m, ReturnDefaultValue) -> \u001b[33mTimeStepVector\u001b[39m(\n",
       "            \u001b[33mArraySeq\u001b[39m(\u001b[32m3\u001b[39m),\n",
       "            DenseVector(TODO, TODO, TODO, TODO, TODO, TODO, TODO, TODO, TODO, TODO)\n",
       "          ),\n",
       "          \u001b[33mModelVariable\u001b[39m(\u001b[32m\"Sum2\"\u001b[39m, \u001b[32m10.0\u001b[39m, \u001b[32m\"\"\u001b[39m, false, \u001b[32m2\u001b[39m, ReturnDefaultValue) -> \u001b[33mTimeStepVector\u001b[39m(\n",
       "            \u001b[33mArraySeq\u001b[39m(\u001b[32m3\u001b[39m),\n",
       "            DenseVector(TODO, TODO, TODO, TODO, TODO, TODO, TODO, TODO, TODO, TODO)\n",
       "          ),\n",
       "          \u001b[33mModelVariable\u001b[39m(\u001b[32m\"Interest Rate\"\u001b[39m, \u001b[32m0.1\u001b[39m, \u001b[32m\"\"\u001b[39m, false, \u001b[32m2\u001b[39m, ReturnDefaultValue) -> \u001b[33mTimeStepVector\u001b[39m(\n",
       "            \u001b[33mArraySeq\u001b[39m(\u001b[32m3\u001b[39m),\n",
       "            DenseVector(TODO, TODO, TODO, TODO, TODO, TODO, TODO, TODO, TODO, TO..."
      ]
     },
     "execution_count": 6,
     "metadata": {},
     "output_type": "execute_result"
    }
   ],
   "source": [
    "val runnedModel = model.run"
   ]
  },
  {
   "cell_type": "code",
   "execution_count": 7,
   "metadata": {},
   "outputs": [
    {
     "data": {
      "text/plain": [
       "\u001b[36mres6\u001b[39m: \u001b[32mList\u001b[39m[\u001b[32mSingleModelResults\u001b[39m] = \u001b[33mList\u001b[39m(\n",
       "  \u001b[33mSingleModelResults\u001b[39m(\n",
       "    \u001b[32m1\u001b[39m,\n",
       "    \u001b[32m10\u001b[39m,\n",
       "    \u001b[33mUniversalGrid\u001b[39m(\n",
       "      \u001b[33mArraySeq\u001b[39m(\u001b[32m3\u001b[39m),\n",
       "      \u001b[32m10\u001b[39m,\n",
       "      \u001b[33mMap\u001b[39m(\n",
       "        \u001b[33mModelVariable\u001b[39m(\u001b[32m\"Number of steps\"\u001b[39m, \u001b[32m0\u001b[39m, \u001b[32m\"\"\u001b[39m, true, \u001b[32m0\u001b[39m, ReturnDefaultValue) -> \u001b[32m0\u001b[39m,\n",
       "        \u001b[33mModelVariable\u001b[39m(\u001b[32m\"Sum\"\u001b[39m, \u001b[32m1.0\u001b[39m, \u001b[32m\"\"\u001b[39m, false, \u001b[32m2\u001b[39m, ReturnDefaultValue) -> \u001b[32m1\u001b[39m,\n",
       "        \u001b[33mModelVariable\u001b[39m(\u001b[32m\"Sum2\"\u001b[39m, \u001b[32m10.0\u001b[39m, \u001b[32m\"\"\u001b[39m, false, \u001b[32m2\u001b[39m, ReturnDefaultValue) -> \u001b[32m2\u001b[39m,\n",
       "        \u001b[33mModelVariable\u001b[39m(\u001b[32m\"Interest Rate\"\u001b[39m, \u001b[32m0.1\u001b[39m, \u001b[32m\"\"\u001b[39m, false, \u001b[32m2\u001b[39m, ReturnDefaultValue) -> \u001b[32m3\u001b[39m\n",
       "      ),\n",
       "      \u001b[33mMap\u001b[39m(\n",
       "        \u001b[33mModelVariable\u001b[39m(\u001b[32m\"Number of steps\"\u001b[39m, \u001b[32m0\u001b[39m, \u001b[32m\"\"\u001b[39m, true, \u001b[32m0\u001b[39m, ReturnDefaultValue) -> \u001b[33mTimeStepVector\u001b[39m(\n",
       "          \u001b[33mArraySeq\u001b[39m(\u001b[32m3\u001b[39m),\n",
       "          DenseVector(TODO, TODO, TODO, TODO, TODO, TODO, TODO, TODO, TODO, TODO)\n",
       "        ),\n",
       "        \u001b[33mModelVariable\u001b[39m(\u001b[32m\"Sum\"\u001b[39m, \u001b[32m1.0\u001b[39m, \u001b[32m\"\"\u001b[39m, false, \u001b[32m2\u001b[39m, ReturnDefaultValue) -> \u001b[33mTimeStepVector\u001b[39m(\n",
       "          \u001b[33mArraySeq\u001b[39m(\u001b[32m3\u001b[39m),\n",
       "          DenseVector(TODO, TODO, TODO, TODO, TODO, TODO, TODO, TODO, TODO, TODO)\n",
       "        ),\n",
       "        \u001b[33mModelVariable\u001b[39m(\u001b[32m\"Sum2\"\u001b[39m, \u001b[32m10.0\u001b[39m, \u001b[32m\"\"\u001b[39m, false, \u001b[32m2\u001b[39m, ReturnDefaultValue) -> \u001b[33mTimeStepVector\u001b[39m(\n",
       "          \u001b[33mArraySeq\u001b[39m(\u001b[32m3\u001b[39m),\n",
       "          DenseVector(TODO, TODO, TODO, TODO, TODO, TODO, TODO, TODO, TODO, TODO)\n",
       "        ),\n",
       "        \u001b[33mModelVariable\u001b[39m(\u001b[32m\"Interest Rate\"\u001b[39m, \u001b[32m0.1\u001b[39m, \u001b[32m\"\"\u001b[39m, false, \u001b[32m2\u001b[39m, ReturnDefaultValue) -> \u001b[33mTimeStepVector\u001b[39m(\n",
       "          \u001b[33mArraySeq\u001b[39m(\u001b[32m3\u001b[39m),\n",
       "          DenseVector(TODO, TODO, TODO, TODO, TODO, TODO, TODO, TODO, TODO, TODO)\n",
       "..."
      ]
     },
     "execution_count": 7,
     "metadata": {},
     "output_type": "execute_result"
    }
   ],
   "source": [
    "runnedModel.results//.map(r => r.getStepResult(9, sum))"
   ]
  },
  {
   "cell_type": "code",
   "execution_count": 20,
   "metadata": {},
   "outputs": [
    {
     "data": {
      "text/plain": [
       "\u001b[36ml\u001b[39m: \u001b[32mList\u001b[39m[\u001b[32mSingleModelResults\u001b[39m] = \u001b[33mList\u001b[39m(\n",
       "  \u001b[33mSingleModelResults\u001b[39m(\n",
       "    \u001b[32m1\u001b[39m,\n",
       "    \u001b[32m10\u001b[39m,\n",
       "    \u001b[33mUniversalGrid\u001b[39m(\n",
       "      \u001b[33mArraySeq\u001b[39m(\u001b[32m3\u001b[39m),\n",
       "      \u001b[32m10\u001b[39m,\n",
       "      \u001b[33mMap\u001b[39m(\n",
       "        \u001b[33mModelVariable\u001b[39m(\u001b[32m\"Number of steps\"\u001b[39m, \u001b[32m0\u001b[39m, \u001b[32m\"\"\u001b[39m, true, \u001b[32m0\u001b[39m, ReturnDefaultValue) -> \u001b[32m0\u001b[39m,\n",
       "        \u001b[33mModelVariable\u001b[39m(\u001b[32m\"Sum\"\u001b[39m, \u001b[32m1.0\u001b[39m, \u001b[32m\"\"\u001b[39m, false, \u001b[32m2\u001b[39m, ReturnDefaultValue) -> \u001b[32m1\u001b[39m,\n",
       "        \u001b[33mModelVariable\u001b[39m(\u001b[32m\"Sum2\"\u001b[39m, \u001b[32m10.0\u001b[39m, \u001b[32m\"\"\u001b[39m, false, \u001b[32m2\u001b[39m, ReturnDefaultValue) -> \u001b[32m2\u001b[39m,\n",
       "        \u001b[33mModelVariable\u001b[39m(\u001b[32m\"Interest Rate\"\u001b[39m, \u001b[32m0.1\u001b[39m, \u001b[32m\"\"\u001b[39m, false, \u001b[32m2\u001b[39m, ReturnDefaultValue) -> \u001b[32m3\u001b[39m\n",
       "      ),\n",
       "      \u001b[33mMap\u001b[39m(\n",
       "        \u001b[33mModelVariable\u001b[39m(\u001b[32m\"Number of steps\"\u001b[39m, \u001b[32m0\u001b[39m, \u001b[32m\"\"\u001b[39m, true, \u001b[32m0\u001b[39m, ReturnDefaultValue) -> \u001b[33mTimeStepVector\u001b[39m(\n",
       "          \u001b[33mArraySeq\u001b[39m(\u001b[32m3\u001b[39m),\n",
       "          DenseVector(TODO, TODO, TODO, TODO, TODO, TODO, TODO, TODO, TODO, TODO)\n",
       "        ),\n",
       "        \u001b[33mModelVariable\u001b[39m(\u001b[32m\"Sum\"\u001b[39m, \u001b[32m1.0\u001b[39m, \u001b[32m\"\"\u001b[39m, false, \u001b[32m2\u001b[39m, ReturnDefaultValue) -> \u001b[33mTimeStepVector\u001b[39m(\n",
       "          \u001b[33mArraySeq\u001b[39m(\u001b[32m3\u001b[39m),\n",
       "          DenseVector(TODO, TODO, TODO, TODO, TODO, TODO, TODO, TODO, TODO, TODO)\n",
       "        ),\n",
       "        \u001b[33mModelVariable\u001b[39m(\u001b[32m\"Sum2\"\u001b[39m, \u001b[32m10.0\u001b[39m, \u001b[32m\"\"\u001b[39m, false, \u001b[32m2\u001b[39m, ReturnDefaultValue) -> \u001b[33mTimeStepVector\u001b[39m(\n",
       "          \u001b[33mArraySeq\u001b[39m(\u001b[32m3\u001b[39m),\n",
       "          DenseVector(TODO, TODO, TODO, TODO, TODO, TODO, TODO, TODO, TODO, TODO)\n",
       "        ),\n",
       "        \u001b[33mModelVariable\u001b[39m(\u001b[32m\"Interest Rate\"\u001b[39m, \u001b[32m0.1\u001b[39m, \u001b[32m\"\"\u001b[39m, false, \u001b[32m2\u001b[39m, ReturnDefaultValue) -> \u001b[33mTimeStepVector\u001b[39m(\n",
       "          \u001b[33mArraySeq\u001b[39m(\u001b[32m3\u001b[39m),\n",
       "          DenseVector(TODO, TODO, TODO, TODO, TODO, TODO, TODO, TODO, TODO, TODO)\n",
       "..."
      ]
     },
     "execution_count": 20,
     "metadata": {},
     "output_type": "execute_result"
    }
   ],
   "source": [
    "val l = List(runnedModel.results(0), runnedModel.results(0))"
   ]
  },
  {
   "cell_type": "code",
   "execution_count": 64,
   "metadata": {
    "scrolled": true
   },
   "outputs": [
    {
     "data": {
      "text/plain": [
       "defined \u001b[32mfunction\u001b[39m \u001b[36mcreateSeries\u001b[39m"
      ]
     },
     "execution_count": 64,
     "metadata": {},
     "output_type": "execute_result"
    }
   ],
   "source": [
    "def createSeries[T](results: List[SingleModelResults], variable: ModelVariable[T], coordinate: Seq[Int], n: Int) = {\n",
    "    results.map(r => {\n",
    "        for {\n",
    "            i <- 0 until n\n",
    "        } yield (i, r.getStepResult(i, variable).getValueAtCell(coordinate))\n",
    "    })\n",
    "}"
   ]
  },
  {
   "cell_type": "code",
   "execution_count": 69,
   "metadata": {
    "scrolled": true
   },
   "outputs": [
    {
     "data": {
      "text/plain": [
       "\u001b[36mx\u001b[39m: \u001b[32mList\u001b[39m[\u001b[32mIndexedSeq\u001b[39m[(\u001b[32mInt\u001b[39m, \u001b[32mAny\u001b[39m)]] = \u001b[33mList\u001b[39m(\n",
       "  \u001b[33mVector\u001b[39m(\n",
       "    (\u001b[32m0\u001b[39m, \u001b[32m1.1\u001b[39m),\n",
       "    (\u001b[32m1\u001b[39m, \u001b[32m1.2100000000000002\u001b[39m),\n",
       "    (\u001b[32m2\u001b[39m, \u001b[32m1.3310000000000002\u001b[39m),\n",
       "    (\u001b[32m3\u001b[39m, \u001b[32m1.4641000000000002\u001b[39m),\n",
       "    (\u001b[32m4\u001b[39m, \u001b[32m1.61051\u001b[39m),\n",
       "    (\u001b[32m5\u001b[39m, \u001b[32m1.7715610000000002\u001b[39m),\n",
       "    (\u001b[32m6\u001b[39m, \u001b[32m1.9487171\u001b[39m),\n",
       "    (\u001b[32m7\u001b[39m, \u001b[32m2.1435888100000002\u001b[39m),\n",
       "    (\u001b[32m8\u001b[39m, \u001b[32m2.357947691\u001b[39m),\n",
       "    (\u001b[32m9\u001b[39m, \u001b[32m2.5937424601\u001b[39m)\n",
       "  ),\n",
       "  \u001b[33mVector\u001b[39m(\n",
       "    (\u001b[32m0\u001b[39m, \u001b[32m1.1\u001b[39m),\n",
       "    (\u001b[32m1\u001b[39m, \u001b[32m1.2100000000000002\u001b[39m),\n",
       "    (\u001b[32m2\u001b[39m, \u001b[32m1.3310000000000002\u001b[39m),\n",
       "    (\u001b[32m3\u001b[39m, \u001b[32m1.4641000000000002\u001b[39m),\n",
       "    (\u001b[32m4\u001b[39m, \u001b[32m1.61051\u001b[39m),\n",
       "    (\u001b[32m5\u001b[39m, \u001b[32m1.7715610000000002\u001b[39m),\n",
       "    (\u001b[32m6\u001b[39m, \u001b[32m1.9487171\u001b[39m),\n",
       "    (\u001b[32m7\u001b[39m, \u001b[32m2.1435888100000002\u001b[39m),\n",
       "    (\u001b[32m8\u001b[39m, \u001b[32m2.357947691\u001b[39m),\n",
       "    (\u001b[32m9\u001b[39m, \u001b[32m2.5937424601\u001b[39m)\n",
       "  )\n",
       ")"
      ]
     },
     "execution_count": 69,
     "metadata": {},
     "output_type": "execute_result"
    }
   ],
   "source": [
    "val x = createSeries(l, sum, Seq(0), 10)"
   ]
  },
  {
   "cell_type": "code",
   "execution_count": 67,
   "metadata": {},
   "outputs": [
    {
     "data": {
      "text/plain": [
       "\u001b[32mimport \u001b[39m\u001b[36mscala.collection.JavaConverters._\u001b[39m"
      ]
     },
     "execution_count": 67,
     "metadata": {},
     "output_type": "execute_result"
    }
   ],
   "source": [
    "import scala.collection.JavaConverters._"
   ]
  },
  {
   "cell_type": "code",
   "execution_count": 70,
   "metadata": {},
   "outputs": [
    {
     "data": {
      "text/plain": [
       "\u001b[36mres69\u001b[39m: \u001b[32mjava\u001b[39m.\u001b[32mutil\u001b[39m.\u001b[32mCollection\u001b[39m[(\u001b[32mInt\u001b[39m, \u001b[32mAny\u001b[39m)] = \u001b[33mIterableWrapper\u001b[39m(\n",
       "  \u001b[33mVector\u001b[39m(\n",
       "    (\u001b[32m0\u001b[39m, \u001b[32m1.1\u001b[39m),\n",
       "    (\u001b[32m1\u001b[39m, \u001b[32m1.2100000000000002\u001b[39m),\n",
       "    (\u001b[32m2\u001b[39m, \u001b[32m1.3310000000000002\u001b[39m),\n",
       "    (\u001b[32m3\u001b[39m, \u001b[32m1.4641000000000002\u001b[39m),\n",
       "    (\u001b[32m4\u001b[39m, \u001b[32m1.61051\u001b[39m),\n",
       "    (\u001b[32m5\u001b[39m, \u001b[32m1.7715610000000002\u001b[39m),\n",
       "    (\u001b[32m6\u001b[39m, \u001b[32m1.9487171\u001b[39m),\n",
       "    (\u001b[32m7\u001b[39m, \u001b[32m2.1435888100000002\u001b[39m),\n",
       "    (\u001b[32m8\u001b[39m, \u001b[32m2.357947691\u001b[39m),\n",
       "    (\u001b[32m9\u001b[39m, \u001b[32m2.5937424601\u001b[39m)\n",
       "  )\n",
       ")"
      ]
     },
     "execution_count": 70,
     "metadata": {},
     "output_type": "execute_result"
    }
   ],
   "source": [
    "x(0).asJavaCollection"
   ]
  },
  {
   "cell_type": "code",
   "execution_count": 71,
   "metadata": {},
   "outputs": [
    {
     "data": {
      "text/plain": [
       "defined \u001b[32mfunction\u001b[39m \u001b[36mgetSeriesSingleModel\u001b[39m"
      ]
     },
     "execution_count": 71,
     "metadata": {},
     "output_type": "execute_result"
    }
   ],
   "source": [
    "  // this method extracts the required variable value at a given coordinate, until n steps\n",
    "  def getSeriesSingleModel[T](results: SingleModelResults, variable: ModelVariable[T], coordinate: Seq[Int], n: Int): IndexedSeq[(Any, Any)] = {\n",
    "    \n",
    "    val trajectory = for {\n",
    "      i <- 0 until n\n",
    "    } yield (i, results.getStepResult(i, variable).getValueAtCell(coordinate))\n",
    "    \n",
    "    trajectory\n",
    "  }"
   ]
  },
  {
   "cell_type": "code",
   "execution_count": 73,
   "metadata": {},
   "outputs": [
    {
     "data": {
      "text/plain": [
       "\u001b[36mres72\u001b[39m: \u001b[32mjava\u001b[39m.\u001b[32mutil\u001b[39m.\u001b[32mCollection\u001b[39m[(\u001b[32mAny\u001b[39m, \u001b[32mAny\u001b[39m)] = \u001b[33mIterableWrapper\u001b[39m(\n",
       "  \u001b[33mVector\u001b[39m(\n",
       "    (\u001b[32m0\u001b[39m, \u001b[32m1.1\u001b[39m),\n",
       "    (\u001b[32m1\u001b[39m, \u001b[32m1.2100000000000002\u001b[39m),\n",
       "    (\u001b[32m2\u001b[39m, \u001b[32m1.3310000000000002\u001b[39m),\n",
       "    (\u001b[32m3\u001b[39m, \u001b[32m1.4641000000000002\u001b[39m),\n",
       "    (\u001b[32m4\u001b[39m, \u001b[32m1.61051\u001b[39m),\n",
       "    (\u001b[32m5\u001b[39m, \u001b[32m1.7715610000000002\u001b[39m),\n",
       "    (\u001b[32m6\u001b[39m, \u001b[32m1.9487171\u001b[39m),\n",
       "    (\u001b[32m7\u001b[39m, \u001b[32m2.1435888100000002\u001b[39m),\n",
       "    (\u001b[32m8\u001b[39m, \u001b[32m2.357947691\u001b[39m),\n",
       "    (\u001b[32m9\u001b[39m, \u001b[32m2.5937424601\u001b[39m)\n",
       "  )\n",
       ")"
      ]
     },
     "execution_count": 73,
     "metadata": {},
     "output_type": "execute_result"
    }
   ],
   "source": [
    "getSeriesSingleModel(l(0), sum, Seq(0), 10).asJavaCollection"
   ]
  },
  {
   "cell_type": "code",
   "execution_count": null,
   "metadata": {},
   "outputs": [],
   "source": []
  }
 ],
 "metadata": {
  "kernelspec": {
   "display_name": "Scala",
   "language": "scala",
   "name": "scala"
  },
  "language_info": {
   "codemirror_mode": "text/x-scala",
   "file_extension": ".scala",
   "mimetype": "text/x-scala",
   "name": "scala",
   "nbconvert_exporter": "script",
   "version": "2.13.2"
  }
 },
 "nbformat": 4,
 "nbformat_minor": 4
}
