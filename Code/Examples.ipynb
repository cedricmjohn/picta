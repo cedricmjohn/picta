{
 "cells": [
  {
   "cell_type": "code",
   "execution_count": 1,
   "metadata": {
    "scrolled": true
   },
   "outputs": [],
   "source": [
    "interp.repositories() ++= Seq(coursierapi.MavenRepository.of(\n",
    "\"https://jitpack.io\"\n",
    "))"
   ]
  },
  {
   "cell_type": "code",
   "execution_count": 2,
   "metadata": {},
   "outputs": [
    {
     "data": {
      "text/plain": [
       "\u001b[32mimport \u001b[39m\u001b[36m$ivy.$                                  \u001b[39m"
      ]
     },
     "execution_count": 2,
     "metadata": {},
     "output_type": "execute_result"
    }
   ],
   "source": [
    "import $ivy. `org.carbonateresearch::picta:0.1`"
   ]
  },
  {
   "cell_type": "code",
   "execution_count": 3,
   "metadata": {
    "scrolled": true
   },
   "outputs": [
    {
     "data": {
      "text/html": [
       "<style>#animationInterface {\n",
       "    margin-top: 50px;\n",
       "    margin-bottom: 50px;\n",
       "}\n",
       "\n",
       ".progressBar {\n",
       "    padding-top: 20px;\n",
       "    padding-bottom: 20px;\n",
       "}\n",
       "\n",
       ".inline-div {\n",
       "    display: block;\n",
       "    text-align: center;\n",
       "}\n",
       "\n",
       "h3 {\n",
       "    display: inline-block;\n",
       "    text-align: center;\n",
       "}</style>\n",
       "<script type='text/javascript'>/** vim: et:ts=4:sw=4:sts=4\n",
       " * @license RequireJS 2.3.6 Copyright jQuery Foundation and other contributors.\n",
       " * Released under MIT license, https://github.com/requirejs/requirejs/blob/master/LICENSE\n",
       " */\n",
       "var requirejs,require,define;!function(global,setTimeout){var req,s,head,baseElement,dataMain,src,interactiveScript,currentlyAddingScript,mainScript,subPath,version=\"2.3.6\",commentRegExp=/\\/\\*[\\s\\S]*?\\*\\/|([^:\"'=]|^)\\/\\/.*$/gm,cjsRequireRegExp=/[^.]\\s*require\\s*\\(\\s*[\"']([^'\"\\s]+)[\"']\\s*\\)/g,jsSuffixRegExp=/\\.js$/,currDirRegExp=/^\\.\\//,op=Object.prototype,ostring=op.toString,hasOwn=op.hasOwnProperty,isBrowser=!(\"undefined\"==typeof window||\"undefined\"==typeof navigator||!window.document),isWebWorker=!isBrowser&&\"undefined\"!=typeof importScripts,readyRegExp=isBrowser&&\"PLAYSTATION 3\"===navigator.platform?/^complete$/:/^(complete|loaded)$/,defContextName=\"_\",isOpera=\"undefined\"!=typeof opera&&\"[object Opera]\"===opera.toString(),contexts={},cfg={},globalDefQueue=[],useInteractive=!1;function commentReplace(e,t){return t||\"\"}function isFunction(e){return\"[object Function]\"===ostring.call(e)}function isArray(e){return\"[object Array]\"===ostring.call(e)}function each(e,t){var i;if(e)for(i=0;i<e.length&&(!e[i]||!t(e[i],i,e));i+=1);}function eachReverse(e,t){var i;if(e)for(i=e.length-1;-1<i&&(!e[i]||!t(e[i],i,e));i-=1);}function hasProp(e,t){return hasOwn.call(e,t)}function getOwn(e,t){return hasProp(e,t)&&e[t]}function eachProp(e,t){var i;for(i in e)if(hasProp(e,i)&&t(e[i],i))break}function mixin(i,e,r,n){return e&&eachProp(e,function(e,t){!r&&hasProp(i,t)||(!n||\"object\"!=typeof e||!e||isArray(e)||isFunction(e)||e instanceof RegExp?i[t]=e:(i[t]||(i[t]={}),mixin(i[t],e,r,n)))}),i}function bind(e,t){return function(){return t.apply(e,arguments)}}function scripts(){return document.getElementsByTagName(\"script\")}function defaultOnError(e){throw e}function getGlobal(e){if(!e)return e;var t=global;return each(e.split(\".\"),function(e){t=t[e]}),t}function makeError(e,t,i,r){var n=new Error(t+\"\\nhttps://requirejs.org/docs/errors.html#\"+e);return n.requireType=e,n.requireModules=r,i&&(n.originalError=i),n}if(void 0===define){if(void 0!==requirejs){if(isFunction(requirejs))return;cfg=requirejs,requirejs=void 0}void 0===require||isFunction(require)||(cfg=require,require=void 0),req=requirejs=function(e,t,i,r){var n,o,a=defContextName;return isArray(e)||\"string\"==typeof e||(o=e,isArray(t)?(e=t,t=i,i=r):e=[]),o&&o.context&&(a=o.context),(n=getOwn(contexts,a))||(n=contexts[a]=req.s.newContext(a)),o&&n.configure(o),n.require(e,t,i)},req.config=function(e){return req(e)},req.nextTick=void 0!==setTimeout?function(e){setTimeout(e,4)}:function(e){e()},require||(require=req),req.version=version,req.jsExtRegExp=/^\\/|:|\\?|\\.js$/,req.isBrowser=isBrowser,s=req.s={contexts:contexts,newContext:newContext},req({}),each([\"toUrl\",\"undef\",\"defined\",\"specified\"],function(t){req[t]=function(){var e=contexts[defContextName];return e.require[t].apply(e,arguments)}}),isBrowser&&(head=s.head=document.getElementsByTagName(\"head\")[0],baseElement=document.getElementsByTagName(\"base\")[0],baseElement&&(head=s.head=baseElement.parentNode)),req.onError=defaultOnError,req.createNode=function(e,t,i){var r=e.xhtml?document.createElementNS(\"http://www.w3.org/1999/xhtml\",\"html:script\"):document.createElement(\"script\");return r.type=e.scriptType||\"text/javascript\",r.charset=\"utf-8\",r.async=!0,r},req.load=function(t,i,r){var e,n=t&&t.config||{};if(isBrowser)return(e=req.createNode(n,i,r)).setAttribute(\"data-requirecontext\",t.contextName),e.setAttribute(\"data-requiremodule\",i),!e.attachEvent||e.attachEvent.toString&&e.attachEvent.toString().indexOf(\"[native code\")<0||isOpera?(e.addEventListener(\"load\",t.onScriptLoad,!1),e.addEventListener(\"error\",t.onScriptError,!1)):(useInteractive=!0,e.attachEvent(\"onreadystatechange\",t.onScriptLoad)),e.src=r,n.onNodeCreated&&n.onNodeCreated(e,n,i,r),currentlyAddingScript=e,baseElement?head.insertBefore(e,baseElement):head.appendChild(e),currentlyAddingScript=null,e;if(isWebWorker)try{setTimeout(function(){},0),importScripts(r),t.completeLoad(i)}catch(e){t.onError(makeError(\"importscripts\",\"importScripts failed for \"+i+\" at \"+r,e,[i]))}},isBrowser&&!cfg.skipDataMain&&eachReverse(scripts(),function(e){if(head||(head=e.parentNode),dataMain=e.getAttribute(\"data-main\"))return mainScript=dataMain,cfg.baseUrl||-1!==mainScript.indexOf(\"!\")||(mainScript=(src=mainScript.split(\"/\")).pop(),subPath=src.length?src.join(\"/\")+\"/\":\"./\",cfg.baseUrl=subPath),mainScript=mainScript.replace(jsSuffixRegExp,\"\"),req.jsExtRegExp.test(mainScript)&&(mainScript=dataMain),cfg.deps=cfg.deps?cfg.deps.concat(mainScript):[mainScript],!0}),define=function(e,i,t){var r,n;\"string\"!=typeof e&&(t=i,i=e,e=null),isArray(i)||(t=i,i=null),!i&&isFunction(t)&&(i=[],t.length&&(t.toString().replace(commentRegExp,commentReplace).replace(cjsRequireRegExp,function(e,t){i.push(t)}),i=(1===t.length?[\"require\"]:[\"require\",\"exports\",\"module\"]).concat(i))),useInteractive&&(r=currentlyAddingScript||getInteractiveScript())&&(e||(e=r.getAttribute(\"data-requiremodule\")),n=contexts[r.getAttribute(\"data-requirecontext\")]),n?(n.defQueue.push([e,i,t]),n.defQueueMap[e]=!0):globalDefQueue.push([e,i,t])},define.amd={jQuery:!0},req.exec=function(text){return eval(text)},req(cfg)}function newContext(u){var i,e,l,c,d,g={waitSeconds:7,baseUrl:\"./\",paths:{},bundles:{},pkgs:{},shim:{},config:{}},p={},f={},r={},h=[],m={},n={},v={},x=1,b=1;function q(e,t,i){var r,n,o,a,s,u,c,d,p,f,l=t&&t.split(\"/\"),h=g.map,m=h&&h[\"*\"];if(e&&(u=(e=e.split(\"/\")).length-1,g.nodeIdCompat&&jsSuffixRegExp.test(e[u])&&(e[u]=e[u].replace(jsSuffixRegExp,\"\")),\".\"===e[0].charAt(0)&&l&&(e=l.slice(0,l.length-1).concat(e)),function(e){var t,i;for(t=0;t<e.length;t++)if(\".\"===(i=e[t]))e.splice(t,1),t-=1;else if(\"..\"===i){if(0===t||1===t&&\"..\"===e[2]||\"..\"===e[t-1])continue;0<t&&(e.splice(t-1,2),t-=2)}}(e),e=e.join(\"/\")),i&&h&&(l||m)){e:for(o=(n=e.split(\"/\")).length;0<o;o-=1){if(s=n.slice(0,o).join(\"/\"),l)for(a=l.length;0<a;a-=1)if((r=getOwn(h,l.slice(0,a).join(\"/\")))&&(r=getOwn(r,s))){c=r,d=o;break e}!p&&m&&getOwn(m,s)&&(p=getOwn(m,s),f=o)}!c&&p&&(c=p,d=f),c&&(n.splice(0,d,c),e=n.join(\"/\"))}return getOwn(g.pkgs,e)||e}function E(t){isBrowser&&each(scripts(),function(e){if(e.getAttribute(\"data-requiremodule\")===t&&e.getAttribute(\"data-requirecontext\")===l.contextName)return e.parentNode.removeChild(e),!0})}function w(e){var t=getOwn(g.paths,e);if(t&&isArray(t)&&1<t.length)return t.shift(),l.require.undef(e),l.makeRequire(null,{skipMap:!0})([e]),!0}function y(e){var t,i=e?e.indexOf(\"!\"):-1;return-1<i&&(t=e.substring(0,i),e=e.substring(i+1,e.length)),[t,e]}function S(e,t,i,r){var n,o,a,s,u=null,c=t?t.name:null,d=e,p=!0,f=\"\";return e||(p=!1,e=\"_@r\"+(x+=1)),u=(s=y(e))[0],e=s[1],u&&(u=q(u,c,r),o=getOwn(m,u)),e&&(u?f=i?e:o&&o.normalize?o.normalize(e,function(e){return q(e,c,r)}):-1===e.indexOf(\"!\")?q(e,c,r):e:(u=(s=y(f=q(e,c,r)))[0],f=s[1],i=!0,n=l.nameToUrl(f))),{prefix:u,name:f,parentMap:t,unnormalized:!!(a=!u||o||i?\"\":\"_unnormalized\"+(b+=1)),url:n,originalName:d,isDefine:p,id:(u?u+\"!\"+f:f)+a}}function k(e){var t=e.id,i=getOwn(p,t);return i||(i=p[t]=new l.Module(e)),i}function M(e,t,i){var r=e.id,n=getOwn(p,r);!hasProp(m,r)||n&&!n.defineEmitComplete?(n=k(e)).error&&\"error\"===t?i(n.error):n.on(t,i):\"defined\"===t&&i(m[r])}function O(i,e){var t=i.requireModules,r=!1;e?e(i):(each(t,function(e){var t=getOwn(p,e);t&&(t.error=i,t.events.error&&(r=!0,t.emit(\"error\",i)))}),r||req.onError(i))}function j(){globalDefQueue.length&&(each(globalDefQueue,function(e){var t=e[0];\"string\"==typeof t&&(l.defQueueMap[t]=!0),h.push(e)}),globalDefQueue=[])}function P(e){delete p[e],delete f[e]}function R(){var e,r,t=1e3*g.waitSeconds,n=t&&l.startTime+t<(new Date).getTime(),o=[],a=[],s=!1,u=!0;if(!i){if(i=!0,eachProp(f,function(e){var t=e.map,i=t.id;if(e.enabled&&(t.isDefine||a.push(e),!e.error))if(!e.inited&&n)w(i)?s=r=!0:(o.push(i),E(i));else if(!e.inited&&e.fetched&&t.isDefine&&(s=!0,!t.prefix))return u=!1}),n&&o.length)return(e=makeError(\"timeout\",\"Load timeout for modules: \"+o,null,o)).contextName=l.contextName,O(e);u&&each(a,function(e){!function n(o,a,s){var e=o.map.id;o.error?o.emit(\"error\",o.error):(a[e]=!0,each(o.depMaps,function(e,t){var i=e.id,r=getOwn(p,i);!r||o.depMatched[t]||s[i]||(getOwn(a,i)?(o.defineDep(t,m[i]),o.check()):n(r,a,s))}),s[e]=!0)}(e,{},{})}),n&&!r||!s||!isBrowser&&!isWebWorker||d||(d=setTimeout(function(){d=0,R()},50)),i=!1}}function a(e){hasProp(m,e[0])||k(S(e[0],null,!0)).init(e[1],e[2])}function o(e,t,i,r){e.detachEvent&&!isOpera?r&&e.detachEvent(r,t):e.removeEventListener(i,t,!1)}function s(e){var t=e.currentTarget||e.srcElement;return o(t,l.onScriptLoad,\"load\",\"onreadystatechange\"),o(t,l.onScriptError,\"error\"),{node:t,id:t&&t.getAttribute(\"data-requiremodule\")}}function T(){var e;for(j();h.length;){if(null===(e=h.shift())[0])return O(makeError(\"mismatch\",\"Mismatched anonymous define() module: \"+e[e.length-1]));a(e)}l.defQueueMap={}}return c={require:function(e){return e.require?e.require:e.require=l.makeRequire(e.map)},exports:function(e){if(e.usingExports=!0,e.map.isDefine)return e.exports?m[e.map.id]=e.exports:e.exports=m[e.map.id]={}},module:function(e){return e.module?e.module:e.module={id:e.map.id,uri:e.map.url,config:function(){return getOwn(g.config,e.map.id)||{}},exports:e.exports||(e.exports={})}}},(e=function(e){this.events=getOwn(r,e.id)||{},this.map=e,this.shim=getOwn(g.shim,e.id),this.depExports=[],this.depMaps=[],this.depMatched=[],this.pluginMaps={},this.depCount=0}).prototype={init:function(e,t,i,r){r=r||{},this.inited||(this.factory=t,i?this.on(\"error\",i):this.events.error&&(i=bind(this,function(e){this.emit(\"error\",e)})),this.depMaps=e&&e.slice(0),this.errback=i,this.inited=!0,this.ignore=r.ignore,r.enabled||this.enabled?this.enable():this.check())},defineDep:function(e,t){this.depMatched[e]||(this.depMatched[e]=!0,this.depCount-=1,this.depExports[e]=t)},fetch:function(){if(!this.fetched){this.fetched=!0,l.startTime=(new Date).getTime();var e=this.map;if(!this.shim)return e.prefix?this.callPlugin():this.load();l.makeRequire(this.map,{enableBuildCallback:!0})(this.shim.deps||[],bind(this,function(){return e.prefix?this.callPlugin():this.load()}))}},load:function(){var e=this.map.url;n[e]||(n[e]=!0,l.load(this.map.id,e))},check:function(){if(this.enabled&&!this.enabling){var t,e,i=this.map.id,r=this.depExports,n=this.exports,o=this.factory;if(this.inited){if(this.error)this.emit(\"error\",this.error);else if(!this.defining){if(this.defining=!0,this.depCount<1&&!this.defined){if(isFunction(o)){if(this.events.error&&this.map.isDefine||req.onError!==defaultOnError)try{n=l.execCb(i,o,r,n)}catch(e){t=e}else n=l.execCb(i,o,r,n);if(this.map.isDefine&&void 0===n&&((e=this.module)?n=e.exports:this.usingExports&&(n=this.exports)),t)return t.requireMap=this.map,t.requireModules=this.map.isDefine?[this.map.id]:null,t.requireType=this.map.isDefine?\"define\":\"require\",O(this.error=t)}else n=o;if(this.exports=n,this.map.isDefine&&!this.ignore&&(m[i]=n,req.onResourceLoad)){var a=[];each(this.depMaps,function(e){a.push(e.normalizedMap||e)}),req.onResourceLoad(l,this.map,a)}P(i),this.defined=!0}this.defining=!1,this.defined&&!this.defineEmitted&&(this.defineEmitted=!0,this.emit(\"defined\",this.exports),this.defineEmitComplete=!0)}}else hasProp(l.defQueueMap,i)||this.fetch()}},callPlugin:function(){var u=this.map,c=u.id,e=S(u.prefix);this.depMaps.push(e),M(e,\"defined\",bind(this,function(e){var o,t,i,r=getOwn(v,this.map.id),n=this.map.name,a=this.map.parentMap?this.map.parentMap.name:null,s=l.makeRequire(u.parentMap,{enableBuildCallback:!0});return this.map.unnormalized?(e.normalize&&(n=e.normalize(n,function(e){return q(e,a,!0)})||\"\"),M(t=S(u.prefix+\"!\"+n,this.map.parentMap,!0),\"defined\",bind(this,function(e){this.map.normalizedMap=t,this.init([],function(){return e},null,{enabled:!0,ignore:!0})})),void((i=getOwn(p,t.id))&&(this.depMaps.push(t),this.events.error&&i.on(\"error\",bind(this,function(e){this.emit(\"error\",e)})),i.enable()))):r?(this.map.url=l.nameToUrl(r),void this.load()):((o=bind(this,function(e){this.init([],function(){return e},null,{enabled:!0})})).error=bind(this,function(e){this.inited=!0,(this.error=e).requireModules=[c],eachProp(p,function(e){0===e.map.id.indexOf(c+\"_unnormalized\")&&P(e.map.id)}),O(e)}),o.fromText=bind(this,function(e,t){var i=u.name,r=S(i),n=useInteractive;t&&(e=t),n&&(useInteractive=!1),k(r),hasProp(g.config,c)&&(g.config[i]=g.config[c]);try{req.exec(e)}catch(e){return O(makeError(\"fromtexteval\",\"fromText eval for \"+c+\" failed: \"+e,e,[c]))}n&&(useInteractive=!0),this.depMaps.push(r),l.completeLoad(i),s([i],o)}),void e.load(u.name,s,o,g))})),l.enable(e,this),this.pluginMaps[e.id]=e},enable:function(){(f[this.map.id]=this).enabled=!0,this.enabling=!0,each(this.depMaps,bind(this,function(e,t){var i,r,n;if(\"string\"==typeof e){if(e=S(e,this.map.isDefine?this.map:this.map.parentMap,!1,!this.skipMap),this.depMaps[t]=e,n=getOwn(c,e.id))return void(this.depExports[t]=n(this));this.depCount+=1,M(e,\"defined\",bind(this,function(e){this.undefed||(this.defineDep(t,e),this.check())})),this.errback?M(e,\"error\",bind(this,this.errback)):this.events.error&&M(e,\"error\",bind(this,function(e){this.emit(\"error\",e)}))}i=e.id,r=p[i],hasProp(c,i)||!r||r.enabled||l.enable(e,this)})),eachProp(this.pluginMaps,bind(this,function(e){var t=getOwn(p,e.id);t&&!t.enabled&&l.enable(e,this)})),this.enabling=!1,this.check()},on:function(e,t){var i=this.events[e];i||(i=this.events[e]=[]),i.push(t)},emit:function(e,t){each(this.events[e],function(e){e(t)}),\"error\"===e&&delete this.events[e]}},(l={config:g,contextName:u,registry:p,defined:m,urlFetched:n,defQueue:h,defQueueMap:{},Module:e,makeModuleMap:S,nextTick:req.nextTick,onError:O,configure:function(e){if(e.baseUrl&&\"/\"!==e.baseUrl.charAt(e.baseUrl.length-1)&&(e.baseUrl+=\"/\"),\"string\"==typeof e.urlArgs){var i=e.urlArgs;e.urlArgs=function(e,t){return(-1===t.indexOf(\"?\")?\"?\":\"&\")+i}}var r=g.shim,n={paths:!0,bundles:!0,config:!0,map:!0};eachProp(e,function(e,t){n[t]?(g[t]||(g[t]={}),mixin(g[t],e,!0,!0)):g[t]=e}),e.bundles&&eachProp(e.bundles,function(e,t){each(e,function(e){e!==t&&(v[e]=t)})}),e.shim&&(eachProp(e.shim,function(e,t){isArray(e)&&(e={deps:e}),!e.exports&&!e.init||e.exportsFn||(e.exportsFn=l.makeShimExports(e)),r[t]=e}),g.shim=r),e.packages&&each(e.packages,function(e){var t;t=(e=\"string\"==typeof e?{name:e}:e).name,e.location&&(g.paths[t]=e.location),g.pkgs[t]=e.name+\"/\"+(e.main||\"main\").replace(currDirRegExp,\"\").replace(jsSuffixRegExp,\"\")}),eachProp(p,function(e,t){e.inited||e.map.unnormalized||(e.map=S(t,null,!0))}),(e.deps||e.callback)&&l.require(e.deps||[],e.callback)},makeShimExports:function(t){return function(){var e;return t.init&&(e=t.init.apply(global,arguments)),e||t.exports&&getGlobal(t.exports)}},makeRequire:function(o,a){function s(e,t,i){var r,n;return a.enableBuildCallback&&t&&isFunction(t)&&(t.__requireJsBuild=!0),\"string\"==typeof e?isFunction(t)?O(makeError(\"requireargs\",\"Invalid require call\"),i):o&&hasProp(c,e)?c[e](p[o.id]):req.get?req.get(l,e,o,s):(r=S(e,o,!1,!0).id,hasProp(m,r)?m[r]:O(makeError(\"notloaded\",'Module name \"'+r+'\" has not been loaded yet for context: '+u+(o?\"\":\". Use require([])\")))):(T(),l.nextTick(function(){T(),(n=k(S(null,o))).skipMap=a.skipMap,n.init(e,t,i,{enabled:!0}),R()}),s)}return a=a||{},mixin(s,{isBrowser:isBrowser,toUrl:function(e){var t,i=e.lastIndexOf(\".\"),r=e.split(\"/\")[0];return-1!==i&&(!(\".\"===r||\"..\"===r)||1<i)&&(t=e.substring(i,e.length),e=e.substring(0,i)),l.nameToUrl(q(e,o&&o.id,!0),t,!0)},defined:function(e){return hasProp(m,S(e,o,!1,!0).id)},specified:function(e){return e=S(e,o,!1,!0).id,hasProp(m,e)||hasProp(p,e)}}),o||(s.undef=function(i){j();var e=S(i,o,!0),t=getOwn(p,i);t.undefed=!0,E(i),delete m[i],delete n[e.url],delete r[i],eachReverse(h,function(e,t){e[0]===i&&h.splice(t,1)}),delete l.defQueueMap[i],t&&(t.events.defined&&(r[i]=t.events),P(i))}),s},enable:function(e){getOwn(p,e.id)&&k(e).enable()},completeLoad:function(e){var t,i,r,n=getOwn(g.shim,e)||{},o=n.exports;for(j();h.length;){if(null===(i=h.shift())[0]){if(i[0]=e,t)break;t=!0}else i[0]===e&&(t=!0);a(i)}if(l.defQueueMap={},r=getOwn(p,e),!t&&!hasProp(m,e)&&r&&!r.inited){if(!(!g.enforceDefine||o&&getGlobal(o)))return w(e)?void 0:O(makeError(\"nodefine\",\"No define call for \"+e,null,[e]));a([e,n.deps||[],n.exportsFn])}R()},nameToUrl:function(e,t,i){var r,n,o,a,s,u,c=getOwn(g.pkgs,e);if(c&&(e=c),u=getOwn(v,e))return l.nameToUrl(u,t,i);if(req.jsExtRegExp.test(e))a=e+(t||\"\");else{for(r=g.paths,o=(n=e.split(\"/\")).length;0<o;o-=1)if(s=getOwn(r,n.slice(0,o).join(\"/\"))){isArray(s)&&(s=s[0]),n.splice(0,o,s);break}a=n.join(\"/\"),a=(\"/\"===(a+=t||(/^data\\:|^blob\\:|\\?/.test(a)||i?\"\":\".js\")).charAt(0)||a.match(/^[\\w\\+\\.\\-]+:/)?\"\":g.baseUrl)+a}return g.urlArgs&&!/^blob\\:/.test(a)?a+g.urlArgs(e,a):a},load:function(e,t){req.load(l,e,t)},execCb:function(e,t,i,r){return t.apply(r,i)},onScriptLoad:function(e){if(\"load\"===e.type||readyRegExp.test((e.currentTarget||e.srcElement).readyState)){interactiveScript=null;var t=s(e);l.completeLoad(t.id)}},onScriptError:function(e){var i=s(e);if(!w(i.id)){var r=[];return eachProp(p,function(e,t){0!==t.indexOf(\"_@r\")&&each(e.depMaps,function(e){if(e.id===i.id)return r.push(t),!0})}),O(makeError(\"scripterror\",'Script error for \"'+i.id+(r.length?'\", needed by: '+r.join(\", \"):'\"'),e,[i.id]))}}}).require=l.makeRequire(),l}function getInteractiveScript(){return interactiveScript&&\"interactive\"===interactiveScript.readyState||eachReverse(scripts(),function(e){if(\"interactive\"===e.readyState)return interactiveScript=e}),interactiveScript}}(this,\"undefined\"==typeof setTimeout?void 0:setTimeout);</script>\n",
       "<script type='text/javascript'>\n",
       "require.config({\n",
       "paths: {'plotly': \"https://cdn.plot.ly/plotly-latest.min\"},\n",
       "})\n",
       "require( ['plotly'], function(Plotly) {\n",
       "window.Plotly = Plotly;\n",
       "})\n",
       "</script>\n"
      ]
     },
     "metadata": {},
     "output_type": "display_data"
    },
    {
     "data": {
      "text/plain": [
       "\u001b[32mimport \u001b[39m\u001b[36mpicta.charts.Html.init_notebook_mode // required to initialize jupyter notebook mode\n",
       "\u001b[39m"
      ]
     },
     "execution_count": 3,
     "metadata": {},
     "output_type": "execute_result"
    }
   ],
   "source": [
    "import picta.charts.Html.init_notebook_mode // required to initialize jupyter notebook mode\n",
    "init_notebook_mode() // stops ugly output"
   ]
  },
  {
   "cell_type": "markdown",
   "metadata": {},
   "source": [
    "# 1. Basics\n",
    "\n",
    "The aim of the Picta library is to be a highly configurable and composable general purpose charting library. The following examples are aimed at highlighting the charting grammar for the library, which should make constructing charts easy and intuitive.\n",
    "\n",
    "The following examples demonstrate how colors and lines can be composed. These principles will then be generalized to creating charts. "
   ]
  },
  {
   "cell_type": "markdown",
   "metadata": {},
   "source": [
    "#### Colors\n",
    "\n",
    "Colors in the library are represented as one of two types:\n",
    "\n",
    "1. `List[String]` => this may either be a color word, such as \"red\", or RGB value, such as \"rgb(255, 255, 255, 1)\".\n",
    "2. `List[Double]`"
   ]
  },
  {
   "cell_type": "markdown",
   "metadata": {},
   "source": [
    "#### Lines\n",
    "\n",
    "Lines are perhaps the simplest chart component. The constructor takes in the following arguments:\n",
    "\n",
    "1. `width: Double`\n",
    "2. `color: List[Double] or List[String] or String`\n",
    "\n",
    "They may be composed as follows:"
   ]
  },
  {
   "cell_type": "code",
   "execution_count": 4,
   "metadata": {},
   "outputs": [
    {
     "name": "stdout",
     "output_type": "stream",
     "text": [
      "Line(0.5,Opt(Some(List(rgb(255, 255, 255, 1)))))\n"
     ]
    }
   ],
   "source": [
    "// import the line constructor\n",
    "import picta.options.Line \n",
    "\n",
    "// the default constructor for Line has a width of 0.5. Here we are just specifiying the color.\n",
    "val line = Line() setColor \"rgb(255, 255, 255, 1)\" \n",
    "\n",
    "// lines do not render on their own. Rather they contruct other elements that can be rendered.\n",
    "println(line)"
   ]
  },
  {
   "cell_type": "markdown",
   "metadata": {},
   "source": [
    "#### Markers\n",
    "\n",
    "Markers take in the following optional parameters:\n",
    "\n",
    "1. `symbol: String`\n",
    "2. `color: List[String] or List[Double]`\n",
    "3. `line: Line`\n",
    "\n",
    "Again, composition of a line follows a similar pattern. Here we create a `circle` marker, with the color `red` and a `line` of width 0.5:"
   ]
  },
  {
   "cell_type": "code",
   "execution_count": 5,
   "metadata": {},
   "outputs": [
    {
     "name": "stdout",
     "output_type": "stream",
     "text": [
      "Marker(Opt(Some(circle)),Opt(Some(List(red))),Opt(Some(Line(0.5,Opt(None)))))\n"
     ]
    }
   ],
   "source": [
    "import picta.options.Marker\n",
    "\n",
    "val marker = Marker() setSymbol \"circle\" setColor \"red\" setLine Line()\n",
    "\n",
    "// markers to do not render on their own like Lines, but can be used to create other elements as we will see below\n",
    "println(marker)"
   ]
  },
  {
   "cell_type": "markdown",
   "metadata": {},
   "source": [
    "### [TO BE CONTINUED.....]"
   ]
  },
  {
   "cell_type": "markdown",
   "metadata": {},
   "source": [
    "## Chart compositions\n",
    "\n",
    "Charts consist of 3 key components:\n",
    "\n",
    "1. `Series`\n",
    "2. `Layout`\n",
    "3. `Config`\n",
    "\n",
    "Generally, most of the compositions make use of `Sata` and `Layout` components, and use the default `Config`."
   ]
  },
  {
   "cell_type": "markdown",
   "metadata": {},
   "source": [
    "#### Scatter Charts and Line Charts"
   ]
  },
  {
   "cell_type": "code",
   "execution_count": 6,
   "metadata": {},
   "outputs": [],
   "source": [
    "// lets create some dummy data for x and y variables\n",
    "val x = List.range(1, 50)\n",
    "val y = x.map(x => x + scala.util.Random.nextDouble()*100)"
   ]
  },
  {
   "cell_type": "code",
   "execution_count": 7,
   "metadata": {},
   "outputs": [],
   "source": [
    "import picta.series.XY\n",
    "import picta.series.XYChart._\n",
    "import picta.series.Mode._\n",
    "import picta.common.OptionWrapper._\n",
    "\n",
    "// the two data series are then wrapped inside \n",
    "val data = XY(x, y, series_name=\"test\", series_type=SCATTER, series_mode=MARKERS)"
   ]
  },
  {
   "cell_type": "code",
   "execution_count": 8,
   "metadata": {},
   "outputs": [],
   "source": [
    "import picta.options.{Layout, Config}\n",
    "\n",
    "// The layout is a composable object which determines how the chart is displayed\n",
    "val layout = Layout(title=\"Chart\")\n",
    "// the configuration option allows us to set whether the chart is responsible and zoomable using scroll\n",
    "val config = Config(responsive=false, scrollZoom=true)"
   ]
  },
  {
   "cell_type": "markdown",
   "metadata": {},
   "source": [
    "Picta's grammar is implemented as DSL. Using the set commands, the various options for a chart may be specified:"
   ]
  },
  {
   "cell_type": "code",
   "execution_count": 9,
   "metadata": {},
   "outputs": [
    {
     "data": {
      "text/html": [
       "\n",
       "<div align=\"center\">\n",
       "<div id='graph_f0e42dfd1f7456' class='graph'></div>\n",
       "</div>\n",
       "<script>\n",
       " var traces_f0e42dfd1f7456 = [{\"name\":\"test\",\"type\":\"scatter\",\"mode\":\"markers\",\"x\":[1,2,3,4,5,6,7,8,9,10,11,12,13,14,15,16,17,18,19,20,21,22,23,24,25,26,27,28,29,30,31,32,33,34,35,36,37,38,39,40,41,42,43,44,45,46,47,48,49],\"y\":[72.93396866616013,7.398335196150539,88.08365469918373,28.30662534216642,21.289050279232498,53.77929618505809,76.98582324312001,14.527374946121,30.648140950551166,22.919078167252664,68.16212809666112,31.150951947209837,44.57713634534116,28.22456389529159,31.464121747805315,21.66713811875481,28.77117219410769,101.08087342508841,21.999838077274795,28.51102554226948,33.28295841532262,73.11928546313494,117.88840431442533,52.8809078572023,100.97962260809723,57.44880293939579,96.12092498468077,67.7144730573975,42.82437126444547,118.02676992583109,99.00868277238104,45.899075032652696,112.00505674223226,66.05099567604876,112.93802564118832,85.81143003541322,60.9825419923439,137.58784928550682,41.01459937381979,51.9266130477351,58.20749533016305,87.6078610622215,101.66782203247016,99.50574296414537,74.55509107508256,82.18234322254993,126.39982028165558,119.26629227564601,123.45279725374164]}];\n",
       " var layout_f0e42dfd1f7456 = {\"height\":550,\"width\":600,\"title\":{\"text\":\"Chart\"},\"showlegend\":false};\n",
       " var config_f0e42dfd1f7456 = {\"responsive\":false,\"scrollZoom\":true,\"displaylogo\":false};\n",
       " Plotly.newPlot(\"graph_f0e42dfd1f7456\", traces_f0e42dfd1f7456, layout_f0e42dfd1f7456, config_f0e42dfd1f7456);\n",
       "</script>\n"
      ]
     },
     "metadata": {},
     "output_type": "display_data"
    }
   ],
   "source": [
    "import picta.charts.Chart\n",
    "\n",
    "val chart = Chart() setData data setLayout layout setConfig config\n",
    "\n",
    "chart.plot_inline()"
   ]
  },
  {
   "cell_type": "markdown",
   "metadata": {},
   "source": [
    "#### Adding Additional Traces to a Chart\n",
    "\n",
    "We can compose an existing chart with more data series using the same composition technique as shown above for other components:"
   ]
  },
  {
   "cell_type": "code",
   "execution_count": 10,
   "metadata": {},
   "outputs": [
    {
     "data": {
      "text/html": [
       "\n",
       "<div align=\"center\">\n",
       "<div id='graph_a6aa41ca86fa74' class='graph'></div>\n",
       "</div>\n",
       "<script>\n",
       " var traces_a6aa41ca86fa74 = [{\"name\":\"data1\",\"type\":\"bar\",\"x\":[1,2,3,4,5,6,7,8,9,10,11,12,13,14,15,16,17,18,19,20,21,22,23,24,25,26,27,28,29,30,31,32,33,34,35,36,37,38,39,40,41,42,43,44,45,46,47,48,49],\"y\":[105.73557791597966,17.999655161818104,156.542140574082,28.533898296443724,61.896457755198604,100.49952780051906,89.90160135675188,102.89953122920916,66.43732068765543,57.97607964011307,118.57904989755917,38.39024652704309,141.0529673578364,124.29862355701599,106.55584431702732,28.748916531486074,64.93287098495964,198.42582233589093,69.6218468468405,47.93891858940181,112.320396791201,77.25133759179101,146.52239825723174,94.32180474090777,123.53323144375454,62.51888970346274,165.06855433582757,111.93479223140262,46.95108352139011,195.5725754700224,189.25184102262506,88.82531566341972,138.10961495745823,80.15365787535006,210.16261766972752,91.97025211670072,156.92229070982808,216.15027339165516,126.51891534472274,114.12770021531475,65.18471589946127,186.15194238269464,149.8704419511627,180.0395417227773,93.8988011025488,111.85591669905567,165.0502943566408,187.7233056895027,123.58693321008012]},{\"name\":\"test\",\"type\":\"scatter\",\"mode\":\"markers\",\"x\":[1,2,3,4,5,6,7,8,9,10,11,12,13,14,15,16,17,18,19,20,21,22,23,24,25,26,27,28,29,30,31,32,33,34,35,36,37,38,39,40,41,42,43,44,45,46,47,48,49],\"y\":[72.93396866616013,7.398335196150539,88.08365469918373,28.30662534216642,21.289050279232498,53.77929618505809,76.98582324312001,14.527374946121,30.648140950551166,22.919078167252664,68.16212809666112,31.150951947209837,44.57713634534116,28.22456389529159,31.464121747805315,21.66713811875481,28.77117219410769,101.08087342508841,21.999838077274795,28.51102554226948,33.28295841532262,73.11928546313494,117.88840431442533,52.8809078572023,100.97962260809723,57.44880293939579,96.12092498468077,67.7144730573975,42.82437126444547,118.02676992583109,99.00868277238104,45.899075032652696,112.00505674223226,66.05099567604876,112.93802564118832,85.81143003541322,60.9825419923439,137.58784928550682,41.01459937381979,51.9266130477351,58.20749533016305,87.6078610622215,101.66782203247016,99.50574296414537,74.55509107508256,82.18234322254993,126.39982028165558,119.26629227564601,123.45279725374164]}];\n",
       " var layout_a6aa41ca86fa74 = {\"height\":550,\"width\":600,\"title\":{\"text\":\"Chart\"},\"showlegend\":false};\n",
       " var config_a6aa41ca86fa74 = {\"responsive\":false,\"scrollZoom\":true,\"displaylogo\":false};\n",
       " Plotly.newPlot(\"graph_a6aa41ca86fa74\", traces_a6aa41ca86fa74, layout_a6aa41ca86fa74, config_a6aa41ca86fa74);\n",
       "</script>\n"
      ]
     },
     "metadata": {},
     "output_type": "display_data"
    }
   ],
   "source": [
    "// additional traces can simply be composed with an existing chart and added on\n",
    "val data1 = XY(x, y.map(x => x + scala.util.Random.nextDouble()*100), series_name=\"data1\", series_type=BAR)\n",
    "\n",
    "val chart1 = chart setData data1\n",
    "chart1.plot_inline()"
   ]
  },
  {
   "cell_type": "markdown",
   "metadata": {},
   "source": [
    "#### Pie Chart"
   ]
  },
  {
   "cell_type": "code",
   "execution_count": 11,
   "metadata": {},
   "outputs": [
    {
     "data": {
      "text/html": [
       "\n",
       "<div align=\"center\">\n",
       "<div id='graph_13fabac73fe958' class='graph'></div>\n",
       "</div>\n",
       "<script>\n",
       " var traces_13fabac73fe958 = [{\"name\":\"738aec1\",\"type\":\"pie\",\"values\":[19,26,55],\"labels\":[\"Residential\",\"Non-Residential\",\"Utility\"]}];\n",
       " var layout_13fabac73fe958 = {\"height\":550,\"width\":600,\"title\":{\"text\":\"Pie Chart\"},\"showlegend\":false};\n",
       " var config_13fabac73fe958 = {\"responsive\":false,\"scrollZoom\":true,\"displaylogo\":false};\n",
       " Plotly.newPlot(\"graph_13fabac73fe958\", traces_13fabac73fe958, layout_13fabac73fe958, config_13fabac73fe958);\n",
       "</script>\n"
      ]
     },
     "metadata": {},
     "output_type": "display_data"
    }
   ],
   "source": [
    "// pie charts can be composed in a similar way:\n",
    "val data = XY(List(19, 26, 55), List(\"Residential\", \"Non-Residential\", \"Utility\"), series_type=PIE)\n",
    "\n",
    "val layout = Layout(\"Pie Chart\")\n",
    "\n",
    "val chart = Chart() setData data setLayout layout setConfig config\n",
    "\n",
    "chart.plot_inline()"
   ]
  },
  {
   "cell_type": "markdown",
   "metadata": {},
   "source": [
    "#### Setting Axes\n",
    "\n",
    "For all charts, each axis can be composed invidiually. The following is an example for a `Histogram` chart:"
   ]
  },
  {
   "cell_type": "code",
   "execution_count": 12,
   "metadata": {},
   "outputs": [],
   "source": [
    "val x = List.range(1, 1000).map(_+scala.util.Random.nextDouble()*1000)\n",
    "\n",
    "val data = XY(x=x, series_type=HISTOGRAM)"
   ]
  },
  {
   "cell_type": "code",
   "execution_count": 13,
   "metadata": {},
   "outputs": [
    {
     "data": {
      "text/html": [
       "\n",
       "<div align=\"center\">\n",
       "<div id='graph_1c7289a7223259' class='graph'></div>\n",
       "</div>\n",
       "<script>\n",
       " var traces_1c7289a7223259 = [{\"name\":\"7b3a8ef\",\"type\":\"histogram\",\"x\":[461.1624079925706,168.03357974086174,250.0368654303884,478.21843590142856,216.2710812323406,916.185204076928,353.06488143298776,543.7671688860127,655.0245767434104,747.175985484404,757.7977068741627,611.5724309046848,714.2935283798196,765.5095877740398,199.04403910093848,188.4952705592646,144.68146679557557,77.99815314752954,1014.5398718180768,955.5844194805953,76.66195426367982,986.9652025419002,968.7670032845748,682.1297814004971,910.8935609025602,117.13133149185349,340.4788927930581,919.2999062320804,799.7109429597782,1026.6277400811305,211.34192209199762,666.8755622107078,429.1728388067416,802.7786494708358,163.60869065162927,109.91113072580168,159.68145272831475,249.73876290434822,271.49717919951263,81.72712001994338,838.0691721922097,537.7673329890306,353.9577346385176,125.45599118519998,755.1831211647809,602.8654884968032,945.7675649076367,898.4352113758036,290.37892507513214,160.69913207728786,339.4003806008335,192.06033243995742,757.9696580954078,930.1745891329915,351.87617655846475,1024.2826304952123,850.5573314618109,549.7301005087029,178.80468442781665,102.75493480309123,860.3083187646312,713.3508383122958,812.0932876623924,453.7003569005364,551.6156297834314,253.51108222164436,1018.2978574249876,164.89863367914154,157.22510923846994,254.69212395540646,801.3537417318717,1000.7551812817774,474.7843098708227,793.8199497171054,606.4305638551524,113.23830307763554,451.90642599869216,572.9119349960561,260.9136407836168,194.54018537158993,965.22381705668,534.4171946658716,794.0215328249056,195.63769162883375,722.5390126196653,531.1805956406592,828.3280111668064,169.49944044401258,347.06370409011623,260.6556551224285,194.46357299036868,888.5056431102633,738.8688088428919,966.9366594041966,784.5304625478585,632.7178010347653,751.0518958259622,864.3762254502601,430.2720971823587,948.9554442118879,1066.7607016010006,842.9992827095178,768.7961278285559,240.20753847360845,918.0947668010384,778.6200427828201,641.6578787240791,760.726420144281,949.0394925358706,689.5135191496252,562.3691605984167,964.2225939690719,1091.9698680231695,1056.6892121916658,182.90460264914032,180.89878321017895,800.8943970364645,856.2589295170176,491.5360853486671,283.63205427501657,364.4919807334255,240.0867059470625,682.3332390668062,344.4333839349995,308.1273967916285,344.85370946997955,250.92613548768495,279.38383084501106,1086.414355819102,409.86689554552635,891.6337795305352,133.56731772263663,366.5272169910513,240.38457347770037,197.81994144049008,967.0900337452815,207.3457644838569,1065.9281789040547,1000.346013479423,269.0968205652848,350.6500622829261,1011.9945745623667,418.24765171808974,448.7652372990509,657.9651368961323,728.7784237880352,341.2705934137695,230.5785185323079,450.2883089267997,201.95944865740253,1115.6581249107373,715.7485103348365,1137.8146006867933,408.3051592591621,662.5912686622568,462.4804273140055,1062.9084288111858,272.7841341087775,1122.939761400849,184.84120522364773,921.9526885665297,334.0811840562816,392.49011009666674,573.3139975132893,480.33940982965123,631.8503457111998,588.5751119385393,299.69104330152436,549.7482810647948,591.7371288147274,572.036329980139,484.7781921791901,357.99294083437303,1103.1469953671453,1137.7095860063582,779.4540512781033,509.0972250241819,559.9321551271296,382.1305565578049,737.9471977490117,704.8965586056463,365.6140183855771,1058.9163002586442,346.76571324209897,279.3424397211701,292.4541122844169,440.28536874147255,413.5326580355048,382.820958001119,1127.6315092670125,317.4378146451704,1017.0523787743255,346.1787881454654,239.98020804012924,293.023600319911,373.252099481104,352.78301290052065,1057.1849569597905,445.6861632051467,281.21420982275816,1051.8243374221593,956.0297452047583,779.6754649155683,779.3343106557284,1157.205299327727,737.2380736522647,611.7825455394433,763.7110570275515,393.7386675107375,681.6398239510373,1193.3559738663675,1099.1934261765768,376.0136311130253,1165.844372164226,416.91764636284563,1188.0822724790287,1135.1699937261917,953.2955690874837,414.9036908028371,1052.3023960700325,1044.9540774802585,570.5287699354383,1222.314165211044,731.932110366879,840.8120974923951,628.6459982479491,445.56225784631374,1206.2978664255866,274.410145907263,556.4704566309822,1056.572665265195,1103.4113276228104,700.8523614864187,974.5366506702252,1014.1856701432517,1179.346772382291,557.001920019246,858.0182512072228,404.18173477289486,921.2270606979848,256.69216435426677,711.8905171945571,1184.7489944316958,655.806795957516,502.2480668315186,1213.0698419202909,425.97423313007477,1230.211389411806,391.62092370613,1161.9682793964012,1139.945202881147,672.2112207265185,986.5721976274191,1129.8458743505726,412.3103841346564,1234.4804479465552,1199.724945714086,888.5392569232475,566.6499594629126,880.6100005864779,956.934563843075,565.5904075849658,519.7693618166113,580.2151570261113,596.3124668778948,480.4941529062311,319.03517165319573,746.29783538382,376.3706393000594,786.7289942030435,1092.1301835093254,770.0945656353256,783.1359494242683,369.430974164612,285.1127647464108,886.9608396704888,1049.7176819163,930.0152262060453,1116.423592819814,541.413524518799,931.6931574662965,826.7455215476501,632.4898864617501,1010.2727836325023,317.81031214623806,1034.1976805376753,614.8360228341722,289.91550845227675,697.8878146180871,534.7571938326048,859.1167234490027,1156.9724999070318,858.4269239869076,561.7378008618188,1023.2465995094875,871.3721381620544,431.3317501709086,376.40196990996395,324.8083832458155,1206.453249066827,1082.2675411178443,680.1105374874517,857.1790280972394,362.9404647547701,1192.5691184590619,338.02337972985737,1189.3217923243947,851.8957045434523,862.2448818574273,822.2186024808175,1215.9490319767701,616.3293514661439,941.5042632456382,669.7929785634706,932.7691904397116,501.97562543963454,584.3694317680772,1295.4518265790186,925.7889557758538,684.8062316578691,510.3146536720011,698.2913660214119,884.1490750596606,816.1774235167759,758.5102503400124,958.9227506165815,372.7306566423621,456.0753320020615,1224.1296514878595,935.7811675253041,433.77628784794246,830.7450131828981,677.3123329377282,1238.4097816169478,1326.0279602679286,1073.0589601574366,1282.756826678417,380.7030718286129,855.3921938376699,882.3010688106799,861.5520532732262,998.5390835133554,1302.8997980770287,974.6125211935253,1266.7368717781078,1153.9264689428585,913.7362503856948,786.1659664521501,1280.2117981627978,1041.7363910900287,1275.3756672608265,638.2052420467111,381.0082731938561,865.2854169867707,683.3602816241064,976.4077503465326,583.5551186657169,1253.4803417912372,770.0239563745016,1356.5971863080076,1299.463214510467,1354.9318026894985,1254.4667331471546,564.6543193314213,837.4836062191928,663.388074404885,661.3453518721087,630.544307658368,723.675788144697,704.0364762195022,1251.5519916820515,524.6989276846198,497.4567955161946,941.6647116199355,1209.611607527366,1009.5624446264051,1019.0838189572602,659.3698152883023,1340.636186042936,459.9305605852737,610.2562058829527,1100.447900147424,1143.9315568382972,462.7816548070275,541.9055326515087,866.2929536861325,1150.8607701832916,660.6201818640825,481.87499426610066,419.5784964131408,841.3254624774086,611.9222904047731,520.0724396232707,554.690913131833,1286.2347756548797,408.09419816438196,1299.8142347287169,866.3289514913511,902.588755870878,408.42369915027854,601.4594212214243,572.3788363411268,1353.3115036750573,732.826353250721,448.067305015808,528.6202076161487,675.726760157339,1086.7571089158641,432.6935604470425,910.5126570531661,1180.5765366599608,1083.4794636419497,503.07340253907614,831.2589207101321,527.7413527521892,475.95388555247416,881.822756204755,1115.535337864263,655.3283253353593,613.9278889304755,1148.921588385124,554.7257095082913,915.5509596023287,1001.3802677885357,768.1255811777744,1232.1901978732076,853.8329241866627,1045.292393833866,500.0865977637775,926.0460296499549,556.8250683252576,958.7899698786537,1212.343236175714,1172.1320810074794,1390.5336470721427,1310.0183921980015,569.9775994338422,1301.274797999783,1251.514600163372,892.6859719095419,970.6154559074224,652.6682074097166,1162.0974020253666,1435.0288947218291,873.5812393805231,1209.1260749980104,1154.8592906944896,1161.022463768012,1365.401002961122,1100.159510907817,912.078499422651,1370.983456096727,1402.4800842265956,775.2789079491802,552.653396877694,1018.2785234487436,676.6644335807198,1162.6138802649405,1291.9815062770108,724.6742719671755,1460.527911410268,796.8908293140952,1439.5509474307628,798.934503157237,1106.6101520001932,726.0026064216828,1344.5041569012549,601.5907884609712,1098.4629094577592,986.850075661319,1451.191712557234,1033.3826368304458,681.2451016487908,578.8311777552159,584.7419001522823,1015.6839821462576,1135.7401534271444,1157.297700967986,950.9294601966603,578.3028201787492,702.0513558581074,1119.4957777217228,1105.1348774323915,573.3615614049024,1007.864575313687,1361.9512385221262,1321.943130923728,1093.5351290258277,611.0497105146183,750.9565151482126,1379.938963813724,1388.745492948656,927.505623129852,1266.7605412238759,765.5130425621703,1447.4800345006797,1382.535787157888,857.2590768161782,695.0020166389386,1437.2228884007807,1097.6749551100938,1268.427715308102,1156.2423766595434,883.0577840007938,804.7696521104931,506.4354675247233,1378.6264051706967,804.3216025155207,965.2483851053523,1130.3217847363908,755.0061696474992,1026.2581523498804,1264.900273875358,1274.315624133175,1259.299345622665,536.9418387284276,753.1132542539979,1155.319919324545,830.4083514062736,1069.3115775837541,900.4062788719607,833.7808295411296,1026.0721821998377,1053.9748826419086,759.2226014563511,1165.1058564029568,1489.5283760551854,710.5133998778339,1230.3337689535615,1203.9902735216883,1417.3696690943107,1323.3403857988853,1160.8372704866147,805.4573714277419,1268.7386805918586,682.7319572795345,629.6130258553625,804.1120067408008,1414.0108336485653,1262.4732830960245,1312.2372890164415,947.0536881103278,1285.3742256293267,952.6321599014648,1259.7349181698135,706.089567823246,862.2225277864538,1069.291773640011,774.1838138461677,1201.3339756782193,1001.0352420950135,922.6456017125106,1319.0685454263287,730.9754776441034,1202.426778537373,1440.677262133811,563.4125231325177,820.9387104537254,897.3045946029501,1217.7183770973047,726.1010764326647,1283.362903057987,1229.583409832262,885.4981301806469,1360.4404875162923,1504.2644607675106,614.6610269242498,888.8682797193501,598.8813686092824,1068.4466469919912,1060.869083649815,589.2078695141862,663.9667080348479,873.663939448973,1355.369230880621,1115.5819622624285,1143.9483925291738,1086.2449384779752,736.4739719212273,1537.0493347839538,1130.1486581966824,646.8221734829539,601.1284138678785,739.0840102570465,818.0256833160242,1547.5129038786545,1129.297408437537,852.8962514015025,1585.0352043674534,770.8402699963418,1446.2603733894541,1208.5086054240987,875.76329759861,605.8793493453153,1089.3236651126567,1560.7630282711907,1448.4376979523608,1038.5579932425164,1097.2183589260949,772.0054411698527,666.8082965086218,1050.7378922238154,998.45919439558,1226.0143908907128,1557.5202170212428,956.6461921629407,1339.197930687429,994.8108115336013,1295.4851216611082,1355.4236765659155,1161.6125343389172,1183.3059815027832,628.3903708817111,885.000688074622,1020.6312073302978,936.3154840680183,1506.3670410669235,725.2071053433747,709.7981212596983,1308.2870469023421,843.97181661003,716.9685801063627,856.3456004308167,1568.1601959971763,909.0200244657876,1039.6355935538584,941.0453033571484,1540.0967107579738,1306.4397147805466,1619.9383320633592,1100.1684501468155,1265.390331978203,905.2002026776063,833.7547226620243,1274.893762970466,1611.6849287001678,1342.500444766729,1605.824874014555,887.7585033954242,1452.7009431864947,931.7861587019494,712.7401954456104,1246.2566631930536,694.9893175613036,899.7968888110106,950.9810301282398,1300.4459395550937,737.8034201813081,882.727391427847,844.4715321056328,1214.4326147675247,917.9992624937973,1522.720314663854,735.066409192753,1450.861803060439,1113.9447036001648,823.2900879250963,1424.5788843587757,713.0479205389611,960.7385008018705,1645.910441660709,1018.4050320948854,1141.138242425383,1063.6109784382404,1359.8815377286558,1258.4944224611436,1616.7102157424933,1187.1973850477011,1193.7244592669658,1427.3630785619896,894.4608546472496,1645.4464304873686,1278.734451747191,855.0391428902363,1550.154745335838,1020.2460019156804,723.9568288287307,1167.2778113735583,1410.754273756957,896.4186456123836,1316.7322435358665,1676.0767975034732,1215.664612719698,1516.5597740786252,1604.0906599112673,732.4691423046715,747.2823844243499,1131.2618637387811,1177.6568857417344,1436.7657546472265,1564.5462336060896,1348.5881329538029,958.3621268844886,832.8647117425531,774.9442025262778,971.2293329532945,1157.1402280984648,1600.940425979469,988.4410984094932,1650.5982546710698,1373.918977907656,1306.7703858228915,711.0469898509634,1184.1859085361393,989.6001886130857,1466.153240843339,956.2553376912143,1435.8245588996865,1604.3549223476389,1039.3165736405927,779.3375181864055,1668.072388195687,780.4432035103833,1482.908526283256,772.488126976634,1541.7554487660539,758.9002111754122,1156.112484448451,1298.0729680099735,1159.7724675539966,1136.8137440806015,1702.6195651135295,1382.740313717018,1310.5885205001493,1715.550680662885,1011.6387944536376,746.9125483902876,1501.4140083196398,860.1728596907923,1498.8200485700613,1402.1844740789186,1461.8855049760746,746.4157750904127,741.9106121574911,1613.41125626332,1546.1354659433505,813.9861602246923,956.1610692952167,792.777596068329,864.4581027292701,1593.5671407842492,1400.9415620257932,1069.896928749035,1035.3489233237694,829.8032195632115,1571.7252213637498,864.997753134811,1164.5160416710276,1483.6689106913263,950.5403613449631,781.5117309990214,1029.5310914488794,765.0091784488625,1163.1885880214127,1529.8858977075324,1477.1087351496983,819.6710706449353,1622.9713284495344,1396.1996132210472,1724.5732243514994,1075.5301036631222,1128.3623701086458,977.1741015555324,1597.8913852914852,1537.8469147699875,1426.009727789773,1517.420693106471,1735.721406121983,1516.772934014117,1450.6449581927213,1205.2814841828604,1442.247214744025,1368.456212149435,809.9235762893172,1210.373985547735,1181.1385373360993,836.0819649443969,1094.916000215063,1078.9590890956806,1668.7969772294523,1488.3148016278778,1765.9126898018253,1342.5096668398733,1147.1189943535007,1569.9922477707705,1688.4036178543993,840.3647926897938,1694.3266626203463,1303.5525274465826,875.5367952821887,1309.1121834945457,1366.9874751092734,1309.5619373223572,1631.0560179386716,1249.3499153776065,1557.165165343446,1350.8401059260755,1080.6635694376828,944.7353556076336,1195.7131166126837,1047.0643290672715,1029.9486595569322,1778.7381801187362,1336.0428392751148,1555.3667092306546,1193.467781274103,1671.2708072606483,1212.2702115110988,1467.321090502879,1102.2584392709925,1540.378904040127,1081.4621193375706,1333.8491023001525,1416.0131667120565,1183.4309558533723,1031.776854802359,1296.9577631761663,941.3358837147043,867.7550906616041,1466.611840765021,1280.8538880152912,1388.9479966216236,1222.4277661881176,1159.4424531728023,1074.863017757414,1790.406983343985,1730.9281519505435,1614.8560413679475,1426.7140170569267,1538.8456609767513,1238.628598060567,968.3557782215121,957.1326118738556,1218.4353213493446,1409.6002778988839,1810.8288852152596,1305.3205885343039,1743.7214912479144,993.9703904304854,1133.1445183997284,1419.779585280572,842.6763773631826,1100.0755346456376,1052.1666644259155,1320.0717013396459,1586.257151184992,1404.9132054534653,1101.5376309463818,972.491798537492,1492.4548611392952,1381.90149114909,1648.9083759286991,1146.25898742343,1714.2637659548232,1176.714889537049,1435.861813727143,1246.7179846913036,958.6964417467926,1719.9718519348182,1327.595896936974,1158.173534793605,1077.9151272359761,1029.8074053158207,1106.503331202717,1071.363844814245,1723.7451968424452,1427.8721864963654,1547.1052485465298,1119.212345523169,1063.2820473776435,1569.0568971826126,1069.36640267507,1399.3790514247664,1315.9977824852156,1768.2492552264362,983.239874345784,1623.266403270006,1791.699431193198,1096.6878580058997,1709.3593646855759,1198.5167874995836,1183.885998234275,1115.9856871793238,1389.1176097109767,1025.6718308695329,1104.4968181203565,919.6534373187924,981.9399870771218,1669.5467521573419,1233.7385319274306,1359.9610087313424,1288.382112213429,1852.005175251149,1002.6243432980928,952.232698193953,1334.7511471435794,1405.2032234705057,1426.053432221387,969.1804282626771,1208.2705107678817,923.0043672942647,1560.7045350161281,1664.6360211742367,1741.3779955095251,1353.1490275293063,1074.7124732703817,1399.0523982791706,1409.56797689377,1683.8962225115479,1585.0419939446788,1678.4003788947994,1429.2579746258039,1696.2369371591371,1743.6686839531344,1763.5965761642997,1320.4810427736684,1476.4120078234253,1535.121617469453,1559.3550315659595,1133.775009788337,1013.3498188018086,1885.638243277554,949.3629740118573,1131.4603918325067,1741.772320291086,1478.1269153506819,1608.939627722876,960.5689131908032,1334.1003878603774,1617.3280069225634,1596.8438963778526,1258.004745356114,1392.9222889819616,1096.009683528195,1704.6553274665575,1188.091432677302,950.6723306022174,1275.7299783051922,1625.1598959864036,1628.476861445335,1844.2987258145442,1014.6419638931426,1490.4307016342668,1592.4401123654984,1100.0836305683033,1650.0138773735875,1225.8006980276173,1003.9631133620851,1437.4100204896763,974.5820709384354,1467.6831954871836,1126.5013148499697,1880.1535968130606,1033.5491130635194,1501.20276266649,1787.207596508359,1250.5105320150458,1612.9853970416648,1787.8579178039768,1035.4334007929046,1012.4546479895813,1490.5874243777334,1173.9442948397934,1027.6524322602404,1530.6502495782768,1876.1915910280595,1797.2244620117604,1740.5216316787087,1315.530297450498,982.1373693658559,1042.3394231140394,1579.6150167322457,1236.3813039119982,1332.5192762526624,1634.7134382866975,1073.4359331006965,1001.660549841513,1245.5620834264053,1108.212423736716,1620.6339497492793,1429.4024967870496,1904.7994781661812,1433.5738032353368,1692.9225553652066,1160.4557445759347,1572.4311658336383,1552.6333018719558,1987.0144889590824,1503.422915687147,1792.1790840658964,1927.6321967023669,1765.9613275748632,1042.5604068445105,1879.158555495049,1985.3962543533412,1033.605122801414,1488.5262408854219,1600.7256465571113,1512.9355287780709]}];\n",
       " var layout_1c7289a7223259 = {\"height\":550,\"width\":600,\"title\":{\"text\":\"Histogram with axes\"},\"showlegend\":false,\"xaxis\":{\"title\":{\"text\":\"my x data\"},\"showgrid\":true,\"zeroline\":false,\"showline\":false},\"yaxis\":{\"title\":{\"text\":\"my y data\"},\"showgrid\":true,\"zeroline\":false,\"showline\":false}};\n",
       " var config_1c7289a7223259 = {\"responsive\":false,\"scrollZoom\":true,\"displaylogo\":false};\n",
       " Plotly.newPlot(\"graph_1c7289a7223259\", traces_1c7289a7223259, layout_1c7289a7223259, config_1c7289a7223259);\n",
       "</script>\n"
      ]
     },
     "metadata": {},
     "output_type": "display_data"
    }
   ],
   "source": [
    "import picta.options.Axis\n",
    "\n",
    "// axis can be set composed like any other chart component. We need to make \n",
    "val xaxis = Axis(position=\"x\", title = \"my x data\")\n",
    "val yaxis = Axis(position=\"y\", title = \"my y data\")\n",
    "\n",
    "// these are added to the layout object\n",
    "val layout = Layout(\"Histogram with axes\") setAxes(xaxis, yaxis)\n",
    "\n",
    "val chart = Chart() setData data setLayout layout setConfig config\n",
    "\n",
    "chart.plot_inline()"
   ]
  },
  {
   "cell_type": "markdown",
   "metadata": {},
   "source": [
    "#### Customizing colors for a Histogram\n",
    "\n",
    "We can use the `HistOptions` class to further specify options for a histogram. For example, if we wanted to create a horizontally positioned histogram, we can do the following:"
   ]
  },
  {
   "cell_type": "code",
   "execution_count": 14,
   "metadata": {},
   "outputs": [
    {
     "data": {
      "text/html": [
       "\n",
       "<div align=\"center\">\n",
       "<div id='graph_c5279adf4eacce' class='graph'></div>\n",
       "</div>\n",
       "<script>\n",
       " var traces_c5279adf4eacce = [{\"name\":\"656183f\",\"type\":\"histogram\",\"marker\":{\"color\":\"rgba(255, 100, 102, 0.4)\",\"line\":{\"width\":0.5}},\"y\":[461.1624079925706,168.03357974086174,250.0368654303884,478.21843590142856,216.2710812323406,916.185204076928,353.06488143298776,543.7671688860127,655.0245767434104,747.175985484404,757.7977068741627,611.5724309046848,714.2935283798196,765.5095877740398,199.04403910093848,188.4952705592646,144.68146679557557,77.99815314752954,1014.5398718180768,955.5844194805953,76.66195426367982,986.9652025419002,968.7670032845748,682.1297814004971,910.8935609025602,117.13133149185349,340.4788927930581,919.2999062320804,799.7109429597782,1026.6277400811305,211.34192209199762,666.8755622107078,429.1728388067416,802.7786494708358,163.60869065162927,109.91113072580168,159.68145272831475,249.73876290434822,271.49717919951263,81.72712001994338,838.0691721922097,537.7673329890306,353.9577346385176,125.45599118519998,755.1831211647809,602.8654884968032,945.7675649076367,898.4352113758036,290.37892507513214,160.69913207728786,339.4003806008335,192.06033243995742,757.9696580954078,930.1745891329915,351.87617655846475,1024.2826304952123,850.5573314618109,549.7301005087029,178.80468442781665,102.75493480309123,860.3083187646312,713.3508383122958,812.0932876623924,453.7003569005364,551.6156297834314,253.51108222164436,1018.2978574249876,164.89863367914154,157.22510923846994,254.69212395540646,801.3537417318717,1000.7551812817774,474.7843098708227,793.8199497171054,606.4305638551524,113.23830307763554,451.90642599869216,572.9119349960561,260.9136407836168,194.54018537158993,965.22381705668,534.4171946658716,794.0215328249056,195.63769162883375,722.5390126196653,531.1805956406592,828.3280111668064,169.49944044401258,347.06370409011623,260.6556551224285,194.46357299036868,888.5056431102633,738.8688088428919,966.9366594041966,784.5304625478585,632.7178010347653,751.0518958259622,864.3762254502601,430.2720971823587,948.9554442118879,1066.7607016010006,842.9992827095178,768.7961278285559,240.20753847360845,918.0947668010384,778.6200427828201,641.6578787240791,760.726420144281,949.0394925358706,689.5135191496252,562.3691605984167,964.2225939690719,1091.9698680231695,1056.6892121916658,182.90460264914032,180.89878321017895,800.8943970364645,856.2589295170176,491.5360853486671,283.63205427501657,364.4919807334255,240.0867059470625,682.3332390668062,344.4333839349995,308.1273967916285,344.85370946997955,250.92613548768495,279.38383084501106,1086.414355819102,409.86689554552635,891.6337795305352,133.56731772263663,366.5272169910513,240.38457347770037,197.81994144049008,967.0900337452815,207.3457644838569,1065.9281789040547,1000.346013479423,269.0968205652848,350.6500622829261,1011.9945745623667,418.24765171808974,448.7652372990509,657.9651368961323,728.7784237880352,341.2705934137695,230.5785185323079,450.2883089267997,201.95944865740253,1115.6581249107373,715.7485103348365,1137.8146006867933,408.3051592591621,662.5912686622568,462.4804273140055,1062.9084288111858,272.7841341087775,1122.939761400849,184.84120522364773,921.9526885665297,334.0811840562816,392.49011009666674,573.3139975132893,480.33940982965123,631.8503457111998,588.5751119385393,299.69104330152436,549.7482810647948,591.7371288147274,572.036329980139,484.7781921791901,357.99294083437303,1103.1469953671453,1137.7095860063582,779.4540512781033,509.0972250241819,559.9321551271296,382.1305565578049,737.9471977490117,704.8965586056463,365.6140183855771,1058.9163002586442,346.76571324209897,279.3424397211701,292.4541122844169,440.28536874147255,413.5326580355048,382.820958001119,1127.6315092670125,317.4378146451704,1017.0523787743255,346.1787881454654,239.98020804012924,293.023600319911,373.252099481104,352.78301290052065,1057.1849569597905,445.6861632051467,281.21420982275816,1051.8243374221593,956.0297452047583,779.6754649155683,779.3343106557284,1157.205299327727,737.2380736522647,611.7825455394433,763.7110570275515,393.7386675107375,681.6398239510373,1193.3559738663675,1099.1934261765768,376.0136311130253,1165.844372164226,416.91764636284563,1188.0822724790287,1135.1699937261917,953.2955690874837,414.9036908028371,1052.3023960700325,1044.9540774802585,570.5287699354383,1222.314165211044,731.932110366879,840.8120974923951,628.6459982479491,445.56225784631374,1206.2978664255866,274.410145907263,556.4704566309822,1056.572665265195,1103.4113276228104,700.8523614864187,974.5366506702252,1014.1856701432517,1179.346772382291,557.001920019246,858.0182512072228,404.18173477289486,921.2270606979848,256.69216435426677,711.8905171945571,1184.7489944316958,655.806795957516,502.2480668315186,1213.0698419202909,425.97423313007477,1230.211389411806,391.62092370613,1161.9682793964012,1139.945202881147,672.2112207265185,986.5721976274191,1129.8458743505726,412.3103841346564,1234.4804479465552,1199.724945714086,888.5392569232475,566.6499594629126,880.6100005864779,956.934563843075,565.5904075849658,519.7693618166113,580.2151570261113,596.3124668778948,480.4941529062311,319.03517165319573,746.29783538382,376.3706393000594,786.7289942030435,1092.1301835093254,770.0945656353256,783.1359494242683,369.430974164612,285.1127647464108,886.9608396704888,1049.7176819163,930.0152262060453,1116.423592819814,541.413524518799,931.6931574662965,826.7455215476501,632.4898864617501,1010.2727836325023,317.81031214623806,1034.1976805376753,614.8360228341722,289.91550845227675,697.8878146180871,534.7571938326048,859.1167234490027,1156.9724999070318,858.4269239869076,561.7378008618188,1023.2465995094875,871.3721381620544,431.3317501709086,376.40196990996395,324.8083832458155,1206.453249066827,1082.2675411178443,680.1105374874517,857.1790280972394,362.9404647547701,1192.5691184590619,338.02337972985737,1189.3217923243947,851.8957045434523,862.2448818574273,822.2186024808175,1215.9490319767701,616.3293514661439,941.5042632456382,669.7929785634706,932.7691904397116,501.97562543963454,584.3694317680772,1295.4518265790186,925.7889557758538,684.8062316578691,510.3146536720011,698.2913660214119,884.1490750596606,816.1774235167759,758.5102503400124,958.9227506165815,372.7306566423621,456.0753320020615,1224.1296514878595,935.7811675253041,433.77628784794246,830.7450131828981,677.3123329377282,1238.4097816169478,1326.0279602679286,1073.0589601574366,1282.756826678417,380.7030718286129,855.3921938376699,882.3010688106799,861.5520532732262,998.5390835133554,1302.8997980770287,974.6125211935253,1266.7368717781078,1153.9264689428585,913.7362503856948,786.1659664521501,1280.2117981627978,1041.7363910900287,1275.3756672608265,638.2052420467111,381.0082731938561,865.2854169867707,683.3602816241064,976.4077503465326,583.5551186657169,1253.4803417912372,770.0239563745016,1356.5971863080076,1299.463214510467,1354.9318026894985,1254.4667331471546,564.6543193314213,837.4836062191928,663.388074404885,661.3453518721087,630.544307658368,723.675788144697,704.0364762195022,1251.5519916820515,524.6989276846198,497.4567955161946,941.6647116199355,1209.611607527366,1009.5624446264051,1019.0838189572602,659.3698152883023,1340.636186042936,459.9305605852737,610.2562058829527,1100.447900147424,1143.9315568382972,462.7816548070275,541.9055326515087,866.2929536861325,1150.8607701832916,660.6201818640825,481.87499426610066,419.5784964131408,841.3254624774086,611.9222904047731,520.0724396232707,554.690913131833,1286.2347756548797,408.09419816438196,1299.8142347287169,866.3289514913511,902.588755870878,408.42369915027854,601.4594212214243,572.3788363411268,1353.3115036750573,732.826353250721,448.067305015808,528.6202076161487,675.726760157339,1086.7571089158641,432.6935604470425,910.5126570531661,1180.5765366599608,1083.4794636419497,503.07340253907614,831.2589207101321,527.7413527521892,475.95388555247416,881.822756204755,1115.535337864263,655.3283253353593,613.9278889304755,1148.921588385124,554.7257095082913,915.5509596023287,1001.3802677885357,768.1255811777744,1232.1901978732076,853.8329241866627,1045.292393833866,500.0865977637775,926.0460296499549,556.8250683252576,958.7899698786537,1212.343236175714,1172.1320810074794,1390.5336470721427,1310.0183921980015,569.9775994338422,1301.274797999783,1251.514600163372,892.6859719095419,970.6154559074224,652.6682074097166,1162.0974020253666,1435.0288947218291,873.5812393805231,1209.1260749980104,1154.8592906944896,1161.022463768012,1365.401002961122,1100.159510907817,912.078499422651,1370.983456096727,1402.4800842265956,775.2789079491802,552.653396877694,1018.2785234487436,676.6644335807198,1162.6138802649405,1291.9815062770108,724.6742719671755,1460.527911410268,796.8908293140952,1439.5509474307628,798.934503157237,1106.6101520001932,726.0026064216828,1344.5041569012549,601.5907884609712,1098.4629094577592,986.850075661319,1451.191712557234,1033.3826368304458,681.2451016487908,578.8311777552159,584.7419001522823,1015.6839821462576,1135.7401534271444,1157.297700967986,950.9294601966603,578.3028201787492,702.0513558581074,1119.4957777217228,1105.1348774323915,573.3615614049024,1007.864575313687,1361.9512385221262,1321.943130923728,1093.5351290258277,611.0497105146183,750.9565151482126,1379.938963813724,1388.745492948656,927.505623129852,1266.7605412238759,765.5130425621703,1447.4800345006797,1382.535787157888,857.2590768161782,695.0020166389386,1437.2228884007807,1097.6749551100938,1268.427715308102,1156.2423766595434,883.0577840007938,804.7696521104931,506.4354675247233,1378.6264051706967,804.3216025155207,965.2483851053523,1130.3217847363908,755.0061696474992,1026.2581523498804,1264.900273875358,1274.315624133175,1259.299345622665,536.9418387284276,753.1132542539979,1155.319919324545,830.4083514062736,1069.3115775837541,900.4062788719607,833.7808295411296,1026.0721821998377,1053.9748826419086,759.2226014563511,1165.1058564029568,1489.5283760551854,710.5133998778339,1230.3337689535615,1203.9902735216883,1417.3696690943107,1323.3403857988853,1160.8372704866147,805.4573714277419,1268.7386805918586,682.7319572795345,629.6130258553625,804.1120067408008,1414.0108336485653,1262.4732830960245,1312.2372890164415,947.0536881103278,1285.3742256293267,952.6321599014648,1259.7349181698135,706.089567823246,862.2225277864538,1069.291773640011,774.1838138461677,1201.3339756782193,1001.0352420950135,922.6456017125106,1319.0685454263287,730.9754776441034,1202.426778537373,1440.677262133811,563.4125231325177,820.9387104537254,897.3045946029501,1217.7183770973047,726.1010764326647,1283.362903057987,1229.583409832262,885.4981301806469,1360.4404875162923,1504.2644607675106,614.6610269242498,888.8682797193501,598.8813686092824,1068.4466469919912,1060.869083649815,589.2078695141862,663.9667080348479,873.663939448973,1355.369230880621,1115.5819622624285,1143.9483925291738,1086.2449384779752,736.4739719212273,1537.0493347839538,1130.1486581966824,646.8221734829539,601.1284138678785,739.0840102570465,818.0256833160242,1547.5129038786545,1129.297408437537,852.8962514015025,1585.0352043674534,770.8402699963418,1446.2603733894541,1208.5086054240987,875.76329759861,605.8793493453153,1089.3236651126567,1560.7630282711907,1448.4376979523608,1038.5579932425164,1097.2183589260949,772.0054411698527,666.8082965086218,1050.7378922238154,998.45919439558,1226.0143908907128,1557.5202170212428,956.6461921629407,1339.197930687429,994.8108115336013,1295.4851216611082,1355.4236765659155,1161.6125343389172,1183.3059815027832,628.3903708817111,885.000688074622,1020.6312073302978,936.3154840680183,1506.3670410669235,725.2071053433747,709.7981212596983,1308.2870469023421,843.97181661003,716.9685801063627,856.3456004308167,1568.1601959971763,909.0200244657876,1039.6355935538584,941.0453033571484,1540.0967107579738,1306.4397147805466,1619.9383320633592,1100.1684501468155,1265.390331978203,905.2002026776063,833.7547226620243,1274.893762970466,1611.6849287001678,1342.500444766729,1605.824874014555,887.7585033954242,1452.7009431864947,931.7861587019494,712.7401954456104,1246.2566631930536,694.9893175613036,899.7968888110106,950.9810301282398,1300.4459395550937,737.8034201813081,882.727391427847,844.4715321056328,1214.4326147675247,917.9992624937973,1522.720314663854,735.066409192753,1450.861803060439,1113.9447036001648,823.2900879250963,1424.5788843587757,713.0479205389611,960.7385008018705,1645.910441660709,1018.4050320948854,1141.138242425383,1063.6109784382404,1359.8815377286558,1258.4944224611436,1616.7102157424933,1187.1973850477011,1193.7244592669658,1427.3630785619896,894.4608546472496,1645.4464304873686,1278.734451747191,855.0391428902363,1550.154745335838,1020.2460019156804,723.9568288287307,1167.2778113735583,1410.754273756957,896.4186456123836,1316.7322435358665,1676.0767975034732,1215.664612719698,1516.5597740786252,1604.0906599112673,732.4691423046715,747.2823844243499,1131.2618637387811,1177.6568857417344,1436.7657546472265,1564.5462336060896,1348.5881329538029,958.3621268844886,832.8647117425531,774.9442025262778,971.2293329532945,1157.1402280984648,1600.940425979469,988.4410984094932,1650.5982546710698,1373.918977907656,1306.7703858228915,711.0469898509634,1184.1859085361393,989.6001886130857,1466.153240843339,956.2553376912143,1435.8245588996865,1604.3549223476389,1039.3165736405927,779.3375181864055,1668.072388195687,780.4432035103833,1482.908526283256,772.488126976634,1541.7554487660539,758.9002111754122,1156.112484448451,1298.0729680099735,1159.7724675539966,1136.8137440806015,1702.6195651135295,1382.740313717018,1310.5885205001493,1715.550680662885,1011.6387944536376,746.9125483902876,1501.4140083196398,860.1728596907923,1498.8200485700613,1402.1844740789186,1461.8855049760746,746.4157750904127,741.9106121574911,1613.41125626332,1546.1354659433505,813.9861602246923,956.1610692952167,792.777596068329,864.4581027292701,1593.5671407842492,1400.9415620257932,1069.896928749035,1035.3489233237694,829.8032195632115,1571.7252213637498,864.997753134811,1164.5160416710276,1483.6689106913263,950.5403613449631,781.5117309990214,1029.5310914488794,765.0091784488625,1163.1885880214127,1529.8858977075324,1477.1087351496983,819.6710706449353,1622.9713284495344,1396.1996132210472,1724.5732243514994,1075.5301036631222,1128.3623701086458,977.1741015555324,1597.8913852914852,1537.8469147699875,1426.009727789773,1517.420693106471,1735.721406121983,1516.772934014117,1450.6449581927213,1205.2814841828604,1442.247214744025,1368.456212149435,809.9235762893172,1210.373985547735,1181.1385373360993,836.0819649443969,1094.916000215063,1078.9590890956806,1668.7969772294523,1488.3148016278778,1765.9126898018253,1342.5096668398733,1147.1189943535007,1569.9922477707705,1688.4036178543993,840.3647926897938,1694.3266626203463,1303.5525274465826,875.5367952821887,1309.1121834945457,1366.9874751092734,1309.5619373223572,1631.0560179386716,1249.3499153776065,1557.165165343446,1350.8401059260755,1080.6635694376828,944.7353556076336,1195.7131166126837,1047.0643290672715,1029.9486595569322,1778.7381801187362,1336.0428392751148,1555.3667092306546,1193.467781274103,1671.2708072606483,1212.2702115110988,1467.321090502879,1102.2584392709925,1540.378904040127,1081.4621193375706,1333.8491023001525,1416.0131667120565,1183.4309558533723,1031.776854802359,1296.9577631761663,941.3358837147043,867.7550906616041,1466.611840765021,1280.8538880152912,1388.9479966216236,1222.4277661881176,1159.4424531728023,1074.863017757414,1790.406983343985,1730.9281519505435,1614.8560413679475,1426.7140170569267,1538.8456609767513,1238.628598060567,968.3557782215121,957.1326118738556,1218.4353213493446,1409.6002778988839,1810.8288852152596,1305.3205885343039,1743.7214912479144,993.9703904304854,1133.1445183997284,1419.779585280572,842.6763773631826,1100.0755346456376,1052.1666644259155,1320.0717013396459,1586.257151184992,1404.9132054534653,1101.5376309463818,972.491798537492,1492.4548611392952,1381.90149114909,1648.9083759286991,1146.25898742343,1714.2637659548232,1176.714889537049,1435.861813727143,1246.7179846913036,958.6964417467926,1719.9718519348182,1327.595896936974,1158.173534793605,1077.9151272359761,1029.8074053158207,1106.503331202717,1071.363844814245,1723.7451968424452,1427.8721864963654,1547.1052485465298,1119.212345523169,1063.2820473776435,1569.0568971826126,1069.36640267507,1399.3790514247664,1315.9977824852156,1768.2492552264362,983.239874345784,1623.266403270006,1791.699431193198,1096.6878580058997,1709.3593646855759,1198.5167874995836,1183.885998234275,1115.9856871793238,1389.1176097109767,1025.6718308695329,1104.4968181203565,919.6534373187924,981.9399870771218,1669.5467521573419,1233.7385319274306,1359.9610087313424,1288.382112213429,1852.005175251149,1002.6243432980928,952.232698193953,1334.7511471435794,1405.2032234705057,1426.053432221387,969.1804282626771,1208.2705107678817,923.0043672942647,1560.7045350161281,1664.6360211742367,1741.3779955095251,1353.1490275293063,1074.7124732703817,1399.0523982791706,1409.56797689377,1683.8962225115479,1585.0419939446788,1678.4003788947994,1429.2579746258039,1696.2369371591371,1743.6686839531344,1763.5965761642997,1320.4810427736684,1476.4120078234253,1535.121617469453,1559.3550315659595,1133.775009788337,1013.3498188018086,1885.638243277554,949.3629740118573,1131.4603918325067,1741.772320291086,1478.1269153506819,1608.939627722876,960.5689131908032,1334.1003878603774,1617.3280069225634,1596.8438963778526,1258.004745356114,1392.9222889819616,1096.009683528195,1704.6553274665575,1188.091432677302,950.6723306022174,1275.7299783051922,1625.1598959864036,1628.476861445335,1844.2987258145442,1014.6419638931426,1490.4307016342668,1592.4401123654984,1100.0836305683033,1650.0138773735875,1225.8006980276173,1003.9631133620851,1437.4100204896763,974.5820709384354,1467.6831954871836,1126.5013148499697,1880.1535968130606,1033.5491130635194,1501.20276266649,1787.207596508359,1250.5105320150458,1612.9853970416648,1787.8579178039768,1035.4334007929046,1012.4546479895813,1490.5874243777334,1173.9442948397934,1027.6524322602404,1530.6502495782768,1876.1915910280595,1797.2244620117604,1740.5216316787087,1315.530297450498,982.1373693658559,1042.3394231140394,1579.6150167322457,1236.3813039119982,1332.5192762526624,1634.7134382866975,1073.4359331006965,1001.660549841513,1245.5620834264053,1108.212423736716,1620.6339497492793,1429.4024967870496,1904.7994781661812,1433.5738032353368,1692.9225553652066,1160.4557445759347,1572.4311658336383,1552.6333018719558,1987.0144889590824,1503.422915687147,1792.1790840658964,1927.6321967023669,1765.9613275748632,1042.5604068445105,1879.158555495049,1985.3962543533412,1033.605122801414,1488.5262408854219,1600.7256465571113,1512.9355287780709]}];\n",
       " var layout_c5279adf4eacce = {\"height\":550,\"width\":600,\"title\":{\"text\":\"XY.Histogram.Color\"},\"showlegend\":false};\n",
       " var config_c5279adf4eacce = {\"responsive\":false,\"scrollZoom\":true,\"displaylogo\":false};\n",
       " Plotly.newPlot(\"graph_c5279adf4eacce\", traces_c5279adf4eacce, layout_c5279adf4eacce, config_c5279adf4eacce);\n",
       "</script>\n"
      ]
     },
     "metadata": {},
     "output_type": "display_data"
    }
   ],
   "source": [
    "import picta.options.histogram.HistOptions\n",
    "import picta.options.histogram.HistOrientation.HORIZONTAL\n",
    "\n",
    "// we can also compose customizations in much the same way:\n",
    "val marker = Marker() setColor \"rgba(255, 100, 102, 0.4)\" setLine Line()\n",
    "\n",
    "// change xkey to y to get a horizontal histogram\n",
    "val data = XY(x, series_type=HISTOGRAM) setMarker marker setHistOptions HistOptions(orientation = HORIZONTAL)\n",
    "\n",
    "val chart = Chart() setData data setLayout Layout(\"XY.Histogram.Color\") setConfig config\n",
    "\n",
    "chart.plot_inline()"
   ]
  },
  {
   "cell_type": "markdown",
   "metadata": {},
   "source": [
    "#### 2D Histogram Contour"
   ]
  },
  {
   "cell_type": "code",
   "execution_count": 15,
   "metadata": {},
   "outputs": [
    {
     "data": {
      "text/html": [
       "\n",
       "<div align=\"center\">\n",
       "<div id='graph_e70cbfc4578955' class='graph'></div>\n",
       "</div>\n",
       "<script>\n",
       " var traces_e70cbfc4578955 = [{\"name\":\"672cfaf\",\"type\":\"histogram2dcontour\",\"mode\":\"markers\",\"x\":[1,2,3,4,5,6,7,8,9,10,11,12,13,14,15,16,17,18,19,20,21,22,23,24,25,26,27,28,29,30,31,32,33,34,35,36,37,38,39,40,41,42,43,44,45,46,47,48,49],\"y\":[25.54191917990287,2.5748193702972526,74.29570685777288,68.10217820526209,102.08362488278837,97.43165959093209,101.63645926562008,13.855824261799702,40.823188485652885,33.468910101081235,20.164104922747498,57.706431147317176,103.20522903183556,113.21275858671804,22.76802320171347,21.13553098836167,106.61444468681138,80.26703987433112,52.180864793446304,40.55058925013057,120.81686176674461,28.957538207354485,46.811191678517645,105.04422279542928,40.10421633334125,62.85524529997631,48.99345305688579,36.301783937483386,80.66844063213645,91.57373707866732,113.70762622718931,120.21834407977789,83.69031339799105,55.72404328433394,57.09045698930831,83.08712170781136,101.20825369682989,61.02376193760727,100.95470119231715,129.14701471757667,104.0403635554448,84.29537233972023,102.05236280479261,120.82774218248036,78.86482285561348,86.45202381492518,102.96237016435444,88.20691192373792,75.02074941565122]}];\n",
       " var layout_e70cbfc4578955 = {\"height\":550,\"width\":600,\"title\":{\"text\":\"2D Histogram Contour\"},\"showlegend\":false};\n",
       " var config_e70cbfc4578955 = {\"responsive\":true,\"scrollZoom\":true,\"displaylogo\":false};\n",
       " Plotly.newPlot(\"graph_e70cbfc4578955\", traces_e70cbfc4578955, layout_e70cbfc4578955, config_e70cbfc4578955);\n",
       "</script>\n"
      ]
     },
     "metadata": {},
     "output_type": "display_data"
    }
   ],
   "source": [
    "val x = List.range(1, 50)\n",
    "val y = x.map(x => x + scala.util.Random.nextDouble()*100)\n",
    "\n",
    "val data = XY(x, y, series_type=HISTOGRAM2DCONTOUR, series_mode=MARKERS)\n",
    "\n",
    "val chart = Chart() setData data setLayout Layout(\"2D Histogram Contour\")\n",
    "chart.plot_inline()"
   ]
  },
  {
   "cell_type": "markdown",
   "metadata": {},
   "source": [
    "#### Contour\n",
    "\n",
    "This is a 3 dimensional chart requiring the import of the `XYZ` class from the library."
   ]
  },
  {
   "cell_type": "code",
   "execution_count": 16,
   "metadata": {},
   "outputs": [],
   "source": [
    "import picta.series.XYZ\n",
    "import picta.series.XYZChart._\n",
    "\n",
    "val x = List.range(1, 100)\n",
    "val y = List.range(1, 100)\n",
    "val z = List.range(1, 100).map(x => x + scala.util.Random.nextDouble()*100)\n",
    "\n",
    "val data = XYZ(x, y, z, series_type=CONTOUR, series_mode=MARKERS)"
   ]
  },
  {
   "cell_type": "code",
   "execution_count": 17,
   "metadata": {},
   "outputs": [
    {
     "data": {
      "text/html": [
       "\n",
       "<div align=\"center\">\n",
       "<div id='graph_44387d1d6a2607' class='graph'></div>\n",
       "</div>\n",
       "<script>\n",
       " var traces_44387d1d6a2607 = [{\"name\":\"58fc14f\",\"type\":\"contour\",\"mode\":\"markers\",\"x\":[1,2,3,4,5,6,7,8,9,10,11,12,13,14,15,16,17,18,19,20,21,22,23,24,25,26,27,28,29,30,31,32,33,34,35,36,37,38,39,40,41,42,43,44,45,46,47,48,49,50,51,52,53,54,55,56,57,58,59,60,61,62,63,64,65,66,67,68,69,70,71,72,73,74,75,76,77,78,79,80,81,82,83,84,85,86,87,88,89,90,91,92,93,94,95,96,97,98,99],\"y\":[1,2,3,4,5,6,7,8,9,10,11,12,13,14,15,16,17,18,19,20,21,22,23,24,25,26,27,28,29,30,31,32,33,34,35,36,37,38,39,40,41,42,43,44,45,46,47,48,49,50,51,52,53,54,55,56,57,58,59,60,61,62,63,64,65,66,67,68,69,70,71,72,73,74,75,76,77,78,79,80,81,82,83,84,85,86,87,88,89,90,91,92,93,94,95,96,97,98,99],\"z\":[81.55736335503876,56.2527825357008,50.99402719276138,71.67371298611066,7.659194330959213,95.96201928584544,65.7823338714934,103.69708801529823,60.33512122474809,96.46323964962149,109.3600760858725,45.95245825329045,99.75152643529837,84.42046838631765,91.54861408301016,26.60937040206945,52.525596288128334,80.8146372910424,84.33557174368138,46.72668483950661,74.7933261790866,120.91220229708692,31.996976998232718,99.52487355838444,106.62471878061058,114.56855874048982,53.4531696307711,92.61060213767556,94.29075337834466,31.403000006370114,127.27898063596443,43.87199006640773,44.87485960286951,84.15148747152287,120.58952169947565,105.84495137123047,56.33501466027414,87.8980462411261,134.44865836105888,123.05808552585388,135.3608092358945,92.90510608407473,90.49806672353026,142.19555760143015,75.23312749597902,124.40768494038137,76.18049896621098,75.87452242085132,116.38235524407497,114.00577863086481,99.23172943532293,67.41559271211125,53.45434627871717,74.18391932302887,76.04137633716121,116.19195225175352,84.43159133492867,150.00634506799253,93.03361458985086,100.9746930972886,119.72039701362047,80.1807829971271,135.39455822404747,82.14903176449556,82.10309280674682,113.45336438393397,73.27386142716804,72.75804783733038,132.06762136375127,155.69172630176544,132.0139210339373,143.03766285821047,147.26508613737843,168.0329075709039,150.01075434218245,163.43857054173304,169.70918928442046,97.11711774160707,145.48650538268157,97.08789039701975,109.81970656723466,94.69806306983602,171.75423660713756,124.22531460264784,162.52546087406716,175.81500097988456,139.48150132316124,118.35559401455728,147.38052730908973,172.2312223253317,124.00992668092684,96.6912055491066,132.01067828030935,160.98822736652752,155.9638434366097,135.91607162929617,136.19541027933374,186.6943401193263,114.18179512644723]}];\n",
       " var layout_44387d1d6a2607 = {\"height\":550,\"width\":600,\"title\":{\"text\":\"Contour\"},\"showlegend\":false};\n",
       " var config_44387d1d6a2607 = {\"responsive\":true,\"scrollZoom\":true,\"displaylogo\":false};\n",
       " Plotly.newPlot(\"graph_44387d1d6a2607\", traces_44387d1d6a2607, layout_44387d1d6a2607, config_44387d1d6a2607);\n",
       "</script>\n"
      ]
     },
     "metadata": {},
     "output_type": "display_data"
    }
   ],
   "source": [
    "val chart = Chart() setData data setLayout Layout(\"Contour\")\n",
    "\n",
    "chart.plot_inline()"
   ]
  },
  {
   "cell_type": "markdown",
   "metadata": {},
   "source": [
    "#### Heatmap"
   ]
  },
  {
   "cell_type": "code",
   "execution_count": 18,
   "metadata": {
    "scrolled": false
   },
   "outputs": [],
   "source": [
    "val z = List.range(1, 101).map(e => e + scala.util.Random.nextDouble()*100).grouped(10).toList"
   ]
  },
  {
   "cell_type": "code",
   "execution_count": 19,
   "metadata": {},
   "outputs": [
    {
     "data": {
      "text/html": [
       "\n",
       "<div align=\"center\">\n",
       "<div id='graph_b08e7af410e6a5' class='graph'></div>\n",
       "</div>\n",
       "<script>\n",
       " var traces_b08e7af410e6a5 = [{\"name\":\"105c68c\",\"type\":\"heatmap\",\"z\":[[79.38327036266683,43.50404817289773,51.56110223202328,102.43048905786334,54.566669385689245,59.642882099821854,10.2202425352302,86.41159645473327,105.91845011041008,87.53339636724029],[12.998637356541288,31.247538214539183,44.24156393483128,54.63008153968446,107.59811538147409,27.93319976097521,45.26812285689181,54.09948416749382,61.021572431838784,56.16630207860445],[71.34182867285394,22.22048736164939,75.10632862766062,74.51992662726582,124.93450442230515,53.729132995161336,124.17026165076832,41.09645839376989,35.18391145744531,118.81946305648623],[106.04568423371056,112.60304835281751,37.72197571736051,99.1252699689917,77.17057855615,56.214401422229315,132.76963679425324,104.2458237048331,137.4262332394502,135.6395398106242],[96.80654818056883,65.24200598439123,141.0549255980743,100.48493903028054,79.0808801301324,127.01749050728051,136.26078302264114,116.3072248549737,135.80652275395317,77.61292526831092],[77.99151568750138,121.67441986943416,142.1020101086583,59.179395753663385,115.91822047633187,88.10544559651399,74.55750251387029,102.76062419707142,132.77501592051325,88.93346934957758],[75.77324716992689,117.0017447506288,96.98976679812529,153.9393658823633,96.29487921301774,139.5157208213987,97.93170809509746,98.02740618492939,159.0780604270949,128.8767624607019],[152.1213097588095,164.26605545407017,106.94690840176702,135.07338257188704,104.39225693987672,114.29250852359726,174.46771171360177,136.7420440379048,99.26491349672702,132.38045245492714],[172.24151499158182,174.61553919992429,164.68525036241806,183.3962141074614,183.82608885009685,142.3586645802987,132.80264798003884,179.4193515045012,153.32993573302315,118.32689175723107],[120.6046033815941,164.9794242182541,185.17794522065074,134.77212630631092,106.99585531959441,126.66153661856922,186.6303397260421,184.63285114143588,172.30396993506204,169.25899064115234]]}];\n",
       " var layout_b08e7af410e6a5 = {\"height\":500,\"width\":500,\"title\":{\"text\":\"Contour\"},\"showlegend\":false};\n",
       " var config_b08e7af410e6a5 = {\"responsive\":true,\"scrollZoom\":true,\"displaylogo\":false};\n",
       " Plotly.newPlot(\"graph_b08e7af410e6a5\", traces_b08e7af410e6a5, layout_b08e7af410e6a5, config_b08e7af410e6a5);\n",
       "</script>\n"
      ]
     },
     "metadata": {},
     "output_type": "display_data"
    }
   ],
   "source": [
    "// add lines in between the grid items\n",
    "val data = XYZ(z, series_type=HEATMAP)\n",
    "\n",
    "val chart = Chart() setData data setLayout Layout(\"Contour\", height = 500, width = 500)\n",
    "\n",
    "chart.plot_inline()"
   ]
  },
  {
   "cell_type": "markdown",
   "metadata": {},
   "source": [
    "#### Scatter3D"
   ]
  },
  {
   "cell_type": "code",
   "execution_count": 20,
   "metadata": {},
   "outputs": [
    {
     "data": {
      "text/html": [
       "\n",
       "<div align=\"center\">\n",
       "<div id='graph_88c26c0c8a101b' class='graph'></div>\n",
       "</div>\n",
       "<script>\n",
       " var traces_88c26c0c8a101b = [{\"name\":\"190d51d\",\"type\":\"scatter3d\",\"x\":[1,2,3,4,5,6,7,8,9,10,11,12,13,14,15,16,17,18,19,20,21,22,23,24,25,26,27,28,29,30,31,32,33,34,35,36,37,38,39,40,41,42,43,44,45,46,47,48,49,50,51,52,53,54,55,56,57,58,59,60,61,62,63,64,65,66,67,68,69,70,71,72,73,74,75,76,77,78,79,80,81,82,83,84,85,86,87,88,89,90,91,92,93,94,95,96,97,98,99],\"y\":[1,2,3,4,5,6,7,8,9,10,11,12,13,14,15,16,17,18,19,20,21,22,23,24,25,26,27,28,29,30,31,32,33,34,35,36,37,38,39,40,41,42,43,44,45,46,47,48,49,50,51,52,53,54,55,56,57,58,59,60,61,62,63,64,65,66,67,68,69,70,71,72,73,74,75,76,77,78,79,80,81,82,83,84,85,86,87,88,89,90,91,92,93,94,95,96,97,98,99],\"z\":[58.34367355117167,60.28430071039147,11.212991349273269,77.70216670424428,78.59452970977271,103.48751924601214,90.77127583301683,101.66855018634591,32.74374215547649,21.264495313866696,101.38913655970981,58.079578357022214,111.10088834632428,88.53984102659307,40.6365118338781,45.61580313623473,35.555904405601765,115.1277228453223,77.17033938918294,104.93258463227052,78.17664914898633,102.00606808913778,65.26589936800866,38.434380042149996,103.42832384790788,49.808371756782876,119.19588968287201,124.26642483213391,99.75264658359129,111.0766315645849,111.09555223890513,120.60840292400657,65.95173391720016,97.05733579345272,125.97166371757746,58.40548346845584,83.15366597164032,59.685574561221564,93.15778333580364,63.34788455172463,134.0937456131556,69.89076501543995,114.78764828886216,131.2108954447293,128.0274992951643,104.47064717481024,128.75313870894763,104.59308452781403,51.79845561889186,135.51855484881554,76.13278600276995,63.64118318482437,95.41586702000221,88.75222254334031,91.22132517779599,148.52593977292764,93.95444065881915,100.08068713565527,96.0602678955289,77.23400922389322,86.67029341101761,153.35910190871783,160.764138410335,108.66669930964818,118.93430473171439,126.51956881768092,85.95636709462178,128.08723096739323,102.91609173064488,108.12940517022147,74.27351964581061,99.63389808264958,108.90887917226163,171.91647551762566,84.16598956352156,138.91732250717732,80.76754902946043,112.91460520628327,101.11784576387083,107.6457751235821,156.13918927787614,155.6202285166048,118.92802148737087,121.77331667297994,124.99748703673794,141.9148823328547,96.83962632097638,94.84127601422855,178.4493627049195,94.49624740934581,147.07362028463933,108.98440298876295,183.86426427276695,130.1738951728776,111.71767723934016,117.49876507284787,172.0835374917694,166.62406297713318,107.94056978023069]}];\n",
       " var layout_88c26c0c8a101b = {\"height\":550,\"width\":600,\"title\":{\"text\":\"Histogram with axes\"},\"showlegend\":false,\"xaxis\":{\"title\":{\"text\":\"my x data\"},\"showgrid\":true,\"zeroline\":false,\"showline\":false},\"yaxis\":{\"title\":{\"text\":\"my y data\"},\"showgrid\":true,\"zeroline\":false,\"showline\":false}};\n",
       " var config_88c26c0c8a101b = {\"responsive\":true,\"scrollZoom\":true,\"displaylogo\":false};\n",
       " Plotly.newPlot(\"graph_88c26c0c8a101b\", traces_88c26c0c8a101b, layout_88c26c0c8a101b, config_88c26c0c8a101b);\n",
       "</script>\n"
      ]
     },
     "metadata": {},
     "output_type": "display_data"
    }
   ],
   "source": [
    "val x = List.range(1, 100)\n",
    "val y = List.range(1, 100)\n",
    "val z = List.range(1, 100).map(e => e + scala.util.Random.nextDouble()*100)\n",
    "\n",
    "val data = XYZ(x, y, z, series_type = SCATTER3D)\n",
    "\n",
    "val chart = Chart() setData data setLayout layout\n",
    "\n",
    "chart.plot_inline()"
   ]
  },
  {
   "cell_type": "markdown",
   "metadata": {},
   "source": [
    "#### Surface Plot"
   ]
  },
  {
   "cell_type": "code",
   "execution_count": 21,
   "metadata": {
    "scrolled": false
   },
   "outputs": [
    {
     "data": {
      "text/html": [
       "\n",
       "<div align=\"center\">\n",
       "<div id='graph_697624d4621fe1' class='graph'></div>\n",
       "</div>\n",
       "<script>\n",
       " var traces_697624d4621fe1 = [{\"name\":\"bad7f08\",\"type\":\"surface\",\"z\":[[8.83,8.89,8.81,8.87,8.9,8.87],[8.89,8.94,8.85,8.94,8.96,8.92],[8.84,8.9,8.82,8.92,8.93,8.91],[8.79,8.85,8.79,8.9,8.94,8.92],[8.79,8.88,8.81,8.9,8.95,8.92],[8.8,8.82,8.78,8.91,8.94,8.92],[8.75,8.78,8.77,8.91,8.95,8.92],[8.8,8.8,8.77,8.91,8.95,8.94],[8.74,8.81,8.76,8.93,8.98,8.99],[8.89,8.99,8.92,9.1,9.13,9.11],[8.97,8.97,8.91,9.09,9.11,9.11],[9.04,9.08,9.05,9.25,9.28,9.27],[9,9.01,9,9.2,9.23,9.2],[8.99,8.99,8.98,9.18,9.2,9.19],[8.93,8.97,8.97,9.18,9.2,9.18]]}];\n",
       " var layout_697624d4621fe1 = {\"height\":550,\"width\":600,\"title\":{\"text\":\"Surface Chart\"},\"showlegend\":false};\n",
       " var config_697624d4621fe1 = {\"responsive\":true,\"scrollZoom\":true,\"displaylogo\":false};\n",
       " Plotly.newPlot(\"graph_697624d4621fe1\", traces_697624d4621fe1, layout_697624d4621fe1, config_697624d4621fe1);\n",
       "</script>\n"
      ]
     },
     "metadata": {},
     "output_type": "display_data"
    }
   ],
   "source": [
    "// 3d surface plot\n",
    "val k = List(\n",
    "    List(8.83,8.89,8.81,8.87,8.9,8.87),\n",
    "    List(8.89,8.94,8.85,8.94,8.96,8.92),\n",
    "    List(8.84,8.9,8.82,8.92,8.93,8.91),\n",
    "    List(8.79,8.85,8.79,8.9,8.94,8.92),\n",
    "    List(8.79,8.88,8.81,8.9,8.95,8.92),\n",
    "    List(8.8,8.82,8.78,8.91,8.94,8.92),\n",
    "    List(8.75,8.78,8.77,8.91,8.95,8.92),\n",
    "    List(8.8,8.8,8.77,8.91,8.95,8.94),\n",
    "    List(8.74,8.81,8.76,8.93,8.98,8.99),\n",
    "    List(8.89,8.99,8.92,9.1,9.13,9.11),\n",
    "    List(8.97,8.97,8.91,9.09,9.11,9.11),\n",
    "    List(9.04,9.08,9.05,9.25,9.28,9.27),\n",
    "    List(9,9.01,9,9.2,9.23,9.2),\n",
    "    List(8.99,8.99,8.98,9.18,9.2,9.19),\n",
    "    List(8.93,8.97,8.97,9.18,9.2,9.18)\n",
    "  )\n",
    "\n",
    "val data = XYZ(k, series_type=SURFACE)\n",
    "\n",
    "val chart = Chart() setData data setLayout Layout(\"Surface Chart\")\n",
    "\n",
    "chart.plot_inline()"
   ]
  },
  {
   "cell_type": "markdown",
   "metadata": {
    "scrolled": false
   },
   "source": [
    "#### Third Dimension as Color"
   ]
  },
  {
   "cell_type": "code",
   "execution_count": 22,
   "metadata": {},
   "outputs": [
    {
     "data": {
      "text/html": [
       "\n",
       "<div align=\"center\">\n",
       "<div id='graph_bc9a7822550ca7' class='graph'></div>\n",
       "</div>\n",
       "<script>\n",
       " var traces_bc9a7822550ca7 = [{\"name\":\"904a8e7\",\"type\":\"scatter\",\"mode\":\"markers\",\"marker\":{\"color\":[58.34367355117167,60.28430071039147,11.212991349273269,77.70216670424428,78.59452970977271,103.48751924601214,90.77127583301683,101.66855018634591,32.74374215547649,21.264495313866696,101.38913655970981,58.079578357022214,111.10088834632428,88.53984102659307,40.6365118338781,45.61580313623473,35.555904405601765,115.1277228453223,77.17033938918294,104.93258463227052,78.17664914898633,102.00606808913778,65.26589936800866,38.434380042149996,103.42832384790788,49.808371756782876,119.19588968287201,124.26642483213391,99.75264658359129,111.0766315645849,111.09555223890513,120.60840292400657,65.95173391720016,97.05733579345272,125.97166371757746,58.40548346845584,83.15366597164032,59.685574561221564,93.15778333580364,63.34788455172463,134.0937456131556,69.89076501543995,114.78764828886216,131.2108954447293,128.0274992951643,104.47064717481024,128.75313870894763,104.59308452781403,51.79845561889186,135.51855484881554,76.13278600276995,63.64118318482437,95.41586702000221,88.75222254334031,91.22132517779599,148.52593977292764,93.95444065881915,100.08068713565527,96.0602678955289,77.23400922389322,86.67029341101761,153.35910190871783,160.764138410335,108.66669930964818,118.93430473171439,126.51956881768092,85.95636709462178,128.08723096739323,102.91609173064488,108.12940517022147,74.27351964581061,99.63389808264958,108.90887917226163,171.91647551762566,84.16598956352156,138.91732250717732,80.76754902946043,112.91460520628327,101.11784576387083,107.6457751235821,156.13918927787614,155.6202285166048,118.92802148737087,121.77331667297994,124.99748703673794,141.9148823328547,96.83962632097638,94.84127601422855,178.4493627049195,94.49624740934581,147.07362028463933,108.98440298876295,183.86426427276695,130.1738951728776,111.71767723934016,117.49876507284787,172.0835374917694,166.62406297713318,107.94056978023069]},\"x\":[1,2,3,4,5,6,7,8,9,10,11,12,13,14,15,16,17,18,19,20,21,22,23,24,25,26,27,28,29,30,31,32,33,34,35,36,37,38,39,40,41,42,43,44,45,46,47,48,49,50,51,52,53,54,55,56,57,58,59,60,61,62,63,64,65,66,67,68,69,70,71,72,73,74,75,76,77,78,79,80,81,82,83,84,85,86,87,88,89,90,91,92,93,94,95,96,97,98,99],\"y\":[1,2,3,4,5,6,7,8,9,10,11,12,13,14,15,16,17,18,19,20,21,22,23,24,25,26,27,28,29,30,31,32,33,34,35,36,37,38,39,40,41,42,43,44,45,46,47,48,49,50,51,52,53,54,55,56,57,58,59,60,61,62,63,64,65,66,67,68,69,70,71,72,73,74,75,76,77,78,79,80,81,82,83,84,85,86,87,88,89,90,91,92,93,94,95,96,97,98,99]}];\n",
       " var layout_bc9a7822550ca7 = {\"height\":550,\"width\":600,\"title\":{\"text\":\"Color2D.Basic\"},\"showlegend\":false};\n",
       " var config_bc9a7822550ca7 = {\"responsive\":true,\"scrollZoom\":true,\"displaylogo\":false};\n",
       " Plotly.newPlot(\"graph_bc9a7822550ca7\", traces_bc9a7822550ca7, layout_bc9a7822550ca7, config_bc9a7822550ca7);\n",
       "</script>\n"
      ]
     },
     "metadata": {},
     "output_type": "display_data"
    }
   ],
   "source": [
    "// multiple compositions can be used to create scatter charts with a color representing some third dimension\n",
    "\n",
    "val marker = Marker() setColor z // we add the list of colors to the marker for each point\n",
    "\n",
    "val data = XY(x, y, series_type = SCATTER, series_mode = MARKERS) setMarker marker\n",
    "\n",
    "val chart = Chart() setLayout Layout(\"Color2D.Basic\") setData data\n",
    "\n",
    "chart.plot_inline()"
   ]
  },
  {
   "cell_type": "markdown",
   "metadata": {},
   "source": [
    "#### Subplot\n",
    "\n",
    "The Subplot class can be used to generate subplots for an XY plot. Currently 3D subplots are not supported."
   ]
  },
  {
   "cell_type": "code",
   "execution_count": 23,
   "metadata": {},
   "outputs": [
    {
     "data": {
      "text/html": [
       "\n",
       "<div align=\"center\">\n",
       "<div id='graph_ce259d8d64773a' class='graph'></div>\n",
       "</div>\n",
       "<script>\n",
       " var traces_ce259d8d64773a = [{\"name\":\"a\",\"type\":\"scatter\",\"mode\":\"markers\",\"x\":[1,2,3,4,5,6,7,8,9,10,11,12,13,14,15,16,17,18,19,20,21,22,23,24,25,26,27,28,29,30,31,32,33,34,35,36,37,38,39,40,41,42,43,44,45,46,47,48,49,50,51,52,53,54,55,56,57,58,59,60,61,62,63,64,65,66,67,68,69,70,71,72,73,74,75,76,77,78,79,80,81,82,83,84,85,86,87,88,89,90,91,92,93,94,95,96,97,98,99],\"y\":[1,2,3,4,5,6,7,8,9,10,11,12,13,14,15,16,17,18,19,20,21,22,23,24,25,26,27,28,29,30,31,32,33,34,35,36,37,38,39,40,41,42,43,44,45,46,47,48,49,50,51,52,53,54,55,56,57,58,59,60,61,62,63,64,65,66,67,68,69,70,71,72,73,74,75,76,77,78,79,80,81,82,83,84,85,86,87,88,89,90,91,92,93,94,95,96,97,98,99]},{\"name\":\"b\",\"type\":\"scatter\",\"mode\":\"markers\",\"xaxis\":\"x2\",\"yaxis\":\"y2\",\"x\":[1,2,3,4,5,6,7,8,9,10,11,12,13,14,15,16,17,18,19,20,21,22,23,24,25,26,27,28,29,30,31,32,33,34,35,36,37,38,39,40,41,42,43,44,45,46,47,48,49,50,51,52,53,54,55,56,57,58,59,60,61,62,63,64,65,66,67,68,69,70,71,72,73,74,75,76,77,78,79,80,81,82,83,84,85,86,87,88,89,90,91,92,93,94,95,96,97,98,99],\"y\":[58.34367355117167,60.28430071039147,11.212991349273269,77.70216670424428,78.59452970977271,103.48751924601214,90.77127583301683,101.66855018634591,32.74374215547649,21.264495313866696,101.38913655970981,58.079578357022214,111.10088834632428,88.53984102659307,40.6365118338781,45.61580313623473,35.555904405601765,115.1277228453223,77.17033938918294,104.93258463227052,78.17664914898633,102.00606808913778,65.26589936800866,38.434380042149996,103.42832384790788,49.808371756782876,119.19588968287201,124.26642483213391,99.75264658359129,111.0766315645849,111.09555223890513,120.60840292400657,65.95173391720016,97.05733579345272,125.97166371757746,58.40548346845584,83.15366597164032,59.685574561221564,93.15778333580364,63.34788455172463,134.0937456131556,69.89076501543995,114.78764828886216,131.2108954447293,128.0274992951643,104.47064717481024,128.75313870894763,104.59308452781403,51.79845561889186,135.51855484881554,76.13278600276995,63.64118318482437,95.41586702000221,88.75222254334031,91.22132517779599,148.52593977292764,93.95444065881915,100.08068713565527,96.0602678955289,77.23400922389322,86.67029341101761,153.35910190871783,160.764138410335,108.66669930964818,118.93430473171439,126.51956881768092,85.95636709462178,128.08723096739323,102.91609173064488,108.12940517022147,74.27351964581061,99.63389808264958,108.90887917226163,171.91647551762566,84.16598956352156,138.91732250717732,80.76754902946043,112.91460520628327,101.11784576387083,107.6457751235821,156.13918927787614,155.6202285166048,118.92802148737087,121.77331667297994,124.99748703673794,141.9148823328547,96.83962632097638,94.84127601422855,178.4493627049195,94.49624740934581,147.07362028463933,108.98440298876295,183.86426427276695,130.1738951728776,111.71767723934016,117.49876507284787,172.0835374917694,166.62406297713318,107.94056978023069]},{\"name\":\"b\",\"type\":\"scatter\",\"mode\":\"markers\",\"xaxis\":\"x3\",\"yaxis\":\"y3\",\"x\":[1,2,3,4,5,6,7,8,9,10,11,12,13,14,15,16,17,18,19,20,21,22,23,24,25,26,27,28,29,30,31,32,33,34,35,36,37,38,39,40,41,42,43,44,45,46,47,48,49,50,51,52,53,54,55,56,57,58,59,60,61,62,63,64,65,66,67,68,69,70,71,72,73,74,75,76,77,78,79,80,81,82,83,84,85,86,87,88,89,90,91,92,93,94,95,96,97,98,99],\"y\":[58.34367355117167,60.28430071039147,11.212991349273269,77.70216670424428,78.59452970977271,103.48751924601214,90.77127583301683,101.66855018634591,32.74374215547649,21.264495313866696,101.38913655970981,58.079578357022214,111.10088834632428,88.53984102659307,40.6365118338781,45.61580313623473,35.555904405601765,115.1277228453223,77.17033938918294,104.93258463227052,78.17664914898633,102.00606808913778,65.26589936800866,38.434380042149996,103.42832384790788,49.808371756782876,119.19588968287201,124.26642483213391,99.75264658359129,111.0766315645849,111.09555223890513,120.60840292400657,65.95173391720016,97.05733579345272,125.97166371757746,58.40548346845584,83.15366597164032,59.685574561221564,93.15778333580364,63.34788455172463,134.0937456131556,69.89076501543995,114.78764828886216,131.2108954447293,128.0274992951643,104.47064717481024,128.75313870894763,104.59308452781403,51.79845561889186,135.51855484881554,76.13278600276995,63.64118318482437,95.41586702000221,88.75222254334031,91.22132517779599,148.52593977292764,93.95444065881915,100.08068713565527,96.0602678955289,77.23400922389322,86.67029341101761,153.35910190871783,160.764138410335,108.66669930964818,118.93430473171439,126.51956881768092,85.95636709462178,128.08723096739323,102.91609173064488,108.12940517022147,74.27351964581061,99.63389808264958,108.90887917226163,171.91647551762566,84.16598956352156,138.91732250717732,80.76754902946043,112.91460520628327,101.11784576387083,107.6457751235821,156.13918927787614,155.6202285166048,118.92802148737087,121.77331667297994,124.99748703673794,141.9148823328547,96.83962632097638,94.84127601422855,178.4493627049195,94.49624740934581,147.07362028463933,108.98440298876295,183.86426427276695,130.1738951728776,111.71767723934016,117.49876507284787,172.0835374917694,166.62406297713318,107.94056978023069]},{\"name\":\"b\",\"type\":\"scatter\",\"mode\":\"markers\",\"xaxis\":\"x4\",\"yaxis\":\"y4\",\"x\":[1,2,3,4,5,6,7,8,9,10,11,12,13,14,15,16,17,18,19,20,21,22,23,24,25,26,27,28,29,30,31,32,33,34,35,36,37,38,39,40,41,42,43,44,45,46,47,48,49,50,51,52,53,54,55,56,57,58,59,60,61,62,63,64,65,66,67,68,69,70,71,72,73,74,75,76,77,78,79,80,81,82,83,84,85,86,87,88,89,90,91,92,93,94,95,96,97,98,99],\"y\":[58.34367355117167,60.28430071039147,11.212991349273269,77.70216670424428,78.59452970977271,103.48751924601214,90.77127583301683,101.66855018634591,32.74374215547649,21.264495313866696,101.38913655970981,58.079578357022214,111.10088834632428,88.53984102659307,40.6365118338781,45.61580313623473,35.555904405601765,115.1277228453223,77.17033938918294,104.93258463227052,78.17664914898633,102.00606808913778,65.26589936800866,38.434380042149996,103.42832384790788,49.808371756782876,119.19588968287201,124.26642483213391,99.75264658359129,111.0766315645849,111.09555223890513,120.60840292400657,65.95173391720016,97.05733579345272,125.97166371757746,58.40548346845584,83.15366597164032,59.685574561221564,93.15778333580364,63.34788455172463,134.0937456131556,69.89076501543995,114.78764828886216,131.2108954447293,128.0274992951643,104.47064717481024,128.75313870894763,104.59308452781403,51.79845561889186,135.51855484881554,76.13278600276995,63.64118318482437,95.41586702000221,88.75222254334031,91.22132517779599,148.52593977292764,93.95444065881915,100.08068713565527,96.0602678955289,77.23400922389322,86.67029341101761,153.35910190871783,160.764138410335,108.66669930964818,118.93430473171439,126.51956881768092,85.95636709462178,128.08723096739323,102.91609173064488,108.12940517022147,74.27351964581061,99.63389808264958,108.90887917226163,171.91647551762566,84.16598956352156,138.91732250717732,80.76754902946043,112.91460520628327,101.11784576387083,107.6457751235821,156.13918927787614,155.6202285166048,118.92802148737087,121.77331667297994,124.99748703673794,141.9148823328547,96.83962632097638,94.84127601422855,178.4493627049195,94.49624740934581,147.07362028463933,108.98440298876295,183.86426427276695,130.1738951728776,111.71767723934016,117.49876507284787,172.0835374917694,166.62406297713318,107.94056978023069]}];\n",
       " var layout_ce259d8d64773a = {\"height\":550,\"width\":600,\"title\":{\"text\":\"Subplots\"},\"showlegend\":false,\"grid\":{\"rows\":2,\"columns\":2,\"pattern\":\"independent\"},\"xaxis\":{\"title\":{\"text\":\"x axis 1\"},\"showgrid\":true,\"zeroline\":false,\"showline\":false},\"xaxis2\":{\"title\":{\"text\":\"x axis 2\"},\"showgrid\":true,\"zeroline\":false,\"showline\":false},\"xaxis3\":{\"title\":{\"text\":\"x axis 3\"},\"showgrid\":true,\"zeroline\":false,\"showline\":false},\"xaxis4\":{\"title\":{\"text\":\"x axis 4\"},\"showgrid\":true,\"zeroline\":false,\"showline\":false},\"yaxis\":{\"title\":{\"text\":\"y axis 1\"},\"showgrid\":true,\"zeroline\":false,\"showline\":false},\"yaxis2\":{\"title\":{\"text\":\"y axis 2\"},\"showgrid\":true,\"zeroline\":false,\"showline\":false},\"yaxis3\":{\"title\":{\"text\":\"y axis 3\"},\"showgrid\":true,\"zeroline\":false,\"showline\":false},\"yaxis4\":{\"title\":{\"text\":\"y axis 4\"},\"showgrid\":true,\"zeroline\":false,\"showline\":false}};\n",
       " var config_ce259d8d64773a = {\"responsive\":true,\"scrollZoom\":true,\"displaylogo\":false};\n",
       " Plotly.newPlot(\"graph_ce259d8d64773a\", traces_ce259d8d64773a, layout_ce259d8d64773a, config_ce259d8d64773a);\n",
       "</script>\n"
      ]
     },
     "metadata": {},
     "output_type": "display_data"
    }
   ],
   "source": [
    "import picta.options.Subplot\n",
    "\n",
    "// 1. first we define the grid layout - 1 row, 2 columns\n",
    "val grid = Subplot(2, 2) // rename to subplot\n",
    "\n",
    "// 2. Now define the axes titles; two axis titles for each plot\n",
    "val ax1 = Axis(\"x\", title = \"x axis 1\")\n",
    "val ax2 = Axis(\"x2\", title = \"x axis 2\")\n",
    "val ax3 = Axis(\"x3\", title = \"x axis 3\")\n",
    "val ax4 = Axis(\"x4\", title = \"x axis 4\")\n",
    "val ax6 = Axis(\"y\", title = \"y axis 1\")\n",
    "val ax7 = Axis(\"y2\", title = \"y axis 2\")\n",
    "val ax8 = Axis(\"y3\", title = \"y axis 3\")\n",
    "val ax9 = Axis(\"y4\", title = \"y axis 4\")\n",
    "\n",
    "// 3. define the traces - notice how the axis maps to the xaxis and yaxis keys below:\n",
    "val data1 = XY(x, y, series_name=\"a\", series_type=SCATTER, series_mode=MARKERS)\n",
    "val data2 = XY(x, z, series_name=\"b\", series_type=SCATTER, series_mode=MARKERS, xaxis=\"x2\", yaxis=\"y2\")\n",
    "val data3 = XY(x, z, series_name=\"b\", series_type=SCATTER, series_mode=MARKERS, xaxis=\"x3\", yaxis=\"y3\")\n",
    "val data4 = XY(x, z, series_name=\"b\", series_type=SCATTER, series_mode=MARKERS, xaxis=\"x4\", yaxis=\"y4\")\n",
    "\n",
    "// 4. combine the axis and grid into a single layout component\n",
    "val layout = Layout(\"Subplots\") setAxes List(ax1, ax2, ax3, ax4, ax6, ax7, ax8, ax9) setSubplot grid\n",
    "\n",
    "// 5. construct into a chart. We do not need to put the series into a single list, but this is done as an example here\n",
    "val chart = Chart() setData List(data1, data2, data3, data4) setLayout layout\n",
    "\n",
    "chart.plot_inline()"
   ]
  },
  {
   "cell_type": "markdown",
   "metadata": {},
   "source": [
    "#### Map\n",
    "\n",
    "We can also create maps using the composition technique below."
   ]
  },
  {
   "cell_type": "code",
   "execution_count": 24,
   "metadata": {},
   "outputs": [
    {
     "data": {
      "text/html": [
       "\n",
       "<div align=\"center\">\n",
       "<div id='graph_ae67277818a34b' class='graph'></div>\n",
       "</div>\n",
       "<script>\n",
       " var traces_ae67277818a34b = [{\"lat\":[40.7127,51.5072],\"lon\":[-74.0059,0.1275],\"type\":\"scattergeo\",\"mode\":\"lines\",\"line\":{\"width\":2,\"color\":\"red\"}}];\n",
       " var layout_ae67277818a34b = {\"height\":550,\"width\":600,\"showlegend\":false,\"geo\":{\"resolution\":50,\"showland\":true,\"showlakes\":true,\"coastlinewidth\":2,\"landcolor\":\"rgb(204, 204, 204)\",\"lakecolor\":\"rgb(255, 255, 255)\",\"lataxis\":{\"range\":[20,60],\"showgrid\":true,\"dtick\":10},\"lonaxis\":{\"range\":[-100,20],\"showgrid\":true,\"dtick\":10}}};\n",
       " var config_ae67277818a34b = {\"responsive\":true,\"scrollZoom\":true,\"displaylogo\":false};\n",
       " Plotly.newPlot(\"graph_ae67277818a34b\", traces_ae67277818a34b, layout_ae67277818a34b, config_ae67277818a34b);\n",
       "</script>\n"
      ]
     },
     "metadata": {},
     "output_type": "display_data"
    }
   ],
   "source": [
    "import picta.options.Geo\n",
    "import picta.options.MapAxis\n",
    "import picta.options.LatAxis\n",
    "import picta.options.LongAxis\n",
    "import picta.series.Map\n",
    "\n",
    "val line = Line() setWidth 2 setColor \"red\"\n",
    "\n",
    "val data = Map(lat=List(40.7127, 51.5072), lon=List(-74.0059, 0.1275), series_mode = LINES) setLine line\n",
    "\n",
    "val geo = Geo(landcolor = \"rgb(204, 204, 204)\", lakecolor=\"rgb(255, 255, 255)\") setAxes(LatAxis(List(20, 60)), LongAxis(List(-100, 20)))  \n",
    "\n",
    "val layout = Layout() setGeo geo\n",
    "\n",
    "val chart = Chart() setData data setLayout layout\n",
    "\n",
    "chart.plot_inline()"
   ]
  },
  {
   "cell_type": "markdown",
   "metadata": {},
   "source": [
    "#### Animated Chart"
   ]
  },
  {
   "cell_type": "code",
   "execution_count": 25,
   "metadata": {},
   "outputs": [],
   "source": [
    "import picta.series.{XYSeries, XYZSeries}\n",
    "\n",
    "// creates random XY for testing purposes\n",
    "def createXYSeries(numberToCreate: Int, count: Int = 0, length: Int = 10, xaxis: String = \"x\", yaxis: String = \"y\"): List[XYSeries] = {\n",
    "    if (count == numberToCreate) Nil\n",
    "    else {\n",
    "      val xs = List.range(0, length)\n",
    "      val ys = xs.map(x => scala.util.Random.nextDouble() * x)\n",
    "      val trace = XY(x=xs, y = ys, series_name = \"trace\" + count, xaxis=xaxis, yaxis=yaxis)\n",
    "      trace :: createXYSeries(numberToCreate, count + 1, length, xaxis, yaxis)\n",
    "    }\n",
    "}\n",
    "\n",
    "def createXYZSeries(numberToCreate: Int, count: Int = 0, length: Int = 10, xaxis: String =\"x\", yaxis: String =\"y\"): List[XYZSeries] = {\n",
    "    if (count == numberToCreate) Nil\n",
    "    else {\n",
    "      val xs = List.range(0, length)\n",
    "      val ys = xs.map(x => scala.util.Random.nextDouble() * x)\n",
    "      val zs = xs.map(x => scala.util.Random.nextDouble() * x * scala.util.Random.nextInt())\n",
    "      val trace = XYZ(x=xs, y=ys, z=zs, series_name = \"trace\" + count, series_type = SCATTER3D, xaxis=xaxis, yaxis=yaxis)\n",
    "      trace :: createXYZSeries(numberToCreate, count + 1, length, xaxis, yaxis)\n",
    "    }\n",
    "}"
   ]
  },
  {
   "cell_type": "code",
   "execution_count": 26,
   "metadata": {
    "scrolled": false
   },
   "outputs": [
    {
     "data": {
      "text/html": [
       "\n",
       "<style>#animationInterface {\n",
       "    margin-top: 50px;\n",
       "    margin-bottom: 50px;\n",
       "}\n",
       "\n",
       ".progressBar {\n",
       "    padding-top: 20px;\n",
       "    padding-bottom: 20px;\n",
       "}\n",
       "\n",
       ".inline-div {\n",
       "    display: block;\n",
       "    text-align: center;\n",
       "}\n",
       "\n",
       "h3 {\n",
       "    display: inline-block;\n",
       "    text-align: center;\n",
       "}</style>\n",
       "<div align=\"center\">\n",
       "<div id='graph_95a734502b14fa' class=\"graph\"></div>\n",
       "<div class='animationInterface'>\n",
       "<button id='play_95a734502b14fa'>Play</button>\n",
       "<button id='pause_95a734502b14fa'>Pause</button>\n",
       "<div id=\"sliderContainer_95a734502b14fa\" class='progressBar'></div>\n",
       "<div>\n",
       "<div>\n",
       "   <div id='counterContainer_95a734502b14fa' class='inline-div'>\n",
       "      <h3>Frame: </h3><h3 id=\"value_95a734502b14fa\">0</h3>\n",
       "   </div>\n",
       "</div>\n",
       "</div>\n",
       "\n",
       "<script>\n",
       "//var graph_id = 'graph_95a734502b14fa'\n",
       "var graph_95a734502b14fa = document.getElementById('graph_95a734502b14fa')\n",
       "var traces_95a734502b14fa = [{\"name\":\"trace0\",\"type\":\"scatter\",\"xaxis\":\"x\",\"yaxis\":\"y\",\"x\":[0,1,2,3,4,5,6,7,8,9,10,11,12,13,14,15,16,17,18,19,20,21,22,23,24,25,26,27,28,29],\"y\":[0,0.3679939365571957,0.4812218579222871,1.5944080078015002,2.3692225052135214,1.5074972828954503,5.026288680531804,3.496978161519814,2.2508341975674684,7.934298414500283,8.856971353263086,4.266791665113316,3.027772027943101,0.891186420200655,1.676279791543464,8.001959564739513,7.439410908422053,2.1660306996604515,9.946542640029616,16.614865415336222,6.5318331135363845,15.903816762147155,5.839617265098829,22.6344370769929,22.28037411206499,9.694077438748366,18.11310042081394,1.2460962514172689,21.62309692085195,2.918834412928379]}]\n",
       "var layout_95a734502b14fa = {\"height\":550,\"width\":600,\"title\":{\"text\":\"Animation.XY\"},\"showlegend\":false,\"xaxis\":{\"title\":{\"text\":\"X Variable\"},\"showgrid\":true,\"zeroline\":false,\"showline\":false,\"range\":[0,10]},\"yaxis\":{\"title\":{\"text\":\"Y Variable\"},\"showgrid\":true,\"zeroline\":false,\"showline\":false,\"range\":[0,10]}}\n",
       "var frames_95a734502b14fa = [{\"name\":\"trace0\",\"data\":[{\"name\":\"trace0\",\"type\":\"scatter\",\"xaxis\":\"x\",\"yaxis\":\"y\",\"x\":[0,1,2,3,4,5,6,7,8,9,10,11,12,13,14,15,16,17,18,19,20,21,22,23,24,25,26,27,28,29],\"y\":[0,0.3679939365571957,0.4812218579222871,1.5944080078015002,2.3692225052135214,1.5074972828954503,5.026288680531804,3.496978161519814,2.2508341975674684,7.934298414500283,8.856971353263086,4.266791665113316,3.027772027943101,0.891186420200655,1.676279791543464,8.001959564739513,7.439410908422053,2.1660306996604515,9.946542640029616,16.614865415336222,6.5318331135363845,15.903816762147155,5.839617265098829,22.6344370769929,22.28037411206499,9.694077438748366,18.11310042081394,1.2460962514172689,21.62309692085195,2.918834412928379]}]},{\"name\":\"trace1\",\"data\":[{\"name\":\"trace1\",\"type\":\"scatter\",\"xaxis\":\"x\",\"yaxis\":\"y\",\"x\":[0,1,2,3,4,5,6,7,8,9,10,11,12,13,14,15,16,17,18,19,20,21,22,23,24,25,26,27,28,29],\"y\":[0,0.7883795398137213,0.674823918204543,0.12255746857130656,0.48089942352472903,4.983199040994128,0.06446820999490455,1.6597486893064102,1.533151233046758,8.954617239120298,4.905246887766452,5.1831131040833585,1.4513849142196138,5.148191295694156,10.644130360577787,3.0793358192990876,12.634395552333677,8.526583016305104,2.2722690575842988,11.509354637145556,7.596466133830937,20.23899633340483,13.48204568514291,8.880915760867813,21.82506936516704,17.652911707799948,5.708810958999333,14.390252737578114,16.1560411929714,18.753564197460747]}]},{\"name\":\"trace2\",\"data\":[{\"name\":\"trace2\",\"type\":\"scatter\",\"xaxis\":\"x\",\"yaxis\":\"y\",\"x\":[0,1,2,3,4,5,6,7,8,9,10,11,12,13,14,15,16,17,18,19,20,21,22,23,24,25,26,27,28,29],\"y\":[0,0.9753070014246491,1.3617198228970178,1.3988459712802004,0.77068911787376,4.55788535631957,5.842482691663488,3.648322372521235,5.533349073456068,7.360298287854121,3.2227120783132754,0.13167049694602373,8.587610563578213,1.642484902513167,6.283116676751783,10.345088867674406,13.603732679297934,3.172291383958958,6.34002656246671,13.40075370413567,0.46445372471227264,8.352677940119976,16.002639016577305,15.874731761856467,15.688304457762523,8.437954883112322,8.648568366164799,21.3998759115493,25.85333576867135,8.773999097399473]}]},{\"name\":\"trace3\",\"data\":[{\"name\":\"trace3\",\"type\":\"scatter\",\"xaxis\":\"x\",\"yaxis\":\"y\",\"x\":[0,1,2,3,4,5,6,7,8,9,10,11,12,13,14,15,16,17,18,19,20,21,22,23,24,25,26,27,28,29],\"y\":[0,0.18938001597288923,1.652330825001823,2.766986683343169,3.021882628586946,2.7141377309326304,5.537602887115921,2.8869023182438887,5.665418159195297,8.798846086290132,4.04056698542592,6.513166045419597,11.239128358517252,5.4248144984658655,2.0619220850308686,0.11207118801922544,5.890012717069464,9.12499405205243,17.02479691532606,7.08362106747276,0.6016667771921691,3.4587302890263514,21.52017675498651,1.6555538706831525,20.797457184692124,17.470432673982646,23.208295058090314,17.42251460539074,14.734123478714565,28.608919624077878]}]},{\"name\":\"trace4\",\"data\":[{\"name\":\"trace4\",\"type\":\"scatter\",\"xaxis\":\"x\",\"yaxis\":\"y\",\"x\":[0,1,2,3,4,5,6,7,8,9,10,11,12,13,14,15,16,17,18,19,20,21,22,23,24,25,26,27,28,29],\"y\":[0,0.029038682000866678,1.0415707308053384,0.49930914642186086,3.5216097423701664,4.056841166135813,5.078804441508742,1.1683442469911522,6.3123546738135685,8.29261368343299,7.590983884508687,10.050184321489137,0.6501039678691583,12.723290889715464,12.58226617063085,12.178762253734181,14.276440326352198,16.922531352529436,6.669568193228726,14.002590034196535,13.708678305991736,5.159875206787822,15.53536904744518,13.623684233823827,11.305958514804715,22.38205354860877,22.191662496687176,12.85786980857809,18.01289104783378,12.15044332753806]}]},{\"name\":\"trace5\",\"data\":[{\"name\":\"trace5\",\"type\":\"scatter\",\"xaxis\":\"x\",\"yaxis\":\"y\",\"x\":[0,1,2,3,4,5,6,7,8,9,10,11,12,13,14,15,16,17,18,19,20,21,22,23,24,25,26,27,28,29],\"y\":[0,0.6348212140507099,0.47156500924186906,2.772329163653217,3.40729814381917,3.3727701393169807,3.1224417725554154,1.7174009734754954,5.5922232193952865,8.602575933610732,4.268096677499294,0.8772086384615847,10.99046873448578,9.06668237864847,6.494576772033805,7.353300688653884,3.382061092926259,1.4091718298121436,7.348130635457558,15.60777339620106,1.5597827526029273,12.175775922905583,0.28471339337189683,10.226125325704691,5.2224074189812,18.93969061556604,10.051188784209804,20.927410817004336,27.429123218433652,3.512977448621098]}]},{\"name\":\"trace6\",\"data\":[{\"name\":\"trace6\",\"type\":\"scatter\",\"xaxis\":\"x\",\"yaxis\":\"y\",\"x\":[0,1,2,3,4,5,6,7,8,9,10,11,12,13,14,15,16,17,18,19,20,21,22,23,24,25,26,27,28,29],\"y\":[0,0.6926263919336019,1.5055762725562924,2.595368345305989,1.7232671095901053,4.167315024763067,3.233264047242621,6.985949543083906,6.139874549744868,1.994119825927589,1.2829517615347075,10.831134418210887,2.628767128301403,4.669759047933782,5.5556942021186595,13.700297662969646,6.3844379084480245,3.513876169878887,4.450221988086551,3.896647451284217,3.7619532731834493,9.38579764165139,13.872358908614443,1.2078053804430664,12.44490829138686,1.3150998696480483,23.39428236165593,2.7248121541487156,0.3135227889498222,13.103260170829294]}]},{\"name\":\"trace7\",\"data\":[{\"name\":\"trace7\",\"type\":\"scatter\",\"xaxis\":\"x\",\"yaxis\":\"y\",\"x\":[0,1,2,3,4,5,6,7,8,9,10,11,12,13,14,15,16,17,18,19,20,21,22,23,24,25,26,27,28,29],\"y\":[0,0.3649255941459003,1.9109160593896468,1.5698268758795364,1.6061816907677735,0.062404191195250536,3.481395236446229,1.6919092331459407,0.13648435169016437,3.974129738986965,4.284202228120375,0.4718139361895648,2.2598756035370537,0.32877538928577643,12.848359225741156,13.192510667332776,2.7918831384688314,0.12537142088035136,15.257018184932475,9.487710099215914,4.6092800126140006,6.151836063651501,15.28499230814207,15.948133283804285,7.778242962043944,7.455514790373741,0.7684703198316469,3.5799093543743497,10.645069398236888,17.345277180224972]}]},{\"name\":\"trace8\",\"data\":[{\"name\":\"trace8\",\"type\":\"scatter\",\"xaxis\":\"x\",\"yaxis\":\"y\",\"x\":[0,1,2,3,4,5,6,7,8,9,10,11,12,13,14,15,16,17,18,19,20,21,22,23,24,25,26,27,28,29],\"y\":[0,0.9413375993597671,0.88250038528823,2.5261727855174083,1.5003487681742156,1.6984085130479332,0.09032413712919207,2.073132804553193,3.9837872423768195,4.744932912571289,6.6486926537260285,4.5503485660805785,3.735615824690577,6.224692819331075,8.27429428183031,0.5390662924182005,8.255032511280174,8.085769154714411,9.91286692765959,3.4694969099042354,10.965413934026099,0.08705686771057597,21.298980202480934,20.75161538844244,13.095433244791959,3.0578676933961573,12.9455133172452,8.743648749059657,12.636182640264302,14.89036670281614]}]},{\"name\":\"trace9\",\"data\":[{\"name\":\"trace9\",\"type\":\"scatter\",\"xaxis\":\"x\",\"yaxis\":\"y\",\"x\":[0,1,2,3,4,5,6,7,8,9,10,11,12,13,14,15,16,17,18,19,20,21,22,23,24,25,26,27,28,29],\"y\":[0,0.8745402697077462,0.5504861613009604,0.6815041531207009,0.3473689304074066,3.0532077038839427,0.47675603937138344,3.7864633077163434,0.854012984283707,6.717554551416298,2.1351717231241296,5.137701030972905,3.802469783794649,9.870153513105203,9.678694000980345,2.64998552958929,6.001605543202677,15.30383725772157,6.660067173806885,0.2913795624917843,19.638642303123973,11.440478421360824,16.907217283247036,19.444878872404214,19.960016938874677,14.546377977642159,24.626379244484482,4.456271119097554,18.829608526617957,27.78527549729013]}]},{\"name\":\"trace10\",\"data\":[{\"name\":\"trace10\",\"type\":\"scatter\",\"xaxis\":\"x\",\"yaxis\":\"y\",\"x\":[0,1,2,3,4,5,6,7,8,9,10,11,12,13,14,15,16,17,18,19,20,21,22,23,24,25,26,27,28,29],\"y\":[0,0.8262228312710523,0.4398787208045041,1.708244779732878,3.881502290517272,1.01524203740655,0.8521502521229662,6.4604905481930075,6.264165904022563,3.1053371214900585,7.138987204834189,4.192428195765524,0.37735341358040175,12.89420029842644,0.36971457252533035,5.1424477131623805,0.42674020678900426,5.485160900658605,14.850334607905417,7.91372596651497,11.431665303925008,20.294798109767495,3.3952675158564714,11.449389120566185,7.9930910402611834,2.7395861220181397,25.69511394223716,18.238407758217015,10.624514753523046,14.578013130015236]}]},{\"name\":\"trace11\",\"data\":[{\"name\":\"trace11\",\"type\":\"scatter\",\"xaxis\":\"x\",\"yaxis\":\"y\",\"x\":[0,1,2,3,4,5,6,7,8,9,10,11,12,13,14,15,16,17,18,19,20,21,22,23,24,25,26,27,28,29],\"y\":[0,0.05962264708892995,1.6656395380713542,2.370371992085195,3.761793082036928,4.750262023852615,1.3809520169598912,6.0565870563571105,4.613483021566635,2.2123227693295227,2.4033681614921143,9.76417360034562,3.048286847158586,8.226328216177837,11.774243874810008,2.8598613685071346,1.252460149297276,14.986433649479345,16.635963645369362,10.508739233925557,12.798506422505431,11.279814840455353,12.533591042966405,4.925761756093667,7.417104612345106,9.729714375445644,23.455187321240437,15.353367882904275,24.707445508893112,10.831349372208102]}]},{\"name\":\"trace12\",\"data\":[{\"name\":\"trace12\",\"type\":\"scatter\",\"xaxis\":\"x\",\"yaxis\":\"y\",\"x\":[0,1,2,3,4,5,6,7,8,9,10,11,12,13,14,15,16,17,18,19,20,21,22,23,24,25,26,27,28,29],\"y\":[0,0.6959669549741696,1.1759136495841294,2.9243706837838532,0.2415538982539318,3.743958526570127,3.116233392490673,5.432891344677597,0.4497142509815397,6.793753686485242,5.470083452463741,5.844924658192927,1.7929495941423252,7.418051706562625,8.839168346615923,0.3757936067445439,10.811733947994794,9.618925290873717,4.5260335900448645,0.5346462648657698,7.1095003868912965,2.4247009108257087,7.757361222862553,19.726366416733757,1.0286598116719645,3.217544765867392,21.25140337418726,10.952599729001284,13.995409765948459,18.96412012780534]}]},{\"name\":\"trace13\",\"data\":[{\"name\":\"trace13\",\"type\":\"scatter\",\"xaxis\":\"x\",\"yaxis\":\"y\",\"x\":[0,1,2,3,4,5,6,7,8,9,10,11,12,13,14,15,16,17,18,19,20,21,22,23,24,25,26,27,28,29],\"y\":[0,0.014541115054040876,0.964555007460131,0.19533239995891793,0.05977593970847428,1.2294415361177402,0.9952111313352892,3.194550082388509,5.632368959041119,3.7253817245527068,0.8439969915085221,7.154450232079895,7.148072775625426,9.584607549147583,4.270174050235764,9.909716967302558,9.493363187855206,1.6925734894215512,9.412410739468015,10.220402777116442,6.634558221399196,14.78208178550447,2.6912829077849594,6.430487019389865,23.96241539653657,8.904645562101344,0.5470672829631027,23.82481602458388,0.1652330214147546,20.838180411383796]}]},{\"name\":\"trace14\",\"data\":[{\"name\":\"trace14\",\"type\":\"scatter\",\"xaxis\":\"x\",\"yaxis\":\"y\",\"x\":[0,1,2,3,4,5,6,7,8,9,10,11,12,13,14,15,16,17,18,19,20,21,22,23,24,25,26,27,28,29],\"y\":[0,0.6797085487090413,1.3719202197621447,1.9123489101407,0.5694304460167654,4.098738261040419,5.04173132791925,3.9833339022977228,6.4533129546286885,1.0226148493810423,5.476100469012629,2.206937797577152,3.982535049988255,6.629787430897897,1.4286485432435585,8.96203902207047,0.03170416896360706,2.344906491988676,6.064682235357788,11.261963718908095,7.665119457211851,4.212628418185832,19.23880271623812,15.681421044631389,13.749752266862457,24.968593149819636,0.8918640906970168,10.327841273668607,7.219563366364266,0.5000872647303883]}]},{\"name\":\"trace15\",\"data\":[{\"name\":\"trace15\",\"type\":\"scatter\",\"xaxis\":\"x\",\"yaxis\":\"y\",\"x\":[0,1,2,3,4,5,6,7,8,9,10,11,12,13,14,15,16,17,18,19,20,21,22,23,24,25,26,27,28,29],\"y\":[0,0.8794521252661064,1.2334422967142544,0.9503060262864425,2.8139882816360853,3.9145758190813016,5.588325909139097,3.0714545432799403,2.4461508228715108,0.020387262598920874,0.13062168995058188,7.1954213165603385,11.435456085001622,0.7608188769856428,2.7186315342902976,9.956782112019308,15.718098891270417,10.922601468074658,12.394168793265214,15.101267527518992,7.303960598763171,18.112238391608777,12.769367170740308,7.486407521370474,5.2163685987415915,10.484344959171985,14.751409364291078,22.161757811955553,14.212329581398688,26.027080623347803]}]},{\"name\":\"trace16\",\"data\":[{\"name\":\"trace16\",\"type\":\"scatter\",\"xaxis\":\"x\",\"yaxis\":\"y\",\"x\":[0,1,2,3,4,5,6,7,8,9,10,11,12,13,14,15,16,17,18,19,20,21,22,23,24,25,26,27,28,29],\"y\":[0,0.2622178449112309,0.416051600932577,1.3966919402493785,1.0328533529908528,1.5805478606395007,2.3261716645429735,3.816896588682555,5.729753515284324,2.7023915522574677,9.10506511880535,4.657527682489985,9.348634331076685,3.644531458904455,6.533330261228475,5.389532495457394,11.077041982424388,4.359452605259168,11.520163269106616,8.932846336039074,17.39457445366294,12.27087002069889,13.061347823701565,12.995176057513213,7.694571526753816,15.426756811070765,19.314227744605162,3.828945385435446,19.42421722669876,1.4317444241058515]}]},{\"name\":\"trace17\",\"data\":[{\"name\":\"trace17\",\"type\":\"scatter\",\"xaxis\":\"x\",\"yaxis\":\"y\",\"x\":[0,1,2,3,4,5,6,7,8,9,10,11,12,13,14,15,16,17,18,19,20,21,22,23,24,25,26,27,28,29],\"y\":[0,0.9622107858597027,0.24409681083314427,1.8020661051723845,2.3132926922885066,4.8765760276897545,5.877741562262591,3.377828232769826,4.3271422742305985,7.868218491714357,9.947652805209321,6.174394239598867,3.583941168669331,3.097106953357368,12.644097117110489,3.746886646144923,5.167568105188321,0.6511207223676534,17.455704446682688,17.848509679579976,3.3107317613335674,5.5830398354654065,5.730556951952743,5.036313105937023,16.965944980205713,14.537677006560534,13.054152028929153,5.873239656470328,10.953599706369125,5.073228127765294]}]},{\"name\":\"trace18\",\"data\":[{\"name\":\"trace18\",\"type\":\"scatter\",\"xaxis\":\"x\",\"yaxis\":\"y\",\"x\":[0,1,2,3,4,5,6,7,8,9,10,11,12,13,14,15,16,17,18,19,20,21,22,23,24,25,26,27,28,29],\"y\":[0,0.15489413234134786,1.3438013071444008,1.4319653718886272,2.8929048350061954,2.938953053655706,4.4559571744346425,6.8167929348052265,2.39279664703904,8.085155219131948,3.8134030632715055,1.3939795660778895,3.9668502597778637,3.743133683103915,5.559802248045193,5.075836911121718,1.2673654322898322,15.4894885310752,13.278390926011078,18.216542022147156,0.792311616651411,17.079640142031387,17.314894318922416,13.185804364844815,4.54048182898513,0.480425942887569,19.882778359450164,5.26447785072357,21.694467689091375,13.388894999090622]}]},{\"name\":\"trace19\",\"data\":[{\"name\":\"trace19\",\"type\":\"scatter\",\"xaxis\":\"x\",\"yaxis\":\"y\",\"x\":[0,1,2,3,4,5,6,7,8,9,10,11,12,13,14,15,16,17,18,19,20,21,22,23,24,25,26,27,28,29],\"y\":[0,0.5282164179665538,0.7569838780273488,1.3074740253779735,1.722207439877975,0.8611845403568252,0.1482473541896525,6.424641785610531,7.458361001849164,4.395874927498645,5.18560494162867,4.365655877991671,9.295757815899503,11.29054160159481,0.5233628645687372,12.524588422257938,12.851692992539395,5.259815587435724,4.270607594269535,18.817673807243043,9.043169041753888,11.048144116345956,17.19572622533881,14.270385667667414,13.686328925214221,7.870850308566984,6.523384947203004,0.32955914149563414,1.6471246427263257,14.99195580967107]}]},{\"name\":\"trace20\",\"data\":[{\"name\":\"trace20\",\"type\":\"scatter\",\"xaxis\":\"x\",\"yaxis\":\"y\",\"x\":[0,1,2,3,4,5,6,7,8,9,10,11,12,13,14,15,16,17,18,19,20,21,22,23,24,25,26,27,28,29],\"y\":[0,0.8818632052203407,0.8630417824925365,2.1832826249656136,0.7785988641878601,4.648671686616192,5.098409323711696,5.910920714799805,5.832756979839377,2.1739377395821275,5.350034109358211,7.1958624243672356,0.024207680443182777,3.7206748587163343,10.01312498430364,13.890676019222976,1.819543955497089,8.091123166762902,7.603486420958649,16.885649537151878,2.685852165801572,2.666981219250788,11.598534417397161,12.699233280874822,4.542243009224403,4.675612367741058,9.589035811975872,1.6758068226932876,5.89875824688075,8.130474455994435]}]},{\"name\":\"trace21\",\"data\":[{\"name\":\"trace21\",\"type\":\"scatter\",\"xaxis\":\"x\",\"yaxis\":\"y\",\"x\":[0,1,2,3,4,5,6,7,8,9,10,11,12,13,14,15,16,17,18,19,20,21,22,23,24,25,26,27,28,29],\"y\":[0,0.1642913482957047,0.11905953233210376,1.3882710075158542,2.4252654929666075,4.496733573022295,5.039092739542493,4.021167115624638,1.7069249448175343,7.637620496689188,7.450002387674466,2.5712153832616065,8.043196838727471,7.921060937571093,9.854504847433223,4.841466258325527,0.9236957477430146,11.700143305800385,7.69407455664929,5.376157196539324,7.119035976655777,14.147666761575318,4.292878424734387,15.178613738840578,9.289840368057899,9.234736092363663,22.536690628465582,3.1215775111262483,0.6814142312094043,16.133142899865344]}]},{\"name\":\"trace22\",\"data\":[{\"name\":\"trace22\",\"type\":\"scatter\",\"xaxis\":\"x\",\"yaxis\":\"y\",\"x\":[0,1,2,3,4,5,6,7,8,9,10,11,12,13,14,15,16,17,18,19,20,21,22,23,24,25,26,27,28,29],\"y\":[0,0.5600265943727639,1.1411272930294283,0.557560118518032,0.6636193439430715,0.7316476429917296,1.4698838442635354,0.7099062184344155,4.22987794753485,5.572784575110665,6.595051215814371,9.197965711497126,3.7094600191026963,11.835537984546148,0.20257904021647555,9.612892778086604,15.157500228065812,15.894479626822461,8.973434141264622,12.50536739757586,3.006797580276339,5.387431893084667,0.8496708212582644,1.8312266126492824,14.476950342508639,16.598494975441955,2.9479625681215804,5.272954838081545,21.738380066519674,21.09858796749383]}]},{\"name\":\"trace23\",\"data\":[{\"name\":\"trace23\",\"type\":\"scatter\",\"xaxis\":\"x\",\"yaxis\":\"y\",\"x\":[0,1,2,3,4,5,6,7,8,9,10,11,12,13,14,15,16,17,18,19,20,21,22,23,24,25,26,27,28,29],\"y\":[0,0.4791348820452871,1.8090487604945316,0.27029359579407664,2.9550713296238396,1.1967747940430757,2.52839643783114,4.106827286921289,4.130519530987454,8.172738886399049,7.48738336114108,3.1428519249120046,1.1916566706352825,9.674809116700137,5.016328715585036,2.944371339527461,14.01758383840063,9.860843175167458,8.146392216148232,13.240239666820637,16.141923299689505,5.352203291442449,9.73839500070453,16.228866144360897,15.034035595224164,13.692120501541902,16.676397610175112,6.359916654685046,27.69344621662053,21.648417073706092]}]},{\"name\":\"trace24\",\"data\":[{\"name\":\"trace24\",\"type\":\"scatter\",\"xaxis\":\"x\",\"yaxis\":\"y\",\"x\":[0,1,2,3,4,5,6,7,8,9,10,11,12,13,14,15,16,17,18,19,20,21,22,23,24,25,26,27,28,29],\"y\":[0,0.2552340014638014,0.32885354636244335,1.41847353966401,2.5944204450480326,3.553277863877061,3.0437905248508006,0.12651149145928797,7.022823891942324,1.394781138815215,4.729286881153244,2.663602680480141,2.710750296123672,8.83215552410472,5.403320881885445,0.5242040192137387,2.426187397697916,12.615890868812597,9.376794087857121,8.509496332214376,12.303507775245766,1.0858200968523373,6.765552951638068,19.89579573065562,9.304910498107866,21.931009569736307,16.49027240260058,0.08206921563659686,7.920034793589876,0.8497824622421771]}]},{\"name\":\"trace25\",\"data\":[{\"name\":\"trace25\",\"type\":\"scatter\",\"xaxis\":\"x\",\"yaxis\":\"y\",\"x\":[0,1,2,3,4,5,6,7,8,9,10,11,12,13,14,15,16,17,18,19,20,21,22,23,24,25,26,27,28,29],\"y\":[0,0.10309093960569504,0.3239208121041406,0.8539393835593673,2.2973914542833302,2.054668487873287,5.204267457501947,1.4811857071620382,7.389541414792484,8.348531038026481,9.46194017820087,2.136623250898145,3.767216745316028,5.9552275782299295,1.9693711536131533,14.256486938684247,11.737815050008116,3.143526468603915,2.564498582861008,18.84988369895314,14.944824491496336,7.3616722149447575,0.7570795472426832,6.5709105682224624,14.638054146410791,3.6215385241312905,4.58711538912213,22.590088908368767,23.06054861861517,16.320312723754984]}]},{\"name\":\"trace26\",\"data\":[{\"name\":\"trace26\",\"type\":\"scatter\",\"xaxis\":\"x\",\"yaxis\":\"y\",\"x\":[0,1,2,3,4,5,6,7,8,9,10,11,12,13,14,15,16,17,18,19,20,21,22,23,24,25,26,27,28,29],\"y\":[0,0.04382081789425951,0.6808311679786923,2.4686419223902742,2.30091413543359,2.238024844995161,5.054141086810586,6.43139395033958,3.805675189672524,8.381463398853173,6.559903796043831,0.13941273383261155,2.4721220067999266,6.816212634369381,12.567025301185025,10.126721581287025,9.500273128357547,11.983785515385943,6.954927958935556,8.060691091508486,2.0109536215594326,10.527241817427928,15.641515201763113,14.377648924831988,6.997868961618843,18.787476806771068,15.388372921228122,15.437119426799047,15.174716853373365,17.315645492318374]}]},{\"name\":\"trace27\",\"data\":[{\"name\":\"trace27\",\"type\":\"scatter\",\"xaxis\":\"x\",\"yaxis\":\"y\",\"x\":[0,1,2,3,4,5,6,7,8,9,10,11,12,13,14,15,16,17,18,19,20,21,22,23,24,25,26,27,28,29],\"y\":[0,0.4939126134435208,0.02881299577229912,1.9739215444601217,3.136144206120229,1.528197513686691,2.0350999144053947,2.5494656279890853,4.026590781339695,1.2951864040346404,2.283900945809064,6.656262761252649,7.190149007697354,1.739283658783795,6.51166053929025,2.9513456010268064,8.068226736468901,6.121683538349342,5.795344889026443,12.654872224636923,10.744635472832675,15.244464165898775,10.648662654644363,11.568053312175662,0.02347023511733415,5.870484687257576,25.435627947015405,9.233016639401855,17.6358913056339,7.135663582273731]}]},{\"name\":\"trace28\",\"data\":[{\"name\":\"trace28\",\"type\":\"scatter\",\"xaxis\":\"x\",\"yaxis\":\"y\",\"x\":[0,1,2,3,4,5,6,7,8,9,10,11,12,13,14,15,16,17,18,19,20,21,22,23,24,25,26,27,28,29],\"y\":[0,0.4995732487444423,0.20409834950506234,1.2644022380623703,1.2780020030969435,4.584998951489721,0.9045544426120116,2.8515692358718208,1.2908819784838688,7.5169092799025785,5.3134697761380325,8.543694706200082,4.48145585028265,6.035501308757448,10.242951407968647,5.911640223820337,1.1061817676790575,8.493544367773737,15.274589862106648,3.0524104680363178,13.278407117188774,12.287779935891535,10.932613655889753,1.0358644952959766,1.4781882411801766,18.148282419704554,25.06794063273862,11.197432637094968,27.295412231451607,6.197408023624126]}]},{\"name\":\"trace29\",\"data\":[{\"name\":\"trace29\",\"type\":\"scatter\",\"xaxis\":\"x\",\"yaxis\":\"y\",\"x\":[0,1,2,3,4,5,6,7,8,9,10,11,12,13,14,15,16,17,18,19,20,21,22,23,24,25,26,27,28,29],\"y\":[0,0.9429022775165047,0.008673843916163326,2.5288119534498144,1.7456861808409392,3.9319976656869606,3.5370519690252777,0.48047787651305496,5.114043799784287,2.740922269364515,8.395847861929358,3.128413312606529,3.479373687756034,4.170023137952887,7.777031459589471,8.763514051142907,3.545445481802469,13.874264164280065,8.298910128216463,4.036438861820083,6.853937813968405,20.750197869172585,17.072126837909053,9.265675140912055,2.7130942858184497,20.200663728199686,20.396421338085386,12.475046748781038,7.859049081749118,16.447446337914112]}]},{\"name\":\"trace30\",\"data\":[{\"name\":\"trace30\",\"type\":\"scatter\",\"xaxis\":\"x\",\"yaxis\":\"y\",\"x\":[0,1,2,3,4,5,6,7,8,9,10,11,12,13,14,15,16,17,18,19,20,21,22,23,24,25,26,27,28,29],\"y\":[0,0.7607532617457016,0.026560350442667247,1.2416220421982969,2.7582395977589256,3.8181987194030347,5.809434820873374,3.875550420803432,6.889684689888633,3.1434359484873964,1.6318094704191832,6.692453479198539,9.108514998654313,5.86277519454884,10.251731419154096,9.203169547551937,15.50426898505561,8.219301643548238,14.103625353357966,5.101231448039925,19.815776862337344,2.3327424045806393,13.390292236284777,8.061734292542337,2.3547763093719345,16.508373933863467,11.409067402762856,17.602976071895373,25.44030552497661,25.620488185375226]}]},{\"name\":\"trace31\",\"data\":[{\"name\":\"trace31\",\"type\":\"scatter\",\"xaxis\":\"x\",\"yaxis\":\"y\",\"x\":[0,1,2,3,4,5,6,7,8,9,10,11,12,13,14,15,16,17,18,19,20,21,22,23,24,25,26,27,28,29],\"y\":[0,0.4072510857016396,0.5634088126119101,2.5145821047154007,0.7573247263174432,4.694072958908712,4.484766276079393,2.559583046868039,6.059499748699507,1.5312896026039668,6.565734075829353,0.22042435584396558,7.741457155881991,9.479162620869397,8.950916668620495,4.9794575737995235,13.620117484605863,10.144555456631146,13.710373264559902,18.47037062888247,5.694087351573602,13.496017384141904,21.44537106094783,16.61982064097117,5.788360479040292,23.39158878085586,1.8068330666196502,4.32745373088793,18.259822601129294,11.999945559026553]}]},{\"name\":\"trace32\",\"data\":[{\"name\":\"trace32\",\"type\":\"scatter\",\"xaxis\":\"x\",\"yaxis\":\"y\",\"x\":[0,1,2,3,4,5,6,7,8,9,10,11,12,13,14,15,16,17,18,19,20,21,22,23,24,25,26,27,28,29],\"y\":[0,0.6101365767816994,1.124112121549806,1.0753362066414005,3.2029524176985986,1.1789443578126528,1.7733464851940892,0.8930011629802282,7.125583946863874,0.9032136833653186,6.867250475757548,8.500739461452651,3.882865102642184,8.48888293840392,7.847537040682446,7.354715958045245,8.506036092581686,6.367106981186862,6.837908432625109,6.400651549215699,13.75457040294071,5.260166972194322,13.233118094953916,6.435691636162655,0.13373526215214415,8.253853349023831,21.3303679476476,11.990794626546991,2.6474282645092453,25.464956638790085]}]},{\"name\":\"trace33\",\"data\":[{\"name\":\"trace33\",\"type\":\"scatter\",\"xaxis\":\"x\",\"yaxis\":\"y\",\"x\":[0,1,2,3,4,5,6,7,8,9,10,11,12,13,14,15,16,17,18,19,20,21,22,23,24,25,26,27,28,29],\"y\":[0,0.3695975475853096,0.77932993387522,1.58131425487833,0.921515531274689,0.9898902732129483,2.1219363395207456,2.811300270025378,3.3979613152108117,8.745804967892912,2.3154462895034564,4.360456734172727,1.1913439986941308,8.404731043106965,8.778136711696314,10.008148224806273,11.707424254352444,16.878407842824416,1.1800809787221085,17.450664173231242,14.826280319628765,6.211696405204742,0.24640806035702734,5.929105680973727,17.42312495888371,16.186210494049902,13.294003568411236,6.152591983394293,4.885231484731378,19.491521452928627]}]},{\"name\":\"trace34\",\"data\":[{\"name\":\"trace34\",\"type\":\"scatter\",\"xaxis\":\"x\",\"yaxis\":\"y\",\"x\":[0,1,2,3,4,5,6,7,8,9,10,11,12,13,14,15,16,17,18,19,20,21,22,23,24,25,26,27,28,29],\"y\":[0,0.12308662497914657,0.6800640683242907,2.1715765944751935,1.5211538800709148,4.259646394102845,3.3563952668578656,6.6668561725441835,1.51049172977336,3.7412418386523387,8.07271090338569,1.611505381628335,5.597536834485982,7.015106168857901,9.610142294375914,13.983507446209469,9.429408441871265,1.9540575223398289,6.690542174061902,13.86121110177605,18.92960203041403,18.657072947059063,5.480553515175527,19.576507696009582,15.823900467315958,6.76919152694655,3.1764116002281084,7.188799914969876,15.830885255914998,6.546711663810133]}]},{\"name\":\"trace35\",\"data\":[{\"name\":\"trace35\",\"type\":\"scatter\",\"xaxis\":\"x\",\"yaxis\":\"y\",\"x\":[0,1,2,3,4,5,6,7,8,9,10,11,12,13,14,15,16,17,18,19,20,21,22,23,24,25,26,27,28,29],\"y\":[0,0.8447692983045235,0.5882245651863229,2.848463388188173,2.256737742554031,1.7435261161916804,0.20136893324740535,3.164425064811535,2.188666223657923,0.3880731222957783,7.631337347046935,2.349918990533316,9.51060918762121,7.308810342464491,4.349318519731999,12.043289860536705,10.00647289592053,9.942923087930478,10.466590100602613,13.63714262932811,7.564931451347423,19.93292285132991,15.453459132934277,16.93957704863796,13.37887836422551,1.673389530384789,16.271518278125228,20.31223567498702,9.316295670744914,25.717436373964517]}]},{\"name\":\"trace36\",\"data\":[{\"name\":\"trace36\",\"type\":\"scatter\",\"xaxis\":\"x\",\"yaxis\":\"y\",\"x\":[0,1,2,3,4,5,6,7,8,9,10,11,12,13,14,15,16,17,18,19,20,21,22,23,24,25,26,27,28,29],\"y\":[0,0.4045081328187933,0.17275721832593494,0.5966021509337234,1.1826479108092824,4.088398296254868,4.577732106263322,5.412235593472747,5.677271071562553,3.7100099676792992,1.3184027299618206,7.500112291277788,9.245385570050948,0.7830599865657847,1.1267533307185134,2.495272249528573,2.9232278674262755,14.041967589029587,17.404734717865846,11.046735822921708,13.272737476621517,3.2044209410227897,19.311159599701437,6.230407269884468,16.349624393446053,15.860614956945634,9.39326661635357,19.277131636566015,17.478019142599656,13.051663249610638]}]},{\"name\":\"trace37\",\"data\":[{\"name\":\"trace37\",\"type\":\"scatter\",\"xaxis\":\"x\",\"yaxis\":\"y\",\"x\":[0,1,2,3,4,5,6,7,8,9,10,11,12,13,14,15,16,17,18,19,20,21,22,23,24,25,26,27,28,29],\"y\":[0,0.9163682833834618,0.8913752144970584,0.36151440004320967,1.6205672604223471,4.080060891685122,4.119740769840172,3.5370001704903817,2.173554407317031,3.8023241033013546,0.5582291140859297,9.369776911981997,3.032611147377892,6.709206700163438,5.877191036439976,4.097586012255164,3.2462784552764905,16.917540956226606,2.5022121943712206,4.6660239359940725,5.46034527852737,7.954994575438177,3.874987828449811,13.5247798735381,0.4635777814891071,13.70692682552079,7.736837017363616,24.73330668046541,9.702965127593952,15.672103726025256]}]},{\"name\":\"trace38\",\"data\":[{\"name\":\"trace38\",\"type\":\"scatter\",\"xaxis\":\"x\",\"yaxis\":\"y\",\"x\":[0,1,2,3,4,5,6,7,8,9,10,11,12,13,14,15,16,17,18,19,20,21,22,23,24,25,26,27,28,29],\"y\":[0,0.7450941761610137,0.29701963733694203,0.2868203348227597,1.7237282400265506,1.3029872142757966,1.7760851577332566,4.939088472968244,7.476423443091625,2.41480411943707,3.1407551931439004,1.179753055422471,10.541202706387399,12.898658976757751,9.654346382987939,7.872274769000719,15.420245267454273,3.3418184865342884,4.589655297560101,9.032707718948648,1.1701103550511016,12.07395539403047,11.101533633429945,14.308518170742229,13.925343307036348,11.75795212478283,0.47891980975461657,26.562570922370636,14.841094009802145,22.321534614918114]}]},{\"name\":\"trace39\",\"data\":[{\"name\":\"trace39\",\"type\":\"scatter\",\"xaxis\":\"x\",\"yaxis\":\"y\",\"x\":[0,1,2,3,4,5,6,7,8,9,10,11,12,13,14,15,16,17,18,19,20,21,22,23,24,25,26,27,28,29],\"y\":[0,0.7923045284590529,1.6793774707574605,0.7515875524890772,0.7580039131134098,2.1268983327771105,3.9102937636697734,5.229236455824315,4.143415119701271,1.2397973174614574,5.170964719454616,2.7750549274751233,8.05251998548016,9.91643438056107,3.7111041778379095,7.114283014704469,4.094172246203172,2.7840364311876202,8.58211253235497,8.069280437407174,17.53533208418951,20.50074568153444,1.6968780530377718,7.6821486573745865,3.8234766579797066,2.559470409832651,14.271295241933686,15.107089200618814,12.632242373989572,14.295777815665422]}]},{\"name\":\"trace40\",\"data\":[{\"name\":\"trace40\",\"type\":\"scatter\",\"xaxis\":\"x\",\"yaxis\":\"y\",\"x\":[0,1,2,3,4,5,6,7,8,9,10,11,12,13,14,15,16,17,18,19,20,21,22,23,24,25,26,27,28,29],\"y\":[0,0.18060058906660348,0.022381929465482786,2.9520295621944985,1.850919647166092,3.3007656577763536,5.275527198292859,2.4043752820775457,2.40875291595406,2.630999760609086,9.040488353629009,2.491472653656804,7.653723567024396,1.9935815709994502,8.396603460575147,6.5759301693793075,15.306003160486018,15.736697766072727,10.803965166036319,14.460223937326461,17.66941132614471,5.786092622419917,10.659720981827359,14.04804211967732,6.538656610601389,10.727757209481847,17.13477849311178,26.048028891554512,8.616294141343012,6.254923647150932]}]},{\"name\":\"trace41\",\"data\":[{\"name\":\"trace41\",\"type\":\"scatter\",\"xaxis\":\"x\",\"yaxis\":\"y\",\"x\":[0,1,2,3,4,5,6,7,8,9,10,11,12,13,14,15,16,17,18,19,20,21,22,23,24,25,26,27,28,29],\"y\":[0,0.31857891774694724,0.6196187839697926,0.36950748754502427,0.2766363922070778,4.5939091873735185,5.917260580586175,5.929466354133177,7.996820915601611,1.3626596188611537,3.2476690770746917,4.445870761332865,4.493784971388239,9.913670507756324,2.6877365678970184,1.9422680105180046,0.04060886922199458,9.120249387361246,17.4471767336755,14.786698566992403,10.633062095804245,3.416887714035764,5.212638681507166,11.83196198742119,18.054526012972026,7.202025835280623,15.552685993738255,21.140164904972092,27.656294040532817,4.825142895674421]}]},{\"name\":\"trace42\",\"data\":[{\"name\":\"trace42\",\"type\":\"scatter\",\"xaxis\":\"x\",\"yaxis\":\"y\",\"x\":[0,1,2,3,4,5,6,7,8,9,10,11,12,13,14,15,16,17,18,19,20,21,22,23,24,25,26,27,28,29],\"y\":[0,0.9349525905871889,0.4757342373142508,2.685195558968736,2.430235816438721,0.017431187206039533,4.296479698568544,6.714713024410394,2.1798931488755358,1.9108160906874125,2.9955958949783854,7.602101313243638,11.767768415371085,8.323321758690815,2.7854004523633593,4.449408705341553,15.719147393697918,16.346114558977405,15.22460893407022,5.7377346397275995,9.334001659686432,7.0427422372832,13.08675176334559,14.445793157548632,5.930838112177515,8.194764244301101,8.92141740739418,0.39688757735103275,1.9270585982934794,6.2210520952967485]}]},{\"name\":\"trace43\",\"data\":[{\"name\":\"trace43\",\"type\":\"scatter\",\"xaxis\":\"x\",\"yaxis\":\"y\",\"x\":[0,1,2,3,4,5,6,7,8,9,10,11,12,13,14,15,16,17,18,19,20,21,22,23,24,25,26,27,28,29],\"y\":[0,0.18456106837316588,1.311796648674585,0.40706148216595217,2.7677608088043613,4.813276786683738,4.5988595318312235,2.4614540923188484,4.766018051356013,4.931156819175364,0.7364543981900584,3.1186175253888884,10.221206932737326,3.5323924439414958,9.078061455118707,1.698318997228347,8.152454509411363,8.02445124789464,3.337479744903396,8.823897522765593,16.581114415652653,11.792044253940997,19.403691146739575,2.056458801117485,21.48711140506998,24.385912452466318,1.53611240218859,14.758721037095002,24.944049729359293,12.950393347867895]}]},{\"name\":\"trace44\",\"data\":[{\"name\":\"trace44\",\"type\":\"scatter\",\"xaxis\":\"x\",\"yaxis\":\"y\",\"x\":[0,1,2,3,4,5,6,7,8,9,10,11,12,13,14,15,16,17,18,19,20,21,22,23,24,25,26,27,28,29],\"y\":[0,0.568807935708161,0.9083744131793952,2.9238125036677185,0.10646188591495065,0.9731099409937388,0.7062547813858171,6.521772178369948,6.326652745587281,6.876887279876371,2.9413260340748204,10.754324252029907,5.217854359752998,7.325330677196341,9.225162735842423,12.696061537038641,14.226811984278472,4.173533488826134,1.1388437510969178,11.552688381301673,1.3257569055506502,3.112417988430316,6.682381816211933,16.39223044721158,6.955875237843832,7.226755726649348,4.536183880191121,26.39101271951866,7.877978163902858,3.4861713015714493]}]},{\"name\":\"trace45\",\"data\":[{\"name\":\"trace45\",\"type\":\"scatter\",\"xaxis\":\"x\",\"yaxis\":\"y\",\"x\":[0,1,2,3,4,5,6,7,8,9,10,11,12,13,14,15,16,17,18,19,20,21,22,23,24,25,26,27,28,29],\"y\":[0,0.6907030446765808,1.3278700843519686,0.29063400868672573,2.43710122848684,0.8896508530768449,1.09124203615146,5.1308857856572025,0.4230081814464599,4.4714516015928325,4.812380460531988,1.0574295527875202,0.47436631381525673,5.360181857218052,4.865249645444706,9.433648152539217,8.164977518552464,7.463060081923858,13.58734709586998,14.710143576565654,5.099340606344702,11.1876075060102,20.800459769851727,2.9743472131445854,10.615067545247323,24.083906687215848,0.7420250564547435,20.43251589905444,3.7815012671692827,0.19333142497474431]}]},{\"name\":\"trace46\",\"data\":[{\"name\":\"trace46\",\"type\":\"scatter\",\"xaxis\":\"x\",\"yaxis\":\"y\",\"x\":[0,1,2,3,4,5,6,7,8,9,10,11,12,13,14,15,16,17,18,19,20,21,22,23,24,25,26,27,28,29],\"y\":[0,0.8397719931987887,1.7671605832189545,1.0709842705822101,1.1289984411428153,0.4282432571193573,3.9202294304031,4.06033767300962,7.7791858209233835,1.3736436230272904,4.0930742572923915,5.51525456222714,8.18070114262599,11.753920524503524,9.13925603496396,2.356189176029165,10.446859788204247,8.141663902161998,1.5853688931482202,15.59644547868052,6.9587115145642215,0.12723294191377577,8.356031589919644,15.31986083715141,9.941335105178172,7.289663559974921,17.08222567830827,22.161511823269237,16.019720961098123,27.723888947001026]}]},{\"name\":\"trace47\",\"data\":[{\"name\":\"trace47\",\"type\":\"scatter\",\"xaxis\":\"x\",\"yaxis\":\"y\",\"x\":[0,1,2,3,4,5,6,7,8,9,10,11,12,13,14,15,16,17,18,19,20,21,22,23,24,25,26,27,28,29],\"y\":[0,0.9310759745810686,1.2563541887613936,0.9361144339111321,3.1283108189437336,4.2996869907621305,0.9138272125386764,5.164595520205973,5.568111985864439,7.367111646243305,0.9640676891931543,4.643848095123077,6.203758762107716,0.6697338495396883,10.875301518250861,2.0716866994475853,11.960874889500229,3.0440005003983037,3.514627929117754,2.541635426394601,6.476797576942932,9.189154732135677,13.881165992428862,7.409781320863343,3.507104080399748,8.820923802008402,20.811042838292565,18.830687810134755,7.5326497784213515,24.10166814928122]}]},{\"name\":\"trace48\",\"data\":[{\"name\":\"trace48\",\"type\":\"scatter\",\"xaxis\":\"x\",\"yaxis\":\"y\",\"x\":[0,1,2,3,4,5,6,7,8,9,10,11,12,13,14,15,16,17,18,19,20,21,22,23,24,25,26,27,28,29],\"y\":[0,0.308779937928067,0.836749160656175,0.7786981712969289,0.1678366166304781,0.9146282189459476,1.5440442507074368,6.792805332552258,0.8870714376117608,2.714871931029035,4.849433252316734,3.7532776113545623,2.285152823314209,1.4705099746299717,5.850952051094502,13.207591503729265,7.016876375694933,1.4264815848785695,3.2458173300194164,16.678262625138444,4.500724651650055,10.152339585311111,0.11135159033450903,13.47187424953588,11.666530749852198,23.325249173276706,11.38797302012214,12.032851185826875,24.764648258236214,7.220705355977149]}]},{\"name\":\"trace49\",\"data\":[{\"name\":\"trace49\",\"type\":\"scatter\",\"xaxis\":\"x\",\"yaxis\":\"y\",\"x\":[0,1,2,3,4,5,6,7,8,9,10,11,12,13,14,15,16,17,18,19,20,21,22,23,24,25,26,27,28,29],\"y\":[0,0.568310734841767,1.2618829822670323,2.2889379000950205,1.5169625032809044,2.687282643598572,1.5070013880003232,4.27808390661359,2.1423772989621845,5.556467710896066,4.129427967116218,4.961614787821827,9.525578662126236,7.9793904496678465,2.3818070020503344,10.290117485807516,6.562806515295348,16.371310853565685,11.225949042052287,10.559021078435714,15.01568942467232,2.2215055317147927,1.1538966841036362,8.885024465017821,15.155974044379237,20.992003409818057,0.64336960305613,23.848756163871137,9.184752596046465,4.00412148177454]}]}]\n",
       "var labels_95a734502b14fa = [\"trace0\",\"trace1\",\"trace2\",\"trace3\",\"trace4\",\"trace5\",\"trace6\",\"trace7\",\"trace8\",\"trace9\",\"trace10\",\"trace11\",\"trace12\",\"trace13\",\"trace14\",\"trace15\",\"trace16\",\"trace17\",\"trace18\",\"trace19\",\"trace20\",\"trace21\",\"trace22\",\"trace23\",\"trace24\",\"trace25\",\"trace26\",\"trace27\",\"trace28\",\"trace29\",\"trace30\",\"trace31\",\"trace32\",\"trace33\",\"trace34\",\"trace35\",\"trace36\",\"trace37\",\"trace38\",\"trace39\",\"trace40\",\"trace41\",\"trace42\",\"trace43\",\"trace44\",\"trace45\",\"trace46\",\"trace47\",\"trace48\",\"trace49\"]\n",
       "var duration_95a734502b14fa = 100\n",
       "\n",
       "var animation_settings_95a734502b14fa = {\n",
       "    mode: \"immediate\",\n",
       "    direction: {},\n",
       "    fromcurrent: true,\n",
       "    frame: [\n",
       "      {duration: duration_95a734502b14fa},\n",
       "      {duration: duration_95a734502b14fa},\n",
       "      {redraw: true}\n",
       "    ],\n",
       "    transition: [\n",
       "      {duration: duration_95a734502b14fa, easing: 'cubic-in-out'},\n",
       "      {duration: duration_95a734502b14fa, easing: 'cubic-in-out'},\n",
       "    ],\n",
       "    ordering: \"layout first\"\n",
       "}\n",
       "\n",
       "var slider_95a734502b14fa = document.createElement(\"input\")\n",
       "var play_95a734502b14fa = document.getElementById(\"play_95a734502b14fa\")\n",
       "var pause_95a734502b14fa = document.getElementById(\"pause_95a734502b14fa\")\n",
       "slider_95a734502b14fa.id = \"slider_95a734502b14fa\"\n",
       "slider_95a734502b14fa.type = \"range\"\n",
       "slider_95a734502b14fa.min = 0\n",
       "slider_95a734502b14fa.max = frames_95a734502b14fa.length - 1\n",
       "slider_95a734502b14fa.value = 0\n",
       "document.getElementById(\"sliderContainer_95a734502b14fa\").appendChild(slider_95a734502b14fa);\n",
       "\n",
       "Plotly.newPlot(graph_95a734502b14fa, traces_95a734502b14fa, layout_95a734502b14fa)\n",
       ".then(function () { Plotly.addFrames(graph_95a734502b14fa, frames_95a734502b14fa) })\n",
       "\n",
       "var trigger_95a734502b14fa = true\n",
       "var reset_count_95a734502b14fa = false\n",
       "\n",
       "\n",
       "play_95a734502b14fa.addEventListener('click', function() {\n",
       "   trigger_95a734502b14fa = true\n",
       "   if (reset_count_95a734502b14fa) {\n",
       "      slider_95a734502b14fa.value = 0\n",
       "      reset_count_95a734502b14fa = false\n",
       "   }\n",
       "\n",
       "  const start_index = slider_95a734502b14fa.value == labels_95a734502b14fa.length - 1 ? 0 : slider_95a734502b14fa.value\n",
       "  const end_index = labels_95a734502b14fa.length\n",
       "  Plotly.animate(graph_95a734502b14fa, labels_95a734502b14fa.slice(start_index, end_index), animation_settings_95a734502b14fa)\n",
       "})\n",
       "\n",
       "pause_95a734502b14fa.addEventListener('click', function() {\n",
       "  Plotly.animate(graph_95a734502b14fa, [null], animation_settings_95a734502b14fa)\n",
       "})\n",
       "\n",
       "graph_95a734502b14fa.on('plotly_redraw', () => {\n",
       "   value_95a734502b14fa.innerHTML = slider_95a734502b14fa.value;\n",
       "   if (trigger_95a734502b14fa & !reset_count_95a734502b14fa) ++slider_95a734502b14fa.value\n",
       "   if (slider_95a734502b14fa.value == labels_95a734502b14fa.length - 1) reset_count_95a734502b14fa = true\n",
       "});\n",
       "\n",
       "slider_95a734502b14fa.oninput = function() {\n",
       "   Plotly.animate(graph_95a734502b14fa, frames_95a734502b14fa[this.value], animation_settings_95a734502b14fa)\n",
       "   trigger_95a734502b14fa = false\n",
       "   slider_95a734502b14fa.value = this.value\n",
       "   value_95a734502b14fa.innerHTML = this.value;\n",
       "   if (this.value == 0) reset_count_95a734502b14fa = false\n",
       "   if (this.value == labels_95a734502b14fa.length - 1) reset_count_95a734502b14fa = true\n",
       "   reset_count_95a734502b14fa = false\n",
       "}\n",
       "</script>\n"
      ]
     },
     "metadata": {},
     "output_type": "display_data"
    }
   ],
   "source": [
    "val xaxis = Axis(position = \"xaxis\", title = \"X Variable\", range = (0.0, 10.0))\n",
    "\n",
    "val yaxis = Axis(position = \"yaxis\", title = \"Y Variable\", range = (0.0, 10.0))\n",
    "\n",
    "val layout = Layout(\"Animation.XY\") setAxes(xaxis, yaxis)\n",
    "\n",
    "val data = createXYSeries(numberToCreate = 50, length = 30)\n",
    "\n",
    "val chart = Chart(animated = true) setLayout layout setData data\n",
    "\n",
    "chart.plot_inline()"
   ]
  },
  {
   "cell_type": "code",
   "execution_count": 27,
   "metadata": {},
   "outputs": [
    {
     "data": {
      "text/html": [
       "\n",
       "<style>#animationInterface {\n",
       "    margin-top: 50px;\n",
       "    margin-bottom: 50px;\n",
       "}\n",
       "\n",
       ".progressBar {\n",
       "    padding-top: 20px;\n",
       "    padding-bottom: 20px;\n",
       "}\n",
       "\n",
       ".inline-div {\n",
       "    display: block;\n",
       "    text-align: center;\n",
       "}\n",
       "\n",
       "h3 {\n",
       "    display: inline-block;\n",
       "    text-align: center;\n",
       "}</style>\n",
       "<div align=\"center\">\n",
       "<div id='graph_4e03dfd48b3490' class=\"graph\"></div>\n",
       "<div class='animationInterface'>\n",
       "<button id='play_4e03dfd48b3490'>Play</button>\n",
       "<button id='pause_4e03dfd48b3490'>Pause</button>\n",
       "<div id=\"sliderContainer_4e03dfd48b3490\" class='progressBar'></div>\n",
       "<div>\n",
       "<div>\n",
       "   <div id='counterContainer_4e03dfd48b3490' class='inline-div'>\n",
       "      <h3>Frame: </h3><h3 id=\"value_4e03dfd48b3490\">0</h3>\n",
       "   </div>\n",
       "</div>\n",
       "</div>\n",
       "\n",
       "<script>\n",
       "//var graph_id = 'graph_4e03dfd48b3490'\n",
       "var graph_4e03dfd48b3490 = document.getElementById('graph_4e03dfd48b3490')\n",
       "var traces_4e03dfd48b3490 = [{\"name\":\"trace0\",\"type\":\"scatter3d\",\"xaxis\":\"x\",\"yaxis\":\"y\",\"x\":[0,1,2,3,4,5,6,7,8,9],\"y\":[0,0.5992318640081179,0.5546631963162365,2.6213490470400096,0.4852665960171332,3.0485637045535134,4.189021289275752,6.944009633102752,2.8514348906799416,8.926963277341086],\"z\":[0,3.140632529545984E8,4.702358727512534E8,-9.340294033226188E8,3.7437690436020875E8,-4.319839709578828E9,-1.7545434718292854E9,-2.0342237435758133E9,2.2914720871623507E9,4.417531590925184E9]}]\n",
       "var layout_4e03dfd48b3490 = {\"height\":550,\"width\":600,\"title\":{\"text\":\"Animation.XYZ\"},\"showlegend\":false}\n",
       "var frames_4e03dfd48b3490 = [{\"name\":\"trace0\",\"data\":[{\"name\":\"trace0\",\"type\":\"scatter3d\",\"xaxis\":\"x\",\"yaxis\":\"y\",\"x\":[0,1,2,3,4,5,6,7,8,9],\"y\":[0,0.5992318640081179,0.5546631963162365,2.6213490470400096,0.4852665960171332,3.0485637045535134,4.189021289275752,6.944009633102752,2.8514348906799416,8.926963277341086],\"z\":[0,3.140632529545984E8,4.702358727512534E8,-9.340294033226188E8,3.7437690436020875E8,-4.319839709578828E9,-1.7545434718292854E9,-2.0342237435758133E9,2.2914720871623507E9,4.417531590925184E9]}]},{\"name\":\"trace1\",\"data\":[{\"name\":\"trace1\",\"type\":\"scatter3d\",\"xaxis\":\"x\",\"yaxis\":\"y\",\"x\":[0,1,2,3,4,5,6,7,8,9],\"y\":[0,0.5216552124505893,1.456571046326584,0.44110922356177107,1.2271522078621064,1.7000123327951833,0.28482193885607376,4.023185068553816,2.5048739263470265,3.4251114849013864],\"z\":[0,9.840767419589245E8,1.881104383228228E9,2.1545591840571623E9,9.28180653537121E7,1.371068940129735E9,1.4421136673023066E8,1.2384556203745806E9,-4.465488335121932E9,5.654699827658961E9]}]},{\"name\":\"trace2\",\"data\":[{\"name\":\"trace2\",\"type\":\"scatter3d\",\"xaxis\":\"x\",\"yaxis\":\"y\",\"x\":[0,1,2,3,4,5,6,7,8,9],\"y\":[0,0.42974334387097046,1.0926069639382585,2.6403077039887792,0.6813140507162991,3.485292032905221,1.8545361446236603,3.2808047674197702,1.353784722123632,5.955230966332578],\"z\":[0,8.095338917897356E8,-2.519633683725369E8,2.721627838068645E9,5.0427726009319955E8,-8.644232486177502E8,4.8490075826708294E7,5.041938337435008E9,1.3640260932793488E10,-7.069795559301465E9]}]},{\"name\":\"trace3\",\"data\":[{\"name\":\"trace3\",\"type\":\"scatter3d\",\"xaxis\":\"x\",\"yaxis\":\"y\",\"x\":[0,1,2,3,4,5,6,7,8,9],\"y\":[0,0.5780867781233235,1.0229447240877956,0.3191230773573066,0.9181440516259398,4.62069591241299,3.875375509678844,1.2455660798171222,7.988190481701851,0.8459044485095698],\"z\":[0,-6.85870385777832E8,-1.2824851345078489E8,-1.4590913940937912E8,-3.8155502783963126E8,2.1664004179847026E8,3.716170941105983E9,1.8106190575805924E9,-8.38296323930079E8,-6.080702326345151E9]}]},{\"name\":\"trace4\",\"data\":[{\"name\":\"trace4\",\"type\":\"scatter3d\",\"xaxis\":\"x\",\"yaxis\":\"y\",\"x\":[0,1,2,3,4,5,6,7,8,9],\"y\":[0,0.7300952807440435,0.11314893588038899,1.4183439780323288,0.9018829772754735,2.717702066479153,4.589918625210817,4.084881314055008,1.0159449272315655,4.931720211732694],\"z\":[0,1.2180256025702359E8,-4.121626963542012E8,-1.0683815259205111E9,2.287727117958515E9,5.870974206612103E8,2.00540568065412E9,-8.686649661750338E9,3.336846450708676E8,-1.5141967955966587E10]}]},{\"name\":\"trace5\",\"data\":[{\"name\":\"trace5\",\"type\":\"scatter3d\",\"xaxis\":\"x\",\"yaxis\":\"y\",\"x\":[0,1,2,3,4,5,6,7,8,9],\"y\":[0,0.6299746795652513,0.7057532313660704,1.3539529076670889,1.3979342169935904,4.2757509200166135,2.144402586610738,0.8723070375650307,4.2524281504582335,3.8127305347785785],\"z\":[0,-1.2328153137817982E8,2.4932512763357647E7,-2.423236221986296E8,4.647864841302072E9,2.3147631064320037E8,-3.142279888781013E9,-6.118529180847024E9,-1.7920791070661128E8,-3.7396816173166986E9]}]},{\"name\":\"trace6\",\"data\":[{\"name\":\"trace6\",\"type\":\"scatter3d\",\"xaxis\":\"x\",\"yaxis\":\"y\",\"x\":[0,1,2,3,4,5,6,7,8,9],\"y\":[0,0.8099550345148068,0.008708170566591678,2.864464573993446,2.8261035709913913,2.565939189355972,2.5136841412443083,5.6055639283409,4.686315963964026,6.183145060982282],\"z\":[0,5.89371882458911E8,1.4908606267583761E9,-2.1353263911891632E9,3.4413950298678064E9,1.704953080312192E9,1.0725404769444262E9,-1.0846592922538891E8,3.242128718624799E9,-4.6824261183670586E8]}]},{\"name\":\"trace7\",\"data\":[{\"name\":\"trace7\",\"type\":\"scatter3d\",\"xaxis\":\"x\",\"yaxis\":\"y\",\"x\":[0,1,2,3,4,5,6,7,8,9],\"y\":[0,0.482127797585588,0.1140628333145457,2.403515347120786,0.28253341490769746,4.622477554604954,3.4538585464223184,4.417270576691416,0.5071724920621321,7.111940605999827],\"z\":[0,1.4777919604557357E9,1.1818169176482934E8,3.987120272142643E9,4.4273525048795474E8,1.9308979567852712E8,4.146646449690986E9,-1.0231576334552647E8,1.1904935091068031E10,-1.126668076888885E10]}]},{\"name\":\"trace8\",\"data\":[{\"name\":\"trace8\",\"type\":\"scatter3d\",\"xaxis\":\"x\",\"yaxis\":\"y\",\"x\":[0,1,2,3,4,5,6,7,8,9],\"y\":[0,0.05444053824818662,1.2113776024761433,2.4733596713396966,2.593520476594072,1.8088520688415044,0.3189457943988505,3.882444123449943,6.5564328045951035,8.682058729140133],\"z\":[0,3.4266678707694757E8,2.2178647118094816E9,1.9208441295421681E9,2.2902738252559114E9,2.750931056475072E9,3.619005703900873E9,1.2278688315730875E9,1.3541488304462612E10,3.552902053103537E8]}]},{\"name\":\"trace9\",\"data\":[{\"name\":\"trace9\",\"type\":\"scatter3d\",\"xaxis\":\"x\",\"yaxis\":\"y\",\"x\":[0,1,2,3,4,5,6,7,8,9],\"y\":[0,0.19782942058145192,0.5138893403047715,2.1596506790647445,2.780673600256332,1.8294554342763292,3.841779635189792,5.4764098411496045,3.927006618247198,1.0552669933937628],\"z\":[0,9.035571128246642E8,1.48997642000738E9,-3.47865705155283E9,-1.5176154553347528E9,7.133176056330605E9,-2.9307686579515433E9,-3.409428536413132E8,-9.406828278958996E9,-7.808979033948264E8]}]},{\"name\":\"trace10\",\"data\":[{\"name\":\"trace10\",\"type\":\"scatter3d\",\"xaxis\":\"x\",\"yaxis\":\"y\",\"x\":[0,1,2,3,4,5,6,7,8,9],\"y\":[0,0.2545835030371596,0.24587935161486962,0.6806831815711847,3.8080253678317857,3.5707283087047665,4.730443030103129,6.3430957507339905,1.4750710603682586,3.8050983450613067],\"z\":[0,1.5534352579702268E9,6.095047797578114E8,-9.075991026501481E7,-4.114538874558928E9,-1.309487787188352E9,2.477638366054201E9,3.9213629212569737E9,-6.830198045391142E9,6.046061886006291E8]}]},{\"name\":\"trace11\",\"data\":[{\"name\":\"trace11\",\"type\":\"scatter3d\",\"xaxis\":\"x\",\"yaxis\":\"y\",\"x\":[0,1,2,3,4,5,6,7,8,9],\"y\":[0,0.5651591132968389,1.3506211248674014,2.3409774850100473,3.9023083395853506,3.3661907104016375,0.4180244727806266,5.932848363475077,1.0547642796327912,5.682813820988597],\"z\":[0,6.123455874405259E8,2.5737522263137054E9,-3720308.1240861174,-2.521012514869488E9,-1.1703929322286246E9,-4.7284245802547735E8,-2.800387275615574E9,3.250015990659071E9,1.25604126952461E10]}]},{\"name\":\"trace12\",\"data\":[{\"name\":\"trace12\",\"type\":\"scatter3d\",\"xaxis\":\"x\",\"yaxis\":\"y\",\"x\":[0,1,2,3,4,5,6,7,8,9],\"y\":[0,0.42315930120769474,1.223668453177659,2.11543199643577,1.1098513560591576,4.908739871914971,1.1425979571560247,5.190046515099539,5.001370773869029,4.228566194990147],\"z\":[0,-1.9095598574097624E8,-1.531438786606772E8,5.507941794623564E8,2.5884705784275346E9,1.7378313771483462E9,-2.8655445965289197E9,1.9422124977214937E9,-7.566853475723523E7,1.109961131774105E10]}]},{\"name\":\"trace13\",\"data\":[{\"name\":\"trace13\",\"type\":\"scatter3d\",\"xaxis\":\"x\",\"yaxis\":\"y\",\"x\":[0,1,2,3,4,5,6,7,8,9],\"y\":[0,0.5659540829898244,0.7780452921372327,0.43809664617579436,0.5532878055162,1.5037259808603853,4.837380371100552,4.732811820044165,1.6049566890776914,8.45867959010789],\"z\":[0,-6.26250715739282E8,-1.07872290163403E9,-9.96344683956701E8,-6.326243415031165E9,6.277539640723995E9,-5.3105537030539185E8,1.0933131137052289E8,-1.6232478437247527E8,7.56563861923715E9]}]},{\"name\":\"trace14\",\"data\":[{\"name\":\"trace14\",\"type\":\"scatter3d\",\"xaxis\":\"x\",\"yaxis\":\"y\",\"x\":[0,1,2,3,4,5,6,7,8,9],\"y\":[0,0.40725911885650334,1.4114998325571142,1.9245761909423673,0.020933640912468743,1.8955330089108995,0.04409331484415091,1.9951346881231031,6.271954327193909,6.498675007089478],\"z\":[0,8.750649895564912E7,-9.68663366938392E8,7.358919670072544E8,1.9963103455718973E9,-5.70357934717525E9,2.7490605149667635E9,1.360473123721108E9,1.8131713048183684E9,-1.7132551208351836E9]}]},{\"name\":\"trace15\",\"data\":[{\"name\":\"trace15\",\"type\":\"scatter3d\",\"xaxis\":\"x\",\"yaxis\":\"y\",\"x\":[0,1,2,3,4,5,6,7,8,9],\"y\":[0,0.2297260120072221,0.9375861285740243,0.08792706304470288,1.688316306999722,2.0631577314349103,0.38736485800450704,5.881403560151586,4.17254166572801,4.888047698665213],\"z\":[0,1.1937990205863812E9,5.9926642583603E8,3.31517426195612E8,-3.1212600312112436E9,-2.066243059858638E9,-1.868921753894508E8,-2.7377602268283205E9,4.966450162216439E9,-2.7382054639487505E9]}]},{\"name\":\"trace16\",\"data\":[{\"name\":\"trace16\",\"type\":\"scatter3d\",\"xaxis\":\"x\",\"yaxis\":\"y\",\"x\":[0,1,2,3,4,5,6,7,8,9],\"y\":[0,0.5528168060263329,0.15478380420063864,2.7707781288086526,3.3727769902466718,0.020273355294989637,5.171738210738418,2.3895757786975054,6.696133114507857,7.155225256352162],\"z\":[0,6.974349212187862E7,-1.327956801957139E8,3.037067847177065E8,-2.8138368446877217E9,4.086855768558931E9,6.3123953689297E8,8.63087607274674E8,-9.928558037481321E8,4.840329208045027E9]}]},{\"name\":\"trace17\",\"data\":[{\"name\":\"trace17\",\"type\":\"scatter3d\",\"xaxis\":\"x\",\"yaxis\":\"y\",\"x\":[0,1,2,3,4,5,6,7,8,9],\"y\":[0,0.580063712816415,0.12404158496762197,0.38149276215451433,3.869548003145722,1.7912084684552205,2.21443308767475,0.9651287678945183,5.441954277484725,5.322885683045326],\"z\":[0,1.910824565391097E8,-5.0358237277297515E8,6.848670546226863E8,-1.9770886516613376E9,-8.26947328106007E8,2.0181890567142994E9,-3.2413103142528014E9,-7.492722590340469E9,-6.253649403947862E9]}]},{\"name\":\"trace18\",\"data\":[{\"name\":\"trace18\",\"type\":\"scatter3d\",\"xaxis\":\"x\",\"yaxis\":\"y\",\"x\":[0,1,2,3,4,5,6,7,8,9],\"y\":[0,0.005208910535769107,1.5104338415239835,2.933958519927322,0.9478230198873092,4.406384223849206,5.764362446936254,3.037545790512274,6.196569756308355,1.3016044014034187],\"z\":[0,1.288689917225992E8,1.4633821673958303E7,4.073187371287572E8,-1.7735330087152462E9,-9.197635680836294E9,7.542628781328738E8,1.437040863467376E9,1.806031031048479E9,-2.824161618663969E8]}]},{\"name\":\"trace19\",\"data\":[{\"name\":\"trace19\",\"type\":\"scatter3d\",\"xaxis\":\"x\",\"yaxis\":\"y\",\"x\":[0,1,2,3,4,5,6,7,8,9],\"y\":[0,0.9160438913128335,1.4826268381981824,0.7263103751612211,1.3796454583290405,3.8819335490625386,5.698563259966754,3.8697725860340824,5.286635467462537,3.4379805909991585],\"z\":[0,4.811559469923028E8,-2.2548893154204726E9,-3.991840336951211E8,2.597842934121334E9,1.8741842140207405E9,6.31867914112405E9,3.7524230095905824E9,1.105505627133611E10,9.822184382707013E7]}]},{\"name\":\"trace20\",\"data\":[{\"name\":\"trace20\",\"type\":\"scatter3d\",\"xaxis\":\"x\",\"yaxis\":\"y\",\"x\":[0,1,2,3,4,5,6,7,8,9],\"y\":[0,0.4567208371983523,1.1116751205355153,2.5790883714782074,0.6497144562410702,0.509933126248629,1.2416924002262095,0.06434372820526635,3.7192732546625447,7.627547061203021],\"z\":[0,7.643250326561776E8,4.590095587921606E8,3.582363036023336E9,8.368734425091381E8,-2.547367973763495E9,6.874041875870206E9,-1.5567986701853055E8,7.34604549750446E9,1.9575851829428275E9]}]},{\"name\":\"trace21\",\"data\":[{\"name\":\"trace21\",\"type\":\"scatter3d\",\"xaxis\":\"x\",\"yaxis\":\"y\",\"x\":[0,1,2,3,4,5,6,7,8,9],\"y\":[0,0.18645059481865656,0.31313979230416544,1.8365482424675257,2.891593389197953,1.7850721398417613,5.329750381618634,3.711925932568567,5.751744370075355,3.6969804980360563],\"z\":[0,1.3413889599705146E8,-5.938724001139083E7,-4.1068497393731728E9,1.9883111826484869E9,-4.0217191175574007E9,3.0209598048628445E9,1.9684236765635364E9,-7.354902343536277E8,-6.444059721979396E8]}]},{\"name\":\"trace22\",\"data\":[{\"name\":\"trace22\",\"type\":\"scatter3d\",\"xaxis\":\"x\",\"yaxis\":\"y\",\"x\":[0,1,2,3,4,5,6,7,8,9],\"y\":[0,0.6169302134738082,1.6206916663567517,0.317734488572778,3.021834803803996,3.604470706053981,1.2679220657806456,5.678598906767886,4.210578282962209,5.983940092863245],\"z\":[0,-1.8061693531521828E9,3.0959126617785907E8,9.966609932233232E7,1.1286966647693615E9,7.270996029699459E8,-3.888745364086699E9,3.5103385982198626E8,1.2159614213756583E9,-5.602399655974209E9]}]},{\"name\":\"trace23\",\"data\":[{\"name\":\"trace23\",\"type\":\"scatter3d\",\"xaxis\":\"x\",\"yaxis\":\"y\",\"x\":[0,1,2,3,4,5,6,7,8,9],\"y\":[0,0.4337997813908645,0.3734482483027628,0.16661727975973972,2.3413154698571765,4.6939076095068675,5.466968060493658,6.546158667044445,3.048879947185828,2.41459869543518],\"z\":[0,-1.8578886623603484E8,7.245500560608205E8,-3.506104672666274E9,1.5079763718860418E8,5.772438721365039E7,-2.5845947133189354E9,1.2927639176159128E10,3.110753875953174E9,-1.965461631889258E9]}]},{\"name\":\"trace24\",\"data\":[{\"name\":\"trace24\",\"type\":\"scatter3d\",\"xaxis\":\"x\",\"yaxis\":\"y\",\"x\":[0,1,2,3,4,5,6,7,8,9],\"y\":[0,0.804851059770795,1.6025697013468134,1.3057838268237911,2.52659623343217,2.3520844961497245,2.84803674004867,6.579773266739748,5.988901187432182,5.2641322750373805],\"z\":[0,-1.3580019692570531E9,1.7287897250224466E9,-1.2343320934749668E9,-2.6245059095590262E9,1.212512506979777E9,1.1870055706230041E8,1.7442925257308922E9,-8.015739402465562E9,8.687612610906941E8]}]},{\"name\":\"trace25\",\"data\":[{\"name\":\"trace25\",\"type\":\"scatter3d\",\"xaxis\":\"x\",\"yaxis\":\"y\",\"x\":[0,1,2,3,4,5,6,7,8,9],\"y\":[0,0.13503839579509125,1.3953971401976835,1.1514574437099598,2.1339573744167573,0.6538143484927722,5.865587671676755,5.025518907573212,5.713028131169194,0.4094918516407765],\"z\":[0,-3.3752403579516464E8,1.1456364671661541E9,-1.63589952890877E9,-2.2418603015067816E9,7.949548705515308E9,-1.8960694519099588E9,-1.0953275297292864E9,4.611551180243491E9,-7.55604040698205E8]}]},{\"name\":\"trace26\",\"data\":[{\"name\":\"trace26\",\"type\":\"scatter3d\",\"xaxis\":\"x\",\"yaxis\":\"y\",\"x\":[0,1,2,3,4,5,6,7,8,9],\"y\":[0,0.5890747560575413,1.660500951844918,1.634993052229381,1.7621847122209324,0.12311074860408111,1.938683924436963,4.122503816517947,5.839604894027536,3.099828468393744],\"z\":[0,-3.786247251989589E8,1.852336950511013E9,-3.1788141171414676E9,3.6787576750722404E9,-2.5962495636349826E9,-5.105990943293842E9,-1.6945665109683135E9,7.408221586038898E9,-3.291094252126709E9]}]},{\"name\":\"trace27\",\"data\":[{\"name\":\"trace27\",\"type\":\"scatter3d\",\"xaxis\":\"x\",\"yaxis\":\"y\",\"x\":[0,1,2,3,4,5,6,7,8,9],\"y\":[0,0.12621885969004865,0.12704280313644212,2.593525722215393,1.503863920043207,1.5076052839490306,2.1067262685630617,5.180470613727749,2.955158901255051,3.463993331163307],\"z\":[0,-1.5268779462524493E9,3.420967516362403E8,-2.424910859704908E7,-2.0892275726376657E9,1.9363823580056122E8,8.688555740859901E9,-7.887945444296747E7,1.5948807452021E7,2.7017993808852706E9]}]},{\"name\":\"trace28\",\"data\":[{\"name\":\"trace28\",\"type\":\"scatter3d\",\"xaxis\":\"x\",\"yaxis\":\"y\",\"x\":[0,1,2,3,4,5,6,7,8,9],\"y\":[0,0.659335073321701,0.4986648122174948,1.5265284197988143,3.6233822937106406,4.865554710505509,0.3450467245018529,6.660113239803746,1.2713213754606398,7.470974954894868],\"z\":[0,8.108152294618157E8,2.832753073491364E8,-4.04937451563342E9,-1.0079918768848847E9,-2.4746910670687604E9,-5.58141406733291E9,-4.573411279052249E9,7.625239769597668E9,6.69854788010554E9]}]},{\"name\":\"trace29\",\"data\":[{\"name\":\"trace29\",\"type\":\"scatter3d\",\"xaxis\":\"x\",\"yaxis\":\"y\",\"x\":[0,1,2,3,4,5,6,7,8,9],\"y\":[0,0.7524483661133591,0.027474463413532657,2.925769467020594,3.417567647202515,0.3416449314076403,3.283980551445927,3.312267377419644,7.5904915299420415,6.921432004398732],\"z\":[0,-2.773549491687293E8,-2.2031441241759644E9,-2.948438931675242E8,3.408007563943112E9,-621573.6270793043,1.7805240727107978E9,-2.2087970760262747E9,9.239190839782959E8,1.8166728639028195E7]}]},{\"name\":\"trace30\",\"data\":[{\"name\":\"trace30\",\"type\":\"scatter3d\",\"xaxis\":\"x\",\"yaxis\":\"y\",\"x\":[0,1,2,3,4,5,6,7,8,9],\"y\":[0,0.25323280903959566,1.4228737755836736,2.889799100164489,1.0157006764825471,3.287682618718264,4.450072404977774,5.599769555794227,0.8556312272319584,1.9504572568169554],\"z\":[0,3.3911873371230173E8,-9.938341845874524E8,3.137071187998795E8,6.839915951704116E8,5.803763329284151E8,6.524643786934371E9,9.606517590619681E8,6.285791202378471E8,1.3232945130772264E10]}]},{\"name\":\"trace31\",\"data\":[{\"name\":\"trace31\",\"type\":\"scatter3d\",\"xaxis\":\"x\",\"yaxis\":\"y\",\"x\":[0,1,2,3,4,5,6,7,8,9],\"y\":[0,0.9681108836170079,0.8522787530043119,1.9744572807227478,2.846805139882621,1.4293648127155,5.2006325384047996,1.0646420720492262,2.9589682647429703,8.396898791370107],\"z\":[0,3.409535155907854E8,2.5513428217226484E8,-5.233870898422555E8,1.372579809717456E9,1.395406090421927E8,6.07029082884228E8,-4.659053670429569E9,4.86562435050727E9,1.1359076065129559E10]}]},{\"name\":\"trace32\",\"data\":[{\"name\":\"trace32\",\"type\":\"scatter3d\",\"xaxis\":\"x\",\"yaxis\":\"y\",\"x\":[0,1,2,3,4,5,6,7,8,9],\"y\":[0,0.7167267495553796,0.25346063486631665,0.22336849333148656,3.6269130964275735,4.841919242804255,1.8305784642113498,0.8570252155258283,0.7181500757476744,6.851456238830876],\"z\":[0,1.2277062234071638E7,1.4615296599664044E8,4.531302049177168E8,4.260000699949224E7,1.4355911979322944E9,3.9190126370998206E9,3.0180963209905167E9,-2.3098575672011285E9,-1.5757582304554796E10]}]},{\"name\":\"trace33\",\"data\":[{\"name\":\"trace33\",\"type\":\"scatter3d\",\"xaxis\":\"x\",\"yaxis\":\"y\",\"x\":[0,1,2,3,4,5,6,7,8,9],\"y\":[0,0.5650153249347041,0.023073909260376002,1.6977877453370542,2.8454635177455234,3.113865501444142,2.5736370872164516,1.1080047504126713,4.832516753261249,4.2188526852507575],\"z\":[0,1.539874513491748E9,-3135831.7103155744,1.2070245462065873E9,-4.188895378866383E9,4.258706064200563E9,-3.54863083547499E7,8.187059733025907E9,-1.2088605069845666E8,-2.363012893590006E9]}]},{\"name\":\"trace34\",\"data\":[{\"name\":\"trace34\",\"type\":\"scatter3d\",\"xaxis\":\"x\",\"yaxis\":\"y\",\"x\":[0,1,2,3,4,5,6,7,8,9],\"y\":[0,0.7060024566091304,1.219772033912253,1.394628577095269,2.779190214974377,1.5642276959203856,2.023004645689399,2.5304493916668234,7.971877753474217,1.8665450118607623],\"z\":[0,1.0181810382209274E9,-1.7924594674168554E8,4.229453261886679E8,-3.0004558836081725E8,-4.192771430559073E8,3.4099929435822554E9,-1.1592361995965242E10,1.7265114458734027E8,4.700573676434065E9]}]},{\"name\":\"trace35\",\"data\":[{\"name\":\"trace35\",\"type\":\"scatter3d\",\"xaxis\":\"x\",\"yaxis\":\"y\",\"x\":[0,1,2,3,4,5,6,7,8,9],\"y\":[0,0.22011952068468432,1.2738836441891346,2.7472235946167167,3.253721299179547,3.6218557632474595,0.468166104111581,6.030384062792507,1.8997758199629367,2.4008284698670757],\"z\":[0,3.4060067950704646E8,9.304025484959192E8,8.126922490782055E8,-8.22353850378292E8,-5.165300451934813E9,-1.0143574563186691E9,2.7296994610253916E9,-3.331771670686553E9,-4.503805934774246E9]}]},{\"name\":\"trace36\",\"data\":[{\"name\":\"trace36\",\"type\":\"scatter3d\",\"xaxis\":\"x\",\"yaxis\":\"y\",\"x\":[0,1,2,3,4,5,6,7,8,9],\"y\":[0,0.27916382185240074,0.047029549673315074,2.813709918311975,2.6729633242536157,2.7002937863462155,2.795441450033903,6.957251200120555,1.7221988196111768,1.9348537941023491],\"z\":[0,-1.9924928652227055E7,8.655126311060955E7,-1.0588379487936318E7,3.2126810861965294E9,2.7017400217421103E9,-2.702433382382929E9,-4.596336602613749E9,5.069462425256684E9,-6.592158034387639E9]}]},{\"name\":\"trace37\",\"data\":[{\"name\":\"trace37\",\"type\":\"scatter3d\",\"xaxis\":\"x\",\"yaxis\":\"y\",\"x\":[0,1,2,3,4,5,6,7,8,9],\"y\":[0,0.025324088199730643,0.6670733149745964,0.009409518247039173,0.9502544327221103,2.466072143924913,5.505633114558723,1.6383093452873245,1.1346931204209154,5.536801111939642],\"z\":[0,5.2355999048276104E7,-1.7041456862671024E8,1.9629899597278721E9,4.27661318199354E9,2.3929711271753054E9,4.89921370485676E9,-3.1432737322796125E9,1.493975959049476E10,-1.433815519312347E10]}]},{\"name\":\"trace38\",\"data\":[{\"name\":\"trace38\",\"type\":\"scatter3d\",\"xaxis\":\"x\",\"yaxis\":\"y\",\"x\":[0,1,2,3,4,5,6,7,8,9],\"y\":[0,0.6446742545494094,0.9564884771877387,0.4216060020809268,0.34738804281382984,1.348416866132292,2.166349906363772,5.134568813121828,0.39124146387088654,3.5517323760888044],\"z\":[0,-6.026043690986271E8,-1.3901739022154874E8,-2.373499102558144E8,1.8461967253434398E9,1.886895583134965E8,-1.7991729292325954E9,3.9235811560807395E9,7.851627173460459E9,8.368087909217158E9]}]},{\"name\":\"trace39\",\"data\":[{\"name\":\"trace39\",\"type\":\"scatter3d\",\"xaxis\":\"x\",\"yaxis\":\"y\",\"x\":[0,1,2,3,4,5,6,7,8,9],\"y\":[0,0.9381552528524281,1.8850237155359806,2.5675939066796047,0.6175247127659129,2.1469455004719458,4.875112534132353,2.509757909056775,2.917319089809502,6.470653285043052],\"z\":[0,-2.953588295150818E8,1.353994313846307E9,-4.81217266566767E7,-6.989488586031237E7,9.00696279118843E9,-2.9667681357070193E9,2.5421507601074853E9,1.2657800757699926E9,-1.3977746129640934E10]}]},{\"name\":\"trace40\",\"data\":[{\"name\":\"trace40\",\"type\":\"scatter3d\",\"xaxis\":\"x\",\"yaxis\":\"y\",\"x\":[0,1,2,3,4,5,6,7,8,9],\"y\":[0,0.6735509895745352,0.9072848010393599,2.2339284336149974,0.19138865219408707,0.07002933694510549,4.207128254579683,4.871692797685701,3.296464165205644,6.752328561714955],\"z\":[0,-5.436204693748965E7,-2.4486675472345986E9,2.0985362622919714E9,-5.035355084141851E9,6.513835294562914E9,5.249609937284862E9,4.0465674266723723E9,3.220069590988351E9,6.307428266704634E8]}]},{\"name\":\"trace41\",\"data\":[{\"name\":\"trace41\",\"type\":\"scatter3d\",\"xaxis\":\"x\",\"yaxis\":\"y\",\"x\":[0,1,2,3,4,5,6,7,8,9],\"y\":[0,0.7257197164254581,0.5998150035361964,0.16234085682388155,1.5266257178250795,1.0966753640640714,0.37782818607543867,3.5631160330112897,3.534798482278519,4.188026343238387],\"z\":[0,-4.2860013604115134E8,-4.5726807196207464E8,2.419573226488019E9,5.606308299580404E8,4.936378796514084E9,-2.244744531787982E8,3.275086113350994E8,4.000008394434565E9,5.018995840581334E9]}]},{\"name\":\"trace42\",\"data\":[{\"name\":\"trace42\",\"type\":\"scatter3d\",\"xaxis\":\"x\",\"yaxis\":\"y\",\"x\":[0,1,2,3,4,5,6,7,8,9],\"y\":[0,0.8160569978616421,1.2478772113038032,1.1456649064266304,3.425767254452787,3.703798382839423,2.217193636977889,4.596031633589045,5.0884121077064846,2.717498551624361],\"z\":[0,-4.368822380570938E7,1.8309065705719473E9,4.1438101558999515E9,5.032410738057043E9,3.032853676076189E9,4.195810310364937E9,2.924489710994046E9,-3.555936932015041E9,6.745959921314323E9]}]},{\"name\":\"trace43\",\"data\":[{\"name\":\"trace43\",\"type\":\"scatter3d\",\"xaxis\":\"x\",\"yaxis\":\"y\",\"x\":[0,1,2,3,4,5,6,7,8,9],\"y\":[0,0.47000054244074185,1.727318536729757,0.7310096084897243,2.750212966546221,3.7757049525033533,4.660586965581416,0.2856300811706475,2.62454844757968,2.474034840313],\"z\":[0,-4.520458910486526E7,-2.0674325399205428E8,1.7258272018036267E8,3.4747583812337744E8,5.087964211624524E9,-4.2663639649618626E9,1.4155420642114443E8,4.156791892491921E8,7.208954619894164E8]}]},{\"name\":\"trace44\",\"data\":[{\"name\":\"trace44\",\"type\":\"scatter3d\",\"xaxis\":\"x\",\"yaxis\":\"y\",\"x\":[0,1,2,3,4,5,6,7,8,9],\"y\":[0,0.741235842014235,0.5575768481057803,1.0187444713593763,0.03528821383752767,1.000559284125155,2.227054730480301,4.387094205193948,1.8446380878213162,5.731735564740356],\"z\":[0,-3.0536083516417104E8,-5.816394767981439E8,-2.2523977050604865E8,9.275858517288113E7,-1.7431672057082274E9,-1.2638421433518255E9,-1.0364071691342798E9,-6.843037446421665E7,8.582455260275014E9]}]},{\"name\":\"trace45\",\"data\":[{\"name\":\"trace45\",\"type\":\"scatter3d\",\"xaxis\":\"x\",\"yaxis\":\"y\",\"x\":[0,1,2,3,4,5,6,7,8,9],\"y\":[0,0.26837756605597973,1.1658965419708363,0.3223934305564793,0.6504788363662053,3.104145117498126,4.429095839185614,3.9487365502588085,1.8314874735796787,3.157474542989922],\"z\":[0,-1.7020829400632105E9,-2.8574059644929132E9,-1.047359148373669E9,-1.282940645068989E9,-1.9355585987415645E9,4.025694382829988E8,6.327435647553312E9,9.57906209090795E9,-1.5415927220595333E10]}]},{\"name\":\"trace46\",\"data\":[{\"name\":\"trace46\",\"type\":\"scatter3d\",\"xaxis\":\"x\",\"yaxis\":\"y\",\"x\":[0,1,2,3,4,5,6,7,8,9],\"y\":[0,0.617415535542377,1.291582023799171,2.6874613474571505,0.367025965028295,4.346719473684471,3.7462715200094037,3.522038191828734,4.994859136240611,1.88572811938498],\"z\":[0,9.598134405072901E8,-7.893774315767485E8,-4.716796518995225E9,-4.995886641163938E8,-2.4755472561071887E9,-1.0538351755427023E9,1.1054757264489126E10,-6.586550686440293E9,8.571169554059613E7]}]},{\"name\":\"trace47\",\"data\":[{\"name\":\"trace47\",\"type\":\"scatter3d\",\"xaxis\":\"x\",\"yaxis\":\"y\",\"x\":[0,1,2,3,4,5,6,7,8,9],\"y\":[0,0.060333302471679895,1.041272489081795,1.5848224553586365,3.952219933562605,1.8258912151360285,5.227200087979836,1.3945053000793244,6.663479935669883,0.4839455217562282],\"z\":[0,-6.746147322458326E8,-3.013366172788528E8,1.2893367533787744E9,-1.9298571296258673E7,-3.662972036542053E9,1.4326831657257957E9,6.202394672975765E8,-4.455847733989772E9,-3.075799166014197E8]}]},{\"name\":\"trace48\",\"data\":[{\"name\":\"trace48\",\"type\":\"scatter3d\",\"xaxis\":\"x\",\"yaxis\":\"y\",\"x\":[0,1,2,3,4,5,6,7,8,9],\"y\":[0,0.3302148653738114,1.749712014773921,1.3555807277946532,0.04713687548238621,3.8267508367764504,4.2272695271060785,3.3441433060401433,1.1056040212937726,4.981230354677972],\"z\":[0,3.011809795863465E8,-1.2988960166444373E9,1.708000403844117E8,2.7928734202999854E8,-5.470396412030608E9,-9.60051762134215E9,-2.187108235493154E9,2.5031606650909038E9,5.5833684312367424E7]}]},{\"name\":\"trace49\",\"data\":[{\"name\":\"trace49\",\"type\":\"scatter3d\",\"xaxis\":\"x\",\"yaxis\":\"y\",\"x\":[0,1,2,3,4,5,6,7,8,9],\"y\":[0,0.4039024132697946,1.0222028254101394,2.4400954616482933,2.999573090592976,4.313552334490285,3.7431298030677564,3.2476459787673546,7.095488049442545,1.417561646046743],\"z\":[0,6.015604735254731E8,2.1979940922561474E9,-2.167507203445602E9,-5.3606751620035696E8,-3.2101405910696497E9,1.483088618500297E9,5.005387290366726E9,1.1182236733253233E10,2.2745579622409916E8]}]},{\"name\":\"trace50\",\"data\":[{\"name\":\"trace50\",\"type\":\"scatter3d\",\"xaxis\":\"x\",\"yaxis\":\"y\",\"x\":[0,1,2,3,4,5,6,7,8,9],\"y\":[0,0.2761866481394051,1.6294272234065292,0.5863327167846468,1.8345954185546494,2.395043535186269,3.579490991951299,1.9195428351583075,6.794942453996102,6.036821396527112],\"z\":[0,-4.806538880140762E7,-1.6625353659571126E8,-1.6171135409500062E9,1.6135086947035666E9,-3.2300742006240635E9,-5.298763929637311E9,-2.998785113585491E8,-1.191495475689477E9,-6.756523034458894E9]}]},{\"name\":\"trace51\",\"data\":[{\"name\":\"trace51\",\"type\":\"scatter3d\",\"xaxis\":\"x\",\"yaxis\":\"y\",\"x\":[0,1,2,3,4,5,6,7,8,9],\"y\":[0,0.8309230089927157,1.586744460415133,0.9183300741448382,0.02224595585478495,4.84602448467758,4.447527952898356,0.5534096153742045,1.3697924755904625,4.632578169901243],\"z\":[0,-9.470769771215422E7,-2.1269412084779453E9,5.974107598135521E7,-3.719875530542192E9,-4.348797103630423E8,-1.3903432257834907E9,-3.4673403539426866E9,-1.455100394231721E9,-5.300663318419148E9]}]},{\"name\":\"trace52\",\"data\":[{\"name\":\"trace52\",\"type\":\"scatter3d\",\"xaxis\":\"x\",\"yaxis\":\"y\",\"x\":[0,1,2,3,4,5,6,7,8,9],\"y\":[0,0.43772720588081093,1.1637530689086133,1.8499546957776594,0.17187251958861305,2.578460652565046,3.176879891374208,3.3321697779306447,1.2184569846586966,7.286536692514369],\"z\":[0,5.448856769594318E7,6.074572269899515E8,4.489927319338666E9,9.913787703066735E8,7.476215898847024E9,-2.5363192371047863E8,9.637792492729931E8,-3.8084803699068823E9,1.0277080449900581E10]}]},{\"name\":\"trace53\",\"data\":[{\"name\":\"trace53\",\"type\":\"scatter3d\",\"xaxis\":\"x\",\"yaxis\":\"y\",\"x\":[0,1,2,3,4,5,6,7,8,9],\"y\":[0,0.1490582436484028,1.5128087257296574,1.7361212302837847,3.82881951985524,4.661391444702897,1.5377612378248695,4.897460433256551,5.768663772779765,0.11940358270202389],\"z\":[0,7.965812761580565E8,-8.934622437556484E8,-2.4690888870479875E9,-4.596230290024536E9,-6.290427352842528E9,-5.785816676517727E9,1.608415365581162E9,-9.705327364892855E9,-1.0985789255857656E10]}]},{\"name\":\"trace54\",\"data\":[{\"name\":\"trace54\",\"type\":\"scatter3d\",\"xaxis\":\"x\",\"yaxis\":\"y\",\"x\":[0,1,2,3,4,5,6,7,8,9],\"y\":[0,0.8290850469646611,1.6566515066904122,1.774804347894975,3.9660453738330603,3.148758569377726,2.8095022986977636,1.233519843910972,7.830457155245947,4.739236875779662],\"z\":[0,-3.176635615915673E8,-4.9859640894723225E8,-1.0087982748988399E8,1.1851997544385538E9,-2.9523260221998364E8,-1.43237738048182E9,-6.390147397406909E9,-2.42616814337326E9,-8.855926757276803E7]}]},{\"name\":\"trace55\",\"data\":[{\"name\":\"trace55\",\"type\":\"scatter3d\",\"xaxis\":\"x\",\"yaxis\":\"y\",\"x\":[0,1,2,3,4,5,6,7,8,9],\"y\":[0,0.7045115367714025,0.8022181266887287,2.957531602895381,0.03923226975636851,2.5052245639773685,5.984967769667,6.985427488997013,3.623557149571961,3.7692692077320817],\"z\":[0,-6.08653673650099E8,2.077944961776064E9,-1.8498393490520012E9,1.847050168283564E9,3.5673229341176146E8,7.651894056948327E9,5.736629254371406E9,-3.1884048679633036E9,-7.407080647672148E9]}]},{\"name\":\"trace56\",\"data\":[{\"name\":\"trace56\",\"type\":\"scatter3d\",\"xaxis\":\"x\",\"yaxis\":\"y\",\"x\":[0,1,2,3,4,5,6,7,8,9],\"y\":[0,0.7731642015525793,0.5907274056651437,0.21354728268254308,3.8089548700841904,0.7146016414260359,5.8102462546767715,4.860735429439308,0.26863891030034104,3.057863261227226],\"z\":[0,2.269172982571846E8,-4.0088763676083696E8,-5.628378985597221E8,-1.3952148171024218E8,-5.010734471041378E9,1.2045582129056473E10,1.2969362491102922E9,7.14448109597942E9,-6.716073290674636E8]}]},{\"name\":\"trace57\",\"data\":[{\"name\":\"trace57\",\"type\":\"scatter3d\",\"xaxis\":\"x\",\"yaxis\":\"y\",\"x\":[0,1,2,3,4,5,6,7,8,9],\"y\":[0,0.34911340838889915,1.8437719788560119,1.2490664423614999,1.8166572428755496,4.8733354941472555,1.2493947486488644,2.075328420847782,0.8228690978382778,6.921633063806881],\"z\":[0,-6.046715095549897E7,-2.5428761477957034E9,1.5502767845491753E9,-4.0410360541527157E9,-3.0434800471704273E9,1.69410188607521E9,3.10149561479466E8,7.906301140951501E9,1.06782975093264E10]}]},{\"name\":\"trace58\",\"data\":[{\"name\":\"trace58\",\"type\":\"scatter3d\",\"xaxis\":\"x\",\"yaxis\":\"y\",\"x\":[0,1,2,3,4,5,6,7,8,9],\"y\":[0,0.8214058653018115,1.7796804758959728,1.0861075313123594,1.5037928902401854,4.452801153832478,5.73182774773678,0.15879979473107064,3.6499936295365396,6.5106229502067565],\"z\":[0,-1.5834751082841177E9,-6.982787378248208E8,8.080764675413336E8,-8.420787344433419E8,-9.461165690434758E7,-6.728535736305769E9,8.259652678946624E8,8.870308559638126E9,-1.0203476887720306E8]}]},{\"name\":\"trace59\",\"data\":[{\"name\":\"trace59\",\"type\":\"scatter3d\",\"xaxis\":\"x\",\"yaxis\":\"y\",\"x\":[0,1,2,3,4,5,6,7,8,9],\"y\":[0,0.2988980970084917,1.1532749209334587,0.1999248254235625,0.42392570663223017,0.3692556390230417,4.70948715828565,6.615176365299445,6.565057087185779,7.639628746974233],\"z\":[0,-4.970191223442494E8,2.703698382870024E8,-1.2710703363159785E8,3.351501665855098E9,-2.149392681366622E9,-4.934472113194184E9,-6.00221851082405E9,-5.797600829221188E9,-1.1162377549319017E10]}]},{\"name\":\"trace60\",\"data\":[{\"name\":\"trace60\",\"type\":\"scatter3d\",\"xaxis\":\"x\",\"yaxis\":\"y\",\"x\":[0,1,2,3,4,5,6,7,8,9],\"y\":[0,0.03954291951116107,0.061633527686074885,0.2809210089808367,0.3024443210489971,0.8848734870542901,5.26828724096027,1.1822835749898692,7.339850380237654,5.029846878651759],\"z\":[0,8.209826860102704E8,1.3448487091863477E9,-2.1766927604992633E9,-3.183287665324772E9,2.885466681302373E8,1.6240221075724044E9,-7.551946264476578E9,-7.649558635935931E9,-7.98691772081135E9]}]},{\"name\":\"trace61\",\"data\":[{\"name\":\"trace61\",\"type\":\"scatter3d\",\"xaxis\":\"x\",\"yaxis\":\"y\",\"x\":[0,1,2,3,4,5,6,7,8,9],\"y\":[0,0.561418650013307,0.42872760568050206,1.160872045071934,0.48722313374725923,1.2564859391990035,1.7733415809657205,1.162513164318633,5.677081355526735,0.7311234695430284],\"z\":[0,-9.590679843563985E8,2.706798631403991E7,7.27311702079018E8,1.0470161295063776E8,1.960580968644199E9,3.889833305094102E9,-5.802833712294263E9,2.660996829036333E9,-8.913178253223026E9]}]},{\"name\":\"trace62\",\"data\":[{\"name\":\"trace62\",\"type\":\"scatter3d\",\"xaxis\":\"x\",\"yaxis\":\"y\",\"x\":[0,1,2,3,4,5,6,7,8,9],\"y\":[0,0.25377622749441364,0.4766486925468625,2.504883572203674,0.38005479320406765,0.005895952201231958,2.138106308688614,2.9479789335814686,7.028550192326986,1.4311953114494438],\"z\":[0,1.5030180489530168E9,-3.7247593372246113E9,-1.615355394086442E8,-1.593821157356234E9,-7.340433156453582E8,5.735616852317196E9,3.3100884167019215E9,9.725664235674309E9,-6.174972926980716E8]}]},{\"name\":\"trace63\",\"data\":[{\"name\":\"trace63\",\"type\":\"scatter3d\",\"xaxis\":\"x\",\"yaxis\":\"y\",\"x\":[0,1,2,3,4,5,6,7,8,9],\"y\":[0,0.43200638395464297,0.014814506619553969,1.9018133707317095,1.588262490130468,0.3457687053878755,0.20869331889007436,1.295930670120664,5.706214085242374,0.14389110711331143],\"z\":[0,4.2137821211749986E7,-2.4774291790354428E8,2.670456963477542E9,1.3825894259243937E9,1.5084538407864615E8,1.0639307953104607E9,2.6801629755850325E9,-3.3062667156021416E8,2.561145937882937E9]}]},{\"name\":\"trace64\",\"data\":[{\"name\":\"trace64\",\"type\":\"scatter3d\",\"xaxis\":\"x\",\"yaxis\":\"y\",\"x\":[0,1,2,3,4,5,6,7,8,9],\"y\":[0,0.16636232824155506,1.8459033366928976,2.6739506627893075,2.300178836572271,2.376416275225565,2.121040484824194,2.4976246696725335,1.010458746430161,3.7415300017855517],\"z\":[0,1.0287650076809695E9,-7.719536523310176E8,2.4549301316535983E9,6.373634485073453E8,-6.140952662156266E9,2.4069381875969195E9,2.0422008043407896E8,9.292182172463934E8,-8.955432822313013E9]}]},{\"name\":\"trace65\",\"data\":[{\"name\":\"trace65\",\"type\":\"scatter3d\",\"xaxis\":\"x\",\"yaxis\":\"y\",\"x\":[0,1,2,3,4,5,6,7,8,9],\"y\":[0,0.20421805739389742,1.9265844810641481,2.3017209535094922,2.0263100759064088,2.295845770397836,2.6095000296654502,0.5862536468206481,2.047861203518546,7.048890043467839],\"z\":[0,3.427599304659059E8,-6.982160038060772E8,-2.54868212085603E9,3.1345846324558377E7,4.013661449515861E9,2.2251455851968865E9,5.1388165611698055E8,6.57765370832541E9,3.065123099199679E9]}]},{\"name\":\"trace66\",\"data\":[{\"name\":\"trace66\",\"type\":\"scatter3d\",\"xaxis\":\"x\",\"yaxis\":\"y\",\"x\":[0,1,2,3,4,5,6,7,8,9],\"y\":[0,0.8163031443683528,1.1808994392360042,1.7687091174229517,0.8875118511866487,1.3239371422841724,2.834555539441373,5.792399008578868,3.8219004115115407,5.456782596695986],\"z\":[0,-1.7197734837761872E9,-1.2678376144208002E9,-2.2827323193044E9,-1.6260757760539615E9,3.3433565963796406E9,4.613425888900173E8,-1.1449141955163506E10,-1.8337481820636773E9,-9.88571598230614E9]}]},{\"name\":\"trace67\",\"data\":[{\"name\":\"trace67\",\"type\":\"scatter3d\",\"xaxis\":\"x\",\"yaxis\":\"y\",\"x\":[0,1,2,3,4,5,6,7,8,9],\"y\":[0,0.6492188735715277,0.23820549932987833,1.576493041091963,1.906577660657884,4.465521186509218,4.752069915074859,1.0142868463294774,0.06970233371371037,1.479570841621598],\"z\":[0,-5.143626413562742E7,-3.269565428350012E8,-1.8972463812579033E9,1.1207183177770104E8,-6.265539354062971E9,8.890424074006577E9,1.6008071205511534E9,2.6042197803785658E8,-1.430115407092656E10]}]},{\"name\":\"trace68\",\"data\":[{\"name\":\"trace68\",\"type\":\"scatter3d\",\"xaxis\":\"x\",\"yaxis\":\"y\",\"x\":[0,1,2,3,4,5,6,7,8,9],\"y\":[0,0.06748102656105248,0.8147415487716962,2.0648623527743784,2.170160770041569,2.8879952880147624,4.833915664643154,1.1774102086549476,7.397184721809333,5.703262551030521],\"z\":[0,-1.4262094029078782E8,-4.2360670962788224E7,-2.5857883667389784E9,-2.4959080740019994E9,-1.7580823503845894E8,-2.829039051158301E8,2.9949061827431E9,-3.327270107114629E8,9.3221275392213E7]}]},{\"name\":\"trace69\",\"data\":[{\"name\":\"trace69\",\"type\":\"scatter3d\",\"xaxis\":\"x\",\"yaxis\":\"y\",\"x\":[0,1,2,3,4,5,6,7,8,9],\"y\":[0,0.6383262154464169,0.4555161838194264,0.39150590826233156,1.0473861379426088,3.894157202848399,2.4890072958878537,0.912038418337281,5.634748281942536,6.939628801500713],\"z\":[0,-5.1941873082795894E8,3.629730642510433E8,1.298354980612336E9,4.2696683403551044E9,1.0026109498930151E9,2.21248090313941E8,-3.094238467862785E9,-4.310252328444547E9,-8.781206696062237E9]}]},{\"name\":\"trace70\",\"data\":[{\"name\":\"trace70\",\"type\":\"scatter3d\",\"xaxis\":\"x\",\"yaxis\":\"y\",\"x\":[0,1,2,3,4,5,6,7,8,9],\"y\":[0,0.869010715634038,0.8862036275764082,2.544289969516998,2.8366866189460245,2.9424143432614533,5.626801488140354,0.5514338714786319,2.8092801136330623,4.4619633265710075],\"z\":[0,-9.994744043454313E7,-1.754493429726599E8,-8.003929088727194E8,6.083552429719794E8,8.507608674819975E8,-6.112858995560913E8,5.389292514428188E9,-1.6815077284814696E9,-2.0667129677144988E9]}]},{\"name\":\"trace71\",\"data\":[{\"name\":\"trace71\",\"type\":\"scatter3d\",\"xaxis\":\"x\",\"yaxis\":\"y\",\"x\":[0,1,2,3,4,5,6,7,8,9],\"y\":[0,0.11102178263414686,1.1736918841217308,0.376332737530119,1.7934328182443982,1.3313898000197062,2.8611553912227814,1.8961936741037415,4.339391573856726,5.626827945540008],\"z\":[0,9934631.842817795,8.893879416836654E8,-1.3280043581759002E9,-8.397413053761259E7,-2.212804525364396E9,5.958187920143224E8,-1.0626590256923851E10,6.784753604040779E9,-4.485390451658058E9]}]},{\"name\":\"trace72\",\"data\":[{\"name\":\"trace72\",\"type\":\"scatter3d\",\"xaxis\":\"x\",\"yaxis\":\"y\",\"x\":[0,1,2,3,4,5,6,7,8,9],\"y\":[0,0.2447258221388381,0.549531382572235,0.33936518942168004,2.7442929153530744,3.2909252787889143,5.831876338862192,2.8778566361122158,1.2629147427315246,1.6935530402212375],\"z\":[0,-2.804531628632633E8,3.182014128218683E9,1.630136697413838E9,-1.3954239479681578E9,1.7331300614732406E9,6.17029117242273E9,8.863267271583857E9,-2.1443364842670703E8,-5.994494536451873E9]}]},{\"name\":\"trace73\",\"data\":[{\"name\":\"trace73\",\"type\":\"scatter3d\",\"xaxis\":\"x\",\"yaxis\":\"y\",\"x\":[0,1,2,3,4,5,6,7,8,9],\"y\":[0,0.22918728323400894,0.2428291167838823,2.1989903526683463,3.227231462868394,1.5249107739508898,2.321154947156516,0.3592390750594677,7.518772304264678,7.374803903101633],\"z\":[0,-8.34011892647836E7,-2.215993423870218E9,2.900343469236226E9,5.613913507361776E9,-6.297381543993641E9,3.0571428939105535E9,1.1413956537891796E10,1.3314507000068077E10,-1.4137023356840944E9]}]},{\"name\":\"trace74\",\"data\":[{\"name\":\"trace74\",\"type\":\"scatter3d\",\"xaxis\":\"x\",\"yaxis\":\"y\",\"x\":[0,1,2,3,4,5,6,7,8,9],\"y\":[0,0.9526546931949137,1.6634573251054392,1.2371294790622178,2.9955670417733047,2.849614494210311,3.322772946657482,6.647314616085227,5.717020499454634,8.782977672021456],\"z\":[0,9.528311467850544E8,-1.048176958450244E9,5.448230990873726E9,-5.228254183589351E9,2.1442682107775064E9,-1.0251127027879567E8,-7.089979299377204E8,4.374201379776426E7,3.4882056724204817E9]}]},{\"name\":\"trace75\",\"data\":[{\"name\":\"trace75\",\"type\":\"scatter3d\",\"xaxis\":\"x\",\"yaxis\":\"y\",\"x\":[0,1,2,3,4,5,6,7,8,9],\"y\":[0,0.2620114808930072,0.3500202182107992,2.715165098789262,0.3486310684041154,2.013285652421914,4.870852646624491,4.309847518890006,0.6073248957419484,8.694517452856417],\"z\":[0,5.405460022780588E8,-5.97938865166852E8,1.7971137184738028E9,-1.712643365717547E9,-9.834698950632889E8,-5.794068428828484E8,-1.7826415246622655E9,-2.4492697801552206E8,1.1093283342322164E9]}]},{\"name\":\"trace76\",\"data\":[{\"name\":\"trace76\",\"type\":\"scatter3d\",\"xaxis\":\"x\",\"yaxis\":\"y\",\"x\":[0,1,2,3,4,5,6,7,8,9],\"y\":[0,0.7112604998419043,1.772759081846534,1.030693676875285,1.3666396285336897,3.0837995251405017,4.345084275013571,0.01785595493442993,0.36954673368339197,4.821274701823391],\"z\":[0,7.382298914470711E7,9.723061686888674E8,1.0387655592709403E9,5.458054927843752E8,2.956089861083357E8,-1.246985843897346E9,-3.979386906100762E9,-4.58181636810083E8,-5.212389722870231E9]}]},{\"name\":\"trace77\",\"data\":[{\"name\":\"trace77\",\"type\":\"scatter3d\",\"xaxis\":\"x\",\"yaxis\":\"y\",\"x\":[0,1,2,3,4,5,6,7,8,9],\"y\":[0,0.4729646724677137,1.5581801562884003,2.8925582014914224,0.7190298354501592,2.2802440858517494,2.0010363542651755,5.306598280953981,2.378809255006945,5.3368861917624395],\"z\":[0,-1.274547124573354E9,-8.287937919008616E8,-2.4662818164092307E9,-6.005636314451199E9,2.2941280353972873E8,6.712530758710481E9,-5.968951004538137E8,-1.4740744346382572E10,-4.50153644331486E9]}]},{\"name\":\"trace78\",\"data\":[{\"name\":\"trace78\",\"type\":\"scatter3d\",\"xaxis\":\"x\",\"yaxis\":\"y\",\"x\":[0,1,2,3,4,5,6,7,8,9],\"y\":[0,0.8454479465427883,1.88213058171731,0.5471910528802086,0.6265388618459853,2.080804402310239,2.553404215690949,4.328464669400312,5.904817095885019,1.92560818893887],\"z\":[0,1.1486146642719851E8,1.7911405816291955E8,-2.341139235198338E9,-1.1990985960963612E9,5.546819788935922E9,1.4069488394088857E9,9.544585332597679E8,1.003230345055444E10,-1.122990362401712E10]}]},{\"name\":\"trace79\",\"data\":[{\"name\":\"trace79\",\"type\":\"scatter3d\",\"xaxis\":\"x\",\"yaxis\":\"y\",\"x\":[0,1,2,3,4,5,6,7,8,9],\"y\":[0,0.9415714766835666,1.2573937897552332,1.9395503892327808,0.3307732363058835,0.39461497513249066,2.536986677567571,4.426384380098911,2.1540000718067356,2.1107190977219847],\"z\":[0,-7.382106642543694E8,3.3800169380153556E9,-1.7978621442119904E9,8.590413122214264E8,-3.9839596620704293E9,6.320477884198965E9,-4.504450260267508E9,1.280616154510417E8,1.792938751206619E9]}]},{\"name\":\"trace80\",\"data\":[{\"name\":\"trace80\",\"type\":\"scatter3d\",\"xaxis\":\"x\",\"yaxis\":\"y\",\"x\":[0,1,2,3,4,5,6,7,8,9],\"y\":[0,0.26831490196803764,0.18867731490800055,2.183467031502701,2.5554141804553723,0.3271837412173917,4.18633469591141,5.017217858377936,7.170839027070177,8.837265317817002],\"z\":[0,-1.2612333417480557E9,-9.266001082961719E8,-4.916145761960906E9,1.3886244723845937E9,6.051199812581571E7,-4.619280743459726E9,-4.3545146209264505E8,4.377658187653739E9,-6.634870783072628E9]}]},{\"name\":\"trace81\",\"data\":[{\"name\":\"trace81\",\"type\":\"scatter3d\",\"xaxis\":\"x\",\"yaxis\":\"y\",\"x\":[0,1,2,3,4,5,6,7,8,9],\"y\":[0,0.9626929296476088,0.17800821501418462,0.41797016676421983,0.8640321415559096,2.7886173168285415,0.7570632555961629,0.8413768446675262,1.107086875470367,5.616291666360789],\"z\":[0,-8.283074203219181E8,-9.137341385596507E8,-1.0121030979596784E9,3.869002571469955E9,-3.4544861175214095E9,-3.5589598563152885E9,3.022532025742564E7,-3.8087773496671665E8,1.5729600573894747E7]}]},{\"name\":\"trace82\",\"data\":[{\"name\":\"trace82\",\"type\":\"scatter3d\",\"xaxis\":\"x\",\"yaxis\":\"y\",\"x\":[0,1,2,3,4,5,6,7,8,9],\"y\":[0,0.31892542328112783,1.8457585709107092,1.1555334381920161,3.0802222168585973,3.8733267719898663,0.39643582556786927,4.7338092660532585,3.735386916656383,3.1549769886179337],\"z\":[0,1.0118161322163931E9,-1.350458486401434E9,-3.719710889748593E8,-4.801512339134989E9,-2.38364106585168E7,4.256488064626843E9,-1.0005002043497969E9,-5.537386847730465E9,-9.901742829540176E8]}]},{\"name\":\"trace83\",\"data\":[{\"name\":\"trace83\",\"type\":\"scatter3d\",\"xaxis\":\"x\",\"yaxis\":\"y\",\"x\":[0,1,2,3,4,5,6,7,8,9],\"y\":[0,0.9920364113258234,0.736499890358113,2.278374362580424,2.1464889197915533,1.9847218436474523,4.852646985406357,0.258481230187974,4.800281025926434,4.513610769350635],\"z\":[0,1.0281001647557718E8,7.068182088968089E8,1.7912198628934625E8,4.8076000216429424E8,-5.3069497967590076E8,-2.130795853368605E8,3.1278975125129523E9,1.583377501073429E9,5.015559420658049E9]}]},{\"name\":\"trace84\",\"data\":[{\"name\":\"trace84\",\"type\":\"scatter3d\",\"xaxis\":\"x\",\"yaxis\":\"y\",\"x\":[0,1,2,3,4,5,6,7,8,9],\"y\":[0,0.13469423002450498,0.6431917123242028,2.3131048501311686,3.5449299118387656,2.9547915080684217,3.5149089579437662,3.9721654003044042,1.1042969392463178,7.684244537285079],\"z\":[0,6.63747625960027E7,1.1032864385008776E9,7.777884766855936E8,-5.791682932760348E9,4.691837106712199E9,2.3171186646963987E9,-2.584585451087874E9,3.983271302409388E8,-1.8681145855345778E9]}]},{\"name\":\"trace85\",\"data\":[{\"name\":\"trace85\",\"type\":\"scatter3d\",\"xaxis\":\"x\",\"yaxis\":\"y\",\"x\":[0,1,2,3,4,5,6,7,8,9],\"y\":[0,0.31915606623985415,0.84193398523035,1.7688197676185278,2.961192537451057,0.25155940778165076,0.2936613805819541,1.987015354462274,7.131696227168695,1.6827654411545447],\"z\":[0,1.12349450129341E9,-3.263812386126514E9,-1.7512207447026699E9,-2.0050206784281387E9,-4.883160852574875E9,-9.142632550279684E8,-3.3346458366197467E8,2.4019197293447495E9,1.7118654059064054E9]}]},{\"name\":\"trace86\",\"data\":[{\"name\":\"trace86\",\"type\":\"scatter3d\",\"xaxis\":\"x\",\"yaxis\":\"y\",\"x\":[0,1,2,3,4,5,6,7,8,9],\"y\":[0,0.7901227828602851,0.7792785853290634,0.41810885773387796,2.1753377579847597,3.7835208263405824,0.9116522350738265,3.2637677194013968,7.437327363164609,7.892216951808141],\"z\":[0,9755603.177688913,1.6206710005518389E9,-2.0606899564390953E9,-3.820389526776019E9,2.0329772372445197E9,-1.0459509516209865E8,-2.682888904027091E9,-1.9702970586177578E9,1.0606315074035542E9]}]},{\"name\":\"trace87\",\"data\":[{\"name\":\"trace87\",\"type\":\"scatter3d\",\"xaxis\":\"x\",\"yaxis\":\"y\",\"x\":[0,1,2,3,4,5,6,7,8,9],\"y\":[0,0.9719175283337937,0.34549790384956447,0.6898917539429498,0.09325639764131388,0.0017858941464915512,2.7807714029740778,4.449904173154291,3.720836350478252,2.4768745241847965],\"z\":[0,-3.6445982323925304E8,7.810963565006965E7,-2.7275166988741784E9,-2.7493413712872213E8,3.430501346234521E8,6.77277456267273E8,-3.1869376231825167E8,1.6742043470833032E9,-1.47696975696662E9]}]},{\"name\":\"trace88\",\"data\":[{\"name\":\"trace88\",\"type\":\"scatter3d\",\"xaxis\":\"x\",\"yaxis\":\"y\",\"x\":[0,1,2,3,4,5,6,7,8,9],\"y\":[0,0.30055923807536256,1.6472214229066509,1.3521276040676988,2.555780233425704,3.4992572516779537,2.4832692249355515,1.0643134704596555,7.155192798932866,7.435102071424728],\"z\":[0,4.8703208381874824E8,-2.484755211791714E9,-2.7845425652118845E9,-1.719005816402992E9,-2.1951282797673254E9,-9.773468852146261E9,9.155346940098843E9,-5.3010342334687084E8,-1.0476341732502922E10]}]},{\"name\":\"trace89\",\"data\":[{\"name\":\"trace89\",\"type\":\"scatter3d\",\"xaxis\":\"x\",\"yaxis\":\"y\",\"x\":[0,1,2,3,4,5,6,7,8,9],\"y\":[0,0.2160394836720846,1.187272959556922,2.5144037241929307,1.7174565225045781,3.4044509997411754,4.9981275572735795,6.918974376876151,4.730538195860267,7.3693993281339925],\"z\":[0,-1.4455673030956152E8,-4.106445491428258E8,-5.10123119045835E8,-5.200334388161136E8,5.067054042745594E7,-2.339716376630954E9,-2.0847024140077262E9,4.738932220507244E9,1.9840345707265282E8]}]},{\"name\":\"trace90\",\"data\":[{\"name\":\"trace90\",\"type\":\"scatter3d\",\"xaxis\":\"x\",\"yaxis\":\"y\",\"x\":[0,1,2,3,4,5,6,7,8,9],\"y\":[0,0.01743822497324654,0.647035328889837,2.6528755430964734,1.4882601457828466,2.69860125345401,1.7564391214114667,0.6806247606869348,6.310053764991579,4.207232558668354],\"z\":[0,6.14697103899192E8,3.920974723067285E8,3.0982913687553816E9,6.245353929344828E9,-1.4032798912808592E9,1.5263663526521697E9,-7.889981139627409E9,1.6953400757890968E9,4.422143144028816E9]}]},{\"name\":\"trace91\",\"data\":[{\"name\":\"trace91\",\"type\":\"scatter3d\",\"xaxis\":\"x\",\"yaxis\":\"y\",\"x\":[0,1,2,3,4,5,6,7,8,9],\"y\":[0,0.2897719953878528,1.7584957088976358,1.583722324599166,2.2695092993775168,3.1019386755563945,2.592853772054532,4.935728458911548,7.210556811988049,7.888388362113766],\"z\":[0,-9874948.139369018,-1.240828441450544E9,1.5307293647162316E9,1.8483899620342891E9,8.323938267569559E8,-7.827071461183671E8,4.8908520938899136E8,1.9900450310239763E9,-7.423839862401064E9]}]},{\"name\":\"trace92\",\"data\":[{\"name\":\"trace92\",\"type\":\"scatter3d\",\"xaxis\":\"x\",\"yaxis\":\"y\",\"x\":[0,1,2,3,4,5,6,7,8,9],\"y\":[0,0.7552880965844632,0.7550498317369121,2.4190038010609243,1.8485469018841245,1.443474425546033,1.442313326758491,2.9632362824710246,2.0298758076207557,7.586995168530404],\"z\":[0,-6.734104765288039E7,-4.8948991615519625E8,-6.485619867433819E7,1.4896863922083154E9,-1.7479719850597233E7,-9.349188694977127E8,4.308399252714877E9,-1.1341633646547182E9,4.1188600185065603E8]}]},{\"name\":\"trace93\",\"data\":[{\"name\":\"trace93\",\"type\":\"scatter3d\",\"xaxis\":\"x\",\"yaxis\":\"y\",\"x\":[0,1,2,3,4,5,6,7,8,9],\"y\":[0,0.290035177703983,0.4856971135898851,1.9174966760588399,1.489664282713289,3.043217729970646,1.9318023086048244,5.246967177791939,7.847685997823065,6.370170259936605],\"z\":[0,-9.244241371352975E8,9155204.12605655,2.1667641297785115E9,-4.8273989151803577E8,-4.4239548686229694E8,-1.030261374450087E9,-7.42703330552542E9,7.825583288947549E9,-5.89605028570995E9]}]},{\"name\":\"trace94\",\"data\":[{\"name\":\"trace94\",\"type\":\"scatter3d\",\"xaxis\":\"x\",\"yaxis\":\"y\",\"x\":[0,1,2,3,4,5,6,7,8,9],\"y\":[0,0.8439919122294619,1.1337893844455473,1.5350864466642653,2.6954464252529142,4.740110160024588,0.048592994671089684,3.121725327170369,6.408757559997856,4.217273305708553],\"z\":[0,-1.171903556551809E8,3.0722574132467556E9,6.868024158360816E8,-2.5144899121329985E9,3.098703517832955E8,-5.85297096980536E8,2.587198759688923E9,-1.4459101178315022E10,7.161806985490584E9]}]},{\"name\":\"trace95\",\"data\":[{\"name\":\"trace95\",\"type\":\"scatter3d\",\"xaxis\":\"x\",\"yaxis\":\"y\",\"x\":[0,1,2,3,4,5,6,7,8,9],\"y\":[0,0.9385561608055603,0.7431829480643473,0.722457222918052,3.3665062169153317,0.48290044243258834,2.9235763787606697,6.033376159282632,3.7469707089175586,4.89178107687774],\"z\":[0,2.1364499789640835E8,3.9841838505857386E7,1.3759919482847524E9,-3.49531312700052E9,-7.323759991271806E8,-1.672416204190176E9,-3.598408785486699E9,8.87794982200952E8,-4.665075457546646E9]}]},{\"name\":\"trace96\",\"data\":[{\"name\":\"trace96\",\"type\":\"scatter3d\",\"xaxis\":\"x\",\"yaxis\":\"y\",\"x\":[0,1,2,3,4,5,6,7,8,9],\"y\":[0,0.9238007889740213,1.048946625058221,1.9082929475360961,0.4483634774167342,1.6125694694074744,3.0977089964359767,2.790338016571974,4.189594539993992,5.152326138841487],\"z\":[0,-5.427579844015009E8,5.735350128683727E8,-2.4790268758388267E9,1.463058841132839E9,-4.046547186384768E9,-3.1576979098284364E8,-3.1381555846547537E9,9.60855438644139E9,4.476952680612719E9]}]},{\"name\":\"trace97\",\"data\":[{\"name\":\"trace97\",\"type\":\"scatter3d\",\"xaxis\":\"x\",\"yaxis\":\"y\",\"x\":[0,1,2,3,4,5,6,7,8,9],\"y\":[0,0.04396357000759621,1.1564716008509173,2.4110415628546944,0.5423109026967374,2.876975421810586,5.214382786752892,2.304108477197376,5.3997167710450675,2.7208261371997935],\"z\":[0,2.0654521268399172E9,5.4883528480849065E7,5.908784123162817E8,3.2494796100869465E9,-2.7945104961076415E8,5.242850247860124E9,3.143915336109991E9,4.0405093213075523E9,-5.720760168059966E9]}]},{\"name\":\"trace98\",\"data\":[{\"name\":\"trace98\",\"type\":\"scatter3d\",\"xaxis\":\"x\",\"yaxis\":\"y\",\"x\":[0,1,2,3,4,5,6,7,8,9],\"y\":[0,0.7549931557033559,1.287082253170525,2.26307705228858,1.7564605086287957,1.6502793778000802,0.5788589301206015,5.8134231149786855,7.386381906364974,2.8777992455781822],\"z\":[0,1.3990982743575919E9,2.8767959056248665E7,3.3001082159910393E9,-3.8849837949975395E8,2.443748079849682E8,-4.333484075320429E9,-7.350336583179374E9,-1.6137379319220533E9,6.042932012149932E9]}]},{\"name\":\"trace99\",\"data\":[{\"name\":\"trace99\",\"type\":\"scatter3d\",\"xaxis\":\"x\",\"yaxis\":\"y\",\"x\":[0,1,2,3,4,5,6,7,8,9],\"y\":[0,0.03081051559373249,1.5719303323377007,0.9034316053273,2.9822226465324935,2.224227661708307,2.5085923643960717,2.558804199461453,6.793237000784655,7.797498782008736],\"z\":[0,-1.2444566281574036E8,2.270842006656258E9,1.3818844832734408E9,4.015739981276896E8,4.083901959640327E9,2299628.0727048847,2.564537819014783E8,-9.226475505796976E9,-3.870847886173198E9]}]}]\n",
       "var labels_4e03dfd48b3490 = [\"trace0\",\"trace1\",\"trace2\",\"trace3\",\"trace4\",\"trace5\",\"trace6\",\"trace7\",\"trace8\",\"trace9\",\"trace10\",\"trace11\",\"trace12\",\"trace13\",\"trace14\",\"trace15\",\"trace16\",\"trace17\",\"trace18\",\"trace19\",\"trace20\",\"trace21\",\"trace22\",\"trace23\",\"trace24\",\"trace25\",\"trace26\",\"trace27\",\"trace28\",\"trace29\",\"trace30\",\"trace31\",\"trace32\",\"trace33\",\"trace34\",\"trace35\",\"trace36\",\"trace37\",\"trace38\",\"trace39\",\"trace40\",\"trace41\",\"trace42\",\"trace43\",\"trace44\",\"trace45\",\"trace46\",\"trace47\",\"trace48\",\"trace49\",\"trace50\",\"trace51\",\"trace52\",\"trace53\",\"trace54\",\"trace55\",\"trace56\",\"trace57\",\"trace58\",\"trace59\",\"trace60\",\"trace61\",\"trace62\",\"trace63\",\"trace64\",\"trace65\",\"trace66\",\"trace67\",\"trace68\",\"trace69\",\"trace70\",\"trace71\",\"trace72\",\"trace73\",\"trace74\",\"trace75\",\"trace76\",\"trace77\",\"trace78\",\"trace79\",\"trace80\",\"trace81\",\"trace82\",\"trace83\",\"trace84\",\"trace85\",\"trace86\",\"trace87\",\"trace88\",\"trace89\",\"trace90\",\"trace91\",\"trace92\",\"trace93\",\"trace94\",\"trace95\",\"trace96\",\"trace97\",\"trace98\",\"trace99\"]\n",
       "var duration_4e03dfd48b3490 = 100\n",
       "\n",
       "var animation_settings_4e03dfd48b3490 = {\n",
       "    mode: \"immediate\",\n",
       "    direction: {},\n",
       "    fromcurrent: true,\n",
       "    frame: [\n",
       "      {duration: duration_4e03dfd48b3490},\n",
       "      {duration: duration_4e03dfd48b3490},\n",
       "      {redraw: true}\n",
       "    ],\n",
       "    transition: [\n",
       "      {duration: duration_4e03dfd48b3490, easing: 'cubic-in-out'},\n",
       "      {duration: duration_4e03dfd48b3490, easing: 'cubic-in-out'},\n",
       "    ],\n",
       "    ordering: \"layout first\"\n",
       "}\n",
       "\n",
       "var slider_4e03dfd48b3490 = document.createElement(\"input\")\n",
       "var play_4e03dfd48b3490 = document.getElementById(\"play_4e03dfd48b3490\")\n",
       "var pause_4e03dfd48b3490 = document.getElementById(\"pause_4e03dfd48b3490\")\n",
       "slider_4e03dfd48b3490.id = \"slider_4e03dfd48b3490\"\n",
       "slider_4e03dfd48b3490.type = \"range\"\n",
       "slider_4e03dfd48b3490.min = 0\n",
       "slider_4e03dfd48b3490.max = frames_4e03dfd48b3490.length - 1\n",
       "slider_4e03dfd48b3490.value = 0\n",
       "document.getElementById(\"sliderContainer_4e03dfd48b3490\").appendChild(slider_4e03dfd48b3490);\n",
       "\n",
       "Plotly.newPlot(graph_4e03dfd48b3490, traces_4e03dfd48b3490, layout_4e03dfd48b3490)\n",
       ".then(function () { Plotly.addFrames(graph_4e03dfd48b3490, frames_4e03dfd48b3490) })\n",
       "\n",
       "var trigger_4e03dfd48b3490 = true\n",
       "var reset_count_4e03dfd48b3490 = false\n",
       "\n",
       "\n",
       "play_4e03dfd48b3490.addEventListener('click', function() {\n",
       "   trigger_4e03dfd48b3490 = true\n",
       "   if (reset_count_4e03dfd48b3490) {\n",
       "      slider_4e03dfd48b3490.value = 0\n",
       "      reset_count_4e03dfd48b3490 = false\n",
       "   }\n",
       "\n",
       "  const start_index = slider_4e03dfd48b3490.value == labels_4e03dfd48b3490.length - 1 ? 0 : slider_4e03dfd48b3490.value\n",
       "  const end_index = labels_4e03dfd48b3490.length\n",
       "  Plotly.animate(graph_4e03dfd48b3490, labels_4e03dfd48b3490.slice(start_index, end_index), animation_settings_4e03dfd48b3490)\n",
       "})\n",
       "\n",
       "pause_4e03dfd48b3490.addEventListener('click', function() {\n",
       "  Plotly.animate(graph_4e03dfd48b3490, [null], animation_settings_4e03dfd48b3490)\n",
       "})\n",
       "\n",
       "graph_4e03dfd48b3490.on('plotly_redraw', () => {\n",
       "   value_4e03dfd48b3490.innerHTML = slider_4e03dfd48b3490.value;\n",
       "   if (trigger_4e03dfd48b3490 & !reset_count_4e03dfd48b3490) ++slider_4e03dfd48b3490.value\n",
       "   if (slider_4e03dfd48b3490.value == labels_4e03dfd48b3490.length - 1) reset_count_4e03dfd48b3490 = true\n",
       "});\n",
       "\n",
       "slider_4e03dfd48b3490.oninput = function() {\n",
       "   Plotly.animate(graph_4e03dfd48b3490, frames_4e03dfd48b3490[this.value], animation_settings_4e03dfd48b3490)\n",
       "   trigger_4e03dfd48b3490 = false\n",
       "   slider_4e03dfd48b3490.value = this.value\n",
       "   value_4e03dfd48b3490.innerHTML = this.value;\n",
       "   if (this.value == 0) reset_count_4e03dfd48b3490 = false\n",
       "   if (this.value == labels_4e03dfd48b3490.length - 1) reset_count_4e03dfd48b3490 = true\n",
       "   reset_count_4e03dfd48b3490 = false\n",
       "}\n",
       "</script>\n"
      ]
     },
     "metadata": {},
     "output_type": "display_data"
    }
   ],
   "source": [
    "val series = createXYZSeries(numberToCreate=100)\n",
    "\n",
    "val layout = Layout(\"Animation.XYZ\")\n",
    "\n",
    "val chart = Chart(animated=true) setLayout layout setData series\n",
    "\n",
    "chart.plot_inline()"
   ]
  }
 ],
 "metadata": {
  "kernelspec": {
   "display_name": "Scala",
   "language": "scala",
   "name": "scala"
  },
  "language_info": {
   "codemirror_mode": "text/x-scala",
   "file_extension": ".scala",
   "mimetype": "text/x-scala",
   "name": "scala",
   "nbconvert_exporter": "script",
   "version": "2.13.2"
  }
 },
 "nbformat": 4,
 "nbformat_minor": 4
}
