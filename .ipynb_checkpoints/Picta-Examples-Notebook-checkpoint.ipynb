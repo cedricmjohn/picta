{
 "cells": [
  {
   "cell_type": "markdown",
   "metadata": {},
   "source": [
    "# 1. Setup\n",
    "\n",
    "To use Picta in a Jupyter notebook with the Almond.sh kernel, you need to first register a new Jitpack repository as some essential component of Almond are not availble in Maven Central (simply copy and run the first cell below). You then need to import the library from Maven (second cell) and initiliaze the notebook to hvave nicer outputs (optional, third cell)."
   ]
  },
  {
   "cell_type": "code",
   "execution_count": 1,
   "metadata": {},
   "outputs": [],
   "source": [
    "interp.repositories() ++= Seq(coursierapi.MavenRepository.of(\n",
    "\"https://jitpack.io\"\n",
    "))"
   ]
  },
  {
   "cell_type": "code",
   "execution_count": 2,
   "metadata": {},
   "outputs": [
    {
     "data": {
      "text/plain": [
       "\u001b[32mimport \u001b[39m\u001b[36m$ivy.$                                    \u001b[39m"
      ]
     },
     "execution_count": 2,
     "metadata": {},
     "output_type": "execute_result"
    }
   ],
   "source": [
    "import $ivy. `org.carbonateresearch::picta:0.1.1`"
   ]
  },
  {
   "cell_type": "code",
   "execution_count": 3,
   "metadata": {
    "scrolled": false
   },
   "outputs": [
    {
     "data": {
      "text/html": [
       "\n",
       "<style> #animationInterface {\n",
       "    margin-top: 50px;\n",
       "    margin-bottom: 50px;\n",
       "}\n",
       "\n",
       ".progressBar {\n",
       "    padding-top: 20px;\n",
       "    padding-bottom: 20px;\n",
       "}\n",
       "\n",
       ".inline-div {\n",
       "    display: block;\n",
       "    text-align: center;\n",
       "}\n",
       "\n",
       "h3 {\n",
       "    display: inline-block;\n",
       "    text-align: center;\n",
       "}\n",
       "\n",
       ".picta-button {\n",
       "    background-color: #003E74;\n",
       "    border: none;\n",
       "    color: white;\n",
       "    padding: 12px 28px;\n",
       "    text-align: center;\n",
       "    text-decoration: none;\n",
       "    display: inline-block;\n",
       "    font-size: 12px;\n",
       "    margin-top: 50px;\n",
       "    transition-duration: 0.4s;\n",
       "    cursor: pointer;\n",
       "}\n",
       "\n",
       ".picta-button:hover {\n",
       "    background-color: #002147;\n",
       "    color: white;\n",
       "}\n",
       "\n",
       ".grid-title h1 {\n",
       "    font-family: \"Open Sans\", verdana, arial, sans-serif;\n",
       "    font-weight: normal;\n",
       "}\n",
       "\n",
       ".grid-container {\n",
       "    padding-top: 40px;\n",
       "    background: white;\n",
       "} </style>\n",
       "<script> /** vim: et:ts=4:sw=4:sts=4\n",
       " * @license RequireJS 2.3.6 Copyright jQuery Foundation and other contributors.\n",
       " * Released under MIT license, https://github.com/requirejs/requirejs/blob/master/LICENSE\n",
       " */\n",
       "var requirejs,require,define;!function(global,setTimeout){var req,s,head,baseElement,dataMain,src,interactiveScript,currentlyAddingScript,mainScript,subPath,version=\"2.3.6\",commentRegExp=/\\/\\*[\\s\\S]*?\\*\\/|([^:\"'=]|^)\\/\\/.*$/gm,cjsRequireRegExp=/[^.]\\s*require\\s*\\(\\s*[\"']([^'\"\\s]+)[\"']\\s*\\)/g,jsSuffixRegExp=/\\.js$/,currDirRegExp=/^\\.\\//,op=Object.prototype,ostring=op.toString,hasOwn=op.hasOwnProperty,isBrowser=!(\"undefined\"==typeof window||\"undefined\"==typeof navigator||!window.document),isWebWorker=!isBrowser&&\"undefined\"!=typeof importScripts,readyRegExp=isBrowser&&\"PLAYSTATION 3\"===navigator.platform?/^complete$/:/^(complete|loaded)$/,defContextName=\"_\",isOpera=\"undefined\"!=typeof opera&&\"[object Opera]\"===opera.toString(),contexts={},cfg={},globalDefQueue=[],useInteractive=!1;function commentReplace(e,t){return t||\"\"}function isFunction(e){return\"[object Function]\"===ostring.call(e)}function isArray(e){return\"[object Array]\"===ostring.call(e)}function each(e,t){var i;if(e)for(i=0;i<e.length&&(!e[i]||!t(e[i],i,e));i+=1);}function eachReverse(e,t){var i;if(e)for(i=e.length-1;-1<i&&(!e[i]||!t(e[i],i,e));i-=1);}function hasProp(e,t){return hasOwn.call(e,t)}function getOwn(e,t){return hasProp(e,t)&&e[t]}function eachProp(e,t){var i;for(i in e)if(hasProp(e,i)&&t(e[i],i))break}function mixin(i,e,r,n){return e&&eachProp(e,function(e,t){!r&&hasProp(i,t)||(!n||\"object\"!=typeof e||!e||isArray(e)||isFunction(e)||e instanceof RegExp?i[t]=e:(i[t]||(i[t]={}),mixin(i[t],e,r,n)))}),i}function bind(e,t){return function(){return t.apply(e,arguments)}}function scripts(){return document.getElementsByTagName(\"script\")}function defaultOnError(e){throw e}function getGlobal(e){if(!e)return e;var t=global;return each(e.split(\".\"),function(e){t=t[e]}),t}function makeError(e,t,i,r){var n=new Error(t+\"\\nhttps://requirejs.org/docs/errors.html#\"+e);return n.requireType=e,n.requireModules=r,i&&(n.originalError=i),n}if(void 0===define){if(void 0!==requirejs){if(isFunction(requirejs))return;cfg=requirejs,requirejs=void 0}void 0===require||isFunction(require)||(cfg=require,require=void 0),req=requirejs=function(e,t,i,r){var n,o,a=defContextName;return isArray(e)||\"string\"==typeof e||(o=e,isArray(t)?(e=t,t=i,i=r):e=[]),o&&o.context&&(a=o.context),(n=getOwn(contexts,a))||(n=contexts[a]=req.s.newContext(a)),o&&n.configure(o),n.require(e,t,i)},req.config=function(e){return req(e)},req.nextTick=void 0!==setTimeout?function(e){setTimeout(e,4)}:function(e){e()},require||(require=req),req.version=version,req.jsExtRegExp=/^\\/|:|\\?|\\.js$/,req.isBrowser=isBrowser,s=req.s={contexts:contexts,newContext:newContext},req({}),each([\"toUrl\",\"undef\",\"defined\",\"specified\"],function(t){req[t]=function(){var e=contexts[defContextName];return e.require[t].apply(e,arguments)}}),isBrowser&&(head=s.head=document.getElementsByTagName(\"head\")[0],baseElement=document.getElementsByTagName(\"base\")[0],baseElement&&(head=s.head=baseElement.parentNode)),req.onError=defaultOnError,req.createNode=function(e,t,i){var r=e.xhtml?document.createElementNS(\"http://www.w3.org/1999/xhtml\",\"html:script\"):document.createElement(\"script\");return r.type=e.scriptType||\"text/javascript\",r.charset=\"utf-8\",r.async=!0,r},req.load=function(t,i,r){var e,n=t&&t.config||{};if(isBrowser)return(e=req.createNode(n,i,r)).setAttribute(\"data-requirecontext\",t.contextName),e.setAttribute(\"data-requiremodule\",i),!e.attachEvent||e.attachEvent.toString&&e.attachEvent.toString().indexOf(\"[native code\")<0||isOpera?(e.addEventListener(\"load\",t.onScriptLoad,!1),e.addEventListener(\"error\",t.onScriptError,!1)):(useInteractive=!0,e.attachEvent(\"onreadystatechange\",t.onScriptLoad)),e.src=r,n.onNodeCreated&&n.onNodeCreated(e,n,i,r),currentlyAddingScript=e,baseElement?head.insertBefore(e,baseElement):head.appendChild(e),currentlyAddingScript=null,e;if(isWebWorker)try{setTimeout(function(){},0),importScripts(r),t.completeLoad(i)}catch(e){t.onError(makeError(\"importscripts\",\"importScripts failed for \"+i+\" at \"+r,e,[i]))}},isBrowser&&!cfg.skipDataMain&&eachReverse(scripts(),function(e){if(head||(head=e.parentNode),dataMain=e.getAttribute(\"data-main\"))return mainScript=dataMain,cfg.baseUrl||-1!==mainScript.indexOf(\"!\")||(mainScript=(src=mainScript.split(\"/\")).pop(),subPath=src.length?src.join(\"/\")+\"/\":\"./\",cfg.baseUrl=subPath),mainScript=mainScript.replace(jsSuffixRegExp,\"\"),req.jsExtRegExp.test(mainScript)&&(mainScript=dataMain),cfg.deps=cfg.deps?cfg.deps.concat(mainScript):[mainScript],!0}),define=function(e,i,t){var r,n;\"string\"!=typeof e&&(t=i,i=e,e=null),isArray(i)||(t=i,i=null),!i&&isFunction(t)&&(i=[],t.length&&(t.toString().replace(commentRegExp,commentReplace).replace(cjsRequireRegExp,function(e,t){i.push(t)}),i=(1===t.length?[\"require\"]:[\"require\",\"exports\",\"module\"]).concat(i))),useInteractive&&(r=currentlyAddingScript||getInteractiveScript())&&(e||(e=r.getAttribute(\"data-requiremodule\")),n=contexts[r.getAttribute(\"data-requirecontext\")]),n?(n.defQueue.push([e,i,t]),n.defQueueMap[e]=!0):globalDefQueue.push([e,i,t])},define.amd={jQuery:!0},req.exec=function(text){return eval(text)},req(cfg)}function newContext(u){var i,e,l,c,d,g={waitSeconds:7,baseUrl:\"./\",paths:{},bundles:{},pkgs:{},shim:{},config:{}},p={},f={},r={},h=[],m={},n={},v={},x=1,b=1;function q(e,t,i){var r,n,o,a,s,u,c,d,p,f,l=t&&t.split(\"/\"),h=g.map,m=h&&h[\"*\"];if(e&&(u=(e=e.split(\"/\")).length-1,g.nodeIdCompat&&jsSuffixRegExp.test(e[u])&&(e[u]=e[u].replace(jsSuffixRegExp,\"\")),\".\"===e[0].charAt(0)&&l&&(e=l.slice(0,l.length-1).concat(e)),function(e){var t,i;for(t=0;t<e.length;t++)if(\".\"===(i=e[t]))e.splice(t,1),t-=1;else if(\"..\"===i){if(0===t||1===t&&\"..\"===e[2]||\"..\"===e[t-1])continue;0<t&&(e.splice(t-1,2),t-=2)}}(e),e=e.join(\"/\")),i&&h&&(l||m)){e:for(o=(n=e.split(\"/\")).length;0<o;o-=1){if(s=n.slice(0,o).join(\"/\"),l)for(a=l.length;0<a;a-=1)if((r=getOwn(h,l.slice(0,a).join(\"/\")))&&(r=getOwn(r,s))){c=r,d=o;break e}!p&&m&&getOwn(m,s)&&(p=getOwn(m,s),f=o)}!c&&p&&(c=p,d=f),c&&(n.splice(0,d,c),e=n.join(\"/\"))}return getOwn(g.pkgs,e)||e}function E(t){isBrowser&&each(scripts(),function(e){if(e.getAttribute(\"data-requiremodule\")===t&&e.getAttribute(\"data-requirecontext\")===l.contextName)return e.parentNode.removeChild(e),!0})}function w(e){var t=getOwn(g.paths,e);if(t&&isArray(t)&&1<t.length)return t.shift(),l.require.undef(e),l.makeRequire(null,{skipMap:!0})([e]),!0}function y(e){var t,i=e?e.indexOf(\"!\"):-1;return-1<i&&(t=e.substring(0,i),e=e.substring(i+1,e.length)),[t,e]}function S(e,t,i,r){var n,o,a,s,u=null,c=t?t.name:null,d=e,p=!0,f=\"\";return e||(p=!1,e=\"_@r\"+(x+=1)),u=(s=y(e))[0],e=s[1],u&&(u=q(u,c,r),o=getOwn(m,u)),e&&(u?f=i?e:o&&o.normalize?o.normalize(e,function(e){return q(e,c,r)}):-1===e.indexOf(\"!\")?q(e,c,r):e:(u=(s=y(f=q(e,c,r)))[0],f=s[1],i=!0,n=l.nameToUrl(f))),{prefix:u,name:f,parentMap:t,unnormalized:!!(a=!u||o||i?\"\":\"_unnormalized\"+(b+=1)),url:n,originalName:d,isDefine:p,id:(u?u+\"!\"+f:f)+a}}function k(e){var t=e.id,i=getOwn(p,t);return i||(i=p[t]=new l.Module(e)),i}function M(e,t,i){var r=e.id,n=getOwn(p,r);!hasProp(m,r)||n&&!n.defineEmitComplete?(n=k(e)).error&&\"error\"===t?i(n.error):n.on(t,i):\"defined\"===t&&i(m[r])}function O(i,e){var t=i.requireModules,r=!1;e?e(i):(each(t,function(e){var t=getOwn(p,e);t&&(t.error=i,t.events.error&&(r=!0,t.emit(\"error\",i)))}),r||req.onError(i))}function j(){globalDefQueue.length&&(each(globalDefQueue,function(e){var t=e[0];\"string\"==typeof t&&(l.defQueueMap[t]=!0),h.push(e)}),globalDefQueue=[])}function P(e){delete p[e],delete f[e]}function R(){var e,r,t=1e3*g.waitSeconds,n=t&&l.startTime+t<(new Date).getTime(),o=[],a=[],s=!1,u=!0;if(!i){if(i=!0,eachProp(f,function(e){var t=e.map,i=t.id;if(e.enabled&&(t.isDefine||a.push(e),!e.error))if(!e.inited&&n)w(i)?s=r=!0:(o.push(i),E(i));else if(!e.inited&&e.fetched&&t.isDefine&&(s=!0,!t.prefix))return u=!1}),n&&o.length)return(e=makeError(\"timeout\",\"Load timeout for modules: \"+o,null,o)).contextName=l.contextName,O(e);u&&each(a,function(e){!function n(o,a,s){var e=o.map.id;o.error?o.emit(\"error\",o.error):(a[e]=!0,each(o.depMaps,function(e,t){var i=e.id,r=getOwn(p,i);!r||o.depMatched[t]||s[i]||(getOwn(a,i)?(o.defineDep(t,m[i]),o.check()):n(r,a,s))}),s[e]=!0)}(e,{},{})}),n&&!r||!s||!isBrowser&&!isWebWorker||d||(d=setTimeout(function(){d=0,R()},50)),i=!1}}function a(e){hasProp(m,e[0])||k(S(e[0],null,!0)).init(e[1],e[2])}function o(e,t,i,r){e.detachEvent&&!isOpera?r&&e.detachEvent(r,t):e.removeEventListener(i,t,!1)}function s(e){var t=e.currentTarget||e.srcElement;return o(t,l.onScriptLoad,\"load\",\"onreadystatechange\"),o(t,l.onScriptError,\"error\"),{node:t,id:t&&t.getAttribute(\"data-requiremodule\")}}function T(){var e;for(j();h.length;){if(null===(e=h.shift())[0])return O(makeError(\"mismatch\",\"Mismatched anonymous define() module: \"+e[e.length-1]));a(e)}l.defQueueMap={}}return c={require:function(e){return e.require?e.require:e.require=l.makeRequire(e.map)},exports:function(e){if(e.usingExports=!0,e.map.isDefine)return e.exports?m[e.map.id]=e.exports:e.exports=m[e.map.id]={}},module:function(e){return e.module?e.module:e.module={id:e.map.id,uri:e.map.url,config:function(){return getOwn(g.config,e.map.id)||{}},exports:e.exports||(e.exports={})}}},(e=function(e){this.events=getOwn(r,e.id)||{},this.map=e,this.shim=getOwn(g.shim,e.id),this.depExports=[],this.depMaps=[],this.depMatched=[],this.pluginMaps={},this.depCount=0}).prototype={init:function(e,t,i,r){r=r||{},this.inited||(this.factory=t,i?this.on(\"error\",i):this.events.error&&(i=bind(this,function(e){this.emit(\"error\",e)})),this.depMaps=e&&e.slice(0),this.errback=i,this.inited=!0,this.ignore=r.ignore,r.enabled||this.enabled?this.enable():this.check())},defineDep:function(e,t){this.depMatched[e]||(this.depMatched[e]=!0,this.depCount-=1,this.depExports[e]=t)},fetch:function(){if(!this.fetched){this.fetched=!0,l.startTime=(new Date).getTime();var e=this.map;if(!this.shim)return e.prefix?this.callPlugin():this.load();l.makeRequire(this.map,{enableBuildCallback:!0})(this.shim.deps||[],bind(this,function(){return e.prefix?this.callPlugin():this.load()}))}},load:function(){var e=this.map.url;n[e]||(n[e]=!0,l.load(this.map.id,e))},check:function(){if(this.enabled&&!this.enabling){var t,e,i=this.map.id,r=this.depExports,n=this.exports,o=this.factory;if(this.inited){if(this.error)this.emit(\"error\",this.error);else if(!this.defining){if(this.defining=!0,this.depCount<1&&!this.defined){if(isFunction(o)){if(this.events.error&&this.map.isDefine||req.onError!==defaultOnError)try{n=l.execCb(i,o,r,n)}catch(e){t=e}else n=l.execCb(i,o,r,n);if(this.map.isDefine&&void 0===n&&((e=this.module)?n=e.exports:this.usingExports&&(n=this.exports)),t)return t.requireMap=this.map,t.requireModules=this.map.isDefine?[this.map.id]:null,t.requireType=this.map.isDefine?\"define\":\"require\",O(this.error=t)}else n=o;if(this.exports=n,this.map.isDefine&&!this.ignore&&(m[i]=n,req.onResourceLoad)){var a=[];each(this.depMaps,function(e){a.push(e.normalizedMap||e)}),req.onResourceLoad(l,this.map,a)}P(i),this.defined=!0}this.defining=!1,this.defined&&!this.defineEmitted&&(this.defineEmitted=!0,this.emit(\"defined\",this.exports),this.defineEmitComplete=!0)}}else hasProp(l.defQueueMap,i)||this.fetch()}},callPlugin:function(){var u=this.map,c=u.id,e=S(u.prefix);this.depMaps.push(e),M(e,\"defined\",bind(this,function(e){var o,t,i,r=getOwn(v,this.map.id),n=this.map.name,a=this.map.parentMap?this.map.parentMap.name:null,s=l.makeRequire(u.parentMap,{enableBuildCallback:!0});return this.map.unnormalized?(e.normalize&&(n=e.normalize(n,function(e){return q(e,a,!0)})||\"\"),M(t=S(u.prefix+\"!\"+n,this.map.parentMap,!0),\"defined\",bind(this,function(e){this.map.normalizedMap=t,this.init([],function(){return e},null,{enabled:!0,ignore:!0})})),void((i=getOwn(p,t.id))&&(this.depMaps.push(t),this.events.error&&i.on(\"error\",bind(this,function(e){this.emit(\"error\",e)})),i.enable()))):r?(this.map.url=l.nameToUrl(r),void this.load()):((o=bind(this,function(e){this.init([],function(){return e},null,{enabled:!0})})).error=bind(this,function(e){this.inited=!0,(this.error=e).requireModules=[c],eachProp(p,function(e){0===e.map.id.indexOf(c+\"_unnormalized\")&&P(e.map.id)}),O(e)}),o.fromText=bind(this,function(e,t){var i=u.name,r=S(i),n=useInteractive;t&&(e=t),n&&(useInteractive=!1),k(r),hasProp(g.config,c)&&(g.config[i]=g.config[c]);try{req.exec(e)}catch(e){return O(makeError(\"fromtexteval\",\"fromText eval for \"+c+\" failed: \"+e,e,[c]))}n&&(useInteractive=!0),this.depMaps.push(r),l.completeLoad(i),s([i],o)}),void e.load(u.name,s,o,g))})),l.enable(e,this),this.pluginMaps[e.id]=e},enable:function(){(f[this.map.id]=this).enabled=!0,this.enabling=!0,each(this.depMaps,bind(this,function(e,t){var i,r,n;if(\"string\"==typeof e){if(e=S(e,this.map.isDefine?this.map:this.map.parentMap,!1,!this.skipMap),this.depMaps[t]=e,n=getOwn(c,e.id))return void(this.depExports[t]=n(this));this.depCount+=1,M(e,\"defined\",bind(this,function(e){this.undefed||(this.defineDep(t,e),this.check())})),this.errback?M(e,\"error\",bind(this,this.errback)):this.events.error&&M(e,\"error\",bind(this,function(e){this.emit(\"error\",e)}))}i=e.id,r=p[i],hasProp(c,i)||!r||r.enabled||l.enable(e,this)})),eachProp(this.pluginMaps,bind(this,function(e){var t=getOwn(p,e.id);t&&!t.enabled&&l.enable(e,this)})),this.enabling=!1,this.check()},on:function(e,t){var i=this.events[e];i||(i=this.events[e]=[]),i.push(t)},emit:function(e,t){each(this.events[e],function(e){e(t)}),\"error\"===e&&delete this.events[e]}},(l={config:g,contextName:u,registry:p,defined:m,urlFetched:n,defQueue:h,defQueueMap:{},Module:e,makeModuleMap:S,nextTick:req.nextTick,onError:O,configure:function(e){if(e.baseUrl&&\"/\"!==e.baseUrl.charAt(e.baseUrl.length-1)&&(e.baseUrl+=\"/\"),\"string\"==typeof e.urlArgs){var i=e.urlArgs;e.urlArgs=function(e,t){return(-1===t.indexOf(\"?\")?\"?\":\"&\")+i}}var r=g.shim,n={paths:!0,bundles:!0,config:!0,map:!0};eachProp(e,function(e,t){n[t]?(g[t]||(g[t]={}),mixin(g[t],e,!0,!0)):g[t]=e}),e.bundles&&eachProp(e.bundles,function(e,t){each(e,function(e){e!==t&&(v[e]=t)})}),e.shim&&(eachProp(e.shim,function(e,t){isArray(e)&&(e={deps:e}),!e.exports&&!e.init||e.exportsFn||(e.exportsFn=l.makeShimExports(e)),r[t]=e}),g.shim=r),e.packages&&each(e.packages,function(e){var t;t=(e=\"string\"==typeof e?{name:e}:e).name,e.location&&(g.paths[t]=e.location),g.pkgs[t]=e.name+\"/\"+(e.main||\"main\").replace(currDirRegExp,\"\").replace(jsSuffixRegExp,\"\")}),eachProp(p,function(e,t){e.inited||e.map.unnormalized||(e.map=S(t,null,!0))}),(e.deps||e.callback)&&l.require(e.deps||[],e.callback)},makeShimExports:function(t){return function(){var e;return t.init&&(e=t.init.apply(global,arguments)),e||t.exports&&getGlobal(t.exports)}},makeRequire:function(o,a){function s(e,t,i){var r,n;return a.enableBuildCallback&&t&&isFunction(t)&&(t.__requireJsBuild=!0),\"string\"==typeof e?isFunction(t)?O(makeError(\"requireargs\",\"Invalid require call\"),i):o&&hasProp(c,e)?c[e](p[o.id]):req.get?req.get(l,e,o,s):(r=S(e,o,!1,!0).id,hasProp(m,r)?m[r]:O(makeError(\"notloaded\",'Module name \"'+r+'\" has not been loaded yet for context: '+u+(o?\"\":\". Use require([])\")))):(T(),l.nextTick(function(){T(),(n=k(S(null,o))).skipMap=a.skipMap,n.init(e,t,i,{enabled:!0}),R()}),s)}return a=a||{},mixin(s,{isBrowser:isBrowser,toUrl:function(e){var t,i=e.lastIndexOf(\".\"),r=e.split(\"/\")[0];return-1!==i&&(!(\".\"===r||\"..\"===r)||1<i)&&(t=e.substring(i,e.length),e=e.substring(0,i)),l.nameToUrl(q(e,o&&o.id,!0),t,!0)},defined:function(e){return hasProp(m,S(e,o,!1,!0).id)},specified:function(e){return e=S(e,o,!1,!0).id,hasProp(m,e)||hasProp(p,e)}}),o||(s.undef=function(i){j();var e=S(i,o,!0),t=getOwn(p,i);t.undefed=!0,E(i),delete m[i],delete n[e.url],delete r[i],eachReverse(h,function(e,t){e[0]===i&&h.splice(t,1)}),delete l.defQueueMap[i],t&&(t.events.defined&&(r[i]=t.events),P(i))}),s},enable:function(e){getOwn(p,e.id)&&k(e).enable()},completeLoad:function(e){var t,i,r,n=getOwn(g.shim,e)||{},o=n.exports;for(j();h.length;){if(null===(i=h.shift())[0]){if(i[0]=e,t)break;t=!0}else i[0]===e&&(t=!0);a(i)}if(l.defQueueMap={},r=getOwn(p,e),!t&&!hasProp(m,e)&&r&&!r.inited){if(!(!g.enforceDefine||o&&getGlobal(o)))return w(e)?void 0:O(makeError(\"nodefine\",\"No define call for \"+e,null,[e]));a([e,n.deps||[],n.exportsFn])}R()},nameToUrl:function(e,t,i){var r,n,o,a,s,u,c=getOwn(g.pkgs,e);if(c&&(e=c),u=getOwn(v,e))return l.nameToUrl(u,t,i);if(req.jsExtRegExp.test(e))a=e+(t||\"\");else{for(r=g.paths,o=(n=e.split(\"/\")).length;0<o;o-=1)if(s=getOwn(r,n.slice(0,o).join(\"/\"))){isArray(s)&&(s=s[0]),n.splice(0,o,s);break}a=n.join(\"/\"),a=(\"/\"===(a+=t||(/^data\\:|^blob\\:|\\?/.test(a)||i?\"\":\".js\")).charAt(0)||a.match(/^[\\w\\+\\.\\-]+:/)?\"\":g.baseUrl)+a}return g.urlArgs&&!/^blob\\:/.test(a)?a+g.urlArgs(e,a):a},load:function(e,t){req.load(l,e,t)},execCb:function(e,t,i,r){return t.apply(r,i)},onScriptLoad:function(e){if(\"load\"===e.type||readyRegExp.test((e.currentTarget||e.srcElement).readyState)){interactiveScript=null;var t=s(e);l.completeLoad(t.id)}},onScriptError:function(e){var i=s(e);if(!w(i.id)){var r=[];return eachProp(p,function(e,t){0!==t.indexOf(\"_@r\")&&each(e.depMaps,function(e){if(e.id===i.id)return r.push(t),!0})}),O(makeError(\"scripterror\",'Script error for \"'+i.id+(r.length?'\", needed by: '+r.join(\", \"):'\"'),e,[i.id]))}}}).require=l.makeRequire(),l}function getInteractiveScript(){return interactiveScript&&\"interactive\"===interactiveScript.readyState||eachReverse(scripts(),function(e){if(\"interactive\"===e.readyState)return interactiveScript=e}),interactiveScript}}(this,\"undefined\"==typeof setTimeout?void 0:setTimeout); </script>\n",
       "<script>\n",
       " require.config({\n",
       "   paths: {\n",
       "     'plotly': \"https://cdn.plot.ly/plotly-latest.min\",\n",
       "     'macy': \"https://cdn.jsdelivr.net/npm/macy@2.5.1/dist/macy.min\",\n",
       "     'merge': \"https://unpkg.com/merge-images@2.0.0/dist/index.umd\"\n",
       "   },\n",
       " })\n",
       "require( ['plotly', 'macy', 'merge'], function(Plotly, Macy, mergeImages) {\n",
       " window.Plotly = Plotly;\n",
       " window.Macy = Macy;\n",
       " window.mergeImages = mergeImages;\n",
       "})\n",
       "</script>\n"
      ]
     },
     "metadata": {},
     "output_type": "display_data"
    },
    {
     "data": {
      "text/plain": [
       "\u001b[32mimport \u001b[39m\u001b[36morg.carbonateresearch.picta.render.Html.initNotebook // required to initialize jupyter notebook mode\n",
       "\u001b[39m"
      ]
     },
     "execution_count": 3,
     "metadata": {},
     "output_type": "execute_result"
    }
   ],
   "source": [
    "import org.carbonateresearch.picta.render.Html.initNotebook // required to initialize jupyter notebook mode\n",
    "initNotebook() // stops ugly output"
   ]
  },
  {
   "cell_type": "markdown",
   "metadata": {},
   "source": [
    "# 1. Basics\n",
    "\n",
    "The aim of the Picta library is to be a highly configurable and composable charting library for data exploration. The library takes a grammatical approach to chart construction. \n",
    "\n",
    "The following examples are aimed at demonstrating the libraries capabilities, and eventually make constructing charts using this library easy and intuitive."
   ]
  },
  {
   "cell_type": "markdown",
   "metadata": {},
   "source": [
    "### Main Components\n",
    "\n",
    "Picta graphs are constructed in a modular manner. The main components are:\n",
    "\n",
    "1. `Canvas`: This is is the top-level component for representing the display. A `Canvas` may consist of multiple charts.\n",
    "\n",
    "\n",
    "2. `Chart`: This is the component that corresponds to an actual chart (i.e. scatter, pie etc).\n",
    "\n",
    "\n",
    "3. `Series`: This is the data series that is plotted on a `Chart`. `Series` come in 3 types:\n",
    "\n",
    "    - `XY`:   This is series data for constructing a 2D chart\n",
    "    - `XYZ`:  This is series data for constructing a 3D chart\n",
    "    - `Map`:  This is series data that constructs a Map chart\n",
    "    \n",
    "\n",
    "4. `ChartLayout`: This configures various parts of how the `Chart` is represented on screen.\n",
    "\n",
    "`Chart` may occassionally also make use of the `Config` component for further configuration. `Config` specifies whether the plot is responsive.\n",
    "\n",
    "The following examples in this notebook should provide a number of interactive examples to get used to the Picta library."
   ]
  },
  {
   "cell_type": "markdown",
   "metadata": {},
   "source": [
    "### Importing the Library\n",
    "\n",
    "Importing as below should bring in the most frequently used Components in the library."
   ]
  },
  {
   "cell_type": "code",
   "execution_count": 4,
   "metadata": {},
   "outputs": [],
   "source": [
    "import org.carbonateresearch.picta._"
   ]
  },
  {
   "cell_type": "markdown",
   "metadata": {},
   "source": [
    "### Create Some Dummy Data to Use in the Examples\n",
    "\n",
    "Here we create some dummy data to be used in the examples for this notebook."
   ]
  },
  {
   "cell_type": "code",
   "execution_count": 5,
   "metadata": {},
   "outputs": [],
   "source": [
    "val x = List.range(0, 100).map(x => scala.util.Random.nextDouble() * 50)\n",
    "val y = List.range(0, 100).map(x => scala.util.Random.nextDouble() * 50)\n",
    "val z = List.range(0, 100).map(x => scala.util.Random.nextDouble() * 50)"
   ]
  },
  {
   "cell_type": "markdown",
   "metadata": {},
   "source": [
    "### 2D Plots\n",
    "\n",
    "`Series` that represent 2D data are represented by `XY` series types.\n",
    "\n",
    "\n",
    "#### Scatter Plot\n",
    "\n",
    "An example `Scatter` plot is below. \n",
    "\n",
    "Note: This is just one way to call the library functions. Another way that uses function chaining will be shown immediately after this example."
   ]
  },
  {
   "cell_type": "code",
   "execution_count": 6,
   "metadata": {},
   "outputs": [
    {
     "data": {
      "text/html": [
       "<div id=\"grid-container_vd02sxlDtF\" class=\"grid-container\" align=\"center\"> \n",
       "<div id=\"grid_vd02sxlDtF\" class=\"grid\" align=\"center\"> \n",
       "<div id=\"graph_1YGwQ4Pogp\" class=\"graph\"></div> \n",
       "</div> \n",
       "</div> \n",
       "<script>\n",
       "var masonry = new Macy({\n",
       "    container: '#grid_vd02sxlDtF',\n",
       "    debug: true,\n",
       "    mobileFirst: true,\n",
       "    columns: 1,\n",
       "    margin: {\n",
       "        x: 0,\n",
       "        y: 0\n",
       "    }\n",
       "  });\n",
       "\n",
       " var traces_1YGwQ4Pogp = [{\"name\":\"KIGh5Bax2o\",\"type\":\"scatter\",\"mode\":\"markers\",\"x\":[23.996803709861574,11.357809656325745,47.9344828800468,38.08211330902971,42.82745881463053,15.559795228258805,23.35343199136818,7.91064751398054,12.66472574096056,23.587730331569468,10.437146197383484,43.62354874992542,11.796423038124704,12.05065011481617,32.02549850969639,30.73980790599161,40.070927203886086,27.286926692136447,27.82692938497999,18.790660010892584,14.10042874020565,23.906214637781925,15.575074712647496,25.603001929628878,29.428375511035693,12.916822816082341,47.35164635091614,9.649831628381195,21.321584482001704,44.56821487432876,31.725280817956047,41.969474674671744,26.40411099777889,34.48560517017812,29.318982545318452,15.258910412516947,13.219116624417055,32.93337168682174,36.69413876118552,16.66246056320585,10.986630527508318,36.11630103710291,1.0270151522074833,12.505695270093465,22.319218120022065,45.312405683652656,5.9540104135291925,47.76536494350764,7.464225821425169,44.328359762608756,37.17483410332721,0.4197056770669172,24.760404107834145,38.27833391162965,24.928176615838858,0.9895020924270637,4.428356874079648,27.009296438467572,19.29233351820135,30.55876536612968,20.55840633636822,24.63060383276155,33.413603629458784,46.354930755325306,9.216094063293895,32.55296080350749,39.228227714706954,2.571987900094286,8.954693760896932,27.201632676282706,20.01896763256475,35.5359672819088,23.705732784817098,35.14099284119417,24.235355061416787,16.540715970354537,27.012680770093063,37.73232863866749,25.407011802262936,42.722941701403535,40.87959969170807,24.644036424231864,23.69233983474905,36.198971661361604,32.125662331749325,0.543129612454496,25.630274201122727,4.351739169978619,24.068145055569225,42.11925572083351,10.000664548834065,29.634987774304506,21.600568432657568,3.2271452298553713,29.349270321623997,5.552712622960099,43.2893705044786,24.380740241766834,8.696218078259099,16.575386019100534],\"y\":[44.98158120016186,19.091955410832746,35.222178565476895,23.670507947156622,5.597650519428115,33.619336909832086,35.31439402081377,13.85355018867207,27.27768435619666,8.57662400700297,8.255104688184778,1.706383408018669,28.85602413873385,10.54848869788505,29.047777425777948,33.163775398305745,33.758204410072814,49.370501220144874,46.401968642931244,37.03457694041107,20.84600221371024,2.0526349808672686,35.73550811844876,47.70273740625105,19.480404672654984,27.460369288850767,21.203105127851934,33.24427286286898,38.12897001783565,26.814745324847344,5.223366569558219,6.799862725825295,19.213208261999448,33.832484633004384,38.75159705638504,25.4587532890846,11.573233160404135,4.899523604613032,30.6336463258911,40.138144662768994,45.92108696870905,24.056112300344264,29.776461194438774,1.9832831887915847,37.960777293665174,39.76888509272725,19.583890615722225,5.666978165009135,28.472205189590245,10.475065299132991,40.13168916532109,7.633282706826977,49.58780483813651,3.7062318631879143,49.893529205705455,47.808581342845216,31.734862875920584,19.23386291511331,5.4802582232926556,26.594377043259804,36.27310543151764,40.126108663508084,24.817504671233465,45.059544136689695,14.72631068616333,6.8650299099971885,6.462130270378664,5.165854034037371,6.6883229533600925,8.745799243555991,5.345929744836125,38.589095459706876,44.97799134772128,43.66412499516588,13.13533973372627,37.23911489216098,38.42419632001873,12.095422570700832,9.608856336468852,45.935627429836586,49.78127929997949,33.57904320209785,39.97920107160128,47.86266948299681,28.706808217304967,4.343088547074581,31.925201988078,26.40305348991456,47.47777150564181,2.8401719750348997,45.24872497691098,22.74524632004346,20.177933493998072,45.91168569701198,46.5349057881271,27.258555794182143,14.45819889490781,2.057949705222739,20.969283359572326,44.04857051740705]}];\n",
       " var layout_1YGwQ4Pogp = {\"height\":550,\"width\":600,\"hovermode\":\"closest\",\"title\":{\"text\":\"First Chart\"},\"showlegend\":true};\n",
       " var config_1YGwQ4Pogp = {\"responsive\":true,\"scrollZoom\":true,\"displaylogo\":false};\n",
       " Plotly.newPlot(\"graph_1YGwQ4Pogp\", traces_1YGwQ4Pogp, layout_1YGwQ4Pogp, config_1YGwQ4Pogp);\n",
       "</script> \n"
      ]
     },
     "metadata": {},
     "output_type": "display_data"
    }
   ],
   "source": [
    "// create the data series using the data from above\n",
    "// 'asType SCATTER' transforms the series into a scatter chart\n",
    "// 'drawStyle Markers' specifies the style of the markers the chart should have\n",
    "// if a name is not provided to the series, Picta generates a random name to help keep track of the series in charts\n",
    "// multiple series.\n",
    "val series = XY(x, y) asType SCATTER drawStyle MARKERS\n",
    "\n",
    "// create a chart by adding to it a data series. We set the title as 'First Chart'\n",
    "val chart = Chart() addSeries series setTitle \"First Chart\"\n",
    "\n",
    "// if we have a single chart, then we do not need to use the Canvas and can simply call chart.plot\n",
    "\n",
    "chart.plotInline"
   ]
  },
  {
   "cell_type": "markdown",
   "metadata": {},
   "source": [
    "#Simple costumization\n",
    "This plot is nice, but could use some simple costumization to make it more attractive. First, the data series does not have a name and so the legend come with a generated arbitrary name (not very useful). Second, the X and Y axis don't have labels. Let's fix that."
   ]
  },
  {
   "cell_type": "code",
   "execution_count": 7,
   "metadata": {},
   "outputs": [
    {
     "data": {
      "text/html": [
       "<div id=\"grid-container_IaQuuVncir\" class=\"grid-container\" align=\"center\"> \n",
       "<div id=\"grid_IaQuuVncir\" class=\"grid\" align=\"center\"> \n",
       "<div id=\"graph_aW9qjfY8yY\" class=\"graph\"></div> \n",
       "</div> \n",
       "</div> \n",
       "<script>\n",
       "var masonry = new Macy({\n",
       "    container: '#grid_IaQuuVncir',\n",
       "    debug: true,\n",
       "    mobileFirst: true,\n",
       "    columns: 1,\n",
       "    margin: {\n",
       "        x: 0,\n",
       "        y: 0\n",
       "    }\n",
       "  });\n",
       "\n",
       " var traces_aW9qjfY8yY = [{\"name\":\"x vs y\",\"type\":\"scatter\",\"mode\":\"markers\",\"x\":[23.996803709861574,11.357809656325745,47.9344828800468,38.08211330902971,42.82745881463053,15.559795228258805,23.35343199136818,7.91064751398054,12.66472574096056,23.587730331569468,10.437146197383484,43.62354874992542,11.796423038124704,12.05065011481617,32.02549850969639,30.73980790599161,40.070927203886086,27.286926692136447,27.82692938497999,18.790660010892584,14.10042874020565,23.906214637781925,15.575074712647496,25.603001929628878,29.428375511035693,12.916822816082341,47.35164635091614,9.649831628381195,21.321584482001704,44.56821487432876,31.725280817956047,41.969474674671744,26.40411099777889,34.48560517017812,29.318982545318452,15.258910412516947,13.219116624417055,32.93337168682174,36.69413876118552,16.66246056320585,10.986630527508318,36.11630103710291,1.0270151522074833,12.505695270093465,22.319218120022065,45.312405683652656,5.9540104135291925,47.76536494350764,7.464225821425169,44.328359762608756,37.17483410332721,0.4197056770669172,24.760404107834145,38.27833391162965,24.928176615838858,0.9895020924270637,4.428356874079648,27.009296438467572,19.29233351820135,30.55876536612968,20.55840633636822,24.63060383276155,33.413603629458784,46.354930755325306,9.216094063293895,32.55296080350749,39.228227714706954,2.571987900094286,8.954693760896932,27.201632676282706,20.01896763256475,35.5359672819088,23.705732784817098,35.14099284119417,24.235355061416787,16.540715970354537,27.012680770093063,37.73232863866749,25.407011802262936,42.722941701403535,40.87959969170807,24.644036424231864,23.69233983474905,36.198971661361604,32.125662331749325,0.543129612454496,25.630274201122727,4.351739169978619,24.068145055569225,42.11925572083351,10.000664548834065,29.634987774304506,21.600568432657568,3.2271452298553713,29.349270321623997,5.552712622960099,43.2893705044786,24.380740241766834,8.696218078259099,16.575386019100534],\"y\":[44.98158120016186,19.091955410832746,35.222178565476895,23.670507947156622,5.597650519428115,33.619336909832086,35.31439402081377,13.85355018867207,27.27768435619666,8.57662400700297,8.255104688184778,1.706383408018669,28.85602413873385,10.54848869788505,29.047777425777948,33.163775398305745,33.758204410072814,49.370501220144874,46.401968642931244,37.03457694041107,20.84600221371024,2.0526349808672686,35.73550811844876,47.70273740625105,19.480404672654984,27.460369288850767,21.203105127851934,33.24427286286898,38.12897001783565,26.814745324847344,5.223366569558219,6.799862725825295,19.213208261999448,33.832484633004384,38.75159705638504,25.4587532890846,11.573233160404135,4.899523604613032,30.6336463258911,40.138144662768994,45.92108696870905,24.056112300344264,29.776461194438774,1.9832831887915847,37.960777293665174,39.76888509272725,19.583890615722225,5.666978165009135,28.472205189590245,10.475065299132991,40.13168916532109,7.633282706826977,49.58780483813651,3.7062318631879143,49.893529205705455,47.808581342845216,31.734862875920584,19.23386291511331,5.4802582232926556,26.594377043259804,36.27310543151764,40.126108663508084,24.817504671233465,45.059544136689695,14.72631068616333,6.8650299099971885,6.462130270378664,5.165854034037371,6.6883229533600925,8.745799243555991,5.345929744836125,38.589095459706876,44.97799134772128,43.66412499516588,13.13533973372627,37.23911489216098,38.42419632001873,12.095422570700832,9.608856336468852,45.935627429836586,49.78127929997949,33.57904320209785,39.97920107160128,47.86266948299681,28.706808217304967,4.343088547074581,31.925201988078,26.40305348991456,47.47777150564181,2.8401719750348997,45.24872497691098,22.74524632004346,20.177933493998072,45.91168569701198,46.5349057881271,27.258555794182143,14.45819889490781,2.057949705222739,20.969283359572326,44.04857051740705]}];\n",
       " var layout_aW9qjfY8yY = {\"height\":550,\"width\":600,\"hovermode\":\"closest\",\"title\":{\"text\":\"Chart with custom axis and label\"},\"showlegend\":true,\"xaxis\":{\"title\":{\"text\":\"X values\"},\"showgrid\":true,\"zeroline\":false,\"showline\":false},\"yaxis\":{\"title\":{\"text\":\"Y values\"},\"showgrid\":true,\"zeroline\":false,\"showline\":false}};\n",
       " var config_aW9qjfY8yY = {\"responsive\":true,\"scrollZoom\":true,\"displaylogo\":false};\n",
       " Plotly.newPlot(\"graph_aW9qjfY8yY\", traces_aW9qjfY8yY, layout_aW9qjfY8yY, config_aW9qjfY8yY);\n",
       "</script> \n"
      ]
     },
     "metadata": {},
     "output_type": "display_data"
    }
   ],
   "source": [
    "val series = XY(x, y) asType SCATTER drawStyle MARKERS setName(\"x vs y\") // Using 'setName' gives a name to our series \n",
    "\n",
    "// Note the use of the setXAxisTitle and setYAxisTitle compared to above\n",
    "val chart = Chart() addSeries series setTitle \"Chart with custom axis and label\" setXAxisTitle(\"X values\") setYAxisTitle(\"Y values\")\n",
    "\n",
    "chart.plotInline"
   ]
  },
  {
   "cell_type": "markdown",
   "metadata": {},
   "source": [
    "#### Chaining Functions using the '.dot' notation\n",
    "\n",
    "Sometimes when we are specifying many options, it is quicker to use the IDE autocomplete and just chain the function calls using the familiar '.dot' notation. Throughout this book both the style above and the function chaining style will be used as and when convenient."
   ]
  },
  {
   "cell_type": "code",
   "execution_count": 8,
   "metadata": {},
   "outputs": [
    {
     "data": {
      "text/html": [
       "<div id=\"grid-container_1o90KdOEEY\" class=\"grid-container\" align=\"center\"> \n",
       "<div id=\"grid_1o90KdOEEY\" class=\"grid\" align=\"center\"> \n",
       "<div id=\"graph_FBpM5ayQUl\" class=\"graph\"></div> \n",
       "</div> \n",
       "</div> \n",
       "<script>\n",
       "var masonry = new Macy({\n",
       "    container: '#grid_1o90KdOEEY',\n",
       "    debug: true,\n",
       "    mobileFirst: true,\n",
       "    columns: 1,\n",
       "    margin: {\n",
       "        x: 0,\n",
       "        y: 0\n",
       "    }\n",
       "  });\n",
       "\n",
       " var traces_FBpM5ayQUl = [{\"name\":\"Chained xy\",\"type\":\"scatter\",\"mode\":\"markers\",\"x\":[23.996803709861574,11.357809656325745,47.9344828800468,38.08211330902971,42.82745881463053,15.559795228258805,23.35343199136818,7.91064751398054,12.66472574096056,23.587730331569468,10.437146197383484,43.62354874992542,11.796423038124704,12.05065011481617,32.02549850969639,30.73980790599161,40.070927203886086,27.286926692136447,27.82692938497999,18.790660010892584,14.10042874020565,23.906214637781925,15.575074712647496,25.603001929628878,29.428375511035693,12.916822816082341,47.35164635091614,9.649831628381195,21.321584482001704,44.56821487432876,31.725280817956047,41.969474674671744,26.40411099777889,34.48560517017812,29.318982545318452,15.258910412516947,13.219116624417055,32.93337168682174,36.69413876118552,16.66246056320585,10.986630527508318,36.11630103710291,1.0270151522074833,12.505695270093465,22.319218120022065,45.312405683652656,5.9540104135291925,47.76536494350764,7.464225821425169,44.328359762608756,37.17483410332721,0.4197056770669172,24.760404107834145,38.27833391162965,24.928176615838858,0.9895020924270637,4.428356874079648,27.009296438467572,19.29233351820135,30.55876536612968,20.55840633636822,24.63060383276155,33.413603629458784,46.354930755325306,9.216094063293895,32.55296080350749,39.228227714706954,2.571987900094286,8.954693760896932,27.201632676282706,20.01896763256475,35.5359672819088,23.705732784817098,35.14099284119417,24.235355061416787,16.540715970354537,27.012680770093063,37.73232863866749,25.407011802262936,42.722941701403535,40.87959969170807,24.644036424231864,23.69233983474905,36.198971661361604,32.125662331749325,0.543129612454496,25.630274201122727,4.351739169978619,24.068145055569225,42.11925572083351,10.000664548834065,29.634987774304506,21.600568432657568,3.2271452298553713,29.349270321623997,5.552712622960099,43.2893705044786,24.380740241766834,8.696218078259099,16.575386019100534],\"y\":[44.98158120016186,19.091955410832746,35.222178565476895,23.670507947156622,5.597650519428115,33.619336909832086,35.31439402081377,13.85355018867207,27.27768435619666,8.57662400700297,8.255104688184778,1.706383408018669,28.85602413873385,10.54848869788505,29.047777425777948,33.163775398305745,33.758204410072814,49.370501220144874,46.401968642931244,37.03457694041107,20.84600221371024,2.0526349808672686,35.73550811844876,47.70273740625105,19.480404672654984,27.460369288850767,21.203105127851934,33.24427286286898,38.12897001783565,26.814745324847344,5.223366569558219,6.799862725825295,19.213208261999448,33.832484633004384,38.75159705638504,25.4587532890846,11.573233160404135,4.899523604613032,30.6336463258911,40.138144662768994,45.92108696870905,24.056112300344264,29.776461194438774,1.9832831887915847,37.960777293665174,39.76888509272725,19.583890615722225,5.666978165009135,28.472205189590245,10.475065299132991,40.13168916532109,7.633282706826977,49.58780483813651,3.7062318631879143,49.893529205705455,47.808581342845216,31.734862875920584,19.23386291511331,5.4802582232926556,26.594377043259804,36.27310543151764,40.126108663508084,24.817504671233465,45.059544136689695,14.72631068616333,6.8650299099971885,6.462130270378664,5.165854034037371,6.6883229533600925,8.745799243555991,5.345929744836125,38.589095459706876,44.97799134772128,43.66412499516588,13.13533973372627,37.23911489216098,38.42419632001873,12.095422570700832,9.608856336468852,45.935627429836586,49.78127929997949,33.57904320209785,39.97920107160128,47.86266948299681,28.706808217304967,4.343088547074581,31.925201988078,26.40305348991456,47.47777150564181,2.8401719750348997,45.24872497691098,22.74524632004346,20.177933493998072,45.91168569701198,46.5349057881271,27.258555794182143,14.45819889490781,2.057949705222739,20.969283359572326,44.04857051740705]}];\n",
       " var layout_FBpM5ayQUl = {\"height\":550,\"width\":600,\"hovermode\":\"closest\",\"title\":{\"text\":\"Using Function Chaining\"},\"showlegend\":true,\"xaxis\":{\"showgrid\":true,\"zeroline\":false,\"showline\":false},\"yaxis\":{\"showgrid\":true,\"zeroline\":false,\"showline\":false}};\n",
       " var config_FBpM5ayQUl = {\"responsive\":true,\"scrollZoom\":true,\"displaylogo\":false};\n",
       " Plotly.newPlot(\"graph_FBpM5ayQUl\", traces_FBpM5ayQUl, layout_FBpM5ayQUl, config_FBpM5ayQUl);\n",
       "</script> \n"
      ]
     },
     "metadata": {},
     "output_type": "display_data"
    }
   ],
   "source": [
    "// sometimes we may specify many options. In such cases it is clearer to use function chaining as below:\n",
    "val series = XY(x, y)\n",
    "            .asType(SCATTER)\n",
    "            .setName(\"Chained xy\")\n",
    "            .drawMarkers  // This is to help leverage the IDE autocompletion for quick scripting. Tap 'tab' twice to see options.\n",
    "\n",
    "val chart = Chart()\n",
    "            .addSeries(series)\n",
    "            .setTitle(\"Using Function Chaining\")\n",
    "            // by specifying and X and Y axes we can give more rid of the zerolines\n",
    "            .addAxes(XAxis(zeroline = false), YAxis(zeroline = false)) \n",
    "\n",
    "chart.plotInline"
   ]
  },
  {
   "cell_type": "markdown",
   "metadata": {},
   "source": [
    "#### Bar Chart\n",
    "\n",
    "Now using the same principles as above, let's create a `Bar` chart:"
   ]
  },
  {
   "cell_type": "code",
   "execution_count": 9,
   "metadata": {},
   "outputs": [
    {
     "data": {
      "text/html": [
       "<div id=\"grid-container_hSuJnCxIFr\" class=\"grid-container\" align=\"center\"> \n",
       "<div id=\"grid_hSuJnCxIFr\" class=\"grid\" align=\"center\"> \n",
       "<div id=\"graph_J1qf8GLghd\" class=\"graph\"></div> \n",
       "</div> \n",
       "</div> \n",
       "<script>\n",
       "var masonry = new Macy({\n",
       "    container: '#grid_hSuJnCxIFr',\n",
       "    debug: true,\n",
       "    mobileFirst: true,\n",
       "    columns: 1,\n",
       "    margin: {\n",
       "        x: 0,\n",
       "        y: 0\n",
       "    }\n",
       "  });\n",
       "\n",
       " var traces_J1qf8GLghd = [{\"name\":\"My data\",\"type\":\"bar\",\"x\":[\"a\",\"b\",\"c\"],\"y\":[10,20,300]}];\n",
       " var layout_J1qf8GLghd = {\"height\":550,\"width\":600,\"hovermode\":\"closest\",\"title\":{\"text\":\"Bar Chart\"},\"showlegend\":true};\n",
       " var config_J1qf8GLghd = {\"responsive\":false,\"scrollZoom\":false,\"displaylogo\":false};\n",
       " Plotly.newPlot(\"graph_J1qf8GLghd\", traces_J1qf8GLghd, layout_J1qf8GLghd, config_J1qf8GLghd);\n",
       "</script> \n"
      ]
     },
     "metadata": {},
     "output_type": "display_data"
    }
   ],
   "source": [
    "// First we create some data for the piechart\n",
    "val x_bar = List(\"a\", \"b\", \"c\")\n",
    "val y_bar = List(10, 20, 300)\n",
    "\n",
    "// again feed in the data that we want to represent as a Bar chart.\n",
    "// Notice how we change 'asType SCATTER' to 'asType BAR'\n",
    "val series = XY(x_bar, y_bar) asType BAR setName(\"My data\")\n",
    "\n",
    "// we can turn off the scrollzoom using setConfig\n",
    "val chart = Chart() addSeries series setTitle \"Bar Chart\" setConfig(false, false)\n",
    "\n",
    "chart.plotInline"
   ]
  },
  {
   "cell_type": "markdown",
   "metadata": {},
   "source": [
    "#### Adding Multiple Series on the Same Axis\n",
    "\n",
    "Sometimes we may want to plot multiple `Series` on the same axis to compare different data series.\n",
    "\n",
    "Let's plot both of the above on the same pair of axis:"
   ]
  },
  {
   "cell_type": "code",
   "execution_count": 10,
   "metadata": {},
   "outputs": [],
   "source": [
    "// we import the marker option which lets us specify the marker\n",
    "import org.carbonateresearch.picta.options.Marker\n",
    "import org.carbonateresearch.picta.SymbolShape._"
   ]
  },
  {
   "cell_type": "code",
   "execution_count": 11,
   "metadata": {},
   "outputs": [
    {
     "data": {
      "text/html": [
       "<div id=\"grid-container_vUYHIMymDF\" class=\"grid-container\" align=\"center\"> \n",
       "<div id=\"grid_vUYHIMymDF\" class=\"grid\" align=\"center\"> \n",
       "<div id=\"graph_xWDErnvUex\" class=\"graph\"></div> \n",
       "</div> \n",
       "</div> \n",
       "<script>\n",
       "var masonry = new Macy({\n",
       "    container: '#grid_vUYHIMymDF',\n",
       "    debug: true,\n",
       "    mobileFirst: true,\n",
       "    columns: 1,\n",
       "    margin: {\n",
       "        x: 0,\n",
       "        y: 0\n",
       "    }\n",
       "  });\n",
       "\n",
       " var traces_xWDErnvUex = [{\"name\":\"Bar\",\"type\":\"bar\",\"x\":[23.996803709861574,11.357809656325745,47.9344828800468,38.08211330902971,42.82745881463053,15.559795228258805,23.35343199136818,7.91064751398054,12.66472574096056,23.587730331569468,10.437146197383484,43.62354874992542,11.796423038124704,12.05065011481617,32.02549850969639,30.73980790599161,40.070927203886086,27.286926692136447,27.82692938497999,18.790660010892584,14.10042874020565,23.906214637781925,15.575074712647496,25.603001929628878,29.428375511035693,12.916822816082341,47.35164635091614,9.649831628381195,21.321584482001704,44.56821487432876,31.725280817956047,41.969474674671744,26.40411099777889,34.48560517017812,29.318982545318452,15.258910412516947,13.219116624417055,32.93337168682174,36.69413876118552,16.66246056320585,10.986630527508318,36.11630103710291,1.0270151522074833,12.505695270093465,22.319218120022065,45.312405683652656,5.9540104135291925,47.76536494350764,7.464225821425169,44.328359762608756,37.17483410332721,0.4197056770669172,24.760404107834145,38.27833391162965,24.928176615838858,0.9895020924270637,4.428356874079648,27.009296438467572,19.29233351820135,30.55876536612968,20.55840633636822,24.63060383276155,33.413603629458784,46.354930755325306,9.216094063293895,32.55296080350749,39.228227714706954,2.571987900094286,8.954693760896932,27.201632676282706,20.01896763256475,35.5359672819088,23.705732784817098,35.14099284119417,24.235355061416787,16.540715970354537,27.012680770093063,37.73232863866749,25.407011802262936,42.722941701403535,40.87959969170807,24.644036424231864,23.69233983474905,36.198971661361604,32.125662331749325,0.543129612454496,25.630274201122727,4.351739169978619,24.068145055569225,42.11925572083351,10.000664548834065,29.634987774304506,21.600568432657568,3.2271452298553713,29.349270321623997,5.552712622960099,43.2893705044786,24.380740241766834,8.696218078259099,16.575386019100534],\"y\":[44.98158120016186,19.091955410832746,35.222178565476895,23.670507947156622,5.597650519428115,33.619336909832086,35.31439402081377,13.85355018867207,27.27768435619666,8.57662400700297,8.255104688184778,1.706383408018669,28.85602413873385,10.54848869788505,29.047777425777948,33.163775398305745,33.758204410072814,49.370501220144874,46.401968642931244,37.03457694041107,20.84600221371024,2.0526349808672686,35.73550811844876,47.70273740625105,19.480404672654984,27.460369288850767,21.203105127851934,33.24427286286898,38.12897001783565,26.814745324847344,5.223366569558219,6.799862725825295,19.213208261999448,33.832484633004384,38.75159705638504,25.4587532890846,11.573233160404135,4.899523604613032,30.6336463258911,40.138144662768994,45.92108696870905,24.056112300344264,29.776461194438774,1.9832831887915847,37.960777293665174,39.76888509272725,19.583890615722225,5.666978165009135,28.472205189590245,10.475065299132991,40.13168916532109,7.633282706826977,49.58780483813651,3.7062318631879143,49.893529205705455,47.808581342845216,31.734862875920584,19.23386291511331,5.4802582232926556,26.594377043259804,36.27310543151764,40.126108663508084,24.817504671233465,45.059544136689695,14.72631068616333,6.8650299099971885,6.462130270378664,5.165854034037371,6.6883229533600925,8.745799243555991,5.345929744836125,38.589095459706876,44.97799134772128,43.66412499516588,13.13533973372627,37.23911489216098,38.42419632001873,12.095422570700832,9.608856336468852,45.935627429836586,49.78127929997949,33.57904320209785,39.97920107160128,47.86266948299681,28.706808217304967,4.343088547074581,31.925201988078,26.40305348991456,47.47777150564181,2.8401719750348997,45.24872497691098,22.74524632004346,20.177933493998072,45.91168569701198,46.5349057881271,27.258555794182143,14.45819889490781,2.057949705222739,20.969283359572326,44.04857051740705]},{\"name\":\"Scatter\",\"type\":\"scatter\",\"mode\":\"markers\",\"marker\":{\"symbol\":\"square-open\",\"color\":\"red\"},\"x\":[23.996803709861574,11.357809656325745,47.9344828800468,38.08211330902971,42.82745881463053,15.559795228258805,23.35343199136818,7.91064751398054,12.66472574096056,23.587730331569468,10.437146197383484,43.62354874992542,11.796423038124704,12.05065011481617,32.02549850969639,30.73980790599161,40.070927203886086,27.286926692136447,27.82692938497999,18.790660010892584,14.10042874020565,23.906214637781925,15.575074712647496,25.603001929628878,29.428375511035693,12.916822816082341,47.35164635091614,9.649831628381195,21.321584482001704,44.56821487432876,31.725280817956047,41.969474674671744,26.40411099777889,34.48560517017812,29.318982545318452,15.258910412516947,13.219116624417055,32.93337168682174,36.69413876118552,16.66246056320585,10.986630527508318,36.11630103710291,1.0270151522074833,12.505695270093465,22.319218120022065,45.312405683652656,5.9540104135291925,47.76536494350764,7.464225821425169,44.328359762608756,37.17483410332721,0.4197056770669172,24.760404107834145,38.27833391162965,24.928176615838858,0.9895020924270637,4.428356874079648,27.009296438467572,19.29233351820135,30.55876536612968,20.55840633636822,24.63060383276155,33.413603629458784,46.354930755325306,9.216094063293895,32.55296080350749,39.228227714706954,2.571987900094286,8.954693760896932,27.201632676282706,20.01896763256475,35.5359672819088,23.705732784817098,35.14099284119417,24.235355061416787,16.540715970354537,27.012680770093063,37.73232863866749,25.407011802262936,42.722941701403535,40.87959969170807,24.644036424231864,23.69233983474905,36.198971661361604,32.125662331749325,0.543129612454496,25.630274201122727,4.351739169978619,24.068145055569225,42.11925572083351,10.000664548834065,29.634987774304506,21.600568432657568,3.2271452298553713,29.349270321623997,5.552712622960099,43.2893705044786,24.380740241766834,8.696218078259099,16.575386019100534],\"y\":[44.98158120016186,19.091955410832746,35.222178565476895,23.670507947156622,5.597650519428115,33.619336909832086,35.31439402081377,13.85355018867207,27.27768435619666,8.57662400700297,8.255104688184778,1.706383408018669,28.85602413873385,10.54848869788505,29.047777425777948,33.163775398305745,33.758204410072814,49.370501220144874,46.401968642931244,37.03457694041107,20.84600221371024,2.0526349808672686,35.73550811844876,47.70273740625105,19.480404672654984,27.460369288850767,21.203105127851934,33.24427286286898,38.12897001783565,26.814745324847344,5.223366569558219,6.799862725825295,19.213208261999448,33.832484633004384,38.75159705638504,25.4587532890846,11.573233160404135,4.899523604613032,30.6336463258911,40.138144662768994,45.92108696870905,24.056112300344264,29.776461194438774,1.9832831887915847,37.960777293665174,39.76888509272725,19.583890615722225,5.666978165009135,28.472205189590245,10.475065299132991,40.13168916532109,7.633282706826977,49.58780483813651,3.7062318631879143,49.893529205705455,47.808581342845216,31.734862875920584,19.23386291511331,5.4802582232926556,26.594377043259804,36.27310543151764,40.126108663508084,24.817504671233465,45.059544136689695,14.72631068616333,6.8650299099971885,6.462130270378664,5.165854034037371,6.6883229533600925,8.745799243555991,5.345929744836125,38.589095459706876,44.97799134772128,43.66412499516588,13.13533973372627,37.23911489216098,38.42419632001873,12.095422570700832,9.608856336468852,45.935627429836586,49.78127929997949,33.57904320209785,39.97920107160128,47.86266948299681,28.706808217304967,4.343088547074581,31.925201988078,26.40305348991456,47.47777150564181,2.8401719750348997,45.24872497691098,22.74524632004346,20.177933493998072,45.91168569701198,46.5349057881271,27.258555794182143,14.45819889490781,2.057949705222739,20.969283359572326,44.04857051740705]}];\n",
       " var layout_xWDErnvUex = {\"height\":550,\"width\":600,\"hovermode\":\"closest\",\"title\":{\"text\":\"Multiple series on one chart\"},\"showlegend\":true};\n",
       " var config_xWDErnvUex = {\"responsive\":true,\"scrollZoom\":true,\"displaylogo\":false};\n",
       " Plotly.newPlot(\"graph_xWDErnvUex\", traces_xWDErnvUex, layout_xWDErnvUex, config_xWDErnvUex);\n",
       "</script> \n"
      ]
     },
     "metadata": {},
     "output_type": "display_data"
    }
   ],
   "source": [
    "// additional traces can simply be composed with an existing chart and added on\n",
    "val series1 = XY(x, y) asType BAR setName \"Bar\"\n",
    "\n",
    "// lets give the second series a red marker. Again we can 'compose' a marker using smaller components\n",
    "val marker = Marker() setSymbol SQUARE_OPEN setColor \"red\"\n",
    "\n",
    "val series2 = XY(x, y) asType SCATTER setName \"Scatter\" drawStyle MARKERS setMarker marker\n",
    "\n",
    "// we not put brackets in the 'addSeries' function to ensure that addSeries picks up the right series'\n",
    "val chart = Chart() addSeries(series1, series2) setTitle(\"Multiple series on one chart\")\n",
    "\n",
    "chart.plotInline"
   ]
  },
  {
   "cell_type": "markdown",
   "metadata": {},
   "source": [
    "### Lets Change The Appearance of The Markers\n",
    "\n",
    "We can control the appearance of the markers by setting the width"
   ]
  },
  {
   "cell_type": "code",
   "execution_count": 12,
   "metadata": {},
   "outputs": [
    {
     "data": {
      "text/html": [
       "<div id=\"grid-container_P9eVcXDaly\" class=\"grid-container\" align=\"center\"> \n",
       "<div id=\"grid_P9eVcXDaly\" class=\"grid\" align=\"center\"> \n",
       "<div id=\"graph_OIhNGrS9ZH\" class=\"graph\"></div> \n",
       "</div> \n",
       "</div> \n",
       "<script>\n",
       "var masonry = new Macy({\n",
       "    container: '#grid_P9eVcXDaly',\n",
       "    debug: true,\n",
       "    mobileFirst: true,\n",
       "    columns: 1,\n",
       "    margin: {\n",
       "        x: 0,\n",
       "        y: 0\n",
       "    }\n",
       "  });\n",
       "\n",
       " var traces_OIhNGrS9ZH = [{\"name\":\"Bar\",\"type\":\"bar\",\"x\":[23.996803709861574,11.357809656325745,47.9344828800468,38.08211330902971,42.82745881463053,15.559795228258805,23.35343199136818,7.91064751398054,12.66472574096056,23.587730331569468,10.437146197383484,43.62354874992542,11.796423038124704,12.05065011481617,32.02549850969639,30.73980790599161,40.070927203886086,27.286926692136447,27.82692938497999,18.790660010892584,14.10042874020565,23.906214637781925,15.575074712647496,25.603001929628878,29.428375511035693,12.916822816082341,47.35164635091614,9.649831628381195,21.321584482001704,44.56821487432876,31.725280817956047,41.969474674671744,26.40411099777889,34.48560517017812,29.318982545318452,15.258910412516947,13.219116624417055,32.93337168682174,36.69413876118552,16.66246056320585,10.986630527508318,36.11630103710291,1.0270151522074833,12.505695270093465,22.319218120022065,45.312405683652656,5.9540104135291925,47.76536494350764,7.464225821425169,44.328359762608756,37.17483410332721,0.4197056770669172,24.760404107834145,38.27833391162965,24.928176615838858,0.9895020924270637,4.428356874079648,27.009296438467572,19.29233351820135,30.55876536612968,20.55840633636822,24.63060383276155,33.413603629458784,46.354930755325306,9.216094063293895,32.55296080350749,39.228227714706954,2.571987900094286,8.954693760896932,27.201632676282706,20.01896763256475,35.5359672819088,23.705732784817098,35.14099284119417,24.235355061416787,16.540715970354537,27.012680770093063,37.73232863866749,25.407011802262936,42.722941701403535,40.87959969170807,24.644036424231864,23.69233983474905,36.198971661361604,32.125662331749325,0.543129612454496,25.630274201122727,4.351739169978619,24.068145055569225,42.11925572083351,10.000664548834065,29.634987774304506,21.600568432657568,3.2271452298553713,29.349270321623997,5.552712622960099,43.2893705044786,24.380740241766834,8.696218078259099,16.575386019100534],\"y\":[44.98158120016186,19.091955410832746,35.222178565476895,23.670507947156622,5.597650519428115,33.619336909832086,35.31439402081377,13.85355018867207,27.27768435619666,8.57662400700297,8.255104688184778,1.706383408018669,28.85602413873385,10.54848869788505,29.047777425777948,33.163775398305745,33.758204410072814,49.370501220144874,46.401968642931244,37.03457694041107,20.84600221371024,2.0526349808672686,35.73550811844876,47.70273740625105,19.480404672654984,27.460369288850767,21.203105127851934,33.24427286286898,38.12897001783565,26.814745324847344,5.223366569558219,6.799862725825295,19.213208261999448,33.832484633004384,38.75159705638504,25.4587532890846,11.573233160404135,4.899523604613032,30.6336463258911,40.138144662768994,45.92108696870905,24.056112300344264,29.776461194438774,1.9832831887915847,37.960777293665174,39.76888509272725,19.583890615722225,5.666978165009135,28.472205189590245,10.475065299132991,40.13168916532109,7.633282706826977,49.58780483813651,3.7062318631879143,49.893529205705455,47.808581342845216,31.734862875920584,19.23386291511331,5.4802582232926556,26.594377043259804,36.27310543151764,40.126108663508084,24.817504671233465,45.059544136689695,14.72631068616333,6.8650299099971885,6.462130270378664,5.165854034037371,6.6883229533600925,8.745799243555991,5.345929744836125,38.589095459706876,44.97799134772128,43.66412499516588,13.13533973372627,37.23911489216098,38.42419632001873,12.095422570700832,9.608856336468852,45.935627429836586,49.78127929997949,33.57904320209785,39.97920107160128,47.86266948299681,28.706808217304967,4.343088547074581,31.925201988078,26.40305348991456,47.47777150564181,2.8401719750348997,45.24872497691098,22.74524632004346,20.177933493998072,45.91168569701198,46.5349057881271,27.258555794182143,14.45819889490781,2.057949705222739,20.969283359572326,44.04857051740705]},{\"name\":\"Scatter\",\"type\":\"scatter\",\"mode\":\"markers\",\"marker\":{\"symbol\":\"circle\",\"color\":\"red\",\"line\":{\"width\":2,\"color\":\"black\"},\"size\":[10,10,10,10,10,10,10,10,10,10,10,10,10,10,10,10,10,10,10,10,10,10,10,10,10,10,10,10,10,10,10,10,10,10,10,10,10,10,10,10,10,10,10,10,10,10,10,10,10,10,10,10,10,10,10,10,10,10,10,10,10,10,10,10,10,10,10,10,10,10,10,10,10,10,10,10,10,10,10,10,10,10,10,10,10,10,10,10,10,10,10,10,10,10,10,10,10,10,10,10]},\"x\":[23.996803709861574,11.357809656325745,47.9344828800468,38.08211330902971,42.82745881463053,15.559795228258805,23.35343199136818,7.91064751398054,12.66472574096056,23.587730331569468,10.437146197383484,43.62354874992542,11.796423038124704,12.05065011481617,32.02549850969639,30.73980790599161,40.070927203886086,27.286926692136447,27.82692938497999,18.790660010892584,14.10042874020565,23.906214637781925,15.575074712647496,25.603001929628878,29.428375511035693,12.916822816082341,47.35164635091614,9.649831628381195,21.321584482001704,44.56821487432876,31.725280817956047,41.969474674671744,26.40411099777889,34.48560517017812,29.318982545318452,15.258910412516947,13.219116624417055,32.93337168682174,36.69413876118552,16.66246056320585,10.986630527508318,36.11630103710291,1.0270151522074833,12.505695270093465,22.319218120022065,45.312405683652656,5.9540104135291925,47.76536494350764,7.464225821425169,44.328359762608756,37.17483410332721,0.4197056770669172,24.760404107834145,38.27833391162965,24.928176615838858,0.9895020924270637,4.428356874079648,27.009296438467572,19.29233351820135,30.55876536612968,20.55840633636822,24.63060383276155,33.413603629458784,46.354930755325306,9.216094063293895,32.55296080350749,39.228227714706954,2.571987900094286,8.954693760896932,27.201632676282706,20.01896763256475,35.5359672819088,23.705732784817098,35.14099284119417,24.235355061416787,16.540715970354537,27.012680770093063,37.73232863866749,25.407011802262936,42.722941701403535,40.87959969170807,24.644036424231864,23.69233983474905,36.198971661361604,32.125662331749325,0.543129612454496,25.630274201122727,4.351739169978619,24.068145055569225,42.11925572083351,10.000664548834065,29.634987774304506,21.600568432657568,3.2271452298553713,29.349270321623997,5.552712622960099,43.2893705044786,24.380740241766834,8.696218078259099,16.575386019100534],\"y\":[44.98158120016186,19.091955410832746,35.222178565476895,23.670507947156622,5.597650519428115,33.619336909832086,35.31439402081377,13.85355018867207,27.27768435619666,8.57662400700297,8.255104688184778,1.706383408018669,28.85602413873385,10.54848869788505,29.047777425777948,33.163775398305745,33.758204410072814,49.370501220144874,46.401968642931244,37.03457694041107,20.84600221371024,2.0526349808672686,35.73550811844876,47.70273740625105,19.480404672654984,27.460369288850767,21.203105127851934,33.24427286286898,38.12897001783565,26.814745324847344,5.223366569558219,6.799862725825295,19.213208261999448,33.832484633004384,38.75159705638504,25.4587532890846,11.573233160404135,4.899523604613032,30.6336463258911,40.138144662768994,45.92108696870905,24.056112300344264,29.776461194438774,1.9832831887915847,37.960777293665174,39.76888509272725,19.583890615722225,5.666978165009135,28.472205189590245,10.475065299132991,40.13168916532109,7.633282706826977,49.58780483813651,3.7062318631879143,49.893529205705455,47.808581342845216,31.734862875920584,19.23386291511331,5.4802582232926556,26.594377043259804,36.27310543151764,40.126108663508084,24.817504671233465,45.059544136689695,14.72631068616333,6.8650299099971885,6.462130270378664,5.165854034037371,6.6883229533600925,8.745799243555991,5.345929744836125,38.589095459706876,44.97799134772128,43.66412499516588,13.13533973372627,37.23911489216098,38.42419632001873,12.095422570700832,9.608856336468852,45.935627429836586,49.78127929997949,33.57904320209785,39.97920107160128,47.86266948299681,28.706808217304967,4.343088547074581,31.925201988078,26.40305348991456,47.47777150564181,2.8401719750348997,45.24872497691098,22.74524632004346,20.177933493998072,45.91168569701198,46.5349057881271,27.258555794182143,14.45819889490781,2.057949705222739,20.969283359572326,44.04857051740705]}];\n",
       " var layout_OIhNGrS9ZH = {\"height\":550,\"width\":600,\"hovermode\":\"closest\",\"showlegend\":true};\n",
       " var config_OIhNGrS9ZH = {\"responsive\":false,\"scrollZoom\":false,\"displaylogo\":false};\n",
       " Plotly.newPlot(\"graph_OIhNGrS9ZH\", traces_OIhNGrS9ZH, layout_OIhNGrS9ZH, config_OIhNGrS9ZH);\n",
       "</script> \n"
      ]
     },
     "metadata": {},
     "output_type": "display_data"
    }
   ],
   "source": [
    "// we can pass in the size of the markers\n",
    "val sizes = List.range(0, 100).map(x => 10)\n",
    "\n",
    "// additional traces can simply be composed with an existing chart and added on\n",
    "val series1 = XY(x, y) asType BAR setName \"Bar\"\n",
    "\n",
    "// lets give the second series a red marker. Again we can 'compose' a marker using smaller components\n",
    "val marker = (\n",
    "    Marker() \n",
    "    // sets the marker shape\n",
    "    setSymbol CIRCLE\n",
    "    // sets the fill to red\n",
    "    setColor \"red\" \n",
    "    // sets the outline to black, with width 2\n",
    "    setLine(width = 2, \"black\")\n",
    "    // set the size of the markers to 10 as per the list we created\n",
    "    setSize(sizes)\n",
    ") \n",
    "\n",
    "val series2 = XY(x, y) asType SCATTER setName \"Scatter\" drawStyle MARKERS setMarker marker\n",
    "\n",
    "// we not put brackets in the 'addSeries' function to ensure that addSeries picks up the right series'\n",
    "val chart = Chart() addSeries(series1, series2) setConfig(false, false)\n",
    "\n",
    "chart.plotInline"
   ]
  },
  {
   "cell_type": "markdown",
   "metadata": {},
   "source": [
    "### Adding Another Axes\n",
    "\n",
    "Sometimes we may wish to plot multiple series on one chart, but using two different Axes. This may be because the values of the two series are very different, yet we want to compare them on the same plot. We can do this as follows:"
   ]
  },
  {
   "cell_type": "code",
   "execution_count": 13,
   "metadata": {},
   "outputs": [
    {
     "data": {
      "text/html": [
       "<div id=\"grid-container_l3C2DMA9GC\" class=\"grid-container\" align=\"center\"> \n",
       "<div id=\"grid_l3C2DMA9GC\" class=\"grid\" align=\"center\"> \n",
       "<div id=\"graph_S3MFsvGfIr\" class=\"graph\"></div> \n",
       "</div> \n",
       "</div> \n",
       "<script>\n",
       "var masonry = new Macy({\n",
       "    container: '#grid_l3C2DMA9GC',\n",
       "    debug: true,\n",
       "    mobileFirst: true,\n",
       "    columns: 1,\n",
       "    margin: {\n",
       "        x: 0,\n",
       "        y: 0\n",
       "    }\n",
       "  });\n",
       "\n",
       " var traces_S3MFsvGfIr = [{\"name\":\"Series 3 using Y axis 1\",\"type\":\"scatter\",\"mode\":\"markers\",\"x\":[23.996803709861574,11.357809656325745,47.9344828800468,38.08211330902971,42.82745881463053,15.559795228258805,23.35343199136818,7.91064751398054,12.66472574096056,23.587730331569468,10.437146197383484,43.62354874992542,11.796423038124704,12.05065011481617,32.02549850969639,30.73980790599161,40.070927203886086,27.286926692136447,27.82692938497999,18.790660010892584,14.10042874020565,23.906214637781925,15.575074712647496,25.603001929628878,29.428375511035693,12.916822816082341,47.35164635091614,9.649831628381195,21.321584482001704,44.56821487432876,31.725280817956047,41.969474674671744,26.40411099777889,34.48560517017812,29.318982545318452,15.258910412516947,13.219116624417055,32.93337168682174,36.69413876118552,16.66246056320585,10.986630527508318,36.11630103710291,1.0270151522074833,12.505695270093465,22.319218120022065,45.312405683652656,5.9540104135291925,47.76536494350764,7.464225821425169,44.328359762608756,37.17483410332721,0.4197056770669172,24.760404107834145,38.27833391162965,24.928176615838858,0.9895020924270637,4.428356874079648,27.009296438467572,19.29233351820135,30.55876536612968,20.55840633636822,24.63060383276155,33.413603629458784,46.354930755325306,9.216094063293895,32.55296080350749,39.228227714706954,2.571987900094286,8.954693760896932,27.201632676282706,20.01896763256475,35.5359672819088,23.705732784817098,35.14099284119417,24.235355061416787,16.540715970354537,27.012680770093063,37.73232863866749,25.407011802262936,42.722941701403535,40.87959969170807,24.644036424231864,23.69233983474905,36.198971661361604,32.125662331749325,0.543129612454496,25.630274201122727,4.351739169978619,24.068145055569225,42.11925572083351,10.000664548834065,29.634987774304506,21.600568432657568,3.2271452298553713,29.349270321623997,5.552712622960099,43.2893705044786,24.380740241766834,8.696218078259099,16.575386019100534],\"y\":[44.98158120016186,19.091955410832746,35.222178565476895,23.670507947156622,5.597650519428115,33.619336909832086,35.31439402081377,13.85355018867207,27.27768435619666,8.57662400700297,8.255104688184778,1.706383408018669,28.85602413873385,10.54848869788505,29.047777425777948,33.163775398305745,33.758204410072814,49.370501220144874,46.401968642931244,37.03457694041107,20.84600221371024,2.0526349808672686,35.73550811844876,47.70273740625105,19.480404672654984,27.460369288850767,21.203105127851934,33.24427286286898,38.12897001783565,26.814745324847344,5.223366569558219,6.799862725825295,19.213208261999448,33.832484633004384,38.75159705638504,25.4587532890846,11.573233160404135,4.899523604613032,30.6336463258911,40.138144662768994,45.92108696870905,24.056112300344264,29.776461194438774,1.9832831887915847,37.960777293665174,39.76888509272725,19.583890615722225,5.666978165009135,28.472205189590245,10.475065299132991,40.13168916532109,7.633282706826977,49.58780483813651,3.7062318631879143,49.893529205705455,47.808581342845216,31.734862875920584,19.23386291511331,5.4802582232926556,26.594377043259804,36.27310543151764,40.126108663508084,24.817504671233465,45.059544136689695,14.72631068616333,6.8650299099971885,6.462130270378664,5.165854034037371,6.6883229533600925,8.745799243555991,5.345929744836125,38.589095459706876,44.97799134772128,43.66412499516588,13.13533973372627,37.23911489216098,38.42419632001873,12.095422570700832,9.608856336468852,45.935627429836586,49.78127929997949,33.57904320209785,39.97920107160128,47.86266948299681,28.706808217304967,4.343088547074581,31.925201988078,26.40305348991456,47.47777150564181,2.8401719750348997,45.24872497691098,22.74524632004346,20.177933493998072,45.91168569701198,46.5349057881271,27.258555794182143,14.45819889490781,2.057949705222739,20.969283359572326,44.04857051740705]},{\"name\":\"Series 2 using Y axis 2\",\"type\":\"scatter\",\"mode\":\"markers\",\"yaxis\":\"y2\",\"x\":[23.996803709861574,11.357809656325745,47.9344828800468,38.08211330902971,42.82745881463053,15.559795228258805,23.35343199136818,7.91064751398054,12.66472574096056,23.587730331569468,10.437146197383484,43.62354874992542,11.796423038124704,12.05065011481617,32.02549850969639,30.73980790599161,40.070927203886086,27.286926692136447,27.82692938497999,18.790660010892584,14.10042874020565,23.906214637781925,15.575074712647496,25.603001929628878,29.428375511035693,12.916822816082341,47.35164635091614,9.649831628381195,21.321584482001704,44.56821487432876,31.725280817956047,41.969474674671744,26.40411099777889,34.48560517017812,29.318982545318452,15.258910412516947,13.219116624417055,32.93337168682174,36.69413876118552,16.66246056320585,10.986630527508318,36.11630103710291,1.0270151522074833,12.505695270093465,22.319218120022065,45.312405683652656,5.9540104135291925,47.76536494350764,7.464225821425169,44.328359762608756,37.17483410332721,0.4197056770669172,24.760404107834145,38.27833391162965,24.928176615838858,0.9895020924270637,4.428356874079648,27.009296438467572,19.29233351820135,30.55876536612968,20.55840633636822,24.63060383276155,33.413603629458784,46.354930755325306,9.216094063293895,32.55296080350749,39.228227714706954,2.571987900094286,8.954693760896932,27.201632676282706,20.01896763256475,35.5359672819088,23.705732784817098,35.14099284119417,24.235355061416787,16.540715970354537,27.012680770093063,37.73232863866749,25.407011802262936,42.722941701403535,40.87959969170807,24.644036424231864,23.69233983474905,36.198971661361604,32.125662331749325,0.543129612454496,25.630274201122727,4.351739169978619,24.068145055569225,42.11925572083351,10.000664548834065,29.634987774304506,21.600568432657568,3.2271452298553713,29.349270321623997,5.552712622960099,43.2893705044786,24.380740241766834,8.696218078259099,16.575386019100534],\"y\":[38.65353069686143,29.863855597601546,23.553377762393374,2.3332878565555157,6.034019152604469,29.01439200360408,32.360599883154656,5.3213795127763195,42.27445021639741,18.53171348189349,47.18729700291205,7.127591936766242,11.845750254535591,41.875154175339176,27.979125136096478,40.926234640026074,43.963412582271445,41.36789027679438,38.750824414023015,37.02229976744655,38.97210807086644,45.04868587980616,4.367858684293258,17.81069650259617,31.602321809471313,17.494443956794242,49.52129763085536,37.69767051033587,28.40402271649672,42.41904681198501,21.502672242478678,49.97442334436158,22.843988568287028,28.92621584808503,0.9734602056302222,29.361534172152794,23.047569771620324,15.178934546000173,27.82421744535068,8.483745840508556,3.9723001394999455,32.94517641145497,12.431298205052876,48.88820442659292,17.919906326115175,43.98950492512564,16.14445494700054,12.385303209635335,14.7249286916729,14.60234992209173,18.676538921877818,26.46971305424844,35.70226026441949,7.693528315917842,44.21688646695106,48.37028177613465,3.492618939749331,42.82385475156928,42.552877765866114,25.88094522060006,33.31403256968647,3.308453542612455,16.259544020226535,29.540826355444157,39.80912623275653,6.097631161287115,0.10499362515424271,39.960222960999936,7.672087513434805,44.525953739359984,34.21980193101239,16.130186080318822,33.54586587385964,16.2174309380686,28.291424351189114,45.40690826968637,31.29928045120325,8.444482350539722,40.070067729972116,33.52816764841442,22.72534434803225,31.060604645871177,37.810342914210025,33.49758023980062,10.946296227781444,12.761449652042794,32.923426102947275,35.463431904833215,4.3674112813778425,9.876280568353968,6.077328606702936,45.82236398444008,24.890851265286486,18.151532750073805,7.258287893288734,22.694232444424152,45.28243149210297,27.060470743726295,37.894161548349835,6.642948276853722]}];\n",
       " var layout_S3MFsvGfIr = {\"height\":550,\"width\":600,\"hovermode\":\"closest\",\"title\":{\"text\":\"Using Multiple Axes\"},\"showlegend\":true,\"yaxis2\":{\"title\":{\"text\":\"Second y axis\"},\"showgrid\":true,\"zeroline\":false,\"showline\":false,\"side\":\"right\",\"overlaying\":\"y\"},\"yaxis\":{\"title\":{\"text\":\"First Y Axis\"},\"showgrid\":true,\"zeroline\":false,\"showline\":false},\"xaxis\":{\"title\":{\"text\":\"X Axis\"},\"showgrid\":true,\"zeroline\":false,\"showline\":false}};\n",
       " var config_S3MFsvGfIr = {\"responsive\":false,\"scrollZoom\":false,\"displaylogo\":false};\n",
       " Plotly.newPlot(\"graph_S3MFsvGfIr\", traces_S3MFsvGfIr, layout_S3MFsvGfIr, config_S3MFsvGfIr);\n",
       "</script> \n"
      ]
     },
     "metadata": {},
     "output_type": "display_data"
    }
   ],
   "source": [
    "val series1 = XY(x, y) asType SCATTER drawStyle MARKERS\n",
    "\n",
    "// The following maps the series onto the second Y axis.\n",
    "val series2 = (\n",
    "    XY(x, z) \n",
    "    asType SCATTER \n",
    "    drawStyle MARKERS \n",
    "    setAxis YAxis(2)\n",
    "    setName(\"Series 2 using Y axis 2\")\n",
    ")\n",
    "\n",
    "val series3 = series1.copy() setName(\"Series 3 using Y axis 1\")\n",
    "      \n",
    "val chart = (\n",
    "    Chart() \n",
    "    setTitle \"Using Multiple Axes\"\n",
    "    // the following makes the chart unresponsive\n",
    "    setConfig(false, false) \n",
    "    addSeries(series3, series2) \n",
    "    // the following tells the chart how to render the second Y Axis\n",
    "    addAxes YAxis(position = 2, title = \"Second y axis\", overlaying = YAxis(), side = RIGHT_SIDE)\n",
    "    addAxes YAxis(1, \"First Y Axis\")\n",
    "    addAxes XAxis(title = \"X Axis\")\n",
    ") \n",
    "\n",
    "// this is just for illustration purposes, but we can also do the following\n",
    "val canvas = Canvas() setChart(0, 0, chart)\n",
    "\n",
    "canvas.plotInline"
   ]
  },
  {
   "cell_type": "markdown",
   "metadata": {},
   "source": [
    "### Customizing the Axes\n",
    "\n",
    "As can be seen from some of the examples above, if you do a simple chart you can use the standard axis (X and Y) and costumise them in the chart object. But for more complex layout,  we may would want to create new axis and name them.\n",
    "\n",
    "We can do this as follows:"
   ]
  },
  {
   "cell_type": "code",
   "execution_count": 14,
   "metadata": {},
   "outputs": [
    {
     "data": {
      "text/html": [
       "<div id=\"grid-container_vPjiOVxgVb\" class=\"grid-container\" align=\"center\"> \n",
       "<div id=\"grid_vPjiOVxgVb\" class=\"grid\" align=\"center\"> \n",
       "<div id=\"graph_n0mtfjixWa\" class=\"graph\"></div> \n",
       "</div> \n",
       "</div> \n",
       "<script>\n",
       "var masonry = new Macy({\n",
       "    container: '#grid_vPjiOVxgVb',\n",
       "    debug: true,\n",
       "    mobileFirst: true,\n",
       "    columns: 1,\n",
       "    margin: {\n",
       "        x: 0,\n",
       "        y: 0\n",
       "    }\n",
       "  });\n",
       "\n",
       " var traces_n0mtfjixWa = [{\"name\":\"Data\",\"type\":\"scatter\",\"mode\":\"markers\",\"x\":[23.996803709861574,11.357809656325745,47.9344828800468,38.08211330902971,42.82745881463053,15.559795228258805,23.35343199136818,7.91064751398054,12.66472574096056,23.587730331569468,10.437146197383484,43.62354874992542,11.796423038124704,12.05065011481617,32.02549850969639,30.73980790599161,40.070927203886086,27.286926692136447,27.82692938497999,18.790660010892584,14.10042874020565,23.906214637781925,15.575074712647496,25.603001929628878,29.428375511035693,12.916822816082341,47.35164635091614,9.649831628381195,21.321584482001704,44.56821487432876,31.725280817956047,41.969474674671744,26.40411099777889,34.48560517017812,29.318982545318452,15.258910412516947,13.219116624417055,32.93337168682174,36.69413876118552,16.66246056320585,10.986630527508318,36.11630103710291,1.0270151522074833,12.505695270093465,22.319218120022065,45.312405683652656,5.9540104135291925,47.76536494350764,7.464225821425169,44.328359762608756,37.17483410332721,0.4197056770669172,24.760404107834145,38.27833391162965,24.928176615838858,0.9895020924270637,4.428356874079648,27.009296438467572,19.29233351820135,30.55876536612968,20.55840633636822,24.63060383276155,33.413603629458784,46.354930755325306,9.216094063293895,32.55296080350749,39.228227714706954,2.571987900094286,8.954693760896932,27.201632676282706,20.01896763256475,35.5359672819088,23.705732784817098,35.14099284119417,24.235355061416787,16.540715970354537,27.012680770093063,37.73232863866749,25.407011802262936,42.722941701403535,40.87959969170807,24.644036424231864,23.69233983474905,36.198971661361604,32.125662331749325,0.543129612454496,25.630274201122727,4.351739169978619,24.068145055569225,42.11925572083351,10.000664548834065,29.634987774304506,21.600568432657568,3.2271452298553713,29.349270321623997,5.552712622960099,43.2893705044786,24.380740241766834,8.696218078259099,16.575386019100534],\"y\":[44.98158120016186,19.091955410832746,35.222178565476895,23.670507947156622,5.597650519428115,33.619336909832086,35.31439402081377,13.85355018867207,27.27768435619666,8.57662400700297,8.255104688184778,1.706383408018669,28.85602413873385,10.54848869788505,29.047777425777948,33.163775398305745,33.758204410072814,49.370501220144874,46.401968642931244,37.03457694041107,20.84600221371024,2.0526349808672686,35.73550811844876,47.70273740625105,19.480404672654984,27.460369288850767,21.203105127851934,33.24427286286898,38.12897001783565,26.814745324847344,5.223366569558219,6.799862725825295,19.213208261999448,33.832484633004384,38.75159705638504,25.4587532890846,11.573233160404135,4.899523604613032,30.6336463258911,40.138144662768994,45.92108696870905,24.056112300344264,29.776461194438774,1.9832831887915847,37.960777293665174,39.76888509272725,19.583890615722225,5.666978165009135,28.472205189590245,10.475065299132991,40.13168916532109,7.633282706826977,49.58780483813651,3.7062318631879143,49.893529205705455,47.808581342845216,31.734862875920584,19.23386291511331,5.4802582232926556,26.594377043259804,36.27310543151764,40.126108663508084,24.817504671233465,45.059544136689695,14.72631068616333,6.8650299099971885,6.462130270378664,5.165854034037371,6.6883229533600925,8.745799243555991,5.345929744836125,38.589095459706876,44.97799134772128,43.66412499516588,13.13533973372627,37.23911489216098,38.42419632001873,12.095422570700832,9.608856336468852,45.935627429836586,49.78127929997949,33.57904320209785,39.97920107160128,47.86266948299681,28.706808217304967,4.343088547074581,31.925201988078,26.40305348991456,47.47777150564181,2.8401719750348997,45.24872497691098,22.74524632004346,20.177933493998072,45.91168569701198,46.5349057881271,27.258555794182143,14.45819889490781,2.057949705222739,20.969283359572326,44.04857051740705]}];\n",
       " var layout_n0mtfjixWa = {\"height\":550,\"width\":600,\"hovermode\":\"closest\",\"title\":{\"text\":\"Chart with Axes\"},\"showlegend\":true,\"xaxis\":{\"title\":{\"text\":\"x variable\"},\"showgrid\":true,\"zeroline\":false,\"showline\":false},\"yaxis\":{\"title\":{\"text\":\"y variable\"},\"showgrid\":true,\"zeroline\":false,\"showline\":false}};\n",
       " var config_n0mtfjixWa = {\"responsive\":true,\"scrollZoom\":true,\"displaylogo\":false};\n",
       " Plotly.newPlot(\"graph_n0mtfjixWa\", traces_n0mtfjixWa, layout_n0mtfjixWa, config_n0mtfjixWa);\n",
       "</script> \n"
      ]
     },
     "metadata": {},
     "output_type": "display_data"
    }
   ],
   "source": [
    "// We construct the axes and set their title\n",
    "val xaxis = XAxis(title = \"x variable\")\n",
    "val yaxis = YAxis(title = \"y variable\")\n",
    "\n",
    "// another way to do composition is to just add a bracket around the composition\n",
    "val chart = (\n",
    "    Chart()\n",
    "    setTitle \"Chart with Axes\"\n",
    "    addSeries(series1 setName(\"Data\"))\n",
    "    addAxes(xaxis, yaxis)\n",
    ")\n",
    "\n",
    "chart.plotInline"
   ]
  },
  {
   "cell_type": "markdown",
   "metadata": {},
   "source": [
    "### Quickly Configuring The Axes\n",
    "\n",
    "Picta comes with a range of utility functions to make configuring the primary axes quick and easy"
   ]
  },
  {
   "cell_type": "code",
   "execution_count": 15,
   "metadata": {},
   "outputs": [],
   "source": [
    "// Let's create 100 randome data points\n",
    "val x = List.range(0, 100).map(x => x * scala.util.Random.nextDouble())\n",
    "val y = List.range(0, 100).map(x => x * scala.util.Random.nextDouble())"
   ]
  },
  {
   "cell_type": "markdown",
   "metadata": {},
   "source": [
    "#### Adjusting Axes Limits"
   ]
  },
  {
   "cell_type": "code",
   "execution_count": 16,
   "metadata": {},
   "outputs": [
    {
     "data": {
      "text/html": [
       "<div id=\"grid-container_aU528t5Tfw\" class=\"grid-container\" align=\"center\"> \n",
       "<div id=\"grid_aU528t5Tfw\" class=\"grid\" align=\"center\"> \n",
       "<div id=\"graph_8ezbXSxKpL\" class=\"graph\"></div> \n",
       "</div> \n",
       "</div> \n",
       "<script>\n",
       "var masonry = new Macy({\n",
       "    container: '#grid_aU528t5Tfw',\n",
       "    debug: true,\n",
       "    mobileFirst: true,\n",
       "    columns: 1,\n",
       "    margin: {\n",
       "        x: 0,\n",
       "        y: 0\n",
       "    }\n",
       "  });\n",
       "\n",
       " var traces_8ezbXSxKpL = [{\"name\":\"Data for Axis Limit example\",\"type\":\"scatter\",\"mode\":\"markers\",\"x\":[0,0.1446910906965687,0.1420399121903586,2.887824600029368,0.48924477411706135,1.8567288108109774,3.2104610167115895,3.2953787180770586,6.932982452831996,1.4484523995488223,1.3202730536089757,10.935962627180592,8.149735085025153,8.072841484390398,6.069228650530763,7.62132188013768,8.733223424909747,6.856396627174211,2.5192692989464884,7.182372024324654,5.841071091750787,9.237810646693292,0.27635702002587403,14.450596771039091,2.993959561830745,2.0705473004067443,22.95546147273258,24.88738763712871,17.60021627568572,12.69294951173241,29.948801906537778,11.731456119653599,8.136630469477211,4.796451386537929,12.656661552424424,1.030544973771745,2.7453983686845613,36.6002188778214,4.81957445468435,20.595526562770203,29.69947624878854,19.819029670849176,1.5584715645639544,31.01265283395231,3.994290223136161,1.4405303086318089,28.435403635199712,38.623136001041004,41.492696080044404,16.658070012998405,6.541837998303729,11.078488284537913,16.832298187217994,26.68616537512066,44.55408281534485,21.955002039000956,17.94976494498494,34.86731673621798,34.11634887912534,6.21159220922811,34.83554397043217,45.71127684847047,57.071105944371986,33.251736375237506,33.254478548113305,0.5411257275032888,54.20384976856672,24.252609103810393,61.903137000205284,33.50444073676745,51.555171588675,38.50264800806852,8.073349133152512,20.09265216711381,14.226984232831054,55.99265900033338,28.603319924241084,11.247216710909617,9.222147978496332,10.685296233601944,75.97290095479191,75.8675316589798,12.457230806713204,27.99318976643307,26.08807979651042,59.32269250309183,34.92709049580071,34.27725852445037,78.85149392059871,23.657016226511377,25.327050601137046,20.88378146557408,9.280821496900298,23.817963564871786,85.50390279078246,21.621589165814196,15.96523838638829,42.67454634509291,71.16069918525605,65.88936974030038],\"y\":[0,0.08004476331258747,0.9712199307545448,0.23730349422913655,0.47606192030938255,0.4314144383482621,4.558207970673102,0.807181642794314,1.5751903619962926,7.053070424388841,5.851010024385804,0.7380084280315793,8.133463785005773,8.797837859952486,6.530632341035514,1.1612616411586407,14.084698240444194,14.303082936209023,6.859711972011263,18.075845200356184,16.156521173497303,10.039924942581305,17.17623144639732,14.271929472791582,19.13151799960244,18.037025480451653,21.87113368338928,15.3126039625141,20.25011967584087,0.41848419531295233,11.129637659857014,28.957518582887715,4.953981533784731,7.584838286896909,29.17600859430719,21.783771851114686,27.028940707850587,9.231389158844543,4.084780558978798,15.931173601497832,19.555274667560187,36.689093938624346,33.65796558120323,0.1216868552256607,1.1599125190923658,42.54006582955777,4.66756297372468,0.6262686335375711,29.140426126631926,23.352292928777086,5.1757906476395,49.92655974126052,23.3441145559592,47.94655681267134,29.921816778587743,54.69387210788368,26.487250948236987,53.10266318815936,43.15342770871493,56.633706993969575,34.13961297879066,3.2820185599318017,56.034974983338785,9.970587349184447,21.127697570093147,27.039304628176048,49.1291967454938,46.125346449090536,22.876689564012075,39.567466495406606,0.6799479628698057,18.715126884658858,44.466063755083596,11.517508873225589,2.765694916911694,1.6352719327586391,67.166921949361,41.107638257811914,28.0996588207335,22.91193731134944,38.21056925176777,22.835113451175125,26.571829687507954,57.494772605225,64.75759546122949,63.07879048878786,46.81070333786759,52.440230560533806,79.74471110570121,81.78070730929217,70.33847255838889,63.26811451607617,33.732886548642306,70.47127451061475,44.552601742406935,26.906766294634885,81.31490565215982,17.40453664246053,72.039171812891,18.825938177376695]}];\n",
       " var layout_8ezbXSxKpL = {\"height\":550,\"width\":600,\"hovermode\":\"closest\",\"title\":{\"text\":\"Axis.SetAxisRange\"},\"showlegend\":true,\"yaxis\":{\"title\":{\"text\":\"y axis\"},\"showgrid\":true,\"zeroline\":false,\"showline\":false,\"range\":[100,-100]},\"xaxis\":{\"title\":{\"text\":\"x axis\"},\"showgrid\":true,\"zeroline\":false,\"showline\":false,\"range\":[-100,100]}};\n",
       " var config_8ezbXSxKpL = {\"responsive\":true,\"scrollZoom\":true,\"displaylogo\":false};\n",
       " Plotly.newPlot(\"graph_8ezbXSxKpL\", traces_8ezbXSxKpL, layout_8ezbXSxKpL, config_8ezbXSxKpL);\n",
       "</script> \n"
      ]
     },
     "metadata": {},
     "output_type": "display_data"
    }
   ],
   "source": [
    "val series = (\n",
    "    XY(x, y)\n",
    "    asType SCATTER\n",
    "    drawStyle MARKERS\n",
    ")\n",
    "\n",
    "val chart = (\n",
    "      Chart()\n",
    "    addSeries series.setName(\"Data for Axis Limit example\")\n",
    "    setTitle \"Axis.SetAxisRange\"\n",
    "    addAxes yaxis\n",
    "    setXAxisLimits(-100, 100) // Here we set the axis limit from -100 to 100\n",
    "    setYAxisLimits(100, -100) // Here, by using the minimum as 100 and the maximum as -100, we automatically reverse the axis\n",
    "    setXAxisTitle(\"x axis\")\n",
    "    setYAxisTitle(\"y axis\")\n",
    ")\n",
    "\n",
    "chart.plotInline"
   ]
  },
  {
   "cell_type": "markdown",
   "metadata": {},
   "source": [
    "#### Adjusting Axis Ticks"
   ]
  },
  {
   "cell_type": "code",
   "execution_count": 17,
   "metadata": {
    "scrolled": false
   },
   "outputs": [
    {
     "data": {
      "text/html": [
       "<div id=\"grid-container_Eqhap1b43x\" class=\"grid-container\" align=\"center\"> \n",
       "<div id=\"grid_Eqhap1b43x\" class=\"grid\" align=\"center\"> \n",
       "<div id=\"graph_ZEwb1AohJK\" class=\"graph\"></div> \n",
       "</div> \n",
       "</div> \n",
       "<script>\n",
       "var masonry = new Macy({\n",
       "    container: '#grid_Eqhap1b43x',\n",
       "    debug: true,\n",
       "    mobileFirst: true,\n",
       "    columns: 1,\n",
       "    margin: {\n",
       "        x: 0,\n",
       "        y: 0\n",
       "    }\n",
       "  });\n",
       "\n",
       " var traces_ZEwb1AohJK = [{\"name\":\"jiyA2qyv6d\",\"type\":\"scatter\",\"mode\":\"markers\",\"x\":[0,0.1446910906965687,0.1420399121903586,2.887824600029368,0.48924477411706135,1.8567288108109774,3.2104610167115895,3.2953787180770586,6.932982452831996,1.4484523995488223,1.3202730536089757,10.935962627180592,8.149735085025153,8.072841484390398,6.069228650530763,7.62132188013768,8.733223424909747,6.856396627174211,2.5192692989464884,7.182372024324654,5.841071091750787,9.237810646693292,0.27635702002587403,14.450596771039091,2.993959561830745,2.0705473004067443,22.95546147273258,24.88738763712871,17.60021627568572,12.69294951173241,29.948801906537778,11.731456119653599,8.136630469477211,4.796451386537929,12.656661552424424,1.030544973771745,2.7453983686845613,36.6002188778214,4.81957445468435,20.595526562770203,29.69947624878854,19.819029670849176,1.5584715645639544,31.01265283395231,3.994290223136161,1.4405303086318089,28.435403635199712,38.623136001041004,41.492696080044404,16.658070012998405,6.541837998303729,11.078488284537913,16.832298187217994,26.68616537512066,44.55408281534485,21.955002039000956,17.94976494498494,34.86731673621798,34.11634887912534,6.21159220922811,34.83554397043217,45.71127684847047,57.071105944371986,33.251736375237506,33.254478548113305,0.5411257275032888,54.20384976856672,24.252609103810393,61.903137000205284,33.50444073676745,51.555171588675,38.50264800806852,8.073349133152512,20.09265216711381,14.226984232831054,55.99265900033338,28.603319924241084,11.247216710909617,9.222147978496332,10.685296233601944,75.97290095479191,75.8675316589798,12.457230806713204,27.99318976643307,26.08807979651042,59.32269250309183,34.92709049580071,34.27725852445037,78.85149392059871,23.657016226511377,25.327050601137046,20.88378146557408,9.280821496900298,23.817963564871786,85.50390279078246,21.621589165814196,15.96523838638829,42.67454634509291,71.16069918525605,65.88936974030038],\"y\":[0,0.08004476331258747,0.9712199307545448,0.23730349422913655,0.47606192030938255,0.4314144383482621,4.558207970673102,0.807181642794314,1.5751903619962926,7.053070424388841,5.851010024385804,0.7380084280315793,8.133463785005773,8.797837859952486,6.530632341035514,1.1612616411586407,14.084698240444194,14.303082936209023,6.859711972011263,18.075845200356184,16.156521173497303,10.039924942581305,17.17623144639732,14.271929472791582,19.13151799960244,18.037025480451653,21.87113368338928,15.3126039625141,20.25011967584087,0.41848419531295233,11.129637659857014,28.957518582887715,4.953981533784731,7.584838286896909,29.17600859430719,21.783771851114686,27.028940707850587,9.231389158844543,4.084780558978798,15.931173601497832,19.555274667560187,36.689093938624346,33.65796558120323,0.1216868552256607,1.1599125190923658,42.54006582955777,4.66756297372468,0.6262686335375711,29.140426126631926,23.352292928777086,5.1757906476395,49.92655974126052,23.3441145559592,47.94655681267134,29.921816778587743,54.69387210788368,26.487250948236987,53.10266318815936,43.15342770871493,56.633706993969575,34.13961297879066,3.2820185599318017,56.034974983338785,9.970587349184447,21.127697570093147,27.039304628176048,49.1291967454938,46.125346449090536,22.876689564012075,39.567466495406606,0.6799479628698057,18.715126884658858,44.466063755083596,11.517508873225589,2.765694916911694,1.6352719327586391,67.166921949361,41.107638257811914,28.0996588207335,22.91193731134944,38.21056925176777,22.835113451175125,26.571829687507954,57.494772605225,64.75759546122949,63.07879048878786,46.81070333786759,52.440230560533806,79.74471110570121,81.78070730929217,70.33847255838889,63.26811451607617,33.732886548642306,70.47127451061475,44.552601742406935,26.906766294634885,81.31490565215982,17.40453664246053,72.039171812891,18.825938177376695]}];\n",
       " var layout_ZEwb1AohJK = {\"height\":550,\"width\":600,\"hovermode\":\"closest\",\"title\":{\"text\":\"Set Axis Ticks\"},\"showlegend\":true,\"yaxis\":{\"title\":{\"text\":\"y variable\"},\"showgrid\":true,\"zeroline\":false,\"showline\":false,\"range\":[-100,100]},\"xaxis\":{\"title\":{\"text\":\"my new x axis\"},\"showgrid\":true,\"zeroline\":false,\"showline\":false,\"range\":[0,100],\"tick0\":5,\"dtick\":15}};\n",
       " var config_ZEwb1AohJK = {\"responsive\":true,\"scrollZoom\":true,\"displaylogo\":false};\n",
       " Plotly.newPlot(\"graph_ZEwb1AohJK\", traces_ZEwb1AohJK, layout_ZEwb1AohJK, config_ZEwb1AohJK);\n",
       "</script> \n"
      ]
     },
     "metadata": {},
     "output_type": "display_data"
    }
   ],
   "source": [
    "val series = (\n",
    "    XY(x, y)\n",
    "    asType SCATTER\n",
    "    drawStyle MARKERS\n",
    ")\n",
    "\n",
    "val chart = (\n",
    "    Chart()\n",
    "    addSeries series\n",
    "    setTitle \"Set Axis Ticks\"\n",
    "    addAxes yaxis\n",
    "    setXAxisLimits(0, 100)\n",
    "    setYAxisLimits(-100, 100)\n",
    "    setXAxisTitle(\"my new x axis\")\n",
    "    setXAxisStartTick 5\n",
    "    setXAxisTickGap 15\n",
    ")\n",
    "\n",
    "chart.plotInline"
   ]
  },
  {
   "cell_type": "markdown",
   "metadata": {},
   "source": [
    "### Setting Logarithmic Axes"
   ]
  },
  {
   "cell_type": "code",
   "execution_count": 18,
   "metadata": {},
   "outputs": [
    {
     "data": {
      "text/html": [
       "<div id=\"grid-container_eR9odgrjQD\" class=\"grid-container\" align=\"center\"> \n",
       "<div id=\"grid_eR9odgrjQD\" class=\"grid\" align=\"center\"> \n",
       "<div id=\"graph_V9LSBaqScd\" class=\"graph\"></div> \n",
       "</div> \n",
       "</div> \n",
       "<script>\n",
       "var masonry = new Macy({\n",
       "    container: '#grid_eR9odgrjQD',\n",
       "    debug: true,\n",
       "    mobileFirst: true,\n",
       "    columns: 1,\n",
       "    margin: {\n",
       "        x: 0,\n",
       "        y: 0\n",
       "    }\n",
       "  });\n",
       "\n",
       " var traces_V9LSBaqScd = [{\"name\":\"OfhnhqLoyU\",\"type\":\"scatter\",\"mode\":\"markers\",\"x\":[1,2,3],\"y\":[1.234,5.2112,2.44332]}];\n",
       " var layout_V9LSBaqScd = {\"height\":550,\"width\":600,\"hovermode\":\"closest\",\"title\":{\"text\":\"Logarithmic Axes\"},\"showlegend\":true,\"yaxis\":{\"title\":{\"text\":\"y variable\"},\"showgrid\":true,\"zeroline\":false,\"showline\":false,\"type\":\"log\"},\"xaxis\":{\"showgrid\":true,\"zeroline\":false,\"showline\":false,\"type\":\"log\"}};\n",
       " var config_V9LSBaqScd = {\"responsive\":true,\"scrollZoom\":true,\"displaylogo\":false};\n",
       " Plotly.newPlot(\"graph_V9LSBaqScd\", traces_V9LSBaqScd, layout_V9LSBaqScd, config_V9LSBaqScd);\n",
       "</script> \n"
      ]
     },
     "metadata": {},
     "output_type": "display_data"
    }
   ],
   "source": [
    "val series = (\n",
    "    XY(List(1, 2, 3), List(1.234, 5.2112, 2.44332))\n",
    "    asType SCATTER\n",
    "    drawStyle MARKERS\n",
    ")\n",
    "\n",
    "val chart = (\n",
    "    Chart()\n",
    "    addSeries series\n",
    "    setTitle \"Logarithmic Axes\"\n",
    "    addAxes yaxis\n",
    "    drawXAxisLog true // We set the 'drawXAxisLog' value to 'true' to draw it on a logarithmic scale\n",
    "    drawYAxisLog true\n",
    ")\n",
    "\n",
    "chart.plotInline"
   ]
  },
  {
   "cell_type": "markdown",
   "metadata": {},
   "source": [
    "### Reversing axis\n",
    "We can also reverse the axis by setting the appropriate 'drawXAxisReversed'"
   ]
  },
  {
   "cell_type": "code",
   "execution_count": 19,
   "metadata": {},
   "outputs": [
    {
     "data": {
      "text/html": [
       "<div id=\"grid-container_o9mStFhar4\" class=\"grid-container\" align=\"center\"> \n",
       "<div id=\"grid_o9mStFhar4\" class=\"grid\" align=\"center\"> \n",
       "<div id=\"graph_jXB1QlEf6T\" class=\"graph\"></div> \n",
       "</div> \n",
       "</div> \n",
       "<script>\n",
       "var masonry = new Macy({\n",
       "    container: '#grid_o9mStFhar4',\n",
       "    debug: true,\n",
       "    mobileFirst: true,\n",
       "    columns: 1,\n",
       "    margin: {\n",
       "        x: 0,\n",
       "        y: 0\n",
       "    }\n",
       "  });\n",
       "\n",
       " var traces_jXB1QlEf6T = [{\"name\":\"4D8X5kJsyx\",\"type\":\"scatter\",\"mode\":\"markers\",\"x\":[0,0.1446910906965687,0.1420399121903586,2.887824600029368,0.48924477411706135,1.8567288108109774,3.2104610167115895,3.2953787180770586,6.932982452831996,1.4484523995488223,1.3202730536089757,10.935962627180592,8.149735085025153,8.072841484390398,6.069228650530763,7.62132188013768,8.733223424909747,6.856396627174211,2.5192692989464884,7.182372024324654,5.841071091750787,9.237810646693292,0.27635702002587403,14.450596771039091,2.993959561830745,2.0705473004067443,22.95546147273258,24.88738763712871,17.60021627568572,12.69294951173241,29.948801906537778,11.731456119653599,8.136630469477211,4.796451386537929,12.656661552424424,1.030544973771745,2.7453983686845613,36.6002188778214,4.81957445468435,20.595526562770203,29.69947624878854,19.819029670849176,1.5584715645639544,31.01265283395231,3.994290223136161,1.4405303086318089,28.435403635199712,38.623136001041004,41.492696080044404,16.658070012998405,6.541837998303729,11.078488284537913,16.832298187217994,26.68616537512066,44.55408281534485,21.955002039000956,17.94976494498494,34.86731673621798,34.11634887912534,6.21159220922811,34.83554397043217,45.71127684847047,57.071105944371986,33.251736375237506,33.254478548113305,0.5411257275032888,54.20384976856672,24.252609103810393,61.903137000205284,33.50444073676745,51.555171588675,38.50264800806852,8.073349133152512,20.09265216711381,14.226984232831054,55.99265900033338,28.603319924241084,11.247216710909617,9.222147978496332,10.685296233601944,75.97290095479191,75.8675316589798,12.457230806713204,27.99318976643307,26.08807979651042,59.32269250309183,34.92709049580071,34.27725852445037,78.85149392059871,23.657016226511377,25.327050601137046,20.88378146557408,9.280821496900298,23.817963564871786,85.50390279078246,21.621589165814196,15.96523838638829,42.67454634509291,71.16069918525605,65.88936974030038],\"y\":[0,0.08004476331258747,0.9712199307545448,0.23730349422913655,0.47606192030938255,0.4314144383482621,4.558207970673102,0.807181642794314,1.5751903619962926,7.053070424388841,5.851010024385804,0.7380084280315793,8.133463785005773,8.797837859952486,6.530632341035514,1.1612616411586407,14.084698240444194,14.303082936209023,6.859711972011263,18.075845200356184,16.156521173497303,10.039924942581305,17.17623144639732,14.271929472791582,19.13151799960244,18.037025480451653,21.87113368338928,15.3126039625141,20.25011967584087,0.41848419531295233,11.129637659857014,28.957518582887715,4.953981533784731,7.584838286896909,29.17600859430719,21.783771851114686,27.028940707850587,9.231389158844543,4.084780558978798,15.931173601497832,19.555274667560187,36.689093938624346,33.65796558120323,0.1216868552256607,1.1599125190923658,42.54006582955777,4.66756297372468,0.6262686335375711,29.140426126631926,23.352292928777086,5.1757906476395,49.92655974126052,23.3441145559592,47.94655681267134,29.921816778587743,54.69387210788368,26.487250948236987,53.10266318815936,43.15342770871493,56.633706993969575,34.13961297879066,3.2820185599318017,56.034974983338785,9.970587349184447,21.127697570093147,27.039304628176048,49.1291967454938,46.125346449090536,22.876689564012075,39.567466495406606,0.6799479628698057,18.715126884658858,44.466063755083596,11.517508873225589,2.765694916911694,1.6352719327586391,67.166921949361,41.107638257811914,28.0996588207335,22.91193731134944,38.21056925176777,22.835113451175125,26.571829687507954,57.494772605225,64.75759546122949,63.07879048878786,46.81070333786759,52.440230560533806,79.74471110570121,81.78070730929217,70.33847255838889,63.26811451607617,33.732886548642306,70.47127451061475,44.552601742406935,26.906766294634885,81.31490565215982,17.40453664246053,72.039171812891,18.825938177376695]}];\n",
       " var layout_jXB1QlEf6T = {\"height\":550,\"width\":600,\"hovermode\":\"closest\",\"title\":{\"text\":\"Reversed Axes\"},\"showlegend\":true,\"yaxis\":{\"title\":{\"text\":\"Mah\"},\"showgrid\":true,\"zeroline\":false,\"showline\":false,\"autorange\":\"reversed\"},\"xaxis\":{\"showgrid\":true,\"zeroline\":false,\"showline\":false,\"autorange\":\"reversed\"}};\n",
       " var config_jXB1QlEf6T = {\"responsive\":true,\"scrollZoom\":true,\"displaylogo\":false};\n",
       " Plotly.newPlot(\"graph_jXB1QlEf6T\", traces_jXB1QlEf6T, layout_jXB1QlEf6T, config_jXB1QlEf6T);\n",
       "</script> \n"
      ]
     },
     "metadata": {},
     "output_type": "display_data"
    }
   ],
   "source": [
    "val series = (\n",
    "    XY(x, y)\n",
    "    asType SCATTER\n",
    "    drawStyle MARKERS\n",
    ")\n",
    "\n",
    "val chart = (\n",
    "    Chart()\n",
    "    addSeries series\n",
    "    setTitle \"Reversed Axes\"\n",
    "    setYAxisTitle(\"Mah\")\n",
    "    drawXAxisReversed true\n",
    "    drawYAxisReversed true\n",
    ")\n",
    "chart.plotInline"
   ]
  },
  {
   "cell_type": "markdown",
   "metadata": {},
   "source": [
    "### Display options - MultiCharts\n",
    "\n",
    "`MultiCharts` are a way to plot multiple axes on the same chart. This is seperate to Picta's grid system, which create a grid of subplot `Chart`'s. The next series of examples will make this clearer."
   ]
  },
  {
   "cell_type": "code",
   "execution_count": 20,
   "metadata": {},
   "outputs": [
    {
     "data": {
      "text/html": [
       "<div id=\"grid-container_od3jnfGeOW\" class=\"grid-container\" align=\"center\"> \n",
       "<div id=\"grid_od3jnfGeOW\" class=\"grid\" align=\"center\"> \n",
       "<div id=\"graph_fEgMkPO6Hq\" class=\"graph\"></div> \n",
       "</div> \n",
       "</div> \n",
       "<script>\n",
       "var masonry = new Macy({\n",
       "    container: '#grid_od3jnfGeOW',\n",
       "    debug: true,\n",
       "    mobileFirst: true,\n",
       "    columns: 1,\n",
       "    margin: {\n",
       "        x: 0,\n",
       "        y: 0\n",
       "    }\n",
       "  });\n",
       "\n",
       " var traces_fEgMkPO6Hq = [{\"name\":\"First series\",\"type\":\"scatter\",\"mode\":\"markers\",\"x\":[1,2,3],\"y\":[2,4,5]},{\"name\":\"Second series\",\"type\":\"scatter\",\"mode\":\"markers\",\"xaxis\":\"x2\",\"yaxis\":\"y2\",\"x\":[0,0.1446910906965687,0.1420399121903586,2.887824600029368,0.48924477411706135,1.8567288108109774,3.2104610167115895,3.2953787180770586,6.932982452831996,1.4484523995488223,1.3202730536089757,10.935962627180592,8.149735085025153,8.072841484390398,6.069228650530763,7.62132188013768,8.733223424909747,6.856396627174211,2.5192692989464884,7.182372024324654,5.841071091750787,9.237810646693292,0.27635702002587403,14.450596771039091,2.993959561830745,2.0705473004067443,22.95546147273258,24.88738763712871,17.60021627568572,12.69294951173241,29.948801906537778,11.731456119653599,8.136630469477211,4.796451386537929,12.656661552424424,1.030544973771745,2.7453983686845613,36.6002188778214,4.81957445468435,20.595526562770203,29.69947624878854,19.819029670849176,1.5584715645639544,31.01265283395231,3.994290223136161,1.4405303086318089,28.435403635199712,38.623136001041004,41.492696080044404,16.658070012998405,6.541837998303729,11.078488284537913,16.832298187217994,26.68616537512066,44.55408281534485,21.955002039000956,17.94976494498494,34.86731673621798,34.11634887912534,6.21159220922811,34.83554397043217,45.71127684847047,57.071105944371986,33.251736375237506,33.254478548113305,0.5411257275032888,54.20384976856672,24.252609103810393,61.903137000205284,33.50444073676745,51.555171588675,38.50264800806852,8.073349133152512,20.09265216711381,14.226984232831054,55.99265900033338,28.603319924241084,11.247216710909617,9.222147978496332,10.685296233601944,75.97290095479191,75.8675316589798,12.457230806713204,27.99318976643307,26.08807979651042,59.32269250309183,34.92709049580071,34.27725852445037,78.85149392059871,23.657016226511377,25.327050601137046,20.88378146557408,9.280821496900298,23.817963564871786,85.50390279078246,21.621589165814196,15.96523838638829,42.67454634509291,71.16069918525605,65.88936974030038],\"y\":[0,0.08004476331258747,0.9712199307545448,0.23730349422913655,0.47606192030938255,0.4314144383482621,4.558207970673102,0.807181642794314,1.5751903619962926,7.053070424388841,5.851010024385804,0.7380084280315793,8.133463785005773,8.797837859952486,6.530632341035514,1.1612616411586407,14.084698240444194,14.303082936209023,6.859711972011263,18.075845200356184,16.156521173497303,10.039924942581305,17.17623144639732,14.271929472791582,19.13151799960244,18.037025480451653,21.87113368338928,15.3126039625141,20.25011967584087,0.41848419531295233,11.129637659857014,28.957518582887715,4.953981533784731,7.584838286896909,29.17600859430719,21.783771851114686,27.028940707850587,9.231389158844543,4.084780558978798,15.931173601497832,19.555274667560187,36.689093938624346,33.65796558120323,0.1216868552256607,1.1599125190923658,42.54006582955777,4.66756297372468,0.6262686335375711,29.140426126631926,23.352292928777086,5.1757906476395,49.92655974126052,23.3441145559592,47.94655681267134,29.921816778587743,54.69387210788368,26.487250948236987,53.10266318815936,43.15342770871493,56.633706993969575,34.13961297879066,3.2820185599318017,56.034974983338785,9.970587349184447,21.127697570093147,27.039304628176048,49.1291967454938,46.125346449090536,22.876689564012075,39.567466495406606,0.6799479628698057,18.715126884658858,44.466063755083596,11.517508873225589,2.765694916911694,1.6352719327586391,67.166921949361,41.107638257811914,28.0996588207335,22.91193731134944,38.21056925176777,22.835113451175125,26.571829687507954,57.494772605225,64.75759546122949,63.07879048878786,46.81070333786759,52.440230560533806,79.74471110570121,81.78070730929217,70.33847255838889,63.26811451607617,33.732886548642306,70.47127451061475,44.552601742406935,26.906766294634885,81.31490565215982,17.40453664246053,72.039171812891,18.825938177376695]}];\n",
       " var layout_fEgMkPO6Hq = {\"height\":550,\"width\":600,\"hovermode\":\"closest\",\"title\":{\"text\":\"Chart.Axis.Composition\"},\"showlegend\":true,\"grid\":{\"rows\":1,\"columns\":2,\"pattern\":\"independent\"},\"xaxis\":{\"title\":{\"text\":\"x1\"},\"showgrid\":true,\"zeroline\":false,\"showline\":false},\"yaxis\":{\"showgrid\":true,\"zeroline\":false,\"showline\":false},\"xaxis2\":{\"title\":{\"text\":\"x2\"},\"showgrid\":true,\"zeroline\":false,\"showline\":false},\"yaxis2\":{\"showgrid\":true,\"zeroline\":false,\"showline\":false}};\n",
       " var config_fEgMkPO6Hq = {\"responsive\":false,\"scrollZoom\":true,\"displaylogo\":false};\n",
       " Plotly.newPlot(\"graph_fEgMkPO6Hq\", traces_fEgMkPO6Hq, layout_fEgMkPO6Hq, config_fEgMkPO6Hq);\n",
       "</script> \n"
      ]
     },
     "metadata": {},
     "output_type": "display_data"
    }
   ],
   "source": [
    "// create the axes\n",
    "val xaxis1 = XAxis() setTitle \"x1\"\n",
    "val yaxis1 = YAxis() // this is not strictly necessary, but if it is not added there will be a zeroline at y = 0\n",
    "\n",
    "val xaxis2 = XAxis(2) setTitle \"x2\"\n",
    "val yaxis2 = YAxis(2) // this is not strictly necessary, but if it is not added there will be a zeroline at y = 0\n",
    "\n",
    "val series1 = (\n",
    "    XY(x = List(1, 2, 3), y = List(2, 4, 5))\n",
    "    asType SCATTER\n",
    "    drawStyle MARKERS\n",
    "    setName(\"First series\") //Here we don't specify the axis, so the standard axis will be used\n",
    ")\n",
    "\n",
    "val series2 = (\n",
    "    XY(x = x, y = y) \n",
    "    asType SCATTER \n",
    "    drawStyle MARKERS \n",
    "    setName(\"Second series\")\n",
    "    setAxes (xaxis2, yaxis2) //Here we specify the axis for this plot, which are the second axis\n",
    ")\n",
    "\n",
    "val chart1 = Chart()\n",
    "            .addSeries(series1, series2)\n",
    "            .setTitle(\"Chart.Axis.Composition\")\n",
    "            .addAxes(xaxis1, yaxis1, xaxis2, yaxis2)\n",
    "            .setConfig(responsive=false)\n",
    "            // This tells Picta that we want to actually subdivide this chart into multiple plots\n",
    "            .asMultiChart(1, 2) //These correspond to the axis values given above\n",
    "\n",
    "chart1.plotInline"
   ]
  },
  {
   "cell_type": "markdown",
   "metadata": {},
   "source": [
    "### Picta's Subplot System\n",
    "\n",
    "While the above is useful, sometimes it is easier to plot independent charts in a subplot grid. This is where we can use the Picta subplot system.\n",
    "\n",
    "In the subplots below, each subplot is an individual `Chart`. This means we can actually embed the above `MultiChart` inside another subplot. This way we can create nested subplots to showcase any data we need to.\n",
    "\n",
    "Used creatively, this subplot system can be very useful for data exploration."
   ]
  },
  {
   "cell_type": "code",
   "execution_count": 21,
   "metadata": {
    "scrolled": false
   },
   "outputs": [
    {
     "data": {
      "text/html": [
       "<div id=\"grid-container_hNFSHPc5JP\" class=\"grid-container\" align=\"center\"> \n",
       "<div id=\"grid_hNFSHPc5JP\" class=\"grid\" align=\"center\"> \n",
       "<div id=\"graph_JyjIBhQgDz\" class=\"graph\"></div> \n",
       "<div id=\"graph_qSdfPrtJUp\" class=\"graph\"></div> \n",
       "<div id=\"graph_dIAblib68l\" class=\"graph\"></div> \n",
       "<div id=\"graph_Ifa1V5df7f\" class=\"graph\"></div> \n",
       "</div> \n",
       "</div> \n",
       "\n",
       "<div align=\"center\">\n",
       "<button id = \"saveAsPNG_hNFSHPc5JP\" class=\"picta-button\">Download Canvas as PNG</button>\n",
       "</div>\n",
       "<script>\n",
       "var masonry = new Macy({\n",
       "    container: '#grid_hNFSHPc5JP',\n",
       "    debug: true,\n",
       "    mobileFirst: true,\n",
       "    columns: 2,\n",
       "    margin: {\n",
       "        x: 0,\n",
       "        y: 0\n",
       "    }\n",
       "  });\n",
       "\n",
       " var traces_JyjIBhQgDz = [{\"name\":\"a\",\"type\":\"scatter\",\"mode\":\"markers\",\"x\":[0,0.1446910906965687,0.1420399121903586,2.887824600029368,0.48924477411706135,1.8567288108109774,3.2104610167115895,3.2953787180770586,6.932982452831996,1.4484523995488223,1.3202730536089757,10.935962627180592,8.149735085025153,8.072841484390398,6.069228650530763,7.62132188013768,8.733223424909747,6.856396627174211,2.5192692989464884,7.182372024324654,5.841071091750787,9.237810646693292,0.27635702002587403,14.450596771039091,2.993959561830745,2.0705473004067443,22.95546147273258,24.88738763712871,17.60021627568572,12.69294951173241,29.948801906537778,11.731456119653599,8.136630469477211,4.796451386537929,12.656661552424424,1.030544973771745,2.7453983686845613,36.6002188778214,4.81957445468435,20.595526562770203,29.69947624878854,19.819029670849176,1.5584715645639544,31.01265283395231,3.994290223136161,1.4405303086318089,28.435403635199712,38.623136001041004,41.492696080044404,16.658070012998405,6.541837998303729,11.078488284537913,16.832298187217994,26.68616537512066,44.55408281534485,21.955002039000956,17.94976494498494,34.86731673621798,34.11634887912534,6.21159220922811,34.83554397043217,45.71127684847047,57.071105944371986,33.251736375237506,33.254478548113305,0.5411257275032888,54.20384976856672,24.252609103810393,61.903137000205284,33.50444073676745,51.555171588675,38.50264800806852,8.073349133152512,20.09265216711381,14.226984232831054,55.99265900033338,28.603319924241084,11.247216710909617,9.222147978496332,10.685296233601944,75.97290095479191,75.8675316589798,12.457230806713204,27.99318976643307,26.08807979651042,59.32269250309183,34.92709049580071,34.27725852445037,78.85149392059871,23.657016226511377,25.327050601137046,20.88378146557408,9.280821496900298,23.817963564871786,85.50390279078246,21.621589165814196,15.96523838638829,42.67454634509291,71.16069918525605,65.88936974030038],\"y\":[0,0.08004476331258747,0.9712199307545448,0.23730349422913655,0.47606192030938255,0.4314144383482621,4.558207970673102,0.807181642794314,1.5751903619962926,7.053070424388841,5.851010024385804,0.7380084280315793,8.133463785005773,8.797837859952486,6.530632341035514,1.1612616411586407,14.084698240444194,14.303082936209023,6.859711972011263,18.075845200356184,16.156521173497303,10.039924942581305,17.17623144639732,14.271929472791582,19.13151799960244,18.037025480451653,21.87113368338928,15.3126039625141,20.25011967584087,0.41848419531295233,11.129637659857014,28.957518582887715,4.953981533784731,7.584838286896909,29.17600859430719,21.783771851114686,27.028940707850587,9.231389158844543,4.084780558978798,15.931173601497832,19.555274667560187,36.689093938624346,33.65796558120323,0.1216868552256607,1.1599125190923658,42.54006582955777,4.66756297372468,0.6262686335375711,29.140426126631926,23.352292928777086,5.1757906476395,49.92655974126052,23.3441145559592,47.94655681267134,29.921816778587743,54.69387210788368,26.487250948236987,53.10266318815936,43.15342770871493,56.633706993969575,34.13961297879066,3.2820185599318017,56.034974983338785,9.970587349184447,21.127697570093147,27.039304628176048,49.1291967454938,46.125346449090536,22.876689564012075,39.567466495406606,0.6799479628698057,18.715126884658858,44.466063755083596,11.517508873225589,2.765694916911694,1.6352719327586391,67.166921949361,41.107638257811914,28.0996588207335,22.91193731134944,38.21056925176777,22.835113451175125,26.571829687507954,57.494772605225,64.75759546122949,63.07879048878786,46.81070333786759,52.440230560533806,79.74471110570121,81.78070730929217,70.33847255838889,63.26811451607617,33.732886548642306,70.47127451061475,44.552601742406935,26.906766294634885,81.31490565215982,17.40453664246053,72.039171812891,18.825938177376695]}];\n",
       " var layout_JyjIBhQgDz = {\"height\":350,\"width\":350,\"hovermode\":\"closest\",\"showlegend\":true,\"margin\":{\"l\":50,\"r\":30,\"t\":50,\"b\":50},\"xaxis\":{\"title\":{\"text\":\"x axis 1\"},\"showgrid\":true,\"zeroline\":false,\"showline\":false},\"yaxis\":{\"title\":{\"text\":\"y axis 1\"},\"showgrid\":true,\"zeroline\":false,\"showline\":false}};\n",
       " var config_JyjIBhQgDz = {\"responsive\":true,\"scrollZoom\":true,\"displaylogo\":false};\n",
       " Plotly.newPlot(\"graph_JyjIBhQgDz\", traces_JyjIBhQgDz, layout_JyjIBhQgDz, config_JyjIBhQgDz);\n",
       "\n",
       " var traces_qSdfPrtJUp = [{\"name\":\"b\",\"type\":\"scatter\",\"mode\":\"markers\",\"x\":[0,0.1446910906965687,0.1420399121903586,2.887824600029368,0.48924477411706135,1.8567288108109774,3.2104610167115895,3.2953787180770586,6.932982452831996,1.4484523995488223,1.3202730536089757,10.935962627180592,8.149735085025153,8.072841484390398,6.069228650530763,7.62132188013768,8.733223424909747,6.856396627174211,2.5192692989464884,7.182372024324654,5.841071091750787,9.237810646693292,0.27635702002587403,14.450596771039091,2.993959561830745,2.0705473004067443,22.95546147273258,24.88738763712871,17.60021627568572,12.69294951173241,29.948801906537778,11.731456119653599,8.136630469477211,4.796451386537929,12.656661552424424,1.030544973771745,2.7453983686845613,36.6002188778214,4.81957445468435,20.595526562770203,29.69947624878854,19.819029670849176,1.5584715645639544,31.01265283395231,3.994290223136161,1.4405303086318089,28.435403635199712,38.623136001041004,41.492696080044404,16.658070012998405,6.541837998303729,11.078488284537913,16.832298187217994,26.68616537512066,44.55408281534485,21.955002039000956,17.94976494498494,34.86731673621798,34.11634887912534,6.21159220922811,34.83554397043217,45.71127684847047,57.071105944371986,33.251736375237506,33.254478548113305,0.5411257275032888,54.20384976856672,24.252609103810393,61.903137000205284,33.50444073676745,51.555171588675,38.50264800806852,8.073349133152512,20.09265216711381,14.226984232831054,55.99265900033338,28.603319924241084,11.247216710909617,9.222147978496332,10.685296233601944,75.97290095479191,75.8675316589798,12.457230806713204,27.99318976643307,26.08807979651042,59.32269250309183,34.92709049580071,34.27725852445037,78.85149392059871,23.657016226511377,25.327050601137046,20.88378146557408,9.280821496900298,23.817963564871786,85.50390279078246,21.621589165814196,15.96523838638829,42.67454634509291,71.16069918525605,65.88936974030038],\"y\":[0,0.08004476331258747,0.9712199307545448,0.23730349422913655,0.47606192030938255,0.4314144383482621,4.558207970673102,0.807181642794314,1.5751903619962926,7.053070424388841,5.851010024385804,0.7380084280315793,8.133463785005773,8.797837859952486,6.530632341035514,1.1612616411586407,14.084698240444194,14.303082936209023,6.859711972011263,18.075845200356184,16.156521173497303,10.039924942581305,17.17623144639732,14.271929472791582,19.13151799960244,18.037025480451653,21.87113368338928,15.3126039625141,20.25011967584087,0.41848419531295233,11.129637659857014,28.957518582887715,4.953981533784731,7.584838286896909,29.17600859430719,21.783771851114686,27.028940707850587,9.231389158844543,4.084780558978798,15.931173601497832,19.555274667560187,36.689093938624346,33.65796558120323,0.1216868552256607,1.1599125190923658,42.54006582955777,4.66756297372468,0.6262686335375711,29.140426126631926,23.352292928777086,5.1757906476395,49.92655974126052,23.3441145559592,47.94655681267134,29.921816778587743,54.69387210788368,26.487250948236987,53.10266318815936,43.15342770871493,56.633706993969575,34.13961297879066,3.2820185599318017,56.034974983338785,9.970587349184447,21.127697570093147,27.039304628176048,49.1291967454938,46.125346449090536,22.876689564012075,39.567466495406606,0.6799479628698057,18.715126884658858,44.466063755083596,11.517508873225589,2.765694916911694,1.6352719327586391,67.166921949361,41.107638257811914,28.0996588207335,22.91193731134944,38.21056925176777,22.835113451175125,26.571829687507954,57.494772605225,64.75759546122949,63.07879048878786,46.81070333786759,52.440230560533806,79.74471110570121,81.78070730929217,70.33847255838889,63.26811451607617,33.732886548642306,70.47127451061475,44.552601742406935,26.906766294634885,81.31490565215982,17.40453664246053,72.039171812891,18.825938177376695]}];\n",
       " var layout_qSdfPrtJUp = {\"height\":350,\"width\":350,\"hovermode\":\"closest\",\"showlegend\":true,\"margin\":{\"l\":50,\"r\":50,\"t\":50,\"b\":50},\"xaxis\":{\"title\":{\"text\":\"x axis 2\"},\"showgrid\":true,\"zeroline\":false,\"showline\":false},\"yaxis\":{\"title\":{\"text\":\"y axis 2\"},\"showgrid\":true,\"zeroline\":false,\"showline\":false}};\n",
       " var config_qSdfPrtJUp = {\"responsive\":true,\"scrollZoom\":true,\"displaylogo\":false};\n",
       " Plotly.newPlot(\"graph_qSdfPrtJUp\", traces_qSdfPrtJUp, layout_qSdfPrtJUp, config_qSdfPrtJUp);\n",
       "\n",
       " var traces_dIAblib68l = [{\"name\":\"c\",\"type\":\"scatter\",\"mode\":\"markers\",\"x\":[0,0.1446910906965687,0.1420399121903586,2.887824600029368,0.48924477411706135,1.8567288108109774,3.2104610167115895,3.2953787180770586,6.932982452831996,1.4484523995488223,1.3202730536089757,10.935962627180592,8.149735085025153,8.072841484390398,6.069228650530763,7.62132188013768,8.733223424909747,6.856396627174211,2.5192692989464884,7.182372024324654,5.841071091750787,9.237810646693292,0.27635702002587403,14.450596771039091,2.993959561830745,2.0705473004067443,22.95546147273258,24.88738763712871,17.60021627568572,12.69294951173241,29.948801906537778,11.731456119653599,8.136630469477211,4.796451386537929,12.656661552424424,1.030544973771745,2.7453983686845613,36.6002188778214,4.81957445468435,20.595526562770203,29.69947624878854,19.819029670849176,1.5584715645639544,31.01265283395231,3.994290223136161,1.4405303086318089,28.435403635199712,38.623136001041004,41.492696080044404,16.658070012998405,6.541837998303729,11.078488284537913,16.832298187217994,26.68616537512066,44.55408281534485,21.955002039000956,17.94976494498494,34.86731673621798,34.11634887912534,6.21159220922811,34.83554397043217,45.71127684847047,57.071105944371986,33.251736375237506,33.254478548113305,0.5411257275032888,54.20384976856672,24.252609103810393,61.903137000205284,33.50444073676745,51.555171588675,38.50264800806852,8.073349133152512,20.09265216711381,14.226984232831054,55.99265900033338,28.603319924241084,11.247216710909617,9.222147978496332,10.685296233601944,75.97290095479191,75.8675316589798,12.457230806713204,27.99318976643307,26.08807979651042,59.32269250309183,34.92709049580071,34.27725852445037,78.85149392059871,23.657016226511377,25.327050601137046,20.88378146557408,9.280821496900298,23.817963564871786,85.50390279078246,21.621589165814196,15.96523838638829,42.67454634509291,71.16069918525605,65.88936974030038],\"y\":[0,0.08004476331258747,0.9712199307545448,0.23730349422913655,0.47606192030938255,0.4314144383482621,4.558207970673102,0.807181642794314,1.5751903619962926,7.053070424388841,5.851010024385804,0.7380084280315793,8.133463785005773,8.797837859952486,6.530632341035514,1.1612616411586407,14.084698240444194,14.303082936209023,6.859711972011263,18.075845200356184,16.156521173497303,10.039924942581305,17.17623144639732,14.271929472791582,19.13151799960244,18.037025480451653,21.87113368338928,15.3126039625141,20.25011967584087,0.41848419531295233,11.129637659857014,28.957518582887715,4.953981533784731,7.584838286896909,29.17600859430719,21.783771851114686,27.028940707850587,9.231389158844543,4.084780558978798,15.931173601497832,19.555274667560187,36.689093938624346,33.65796558120323,0.1216868552256607,1.1599125190923658,42.54006582955777,4.66756297372468,0.6262686335375711,29.140426126631926,23.352292928777086,5.1757906476395,49.92655974126052,23.3441145559592,47.94655681267134,29.921816778587743,54.69387210788368,26.487250948236987,53.10266318815936,43.15342770871493,56.633706993969575,34.13961297879066,3.2820185599318017,56.034974983338785,9.970587349184447,21.127697570093147,27.039304628176048,49.1291967454938,46.125346449090536,22.876689564012075,39.567466495406606,0.6799479628698057,18.715126884658858,44.466063755083596,11.517508873225589,2.765694916911694,1.6352719327586391,67.166921949361,41.107638257811914,28.0996588207335,22.91193731134944,38.21056925176777,22.835113451175125,26.571829687507954,57.494772605225,64.75759546122949,63.07879048878786,46.81070333786759,52.440230560533806,79.74471110570121,81.78070730929217,70.33847255838889,63.26811451607617,33.732886548642306,70.47127451061475,44.552601742406935,26.906766294634885,81.31490565215982,17.40453664246053,72.039171812891,18.825938177376695]}];\n",
       " var layout_dIAblib68l = {\"height\":350,\"width\":350,\"hovermode\":\"closest\",\"showlegend\":true,\"margin\":{\"l\":50,\"r\":30,\"t\":50,\"b\":50},\"xaxis\":{\"title\":{\"text\":\"x axis 3\"},\"showgrid\":true,\"zeroline\":false,\"showline\":false},\"yaxis\":{\"title\":{\"text\":\"y axis 3\"},\"showgrid\":true,\"zeroline\":false,\"showline\":false}};\n",
       " var config_dIAblib68l = {\"responsive\":true,\"scrollZoom\":true,\"displaylogo\":false};\n",
       " Plotly.newPlot(\"graph_dIAblib68l\", traces_dIAblib68l, layout_dIAblib68l, config_dIAblib68l);\n",
       "\n",
       " var traces_Ifa1V5df7f = [{\"name\":\"First series\",\"type\":\"scatter\",\"mode\":\"markers\",\"x\":[1,2,3],\"y\":[2,4,5]},{\"name\":\"Second series\",\"type\":\"scatter\",\"mode\":\"markers\",\"xaxis\":\"x2\",\"yaxis\":\"y2\",\"x\":[0,0.1446910906965687,0.1420399121903586,2.887824600029368,0.48924477411706135,1.8567288108109774,3.2104610167115895,3.2953787180770586,6.932982452831996,1.4484523995488223,1.3202730536089757,10.935962627180592,8.149735085025153,8.072841484390398,6.069228650530763,7.62132188013768,8.733223424909747,6.856396627174211,2.5192692989464884,7.182372024324654,5.841071091750787,9.237810646693292,0.27635702002587403,14.450596771039091,2.993959561830745,2.0705473004067443,22.95546147273258,24.88738763712871,17.60021627568572,12.69294951173241,29.948801906537778,11.731456119653599,8.136630469477211,4.796451386537929,12.656661552424424,1.030544973771745,2.7453983686845613,36.6002188778214,4.81957445468435,20.595526562770203,29.69947624878854,19.819029670849176,1.5584715645639544,31.01265283395231,3.994290223136161,1.4405303086318089,28.435403635199712,38.623136001041004,41.492696080044404,16.658070012998405,6.541837998303729,11.078488284537913,16.832298187217994,26.68616537512066,44.55408281534485,21.955002039000956,17.94976494498494,34.86731673621798,34.11634887912534,6.21159220922811,34.83554397043217,45.71127684847047,57.071105944371986,33.251736375237506,33.254478548113305,0.5411257275032888,54.20384976856672,24.252609103810393,61.903137000205284,33.50444073676745,51.555171588675,38.50264800806852,8.073349133152512,20.09265216711381,14.226984232831054,55.99265900033338,28.603319924241084,11.247216710909617,9.222147978496332,10.685296233601944,75.97290095479191,75.8675316589798,12.457230806713204,27.99318976643307,26.08807979651042,59.32269250309183,34.92709049580071,34.27725852445037,78.85149392059871,23.657016226511377,25.327050601137046,20.88378146557408,9.280821496900298,23.817963564871786,85.50390279078246,21.621589165814196,15.96523838638829,42.67454634509291,71.16069918525605,65.88936974030038],\"y\":[0,0.08004476331258747,0.9712199307545448,0.23730349422913655,0.47606192030938255,0.4314144383482621,4.558207970673102,0.807181642794314,1.5751903619962926,7.053070424388841,5.851010024385804,0.7380084280315793,8.133463785005773,8.797837859952486,6.530632341035514,1.1612616411586407,14.084698240444194,14.303082936209023,6.859711972011263,18.075845200356184,16.156521173497303,10.039924942581305,17.17623144639732,14.271929472791582,19.13151799960244,18.037025480451653,21.87113368338928,15.3126039625141,20.25011967584087,0.41848419531295233,11.129637659857014,28.957518582887715,4.953981533784731,7.584838286896909,29.17600859430719,21.783771851114686,27.028940707850587,9.231389158844543,4.084780558978798,15.931173601497832,19.555274667560187,36.689093938624346,33.65796558120323,0.1216868552256607,1.1599125190923658,42.54006582955777,4.66756297372468,0.6262686335375711,29.140426126631926,23.352292928777086,5.1757906476395,49.92655974126052,23.3441145559592,47.94655681267134,29.921816778587743,54.69387210788368,26.487250948236987,53.10266318815936,43.15342770871493,56.633706993969575,34.13961297879066,3.2820185599318017,56.034974983338785,9.970587349184447,21.127697570093147,27.039304628176048,49.1291967454938,46.125346449090536,22.876689564012075,39.567466495406606,0.6799479628698057,18.715126884658858,44.466063755083596,11.517508873225589,2.765694916911694,1.6352719327586391,67.166921949361,41.107638257811914,28.0996588207335,22.91193731134944,38.21056925176777,22.835113451175125,26.571829687507954,57.494772605225,64.75759546122949,63.07879048878786,46.81070333786759,52.440230560533806,79.74471110570121,81.78070730929217,70.33847255838889,63.26811451607617,33.732886548642306,70.47127451061475,44.552601742406935,26.906766294634885,81.31490565215982,17.40453664246053,72.039171812891,18.825938177376695]}];\n",
       " var layout_Ifa1V5df7f = {\"height\":350,\"width\":350,\"hovermode\":\"closest\",\"title\":{\"text\":\"The MultiChart from Above\"},\"showlegend\":true,\"grid\":{\"rows\":1,\"columns\":2,\"pattern\":\"independent\"},\"xaxis\":{\"title\":{\"text\":\"x1\"},\"showgrid\":true,\"zeroline\":false,\"showline\":false},\"yaxis\":{\"showgrid\":true,\"zeroline\":false,\"showline\":false},\"xaxis2\":{\"title\":{\"text\":\"x2\"},\"showgrid\":true,\"zeroline\":false,\"showline\":false},\"yaxis2\":{\"showgrid\":true,\"zeroline\":false,\"showline\":false}};\n",
       " var config_Ifa1V5df7f = {\"responsive\":false,\"scrollZoom\":true,\"displaylogo\":false};\n",
       " Plotly.newPlot(\"graph_Ifa1V5df7f\", traces_Ifa1V5df7f, layout_Ifa1V5df7f, config_Ifa1V5df7f);\n",
       "\n",
       "var save_hNFSHPc5JP = document.getElementById(\"saveAsPNG_hNFSHPc5JP\")\n",
       "save_hNFSHPc5JP.onclick = function() {\n",
       "    const grid = document.getElementById(\"grid-container_hNFSHPc5JP\")\n",
       "    const graphs = grid.getElementsByClassName(\"graph\")\n",
       "\n",
       "    const promises = []\n",
       "\n",
       "    const rows = 2\n",
       "    const cols = 2\n",
       "    const img_width = 400\n",
       "    const img_height = 400\n",
       "    var margin = 50\n",
       "\n",
       "    for (var i=0; i<graphs.length; i++) {\n",
       "        const promise = Plotly.toImage(graphs[i], {format: 'png', width: img_width, height: img_height})\n",
       "        promises.push(new Promise((resolve) => {\n",
       "            resolve(promise);\n",
       "        }));\n",
       "    }\n",
       "\n",
       "    Promise.all(promises).then((images) => {\n",
       "        const positioned_images = []\n",
       "\n",
       "        for (var i=0; i<rows; i++) {\n",
       "            for (var j=0; j<cols; j++) {\n",
       "\n",
       "                const obj = {\n",
       "                    \"src\": images[i*cols + j],\n",
       "                    x: i*img_width+margin,\n",
       "                    y: j*img_height+margin\n",
       "                }\n",
       "\n",
       "                positioned_images.push(obj)\n",
       "            }\n",
       "        }\n",
       "\n",
       "        mergeImages(positioned_images, {\n",
       "            width: img_width*cols+60, height: img_height*rows+60\n",
       "        })\n",
       "        .then(b64 => {\n",
       "            var a = document.createElement(\"a\");\n",
       "            a.href = b64;\n",
       "            a.download = \"Image.png\";\n",
       "            a.click();\n",
       "            a.remove()\n",
       "        });\n",
       "    });\n",
       "}\n",
       "</script> \n"
      ]
     },
     "metadata": {},
     "output_type": "display_data"
    }
   ],
   "source": [
    "// first define the x-axes we will use in the plot\n",
    "val ax1 = XAxis(title = \"x axis 1\")\n",
    "val ax2 = XAxis(title = \"x axis 2\")\n",
    "val ax3 = XAxis(title = \"x axis 3\")\n",
    "val ax4 = XAxis(title = \"x axis 4\")\n",
    "\n",
    "// first define the y-axes we will use in the plot\n",
    "val ax6 = YAxis(title = \"y axis 1\")\n",
    "val ax7 = YAxis(title = \"y axis 2\")\n",
    "val ax8 = YAxis(title = \"y axis 3\")\n",
    "val ax9 = YAxis(title = \"y axis 4\")\n",
    "\n",
    "// it may be necessary to play around with the chart dimensions and margin  in order to ensure a good fit on screen.\n",
    "val dim = 350\n",
    "\n",
    "val chart1 = (\n",
    "    Chart()\n",
    "    setDimensions(width = dim, height = dim)\n",
    "    addSeries XY(x, y).setName(\"a\").drawMarkers\n",
    "    addAxes(ax1, ax6)\n",
    "    setMargin(l=50, r=30, t=50, b=50)\n",
    ")\n",
    "\n",
    "val chart2 = (\n",
    "    Chart() \n",
    "    setDimensions(width = dim, height = dim)\n",
    "    addSeries XY(x, y).setName(\"b\").drawMarkers\n",
    "    addAxes(ax2, ax7)\n",
    "    setMargin(l=50, r=50, t=50, b=50)\n",
    ")\n",
    "\n",
    "val chart3 = (\n",
    "    Chart()\n",
    "    setDimensions(width = dim, height = dim)\n",
    "    addSeries XY(x, y).setName(\"c\").drawMarkers\n",
    "    addAxes(ax3, ax8)\n",
    "    setMargin(l=50, r=30, t=50, b=50)\n",
    ")\n",
    "\n",
    "val chart4 = (\n",
    "    Chart()\n",
    "    setDimensions(width = dim, height = dim)\n",
    "    addSeries(series1, series2)\n",
    "    setTitle \"The MultiChart from Above\"\n",
    "    addAxes(xaxis1, yaxis1, xaxis2, yaxis2) // these axes come from above\n",
    "    setConfig(responsive=false)\n",
    "    asMultiChart(1, 2)\n",
    ")\n",
    "\n",
    "// The canvas has an underlying grid. By default the underlying grid is 1x1, but we can pass in the dimensions we \n",
    "// require by passing in parameters in the constructor.\n",
    "Canvas(2, 2)\n",
    ".setChart(0, 0, chart1)\n",
    ".setChart(0, 1, chart2)\n",
    ".setChart(1, 0, chart3)\n",
    ".setChart(1, 1, chart4)\n",
    ".plotInline"
   ]
  },
  {
   "cell_type": "markdown",
   "metadata": {},
   "source": [
    "### Error Bars\n",
    "\n",
    "We can also add Error Bars to our plots.\n",
    "\n",
    "Error bars come in two flavours:\n",
    "\n",
    "1. `XError`\n",
    "2. `YError`\n",
    "\n",
    "Both of these has an associated `mode` that determines how the error bar is calculated for an individual point. The following `mode`s can be specified:\n",
    "\n",
    "- `DATA`: The user passes in an array that specifies the per point error\n",
    "- `PERCENT`: The user passes in a Double that calculates the error as a percentage of the value of the point\n",
    "- `CONSTANT`: The user passes in a double that is the constant value for the error for all points\n",
    "- `SQRT`: This calculates the error as a square root of the point value.\n",
    "\n",
    "The next few examples will demonstrate:"
   ]
  },
  {
   "cell_type": "code",
   "execution_count": 22,
   "metadata": {},
   "outputs": [],
   "source": [
    "// First import the Error Bar options\n",
    "import org.carbonateresearch.picta.options.{YError, CONSTANT, DATA, PERCENT, SQRT}"
   ]
  },
  {
   "cell_type": "code",
   "execution_count": 23,
   "metadata": {},
   "outputs": [
    {
     "data": {
      "text/html": [
       "<div id=\"grid-container_yYm28y28uD\" class=\"grid-container\" align=\"center\"> \n",
       "<div id=\"grid_yYm28y28uD\" class=\"grid\" align=\"center\"> \n",
       "<div id=\"graph_V3M05REkDg\" class=\"graph\"></div> \n",
       "<div id=\"graph_SjM9R02zJ8\" class=\"graph\"></div> \n",
       "<div id=\"graph_XHjEpB1wTM\" class=\"graph\"></div> \n",
       "<div id=\"graph_RAMvAzw4XT\" class=\"graph\"></div> \n",
       "</div> \n",
       "</div> \n",
       "\n",
       "<div align=\"center\">\n",
       "<button id = \"saveAsPNG_yYm28y28uD\" class=\"picta-button\">Download Canvas as PNG</button>\n",
       "</div>\n",
       "<script>\n",
       "var masonry = new Macy({\n",
       "    container: '#grid_yYm28y28uD',\n",
       "    debug: true,\n",
       "    mobileFirst: true,\n",
       "    columns: 2,\n",
       "    margin: {\n",
       "        x: 0,\n",
       "        y: 0\n",
       "    }\n",
       "  });\n",
       "\n",
       " var traces_V3M05REkDg = [{\"name\":\"Error from provided data\",\"type\":\"scatter\",\"mode\":\"markers\",\"x\":[1,2,3],\"y\":[1.234,5.2112,2.44332],\"error_y\":{\"type\":\"data\",\"visible\":true,\"array\":[0.5,0.5,0.5]}}];\n",
       " var layout_V3M05REkDg = {\"height\":400,\"width\":400,\"hovermode\":\"closest\",\"title\":{\"text\":\"Per Point Specified Error\"},\"showlegend\":true};\n",
       " var config_V3M05REkDg = {\"responsive\":true,\"scrollZoom\":true,\"displaylogo\":false};\n",
       " Plotly.newPlot(\"graph_V3M05REkDg\", traces_V3M05REkDg, layout_V3M05REkDg, config_V3M05REkDg);\n",
       "\n",
       " var traces_SjM9R02zJ8 = [{\"name\":\"% error\",\"type\":\"scatter\",\"mode\":\"markers\",\"x\":[1,2,3],\"y\":[1.234,5.2112,2.44332],\"error_y\":{\"type\":\"percent\",\"visible\":true,\"value\":10}}];\n",
       " var layout_SjM9R02zJ8 = {\"height\":400,\"width\":400,\"hovermode\":\"closest\",\"title\":{\"text\":\"Percentage Error\"},\"showlegend\":true};\n",
       " var config_SjM9R02zJ8 = {\"responsive\":true,\"scrollZoom\":true,\"displaylogo\":false};\n",
       " Plotly.newPlot(\"graph_SjM9R02zJ8\", traces_SjM9R02zJ8, layout_SjM9R02zJ8, config_SjM9R02zJ8);\n",
       "\n",
       " var traces_XHjEpB1wTM = [{\"name\":\"constant error\",\"type\":\"scatter\",\"mode\":\"markers\",\"x\":[1,2,3],\"y\":[1.234,5.2112,2.44332],\"error_y\":{\"type\":\"constant\",\"visible\":true,\"value\":10}}];\n",
       " var layout_XHjEpB1wTM = {\"height\":400,\"width\":400,\"hovermode\":\"closest\",\"title\":{\"text\":\"Constant Error\"},\"showlegend\":true};\n",
       " var config_XHjEpB1wTM = {\"responsive\":true,\"scrollZoom\":true,\"displaylogo\":false};\n",
       " Plotly.newPlot(\"graph_XHjEpB1wTM\", traces_XHjEpB1wTM, layout_XHjEpB1wTM, config_XHjEpB1wTM);\n",
       "\n",
       " var traces_RAMvAzw4XT = [{\"name\":\"Sqrt\",\"type\":\"scatter\",\"mode\":\"markers\",\"x\":[1,2,3],\"y\":[1.234,5.2112,2.44332],\"error_y\":{\"type\":\"sqrt\",\"visible\":true}}];\n",
       " var layout_RAMvAzw4XT = {\"height\":400,\"width\":400,\"hovermode\":\"closest\",\"title\":{\"text\":\"Sqrt Error\"},\"showlegend\":true};\n",
       " var config_RAMvAzw4XT = {\"responsive\":true,\"scrollZoom\":true,\"displaylogo\":false};\n",
       " Plotly.newPlot(\"graph_RAMvAzw4XT\", traces_RAMvAzw4XT, layout_RAMvAzw4XT, config_RAMvAzw4XT);\n",
       "\n",
       "var save_yYm28y28uD = document.getElementById(\"saveAsPNG_yYm28y28uD\")\n",
       "save_yYm28y28uD.onclick = function() {\n",
       "    const grid = document.getElementById(\"grid-container_yYm28y28uD\")\n",
       "    const graphs = grid.getElementsByClassName(\"graph\")\n",
       "\n",
       "    const promises = []\n",
       "\n",
       "    const rows = 2\n",
       "    const cols = 2\n",
       "    const img_width = 400\n",
       "    const img_height = 400\n",
       "    var margin = 50\n",
       "\n",
       "    for (var i=0; i<graphs.length; i++) {\n",
       "        const promise = Plotly.toImage(graphs[i], {format: 'png', width: img_width, height: img_height})\n",
       "        promises.push(new Promise((resolve) => {\n",
       "            resolve(promise);\n",
       "        }));\n",
       "    }\n",
       "\n",
       "    Promise.all(promises).then((images) => {\n",
       "        const positioned_images = []\n",
       "\n",
       "        for (var i=0; i<rows; i++) {\n",
       "            for (var j=0; j<cols; j++) {\n",
       "\n",
       "                const obj = {\n",
       "                    \"src\": images[i*cols + j],\n",
       "                    x: i*img_width+margin,\n",
       "                    y: j*img_height+margin\n",
       "                }\n",
       "\n",
       "                positioned_images.push(obj)\n",
       "            }\n",
       "        }\n",
       "\n",
       "        mergeImages(positioned_images, {\n",
       "            width: img_width*cols+60, height: img_height*rows+60\n",
       "        })\n",
       "        .then(b64 => {\n",
       "            var a = document.createElement(\"a\");\n",
       "            a.href = b64;\n",
       "            a.download = \"Image.png\";\n",
       "            a.click();\n",
       "            a.remove()\n",
       "        });\n",
       "    });\n",
       "}\n",
       "</script> \n"
      ]
     },
     "metadata": {},
     "output_type": "display_data"
    }
   ],
   "source": [
    "val dim = 400\n",
    "\n",
    "val series1 = (\n",
    "    XY(List(1, 2, 3), List(1.234, 5.2112, 2.44332))\n",
    "    asType SCATTER\n",
    "    drawStyle MARKERS\n",
    "    // User specifies the error per point \n",
    "    setErrorBars YError(mode = DATA, array = List(0.5, 0.5, 0.5))\n",
    ")\n",
    "\n",
    "val chart1 = (\n",
    "    Chart()\n",
    "    addSeries series1.setName(\"Error from provided data\")\n",
    "    setTitle \"Per Point Specified Error\"\n",
    "    setDimensions(width = dim, height = dim)\n",
    ")\n",
    "\n",
    "\n",
    "val series2 = (\n",
    "    XY(List(1, 2, 3), List(1.234, 5.2112, 2.44332))\n",
    "    asType SCATTER\n",
    "    drawStyle MARKERS\n",
    "    // the error here is 10% of the corresponding y-value for the point\n",
    "    setErrorBars YError(mode = PERCENT, value = 10.0)\n",
    ")\n",
    "\n",
    "val chart2 = (\n",
    "    Chart()\n",
    "    addSeries series2.setName(\"% error\")\n",
    "    setTitle \"Percentage Error\"\n",
    "    setDimensions(width = dim, height = dim)\n",
    "    \n",
    ")\n",
    "\n",
    "\n",
    "val series3 = (\n",
    "    XY(List(1, 2, 3), List(1.234, 5.2112, 2.44332))\n",
    "    asType SCATTER\n",
    "    drawStyle MARKERS\n",
    "    // a constant error of 10 is applied to each point\n",
    "    setErrorBars YError(mode = CONSTANT, value = 10.0)\n",
    "    setName(\"Constant value\")\n",
    ")\n",
    "\n",
    "val chart3 = (\n",
    "    Chart()\n",
    "    addSeries series3.setName(\"constant error\")\n",
    "    setTitle \"Constant Error\"\n",
    "    setDimensions(width = dim, height = dim)\n",
    ")\n",
    "\n",
    "\n",
    "val series4 = (\n",
    "    XY(List(1, 2, 3), List(1.234, 5.2112, 2.44332))\n",
    "    asType SCATTER\n",
    "    drawStyle MARKERS\n",
    "    setErrorBars YError(mode = SQRT)\n",
    "    setName(\"Sqrt\")\n",
    ")\n",
    "\n",
    "val chart4 = (\n",
    "    Chart()\n",
    "    addSeries series4.setName(\"Sqrt\")\n",
    "    setTitle \"Sqrt Error\"\n",
    "    // the error is set to the sqrt of the corresponding point\n",
    "    setDimensions(width = dim, height = dim)\n",
    ")\n",
    "\n",
    "val canvas = Canvas(2, 2) addCharts (chart1, chart2, chart3, chart4)\n",
    "\n",
    "canvas.plotInline"
   ]
  },
  {
   "cell_type": "markdown",
   "metadata": {},
   "source": [
    "### Other Types of Charts\n",
    "\n",
    "The next examples will demonstrate how to create a variety of `Chart`s. All of the examples below are composable with the `Canvas` subplot system.\n",
    "\n",
    "#### Pie Chart\n",
    "\n",
    "Pie charts can be created in two ways. The first way uses the `PieElement` component to compose a Piechart:"
   ]
  },
  {
   "cell_type": "code",
   "execution_count": 24,
   "metadata": {},
   "outputs": [
    {
     "data": {
      "text/html": [
       "<div id=\"grid-container_sIhJUMvFo5\" class=\"grid-container\" align=\"center\"> \n",
       "<div id=\"grid_sIhJUMvFo5\" class=\"grid\" align=\"center\"> \n",
       "<div id=\"graph_pUGFJ99qhT\" class=\"graph\"></div> \n",
       "</div> \n",
       "</div> \n",
       "<script>\n",
       "var masonry = new Macy({\n",
       "    container: '#grid_sIhJUMvFo5',\n",
       "    debug: true,\n",
       "    mobileFirst: true,\n",
       "    columns: 1,\n",
       "    margin: {\n",
       "        x: 0,\n",
       "        y: 0\n",
       "    }\n",
       "  });\n",
       "\n",
       " var traces_pUGFJ99qhT = [{\"name\":\"GwxPQisoQm\",\"type\":\"pie\",\"values\":[60,20,20],\"labels\":[\"Residential\",\"Non-Residential\",\"Utility\"]}];\n",
       " var layout_pUGFJ99qhT = {\"height\":550,\"width\":600,\"hovermode\":\"closest\",\"title\":{\"text\":\"Pie Elements\"},\"showlegend\":true};\n",
       " var config_pUGFJ99qhT = {\"responsive\":true,\"scrollZoom\":true,\"displaylogo\":false};\n",
       " Plotly.newPlot(\"graph_pUGFJ99qhT\", traces_pUGFJ99qhT, layout_pUGFJ99qhT, config_pUGFJ99qhT);\n",
       "</script> \n"
      ]
     },
     "metadata": {},
     "output_type": "display_data"
    }
   ],
   "source": [
    "val a = PieElement(value=60, name=\"Residential\")\n",
    "val b = PieElement(value=20, name=\"Non-Residential\")\n",
    "val c = PieElement(value=20, name=\"Utility\")\n",
    "\n",
    "// we add a list of Pie Elements to an XY series as the list of Pie Elements gets deconstructed down into two series:\n",
    "// X => values: [60, 20, 20]\n",
    "// Y => labels: [\"Residential\", \"Non-Residential\", \"Utility\"]\n",
    "// The labels become the series_name for each individual PieElement\n",
    "// As we pass in a list of PieElements, we do not need to specify the type as a PIE\n",
    "val series = XY(x=List(a, b, c))\n",
    "\n",
    "val chart = Chart() addSeries series setTitle \"Pie Elements\"\n",
    "\n",
    "chart.plotInline"
   ]
  },
  {
   "cell_type": "code",
   "execution_count": 25,
   "metadata": {},
   "outputs": [
    {
     "data": {
      "text/html": [
       "<div id=\"grid-container_GgFj32NBdL\" class=\"grid-container\" align=\"center\"> \n",
       "<div id=\"grid_GgFj32NBdL\" class=\"grid\" align=\"center\"> \n",
       "<div id=\"graph_WhTq8I3iY2\" class=\"graph\"></div> \n",
       "</div> \n",
       "</div> \n",
       "<script>\n",
       "var masonry = new Macy({\n",
       "    container: '#grid_GgFj32NBdL',\n",
       "    debug: true,\n",
       "    mobileFirst: true,\n",
       "    columns: 1,\n",
       "    margin: {\n",
       "        x: 0,\n",
       "        y: 0\n",
       "    }\n",
       "  });\n",
       "\n",
       " var traces_WhTq8I3iY2 = [{\"name\":\"9fx7eLu2F5\",\"type\":\"pie\",\"values\":[60,20,20],\"labels\":[\"Residential\",\"Non-Residential\",\"Utility\"]}];\n",
       " var layout_WhTq8I3iY2 = {\"height\":550,\"width\":600,\"hovermode\":\"closest\",\"title\":{\"text\":\"Pie Chart\"},\"showlegend\":true};\n",
       " var config_WhTq8I3iY2 = {\"responsive\":false,\"scrollZoom\":false,\"displaylogo\":false};\n",
       " Plotly.newPlot(\"graph_WhTq8I3iY2\", traces_WhTq8I3iY2, layout_WhTq8I3iY2, config_WhTq8I3iY2);\n",
       "</script> \n"
      ]
     },
     "metadata": {},
     "output_type": "display_data"
    }
   ],
   "source": [
    "// However, composing individual PieElements may be tedious if there is a lot of data and we know how to it all fits\n",
    "// together. Picta provides a short hand to quickly create a Pie Chart using the methods we have seen previously\n",
    "// In this case we pass the (value, name) pairs as two seperate lists. As before, the labels become an individual\n",
    "// series name for each point; which is why the legend renders correctly.\n",
    "val series = XY(x=List(60, 20, 20), y=List(\"Residential\", \"Non-Residential\", \"Utility\")) asType PIE\n",
    "\n",
    "val chart = Chart() addSeries series setConfig(false, false) setTitle \"Pie Chart\"\n",
    "\n",
    "chart.plotInline"
   ]
  },
  {
   "cell_type": "markdown",
   "metadata": {},
   "source": [
    "### Histogram"
   ]
  },
  {
   "cell_type": "code",
   "execution_count": 26,
   "metadata": {},
   "outputs": [
    {
     "data": {
      "text/html": [
       "<div id=\"grid-container_nfAZpeqQbu\" class=\"grid-container\" align=\"center\"> \n",
       "<div id=\"grid_nfAZpeqQbu\" class=\"grid\" align=\"center\"> \n",
       "<div id=\"graph_h5DAtgEoXM\" class=\"graph\"></div> \n",
       "</div> \n",
       "</div> \n",
       "<script>\n",
       "var masonry = new Macy({\n",
       "    container: '#grid_nfAZpeqQbu',\n",
       "    debug: true,\n",
       "    mobileFirst: true,\n",
       "    columns: 1,\n",
       "    margin: {\n",
       "        x: 0,\n",
       "        y: 0\n",
       "    }\n",
       "  });\n",
       "\n",
       " var traces_h5DAtgEoXM = [{\"name\":\"9CB5i91XLF\",\"type\":\"histogram\",\"x\":[0,0.1446910906965687,0.1420399121903586,2.887824600029368,0.48924477411706135,1.8567288108109774,3.2104610167115895,3.2953787180770586,6.932982452831996,1.4484523995488223,1.3202730536089757,10.935962627180592,8.149735085025153,8.072841484390398,6.069228650530763,7.62132188013768,8.733223424909747,6.856396627174211,2.5192692989464884,7.182372024324654,5.841071091750787,9.237810646693292,0.27635702002587403,14.450596771039091,2.993959561830745,2.0705473004067443,22.95546147273258,24.88738763712871,17.60021627568572,12.69294951173241,29.948801906537778,11.731456119653599,8.136630469477211,4.796451386537929,12.656661552424424,1.030544973771745,2.7453983686845613,36.6002188778214,4.81957445468435,20.595526562770203,29.69947624878854,19.819029670849176,1.5584715645639544,31.01265283395231,3.994290223136161,1.4405303086318089,28.435403635199712,38.623136001041004,41.492696080044404,16.658070012998405,6.541837998303729,11.078488284537913,16.832298187217994,26.68616537512066,44.55408281534485,21.955002039000956,17.94976494498494,34.86731673621798,34.11634887912534,6.21159220922811,34.83554397043217,45.71127684847047,57.071105944371986,33.251736375237506,33.254478548113305,0.5411257275032888,54.20384976856672,24.252609103810393,61.903137000205284,33.50444073676745,51.555171588675,38.50264800806852,8.073349133152512,20.09265216711381,14.226984232831054,55.99265900033338,28.603319924241084,11.247216710909617,9.222147978496332,10.685296233601944,75.97290095479191,75.8675316589798,12.457230806713204,27.99318976643307,26.08807979651042,59.32269250309183,34.92709049580071,34.27725852445037,78.85149392059871,23.657016226511377,25.327050601137046,20.88378146557408,9.280821496900298,23.817963564871786,85.50390279078246,21.621589165814196,15.96523838638829,42.67454634509291,71.16069918525605,65.88936974030038]}];\n",
       " var layout_h5DAtgEoXM = {\"height\":550,\"width\":600,\"hovermode\":\"closest\",\"title\":{\"text\":\"Histogram with axes\"},\"showlegend\":true,\"xaxis\":{\"title\":{\"text\":\"my x data\"},\"showgrid\":true,\"zeroline\":false,\"showline\":false},\"yaxis\":{\"title\":{\"text\":\"my y data\"},\"showgrid\":true,\"zeroline\":false,\"showline\":false}};\n",
       " var config_h5DAtgEoXM = {\"responsive\":true,\"scrollZoom\":true,\"displaylogo\":false};\n",
       " Plotly.newPlot(\"graph_h5DAtgEoXM\", traces_h5DAtgEoXM, layout_h5DAtgEoXM, config_h5DAtgEoXM);\n",
       "</script> \n"
      ]
     },
     "metadata": {},
     "output_type": "display_data"
    }
   ],
   "source": [
    "val series = XY(x=x) asType HISTOGRAM\n",
    "\n",
    "val xaxis = XAxis(title = \"my x data\")\n",
    "val yaxis = YAxis(title = \"my y data\")\n",
    "\n",
    "val chart = (\n",
    "    Chart() \n",
    "    addSeries series\n",
    "    setTitle \"Histogram with axes\"\n",
    "    addAxes(xaxis, yaxis)\n",
    ")\n",
    "\n",
    "Canvas()\n",
    ".addCharts(chart)\n",
    ".plotInline"
   ]
  },
  {
   "cell_type": "markdown",
   "metadata": {},
   "source": [
    "#### Customizing colors for a Histogram\n",
    "\n",
    "We can use the `HistOptions` class to further specify options for a histogram. For example, if we wanted to create a horizontally positioned histogram, we can do the following:"
   ]
  },
  {
   "cell_type": "code",
   "execution_count": 27,
   "metadata": {},
   "outputs": [],
   "source": [
    "import org.carbonateresearch.picta.options.histogram.HistOptions\n",
    "import org.carbonateresearch.picta.options.Line"
   ]
  },
  {
   "cell_type": "code",
   "execution_count": 28,
   "metadata": {},
   "outputs": [
    {
     "data": {
      "text/html": [
       "<div id=\"grid-container_9HLWRlm96t\" class=\"grid-container\" align=\"center\"> \n",
       "<div id=\"grid_9HLWRlm96t\" class=\"grid\" align=\"center\"> \n",
       "<div id=\"graph_1LkxFhMIJN\" class=\"graph\"></div> \n",
       "</div> \n",
       "</div> \n",
       "<script>\n",
       "var masonry = new Macy({\n",
       "    container: '#grid_9HLWRlm96t',\n",
       "    debug: true,\n",
       "    mobileFirst: true,\n",
       "    columns: 1,\n",
       "    margin: {\n",
       "        x: 0,\n",
       "        y: 0\n",
       "    }\n",
       "  });\n",
       "\n",
       " var traces_1LkxFhMIJN = [{\"name\":\"xg3r3dCHIk\",\"type\":\"histogram\",\"marker\":{\"color\":\"rgba(255, 100, 102, 0.5)\",\"line\":{\"width\":0.5}},\"y\":[0,0.1446910906965687,0.1420399121903586,2.887824600029368,0.48924477411706135,1.8567288108109774,3.2104610167115895,3.2953787180770586,6.932982452831996,1.4484523995488223,1.3202730536089757,10.935962627180592,8.149735085025153,8.072841484390398,6.069228650530763,7.62132188013768,8.733223424909747,6.856396627174211,2.5192692989464884,7.182372024324654,5.841071091750787,9.237810646693292,0.27635702002587403,14.450596771039091,2.993959561830745,2.0705473004067443,22.95546147273258,24.88738763712871,17.60021627568572,12.69294951173241,29.948801906537778,11.731456119653599,8.136630469477211,4.796451386537929,12.656661552424424,1.030544973771745,2.7453983686845613,36.6002188778214,4.81957445468435,20.595526562770203,29.69947624878854,19.819029670849176,1.5584715645639544,31.01265283395231,3.994290223136161,1.4405303086318089,28.435403635199712,38.623136001041004,41.492696080044404,16.658070012998405,6.541837998303729,11.078488284537913,16.832298187217994,26.68616537512066,44.55408281534485,21.955002039000956,17.94976494498494,34.86731673621798,34.11634887912534,6.21159220922811,34.83554397043217,45.71127684847047,57.071105944371986,33.251736375237506,33.254478548113305,0.5411257275032888,54.20384976856672,24.252609103810393,61.903137000205284,33.50444073676745,51.555171588675,38.50264800806852,8.073349133152512,20.09265216711381,14.226984232831054,55.99265900033338,28.603319924241084,11.247216710909617,9.222147978496332,10.685296233601944,75.97290095479191,75.8675316589798,12.457230806713204,27.99318976643307,26.08807979651042,59.32269250309183,34.92709049580071,34.27725852445037,78.85149392059871,23.657016226511377,25.327050601137046,20.88378146557408,9.280821496900298,23.817963564871786,85.50390279078246,21.621589165814196,15.96523838638829,42.67454634509291,71.16069918525605,65.88936974030038]}];\n",
       " var layout_1LkxFhMIJN = {\"height\":550,\"width\":600,\"hovermode\":\"closest\",\"title\":{\"text\":\"XY.Histogram.Color\"},\"showlegend\":true};\n",
       " var config_1LkxFhMIJN = {\"responsive\":true,\"scrollZoom\":true,\"displaylogo\":false};\n",
       " Plotly.newPlot(\"graph_1LkxFhMIJN\", traces_1LkxFhMIJN, layout_1LkxFhMIJN, config_1LkxFhMIJN);\n",
       "</script> \n"
      ]
     },
     "metadata": {},
     "output_type": "display_data"
    }
   ],
   "source": [
    "// we can also compose customizations in much the same way:\n",
    "val marker = Marker() setColor \"rgba(255, 100, 102, 0.5)\" setLine Line()\n",
    "\n",
    "// change xkey to y to get a horizontal histogram\n",
    "val series = (\n",
    "    XY(x) \n",
    "    asType HISTOGRAM\n",
    "    setMarker marker\n",
    "    // we can set histogram specific options using the setHistOptions method\n",
    "    setHistOptions(orientation = HORIZONTAL)\n",
    ")\n",
    "\n",
    "val chart = (\n",
    "    Chart() \n",
    "    addSeries series \n",
    "    setTitle \"XY.Histogram.Color\"\n",
    ")\n",
    "\n",
    "chart.plotInline"
   ]
  },
  {
   "cell_type": "markdown",
   "metadata": {},
   "source": [
    "#### Cumulative Histogram\n",
    "\n",
    "Sometimes a cumulative histogram may be desired. We can do this as follows:"
   ]
  },
  {
   "cell_type": "code",
   "execution_count": 29,
   "metadata": {},
   "outputs": [],
   "source": [
    "// we can import a range of histnorms\n",
    "import org.carbonateresearch.picta.options.histogram.{Cumulative, PERCENT, DENSITY, PROBABILITY_DENSITY, NUMBER}"
   ]
  },
  {
   "cell_type": "code",
   "execution_count": 30,
   "metadata": {},
   "outputs": [
    {
     "data": {
      "text/html": [
       "<div id=\"grid-container_mkpeDbBDOk\" class=\"grid-container\" align=\"center\"> \n",
       "<div id=\"grid_mkpeDbBDOk\" class=\"grid\" align=\"center\"> \n",
       "<div id=\"graph_wTMcTZfqhw\" class=\"graph\"></div> \n",
       "</div> \n",
       "</div> \n",
       "<script>\n",
       "var masonry = new Macy({\n",
       "    container: '#grid_mkpeDbBDOk',\n",
       "    debug: true,\n",
       "    mobileFirst: true,\n",
       "    columns: 1,\n",
       "    margin: {\n",
       "        x: 0,\n",
       "        y: 0\n",
       "    }\n",
       "  });\n",
       "\n",
       " var traces_wTMcTZfqhw = [{\"name\":\"oEnC18mpPW\",\"type\":\"histogram\",\"cumulative\":{\"enabled\":true},\"histnorm\":\"\",\"x\":[0,0.1446910906965687,0.1420399121903586,2.887824600029368,0.48924477411706135,1.8567288108109774,3.2104610167115895,3.2953787180770586,6.932982452831996,1.4484523995488223,1.3202730536089757,10.935962627180592,8.149735085025153,8.072841484390398,6.069228650530763,7.62132188013768,8.733223424909747,6.856396627174211,2.5192692989464884,7.182372024324654,5.841071091750787,9.237810646693292,0.27635702002587403,14.450596771039091,2.993959561830745,2.0705473004067443,22.95546147273258,24.88738763712871,17.60021627568572,12.69294951173241,29.948801906537778,11.731456119653599,8.136630469477211,4.796451386537929,12.656661552424424,1.030544973771745,2.7453983686845613,36.6002188778214,4.81957445468435,20.595526562770203,29.69947624878854,19.819029670849176,1.5584715645639544,31.01265283395231,3.994290223136161,1.4405303086318089,28.435403635199712,38.623136001041004,41.492696080044404,16.658070012998405,6.541837998303729,11.078488284537913,16.832298187217994,26.68616537512066,44.55408281534485,21.955002039000956,17.94976494498494,34.86731673621798,34.11634887912534,6.21159220922811,34.83554397043217,45.71127684847047,57.071105944371986,33.251736375237506,33.254478548113305,0.5411257275032888,54.20384976856672,24.252609103810393,61.903137000205284,33.50444073676745,51.555171588675,38.50264800806852,8.073349133152512,20.09265216711381,14.226984232831054,55.99265900033338,28.603319924241084,11.247216710909617,9.222147978496332,10.685296233601944,75.97290095479191,75.8675316589798,12.457230806713204,27.99318976643307,26.08807979651042,59.32269250309183,34.92709049580071,34.27725852445037,78.85149392059871,23.657016226511377,25.327050601137046,20.88378146557408,9.280821496900298,23.817963564871786,85.50390279078246,21.621589165814196,15.96523838638829,42.67454634509291,71.16069918525605,65.88936974030038]}];\n",
       " var layout_wTMcTZfqhw = {\"height\":550,\"width\":600,\"hovermode\":\"closest\",\"title\":{\"text\":\"Histogram - Cumulative\"},\"showlegend\":true};\n",
       " var config_wTMcTZfqhw = {\"responsive\":true,\"scrollZoom\":true,\"displaylogo\":false};\n",
       " Plotly.newPlot(\"graph_wTMcTZfqhw\", traces_wTMcTZfqhw, layout_wTMcTZfqhw, config_wTMcTZfqhw);\n",
       "</script> \n"
      ]
     },
     "metadata": {},
     "output_type": "display_data"
    }
   ],
   "source": [
    "val series = XY(x) asType HISTOGRAM setHistOptions(histnorm = NUMBER, cumulative = Cumulative(enabled=true))\n",
    "\n",
    "val chart = Chart() addSeries series setTitle \"Histogram - Cumulative\"\n",
    "\n",
    "chart.plotInline"
   ]
  },
  {
   "cell_type": "markdown",
   "metadata": {},
   "source": [
    "#### Specifiying the Binning Function\n",
    "\n",
    "We can also specify the binning function for a histogram."
   ]
  },
  {
   "cell_type": "code",
   "execution_count": 31,
   "metadata": {},
   "outputs": [],
   "source": [
    "import org.carbonateresearch.picta.options.histogram.{COUNT, SUM, AVG, MIN, MAX, HistOptions}"
   ]
  },
  {
   "cell_type": "code",
   "execution_count": 32,
   "metadata": {},
   "outputs": [
    {
     "data": {
      "text/html": [
       "<div id=\"grid-container_kmZ8voCE86\" class=\"grid-container\" align=\"center\"> \n",
       "<div id=\"grid_kmZ8voCE86\" class=\"grid\" align=\"center\"> \n",
       "<div id=\"graph_NOftXNtmuW\" class=\"graph\"></div> \n",
       "</div> \n",
       "</div> \n",
       "<script>\n",
       "var masonry = new Macy({\n",
       "    container: '#grid_kmZ8voCE86',\n",
       "    debug: true,\n",
       "    mobileFirst: true,\n",
       "    columns: 1,\n",
       "    margin: {\n",
       "        x: 0,\n",
       "        y: 0\n",
       "    }\n",
       "  });\n",
       "\n",
       " var traces_NOftXNtmuW = [{\"name\":\"UJH6JToM4w\",\"type\":\"histogram\",\"histfunc\":\"count\",\"x\":[\"Apples\",\"Apples\",\"Apples\",\"Oranges\",\"Bananas\"],\"y\":[\"5\",\"10\",\"3\",\"10\",\"5\"]},{\"name\":\"zgbTjDH4Si\",\"type\":\"histogram\",\"histfunc\":\"sum\",\"x\":[\"Apples\",\"Apples\",\"Apples\",\"Oranges\",\"Bananas\"],\"y\":[\"5\",\"10\",\"3\",\"10\",\"5\"]}];\n",
       " var layout_NOftXNtmuW = {\"height\":550,\"width\":600,\"hovermode\":\"closest\",\"title\":{\"text\":\"Histogram - Specify Binning Function\"},\"showlegend\":true};\n",
       " var config_NOftXNtmuW = {\"responsive\":true,\"scrollZoom\":true,\"displaylogo\":false};\n",
       " Plotly.newPlot(\"graph_NOftXNtmuW\", traces_NOftXNtmuW, layout_NOftXNtmuW, config_NOftXNtmuW);\n",
       "</script> \n"
      ]
     },
     "metadata": {},
     "output_type": "display_data"
    }
   ],
   "source": [
    "val x = List(\"Apples\", \"Apples\", \"Apples\", \"Oranges\", \"Bananas\")\n",
    "val y = List(\"5\", \"10\", \"3\", \"10\", \"5\")\n",
    "\n",
    "// we can also assign histOptions to a value and pass them to the setHistOptions method\n",
    "val ho1 = HistOptions(histfunc = COUNT)\n",
    "val ho2 = HistOptions(histfunc = SUM)\n",
    "    \n",
    "val t1 = XY(x = x, y = y) asType HISTOGRAM setHistOptions ho1\n",
    "val t2 = XY(x = x, y = y) asType HISTOGRAM setHistOptions ho2\n",
    "\n",
    "val chart = Chart() addSeries(t1, t2) setTitle \"Histogram - Specify Binning Function\"\n",
    "val canvas = Canvas() addCharts chart\n",
    "canvas.plotInline"
   ]
  },
  {
   "cell_type": "markdown",
   "metadata": {},
   "source": [
    "### 2D Histogram Contour"
   ]
  },
  {
   "cell_type": "code",
   "execution_count": 33,
   "metadata": {},
   "outputs": [
    {
     "data": {
      "text/html": [
       "<div id=\"grid-container_lW6AFvxdax\" class=\"grid-container\" align=\"center\"> \n",
       "<div id=\"grid_lW6AFvxdax\" class=\"grid\" align=\"center\"> \n",
       "<div id=\"graph_cldQUseYg3\" class=\"graph\"></div> \n",
       "</div> \n",
       "</div> \n",
       "<script>\n",
       "var masonry = new Macy({\n",
       "    container: '#grid_lW6AFvxdax',\n",
       "    debug: true,\n",
       "    mobileFirst: true,\n",
       "    columns: 1,\n",
       "    margin: {\n",
       "        x: 0,\n",
       "        y: 0\n",
       "    }\n",
       "  });\n",
       "\n",
       " var traces_cldQUseYg3 = [{\"name\":\"3HR4xl7k1P\",\"type\":\"histogram2dcontour\",\"mode\":\"markers\",\"x\":[1,2,3,4,5,6,7,8,9,10,11,12,13,14,15,16,17,18,19,20,21,22,23,24,25,26,27,28,29,30,31,32,33,34,35,36,37,38,39,40,41,42,43,44,45,46,47,48,49],\"y\":[67.74166031697422,32.45527212722673,53.20347905085691,53.63794270204615,17.81241093461797,6.814959581741936,99.20120299536649,44.547514568934304,29.033932641442487,32.91071952226673,73.09255915060547,80.38157741832225,33.15386141693733,59.992146427092884,97.45478497765404,91.48229949704974,37.010618173161,43.1022837353801,65.45941285051063,102.73175302881852,74.22723675862375,100.90017719506764,81.72421337252149,97.7265657139412,74.38538077141959,58.170179309085064,93.37022968464433,79.53659085559596,128.6498932661711,128.96589142516177,112.37340365756836,131.50526249210412,66.45870604084386,89.01239713317119,111.25724973107395,132.03755117527402,109.16256684915723,119.29121562225546,120.75520687407301,118.43470583104083,133.3934600138327,76.65820885970551,70.27812446316221,126.57330962454671,59.46022617860907,61.89543588879469,89.85459314698141,55.589366429797785,78.21433843227004]}];\n",
       " var layout_cldQUseYg3 = {\"height\":550,\"width\":600,\"hovermode\":\"closest\",\"title\":{\"text\":\"2D Histogram Contour\"},\"showlegend\":true};\n",
       " var config_cldQUseYg3 = {\"responsive\":true,\"scrollZoom\":true,\"displaylogo\":false};\n",
       " Plotly.newPlot(\"graph_cldQUseYg3\", traces_cldQUseYg3, layout_cldQUseYg3, config_cldQUseYg3);\n",
       "</script> \n"
      ]
     },
     "metadata": {},
     "output_type": "display_data"
    }
   ],
   "source": [
    "val x = List.range(1, 50)\n",
    "val y = x.map(x => x + scala.util.Random.nextDouble()*100)\n",
    "\n",
    "val series = XY(x, y).asType(HISTOGRAM2DCONTOUR).drawMarkers\n",
    "\n",
    "val chart = (\n",
    "    Chart() addSeries series\n",
    "    setTitle \"2D Histogram Contour\"\n",
    ")\n",
    "\n",
    "chart.plotInline"
   ]
  },
  {
   "cell_type": "markdown",
   "metadata": {},
   "source": [
    "#### Adding additional axes\n",
    "\n",
    "As the above is a density plot, adding histograms can be useful too.\n",
    "\n",
    "We can add histograms as follows:"
   ]
  },
  {
   "cell_type": "code",
   "execution_count": 34,
   "metadata": {},
   "outputs": [],
   "source": [
    "// import the 2d Density histogram options\n",
    "import org.carbonateresearch.picta.options.histogram2d.Hist2dOptions"
   ]
  },
  {
   "cell_type": "code",
   "execution_count": 35,
   "metadata": {},
   "outputs": [
    {
     "data": {
      "text/html": [
       "<div id=\"grid-container_Zq5702vxIV\" class=\"grid-container\" align=\"center\"> \n",
       "<div id=\"grid_Zq5702vxIV\" class=\"grid\" align=\"center\"> \n",
       "<div id=\"graph_ORXKSGh2bd\" class=\"graph\"></div> \n",
       "</div> \n",
       "</div> \n",
       "<script>\n",
       "var masonry = new Macy({\n",
       "    container: '#grid_Zq5702vxIV',\n",
       "    debug: true,\n",
       "    mobileFirst: true,\n",
       "    columns: 1,\n",
       "    margin: {\n",
       "        x: 0,\n",
       "        y: 0\n",
       "    }\n",
       "  });\n",
       "\n",
       " var traces_ORXKSGh2bd = [{\"name\":\"points\",\"type\":\"scatter\",\"mode\":\"markers\",\"marker\":{\"color\":\"rgb(102,0,0)\"},\"x\":[1,2,3,4,5,6,7,8,9,10,11,12,13,14,15,16,17,18,19,20,21,22,23,24,25,26,27,28,29,30,31,32,33,34,35,36,37,38,39,40,41,42,43,44,45,46,47,48,49],\"y\":[67.74166031697422,32.45527212722673,53.20347905085691,53.63794270204615,17.81241093461797,6.814959581741936,99.20120299536649,44.547514568934304,29.033932641442487,32.91071952226673,73.09255915060547,80.38157741832225,33.15386141693733,59.992146427092884,97.45478497765404,91.48229949704974,37.010618173161,43.1022837353801,65.45941285051063,102.73175302881852,74.22723675862375,100.90017719506764,81.72421337252149,97.7265657139412,74.38538077141959,58.170179309085064,93.37022968464433,79.53659085559596,128.6498932661711,128.96589142516177,112.37340365756836,131.50526249210412,66.45870604084386,89.01239713317119,111.25724973107395,132.03755117527402,109.16256684915723,119.29121562225546,120.75520687407301,118.43470583104083,133.3934600138327,76.65820885970551,70.27812446316221,126.57330962454671,59.46022617860907,61.89543588879469,89.85459314698141,55.589366429797785,78.21433843227004]},{\"name\":\"density\",\"type\":\"histogram2dcontour\",\"ncontours\":20,\"reversescale\":false,\"showscale\":true,\"x\":[1,2,3,4,5,6,7,8,9,10,11,12,13,14,15,16,17,18,19,20,21,22,23,24,25,26,27,28,29,30,31,32,33,34,35,36,37,38,39,40,41,42,43,44,45,46,47,48,49],\"y\":[67.74166031697422,32.45527212722673,53.20347905085691,53.63794270204615,17.81241093461797,6.814959581741936,99.20120299536649,44.547514568934304,29.033932641442487,32.91071952226673,73.09255915060547,80.38157741832225,33.15386141693733,59.992146427092884,97.45478497765404,91.48229949704974,37.010618173161,43.1022837353801,65.45941285051063,102.73175302881852,74.22723675862375,100.90017719506764,81.72421337252149,97.7265657139412,74.38538077141959,58.170179309085064,93.37022968464433,79.53659085559596,128.6498932661711,128.96589142516177,112.37340365756836,131.50526249210412,66.45870604084386,89.01239713317119,111.25724973107395,132.03755117527402,109.16256684915723,119.29121562225546,120.75520687407301,118.43470583104083,133.3934600138327,76.65820885970551,70.27812446316221,126.57330962454671,59.46022617860907,61.89543588879469,89.85459314698141,55.589366429797785,78.21433843227004]},{\"name\":\"histogram\",\"type\":\"histogram\",\"yaxis\":\"y2\",\"x\":[1,2,3,4,5,6,7,8,9,10,11,12,13,14,15,16,17,18,19,20,21,22,23,24,25,26,27,28,29,30,31,32,33,34,35,36,37,38,39,40,41,42,43,44,45,46,47,48,49]},{\"name\":\"y density\",\"type\":\"histogram\",\"xaxis\":\"x2\",\"marker\":{\"color\":\"rgb(102,0,0)\"},\"y\":[67.74166031697422,32.45527212722673,53.20347905085691,53.63794270204615,17.81241093461797,6.814959581741936,99.20120299536649,44.547514568934304,29.033932641442487,32.91071952226673,73.09255915060547,80.38157741832225,33.15386141693733,59.992146427092884,97.45478497765404,91.48229949704974,37.010618173161,43.1022837353801,65.45941285051063,102.73175302881852,74.22723675862375,100.90017719506764,81.72421337252149,97.7265657139412,74.38538077141959,58.170179309085064,93.37022968464433,79.53659085559596,128.6498932661711,128.96589142516177,112.37340365756836,131.50526249210412,66.45870604084386,89.01239713317119,111.25724973107395,132.03755117527402,109.16256684915723,119.29121562225546,120.75520687407301,118.43470583104083,133.3934600138327,76.65820885970551,70.27812446316221,126.57330962454671,59.46022617860907,61.89543588879469,89.85459314698141,55.589366429797785,78.21433843227004]}];\n",
       " var layout_ORXKSGh2bd = {\"height\":550,\"width\":600,\"hovermode\":\"closest\",\"title\":{\"text\":\"Histogram2dContour With Density\"},\"showlegend\":false,\"autosize\":false,\"xaxis\":{\"title\":{\"text\":\"x axis 4\"},\"showgrid\":true,\"zeroline\":false,\"showline\":false}};\n",
       " var config_ORXKSGh2bd = {\"responsive\":true,\"scrollZoom\":true,\"displaylogo\":false};\n",
       " Plotly.newPlot(\"graph_ORXKSGh2bd\", traces_ORXKSGh2bd, layout_ORXKSGh2bd, config_ORXKSGh2bd);\n",
       "</script> \n"
      ]
     },
     "metadata": {},
     "output_type": "display_data"
    }
   ],
   "source": [
    "val marker = Marker() setColor \"rgb(102,0,0)\"\n",
    "\n",
    "\n",
    "val x1 = XAxis(showgrid = false) setDomain(0.0, 0.85)\n",
    "val y1 = YAxis(showgrid = false) setDomain(0.0, 0.85)\n",
    "val x2 = XAxis(position = 2, showgrid = false) setDomain(0.85, 1.0)\n",
    "val y2 = YAxis(position = 2, showgrid = false) setDomain(0.85, 1.0)\n",
    "\n",
    "\n",
    "val series1 = XY(x, y) \n",
    "            .asType(SCATTER)\n",
    "            .drawMarkers\n",
    "            .setName(\"points\")\n",
    "            .setMarker(marker)\n",
    "\n",
    "\n",
    "val hist2d_options = Hist2dOptions(ncontours = 20, reversescale = false, showscale = true)\n",
    "\n",
    "val series2 = XY(x, y) \n",
    "            .setName(\"density\")\n",
    "            .asType(HISTOGRAM2DCONTOUR)\n",
    "            .setHist2dOptions(hist2d_options)\n",
    "\n",
    "val series3 = XY(x = x)\n",
    "            .asType(HISTOGRAM)\n",
    "            .setName(\"histogram\")\n",
    "            .setAxes(x1, y2)\n",
    "\n",
    "val series4 = (XY(y)\n",
    "            .setName(\"y density\")\n",
    "            .asType(HISTOGRAM)\n",
    "            .setAxis(x2)\n",
    "            .setMarker(marker)\n",
    "            .setHistOptions(HistOptions(orientation = HORIZONTAL)))\n",
    "\n",
    "val layout = (\n",
    "    ChartLayout(\"Histogram2dContour With Density\", auto_size = false, show_legend = false) \n",
    "    setAxes(ax1, ax2, ax3, ax4)\n",
    ")\n",
    "\n",
    "val chart = Chart() addSeries(series1, series2, series3, series4) setChartLayout layout\n",
    "\n",
    "chart.plotInline"
   ]
  },
  {
   "cell_type": "markdown",
   "metadata": {},
   "source": [
    "### 3D Charts\n",
    "\n",
    "3D charts are constructed using a `XYZ` series as they take in 3 `Series`' to create a single point.\n",
    "\n",
    "The Picta API does not accept nested lists, however the underlying Plotlyjs render does. In order to render any series that will make use of a nested list, we must flatten and provide the length of an element (before the list was flattened).\n",
    "\n",
    "The following examples will make it clearer.\n",
    "\n",
    "#### Contour"
   ]
  },
  {
   "cell_type": "code",
   "execution_count": 36,
   "metadata": {},
   "outputs": [],
   "source": [
    "// lets create some dummy adata for the third dimension\n",
    "val x = List(-9, -6, -5 , -3, -1)\n",
    "val y = List(0, 1, 4, 5, 7)\n",
    "val z = List(\n",
    "    List(10, 10.625, 12.5, 15.625, 20),\n",
    "    List(5.625, 6.25, 8.125, 11.25, 15.625),\n",
    "    List(2.5, 3.125, 5.0, 8.125, 12.5),\n",
    "    List(0.625, 1.25, 3.125, 6.25, 10.625),\n",
    "    List(0, 0.625, 2.5, 5.625, 10)\n",
    ")"
   ]
  },
  {
   "cell_type": "code",
   "execution_count": 37,
   "metadata": {},
   "outputs": [
    {
     "data": {
      "text/html": [
       "<div id=\"grid-container_1qeGtKhfT0\" class=\"grid-container\" align=\"center\"> \n",
       "<div id=\"grid_1qeGtKhfT0\" class=\"grid\" align=\"center\"> \n",
       "<div id=\"graph_HKpBgWJ1TU\" class=\"graph\"></div> \n",
       "</div> \n",
       "</div> \n",
       "<script>\n",
       "var masonry = new Macy({\n",
       "    container: '#grid_1qeGtKhfT0',\n",
       "    debug: true,\n",
       "    mobileFirst: true,\n",
       "    columns: 1,\n",
       "    margin: {\n",
       "        x: 0,\n",
       "        y: 0\n",
       "    }\n",
       "  });\n",
       "\n",
       " var traces_HKpBgWJ1TU = [{\"name\":\"XmSg9fMenr\",\"type\":\"contour\",\"x\":[-9,-6,-5,-3,-1],\"y\":[0,1,4,5,7],\"z\":[[10,10.625,12.5,15.625,20],[5.625,6.25,8.125,11.25,15.625],[2.5,3.125,5,8.125,12.5],[0.625,1.25,3.125,6.25,10.625],[0,0.625,2.5,5.625,10]]}];\n",
       " var layout_HKpBgWJ1TU = {\"height\":550,\"width\":600,\"hovermode\":\"closest\",\"title\":{\"text\":\"Contour\"},\"showlegend\":true};\n",
       " var config_HKpBgWJ1TU = {\"responsive\":true,\"scrollZoom\":true,\"displaylogo\":false};\n",
       " Plotly.newPlot(\"graph_HKpBgWJ1TU\", traces_HKpBgWJ1TU, layout_HKpBgWJ1TU, config_HKpBgWJ1TU);\n",
       "</script> \n"
      ]
     },
     "metadata": {},
     "output_type": "display_data"
    }
   ],
   "source": [
    "// we flatten the nested list as we pass it into the Series constructor\n",
    "val series = XYZ(x=x, y=y, z=z.flatten, n=z(0).length).asType(CONTOUR)\n",
    "\n",
    "// set up the chart\n",
    "val chart = Chart()\n",
    "            .addSeries(series)\n",
    "            .setTitle(\"Contour\")\n",
    "\n",
    "// plot the chart\n",
    "chart.plotInline"
   ]
  },
  {
   "cell_type": "markdown",
   "metadata": {},
   "source": [
    "#### Heatmap"
   ]
  },
  {
   "cell_type": "code",
   "execution_count": 38,
   "metadata": {
    "scrolled": false
   },
   "outputs": [],
   "source": [
    "// create a new nested list for the heatmap\n",
    "val z = List.range(1, 101).map(e => e + scala.util.Random.nextDouble()*100).grouped(10).toList"
   ]
  },
  {
   "cell_type": "code",
   "execution_count": 39,
   "metadata": {},
   "outputs": [
    {
     "data": {
      "text/html": [
       "<div id=\"grid-container_MUZKWJyMK5\" class=\"grid-container\" align=\"center\"> \n",
       "<div id=\"grid_MUZKWJyMK5\" class=\"grid\" align=\"center\"> \n",
       "<div id=\"graph_kPcGyLxIma\" class=\"graph\"></div> \n",
       "</div> \n",
       "</div> \n",
       "<script>\n",
       "var masonry = new Macy({\n",
       "    container: '#grid_MUZKWJyMK5',\n",
       "    debug: true,\n",
       "    mobileFirst: true,\n",
       "    columns: 1,\n",
       "    margin: {\n",
       "        x: 0,\n",
       "        y: 0\n",
       "    }\n",
       "  });\n",
       "\n",
       " var traces_kPcGyLxIma = [{\"name\":\"f96gXhrGj5\",\"type\":\"heatmap\",\"z\":[[84.69333294191689,57.97552713240891,47.77256342640794,50.511334246151215,51.15266652287965,66.06304353883641,60.781109760343305,74.33172777296228,34.21017080905765,24.75820089022484],[60.48718381867193,53.81889881329924,83.17336808321474,76.92323395434539,108.15347837960685,44.62960103981048,92.52919845300755,34.01545182833436,40.99989047940486,90.65242939130157],[36.587766928719795,45.394938092559904,71.03700917346217,59.0468058938576,42.19570473831338,123.19536085175001,59.476893682401766,88.67742180401973,60.20336836055344,46.16175142138291],[38.19630579623539,33.40461464268541,128.1083617766089,48.37876601200231,64.27843607396477,59.5233364718231,38.66113807490754,96.95738731874087,48.834882997169956,100.10034717546063],[42.20673814487804,76.51760708555464,97.11047305488896,78.04126854925755,114.14999715789617,127.69914637711435,133.299227216234,84.42621383336886,113.16980875942812,131.95180686293537],[60.55064764715564,138.98473032091675,140.67137328211572,95.50152790223291,124.32118704277524,65.5377941118776,87.45357015981543,61.65787413158164,105.5266306947457,86.8166489752559],[119.68192002561537,72.52305999671688,68.87681970699757,80.275329006639,112.99588970100291,108.68228406781607,131.3249974582954,139.3456981497785,90.9425255472414,158.59955165184726],[95.73980673571705,153.04089789901167,161.91672795537283,108.21283070670586,115.70873156957512,150.89511926645875,77.4017650074043,95.61680226005315,118.80759846998419,159.93464065667698],[153.54183525572626,145.74102732179298,117.7215102691778,85.70712199356561,107.94188444061956,185.5759697361237,181.27836108795321,160.35313682352185,164.07805646548536,141.76868903374194],[120.75687604950099,97.28601910769305,166.81547419416083,139.30468555885648,170.75689998668793,154.253063086187,134.26839333600472,152.51185320110642,108.47042403949304,134.38319626803352]]}];\n",
       " var layout_kPcGyLxIma = {\"height\":550,\"width\":600,\"hovermode\":\"closest\",\"title\":{\"text\":\"Heatmap\"},\"showlegend\":true};\n",
       " var config_kPcGyLxIma = {\"responsive\":true,\"scrollZoom\":true,\"displaylogo\":false};\n",
       " Plotly.newPlot(\"graph_kPcGyLxIma\", traces_kPcGyLxIma, layout_kPcGyLxIma, config_kPcGyLxIma);\n",
       "</script> \n"
      ]
     },
     "metadata": {},
     "output_type": "display_data"
    }
   ],
   "source": [
    "// we get the length of an element of the nested list\n",
    "val n = z(0).length\n",
    "\n",
    "// we now flatten the list and pass it into Series constructor, as well as 'n', the length of an element so that the \n",
    "// heatmap dimensions are correctly constructed\n",
    "val series = XYZ(z=z.flatten, n=n) asType HEATMAP\n",
    "\n",
    "val chart = Chart().addSeries(series).setTitle(\"Heatmap\")\n",
    "\n",
    "chart.plotInline"
   ]
  },
  {
   "cell_type": "markdown",
   "metadata": {},
   "source": [
    "#### Scatter3D"
   ]
  },
  {
   "cell_type": "code",
   "execution_count": 40,
   "metadata": {
    "scrolled": false
   },
   "outputs": [
    {
     "data": {
      "text/html": [
       "<div id=\"grid-container_hgoxRTh8gF\" class=\"grid-container\" align=\"center\"> \n",
       "<div id=\"grid_hgoxRTh8gF\" class=\"grid\" align=\"center\"> \n",
       "<div id=\"graph_pf19OqmvDd\" class=\"graph\"></div> \n",
       "</div> \n",
       "</div> \n",
       "<script>\n",
       "var masonry = new Macy({\n",
       "    container: '#grid_hgoxRTh8gF',\n",
       "    debug: true,\n",
       "    mobileFirst: true,\n",
       "    columns: 1,\n",
       "    margin: {\n",
       "        x: 0,\n",
       "        y: 0\n",
       "    }\n",
       "  });\n",
       "\n",
       " var traces_pf19OqmvDd = [{\"name\":\"dalAyIZygQ\",\"type\":\"scatter3d\",\"mode\":\"markers\",\"x\":[1,2,3,4,5,6,7,8,9,10,11,12,13,14,15,16,17,18,19,20,21,22,23,24,25,26,27,28,29,30,31,32,33,34,35,36,37,38,39,40,41,42,43,44,45,46,47,48,49,50,51,52,53,54,55,56,57,58,59,60,61,62,63,64,65,66,67,68,69,70,71,72,73,74,75,76,77,78,79,80,81,82,83,84,85,86,87,88,89,90,91,92,93,94,95,96,97,98,99],\"y\":[1,2,3,4,5,6,7,8,9,10,11,12,13,14,15,16,17,18,19,20,21,22,23,24,25,26,27,28,29,30,31,32,33,34,35,36,37,38,39,40,41,42,43,44,45,46,47,48,49,50,51,52,53,54,55,56,57,58,59,60,61,62,63,64,65,66,67,68,69,70,71,72,73,74,75,76,77,78,79,80,81,82,83,84,85,86,87,88,89,90,91,92,93,94,95,96,97,98,99],\"z\":[53.83409203693515,18.41561519506929,30.427777662051867,103.55168284677451,34.52603806486533,7.66126623765882,104.07852436688354,8.292126654096203,79.04986249870926,72.10599272298663,25.626583914733473,52.129241285771,112.17619377235036,26.251231767069626,107.16241494055501,20.87306700902429,49.73107361619143,23.639412022787262,23.587099673824312,38.895041745733366,39.104527066314944,105.94639156392797,87.68002963549733,118.2401285937844,86.80108407934911,118.87122501604759,40.109219878738045,29.890589058390557,120.1666523323114,107.99774530393063,64.26282944086833,123.49063818668132,97.32066371446187,81.72812840565214,47.98741467802027,53.579430644686326,61.84197277507823,42.93949410821553,92.15057672402455,92.74318830729635,136.90148755033164,46.19028706871969,109.40256572851625,125.08546232334992,67.30404818082843,133.10401577411238,65.59356601451401,117.02791777019836,147.29664846982052,134.9836906653286,91.0103310156758,56.692204791277106,117.01952332524516,108.76110105612034,128.92790455452666,137.9768343773552,71.12128681671098,90.0608096558416,94.92917242090958,140.9312161543761,99.32873346483763,105.45958890175059,92.02706196459982,126.14231998219066,70.65647146319985,84.94773203110023,163.83117020362755,117.58771089262966,80.46114842532343,155.1495180577761,170.8327299319712,95.77192723832204,102.68945380482089,74.03585961427656,143.3387295666089,160.95156777436384,128.4387322366126,88.66291730530754,98.66816880206714,154.86760454063307,126.34344185409388,158.8963266122006,109.93033699994741,148.64180976946142,130.32038057311752,92.13136440522393,179.03714531045432,114.35745921677577,145.84997194126998,176.69524237175074,97.55846933704721,98.33268557738805,167.24055094692562,184.91844867836483,175.6115928872004,105.20822304390347,115.21706766178053,140.7878785508168,181.1827826705321]}];\n",
       " var layout_pf19OqmvDd = {\"height\":550,\"width\":600,\"hovermode\":\"closest\",\"title\":{\"text\":\"XYZ.Scatter3D\"},\"showlegend\":true};\n",
       " var config_pf19OqmvDd = {\"responsive\":false,\"scrollZoom\":false,\"displaylogo\":false};\n",
       " Plotly.newPlot(\"graph_pf19OqmvDd\", traces_pf19OqmvDd, layout_pf19OqmvDd, config_pf19OqmvDd);\n",
       "</script> \n"
      ]
     },
     "metadata": {},
     "output_type": "display_data"
    }
   ],
   "source": [
    "val x = List.range(1, 100)\n",
    "val y = List.range(1, 100)\n",
    "val z = List.range(1, 100).map(e => e + scala.util.Random.nextDouble()*100)\n",
    "\n",
    "val series = XYZ(x, y, z).asType(SCATTER3D).drawStyle(MARKERS)\n",
    "val chart1 = Chart() addSeries series setTitle \"XYZ.Scatter3D\" setConfig(false, false)\n",
    "val canvas = Canvas() addCharts chart1\n",
    "canvas.plotInline"
   ]
  },
  {
   "cell_type": "markdown",
   "metadata": {},
   "source": [
    "#### Surface Plot"
   ]
  },
  {
   "cell_type": "code",
   "execution_count": 41,
   "metadata": {
    "scrolled": false
   },
   "outputs": [
    {
     "data": {
      "text/html": [
       "<div id=\"grid-container_EtgTarFrbk\" class=\"grid-container\" align=\"center\"> \n",
       "<div id=\"grid_EtgTarFrbk\" class=\"grid\" align=\"center\"> \n",
       "<div id=\"graph_8KQOUk6bTp\" class=\"graph\"></div> \n",
       "</div> \n",
       "</div> \n",
       "<script>\n",
       "var masonry = new Macy({\n",
       "    container: '#grid_EtgTarFrbk',\n",
       "    debug: true,\n",
       "    mobileFirst: true,\n",
       "    columns: 1,\n",
       "    margin: {\n",
       "        x: 0,\n",
       "        y: 0\n",
       "    }\n",
       "  });\n",
       "\n",
       " var traces_8KQOUk6bTp = [{\"name\":\"Szx0J0lRTB\",\"type\":\"surface\",\"colorbar\":{\"title\":{\"text\":\"Altitude\",\"side\":\"right\"}},\"z\":[[8.83,8.89,8.81,8.87,8.9,8.87],[8.89,8.94,8.85,8.94,8.96,8.92],[8.84,8.9,8.82,8.92,8.93,8.91],[8.79,8.85,8.79,8.9,8.94,8.92],[8.79,8.88,8.81,8.9,8.95,8.92],[8.8,8.82,8.78,8.91,8.94,8.92],[8.75,8.78,8.77,8.91,8.95,8.92],[8.8,8.8,8.77,8.91,8.95,8.94],[8.74,8.81,8.76,8.93,8.98,8.99],[8.89,8.99,8.92,9.1,9.13,9.11],[8.97,8.97,8.91,9.09,9.11,9.11],[9.04,9.08,9.05,9.25,9.28,9.27],[9,9.01,9,9.2,9.23,9.2],[8.99,8.99,8.98,9.18,9.2,9.19],[8.93,8.97,8.97,9.18,9.2,9.18]]}];\n",
       " var layout_8KQOUk6bTp = {\"height\":550,\"width\":600,\"hovermode\":\"closest\",\"title\":{\"text\":\"Surface\"},\"showlegend\":true};\n",
       " var config_8KQOUk6bTp = {\"responsive\":true,\"scrollZoom\":true,\"displaylogo\":false};\n",
       " Plotly.newPlot(\"graph_8KQOUk6bTp\", traces_8KQOUk6bTp, layout_8KQOUk6bTp, config_8KQOUk6bTp);\n",
       "</script> \n"
      ]
     },
     "metadata": {},
     "output_type": "display_data"
    }
   ],
   "source": [
    "// 3d surface plot\n",
    "val k = List(\n",
    "    List(8.83,8.89,8.81,8.87,8.9,8.87),\n",
    "    List(8.89,8.94,8.85,8.94,8.96,8.92),\n",
    "    List(8.84,8.9,8.82,8.92,8.93,8.91),\n",
    "    List(8.79,8.85,8.79,8.9,8.94,8.92),\n",
    "    List(8.79,8.88,8.81,8.9,8.95,8.92),\n",
    "    List(8.8,8.82,8.78,8.91,8.94,8.92),\n",
    "    List(8.75,8.78,8.77,8.91,8.95,8.92),\n",
    "    List(8.8,8.8,8.77,8.91,8.95,8.94),\n",
    "    List(8.74,8.81,8.76,8.93,8.98,8.99),\n",
    "    List(8.89,8.99,8.92,9.1,9.13,9.11),\n",
    "    List(8.97,8.97,8.91,9.09,9.11,9.11),\n",
    "    List(9.04,9.08,9.05,9.25,9.28,9.27),\n",
    "    List(9,9.01,9,9.2,9.23,9.2),\n",
    "    List(8.99,8.99,8.98,9.18,9.2,9.19),\n",
    "    List(8.93,8.97,8.97,9.18,9.2,9.18)\n",
    "  )\n",
    "\n",
    "val series = XYZ(z=k.flatten, n = k(0).length) asType SURFACE setColorBar(\"Altitude\", RIGHT_SIDE)\n",
    "val chart2 = Chart() addSeries series setTitle \"Surface\"\n",
    "\n",
    "chart2.plotInline"
   ]
  },
  {
   "cell_type": "markdown",
   "metadata": {},
   "source": [
    "#### Third Dimension as Color"
   ]
  },
  {
   "cell_type": "code",
   "execution_count": 42,
   "metadata": {},
   "outputs": [
    {
     "data": {
      "text/html": [
       "<div id=\"grid-container_pMLObJ6cVQ\" class=\"grid-container\" align=\"center\"> \n",
       "<div id=\"grid_pMLObJ6cVQ\" class=\"grid\" align=\"center\"> \n",
       "<div id=\"graph_otmyfj9H7w\" class=\"graph\"></div> \n",
       "</div> \n",
       "</div> \n",
       "<script>\n",
       "var masonry = new Macy({\n",
       "    container: '#grid_pMLObJ6cVQ',\n",
       "    debug: true,\n",
       "    mobileFirst: true,\n",
       "    columns: 1,\n",
       "    margin: {\n",
       "        x: 0,\n",
       "        y: 0\n",
       "    }\n",
       "  });\n",
       "\n",
       " var traces_otmyfj9H7w = [{\"name\":\"QsS4iigMMB\",\"type\":\"scatter\",\"mode\":\"markers\",\"marker\":{\"color\":[53.83409203693515,18.41561519506929,30.427777662051867,103.55168284677451,34.52603806486533,7.66126623765882,104.07852436688354,8.292126654096203,79.04986249870926,72.10599272298663,25.626583914733473,52.129241285771,112.17619377235036,26.251231767069626,107.16241494055501,20.87306700902429,49.73107361619143,23.639412022787262,23.587099673824312,38.895041745733366,39.104527066314944,105.94639156392797,87.68002963549733,118.2401285937844,86.80108407934911,118.87122501604759,40.109219878738045,29.890589058390557,120.1666523323114,107.99774530393063,64.26282944086833,123.49063818668132,97.32066371446187,81.72812840565214,47.98741467802027,53.579430644686326,61.84197277507823,42.93949410821553,92.15057672402455,92.74318830729635,136.90148755033164,46.19028706871969,109.40256572851625,125.08546232334992,67.30404818082843,133.10401577411238,65.59356601451401,117.02791777019836,147.29664846982052,134.9836906653286,91.0103310156758,56.692204791277106,117.01952332524516,108.76110105612034,128.92790455452666,137.9768343773552,71.12128681671098,90.0608096558416,94.92917242090958,140.9312161543761,99.32873346483763,105.45958890175059,92.02706196459982,126.14231998219066,70.65647146319985,84.94773203110023,163.83117020362755,117.58771089262966,80.46114842532343,155.1495180577761,170.8327299319712,95.77192723832204,102.68945380482089,74.03585961427656,143.3387295666089,160.95156777436384,128.4387322366126,88.66291730530754,98.66816880206714,154.86760454063307,126.34344185409388,158.8963266122006,109.93033699994741,148.64180976946142,130.32038057311752,92.13136440522393,179.03714531045432,114.35745921677577,145.84997194126998,176.69524237175074,97.55846933704721,98.33268557738805,167.24055094692562,184.91844867836483,175.6115928872004,105.20822304390347,115.21706766178053,140.7878785508168,181.1827826705321],\"colorbar\":{\"title\":{\"text\":\"3rd Dimension\",\"side\":\"right\"}}},\"x\":[1,2,3,4,5,6,7,8,9,10,11,12,13,14,15,16,17,18,19,20,21,22,23,24,25,26,27,28,29,30,31,32,33,34,35,36,37,38,39,40,41,42,43,44,45,46,47,48,49,50,51,52,53,54,55,56,57,58,59,60,61,62,63,64,65,66,67,68,69,70,71,72,73,74,75,76,77,78,79,80,81,82,83,84,85,86,87,88,89,90,91,92,93,94,95,96,97,98,99],\"y\":[1,2,3,4,5,6,7,8,9,10,11,12,13,14,15,16,17,18,19,20,21,22,23,24,25,26,27,28,29,30,31,32,33,34,35,36,37,38,39,40,41,42,43,44,45,46,47,48,49,50,51,52,53,54,55,56,57,58,59,60,61,62,63,64,65,66,67,68,69,70,71,72,73,74,75,76,77,78,79,80,81,82,83,84,85,86,87,88,89,90,91,92,93,94,95,96,97,98,99]}];\n",
       " var layout_otmyfj9H7w = {\"height\":550,\"width\":600,\"hovermode\":\"closest\",\"title\":{\"text\":\"Scatter With Color\"},\"showlegend\":false};\n",
       " var config_otmyfj9H7w = {\"responsive\":true,\"scrollZoom\":true,\"displaylogo\":false};\n",
       " Plotly.newPlot(\"graph_otmyfj9H7w\", traces_otmyfj9H7w, layout_otmyfj9H7w, config_otmyfj9H7w);\n",
       "</script> \n"
      ]
     },
     "metadata": {},
     "output_type": "display_data"
    }
   ],
   "source": [
    "// multiple compositions can be used to create scatter charts with a color representing some third dimension\n",
    "val series = (\n",
    "    XY(x, y) \n",
    "    asType SCATTER \n",
    "    drawStyle MARKERS \n",
    "    setMarker marker \n",
    "    setColor z \n",
    "    setColorBar(\"3rd Dimension\", RIGHT_SIDE)\n",
    ")\n",
    "\n",
    "val chart3 = Chart() addSeries series setTitle \"Scatter With Color\" showLegend false\n",
    "chart3.plotInline"
   ]
  },
  {
   "cell_type": "markdown",
   "metadata": {},
   "source": [
    "#### Subplot\n",
    "\n",
    "The Subplot class can be used to generate subplots for an XYZ plots just as we did previously."
   ]
  },
  {
   "cell_type": "code",
   "execution_count": 43,
   "metadata": {},
   "outputs": [
    {
     "data": {
      "text/html": [
       "<div id=\"grid-container_qdawc5oRni\" class=\"grid-container\" align=\"center\"> \n",
       "<div id=\"grid_qdawc5oRni\" class=\"grid\" align=\"center\"> \n",
       "<div id=\"graph_gOxCwzT64j\" class=\"graph\"></div> \n",
       "<div id=\"graph_3eny7JN2d5\" class=\"graph\"></div> \n",
       "<div id=\"graph_L90Foj1zAm\" class=\"graph\"></div> \n",
       "<div id=\"graph_lObX85TWhd\" class=\"graph\"></div> \n",
       "</div> \n",
       "</div> \n",
       "\n",
       "<div align=\"center\">\n",
       "<button id = \"saveAsPNG_qdawc5oRni\" class=\"picta-button\">Download Canvas as PNG</button>\n",
       "</div>\n",
       "<script>\n",
       "var masonry = new Macy({\n",
       "    container: '#grid_qdawc5oRni',\n",
       "    debug: true,\n",
       "    mobileFirst: true,\n",
       "    columns: 2,\n",
       "    margin: {\n",
       "        x: 0,\n",
       "        y: 0\n",
       "    }\n",
       "  });\n",
       "\n",
       " var traces_gOxCwzT64j = [{\"name\":\"dalAyIZygQ\",\"type\":\"scatter3d\",\"mode\":\"markers\",\"x\":[1,2,3,4,5,6,7,8,9,10,11,12,13,14,15,16,17,18,19,20,21,22,23,24,25,26,27,28,29,30,31,32,33,34,35,36,37,38,39,40,41,42,43,44,45,46,47,48,49,50,51,52,53,54,55,56,57,58,59,60,61,62,63,64,65,66,67,68,69,70,71,72,73,74,75,76,77,78,79,80,81,82,83,84,85,86,87,88,89,90,91,92,93,94,95,96,97,98,99],\"y\":[1,2,3,4,5,6,7,8,9,10,11,12,13,14,15,16,17,18,19,20,21,22,23,24,25,26,27,28,29,30,31,32,33,34,35,36,37,38,39,40,41,42,43,44,45,46,47,48,49,50,51,52,53,54,55,56,57,58,59,60,61,62,63,64,65,66,67,68,69,70,71,72,73,74,75,76,77,78,79,80,81,82,83,84,85,86,87,88,89,90,91,92,93,94,95,96,97,98,99],\"z\":[53.83409203693515,18.41561519506929,30.427777662051867,103.55168284677451,34.52603806486533,7.66126623765882,104.07852436688354,8.292126654096203,79.04986249870926,72.10599272298663,25.626583914733473,52.129241285771,112.17619377235036,26.251231767069626,107.16241494055501,20.87306700902429,49.73107361619143,23.639412022787262,23.587099673824312,38.895041745733366,39.104527066314944,105.94639156392797,87.68002963549733,118.2401285937844,86.80108407934911,118.87122501604759,40.109219878738045,29.890589058390557,120.1666523323114,107.99774530393063,64.26282944086833,123.49063818668132,97.32066371446187,81.72812840565214,47.98741467802027,53.579430644686326,61.84197277507823,42.93949410821553,92.15057672402455,92.74318830729635,136.90148755033164,46.19028706871969,109.40256572851625,125.08546232334992,67.30404818082843,133.10401577411238,65.59356601451401,117.02791777019836,147.29664846982052,134.9836906653286,91.0103310156758,56.692204791277106,117.01952332524516,108.76110105612034,128.92790455452666,137.9768343773552,71.12128681671098,90.0608096558416,94.92917242090958,140.9312161543761,99.32873346483763,105.45958890175059,92.02706196459982,126.14231998219066,70.65647146319985,84.94773203110023,163.83117020362755,117.58771089262966,80.46114842532343,155.1495180577761,170.8327299319712,95.77192723832204,102.68945380482089,74.03585961427656,143.3387295666089,160.95156777436384,128.4387322366126,88.66291730530754,98.66816880206714,154.86760454063307,126.34344185409388,158.8963266122006,109.93033699994741,148.64180976946142,130.32038057311752,92.13136440522393,179.03714531045432,114.35745921677577,145.84997194126998,176.69524237175074,97.55846933704721,98.33268557738805,167.24055094692562,184.91844867836483,175.6115928872004,105.20822304390347,115.21706766178053,140.7878785508168,181.1827826705321]}];\n",
       " var layout_gOxCwzT64j = {\"height\":350,\"width\":350,\"hovermode\":\"closest\",\"title\":{\"text\":\"XYZ.Scatter3D\"},\"showlegend\":true,\"margin\":{\"l\":50,\"r\":50,\"t\":50,\"b\":50}};\n",
       " var config_gOxCwzT64j = {\"responsive\":false,\"scrollZoom\":false,\"displaylogo\":false};\n",
       " Plotly.newPlot(\"graph_gOxCwzT64j\", traces_gOxCwzT64j, layout_gOxCwzT64j, config_gOxCwzT64j);\n",
       "\n",
       " var traces_3eny7JN2d5 = [{\"name\":\"Szx0J0lRTB\",\"type\":\"surface\",\"colorbar\":{\"title\":{\"text\":\"Altitude\",\"side\":\"right\"}},\"z\":[[8.83,8.89,8.81,8.87,8.9,8.87],[8.89,8.94,8.85,8.94,8.96,8.92],[8.84,8.9,8.82,8.92,8.93,8.91],[8.79,8.85,8.79,8.9,8.94,8.92],[8.79,8.88,8.81,8.9,8.95,8.92],[8.8,8.82,8.78,8.91,8.94,8.92],[8.75,8.78,8.77,8.91,8.95,8.92],[8.8,8.8,8.77,8.91,8.95,8.94],[8.74,8.81,8.76,8.93,8.98,8.99],[8.89,8.99,8.92,9.1,9.13,9.11],[8.97,8.97,8.91,9.09,9.11,9.11],[9.04,9.08,9.05,9.25,9.28,9.27],[9,9.01,9,9.2,9.23,9.2],[8.99,8.99,8.98,9.18,9.2,9.19],[8.93,8.97,8.97,9.18,9.2,9.18]]}];\n",
       " var layout_3eny7JN2d5 = {\"height\":350,\"width\":350,\"hovermode\":\"closest\",\"title\":{\"text\":\"Surface\"},\"showlegend\":true,\"margin\":{\"l\":50,\"r\":50,\"t\":50,\"b\":50}};\n",
       " var config_3eny7JN2d5 = {\"responsive\":true,\"scrollZoom\":true,\"displaylogo\":false};\n",
       " Plotly.newPlot(\"graph_3eny7JN2d5\", traces_3eny7JN2d5, layout_3eny7JN2d5, config_3eny7JN2d5);\n",
       "\n",
       " var traces_L90Foj1zAm = [{\"name\":\"QsS4iigMMB\",\"type\":\"scatter\",\"mode\":\"markers\",\"marker\":{\"color\":[53.83409203693515,18.41561519506929,30.427777662051867,103.55168284677451,34.52603806486533,7.66126623765882,104.07852436688354,8.292126654096203,79.04986249870926,72.10599272298663,25.626583914733473,52.129241285771,112.17619377235036,26.251231767069626,107.16241494055501,20.87306700902429,49.73107361619143,23.639412022787262,23.587099673824312,38.895041745733366,39.104527066314944,105.94639156392797,87.68002963549733,118.2401285937844,86.80108407934911,118.87122501604759,40.109219878738045,29.890589058390557,120.1666523323114,107.99774530393063,64.26282944086833,123.49063818668132,97.32066371446187,81.72812840565214,47.98741467802027,53.579430644686326,61.84197277507823,42.93949410821553,92.15057672402455,92.74318830729635,136.90148755033164,46.19028706871969,109.40256572851625,125.08546232334992,67.30404818082843,133.10401577411238,65.59356601451401,117.02791777019836,147.29664846982052,134.9836906653286,91.0103310156758,56.692204791277106,117.01952332524516,108.76110105612034,128.92790455452666,137.9768343773552,71.12128681671098,90.0608096558416,94.92917242090958,140.9312161543761,99.32873346483763,105.45958890175059,92.02706196459982,126.14231998219066,70.65647146319985,84.94773203110023,163.83117020362755,117.58771089262966,80.46114842532343,155.1495180577761,170.8327299319712,95.77192723832204,102.68945380482089,74.03585961427656,143.3387295666089,160.95156777436384,128.4387322366126,88.66291730530754,98.66816880206714,154.86760454063307,126.34344185409388,158.8963266122006,109.93033699994741,148.64180976946142,130.32038057311752,92.13136440522393,179.03714531045432,114.35745921677577,145.84997194126998,176.69524237175074,97.55846933704721,98.33268557738805,167.24055094692562,184.91844867836483,175.6115928872004,105.20822304390347,115.21706766178053,140.7878785508168,181.1827826705321],\"colorbar\":{\"title\":{\"text\":\"3rd Dimension\",\"side\":\"right\"}}},\"x\":[1,2,3,4,5,6,7,8,9,10,11,12,13,14,15,16,17,18,19,20,21,22,23,24,25,26,27,28,29,30,31,32,33,34,35,36,37,38,39,40,41,42,43,44,45,46,47,48,49,50,51,52,53,54,55,56,57,58,59,60,61,62,63,64,65,66,67,68,69,70,71,72,73,74,75,76,77,78,79,80,81,82,83,84,85,86,87,88,89,90,91,92,93,94,95,96,97,98,99],\"y\":[1,2,3,4,5,6,7,8,9,10,11,12,13,14,15,16,17,18,19,20,21,22,23,24,25,26,27,28,29,30,31,32,33,34,35,36,37,38,39,40,41,42,43,44,45,46,47,48,49,50,51,52,53,54,55,56,57,58,59,60,61,62,63,64,65,66,67,68,69,70,71,72,73,74,75,76,77,78,79,80,81,82,83,84,85,86,87,88,89,90,91,92,93,94,95,96,97,98,99]}];\n",
       " var layout_L90Foj1zAm = {\"height\":350,\"width\":350,\"hovermode\":\"closest\",\"title\":{\"text\":\"Scatter With Color\"},\"showlegend\":false,\"margin\":{\"l\":50,\"r\":50,\"t\":50,\"b\":50}};\n",
       " var config_L90Foj1zAm = {\"responsive\":true,\"scrollZoom\":true,\"displaylogo\":false};\n",
       " Plotly.newPlot(\"graph_L90Foj1zAm\", traces_L90Foj1zAm, layout_L90Foj1zAm, config_L90Foj1zAm);\n",
       "\n",
       " var traces_lObX85TWhd = [{\"name\":\"f96gXhrGj5\",\"type\":\"heatmap\",\"z\":[[84.69333294191689,57.97552713240891,47.77256342640794,50.511334246151215,51.15266652287965,66.06304353883641,60.781109760343305,74.33172777296228,34.21017080905765,24.75820089022484],[60.48718381867193,53.81889881329924,83.17336808321474,76.92323395434539,108.15347837960685,44.62960103981048,92.52919845300755,34.01545182833436,40.99989047940486,90.65242939130157],[36.587766928719795,45.394938092559904,71.03700917346217,59.0468058938576,42.19570473831338,123.19536085175001,59.476893682401766,88.67742180401973,60.20336836055344,46.16175142138291],[38.19630579623539,33.40461464268541,128.1083617766089,48.37876601200231,64.27843607396477,59.5233364718231,38.66113807490754,96.95738731874087,48.834882997169956,100.10034717546063],[42.20673814487804,76.51760708555464,97.11047305488896,78.04126854925755,114.14999715789617,127.69914637711435,133.299227216234,84.42621383336886,113.16980875942812,131.95180686293537],[60.55064764715564,138.98473032091675,140.67137328211572,95.50152790223291,124.32118704277524,65.5377941118776,87.45357015981543,61.65787413158164,105.5266306947457,86.8166489752559],[119.68192002561537,72.52305999671688,68.87681970699757,80.275329006639,112.99588970100291,108.68228406781607,131.3249974582954,139.3456981497785,90.9425255472414,158.59955165184726],[95.73980673571705,153.04089789901167,161.91672795537283,108.21283070670586,115.70873156957512,150.89511926645875,77.4017650074043,95.61680226005315,118.80759846998419,159.93464065667698],[153.54183525572626,145.74102732179298,117.7215102691778,85.70712199356561,107.94188444061956,185.5759697361237,181.27836108795321,160.35313682352185,164.07805646548536,141.76868903374194],[120.75687604950099,97.28601910769305,166.81547419416083,139.30468555885648,170.75689998668793,154.253063086187,134.26839333600472,152.51185320110642,108.47042403949304,134.38319626803352]]}];\n",
       " var layout_lObX85TWhd = {\"height\":350,\"width\":350,\"hovermode\":\"closest\",\"title\":{\"text\":\"Heatmap\"},\"showlegend\":true,\"margin\":{\"l\":50,\"r\":50,\"t\":50,\"b\":50}};\n",
       " var config_lObX85TWhd = {\"responsive\":true,\"scrollZoom\":true,\"displaylogo\":false};\n",
       " Plotly.newPlot(\"graph_lObX85TWhd\", traces_lObX85TWhd, layout_lObX85TWhd, config_lObX85TWhd);\n",
       "\n",
       "var save_qdawc5oRni = document.getElementById(\"saveAsPNG_qdawc5oRni\")\n",
       "save_qdawc5oRni.onclick = function() {\n",
       "    const grid = document.getElementById(\"grid-container_qdawc5oRni\")\n",
       "    const graphs = grid.getElementsByClassName(\"graph\")\n",
       "\n",
       "    const promises = []\n",
       "\n",
       "    const rows = 2\n",
       "    const cols = 2\n",
       "    const img_width = 400\n",
       "    const img_height = 400\n",
       "    var margin = 50\n",
       "\n",
       "    for (var i=0; i<graphs.length; i++) {\n",
       "        const promise = Plotly.toImage(graphs[i], {format: 'png', width: img_width, height: img_height})\n",
       "        promises.push(new Promise((resolve) => {\n",
       "            resolve(promise);\n",
       "        }));\n",
       "    }\n",
       "\n",
       "    Promise.all(promises).then((images) => {\n",
       "        const positioned_images = []\n",
       "\n",
       "        for (var i=0; i<rows; i++) {\n",
       "            for (var j=0; j<cols; j++) {\n",
       "\n",
       "                const obj = {\n",
       "                    \"src\": images[i*cols + j],\n",
       "                    x: i*img_width+margin,\n",
       "                    y: j*img_height+margin\n",
       "                }\n",
       "\n",
       "                positioned_images.push(obj)\n",
       "            }\n",
       "        }\n",
       "\n",
       "        mergeImages(positioned_images, {\n",
       "            width: img_width*cols+60, height: img_height*rows+60\n",
       "        })\n",
       "        .then(b64 => {\n",
       "            var a = document.createElement(\"a\");\n",
       "            a.href = b64;\n",
       "            a.download = \"Image.png\";\n",
       "            a.click();\n",
       "            a.remove()\n",
       "        });\n",
       "    });\n",
       "}\n",
       "</script> \n"
      ]
     },
     "metadata": {},
     "output_type": "display_data"
    }
   ],
   "source": [
    "// it may be necessary to play around with the chart dimensions and margin  in order to ensure a good fit on screen.\n",
    "val dim = 350\n",
    "\n",
    "// The canvas has an underlying grid. By default the underlying grid is 1x1, but we can pass in the dimensions we \n",
    "// require by passing in parameters in the constructor.\n",
    "Canvas(2, 2)\n",
    ".setChart(0, 0, chart1.setDimensions(width = dim, height = dim).setMargin(l=50, r=50, t=50, b=50))\n",
    ".setChart(0, 1, chart2.setDimensions(width = dim, height = dim)setMargin(l=50, r=50, t=50, b=50))\n",
    ".setChart(1, 0, chart3.setDimensions(width = dim, height = dim)setMargin(l=50, r=50, t=50, b=50))\n",
    ".setChart(1, 1, chart.setDimensions(width = dim, height = dim)setMargin(l=50, r=50, t=50, b=50))\n",
    ".plotInline"
   ]
  },
  {
   "cell_type": "markdown",
   "metadata": {},
   "source": [
    "#### Map\n",
    "\n",
    "We can also create maps using the composition technique below."
   ]
  },
  {
   "cell_type": "code",
   "execution_count": 44,
   "metadata": {},
   "outputs": [],
   "source": [
    "import org.carbonateresearch.picta.options.{Margin, Line}\n",
    "import org.carbonateresearch.picta.Map"
   ]
  },
  {
   "cell_type": "code",
   "execution_count": 45,
   "metadata": {},
   "outputs": [
    {
     "data": {
      "text/html": [
       "<div id=\"grid-container_k1jmE5xmGp\" class=\"grid-container\" align=\"center\"> \n",
       "<div id=\"grid_k1jmE5xmGp\" class=\"grid\" align=\"center\"> \n",
       "<div id=\"graph_NfPj9bb86q\" class=\"graph\"></div> \n",
       "</div> \n",
       "</div> \n",
       "<script>\n",
       "var masonry = new Macy({\n",
       "    container: '#grid_k1jmE5xmGp',\n",
       "    debug: true,\n",
       "    mobileFirst: true,\n",
       "    columns: 1,\n",
       "    margin: {\n",
       "        x: 0,\n",
       "        y: 0\n",
       "    }\n",
       "  });\n",
       "\n",
       " var traces_NfPj9bb86q = [{\"name\":\"2r9fNwbkJ3\",\"lat\":[40.7127,51.5072],\"lon\":[-74.0059,0.1275],\"type\":\"scattergeo\",\"mode\":\"lines\",\"line\":{\"width\":2,\"color\":\"red\"}}];\n",
       " var layout_NfPj9bb86q = {\"height\":550,\"width\":600,\"hovermode\":\"closest\",\"showlegend\":true,\"geo\":{\"resolution\":50,\"showland\":true,\"showlakes\":true,\"coastlinewidth\":2,\"landcolor\":\"rgb(204, 204, 204)\",\"lakecolor\":\"rgb(255, 255, 255)\",\"lataxis\":{\"range\":[20,60],\"showgrid\":true,\"dtick\":10},\"lonaxis\":{\"range\":[-100,20],\"showgrid\":true,\"dtick\":10}},\"margin\":{\"l\":0,\"r\":0,\"t\":0,\"b\":0}};\n",
       " var config_NfPj9bb86q = {\"responsive\":false,\"scrollZoom\":false,\"displaylogo\":false};\n",
       " Plotly.newPlot(\"graph_NfPj9bb86q\", traces_NfPj9bb86q, layout_NfPj9bb86q, config_NfPj9bb86q);\n",
       "</script> \n"
      ]
     },
     "metadata": {},
     "output_type": "display_data"
    }
   ],
   "source": [
    "// draw a line on the map that is red\n",
    "val line = Line(width = 2) setColor \"red\"\n",
    "\n",
    "// construct the map Series. It is an XY chart as it takes in a List of Longitude and Latitude\n",
    "val series = Map(List(40.7127, 51.5072), List(-74.0059, 0.1275)) drawSymbol LINES drawLine line\n",
    "\n",
    "// These are options that further specify the options for the map\n",
    "val geo = MapOptions(landcolor = \"rgb(204, 204, 204)\", lakecolor = \"rgb(255, 255, 255)\")\n",
    "              .setMapAxes(LatAxis(List(20, 60)), LongAxis(List(-100, 20)))\n",
    "\n",
    "val chart = (\n",
    "    Chart() \n",
    "    addSeries series \n",
    "    setConfig(false, false)\n",
    "    setMapOptions geo\n",
    "    setMargin(l=0, r=0, t=0, b=0)\n",
    ")\n",
    "\n",
    "chart.plotInline"
   ]
  },
  {
   "cell_type": "markdown",
   "metadata": {},
   "source": [
    "### Animated Charts\n",
    "\n",
    "We can also create animated charts. This can be useful for tracking the evolution of a data over time.\n",
    "\n",
    "All `Series` types should be supported.\n",
    "\n",
    "#### 2D Animated Chart"
   ]
  },
  {
   "cell_type": "code",
   "execution_count": 46,
   "metadata": {},
   "outputs": [],
   "source": [
    "import org.carbonateresearch.picta.options.ColorOptions._\n",
    "\n",
    "def genRangeRandomInt(min: Int = 0, max: Int = 10000) = min + (max - min) * scala.util.Random.nextInt()\n",
    "def genRangeRandomDouble(min: Double = 0.0, max: Double = 10000.0) = min + (max - min) * scala.util.Random.nextDouble()\n",
    "\n",
    "// creates random XY for testing purposes\n",
    "def createXYSeries[T: Color]\n",
    "(numberToCreate: Int, count: Int = 0, length: Int = 10): List[XY[Double, Double, T, T]] = {\n",
    "    if (count == numberToCreate) Nil\n",
    "    else {\n",
    "      val xs = List.range(0, length).map(x => genRangeRandomDouble())\n",
    "      val ys = xs.map(x => genRangeRandomDouble())\n",
    "      val series = XY(x = xs, y = ys, name = \"series \" + count).drawMarkers\n",
    "      series :: createXYSeries(numberToCreate, count + 1, length)\n",
    "    }\n",
    "}\n",
    "\n",
    "def createXYZSeries(numberToCreate: Int, count: Int = 0, length: Int = 10): List[XYZ[Double, Double, Double]] = {\n",
    "    if (count == numberToCreate) Nil\n",
    "    else {\n",
    "      val xs = List.range(0, length).map(x => genRangeRandomDouble())\n",
    "      val ys = xs.map(x => genRangeRandomDouble())\n",
    "      val zs = xs.map(x => genRangeRandomDouble())\n",
    "      val series = XYZ(x = xs, y = ys, z = zs, name = \"series \" + count, `type` = SCATTER3D).drawMarkers\n",
    "      series :: createXYZSeries(numberToCreate, count + 1, length)\n",
    "    }\n",
    "}"
   ]
  },
  {
   "cell_type": "code",
   "execution_count": 47,
   "metadata": {
    "scrolled": false
   },
   "outputs": [
    {
     "data": {
      "text/html": [
       "<div id=\"grid-container_rs7YIqZTBV\" class=\"grid-container\" align=\"center\"> \n",
       "<div id=\"grid_rs7YIqZTBV\" class=\"grid\" align=\"center\"> \n",
       "\n",
       "<div align=\"center\">\n",
       "  <div id=\"graph_Pnc6ItoFkR\" class=\"graph\"></div>\n",
       "  <div class=\"animationInterface\">\n",
       "    <button id=\"play_Pnc6ItoFkR\" class=\"picta-button\">&#9658</button>\n",
       "    <button id=\"pause_Pnc6ItoFkR\" class=\"picta-button\">&#9616;&#9616;</button>\n",
       "    <button id=\"prev_Pnc6ItoFkR\" class=\"picta-button\"><</button>\n",
       "    <button id=\"next_Pnc6ItoFkR\" class=\"picta-button\">></button>\n",
       "\n",
       "    <div id=\"sliderContainer_Pnc6ItoFkR\" class=\"progressBar\"></div>\n",
       "    <div id=\"counterContainer_Pnc6ItoFkR\" class=\"inline-div\">\n",
       "        <h3>Frame: </h3> <h3 id=\"value_Pnc6ItoFkR\">0</h3>\n",
       "    </div>\n",
       "   </div>\n",
       "</div> \n",
       "\n",
       "</div> \n",
       "</div> \n",
       "<script>\n",
       "var masonry = new Macy({\n",
       "    container: '#grid_rs7YIqZTBV',\n",
       "    debug: true,\n",
       "    mobileFirst: true,\n",
       "    columns: 1,\n",
       "    margin: {\n",
       "        x: 0,\n",
       "        y: 0\n",
       "    }\n",
       "  });\n",
       "\n",
       "var graph_Pnc6ItoFkR = document.getElementById('graph_Pnc6ItoFkR')\n",
       "var traces_Pnc6ItoFkR = [{\"name\":\"Frame 0\",\"type\":\"scatter\",\"mode\":\"markers\",\"x\":[8612.233233224008,6538.364084772315,7136.723498411367,6444.926329359306,4437.704395068242,5306.908389796388,1719.9782983362911,6459.865298615711,3008.438608727805,2698.8306842586594,4768.024596295645,3903.891631113682,5227.775004447063,8281.46550241836,9238.062707583093,6717.215659950228,335.3089884506621,7254.4366695533145,6867.812272284772,9623.303551194507,8364.205446800544,8569.205622572448,1148.216705482239,5761.289276776623,4896.765708710901,7885.39903053179,311.2253413948285,8500.168244599043,263.32222195914466,2003.6247380242078],\"y\":[5158.397689514932,4044.2062371730503,7331.49953980091,6619.562916460016,8089.277675390642,1425.3271861146288,5597.326392783743,8511.698106281645,7784.188825438644,1527.0747923975448,4416.637695112833,6605.138610242149,8654.303776003075,896.0670016479422,4904.6625453812985,3746.540384083752,5392.546818091909,9270.690035845262,8283.64195955019,2480.24088243883,742.088384194346,1993.1126007662426,8272.775505396336,3633.2767036154223,8944.893190914303,9769.520766792873,6491.7517416591245,6097.043397932644,8240.994386253122,8604.810406681938]}]\n",
       "var layout_Pnc6ItoFkR = {\"height\":550,\"width\":600,\"hovermode\":\"closest\",\"title\":{\"text\":\"Animation XY\"},\"showlegend\":true,\"xaxis\":{\"title\":{\"text\":\"X Variable\"},\"showgrid\":true,\"zeroline\":false,\"showline\":false,\"range\":[0,10000]},\"yaxis\":{\"title\":{\"text\":\"Y Variable\"},\"showgrid\":true,\"zeroline\":false,\"showline\":false,\"range\":[0,10000]}}\n",
       "var frames_Pnc6ItoFkR = [{\"name\":\"Frame 0\",\"data\":[{\"name\":\"Frame 0\",\"type\":\"scatter\",\"mode\":\"markers\",\"x\":[8612.233233224008,6538.364084772315,7136.723498411367,6444.926329359306,4437.704395068242,5306.908389796388,1719.9782983362911,6459.865298615711,3008.438608727805,2698.8306842586594,4768.024596295645,3903.891631113682,5227.775004447063,8281.46550241836,9238.062707583093,6717.215659950228,335.3089884506621,7254.4366695533145,6867.812272284772,9623.303551194507,8364.205446800544,8569.205622572448,1148.216705482239,5761.289276776623,4896.765708710901,7885.39903053179,311.2253413948285,8500.168244599043,263.32222195914466,2003.6247380242078],\"y\":[5158.397689514932,4044.2062371730503,7331.49953980091,6619.562916460016,8089.277675390642,1425.3271861146288,5597.326392783743,8511.698106281645,7784.188825438644,1527.0747923975448,4416.637695112833,6605.138610242149,8654.303776003075,896.0670016479422,4904.6625453812985,3746.540384083752,5392.546818091909,9270.690035845262,8283.64195955019,2480.24088243883,742.088384194346,1993.1126007662426,8272.775505396336,3633.2767036154223,8944.893190914303,9769.520766792873,6491.7517416591245,6097.043397932644,8240.994386253122,8604.810406681938]}]},{\"name\":\"Frame 1\",\"data\":[{\"name\":\"Frame 1\",\"type\":\"scatter\",\"mode\":\"markers\",\"x\":[2788.565653206173,9835.932767592009,3259.8556049859617,2161.7943340201364,6904.282463898756,1858.3577561265963,2178.3995894637087,7281.3174578613825,3951.859976588391,6653.1578840625025,4115.977259538036,948.4930169417927,3813.0937660366117,8424.453339325228,9394.755063509207,3601.6081693782066,3747.205009822638,2350.5941539751952,9014.704555522976,9354.072707915335,4256.538606640869,6047.929561840937,9975.579122125799,8436.10953630313,569.3003624172155,437.7031246516072,9923.96473120249,961.7199120493681,5976.206620068274,1294.4502124700352],\"y\":[8011.698076546118,3987.7803670466474,8697.38010400965,8896.863047706742,8822.64655706851,5755.955965532954,957.7733354601214,3407.1560277352464,2758.045674580496,1994.4454034523174,7513.858398951675,7872.549768194963,9366.298406758255,9205.401434072633,1001.270030755479,9072.56705118433,9761.336007658536,8975.194178610036,3162.5497118658986,8828.412073839587,494.35314049417366,5518.517266555517,4266.08202843794,4845.784732159653,4026.9199370346555,5903.66403735467,7841.7764759116835,680.0554997009767,299.1940432040929,8705.128140438754]}]},{\"name\":\"Frame 2\",\"data\":[{\"name\":\"Frame 2\",\"type\":\"scatter\",\"mode\":\"markers\",\"x\":[4235.994303844386,8992.81060924061,9795.138703892944,2191.011284460772,4427.678046820411,911.3475778095659,977.375500683304,7576.548224768235,5049.591095164997,7007.789967151784,3997.487829293054,6361.390556051018,6623.030630687983,2182.0542802877017,8183.306620983579,3317.114722821064,9641.325778259754,7562.995598705206,2962.9020629659876,8302.749582978728,7326.894020241509,7434.623253189911,605.7169233147241,759.9481536759289,9638.57134620516,8149.363562342513,4444.476051523491,475.7544498131172,420.39505108544927,9007.924856184192],\"y\":[8087.209246905618,6999.745703281387,8459.964850970026,2165.3921180376256,9536.930814537614,7963.65721205343,3663.9617499989886,9765.763997600743,9107.218480569678,3475.4260827855733,1560.3602449533182,1712.2183398289426,1555.1409225715595,9745.918367497365,2901.319949435097,6747.973109418437,948.6847671946031,155.4328952495787,267.69664678947703,2852.6841092823406,1444.0331361706803,6078.397460000272,265.56477567110323,351.9040945928853,8368.755984105219,2958.5139799325343,8157.100715985089,2592.2027844043137,1790.1693882379566,9362.921554835735]}]},{\"name\":\"Frame 3\",\"data\":[{\"name\":\"Frame 3\",\"type\":\"scatter\",\"mode\":\"markers\",\"x\":[1582.6209454296093,4552.124599407379,9093.829867152817,8042.785597915807,1407.5330665187546,9339.242048102622,4005.3277745292294,8389.048216655232,667.4018197279896,6166.13785886085,6959.250952008849,9095.894830435003,7086.289133823633,1103.2305799293317,5752.39182698935,8330.83280376334,707.9819693391598,3673.9324363496517,6013.971582929262,6259.094343599416,5806.670460254711,8187.707556976458,8183.86329928643,1381.4123138636148,5433.095510301839,8599.181031151464,1410.493131042828,7818.040283164397,7704.13748401257,9636.520616002354],\"y\":[5063.308217724692,5408.220139845763,5258.270120985613,4959.894600462337,5400.396150889114,8293.125739402765,3176.255549794775,5190.890165071968,8340.050756340888,511.6418101008702,6105.913842026408,4796.347467722292,9255.775542753621,9062.16345146716,2331.7479828614405,7015.149923620038,7247.4265520099,5869.928530626903,1094.6627079925165,284.086444008822,4436.890567112847,148.2299677720067,9593.967423245474,7948.9764383197435,494.9080067077605,1753.1737605338672,7793.304151428441,5439.834642344742,8826.342873010357,4305.482622107064]}]},{\"name\":\"Frame 4\",\"data\":[{\"name\":\"Frame 4\",\"type\":\"scatter\",\"mode\":\"markers\",\"x\":[2404.099485311486,5543.920359392319,3624.4138633099356,4089.1735870185353,6234.58802793279,2928.103533240348,6350.096484495958,7035.762510586675,5469.4097158764225,3642.0522992459546,6101.116719660199,1463.9778450516806,5384.238340272312,3976.3257839614816,805.6507462806828,8668.797734873106,4501.847245543662,5754.535834562055,5209.05920266604,6939.945520784553,8260.476839636103,1906.3195241170527,7217.677267013216,7138.815551923972,5892.316926027516,6997.937866014,6321.89254166171,9574.11905801553,8399.372401595907,2289.900975900142],\"y\":[6541.439237405319,2590.380005382077,1265.9340186721136,3846.0935906022255,1619.0498274167965,3019.726859892763,2861.3278764171755,5236.453036838202,2034.2963385022183,7446.264200398335,8363.571662319668,3455.3333950643605,1817.6664294327115,1093.6298717924276,9474.017342711359,7820.263698648438,8115.617864156449,8070.172977442236,2195.0152602379535,6820.8875097339105,7990.559485375968,2692.521612054234,8507.085538579877,7155.450458221566,5035.408539599854,6657.124625349857,2909.036025918721,2522.279829125552,3040.580052877706,940.6968659615278]}]},{\"name\":\"Frame 5\",\"data\":[{\"name\":\"Frame 5\",\"type\":\"scatter\",\"mode\":\"markers\",\"x\":[1473.922920780899,7126.276930232024,5171.963625201908,4484.307910704542,9325.69536876528,315.52338585926765,4901.649316007719,3952.198484153443,2255.8287966216285,4280.679382019739,9278.865014372279,155.22388336413508,9576.194073114533,6329.930001788463,6036.792511158235,7090.159065478385,8243.873669427221,894.8137960841029,3501.630667864835,8969.928213689202,2795.5771320478175,4127.347273496569,6303.481294093442,9106.144953819523,1693.7748069110003,5716.434847841742,484.32916794681535,2054.1828507338946,8313.607816906797,8381.633702393714],\"y\":[8756.599926533569,7042.3195524190005,3989.097588907361,5394.921054773223,386.47374634716016,6380.331341343617,1289.1234085907022,436.18669119990017,459.34384336113186,7279.23509886507,8008.0932910307865,2105.758155162526,130.5057068025306,9312.7118893333,6233.184755940845,7497.334291552082,2872.367692451684,2612.067892612107,6289.487872379137,5377.292662874466,1700.1825646905177,3810.4179498363287,2366.3318637712714,9721.403561876421,8891.490588652818,7738.108278866074,5192.53383945492,8627.568475937751,2810.18164413243,2920.2191713992133]}]},{\"name\":\"Frame 6\",\"data\":[{\"name\":\"Frame 6\",\"type\":\"scatter\",\"mode\":\"markers\",\"x\":[7255.259091461821,1953.2781338966654,6104.275301384743,8038.317176955755,7746.636103638231,3419.058708896245,5767.230804270662,4692.457770824275,7674.221345108556,9374.259113518612,8335.790980031317,9035.763213737122,385.8662140650526,6939.1062972484215,2843.0815799572106,1152.7300985974055,9136.48432260722,8817.036773561005,53.873230868429765,6413.75217564536,1263.6780439129757,713.8844263504728,8979.634843936396,7462.166021211519,8041.131461263381,5.593348054714342,704.193757401822,8976.46112630839,343.13268093129733,1063.6902585972352],\"y\":[5146.532860148059,9899.121019123451,2880.5390826829603,3477.841181830891,8545.452260274162,9434.890169935095,3957.9532743155733,4307.3839798318995,8171.5282077633055,3795.091316974879,3453.8339491587867,4448.8155765444735,6055.002734107642,400.9438348630756,9039.712745886192,2223.7856702231697,5363.9454572358545,5057.664337111812,9531.64465180103,4372.229194556946,1475.2263359012795,5472.454982973311,4706.475788223305,5777.84418122922,4751.545109405555,1413.318741840982,2917.4581389007303,4458.206542260848,3570.96512301756,7791.963293862397]}]},{\"name\":\"Frame 7\",\"data\":[{\"name\":\"Frame 7\",\"type\":\"scatter\",\"mode\":\"markers\",\"x\":[1408.200814432501,7619.385979032964,4251.103220245537,2002.8859829286105,9350.896753581983,7905.004425694472,9168.32667470923,962.0621980551824,324.21799228132596,6362.262978945337,5593.019426039253,6462.4838239837945,9198.226120656538,102.53578244215689,5545.173075657015,9700.124147480094,8208.095956421002,8151.706213574049,1320.2673131194654,7122.737256004872,8375.40694205641,8565.508221592443,2243.6088203232516,115.21906606549504,5375.206551405112,3527.6999634119557,5681.994855066465,459.09824030648474,3449.00335043815,6853.988193744388],\"y\":[9374.775975691548,1990.0381783593125,7028.304595062122,92.19027069404694,2742.0940023981875,6426.075750297976,7360.259762747394,9239.204879549108,1986.2728748310433,7950.634110222561,616.4310463580658,3987.937622299833,7523.046626108871,6808.190005022448,4717.660000924384,5372.406134387185,2562.507137546981,6906.791918190621,4422.455151695941,5696.828691125602,8505.362398316029,6220.462440432913,8103.279652963568,6714.577969965787,6228.295043725186,1645.8414200122472,5074.565965444885,8165.457592255581,2302.918270063984,1891.2546407626162]}]},{\"name\":\"Frame 8\",\"data\":[{\"name\":\"Frame 8\",\"type\":\"scatter\",\"mode\":\"markers\",\"x\":[9338.24521799061,8984.84177308127,5726.021855428299,2962.725706477568,4177.026061930884,7765.790872804227,3834.51639614246,860.2685955298261,2152.6121261569874,7385.339624744051,5736.672505648143,5209.136132539266,6755.502975582678,1098.72766033413,7811.968006300065,5724.519492877414,5204.974208440005,3860.423037498589,8615.048516370762,644.5271032162602,6712.28485347111,3148.368220146317,9865.019104135712,2565.0966185371694,6897.116781654232,8147.953462478507,6109.480340341107,2471.8240070221354,6986.698911673642,4794.8022718416205],\"y\":[8123.429739878752,7187.520516381124,5929.027190360916,6880.5323427213,4136.351212701325,8940.635153716043,4616.041042347414,193.2311350137339,8576.518640521523,8308.512948425328,4039.5725122897206,7494.467946695548,179.7413343605714,3400.7815906589412,3392.332555239369,7027.234830955245,30.486061102185104,8821.990566963157,9878.161323697443,6204.296237024464,5386.507355683254,7688.956921171627,9310.211431941349,5143.997390673385,6983.827758188642,8777.093248758134,5452.696027528375,1800.6639769341625,5927.108441045195,8731.329583567102]}]},{\"name\":\"Frame 9\",\"data\":[{\"name\":\"Frame 9\",\"type\":\"scatter\",\"mode\":\"markers\",\"x\":[6501.277429379939,1579.3027626954704,1241.1525768323795,6201.062548827534,9099.135397515789,9529.389764788542,692.4935103155849,744.8987456782396,3850.1969952386726,2480.1136023853255,5585.714987421095,4399.780553194501,1417.9722764672908,1809.5144029888422,4897.3584791226585,7920.419477302961,4987.884724099141,4932.545410756458,5330.976479309277,6868.78242747154,3122.9461563793147,5048.1517467455915,1660.088913524781,4969.707088789193,6857.072606910854,4203.048975055515,6071.508414254291,3447.555399344745,6247.296994233843,4309.955685831961],\"y\":[6129.700273706171,5420.132349374084,4545.579108710636,4400.613504596007,8453.54659575265,3849.936056211297,2652.877681442599,99.01224415785448,9230.087064499632,39.12440253970861,2582.5905938000815,3067.802296528721,3285.513063030462,7203.419068568631,6287.433234425378,4010.972375767934,591.8937379077327,271.4888451688147,5393.268697923777,2708.4332505230236,2808.8155893001276,8730.188996890372,8135.363751758702,2513.234665620361,2742.3218691745055,4072.3562231408896,2106.9946020349207,4759.719568818334,6449.238679403775,7202.688963139707]}]},{\"name\":\"Frame 10\",\"data\":[{\"name\":\"Frame 10\",\"type\":\"scatter\",\"mode\":\"markers\",\"x\":[5307.278832852442,610.9944823249081,1123.1820557365336,4018.5734020411214,3414.5646267548877,4016.679011812264,1869.2364719496868,9306.537323114662,8213.661174142868,9656.968120644962,7007.507072262248,81.34971286125948,669.6472825494948,4016.626673115676,4641.442607660886,9543.60589725849,2267.9468142423075,6062.606916320168,2885.0362957302477,1942.9701078475214,9929.816269234343,6391.5632950256395,2363.7087356408747,6808.072162728395,3064.3377323771647,168.61322377548004,2386.885624075473,8240.388045938425,6132.47052840747,9696.272225701397],\"y\":[1535.9824724447224,1268.2557606060984,6475.658965420218,7032.5707805818,9319.71282784823,2618.5116095464023,5100.956214950704,5719.935623384001,8019.3399874333945,7687.0565639208935,7616.570806948344,3391.5006786816925,2879.694272048452,8975.99356046929,3576.1980404134574,3789.084573566669,4397.483507758872,3813.8010095841746,5117.451010346426,7557.158371971792,8616.62257505115,786.3395072378177,9969.159697297759,6069.694991055196,61.01779887085601,4980.314312435124,9654.25882598728,1501.8810776102544,7218.438981117065,1877.1457112490887]}]},{\"name\":\"Frame 11\",\"data\":[{\"name\":\"Frame 11\",\"type\":\"scatter\",\"mode\":\"markers\",\"x\":[1029.439401447937,9376.240322041001,2334.8173295029305,8534.027127141711,8179.690951630953,6892.800330088614,5686.513217154151,8550.278692335341,2125.315716709587,1495.5156748409638,9468.795867348997,4240.931817465069,7800.946664997102,9332.229865000249,7971.983045601952,5425.810619809636,1330.5582672289283,2533.0453630021043,8812.393418137499,9291.199804357833,5749.409460938961,7562.0447091319065,4643.464272447741,9892.522128097118,13.310380424328416,4289.88439160592,5993.090540680699,9040.271948654874,4387.561642608729,6889.860834246655],\"y\":[3656.4482651239005,2547.7836372670295,5122.362363820427,3177.6295212549467,3419.263236973038,7118.236047530192,2698.4425418041915,8594.829090516307,6794.693343452839,3509.630915393482,866.1232783405115,4679.450217058934,8927.692249711898,1040.3013888216628,8202.96316710187,9570.85627874457,8853.928513999217,6983.84380239178,9979.60566441662,9864.952360388363,7896.036613553539,1951.1866030657698,5750.388476507197,8965.06521469383,9138.176879571303,8968.84405577571,7274.735926390445,6966.687787427548,4640.587453145913,9636.228745687233]}]},{\"name\":\"Frame 12\",\"data\":[{\"name\":\"Frame 12\",\"type\":\"scatter\",\"mode\":\"markers\",\"x\":[2127.304171046315,1069.3068681742368,7339.015182574429,5481.221461500034,669.3028199077,3526.122010754383,1419.6107566640437,6432.031115784409,7930.374065129382,6222.535759655734,8368.080762766105,1184.7030527464963,7389.854140075859,7116.872070391897,5862.594447337396,6169.457222414698,648.2060476970908,3981.864155753312,3213.136055122254,805.3776345556007,5543.858003895641,5153.026945064484,145.71153643298751,6781.787138222142,5397.636489776366,5320.103638642915,5388.007049264713,8215.986657366417,3756.439644299983,6790.365375830393],\"y\":[7733.810731375954,7710.848196165616,2259.7452264982976,3107.608324159572,5046.705463630468,572.0966921046788,4067.003329282568,2428.2792859924275,6009.2482941280605,5743.929489161456,1660.9159610932588,2636.2344876170864,5332.048895164388,7382.961048108557,5781.058146559262,8820.218767045515,5607.873492081367,5414.298163369192,1744.2519092362863,6443.224390095731,8029.088772221699,6899.890778421387,472.55242436713974,300.47121040563064,9782.479126907547,2598.123314149756,4176.66115872864,192.83077787081714,8093.661936083921,4704.939260979441]}]},{\"name\":\"Frame 13\",\"data\":[{\"name\":\"Frame 13\",\"type\":\"scatter\",\"mode\":\"markers\",\"x\":[832.0370934663667,9135.083625638817,9614.031942311678,2440.6273380699927,7336.922829487324,8873.493498513088,9126.376647349995,1882.7179925208416,8555.964325571573,504.74467374247547,3390.9913413929216,5244.269730418934,8330.047689264627,5068.378820375119,4362.344893798564,2658.155606853311,8972.437208423798,127.43687180798658,977.0336732525586,6451.78236204583,7773.244831610086,3557.09699681402,246.97499973283522,3883.0106762552964,2598.7219336302514,5028.671399797518,6487.49133911563,9356.86398170024,3798.8081460027547,9006.408289335573],\"y\":[2168.1357428517135,1253.9517232584851,6325.835798791381,467.11887149049613,5094.820624845374,1675.3496249228529,4219.232324021026,6007.73097935335,4415.005308106369,9645.018801382337,9425.521382455418,8523.44753175714,2283.409968808351,9609.665283370592,8299.87533522755,3219.2641904511675,8933.91784920788,7437.274782156445,2074.9232481578993,6360.183210789988,6374.041156359076,5539.381951002736,2084.4757010261774,5870.5355490695065,9951.517932507064,7228.464506797432,6594.274928383163,4660.400187770846,7638.3182046401325,7970.680071563859]}]},{\"name\":\"Frame 14\",\"data\":[{\"name\":\"Frame 14\",\"type\":\"scatter\",\"mode\":\"markers\",\"x\":[3718.838445430426,3387.191348381675,4035.5395827198204,7805.488822289124,4092.9121721762685,9253.059902307303,9823.371884112421,4877.538131261295,7718.004085970683,1393.834698426164,7663.517448504328,4762.509499564341,1718.9249011081108,1432.805548529138,2407.1569501914782,4067.4572406368047,9622.20999882549,9852.731338917738,6869.747030880805,9647.497641472464,8207.757226305474,4982.029564684569,4404.652341084543,6704.534331943046,4986.95934096797,1596.1897153907955,6040.802312064046,20.034351167955712,7925.072218079691,403.0209355396008],\"y\":[3045.277168373316,2622.6963375651703,9152.507533965001,8010.431940359499,5429.92810022849,5303.181856539464,6099.190408336668,9368.011779111996,3141.834470070668,8561.908497338805,6738.082460795694,1128.7652948862637,9460.614459200518,5812.231551634664,438.4162586103213,4894.928123386363,5471.295925225266,2960.167744694412,2306.145772623529,3891.869178609549,389.66986804553903,4843.146778171451,6828.565969744736,5256.664717070949,4987.741213435881,3434.0966291592567,6142.013319533907,2833.0075361515906,4400.103385270932,6203.509266782248]}]},{\"name\":\"Frame 15\",\"data\":[{\"name\":\"Frame 15\",\"type\":\"scatter\",\"mode\":\"markers\",\"x\":[9306.00632121294,2131.6900466412912,2187.7608225068325,5580.945670408975,1594.1426237120747,9945.981891474417,9694.12821578151,2068.7831122743137,7001.520076765972,6003.798348993291,3448.6399364140243,4234.8222091031475,2920.4028013699844,2993.634645575772,8656.601798185951,8546.70944938376,3250.3078679175414,4318.819485816642,8659.63019515628,809.953277167832,5085.637608611868,6014.718290633932,8659.210265736667,8832.641754498429,4563.4412723941205,406.0986261337751,6966.6276292136745,2863.798094067903,9455.836197983219,4286.939972475603],\"y\":[8575.71441015836,6338.637845553812,9656.078563677684,3672.560253899766,3950.564230739835,4512.821064493385,1834.2214413291035,503.9962349120286,578.5679073741501,2679.1182820597046,1227.7546450212396,4077.165988416751,6059.829005518299,8833.739766415549,1784.5707782355069,1424.4083463929924,9287.218005344572,7895.905225805024,5690.0595497908635,6393.581554022164,617.029469582795,5883.057240315033,4687.080116231909,6749.974011099293,2838.40636206826,2805.452730797211,8537.0176920666,2268.864547472724,2220.406230781871,2467.693441066806]}]},{\"name\":\"Frame 16\",\"data\":[{\"name\":\"Frame 16\",\"type\":\"scatter\",\"mode\":\"markers\",\"x\":[472.0847734533129,4491.6434062317885,2948.7758381171016,5851.0830445242555,5553.477406478535,585.9839436409331,8860.214226890941,2299.5297081383615,5476.949703573439,9580.636018169855,3540.1027943998133,9343.039665578368,2556.8292942039607,9137.985893672436,3570.38184494188,7666.673739511185,6371.439640946069,4982.6089759721535,9997.462115137012,2469.1703241190066,8867.358518259343,3121.618022819712,9935.759183693217,6254.263171812851,7596.885056550731,7072.688959050027,3630.639067817937,959.0526418710555,2202.550533588501,8458.222982304347],\"y\":[2275.2737619626605,9247.616518668456,6264.453445092613,9529.182028270885,8409.101851138594,5784.373775490718,5190.657108714265,449.7160701265468,3821.2972606469784,9350.545471939422,957.839673184534,2503.771743688377,9540.84588795345,5778.379407698116,6198.839069716947,777.4581967148164,8715.543761819323,9851.641862712564,3385.68855974535,6326.018949581236,5965.421255548862,1557.199739224674,9671.195380021736,8351.836104608008,6141.808213629663,8371.348741853268,4329.059767758131,1499.9770917704614,1331.4598982057769,625.8709007123275]}]},{\"name\":\"Frame 17\",\"data\":[{\"name\":\"Frame 17\",\"type\":\"scatter\",\"mode\":\"markers\",\"x\":[3671.994465217695,2020.3640237890818,7415.857314253937,1422.632080735332,7829.2509352373,9250.73264810063,529.0102145638276,6051.858916071983,4829.415384733721,5642.1177032873475,9352.786386494961,8418.062328443926,61.28860300744443,9378.686101676922,1346.9942491440256,3588.902475769901,3375.11736729735,8536.314479127856,9732.155851891055,6256.120016384192,1838.4010044978295,4679.384155330751,3326.0997744079446,4633.984259252648,3474.9443434262826,6812.850840785355,3181.217225150903,8119.537701330023,6192.785329893368,3686.715711179137],\"y\":[8377.419437972576,4900.246543438631,6546.08098022177,3592.611081715683,8296.54290832287,2618.4905752003783,4977.979581038362,5997.285964535212,237.14903784130215,1188.659867911388,7755.971694591101,8625.358123592978,9324.371121127602,1911.447213033811,938.1557272531138,6933.777485250511,2327.6586648921207,1141.2596741787806,8398.313711244515,313.0204723545971,8219.980917414385,9936.495693174993,4189.642713837762,805.1167335657516,6095.247061850008,3358.763936464221,9341.43959040148,5646.18751326924,5406.406016466908,4385.953804429096]}]},{\"name\":\"Frame 18\",\"data\":[{\"name\":\"Frame 18\",\"type\":\"scatter\",\"mode\":\"markers\",\"x\":[4559.994468801553,4521.25004067338,4394.894949641335,7765.380964446992,3244.3969387904126,6061.623899380494,52.80277164788405,8557.079989808131,3729.91287520219,5820.35085382985,6992.325658700437,8603.623897190682,5736.044975707695,9728.619189348989,3192.7845068810902,1711.693816130907,3623.341525185738,2866.2629467731595,7753.690231736593,4941.9420372522945,8252.4721659472,3271.9805833190107,9503.033296629344,9077.520905467169,9991.03955255947,4473.998191533978,5593.185559048922,6077.981893426518,7728.054665871995,8439.484689315279],\"y\":[6062.502835477276,5124.073278355955,2632.9499443778113,2721.0948589945583,3748.918764089717,1720.2915828906284,835.4629981890605,1721.6016077196095,8912.524739576109,6245.879523248099,6204.674087065373,2202.6575029753826,4457.334372485,9331.27736338519,2969.9326038793993,7431.297804095793,738.1315535302946,1485.8747735274235,8053.365680958532,2687.8814894773086,8596.509957126376,3514.2313851198246,4673.108890594013,7251.739328056884,5490.905601233561,2431.7652790895895,2028.3561513185766,4435.8825553068955,2368.638357164934,4827.236527312808]}]},{\"name\":\"Frame 19\",\"data\":[{\"name\":\"Frame 19\",\"type\":\"scatter\",\"mode\":\"markers\",\"x\":[691.7801162881365,1759.698495681964,8273.671201065137,5918.17867142023,9711.822231006261,7928.6387045436295,5592.006708375403,7906.764354315721,9366.810888072581,1932.4855186707412,1307.3391604363194,5667.412548482983,3014.8134308062668,2278.859835187711,8672.78479478588,1283.7789852718572,2547.5877524094326,1146.2091663185724,9300.216972278793,1501.5953840854525,4583.944633667554,9070.596502266484,7826.935119709721,3775.1559832196735,8727.290774218043,673.1856338202458,40.09772628422614,7259.069631318904,4964.073391493254,890.399707965257],\"y\":[622.5583236619648,4833.234347502193,4594.301165408236,4186.303949816065,8529.43914582977,1047.811397268772,7962.268427344809,6306.846179798637,6412.985676744674,8736.307511643987,2695.061915144734,9278.162849857634,5483.9471790092975,3968.7000603646384,8158.387208060433,5556.239313754637,8730.929814291938,5002.87210110894,5403.697831575217,6502.789609375262,3514.873841071491,5941.446768642932,7007.569909716499,3692.2998708985965,9214.009094143412,9912.442364757133,7893.713511947941,8947.755986341796,6815.344854271682,9765.998096017458]}]},{\"name\":\"Frame 20\",\"data\":[{\"name\":\"Frame 20\",\"type\":\"scatter\",\"mode\":\"markers\",\"x\":[6479.96711939128,457.6584670143369,5131.9560737849015,6515.744340548287,5307.077066461657,7844.4996065464165,2671.02730397921,7052.225359452908,1683.0095642351039,8634.961932112858,5085.8224309868,3017.104300326873,1816.005654082158,2224.669443446117,5615.449951320761,2150.713415444879,6411.535348661237,5135.407591042719,9949.494178940186,1911.8394992659871,1772.7626673249463,3130.300223735495,7550.291860125297,2717.4584701260674,8071.086790457623,1582.5144872943963,8623.828977980707,4761.468680531573,5642.779569500298,5385.636273247728],\"y\":[9650.945794469131,8045.292223175044,919.6861526519162,3648.9491030056242,673.7272342317302,9989.550584261491,5916.417660344081,2438.4100068564117,4377.675546359656,8794.839719178915,9073.408843935076,904.2131816497034,418.45079891360217,3580.9660487758642,694.6773346067458,2278.3929692878855,8412.675363489796,4257.827556074022,3221.0600317146377,1431.0096417918628,9545.501927226,5067.454560816421,5144.172121180607,4941.029920425995,9843.344005584973,5785.552581030768,7493.271526969432,7968.097541156917,7818.372957788966,3682.2179370048234]}]},{\"name\":\"Frame 21\",\"data\":[{\"name\":\"Frame 21\",\"type\":\"scatter\",\"mode\":\"markers\",\"x\":[3516.676482948146,4603.966793967315,5412.089571395908,7515.32392361068,5431.330323900715,4837.44738552754,3948.480936171478,2066.404750032527,6928.562653274716,1784.288610944238,6152.9732290164575,8027.691700311415,6501.0508106740435,7413.512733605391,1201.6006982312456,7410.285723080554,4595.436010868991,3644.276314328806,2235.5070230043716,9067.274122740715,7097.003002822377,8392.427827732488,4809.104899847508,2411.9355686268905,8717.285237510025,2913.497935682441,335.91709473380973,9959.99537495959,2482.4102312150376,7618.943848843798],\"y\":[754.3292026362835,936.2311226108488,5709.45489771914,8435.043730616704,9356.186371870397,8859.548152904057,8610.028263633982,4728.917176332932,8004.368941561497,5756.979834501787,8974.75944159028,2843.7216626056947,2811.1857537177043,4455.890921745767,5269.317727240102,6365.162772742557,8757.625558537227,8264.990475898308,912.0433641306702,5384.02026421205,8704.212095156858,4278.594752676292,4505.224418674187,2224.483466258197,3777.4108415680353,2524.8987125950007,4356.507192877637,375.65756494710723,211.2377690972056,8227.852104655423]}]},{\"name\":\"Frame 22\",\"data\":[{\"name\":\"Frame 22\",\"type\":\"scatter\",\"mode\":\"markers\",\"x\":[753.8767613720964,6693.688325422853,2381.9237517497595,8563.560222306707,6147.106644846638,4334.523338344621,2994.19256885138,8465.956228626337,1640.5158164026057,5332.413506754315,9160.91227352025,2272.8234814467496,8016.341122803516,7256.830600753788,7463.5834009049095,9302.070637789535,884.9691180642538,7960.557354072269,1989.3311216747477,1809.4952756781347,2497.740903572723,6074.28696719221,6810.769474755674,3203.0942667004083,7259.980983834841,2608.1409695487414,8408.31139131986,2875.310834116732,4046.3682197991093,788.0993380729784],\"y\":[4130.201644043035,1563.438559032636,6047.710793427291,7085.409984096655,9943.748886461495,7759.721269376418,8067.642705462082,6289.6243847916585,4451.9412959619285,1366.5293338354688,1939.7147922720071,7430.986437430066,6432.829970115572,5528.310297841007,3049.8045439145794,5375.475402260898,4.769156815299658,1370.8431881219885,4825.71956141812,4995.885824858624,4928.803236258732,3239.6558280793865,3495.3289924953456,964.9026902442381,9530.197995089846,3953.2928502383033,2416.5033797260426,6421.21097786462,254.31055659568935,573.4432508880438]}]},{\"name\":\"Frame 23\",\"data\":[{\"name\":\"Frame 23\",\"type\":\"scatter\",\"mode\":\"markers\",\"x\":[3846.601971702429,8027.253933757536,4967.701303542,1242.7753396701191,6146.1959300237,3267.334333752292,6773.590794349446,2752.6475834993457,6101.171808586719,8227.331520872114,1331.4693339758965,6676.691163754736,9299.309967395646,552.3825710977449,3453.8680244174357,9142.595846293938,6311.888684998593,2796.4581110654685,8099.006875880237,5613.250865646519,8807.815922818085,5957.835985853012,6786.235689454725,7409.721683654985,7667.243974620059,1637.061655506593,2931.884525134837,1132.381102811585,4663.574922954129,3959.0532320713446],\"y\":[8636.352331023385,5622.823979831649,347.22198799092774,9168.594982217832,1048.9541831692761,3658.0409824643466,3391.4375485378514,1638.537005856925,8595.258164700828,7179.6433440947085,849.9781721065591,9922.598837820358,6072.345375661824,5534.761056739044,4528.327462945949,5439.750178918985,2900.6256795946183,5941.569482650379,5984.652782022846,9394.72491441548,666.5499274113829,4191.220397874666,1553.6171588797588,619.2968427464496,4498.758374033932,1459.2892337759279,9225.637423807233,8161.528125837925,7790.911507964854,23.670952456792406]}]},{\"name\":\"Frame 24\",\"data\":[{\"name\":\"Frame 24\",\"type\":\"scatter\",\"mode\":\"markers\",\"x\":[1216.1099628674353,7655.279483416618,1317.6492432632458,6672.19104035798,9623.602219672739,9769.842650176532,5885.830937393911,7632.023626419224,7702.941878502576,2369.646673548188,2321.4097781471687,2964.3355617912525,5968.599579023461,5406.552269397199,3812.9983278797486,1541.4076095289354,595.7142043794106,9022.34078777862,3416.3854865545586,9959.80678380836,1400.5537418588522,856.5707895622132,3869.9682404120304,42.015975446920706,8059.170880169876,8135.0621399328875,7779.266684774052,9940.255041831933,6162.45319585234,3756.840911812469],\"y\":[3699.386473569001,3280.050481698764,9207.731422296902,3302.456887595243,7677.510347111756,9267.446986971938,8691.553419918024,1654.166816066025,413.1835460978817,4232.576295967513,2095.192732096971,3748.5478589658783,7352.383176633527,1693.628769358857,7743.906087005569,3874.6933724536716,2752.0456509309142,3699.101435687856,6272.913692664307,1886.2131890224887,9034.939971569045,942.523651917494,747.5258297214938,2712.8412074747043,9600.47776982713,2942.6920198832017,1361.792186485281,7637.533484490564,6665.247226822714,2443.7690626733656]}]},{\"name\":\"Frame 25\",\"data\":[{\"name\":\"Frame 25\",\"type\":\"scatter\",\"mode\":\"markers\",\"x\":[6079.506603697672,1947.5146377128783,5677.768757699705,113.43610856789476,5583.348971596029,3772.8117340901645,4385.168950835015,6603.609455819044,9462.401509020048,3193.389835450591,7725.173160324848,9087.068048220039,695.2311031098901,9026.084671906221,9375.022774594176,8494.656471637563,7175.177434086133,3095.101803643208,7009.620692079107,1851.5679612923086,2276.446432121283,8244.936143343648,1104.4207253386073,1347.5295617605698,1274.0568175823696,6872.136407004477,6464.267168825587,8074.546137597857,6807.641794326755,1332.4233584046763],\"y\":[1567.6083296854015,3727.187452271231,4518.561394722797,6222.244770066246,3286.198195125015,7984.2258479515895,9491.73753795695,5238.930828580618,3573.611575847948,2776.7668148792854,5198.06642364401,2091.189790736323,311.5987303398604,7196.838435723254,9260.23212094733,5761.763542647753,6661.506964299895,8411.735612951767,4554.181226673315,5316.638727456392,1988.7019934758366,4623.24159897942,9910.486372203311,8410.29112292148,2711.1260391936767,5847.179206260338,1994.2678951263515,654.0130240941844,3268.8274785677186,7087.572707214002]}]},{\"name\":\"Frame 26\",\"data\":[{\"name\":\"Frame 26\",\"type\":\"scatter\",\"mode\":\"markers\",\"x\":[8819.303903602513,94.45757199647909,5819.507022187593,6341.025861664922,5791.409149473685,2192.109405177589,2235.823254087339,6790.753057233435,7178.115106921372,5894.466786905098,3513.4054625303293,8536.029530077121,9466.139662224248,666.3039271455473,9794.2247768723,251.65021833036815,8195.083532008832,7669.4564390649475,8868.177940667203,5283.319293637945,6545.251760859324,5677.150410520222,2236.4402531526416,9858.717575061622,2209.4402177492,3762.9768789530503,5603.349025583495,3330.327457494655,8892.9904887172,8322.189036494603],\"y\":[5009.278576970125,1664.9162061075551,163.3648466426796,1563.080138791102,725.1767897478622,5755.912619151233,6309.946035435752,2248.773329090389,8500.129357026706,5558.738729069182,9376.72145521406,7174.8393429637,1786.5268583537397,9535.48454887663,7594.962165637597,3635.7309338512687,9163.109348623331,6444.142410348598,8069.964367328398,8963.104120994742,8334.36843407661,3118.949076790468,5765.367539877959,3111.6706610573906,1805.4872604172501,7562.205880056811,7580.524541315796,4223.310768181902,9615.205924829534,1404.281235720679]}]},{\"name\":\"Frame 27\",\"data\":[{\"name\":\"Frame 27\",\"type\":\"scatter\",\"mode\":\"markers\",\"x\":[2630.8449057554053,5117.745914513915,1354.6989429789514,9587.323084088042,3717.9902843505342,738.1546113595628,3108.75671000839,7989.541651703073,416.25213125717653,2722.6903266607137,4926.266493498873,1630.745162520114,1203.3948346666746,7477.939823117224,960.1888962266114,7086.147187932158,628.7037252457361,8397.93549753868,7512.932464061106,2784.282917904488,7637.922455375425,1202.4189848211265,3881.230417594761,9976.20941842288,2864.229275849882,3760.6241996681233,7115.323378386515,5336.984362401716,5946.344869914075,8221.933096911998],\"y\":[4590.464151108601,3396.7530547796987,8749.31901628896,3792.331256054715,7634.452477863793,3297.5966545645506,6740.5046747808465,3075.667689587881,5363.11898659065,9733.625890675909,8712.668851074199,3541.3068689887373,346.37791342760795,2355.6287773696604,4548.152120661592,8384.83342266499,6760.670106138608,1407.915293166051,1782.4391499350133,7816.049912987346,7279.32459046885,9913.823001701483,4352.452121120132,2638.588392347483,7110.563106391401,4337.680048719505,1104.338673838866,6878.029620330104,2313.5864048767785,6324.851412383357]}]},{\"name\":\"Frame 28\",\"data\":[{\"name\":\"Frame 28\",\"type\":\"scatter\",\"mode\":\"markers\",\"x\":[7387.472871847162,5170.51001215844,4806.370524700447,7857.814008708424,375.8451837376664,3641.3630980316625,8324.517449927087,965.0488937207269,7634.967798738874,83.4330152106888,7998.696967138835,980.8504167438881,8891.877151147348,387.2647950218833,1188.9275165053803,9277.993561739357,2967.76497451509,3380.462562656855,8747.14281504631,7381.521946983166,5397.228046687827,5501.078264103696,3975.193670129751,9420.748796798154,7385.073859502879,59.97773889859226,1203.6415904556952,3987.8895826328644,3441.0757630448143,3239.703431732568],\"y\":[7137.3992784542215,9645.579577393068,3285.0253689406018,432.4361320278758,5897.479243465066,561.8475406612289,3428.8793190329247,2037.2323278910787,3033.8141353618885,49.95391607041988,5219.754302864501,7416.793811504867,4692.313496639399,151.824748019197,9066.976071773828,9356.605073492155,5590.029066986291,4827.643513876423,9078.33932136891,9074.350134946513,3485.500093895677,2800.488808784739,8395.192403232753,3595.0985560438453,8427.05441893892,3653.7357008599556,3142.9107679008885,3137.833409663935,2220.0435674145015,7390.267677617866]}]},{\"name\":\"Frame 29\",\"data\":[{\"name\":\"Frame 29\",\"type\":\"scatter\",\"mode\":\"markers\",\"x\":[2102.777755365808,6051.46130464269,7274.697821738137,3336.3684693753626,9963.241895909416,2793.538107421466,4279.4800405845,9009.50160995758,4322.97863090592,8462.50557941828,4990.533390432228,3368.0013382546113,495.1308957834899,5474.325709247678,9836.009158981904,1722.037549610108,3601.560422383114,4116.970111990252,4.773210557725838,1509.0370583452084,4447.892779172149,8921.302188451245,222.185275094805,9123.078449653865,4234.594207947567,3054.4674177867214,1511.3554270940754,8036.60116053617,3286.267996080139,1271.98636934035],\"y\":[2896.4790928357843,7564.098867746634,670.8167491201611,4357.323379838376,7225.5595650383675,9791.297560518096,4832.062893024508,4432.777773955936,9073.026081534334,9429.642088475248,173.88000947515246,1043.1289108558772,2028.4642178250856,7654.7493820680165,910.8349226161383,2493.5402059742682,8585.870555772766,6348.808400199691,1439.7989509202946,5565.8077424203075,8318.556316604261,3590.7386682508977,1988.933466020567,9442.112291792317,9058.018974042208,4724.248661444842,9364.914150096447,6433.021265681418,1390.808383201707,5882.757048054897]}]},{\"name\":\"Frame 30\",\"data\":[{\"name\":\"Frame 30\",\"type\":\"scatter\",\"mode\":\"markers\",\"x\":[5246.209551191128,2936.555043969529,8945.617983599135,8461.476286064635,8659.677768044601,8947.716037015292,5663.531862187615,3700.780059276805,5029.708085043584,3392.955192125905,6527.562941389363,6281.306492319655,1503.5775530172025,5581.630775216913,73.3222643249376,4630.077567703769,7133.652529704014,146.58846051127773,9410.857132285773,3498.240936981941,6936.512848505535,3988.5734555682084,3458.408165631569,1294.8730579135338,851.0369075978408,8944.262654932802,1622.0279360473312,647.6048659744615,2181.930208308479,3165.280931514509],\"y\":[3250.7153984851743,5709.664012221914,5242.137673214953,7525.648091016799,7854.917556542427,3844.253338037128,8597.037135568577,767.6748930396815,3296.9591495569516,2491.0154825474506,8565.254152336916,8551.41157570751,6945.155831242834,4255.656558653233,7445.401771118133,7090.325325874138,9129.078057717988,4562.640338320658,2314.996270543135,1635.962889589193,9141.63131892099,6572.177229943698,3187.253099253562,3716.934610073751,1504.3204190012893,7486.5777736672135,3813.425962101953,8742.629013358619,4245.2728774226725,8857.353157512647]}]},{\"name\":\"Frame 31\",\"data\":[{\"name\":\"Frame 31\",\"type\":\"scatter\",\"mode\":\"markers\",\"x\":[4482.794339158104,7349.6543906793295,1535.2969642921644,1053.2834824866522,3799.370459522939,9699.06795176088,185.4515964542558,8660.99824346915,5603.840886341468,1825.0488805353625,3230.312030463596,9263.442712126898,7961.213482347297,7090.732704449781,4104.317457925025,2777.931306812512,3449.0964408919976,3824.5147163208894,1764.2848339144634,2334.319678782012,3858.4836430397286,2290.201483916601,519.3851336378618,535.1493621788461,7858.37965548538,286.97199644669655,8300.574529872361,6863.456417958626,7177.546908122587,6880.1834633498975],\"y\":[3634.6765128404445,2990.253829560839,5421.111736195871,8031.639378586537,4684.021138947947,2782.5316474120145,3766.719675700799,6228.0139939017035,3370.7375731799616,2923.945933469394,9474.381873908196,8598.702575584302,3825.515204738694,8234.193386449522,6396.11176620999,4469.451777972441,7183.837858125695,3009.400583712948,1485.8977356264324,3815.693076312615,4098.406848358641,6004.679112751967,7687.515664018893,2659.590522379628,2244.6690568154036,2041.3338786760416,1517.1385640303315,97.38486560280757,8567.069691395245,7645.032208721724]}]},{\"name\":\"Frame 32\",\"data\":[{\"name\":\"Frame 32\",\"type\":\"scatter\",\"mode\":\"markers\",\"x\":[3159.649146050099,4348.696291423966,5046.852066976958,1607.5743428368194,7962.0189341392,1987.0270874088524,2367.9303876757417,3913.7319802809943,834.0690506605131,5340.785095374673,8015.565535108259,8085.951921817938,9256.379001800293,7946.720052796201,4063.2746904899377,2673.5454785883294,6347.066377683656,6892.753051974706,5186.610097444287,7349.317454413767,2753.611751553429,3904.749482180021,9288.147128645347,7875.4157998937,5012.854139881656,4111.8679195407185,1526.2196022607932,2061.503888173556,8461.740768908787,2567.6925673857],\"y\":[7510.651865240348,5762.2003839124,4783.362552551605,3809.4405232402573,2961.930780328628,3947.0423305124614,7837.261354269594,9005.105453043889,5225.970545932552,6925.068845037472,6549.953205051576,8568.483904545581,6694.825996829509,5917.445617540433,331.05485275215506,5514.606840480022,1404.4074673028795,5345.374825346413,732.3643422993431,6283.174021580843,3863.4609240762497,1436.87256708666,2881.6926679194366,1275.1711134067168,3513.776307470627,8054.8141604366765,1600.1998685846008,6927.92601434388,9129.788117563752,1009.9828413947454]}]},{\"name\":\"Frame 33\",\"data\":[{\"name\":\"Frame 33\",\"type\":\"scatter\",\"mode\":\"markers\",\"x\":[51.44005719806777,4796.438312504177,4936.440612205159,1546.6818353889655,3272.275915381261,813.8947216187709,4257.390495362167,8174.798789715971,5000.271930164047,9671.86098921374,7101.318925928233,3571.0403944218583,3839.1343817509537,5090.718455449408,5252.33786404688,9883.38278066552,3993.2136531934216,6643.49459527745,2151.1681764629166,1446.6104188916117,6554.04034376237,7751.309877112815,5136.976691380657,8653.145724016755,9636.321540354844,7486.245850413336,4465.460300742431,522.1990899619655,9537.771623930468,897.514843107653],\"y\":[6926.96813158772,6371.597303455148,536.6110421512805,8719.3922266644,1859.1583442600822,8920.476034987463,7942.51480939699,7524.445970823056,3881.883832882844,2137.3516083102763,7581.248727598065,5653.183937072955,9777.711864351015,7196.911356348021,5020.1815977917495,8581.306502491023,6599.676693763642,9020.199058316444,9531.319871040689,9778.342833817005,4308.578540639185,4046.685861342164,1040.4558106884087,9566.515165895213,9025.333192002656,7123.060470088729,3125.483641380219,5006.265803664215,2329.588022944197,1692.3890624288551]}]},{\"name\":\"Frame 34\",\"data\":[{\"name\":\"Frame 34\",\"type\":\"scatter\",\"mode\":\"markers\",\"x\":[1503.8832399606906,8414.945598782611,7944.024080318427,2828.630061545706,5388.826885545811,767.7541439317448,9614.457229661388,7085.314295873115,8595.319956864952,8935.09274908448,3029.066256644045,6613.527489796569,8342.233495771257,2478.0698757907185,215.77335042721523,7553.166751602801,2323.0484924402485,6553.978402282687,7015.002842711749,4312.762962009099,8807.57595667248,2376.142340748796,2945.7544366355723,2026.9930917794354,288.87535838345246,5627.608024510473,8066.121952970127,9217.335887305206,8504.046732235134,6245.731029038602],\"y\":[3275.1006298674647,1480.148674407905,7534.522371728578,74.79308438047339,8910.71962293055,4887.773865915336,2130.938994435696,4026.357480426831,1470.2488175260742,4712.112624109844,409.6253269936922,1592.1481364026258,9811.423728174881,1066.4268957030065,3632.1901067742356,4821.8228605020495,289.34309518739656,8109.964754728743,906.6513615374915,2208.0792876763967,4941.889653033326,7571.3291802262265,3338.000419180318,9314.119806125069,8057.2341974875235,520.3358524903357,408.04624810891534,433.5729581909043,4240.1807403683815,3554.441257778668]}]},{\"name\":\"Frame 35\",\"data\":[{\"name\":\"Frame 35\",\"type\":\"scatter\",\"mode\":\"markers\",\"x\":[1178.8395209715109,5090.551194292186,5439.818414411592,6864.642865694654,4290.928250244103,2767.5993957490055,5309.144654002747,2007.083717990279,3667.1530298665875,2891.8713571351295,6738.030868439006,6630.42520352912,1334.6361237095816,4814.943655645042,2434.1014419419994,1895.3754489476148,4842.08169120389,4289.259640593201,9021.804488973828,5871.589890182967,4376.447080082133,8774.273812246522,2288.151526203449,2808.4913321980553,3872.5063869075593,3797.9383277085244,4924.30739884659,3850.3817023465103,1160.776542495141,6554.263508451982],\"y\":[8395.419332896177,9502.547634732435,4513.729710765023,935.2498159689393,7416.769676787336,7953.888792990421,6827.170815776112,275.57689654178597,8922.544588159786,6222.93008981604,4113.108529122317,231.00499514363992,7384.2163084755275,3017.897023782072,1982.4071087083817,4416.531064737328,4868.731554683008,3187.878056663117,2359.9497481825306,9697.911829077377,7322.412894224072,3690.905818714094,2802.0121051474844,6360.247802781509,8224.671587170984,116.1356530055202,2474.979460183049,769.9027189051211,6976.34219250176,971.1168986570696]}]},{\"name\":\"Frame 36\",\"data\":[{\"name\":\"Frame 36\",\"type\":\"scatter\",\"mode\":\"markers\",\"x\":[2106.5119571032997,4601.106150071457,2170.6493559881646,4181.481685928718,34.7017874561828,5216.167788507814,9240.518886915272,6549.21027403343,2857.72675916359,6368.311081429243,7884.148340863063,2276.952776798663,7125.956777085002,7038.709316909843,7141.461028384082,1089.7180357605973,8020.420067690044,8924.387166338356,5027.261846062474,9971.57187818177,2025.991504490593,9861.229152304659,5222.62352847262,5083.808757038538,3234.6189828540637,1296.4123332142708,5484.230577845235,2042.393672855095,7103.355452296086,2817.1617247059353],\"y\":[1152.1137202349719,3406.297590983918,1243.9154314492052,5697.803033228462,2419.411470981219,1964.6789783031281,134.9352913791668,444.66486443975,5873.494288030678,7209.689735785413,9525.05962369333,398.46422162066466,9225.995303372745,243.01344659440448,6734.438118801631,4596.381416004194,3119.991571010117,9288.074811073977,5064.1629529741385,8301.11537651294,5435.78307547632,3966.179330273102,4087.638205021911,8871.783034948034,1612.4199806519046,1543.6810837812964,2724.8166178853407,7981.606494700977,9160.335042777431,2468.59523162976]}]},{\"name\":\"Frame 37\",\"data\":[{\"name\":\"Frame 37\",\"type\":\"scatter\",\"mode\":\"markers\",\"x\":[8689.699210805566,8579.911317963199,5761.133011964379,5688.904479477058,6153.444204082628,6451.035060918751,8133.803793626568,6481.1370018288635,3279.883275455153,1740.3244500930693,3192.3164316109765,816.6216899872613,2667.1977090563546,5397.478004557828,3927.765186183433,654.1488212987679,668.9612464544847,9130.066679919713,9918.934495100631,3971.604473952579,6069.7075732520725,5165.1497148432,6408.357568202019,1835.4605335881013,4654.634185549958,3884.4693281726704,6476.641870576531,2355.843194530315,3840.00640793125,3228.800500975962],\"y\":[8006.044061978991,7986.222126739311,720.2825820323477,3659.5975858844067,844.9735369547074,8300.594828253794,7639.929160093695,6421.165003622839,9868.309902819992,5117.36823063381,1712.3502044921202,864.1556073311407,6474.126153509652,637.9663949791692,8585.310373429485,8671.276657896362,4465.604770468891,2129.5241949116494,6191.680139398685,8968.66303629706,6237.6430941526005,8604.848521392849,1226.2876186154315,8511.457490688306,1720.8472427552367,5939.168329553721,9654.113598561195,5399.711373081322,5631.313141726852,6912.008225364368]}]},{\"name\":\"Frame 38\",\"data\":[{\"name\":\"Frame 38\",\"type\":\"scatter\",\"mode\":\"markers\",\"x\":[2682.021544628468,3110.7986819479415,8232.799597271389,1773.8609041539078,1315.6621147813219,4027.1199518025624,1038.6004744895515,3111.1566021933854,5875.150937616734,8092.940800238658,1663.627184608144,6019.3524763124615,1657.5695937143153,2751.7970296938975,1382.9130343778872,892.8025116924076,8311.28884315819,4895.970706786466,4860.956931953844,1501.3851999160565,8426.573574650043,4202.12255419349,3987.0262386768886,5447.704445381023,348.8761267907781,9932.243218790047,6784.742122534229,7584.999311206755,1285.6791134922807,46.66339943584563],\"y\":[7959.970540297073,9524.73338636678,9404.704712625846,2305.942961583943,9809.252107517332,9974.156133725362,7810.757248351191,1931.0348812341415,931.6985316804361,1317.9607038336749,9040.420392923752,9346.198598243887,5470.49506443617,7594.491960699793,6028.283174660757,4546.719267652925,7455.842854257837,7815.780094917229,4375.322291320744,1713.5594273020195,3229.3880629109563,6442.013336400021,1189.522290440016,8839.656062836946,9900.876808680208,9744.879627543924,7770.765668836367,2337.650336957098,9320.987692624225,2780.5480205244694]}]},{\"name\":\"Frame 39\",\"data\":[{\"name\":\"Frame 39\",\"type\":\"scatter\",\"mode\":\"markers\",\"x\":[6976.480505208576,5866.41366360841,5149.9913864381915,6741.874908670737,1231.4862729375964,5943.816075022942,5260.090969476425,570.7629767032596,3834.9292828552316,4305.758135073862,2930.0003945752383,3885.414737636714,4469.155079457308,8426.565831111198,8073.522233566938,513.5621045612515,9629.81801217406,7133.428779258777,4089.5861275100765,3221.574068858494,73.47663575429931,7827.633933169048,6829.416723503603,590.676621048224,318.3866340584107,5467.935423447276,9647.198822295486,6415.34512204105,9736.143654708567,1176.465792222835],\"y\":[2533.813634959248,485.26013992685967,836.2920876426416,95.18717675076837,3928.921531765448,7161.039899513625,7972.962781572597,3950.943779861097,964.8709126002186,4765.30128062011,8892.058300632383,3679.768252135227,7616.614024426621,4484.415619414411,2289.458297313691,1416.164481987997,515.0161479273607,2212.6666748724288,6865.1651487582985,9170.670229901878,9026.64622795912,569.3371438977767,1235.2729272990448,3599.081193816762,9611.341436311879,1180.5842967000413,9503.086184099942,2409.2968813916227,4439.536389804477,9241.787538558607]}]},{\"name\":\"Frame 40\",\"data\":[{\"name\":\"Frame 40\",\"type\":\"scatter\",\"mode\":\"markers\",\"x\":[4292.67304049922,8156.8225780934745,784.5615576555253,3362.384975973747,7612.591376778556,9447.549364286098,800.8039501651376,3744.039873672045,44.47405530047743,7896.498892829239,956.8414713123985,854.3080723016739,440.6223600854253,1583.8097709207766,6613.351779352699,4931.8031170767445,1566.6962428280374,2204.313639571027,18.81003101021017,3895.189244061318,1940.0578391549207,3624.6301704308057,9341.687849315065,3527.1530686315778,491.2653282604129,4141.786152530537,2266.0689651463395,9165.839492997937,8615.676727754675,3379.943859546286],\"y\":[148.3019598552171,2560.0626016841843,3684.068900600772,7466.902160037511,7765.513506655883,1030.9293214192749,9145.636300772994,2899.608868584087,9282.506620796257,8631.34402412647,8983.682807868028,338.0046186652097,3221.773941344468,606.1906841766273,8473.774640609481,4459.096637656829,7942.057636099663,3129.812832586445,8946.077132563312,4958.233879373209,4414.091702168177,33.74781574733476,1568.0489281019027,6802.140305488673,4927.864161743642,7036.489472127611,4040.6186810893605,4918.335073950698,4773.942482103034,1848.392073300349]}]},{\"name\":\"Frame 41\",\"data\":[{\"name\":\"Frame 41\",\"type\":\"scatter\",\"mode\":\"markers\",\"x\":[4540.4284674442715,9648.151130015975,8912.103559851092,5448.649045557544,9242.676676252024,4495.639173402234,7173.719918580592,5817.610162426438,3323.5449805266294,6972.220388888909,9640.05044834506,456.53208294399116,468.1511942246319,6667.036426122969,8496.790012452077,8138.179917839147,2599.4219658779407,2065.5144594882436,3885.9360881850403,3505.5292211665633,9795.229023447684,9093.749000034368,9059.231101056334,372.14680552422163,175.5905005199887,9883.879457997871,4483.145942840103,876.6516375036704,918.6874554200608,9835.718779812603],\"y\":[1453.5696228598372,8004.992412917183,4503.905009769202,4692.466638920184,3249.073563708942,8418.100608623372,8782.051206394859,7053.422880327685,5884.827610831107,1008.8077210577106,5537.371822218133,3514.188601581393,1124.9379655905689,4160.747517437176,9832.920074209647,9454.926494432024,1569.1902893726306,1293.283393875989,1620.3036624045087,8389.824285042198,1350.8795911777283,9950.338647760955,1846.7775211532,6745.989734035827,6265.608743397166,4427.330400100363,7607.109992673136,2957.5785511299823,3996.649106728302,5729.234524620044]}]},{\"name\":\"Frame 42\",\"data\":[{\"name\":\"Frame 42\",\"type\":\"scatter\",\"mode\":\"markers\",\"x\":[4764.593838290827,1841.0363689744458,8510.65043021406,5514.143575470443,1905.0401565346642,1359.9151565718205,2668.197049835214,2600.4994067414223,6489.534007644532,9092.80134612253,9626.90810696994,1602.5189820534301,2636.1876704045962,9985.470776589584,6710.480434095266,3307.1507635758444,88.08697238815722,5298.466110847183,5075.281657942913,5517.238491911659,5614.068220183975,5053.865826198426,4726.797386335448,1259.3830767941038,1340.924568808628,2740.0971976446654,7221.4445120217315,8491.33640072684,9330.089767848947,1551.2220512498986],\"y\":[7734.963164482335,1742.5775122338594,8088.804520513429,6017.197335570246,4086.806079931039,1483.055463658739,4645.217564250058,1524.2016668854951,2780.6393022853626,1438.910237619261,5318.831336570901,6929.184311788333,1154.2855523186079,7560.310213781798,9382.15597506134,2240.3797290754355,328.1273663344719,4895.372496651736,2436.3836281048066,4165.609148532502,5799.206029574116,235.46562592968502,513.3532688413467,7222.760121065914,1248.9430203905915,9071.012309067744,1668.0257828490996,7061.92578206445,6415.623951966323,5133.248315739049]}]},{\"name\":\"Frame 43\",\"data\":[{\"name\":\"Frame 43\",\"type\":\"scatter\",\"mode\":\"markers\",\"x\":[9140.144941152663,5666.251832298629,1728.479125754644,9596.215601127637,9040.710947562391,5178.625363543468,808.4061537294851,4874.597070123747,5958.34731163749,8243.914496015508,6911.074094234206,4876.832091277257,1882.593183302258,7961.5461037967325,921.3651138433021,9559.270718534672,7405.612572153311,9810.787255409236,6603.7935518812255,6675.966194138024,9290.754625871816,1241.174389605232,3471.767930886878,7730.021258823587,5185.86156772037,2013.1129792705483,8859.242796658635,8306.238193061326,4511.16931623477,9828.74563480402],\"y\":[8561.528328112327,5201.1495765137815,4366.101241554044,1310.7704813825737,9757.717735680248,4065.3339327462136,676.2058824268869,7966.960966340652,835.3971416126593,1634.2505537088937,7740.944739567368,420.727584177053,209.01230672240922,6047.65178392907,3844.9902162194826,1893.129326177575,256.4608212470243,7243.96557699499,6660.142819250357,3689.3271593621034,3094.1877599718027,6964.861629871407,9791.935466963452,1272.550120606859,2069.2631736805147,4516.550656177519,1014.4407585152437,9401.217868449228,6567.623518341407,108.18634028799235]}]},{\"name\":\"Frame 44\",\"data\":[{\"name\":\"Frame 44\",\"type\":\"scatter\",\"mode\":\"markers\",\"x\":[3488.753566829483,8759.947115450137,8020.862186881585,2324.075108470197,3575.0732092103976,4532.743896557629,1839.65745101064,85.22070595883058,2725.2614958316713,9446.765057927609,3410.1312794756545,2317.063117796796,6382.209328246909,9957.604880882905,6260.1290945397495,464.09792713824174,9814.293148088891,4452.147099743831,7035.623892349465,9978.389175015147,9377.660109499935,6612.598613574612,5023.140287231237,6957.818554498715,7826.030380240178,5415.396083018024,3612.30696610869,5221.241720381098,3977.160770969456,5631.259583054933],\"y\":[7313.341610187771,7281.550709124072,297.0656680904049,9147.742159449177,727.4802101266031,9913.96636659078,6777.542430042499,7953.204964947491,5214.062751523837,1315.7196840393003,5859.508834815405,4201.222263035304,4906.193188791409,2214.601310085361,1094.1015254989584,1417.0023932472054,6197.593324535469,7707.692848065144,1735.449904273806,3612.4869776971545,3856.4707976965497,97.91772456698489,6523.483826806247,5844.368664208639,2517.9315857330307,5544.878327013843,2542.0909152837644,579.346802130849,4464.661018026726,8957.777818915847]}]},{\"name\":\"Frame 45\",\"data\":[{\"name\":\"Frame 45\",\"type\":\"scatter\",\"mode\":\"markers\",\"x\":[9227.392755943627,9123.516460298588,3326.309893221392,2232.045841705703,3352.8591229408767,6327.8695534436565,8611.217384529116,667.6232789513303,8132.435956575026,9799.456384045183,7829.812041652465,1205.684080003573,8459.814497341265,1927.8430725657524,1377.2296827934726,3981.9034224658635,4741.421549444694,4179.072059681503,313.39436897250715,5618.206335106156,9782.66431831516,8314.413706393447,8712.011511434503,8661.262567002768,6751.417636285525,8458.77626296825,345.62048127692924,6624.818861803061,1369.6936787156399,1273.7148041625724],\"y\":[4132.063067777589,8204.290798906171,8173.885522538875,8882.564421483157,3988.426333872398,7405.860181159628,8935.931921931025,650.2957775132834,6521.715929996101,8568.656972561943,1152.2034249253898,5438.273371255872,4331.226483434447,6557.428840072479,5883.859728346253,5534.167675378528,3605.7760336329934,2764.4329712351855,7171.88748338116,7099.864021715965,2169.671171308828,6983.108824739309,9751.973523660481,9685.272321384542,8164.477203390381,3702.423811592268,7858.8273649393695,9123.534399222513,149.37153484993138,8919.606334687762]}]},{\"name\":\"Frame 46\",\"data\":[{\"name\":\"Frame 46\",\"type\":\"scatter\",\"mode\":\"markers\",\"x\":[5536.51870381458,3953.1940196336745,6561.054360068226,180.31388991159525,8060.8455887517475,5405.479262451309,6194.902681350306,8229.109277075286,4831.70574173254,4949.920355017274,1652.253010366752,3389.4444736118166,6407.896444219649,1409.107602785492,4544.396780554006,3591.1850505499433,2233.717913915666,1733.4693802953616,4652.086151090506,3825.0319165377546,1046.213258900084,5669.531019236057,5210.039710103905,8727.024625622824,2953.827021773523,4760.191727747628,3019.1488624751573,982.6429682314608,741.7195156274447,383.133908508968],\"y\":[5184.784527502766,8288.848714359452,8085.927559364079,3863.5626279524827,3937.8074591220125,723.7356870532219,4048.0139911266047,4090.0409184369314,7215.592099188579,8547.288879218193,6473.802498677354,4517.277067364445,5463.570269511698,7693.080017699922,1734.2459370987683,1957.2902957125937,4463.512681844602,6509.551550733471,4623.433006780147,4140.457181287963,9902.958775227118,2670.8730249907,168.18697428284457,1670.530289774723,1870.9218412826233,3601.183838842057,8605.664446392286,2702.78667853986,6498.185361293281,7242.356213450598]}]},{\"name\":\"Frame 47\",\"data\":[{\"name\":\"Frame 47\",\"type\":\"scatter\",\"mode\":\"markers\",\"x\":[5849.8189242234075,5442.046573231914,7556.2210022470335,2544.2496290908643,4394.541197729414,4387.38608826427,2986.954993153794,667.7519362188833,3790.745217823479,1142.934934948936,56.31638700725139,8564.72791948462,5586.623323735011,9569.238335280057,8107.700871487723,6335.329824585614,4934.7401135242035,8067.23428423181,9737.190137858968,8561.948818251725,9946.597542030797,8866.97880695358,9620.566984544042,7680.414057701262,314.7483560786435,5335.827591220036,5192.872836547581,4372.877593664793,8724.49321602832,3525.862472714866],\"y\":[4914.450961958679,5953.147246640329,2141.64719908179,3447.927813578794,7953.133227391045,8764.060184537428,5189.818287222427,8889.720505576495,3770.4173930165307,4717.820336753454,4520.084688822706,1987.9574031750246,1320.1962197606854,5284.041978143999,1327.926978696481,219.7174021513715,5351.7977700382835,8466.583929959941,8986.703673929314,8995.638070301191,1654.7999848081763,5609.072593631763,4143.93113712204,2617.7241052666823,3991.2859532557086,5230.3500583861505,2566.0681950865574,7.099324624796344,2931.9095550907305,514.9094462475534]}]},{\"name\":\"Frame 48\",\"data\":[{\"name\":\"Frame 48\",\"type\":\"scatter\",\"mode\":\"markers\",\"x\":[5519.467266800245,9312.117008083154,845.3444982914016,5569.700630565563,8539.60104874618,7274.820011735901,7886.3927500937225,3107.5332029773995,2067.633283696001,5063.815438090499,986.2311151356873,2828.6119541349876,2622.847167452137,2174.2168033945195,1568.9769538898845,5445.586042276183,3931.4071175180075,3950.3723427654722,8001.961866335321,2033.809991620784,9746.374516426262,6304.689464507588,5632.795920695545,2187.3457539798637,3970.8579860460914,3285.9289126183876,674.5204477925382,7322.567168859914,9135.625286393077,9292.936631419985],\"y\":[4170.838950581158,7395.048752745742,1284.4649284504583,7934.844212629937,8806.626360092989,281.75576517868393,7885.029752840637,3806.35602236862,4424.61749705529,3129.375860677198,5509.855135437875,1776.817635855753,7767.376603673303,4080.9657991475965,5721.69520916725,784.3373757602079,8184.359090087674,966.9080465196633,849.271224045559,5581.309066218693,3827.0708000204168,782.5060898196357,6153.983014463203,395.26673098756015,2201.0425187034475,73.37275711262525,1265.0851358183934,3049.076128888167,4851.533701661139,1711.094991660106]}]},{\"name\":\"Frame 49\",\"data\":[{\"name\":\"Frame 49\",\"type\":\"scatter\",\"mode\":\"markers\",\"x\":[1700.2848967786688,6727.048335788237,8430.585721336092,7965.485122757993,790.6672846496176,9278.63721506261,3426.2478988605203,3266.0579184534354,3393.313564283671,6718.961826284891,7430.500402576977,2594.202362509622,5401.924088166425,8415.473624584152,1980.6071840146321,3058.8407620982425,7255.216455491276,6342.66297536793,729.324153956814,6882.201407991405,5394.818096876084,9741.783611020892,1982.6059893595161,3758.654160907721,2938.828947548623,9540.14409093791,489.1435758562546,9348.39203677843,9714.181545274023,3964.6013001168044],\"y\":[1774.2755824993405,4529.060480041474,2230.3771203656406,7926.463626266972,7281.521189837701,6952.279631767946,6179.135825495947,3960.091105576329,118.17803953296679,2438.313764820056,7608.942297766741,1765.059817398027,9297.138073873639,8790.988441964319,4050.431209488341,6731.832475728786,5025.275758333519,8726.26967044897,3558.002753347561,5223.459027428119,8809.464041188094,1781.7583435176487,7885.016712576169,5840.906116580357,9934.481645801505,7310.673170211796,5824.361449460783,1417.193091054002,4212.769455854884,1962.7285841434039]}]}]\n",
       "var labels_Pnc6ItoFkR = [\"Frame 0\",\"Frame 1\",\"Frame 2\",\"Frame 3\",\"Frame 4\",\"Frame 5\",\"Frame 6\",\"Frame 7\",\"Frame 8\",\"Frame 9\",\"Frame 10\",\"Frame 11\",\"Frame 12\",\"Frame 13\",\"Frame 14\",\"Frame 15\",\"Frame 16\",\"Frame 17\",\"Frame 18\",\"Frame 19\",\"Frame 20\",\"Frame 21\",\"Frame 22\",\"Frame 23\",\"Frame 24\",\"Frame 25\",\"Frame 26\",\"Frame 27\",\"Frame 28\",\"Frame 29\",\"Frame 30\",\"Frame 31\",\"Frame 32\",\"Frame 33\",\"Frame 34\",\"Frame 35\",\"Frame 36\",\"Frame 37\",\"Frame 38\",\"Frame 39\",\"Frame 40\",\"Frame 41\",\"Frame 42\",\"Frame 43\",\"Frame 44\",\"Frame 45\",\"Frame 46\",\"Frame 47\",\"Frame 48\",\"Frame 49\"]\n",
       "var duration_Pnc6ItoFkR = 100\n",
       "var config_Pnc6ItoFkR = {\"responsive\":true,\"scrollZoom\":true,\"displaylogo\":false}\n",
       "\n",
       "var animation_settings_Pnc6ItoFkR = {\n",
       "    mode: \"immediate\",\n",
       "    direction: {},\n",
       "    fromcurrent: true,\n",
       "    frame: [\n",
       "      {duration: duration_Pnc6ItoFkR},\n",
       "      {duration: duration_Pnc6ItoFkR},\n",
       "      {redraw: true}\n",
       "    ],\n",
       "    transition: [\n",
       "      {duration: duration_Pnc6ItoFkR, easing: 'cubic-in-out'},\n",
       "      {duration: duration_Pnc6ItoFkR, easing: 'cubic-in-out'},\n",
       "    ],\n",
       "    ordering: \"layout first\"\n",
       "}\n",
       "\n",
       "var slider_Pnc6ItoFkR = document.createElement(\"input\")\n",
       "var play_Pnc6ItoFkR = document.getElementById(\"play_Pnc6ItoFkR\")\n",
       "var pause_Pnc6ItoFkR = document.getElementById(\"pause_Pnc6ItoFkR\")\n",
       "slider_Pnc6ItoFkR.id = \"slider_Pnc6ItoFkR\"\n",
       "slider_Pnc6ItoFkR.type = \"range\"\n",
       "slider_Pnc6ItoFkR.min = 0\n",
       "slider_Pnc6ItoFkR.max = frames_Pnc6ItoFkR.length - 1\n",
       "slider_Pnc6ItoFkR.value = 0\n",
       "document.getElementById(\"sliderContainer_Pnc6ItoFkR\").appendChild(slider_Pnc6ItoFkR);\n",
       "\n",
       "Plotly.newPlot(graph_Pnc6ItoFkR, traces_Pnc6ItoFkR, layout_Pnc6ItoFkR, config_Pnc6ItoFkR)\n",
       ".then(function () { Plotly.addFrames(graph_Pnc6ItoFkR, frames_Pnc6ItoFkR) })\n",
       "\n",
       "var trigger_Pnc6ItoFkR = true\n",
       "var reset_count_Pnc6ItoFkR = false\n",
       "\n",
       "play_Pnc6ItoFkR.addEventListener('click', async function() {\n",
       "   trigger_Pnc6ItoFkR = true\n",
       "   if (reset_count_Pnc6ItoFkR) {\n",
       "      slider_Pnc6ItoFkR.value = 0\n",
       "      reset_count_Pnc6ItoFkR = false\n",
       "   }\n",
       "\n",
       "  const start_index = slider_Pnc6ItoFkR.value == labels_Pnc6ItoFkR.length - 1 ? 0 : slider_Pnc6ItoFkR.value\n",
       "  const end_index = labels_Pnc6ItoFkR.length\n",
       "  await Plotly.animate(graph_Pnc6ItoFkR, labels_Pnc6ItoFkR.slice(start_index, end_index), animation_settings_Pnc6ItoFkR)\n",
       "})\n",
       "\n",
       "pause_Pnc6ItoFkR.addEventListener('click', async function() {\n",
       "  await Plotly.animate(graph_Pnc6ItoFkR, [null], animation_settings_Pnc6ItoFkR)\n",
       "  trigger_Pnc6ItoFkR = false;\n",
       "})\n",
       "\n",
       "graph_Pnc6ItoFkR.on('plotly_redraw', () => {\n",
       "   value_Pnc6ItoFkR.innerHTML = slider_Pnc6ItoFkR.value;\n",
       "   if (trigger_Pnc6ItoFkR & !reset_count_Pnc6ItoFkR) ++slider_Pnc6ItoFkR.value\n",
       "   if (slider_Pnc6ItoFkR.value == labels_Pnc6ItoFkR.length - 1) reset_count_Pnc6ItoFkR = true\n",
       "});\n",
       "\n",
       "slider_Pnc6ItoFkR.oninput = async function() {\n",
       "   await Plotly.animate(graph_Pnc6ItoFkR, frames_Pnc6ItoFkR[this.value], animation_settings_Pnc6ItoFkR)\n",
       "   trigger_Pnc6ItoFkR = false\n",
       "   slider_Pnc6ItoFkR.value = this.value\n",
       "   value_Pnc6ItoFkR.innerHTML = this.value;\n",
       "   if (this.value == 0) reset_count_Pnc6ItoFkR = false\n",
       "   if (this.value == labels_Pnc6ItoFkR.length - 1) reset_count_Pnc6ItoFkR = true\n",
       "   reset_count_Pnc6ItoFkR = false\n",
       "}\n",
       "\n",
       "next_Pnc6ItoFkR.addEventListener('click', function() {\n",
       "    if (slider_Pnc6ItoFkR.value == labels_Pnc6ItoFkR.length - 1) {\n",
       "        reset_count_Pnc6ItoFkR = true;\n",
       "        return;\n",
       "    }\n",
       "    ++slider_Pnc6ItoFkR.value;\n",
       "    value_Pnc6ItoFkR.innerHTML = slider_Pnc6ItoFkR.value;\n",
       "    trigger_Pnc6ItoFkR = false;\n",
       "    slider_Pnc6ItoFkR.oninput();\n",
       "})\n",
       "\n",
       "prev_Pnc6ItoFkR.addEventListener('click', function() {\n",
       "    if (slider_Pnc6ItoFkR.value == 0) {\n",
       "        reset_count_Pnc6ItoFkR = false;\n",
       "        return;\n",
       "    }\n",
       "    --slider_Pnc6ItoFkR.value;\n",
       "    value_Pnc6ItoFkR.innerHTML = slider_Pnc6ItoFkR.value;\n",
       "    trigger_Pnc6ItoFkR = false;\n",
       "    slider_Pnc6ItoFkR.oninput();\n",
       "})\n",
       "\n",
       "</script> \n"
      ]
     },
     "metadata": {},
     "output_type": "display_data"
    }
   ],
   "source": [
    "val xaxis = XAxis(title = \"X Variable\") setLimits (0.0, 10000.0)\n",
    "val yaxis = YAxis(title = \"Y Variable\") setLimits (0.0, 10000.0)\n",
    "\n",
    "// we can also specifiy the underlying layout directly - sometimes this can be useful\n",
    "val layout = ChartLayout(\"Animation XY\") setAxes(xaxis, yaxis)\n",
    "\n",
    "val series = createXYSeries(numberToCreate = 50, length = 30)\n",
    "\n",
    "val chart = Chart(animated = true, transition_duration=100) setChartLayout layout addSeries series\n",
    "\n",
    "chart.plotInline"
   ]
  },
  {
   "cell_type": "markdown",
   "metadata": {},
   "source": [
    "### 3D Animated Chart"
   ]
  },
  {
   "cell_type": "code",
   "execution_count": 48,
   "metadata": {},
   "outputs": [
    {
     "data": {
      "text/html": [
       "<div id=\"grid-container_I3LX8Grjxk\" class=\"grid-container\" align=\"center\"> \n",
       "<div id=\"grid_I3LX8Grjxk\" class=\"grid\" align=\"center\"> \n",
       "\n",
       "<div align=\"center\">\n",
       "  <div id=\"graph_Ke5YODS9f3\" class=\"graph\"></div>\n",
       "  <div class=\"animationInterface\">\n",
       "    <button id=\"play_Ke5YODS9f3\" class=\"picta-button\">&#9658</button>\n",
       "    <button id=\"pause_Ke5YODS9f3\" class=\"picta-button\">&#9616;&#9616;</button>\n",
       "    <button id=\"prev_Ke5YODS9f3\" class=\"picta-button\"><</button>\n",
       "    <button id=\"next_Ke5YODS9f3\" class=\"picta-button\">></button>\n",
       "\n",
       "    <div id=\"sliderContainer_Ke5YODS9f3\" class=\"progressBar\"></div>\n",
       "    <div id=\"counterContainer_Ke5YODS9f3\" class=\"inline-div\">\n",
       "        <h3>Frame: </h3> <h3 id=\"value_Ke5YODS9f3\">0</h3>\n",
       "    </div>\n",
       "   </div>\n",
       "</div> \n",
       "\n",
       "</div> \n",
       "</div> \n",
       "<script>\n",
       "var masonry = new Macy({\n",
       "    container: '#grid_I3LX8Grjxk',\n",
       "    debug: true,\n",
       "    mobileFirst: true,\n",
       "    columns: 1,\n",
       "    margin: {\n",
       "        x: 0,\n",
       "        y: 0\n",
       "    }\n",
       "  });\n",
       "\n",
       "var graph_Ke5YODS9f3 = document.getElementById('graph_Ke5YODS9f3')\n",
       "var traces_Ke5YODS9f3 = [{\"name\":\"Frame 0\",\"type\":\"scatter3d\",\"mode\":\"markers\",\"x\":[3440.727672517111,2559.11690387602,2434.3093569100392,751.4238201640621,9283.083338014261,5538.3434908371155,2882.8721866619567,9591.371577104792,9233.25526841979,7142.586691429988,159.98685335005146,7800.248801704466,2182.0293362238017,7956.50128440539,8011.142808055745,5143.014574261027,9015.971334767348,4955.143170124165,2453.6401849274826,585.2687738504981,6871.989652740591,9286.593014778333,6847.902674979004,6716.0306614136525,216.20772768366936,846.6221968028775,7755.046415215129,9544.861525397273,4554.342483263613,5806.591515562335],\"y\":[1162.311120819508,8648.006282864622,270.22450738386385,5648.355506014204,4878.656749210248,812.0473078446122,7341.060915119964,2715.023158230423,5686.040728141075,7559.901327445489,6492.4895977099595,7804.001602572599,9177.585168201358,3242.811818176593,8733.4265361262,9908.831830663232,6122.052550544264,5743.319983951384,3150.1600946517606,6858.897344715155,1664.7494836837584,6258.026374550664,2341.1045609140747,8311.171158097974,2708.180497467805,8115.283402976169,5938.072825678207,9315.741605503114,4411.478381926819,7131.7806306689035],\"z\":[5286.882730754457,3506.9339885776485,8905.839515241534,7623.325191989054,6549.564762967713,9864.426162663434,8043.8974720025135,8858.936953369137,5242.395651675619,5943.835056779815,7284.167913617747,6483.710393154958,2538.4269435550987,3493.822596818801,9657.405748209887,2234.7235228420027,2540.140626705746,9456.85771096233,7169.914969318892,3135.6021744885443,167.3104878268239,6493.34042280668,1969.554511129441,8279.174013413012,1307.101208112076,2373.876370074428,1133.3906378336135,7293.979938582264,437.89604348017707,6852.069033831925]}]\n",
       "var layout_Ke5YODS9f3 = {\"height\":550,\"width\":600,\"hovermode\":\"closest\",\"title\":{\"text\":\"Animation 3D\"},\"showlegend\":true,\"scene\":{\"xaxis\":{\"showgrid\":true,\"zeroline\":false,\"showline\":false,\"range\":[0,10000]},\"yaxis\":{\"showgrid\":true,\"zeroline\":false,\"showline\":false,\"range\":[0,10000]},\"zaxis\":{\"showgrid\":true,\"zeroline\":false,\"showline\":false,\"range\":[0,10000]}}}\n",
       "var frames_Ke5YODS9f3 = [{\"name\":\"Frame 0\",\"data\":[{\"name\":\"Frame 0\",\"type\":\"scatter3d\",\"mode\":\"markers\",\"x\":[3440.727672517111,2559.11690387602,2434.3093569100392,751.4238201640621,9283.083338014261,5538.3434908371155,2882.8721866619567,9591.371577104792,9233.25526841979,7142.586691429988,159.98685335005146,7800.248801704466,2182.0293362238017,7956.50128440539,8011.142808055745,5143.014574261027,9015.971334767348,4955.143170124165,2453.6401849274826,585.2687738504981,6871.989652740591,9286.593014778333,6847.902674979004,6716.0306614136525,216.20772768366936,846.6221968028775,7755.046415215129,9544.861525397273,4554.342483263613,5806.591515562335],\"y\":[1162.311120819508,8648.006282864622,270.22450738386385,5648.355506014204,4878.656749210248,812.0473078446122,7341.060915119964,2715.023158230423,5686.040728141075,7559.901327445489,6492.4895977099595,7804.001602572599,9177.585168201358,3242.811818176593,8733.4265361262,9908.831830663232,6122.052550544264,5743.319983951384,3150.1600946517606,6858.897344715155,1664.7494836837584,6258.026374550664,2341.1045609140747,8311.171158097974,2708.180497467805,8115.283402976169,5938.072825678207,9315.741605503114,4411.478381926819,7131.7806306689035],\"z\":[5286.882730754457,3506.9339885776485,8905.839515241534,7623.325191989054,6549.564762967713,9864.426162663434,8043.8974720025135,8858.936953369137,5242.395651675619,5943.835056779815,7284.167913617747,6483.710393154958,2538.4269435550987,3493.822596818801,9657.405748209887,2234.7235228420027,2540.140626705746,9456.85771096233,7169.914969318892,3135.6021744885443,167.3104878268239,6493.34042280668,1969.554511129441,8279.174013413012,1307.101208112076,2373.876370074428,1133.3906378336135,7293.979938582264,437.89604348017707,6852.069033831925]}]},{\"name\":\"Frame 1\",\"data\":[{\"name\":\"Frame 1\",\"type\":\"scatter3d\",\"mode\":\"markers\",\"x\":[7031.643809026636,9639.229200662137,6065.288921309047,7960.270140624728,9880.786046307474,7984.126746504832,998.1366782104217,7063.3145853342,319.3456871236422,2101.312152616084,2744.516778604633,3460.336056604848,7623.178245999117,1940.495945092362,9121.889646060878,4842.344174797318,3522.6692319527688,9847.18974308257,5552.717642160496,9493.318191624114,2492.5328890371725,2252.7699033395797,3456.248019275444,9765.151648131401,6855.578709967449,585.9316233211198,3649.1163604693334,4061.86252216435,9075.015998268695,9641.923949863018],\"y\":[4731.884555850461,6336.055824233037,4205.576285851312,9194.782891892604,4065.5746236837144,7930.711928465074,2631.9273773473374,1249.1080446145531,8131.721998375102,6491.944052744056,6943.5657606018685,1001.7572030394394,9821.413662303705,633.4521805235727,7078.57003360173,4320.1577121952805,2513.2395666539796,7050.975100363713,4714.304567998369,8342.768565095465,4677.033213016907,8865.122774179537,1291.365106094201,4668.5474405003415,4179.731106299838,113.54973588076689,4027.759947989731,6526.11043192257,8471.636421052392,1518.5036882861568],\"z\":[813.5267459161055,2299.5993386433934,5395.823985237781,6923.368001169231,7971.6816765127105,7837.09624105373,9490.37276984865,8121.892300466365,4529.610240926043,9078.75899129264,342.5753178960078,8196.379228634292,2865.701831352377,4715.673503312434,2806.2138482976097,9936.182053996801,8379.242691076579,5826.751228861309,3707.455577599955,6425.440141567717,177.27643224665024,5739.824778024276,6041.871736684939,5469.0545056149485,680.3527302854184,8724.427825190283,9604.529992962931,8168.49566606687,4519.779956387619,547.5660739687783]}]},{\"name\":\"Frame 2\",\"data\":[{\"name\":\"Frame 2\",\"type\":\"scatter3d\",\"mode\":\"markers\",\"x\":[6497.075045106021,4664.098656472021,6132.208377479258,7410.121406787728,1020.1556118997889,6828.090712925151,1053.0657048762425,2330.3568297510833,6086.51320504172,8522.669866579285,8068.577799132667,9652.314232502127,2479.502268388317,8930.028228700201,8106.804287881857,9030.733876386732,3033.76173819335,3416.300243313655,1031.324524621876,9980.440374524509,1129.211386797212,9408.984382070888,3346.913427580498,6876.98212016885,1766.5029030570545,1847.4727298244309,8234.748394942935,2156.6266068350437,3931.504360678163,3908.8961101836494],\"y\":[4305.390676071228,2387.6512938729034,4958.351835633802,3916.5732425986075,990.9895230611377,7871.191202541987,1165.0552604047914,8605.930028454002,6593.862172838645,1478.7374003270504,4162.600573098438,6252.830625335044,9666.799468389656,6544.707659861738,8927.936402806332,561.8468109367669,5621.159113466594,6806.334694630327,7983.196409817532,7667.05958794876,8242.001448518422,3619.4511425776655,5837.953846858747,4115.575930689428,135.23661879317305,6977.575860471246,9228.261535615587,3284.016472361487,7039.9449082782985,7223.033537139343],\"z\":[1625.6821681450706,1320.8064480861526,8409.743621474,3762.6694305787046,4991.469735127125,1412.1838334635916,700.2706813261206,5587.047519943109,7815.511031293482,6937.415963570048,395.56106684705105,5940.849946089373,6106.5935801393225,9908.79226129317,964.2976522710956,103.52441936847589,3190.018650051959,984.5412621327887,1657.615480444129,913.0495323344734,4920.530070653089,1297.8952093000419,6343.345589906228,1402.0242544545304,9232.981897493217,4363.108519178292,7417.287359710606,7714.107354405578,2830.1241915375376,8399.307415408797]}]},{\"name\":\"Frame 3\",\"data\":[{\"name\":\"Frame 3\",\"type\":\"scatter3d\",\"mode\":\"markers\",\"x\":[3240.3018558156004,8330.167428656652,3246.336591386838,5555.633971134333,7520.717940505639,7557.327790670696,1528.094540709648,4726.220073045414,5594.751501798555,2220.421468678678,9336.401219005184,8911.107183521735,5653.336850682571,544.1981996648603,4403.381613301147,6409.30639357967,2621.9765977364605,1325.9542984776074,9964.674571661943,7522.770576559833,8620.914126815864,9672.081961403848,7041.225505447624,4905.12766260978,6716.141695639911,2808.3685560230533,3258.523011941528,6206.605478372712,4017.455008554982,5772.696252934935],\"y\":[8268.28803422646,2246.6529100008693,6087.97462426329,2160.1279213679027,3777.0653852265355,2588.3408245665028,7100.247766699903,9514.189866644312,5688.130880255978,3093.7083310740045,9207.259743541985,2444.488398990471,6927.572863103448,6806.792762585491,192.37694450838782,9099.630903664056,2152.3643769533483,341.1623517941886,620.4502455359607,8235.745299447177,9727.693592898935,2841.3507580766504,433.0151740561361,4794.719278369273,2112.7749021791765,3542.6649340456515,213.71685465240597,1642.6144512314966,3108.8131079333793,6971.422559489724],\"z\":[4195.806319688966,3917.5336427909024,9299.748998039195,1907.7499195692792,491.74286659242614,297.5496706988967,3455.8680468420735,1375.647583172156,8995.651098731396,2423.129231556702,9672.302696111608,6130.114910831174,8942.578929986774,9694.821204935417,3578.919889719725,3378.695173005316,6204.208304019807,1715.7949695872032,6085.02873494669,5804.889648065576,5058.870564903649,4760.156802900581,5811.804992840005,3353.4575203587756,394.426280197413,1821.7849275488563,3617.277523181981,1692.7068592204807,4085.7683204206605,8034.765882891343]}]},{\"name\":\"Frame 4\",\"data\":[{\"name\":\"Frame 4\",\"type\":\"scatter3d\",\"mode\":\"markers\",\"x\":[2433.17336665288,6786.450494659382,3634.412041392194,4555.335522029196,7009.88028828872,4588.386616555008,2065.837961286555,4356.554188604821,1105.224655701804,8514.235821136393,5550.957525092393,2810.78287488398,4154.729444729011,5052.04854914586,9251.276786068685,4421.3439629226905,5525.460396180245,9638.6748013014,2483.0279111491104,4613.588524971497,2082.5276762774083,760.4616784532459,1453.7553294569727,2106.911576549149,3986.758998112878,128.82932240424694,1545.5311281916163,3063.0917065200747,4394.018009571579,736.4476418139287],\"y\":[1402.1912216726073,2942.655330945343,1041.089026108013,2617.3190848249797,7923.676084088082,5799.79556778014,1580.009130360569,8214.147294529153,4678.771104890943,3607.704553128304,9962.17370767173,5398.951464195329,6218.236731080601,130.00323452687758,8175.505462800498,6397.964592769999,7303.532371515852,4840.285011457251,6202.416208060014,5139.43137258779,9162.028831674965,2440.614146802854,3193.2579768997502,3872.998567531779,4537.816526395676,2641.150354365033,4539.401953420579,2301.9701432690044,9527.917057454675,3036.895753902832],\"z\":[2782.0445739112274,8924.778707470312,2976.906310347035,5153.894824674944,5107.287466694943,4799.5995367568485,3548.6633847190164,36.038537298508366,6554.995940267936,4526.113890299464,502.1621868727644,5104.957025966509,6008.3901353872425,7881.007881021162,6668.9264469934005,8449.312203220241,1533.2774334930066,8248.866976833127,1162.9662316209078,186.12917406662487,2700.289642269047,757.7085413868045,4949.729290316961,3085.6321321805835,150.43864384947648,3858.4703482516315,4558.788653941998,6262.383770797988,6853.756595713792,2980.3539331829274]}]},{\"name\":\"Frame 5\",\"data\":[{\"name\":\"Frame 5\",\"type\":\"scatter3d\",\"mode\":\"markers\",\"x\":[7945.704073768495,6409.348339221233,1262.7470811195985,3848.9930850654487,1791.6896839573283,787.8307174509158,9876.815886980396,6072.008029411943,1375.4273613396263,4985.073110219802,5610.812936413246,4676.570225478805,2559.567360629693,6312.615240488548,8800.263365877745,8426.189458894982,405.15983752852594,642.3545761490024,9677.822485982253,8949.012177700837,460.46626392925447,6463.571807619912,4719.942691577338,3977.495688475736,6866.300740001784,4993.012912165289,4389.688800573812,1329.400477075987,6078.256459987319,9281.446418407613],\"y\":[6491.099087360667,7652.62582366331,6226.871512250028,8433.950074204058,7602.435017619763,7411.486397959322,9919.998819917806,5297.495965539486,4870.120059818221,3109.608870511501,2637.3393421139035,7268.245513127501,1822.1210004632715,7324.704646178768,9775.306949774613,232.28263886644675,4798.976011490636,773.0538755280003,2871.095163611832,5077.349896689299,1102.6272263094572,8326.612160004855,9568.017198458927,4699.472291853282,6027.674011218514,6673.232437195469,2479.8959683822786,6977.191142007407,3566.605907537538,3140.5677472427806],\"z\":[9270.483016014947,5797.449452632385,4770.037576685633,5096.806951159926,9984.587717805498,7891.003373198795,8494.915795764306,3296.462064826793,7950.802819448094,7971.563636254263,1588.1217846143525,557.0169453135321,7421.415647379443,8471.691840268715,9429.848512628127,9232.312997979445,4523.293987719687,3029.816585586744,3200.5809589404744,7091.1357492401485,8064.242352234116,4806.546723588312,7237.4645703167835,1414.5372119144072,3272.528476045636,1694.8056189973793,8410.298475943822,5393.010524802976,4642.977092597806,537.1184875241364]}]},{\"name\":\"Frame 6\",\"data\":[{\"name\":\"Frame 6\",\"type\":\"scatter3d\",\"mode\":\"markers\",\"x\":[9574.343871070354,9234.71107050024,3721.238573333847,1574.7336808464286,846.5900507030733,788.4964867323619,3878.5367826052784,2527.066291943081,5704.07264847851,6940.633408497358,6912.408367393664,8936.299410279784,3717.297717949172,7561.601841765964,5654.646199080688,3710.7923486736827,8108.769628146688,8359.502383210129,2675.8623474784804,4162.279686994373,4266.081028808431,7639.150028368391,7646.7924347614635,9255.675594292481,4840.972699998266,4671.019115683715,4949.662163940703,3276.6167028666805,8130.223794096763,4141.77749921607],\"y\":[8728.643591287511,4670.716448729279,9061.19148749039,1988.231315863097,4726.627519414338,419.82283768079884,6294.262672138725,2809.075491119619,6976.248003020701,6994.404615449698,4706.443157202889,8003.926696117483,2696.2899016243978,8657.516058398925,9834.756751336668,6806.6902247733315,590.3224223970527,2694.6229593075477,9735.08169695528,9460.393465366822,6152.5947597093955,9004.89502239135,151.50569206241803,2923.1943748466415,2556.944489301104,8413.401280470569,893.2328650107269,4700.354802487231,7237.661355696741,49.973384097221626],\"z\":[4880.529841149666,9664.540154987839,2366.9606718797045,3189.3293697275903,6448.1495833761,8056.894973761062,2091.917606650857,3058.377195620894,2184.127855680765,253.9093169464679,614.4229896279573,3290.4457712838343,5833.797221042173,5340.184812612288,2980.916243407381,9942.52467721774,8613.319214375837,6044.769290797652,4794.365035612292,3290.4102227421263,7653.984210725354,2178.824151887144,7969.150569988765,3977.9979851212966,8237.989313946231,8354.953075154704,7120.234557471109,9520.77701794059,9988.347966495663,9473.608703403264]}]},{\"name\":\"Frame 7\",\"data\":[{\"name\":\"Frame 7\",\"type\":\"scatter3d\",\"mode\":\"markers\",\"x\":[5211.178161271399,5649.919472637246,3240.046242353788,9229.567261475902,7681.287526122545,4532.178528943307,9446.510428265236,2721.5369633704945,1430.3675792499037,8512.145424717426,8664.90208346057,4140.551389287241,8760.264006557818,3697.2320350351597,7915.7147651439755,4467.8699283188525,6655.579649218377,2442.08938941029,6526.593283934351,2130.6901107006015,8631.65351636454,7587.982894813482,8447.256446049583,1644.052867143312,9786.094576418143,4173.989352999747,6961.85047820289,1409.8990513691601,5660.863704353341,6260.697134721905],\"y\":[4227.019986061148,2049.316478755022,2055.1012873491745,7493.427529467519,6628.4304396771895,911.5923282646011,6024.604728797954,4080.814180439032,7075.434949432553,6733.764818303517,7962.054986382495,7975.918724724469,7043.02494987929,816.9461294128388,872.8024971098614,6220.873027984772,4422.164529411651,7540.7667999188725,5744.222813643651,9652.3799950538,8054.055304887052,7554.869966757304,1252.3523268937809,464.22623174143473,6200.835591915685,1566.4611176299582,1957.7248614032205,3484.2892900670595,4144.668666341857,1285.4987406877904],\"z\":[1613.025519652841,447.3501633750443,5609.1281970746795,6794.187890634881,7238.3854430554775,31.35213260938796,3761.245945007098,6375.017450921352,5215.843461827765,8973.569122603623,179.5313250249242,5661.660078329387,2812.7049266592007,1194.484249432366,4362.7360085131095,7869.631766779038,7264.227050573144,2530.999444117925,2106.0814043539267,5818.685959612597,9829.268740755306,8416.924511205109,8386.125826770596,9476.496217039143,4078.2404547976703,647.534087327789,9272.39536146798,9833.256839462918,6080.900660685622,7226.289448443239]}]},{\"name\":\"Frame 8\",\"data\":[{\"name\":\"Frame 8\",\"type\":\"scatter3d\",\"mode\":\"markers\",\"x\":[7823.363358344951,1059.4134359282114,9132.23544424947,6215.67213960607,926.3086053018433,8103.809861693168,7187.878100714569,500.3837764321939,7605.040630605186,6157.116001913019,9276.212540458611,5420.011708046545,4446.432869391297,1735.48269858102,1812.5180848000134,5339.5773761606215,486.15359342241925,2531.943635302527,6961.211257288184,8400.21562229677,2145.94559232679,4638.1667925340835,2975.4469274492467,928.5633878577537,8629.248955946467,1256.7291539681946,6789.0393519125455,4282.262537523581,9558.923150905752,6604.177634119299],\"y\":[43.87026962763163,7270.307044586646,9580.271829520667,2347.7036435116484,7206.65730278183,6710.798895042536,9154.529701507568,1623.3500182146954,8462.148678046215,7175.0005730394005,6832.424460769305,7451.236103833238,665.5275628622736,8515.399635803182,5924.375955665545,8193.373707875064,6794.998060499068,6386.834757561774,7673.3535287022305,2592.217953924695,8066.241600961831,6643.553049755667,3788.3600178889296,883.1802043844795,3153.6234583379364,9231.401674989394,3510.9705529239855,6491.905198147787,5808.740016377664,993.183691260845],\"z\":[4264.299172785446,4907.193743407244,5575.100625877536,9666.537333677861,373.226835599767,2463.03124352544,6268.432853716316,3277.5210694713764,1346.6727216586505,7968.258929343668,3425.3159694758706,119.42267311665033,9777.148005806175,4390.003245812991,5018.537712803149,4555.131843642102,9039.779167695138,6127.058798354552,9395.78082070483,2992.7484537594464,2662.445640111345,9801.993856288966,618.9468783511664,2557.9237538377997,490.62807343330684,2955.8329654459835,4164.627114582541,2222.7619719201907,1585.015274843351,5546.7399804343495]}]},{\"name\":\"Frame 9\",\"data\":[{\"name\":\"Frame 9\",\"type\":\"scatter3d\",\"mode\":\"markers\",\"x\":[5291.93294317296,2449.9373033631,166.8741364596571,3734.211508723415,8292.103054985968,4772.006866314521,8865.635825199917,4072.863475177785,7305.008992483288,7149.735137016174,3025.1088151353265,8944.974171700856,8420.876657779087,4439.564786881759,889.1803972105405,828.5238312537313,8381.255579790844,5849.202672799392,7114.819807013678,3827.5503132567324,7351.461655955783,2871.617866565126,1249.653731221484,5784.217096798776,1957.4246759680648,1861.5725388917815,8563.332892187747,3247.0694096396546,63.07924526827935,5155.139351075049],\"y\":[7936.366188408962,4587.531461262167,610.1340885962014,3431.485106917759,387.0472637922495,3636.776122505333,250.26382164673345,9877.52648443583,2256.5578053574163,7357.675618400886,3470.4664819822674,3639.897598811177,9074.277144265421,6271.623239160773,4445.532968909115,6034.989040310842,9689.787320097215,5627.588315778599,6947.284185265071,8036.6545798497955,5385.013417298589,8630.851954142809,3298.424111119974,1672.5040951336334,5369.392318563871,441.44289985878385,4579.570566245669,1133.5308995489047,8312.914721317478,3107.375107987106],\"z\":[2081.220397777209,1638.152295685239,9386.34114182019,7115.36293820942,4338.11474629494,5390.563543773705,3654.8444911379906,4821.774714959841,4991.670992900235,4334.6455465928675,9610.782777509243,4669.15430875344,4196.8476772587455,8828.478318858552,1133.263468146235,2798.7260428469076,323.02155617032867,9850.85876268702,2226.6093409092646,436.87363737845874,9294.144493068254,9900.031034842345,6516.79125991914,1263.660396136732,6071.667165248125,4356.181646662478,2674.3454901912733,2864.04003846187,6504.405850841666,753.0702261952338]}]},{\"name\":\"Frame 10\",\"data\":[{\"name\":\"Frame 10\",\"type\":\"scatter3d\",\"mode\":\"markers\",\"x\":[7684.248928327028,317.4805793250923,8052.739816634545,8140.496654975164,2197.6728992453586,7999.306537851972,4740.229374388812,2518.1369793266063,6077.49670857508,7747.140074090918,5093.941934636264,7182.6026141931225,7688.908230495758,7688.400442541206,1805.4850324919603,8753.413003068867,7488.37757162644,6229.898938495992,8377.940931528428,629.8917153555617,5028.740123367478,9978.147471950202,1119.6053413568518,5679.830499770195,8625.078273772215,2689.06977163753,4503.634683853811,9072.093313587979,8615.544460388446,4738.392565843255],\"y\":[4133.405639217662,339.1540046153163,8403.224491749843,9059.06369716849,4336.602595422081,991.8996366020239,2279.5858852815386,9.62599981199741,6756.742565775065,307.8505075223093,5407.01833441382,6217.552763852663,2219.05293151224,7275.2818374391645,9277.418949071784,7084.131970178847,618.3283041310627,1099.5567586357636,5465.731923633769,5342.557151947441,2609.57982824321,6164.311718604231,1561.8042346379036,4828.470588936987,2478.0102825217223,9888.958209119171,5790.871966440632,3452.2735090755173,3723.042077225933,3535.3012137323612],\"z\":[1022.4466517516007,6255.103670550089,7611.8271134831,6689.891692016524,4619.322082055995,2385.4528788842476,240.87835606064866,5885.071303150979,7892.874009748544,2850.979498059504,5490.158290861159,6620.483389159561,7807.783840795598,2980.1450676945283,9662.166757961808,5908.162822009319,4018.764028449947,4670.888216920814,8569.2743244816,9388.136796593853,6323.820074732394,8708.61828496696,9365.745600754253,3047.8037430635695,1183.0352867755123,6703.400138291049,7516.605950477507,4627.180967901469,1078.8195544650614,5526.268593107203]}]},{\"name\":\"Frame 11\",\"data\":[{\"name\":\"Frame 11\",\"type\":\"scatter3d\",\"mode\":\"markers\",\"x\":[3953.7059762263184,3903.441742005681,7183.012579346585,4517.1988237058795,8690.0382775269,4221.992034259858,4048.1920308011663,7192.330759153066,4946.569071275798,9877.65878809224,4854.980168863549,4695.623840571276,2191.547985457395,5248.4022294224305,7124.107892823488,7820.204224301391,7400.4599884331,1945.2763444440857,1741.4354162130585,8067.232005670937,1315.4935342894214,9666.206065699196,2646.0937508286875,5915.2052622766405,516.5917677498178,4927.465909116274,596.3547114672141,6240.1925276545935,6711.870018170091,9395.578261651943],\"y\":[2054.7970780197634,6657.5576268889245,1813.3706670847716,6153.677877151628,3423.785156305773,4448.328963527824,1084.8440611929855,7910.215526273976,1614.2326350517633,1688.4364105678717,6931.437073327992,5894.199803932995,4245.073697506051,6216.6167690917655,2746.878228887587,1980.0138946424051,6647.822246690269,8156.874806516865,9641.952431042475,9446.15578344873,8290.045895432928,7853.952562102992,8848.758489728467,9696.096178504617,8233.541921280854,1285.3496138611476,9128.446933593183,3255.7627156523363,7807.448783888433,3281.0073798748595],\"z\":[1605.8399373950206,3410.9972779792297,8803.486615690299,7211.853017765943,4112.537692690868,9959.652419815911,7189.966801503669,2200.9732700622153,3340.8172300803108,8726.827654780189,5593.167903016485,5366.268942589692,5893.833398018932,9728.074399482894,2609.1278587357315,7121.019743181709,8663.338757375881,3164.21891334821,3385.85417517548,2138.8621806007877,4874.334065283748,7792.791568681016,3855.407552076936,7232.269798138667,4606.773002687881,644.8702256763195,497.2687121685582,98.69419848038463,7637.641958862503,542.4784550887218]}]},{\"name\":\"Frame 12\",\"data\":[{\"name\":\"Frame 12\",\"type\":\"scatter3d\",\"mode\":\"markers\",\"x\":[8578.847769975151,9656.109590621141,2042.440374764317,420.50513414912837,4445.955175631865,9519.779263063498,4153.293404976098,5068.440373797868,1625.4983726247585,1064.6422751959617,4191.624117189355,1581.0529233284165,6254.62623100047,1472.7914357796635,7176.526463974011,9543.458989546622,4664.9988606793395,5183.101953612563,555.6717067793548,6774.864020498884,4827.804632372144,4240.135853728008,8413.794252164516,4316.582537547976,3804.6093855978347,4182.036397504261,7084.499083137868,1273.7763726214557,5351.071207803856,7312.197156527956],\"y\":[8524.338658259738,6106.670218607106,5385.00332280951,4467.07321139405,5903.8120260307,6015.842035990564,8157.232133864412,9722.576763246869,528.1365545488981,177.5038977523824,2653.136497356535,9874.081754979085,421.35426612344264,5758.526530400259,7004.718372554288,1980.1326781097584,8690.52885202671,7877.279378788086,8507.503867589197,7777.5433299325405,4132.497763329688,5975.195782051026,8213.526306654787,3355.632709728461,7453.848746421201,9425.291352569126,2011.0958508461108,6119.941130633175,3945.485110841338,4627.700897322155],\"z\":[4604.017587518238,8780.833962991563,7486.358386760823,4328.620938644514,8867.36725736283,1869.9840286831748,1346.6386795253716,7447.87417603123,683.8880509251799,2117.804033206635,8418.807258687104,4311.64356885441,8554.532878986382,3917.474573037535,7225.847727357171,7860.748617962367,8028.614997840984,5056.291024688991,338.92650604169125,6141.164120870734,3313.498601119769,5912.636542204278,8682.646523952853,5182.313809744107,2300.701561888757,3396.959089987246,8614.168832149555,4229.995336632601,6684.7442451423685,7057.712504844536]}]},{\"name\":\"Frame 13\",\"data\":[{\"name\":\"Frame 13\",\"type\":\"scatter3d\",\"mode\":\"markers\",\"x\":[8633.195087399741,7224.621116410839,5853.026491795485,4978.301603828884,9113.008725867823,5401.792468636863,1789.4690213870235,1358.6433724705416,1538.4767010344947,5941.047562955806,2361.6121846696183,6005.0418879477575,3395.114963502015,699.9526639486442,2050.3111060539527,8344.644945424723,1074.0237328622447,7244.536918144992,2433.1256313605554,5035.837102649615,5940.7067788978975,1623.3967227578748,9546.955723915195,763.4918712160265,8061.4828705282,8631.62371511547,1632.4213099620965,6388.09544479502,7989.4088565603515,672.0415178293282],\"y\":[8701.944367776792,7260.321110670208,9482.335243342792,745.0583484984496,4875.442551355508,7217.720703433786,5058.913187346212,8584.778849027029,5491.994246640182,547.7707698940782,1894.0821717427857,1507.8405472125655,3632.790934394895,5031.595579369027,7713.765847308928,3152.769391789514,4880.145287395803,4075.2615506330426,5069.208215893326,3961.4800332198843,4889.276285822807,4890.617745379142,7654.586217701337,6990.86982341686,1664.043409461341,2705.238837690288,4177.235765586223,1441.289951756619,3304.7621324310007,8061.098339742272],\"z\":[3698.0345460460285,4149.998433284651,2435.6750875176526,5404.183644562447,1330.1835136917196,6221.531361790408,521.6176159323494,6372.339477494782,4717.838570029269,7953.25946151418,8847.86303934186,456.20678517559355,9811.7392555229,263.21712893095594,8064.085875181456,9038.19890744636,9117.191900378282,4938.631248696655,4882.839022466143,6207.039335753787,6810.462411108064,9197.390454807863,2774.887580307951,1200.458324877508,2902.838386250756,2291.037919660053,3318.2030551210796,2846.230401942752,2977.326936247633,3176.6895888920767]}]},{\"name\":\"Frame 14\",\"data\":[{\"name\":\"Frame 14\",\"type\":\"scatter3d\",\"mode\":\"markers\",\"x\":[6234.365376569109,5951.8041384942335,931.1510614770169,8646.609907393795,9085.582884523688,3235.365031703499,9627.91651757802,728.0100079670848,2107.4860598406062,4096.236382001876,8396.52280091021,651.9517735212088,9717.306966776749,3290.116939882949,6909.588305454499,4239.080303092071,7864.011978499115,8404.716580529644,2132.3788498468375,161.22672925427239,5576.401726701488,4923.944191110611,8753.911044905193,8211.757769350916,9817.15334271495,1623.8663134600529,3795.1230658607415,9453.870278250306,5065.226734399244,7061.244965619964],\"y\":[2934.6976582643556,3914.864185060196,2926.0140534955403,9995.53182874902,9501.330941739356,4355.747973240583,2508.060727532593,2727.782523219052,7051.9389593009055,6569.367105177842,9307.144893166336,6545.0238425876205,2988.503707556899,7646.565461019557,8902.94921039509,2726.1941803290047,3761.95460364267,3698.7245478823615,1900.5157210544232,895.8476559737927,1869.6936748468952,7636.349458449187,8238.12871942849,8904.395128948481,1074.0701159807065,5777.201751825571,2235.2180573698533,4868.734137655341,9052.313258263532,9293.804481305791],\"z\":[4568.336921634675,2524.690645864063,6034.138259522479,2808.9746792791125,3740.2123067532234,5622.786034460292,3891.442829583275,7809.36583126903,7546.32490213986,5741.407744482036,2615.2103844286344,2970.8321464273135,4545.431228001865,596.5500839700821,147.94693370978717,6975.754333432756,6604.880583840886,6694.862276293147,7135.674903115071,1951.289691404754,6218.553230890949,1006.8281239530019,321.7129039465016,7268.850721934068,6484.677772746017,1229.4681385032568,7025.175011160139,4118.925198685971,7382.755541979956,3163.0422183674987]}]},{\"name\":\"Frame 15\",\"data\":[{\"name\":\"Frame 15\",\"type\":\"scatter3d\",\"mode\":\"markers\",\"x\":[8430.323864891472,1011.6989658764519,9303.263422724534,6743.807798591095,1258.6154256238901,9152.753190221745,3660.7625339543392,9354.960661359253,5803.479042631778,4504.451292242711,860.494707551136,6180.47146287832,3278.5739103037095,267.4451942261957,7890.499781933473,2571.6033808345373,6963.473892132755,9503.069636897399,1375.7390155000571,2663.478958972495,9726.42773226227,2666.213921573004,7057.667874696009,1809.1356146905068,5162.051694900603,8929.59322563645,3352.1480818458917,7791.098290184846,802.5091055186062,3354.168139164335],\"y\":[4890.546767771162,7225.5627933495025,9643.939807365914,4196.786643854641,1763.3213861828124,9091.872473091888,575.6005858021251,5944.95678979466,1562.3443338180177,6900.041834671515,9207.383777688583,4029.980108445381,4257.669210355257,4651.664518523435,8062.084993800968,6593.508577320776,4446.402206921356,9454.615451898382,9131.99005274008,7168.914288846676,1575.7871311505678,5419.538649151165,2395.059862229082,9687.686088200886,6369.569521488035,9296.190268639311,1044.1905674693196,3832.4037005277623,876.1583785168914,8200.283963175814],\"z\":[7903.731207660846,4431.659252603711,309.05786588988127,3736.5622868132655,7790.644185239031,3328.6281121038196,7164.490543544623,4841.398711792943,7423.397889056276,5953.819972865326,1978.0918513331958,3748.310278040391,7889.881501310576,7693.8681500416305,522.0056746779089,5622.343113568905,4656.338299187628,7072.041455895976,4245.664220258284,2614.3635501244357,6632.512522918258,3742.4946166494065,9327.990767935122,7353.876414715352,8903.914748709767,9349.099830483632,9835.711310359442,9229.059667229345,3400.3048556981275,8411.025991680108]}]},{\"name\":\"Frame 16\",\"data\":[{\"name\":\"Frame 16\",\"type\":\"scatter3d\",\"mode\":\"markers\",\"x\":[2171.924634866793,9195.289173131954,7990.2045323702705,4571.070303275863,1251.0189161158814,5308.50446135068,7274.446023953694,4779.064154782112,3650.4921028376248,1697.342675409561,7697.472366549404,281.5088033700086,9367.172352267282,8268.045815865678,5503.304632575106,8649.925853864614,1744.798327611412,7078.73011544799,8533.796838410415,5504.231443799069,4641.864411908917,4024.6739312916634,1899.9996022516607,8073.774666699383,6973.09618448225,1243.8704753051743,3153.1611600077367,5287.506400627775,7384.869286693021,6482.161267670136],\"y\":[4740.0913662303265,696.0744825991483,6014.338400343785,549.8471292286478,248.32362434837884,5202.468973324332,6034.001133700315,2956.7542031540106,6229.708656102696,6314.169624023257,4997.8674674456815,8830.30531523577,3236.7784292831025,9428.572862500385,4882.364387892879,7301.2293796979375,8114.422306181468,4524.809729224436,154.5559698045218,2684.119526618174,4560.119807531079,8558.888950225317,5202.211300962661,4985.125359818797,499.17724525727294,9845.42801756021,6024.709543454478,5536.645191254269,8917.120948278494,5758.067524733882],\"z\":[6210.718797375781,6888.965173029582,3449.5979050930346,9191.987109775075,3918.0451760107717,3481.363083402073,1250.8440014160572,2405.77188197202,4822.995881595988,1070.2798543730742,3444.978288952495,9096.206016765966,5821.056396178972,8409.735380710361,7810.087508955265,6858.399320305626,5637.635549932592,4259.246392990169,9253.267682689167,2544.9774772481446,1447.0800703399655,6437.0790544055935,1105.4901623916003,2461.9002175519854,5100.123260560069,7341.751757771189,4298.3679455581005,7824.792163560461,8624.374047163621,2132.2743878055117]}]},{\"name\":\"Frame 17\",\"data\":[{\"name\":\"Frame 17\",\"type\":\"scatter3d\",\"mode\":\"markers\",\"x\":[2080.597156048708,3448.5088969786425,6289.414201521144,1587.6981316585504,5090.050606561902,4253.978861521304,9717.522230026134,1559.1178128897566,5318.2088547355725,9850.197343958433,3272.9919318011935,4882.356923829821,7786.810970092131,2185.574684882622,9277.475200597015,9637.133060282285,5602.3164811288325,5061.665256408047,6475.720560779935,9718.590044090803,7461.966786125215,7163.6391241590845,615.5428988648792,9829.653165137213,6655.943572636792,2185.6795023556188,3007.804605770222,7207.745934201848,7143.319061263047,615.820998490767],\"y\":[1496.6481535202392,6666.985163614476,5375.202159988171,7793.572965991804,8397.166085246658,3867.045934740627,6196.682342360023,1964.9935259267493,1647.1565993890115,4112.4703949659815,7379.878021459623,4233.71920831113,8671.5547011074,441.2707919045511,123.60197452082832,9542.770380584117,7272.594532549751,5279.252467436059,2200.8552315837737,4120.791955122608,4235.700742077679,4516.564894512794,6343.566335763026,187.71161907623735,280.56629102059304,1505.566175525902,8924.696369908539,3138.623081821531,9488.825593022939,1184.1621596524888],\"z\":[3031.0307305648544,9911.038081611874,2404.183978247635,1296.359799354838,5615.686447981133,9789.47205650923,4627.819556785876,8511.856596152844,577.5607210748957,512.6590523396612,6921.323426960708,2139.061316953309,8335.65595155203,3222.519691288791,8581.402990902438,7081.02034674469,7749.413291837554,9530.333497973072,3165.0175069947572,701.3049090281265,8081.895750038072,2774.3965556203043,4520.57979525878,5346.988587304684,7110.862062189074,3404.771084880681,1520.2986629859884,9418.425828343248,6463.47308625809,5354.562105313328]}]},{\"name\":\"Frame 18\",\"data\":[{\"name\":\"Frame 18\",\"type\":\"scatter3d\",\"mode\":\"markers\",\"x\":[1890.6987315035663,5080.6192249423175,6783.5836755793325,6243.489493880773,9102.80558533712,9978.53964072764,3436.264900253119,9308.341975313697,1410.4324298415415,3648.8443146373575,8112.41612482831,9066.238479756033,8814.464782773832,6713.016070521849,2917.019860872927,5890.442097565554,1982.9881484123935,2392.0207636568034,1307.8018957415384,6914.804289000925,6971.558309102197,5400.162637910961,4596.759621993898,1981.7464215534785,964.8639406769677,2855.8965729067863,3635.2260175411557,3710.006298427834,7200.493851413084,5489.925862263988],\"y\":[2773.835072892541,182.21578121854654,1737.4587080793924,5136.0039842445585,7221.96778849555,7238.697476487789,796.5868677213706,6257.427826630564,5526.947429087394,4912.694611347317,5026.853295180057,5092.291238051853,6051.470230233952,9153.58447873958,6241.165989396941,9893.147889171752,48.44732547041319,5658.4444727379505,2917.072222115096,9691.806023728292,4215.647156716019,7368.675626561801,3072.319497508169,7037.561152693958,2458.226004871519,987.2117597946917,7002.139113757997,2237.2444880744956,9995.436158173736,733.1719099893863],\"z\":[7804.589394569092,2768.049513033023,2918.5090071626096,9474.64460104719,4622.239071223466,1739.17448838104,2839.9100099208786,8366.613361588508,2092.92886915421,3545.8933956846117,9369.86518544599,6169.871616158137,9629.300225525309,3189.7517980702637,2814.26367253825,8538.091993443679,5836.235560830774,8131.160522968614,5708.745254229617,5734.0526970382925,6627.305260336865,7995.733704876159,4586.980825162301,4472.345208792833,415.77143098352474,7973.302875861728,2726.8602374425564,5884.717978405265,132.6492414850877,6328.610721066112]}]},{\"name\":\"Frame 19\",\"data\":[{\"name\":\"Frame 19\",\"type\":\"scatter3d\",\"mode\":\"markers\",\"x\":[526.5029843439672,6965.5412529133,9763.784105673314,5085.27260485049,2632.7136486639756,7278.702557701897,2599.8511873655216,5649.6627083348585,9977.702840525371,6193.570242265394,9457.63982555234,7908.972747804678,475.59933604101155,8466.496333460304,7757.937580554434,2167.7549959738185,4288.48404503735,7595.651069897807,6534.782347436767,8179.852093613062,8292.37740865854,7050.813467289337,8202.804137218262,4487.686233870014,9656.813177484803,9216.069886789952,5223.828752123347,4298.459379029183,297.3415924464706,682.2004660425263],\"y\":[8690.874109102426,1206.9008022229066,2368.4987503480024,386.86008460637635,6287.116279533378,9216.766082963293,9935.48976183536,4024.492083210023,9079.36189339129,6718.377743050774,3496.0316978461638,4134.237169858412,170.01151829964977,3347.074123255258,2119.5092816124306,322.92889519098253,3358.455382343898,1977.508066799497,2628.7952768514942,8191.6007646281905,6652.294208234574,5501.318241705186,6470.792704984867,8707.747018088643,3720.730372851463,9490.775304851804,2704.961881638025,2001.9186884720875,6196.930037533187,7368.5763276585285],\"z\":[9884.791811518016,866.0565773993312,1113.1084561644711,4284.049745639523,515.3853708057077,9592.29842761878,691.5425324808377,9538.600371648881,9241.02664854245,3214.8152984183166,6216.67178244116,5108.309362511734,9949.80365144928,703.5704083163397,3777.897899978628,9579.180330819727,7578.061061470364,3207.7171824950447,7299.646939929126,2640.5992866717243,7555.663918708455,5057.681600415212,3464.7153793480047,5175.154268180584,9553.753553505676,908.8013703619457,3888.8682886937663,3938.0442489459033,2479.8803038799642,7145.7245385937385]}]},{\"name\":\"Frame 20\",\"data\":[{\"name\":\"Frame 20\",\"type\":\"scatter3d\",\"mode\":\"markers\",\"x\":[2219.1148030591867,7836.874588727262,4511.102336263093,9465.598847989373,7705.038725652364,4902.7250241337315,5363.8414701286165,1419.4055772253034,2232.0148914203287,5185.9472362545275,7969.9916981469505,614.6284291843663,4807.093973996582,5015.230693998634,3261.9755992978894,268.7690471377002,6052.793906366278,2326.051960257338,4865.154454185764,3852.051698264565,5390.986958151883,1094.70141343341,154.18844621211346,9668.988804361796,5288.5256678431915,5306.659250150276,350.66363914360244,402.30363693719573,188.20349825722337,9343.171782226596],\"y\":[5122.485703766838,9879.039741300769,2563.102334410451,2187.454653904529,6491.263811761668,5617.508544208633,4909.322532552266,7432.029879492314,2762.092449473007,1075.061122946034,4431.559857282578,9711.283470628849,5660.856696573087,5940.494024646757,6677.930835056807,888.4015416494151,2897.3820343386383,6301.22588319304,5444.912815566816,6093.42988695509,3968.4519036733554,9064.217645710598,8900.20983277216,539.2744194718335,9172.92740827104,6620.92543420308,6060.817149622265,2935.0388528890035,531.8960372791415,8420.41538868502],\"z\":[3515.500689993105,271.1748968688088,8589.986870354238,5851.086880579122,9595.36936294142,1768.4991628294288,919.6930941262104,5630.28820756844,2073.165338465972,6863.2071170046775,6558.736567632375,4762.430179645032,5911.355419567759,3242.5943237830124,5581.228344952138,7050.034702864255,9581.053420777542,6151.27144524786,4536.563146364101,7128.482065090392,2038.2642404437267,9455.239154936984,6585.7068864810235,3044.0482362807543,7570.887535798126,2281.269006855492,9822.726867721925,2506.155988903831,2419.3740338137814,2441.608179076438]}]},{\"name\":\"Frame 21\",\"data\":[{\"name\":\"Frame 21\",\"type\":\"scatter3d\",\"mode\":\"markers\",\"x\":[8490.121515847442,1118.5840345985744,5325.881447429284,9309.111193505278,9579.712838732492,3130.7131852235216,3981.2283747335987,4325.4762087002755,1656.5617854291427,6548.715130251111,715.9002927182612,6905.341000098429,3651.57523150794,4807.91463256841,3720.810641339136,7141.576218746779,8839.174047148299,6631.386486673066,4585.478866199938,4422.182627253661,3249.5931101397546,4186.179092584634,9005.733201386001,2836.7920030565165,8361.091273250815,7197.378481864513,5140.008134115444,80.82926565417759,5075.549071298801,7291.558864415856],\"y\":[3282.7494351722044,6457.995400349346,9701.637321722872,2514.9964743004616,1275.403000630181,4536.783635022428,2952.940451722029,6708.343440942947,2389.9059569301926,8034.342532105169,9814.124060825134,2218.295016930102,6296.564534438487,581.0615664136265,1536.4385554604676,7288.107399867543,9167.642599260618,1161.8393596658427,994.5516088393414,1392.6508356924737,5969.948709302162,3235.0740201666904,9169.908857818682,2770.0130884139294,6564.157299176324,8797.990332395637,3621.5240685373683,2450.4972361120904,7355.553004264962,6996.996561604857],\"z\":[9463.300411797112,8195.179740758,1930.3438228580117,9274.344532036994,9587.693620170654,9930.032787802567,7363.635822816727,9497.442208365293,3658.7224058564693,5497.9326416957965,7699.620436265571,8034.746901117058,4743.045426995972,1849.7137466921065,2481.478959162129,3322.246745955777,8356.015875298197,2156.745540282291,6147.95485100332,3107.112015279797,1170.336589664408,3751.348801745961,3615.5072513038613,260.18264893514555,5668.136802446618,5287.6870212265,8429.404968193447,4816.529999055944,2612.998995786324,4064.6015081804044]}]},{\"name\":\"Frame 22\",\"data\":[{\"name\":\"Frame 22\",\"type\":\"scatter3d\",\"mode\":\"markers\",\"x\":[2494.076468659122,4733.41152387949,5376.659725513908,6063.184857337429,582.4836554823343,2747.5186921842887,8875.823100795305,1925.7181743794483,8576.242307320505,5668.487560746302,1157.716526711532,1838.9200193824518,1702.6605979289366,5463.23233654883,7518.730474767052,1083.291705409466,7911.825191464626,8565.726006617835,5448.682723238973,5871.662504007452,1976.3157908934159,989.4430515136743,3663.950586694357,6023.873731419111,7898.07935817709,2024.748775906906,25.92228092891724,7010.863859829977,771.4546609371342,8571.1029090286],\"y\":[1236.9131626469555,8950.248131522907,4378.282190795788,5484.018603303171,1863.905881882887,4246.813878488984,7480.498414276746,4709.302801781367,1461.1686835909732,8745.177312880416,27.554438709511686,7432.1746731069525,6346.012399277816,3498.181173639805,310.4629515647661,8986.440162600633,6927.65066897677,5553.436516237749,5471.224233975849,5848.983887943503,2397.3284361717474,6521.7426559862915,715.8362977548416,7687.404948357207,2058.589853178254,7114.944899940085,7081.048746444974,5133.717506755104,6609.756501053006,4327.120211728488],\"z\":[3669.4712385853877,5724.600044386831,3286.3947204563838,5481.808450164576,7894.603034992063,6278.767389569691,5929.746602455228,9979.333243302268,6466.800355724991,9874.607812362212,4767.811560267943,5252.086822143569,603.1519482016679,9546.314633681459,978.9605687838987,8171.981729004787,1258.6908226655014,8834.312902667212,7953.673069668486,6953.095956377836,4053.3145576010143,1405.862082027316,4578.185887333529,1453.8728562247472,9008.248612097796,8104.297003008618,5834.55246442664,1707.0595431852619,7207.83585919844,9990.442370807545]}]},{\"name\":\"Frame 23\",\"data\":[{\"name\":\"Frame 23\",\"type\":\"scatter3d\",\"mode\":\"markers\",\"x\":[2544.8060589611578,5491.899253854591,5066.885528048426,207.31586783583666,5182.631604058008,5811.920360020787,7010.777834127153,5829.317691000312,6334.145976028826,8252.988956655192,9064.961023192136,3249.6724376587795,2610.0991238204006,6370.128652732396,9102.440953366053,7114.9797270687395,9595.000139644593,487.93088031920615,4312.312140112634,3333.296914374927,2764.387898442502,1598.2118051605999,2829.329930971293,1262.2633398069704,3209.65782797218,7399.896610555928,4403.9839094556255,8826.348570271308,9480.567160075425,1949.946864088753],\"y\":[4494.476375412293,7017.388789617435,5888.739662655537,3880.4639985773315,7226.471830112997,7000.150231318188,3211.198669745088,685.9420265968186,5293.429833765876,3874.741224288373,9891.15335213494,8195.960311570096,9059.79017999243,6040.267306693796,553.9733823819604,5022.442472844005,2881.231144960932,8059.204090208966,3939.4868586969587,1506.9333362597504,3970.6768139358574,7939.546104952947,4197.437334153833,1492.1713451986718,8015.678032205372,6831.854520538879,7901.146842540785,3103.566917553021,6192.249910974633,280.92234020344],\"z\":[4105.121627556251,1650.0211822351318,222.19901145614784,5376.836837728935,6305.557276941937,3739.849851905145,5685.42606088604,7417.811662976651,3258.3869566198086,6756.404596858981,8925.645620569892,3027.2257256825787,267.730334626769,1949.312307718265,9577.414034651983,4059.8973659871385,3778.2992613224674,2571.0801776328176,8994.31494817564,8087.68947200781,9888.521384700816,725.1435352950685,4672.596236487696,6772.124789787689,1746.843153769988,7890.262626081433,2141.5182038542525,3011.7695295150293,1701.881019808199,4447.49945071831]}]},{\"name\":\"Frame 24\",\"data\":[{\"name\":\"Frame 24\",\"type\":\"scatter3d\",\"mode\":\"markers\",\"x\":[8731.110468407722,1394.7166099391595,1547.789630726858,2959.834524658631,8130.004104916311,4191.584785753691,8239.417666498684,8440.817953999718,710.443930491259,6892.020989393127,3047.5310480542894,6397.465395393478,2224.5517037760596,3117.7768642490223,9282.580047695144,6043.949448281855,2665.35305638956,8638.006107154446,7436.192346551265,1756.4574555549284,7838.044485951192,8167.506261842023,6872.777893115391,575.9179617448051,8501.42043668523,6646.211184276597,49.33455949326704,7364.126338055821,5816.339692133778,8778.312293032734],\"y\":[8649.745025640505,2080.1254799018852,7277.562355140331,6751.969827936879,990.5604109285249,5567.530445988128,4307.2410435776765,6265.651339595752,6588.46657224491,1229.809152989212,1252.7993080301947,5254.714101010825,6875.337215462547,19.361455841404585,5658.894263171544,8041.922874595121,704.9748000093614,5277.568381975827,1372.6001258734377,28.17700053801886,9516.346963096581,2136.8083721976072,9292.911410774414,4494.797535550145,9801.331228012743,3431.769585254101,5390.116165574419,3606.299740841932,9870.677086217238,366.2087660413205],\"z\":[1997.5396253868582,282.6603666637284,3820.1059976289653,1542.6451279964804,6317.614180631842,6252.66234425985,8069.165890122243,8386.296246717311,9586.18692375142,4304.979854080343,4878.665521008152,8480.89563184858,1403.4217297265473,9521.245499867406,2848.2121953718242,882.8620465053572,6366.6165501360265,5105.416246614217,6553.583488087708,9091.610880346003,4329.698574219607,3316.3382443460687,6204.364588961051,8027.637458164302,1366.1230484346886,965.4822446064526,3485.4858793834455,1106.318910253926,5826.34576420536,1959.4050133135877]}]},{\"name\":\"Frame 25\",\"data\":[{\"name\":\"Frame 25\",\"type\":\"scatter3d\",\"mode\":\"markers\",\"x\":[1592.0003541432347,2294.2153769443207,2758.0014768334117,6446.567686706524,5874.642159179906,5895.980664885199,396.36400100536264,7270.720433283813,6484.4091033706845,3743.8168678554753,4434.624351785927,9638.140646684604,5937.6190333171435,5447.735701776653,9347.975285427898,9173.59009644167,2618.590513630694,2413.7221272786146,1172.4367729716678,6869.937836668873,5895.301421106681,448.21759737809555,2828.820855289297,6828.965017847486,9744.081859195296,8941.173324328658,1334.1817082774487,4145.958144524588,9562.603507579035,6856.249234999451],\"y\":[6057.544429632739,5808.264366471909,1196.126156672962,7055.564146202131,8553.672968526778,7058.0676569148545,2110.1720669039237,847.729391607327,7448.0772649136625,9312.219161564652,2113.4923705498486,4071.727630738321,6348.420325911889,3437.034242590874,5068.402762517167,4515.525205559051,8821.936350267437,3943.5487690434657,3621.262889951349,8017.1356948156235,2105.426168497578,5498.799972945788,6144.076606684421,7207.18097228996,403.84591413490267,3041.2828149007773,8798.899054259251,2525.821271260169,9385.462987629297,743.8047605140786],\"z\":[5919.931399077055,9883.258073559398,5795.999008285297,3084.541318889863,8753.896436542409,3131.838176521855,9991.144161574643,3367.176570502274,6007.481064037391,2379.1168598002555,4626.266435785727,1173.5849949357346,9621.345356302005,1095.0677591497304,9744.103069177772,437.59525303935897,5723.393012242828,5952.951938416231,3065.6715025902104,4095.9487450500665,3809.7048287164057,3392.1884198973153,4416.588153978472,9602.648405970713,6859.739203160901,6002.898020565137,4910.437933803323,1985.4705167126963,1313.1071355202685,5.617426018835747]}]},{\"name\":\"Frame 26\",\"data\":[{\"name\":\"Frame 26\",\"type\":\"scatter3d\",\"mode\":\"markers\",\"x\":[4762.792623359893,7578.486986436227,8618.430959498985,2336.0117443021645,8423.925634495306,2082.028923028111,9410.501746243499,2143.239098930223,2095.225583612855,1181.5966223648122,7280.150453325869,6871.949830371096,6633.766777024302,599.8000819858884,1571.9530182299168,7521.733193638368,8351.440985800718,5160.4945027943295,7678.0928638766445,1164.148615988324,1279.516075178726,3211.848638755428,8892.403905934114,1346.3112161189972,7096.435281132052,3585.167127596911,6046.828922968448,8621.32360927414,3106.1239272993103,7158.863501849767],\"y\":[9873.21720218992,4119.680383005338,4406.0265099406215,4052.057528919988,6316.604753764958,8812.0970154026,3698.548151339002,489.85184147848247,6871.809149652184,9913.040213053102,1076.5263935321677,6462.418660533309,4423.3856640791455,3735.569567444409,6552.816644804718,6442.604190604473,39.68448641365252,1231.9289960523638,106.02105872391854,631.8428339909743,7704.961321492791,8440.645134514807,7578.852296696603,3471.74114228656,2069.1887325741855,9109.732951761487,5892.568015528633,9488.78039602588,8953.423367324845,876.9239186602573],\"z\":[7730.372111859769,3932.1570915259385,9569.288048362749,9561.666160319559,4094.627029465836,7119.860729835271,7194.325520652349,8359.975767833925,2957.1761216950854,6925.670993657747,9390.690607944283,32.03921761307238,3599.0328814810814,3419.8260179599406,9762.843562409498,533.8054675860726,9175.134092836292,3318.6984699187174,720.6198940177211,1967.6243245242908,4541.826241345616,9603.893606130638,2747.2423450421256,1213.322507394826,2449.1865763154788,3438.7554557495737,6267.556316028807,8149.9337949615865,8827.252361150784,1340.3561391854957]}]},{\"name\":\"Frame 27\",\"data\":[{\"name\":\"Frame 27\",\"type\":\"scatter3d\",\"mode\":\"markers\",\"x\":[9369.966249167717,3989.6288978969606,7084.6706185041985,457.60913807347146,8356.253757307913,5919.219617093342,2090.2419521244233,8761.235233926242,8376.664330537573,8980.93641735709,6822.283472602584,4968.885408533669,8253.350359682954,9923.012021261193,8547.685516005491,5108.797040453136,7003.461586862209,611.9267891290903,6831.995898562446,8767.948504425893,9543.879778348522,522.003869430373,2683.8137805706565,8275.746127398634,5592.790940557882,8804.365944930729,6701.228911757369,8341.861244744749,8879.000799931053,6486.098298112239],\"y\":[4214.998565287146,1996.9087993145963,3428.095504330215,8461.786248214357,7112.604301687071,1077.2432467131744,9915.252823129867,3113.4285902851466,5279.283224912663,5950.2172897439805,7857.718035332745,4631.048801030119,5406.585388732263,9693.835902743298,8765.654126298383,9405.165398568777,1295.9585616386282,6524.808545935066,1278.2852821712454,3223.5973989845447,7724.315434520827,2911.587107355157,1782.9522839905098,428.92171078836697,9440.494024149808,2514.0495702698086,3047.902714881345,9679.217524289683,7925.96995040415,2859.0714430416133],\"z\":[8995.341347156545,3503.568668527194,1180.1386685862603,2491.303257881773,5899.471141946371,455.1139531624071,5979.933970388913,2231.0529286472147,9014.955521542595,9338.276429599895,7815.503562425799,3126.2440878320353,8924.437947768125,4723.1161207381065,1018.1176272967297,6703.008050906121,3739.456566681064,1758.5902793185126,473.43675351166905,199.5387249055991,1697.29631730269,6157.827725484822,6752.720278933092,610.4181943636066,3667.022042323008,2152.3540208154745,8496.507328121004,6573.704838204419,6611.141977524303,7198.529939799469]}]},{\"name\":\"Frame 28\",\"data\":[{\"name\":\"Frame 28\",\"type\":\"scatter3d\",\"mode\":\"markers\",\"x\":[9449.759726787664,6400.645241518538,7145.049911066382,7268.297778335372,2674.405284456197,3877.9571586293127,8994.603579144201,667.6534421735048,1154.6741663441585,865.2029601842037,9372.892360978027,1500.0960597778258,2262.5757571115378,7164.85579506038,7080.457961881029,6128.628265080635,3365.3137840508853,3660.2356402249325,9478.929663097628,7288.714479002037,7233.394691426265,4296.570376182368,6396.240987785895,865.9282385958678,8847.631353663743,6123.018906345863,6492.297598173787,9775.852995832034,9705.20323667768,4318.568108724667],\"y\":[5647.168985714731,7870.118800381064,1789.385692274682,892.291561390064,7529.580236095886,4341.302211628103,994.5090746125818,1578.5440129281203,3661.6820129917014,5710.722791377949,8987.171426556755,5340.233610337816,4016.7821239125255,8157.0218449620825,3236.6705366603287,4848.4007554561185,9469.922263722803,7679.715317523704,7262.084533696221,4323.903417281564,4266.890399301534,9390.756360640093,7020.374185017402,3207.0940308821437,85.45815925110611,88.46341441717476,4799.340013269268,263.9437066475303,3233.339767795237,191.99888826717194],\"z\":[8981.218358185508,2942.154115720894,3060.56901483473,2100.9167523734686,6607.1504839815325,1058.3716706174673,2759.6951074568997,2093.1151998476817,5799.717453972412,2227.696938431979,3385.402382660928,1985.8698126607221,6790.181838010598,8839.264011608635,8145.860243469507,4958.443427470148,3549.034756671763,2836.736406950352,6801.313973388367,7171.100356746491,2832.8945233522363,5080.150319120345,9351.129369966324,3114.1782358323644,3837.762083204003,645.6112626667076,4098.707397231587,7982.202905714045,9588.086959439546,61.92672739221972]}]},{\"name\":\"Frame 29\",\"data\":[{\"name\":\"Frame 29\",\"type\":\"scatter3d\",\"mode\":\"markers\",\"x\":[7654.390332116647,4791.85431109153,693.0539804288038,9188.339767033925,3469.6799759952337,7448.925553448869,3165.950774022921,7205.1030296651215,1091.7946811742695,3518.2406375100927,4629.431842684667,3018.71168992666,485.79462378689266,2061.8256270059887,7418.9499707373925,5276.194375926015,4492.2061741936695,2584.4591567833654,2848.568885515832,137.93351363340588,7771.282930228997,862.0524432526532,8217.841091420092,3976.0724435612383,2430.738682313722,6227.138312944085,7015.369631008555,5245.637290183585,8941.997134218662,2747.0766240046773],\"y\":[3214.140149610878,918.0851961427428,5920.699128121675,3654.416195317105,2555.654915202731,8072.06586213933,3880.420666910086,4375.170269943271,7284.353920839486,503.76153538203016,6164.2455964332985,4549.6051980296925,5920.767041576382,3549.2494294087105,4917.052642288407,3551.456784978396,6351.286358021284,7703.91003598217,1182.072737229085,7185.3283636964425,8764.406165574803,3078.9801372397405,5988.473813341232,5478.340388292564,4777.732427652738,2252.9269508355655,3642.440491041092,2780.944470684904,477.00918142061676,8655.404659840946],\"z\":[9342.412575946422,1753.127176691125,4027.872444808667,1264.1228998152221,709.8532636412758,2236.069870912566,3022.9867410306865,4100.041976328469,6860.118911011391,4495.651276265852,2791.678234056918,773.8854412639906,9233.706846924631,3873.0115298780734,4526.128409677447,167.03938440553068,5566.360451139893,488.7198086430533,1267.646056937678,9222.483735679854,2097.212820541183,3320.925161835998,548.4900235986689,2776.4822186186866,9397.354299308678,2714.185367945574,4799.165621466308,8379.333618288827,4046.914229397278,9174.508217952261]}]},{\"name\":\"Frame 30\",\"data\":[{\"name\":\"Frame 30\",\"type\":\"scatter3d\",\"mode\":\"markers\",\"x\":[4508.073626722253,6133.566071765755,1796.9445389990246,9167.462341443168,4559.840337824322,9720.532791776428,7823.104134225356,560.0413968321183,1180.615020285537,4991.447805863734,6211.339286782939,1333.2986757470233,5483.069551307709,6766.47797386416,3911.46060682524,5241.592086042279,9730.790122079594,2815.583480699313,4052.721920674803,7205.612939517796,4131.206650098526,6387.379149925801,9736.208649589033,9400.19154137394,5218.152114359937,5107.369411864505,2202.0437042315634,6234.213574455173,1699.6047475044375,4584.479859603509],\"y\":[6615.125665650703,2718.7963067418787,23.113333868960417,9644.897690049653,4621.316388519919,6081.209216962826,9850.861824575366,4754.800232240464,5296.696712441512,4905.851567425015,9138.282765424416,7898.637828642167,5145.712235451044,3569.923927518748,9574.57934242191,8947.211029537806,3399.738325660734,2290.2622456778663,5770.4736140598925,4379.85788306003,1025.7877349213106,4709.129860929306,5767.945986627276,5117.654441677107,575.7997541460269,5620.5897549357,6198.690997607774,3179.5967833742125,9290.140172893067,1175.4108419679987],\"z\":[2732.458839443861,5891.322503019332,9714.654506694245,2701.2849155085482,5333.414905262847,3456.0018942012803,498.8133973597819,3136.4667718740234,8282.094461730074,6839.60626591836,5013.196341229268,1998.7681679586155,6922.488240499646,8127.843617926181,6957.761268777328,798.1741928567865,6658.243893952081,4779.627120300613,228.04984065280198,5850.171982898749,4848.9253173991065,2532.01710642873,4964.684024318621,9558.21286157569,2946.7211524796344,9104.164366124358,2932.210078303793,4407.556528900688,4465.949958205385,2302.847889262819]}]},{\"name\":\"Frame 31\",\"data\":[{\"name\":\"Frame 31\",\"type\":\"scatter3d\",\"mode\":\"markers\",\"x\":[3156.549395294672,6149.073882258695,4192.160497099363,1649.79139494574,3096.022634949468,3950.412379663717,5414.579529743877,2231.010961921208,1529.110056314784,5653.258877900008,4905.114057631447,3111.030787908953,6812.8183957278425,5699.259608498869,9869.064290038687,359.87708739686377,8198.731108174074,1773.4850796481194,7157.16159380018,6508.343890137296,8489.511334226674,3763.160851075399,2655.495328022599,4077.0969722608365,3476.8407376629793,5240.706185353561,7959.345540866261,717.7643492786545,7322.477362903187,3353.955523816341],\"y\":[2188.895012531904,7459.238784101141,3327.312764397976,7742.764984974725,9119.243338688739,9569.992295769236,6379.0225315353555,2900.032108337579,3674.100774787562,1627.28989506006,6777.098166675819,1256.4881253517335,7271.991761346381,4526.75559783106,5104.755151136193,6192.447998997236,8515.754873956366,2370.8334754369607,4350.41690415377,5166.033573122873,4280.571296178656,1442.2564333889432,8577.173328771478,3196.2100241537305,6382.71506781288,1798.7170060759106,7096.819455260132,6050.308375356759,700.6677480677281,4417.513560730218],\"z\":[9325.780777078853,659.5304281114977,8872.193101148796,3274.020278767168,8283.434975072954,7522.264519959923,7505.420831455166,2255.410557971681,39.0445445970733,6153.866730486962,6218.941968920737,1391.13913381796,2321.7157150886937,2.887887729788874,3765.3728280954433,5524.26719318533,7978.504177942076,1677.562112618921,994.7946199522273,1252.7951117248103,7998.990363787718,2812.6914508739933,478.93012777797674,4737.740991497764,4420.348420630275,5455.896014354601,5243.875132686654,3804.7849584228766,5585.1410903190645,3463.5264432672984]}]},{\"name\":\"Frame 32\",\"data\":[{\"name\":\"Frame 32\",\"type\":\"scatter3d\",\"mode\":\"markers\",\"x\":[3248.6496124326923,2658.8768315670372,4944.7690340915115,3070.3580890626827,9998.790914765616,6486.281427643243,9884.713299426861,1533.5237748541663,8998.663967449575,6236.113649408596,8893.406281050182,1549.9594470355028,8623.116154587626,953.4983512781437,3804.7742955511044,7007.976211718587,4428.555123912348,6179.060345027058,8815.197370450476,2557.3905353355976,7925.485730951799,2134.533432941852,9508.83023675426,5468.977692048534,6398.992374268356,4681.856898865398,3220.9405414591206,3302.8430860217104,3490.6046680408986,5373.198382865915],\"y\":[6727.1146706799445,5016.627989836664,6944.444141617374,4301.9295897786305,8466.888246389935,6318.302575082968,8172.491224261267,919.652308008061,293.5640681653995,2304.6182769807942,8108.279274589157,3501.954309886822,8087.679502380361,1725.1288475337833,5195.26250199013,7525.649689147035,1479.7877607554099,7573.008999375391,4295.566177440204,6862.841114845457,398.9276283791221,8127.73500178267,9806.777313986535,9402.21356893043,196.3485173032009,1061.0133079776408,2338.886466903427,475.5513971847503,7689.772170676467,766.1768988153106],\"z\":[5930.447950231217,3297.5489334322674,7631.665710760116,5682.59515075935,1972.4734770779273,5519.559256634041,2825.7107119954917,8060.466444043112,6760.533271271679,4953.008028774495,1398.8524674622693,3347.701301498529,1909.9874610152167,5535.774192029915,1582.019143858595,179.42137988659735,746.2251443668122,6694.919987665945,7760.799420568192,4811.93292954902,9221.242504154854,5401.730206719052,1528.077810881101,5766.8634703461985,6909.842511152481,420.09583686065776,8003.819663705335,5437.471888722694,2203.194837597442,2516.8612087692763]}]},{\"name\":\"Frame 33\",\"data\":[{\"name\":\"Frame 33\",\"type\":\"scatter3d\",\"mode\":\"markers\",\"x\":[782.9123302235108,5457.97774112397,5944.443538500493,2732.8249111736145,8530.163279648505,1748.0769406715658,9440.507342850558,3205.6701075798064,2462.2620990118694,3318.645774135891,6036.169172716876,1491.1709883409596,6739.718945814531,6160.95682075986,251.00105362265256,9846.606496315157,3137.490731881546,9840.564006344717,4856.631454478334,5520.384691903393,7271.21151293689,9778.337820505005,4211.306583655314,6734.465164631085,6126.649280785541,2624.9626394562843,1670.6573069495878,1751.2404018940297,5673.208215827171,5621.535551292379],\"y\":[9958.030085965078,5184.116680332567,2938.005361635523,3387.733204682797,6004.701825032719,6541.1145930384055,9075.248894592249,7190.3432735305805,5959.741382572928,883.384445100528,8686.35075355026,2418.7821027494915,1821.242746766727,435.6142127769702,5929.409383441177,9730.552043887501,8455.102818900383,9002.879388421532,9802.399328680927,4128.418535877298,8644.46976229935,8128.57060320745,9392.612029840333,4092.4114139894564,4252.446407404531,5070.604544188778,4855.588846963452,9813.592140261097,3582.5778827577947,7878.20914387931],\"z\":[1419.9973440282265,5562.845560694635,8586.114163846385,2119.1446229163203,1810.5986972847866,6276.791641502623,691.9835163294085,7137.30915096225,7139.664557666587,2554.2373811192433,724.8741926539482,7113.247534122642,7537.894809733272,1430.4158927099263,6628.767929024772,3655.1642842267706,1579.1008285862451,2532.5914837198525,2527.7234759666344,2165.618559760941,7898.616875158065,519.4331625765691,4032.6675569981353,3809.1589659341953,3313.603964677959,5067.890918290345,7642.391487444346,8548.730780490992,9224.11827714389,9095.136829402833]}]},{\"name\":\"Frame 34\",\"data\":[{\"name\":\"Frame 34\",\"type\":\"scatter3d\",\"mode\":\"markers\",\"x\":[6588.919945716979,2423.769647463896,2107.016094206704,4389.457160566641,1541.8565540033535,4010.4708910480126,4510.470966899664,1372.8150620056522,2213.2778538156663,834.806055246069,115.08082969763022,6329.128864849846,5094.187223917121,6401.429743450474,148.2506780562598,5106.13973775312,3305.5057358488293,2456.705498658753,8721.732188458038,7035.06912385843,6861.020787961627,9121.651762413263,1507.9107630642552,6611.096574512815,5516.670173203958,7610.6894854987595,5578.6320637145345,3339.017121749114,1819.993670734954,6394.652944237174],\"y\":[8201.06071873916,2072.2604601511007,8975.535412650786,1871.5977393419614,8918.269054283879,7159.7922058835165,6706.432337057774,8876.524489267576,2337.96029034818,3764.2325174488346,8419.380275652738,4691.212068152293,8710.92494143804,8825.867678890561,4669.620846194851,2607.9296185248622,5601.541272978318,2321.051605249905,1174.544096145137,7555.881527670387,6735.82974201481,6699.82241110753,4438.956306507379,6816.809656024026,3458.2716993759554,8686.391801819042,4432.017875399623,3436.2618504818565,136.8131910564696,2987.486755385836],\"z\":[1695.3026263292215,8579.610131135654,7326.17073320161,1877.3580496846942,5763.391664440778,1786.9811058367845,5532.762779685917,8114.591832919938,2842.8595506239362,4848.840225790863,8020.292160639673,1194.6929235537052,3322.4710098731193,5854.046274753968,3253.2084949607734,8553.73621339384,3876.854622500817,4854.777736492741,6295.984277766194,4012.20737112586,4677.87444215992,1547.7996507434443,3769.3379054097954,5484.484944062286,9542.374686617815,8389.131162303342,8810.242203969341,2778.247419819544,5721.924916717869,9639.240123209858]}]},{\"name\":\"Frame 35\",\"data\":[{\"name\":\"Frame 35\",\"type\":\"scatter3d\",\"mode\":\"markers\",\"x\":[890.7615154746129,4169.4068299282335,479.64613817150894,7978.474441530024,321.46108937787466,7362.0099227539995,3601.1490495141275,5537.522351689538,8798.335087299223,6428.869911522712,8551.078373833578,5455.261254414402,5447.907811214181,1377.5186664471817,113.69281069889436,3406.4434490599983,2483.3565434102557,1097.4035011402616,3045.383299118478,5934.238512367067,5805.219850544643,3618.074584126946,4518.970423686452,3877.7329385895655,3663.444968294316,9844.439496972866,2954.080952699213,4702.065727533887,843.2441014664715,8233.99206766681],\"y\":[7204.857740921002,7118.955379448413,6745.41909889798,8242.24588084975,3015.7062628242415,5027.954444313223,3202.53093522052,9786.434302480186,8157.739616677121,5513.841500054525,1905.4827475509662,4463.866534636253,3723.0288589976158,7403.143292800794,1910.7921734499,1810.1580537623695,6680.72932815944,2712.8570103584448,4857.035068878696,493.8773752727332,7988.596856256024,3217.0153206951104,9239.638516611307,17.98552227998296,1305.366510513377,8311.824559911298,5376.413039698938,3234.771378884783,9663.91944093127,8377.675473320183],\"z\":[9541.907540450475,3779.807514115241,1342.1115825057007,9916.40913040704,9156.882796870088,5391.789124962432,1607.5996967725303,4884.79808204812,889.8951988454907,2008.9402364305242,4014.944246073825,6850.27972184022,61.189511765729065,8519.000800022895,3497.728700520779,862.5570898776591,2834.802169446763,2088.639144096779,3625.3832169387947,2264.7618678011163,2342.978795558545,3109.4574093416472,2083.856870663914,2060.4516311661137,6107.710588120606,2971.5898395712,1691.2354400330732,2907.7900392534652,4907.404752912062,3112.221382997281]}]},{\"name\":\"Frame 36\",\"data\":[{\"name\":\"Frame 36\",\"type\":\"scatter3d\",\"mode\":\"markers\",\"x\":[9073.85099076176,329.8402158113989,2582.398410805921,6085.181164501304,9505.39053132779,8309.975887926958,2181.232984397531,4759.0903760072615,4350.953412610114,7083.995762352572,6320.310897598608,175.38130500467707,7059.971754548622,3645.6026552683816,8662.754325786667,2083.82377824774,4716.351786127211,2249.4913775243263,9017.994744039706,8722.022421630547,4781.1539844527115,3026.3580472991302,6721.820232240756,4016.6896827422806,852.5763427724087,1716.7350126925041,5677.312491776703,1058.3079949357443,7019.966149137722,2485.620297165503],\"y\":[9720.312391797213,437.1393693210679,7703.032259816626,8797.459243921594,8818.746245346912,827.3594990462695,8744.384803259307,4411.107257037909,5023.3609779469625,7067.424891567048,5962.985100849777,7696.983188514194,2058.106613618822,7908.608771027422,9378.036548145514,7683.703017627992,3971.619878872803,1589.9715179163798,4877.30663632735,9509.0567535811,6366.954785053216,2446.853657009179,230.81677024828994,280.2739086365358,8384.916814914988,5871.318007126421,9040.296431838144,3741.100727709149,4837.056710058027,2116.7848675116998],\"z\":[4466.742935461204,3598.285323663143,5667.5858622703345,1675.4365434844442,4392.892393853981,877.654624918992,4269.173648814217,6255.801399400235,1054.3487931565132,260.03338355891304,7085.797537776253,9749.243598336747,1112.579625673157,3989.845121427673,4406.5099204918015,2997.9240215362424,6644.9369079067965,9654.303701316952,6287.200146767935,4663.119131246835,3591.313092998384,9898.687813972081,8133.123676855241,8041.617848560472,1823.9999705636046,7973.268505767162,7633.180023773662,289.23846832235256,196.765463517784,2900.0338736094113]}]},{\"name\":\"Frame 37\",\"data\":[{\"name\":\"Frame 37\",\"type\":\"scatter3d\",\"mode\":\"markers\",\"x\":[8457.618481439264,6184.341621007677,681.122718722923,2002.437143884941,6414.060104983533,3300.539113896843,8012.212416180027,6558.974547268146,602.4229329046615,9256.631214415831,5143.678718045988,8421.468164242184,5517.5414075185545,4573.125864530548,250.3677531076276,1581.5182847153442,18.97589023770685,6588.531642868251,8019.632716878168,2873.6612051598977,5620.708419057287,874.9326817201919,6536.482323473058,271.34740824346414,9649.126997094316,6641.191561636611,1194.7627511286385,5561.935474480506,8475.902749329582,1723.4514723103334],\"y\":[8756.016782601699,579.47305155022,2253.064475017187,936.4304365439235,7929.613382405824,2629.112671990095,5360.7841843894685,8795.342135176888,7662.2025681553005,5254.596849736628,6124.0847257043915,3917.091267128383,701.4922347145647,5080.310917891283,5262.886847937987,7770.731862507037,7938.8047674444815,4101.994158089031,5010.5151905170305,4870.993874104534,8536.82456547126,9505.268655944079,9868.986108835117,4995.022897123505,1913.393881649159,9858.72854816894,5565.102846736058,551.296944336902,279.17498140489937,7358.405765227608],\"z\":[4929.587440844521,3841.0154675787244,4616.446344977298,693.0134764635953,8142.180906342958,9626.086302514106,2738.2517056524835,2054.4370493440056,68.84877593090755,8154.1605576127195,5381.581326081555,4835.531246650112,9262.926618375033,2589.996038116705,5165.205114319951,5637.350030883138,1610.2518039846725,2663.7564587633788,3682.247634793887,5350.5224040112535,6569.0219210661235,3270.682117535162,3999.530509893283,9280.559314242983,5488.330705555568,2742.8989198455856,9400.173551409947,5554.458588782185,9585.030217352549,562.9538433324466]}]},{\"name\":\"Frame 38\",\"data\":[{\"name\":\"Frame 38\",\"type\":\"scatter3d\",\"mode\":\"markers\",\"x\":[4332.893331776032,4376.050860234677,9816.774590033932,8400.000108686561,220.8915389381827,8090.110124321085,2109.802137542154,1523.3804808277107,7035.182375495374,3470.3268709451263,9183.214882576074,9884.68478422359,1351.6517731325384,3163.8229315048593,4557.220955023084,9458.18444896584,2988.109742393573,2804.965745873266,5241.006407125895,4790.882098101127,5257.033694008873,3953.8140335861094,7066.6017854088395,3137.231466609325,8371.665252015358,719.6089253999638,668.3230200783407,9039.920157274757,1607.5725684020138,9697.301658522914],\"y\":[6703.056501594954,5766.933298048238,7448.740388223577,8675.186027869622,6064.871103012951,6626.439010044199,136.7098947345735,9464.28091665109,4568.137675559973,4854.874606451825,1793.23450314264,4155.193002069876,1856.5406514559568,5509.931943737611,1601.3821808628004,2125.755919809896,1141.0728088338185,6598.973077052378,7406.95410313118,7202.834030835205,9778.300769872107,9534.732023068142,4541.558788815762,524.2440136566129,670.9005978443062,933.9919928829299,3670.6180153892487,4851.839001834446,1005.6564041182514,8761.250106600452],\"z\":[8034.044643891854,354.3621697171062,7939.826233011945,5868.21122110976,574.2833572207884,208.77272019180327,504.9776664140104,3091.2832820049107,3135.855149167639,6761.309346262659,3218.1012938219087,2243.0718439735465,3172.501753795458,5444.643879205294,9673.011506009972,6570.200479077871,8212.481710586208,4165.055982147249,3730.747697434883,2548.609854617515,4709.518267738931,453.62839919028454,1835.8931155790626,2248.8233816418247,5846.3554371975215,7318.05555028266,2456.4320826295493,9927.48468957906,2359.8301604937656,1436.720738647478]}]},{\"name\":\"Frame 39\",\"data\":[{\"name\":\"Frame 39\",\"type\":\"scatter3d\",\"mode\":\"markers\",\"x\":[7677.964665843165,9987.80962082127,1520.8248140146875,4104.2879192753135,7578.808671028123,6000.4203279031535,2029.4110197400173,6168.1235409521005,170.71689581542816,2087.3542101397347,6774.95737075024,3087.447736268625,8410.638701031206,8645.872402752068,1162.9183413931655,5202.188848234603,1072.1664410826259,4125.02179286921,2024.4803243325105,1316.0933164618593,6111.00082562889,3366.7267620117236,1002.1943472994699,778.7248964341243,3566.978541549303,884.5203721652284,6744.170590995165,393.5617272628955,15.906008438237862,4376.851044902018],\"y\":[2241.374476361817,7684.477476364069,8117.6494266783875,9758.229317936271,7207.007134183285,1320.4726305974114,2902.6269132914695,4040.304934608909,523.912361640726,2828.60292950913,1097.0625645041787,6506.296716823265,4475.400439911571,1117.621728454541,1008.0558432656694,1796.0243209520788,726.8387859015924,2789.94094382922,8272.727186493705,755.1144633953055,7839.806348870996,6737.086300685694,7121.404577239604,6200.792558192333,1477.5632046354349,1093.9032497141532,7713.015733223967,1117.986829489649,1400.0438797969039,4269.350162141707],\"z\":[7571.556658095549,6223.309656150049,3848.531678239727,9476.787647963269,9185.709303503316,2320.8041135517365,3984.623304819375,3954.2601718579963,6429.384214053065,422.1723662213905,675.0546452639627,9895.331905311892,9619.166485305772,9215.532860072357,5103.399417443077,4003.6307855870045,2745.3467962925424,5140.578459155185,5441.615472680118,6539.320153128505,6696.42606675686,5064.337156704156,2128.8637789638456,8743.304686568299,9142.676491245831,5350.5668895785175,2181.972991565222,9605.051481927096,5152.55684487137,3977.140338486217]}]},{\"name\":\"Frame 40\",\"data\":[{\"name\":\"Frame 40\",\"type\":\"scatter3d\",\"mode\":\"markers\",\"x\":[6401.386339115028,9082.48412319045,2586.4699944614435,4279.606920616477,338.3697737200808,5087.488508219206,2845.567339961629,9885.444512485361,8453.719993233439,5818.1465763704955,648.9945121248597,452.34723304188316,1025.1619653145683,7348.891061495981,6171.187217806384,6935.2138795216115,5050.080036359866,8782.353946381289,9091.522440194343,3280.340550992025,3642.1768451480716,3721.756269637584,6891.8336000278705,8681.641277943234,3235.1117040349495,7340.2719366905885,9083.007573191462,832.5526480198442,4283.117723411642,2903.8683278951703],\"y\":[4950.073990261401,5968.604894694288,9088.05753668797,246.70815398992073,4875.913396764231,5919.471041999208,9884.32227403459,1403.2787082021337,4336.899369094074,5875.631215878831,1377.4378318851443,5368.983888343534,5259.507929695523,9123.624105296823,4559.192798915005,4791.023148697846,1585.11836579305,6615.174067791109,2811.5559958408166,2283.9512963851494,4610.9376811314805,9909.324781143378,7063.605485692438,3019.392827459354,8958.187922445155,5763.024554017225,4080.141685929063,3256.969386870889,1864.3900478019693,9444.449111075788],\"z\":[837.6148476822043,1563.566283841663,6904.788899836682,1704.6636022227312,8382.444375162991,610.64926491738,8218.661708896756,1267.0650309818566,568.7651014953366,2644.4216520904397,2849.461668166077,680.3675303891032,6637.088665757343,991.1828537972945,6903.441374794015,8429.720523032147,1722.3178909353164,3290.3364411800394,5889.61586886548,4311.883785037375,6069.006888468055,9540.067562278078,824.6204984971339,8254.20635751291,1983.7154887703878,9495.789135628438,9469.221418502564,4993.484355475438,7368.756067993522,9479.038359661303]}]},{\"name\":\"Frame 41\",\"data\":[{\"name\":\"Frame 41\",\"type\":\"scatter3d\",\"mode\":\"markers\",\"x\":[6408.946638969901,8329.605715594585,6058.583893083579,8234.574992142603,6599.4993368811565,9030.212153962173,8119.538888950503,5116.0208440955,4468.327795313828,9886.440488125838,7775.595918374725,1585.4488912355591,4696.920438887609,9906.132559690664,2687.2349231455228,8779.916691814082,1404.1045616460901,7179.730639306985,5937.499666692103,9728.007991197734,9608.827268451734,6565.402957792075,1268.7567607657825,4692.035594411867,6571.599539208896,4013.775759780549,2865.6322554505186,2066.6245848722197,896.9899218724597,4088.9700125708428],\"y\":[3294.0460233896683,5281.98395422472,4125.257055772682,1041.4743784288871,7083.223963696079,8240.244812342971,2949.408978208663,6649.7122000385525,2877.0171214125508,7955.825413501308,164.688365810991,9970.98948686439,4082.811555887381,3275.8629594333443,8990.678046630497,5128.834731253908,6510.7661924795575,2824.323263914046,8501.929793573994,3312.5777085473806,1623.0688506797765,3643.4864735833216,7561.21892491423,4276.333273949117,5702.3524129687685,4399.078694511175,870.2320472765534,798.3907900345821,8500.369046951528,3470.4003094157633],\"z\":[3535.7001653423827,6798.336807699728,9742.469491645532,2764.3779793950584,9894.68764498715,6108.063046497198,8240.392164470704,2672.5486412864607,8250.95435187218,4254.144455496324,6305.3159531416595,2232.5584654093213,5645.013562846477,32.898579912097325,1655.0869705410553,1260.8402454483326,5813.702873177314,7145.764168283524,73.97866761897131,7990.708919811542,9090.799249951668,8711.46780424579,4710.303506740511,6580.195365607131,5158.40461301316,9082.771905120773,2086.6411399973163,3746.5147687663334,8279.533022715665,8069.429703737939]}]},{\"name\":\"Frame 42\",\"data\":[{\"name\":\"Frame 42\",\"type\":\"scatter3d\",\"mode\":\"markers\",\"x\":[649.4064066544137,2739.1438662718847,9925.538609109108,2405.298514978158,4998.930195542718,5881.062073002009,5557.7182496363785,8096.389135086616,7818.181914967486,3987.7866017187634,730.6333022420708,5147.961100176539,1957.712202666747,2116.4106969598606,6655.394350941896,3092.601650834388,7136.352002566279,6301.934349825755,6894.355928467718,1727.5467380375142,9281.652395226927,5205.751337343112,4954.373055470913,6518.342381820608,5661.006774382586,3931.236760137502,7203.9734095647555,2237.2648192118672,5643.848658696729,4653.958581028108],\"y\":[6760.502033528247,1578.7454210286678,5187.268788146961,169.11126957510513,1776.4986671978754,7730.38102015261,2951.8546090936393,1976.350858448701,5900.27148897518,1176.931662303955,7331.50085331189,4102.287936923142,9593.833492337257,1376.0398549755337,6620.400423307432,7503.471623084762,8462.071433451936,3368.233398916406,9042.370853807915,7597.779776979677,8780.22033081831,7870.096051236555,5432.129900501636,9239.702846683205,1002.4173866604602,948.3319218098518,4985.085387409691,9285.0932789028,9192.317916375681,5983.7596832120225],\"z\":[3681.657817387747,6783.525235348256,8037.452151098941,6308.117242075905,5744.104051741749,4791.490701296235,9392.209610262273,1632.874487647391,798.2703038761297,5817.235138542255,7140.039691542735,5188.085208919129,3289.6489264157426,4988.114879759858,2573.659453293156,1350.636605240414,6142.571333327702,1173.9329286627765,2462.762567459257,5465.081371168654,7653.3196657186645,6504.794025406306,8511.928738232848,8546.567882912046,9172.394105102603,8989.593493789576,7.133509727608178,9604.208567236494,1258.1273357334687,1271.3324071921295]}]},{\"name\":\"Frame 43\",\"data\":[{\"name\":\"Frame 43\",\"type\":\"scatter3d\",\"mode\":\"markers\",\"x\":[1107.4626694419276,7434.558803240825,7673.286448600212,948.0332487381448,459.337879762779,1908.7052818977622,9848.260912084494,4343.104918105359,3593.76416453248,2012.7880980623636,9248.885077679048,6126.58467954241,7912.814249653912,4200.613319414982,1463.8968154742781,1768.7655158772097,5979.76220427994,9978.338210429052,3766.489240261188,8450.290814846583,5297.990660980314,6065.041011817787,7406.363836582252,2757.8815032895386,1796.9909659769478,3959.312544344498,6953.146431341378,262.43369406675157,9839.484620478592,8290.839543284743],\"y\":[1638.9800114737884,2906.3083326115534,3721.891691330961,4947.272101845884,7837.565259059639,5019.207810191903,4361.083123625876,640.5024092347222,7568.867466096588,7737.115483627066,143.54734010935454,5312.801544668121,5233.164034238204,4616.351777521116,2758.8126269576906,7582.100450173901,3655.063653658035,8314.876684175484,7247.166078453059,1287.0165431158864,957.5708435938657,9355.550021770441,462.41280149379116,8116.066576725161,1788.2382072101466,3191.136140254921,3683.6235785566682,7291.827888301269,9983.885390660076,1058.4182643869021],\"z\":[3205.5246586428057,8329.640614229233,4887.328988358374,3438.866503302218,7395.3768258748105,7001.771473658301,219.01650198474675,2335.8836299276163,9924.909637673849,7811.788159826882,2658.408268054412,33.72510079762914,6669.063508372035,8520.219100351449,7104.408041329701,7520.7741169169585,8109.007340399457,3561.406041079902,6961.095228092483,5339.927361558643,9985.097821330848,3552.7806280996565,734.4633296415803,3271.426249383016,2416.1473845709525,7521.625810348609,727.8229625544286,2958.54522846939,1734.576538717746,2960.712500538819]}]},{\"name\":\"Frame 44\",\"data\":[{\"name\":\"Frame 44\",\"type\":\"scatter3d\",\"mode\":\"markers\",\"x\":[5687.983570235025,9354.128406201062,9882.726265380265,6373.028087500987,6881.275050235994,2696.04554120237,3373.80625912769,3577.1420490571936,6267.931494544996,2612.2084219278886,7541.664920086685,4718.581643862822,6195.303975118959,9910.880726533142,2086.765304777822,3668.9223807092,2344.8316300697225,9629.577815354114,771.4534893200653,5293.11758129234,5544.6425171137835,995.9419359273047,1525.8137892740908,6926.930755915009,3499.1219076340476,6096.54965861438,3196.102918886651,2330.1525737945126,488.72299784064046,9254.69121483136],\"y\":[1700.9622778835264,7367.619524604312,1657.7671900307632,3385.7364081122487,1456.3095231000134,6718.873388203697,8634.913790039953,7928.78112971324,7588.012034495222,28.63632630774715,4920.4492156523165,5345.8455296636275,672.1502908181387,4084.0947887045977,2726.4886459325653,9634.976872662175,8525.881674845272,4841.323740441513,7770.64152751369,821.1811017606452,8917.617215877493,9422.003116226062,4900.639668731005,3969.1932184013945,2973.4288243462047,3562.91054743444,5366.888426133024,9904.667962761094,1527.305825401938,4424.499957157658],\"z\":[6061.845980849033,7535.45665965756,5696.082866694848,2151.208735750777,2109.59331292112,4432.207107446045,8555.568646368889,6124.95528669711,6815.912116760633,3157.608597513312,6952.598797209476,3464.627893917338,7178.63389792445,5726.177781163639,1208.449156439636,7998.185022819193,8909.987672515,7531.559093122947,5752.245808378593,7670.319110951485,2237.114630461853,5095.896839646801,5568.7037556865525,7147.465281900594,8623.881420294789,9075.905194772484,1752.744272356671,243.2608438624684,8996.569728680168,5102.849556124183]}]},{\"name\":\"Frame 45\",\"data\":[{\"name\":\"Frame 45\",\"type\":\"scatter3d\",\"mode\":\"markers\",\"x\":[4434.228422811202,3711.3934291139594,6057.979706390656,238.72580535570066,2869.2596069886113,9939.100589256133,6838.928135144489,2098.501624248241,590.2018393170239,1123.4129084913825,6763.087332868359,1018.3667317183898,8164.771085940784,1623.5635511168211,3190.5541470173225,3042.5095931977676,7335.255312237082,8356.809189055766,4657.4964944705125,2956.026614343725,8092.12340896816,1341.2413222325836,1843.6763145410207,2109.1356836826812,4581.9855257115005,7787.993290379661,7676.601896523431,5357.9565592670915,6658.075442110908,3506.5725909014454],\"y\":[6920.5151526281215,5089.686083853579,1352.1176953002612,4810.883725742876,100.37127617568697,8005.08826851261,2579.659531785409,2599.828517855772,2675.4250159887893,2098.7814305586217,7986.637763029182,7835.199526452387,8003.985205907854,7107.900138178464,9003.162598813406,4250.91650867601,1830.3597140245188,1592.271347887122,3891.200685514122,9801.475558024846,6776.958009343266,3764.335151887742,3856.0402556858776,3093.8133129973544,7638.977737457911,1204.6095715520123,9137.130100399954,4845.617336649394,2156.0531467586366,6678.583689516432],\"z\":[5402.08044301756,7274.440058193484,7374.694810282567,3413.496986196395,738.3226074412453,6245.800819684023,8717.304676806943,3398.5423222004397,70.12492276229132,1994.7927565441526,7438.00299176416,6539.609625717015,6924.365020421242,4284.534900143816,2272.457928334011,6829.762682108738,2126.6632614999335,6976.139924995287,2778.3609873386804,4089.221422381427,5230.183265159925,5158.698113904607,5115.141361330207,6283.7012544671325,7262.611590172786,5224.100782012579,5825.974818633128,7947.534508000777,2722.5291191393662,4570.360807575269]}]},{\"name\":\"Frame 46\",\"data\":[{\"name\":\"Frame 46\",\"type\":\"scatter3d\",\"mode\":\"markers\",\"x\":[5562.082229358069,4818.084105813915,4664.588612913857,2978.4136489804546,2628.778354332013,3430.530652731064,9183.622797444883,2131.2055423608736,5734.678693049516,7127.198066524155,4641.000331781038,3230.213161548031,6389.924730982103,6703.15597421255,6572.259741218617,5213.3592915499075,4026.242561635388,4739.920816961974,1373.2478226847088,7689.620181426878,1101.1056905451856,7571.649894916988,582.6961115511464,3379.449089360712,1200.2200221887483,7783.304301023986,2862.369007782173,4586.465472733782,467.0065110299915,3157.833982185192],\"y\":[2621.6248467806226,7024.693720204847,1564.7098234569057,5069.519073555863,2641.427642039362,2186.9534920749456,9816.211843379531,463.16948815626426,3023.5564135960226,6363.844372701237,3168.5854543997493,6763.979891363876,323.9615768202808,409.0822155641993,1193.8742287643179,8330.39840450714,8824.9133531992,9395.78572991174,3464.5380275945004,6392.456801542108,558.8041887569184,5419.629300779377,4331.458448789343,1810.581543069516,1917.154764579063,9978.611537719049,9384.349164339317,1444.9897271571976,2461.5890251033125,4595.519091239095],\"z\":[8688.871918143364,4443.34197523775,5899.24004967,9647.985452265342,3271.7087289707024,4334.4166899699785,4093.2517773439104,1732.3823260260629,4264.297326936414,6458.131439054071,2449.748434976895,9311.601282878386,8617.888273849072,7967.330466486238,9055.842987021195,4883.1183682733445,1367.0358796089365,9404.327525344077,538.9614337704851,9452.554101955764,2045.5851170332396,2685.270762277884,4775.96090168693,1709.2784461564404,2048.6778591990997,217.97887925984472,4301.225284976062,9974.434177565552,486.2448593601387,3833.972735837051]}]},{\"name\":\"Frame 47\",\"data\":[{\"name\":\"Frame 47\",\"type\":\"scatter3d\",\"mode\":\"markers\",\"x\":[4546.121237703273,9728.07547327668,8387.909385392342,233.00600508616597,7887.9049287017915,3320.959000030229,4996.181360769861,1718.476051177994,7894.371405152959,1337.8381225149194,5324.269785459714,7144.674091103412,8121.238433396827,7002.951856479275,5156.800268958786,8201.913278792532,6352.466473125422,6004.719265095208,8236.17135223549,433.14849710055836,8269.410810660265,4165.482746177849,504.24266150929543,6705.7854749584,4192.916144271636,4493.471606060011,7958.495237688383,3254.9452235125555,8763.153524987927,3327.9824002970227],\"y\":[7933.761376583971,4869.541151303042,6205.216515121635,2525.103980657938,8435.074287661348,6310.090059513619,3174.185728751561,930.1425912297323,6524.138323188295,1627.2689233138171,7081.579094807151,3744.2283861307433,4701.376193805257,1692.7979094767575,275.8094156561386,2816.4155067746933,3727.4613810600276,2959.315951877818,9482.468698014962,4378.914268138583,1392.6987368569467,7233.485324578869,5505.9690840460025,3291.9235116472855,9369.567467555775,3076.648054477712,352.26469647014926,4475.8578266303175,4473.19235993205,4339.9284095139565],\"z\":[7653.091158043565,2882.592891203527,6406.469711040635,295.75831021459777,7555.355084106488,3093.6826368804213,1381.01700310572,4845.378311529948,9085.012640304249,8432.324017423229,9882.07642573854,9361.943388045544,1402.9794048450817,7337.182405237336,7284.952833794219,4871.448324396813,341.3149149236128,1670.0092223584606,8032.517815892426,4478.753602842927,8141.130370667515,7615.318504520335,7647.770537611772,6213.582951876303,2409.3715037281017,4879.2132777850275,1982.3907118950424,9801.433767994906,4969.8273131781825,4005.7845242200565]}]},{\"name\":\"Frame 48\",\"data\":[{\"name\":\"Frame 48\",\"type\":\"scatter3d\",\"mode\":\"markers\",\"x\":[9791.679388605366,8256.922739783615,2504.425918002766,4803.326350652754,2978.235403594396,6652.166586101156,8664.074351080115,1108.951300003621,8661.160924210228,5930.377679902869,1674.0084833932312,8419.00291746199,8604.55643805656,9214.927972385196,2366.816342253175,1274.004136138871,4478.503687113882,1706.7197910970767,5047.008354541033,6710.700455969838,1927.6995843447032,2967.771193278095,7624.203342190559,8580.085014786373,2487.3512552140455,2156.511033635726,8047.7098207070385,5079.128193603833,12.897354137693107,2610.3494383122315],\"y\":[1233.4782021043745,8455.251133244712,7479.574178980879,2063.67351129619,4395.108448389804,1516.4202525272674,759.7969943806837,8744.490056995457,8973.797655927252,316.06502178929463,8300.78125115853,1610.5211720001334,4207.81578966456,6180.844737332566,9501.781627157497,5065.633282553985,790.3010079800832,3110.626763626335,29.779014482909094,4640.058843954006,3034.8697668716163,8503.860199580457,9314.398229459795,322.9478546504483,4501.73893120122,6147.858726724867,4027.295602902926,8503.366849479356,5132.760132932106,462.33571902714374],\"z\":[1478.203798595098,1805.9356924132508,7601.972985934367,95.86159919287684,8549.27879055759,8499.879194170404,6808.980977019263,7148.742533984338,5041.344215472504,9615.337955377829,9225.66172193174,5532.146699036615,5120.08263036265,2418.371263884611,8152.426007856667,8272.132790102098,6927.176182932725,3476.155910274621,6848.44062080848,8928.563424474956,8360.852928988237,3186.4665918256505,3970.9355296335857,6722.716096734155,6532.24578278577,6350.599015770216,4791.916286459051,8453.728976316235,9468.427355691481,136.4782556954558]}]},{\"name\":\"Frame 49\",\"data\":[{\"name\":\"Frame 49\",\"type\":\"scatter3d\",\"mode\":\"markers\",\"x\":[7256.310768303061,2832.8486406118127,1259.9358913680603,1608.7707373700089,4103.777446805824,4475.778100982369,6040.0587181520195,1895.3945416805484,997.1051338051162,5467.2441303757805,1935.095624753298,3014.907559326887,5883.345037035748,2148.2406562399137,3439.276830245358,6406.822274580981,6659.506958393625,3575.222588290735,9544.96233979529,9286.981482246883,2622.866386386883,5961.863034589341,5398.201751732937,6092.702740759302,156.62501024279686,4337.806337197772,7251.691969840294,7487.479759602737,4634.870488728484,8645.183109017347],\"y\":[4051.6168957638965,8662.607717259207,8626.491248005967,6542.478081442452,4121.8074017232275,2003.1734284450386,1135.8946689086479,9296.673618476365,2098.1203721028464,6578.434482578991,3839.0905508807527,318.412888525198,9517.87687308915,8371.687865981243,8056.896421363521,8131.265222418026,2283.6622424147868,682.3045657346738,552.7310702893861,6864.99412733437,9597.739323717607,3712.687746876082,7150.660956479522,7724.061385029936,1902.781808690519,5995.487567789482,640.0691845592211,4306.431204679061,9866.5835389906,8021.488217333377],\"z\":[3466.5208389058043,3134.0589262057006,2512.859242160432,196.15384390908818,6304.099349950971,8305.286399267083,227.19764665272146,3082.90607642306,762.6944535122549,5790.685282310482,7556.69008584457,7783.776262532216,8204.422009855796,8567.725431095572,1473.699604800356,8263.161961149566,6926.562290893511,8525.966388277839,3088.700290848113,5437.986990384364,6814.103953328125,4873.304951358353,4674.061442452382,4937.647549242812,3973.1875645968616,1635.135404536242,9300.108158881825,6579.706465186225,7827.4395909095565,8762.107642029732]}]}]\n",
       "var labels_Ke5YODS9f3 = [\"Frame 0\",\"Frame 1\",\"Frame 2\",\"Frame 3\",\"Frame 4\",\"Frame 5\",\"Frame 6\",\"Frame 7\",\"Frame 8\",\"Frame 9\",\"Frame 10\",\"Frame 11\",\"Frame 12\",\"Frame 13\",\"Frame 14\",\"Frame 15\",\"Frame 16\",\"Frame 17\",\"Frame 18\",\"Frame 19\",\"Frame 20\",\"Frame 21\",\"Frame 22\",\"Frame 23\",\"Frame 24\",\"Frame 25\",\"Frame 26\",\"Frame 27\",\"Frame 28\",\"Frame 29\",\"Frame 30\",\"Frame 31\",\"Frame 32\",\"Frame 33\",\"Frame 34\",\"Frame 35\",\"Frame 36\",\"Frame 37\",\"Frame 38\",\"Frame 39\",\"Frame 40\",\"Frame 41\",\"Frame 42\",\"Frame 43\",\"Frame 44\",\"Frame 45\",\"Frame 46\",\"Frame 47\",\"Frame 48\",\"Frame 49\"]\n",
       "var duration_Ke5YODS9f3 = 100\n",
       "var config_Ke5YODS9f3 = {\"responsive\":true,\"scrollZoom\":true,\"displaylogo\":false}\n",
       "\n",
       "var animation_settings_Ke5YODS9f3 = {\n",
       "    mode: \"immediate\",\n",
       "    direction: {},\n",
       "    fromcurrent: true,\n",
       "    frame: [\n",
       "      {duration: duration_Ke5YODS9f3},\n",
       "      {duration: duration_Ke5YODS9f3},\n",
       "      {redraw: true}\n",
       "    ],\n",
       "    transition: [\n",
       "      {duration: duration_Ke5YODS9f3, easing: 'cubic-in-out'},\n",
       "      {duration: duration_Ke5YODS9f3, easing: 'cubic-in-out'},\n",
       "    ],\n",
       "    ordering: \"layout first\"\n",
       "}\n",
       "\n",
       "var slider_Ke5YODS9f3 = document.createElement(\"input\")\n",
       "var play_Ke5YODS9f3 = document.getElementById(\"play_Ke5YODS9f3\")\n",
       "var pause_Ke5YODS9f3 = document.getElementById(\"pause_Ke5YODS9f3\")\n",
       "slider_Ke5YODS9f3.id = \"slider_Ke5YODS9f3\"\n",
       "slider_Ke5YODS9f3.type = \"range\"\n",
       "slider_Ke5YODS9f3.min = 0\n",
       "slider_Ke5YODS9f3.max = frames_Ke5YODS9f3.length - 1\n",
       "slider_Ke5YODS9f3.value = 0\n",
       "document.getElementById(\"sliderContainer_Ke5YODS9f3\").appendChild(slider_Ke5YODS9f3);\n",
       "\n",
       "Plotly.newPlot(graph_Ke5YODS9f3, traces_Ke5YODS9f3, layout_Ke5YODS9f3, config_Ke5YODS9f3)\n",
       ".then(function () { Plotly.addFrames(graph_Ke5YODS9f3, frames_Ke5YODS9f3) })\n",
       "\n",
       "var trigger_Ke5YODS9f3 = true\n",
       "var reset_count_Ke5YODS9f3 = false\n",
       "\n",
       "play_Ke5YODS9f3.addEventListener('click', async function() {\n",
       "   trigger_Ke5YODS9f3 = true\n",
       "   if (reset_count_Ke5YODS9f3) {\n",
       "      slider_Ke5YODS9f3.value = 0\n",
       "      reset_count_Ke5YODS9f3 = false\n",
       "   }\n",
       "\n",
       "  const start_index = slider_Ke5YODS9f3.value == labels_Ke5YODS9f3.length - 1 ? 0 : slider_Ke5YODS9f3.value\n",
       "  const end_index = labels_Ke5YODS9f3.length\n",
       "  await Plotly.animate(graph_Ke5YODS9f3, labels_Ke5YODS9f3.slice(start_index, end_index), animation_settings_Ke5YODS9f3)\n",
       "})\n",
       "\n",
       "pause_Ke5YODS9f3.addEventListener('click', async function() {\n",
       "  await Plotly.animate(graph_Ke5YODS9f3, [null], animation_settings_Ke5YODS9f3)\n",
       "  trigger_Ke5YODS9f3 = false;\n",
       "})\n",
       "\n",
       "graph_Ke5YODS9f3.on('plotly_redraw', () => {\n",
       "   value_Ke5YODS9f3.innerHTML = slider_Ke5YODS9f3.value;\n",
       "   if (trigger_Ke5YODS9f3 & !reset_count_Ke5YODS9f3) ++slider_Ke5YODS9f3.value\n",
       "   if (slider_Ke5YODS9f3.value == labels_Ke5YODS9f3.length - 1) reset_count_Ke5YODS9f3 = true\n",
       "});\n",
       "\n",
       "slider_Ke5YODS9f3.oninput = async function() {\n",
       "   await Plotly.animate(graph_Ke5YODS9f3, frames_Ke5YODS9f3[this.value], animation_settings_Ke5YODS9f3)\n",
       "   trigger_Ke5YODS9f3 = false\n",
       "   slider_Ke5YODS9f3.value = this.value\n",
       "   value_Ke5YODS9f3.innerHTML = this.value;\n",
       "   if (this.value == 0) reset_count_Ke5YODS9f3 = false\n",
       "   if (this.value == labels_Ke5YODS9f3.length - 1) reset_count_Ke5YODS9f3 = true\n",
       "   reset_count_Ke5YODS9f3 = false\n",
       "}\n",
       "\n",
       "next_Ke5YODS9f3.addEventListener('click', function() {\n",
       "    if (slider_Ke5YODS9f3.value == labels_Ke5YODS9f3.length - 1) {\n",
       "        reset_count_Ke5YODS9f3 = true;\n",
       "        return;\n",
       "    }\n",
       "    ++slider_Ke5YODS9f3.value;\n",
       "    value_Ke5YODS9f3.innerHTML = slider_Ke5YODS9f3.value;\n",
       "    trigger_Ke5YODS9f3 = false;\n",
       "    slider_Ke5YODS9f3.oninput();\n",
       "})\n",
       "\n",
       "prev_Ke5YODS9f3.addEventListener('click', function() {\n",
       "    if (slider_Ke5YODS9f3.value == 0) {\n",
       "        reset_count_Ke5YODS9f3 = false;\n",
       "        return;\n",
       "    }\n",
       "    --slider_Ke5YODS9f3.value;\n",
       "    value_Ke5YODS9f3.innerHTML = slider_Ke5YODS9f3.value;\n",
       "    trigger_Ke5YODS9f3 = false;\n",
       "    slider_Ke5YODS9f3.oninput();\n",
       "})\n",
       "\n",
       "</script> \n"
      ]
     },
     "metadata": {},
     "output_type": "display_data"
    }
   ],
   "source": [
    "val series = createXYZSeries(numberToCreate = 50, length = 30)\n",
    "\n",
    "val chart = (\n",
    "  Chart(animated = true)\n",
    "  setTitle \"Animation 3D\"\n",
    "  addSeries series\n",
    "  setXAxisLimits(0, 10000)\n",
    "  setYAxisLimits(0, 10000)\n",
    "  setZAxisLimits(0, 10000)\n",
    ")\n",
    "\n",
    "chart.plotInline"
   ]
  },
  {
   "cell_type": "markdown",
   "metadata": {},
   "source": [
    "## IO + Utility Functions\n",
    "\n",
    "The library also comes with some basic CSV IO functions and a utility function for breaking down data"
   ]
  },
  {
   "cell_type": "code",
   "execution_count": 49,
   "metadata": {},
   "outputs": [],
   "source": [
    "import org.carbonateresearch.picta.IO._\n",
    "import org.carbonateresearch.picta.common.Utils.getSeriesbyCategory"
   ]
  },
  {
   "cell_type": "code",
   "execution_count": 50,
   "metadata": {},
   "outputs": [
    {
     "name": "stdout",
     "output_type": "stream",
     "text": [
      "/Users/fazi/Desktop/Final Project/picta\n"
     ]
    }
   ],
   "source": [
    "val working_directory = getWorkingDirectory\n",
    "\n",
    "println(working_directory)"
   ]
  },
  {
   "cell_type": "code",
   "execution_count": 51,
   "metadata": {},
   "outputs": [],
   "source": [
    "// by providing a path, we can read in a CSV\n",
    "val filepath = working_directory + \"/iris_csv.csv\"\n",
    "\n",
    "val data = readCSV(filepath)\n",
    "\n",
    "// by default, CSV are read in as strings. However we can convert the individual columns to the correct format\n",
    "val sepal_length = data(\"sepallength\").map(_.toDouble)\n",
    "val petal_width = data(\"petalwidth\").map(_.toDouble)\n",
    "val categories = data(\"class\")"
   ]
  },
  {
   "cell_type": "code",
   "execution_count": 52,
   "metadata": {},
   "outputs": [
    {
     "data": {
      "text/html": [
       "<div id=\"grid-container_hg12LPzBbx\" class=\"grid-container\" align=\"center\"> \n",
       "<div id=\"grid_hg12LPzBbx\" class=\"grid\" align=\"center\"> \n",
       "<div id=\"graph_k61AbICTER\" class=\"graph\"></div> \n",
       "</div> \n",
       "</div> \n",
       "<script>\n",
       "var masonry = new Macy({\n",
       "    container: '#grid_hg12LPzBbx',\n",
       "    debug: true,\n",
       "    mobileFirst: true,\n",
       "    columns: 1,\n",
       "    margin: {\n",
       "        x: 0,\n",
       "        y: 0\n",
       "    }\n",
       "  });\n",
       "\n",
       " var traces_k61AbICTER = [{\"name\":\"y4IzW2wtly\",\"type\":\"scatter\",\"mode\":\"markers\",\"x\":[5.9,6.2,6.5,6.3,6.7,6.7,6.8,5.8,6.9,6.7,6.9,6,6.4,6.3,7.7,6.1,6.3,6.4,7.9,7.4,7.2,6.4,6.1,6.2,7.2,6.7,6.3,7.7,5.6,6.9,6,7.7,7.7,6.5,6.4,5.8,5.7,6.8,6.4,6.5,7.2,6.7,7.3,4.9,7.6,6.5,6.3,7.1,5.8,6.3,5.7,5.1,6.2,5.7,5.7,5.6,5,5.8,6.1,5.5,5.5,5.6,6.3,6.7,6,5.4,6,5.8,5.5,5.5,5.7,6,6.7,6.8,6.6,6.4,6.1,6.3,6.1,5.9,5.6,6.2,5.8,5.6,6.7,5.6,6.1,6,5.9,5,5.2,6.6,4.9,6.3,5.7,6.5,5.5,6.9,6.4,7,5,5.3,4.6,5.1,4.8,5.1,5,4.4,4.5,5,5.1,4.4,4.9,5.5,5,4.9,5.5,5.2,5.4,4.8,4.7,5.2,5.2,5,5,4.8,5.1,4.6,5.1,5.4,5.1,5.7,5.1,5.4,5.7,5.8,4.3,4.8,4.8,5.4,4.9,4.4,5,4.6,5.4,5,4.6,4.7,4.9,5.1],\"y\":[1.8,2.3,2,1.9,2.3,2.5,2.3,1.9,2.3,2.4,2.1,1.8,1.8,2.4,2.3,1.4,1.5,2.2,2,1.9,1.6,2.1,1.8,1.8,1.8,2.1,1.8,2,2,2.3,1.5,2.3,2.2,1.8,2.3,2.4,2,2.1,1.9,2,2.5,1.8,1.8,1.7,2.1,2.2,1.8,2.1,1.9,2.5,1.3,1.1,1.3,1.3,1.2,1.3,1,1.2,1.4,1.2,1.3,1.3,1.3,1.5,1.6,1.5,1.6,1.2,1,1.1,1,1.5,1.7,1.4,1.4,1.3,1.2,1.5,1.3,1.8,1.1,1.5,1,1.5,1.4,1.3,1.4,1,1.5,1,1.4,1.3,1,1.6,1.3,1.5,1.3,1.5,1.5,1.4,0.2,0.2,0.2,0.2,0.3,0.4,0.6,0.2,0.3,0.3,0.2,0.2,0.1,0.2,0.2,0.1,0.2,0.1,0.4,0.2,0.2,0.2,0.2,0.4,0.2,0.2,0.5,0.2,0.4,0.2,0.3,0.3,0.3,0.4,0.4,0.2,0.1,0.1,0.2,0.2,0.1,0.2,0.2,0.3,0.4,0.2,0.2,0.2,0.2,0.2]}];\n",
       " var layout_k61AbICTER = {\"height\":550,\"width\":600,\"hovermode\":\"closest\",\"title\":{\"text\":\"Uninformative Chart\"},\"showlegend\":true};\n",
       " var config_k61AbICTER = {\"responsive\":true,\"scrollZoom\":true,\"displaylogo\":false};\n",
       " Plotly.newPlot(\"graph_k61AbICTER\", traces_k61AbICTER, layout_k61AbICTER, config_k61AbICTER);\n",
       "</script> \n"
      ]
     },
     "metadata": {},
     "output_type": "display_data"
    }
   ],
   "source": [
    "val series = XY(sepal_length, petal_width) asType SCATTER drawStyle MARKERS\n",
    "\n",
    "val chart = Chart() addSeries series setTitle \"Uninformative Chart\"\n",
    "\n",
    "chart.plotInline"
   ]
  },
  {
   "cell_type": "markdown",
   "metadata": {},
   "source": [
    "The above chart is not very informative. However since we have the per data point category labels, we can use the utility function to display the data in the different clusters"
   ]
  },
  {
   "cell_type": "code",
   "execution_count": 53,
   "metadata": {},
   "outputs": [
    {
     "data": {
      "text/html": [
       "<div id=\"grid-container_l0yOj5TXYP\" class=\"grid-container\" align=\"center\"> \n",
       "<div id=\"grid_l0yOj5TXYP\" class=\"grid\" align=\"center\"> \n",
       "<div id=\"graph_HhpiwGstzp\" class=\"graph\"></div> \n",
       "</div> \n",
       "</div> \n",
       "<script>\n",
       "var masonry = new Macy({\n",
       "    container: '#grid_l0yOj5TXYP',\n",
       "    debug: true,\n",
       "    mobileFirst: true,\n",
       "    columns: 1,\n",
       "    margin: {\n",
       "        x: 0,\n",
       "        y: 0\n",
       "    }\n",
       "  });\n",
       "\n",
       " var traces_HhpiwGstzp = [{\"name\":\"Iris-versicolor\",\"type\":\"scatter\",\"mode\":\"markers\",\"x\":[7,6.4,6.9,5.5,6.5,5.7,6.3,4.9,6.6,5.2,5,5.9,6,6.1,5.6,6.7,5.6,5.8,6.2,5.6,5.9,6.1,6.3,6.1,6.4,6.6,6.8,6.7,6,5.7,5.5,5.5,5.8,6,5.4,6,6.7,6.3,5.6,5.5,5.5,6.1,5.8,5,5.6,5.7,5.7,6.2,5.1,5.7],\"y\":[1.4,1.5,1.5,1.3,1.5,1.3,1.6,1,1.3,1.4,1,1.5,1,1.4,1.3,1.4,1.5,1,1.5,1.1,1.8,1.3,1.5,1.2,1.3,1.4,1.4,1.7,1.5,1,1.1,1,1.2,1.6,1.5,1.6,1.5,1.3,1.3,1.3,1.2,1.4,1.2,1,1.3,1.2,1.3,1.3,1.1,1.3]},{\"name\":\"Iris-setosa\",\"type\":\"scatter\",\"mode\":\"markers\",\"x\":[5.1,4.9,4.7,4.6,5,5.4,4.6,5,4.4,4.9,5.4,4.8,4.8,4.3,5.8,5.7,5.4,5.1,5.7,5.1,5.4,5.1,4.6,5.1,4.8,5,5,5.2,5.2,4.7,4.8,5.4,5.2,5.5,4.9,5,5.5,4.9,4.4,5.1,5,4.5,4.4,5,5.1,4.8,5.1,4.6,5.3,5],\"y\":[0.2,0.2,0.2,0.2,0.2,0.4,0.3,0.2,0.2,0.1,0.2,0.2,0.1,0.1,0.2,0.4,0.4,0.3,0.3,0.3,0.2,0.4,0.2,0.5,0.2,0.2,0.4,0.2,0.2,0.2,0.2,0.4,0.1,0.2,0.1,0.2,0.2,0.1,0.2,0.2,0.3,0.3,0.2,0.6,0.4,0.3,0.2,0.2,0.2,0.2]},{\"name\":\"Iris-virginica\",\"type\":\"scatter\",\"mode\":\"markers\",\"x\":[6.3,5.8,7.1,6.3,6.5,7.6,4.9,7.3,6.7,7.2,6.5,6.4,6.8,5.7,5.8,6.4,6.5,7.7,7.7,6,6.9,5.6,7.7,6.3,6.7,7.2,6.2,6.1,6.4,7.2,7.4,7.9,6.4,6.3,6.1,7.7,6.3,6.4,6,6.9,6.7,6.9,5.8,6.8,6.7,6.7,6.3,6.5,6.2,5.9],\"y\":[2.5,1.9,2.1,1.8,2.2,2.1,1.7,1.8,1.8,2.5,2,1.9,2.1,2,2.4,2.3,1.8,2.2,2.3,1.5,2.3,2,2,1.8,2.1,1.8,1.8,1.8,2.1,1.6,1.9,2,2.2,1.5,1.4,2.3,2.4,1.8,1.8,2.1,2.4,2.3,1.9,2.3,2.5,2.3,1.9,2,2.3,1.8]}];\n",
       " var layout_HhpiwGstzp = {\"height\":550,\"width\":600,\"hovermode\":\"closest\",\"title\":{\"text\":\"Iris\"},\"showlegend\":true};\n",
       " var config_HhpiwGstzp = {\"responsive\":true,\"scrollZoom\":true,\"displaylogo\":false};\n",
       " Plotly.newPlot(\"graph_HhpiwGstzp\", traces_HhpiwGstzp, layout_HhpiwGstzp, config_HhpiwGstzp);\n",
       "</script> \n"
      ]
     },
     "metadata": {},
     "output_type": "display_data"
    }
   ],
   "source": [
    "val result = getSeriesbyCategory(categories, (sepal_length, petal_width))\n",
    "\n",
    "val chart = Chart() addSeries result setTitle \"Iris\" showLegend true\n",
    "\n",
    "chart.plotInline"
   ]
  },
  {
   "cell_type": "markdown",
   "metadata": {},
   "source": [
    "## Conus Integration\n",
    "\n",
    "Picta was originally created to help plot data in CoNuS and with Spark. A couple of utility functions make wrangling CoNuS data easier. Below is an example taken from the conus repo and plotting some variables of interest."
   ]
  },
  {
   "cell_type": "code",
   "execution_count": 54,
   "metadata": {},
   "outputs": [],
   "source": [
    "import org.carbonateresearch.picta.conus.Utils._"
   ]
  },
  {
   "cell_type": "code",
   "execution_count": 55,
   "metadata": {},
   "outputs": [],
   "source": [
    "import org.carbonateresearch.picta.conus.Utils._\n",
    "import org.carbonateresearch.picta.{Canvas, Chart, XY}\n",
    "import org.carbonateresearch.conus.common.SingleModelResults\n",
    "import org.carbonateresearch.conus._\n",
    "\n",
    "import math._"
   ]
  },
  {
   "cell_type": "code",
   "execution_count": 56,
   "metadata": {
    "scrolled": false
   },
   "outputs": [
    {
     "name": "stdout",
     "output_type": "stream",
     "text": [
      "22:02:41.462 [CoNuS-akka.actor.default-dispatcher-3] INFO akka.event.slf4j.Slf4jLogger - Slf4jLogger started\n"
     ]
    },
    {
     "name": "stderr",
     "output_type": "stream",
     "text": [
      "SLF4J: A number (1) of logging calls during the initialization phase have been intercepted and are\n",
      "SLF4J: now being replayed. These are subject to the filtering rules of the underlying logging system.\n",
      "SLF4J: See also http://www.slf4j.org/codes.html#replay\n"
     ]
    },
    {
     "data": {
      "text/html": [
       "Variable <b>Number of Rats</b> with initial value of 2 Individuals  defined"
      ]
     },
     "metadata": {},
     "output_type": "display_data"
    },
    {
     "data": {
      "text/html": [
       "Variable <b>Death rate</b> with initial value of 0.0 %  defined"
      ]
     },
     "metadata": {},
     "output_type": "display_data"
    }
   ],
   "source": [
    "val simulator = new AlmondSimulator // We create an Almond specific simulator\n",
    "\n",
    "// We will now create a ver simple 2D CoNuS model. The model has a dimension of 3x3 grids, and each grid is meant to represent\n",
    "// about 100x100 meters of a field. We initialize the model with values ranging from 2.0 to 6.0. These represent the population \n",
    "// of rats living in each 100 sq meter of the field. We will run the simulation for 10 time step, each time step represents\n",
    "// one generation. We assume a perfect parity between male and female rat, and we also assume that each couple will have 10\n",
    "// babies per generation. In addition, we will simulate a death rate between 0 to 0.9 (0 to 90% of the population), assigned\n",
    "// randomly at each timestep and for each square. A major simplification is that each cell (square in the field) has its own\n",
    "// rat population, there is no movement of rats in between the different cells.\n",
    "\n",
    "// In CoNuS, values that will be calculated are know as model variables. Let's set a few\n",
    "val nbRats:ModelVariable[Int] = ModelVariable(\"Number of Rats\",2,\"Individuals\") //Notice this is an Int\n",
    "val deathRate:ModelVariable[Double] = ModelVariable(\"Death rate\",0.0,\"%\")\n",
    "\n",
    "// Let's initialise a few model conditions \n",
    "val numberOfSteps = 10\n",
    "\n",
    "// And let's create a function that, given a rat population and a deathRate, calculates a new population \n",
    "\n",
    "def survivingRats(initialPopulation:Int, deathRate:Double): Int = {\n",
    "    initialPopulation-math.floor(initialPopulation.toDouble*deathRate).toInt\n",
    "}\n"
   ]
  },
  {
   "cell_type": "code",
   "execution_count": 57,
   "metadata": {},
   "outputs": [
    {
     "name": "stdout",
     "output_type": "stream",
     "text": [
      "A total of 1 unique models were defined, attempting to create a list now.\n",
      "Models list successfully created.\n"
     ]
    },
    {
     "data": {
      "text/html": [
       "<b>Model characteristics</b><table class=\"table\"><tr><th>Feature</th><th>Value</th></tr><tr><td>Name</td><td>Simplified rat population dynamics</td></tr><tr><td>Nb of steps</td><td>10</td></tr><tr><td>Nb of models</td><td>1</td></tr><tr><td>Nb grid cells</td><td>9</td></tr><tr><td>Nb of operations per step</td><td>2</td></tr><tr><td>Total nb of operations</td><td>180</td></tr></table>"
      ]
     },
     "metadata": {},
     "output_type": "display_data"
    }
   ],
   "source": [
    "// Now we can create our model, step by step\n",
    "val ratPopulation = new SteppedModel(numberOfSteps,\"Simplified rat population dynamics\")\n",
    "    .setGrid(3,3) // 9 cells\n",
    "    .defineMathematicalModel( // In this super simple model we do only two things at each step\n",
    "      deathRate =>> {(s:Step) => scala.util.Random.nextDouble()*0.9}, // calculate a death rate\n",
    "      nbRats =>> {(s:Step) => {survivingRats(nbRats(s-1)+(nbRats(s-1)/2*10),deathRate(s))}} // calcuate the nb rats\n",
    "    )\n",
    "    .defineInitialModelConditions( // Now we need to determine the inital size of the population at each model grid\n",
    "      PerCell(nbRats,List(\n",
    "        (List(2),Seq(0,0)),\n",
    "        (List(2),Seq(0,1)),\n",
    "        (List(4),Seq(0,2)),\n",
    "        (List(4),Seq(1,0)),\n",
    "        (List(2),Seq(1,1)),\n",
    "        (List(6),Seq(1,2)),\n",
    "        (List(2),Seq(2,0)),\n",
    "        (List(4),Seq(2,1)),\n",
    "        (List(6),Seq(2,2)))))"
   ]
  },
  {
   "cell_type": "code",
   "execution_count": 58,
   "metadata": {},
   "outputs": [
    {
     "data": {
      "text/html": [
       "Run progress:<br>#################################################################################################### 100.0%<br>Total runtime: 0 seconds"
      ]
     },
     "metadata": {},
     "output_type": "display_data"
    }
   ],
   "source": [
    "// Now we run the model\n",
    "simulator.evaluate(ratPopulation)"
   ]
  },
  {
   "cell_type": "code",
   "execution_count": 60,
   "metadata": {
    "scrolled": false
   },
   "outputs": [
    {
     "data": {
      "text/html": [
       "<div id=\"grid-container_Bab9nZU1rL\" class=\"grid-container\" align=\"center\"> \n",
       "<div id=\"grid_Bab9nZU1rL\" class=\"grid\" align=\"center\"> \n",
       "<div id=\"graph_WnpuwW6v1D\" class=\"graph\"></div> \n",
       "</div> \n",
       "</div> \n",
       "<script>\n",
       "var masonry = new Macy({\n",
       "    container: '#grid_Bab9nZU1rL',\n",
       "    debug: true,\n",
       "    mobileFirst: true,\n",
       "    columns: 1,\n",
       "    margin: {\n",
       "        x: 0,\n",
       "        y: 0\n",
       "    }\n",
       "  });\n",
       "\n",
       " var traces_WnpuwW6v1D = [{\"name\":\"Death rate\",\"type\":\"scatter\",\"x\":[0,1,2,3,4,5,6,7,8],\"y\":[0.8555192082002501,0.8623302992137349,0.4783093926775172,0.57442936882359,0.2816972026645316,0.27708130644250895,0.010212774065819196,0.4894043773002745,0.0841270038573799,0.5111902468186978]},{\"name\":\"Nb of rats\",\"type\":\"scatter\",\"yaxis\":\"y2\",\"x\":[0,1,2,3,4,5,6,7,8],\"y\":[2,2,7,16,69,296,1758,5386,29598,86807]}];\n",
       " var layout_WnpuwW6v1D = {\"height\":550,\"width\":600,\"hovermode\":\"closest\",\"title\":{\"text\":\"Date rate vs nb of rats per generation for cell (0,0)\"},\"showlegend\":true,\"xaxis\":{\"title\":{\"text\":\"Generation\"},\"showgrid\":true,\"zeroline\":false,\"showline\":false},\"yaxis\":{\"title\":{\"text\":\"Death rate\"},\"showgrid\":true,\"zeroline\":false,\"showline\":false},\"yaxis2\":{\"title\":{\"text\":\"Nb rats\"},\"showgrid\":true,\"zeroline\":false,\"showline\":false,\"side\":\"right\",\"overlaying\":\"y\",\"tickformat\":\"0.0f\"}};\n",
       " var config_WnpuwW6v1D = {\"responsive\":true,\"scrollZoom\":true,\"displaylogo\":false};\n",
       " Plotly.newPlot(\"graph_WnpuwW6v1D\", traces_WnpuwW6v1D, layout_WnpuwW6v1D, config_WnpuwW6v1D);\n",
       "</script> \n"
      ]
     },
     "metadata": {},
     "output_type": "display_data"
    },
    {
     "data": {
      "text/html": [
       "<b>Simplified rat population dynamics model #1 <br>Timestep: 9</b> [from 0 to 9]<table class=\"table\" style=\"align: center; display:block; background-color:fffff0; border: 2px solid green; height: 450px; overflow-y: scroll\"><tr><th style=\"border: 1px solid green; background-color:fffff0\">Cell coordinates</th><th style=\"border: 1px solid green; background-color:#ebebec\">Number of Rats</th><th style=\"border: 1px solid green; background-color:#ebebec\">Death rate</th></tr><tr style=\"border: 1px solid green; background-color:fffff0\"><td style=\"border: 1px solid green; background-color:fffff0\">(0, 0)</td><td style=\"border: 1px solid green; background-color:fffff0\">86807</td><td style=\"border: 1px solid green; background-color:fffff0\">0.5111902468186978</td></tr><tr style=\"border: 1px solid green; background-color:fffff0\"><td style=\"border: 1px solid green; background-color:fffff0\">(0, 1)</td><td style=\"border: 1px solid green; background-color:fffff0\">92147</td><td style=\"border: 1px solid green; background-color:fffff0\">0.8098548501028328</td></tr><tr style=\"border: 1px solid green; background-color:fffff0\"><td style=\"border: 1px solid green; background-color:fffff0\">(0, 2)</td><td style=\"border: 1px solid green; background-color:fffff0\">1077204</td><td style=\"border: 1px solid green; background-color:fffff0\">0.1466373907085861</td></tr><tr style=\"border: 1px solid green; background-color:fffff0\"><td style=\"border: 1px solid green; background-color:fffff0\">(1, 0)</td><td style=\"border: 1px solid green; background-color:fffff0\">799645</td><td style=\"border: 1px solid green; background-color:fffff0\">0.7403017128665813</td></tr><tr style=\"border: 1px solid green; background-color:fffff0\"><td style=\"border: 1px solid green; background-color:fffff0\">(1, 1)</td><td style=\"border: 1px solid green; background-color:fffff0\">11787</td><td style=\"border: 1px solid green; background-color:fffff0\">0.7643964726540865</td></tr><tr style=\"border: 1px solid green; background-color:fffff0\"><td style=\"border: 1px solid green; background-color:fffff0\">(1, 2)</td><td style=\"border: 1px solid green; background-color:fffff0\">2807408</td><td style=\"border: 1px solid green; background-color:fffff0\">0.04938347758467489</td></tr><tr style=\"border: 1px solid green; background-color:fffff0\"><td style=\"border: 1px solid green; background-color:fffff0\">(2, 0)</td><td style=\"border: 1px solid green; background-color:fffff0\">1664</td><td style=\"border: 1px solid green; background-color:fffff0\">0.3333579602078092</td></tr><tr style=\"border: 1px solid green; background-color:fffff0\"><td style=\"border: 1px solid green; background-color:fffff0\">(2, 1)</td><td style=\"border: 1px solid green; background-color:fffff0\">35053</td><td style=\"border: 1px solid green; background-color:fffff0\">0.46588556450999263</td></tr><tr style=\"border: 1px solid green; background-color:fffff0\"><td style=\"border: 1px solid green; background-color:fffff0\">(2, 2)</td><td style=\"border: 1px solid green; background-color:fffff0\">899402</td><td style=\"border: 1px solid green; background-color:fffff0\">0.7200503458508946</td></tr></table>"
      ]
     },
     "metadata": {},
     "output_type": "display_data"
    }
   ],
   "source": [
    "// grab the results from the Conus model\n",
    "val model: SingleModelResults = simulator(ratPopulation)(0)\n",
    "\n",
    "val generation = (0 until numberOfSteps-1).map(x=>x.toDouble).toList\n",
    "\n",
    "// we can use the utility function to grab the series for a single variable\n",
    "val deathRateSeries: List[Double] = getDataFromSingleModel(model, deathRate, List(0,0), numberOfSteps)\n",
    "\n",
    "val xy1 = XY(generation, deathRateSeries) setName(\"Death rate\")\n",
    "\n",
    "// alternatively we can quickly get the same data for XY using the function below\n",
    "//  val xy1 = getXYSeriesFromSingleModel(model, (age, d18Occ), List(0), numberOfSteps)\n",
    "\n",
    "// lets also plot a second y variable\n",
    "val yaxis2 = YAxis(\n",
    "    position = 2, \n",
    "    title = \"Nb rats\", \n",
    "    overlaying = YAxis(), // this ensures that the axis sits on a seperate axis\n",
    "    side = RIGHT_SIDE, // this ensures the axis is on the right hand side\n",
    "    tickformat = \"0.0f\" // this will keep formatting reasonable for display purposes\n",
    ")\n",
    "\n",
    "// we construct the second y variable;\n",
    "val nbRatsSeries: List[Double] = getDataFromSingleModel(model, nbRats, List(0,0), numberOfSteps).map(x => x.toDouble)\n",
    "val xy2 = XY(generation, nbRatsSeries) setAxis yaxis2 setName(\"Nb of rats\")\n",
    "\n",
    "// finally we can combine in a single chart\n",
    "val chart = (\n",
    "    Chart() \n",
    "    addSeries xy1\n",
    "    addSeries xy2\n",
    "    setTitle(\"Date rate vs nb of rats per generation for cell (0,0)\") \n",
    "    addAxes(XAxis(title=\"Generation\"), YAxis(title=\"Death rate\"), yaxis2)\n",
    ")\n",
    "\n",
    "val canvas = Canvas() addCharts chart\n",
    "\n",
    "// When we plot the result, we can see the legend is in the wrong place and overlaying the axis - we can overcome this\n",
    "// in the next example\n",
    "canvas.plotInline()"
   ]
  },
  {
   "cell_type": "markdown",
   "metadata": {},
   "source": [
    "### Moving the Legend\n",
    "\n",
    "We can also move the Legend and position it where we would like as follows:"
   ]
  },
  {
   "cell_type": "code",
   "execution_count": 61,
   "metadata": {},
   "outputs": [],
   "source": [
    "import org.carbonateresearch.picta.options.AUTO"
   ]
  },
  {
   "cell_type": "code",
   "execution_count": 62,
   "metadata": {
    "scrolled": false
   },
   "outputs": [
    {
     "data": {
      "text/html": [
       "<div id=\"grid-container_i6cy6QJ3bA\" class=\"grid-container\" align=\"center\"> \n",
       "<div id=\"grid_i6cy6QJ3bA\" class=\"grid\" align=\"center\"> \n",
       "<div id=\"graph_caGbCL2u6i\" class=\"graph\"></div> \n",
       "</div> \n",
       "</div> \n",
       "<script>\n",
       "var masonry = new Macy({\n",
       "    container: '#grid_i6cy6QJ3bA',\n",
       "    debug: true,\n",
       "    mobileFirst: true,\n",
       "    columns: 1,\n",
       "    margin: {\n",
       "        x: 0,\n",
       "        y: 0\n",
       "    }\n",
       "  });\n",
       "\n",
       " var traces_caGbCL2u6i = [{\"name\":\"Death rate\",\"type\":\"scatter\",\"x\":[0,1,2,3,4,5,6,7,8],\"y\":[0.8555192082002501,0.8623302992137349,0.4783093926775172,0.57442936882359,0.2816972026645316,0.27708130644250895,0.010212774065819196,0.4894043773002745,0.0841270038573799,0.5111902468186978]},{\"name\":\"Nb of rats\",\"type\":\"scatter\",\"yaxis\":\"y2\",\"x\":[0,1,2,3,4,5,6,7,8],\"y\":[2,2,7,16,69,296,1758,5386,29598,86807]}];\n",
       " var layout_caGbCL2u6i = {\"height\":550,\"width\":600,\"hovermode\":\"closest\",\"title\":{\"text\":\"Death rate vs Nb of rats for cell (0,0)\"},\"showlegend\":true,\"legend\":{\"orientation\":\"h\",\"x\":0.5,\"y\":-0.5,\"xanchor\":\"auto\",\"yanchor\":\"auto\"},\"xaxis\":{\"title\":{\"text\":\"Generation\"},\"showgrid\":true,\"zeroline\":false,\"showline\":false},\"yaxis\":{\"title\":{\"text\":\"Death rate\"},\"showgrid\":true,\"zeroline\":false,\"showline\":false},\"yaxis2\":{\"title\":{\"text\":\"Nb rats\"},\"showgrid\":true,\"zeroline\":false,\"showline\":false,\"side\":\"right\",\"overlaying\":\"y\",\"tickformat\":\"0.0f\"}};\n",
       " var config_caGbCL2u6i = {\"responsive\":true,\"scrollZoom\":true,\"displaylogo\":false};\n",
       " Plotly.newPlot(\"graph_caGbCL2u6i\", traces_caGbCL2u6i, layout_caGbCL2u6i, config_caGbCL2u6i);\n",
       "</script> \n"
      ]
     },
     "metadata": {},
     "output_type": "display_data"
    }
   ],
   "source": [
    "// finally we can combine in a single chart\n",
    "val chart = (\n",
    "    Chart() \n",
    "    addSeries xy1\n",
    "    addSeries xy2\n",
    "    setTitle(\"Death rate vs Nb of rats for cell (0,0)\") \n",
    "    addAxes(XAxis(title=\"Generation\"), YAxis(title=\"Death rate\"), yaxis2)\n",
    "    setLegend(x = 0.5, y = -0.5, orientation = HORIZONTAL, xanchor = AUTO, yanchor = AUTO)\n",
    ")\n",
    "\n",
    "val canvas = Canvas() addCharts chart\n",
    "\n",
    "canvas.plotInline()"
   ]
  },
  {
   "cell_type": "code",
   "execution_count": 63,
   "metadata": {},
   "outputs": [
    {
     "data": {
      "text/html": [
       "<div id=\"grid-container_jYoeC7YkmH\" class=\"grid-container\" align=\"center\"> \n",
       "<div id=\"grid_jYoeC7YkmH\" class=\"grid\" align=\"center\"> \n",
       "\n",
       "<div align=\"center\">\n",
       "  <div id=\"graph_5PPADyV8lp\" class=\"graph\"></div>\n",
       "  <div class=\"animationInterface\">\n",
       "    <button id=\"play_5PPADyV8lp\" class=\"picta-button\">&#9658</button>\n",
       "    <button id=\"pause_5PPADyV8lp\" class=\"picta-button\">&#9616;&#9616;</button>\n",
       "    <button id=\"prev_5PPADyV8lp\" class=\"picta-button\"><</button>\n",
       "    <button id=\"next_5PPADyV8lp\" class=\"picta-button\">></button>\n",
       "\n",
       "    <div id=\"sliderContainer_5PPADyV8lp\" class=\"progressBar\"></div>\n",
       "    <div id=\"counterContainer_5PPADyV8lp\" class=\"inline-div\">\n",
       "        <h3>Frame: </h3> <h3 id=\"value_5PPADyV8lp\">0</h3>\n",
       "    </div>\n",
       "   </div>\n",
       "</div> \n",
       "\n",
       "</div> \n",
       "</div> \n",
       "<script>\n",
       "var masonry = new Macy({\n",
       "    container: '#grid_jYoeC7YkmH',\n",
       "    debug: true,\n",
       "    mobileFirst: true,\n",
       "    columns: 1,\n",
       "    margin: {\n",
       "        x: 0,\n",
       "        y: 0\n",
       "    }\n",
       "  });\n",
       "\n",
       "var graph_5PPADyV8lp = document.getElementById('graph_5PPADyV8lp')\n",
       "var traces_5PPADyV8lp = [{\"name\":\"Frame 0\",\"type\":\"scatter\",\"x\":[0],\"y\":[2]}]\n",
       "var layout_5PPADyV8lp = {\"height\":550,\"width\":600,\"hovermode\":\"closest\",\"title\":{\"text\":\"Animation XY\"},\"showlegend\":true,\"xaxis\":{\"title\":{\"text\":\"Generation\"},\"showgrid\":true,\"zeroline\":false,\"showline\":false,\"range\":[0,9]},\"yaxis\":{\"title\":{\"text\":\"Nb of rats\"},\"showgrid\":true,\"zeroline\":false,\"showline\":false,\"range\":[0,10000]}}\n",
       "var frames_5PPADyV8lp = [{\"name\":\"Frame 0\",\"data\":[{\"name\":\"Frame 0\",\"type\":\"scatter\",\"x\":[0],\"y\":[2]}]},{\"name\":\"Frame 1\",\"data\":[{\"name\":\"Frame 1\",\"type\":\"scatter\",\"x\":[0,1],\"y\":[2,2]}]},{\"name\":\"Frame 2\",\"data\":[{\"name\":\"Frame 2\",\"type\":\"scatter\",\"x\":[0,1,2],\"y\":[2,2,7]}]},{\"name\":\"Frame 3\",\"data\":[{\"name\":\"Frame 3\",\"type\":\"scatter\",\"x\":[0,1,2,3],\"y\":[2,2,7,16]}]},{\"name\":\"Frame 4\",\"data\":[{\"name\":\"Frame 4\",\"type\":\"scatter\",\"x\":[0,1,2,3,4],\"y\":[2,2,7,16,69]}]},{\"name\":\"Frame 5\",\"data\":[{\"name\":\"Frame 5\",\"type\":\"scatter\",\"x\":[0,1,2,3,4,5],\"y\":[2,2,7,16,69,296]}]},{\"name\":\"Frame 6\",\"data\":[{\"name\":\"Frame 6\",\"type\":\"scatter\",\"x\":[0,1,2,3,4,5,6],\"y\":[2,2,7,16,69,296,1758]}]},{\"name\":\"Frame 7\",\"data\":[{\"name\":\"Frame 7\",\"type\":\"scatter\",\"x\":[0,1,2,3,4,5,6,7],\"y\":[2,2,7,16,69,296,1758,5386]}]},{\"name\":\"Frame 8\",\"data\":[{\"name\":\"Frame 8\",\"type\":\"scatter\",\"x\":[0,1,2,3,4,5,6,7,8],\"y\":[2,2,7,16,69,296,1758,5386,29598]}]}]\n",
       "var labels_5PPADyV8lp = [\"Frame 0\",\"Frame 1\",\"Frame 2\",\"Frame 3\",\"Frame 4\",\"Frame 5\",\"Frame 6\",\"Frame 7\",\"Frame 8\"]\n",
       "var duration_5PPADyV8lp = 100\n",
       "var config_5PPADyV8lp = {\"responsive\":true,\"scrollZoom\":true,\"displaylogo\":false}\n",
       "\n",
       "var animation_settings_5PPADyV8lp = {\n",
       "    mode: \"immediate\",\n",
       "    direction: {},\n",
       "    fromcurrent: true,\n",
       "    frame: [\n",
       "      {duration: duration_5PPADyV8lp},\n",
       "      {duration: duration_5PPADyV8lp},\n",
       "      {redraw: true}\n",
       "    ],\n",
       "    transition: [\n",
       "      {duration: duration_5PPADyV8lp, easing: 'cubic-in-out'},\n",
       "      {duration: duration_5PPADyV8lp, easing: 'cubic-in-out'},\n",
       "    ],\n",
       "    ordering: \"layout first\"\n",
       "}\n",
       "\n",
       "var slider_5PPADyV8lp = document.createElement(\"input\")\n",
       "var play_5PPADyV8lp = document.getElementById(\"play_5PPADyV8lp\")\n",
       "var pause_5PPADyV8lp = document.getElementById(\"pause_5PPADyV8lp\")\n",
       "slider_5PPADyV8lp.id = \"slider_5PPADyV8lp\"\n",
       "slider_5PPADyV8lp.type = \"range\"\n",
       "slider_5PPADyV8lp.min = 0\n",
       "slider_5PPADyV8lp.max = frames_5PPADyV8lp.length - 1\n",
       "slider_5PPADyV8lp.value = 0\n",
       "document.getElementById(\"sliderContainer_5PPADyV8lp\").appendChild(slider_5PPADyV8lp);\n",
       "\n",
       "Plotly.newPlot(graph_5PPADyV8lp, traces_5PPADyV8lp, layout_5PPADyV8lp, config_5PPADyV8lp)\n",
       ".then(function () { Plotly.addFrames(graph_5PPADyV8lp, frames_5PPADyV8lp) })\n",
       "\n",
       "var trigger_5PPADyV8lp = true\n",
       "var reset_count_5PPADyV8lp = false\n",
       "\n",
       "play_5PPADyV8lp.addEventListener('click', async function() {\n",
       "   trigger_5PPADyV8lp = true\n",
       "   if (reset_count_5PPADyV8lp) {\n",
       "      slider_5PPADyV8lp.value = 0\n",
       "      reset_count_5PPADyV8lp = false\n",
       "   }\n",
       "\n",
       "  const start_index = slider_5PPADyV8lp.value == labels_5PPADyV8lp.length - 1 ? 0 : slider_5PPADyV8lp.value\n",
       "  const end_index = labels_5PPADyV8lp.length\n",
       "  await Plotly.animate(graph_5PPADyV8lp, labels_5PPADyV8lp.slice(start_index, end_index), animation_settings_5PPADyV8lp)\n",
       "})\n",
       "\n",
       "pause_5PPADyV8lp.addEventListener('click', async function() {\n",
       "  await Plotly.animate(graph_5PPADyV8lp, [null], animation_settings_5PPADyV8lp)\n",
       "  trigger_5PPADyV8lp = false;\n",
       "})\n",
       "\n",
       "graph_5PPADyV8lp.on('plotly_redraw', () => {\n",
       "   value_5PPADyV8lp.innerHTML = slider_5PPADyV8lp.value;\n",
       "   if (trigger_5PPADyV8lp & !reset_count_5PPADyV8lp) ++slider_5PPADyV8lp.value\n",
       "   if (slider_5PPADyV8lp.value == labels_5PPADyV8lp.length - 1) reset_count_5PPADyV8lp = true\n",
       "});\n",
       "\n",
       "slider_5PPADyV8lp.oninput = async function() {\n",
       "   await Plotly.animate(graph_5PPADyV8lp, frames_5PPADyV8lp[this.value], animation_settings_5PPADyV8lp)\n",
       "   trigger_5PPADyV8lp = false\n",
       "   slider_5PPADyV8lp.value = this.value\n",
       "   value_5PPADyV8lp.innerHTML = this.value;\n",
       "   if (this.value == 0) reset_count_5PPADyV8lp = false\n",
       "   if (this.value == labels_5PPADyV8lp.length - 1) reset_count_5PPADyV8lp = true\n",
       "   reset_count_5PPADyV8lp = false\n",
       "}\n",
       "\n",
       "next_5PPADyV8lp.addEventListener('click', function() {\n",
       "    if (slider_5PPADyV8lp.value == labels_5PPADyV8lp.length - 1) {\n",
       "        reset_count_5PPADyV8lp = true;\n",
       "        return;\n",
       "    }\n",
       "    ++slider_5PPADyV8lp.value;\n",
       "    value_5PPADyV8lp.innerHTML = slider_5PPADyV8lp.value;\n",
       "    trigger_5PPADyV8lp = false;\n",
       "    slider_5PPADyV8lp.oninput();\n",
       "})\n",
       "\n",
       "prev_5PPADyV8lp.addEventListener('click', function() {\n",
       "    if (slider_5PPADyV8lp.value == 0) {\n",
       "        reset_count_5PPADyV8lp = false;\n",
       "        return;\n",
       "    }\n",
       "    --slider_5PPADyV8lp.value;\n",
       "    value_5PPADyV8lp.innerHTML = slider_5PPADyV8lp.value;\n",
       "    trigger_5PPADyV8lp = false;\n",
       "    slider_5PPADyV8lp.oninput();\n",
       "})\n",
       "\n",
       "</script> \n"
      ]
     },
     "metadata": {},
     "output_type": "display_data"
    }
   ],
   "source": [
    "val xaxis = XAxis(title = \"Generation\") setLimits (0.0, 9.0)\n",
    "val yaxis = YAxis(title = \"Nb of rats\") setLimits (0.0, 10000.0)\n",
    "val animation = (0 to generation.size-1).map(x => XY(generation.take(x+1), nbRatsSeries.take(x+1))).toList\n",
    "\n",
    "// we can also specifiy the underlying layout directly - sometimes this can be useful\n",
    "val layout = ChartLayout(\"Animation XY\") setAxes(xaxis, yaxis)\n",
    "\n",
    "val chart = Chart(animated = true, transition_duration=100) setChartLayout layout addSeries animation\n",
    "\n",
    "chart.plotInline"
   ]
  },
  {
   "cell_type": "code",
   "execution_count": 64,
   "metadata": {},
   "outputs": [
    {
     "data": {
      "text/html": [
       "<div id=\"grid-container_JjqqlGEcHO\" class=\"grid-container\" align=\"center\"> \n",
       "<div id=\"grid_JjqqlGEcHO\" class=\"grid\" align=\"center\"> \n",
       "<div id=\"graph_zgPwU8sAKd\" class=\"graph\"></div> \n",
       "</div> \n",
       "</div> \n",
       "<script>\n",
       "var masonry = new Macy({\n",
       "    container: '#grid_JjqqlGEcHO',\n",
       "    debug: true,\n",
       "    mobileFirst: true,\n",
       "    columns: 1,\n",
       "    margin: {\n",
       "        x: 0,\n",
       "        y: 0\n",
       "    }\n",
       "  });\n",
       "\n",
       " var traces_zgPwU8sAKd = [{\"name\":\"FhGELavsQH\",\"type\":\"heatmap\",\"z\":[[86807,92147,1077204],[799645,11787,2807408],[1664,35053,899402]]}];\n",
       " var layout_zgPwU8sAKd = {\"height\":550,\"width\":600,\"hovermode\":\"closest\",\"title\":{\"text\":\"Nb of rats at time step 10\"},\"showlegend\":true};\n",
       " var config_zgPwU8sAKd = {\"responsive\":true,\"scrollZoom\":true,\"displaylogo\":false};\n",
       " Plotly.newPlot(\"graph_zgPwU8sAKd\", traces_zgPwU8sAKd, layout_zgPwU8sAKd, config_zgPwU8sAKd);\n",
       "</script> \n"
      ]
     },
     "metadata": {},
     "output_type": "display_data"
    }
   ],
   "source": [
    "//FAZAL: It took me a while to get how the heat map works but I think I get it now. However, for this to look like an\n",
    "//actual grid I would need to draw the grid itself, i.e. black lines around each cell of the heatmap. Can we do this?\n",
    "val nbCol = (0 to 2).toList\n",
    "val mySeries:List[Double] = nbCol.flatMap(r => {\n",
    "    nbCol.map{c => getDataFromSingleModel(model, nbRats, List(r,c), numberOfSteps).last.toDouble}})\n",
    "\n",
    "val series = XYZ(z=mySeries,n=3) asType HEATMAP\n",
    "\n",
    "val chart = Chart().addSeries(series).setTitle(\"Nb of rats at time step 10\")\n",
    "\n",
    "chart.plotInline"
   ]
  },
  {
   "cell_type": "markdown",
   "metadata": {},
   "source": [
    "### Setting Colorbar Title"
   ]
  },
  {
   "cell_type": "code",
   "execution_count": 65,
   "metadata": {},
   "outputs": [
    {
     "data": {
      "text/html": [
       "<div id=\"grid-container_j5cUt99iyy\" class=\"grid-container\" align=\"center\"> \n",
       "<div id=\"grid_j5cUt99iyy\" class=\"grid\" align=\"center\"> \n",
       "<div id=\"graph_yzGRen0Zrc\" class=\"graph\"></div> \n",
       "</div> \n",
       "</div> \n",
       "<script>\n",
       "var masonry = new Macy({\n",
       "    container: '#grid_j5cUt99iyy',\n",
       "    debug: true,\n",
       "    mobileFirst: true,\n",
       "    columns: 1,\n",
       "    margin: {\n",
       "        x: 0,\n",
       "        y: 0\n",
       "    }\n",
       "  });\n",
       "\n",
       " var traces_yzGRen0Zrc = [{\"name\":\"jTWfAmPWaz\",\"type\":\"surface\",\"colorbar\":{\"title\":{\"text\":\"Rat Population\",\"side\":\"right\"}},\"z\":[[86807,92147,1077204],[799645,11787,2807408],[1664,35053,899402]]}];\n",
       " var layout_yzGRen0Zrc = {\"height\":550,\"width\":600,\"hovermode\":\"closest\",\"title\":{\"text\":\"Surface\"},\"showlegend\":true};\n",
       " var config_yzGRen0Zrc = {\"responsive\":true,\"scrollZoom\":true,\"displaylogo\":false};\n",
       " Plotly.newPlot(\"graph_yzGRen0Zrc\", traces_yzGRen0Zrc, layout_yzGRen0Zrc, config_yzGRen0Zrc);\n",
       "</script> \n"
      ]
     },
     "metadata": {},
     "output_type": "display_data"
    }
   ],
   "source": [
    "val ratsAsSurface = XYZ(z=mySeries,n=3) asType SURFACE setColorBar(\"Rat Population\", RIGHT_SIDE)\n",
    "\n",
    "val ratsChart = Chart() addSeries ratsAsSurface setTitle \"Surface\"\n",
    "\n",
    "ratsChart.plotInline"
   ]
  },
  {
   "cell_type": "code",
   "execution_count": 66,
   "metadata": {},
   "outputs": [
    {
     "data": {
      "text/html": [
       "<div id=\"grid-container_zd9V5UweJ9\" class=\"grid-container\" align=\"center\"> \n",
       "<div id=\"grid_zd9V5UweJ9\" class=\"grid\" align=\"center\"> \n",
       "\n",
       "<div align=\"center\">\n",
       "  <div id=\"graph_iRalsKS9V9\" class=\"graph\"></div>\n",
       "  <div class=\"animationInterface\">\n",
       "    <button id=\"play_iRalsKS9V9\" class=\"picta-button\">&#9658</button>\n",
       "    <button id=\"pause_iRalsKS9V9\" class=\"picta-button\">&#9616;&#9616;</button>\n",
       "    <button id=\"prev_iRalsKS9V9\" class=\"picta-button\"><</button>\n",
       "    <button id=\"next_iRalsKS9V9\" class=\"picta-button\">></button>\n",
       "\n",
       "    <div id=\"sliderContainer_iRalsKS9V9\" class=\"progressBar\"></div>\n",
       "    <div id=\"counterContainer_iRalsKS9V9\" class=\"inline-div\">\n",
       "        <h3>Frame: </h3> <h3 id=\"value_iRalsKS9V9\">0</h3>\n",
       "    </div>\n",
       "   </div>\n",
       "</div> \n",
       "\n",
       "</div> \n",
       "</div> \n",
       "<script>\n",
       "var masonry = new Macy({\n",
       "    container: '#grid_zd9V5UweJ9',\n",
       "    debug: true,\n",
       "    mobileFirst: true,\n",
       "    columns: 1,\n",
       "    margin: {\n",
       "        x: 0,\n",
       "        y: 0\n",
       "    }\n",
       "  });\n",
       "\n",
       "var graph_iRalsKS9V9 = document.getElementById('graph_iRalsKS9V9')\n",
       "var traces_iRalsKS9V9 = [{\"name\":\"Frame 0\",\"type\":\"surface\",\"colorbar\":{\"title\":{\"text\":\"Rat Population\",\"side\":\"right\"}},\"z\":[[2,12,13],[10,2,33],[7,15,13]]}]\n",
       "var layout_iRalsKS9V9 = {\"height\":550,\"width\":600,\"hovermode\":\"closest\",\"title\":{\"text\":\"Surface\"},\"showlegend\":true}\n",
       "var frames_iRalsKS9V9 = [{\"name\":\"Frame 0\",\"data\":[{\"name\":\"Frame 0\",\"type\":\"surface\",\"colorbar\":{\"title\":{\"text\":\"Rat Population\",\"side\":\"right\"}},\"z\":[[2,12,13],[10,2,33],[7,15,13]]}]},{\"name\":\"Frame 1\",\"data\":[{\"name\":\"Frame 1\",\"type\":\"surface\",\"colorbar\":{\"title\":{\"text\":\"Rat Population\",\"side\":\"right\"}},\"z\":[[2,37,72],[54,9,49],[5,15,50]]}]},{\"name\":\"Frame 2\",\"data\":[{\"name\":\"Frame 2\",\"type\":\"surface\",\"colorbar\":{\"title\":{\"text\":\"Rat Population\",\"side\":\"right\"}},\"z\":[[7,161,393],[136,36,277],[6,57,238]]}]},{\"name\":\"Frame 3\",\"data\":[{\"name\":\"Frame 3\",\"type\":\"surface\",\"colorbar\":{\"title\":{\"text\":\"Rat Population\",\"side\":\"right\"}},\"z\":[[16,749,591],[573,69,1088],[35,182,379]]}]},{\"name\":\"Frame 4\",\"data\":[{\"name\":\"Frame 4\",\"type\":\"surface\",\"colorbar\":{\"title\":{\"text\":\"Rat Population\",\"side\":\"right\"}},\"z\":[[69,1684,2490],[2456,227,6255],[76,507,874]]}]},{\"name\":\"Frame 5\",\"data\":[{\"name\":\"Frame 5\",\"type\":\"surface\",\"colorbar\":{\"title\":{\"text\":\"Rat Population\",\"side\":\"right\"}},\"z\":[[296,2084,7650],[13407,616,13973],[66,331,4178]]}]},{\"name\":\"Frame 6\",\"data\":[{\"name\":\"Frame 6\",\"type\":\"surface\",\"colorbar\":{\"title\":{\"text\":\"Rat Population\",\"side\":\"right\"}},\"z\":[[1758,3142,14072],[67781,970,61986],[44,1390,19963]]}]},{\"name\":\"Frame 7\",\"data\":[{\"name\":\"Frame 7\",\"type\":\"surface\",\"colorbar\":{\"title\":{\"text\":\"Rat Population\",\"side\":\"right\"}},\"z\":[[5386,15271,44909],[122831,4180,111551],[211,6321,116093]]}]},{\"name\":\"Frame 8\",\"data\":[{\"name\":\"Frame 8\",\"type\":\"surface\",\"colorbar\":{\"title\":{\"text\":\"Rat Population\",\"side\":\"right\"}},\"z\":[[29598,80769,210385],[513188,8338,492209],[416,10938,535455]]}]},{\"name\":\"Frame 9\",\"data\":[{\"name\":\"Frame 9\",\"type\":\"surface\",\"colorbar\":{\"title\":{\"text\":\"Rat Population\",\"side\":\"right\"}},\"z\":[[86807,92147,1077204],[799645,11787,2807408],[1664,35053,899402]]}]}]\n",
       "var labels_iRalsKS9V9 = [\"Frame 0\",\"Frame 1\",\"Frame 2\",\"Frame 3\",\"Frame 4\",\"Frame 5\",\"Frame 6\",\"Frame 7\",\"Frame 8\",\"Frame 9\"]\n",
       "var duration_iRalsKS9V9 = 100\n",
       "var config_iRalsKS9V9 = {\"responsive\":true,\"scrollZoom\":true,\"displaylogo\":false}\n",
       "\n",
       "var animation_settings_iRalsKS9V9 = {\n",
       "    mode: \"immediate\",\n",
       "    direction: {},\n",
       "    fromcurrent: true,\n",
       "    frame: [\n",
       "      {duration: duration_iRalsKS9V9},\n",
       "      {duration: duration_iRalsKS9V9},\n",
       "      {redraw: true}\n",
       "    ],\n",
       "    transition: [\n",
       "      {duration: duration_iRalsKS9V9, easing: 'cubic-in-out'},\n",
       "      {duration: duration_iRalsKS9V9, easing: 'cubic-in-out'},\n",
       "    ],\n",
       "    ordering: \"layout first\"\n",
       "}\n",
       "\n",
       "var slider_iRalsKS9V9 = document.createElement(\"input\")\n",
       "var play_iRalsKS9V9 = document.getElementById(\"play_iRalsKS9V9\")\n",
       "var pause_iRalsKS9V9 = document.getElementById(\"pause_iRalsKS9V9\")\n",
       "slider_iRalsKS9V9.id = \"slider_iRalsKS9V9\"\n",
       "slider_iRalsKS9V9.type = \"range\"\n",
       "slider_iRalsKS9V9.min = 0\n",
       "slider_iRalsKS9V9.max = frames_iRalsKS9V9.length - 1\n",
       "slider_iRalsKS9V9.value = 0\n",
       "document.getElementById(\"sliderContainer_iRalsKS9V9\").appendChild(slider_iRalsKS9V9);\n",
       "\n",
       "Plotly.newPlot(graph_iRalsKS9V9, traces_iRalsKS9V9, layout_iRalsKS9V9, config_iRalsKS9V9)\n",
       ".then(function () { Plotly.addFrames(graph_iRalsKS9V9, frames_iRalsKS9V9) })\n",
       "\n",
       "var trigger_iRalsKS9V9 = true\n",
       "var reset_count_iRalsKS9V9 = false\n",
       "\n",
       "play_iRalsKS9V9.addEventListener('click', async function() {\n",
       "   trigger_iRalsKS9V9 = true\n",
       "   if (reset_count_iRalsKS9V9) {\n",
       "      slider_iRalsKS9V9.value = 0\n",
       "      reset_count_iRalsKS9V9 = false\n",
       "   }\n",
       "\n",
       "  const start_index = slider_iRalsKS9V9.value == labels_iRalsKS9V9.length - 1 ? 0 : slider_iRalsKS9V9.value\n",
       "  const end_index = labels_iRalsKS9V9.length\n",
       "  await Plotly.animate(graph_iRalsKS9V9, labels_iRalsKS9V9.slice(start_index, end_index), animation_settings_iRalsKS9V9)\n",
       "})\n",
       "\n",
       "pause_iRalsKS9V9.addEventListener('click', async function() {\n",
       "  await Plotly.animate(graph_iRalsKS9V9, [null], animation_settings_iRalsKS9V9)\n",
       "  trigger_iRalsKS9V9 = false;\n",
       "})\n",
       "\n",
       "graph_iRalsKS9V9.on('plotly_redraw', () => {\n",
       "   value_iRalsKS9V9.innerHTML = slider_iRalsKS9V9.value;\n",
       "   if (trigger_iRalsKS9V9 & !reset_count_iRalsKS9V9) ++slider_iRalsKS9V9.value\n",
       "   if (slider_iRalsKS9V9.value == labels_iRalsKS9V9.length - 1) reset_count_iRalsKS9V9 = true\n",
       "});\n",
       "\n",
       "slider_iRalsKS9V9.oninput = async function() {\n",
       "   await Plotly.animate(graph_iRalsKS9V9, frames_iRalsKS9V9[this.value], animation_settings_iRalsKS9V9)\n",
       "   trigger_iRalsKS9V9 = false\n",
       "   slider_iRalsKS9V9.value = this.value\n",
       "   value_iRalsKS9V9.innerHTML = this.value;\n",
       "   if (this.value == 0) reset_count_iRalsKS9V9 = false\n",
       "   if (this.value == labels_iRalsKS9V9.length - 1) reset_count_iRalsKS9V9 = true\n",
       "   reset_count_iRalsKS9V9 = false\n",
       "}\n",
       "\n",
       "next_iRalsKS9V9.addEventListener('click', function() {\n",
       "    if (slider_iRalsKS9V9.value == labels_iRalsKS9V9.length - 1) {\n",
       "        reset_count_iRalsKS9V9 = true;\n",
       "        return;\n",
       "    }\n",
       "    ++slider_iRalsKS9V9.value;\n",
       "    value_iRalsKS9V9.innerHTML = slider_iRalsKS9V9.value;\n",
       "    trigger_iRalsKS9V9 = false;\n",
       "    slider_iRalsKS9V9.oninput();\n",
       "})\n",
       "\n",
       "prev_iRalsKS9V9.addEventListener('click', function() {\n",
       "    if (slider_iRalsKS9V9.value == 0) {\n",
       "        reset_count_iRalsKS9V9 = false;\n",
       "        return;\n",
       "    }\n",
       "    --slider_iRalsKS9V9.value;\n",
       "    value_iRalsKS9V9.innerHTML = slider_iRalsKS9V9.value;\n",
       "    trigger_iRalsKS9V9 = false;\n",
       "    slider_iRalsKS9V9.oninput();\n",
       "})\n",
       "\n",
       "</script> \n"
      ]
     },
     "metadata": {},
     "output_type": "display_data"
    }
   ],
   "source": [
    "def createSeries:List[List[Double]] = {\n",
    "    val nbCol = (0 to 2).toList\n",
    "    val nestedList:List[List[Double]] = nbCol.flatMap(r => {\n",
    "    nbCol.map{c => getDataFromSingleModel(model, nbRats, List(r,c), numberOfSteps).map(x=>x.toDouble)}})\n",
    "  \n",
    "    (0 to 9).map(x => (0 to 8).map(y => nestedList(y)(x)).toList).toList\n",
    "}\n",
    "\n",
    "\n",
    "val ratsAsSurface = createSeries.map(s => XYZ(z=s,n=3) asType SURFACE setColorBar(\"Rat Population\", RIGHT_SIDE)) \n",
    "\n",
    "val ratsChart = Chart(animated = true, transition_duration=100) addSeries ratsAsSurface setTitle \"Surface\"\n",
    "\n",
    "ratsChart.plotInline"
   ]
  },
  {
   "cell_type": "code",
   "execution_count": null,
   "metadata": {},
   "outputs": [],
   "source": []
  },
  {
   "cell_type": "code",
   "execution_count": null,
   "metadata": {},
   "outputs": [],
   "source": []
  }
 ],
 "metadata": {
  "kernelspec": {
   "display_name": "Scala",
   "language": "scala",
   "name": "scala"
  },
  "language_info": {
   "codemirror_mode": "text/x-scala",
   "file_extension": ".scala",
   "mimetype": "text/x-scala",
   "name": "scala",
   "nbconvert_exporter": "script",
   "version": "2.13.2"
  }
 },
 "nbformat": 4,
 "nbformat_minor": 4
}
