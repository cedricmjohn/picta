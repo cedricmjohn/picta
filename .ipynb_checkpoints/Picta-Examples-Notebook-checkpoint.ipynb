{
 "cells": [
  {
   "cell_type": "markdown",
   "metadata": {},
   "source": [
    "# 1. Setup\n",
    "\n",
    "To use Picta in a Jupyter notebook with the Almond.sh kernel, you need to first register a new Jitpack repository as some essential component of Almond are not availble in Maven Central (simply copy and run the first cell below). You then need to import the library from Maven (second cell) and initiliaze the notebook to hvave nicer outputs (optional, third cell)."
   ]
  },
  {
   "cell_type": "code",
   "execution_count": 1,
   "metadata": {},
   "outputs": [],
   "source": [
    "interp.repositories() ++= Seq(coursierapi.MavenRepository.of(\n",
    "\"https://jitpack.io\"\n",
    "))"
   ]
  },
  {
   "cell_type": "code",
   "execution_count": 2,
   "metadata": {},
   "outputs": [
    {
     "data": {
      "text/plain": [
       "\u001b[32mimport \u001b[39m\u001b[36m$ivy.$                                    \u001b[39m"
      ]
     },
     "execution_count": 2,
     "metadata": {},
     "output_type": "execute_result"
    }
   ],
   "source": [
    "import $ivy. `org.carbonateresearch::picta:0.1.1`"
   ]
  },
  {
   "cell_type": "code",
   "execution_count": 3,
   "metadata": {
    "scrolled": false
   },
   "outputs": [
    {
     "data": {
      "text/html": [
       "\n",
       "<style> #animationInterface {\n",
       "    margin-top: 50px;\n",
       "    margin-bottom: 50px;\n",
       "}\n",
       "\n",
       ".progressBar {\n",
       "    padding-top: 20px;\n",
       "    padding-bottom: 20px;\n",
       "}\n",
       "\n",
       ".inline-div {\n",
       "    display: block;\n",
       "    text-align: center;\n",
       "}\n",
       "\n",
       "h3 {\n",
       "    display: inline-block;\n",
       "    text-align: center;\n",
       "}\n",
       "\n",
       ".picta-button {\n",
       "    background-color: #003E74;\n",
       "    border: none;\n",
       "    color: white;\n",
       "    padding: 12px 28px;\n",
       "    text-align: center;\n",
       "    text-decoration: none;\n",
       "    display: inline-block;\n",
       "    font-size: 12px;\n",
       "    margin-top: 50px;\n",
       "    transition-duration: 0.4s;\n",
       "    cursor: pointer;\n",
       "}\n",
       "\n",
       ".picta-button:hover {\n",
       "    background-color: #002147;\n",
       "    color: white;\n",
       "}\n",
       "\n",
       ".grid-title h1 {\n",
       "    font-family: \"Open Sans\", verdana, arial, sans-serif;\n",
       "    font-weight: normal;\n",
       "}\n",
       "\n",
       ".grid-container {\n",
       "    padding-top: 40px;\n",
       "    background: white;\n",
       "} </style>\n",
       "<script> /** vim: et:ts=4:sw=4:sts=4\n",
       " * @license RequireJS 2.3.6 Copyright jQuery Foundation and other contributors.\n",
       " * Released under MIT license, https://github.com/requirejs/requirejs/blob/master/LICENSE\n",
       " */\n",
       "var requirejs,require,define;!function(global,setTimeout){var req,s,head,baseElement,dataMain,src,interactiveScript,currentlyAddingScript,mainScript,subPath,version=\"2.3.6\",commentRegExp=/\\/\\*[\\s\\S]*?\\*\\/|([^:\"'=]|^)\\/\\/.*$/gm,cjsRequireRegExp=/[^.]\\s*require\\s*\\(\\s*[\"']([^'\"\\s]+)[\"']\\s*\\)/g,jsSuffixRegExp=/\\.js$/,currDirRegExp=/^\\.\\//,op=Object.prototype,ostring=op.toString,hasOwn=op.hasOwnProperty,isBrowser=!(\"undefined\"==typeof window||\"undefined\"==typeof navigator||!window.document),isWebWorker=!isBrowser&&\"undefined\"!=typeof importScripts,readyRegExp=isBrowser&&\"PLAYSTATION 3\"===navigator.platform?/^complete$/:/^(complete|loaded)$/,defContextName=\"_\",isOpera=\"undefined\"!=typeof opera&&\"[object Opera]\"===opera.toString(),contexts={},cfg={},globalDefQueue=[],useInteractive=!1;function commentReplace(e,t){return t||\"\"}function isFunction(e){return\"[object Function]\"===ostring.call(e)}function isArray(e){return\"[object Array]\"===ostring.call(e)}function each(e,t){var i;if(e)for(i=0;i<e.length&&(!e[i]||!t(e[i],i,e));i+=1);}function eachReverse(e,t){var i;if(e)for(i=e.length-1;-1<i&&(!e[i]||!t(e[i],i,e));i-=1);}function hasProp(e,t){return hasOwn.call(e,t)}function getOwn(e,t){return hasProp(e,t)&&e[t]}function eachProp(e,t){var i;for(i in e)if(hasProp(e,i)&&t(e[i],i))break}function mixin(i,e,r,n){return e&&eachProp(e,function(e,t){!r&&hasProp(i,t)||(!n||\"object\"!=typeof e||!e||isArray(e)||isFunction(e)||e instanceof RegExp?i[t]=e:(i[t]||(i[t]={}),mixin(i[t],e,r,n)))}),i}function bind(e,t){return function(){return t.apply(e,arguments)}}function scripts(){return document.getElementsByTagName(\"script\")}function defaultOnError(e){throw e}function getGlobal(e){if(!e)return e;var t=global;return each(e.split(\".\"),function(e){t=t[e]}),t}function makeError(e,t,i,r){var n=new Error(t+\"\\nhttps://requirejs.org/docs/errors.html#\"+e);return n.requireType=e,n.requireModules=r,i&&(n.originalError=i),n}if(void 0===define){if(void 0!==requirejs){if(isFunction(requirejs))return;cfg=requirejs,requirejs=void 0}void 0===require||isFunction(require)||(cfg=require,require=void 0),req=requirejs=function(e,t,i,r){var n,o,a=defContextName;return isArray(e)||\"string\"==typeof e||(o=e,isArray(t)?(e=t,t=i,i=r):e=[]),o&&o.context&&(a=o.context),(n=getOwn(contexts,a))||(n=contexts[a]=req.s.newContext(a)),o&&n.configure(o),n.require(e,t,i)},req.config=function(e){return req(e)},req.nextTick=void 0!==setTimeout?function(e){setTimeout(e,4)}:function(e){e()},require||(require=req),req.version=version,req.jsExtRegExp=/^\\/|:|\\?|\\.js$/,req.isBrowser=isBrowser,s=req.s={contexts:contexts,newContext:newContext},req({}),each([\"toUrl\",\"undef\",\"defined\",\"specified\"],function(t){req[t]=function(){var e=contexts[defContextName];return e.require[t].apply(e,arguments)}}),isBrowser&&(head=s.head=document.getElementsByTagName(\"head\")[0],baseElement=document.getElementsByTagName(\"base\")[0],baseElement&&(head=s.head=baseElement.parentNode)),req.onError=defaultOnError,req.createNode=function(e,t,i){var r=e.xhtml?document.createElementNS(\"http://www.w3.org/1999/xhtml\",\"html:script\"):document.createElement(\"script\");return r.type=e.scriptType||\"text/javascript\",r.charset=\"utf-8\",r.async=!0,r},req.load=function(t,i,r){var e,n=t&&t.config||{};if(isBrowser)return(e=req.createNode(n,i,r)).setAttribute(\"data-requirecontext\",t.contextName),e.setAttribute(\"data-requiremodule\",i),!e.attachEvent||e.attachEvent.toString&&e.attachEvent.toString().indexOf(\"[native code\")<0||isOpera?(e.addEventListener(\"load\",t.onScriptLoad,!1),e.addEventListener(\"error\",t.onScriptError,!1)):(useInteractive=!0,e.attachEvent(\"onreadystatechange\",t.onScriptLoad)),e.src=r,n.onNodeCreated&&n.onNodeCreated(e,n,i,r),currentlyAddingScript=e,baseElement?head.insertBefore(e,baseElement):head.appendChild(e),currentlyAddingScript=null,e;if(isWebWorker)try{setTimeout(function(){},0),importScripts(r),t.completeLoad(i)}catch(e){t.onError(makeError(\"importscripts\",\"importScripts failed for \"+i+\" at \"+r,e,[i]))}},isBrowser&&!cfg.skipDataMain&&eachReverse(scripts(),function(e){if(head||(head=e.parentNode),dataMain=e.getAttribute(\"data-main\"))return mainScript=dataMain,cfg.baseUrl||-1!==mainScript.indexOf(\"!\")||(mainScript=(src=mainScript.split(\"/\")).pop(),subPath=src.length?src.join(\"/\")+\"/\":\"./\",cfg.baseUrl=subPath),mainScript=mainScript.replace(jsSuffixRegExp,\"\"),req.jsExtRegExp.test(mainScript)&&(mainScript=dataMain),cfg.deps=cfg.deps?cfg.deps.concat(mainScript):[mainScript],!0}),define=function(e,i,t){var r,n;\"string\"!=typeof e&&(t=i,i=e,e=null),isArray(i)||(t=i,i=null),!i&&isFunction(t)&&(i=[],t.length&&(t.toString().replace(commentRegExp,commentReplace).replace(cjsRequireRegExp,function(e,t){i.push(t)}),i=(1===t.length?[\"require\"]:[\"require\",\"exports\",\"module\"]).concat(i))),useInteractive&&(r=currentlyAddingScript||getInteractiveScript())&&(e||(e=r.getAttribute(\"data-requiremodule\")),n=contexts[r.getAttribute(\"data-requirecontext\")]),n?(n.defQueue.push([e,i,t]),n.defQueueMap[e]=!0):globalDefQueue.push([e,i,t])},define.amd={jQuery:!0},req.exec=function(text){return eval(text)},req(cfg)}function newContext(u){var i,e,l,c,d,g={waitSeconds:7,baseUrl:\"./\",paths:{},bundles:{},pkgs:{},shim:{},config:{}},p={},f={},r={},h=[],m={},n={},v={},x=1,b=1;function q(e,t,i){var r,n,o,a,s,u,c,d,p,f,l=t&&t.split(\"/\"),h=g.map,m=h&&h[\"*\"];if(e&&(u=(e=e.split(\"/\")).length-1,g.nodeIdCompat&&jsSuffixRegExp.test(e[u])&&(e[u]=e[u].replace(jsSuffixRegExp,\"\")),\".\"===e[0].charAt(0)&&l&&(e=l.slice(0,l.length-1).concat(e)),function(e){var t,i;for(t=0;t<e.length;t++)if(\".\"===(i=e[t]))e.splice(t,1),t-=1;else if(\"..\"===i){if(0===t||1===t&&\"..\"===e[2]||\"..\"===e[t-1])continue;0<t&&(e.splice(t-1,2),t-=2)}}(e),e=e.join(\"/\")),i&&h&&(l||m)){e:for(o=(n=e.split(\"/\")).length;0<o;o-=1){if(s=n.slice(0,o).join(\"/\"),l)for(a=l.length;0<a;a-=1)if((r=getOwn(h,l.slice(0,a).join(\"/\")))&&(r=getOwn(r,s))){c=r,d=o;break e}!p&&m&&getOwn(m,s)&&(p=getOwn(m,s),f=o)}!c&&p&&(c=p,d=f),c&&(n.splice(0,d,c),e=n.join(\"/\"))}return getOwn(g.pkgs,e)||e}function E(t){isBrowser&&each(scripts(),function(e){if(e.getAttribute(\"data-requiremodule\")===t&&e.getAttribute(\"data-requirecontext\")===l.contextName)return e.parentNode.removeChild(e),!0})}function w(e){var t=getOwn(g.paths,e);if(t&&isArray(t)&&1<t.length)return t.shift(),l.require.undef(e),l.makeRequire(null,{skipMap:!0})([e]),!0}function y(e){var t,i=e?e.indexOf(\"!\"):-1;return-1<i&&(t=e.substring(0,i),e=e.substring(i+1,e.length)),[t,e]}function S(e,t,i,r){var n,o,a,s,u=null,c=t?t.name:null,d=e,p=!0,f=\"\";return e||(p=!1,e=\"_@r\"+(x+=1)),u=(s=y(e))[0],e=s[1],u&&(u=q(u,c,r),o=getOwn(m,u)),e&&(u?f=i?e:o&&o.normalize?o.normalize(e,function(e){return q(e,c,r)}):-1===e.indexOf(\"!\")?q(e,c,r):e:(u=(s=y(f=q(e,c,r)))[0],f=s[1],i=!0,n=l.nameToUrl(f))),{prefix:u,name:f,parentMap:t,unnormalized:!!(a=!u||o||i?\"\":\"_unnormalized\"+(b+=1)),url:n,originalName:d,isDefine:p,id:(u?u+\"!\"+f:f)+a}}function k(e){var t=e.id,i=getOwn(p,t);return i||(i=p[t]=new l.Module(e)),i}function M(e,t,i){var r=e.id,n=getOwn(p,r);!hasProp(m,r)||n&&!n.defineEmitComplete?(n=k(e)).error&&\"error\"===t?i(n.error):n.on(t,i):\"defined\"===t&&i(m[r])}function O(i,e){var t=i.requireModules,r=!1;e?e(i):(each(t,function(e){var t=getOwn(p,e);t&&(t.error=i,t.events.error&&(r=!0,t.emit(\"error\",i)))}),r||req.onError(i))}function j(){globalDefQueue.length&&(each(globalDefQueue,function(e){var t=e[0];\"string\"==typeof t&&(l.defQueueMap[t]=!0),h.push(e)}),globalDefQueue=[])}function P(e){delete p[e],delete f[e]}function R(){var e,r,t=1e3*g.waitSeconds,n=t&&l.startTime+t<(new Date).getTime(),o=[],a=[],s=!1,u=!0;if(!i){if(i=!0,eachProp(f,function(e){var t=e.map,i=t.id;if(e.enabled&&(t.isDefine||a.push(e),!e.error))if(!e.inited&&n)w(i)?s=r=!0:(o.push(i),E(i));else if(!e.inited&&e.fetched&&t.isDefine&&(s=!0,!t.prefix))return u=!1}),n&&o.length)return(e=makeError(\"timeout\",\"Load timeout for modules: \"+o,null,o)).contextName=l.contextName,O(e);u&&each(a,function(e){!function n(o,a,s){var e=o.map.id;o.error?o.emit(\"error\",o.error):(a[e]=!0,each(o.depMaps,function(e,t){var i=e.id,r=getOwn(p,i);!r||o.depMatched[t]||s[i]||(getOwn(a,i)?(o.defineDep(t,m[i]),o.check()):n(r,a,s))}),s[e]=!0)}(e,{},{})}),n&&!r||!s||!isBrowser&&!isWebWorker||d||(d=setTimeout(function(){d=0,R()},50)),i=!1}}function a(e){hasProp(m,e[0])||k(S(e[0],null,!0)).init(e[1],e[2])}function o(e,t,i,r){e.detachEvent&&!isOpera?r&&e.detachEvent(r,t):e.removeEventListener(i,t,!1)}function s(e){var t=e.currentTarget||e.srcElement;return o(t,l.onScriptLoad,\"load\",\"onreadystatechange\"),o(t,l.onScriptError,\"error\"),{node:t,id:t&&t.getAttribute(\"data-requiremodule\")}}function T(){var e;for(j();h.length;){if(null===(e=h.shift())[0])return O(makeError(\"mismatch\",\"Mismatched anonymous define() module: \"+e[e.length-1]));a(e)}l.defQueueMap={}}return c={require:function(e){return e.require?e.require:e.require=l.makeRequire(e.map)},exports:function(e){if(e.usingExports=!0,e.map.isDefine)return e.exports?m[e.map.id]=e.exports:e.exports=m[e.map.id]={}},module:function(e){return e.module?e.module:e.module={id:e.map.id,uri:e.map.url,config:function(){return getOwn(g.config,e.map.id)||{}},exports:e.exports||(e.exports={})}}},(e=function(e){this.events=getOwn(r,e.id)||{},this.map=e,this.shim=getOwn(g.shim,e.id),this.depExports=[],this.depMaps=[],this.depMatched=[],this.pluginMaps={},this.depCount=0}).prototype={init:function(e,t,i,r){r=r||{},this.inited||(this.factory=t,i?this.on(\"error\",i):this.events.error&&(i=bind(this,function(e){this.emit(\"error\",e)})),this.depMaps=e&&e.slice(0),this.errback=i,this.inited=!0,this.ignore=r.ignore,r.enabled||this.enabled?this.enable():this.check())},defineDep:function(e,t){this.depMatched[e]||(this.depMatched[e]=!0,this.depCount-=1,this.depExports[e]=t)},fetch:function(){if(!this.fetched){this.fetched=!0,l.startTime=(new Date).getTime();var e=this.map;if(!this.shim)return e.prefix?this.callPlugin():this.load();l.makeRequire(this.map,{enableBuildCallback:!0})(this.shim.deps||[],bind(this,function(){return e.prefix?this.callPlugin():this.load()}))}},load:function(){var e=this.map.url;n[e]||(n[e]=!0,l.load(this.map.id,e))},check:function(){if(this.enabled&&!this.enabling){var t,e,i=this.map.id,r=this.depExports,n=this.exports,o=this.factory;if(this.inited){if(this.error)this.emit(\"error\",this.error);else if(!this.defining){if(this.defining=!0,this.depCount<1&&!this.defined){if(isFunction(o)){if(this.events.error&&this.map.isDefine||req.onError!==defaultOnError)try{n=l.execCb(i,o,r,n)}catch(e){t=e}else n=l.execCb(i,o,r,n);if(this.map.isDefine&&void 0===n&&((e=this.module)?n=e.exports:this.usingExports&&(n=this.exports)),t)return t.requireMap=this.map,t.requireModules=this.map.isDefine?[this.map.id]:null,t.requireType=this.map.isDefine?\"define\":\"require\",O(this.error=t)}else n=o;if(this.exports=n,this.map.isDefine&&!this.ignore&&(m[i]=n,req.onResourceLoad)){var a=[];each(this.depMaps,function(e){a.push(e.normalizedMap||e)}),req.onResourceLoad(l,this.map,a)}P(i),this.defined=!0}this.defining=!1,this.defined&&!this.defineEmitted&&(this.defineEmitted=!0,this.emit(\"defined\",this.exports),this.defineEmitComplete=!0)}}else hasProp(l.defQueueMap,i)||this.fetch()}},callPlugin:function(){var u=this.map,c=u.id,e=S(u.prefix);this.depMaps.push(e),M(e,\"defined\",bind(this,function(e){var o,t,i,r=getOwn(v,this.map.id),n=this.map.name,a=this.map.parentMap?this.map.parentMap.name:null,s=l.makeRequire(u.parentMap,{enableBuildCallback:!0});return this.map.unnormalized?(e.normalize&&(n=e.normalize(n,function(e){return q(e,a,!0)})||\"\"),M(t=S(u.prefix+\"!\"+n,this.map.parentMap,!0),\"defined\",bind(this,function(e){this.map.normalizedMap=t,this.init([],function(){return e},null,{enabled:!0,ignore:!0})})),void((i=getOwn(p,t.id))&&(this.depMaps.push(t),this.events.error&&i.on(\"error\",bind(this,function(e){this.emit(\"error\",e)})),i.enable()))):r?(this.map.url=l.nameToUrl(r),void this.load()):((o=bind(this,function(e){this.init([],function(){return e},null,{enabled:!0})})).error=bind(this,function(e){this.inited=!0,(this.error=e).requireModules=[c],eachProp(p,function(e){0===e.map.id.indexOf(c+\"_unnormalized\")&&P(e.map.id)}),O(e)}),o.fromText=bind(this,function(e,t){var i=u.name,r=S(i),n=useInteractive;t&&(e=t),n&&(useInteractive=!1),k(r),hasProp(g.config,c)&&(g.config[i]=g.config[c]);try{req.exec(e)}catch(e){return O(makeError(\"fromtexteval\",\"fromText eval for \"+c+\" failed: \"+e,e,[c]))}n&&(useInteractive=!0),this.depMaps.push(r),l.completeLoad(i),s([i],o)}),void e.load(u.name,s,o,g))})),l.enable(e,this),this.pluginMaps[e.id]=e},enable:function(){(f[this.map.id]=this).enabled=!0,this.enabling=!0,each(this.depMaps,bind(this,function(e,t){var i,r,n;if(\"string\"==typeof e){if(e=S(e,this.map.isDefine?this.map:this.map.parentMap,!1,!this.skipMap),this.depMaps[t]=e,n=getOwn(c,e.id))return void(this.depExports[t]=n(this));this.depCount+=1,M(e,\"defined\",bind(this,function(e){this.undefed||(this.defineDep(t,e),this.check())})),this.errback?M(e,\"error\",bind(this,this.errback)):this.events.error&&M(e,\"error\",bind(this,function(e){this.emit(\"error\",e)}))}i=e.id,r=p[i],hasProp(c,i)||!r||r.enabled||l.enable(e,this)})),eachProp(this.pluginMaps,bind(this,function(e){var t=getOwn(p,e.id);t&&!t.enabled&&l.enable(e,this)})),this.enabling=!1,this.check()},on:function(e,t){var i=this.events[e];i||(i=this.events[e]=[]),i.push(t)},emit:function(e,t){each(this.events[e],function(e){e(t)}),\"error\"===e&&delete this.events[e]}},(l={config:g,contextName:u,registry:p,defined:m,urlFetched:n,defQueue:h,defQueueMap:{},Module:e,makeModuleMap:S,nextTick:req.nextTick,onError:O,configure:function(e){if(e.baseUrl&&\"/\"!==e.baseUrl.charAt(e.baseUrl.length-1)&&(e.baseUrl+=\"/\"),\"string\"==typeof e.urlArgs){var i=e.urlArgs;e.urlArgs=function(e,t){return(-1===t.indexOf(\"?\")?\"?\":\"&\")+i}}var r=g.shim,n={paths:!0,bundles:!0,config:!0,map:!0};eachProp(e,function(e,t){n[t]?(g[t]||(g[t]={}),mixin(g[t],e,!0,!0)):g[t]=e}),e.bundles&&eachProp(e.bundles,function(e,t){each(e,function(e){e!==t&&(v[e]=t)})}),e.shim&&(eachProp(e.shim,function(e,t){isArray(e)&&(e={deps:e}),!e.exports&&!e.init||e.exportsFn||(e.exportsFn=l.makeShimExports(e)),r[t]=e}),g.shim=r),e.packages&&each(e.packages,function(e){var t;t=(e=\"string\"==typeof e?{name:e}:e).name,e.location&&(g.paths[t]=e.location),g.pkgs[t]=e.name+\"/\"+(e.main||\"main\").replace(currDirRegExp,\"\").replace(jsSuffixRegExp,\"\")}),eachProp(p,function(e,t){e.inited||e.map.unnormalized||(e.map=S(t,null,!0))}),(e.deps||e.callback)&&l.require(e.deps||[],e.callback)},makeShimExports:function(t){return function(){var e;return t.init&&(e=t.init.apply(global,arguments)),e||t.exports&&getGlobal(t.exports)}},makeRequire:function(o,a){function s(e,t,i){var r,n;return a.enableBuildCallback&&t&&isFunction(t)&&(t.__requireJsBuild=!0),\"string\"==typeof e?isFunction(t)?O(makeError(\"requireargs\",\"Invalid require call\"),i):o&&hasProp(c,e)?c[e](p[o.id]):req.get?req.get(l,e,o,s):(r=S(e,o,!1,!0).id,hasProp(m,r)?m[r]:O(makeError(\"notloaded\",'Module name \"'+r+'\" has not been loaded yet for context: '+u+(o?\"\":\". Use require([])\")))):(T(),l.nextTick(function(){T(),(n=k(S(null,o))).skipMap=a.skipMap,n.init(e,t,i,{enabled:!0}),R()}),s)}return a=a||{},mixin(s,{isBrowser:isBrowser,toUrl:function(e){var t,i=e.lastIndexOf(\".\"),r=e.split(\"/\")[0];return-1!==i&&(!(\".\"===r||\"..\"===r)||1<i)&&(t=e.substring(i,e.length),e=e.substring(0,i)),l.nameToUrl(q(e,o&&o.id,!0),t,!0)},defined:function(e){return hasProp(m,S(e,o,!1,!0).id)},specified:function(e){return e=S(e,o,!1,!0).id,hasProp(m,e)||hasProp(p,e)}}),o||(s.undef=function(i){j();var e=S(i,o,!0),t=getOwn(p,i);t.undefed=!0,E(i),delete m[i],delete n[e.url],delete r[i],eachReverse(h,function(e,t){e[0]===i&&h.splice(t,1)}),delete l.defQueueMap[i],t&&(t.events.defined&&(r[i]=t.events),P(i))}),s},enable:function(e){getOwn(p,e.id)&&k(e).enable()},completeLoad:function(e){var t,i,r,n=getOwn(g.shim,e)||{},o=n.exports;for(j();h.length;){if(null===(i=h.shift())[0]){if(i[0]=e,t)break;t=!0}else i[0]===e&&(t=!0);a(i)}if(l.defQueueMap={},r=getOwn(p,e),!t&&!hasProp(m,e)&&r&&!r.inited){if(!(!g.enforceDefine||o&&getGlobal(o)))return w(e)?void 0:O(makeError(\"nodefine\",\"No define call for \"+e,null,[e]));a([e,n.deps||[],n.exportsFn])}R()},nameToUrl:function(e,t,i){var r,n,o,a,s,u,c=getOwn(g.pkgs,e);if(c&&(e=c),u=getOwn(v,e))return l.nameToUrl(u,t,i);if(req.jsExtRegExp.test(e))a=e+(t||\"\");else{for(r=g.paths,o=(n=e.split(\"/\")).length;0<o;o-=1)if(s=getOwn(r,n.slice(0,o).join(\"/\"))){isArray(s)&&(s=s[0]),n.splice(0,o,s);break}a=n.join(\"/\"),a=(\"/\"===(a+=t||(/^data\\:|^blob\\:|\\?/.test(a)||i?\"\":\".js\")).charAt(0)||a.match(/^[\\w\\+\\.\\-]+:/)?\"\":g.baseUrl)+a}return g.urlArgs&&!/^blob\\:/.test(a)?a+g.urlArgs(e,a):a},load:function(e,t){req.load(l,e,t)},execCb:function(e,t,i,r){return t.apply(r,i)},onScriptLoad:function(e){if(\"load\"===e.type||readyRegExp.test((e.currentTarget||e.srcElement).readyState)){interactiveScript=null;var t=s(e);l.completeLoad(t.id)}},onScriptError:function(e){var i=s(e);if(!w(i.id)){var r=[];return eachProp(p,function(e,t){0!==t.indexOf(\"_@r\")&&each(e.depMaps,function(e){if(e.id===i.id)return r.push(t),!0})}),O(makeError(\"scripterror\",'Script error for \"'+i.id+(r.length?'\", needed by: '+r.join(\", \"):'\"'),e,[i.id]))}}}).require=l.makeRequire(),l}function getInteractiveScript(){return interactiveScript&&\"interactive\"===interactiveScript.readyState||eachReverse(scripts(),function(e){if(\"interactive\"===e.readyState)return interactiveScript=e}),interactiveScript}}(this,\"undefined\"==typeof setTimeout?void 0:setTimeout); </script>\n",
       "<script>\n",
       " require.config({\n",
       "   paths: {\n",
       "     'plotly': \"https://cdn.plot.ly/plotly-latest.min\",\n",
       "     'macy': \"https://cdn.jsdelivr.net/npm/macy@2.5.1/dist/macy.min\",\n",
       "     'merge': \"https://unpkg.com/merge-images@2.0.0/dist/index.umd\"\n",
       "   },\n",
       " })\n",
       "require( ['plotly', 'macy', 'merge'], function(Plotly, Macy, mergeImages) {\n",
       " window.Plotly = Plotly;\n",
       " window.Macy = Macy;\n",
       " window.mergeImages = mergeImages;\n",
       "})\n",
       "</script>\n"
      ]
     },
     "metadata": {},
     "output_type": "display_data"
    },
    {
     "data": {
      "text/plain": [
       "\u001b[32mimport \u001b[39m\u001b[36morg.carbonateresearch.picta.render.Html.initNotebook // required to initialize jupyter notebook mode\n",
       "\u001b[39m"
      ]
     },
     "execution_count": 3,
     "metadata": {},
     "output_type": "execute_result"
    }
   ],
   "source": [
    "import org.carbonateresearch.picta.render.Html.initNotebook // required to initialize jupyter notebook mode\n",
    "initNotebook() // stops ugly output"
   ]
  },
  {
   "cell_type": "markdown",
   "metadata": {},
   "source": [
    "# 1. Basics\n",
    "\n",
    "The aim of the Picta library is to be a highly configurable and composable charting library for data exploration. The library takes a grammatical approach to chart construction. \n",
    "\n",
    "The following examples are aimed at demonstrating the libraries capabilities, and eventually make constructing charts using this library easy and intuitive."
   ]
  },
  {
   "cell_type": "markdown",
   "metadata": {},
   "source": [
    "### Main Components\n",
    "\n",
    "Picta graphs are constructed in a modular manner. The main components are:\n",
    "\n",
    "1. `Canvas`: This is is the top-level component for representing the display. A `Canvas` may consist of multiple charts.\n",
    "\n",
    "\n",
    "2. `Chart`: This is the component that corresponds to an actual chart (i.e. scatter, pie etc).\n",
    "\n",
    "\n",
    "3. `Series`: This is the data series that is plotted on a `Chart`. `Series` come in 3 types:\n",
    "\n",
    "    - `XY`:   This is series data for constructing a 2D chart\n",
    "    - `XYZ`:  This is series data for constructing a 3D chart\n",
    "    - `Map`:  This is series data that constructs a Map chart\n",
    "    \n",
    "\n",
    "4. `ChartLayout`: This configures various parts of how the `Chart` is represented on screen.\n",
    "\n",
    "`Chart` may occassionally also make use of the `Config` component for further configuration. `Config` specifies whether the plot is responsive.\n",
    "\n",
    "The following examples in this notebook should provide a number of interactive examples to get used to the Picta library."
   ]
  },
  {
   "cell_type": "markdown",
   "metadata": {},
   "source": [
    "### Importing the Library\n",
    "\n",
    "Importing as below should bring in the most frequently used Components in the library."
   ]
  },
  {
   "cell_type": "code",
   "execution_count": 4,
   "metadata": {},
   "outputs": [],
   "source": [
    "import org.carbonateresearch.picta._"
   ]
  },
  {
   "cell_type": "markdown",
   "metadata": {},
   "source": [
    "### Create Some Dummy Data to Use in the Examples\n",
    "\n",
    "Here we create some dummy data to be used in the examples for this notebook."
   ]
  },
  {
   "cell_type": "code",
   "execution_count": 5,
   "metadata": {},
   "outputs": [],
   "source": [
    "val x = List.range(0, 100).map(x => scala.util.Random.nextDouble() * 50)\n",
    "val y = List.range(0, 100).map(x => scala.util.Random.nextDouble() * 50)\n",
    "val z = List.range(0, 100).map(x => scala.util.Random.nextDouble() * 50)"
   ]
  },
  {
   "cell_type": "markdown",
   "metadata": {},
   "source": [
    "### 2D Plots\n",
    "\n",
    "`Series` that represent 2D data are represented by `XY` series types.\n",
    "\n",
    "\n",
    "#### Scatter Plot\n",
    "\n",
    "An example `Scatter` plot is below. \n",
    "\n",
    "Note: This is just one way to call the library functions. Another way that uses function chaining will be shown immediately after this example."
   ]
  },
  {
   "cell_type": "code",
   "execution_count": 6,
   "metadata": {},
   "outputs": [
    {
     "data": {
      "text/html": [
       "<div id=\"grid-container_f6A4eSl2Ee\" class=\"grid-container\" align=\"center\"> \n",
       "<div id=\"grid_f6A4eSl2Ee\" class=\"grid\" align=\"center\"> \n",
       "<div id=\"graph_324BgkTYHL\" class=\"graph\"></div> \n",
       "</div> \n",
       "</div> \n",
       "<script>\n",
       "var masonry = new Macy({\n",
       "    container: '#grid_f6A4eSl2Ee',\n",
       "    debug: true,\n",
       "    mobileFirst: true,\n",
       "    columns: 1,\n",
       "    margin: {\n",
       "        x: 0,\n",
       "        y: 0\n",
       "    }\n",
       "  });\n",
       "\n",
       "  var traces_324BgkTYHL = [{\"name\":\"Ln1JwZ7Bw5\",\"type\":\"scatter\",\"mode\":\"markers\",\"x\":[14.935047219758275,29.20632479272926,6.170319412169084,2.94771071128197,24.089352546498855,23.82820144169,18.34320297129021,29.192091771925767,5.067976744115532,45.64600691388224,0.45127718028067365,7.224364689230811,6.9728368762472295,42.43473527252096,44.27443568075876,15.52857726997675,45.33905383306013,9.09776955385876,15.60493083212237,45.35146239369214,29.8086256327138,47.38607635800136,40.275643028774894,25.410179091615348,44.62207446190099,35.49293693354663,8.491695662042375,25.01882752825707,15.157110034870986,12.982281607294233,43.21888879962338,18.6552849041849,12.932846201649905,26.401275862568518,42.10315490882053,10.663748352866186,22.2500412953936,34.88288682082093,42.67839190226552,23.524671332017732,13.95226955094342,43.061725665142944,27.46579093605524,46.922634198118416,45.66992916623009,10.706551168971707,28.975927457923067,27.70399552859027,33.34838234194954,34.61540141122716,14.595626643067217,2.7400289024821225,15.863549047017262,8.524373363698178,27.87478688994971,37.697532117311916,13.092657685749293,41.048684969837126,35.824076372808356,34.767782511089365,7.934864978767159,0.00470195612518598,31.492598983313837,11.515978911974024,14.465880381618257,3.854202196427503,17.31532812127027,31.18719468198788,27.662684972215818,47.46724002784198,47.503347594893675,32.041146818510555,34.94891274479481,29.917515299859037,37.095567118222746,9.586950882570338,6.188366796604333,46.60427676729394,1.1988816489149512,0.9503375850581419,16.693660993586075,16.637332798655457,20.414348055144487,5.029645823074863,47.318867954011225,39.126830925244626,37.48023409975153,45.58322666461242,46.76954756246276,8.787054563677577,25.75844204892453,46.93973122862469,33.89047472881286,22.09354422866482,32.34906151516759,43.634069385900354,11.880817990858517,20.125457709677725,37.338452578680894,35.94567680876551],\"y\":[12.13851037038447,43.18012204047625,35.96952356992494,33.05202720766889,32.74997471580872,15.264350146088134,42.36852611174568,44.30917370285874,35.518331594115324,33.64713960046816,31.870906279724466,37.03244231029343,15.862675731370157,9.800978550525812,33.95947065514366,26.07418229880522,11.922942888644073,43.26402417333043,9.361301187353654,46.481871828538644,22.769379639614705,9.223039554580236,42.94557926387842,35.56864513529007,10.742518070349316,3.9470265962440187,8.722664820105885,14.839677569349458,19.639082134189934,19.594069356966624,14.465494466623802,15.391670137784336,48.7111574554141,11.368998139907927,11.25755610171128,32.63900524277564,32.26042134342046,25.527047515094925,7.617403562083124,27.51899931055877,35.98619281477035,26.298770901753123,8.757874175199621,11.689951657610981,44.18550340693652,43.454027755569335,9.008889943272209,13.659583408635555,26.405345012913056,9.92798260466774,49.465901397986705,21.267737891102197,38.211723850158364,20.699587223714005,13.521756107491617,33.49605871295283,28.367051338767702,19.943121295713123,20.097975828249826,31.188702157998826,43.89692830751336,13.365937932549144,38.112114824508815,41.94194904037104,45.27926929224567,6.600637896206585,36.00109163089017,29.15691809484119,16.303197471940173,38.53748177302937,46.96608088452214,29.048412581124833,27.02208836330342,10.56291066581817,24.01275134961883,42.264258517751266,33.66459423362138,8.812645767917015,28.831358780840088,8.693322050149755,26.369431607695265,26.75289574848314,45.09437108116753,5.026712232268676,14.174164963550567,19.67079420479244,29.84504943562204,4.685521959274358,16.815185634286877,10.98526090129356,16.308565850921813,28.83977134579338,14.585519866359126,22.6820442722902,7.677986597304281,45.41704888900392,40.749063532390416,18.6318242807127,4.210615853448912,40.23569405347415]}];\n",
       " var layout_324BgkTYHL = {\"height\":550,\"width\":600,\"hovermode\":\"closest\",\"title\":{\"text\":\"First Chart\"},\"showlegend\":true};\n",
       " var config_324BgkTYHL = {\"responsive\":true,\"scrollZoom\":true,\"displaylogo\":false};\n",
       " Plotly.newPlot(\"graph_324BgkTYHL\", traces_324BgkTYHL, layout_324BgkTYHL, config_324BgkTYHL);\n",
       "</script> \n"
      ]
     },
     "metadata": {},
     "output_type": "display_data"
    }
   ],
   "source": [
    "// create the data series using the data from above\n",
    "// 'asType SCATTER' transforms the series into a scatter chart\n",
    "// 'drawStyle Markers' specifies the style of the markers the chart should have\n",
    "// if a name is not provided to the series, Picta generates a random name to help keep track of the series in charts\n",
    "// multiple series.\n",
    "val series = XY(x, y) asType SCATTER drawStyle MARKERS\n",
    "\n",
    "// create a chart by adding to it a data series. We set the title as 'First Chart'\n",
    "val chart = Chart() addSeries series setTitle \"First Chart\"\n",
    "\n",
    "// if we have a single chart, then we do not need to use the Canvas and can simply call chart.plot\n",
    "\n",
    "chart.plotInline"
   ]
  },
  {
   "cell_type": "markdown",
   "metadata": {},
   "source": [
    "#Simple costumization\n",
    "This plot is nice, but could use some simple costumization to make it more attractive. First, the data series does not have a name and so the legend come with a generated arbitrary name (not very useful). Second, the X and Y axis don't have labels. Let's fix that."
   ]
  },
  {
   "cell_type": "code",
   "execution_count": 7,
   "metadata": {},
   "outputs": [
    {
     "data": {
      "text/html": [
       "<div id=\"grid-container_epGHx5jhSc\" class=\"grid-container\" align=\"center\"> \n",
       "<div id=\"grid_epGHx5jhSc\" class=\"grid\" align=\"center\"> \n",
       "<div id=\"graph_BLsxjh9d9Z\" class=\"graph\"></div> \n",
       "</div> \n",
       "</div> \n",
       "<script>\n",
       "var masonry = new Macy({\n",
       "    container: '#grid_epGHx5jhSc',\n",
       "    debug: true,\n",
       "    mobileFirst: true,\n",
       "    columns: 1,\n",
       "    margin: {\n",
       "        x: 0,\n",
       "        y: 0\n",
       "    }\n",
       "  });\n",
       "\n",
       "  var traces_BLsxjh9d9Z = [{\"name\":\"x vs y\",\"type\":\"scatter\",\"mode\":\"markers\",\"x\":[14.935047219758275,29.20632479272926,6.170319412169084,2.94771071128197,24.089352546498855,23.82820144169,18.34320297129021,29.192091771925767,5.067976744115532,45.64600691388224,0.45127718028067365,7.224364689230811,6.9728368762472295,42.43473527252096,44.27443568075876,15.52857726997675,45.33905383306013,9.09776955385876,15.60493083212237,45.35146239369214,29.8086256327138,47.38607635800136,40.275643028774894,25.410179091615348,44.62207446190099,35.49293693354663,8.491695662042375,25.01882752825707,15.157110034870986,12.982281607294233,43.21888879962338,18.6552849041849,12.932846201649905,26.401275862568518,42.10315490882053,10.663748352866186,22.2500412953936,34.88288682082093,42.67839190226552,23.524671332017732,13.95226955094342,43.061725665142944,27.46579093605524,46.922634198118416,45.66992916623009,10.706551168971707,28.975927457923067,27.70399552859027,33.34838234194954,34.61540141122716,14.595626643067217,2.7400289024821225,15.863549047017262,8.524373363698178,27.87478688994971,37.697532117311916,13.092657685749293,41.048684969837126,35.824076372808356,34.767782511089365,7.934864978767159,0.00470195612518598,31.492598983313837,11.515978911974024,14.465880381618257,3.854202196427503,17.31532812127027,31.18719468198788,27.662684972215818,47.46724002784198,47.503347594893675,32.041146818510555,34.94891274479481,29.917515299859037,37.095567118222746,9.586950882570338,6.188366796604333,46.60427676729394,1.1988816489149512,0.9503375850581419,16.693660993586075,16.637332798655457,20.414348055144487,5.029645823074863,47.318867954011225,39.126830925244626,37.48023409975153,45.58322666461242,46.76954756246276,8.787054563677577,25.75844204892453,46.93973122862469,33.89047472881286,22.09354422866482,32.34906151516759,43.634069385900354,11.880817990858517,20.125457709677725,37.338452578680894,35.94567680876551],\"y\":[12.13851037038447,43.18012204047625,35.96952356992494,33.05202720766889,32.74997471580872,15.264350146088134,42.36852611174568,44.30917370285874,35.518331594115324,33.64713960046816,31.870906279724466,37.03244231029343,15.862675731370157,9.800978550525812,33.95947065514366,26.07418229880522,11.922942888644073,43.26402417333043,9.361301187353654,46.481871828538644,22.769379639614705,9.223039554580236,42.94557926387842,35.56864513529007,10.742518070349316,3.9470265962440187,8.722664820105885,14.839677569349458,19.639082134189934,19.594069356966624,14.465494466623802,15.391670137784336,48.7111574554141,11.368998139907927,11.25755610171128,32.63900524277564,32.26042134342046,25.527047515094925,7.617403562083124,27.51899931055877,35.98619281477035,26.298770901753123,8.757874175199621,11.689951657610981,44.18550340693652,43.454027755569335,9.008889943272209,13.659583408635555,26.405345012913056,9.92798260466774,49.465901397986705,21.267737891102197,38.211723850158364,20.699587223714005,13.521756107491617,33.49605871295283,28.367051338767702,19.943121295713123,20.097975828249826,31.188702157998826,43.89692830751336,13.365937932549144,38.112114824508815,41.94194904037104,45.27926929224567,6.600637896206585,36.00109163089017,29.15691809484119,16.303197471940173,38.53748177302937,46.96608088452214,29.048412581124833,27.02208836330342,10.56291066581817,24.01275134961883,42.264258517751266,33.66459423362138,8.812645767917015,28.831358780840088,8.693322050149755,26.369431607695265,26.75289574848314,45.09437108116753,5.026712232268676,14.174164963550567,19.67079420479244,29.84504943562204,4.685521959274358,16.815185634286877,10.98526090129356,16.308565850921813,28.83977134579338,14.585519866359126,22.6820442722902,7.677986597304281,45.41704888900392,40.749063532390416,18.6318242807127,4.210615853448912,40.23569405347415]}];\n",
       " var layout_BLsxjh9d9Z = {\"height\":550,\"width\":600,\"hovermode\":\"closest\",\"title\":{\"text\":\"Chart with custom axis and label\"},\"showlegend\":true,\"xaxis\":{\"title\":{\"text\":\"X values\"},\"showgrid\":true,\"zeroline\":false,\"showline\":false},\"yaxis\":{\"title\":{\"text\":\"Y values\"},\"showgrid\":true,\"zeroline\":false,\"showline\":false}};\n",
       " var config_BLsxjh9d9Z = {\"responsive\":true,\"scrollZoom\":true,\"displaylogo\":false};\n",
       " Plotly.newPlot(\"graph_BLsxjh9d9Z\", traces_BLsxjh9d9Z, layout_BLsxjh9d9Z, config_BLsxjh9d9Z);\n",
       "</script> \n"
      ]
     },
     "metadata": {},
     "output_type": "display_data"
    }
   ],
   "source": [
    "val series = XY(x, y) asType SCATTER drawStyle MARKERS setName(\"x vs y\") // Using 'setName' gives a name to our series \n",
    "\n",
    "// Note the use of the setXAxisTitle and setYAxisTitle compared to above\n",
    "val chart = Chart() addSeries series setTitle \"Chart with custom axis and label\" setXAxisTitle(\"X values\") setYAxisTitle(\"Y values\")\n",
    "\n",
    "chart.plotInline"
   ]
  },
  {
   "cell_type": "markdown",
   "metadata": {},
   "source": [
    "#### Chaining Functions using the '.dot' notation\n",
    "\n",
    "Sometimes when we are specifying many options, it is quicker to use the IDE autocomplete and just chain the function calls using the familiar '.dot' notation. Throughout this book both the style above and the function chaining style will be used as and when convenient."
   ]
  },
  {
   "cell_type": "code",
   "execution_count": 8,
   "metadata": {},
   "outputs": [
    {
     "data": {
      "text/html": [
       "<div id=\"grid-container_1rokaclGHy\" class=\"grid-container\" align=\"center\"> \n",
       "<div id=\"grid_1rokaclGHy\" class=\"grid\" align=\"center\"> \n",
       "<div id=\"graph_ZpDoJqdiyn\" class=\"graph\"></div> \n",
       "</div> \n",
       "</div> \n",
       "<script>\n",
       "var masonry = new Macy({\n",
       "    container: '#grid_1rokaclGHy',\n",
       "    debug: true,\n",
       "    mobileFirst: true,\n",
       "    columns: 1,\n",
       "    margin: {\n",
       "        x: 0,\n",
       "        y: 0\n",
       "    }\n",
       "  });\n",
       "\n",
       "  var traces_ZpDoJqdiyn = [{\"name\":\"Chained xy\",\"type\":\"scatter\",\"mode\":\"markers\",\"x\":[14.935047219758275,29.20632479272926,6.170319412169084,2.94771071128197,24.089352546498855,23.82820144169,18.34320297129021,29.192091771925767,5.067976744115532,45.64600691388224,0.45127718028067365,7.224364689230811,6.9728368762472295,42.43473527252096,44.27443568075876,15.52857726997675,45.33905383306013,9.09776955385876,15.60493083212237,45.35146239369214,29.8086256327138,47.38607635800136,40.275643028774894,25.410179091615348,44.62207446190099,35.49293693354663,8.491695662042375,25.01882752825707,15.157110034870986,12.982281607294233,43.21888879962338,18.6552849041849,12.932846201649905,26.401275862568518,42.10315490882053,10.663748352866186,22.2500412953936,34.88288682082093,42.67839190226552,23.524671332017732,13.95226955094342,43.061725665142944,27.46579093605524,46.922634198118416,45.66992916623009,10.706551168971707,28.975927457923067,27.70399552859027,33.34838234194954,34.61540141122716,14.595626643067217,2.7400289024821225,15.863549047017262,8.524373363698178,27.87478688994971,37.697532117311916,13.092657685749293,41.048684969837126,35.824076372808356,34.767782511089365,7.934864978767159,0.00470195612518598,31.492598983313837,11.515978911974024,14.465880381618257,3.854202196427503,17.31532812127027,31.18719468198788,27.662684972215818,47.46724002784198,47.503347594893675,32.041146818510555,34.94891274479481,29.917515299859037,37.095567118222746,9.586950882570338,6.188366796604333,46.60427676729394,1.1988816489149512,0.9503375850581419,16.693660993586075,16.637332798655457,20.414348055144487,5.029645823074863,47.318867954011225,39.126830925244626,37.48023409975153,45.58322666461242,46.76954756246276,8.787054563677577,25.75844204892453,46.93973122862469,33.89047472881286,22.09354422866482,32.34906151516759,43.634069385900354,11.880817990858517,20.125457709677725,37.338452578680894,35.94567680876551],\"y\":[12.13851037038447,43.18012204047625,35.96952356992494,33.05202720766889,32.74997471580872,15.264350146088134,42.36852611174568,44.30917370285874,35.518331594115324,33.64713960046816,31.870906279724466,37.03244231029343,15.862675731370157,9.800978550525812,33.95947065514366,26.07418229880522,11.922942888644073,43.26402417333043,9.361301187353654,46.481871828538644,22.769379639614705,9.223039554580236,42.94557926387842,35.56864513529007,10.742518070349316,3.9470265962440187,8.722664820105885,14.839677569349458,19.639082134189934,19.594069356966624,14.465494466623802,15.391670137784336,48.7111574554141,11.368998139907927,11.25755610171128,32.63900524277564,32.26042134342046,25.527047515094925,7.617403562083124,27.51899931055877,35.98619281477035,26.298770901753123,8.757874175199621,11.689951657610981,44.18550340693652,43.454027755569335,9.008889943272209,13.659583408635555,26.405345012913056,9.92798260466774,49.465901397986705,21.267737891102197,38.211723850158364,20.699587223714005,13.521756107491617,33.49605871295283,28.367051338767702,19.943121295713123,20.097975828249826,31.188702157998826,43.89692830751336,13.365937932549144,38.112114824508815,41.94194904037104,45.27926929224567,6.600637896206585,36.00109163089017,29.15691809484119,16.303197471940173,38.53748177302937,46.96608088452214,29.048412581124833,27.02208836330342,10.56291066581817,24.01275134961883,42.264258517751266,33.66459423362138,8.812645767917015,28.831358780840088,8.693322050149755,26.369431607695265,26.75289574848314,45.09437108116753,5.026712232268676,14.174164963550567,19.67079420479244,29.84504943562204,4.685521959274358,16.815185634286877,10.98526090129356,16.308565850921813,28.83977134579338,14.585519866359126,22.6820442722902,7.677986597304281,45.41704888900392,40.749063532390416,18.6318242807127,4.210615853448912,40.23569405347415]}];\n",
       " var layout_ZpDoJqdiyn = {\"height\":550,\"width\":600,\"hovermode\":\"closest\",\"title\":{\"text\":\"Using Function Chaining\"},\"showlegend\":true,\"xaxis\":{\"showgrid\":true,\"zeroline\":false,\"showline\":false},\"yaxis\":{\"showgrid\":true,\"zeroline\":false,\"showline\":false}};\n",
       " var config_ZpDoJqdiyn = {\"responsive\":true,\"scrollZoom\":true,\"displaylogo\":false};\n",
       " Plotly.newPlot(\"graph_ZpDoJqdiyn\", traces_ZpDoJqdiyn, layout_ZpDoJqdiyn, config_ZpDoJqdiyn);\n",
       "</script> \n"
      ]
     },
     "metadata": {},
     "output_type": "display_data"
    }
   ],
   "source": [
    "// sometimes we may specify many options. In such cases it is clearer to use function chaining as below:\n",
    "val series = XY(x, y)\n",
    "            .asType(SCATTER)\n",
    "            .setName(\"Chained xy\")\n",
    "            .drawMarkers  // This is to help leverage the IDE autocompletion for quick scripting. Tap 'tab' twice to see options.\n",
    "\n",
    "val chart = Chart()\n",
    "            .addSeries(series)\n",
    "            .setTitle(\"Using Function Chaining\")\n",
    "            // by specifying and X and Y axes we can give more rid of the zerolines\n",
    "            .addAxes(Axis(X ,zeroline = false), Axis(Y ,zeroline = false)) \n",
    "\n",
    "chart.plotInline"
   ]
  },
  {
   "cell_type": "markdown",
   "metadata": {},
   "source": [
    "#### Bar Chart\n",
    "\n",
    "Now using the same principles as above, let's create a `Bar` chart:"
   ]
  },
  {
   "cell_type": "code",
   "execution_count": 9,
   "metadata": {},
   "outputs": [
    {
     "data": {
      "text/html": [
       "<div id=\"grid-container_ECnghGtES4\" class=\"grid-container\" align=\"center\"> \n",
       "<div id=\"grid_ECnghGtES4\" class=\"grid\" align=\"center\"> \n",
       "<div id=\"graph_l85BS87cvQ\" class=\"graph\"></div> \n",
       "</div> \n",
       "</div> \n",
       "<script>\n",
       "var masonry = new Macy({\n",
       "    container: '#grid_ECnghGtES4',\n",
       "    debug: true,\n",
       "    mobileFirst: true,\n",
       "    columns: 1,\n",
       "    margin: {\n",
       "        x: 0,\n",
       "        y: 0\n",
       "    }\n",
       "  });\n",
       "\n",
       "  var traces_l85BS87cvQ = [{\"name\":\"My data\",\"type\":\"bar\",\"x\":[\"a\",\"b\",\"c\"],\"y\":[10,20,300]}];\n",
       " var layout_l85BS87cvQ = {\"height\":550,\"width\":600,\"hovermode\":\"closest\",\"title\":{\"text\":\"Bar Chart\"},\"showlegend\":true};\n",
       " var config_l85BS87cvQ = {\"responsive\":false,\"scrollZoom\":false,\"displaylogo\":false};\n",
       " Plotly.newPlot(\"graph_l85BS87cvQ\", traces_l85BS87cvQ, layout_l85BS87cvQ, config_l85BS87cvQ);\n",
       "</script> \n"
      ]
     },
     "metadata": {},
     "output_type": "display_data"
    }
   ],
   "source": [
    "// First we create some data for the piechart\n",
    "val x_bar = List(\"a\", \"b\", \"c\")\n",
    "val y_bar = List(10, 20, 300)\n",
    "\n",
    "// again feed in the data that we want to represent as a Bar chart.\n",
    "// Notice how we change 'asType SCATTER' to 'asType BAR'\n",
    "val series = XY(x_bar, y_bar) asType BAR setName(\"My data\")\n",
    "\n",
    "// we can turn off the scrollzoom using setConfig\n",
    "val chart = Chart() addSeries series setTitle \"Bar Chart\" setConfig(false, false)\n",
    "\n",
    "chart.plotInline"
   ]
  },
  {
   "cell_type": "markdown",
   "metadata": {},
   "source": [
    "#### Adding Multiple Series on the Same Axis\n",
    "\n",
    "Sometimes we may want to plot multiple `Series` on the same axis to compare different data series.\n",
    "\n",
    "Let's plot both of the above on the same pair of axis:"
   ]
  },
  {
   "cell_type": "code",
   "execution_count": 10,
   "metadata": {},
   "outputs": [],
   "source": [
    "// we import the marker option which lets us specify the marker\n",
    "import org.carbonateresearch.picta.options.Marker\n",
    "import org.carbonateresearch.picta.SymbolShape._"
   ]
  },
  {
   "cell_type": "code",
   "execution_count": 11,
   "metadata": {},
   "outputs": [
    {
     "data": {
      "text/html": [
       "<div id=\"grid-container_GulFT4Syb9\" class=\"grid-container\" align=\"center\"> \n",
       "<div id=\"grid_GulFT4Syb9\" class=\"grid\" align=\"center\"> \n",
       "<div id=\"graph_lTBS9R0Sal\" class=\"graph\"></div> \n",
       "</div> \n",
       "</div> \n",
       "<script>\n",
       "var masonry = new Macy({\n",
       "    container: '#grid_GulFT4Syb9',\n",
       "    debug: true,\n",
       "    mobileFirst: true,\n",
       "    columns: 1,\n",
       "    margin: {\n",
       "        x: 0,\n",
       "        y: 0\n",
       "    }\n",
       "  });\n",
       "\n",
       "  var traces_lTBS9R0Sal = [{\"name\":\"Bar\",\"type\":\"bar\",\"x\":[14.935047219758275,29.20632479272926,6.170319412169084,2.94771071128197,24.089352546498855,23.82820144169,18.34320297129021,29.192091771925767,5.067976744115532,45.64600691388224,0.45127718028067365,7.224364689230811,6.9728368762472295,42.43473527252096,44.27443568075876,15.52857726997675,45.33905383306013,9.09776955385876,15.60493083212237,45.35146239369214,29.8086256327138,47.38607635800136,40.275643028774894,25.410179091615348,44.62207446190099,35.49293693354663,8.491695662042375,25.01882752825707,15.157110034870986,12.982281607294233,43.21888879962338,18.6552849041849,12.932846201649905,26.401275862568518,42.10315490882053,10.663748352866186,22.2500412953936,34.88288682082093,42.67839190226552,23.524671332017732,13.95226955094342,43.061725665142944,27.46579093605524,46.922634198118416,45.66992916623009,10.706551168971707,28.975927457923067,27.70399552859027,33.34838234194954,34.61540141122716,14.595626643067217,2.7400289024821225,15.863549047017262,8.524373363698178,27.87478688994971,37.697532117311916,13.092657685749293,41.048684969837126,35.824076372808356,34.767782511089365,7.934864978767159,0.00470195612518598,31.492598983313837,11.515978911974024,14.465880381618257,3.854202196427503,17.31532812127027,31.18719468198788,27.662684972215818,47.46724002784198,47.503347594893675,32.041146818510555,34.94891274479481,29.917515299859037,37.095567118222746,9.586950882570338,6.188366796604333,46.60427676729394,1.1988816489149512,0.9503375850581419,16.693660993586075,16.637332798655457,20.414348055144487,5.029645823074863,47.318867954011225,39.126830925244626,37.48023409975153,45.58322666461242,46.76954756246276,8.787054563677577,25.75844204892453,46.93973122862469,33.89047472881286,22.09354422866482,32.34906151516759,43.634069385900354,11.880817990858517,20.125457709677725,37.338452578680894,35.94567680876551],\"y\":[12.13851037038447,43.18012204047625,35.96952356992494,33.05202720766889,32.74997471580872,15.264350146088134,42.36852611174568,44.30917370285874,35.518331594115324,33.64713960046816,31.870906279724466,37.03244231029343,15.862675731370157,9.800978550525812,33.95947065514366,26.07418229880522,11.922942888644073,43.26402417333043,9.361301187353654,46.481871828538644,22.769379639614705,9.223039554580236,42.94557926387842,35.56864513529007,10.742518070349316,3.9470265962440187,8.722664820105885,14.839677569349458,19.639082134189934,19.594069356966624,14.465494466623802,15.391670137784336,48.7111574554141,11.368998139907927,11.25755610171128,32.63900524277564,32.26042134342046,25.527047515094925,7.617403562083124,27.51899931055877,35.98619281477035,26.298770901753123,8.757874175199621,11.689951657610981,44.18550340693652,43.454027755569335,9.008889943272209,13.659583408635555,26.405345012913056,9.92798260466774,49.465901397986705,21.267737891102197,38.211723850158364,20.699587223714005,13.521756107491617,33.49605871295283,28.367051338767702,19.943121295713123,20.097975828249826,31.188702157998826,43.89692830751336,13.365937932549144,38.112114824508815,41.94194904037104,45.27926929224567,6.600637896206585,36.00109163089017,29.15691809484119,16.303197471940173,38.53748177302937,46.96608088452214,29.048412581124833,27.02208836330342,10.56291066581817,24.01275134961883,42.264258517751266,33.66459423362138,8.812645767917015,28.831358780840088,8.693322050149755,26.369431607695265,26.75289574848314,45.09437108116753,5.026712232268676,14.174164963550567,19.67079420479244,29.84504943562204,4.685521959274358,16.815185634286877,10.98526090129356,16.308565850921813,28.83977134579338,14.585519866359126,22.6820442722902,7.677986597304281,45.41704888900392,40.749063532390416,18.6318242807127,4.210615853448912,40.23569405347415]},{\"name\":\"Scatter\",\"type\":\"scatter\",\"mode\":\"markers\",\"marker\":{\"symbol\":\"square-open\",\"color\":\"red\"},\"x\":[14.935047219758275,29.20632479272926,6.170319412169084,2.94771071128197,24.089352546498855,23.82820144169,18.34320297129021,29.192091771925767,5.067976744115532,45.64600691388224,0.45127718028067365,7.224364689230811,6.9728368762472295,42.43473527252096,44.27443568075876,15.52857726997675,45.33905383306013,9.09776955385876,15.60493083212237,45.35146239369214,29.8086256327138,47.38607635800136,40.275643028774894,25.410179091615348,44.62207446190099,35.49293693354663,8.491695662042375,25.01882752825707,15.157110034870986,12.982281607294233,43.21888879962338,18.6552849041849,12.932846201649905,26.401275862568518,42.10315490882053,10.663748352866186,22.2500412953936,34.88288682082093,42.67839190226552,23.524671332017732,13.95226955094342,43.061725665142944,27.46579093605524,46.922634198118416,45.66992916623009,10.706551168971707,28.975927457923067,27.70399552859027,33.34838234194954,34.61540141122716,14.595626643067217,2.7400289024821225,15.863549047017262,8.524373363698178,27.87478688994971,37.697532117311916,13.092657685749293,41.048684969837126,35.824076372808356,34.767782511089365,7.934864978767159,0.00470195612518598,31.492598983313837,11.515978911974024,14.465880381618257,3.854202196427503,17.31532812127027,31.18719468198788,27.662684972215818,47.46724002784198,47.503347594893675,32.041146818510555,34.94891274479481,29.917515299859037,37.095567118222746,9.586950882570338,6.188366796604333,46.60427676729394,1.1988816489149512,0.9503375850581419,16.693660993586075,16.637332798655457,20.414348055144487,5.029645823074863,47.318867954011225,39.126830925244626,37.48023409975153,45.58322666461242,46.76954756246276,8.787054563677577,25.75844204892453,46.93973122862469,33.89047472881286,22.09354422866482,32.34906151516759,43.634069385900354,11.880817990858517,20.125457709677725,37.338452578680894,35.94567680876551],\"y\":[12.13851037038447,43.18012204047625,35.96952356992494,33.05202720766889,32.74997471580872,15.264350146088134,42.36852611174568,44.30917370285874,35.518331594115324,33.64713960046816,31.870906279724466,37.03244231029343,15.862675731370157,9.800978550525812,33.95947065514366,26.07418229880522,11.922942888644073,43.26402417333043,9.361301187353654,46.481871828538644,22.769379639614705,9.223039554580236,42.94557926387842,35.56864513529007,10.742518070349316,3.9470265962440187,8.722664820105885,14.839677569349458,19.639082134189934,19.594069356966624,14.465494466623802,15.391670137784336,48.7111574554141,11.368998139907927,11.25755610171128,32.63900524277564,32.26042134342046,25.527047515094925,7.617403562083124,27.51899931055877,35.98619281477035,26.298770901753123,8.757874175199621,11.689951657610981,44.18550340693652,43.454027755569335,9.008889943272209,13.659583408635555,26.405345012913056,9.92798260466774,49.465901397986705,21.267737891102197,38.211723850158364,20.699587223714005,13.521756107491617,33.49605871295283,28.367051338767702,19.943121295713123,20.097975828249826,31.188702157998826,43.89692830751336,13.365937932549144,38.112114824508815,41.94194904037104,45.27926929224567,6.600637896206585,36.00109163089017,29.15691809484119,16.303197471940173,38.53748177302937,46.96608088452214,29.048412581124833,27.02208836330342,10.56291066581817,24.01275134961883,42.264258517751266,33.66459423362138,8.812645767917015,28.831358780840088,8.693322050149755,26.369431607695265,26.75289574848314,45.09437108116753,5.026712232268676,14.174164963550567,19.67079420479244,29.84504943562204,4.685521959274358,16.815185634286877,10.98526090129356,16.308565850921813,28.83977134579338,14.585519866359126,22.6820442722902,7.677986597304281,45.41704888900392,40.749063532390416,18.6318242807127,4.210615853448912,40.23569405347415]}];\n",
       " var layout_lTBS9R0Sal = {\"height\":550,\"width\":600,\"hovermode\":\"closest\",\"title\":{\"text\":\"Multiple series on one chart\"},\"showlegend\":true};\n",
       " var config_lTBS9R0Sal = {\"responsive\":true,\"scrollZoom\":true,\"displaylogo\":false};\n",
       " Plotly.newPlot(\"graph_lTBS9R0Sal\", traces_lTBS9R0Sal, layout_lTBS9R0Sal, config_lTBS9R0Sal);\n",
       "</script> \n"
      ]
     },
     "metadata": {},
     "output_type": "display_data"
    }
   ],
   "source": [
    "// additional traces can simply be composed with an existing chart and added on\n",
    "val series1 = XY(x, y) asType BAR setName \"Bar\"\n",
    "\n",
    "// lets give the second series a red marker. Again we can 'compose' a marker using smaller components\n",
    "val marker = Marker() setSymbol SQUARE_OPEN setColor \"red\"\n",
    "\n",
    "val series2 = XY(x, y) asType SCATTER setName \"Scatter\" drawStyle MARKERS setMarker marker\n",
    "\n",
    "// we not put brackets in the 'addSeries' function to ensure that addSeries picks up the right series'\n",
    "val chart = Chart() addSeries(series1, series2) setTitle(\"Multiple series on one chart\")\n",
    "\n",
    "chart.plotInline"
   ]
  },
  {
   "cell_type": "markdown",
   "metadata": {},
   "source": [
    "### Lets Change The Appearance of The Markers\n",
    "\n",
    "We can control the appearance of the markers by setting the width"
   ]
  },
  {
   "cell_type": "code",
   "execution_count": 12,
   "metadata": {},
   "outputs": [
    {
     "data": {
      "text/html": [
       "<div id=\"grid-container_xjxWZ48K5u\" class=\"grid-container\" align=\"center\"> \n",
       "<div id=\"grid_xjxWZ48K5u\" class=\"grid\" align=\"center\"> \n",
       "<div id=\"graph_GDqXD3xGhD\" class=\"graph\"></div> \n",
       "</div> \n",
       "</div> \n",
       "<script>\n",
       "var masonry = new Macy({\n",
       "    container: '#grid_xjxWZ48K5u',\n",
       "    debug: true,\n",
       "    mobileFirst: true,\n",
       "    columns: 1,\n",
       "    margin: {\n",
       "        x: 0,\n",
       "        y: 0\n",
       "    }\n",
       "  });\n",
       "\n",
       "  var traces_GDqXD3xGhD = [{\"name\":\"Bar\",\"type\":\"bar\",\"x\":[14.935047219758275,29.20632479272926,6.170319412169084,2.94771071128197,24.089352546498855,23.82820144169,18.34320297129021,29.192091771925767,5.067976744115532,45.64600691388224,0.45127718028067365,7.224364689230811,6.9728368762472295,42.43473527252096,44.27443568075876,15.52857726997675,45.33905383306013,9.09776955385876,15.60493083212237,45.35146239369214,29.8086256327138,47.38607635800136,40.275643028774894,25.410179091615348,44.62207446190099,35.49293693354663,8.491695662042375,25.01882752825707,15.157110034870986,12.982281607294233,43.21888879962338,18.6552849041849,12.932846201649905,26.401275862568518,42.10315490882053,10.663748352866186,22.2500412953936,34.88288682082093,42.67839190226552,23.524671332017732,13.95226955094342,43.061725665142944,27.46579093605524,46.922634198118416,45.66992916623009,10.706551168971707,28.975927457923067,27.70399552859027,33.34838234194954,34.61540141122716,14.595626643067217,2.7400289024821225,15.863549047017262,8.524373363698178,27.87478688994971,37.697532117311916,13.092657685749293,41.048684969837126,35.824076372808356,34.767782511089365,7.934864978767159,0.00470195612518598,31.492598983313837,11.515978911974024,14.465880381618257,3.854202196427503,17.31532812127027,31.18719468198788,27.662684972215818,47.46724002784198,47.503347594893675,32.041146818510555,34.94891274479481,29.917515299859037,37.095567118222746,9.586950882570338,6.188366796604333,46.60427676729394,1.1988816489149512,0.9503375850581419,16.693660993586075,16.637332798655457,20.414348055144487,5.029645823074863,47.318867954011225,39.126830925244626,37.48023409975153,45.58322666461242,46.76954756246276,8.787054563677577,25.75844204892453,46.93973122862469,33.89047472881286,22.09354422866482,32.34906151516759,43.634069385900354,11.880817990858517,20.125457709677725,37.338452578680894,35.94567680876551],\"y\":[12.13851037038447,43.18012204047625,35.96952356992494,33.05202720766889,32.74997471580872,15.264350146088134,42.36852611174568,44.30917370285874,35.518331594115324,33.64713960046816,31.870906279724466,37.03244231029343,15.862675731370157,9.800978550525812,33.95947065514366,26.07418229880522,11.922942888644073,43.26402417333043,9.361301187353654,46.481871828538644,22.769379639614705,9.223039554580236,42.94557926387842,35.56864513529007,10.742518070349316,3.9470265962440187,8.722664820105885,14.839677569349458,19.639082134189934,19.594069356966624,14.465494466623802,15.391670137784336,48.7111574554141,11.368998139907927,11.25755610171128,32.63900524277564,32.26042134342046,25.527047515094925,7.617403562083124,27.51899931055877,35.98619281477035,26.298770901753123,8.757874175199621,11.689951657610981,44.18550340693652,43.454027755569335,9.008889943272209,13.659583408635555,26.405345012913056,9.92798260466774,49.465901397986705,21.267737891102197,38.211723850158364,20.699587223714005,13.521756107491617,33.49605871295283,28.367051338767702,19.943121295713123,20.097975828249826,31.188702157998826,43.89692830751336,13.365937932549144,38.112114824508815,41.94194904037104,45.27926929224567,6.600637896206585,36.00109163089017,29.15691809484119,16.303197471940173,38.53748177302937,46.96608088452214,29.048412581124833,27.02208836330342,10.56291066581817,24.01275134961883,42.264258517751266,33.66459423362138,8.812645767917015,28.831358780840088,8.693322050149755,26.369431607695265,26.75289574848314,45.09437108116753,5.026712232268676,14.174164963550567,19.67079420479244,29.84504943562204,4.685521959274358,16.815185634286877,10.98526090129356,16.308565850921813,28.83977134579338,14.585519866359126,22.6820442722902,7.677986597304281,45.41704888900392,40.749063532390416,18.6318242807127,4.210615853448912,40.23569405347415]},{\"name\":\"Scatter\",\"type\":\"scatter\",\"mode\":\"markers\",\"marker\":{\"symbol\":\"circle\",\"color\":\"red\",\"line\":{\"width\":2,\"color\":\"black\"},\"size\":[10,10,10,10,10,10,10,10,10,10,10,10,10,10,10,10,10,10,10,10,10,10,10,10,10,10,10,10,10,10,10,10,10,10,10,10,10,10,10,10,10,10,10,10,10,10,10,10,10,10,10,10,10,10,10,10,10,10,10,10,10,10,10,10,10,10,10,10,10,10,10,10,10,10,10,10,10,10,10,10,10,10,10,10,10,10,10,10,10,10,10,10,10,10,10,10,10,10,10,10]},\"x\":[14.935047219758275,29.20632479272926,6.170319412169084,2.94771071128197,24.089352546498855,23.82820144169,18.34320297129021,29.192091771925767,5.067976744115532,45.64600691388224,0.45127718028067365,7.224364689230811,6.9728368762472295,42.43473527252096,44.27443568075876,15.52857726997675,45.33905383306013,9.09776955385876,15.60493083212237,45.35146239369214,29.8086256327138,47.38607635800136,40.275643028774894,25.410179091615348,44.62207446190099,35.49293693354663,8.491695662042375,25.01882752825707,15.157110034870986,12.982281607294233,43.21888879962338,18.6552849041849,12.932846201649905,26.401275862568518,42.10315490882053,10.663748352866186,22.2500412953936,34.88288682082093,42.67839190226552,23.524671332017732,13.95226955094342,43.061725665142944,27.46579093605524,46.922634198118416,45.66992916623009,10.706551168971707,28.975927457923067,27.70399552859027,33.34838234194954,34.61540141122716,14.595626643067217,2.7400289024821225,15.863549047017262,8.524373363698178,27.87478688994971,37.697532117311916,13.092657685749293,41.048684969837126,35.824076372808356,34.767782511089365,7.934864978767159,0.00470195612518598,31.492598983313837,11.515978911974024,14.465880381618257,3.854202196427503,17.31532812127027,31.18719468198788,27.662684972215818,47.46724002784198,47.503347594893675,32.041146818510555,34.94891274479481,29.917515299859037,37.095567118222746,9.586950882570338,6.188366796604333,46.60427676729394,1.1988816489149512,0.9503375850581419,16.693660993586075,16.637332798655457,20.414348055144487,5.029645823074863,47.318867954011225,39.126830925244626,37.48023409975153,45.58322666461242,46.76954756246276,8.787054563677577,25.75844204892453,46.93973122862469,33.89047472881286,22.09354422866482,32.34906151516759,43.634069385900354,11.880817990858517,20.125457709677725,37.338452578680894,35.94567680876551],\"y\":[12.13851037038447,43.18012204047625,35.96952356992494,33.05202720766889,32.74997471580872,15.264350146088134,42.36852611174568,44.30917370285874,35.518331594115324,33.64713960046816,31.870906279724466,37.03244231029343,15.862675731370157,9.800978550525812,33.95947065514366,26.07418229880522,11.922942888644073,43.26402417333043,9.361301187353654,46.481871828538644,22.769379639614705,9.223039554580236,42.94557926387842,35.56864513529007,10.742518070349316,3.9470265962440187,8.722664820105885,14.839677569349458,19.639082134189934,19.594069356966624,14.465494466623802,15.391670137784336,48.7111574554141,11.368998139907927,11.25755610171128,32.63900524277564,32.26042134342046,25.527047515094925,7.617403562083124,27.51899931055877,35.98619281477035,26.298770901753123,8.757874175199621,11.689951657610981,44.18550340693652,43.454027755569335,9.008889943272209,13.659583408635555,26.405345012913056,9.92798260466774,49.465901397986705,21.267737891102197,38.211723850158364,20.699587223714005,13.521756107491617,33.49605871295283,28.367051338767702,19.943121295713123,20.097975828249826,31.188702157998826,43.89692830751336,13.365937932549144,38.112114824508815,41.94194904037104,45.27926929224567,6.600637896206585,36.00109163089017,29.15691809484119,16.303197471940173,38.53748177302937,46.96608088452214,29.048412581124833,27.02208836330342,10.56291066581817,24.01275134961883,42.264258517751266,33.66459423362138,8.812645767917015,28.831358780840088,8.693322050149755,26.369431607695265,26.75289574848314,45.09437108116753,5.026712232268676,14.174164963550567,19.67079420479244,29.84504943562204,4.685521959274358,16.815185634286877,10.98526090129356,16.308565850921813,28.83977134579338,14.585519866359126,22.6820442722902,7.677986597304281,45.41704888900392,40.749063532390416,18.6318242807127,4.210615853448912,40.23569405347415]}];\n",
       " var layout_GDqXD3xGhD = {\"height\":550,\"width\":600,\"hovermode\":\"closest\",\"showlegend\":true};\n",
       " var config_GDqXD3xGhD = {\"responsive\":false,\"scrollZoom\":false,\"displaylogo\":false};\n",
       " Plotly.newPlot(\"graph_GDqXD3xGhD\", traces_GDqXD3xGhD, layout_GDqXD3xGhD, config_GDqXD3xGhD);\n",
       "</script> \n"
      ]
     },
     "metadata": {},
     "output_type": "display_data"
    }
   ],
   "source": [
    "// we can pass in the size of the markers\n",
    "val sizes = List.range(0, 100).map(x => 10)\n",
    "\n",
    "// additional traces can simply be composed with an existing chart and added on\n",
    "val series1 = XY(x, y) asType BAR setName \"Bar\"\n",
    "\n",
    "// lets give the second series a red marker. Again we can 'compose' a marker using smaller components\n",
    "val marker = (\n",
    "    Marker() \n",
    "    // sets the marker shape\n",
    "    setSymbol CIRCLE\n",
    "    // sets the fill to red\n",
    "    setColor \"red\" \n",
    "    // sets the outline to black, with width 2\n",
    "    setLine(width = 2, \"black\")\n",
    "    // set the size of the markers to 10 as per the list we created\n",
    "    setSize(sizes)\n",
    ") \n",
    "\n",
    "val series2 = XY(x, y) asType SCATTER setName \"Scatter\" drawStyle MARKERS setMarker marker\n",
    "\n",
    "// we not put brackets in the 'addSeries' function to ensure that addSeries picks up the right series'\n",
    "val chart = Chart() addSeries(series1, series2) setConfig(false, false)\n",
    "\n",
    "chart.plotInline"
   ]
  },
  {
   "cell_type": "markdown",
   "metadata": {},
   "source": [
    "### Adding Another Axes\n",
    "\n",
    "Sometimes we may wish to plot multiple series on one chart, but using two different Axes. This may be because the values of the two series are very different, yet we want to compare them on the same plot. We can do this as follows:"
   ]
  },
  {
   "cell_type": "code",
   "execution_count": 13,
   "metadata": {},
   "outputs": [
    {
     "data": {
      "text/html": [
       "<div id=\"grid-container_8vlTUh8wBb\" class=\"grid-container\" align=\"center\"> \n",
       "<div id=\"grid_8vlTUh8wBb\" class=\"grid\" align=\"center\"> \n",
       "<div id=\"graph_cUgKNUOhsm\" class=\"graph\"></div> \n",
       "</div> \n",
       "</div> \n",
       "<script>\n",
       "var masonry = new Macy({\n",
       "    container: '#grid_8vlTUh8wBb',\n",
       "    debug: true,\n",
       "    mobileFirst: true,\n",
       "    columns: 1,\n",
       "    margin: {\n",
       "        x: 0,\n",
       "        y: 0\n",
       "    }\n",
       "  });\n",
       "\n",
       "  var traces_cUgKNUOhsm = [{\"name\":\"Series 3 using Y axis 1\",\"type\":\"scatter\",\"mode\":\"markers\",\"x\":[14.935047219758275,29.20632479272926,6.170319412169084,2.94771071128197,24.089352546498855,23.82820144169,18.34320297129021,29.192091771925767,5.067976744115532,45.64600691388224,0.45127718028067365,7.224364689230811,6.9728368762472295,42.43473527252096,44.27443568075876,15.52857726997675,45.33905383306013,9.09776955385876,15.60493083212237,45.35146239369214,29.8086256327138,47.38607635800136,40.275643028774894,25.410179091615348,44.62207446190099,35.49293693354663,8.491695662042375,25.01882752825707,15.157110034870986,12.982281607294233,43.21888879962338,18.6552849041849,12.932846201649905,26.401275862568518,42.10315490882053,10.663748352866186,22.2500412953936,34.88288682082093,42.67839190226552,23.524671332017732,13.95226955094342,43.061725665142944,27.46579093605524,46.922634198118416,45.66992916623009,10.706551168971707,28.975927457923067,27.70399552859027,33.34838234194954,34.61540141122716,14.595626643067217,2.7400289024821225,15.863549047017262,8.524373363698178,27.87478688994971,37.697532117311916,13.092657685749293,41.048684969837126,35.824076372808356,34.767782511089365,7.934864978767159,0.00470195612518598,31.492598983313837,11.515978911974024,14.465880381618257,3.854202196427503,17.31532812127027,31.18719468198788,27.662684972215818,47.46724002784198,47.503347594893675,32.041146818510555,34.94891274479481,29.917515299859037,37.095567118222746,9.586950882570338,6.188366796604333,46.60427676729394,1.1988816489149512,0.9503375850581419,16.693660993586075,16.637332798655457,20.414348055144487,5.029645823074863,47.318867954011225,39.126830925244626,37.48023409975153,45.58322666461242,46.76954756246276,8.787054563677577,25.75844204892453,46.93973122862469,33.89047472881286,22.09354422866482,32.34906151516759,43.634069385900354,11.880817990858517,20.125457709677725,37.338452578680894,35.94567680876551],\"y\":[12.13851037038447,43.18012204047625,35.96952356992494,33.05202720766889,32.74997471580872,15.264350146088134,42.36852611174568,44.30917370285874,35.518331594115324,33.64713960046816,31.870906279724466,37.03244231029343,15.862675731370157,9.800978550525812,33.95947065514366,26.07418229880522,11.922942888644073,43.26402417333043,9.361301187353654,46.481871828538644,22.769379639614705,9.223039554580236,42.94557926387842,35.56864513529007,10.742518070349316,3.9470265962440187,8.722664820105885,14.839677569349458,19.639082134189934,19.594069356966624,14.465494466623802,15.391670137784336,48.7111574554141,11.368998139907927,11.25755610171128,32.63900524277564,32.26042134342046,25.527047515094925,7.617403562083124,27.51899931055877,35.98619281477035,26.298770901753123,8.757874175199621,11.689951657610981,44.18550340693652,43.454027755569335,9.008889943272209,13.659583408635555,26.405345012913056,9.92798260466774,49.465901397986705,21.267737891102197,38.211723850158364,20.699587223714005,13.521756107491617,33.49605871295283,28.367051338767702,19.943121295713123,20.097975828249826,31.188702157998826,43.89692830751336,13.365937932549144,38.112114824508815,41.94194904037104,45.27926929224567,6.600637896206585,36.00109163089017,29.15691809484119,16.303197471940173,38.53748177302937,46.96608088452214,29.048412581124833,27.02208836330342,10.56291066581817,24.01275134961883,42.264258517751266,33.66459423362138,8.812645767917015,28.831358780840088,8.693322050149755,26.369431607695265,26.75289574848314,45.09437108116753,5.026712232268676,14.174164963550567,19.67079420479244,29.84504943562204,4.685521959274358,16.815185634286877,10.98526090129356,16.308565850921813,28.83977134579338,14.585519866359126,22.6820442722902,7.677986597304281,45.41704888900392,40.749063532390416,18.6318242807127,4.210615853448912,40.23569405347415]},{\"name\":\"Series 2 using Y axis 2\",\"type\":\"scatter\",\"mode\":\"markers\",\"yaxis\":\"y2\",\"x\":[14.935047219758275,29.20632479272926,6.170319412169084,2.94771071128197,24.089352546498855,23.82820144169,18.34320297129021,29.192091771925767,5.067976744115532,45.64600691388224,0.45127718028067365,7.224364689230811,6.9728368762472295,42.43473527252096,44.27443568075876,15.52857726997675,45.33905383306013,9.09776955385876,15.60493083212237,45.35146239369214,29.8086256327138,47.38607635800136,40.275643028774894,25.410179091615348,44.62207446190099,35.49293693354663,8.491695662042375,25.01882752825707,15.157110034870986,12.982281607294233,43.21888879962338,18.6552849041849,12.932846201649905,26.401275862568518,42.10315490882053,10.663748352866186,22.2500412953936,34.88288682082093,42.67839190226552,23.524671332017732,13.95226955094342,43.061725665142944,27.46579093605524,46.922634198118416,45.66992916623009,10.706551168971707,28.975927457923067,27.70399552859027,33.34838234194954,34.61540141122716,14.595626643067217,2.7400289024821225,15.863549047017262,8.524373363698178,27.87478688994971,37.697532117311916,13.092657685749293,41.048684969837126,35.824076372808356,34.767782511089365,7.934864978767159,0.00470195612518598,31.492598983313837,11.515978911974024,14.465880381618257,3.854202196427503,17.31532812127027,31.18719468198788,27.662684972215818,47.46724002784198,47.503347594893675,32.041146818510555,34.94891274479481,29.917515299859037,37.095567118222746,9.586950882570338,6.188366796604333,46.60427676729394,1.1988816489149512,0.9503375850581419,16.693660993586075,16.637332798655457,20.414348055144487,5.029645823074863,47.318867954011225,39.126830925244626,37.48023409975153,45.58322666461242,46.76954756246276,8.787054563677577,25.75844204892453,46.93973122862469,33.89047472881286,22.09354422866482,32.34906151516759,43.634069385900354,11.880817990858517,20.125457709677725,37.338452578680894,35.94567680876551],\"y\":[35.82430037675713,30.067775502069615,35.315912979541324,40.696143293195945,19.427500983498152,27.07910768073363,24.224424838469826,17.82546370086558,23.304848465729673,8.619677894531225,45.297806397757256,26.893852498927888,18.68492398601722,6.23581231375161,43.073300735541004,20.30825170189605,12.147383968197978,33.48511524721331,17.731673796246934,29.037057532676634,26.830671673576205,13.84803733211345,43.83584334843414,10.431194312127401,29.991011131280036,34.82664968146717,27.90813049997321,0.9807096515359215,13.676911537918857,4.880052533874851,25.697277780647195,42.282306109539036,32.597861612447254,32.8635131995712,31.832057624555016,17.292117033701004,2.1428376150073314,6.718428686922495,22.96652997143501,41.79932714430118,9.943691773950652,19.30285177878564,30.492672487456897,2.9800641541854467,46.38048782776325,24.45734920844979,40.429361024579904,22.877336668053694,12.990230699471084,5.668560989591754,16.192310541810272,49.70160765276053,22.867467691307485,3.022912966936653,14.607877943445324,43.95792109092965,13.834618758579897,21.535501019185304,16.75423691207074,29.579333827785465,3.411915456540071,35.39423294464174,22.996725906132966,22.482728704310816,24.43122234162264,8.176935791971186,15.929800581573694,30.26191075957703,41.51500595620488,18.679152821215357,25.846277831641313,37.09422228688319,11.581154532328341,15.632985185716098,40.8252347825606,47.36073621573503,16.036309230299928,22.3023888241448,37.56313046866544,9.966423016431737,8.384807084795593,23.707907095428908,19.66843340254445,32.89549385297556,38.607323919248756,45.063916298937094,37.29823132610353,24.14848474461956,34.85270745340973,19.90403224376734,25.73599987953511,10.881436376753056,43.73849144341005,0.3253967963509352,40.79293040321982,43.30388795937131,2.870011830277747,29.800152471292247,35.76088536147722,33.69120258528741]}];\n",
       " var layout_cUgKNUOhsm = {\"height\":550,\"width\":600,\"hovermode\":\"closest\",\"title\":{\"text\":\"Using Multiple Axes\"},\"showlegend\":true,\"yaxis2\":{\"title\":{\"text\":\"Second y axis\"},\"showgrid\":true,\"zeroline\":false,\"showline\":false,\"side\":\"right\",\"overlaying\":\"y\"},\"yaxis\":{\"title\":{\"text\":\"First Y Axis\"},\"showgrid\":true,\"zeroline\":false,\"showline\":false},\"xaxis\":{\"title\":{\"text\":\"X Axis\"},\"showgrid\":true,\"zeroline\":false,\"showline\":false}};\n",
       " var config_cUgKNUOhsm = {\"responsive\":false,\"scrollZoom\":false,\"displaylogo\":false};\n",
       " Plotly.newPlot(\"graph_cUgKNUOhsm\", traces_cUgKNUOhsm, layout_cUgKNUOhsm, config_cUgKNUOhsm);\n",
       "</script> \n"
      ]
     },
     "metadata": {},
     "output_type": "display_data"
    }
   ],
   "source": [
    "val series1 = XY(x, y) asType SCATTER drawStyle MARKERS\n",
    "\n",
    "// The following maps the series onto the second Y axis.\n",
    "val series2 = (\n",
    "    XY(x, z) \n",
    "    asType SCATTER \n",
    "    drawStyle MARKERS \n",
    "    setAxis Axis(Y, 2)\n",
    "    setName(\"Series 2 using Y axis 2\")\n",
    ")\n",
    "\n",
    "val series3 = series1.copy() setName(\"Series 3 using Y axis 1\")\n",
    "      \n",
    "val chart = (\n",
    "    Chart() \n",
    "    setTitle \"Using Multiple Axes\"\n",
    "    // the following makes the chart unresponsive\n",
    "    setConfig(false, false) \n",
    "    addSeries(series3, series2) \n",
    "    // the following tells the chart how to render the second Y Axis\n",
    "    addAxes Axis(Y, position = 2, title = \"Second y axis\", overlaying = Axis(Y), side = RIGHT_SIDE)\n",
    "    addAxes Axis(Y, 1, \"First Y Axis\")\n",
    "    addAxes Axis(X, title = \"X Axis\")\n",
    ") \n",
    "\n",
    "// this is just for illustration purposes, but we can also do the following\n",
    "val canvas = Canvas() setChart(0, 0, chart)\n",
    "\n",
    "canvas.plotInline"
   ]
  },
  {
   "cell_type": "markdown",
   "metadata": {},
   "source": [
    "### Customizing the Axes\n",
    "\n",
    "As can be seen from some of the examples above, if you do a simple chart you can use the standard axis (X and Y) and costumise them in the chart object. But for more complex layout,  we may would want to create new axis and name them.\n",
    "\n",
    "We can do this as follows:"
   ]
  },
  {
   "cell_type": "code",
   "execution_count": 14,
   "metadata": {},
   "outputs": [
    {
     "data": {
      "text/html": [
       "<div id=\"grid-container_HxLGrJcbVg\" class=\"grid-container\" align=\"center\"> \n",
       "<div id=\"grid_HxLGrJcbVg\" class=\"grid\" align=\"center\"> \n",
       "<div id=\"graph_Ks2szlP2ED\" class=\"graph\"></div> \n",
       "</div> \n",
       "</div> \n",
       "<script>\n",
       "var masonry = new Macy({\n",
       "    container: '#grid_HxLGrJcbVg',\n",
       "    debug: true,\n",
       "    mobileFirst: true,\n",
       "    columns: 1,\n",
       "    margin: {\n",
       "        x: 0,\n",
       "        y: 0\n",
       "    }\n",
       "  });\n",
       "\n",
       "  var traces_Ks2szlP2ED = [{\"name\":\"Data\",\"type\":\"scatter\",\"mode\":\"markers\",\"x\":[14.935047219758275,29.20632479272926,6.170319412169084,2.94771071128197,24.089352546498855,23.82820144169,18.34320297129021,29.192091771925767,5.067976744115532,45.64600691388224,0.45127718028067365,7.224364689230811,6.9728368762472295,42.43473527252096,44.27443568075876,15.52857726997675,45.33905383306013,9.09776955385876,15.60493083212237,45.35146239369214,29.8086256327138,47.38607635800136,40.275643028774894,25.410179091615348,44.62207446190099,35.49293693354663,8.491695662042375,25.01882752825707,15.157110034870986,12.982281607294233,43.21888879962338,18.6552849041849,12.932846201649905,26.401275862568518,42.10315490882053,10.663748352866186,22.2500412953936,34.88288682082093,42.67839190226552,23.524671332017732,13.95226955094342,43.061725665142944,27.46579093605524,46.922634198118416,45.66992916623009,10.706551168971707,28.975927457923067,27.70399552859027,33.34838234194954,34.61540141122716,14.595626643067217,2.7400289024821225,15.863549047017262,8.524373363698178,27.87478688994971,37.697532117311916,13.092657685749293,41.048684969837126,35.824076372808356,34.767782511089365,7.934864978767159,0.00470195612518598,31.492598983313837,11.515978911974024,14.465880381618257,3.854202196427503,17.31532812127027,31.18719468198788,27.662684972215818,47.46724002784198,47.503347594893675,32.041146818510555,34.94891274479481,29.917515299859037,37.095567118222746,9.586950882570338,6.188366796604333,46.60427676729394,1.1988816489149512,0.9503375850581419,16.693660993586075,16.637332798655457,20.414348055144487,5.029645823074863,47.318867954011225,39.126830925244626,37.48023409975153,45.58322666461242,46.76954756246276,8.787054563677577,25.75844204892453,46.93973122862469,33.89047472881286,22.09354422866482,32.34906151516759,43.634069385900354,11.880817990858517,20.125457709677725,37.338452578680894,35.94567680876551],\"y\":[12.13851037038447,43.18012204047625,35.96952356992494,33.05202720766889,32.74997471580872,15.264350146088134,42.36852611174568,44.30917370285874,35.518331594115324,33.64713960046816,31.870906279724466,37.03244231029343,15.862675731370157,9.800978550525812,33.95947065514366,26.07418229880522,11.922942888644073,43.26402417333043,9.361301187353654,46.481871828538644,22.769379639614705,9.223039554580236,42.94557926387842,35.56864513529007,10.742518070349316,3.9470265962440187,8.722664820105885,14.839677569349458,19.639082134189934,19.594069356966624,14.465494466623802,15.391670137784336,48.7111574554141,11.368998139907927,11.25755610171128,32.63900524277564,32.26042134342046,25.527047515094925,7.617403562083124,27.51899931055877,35.98619281477035,26.298770901753123,8.757874175199621,11.689951657610981,44.18550340693652,43.454027755569335,9.008889943272209,13.659583408635555,26.405345012913056,9.92798260466774,49.465901397986705,21.267737891102197,38.211723850158364,20.699587223714005,13.521756107491617,33.49605871295283,28.367051338767702,19.943121295713123,20.097975828249826,31.188702157998826,43.89692830751336,13.365937932549144,38.112114824508815,41.94194904037104,45.27926929224567,6.600637896206585,36.00109163089017,29.15691809484119,16.303197471940173,38.53748177302937,46.96608088452214,29.048412581124833,27.02208836330342,10.56291066581817,24.01275134961883,42.264258517751266,33.66459423362138,8.812645767917015,28.831358780840088,8.693322050149755,26.369431607695265,26.75289574848314,45.09437108116753,5.026712232268676,14.174164963550567,19.67079420479244,29.84504943562204,4.685521959274358,16.815185634286877,10.98526090129356,16.308565850921813,28.83977134579338,14.585519866359126,22.6820442722902,7.677986597304281,45.41704888900392,40.749063532390416,18.6318242807127,4.210615853448912,40.23569405347415]}];\n",
       " var layout_Ks2szlP2ED = {\"height\":550,\"width\":600,\"hovermode\":\"closest\",\"title\":{\"text\":\"Chart with Axes\"},\"showlegend\":true,\"xaxis\":{\"title\":{\"text\":\"x variable\"},\"showgrid\":true,\"zeroline\":false,\"showline\":false},\"yaxis\":{\"title\":{\"text\":\"y variable\"},\"showgrid\":true,\"zeroline\":false,\"showline\":false}};\n",
       " var config_Ks2szlP2ED = {\"responsive\":true,\"scrollZoom\":true,\"displaylogo\":false};\n",
       " Plotly.newPlot(\"graph_Ks2szlP2ED\", traces_Ks2szlP2ED, layout_Ks2szlP2ED, config_Ks2szlP2ED);\n",
       "</script> \n"
      ]
     },
     "metadata": {},
     "output_type": "display_data"
    }
   ],
   "source": [
    "// We construct the axes and set their title\n",
    "val xaxis = Axis(X, title = \"x variable\")\n",
    "val yaxis = Axis(Y, title = \"y variable\")\n",
    "\n",
    "// another way to do composition is to just add a bracket around the composition\n",
    "val chart = (\n",
    "    Chart()\n",
    "    setTitle \"Chart with Axes\"\n",
    "    addSeries(series1 setName(\"Data\"))\n",
    "    addAxes(xaxis, yaxis)\n",
    ")\n",
    "\n",
    "chart.plotInline"
   ]
  },
  {
   "cell_type": "markdown",
   "metadata": {},
   "source": [
    "### Quickly Configuring The Axes\n",
    "\n",
    "Picta comes with a range of utility functions to make configuring the primary axes quick and easy"
   ]
  },
  {
   "cell_type": "code",
   "execution_count": 15,
   "metadata": {},
   "outputs": [],
   "source": [
    "// Let's create 100 randome data points\n",
    "val x = List.range(0, 100).map(x => x * scala.util.Random.nextDouble())\n",
    "val y = List.range(0, 100).map(x => x * scala.util.Random.nextDouble())"
   ]
  },
  {
   "cell_type": "markdown",
   "metadata": {},
   "source": [
    "#### Adjusting Axes Limits"
   ]
  },
  {
   "cell_type": "code",
   "execution_count": 16,
   "metadata": {},
   "outputs": [
    {
     "data": {
      "text/html": [
       "<div id=\"grid-container_iazwgvhrcM\" class=\"grid-container\" align=\"center\"> \n",
       "<div id=\"grid_iazwgvhrcM\" class=\"grid\" align=\"center\"> \n",
       "<div id=\"graph_rrf2Netly6\" class=\"graph\"></div> \n",
       "</div> \n",
       "</div> \n",
       "<script>\n",
       "var masonry = new Macy({\n",
       "    container: '#grid_iazwgvhrcM',\n",
       "    debug: true,\n",
       "    mobileFirst: true,\n",
       "    columns: 1,\n",
       "    margin: {\n",
       "        x: 0,\n",
       "        y: 0\n",
       "    }\n",
       "  });\n",
       "\n",
       "  var traces_rrf2Netly6 = [{\"name\":\"Data for Axis Limit example\",\"type\":\"scatter\",\"mode\":\"markers\",\"x\":[0,0.3894601861892565,1.8358281087852693,0.3657327883833361,2.901972137585258,0.7520377901851455,0.5718684709576587,1.9761785777532679,7.629667672023657,5.860220281921366,8.302651863435917,7.278704381999538,1.2475941251410965,3.6811128002241698,6.11373474054617,6.452328113144528,9.746300271537137,1.9802312391804517,5.657955604460228,9.339510429575864,0.36956288206925425,15.023359304102598,17.775326610288253,13.754013604445847,15.245886591131525,18.55388107012651,16.302062845525143,15.44203357304411,2.433562001697301,17.447676720397602,18.443617251354468,26.970287335931197,27.770757836131445,30.11369615916327,1.4020341723477894,18.232701094811485,6.0832622511299554,33.44074404268095,0.2672524029738299,21.376721866244168,4.592507099657586,38.139837185397084,41.75524038293219,15.001048663748989,38.035485206051774,7.946733534155495,3.4530033317513134,6.718788183263463,43.30598929128075,13.580856152544824,40.06153579121897,26.863599382060258,12.603387336374631,0.8549187465950356,17.962774850950034,20.491430097291325,11.380788644910886,28.14396279362122,54.52545317255589,47.14682615464478,52.06905340249592,8.803424475266926,38.15756141134032,44.370608649752114,21.866539847504875,50.32307492573657,10.459764518447543,26.874961662377608,30.076895953076672,24.267384716605275,54.184731948231914,15.952556965789661,36.79849123298941,45.632901886602596,67.3118369393546,44.268405304665755,47.46923211877887,59.399770038789455,61.65504098899169,68.95653826732642,48.09969722292149,15.017334763810045,71.2841403329211,54.15850073573135,71.23542773519448,17.593156079535692,16.90572711808675,28.046834704677885,24.026221670803874,4.900395722423149,48.470306853266536,72.22444382059697,18.49601692193367,45.2306724530323,86.89613146324497,4.429756042698687,45.45174567672581,70.84801404737952,18.17812021914086,56.95807615778344],\"y\":[0,0.06529123689499661,1.9320033127512526,1.0596529810473205,3.328383264406032,4.967089885658998,3.784575676159716,5.643330577097705,3.437684049164411,3.1706068988005307,4.724188706731067,4.643986839503565,7.5629084471490255,11.090574670650446,8.821007940461628,0.7290153932431498,10.273357689289892,8.125497103699855,3.0764462511797506,12.034279124520019,5.687212632444282,18.6091051504667,18.872862131204755,3.4635191075405674,10.131562630287615,12.038250400833297,5.94585075224283,19.39096741538809,14.98396552284709,2.1647612816935404,22.380831174442356,14.366897783567248,22.245084312936765,4.517290656266985,32.0448225133401,18.21880636083635,28.20935627764685,18.08912534155437,25.90236694510886,25.55029910145703,34.67190444595244,36.53922469581331,37.081576245679294,17.315528070916844,11.685131527846774,18.556536994881007,14.602152119363591,13.139227152006411,0.20751167770125178,31.28171842825269,18.602053593062656,29.61097988274796,0.32011820010444625,40.1159990114526,53.95318651580544,28.157347491746382,34.27333305789769,17.123832316477998,24.58910659597081,54.53689691694786,44.71700418176271,52.80436260887666,34.92925700329212,44.76099767284639,20.312048456601268,28.516477470002396,34.72468752505662,0.5674283667942326,18.77012453085116,3.543437049855715,0.7195378019385834,50.714525397361385,2.470544523624521,26.92558147339826,65.97081058364117,33.5705668307127,67.41002826739368,36.0236541230426,62.74610610241309,2.9965847601803874,33.60127912500506,40.550656725162696,4.875052375787916,66.61060165668742,71.40057545410882,13.776926786810947,69.51511174622563,32.427546436614065,60.86280390640555,78.02136536366405,87.75633690295945,53.84176696256038,13.344335586975241,37.64133332039959,9.58237864271222,5.208135947307223,11.450228980962958,12.77473648057574,90.67678807163627,19.13316427791612]}];\n",
       " var layout_rrf2Netly6 = {\"height\":550,\"width\":600,\"hovermode\":\"closest\",\"title\":{\"text\":\"Axis.SetAxisRange\"},\"showlegend\":true,\"yaxis\":{\"title\":{\"text\":\"y axis\"},\"showgrid\":true,\"zeroline\":false,\"showline\":false,\"range\":[100,-100]},\"xaxis\":{\"title\":{\"text\":\"x axis\"},\"showgrid\":true,\"zeroline\":false,\"showline\":false,\"range\":[-100,100]}};\n",
       " var config_rrf2Netly6 = {\"responsive\":true,\"scrollZoom\":true,\"displaylogo\":false};\n",
       " Plotly.newPlot(\"graph_rrf2Netly6\", traces_rrf2Netly6, layout_rrf2Netly6, config_rrf2Netly6);\n",
       "</script> \n"
      ]
     },
     "metadata": {},
     "output_type": "display_data"
    }
   ],
   "source": [
    "val series = (\n",
    "    XY(x, y)\n",
    "    asType SCATTER\n",
    "    drawStyle MARKERS\n",
    ")\n",
    "\n",
    "val chart = (\n",
    "      Chart()\n",
    "    addSeries series.setName(\"Data for Axis Limit example\")\n",
    "    setTitle \"Axis.SetAxisRange\"\n",
    "    addAxes yaxis\n",
    "    setXAxisLimits(-100, 100) // Here we set the axis limit from -100 to 100\n",
    "    setYAxisLimits(100, -100) // Here, by using the minimum as 100 and the maximum as -100, we automatically reverse the axis\n",
    "    setXAxisTitle(\"x axis\")\n",
    "    setYAxisTitle(\"y axis\")\n",
    ")\n",
    "\n",
    "chart.plotInline"
   ]
  },
  {
   "cell_type": "markdown",
   "metadata": {},
   "source": [
    "#### Adjusting Axis Ticks"
   ]
  },
  {
   "cell_type": "code",
   "execution_count": 17,
   "metadata": {
    "scrolled": false
   },
   "outputs": [
    {
     "data": {
      "text/html": [
       "<div id=\"grid-container_uTAfrQPZMJ\" class=\"grid-container\" align=\"center\"> \n",
       "<div id=\"grid_uTAfrQPZMJ\" class=\"grid\" align=\"center\"> \n",
       "<div id=\"graph_QnlXXNFLw9\" class=\"graph\"></div> \n",
       "</div> \n",
       "</div> \n",
       "<script>\n",
       "var masonry = new Macy({\n",
       "    container: '#grid_uTAfrQPZMJ',\n",
       "    debug: true,\n",
       "    mobileFirst: true,\n",
       "    columns: 1,\n",
       "    margin: {\n",
       "        x: 0,\n",
       "        y: 0\n",
       "    }\n",
       "  });\n",
       "\n",
       "  var traces_QnlXXNFLw9 = [{\"name\":\"kPzUWaVlkw\",\"type\":\"scatter\",\"mode\":\"markers\",\"x\":[0,0.3894601861892565,1.8358281087852693,0.3657327883833361,2.901972137585258,0.7520377901851455,0.5718684709576587,1.9761785777532679,7.629667672023657,5.860220281921366,8.302651863435917,7.278704381999538,1.2475941251410965,3.6811128002241698,6.11373474054617,6.452328113144528,9.746300271537137,1.9802312391804517,5.657955604460228,9.339510429575864,0.36956288206925425,15.023359304102598,17.775326610288253,13.754013604445847,15.245886591131525,18.55388107012651,16.302062845525143,15.44203357304411,2.433562001697301,17.447676720397602,18.443617251354468,26.970287335931197,27.770757836131445,30.11369615916327,1.4020341723477894,18.232701094811485,6.0832622511299554,33.44074404268095,0.2672524029738299,21.376721866244168,4.592507099657586,38.139837185397084,41.75524038293219,15.001048663748989,38.035485206051774,7.946733534155495,3.4530033317513134,6.718788183263463,43.30598929128075,13.580856152544824,40.06153579121897,26.863599382060258,12.603387336374631,0.8549187465950356,17.962774850950034,20.491430097291325,11.380788644910886,28.14396279362122,54.52545317255589,47.14682615464478,52.06905340249592,8.803424475266926,38.15756141134032,44.370608649752114,21.866539847504875,50.32307492573657,10.459764518447543,26.874961662377608,30.076895953076672,24.267384716605275,54.184731948231914,15.952556965789661,36.79849123298941,45.632901886602596,67.3118369393546,44.268405304665755,47.46923211877887,59.399770038789455,61.65504098899169,68.95653826732642,48.09969722292149,15.017334763810045,71.2841403329211,54.15850073573135,71.23542773519448,17.593156079535692,16.90572711808675,28.046834704677885,24.026221670803874,4.900395722423149,48.470306853266536,72.22444382059697,18.49601692193367,45.2306724530323,86.89613146324497,4.429756042698687,45.45174567672581,70.84801404737952,18.17812021914086,56.95807615778344],\"y\":[0,0.06529123689499661,1.9320033127512526,1.0596529810473205,3.328383264406032,4.967089885658998,3.784575676159716,5.643330577097705,3.437684049164411,3.1706068988005307,4.724188706731067,4.643986839503565,7.5629084471490255,11.090574670650446,8.821007940461628,0.7290153932431498,10.273357689289892,8.125497103699855,3.0764462511797506,12.034279124520019,5.687212632444282,18.6091051504667,18.872862131204755,3.4635191075405674,10.131562630287615,12.038250400833297,5.94585075224283,19.39096741538809,14.98396552284709,2.1647612816935404,22.380831174442356,14.366897783567248,22.245084312936765,4.517290656266985,32.0448225133401,18.21880636083635,28.20935627764685,18.08912534155437,25.90236694510886,25.55029910145703,34.67190444595244,36.53922469581331,37.081576245679294,17.315528070916844,11.685131527846774,18.556536994881007,14.602152119363591,13.139227152006411,0.20751167770125178,31.28171842825269,18.602053593062656,29.61097988274796,0.32011820010444625,40.1159990114526,53.95318651580544,28.157347491746382,34.27333305789769,17.123832316477998,24.58910659597081,54.53689691694786,44.71700418176271,52.80436260887666,34.92925700329212,44.76099767284639,20.312048456601268,28.516477470002396,34.72468752505662,0.5674283667942326,18.77012453085116,3.543437049855715,0.7195378019385834,50.714525397361385,2.470544523624521,26.92558147339826,65.97081058364117,33.5705668307127,67.41002826739368,36.0236541230426,62.74610610241309,2.9965847601803874,33.60127912500506,40.550656725162696,4.875052375787916,66.61060165668742,71.40057545410882,13.776926786810947,69.51511174622563,32.427546436614065,60.86280390640555,78.02136536366405,87.75633690295945,53.84176696256038,13.344335586975241,37.64133332039959,9.58237864271222,5.208135947307223,11.450228980962958,12.77473648057574,90.67678807163627,19.13316427791612]}];\n",
       " var layout_QnlXXNFLw9 = {\"height\":550,\"width\":600,\"hovermode\":\"closest\",\"title\":{\"text\":\"Set Axis Ticks\"},\"showlegend\":true,\"yaxis\":{\"title\":{\"text\":\"y variable\"},\"showgrid\":true,\"zeroline\":false,\"showline\":false,\"range\":[-100,100]},\"xaxis\":{\"title\":{\"text\":\"my new x axis\"},\"showgrid\":true,\"zeroline\":false,\"showline\":false,\"range\":[0,100],\"tick0\":5,\"dtick\":15}};\n",
       " var config_QnlXXNFLw9 = {\"responsive\":true,\"scrollZoom\":true,\"displaylogo\":false};\n",
       " Plotly.newPlot(\"graph_QnlXXNFLw9\", traces_QnlXXNFLw9, layout_QnlXXNFLw9, config_QnlXXNFLw9);\n",
       "</script> \n"
      ]
     },
     "metadata": {},
     "output_type": "display_data"
    }
   ],
   "source": [
    "val series = (\n",
    "    XY(x, y)\n",
    "    asType SCATTER\n",
    "    drawStyle MARKERS\n",
    ")\n",
    "\n",
    "val chart = (\n",
    "    Chart()\n",
    "    addSeries series\n",
    "    setTitle \"Set Axis Ticks\"\n",
    "    addAxes yaxis\n",
    "    setXAxisLimits(0, 100)\n",
    "    setYAxisLimits(-100, 100)\n",
    "    setXAxisTitle(\"my new x axis\")\n",
    "    setXAxisStartTick 5\n",
    "    setXAxisTickGap 15\n",
    ")\n",
    "\n",
    "chart.plotInline"
   ]
  },
  {
   "cell_type": "markdown",
   "metadata": {},
   "source": [
    "### Setting Logarithmic Axes"
   ]
  },
  {
   "cell_type": "code",
   "execution_count": 18,
   "metadata": {},
   "outputs": [
    {
     "data": {
      "text/html": [
       "<div id=\"grid-container_v9uHgcbrP6\" class=\"grid-container\" align=\"center\"> \n",
       "<div id=\"grid_v9uHgcbrP6\" class=\"grid\" align=\"center\"> \n",
       "<div id=\"graph_dV7FNfRgP6\" class=\"graph\"></div> \n",
       "</div> \n",
       "</div> \n",
       "<script>\n",
       "var masonry = new Macy({\n",
       "    container: '#grid_v9uHgcbrP6',\n",
       "    debug: true,\n",
       "    mobileFirst: true,\n",
       "    columns: 1,\n",
       "    margin: {\n",
       "        x: 0,\n",
       "        y: 0\n",
       "    }\n",
       "  });\n",
       "\n",
       "  var traces_dV7FNfRgP6 = [{\"name\":\"7OwoK3Q5Yr\",\"type\":\"scatter\",\"mode\":\"markers\",\"x\":[1,2,3],\"y\":[1.234,5.2112,2.44332]}];\n",
       " var layout_dV7FNfRgP6 = {\"height\":550,\"width\":600,\"hovermode\":\"closest\",\"title\":{\"text\":\"Logarithmic Axes\"},\"showlegend\":true,\"yaxis\":{\"title\":{\"text\":\"y variable\"},\"showgrid\":true,\"zeroline\":false,\"showline\":false,\"type\":\"log\"},\"xaxis\":{\"showgrid\":true,\"zeroline\":false,\"showline\":false,\"type\":\"log\"}};\n",
       " var config_dV7FNfRgP6 = {\"responsive\":true,\"scrollZoom\":true,\"displaylogo\":false};\n",
       " Plotly.newPlot(\"graph_dV7FNfRgP6\", traces_dV7FNfRgP6, layout_dV7FNfRgP6, config_dV7FNfRgP6);\n",
       "</script> \n"
      ]
     },
     "metadata": {},
     "output_type": "display_data"
    }
   ],
   "source": [
    "val series = (\n",
    "    XY(List(1, 2, 3), List(1.234, 5.2112, 2.44332))\n",
    "    asType SCATTER\n",
    "    drawStyle MARKERS\n",
    ")\n",
    "\n",
    "val chart = (\n",
    "    Chart()\n",
    "    addSeries series\n",
    "    setTitle \"Logarithmic Axes\"\n",
    "    addAxes yaxis\n",
    "    drawXAxisLog true // We set the 'drawXAxisLog' value to 'true' to draw it on a logarithmic scale\n",
    "    drawYAxisLog true\n",
    ")\n",
    "\n",
    "chart.plotInline"
   ]
  },
  {
   "cell_type": "markdown",
   "metadata": {},
   "source": [
    "### Reversing axis\n",
    "We can also reverse the axis by setting the appropriate 'drawXAxisReversed'"
   ]
  },
  {
   "cell_type": "code",
   "execution_count": 19,
   "metadata": {},
   "outputs": [
    {
     "data": {
      "text/html": [
       "<div id=\"grid-container_xgloryalMi\" class=\"grid-container\" align=\"center\"> \n",
       "<div id=\"grid_xgloryalMi\" class=\"grid\" align=\"center\"> \n",
       "<div id=\"graph_2lvqytVfYM\" class=\"graph\"></div> \n",
       "</div> \n",
       "</div> \n",
       "<script>\n",
       "var masonry = new Macy({\n",
       "    container: '#grid_xgloryalMi',\n",
       "    debug: true,\n",
       "    mobileFirst: true,\n",
       "    columns: 1,\n",
       "    margin: {\n",
       "        x: 0,\n",
       "        y: 0\n",
       "    }\n",
       "  });\n",
       "\n",
       "  var traces_2lvqytVfYM = [{\"name\":\"YQCINQzD5t\",\"type\":\"scatter\",\"mode\":\"markers\",\"x\":[0,0.3894601861892565,1.8358281087852693,0.3657327883833361,2.901972137585258,0.7520377901851455,0.5718684709576587,1.9761785777532679,7.629667672023657,5.860220281921366,8.302651863435917,7.278704381999538,1.2475941251410965,3.6811128002241698,6.11373474054617,6.452328113144528,9.746300271537137,1.9802312391804517,5.657955604460228,9.339510429575864,0.36956288206925425,15.023359304102598,17.775326610288253,13.754013604445847,15.245886591131525,18.55388107012651,16.302062845525143,15.44203357304411,2.433562001697301,17.447676720397602,18.443617251354468,26.970287335931197,27.770757836131445,30.11369615916327,1.4020341723477894,18.232701094811485,6.0832622511299554,33.44074404268095,0.2672524029738299,21.376721866244168,4.592507099657586,38.139837185397084,41.75524038293219,15.001048663748989,38.035485206051774,7.946733534155495,3.4530033317513134,6.718788183263463,43.30598929128075,13.580856152544824,40.06153579121897,26.863599382060258,12.603387336374631,0.8549187465950356,17.962774850950034,20.491430097291325,11.380788644910886,28.14396279362122,54.52545317255589,47.14682615464478,52.06905340249592,8.803424475266926,38.15756141134032,44.370608649752114,21.866539847504875,50.32307492573657,10.459764518447543,26.874961662377608,30.076895953076672,24.267384716605275,54.184731948231914,15.952556965789661,36.79849123298941,45.632901886602596,67.3118369393546,44.268405304665755,47.46923211877887,59.399770038789455,61.65504098899169,68.95653826732642,48.09969722292149,15.017334763810045,71.2841403329211,54.15850073573135,71.23542773519448,17.593156079535692,16.90572711808675,28.046834704677885,24.026221670803874,4.900395722423149,48.470306853266536,72.22444382059697,18.49601692193367,45.2306724530323,86.89613146324497,4.429756042698687,45.45174567672581,70.84801404737952,18.17812021914086,56.95807615778344],\"y\":[0,0.06529123689499661,1.9320033127512526,1.0596529810473205,3.328383264406032,4.967089885658998,3.784575676159716,5.643330577097705,3.437684049164411,3.1706068988005307,4.724188706731067,4.643986839503565,7.5629084471490255,11.090574670650446,8.821007940461628,0.7290153932431498,10.273357689289892,8.125497103699855,3.0764462511797506,12.034279124520019,5.687212632444282,18.6091051504667,18.872862131204755,3.4635191075405674,10.131562630287615,12.038250400833297,5.94585075224283,19.39096741538809,14.98396552284709,2.1647612816935404,22.380831174442356,14.366897783567248,22.245084312936765,4.517290656266985,32.0448225133401,18.21880636083635,28.20935627764685,18.08912534155437,25.90236694510886,25.55029910145703,34.67190444595244,36.53922469581331,37.081576245679294,17.315528070916844,11.685131527846774,18.556536994881007,14.602152119363591,13.139227152006411,0.20751167770125178,31.28171842825269,18.602053593062656,29.61097988274796,0.32011820010444625,40.1159990114526,53.95318651580544,28.157347491746382,34.27333305789769,17.123832316477998,24.58910659597081,54.53689691694786,44.71700418176271,52.80436260887666,34.92925700329212,44.76099767284639,20.312048456601268,28.516477470002396,34.72468752505662,0.5674283667942326,18.77012453085116,3.543437049855715,0.7195378019385834,50.714525397361385,2.470544523624521,26.92558147339826,65.97081058364117,33.5705668307127,67.41002826739368,36.0236541230426,62.74610610241309,2.9965847601803874,33.60127912500506,40.550656725162696,4.875052375787916,66.61060165668742,71.40057545410882,13.776926786810947,69.51511174622563,32.427546436614065,60.86280390640555,78.02136536366405,87.75633690295945,53.84176696256038,13.344335586975241,37.64133332039959,9.58237864271222,5.208135947307223,11.450228980962958,12.77473648057574,90.67678807163627,19.13316427791612]}];\n",
       " var layout_2lvqytVfYM = {\"height\":550,\"width\":600,\"hovermode\":\"closest\",\"title\":{\"text\":\"Reversed Axes\"},\"showlegend\":true,\"yaxis\":{\"title\":{\"text\":\"Mah\"},\"showgrid\":true,\"zeroline\":false,\"showline\":false,\"autorange\":\"reversed\"},\"xaxis\":{\"showgrid\":true,\"zeroline\":false,\"showline\":false,\"autorange\":\"reversed\"}};\n",
       " var config_2lvqytVfYM = {\"responsive\":true,\"scrollZoom\":true,\"displaylogo\":false};\n",
       " Plotly.newPlot(\"graph_2lvqytVfYM\", traces_2lvqytVfYM, layout_2lvqytVfYM, config_2lvqytVfYM);\n",
       "</script> \n"
      ]
     },
     "metadata": {},
     "output_type": "display_data"
    }
   ],
   "source": [
    "val series = (\n",
    "    XY(x, y)\n",
    "    asType SCATTER\n",
    "    drawStyle MARKERS\n",
    ")\n",
    "\n",
    "val chart = (\n",
    "    Chart()\n",
    "    addSeries series\n",
    "    setTitle \"Reversed Axes\"\n",
    "    setYAxisTitle(\"Mah\")\n",
    "    drawXAxisReversed true\n",
    "    drawYAxisReversed true\n",
    ")\n",
    "chart.plotInline"
   ]
  },
  {
   "cell_type": "markdown",
   "metadata": {},
   "source": [
    "### Display options - MultiCharts\n",
    "\n",
    "`MultiCharts` are a way to plot multiple axes on the same chart. This is seperate to Picta's grid system, which create a grid of subplot `Chart`'s. The next series of examples will make this clearer."
   ]
  },
  {
   "cell_type": "code",
   "execution_count": 20,
   "metadata": {},
   "outputs": [
    {
     "data": {
      "text/html": [
       "<div id=\"grid-container_iwckdfQyq7\" class=\"grid-container\" align=\"center\"> \n",
       "<div id=\"grid_iwckdfQyq7\" class=\"grid\" align=\"center\"> \n",
       "<div id=\"graph_AIz4jnxjco\" class=\"graph\"></div> \n",
       "</div> \n",
       "</div> \n",
       "<script>\n",
       "var masonry = new Macy({\n",
       "    container: '#grid_iwckdfQyq7',\n",
       "    debug: true,\n",
       "    mobileFirst: true,\n",
       "    columns: 1,\n",
       "    margin: {\n",
       "        x: 0,\n",
       "        y: 0\n",
       "    }\n",
       "  });\n",
       "\n",
       "  var traces_AIz4jnxjco = [{\"name\":\"First series\",\"type\":\"scatter\",\"mode\":\"markers\",\"x\":[1,2,3],\"y\":[2,4,5]},{\"name\":\"Second series\",\"type\":\"scatter\",\"mode\":\"markers\",\"xaxis\":\"x2\",\"yaxis\":\"y2\",\"x\":[0,0.3894601861892565,1.8358281087852693,0.3657327883833361,2.901972137585258,0.7520377901851455,0.5718684709576587,1.9761785777532679,7.629667672023657,5.860220281921366,8.302651863435917,7.278704381999538,1.2475941251410965,3.6811128002241698,6.11373474054617,6.452328113144528,9.746300271537137,1.9802312391804517,5.657955604460228,9.339510429575864,0.36956288206925425,15.023359304102598,17.775326610288253,13.754013604445847,15.245886591131525,18.55388107012651,16.302062845525143,15.44203357304411,2.433562001697301,17.447676720397602,18.443617251354468,26.970287335931197,27.770757836131445,30.11369615916327,1.4020341723477894,18.232701094811485,6.0832622511299554,33.44074404268095,0.2672524029738299,21.376721866244168,4.592507099657586,38.139837185397084,41.75524038293219,15.001048663748989,38.035485206051774,7.946733534155495,3.4530033317513134,6.718788183263463,43.30598929128075,13.580856152544824,40.06153579121897,26.863599382060258,12.603387336374631,0.8549187465950356,17.962774850950034,20.491430097291325,11.380788644910886,28.14396279362122,54.52545317255589,47.14682615464478,52.06905340249592,8.803424475266926,38.15756141134032,44.370608649752114,21.866539847504875,50.32307492573657,10.459764518447543,26.874961662377608,30.076895953076672,24.267384716605275,54.184731948231914,15.952556965789661,36.79849123298941,45.632901886602596,67.3118369393546,44.268405304665755,47.46923211877887,59.399770038789455,61.65504098899169,68.95653826732642,48.09969722292149,15.017334763810045,71.2841403329211,54.15850073573135,71.23542773519448,17.593156079535692,16.90572711808675,28.046834704677885,24.026221670803874,4.900395722423149,48.470306853266536,72.22444382059697,18.49601692193367,45.2306724530323,86.89613146324497,4.429756042698687,45.45174567672581,70.84801404737952,18.17812021914086,56.95807615778344],\"y\":[0,0.06529123689499661,1.9320033127512526,1.0596529810473205,3.328383264406032,4.967089885658998,3.784575676159716,5.643330577097705,3.437684049164411,3.1706068988005307,4.724188706731067,4.643986839503565,7.5629084471490255,11.090574670650446,8.821007940461628,0.7290153932431498,10.273357689289892,8.125497103699855,3.0764462511797506,12.034279124520019,5.687212632444282,18.6091051504667,18.872862131204755,3.4635191075405674,10.131562630287615,12.038250400833297,5.94585075224283,19.39096741538809,14.98396552284709,2.1647612816935404,22.380831174442356,14.366897783567248,22.245084312936765,4.517290656266985,32.0448225133401,18.21880636083635,28.20935627764685,18.08912534155437,25.90236694510886,25.55029910145703,34.67190444595244,36.53922469581331,37.081576245679294,17.315528070916844,11.685131527846774,18.556536994881007,14.602152119363591,13.139227152006411,0.20751167770125178,31.28171842825269,18.602053593062656,29.61097988274796,0.32011820010444625,40.1159990114526,53.95318651580544,28.157347491746382,34.27333305789769,17.123832316477998,24.58910659597081,54.53689691694786,44.71700418176271,52.80436260887666,34.92925700329212,44.76099767284639,20.312048456601268,28.516477470002396,34.72468752505662,0.5674283667942326,18.77012453085116,3.543437049855715,0.7195378019385834,50.714525397361385,2.470544523624521,26.92558147339826,65.97081058364117,33.5705668307127,67.41002826739368,36.0236541230426,62.74610610241309,2.9965847601803874,33.60127912500506,40.550656725162696,4.875052375787916,66.61060165668742,71.40057545410882,13.776926786810947,69.51511174622563,32.427546436614065,60.86280390640555,78.02136536366405,87.75633690295945,53.84176696256038,13.344335586975241,37.64133332039959,9.58237864271222,5.208135947307223,11.450228980962958,12.77473648057574,90.67678807163627,19.13316427791612]}];\n",
       " var layout_AIz4jnxjco = {\"height\":550,\"width\":600,\"hovermode\":\"closest\",\"title\":{\"text\":\"Chart.Axis.Composition\"},\"showlegend\":true,\"grid\":{\"rows\":1,\"columns\":2,\"pattern\":\"independent\"},\"xaxis\":{\"showgrid\":true,\"zeroline\":false,\"showline\":false},\"xaxis2\":{\"title\":{\"text\":\"x2\"},\"showgrid\":true,\"zeroline\":false,\"showline\":false},\"yaxis2\":{\"showgrid\":true,\"zeroline\":false,\"showline\":false}};\n",
       " var config_AIz4jnxjco = {\"responsive\":false,\"scrollZoom\":true,\"displaylogo\":false};\n",
       " Plotly.newPlot(\"graph_AIz4jnxjco\", traces_AIz4jnxjco, layout_AIz4jnxjco, config_AIz4jnxjco);\n",
       "</script> \n"
      ]
     },
     "metadata": {},
     "output_type": "display_data"
    }
   ],
   "source": [
    "// create the axes\n",
    "val xaxis1 = Axis(X) setTitle \"x1\"\n",
    "val yaxis1 = Axis(X) // this is not strictly necessary, but if it is not added there will be a zeroline at y = 0\n",
    "\n",
    "val xaxis2 = Axis(X, 2) setTitle \"x2\"\n",
    "val yaxis2 = Axis(Y, 2) // this is not strictly necessary, but if it is not added there will be a zeroline at y = 0\n",
    "\n",
    "val series1 = (\n",
    "    XY(x = List(1, 2, 3), y = List(2, 4, 5))\n",
    "    asType SCATTER\n",
    "    drawStyle MARKERS\n",
    "    setName(\"First series\") //Here we don't specify the axis, so the standard axis will be used\n",
    ")\n",
    "\n",
    "val series2 = (\n",
    "    XY(x = x, y = y) \n",
    "    asType SCATTER \n",
    "    drawStyle MARKERS \n",
    "    setName(\"Second series\")\n",
    "    setAxes (xaxis2, yaxis2) //Here we specify the axis for this plot, which are the second axis\n",
    ")\n",
    "\n",
    "val chart1 = Chart()\n",
    "            .addSeries(series1, series2)\n",
    "            .setTitle(\"Chart.Axis.Composition\")\n",
    "            .addAxes(xaxis1, yaxis1, xaxis2, yaxis2)\n",
    "            .setConfig(responsive=false)\n",
    "            // This tells Picta that we want to actually subdivide this chart into multiple plots\n",
    "            .asMultiChart(1, 2) //These correspond to the axis values given above\n",
    "\n",
    "chart1.plotInline"
   ]
  },
  {
   "cell_type": "markdown",
   "metadata": {},
   "source": [
    "### Picta's Subplot System\n",
    "\n",
    "While the above is useful, sometimes it is easier to plot independent charts in a subplot grid. This is where we can use the Picta subplot system.\n",
    "\n",
    "In the subplots below, each subplot is an individual `Chart`. This means we can actually embed the above `MultiChart` inside another subplot. This way we can create nested subplots to showcase any data we need to.\n",
    "\n",
    "Used creatively, this subplot system can be very useful for data exploration."
   ]
  },
  {
   "cell_type": "code",
   "execution_count": 21,
   "metadata": {
    "scrolled": false
   },
   "outputs": [
    {
     "data": {
      "text/html": [
       "<div id=\"grid-container_wjdDdqZjmV\" class=\"grid-container\" align=\"center\"> \n",
       "<div id=\"grid_wjdDdqZjmV\" class=\"grid\" align=\"center\"> \n",
       "<div id=\"graph_8TtIBT5Uoe\" class=\"graph\"></div> \n",
       "<div id=\"graph_NXS294ZeHe\" class=\"graph\"></div> \n",
       "<div id=\"graph_NvwBEkA09L\" class=\"graph\"></div> \n",
       "<div id=\"graph_7GN9mQxw35\" class=\"graph\"></div> \n",
       "</div> \n",
       "</div> \n",
       "\n",
       "<div align=\"center\">\n",
       "<button id = \"saveAsPNG_wjdDdqZjmV\" class=\"picta-button\">Download Canvas as PNG</button>\n",
       "</div>\n",
       "<script>\n",
       "var masonry = new Macy({\n",
       "    container: '#grid_wjdDdqZjmV',\n",
       "    debug: true,\n",
       "    mobileFirst: true,\n",
       "    columns: 2,\n",
       "    margin: {\n",
       "        x: 0,\n",
       "        y: 0\n",
       "    }\n",
       "  });\n",
       "\n",
       "  var traces_8TtIBT5Uoe = [{\"name\":\"a\",\"type\":\"scatter\",\"mode\":\"markers\",\"x\":[0,0.3894601861892565,1.8358281087852693,0.3657327883833361,2.901972137585258,0.7520377901851455,0.5718684709576587,1.9761785777532679,7.629667672023657,5.860220281921366,8.302651863435917,7.278704381999538,1.2475941251410965,3.6811128002241698,6.11373474054617,6.452328113144528,9.746300271537137,1.9802312391804517,5.657955604460228,9.339510429575864,0.36956288206925425,15.023359304102598,17.775326610288253,13.754013604445847,15.245886591131525,18.55388107012651,16.302062845525143,15.44203357304411,2.433562001697301,17.447676720397602,18.443617251354468,26.970287335931197,27.770757836131445,30.11369615916327,1.4020341723477894,18.232701094811485,6.0832622511299554,33.44074404268095,0.2672524029738299,21.376721866244168,4.592507099657586,38.139837185397084,41.75524038293219,15.001048663748989,38.035485206051774,7.946733534155495,3.4530033317513134,6.718788183263463,43.30598929128075,13.580856152544824,40.06153579121897,26.863599382060258,12.603387336374631,0.8549187465950356,17.962774850950034,20.491430097291325,11.380788644910886,28.14396279362122,54.52545317255589,47.14682615464478,52.06905340249592,8.803424475266926,38.15756141134032,44.370608649752114,21.866539847504875,50.32307492573657,10.459764518447543,26.874961662377608,30.076895953076672,24.267384716605275,54.184731948231914,15.952556965789661,36.79849123298941,45.632901886602596,67.3118369393546,44.268405304665755,47.46923211877887,59.399770038789455,61.65504098899169,68.95653826732642,48.09969722292149,15.017334763810045,71.2841403329211,54.15850073573135,71.23542773519448,17.593156079535692,16.90572711808675,28.046834704677885,24.026221670803874,4.900395722423149,48.470306853266536,72.22444382059697,18.49601692193367,45.2306724530323,86.89613146324497,4.429756042698687,45.45174567672581,70.84801404737952,18.17812021914086,56.95807615778344],\"y\":[0,0.06529123689499661,1.9320033127512526,1.0596529810473205,3.328383264406032,4.967089885658998,3.784575676159716,5.643330577097705,3.437684049164411,3.1706068988005307,4.724188706731067,4.643986839503565,7.5629084471490255,11.090574670650446,8.821007940461628,0.7290153932431498,10.273357689289892,8.125497103699855,3.0764462511797506,12.034279124520019,5.687212632444282,18.6091051504667,18.872862131204755,3.4635191075405674,10.131562630287615,12.038250400833297,5.94585075224283,19.39096741538809,14.98396552284709,2.1647612816935404,22.380831174442356,14.366897783567248,22.245084312936765,4.517290656266985,32.0448225133401,18.21880636083635,28.20935627764685,18.08912534155437,25.90236694510886,25.55029910145703,34.67190444595244,36.53922469581331,37.081576245679294,17.315528070916844,11.685131527846774,18.556536994881007,14.602152119363591,13.139227152006411,0.20751167770125178,31.28171842825269,18.602053593062656,29.61097988274796,0.32011820010444625,40.1159990114526,53.95318651580544,28.157347491746382,34.27333305789769,17.123832316477998,24.58910659597081,54.53689691694786,44.71700418176271,52.80436260887666,34.92925700329212,44.76099767284639,20.312048456601268,28.516477470002396,34.72468752505662,0.5674283667942326,18.77012453085116,3.543437049855715,0.7195378019385834,50.714525397361385,2.470544523624521,26.92558147339826,65.97081058364117,33.5705668307127,67.41002826739368,36.0236541230426,62.74610610241309,2.9965847601803874,33.60127912500506,40.550656725162696,4.875052375787916,66.61060165668742,71.40057545410882,13.776926786810947,69.51511174622563,32.427546436614065,60.86280390640555,78.02136536366405,87.75633690295945,53.84176696256038,13.344335586975241,37.64133332039959,9.58237864271222,5.208135947307223,11.450228980962958,12.77473648057574,90.67678807163627,19.13316427791612]}];\n",
       " var layout_8TtIBT5Uoe = {\"height\":350,\"width\":350,\"hovermode\":\"closest\",\"showlegend\":true,\"margin\":{\"l\":50,\"r\":30,\"t\":50,\"b\":50},\"xaxis\":{\"title\":{\"text\":\"x axis 1\"},\"showgrid\":true,\"zeroline\":false,\"showline\":false},\"yaxis\":{\"title\":{\"text\":\"y axis 1\"},\"showgrid\":true,\"zeroline\":false,\"showline\":false}};\n",
       " var config_8TtIBT5Uoe = {\"responsive\":true,\"scrollZoom\":true,\"displaylogo\":false};\n",
       " Plotly.newPlot(\"graph_8TtIBT5Uoe\", traces_8TtIBT5Uoe, layout_8TtIBT5Uoe, config_8TtIBT5Uoe);\n",
       "\n",
       "  var traces_NXS294ZeHe = [{\"name\":\"b\",\"type\":\"scatter\",\"mode\":\"markers\",\"x\":[0,0.3894601861892565,1.8358281087852693,0.3657327883833361,2.901972137585258,0.7520377901851455,0.5718684709576587,1.9761785777532679,7.629667672023657,5.860220281921366,8.302651863435917,7.278704381999538,1.2475941251410965,3.6811128002241698,6.11373474054617,6.452328113144528,9.746300271537137,1.9802312391804517,5.657955604460228,9.339510429575864,0.36956288206925425,15.023359304102598,17.775326610288253,13.754013604445847,15.245886591131525,18.55388107012651,16.302062845525143,15.44203357304411,2.433562001697301,17.447676720397602,18.443617251354468,26.970287335931197,27.770757836131445,30.11369615916327,1.4020341723477894,18.232701094811485,6.0832622511299554,33.44074404268095,0.2672524029738299,21.376721866244168,4.592507099657586,38.139837185397084,41.75524038293219,15.001048663748989,38.035485206051774,7.946733534155495,3.4530033317513134,6.718788183263463,43.30598929128075,13.580856152544824,40.06153579121897,26.863599382060258,12.603387336374631,0.8549187465950356,17.962774850950034,20.491430097291325,11.380788644910886,28.14396279362122,54.52545317255589,47.14682615464478,52.06905340249592,8.803424475266926,38.15756141134032,44.370608649752114,21.866539847504875,50.32307492573657,10.459764518447543,26.874961662377608,30.076895953076672,24.267384716605275,54.184731948231914,15.952556965789661,36.79849123298941,45.632901886602596,67.3118369393546,44.268405304665755,47.46923211877887,59.399770038789455,61.65504098899169,68.95653826732642,48.09969722292149,15.017334763810045,71.2841403329211,54.15850073573135,71.23542773519448,17.593156079535692,16.90572711808675,28.046834704677885,24.026221670803874,4.900395722423149,48.470306853266536,72.22444382059697,18.49601692193367,45.2306724530323,86.89613146324497,4.429756042698687,45.45174567672581,70.84801404737952,18.17812021914086,56.95807615778344],\"y\":[0,0.06529123689499661,1.9320033127512526,1.0596529810473205,3.328383264406032,4.967089885658998,3.784575676159716,5.643330577097705,3.437684049164411,3.1706068988005307,4.724188706731067,4.643986839503565,7.5629084471490255,11.090574670650446,8.821007940461628,0.7290153932431498,10.273357689289892,8.125497103699855,3.0764462511797506,12.034279124520019,5.687212632444282,18.6091051504667,18.872862131204755,3.4635191075405674,10.131562630287615,12.038250400833297,5.94585075224283,19.39096741538809,14.98396552284709,2.1647612816935404,22.380831174442356,14.366897783567248,22.245084312936765,4.517290656266985,32.0448225133401,18.21880636083635,28.20935627764685,18.08912534155437,25.90236694510886,25.55029910145703,34.67190444595244,36.53922469581331,37.081576245679294,17.315528070916844,11.685131527846774,18.556536994881007,14.602152119363591,13.139227152006411,0.20751167770125178,31.28171842825269,18.602053593062656,29.61097988274796,0.32011820010444625,40.1159990114526,53.95318651580544,28.157347491746382,34.27333305789769,17.123832316477998,24.58910659597081,54.53689691694786,44.71700418176271,52.80436260887666,34.92925700329212,44.76099767284639,20.312048456601268,28.516477470002396,34.72468752505662,0.5674283667942326,18.77012453085116,3.543437049855715,0.7195378019385834,50.714525397361385,2.470544523624521,26.92558147339826,65.97081058364117,33.5705668307127,67.41002826739368,36.0236541230426,62.74610610241309,2.9965847601803874,33.60127912500506,40.550656725162696,4.875052375787916,66.61060165668742,71.40057545410882,13.776926786810947,69.51511174622563,32.427546436614065,60.86280390640555,78.02136536366405,87.75633690295945,53.84176696256038,13.344335586975241,37.64133332039959,9.58237864271222,5.208135947307223,11.450228980962958,12.77473648057574,90.67678807163627,19.13316427791612]}];\n",
       " var layout_NXS294ZeHe = {\"height\":350,\"width\":350,\"hovermode\":\"closest\",\"showlegend\":true,\"margin\":{\"l\":50,\"r\":50,\"t\":50,\"b\":50},\"xaxis\":{\"title\":{\"text\":\"x axis 2\"},\"showgrid\":true,\"zeroline\":false,\"showline\":false},\"yaxis\":{\"title\":{\"text\":\"y axis 2\"},\"showgrid\":true,\"zeroline\":false,\"showline\":false}};\n",
       " var config_NXS294ZeHe = {\"responsive\":true,\"scrollZoom\":true,\"displaylogo\":false};\n",
       " Plotly.newPlot(\"graph_NXS294ZeHe\", traces_NXS294ZeHe, layout_NXS294ZeHe, config_NXS294ZeHe);\n",
       "\n",
       "  var traces_NvwBEkA09L = [{\"name\":\"c\",\"type\":\"scatter\",\"mode\":\"markers\",\"x\":[0,0.3894601861892565,1.8358281087852693,0.3657327883833361,2.901972137585258,0.7520377901851455,0.5718684709576587,1.9761785777532679,7.629667672023657,5.860220281921366,8.302651863435917,7.278704381999538,1.2475941251410965,3.6811128002241698,6.11373474054617,6.452328113144528,9.746300271537137,1.9802312391804517,5.657955604460228,9.339510429575864,0.36956288206925425,15.023359304102598,17.775326610288253,13.754013604445847,15.245886591131525,18.55388107012651,16.302062845525143,15.44203357304411,2.433562001697301,17.447676720397602,18.443617251354468,26.970287335931197,27.770757836131445,30.11369615916327,1.4020341723477894,18.232701094811485,6.0832622511299554,33.44074404268095,0.2672524029738299,21.376721866244168,4.592507099657586,38.139837185397084,41.75524038293219,15.001048663748989,38.035485206051774,7.946733534155495,3.4530033317513134,6.718788183263463,43.30598929128075,13.580856152544824,40.06153579121897,26.863599382060258,12.603387336374631,0.8549187465950356,17.962774850950034,20.491430097291325,11.380788644910886,28.14396279362122,54.52545317255589,47.14682615464478,52.06905340249592,8.803424475266926,38.15756141134032,44.370608649752114,21.866539847504875,50.32307492573657,10.459764518447543,26.874961662377608,30.076895953076672,24.267384716605275,54.184731948231914,15.952556965789661,36.79849123298941,45.632901886602596,67.3118369393546,44.268405304665755,47.46923211877887,59.399770038789455,61.65504098899169,68.95653826732642,48.09969722292149,15.017334763810045,71.2841403329211,54.15850073573135,71.23542773519448,17.593156079535692,16.90572711808675,28.046834704677885,24.026221670803874,4.900395722423149,48.470306853266536,72.22444382059697,18.49601692193367,45.2306724530323,86.89613146324497,4.429756042698687,45.45174567672581,70.84801404737952,18.17812021914086,56.95807615778344],\"y\":[0,0.06529123689499661,1.9320033127512526,1.0596529810473205,3.328383264406032,4.967089885658998,3.784575676159716,5.643330577097705,3.437684049164411,3.1706068988005307,4.724188706731067,4.643986839503565,7.5629084471490255,11.090574670650446,8.821007940461628,0.7290153932431498,10.273357689289892,8.125497103699855,3.0764462511797506,12.034279124520019,5.687212632444282,18.6091051504667,18.872862131204755,3.4635191075405674,10.131562630287615,12.038250400833297,5.94585075224283,19.39096741538809,14.98396552284709,2.1647612816935404,22.380831174442356,14.366897783567248,22.245084312936765,4.517290656266985,32.0448225133401,18.21880636083635,28.20935627764685,18.08912534155437,25.90236694510886,25.55029910145703,34.67190444595244,36.53922469581331,37.081576245679294,17.315528070916844,11.685131527846774,18.556536994881007,14.602152119363591,13.139227152006411,0.20751167770125178,31.28171842825269,18.602053593062656,29.61097988274796,0.32011820010444625,40.1159990114526,53.95318651580544,28.157347491746382,34.27333305789769,17.123832316477998,24.58910659597081,54.53689691694786,44.71700418176271,52.80436260887666,34.92925700329212,44.76099767284639,20.312048456601268,28.516477470002396,34.72468752505662,0.5674283667942326,18.77012453085116,3.543437049855715,0.7195378019385834,50.714525397361385,2.470544523624521,26.92558147339826,65.97081058364117,33.5705668307127,67.41002826739368,36.0236541230426,62.74610610241309,2.9965847601803874,33.60127912500506,40.550656725162696,4.875052375787916,66.61060165668742,71.40057545410882,13.776926786810947,69.51511174622563,32.427546436614065,60.86280390640555,78.02136536366405,87.75633690295945,53.84176696256038,13.344335586975241,37.64133332039959,9.58237864271222,5.208135947307223,11.450228980962958,12.77473648057574,90.67678807163627,19.13316427791612]}];\n",
       " var layout_NvwBEkA09L = {\"height\":350,\"width\":350,\"hovermode\":\"closest\",\"showlegend\":true,\"margin\":{\"l\":50,\"r\":30,\"t\":50,\"b\":50},\"xaxis\":{\"title\":{\"text\":\"x axis 3\"},\"showgrid\":true,\"zeroline\":false,\"showline\":false},\"yaxis\":{\"title\":{\"text\":\"y axis 3\"},\"showgrid\":true,\"zeroline\":false,\"showline\":false}};\n",
       " var config_NvwBEkA09L = {\"responsive\":true,\"scrollZoom\":true,\"displaylogo\":false};\n",
       " Plotly.newPlot(\"graph_NvwBEkA09L\", traces_NvwBEkA09L, layout_NvwBEkA09L, config_NvwBEkA09L);\n",
       "\n",
       "  var traces_7GN9mQxw35 = [{\"name\":\"First series\",\"type\":\"scatter\",\"mode\":\"markers\",\"x\":[1,2,3],\"y\":[2,4,5]},{\"name\":\"Second series\",\"type\":\"scatter\",\"mode\":\"markers\",\"xaxis\":\"x2\",\"yaxis\":\"y2\",\"x\":[0,0.3894601861892565,1.8358281087852693,0.3657327883833361,2.901972137585258,0.7520377901851455,0.5718684709576587,1.9761785777532679,7.629667672023657,5.860220281921366,8.302651863435917,7.278704381999538,1.2475941251410965,3.6811128002241698,6.11373474054617,6.452328113144528,9.746300271537137,1.9802312391804517,5.657955604460228,9.339510429575864,0.36956288206925425,15.023359304102598,17.775326610288253,13.754013604445847,15.245886591131525,18.55388107012651,16.302062845525143,15.44203357304411,2.433562001697301,17.447676720397602,18.443617251354468,26.970287335931197,27.770757836131445,30.11369615916327,1.4020341723477894,18.232701094811485,6.0832622511299554,33.44074404268095,0.2672524029738299,21.376721866244168,4.592507099657586,38.139837185397084,41.75524038293219,15.001048663748989,38.035485206051774,7.946733534155495,3.4530033317513134,6.718788183263463,43.30598929128075,13.580856152544824,40.06153579121897,26.863599382060258,12.603387336374631,0.8549187465950356,17.962774850950034,20.491430097291325,11.380788644910886,28.14396279362122,54.52545317255589,47.14682615464478,52.06905340249592,8.803424475266926,38.15756141134032,44.370608649752114,21.866539847504875,50.32307492573657,10.459764518447543,26.874961662377608,30.076895953076672,24.267384716605275,54.184731948231914,15.952556965789661,36.79849123298941,45.632901886602596,67.3118369393546,44.268405304665755,47.46923211877887,59.399770038789455,61.65504098899169,68.95653826732642,48.09969722292149,15.017334763810045,71.2841403329211,54.15850073573135,71.23542773519448,17.593156079535692,16.90572711808675,28.046834704677885,24.026221670803874,4.900395722423149,48.470306853266536,72.22444382059697,18.49601692193367,45.2306724530323,86.89613146324497,4.429756042698687,45.45174567672581,70.84801404737952,18.17812021914086,56.95807615778344],\"y\":[0,0.06529123689499661,1.9320033127512526,1.0596529810473205,3.328383264406032,4.967089885658998,3.784575676159716,5.643330577097705,3.437684049164411,3.1706068988005307,4.724188706731067,4.643986839503565,7.5629084471490255,11.090574670650446,8.821007940461628,0.7290153932431498,10.273357689289892,8.125497103699855,3.0764462511797506,12.034279124520019,5.687212632444282,18.6091051504667,18.872862131204755,3.4635191075405674,10.131562630287615,12.038250400833297,5.94585075224283,19.39096741538809,14.98396552284709,2.1647612816935404,22.380831174442356,14.366897783567248,22.245084312936765,4.517290656266985,32.0448225133401,18.21880636083635,28.20935627764685,18.08912534155437,25.90236694510886,25.55029910145703,34.67190444595244,36.53922469581331,37.081576245679294,17.315528070916844,11.685131527846774,18.556536994881007,14.602152119363591,13.139227152006411,0.20751167770125178,31.28171842825269,18.602053593062656,29.61097988274796,0.32011820010444625,40.1159990114526,53.95318651580544,28.157347491746382,34.27333305789769,17.123832316477998,24.58910659597081,54.53689691694786,44.71700418176271,52.80436260887666,34.92925700329212,44.76099767284639,20.312048456601268,28.516477470002396,34.72468752505662,0.5674283667942326,18.77012453085116,3.543437049855715,0.7195378019385834,50.714525397361385,2.470544523624521,26.92558147339826,65.97081058364117,33.5705668307127,67.41002826739368,36.0236541230426,62.74610610241309,2.9965847601803874,33.60127912500506,40.550656725162696,4.875052375787916,66.61060165668742,71.40057545410882,13.776926786810947,69.51511174622563,32.427546436614065,60.86280390640555,78.02136536366405,87.75633690295945,53.84176696256038,13.344335586975241,37.64133332039959,9.58237864271222,5.208135947307223,11.450228980962958,12.77473648057574,90.67678807163627,19.13316427791612]}];\n",
       " var layout_7GN9mQxw35 = {\"height\":350,\"width\":350,\"hovermode\":\"closest\",\"title\":{\"text\":\"The MultiChart from Above\"},\"showlegend\":true,\"grid\":{\"rows\":1,\"columns\":2,\"pattern\":\"independent\"},\"xaxis\":{\"showgrid\":true,\"zeroline\":false,\"showline\":false},\"xaxis2\":{\"title\":{\"text\":\"x2\"},\"showgrid\":true,\"zeroline\":false,\"showline\":false},\"yaxis2\":{\"showgrid\":true,\"zeroline\":false,\"showline\":false}};\n",
       " var config_7GN9mQxw35 = {\"responsive\":false,\"scrollZoom\":true,\"displaylogo\":false};\n",
       " Plotly.newPlot(\"graph_7GN9mQxw35\", traces_7GN9mQxw35, layout_7GN9mQxw35, config_7GN9mQxw35);\n",
       "\n",
       "var save_wjdDdqZjmV = document.getElementById(\"saveAsPNG_wjdDdqZjmV\")\n",
       "save_wjdDdqZjmV.onclick = function() {\n",
       "    const grid = document.getElementById(\"grid-container_wjdDdqZjmV\")\n",
       "    const graphs = grid.getElementsByClassName(\"graph\")\n",
       "\n",
       "    const promises = []\n",
       "\n",
       "    const rows = 2\n",
       "    const cols = 2\n",
       "    const img_width = 400\n",
       "    const img_height = 400\n",
       "    var margin = 50\n",
       "\n",
       "    for (var i=0; i<graphs.length; i++) {\n",
       "        const promise = Plotly.toImage(graphs[i], {format: 'png', width: img_width, height: img_height})\n",
       "        promises.push(new Promise((resolve) => {\n",
       "            resolve(promise);\n",
       "        }));\n",
       "    }\n",
       "\n",
       "    Promise.all(promises).then((images) => {\n",
       "        const positioned_images = []\n",
       "\n",
       "        for (var i=0; i<rows; i++) {\n",
       "            for (var j=0; j<cols; j++) {\n",
       "\n",
       "                const obj = {\n",
       "                    \"src\": images[i*cols + j],\n",
       "                    x: i*img_width+margin,\n",
       "                    y: j*img_height+margin\n",
       "                }\n",
       "\n",
       "                positioned_images.push(obj)\n",
       "            }\n",
       "        }\n",
       "\n",
       "        mergeImages(positioned_images, {\n",
       "            width: img_width*cols+60, height: img_height*rows+60\n",
       "        })\n",
       "        .then(b64 => {\n",
       "            var a = document.createElement(\"a\");\n",
       "            a.href = b64;\n",
       "            a.download = \"Image.png\";\n",
       "            a.click();\n",
       "            a.remove()\n",
       "        });\n",
       "    });\n",
       "}\n",
       "</script> \n"
      ]
     },
     "metadata": {},
     "output_type": "display_data"
    }
   ],
   "source": [
    "// first define the x-axes we will use in the plot\n",
    "val ax1 = Axis(X, title = \"x axis 1\")\n",
    "val ax2 = Axis(X, title = \"x axis 2\")\n",
    "val ax3 = Axis(X, title = \"x axis 3\")\n",
    "val ax4 = Axis(X, title = \"x axis 4\")\n",
    "\n",
    "// first define the y-axes we will use in the plot\n",
    "val ax6 = Axis(Y, title = \"y axis 1\")\n",
    "val ax7 = Axis(Y, title = \"y axis 2\")\n",
    "val ax8 = Axis(Y, title = \"y axis 3\")\n",
    "val ax9 = Axis(Y, title = \"y axis 4\")\n",
    "\n",
    "// it may be necessary to play around with the chart dimensions and margin  in order to ensure a good fit on screen.\n",
    "val dim = 350\n",
    "\n",
    "val chart1 = (\n",
    "    Chart()\n",
    "    setDimensions(width = dim, height = dim)\n",
    "    addSeries XY(x, y).setName(\"a\").drawMarkers\n",
    "    addAxes(ax1, ax6)\n",
    "    setMargin(l=50, r=30, t=50, b=50)\n",
    ")\n",
    "\n",
    "val chart2 = (\n",
    "    Chart() \n",
    "    setDimensions(width = dim, height = dim)\n",
    "    addSeries XY(x, y).setName(\"b\").drawMarkers\n",
    "    addAxes(ax2, ax7)\n",
    "    setMargin(l=50, r=50, t=50, b=50)\n",
    ")\n",
    "\n",
    "val chart3 = (\n",
    "    Chart()\n",
    "    setDimensions(width = dim, height = dim)\n",
    "    addSeries XY(x, y).setName(\"c\").drawMarkers\n",
    "    addAxes(ax3, ax8)\n",
    "    setMargin(l=50, r=30, t=50, b=50)\n",
    ")\n",
    "\n",
    "val chart4 = (\n",
    "    Chart()\n",
    "    setDimensions(width = dim, height = dim)\n",
    "    addSeries(series1, series2)\n",
    "    setTitle \"The MultiChart from Above\"\n",
    "    addAxes(xaxis1, yaxis1, xaxis2, yaxis2) // these axes come from above\n",
    "    setConfig(responsive=false)\n",
    "    asMultiChart(1, 2)\n",
    ")\n",
    "\n",
    "// The canvas has an underlying grid. By default the underlying grid is 1x1, but we can pass in the dimensions we \n",
    "// require by passing in parameters in the constructor.\n",
    "Canvas(2, 2)\n",
    ".setChart(0, 0, chart1)\n",
    ".setChart(0, 1, chart2)\n",
    ".setChart(1, 0, chart3)\n",
    ".setChart(1, 1, chart4)\n",
    ".plotInline"
   ]
  },
  {
   "cell_type": "markdown",
   "metadata": {},
   "source": [
    "### Error Bars\n",
    "\n",
    "We can also add Error Bars to our plots.\n",
    "\n",
    "Error bars come in two flavours:\n",
    "\n",
    "1. `XError`\n",
    "2. `YError`\n",
    "\n",
    "Both of these has an associated `mode` that determines how the error bar is calculated for an individual point. The following `mode`s can be specified:\n",
    "\n",
    "- `DATA`: The user passes in an array that specifies the per point error\n",
    "- `PERCENT`: The user passes in a Double that calculates the error as a percentage of the value of the point\n",
    "- `CONSTANT`: The user passes in a double that is the constant value for the error for all points\n",
    "- `SQRT`: This calculates the error as a square root of the point value.\n",
    "\n",
    "The next few examples will demonstrate:"
   ]
  },
  {
   "cell_type": "code",
   "execution_count": 22,
   "metadata": {},
   "outputs": [],
   "source": [
    "// First import the Error Bar options\n",
    "import org.carbonateresearch.picta.options.{YError, CONSTANT, DATA, PERCENT, SQRT}"
   ]
  },
  {
   "cell_type": "code",
   "execution_count": 23,
   "metadata": {},
   "outputs": [
    {
     "data": {
      "text/html": [
       "<div id=\"grid-container_EY9wVEjVIz\" class=\"grid-container\" align=\"center\"> \n",
       "<div id=\"grid_EY9wVEjVIz\" class=\"grid\" align=\"center\"> \n",
       "<div id=\"graph_GS6FKyqq3M\" class=\"graph\"></div> \n",
       "<div id=\"graph_U63XfqKtWs\" class=\"graph\"></div> \n",
       "<div id=\"graph_SDnEbcz6Lk\" class=\"graph\"></div> \n",
       "<div id=\"graph_1d8Ukd7kGq\" class=\"graph\"></div> \n",
       "</div> \n",
       "</div> \n",
       "\n",
       "<div align=\"center\">\n",
       "<button id = \"saveAsPNG_EY9wVEjVIz\" class=\"picta-button\">Download Canvas as PNG</button>\n",
       "</div>\n",
       "<script>\n",
       "var masonry = new Macy({\n",
       "    container: '#grid_EY9wVEjVIz',\n",
       "    debug: true,\n",
       "    mobileFirst: true,\n",
       "    columns: 2,\n",
       "    margin: {\n",
       "        x: 0,\n",
       "        y: 0\n",
       "    }\n",
       "  });\n",
       "\n",
       "  var traces_GS6FKyqq3M = [{\"name\":\"Error from provided data\",\"type\":\"scatter\",\"mode\":\"markers\",\"x\":[1,2,3],\"y\":[1.234,5.2112,2.44332],\"error_y\":{\"type\":\"data\",\"visible\":true,\"array\":[0.5,0.5,0.5]}}];\n",
       " var layout_GS6FKyqq3M = {\"height\":400,\"width\":400,\"hovermode\":\"closest\",\"title\":{\"text\":\"Per Point Specified Error\"},\"showlegend\":true};\n",
       " var config_GS6FKyqq3M = {\"responsive\":true,\"scrollZoom\":true,\"displaylogo\":false};\n",
       " Plotly.newPlot(\"graph_GS6FKyqq3M\", traces_GS6FKyqq3M, layout_GS6FKyqq3M, config_GS6FKyqq3M);\n",
       "\n",
       "  var traces_U63XfqKtWs = [{\"name\":\"% error\",\"type\":\"scatter\",\"mode\":\"markers\",\"x\":[1,2,3],\"y\":[1.234,5.2112,2.44332],\"error_y\":{\"type\":\"percent\",\"visible\":true,\"value\":10}}];\n",
       " var layout_U63XfqKtWs = {\"height\":400,\"width\":400,\"hovermode\":\"closest\",\"title\":{\"text\":\"Percentage Error\"},\"showlegend\":true};\n",
       " var config_U63XfqKtWs = {\"responsive\":true,\"scrollZoom\":true,\"displaylogo\":false};\n",
       " Plotly.newPlot(\"graph_U63XfqKtWs\", traces_U63XfqKtWs, layout_U63XfqKtWs, config_U63XfqKtWs);\n",
       "\n",
       "  var traces_SDnEbcz6Lk = [{\"name\":\"constant error\",\"type\":\"scatter\",\"mode\":\"markers\",\"x\":[1,2,3],\"y\":[1.234,5.2112,2.44332],\"error_y\":{\"type\":\"constant\",\"visible\":true,\"value\":10}}];\n",
       " var layout_SDnEbcz6Lk = {\"height\":400,\"width\":400,\"hovermode\":\"closest\",\"title\":{\"text\":\"Constant Error\"},\"showlegend\":true};\n",
       " var config_SDnEbcz6Lk = {\"responsive\":true,\"scrollZoom\":true,\"displaylogo\":false};\n",
       " Plotly.newPlot(\"graph_SDnEbcz6Lk\", traces_SDnEbcz6Lk, layout_SDnEbcz6Lk, config_SDnEbcz6Lk);\n",
       "\n",
       "  var traces_1d8Ukd7kGq = [{\"name\":\"Sqrt\",\"type\":\"scatter\",\"mode\":\"markers\",\"x\":[1,2,3],\"y\":[1.234,5.2112,2.44332],\"error_y\":{\"type\":\"sqrt\",\"visible\":true}}];\n",
       " var layout_1d8Ukd7kGq = {\"height\":400,\"width\":400,\"hovermode\":\"closest\",\"title\":{\"text\":\"Sqrt Error\"},\"showlegend\":true};\n",
       " var config_1d8Ukd7kGq = {\"responsive\":true,\"scrollZoom\":true,\"displaylogo\":false};\n",
       " Plotly.newPlot(\"graph_1d8Ukd7kGq\", traces_1d8Ukd7kGq, layout_1d8Ukd7kGq, config_1d8Ukd7kGq);\n",
       "\n",
       "var save_EY9wVEjVIz = document.getElementById(\"saveAsPNG_EY9wVEjVIz\")\n",
       "save_EY9wVEjVIz.onclick = function() {\n",
       "    const grid = document.getElementById(\"grid-container_EY9wVEjVIz\")\n",
       "    const graphs = grid.getElementsByClassName(\"graph\")\n",
       "\n",
       "    const promises = []\n",
       "\n",
       "    const rows = 2\n",
       "    const cols = 2\n",
       "    const img_width = 400\n",
       "    const img_height = 400\n",
       "    var margin = 50\n",
       "\n",
       "    for (var i=0; i<graphs.length; i++) {\n",
       "        const promise = Plotly.toImage(graphs[i], {format: 'png', width: img_width, height: img_height})\n",
       "        promises.push(new Promise((resolve) => {\n",
       "            resolve(promise);\n",
       "        }));\n",
       "    }\n",
       "\n",
       "    Promise.all(promises).then((images) => {\n",
       "        const positioned_images = []\n",
       "\n",
       "        for (var i=0; i<rows; i++) {\n",
       "            for (var j=0; j<cols; j++) {\n",
       "\n",
       "                const obj = {\n",
       "                    \"src\": images[i*cols + j],\n",
       "                    x: i*img_width+margin,\n",
       "                    y: j*img_height+margin\n",
       "                }\n",
       "\n",
       "                positioned_images.push(obj)\n",
       "            }\n",
       "        }\n",
       "\n",
       "        mergeImages(positioned_images, {\n",
       "            width: img_width*cols+60, height: img_height*rows+60\n",
       "        })\n",
       "        .then(b64 => {\n",
       "            var a = document.createElement(\"a\");\n",
       "            a.href = b64;\n",
       "            a.download = \"Image.png\";\n",
       "            a.click();\n",
       "            a.remove()\n",
       "        });\n",
       "    });\n",
       "}\n",
       "</script> \n"
      ]
     },
     "metadata": {},
     "output_type": "display_data"
    }
   ],
   "source": [
    "val dim = 400\n",
    "\n",
    "val series1 = (\n",
    "    XY(List(1, 2, 3), List(1.234, 5.2112, 2.44332))\n",
    "    asType SCATTER\n",
    "    drawStyle MARKERS\n",
    "    // User specifies the error per point \n",
    "    setErrorBars YError(mode = DATA, array = List(0.5, 0.5, 0.5))\n",
    ")\n",
    "\n",
    "val chart1 = (\n",
    "    Chart()\n",
    "    addSeries series1.setName(\"Error from provided data\")\n",
    "    setTitle \"Per Point Specified Error\"\n",
    "    setDimensions(width = dim, height = dim)\n",
    ")\n",
    "\n",
    "\n",
    "val series2 = (\n",
    "    XY(List(1, 2, 3), List(1.234, 5.2112, 2.44332))\n",
    "    asType SCATTER\n",
    "    drawStyle MARKERS\n",
    "    // the error here is 10% of the corresponding y-value for the point\n",
    "    setErrorBars YError(mode = PERCENT, value = 10.0)\n",
    ")\n",
    "\n",
    "val chart2 = (\n",
    "    Chart()\n",
    "    addSeries series2.setName(\"% error\")\n",
    "    setTitle \"Percentage Error\"\n",
    "    setDimensions(width = dim, height = dim)\n",
    "    \n",
    ")\n",
    "\n",
    "\n",
    "val series3 = (\n",
    "    XY(List(1, 2, 3), List(1.234, 5.2112, 2.44332))\n",
    "    asType SCATTER\n",
    "    drawStyle MARKERS\n",
    "    // a constant error of 10 is applied to each point\n",
    "    setErrorBars YError(mode = CONSTANT, value = 10.0)\n",
    "    setName(\"Constant value\")\n",
    ")\n",
    "\n",
    "val chart3 = (\n",
    "    Chart()\n",
    "    addSeries series3.setName(\"constant error\")\n",
    "    setTitle \"Constant Error\"\n",
    "    setDimensions(width = dim, height = dim)\n",
    ")\n",
    "\n",
    "\n",
    "val series4 = (\n",
    "    XY(List(1, 2, 3), List(1.234, 5.2112, 2.44332))\n",
    "    asType SCATTER\n",
    "    drawStyle MARKERS\n",
    "    setErrorBars YError(mode = SQRT)\n",
    "    setName(\"Sqrt\")\n",
    ")\n",
    "\n",
    "val chart4 = (\n",
    "    Chart()\n",
    "    addSeries series4.setName(\"Sqrt\")\n",
    "    setTitle \"Sqrt Error\"\n",
    "    // the error is set to the sqrt of the corresponding point\n",
    "    setDimensions(width = dim, height = dim)\n",
    ")\n",
    "\n",
    "val canvas = Canvas(2, 2) addCharts (chart1, chart2, chart3, chart4)\n",
    "\n",
    "canvas.plotInline"
   ]
  },
  {
   "cell_type": "markdown",
   "metadata": {},
   "source": [
    "### Other Types of Charts\n",
    "\n",
    "The next examples will demonstrate how to create a variety of `Chart`s. All of the examples below are composable with the `Canvas` subplot system.\n",
    "\n",
    "#### Pie Chart\n",
    "\n",
    "Pie charts can be created in two ways. The first way uses the `PieElement` component to compose a Piechart:"
   ]
  },
  {
   "cell_type": "code",
   "execution_count": 24,
   "metadata": {},
   "outputs": [
    {
     "data": {
      "text/html": [
       "<div id=\"grid-container_b0xwKDHTrC\" class=\"grid-container\" align=\"center\"> \n",
       "<div id=\"grid_b0xwKDHTrC\" class=\"grid\" align=\"center\"> \n",
       "<div id=\"graph_81gfKuqb2a\" class=\"graph\"></div> \n",
       "</div> \n",
       "</div> \n",
       "<script>\n",
       "var masonry = new Macy({\n",
       "    container: '#grid_b0xwKDHTrC',\n",
       "    debug: true,\n",
       "    mobileFirst: true,\n",
       "    columns: 1,\n",
       "    margin: {\n",
       "        x: 0,\n",
       "        y: 0\n",
       "    }\n",
       "  });\n",
       "\n",
       "  var traces_81gfKuqb2a = [{\"name\":\"wbrxENdoEY\",\"type\":\"pie\",\"values\":[60,20,20],\"labels\":[\"Residential\",\"Non-Residential\",\"Utility\"]}];\n",
       " var layout_81gfKuqb2a = {\"height\":550,\"width\":600,\"hovermode\":\"closest\",\"title\":{\"text\":\"Pie Elements\"},\"showlegend\":true};\n",
       " var config_81gfKuqb2a = {\"responsive\":true,\"scrollZoom\":true,\"displaylogo\":false};\n",
       " Plotly.newPlot(\"graph_81gfKuqb2a\", traces_81gfKuqb2a, layout_81gfKuqb2a, config_81gfKuqb2a);\n",
       "</script> \n"
      ]
     },
     "metadata": {},
     "output_type": "display_data"
    }
   ],
   "source": [
    "val a = PieElement(value=60, name=\"Residential\")\n",
    "val b = PieElement(value=20, name=\"Non-Residential\")\n",
    "val c = PieElement(value=20, name=\"Utility\")\n",
    "\n",
    "// we add a list of Pie Elements to an XY series as the list of Pie Elements gets deconstructed down into two series:\n",
    "// X => values: [60, 20, 20]\n",
    "// Y => labels: [\"Residential\", \"Non-Residential\", \"Utility\"]\n",
    "// The labels become the series_name for each individual PieElement\n",
    "// As we pass in a list of PieElements, we do not need to specify the type as a PIE\n",
    "val series = XY(x=List(a, b, c))\n",
    "\n",
    "val chart = Chart() addSeries series setTitle \"Pie Elements\"\n",
    "\n",
    "chart.plotInline"
   ]
  },
  {
   "cell_type": "code",
   "execution_count": 25,
   "metadata": {},
   "outputs": [
    {
     "data": {
      "text/html": [
       "<div id=\"grid-container_oMreSuszj5\" class=\"grid-container\" align=\"center\"> \n",
       "<div id=\"grid_oMreSuszj5\" class=\"grid\" align=\"center\"> \n",
       "<div id=\"graph_ZS7vnQ612y\" class=\"graph\"></div> \n",
       "</div> \n",
       "</div> \n",
       "<script>\n",
       "var masonry = new Macy({\n",
       "    container: '#grid_oMreSuszj5',\n",
       "    debug: true,\n",
       "    mobileFirst: true,\n",
       "    columns: 1,\n",
       "    margin: {\n",
       "        x: 0,\n",
       "        y: 0\n",
       "    }\n",
       "  });\n",
       "\n",
       "  var traces_ZS7vnQ612y = [{\"name\":\"6NXVPeeoig\",\"type\":\"pie\",\"values\":[60,20,20],\"labels\":[\"Residential\",\"Non-Residential\",\"Utility\"]}];\n",
       " var layout_ZS7vnQ612y = {\"height\":550,\"width\":600,\"hovermode\":\"closest\",\"title\":{\"text\":\"Pie Chart\"},\"showlegend\":true};\n",
       " var config_ZS7vnQ612y = {\"responsive\":false,\"scrollZoom\":false,\"displaylogo\":false};\n",
       " Plotly.newPlot(\"graph_ZS7vnQ612y\", traces_ZS7vnQ612y, layout_ZS7vnQ612y, config_ZS7vnQ612y);\n",
       "</script> \n"
      ]
     },
     "metadata": {},
     "output_type": "display_data"
    }
   ],
   "source": [
    "// However, composing individual PieElements may be tedious if there is a lot of data and we know how to it all fits\n",
    "// together. Picta provides a short hand to quickly create a Pie Chart using the methods we have seen previously\n",
    "// In this case we pass the (value, name) pairs as two seperate lists. As before, the labels become an individual\n",
    "// series name for each point; which is why the legend renders correctly.\n",
    "val series = XY(x=List(60, 20, 20), y=List(\"Residential\", \"Non-Residential\", \"Utility\")) asType PIE\n",
    "\n",
    "val chart = Chart() addSeries series setConfig(false, false) setTitle \"Pie Chart\"\n",
    "\n",
    "chart.plotInline"
   ]
  },
  {
   "cell_type": "markdown",
   "metadata": {},
   "source": [
    "### Histogram"
   ]
  },
  {
   "cell_type": "code",
   "execution_count": 26,
   "metadata": {},
   "outputs": [
    {
     "data": {
      "text/html": [
       "<div id=\"grid-container_BZ4FcaaZXh\" class=\"grid-container\" align=\"center\"> \n",
       "<div id=\"grid_BZ4FcaaZXh\" class=\"grid\" align=\"center\"> \n",
       "<div id=\"graph_KB5tnk5usZ\" class=\"graph\"></div> \n",
       "</div> \n",
       "</div> \n",
       "<script>\n",
       "var masonry = new Macy({\n",
       "    container: '#grid_BZ4FcaaZXh',\n",
       "    debug: true,\n",
       "    mobileFirst: true,\n",
       "    columns: 1,\n",
       "    margin: {\n",
       "        x: 0,\n",
       "        y: 0\n",
       "    }\n",
       "  });\n",
       "\n",
       "  var traces_KB5tnk5usZ = [{\"name\":\"uMEOVdMZre\",\"type\":\"histogram\",\"x\":[0,0.3894601861892565,1.8358281087852693,0.3657327883833361,2.901972137585258,0.7520377901851455,0.5718684709576587,1.9761785777532679,7.629667672023657,5.860220281921366,8.302651863435917,7.278704381999538,1.2475941251410965,3.6811128002241698,6.11373474054617,6.452328113144528,9.746300271537137,1.9802312391804517,5.657955604460228,9.339510429575864,0.36956288206925425,15.023359304102598,17.775326610288253,13.754013604445847,15.245886591131525,18.55388107012651,16.302062845525143,15.44203357304411,2.433562001697301,17.447676720397602,18.443617251354468,26.970287335931197,27.770757836131445,30.11369615916327,1.4020341723477894,18.232701094811485,6.0832622511299554,33.44074404268095,0.2672524029738299,21.376721866244168,4.592507099657586,38.139837185397084,41.75524038293219,15.001048663748989,38.035485206051774,7.946733534155495,3.4530033317513134,6.718788183263463,43.30598929128075,13.580856152544824,40.06153579121897,26.863599382060258,12.603387336374631,0.8549187465950356,17.962774850950034,20.491430097291325,11.380788644910886,28.14396279362122,54.52545317255589,47.14682615464478,52.06905340249592,8.803424475266926,38.15756141134032,44.370608649752114,21.866539847504875,50.32307492573657,10.459764518447543,26.874961662377608,30.076895953076672,24.267384716605275,54.184731948231914,15.952556965789661,36.79849123298941,45.632901886602596,67.3118369393546,44.268405304665755,47.46923211877887,59.399770038789455,61.65504098899169,68.95653826732642,48.09969722292149,15.017334763810045,71.2841403329211,54.15850073573135,71.23542773519448,17.593156079535692,16.90572711808675,28.046834704677885,24.026221670803874,4.900395722423149,48.470306853266536,72.22444382059697,18.49601692193367,45.2306724530323,86.89613146324497,4.429756042698687,45.45174567672581,70.84801404737952,18.17812021914086,56.95807615778344]}];\n",
       " var layout_KB5tnk5usZ = {\"height\":550,\"width\":600,\"hovermode\":\"closest\",\"title\":{\"text\":\"Histogram with axes\"},\"showlegend\":true,\"xaxis\":{\"title\":{\"text\":\"my x data\"},\"showgrid\":true,\"zeroline\":false,\"showline\":false},\"yaxis\":{\"title\":{\"text\":\"my y data\"},\"showgrid\":true,\"zeroline\":false,\"showline\":false}};\n",
       " var config_KB5tnk5usZ = {\"responsive\":true,\"scrollZoom\":true,\"displaylogo\":false};\n",
       " Plotly.newPlot(\"graph_KB5tnk5usZ\", traces_KB5tnk5usZ, layout_KB5tnk5usZ, config_KB5tnk5usZ);\n",
       "</script> \n"
      ]
     },
     "metadata": {},
     "output_type": "display_data"
    }
   ],
   "source": [
    "val series = XY(x=x) asType HISTOGRAM\n",
    "\n",
    "val xaxis = Axis(X, title = \"my x data\")\n",
    "val yaxis = Axis(Y, title = \"my y data\")\n",
    "\n",
    "val chart = (\n",
    "    Chart() \n",
    "    addSeries series\n",
    "    setTitle \"Histogram with axes\"\n",
    "    addAxes(xaxis, yaxis)\n",
    ")\n",
    "\n",
    "Canvas()\n",
    ".addCharts(chart)\n",
    ".plotInline"
   ]
  },
  {
   "cell_type": "markdown",
   "metadata": {},
   "source": [
    "#### Customizing colors for a Histogram\n",
    "\n",
    "We can use the `HistOptions` class to further specify options for a histogram. For example, if we wanted to create a horizontally positioned histogram, we can do the following:"
   ]
  },
  {
   "cell_type": "code",
   "execution_count": 27,
   "metadata": {},
   "outputs": [],
   "source": [
    "import org.carbonateresearch.picta.options.histogram.HistOptions\n",
    "import org.carbonateresearch.picta.options.Line"
   ]
  },
  {
   "cell_type": "code",
   "execution_count": 28,
   "metadata": {},
   "outputs": [
    {
     "data": {
      "text/html": [
       "<div id=\"grid-container_amm3FTlCzj\" class=\"grid-container\" align=\"center\"> \n",
       "<div id=\"grid_amm3FTlCzj\" class=\"grid\" align=\"center\"> \n",
       "<div id=\"graph_lPxANDxiMH\" class=\"graph\"></div> \n",
       "</div> \n",
       "</div> \n",
       "<script>\n",
       "var masonry = new Macy({\n",
       "    container: '#grid_amm3FTlCzj',\n",
       "    debug: true,\n",
       "    mobileFirst: true,\n",
       "    columns: 1,\n",
       "    margin: {\n",
       "        x: 0,\n",
       "        y: 0\n",
       "    }\n",
       "  });\n",
       "\n",
       "  var traces_lPxANDxiMH = [{\"name\":\"3gjPobeAZj\",\"type\":\"histogram\",\"marker\":{\"color\":\"rgba(255, 100, 102, 0.5)\",\"line\":{\"width\":0.5}},\"y\":[0,0.3894601861892565,1.8358281087852693,0.3657327883833361,2.901972137585258,0.7520377901851455,0.5718684709576587,1.9761785777532679,7.629667672023657,5.860220281921366,8.302651863435917,7.278704381999538,1.2475941251410965,3.6811128002241698,6.11373474054617,6.452328113144528,9.746300271537137,1.9802312391804517,5.657955604460228,9.339510429575864,0.36956288206925425,15.023359304102598,17.775326610288253,13.754013604445847,15.245886591131525,18.55388107012651,16.302062845525143,15.44203357304411,2.433562001697301,17.447676720397602,18.443617251354468,26.970287335931197,27.770757836131445,30.11369615916327,1.4020341723477894,18.232701094811485,6.0832622511299554,33.44074404268095,0.2672524029738299,21.376721866244168,4.592507099657586,38.139837185397084,41.75524038293219,15.001048663748989,38.035485206051774,7.946733534155495,3.4530033317513134,6.718788183263463,43.30598929128075,13.580856152544824,40.06153579121897,26.863599382060258,12.603387336374631,0.8549187465950356,17.962774850950034,20.491430097291325,11.380788644910886,28.14396279362122,54.52545317255589,47.14682615464478,52.06905340249592,8.803424475266926,38.15756141134032,44.370608649752114,21.866539847504875,50.32307492573657,10.459764518447543,26.874961662377608,30.076895953076672,24.267384716605275,54.184731948231914,15.952556965789661,36.79849123298941,45.632901886602596,67.3118369393546,44.268405304665755,47.46923211877887,59.399770038789455,61.65504098899169,68.95653826732642,48.09969722292149,15.017334763810045,71.2841403329211,54.15850073573135,71.23542773519448,17.593156079535692,16.90572711808675,28.046834704677885,24.026221670803874,4.900395722423149,48.470306853266536,72.22444382059697,18.49601692193367,45.2306724530323,86.89613146324497,4.429756042698687,45.45174567672581,70.84801404737952,18.17812021914086,56.95807615778344]}];\n",
       " var layout_lPxANDxiMH = {\"height\":550,\"width\":600,\"hovermode\":\"closest\",\"title\":{\"text\":\"XY.Histogram.Color\"},\"showlegend\":true};\n",
       " var config_lPxANDxiMH = {\"responsive\":true,\"scrollZoom\":true,\"displaylogo\":false};\n",
       " Plotly.newPlot(\"graph_lPxANDxiMH\", traces_lPxANDxiMH, layout_lPxANDxiMH, config_lPxANDxiMH);\n",
       "</script> \n"
      ]
     },
     "metadata": {},
     "output_type": "display_data"
    }
   ],
   "source": [
    "// we can also compose customizations in much the same way:\n",
    "val marker = Marker() setColor \"rgba(255, 100, 102, 0.5)\" setLine Line()\n",
    "\n",
    "// change xkey to y to get a horizontal histogram\n",
    "val series = (\n",
    "    XY(x) \n",
    "    asType HISTOGRAM\n",
    "    setMarker marker\n",
    "    // we can set histogram specific options using the setHistOptions method\n",
    "    setHistOptions(orientation = HORIZONTAL)\n",
    ")\n",
    "\n",
    "val chart = (\n",
    "    Chart() \n",
    "    addSeries series \n",
    "    setTitle \"XY.Histogram.Color\"\n",
    ")\n",
    "\n",
    "chart.plotInline"
   ]
  },
  {
   "cell_type": "markdown",
   "metadata": {},
   "source": [
    "#### Cumulative Histogram\n",
    "\n",
    "Sometimes a cumulative histogram may be desired. We can do this as follows:"
   ]
  },
  {
   "cell_type": "code",
   "execution_count": 29,
   "metadata": {},
   "outputs": [],
   "source": [
    "// we can import a range of histnorms\n",
    "import org.carbonateresearch.picta.options.histogram.{Cumulative, PERCENT, DENSITY, PROBABILITY_DENSITY, NUMBER}"
   ]
  },
  {
   "cell_type": "code",
   "execution_count": 30,
   "metadata": {},
   "outputs": [
    {
     "data": {
      "text/html": [
       "<div id=\"grid-container_ZdvuFTjlo6\" class=\"grid-container\" align=\"center\"> \n",
       "<div id=\"grid_ZdvuFTjlo6\" class=\"grid\" align=\"center\"> \n",
       "<div id=\"graph_hoEFZwv56g\" class=\"graph\"></div> \n",
       "</div> \n",
       "</div> \n",
       "<script>\n",
       "var masonry = new Macy({\n",
       "    container: '#grid_ZdvuFTjlo6',\n",
       "    debug: true,\n",
       "    mobileFirst: true,\n",
       "    columns: 1,\n",
       "    margin: {\n",
       "        x: 0,\n",
       "        y: 0\n",
       "    }\n",
       "  });\n",
       "\n",
       "  var traces_hoEFZwv56g = [{\"name\":\"qGSoGu5CQA\",\"type\":\"histogram\",\"cumulative\":{\"enabled\":true},\"histnorm\":\"\",\"x\":[0,0.3894601861892565,1.8358281087852693,0.3657327883833361,2.901972137585258,0.7520377901851455,0.5718684709576587,1.9761785777532679,7.629667672023657,5.860220281921366,8.302651863435917,7.278704381999538,1.2475941251410965,3.6811128002241698,6.11373474054617,6.452328113144528,9.746300271537137,1.9802312391804517,5.657955604460228,9.339510429575864,0.36956288206925425,15.023359304102598,17.775326610288253,13.754013604445847,15.245886591131525,18.55388107012651,16.302062845525143,15.44203357304411,2.433562001697301,17.447676720397602,18.443617251354468,26.970287335931197,27.770757836131445,30.11369615916327,1.4020341723477894,18.232701094811485,6.0832622511299554,33.44074404268095,0.2672524029738299,21.376721866244168,4.592507099657586,38.139837185397084,41.75524038293219,15.001048663748989,38.035485206051774,7.946733534155495,3.4530033317513134,6.718788183263463,43.30598929128075,13.580856152544824,40.06153579121897,26.863599382060258,12.603387336374631,0.8549187465950356,17.962774850950034,20.491430097291325,11.380788644910886,28.14396279362122,54.52545317255589,47.14682615464478,52.06905340249592,8.803424475266926,38.15756141134032,44.370608649752114,21.866539847504875,50.32307492573657,10.459764518447543,26.874961662377608,30.076895953076672,24.267384716605275,54.184731948231914,15.952556965789661,36.79849123298941,45.632901886602596,67.3118369393546,44.268405304665755,47.46923211877887,59.399770038789455,61.65504098899169,68.95653826732642,48.09969722292149,15.017334763810045,71.2841403329211,54.15850073573135,71.23542773519448,17.593156079535692,16.90572711808675,28.046834704677885,24.026221670803874,4.900395722423149,48.470306853266536,72.22444382059697,18.49601692193367,45.2306724530323,86.89613146324497,4.429756042698687,45.45174567672581,70.84801404737952,18.17812021914086,56.95807615778344]}];\n",
       " var layout_hoEFZwv56g = {\"height\":550,\"width\":600,\"hovermode\":\"closest\",\"title\":{\"text\":\"Histogram - Cumulative\"},\"showlegend\":true};\n",
       " var config_hoEFZwv56g = {\"responsive\":true,\"scrollZoom\":true,\"displaylogo\":false};\n",
       " Plotly.newPlot(\"graph_hoEFZwv56g\", traces_hoEFZwv56g, layout_hoEFZwv56g, config_hoEFZwv56g);\n",
       "</script> \n"
      ]
     },
     "metadata": {},
     "output_type": "display_data"
    }
   ],
   "source": [
    "val series = XY(x) asType HISTOGRAM setHistOptions(histnorm = NUMBER, cumulative = Cumulative(enabled=true))\n",
    "\n",
    "val chart = Chart() addSeries series setTitle \"Histogram - Cumulative\"\n",
    "\n",
    "chart.plotInline"
   ]
  },
  {
   "cell_type": "markdown",
   "metadata": {},
   "source": [
    "#### Specifiying the Binning Function\n",
    "\n",
    "We can also specify the binning function for a histogram."
   ]
  },
  {
   "cell_type": "code",
   "execution_count": 31,
   "metadata": {},
   "outputs": [],
   "source": [
    "import org.carbonateresearch.picta.options.histogram.{COUNT, SUM, AVG, MIN, MAX, HistOptions}"
   ]
  },
  {
   "cell_type": "code",
   "execution_count": 32,
   "metadata": {},
   "outputs": [
    {
     "data": {
      "text/html": [
       "<div id=\"grid-container_jy6VRH8RR8\" class=\"grid-container\" align=\"center\"> \n",
       "<div id=\"grid_jy6VRH8RR8\" class=\"grid\" align=\"center\"> \n",
       "<div id=\"graph_FheAXwBP5J\" class=\"graph\"></div> \n",
       "</div> \n",
       "</div> \n",
       "<script>\n",
       "var masonry = new Macy({\n",
       "    container: '#grid_jy6VRH8RR8',\n",
       "    debug: true,\n",
       "    mobileFirst: true,\n",
       "    columns: 1,\n",
       "    margin: {\n",
       "        x: 0,\n",
       "        y: 0\n",
       "    }\n",
       "  });\n",
       "\n",
       "  var traces_FheAXwBP5J = [{\"name\":\"R5wDDRuhmI\",\"type\":\"histogram\",\"histfunc\":\"count\",\"x\":[\"Apples\",\"Apples\",\"Apples\",\"Oranges\",\"Bananas\"],\"y\":[\"5\",\"10\",\"3\",\"10\",\"5\"]},{\"name\":\"IjFzERUoCx\",\"type\":\"histogram\",\"histfunc\":\"sum\",\"x\":[\"Apples\",\"Apples\",\"Apples\",\"Oranges\",\"Bananas\"],\"y\":[\"5\",\"10\",\"3\",\"10\",\"5\"]}];\n",
       " var layout_FheAXwBP5J = {\"height\":550,\"width\":600,\"hovermode\":\"closest\",\"title\":{\"text\":\"Histogram - Specify Binning Function\"},\"showlegend\":true};\n",
       " var config_FheAXwBP5J = {\"responsive\":true,\"scrollZoom\":true,\"displaylogo\":false};\n",
       " Plotly.newPlot(\"graph_FheAXwBP5J\", traces_FheAXwBP5J, layout_FheAXwBP5J, config_FheAXwBP5J);\n",
       "</script> \n"
      ]
     },
     "metadata": {},
     "output_type": "display_data"
    }
   ],
   "source": [
    "val x = List(\"Apples\", \"Apples\", \"Apples\", \"Oranges\", \"Bananas\")\n",
    "val y = List(\"5\", \"10\", \"3\", \"10\", \"5\")\n",
    "\n",
    "// we can also assign histOptions to a value and pass them to the setHistOptions method\n",
    "val ho1 = HistOptions(histfunc = COUNT)\n",
    "val ho2 = HistOptions(histfunc = SUM)\n",
    "    \n",
    "val t1 = XY(x = x, y = y) asType HISTOGRAM setHistOptions ho1\n",
    "val t2 = XY(x = x, y = y) asType HISTOGRAM setHistOptions ho2\n",
    "\n",
    "val chart = Chart() addSeries(t1, t2) setTitle \"Histogram - Specify Binning Function\"\n",
    "val canvas = Canvas() addCharts chart\n",
    "canvas.plotInline"
   ]
  },
  {
   "cell_type": "markdown",
   "metadata": {},
   "source": [
    "### 2D Histogram Contour"
   ]
  },
  {
   "cell_type": "code",
   "execution_count": 33,
   "metadata": {},
   "outputs": [
    {
     "data": {
      "text/html": [
       "<div id=\"grid-container_Y07z5Ugx2a\" class=\"grid-container\" align=\"center\"> \n",
       "<div id=\"grid_Y07z5Ugx2a\" class=\"grid\" align=\"center\"> \n",
       "<div id=\"graph_5tP9jER2jw\" class=\"graph\"></div> \n",
       "</div> \n",
       "</div> \n",
       "<script>\n",
       "var masonry = new Macy({\n",
       "    container: '#grid_Y07z5Ugx2a',\n",
       "    debug: true,\n",
       "    mobileFirst: true,\n",
       "    columns: 1,\n",
       "    margin: {\n",
       "        x: 0,\n",
       "        y: 0\n",
       "    }\n",
       "  });\n",
       "\n",
       "  var traces_5tP9jER2jw = [{\"name\":\"Dye1tTpdEt\",\"type\":\"histogram2dcontour\",\"mode\":\"markers\",\"x\":[1,2,3,4,5,6,7,8,9,10,11,12,13,14,15,16,17,18,19,20,21,22,23,24,25,26,27,28,29,30,31,32,33,34,35,36,37,38,39,40,41,42,43,44,45,46,47,48,49],\"y\":[75.9677029569526,94.35096214499889,22.67338153913133,42.56701191114221,23.890315618006248,93.24526532625066,46.578736150603824,63.30218931827374,20.750996507354593,64.32682900867206,54.36563803392497,108.38268283944599,69.34834906788893,76.28734836820766,75.24216841221926,77.27715920211159,68.24831635026882,34.00289004417542,71.91053616604086,56.8963273974997,35.58030015867469,63.91268156724847,93.80011446436589,56.36905565589224,106.14267974871436,69.00630907520716,36.692469559424985,76.504097830369,65.66359850676415,102.54346113854358,124.58617116102347,48.266671397216825,109.5979645423349,130.8217666402653,104.74682462667747,109.85297134706687,65.50181328489128,129.62469953797225,100.11040135624384,130.32471827540377,97.81035649218802,86.4229003965941,94.55562784861817,129.269618182685,121.756103141655,60.96868173392608,136.033827515854,86.58264909135006,89.19873068671637]}];\n",
       " var layout_5tP9jER2jw = {\"height\":550,\"width\":600,\"hovermode\":\"closest\",\"title\":{\"text\":\"2D Histogram Contour\"},\"showlegend\":true};\n",
       " var config_5tP9jER2jw = {\"responsive\":true,\"scrollZoom\":true,\"displaylogo\":false};\n",
       " Plotly.newPlot(\"graph_5tP9jER2jw\", traces_5tP9jER2jw, layout_5tP9jER2jw, config_5tP9jER2jw);\n",
       "</script> \n"
      ]
     },
     "metadata": {},
     "output_type": "display_data"
    }
   ],
   "source": [
    "val x = List.range(1, 50)\n",
    "val y = x.map(x => x + scala.util.Random.nextDouble()*100)\n",
    "\n",
    "val series = XY(x, y).asType(HISTOGRAM2DCONTOUR).drawMarkers\n",
    "\n",
    "val chart = (\n",
    "    Chart() addSeries series\n",
    "    setTitle \"2D Histogram Contour\"\n",
    ")\n",
    "\n",
    "chart.plotInline"
   ]
  },
  {
   "cell_type": "markdown",
   "metadata": {},
   "source": [
    "#### Adding additional axes\n",
    "\n",
    "As the above is a density plot, adding histograms can be useful too.\n",
    "\n",
    "We can add histograms as follows:"
   ]
  },
  {
   "cell_type": "code",
   "execution_count": 34,
   "metadata": {},
   "outputs": [],
   "source": [
    "// import the 2d Density histogram options\n",
    "import org.carbonateresearch.picta.options.histogram2d.Hist2dOptions"
   ]
  },
  {
   "cell_type": "code",
   "execution_count": 35,
   "metadata": {},
   "outputs": [
    {
     "data": {
      "text/html": [
       "<div id=\"grid-container_4yl7COT9ZW\" class=\"grid-container\" align=\"center\"> \n",
       "<div id=\"grid_4yl7COT9ZW\" class=\"grid\" align=\"center\"> \n",
       "<div id=\"graph_AHR4KRDnai\" class=\"graph\"></div> \n",
       "</div> \n",
       "</div> \n",
       "<script>\n",
       "var masonry = new Macy({\n",
       "    container: '#grid_4yl7COT9ZW',\n",
       "    debug: true,\n",
       "    mobileFirst: true,\n",
       "    columns: 1,\n",
       "    margin: {\n",
       "        x: 0,\n",
       "        y: 0\n",
       "    }\n",
       "  });\n",
       "\n",
       "  var traces_AHR4KRDnai = [{\"name\":\"points\",\"type\":\"scatter\",\"mode\":\"markers\",\"marker\":{\"color\":\"rgb(102,0,0)\"},\"x\":[1,2,3,4,5,6,7,8,9,10,11,12,13,14,15,16,17,18,19,20,21,22,23,24,25,26,27,28,29,30,31,32,33,34,35,36,37,38,39,40,41,42,43,44,45,46,47,48,49],\"y\":[75.9677029569526,94.35096214499889,22.67338153913133,42.56701191114221,23.890315618006248,93.24526532625066,46.578736150603824,63.30218931827374,20.750996507354593,64.32682900867206,54.36563803392497,108.38268283944599,69.34834906788893,76.28734836820766,75.24216841221926,77.27715920211159,68.24831635026882,34.00289004417542,71.91053616604086,56.8963273974997,35.58030015867469,63.91268156724847,93.80011446436589,56.36905565589224,106.14267974871436,69.00630907520716,36.692469559424985,76.504097830369,65.66359850676415,102.54346113854358,124.58617116102347,48.266671397216825,109.5979645423349,130.8217666402653,104.74682462667747,109.85297134706687,65.50181328489128,129.62469953797225,100.11040135624384,130.32471827540377,97.81035649218802,86.4229003965941,94.55562784861817,129.269618182685,121.756103141655,60.96868173392608,136.033827515854,86.58264909135006,89.19873068671637]},{\"name\":\"density\",\"type\":\"histogram2dcontour\",\"ncontours\":20,\"reversescale\":false,\"showscale\":true,\"x\":[1,2,3,4,5,6,7,8,9,10,11,12,13,14,15,16,17,18,19,20,21,22,23,24,25,26,27,28,29,30,31,32,33,34,35,36,37,38,39,40,41,42,43,44,45,46,47,48,49],\"y\":[75.9677029569526,94.35096214499889,22.67338153913133,42.56701191114221,23.890315618006248,93.24526532625066,46.578736150603824,63.30218931827374,20.750996507354593,64.32682900867206,54.36563803392497,108.38268283944599,69.34834906788893,76.28734836820766,75.24216841221926,77.27715920211159,68.24831635026882,34.00289004417542,71.91053616604086,56.8963273974997,35.58030015867469,63.91268156724847,93.80011446436589,56.36905565589224,106.14267974871436,69.00630907520716,36.692469559424985,76.504097830369,65.66359850676415,102.54346113854358,124.58617116102347,48.266671397216825,109.5979645423349,130.8217666402653,104.74682462667747,109.85297134706687,65.50181328489128,129.62469953797225,100.11040135624384,130.32471827540377,97.81035649218802,86.4229003965941,94.55562784861817,129.269618182685,121.756103141655,60.96868173392608,136.033827515854,86.58264909135006,89.19873068671637]},{\"name\":\"histogram\",\"type\":\"histogram\",\"yaxis\":\"y2\",\"x\":[1,2,3,4,5,6,7,8,9,10,11,12,13,14,15,16,17,18,19,20,21,22,23,24,25,26,27,28,29,30,31,32,33,34,35,36,37,38,39,40,41,42,43,44,45,46,47,48,49]},{\"name\":\"y density\",\"type\":\"histogram\",\"xaxis\":\"x2\",\"marker\":{\"color\":\"rgb(102,0,0)\"},\"y\":[75.9677029569526,94.35096214499889,22.67338153913133,42.56701191114221,23.890315618006248,93.24526532625066,46.578736150603824,63.30218931827374,20.750996507354593,64.32682900867206,54.36563803392497,108.38268283944599,69.34834906788893,76.28734836820766,75.24216841221926,77.27715920211159,68.24831635026882,34.00289004417542,71.91053616604086,56.8963273974997,35.58030015867469,63.91268156724847,93.80011446436589,56.36905565589224,106.14267974871436,69.00630907520716,36.692469559424985,76.504097830369,65.66359850676415,102.54346113854358,124.58617116102347,48.266671397216825,109.5979645423349,130.8217666402653,104.74682462667747,109.85297134706687,65.50181328489128,129.62469953797225,100.11040135624384,130.32471827540377,97.81035649218802,86.4229003965941,94.55562784861817,129.269618182685,121.756103141655,60.96868173392608,136.033827515854,86.58264909135006,89.19873068671637]}];\n",
       " var layout_AHR4KRDnai = {\"height\":550,\"width\":600,\"hovermode\":\"closest\",\"title\":{\"text\":\"Histogram2dContour With Density\"},\"showlegend\":false,\"autosize\":false,\"xaxis\":{\"title\":{\"text\":\"x axis 4\"},\"showgrid\":true,\"zeroline\":false,\"showline\":false}};\n",
       " var config_AHR4KRDnai = {\"responsive\":true,\"scrollZoom\":true,\"displaylogo\":false};\n",
       " Plotly.newPlot(\"graph_AHR4KRDnai\", traces_AHR4KRDnai, layout_AHR4KRDnai, config_AHR4KRDnai);\n",
       "</script> \n"
      ]
     },
     "metadata": {},
     "output_type": "display_data"
    }
   ],
   "source": [
    "val marker = Marker() setColor \"rgb(102,0,0)\"\n",
    "\n",
    "\n",
    "val x1 = Axis(X, showgrid = false) setDomain(0.0, 0.85)\n",
    "val y1 = Axis(Y, showgrid = false) setDomain(0.0, 0.85)\n",
    "val x2 = Axis(X, position = 2, showgrid = false) setDomain(0.85, 1.0)\n",
    "val y2 = Axis(Y, position = 2, showgrid = false) setDomain(0.85, 1.0)\n",
    "\n",
    "\n",
    "val series1 = XY(x, y) \n",
    "            .asType(SCATTER)\n",
    "            .drawMarkers\n",
    "            .setName(\"points\")\n",
    "            .setMarker(marker)\n",
    "\n",
    "\n",
    "val hist2d_options = Hist2dOptions(ncontours = 20, reversescale = false, showscale = true)\n",
    "\n",
    "val series2 = XY(x, y) \n",
    "            .setName(\"density\")\n",
    "            .asType(HISTOGRAM2DCONTOUR)\n",
    "            .setHist2dOptions(hist2d_options)\n",
    "\n",
    "val series3 = XY(x = x)\n",
    "            .asType(HISTOGRAM)\n",
    "            .setName(\"histogram\")\n",
    "            .setAxes(x1, y2)\n",
    "\n",
    "val series4 = (XY(y)\n",
    "            .setName(\"y density\")\n",
    "            .asType(HISTOGRAM)\n",
    "            .setAxis(x2)\n",
    "            .setMarker(marker)\n",
    "            .setHistOptions(HistOptions(orientation = HORIZONTAL)))\n",
    "\n",
    "val layout = (\n",
    "    ChartLayout(\"Histogram2dContour With Density\", auto_size = false, show_legend = false) \n",
    "    setAxes(ax1, ax2, ax3, ax4)\n",
    ")\n",
    "\n",
    "val chart = Chart() addSeries(series1, series2, series3, series4) setChartLayout layout\n",
    "\n",
    "chart.plotInline"
   ]
  },
  {
   "cell_type": "markdown",
   "metadata": {},
   "source": [
    "### 3D Charts\n",
    "\n",
    "3D charts are constructed using a `XYZ` series as they take in 3 `Series`' to create a single point.\n",
    "\n",
    "The Picta API does not accept nested lists, however the underlying Plotlyjs render does. In order to render any series that will make use of a nested list, we must flatten and provide the length of an element (before the list was flattened).\n",
    "\n",
    "The following examples will make it clearer.\n",
    "\n",
    "#### Contour"
   ]
  },
  {
   "cell_type": "code",
   "execution_count": 36,
   "metadata": {},
   "outputs": [],
   "source": [
    "// lets create some dummy adata for the third dimension\n",
    "val x = List(-9, -6, -5 , -3, -1)\n",
    "val y = List(0, 1, 4, 5, 7)\n",
    "val z = List(\n",
    "    List(10, 10.625, 12.5, 15.625, 20),\n",
    "    List(5.625, 6.25, 8.125, 11.25, 15.625),\n",
    "    List(2.5, 3.125, 5.0, 8.125, 12.5),\n",
    "    List(0.625, 1.25, 3.125, 6.25, 10.625),\n",
    "    List(0, 0.625, 2.5, 5.625, 10)\n",
    ")"
   ]
  },
  {
   "cell_type": "code",
   "execution_count": 37,
   "metadata": {},
   "outputs": [
    {
     "data": {
      "text/html": [
       "<div id=\"grid-container_jVioEhbOLe\" class=\"grid-container\" align=\"center\"> \n",
       "<div id=\"grid_jVioEhbOLe\" class=\"grid\" align=\"center\"> \n",
       "<div id=\"graph_zh71uNPCsp\" class=\"graph\"></div> \n",
       "</div> \n",
       "</div> \n",
       "<script>\n",
       "var masonry = new Macy({\n",
       "    container: '#grid_jVioEhbOLe',\n",
       "    debug: true,\n",
       "    mobileFirst: true,\n",
       "    columns: 1,\n",
       "    margin: {\n",
       "        x: 0,\n",
       "        y: 0\n",
       "    }\n",
       "  });\n",
       "\n",
       "  var traces_zh71uNPCsp = [{\"name\":\"Y1nLGxRj6Q\",\"type\":\"contour\",\"x\":[-9,-6,-5,-3,-1],\"y\":[0,1,4,5,7],\"z\":[[10,10.625,12.5,15.625,20],[5.625,6.25,8.125,11.25,15.625],[2.5,3.125,5,8.125,12.5],[0.625,1.25,3.125,6.25,10.625],[0,0.625,2.5,5.625,10]]}];\n",
       " var layout_zh71uNPCsp = {\"height\":550,\"width\":600,\"hovermode\":\"closest\",\"title\":{\"text\":\"Contour\"},\"showlegend\":true};\n",
       " var config_zh71uNPCsp = {\"responsive\":true,\"scrollZoom\":true,\"displaylogo\":false};\n",
       " Plotly.newPlot(\"graph_zh71uNPCsp\", traces_zh71uNPCsp, layout_zh71uNPCsp, config_zh71uNPCsp);\n",
       "</script> \n"
      ]
     },
     "metadata": {},
     "output_type": "display_data"
    }
   ],
   "source": [
    "// we flatten the nested list as we pass it into the Series constructor\n",
    "val series = XYZ(x=x, y=y, z=z.flatten, n=z(0).length).asType(CONTOUR)\n",
    "\n",
    "// set up the chart\n",
    "val chart = Chart()\n",
    "            .addSeries(series)\n",
    "            .setTitle(\"Contour\")\n",
    "\n",
    "// plot the chart\n",
    "chart.plotInline"
   ]
  },
  {
   "cell_type": "markdown",
   "metadata": {},
   "source": [
    "#### Heatmap"
   ]
  },
  {
   "cell_type": "code",
   "execution_count": 38,
   "metadata": {
    "scrolled": false
   },
   "outputs": [],
   "source": [
    "// create a new nested list for the heatmap\n",
    "val z = List.range(1, 101).map(e => e + scala.util.Random.nextDouble()*100).grouped(10).toList"
   ]
  },
  {
   "cell_type": "code",
   "execution_count": 39,
   "metadata": {},
   "outputs": [
    {
     "data": {
      "text/html": [
       "<div id=\"grid-container_rf29Igcmdi\" class=\"grid-container\" align=\"center\"> \n",
       "<div id=\"grid_rf29Igcmdi\" class=\"grid\" align=\"center\"> \n",
       "<div id=\"graph_M9pIOnkHOQ\" class=\"graph\"></div> \n",
       "</div> \n",
       "</div> \n",
       "<script>\n",
       "var masonry = new Macy({\n",
       "    container: '#grid_rf29Igcmdi',\n",
       "    debug: true,\n",
       "    mobileFirst: true,\n",
       "    columns: 1,\n",
       "    margin: {\n",
       "        x: 0,\n",
       "        y: 0\n",
       "    }\n",
       "  });\n",
       "\n",
       "  var traces_M9pIOnkHOQ = [{\"name\":\"5oK7htzJ53\",\"type\":\"heatmap\",\"z\":[[9.840434506400442,68.45223831803467,65.8145680643232,71.38393295531748,96.06202992953091,96.04314787652461,58.63673290601275,67.69808980376669,55.75303357225534,26.0778329752981],[95.27016060050825,27.28883636608802,17.52719752406534,89.3113867469676,22.08654000599428,27.982293172037995,49.68697942725585,110.94300820892872,101.46261531728949,59.48638708525153],[117.3799315867394,51.10551011036455,85.07354542472618,68.93220805585011,119.07568801370572,34.81110949976198,88.15147573729398,78.71008938036634,88.45062261262728,93.30476195037085],[64.90767482644014,105.24112857349341,89.27110095816334,46.686537279205545,65.88304563380343,116.79759347126223,75.49518586777658,93.69960408812587,91.68313369208313,56.08323543144621],[136.56654169631793,138.7405950368095,44.37025959944768,119.00723712600765,98.7532063476556,78.43429455380695,117.7267467068538,124.93318357876045,107.38779636039787,90.52468248998115],[60.66964051329926,135.65706625948044,71.99460739209199,116.3696179469446,94.28872079836208,80.46600210053006,116.54302215303962,104.98648613269955,62.29602681717108,122.85203053042582],[140.44546002299876,91.38141954356027,147.1164813948655,160.80295559393275,162.42212206686082,114.80474385669233,89.41566943794523,87.064914704848,88.98357577568638,143.61053418595685],[107.552170750804,148.36896299868425,122.03621326058206,162.55827097965846,125.25829856529023,133.3366548429615,95.99449785488275,95.67978481002345,80.79446461460977,87.62722536057078],[113.78779293321254,83.24481319812858,108.88883537245894,101.8616738382966,133.27852221038884,104.89362450954883,157.9653191828133,142.9566666955372,140.8622640248723,142.66539368297924],[129.47933920376954,102.72384736822359,137.3993566579692,107.43607687583743,103.62227257792551,118.9378312373575,153.13140297908294,110.18976081338553,146.22181390745567,183.548728078968]]}];\n",
       " var layout_M9pIOnkHOQ = {\"height\":550,\"width\":600,\"hovermode\":\"closest\",\"title\":{\"text\":\"Heatmap\"},\"showlegend\":true};\n",
       " var config_M9pIOnkHOQ = {\"responsive\":true,\"scrollZoom\":true,\"displaylogo\":false};\n",
       " Plotly.newPlot(\"graph_M9pIOnkHOQ\", traces_M9pIOnkHOQ, layout_M9pIOnkHOQ, config_M9pIOnkHOQ);\n",
       "</script> \n"
      ]
     },
     "metadata": {},
     "output_type": "display_data"
    }
   ],
   "source": [
    "// we get the length of an element of the nested list\n",
    "val n = z(0).length\n",
    "\n",
    "// we now flatten the list and pass it into Series constructor, as well as 'n', the length of an element so that the \n",
    "// heatmap dimensions are correctly constructed\n",
    "val series = XYZ(z=z.flatten, n=n) asType HEATMAP\n",
    "\n",
    "val chart = Chart().addSeries(series).setTitle(\"Heatmap\")\n",
    "\n",
    "chart.plotInline"
   ]
  },
  {
   "cell_type": "markdown",
   "metadata": {},
   "source": [
    "#### Scatter3D"
   ]
  },
  {
   "cell_type": "code",
   "execution_count": 40,
   "metadata": {
    "scrolled": false
   },
   "outputs": [
    {
     "data": {
      "text/html": [
       "<div id=\"grid-container_Ic3OHeBTMd\" class=\"grid-container\" align=\"center\"> \n",
       "<div id=\"grid_Ic3OHeBTMd\" class=\"grid\" align=\"center\"> \n",
       "<div id=\"graph_Y9ool0EHqw\" class=\"graph\"></div> \n",
       "</div> \n",
       "</div> \n",
       "<script>\n",
       "var masonry = new Macy({\n",
       "    container: '#grid_Ic3OHeBTMd',\n",
       "    debug: true,\n",
       "    mobileFirst: true,\n",
       "    columns: 1,\n",
       "    margin: {\n",
       "        x: 0,\n",
       "        y: 0\n",
       "    }\n",
       "  });\n",
       "\n",
       "  var traces_Y9ool0EHqw = [{\"name\":\"xCegsjvwvP\",\"type\":\"scatter3d\",\"mode\":\"markers\",\"x\":[1,2,3,4,5,6,7,8,9,10,11,12,13,14,15,16,17,18,19,20,21,22,23,24,25,26,27,28,29,30,31,32,33,34,35,36,37,38,39,40,41,42,43,44,45,46,47,48,49,50,51,52,53,54,55,56,57,58,59,60,61,62,63,64,65,66,67,68,69,70,71,72,73,74,75,76,77,78,79,80,81,82,83,84,85,86,87,88,89,90,91,92,93,94,95,96,97,98,99],\"y\":[1,2,3,4,5,6,7,8,9,10,11,12,13,14,15,16,17,18,19,20,21,22,23,24,25,26,27,28,29,30,31,32,33,34,35,36,37,38,39,40,41,42,43,44,45,46,47,48,49,50,51,52,53,54,55,56,57,58,59,60,61,62,63,64,65,66,67,68,69,70,71,72,73,74,75,76,77,78,79,80,81,82,83,84,85,86,87,88,89,90,91,92,93,94,95,96,97,98,99],\"z\":[60.17368671399444,67.49792609296638,78.24174041777513,54.087932089039576,58.377948692549104,75.07547010947395,98.31049830154502,95.30959464024805,31.826392596682552,20.726388042756273,42.50436548034175,47.21218989507416,95.75421039768797,55.33397207688853,41.17665372180548,18.737236816348364,23.189735424106413,102.19998088787042,59.5477748710596,102.71520450060687,75.21740803212484,76.62009461117032,85.0449011067698,104.82668990587062,101.28479094004932,72.8277888344596,51.459653194577484,92.60687641801269,54.84476713772361,119.18857259706705,50.341921159394936,128.70531093525864,49.40920128519282,129.96794671066556,111.39553434137223,94.11694748217693,88.0005287689012,62.562900572938815,43.114217864859704,51.72926861797208,135.0228731318746,122.7780589803878,112.49385575635164,48.28429238304412,63.73445396224748,47.54410268822336,108.37982084908097,103.73308781812105,104.78820370982618,134.41745253599663,76.85570038309714,90.96438252723794,141.7176737339511,80.26659524037042,139.05248061653964,66.01772931212426,147.78046226656517,137.741855842505,101.85485280296663,69.14561584976393,135.23152649107357,97.4418366229757,150.20399454877156,80.46780254317704,92.88398021062011,156.13112271021402,166.0438143421996,80.46508736004584,120.72499829315299,136.93029597660126,153.4303093679887,135.18857053060566,131.38975736469453,86.0906491476986,161.9213775892124,98.8144664761588,77.45638177314787,82.78246741150937,91.08699249864398,102.05333792337115,180.81008318771066,163.2670963567424,127.82741925132964,173.9265790283101,85.73480417193079,178.8894588586232,115.15971877646291,126.55188508508975,130.92586160416735,178.51904224405615,176.2304857161066,117.83332198746994,137.27722166889123,130.38385336067608,120.53539846536863,195.33053547454287,138.08219881167543,175.68317972679478,140.67385036305686]}];\n",
       " var layout_Y9ool0EHqw = {\"height\":550,\"width\":600,\"hovermode\":\"closest\",\"title\":{\"text\":\"XYZ.Scatter3D\"},\"showlegend\":true};\n",
       " var config_Y9ool0EHqw = {\"responsive\":false,\"scrollZoom\":false,\"displaylogo\":false};\n",
       " Plotly.newPlot(\"graph_Y9ool0EHqw\", traces_Y9ool0EHqw, layout_Y9ool0EHqw, config_Y9ool0EHqw);\n",
       "</script> \n"
      ]
     },
     "metadata": {},
     "output_type": "display_data"
    }
   ],
   "source": [
    "val x = List.range(1, 100)\n",
    "val y = List.range(1, 100)\n",
    "val z = List.range(1, 100).map(e => e + scala.util.Random.nextDouble()*100)\n",
    "\n",
    "val series = XYZ(x, y, z).asType(SCATTER3D).drawStyle(MARKERS)\n",
    "val chart1 = Chart() addSeries series setTitle \"XYZ.Scatter3D\" setConfig(false, false)\n",
    "val canvas = Canvas() addCharts chart1\n",
    "canvas.plotInline"
   ]
  },
  {
   "cell_type": "markdown",
   "metadata": {},
   "source": [
    "#### Surface Plot"
   ]
  },
  {
   "cell_type": "code",
   "execution_count": 41,
   "metadata": {
    "scrolled": false
   },
   "outputs": [
    {
     "data": {
      "text/html": [
       "<div id=\"grid-container_T05eZ8qTdz\" class=\"grid-container\" align=\"center\"> \n",
       "<div id=\"grid_T05eZ8qTdz\" class=\"grid\" align=\"center\"> \n",
       "<div id=\"graph_V8atiiGCZB\" class=\"graph\"></div> \n",
       "</div> \n",
       "</div> \n",
       "<script>\n",
       "var masonry = new Macy({\n",
       "    container: '#grid_T05eZ8qTdz',\n",
       "    debug: true,\n",
       "    mobileFirst: true,\n",
       "    columns: 1,\n",
       "    margin: {\n",
       "        x: 0,\n",
       "        y: 0\n",
       "    }\n",
       "  });\n",
       "\n",
       "  var traces_V8atiiGCZB = [{\"name\":\"vQcols3eOa\",\"type\":\"surface\",\"colorbar\":{\"title\":{\"text\":\"Altitude\",\"side\":\"right\"}},\"z\":[[8.83,8.89,8.81,8.87,8.9,8.87],[8.89,8.94,8.85,8.94,8.96,8.92],[8.84,8.9,8.82,8.92,8.93,8.91],[8.79,8.85,8.79,8.9,8.94,8.92],[8.79,8.88,8.81,8.9,8.95,8.92],[8.8,8.82,8.78,8.91,8.94,8.92],[8.75,8.78,8.77,8.91,8.95,8.92],[8.8,8.8,8.77,8.91,8.95,8.94],[8.74,8.81,8.76,8.93,8.98,8.99],[8.89,8.99,8.92,9.1,9.13,9.11],[8.97,8.97,8.91,9.09,9.11,9.11],[9.04,9.08,9.05,9.25,9.28,9.27],[9,9.01,9,9.2,9.23,9.2],[8.99,8.99,8.98,9.18,9.2,9.19],[8.93,8.97,8.97,9.18,9.2,9.18]]}];\n",
       " var layout_V8atiiGCZB = {\"height\":550,\"width\":600,\"hovermode\":\"closest\",\"title\":{\"text\":\"Surface\"},\"showlegend\":true};\n",
       " var config_V8atiiGCZB = {\"responsive\":true,\"scrollZoom\":true,\"displaylogo\":false};\n",
       " Plotly.newPlot(\"graph_V8atiiGCZB\", traces_V8atiiGCZB, layout_V8atiiGCZB, config_V8atiiGCZB);\n",
       "</script> \n"
      ]
     },
     "metadata": {},
     "output_type": "display_data"
    }
   ],
   "source": [
    "// 3d surface plot\n",
    "val k = List(\n",
    "    List(8.83,8.89,8.81,8.87,8.9,8.87),\n",
    "    List(8.89,8.94,8.85,8.94,8.96,8.92),\n",
    "    List(8.84,8.9,8.82,8.92,8.93,8.91),\n",
    "    List(8.79,8.85,8.79,8.9,8.94,8.92),\n",
    "    List(8.79,8.88,8.81,8.9,8.95,8.92),\n",
    "    List(8.8,8.82,8.78,8.91,8.94,8.92),\n",
    "    List(8.75,8.78,8.77,8.91,8.95,8.92),\n",
    "    List(8.8,8.8,8.77,8.91,8.95,8.94),\n",
    "    List(8.74,8.81,8.76,8.93,8.98,8.99),\n",
    "    List(8.89,8.99,8.92,9.1,9.13,9.11),\n",
    "    List(8.97,8.97,8.91,9.09,9.11,9.11),\n",
    "    List(9.04,9.08,9.05,9.25,9.28,9.27),\n",
    "    List(9,9.01,9,9.2,9.23,9.2),\n",
    "    List(8.99,8.99,8.98,9.18,9.2,9.19),\n",
    "    List(8.93,8.97,8.97,9.18,9.2,9.18)\n",
    "  )\n",
    "\n",
    "val series = XYZ(z=k.flatten, n = k(0).length) asType SURFACE setColorBar(\"Altitude\", RIGHT_SIDE)\n",
    "val chart2 = Chart() addSeries series setTitle \"Surface\"\n",
    "\n",
    "chart2.plotInline"
   ]
  },
  {
   "cell_type": "markdown",
   "metadata": {},
   "source": [
    "#### Third Dimension as Color"
   ]
  },
  {
   "cell_type": "code",
   "execution_count": 42,
   "metadata": {},
   "outputs": [
    {
     "data": {
      "text/html": [
       "<div id=\"grid-container_VjeOyhV3F7\" class=\"grid-container\" align=\"center\"> \n",
       "<div id=\"grid_VjeOyhV3F7\" class=\"grid\" align=\"center\"> \n",
       "<div id=\"graph_m9h9QhFMDr\" class=\"graph\"></div> \n",
       "</div> \n",
       "</div> \n",
       "<script>\n",
       "var masonry = new Macy({\n",
       "    container: '#grid_VjeOyhV3F7',\n",
       "    debug: true,\n",
       "    mobileFirst: true,\n",
       "    columns: 1,\n",
       "    margin: {\n",
       "        x: 0,\n",
       "        y: 0\n",
       "    }\n",
       "  });\n",
       "\n",
       "  var traces_m9h9QhFMDr = [{\"name\":\"wCTnxGRnq6\",\"type\":\"scatter\",\"mode\":\"markers\",\"marker\":{\"color\":[60.17368671399444,67.49792609296638,78.24174041777513,54.087932089039576,58.377948692549104,75.07547010947395,98.31049830154502,95.30959464024805,31.826392596682552,20.726388042756273,42.50436548034175,47.21218989507416,95.75421039768797,55.33397207688853,41.17665372180548,18.737236816348364,23.189735424106413,102.19998088787042,59.5477748710596,102.71520450060687,75.21740803212484,76.62009461117032,85.0449011067698,104.82668990587062,101.28479094004932,72.8277888344596,51.459653194577484,92.60687641801269,54.84476713772361,119.18857259706705,50.341921159394936,128.70531093525864,49.40920128519282,129.96794671066556,111.39553434137223,94.11694748217693,88.0005287689012,62.562900572938815,43.114217864859704,51.72926861797208,135.0228731318746,122.7780589803878,112.49385575635164,48.28429238304412,63.73445396224748,47.54410268822336,108.37982084908097,103.73308781812105,104.78820370982618,134.41745253599663,76.85570038309714,90.96438252723794,141.7176737339511,80.26659524037042,139.05248061653964,66.01772931212426,147.78046226656517,137.741855842505,101.85485280296663,69.14561584976393,135.23152649107357,97.4418366229757,150.20399454877156,80.46780254317704,92.88398021062011,156.13112271021402,166.0438143421996,80.46508736004584,120.72499829315299,136.93029597660126,153.4303093679887,135.18857053060566,131.38975736469453,86.0906491476986,161.9213775892124,98.8144664761588,77.45638177314787,82.78246741150937,91.08699249864398,102.05333792337115,180.81008318771066,163.2670963567424,127.82741925132964,173.9265790283101,85.73480417193079,178.8894588586232,115.15971877646291,126.55188508508975,130.92586160416735,178.51904224405615,176.2304857161066,117.83332198746994,137.27722166889123,130.38385336067608,120.53539846536863,195.33053547454287,138.08219881167543,175.68317972679478,140.67385036305686],\"colorbar\":{\"title\":{\"text\":\"3rd Dimension\",\"side\":\"right\"}}},\"x\":[1,2,3,4,5,6,7,8,9,10,11,12,13,14,15,16,17,18,19,20,21,22,23,24,25,26,27,28,29,30,31,32,33,34,35,36,37,38,39,40,41,42,43,44,45,46,47,48,49,50,51,52,53,54,55,56,57,58,59,60,61,62,63,64,65,66,67,68,69,70,71,72,73,74,75,76,77,78,79,80,81,82,83,84,85,86,87,88,89,90,91,92,93,94,95,96,97,98,99],\"y\":[1,2,3,4,5,6,7,8,9,10,11,12,13,14,15,16,17,18,19,20,21,22,23,24,25,26,27,28,29,30,31,32,33,34,35,36,37,38,39,40,41,42,43,44,45,46,47,48,49,50,51,52,53,54,55,56,57,58,59,60,61,62,63,64,65,66,67,68,69,70,71,72,73,74,75,76,77,78,79,80,81,82,83,84,85,86,87,88,89,90,91,92,93,94,95,96,97,98,99]}];\n",
       " var layout_m9h9QhFMDr = {\"height\":550,\"width\":600,\"hovermode\":\"closest\",\"title\":{\"text\":\"Scatter With Color\"},\"showlegend\":false};\n",
       " var config_m9h9QhFMDr = {\"responsive\":true,\"scrollZoom\":true,\"displaylogo\":false};\n",
       " Plotly.newPlot(\"graph_m9h9QhFMDr\", traces_m9h9QhFMDr, layout_m9h9QhFMDr, config_m9h9QhFMDr);\n",
       "</script> \n"
      ]
     },
     "metadata": {},
     "output_type": "display_data"
    }
   ],
   "source": [
    "// multiple compositions can be used to create scatter charts with a color representing some third dimension\n",
    "val series = (\n",
    "    XY(x, y) \n",
    "    asType SCATTER \n",
    "    drawStyle MARKERS \n",
    "    setMarker marker \n",
    "    setColor z \n",
    "    setColorBar(\"3rd Dimension\", RIGHT_SIDE)\n",
    ")\n",
    "\n",
    "val chart3 = Chart() addSeries series setTitle \"Scatter With Color\" showLegend false\n",
    "chart3.plotInline"
   ]
  },
  {
   "cell_type": "markdown",
   "metadata": {},
   "source": [
    "#### Subplot\n",
    "\n",
    "The Subplot class can be used to generate subplots for an XYZ plots just as we did previously."
   ]
  },
  {
   "cell_type": "code",
   "execution_count": 43,
   "metadata": {},
   "outputs": [
    {
     "data": {
      "text/html": [
       "<div id=\"grid-container_b2bRKBPXxv\" class=\"grid-container\" align=\"center\"> \n",
       "<div id=\"grid_b2bRKBPXxv\" class=\"grid\" align=\"center\"> \n",
       "<div id=\"graph_cJ46F1kDn7\" class=\"graph\"></div> \n",
       "<div id=\"graph_Vmc47Mm02B\" class=\"graph\"></div> \n",
       "<div id=\"graph_rDF6URywqT\" class=\"graph\"></div> \n",
       "<div id=\"graph_0BYngt0uXq\" class=\"graph\"></div> \n",
       "</div> \n",
       "</div> \n",
       "\n",
       "<div align=\"center\">\n",
       "<button id = \"saveAsPNG_b2bRKBPXxv\" class=\"picta-button\">Download Canvas as PNG</button>\n",
       "</div>\n",
       "<script>\n",
       "var masonry = new Macy({\n",
       "    container: '#grid_b2bRKBPXxv',\n",
       "    debug: true,\n",
       "    mobileFirst: true,\n",
       "    columns: 2,\n",
       "    margin: {\n",
       "        x: 0,\n",
       "        y: 0\n",
       "    }\n",
       "  });\n",
       "\n",
       "  var traces_cJ46F1kDn7 = [{\"name\":\"xCegsjvwvP\",\"type\":\"scatter3d\",\"mode\":\"markers\",\"x\":[1,2,3,4,5,6,7,8,9,10,11,12,13,14,15,16,17,18,19,20,21,22,23,24,25,26,27,28,29,30,31,32,33,34,35,36,37,38,39,40,41,42,43,44,45,46,47,48,49,50,51,52,53,54,55,56,57,58,59,60,61,62,63,64,65,66,67,68,69,70,71,72,73,74,75,76,77,78,79,80,81,82,83,84,85,86,87,88,89,90,91,92,93,94,95,96,97,98,99],\"y\":[1,2,3,4,5,6,7,8,9,10,11,12,13,14,15,16,17,18,19,20,21,22,23,24,25,26,27,28,29,30,31,32,33,34,35,36,37,38,39,40,41,42,43,44,45,46,47,48,49,50,51,52,53,54,55,56,57,58,59,60,61,62,63,64,65,66,67,68,69,70,71,72,73,74,75,76,77,78,79,80,81,82,83,84,85,86,87,88,89,90,91,92,93,94,95,96,97,98,99],\"z\":[60.17368671399444,67.49792609296638,78.24174041777513,54.087932089039576,58.377948692549104,75.07547010947395,98.31049830154502,95.30959464024805,31.826392596682552,20.726388042756273,42.50436548034175,47.21218989507416,95.75421039768797,55.33397207688853,41.17665372180548,18.737236816348364,23.189735424106413,102.19998088787042,59.5477748710596,102.71520450060687,75.21740803212484,76.62009461117032,85.0449011067698,104.82668990587062,101.28479094004932,72.8277888344596,51.459653194577484,92.60687641801269,54.84476713772361,119.18857259706705,50.341921159394936,128.70531093525864,49.40920128519282,129.96794671066556,111.39553434137223,94.11694748217693,88.0005287689012,62.562900572938815,43.114217864859704,51.72926861797208,135.0228731318746,122.7780589803878,112.49385575635164,48.28429238304412,63.73445396224748,47.54410268822336,108.37982084908097,103.73308781812105,104.78820370982618,134.41745253599663,76.85570038309714,90.96438252723794,141.7176737339511,80.26659524037042,139.05248061653964,66.01772931212426,147.78046226656517,137.741855842505,101.85485280296663,69.14561584976393,135.23152649107357,97.4418366229757,150.20399454877156,80.46780254317704,92.88398021062011,156.13112271021402,166.0438143421996,80.46508736004584,120.72499829315299,136.93029597660126,153.4303093679887,135.18857053060566,131.38975736469453,86.0906491476986,161.9213775892124,98.8144664761588,77.45638177314787,82.78246741150937,91.08699249864398,102.05333792337115,180.81008318771066,163.2670963567424,127.82741925132964,173.9265790283101,85.73480417193079,178.8894588586232,115.15971877646291,126.55188508508975,130.92586160416735,178.51904224405615,176.2304857161066,117.83332198746994,137.27722166889123,130.38385336067608,120.53539846536863,195.33053547454287,138.08219881167543,175.68317972679478,140.67385036305686]}];\n",
       " var layout_cJ46F1kDn7 = {\"height\":350,\"width\":350,\"hovermode\":\"closest\",\"title\":{\"text\":\"XYZ.Scatter3D\"},\"showlegend\":true,\"margin\":{\"l\":50,\"r\":50,\"t\":50,\"b\":50}};\n",
       " var config_cJ46F1kDn7 = {\"responsive\":false,\"scrollZoom\":false,\"displaylogo\":false};\n",
       " Plotly.newPlot(\"graph_cJ46F1kDn7\", traces_cJ46F1kDn7, layout_cJ46F1kDn7, config_cJ46F1kDn7);\n",
       "\n",
       "  var traces_Vmc47Mm02B = [{\"name\":\"vQcols3eOa\",\"type\":\"surface\",\"colorbar\":{\"title\":{\"text\":\"Altitude\",\"side\":\"right\"}},\"z\":[[8.83,8.89,8.81,8.87,8.9,8.87],[8.89,8.94,8.85,8.94,8.96,8.92],[8.84,8.9,8.82,8.92,8.93,8.91],[8.79,8.85,8.79,8.9,8.94,8.92],[8.79,8.88,8.81,8.9,8.95,8.92],[8.8,8.82,8.78,8.91,8.94,8.92],[8.75,8.78,8.77,8.91,8.95,8.92],[8.8,8.8,8.77,8.91,8.95,8.94],[8.74,8.81,8.76,8.93,8.98,8.99],[8.89,8.99,8.92,9.1,9.13,9.11],[8.97,8.97,8.91,9.09,9.11,9.11],[9.04,9.08,9.05,9.25,9.28,9.27],[9,9.01,9,9.2,9.23,9.2],[8.99,8.99,8.98,9.18,9.2,9.19],[8.93,8.97,8.97,9.18,9.2,9.18]]}];\n",
       " var layout_Vmc47Mm02B = {\"height\":350,\"width\":350,\"hovermode\":\"closest\",\"title\":{\"text\":\"Surface\"},\"showlegend\":true,\"margin\":{\"l\":50,\"r\":50,\"t\":50,\"b\":50}};\n",
       " var config_Vmc47Mm02B = {\"responsive\":true,\"scrollZoom\":true,\"displaylogo\":false};\n",
       " Plotly.newPlot(\"graph_Vmc47Mm02B\", traces_Vmc47Mm02B, layout_Vmc47Mm02B, config_Vmc47Mm02B);\n",
       "\n",
       "  var traces_rDF6URywqT = [{\"name\":\"wCTnxGRnq6\",\"type\":\"scatter\",\"mode\":\"markers\",\"marker\":{\"color\":[60.17368671399444,67.49792609296638,78.24174041777513,54.087932089039576,58.377948692549104,75.07547010947395,98.31049830154502,95.30959464024805,31.826392596682552,20.726388042756273,42.50436548034175,47.21218989507416,95.75421039768797,55.33397207688853,41.17665372180548,18.737236816348364,23.189735424106413,102.19998088787042,59.5477748710596,102.71520450060687,75.21740803212484,76.62009461117032,85.0449011067698,104.82668990587062,101.28479094004932,72.8277888344596,51.459653194577484,92.60687641801269,54.84476713772361,119.18857259706705,50.341921159394936,128.70531093525864,49.40920128519282,129.96794671066556,111.39553434137223,94.11694748217693,88.0005287689012,62.562900572938815,43.114217864859704,51.72926861797208,135.0228731318746,122.7780589803878,112.49385575635164,48.28429238304412,63.73445396224748,47.54410268822336,108.37982084908097,103.73308781812105,104.78820370982618,134.41745253599663,76.85570038309714,90.96438252723794,141.7176737339511,80.26659524037042,139.05248061653964,66.01772931212426,147.78046226656517,137.741855842505,101.85485280296663,69.14561584976393,135.23152649107357,97.4418366229757,150.20399454877156,80.46780254317704,92.88398021062011,156.13112271021402,166.0438143421996,80.46508736004584,120.72499829315299,136.93029597660126,153.4303093679887,135.18857053060566,131.38975736469453,86.0906491476986,161.9213775892124,98.8144664761588,77.45638177314787,82.78246741150937,91.08699249864398,102.05333792337115,180.81008318771066,163.2670963567424,127.82741925132964,173.9265790283101,85.73480417193079,178.8894588586232,115.15971877646291,126.55188508508975,130.92586160416735,178.51904224405615,176.2304857161066,117.83332198746994,137.27722166889123,130.38385336067608,120.53539846536863,195.33053547454287,138.08219881167543,175.68317972679478,140.67385036305686],\"colorbar\":{\"title\":{\"text\":\"3rd Dimension\",\"side\":\"right\"}}},\"x\":[1,2,3,4,5,6,7,8,9,10,11,12,13,14,15,16,17,18,19,20,21,22,23,24,25,26,27,28,29,30,31,32,33,34,35,36,37,38,39,40,41,42,43,44,45,46,47,48,49,50,51,52,53,54,55,56,57,58,59,60,61,62,63,64,65,66,67,68,69,70,71,72,73,74,75,76,77,78,79,80,81,82,83,84,85,86,87,88,89,90,91,92,93,94,95,96,97,98,99],\"y\":[1,2,3,4,5,6,7,8,9,10,11,12,13,14,15,16,17,18,19,20,21,22,23,24,25,26,27,28,29,30,31,32,33,34,35,36,37,38,39,40,41,42,43,44,45,46,47,48,49,50,51,52,53,54,55,56,57,58,59,60,61,62,63,64,65,66,67,68,69,70,71,72,73,74,75,76,77,78,79,80,81,82,83,84,85,86,87,88,89,90,91,92,93,94,95,96,97,98,99]}];\n",
       " var layout_rDF6URywqT = {\"height\":350,\"width\":350,\"hovermode\":\"closest\",\"title\":{\"text\":\"Scatter With Color\"},\"showlegend\":false,\"margin\":{\"l\":50,\"r\":50,\"t\":50,\"b\":50}};\n",
       " var config_rDF6URywqT = {\"responsive\":true,\"scrollZoom\":true,\"displaylogo\":false};\n",
       " Plotly.newPlot(\"graph_rDF6URywqT\", traces_rDF6URywqT, layout_rDF6URywqT, config_rDF6URywqT);\n",
       "\n",
       "  var traces_0BYngt0uXq = [{\"name\":\"5oK7htzJ53\",\"type\":\"heatmap\",\"z\":[[9.840434506400442,68.45223831803467,65.8145680643232,71.38393295531748,96.06202992953091,96.04314787652461,58.63673290601275,67.69808980376669,55.75303357225534,26.0778329752981],[95.27016060050825,27.28883636608802,17.52719752406534,89.3113867469676,22.08654000599428,27.982293172037995,49.68697942725585,110.94300820892872,101.46261531728949,59.48638708525153],[117.3799315867394,51.10551011036455,85.07354542472618,68.93220805585011,119.07568801370572,34.81110949976198,88.15147573729398,78.71008938036634,88.45062261262728,93.30476195037085],[64.90767482644014,105.24112857349341,89.27110095816334,46.686537279205545,65.88304563380343,116.79759347126223,75.49518586777658,93.69960408812587,91.68313369208313,56.08323543144621],[136.56654169631793,138.7405950368095,44.37025959944768,119.00723712600765,98.7532063476556,78.43429455380695,117.7267467068538,124.93318357876045,107.38779636039787,90.52468248998115],[60.66964051329926,135.65706625948044,71.99460739209199,116.3696179469446,94.28872079836208,80.46600210053006,116.54302215303962,104.98648613269955,62.29602681717108,122.85203053042582],[140.44546002299876,91.38141954356027,147.1164813948655,160.80295559393275,162.42212206686082,114.80474385669233,89.41566943794523,87.064914704848,88.98357577568638,143.61053418595685],[107.552170750804,148.36896299868425,122.03621326058206,162.55827097965846,125.25829856529023,133.3366548429615,95.99449785488275,95.67978481002345,80.79446461460977,87.62722536057078],[113.78779293321254,83.24481319812858,108.88883537245894,101.8616738382966,133.27852221038884,104.89362450954883,157.9653191828133,142.9566666955372,140.8622640248723,142.66539368297924],[129.47933920376954,102.72384736822359,137.3993566579692,107.43607687583743,103.62227257792551,118.9378312373575,153.13140297908294,110.18976081338553,146.22181390745567,183.548728078968]]}];\n",
       " var layout_0BYngt0uXq = {\"height\":350,\"width\":350,\"hovermode\":\"closest\",\"title\":{\"text\":\"Heatmap\"},\"showlegend\":true,\"margin\":{\"l\":50,\"r\":50,\"t\":50,\"b\":50}};\n",
       " var config_0BYngt0uXq = {\"responsive\":true,\"scrollZoom\":true,\"displaylogo\":false};\n",
       " Plotly.newPlot(\"graph_0BYngt0uXq\", traces_0BYngt0uXq, layout_0BYngt0uXq, config_0BYngt0uXq);\n",
       "\n",
       "var save_b2bRKBPXxv = document.getElementById(\"saveAsPNG_b2bRKBPXxv\")\n",
       "save_b2bRKBPXxv.onclick = function() {\n",
       "    const grid = document.getElementById(\"grid-container_b2bRKBPXxv\")\n",
       "    const graphs = grid.getElementsByClassName(\"graph\")\n",
       "\n",
       "    const promises = []\n",
       "\n",
       "    const rows = 2\n",
       "    const cols = 2\n",
       "    const img_width = 400\n",
       "    const img_height = 400\n",
       "    var margin = 50\n",
       "\n",
       "    for (var i=0; i<graphs.length; i++) {\n",
       "        const promise = Plotly.toImage(graphs[i], {format: 'png', width: img_width, height: img_height})\n",
       "        promises.push(new Promise((resolve) => {\n",
       "            resolve(promise);\n",
       "        }));\n",
       "    }\n",
       "\n",
       "    Promise.all(promises).then((images) => {\n",
       "        const positioned_images = []\n",
       "\n",
       "        for (var i=0; i<rows; i++) {\n",
       "            for (var j=0; j<cols; j++) {\n",
       "\n",
       "                const obj = {\n",
       "                    \"src\": images[i*cols + j],\n",
       "                    x: i*img_width+margin,\n",
       "                    y: j*img_height+margin\n",
       "                }\n",
       "\n",
       "                positioned_images.push(obj)\n",
       "            }\n",
       "        }\n",
       "\n",
       "        mergeImages(positioned_images, {\n",
       "            width: img_width*cols+60, height: img_height*rows+60\n",
       "        })\n",
       "        .then(b64 => {\n",
       "            var a = document.createElement(\"a\");\n",
       "            a.href = b64;\n",
       "            a.download = \"Image.png\";\n",
       "            a.click();\n",
       "            a.remove()\n",
       "        });\n",
       "    });\n",
       "}\n",
       "</script> \n"
      ]
     },
     "metadata": {},
     "output_type": "display_data"
    }
   ],
   "source": [
    "// it may be necessary to play around with the chart dimensions and margin  in order to ensure a good fit on screen.\n",
    "val dim = 350\n",
    "\n",
    "// The canvas has an underlying grid. By default the underlying grid is 1x1, but we can pass in the dimensions we \n",
    "// require by passing in parameters in the constructor.\n",
    "Canvas(2, 2)\n",
    ".setChart(0, 0, chart1.setDimensions(width = dim, height = dim).setMargin(l=50, r=50, t=50, b=50))\n",
    ".setChart(0, 1, chart2.setDimensions(width = dim, height = dim)setMargin(l=50, r=50, t=50, b=50))\n",
    ".setChart(1, 0, chart3.setDimensions(width = dim, height = dim)setMargin(l=50, r=50, t=50, b=50))\n",
    ".setChart(1, 1, chart.setDimensions(width = dim, height = dim)setMargin(l=50, r=50, t=50, b=50))\n",
    ".plotInline"
   ]
  },
  {
   "cell_type": "markdown",
   "metadata": {},
   "source": [
    "#### Map\n",
    "\n",
    "We can also create maps using the composition technique below."
   ]
  },
  {
   "cell_type": "code",
   "execution_count": 44,
   "metadata": {},
   "outputs": [],
   "source": [
    "import org.carbonateresearch.picta.options.{Margin, Line}\n",
    "import org.carbonateresearch.picta.Map"
   ]
  },
  {
   "cell_type": "code",
   "execution_count": 45,
   "metadata": {},
   "outputs": [
    {
     "data": {
      "text/html": [
       "<div id=\"grid-container_lOgTJHsoYh\" class=\"grid-container\" align=\"center\"> \n",
       "<div id=\"grid_lOgTJHsoYh\" class=\"grid\" align=\"center\"> \n",
       "<div id=\"graph_0hWstnbjIZ\" class=\"graph\"></div> \n",
       "</div> \n",
       "</div> \n",
       "<script>\n",
       "var masonry = new Macy({\n",
       "    container: '#grid_lOgTJHsoYh',\n",
       "    debug: true,\n",
       "    mobileFirst: true,\n",
       "    columns: 1,\n",
       "    margin: {\n",
       "        x: 0,\n",
       "        y: 0\n",
       "    }\n",
       "  });\n",
       "\n",
       "  var traces_0hWstnbjIZ = [{\"name\":\"m1775jAHSY\",\"lat\":[40.7127,51.5072],\"lon\":[-74.0059,0.1275],\"type\":\"scattergeo\",\"mode\":\"lines\",\"line\":{\"width\":2,\"color\":\"red\"}}];\n",
       " var layout_0hWstnbjIZ = {\"height\":550,\"width\":600,\"hovermode\":\"closest\",\"showlegend\":true,\"geo\":{\"resolution\":50,\"showland\":true,\"showlakes\":true,\"coastlinewidth\":2,\"landcolor\":\"rgb(204, 204, 204)\",\"lakecolor\":\"rgb(255, 255, 255)\",\"lataxis\":{\"range\":[20,60],\"showgrid\":true,\"dtick\":10},\"lonaxis\":{\"range\":[-100,20],\"showgrid\":true,\"dtick\":10}},\"margin\":{\"l\":0,\"r\":0,\"t\":0,\"b\":0}};\n",
       " var config_0hWstnbjIZ = {\"responsive\":false,\"scrollZoom\":false,\"displaylogo\":false};\n",
       " Plotly.newPlot(\"graph_0hWstnbjIZ\", traces_0hWstnbjIZ, layout_0hWstnbjIZ, config_0hWstnbjIZ);\n",
       "</script> \n"
      ]
     },
     "metadata": {},
     "output_type": "display_data"
    }
   ],
   "source": [
    "// draw a line on the map that is red\n",
    "val line = Line(width = 2) setColor \"red\"\n",
    "\n",
    "// construct the map Series. It is an XY chart as it takes in a List of Longitude and Latitude\n",
    "val series = Map(List(40.7127, 51.5072), List(-74.0059, 0.1275)) drawSymbol LINES drawLine line\n",
    "\n",
    "// These are options that further specify the options for the map\n",
    "val geo = MapOptions(landcolor = \"rgb(204, 204, 204)\", lakecolor = \"rgb(255, 255, 255)\")\n",
    "              .setMapAxes(LatAxis(List(20, 60)), LongAxis(List(-100, 20)))\n",
    "\n",
    "val chart = (\n",
    "    Chart() \n",
    "    addSeries series \n",
    "    setConfig(false, false)\n",
    "    setMapOptions geo\n",
    "    setMargin(l=0, r=0, t=0, b=0)\n",
    ")\n",
    "\n",
    "chart.plotInline"
   ]
  },
  {
   "cell_type": "markdown",
   "metadata": {},
   "source": [
    "### Animated Charts\n",
    "\n",
    "We can also create animated charts. This can be useful for tracking the evolution of a data over time.\n",
    "\n",
    "All `Series` types should be supported.\n",
    "\n",
    "#### 2D Animated Chart"
   ]
  },
  {
   "cell_type": "code",
   "execution_count": 46,
   "metadata": {},
   "outputs": [],
   "source": [
    "import org.carbonateresearch.picta.options.ColorOptions._\n",
    "\n",
    "def genRangeRandomInt(min: Int = 0, max: Int = 10000) = min + (max - min) * scala.util.Random.nextInt()\n",
    "def genRangeRandomDouble(min: Double = 0.0, max: Double = 10000.0) = min + (max - min) * scala.util.Random.nextDouble()\n",
    "\n",
    "// creates random XY for testing purposes\n",
    "def createXYSeries[T: Color]\n",
    "(numberToCreate: Int, count: Int = 0, length: Int = 10): List[XY[Double, Double, T, T]] = {\n",
    "    if (count == numberToCreate) Nil\n",
    "    else {\n",
    "      val xs = List.range(0, length).map(x => genRangeRandomDouble())\n",
    "      val ys = xs.map(x => genRangeRandomDouble())\n",
    "      val series = XY(x = xs, y = ys, name = \"series \" + count).drawMarkers\n",
    "      series :: createXYSeries(numberToCreate, count + 1, length)\n",
    "    }\n",
    "}\n",
    "\n",
    "def createXYZSeries(numberToCreate: Int, count: Int = 0, length: Int = 10): List[XYZ[Double, Double, Double]] = {\n",
    "    if (count == numberToCreate) Nil\n",
    "    else {\n",
    "      val xs = List.range(0, length).map(x => genRangeRandomDouble())\n",
    "      val ys = xs.map(x => genRangeRandomDouble())\n",
    "      val zs = xs.map(x => genRangeRandomDouble())\n",
    "      val series = XYZ(x = xs, y = ys, z = zs, name = \"series \" + count, `type` = SCATTER3D).drawMarkers\n",
    "      series :: createXYZSeries(numberToCreate, count + 1, length)\n",
    "    }\n",
    "}"
   ]
  },
  {
   "cell_type": "code",
   "execution_count": 47,
   "metadata": {
    "scrolled": false
   },
   "outputs": [
    {
     "data": {
      "text/html": [
       "<div id=\"grid-container_ojfNDJncLl\" class=\"grid-container\" align=\"center\"> \n",
       "<div id=\"grid_ojfNDJncLl\" class=\"grid\" align=\"center\"> \n",
       "\n",
       "<div align=\"center\">\n",
       "  <div id=\"graph_0XJU6hDgk9\" class=\"graph\"></div>\n",
       "  <div class=\"animationInterface\">\n",
       "    <button id=\"play_0XJU6hDgk9\" class=\"picta-button\">&#9658</button>\n",
       "    <button id=\"pause_0XJU6hDgk9\" class=\"picta-button\">&#9616;&#9616;</button>\n",
       "    <button id=\"prev_0XJU6hDgk9\" class=\"picta-button\"><</button>\n",
       "    <button id=\"next_0XJU6hDgk9\" class=\"picta-button\">></button>\n",
       "\n",
       "    <div id=\"sliderContainer_0XJU6hDgk9\" class=\"progressBar\"></div>\n",
       "    <div id=\"counterContainer_0XJU6hDgk9\" class=\"inline-div\">\n",
       "        <h3>Frame: </h3> <h3 id=\"value_0XJU6hDgk9\">0</h3>\n",
       "    </div>\n",
       "   </div>\n",
       "</div> \n",
       "\n",
       "</div> \n",
       "</div> \n",
       "<script>\n",
       "var masonry = new Macy({\n",
       "    container: '#grid_ojfNDJncLl',\n",
       "    debug: true,\n",
       "    mobileFirst: true,\n",
       "    columns: 1,\n",
       "    margin: {\n",
       "        x: 0,\n",
       "        y: 0\n",
       "    }\n",
       "  });\n",
       "\n",
       "var graph_0XJU6hDgk9 = document.getElementById('graph_0XJU6hDgk9')\n",
       "\n",
       "var layout_0XJU6hDgk9 = {\"height\":550,\"width\":600,\"hovermode\":\"closest\",\"title\":{\"text\":\"Animation XY\"},\"showlegend\":true,\"xaxis\":{\"title\":{\"text\":\"X Variable\"},\"showgrid\":true,\"zeroline\":false,\"showline\":false,\"range\":[0,10000]},\"yaxis\":{\"title\":{\"text\":\"Y Variable\"},\"showgrid\":true,\"zeroline\":false,\"showline\":false,\"range\":[0,10000]}}\n",
       "var frames_0XJU6hDgk9 = [{\"name\":\"series 0 (F0)\",\"data\":[{\"name\":\"series 0 (F0)\",\"type\":\"scatter\",\"mode\":\"markers\",\"x\":[5709.417985552642,3667.012900683281,408.6629759120897,5681.363259410756,8436.05948749517,2663.7646197584672,3682.75783444747,2776.589581013905,7924.286495424253,2323.458827400824,7422.094929504725,3294.50237016362,6573.500776582582,846.7567991631164,2133.3748839912946,5402.334746051477,2239.552316647735,2616.076003130332,1042.6019660984564,9894.418211680932,772.7274062358603,8807.357659356712,2331.9820365658807,8401.001121091815,4394.673750679801,8770.96380861397,1105.0714058252997,7384.660001093684,4007.830859840428,1537.4770376180525],\"y\":[4217.688043737927,9394.333166573024,3071.9459484889057,3610.817183109767,809.3638785994151,6259.901390360999,3035.7782291898825,1330.2306474142267,8879.880514038085,2435.6275754674116,5478.098304322018,3514.3479132794796,3577.698778015493,538.6582011201757,4090.6204064809203,2844.6459790930257,6001.854964563543,5279.1827314166385,426.5038923757125,2502.2926608338357,2266.165953134761,6441.734096785127,941.5922295632784,7941.4888753252735,1334.3490755264909,6352.506449859212,9271.560441110052,2364.070581091525,6706.926010683813,2355.4567180866325]}]},{\"name\":\"series 1 (F1)\",\"data\":[{\"name\":\"series 1 (F1)\",\"type\":\"scatter\",\"mode\":\"markers\",\"x\":[6916.665658431518,8454.266872051514,1425.5502758472105,220.34566455735205,7546.807294579826,8239.152676803138,8057.660892386348,118.76624945432957,4993.120376453879,7559.480036078403,5334.130222005443,2829.5989279624623,2658.3404632248075,1567.2050688441198,934.8388135865727,173.21827188160333,2556.694011912112,2910.174421503765,5551.879588161,324.17635640168197,5485.087009743962,4821.07093583117,6807.35470634368,5614.965477376528,9930.872275528201,7196.86492730795,2862.496506239868,7718.867814018984,6237.50333118685,4936.649504470058],\"y\":[4627.109284580701,2687.777939971642,4277.885009347988,4299.888564249117,2363.094995945181,6221.281954796515,7426.258657392969,4853.738407311185,7173.088694031012,7756.167039936341,2972.967623093724,1697.250964592364,374.99812277766,490.91997132768904,9292.465719209062,5081.900844458937,4085.508237094817,3297.674151775005,3053.4519016988315,2292.0281113858164,4470.372165741055,9624.444508999355,5551.02191827191,9705.417681929248,5066.581762819845,7953.386882974624,5844.249459932991,1323.3873874122814,1341.2715247061924,8156.208413818424]}]},{\"name\":\"series 2 (F2)\",\"data\":[{\"name\":\"series 2 (F2)\",\"type\":\"scatter\",\"mode\":\"markers\",\"x\":[9798.624516408552,3741.3915111368556,9224.479392554744,8175.744346614112,8361.287431988263,6525.28790887283,9737.650723614992,5863.105039138961,5438.019823680184,1265.0604925267096,9037.037034134533,1512.6971605254757,5594.462279637612,2196.9246164599385,8200.910631794828,7662.799936647768,4470.050275650712,6216.388039255519,9911.77744942019,4067.280154346148,271.67138134231215,348.97839855654644,9819.537569244596,7394.412287881172,3005.0628806790814,301.98847361788904,8818.8101278478,7171.664445728152,9205.488062402192,4589.733664480597],\"y\":[8733.401449587354,1770.7022508465432,3845.23972406673,4906.452849477873,7973.16682508296,814.747984630475,7824.039206984573,4915.127654168197,5613.272297103188,3290.831311422584,8989.41408436505,6427.135892964282,2043.1402429532452,3862.3501093732325,6987.649994538752,4066.7910395698136,1842.118832845574,3402.7560609428365,7411.9342642845495,6946.467882161524,9861.184721411186,3609.069734920648,8692.817062100265,8622.146115809388,4624.754054190295,9704.317050712623,5967.137573923508,4655.8536846530205,4113.943661985806,9700.872791577238]}]},{\"name\":\"series 3 (F3)\",\"data\":[{\"name\":\"series 3 (F3)\",\"type\":\"scatter\",\"mode\":\"markers\",\"x\":[9765.07456048595,480.62280793305433,7752.384722791875,3472.0884347760716,3770.998133379728,945.2209110038401,4987.965310189901,9967.467715000343,5142.313884343455,6910.053650396731,5248.633187069468,6307.047891015084,2911.508771794814,3572.279179522151,6247.669306661181,8203.534829230844,4850.118936352974,9817.31444712438,7623.590465853912,7186.129179135643,839.3616584700569,7825.55505808937,4722.126752091538,6437.87073332516,1270.6818033641475,7407.268714548158,2962.463431382446,3708.7239036748474,2290.4883156323854,95.2640078463285],\"y\":[6677.217313309636,6729.5094354710445,5806.859140144045,3894.0807528171326,7575.380457196633,3827.1886566022063,1092.0240210184872,766.0797967060317,7049.722166763385,29.88425089673563,6542.933765990127,5428.960439474756,3434.91635747323,6850.4264173285555,4703.256430291703,5845.86829541576,19.920702610037864,2150.091685915294,1003.6413973550251,2908.3993008795396,2127.898971686778,5009.599800306434,6843.121713826254,9244.444410505559,1899.2497111546636,9372.321100896292,613.027692289344,4826.963861395592,7548.061275871711,9375.040930215979]}]},{\"name\":\"series 4 (F4)\",\"data\":[{\"name\":\"series 4 (F4)\",\"type\":\"scatter\",\"mode\":\"markers\",\"x\":[6055.8124337159625,116.41556507297923,9809.587833944133,8744.511300000884,5954.69605138995,5838.706347168088,2056.0995117375937,6413.421122855586,566.0569537691407,2182.1756226417388,2130.729291169594,597.2967228853165,4435.010382484459,9191.256583841932,3333.7033755736743,3974.2407558888794,2275.6346828526166,4441.109759317728,9192.608848120699,3322.307887981796,4450.8136462684315,3696.6555375677567,1658.1155544466908,7994.703327131089,5252.689552049776,5191.075297067111,5188.8388285948995,2950.884813754062,2663.2257195737307,8402.99754240315],\"y\":[9823.788365261657,3712.035649148296,6565.403269280775,3768.2163956367485,4788.124086812825,2572.2694831468953,3479.0837031645506,630.9374166223103,437.69560375345293,7672.317358288788,9811.592018448513,6921.182458819075,420.1137340862382,9130.33764224881,2341.5847089666477,5539.130479617521,7814.866241391833,9324.880867356114,4195.787029171401,9233.804352785563,8712.255010248986,7637.932794637555,6931.696414294705,7882.664279608829,4200.698747819921,3491.3459086185785,4505.365887916185,9510.297770650246,7054.20995874259,5347.866780246944]}]},{\"name\":\"series 5 (F5)\",\"data\":[{\"name\":\"series 5 (F5)\",\"type\":\"scatter\",\"mode\":\"markers\",\"x\":[2881.8972806284937,9128.547585153734,2546.6206651520897,7498.349870870537,9837.290471737735,7537.0517897951595,3766.3979856868814,919.6458514169525,3103.806136567282,5592.31507814425,565.6549684660639,9263.037108664774,1427.021281165426,8135.068305334693,7849.22786755378,6120.98834859916,2331.2683124254463,5759.816207009555,3294.4577643093676,5120.369097983581,2431.164574983693,1917.1128449422836,6789.579531059789,103.19400596650597,980.4570575231952,7458.243881096801,3888.3856578052955,8681.320032078129,5015.418879696758,4663.638499608739],\"y\":[3401.099989459182,8789.428977742733,4928.554223885724,8040.470049337961,4876.160245904947,4511.01563392441,2599.38048017472,9731.549063491077,5174.875323475373,4414.98773308755,312.57289621245076,3246.7506242036316,4600.688141876329,2915.884025856307,7609.773942730383,409.85976465989336,2117.040483349233,2758.595537823856,4949.883791161249,2907.8589709420667,6072.601827908678,4628.876209306627,7593.664967444047,1636.321158363494,1549.8911099218315,8103.813192383712,482.0078822919116,4153.714669935263,7963.082348626225,6681.819854316043]}]},{\"name\":\"series 6 (F6)\",\"data\":[{\"name\":\"series 6 (F6)\",\"type\":\"scatter\",\"mode\":\"markers\",\"x\":[5043.223781653983,2989.0659802271302,853.0574375968403,8469.606477660695,1843.239830428598,5291.565654583314,9962.526087651493,3253.970731769156,8783.597936051747,7367.344605511384,1621.305892710374,6149.144436836902,3155.6604289545576,6017.790358043024,7231.61954573882,7785.822284267926,7275.456680329794,2275.4085393189794,1215.5274815780415,1095.88618815746,1652.105251502074,2127.3805789352273,1171.3850331704045,5147.236103979778,6683.773751941749,3123.6069133218657,183.47820921793766,7196.0206202381805,3728.6491271612454,5385.165366353295],\"y\":[6238.754563918866,5148.957315143508,9064.404272917702,460.75638247327635,6526.832783687737,3966.3218686288824,9728.169532851227,1722.8437123388162,5034.243879471131,1186.5744258206469,8520.02474896326,5551.848279689538,291.11438834301896,8716.482168503237,6556.551880738803,3425.881807302805,6388.278897928642,305.9904032902128,5676.995069534363,1215.1563276927902,4455.061851460783,6714.983119552461,9733.099119795672,3474.344956238389,3672.7452496799897,3479.462377006146,3334.7056171579225,7332.8042211451875,595.9994542268931,9397.572247865965]}]},{\"name\":\"series 7 (F7)\",\"data\":[{\"name\":\"series 7 (F7)\",\"type\":\"scatter\",\"mode\":\"markers\",\"x\":[8976.707362780608,2701.7189426278487,3064.318187149959,7381.277394067607,8638.972482509647,2948.8586879457434,307.76973795591965,3157.402399103386,3929.3706282901308,2935.7895222796647,3986.137643962455,1452.1233447549798,9631.042775931995,9369.010099535226,5847.790900757634,3755.899581142431,9118.578271809007,1785.6389318177569,6454.391020933471,6541.21853427403,6523.773255421045,1175.9015452144683,5989.804881465687,3893.4208883262654,9760.164693631321,7238.824294262474,2556.364972458722,3915.2631160803953,556.5441872594267,4574.169706920202],\"y\":[5558.8743682814475,3978.764176687165,2503.177803309885,2732.796582908099,1786.5300373107996,5923.274149293316,5780.470094702164,4979.261355190235,9625.194904454343,8636.594027996613,7718.324412894404,5864.628378697702,2467.220057962707,2106.3663779837007,1625.4728126654638,8264.085002965956,5833.282042085213,3991.8444054198308,2431.5588150987487,6403.107964713002,3980.467028703,7041.54340057187,6600.775300075644,2577.5635496207383,843.0969596592053,3270.161570049476,5504.374730314513,1767.264193183984,7037.559649652885,8708.557229300728]}]},{\"name\":\"series 8 (F8)\",\"data\":[{\"name\":\"series 8 (F8)\",\"type\":\"scatter\",\"mode\":\"markers\",\"x\":[5980.382447392093,149.14827142613495,9359.673847155993,753.448927695175,9162.364419919617,635.3854055829811,1712.8787018640967,8668.905452873887,8825.10859756016,993.356787094729,6727.809568617385,6629.5783437791115,3473.605522328159,7848.592743388638,5468.582363485294,7846.0210964980515,2192.71585723951,2928.3984093496006,8568.380619653688,7775.328031092414,2878.44186792187,6273.032694706403,5896.6956997629,4195.723423843718,2887.7256732786273,4822.9492876418735,3432.847517239833,2011.609834629019,6372.216072594557,3784.749884883196],\"y\":[5405.169474742871,1055.9896180408723,9602.4648455546,2485.137996251443,6952.510521695526,5870.050861129159,5442.519793520863,6041.303093657781,7574.47451287408,7465.109849276695,800.9103137940266,9107.807623676868,8459.079137880459,8409.987732694959,6362.523246676829,8204.186773583164,7411.286551084393,4237.28857183838,6196.893814988326,4684.113154904384,3553.1171348304338,6124.941615859967,5941.945473881034,1276.1206797335333,225.83175833783886,2084.7556757551665,2178.2293334090195,1307.5184888284487,8596.926052406096,6477.629548760286]}]},{\"name\":\"series 9 (F9)\",\"data\":[{\"name\":\"series 9 (F9)\",\"type\":\"scatter\",\"mode\":\"markers\",\"x\":[2337.230460656681,1217.2710030191492,6359.449874900703,575.4471321330478,4028.325855446575,3770.2567252912045,5608.430349790427,102.5816333994234,5022.487388933741,1504.463158430086,1488.9406034707863,9215.32136503944,296.8485747957761,7374.312327066199,8532.625003738329,4215.420584230036,522.7616905134691,2297.452079223855,4734.254153205378,4444.370169467417,7170.989942624141,7368.99318709627,4367.149978013171,2267.871337399505,3011.1977930175826,1876.3084547442654,9296.089408133808,8835.390184719417,3198.9133357173137,6929.149641689052],\"y\":[5118.552744442616,7387.558031446393,1371.6549343322172,8513.987731462028,2849.9618875888355,1284.573668234147,7216.932450871489,3088.106746346456,9065.802010429936,9641.655989288933,6828.340439041826,3448.1414325115265,7423.303703544022,9482.98495172567,4831.988825997775,2539.3706547276884,2307.6139078589285,9663.457427902893,7744.020864287649,8116.233666506604,982.1577569971685,8457.981548175825,1310.9893296098273,1721.1708725679687,4070.156256920224,3680.914278699028,688.3775692142924,1318.026925763881,5454.0305389553405,1473.6459190199048]}]},{\"name\":\"series 10 (F10)\",\"data\":[{\"name\":\"series 10 (F10)\",\"type\":\"scatter\",\"mode\":\"markers\",\"x\":[1228.5662426771082,8097.905113011232,1751.689403082304,7486.222581944523,9378.06242157329,4469.496393932008,8413.462872435093,2079.286199514501,7724.823339137016,2052.541596138997,4180.708272159514,9385.507740419323,5590.023250385213,5612.240811963081,8156.884376643784,8595.072860202918,6724.628577391465,1304.0488719149291,4064.1495806242488,4667.676511262058,8649.657216920787,5342.446067686552,4393.312405365872,4823.87012400773,3970.0200128308384,2263.911958135042,3102.2223641104606,6631.4946486674135,2595.3553799091023,323.46769527674456],\"y\":[9277.456993889133,3278.327403232294,5217.280253798657,5245.7971985050235,5746.428965005333,1709.9561508954953,2621.002513192028,2546.095080891012,6011.796962337281,9712.290842599541,2450.2504668824486,2942.4303693816946,77.33680274464194,8731.00488690016,4897.992695018109,5000.557674811006,4744.18818820326,245.59986008080514,1461.439030426731,4083.7464914923703,6778.662926808022,4853.669117113033,6378.323609607941,6924.337272962757,7987.564800107142,4871.328846148843,8652.49293642717,6690.380420023301,9684.233985709674,3218.6779538346445]}]},{\"name\":\"series 11 (F11)\",\"data\":[{\"name\":\"series 11 (F11)\",\"type\":\"scatter\",\"mode\":\"markers\",\"x\":[3680.333581957218,4289.848232769994,288.30034054319276,3634.5382426555084,7405.590392463094,7836.5534656413,3874.3875607884183,9852.612899694625,2658.6422748526716,3696.0491646757464,9369.786445890377,4271.597173625028,6877.319371066145,9336.424002252648,9798.369973006242,9864.66477623109,2759.857355433538,328.04699571117754,8477.795122875377,2599.138794425303,8566.604656001598,1267.960964847873,4399.302248506304,5475.055961079473,2765.6108169886284,3148.7561268828335,2154.1843304307895,9441.71343733458,8508.243289982724,7748.405734544903],\"y\":[2718.2682335524455,914.1883365487869,7024.487635850652,2986.67767857658,165.51242459692307,387.19945336725294,5443.615816172114,1875.382580777889,5954.093936897982,1731.5830520574339,3774.406351258526,1683.8572989184763,6813.121398927272,7159.035263754196,7820.129865229086,9247.721146087422,4455.376188025129,8553.671385619462,9657.019090926737,2968.0880939127696,5351.252019354504,1894.3364697491006,4970.964299820954,1980.0534531394599,6621.324995437077,7829.501391243088,7025.688171500872,8213.417228803091,9739.754734784745,8116.957138313665]}]},{\"name\":\"series 12 (F12)\",\"data\":[{\"name\":\"series 12 (F12)\",\"type\":\"scatter\",\"mode\":\"markers\",\"x\":[326.67054286306563,7625.247205795104,7187.982685333063,4603.422672170411,3148.605977074521,2753.0219399131483,8457.95700368541,4694.5626141260245,7010.200418992507,9918.73987551534,876.381299122021,4853.809719989211,2908.6181506731045,908.5162631278165,7606.250694416933,1568.7706657852284,8666.916613999732,758.8336312893463,9879.20006350646,7436.88891626057,9101.313449118557,399.75056748645767,3021.9614661723617,8547.428689185219,881.1518779733362,5337.014635794969,6162.487019295353,8174.730456257079,6932.943052895255,9299.166317636416],\"y\":[3636.063117722905,948.0862346227093,1030.8792608641515,4832.35982071804,2059.006697183504,1126.466938694093,1819.7312658207798,1194.770165275324,797.2988853392048,8381.726780816316,6932.0533222419845,3584.0928012940108,5129.776809069075,4581.803531833299,2090.1397255896636,6725.787185626928,790.273049615462,5465.81943801164,7124.1891488053325,156.35137244626284,5770.353682478376,1815.8792991726825,691.6499657201614,2155.0590727126173,274.07386399069145,5755.756515006413,8148.737258772239,4209.23040725299,8538.434398558591,9144.543775538292]}]},{\"name\":\"series 13 (F13)\",\"data\":[{\"name\":\"series 13 (F13)\",\"type\":\"scatter\",\"mode\":\"markers\",\"x\":[2503.622650176056,8142.246438911115,6867.991835246508,2683.736514683349,6671.819960113955,3590.160588460254,679.3324554811231,6319.112325599598,6357.800481861937,4381.899616958185,9610.89593339764,3794.154097042223,6802.889849462733,8559.686719267258,3825.8924590246193,6799.659234723245,3368.0136278045993,8270.461207698168,6520.826918377164,7064.5651424865155,5460.873708975476,2565.7089498279183,7349.406399127426,7945.916311017923,5670.653693643515,8266.260226885008,8981.376544914585,601.2821213626485,1139.3661387690368,1480.2473129334926],\"y\":[4338.09351240566,3664.833489793562,2177.4744196907836,5106.563106001372,5181.4086292590755,9498.667529978124,3922.429551192159,5712.793128837757,3679.704426781484,4553.869293793396,442.2859507473664,6545.741921934129,7334.688429466022,6151.184994939115,7102.571197543379,2114.3107274275408,4224.816133071952,3079.0700991136664,6243.101969523111,3778.624737945806,9905.981612811416,2807.273496353867,3252.453331959215,5085.951036043361,9507.37617000301,3827.0019623502194,4981.304534190603,213.08686615833517,8570.18605830257,7654.103343166969]}]},{\"name\":\"series 14 (F14)\",\"data\":[{\"name\":\"series 14 (F14)\",\"type\":\"scatter\",\"mode\":\"markers\",\"x\":[101.90099910008854,8806.538022461344,3999.061300900324,1369.598652752516,1499.3859844261626,5755.949945645452,2131.0569482858623,8222.279574688258,4071.771820502754,4992.893788172142,4374.011378201521,780.9853980933779,7418.836109229286,2276.248465913985,2126.0908558115334,8399.554029284654,1816.2466782912456,3107.0630779505946,1760.5022584311746,8345.344595738203,7599.728650961633,8409.925488969717,7344.128015157595,7842.607954502559,2625.1076827718534,2424.497561928011,3456.11987939345,2494.882178058102,9823.57884066973,4370.024873846114],\"y\":[2982.2373645857524,5075.970199385222,7037.562248098367,7877.267436189191,5082.9967545205345,7516.960660153268,4301.0270077079795,9926.43527478648,6668.447497539108,8067.129063456632,9519.178246922762,4086.358090402814,6659.67575284657,5069.458825629735,2105.9154138719714,1219.2553776261773,6076.88222539591,8566.905450839502,5553.492868013668,4497.116482780889,8566.161599981375,1043.4214706926425,4137.318495959308,4569.837806233892,5361.868730866477,9004.146074531189,5999.855155868826,5031.909515730091,5878.723403931729,7812.061770002347]}]},{\"name\":\"series 15 (F15)\",\"data\":[{\"name\":\"series 15 (F15)\",\"type\":\"scatter\",\"mode\":\"markers\",\"x\":[4711.0900161834425,7953.577810797276,137.57545052563657,3223.8001124741822,4069.067762030255,4174.057934903559,2051.010503789652,4405.179610050701,6382.488421944819,3298.5060324570927,3229.7474420504004,4857.443201345571,2768.3884086690205,3897.1043942314786,5418.0453176645,9648.0552497542,5101.4457770299905,5273.750189476539,5926.095704102958,9615.309114964139,3167.4544334799493,8353.484052516436,4499.652880175088,5803.885751840615,7302.039107051379,4731.928481222712,1951.9087259693547,288.89442884977854,6336.692034040238,9736.655226584786],\"y\":[579.8935025934859,2758.821384057467,3027.7281055880558,7469.533520176607,3897.4454916087507,5753.194059142248,4309.774847271034,3230.754964807089,8539.056681334765,5288.669210261526,1693.9237807872653,1469.3747291492564,4323.6727762997925,7757.636479186906,7921.69132148756,5461.841312809861,9414.78291140177,8446.323231086068,9589.446698974838,8289.137194356515,6272.9106544047745,1794.775682430545,1873.9855911826508,3364.7852725465154,668.8727970778951,8608.983749390916,718.4406716329239,6760.121856792054,410.94674675813513,835.8041500807756]}]},{\"name\":\"series 16 (F16)\",\"data\":[{\"name\":\"series 16 (F16)\",\"type\":\"scatter\",\"mode\":\"markers\",\"x\":[9878.734217755711,2879.874897101964,2636.3473597621132,224.2309081274363,5084.302255926735,9660.228385312328,8527.182902682549,3221.9511192353143,5232.819706535876,9393.193106788507,2133.322437012113,794.012617131914,1017.1903505167845,6525.244496286014,5619.377154819136,8500.826312115256,4674.064727933297,4334.832637482906,6700.257868940142,9135.60920877629,646.6757352976871,8262.502392669428,5289.542481106685,7496.772006498377,5870.790411758906,4849.011122372605,5457.146824719015,4458.639434832231,121.09669944515566,1730.9664598894137],\"y\":[5677.565137590598,5404.287407782671,1396.3576506576258,5950.14711035777,5047.203804674502,6297.167834797495,8675.179190801933,4951.814903052004,5659.105512006786,9193.58544606133,4540.258581491467,7078.960990852608,1645.6191294131506,7835.978311558038,3147.4885995597824,6113.575365039032,3534.3440383037796,3117.3481193077546,4807.317255123262,7472.6630438429465,2509.9361417817777,7670.074466175428,7049.269895634731,2035.8795196909318,2934.1332594031446,8607.73789834857,3456.562565618182,7263.289679217078,3048.6197526715555,7536.469665027868]}]},{\"name\":\"series 17 (F17)\",\"data\":[{\"name\":\"series 17 (F17)\",\"type\":\"scatter\",\"mode\":\"markers\",\"x\":[5786.245393361083,4255.899585364379,3170.120441006622,7352.732134287143,1931.3380372492118,3718.253884022977,7884.373674050002,6057.330594844061,2134.925894325885,3401.5251220462674,3755.402941337169,8840.84103879359,8532.208634597311,4537.167886930867,6888.772958577057,1033.5354162130604,8575.003811417126,5015.348496236495,5322.276492791378,6163.27163306959,1184.227629510507,2619.003388001937,9664.771051833686,5327.709302533871,5579.385589529294,2493.5165572172136,1663.6426982097707,6362.600545584048,6650.1270429739025,9213.652056908008],\"y\":[4453.646560908897,3875.799741586626,7463.42926928472,5303.513705171339,124.63507817859876,4117.018575928474,9040.992683998096,4871.946804825552,9942.950211972298,1866.2555042762297,9894.94845802208,3144.9381415989196,71.02751337803804,49.207446196586346,2975.9878251186547,108.20809777077334,952.0150399097072,6625.869348050261,5666.546244730456,9217.333725779354,1660.9877711516674,7448.915755056328,9242.686611119905,189.37708319787583,1471.5936354102432,8251.349328117538,7831.839205593294,8259.139600257075,9646.738544701822,3698.2909051342804]}]},{\"name\":\"series 18 (F18)\",\"data\":[{\"name\":\"series 18 (F18)\",\"type\":\"scatter\",\"mode\":\"markers\",\"x\":[3309.580421011844,964.7977859704371,1034.1830338907632,6525.679007486559,1807.136154407717,7521.821424708976,9432.686086382504,5189.033497340054,9542.320440541811,5150.712008173201,2891.6002520822426,4158.331513455992,540.1339452118792,1343.244369514508,5116.58460044149,7020.435358593177,6475.256163496816,983.5277732638704,4976.373005471671,8888.397657070662,9347.191926647842,2484.353422020187,1740.292676887203,1267.3649398652465,989.8364318394714,7655.925023538013,7123.503918558278,9489.691498553255,9520.748472979685,5893.220039232371],\"y\":[6476.687026105591,107.25879230825686,1751.4316153462928,4449.860827016997,529.1755178325063,3216.897226009697,2308.4402227188816,3060.5216685055657,5979.29776802379,2595.187403236048,4756.142572215871,2980.5366851449644,7922.954542953923,4731.817079633932,7365.490206491481,7630.512201384583,9621.22464948714,6376.052982142687,6339.156257914371,4465.389973887336,5430.060705368145,9048.78515728551,2281.9228873958973,5431.549211615579,849.8970280360385,8122.984125763461,1496.2122081155317,6432.171588076238,9600.261037542183,3538.3086963109067]}]},{\"name\":\"series 19 (F19)\",\"data\":[{\"name\":\"series 19 (F19)\",\"type\":\"scatter\",\"mode\":\"markers\",\"x\":[2286.171922956819,4590.239395245588,1384.2440738007488,8990.988752158404,7869.741774659406,5780.174727321753,5579.953099413104,6527.998612743897,1726.6421736969485,3893.26530711072,5480.831247672324,3874.929115236939,8251.24337181153,7608.673987607963,4903.998110723626,2539.8540965055795,1432.7873715895068,60.95265096428548,3995.5312211012774,5760.880513220977,6951.453749101612,1726.639920410099,3883.8692874963076,6702.960585047785,8557.268326174471,7096.646954492078,467.2893935014966,8959.935043773463,7889.8823478195145,1257.7897880737032],\"y\":[6068.673992628348,3380.666584612686,8000.750920933143,3375.9550866699637,3950.5452435710963,7513.515819085803,4755.26600073284,255.03796365856758,4755.6168415038055,6551.299481116264,7020.909746279459,4639.919927170372,5822.874662396685,7559.262025075708,6088.510063528382,9738.408417621891,4026.461553041385,1981.485139276138,7127.1977393497555,3556.1861039644205,294.414579158544,4946.546438192754,639.6777823959198,4070.47147294474,9286.557718499127,3731.131059462406,9862.945069246181,9012.22324618116,845.6310784954935,1890.691073895434]}]},{\"name\":\"series 20 (F20)\",\"data\":[{\"name\":\"series 20 (F20)\",\"type\":\"scatter\",\"mode\":\"markers\",\"x\":[850.5889943676459,2083.3677926168625,782.9922901109177,29.138114409441584,5576.348755502539,804.6663820041455,7319.996716189493,8954.941164686697,4814.59316858132,9871.48081250849,6078.431440335487,6058.902050877576,6781.918568107776,7888.836575905607,898.1350284790868,1149.2588949407977,9565.074979354042,4663.822446189311,9957.211029170916,3692.6679157574736,213.93645002493966,852.5067249106266,6679.999804306891,9435.002976367105,1044.2622621121056,1690.1923061477885,2740.2434909836793,713.7980701654944,4173.497916267228,1777.970020256139],\"y\":[6101.647041304436,1424.5539267218132,8603.8892531516,8455.173554337447,485.2963235671981,4566.019707737664,270.6930429980381,7156.4790488752315,3913.166037232465,7564.947037793844,4389.286677908779,3334.029873334251,3049.2145357331046,8168.711274071847,1163.4931910366186,2019.1150527282964,6944.328059220638,1594.5781851881002,458.4547924644966,7904.561530131114,8488.639330423744,7837.291542857372,8394.90264185814,5948.148987418025,4384.518968018952,6562.042156252398,8987.685653049517,4928.98912167293,4775.793069969148,5847.773651368131]}]},{\"name\":\"series 21 (F21)\",\"data\":[{\"name\":\"series 21 (F21)\",\"type\":\"scatter\",\"mode\":\"markers\",\"x\":[6929.940619917582,4132.960380114897,1803.5162512615843,196.16797811897513,3415.294667082723,6399.92126052469,2305.8886864356587,2684.547031294547,5494.014444008142,9134.572424480513,3639.6722981012786,5916.313529910107,875.0258378638531,8564.473821200563,3172.729038835296,6510.449910119454,4314.246673780362,1522.8684930515547,1382.0686160459607,8271.97997227101,8770.691874039916,3340.599762261328,5689.055944764947,9898.191966252003,4365.319452824282,50.55304962587215,7173.20140674537,4100.810438947949,843.6124583797999,8039.694387993233],\"y\":[5128.212823622562,6362.195252048507,4721.396306737605,4527.91521307355,5058.762531007137,3194.037025347595,584.4129645633255,7809.53633137435,4163.684031730707,1729.9105092427158,7115.68854638989,7062.463841073103,4611.077397377189,4758.43329173239,2340.7450538741027,7711.629494670541,8983.072665846257,7891.674085187994,9309.222287974831,9827.491118596958,4152.762090930375,8463.840115784036,2972.494197217256,3847.0052607916205,9553.078350764697,8968.16741731131,1370.37495369418,23.63001787350605,3307.163735297797,1365.325464951167]}]},{\"name\":\"series 22 (F22)\",\"data\":[{\"name\":\"series 22 (F22)\",\"type\":\"scatter\",\"mode\":\"markers\",\"x\":[9406.033095659812,5444.550435267258,5012.039097177775,2434.5418354898884,1466.7383822524193,5197.46730851563,7102.14513797801,4489.039143284974,9939.088354594769,2325.921349560284,7666.600012091655,240.2702772214138,270.87629541871604,4581.274876839805,6353.775849313474,5370.827180998147,9647.77618097698,4661.1071268853575,1569.0684031101987,7463.789335850886,5581.533473352642,4617.921554606313,1556.4943359638705,5336.668039038007,2747.3767684118843,4428.706490058358,4152.022007698206,8540.994652335341,1261.8628203282567,9335.028141698864],\"y\":[6.301536612530745,2813.9909010666543,7258.405002190352,494.9768657135389,1896.7296652118337,3606.6494200250186,7096.23057927951,8732.428195503182,8383.549383150515,6462.94262098154,9829.54171012683,1725.7214310124946,3511.9478100497536,9987.77281273833,8667.164312179595,846.9968989738375,5521.886268708113,4416.660692642848,1068.9871891134073,5045.076060931636,6599.655605485143,6388.066093952436,8854.00502226433,5658.910058608233,2589.9226732492643,8419.620225551429,4235.802052810819,7855.25712838646,6284.291873014677,9802.44358991577]}]},{\"name\":\"series 23 (F23)\",\"data\":[{\"name\":\"series 23 (F23)\",\"type\":\"scatter\",\"mode\":\"markers\",\"x\":[5054.823043223177,1503.3981520202367,412.17885359288164,4153.112516661092,2642.793032569721,6731.334424959282,6782.053582046539,7700.726508021827,8733.168235582118,7152.053229501421,6155.876989012711,1536.9217864586437,3622.5116827296633,6805.090527017743,9386.823301594566,519.565814674986,6391.205994269152,5227.756196965612,4110.141253901621,1296.2586380710084,9407.924888987778,8752.030651473358,2849.281131969631,2001.654910702556,3570.8123643014546,5117.2837002750475,7784.166346006812,6583.017031050213,7779.320288107261,2795.6023143106577],\"y\":[4625.771721884995,7421.293773689662,5984.182078264928,6045.65893459414,3050.9196553553866,940.4134031013577,7829.0098935001915,1642.6918908741973,3973.4822614957898,2235.369701133644,4375.5181186594245,3476.307163391117,4562.93767688256,6400.072272712812,8695.395556495409,6764.456422468562,368.49646885392383,6198.814759172739,2215.361163634554,4501.080345239321,166.7787971439183,8000.621351796244,1617.9539698905653,4936.555160555399,3223.288432419764,483.60261209409174,7829.124464451267,384.2114295210064,542.6973049549533,3516.858638650624]}]},{\"name\":\"series 24 (F24)\",\"data\":[{\"name\":\"series 24 (F24)\",\"type\":\"scatter\",\"mode\":\"markers\",\"x\":[8164.710133511259,4452.843588945151,1380.216186211327,7840.349829264831,5061.394226827701,6924.262793691266,3796.0981486360356,9688.549826492012,9983.757807940272,2926.5910625062907,3357.5796997961747,8341.580097860377,9077.560522963819,5798.130053757132,7227.337960258354,8737.926618996125,7930.388947099842,1093.286069388395,1824.8035322357737,5745.71725759754,6404.338135851094,2551.163559961136,1006.4319440747538,1464.940339287778,921.3980119247789,9529.090329787678,8283.309800763,2020.8678955265734,810.7421391443226,9397.470522957903],\"y\":[979.230286885887,5709.339263155809,7368.120101071326,7699.005365722292,6429.640446703842,67.45695839814547,9131.081115974715,3494.461945118225,331.62942447263254,1468.627117665664,4539.767385289253,7248.812680340218,5177.39362986012,7178.777493188416,3631.5279771039845,3855.7027573949977,2338.3741477471876,6460.970356384333,3708.627475267856,3954.852298814141,4814.536437613934,4278.519388908519,21.832846420448693,2566.131944088704,8923.020129584764,8422.113366023394,1428.6806844969524,5245.69849966611,2272.6561322674443,8474.336218624834]}]},{\"name\":\"series 25 (F25)\",\"data\":[{\"name\":\"series 25 (F25)\",\"type\":\"scatter\",\"mode\":\"markers\",\"x\":[2713.740432868521,8463.712024522301,2255.6147186334088,2925.364223825835,9799.207342039956,2709.799798256426,3984.7108562799917,8966.516023391863,1427.6737491093672,3951.573258352843,9114.65999312843,8013.7145563449685,1064.939956091725,1503.1420857853307,7307.845520689057,8850.817446704072,5749.247266556356,8104.712465070406,239.92076388635874,9433.15753455143,4404.326242317685,1070.9981857458172,3987.834019894475,7854.531622244662,6737.170696530838,1735.3093657199913,9402.639954882989,2756.260775888211,5257.465640956517,4097.828766146462],\"y\":[1641.7076121337227,3544.836215426638,7184.107902792187,2580.7254782976074,9419.723678061397,1185.0646702148472,45.28079182878009,3099.392877553554,1735.1360477515454,1048.5004568822353,4632.052060681847,1278.2442280252726,4838.458356268683,322.36222970848496,1631.4871127743756,6571.134172858547,5031.122402178836,3822.0057057508893,3743.779705490142,1290.6182725316107,3518.322136461516,3700.4252427158435,3378.921876155416,9106.903984546523,7986.572458776945,511.1438826946968,7131.94679694237,8446.483671718252,1836.4548097243883,5356.24005868699]}]},{\"name\":\"series 26 (F26)\",\"data\":[{\"name\":\"series 26 (F26)\",\"type\":\"scatter\",\"mode\":\"markers\",\"x\":[2151.797642580967,2402.0839626104316,6073.304292328141,5439.155553776762,6247.388473837473,8259.706082774856,743.3458725374553,8242.313686365642,3115.4395838450487,6555.169672404202,2500.057333706461,2762.470824695207,6428.185998264809,1691.718684628768,2395.3063614481594,9762.115096988802,1685.0714797285837,3581.8800162478838,3312.065299910958,6833.1149010140525,2711.06129683363,2520.9169377863327,9590.28387206611,8219.211297083379,475.21193231341516,7555.851419386301,2344.7556227568866,3806.841101354745,5506.665951102063,1983.1711504505622],\"y\":[2733.58661805284,6469.163137118385,1601.2429747558854,8289.98484786403,2008.1374507268101,2036.055339857874,7740.320946820859,8847.51890213413,1560.0754194852661,1563.2416871990729,7184.714927848091,7972.500650110491,8378.439441666877,1286.5907670595377,7559.775598800641,5591.102244460142,1339.3883586773713,1673.0297735325883,3413.9482657039753,2671.7718975011308,1573.5621775450836,3317.3990441835176,3211.5439726746818,3837.4091226664077,5790.761835716335,4084.967942229548,6011.496120380966,3123.9903961246764,4888.906344450929,8862.219696708522]}]},{\"name\":\"series 27 (F27)\",\"data\":[{\"name\":\"series 27 (F27)\",\"type\":\"scatter\",\"mode\":\"markers\",\"x\":[9187.38416562788,4721.8832669534295,1434.0059817693007,553.9102637349969,7460.02990040786,1717.7362685398157,8670.139050361713,8552.286944160089,5242.480331985908,2348.9657969879295,603.2028562827529,8804.752001167983,8838.210088407723,5089.5063953383815,7399.460839465189,7819.142530037989,2386.8927412293815,1004.6283928595846,2849.6835234855657,1471.1897129858132,1618.1041712458732,4244.268964513901,971.9376382089673,8316.610745079051,2451.835977844461,9288.46343647116,6960.85355190477,6260.678271943815,7275.716524606559,6615.103665283545],\"y\":[3638.4568391051107,901.0018580862711,332.34870792956286,6829.391349188743,8321.422659776092,3634.647084400204,5066.189895748363,6975.993209740398,6591.873024059024,7708.607076564097,507.91817670763686,1749.049561156787,8843.60559136669,793.0369371988666,815.2414436968314,6621.82370732731,2672.9046939194513,3369.5431302578572,1942.620999218575,9536.923263598863,9192.855087992762,3252.221022778312,2078.4000586759435,2729.6630772821763,4172.342961164523,7897.014740737882,7966.342439765673,6501.2836461075285,5535.689344883697,7805.3722402918975]}]},{\"name\":\"series 28 (F28)\",\"data\":[{\"name\":\"series 28 (F28)\",\"type\":\"scatter\",\"mode\":\"markers\",\"x\":[7519.599202857571,2315.3737574471434,7206.138713321269,6291.05284660885,238.6392441636309,3459.99309969197,5536.176382297325,3154.3389077772554,860.6971351311965,7699.625690841977,8639.92644731872,2395.7934947236336,8396.80337748463,7835.2406288952125,827.6391376482773,7002.092398770319,2253.479134502049,2897.3711383063105,4039.548972692041,7049.359066778295,9489.695531146031,4816.271796626937,5686.142142432103,894.8078698264295,2425.7094870006044,2844.8443928845445,7624.147367819699,3065.4054850687794,3798.90612456532,754.1736883089134],\"y\":[4132.322026085203,6602.641517838099,7452.79314062384,9878.147124694286,7698.374352140843,2085.394757106015,6148.807822348416,4452.777356333909,188.1275534406046,328.267694280282,4506.610695371851,4377.485188666897,3540.2983642612962,840.6603026660287,4307.062582149209,4519.742478266021,8515.026744053894,3532.2349194301814,1433.0870054292443,8991.115016197842,2221.558073517311,6863.322560326649,8577.1455405329,3441.8836350452643,5160.248791716085,1664.2080725001695,5510.061307385878,8353.066391670889,6336.328728946791,6185.121348491954]}]},{\"name\":\"series 29 (F29)\",\"data\":[{\"name\":\"series 29 (F29)\",\"type\":\"scatter\",\"mode\":\"markers\",\"x\":[9184.44793241714,1548.8027191069343,637.6181089103005,4589.155875236639,9237.012818552832,8708.700703469305,6115.667151288676,8063.223744554697,557.5199358132598,6528.890678474688,69.54754397680341,4997.546400069202,3508.2136680759168,4362.169458781355,1903.79297216414,4272.074627750148,4106.021076365361,6661.757518802401,7616.750703446473,3588.6160533565694,1020.8645205128919,359.83446149325914,5472.872404519613,3000.3473827528746,3596.9334954741717,8431.158314277924,4922.236627511158,2315.7693258896984,5269.778570594826,3323.7127288433176],\"y\":[1152.8640111304421,9892.06109000604,9730.607281125333,1682.472137707035,5796.148166701287,9483.177666924945,2980.176942935796,4849.007173601376,252.9922337045698,1270.9247545727687,3018.195325877395,7988.801884208105,1868.0097664308025,2982.635891494928,330.1548424178014,4379.788586138939,4751.407776855993,7086.970950691465,6562.043111333102,389.75167531838383,6432.942505706896,459.7385913111529,5814.385586834478,976.8873354508489,8729.599342888698,3624.543680655562,2840.5958754382145,5166.950637506288,6218.41351227493,7698.44397420863]}]},{\"name\":\"series 30 (F30)\",\"data\":[{\"name\":\"series 30 (F30)\",\"type\":\"scatter\",\"mode\":\"markers\",\"x\":[5100.620600921759,5892.061739104217,8528.119909480165,8510.699472438318,1099.383570042467,8820.379816396377,3298.0776750018404,9013.079183290476,5730.550491702282,362.50099963482717,5100.1875013509525,3063.087185235395,4449.647778700459,5909.568412998208,1879.2801913786839,5936.858916565244,2016.5886370330088,5539.730625942197,4539.725659666233,9516.367409990979,8276.172864792201,5923.721244146387,7190.7743691727865,2995.9723668104975,2986.1411406841275,3966.975629500322,5260.404230808044,3166.234177365371,4055.8845513656493,9844.837280449456],\"y\":[6197.225529790131,1858.3050125431143,8724.922574181925,4519.052170650092,2802.243070560915,1970.1021698897703,5188.776042112571,9567.886155843964,2367.0575930467885,7645.856314800131,2970.8848605166195,5218.843615342646,5742.343085145726,8643.521331202337,3942.726747525237,5842.102278533953,9220.207304951376,3699.9176899422614,2310.3164102678297,844.4271327455277,8686.30564052255,2791.3815475705974,1113.7748432323613,2897.4577004651023,9882.348276132816,3588.0692054806464,4827.678045684811,4740.911338935044,816.9006635780207,3112.9698161349315]}]},{\"name\":\"series 31 (F31)\",\"data\":[{\"name\":\"series 31 (F31)\",\"type\":\"scatter\",\"mode\":\"markers\",\"x\":[2503.4064148817956,420.3811982234451,2372.147035800509,1642.0618278306,3560.7364740586268,6751.049701476374,976.5515446694784,2219.9419045259415,8814.42442822518,6042.780475676915,2848.114535469951,5815.645978672893,2612.558195138892,1678.688943516149,2760.1935143570277,9106.27248091237,8066.957373045588,4008.4342706973976,1541.6140407421697,9151.40808792571,6271.926019542582,5199.11857779935,5595.0721881854115,6809.2456446265705,2136.1743213562945,8180.813734973173,8602.588472840975,8645.678954745874,3993.7408593901037,6630.38237385717],\"y\":[284.04096400355684,5300.545142558414,1513.2649819129695,56.39815561582884,9584.571639969317,2800.57582807989,6590.97193669162,479.6117047957904,9988.924785247633,2146.5141735858674,4891.250075857117,4947.545505158656,2795.542471381004,1652.2403045498802,1489.7166551085072,1178.4494000423617,130.50694301866227,5976.638478297691,2677.1812860853315,1998.9813240286812,3241.186917746487,5564.335668828483,7398.933802153559,7921.62084672845,3181.70710093281,299.3220947358488,6032.298563853774,6201.969029792556,387.1307285282966,1575.865699781972]}]},{\"name\":\"series 32 (F32)\",\"data\":[{\"name\":\"series 32 (F32)\",\"type\":\"scatter\",\"mode\":\"markers\",\"x\":[1246.412296030326,9022.717166271172,6830.50729008118,7704.014320290449,5541.70039442795,3070.2222515320077,9466.702182009414,8592.375959832487,2732.536685483582,7701.252945779307,6489.194430606274,6988.752864632283,6115.0957738626785,9141.623252224554,8560.79162947462,5209.602943579882,4353.41422456453,3715.0617862227077,5626.4767977842175,8252.183447449299,7220.197298518416,3969.810645188421,6176.368046775205,6458.631432581838,7244.924358153695,7752.089539289073,9899.039636358606,3489.119708285,50.316892335675604,1769.6948795318924],\"y\":[6550.213419806817,8261.621781548247,5699.25342848837,7995.651400592843,3559.101587846043,2728.7061409366797,5727.729906467198,3380.9707356363115,2404.441788147548,887.1741138652334,5705.4771521710945,777.2119115964182,9114.535122902449,8254.245610031527,1144.3677006792864,1713.681952851711,7380.3613146944135,5194.38511673458,5365.754199446665,9730.751877240085,3718.1116748947484,1943.7548327907573,1541.401684407171,6339.9065598820325,2877.244789935075,7954.667170558697,7538.690966532578,362.7863925414654,8262.437423481808,3270.308862059138]}]},{\"name\":\"series 33 (F33)\",\"data\":[{\"name\":\"series 33 (F33)\",\"type\":\"scatter\",\"mode\":\"markers\",\"x\":[1429.281236555775,5395.621382800178,6522.568503314832,5040.385279339495,7561.44422555165,9452.093142283466,7657.137071587986,8001.239816255261,7949.789152483017,5456.810650385363,2000.2848158299314,3769.381015180685,1402.1191351485274,1193.2152415573894,3264.8546193112284,135.24917868633855,3281.6744295538015,2553.879183379768,2463.68844081306,8194.44035927215,2094.0287747981833,4497.801134041417,972.6266155038699,2116.4977942958308,5191.429392463119,9988.435161862779,2259.440500443337,3626.7717467194893,4803.377081730657,8367.845145228883],\"y\":[875.1963690274778,864.737282130208,7330.767765966721,1116.5016907411075,4189.311184510542,9182.554550358655,3381.92516949824,4754.888450771725,7046.828251204382,9660.541552669327,3382.372111828128,7762.224169209822,2036.2069416110596,9641.622299262004,3756.2084950448316,819.2444296825773,8378.185281554985,8424.705948102841,1655.4686532307605,7426.130374502631,581.0396765439907,407.3404945466741,2004.8612025191492,5003.311664333755,3954.8330771512387,7430.872620191279,9232.793805644578,4952.010787327063,7837.005597718454,1856.7459258948038]}]},{\"name\":\"series 34 (F34)\",\"data\":[{\"name\":\"series 34 (F34)\",\"type\":\"scatter\",\"mode\":\"markers\",\"x\":[7475.615781243775,3833.0366943514396,8953.932240088274,1990.4454169633257,7270.516025331509,6816.478527994487,6727.831709881179,1870.0038496236293,3793.5365267501243,8861.587178640131,9535.681443840704,8148.858480823355,1552.6727496248739,8705.273822937434,5936.555733330247,7828.252688429799,3112.0514405183917,5669.301074408542,7706.07366553463,1932.258923594309,4901.687604789,9540.371849083465,2151.401244720199,1868.891347047228,1458.344708117091,9333.972263914578,9627.530134581844,7183.668451622243,546.5286241697354,7621.960589411661],\"y\":[8435.308232688922,5687.377984378986,5524.671932689635,3285.534139981248,3353.9707939227783,9527.682741845707,8050.07064078527,7049.349111782836,5945.684961230851,3674.599434161856,3757.1598909535255,959.2079139946763,4466.88562080725,6502.775602624659,5897.224012678302,5084.868508527022,8730.942153610758,5678.873483707324,7093.655596362845,2161.1726125818877,588.9719363530932,6400.267390784295,7345.393515731194,3624.828069547724,3830.369652795632,3181.648194666643,7202.184275931207,8560.823601185319,8251.89497276014,849.019726779554]}]},{\"name\":\"series 35 (F35)\",\"data\":[{\"name\":\"series 35 (F35)\",\"type\":\"scatter\",\"mode\":\"markers\",\"x\":[8638.827252585217,441.59153412966504,1403.9239472736886,5175.960549869543,2571.581268883296,5223.680251516253,8094.737795995107,8684.92231242915,1188.4214240222225,8360.831300343772,2118.4820243722356,2536.7149593997196,5305.858720230863,7599.004897238353,6869.703440760354,1144.2312854216664,1818.5398428744004,3038.0286409857395,1517.1295674144237,2171.846815683132,3973.8705128193587,5876.1971966363335,7231.6281284988045,919.8224563510327,7682.413962314679,2498.2768363665095,3598.0426096110896,4743.432003281243,365.83668347012434,1124.0241839758435],\"y\":[8787.872672079002,119.42191722188467,4947.684161238516,4103.4547513502985,8329.527606289665,2247.80464743882,508.2918843513906,126.75094787344298,6385.1511614300025,4664.877441687972,2853.6445568168047,7110.829331580464,327.7800069318548,4243.746763793255,2789.018613662374,8331.232590911772,4109.861277055225,5171.532197388669,7241.75529068028,1487.1529816669304,8423.926363127859,4017.811869777569,8543.528063130192,2819.0305461736607,5978.476890316917,6846.763222071205,160.9834412280675,6142.3148218160695,8346.909532378188,8475.844059455734]}]},{\"name\":\"series 36 (F36)\",\"data\":[{\"name\":\"series 36 (F36)\",\"type\":\"scatter\",\"mode\":\"markers\",\"x\":[2954.6514670722336,9717.615916587025,6794.568415007413,3446.7471524391913,4649.535092910434,2246.6118601825956,3248.7829824263404,8049.756166944379,6616.80487502955,2964.722540225273,9149.0104515118,2830.516775002161,6294.542471693224,9795.698555883724,9298.972936489514,5408.630233793035,616.4882210671052,3839.9117769028267,5039.940176421374,4150.369472256349,5671.267410955313,8087.282523588664,6074.074885611273,4263.200403704128,480.58332537999513,3177.410750634976,3089.0301167218236,9217.691953035319,8263.383045369823,3273.6231409901884],\"y\":[3969.7419419046255,2052.78213051714,6844.011626795701,674.2896940861831,4830.636898770392,3083.2597326574482,965.8979027468662,8653.900288530707,3361.2338685894283,2803.7116226342087,3188.314568177907,8208.036627803185,6050.387152494372,1371.0797005165964,6772.285110952393,5870.511994346315,2739.182844982275,8948.355013969069,3502.719743001951,6577.594647827945,1649.7659608212534,4404.834464260381,1747.3751529338933,7673.367543249023,5547.142790685986,3393.752153172085,5219.255352578419,7581.9241523061655,5013.267470150964,665.9894321276072]}]},{\"name\":\"series 37 (F37)\",\"data\":[{\"name\":\"series 37 (F37)\",\"type\":\"scatter\",\"mode\":\"markers\",\"x\":[887.5812199610189,5416.2331090770995,7947.484491118783,5628.95636385839,5273.473772514945,5850.151033855462,5354.673126386355,4622.63123186145,1970.0135844551025,6949.199374960157,2242.1949294741808,8160.133204946781,9642.349087572724,7337.3654779888775,9019.016630791693,6468.092839834506,8992.050030858889,3071.326040160517,3175.1494002451896,2062.4801053769916,9210.909319001998,3900.1314257823906,3216.800558654702,3808.4333482500497,9302.920926588838,3207.53245452012,6842.4144368748375,2938.0307218768708,7319.167085925924,5865.770670529813],\"y\":[3167.027087783144,7837.831245828494,1028.8748539342164,3473.791886877684,4437.145285789184,1068.4041804135568,6840.909201339675,7009.485595381469,6125.6036819921965,9040.957277198242,9893.48599264853,2794.6951667124977,5555.64154731033,2051.5646146220834,7145.9119990322115,8853.37833772815,8275.687741235532,9961.384787824452,7034.66343715048,5237.444856164073,8291.121511955922,6711.650491293269,3797.1384961550493,3701.4346341576634,2956.5327771698558,5075.10429024716,1919.930567119954,9226.341742876291,5841.779185151652,1570.9393597317423]}]},{\"name\":\"series 38 (F38)\",\"data\":[{\"name\":\"series 38 (F38)\",\"type\":\"scatter\",\"mode\":\"markers\",\"x\":[6334.486348413804,8324.530057239685,1207.396326009763,308.2033622119118,6961.5299615404165,6801.827567530123,1859.686391508457,3673.0069935253086,1996.6441182171668,2709.5248863094544,8103.076404293565,7237.772428482508,2932.922943548738,8588.14689410061,9267.101343987664,6046.147381100369,5732.621161974618,786.5067391163583,857.6338136905259,9515.101932761527,6788.240810765725,2633.6874918480557,9766.747633727731,2596.1124590988084,9354.5137977781,2548.246237932432,7172.867622010819,1550.2322710720673,5986.254230765174,7788.065638851978],\"y\":[3772.624951350031,3717.2360332942935,5183.067322711931,9475.92699765522,4808.102095124099,1996.916703114233,5920.421358127632,4780.01638665003,2987.9151229882705,6411.004282856274,2037.600638845507,7685.212154761988,5847.851736395752,7077.065392978078,9556.577203928924,660.1521410523848,356.5442503183847,5201.135132011259,3921.851194507906,5706.709693225171,1643.9229318641435,1283.72461174464,879.8269747780141,4772.652653431852,4614.965953443785,2634.2283633690167,4257.307819462832,6314.902139007356,6908.51818721567,5501.6640962342235]}]},{\"name\":\"series 39 (F39)\",\"data\":[{\"name\":\"series 39 (F39)\",\"type\":\"scatter\",\"mode\":\"markers\",\"x\":[6252.2071788529975,6919.945381717669,9170.72658041862,655.0494275155372,1015.5901291584646,4319.596844275387,3934.901380275121,5084.624584776737,282.6743103233109,884.4457973983422,7534.373433456208,6645.51083479715,601.4373828048924,4733.967275829262,422.1930698062104,2928.295320513622,5310.986474228902,8971.41249994215,31.27291057558712,416.4107311363663,837.8726975168793,8233.240262286727,6880.849441462399,5078.081962262251,6107.037539687046,5736.984107237489,9019.895961948843,940.9936613909464,5905.100213362398,3318.0979008856993],\"y\":[2095.395794327998,8910.725380226573,3887.210003061378,1565.4592654668088,2343.137834207968,4119.394984741899,8584.700888037276,7096.851239113804,7620.972842755476,6428.836172427445,6249.30473335355,9259.882947220147,7239.230470549397,5363.031188907087,7660.689656907006,9100.453314440027,4790.257423713202,7707.40783782803,2127.6144520043204,9309.999412686611,9438.814316377546,3288.0004733925894,828.9939001889945,5044.410530002973,207.3229624010964,2031.3684501386908,3369.6988958470565,2001.6376104329981,4674.727823819692,3306.5513037243245]}]},{\"name\":\"series 40 (F40)\",\"data\":[{\"name\":\"series 40 (F40)\",\"type\":\"scatter\",\"mode\":\"markers\",\"x\":[5966.91751763822,9951.655255664922,8205.000913819427,6763.234885863847,7036.429334964346,7031.588126009157,2331.0807343012816,2405.6893418423706,6114.154650328926,2550.443773186787,1242.3062233682147,6479.934293452621,5026.859723638438,3792.037678406769,3458.1708481243036,8901.976058757931,6016.9110169017995,5361.341784380928,1718.486012505729,7417.849481040957,129.49103855909195,7988.619155024027,7879.809242650722,3461.5905522424796,586.7004056421232,7387.356907131125,1180.2608655370427,4765.158050547621,101.4889882060388,2756.1446007731906],\"y\":[7619.614169574268,174.70824817805487,8125.374662287418,8821.286413106978,5398.813527718575,2840.5212850595453,3877.4188908547703,4936.081014628674,6372.837773318703,8973.266890751143,3667.9534483313437,9684.335832265906,6293.093273162517,697.189264507646,6509.058277651896,9679.830334282353,7250.287276656166,3181.1772999152545,294.8124822513887,6810.077497533897,4175.994999557983,8191.584102527227,1937.8536259120183,9041.879497174015,3520.903657996626,8486.042819299462,8764.796314909729,6087.8069644381485,6299.97780641992,55.42174453384785]}]},{\"name\":\"series 41 (F41)\",\"data\":[{\"name\":\"series 41 (F41)\",\"type\":\"scatter\",\"mode\":\"markers\",\"x\":[5201.578426321072,2726.879797895283,9579.559987982719,2121.4503719118884,8320.814724083795,9379.361089170543,178.68352949293453,8010.437572670033,8176.759510738725,1654.7201636362363,1866.641183242249,3548.8957802166974,4019.488406846916,8023.46173482538,2661.11916845718,3464.775736113024,5458.432346057673,7507.655728341416,1965.9699526358709,428.40395825356705,8436.404619377478,7341.645685540642,8234.966139255086,5830.1084209744695,9478.787079911812,3923.5544645993014,6607.639129230306,6166.909836127892,8098.545239167325,9059.843322675906],\"y\":[2535.576637401579,3998.5419235441964,6466.270141510439,7499.325414600322,1802.3135987126627,7833.458910907123,7495.450506911076,1059.670889587122,9537.221608218475,1018.3777527657145,7346.700426675667,9268.587926426217,833.5641781446168,5730.292166664437,6020.680252494777,6373.494950323653,3403.152025966042,4507.78793537558,187.96643498210085,9817.649832848341,8334.797773359083,8408.877759477988,5695.137277975896,5837.336476511007,8471.036860225295,7845.4674596820505,3289.8648036862987,3703.8506261365046,5177.343263171729,9419.950857365688]}]},{\"name\":\"series 42 (F42)\",\"data\":[{\"name\":\"series 42 (F42)\",\"type\":\"scatter\",\"mode\":\"markers\",\"x\":[23.80985909573141,1315.6713050995083,3350.3387609517763,9677.327874292563,520.6408693979947,1340.3368955036465,1396.2569171692874,4586.6249995392445,6837.503775163253,8912.195667841026,7608.1901700021635,1778.2919230273874,3001.798929243774,9011.33107257695,6880.411638124439,1089.6370355096485,471.11956225274974,4080.613013633385,2020.3343923272632,7808.254498927706,3742.739479713939,181.9548655620329,2053.428992921824,2153.7889339220383,1130.0402586537127,3049.510303053925,5863.691875941202,8001.2703201361255,4326.788497240024,3766.671780252081],\"y\":[3272.020632724911,3624.6474040650346,1796.193458648172,7475.382603925042,7227.115116273274,7327.032343959162,5250.181328605923,7520.409885031142,168.29694868124244,1224.5663335660383,5525.347951664905,1737.8688773209594,4816.893402587701,7163.702141453553,4015.5623064323786,7216.427355378283,4662.610234447998,9777.091271584011,8487.207049252207,4791.263668817227,2233.573280769396,3021.1555782937016,7581.564520482947,4774.98530778314,3873.4911704108868,8188.811184528671,6599.864315842471,986.3652847122139,8196.653044434534,3353.7056948143695]}]},{\"name\":\"series 43 (F43)\",\"data\":[{\"name\":\"series 43 (F43)\",\"type\":\"scatter\",\"mode\":\"markers\",\"x\":[8270.030487502152,1006.8857647137453,1651.2428461402774,6477.718725274376,6110.180452989003,6776.722262295662,8693.71675613499,7001.366354503322,4732.437181758458,1135.943954412939,5961.755084765265,3637.142380252489,971.6465315076872,2723.343258747729,9530.568718318682,9298.71773427418,2077.087286589887,3764.4509245191393,1847.0999330483428,7624.311660884681,2371.295524953564,2711.9306031216606,258.9312881116368,9390.437300299996,7758.6297565958685,6445.692916572917,2189.4726454632905,1262.6181822003225,8257.221452906273,4796.700624336765],\"y\":[2958.270159333489,3792.557566255229,2331.4726683602094,3527.5890683406074,1005.040292657644,346.63759489653165,3218.2759106040617,584.8537563496426,1848.3053119464644,3738.515097310481,6668.649586703677,4431.509644185474,6494.2589698411,2738.9697747601895,1567.4951094183964,2575.756862878098,2208.7758501688627,6349.05138617544,9747.701008740733,3030.337030969904,3575.223449114753,9747.965886494992,8980.828620319204,1368.8986221773025,9583.016705935699,2165.0279038660115,3605.1388927672433,1289.832817306249,8126.61285898573,3575.399055320577]}]},{\"name\":\"series 44 (F44)\",\"data\":[{\"name\":\"series 44 (F44)\",\"type\":\"scatter\",\"mode\":\"markers\",\"x\":[542.7261485724366,7154.683767003918,2741.911331118163,4082.220794368462,4561.047862132514,2837.372970122346,7666.791541216335,7123.145996788105,5550.148092896147,2402.124859599374,6384.783496085199,5227.153865092077,2315.394890918524,4622.113457783888,5695.6321700251565,4947.938200824495,1926.5616562405996,5157.497769357017,2053.789412292404,5813.033926672827,1017.6023281784463,7330.649451326755,9425.617974109275,6653.248753850966,5597.483567552833,4868.019458498556,8238.374712091874,1514.8533180014667,8910.952118749594,7722.2296334775965],\"y\":[3128.792413103704,6507.37302245907,2679.134981487318,5144.615211999969,3146.35459772177,8402.717188033415,5653.380324223826,8547.589268556434,1826.1147135691303,5576.770400076965,4831.7677527779515,377.83294851682524,6118.186088511761,1972.4629779570591,8916.227194387351,4215.463637445391,2545.7856673164,5163.7263086845705,629.2268326691731,5620.970332938889,6160.988070559943,312.631388911373,4362.501371172294,2870.8442241185803,2877.1053009084367,2837.3978572142623,8296.309846766613,1654.477617236163,8578.877258353488,3946.8524790333813]}]},{\"name\":\"series 45 (F45)\",\"data\":[{\"name\":\"series 45 (F45)\",\"type\":\"scatter\",\"mode\":\"markers\",\"x\":[5606.226530170049,8049.041567597271,9046.424807491285,4847.306446515083,7665.487931152781,9645.694852174678,3176.177337210577,7390.709825810861,3254.426732068767,5569.6154521918315,8241.757702556248,1208.3379658022964,1704.5488116223917,2317.9904943835263,10.070513602941089,9962.143938829198,4633.316926419861,3834.235530330683,2412.607751907425,2246.316329161848,466.72508529579494,1043.3610199268983,1169.2461345333604,5884.458976474898,8300.26091506616,8192.536701622264,3271.581986197861,7893.208538339991,2814.870999145036,772.5555141246043],\"y\":[9555.11448544038,6220.993430144025,9943.057033654708,2540.027797596074,724.346126791221,3521.0270948934153,3771.2489710574982,7216.786860431582,8142.147952890938,7680.5205431515915,8768.115870223595,3812.1206524836293,9454.488874667046,8603.491598714656,7844.489222477471,3195.0913374514957,5693.9073052262,5832.435328094073,5979.0930360006205,7538.338034979574,889.855143841316,6994.511109177165,1185.2850348492827,3561.4033877955644,7411.32265349605,2770.7978986688054,9447.536762549045,5120.766403756703,276.9111892475151,112.55007449030185]}]},{\"name\":\"series 46 (F46)\",\"data\":[{\"name\":\"series 46 (F46)\",\"type\":\"scatter\",\"mode\":\"markers\",\"x\":[7922.385136257191,625.3996937636774,1489.784983202377,1766.2887131037176,1177.1160971130269,6000.812930250603,1089.7061063924461,6819.940970130556,8530.446699061162,4481.185507540859,5061.61506247181,3945.143582555999,6662.990587885094,378.3311868657702,1499.9882568894664,6286.205930398607,581.3123175688617,5157.876402310645,5500.470460055421,4534.127245382849,7747.882537182473,647.1779988569348,135.04295982852744,2624.4486513234056,4730.270348723673,6006.144145147495,5564.254424037998,8710.61030590482,3076.418153178466,2211.26280329939],\"y\":[849.8121637540712,2589.881307654448,1288.8647415638932,234.7860420717085,3353.0863860789227,9596.810499233306,2749.295623437651,6845.152683954354,8739.858490402437,129.5473896344268,5235.814408985148,5011.381464239956,558.8997047124244,3437.2631552884814,6278.847111453335,4263.296139076672,2121.737121684659,4072.3024455785917,17.605510846386842,41.09796039294733,4983.228871220829,9498.578470817962,5447.551730860582,61.926888325724015,7707.336207432775,7748.117882783946,2990.3194586663108,37.70880188819659,5799.744564545406,4730.555603443132]}]},{\"name\":\"series 47 (F47)\",\"data\":[{\"name\":\"series 47 (F47)\",\"type\":\"scatter\",\"mode\":\"markers\",\"x\":[6171.06865919161,697.7111483559062,8698.75112804068,1825.7658639869023,7854.25844632865,3000.8853340148744,2538.1055587767464,5727.707694770505,5967.346626282998,8667.200651823014,8030.251873907308,4157.954251688627,1932.9316895721981,8713.826501459367,1265.685497160287,3030.267464066049,6133.376480509915,3551.1534237725805,1483.9095463654583,2922.966284805418,8647.963210108539,4375.28676095015,3943.7357130492646,5303.730981302704,231.14656972970658,7087.786005756812,7905.439975405335,1851.87475952722,8041.487699904621,6780.067058630564],\"y\":[9434.553809152232,3436.00531227133,2984.3671185693665,2939.0178750474747,6246.832321521253,8830.388453579671,697.5912036538145,2962.0295636475003,7136.210905363012,7091.219507210443,6187.520284201226,4313.77212182041,1662.3205824848053,1664.394232779266,2914.3639745364503,3713.699568905838,6721.408235095636,8759.265296197244,728.8049779678119,5112.394398277715,5384.262668623252,7298.260253175047,3478.125892077987,6896.516815098588,9957.020694277968,2840.1261431914313,6328.533805552435,2756.2518929033054,5605.490108307065,3274.958109730972]}]},{\"name\":\"series 48 (F48)\",\"data\":[{\"name\":\"series 48 (F48)\",\"type\":\"scatter\",\"mode\":\"markers\",\"x\":[4891.3865072935605,9955.798382363895,3080.8913919098122,9802.059159329132,3094.5474132603867,3366.5762064630376,9094.688502371211,2727.0694193481627,4406.104350758018,3554.4762252426863,712.4402452630152,7952.692923201034,1496.2084359846772,2456.611361404446,5771.374396877314,6687.740277116626,2713.804514052145,739.6723148520124,4773.648060926204,7862.101461881077,9858.534746485748,6801.1304487382695,967.027128319371,10.641697520891169,644.1213008925528,8556.171409209808,4396.97921927744,6976.919750119784,978.0405345526,5647.382367574233],\"y\":[2598.9434713485125,9688.003577308446,6723.325032901748,1520.8580664106287,5296.805670186135,4464.560459927959,1961.840221808997,1931.5319378758356,2983.3711844278987,6855.7817073557435,944.3967515877982,8872.175760919692,9580.894239940422,8826.596796424168,3891.584113261214,6664.6561082053095,7514.490103057114,6275.021123409738,2600.213105239788,8.674792190604963,9478.51898862587,3320.3716737124,413.78444213547084,2152.358272424809,4935.798291587439,9578.477483708068,2531.404938791041,5030.708708519249,961.7638217013603,6727.898290180711]}]},{\"name\":\"series 49 (F49)\",\"data\":[{\"name\":\"series 49 (F49)\",\"type\":\"scatter\",\"mode\":\"markers\",\"x\":[6858.095717212539,2212.0618525030677,6430.469444575804,1071.5616260010052,2640.4501617227806,9799.342433566328,5736.57448729482,9511.112282481467,3985.1121270269928,52.04896118967683,3257.2416564019713,7376.665490205423,8023.56597668213,7426.535469245532,2580.125088458831,7892.539101973664,2965.2425573772935,6976.304184119148,5158.401738440013,4709.936719882245,9571.958883218731,610.6612017414692,1501.0601045539463,900.4396986143781,690.2296272987019,7579.225495310793,4266.425724049281,79.56005426184242,7394.000594051956,1731.4270999646042],\"y\":[6699.174294284916,7917.494505295328,7018.8711392768255,9594.267039492383,1735.8392191352689,5194.611110375308,7909.887309697502,118.25467253900213,6801.095423365373,6772.092011361257,8058.507443127357,9060.574975649723,6826.86129328362,4373.544019777321,9970.347583138891,8406.185835275272,3348.528091516857,4911.281247753875,2083.8412304526664,3971.6777624688593,667.3914713983609,241.3744215992275,7850.959126099132,2393.3749277535144,1015.6256134344687,8694.45126876839,7194.643647851827,2070.2961778923877,9419.905383492754,3504.622629179299]}]}]\n",
       "var labels_0XJU6hDgk9 = [\"series 0 (F0)\",\"series 1 (F1)\",\"series 2 (F2)\",\"series 3 (F3)\",\"series 4 (F4)\",\"series 5 (F5)\",\"series 6 (F6)\",\"series 7 (F7)\",\"series 8 (F8)\",\"series 9 (F9)\",\"series 10 (F10)\",\"series 11 (F11)\",\"series 12 (F12)\",\"series 13 (F13)\",\"series 14 (F14)\",\"series 15 (F15)\",\"series 16 (F16)\",\"series 17 (F17)\",\"series 18 (F18)\",\"series 19 (F19)\",\"series 20 (F20)\",\"series 21 (F21)\",\"series 22 (F22)\",\"series 23 (F23)\",\"series 24 (F24)\",\"series 25 (F25)\",\"series 26 (F26)\",\"series 27 (F27)\",\"series 28 (F28)\",\"series 29 (F29)\",\"series 30 (F30)\",\"series 31 (F31)\",\"series 32 (F32)\",\"series 33 (F33)\",\"series 34 (F34)\",\"series 35 (F35)\",\"series 36 (F36)\",\"series 37 (F37)\",\"series 38 (F38)\",\"series 39 (F39)\",\"series 40 (F40)\",\"series 41 (F41)\",\"series 42 (F42)\",\"series 43 (F43)\",\"series 44 (F44)\",\"series 45 (F45)\",\"series 46 (F46)\",\"series 47 (F47)\",\"series 48 (F48)\",\"series 49 (F49)\"]\n",
       "var duration_0XJU6hDgk9 = 100\n",
       "var config_0XJU6hDgk9 = {\"responsive\":true,\"scrollZoom\":true,\"displaylogo\":false}\n",
       "\n",
       "var traces_0XJU6hDgk9 = JSON.parse(JSON.stringify(frames_0XJU6hDgk9[0].data.map(x => x)))\n",
       "\n",
       "var animation_settings_0XJU6hDgk9 = {\n",
       "    mode: \"immediate\",\n",
       "    direction: {},\n",
       "    fromcurrent: true,\n",
       "    frame: [\n",
       "      {duration: duration_0XJU6hDgk9},\n",
       "      {duration: duration_0XJU6hDgk9},\n",
       "      {redraw: true}\n",
       "    ],\n",
       "    transition: [\n",
       "      {duration: duration_0XJU6hDgk9, easing: 'cubic-in-out'},\n",
       "      {duration: duration_0XJU6hDgk9, easing: 'cubic-in-out'},\n",
       "    ],\n",
       "    ordering: \"layout first\"\n",
       "}\n",
       "\n",
       "var slider_0XJU6hDgk9 = document.createElement(\"input\")\n",
       "var play_0XJU6hDgk9 = document.getElementById(\"play_0XJU6hDgk9\")\n",
       "var pause_0XJU6hDgk9 = document.getElementById(\"pause_0XJU6hDgk9\")\n",
       "slider_0XJU6hDgk9.id = \"slider_0XJU6hDgk9\"\n",
       "slider_0XJU6hDgk9.type = \"range\"\n",
       "slider_0XJU6hDgk9.min = 0\n",
       "slider_0XJU6hDgk9.max = frames_0XJU6hDgk9.length - 1\n",
       "slider_0XJU6hDgk9.value = 0\n",
       "document.getElementById(\"sliderContainer_0XJU6hDgk9\").appendChild(slider_0XJU6hDgk9);\n",
       "\n",
       "Plotly.newPlot(graph_0XJU6hDgk9, traces_0XJU6hDgk9, layout_0XJU6hDgk9, config_0XJU6hDgk9)\n",
       ".then(function () { Plotly.addFrames(graph_0XJU6hDgk9, frames_0XJU6hDgk9) })\n",
       "\n",
       "var trigger_0XJU6hDgk9 = true\n",
       "var reset_count_0XJU6hDgk9 = false\n",
       "\n",
       "play_0XJU6hDgk9.addEventListener('click', async function() {\n",
       "   trigger_0XJU6hDgk9 = true\n",
       "   if (reset_count_0XJU6hDgk9) {\n",
       "      slider_0XJU6hDgk9.value = 0\n",
       "      reset_count_0XJU6hDgk9 = false\n",
       "   }\n",
       "\n",
       "  const start_index = slider_0XJU6hDgk9.value == labels_0XJU6hDgk9.length - 1 ? 0 : slider_0XJU6hDgk9.value\n",
       "  const end_index = labels_0XJU6hDgk9.length\n",
       "  await Plotly.animate(graph_0XJU6hDgk9, labels_0XJU6hDgk9.slice(start_index, end_index), animation_settings_0XJU6hDgk9)\n",
       "})\n",
       "\n",
       "pause_0XJU6hDgk9.addEventListener('click', async function() {\n",
       "  await Plotly.animate(graph_0XJU6hDgk9, [null], animation_settings_0XJU6hDgk9)\n",
       "  trigger_0XJU6hDgk9 = false;\n",
       "})\n",
       "\n",
       "graph_0XJU6hDgk9.on('plotly_redraw', () => {\n",
       "   value_0XJU6hDgk9.innerHTML = slider_0XJU6hDgk9.value;\n",
       "   if (trigger_0XJU6hDgk9 & !reset_count_0XJU6hDgk9) ++slider_0XJU6hDgk9.value\n",
       "   if (slider_0XJU6hDgk9.value == labels_0XJU6hDgk9.length - 1) reset_count_0XJU6hDgk9 = true\n",
       "});\n",
       "\n",
       "slider_0XJU6hDgk9.oninput = async function() {\n",
       "   await Plotly.animate(graph_0XJU6hDgk9, frames_0XJU6hDgk9[this.value], animation_settings_0XJU6hDgk9)\n",
       "   trigger_0XJU6hDgk9 = false\n",
       "   slider_0XJU6hDgk9.value = this.value\n",
       "   value_0XJU6hDgk9.innerHTML = this.value;\n",
       "   if (this.value == 0) reset_count_0XJU6hDgk9 = false\n",
       "   if (this.value == labels_0XJU6hDgk9.length - 1) reset_count_0XJU6hDgk9 = true\n",
       "   reset_count_0XJU6hDgk9 = false\n",
       "}\n",
       "\n",
       "next_0XJU6hDgk9.addEventListener('click', function() {\n",
       "    if (slider_0XJU6hDgk9.value == labels_0XJU6hDgk9.length - 1) {\n",
       "        reset_count_0XJU6hDgk9 = true;\n",
       "        return;\n",
       "    }\n",
       "    ++slider_0XJU6hDgk9.value;\n",
       "    value_0XJU6hDgk9.innerHTML = slider_0XJU6hDgk9.value;\n",
       "    trigger_0XJU6hDgk9 = false;\n",
       "    slider_0XJU6hDgk9.oninput();\n",
       "})\n",
       "\n",
       "prev_0XJU6hDgk9.addEventListener('click', function() {\n",
       "    if (slider_0XJU6hDgk9.value == 0) {\n",
       "        reset_count_0XJU6hDgk9 = false;\n",
       "        return;\n",
       "    }\n",
       "    --slider_0XJU6hDgk9.value;\n",
       "    value_0XJU6hDgk9.innerHTML = slider_0XJU6hDgk9.value;\n",
       "    trigger_0XJU6hDgk9 = false;\n",
       "    slider_0XJU6hDgk9.oninput();\n",
       "})\n",
       "\n",
       "</script> \n"
      ]
     },
     "metadata": {},
     "output_type": "display_data"
    }
   ],
   "source": [
    "val xaxis = Axis(X, title = \"X Variable\") setLimits (0.0, 10000.0)\n",
    "val yaxis = Axis(Y, title = \"Y Variable\") setLimits (0.0, 10000.0)\n",
    "\n",
    "// we can also specifiy the underlying layout directly - sometimes this can be useful\n",
    "val layout = ChartLayout(\"Animation XY\") setAxes(xaxis, yaxis)\n",
    "\n",
    "val series = createXYSeries(numberToCreate = 50, length = 30)\n",
    "\n",
    "val chart = Chart(animated = true, transition_duration=100) setChartLayout layout addSeries series\n",
    "\n",
    "chart.plotInline"
   ]
  },
  {
   "cell_type": "markdown",
   "metadata": {},
   "source": [
    "### 3D Animated Chart"
   ]
  },
  {
   "cell_type": "code",
   "execution_count": 48,
   "metadata": {},
   "outputs": [
    {
     "data": {
      "text/html": [
       "<div id=\"grid-container_ksWKwnJYgY\" class=\"grid-container\" align=\"center\"> \n",
       "<div id=\"grid_ksWKwnJYgY\" class=\"grid\" align=\"center\"> \n",
       "\n",
       "<div align=\"center\">\n",
       "  <div id=\"graph_3XT7UAnkVg\" class=\"graph\"></div>\n",
       "  <div class=\"animationInterface\">\n",
       "    <button id=\"play_3XT7UAnkVg\" class=\"picta-button\">&#9658</button>\n",
       "    <button id=\"pause_3XT7UAnkVg\" class=\"picta-button\">&#9616;&#9616;</button>\n",
       "    <button id=\"prev_3XT7UAnkVg\" class=\"picta-button\"><</button>\n",
       "    <button id=\"next_3XT7UAnkVg\" class=\"picta-button\">></button>\n",
       "\n",
       "    <div id=\"sliderContainer_3XT7UAnkVg\" class=\"progressBar\"></div>\n",
       "    <div id=\"counterContainer_3XT7UAnkVg\" class=\"inline-div\">\n",
       "        <h3>Frame: </h3> <h3 id=\"value_3XT7UAnkVg\">0</h3>\n",
       "    </div>\n",
       "   </div>\n",
       "</div> \n",
       "\n",
       "</div> \n",
       "</div> \n",
       "<script>\n",
       "var masonry = new Macy({\n",
       "    container: '#grid_ksWKwnJYgY',\n",
       "    debug: true,\n",
       "    mobileFirst: true,\n",
       "    columns: 1,\n",
       "    margin: {\n",
       "        x: 0,\n",
       "        y: 0\n",
       "    }\n",
       "  });\n",
       "\n",
       "var graph_3XT7UAnkVg = document.getElementById('graph_3XT7UAnkVg')\n",
       "\n",
       "var layout_3XT7UAnkVg = {\"height\":550,\"width\":600,\"hovermode\":\"closest\",\"title\":{\"text\":\"Animation 3D\"},\"showlegend\":true,\"scene\":{\"xaxis\":{\"showgrid\":true,\"zeroline\":false,\"showline\":false,\"range\":[0,10000]},\"yaxis\":{\"showgrid\":true,\"zeroline\":false,\"showline\":false,\"range\":[0,10000]},\"zaxis\":{\"showgrid\":true,\"zeroline\":false,\"showline\":false,\"range\":[0,4],\"type\":\"log\"}}}\n",
       "var frames_3XT7UAnkVg = [{\"name\":\"series 0 (F0)\",\"data\":[{\"name\":\"series 0 (F0)\",\"type\":\"scatter3d\",\"mode\":\"markers\",\"x\":[7070.741204792484,5344.890503638414,4791.179623957266,4311.924181965646,2876.820779435838,347.11524978725095,3106.276262692902,9161.351010029075,3951.5383985918807,9386.81665628441,55.268720558619975,4610.85504004036,3618.910203550466,3689.39636849981,4283.654422234296,5459.593579332243,1331.8213550270398,3286.2183679625746,6294.0544848214495,2048.3420717670074,7358.936881499958,4508.5031925849225,1543.430085422679,1218.8154171745068,1248.4784418599304,2826.45744266113,8603.938953556406,1870.0883551309112,1566.7290059051809,2840.592269933242],\"y\":[7897.9891685983575,752.0732235584859,7387.646801412964,4976.312194762674,4652.815774825014,3286.3940795009207,7800.9812728771085,1489.5017076644513,5667.16946294124,3667.897321429726,4309.804380857369,2759.9814205691696,3242.4744988893526,8275.41960137171,2404.379629625657,8531.336566282875,1203.0773106448523,6508.332406011505,2827.8157155184267,7749.770290201758,7314.971843929764,3565.768820347526,89.9587075473618,4961.270100887192,3609.6560975621105,398.3295468583059,5639.495113634682,845.5184602078791,1129.5367607777562,7087.4573200853465],\"z\":[5770.260003698026,9396.616474527425,8433.567519237775,7245.555768617513,9816.247351982527,4504.834469751397,3836.569601653167,2680.3264779128444,2480.8486290081787,4250.240440821672,9802.94974373923,9529.678484033453,5249.351989494895,2088.197689293709,4175.299013403101,9348.966125193958,5749.753631409466,288.3680400817834,6990.613800729535,1220.1919247472038,655.4504397099481,2482.9915121124923,3521.6585738652484,3853.2091228258146,7264.392915979435,8986.858218125073,3878.2401595260585,9861.845004094657,1242.8000465333555,670.5294300950937]}]},{\"name\":\"series 1 (F1)\",\"data\":[{\"name\":\"series 1 (F1)\",\"type\":\"scatter3d\",\"mode\":\"markers\",\"x\":[7012.944780196331,7923.258571294695,3187.5468016973805,4599.999039492204,2298.1397313150164,2366.73500074146,4639.857060864882,7400.137162612595,4975.820568456657,3888.512882319909,4973.94205648257,355.889819858608,2729.139991666555,9552.127763956001,4187.751644985788,3634.3522563941265,9384.226047797338,5009.148164914583,3039.007693392685,5692.475308051261,8323.160980061368,6963.069350899712,1198.2168767635503,7929.304548724878,2573.758467872781,9299.522929374805,6131.367275380255,3948.2888466155573,739.0406059747235,2018.8483811255342],\"y\":[278.5336139717309,7414.3407745325285,7939.084965470144,8132.465828624815,1760.628489944258,2421.97086486154,8760.174390757984,22.375881308994707,4325.055351449852,5534.952909889451,4840.949885460975,3413.5103228426424,5532.032878429521,9214.626115339368,3172.5312355318238,4071.5397447343394,8286.87485689531,2223.0765872334555,2449.3383594215347,9614.138253392517,9739.529387037517,3769.077737528779,3879.606842558354,6411.601547135647,3301.1932162393077,4658.819100328599,9749.361885834787,9453.093008238846,4068.8321656096227,520.0838693724452],\"z\":[7730.879286032831,1267.6954511186057,5301.958215299441,9287.681173600486,1436.4236464128078,4514.8294057686935,3762.026206740602,7569.580627385038,8040.327242175012,1696.4912038157843,4703.329037876438,8257.333429477874,1927.2298239932406,4594.156881378182,3095.285200091095,4801.008905823409,9271.574107962157,5496.084908808822,6259.534281493483,5938.012249915674,2213.208307333057,2056.143625290451,4521.259159486616,8346.793360503892,2866.221573121809,7713.181141592279,702.6840707417315,3690.5955932021075,6782.896503399068,0.34116168699305227]}]},{\"name\":\"series 2 (F2)\",\"data\":[{\"name\":\"series 2 (F2)\",\"type\":\"scatter3d\",\"mode\":\"markers\",\"x\":[6327.700295491148,823.0316983043929,2691.9328199882775,9786.626289816479,2260.097383471773,3546.4217485915706,339.86150512361866,5518.392472765839,4163.884765548651,9245.458540117917,1086.8304804628704,7866.356911101482,8652.71036168366,3962.9149426272747,6542.715452811974,1834.0863615580784,4286.396166677366,5040.746225126162,8976.7690031412,5346.826342420816,2676.1248597100994,3319.076830887454,3493.7879215595303,5614.922125691668,8875.830712490202,3067.206749654012,6042.047975457893,7153.971491201942,6965.860840877051,9314.912035850168],\"y\":[3203.016906266658,8244.24313811467,6275.988394904191,9058.95236559618,9410.123148185603,5824.78058345047,6048.377314160167,4938.842964814374,4753.624483440242,2343.006014670094,1507.112232980643,7407.583427519378,1850.8844638534727,1918.5278968644648,2279.4205791439435,4167.183782205867,3396.1344745388,7330.24523113318,4904.737003532553,3695.4613859602946,2951.0568678464742,3798.735285670347,4771.264098272964,3059.729738781195,297.2996056605415,311.29726190009865,9235.711716609307,8894.632759307937,9244.291490117235,4324.922725350637],\"z\":[2910.4034585678883,4415.529571389798,170.4964569067391,1082.8444754679279,8142.957305000984,4645.463397400935,1773.5079681607747,4493.213867976948,8567.26738903432,6652.899336475869,6514.154429621065,2543.8451685748464,1270.521183169142,1529.048347687727,2062.048421132193,6564.853546406236,3599.508370442982,77.74218723048065,6684.778142424356,301.40751544885603,3920.4933484960125,4747.457754667297,9970.20973171641,1721.7050806988955,1750.4331331571,6204.237151441295,1531.1274725887004,7760.6741865629565,1593.3451587183522,4125.883134882918]}]},{\"name\":\"series 3 (F3)\",\"data\":[{\"name\":\"series 3 (F3)\",\"type\":\"scatter3d\",\"mode\":\"markers\",\"x\":[9413.712186938412,9787.787379754704,6544.140081458292,8291.958067189125,6816.11726137352,5487.776530932192,2263.252850734699,7850.7452777504395,420.67120902886336,1055.9130605085154,9278.920587285595,3763.4852118979966,6153.000080303674,6134.924256786632,1739.9692443322213,1857.8252087671376,8503.630153027805,2758.493314628748,3720.491117333139,1666.573538602828,7682.391916343867,8716.69047323118,9968.805919539342,9284.48415924843,4823.221125758669,5221.569776485081,6596.61693621719,844.938192296223,9216.706929664258,8526.555420023053],\"y\":[8620.288491586482,6900.032116493347,3120.013665500457,5241.135918578775,5494.687718641322,6981.721145712672,9078.560918434074,1482.7713557810496,2821.0458565707686,7928.307098729941,1891.1138411478412,6720.811431951655,8263.8136363801,9179.701192033603,2359.706738611728,4192.612751321323,2377.4995335799254,3176.5312107466493,2788.077111959838,1109.9324902962248,522.9962180397484,9242.30882419157,4827.066007034021,3524.070458637626,343.91151767962367,4884.501675753076,8712.697432181032,2681.1166614171643,376.9447080845223,9319.510696948648],\"z\":[9202.416386965195,1974.0561628891674,9286.35550292078,208.1811857426652,7587.235271083774,6186.372144795028,1941.0937877092272,6082.622593724085,1042.2985608910185,7622.178395617254,8094.173689567206,3751.752396917476,275.64487204690846,6930.805554048222,1777.3888391924131,2092.118351061103,3944.70762864248,9959.15082861837,4690.481725020095,1062.1945794540177,3632.367370027212,5802.997401503448,4842.40065128097,7522.491204016331,6309.126106594348,5378.898075502616,2493.283024064281,7500.447620699375,2155.247483335877,4301.104048524854]}]},{\"name\":\"series 4 (F4)\",\"data\":[{\"name\":\"series 4 (F4)\",\"type\":\"scatter3d\",\"mode\":\"markers\",\"x\":[9049.331649421358,7908.236122948809,4376.466618784425,8623.420539929017,978.7565825346855,9403.225935930759,4219.141069628454,7093.749094830174,45.475473882337084,6075.011914672061,8775.48302032066,8969.478992692466,3198.280200580119,6949.544729052884,1366.7711875148148,2154.769005414383,306.69370321801057,8920.04517644106,4302.214542149118,2446.164514473126,5600.751963024188,646.0194437327849,1633.3998791917304,1010.8719995014503,9150.472216668297,2205.841953789122,5159.023709206679,3872.4145609288585,8011.770328378512,5845.002709991606],\"y\":[381.8744330916968,4141.2761177317925,2769.118087219178,9031.2659869369,379.7926955372943,5003.536093075763,4121.23902676929,2209.6210423632865,4624.612585235815,9068.385119476965,5884.661063541812,144.04917327114686,6667.837899820209,7575.802564607638,5330.956745803394,7539.773135948102,9309.089069068825,1178.5699891343747,9127.02194814313,6758.792609074712,8373.108224452806,2538.182654361404,3313.754004838906,7873.151941965158,6543.385364760909,9812.112542625162,8737.009918290265,9044.526892743503,6835.22751218878,9260.266865027084],\"z\":[9135.740996482398,8275.355721893067,1238.364685225317,4661.378093384157,7695.711022535633,5945.887146945475,3818.9438667594354,1005.4506958732168,9293.22812522562,1233.1457169487537,9143.037104574476,16.278213919254103,9881.830569957245,4501.971218439929,6268.548770170439,5458.442373231439,1515.882202480008,2064.917345627144,5749.673811525623,6896.08556034008,1358.554252644294,9326.93956775023,2107.828946619229,1596.1507917730944,5687.6796553926615,3262.4462168361724,7045.23636205405,5606.663062532008,5391.485130607157,5416.420762554085]}]},{\"name\":\"series 5 (F5)\",\"data\":[{\"name\":\"series 5 (F5)\",\"type\":\"scatter3d\",\"mode\":\"markers\",\"x\":[9312.113066161553,6691.022916920298,7737.220975300921,2177.9696873679886,5585.680584357296,3762.1729491482956,299.2246724030989,9943.787121954738,2978.9740774039497,9735.887120988162,6848.96768870335,8970.669647083325,7869.700339876095,7310.323067218979,1738.1565452787618,1210.357794480521,7624.1536581932105,79.37073482516598,8846.964660993968,4226.614503835098,1488.471314976081,4600.217679182851,3522.9984423942974,5413.598510841903,4429.2672638996555,2560.9480640309225,1102.6096863897894,8166.228808223035,3027.9583334024896,6031.872059786318],\"y\":[3584.6811624708553,4397.373878683108,5667.853505550422,2934.6884181170494,6818.03518595527,5853.346925583443,200.34882280348222,4326.456063998686,4167.120899978542,48.31974672397155,1036.3331174379553,9870.759582126539,9036.660465380828,5319.918673765312,4181.17540389369,2956.3257648702534,7864.443886700766,3502.3960503832286,3116.4346154431723,2323.754714455375,7232.480770029372,8020.424004649079,628.6879258735855,2773.9093010582474,3600.23060939077,9825.681929331864,1695.6546624132895,3556.9020491995416,1829.6538985879774,3530.0657655463706],\"z\":[362.0405243795355,9378.5075975689,9150.335093571784,1333.4771798521983,9172.311359420903,5611.221288951829,4503.94770711221,2900.7950107338397,3174.85350403946,6260.071256563316,9310.849830957883,5211.771906957156,1771.7567656107547,508.6885250631734,4617.608445236381,7589.239910916121,760.7149513567291,1259.0194226760398,1312.7713190062907,3605.1470235350625,3800.306492931739,6978.472453705863,4639.217205144934,3370.593401423354,7227.181954503001,6381.159311990768,1584.9349274331282,6835.166790922179,4663.453945059309,3995.305289375255]}]},{\"name\":\"series 6 (F6)\",\"data\":[{\"name\":\"series 6 (F6)\",\"type\":\"scatter3d\",\"mode\":\"markers\",\"x\":[9900.09241342151,1152.5274131886,8174.845963213627,3506.772432639513,466.77726395297327,2913.3279108134648,874.9278663696791,4919.048089429295,538.8030386676456,9103.192627106693,1818.0244750462948,1032.9268567219551,3972.49065625488,9012.62777852407,7783.157864544565,8524.51649900571,5985.354691838638,3007.3682430586114,8123.640526458492,8988.080900959,4208.131573259762,3061.8108195766526,8241.709180371048,5710.62759849161,4836.611578554961,4264.823609929332,4444.853143539964,2658.038693364387,2543.245740026616,6126.36051151595],\"y\":[7950.2502507282425,3177.9297650660874,5474.5156607728895,7444.954345258096,8626.002540535694,7262.320077621932,2138.57303595118,8740.29549138512,9692.613667773081,7863.578838193706,5278.666210590185,1811.754716343258,3055.429272187884,8720.009728294777,8931.392173909699,6852.834743062054,1198.516389996881,8422.824512246265,8784.822529180761,3733.19107210901,5642.73343771246,8044.144724804628,2680.071900775892,5553.992425558509,3855.4979455198645,2546.0661483114,7640.892045058734,9389.035042818106,6197.034409037261,9403.705233789877],\"z\":[2169.386705307008,1243.167559997761,1997.6416637314242,1400.5434929873084,7711.965447078674,9691.222265513363,9182.793381321339,4392.270751530275,1178.1622092051502,5404.787124716787,4997.640730381367,4985.723656890574,1185.9641211105065,1830.798556021719,6329.76346521347,7542.403203285782,4310.813517261988,5655.069638853865,6888.770898480242,4691.4464879150555,4031.457447976569,4365.514740549456,5073.626415119652,624.8200217895228,4294.335816434353,2223.9674113385877,743.3330657243254,1847.8908095559532,1659.2184353389039,5262.13288726624]}]},{\"name\":\"series 7 (F7)\",\"data\":[{\"name\":\"series 7 (F7)\",\"type\":\"scatter3d\",\"mode\":\"markers\",\"x\":[1303.8815325015441,5771.420662410819,4842.311915369165,536.3535670696318,7534.1292644369005,3556.425820005371,8139.075613653343,4807.508801691067,7395.5475521091685,9961.226622490203,5687.500708090946,3056.512995772844,1705.531176922056,9590.407812653495,6823.624975012672,7802.508981423624,9001.241038513068,5908.300881053995,8884.564324330411,6060.003856865578,8180.707776960721,6654.98584314946,2730.3663670005653,1952.8290547025106,6580.192622379871,6890.7060068464425,7984.501451980301,9496.947370209507,8031.571582874162,8794.977770254747],\"y\":[9533.823277501182,1870.7733139441275,140.76452935068428,5559.5646902186645,4182.347350871727,610.8117065140584,2538.0082602395173,5239.882903346345,6519.211838196425,602.0584199360168,8173.0308054720135,9267.287236724618,6039.700667282446,4476.7524011383875,7862.949283200018,9475.087095867113,3349.2204413873574,3091.7040915880534,4247.985703695447,6954.022997934964,1883.6458385147648,7123.5692190954105,5069.853659053174,5828.330168365064,2995.459613889886,8503.074080432723,7259.9379846113,5131.406759324209,6483.6248639609785,9403.345396778705],\"z\":[2709.1576054956968,2360.4918729480105,5686.151812785653,804.1280841095233,3788.6578625311186,3002.6522178645664,6107.82954167407,2272.828666675105,1700.258408725861,1349.7632280572725,9221.613857738308,9534.947823518876,3557.83606371783,9258.065282815487,8560.671299622813,6650.618872996769,4735.591426287894,1158.26398024105,3509.104421370912,5170.6012906419055,1466.4204612796993,5585.032238068726,7302.8915995161415,3514.2231491174257,4933.364451202311,5770.168178953764,9668.590857036565,5993.405485985008,2169.3904240791517,4431.547527416623]}]},{\"name\":\"series 8 (F8)\",\"data\":[{\"name\":\"series 8 (F8)\",\"type\":\"scatter3d\",\"mode\":\"markers\",\"x\":[1255.8786105436548,2401.0421981479067,965.5126480977483,790.4019738232315,6561.00264457743,5888.651280116537,5684.531289434569,1062.3470044454043,4391.749033097762,8977.349616111136,8387.435223150156,7192.973757766858,90.53445058349152,4977.852431888075,5001.7739398435115,2446.7029892650326,1710.7589071791829,4839.326681464579,9396.076964039092,6608.002777055435,3132.555876450842,7503.582323301822,9171.659136790642,8016.948240376148,707.607426451956,5210.215071971012,5742.916929314076,4436.504022025764,6438.6972237443415,3879.959177017843],\"y\":[7849.490921316574,9836.790771821072,9928.193196807078,2697.6516462990853,2028.4263057936646,9581.996786139409,3370.669318739892,6322.843838003362,5771.7402990328055,2218.4793968562467,8718.387779964818,7775.244398593321,9104.55927801211,2087.9950796177914,3814.3809887041393,9973.811108835274,8141.263742776425,3327.886175124012,4766.388419666399,9152.455288016949,9811.83915185369,2470.445571717417,5125.917372687456,3931.959390710282,397.8966130026329,3816.5651230204335,8540.213226363214,9696.85136118715,1777.599329558649,9034.173557555443],\"z\":[460.9413927892969,9107.618502086785,8350.984166463613,19.85045851068734,6221.897961239404,6072.7857716868475,4501.947413211089,1962.4009099158068,7339.079258991804,2312.0203525070847,7150.4167352769455,1760.060371105424,5239.962240330123,2760.5722752409565,458.0083831082871,5468.39733151002,1794.8555372704245,8496.992418029846,72.7240728340306,7293.861765139993,9001.703480007502,3620.2159223283193,2433.014308557896,1798.3278995473495,5966.73708945548,5558.740260443325,598.7993974594951,442.8651708196041,9926.881859742438,6663.761217137262]}]},{\"name\":\"series 9 (F9)\",\"data\":[{\"name\":\"series 9 (F9)\",\"type\":\"scatter3d\",\"mode\":\"markers\",\"x\":[1836.8010823566717,3374.3597827104345,9475.850744001178,8619.77866416026,3759.8101419287586,7446.5093689916475,2384.360956407716,200.32083716502558,5204.274048561741,1867.0898557923454,7445.936166804423,3203.073535145591,5227.859606761249,3576.2979950682807,9633.2633772229,1017.8486410606102,8618.406963615767,5486.355719562101,516.0964815498959,9212.45957470176,9127.962411355113,2050.4514678566143,1370.2071631935842,7765.716855261619,2280.3348938383206,8279.494458817875,4697.908630264399,133.39445685245366,8047.896525270588,288.0356891557412],\"y\":[984.1817686047926,5202.162135600119,9953.10452076934,7726.108889480072,1428.4587802717917,4368.112957527595,1222.4926130595304,1041.6330205463087,4120.630207984983,7470.663449166162,505.64446903376694,9418.405553177716,670.859180296034,8119.240944726575,9368.925337593386,8447.612736400946,2656.296548629472,1069.3101396104632,1283.517563591261,116.16562579061407,2413.8173598391077,1735.9372227167137,7149.567280781312,1533.0687692212118,686.4024343733277,677.2287091103335,5533.017705545957,2965.413966976241,4421.812509959442,3936.6185945897782],\"z\":[6738.969903113322,218.48440502100885,1625.7160655334458,3502.1263076513296,8605.174838002058,1169.8453164754453,6587.445394723412,822.3378498670686,8471.531828391113,1355.186454949867,8025.074414983461,313.0152160177802,166.2274873905456,8904.073087743302,4737.524603576797,9094.86966894688,7046.418949587262,4836.652956718613,8204.922924845052,3822.1798149175434,2141.130896607022,757.7593921702053,9244.449756961698,5393.575715706762,4266.298057805778,2322.73432431762,6307.433240241881,7580.450550151544,4616.656584601429,3499.6955442356502]}]},{\"name\":\"series 10 (F10)\",\"data\":[{\"name\":\"series 10 (F10)\",\"type\":\"scatter3d\",\"mode\":\"markers\",\"x\":[6294.455593012886,6165.102047409275,1786.4451375234125,3615.8546072933605,4868.763597128764,1049.844672619936,4430.650827219029,6450.887732052035,2164.2777711765316,4979.979144648129,9850.793978892429,8228.249872347025,1513.0223461364844,9017.638933627682,3674.013481868846,9255.714644949372,3357.805736195544,6710.182533360836,491.4846856623178,2179.3110390731763,3869.4993039506885,6015.933790763985,7831.956827709323,8340.220906772367,7954.282062694209,481.71752161640825,6168.475568832783,2562.0913863518713,9314.724445589754,8910.775571417029],\"y\":[5791.110984828003,5846.604687384658,6019.612953254071,5816.292058174507,7325.781953403203,4918.04151635804,8640.920044710421,3324.8942865533772,6439.036254657244,7332.964011603966,9432.351023847295,8876.137584740089,4840.9021845812285,959.0331102886696,5252.405700800246,2058.124212375696,9082.704847283443,7027.366918091259,3975.914080943982,8226.043155508649,5843.995478402818,6675.738658614095,3991.52019971731,6169.56605007523,7412.514647571779,1925.301866284831,9048.600502619012,2026.662919443556,3883.3728717018466,3371.421123879189],\"z\":[6195.623297220733,1885.556216670825,9238.398156316185,8519.577343698533,2842.9673866665116,1073.1605252469844,6913.865096817727,6660.206902842646,86.73816820274793,8997.50274770312,6724.588736795923,8451.72818926212,3346.1284272630064,4593.254344262094,9084.627071357252,968.892991242073,8095.396940713668,8913.652992246709,4349.60618536141,1873.9952753429668,8012.539396820905,8218.722675425388,4802.944989067456,9581.362239513763,5220.256688507205,3028.85429464243,4318.023979948028,9810.936883691,7460.830951288183,6044.435137186899]}]},{\"name\":\"series 11 (F11)\",\"data\":[{\"name\":\"series 11 (F11)\",\"type\":\"scatter3d\",\"mode\":\"markers\",\"x\":[6050.6059256531535,2764.6590183651674,5025.039435006566,4576.370235709357,1650.583577901883,9309.737151347368,1046.2513456237166,1188.9685909532388,6429.39482800884,9015.795680756044,2374.3679382613514,9625.814000367693,3679.212529080802,7668.27476463613,4660.282577500203,1770.8762596627826,7912.277683111515,6968.347280086934,4510.052821452426,5391.2650952166205,1173.5157244222016,4530.010348239482,3608.9911303538156,1714.6641392171002,8776.837746700907,7997.898896180644,4569.398273660635,6513.625693086119,825.2957263773009,3134.7590802370796],\"y\":[5921.677653396433,8300.546123092674,3697.5242985458776,2065.409510860513,4147.085536241026,2481.285882844807,1317.6706818394223,4514.410630894526,3941.385930145663,872.0329064325316,9473.277451662245,1837.551345787306,4002.198195768778,1853.154921046687,7705.3474775993955,922.6549839602471,4548.835398582733,7615.421992122515,2367.0915370188327,2623.0910630501003,4511.952596717859,1448.1239639027965,1332.6154352061515,7287.782720261022,871.3382450457275,9825.248708029167,5534.079622521501,8164.372113702052,9973.693148007635,1165.0223680495865],\"z\":[5015.6217070384,1977.6167577334381,828.2655584856269,5569.762801189142,7514.601166271342,4822.9624740680265,3356.718146258457,7597.128344734272,5715.4924038667805,665.6419670131419,364.62319466363914,7170.49074164458,5269.01558640421,9198.531301845918,605.496858466944,2105.2994086502654,9428.860392194958,9587.392115410808,1724.299229214038,9409.947333138829,7730.625461141296,6720.013312904814,6095.840134180675,1513.7825864790411,5522.361630990688,6976.159589821161,9614.549982144523,7881.561159209504,8353.368490573419,1248.1270185050253]}]},{\"name\":\"series 12 (F12)\",\"data\":[{\"name\":\"series 12 (F12)\",\"type\":\"scatter3d\",\"mode\":\"markers\",\"x\":[3345.588493632696,2092.766920645133,237.6659779843049,3967.0877239230394,613.2798616815827,9395.871724946255,7630.8246905235965,8228.308827592822,7581.378248282029,9991.744417322492,1593.6014294192457,8758.709913618122,3670.6850647709143,8857.06572867663,9063.10011067891,6433.122373866522,9263.050717807644,3787.7354921937913,411.93541375207144,320.9978047579021,2056.817648739088,9523.911441434479,4548.146618296267,5833.210064155778,167.26398241501016,7312.448266750577,4693.375902982691,438.98012940332467,9606.636956688455,6069.155722747898],\"y\":[7674.084478596952,1635.8462823165355,6131.87171296205,3422.428737211308,7070.355738594846,5380.995443242152,6614.107071799888,2351.44510929272,5889.088539753226,7030.155147364161,3062.6323175597113,1876.2687101535912,7563.160775119185,980.6425010768394,3226.9055694817825,8313.833791315034,5025.399314658047,9678.056804901384,5303.8076572417485,6982.929644524759,6365.964716758344,7421.486531118986,693.3054462895716,2922.941328979034,2154.022673107614,9490.002840883559,7974.217773108604,3185.2489215980495,3889.3354969172965,2513.590136892151],\"z\":[3312.7916947580993,2562.8215079333927,5246.682044291003,7724.565616341776,7370.310505010935,9242.688545183692,7785.771233200999,4750.925075822331,6441.975669669787,6797.606899885968,621.5822983624397,9950.940547484373,6037.811773625423,4177.389142877672,9184.834407518723,9938.733121777252,8407.370726557703,5916.989111869741,1649.5498775427197,7913.427545407706,1613.5156295058407,647.5935174884017,2864.4396961538678,7679.892335139574,6676.589670263264,7178.59876844916,4697.112443344669,7836.952502481901,1038.7815545955493,3912.498968639594]}]},{\"name\":\"series 13 (F13)\",\"data\":[{\"name\":\"series 13 (F13)\",\"type\":\"scatter3d\",\"mode\":\"markers\",\"x\":[8584.863875921219,6509.358959331922,1139.5281648999235,9161.348265287816,783.078810573039,5212.689600718568,4246.29402196506,7052.604496334708,3312.0368820549784,8965.738212640807,9851.096207664521,6143.79768754214,3925.181913153082,8602.85166217972,3921.6545559756564,5609.612180987074,6556.678346130155,389.05546085603146,5087.058465086358,6921.608049089128,9653.348180141422,7503.704622869141,441.3646513939973,7309.94862818364,3555.8404032942126,7733.784094310716,64.54996999822882,4978.1448537560245,9666.157035548942,1805.87476577569],\"y\":[3588.7618215374428,5035.964059052918,3523.421767663817,7186.19466579856,9178.82447604661,9422.291738717367,1107.046971289336,2891.006955178217,5149.472721910469,3708.87843627795,2696.211555483561,1875.0892870514979,7107.802936600692,8607.540703000246,1436.840326039136,8903.838261050616,8987.94614095256,4247.529747933285,4402.030313593147,3464.980550342154,4635.981118511007,846.4171166412482,2379.1406116196476,9238.749760530838,7706.626451596685,266.99272159966483,876.5274033521398,3920.780239492927,1549.2598687696136,9134.306236953333],\"z\":[8915.169527797601,5779.85755253116,7489.332177903883,5681.127337766394,4055.197354691373,6233.059257524517,9452.26129135354,9296.739501951946,1804.6039891200817,933.7064430057441,5230.399897944025,3873.1202740744543,5067.179481340759,5392.9406824644275,9859.693532739575,3474.207252892794,4608.979038081825,4993.629050586354,4551.158807740564,1598.0827472296644,4657.401509257407,3405.6908803211572,5413.323931599227,3358.5566775112297,8694.21361547919,7874.832523503544,9805.295496897059,3281.7652764357554,9263.631136774795,4632.066041890429]}]},{\"name\":\"series 14 (F14)\",\"data\":[{\"name\":\"series 14 (F14)\",\"type\":\"scatter3d\",\"mode\":\"markers\",\"x\":[4576.126285899985,95.04050832859656,2188.826328847605,2759.274499917088,9674.674186217484,3879.4551448566217,9974.996800037528,246.48466033464155,2655.1640045784707,264.07668322577683,1374.40347974898,1689.3923652181531,4457.171605409088,959.1150713008878,4098.54059366695,3101.078920359327,4504.7700541342265,9856.782789015755,5484.877624615029,5649.747363921134,3648.093474813332,9172.828496108992,1560.3661848440731,6784.696484503264,6761.587031931628,658.3478048954428,8391.1845178484,4175.645906074125,2916.729906608556,2780.6124521275424],\"y\":[867.9438511912163,5165.908106057667,9963.031629319987,5953.302209793743,3147.8579784862704,2027.8020844975863,2079.618254051794,4390.662158152434,1860.135704156266,1209.0884563117177,3400.7428675515625,4966.751429187696,7878.124941192872,2972.100241007236,8172.067967488577,580.0873371500204,4971.5019616822,6352.629544447621,8060.579338183047,7955.632120781772,3974.0643307048995,3203.5261427849214,219.51948747103822,7560.205961259734,9237.453194510968,4238.351361067623,5500.725799515745,6364.056945174384,88.3932870950066,9453.322105280638],\"z\":[4810.291659207336,2550.453712253915,3766.8094844101784,5081.170092251614,3019.472945149655,4956.807693435748,7894.4392400767065,9318.434399291998,4071.2830676659905,9024.97731814987,9908.328363933628,9468.089354691676,7964.233452921514,5345.040406064362,8090.865308523597,3852.3128234584924,148.1927299116126,6495.967446946659,3837.7668718466784,2875.57353220346,6533.35447951754,2818.2648139378684,7627.707895955273,4956.124744846571,2791.8162307698867,7997.8004357687605,1792.035943043021,4694.367993608494,4922.291124641207,896.66270430103]}]},{\"name\":\"series 15 (F15)\",\"data\":[{\"name\":\"series 15 (F15)\",\"type\":\"scatter3d\",\"mode\":\"markers\",\"x\":[1630.2913504596218,2609.4474376706057,9151.986836217618,936.0466970574888,2677.014031705772,8050.828774060219,3165.7034887184177,517.8015074362796,5997.579379367741,9479.49930919221,7380.718043124729,9465.409343145215,5275.580049184583,9213.822849023332,4527.037005143007,3271.814487087973,9151.528906715033,2947.9745133952274,8146.115088087233,9060.656607800369,9782.427076417853,7876.261955508285,5787.153811945555,599.101669617369,3914.007032380189,7094.5437021472635,658.6125445303682,6444.610786514387,5892.223265365264,2100.3335484620857],\"y\":[6283.570597057501,3364.620138244687,2987.8338752092072,9676.079230463163,2311.107244454438,537.253325310858,2167.677142448785,4215.489239214073,6051.872842721898,8722.821627151356,4018.5141196844966,1640.6736005515788,3534.5425364154194,2590.0125796441685,3914.075889135703,6458.256762569412,5920.862467844772,3687.3050732233246,2713.21848382431,9215.508641696177,1970.509316316832,6169.293649650443,9286.85239705155,7642.932913722497,4913.003354914525,7319.23945250535,4993.581131622214,1107.6401128333125,2562.428261760973,153.31316253360262],\"z\":[5858.749896273899,4652.225215216602,2801.7285403117244,5948.627166850324,1658.8689577995997,5856.760067755093,2666.87073441478,406.30489035448636,2373.1418168400287,5036.900574685824,8177.1681157128905,8342.465319490348,1536.0948031512378,6878.99921110805,3786.5865809345346,8294.152741012304,2910.0730744162274,9513.506681948857,4871.864972171874,233.8685139968344,1593.6262814259483,5240.831659622183,4026.7965204220736,6705.519022343143,3191.581706760445,5649.225821800997,2098.0364660069617,126.21699736151571,4994.861456458501,2702.144113223144]}]},{\"name\":\"series 16 (F16)\",\"data\":[{\"name\":\"series 16 (F16)\",\"type\":\"scatter3d\",\"mode\":\"markers\",\"x\":[7876.314443230308,6742.528316920922,1252.8675734667115,6522.926329533272,6147.946977408926,786.3907269275705,568.5295324999529,67.53445816554348,2415.061108886808,745.0680874571591,7205.865331989465,651.4718870657066,4008.953985752345,3341.154448501438,9672.180122364522,8384.898454078893,1549.5325562964867,9812.771491285528,9321.790265081383,1970.3521730901098,1744.7885347060433,3390.7526517410224,8925.422907124694,3030.369452558347,2377.7840434399122,6488.742108217308,6159.213651102214,1157.6978218242118,2994.6342757469324,1053.7804587263145],\"y\":[9789.48147549008,3218.674046022684,285.49394731533727,5769.08643278271,6964.235134745102,2090.7416391505894,5441.56633570212,9357.390727418444,8469.622933084294,1977.9640496175498,1874.669260904862,102.31078040611519,5069.310205248235,9723.787317108703,5601.913377359704,7886.9009672216,2117.026101179914,4128.189428519954,7326.554063174788,6542.653301407634,1517.2988240279672,8176.751991356013,4787.105067348597,1108.8617639641684,9806.650267634803,2302.0732439742387,6300.306547698254,6721.4057407222435,8637.29681057415,323.3394867239503],\"z\":[1589.5669047174877,3281.6496409612228,9267.667533107275,3547.7521128284693,3969.0027821605854,2800.2924334792556,5798.8090995038665,2667.9124581298684,8744.225742000366,4367.647469085056,2843.0222799153216,1552.1430303840511,6294.534348957386,5070.967358315256,2070.8340027006966,1800.1222836274987,4717.188771762596,3861.073638872373,8654.676857809662,2024.1020629842476,6142.958858709624,9364.690852604632,3012.4139386512106,1216.359626944824,2873.156106665292,1945.5228840773786,5451.110217775466,1276.4346425673423,4341.866985132897,4936.251803369791]}]},{\"name\":\"series 17 (F17)\",\"data\":[{\"name\":\"series 17 (F17)\",\"type\":\"scatter3d\",\"mode\":\"markers\",\"x\":[1321.2209433419687,9797.089667192497,3573.133525838097,9895.282875425823,2113.6295567080256,545.8197658604557,2281.3292599160695,5986.1926712242575,3566.735181543539,5729.133646493021,7054.003950976202,4134.486121217988,5298.056712188216,1089.714014421652,5159.983221308392,2485.403980674634,7734.580973048704,2161.9587215570523,7441.521468236852,868.1619640879102,1188.3552561616607,7599.293749398636,7477.8272098083735,8466.150178988753,8808.58369359198,3387.0393345789853,748.2929413563367,699.2511162932713,9838.756673986221,9967.501173694249],\"y\":[4877.27730683417,8443.587909020582,2117.1072221402233,2829.3521639839523,2208.304103022726,5145.643276012291,3080.9509070994445,5951.254031017388,8934.056019448748,5131.839268751422,6670.237454949854,6640.067795892625,799.5598637911438,9471.30287472528,9472.90195545057,9766.8839639573,3999.4722617576326,4118.685051745748,3214.37222863268,9179.5006552953,1306.3943099665155,8745.543572663006,2265.853743442938,4157.864716170172,7695.653859977708,3662.936294450212,4230.781309980735,9179.381306377114,6773.016925990931,6544.515136789182],\"z\":[8866.085529921087,5973.892593112795,9165.297868741947,278.55128520257733,5604.698955460471,7873.5103513059075,6699.858186858568,8208.96369082828,2767.9803523148325,7800.382080045729,1677.500447179161,3269.557180442979,2191.5102394351206,2885.8613896858556,8834.273083974087,3072.33023840468,1434.9713734100678,677.4391062465523,8691.227037479495,3879.8385401168357,2006.5956656823546,4165.190256331595,4907.169678785156,2573.248523310175,6104.9247779812,5447.373438545347,4977.988096257646,7221.859452848288,6265.394739725374,755.2176270369592]}]},{\"name\":\"series 18 (F18)\",\"data\":[{\"name\":\"series 18 (F18)\",\"type\":\"scatter3d\",\"mode\":\"markers\",\"x\":[3167.1211730992045,3666.5025831116513,1996.5249073188174,2769.816045884225,6905.27955680259,7648.376570984417,5000.252047969104,9689.443774614976,3063.527174804762,9446.512585202374,9893.221843509427,4343.498224147292,8482.35409208967,731.2080124556242,480.6082347931673,799.6607022380708,9930.38480857584,1397.4031175268376,2581.3061629253853,373.76093066607166,2269.8836232425256,7511.120739464641,3163.098156994597,3727.2225970235395,22.232593564905923,183.72513078576236,2118.6711452876707,824.8529802919224,6755.075045501399,9182.900104350838],\"y\":[7398.11793617971,5926.137372201593,8753.829898331276,4395.88682193833,6410.8264872073505,496.081560551469,4293.803714204616,2879.659329764921,6619.426094224546,2947.042699502661,7495.1340754466055,9164.360110954069,6070.725073167114,460.8781136191431,6221.325098217853,1720.4571583548545,243.3372886536256,4791.127437456107,6773.137862506882,9056.723737578503,5038.966182296451,907.8423720705941,4233.128472765741,4785.283748778072,7004.074503608683,4623.062527789293,6232.129822544873,2171.6064263153858,940.9373544541211,2922.826180540753],\"z\":[9637.495368780395,5181.475081119575,1951.8411189835706,8632.003234194617,4203.940187055003,4843.591071883773,3657.456133303102,9251.117878593554,4581.32270191371,6865.623026582568,6840.17461557767,8329.7247839967,2239.73480011879,8873.143318846958,3085.476368583261,6578.795060908974,1850.7773961473351,3385.039332874449,6129.144456431061,9074.953510504787,2454.9179622209203,5695.628095374762,9565.420667795986,4372.30254128671,2348.3402644787966,4202.838966521263,3330.9592549550894,1112.9593563786023,8038.7106720401825,4403.475016144568]}]},{\"name\":\"series 19 (F19)\",\"data\":[{\"name\":\"series 19 (F19)\",\"type\":\"scatter3d\",\"mode\":\"markers\",\"x\":[2951.6994326750632,7815.321026892145,1847.806632169934,6770.702479143772,4924.541523190635,1919.4663968689308,9779.961414020838,3035.554798732303,8802.983807605087,4881.988321132912,1128.8009434954815,5013.384254538548,1565.6354833367302,1137.949850964347,3960.7575546305884,5047.83155730647,2668.78977161207,85.5359538885414,6092.371719890864,7389.023248859196,8819.009588643128,1899.3779529388955,9469.394122581689,5379.350957308045,5948.938242395902,9941.402237917597,6959.229102326042,189.32404931660486,2139.316927129471,4813.462458466403],\"y\":[4484.268259438767,3027.6287224003227,9302.45609812736,7683.886810833154,8152.183373683237,4243.6683654661865,3327.173887625949,3420.481745731637,5580.257233477003,9547.499700888964,2082.4751623697025,7275.406394872379,2964.3546660866127,5691.218445507531,8187.021975231659,2392.736336896296,4609.145099464567,5387.492653448538,8773.696218515875,9247.416610333568,9614.707108061128,3985.077821576639,7613.3351673422885,2274.701172879066,1205.6591009826323,8477.791788919709,5908.978600874319,3412.0609905167676,7792.47783998605,2792.568566776166],\"z\":[6831.732109407912,7050.937670557388,1270.679631358157,1983.846410217257,5441.619374056296,5983.609426338141,7292.058399551297,1955.6911384761122,21.560831484733754,3330.8247544495616,4283.1849243285415,639.6942419672314,3049.8812321874234,1148.7503922037956,2839.89391379309,1175.8251710665224,46.5135711080189,2439.175989804158,4792.4940669959615,7575.058237291513,2350.335737299584,9624.797020644919,1714.9600581086788,8586.737665223662,5519.837222881702,9201.802232672775,5942.370325754344,6050.280125678085,8496.58229502454,9244.87085575928]}]},{\"name\":\"series 20 (F20)\",\"data\":[{\"name\":\"series 20 (F20)\",\"type\":\"scatter3d\",\"mode\":\"markers\",\"x\":[3264.3831443208182,9879.958948527967,9930.701247142826,3715.0822300273567,5378.546515101621,3013.153703104964,7139.90479307969,5109.12730176865,1915.7624786278982,6146.58830964112,58.284609288600244,4888.605875410293,6391.236858711845,3891.720753827055,7228.429504416947,9341.080710778544,7787.7616181091025,1099.5942257346735,3400.145742792602,7049.950243498578,9644.196402127533,537.0894012442074,8621.347447123837,2988.0970748575432,1500.5261019985617,840.6695207556525,6841.436138922428,3400.6522895063617,3341.890265778452,6730.341577055864],\"y\":[7994.761599198209,5105.113533121286,2287.4952549733785,1835.704362564824,1291.5222267375714,2612.4404974755275,2186.3356603323823,8167.588735568321,9015.722234791398,6560.646176933317,1010.1661602101142,5262.941236329138,9514.57651890888,7352.787202710294,7975.180815729187,6337.239447621929,5261.01472884898,8604.1537830639,2177.375685821078,8397.870704384706,6880.701569351248,6028.845735050588,7192.579499072803,8203.541949811997,6857.260042005922,8733.813220971957,1570.6603760585504,6198.936038759558,7264.146749635452,1538.8325436182838],\"z\":[3444.4269863660247,6110.463271813949,4318.891115078151,8903.774834603491,8577.259271334411,8758.102779857705,8815.185189966875,3319.9197163297567,5089.520410093624,4819.966899899403,5560.56665160607,3609.956003563235,4832.319095914289,2780.3612329879325,6832.20783695898,1481.6972352449586,918.2007794709946,5098.755442331123,4560.589317588121,7893.43902338453,3271.868292943999,7756.221458011758,3460.60130343702,4314.269263459395,9230.046673415432,5767.533176671952,2651.8827588084027,7800.5324783296455,4198.1177810454565,9991.263324870135]}]},{\"name\":\"series 21 (F21)\",\"data\":[{\"name\":\"series 21 (F21)\",\"type\":\"scatter3d\",\"mode\":\"markers\",\"x\":[6444.9696662495235,2960.048200451771,8162.1754874469325,8626.858893503364,5917.098413704115,8338.561277870069,7458.655135657269,156.80573511748784,1661.2639815965924,9538.305958716262,7619.719924895609,3173.647716384871,4664.4092788916705,6466.445647866052,2341.0917829907285,2525.755421554281,6655.380791439632,7511.546720132864,5660.037178244573,522.3834463590182,3460.553782187634,9159.134024077553,9284.727749108019,6557.699798615781,4914.794359077065,5582.764275689219,4682.218565491163,8445.105698768628,2697.6951903877757,9084.949468473587],\"y\":[10.794222545628118,3997.3056912184766,3099.781448758997,8912.64470523455,5273.457290872773,1944.2358393826398,5170.6550127746295,2934.915226524366,5172.839143542022,7150.084912948955,5960.805548093813,3945.7787674777624,8063.8408282414985,6272.299505592082,3641.0864981690947,9943.118822425862,1128.8157057635583,6499.591427023148,6168.618826578998,5634.944980427754,6441.128055125412,1812.6135194686233,7865.147655071955,637.1793418656702,9936.4380150122,8330.111731452966,8783.648356480133,8352.526197866116,5477.072941894931,2734.994754929838],\"z\":[2061.2389241353667,8357.88080105267,9173.366696535446,5518.911190191507,2591.2251129077977,4278.123418765032,4916.861257065599,3840.5588403094193,6294.366348120506,8587.03021664912,683.7835545214399,7162.096983118366,3029.2211617292155,5551.428070618668,6583.217548301562,2509.6655880242192,7753.692462855002,3622.609459309546,9852.923216300254,5198.163898409096,3934.6575009721096,8979.414491944091,9046.748934656884,5167.077468014455,399.84029920050455,2640.2760036921914,9511.120045270483,8693.281330470389,7835.84103531764,4586.917803727716]}]},{\"name\":\"series 22 (F22)\",\"data\":[{\"name\":\"series 22 (F22)\",\"type\":\"scatter3d\",\"mode\":\"markers\",\"x\":[4914.086173368629,178.3933065611465,3958.5081746898422,9680.281732153198,5068.934008241186,8952.387334455983,7016.6009724495125,1799.6573304513963,8585.385631012434,1591.8176411984753,5736.962676500887,4598.867661704093,9984.917879027622,1120.1499631900258,79.17783094392506,9548.768599805804,4832.75314387512,639.3293289354363,1239.9684830020697,4523.197865484091,3167.5901345431034,435.8600238793375,1232.3345289035558,9085.906987451614,1051.1546639537883,4411.313638300577,2061.720711903103,5848.899175507092,2413.1725724641306,3806.3163000051904],\"y\":[2031.2505661298885,797.9850673606915,8533.372961802406,3618.717175593267,2030.3391127981208,9319.261667790393,480.6578262749861,9860.766705223801,7795.757816683619,8810.606063545523,620.5764002224034,3856.7905464075116,5081.489866640611,3225.1707634559702,2905.7696065650694,3151.9678302764387,3433.4870657602746,9669.256432284581,8080.05942254735,7284.480412491788,837.6942354315164,2264.826021417129,9155.374064356809,667.4247851164461,5894.481796074019,3887.3194491112095,4561.718608849816,4133.532492249613,6369.889154107647,2102.314550514952],\"z\":[1223.9112893193249,1314.874020771477,2983.8453029387547,1649.9729041795308,7484.827445593396,5961.370815728806,5117.8022116614275,2164.0988105831416,6273.403028965683,1546.0733428282458,758.9820390820379,6463.032258734338,2206.669713250287,5061.811876677771,6445.700227520456,1712.4820364398618,2418.6042260786157,2782.957405215526,4237.9971077125265,3035.804079931964,9824.597692145413,6947.680110103799,1810.077670014001,6735.112916930376,9258.857068165753,8810.226546957203,8645.81398531264,8187.0090950823815,1463.0742714836642,5319.383114394321]}]},{\"name\":\"series 23 (F23)\",\"data\":[{\"name\":\"series 23 (F23)\",\"type\":\"scatter3d\",\"mode\":\"markers\",\"x\":[6015.84717769295,7689.594774675821,7258.211793427977,3798.4267390304594,924.575659275837,6062.84035311175,4397.263597199282,1433.5135679767586,4537.591352278786,642.2570788558036,2575.3780879425303,4121.586939378982,3734.890081424053,1456.2168028911472,7864.731653263953,2285.5366321069127,382.4418838041876,6840.157293395007,6445.066624678752,9633.47288981497,6674.4832598795565,7516.296211608775,8916.819996482353,4520.626735023524,6471.1467413427745,8255.370818375657,712.2842065190272,2566.5231313191885,1940.8208158209784,6637.309297453309],\"y\":[1161.2556040335876,3486.7175209479074,2013.8884351525433,9140.633376261567,3621.1480988730773,4717.527091036723,4164.263935300947,5815.776839117301,1747.5562539912094,9343.82461233538,3857.415648252426,6135.400678807159,2459.7759360066675,6084.1094528557305,6638.31763692868,265.17454211474,4446.79894293438,4643.705788421258,6280.051615785574,1961.3826481856322,2162.8204374573033,616.0820804771727,8673.537658123989,1577.1057107881436,9177.30934527258,293.9220282642052,5211.139091497179,246.62008294771053,1473.2064362451024,7245.7271833222],\"z\":[1301.6572335072985,9218.045090388969,827.8376577280488,9320.358135371082,5351.488781453327,1517.1623089438312,764.6344633624158,6861.07440979545,1056.4955232780026,6650.717131856376,2729.7814413015462,342.2689998092676,1171.3892216835332,2895.41050207158,8126.41457423226,8386.230566361954,4058.2108277908847,5869.16988300976,2630.019984601796,5173.9134186402625,5262.7429682167185,6544.189022777301,2812.190712811453,9632.831575995862,5127.460718711955,6636.608578343948,1515.9196832770715,7466.835942645086,21.89326017514648,4395.605798389226]}]},{\"name\":\"series 24 (F24)\",\"data\":[{\"name\":\"series 24 (F24)\",\"type\":\"scatter3d\",\"mode\":\"markers\",\"x\":[7654.119373534287,1086.672021697428,9156.033340550546,9215.049311578601,8144.076822074447,1806.8611288668835,1139.6982012864587,9203.765806844574,4544.065762499078,3293.579429944824,4460.508958210941,1875.8576827146146,4624.35703074777,5179.862976621258,3875.42191039057,4460.39936844022,9583.377865332166,1008.593333643053,345.5169729358709,6980.232580231596,910.7948946134359,5220.370424726829,5590.999015749279,8212.468479605519,7002.802293683942,9772.51306568686,3603.1521761509443,1918.7000646850595,8550.917535829169,2157.072060135583],\"y\":[522.2387399857264,8320.812671809466,3454.104925494692,3079.8766323798477,1175.1062993681794,3698.6772908199728,6545.052442445257,3869.2836724303315,5263.530240373757,9198.897406083379,6774.958050316462,802.4306690190652,8704.086303755748,8469.171359953492,4667.183286797644,5968.43979271209,5942.611055461782,2570.7277528699356,5828.655768230042,2032.1595638342571,7201.075393026275,9771.672667214514,2098.916916018715,1318.6714357343722,561.9614403382789,7286.989399104328,520.2218123348457,8007.928611690472,2554.9999231063434,1806.3100940844379],\"z\":[1728.1224995204082,5910.534685580086,2483.3869630641757,5738.480551802219,3590.471319833387,3289.811891446421,5111.369442616266,6502.323513007481,2963.8062397428953,501.94958702322714,3532.3525171082724,6905.894470380261,8289.588561019753,5845.1599518946905,9046.445214513125,5681.924009252948,8418.783450587296,9940.415249469728,7698.630345828367,8585.019102710286,8531.785205931814,9210.475392473007,3763.506762606137,2106.597510315239,2311.7117823547383,4580.56010407905,8909.822179096229,3826.4125885575027,632.5985302733617,2393.1556705035796]}]},{\"name\":\"series 25 (F25)\",\"data\":[{\"name\":\"series 25 (F25)\",\"type\":\"scatter3d\",\"mode\":\"markers\",\"x\":[2037.7729108844378,5694.91887527273,940.0470250811899,711.0926994202116,8854.322026916734,9128.620881886334,8230.394363883343,5677.166080249133,2136.544400674737,3700.9360831989966,8075.483853480042,9405.213838908983,3330.278612552281,4423.994989085546,4493.637685131245,2996.7075254548536,3641.128055341817,6142.189263367574,633.4448080270383,5708.553433723214,8097.121531311188,7396.175937241488,8215.490970650042,4041.9379328455384,9197.10562874163,266.4256219540062,2468.179800893725,2578.6947370881308,7706.213321260804,7168.306385121343],\"y\":[2897.3034273031594,1760.813641880723,6919.510063854768,346.0728473079988,6645.037876642069,6490.346576913788,3287.1913085066794,4901.031105036586,422.5576978019985,3421.110586812548,679.4708821997452,1589.5334641097836,9041.474931996763,4120.229009391299,7766.557464490777,1339.351581242042,3422.8287477144027,5896.6878065530245,7998.89299507581,9458.365028163442,8628.358901090418,2025.7321909661796,9495.084831815853,3847.395537430429,2937.325474088298,8342.058984354133,7779.729539647618,8179.404087287171,2283.1355889575398,3731.41366777803],\"z\":[7760.59868154317,7970.162541158436,467.5719040993143,7919.329113883603,2594.4113172879634,4740.899768628696,4486.416585166684,1137.3932094325878,6162.695519546859,1061.3114896532493,6028.793085022731,6741.565048437818,2763.996938963764,7161.719760743197,4753.554303011811,9663.710609712847,2325.9642888539865,8016.0492621904,6299.567972862417,696.6560612992467,1950.604988482807,8322.688366780096,8152.762372402616,9044.708784844901,4928.269830815564,1648.1849278815453,9471.31032311779,3315.732503427562,6490.690445741299,9149.12245185406]}]},{\"name\":\"series 26 (F26)\",\"data\":[{\"name\":\"series 26 (F26)\",\"type\":\"scatter3d\",\"mode\":\"markers\",\"x\":[6761.348592543202,4187.501109920088,1520.6631755550081,2750.4121468243293,5899.142349713015,350.201443206698,3195.7291394813224,7433.624737429184,2411.6197901259593,3008.591508071008,3115.480289161221,7376.880204645216,6155.722081063732,3221.463574640886,2846.8709070763166,1088.1995952394607,3578.021542299099,662.7034762881478,4019.191985427615,1387.1187770790195,589.5868696254847,2007.372290378675,9110.125752394326,7114.751166103513,1757.0771020236953,2077.885593899229,7886.565213993957,4790.376939121867,6989.576591602371,1129.499280463806],\"y\":[5098.644796844232,83.02992473217196,5191.684685282565,7210.953199370875,3472.704020627816,929.4405468258093,5456.8984716194755,3405.2685217673984,2308.6578559631066,6405.085951264964,291.3402144716726,5937.328789565719,6059.52599565992,8042.988878800852,2086.3952063923884,629.0202622855146,9155.630554236988,3195.294807116675,3599.84326182609,1989.345968015166,3033.2403456418256,3245.5539949403865,5558.581078912264,1346.0681318552504,8837.205418216437,3005.016287526797,9662.051424566025,7857.075845556438,4589.390631303413,1464.1458601041413],\"z\":[3244.0052784880836,8983.812548095357,8749.484868730175,8220.94978772466,2641.2454204691126,5065.742433527644,3042.02242091992,4370.6034865249885,5921.508831798108,6003.971984502602,6183.224948100693,1416.249758852729,2038.6669318048555,6743.78556034048,6713.538529636989,6848.738048400163,2711.9342857864194,2239.994151922792,7526.494797438736,443.45970064862297,5366.791858866407,1895.6365850255986,6881.808277845361,1035.3268068229092,328.85223787651796,8083.712162100546,700.3715394843857,9558.332562870886,3127.900638506559,3293.268940343137]}]},{\"name\":\"series 27 (F27)\",\"data\":[{\"name\":\"series 27 (F27)\",\"type\":\"scatter3d\",\"mode\":\"markers\",\"x\":[8761.086510113713,474.02282993963206,3247.868101168806,5685.304371765474,3054.2287858213112,363.5960769749014,3949.5098535350735,3400.5848302457243,9993.311862509334,9421.242848261461,3896.0679101817373,3830.6233484878703,9447.181941926805,8861.726643193,228.22656486677806,5244.70138088515,2626.3400943209226,4843.093685161126,4463.171099657607,4659.956009522869,7742.253669784769,7405.796478507081,7133.587729632417,7648.19958160679,7055.682791577094,1142.402508210486,4435.948242428886,2892.275382987135,1439.8217129488012,2837.4513176742853],\"y\":[323.44725472878923,6736.396111373313,8906.304799683256,154.91201194187786,457.46817709321317,719.0501404063954,1676.9110281722199,4601.087768636558,222.47431561885023,8133.703994764954,2331.050916087869,1453.7016798692937,7612.736609312261,4031.6697422746715,3318.8941421257355,9123.286794910824,3215.3228821550892,6763.140916399203,5702.260341201379,500.90137725314344,3742.2897979187396,8146.552761273811,2370.159069616382,9246.570563645426,2606.038688940092,3663.0501693417073,8173.131148334345,4685.756112764658,885.3030999667589,3691.997044358074],\"z\":[4430.312213601292,6.540845573113074,4695.26217638727,1735.0965681241016,8085.399305848351,9788.105016784015,453.7801465781766,5820.834882509792,6422.473869776419,4541.466131040396,7826.793565489875,4837.59835313287,6699.892947664305,1906.3401545165893,1239.3830942724337,2412.958629399221,6320.23204240022,6423.376169884216,4755.078666967064,7138.25883259526,3226.525605757833,2388.9036768072456,1854.466519882827,9431.774051795926,8099.815844916917,7199.727150528045,1185.181364277733,2140.3605025598795,9630.290367385078,5808.387362215149]}]},{\"name\":\"series 28 (F28)\",\"data\":[{\"name\":\"series 28 (F28)\",\"type\":\"scatter3d\",\"mode\":\"markers\",\"x\":[1708.8787565079822,4098.649758691238,1644.0502432316262,434.7028570850409,5836.805170966994,3296.4823363599694,6189.817255058313,3517.2983431412417,7124.091972002805,9049.419172415286,9824.657065986456,6039.20928289338,9883.921680703139,623.8051446253445,1285.0566115785177,7824.552014832809,1686.2230738241146,3137.004655306813,7489.462177044746,1178.6310940093847,6121.575388521546,235.06636788324874,1390.651011661761,4331.754057412131,2439.5103925197227,7044.2174985044785,9581.071871887352,6547.406452508121,711.4218820695295,6199.2251049947945],\"y\":[9751.55855697235,2468.3365185613748,6021.805321949755,4370.805696097846,8113.583683040415,9299.4876245416,2857.5646345376017,6645.904476414289,4717.489107524104,6764.607130295884,1343.6440920463722,1358.804030770594,233.88936632627644,6423.747980823567,264.2514958905007,8527.667431652348,1212.71667879173,3901.778223068343,7912.4605658342425,920.2539983316337,2094.136221632441,4853.394842369809,726.9945494615492,7954.195558621679,1317.8299300227093,3078.033740083725,1403.503820907599,9131.353983225315,5761.908766821229,7098.458539423516],\"z\":[2708.6759951455765,5512.426631717421,2439.9847926555394,9729.70019352685,579.0210345571934,4857.102369539035,8894.691777574368,3690.410505377906,252.19962843467724,8486.71829564255,4048.219301689563,5146.582077239219,2157.2711463765536,5670.497054337467,9405.178127405497,6227.980997143066,81.25631347909223,4393.098911742452,6450.394604406454,7020.524522808919,2732.9288489653436,5730.351440138508,9843.983707233541,7313.232914553718,1240.7575804936255,2741.666630865669,7588.325711061453,8466.266619336695,9350.44356099537,3781.7940241446736]}]},{\"name\":\"series 29 (F29)\",\"data\":[{\"name\":\"series 29 (F29)\",\"type\":\"scatter3d\",\"mode\":\"markers\",\"x\":[8726.33293325572,6166.960149596489,128.50939647640948,4441.201072276184,6327.660821043818,5553.647066254889,2831.9137528209203,1943.5077122373034,8529.27630294929,1212.466118489508,6269.6798670313865,760.0494921981282,3219.07703595553,5890.224610886851,461.0419494512141,8445.777539969245,2586.000900237578,3416.791279921961,6685.630310558096,6257.349660849897,2207.3495794741584,3293.376206722265,7124.730408537637,9983.40464219691,5603.80089758485,6678.448645247694,9208.667113384656,2598.652002100804,9264.861068850252,6090.935418601755],\"y\":[6513.880935548365,1847.552694895771,5032.265901317526,4050.7294529237524,7594.279411264953,2670.0041831827457,6426.110565608357,9089.432893199144,6484.961143463052,6500.585788387282,3008.2512822098583,1089.644942027912,3782.425742763008,6904.559292979692,2199.786938645264,1749.002240558618,5183.900693666007,3757.9628379342203,1104.1958627179727,115.56185229191551,5159.429132010063,6235.772062926179,1834.968576974565,7604.013815627371,7033.878409760179,8241.250396658845,2606.3428327559545,1677.598703071569,7172.047099118636,8591.24315145052],\"z\":[3418.0100365034295,2468.496839814601,188.56283240494375,2266.315623979589,9549.434108275242,2009.8424903471778,4145.275236175237,8341.276467534559,8276.681308875159,1465.416598348347,9552.371502742537,4830.762392107811,4234.434377070036,7768.449054379351,3655.4498785204883,616.2103738895574,6668.1194771995415,7418.864843781047,1969.3069976619659,9864.673401387385,7455.851395285527,1838.6901098749408,2310.210073860274,4906.586031686481,2227.157031094291,5648.228427781793,2681.9361220523365,9408.720318443164,8165.212280824498,6501.009073701056]}]},{\"name\":\"series 30 (F30)\",\"data\":[{\"name\":\"series 30 (F30)\",\"type\":\"scatter3d\",\"mode\":\"markers\",\"x\":[3286.88370836444,4860.215142950605,1151.5875744350535,2703.3971972925774,4662.071994927971,9883.704584403713,1797.2612495420171,2745.147713426428,8480.857768779204,3690.208787936785,4600.93476285918,9080.075953669093,4914.724167978556,2115.5912796933617,6985.437273825111,7021.40731635,615.4972271807868,7108.032072286892,5285.281851659494,8454.259797249844,4356.877034967298,8280.098618153146,2893.19837604579,9218.104837674093,3165.1733469603105,8195.64516369867,1720.7295537583989,8474.938326526384,372.65891381556673,1430.906276549585],\"y\":[1887.7524520946388,8154.290335185229,8442.96612018486,1130.7931232275491,6128.040407962415,654.088982933918,3646.467647732414,5775.542971562474,4782.757835710498,3376.782647327079,6704.601560418962,3179.5081656887105,4451.0366866352415,9393.022998778328,3375.6102643500494,8363.018799990628,8376.556106516622,4550.590739615715,1620.186102459793,6869.8865307634915,9471.308478367508,2684.1474430684975,7464.023507799172,5347.262530749341,7512.499532914982,2231.7810290428843,9965.302334843225,6761.201885643927,495.80098643806525,9527.203320997132],\"z\":[6798.634347307148,8490.426011637217,6387.935578243301,6311.853566563347,5883.026602940496,7722.41796236014,5593.83820018564,1599.0447864608793,5209.926904723896,70.12161639321168,6338.411829921956,922.6888029222902,2568.4341241129473,4134.164064257916,4860.148031277961,9216.019795891938,9218.273637959774,6854.650946213817,9823.662662408262,7091.129084517564,6727.1483529484685,1928.2341331144048,5680.451361909418,4128.017337297839,4167.596850211317,6310.288997617685,2841.940621156226,6932.255635977277,3659.5041868548483,7878.672787841882]}]},{\"name\":\"series 31 (F31)\",\"data\":[{\"name\":\"series 31 (F31)\",\"type\":\"scatter3d\",\"mode\":\"markers\",\"x\":[3476.176595141489,4183.241488275697,5847.922012743585,704.688939867586,499.2546579631585,5670.425548676528,3321.8818245394486,3058.510739901056,3904.863272004081,7402.774531171234,9208.38397921598,7270.464337762216,2960.0790244650975,277.1276692286595,216.77736587753625,9876.21277285639,4992.81567501975,5503.993774991439,8262.250485046732,5093.016719722542,1506.094134598559,6014.725557959307,2463.1700204367366,4605.899275584679,176.57095134444356,9411.903492677236,3785.526170471283,1886.6680837000415,6929.520893110603,4675.14380369541],\"y\":[7898.750895572839,9825.405485144778,5729.74245166931,1797.444015641877,7910.695634831096,6323.161844988975,4987.614196777247,802.5648963019948,7565.572709823789,3676.2399503603706,8551.80199851334,4181.840213745275,7217.1716664745345,4076.5935321035718,6144.8750937555005,4689.1964450717705,9430.688308243523,5359.503466397271,2795.3630466501045,8646.053712289979,8420.011253625698,8248.836448435808,9329.5445510142,3433.172889662288,7693.332780548328,8781.835132287726,6308.527182699638,6684.399956621906,3258.458889586119,7339.521147163076],\"z\":[1930.9439032043474,3847.653354330888,5530.219219385727,8765.44298188712,368.85659718099316,241.39097414867638,1685.8822363167703,6424.633713603982,764.2205370716438,3510.177333470552,1630.50597433666,6736.285765709739,8685.535050562305,2470.8718733986,4962.662714503391,9707.795800310912,1229.0639592776654,8741.343062946566,3371.9991059674235,5304.46445171611,4146.280488144568,8256.505596939654,2753.6004962170855,5108.28537412733,4388.95504856334,801.8689986383953,1990.1530364427422,3650.890544039165,4285.569366624339,7032.676277461518]}]},{\"name\":\"series 32 (F32)\",\"data\":[{\"name\":\"series 32 (F32)\",\"type\":\"scatter3d\",\"mode\":\"markers\",\"x\":[831.4017581854405,4049.866112387425,4197.508052185723,4097.101394041538,7591.432132440995,8134.290011239208,8950.73949795605,2944.867576485095,8487.80402100164,2114.4826938525475,9598.472076369435,2678.0316020834107,4362.593609179726,5032.606868336884,6142.528418621148,9888.582853229758,7253.908549873882,8724.887313858844,8725.950662128316,3827.8824422235325,8827.457844053744,4832.868258952139,4506.615952569836,1465.8671938872315,5031.277653899366,6520.260108194367,4931.40403553023,23.331951857860076,6502.723880990744,9983.5750072926],\"y\":[3452.727454402034,8398.493752989763,2235.3619106574174,3588.8844193375025,6863.996572568336,3059.429914289793,4804.398523706711,523.6779216974307,4377.864240384954,8436.878683952478,9052.817760809246,4221.940558150489,7330.8504169272655,6627.274662723862,2556.3949363209126,4502.204788055567,8970.223281809325,6303.786290913686,5414.281617085979,6352.480261258562,8163.7703985107055,6133.512183561338,8952.869671053386,2602.5969191940558,3070.365888253358,3711.8850281685277,7784.157579591191,6343.64408159818,818.999179362071,7050.716897320916],\"z\":[7325.855457075013,8885.82399835154,7066.2018510990165,1994.2206731855383,9368.986913456369,4290.184880940353,4936.569339466719,5587.720387294686,1569.7544234021798,2066.3313889668166,6298.3481043174415,2386.665734879566,2845.956604292912,5497.358842308664,9585.811105549941,7968.947975803139,5574.255869934439,4234.8905115426605,7452.427255280994,1501.4091134506368,7213.11522198492,6301.247543627025,4423.579827655993,7111.8274065026935,8517.237224556884,6442.4089185064395,9414.865415147795,2030.5485752351005,2862.851545621242,4894.573628103851]}]},{\"name\":\"series 33 (F33)\",\"data\":[{\"name\":\"series 33 (F33)\",\"type\":\"scatter3d\",\"mode\":\"markers\",\"x\":[491.7664514765441,7991.330203161741,1369.2150571204963,3058.765675938716,9568.754756082051,1218.8477491986505,1480.2057447329375,322.0710049844944,2880.653079557066,5480.710633910926,2460.903819646675,9320.733376957141,9006.342236512788,2144.7211770930408,9867.569985244949,5309.4744258585915,9984.673814611502,957.5023298430463,2465.4501521446928,8983.050234958448,2634.7050788168804,5348.509794458331,9297.344157488815,1090.1888486135392,6577.1476719394705,6463.836965427635,1646.9004978941082,1486.702910953611,2651.17958152966,847.1074687660673],\"y\":[4494.107245469704,4893.7024656452595,430.5417425196356,7710.145869179468,4726.468153947319,558.4847897976841,6365.101093754118,3074.003877611646,8847.869513193944,3259.805224027796,4708.8307232212155,9711.309791609934,1218.158469279773,8655.890136031936,1842.4225534358575,3783.8048747919306,4959.964462628449,6842.675298642585,858.5128583524115,1344.3140481160265,1585.3201789881832,4171.409663703694,7349.768597610994,460.2919763918556,2123.1455155807466,4868.896314544409,9224.844907214858,7616.478957701643,2069.678532226202,810.2848961434684],\"z\":[3074.493018823128,267.08561648897233,4837.450173867136,9913.469046163593,7119.86102476026,933.321826610497,3544.418872830154,1055.7897557911756,6097.297991426926,2079.9720909661532,8963.391916191922,6157.875546744068,6568.734519233819,5155.114064771827,2242.8795340739484,8136.0986226962,2093.980979329306,1639.959360582025,4614.044150727139,6794.265619598735,6461.048938522551,8731.20033846843,2714.4174165935574,3406.8011806502664,9742.868419437975,7366.12170629516,7387.579536553787,8739.820231820495,6333.536629529224,5701.137014134721]}]},{\"name\":\"series 34 (F34)\",\"data\":[{\"name\":\"series 34 (F34)\",\"type\":\"scatter3d\",\"mode\":\"markers\",\"x\":[5859.009208739479,8563.133049838432,6314.501868850929,6867.298184474191,2041.823703041762,5325.360217408468,1510.85129679583,5851.713443933082,7392.151096856947,4595.978427147842,5420.136082585697,6691.704800484068,5212.389139021099,122.26060739480627,1830.934269319231,7818.922214207087,4591.617168037498,1905.7100822350915,395.61493339931644,353.5255717980223,6275.951782594585,7571.732153903292,8681.538096056487,1423.9352764431567,1677.6427056029054,8487.928369415626,9297.183224887547,2175.5415795616086,7960.229750450857,8580.533589474775],\"y\":[7574.4708298469695,8032.154242507602,6678.090568208331,5605.163932923803,9985.803364152356,6986.865787461608,802.2294942428632,1747.1784982706329,5984.120969464291,224.39168928478858,5130.168268436033,2858.6022638341833,6276.530549383597,8214.839523076482,8056.322026640472,3382.695497611914,8676.829027228372,4569.251530965972,8470.252228132937,7073.897244884216,8629.5186423936,9410.158326055363,153.7087676750215,1990.0092572498452,5257.663531222266,3785.764782573908,7463.387347904034,1915.132810064405,5359.211648049297,6744.28790117967],\"z\":[314.8434537807088,5365.999937238273,7161.170335270557,7085.350337594687,3524.020975718155,7640.9975455361355,2838.2864886354564,2518.231547660822,5416.3692876216,990.3067091585638,3812.651034067125,9982.15730681933,3279.5345691606603,2917.233072376765,5672.9105632613655,2221.7143475822854,8714.135312417538,2864.93718839848,186.53809001043075,7360.8532513543805,4228.135787074108,3099.418877043806,325.87434142067997,181.8424301014121,3523.856329758356,468.7447914510645,488.4259709070038,6090.922829025236,1842.6737835808005,1900.1579318306626]}]},{\"name\":\"series 35 (F35)\",\"data\":[{\"name\":\"series 35 (F35)\",\"type\":\"scatter3d\",\"mode\":\"markers\",\"x\":[8164.161810264534,1340.3047549876635,9460.973415579707,7990.836516487304,5187.322999374803,5976.537238323781,971.9399186876232,5854.723163502555,6407.5235695517995,9198.175806618467,5341.283749132483,4506.973980732469,1124.6843306942778,331.05622240921065,6891.015391868368,3499.2282928212303,7954.611594040463,2467.384034306124,5343.8994173223355,8263.030585428914,6926.790834444586,9965.22800920261,3852.2304715155633,3675.3863068967476,3563.241574871124,5467.907782838256,7538.0959371300305,729.5657792701294,8447.03422216697,6878.1470874390525],\"y\":[1488.295560058296,9875.916628383316,2361.34297729365,9809.760941402023,6375.617087529113,8591.58174978038,1464.6726748521355,6440.033481084224,1919.1682460974068,44.665063021382956,9165.159522538353,7398.8316193964965,3249.9950799780586,4337.521501867969,1366.6178340342606,9355.896029682543,2914.2182969880905,3745.4969189906637,9581.263881967217,7305.635108727974,1724.4494551537593,8611.57328049748,2038.817782817508,7199.141772421871,4961.2513904599855,1114.028199140178,6368.948918777476,1536.0451116448592,6529.929620962167,9993.343649470224],\"z\":[8693.795614018985,7804.193868975979,2593.958828617048,506.2553340658171,3039.5556146086324,7243.065164259136,7934.85838452267,368.9599364273721,1860.9090313178533,9307.18097447371,2829.349786076322,4258.147984572438,3169.303816121285,5418.701478096257,5588.145639992968,6557.667857837854,2265.892443239722,4123.761470231496,6066.732516024051,4470.264710938787,6402.1852683466,8605.00188653529,8437.027851297466,1357.9828734171163,8826.241109907338,6653.141518790468,7299.805461790796,3231.4567080744905,4619.4836542645135,2663.322043975338]}]},{\"name\":\"series 36 (F36)\",\"data\":[{\"name\":\"series 36 (F36)\",\"type\":\"scatter3d\",\"mode\":\"markers\",\"x\":[9821.301076015672,9677.460264174988,4489.006774507929,997.3544427141056,7993.422239032393,4195.720521574495,4252.4816289501,140.88110589847048,9345.50786335937,7910.146730369666,7137.559645542473,7484.860470193502,1476.5909145777935,4926.263081115066,3214.9200892868644,5273.671688449692,5630.640631594431,7225.774554758347,5293.8831070691695,9287.52920601558,7203.271323513188,1920.8401897141337,3431.770636161866,3164.781790850002,6546.923273446387,3934.76015884606,842.9651872205457,2920.0700549232106,1732.5334582666728,2732.433220910401],\"y\":[2440.883713426596,8177.19757708241,6029.2359045255835,2593.073685458658,3505.8445940387737,8910.970646242597,6779.637914548041,2099.3240447969306,44.07613725335713,9080.143880603098,9076.742938689104,11.03599641768871,4287.878403646673,1434.0064751501147,7189.601353402133,1498.6330094694133,8484.217147409789,988.0287208143801,9038.2866486605,830.1120283231033,7628.790774420922,8189.384417157182,4184.811316991628,4037.379775307438,7124.881983993508,6631.051153743241,3785.112281783152,7831.757118738918,4481.0674625049405,4323.582809644695],\"z\":[1738.2501536180284,9095.133393270866,5109.126980248897,1996.5392672027692,9872.4830894322,2642.3829361078165,1043.2561828802288,6676.949937461752,6423.892017067702,3632.3086679148296,7973.956739629952,3880.0751841886363,6291.749030280916,4998.503574497525,374.7385599091235,7148.1238399376125,3595.8353034949396,9578.17780400866,6697.039995434402,9385.474555340214,1914.4338389399095,1236.1252427552904,6618.531997934182,6464.336393908714,5247.733224330184,9212.654153944837,152.24047434209132,9912.68105500298,3229.8996753109122,5168.441375771979]}]},{\"name\":\"series 37 (F37)\",\"data\":[{\"name\":\"series 37 (F37)\",\"type\":\"scatter3d\",\"mode\":\"markers\",\"x\":[4058.688631457499,2146.663025487742,7404.084207873149,2955.9131160155684,4450.522267909275,4672.637773786333,1478.1539716677305,7015.895181821843,5738.850058014192,6959.281675728856,7394.94549861123,6479.913780771418,5142.795213787924,1268.1986298566794,779.360300509292,8552.674508417485,8868.521362478845,6631.802745445091,3865.632019451949,6555.881085627371,761.259567204311,3380.142362412193,1361.6160175522461,5133.699028989331,6743.629617924289,8143.733271803,4872.9633443692055,7551.812894494623,8675.81628402981,8097.352304084897],\"y\":[4488.558875437072,7766.16113105626,9407.924038778014,2360.136540409916,1919.6201760998222,2994.0745193183116,6742.100780367876,7930.222782082915,8188.364542951291,889.68937438758,7781.786324156811,7307.5520991524445,278.17459200044084,9107.14130050335,6717.707756588843,5046.356462405668,5385.699982058544,4029.188225725019,8485.008441630778,879.2343227635091,8456.355974241953,9745.55451982342,7923.164280184254,7767.612220346128,8538.191413787488,7984.423609117177,9080.103930605725,4258.778294172682,2155.11278963215,4632.151337301081],\"z\":[2124.2190879013824,1867.571353385813,7378.972644833138,8720.412821312464,5962.713477347901,9851.188990948727,571.0374251560013,5316.630821904416,3112.005674058689,1708.478664958568,8866.875093627797,4622.683657397199,9625.667786102125,10.460531232342474,5394.71133879785,5768.520567344236,6957.645411869351,8756.723776497229,945.8207428800757,5281.463307781704,4523.270658995579,5352.726906391866,5356.5375082174705,7018.604547206985,1417.8496902839076,7515.926721325625,4214.982412077152,2468.8606051223082,3262.3627014750987,3944.0459629109137]}]},{\"name\":\"series 38 (F38)\",\"data\":[{\"name\":\"series 38 (F38)\",\"type\":\"scatter3d\",\"mode\":\"markers\",\"x\":[1671.6197465242933,7762.874838062219,5468.088877801084,1416.6866958048752,8111.274290582308,6473.104640973704,7346.731918731582,5151.880072397502,2235.2528129836837,5343.072707657143,2439.8831469501224,3702.0598839416075,705.7313878758841,3453.8998289867286,9201.430353260557,4449.335028706183,4920.584303509896,4017.8750658204176,2738.784684527228,847.8254543844621,3715.3458334606294,1982.9643832536835,2703.5601232861372,7961.220834580168,2830.013962413134,9938.796916088282,4619.6104191087825,8556.606465580375,6831.918012427357,9433.808935855028],\"y\":[1946.092259028358,8040.9964383456245,6851.888643540502,4744.865731169402,3995.4868188026826,2864.9032133950745,7969.487265452245,1384.8233797966159,461.2810259888378,3667.659624373504,3374.0592328305484,2190.1331003492865,6757.272819800427,1402.1070235679888,8531.904684075824,9699.729629966834,5630.233183427066,1951.647023567521,7505.859325043099,4718.086799013851,9579.918936918424,2340.5509057189256,5302.109675296968,7449.466972692465,5505.20000810286,9538.8046280298,4660.0698060157165,9397.02378551558,7692.329287243396,1075.6655928173332],\"z\":[3054.672304791279,1339.569559167767,7771.148029684418,5201.491913517628,5846.431740911694,5130.447648090894,587.2856956574379,7175.298500418612,4493.166445548464,4807.099807609225,3073.1784685658768,7405.883753638949,4528.268069026414,5556.553763767016,9147.999048735686,6637.261968909916,6613.933133534862,7451.199877113606,7436.350353918338,3144.528684545892,5393.780156401484,4550.86308426369,167.8478853560239,6994.170036703437,5097.798039588643,8961.323264438272,1004.4755990847165,6823.230311777134,7893.5778441683315,3746.0677363222894]}]},{\"name\":\"series 39 (F39)\",\"data\":[{\"name\":\"series 39 (F39)\",\"type\":\"scatter3d\",\"mode\":\"markers\",\"x\":[6739.86886897313,5304.627946951258,831.3071530196347,8207.211592407803,2824.4448119384892,491.31257867680245,9896.009118376463,3983.15240620569,5492.560098471777,1569.8387766203448,5159.038998185804,654.6742453233389,3902.6496586251023,9204.329653070425,9311.848411757133,5107.850299958879,4148.560486941372,2614.6843124502384,2968.5612793144933,9771.238378770295,3260.0604838003087,7808.286441537835,4039.9085455904806,1026.5011509465905,5382.769071013086,3972.3485114397117,5209.588859230105,585.7279277763106,4212.5247822667625,7934.429221364875],\"y\":[3085.138972911422,9435.36865064758,5456.462339200944,9811.542235006864,4948.910892750543,6065.83802312803,602.8478328263665,6493.670983903457,4200.76989229852,8137.484550704465,8603.977688719164,3445.3936456612355,3562.6443929431216,9477.762024188245,5211.217587476827,9459.71150096249,5906.068246242341,2361.0779297957884,648.5220677925929,3461.0658610588175,6167.382423531275,8391.93958967875,5070.537734473095,7229.918421592752,4231.265843889823,9993.654563649256,7823.668026973867,3009.164242621797,7891.793674102159,8498.983665322718],\"z\":[913.228718702167,353.02784626630057,7041.223610504389,4145.7885425473205,9277.103165524088,2291.9975212971076,5090.240642830989,7899.851159027429,476.0630965835577,6912.729121191591,1289.3922779441214,4958.687870894385,4233.189757446809,6789.752529932428,8099.975046017339,5034.31928032051,7889.594189380008,5356.196695607407,1053.6353811428967,5069.596863749049,7290.903597970173,6263.64667033789,4643.4771576086305,5911.8303030637435,3878.742698497214,9056.629537965866,6705.472714228422,5649.09834148939,7833.709227596013,2075.121982331459]}]},{\"name\":\"series 40 (F40)\",\"data\":[{\"name\":\"series 40 (F40)\",\"type\":\"scatter3d\",\"mode\":\"markers\",\"x\":[5477.49643140732,8808.766504640174,4001.10240732554,1398.8628164927518,8064.311824895602,2424.377468939217,2027.9363276798356,2860.139205889206,6390.3616737589355,7096.218264156036,4649.528217592151,2677.113308610891,6888.224732093699,3602.5101656174706,8386.221522712054,1097.6395034945085,3149.117746888455,3362.308637475094,9045.570252479763,2593.9203389884237,6552.837371139928,4107.83845497937,372.57285817798527,5611.231414243575,8498.055655071854,493.134932935364,7950.312878637879,4649.34602037764,9269.890068905015,3047.495008759211],\"y\":[2025.626032044371,7543.1694402025905,2810.1960485483623,7876.391723152886,2319.185136057538,1209.4969695352875,3697.0340944917702,3819.139328789235,5076.649276220908,9839.684742300333,2493.28889954092,3391.737381384431,7627.302992557366,543.4295587564742,8290.426089825105,8774.969834061218,8538.862911306504,2786.7300994206144,2751.893185086499,4351.964629046126,2091.9062610674755,9617.501694876928,8251.68326490613,2856.0706446207105,4244.634419776452,635.2041528325458,3807.097617410221,3059.0412806791587,3518.452608115745,8936.232515723501],\"z\":[6420.760044561727,3111.159788752209,4307.112602228655,6854.713289826906,2175.4455859926948,5139.080108337678,1996.9314171972196,8218.735007524427,966.3122551918312,3513.7972525160953,8982.861587339277,8054.938647388171,1108.6267676748141,1320.302894102915,8174.959711913774,4199.7800275328,5225.106334596201,6992.120566671148,5912.059079709824,9113.66591921827,6795.49730235074,5818.059604355424,9334.22342410539,4344.559939124432,7542.042410097738,9085.163295305418,4212.820882854725,4550.5440313312865,9427.992853238464,6990.966189887554]}]},{\"name\":\"series 41 (F41)\",\"data\":[{\"name\":\"series 41 (F41)\",\"type\":\"scatter3d\",\"mode\":\"markers\",\"x\":[7996.825094273116,2766.2077359203395,1462.345971329261,139.82613286601998,9406.213324796616,3685.6340203196482,732.494288610277,8432.221572958984,288.10166204407795,7135.138893619548,9127.499441592448,5462.55917766028,7648.516443082234,9621.808889598857,2068.210825513218,1160.1705291271226,3782.474253542494,7869.2778610627665,3226.4677036035905,5339.817265409178,247.30141933129724,4590.070173573802,9694.142085995345,72.1692251590933,7058.893846934463,3394.2292021494136,5353.78687187806,9341.353710953876,1937.8835555093399,6696.841463493064],\"y\":[6306.182043722747,325.82138745579914,5692.441668272446,7762.4582058549795,1126.0737203294746,1820.4124790511023,8896.713760496226,5612.302017231095,445.92638600896464,1811.643575928321,1908.652296726525,9420.54388169767,4908.521555562544,8024.88405785239,4968.270956728441,7238.821973363338,7882.7469396939705,2381.2241849959028,7627.1166176948345,2413.5631229309915,9502.944787312945,2733.4824482997165,7082.01755592298,9898.564154419317,1570.695058423428,2994.937999407008,3120.9311872699395,3815.674095711874,8648.931504508158,5831.013087886739],\"z\":[3335.982723340917,7079.31316011494,9281.797396247945,453.2790639075823,6018.553158210298,3675.9563699222676,2689.671449303156,1736.7865143149197,9723.53148177917,4277.592935652906,517.3035064014487,5875.874514021857,7874.6269583645635,6268.5735402138125,254.017132942983,2100.246171883449,3979.8863864053,9978.138507781448,6798.453533055799,9592.24041333629,8036.341201145619,3936.318311645155,1306.344815253875,3677.8707540777077,7524.962727350277,3308.7824031480864,1938.3214861030297,5608.344405220373,7031.881497461446,7316.606171010501]}]},{\"name\":\"series 42 (F42)\",\"data\":[{\"name\":\"series 42 (F42)\",\"type\":\"scatter3d\",\"mode\":\"markers\",\"x\":[9415.773911178796,5805.411364062327,8979.079148296678,3409.8180888773254,1396.302888302975,1313.0367459155002,4207.540405414535,8238.974265467727,3596.3113226416367,4379.530964595137,5228.106798645611,8056.903855635429,2316.804147492858,588.4099820715105,6840.0468344156925,4083.155707383971,2569.4785886036975,1762.9023012487444,8514.620025086937,1576.5697066285911,8353.701027586245,988.154576609137,450.6775556342468,4886.784809419924,6800.989469183797,4526.834825194091,531.6097084993055,4593.387916082836,5882.123794575363,8147.9682872963685],\"y\":[2547.7138059827644,6991.798774904976,6163.036080223027,3445.483297659825,6995.323220580065,647.8725773667937,699.1357407119481,3092.0841432253787,4523.804668982807,9518.60021371535,3573.7491825087495,2655.71001793217,8673.79277668381,7224.168431776632,6814.864972760613,599.9792194205678,8934.80148630855,2457.0384836209646,7465.392008637569,7396.656709770386,7347.614147612858,1226.5918394527175,1435.6531127618366,9297.326894096002,1886.6214815818828,7663.276686004759,8432.854051295708,2243.091526097383,7679.5396675068205,1444.0887283014326],\"z\":[2740.7823618204698,6635.254267252164,2756.710587162896,6551.603135484096,7914.004121430733,4246.593539834097,8469.447277057116,3041.6670924795044,9554.346139978854,4421.967648647702,5976.6586636203865,770.2542068437823,9253.4655983202,7898.634592801744,9271.246484455534,1617.8722290755477,4513.820803882665,3070.8093584580174,2102.538667248175,4650.305069130307,4001.3787679465663,1329.6258624495383,848.2876771685244,6867.362657075192,4836.906710036651,5228.8068860112435,7899.525115980267,716.6981160433139,8798.709669911086,5657.987155686882]}]},{\"name\":\"series 43 (F43)\",\"data\":[{\"name\":\"series 43 (F43)\",\"type\":\"scatter3d\",\"mode\":\"markers\",\"x\":[443.8332082546692,8387.652597564527,7288.197093933852,1949.7787675005363,7667.358417181646,2050.4637398287364,700.6693807205766,1903.302638793084,5343.154678660274,8669.080523880148,6447.238338989678,7076.056961464521,533.2167406612298,7791.203034292188,1289.8066554526088,2377.6274946887397,703.81938406471,807.0691391199058,7879.545693499933,7992.892243603199,938.5567104715742,568.8899798634873,2430.33584397628,5969.006012792196,130.7269949491552,975.7363642284366,312.13346469991745,3419.600239052788,2046.4876535798749,7154.058449499947],\"y\":[9015.26233318186,9231.262846030388,9972.460556047468,8201.92306660061,3415.126355846967,1401.5149862158105,4296.238816329708,6115.434047050929,6557.868996018392,7694.132932116481,815.5119052773586,6478.696739887959,291.0113479325782,3166.8099599499124,3831.285255353565,8774.077085446748,3979.123738124177,4307.7901000300735,2152.947907990579,6757.396492422157,6273.093737208407,1012.2493503923935,8027.693080454287,2243.094555666083,4442.575571656912,4435.836953085942,8704.075594983537,8857.280119562585,8134.719784870378,881.9334740316265],\"z\":[7849.246105330978,5841.987021315911,9588.294762254278,9310.820594381265,9361.67163153157,5831.835264620745,310.82966459095474,2803.0992506572215,9255.918681486837,4674.691791551022,5017.426490388505,2366.3337312692647,2243.3375586495595,5830.819690499512,7233.399066424508,4843.038356201412,8392.254610526103,6660.384507371051,7378.915733714049,5359.7662461898335,1823.544073173764,8997.091102078077,3382.338879722888,8751.19763588799,7782.216388636918,1806.1022076555666,5909.967670771347,3699.768484138628,6622.9255643500865,9437.288933777323]}]},{\"name\":\"series 44 (F44)\",\"data\":[{\"name\":\"series 44 (F44)\",\"type\":\"scatter3d\",\"mode\":\"markers\",\"x\":[5153.407662801629,7950.520438893558,3257.065796054388,5010.250233492622,3781.806155523133,2892.4885873903604,8431.388248029509,4805.431001028136,1144.7062474881043,1042.0956196058307,3842.840904864517,6186.05551562064,7102.29255142954,520.6469904029576,6541.594829789437,8538.489292722497,9963.311495972044,6487.174282294008,9333.988208263308,3994.0279329867813,1926.9678470674978,669.5100329892479,2969.3864303784567,2283.004003573755,7153.616546432957,6630.61527732894,2779.716658265241,1972.4945969216767,2130.0789263903284,213.82647523511932],\"y\":[7137.708057564522,8551.801350064683,5348.935086405526,1729.8270508544965,7609.631346399934,8355.265843207211,3487.1533312433735,8879.787456640493,1000.5933658951038,6149.874939461898,4247.937064863321,7153.26275822852,1625.2150300015433,3365.4987551127324,1820.6855498999298,7496.072863398188,8083.77998033828,3408.497055139147,9517.474946603814,9412.534231478036,2583.713972030971,274.81960737959054,5560.493730309481,1348.049340152798,2418.510305749454,6766.617168996464,2223.3633750609006,9192.20685198768,2600.995477471584,9016.767254433249],\"z\":[5570.313949641837,8049.177322219212,5845.083212174006,4738.61560883958,2890.6767860517134,2041.3375659047895,1099.9364999649574,3643.6193743435397,7592.191311348198,1843.6944852712656,4662.722172260808,9807.470064035653,6795.125528903974,9890.81786996266,8530.907646989284,7415.667391608408,5160.2314995498655,8754.636192229813,9102.315480536352,3282.401441699374,9587.07317482552,9060.586314885426,5590.914564950176,1811.9972964159215,3335.274669678858,9491.25310729754,1598.5980796220933,660.0583213474487,4849.758772711885,2920.7698953844474]}]},{\"name\":\"series 45 (F45)\",\"data\":[{\"name\":\"series 45 (F45)\",\"type\":\"scatter3d\",\"mode\":\"markers\",\"x\":[5167.957679725242,8251.844493139888,6112.056273756581,9529.894379979412,2338.332038755121,7528.30480664197,7693.2853166432815,9870.819991496783,6737.175626793424,3815.5796722064515,2850.4139425200237,8282.411130112263,3061.0526019915173,8551.673033817435,985.9364716333141,9800.704390943978,5435.33401704273,4754.393614569571,1582.1059913571112,1766.1503503759468,2588.938267062837,4577.544166836454,3324.3870687117205,4698.214873279854,540.2185393938486,4077.739487554678,9544.801789847745,5689.596266989535,62.370992701213936,5402.116978200531],\"y\":[344.36457302606806,1566.4589635571047,581.500677350002,2007.5955494194409,3794.8082952734994,8367.723687129552,4357.745963978986,8235.232390315123,3473.330537817593,8315.591834508494,4809.6342210466755,588.6137504308641,7250.094256491164,5381.1271538020665,664.0961939144996,4403.1101706089285,2726.7388754270837,5792.855698373791,3249.3472011270605,6243.212900976713,8015.1739298415405,392.98514679339536,7695.091763418996,9328.06473969629,2649.436009378271,1614.9869141991269,64.29033174330301,6560.681372969862,2339.4154642731637,9037.924864064793],\"z\":[1512.9787543188356,3324.260085578784,3003.7660716881333,3967.053308862555,7459.406067468745,109.35076177836845,4060.332444591065,5296.84942991909,4441.018050056988,3248.568433494883,8305.941813609033,6031.785439425375,9847.578392845784,560.9040593295533,5883.4250166089905,2271.786880322736,40.98853726739793,7545.592589907954,2812.245064504348,4213.462134394626,507.12946101127756,8915.878797045429,350.1302007022489,1774.8302967976492,7632.316149424873,9725.916833758913,56.618971684425645,5820.416798211128,5456.721486490596,119.43042289127459]}]},{\"name\":\"series 46 (F46)\",\"data\":[{\"name\":\"series 46 (F46)\",\"type\":\"scatter3d\",\"mode\":\"markers\",\"x\":[845.4465509409059,9645.22300034247,2329.3902310260305,7816.647093037647,8541.21309918972,4370.220718729148,1774.2299340964519,2856.4159986656823,5496.79149970182,6208.658698338249,9073.633059346523,9823.304311224067,7681.447120120812,3181.613512786571,86.14722858744427,3814.862215215161,9315.660046712082,3792.854742729146,1636.8799044107452,7742.132412205125,607.152019833801,417.23568303294377,3454.08325053991,206.8786312654969,2433.6406737307893,5713.462357462853,72.63881698052587,5161.884246678046,2921.353725036898,1241.232154515568],\"y\":[7384.920874512496,6836.081996198117,4784.3564732694385,3644.3768363587183,2591.784917495761,5994.146705128693,9018.259938751857,5255.783924859387,8191.193485509325,6500.589209702348,82.88923520302971,2786.508663661862,339.25874830254554,4371.269497982366,62.01472364705807,9880.63557895376,9428.242506303759,5020.645598195724,4454.254256154758,6749.080719119605,6048.3259207933825,8250.958415486974,227.78168821167898,2839.6763235224907,8634.721052064733,4679.949562716101,7562.48264693087,6557.510061146934,48.965310114984504,1766.5955562690772],\"z\":[306.71875365583577,9418.64013182186,9103.005395632186,2369.7346902422732,6591.878828382807,701.9416105856868,9606.942358516035,3862.3511369188714,276.40617556998535,2657.9860066042693,3906.073430843603,1224.6752260242476,5932.0115555950915,5640.491260048692,70.13600658911878,3252.146018783335,4938.293107908495,7145.022684993555,1907.4187462981351,7039.673391176665,7918.004298130961,8671.266550917439,8798.678272170779,2241.5305328990744,9223.721626615812,9569.337079776054,7980.557038268724,3256.5937725642702,2477.6850298677277,7587.21998429288]}]},{\"name\":\"series 47 (F47)\",\"data\":[{\"name\":\"series 47 (F47)\",\"type\":\"scatter3d\",\"mode\":\"markers\",\"x\":[5355.469855253287,4451.5404528776535,2270.0929789195147,1705.592494386995,2164.6905694222696,810.0066219941738,6037.1586484506615,4027.906460729245,3933.6335453869433,3983.592939960089,1868.7377323234832,3987.7567256601797,4983.093139005325,1621.0028330522307,2536.3660267050946,9942.198946474971,6497.469778501921,6064.484874675252,3386.0522796455116,338.8236329289296,8650.775236185054,7028.1414640227895,1906.1895632742721,9076.030210266132,7613.475002041417,1710.5570698710926,9759.4659818358,7420.089852168179,6397.996089033912,4944.594288862675],\"y\":[3858.66960735168,7899.2216574364475,4447.985630713194,1450.0849169082908,1669.7973071012873,3964.051202341169,4636.181461283893,2030.5501073138166,7341.8943814901995,2885.4604743725,7908.011604512526,5642.959481325877,9491.566600833585,8354.976811856142,5192.812642740107,9669.93845324798,8511.12367953748,3559.4899098743635,3401.819723620446,1436.7213134019842,1122.8237703596333,5121.229759127418,7341.84526196211,5040.5375929964,2567.712167429543,3225.5730868863943,2195.83144238254,8898.009574308939,2296.0553152631855,3503.391584594008],\"z\":[1856.2258257943677,1066.530848600329,7317.391744328148,1791.2940535712985,6844.395967524465,1358.4874766871612,8471.734426220088,3762.2541782779163,1809.0629007207172,1542.5686126488858,8799.477525235217,7600.7581808257755,6669.001778187483,7514.309993098373,9916.072846148396,9390.744819391362,7350.0195740254985,218.40329338987385,1838.5589142266379,7691.254795646977,1763.490169655031,5318.190733363201,4064.5415693775676,5893.841986116406,4183.487909532359,5133.158952622513,870.2383177819395,8387.444082942271,6501.830883615563,203.13789305143936]}]},{\"name\":\"series 48 (F48)\",\"data\":[{\"name\":\"series 48 (F48)\",\"type\":\"scatter3d\",\"mode\":\"markers\",\"x\":[1772.7184020855036,9300.548382618459,7975.107044014365,1988.29505194813,8892.480233950897,647.1300276044656,6025.024395408158,2676.9143114849035,6556.029534213507,71.98081307391857,9413.190332912232,2848.330465730299,4894.133937385803,7072.684484183041,1683.6927837413007,2826.2895298643543,8419.943667648557,569.642083174724,7151.620285727847,8958.388442939166,2612.1904843236966,2.181240247078886,3912.9217416745355,1770.1437307578183,6382.182498121703,6747.93522944231,8360.777817316994,8967.625621493436,5969.338226122767,2594.306427369173],\"y\":[3515.91483478956,2600.4867556960353,6288.511534535818,7234.983245156996,9113.06388489622,6347.606149803754,9043.378524012696,7321.103922308573,4833.0259181017245,5850.454540803931,3023.6717004102243,5465.8179559965665,9329.580260505152,2294.6864778225718,920.0636929948002,8782.622017817033,6772.7271668539925,7028.346092708028,8719.015030603221,3031.99860648686,9514.529520395947,2905.470456693917,8280.921624266537,257.5202291630707,181.08124044756258,6256.7625250848605,1058.407515703188,4911.7238848639345,9003.896158213834,1914.3969565468833],\"z\":[1077.6275494843146,5903.702441292251,2526.2743640989347,2555.9110545728704,8283.960395592563,9744.499661084163,7954.974342364265,2782.526570566226,9144.485235570817,3023.0347411785983,3374.776984832484,7810.136892023157,3.1534761160001423,814.4250479947368,7803.301467715761,6426.584622994851,100.58246922331149,1304.2146618253837,6635.691394101518,7956.74555528254,5398.911993874428,5906.158687871897,7413.5614574121,3377.326825684208,1393.1815552072246,8457.85115104585,8049.852601117878,1436.1759317810952,2944.2015716517867,6697.628991926471]}]},{\"name\":\"series 49 (F49)\",\"data\":[{\"name\":\"series 49 (F49)\",\"type\":\"scatter3d\",\"mode\":\"markers\",\"x\":[4651.02136078548,1656.2881536086104,1833.9070798882706,4157.819830813776,8900.239837526267,7442.591310983394,8222.69988376973,853.5488193737095,5600.061850382989,4159.978080209842,479.29471882543595,6702.953530866677,9420.266542125311,9013.94461715629,8957.11203256868,2483.800037300543,6156.364493545821,1840.585201679681,3207.2619242678047,9313.134823019926,7876.5076218818485,8500.58677614601,8846.689521909213,9130.746287258891,3219.320499372862,1472.252081366715,9841.06509094139,5473.847932171367,3802.4272930862858,5451.475266181254],\"y\":[4315.514389968313,5949.542007521328,5211.219420665537,9291.98431199054,7172.304259486374,5243.256675948933,6359.671886830951,9457.049327703482,773.1147202180111,245.4943232942175,4149.784374330706,4304.256787518103,5734.537944274163,6935.8682676724075,1303.486526816755,2987.8310429094577,7488.970336146122,2032.5448852491502,4000.613526437178,7538.377531600793,679.0699645285192,1096.848218971519,2528.8229693965127,1767.818536489787,2682.4725889265624,8776.930876370987,2536.091946711062,6047.672893990889,9604.47392021823,6181.044165074791],\"z\":[6673.695353191842,2721.730284731143,2929.901439441578,4990.091745942702,6427.334845264202,2939.557367562421,2691.413242837851,7850.787499895787,1756.352265779132,2035.1640277510774,3489.980838136905,9834.877984938914,1795.7268178815689,7225.549080640217,2994.322537049805,6306.5299733789425,3322.8225453336913,8366.735456014982,8649.576572687653,8409.13110935149,4950.616250016705,9780.294887814454,7241.512092112061,8564.379593377445,4081.4013620824608,8751.25398192224,3691.0975124501633,4870.693326387492,539.7322625359102,4198.664102287726]}]}]\n",
       "var labels_3XT7UAnkVg = [\"series 0 (F0)\",\"series 1 (F1)\",\"series 2 (F2)\",\"series 3 (F3)\",\"series 4 (F4)\",\"series 5 (F5)\",\"series 6 (F6)\",\"series 7 (F7)\",\"series 8 (F8)\",\"series 9 (F9)\",\"series 10 (F10)\",\"series 11 (F11)\",\"series 12 (F12)\",\"series 13 (F13)\",\"series 14 (F14)\",\"series 15 (F15)\",\"series 16 (F16)\",\"series 17 (F17)\",\"series 18 (F18)\",\"series 19 (F19)\",\"series 20 (F20)\",\"series 21 (F21)\",\"series 22 (F22)\",\"series 23 (F23)\",\"series 24 (F24)\",\"series 25 (F25)\",\"series 26 (F26)\",\"series 27 (F27)\",\"series 28 (F28)\",\"series 29 (F29)\",\"series 30 (F30)\",\"series 31 (F31)\",\"series 32 (F32)\",\"series 33 (F33)\",\"series 34 (F34)\",\"series 35 (F35)\",\"series 36 (F36)\",\"series 37 (F37)\",\"series 38 (F38)\",\"series 39 (F39)\",\"series 40 (F40)\",\"series 41 (F41)\",\"series 42 (F42)\",\"series 43 (F43)\",\"series 44 (F44)\",\"series 45 (F45)\",\"series 46 (F46)\",\"series 47 (F47)\",\"series 48 (F48)\",\"series 49 (F49)\"]\n",
       "var duration_3XT7UAnkVg = 100\n",
       "var config_3XT7UAnkVg = {\"responsive\":true,\"scrollZoom\":true,\"displaylogo\":false}\n",
       "\n",
       "var traces_3XT7UAnkVg = JSON.parse(JSON.stringify(frames_3XT7UAnkVg[0].data.map(x => x)))\n",
       "\n",
       "var animation_settings_3XT7UAnkVg = {\n",
       "    mode: \"immediate\",\n",
       "    direction: {},\n",
       "    fromcurrent: true,\n",
       "    frame: [\n",
       "      {duration: duration_3XT7UAnkVg},\n",
       "      {duration: duration_3XT7UAnkVg},\n",
       "      {redraw: true}\n",
       "    ],\n",
       "    transition: [\n",
       "      {duration: duration_3XT7UAnkVg, easing: 'cubic-in-out'},\n",
       "      {duration: duration_3XT7UAnkVg, easing: 'cubic-in-out'},\n",
       "    ],\n",
       "    ordering: \"layout first\"\n",
       "}\n",
       "\n",
       "var slider_3XT7UAnkVg = document.createElement(\"input\")\n",
       "var play_3XT7UAnkVg = document.getElementById(\"play_3XT7UAnkVg\")\n",
       "var pause_3XT7UAnkVg = document.getElementById(\"pause_3XT7UAnkVg\")\n",
       "slider_3XT7UAnkVg.id = \"slider_3XT7UAnkVg\"\n",
       "slider_3XT7UAnkVg.type = \"range\"\n",
       "slider_3XT7UAnkVg.min = 0\n",
       "slider_3XT7UAnkVg.max = frames_3XT7UAnkVg.length - 1\n",
       "slider_3XT7UAnkVg.value = 0\n",
       "document.getElementById(\"sliderContainer_3XT7UAnkVg\").appendChild(slider_3XT7UAnkVg);\n",
       "\n",
       "Plotly.newPlot(graph_3XT7UAnkVg, traces_3XT7UAnkVg, layout_3XT7UAnkVg, config_3XT7UAnkVg)\n",
       ".then(function () { Plotly.addFrames(graph_3XT7UAnkVg, frames_3XT7UAnkVg) })\n",
       "\n",
       "var trigger_3XT7UAnkVg = true\n",
       "var reset_count_3XT7UAnkVg = false\n",
       "\n",
       "play_3XT7UAnkVg.addEventListener('click', async function() {\n",
       "   trigger_3XT7UAnkVg = true\n",
       "   if (reset_count_3XT7UAnkVg) {\n",
       "      slider_3XT7UAnkVg.value = 0\n",
       "      reset_count_3XT7UAnkVg = false\n",
       "   }\n",
       "\n",
       "  const start_index = slider_3XT7UAnkVg.value == labels_3XT7UAnkVg.length - 1 ? 0 : slider_3XT7UAnkVg.value\n",
       "  const end_index = labels_3XT7UAnkVg.length\n",
       "  await Plotly.animate(graph_3XT7UAnkVg, labels_3XT7UAnkVg.slice(start_index, end_index), animation_settings_3XT7UAnkVg)\n",
       "})\n",
       "\n",
       "pause_3XT7UAnkVg.addEventListener('click', async function() {\n",
       "  await Plotly.animate(graph_3XT7UAnkVg, [null], animation_settings_3XT7UAnkVg)\n",
       "  trigger_3XT7UAnkVg = false;\n",
       "})\n",
       "\n",
       "graph_3XT7UAnkVg.on('plotly_redraw', () => {\n",
       "   value_3XT7UAnkVg.innerHTML = slider_3XT7UAnkVg.value;\n",
       "   if (trigger_3XT7UAnkVg & !reset_count_3XT7UAnkVg) ++slider_3XT7UAnkVg.value\n",
       "   if (slider_3XT7UAnkVg.value == labels_3XT7UAnkVg.length - 1) reset_count_3XT7UAnkVg = true\n",
       "});\n",
       "\n",
       "slider_3XT7UAnkVg.oninput = async function() {\n",
       "   await Plotly.animate(graph_3XT7UAnkVg, frames_3XT7UAnkVg[this.value], animation_settings_3XT7UAnkVg)\n",
       "   trigger_3XT7UAnkVg = false\n",
       "   slider_3XT7UAnkVg.value = this.value\n",
       "   value_3XT7UAnkVg.innerHTML = this.value;\n",
       "   if (this.value == 0) reset_count_3XT7UAnkVg = false\n",
       "   if (this.value == labels_3XT7UAnkVg.length - 1) reset_count_3XT7UAnkVg = true\n",
       "   reset_count_3XT7UAnkVg = false\n",
       "}\n",
       "\n",
       "next_3XT7UAnkVg.addEventListener('click', function() {\n",
       "    if (slider_3XT7UAnkVg.value == labels_3XT7UAnkVg.length - 1) {\n",
       "        reset_count_3XT7UAnkVg = true;\n",
       "        return;\n",
       "    }\n",
       "    ++slider_3XT7UAnkVg.value;\n",
       "    value_3XT7UAnkVg.innerHTML = slider_3XT7UAnkVg.value;\n",
       "    trigger_3XT7UAnkVg = false;\n",
       "    slider_3XT7UAnkVg.oninput();\n",
       "})\n",
       "\n",
       "prev_3XT7UAnkVg.addEventListener('click', function() {\n",
       "    if (slider_3XT7UAnkVg.value == 0) {\n",
       "        reset_count_3XT7UAnkVg = false;\n",
       "        return;\n",
       "    }\n",
       "    --slider_3XT7UAnkVg.value;\n",
       "    value_3XT7UAnkVg.innerHTML = slider_3XT7UAnkVg.value;\n",
       "    trigger_3XT7UAnkVg = false;\n",
       "    slider_3XT7UAnkVg.oninput();\n",
       "})\n",
       "\n",
       "</script> \n"
      ]
     },
     "metadata": {},
     "output_type": "display_data"
    }
   ],
   "source": [
    "val series = createXYZSeries(numberToCreate = 50, length = 30)\n",
    "\n",
    "val chart = (\n",
    "  Chart(animated = true)\n",
    "  setTitle \"Animation 3D\"\n",
    "  addSeries series\n",
    "  setXAxisLimits(0, 1E4)\n",
    "  setYAxisLimits(0, 1E4)\n",
    "  setZAxisLimits(0, 1E4)\n",
    "  drawZAxisLog true\n",
    ")\n",
    "\n",
    "chart.plotInline"
   ]
  },
  {
   "cell_type": "markdown",
   "metadata": {},
   "source": [
    "## IO + Utility Functions\n",
    "\n",
    "The library also comes with some basic CSV IO functions and a utility function for breaking down data"
   ]
  },
  {
   "cell_type": "code",
   "execution_count": 49,
   "metadata": {},
   "outputs": [],
   "source": [
    "import org.carbonateresearch.picta.IO._\n",
    "import org.carbonateresearch.picta.common.Utils.getSeriesbyCategory"
   ]
  },
  {
   "cell_type": "code",
   "execution_count": 50,
   "metadata": {},
   "outputs": [
    {
     "name": "stdout",
     "output_type": "stream",
     "text": [
      "/Users/fazi/Desktop/Final Project/picta\n"
     ]
    }
   ],
   "source": [
    "val working_directory = getWorkingDirectory\n",
    "\n",
    "println(working_directory)"
   ]
  },
  {
   "cell_type": "code",
   "execution_count": 51,
   "metadata": {},
   "outputs": [],
   "source": [
    "// by providing a path, we can read in a CSV\n",
    "val filepath = working_directory + \"/iris_csv.csv\"\n",
    "\n",
    "val data = readCSV(filepath)\n",
    "\n",
    "// by default, CSV are read in as strings. However we can convert the individual columns to the correct format\n",
    "val sepal_length = data(\"sepallength\").map(_.toDouble)\n",
    "val petal_width = data(\"petalwidth\").map(_.toDouble)\n",
    "val categories = data(\"class\")"
   ]
  },
  {
   "cell_type": "code",
   "execution_count": 52,
   "metadata": {},
   "outputs": [
    {
     "data": {
      "text/html": [
       "<div id=\"grid-container_NGQ1C6f75U\" class=\"grid-container\" align=\"center\"> \n",
       "<div id=\"grid_NGQ1C6f75U\" class=\"grid\" align=\"center\"> \n",
       "<div id=\"graph_zDJARRVBNY\" class=\"graph\"></div> \n",
       "</div> \n",
       "</div> \n",
       "<script>\n",
       "var masonry = new Macy({\n",
       "    container: '#grid_NGQ1C6f75U',\n",
       "    debug: true,\n",
       "    mobileFirst: true,\n",
       "    columns: 1,\n",
       "    margin: {\n",
       "        x: 0,\n",
       "        y: 0\n",
       "    }\n",
       "  });\n",
       "\n",
       "  var traces_zDJARRVBNY = [{\"name\":\"3efjMVFyID\",\"type\":\"scatter\",\"mode\":\"markers\",\"x\":[5.9,6.2,6.5,6.3,6.7,6.7,6.8,5.8,6.9,6.7,6.9,6,6.4,6.3,7.7,6.1,6.3,6.4,7.9,7.4,7.2,6.4,6.1,6.2,7.2,6.7,6.3,7.7,5.6,6.9,6,7.7,7.7,6.5,6.4,5.8,5.7,6.8,6.4,6.5,7.2,6.7,7.3,4.9,7.6,6.5,6.3,7.1,5.8,6.3,5.7,5.1,6.2,5.7,5.7,5.6,5,5.8,6.1,5.5,5.5,5.6,6.3,6.7,6,5.4,6,5.8,5.5,5.5,5.7,6,6.7,6.8,6.6,6.4,6.1,6.3,6.1,5.9,5.6,6.2,5.8,5.6,6.7,5.6,6.1,6,5.9,5,5.2,6.6,4.9,6.3,5.7,6.5,5.5,6.9,6.4,7,5,5.3,4.6,5.1,4.8,5.1,5,4.4,4.5,5,5.1,4.4,4.9,5.5,5,4.9,5.5,5.2,5.4,4.8,4.7,5.2,5.2,5,5,4.8,5.1,4.6,5.1,5.4,5.1,5.7,5.1,5.4,5.7,5.8,4.3,4.8,4.8,5.4,4.9,4.4,5,4.6,5.4,5,4.6,4.7,4.9,5.1],\"y\":[1.8,2.3,2,1.9,2.3,2.5,2.3,1.9,2.3,2.4,2.1,1.8,1.8,2.4,2.3,1.4,1.5,2.2,2,1.9,1.6,2.1,1.8,1.8,1.8,2.1,1.8,2,2,2.3,1.5,2.3,2.2,1.8,2.3,2.4,2,2.1,1.9,2,2.5,1.8,1.8,1.7,2.1,2.2,1.8,2.1,1.9,2.5,1.3,1.1,1.3,1.3,1.2,1.3,1,1.2,1.4,1.2,1.3,1.3,1.3,1.5,1.6,1.5,1.6,1.2,1,1.1,1,1.5,1.7,1.4,1.4,1.3,1.2,1.5,1.3,1.8,1.1,1.5,1,1.5,1.4,1.3,1.4,1,1.5,1,1.4,1.3,1,1.6,1.3,1.5,1.3,1.5,1.5,1.4,0.2,0.2,0.2,0.2,0.3,0.4,0.6,0.2,0.3,0.3,0.2,0.2,0.1,0.2,0.2,0.1,0.2,0.1,0.4,0.2,0.2,0.2,0.2,0.4,0.2,0.2,0.5,0.2,0.4,0.2,0.3,0.3,0.3,0.4,0.4,0.2,0.1,0.1,0.2,0.2,0.1,0.2,0.2,0.3,0.4,0.2,0.2,0.2,0.2,0.2]}];\n",
       " var layout_zDJARRVBNY = {\"height\":550,\"width\":600,\"hovermode\":\"closest\",\"title\":{\"text\":\"Uninformative Chart\"},\"showlegend\":true};\n",
       " var config_zDJARRVBNY = {\"responsive\":true,\"scrollZoom\":true,\"displaylogo\":false};\n",
       " Plotly.newPlot(\"graph_zDJARRVBNY\", traces_zDJARRVBNY, layout_zDJARRVBNY, config_zDJARRVBNY);\n",
       "</script> \n"
      ]
     },
     "metadata": {},
     "output_type": "display_data"
    }
   ],
   "source": [
    "val series = XY(sepal_length, petal_width) asType SCATTER drawStyle MARKERS\n",
    "\n",
    "val chart = Chart() addSeries series setTitle \"Uninformative Chart\"\n",
    "\n",
    "chart.plotInline"
   ]
  },
  {
   "cell_type": "markdown",
   "metadata": {},
   "source": [
    "The above chart is not very informative. However since we have the per data point category labels, we can use the utility function to display the data in the different clusters"
   ]
  },
  {
   "cell_type": "code",
   "execution_count": 53,
   "metadata": {},
   "outputs": [
    {
     "data": {
      "text/html": [
       "<div id=\"grid-container_XUi0MnJB39\" class=\"grid-container\" align=\"center\"> \n",
       "<div id=\"grid_XUi0MnJB39\" class=\"grid\" align=\"center\"> \n",
       "<div id=\"graph_QmILoCq06b\" class=\"graph\"></div> \n",
       "</div> \n",
       "</div> \n",
       "<script>\n",
       "var masonry = new Macy({\n",
       "    container: '#grid_XUi0MnJB39',\n",
       "    debug: true,\n",
       "    mobileFirst: true,\n",
       "    columns: 1,\n",
       "    margin: {\n",
       "        x: 0,\n",
       "        y: 0\n",
       "    }\n",
       "  });\n",
       "\n",
       "  var traces_QmILoCq06b = [{\"name\":\"Iris-versicolor\",\"type\":\"scatter\",\"mode\":\"markers\",\"x\":[7,6.4,6.9,5.5,6.5,5.7,6.3,4.9,6.6,5.2,5,5.9,6,6.1,5.6,6.7,5.6,5.8,6.2,5.6,5.9,6.1,6.3,6.1,6.4,6.6,6.8,6.7,6,5.7,5.5,5.5,5.8,6,5.4,6,6.7,6.3,5.6,5.5,5.5,6.1,5.8,5,5.6,5.7,5.7,6.2,5.1,5.7],\"y\":[1.4,1.5,1.5,1.3,1.5,1.3,1.6,1,1.3,1.4,1,1.5,1,1.4,1.3,1.4,1.5,1,1.5,1.1,1.8,1.3,1.5,1.2,1.3,1.4,1.4,1.7,1.5,1,1.1,1,1.2,1.6,1.5,1.6,1.5,1.3,1.3,1.3,1.2,1.4,1.2,1,1.3,1.2,1.3,1.3,1.1,1.3]},{\"name\":\"Iris-setosa\",\"type\":\"scatter\",\"mode\":\"markers\",\"x\":[5.1,4.9,4.7,4.6,5,5.4,4.6,5,4.4,4.9,5.4,4.8,4.8,4.3,5.8,5.7,5.4,5.1,5.7,5.1,5.4,5.1,4.6,5.1,4.8,5,5,5.2,5.2,4.7,4.8,5.4,5.2,5.5,4.9,5,5.5,4.9,4.4,5.1,5,4.5,4.4,5,5.1,4.8,5.1,4.6,5.3,5],\"y\":[0.2,0.2,0.2,0.2,0.2,0.4,0.3,0.2,0.2,0.1,0.2,0.2,0.1,0.1,0.2,0.4,0.4,0.3,0.3,0.3,0.2,0.4,0.2,0.5,0.2,0.2,0.4,0.2,0.2,0.2,0.2,0.4,0.1,0.2,0.1,0.2,0.2,0.1,0.2,0.2,0.3,0.3,0.2,0.6,0.4,0.3,0.2,0.2,0.2,0.2]},{\"name\":\"Iris-virginica\",\"type\":\"scatter\",\"mode\":\"markers\",\"x\":[6.3,5.8,7.1,6.3,6.5,7.6,4.9,7.3,6.7,7.2,6.5,6.4,6.8,5.7,5.8,6.4,6.5,7.7,7.7,6,6.9,5.6,7.7,6.3,6.7,7.2,6.2,6.1,6.4,7.2,7.4,7.9,6.4,6.3,6.1,7.7,6.3,6.4,6,6.9,6.7,6.9,5.8,6.8,6.7,6.7,6.3,6.5,6.2,5.9],\"y\":[2.5,1.9,2.1,1.8,2.2,2.1,1.7,1.8,1.8,2.5,2,1.9,2.1,2,2.4,2.3,1.8,2.2,2.3,1.5,2.3,2,2,1.8,2.1,1.8,1.8,1.8,2.1,1.6,1.9,2,2.2,1.5,1.4,2.3,2.4,1.8,1.8,2.1,2.4,2.3,1.9,2.3,2.5,2.3,1.9,2,2.3,1.8]}];\n",
       " var layout_QmILoCq06b = {\"height\":550,\"width\":600,\"hovermode\":\"closest\",\"title\":{\"text\":\"Iris\"},\"showlegend\":true};\n",
       " var config_QmILoCq06b = {\"responsive\":true,\"scrollZoom\":true,\"displaylogo\":false};\n",
       " Plotly.newPlot(\"graph_QmILoCq06b\", traces_QmILoCq06b, layout_QmILoCq06b, config_QmILoCq06b);\n",
       "</script> \n"
      ]
     },
     "metadata": {},
     "output_type": "display_data"
    }
   ],
   "source": [
    "val result = getSeriesbyCategory(categories, (sepal_length, petal_width))\n",
    "\n",
    "val chart = Chart() addSeries result setTitle \"Iris\" showLegend true\n",
    "\n",
    "chart.plotInline"
   ]
  },
  {
   "cell_type": "markdown",
   "metadata": {},
   "source": [
    "## Conus Integration\n",
    "\n",
    "Picta was originally created to help plot data in CoNuS and with Spark. A couple of utility functions make wrangling CoNuS data easier. Below is an example taken from the conus repo and plotting some variables of interest."
   ]
  },
  {
   "cell_type": "code",
   "execution_count": 54,
   "metadata": {},
   "outputs": [],
   "source": [
    "import org.carbonateresearch.picta.conus.Utils._\n",
    "import org.carbonateresearch.picta.{Canvas, Chart, XY}\n",
    "import org.carbonateresearch.conus.common.SingleModelResults\n",
    "import org.carbonateresearch.conus._\n",
    "\n",
    "import math._"
   ]
  },
  {
   "cell_type": "code",
   "execution_count": 55,
   "metadata": {
    "scrolled": false
   },
   "outputs": [
    {
     "name": "stdout",
     "output_type": "stream",
     "text": [
      "23:40:28.789 [CoNuS-akka.actor.default-dispatcher-3] INFO akka.event.slf4j.Slf4jLogger - Slf4jLogger started\n"
     ]
    },
    {
     "name": "stderr",
     "output_type": "stream",
     "text": [
      "SLF4J: A number (1) of logging calls during the initialization phase have been intercepted and are\n",
      "SLF4J: now being replayed. These are subject to the filtering rules of the underlying logging system.\n",
      "SLF4J: See also http://www.slf4j.org/codes.html#replay\n"
     ]
    },
    {
     "data": {
      "text/html": [
       "Variable <b>Number of Rats</b> with initial value of 2 Individuals  defined"
      ]
     },
     "metadata": {},
     "output_type": "display_data"
    },
    {
     "data": {
      "text/html": [
       "Variable <b>Death rate</b> with initial value of 0.0 %  defined"
      ]
     },
     "metadata": {},
     "output_type": "display_data"
    }
   ],
   "source": [
    "val simulator = new AlmondSimulator // We create an Almond specific simulator\n",
    "\n",
    "// We will now create a ver simple 2D CoNuS model. The model has a dimension of 3x3 grids, and each grid is meant to represent\n",
    "// about 100x100 meters of a field. We initialize the model with values ranging from 2.0 to 6.0. These represent the population \n",
    "// of rats living in each 100 sq meter of the field. We will run the simulation for 10 time step, each time step represents\n",
    "// one generation. We assume a perfect parity between male and female rat, and we also assume that each couple will have 10\n",
    "// babies per generation. In addition, we will simulate a death rate between 0 to 0.9 (0 to 90% of the population), assigned\n",
    "// randomly at each timestep and for each square. A major simplification is that each cell (square in the field) has its own\n",
    "// rat population, there is no movement of rats in between the different cells.\n",
    "\n",
    "// In CoNuS, values that will be calculated are know as model variables. Let's set a few\n",
    "val nbRats:ModelVariable[Int] = ModelVariable(\"Number of Rats\",2,\"Individuals\") //Notice this is an Int\n",
    "val deathRate:ModelVariable[Double] = ModelVariable(\"Death rate\",0.0,\"%\")\n",
    "\n",
    "// Let's initialise a few model conditions \n",
    "val numberOfSteps = 10\n",
    "\n",
    "// And let's create a function that, given a rat population and a deathRate, calculates a new population \n",
    "\n",
    "def survivingRats(initialPopulation:Int, deathRate:Double): Int = {\n",
    "    initialPopulation-math.floor(initialPopulation.toDouble*deathRate).toInt\n",
    "}\n"
   ]
  },
  {
   "cell_type": "code",
   "execution_count": 56,
   "metadata": {},
   "outputs": [
    {
     "name": "stdout",
     "output_type": "stream",
     "text": [
      "A total of 1 unique models were defined, attempting to create a list now.\n",
      "Models list successfully created.\n"
     ]
    },
    {
     "data": {
      "text/html": [
       "<b>Model characteristics</b><table class=\"table\"><tr><th>Feature</th><th>Value</th></tr><tr><td>Name</td><td>Simplified rat population dynamics</td></tr><tr><td>Nb of steps</td><td>10</td></tr><tr><td>Nb of models</td><td>1</td></tr><tr><td>Nb grid cells</td><td>9</td></tr><tr><td>Nb of operations per step</td><td>2</td></tr><tr><td>Total nb of operations</td><td>180</td></tr></table>"
      ]
     },
     "metadata": {},
     "output_type": "display_data"
    }
   ],
   "source": [
    "// Now we can create our model, step by step\n",
    "val ratPopulation = new SteppedModel(numberOfSteps,\"Simplified rat population dynamics\")\n",
    "    .setGrid(3,3) // 9 cells\n",
    "    .defineMathematicalModel( // In this super simple model we do only two things at each step\n",
    "      deathRate =>> {(s:Step) => scala.util.Random.nextDouble()*0.9}, // calculate a death rate\n",
    "      nbRats =>> {(s:Step) => {survivingRats(nbRats(s-1)+(nbRats(s-1)/2*10),deathRate(s))}} // calcuate the nb rats\n",
    "    )\n",
    "    .defineInitialModelConditions( // Now we need to determine the inital size of the population at each model grid\n",
    "      PerCell(nbRats,List(\n",
    "        (List(2),Seq(0,0)),\n",
    "        (List(2),Seq(0,1)),\n",
    "        (List(4),Seq(0,2)),\n",
    "        (List(4),Seq(1,0)),\n",
    "        (List(2),Seq(1,1)),\n",
    "        (List(6),Seq(1,2)),\n",
    "        (List(2),Seq(2,0)),\n",
    "        (List(4),Seq(2,1)),\n",
    "        (List(6),Seq(2,2)))))"
   ]
  },
  {
   "cell_type": "code",
   "execution_count": 59,
   "metadata": {},
   "outputs": [
    {
     "data": {
      "text/html": [
       "Run progress:<br>#################################################################################################### 100.0%"
      ]
     },
     "metadata": {},
     "output_type": "display_data"
    }
   ],
   "source": [
    "// Now we run the model\n",
    "simulator.evaluate(ratPopulation)"
   ]
  },
  {
   "cell_type": "code",
   "execution_count": 60,
   "metadata": {
    "scrolled": false
   },
   "outputs": [
    {
     "data": {
      "text/html": [
       "<div id=\"grid-container_wUg3wZqYFI\" class=\"grid-container\" align=\"center\"> \n",
       "<div id=\"grid_wUg3wZqYFI\" class=\"grid\" align=\"center\"> \n",
       "<div id=\"graph_v0j9N3iabg\" class=\"graph\"></div> \n",
       "</div> \n",
       "</div> \n",
       "<script>\n",
       "var masonry = new Macy({\n",
       "    container: '#grid_wUg3wZqYFI',\n",
       "    debug: true,\n",
       "    mobileFirst: true,\n",
       "    columns: 1,\n",
       "    margin: {\n",
       "        x: 0,\n",
       "        y: 0\n",
       "    }\n",
       "  });\n",
       "\n",
       "  var traces_v0j9N3iabg = [{\"name\":\"Death rate\",\"type\":\"scatter\",\"x\":[0,1,2,3,4,5,6,7,8],\"y\":[0.6204373495598792,0.17325418371993,0.35209573681496076,0.29944481440223214,0.417235845514006,0.885324033278498,0.23455329181444876,0.29623649679004477,0.44333574534045794,0.3252674366613325]},{\"name\":\"Nb of rats\",\"type\":\"scatter\",\"yaxis\":\"y2\",\"x\":[0,1,2,3,4,5,6,7,8],\"y\":[5,21,79,329,1148,790,3629,15321,51170,207157]}];\n",
       " var layout_v0j9N3iabg = {\"height\":550,\"width\":600,\"hovermode\":\"closest\",\"title\":{\"text\":\"Date rate vs nb of rats per generation for cell (0,0)\"},\"showlegend\":true,\"xaxis\":{\"title\":{\"text\":\"Generation\"},\"showgrid\":true,\"zeroline\":false,\"showline\":false},\"yaxis\":{\"title\":{\"text\":\"Death rate\"},\"showgrid\":true,\"zeroline\":false,\"showline\":false},\"yaxis2\":{\"title\":{\"text\":\"Nb rats\"},\"showgrid\":true,\"zeroline\":false,\"showline\":false,\"side\":\"right\",\"overlaying\":\"y\",\"tickformat\":\"0.0f\"}};\n",
       " var config_v0j9N3iabg = {\"responsive\":true,\"scrollZoom\":true,\"displaylogo\":false};\n",
       " Plotly.newPlot(\"graph_v0j9N3iabg\", traces_v0j9N3iabg, layout_v0j9N3iabg, config_v0j9N3iabg);\n",
       "</script> \n"
      ]
     },
     "metadata": {},
     "output_type": "display_data"
    },
    {
     "data": {
      "text/html": [
       "<b>Simplified rat population dynamics model #1 <br>Timestep: 9</b> [from 0 to 9]<table class=\"table\" style=\"align: center; display:block; background-color:fffff0; border: 2px solid green; height: 450px; overflow-y: scroll\"><tr><th style=\"border: 1px solid green; background-color:fffff0\">Cell coordinates</th><th style=\"border: 1px solid green; background-color:#ebebec\">Number of Rats</th><th style=\"border: 1px solid green; background-color:#ebebec\">Death rate</th></tr><tr style=\"border: 1px solid green; background-color:fffff0\"><td style=\"border: 1px solid green; background-color:fffff0\">(0, 0)</td><td style=\"border: 1px solid green; background-color:fffff0\">207157</td><td style=\"border: 1px solid green; background-color:fffff0\">0.3252674366613325</td></tr><tr style=\"border: 1px solid green; background-color:fffff0\"><td style=\"border: 1px solid green; background-color:fffff0\">(0, 1)</td><td style=\"border: 1px solid green; background-color:fffff0\">1869998</td><td style=\"border: 1px solid green; background-color:fffff0\">0.3492938518409616</td></tr><tr style=\"border: 1px solid green; background-color:fffff0\"><td style=\"border: 1px solid green; background-color:fffff0\">(0, 2)</td><td style=\"border: 1px solid green; background-color:fffff0\">119815</td><td style=\"border: 1px solid green; background-color:fffff0\">0.628303019421646</td></tr><tr style=\"border: 1px solid green; background-color:fffff0\"><td style=\"border: 1px solid green; background-color:fffff0\">(1, 0)</td><td style=\"border: 1px solid green; background-color:fffff0\">126330</td><td style=\"border: 1px solid green; background-color:fffff0\">0.43685610769269867</td></tr><tr style=\"border: 1px solid green; background-color:fffff0\"><td style=\"border: 1px solid green; background-color:fffff0\">(1, 1)</td><td style=\"border: 1px solid green; background-color:fffff0\">113122</td><td style=\"border: 1px solid green; background-color:fffff0\">0.527479761761962</td></tr><tr style=\"border: 1px solid green; background-color:fffff0\"><td style=\"border: 1px solid green; background-color:fffff0\">(1, 2)</td><td style=\"border: 1px solid green; background-color:fffff0\">88784</td><td style=\"border: 1px solid green; background-color:fffff0\">0.0926480972216037</td></tr><tr style=\"border: 1px solid green; background-color:fffff0\"><td style=\"border: 1px solid green; background-color:fffff0\">(2, 0)</td><td style=\"border: 1px solid green; background-color:fffff0\">45487</td><td style=\"border: 1px solid green; background-color:fffff0\">0.39390786401797323</td></tr><tr style=\"border: 1px solid green; background-color:fffff0\"><td style=\"border: 1px solid green; background-color:fffff0\">(2, 1)</td><td style=\"border: 1px solid green; background-color:fffff0\">24296</td><td style=\"border: 1px solid green; background-color:fffff0\">0.8255970044624721</td></tr><tr style=\"border: 1px solid green; background-color:fffff0\"><td style=\"border: 1px solid green; background-color:fffff0\">(2, 2)</td><td style=\"border: 1px solid green; background-color:fffff0\">271641</td><td style=\"border: 1px solid green; background-color:fffff0\">0.5964150856221805</td></tr></table>"
      ]
     },
     "metadata": {},
     "output_type": "display_data"
    }
   ],
   "source": [
    "// grab the results from the Conus model\n",
    "val model: SingleModelResults = simulator(ratPopulation)(0)\n",
    "\n",
    "val generation = (0 until numberOfSteps-1).map(x=>x.toDouble).toList\n",
    "\n",
    "// we can use the utility function to grab the series for a single variable\n",
    "val deathRateSeries: List[Double] = getDataFromSingleModel(model, deathRate, List(0,0), numberOfSteps)\n",
    "\n",
    "val xy1 = XY(generation, deathRateSeries) setName(\"Death rate\")\n",
    "\n",
    "// alternatively we can quickly get the same data for XY using the function below\n",
    "//  val xy1 = getXYSeriesFromSingleModel(model, (age, d18Occ), List(0), numberOfSteps)\n",
    "\n",
    "// lets also plot a second y variable\n",
    "val yaxis2 = Axis(\n",
    "    Y,\n",
    "    position = 2, \n",
    "    title = \"Nb rats\", \n",
    "    overlaying = Axis(Y), // this ensures that the axis sits on a seperate axis\n",
    "    side = RIGHT_SIDE, // this ensures the axis is on the right hand side\n",
    "    tickformat = \"0.0f\" // this will keep formatting reasonable for display purposes\n",
    ")\n",
    "\n",
    "// we construct the second y variable;\n",
    "val nbRatsSeries: List[Double] = getDataFromSingleModel(model, nbRats, List(0,0), numberOfSteps).map(x => x.toDouble)\n",
    "val xy2 = XY(generation, nbRatsSeries) setAxis yaxis2 setName(\"Nb of rats\")\n",
    "\n",
    "// finally we can combine in a single chart\n",
    "val chart = (\n",
    "    Chart() \n",
    "    addSeries xy1\n",
    "    addSeries xy2\n",
    "    setTitle(\"Date rate vs nb of rats per generation for cell (0,0)\") \n",
    "    addAxes(Axis(X, title=\"Generation\"), Axis(Y, title=\"Death rate\"), yaxis2)\n",
    ")\n",
    "\n",
    "val canvas = Canvas() addCharts chart\n",
    "\n",
    "// When we plot the result, we can see the legend is in the wrong place and overlaying the axis - we can overcome this\n",
    "// in the next example\n",
    "canvas.plotInline()"
   ]
  },
  {
   "cell_type": "markdown",
   "metadata": {},
   "source": [
    "### Moving the Legend\n",
    "\n",
    "We can also move the Legend and position it where we would like as follows:"
   ]
  },
  {
   "cell_type": "code",
   "execution_count": 61,
   "metadata": {},
   "outputs": [],
   "source": [
    "import org.carbonateresearch.picta.options.AUTO"
   ]
  },
  {
   "cell_type": "code",
   "execution_count": 62,
   "metadata": {
    "scrolled": false
   },
   "outputs": [
    {
     "data": {
      "text/html": [
       "<div id=\"grid-container_yD25J0CknQ\" class=\"grid-container\" align=\"center\"> \n",
       "<div id=\"grid_yD25J0CknQ\" class=\"grid\" align=\"center\"> \n",
       "<div id=\"graph_nV3JXKZRj4\" class=\"graph\"></div> \n",
       "</div> \n",
       "</div> \n",
       "<script>\n",
       "var masonry = new Macy({\n",
       "    container: '#grid_yD25J0CknQ',\n",
       "    debug: true,\n",
       "    mobileFirst: true,\n",
       "    columns: 1,\n",
       "    margin: {\n",
       "        x: 0,\n",
       "        y: 0\n",
       "    }\n",
       "  });\n",
       "\n",
       "  var traces_nV3JXKZRj4 = [{\"name\":\"Death rate\",\"type\":\"scatter\",\"x\":[0,1,2,3,4,5,6,7,8],\"y\":[0.6204373495598792,0.17325418371993,0.35209573681496076,0.29944481440223214,0.417235845514006,0.885324033278498,0.23455329181444876,0.29623649679004477,0.44333574534045794,0.3252674366613325]},{\"name\":\"Nb of rats\",\"type\":\"scatter\",\"yaxis\":\"y2\",\"x\":[0,1,2,3,4,5,6,7,8],\"y\":[5,21,79,329,1148,790,3629,15321,51170,207157]}];\n",
       " var layout_nV3JXKZRj4 = {\"height\":550,\"width\":600,\"hovermode\":\"closest\",\"title\":{\"text\":\"Death rate vs Nb of rats for cell (0,0)\"},\"showlegend\":true,\"legend\":{\"orientation\":\"h\",\"x\":0.5,\"y\":-0.5,\"xanchor\":\"auto\",\"yanchor\":\"auto\"},\"xaxis\":{\"title\":{\"text\":\"Generation\"},\"showgrid\":true,\"zeroline\":false,\"showline\":false},\"yaxis\":{\"title\":{\"text\":\"Death rate\"},\"showgrid\":true,\"zeroline\":false,\"showline\":false},\"yaxis2\":{\"title\":{\"text\":\"Nb rats\"},\"showgrid\":true,\"zeroline\":false,\"showline\":false,\"side\":\"right\",\"overlaying\":\"y\",\"tickformat\":\"0.0f\"}};\n",
       " var config_nV3JXKZRj4 = {\"responsive\":true,\"scrollZoom\":true,\"displaylogo\":false};\n",
       " Plotly.newPlot(\"graph_nV3JXKZRj4\", traces_nV3JXKZRj4, layout_nV3JXKZRj4, config_nV3JXKZRj4);\n",
       "</script> \n"
      ]
     },
     "metadata": {},
     "output_type": "display_data"
    }
   ],
   "source": [
    "// finally we can combine in a single chart\n",
    "val chart = (\n",
    "    Chart() \n",
    "    addSeries xy1\n",
    "    addSeries xy2\n",
    "    setTitle(\"Death rate vs Nb of rats for cell (0,0)\") \n",
    "    addAxes(Axis(X, title=\"Generation\"), Axis(Y, title=\"Death rate\"), yaxis2)\n",
    "    setLegend(x = 0.5, y = -0.5, orientation = HORIZONTAL, xanchor = AUTO, yanchor = AUTO)\n",
    ")\n",
    "\n",
    "val canvas = Canvas() addCharts chart\n",
    "\n",
    "canvas.plotInline()"
   ]
  },
  {
   "cell_type": "code",
   "execution_count": 63,
   "metadata": {},
   "outputs": [
    {
     "data": {
      "text/html": [
       "<div id=\"grid-container_lrycXVXxgP\" class=\"grid-container\" align=\"center\"> \n",
       "<div id=\"grid_lrycXVXxgP\" class=\"grid\" align=\"center\"> \n",
       "\n",
       "<div align=\"center\">\n",
       "  <div id=\"graph_c1lWukPkgP\" class=\"graph\"></div>\n",
       "  <div class=\"animationInterface\">\n",
       "    <button id=\"play_c1lWukPkgP\" class=\"picta-button\">&#9658</button>\n",
       "    <button id=\"pause_c1lWukPkgP\" class=\"picta-button\">&#9616;&#9616;</button>\n",
       "    <button id=\"prev_c1lWukPkgP\" class=\"picta-button\"><</button>\n",
       "    <button id=\"next_c1lWukPkgP\" class=\"picta-button\">></button>\n",
       "\n",
       "    <div id=\"sliderContainer_c1lWukPkgP\" class=\"progressBar\"></div>\n",
       "    <div id=\"counterContainer_c1lWukPkgP\" class=\"inline-div\">\n",
       "        <h3>Frame: </h3> <h3 id=\"value_c1lWukPkgP\">0</h3>\n",
       "    </div>\n",
       "   </div>\n",
       "</div> \n",
       "\n",
       "</div> \n",
       "</div> \n",
       "<script>\n",
       "var masonry = new Macy({\n",
       "    container: '#grid_lrycXVXxgP',\n",
       "    debug: true,\n",
       "    mobileFirst: true,\n",
       "    columns: 1,\n",
       "    margin: {\n",
       "        x: 0,\n",
       "        y: 0\n",
       "    }\n",
       "  });\n",
       "\n",
       "var graph_c1lWukPkgP = document.getElementById('graph_c1lWukPkgP')\n",
       "\n",
       "var layout_c1lWukPkgP = {\"height\":550,\"width\":600,\"hovermode\":\"closest\",\"title\":{\"text\":\"Animation XY with Multiple Series\"},\"showlegend\":true,\"legend\":{\"orientation\":\"h\",\"x\":0.5,\"y\":-0.5,\"xanchor\":\"auto\",\"yanchor\":\"auto\"},\"xaxis\":{\"title\":{\"text\":\"Generation\"},\"showgrid\":true,\"zeroline\":false,\"showline\":false,\"range\":[0,9]},\"yaxis\":{\"title\":{\"text\":\"Death Rate\"},\"showgrid\":true,\"zeroline\":false,\"showline\":false,\"range\":[0,1]},\"yaxis2\":{\"title\":{\"text\":\"Nb rats\"},\"showgrid\":true,\"zeroline\":false,\"showline\":false,\"side\":\"right\",\"overlaying\":\"y\",\"range\":[0,10000],\"tickformat\":\"0.0f\"}}\n",
       "var frames_c1lWukPkgP = [{\"name\":\"Frame 0\",\"data\":[{\"name\":\"Death Rate (F0)\",\"type\":\"scatter\",\"x\":[0],\"y\":[0.6204373495598792]},{\"name\":\"Nb of rats (F0)\",\"type\":\"scatter\",\"yaxis\":\"y2\",\"x\":[0],\"y\":[5]}]},{\"name\":\"Frame 1\",\"data\":[{\"name\":\"Death Rate (F1)\",\"type\":\"scatter\",\"x\":[0,1],\"y\":[0.6204373495598792,0.17325418371993]},{\"name\":\"Nb of rats (F1)\",\"type\":\"scatter\",\"yaxis\":\"y2\",\"x\":[0,1],\"y\":[5,21]}]},{\"name\":\"Frame 2\",\"data\":[{\"name\":\"Death Rate (F2)\",\"type\":\"scatter\",\"x\":[0,1,2],\"y\":[0.6204373495598792,0.17325418371993,0.35209573681496076]},{\"name\":\"Nb of rats (F2)\",\"type\":\"scatter\",\"yaxis\":\"y2\",\"x\":[0,1,2],\"y\":[5,21,79]}]},{\"name\":\"Frame 3\",\"data\":[{\"name\":\"Death Rate (F3)\",\"type\":\"scatter\",\"x\":[0,1,2,3],\"y\":[0.6204373495598792,0.17325418371993,0.35209573681496076,0.29944481440223214]},{\"name\":\"Nb of rats (F3)\",\"type\":\"scatter\",\"yaxis\":\"y2\",\"x\":[0,1,2,3],\"y\":[5,21,79,329]}]},{\"name\":\"Frame 4\",\"data\":[{\"name\":\"Death Rate (F4)\",\"type\":\"scatter\",\"x\":[0,1,2,3,4],\"y\":[0.6204373495598792,0.17325418371993,0.35209573681496076,0.29944481440223214,0.417235845514006]},{\"name\":\"Nb of rats (F4)\",\"type\":\"scatter\",\"yaxis\":\"y2\",\"x\":[0,1,2,3,4],\"y\":[5,21,79,329,1148]}]},{\"name\":\"Frame 5\",\"data\":[{\"name\":\"Death Rate (F5)\",\"type\":\"scatter\",\"x\":[0,1,2,3,4,5],\"y\":[0.6204373495598792,0.17325418371993,0.35209573681496076,0.29944481440223214,0.417235845514006,0.885324033278498]},{\"name\":\"Nb of rats (F5)\",\"type\":\"scatter\",\"yaxis\":\"y2\",\"x\":[0,1,2,3,4,5],\"y\":[5,21,79,329,1148,790]}]},{\"name\":\"Frame 6\",\"data\":[{\"name\":\"Death Rate (F6)\",\"type\":\"scatter\",\"x\":[0,1,2,3,4,5,6],\"y\":[0.6204373495598792,0.17325418371993,0.35209573681496076,0.29944481440223214,0.417235845514006,0.885324033278498,0.23455329181444876]},{\"name\":\"Nb of rats (F6)\",\"type\":\"scatter\",\"yaxis\":\"y2\",\"x\":[0,1,2,3,4,5,6],\"y\":[5,21,79,329,1148,790,3629]}]},{\"name\":\"Frame 7\",\"data\":[{\"name\":\"Death Rate (F7)\",\"type\":\"scatter\",\"x\":[0,1,2,3,4,5,6,7],\"y\":[0.6204373495598792,0.17325418371993,0.35209573681496076,0.29944481440223214,0.417235845514006,0.885324033278498,0.23455329181444876,0.29623649679004477]},{\"name\":\"Nb of rats (F7)\",\"type\":\"scatter\",\"yaxis\":\"y2\",\"x\":[0,1,2,3,4,5,6,7],\"y\":[5,21,79,329,1148,790,3629,15321]}]},{\"name\":\"Frame 8\",\"data\":[{\"name\":\"Death Rate (F8)\",\"type\":\"scatter\",\"x\":[0,1,2,3,4,5,6,7,8],\"y\":[0.6204373495598792,0.17325418371993,0.35209573681496076,0.29944481440223214,0.417235845514006,0.885324033278498,0.23455329181444876,0.29623649679004477,0.44333574534045794]},{\"name\":\"Nb of rats (F8)\",\"type\":\"scatter\",\"yaxis\":\"y2\",\"x\":[0,1,2,3,4,5,6,7,8],\"y\":[5,21,79,329,1148,790,3629,15321,51170]}]}]\n",
       "var labels_c1lWukPkgP = [\"Frame 0\",\"Frame 1\",\"Frame 2\",\"Frame 3\",\"Frame 4\",\"Frame 5\",\"Frame 6\",\"Frame 7\",\"Frame 8\"]\n",
       "var duration_c1lWukPkgP = 100\n",
       "var config_c1lWukPkgP = {\"responsive\":true,\"scrollZoom\":true,\"displaylogo\":false}\n",
       "\n",
       "var traces_c1lWukPkgP = JSON.parse(JSON.stringify(frames_c1lWukPkgP[0].data.map(x => x)))\n",
       "\n",
       "var animation_settings_c1lWukPkgP = {\n",
       "    mode: \"immediate\",\n",
       "    direction: {},\n",
       "    fromcurrent: true,\n",
       "    frame: [\n",
       "      {duration: duration_c1lWukPkgP},\n",
       "      {duration: duration_c1lWukPkgP},\n",
       "      {redraw: true}\n",
       "    ],\n",
       "    transition: [\n",
       "      {duration: duration_c1lWukPkgP, easing: 'cubic-in-out'},\n",
       "      {duration: duration_c1lWukPkgP, easing: 'cubic-in-out'},\n",
       "    ],\n",
       "    ordering: \"layout first\"\n",
       "}\n",
       "\n",
       "var slider_c1lWukPkgP = document.createElement(\"input\")\n",
       "var play_c1lWukPkgP = document.getElementById(\"play_c1lWukPkgP\")\n",
       "var pause_c1lWukPkgP = document.getElementById(\"pause_c1lWukPkgP\")\n",
       "slider_c1lWukPkgP.id = \"slider_c1lWukPkgP\"\n",
       "slider_c1lWukPkgP.type = \"range\"\n",
       "slider_c1lWukPkgP.min = 0\n",
       "slider_c1lWukPkgP.max = frames_c1lWukPkgP.length - 1\n",
       "slider_c1lWukPkgP.value = 0\n",
       "document.getElementById(\"sliderContainer_c1lWukPkgP\").appendChild(slider_c1lWukPkgP);\n",
       "\n",
       "Plotly.newPlot(graph_c1lWukPkgP, traces_c1lWukPkgP, layout_c1lWukPkgP, config_c1lWukPkgP)\n",
       ".then(function () { Plotly.addFrames(graph_c1lWukPkgP, frames_c1lWukPkgP) })\n",
       "\n",
       "var trigger_c1lWukPkgP = true\n",
       "var reset_count_c1lWukPkgP = false\n",
       "\n",
       "play_c1lWukPkgP.addEventListener('click', async function() {\n",
       "   trigger_c1lWukPkgP = true\n",
       "   if (reset_count_c1lWukPkgP) {\n",
       "      slider_c1lWukPkgP.value = 0\n",
       "      reset_count_c1lWukPkgP = false\n",
       "   }\n",
       "\n",
       "  const start_index = slider_c1lWukPkgP.value == labels_c1lWukPkgP.length - 1 ? 0 : slider_c1lWukPkgP.value\n",
       "  const end_index = labels_c1lWukPkgP.length\n",
       "  await Plotly.animate(graph_c1lWukPkgP, labels_c1lWukPkgP.slice(start_index, end_index), animation_settings_c1lWukPkgP)\n",
       "})\n",
       "\n",
       "pause_c1lWukPkgP.addEventListener('click', async function() {\n",
       "  await Plotly.animate(graph_c1lWukPkgP, [null], animation_settings_c1lWukPkgP)\n",
       "  trigger_c1lWukPkgP = false;\n",
       "})\n",
       "\n",
       "graph_c1lWukPkgP.on('plotly_redraw', () => {\n",
       "   value_c1lWukPkgP.innerHTML = slider_c1lWukPkgP.value;\n",
       "   if (trigger_c1lWukPkgP & !reset_count_c1lWukPkgP) ++slider_c1lWukPkgP.value\n",
       "   if (slider_c1lWukPkgP.value == labels_c1lWukPkgP.length - 1) reset_count_c1lWukPkgP = true\n",
       "});\n",
       "\n",
       "slider_c1lWukPkgP.oninput = async function() {\n",
       "   await Plotly.animate(graph_c1lWukPkgP, frames_c1lWukPkgP[this.value], animation_settings_c1lWukPkgP)\n",
       "   trigger_c1lWukPkgP = false\n",
       "   slider_c1lWukPkgP.value = this.value\n",
       "   value_c1lWukPkgP.innerHTML = this.value;\n",
       "   if (this.value == 0) reset_count_c1lWukPkgP = false\n",
       "   if (this.value == labels_c1lWukPkgP.length - 1) reset_count_c1lWukPkgP = true\n",
       "   reset_count_c1lWukPkgP = false\n",
       "}\n",
       "\n",
       "next_c1lWukPkgP.addEventListener('click', function() {\n",
       "    if (slider_c1lWukPkgP.value == labels_c1lWukPkgP.length - 1) {\n",
       "        reset_count_c1lWukPkgP = true;\n",
       "        return;\n",
       "    }\n",
       "    ++slider_c1lWukPkgP.value;\n",
       "    value_c1lWukPkgP.innerHTML = slider_c1lWukPkgP.value;\n",
       "    trigger_c1lWukPkgP = false;\n",
       "    slider_c1lWukPkgP.oninput();\n",
       "})\n",
       "\n",
       "prev_c1lWukPkgP.addEventListener('click', function() {\n",
       "    if (slider_c1lWukPkgP.value == 0) {\n",
       "        reset_count_c1lWukPkgP = false;\n",
       "        return;\n",
       "    }\n",
       "    --slider_c1lWukPkgP.value;\n",
       "    value_c1lWukPkgP.innerHTML = slider_c1lWukPkgP.value;\n",
       "    trigger_c1lWukPkgP = false;\n",
       "    slider_c1lWukPkgP.oninput();\n",
       "})\n",
       "\n",
       "</script> \n"
      ]
     },
     "metadata": {},
     "output_type": "display_data"
    }
   ],
   "source": [
    "val xaxis = Axis(X, title = \"Generation\") setLimits (0.0, 9.0)\n",
    "val yaxis = Axis(Y, title = \"Death Rate\") setLimits(0.0, 1.0)\n",
    "\n",
    "// lets also plot a second y variable\n",
    "val yaxis2 = Axis(\n",
    "    Y,\n",
    "    position = 2, \n",
    "    title = \"Nb rats\",\n",
    "    overlaying = Axis(Y), // this ensures that the axis sits on a seperate axis\n",
    "    side = RIGHT_SIDE, // this ensures the axis is on the right hand side\n",
    "    tickformat = \"0.0f\" // this will keep formatting reasonable for display purposes\n",
    ").setLimits (0.0, 10000.0)\n",
    "\n",
    "// we can also specifiy the underlying layout directly - sometimes this can be useful\n",
    "val layout = ChartLayout(\"Animation XY with Multiple Series\") setAxes(xaxis, yaxis, yaxis2)\n",
    "\n",
    "val animation = \n",
    "    (0 to generation.size-1)\n",
    "    .map(x => XY(generation.take(x+1), deathRateSeries.take(x+1)) setName \"Death Rate\")\n",
    "    .toList\n",
    "\n",
    "val animation2 = \n",
    "    (0 to generation.size-1)\n",
    "    .map(x => XY(generation.take(x+1), nbRatsSeries.take(x+1)) setName \"Nb of rats\" setAxis yaxis2)\n",
    "    .toList\n",
    "\n",
    "val chart = (\n",
    "    Chart(animated = true, transition_duration=100, animate_multiple_series = true)\n",
    "    setChartLayout layout \n",
    "    addSeries animation\n",
    "    addSeries animation2\n",
    "    setLegend(x = 0.5, y = -0.5, orientation = HORIZONTAL, xanchor = AUTO, yanchor = AUTO)\n",
    ") \n",
    "\n",
    "chart.plotInline"
   ]
  },
  {
   "cell_type": "code",
   "execution_count": 64,
   "metadata": {},
   "outputs": [
    {
     "data": {
      "text/html": [
       "<div id=\"grid-container_jQjTJi1GIA\" class=\"grid-container\" align=\"center\"> \n",
       "<div id=\"grid_jQjTJi1GIA\" class=\"grid\" align=\"center\"> \n",
       "<div id=\"graph_eyrvjaUoPn\" class=\"graph\"></div> \n",
       "</div> \n",
       "</div> \n",
       "<script>\n",
       "var masonry = new Macy({\n",
       "    container: '#grid_jQjTJi1GIA',\n",
       "    debug: true,\n",
       "    mobileFirst: true,\n",
       "    columns: 1,\n",
       "    margin: {\n",
       "        x: 0,\n",
       "        y: 0\n",
       "    }\n",
       "  });\n",
       "\n",
       "  var traces_eyrvjaUoPn = [{\"name\":\"MG6tEYWJjD\",\"type\":\"heatmap\",\"z\":[[207157,1869998,119815],[126330,113122,88784],[45487,24296,271641]]}];\n",
       " var layout_eyrvjaUoPn = {\"height\":550,\"width\":600,\"hovermode\":\"closest\",\"title\":{\"text\":\"Nb of rats at time step 10\"},\"showlegend\":true};\n",
       " var config_eyrvjaUoPn = {\"responsive\":true,\"scrollZoom\":true,\"displaylogo\":false};\n",
       " Plotly.newPlot(\"graph_eyrvjaUoPn\", traces_eyrvjaUoPn, layout_eyrvjaUoPn, config_eyrvjaUoPn);\n",
       "</script> \n"
      ]
     },
     "metadata": {},
     "output_type": "display_data"
    }
   ],
   "source": [
    "//FAZAL: It took me a while to get how the heat map works but I think I get it now. However, for this to look like an\n",
    "//actual grid I would need to draw the grid itself, i.e. black lines around each cell of the heatmap. Can we do this?\n",
    "val nbCol = (0 to 2).toList\n",
    "val mySeries:List[Double] = nbCol.flatMap(r => {\n",
    "    nbCol.map{c => getDataFromSingleModel(model, nbRats, List(r,c), numberOfSteps).last.toDouble}})\n",
    "\n",
    "val series = XYZ(z=mySeries,n=3) asType HEATMAP\n",
    "\n",
    "val chart = Chart().addSeries(series).setTitle(\"Nb of rats at time step 10\")\n",
    "\n",
    "chart.plotInline"
   ]
  },
  {
   "cell_type": "markdown",
   "metadata": {},
   "source": [
    "### Setting Colorbar Title"
   ]
  },
  {
   "cell_type": "code",
   "execution_count": 65,
   "metadata": {},
   "outputs": [
    {
     "data": {
      "text/html": [
       "<div id=\"grid-container_JJ1VtoRpay\" class=\"grid-container\" align=\"center\"> \n",
       "<div id=\"grid_JJ1VtoRpay\" class=\"grid\" align=\"center\"> \n",
       "<div id=\"graph_VE04xs9jWv\" class=\"graph\"></div> \n",
       "</div> \n",
       "</div> \n",
       "<script>\n",
       "var masonry = new Macy({\n",
       "    container: '#grid_JJ1VtoRpay',\n",
       "    debug: true,\n",
       "    mobileFirst: true,\n",
       "    columns: 1,\n",
       "    margin: {\n",
       "        x: 0,\n",
       "        y: 0\n",
       "    }\n",
       "  });\n",
       "\n",
       "  var traces_VE04xs9jWv = [{\"name\":\"caw1Fh4g5I\",\"type\":\"surface\",\"colorbar\":{\"title\":{\"text\":\"Rat Population\",\"side\":\"right\"}},\"z\":[[207157,1869998,119815],[126330,113122,88784],[45487,24296,271641]]}];\n",
       " var layout_VE04xs9jWv = {\"height\":550,\"width\":600,\"hovermode\":\"closest\",\"title\":{\"text\":\"Surface\"},\"showlegend\":true};\n",
       " var config_VE04xs9jWv = {\"responsive\":true,\"scrollZoom\":true,\"displaylogo\":false};\n",
       " Plotly.newPlot(\"graph_VE04xs9jWv\", traces_VE04xs9jWv, layout_VE04xs9jWv, config_VE04xs9jWv);\n",
       "</script> \n"
      ]
     },
     "metadata": {},
     "output_type": "display_data"
    }
   ],
   "source": [
    "val ratsAsSurface = XYZ(z=mySeries,n=3) asType SURFACE setColorBar(\"Rat Population\", RIGHT_SIDE)\n",
    "\n",
    "val ratsChart = Chart() addSeries ratsAsSurface setTitle \"Surface\"\n",
    "\n",
    "ratsChart.plotInline"
   ]
  },
  {
   "cell_type": "code",
   "execution_count": 66,
   "metadata": {},
   "outputs": [
    {
     "data": {
      "text/html": [
       "<div id=\"grid-container_vZnIXaF5pM\" class=\"grid-container\" align=\"center\"> \n",
       "<div id=\"grid_vZnIXaF5pM\" class=\"grid\" align=\"center\"> \n",
       "\n",
       "<div align=\"center\">\n",
       "  <div id=\"graph_i43WbHiYZp\" class=\"graph\"></div>\n",
       "  <div class=\"animationInterface\">\n",
       "    <button id=\"play_i43WbHiYZp\" class=\"picta-button\">&#9658</button>\n",
       "    <button id=\"pause_i43WbHiYZp\" class=\"picta-button\">&#9616;&#9616;</button>\n",
       "    <button id=\"prev_i43WbHiYZp\" class=\"picta-button\"><</button>\n",
       "    <button id=\"next_i43WbHiYZp\" class=\"picta-button\">></button>\n",
       "\n",
       "    <div id=\"sliderContainer_i43WbHiYZp\" class=\"progressBar\"></div>\n",
       "    <div id=\"counterContainer_i43WbHiYZp\" class=\"inline-div\">\n",
       "        <h3>Frame: </h3> <h3 id=\"value_i43WbHiYZp\">0</h3>\n",
       "    </div>\n",
       "   </div>\n",
       "</div> \n",
       "\n",
       "</div> \n",
       "</div> \n",
       "<script>\n",
       "var masonry = new Macy({\n",
       "    container: '#grid_vZnIXaF5pM',\n",
       "    debug: true,\n",
       "    mobileFirst: true,\n",
       "    columns: 1,\n",
       "    margin: {\n",
       "        x: 0,\n",
       "        y: 0\n",
       "    }\n",
       "  });\n",
       "\n",
       "var graph_i43WbHiYZp = document.getElementById('graph_i43WbHiYZp')\n",
       "\n",
       "var layout_i43WbHiYZp = {\"height\":550,\"width\":600,\"hovermode\":\"closest\",\"title\":{\"text\":\"Surface\"},\"showlegend\":true}\n",
       "var frames_i43WbHiYZp = [{\"name\":\"WYI6Uwjkom (F0)\",\"data\":[{\"name\":\"WYI6Uwjkom (F0)\",\"type\":\"surface\",\"colorbar\":{\"title\":{\"text\":\"Rat Population\",\"side\":\"right\"}},\"z\":[[5,8,18],[10,6,13],[2,18,33]]}]},{\"name\":\"HBBBULoehx (F1)\",\"data\":[{\"name\":\"HBBBULoehx (F1)\",\"type\":\"surface\",\"colorbar\":{\"title\":{\"text\":\"Rat Population\",\"side\":\"right\"}},\"z\":[[21,41,80],[37,16,29],[4,99,67]]}]},{\"name\":\"p3ObNP34He (F2)\",\"data\":[{\"name\":\"p3ObNP34He (F2)\",\"type\":\"surface\",\"colorbar\":{\"title\":{\"text\":\"Rat Population\",\"side\":\"right\"}},\"z\":[[79,214,333],[209,57,65],[18,112,74]]}]},{\"name\":\"HSIpU7K1LZ (F3)\",\"data\":[{\"name\":\"HSIpU7K1LZ (F3)\",\"type\":\"surface\",\"colorbar\":{\"title\":{\"text\":\"Rat Population\",\"side\":\"right\"}},\"z\":[[329,902,350],[197,308,190],[83,212,335]]}]},{\"name\":\"Zc28zglNSV (F4)\",\"data\":[{\"name\":\"Zc28zglNSV (F4)\",\"type\":\"surface\",\"colorbar\":{\"title\":{\"text\":\"Rat Population\",\"side\":\"right\"}},\"z\":[[1148,5004,410],[242,477,357],[276,386,1521]]}]},{\"name\":\"8bpHkehGyh (F5)\",\"data\":[{\"name\":\"8bpHkehGyh (F5)\",\"type\":\"surface\",\"colorbar\":{\"title\":{\"text\":\"Rat Population\",\"side\":\"right\"}},\"z\":[[790,12377,2399],[1073,2314,1903],[334,1195,8696]]}]},{\"name\":\"IpF2GkDfpa (F6)\",\"data\":[{\"name\":\"IpF2GkDfpa (F6)\",\"type\":\"surface\",\"colorbar\":{\"title\":{\"text\":\"Rat Population\",\"side\":\"right\"}},\"z\":[[3629,44019,8382],[4867,3465,6283],[1261,3765,24435]]}]},{\"name\":\"r9wZJZZPFR (F7)\",\"data\":[{\"name\":\"r9wZJZZPFR (F7)\",\"type\":\"surface\",\"colorbar\":{\"title\":{\"text\":\"Rat Population\",\"side\":\"right\"}},\"z\":[[15321,106316,11064],[21056,15520,5425],[2208,10940,65347]]}]},{\"name\":\"ywfO8xDajY (F8)\",\"data\":[{\"name\":\"ywfO8xDajY (F8)\",\"type\":\"surface\",\"colorbar\":{\"title\":{\"text\":\"Rat Population\",\"side\":\"right\"}},\"z\":[[51170,478967,53725],[37389,39900,16309],[12508,23218,112178]]}]},{\"name\":\"bn6spZmlpQ (F9)\",\"data\":[{\"name\":\"bn6spZmlpQ (F9)\",\"type\":\"surface\",\"colorbar\":{\"title\":{\"text\":\"Rat Population\",\"side\":\"right\"}},\"z\":[[207157,1869998,119815],[126330,113122,88784],[45487,24296,271641]]}]}]\n",
       "var labels_i43WbHiYZp = [\"WYI6Uwjkom (F0)\",\"HBBBULoehx (F1)\",\"p3ObNP34He (F2)\",\"HSIpU7K1LZ (F3)\",\"Zc28zglNSV (F4)\",\"8bpHkehGyh (F5)\",\"IpF2GkDfpa (F6)\",\"r9wZJZZPFR (F7)\",\"ywfO8xDajY (F8)\",\"bn6spZmlpQ (F9)\"]\n",
       "var duration_i43WbHiYZp = 100\n",
       "var config_i43WbHiYZp = {\"responsive\":true,\"scrollZoom\":true,\"displaylogo\":false}\n",
       "\n",
       "var traces_i43WbHiYZp = JSON.parse(JSON.stringify(frames_i43WbHiYZp[0].data.map(x => x)))\n",
       "\n",
       "var animation_settings_i43WbHiYZp = {\n",
       "    mode: \"immediate\",\n",
       "    direction: {},\n",
       "    fromcurrent: true,\n",
       "    frame: [\n",
       "      {duration: duration_i43WbHiYZp},\n",
       "      {duration: duration_i43WbHiYZp},\n",
       "      {redraw: true}\n",
       "    ],\n",
       "    transition: [\n",
       "      {duration: duration_i43WbHiYZp, easing: 'cubic-in-out'},\n",
       "      {duration: duration_i43WbHiYZp, easing: 'cubic-in-out'},\n",
       "    ],\n",
       "    ordering: \"layout first\"\n",
       "}\n",
       "\n",
       "var slider_i43WbHiYZp = document.createElement(\"input\")\n",
       "var play_i43WbHiYZp = document.getElementById(\"play_i43WbHiYZp\")\n",
       "var pause_i43WbHiYZp = document.getElementById(\"pause_i43WbHiYZp\")\n",
       "slider_i43WbHiYZp.id = \"slider_i43WbHiYZp\"\n",
       "slider_i43WbHiYZp.type = \"range\"\n",
       "slider_i43WbHiYZp.min = 0\n",
       "slider_i43WbHiYZp.max = frames_i43WbHiYZp.length - 1\n",
       "slider_i43WbHiYZp.value = 0\n",
       "document.getElementById(\"sliderContainer_i43WbHiYZp\").appendChild(slider_i43WbHiYZp);\n",
       "\n",
       "Plotly.newPlot(graph_i43WbHiYZp, traces_i43WbHiYZp, layout_i43WbHiYZp, config_i43WbHiYZp)\n",
       ".then(function () { Plotly.addFrames(graph_i43WbHiYZp, frames_i43WbHiYZp) })\n",
       "\n",
       "var trigger_i43WbHiYZp = true\n",
       "var reset_count_i43WbHiYZp = false\n",
       "\n",
       "play_i43WbHiYZp.addEventListener('click', async function() {\n",
       "   trigger_i43WbHiYZp = true\n",
       "   if (reset_count_i43WbHiYZp) {\n",
       "      slider_i43WbHiYZp.value = 0\n",
       "      reset_count_i43WbHiYZp = false\n",
       "   }\n",
       "\n",
       "  const start_index = slider_i43WbHiYZp.value == labels_i43WbHiYZp.length - 1 ? 0 : slider_i43WbHiYZp.value\n",
       "  const end_index = labels_i43WbHiYZp.length\n",
       "  await Plotly.animate(graph_i43WbHiYZp, labels_i43WbHiYZp.slice(start_index, end_index), animation_settings_i43WbHiYZp)\n",
       "})\n",
       "\n",
       "pause_i43WbHiYZp.addEventListener('click', async function() {\n",
       "  await Plotly.animate(graph_i43WbHiYZp, [null], animation_settings_i43WbHiYZp)\n",
       "  trigger_i43WbHiYZp = false;\n",
       "})\n",
       "\n",
       "graph_i43WbHiYZp.on('plotly_redraw', () => {\n",
       "   value_i43WbHiYZp.innerHTML = slider_i43WbHiYZp.value;\n",
       "   if (trigger_i43WbHiYZp & !reset_count_i43WbHiYZp) ++slider_i43WbHiYZp.value\n",
       "   if (slider_i43WbHiYZp.value == labels_i43WbHiYZp.length - 1) reset_count_i43WbHiYZp = true\n",
       "});\n",
       "\n",
       "slider_i43WbHiYZp.oninput = async function() {\n",
       "   await Plotly.animate(graph_i43WbHiYZp, frames_i43WbHiYZp[this.value], animation_settings_i43WbHiYZp)\n",
       "   trigger_i43WbHiYZp = false\n",
       "   slider_i43WbHiYZp.value = this.value\n",
       "   value_i43WbHiYZp.innerHTML = this.value;\n",
       "   if (this.value == 0) reset_count_i43WbHiYZp = false\n",
       "   if (this.value == labels_i43WbHiYZp.length - 1) reset_count_i43WbHiYZp = true\n",
       "   reset_count_i43WbHiYZp = false\n",
       "}\n",
       "\n",
       "next_i43WbHiYZp.addEventListener('click', function() {\n",
       "    if (slider_i43WbHiYZp.value == labels_i43WbHiYZp.length - 1) {\n",
       "        reset_count_i43WbHiYZp = true;\n",
       "        return;\n",
       "    }\n",
       "    ++slider_i43WbHiYZp.value;\n",
       "    value_i43WbHiYZp.innerHTML = slider_i43WbHiYZp.value;\n",
       "    trigger_i43WbHiYZp = false;\n",
       "    slider_i43WbHiYZp.oninput();\n",
       "})\n",
       "\n",
       "prev_i43WbHiYZp.addEventListener('click', function() {\n",
       "    if (slider_i43WbHiYZp.value == 0) {\n",
       "        reset_count_i43WbHiYZp = false;\n",
       "        return;\n",
       "    }\n",
       "    --slider_i43WbHiYZp.value;\n",
       "    value_i43WbHiYZp.innerHTML = slider_i43WbHiYZp.value;\n",
       "    trigger_i43WbHiYZp = false;\n",
       "    slider_i43WbHiYZp.oninput();\n",
       "})\n",
       "\n",
       "</script> \n"
      ]
     },
     "metadata": {},
     "output_type": "display_data"
    }
   ],
   "source": [
    "def createSeries:List[List[Double]] = {\n",
    "    val nbCol = (0 to 2).toList\n",
    "    val nestedList:List[List[Double]] = nbCol.flatMap(r => {\n",
    "    nbCol.map{c => getDataFromSingleModel(model, nbRats, List(r,c), numberOfSteps).map(x=>x.toDouble)}})\n",
    "  \n",
    "    (0 to 9).map(x => (0 to 8).map(y => nestedList(y)(x)).toList).toList\n",
    "}\n",
    "\n",
    "\n",
    "val ratsAsSurface = createSeries.map(s => XYZ(z=s,n=3) asType SURFACE setColorBar(\"Rat Population\", RIGHT_SIDE)) \n",
    "\n",
    "val ratsChart = Chart(animated = true, transition_duration=100) addSeries ratsAsSurface setTitle \"Surface\"\n",
    "\n",
    "ratsChart.plotInline"
   ]
  },
  {
   "cell_type": "code",
   "execution_count": null,
   "metadata": {},
   "outputs": [],
   "source": []
  },
  {
   "cell_type": "code",
   "execution_count": null,
   "metadata": {},
   "outputs": [],
   "source": []
  }
 ],
 "metadata": {
  "kernelspec": {
   "display_name": "Scala",
   "language": "scala",
   "name": "scala"
  },
  "language_info": {
   "codemirror_mode": "text/x-scala",
   "file_extension": ".scala",
   "mimetype": "text/x-scala",
   "name": "scala",
   "nbconvert_exporter": "script",
   "version": "2.13.2"
  }
 },
 "nbformat": 4,
 "nbformat_minor": 4
}
