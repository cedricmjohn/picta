{
 "cells": [
  {
   "cell_type": "code",
   "execution_count": 1,
   "metadata": {
    "scrolled": true
   },
   "outputs": [],
   "source": [
    "interp.repositories() ++= Seq(coursierapi.MavenRepository.of(\n",
    "\"https://jitpack.io\"\n",
    "))"
   ]
  },
  {
   "cell_type": "code",
   "execution_count": 2,
   "metadata": {},
   "outputs": [
    {
     "data": {
      "text/plain": [
       "\u001b[32mimport \u001b[39m\u001b[36m$ivy.$                                  \u001b[39m"
      ]
     },
     "execution_count": 2,
     "metadata": {},
     "output_type": "execute_result"
    }
   ],
   "source": [
    "import $ivy. `org.carbonateresearch::picta:0.1`"
   ]
  },
  {
   "cell_type": "code",
   "execution_count": 3,
   "metadata": {
    "scrolled": true
   },
   "outputs": [
    {
     "data": {
      "text/html": [
       "\n",
       "<script type='text/javascript'>\n",
       "require.config({\n",
       "paths: {\n",
       "        'plotly': \"https://cdn.plot.ly/plotly-latest.min\"\n",
       "    },\n",
       "})\n",
       "require( ['plotly'], function(Plotly) {\n",
       "window.Plotly = Plotly;\n",
       "})\n",
       "</script>\n"
      ]
     },
     "metadata": {},
     "output_type": "display_data"
    },
    {
     "data": {
      "text/plain": [
       "\u001b[32mimport \u001b[39m\u001b[36mpicta.Html._ // required to initialize jupyter notebook mode\n",
       "\u001b[39m"
      ]
     },
     "execution_count": 3,
     "metadata": {},
     "output_type": "execute_result"
    }
   ],
   "source": [
    "import picta.Html._ // required to initialize jupyter notebook mode\n",
    "init_notebook_mode() // stops ugly output"
   ]
  },
  {
   "cell_type": "markdown",
   "metadata": {},
   "source": [
    "# 1. Basics\n",
    "\n",
    "The aim of the Picta library is to be a highly configurable and composable general purpose charting library. The following examples are aimed at highlighting the charting grammar for the library, which should make constructing charts easy and intuitive."
   ]
  },
  {
   "cell_type": "markdown",
   "metadata": {},
   "source": [
    "#### Colors\n",
    "\n",
    "Colors in the library are represented as one of two types:\n",
    "\n",
    "1. `List[String]` => this may either be a color word, such as \"red\", or RGB value, such as \"rgb(255, 255, 255, 1)\".\n",
    "2. `List[Double]`"
   ]
  },
  {
   "cell_type": "markdown",
   "metadata": {},
   "source": [
    "#### Lines\n",
    "\n",
    "Lines are perhaps the simplest chart component. The constructor takes in the following arguments:\n",
    "\n",
    "1. `width: Double`\n",
    "2. `color: List[Double or String]`\n",
    "\n",
    "\n",
    "\n",
    "\n",
    "They may be composed as follows:"
   ]
  },
  {
   "cell_type": "code",
   "execution_count": 4,
   "metadata": {},
   "outputs": [
    {
     "name": "stdout",
     "output_type": "stream",
     "text": [
      "Line(0.5,Some(List(rgb(255, 255, 255, 1))))\n"
     ]
    }
   ],
   "source": [
    "import picta.options.Line\n",
    "\n",
    "val line = Line() + List(\"rgb(255, 255, 255, 1)\") // the default constructor for Line has a width of 0.5\n",
    "\n",
    "println(line)"
   ]
  },
  {
   "cell_type": "markdown",
   "metadata": {},
   "source": [
    "#### Markers\n",
    "\n",
    "Markers take in the following optional parameters:\n",
    "\n",
    "1. `symbol: String`\n",
    "2. `color: List[String or Double]`\n",
    "3. `line: Line`\n",
    "\n",
    "Again, composition of a line follows a similar pattern. Here we create a `circle` marker, with the color `red` and a `line` of width 0.5:"
   ]
  },
  {
   "cell_type": "code",
   "execution_count": 5,
   "metadata": {},
   "outputs": [
    {
     "name": "stdout",
     "output_type": "stream",
     "text": [
      "Marker(None,Some(List(red)),Some(Line(0.5,Some(List()))))\n"
     ]
    }
   ],
   "source": [
    "import picta.options.Marker\n",
    "\n",
    "val marker = Marker() + \"circle\" + List(\"red\") + Line()\n",
    "\n",
    "println(marker)"
   ]
  },
  {
   "cell_type": "markdown",
   "metadata": {},
   "source": [
    "### [TO BE CONTINUED.....]"
   ]
  },
  {
   "cell_type": "markdown",
   "metadata": {},
   "source": [
    "## Chart compositions\n",
    "\n",
    "Charts consist of 3 components:\n",
    "\n",
    "1. `data`\n",
    "2. `layout`\n",
    "3. `config`\n",
    "\n",
    "Generally, most of the compositions make use of `data` and `layout` components."
   ]
  },
  {
   "cell_type": "markdown",
   "metadata": {},
   "source": [
    "#### Scatter Charts and Line Charts"
   ]
  },
  {
   "cell_type": "code",
   "execution_count": 6,
   "metadata": {},
   "outputs": [],
   "source": [
    "// some dummy data for x and y variables\n",
    "val x = List.range(1, 50)\n",
    "val y = x.map(x => x + scala.util.Random.nextDouble()*100)"
   ]
  },
  {
   "cell_type": "code",
   "execution_count": 6,
   "metadata": {},
   "outputs": [
    {
     "name": "stderr",
     "output_type": "stream",
     "text": [
      "cmd6.sc:156: object XY is not a member of package picta.series\n",
      "possible cause: maybe a semicolon is missing before `object XY`?\n",
      "import picta.series.XY\n",
      "       ^cmd6.sc:4: not found: value XY\n",
      "val data = XY(x, y, trace_name=\"data0\", trace_type=SCATTER, trace_mode=Some(\"markers+lines\"))\n",
      "           ^cmd6.sc:4: not found: value trace_name\n",
      "val data = XY(x, y, trace_name=\"data0\", trace_type=SCATTER, trace_mode=Some(\"markers+lines\"))\n",
      "                    ^cmd6.sc:4: not found: value trace_type\n",
      "val data = XY(x, y, trace_name=\"data0\", trace_type=SCATTER, trace_mode=Some(\"markers+lines\"))\n",
      "                                        ^cmd6.sc:4: not found: value trace_mode\n",
      "val data = XY(x, y, trace_name=\"data0\", trace_type=SCATTER, trace_mode=Some(\"markers+lines\"))\n",
      "                                                            ^Compilation Failed"
     ]
    },
    {
     "ename": "",
     "evalue": "",
     "output_type": "error",
     "traceback": [
      "Compilation Failed"
     ]
    }
   ],
   "source": [
    "import picta.series.XY\n",
    "\n",
    "// the two data series are then wrapped inside \n",
    "val data = XY(x, y, trace_name=\"data0\", trace_type=SCATTER, trace_mode=Some(\"markers+lines\"))"
   ]
  },
  {
   "cell_type": "code",
   "execution_count": null,
   "metadata": {},
   "outputs": [],
   "source": [
    "// The layout is a composable object which determines how the chart is displayed\n",
    "val layout = Layout(title=Some(\"Chart\"))\n",
    "// the configuration option allows us to set whether the chart is responsible and zoomable using scroll\n",
    "val config = Config(responsive=false, scrollZoom=true)"
   ]
  },
  {
   "cell_type": "code",
   "execution_count": null,
   "metadata": {},
   "outputs": [],
   "source": [
    "// we can compose a chart using the data, layout and config elements above. This grammar is the same for all charts\n",
    "val chart = Chart() + data + layout + config\n",
    "chart.plot_inline()"
   ]
  },
  {
   "cell_type": "code",
   "execution_count": null,
   "metadata": {},
   "outputs": [],
   "source": [
    "// additional traces can simply be composed with an existing chart and added on\n",
    "val data1 = XY(x, y.map(x => x + scala.util.Random.nextDouble()*100), trace_name=\"data1\", trace_type=BAR)\n",
    "\n",
    "val chart1 = chart + data1\n",
    "chart1.plot_inline()"
   ]
  },
  {
   "cell_type": "markdown",
   "metadata": {},
   "source": [
    "## 1.1 Pie Chart"
   ]
  },
  {
   "cell_type": "code",
   "execution_count": null,
   "metadata": {},
   "outputs": [],
   "source": [
    "// pie charts can be composed in a similar way:\n",
    "val data = XY(List(19, 26, 55), List(\"Residential\", \"Non-Residential\", \"Utility\"), trace_name=\"test\", trace_type=PIE)\n",
    "val layout = Layout(Some(\"Pie Chart\"))\n",
    "val chart = Chart() + data +  layout + config\n",
    "chart.plot_inline()"
   ]
  },
  {
   "cell_type": "markdown",
   "metadata": {},
   "source": [
    "## 3. Histogram + Axes"
   ]
  },
  {
   "cell_type": "code",
   "execution_count": null,
   "metadata": {},
   "outputs": [],
   "source": [
    "val x = List.range(1, 1000).map(_+scala.util.Random.nextDouble()*1000)\n",
    "\n",
    "// for histogram charts, the xkey must be specified. It essentially sets the orientation (x direction or y direction)\n",
    "val data = XY(x=x, xkey=\"x\", trace_name=\"trace4\", trace_type=HISTOGRAM)"
   ]
  },
  {
   "cell_type": "code",
   "execution_count": null,
   "metadata": {},
   "outputs": [],
   "source": [
    "// axis can be set just like any other object\n",
    "val xaxis = Axis(key=\"xaxis\", title = \"my x data\")\n",
    "val yaxis = Axis(key=\"yaxis\", title = \"my y data\")\n",
    "\n",
    "// these are added to the layout object\n",
    "val layout = Layout(Some(\"Histogram with axes\")) + xaxis + yaxis\n",
    "\n",
    "val chart = Chart() + data + layout  + config\n",
    "chart.plot_inline()"
   ]
  },
  {
   "cell_type": "code",
   "execution_count": null,
   "metadata": {},
   "outputs": [],
   "source": [
    "// we can also compose customizations in much the same way:\n",
    "val marker = Marker(color=Some(ColorString(\"rgba(255, 100, 102, 0.4)\")), line=Some(Line()))\n",
    "\n",
    "// change xkey to y to get a horizontal histogram\n",
    "val data = XY(x, xkey=\"y\", trace_name=\"test\", trace_type=HISTOGRAM, marker=marker)\n",
    "\n",
    "val layout = Layout(Some(\"XY.Histogram.Color\"))\n",
    "val chart = Chart() + data + layout + config\n",
    "chart.plot_inline()"
   ]
  },
  {
   "cell_type": "markdown",
   "metadata": {},
   "source": [
    "## 4. 2D Histogram Contour"
   ]
  },
  {
   "cell_type": "code",
   "execution_count": null,
   "metadata": {},
   "outputs": [],
   "source": [
    "val x = List.range(1, 50)\n",
    "val y = x.map(x => x + scala.util.Random.nextDouble()*100)\n",
    "\n",
    "val data = XY(x, y, trace_name=\"trace3\", trace_type=HISTOGRAM2DCONTOUR, trace_mode=Some(\"marker\"))\n",
    "val layout = Layout(title=Some(\"2D Histogram Contour\"))\n",
    "\n",
    "val chart = Chart() + data + layout + config\n",
    "chart.plot_inline()"
   ]
  },
  {
   "cell_type": "markdown",
   "metadata": {},
   "source": [
    "## 5. Contour"
   ]
  },
  {
   "cell_type": "code",
   "execution_count": null,
   "metadata": {},
   "outputs": [],
   "source": [
    "val x = List.range(1, 100)\n",
    "val y = List.range(1, 100)\n",
    "val z = List.range(1, 100).map(x => x + scala.util.Random.nextDouble()*100)\n",
    "\n",
    "val data = XYZ(x, y, z, trace_name=\"trace4\", trace_type=CONTOUR, trace_mode=Some(\"marker\"))"
   ]
  },
  {
   "cell_type": "code",
   "execution_count": null,
   "metadata": {},
   "outputs": [],
   "source": [
    "val layout = Layout(title=Some(\"Contour\"))\n",
    "\n",
    "val chart = Chart() + data + layout + config\n",
    "chart.plot_inline()"
   ]
  },
  {
   "cell_type": "markdown",
   "metadata": {},
   "source": [
    "## 6. Heatmap"
   ]
  },
  {
   "cell_type": "code",
   "execution_count": null,
   "metadata": {
    "scrolled": false
   },
   "outputs": [],
   "source": [
    "val z = List.range(1, 101).map(e => e + scala.util.Random.nextDouble()*100).grouped(10).toList"
   ]
  },
  {
   "cell_type": "code",
   "execution_count": null,
   "metadata": {},
   "outputs": [],
   "source": [
    "// add lines in between the grid items\n",
    "val data = XYZ(z, trace_name=\"trace\", trace_type=HEATMAP)\n",
    "val layout = Layout(title=Some(\"Contour\"), height = 500, width = 500)\n",
    "\n",
    "val chart = Chart() + data + layout + config\n",
    "chart.plot_inline()"
   ]
  },
  {
   "cell_type": "markdown",
   "metadata": {},
   "source": [
    "## 7. Scatter3D"
   ]
  },
  {
   "cell_type": "code",
   "execution_count": null,
   "metadata": {},
   "outputs": [],
   "source": [
    "val x = List.range(1, 100)\n",
    "val y = List.range(1, 100)\n",
    "val z = List.range(1, 100).map(e => e + scala.util.Random.nextDouble()*100)\n",
    "\n",
    "val data = XYZ(x, y, z, trace_name=\"trace\", trace_type = SCATTER3D)\n",
    "\n",
    "val chart = Chart() + data + layout + config\n",
    "chart.plot_inline()"
   ]
  },
  {
   "cell_type": "markdown",
   "metadata": {},
   "source": [
    "## 8. Surface Plot"
   ]
  },
  {
   "cell_type": "code",
   "execution_count": null,
   "metadata": {
    "scrolled": false
   },
   "outputs": [],
   "source": [
    "// 3d surface plot\n",
    "val k = List(\n",
    "    List(8.83,8.89,8.81,8.87,8.9,8.87),\n",
    "    List(8.89,8.94,8.85,8.94,8.96,8.92),\n",
    "    List(8.84,8.9,8.82,8.92,8.93,8.91),\n",
    "    List(8.79,8.85,8.79,8.9,8.94,8.92),\n",
    "    List(8.79,8.88,8.81,8.9,8.95,8.92),\n",
    "    List(8.8,8.82,8.78,8.91,8.94,8.92),\n",
    "    List(8.75,8.78,8.77,8.91,8.95,8.92),\n",
    "    List(8.8,8.8,8.77,8.91,8.95,8.94),\n",
    "    List(8.74,8.81,8.76,8.93,8.98,8.99),\n",
    "    List(8.89,8.99,8.92,9.1,9.13,9.11),\n",
    "    List(8.97,8.97,8.91,9.09,9.11,9.11),\n",
    "    List(9.04,9.08,9.05,9.25,9.28,9.27),\n",
    "    List(9,9.01,9,9.2,9.23,9.2),\n",
    "    List(8.99,8.99,8.98,9.18,9.2,9.19),\n",
    "    List(8.93,8.97,8.97,9.18,9.2,9.18)\n",
    "  )\n",
    "\n",
    "val layout = Layout(Some(\"Surface Chart\"))\n",
    "val data = XYZ(k, trace_name=\"trace\", trace_type=SURFACE)\n",
    "\n",
    "val chart = Chart() + data + layout + config\n",
    "chart.plot_inline()"
   ]
  },
  {
   "cell_type": "markdown",
   "metadata": {
    "scrolled": false
   },
   "source": [
    "## 9. Third Dimension as Color"
   ]
  },
  {
   "cell_type": "code",
   "execution_count": null,
   "metadata": {},
   "outputs": [],
   "source": [
    "// call this series name, plot type, change mode \n",
    "// create an object - trace mode as string in overloaded constructor\n",
    "\n",
    "val marker = Marker() + ColorList(z)\n",
    "val data = XY(x, y, trace_name = \"my line\", trace_type = SCATTER, trace_mode = Some(\"lines\")) + marker\n",
    "val chart = Chart() + Layout(Some(\"Color2D.Basic\")) + config + data\n",
    "chart.plot_inline()"
   ]
  },
  {
   "cell_type": "markdown",
   "metadata": {},
   "source": [
    "## 10. Grid"
   ]
  },
  {
   "cell_type": "code",
   "execution_count": null,
   "metadata": {},
   "outputs": [],
   "source": [
    "// 1. first we define the grid layout - 1 row, 2 columns\n",
    "val grid = Grid(1, 2)\n",
    "\n",
    "// 2. Now define the axes we want to place on the grid\n",
    "val ax1 = Axis(\"xaxis\", title = \"x axis 1\")\n",
    "val ax2 = Axis(\"xaxis2\", title = \"x axis 2\")\n",
    "\n",
    "// 3. define the traces\n",
    "val trace1 = XY(x, y, trace_name=\"trace1\", trace_type=SCATTER, trace_mode=Some(\"markers\"))\n",
    "val trace2 = XY(x, z, trace_name=\"trace2\", trace_type=SCATTER, trace_mode=Some(\"markers\"), xaxis=\"x2\", yaxis=\"y2\")\n",
    "\n",
    "// 4. combine into a layout\n",
    "val layout = Layout(title=Some(\"Axis Composition\")) + List(ax1, ax2) + grid\n",
    "\n",
    "// 5. construct into a chart\n",
    "val chart = Chart() + List(trace1, trace2) + layout + config\n",
    "\n",
    "chart.plot_inline()"
   ]
  },
  {
   "cell_type": "markdown",
   "metadata": {},
   "source": [
    "## 11. Map"
   ]
  },
  {
   "cell_type": "code",
   "execution_count": null,
   "metadata": {},
   "outputs": [],
   "source": [
    "val line = Line(width = 2, color = Some(\"red\"))\n",
    "val trace = Map(List(40.7127, 51.5072), List(-74.0059, 0.1275), trace_mode = Some(\"lines\")) + line\n",
    "\n",
    "val geo = Geo(landcolor = Some(\"rgb(204, 204, 204)\"), lakecolor=Some(\"rgb(255, 255, 255)\")) + \n",
    "LatAxis(List(20, 60)) + LongAxis(List(-100, 20))\n",
    "\n",
    "val layout = Layout() + geo\n",
    "val chart = Chart() + trace + layout + config\n",
    "chart.plot_inline()"
   ]
  },
  {
   "cell_type": "code",
   "execution_count": null,
   "metadata": {},
   "outputs": [],
   "source": []
  }
 ],
 "metadata": {
  "kernelspec": {
   "display_name": "Scala",
   "language": "scala",
   "name": "scala"
  },
  "language_info": {
   "codemirror_mode": "text/x-scala",
   "file_extension": ".scala",
   "mimetype": "text/x-scala",
   "name": "scala",
   "nbconvert_exporter": "script",
   "version": "2.13.3"
  }
 },
 "nbformat": 4,
 "nbformat_minor": 4
}
