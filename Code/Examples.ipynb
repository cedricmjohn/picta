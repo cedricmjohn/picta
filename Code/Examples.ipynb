{
 "cells": [
  {
   "cell_type": "code",
   "execution_count": 1,
   "metadata": {
    "scrolled": true
   },
   "outputs": [],
   "source": [
    "interp.repositories() ++= Seq(coursierapi.MavenRepository.of(\n",
    "\"https://jitpack.io\"\n",
    "))"
   ]
  },
  {
   "cell_type": "code",
   "execution_count": 2,
   "metadata": {},
   "outputs": [
    {
     "data": {
      "text/plain": [
       "\u001b[32mimport \u001b[39m\u001b[36m$ivy.$                                  \u001b[39m"
      ]
     },
     "execution_count": 2,
     "metadata": {},
     "output_type": "execute_result"
    }
   ],
   "source": [
    "import $ivy. `org.carbonateresearch::picta:0.1`"
   ]
  },
  {
   "cell_type": "code",
   "execution_count": 3,
   "metadata": {
    "scrolled": false
   },
   "outputs": [
    {
     "data": {
      "text/html": [
       "\n",
       "<script> /** vim: et:ts=4:sw=4:sts=4\n",
       " * @license RequireJS 2.3.6 Copyright jQuery Foundation and other contributors.\n",
       " * Released under MIT license, https://github.com/requirejs/requirejs/blob/master/LICENSE\n",
       " */\n",
       "var requirejs,require,define;!function(global,setTimeout){var req,s,head,baseElement,dataMain,src,interactiveScript,currentlyAddingScript,mainScript,subPath,version=\"2.3.6\",commentRegExp=/\\/\\*[\\s\\S]*?\\*\\/|([^:\"'=]|^)\\/\\/.*$/gm,cjsRequireRegExp=/[^.]\\s*require\\s*\\(\\s*[\"']([^'\"\\s]+)[\"']\\s*\\)/g,jsSuffixRegExp=/\\.js$/,currDirRegExp=/^\\.\\//,op=Object.prototype,ostring=op.toString,hasOwn=op.hasOwnProperty,isBrowser=!(\"undefined\"==typeof window||\"undefined\"==typeof navigator||!window.document),isWebWorker=!isBrowser&&\"undefined\"!=typeof importScripts,readyRegExp=isBrowser&&\"PLAYSTATION 3\"===navigator.platform?/^complete$/:/^(complete|loaded)$/,defContextName=\"_\",isOpera=\"undefined\"!=typeof opera&&\"[object Opera]\"===opera.toString(),contexts={},cfg={},globalDefQueue=[],useInteractive=!1;function commentReplace(e,t){return t||\"\"}function isFunction(e){return\"[object Function]\"===ostring.call(e)}function isArray(e){return\"[object Array]\"===ostring.call(e)}function each(e,t){var i;if(e)for(i=0;i<e.length&&(!e[i]||!t(e[i],i,e));i+=1);}function eachReverse(e,t){var i;if(e)for(i=e.length-1;-1<i&&(!e[i]||!t(e[i],i,e));i-=1);}function hasProp(e,t){return hasOwn.call(e,t)}function getOwn(e,t){return hasProp(e,t)&&e[t]}function eachProp(e,t){var i;for(i in e)if(hasProp(e,i)&&t(e[i],i))break}function mixin(i,e,r,n){return e&&eachProp(e,function(e,t){!r&&hasProp(i,t)||(!n||\"object\"!=typeof e||!e||isArray(e)||isFunction(e)||e instanceof RegExp?i[t]=e:(i[t]||(i[t]={}),mixin(i[t],e,r,n)))}),i}function bind(e,t){return function(){return t.apply(e,arguments)}}function scripts(){return document.getElementsByTagName(\"script\")}function defaultOnError(e){throw e}function getGlobal(e){if(!e)return e;var t=global;return each(e.split(\".\"),function(e){t=t[e]}),t}function makeError(e,t,i,r){var n=new Error(t+\"\\nhttps://requirejs.org/docs/errors.html#\"+e);return n.requireType=e,n.requireModules=r,i&&(n.originalError=i),n}if(void 0===define){if(void 0!==requirejs){if(isFunction(requirejs))return;cfg=requirejs,requirejs=void 0}void 0===require||isFunction(require)||(cfg=require,require=void 0),req=requirejs=function(e,t,i,r){var n,o,a=defContextName;return isArray(e)||\"string\"==typeof e||(o=e,isArray(t)?(e=t,t=i,i=r):e=[]),o&&o.context&&(a=o.context),(n=getOwn(contexts,a))||(n=contexts[a]=req.s.newContext(a)),o&&n.configure(o),n.require(e,t,i)},req.config=function(e){return req(e)},req.nextTick=void 0!==setTimeout?function(e){setTimeout(e,4)}:function(e){e()},require||(require=req),req.version=version,req.jsExtRegExp=/^\\/|:|\\?|\\.js$/,req.isBrowser=isBrowser,s=req.s={contexts:contexts,newContext:newContext},req({}),each([\"toUrl\",\"undef\",\"defined\",\"specified\"],function(t){req[t]=function(){var e=contexts[defContextName];return e.require[t].apply(e,arguments)}}),isBrowser&&(head=s.head=document.getElementsByTagName(\"head\")[0],baseElement=document.getElementsByTagName(\"base\")[0],baseElement&&(head=s.head=baseElement.parentNode)),req.onError=defaultOnError,req.createNode=function(e,t,i){var r=e.xhtml?document.createElementNS(\"http://www.w3.org/1999/xhtml\",\"html:script\"):document.createElement(\"script\");return r.type=e.scriptType||\"text/javascript\",r.charset=\"utf-8\",r.async=!0,r},req.load=function(t,i,r){var e,n=t&&t.config||{};if(isBrowser)return(e=req.createNode(n,i,r)).setAttribute(\"data-requirecontext\",t.contextName),e.setAttribute(\"data-requiremodule\",i),!e.attachEvent||e.attachEvent.toString&&e.attachEvent.toString().indexOf(\"[native code\")<0||isOpera?(e.addEventListener(\"load\",t.onScriptLoad,!1),e.addEventListener(\"error\",t.onScriptError,!1)):(useInteractive=!0,e.attachEvent(\"onreadystatechange\",t.onScriptLoad)),e.src=r,n.onNodeCreated&&n.onNodeCreated(e,n,i,r),currentlyAddingScript=e,baseElement?head.insertBefore(e,baseElement):head.appendChild(e),currentlyAddingScript=null,e;if(isWebWorker)try{setTimeout(function(){},0),importScripts(r),t.completeLoad(i)}catch(e){t.onError(makeError(\"importscripts\",\"importScripts failed for \"+i+\" at \"+r,e,[i]))}},isBrowser&&!cfg.skipDataMain&&eachReverse(scripts(),function(e){if(head||(head=e.parentNode),dataMain=e.getAttribute(\"data-main\"))return mainScript=dataMain,cfg.baseUrl||-1!==mainScript.indexOf(\"!\")||(mainScript=(src=mainScript.split(\"/\")).pop(),subPath=src.length?src.join(\"/\")+\"/\":\"./\",cfg.baseUrl=subPath),mainScript=mainScript.replace(jsSuffixRegExp,\"\"),req.jsExtRegExp.test(mainScript)&&(mainScript=dataMain),cfg.deps=cfg.deps?cfg.deps.concat(mainScript):[mainScript],!0}),define=function(e,i,t){var r,n;\"string\"!=typeof e&&(t=i,i=e,e=null),isArray(i)||(t=i,i=null),!i&&isFunction(t)&&(i=[],t.length&&(t.toString().replace(commentRegExp,commentReplace).replace(cjsRequireRegExp,function(e,t){i.push(t)}),i=(1===t.length?[\"require\"]:[\"require\",\"exports\",\"module\"]).concat(i))),useInteractive&&(r=currentlyAddingScript||getInteractiveScript())&&(e||(e=r.getAttribute(\"data-requiremodule\")),n=contexts[r.getAttribute(\"data-requirecontext\")]),n?(n.defQueue.push([e,i,t]),n.defQueueMap[e]=!0):globalDefQueue.push([e,i,t])},define.amd={jQuery:!0},req.exec=function(text){return eval(text)},req(cfg)}function newContext(u){var i,e,l,c,d,g={waitSeconds:7,baseUrl:\"./\",paths:{},bundles:{},pkgs:{},shim:{},config:{}},p={},f={},r={},h=[],m={},n={},v={},x=1,b=1;function q(e,t,i){var r,n,o,a,s,u,c,d,p,f,l=t&&t.split(\"/\"),h=g.map,m=h&&h[\"*\"];if(e&&(u=(e=e.split(\"/\")).length-1,g.nodeIdCompat&&jsSuffixRegExp.test(e[u])&&(e[u]=e[u].replace(jsSuffixRegExp,\"\")),\".\"===e[0].charAt(0)&&l&&(e=l.slice(0,l.length-1).concat(e)),function(e){var t,i;for(t=0;t<e.length;t++)if(\".\"===(i=e[t]))e.splice(t,1),t-=1;else if(\"..\"===i){if(0===t||1===t&&\"..\"===e[2]||\"..\"===e[t-1])continue;0<t&&(e.splice(t-1,2),t-=2)}}(e),e=e.join(\"/\")),i&&h&&(l||m)){e:for(o=(n=e.split(\"/\")).length;0<o;o-=1){if(s=n.slice(0,o).join(\"/\"),l)for(a=l.length;0<a;a-=1)if((r=getOwn(h,l.slice(0,a).join(\"/\")))&&(r=getOwn(r,s))){c=r,d=o;break e}!p&&m&&getOwn(m,s)&&(p=getOwn(m,s),f=o)}!c&&p&&(c=p,d=f),c&&(n.splice(0,d,c),e=n.join(\"/\"))}return getOwn(g.pkgs,e)||e}function E(t){isBrowser&&each(scripts(),function(e){if(e.getAttribute(\"data-requiremodule\")===t&&e.getAttribute(\"data-requirecontext\")===l.contextName)return e.parentNode.removeChild(e),!0})}function w(e){var t=getOwn(g.paths,e);if(t&&isArray(t)&&1<t.length)return t.shift(),l.require.undef(e),l.makeRequire(null,{skipMap:!0})([e]),!0}function y(e){var t,i=e?e.indexOf(\"!\"):-1;return-1<i&&(t=e.substring(0,i),e=e.substring(i+1,e.length)),[t,e]}function S(e,t,i,r){var n,o,a,s,u=null,c=t?t.name:null,d=e,p=!0,f=\"\";return e||(p=!1,e=\"_@r\"+(x+=1)),u=(s=y(e))[0],e=s[1],u&&(u=q(u,c,r),o=getOwn(m,u)),e&&(u?f=i?e:o&&o.normalize?o.normalize(e,function(e){return q(e,c,r)}):-1===e.indexOf(\"!\")?q(e,c,r):e:(u=(s=y(f=q(e,c,r)))[0],f=s[1],i=!0,n=l.nameToUrl(f))),{prefix:u,name:f,parentMap:t,unnormalized:!!(a=!u||o||i?\"\":\"_unnormalized\"+(b+=1)),url:n,originalName:d,isDefine:p,id:(u?u+\"!\"+f:f)+a}}function k(e){var t=e.id,i=getOwn(p,t);return i||(i=p[t]=new l.Module(e)),i}function M(e,t,i){var r=e.id,n=getOwn(p,r);!hasProp(m,r)||n&&!n.defineEmitComplete?(n=k(e)).error&&\"error\"===t?i(n.error):n.on(t,i):\"defined\"===t&&i(m[r])}function O(i,e){var t=i.requireModules,r=!1;e?e(i):(each(t,function(e){var t=getOwn(p,e);t&&(t.error=i,t.events.error&&(r=!0,t.emit(\"error\",i)))}),r||req.onError(i))}function j(){globalDefQueue.length&&(each(globalDefQueue,function(e){var t=e[0];\"string\"==typeof t&&(l.defQueueMap[t]=!0),h.push(e)}),globalDefQueue=[])}function P(e){delete p[e],delete f[e]}function R(){var e,r,t=1e3*g.waitSeconds,n=t&&l.startTime+t<(new Date).getTime(),o=[],a=[],s=!1,u=!0;if(!i){if(i=!0,eachProp(f,function(e){var t=e.map,i=t.id;if(e.enabled&&(t.isDefine||a.push(e),!e.error))if(!e.inited&&n)w(i)?s=r=!0:(o.push(i),E(i));else if(!e.inited&&e.fetched&&t.isDefine&&(s=!0,!t.prefix))return u=!1}),n&&o.length)return(e=makeError(\"timeout\",\"Load timeout for modules: \"+o,null,o)).contextName=l.contextName,O(e);u&&each(a,function(e){!function n(o,a,s){var e=o.map.id;o.error?o.emit(\"error\",o.error):(a[e]=!0,each(o.depMaps,function(e,t){var i=e.id,r=getOwn(p,i);!r||o.depMatched[t]||s[i]||(getOwn(a,i)?(o.defineDep(t,m[i]),o.check()):n(r,a,s))}),s[e]=!0)}(e,{},{})}),n&&!r||!s||!isBrowser&&!isWebWorker||d||(d=setTimeout(function(){d=0,R()},50)),i=!1}}function a(e){hasProp(m,e[0])||k(S(e[0],null,!0)).init(e[1],e[2])}function o(e,t,i,r){e.detachEvent&&!isOpera?r&&e.detachEvent(r,t):e.removeEventListener(i,t,!1)}function s(e){var t=e.currentTarget||e.srcElement;return o(t,l.onScriptLoad,\"load\",\"onreadystatechange\"),o(t,l.onScriptError,\"error\"),{node:t,id:t&&t.getAttribute(\"data-requiremodule\")}}function T(){var e;for(j();h.length;){if(null===(e=h.shift())[0])return O(makeError(\"mismatch\",\"Mismatched anonymous define() module: \"+e[e.length-1]));a(e)}l.defQueueMap={}}return c={require:function(e){return e.require?e.require:e.require=l.makeRequire(e.map)},exports:function(e){if(e.usingExports=!0,e.map.isDefine)return e.exports?m[e.map.id]=e.exports:e.exports=m[e.map.id]={}},module:function(e){return e.module?e.module:e.module={id:e.map.id,uri:e.map.url,config:function(){return getOwn(g.config,e.map.id)||{}},exports:e.exports||(e.exports={})}}},(e=function(e){this.events=getOwn(r,e.id)||{},this.map=e,this.shim=getOwn(g.shim,e.id),this.depExports=[],this.depMaps=[],this.depMatched=[],this.pluginMaps={},this.depCount=0}).prototype={init:function(e,t,i,r){r=r||{},this.inited||(this.factory=t,i?this.on(\"error\",i):this.events.error&&(i=bind(this,function(e){this.emit(\"error\",e)})),this.depMaps=e&&e.slice(0),this.errback=i,this.inited=!0,this.ignore=r.ignore,r.enabled||this.enabled?this.enable():this.check())},defineDep:function(e,t){this.depMatched[e]||(this.depMatched[e]=!0,this.depCount-=1,this.depExports[e]=t)},fetch:function(){if(!this.fetched){this.fetched=!0,l.startTime=(new Date).getTime();var e=this.map;if(!this.shim)return e.prefix?this.callPlugin():this.load();l.makeRequire(this.map,{enableBuildCallback:!0})(this.shim.deps||[],bind(this,function(){return e.prefix?this.callPlugin():this.load()}))}},load:function(){var e=this.map.url;n[e]||(n[e]=!0,l.load(this.map.id,e))},check:function(){if(this.enabled&&!this.enabling){var t,e,i=this.map.id,r=this.depExports,n=this.exports,o=this.factory;if(this.inited){if(this.error)this.emit(\"error\",this.error);else if(!this.defining){if(this.defining=!0,this.depCount<1&&!this.defined){if(isFunction(o)){if(this.events.error&&this.map.isDefine||req.onError!==defaultOnError)try{n=l.execCb(i,o,r,n)}catch(e){t=e}else n=l.execCb(i,o,r,n);if(this.map.isDefine&&void 0===n&&((e=this.module)?n=e.exports:this.usingExports&&(n=this.exports)),t)return t.requireMap=this.map,t.requireModules=this.map.isDefine?[this.map.id]:null,t.requireType=this.map.isDefine?\"define\":\"require\",O(this.error=t)}else n=o;if(this.exports=n,this.map.isDefine&&!this.ignore&&(m[i]=n,req.onResourceLoad)){var a=[];each(this.depMaps,function(e){a.push(e.normalizedMap||e)}),req.onResourceLoad(l,this.map,a)}P(i),this.defined=!0}this.defining=!1,this.defined&&!this.defineEmitted&&(this.defineEmitted=!0,this.emit(\"defined\",this.exports),this.defineEmitComplete=!0)}}else hasProp(l.defQueueMap,i)||this.fetch()}},callPlugin:function(){var u=this.map,c=u.id,e=S(u.prefix);this.depMaps.push(e),M(e,\"defined\",bind(this,function(e){var o,t,i,r=getOwn(v,this.map.id),n=this.map.name,a=this.map.parentMap?this.map.parentMap.name:null,s=l.makeRequire(u.parentMap,{enableBuildCallback:!0});return this.map.unnormalized?(e.normalize&&(n=e.normalize(n,function(e){return q(e,a,!0)})||\"\"),M(t=S(u.prefix+\"!\"+n,this.map.parentMap,!0),\"defined\",bind(this,function(e){this.map.normalizedMap=t,this.init([],function(){return e},null,{enabled:!0,ignore:!0})})),void((i=getOwn(p,t.id))&&(this.depMaps.push(t),this.events.error&&i.on(\"error\",bind(this,function(e){this.emit(\"error\",e)})),i.enable()))):r?(this.map.url=l.nameToUrl(r),void this.load()):((o=bind(this,function(e){this.init([],function(){return e},null,{enabled:!0})})).error=bind(this,function(e){this.inited=!0,(this.error=e).requireModules=[c],eachProp(p,function(e){0===e.map.id.indexOf(c+\"_unnormalized\")&&P(e.map.id)}),O(e)}),o.fromText=bind(this,function(e,t){var i=u.name,r=S(i),n=useInteractive;t&&(e=t),n&&(useInteractive=!1),k(r),hasProp(g.config,c)&&(g.config[i]=g.config[c]);try{req.exec(e)}catch(e){return O(makeError(\"fromtexteval\",\"fromText eval for \"+c+\" failed: \"+e,e,[c]))}n&&(useInteractive=!0),this.depMaps.push(r),l.completeLoad(i),s([i],o)}),void e.load(u.name,s,o,g))})),l.enable(e,this),this.pluginMaps[e.id]=e},enable:function(){(f[this.map.id]=this).enabled=!0,this.enabling=!0,each(this.depMaps,bind(this,function(e,t){var i,r,n;if(\"string\"==typeof e){if(e=S(e,this.map.isDefine?this.map:this.map.parentMap,!1,!this.skipMap),this.depMaps[t]=e,n=getOwn(c,e.id))return void(this.depExports[t]=n(this));this.depCount+=1,M(e,\"defined\",bind(this,function(e){this.undefed||(this.defineDep(t,e),this.check())})),this.errback?M(e,\"error\",bind(this,this.errback)):this.events.error&&M(e,\"error\",bind(this,function(e){this.emit(\"error\",e)}))}i=e.id,r=p[i],hasProp(c,i)||!r||r.enabled||l.enable(e,this)})),eachProp(this.pluginMaps,bind(this,function(e){var t=getOwn(p,e.id);t&&!t.enabled&&l.enable(e,this)})),this.enabling=!1,this.check()},on:function(e,t){var i=this.events[e];i||(i=this.events[e]=[]),i.push(t)},emit:function(e,t){each(this.events[e],function(e){e(t)}),\"error\"===e&&delete this.events[e]}},(l={config:g,contextName:u,registry:p,defined:m,urlFetched:n,defQueue:h,defQueueMap:{},Module:e,makeModuleMap:S,nextTick:req.nextTick,onError:O,configure:function(e){if(e.baseUrl&&\"/\"!==e.baseUrl.charAt(e.baseUrl.length-1)&&(e.baseUrl+=\"/\"),\"string\"==typeof e.urlArgs){var i=e.urlArgs;e.urlArgs=function(e,t){return(-1===t.indexOf(\"?\")?\"?\":\"&\")+i}}var r=g.shim,n={paths:!0,bundles:!0,config:!0,map:!0};eachProp(e,function(e,t){n[t]?(g[t]||(g[t]={}),mixin(g[t],e,!0,!0)):g[t]=e}),e.bundles&&eachProp(e.bundles,function(e,t){each(e,function(e){e!==t&&(v[e]=t)})}),e.shim&&(eachProp(e.shim,function(e,t){isArray(e)&&(e={deps:e}),!e.exports&&!e.init||e.exportsFn||(e.exportsFn=l.makeShimExports(e)),r[t]=e}),g.shim=r),e.packages&&each(e.packages,function(e){var t;t=(e=\"string\"==typeof e?{name:e}:e).name,e.location&&(g.paths[t]=e.location),g.pkgs[t]=e.name+\"/\"+(e.main||\"main\").replace(currDirRegExp,\"\").replace(jsSuffixRegExp,\"\")}),eachProp(p,function(e,t){e.inited||e.map.unnormalized||(e.map=S(t,null,!0))}),(e.deps||e.callback)&&l.require(e.deps||[],e.callback)},makeShimExports:function(t){return function(){var e;return t.init&&(e=t.init.apply(global,arguments)),e||t.exports&&getGlobal(t.exports)}},makeRequire:function(o,a){function s(e,t,i){var r,n;return a.enableBuildCallback&&t&&isFunction(t)&&(t.__requireJsBuild=!0),\"string\"==typeof e?isFunction(t)?O(makeError(\"requireargs\",\"Invalid require call\"),i):o&&hasProp(c,e)?c[e](p[o.id]):req.get?req.get(l,e,o,s):(r=S(e,o,!1,!0).id,hasProp(m,r)?m[r]:O(makeError(\"notloaded\",'Module name \"'+r+'\" has not been loaded yet for context: '+u+(o?\"\":\". Use require([])\")))):(T(),l.nextTick(function(){T(),(n=k(S(null,o))).skipMap=a.skipMap,n.init(e,t,i,{enabled:!0}),R()}),s)}return a=a||{},mixin(s,{isBrowser:isBrowser,toUrl:function(e){var t,i=e.lastIndexOf(\".\"),r=e.split(\"/\")[0];return-1!==i&&(!(\".\"===r||\"..\"===r)||1<i)&&(t=e.substring(i,e.length),e=e.substring(0,i)),l.nameToUrl(q(e,o&&o.id,!0),t,!0)},defined:function(e){return hasProp(m,S(e,o,!1,!0).id)},specified:function(e){return e=S(e,o,!1,!0).id,hasProp(m,e)||hasProp(p,e)}}),o||(s.undef=function(i){j();var e=S(i,o,!0),t=getOwn(p,i);t.undefed=!0,E(i),delete m[i],delete n[e.url],delete r[i],eachReverse(h,function(e,t){e[0]===i&&h.splice(t,1)}),delete l.defQueueMap[i],t&&(t.events.defined&&(r[i]=t.events),P(i))}),s},enable:function(e){getOwn(p,e.id)&&k(e).enable()},completeLoad:function(e){var t,i,r,n=getOwn(g.shim,e)||{},o=n.exports;for(j();h.length;){if(null===(i=h.shift())[0]){if(i[0]=e,t)break;t=!0}else i[0]===e&&(t=!0);a(i)}if(l.defQueueMap={},r=getOwn(p,e),!t&&!hasProp(m,e)&&r&&!r.inited){if(!(!g.enforceDefine||o&&getGlobal(o)))return w(e)?void 0:O(makeError(\"nodefine\",\"No define call for \"+e,null,[e]));a([e,n.deps||[],n.exportsFn])}R()},nameToUrl:function(e,t,i){var r,n,o,a,s,u,c=getOwn(g.pkgs,e);if(c&&(e=c),u=getOwn(v,e))return l.nameToUrl(u,t,i);if(req.jsExtRegExp.test(e))a=e+(t||\"\");else{for(r=g.paths,o=(n=e.split(\"/\")).length;0<o;o-=1)if(s=getOwn(r,n.slice(0,o).join(\"/\"))){isArray(s)&&(s=s[0]),n.splice(0,o,s);break}a=n.join(\"/\"),a=(\"/\"===(a+=t||(/^data\\:|^blob\\:|\\?/.test(a)||i?\"\":\".js\")).charAt(0)||a.match(/^[\\w\\+\\.\\-]+:/)?\"\":g.baseUrl)+a}return g.urlArgs&&!/^blob\\:/.test(a)?a+g.urlArgs(e,a):a},load:function(e,t){req.load(l,e,t)},execCb:function(e,t,i,r){return t.apply(r,i)},onScriptLoad:function(e){if(\"load\"===e.type||readyRegExp.test((e.currentTarget||e.srcElement).readyState)){interactiveScript=null;var t=s(e);l.completeLoad(t.id)}},onScriptError:function(e){var i=s(e);if(!w(i.id)){var r=[];return eachProp(p,function(e,t){0!==t.indexOf(\"_@r\")&&each(e.depMaps,function(e){if(e.id===i.id)return r.push(t),!0})}),O(makeError(\"scripterror\",'Script error for \"'+i.id+(r.length?'\", needed by: '+r.join(\", \"):'\"'),e,[i.id]))}}}).require=l.makeRequire(),l}function getInteractiveScript(){return interactiveScript&&\"interactive\"===interactiveScript.readyState||eachReverse(scripts(),function(e){if(\"interactive\"===e.readyState)return interactiveScript=e}),interactiveScript}}(this,\"undefined\"==typeof setTimeout?void 0:setTimeout); </script>\n",
       "<script>\n",
       " require.config({\n",
       "   paths: {\n",
       "     'plotly': \"https://cdn.plot.ly/plotly-latest.min\",\n",
       "     'macy': \"https://cdn.jsdelivr.net/npm/macy@2.5.1/dist/macy.min\"\n",
       "   },\n",
       " })\n",
       "require( ['plotly', 'macy'], function(Plotly, Macy) {\n",
       " window.Plotly = Plotly;\n",
       " window.Macy = Macy;\n",
       "})\n",
       "</script>\n"
      ]
     },
     "metadata": {},
     "output_type": "display_data"
    },
    {
     "data": {
      "text/plain": [
       "\u001b[32mimport \u001b[39m\u001b[36morg.carbonateresearch. picta.charts.Html.initNotebook // required to initialize jupyter notebook mode\n",
       "\u001b[39m"
      ]
     },
     "execution_count": 3,
     "metadata": {},
     "output_type": "execute_result"
    }
   ],
   "source": [
    "import org.carbonateresearch. picta.charts.Html.initNotebook // required to initialize jupyter notebook mode\n",
    "initNotebook() // stops ugly output"
   ]
  },
  {
   "cell_type": "markdown",
   "metadata": {},
   "source": [
    "# 1. Basics\n",
    "\n",
    "The aim of the Picta library is to be a highly configurable and composable charting library for data exploration. The library takes a grammatical approach to chart construction. \n",
    "\n",
    "The following examples are aimed at demonstrating the libraries capabilities, and eventually make constructing charts using this library easy and intuitive."
   ]
  },
  {
   "cell_type": "markdown",
   "metadata": {},
   "source": [
    "### Main Components\n",
    "\n",
    "Picta graphs are constructed in a modular manner. The main components are:\n",
    "\n",
    "1. `Canvas`: This is is the top-level component for representing the display. A `Canvas` may consist of multiple charts.\n",
    "\n",
    "\n",
    "2. `Chart`: This is the component that corresponds to an actual chart (i.e. scatter, pie etc).\n",
    "\n",
    "\n",
    "3. `Series`: This is the data series that is plotted on a `Chart`. `Series` come in 3 types:\n",
    "\n",
    "    - `XY`:   This is series data for constructing a 2D chart\n",
    "    - `XYZ`:  This is series data for constructing a 3D chart\n",
    "    - `Map`:  This is series data that constructs a Map chart\n",
    "    \n",
    "\n",
    "4. `Layout`: This configures various parts of how the `Chart` is represented on screen.\n",
    "\n",
    "`Chart` may occassionally also make use of the `Config` component for further configuration. `Config` specifies whether the plot is responsive.\n",
    "\n",
    "The following examples in this notebook should provide a number of interactive examples to get used to the Picta library."
   ]
  },
  {
   "cell_type": "markdown",
   "metadata": {},
   "source": [
    "### Importing the Library\n",
    "\n",
    "Importing as below should bring in the most frequently used Components in the library."
   ]
  },
  {
   "cell_type": "code",
   "execution_count": 4,
   "metadata": {},
   "outputs": [],
   "source": [
    "import org.carbonateresearch.picta._"
   ]
  },
  {
   "cell_type": "markdown",
   "metadata": {},
   "source": [
    "### Create Some Dummy Data to Use in the Examples\n",
    "\n",
    "Here we create some dummy data to be used in the examples for this notebook."
   ]
  },
  {
   "cell_type": "code",
   "execution_count": 5,
   "metadata": {},
   "outputs": [],
   "source": [
    "val x = List.range(0, 100).map(x => scala.util.Random.nextDouble() * 50)\n",
    "val y = List.range(0, 100).map(x => scala.util.Random.nextDouble() * 50)\n",
    "val z = List.range(0, 100).map(x => scala.util.Random.nextDouble() * 50)"
   ]
  },
  {
   "cell_type": "markdown",
   "metadata": {},
   "source": [
    "### 2D Plots\n",
    "\n",
    "`Series` that represent 2D data are represented by `XY` series types.\n",
    "\n",
    "\n",
    "#### Scatter Plot\n",
    "\n",
    "An example `Scatter` plot is below. \n",
    "\n",
    "Note: This is just one way to call the library functions. Another way that uses function chaining will be shown immediately after this example."
   ]
  },
  {
   "cell_type": "code",
   "execution_count": 6,
   "metadata": {},
   "outputs": [
    {
     "data": {
      "text/html": [
       "<div id=\"grid_CGL5u6jYCF\" align=\"center\"> \n",
       "<div id='graph_qxqor6q0or' class='graph'></div> \n",
       "</div> \n",
       "<script>\n",
       "var masonry = new Macy({\n",
       "    container: '#grid_CGL5u6jYCF',\n",
       "    debug: true,\n",
       "    mobileFirst: true,\n",
       "    columns: 1,\n",
       "  });\n",
       "\n",
       " var traces_qxqor6q0or = [{\"name\":\"wTYFNGyeI4\",\"type\":\"scatter\",\"mode\":\"markers\",\"x\":[37.12417568665562,13.9049742342563,44.38225803525492,30.53523662443381,5.497359014447156,36.91853164057296,34.48342911938213,10.841427750636406,0.7955430562707755,38.071404114177916,40.980687333134,37.79819138779703,47.65284202710664,49.46324256855906,37.505417513524044,21.38108533424775,49.38010110501104,41.822005816997255,31.484698962538072,19.412243387845233,14.445909041416755,5.770663641003409,24.279027621026263,13.976137514708991,38.8700541236953,39.7650888441981,0.042098302768750484,32.092747465824594,34.5944280835475,17.93464692405416,5.267033227843326,45.81811541886866,31.835842530288943,19.69956888273788,13.454212742776528,21.366097713347678,22.927149993722836,25.744260390288453,28.3689973478384,10.331449178422586,6.217544603894426,21.693307437343446,14.953395935205227,38.643216981879455,31.229857466935673,1.6669737568981713,9.113886116288427,0.4887214960171582,40.46209989562851,28.785602137140447,46.328328357871115,5.122270160232201,48.97249671936311,38.64739766989328,14.298118635633578,4.20903994435124,0.20166825120519483,14.821626214763416,26.71739296006838,46.153410381859864,35.362595005091016,22.479386374002143,33.63935883861394,11.722362957702664,14.168445271830088,7.426641174332343,28.890463716943792,32.19837496058781,26.670296451286234,3.0093156843288336,36.516376481826825,27.282574428434586,39.54123734488332,36.62780387071366,6.3394100837192155,25.017746549562013,25.27030267261908,40.928355712672456,23.365265825983332,40.112123613985176,29.419108502829083,2.131347685496859,36.99762201792115,40.21868179342115,39.34606218147433,19.41153638099443,43.80236364452964,21.961052461515074,27.61742198586751,4.762992177188363,11.908885010956993,49.79592781135347,4.7014835063534655,22.361436723338706,16.04415548944066,31.16320731167759,28.481574238134723,0.07936051852472925,9.66590197408766,10.798940329441658],\"y\":[32.625526093290226,43.51429191087151,44.69449285687106,15.57246044144726,1.913746820670048,44.65823637413612,9.938785087142755,18.757913741673516,40.25493831474673,3.166347138700459,46.46943290574217,19.261749210813633,46.3079855193562,18.075463000790943,11.913822278137504,47.00152536962217,32.38049852345733,11.778260132249196,5.930019274130255,10.367740764411499,44.58890940678045,16.076300204704236,35.96283808937637,45.49922692444417,16.142031083390773,32.21536762827344,45.793293667322125,9.963943091410455,11.04937515497102,22.949054231598854,49.36345546084777,35.360880598321884,42.55754325701396,4.881626901520169,8.891885447138753,14.34507076726414,29.18240569095016,33.60879063606643,19.390574088675454,47.62655379001799,31.331770899776146,12.505051044877197,11.352461818341247,15.605473887183912,43.20268800296149,8.398938872923733,9.59937598725028,17.479291125823256,47.88946505742283,23.832443486079434,39.063366097681445,37.89445378862762,28.45296818829363,6.11860722527906,47.62017652051114,7.513668467339663,14.078707789587158,17.991244860883548,22.001753110972434,19.231264759442464,28.390635512041683,3.283422399939745,5.28542072765697,46.19295241025724,46.4896045889583,3.7763107642934557,33.49053467510912,31.26262495642357,8.349824685315516,20.12769415095298,44.40915326704239,30.127662887515395,28.833630171074766,10.619424186522576,23.955443837885237,41.84554206392079,38.774347876275215,36.355730810310874,44.03926143100976,1.3083649887101534,37.32895898529379,40.49936450803654,11.252538655646433,37.83826983920376,33.11675474259304,42.150112419605534,37.50281322241689,22.92549468718966,0.5370933573006109,32.55033723289136,12.13644933874843,37.98220740721132,28.098850997702808,32.444731322916844,0.06479106320008143,39.90903378335753,37.59609639932193,4.62658298194934,11.9396876822148,38.25755260851775]}];\n",
       " var layout_qxqor6q0or = {\"height\":550,\"width\":600,\"hovermode\":\"closest\",\"title\":{\"text\":\"First Chart\"},\"showlegend\":false};\n",
       " var config_qxqor6q0or = {\"responsive\":true,\"scrollZoom\":true,\"displaylogo\":false};\n",
       " Plotly.newPlot(\"graph_qxqor6q0or\", traces_qxqor6q0or, layout_qxqor6q0or, config_qxqor6q0or);\n",
       "</script> \n"
      ]
     },
     "metadata": {},
     "output_type": "display_data"
    }
   ],
   "source": [
    "// create the data series using the data from above\n",
    "// 'asType SCATTER' transforms the series into a scatter chart\n",
    "// 'drawSymbol Markers' specifies the type of markers the chart should have\n",
    "val series = XY(x, y) asType SCATTER drawSymbol MARKERS\n",
    "\n",
    "// create a chart by adding to it a data series. We set the title as 'First Chart'\n",
    "val chart = Chart() addSeries series setTitle \"First Chart\"\n",
    "\n",
    "// next we must add the chart to the Canvas. Remember Canvas is what represents the display area \n",
    "// (hence Canvas is like an artist's canvas!)\n",
    "val canvas = Canvas() addCharts chart\n",
    "\n",
    "// our first plot using Picta!\n",
    "canvas.plotInline"
   ]
  },
  {
   "cell_type": "markdown",
   "metadata": {},
   "source": [
    "#### Chaining Functions\n",
    "\n",
    "Sometimes when we are specifying many options, it is quicker to use the IDE autocomplete and just chain the function calls. Throughout this book both the style above and the function chaining style will be used as and when convenient."
   ]
  },
  {
   "cell_type": "code",
   "execution_count": 7,
   "metadata": {},
   "outputs": [
    {
     "data": {
      "text/html": [
       "<div id=\"grid_pGjk5oSlgb\" align=\"center\"> \n",
       "<div id='graph_6sLLW5SpRz' class='graph'></div> \n",
       "</div> \n",
       "<script>\n",
       "var masonry = new Macy({\n",
       "    container: '#grid_pGjk5oSlgb',\n",
       "    debug: true,\n",
       "    mobileFirst: true,\n",
       "    columns: 1,\n",
       "  });\n",
       "\n",
       " var traces_6sLLW5SpRz = [{\"name\":\"7DiVuSkqDj\",\"type\":\"scatter\",\"mode\":\"markers\",\"x\":[37.12417568665562,13.9049742342563,44.38225803525492,30.53523662443381,5.497359014447156,36.91853164057296,34.48342911938213,10.841427750636406,0.7955430562707755,38.071404114177916,40.980687333134,37.79819138779703,47.65284202710664,49.46324256855906,37.505417513524044,21.38108533424775,49.38010110501104,41.822005816997255,31.484698962538072,19.412243387845233,14.445909041416755,5.770663641003409,24.279027621026263,13.976137514708991,38.8700541236953,39.7650888441981,0.042098302768750484,32.092747465824594,34.5944280835475,17.93464692405416,5.267033227843326,45.81811541886866,31.835842530288943,19.69956888273788,13.454212742776528,21.366097713347678,22.927149993722836,25.744260390288453,28.3689973478384,10.331449178422586,6.217544603894426,21.693307437343446,14.953395935205227,38.643216981879455,31.229857466935673,1.6669737568981713,9.113886116288427,0.4887214960171582,40.46209989562851,28.785602137140447,46.328328357871115,5.122270160232201,48.97249671936311,38.64739766989328,14.298118635633578,4.20903994435124,0.20166825120519483,14.821626214763416,26.71739296006838,46.153410381859864,35.362595005091016,22.479386374002143,33.63935883861394,11.722362957702664,14.168445271830088,7.426641174332343,28.890463716943792,32.19837496058781,26.670296451286234,3.0093156843288336,36.516376481826825,27.282574428434586,39.54123734488332,36.62780387071366,6.3394100837192155,25.017746549562013,25.27030267261908,40.928355712672456,23.365265825983332,40.112123613985176,29.419108502829083,2.131347685496859,36.99762201792115,40.21868179342115,39.34606218147433,19.41153638099443,43.80236364452964,21.961052461515074,27.61742198586751,4.762992177188363,11.908885010956993,49.79592781135347,4.7014835063534655,22.361436723338706,16.04415548944066,31.16320731167759,28.481574238134723,0.07936051852472925,9.66590197408766,10.798940329441658],\"y\":[32.625526093290226,43.51429191087151,44.69449285687106,15.57246044144726,1.913746820670048,44.65823637413612,9.938785087142755,18.757913741673516,40.25493831474673,3.166347138700459,46.46943290574217,19.261749210813633,46.3079855193562,18.075463000790943,11.913822278137504,47.00152536962217,32.38049852345733,11.778260132249196,5.930019274130255,10.367740764411499,44.58890940678045,16.076300204704236,35.96283808937637,45.49922692444417,16.142031083390773,32.21536762827344,45.793293667322125,9.963943091410455,11.04937515497102,22.949054231598854,49.36345546084777,35.360880598321884,42.55754325701396,4.881626901520169,8.891885447138753,14.34507076726414,29.18240569095016,33.60879063606643,19.390574088675454,47.62655379001799,31.331770899776146,12.505051044877197,11.352461818341247,15.605473887183912,43.20268800296149,8.398938872923733,9.59937598725028,17.479291125823256,47.88946505742283,23.832443486079434,39.063366097681445,37.89445378862762,28.45296818829363,6.11860722527906,47.62017652051114,7.513668467339663,14.078707789587158,17.991244860883548,22.001753110972434,19.231264759442464,28.390635512041683,3.283422399939745,5.28542072765697,46.19295241025724,46.4896045889583,3.7763107642934557,33.49053467510912,31.26262495642357,8.349824685315516,20.12769415095298,44.40915326704239,30.127662887515395,28.833630171074766,10.619424186522576,23.955443837885237,41.84554206392079,38.774347876275215,36.355730810310874,44.03926143100976,1.3083649887101534,37.32895898529379,40.49936450803654,11.252538655646433,37.83826983920376,33.11675474259304,42.150112419605534,37.50281322241689,22.92549468718966,0.5370933573006109,32.55033723289136,12.13644933874843,37.98220740721132,28.098850997702808,32.444731322916844,0.06479106320008143,39.90903378335753,37.59609639932193,4.62658298194934,11.9396876822148,38.25755260851775]}];\n",
       " var layout_6sLLW5SpRz = {\"height\":550,\"width\":600,\"hovermode\":\"closest\",\"title\":{\"text\":\"First Chart - Function Chaining\"},\"showlegend\":false};\n",
       " var config_6sLLW5SpRz = {\"responsive\":true,\"scrollZoom\":true,\"displaylogo\":false};\n",
       " Plotly.newPlot(\"graph_6sLLW5SpRz\", traces_6sLLW5SpRz, layout_6sLLW5SpRz, config_6sLLW5SpRz);\n",
       "</script> \n"
      ]
     },
     "metadata": {},
     "output_type": "display_data"
    }
   ],
   "source": [
    "// sometimes we may specify many options. In such cases it is clearer to use function chaining as below:\n",
    "val series = XY(x, y)\n",
    "            .asType(SCATTER)\n",
    "            .drawMarkers  // This is to help leverage the IDE autocompletion too for quick scripting\n",
    "\n",
    "val chart = Chart()\n",
    "            .addSeries(series)\n",
    "            .setTitle(\"First Chart - Function Chaining\")\n",
    "\n",
    "Canvas().addCharts(chart).plotInline"
   ]
  },
  {
   "cell_type": "markdown",
   "metadata": {},
   "source": [
    "#### Bar Chart\n",
    "\n",
    "Now using the same principles as above, let's create a `Bar` chart:"
   ]
  },
  {
   "cell_type": "code",
   "execution_count": 8,
   "metadata": {},
   "outputs": [
    {
     "data": {
      "text/html": [
       "<div id=\"grid_itmikc4OG8\" align=\"center\"> \n",
       "<div id='graph_f3YVKrUHjd' class='graph'></div> \n",
       "</div> \n",
       "<script>\n",
       "var masonry = new Macy({\n",
       "    container: '#grid_itmikc4OG8',\n",
       "    debug: true,\n",
       "    mobileFirst: true,\n",
       "    columns: 1,\n",
       "  });\n",
       "\n",
       " var traces_f3YVKrUHjd = [{\"name\":\"p4hQqvcvDP\",\"type\":\"bar\",\"x\":[\"a\",\"b\",\"c\"],\"y\":[10,20,300]}];\n",
       " var layout_f3YVKrUHjd = {\"height\":550,\"width\":600,\"hovermode\":\"closest\",\"title\":{\"text\":\"Bar Chart\"},\"showlegend\":false};\n",
       " var config_f3YVKrUHjd = {\"responsive\":true,\"scrollZoom\":true,\"displaylogo\":false};\n",
       " Plotly.newPlot(\"graph_f3YVKrUHjd\", traces_f3YVKrUHjd, layout_f3YVKrUHjd, config_f3YVKrUHjd);\n",
       "</script> \n"
      ]
     },
     "metadata": {},
     "output_type": "display_data"
    }
   ],
   "source": [
    "// First we create some data for the piechart\n",
    "val x_pie = List(\"a\", \"b\", \"c\")\n",
    "val y_pie = List(10, 20, 300)\n",
    "\n",
    "// again feed in the data that we want to represent as a Bar chart.\n",
    "// Notice how we change 'asType SCATTER' to 'asType BAR'\n",
    "val series = XY(x_pie, y_pie) asType BAR\n",
    "\n",
    "val chart = Chart() addSeries series setTitle \"Bar Chart\" \n",
    "\n",
    "val canvas = Canvas() addCharts chart\n",
    "\n",
    "canvas.plotInline"
   ]
  },
  {
   "cell_type": "markdown",
   "metadata": {},
   "source": [
    "#### Adding Multiple Series on the Same Axis\n",
    "\n",
    "Sometimes we may want to plot multiple `Series` on the same axis to compare different data series.\n",
    "\n",
    "Let's plot both of the above on the same pair of axis:"
   ]
  },
  {
   "cell_type": "code",
   "execution_count": 9,
   "metadata": {},
   "outputs": [],
   "source": [
    "// we import the marker option\n",
    "import org.carbonateresearch.picta.options.Marker"
   ]
  },
  {
   "cell_type": "code",
   "execution_count": 10,
   "metadata": {},
   "outputs": [
    {
     "data": {
      "text/html": [
       "<div id=\"grid_R5XnxY6mxH\" align=\"center\"> \n",
       "<div id='graph_7rz5yhUKz9' class='graph'></div> \n",
       "</div> \n",
       "<script>\n",
       "var masonry = new Macy({\n",
       "    container: '#grid_R5XnxY6mxH',\n",
       "    debug: true,\n",
       "    mobileFirst: true,\n",
       "    columns: 1,\n",
       "  });\n",
       "\n",
       " var traces_7rz5yhUKz9 = [{\"name\":\"Bar\",\"type\":\"bar\",\"x\":[37.12417568665562,13.9049742342563,44.38225803525492,30.53523662443381,5.497359014447156,36.91853164057296,34.48342911938213,10.841427750636406,0.7955430562707755,38.071404114177916,40.980687333134,37.79819138779703,47.65284202710664,49.46324256855906,37.505417513524044,21.38108533424775,49.38010110501104,41.822005816997255,31.484698962538072,19.412243387845233,14.445909041416755,5.770663641003409,24.279027621026263,13.976137514708991,38.8700541236953,39.7650888441981,0.042098302768750484,32.092747465824594,34.5944280835475,17.93464692405416,5.267033227843326,45.81811541886866,31.835842530288943,19.69956888273788,13.454212742776528,21.366097713347678,22.927149993722836,25.744260390288453,28.3689973478384,10.331449178422586,6.217544603894426,21.693307437343446,14.953395935205227,38.643216981879455,31.229857466935673,1.6669737568981713,9.113886116288427,0.4887214960171582,40.46209989562851,28.785602137140447,46.328328357871115,5.122270160232201,48.97249671936311,38.64739766989328,14.298118635633578,4.20903994435124,0.20166825120519483,14.821626214763416,26.71739296006838,46.153410381859864,35.362595005091016,22.479386374002143,33.63935883861394,11.722362957702664,14.168445271830088,7.426641174332343,28.890463716943792,32.19837496058781,26.670296451286234,3.0093156843288336,36.516376481826825,27.282574428434586,39.54123734488332,36.62780387071366,6.3394100837192155,25.017746549562013,25.27030267261908,40.928355712672456,23.365265825983332,40.112123613985176,29.419108502829083,2.131347685496859,36.99762201792115,40.21868179342115,39.34606218147433,19.41153638099443,43.80236364452964,21.961052461515074,27.61742198586751,4.762992177188363,11.908885010956993,49.79592781135347,4.7014835063534655,22.361436723338706,16.04415548944066,31.16320731167759,28.481574238134723,0.07936051852472925,9.66590197408766,10.798940329441658],\"y\":[32.625526093290226,43.51429191087151,44.69449285687106,15.57246044144726,1.913746820670048,44.65823637413612,9.938785087142755,18.757913741673516,40.25493831474673,3.166347138700459,46.46943290574217,19.261749210813633,46.3079855193562,18.075463000790943,11.913822278137504,47.00152536962217,32.38049852345733,11.778260132249196,5.930019274130255,10.367740764411499,44.58890940678045,16.076300204704236,35.96283808937637,45.49922692444417,16.142031083390773,32.21536762827344,45.793293667322125,9.963943091410455,11.04937515497102,22.949054231598854,49.36345546084777,35.360880598321884,42.55754325701396,4.881626901520169,8.891885447138753,14.34507076726414,29.18240569095016,33.60879063606643,19.390574088675454,47.62655379001799,31.331770899776146,12.505051044877197,11.352461818341247,15.605473887183912,43.20268800296149,8.398938872923733,9.59937598725028,17.479291125823256,47.88946505742283,23.832443486079434,39.063366097681445,37.89445378862762,28.45296818829363,6.11860722527906,47.62017652051114,7.513668467339663,14.078707789587158,17.991244860883548,22.001753110972434,19.231264759442464,28.390635512041683,3.283422399939745,5.28542072765697,46.19295241025724,46.4896045889583,3.7763107642934557,33.49053467510912,31.26262495642357,8.349824685315516,20.12769415095298,44.40915326704239,30.127662887515395,28.833630171074766,10.619424186522576,23.955443837885237,41.84554206392079,38.774347876275215,36.355730810310874,44.03926143100976,1.3083649887101534,37.32895898529379,40.49936450803654,11.252538655646433,37.83826983920376,33.11675474259304,42.150112419605534,37.50281322241689,22.92549468718966,0.5370933573006109,32.55033723289136,12.13644933874843,37.98220740721132,28.098850997702808,32.444731322916844,0.06479106320008143,39.90903378335753,37.59609639932193,4.62658298194934,11.9396876822148,38.25755260851775]},{\"name\":\"Scatter\",\"type\":\"scatter\",\"mode\":\"markers\",\"marker\":{\"symbol\":\"circle\",\"color\":\"red\"},\"x\":[37.12417568665562,13.9049742342563,44.38225803525492,30.53523662443381,5.497359014447156,36.91853164057296,34.48342911938213,10.841427750636406,0.7955430562707755,38.071404114177916,40.980687333134,37.79819138779703,47.65284202710664,49.46324256855906,37.505417513524044,21.38108533424775,49.38010110501104,41.822005816997255,31.484698962538072,19.412243387845233,14.445909041416755,5.770663641003409,24.279027621026263,13.976137514708991,38.8700541236953,39.7650888441981,0.042098302768750484,32.092747465824594,34.5944280835475,17.93464692405416,5.267033227843326,45.81811541886866,31.835842530288943,19.69956888273788,13.454212742776528,21.366097713347678,22.927149993722836,25.744260390288453,28.3689973478384,10.331449178422586,6.217544603894426,21.693307437343446,14.953395935205227,38.643216981879455,31.229857466935673,1.6669737568981713,9.113886116288427,0.4887214960171582,40.46209989562851,28.785602137140447,46.328328357871115,5.122270160232201,48.97249671936311,38.64739766989328,14.298118635633578,4.20903994435124,0.20166825120519483,14.821626214763416,26.71739296006838,46.153410381859864,35.362595005091016,22.479386374002143,33.63935883861394,11.722362957702664,14.168445271830088,7.426641174332343,28.890463716943792,32.19837496058781,26.670296451286234,3.0093156843288336,36.516376481826825,27.282574428434586,39.54123734488332,36.62780387071366,6.3394100837192155,25.017746549562013,25.27030267261908,40.928355712672456,23.365265825983332,40.112123613985176,29.419108502829083,2.131347685496859,36.99762201792115,40.21868179342115,39.34606218147433,19.41153638099443,43.80236364452964,21.961052461515074,27.61742198586751,4.762992177188363,11.908885010956993,49.79592781135347,4.7014835063534655,22.361436723338706,16.04415548944066,31.16320731167759,28.481574238134723,0.07936051852472925,9.66590197408766,10.798940329441658],\"y\":[32.625526093290226,43.51429191087151,44.69449285687106,15.57246044144726,1.913746820670048,44.65823637413612,9.938785087142755,18.757913741673516,40.25493831474673,3.166347138700459,46.46943290574217,19.261749210813633,46.3079855193562,18.075463000790943,11.913822278137504,47.00152536962217,32.38049852345733,11.778260132249196,5.930019274130255,10.367740764411499,44.58890940678045,16.076300204704236,35.96283808937637,45.49922692444417,16.142031083390773,32.21536762827344,45.793293667322125,9.963943091410455,11.04937515497102,22.949054231598854,49.36345546084777,35.360880598321884,42.55754325701396,4.881626901520169,8.891885447138753,14.34507076726414,29.18240569095016,33.60879063606643,19.390574088675454,47.62655379001799,31.331770899776146,12.505051044877197,11.352461818341247,15.605473887183912,43.20268800296149,8.398938872923733,9.59937598725028,17.479291125823256,47.88946505742283,23.832443486079434,39.063366097681445,37.89445378862762,28.45296818829363,6.11860722527906,47.62017652051114,7.513668467339663,14.078707789587158,17.991244860883548,22.001753110972434,19.231264759442464,28.390635512041683,3.283422399939745,5.28542072765697,46.19295241025724,46.4896045889583,3.7763107642934557,33.49053467510912,31.26262495642357,8.349824685315516,20.12769415095298,44.40915326704239,30.127662887515395,28.833630171074766,10.619424186522576,23.955443837885237,41.84554206392079,38.774347876275215,36.355730810310874,44.03926143100976,1.3083649887101534,37.32895898529379,40.49936450803654,11.252538655646433,37.83826983920376,33.11675474259304,42.150112419605534,37.50281322241689,22.92549468718966,0.5370933573006109,32.55033723289136,12.13644933874843,37.98220740721132,28.098850997702808,32.444731322916844,0.06479106320008143,39.90903378335753,37.59609639932193,4.62658298194934,11.9396876822148,38.25755260851775]}];\n",
       " var layout_7rz5yhUKz9 = {\"height\":550,\"width\":600,\"hovermode\":\"closest\",\"showlegend\":false};\n",
       " var config_7rz5yhUKz9 = {\"responsive\":true,\"scrollZoom\":true,\"displaylogo\":false};\n",
       " Plotly.newPlot(\"graph_7rz5yhUKz9\", traces_7rz5yhUKz9, layout_7rz5yhUKz9, config_7rz5yhUKz9);\n",
       "</script> \n"
      ]
     },
     "metadata": {},
     "output_type": "display_data"
    }
   ],
   "source": [
    "// additional traces can simply be composed with an existing chart and added on\n",
    "val series1 = XY(x, y) asType BAR setName(\"Bar\")\n",
    "\n",
    "// lets give the second series a red marker. Again we can 'compose' a marker using smaller components\n",
    "val marker = Marker() setSymbol \"circle\" setColor \"red\"\n",
    "\n",
    "val series2 = XY(x, y) asType SCATTER setName(\"Scatter\") drawSymbol MARKERS setMarker marker\n",
    "\n",
    "// we not put brackets in the 'addSeries' function to ensure that addSeries picks up the right series'\n",
    "val chart = Chart() addSeries(series1, series2)\n",
    "\n",
    "Canvas().addCharts(chart).plotInline"
   ]
  },
  {
   "cell_type": "markdown",
   "metadata": {},
   "source": [
    "### Customizing the Axes\n",
    "\n",
    "As can be seen from the examples above, the axes are not set. While for quick data exploration the above is acceptable, for presentation purposes we would want named axes.\n",
    "\n",
    "We can do this as follows:"
   ]
  },
  {
   "cell_type": "code",
   "execution_count": 11,
   "metadata": {},
   "outputs": [],
   "source": [
    "import org.carbonateresearch.picta.options.{XAxis, YAxis}"
   ]
  },
  {
   "cell_type": "code",
   "execution_count": 12,
   "metadata": {},
   "outputs": [
    {
     "data": {
      "text/html": [
       "<div id=\"grid_5l1hS22A7p\" align=\"center\"> \n",
       "<div id='graph_0HIypwtnv0' class='graph'></div> \n",
       "</div> \n",
       "<script>\n",
       "var masonry = new Macy({\n",
       "    container: '#grid_5l1hS22A7p',\n",
       "    debug: true,\n",
       "    mobileFirst: true,\n",
       "    columns: 1,\n",
       "  });\n",
       "\n",
       " var traces_0HIypwtnv0 = [{\"name\":\"Bar\",\"type\":\"bar\",\"x\":[37.12417568665562,13.9049742342563,44.38225803525492,30.53523662443381,5.497359014447156,36.91853164057296,34.48342911938213,10.841427750636406,0.7955430562707755,38.071404114177916,40.980687333134,37.79819138779703,47.65284202710664,49.46324256855906,37.505417513524044,21.38108533424775,49.38010110501104,41.822005816997255,31.484698962538072,19.412243387845233,14.445909041416755,5.770663641003409,24.279027621026263,13.976137514708991,38.8700541236953,39.7650888441981,0.042098302768750484,32.092747465824594,34.5944280835475,17.93464692405416,5.267033227843326,45.81811541886866,31.835842530288943,19.69956888273788,13.454212742776528,21.366097713347678,22.927149993722836,25.744260390288453,28.3689973478384,10.331449178422586,6.217544603894426,21.693307437343446,14.953395935205227,38.643216981879455,31.229857466935673,1.6669737568981713,9.113886116288427,0.4887214960171582,40.46209989562851,28.785602137140447,46.328328357871115,5.122270160232201,48.97249671936311,38.64739766989328,14.298118635633578,4.20903994435124,0.20166825120519483,14.821626214763416,26.71739296006838,46.153410381859864,35.362595005091016,22.479386374002143,33.63935883861394,11.722362957702664,14.168445271830088,7.426641174332343,28.890463716943792,32.19837496058781,26.670296451286234,3.0093156843288336,36.516376481826825,27.282574428434586,39.54123734488332,36.62780387071366,6.3394100837192155,25.017746549562013,25.27030267261908,40.928355712672456,23.365265825983332,40.112123613985176,29.419108502829083,2.131347685496859,36.99762201792115,40.21868179342115,39.34606218147433,19.41153638099443,43.80236364452964,21.961052461515074,27.61742198586751,4.762992177188363,11.908885010956993,49.79592781135347,4.7014835063534655,22.361436723338706,16.04415548944066,31.16320731167759,28.481574238134723,0.07936051852472925,9.66590197408766,10.798940329441658],\"y\":[32.625526093290226,43.51429191087151,44.69449285687106,15.57246044144726,1.913746820670048,44.65823637413612,9.938785087142755,18.757913741673516,40.25493831474673,3.166347138700459,46.46943290574217,19.261749210813633,46.3079855193562,18.075463000790943,11.913822278137504,47.00152536962217,32.38049852345733,11.778260132249196,5.930019274130255,10.367740764411499,44.58890940678045,16.076300204704236,35.96283808937637,45.49922692444417,16.142031083390773,32.21536762827344,45.793293667322125,9.963943091410455,11.04937515497102,22.949054231598854,49.36345546084777,35.360880598321884,42.55754325701396,4.881626901520169,8.891885447138753,14.34507076726414,29.18240569095016,33.60879063606643,19.390574088675454,47.62655379001799,31.331770899776146,12.505051044877197,11.352461818341247,15.605473887183912,43.20268800296149,8.398938872923733,9.59937598725028,17.479291125823256,47.88946505742283,23.832443486079434,39.063366097681445,37.89445378862762,28.45296818829363,6.11860722527906,47.62017652051114,7.513668467339663,14.078707789587158,17.991244860883548,22.001753110972434,19.231264759442464,28.390635512041683,3.283422399939745,5.28542072765697,46.19295241025724,46.4896045889583,3.7763107642934557,33.49053467510912,31.26262495642357,8.349824685315516,20.12769415095298,44.40915326704239,30.127662887515395,28.833630171074766,10.619424186522576,23.955443837885237,41.84554206392079,38.774347876275215,36.355730810310874,44.03926143100976,1.3083649887101534,37.32895898529379,40.49936450803654,11.252538655646433,37.83826983920376,33.11675474259304,42.150112419605534,37.50281322241689,22.92549468718966,0.5370933573006109,32.55033723289136,12.13644933874843,37.98220740721132,28.098850997702808,32.444731322916844,0.06479106320008143,39.90903378335753,37.59609639932193,4.62658298194934,11.9396876822148,38.25755260851775]},{\"name\":\"Scatter\",\"type\":\"scatter\",\"mode\":\"markers\",\"marker\":{\"symbol\":\"circle\",\"color\":\"red\"},\"x\":[37.12417568665562,13.9049742342563,44.38225803525492,30.53523662443381,5.497359014447156,36.91853164057296,34.48342911938213,10.841427750636406,0.7955430562707755,38.071404114177916,40.980687333134,37.79819138779703,47.65284202710664,49.46324256855906,37.505417513524044,21.38108533424775,49.38010110501104,41.822005816997255,31.484698962538072,19.412243387845233,14.445909041416755,5.770663641003409,24.279027621026263,13.976137514708991,38.8700541236953,39.7650888441981,0.042098302768750484,32.092747465824594,34.5944280835475,17.93464692405416,5.267033227843326,45.81811541886866,31.835842530288943,19.69956888273788,13.454212742776528,21.366097713347678,22.927149993722836,25.744260390288453,28.3689973478384,10.331449178422586,6.217544603894426,21.693307437343446,14.953395935205227,38.643216981879455,31.229857466935673,1.6669737568981713,9.113886116288427,0.4887214960171582,40.46209989562851,28.785602137140447,46.328328357871115,5.122270160232201,48.97249671936311,38.64739766989328,14.298118635633578,4.20903994435124,0.20166825120519483,14.821626214763416,26.71739296006838,46.153410381859864,35.362595005091016,22.479386374002143,33.63935883861394,11.722362957702664,14.168445271830088,7.426641174332343,28.890463716943792,32.19837496058781,26.670296451286234,3.0093156843288336,36.516376481826825,27.282574428434586,39.54123734488332,36.62780387071366,6.3394100837192155,25.017746549562013,25.27030267261908,40.928355712672456,23.365265825983332,40.112123613985176,29.419108502829083,2.131347685496859,36.99762201792115,40.21868179342115,39.34606218147433,19.41153638099443,43.80236364452964,21.961052461515074,27.61742198586751,4.762992177188363,11.908885010956993,49.79592781135347,4.7014835063534655,22.361436723338706,16.04415548944066,31.16320731167759,28.481574238134723,0.07936051852472925,9.66590197408766,10.798940329441658],\"y\":[32.625526093290226,43.51429191087151,44.69449285687106,15.57246044144726,1.913746820670048,44.65823637413612,9.938785087142755,18.757913741673516,40.25493831474673,3.166347138700459,46.46943290574217,19.261749210813633,46.3079855193562,18.075463000790943,11.913822278137504,47.00152536962217,32.38049852345733,11.778260132249196,5.930019274130255,10.367740764411499,44.58890940678045,16.076300204704236,35.96283808937637,45.49922692444417,16.142031083390773,32.21536762827344,45.793293667322125,9.963943091410455,11.04937515497102,22.949054231598854,49.36345546084777,35.360880598321884,42.55754325701396,4.881626901520169,8.891885447138753,14.34507076726414,29.18240569095016,33.60879063606643,19.390574088675454,47.62655379001799,31.331770899776146,12.505051044877197,11.352461818341247,15.605473887183912,43.20268800296149,8.398938872923733,9.59937598725028,17.479291125823256,47.88946505742283,23.832443486079434,39.063366097681445,37.89445378862762,28.45296818829363,6.11860722527906,47.62017652051114,7.513668467339663,14.078707789587158,17.991244860883548,22.001753110972434,19.231264759442464,28.390635512041683,3.283422399939745,5.28542072765697,46.19295241025724,46.4896045889583,3.7763107642934557,33.49053467510912,31.26262495642357,8.349824685315516,20.12769415095298,44.40915326704239,30.127662887515395,28.833630171074766,10.619424186522576,23.955443837885237,41.84554206392079,38.774347876275215,36.355730810310874,44.03926143100976,1.3083649887101534,37.32895898529379,40.49936450803654,11.252538655646433,37.83826983920376,33.11675474259304,42.150112419605534,37.50281322241689,22.92549468718966,0.5370933573006109,32.55033723289136,12.13644933874843,37.98220740721132,28.098850997702808,32.444731322916844,0.06479106320008143,39.90903378335753,37.59609639932193,4.62658298194934,11.9396876822148,38.25755260851775]}];\n",
       " var layout_0HIypwtnv0 = {\"height\":550,\"width\":600,\"hovermode\":\"closest\",\"title\":{\"text\":\"Chart with Axes\"},\"showlegend\":false,\"xaxis\":{\"title\":{\"text\":\"x variable\"},\"showgrid\":true,\"zeroline\":false,\"showline\":false},\"yaxis\":{\"title\":{\"text\":\"y variable\"},\"showgrid\":true,\"zeroline\":false,\"showline\":false}};\n",
       " var config_0HIypwtnv0 = {\"responsive\":true,\"scrollZoom\":true,\"displaylogo\":false};\n",
       " Plotly.newPlot(\"graph_0HIypwtnv0\", traces_0HIypwtnv0, layout_0HIypwtnv0, config_0HIypwtnv0);\n",
       "</script> \n"
      ]
     },
     "metadata": {},
     "output_type": "display_data"
    }
   ],
   "source": [
    "// We construct the axes and set their title\n",
    "val xaxis = XAxis(title = \"x variable\")\n",
    "val yaxis = YAxis(title = \"y variable\")\n",
    "\n",
    "// another way to do composition is to just add a bracket around the composition\n",
    "val chart = (\n",
    "    Chart()\n",
    "    setTitle \"Chart with Axes\"\n",
    "    addSeries(series1, series2)\n",
    "    addAxes(xaxis, yaxis)\n",
    ")\n",
    "\n",
    "val canvas = Canvas() addCharts chart\n",
    "\n",
    "canvas.plotInline"
   ]
  },
  {
   "cell_type": "markdown",
   "metadata": {},
   "source": [
    "### Display options - MultiCharts\n",
    "\n",
    "`MultiCharts` are a way to plot multiple axes on the same chart. This is seperate to Picta's grid system, which create a grid of subplot `Chart`'s. The next series of examples will make this clearer."
   ]
  },
  {
   "cell_type": "code",
   "execution_count": 13,
   "metadata": {},
   "outputs": [],
   "source": [
    "// lets make use of the config:\n",
    "val config = Config()\n",
    "\n",
    "// create the axes\n",
    "val xaxis1 = XAxis() setTitle \"x1\"\n",
    "val yaxis1 = YAxis() // this is not strictly necessary, but if it is not added there will be a zeroline at y = 0\n",
    "\n",
    "val xaxis2 = XAxis(2) setTitle \"x2\"\n",
    "val yaxis2 = YAxis(2) // this is not strictly necessary, but if it is not added there will be a zeroline at y = 0"
   ]
  },
  {
   "cell_type": "code",
   "execution_count": 14,
   "metadata": {},
   "outputs": [
    {
     "data": {
      "text/html": [
       "<div id=\"grid_05rwepxJ4s\" align=\"center\"> \n",
       "<div id='graph_j35tB4RJWl' class='graph'></div> \n",
       "</div> \n",
       "<script>\n",
       "var masonry = new Macy({\n",
       "    container: '#grid_05rwepxJ4s',\n",
       "    debug: true,\n",
       "    mobileFirst: true,\n",
       "    columns: 1,\n",
       "  });\n",
       "\n",
       " var traces_j35tB4RJWl = [{\"name\":\"jtdpGkiAs1\",\"type\":\"scatter\",\"mode\":\"markers\",\"x\":[1,2,3],\"y\":[2,4,5]},{\"name\":\"Nbn1jSuqDB\",\"type\":\"scatter\",\"mode\":\"markers\",\"xaxis\":\"x2\",\"yaxis\":\"y2\",\"x\":[37.12417568665562,13.9049742342563,44.38225803525492,30.53523662443381,5.497359014447156,36.91853164057296,34.48342911938213,10.841427750636406,0.7955430562707755,38.071404114177916,40.980687333134,37.79819138779703,47.65284202710664,49.46324256855906,37.505417513524044,21.38108533424775,49.38010110501104,41.822005816997255,31.484698962538072,19.412243387845233,14.445909041416755,5.770663641003409,24.279027621026263,13.976137514708991,38.8700541236953,39.7650888441981,0.042098302768750484,32.092747465824594,34.5944280835475,17.93464692405416,5.267033227843326,45.81811541886866,31.835842530288943,19.69956888273788,13.454212742776528,21.366097713347678,22.927149993722836,25.744260390288453,28.3689973478384,10.331449178422586,6.217544603894426,21.693307437343446,14.953395935205227,38.643216981879455,31.229857466935673,1.6669737568981713,9.113886116288427,0.4887214960171582,40.46209989562851,28.785602137140447,46.328328357871115,5.122270160232201,48.97249671936311,38.64739766989328,14.298118635633578,4.20903994435124,0.20166825120519483,14.821626214763416,26.71739296006838,46.153410381859864,35.362595005091016,22.479386374002143,33.63935883861394,11.722362957702664,14.168445271830088,7.426641174332343,28.890463716943792,32.19837496058781,26.670296451286234,3.0093156843288336,36.516376481826825,27.282574428434586,39.54123734488332,36.62780387071366,6.3394100837192155,25.017746549562013,25.27030267261908,40.928355712672456,23.365265825983332,40.112123613985176,29.419108502829083,2.131347685496859,36.99762201792115,40.21868179342115,39.34606218147433,19.41153638099443,43.80236364452964,21.961052461515074,27.61742198586751,4.762992177188363,11.908885010956993,49.79592781135347,4.7014835063534655,22.361436723338706,16.04415548944066,31.16320731167759,28.481574238134723,0.07936051852472925,9.66590197408766,10.798940329441658],\"y\":[32.625526093290226,43.51429191087151,44.69449285687106,15.57246044144726,1.913746820670048,44.65823637413612,9.938785087142755,18.757913741673516,40.25493831474673,3.166347138700459,46.46943290574217,19.261749210813633,46.3079855193562,18.075463000790943,11.913822278137504,47.00152536962217,32.38049852345733,11.778260132249196,5.930019274130255,10.367740764411499,44.58890940678045,16.076300204704236,35.96283808937637,45.49922692444417,16.142031083390773,32.21536762827344,45.793293667322125,9.963943091410455,11.04937515497102,22.949054231598854,49.36345546084777,35.360880598321884,42.55754325701396,4.881626901520169,8.891885447138753,14.34507076726414,29.18240569095016,33.60879063606643,19.390574088675454,47.62655379001799,31.331770899776146,12.505051044877197,11.352461818341247,15.605473887183912,43.20268800296149,8.398938872923733,9.59937598725028,17.479291125823256,47.88946505742283,23.832443486079434,39.063366097681445,37.89445378862762,28.45296818829363,6.11860722527906,47.62017652051114,7.513668467339663,14.078707789587158,17.991244860883548,22.001753110972434,19.231264759442464,28.390635512041683,3.283422399939745,5.28542072765697,46.19295241025724,46.4896045889583,3.7763107642934557,33.49053467510912,31.26262495642357,8.349824685315516,20.12769415095298,44.40915326704239,30.127662887515395,28.833630171074766,10.619424186522576,23.955443837885237,41.84554206392079,38.774347876275215,36.355730810310874,44.03926143100976,1.3083649887101534,37.32895898529379,40.49936450803654,11.252538655646433,37.83826983920376,33.11675474259304,42.150112419605534,37.50281322241689,22.92549468718966,0.5370933573006109,32.55033723289136,12.13644933874843,37.98220740721132,28.098850997702808,32.444731322916844,0.06479106320008143,39.90903378335753,37.59609639932193,4.62658298194934,11.9396876822148,38.25755260851775]}];\n",
       " var layout_j35tB4RJWl = {\"height\":550,\"width\":600,\"hovermode\":\"closest\",\"title\":{\"text\":\"Chart.Axis.Composition\"},\"showlegend\":false,\"grid\":{\"rows\":1,\"columns\":2,\"pattern\":\"independent\"},\"xaxis\":{\"title\":{\"text\":\"x1\"},\"showgrid\":true,\"zeroline\":false,\"showline\":false},\"yaxis\":{\"showgrid\":true,\"zeroline\":false,\"showline\":false},\"xaxis2\":{\"title\":{\"text\":\"x2\"},\"showgrid\":true,\"zeroline\":false,\"showline\":false},\"yaxis2\":{\"showgrid\":true,\"zeroline\":false,\"showline\":false}};\n",
       " var config_j35tB4RJWl = {\"responsive\":true,\"scrollZoom\":true,\"displaylogo\":false};\n",
       " Plotly.newPlot(\"graph_j35tB4RJWl\", traces_j35tB4RJWl, layout_j35tB4RJWl, config_j35tB4RJWl);\n",
       "</script> \n"
      ]
     },
     "metadata": {},
     "output_type": "display_data"
    }
   ],
   "source": [
    "val series1 = (\n",
    "    XY(x = List(1, 2, 3), y = List(2, 4, 5))\n",
    "    asType SCATTER\n",
    "    drawSymbol MARKERS\n",
    ")\n",
    "\n",
    "val series2 = (\n",
    "    XY(x = x, y = y) \n",
    "    asType SCATTER \n",
    "    drawSymbol MARKERS \n",
    "    setAxes (xaxis2, yaxis2)\n",
    ")\n",
    "\n",
    "val chart1 = Chart()\n",
    "            .addSeries(series1, series2)\n",
    "            .setTitle(\"Chart.Axis.Composition\")\n",
    "            .addAxes(xaxis1, yaxis1, xaxis2, yaxis2)\n",
    "            .setConfig(config)\n",
    "            .asMultiChart(1, 2)\n",
    "\n",
    "val canvas = Canvas() addCharts chart1\n",
    "\n",
    "canvas.plotInline"
   ]
  },
  {
   "cell_type": "markdown",
   "metadata": {},
   "source": [
    "### Picta's Subplot System\n",
    "\n",
    "While the above is useful, sometimes it is more useful to plot independent charts in a subplot grid. This is where we can use the Picta subplot system.\n",
    "\n",
    "In the subplots below, each subplot is an individual `Chart`. This means we can actually embed the above `MultiChart` inside another subplot. This way we can create nested subplots to showcase any data we need to.\n",
    "\n",
    "Used creatively, this subplot system can be very useful for data exploration."
   ]
  },
  {
   "cell_type": "code",
   "execution_count": 15,
   "metadata": {
    "scrolled": false
   },
   "outputs": [
    {
     "data": {
      "text/html": [
       "<div id=\"grid_rxlEjr3t5u\" align=\"center\"> \n",
       "<div id='graph_GYD3NBsiEq' class='graph'></div> \n",
       "<div id='graph_iFqXh4MjTm' class='graph'></div> \n",
       "<div id='graph_siodsJrItl' class='graph'></div> \n",
       "<div id='graph_xRz1BGwc5V' class='graph'></div> \n",
       "</div> \n",
       "<script>\n",
       "var masonry = new Macy({\n",
       "    container: '#grid_rxlEjr3t5u',\n",
       "    debug: true,\n",
       "    mobileFirst: true,\n",
       "    columns: 2,\n",
       "  });\n",
       "\n",
       " var traces_GYD3NBsiEq = [{\"name\":\"a\",\"type\":\"scatter\",\"x\":[37.12417568665562,13.9049742342563,44.38225803525492,30.53523662443381,5.497359014447156,36.91853164057296,34.48342911938213,10.841427750636406,0.7955430562707755,38.071404114177916,40.980687333134,37.79819138779703,47.65284202710664,49.46324256855906,37.505417513524044,21.38108533424775,49.38010110501104,41.822005816997255,31.484698962538072,19.412243387845233,14.445909041416755,5.770663641003409,24.279027621026263,13.976137514708991,38.8700541236953,39.7650888441981,0.042098302768750484,32.092747465824594,34.5944280835475,17.93464692405416,5.267033227843326,45.81811541886866,31.835842530288943,19.69956888273788,13.454212742776528,21.366097713347678,22.927149993722836,25.744260390288453,28.3689973478384,10.331449178422586,6.217544603894426,21.693307437343446,14.953395935205227,38.643216981879455,31.229857466935673,1.6669737568981713,9.113886116288427,0.4887214960171582,40.46209989562851,28.785602137140447,46.328328357871115,5.122270160232201,48.97249671936311,38.64739766989328,14.298118635633578,4.20903994435124,0.20166825120519483,14.821626214763416,26.71739296006838,46.153410381859864,35.362595005091016,22.479386374002143,33.63935883861394,11.722362957702664,14.168445271830088,7.426641174332343,28.890463716943792,32.19837496058781,26.670296451286234,3.0093156843288336,36.516376481826825,27.282574428434586,39.54123734488332,36.62780387071366,6.3394100837192155,25.017746549562013,25.27030267261908,40.928355712672456,23.365265825983332,40.112123613985176,29.419108502829083,2.131347685496859,36.99762201792115,40.21868179342115,39.34606218147433,19.41153638099443,43.80236364452964,21.961052461515074,27.61742198586751,4.762992177188363,11.908885010956993,49.79592781135347,4.7014835063534655,22.361436723338706,16.04415548944066,31.16320731167759,28.481574238134723,0.07936051852472925,9.66590197408766,10.798940329441658],\"y\":[32.625526093290226,43.51429191087151,44.69449285687106,15.57246044144726,1.913746820670048,44.65823637413612,9.938785087142755,18.757913741673516,40.25493831474673,3.166347138700459,46.46943290574217,19.261749210813633,46.3079855193562,18.075463000790943,11.913822278137504,47.00152536962217,32.38049852345733,11.778260132249196,5.930019274130255,10.367740764411499,44.58890940678045,16.076300204704236,35.96283808937637,45.49922692444417,16.142031083390773,32.21536762827344,45.793293667322125,9.963943091410455,11.04937515497102,22.949054231598854,49.36345546084777,35.360880598321884,42.55754325701396,4.881626901520169,8.891885447138753,14.34507076726414,29.18240569095016,33.60879063606643,19.390574088675454,47.62655379001799,31.331770899776146,12.505051044877197,11.352461818341247,15.605473887183912,43.20268800296149,8.398938872923733,9.59937598725028,17.479291125823256,47.88946505742283,23.832443486079434,39.063366097681445,37.89445378862762,28.45296818829363,6.11860722527906,47.62017652051114,7.513668467339663,14.078707789587158,17.991244860883548,22.001753110972434,19.231264759442464,28.390635512041683,3.283422399939745,5.28542072765697,46.19295241025724,46.4896045889583,3.7763107642934557,33.49053467510912,31.26262495642357,8.349824685315516,20.12769415095298,44.40915326704239,30.127662887515395,28.833630171074766,10.619424186522576,23.955443837885237,41.84554206392079,38.774347876275215,36.355730810310874,44.03926143100976,1.3083649887101534,37.32895898529379,40.49936450803654,11.252538655646433,37.83826983920376,33.11675474259304,42.150112419605534,37.50281322241689,22.92549468718966,0.5370933573006109,32.55033723289136,12.13644933874843,37.98220740721132,28.098850997702808,32.444731322916844,0.06479106320008143,39.90903378335753,37.59609639932193,4.62658298194934,11.9396876822148,38.25755260851775]}];\n",
       " var layout_GYD3NBsiEq = {\"height\":350,\"width\":350,\"hovermode\":\"closest\",\"showlegend\":false,\"margin\":{\"l\":50,\"r\":30,\"t\":50,\"b\":50},\"xaxis\":{\"title\":{\"text\":\"x axis 1\"},\"showgrid\":true,\"zeroline\":false,\"showline\":false},\"yaxis\":{\"title\":{\"text\":\"y axis 1\"},\"showgrid\":true,\"zeroline\":false,\"showline\":false}};\n",
       " var config_GYD3NBsiEq = {\"responsive\":true,\"scrollZoom\":true,\"displaylogo\":false};\n",
       " Plotly.newPlot(\"graph_GYD3NBsiEq\", traces_GYD3NBsiEq, layout_GYD3NBsiEq, config_GYD3NBsiEq);\n",
       "\n",
       " var traces_iFqXh4MjTm = [{\"name\":\"b\",\"type\":\"scatter\",\"x\":[37.12417568665562,13.9049742342563,44.38225803525492,30.53523662443381,5.497359014447156,36.91853164057296,34.48342911938213,10.841427750636406,0.7955430562707755,38.071404114177916,40.980687333134,37.79819138779703,47.65284202710664,49.46324256855906,37.505417513524044,21.38108533424775,49.38010110501104,41.822005816997255,31.484698962538072,19.412243387845233,14.445909041416755,5.770663641003409,24.279027621026263,13.976137514708991,38.8700541236953,39.7650888441981,0.042098302768750484,32.092747465824594,34.5944280835475,17.93464692405416,5.267033227843326,45.81811541886866,31.835842530288943,19.69956888273788,13.454212742776528,21.366097713347678,22.927149993722836,25.744260390288453,28.3689973478384,10.331449178422586,6.217544603894426,21.693307437343446,14.953395935205227,38.643216981879455,31.229857466935673,1.6669737568981713,9.113886116288427,0.4887214960171582,40.46209989562851,28.785602137140447,46.328328357871115,5.122270160232201,48.97249671936311,38.64739766989328,14.298118635633578,4.20903994435124,0.20166825120519483,14.821626214763416,26.71739296006838,46.153410381859864,35.362595005091016,22.479386374002143,33.63935883861394,11.722362957702664,14.168445271830088,7.426641174332343,28.890463716943792,32.19837496058781,26.670296451286234,3.0093156843288336,36.516376481826825,27.282574428434586,39.54123734488332,36.62780387071366,6.3394100837192155,25.017746549562013,25.27030267261908,40.928355712672456,23.365265825983332,40.112123613985176,29.419108502829083,2.131347685496859,36.99762201792115,40.21868179342115,39.34606218147433,19.41153638099443,43.80236364452964,21.961052461515074,27.61742198586751,4.762992177188363,11.908885010956993,49.79592781135347,4.7014835063534655,22.361436723338706,16.04415548944066,31.16320731167759,28.481574238134723,0.07936051852472925,9.66590197408766,10.798940329441658],\"y\":[32.625526093290226,43.51429191087151,44.69449285687106,15.57246044144726,1.913746820670048,44.65823637413612,9.938785087142755,18.757913741673516,40.25493831474673,3.166347138700459,46.46943290574217,19.261749210813633,46.3079855193562,18.075463000790943,11.913822278137504,47.00152536962217,32.38049852345733,11.778260132249196,5.930019274130255,10.367740764411499,44.58890940678045,16.076300204704236,35.96283808937637,45.49922692444417,16.142031083390773,32.21536762827344,45.793293667322125,9.963943091410455,11.04937515497102,22.949054231598854,49.36345546084777,35.360880598321884,42.55754325701396,4.881626901520169,8.891885447138753,14.34507076726414,29.18240569095016,33.60879063606643,19.390574088675454,47.62655379001799,31.331770899776146,12.505051044877197,11.352461818341247,15.605473887183912,43.20268800296149,8.398938872923733,9.59937598725028,17.479291125823256,47.88946505742283,23.832443486079434,39.063366097681445,37.89445378862762,28.45296818829363,6.11860722527906,47.62017652051114,7.513668467339663,14.078707789587158,17.991244860883548,22.001753110972434,19.231264759442464,28.390635512041683,3.283422399939745,5.28542072765697,46.19295241025724,46.4896045889583,3.7763107642934557,33.49053467510912,31.26262495642357,8.349824685315516,20.12769415095298,44.40915326704239,30.127662887515395,28.833630171074766,10.619424186522576,23.955443837885237,41.84554206392079,38.774347876275215,36.355730810310874,44.03926143100976,1.3083649887101534,37.32895898529379,40.49936450803654,11.252538655646433,37.83826983920376,33.11675474259304,42.150112419605534,37.50281322241689,22.92549468718966,0.5370933573006109,32.55033723289136,12.13644933874843,37.98220740721132,28.098850997702808,32.444731322916844,0.06479106320008143,39.90903378335753,37.59609639932193,4.62658298194934,11.9396876822148,38.25755260851775]}];\n",
       " var layout_iFqXh4MjTm = {\"height\":350,\"width\":350,\"hovermode\":\"closest\",\"showlegend\":false,\"margin\":{\"l\":50,\"r\":50,\"t\":50,\"b\":50},\"xaxis\":{\"title\":{\"text\":\"x axis 2\"},\"showgrid\":true,\"zeroline\":false,\"showline\":false},\"yaxis\":{\"title\":{\"text\":\"y axis 2\"},\"showgrid\":true,\"zeroline\":false,\"showline\":false}};\n",
       " var config_iFqXh4MjTm = {\"responsive\":true,\"scrollZoom\":true,\"displaylogo\":false};\n",
       " Plotly.newPlot(\"graph_iFqXh4MjTm\", traces_iFqXh4MjTm, layout_iFqXh4MjTm, config_iFqXh4MjTm);\n",
       "\n",
       " var traces_siodsJrItl = [{\"name\":\"c\",\"type\":\"scatter\",\"x\":[37.12417568665562,13.9049742342563,44.38225803525492,30.53523662443381,5.497359014447156,36.91853164057296,34.48342911938213,10.841427750636406,0.7955430562707755,38.071404114177916,40.980687333134,37.79819138779703,47.65284202710664,49.46324256855906,37.505417513524044,21.38108533424775,49.38010110501104,41.822005816997255,31.484698962538072,19.412243387845233,14.445909041416755,5.770663641003409,24.279027621026263,13.976137514708991,38.8700541236953,39.7650888441981,0.042098302768750484,32.092747465824594,34.5944280835475,17.93464692405416,5.267033227843326,45.81811541886866,31.835842530288943,19.69956888273788,13.454212742776528,21.366097713347678,22.927149993722836,25.744260390288453,28.3689973478384,10.331449178422586,6.217544603894426,21.693307437343446,14.953395935205227,38.643216981879455,31.229857466935673,1.6669737568981713,9.113886116288427,0.4887214960171582,40.46209989562851,28.785602137140447,46.328328357871115,5.122270160232201,48.97249671936311,38.64739766989328,14.298118635633578,4.20903994435124,0.20166825120519483,14.821626214763416,26.71739296006838,46.153410381859864,35.362595005091016,22.479386374002143,33.63935883861394,11.722362957702664,14.168445271830088,7.426641174332343,28.890463716943792,32.19837496058781,26.670296451286234,3.0093156843288336,36.516376481826825,27.282574428434586,39.54123734488332,36.62780387071366,6.3394100837192155,25.017746549562013,25.27030267261908,40.928355712672456,23.365265825983332,40.112123613985176,29.419108502829083,2.131347685496859,36.99762201792115,40.21868179342115,39.34606218147433,19.41153638099443,43.80236364452964,21.961052461515074,27.61742198586751,4.762992177188363,11.908885010956993,49.79592781135347,4.7014835063534655,22.361436723338706,16.04415548944066,31.16320731167759,28.481574238134723,0.07936051852472925,9.66590197408766,10.798940329441658],\"y\":[32.625526093290226,43.51429191087151,44.69449285687106,15.57246044144726,1.913746820670048,44.65823637413612,9.938785087142755,18.757913741673516,40.25493831474673,3.166347138700459,46.46943290574217,19.261749210813633,46.3079855193562,18.075463000790943,11.913822278137504,47.00152536962217,32.38049852345733,11.778260132249196,5.930019274130255,10.367740764411499,44.58890940678045,16.076300204704236,35.96283808937637,45.49922692444417,16.142031083390773,32.21536762827344,45.793293667322125,9.963943091410455,11.04937515497102,22.949054231598854,49.36345546084777,35.360880598321884,42.55754325701396,4.881626901520169,8.891885447138753,14.34507076726414,29.18240569095016,33.60879063606643,19.390574088675454,47.62655379001799,31.331770899776146,12.505051044877197,11.352461818341247,15.605473887183912,43.20268800296149,8.398938872923733,9.59937598725028,17.479291125823256,47.88946505742283,23.832443486079434,39.063366097681445,37.89445378862762,28.45296818829363,6.11860722527906,47.62017652051114,7.513668467339663,14.078707789587158,17.991244860883548,22.001753110972434,19.231264759442464,28.390635512041683,3.283422399939745,5.28542072765697,46.19295241025724,46.4896045889583,3.7763107642934557,33.49053467510912,31.26262495642357,8.349824685315516,20.12769415095298,44.40915326704239,30.127662887515395,28.833630171074766,10.619424186522576,23.955443837885237,41.84554206392079,38.774347876275215,36.355730810310874,44.03926143100976,1.3083649887101534,37.32895898529379,40.49936450803654,11.252538655646433,37.83826983920376,33.11675474259304,42.150112419605534,37.50281322241689,22.92549468718966,0.5370933573006109,32.55033723289136,12.13644933874843,37.98220740721132,28.098850997702808,32.444731322916844,0.06479106320008143,39.90903378335753,37.59609639932193,4.62658298194934,11.9396876822148,38.25755260851775]}];\n",
       " var layout_siodsJrItl = {\"height\":350,\"width\":350,\"hovermode\":\"closest\",\"showlegend\":false,\"margin\":{\"l\":50,\"r\":30,\"t\":50,\"b\":50},\"xaxis\":{\"title\":{\"text\":\"x axis 3\"},\"showgrid\":true,\"zeroline\":false,\"showline\":false},\"yaxis\":{\"title\":{\"text\":\"y axis 3\"},\"showgrid\":true,\"zeroline\":false,\"showline\":false}};\n",
       " var config_siodsJrItl = {\"responsive\":true,\"scrollZoom\":true,\"displaylogo\":false};\n",
       " Plotly.newPlot(\"graph_siodsJrItl\", traces_siodsJrItl, layout_siodsJrItl, config_siodsJrItl);\n",
       "\n",
       " var traces_xRz1BGwc5V = [{\"name\":\"jtdpGkiAs1\",\"type\":\"scatter\",\"mode\":\"markers\",\"x\":[1,2,3],\"y\":[2,4,5]},{\"name\":\"Nbn1jSuqDB\",\"type\":\"scatter\",\"mode\":\"markers\",\"xaxis\":\"x2\",\"yaxis\":\"y2\",\"x\":[37.12417568665562,13.9049742342563,44.38225803525492,30.53523662443381,5.497359014447156,36.91853164057296,34.48342911938213,10.841427750636406,0.7955430562707755,38.071404114177916,40.980687333134,37.79819138779703,47.65284202710664,49.46324256855906,37.505417513524044,21.38108533424775,49.38010110501104,41.822005816997255,31.484698962538072,19.412243387845233,14.445909041416755,5.770663641003409,24.279027621026263,13.976137514708991,38.8700541236953,39.7650888441981,0.042098302768750484,32.092747465824594,34.5944280835475,17.93464692405416,5.267033227843326,45.81811541886866,31.835842530288943,19.69956888273788,13.454212742776528,21.366097713347678,22.927149993722836,25.744260390288453,28.3689973478384,10.331449178422586,6.217544603894426,21.693307437343446,14.953395935205227,38.643216981879455,31.229857466935673,1.6669737568981713,9.113886116288427,0.4887214960171582,40.46209989562851,28.785602137140447,46.328328357871115,5.122270160232201,48.97249671936311,38.64739766989328,14.298118635633578,4.20903994435124,0.20166825120519483,14.821626214763416,26.71739296006838,46.153410381859864,35.362595005091016,22.479386374002143,33.63935883861394,11.722362957702664,14.168445271830088,7.426641174332343,28.890463716943792,32.19837496058781,26.670296451286234,3.0093156843288336,36.516376481826825,27.282574428434586,39.54123734488332,36.62780387071366,6.3394100837192155,25.017746549562013,25.27030267261908,40.928355712672456,23.365265825983332,40.112123613985176,29.419108502829083,2.131347685496859,36.99762201792115,40.21868179342115,39.34606218147433,19.41153638099443,43.80236364452964,21.961052461515074,27.61742198586751,4.762992177188363,11.908885010956993,49.79592781135347,4.7014835063534655,22.361436723338706,16.04415548944066,31.16320731167759,28.481574238134723,0.07936051852472925,9.66590197408766,10.798940329441658],\"y\":[32.625526093290226,43.51429191087151,44.69449285687106,15.57246044144726,1.913746820670048,44.65823637413612,9.938785087142755,18.757913741673516,40.25493831474673,3.166347138700459,46.46943290574217,19.261749210813633,46.3079855193562,18.075463000790943,11.913822278137504,47.00152536962217,32.38049852345733,11.778260132249196,5.930019274130255,10.367740764411499,44.58890940678045,16.076300204704236,35.96283808937637,45.49922692444417,16.142031083390773,32.21536762827344,45.793293667322125,9.963943091410455,11.04937515497102,22.949054231598854,49.36345546084777,35.360880598321884,42.55754325701396,4.881626901520169,8.891885447138753,14.34507076726414,29.18240569095016,33.60879063606643,19.390574088675454,47.62655379001799,31.331770899776146,12.505051044877197,11.352461818341247,15.605473887183912,43.20268800296149,8.398938872923733,9.59937598725028,17.479291125823256,47.88946505742283,23.832443486079434,39.063366097681445,37.89445378862762,28.45296818829363,6.11860722527906,47.62017652051114,7.513668467339663,14.078707789587158,17.991244860883548,22.001753110972434,19.231264759442464,28.390635512041683,3.283422399939745,5.28542072765697,46.19295241025724,46.4896045889583,3.7763107642934557,33.49053467510912,31.26262495642357,8.349824685315516,20.12769415095298,44.40915326704239,30.127662887515395,28.833630171074766,10.619424186522576,23.955443837885237,41.84554206392079,38.774347876275215,36.355730810310874,44.03926143100976,1.3083649887101534,37.32895898529379,40.49936450803654,11.252538655646433,37.83826983920376,33.11675474259304,42.150112419605534,37.50281322241689,22.92549468718966,0.5370933573006109,32.55033723289136,12.13644933874843,37.98220740721132,28.098850997702808,32.444731322916844,0.06479106320008143,39.90903378335753,37.59609639932193,4.62658298194934,11.9396876822148,38.25755260851775]}];\n",
       " var layout_xRz1BGwc5V = {\"height\":350,\"width\":350,\"hovermode\":\"closest\",\"title\":{\"text\":\"The MultiChart from Above\"},\"showlegend\":false,\"grid\":{\"rows\":1,\"columns\":2,\"pattern\":\"independent\"},\"xaxis\":{\"title\":{\"text\":\"x1\"},\"showgrid\":true,\"zeroline\":false,\"showline\":false},\"yaxis\":{\"showgrid\":true,\"zeroline\":false,\"showline\":false},\"xaxis2\":{\"title\":{\"text\":\"x2\"},\"showgrid\":true,\"zeroline\":false,\"showline\":false},\"yaxis2\":{\"showgrid\":true,\"zeroline\":false,\"showline\":false}};\n",
       " var config_xRz1BGwc5V = {\"responsive\":true,\"scrollZoom\":true,\"displaylogo\":false};\n",
       " Plotly.newPlot(\"graph_xRz1BGwc5V\", traces_xRz1BGwc5V, layout_xRz1BGwc5V, config_xRz1BGwc5V);\n",
       "</script> \n"
      ]
     },
     "metadata": {},
     "output_type": "display_data"
    }
   ],
   "source": [
    "// first define the x-axes we will use in the plot\n",
    "val ax1 = XAxis(title = \"x axis 1\")\n",
    "val ax2 = XAxis(title = \"x axis 2\")\n",
    "val ax3 = XAxis(title = \"x axis 3\")\n",
    "val ax4 = XAxis(title = \"x axis 4\")\n",
    "\n",
    "// first define the y-axes we will use in the plot\n",
    "val ax6 = YAxis(title = \"y axis 1\")\n",
    "val ax7 = YAxis(title = \"y axis 2\")\n",
    "val ax8 = YAxis(title = \"y axis 3\")\n",
    "val ax9 = YAxis(title = \"y axis 4\")\n",
    "\n",
    "// it may be necessary to play around with the chart dimensions and margin  in order to ensure a good fit on screen.\n",
    "val dim = 350\n",
    "\n",
    "val chart1 = (\n",
    "    Chart()\n",
    "    setDimensions(width = dim, height = dim)\n",
    "    addSeries XY(x, y).setName(\"a\") \n",
    "    addAxes(ax1, ax6)\n",
    "    setMargin(l=50, r=30, t=50, b=50)\n",
    ")\n",
    "\n",
    "val chart2 = (\n",
    "    Chart() \n",
    "    setDimensions(width = dim, height = dim)\n",
    "    addSeries XY(x, y).setName(\"b\") \n",
    "    addAxes(ax2, ax7)\n",
    "    setMargin(l=50, r=50, t=50, b=50)\n",
    ")\n",
    "\n",
    "val chart3 = (\n",
    "    Chart()\n",
    "    setDimensions(width = dim, height = dim)\n",
    "    addSeries XY(x, y).setName(\"c\") \n",
    "    addAxes(ax3, ax8)\n",
    "    setMargin(l=50, r=30, t=50, b=50)\n",
    ")\n",
    "\n",
    "val chart4 = (\n",
    "    Chart()\n",
    "    setDimensions(width = dim, height = dim)\n",
    "    addSeries(series1, series2)\n",
    "    setTitle \"The MultiChart from Above\"\n",
    "    addAxes(xaxis1, yaxis1, xaxis2, yaxis2) // these axes come from above\n",
    "    setConfig(config)\n",
    "    asMultiChart(1, 2)\n",
    ")\n",
    "\n",
    "// The canvas has an underlying grid. By default the underlying grid is 1x1, but we can pass in the dimensions we \n",
    "// require by passing in parameters in the constructor.\n",
    "Canvas(2, 2)\n",
    ".setChart(0, 0, chart1)\n",
    ".setChart(0, 1, chart2)\n",
    ".setChart(1, 0, chart3)\n",
    ".setChart(1, 1, chart4)\n",
    ".plotInline"
   ]
  },
  {
   "cell_type": "markdown",
   "metadata": {},
   "source": [
    "### Other Types of Charts\n",
    "\n",
    "The next examples will demonstrate how to create a variety of `Chart`s. All of the examples below are composable with the `Canvas` subplot system.\n",
    "\n",
    "#### Pie Chart"
   ]
  },
  {
   "cell_type": "code",
   "execution_count": 16,
   "metadata": {},
   "outputs": [
    {
     "data": {
      "text/html": [
       "<div id=\"grid_waBIKmsAnf\" align=\"center\"> \n",
       "<div id='graph_K4YvJMXBqg' class='graph'></div> \n",
       "</div> \n",
       "<script>\n",
       "var masonry = new Macy({\n",
       "    container: '#grid_waBIKmsAnf',\n",
       "    debug: true,\n",
       "    mobileFirst: true,\n",
       "    columns: 1,\n",
       "  });\n",
       "\n",
       " var traces_K4YvJMXBqg = [{\"name\":\"5BNl0tGGdB\",\"type\":\"pie\",\"values\":[19,26,55],\"labels\":[\"Residential\",\"Non-Residential\",\"Utility\"]}];\n",
       " var layout_K4YvJMXBqg = {\"height\":550,\"width\":600,\"hovermode\":\"closest\",\"title\":{\"text\":\"Pie Chart\"},\"showlegend\":false};\n",
       " var config_K4YvJMXBqg = {\"responsive\":true,\"scrollZoom\":true,\"displaylogo\":false};\n",
       " Plotly.newPlot(\"graph_K4YvJMXBqg\", traces_K4YvJMXBqg, layout_K4YvJMXBqg, config_K4YvJMXBqg);\n",
       "</script> \n"
      ]
     },
     "metadata": {},
     "output_type": "display_data"
    }
   ],
   "source": [
    "// pie charts can be composed in a similar way to what we have seen. \n",
    "// A pie chart is an XY chart as it takes in two data series.\n",
    "val series = XY(x=List(19, 26, 55), y=List(\"Residential\", \"Non-Residential\", \"Utility\")) asType PIE\n",
    "\n",
    "// We can directly operate on the Layout object too for finer grain control. Let's set the title by composing the \n",
    "// Layout object\n",
    "val layout = Layout(\"Pie Chart\")\n",
    "\n",
    "val chart = Chart() addSeries series setLayout layout setConfig config\n",
    "\n",
    "Canvas()\n",
    ".addCharts(chart)\n",
    ".plotInline"
   ]
  },
  {
   "cell_type": "markdown",
   "metadata": {},
   "source": [
    "#### Histogram"
   ]
  },
  {
   "cell_type": "code",
   "execution_count": 17,
   "metadata": {},
   "outputs": [
    {
     "data": {
      "text/html": [
       "<div id=\"grid_bZcqhF1p0M\" align=\"center\"> \n",
       "<div id='graph_tkPPRWgpC8' class='graph'></div> \n",
       "</div> \n",
       "<script>\n",
       "var masonry = new Macy({\n",
       "    container: '#grid_bZcqhF1p0M',\n",
       "    debug: true,\n",
       "    mobileFirst: true,\n",
       "    columns: 1,\n",
       "  });\n",
       "\n",
       " var traces_tkPPRWgpC8 = [{\"name\":\"pdsI6QEmLD\",\"type\":\"histogram\",\"x\":[37.12417568665562,13.9049742342563,44.38225803525492,30.53523662443381,5.497359014447156,36.91853164057296,34.48342911938213,10.841427750636406,0.7955430562707755,38.071404114177916,40.980687333134,37.79819138779703,47.65284202710664,49.46324256855906,37.505417513524044,21.38108533424775,49.38010110501104,41.822005816997255,31.484698962538072,19.412243387845233,14.445909041416755,5.770663641003409,24.279027621026263,13.976137514708991,38.8700541236953,39.7650888441981,0.042098302768750484,32.092747465824594,34.5944280835475,17.93464692405416,5.267033227843326,45.81811541886866,31.835842530288943,19.69956888273788,13.454212742776528,21.366097713347678,22.927149993722836,25.744260390288453,28.3689973478384,10.331449178422586,6.217544603894426,21.693307437343446,14.953395935205227,38.643216981879455,31.229857466935673,1.6669737568981713,9.113886116288427,0.4887214960171582,40.46209989562851,28.785602137140447,46.328328357871115,5.122270160232201,48.97249671936311,38.64739766989328,14.298118635633578,4.20903994435124,0.20166825120519483,14.821626214763416,26.71739296006838,46.153410381859864,35.362595005091016,22.479386374002143,33.63935883861394,11.722362957702664,14.168445271830088,7.426641174332343,28.890463716943792,32.19837496058781,26.670296451286234,3.0093156843288336,36.516376481826825,27.282574428434586,39.54123734488332,36.62780387071366,6.3394100837192155,25.017746549562013,25.27030267261908,40.928355712672456,23.365265825983332,40.112123613985176,29.419108502829083,2.131347685496859,36.99762201792115,40.21868179342115,39.34606218147433,19.41153638099443,43.80236364452964,21.961052461515074,27.61742198586751,4.762992177188363,11.908885010956993,49.79592781135347,4.7014835063534655,22.361436723338706,16.04415548944066,31.16320731167759,28.481574238134723,0.07936051852472925,9.66590197408766,10.798940329441658]}];\n",
       " var layout_tkPPRWgpC8 = {\"height\":550,\"width\":600,\"hovermode\":\"closest\",\"title\":{\"text\":\"Histogram with axes\"},\"showlegend\":false,\"xaxis\":{\"title\":{\"text\":\"my x data\"},\"showgrid\":true,\"zeroline\":false,\"showline\":false},\"yaxis\":{\"title\":{\"text\":\"my y data\"},\"showgrid\":true,\"zeroline\":false,\"showline\":false}};\n",
       " var config_tkPPRWgpC8 = {\"responsive\":true,\"scrollZoom\":true,\"displaylogo\":false};\n",
       " Plotly.newPlot(\"graph_tkPPRWgpC8\", traces_tkPPRWgpC8, layout_tkPPRWgpC8, config_tkPPRWgpC8);\n",
       "</script> \n"
      ]
     },
     "metadata": {},
     "output_type": "display_data"
    }
   ],
   "source": [
    "val series = XY(x=x) asType HISTOGRAM\n",
    "\n",
    "val xaxis = XAxis(title = \"my x data\")\n",
    "val yaxis = YAxis(title = \"my y data\")\n",
    "\n",
    "val chart = (\n",
    "    Chart() \n",
    "    addSeries series\n",
    "    setTitle \"Histogram with axes\"\n",
    "    addAxes(xaxis, yaxis)\n",
    ")\n",
    "\n",
    "Canvas()\n",
    ".addCharts(chart)\n",
    ".plotInline"
   ]
  },
  {
   "cell_type": "markdown",
   "metadata": {},
   "source": [
    "#### Customizing colors for a Histogram\n",
    "\n",
    "We can use the `HistOptions` class to further specify options for a histogram. For example, if we wanted to create a horizontally positioned histogram, we can do the following:"
   ]
  },
  {
   "cell_type": "code",
   "execution_count": 18,
   "metadata": {},
   "outputs": [],
   "source": [
    "import org.carbonateresearch.picta.options.histogram.HistOptions\n",
    "import org.carbonateresearch.picta.options.Line\n",
    "import org.carbonateresearch.picta.options.HORIZONTAL"
   ]
  },
  {
   "cell_type": "code",
   "execution_count": 19,
   "metadata": {},
   "outputs": [
    {
     "data": {
      "text/html": [
       "<div id=\"grid_8aA7k1AVdV\" align=\"center\"> \n",
       "<div id='graph_dz7k9kTXz7' class='graph'></div> \n",
       "</div> \n",
       "<script>\n",
       "var masonry = new Macy({\n",
       "    container: '#grid_8aA7k1AVdV',\n",
       "    debug: true,\n",
       "    mobileFirst: true,\n",
       "    columns: 1,\n",
       "  });\n",
       "\n",
       " var traces_dz7k9kTXz7 = [{\"name\":\"wjzDkI0xFD\",\"type\":\"histogram\",\"marker\":{\"color\":\"rgba(255, 100, 102, 0.5)\",\"line\":{\"width\":0.5}},\"y\":[37.12417568665562,13.9049742342563,44.38225803525492,30.53523662443381,5.497359014447156,36.91853164057296,34.48342911938213,10.841427750636406,0.7955430562707755,38.071404114177916,40.980687333134,37.79819138779703,47.65284202710664,49.46324256855906,37.505417513524044,21.38108533424775,49.38010110501104,41.822005816997255,31.484698962538072,19.412243387845233,14.445909041416755,5.770663641003409,24.279027621026263,13.976137514708991,38.8700541236953,39.7650888441981,0.042098302768750484,32.092747465824594,34.5944280835475,17.93464692405416,5.267033227843326,45.81811541886866,31.835842530288943,19.69956888273788,13.454212742776528,21.366097713347678,22.927149993722836,25.744260390288453,28.3689973478384,10.331449178422586,6.217544603894426,21.693307437343446,14.953395935205227,38.643216981879455,31.229857466935673,1.6669737568981713,9.113886116288427,0.4887214960171582,40.46209989562851,28.785602137140447,46.328328357871115,5.122270160232201,48.97249671936311,38.64739766989328,14.298118635633578,4.20903994435124,0.20166825120519483,14.821626214763416,26.71739296006838,46.153410381859864,35.362595005091016,22.479386374002143,33.63935883861394,11.722362957702664,14.168445271830088,7.426641174332343,28.890463716943792,32.19837496058781,26.670296451286234,3.0093156843288336,36.516376481826825,27.282574428434586,39.54123734488332,36.62780387071366,6.3394100837192155,25.017746549562013,25.27030267261908,40.928355712672456,23.365265825983332,40.112123613985176,29.419108502829083,2.131347685496859,36.99762201792115,40.21868179342115,39.34606218147433,19.41153638099443,43.80236364452964,21.961052461515074,27.61742198586751,4.762992177188363,11.908885010956993,49.79592781135347,4.7014835063534655,22.361436723338706,16.04415548944066,31.16320731167759,28.481574238134723,0.07936051852472925,9.66590197408766,10.798940329441658]}];\n",
       " var layout_dz7k9kTXz7 = {\"height\":550,\"width\":600,\"hovermode\":\"closest\",\"title\":{\"text\":\"XY.Histogram.Color\"},\"showlegend\":false};\n",
       " var config_dz7k9kTXz7 = {\"responsive\":true,\"scrollZoom\":true,\"displaylogo\":false};\n",
       " Plotly.newPlot(\"graph_dz7k9kTXz7\", traces_dz7k9kTXz7, layout_dz7k9kTXz7, config_dz7k9kTXz7);\n",
       "</script> \n"
      ]
     },
     "metadata": {},
     "output_type": "display_data"
    }
   ],
   "source": [
    "// we can also compose customizations in much the same way:\n",
    "val marker = Marker() setColor \"rgba(255, 100, 102, 0.5)\" setLine Line()\n",
    "\n",
    "// change xkey to y to get a horizontal histogram\n",
    "val series = (\n",
    "    XY(x) \n",
    "    asType HISTOGRAM\n",
    "    setMarker marker\n",
    "    setHistOptions HistOptions(orientation = HORIZONTAL)\n",
    ")\n",
    "\n",
    "val chart = (\n",
    "    Chart() \n",
    "    addSeries series \n",
    "    setTitle \"XY.Histogram.Color\"\n",
    ")\n",
    "\n",
    "Canvas()\n",
    ".addCharts(chart)\n",
    ".plotInline"
   ]
  },
  {
   "cell_type": "markdown",
   "metadata": {},
   "source": [
    "#### 2D Histogram Contour"
   ]
  },
  {
   "cell_type": "code",
   "execution_count": 20,
   "metadata": {},
   "outputs": [
    {
     "data": {
      "text/html": [
       "<div id=\"grid_whgMe6oZy2\" align=\"center\"> \n",
       "<div id='graph_ACKLecpVXT' class='graph'></div> \n",
       "</div> \n",
       "<script>\n",
       "var masonry = new Macy({\n",
       "    container: '#grid_whgMe6oZy2',\n",
       "    debug: true,\n",
       "    mobileFirst: true,\n",
       "    columns: 1,\n",
       "  });\n",
       "\n",
       " var traces_ACKLecpVXT = [{\"name\":\"l2YhtrI5i0\",\"type\":\"histogram2dcontour\",\"mode\":\"markers\",\"x\":[1,2,3,4,5,6,7,8,9,10,11,12,13,14,15,16,17,18,19,20,21,22,23,24,25,26,27,28,29,30,31,32,33,34,35,36,37,38,39,40,41,42,43,44,45,46,47,48,49],\"y\":[78.99530636617868,61.27299251857923,82.06182162006303,86.63667826779611,92.31810701346859,86.7135857543352,55.409024247383606,101.56774257697047,27.733524598273775,75.95713099398009,49.714222189339054,109.29483683872718,77.23443196824775,56.23185672020563,29.158354120812845,73.23245821039086,64.35283288666567,21.210593084327428,70.85861147148118,30.93330251716469,88.38170447519211,100.94663536487438,112.72039110664498,38.276891591220576,55.801659591865295,32.702360379305816,80.42674641561337,115.13837751252184,56.43504492943532,30.354273890441437,120.66803756081471,121.12949945084279,81.79143880850731,93.905910163937,121.71831094755895,110.41369057110431,76.13496797791609,122.61253509411144,59.59390795739813,63.13265024767968,56.99520766444357,95.31944177315567,68.28365585724185,67.64169074943415,141.15992440570355,59.83807316876917,95.91896200989385,132.53646941518136,64.62923008752038]}];\n",
       " var layout_ACKLecpVXT = {\"height\":550,\"width\":600,\"hovermode\":\"closest\",\"title\":{\"text\":\"2D Histogram Contour\"},\"showlegend\":false};\n",
       " var config_ACKLecpVXT = {\"responsive\":true,\"scrollZoom\":true,\"displaylogo\":false};\n",
       " Plotly.newPlot(\"graph_ACKLecpVXT\", traces_ACKLecpVXT, layout_ACKLecpVXT, config_ACKLecpVXT);\n",
       "</script> \n"
      ]
     },
     "metadata": {},
     "output_type": "display_data"
    }
   ],
   "source": [
    "val x = List.range(1, 50)\n",
    "val y = x.map(x => x + scala.util.Random.nextDouble()*100)\n",
    "\n",
    "val series = XY(x, y).asType(HISTOGRAM2DCONTOUR).drawMarkers\n",
    "\n",
    "val chart = (\n",
    "    Chart() addSeries series\n",
    "    setTitle \"2D Histogram Contour\"\n",
    ")\n",
    "\n",
    "Canvas().addCharts(chart).plotInline"
   ]
  },
  {
   "cell_type": "markdown",
   "metadata": {},
   "source": [
    "#### Adding additional axes\n",
    "\n",
    "As the above is a density plot, adding histograms can be useful too.\n",
    "\n",
    "We can add histograms as follows:"
   ]
  },
  {
   "cell_type": "code",
   "execution_count": 21,
   "metadata": {},
   "outputs": [],
   "source": [
    "import org.carbonateresearch.picta.options.histogram2d.Hist2dOptions"
   ]
  },
  {
   "cell_type": "code",
   "execution_count": 22,
   "metadata": {},
   "outputs": [
    {
     "data": {
      "text/html": [
       "<div id=\"grid_SI9ljdcFQi\" align=\"center\"> \n",
       "<div id='graph_eNK2Breu45' class='graph'></div> \n",
       "</div> \n",
       "<script>\n",
       "var masonry = new Macy({\n",
       "    container: '#grid_SI9ljdcFQi',\n",
       "    debug: true,\n",
       "    mobileFirst: true,\n",
       "    columns: 1,\n",
       "  });\n",
       "\n",
       " var traces_eNK2Breu45 = [{\"name\":\"points\",\"type\":\"scatter\",\"mode\":\"markers\",\"marker\":{\"color\":\"rgb(102,0,0)\"},\"x\":[1,2,3,4,5,6,7,8,9,10,11,12,13,14,15,16,17,18,19,20,21,22,23,24,25,26,27,28,29,30,31,32,33,34,35,36,37,38,39,40,41,42,43,44,45,46,47,48,49],\"y\":[78.99530636617868,61.27299251857923,82.06182162006303,86.63667826779611,92.31810701346859,86.7135857543352,55.409024247383606,101.56774257697047,27.733524598273775,75.95713099398009,49.714222189339054,109.29483683872718,77.23443196824775,56.23185672020563,29.158354120812845,73.23245821039086,64.35283288666567,21.210593084327428,70.85861147148118,30.93330251716469,88.38170447519211,100.94663536487438,112.72039110664498,38.276891591220576,55.801659591865295,32.702360379305816,80.42674641561337,115.13837751252184,56.43504492943532,30.354273890441437,120.66803756081471,121.12949945084279,81.79143880850731,93.905910163937,121.71831094755895,110.41369057110431,76.13496797791609,122.61253509411144,59.59390795739813,63.13265024767968,56.99520766444357,95.31944177315567,68.28365585724185,67.64169074943415,141.15992440570355,59.83807316876917,95.91896200989385,132.53646941518136,64.62923008752038]},{\"name\":\"density\",\"type\":\"histogram2dcontour\",\"ncontours\":20,\"reversescale\":false,\"showscale\":true,\"x\":[1,2,3,4,5,6,7,8,9,10,11,12,13,14,15,16,17,18,19,20,21,22,23,24,25,26,27,28,29,30,31,32,33,34,35,36,37,38,39,40,41,42,43,44,45,46,47,48,49],\"y\":[78.99530636617868,61.27299251857923,82.06182162006303,86.63667826779611,92.31810701346859,86.7135857543352,55.409024247383606,101.56774257697047,27.733524598273775,75.95713099398009,49.714222189339054,109.29483683872718,77.23443196824775,56.23185672020563,29.158354120812845,73.23245821039086,64.35283288666567,21.210593084327428,70.85861147148118,30.93330251716469,88.38170447519211,100.94663536487438,112.72039110664498,38.276891591220576,55.801659591865295,32.702360379305816,80.42674641561337,115.13837751252184,56.43504492943532,30.354273890441437,120.66803756081471,121.12949945084279,81.79143880850731,93.905910163937,121.71831094755895,110.41369057110431,76.13496797791609,122.61253509411144,59.59390795739813,63.13265024767968,56.99520766444357,95.31944177315567,68.28365585724185,67.64169074943415,141.15992440570355,59.83807316876917,95.91896200989385,132.53646941518136,64.62923008752038]},{\"name\":\"histogram\",\"type\":\"histogram\",\"yaxis\":\"y2\",\"x\":[1,2,3,4,5,6,7,8,9,10,11,12,13,14,15,16,17,18,19,20,21,22,23,24,25,26,27,28,29,30,31,32,33,34,35,36,37,38,39,40,41,42,43,44,45,46,47,48,49]},{\"name\":\"y density\",\"type\":\"histogram\",\"xaxis\":\"x2\",\"marker\":{\"color\":\"rgb(102,0,0)\"},\"y\":[78.99530636617868,61.27299251857923,82.06182162006303,86.63667826779611,92.31810701346859,86.7135857543352,55.409024247383606,101.56774257697047,27.733524598273775,75.95713099398009,49.714222189339054,109.29483683872718,77.23443196824775,56.23185672020563,29.158354120812845,73.23245821039086,64.35283288666567,21.210593084327428,70.85861147148118,30.93330251716469,88.38170447519211,100.94663536487438,112.72039110664498,38.276891591220576,55.801659591865295,32.702360379305816,80.42674641561337,115.13837751252184,56.43504492943532,30.354273890441437,120.66803756081471,121.12949945084279,81.79143880850731,93.905910163937,121.71831094755895,110.41369057110431,76.13496797791609,122.61253509411144,59.59390795739813,63.13265024767968,56.99520766444357,95.31944177315567,68.28365585724185,67.64169074943415,141.15992440570355,59.83807316876917,95.91896200989385,132.53646941518136,64.62923008752038]}];\n",
       " var layout_eNK2Breu45 = {\"height\":550,\"width\":600,\"hovermode\":\"closest\",\"title\":{\"text\":\"XY.Histogram2dContour.WithDensity\"},\"showlegend\":false,\"autosize\":false,\"xaxis\":{\"showgrid\":false,\"zeroline\":false,\"showline\":false,\"domain\":[0,0.85]},\"yaxis\":{\"showgrid\":false,\"zeroline\":false,\"showline\":false,\"domain\":[0,0.85]},\"xaxis2\":{\"showgrid\":false,\"zeroline\":false,\"showline\":false,\"domain\":[0.85,1]},\"yaxis2\":{\"showgrid\":false,\"zeroline\":false,\"showline\":false,\"domain\":[0.85,1]}};\n",
       " var config_eNK2Breu45 = {\"responsive\":true,\"scrollZoom\":true,\"displaylogo\":false};\n",
       " Plotly.newPlot(\"graph_eNK2Breu45\", traces_eNK2Breu45, layout_eNK2Breu45, config_eNK2Breu45);\n",
       "</script> \n"
      ]
     },
     "metadata": {},
     "output_type": "display_data"
    }
   ],
   "source": [
    "val marker = Marker() setColor \"rgb(102,0,0)\"\n",
    "\n",
    "val series1 = XY(x, y) \n",
    "            .asType(SCATTER)\n",
    "            .drawMarkers\n",
    "            .setName(\"points\")\n",
    "            .setMarker(marker)\n",
    "\n",
    "\n",
    "val hist2d_options = Hist2dOptions(ncontours = 20, reversescale = false, showscale = true)\n",
    "\n",
    "val series2 = XY(x, y) \n",
    "            .setName(\"density\")\n",
    "            .asType(HISTOGRAM2DCONTOUR)\n",
    "            .setHist2dOptions(hist2d_options)\n",
    "\n",
    "val series3 = XY(x = x)\n",
    "            .asType(HISTOGRAM)\n",
    "            .setName(\"histogram\")\n",
    "            .setAxes(XAxis(), YAxis(2))\n",
    "\n",
    "val series4 = (XY(y)\n",
    "            .setName(\"y density\")\n",
    "            .asType(HISTOGRAM)\n",
    "            .setAxis(XAxis(2))\n",
    "            .setMarker(marker)\n",
    "            .setHistOptions(HistOptions(orientation = HORIZONTAL)))\n",
    "\n",
    "val ax1 = XAxis(showgrid = false) setDomain(0.0, 0.85)\n",
    "val ax2 = YAxis(showgrid = false) setDomain(0.0, 0.85)\n",
    "val ax3 = XAxis(position = 2, showgrid = false) setDomain(0.85, 1.0)\n",
    "val ax4 = YAxis(position = 2, showgrid = false) setDomain(0.85, 1.0)\n",
    "\n",
    "val layout = (\n",
    "    Layout(\"XY.Histogram2dContour.WithDensity\", autosize = false) \n",
    "    setAxes(ax1, ax2, ax3, ax4)\n",
    ")\n",
    "\n",
    "val chart = Chart() addSeries(series1, series2, series3, series4) setLayout layout\n",
    "\n",
    "val canvas = Canvas() addCharts chart\n",
    "\n",
    "canvas.plotInline"
   ]
  },
  {
   "cell_type": "markdown",
   "metadata": {},
   "source": [
    "### 3D Charts\n",
    "\n",
    "3D charts are constructed using a `XYZ` series as they take in 3 `Series`' to create a single point.\n",
    "\n",
    "The Picta API does not accept nested lists, however the underlying Plotlyjs render does. In order to render any series that will make use of a nested list, we must flatten and provide the length of an element (before the list was flattened).\n",
    "\n",
    "The following examples will make it clearer.\n",
    "\n",
    "#### Contour"
   ]
  },
  {
   "cell_type": "code",
   "execution_count": 23,
   "metadata": {},
   "outputs": [],
   "source": [
    "// lets create some dummy adata for the third dimension\n",
    "val x = List(-9, -6, -5 , -3, -1)\n",
    "val y = List(0, 1, 4, 5, 7)\n",
    "val z = List(\n",
    "    List(10, 10.625, 12.5, 15.625, 20),\n",
    "    List(5.625, 6.25, 8.125, 11.25, 15.625),\n",
    "    List(2.5, 3.125, 5.0, 8.125, 12.5),\n",
    "    List(0.625, 1.25, 3.125, 6.25, 10.625),\n",
    "    List(0, 0.625, 2.5, 5.625, 10)\n",
    ")"
   ]
  },
  {
   "cell_type": "code",
   "execution_count": 24,
   "metadata": {},
   "outputs": [
    {
     "data": {
      "text/html": [
       "<div id=\"grid_LeNotfWPqA\" align=\"center\"> \n",
       "<div id='graph_3GG4T2heLW' class='graph'></div> \n",
       "</div> \n",
       "<script>\n",
       "var masonry = new Macy({\n",
       "    container: '#grid_LeNotfWPqA',\n",
       "    debug: true,\n",
       "    mobileFirst: true,\n",
       "    columns: 1,\n",
       "  });\n",
       "\n",
       " var traces_3GG4T2heLW = [{\"name\":\"WypHSeoqIw\",\"type\":\"contour\",\"x\":[-9,-6,-5,-3,-1],\"y\":[0,1,4,5,7],\"z\":[[10,10.625,12.5,15.625,20],[5.625,6.25,8.125,11.25,15.625],[2.5,3.125,5,8.125,12.5],[0.625,1.25,3.125,6.25,10.625],[0,0.625,2.5,5.625,10]]}];\n",
       " var layout_3GG4T2heLW = {\"height\":550,\"width\":600,\"hovermode\":\"closest\",\"title\":{\"text\":\"Contour\"},\"showlegend\":false};\n",
       " var config_3GG4T2heLW = {\"responsive\":true,\"scrollZoom\":true,\"displaylogo\":false};\n",
       " Plotly.newPlot(\"graph_3GG4T2heLW\", traces_3GG4T2heLW, layout_3GG4T2heLW, config_3GG4T2heLW);\n",
       "</script> \n"
      ]
     },
     "metadata": {},
     "output_type": "display_data"
    }
   ],
   "source": [
    "// we flatten the nested list as we pass it into the Series constructor\n",
    "val series = XYZ(x=x, y=y, z=z.flatten, n=z(0).length).asType(CONTOUR)\n",
    "\n",
    "// set up the chart\n",
    "val chart = Chart()\n",
    "            .addSeries(series)\n",
    "            .setTitle(\"Contour\")\n",
    "\n",
    "// plot the chart\n",
    "Canvas()\n",
    ".addCharts(chart)\n",
    ".plotInline"
   ]
  },
  {
   "cell_type": "markdown",
   "metadata": {},
   "source": [
    "#### Heatmap"
   ]
  },
  {
   "cell_type": "code",
   "execution_count": 25,
   "metadata": {
    "scrolled": false
   },
   "outputs": [],
   "source": [
    "// create a new nested list for the heatmap\n",
    "val z = List.range(1, 101).map(e => e + scala.util.Random.nextDouble()*100).grouped(10).toList"
   ]
  },
  {
   "cell_type": "code",
   "execution_count": 26,
   "metadata": {},
   "outputs": [
    {
     "data": {
      "text/html": [
       "<div id=\"grid_bbBVQPHc3h\" align=\"center\"> \n",
       "<div id='graph_RgVoFRBdJ7' class='graph'></div> \n",
       "</div> \n",
       "<script>\n",
       "var masonry = new Macy({\n",
       "    container: '#grid_bbBVQPHc3h',\n",
       "    debug: true,\n",
       "    mobileFirst: true,\n",
       "    columns: 1,\n",
       "  });\n",
       "\n",
       " var traces_RgVoFRBdJ7 = [{\"name\":\"CkUtNXDB5S\",\"type\":\"heatmap\",\"z\":[[72.6964444746486,81.03245699400773,54.78347932442316,26.574889736289627,53.4560346953556,41.58634790558817,25.600798540057895,27.532315734586604,18.783459594244103,76.11111130121431],[68.36677142664368,20.74058531690932,52.38349975829474,64.1636411577524,37.36662471246305,16.530958187256513,30.3525156696793,43.81965063863272,110.46407865330673,106.2594963765442],[115.13532219802121,75.50564690753323,120.00400012790938,86.62183398929866,73.18517326697601,74.5878212643214,121.01830909834315,97.14785478804075,116.98906227755249,77.5647420127759],[113.46183180326938,47.49060244814273,48.780747893078214,106.02700477355731,113.42742461636273,74.50273739107374,88.04903932481349,44.988454345126456,124.6373948250418,135.5977275553892],[97.85904994303922,57.76003954390942,95.98083538157962,114.52187177452014,86.03925005797461,118.22868298404232,63.46422177935463,88.41715591466547,146.4473770204261,53.22001864809111],[65.66519854867519,80.93385742674408,122.81331473192041,152.5652403852352,90.62720847249403,105.1557151712134,123.0673330892291,122.55870057926425,59.10521829128868,82.22938914523678],[85.59709802103309,129.6843090960594,74.17050732688315,106.84383715725257,100.53715210610588,105.80518738739076,70.40507168844671,119.08414745562368,118.97961914344981,163.45246556753045],[77.26390985006529,133.68826398387284,140.905101336306,100.4154521820661,170.65610914362833,172.3639645381665,158.66787653529417,156.52688822240333,124.39326199446722,142.5773256472814],[147.0296338064669,122.35336091467619,88.8764396506729,107.10287453241773,133.02121424602785,89.44235539033704,118.24060859009082,92.62943620428655,149.32187627349782,174.84383670547862],[139.14800265257057,92.84471557774184,173.380857598597,148.81569571811644,104.51963674494066,131.67543359268882,181.16610949675587,143.93872743688968,103.71680907797368,165.7388559525162]]}];\n",
       " var layout_RgVoFRBdJ7 = {\"height\":550,\"width\":600,\"hovermode\":\"closest\",\"title\":{\"text\":\"XYZ.Heatmap\"},\"showlegend\":false};\n",
       " var config_RgVoFRBdJ7 = {\"responsive\":true,\"scrollZoom\":true,\"displaylogo\":false};\n",
       " Plotly.newPlot(\"graph_RgVoFRBdJ7\", traces_RgVoFRBdJ7, layout_RgVoFRBdJ7, config_RgVoFRBdJ7);\n",
       "</script> \n"
      ]
     },
     "metadata": {},
     "output_type": "display_data"
    }
   ],
   "source": [
    "// we get the length of an element of the nested list\n",
    "val n = z(0).length\n",
    "\n",
    "// we now flatten the list and pass it into Series constructor, as well as 'n', the length of an element so that the \n",
    "// heatmap dimensions are correctly constructed\n",
    "val series = XYZ(z=z.flatten, n=n) asType HEATMAP\n",
    "\n",
    "val chart = Chart() addSeries series setTitle \"XYZ.Heatmap\"\n",
    "\n",
    "Canvas()\n",
    ".addCharts(chart)\n",
    ".plotInline"
   ]
  },
  {
   "cell_type": "markdown",
   "metadata": {},
   "source": [
    "#### Scatter3D"
   ]
  },
  {
   "cell_type": "code",
   "execution_count": 27,
   "metadata": {},
   "outputs": [
    {
     "data": {
      "text/html": [
       "<div id=\"grid_5TFUJVEaWH\" align=\"center\"> \n",
       "<div id='graph_iy4zAlNmh9' class='graph'></div> \n",
       "</div> \n",
       "<script>\n",
       "var masonry = new Macy({\n",
       "    container: '#grid_5TFUJVEaWH',\n",
       "    debug: true,\n",
       "    mobileFirst: true,\n",
       "    columns: 1,\n",
       "  });\n",
       "\n",
       " var traces_iy4zAlNmh9 = [{\"name\":\"mB1H0mqaDk\",\"type\":\"scatter3d\",\"mode\":\"markers\",\"x\":[1,2,3,4,5,6,7,8,9,10,11,12,13,14,15,16,17,18,19,20,21,22,23,24,25,26,27,28,29,30,31,32,33,34,35,36,37,38,39,40,41,42,43,44,45,46,47,48,49,50,51,52,53,54,55,56,57,58,59,60,61,62,63,64,65,66,67,68,69,70,71,72,73,74,75,76,77,78,79,80,81,82,83,84,85,86,87,88,89,90,91,92,93,94,95,96,97,98,99],\"y\":[1,2,3,4,5,6,7,8,9,10,11,12,13,14,15,16,17,18,19,20,21,22,23,24,25,26,27,28,29,30,31,32,33,34,35,36,37,38,39,40,41,42,43,44,45,46,47,48,49,50,51,52,53,54,55,56,57,58,59,60,61,62,63,64,65,66,67,68,69,70,71,72,73,74,75,76,77,78,79,80,81,82,83,84,85,86,87,88,89,90,91,92,93,94,95,96,97,98,99],\"z\":[58.28398849286431,25.241421104894734,7.677751516968664,70.1807035360025,7.177820645525608,62.01771072745003,14.604383616603904,104.61021351406747,9.709301683976737,22.125387162026936,42.54859720075976,95.7492398934354,86.56485025495888,86.65697531892023,86.4500454239313,33.28029134999546,66.69904548987333,23.481218060112205,75.47093513627263,46.52105347701459,41.76629387007228,66.41987483804974,47.88216791957103,94.72220053197918,78.56423994319135,95.66513377727719,32.24152530314637,125.69723574550912,36.269282554082324,89.19169711531113,129.3493912177029,106.5715410481508,81.43601643241527,115.01522131002964,49.7213874166935,107.09806579682169,93.04880549225624,112.3714296457281,124.69619577280788,120.77218179468989,102.35507908234902,66.23792345327642,75.80079080455774,141.88840062362874,117.7764210468705,114.09332822826286,96.62412918078073,77.71682497209682,143.88482410406775,136.40608391716736,74.20435917407494,64.13732416836379,115.24796933252537,73.06786037047931,152.81341826623446,70.35462261011583,130.88878680037004,76.83419429896523,122.02685685894973,123.72762516548296,93.17089434428212,161.8076564969604,93.09560848173726,159.28144445277647,126.11301624982322,130.09646197858132,112.8903307947494,100.13077545937833,72.45181086570922,163.00411280329905,153.06786109632299,104.82843853080227,146.21398700572058,144.4533392405707,103.61321877025314,175.56298847163282,148.12495473668463,143.82022887525125,94.53951965163532,107.16453506186126,134.87272755425522,122.95209916361357,167.2820348742233,171.03802876092402,170.06211371007896,147.86534850178623,118.20157839822096,170.4284374033013,174.63572345922287,179.46712912765773,140.61626727155243,173.83235756467718,137.60467226176104,189.61740542807425,98.90966493539001,131.90583935975417,144.1232697221528,98.94554163585133,178.51712679550124]}];\n",
       " var layout_iy4zAlNmh9 = {\"height\":550,\"width\":600,\"hovermode\":\"closest\",\"title\":{\"text\":\"XYZ.Scatter3D\"},\"showlegend\":false};\n",
       " var config_iy4zAlNmh9 = {\"responsive\":true,\"scrollZoom\":true,\"displaylogo\":false};\n",
       " Plotly.newPlot(\"graph_iy4zAlNmh9\", traces_iy4zAlNmh9, layout_iy4zAlNmh9, config_iy4zAlNmh9);\n",
       "</script> \n"
      ]
     },
     "metadata": {},
     "output_type": "display_data"
    }
   ],
   "source": [
    "val x = List.range(1, 100)\n",
    "val y = List.range(1, 100)\n",
    "val z = List.range(1, 100).map(e => e + scala.util.Random.nextDouble()*100)\n",
    "\n",
    "val series = XYZ(x, y, z) asType SCATTER3D drawSymbol MARKERS\n",
    "val chart1 = Chart() addSeries series setLayout Layout(\"XYZ.Scatter3D\") setConfig config\n",
    "val canvas = Canvas() addCharts chart1\n",
    "canvas.plotInline"
   ]
  },
  {
   "cell_type": "markdown",
   "metadata": {},
   "source": [
    "#### Surface Plot"
   ]
  },
  {
   "cell_type": "code",
   "execution_count": 28,
   "metadata": {
    "scrolled": false
   },
   "outputs": [
    {
     "data": {
      "text/html": [
       "<div id=\"grid_UnSJRFcfce\" align=\"center\"> \n",
       "<div id='graph_arST0JpdTM' class='graph'></div> \n",
       "</div> \n",
       "<script>\n",
       "var masonry = new Macy({\n",
       "    container: '#grid_UnSJRFcfce',\n",
       "    debug: true,\n",
       "    mobileFirst: true,\n",
       "    columns: 1,\n",
       "  });\n",
       "\n",
       " var traces_arST0JpdTM = [{\"name\":\"7fzLm9zVSm\",\"type\":\"surface\",\"z\":[[8.83,8.89,8.81,8.87,8.9,8.87],[8.89,8.94,8.85,8.94,8.96,8.92],[8.84,8.9,8.82,8.92,8.93,8.91],[8.79,8.85,8.79,8.9,8.94,8.92],[8.79,8.88,8.81,8.9,8.95,8.92],[8.8,8.82,8.78,8.91,8.94,8.92],[8.75,8.78,8.77,8.91,8.95,8.92],[8.8,8.8,8.77,8.91,8.95,8.94],[8.74,8.81,8.76,8.93,8.98,8.99],[8.89,8.99,8.92,9.1,9.13,9.11],[8.97,8.97,8.91,9.09,9.11,9.11],[9.04,9.08,9.05,9.25,9.28,9.27],[9,9.01,9,9.2,9.23,9.2],[8.99,8.99,8.98,9.18,9.2,9.19],[8.93,8.97,8.97,9.18,9.2,9.18]]}];\n",
       " var layout_arST0JpdTM = {\"height\":550,\"width\":600,\"hovermode\":\"closest\",\"title\":{\"text\":\"XYZ.Surface\"},\"showlegend\":false};\n",
       " var config_arST0JpdTM = {\"responsive\":true,\"scrollZoom\":true,\"displaylogo\":false};\n",
       " Plotly.newPlot(\"graph_arST0JpdTM\", traces_arST0JpdTM, layout_arST0JpdTM, config_arST0JpdTM);\n",
       "</script> \n"
      ]
     },
     "metadata": {},
     "output_type": "display_data"
    }
   ],
   "source": [
    "// 3d surface plot\n",
    "val k = List(\n",
    "    List(8.83,8.89,8.81,8.87,8.9,8.87),\n",
    "    List(8.89,8.94,8.85,8.94,8.96,8.92),\n",
    "    List(8.84,8.9,8.82,8.92,8.93,8.91),\n",
    "    List(8.79,8.85,8.79,8.9,8.94,8.92),\n",
    "    List(8.79,8.88,8.81,8.9,8.95,8.92),\n",
    "    List(8.8,8.82,8.78,8.91,8.94,8.92),\n",
    "    List(8.75,8.78,8.77,8.91,8.95,8.92),\n",
    "    List(8.8,8.8,8.77,8.91,8.95,8.94),\n",
    "    List(8.74,8.81,8.76,8.93,8.98,8.99),\n",
    "    List(8.89,8.99,8.92,9.1,9.13,9.11),\n",
    "    List(8.97,8.97,8.91,9.09,9.11,9.11),\n",
    "    List(9.04,9.08,9.05,9.25,9.28,9.27),\n",
    "    List(9,9.01,9,9.2,9.23,9.2),\n",
    "    List(8.99,8.99,8.98,9.18,9.2,9.19),\n",
    "    List(8.93,8.97,8.97,9.18,9.2,9.18)\n",
    "  )\n",
    "\n",
    "val series = XYZ(z=k.flatten, n = k(0).length) asType SURFACE\n",
    "val chart2 = Chart() addSeries series setLayout Layout(\"XYZ.Surface\") setConfig config\n",
    "val canvas = Canvas() addCharts chart2\n",
    "\n",
    "canvas.plotInline"
   ]
  },
  {
   "cell_type": "markdown",
   "metadata": {
    "scrolled": false
   },
   "source": [
    "#### Third Dimension as Color"
   ]
  },
  {
   "cell_type": "code",
   "execution_count": 29,
   "metadata": {},
   "outputs": [
    {
     "data": {
      "text/html": [
       "<div id=\"grid_nU1hNw9l3y\" align=\"center\"> \n",
       "<div id='graph_kD5yGHcpYG' class='graph'></div> \n",
       "</div> \n",
       "<script>\n",
       "var masonry = new Macy({\n",
       "    container: '#grid_nU1hNw9l3y',\n",
       "    debug: true,\n",
       "    mobileFirst: true,\n",
       "    columns: 1,\n",
       "  });\n",
       "\n",
       " var traces_kD5yGHcpYG = [{\"name\":\"FCgHBVOe0X\",\"type\":\"scatter\",\"mode\":\"markers\",\"marker\":{\"color\":[58.28398849286431,25.241421104894734,7.677751516968664,70.1807035360025,7.177820645525608,62.01771072745003,14.604383616603904,104.61021351406747,9.709301683976737,22.125387162026936,42.54859720075976,95.7492398934354,86.56485025495888,86.65697531892023,86.4500454239313,33.28029134999546,66.69904548987333,23.481218060112205,75.47093513627263,46.52105347701459,41.76629387007228,66.41987483804974,47.88216791957103,94.72220053197918,78.56423994319135,95.66513377727719,32.24152530314637,125.69723574550912,36.269282554082324,89.19169711531113,129.3493912177029,106.5715410481508,81.43601643241527,115.01522131002964,49.7213874166935,107.09806579682169,93.04880549225624,112.3714296457281,124.69619577280788,120.77218179468989,102.35507908234902,66.23792345327642,75.80079080455774,141.88840062362874,117.7764210468705,114.09332822826286,96.62412918078073,77.71682497209682,143.88482410406775,136.40608391716736,74.20435917407494,64.13732416836379,115.24796933252537,73.06786037047931,152.81341826623446,70.35462261011583,130.88878680037004,76.83419429896523,122.02685685894973,123.72762516548296,93.17089434428212,161.8076564969604,93.09560848173726,159.28144445277647,126.11301624982322,130.09646197858132,112.8903307947494,100.13077545937833,72.45181086570922,163.00411280329905,153.06786109632299,104.82843853080227,146.21398700572058,144.4533392405707,103.61321877025314,175.56298847163282,148.12495473668463,143.82022887525125,94.53951965163532,107.16453506186126,134.87272755425522,122.95209916361357,167.2820348742233,171.03802876092402,170.06211371007896,147.86534850178623,118.20157839822096,170.4284374033013,174.63572345922287,179.46712912765773,140.61626727155243,173.83235756467718,137.60467226176104,189.61740542807425,98.90966493539001,131.90583935975417,144.1232697221528,98.94554163585133,178.51712679550124]},\"x\":[1,2,3,4,5,6,7,8,9,10,11,12,13,14,15,16,17,18,19,20,21,22,23,24,25,26,27,28,29,30,31,32,33,34,35,36,37,38,39,40,41,42,43,44,45,46,47,48,49,50,51,52,53,54,55,56,57,58,59,60,61,62,63,64,65,66,67,68,69,70,71,72,73,74,75,76,77,78,79,80,81,82,83,84,85,86,87,88,89,90,91,92,93,94,95,96,97,98,99],\"y\":[1,2,3,4,5,6,7,8,9,10,11,12,13,14,15,16,17,18,19,20,21,22,23,24,25,26,27,28,29,30,31,32,33,34,35,36,37,38,39,40,41,42,43,44,45,46,47,48,49,50,51,52,53,54,55,56,57,58,59,60,61,62,63,64,65,66,67,68,69,70,71,72,73,74,75,76,77,78,79,80,81,82,83,84,85,86,87,88,89,90,91,92,93,94,95,96,97,98,99]}];\n",
       " var layout_kD5yGHcpYG = {\"height\":550,\"width\":600,\"hovermode\":\"closest\",\"title\":{\"text\":\"ScatterWithColor.Basic\"},\"showlegend\":false};\n",
       " var config_kD5yGHcpYG = {\"responsive\":true,\"scrollZoom\":true,\"displaylogo\":false};\n",
       " Plotly.newPlot(\"graph_kD5yGHcpYG\", traces_kD5yGHcpYG, layout_kD5yGHcpYG, config_kD5yGHcpYG);\n",
       "</script> \n"
      ]
     },
     "metadata": {},
     "output_type": "display_data"
    }
   ],
   "source": [
    "// multiple compositions can be used to create scatter charts with a color representing some third dimension\n",
    "val marker = Marker() setColor z\n",
    "val series = XY(x, y) asType SCATTER drawSymbol MARKERS setMarker marker\n",
    "val chart3 = Chart() addSeries series setLayout Layout(\"ScatterWithColor.Basic\")\n",
    "val canvas = Canvas() addCharts chart3\n",
    "canvas.plotInline"
   ]
  },
  {
   "cell_type": "markdown",
   "metadata": {},
   "source": [
    "#### Subplot\n",
    "\n",
    "The Subplot class can be used to generate subplots for an XYZ plots just as we did previously."
   ]
  },
  {
   "cell_type": "code",
   "execution_count": 30,
   "metadata": {},
   "outputs": [
    {
     "data": {
      "text/html": [
       "<div id=\"grid_lTWXueIKPa\" align=\"center\"> \n",
       "<div id='graph_EDkgghsvph' class='graph'></div> \n",
       "<div id='graph_EhUQj1EXpa' class='graph'></div> \n",
       "<div id='graph_iUYxRFu4Uo' class='graph'></div> \n",
       "<div id='graph_CJ40ONcVqy' class='graph'></div> \n",
       "</div> \n",
       "<script>\n",
       "var masonry = new Macy({\n",
       "    container: '#grid_lTWXueIKPa',\n",
       "    debug: true,\n",
       "    mobileFirst: true,\n",
       "    columns: 2,\n",
       "  });\n",
       "\n",
       " var traces_EDkgghsvph = [{\"name\":\"mB1H0mqaDk\",\"type\":\"scatter3d\",\"mode\":\"markers\",\"x\":[1,2,3,4,5,6,7,8,9,10,11,12,13,14,15,16,17,18,19,20,21,22,23,24,25,26,27,28,29,30,31,32,33,34,35,36,37,38,39,40,41,42,43,44,45,46,47,48,49,50,51,52,53,54,55,56,57,58,59,60,61,62,63,64,65,66,67,68,69,70,71,72,73,74,75,76,77,78,79,80,81,82,83,84,85,86,87,88,89,90,91,92,93,94,95,96,97,98,99],\"y\":[1,2,3,4,5,6,7,8,9,10,11,12,13,14,15,16,17,18,19,20,21,22,23,24,25,26,27,28,29,30,31,32,33,34,35,36,37,38,39,40,41,42,43,44,45,46,47,48,49,50,51,52,53,54,55,56,57,58,59,60,61,62,63,64,65,66,67,68,69,70,71,72,73,74,75,76,77,78,79,80,81,82,83,84,85,86,87,88,89,90,91,92,93,94,95,96,97,98,99],\"z\":[58.28398849286431,25.241421104894734,7.677751516968664,70.1807035360025,7.177820645525608,62.01771072745003,14.604383616603904,104.61021351406747,9.709301683976737,22.125387162026936,42.54859720075976,95.7492398934354,86.56485025495888,86.65697531892023,86.4500454239313,33.28029134999546,66.69904548987333,23.481218060112205,75.47093513627263,46.52105347701459,41.76629387007228,66.41987483804974,47.88216791957103,94.72220053197918,78.56423994319135,95.66513377727719,32.24152530314637,125.69723574550912,36.269282554082324,89.19169711531113,129.3493912177029,106.5715410481508,81.43601643241527,115.01522131002964,49.7213874166935,107.09806579682169,93.04880549225624,112.3714296457281,124.69619577280788,120.77218179468989,102.35507908234902,66.23792345327642,75.80079080455774,141.88840062362874,117.7764210468705,114.09332822826286,96.62412918078073,77.71682497209682,143.88482410406775,136.40608391716736,74.20435917407494,64.13732416836379,115.24796933252537,73.06786037047931,152.81341826623446,70.35462261011583,130.88878680037004,76.83419429896523,122.02685685894973,123.72762516548296,93.17089434428212,161.8076564969604,93.09560848173726,159.28144445277647,126.11301624982322,130.09646197858132,112.8903307947494,100.13077545937833,72.45181086570922,163.00411280329905,153.06786109632299,104.82843853080227,146.21398700572058,144.4533392405707,103.61321877025314,175.56298847163282,148.12495473668463,143.82022887525125,94.53951965163532,107.16453506186126,134.87272755425522,122.95209916361357,167.2820348742233,171.03802876092402,170.06211371007896,147.86534850178623,118.20157839822096,170.4284374033013,174.63572345922287,179.46712912765773,140.61626727155243,173.83235756467718,137.60467226176104,189.61740542807425,98.90966493539001,131.90583935975417,144.1232697221528,98.94554163585133,178.51712679550124]}];\n",
       " var layout_EDkgghsvph = {\"height\":350,\"width\":350,\"hovermode\":\"closest\",\"title\":{\"text\":\"XYZ.Scatter3D\"},\"showlegend\":false,\"margin\":{\"l\":50,\"r\":50,\"t\":50,\"b\":50}};\n",
       " var config_EDkgghsvph = {\"responsive\":true,\"scrollZoom\":true,\"displaylogo\":false};\n",
       " Plotly.newPlot(\"graph_EDkgghsvph\", traces_EDkgghsvph, layout_EDkgghsvph, config_EDkgghsvph);\n",
       "\n",
       " var traces_EhUQj1EXpa = [{\"name\":\"7fzLm9zVSm\",\"type\":\"surface\",\"z\":[[8.83,8.89,8.81,8.87,8.9,8.87],[8.89,8.94,8.85,8.94,8.96,8.92],[8.84,8.9,8.82,8.92,8.93,8.91],[8.79,8.85,8.79,8.9,8.94,8.92],[8.79,8.88,8.81,8.9,8.95,8.92],[8.8,8.82,8.78,8.91,8.94,8.92],[8.75,8.78,8.77,8.91,8.95,8.92],[8.8,8.8,8.77,8.91,8.95,8.94],[8.74,8.81,8.76,8.93,8.98,8.99],[8.89,8.99,8.92,9.1,9.13,9.11],[8.97,8.97,8.91,9.09,9.11,9.11],[9.04,9.08,9.05,9.25,9.28,9.27],[9,9.01,9,9.2,9.23,9.2],[8.99,8.99,8.98,9.18,9.2,9.19],[8.93,8.97,8.97,9.18,9.2,9.18]]}];\n",
       " var layout_EhUQj1EXpa = {\"height\":350,\"width\":350,\"hovermode\":\"closest\",\"title\":{\"text\":\"XYZ.Surface\"},\"showlegend\":false,\"margin\":{\"l\":50,\"r\":50,\"t\":50,\"b\":50}};\n",
       " var config_EhUQj1EXpa = {\"responsive\":true,\"scrollZoom\":true,\"displaylogo\":false};\n",
       " Plotly.newPlot(\"graph_EhUQj1EXpa\", traces_EhUQj1EXpa, layout_EhUQj1EXpa, config_EhUQj1EXpa);\n",
       "\n",
       " var traces_iUYxRFu4Uo = [{\"name\":\"FCgHBVOe0X\",\"type\":\"scatter\",\"mode\":\"markers\",\"marker\":{\"color\":[58.28398849286431,25.241421104894734,7.677751516968664,70.1807035360025,7.177820645525608,62.01771072745003,14.604383616603904,104.61021351406747,9.709301683976737,22.125387162026936,42.54859720075976,95.7492398934354,86.56485025495888,86.65697531892023,86.4500454239313,33.28029134999546,66.69904548987333,23.481218060112205,75.47093513627263,46.52105347701459,41.76629387007228,66.41987483804974,47.88216791957103,94.72220053197918,78.56423994319135,95.66513377727719,32.24152530314637,125.69723574550912,36.269282554082324,89.19169711531113,129.3493912177029,106.5715410481508,81.43601643241527,115.01522131002964,49.7213874166935,107.09806579682169,93.04880549225624,112.3714296457281,124.69619577280788,120.77218179468989,102.35507908234902,66.23792345327642,75.80079080455774,141.88840062362874,117.7764210468705,114.09332822826286,96.62412918078073,77.71682497209682,143.88482410406775,136.40608391716736,74.20435917407494,64.13732416836379,115.24796933252537,73.06786037047931,152.81341826623446,70.35462261011583,130.88878680037004,76.83419429896523,122.02685685894973,123.72762516548296,93.17089434428212,161.8076564969604,93.09560848173726,159.28144445277647,126.11301624982322,130.09646197858132,112.8903307947494,100.13077545937833,72.45181086570922,163.00411280329905,153.06786109632299,104.82843853080227,146.21398700572058,144.4533392405707,103.61321877025314,175.56298847163282,148.12495473668463,143.82022887525125,94.53951965163532,107.16453506186126,134.87272755425522,122.95209916361357,167.2820348742233,171.03802876092402,170.06211371007896,147.86534850178623,118.20157839822096,170.4284374033013,174.63572345922287,179.46712912765773,140.61626727155243,173.83235756467718,137.60467226176104,189.61740542807425,98.90966493539001,131.90583935975417,144.1232697221528,98.94554163585133,178.51712679550124]},\"x\":[1,2,3,4,5,6,7,8,9,10,11,12,13,14,15,16,17,18,19,20,21,22,23,24,25,26,27,28,29,30,31,32,33,34,35,36,37,38,39,40,41,42,43,44,45,46,47,48,49,50,51,52,53,54,55,56,57,58,59,60,61,62,63,64,65,66,67,68,69,70,71,72,73,74,75,76,77,78,79,80,81,82,83,84,85,86,87,88,89,90,91,92,93,94,95,96,97,98,99],\"y\":[1,2,3,4,5,6,7,8,9,10,11,12,13,14,15,16,17,18,19,20,21,22,23,24,25,26,27,28,29,30,31,32,33,34,35,36,37,38,39,40,41,42,43,44,45,46,47,48,49,50,51,52,53,54,55,56,57,58,59,60,61,62,63,64,65,66,67,68,69,70,71,72,73,74,75,76,77,78,79,80,81,82,83,84,85,86,87,88,89,90,91,92,93,94,95,96,97,98,99]}];\n",
       " var layout_iUYxRFu4Uo = {\"height\":350,\"width\":350,\"hovermode\":\"closest\",\"title\":{\"text\":\"ScatterWithColor.Basic\"},\"showlegend\":false,\"margin\":{\"l\":50,\"r\":50,\"t\":50,\"b\":50}};\n",
       " var config_iUYxRFu4Uo = {\"responsive\":true,\"scrollZoom\":true,\"displaylogo\":false};\n",
       " Plotly.newPlot(\"graph_iUYxRFu4Uo\", traces_iUYxRFu4Uo, layout_iUYxRFu4Uo, config_iUYxRFu4Uo);\n",
       "\n",
       " var traces_CJ40ONcVqy = [{\"name\":\"jtdpGkiAs1\",\"type\":\"scatter\",\"mode\":\"markers\",\"x\":[1,2,3],\"y\":[2,4,5]},{\"name\":\"Nbn1jSuqDB\",\"type\":\"scatter\",\"mode\":\"markers\",\"xaxis\":\"x2\",\"yaxis\":\"y2\",\"x\":[37.12417568665562,13.9049742342563,44.38225803525492,30.53523662443381,5.497359014447156,36.91853164057296,34.48342911938213,10.841427750636406,0.7955430562707755,38.071404114177916,40.980687333134,37.79819138779703,47.65284202710664,49.46324256855906,37.505417513524044,21.38108533424775,49.38010110501104,41.822005816997255,31.484698962538072,19.412243387845233,14.445909041416755,5.770663641003409,24.279027621026263,13.976137514708991,38.8700541236953,39.7650888441981,0.042098302768750484,32.092747465824594,34.5944280835475,17.93464692405416,5.267033227843326,45.81811541886866,31.835842530288943,19.69956888273788,13.454212742776528,21.366097713347678,22.927149993722836,25.744260390288453,28.3689973478384,10.331449178422586,6.217544603894426,21.693307437343446,14.953395935205227,38.643216981879455,31.229857466935673,1.6669737568981713,9.113886116288427,0.4887214960171582,40.46209989562851,28.785602137140447,46.328328357871115,5.122270160232201,48.97249671936311,38.64739766989328,14.298118635633578,4.20903994435124,0.20166825120519483,14.821626214763416,26.71739296006838,46.153410381859864,35.362595005091016,22.479386374002143,33.63935883861394,11.722362957702664,14.168445271830088,7.426641174332343,28.890463716943792,32.19837496058781,26.670296451286234,3.0093156843288336,36.516376481826825,27.282574428434586,39.54123734488332,36.62780387071366,6.3394100837192155,25.017746549562013,25.27030267261908,40.928355712672456,23.365265825983332,40.112123613985176,29.419108502829083,2.131347685496859,36.99762201792115,40.21868179342115,39.34606218147433,19.41153638099443,43.80236364452964,21.961052461515074,27.61742198586751,4.762992177188363,11.908885010956993,49.79592781135347,4.7014835063534655,22.361436723338706,16.04415548944066,31.16320731167759,28.481574238134723,0.07936051852472925,9.66590197408766,10.798940329441658],\"y\":[32.625526093290226,43.51429191087151,44.69449285687106,15.57246044144726,1.913746820670048,44.65823637413612,9.938785087142755,18.757913741673516,40.25493831474673,3.166347138700459,46.46943290574217,19.261749210813633,46.3079855193562,18.075463000790943,11.913822278137504,47.00152536962217,32.38049852345733,11.778260132249196,5.930019274130255,10.367740764411499,44.58890940678045,16.076300204704236,35.96283808937637,45.49922692444417,16.142031083390773,32.21536762827344,45.793293667322125,9.963943091410455,11.04937515497102,22.949054231598854,49.36345546084777,35.360880598321884,42.55754325701396,4.881626901520169,8.891885447138753,14.34507076726414,29.18240569095016,33.60879063606643,19.390574088675454,47.62655379001799,31.331770899776146,12.505051044877197,11.352461818341247,15.605473887183912,43.20268800296149,8.398938872923733,9.59937598725028,17.479291125823256,47.88946505742283,23.832443486079434,39.063366097681445,37.89445378862762,28.45296818829363,6.11860722527906,47.62017652051114,7.513668467339663,14.078707789587158,17.991244860883548,22.001753110972434,19.231264759442464,28.390635512041683,3.283422399939745,5.28542072765697,46.19295241025724,46.4896045889583,3.7763107642934557,33.49053467510912,31.26262495642357,8.349824685315516,20.12769415095298,44.40915326704239,30.127662887515395,28.833630171074766,10.619424186522576,23.955443837885237,41.84554206392079,38.774347876275215,36.355730810310874,44.03926143100976,1.3083649887101534,37.32895898529379,40.49936450803654,11.252538655646433,37.83826983920376,33.11675474259304,42.150112419605534,37.50281322241689,22.92549468718966,0.5370933573006109,32.55033723289136,12.13644933874843,37.98220740721132,28.098850997702808,32.444731322916844,0.06479106320008143,39.90903378335753,37.59609639932193,4.62658298194934,11.9396876822148,38.25755260851775]}];\n",
       " var layout_CJ40ONcVqy = {\"height\":350,\"width\":350,\"hovermode\":\"closest\",\"title\":{\"text\":\"The MultiChart from Above\"},\"showlegend\":false,\"margin\":{\"l\":50,\"r\":50,\"t\":50,\"b\":50},\"grid\":{\"rows\":1,\"columns\":2,\"pattern\":\"independent\"},\"xaxis\":{\"title\":{\"text\":\"x1\"},\"showgrid\":true,\"zeroline\":false,\"showline\":false},\"yaxis\":{\"showgrid\":true,\"zeroline\":false,\"showline\":false},\"xaxis2\":{\"title\":{\"text\":\"x2\"},\"showgrid\":true,\"zeroline\":false,\"showline\":false},\"yaxis2\":{\"showgrid\":true,\"zeroline\":false,\"showline\":false}};\n",
       " var config_CJ40ONcVqy = {\"responsive\":true,\"scrollZoom\":true,\"displaylogo\":false};\n",
       " Plotly.newPlot(\"graph_CJ40ONcVqy\", traces_CJ40ONcVqy, layout_CJ40ONcVqy, config_CJ40ONcVqy);\n",
       "</script> \n"
      ]
     },
     "metadata": {},
     "output_type": "display_data"
    }
   ],
   "source": [
    "// first define the x-axes we will use in the plot\n",
    "val ax1 = XAxis(title = \"x axis 1\")\n",
    "val ax2 = XAxis(title = \"x axis 2\")\n",
    "val ax3 = XAxis(title = \"x axis 3\")\n",
    "val ax4 = XAxis(title = \"x axis 4\")\n",
    "\n",
    "// first define the y-axes we will use in the plot\n",
    "val ax6 = YAxis(title = \"y axis 1\")\n",
    "val ax7 = YAxis(title = \"y axis 2\")\n",
    "val ax8 = YAxis(title = \"y axis 3\")\n",
    "val ax9 = YAxis(title = \"y axis 4\")\n",
    "\n",
    "// it may be necessary to play around with the chart dimensions and margin  in order to ensure a good fit on screen.\n",
    "val dim = 350\n",
    "\n",
    "// The canvas has an underlying grid. By default the underlying grid is 1x1, but we can pass in the dimensions we \n",
    "// require by passing in parameters in the constructor.\n",
    "Canvas(2, 2)\n",
    ".setChart(0, 0, chart1.setDimensions(width = dim, height = dim).setMargin(l=50, r=50, t=50, b=50))\n",
    ".setChart(0, 1, chart2.setDimensions(width = dim, height = dim)setMargin(l=50, r=50, t=50, b=50))\n",
    ".setChart(1, 0, chart3.setDimensions(width = dim, height = dim)setMargin(l=50, r=50, t=50, b=50))\n",
    ".setChart(1, 1, chart4.setDimensions(width = dim, height = dim)setMargin(l=50, r=50, t=50, b=50))\n",
    ".plotInline"
   ]
  },
  {
   "cell_type": "markdown",
   "metadata": {},
   "source": [
    "#### Map\n",
    "\n",
    "We can also create maps using the composition technique below."
   ]
  },
  {
   "cell_type": "code",
   "execution_count": 31,
   "metadata": {},
   "outputs": [],
   "source": [
    "import org.carbonateresearch.picta.options.{MapOptions, MapAxis, LatAxis, LongAxis, Margin}\n",
    "import org.carbonateresearch.picta.Map"
   ]
  },
  {
   "cell_type": "code",
   "execution_count": 32,
   "metadata": {},
   "outputs": [
    {
     "data": {
      "text/html": [
       "<div id=\"grid_3RJcXUE27s\" align=\"center\"> \n",
       "<div id='graph_S9JOdZpCY0' class='graph'></div> \n",
       "</div> \n",
       "<script>\n",
       "var masonry = new Macy({\n",
       "    container: '#grid_3RJcXUE27s',\n",
       "    debug: true,\n",
       "    mobileFirst: true,\n",
       "    columns: 1,\n",
       "  });\n",
       "\n",
       " var traces_S9JOdZpCY0 = [{\"lat\":[40.7127,51.5072],\"lon\":[-74.0059,0.1275],\"type\":\"scattergeo\",\"mode\":\"lines\",\"line\":{\"width\":2,\"color\":\"red\"}}];\n",
       " var layout_S9JOdZpCY0 = {\"height\":550,\"width\":600,\"hovermode\":\"closest\",\"showlegend\":false,\"geo\":{\"resolution\":50,\"showland\":true,\"showlakes\":true,\"coastlinewidth\":2,\"landcolor\":\"rgb(204, 204, 204)\",\"lakecolor\":\"rgb(255, 255, 255)\",\"lataxis\":{\"range\":[20,60],\"showgrid\":true,\"dtick\":10},\"lonaxis\":{\"range\":[-100,20],\"showgrid\":true,\"dtick\":10}},\"margin\":{\"l\":0,\"r\":0,\"t\":0,\"b\":0}};\n",
       " var config_S9JOdZpCY0 = {\"responsive\":true,\"scrollZoom\":true,\"displaylogo\":false};\n",
       " Plotly.newPlot(\"graph_S9JOdZpCY0\", traces_S9JOdZpCY0, layout_S9JOdZpCY0, config_S9JOdZpCY0);\n",
       "</script> \n"
      ]
     },
     "metadata": {},
     "output_type": "display_data"
    }
   ],
   "source": [
    "// draw a line on the map that is red\n",
    "val line = Line(width = 2) setColor \"red\"\n",
    "\n",
    "// construct the map Series. It is an XY chart as it takes in a List of Longitude and Latitude\n",
    "val series = Map(List(40.7127, 51.5072), List(-74.0059, 0.1275)) drawSymbol LINES drawLine line\n",
    "\n",
    "// These are options that further specify the options for the map\n",
    "val geo = MapOptions(landcolor = \"rgb(204, 204, 204)\", lakecolor = \"rgb(255, 255, 255)\")\n",
    "              .setMapAxes(LatAxis(List(20, 60)), LongAxis(List(-100, 20)))\n",
    "\n",
    "val chart = (\n",
    "    Chart() \n",
    "    addSeries series \n",
    "    setConfig config\n",
    "    setMapOptions geo\n",
    "    setMargin(l=0, r=0, t=0, b=0)\n",
    ")\n",
    "\n",
    "val canvas = Canvas() addCharts chart\n",
    "\n",
    "canvas.plotInline"
   ]
  },
  {
   "cell_type": "markdown",
   "metadata": {},
   "source": [
    "### Animated Charts\n",
    "\n",
    "We can also create animated charts. This can be useful for tracking the evolution of a data over time.\n",
    "\n",
    "All `Series` types should be supported.\n",
    "\n",
    "#### 2D Animated Chart"
   ]
  },
  {
   "cell_type": "code",
   "execution_count": 33,
   "metadata": {},
   "outputs": [],
   "source": [
    "import org.carbonateresearch.picta.{XYSeries, XYZSeries}\n",
    "import org.carbonateresearch.picta.options.ColorOptions._\n",
    "\n",
    "// creates random XY for testing purposes\n",
    "def createXYSeries[T: Color]\n",
    "(numberToCreate: Int, count: Int = 0, length: Int = 10): List[XYSeries[Int, Double, T, T]] = {\n",
    "    if (count == numberToCreate) Nil\n",
    "    else {\n",
    "      val xs = List.range(0, length)\n",
    "      val ys = xs.map(x => scala.util.Random.nextDouble() * x)\n",
    "      val trace = XY(x = xs, y = ys, name = \"trace\" + count)\n",
    "      trace :: createXYSeries(numberToCreate, count + 1, length)\n",
    "    }\n",
    "}\n",
    "\n",
    "def createXYZSeries(numberToCreate: Int, count: Int = 0, length: Int = 10): List[XYZSeries] = {\n",
    "    if (count == numberToCreate) Nil\n",
    "    else {\n",
    "      val xs = List.range(0, length)\n",
    "      val ys = xs.map(x => scala.util.Random.nextDouble() * x)\n",
    "      val zs = xs.map(x => scala.util.Random.nextDouble() * x * scala.util.Random.nextInt())\n",
    "      val trace = XYZ(x = xs, y = ys, z = zs, name = \"trace\" + count, `type` = SCATTER3D)\n",
    "      trace :: createXYZSeries(numberToCreate, count + 1, length)\n",
    "    }\n",
    "}"
   ]
  },
  {
   "cell_type": "code",
   "execution_count": 34,
   "metadata": {
    "scrolled": false
   },
   "outputs": [
    {
     "data": {
      "text/html": [
       "<div id=\"grid_G8zr2e7FnG\" align=\"center\"> \n",
       "\n",
       "<div align=\"center\">\n",
       "  <div id='graph_p4vrE26mIh' class=\"graph\"></div>\n",
       "  <div class='animationInterface'>\n",
       "    <button id='play_p4vrE26mIh'>Play</button>\n",
       "    <button id='pause_p4vrE26mIh'>Pause</button>\n",
       "    <div id=\"sliderContainer_p4vrE26mIh\" class='progressBar'></div>\n",
       "    <div id='counterContainer_p4vrE26mIh' class='inline-div'>\n",
       "        <h3>Frame: </h3> <h3 id=\"value_p4vrE26mIh\">0</h3>\n",
       "    </div>\n",
       "   </div>\n",
       "</div> \n",
       "\n",
       "</div> \n",
       "<script>\n",
       "var masonry = new Macy({\n",
       "    container: '#grid_G8zr2e7FnG',\n",
       "    debug: true,\n",
       "    mobileFirst: true,\n",
       "    columns: 1,\n",
       "  });\n",
       "\n",
       "var graph_p4vrE26mIh = document.getElementById('graph_p4vrE26mIh')\n",
       "var traces_p4vrE26mIh = [{\"name\":\"trace0\",\"type\":\"scatter\",\"x\":[0,1,2,3,4,5,6,7,8,9,10,11,12,13,14,15,16,17,18,19,20,21,22,23,24,25,26,27,28,29],\"y\":[0,0.18285998650466673,0.07331589737962108,0.26639918372246707,0.4371526560187933,2.2042927754742854,0.6413896339688925,5.068311857328771,4.879280245817997,0.8901424870209983,4.370449045542849,6.3824496327683,4.381490298411232,10.125653750888992,0.937447381781312,14.271312299771003,10.561946377708662,10.491047679013429,11.77426423365807,1.7073525807495449,16.50297192121526,8.85300957326571,20.191784731934224,13.876971309221632,14.901665692261329,11.012973486604096,1.340839833078037,12.853580400220057,23.501912740945745,6.8863549137469215]}]\n",
       "var layout_p4vrE26mIh = {\"height\":550,\"width\":600,\"hovermode\":\"closest\",\"title\":{\"text\":\"Animation.XY\"},\"showlegend\":false,\"xaxis\":{\"title\":{\"text\":\"X Variable\"},\"showgrid\":true,\"zeroline\":false,\"showline\":false,\"range\":[0,10]},\"yaxis\":{\"title\":{\"text\":\"Y Variable\"},\"showgrid\":true,\"zeroline\":false,\"showline\":false,\"range\":[0,10]}}\n",
       "var frames_p4vrE26mIh = [{\"name\":\"trace0\",\"data\":[{\"name\":\"trace0\",\"type\":\"scatter\",\"x\":[0,1,2,3,4,5,6,7,8,9,10,11,12,13,14,15,16,17,18,19,20,21,22,23,24,25,26,27,28,29],\"y\":[0,0.18285998650466673,0.07331589737962108,0.26639918372246707,0.4371526560187933,2.2042927754742854,0.6413896339688925,5.068311857328771,4.879280245817997,0.8901424870209983,4.370449045542849,6.3824496327683,4.381490298411232,10.125653750888992,0.937447381781312,14.271312299771003,10.561946377708662,10.491047679013429,11.77426423365807,1.7073525807495449,16.50297192121526,8.85300957326571,20.191784731934224,13.876971309221632,14.901665692261329,11.012973486604096,1.340839833078037,12.853580400220057,23.501912740945745,6.8863549137469215]}]},{\"name\":\"trace1\",\"data\":[{\"name\":\"trace1\",\"type\":\"scatter\",\"x\":[0,1,2,3,4,5,6,7,8,9,10,11,12,13,14,15,16,17,18,19,20,21,22,23,24,25,26,27,28,29],\"y\":[0,0.12238898123647479,1.9329122247629118,1.513615282063149,3.014106655660027,1.805305691131525,2.368895718457475,3.602410469003348,5.083209198361958,6.349996570035845,5.97240954128997,3.4293762035058375,8.009065437528367,11.789808637740002,12.266576830899426,10.052169107005893,3.6508225642202046,4.356135855714258,14.210273313536893,5.967083274795916,17.85152014710099,15.895291530150361,2.622473746202494,20.330757083960403,6.880294741541612,22.749623009805703,7.771459602637542,17.780930251992864,20.64343042743213,15.128346340485328]}]},{\"name\":\"trace2\",\"data\":[{\"name\":\"trace2\",\"type\":\"scatter\",\"x\":[0,1,2,3,4,5,6,7,8,9,10,11,12,13,14,15,16,17,18,19,20,21,22,23,24,25,26,27,28,29],\"y\":[0,0.09851913692195124,0.3352299263230585,1.9136566589550674,2.117223086453911,4.319228176187156,4.901454414467893,3.068552239496346,3.137903235478653,0.6817262855584144,2.679070829749156,7.498356075474133,11.104592241531076,3.1570808852314767,13.38432631014665,1.2381558700694584,6.183238684433878,7.690181420801469,14.44782782658622,15.660382177305687,0.013545916414325898,2.9129782463582305,19.06532322395863,6.002044162568024,6.99521818635026,24.63510905383325,24.429990341721457,20.239499956573113,18.49132338172784,8.414307282972947]}]},{\"name\":\"trace3\",\"data\":[{\"name\":\"trace3\",\"type\":\"scatter\",\"x\":[0,1,2,3,4,5,6,7,8,9,10,11,12,13,14,15,16,17,18,19,20,21,22,23,24,25,26,27,28,29],\"y\":[0,0.46460319811288864,0.4366041658377371,1.287216398730144,2.5512423187176236,4.981437743926917,4.376563529960237,6.248745448094916,6.592966569539123,4.596821253227267,6.725733275729592,8.078543048087253,9.456046189153543,3.3500684111212506,11.837431209213744,2.581617007546204,14.576470511720938,4.300408287455329,11.584809093819578,9.751088680495124,10.05221526592081,0.7118408961086877,2.81923029566173,12.343933597223659,16.886939995493442,12.196144393443905,6.962536732114296,25.85345029683122,18.277281099727258,25.75954779477554]}]},{\"name\":\"trace4\",\"data\":[{\"name\":\"trace4\",\"type\":\"scatter\",\"x\":[0,1,2,3,4,5,6,7,8,9,10,11,12,13,14,15,16,17,18,19,20,21,22,23,24,25,26,27,28,29],\"y\":[0,0.6243779532898023,0.5759728761621654,1.312976239278266,3.4058200669191416,3.2812880916627556,8.258812564658768E-4,5.691881714834121,0.40511345518730035,7.303751019713964,9.817343879086215,4.812638409526828,3.458755059522819,0.0012329285127367084,7.2978543966193765,6.8744990177390335,2.649381599179364,16.992325627480596,12.271730073443639,13.416532158300042,3.1245743816788862,2.44509221130492,16.98265445046543,5.205267679317274,5.407186164160594,18.645220436419606,20.011833504835984,8.88558870133538,0.8432184831007823,15.23747586984799]}]},{\"name\":\"trace5\",\"data\":[{\"name\":\"trace5\",\"type\":\"scatter\",\"x\":[0,1,2,3,4,5,6,7,8,9,10,11,12,13,14,15,16,17,18,19,20,21,22,23,24,25,26,27,28,29],\"y\":[0,0.48836409900474786,0.2801299249346174,0.16580179259871952,3.1904198598635554,4.167128731918969,4.759352471377705,6.711417212294105,0.6348712545464421,3.8231215603891817,0.6740122060263976,4.3913214534750935,5.122415803914267,12.772181570991195,13.788827982138825,0.4875385242074537,11.00544551612792,4.149384349358671,17.879758137125826,14.7727393914198,6.849528803968767,14.069669339341651,10.302172763775422,16.45187834957768,4.830601559033995,19.6055098888439,9.62752110094125,24.051893192161376,3.24226900979041,1.224530343364922]}]},{\"name\":\"trace6\",\"data\":[{\"name\":\"trace6\",\"type\":\"scatter\",\"x\":[0,1,2,3,4,5,6,7,8,9,10,11,12,13,14,15,16,17,18,19,20,21,22,23,24,25,26,27,28,29],\"y\":[0,0.7836611834800471,1.553734877016156,2.251057567137784,1.8882222455338655,3.6951143972013596,1.4293361816555008,1.5900339730197257,1.2900696107711855,6.348204487540908,1.4823890624968494,1.0189863476851768,4.50573833546146,2.7637012231059677,11.178646054067288,4.491307344512683,10.616946037103242,10.923593467186747,0.08805588430864564,5.285737369436416,14.590712266755261,10.350509467550589,11.575145007135653,8.286480296692991,16.4029647494702,12.903016993505528,5.018639883618266,12.449852185701607,20.20641593020345,9.515220177096907]}]},{\"name\":\"trace7\",\"data\":[{\"name\":\"trace7\",\"type\":\"scatter\",\"x\":[0,1,2,3,4,5,6,7,8,9,10,11,12,13,14,15,16,17,18,19,20,21,22,23,24,25,26,27,28,29],\"y\":[0,0.8611027940278472,0.7850195321643649,0.9667701584100573,3.341402644564086,4.021276350916027,5.409247084121961,3.5088062083807916,3.703743414208714,4.946140532496729,4.889145307940334,1.5757776995917803,8.610998070623166,5.941932707660123,10.816455986957587,0.8446944121136629,0.9381058311591417,11.345796317015253,1.659856125649832,10.324660904540691,10.784728957402873,19.801968935462458,6.847177965838512,2.2840536259401913,7.397848865395415,6.961704443982844,6.230370510499476,7.876079034635046,24.539286740590097,27.849581669898527]}]},{\"name\":\"trace8\",\"data\":[{\"name\":\"trace8\",\"type\":\"scatter\",\"x\":[0,1,2,3,4,5,6,7,8,9,10,11,12,13,14,15,16,17,18,19,20,21,22,23,24,25,26,27,28,29],\"y\":[0,0.24051089872444298,1.4091730189761398,2.5689060623403197,2.0766806228117085,3.0133929427814015,5.724975282019132,5.9591232754376,6.4234720426674645,8.947975167894082,3.0312220997783124,5.6077707136488035,7.496170665991359,4.377121173129206,8.067880378796412,3.6251937401088314,11.026331907994289,11.942778122417819,10.1489175007522,9.045818853019874,17.359638949838484,17.87759042379972,17.81630822554025,13.947229743537036,16.914784435606396,19.985920526511922,8.8545003253865,20.506943661206048,26.131176982239715,12.900472498805685]}]},{\"name\":\"trace9\",\"data\":[{\"name\":\"trace9\",\"type\":\"scatter\",\"x\":[0,1,2,3,4,5,6,7,8,9,10,11,12,13,14,15,16,17,18,19,20,21,22,23,24,25,26,27,28,29],\"y\":[0,0.7642183289437148,0.32723138553747066,1.4457834212720257,3.9622824055955026,0.22726018820828975,2.4530549681516627,4.086588904461345,0.9593191859923547,4.999775583559663,9.20339974369871,1.1441532390777036,9.922913254270512,3.4857380219923835,12.34223411885869,5.331122154039111,1.3012074854871276,3.524150009756305,15.637821180944236,16.35093149110888,7.725162965287251,9.68461639509551,13.836264313399651,19.244996217201628,3.367895511157192,3.4739697111204784,16.87574066280738,15.582875229158388,6.578624018497664,22.32365922657139]}]},{\"name\":\"trace10\",\"data\":[{\"name\":\"trace10\",\"type\":\"scatter\",\"x\":[0,1,2,3,4,5,6,7,8,9,10,11,12,13,14,15,16,17,18,19,20,21,22,23,24,25,26,27,28,29],\"y\":[0,0.32177417085211224,1.4183919535746472,0.6394789431142568,3.8968001735516906,3.360607757564429,1.7147009474535246,5.275125637846305,3.0212608073175478,5.380867676528822,3.9393024553073106,7.539130390651816,2.8286745020719586,7.90185197452099,11.875986922518726,5.384180416378895,6.98597031283458,12.121338304087228,12.562032417879466,6.766913491530253,5.981921187009769,8.333187147513819,19.47226733974082,4.361404995070038,12.38311000461163,23.131149637776378,6.801781677454869,18.3597186350062,18.162685648097977,28.41270375787332]}]},{\"name\":\"trace11\",\"data\":[{\"name\":\"trace11\",\"type\":\"scatter\",\"x\":[0,1,2,3,4,5,6,7,8,9,10,11,12,13,14,15,16,17,18,19,20,21,22,23,24,25,26,27,28,29],\"y\":[0,0.9548513636059724,1.2162246275597435,2.32701164177379,1.9457817286227903,4.173563398722242,1.754884427466853,3.7899466720391186,4.082098958154925,2.0115858357057244,5.693256875162937,5.2417956736267275,7.677373751551314,0.06866990955516483,1.2189569280487986,1.217825751950195,10.971581919841322,14.679617411373334,17.642578079835893,1.0564810738040866,15.786653493439156,8.104137451394736,8.632392246045823,18.497897533328892,12.667844451909627,19.878494735556977,23.005455638247195,25.60959634709353,4.600842288865519,18.978082722845723]}]},{\"name\":\"trace12\",\"data\":[{\"name\":\"trace12\",\"type\":\"scatter\",\"x\":[0,1,2,3,4,5,6,7,8,9,10,11,12,13,14,15,16,17,18,19,20,21,22,23,24,25,26,27,28,29],\"y\":[0,0.15024943241986577,1.8212134274207494,2.812199973335693,2.7796392562146446,4.900569404267382,4.7464325922584445,6.45893837290268,2.111165223679473,4.729053654278289,1.9671909718566416,5.237303409116461,9.504607559034989,12.047319838803222,7.011605903018773,6.259545201500108,8.584768123162274,0.9370573051337386,3.0782118350472483,15.824220994961982,12.305806273062274,2.1026212642204123,14.459444490078265,9.058039455196875,9.987952673422523,23.05772174081011,24.99801679605628,26.012630041137633,7.501938991768333,18.712484144438385]}]},{\"name\":\"trace13\",\"data\":[{\"name\":\"trace13\",\"type\":\"scatter\",\"x\":[0,1,2,3,4,5,6,7,8,9,10,11,12,13,14,15,16,17,18,19,20,21,22,23,24,25,26,27,28,29],\"y\":[0,0.03932125381682117,0.739133924726221,0.3286427781765169,2.680547498435076,4.325187149481888,5.574754540494495,3.4479866261706924,6.895438191335226,3.2970357251687687,6.982540902160491,6.708420273901588,8.241952242009704,5.4701961155900785,8.476214304888476,2.350812651606144,10.044213155490421,5.995877462055615,17.796301554072514,8.045456124824167,18.16064345651968,20.173308341161054,0.16290832186245163,18.927109677049614,19.95615434671012,20.770644263203238,4.522435610292147,24.476332578448726,9.349198726792407,4.8605476381960955]}]},{\"name\":\"trace14\",\"data\":[{\"name\":\"trace14\",\"type\":\"scatter\",\"x\":[0,1,2,3,4,5,6,7,8,9,10,11,12,13,14,15,16,17,18,19,20,21,22,23,24,25,26,27,28,29],\"y\":[0,0.41231033193976596,0.8814116548557214,2.641633900554833,1.4678016736631672,1.443367026676821,4.595155401206021,1.457134996525446,0.1308423904981728,5.1107739942358315,4.0491710803034024,8.022082608547077,10.504811554321316,5.525443464920679,8.085302384442782,3.2353299270374136,10.519016901173218,12.785832623230593,2.810533181305782,7.8572809473799055,1.17020527917032,2.099281255785006,17.194238226195566,11.637052167552925,18.802568985229847,22.454218716924288,15.867678443103944,19.051248927456463,26.202920196389975,13.001840220797924]}]},{\"name\":\"trace15\",\"data\":[{\"name\":\"trace15\",\"type\":\"scatter\",\"x\":[0,1,2,3,4,5,6,7,8,9,10,11,12,13,14,15,16,17,18,19,20,21,22,23,24,25,26,27,28,29],\"y\":[0,0.15350816867226103,1.2230123569409286,0.9164758829191343,1.0695399479591838,0.2964477846950153,4.248879267163753,2.177094689518834,0.9352779633313943,7.270311215073322,4.172633121000543,7.938265772066359,3.0962001759600186,7.524149536702018,8.412331088286546,8.862810198907635,6.676259942231786,14.929033107949737,4.881663977393301,15.232607200309012,8.678478905673089,5.550599978433232,15.174331778664428,21.29127978017381,17.184768783931062,11.656409400851578,4.715792657047788,10.432502852073588,23.804290454531788,1.1231016504442906]}]},{\"name\":\"trace16\",\"data\":[{\"name\":\"trace16\",\"type\":\"scatter\",\"x\":[0,1,2,3,4,5,6,7,8,9,10,11,12,13,14,15,16,17,18,19,20,21,22,23,24,25,26,27,28,29],\"y\":[0,0.24473982999286603,1.3375451607029718,2.025228811914709,2.7102043802403166,1.4532109103319129,1.4194139041423257,2.1610520888384985,2.9891580435614067,0.22083516719961405,1.5524554495609777,1.9086942748206401,1.4639815134825898,7.071191208233622,4.288675730932375,0.9714175022849719,8.185628264831923,5.293601357468297,11.742563603172787,2.757226973657288,5.641151577399199,5.746230515004515,21.97846175209152,17.790870982956807,12.550455619120516,20.653544988243162,17.793699001698837,0.003270005691847433,26.589769338690154,19.5138777769793]}]},{\"name\":\"trace17\",\"data\":[{\"name\":\"trace17\",\"type\":\"scatter\",\"x\":[0,1,2,3,4,5,6,7,8,9,10,11,12,13,14,15,16,17,18,19,20,21,22,23,24,25,26,27,28,29],\"y\":[0,0.5667516907888769,0.43881196871510575,2.1541589719739087,3.2915296539299095,2.3984412257677032,3.856773522607414,5.212089219043998,1.406724377885988,4.325143607637045,3.186086618302304,8.624254059573303,11.513208481984542,0.40495793117273327,9.444502469087636,11.436963081749845,10.354184709269544,12.73166452648767,11.366996249502119,4.173115899255886,16.46476396651199,12.247976822987466,2.7364303364040556,14.746584616630335,19.363777656761616,10.131496380239657,13.3549632365357,5.897092306659276,27.068936530270403,2.904823838325828]}]},{\"name\":\"trace18\",\"data\":[{\"name\":\"trace18\",\"type\":\"scatter\",\"x\":[0,1,2,3,4,5,6,7,8,9,10,11,12,13,14,15,16,17,18,19,20,21,22,23,24,25,26,27,28,29],\"y\":[0,0.6562714926711091,0.8424685347772802,2.088902125219482,1.9616101042020655,4.928205434340088,4.15033656604776,3.80461919945268,0.8149753908518838,1.8549155815026457,5.377862401462003,0.6790900666377501,2.5924818621716237,12.782710859775554,8.938187508995988,1.8116733346406744,7.1591731158092,9.456686923923758,0.08807354665679368,12.992968994843713,3.544052312585504,9.91741078412133,0.2357815599476607,21.838260102343373,4.044982386761784,18.969972718351872,18.401468570125036,23.243643652663234,22.41750779714997,19.388156732080216]}]},{\"name\":\"trace19\",\"data\":[{\"name\":\"trace19\",\"type\":\"scatter\",\"x\":[0,1,2,3,4,5,6,7,8,9,10,11,12,13,14,15,16,17,18,19,20,21,22,23,24,25,26,27,28,29],\"y\":[0,0.5158756584989601,0.5789750165370751,0.5606241523206037,3.470617419342548,3.540905999200175,5.252439206685992,0.5574422947888052,3.974496673044672,5.01193118912754,8.475973972557407,4.146074339827226,0.030425420612361087,12.231411669063224,6.299208950767881,12.561014741041689,15.446790010920314,4.156730662710671,2.9809062202384804,2.263888375950776,7.9262397481160995,15.583634525298073,13.501264838274668,2.1685618772572828,12.77593729833657,20.034955444536592,8.002364796207901,26.682479427187737,4.893648858258544,28.144857183905952]}]},{\"name\":\"trace20\",\"data\":[{\"name\":\"trace20\",\"type\":\"scatter\",\"x\":[0,1,2,3,4,5,6,7,8,9,10,11,12,13,14,15,16,17,18,19,20,21,22,23,24,25,26,27,28,29],\"y\":[0,0.7987485175400539,0.866560599072824,2.7793635161727743,2.019419286756772,3.7764115946680565,2.0136933981229586,1.4803681257991923,5.500628859888089,3.749929484693329,1.3826144403668694,7.255563492037492,6.994658842252857,4.844595543862782,4.624194390547132,6.375482263785843,5.735829345286506,7.053900604537516,4.707250024410481,10.722979029940374,13.62609093271198,9.93495748269427,0.9983944317071156,4.491331384106179,23.039447665364474,14.34664424636218,23.10344768765514,9.650048864534496,22.264726057821132,16.655043123203882]}]},{\"name\":\"trace21\",\"data\":[{\"name\":\"trace21\",\"type\":\"scatter\",\"x\":[0,1,2,3,4,5,6,7,8,9,10,11,12,13,14,15,16,17,18,19,20,21,22,23,24,25,26,27,28,29],\"y\":[0,0.8347385440868698,1.3862105769468815,1.3335151283752391,2.1726020501298007,1.818408551591899,5.561500386111975,3.0154831325416396,0.5920806800546714,7.629043465361492,5.406812160380522,5.693164120544013,3.1927646092654465,5.542263200184789,12.35743378017651,3.357941478768784,7.422576121973943,8.605448398510777,13.089218395894484,17.48322201308981,10.592190858652952,3.152086293058093,21.9631029743736,12.231315920375271,13.161790178139025,13.58145763096045,8.96322893439672,19.0884274783335,26.86039317101964,17.61005850538066]}]},{\"name\":\"trace22\",\"data\":[{\"name\":\"trace22\",\"type\":\"scatter\",\"x\":[0,1,2,3,4,5,6,7,8,9,10,11,12,13,14,15,16,17,18,19,20,21,22,23,24,25,26,27,28,29],\"y\":[0,0.2709758219073968,1.854158856071706,0.6484343296561333,3.22162306726188,0.3096276258675529,0.5163437946202014,6.193327196397697,0.7800733534876363,0.4486668366656662,8.803179323542468,2.691784304454435,0.35691493007441144,12.702738611633563,8.419355040865726,1.5291001661075647,6.492971223148432,10.65751056465792,15.864518141475088,7.181368739211137,10.640151874792016,4.731864922371269,18.4396513671395,17.87261552496348,13.113782440758971,10.353297673581565,7.5154196624700695,16.014717258981257,22.736480516116302,20.07279371194001]}]},{\"name\":\"trace23\",\"data\":[{\"name\":\"trace23\",\"type\":\"scatter\",\"x\":[0,1,2,3,4,5,6,7,8,9,10,11,12,13,14,15,16,17,18,19,20,21,22,23,24,25,26,27,28,29],\"y\":[0,0.6722477067843363,0.7942366796340916,0.6518951726507811,1.2759236111256773,0.9047232662487253,4.283262118702853,2.6943986356740934,4.08223196103164,4.456555253359115,7.153932237569727,7.200863821828548,7.687751542484076,2.874706053904432,9.264112334751122,10.257719621076124,8.125461264333637,1.476445633834882,6.425939215820644,17.95586112422943,3.9668893830614915,4.243568483946641,20.517859643371334,15.014378312886276,22.91957933025308,24.352323246376297,18.347881539032542,0.20575172231322303,2.894683451118707,22.863922117051196]}]},{\"name\":\"trace24\",\"data\":[{\"name\":\"trace24\",\"type\":\"scatter\",\"x\":[0,1,2,3,4,5,6,7,8,9,10,11,12,13,14,15,16,17,18,19,20,21,22,23,24,25,26,27,28,29],\"y\":[0,0.4752540153199417,1.1746432855675162,1.2472404362488994,3.3962254094374145,0.31713869378759585,4.171796596572794,6.934036039011945,1.964512657455444,2.9916610578722516,3.740830602942994,3.536779426080491,3.428031874890187,2.357861175424785,1.6767372372107865,3.6025700193462455,0.5787548383372556,4.92274203145444,14.630627834107628,12.77517172969485,3.9736916757392304,9.645652880080362,0.4573329321383015,2.876218717590871,12.372549545463574,0.18432457632988064,6.005791285566085,8.674671897497394,16.270481059333985,22.67536583754437]}]},{\"name\":\"trace25\",\"data\":[{\"name\":\"trace25\",\"type\":\"scatter\",\"x\":[0,1,2,3,4,5,6,7,8,9,10,11,12,13,14,15,16,17,18,19,20,21,22,23,24,25,26,27,28,29],\"y\":[0,0.7880646817667802,0.6619685586109676,1.0322637758881332,0.2688203911155935,1.5169732172340096,4.486282165211523,2.425991814406425,2.4392878244215916,2.1897468117252328,8.696668025681793,1.8215787232204559,4.254182841859104,0.4472890193837604,0.26867598799307935,5.984864057362212,0.0185391005216875,1.9353896337406635,4.966262651007726,17.656826326800548,17.574138694117394,0.5480699875836088,13.48593287241778,20.000307247127747,1.1375814267000086,13.620127303872664,20.465900118513982,23.17834853128226,20.55340678542283,28.939565780951252]}]},{\"name\":\"trace26\",\"data\":[{\"name\":\"trace26\",\"type\":\"scatter\",\"x\":[0,1,2,3,4,5,6,7,8,9,10,11,12,13,14,15,16,17,18,19,20,21,22,23,24,25,26,27,28,29],\"y\":[0,0.8522484285631065,0.5990647533168925,0.8870235385616494,3.193846971708014,3.86625450229547,1.4954590183466636,3.594681255432043,3.5911210497365635,1.0527050895447707,6.344883476576303,2.924054754325531,3.7884445230094776,11.637176811242695,7.08663946358625,7.81854605947858,15.71167675207312,1.6567461741223757,3.186774013105416,18.184248506603044,14.152989796154591,4.008910681181313,20.33375591569011,9.82548545907631,17.127347589507387,1.1363877984991362,10.97725054590747,16.93475485243654,25.679520714525754,2.096964479642861]}]},{\"name\":\"trace27\",\"data\":[{\"name\":\"trace27\",\"type\":\"scatter\",\"x\":[0,1,2,3,4,5,6,7,8,9,10,11,12,13,14,15,16,17,18,19,20,21,22,23,24,25,26,27,28,29],\"y\":[0,0.5802679075465762,1.8408389261713345,0.8789049975618491,0.4032386968358348,0.692541250533954,3.248149741366282,3.6315598953621566,4.831562090642203,2.677569395851253,9.396759424277732,8.95258393620659,10.63248181228541,9.8130826882316,6.183466367823618,14.077590160041066,12.321156570023218,13.754972679080419,8.903480726438907,10.000018902645538,5.768496323735519,8.226343693537252,17.440054540317917,7.700103915518967,14.299929156076965,18.795173851510146,13.203202237623653,0.7376985728597597,9.43809019380778,2.1094455014727362]}]},{\"name\":\"trace28\",\"data\":[{\"name\":\"trace28\",\"type\":\"scatter\",\"x\":[0,1,2,3,4,5,6,7,8,9,10,11,12,13,14,15,16,17,18,19,20,21,22,23,24,25,26,27,28,29],\"y\":[0,0.5942601047872815,1.6601682726109859,0.26843219137787777,2.751632234467885,3.5047764891199535,5.368512980408247,4.1763869430345615,0.12328528979838982,8.666670238468257,4.088314669381611,6.491002064425577,5.104390265458466,5.089798445990626,9.862298423441082,10.031194078813133,5.635718656923457,0.45803063757753104,13.18106364982422,4.515960513496422,15.63526612033806,1.7465194291187345,11.332887016521992,0.0192449399044341,7.385142586127394,19.092657363143907,20.50547171742907,5.626374012490837,17.02790966841588,8.041098576597983]}]},{\"name\":\"trace29\",\"data\":[{\"name\":\"trace29\",\"type\":\"scatter\",\"x\":[0,1,2,3,4,5,6,7,8,9,10,11,12,13,14,15,16,17,18,19,20,21,22,23,24,25,26,27,28,29],\"y\":[0,0.13302831319262687,1.9106384713123683,1.4428307654148966,3.3899463543839676,1.4469617698837984,0.46477643564027793,0.06390030263897062,4.039901896299067,8.837867784787193,6.756880629638532,7.798164411005033,8.33665902043114,11.3069145016112,2.32922451166577,10.426910435658336,2.480241098499821,6.2745317948211365,13.802970193639153,6.89647255369532,12.657297113297552,18.52109527549666,19.170005425229256,5.798817820710513,14.780414688430605,0.8143709193562276,20.152274378130677,20.04565387829222,20.110705761771715,9.36810065585398]}]},{\"name\":\"trace30\",\"data\":[{\"name\":\"trace30\",\"type\":\"scatter\",\"x\":[0,1,2,3,4,5,6,7,8,9,10,11,12,13,14,15,16,17,18,19,20,21,22,23,24,25,26,27,28,29],\"y\":[0,0.1801303840597912,0.31811223516175224,2.6325212702061025,2.8279855290609084,0.9126038723472851,5.750217452359881,1.640956252604328,1.4736095425817766,4.949252580728492,4.477749901216372,5.142893623937425,6.387074259833749,5.531360773305693,6.188338300189465,4.036439632979208,9.042301633200093,1.4761211107544194,17.117752618643667,0.23377169828904032,12.758162213249303,0.577058981353509,13.741105393565517,5.179601240089446,17.8624998433522,19.8073415922903,5.672461385678284,9.569688122223015,4.029545335545237,10.657416453690045]}]},{\"name\":\"trace31\",\"data\":[{\"name\":\"trace31\",\"type\":\"scatter\",\"x\":[0,1,2,3,4,5,6,7,8,9,10,11,12,13,14,15,16,17,18,19,20,21,22,23,24,25,26,27,28,29],\"y\":[0,0.17489216253253803,0.45246716601381864,2.3830751750679826,2.4482029196368162,3.549941212135113,1.4416145725253062,0.5243522411658386,4.576308567708855,0.606510129656637,7.245217731077661,4.056085783450005,4.164508056972393,2.162259893015402,13.381777965145234,14.127687630860656,0.4324095689950269,15.89675626159733,9.055268299509859,6.112235460527463,18.622121478731415,4.016097375546326,0.41876973357350833,14.650224881804876,6.762221940849383,2.0440071516685503,19.07238109440123,4.759221411466281,10.041421069960151,19.06162414596453]}]},{\"name\":\"trace32\",\"data\":[{\"name\":\"trace32\",\"type\":\"scatter\",\"x\":[0,1,2,3,4,5,6,7,8,9,10,11,12,13,14,15,16,17,18,19,20,21,22,23,24,25,26,27,28,29],\"y\":[0,0.786923852738956,0.856139874977649,2.644305695311681,3.6140684181617546,4.265510804173192,3.9117907631154356,0.9468947529529409,7.503733518914498,2.1780046867356235,8.674561444202396,0.7412134167660684,6.726211405216171,10.236982140769383,8.391980150546257,6.909147866390777,11.735907005169576,10.06877040934385,16.52722600523531,12.15215474515174,18.54812775866446,14.14734771293801,17.317262134914643,19.016393975336143,4.394129622429538,6.2695374434989795,9.33250783096345,20.78802621471047,4.870082321386674,8.07885340453828]}]},{\"name\":\"trace33\",\"data\":[{\"name\":\"trace33\",\"type\":\"scatter\",\"x\":[0,1,2,3,4,5,6,7,8,9,10,11,12,13,14,15,16,17,18,19,20,21,22,23,24,25,26,27,28,29],\"y\":[0,0.9095549766524355,0.6980915750040051,2.009838848496761,1.527247047710162,1.6693577870300365,2.278826653230738,0.10593039012707939,3.9843267545689223,6.9816720850330825,5.550536558194771,5.586949859974278,8.124373488522583,12.318868946846889,6.641468424836246,3.2686298750050566,4.629035654877249,9.875846599007284,6.7365802053478365,15.407240375876826,12.447885392079858,13.429322087509325,15.139955421464448,7.167242105356457,0.9949653079097631,7.737658017342492,25.75073567252776,14.265260705311379,22.3950590333822,15.508658758541152]}]},{\"name\":\"trace34\",\"data\":[{\"name\":\"trace34\",\"type\":\"scatter\",\"x\":[0,1,2,3,4,5,6,7,8,9,10,11,12,13,14,15,16,17,18,19,20,21,22,23,24,25,26,27,28,29],\"y\":[0,0.3141993661514123,0.8699107803465123,0.18358223372884785,3.3693979112428627,4.633695233959137,1.8708920534104814,1.2773109365383104,5.787831240741794,3.292479281630874,2.8260914236594714,7.01774476516577,8.541524345866613,9.349057827337322,8.685705793934746,6.0484295789376805,3.0858482128517952,3.8303136027524536,6.369791907123788,8.269690876505056,13.296286872872642,20.504258491580803,19.38915103846718,18.10684472363626,15.002585917749409,23.12951636937724,7.136615533057265,24.060629794693142,14.195506577212067,3.9546322973010026]}]},{\"name\":\"trace35\",\"data\":[{\"name\":\"trace35\",\"type\":\"scatter\",\"x\":[0,1,2,3,4,5,6,7,8,9,10,11,12,13,14,15,16,17,18,19,20,21,22,23,24,25,26,27,28,29],\"y\":[0,0.22104872358275407,0.803205528429735,0.08097213640294942,3.395769596072042,4.989531732289816,3.9745386485671186,4.747004175631409,6.830727169975643,0.6473753802265048,1.2981978823380658,1.8497864655841414,4.843561196681116,8.181481996730898,8.916793520309348,4.1544211737086725,7.812061597733148,15.45715479550014,11.908871936827996,15.994127924036622,19.9622677023094,14.44821971413429,10.454024940786454,11.653762419691947,2.8238383021631552,22.27893194085229,23.51726485232573,16.223422453572656,16.86537600932215,9.462640986912884]}]},{\"name\":\"trace36\",\"data\":[{\"name\":\"trace36\",\"type\":\"scatter\",\"x\":[0,1,2,3,4,5,6,7,8,9,10,11,12,13,14,15,16,17,18,19,20,21,22,23,24,25,26,27,28,29],\"y\":[0,0.4060923833757536,0.5911546917540917,0.587848494463149,0.8452899969399539,0.641021750579101,3.5240754766534774,5.216317855335101,6.809465410620439,4.278545809317177,6.415772285697026,1.3937661903855296,4.594995405966923,11.227517191883186,1.781243481953389,4.869085281367461,2.572293808708352,15.629813341368099,15.768931558928092,14.59798447525888,11.392374926439778,2.726906114813118,7.917501052940799,2.053551850533304,19.544405683658116,5.093428739470377,3.4166718036374792,8.793354802970589,16.974275952097464,27.491423508160185]}]},{\"name\":\"trace37\",\"data\":[{\"name\":\"trace37\",\"type\":\"scatter\",\"x\":[0,1,2,3,4,5,6,7,8,9,10,11,12,13,14,15,16,17,18,19,20,21,22,23,24,25,26,27,28,29],\"y\":[0,0.764054308243558,0.8377944210365129,0.7215324972103022,3.0494441145935265,2.6102546489681884,3.3949211934100685,6.894625201296923,4.655813266871316,8.301984597863802,2.1110910470087396,8.46829386131442,1.5351702358934154,8.922980615023706,7.946143093486603,4.850642232662005,7.043980358007795,16.702743310235235,17.25305560493948,14.319869666311199,1.357709574014141,8.581131979898814,2.721123570758108,22.903870158953094,10.1991397200186,1.3459816710886752,3.534727053747366,22.90235433706237,1.293609836435833,25.863608050255674]}]},{\"name\":\"trace38\",\"data\":[{\"name\":\"trace38\",\"type\":\"scatter\",\"x\":[0,1,2,3,4,5,6,7,8,9,10,11,12,13,14,15,16,17,18,19,20,21,22,23,24,25,26,27,28,29],\"y\":[0,0.47459595834915635,0.6007617233245559,2.66851786523298,0.15130046633846206,1.3579489589521128,1.1054521894137148,2.660830300688245,2.394291003851892,5.027912159292239,6.638191344132169,4.917886797622007,8.830887168131722,8.225058939925308,9.188410200307159,4.365294295681919,0.5002757030261566,5.931426197414524,2.749721244546734,15.436003511139468,0.8643845846930698,11.304981254803783,3.745076798787788,21.429897783965973,1.7464055094008977,6.333997388593938,4.99349821970012,13.236794048409546,25.0300184018227,1.2854598119869698]}]},{\"name\":\"trace39\",\"data\":[{\"name\":\"trace39\",\"type\":\"scatter\",\"x\":[0,1,2,3,4,5,6,7,8,9,10,11,12,13,14,15,16,17,18,19,20,21,22,23,24,25,26,27,28,29],\"y\":[0,0.9275899300029813,0.8700075526955864,0.640637767269728,1.515495077818585,1.5770101522637547,4.796948986016257,1.872505734238239,2.6575017493886133,6.677713649294345,3.94047656355332,6.529443468317408,10.236848106222162,6.352090029644877,4.076449816214631,10.870850176904773,12.511020614126616,15.58047486568072,10.72757763896194,8.043136490971728,5.012763922875491,10.308364267381455,11.201026449828484,4.955912779183985,11.897853451531395,22.760698410213568,25.542585093273242,25.297108151049702,2.4600832353146203,25.520296214919238]}]},{\"name\":\"trace40\",\"data\":[{\"name\":\"trace40\",\"type\":\"scatter\",\"x\":[0,1,2,3,4,5,6,7,8,9,10,11,12,13,14,15,16,17,18,19,20,21,22,23,24,25,26,27,28,29],\"y\":[0,0.3143421288968763,0.23837746935978732,2.0042443507835395,0.28621998070463794,2.9919557137262673,4.043155655388013,1.5661787379387282,6.563907447329603,7.108612159771788,4.689905766968949,3.226484226080936,4.559770879938814,0.718508699645649,12.588524986866453,10.0919896637821,8.721036453938135,8.771955867048327,15.175729200998557,8.737714918104377,0.403585457397333,14.955468794162673,10.957464852031077,21.349084597134848,12.594299171904217,17.325135796107798,5.1233213107404945,11.787317472773362,21.25662896522497,25.09267082914517]}]},{\"name\":\"trace41\",\"data\":[{\"name\":\"trace41\",\"type\":\"scatter\",\"x\":[0,1,2,3,4,5,6,7,8,9,10,11,12,13,14,15,16,17,18,19,20,21,22,23,24,25,26,27,28,29],\"y\":[0,0.6066150665304827,1.2406451941416174,1.3305850234561343,0.6371892417334704,4.28051674210302,0.43930110445022286,4.125795892051276,7.142133552325525,2.316297876595069,3.820236172925,1.1097189193803154,1.2966871892611973,7.886248654531954,13.774980893138153,12.285142296795332,1.1342128163761487,9.106147274715607,2.6810684517628958,14.356743009061587,15.649094769742188,9.96978575168166,15.635959981195011,7.2316923081619,6.962417104227219,7.130213074036373,14.977194843397875,23.67488418100184,4.215012369990814,12.149372532411821]}]},{\"name\":\"trace42\",\"data\":[{\"name\":\"trace42\",\"type\":\"scatter\",\"x\":[0,1,2,3,4,5,6,7,8,9,10,11,12,13,14,15,16,17,18,19,20,21,22,23,24,25,26,27,28,29],\"y\":[0,0.4548491809630406,0.7050233181965788,1.6040394391119852,3.9965880491869035,0.37384674579616195,3.041061740212779,4.216730816185836,5.128977946898202,0.44569612109231216,3.939080119950539,7.27738243546533,3.5770130840771888,4.1698310996889765,0.31076701670888474,8.45994492008179,0.4656961854637185,10.34185794539579,3.5327616553632746,4.32534865875108,3.3616041030907207,4.020175486941213,4.803603704163836,3.601405315700612,16.434224768657998,19.087513250055405,19.635100173897087,6.468834849052207,26.867450562921377,27.641922581564444]}]},{\"name\":\"trace43\",\"data\":[{\"name\":\"trace43\",\"type\":\"scatter\",\"x\":[0,1,2,3,4,5,6,7,8,9,10,11,12,13,14,15,16,17,18,19,20,21,22,23,24,25,26,27,28,29],\"y\":[0,0.13112915456098906,0.28357007121344613,2.3501930071211414,3.800042223734048,4.195164650798595,2.9789725194217755,3.8732087664617296,6.782787400004129,4.4638382745623595,6.614054845852304,4.074060725287015,4.968205307347015,8.784522679828951,7.470428252786163,12.520742356172532,8.038622405764954,0.5088651267194203,10.521524458043812,3.4871039174588834,19.054964077851274,9.82287714674149,16.76978058028865,12.415050049951601,18.38523981099754,14.451829525622099,20.32247900483834,21.011658246203467,3.0169927419887443,14.578539865610873]}]},{\"name\":\"trace44\",\"data\":[{\"name\":\"trace44\",\"type\":\"scatter\",\"x\":[0,1,2,3,4,5,6,7,8,9,10,11,12,13,14,15,16,17,18,19,20,21,22,23,24,25,26,27,28,29],\"y\":[0,0.9206142184635145,1.9822169381036696,0.027979861927530658,1.9420948872368764,4.51664252091669,4.281578568931492,0.586736942775509,5.222540710306013,0.19358740062844826,1.1967903536602276,10.610344286940201,0.5053952833542477,4.5264538724304835,7.641040015714245,2.6224356618726885,1.1618455134654955,16.15598694858366,15.600412016488646,14.711397716461764,7.288296985812228,16.38043287079833,8.958102866226739,17.194007495604282,2.7962239598580068,17.629953242792965,15.836517951975456,4.711660892070075,3.4950708903382113,7.648174844333802]}]},{\"name\":\"trace45\",\"data\":[{\"name\":\"trace45\",\"type\":\"scatter\",\"x\":[0,1,2,3,4,5,6,7,8,9,10,11,12,13,14,15,16,17,18,19,20,21,22,23,24,25,26,27,28,29],\"y\":[0,0.5861324425465293,1.343057247162369,1.1175692006662938,2.815439022187293,3.5011165866337657,5.825776871078974,2.8366899903654352,1.4836811905792544,4.964426243368258,5.928566217552909,8.398650845191185,2.488061652289727,11.503452071591546,4.201873361889303,4.6476122057425,7.446672188960511,9.539236603274116,0.6558347924570691,15.291507611749042,4.375570653976554,13.545987326304019,8.307242612892054,18.329395424273073,19.340972081080825,19.63471968042942,16.16442713048395,6.753935568121068,8.974991734378712,13.893872622905153]}]},{\"name\":\"trace46\",\"data\":[{\"name\":\"trace46\",\"type\":\"scatter\",\"x\":[0,1,2,3,4,5,6,7,8,9,10,11,12,13,14,15,16,17,18,19,20,21,22,23,24,25,26,27,28,29],\"y\":[0,0.5625952060319275,1.2555193638394297,2.4546729774332134,2.3386491907816866,2.6458238748215077,5.02617722232651,2.5118901092542005,6.607253231488487,2.082547080095584,0.7600936985682183,9.047125187444513,3.9757568988101606,10.400453805832003,12.456561780120165,6.644424856172449,6.3692944729118715,8.309175421679488,16.38244667911332,17.209427879871868,1.036171541840587,10.963048493002642,10.053873762421416,22.798315061713534,19.847130996178834,18.38814906734692,15.979361157083943,6.219628630919962,8.548099391212173,3.3279029782761786]}]},{\"name\":\"trace47\",\"data\":[{\"name\":\"trace47\",\"type\":\"scatter\",\"x\":[0,1,2,3,4,5,6,7,8,9,10,11,12,13,14,15,16,17,18,19,20,21,22,23,24,25,26,27,28,29],\"y\":[0,0.10835671387114276,1.9722979223940054,2.8669961544724334,1.3062715055889091,3.0537883000879336,4.414031156239874,3.639725900908277,7.1570549784917485,1.7675081395380032,0.15651157655255044,8.130965535360833,5.146889850307641,7.840465197735523,4.599126087014777,10.99579192689006,0.5770929881610165,4.158167908633649,14.962282855461666,12.369136067540513,18.115138177420263,7.146109415669275,19.119805058226678,14.26025978246392,12.791968873522745,8.3926952751124,6.7293818710216975,10.467786375123866,22.6420148026394,17.879134568778014]}]},{\"name\":\"trace48\",\"data\":[{\"name\":\"trace48\",\"type\":\"scatter\",\"x\":[0,1,2,3,4,5,6,7,8,9,10,11,12,13,14,15,16,17,18,19,20,21,22,23,24,25,26,27,28,29],\"y\":[0,0.5865397585000791,0.532389566866674,2.992262894255043,3.3162924788465302,2.0655285964853243,2.58369611609557,6.828611984910071,4.973125056182652,8.241410803407213,6.531738933074745,3.0592698167328902,6.208775066067013,0.18977624765712398,0.5055782320157014,12.089553718445929,4.736831731331948,14.289275167216713,0.9346409626791004,12.837029736702704,19.289139881919514,20.393009236870157,5.372589395481415,16.06240439904705,5.528796871175855,16.69752740995325,24.97537686282171,8.04769286521173,26.946147484109268,7.958384071129345]}]},{\"name\":\"trace49\",\"data\":[{\"name\":\"trace49\",\"type\":\"scatter\",\"x\":[0,1,2,3,4,5,6,7,8,9,10,11,12,13,14,15,16,17,18,19,20,21,22,23,24,25,26,27,28,29],\"y\":[0,0.5669610625873475,1.667977007573193,1.5603724680221518,1.9431059574597835,4.42711629490561,1.4503185307243438,4.167535184041428,4.97674767052966,2.618050164789615,7.592480382249976,5.619089358354056,9.625338338851058,7.425018972423668,11.825355694519052,6.53614849753302,1.6466755837810538,14.93092784023094,4.5449861106339835,8.003118624449101,11.51518409250109,10.758819170231336,13.619670291836222,3.636717357033755,5.065820866659723,10.182106393408239,25.68022776328132,5.221515760955616,16.08596139718429,22.255959808247148]}]}]\n",
       "var labels_p4vrE26mIh = [\"trace0\",\"trace1\",\"trace2\",\"trace3\",\"trace4\",\"trace5\",\"trace6\",\"trace7\",\"trace8\",\"trace9\",\"trace10\",\"trace11\",\"trace12\",\"trace13\",\"trace14\",\"trace15\",\"trace16\",\"trace17\",\"trace18\",\"trace19\",\"trace20\",\"trace21\",\"trace22\",\"trace23\",\"trace24\",\"trace25\",\"trace26\",\"trace27\",\"trace28\",\"trace29\",\"trace30\",\"trace31\",\"trace32\",\"trace33\",\"trace34\",\"trace35\",\"trace36\",\"trace37\",\"trace38\",\"trace39\",\"trace40\",\"trace41\",\"trace42\",\"trace43\",\"trace44\",\"trace45\",\"trace46\",\"trace47\",\"trace48\",\"trace49\"]\n",
       "var duration_p4vrE26mIh = 100\n",
       "var config_p4vrE26mIh = {\"responsive\":true,\"scrollZoom\":true,\"displaylogo\":false}\n",
       "\n",
       "var animation_settings_p4vrE26mIh = {\n",
       "    mode: \"immediate\",\n",
       "    direction: {},\n",
       "    fromcurrent: true,\n",
       "    frame: [\n",
       "      {duration: duration_p4vrE26mIh},\n",
       "      {duration: duration_p4vrE26mIh},\n",
       "      {redraw: true}\n",
       "    ],\n",
       "    transition: [\n",
       "      {duration: duration_p4vrE26mIh, easing: 'cubic-in-out'},\n",
       "      {duration: duration_p4vrE26mIh, easing: 'cubic-in-out'},\n",
       "    ],\n",
       "    ordering: \"layout first\"\n",
       "}\n",
       "\n",
       "var slider_p4vrE26mIh = document.createElement(\"input\")\n",
       "var play_p4vrE26mIh = document.getElementById(\"play_p4vrE26mIh\")\n",
       "var pause_p4vrE26mIh = document.getElementById(\"pause_p4vrE26mIh\")\n",
       "slider_p4vrE26mIh.id = \"slider_p4vrE26mIh\"\n",
       "slider_p4vrE26mIh.type = \"range\"\n",
       "slider_p4vrE26mIh.min = 0\n",
       "slider_p4vrE26mIh.max = frames_p4vrE26mIh.length - 1\n",
       "slider_p4vrE26mIh.value = 0\n",
       "document.getElementById(\"sliderContainer_p4vrE26mIh\").appendChild(slider_p4vrE26mIh);\n",
       "\n",
       "Plotly.newPlot(graph_p4vrE26mIh, traces_p4vrE26mIh, layout_p4vrE26mIh, config_p4vrE26mIh)\n",
       ".then(function () { Plotly.addFrames(graph_p4vrE26mIh, frames_p4vrE26mIh) })\n",
       "\n",
       "var trigger_p4vrE26mIh = true\n",
       "var reset_count_p4vrE26mIh = false\n",
       "\n",
       "\n",
       "play_p4vrE26mIh.addEventListener('click', function() {\n",
       "   trigger_p4vrE26mIh = true\n",
       "   if (reset_count_p4vrE26mIh) {\n",
       "      slider_p4vrE26mIh.value = 0\n",
       "      reset_count_p4vrE26mIh = false\n",
       "   }\n",
       "\n",
       "  const start_index = slider_p4vrE26mIh.value == labels_p4vrE26mIh.length - 1 ? 0 : slider_p4vrE26mIh.value\n",
       "  const end_index = labels_p4vrE26mIh.length\n",
       "  Plotly.animate(graph_p4vrE26mIh, labels_p4vrE26mIh.slice(start_index, end_index), animation_settings_p4vrE26mIh)\n",
       "})\n",
       "\n",
       "pause_p4vrE26mIh.addEventListener('click', function() {\n",
       "  Plotly.animate(graph_p4vrE26mIh, [null], animation_settings_p4vrE26mIh)\n",
       "})\n",
       "\n",
       "graph_p4vrE26mIh.on('plotly_redraw', () => {\n",
       "   value_p4vrE26mIh.innerHTML = slider_p4vrE26mIh.value;\n",
       "   if (trigger_p4vrE26mIh & !reset_count_p4vrE26mIh) ++slider_p4vrE26mIh.value\n",
       "   if (slider_p4vrE26mIh.value == labels_p4vrE26mIh.length - 1) reset_count_p4vrE26mIh = true\n",
       "});\n",
       "\n",
       "slider_p4vrE26mIh.oninput = function() {\n",
       "   Plotly.animate(graph_p4vrE26mIh, frames_p4vrE26mIh[this.value], animation_settings_p4vrE26mIh)\n",
       "   trigger_p4vrE26mIh = false\n",
       "   slider_p4vrE26mIh.value = this.value\n",
       "   value_p4vrE26mIh.innerHTML = this.value;\n",
       "   if (this.value == 0) reset_count_p4vrE26mIh = false\n",
       "   if (this.value == labels_p4vrE26mIh.length - 1) reset_count_p4vrE26mIh = true\n",
       "   reset_count_p4vrE26mIh = false\n",
       "}\n",
       "</script> \n"
      ]
     },
     "metadata": {},
     "output_type": "display_data"
    }
   ],
   "source": [
    "val xaxis = XAxis(title = \"X Variable\") setRange (0.0, 10.0)\n",
    "val yaxis = YAxis(title = \"Y Variable\") setRange (0.0, 10.0)\n",
    "\n",
    "val layout = Layout(\"Animation.XY\") setAxes(xaxis, yaxis)\n",
    "\n",
    "val series = createXYSeries(numberToCreate = 50, length = 30)\n",
    "\n",
    "val chart = Chart(animated = true) setLayout layout addSeries series\n",
    "\n",
    "val canvas = Canvas() addCharts chart\n",
    "\n",
    "canvas.plotInline"
   ]
  },
  {
   "cell_type": "markdown",
   "metadata": {},
   "source": [
    "### 3D Animated Chart"
   ]
  },
  {
   "cell_type": "code",
   "execution_count": 34,
   "metadata": {},
   "outputs": [
    {
     "name": "stderr",
     "output_type": "stream",
     "text": [
      "cmd34.sc:1: value asType is not a member of List[org.carbonateresearch.picta.XYZSeries]\n",
      "val series = createXYZSeries(numberToCreate = 10, length = 100) asType SCATTER3D\n",
      "                                                                ^Compilation Failed"
     ]
    },
    {
     "ename": "",
     "evalue": "",
     "output_type": "error",
     "traceback": [
      "Compilation Failed"
     ]
    }
   ],
   "source": [
    "val series = createXYZSeries(numberToCreate = 10, length = 100) asType SCATTER3D\n",
    "\n",
    "val layout = Layout(\"Animation.XYZ\")\n",
    "\n",
    "val chart = Chart(animated = true) setLayout layout addSeries series \n",
    "\n",
    "val canvas = Canvas() addCharts chart\n",
    "\n",
    "canvas.plotInline"
   ]
  },
  {
   "cell_type": "markdown",
   "metadata": {},
   "source": [
    "## IO + Utility Functions\n",
    "\n",
    "The library also comes with some basic CSV IO functions and a utility function for breaking down data"
   ]
  },
  {
   "cell_type": "code",
   "execution_count": null,
   "metadata": {},
   "outputs": [],
   "source": [
    "import picta.IO.IO.{getWorkingDirectory, readCSV}\n",
    "import picta.charts.Chart\n",
    "import picta.common.Utils.getSeriesbyCategory\n",
    "import picta.options.Layout\n",
    "import picta.series.XYSeries"
   ]
  },
  {
   "cell_type": "code",
   "execution_count": null,
   "metadata": {},
   "outputs": [],
   "source": [
    "val working_directory = getWorkingDirectory\n",
    "\n",
    "println(working_directory)"
   ]
  },
  {
   "cell_type": "code",
   "execution_count": null,
   "metadata": {},
   "outputs": [],
   "source": [
    "// by providing a path, we can read in a CSV\n",
    "val filepath = working_directory + \"/iris_csv.csv\"\n",
    "\n",
    "val data = readCSV(filepath)\n",
    "\n",
    "// by default, CSV are read in as strings. However we can convert the individual columns to the correct format\n",
    "val sepal_length = data(\"sepallength\").map(_.toDouble)\n",
    "val petal_width = data(\"petalwidth\").map(_.toDouble)\n",
    "val categories = data(\"class\")"
   ]
  },
  {
   "cell_type": "code",
   "execution_count": null,
   "metadata": {},
   "outputs": [],
   "source": [
    "val data = XY(sepal_length, petal_width, series_type=SCATTER, series_mode=MARKERS)\n",
    "\n",
    "val chart = Chart() setData data setLayout Layout(title = \"Uninformative Chart\")\n",
    "\n",
    "chart.plot_inline()"
   ]
  },
  {
   "cell_type": "markdown",
   "metadata": {},
   "source": [
    "The above chart is not very informative. However since we have the per data point category labels, we can use the utility function to display the data in the different clusters"
   ]
  },
  {
   "cell_type": "code",
   "execution_count": null,
   "metadata": {},
   "outputs": [],
   "source": [
    "val result: List[XYSeries] = getSeriesbyCategory(categories, (sepal_length, petal_width))\n",
    "\n",
    "val chart = Chart() setData result setLayout Layout(title = \"Iris\", showlegend = true)\n",
    "\n",
    "chart.plot_inline()"
   ]
  }
 ],
 "metadata": {
  "kernelspec": {
   "display_name": "Scala",
   "language": "scala",
   "name": "scala"
  },
  "language_info": {
   "codemirror_mode": "text/x-scala",
   "file_extension": ".scala",
   "mimetype": "text/x-scala",
   "name": "scala",
   "nbconvert_exporter": "script",
   "version": "2.13.2"
  }
 },
 "nbformat": 4,
 "nbformat_minor": 4
}
