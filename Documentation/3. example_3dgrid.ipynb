{
 "cells": [
  {
   "cell_type": "code",
   "execution_count": 1,
   "metadata": {
    "scrolled": true
   },
   "outputs": [],
   "source": [
    "interp.repositories() ++= Seq(coursierapi.MavenRepository.of(\n",
    "    \"https://jitpack.io\"\n",
    "))"
   ]
  },
  {
   "cell_type": "code",
   "execution_count": 2,
   "metadata": {
    "scrolled": false
   },
   "outputs": [
    {
     "data": {
      "text/html": [
       "\n",
       "<style> #animationInterface {\n",
       "    margin-top: 50px;\n",
       "    margin-bottom: 50px;\n",
       "}\n",
       "\n",
       ".progressBar {\n",
       "    padding-top: 20px;\n",
       "    padding-bottom: 20px;\n",
       "}\n",
       "\n",
       ".inline-div {\n",
       "    display: block;\n",
       "    text-align: center;\n",
       "}\n",
       "\n",
       "h3 {\n",
       "    display: inline-block;\n",
       "    text-align: center;\n",
       "}\n",
       "\n",
       ".picta-button {\n",
       "    background-color: #003E74;\n",
       "    border: none;\n",
       "    color: white;\n",
       "    padding: 12px 28px;\n",
       "    text-align: center;\n",
       "    text-decoration: none;\n",
       "    display: inline-block;\n",
       "    font-size: 12px;\n",
       "    margin-top: 50px;\n",
       "    transition-duration: 0.4s;\n",
       "    cursor: pointer;\n",
       "}\n",
       "\n",
       ".picta-button:hover {\n",
       "    background-color: #002147;\n",
       "    color: white;\n",
       "}\n",
       "\n",
       ".grid-title h1 {\n",
       "    font-family: \"Open Sans\", verdana, arial, sans-serif;\n",
       "    font-weight: normal;\n",
       "}\n",
       "\n",
       ".grid-container {\n",
       "    padding-top: 40px;\n",
       "    background: white;\n",
       "} </style>\n",
       "<script> /** vim: et:ts=4:sw=4:sts=4\n",
       " * @license RequireJS 2.3.6 Copyright jQuery Foundation and other contributors.\n",
       " * Released under MIT license, https://github.com/requirejs/requirejs/blob/master/LICENSE\n",
       " */\n",
       "var requirejs,require,define;!function(global,setTimeout){var req,s,head,baseElement,dataMain,src,interactiveScript,currentlyAddingScript,mainScript,subPath,version=\"2.3.6\",commentRegExp=/\\/\\*[\\s\\S]*?\\*\\/|([^:\"'=]|^)\\/\\/.*$/gm,cjsRequireRegExp=/[^.]\\s*require\\s*\\(\\s*[\"']([^'\"\\s]+)[\"']\\s*\\)/g,jsSuffixRegExp=/\\.js$/,currDirRegExp=/^\\.\\//,op=Object.prototype,ostring=op.toString,hasOwn=op.hasOwnProperty,isBrowser=!(\"undefined\"==typeof window||\"undefined\"==typeof navigator||!window.document),isWebWorker=!isBrowser&&\"undefined\"!=typeof importScripts,readyRegExp=isBrowser&&\"PLAYSTATION 3\"===navigator.platform?/^complete$/:/^(complete|loaded)$/,defContextName=\"_\",isOpera=\"undefined\"!=typeof opera&&\"[object Opera]\"===opera.toString(),contexts={},cfg={},globalDefQueue=[],useInteractive=!1;function commentReplace(e,t){return t||\"\"}function isFunction(e){return\"[object Function]\"===ostring.call(e)}function isArray(e){return\"[object Array]\"===ostring.call(e)}function each(e,t){var i;if(e)for(i=0;i<e.length&&(!e[i]||!t(e[i],i,e));i+=1);}function eachReverse(e,t){var i;if(e)for(i=e.length-1;-1<i&&(!e[i]||!t(e[i],i,e));i-=1);}function hasProp(e,t){return hasOwn.call(e,t)}function getOwn(e,t){return hasProp(e,t)&&e[t]}function eachProp(e,t){var i;for(i in e)if(hasProp(e,i)&&t(e[i],i))break}function mixin(i,e,r,n){return e&&eachProp(e,function(e,t){!r&&hasProp(i,t)||(!n||\"object\"!=typeof e||!e||isArray(e)||isFunction(e)||e instanceof RegExp?i[t]=e:(i[t]||(i[t]={}),mixin(i[t],e,r,n)))}),i}function bind(e,t){return function(){return t.apply(e,arguments)}}function scripts(){return document.getElementsByTagName(\"script\")}function defaultOnError(e){throw e}function getGlobal(e){if(!e)return e;var t=global;return each(e.split(\".\"),function(e){t=t[e]}),t}function makeError(e,t,i,r){var n=new Error(t+\"\\nhttps://requirejs.org/docs/errors.html#\"+e);return n.requireType=e,n.requireModules=r,i&&(n.originalError=i),n}if(void 0===define){if(void 0!==requirejs){if(isFunction(requirejs))return;cfg=requirejs,requirejs=void 0}void 0===require||isFunction(require)||(cfg=require,require=void 0),req=requirejs=function(e,t,i,r){var n,o,a=defContextName;return isArray(e)||\"string\"==typeof e||(o=e,isArray(t)?(e=t,t=i,i=r):e=[]),o&&o.context&&(a=o.context),(n=getOwn(contexts,a))||(n=contexts[a]=req.s.newContext(a)),o&&n.configure(o),n.require(e,t,i)},req.config=function(e){return req(e)},req.nextTick=void 0!==setTimeout?function(e){setTimeout(e,4)}:function(e){e()},require||(require=req),req.version=version,req.jsExtRegExp=/^\\/|:|\\?|\\.js$/,req.isBrowser=isBrowser,s=req.s={contexts:contexts,newContext:newContext},req({}),each([\"toUrl\",\"undef\",\"defined\",\"specified\"],function(t){req[t]=function(){var e=contexts[defContextName];return e.require[t].apply(e,arguments)}}),isBrowser&&(head=s.head=document.getElementsByTagName(\"head\")[0],baseElement=document.getElementsByTagName(\"base\")[0],baseElement&&(head=s.head=baseElement.parentNode)),req.onError=defaultOnError,req.createNode=function(e,t,i){var r=e.xhtml?document.createElementNS(\"http://www.w3.org/1999/xhtml\",\"html:script\"):document.createElement(\"script\");return r.type=e.scriptType||\"text/javascript\",r.charset=\"utf-8\",r.async=!0,r},req.load=function(t,i,r){var e,n=t&&t.config||{};if(isBrowser)return(e=req.createNode(n,i,r)).setAttribute(\"data-requirecontext\",t.contextName),e.setAttribute(\"data-requiremodule\",i),!e.attachEvent||e.attachEvent.toString&&e.attachEvent.toString().indexOf(\"[native code\")<0||isOpera?(e.addEventListener(\"load\",t.onScriptLoad,!1),e.addEventListener(\"error\",t.onScriptError,!1)):(useInteractive=!0,e.attachEvent(\"onreadystatechange\",t.onScriptLoad)),e.src=r,n.onNodeCreated&&n.onNodeCreated(e,n,i,r),currentlyAddingScript=e,baseElement?head.insertBefore(e,baseElement):head.appendChild(e),currentlyAddingScript=null,e;if(isWebWorker)try{setTimeout(function(){},0),importScripts(r),t.completeLoad(i)}catch(e){t.onError(makeError(\"importscripts\",\"importScripts failed for \"+i+\" at \"+r,e,[i]))}},isBrowser&&!cfg.skipDataMain&&eachReverse(scripts(),function(e){if(head||(head=e.parentNode),dataMain=e.getAttribute(\"data-main\"))return mainScript=dataMain,cfg.baseUrl||-1!==mainScript.indexOf(\"!\")||(mainScript=(src=mainScript.split(\"/\")).pop(),subPath=src.length?src.join(\"/\")+\"/\":\"./\",cfg.baseUrl=subPath),mainScript=mainScript.replace(jsSuffixRegExp,\"\"),req.jsExtRegExp.test(mainScript)&&(mainScript=dataMain),cfg.deps=cfg.deps?cfg.deps.concat(mainScript):[mainScript],!0}),define=function(e,i,t){var r,n;\"string\"!=typeof e&&(t=i,i=e,e=null),isArray(i)||(t=i,i=null),!i&&isFunction(t)&&(i=[],t.length&&(t.toString().replace(commentRegExp,commentReplace).replace(cjsRequireRegExp,function(e,t){i.push(t)}),i=(1===t.length?[\"require\"]:[\"require\",\"exports\",\"module\"]).concat(i))),useInteractive&&(r=currentlyAddingScript||getInteractiveScript())&&(e||(e=r.getAttribute(\"data-requiremodule\")),n=contexts[r.getAttribute(\"data-requirecontext\")]),n?(n.defQueue.push([e,i,t]),n.defQueueMap[e]=!0):globalDefQueue.push([e,i,t])},define.amd={jQuery:!0},req.exec=function(text){return eval(text)},req(cfg)}function newContext(u){var i,e,l,c,d,g={waitSeconds:7,baseUrl:\"./\",paths:{},bundles:{},pkgs:{},shim:{},config:{}},p={},f={},r={},h=[],m={},n={},v={},x=1,b=1;function q(e,t,i){var r,n,o,a,s,u,c,d,p,f,l=t&&t.split(\"/\"),h=g.map,m=h&&h[\"*\"];if(e&&(u=(e=e.split(\"/\")).length-1,g.nodeIdCompat&&jsSuffixRegExp.test(e[u])&&(e[u]=e[u].replace(jsSuffixRegExp,\"\")),\".\"===e[0].charAt(0)&&l&&(e=l.slice(0,l.length-1).concat(e)),function(e){var t,i;for(t=0;t<e.length;t++)if(\".\"===(i=e[t]))e.splice(t,1),t-=1;else if(\"..\"===i){if(0===t||1===t&&\"..\"===e[2]||\"..\"===e[t-1])continue;0<t&&(e.splice(t-1,2),t-=2)}}(e),e=e.join(\"/\")),i&&h&&(l||m)){e:for(o=(n=e.split(\"/\")).length;0<o;o-=1){if(s=n.slice(0,o).join(\"/\"),l)for(a=l.length;0<a;a-=1)if((r=getOwn(h,l.slice(0,a).join(\"/\")))&&(r=getOwn(r,s))){c=r,d=o;break e}!p&&m&&getOwn(m,s)&&(p=getOwn(m,s),f=o)}!c&&p&&(c=p,d=f),c&&(n.splice(0,d,c),e=n.join(\"/\"))}return getOwn(g.pkgs,e)||e}function E(t){isBrowser&&each(scripts(),function(e){if(e.getAttribute(\"data-requiremodule\")===t&&e.getAttribute(\"data-requirecontext\")===l.contextName)return e.parentNode.removeChild(e),!0})}function w(e){var t=getOwn(g.paths,e);if(t&&isArray(t)&&1<t.length)return t.shift(),l.require.undef(e),l.makeRequire(null,{skipMap:!0})([e]),!0}function y(e){var t,i=e?e.indexOf(\"!\"):-1;return-1<i&&(t=e.substring(0,i),e=e.substring(i+1,e.length)),[t,e]}function S(e,t,i,r){var n,o,a,s,u=null,c=t?t.name:null,d=e,p=!0,f=\"\";return e||(p=!1,e=\"_@r\"+(x+=1)),u=(s=y(e))[0],e=s[1],u&&(u=q(u,c,r),o=getOwn(m,u)),e&&(u?f=i?e:o&&o.normalize?o.normalize(e,function(e){return q(e,c,r)}):-1===e.indexOf(\"!\")?q(e,c,r):e:(u=(s=y(f=q(e,c,r)))[0],f=s[1],i=!0,n=l.nameToUrl(f))),{prefix:u,name:f,parentMap:t,unnormalized:!!(a=!u||o||i?\"\":\"_unnormalized\"+(b+=1)),url:n,originalName:d,isDefine:p,id:(u?u+\"!\"+f:f)+a}}function k(e){var t=e.id,i=getOwn(p,t);return i||(i=p[t]=new l.Module(e)),i}function M(e,t,i){var r=e.id,n=getOwn(p,r);!hasProp(m,r)||n&&!n.defineEmitComplete?(n=k(e)).error&&\"error\"===t?i(n.error):n.on(t,i):\"defined\"===t&&i(m[r])}function O(i,e){var t=i.requireModules,r=!1;e?e(i):(each(t,function(e){var t=getOwn(p,e);t&&(t.error=i,t.events.error&&(r=!0,t.emit(\"error\",i)))}),r||req.onError(i))}function j(){globalDefQueue.length&&(each(globalDefQueue,function(e){var t=e[0];\"string\"==typeof t&&(l.defQueueMap[t]=!0),h.push(e)}),globalDefQueue=[])}function P(e){delete p[e],delete f[e]}function R(){var e,r,t=1e3*g.waitSeconds,n=t&&l.startTime+t<(new Date).getTime(),o=[],a=[],s=!1,u=!0;if(!i){if(i=!0,eachProp(f,function(e){var t=e.map,i=t.id;if(e.enabled&&(t.isDefine||a.push(e),!e.error))if(!e.inited&&n)w(i)?s=r=!0:(o.push(i),E(i));else if(!e.inited&&e.fetched&&t.isDefine&&(s=!0,!t.prefix))return u=!1}),n&&o.length)return(e=makeError(\"timeout\",\"Load timeout for modules: \"+o,null,o)).contextName=l.contextName,O(e);u&&each(a,function(e){!function n(o,a,s){var e=o.map.id;o.error?o.emit(\"error\",o.error):(a[e]=!0,each(o.depMaps,function(e,t){var i=e.id,r=getOwn(p,i);!r||o.depMatched[t]||s[i]||(getOwn(a,i)?(o.defineDep(t,m[i]),o.check()):n(r,a,s))}),s[e]=!0)}(e,{},{})}),n&&!r||!s||!isBrowser&&!isWebWorker||d||(d=setTimeout(function(){d=0,R()},50)),i=!1}}function a(e){hasProp(m,e[0])||k(S(e[0],null,!0)).init(e[1],e[2])}function o(e,t,i,r){e.detachEvent&&!isOpera?r&&e.detachEvent(r,t):e.removeEventListener(i,t,!1)}function s(e){var t=e.currentTarget||e.srcElement;return o(t,l.onScriptLoad,\"load\",\"onreadystatechange\"),o(t,l.onScriptError,\"error\"),{node:t,id:t&&t.getAttribute(\"data-requiremodule\")}}function T(){var e;for(j();h.length;){if(null===(e=h.shift())[0])return O(makeError(\"mismatch\",\"Mismatched anonymous define() module: \"+e[e.length-1]));a(e)}l.defQueueMap={}}return c={require:function(e){return e.require?e.require:e.require=l.makeRequire(e.map)},exports:function(e){if(e.usingExports=!0,e.map.isDefine)return e.exports?m[e.map.id]=e.exports:e.exports=m[e.map.id]={}},module:function(e){return e.module?e.module:e.module={id:e.map.id,uri:e.map.url,config:function(){return getOwn(g.config,e.map.id)||{}},exports:e.exports||(e.exports={})}}},(e=function(e){this.events=getOwn(r,e.id)||{},this.map=e,this.shim=getOwn(g.shim,e.id),this.depExports=[],this.depMaps=[],this.depMatched=[],this.pluginMaps={},this.depCount=0}).prototype={init:function(e,t,i,r){r=r||{},this.inited||(this.factory=t,i?this.on(\"error\",i):this.events.error&&(i=bind(this,function(e){this.emit(\"error\",e)})),this.depMaps=e&&e.slice(0),this.errback=i,this.inited=!0,this.ignore=r.ignore,r.enabled||this.enabled?this.enable():this.check())},defineDep:function(e,t){this.depMatched[e]||(this.depMatched[e]=!0,this.depCount-=1,this.depExports[e]=t)},fetch:function(){if(!this.fetched){this.fetched=!0,l.startTime=(new Date).getTime();var e=this.map;if(!this.shim)return e.prefix?this.callPlugin():this.load();l.makeRequire(this.map,{enableBuildCallback:!0})(this.shim.deps||[],bind(this,function(){return e.prefix?this.callPlugin():this.load()}))}},load:function(){var e=this.map.url;n[e]||(n[e]=!0,l.load(this.map.id,e))},check:function(){if(this.enabled&&!this.enabling){var t,e,i=this.map.id,r=this.depExports,n=this.exports,o=this.factory;if(this.inited){if(this.error)this.emit(\"error\",this.error);else if(!this.defining){if(this.defining=!0,this.depCount<1&&!this.defined){if(isFunction(o)){if(this.events.error&&this.map.isDefine||req.onError!==defaultOnError)try{n=l.execCb(i,o,r,n)}catch(e){t=e}else n=l.execCb(i,o,r,n);if(this.map.isDefine&&void 0===n&&((e=this.module)?n=e.exports:this.usingExports&&(n=this.exports)),t)return t.requireMap=this.map,t.requireModules=this.map.isDefine?[this.map.id]:null,t.requireType=this.map.isDefine?\"define\":\"require\",O(this.error=t)}else n=o;if(this.exports=n,this.map.isDefine&&!this.ignore&&(m[i]=n,req.onResourceLoad)){var a=[];each(this.depMaps,function(e){a.push(e.normalizedMap||e)}),req.onResourceLoad(l,this.map,a)}P(i),this.defined=!0}this.defining=!1,this.defined&&!this.defineEmitted&&(this.defineEmitted=!0,this.emit(\"defined\",this.exports),this.defineEmitComplete=!0)}}else hasProp(l.defQueueMap,i)||this.fetch()}},callPlugin:function(){var u=this.map,c=u.id,e=S(u.prefix);this.depMaps.push(e),M(e,\"defined\",bind(this,function(e){var o,t,i,r=getOwn(v,this.map.id),n=this.map.name,a=this.map.parentMap?this.map.parentMap.name:null,s=l.makeRequire(u.parentMap,{enableBuildCallback:!0});return this.map.unnormalized?(e.normalize&&(n=e.normalize(n,function(e){return q(e,a,!0)})||\"\"),M(t=S(u.prefix+\"!\"+n,this.map.parentMap,!0),\"defined\",bind(this,function(e){this.map.normalizedMap=t,this.init([],function(){return e},null,{enabled:!0,ignore:!0})})),void((i=getOwn(p,t.id))&&(this.depMaps.push(t),this.events.error&&i.on(\"error\",bind(this,function(e){this.emit(\"error\",e)})),i.enable()))):r?(this.map.url=l.nameToUrl(r),void this.load()):((o=bind(this,function(e){this.init([],function(){return e},null,{enabled:!0})})).error=bind(this,function(e){this.inited=!0,(this.error=e).requireModules=[c],eachProp(p,function(e){0===e.map.id.indexOf(c+\"_unnormalized\")&&P(e.map.id)}),O(e)}),o.fromText=bind(this,function(e,t){var i=u.name,r=S(i),n=useInteractive;t&&(e=t),n&&(useInteractive=!1),k(r),hasProp(g.config,c)&&(g.config[i]=g.config[c]);try{req.exec(e)}catch(e){return O(makeError(\"fromtexteval\",\"fromText eval for \"+c+\" failed: \"+e,e,[c]))}n&&(useInteractive=!0),this.depMaps.push(r),l.completeLoad(i),s([i],o)}),void e.load(u.name,s,o,g))})),l.enable(e,this),this.pluginMaps[e.id]=e},enable:function(){(f[this.map.id]=this).enabled=!0,this.enabling=!0,each(this.depMaps,bind(this,function(e,t){var i,r,n;if(\"string\"==typeof e){if(e=S(e,this.map.isDefine?this.map:this.map.parentMap,!1,!this.skipMap),this.depMaps[t]=e,n=getOwn(c,e.id))return void(this.depExports[t]=n(this));this.depCount+=1,M(e,\"defined\",bind(this,function(e){this.undefed||(this.defineDep(t,e),this.check())})),this.errback?M(e,\"error\",bind(this,this.errback)):this.events.error&&M(e,\"error\",bind(this,function(e){this.emit(\"error\",e)}))}i=e.id,r=p[i],hasProp(c,i)||!r||r.enabled||l.enable(e,this)})),eachProp(this.pluginMaps,bind(this,function(e){var t=getOwn(p,e.id);t&&!t.enabled&&l.enable(e,this)})),this.enabling=!1,this.check()},on:function(e,t){var i=this.events[e];i||(i=this.events[e]=[]),i.push(t)},emit:function(e,t){each(this.events[e],function(e){e(t)}),\"error\"===e&&delete this.events[e]}},(l={config:g,contextName:u,registry:p,defined:m,urlFetched:n,defQueue:h,defQueueMap:{},Module:e,makeModuleMap:S,nextTick:req.nextTick,onError:O,configure:function(e){if(e.baseUrl&&\"/\"!==e.baseUrl.charAt(e.baseUrl.length-1)&&(e.baseUrl+=\"/\"),\"string\"==typeof e.urlArgs){var i=e.urlArgs;e.urlArgs=function(e,t){return(-1===t.indexOf(\"?\")?\"?\":\"&\")+i}}var r=g.shim,n={paths:!0,bundles:!0,config:!0,map:!0};eachProp(e,function(e,t){n[t]?(g[t]||(g[t]={}),mixin(g[t],e,!0,!0)):g[t]=e}),e.bundles&&eachProp(e.bundles,function(e,t){each(e,function(e){e!==t&&(v[e]=t)})}),e.shim&&(eachProp(e.shim,function(e,t){isArray(e)&&(e={deps:e}),!e.exports&&!e.init||e.exportsFn||(e.exportsFn=l.makeShimExports(e)),r[t]=e}),g.shim=r),e.packages&&each(e.packages,function(e){var t;t=(e=\"string\"==typeof e?{name:e}:e).name,e.location&&(g.paths[t]=e.location),g.pkgs[t]=e.name+\"/\"+(e.main||\"main\").replace(currDirRegExp,\"\").replace(jsSuffixRegExp,\"\")}),eachProp(p,function(e,t){e.inited||e.map.unnormalized||(e.map=S(t,null,!0))}),(e.deps||e.callback)&&l.require(e.deps||[],e.callback)},makeShimExports:function(t){return function(){var e;return t.init&&(e=t.init.apply(global,arguments)),e||t.exports&&getGlobal(t.exports)}},makeRequire:function(o,a){function s(e,t,i){var r,n;return a.enableBuildCallback&&t&&isFunction(t)&&(t.__requireJsBuild=!0),\"string\"==typeof e?isFunction(t)?O(makeError(\"requireargs\",\"Invalid require call\"),i):o&&hasProp(c,e)?c[e](p[o.id]):req.get?req.get(l,e,o,s):(r=S(e,o,!1,!0).id,hasProp(m,r)?m[r]:O(makeError(\"notloaded\",'Module name \"'+r+'\" has not been loaded yet for context: '+u+(o?\"\":\". Use require([])\")))):(T(),l.nextTick(function(){T(),(n=k(S(null,o))).skipMap=a.skipMap,n.init(e,t,i,{enabled:!0}),R()}),s)}return a=a||{},mixin(s,{isBrowser:isBrowser,toUrl:function(e){var t,i=e.lastIndexOf(\".\"),r=e.split(\"/\")[0];return-1!==i&&(!(\".\"===r||\"..\"===r)||1<i)&&(t=e.substring(i,e.length),e=e.substring(0,i)),l.nameToUrl(q(e,o&&o.id,!0),t,!0)},defined:function(e){return hasProp(m,S(e,o,!1,!0).id)},specified:function(e){return e=S(e,o,!1,!0).id,hasProp(m,e)||hasProp(p,e)}}),o||(s.undef=function(i){j();var e=S(i,o,!0),t=getOwn(p,i);t.undefed=!0,E(i),delete m[i],delete n[e.url],delete r[i],eachReverse(h,function(e,t){e[0]===i&&h.splice(t,1)}),delete l.defQueueMap[i],t&&(t.events.defined&&(r[i]=t.events),P(i))}),s},enable:function(e){getOwn(p,e.id)&&k(e).enable()},completeLoad:function(e){var t,i,r,n=getOwn(g.shim,e)||{},o=n.exports;for(j();h.length;){if(null===(i=h.shift())[0]){if(i[0]=e,t)break;t=!0}else i[0]===e&&(t=!0);a(i)}if(l.defQueueMap={},r=getOwn(p,e),!t&&!hasProp(m,e)&&r&&!r.inited){if(!(!g.enforceDefine||o&&getGlobal(o)))return w(e)?void 0:O(makeError(\"nodefine\",\"No define call for \"+e,null,[e]));a([e,n.deps||[],n.exportsFn])}R()},nameToUrl:function(e,t,i){var r,n,o,a,s,u,c=getOwn(g.pkgs,e);if(c&&(e=c),u=getOwn(v,e))return l.nameToUrl(u,t,i);if(req.jsExtRegExp.test(e))a=e+(t||\"\");else{for(r=g.paths,o=(n=e.split(\"/\")).length;0<o;o-=1)if(s=getOwn(r,n.slice(0,o).join(\"/\"))){isArray(s)&&(s=s[0]),n.splice(0,o,s);break}a=n.join(\"/\"),a=(\"/\"===(a+=t||(/^data\\:|^blob\\:|\\?/.test(a)||i?\"\":\".js\")).charAt(0)||a.match(/^[\\w\\+\\.\\-]+:/)?\"\":g.baseUrl)+a}return g.urlArgs&&!/^blob\\:/.test(a)?a+g.urlArgs(e,a):a},load:function(e,t){req.load(l,e,t)},execCb:function(e,t,i,r){return t.apply(r,i)},onScriptLoad:function(e){if(\"load\"===e.type||readyRegExp.test((e.currentTarget||e.srcElement).readyState)){interactiveScript=null;var t=s(e);l.completeLoad(t.id)}},onScriptError:function(e){var i=s(e);if(!w(i.id)){var r=[];return eachProp(p,function(e,t){0!==t.indexOf(\"_@r\")&&each(e.depMaps,function(e){if(e.id===i.id)return r.push(t),!0})}),O(makeError(\"scripterror\",'Script error for \"'+i.id+(r.length?'\", needed by: '+r.join(\", \"):'\"'),e,[i.id]))}}}).require=l.makeRequire(),l}function getInteractiveScript(){return interactiveScript&&\"interactive\"===interactiveScript.readyState||eachReverse(scripts(),function(e){if(\"interactive\"===e.readyState)return interactiveScript=e}),interactiveScript}}(this,\"undefined\"==typeof setTimeout?void 0:setTimeout); </script>\n",
       "<script> /*! dom-to-image 10-06-2017 */\n",
       "!function(a){\"use strict\";function b(a,b){function c(a){return b.bgcolor&&(a.style.backgroundColor=b.bgcolor),b.width&&(a.style.width=b.width+\"px\"),b.height&&(a.style.height=b.height+\"px\"),b.style&&Object.keys(b.style).forEach(function(c){a.style[c]=b.style[c]}),a}return b=b||{},g(b),Promise.resolve(a).then(function(a){return i(a,b.filter,!0)}).then(j).then(k).then(c).then(function(c){return l(c,b.width||q.width(a),b.height||q.height(a))})}function c(a,b){return h(a,b||{}).then(function(b){return b.getContext(\"2d\").getImageData(0,0,q.width(a),q.height(a)).data})}function d(a,b){return h(a,b||{}).then(function(a){return a.toDataURL()})}function e(a,b){return b=b||{},h(a,b).then(function(a){return a.toDataURL(\"image/jpeg\",b.quality||1)})}function f(a,b){return h(a,b||{}).then(q.canvasToBlob)}function g(a){\"undefined\"==typeof a.imagePlaceholder?v.impl.options.imagePlaceholder=u.imagePlaceholder:v.impl.options.imagePlaceholder=a.imagePlaceholder,\"undefined\"==typeof a.cacheBust?v.impl.options.cacheBust=u.cacheBust:v.impl.options.cacheBust=a.cacheBust}function h(a,c){function d(a){var b=document.createElement(\"canvas\");if(b.width=c.width||q.width(a),b.height=c.height||q.height(a),c.bgcolor){var d=b.getContext(\"2d\");d.fillStyle=c.bgcolor,d.fillRect(0,0,b.width,b.height)}return b}return b(a,c).then(q.makeImage).then(q.delay(100)).then(function(b){var c=d(a);return c.getContext(\"2d\").drawImage(b,0,0),c})}function i(a,b,c){function d(a){return a instanceof HTMLCanvasElement?q.makeImage(a.toDataURL()):a.cloneNode(!1)}function e(a,b,c){function d(a,b,c){var d=Promise.resolve();return b.forEach(function(b){d=d.then(function(){return i(b,c)}).then(function(b){b&&a.appendChild(b)})}),d}var e=a.childNodes;return 0===e.length?Promise.resolve(b):d(b,q.asArray(e),c).then(function(){return b})}function f(a,b){function c(){function c(a,b){function c(a,b){q.asArray(a).forEach(function(c){b.setProperty(c,a.getPropertyValue(c),a.getPropertyPriority(c))})}a.cssText?b.cssText=a.cssText:c(a,b)}c(window.getComputedStyle(a),b.style)}function d(){function c(c){function d(a,b,c){function d(a){var b=a.getPropertyValue(\"content\");return a.cssText+\" content: \"+b+\";\"}function e(a){function b(b){return b+\": \"+a.getPropertyValue(b)+(a.getPropertyPriority(b)?\" !important\":\"\")}return q.asArray(a).map(b).join(\"; \")+\";\"}var f=\".\"+a+\":\"+b,g=c.cssText?d(c):e(c);return document.createTextNode(f+\"{\"+g+\"}\")}var e=window.getComputedStyle(a,c),f=e.getPropertyValue(\"content\");if(\"\"!==f&&\"none\"!==f){var g=q.uid();b.className=b.className+\" \"+g;var h=document.createElement(\"style\");h.appendChild(d(g,c,e)),b.appendChild(h)}}[\":before\",\":after\"].forEach(function(a){c(a)})}function e(){a instanceof HTMLTextAreaElement&&(b.innerHTML=a.value),a instanceof HTMLInputElement&&b.setAttribute(\"value\",a.value)}function f(){b instanceof SVGElement&&(b.setAttribute(\"xmlns\",\"http://www.w3.org/2000/svg\"),b instanceof SVGRectElement&&[\"width\",\"height\"].forEach(function(a){var c=b.getAttribute(a);c&&b.style.setProperty(a,c)}))}return b instanceof Element?Promise.resolve().then(c).then(d).then(e).then(f).then(function(){return b}):b}return c||!b||b(a)?Promise.resolve(a).then(d).then(function(c){return e(a,c,b)}).then(function(b){return f(a,b)}):Promise.resolve()}function j(a){return s.resolveAll().then(function(b){var c=document.createElement(\"style\");return a.appendChild(c),c.appendChild(document.createTextNode(b)),a})}function k(a){return t.inlineAll(a).then(function(){return a})}function l(a,b,c){return Promise.resolve(a).then(function(a){return a.setAttribute(\"xmlns\",\"http://www.w3.org/1999/xhtml\"),(new XMLSerializer).serializeToString(a)}).then(q.escapeXhtml).then(function(a){return'<foreignObject x=\"0\" y=\"0\" width=\"100%\" height=\"100%\">'+a+\"</foreignObject>\"}).then(function(a){return'<svg xmlns=\"http://www.w3.org/2000/svg\" width=\"'+b+'\" height=\"'+c+'\">'+a+\"</svg>\"}).then(function(a){return\"data:image/svg+xml;charset=utf-8,\"+a})}function m(){function a(){var a=\"application/font-woff\",b=\"image/jpeg\";return{woff:a,woff2:a,ttf:\"application/font-truetype\",eot:\"application/vnd.ms-fontobject\",png:\"image/png\",jpg:b,jpeg:b,gif:\"image/gif\",tiff:\"image/tiff\",svg:\"image/svg+xml\"}}function b(a){var b=/\\.([^\\.\\/]*?)$/g.exec(a);return b?b[1]:\"\"}function c(c){var d=b(c).toLowerCase();return a()[d]||\"\"}function d(a){return a.search(/^(data:)/)!==-1}function e(a){return new Promise(function(b){for(var c=window.atob(a.toDataURL().split(\",\")[1]),d=c.length,e=new Uint8Array(d),f=0;f<d;f++)e[f]=c.charCodeAt(f);b(new Blob([e],{type:\"image/png\"}))})}function f(a){return a.toBlob?new Promise(function(b){a.toBlob(b)}):e(a)}function g(a,b){var c=document.implementation.createHTMLDocument(),d=c.createElement(\"base\");c.head.appendChild(d);var e=c.createElement(\"a\");return c.body.appendChild(e),d.href=b,e.href=a,e.href}function h(){var a=0;return function(){function b(){return(\"0000\"+(Math.random()*Math.pow(36,4)<<0).toString(36)).slice(-4)}return\"u\"+b()+a++}}function i(a){return new Promise(function(b,c){var d=new Image;d.onload=function(){b(d)},d.onerror=c,d.src=a})}function j(a){var b=3e4;return v.impl.options.cacheBust&&(a+=(/\\?/.test(a)?\"&\":\"?\")+(new Date).getTime()),new Promise(function(c){function d(){if(4===g.readyState){if(200!==g.status)return void(h?c(h):f(\"cannot fetch resource: \"+a+\", status: \"+g.status));var b=new FileReader;b.onloadend=function(){var a=b.result.split(/,/)[1];c(a)},b.readAsDataURL(g.response)}}function e(){h?c(h):f(\"timeout of \"+b+\"ms occured while fetching resource: \"+a)}function f(a){console.error(a),c(\"\")}var g=new XMLHttpRequest;g.onreadystatechange=d,g.ontimeout=e,g.responseType=\"blob\",g.timeout=b,g.open(\"GET\",a,!0),g.send();var h;if(v.impl.options.imagePlaceholder){var i=v.impl.options.imagePlaceholder.split(/,/);i&&i[1]&&(h=i[1])}})}function k(a,b){return\"data:\"+b+\";base64,\"+a}function l(a){return a.replace(/([.*+?^${}()|\\[\\]\\/\\\\])/g,\"\\\\$1\")}function m(a){return function(b){return new Promise(function(c){setTimeout(function(){c(b)},a)})}}function n(a){for(var b=[],c=a.length,d=0;d<c;d++)b.push(a[d]);return b}function o(a){return a.replace(/#/g,\"%23\").replace(/\\n/g,\"%0A\")}function p(a){var b=r(a,\"border-left-width\"),c=r(a,\"border-right-width\");return a.scrollWidth+b+c}function q(a){var b=r(a,\"border-top-width\"),c=r(a,\"border-bottom-width\");return a.scrollHeight+b+c}function r(a,b){var c=window.getComputedStyle(a).getPropertyValue(b);return parseFloat(c.replace(\"px\",\"\"))}return{escape:l,parseExtension:b,mimeType:c,dataAsUrl:k,isDataUrl:d,canvasToBlob:f,resolveUrl:g,getAndEncode:j,uid:h(),delay:m,asArray:n,escapeXhtml:o,makeImage:i,width:p,height:q}}function n(){function a(a){return a.search(e)!==-1}function b(a){for(var b,c=[];null!==(b=e.exec(a));)c.push(b[1]);return c.filter(function(a){return!q.isDataUrl(a)})}function c(a,b,c,d){function e(a){return new RegExp(\"(url\\\\(['\\\"]?)(\"+q.escape(a)+\")(['\\\"]?\\\\))\",\"g\")}return Promise.resolve(b).then(function(a){return c?q.resolveUrl(a,c):a}).then(d||q.getAndEncode).then(function(a){return q.dataAsUrl(a,q.mimeType(b))}).then(function(c){return a.replace(e(b),\"$1\"+c+\"$3\")})}function d(d,e,f){function g(){return!a(d)}return g()?Promise.resolve(d):Promise.resolve(d).then(b).then(function(a){var b=Promise.resolve(d);return a.forEach(function(a){b=b.then(function(b){return c(b,a,e,f)})}),b})}var e=/url\\(['\"]?([^'\"]+?)['\"]?\\)/g;return{inlineAll:d,shouldProcess:a,impl:{readUrls:b,inline:c}}}function o(){function a(){return b(document).then(function(a){return Promise.all(a.map(function(a){return a.resolve()}))}).then(function(a){return a.join(\"\\n\")})}function b(){function a(a){return a.filter(function(a){return a.type===CSSRule.FONT_FACE_RULE}).filter(function(a){return r.shouldProcess(a.style.getPropertyValue(\"src\"))})}function b(a){var b=[];return a.forEach(function(a){try{q.asArray(a.cssRules||[]).forEach(b.push.bind(b))}catch(c){console.log(\"Error while reading CSS rules from \"+a.href,c.toString())}}),b}function c(a){return{resolve:function(){var b=(a.parentStyleSheet||{}).href;return r.inlineAll(a.cssText,b)},src:function(){return a.style.getPropertyValue(\"src\")}}}return Promise.resolve(q.asArray(document.styleSheets)).then(b).then(a).then(function(a){return a.map(c)})}return{resolveAll:a,impl:{readAll:b}}}function p(){function a(a){function b(b){return q.isDataUrl(a.src)?Promise.resolve():Promise.resolve(a.src).then(b||q.getAndEncode).then(function(b){return q.dataAsUrl(b,q.mimeType(a.src))}).then(function(b){return new Promise(function(c,d){a.onload=c,a.onerror=d,a.src=b})})}return{inline:b}}function b(c){function d(a){var b=a.style.getPropertyValue(\"background\");return b?r.inlineAll(b).then(function(b){a.style.setProperty(\"background\",b,a.style.getPropertyPriority(\"background\"))}).then(function(){return a}):Promise.resolve(a)}return c instanceof Element?d(c).then(function(){return c instanceof HTMLImageElement?a(c).inline():Promise.all(q.asArray(c.childNodes).map(function(a){return b(a)}))}):Promise.resolve(c)}return{inlineAll:b,impl:{newImage:a}}}var q=m(),r=n(),s=o(),t=p(),u={imagePlaceholder:void 0,cacheBust:!1},v={toSvg:b,toPng:d,toJpeg:e,toBlob:f,toPixelData:c,impl:{fontFaces:s,images:t,util:q,inliner:r,options:{}}};\"undefined\"!=typeof module?module.exports=v:a.domtoimage=v}(this); </script>\n",
       "<script>\n",
       " require.config({\n",
       "   paths: {\n",
       "     'plotly': \"https://cdn.plot.ly/plotly-latest.min\",\n",
       "     'macy': \"https://cdn.jsdelivr.net/npm/macy@2.5.1/dist/macy.min\"\n",
       "   },\n",
       " })\n",
       "require( ['plotly', 'macy'], function(Plotly, Macy) {\n",
       " window.Plotly = Plotly;\n",
       " window.Macy = Macy;\n",
       "})\n",
       "</script>\n"
      ]
     },
     "metadata": {},
     "output_type": "display_data"
    },
    {
     "data": {
      "text/plain": [
       "\u001b[32mimport \u001b[39m\u001b[36m$ivy.$                                  \n",
       "\n",
       "\u001b[39m\n",
       "\u001b[32mimport \u001b[39m\u001b[36morg.carbonateresearch.picta.render.Html.initNotebook\n",
       "\u001b[39m\n",
       "\u001b[32mimport \u001b[39m\u001b[36morg.carbonateresearch.picta._\n",
       "\n",
       "\u001b[39m\n",
       "\u001b[32mimport \u001b[39m\u001b[36morg.carbonateresearch.picta.options._\u001b[39m"
      ]
     },
     "execution_count": 2,
     "metadata": {},
     "output_type": "execute_result"
    }
   ],
   "source": [
    "import $ivy. `org.carbonateresearch::picta:0.1`\n",
    "\n",
    "import org.carbonateresearch.picta.render.Html.initNotebook\n",
    "initNotebook()\n",
    "\n",
    "import org.carbonateresearch.picta._\n",
    "\n",
    "import org.carbonateresearch.picta.options._"
   ]
  },
  {
   "cell_type": "code",
   "execution_count": 3,
   "metadata": {},
   "outputs": [],
   "source": [
    "// lets create some dummy adata for the third dimension\n",
    "val x = List(-9, -6, -5 , -3, -1)\n",
    "val y = List(0, 1, 4, 5, 7)\n",
    "val z = List(\n",
    "    List(10, 10.625, 12.5, 15.625, 20),\n",
    "    List(5.625, 6.25, 8.125, 11.25, 15.625),\n",
    "    List(2.5, 3.125, 5.0, 8.125, 12.5),\n",
    "    List(0.625, 1.25, 3.125, 6.25, 10.625),\n",
    "    List(0, 0.625, 2.5, 5.625, 10)\n",
    ")"
   ]
  },
  {
   "cell_type": "code",
   "execution_count": 4,
   "metadata": {},
   "outputs": [
    {
     "data": {
      "text/html": [
       "<div id=\"grid-container_ZqjWIbnqzz\" class=\"grid-container\" align=\"center\"> \n",
       "<div id=\"grid_ZqjWIbnqzz\" class=\"grid\" align=\"center\"> \n",
       "<div id=\"graph_gDQ88KfGHa\" class=\"graph\"></div> \n",
       "</div> \n",
       "</div> \n",
       "<script>\n",
       "var masonry = new Macy({\n",
       "    container: '#grid_ZqjWIbnqzz',\n",
       "    debug: true,\n",
       "    mobileFirst: true,\n",
       "    columns: 1,\n",
       "    margin: {\n",
       "        x: 0,\n",
       "        y: 0\n",
       "    }\n",
       "  });\n",
       "\n",
       " var traces_gDQ88KfGHa = [{\"name\":\"NuV5S6ep37\",\"type\":\"contour\",\"x\":[-9,-6,-5,-3,-1],\"y\":[0,1,4,5,7],\"z\":[[10,10.625,12.5,15.625,20],[5.625,6.25,8.125,11.25,15.625],[2.5,3.125,5,8.125,12.5],[0.625,1.25,3.125,6.25,10.625],[0,0.625,2.5,5.625,10]]}];\n",
       " var layout_gDQ88KfGHa = {\"height\":550,\"width\":600,\"hovermode\":\"closest\",\"legend\":{\"orientation\":\"v\"},\"title\":{\"text\":\"Contour\"},\"showlegend\":true};\n",
       " var config_gDQ88KfGHa = {\"responsive\":true,\"scrollZoom\":true,\"displaylogo\":false};\n",
       " Plotly.newPlot(\"graph_gDQ88KfGHa\", traces_gDQ88KfGHa, layout_gDQ88KfGHa, config_gDQ88KfGHa);\n",
       "</script> \n"
      ]
     },
     "metadata": {},
     "output_type": "display_data"
    }
   ],
   "source": [
    "// we flatten the nested list as we pass it into the Series constructor\n",
    "val contour = XYZ(x=x, y=y, z=z.flatten, n=z(0).length).asType(CONTOUR)\n",
    "\n",
    "// set up the chart\n",
    "val chart1 = Chart()\n",
    "            .addSeries(contour)\n",
    "            .setTitle(\"Contour\")\n",
    "\n",
    "// plot the chart\n",
    "chart1.plotInline"
   ]
  },
  {
   "cell_type": "code",
   "execution_count": 5,
   "metadata": {
    "scrolled": false
   },
   "outputs": [
    {
     "data": {
      "text/html": [
       "<div id=\"grid-container_qU48MJGBW2\" class=\"grid-container\" align=\"center\"> \n",
       "<div id=\"grid_qU48MJGBW2\" class=\"grid\" align=\"center\"> \n",
       "<div id=\"graph_gX1RC9zAXA\" class=\"graph\"></div> \n",
       "</div> \n",
       "</div> \n",
       "<script>\n",
       "var masonry = new Macy({\n",
       "    container: '#grid_qU48MJGBW2',\n",
       "    debug: true,\n",
       "    mobileFirst: true,\n",
       "    columns: 1,\n",
       "    margin: {\n",
       "        x: 0,\n",
       "        y: 0\n",
       "    }\n",
       "  });\n",
       "\n",
       " var traces_gX1RC9zAXA = [{\"name\":\"JMSP0jlqII\",\"type\":\"heatmap\",\"z\":[[10,10.625,12.5,15.625,20],[5.625,6.25,8.125,11.25,15.625],[2.5,3.125,5,8.125,12.5],[0.625,1.25,3.125,6.25,10.625],[0,0.625,2.5,5.625,10]]}];\n",
       " var layout_gX1RC9zAXA = {\"height\":550,\"width\":600,\"hovermode\":\"closest\",\"legend\":{\"orientation\":\"v\"},\"title\":{\"text\":\"Heatmap\"},\"showlegend\":true};\n",
       " var config_gX1RC9zAXA = {\"responsive\":true,\"scrollZoom\":true,\"displaylogo\":false};\n",
       " Plotly.newPlot(\"graph_gX1RC9zAXA\", traces_gX1RC9zAXA, layout_gX1RC9zAXA, config_gX1RC9zAXA);\n",
       "</script> \n"
      ]
     },
     "metadata": {},
     "output_type": "display_data"
    }
   ],
   "source": [
    "// we now flatten the list and pass it into Series constructor, as well as 'n', the length of an element so that the \n",
    "// heatmap dimensions are correctly constructed\n",
    "val heatmap = XYZ(z=z.flatten, n=z(0).length) asType HEATMAP\n",
    "\n",
    "val chart2 = Chart() addSeries heatmap setTitle \"Heatmap\"\n",
    "\n",
    "chart2.plotInline"
   ]
  },
  {
   "cell_type": "code",
   "execution_count": 6,
   "metadata": {},
   "outputs": [
    {
     "data": {
      "text/html": [
       "<div id=\"grid-container_MhonhEWlON\" class=\"grid-container\" align=\"center\"> \n",
       "<div id=\"grid_MhonhEWlON\" class=\"grid\" align=\"center\"> \n",
       "<div id=\"graph_t7ftSAoVsF\" class=\"graph\"></div> \n",
       "</div> \n",
       "</div> \n",
       "<script>\n",
       "var masonry = new Macy({\n",
       "    container: '#grid_MhonhEWlON',\n",
       "    debug: true,\n",
       "    mobileFirst: true,\n",
       "    columns: 1,\n",
       "    margin: {\n",
       "        x: 0,\n",
       "        y: 0\n",
       "    }\n",
       "  });\n",
       "\n",
       " var traces_t7ftSAoVsF = [{\"name\":\"GXPZoQ31eh\",\"type\":\"surface\",\"x\":[-9,-6,-5,-3,-1],\"y\":[0,1,4,5,7],\"z\":[[10,10.625,12.5,15.625,20],[5.625,6.25,8.125,11.25,15.625],[2.5,3.125,5,8.125,12.5],[0.625,1.25,3.125,6.25,10.625],[0,0.625,2.5,5.625,10]]}];\n",
       " var layout_t7ftSAoVsF = {\"height\":550,\"width\":600,\"hovermode\":\"closest\",\"legend\":{\"orientation\":\"v\"},\"title\":{\"text\":\"Surface\"},\"showlegend\":true};\n",
       " var config_t7ftSAoVsF = {\"responsive\":false,\"scrollZoom\":false,\"displaylogo\":false};\n",
       " Plotly.newPlot(\"graph_t7ftSAoVsF\", traces_t7ftSAoVsF, layout_t7ftSAoVsF, config_t7ftSAoVsF);\n",
       "</script> \n"
      ]
     },
     "metadata": {},
     "output_type": "display_data"
    }
   ],
   "source": [
    "val surface = XYZ(x=x, y=y, z=z.flatten, n=z(0).length) asType SURFACE\n",
    "\n",
    "val chart3 = Chart() addSeries surface setTitle \"Surface\" setConfig(false, false)\n",
    "\n",
    "chart3.plotInline"
   ]
  },
  {
   "cell_type": "code",
   "execution_count": 7,
   "metadata": {},
   "outputs": [
    {
     "data": {
      "text/html": [
       "<div id=\"grid-container_t48v1R5HK7\" class=\"grid-container\" align=\"center\"> \n",
       "<div id=\"grid_t48v1R5HK7\" class=\"grid\" align=\"center\"> \n",
       "<div id=\"graph_zeIAl0AvkR\" class=\"graph\"></div> \n",
       "</div> \n",
       "</div> \n",
       "<script>\n",
       "var masonry = new Macy({\n",
       "    container: '#grid_t48v1R5HK7',\n",
       "    debug: true,\n",
       "    mobileFirst: true,\n",
       "    columns: 1,\n",
       "    margin: {\n",
       "        x: 0,\n",
       "        y: 0\n",
       "    }\n",
       "  });\n",
       "\n",
       " var traces_zeIAl0AvkR = [{\"name\":\"4gOFwhbJn1\",\"type\":\"scatter3d\",\"mode\":\"lines\",\"x\":[1,2,3,4,5,6,7,8,9,10,11,12,13,14,15,16,17,18,19,20,21,22,23,24,25,26,27,28,29,30,31,32,33,34,35,36,37,38,39,40,41,42,43,44,45,46,47,48,49,50,51,52,53,54,55,56,57,58,59,60,61,62,63,64,65,66,67,68,69,70,71,72,73,74,75,76,77,78,79,80,81,82,83,84,85,86,87,88,89,90,91,92,93,94,95,96,97,98,99],\"y\":[1,2,3,4,5,6,7,8,9,10,11,12,13,14,15,16,17,18,19,20,21,22,23,24,25,26,27,28,29,30,31,32,33,34,35,36,37,38,39,40,41,42,43,44,45,46,47,48,49,50,51,52,53,54,55,56,57,58,59,60,61,62,63,64,65,66,67,68,69,70,71,72,73,74,75,76,77,78,79,80,81,82,83,84,85,86,87,88,89,90,91,92,93,94,95,96,97,98,99],\"z\":[34.74600226824697,85.14117284114005,50.14805772703371,76.85090029705103,102.71641061485329,102.3957953472009,76.18425327615861,37.001255819367145,76.89579250622918,13.816260560806661,73.87965781164155,27.89921780830027,102.93300669742024,113.17128600064606,88.48665862871367,40.13313629049671,109.30278006121189,111.71288150623481,43.209269969115034,26.300431773932136,72.9778374047731,73.11147908339413,110.04727900311076,119.36065000970103,99.08349249901572,111.71816777394821,47.41978814235868,118.15017477102302,86.36396171411056,79.03504486007549,112.383737204497,68.50404167976214,85.54351862162943,114.93479405557495,129.5793721107974,121.65291587182712,96.04451765023576,119.95581043449805,126.47599342772901,82.91101016404005,88.02824756539957,112.90930655624533,125.05778290074475,73.14333316121348,81.35343730695305,74.07000655717533,113.78086204789241,113.09831743487631,60.80119892478261,138.38219783679781,110.4491984586893,106.414568632941,57.79404638631541,95.39805294091165,66.59830426150387,140.9580838937859,82.84056711468406,73.07531097877825,157.04216679379795,150.11898062185605,150.06621412332117,131.09651409846765,144.43017557764227,75.79441744428318,95.44460504705471,66.03224476059687,107.97728711323869,153.00704357429706,153.7226170181757,135.4558461679292,77.97201216335381,92.4559853276976,125.53645766878162,141.02736187027952,123.23326796098307,171.77000509838408,135.84481279109684,171.59955556393228,97.37851343589418,158.83015896648885,157.55910396415672,96.55899808242987,161.581986411303,181.25191805898106,150.12969915765132,116.90040705670201,166.44332055237126,124.9643564716371,141.85099785239305,126.94256457686416,93.65314293838432,191.7967031075509,166.7769934898974,113.12928796095525,129.33373701348123,171.08019890251452,152.39305391748422,118.01909587799376,165.24919636297454]}];\n",
       " var layout_zeIAl0AvkR = {\"height\":550,\"width\":600,\"hovermode\":\"closest\",\"legend\":{\"orientation\":\"v\"},\"title\":{\"text\":\"Line\"},\"showlegend\":true};\n",
       " var config_zeIAl0AvkR = {\"responsive\":false,\"scrollZoom\":false,\"displaylogo\":false};\n",
       " Plotly.newPlot(\"graph_zeIAl0AvkR\", traces_zeIAl0AvkR, layout_zeIAl0AvkR, config_zeIAl0AvkR);\n",
       "</script> \n"
      ]
     },
     "metadata": {},
     "output_type": "display_data"
    }
   ],
   "source": [
    "val x = List.range(1, 100)\n",
    "val y = List.range(1, 100)\n",
    "val z = List.range(1, 100).map(e => e + scala.util.Random.nextDouble()*100)\n",
    "\n",
    "val line = XYZ(x=x, y=y, z=z) asType SCATTER3D drawStyle LINES\n",
    "\n",
    "val chart4 = Chart() addSeries line setTitle \"Line\" setConfig(false, false)\n",
    "\n",
    "chart4.plotInline"
   ]
  },
  {
   "cell_type": "code",
   "execution_count": 10,
   "metadata": {},
   "outputs": [
    {
     "data": {
      "text/html": [
       "<div id=\"grid-container_S9gcD35Wv8\" class=\"grid-container\" align=\"center\"> \n",
       "<div class=\"grid-title\" align=\"center\"> <h1>The Picta Grid</h1> </div> \n",
       "<div id=\"grid_S9gcD35Wv8\" class=\"grid\" align=\"center\"> \n",
       "<div id=\"graph_ODRz6u51vD\" class=\"graph\"></div> \n",
       "<div id=\"graph_rph3NpdI0o\" class=\"graph\"></div> \n",
       "</div> \n",
       "</div> \n",
       "\n",
       "<div align=\"center\">\n",
       "<button id = \"saveAsPNG_S9gcD35Wv8\" class=\"picta-button\">Download Canvas as PNG</button>\n",
       "</div>\n",
       "<script>\n",
       "var masonry = new Macy({\n",
       "    container: '#grid_S9gcD35Wv8',\n",
       "    debug: true,\n",
       "    mobileFirst: true,\n",
       "    columns: 2,\n",
       "    margin: {\n",
       "        x: 0,\n",
       "        y: 0\n",
       "    }\n",
       "  });\n",
       "\n",
       " var traces_ODRz6u51vD = [{\"name\":\"GXPZoQ31eh\",\"type\":\"surface\",\"x\":[-9,-6,-5,-3,-1],\"y\":[0,1,4,5,7],\"z\":[[10,10.625,12.5,15.625,20],[5.625,6.25,8.125,11.25,15.625],[2.5,3.125,5,8.125,12.5],[0.625,1.25,3.125,6.25,10.625],[0,0.625,2.5,5.625,10]]}];\n",
       " var layout_ODRz6u51vD = {\"height\":350,\"width\":350,\"hovermode\":\"closest\",\"legend\":{\"orientation\":\"v\"},\"title\":{\"text\":\"Surface\"},\"showlegend\":true};\n",
       " var config_ODRz6u51vD = {\"responsive\":false,\"scrollZoom\":false,\"displaylogo\":false};\n",
       " Plotly.newPlot(\"graph_ODRz6u51vD\", traces_ODRz6u51vD, layout_ODRz6u51vD, config_ODRz6u51vD);\n",
       "\n",
       " var traces_rph3NpdI0o = [{\"name\":\"4gOFwhbJn1\",\"type\":\"scatter3d\",\"mode\":\"lines\",\"x\":[1,2,3,4,5,6,7,8,9,10,11,12,13,14,15,16,17,18,19,20,21,22,23,24,25,26,27,28,29,30,31,32,33,34,35,36,37,38,39,40,41,42,43,44,45,46,47,48,49,50,51,52,53,54,55,56,57,58,59,60,61,62,63,64,65,66,67,68,69,70,71,72,73,74,75,76,77,78,79,80,81,82,83,84,85,86,87,88,89,90,91,92,93,94,95,96,97,98,99],\"y\":[1,2,3,4,5,6,7,8,9,10,11,12,13,14,15,16,17,18,19,20,21,22,23,24,25,26,27,28,29,30,31,32,33,34,35,36,37,38,39,40,41,42,43,44,45,46,47,48,49,50,51,52,53,54,55,56,57,58,59,60,61,62,63,64,65,66,67,68,69,70,71,72,73,74,75,76,77,78,79,80,81,82,83,84,85,86,87,88,89,90,91,92,93,94,95,96,97,98,99],\"z\":[34.74600226824697,85.14117284114005,50.14805772703371,76.85090029705103,102.71641061485329,102.3957953472009,76.18425327615861,37.001255819367145,76.89579250622918,13.816260560806661,73.87965781164155,27.89921780830027,102.93300669742024,113.17128600064606,88.48665862871367,40.13313629049671,109.30278006121189,111.71288150623481,43.209269969115034,26.300431773932136,72.9778374047731,73.11147908339413,110.04727900311076,119.36065000970103,99.08349249901572,111.71816777394821,47.41978814235868,118.15017477102302,86.36396171411056,79.03504486007549,112.383737204497,68.50404167976214,85.54351862162943,114.93479405557495,129.5793721107974,121.65291587182712,96.04451765023576,119.95581043449805,126.47599342772901,82.91101016404005,88.02824756539957,112.90930655624533,125.05778290074475,73.14333316121348,81.35343730695305,74.07000655717533,113.78086204789241,113.09831743487631,60.80119892478261,138.38219783679781,110.4491984586893,106.414568632941,57.79404638631541,95.39805294091165,66.59830426150387,140.9580838937859,82.84056711468406,73.07531097877825,157.04216679379795,150.11898062185605,150.06621412332117,131.09651409846765,144.43017557764227,75.79441744428318,95.44460504705471,66.03224476059687,107.97728711323869,153.00704357429706,153.7226170181757,135.4558461679292,77.97201216335381,92.4559853276976,125.53645766878162,141.02736187027952,123.23326796098307,171.77000509838408,135.84481279109684,171.59955556393228,97.37851343589418,158.83015896648885,157.55910396415672,96.55899808242987,161.581986411303,181.25191805898106,150.12969915765132,116.90040705670201,166.44332055237126,124.9643564716371,141.85099785239305,126.94256457686416,93.65314293838432,191.7967031075509,166.7769934898974,113.12928796095525,129.33373701348123,171.08019890251452,152.39305391748422,118.01909587799376,165.24919636297454]}];\n",
       " var layout_rph3NpdI0o = {\"height\":350,\"width\":350,\"hovermode\":\"closest\",\"legend\":{\"orientation\":\"v\"},\"title\":{\"text\":\"Line\"},\"showlegend\":true};\n",
       " var config_rph3NpdI0o = {\"responsive\":false,\"scrollZoom\":false,\"displaylogo\":false};\n",
       " Plotly.newPlot(\"graph_rph3NpdI0o\", traces_rph3NpdI0o, layout_rph3NpdI0o, config_rph3NpdI0o);\n",
       "\n",
       "var save = document.getElementById(\"saveAsPNG_S9gcD35Wv8\")\n",
       "save.onclick = function() {\n",
       "    const grid = document.getElementById(\"grid-container_S9gcD35Wv8\")\n",
       "    const svg_containers = grid.getElementsByClassName('svg-container')\n",
       "    const main_svgs = grid.getElementsByClassName('main-svg')\n",
       "\n",
       "    const svg_containers_styles = []\n",
       "    const main_svgs_styles = []\n",
       "\n",
       "    const modebars = document.getElementsByClassName(\"modebar-container\")\n",
       "\n",
       "    for (var i = 0; i < modebars.length; i++) {\n",
       "        modebars[i].style.display = \"none\"\n",
       "    }\n",
       "\n",
       "    domtoimage.toPng(grid)\n",
       "    .then(function (dataUrl) {\n",
       "        var img = new Image();\n",
       "        img.src = dataUrl;\n",
       "        var link = document.createElement('a');\n",
       "        link.download = 'Picta-image.png';\n",
       "        link.href = dataUrl;\n",
       "        link.click()\n",
       "    })\n",
       "    .catch(function (error) {\n",
       "        console.error('oops, something went wrong!', error);\n",
       "    });\n",
       "}\n",
       "</script> \n"
      ]
     },
     "metadata": {},
     "output_type": "display_data"
    }
   ],
   "source": [
    "val dim = 350\n",
    "\n",
    "// The canvas has an underlying grid. By default the underlying grid is 1x1, but we can pass in the dimensions we \n",
    "// require by passing in parameters in the constructor.\n",
    "Canvas(1, 2, title=\"The Picta Grid\")\n",
    "// .setChart(0, 0, chart1.setDimensions(width = dim, height = dim))\n",
    "// .setChart(0, 1, chart2.setDimensions(width = dim, height = dim))\n",
    ".setChart(0, 0, chart3.setDimensions(width = dim, height = dim))\n",
    ".setChart(0, 1, chart4.setDimensions(width = dim, height = dim))\n",
    ".plotInline"
   ]
  },
  {
   "cell_type": "code",
   "execution_count": null,
   "metadata": {},
   "outputs": [],
   "source": []
  }
 ],
 "metadata": {
  "kernelspec": {
   "display_name": "Scala",
   "language": "scala",
   "name": "scala"
  },
  "language_info": {
   "codemirror_mode": "text/x-scala",
   "file_extension": ".scala",
   "mimetype": "text/x-scala",
   "name": "scala",
   "nbconvert_exporter": "script",
   "version": "2.13.2"
  }
 },
 "nbformat": 4,
 "nbformat_minor": 4
}
