{
 "cells": [
  {
   "cell_type": "markdown",
   "metadata": {},
   "source": [
    "# 1. Setup\n",
    "\n",
    "To use Picta in a Jupyter notebook with the Almond.sh kernel, you need to first register a new Jitpack repository as some essential component of Almond are not availble in Maven Central (simply copy and run the first cell below). You then need to import the library from Maven (second cell) and initiliaze the notebook to hvave nicer outputs (optional, third cell)."
   ]
  },
  {
   "cell_type": "code",
   "execution_count": 1,
   "metadata": {},
   "outputs": [],
   "source": [
    "interp.repositories() ++= Seq(coursierapi.MavenRepository.of(\n",
    "\"https://jitpack.io\"\n",
    "))"
   ]
  },
  {
   "cell_type": "code",
   "execution_count": 2,
   "metadata": {},
   "outputs": [
    {
     "data": {
      "text/plain": [
       "\u001b[32mimport \u001b[39m\u001b[36m$ivy.$                                    \u001b[39m"
      ]
     },
     "execution_count": 2,
     "metadata": {},
     "output_type": "execute_result"
    }
   ],
   "source": [
    "import $ivy. `org.carbonateresearch::picta:0.1.1`"
   ]
  },
  {
   "cell_type": "code",
   "execution_count": 3,
   "metadata": {
    "scrolled": false
   },
   "outputs": [
    {
     "data": {
      "text/html": [
       "\n",
       "<style> #animationInterface {\n",
       "    margin-top: 50px;\n",
       "    margin-bottom: 50px;\n",
       "}\n",
       "\n",
       ".progressBar {\n",
       "    padding-top: 20px;\n",
       "    padding-bottom: 20px;\n",
       "}\n",
       "\n",
       ".inline-div {\n",
       "    display: block;\n",
       "    text-align: center;\n",
       "}\n",
       "\n",
       "h3 {\n",
       "    display: inline-block;\n",
       "    text-align: center;\n",
       "}\n",
       "\n",
       ".picta-button {\n",
       "    background-color: #003E74;\n",
       "    border: none;\n",
       "    color: white;\n",
       "    padding: 12px 28px;\n",
       "    text-align: center;\n",
       "    text-decoration: none;\n",
       "    display: inline-block;\n",
       "    font-size: 12px;\n",
       "    margin-top: 50px;\n",
       "    transition-duration: 0.4s;\n",
       "    cursor: pointer;\n",
       "}\n",
       "\n",
       ".picta-button:hover {\n",
       "    background-color: #002147;\n",
       "    color: white;\n",
       "}\n",
       "\n",
       ".grid-title h1 {\n",
       "    font-family: \"Open Sans\", verdana, arial, sans-serif;\n",
       "    font-weight: normal;\n",
       "}\n",
       "\n",
       ".grid-container {\n",
       "    padding-top: 40px;\n",
       "    background: white;\n",
       "} </style>\n",
       "<script> /** vim: et:ts=4:sw=4:sts=4\n",
       " * @license RequireJS 2.3.6 Copyright jQuery Foundation and other contributors.\n",
       " * Released under MIT license, https://github.com/requirejs/requirejs/blob/master/LICENSE\n",
       " */\n",
       "var requirejs,require,define;!function(global,setTimeout){var req,s,head,baseElement,dataMain,src,interactiveScript,currentlyAddingScript,mainScript,subPath,version=\"2.3.6\",commentRegExp=/\\/\\*[\\s\\S]*?\\*\\/|([^:\"'=]|^)\\/\\/.*$/gm,cjsRequireRegExp=/[^.]\\s*require\\s*\\(\\s*[\"']([^'\"\\s]+)[\"']\\s*\\)/g,jsSuffixRegExp=/\\.js$/,currDirRegExp=/^\\.\\//,op=Object.prototype,ostring=op.toString,hasOwn=op.hasOwnProperty,isBrowser=!(\"undefined\"==typeof window||\"undefined\"==typeof navigator||!window.document),isWebWorker=!isBrowser&&\"undefined\"!=typeof importScripts,readyRegExp=isBrowser&&\"PLAYSTATION 3\"===navigator.platform?/^complete$/:/^(complete|loaded)$/,defContextName=\"_\",isOpera=\"undefined\"!=typeof opera&&\"[object Opera]\"===opera.toString(),contexts={},cfg={},globalDefQueue=[],useInteractive=!1;function commentReplace(e,t){return t||\"\"}function isFunction(e){return\"[object Function]\"===ostring.call(e)}function isArray(e){return\"[object Array]\"===ostring.call(e)}function each(e,t){var i;if(e)for(i=0;i<e.length&&(!e[i]||!t(e[i],i,e));i+=1);}function eachReverse(e,t){var i;if(e)for(i=e.length-1;-1<i&&(!e[i]||!t(e[i],i,e));i-=1);}function hasProp(e,t){return hasOwn.call(e,t)}function getOwn(e,t){return hasProp(e,t)&&e[t]}function eachProp(e,t){var i;for(i in e)if(hasProp(e,i)&&t(e[i],i))break}function mixin(i,e,r,n){return e&&eachProp(e,function(e,t){!r&&hasProp(i,t)||(!n||\"object\"!=typeof e||!e||isArray(e)||isFunction(e)||e instanceof RegExp?i[t]=e:(i[t]||(i[t]={}),mixin(i[t],e,r,n)))}),i}function bind(e,t){return function(){return t.apply(e,arguments)}}function scripts(){return document.getElementsByTagName(\"script\")}function defaultOnError(e){throw e}function getGlobal(e){if(!e)return e;var t=global;return each(e.split(\".\"),function(e){t=t[e]}),t}function makeError(e,t,i,r){var n=new Error(t+\"\\nhttps://requirejs.org/docs/errors.html#\"+e);return n.requireType=e,n.requireModules=r,i&&(n.originalError=i),n}if(void 0===define){if(void 0!==requirejs){if(isFunction(requirejs))return;cfg=requirejs,requirejs=void 0}void 0===require||isFunction(require)||(cfg=require,require=void 0),req=requirejs=function(e,t,i,r){var n,o,a=defContextName;return isArray(e)||\"string\"==typeof e||(o=e,isArray(t)?(e=t,t=i,i=r):e=[]),o&&o.context&&(a=o.context),(n=getOwn(contexts,a))||(n=contexts[a]=req.s.newContext(a)),o&&n.configure(o),n.require(e,t,i)},req.config=function(e){return req(e)},req.nextTick=void 0!==setTimeout?function(e){setTimeout(e,4)}:function(e){e()},require||(require=req),req.version=version,req.jsExtRegExp=/^\\/|:|\\?|\\.js$/,req.isBrowser=isBrowser,s=req.s={contexts:contexts,newContext:newContext},req({}),each([\"toUrl\",\"undef\",\"defined\",\"specified\"],function(t){req[t]=function(){var e=contexts[defContextName];return e.require[t].apply(e,arguments)}}),isBrowser&&(head=s.head=document.getElementsByTagName(\"head\")[0],baseElement=document.getElementsByTagName(\"base\")[0],baseElement&&(head=s.head=baseElement.parentNode)),req.onError=defaultOnError,req.createNode=function(e,t,i){var r=e.xhtml?document.createElementNS(\"http://www.w3.org/1999/xhtml\",\"html:script\"):document.createElement(\"script\");return r.type=e.scriptType||\"text/javascript\",r.charset=\"utf-8\",r.async=!0,r},req.load=function(t,i,r){var e,n=t&&t.config||{};if(isBrowser)return(e=req.createNode(n,i,r)).setAttribute(\"data-requirecontext\",t.contextName),e.setAttribute(\"data-requiremodule\",i),!e.attachEvent||e.attachEvent.toString&&e.attachEvent.toString().indexOf(\"[native code\")<0||isOpera?(e.addEventListener(\"load\",t.onScriptLoad,!1),e.addEventListener(\"error\",t.onScriptError,!1)):(useInteractive=!0,e.attachEvent(\"onreadystatechange\",t.onScriptLoad)),e.src=r,n.onNodeCreated&&n.onNodeCreated(e,n,i,r),currentlyAddingScript=e,baseElement?head.insertBefore(e,baseElement):head.appendChild(e),currentlyAddingScript=null,e;if(isWebWorker)try{setTimeout(function(){},0),importScripts(r),t.completeLoad(i)}catch(e){t.onError(makeError(\"importscripts\",\"importScripts failed for \"+i+\" at \"+r,e,[i]))}},isBrowser&&!cfg.skipDataMain&&eachReverse(scripts(),function(e){if(head||(head=e.parentNode),dataMain=e.getAttribute(\"data-main\"))return mainScript=dataMain,cfg.baseUrl||-1!==mainScript.indexOf(\"!\")||(mainScript=(src=mainScript.split(\"/\")).pop(),subPath=src.length?src.join(\"/\")+\"/\":\"./\",cfg.baseUrl=subPath),mainScript=mainScript.replace(jsSuffixRegExp,\"\"),req.jsExtRegExp.test(mainScript)&&(mainScript=dataMain),cfg.deps=cfg.deps?cfg.deps.concat(mainScript):[mainScript],!0}),define=function(e,i,t){var r,n;\"string\"!=typeof e&&(t=i,i=e,e=null),isArray(i)||(t=i,i=null),!i&&isFunction(t)&&(i=[],t.length&&(t.toString().replace(commentRegExp,commentReplace).replace(cjsRequireRegExp,function(e,t){i.push(t)}),i=(1===t.length?[\"require\"]:[\"require\",\"exports\",\"module\"]).concat(i))),useInteractive&&(r=currentlyAddingScript||getInteractiveScript())&&(e||(e=r.getAttribute(\"data-requiremodule\")),n=contexts[r.getAttribute(\"data-requirecontext\")]),n?(n.defQueue.push([e,i,t]),n.defQueueMap[e]=!0):globalDefQueue.push([e,i,t])},define.amd={jQuery:!0},req.exec=function(text){return eval(text)},req(cfg)}function newContext(u){var i,e,l,c,d,g={waitSeconds:7,baseUrl:\"./\",paths:{},bundles:{},pkgs:{},shim:{},config:{}},p={},f={},r={},h=[],m={},n={},v={},x=1,b=1;function q(e,t,i){var r,n,o,a,s,u,c,d,p,f,l=t&&t.split(\"/\"),h=g.map,m=h&&h[\"*\"];if(e&&(u=(e=e.split(\"/\")).length-1,g.nodeIdCompat&&jsSuffixRegExp.test(e[u])&&(e[u]=e[u].replace(jsSuffixRegExp,\"\")),\".\"===e[0].charAt(0)&&l&&(e=l.slice(0,l.length-1).concat(e)),function(e){var t,i;for(t=0;t<e.length;t++)if(\".\"===(i=e[t]))e.splice(t,1),t-=1;else if(\"..\"===i){if(0===t||1===t&&\"..\"===e[2]||\"..\"===e[t-1])continue;0<t&&(e.splice(t-1,2),t-=2)}}(e),e=e.join(\"/\")),i&&h&&(l||m)){e:for(o=(n=e.split(\"/\")).length;0<o;o-=1){if(s=n.slice(0,o).join(\"/\"),l)for(a=l.length;0<a;a-=1)if((r=getOwn(h,l.slice(0,a).join(\"/\")))&&(r=getOwn(r,s))){c=r,d=o;break e}!p&&m&&getOwn(m,s)&&(p=getOwn(m,s),f=o)}!c&&p&&(c=p,d=f),c&&(n.splice(0,d,c),e=n.join(\"/\"))}return getOwn(g.pkgs,e)||e}function E(t){isBrowser&&each(scripts(),function(e){if(e.getAttribute(\"data-requiremodule\")===t&&e.getAttribute(\"data-requirecontext\")===l.contextName)return e.parentNode.removeChild(e),!0})}function w(e){var t=getOwn(g.paths,e);if(t&&isArray(t)&&1<t.length)return t.shift(),l.require.undef(e),l.makeRequire(null,{skipMap:!0})([e]),!0}function y(e){var t,i=e?e.indexOf(\"!\"):-1;return-1<i&&(t=e.substring(0,i),e=e.substring(i+1,e.length)),[t,e]}function S(e,t,i,r){var n,o,a,s,u=null,c=t?t.name:null,d=e,p=!0,f=\"\";return e||(p=!1,e=\"_@r\"+(x+=1)),u=(s=y(e))[0],e=s[1],u&&(u=q(u,c,r),o=getOwn(m,u)),e&&(u?f=i?e:o&&o.normalize?o.normalize(e,function(e){return q(e,c,r)}):-1===e.indexOf(\"!\")?q(e,c,r):e:(u=(s=y(f=q(e,c,r)))[0],f=s[1],i=!0,n=l.nameToUrl(f))),{prefix:u,name:f,parentMap:t,unnormalized:!!(a=!u||o||i?\"\":\"_unnormalized\"+(b+=1)),url:n,originalName:d,isDefine:p,id:(u?u+\"!\"+f:f)+a}}function k(e){var t=e.id,i=getOwn(p,t);return i||(i=p[t]=new l.Module(e)),i}function M(e,t,i){var r=e.id,n=getOwn(p,r);!hasProp(m,r)||n&&!n.defineEmitComplete?(n=k(e)).error&&\"error\"===t?i(n.error):n.on(t,i):\"defined\"===t&&i(m[r])}function O(i,e){var t=i.requireModules,r=!1;e?e(i):(each(t,function(e){var t=getOwn(p,e);t&&(t.error=i,t.events.error&&(r=!0,t.emit(\"error\",i)))}),r||req.onError(i))}function j(){globalDefQueue.length&&(each(globalDefQueue,function(e){var t=e[0];\"string\"==typeof t&&(l.defQueueMap[t]=!0),h.push(e)}),globalDefQueue=[])}function P(e){delete p[e],delete f[e]}function R(){var e,r,t=1e3*g.waitSeconds,n=t&&l.startTime+t<(new Date).getTime(),o=[],a=[],s=!1,u=!0;if(!i){if(i=!0,eachProp(f,function(e){var t=e.map,i=t.id;if(e.enabled&&(t.isDefine||a.push(e),!e.error))if(!e.inited&&n)w(i)?s=r=!0:(o.push(i),E(i));else if(!e.inited&&e.fetched&&t.isDefine&&(s=!0,!t.prefix))return u=!1}),n&&o.length)return(e=makeError(\"timeout\",\"Load timeout for modules: \"+o,null,o)).contextName=l.contextName,O(e);u&&each(a,function(e){!function n(o,a,s){var e=o.map.id;o.error?o.emit(\"error\",o.error):(a[e]=!0,each(o.depMaps,function(e,t){var i=e.id,r=getOwn(p,i);!r||o.depMatched[t]||s[i]||(getOwn(a,i)?(o.defineDep(t,m[i]),o.check()):n(r,a,s))}),s[e]=!0)}(e,{},{})}),n&&!r||!s||!isBrowser&&!isWebWorker||d||(d=setTimeout(function(){d=0,R()},50)),i=!1}}function a(e){hasProp(m,e[0])||k(S(e[0],null,!0)).init(e[1],e[2])}function o(e,t,i,r){e.detachEvent&&!isOpera?r&&e.detachEvent(r,t):e.removeEventListener(i,t,!1)}function s(e){var t=e.currentTarget||e.srcElement;return o(t,l.onScriptLoad,\"load\",\"onreadystatechange\"),o(t,l.onScriptError,\"error\"),{node:t,id:t&&t.getAttribute(\"data-requiremodule\")}}function T(){var e;for(j();h.length;){if(null===(e=h.shift())[0])return O(makeError(\"mismatch\",\"Mismatched anonymous define() module: \"+e[e.length-1]));a(e)}l.defQueueMap={}}return c={require:function(e){return e.require?e.require:e.require=l.makeRequire(e.map)},exports:function(e){if(e.usingExports=!0,e.map.isDefine)return e.exports?m[e.map.id]=e.exports:e.exports=m[e.map.id]={}},module:function(e){return e.module?e.module:e.module={id:e.map.id,uri:e.map.url,config:function(){return getOwn(g.config,e.map.id)||{}},exports:e.exports||(e.exports={})}}},(e=function(e){this.events=getOwn(r,e.id)||{},this.map=e,this.shim=getOwn(g.shim,e.id),this.depExports=[],this.depMaps=[],this.depMatched=[],this.pluginMaps={},this.depCount=0}).prototype={init:function(e,t,i,r){r=r||{},this.inited||(this.factory=t,i?this.on(\"error\",i):this.events.error&&(i=bind(this,function(e){this.emit(\"error\",e)})),this.depMaps=e&&e.slice(0),this.errback=i,this.inited=!0,this.ignore=r.ignore,r.enabled||this.enabled?this.enable():this.check())},defineDep:function(e,t){this.depMatched[e]||(this.depMatched[e]=!0,this.depCount-=1,this.depExports[e]=t)},fetch:function(){if(!this.fetched){this.fetched=!0,l.startTime=(new Date).getTime();var e=this.map;if(!this.shim)return e.prefix?this.callPlugin():this.load();l.makeRequire(this.map,{enableBuildCallback:!0})(this.shim.deps||[],bind(this,function(){return e.prefix?this.callPlugin():this.load()}))}},load:function(){var e=this.map.url;n[e]||(n[e]=!0,l.load(this.map.id,e))},check:function(){if(this.enabled&&!this.enabling){var t,e,i=this.map.id,r=this.depExports,n=this.exports,o=this.factory;if(this.inited){if(this.error)this.emit(\"error\",this.error);else if(!this.defining){if(this.defining=!0,this.depCount<1&&!this.defined){if(isFunction(o)){if(this.events.error&&this.map.isDefine||req.onError!==defaultOnError)try{n=l.execCb(i,o,r,n)}catch(e){t=e}else n=l.execCb(i,o,r,n);if(this.map.isDefine&&void 0===n&&((e=this.module)?n=e.exports:this.usingExports&&(n=this.exports)),t)return t.requireMap=this.map,t.requireModules=this.map.isDefine?[this.map.id]:null,t.requireType=this.map.isDefine?\"define\":\"require\",O(this.error=t)}else n=o;if(this.exports=n,this.map.isDefine&&!this.ignore&&(m[i]=n,req.onResourceLoad)){var a=[];each(this.depMaps,function(e){a.push(e.normalizedMap||e)}),req.onResourceLoad(l,this.map,a)}P(i),this.defined=!0}this.defining=!1,this.defined&&!this.defineEmitted&&(this.defineEmitted=!0,this.emit(\"defined\",this.exports),this.defineEmitComplete=!0)}}else hasProp(l.defQueueMap,i)||this.fetch()}},callPlugin:function(){var u=this.map,c=u.id,e=S(u.prefix);this.depMaps.push(e),M(e,\"defined\",bind(this,function(e){var o,t,i,r=getOwn(v,this.map.id),n=this.map.name,a=this.map.parentMap?this.map.parentMap.name:null,s=l.makeRequire(u.parentMap,{enableBuildCallback:!0});return this.map.unnormalized?(e.normalize&&(n=e.normalize(n,function(e){return q(e,a,!0)})||\"\"),M(t=S(u.prefix+\"!\"+n,this.map.parentMap,!0),\"defined\",bind(this,function(e){this.map.normalizedMap=t,this.init([],function(){return e},null,{enabled:!0,ignore:!0})})),void((i=getOwn(p,t.id))&&(this.depMaps.push(t),this.events.error&&i.on(\"error\",bind(this,function(e){this.emit(\"error\",e)})),i.enable()))):r?(this.map.url=l.nameToUrl(r),void this.load()):((o=bind(this,function(e){this.init([],function(){return e},null,{enabled:!0})})).error=bind(this,function(e){this.inited=!0,(this.error=e).requireModules=[c],eachProp(p,function(e){0===e.map.id.indexOf(c+\"_unnormalized\")&&P(e.map.id)}),O(e)}),o.fromText=bind(this,function(e,t){var i=u.name,r=S(i),n=useInteractive;t&&(e=t),n&&(useInteractive=!1),k(r),hasProp(g.config,c)&&(g.config[i]=g.config[c]);try{req.exec(e)}catch(e){return O(makeError(\"fromtexteval\",\"fromText eval for \"+c+\" failed: \"+e,e,[c]))}n&&(useInteractive=!0),this.depMaps.push(r),l.completeLoad(i),s([i],o)}),void e.load(u.name,s,o,g))})),l.enable(e,this),this.pluginMaps[e.id]=e},enable:function(){(f[this.map.id]=this).enabled=!0,this.enabling=!0,each(this.depMaps,bind(this,function(e,t){var i,r,n;if(\"string\"==typeof e){if(e=S(e,this.map.isDefine?this.map:this.map.parentMap,!1,!this.skipMap),this.depMaps[t]=e,n=getOwn(c,e.id))return void(this.depExports[t]=n(this));this.depCount+=1,M(e,\"defined\",bind(this,function(e){this.undefed||(this.defineDep(t,e),this.check())})),this.errback?M(e,\"error\",bind(this,this.errback)):this.events.error&&M(e,\"error\",bind(this,function(e){this.emit(\"error\",e)}))}i=e.id,r=p[i],hasProp(c,i)||!r||r.enabled||l.enable(e,this)})),eachProp(this.pluginMaps,bind(this,function(e){var t=getOwn(p,e.id);t&&!t.enabled&&l.enable(e,this)})),this.enabling=!1,this.check()},on:function(e,t){var i=this.events[e];i||(i=this.events[e]=[]),i.push(t)},emit:function(e,t){each(this.events[e],function(e){e(t)}),\"error\"===e&&delete this.events[e]}},(l={config:g,contextName:u,registry:p,defined:m,urlFetched:n,defQueue:h,defQueueMap:{},Module:e,makeModuleMap:S,nextTick:req.nextTick,onError:O,configure:function(e){if(e.baseUrl&&\"/\"!==e.baseUrl.charAt(e.baseUrl.length-1)&&(e.baseUrl+=\"/\"),\"string\"==typeof e.urlArgs){var i=e.urlArgs;e.urlArgs=function(e,t){return(-1===t.indexOf(\"?\")?\"?\":\"&\")+i}}var r=g.shim,n={paths:!0,bundles:!0,config:!0,map:!0};eachProp(e,function(e,t){n[t]?(g[t]||(g[t]={}),mixin(g[t],e,!0,!0)):g[t]=e}),e.bundles&&eachProp(e.bundles,function(e,t){each(e,function(e){e!==t&&(v[e]=t)})}),e.shim&&(eachProp(e.shim,function(e,t){isArray(e)&&(e={deps:e}),!e.exports&&!e.init||e.exportsFn||(e.exportsFn=l.makeShimExports(e)),r[t]=e}),g.shim=r),e.packages&&each(e.packages,function(e){var t;t=(e=\"string\"==typeof e?{name:e}:e).name,e.location&&(g.paths[t]=e.location),g.pkgs[t]=e.name+\"/\"+(e.main||\"main\").replace(currDirRegExp,\"\").replace(jsSuffixRegExp,\"\")}),eachProp(p,function(e,t){e.inited||e.map.unnormalized||(e.map=S(t,null,!0))}),(e.deps||e.callback)&&l.require(e.deps||[],e.callback)},makeShimExports:function(t){return function(){var e;return t.init&&(e=t.init.apply(global,arguments)),e||t.exports&&getGlobal(t.exports)}},makeRequire:function(o,a){function s(e,t,i){var r,n;return a.enableBuildCallback&&t&&isFunction(t)&&(t.__requireJsBuild=!0),\"string\"==typeof e?isFunction(t)?O(makeError(\"requireargs\",\"Invalid require call\"),i):o&&hasProp(c,e)?c[e](p[o.id]):req.get?req.get(l,e,o,s):(r=S(e,o,!1,!0).id,hasProp(m,r)?m[r]:O(makeError(\"notloaded\",'Module name \"'+r+'\" has not been loaded yet for context: '+u+(o?\"\":\". Use require([])\")))):(T(),l.nextTick(function(){T(),(n=k(S(null,o))).skipMap=a.skipMap,n.init(e,t,i,{enabled:!0}),R()}),s)}return a=a||{},mixin(s,{isBrowser:isBrowser,toUrl:function(e){var t,i=e.lastIndexOf(\".\"),r=e.split(\"/\")[0];return-1!==i&&(!(\".\"===r||\"..\"===r)||1<i)&&(t=e.substring(i,e.length),e=e.substring(0,i)),l.nameToUrl(q(e,o&&o.id,!0),t,!0)},defined:function(e){return hasProp(m,S(e,o,!1,!0).id)},specified:function(e){return e=S(e,o,!1,!0).id,hasProp(m,e)||hasProp(p,e)}}),o||(s.undef=function(i){j();var e=S(i,o,!0),t=getOwn(p,i);t.undefed=!0,E(i),delete m[i],delete n[e.url],delete r[i],eachReverse(h,function(e,t){e[0]===i&&h.splice(t,1)}),delete l.defQueueMap[i],t&&(t.events.defined&&(r[i]=t.events),P(i))}),s},enable:function(e){getOwn(p,e.id)&&k(e).enable()},completeLoad:function(e){var t,i,r,n=getOwn(g.shim,e)||{},o=n.exports;for(j();h.length;){if(null===(i=h.shift())[0]){if(i[0]=e,t)break;t=!0}else i[0]===e&&(t=!0);a(i)}if(l.defQueueMap={},r=getOwn(p,e),!t&&!hasProp(m,e)&&r&&!r.inited){if(!(!g.enforceDefine||o&&getGlobal(o)))return w(e)?void 0:O(makeError(\"nodefine\",\"No define call for \"+e,null,[e]));a([e,n.deps||[],n.exportsFn])}R()},nameToUrl:function(e,t,i){var r,n,o,a,s,u,c=getOwn(g.pkgs,e);if(c&&(e=c),u=getOwn(v,e))return l.nameToUrl(u,t,i);if(req.jsExtRegExp.test(e))a=e+(t||\"\");else{for(r=g.paths,o=(n=e.split(\"/\")).length;0<o;o-=1)if(s=getOwn(r,n.slice(0,o).join(\"/\"))){isArray(s)&&(s=s[0]),n.splice(0,o,s);break}a=n.join(\"/\"),a=(\"/\"===(a+=t||(/^data\\:|^blob\\:|\\?/.test(a)||i?\"\":\".js\")).charAt(0)||a.match(/^[\\w\\+\\.\\-]+:/)?\"\":g.baseUrl)+a}return g.urlArgs&&!/^blob\\:/.test(a)?a+g.urlArgs(e,a):a},load:function(e,t){req.load(l,e,t)},execCb:function(e,t,i,r){return t.apply(r,i)},onScriptLoad:function(e){if(\"load\"===e.type||readyRegExp.test((e.currentTarget||e.srcElement).readyState)){interactiveScript=null;var t=s(e);l.completeLoad(t.id)}},onScriptError:function(e){var i=s(e);if(!w(i.id)){var r=[];return eachProp(p,function(e,t){0!==t.indexOf(\"_@r\")&&each(e.depMaps,function(e){if(e.id===i.id)return r.push(t),!0})}),O(makeError(\"scripterror\",'Script error for \"'+i.id+(r.length?'\", needed by: '+r.join(\", \"):'\"'),e,[i.id]))}}}).require=l.makeRequire(),l}function getInteractiveScript(){return interactiveScript&&\"interactive\"===interactiveScript.readyState||eachReverse(scripts(),function(e){if(\"interactive\"===e.readyState)return interactiveScript=e}),interactiveScript}}(this,\"undefined\"==typeof setTimeout?void 0:setTimeout); </script>\n",
       "<script>\n",
       " require.config({\n",
       "   paths: {\n",
       "     'plotly': \"https://cdn.plot.ly/plotly-latest.min\",\n",
       "     'macy': \"https://cdn.jsdelivr.net/npm/macy@2.5.1/dist/macy.min\",\n",
       "     'merge': \"https://unpkg.com/merge-images@2.0.0/dist/index.umd\"\n",
       "   },\n",
       " })\n",
       "require( ['plotly', 'macy', 'merge'], function(Plotly, Macy, mergeImages) {\n",
       " window.Plotly = Plotly;\n",
       " window.Macy = Macy;\n",
       " window.mergeImages = mergeImages;\n",
       "})\n",
       "</script>\n"
      ]
     },
     "metadata": {},
     "output_type": "display_data"
    },
    {
     "data": {
      "text/plain": [
       "\u001b[32mimport \u001b[39m\u001b[36morg.carbonateresearch.picta.render.Html.initNotebook // required to initialize jupyter notebook mode\n",
       "\u001b[39m"
      ]
     },
     "execution_count": 3,
     "metadata": {},
     "output_type": "execute_result"
    }
   ],
   "source": [
    "import org.carbonateresearch.picta.render.Html.initNotebook // required to initialize jupyter notebook mode\n",
    "initNotebook() // stops ugly output"
   ]
  },
  {
   "cell_type": "markdown",
   "metadata": {},
   "source": [
    "# 1. Basics\n",
    "\n",
    "The aim of the Picta library is to be a highly configurable and composable charting library for data exploration. The library takes a grammatical approach to chart construction. \n",
    "\n",
    "The following examples are aimed at demonstrating the libraries capabilities, and eventually make constructing charts using this library easy and intuitive."
   ]
  },
  {
   "cell_type": "markdown",
   "metadata": {},
   "source": [
    "### Main Components\n",
    "\n",
    "Picta graphs are constructed in a modular manner. The main components are:\n",
    "\n",
    "1. `Canvas`: This is is the top-level component for representing the display. A `Canvas` may consist of multiple charts.\n",
    "\n",
    "\n",
    "2. `Chart`: This is the component that corresponds to an actual chart (i.e. scatter, pie etc).\n",
    "\n",
    "\n",
    "3. `Series`: This is the data series that is plotted on a `Chart`. `Series` come in 3 types:\n",
    "\n",
    "    - `XY`:   This is series data for constructing a 2D chart\n",
    "    - `XYZ`:  This is series data for constructing a 3D chart\n",
    "    - `Map`:  This is series data that constructs a Map chart\n",
    "    \n",
    "\n",
    "4. `ChartLayout`: This configures various parts of how the `Chart` is represented on screen.\n",
    "\n",
    "`Chart` may occassionally also make use of the `Config` component for further configuration. `Config` specifies whether the plot is responsive.\n",
    "\n",
    "The following examples in this notebook should provide a number of interactive examples to get used to the Picta library."
   ]
  },
  {
   "cell_type": "markdown",
   "metadata": {},
   "source": [
    "### Importing the Library\n",
    "\n",
    "Importing as below should bring in the most frequently used Components in the library."
   ]
  },
  {
   "cell_type": "code",
   "execution_count": 4,
   "metadata": {},
   "outputs": [],
   "source": [
    "import org.carbonateresearch.picta._"
   ]
  },
  {
   "cell_type": "markdown",
   "metadata": {},
   "source": [
    "### Create Some Dummy Data to Use in the Examples\n",
    "\n",
    "Here we create some dummy data to be used in the examples for this notebook."
   ]
  },
  {
   "cell_type": "code",
   "execution_count": 5,
   "metadata": {},
   "outputs": [],
   "source": [
    "val x = List.range(0, 100).map(x => scala.util.Random.nextDouble() * 50)\n",
    "val y = List.range(0, 100).map(x => scala.util.Random.nextDouble() * 50)\n",
    "val z = List.range(0, 100).map(x => scala.util.Random.nextDouble() * 50)"
   ]
  },
  {
   "cell_type": "markdown",
   "metadata": {},
   "source": [
    "### 2D Plots\n",
    "\n",
    "`Series` that represent 2D data are represented by `XY` series types.\n",
    "\n",
    "\n",
    "#### Scatter Plot\n",
    "\n",
    "An example `Scatter` plot is below. \n",
    "\n",
    "Note: This is just one way to call the library functions. Another way that uses function chaining will be shown immediately after this example."
   ]
  },
  {
   "cell_type": "code",
   "execution_count": 6,
   "metadata": {},
   "outputs": [
    {
     "data": {
      "text/html": [
       "<div id=\"grid-container_lViLMOqVjZ\" class=\"grid-container\" align=\"center\"> \n",
       "<div id=\"grid_lViLMOqVjZ\" class=\"grid\" align=\"center\"> \n",
       "<div id=\"graph_G77Rno7dYi\" class=\"graph\"></div> \n",
       "</div> \n",
       "</div> \n",
       "<script>\n",
       "var masonry = new Macy({\n",
       "    container: '#grid_lViLMOqVjZ',\n",
       "    debug: true,\n",
       "    mobileFirst: true,\n",
       "    columns: 1,\n",
       "    margin: {\n",
       "        x: 0,\n",
       "        y: 0\n",
       "    }\n",
       "  });\n",
       "\n",
       "  var traces_G77Rno7dYi = [{\"name\":\"fJaRXNLtzO\",\"type\":\"scatter\",\"mode\":\"markers\",\"x\":[15.600191195053148,2.5149146588916316,26.320732457318762,26.559515952603785,18.6723984716794,44.86943697889627,29.441932489072936,20.904372593355998,22.665431219641174,36.30488081128374,19.625105243239787,5.982927437124652,6.840836471673245,4.0428795452602415,49.416508863473126,39.8646983696224,3.8127096015469264,10.139065889920296,34.72853854213713,31.366012941487348,34.39728019064655,10.003670136731907,21.62617682537985,10.302739886492523,40.513232331763824,16.137255460137894,1.4090826145154611,5.626141040081128,26.59572070194653,0.8477292994963415,10.843864833083305,48.826175104169465,38.785850613259306,20.591790829429378,11.481197587757059,38.39480617985195,19.01873151642089,45.02336838724707,13.134953356886324,46.11255712281555,18.057053324688994,25.83360813921563,41.80567088935351,17.45474676052353,37.50343023070138,44.03136973439677,1.598208590971384,16.509583197302202,45.873615440670626,29.440202399001524,43.513526873662315,40.45843882947724,27.924013355646483,2.877157330532415,31.387126443865064,29.889391072055542,29.60071808966651,49.73082397160908,36.7017400857195,28.99827201522737,3.2136737661305483,43.470349579191605,49.51946146378955,4.077194195943984,38.738356116787635,48.99422190996793,12.358555596264843,9.598724940505965,37.508699968818654,48.66701198733406,17.482798987957356,48.67456979859274,43.98884771498109,48.39423085081442,5.776247595549538,8.700847111422622,49.79759158855942,37.14992185768176,17.143943309453558,13.597719211181225,21.70824969845589,40.99854380545652,18.20910440639259,21.209368621532832,31.95798840738986,31.842166928120786,22.96996562212979,8.150997649301871,34.874500804918526,21.875954514439965,26.03447818210724,24.672735354054527,38.56422090722346,47.04936134560323,36.06869459543784,18.956040664046043,14.205099953234573,16.707398667756674,29.174687077234935,23.666399589234043],\"y\":[18.34832174599596,32.02583779911616,38.0564929670982,17.5567945371793,25.55712805951363,2.8560988915855234,3.0376010786562824,21.449666307804456,29.697272218198243,21.160083925465766,35.26110635829273,11.020752867126687,22.24244231744662,29.34213348998097,30.733717538939203,28.466412804079415,45.06932946256429,3.474757598056699,26.26740721018003,1.3567405217721429,43.39083180185416,4.666729744680059,4.82753189499055,29.759991212851293,11.712227466824215,36.63659652360154,38.313861397145054,32.069515539825,31.99396590897831,33.93160734937884,0.38103233814218984,45.87263044604958,48.56607043767118,43.1715183864504,40.54749086922057,12.671541705157674,8.762944236514848,49.19867464429393,33.54711013516382,34.299644535625156,21.733738780471235,39.0802429842238,4.645196014407888,24.47221988473196,0.4322455167767858,39.53539614930861,32.47072442461727,41.06876723137774,3.401599062245808,7.5497322219097605,45.80919879987657,23.46489695437625,33.642918106127986,49.69113741428044,9.755597169296237,24.514918732604897,31.593352731088103,42.95577158499875,39.644464794834946,18.631969087766397,18.03778766486476,28.849809037571145,38.2542923628565,35.82071657918039,0.6398317293493272,2.8520019973333977,22.925879662683368,16.488385194356514,4.70152788344555,23.404115498846682,44.43946746483852,3.3930533447465883,24.74753367797581,18.1407119006725,48.7630214614358,35.18386839919952,18.57838516293702,20.19672134398245,46.114099380652256,30.646040864170654,29.548741649706677,24.120706284755844,29.170318123595596,3.9841647031650105,26.000380381305565,9.173646701115057,23.71853591813228,29.260638050013892,39.01600891505541,37.60756362245651,10.550418415955098,26.451631128558756,10.958793182054816,46.895215469017614,26.99214188214927,22.49128177420249,37.62384958096538,17.821592595929808,40.0985810241952,48.14548180187718]}];\n",
       " var layout_G77Rno7dYi = {\"height\":550,\"width\":600,\"hovermode\":\"closest\",\"title\":{\"text\":\"First Chart\"},\"showlegend\":true};\n",
       " var config_G77Rno7dYi = {\"responsive\":true,\"scrollZoom\":true,\"displaylogo\":false};\n",
       " Plotly.newPlot(\"graph_G77Rno7dYi\", traces_G77Rno7dYi, layout_G77Rno7dYi, config_G77Rno7dYi);\n",
       "</script> \n"
      ]
     },
     "metadata": {},
     "output_type": "display_data"
    }
   ],
   "source": [
    "// create the data series using the data from above\n",
    "// 'asType SCATTER' transforms the series into a scatter chart\n",
    "// 'drawStyle Markers' specifies the style of the markers the chart should have\n",
    "// if a name is not provided to the series, Picta generates a random name to help keep track of the series in charts\n",
    "// multiple series.\n",
    "val series = XY(x, y) asType SCATTER drawStyle MARKERS\n",
    "\n",
    "// create a chart by adding to it a data series. We set the title as 'First Chart'\n",
    "val chart = Chart() addSeries series setTitle \"First Chart\"\n",
    "\n",
    "// if we have a single chart, then we do not need to use the Canvas and can simply call chart.plot\n",
    "\n",
    "chart.plotInline"
   ]
  },
  {
   "cell_type": "markdown",
   "metadata": {},
   "source": [
    "#Simple costumization\n",
    "This plot is nice, but could use some simple costumization to make it more attractive. First, the data series does not have a name and so the legend come with a generated arbitrary name (not very useful). Second, the X and Y axis don't have labels. Let's fix that."
   ]
  },
  {
   "cell_type": "code",
   "execution_count": 7,
   "metadata": {},
   "outputs": [
    {
     "data": {
      "text/html": [
       "<div id=\"grid-container_VU2Ei7nAfz\" class=\"grid-container\" align=\"center\"> \n",
       "<div id=\"grid_VU2Ei7nAfz\" class=\"grid\" align=\"center\"> \n",
       "<div id=\"graph_umwxmd3TsT\" class=\"graph\"></div> \n",
       "</div> \n",
       "</div> \n",
       "<script>\n",
       "var masonry = new Macy({\n",
       "    container: '#grid_VU2Ei7nAfz',\n",
       "    debug: true,\n",
       "    mobileFirst: true,\n",
       "    columns: 1,\n",
       "    margin: {\n",
       "        x: 0,\n",
       "        y: 0\n",
       "    }\n",
       "  });\n",
       "\n",
       "  var traces_umwxmd3TsT = [{\"name\":\"x vs y\",\"type\":\"scatter\",\"mode\":\"markers\",\"x\":[15.600191195053148,2.5149146588916316,26.320732457318762,26.559515952603785,18.6723984716794,44.86943697889627,29.441932489072936,20.904372593355998,22.665431219641174,36.30488081128374,19.625105243239787,5.982927437124652,6.840836471673245,4.0428795452602415,49.416508863473126,39.8646983696224,3.8127096015469264,10.139065889920296,34.72853854213713,31.366012941487348,34.39728019064655,10.003670136731907,21.62617682537985,10.302739886492523,40.513232331763824,16.137255460137894,1.4090826145154611,5.626141040081128,26.59572070194653,0.8477292994963415,10.843864833083305,48.826175104169465,38.785850613259306,20.591790829429378,11.481197587757059,38.39480617985195,19.01873151642089,45.02336838724707,13.134953356886324,46.11255712281555,18.057053324688994,25.83360813921563,41.80567088935351,17.45474676052353,37.50343023070138,44.03136973439677,1.598208590971384,16.509583197302202,45.873615440670626,29.440202399001524,43.513526873662315,40.45843882947724,27.924013355646483,2.877157330532415,31.387126443865064,29.889391072055542,29.60071808966651,49.73082397160908,36.7017400857195,28.99827201522737,3.2136737661305483,43.470349579191605,49.51946146378955,4.077194195943984,38.738356116787635,48.99422190996793,12.358555596264843,9.598724940505965,37.508699968818654,48.66701198733406,17.482798987957356,48.67456979859274,43.98884771498109,48.39423085081442,5.776247595549538,8.700847111422622,49.79759158855942,37.14992185768176,17.143943309453558,13.597719211181225,21.70824969845589,40.99854380545652,18.20910440639259,21.209368621532832,31.95798840738986,31.842166928120786,22.96996562212979,8.150997649301871,34.874500804918526,21.875954514439965,26.03447818210724,24.672735354054527,38.56422090722346,47.04936134560323,36.06869459543784,18.956040664046043,14.205099953234573,16.707398667756674,29.174687077234935,23.666399589234043],\"y\":[18.34832174599596,32.02583779911616,38.0564929670982,17.5567945371793,25.55712805951363,2.8560988915855234,3.0376010786562824,21.449666307804456,29.697272218198243,21.160083925465766,35.26110635829273,11.020752867126687,22.24244231744662,29.34213348998097,30.733717538939203,28.466412804079415,45.06932946256429,3.474757598056699,26.26740721018003,1.3567405217721429,43.39083180185416,4.666729744680059,4.82753189499055,29.759991212851293,11.712227466824215,36.63659652360154,38.313861397145054,32.069515539825,31.99396590897831,33.93160734937884,0.38103233814218984,45.87263044604958,48.56607043767118,43.1715183864504,40.54749086922057,12.671541705157674,8.762944236514848,49.19867464429393,33.54711013516382,34.299644535625156,21.733738780471235,39.0802429842238,4.645196014407888,24.47221988473196,0.4322455167767858,39.53539614930861,32.47072442461727,41.06876723137774,3.401599062245808,7.5497322219097605,45.80919879987657,23.46489695437625,33.642918106127986,49.69113741428044,9.755597169296237,24.514918732604897,31.593352731088103,42.95577158499875,39.644464794834946,18.631969087766397,18.03778766486476,28.849809037571145,38.2542923628565,35.82071657918039,0.6398317293493272,2.8520019973333977,22.925879662683368,16.488385194356514,4.70152788344555,23.404115498846682,44.43946746483852,3.3930533447465883,24.74753367797581,18.1407119006725,48.7630214614358,35.18386839919952,18.57838516293702,20.19672134398245,46.114099380652256,30.646040864170654,29.548741649706677,24.120706284755844,29.170318123595596,3.9841647031650105,26.000380381305565,9.173646701115057,23.71853591813228,29.260638050013892,39.01600891505541,37.60756362245651,10.550418415955098,26.451631128558756,10.958793182054816,46.895215469017614,26.99214188214927,22.49128177420249,37.62384958096538,17.821592595929808,40.0985810241952,48.14548180187718]}];\n",
       " var layout_umwxmd3TsT = {\"height\":550,\"width\":600,\"hovermode\":\"closest\",\"title\":{\"text\":\"Chart with custom axis and label\"},\"showlegend\":true,\"xaxis\":{\"title\":{\"text\":\"X values\"},\"showgrid\":true,\"zeroline\":false,\"showline\":false},\"yaxis\":{\"title\":{\"text\":\"Y values\"},\"showgrid\":true,\"zeroline\":false,\"showline\":false}};\n",
       " var config_umwxmd3TsT = {\"responsive\":true,\"scrollZoom\":true,\"displaylogo\":false};\n",
       " Plotly.newPlot(\"graph_umwxmd3TsT\", traces_umwxmd3TsT, layout_umwxmd3TsT, config_umwxmd3TsT);\n",
       "</script> \n"
      ]
     },
     "metadata": {},
     "output_type": "display_data"
    }
   ],
   "source": [
    "val series = XY(x, y) asType SCATTER drawStyle MARKERS setName(\"x vs y\") // Using 'setName' gives a name to our series \n",
    "\n",
    "// Note the use of the setXAxisTitle and setYAxisTitle compared to above\n",
    "val chart = Chart() addSeries series setTitle \"Chart with custom axis and label\" setXAxisTitle(\"X values\") setYAxisTitle(\"Y values\")\n",
    "\n",
    "chart.plotInline"
   ]
  },
  {
   "cell_type": "markdown",
   "metadata": {},
   "source": [
    "#### Chaining Functions using the '.dot' notation\n",
    "\n",
    "Sometimes when we are specifying many options, it is quicker to use the IDE autocomplete and just chain the function calls using the familiar '.dot' notation. Throughout this book both the style above and the function chaining style will be used as and when convenient."
   ]
  },
  {
   "cell_type": "code",
   "execution_count": 8,
   "metadata": {},
   "outputs": [
    {
     "data": {
      "text/html": [
       "<div id=\"grid-container_7r7FyXbP83\" class=\"grid-container\" align=\"center\"> \n",
       "<div id=\"grid_7r7FyXbP83\" class=\"grid\" align=\"center\"> \n",
       "<div id=\"graph_holc79vmXn\" class=\"graph\"></div> \n",
       "</div> \n",
       "</div> \n",
       "<script>\n",
       "var masonry = new Macy({\n",
       "    container: '#grid_7r7FyXbP83',\n",
       "    debug: true,\n",
       "    mobileFirst: true,\n",
       "    columns: 1,\n",
       "    margin: {\n",
       "        x: 0,\n",
       "        y: 0\n",
       "    }\n",
       "  });\n",
       "\n",
       "  var traces_holc79vmXn = [{\"name\":\"Chained xy\",\"type\":\"scatter\",\"mode\":\"markers\",\"x\":[15.600191195053148,2.5149146588916316,26.320732457318762,26.559515952603785,18.6723984716794,44.86943697889627,29.441932489072936,20.904372593355998,22.665431219641174,36.30488081128374,19.625105243239787,5.982927437124652,6.840836471673245,4.0428795452602415,49.416508863473126,39.8646983696224,3.8127096015469264,10.139065889920296,34.72853854213713,31.366012941487348,34.39728019064655,10.003670136731907,21.62617682537985,10.302739886492523,40.513232331763824,16.137255460137894,1.4090826145154611,5.626141040081128,26.59572070194653,0.8477292994963415,10.843864833083305,48.826175104169465,38.785850613259306,20.591790829429378,11.481197587757059,38.39480617985195,19.01873151642089,45.02336838724707,13.134953356886324,46.11255712281555,18.057053324688994,25.83360813921563,41.80567088935351,17.45474676052353,37.50343023070138,44.03136973439677,1.598208590971384,16.509583197302202,45.873615440670626,29.440202399001524,43.513526873662315,40.45843882947724,27.924013355646483,2.877157330532415,31.387126443865064,29.889391072055542,29.60071808966651,49.73082397160908,36.7017400857195,28.99827201522737,3.2136737661305483,43.470349579191605,49.51946146378955,4.077194195943984,38.738356116787635,48.99422190996793,12.358555596264843,9.598724940505965,37.508699968818654,48.66701198733406,17.482798987957356,48.67456979859274,43.98884771498109,48.39423085081442,5.776247595549538,8.700847111422622,49.79759158855942,37.14992185768176,17.143943309453558,13.597719211181225,21.70824969845589,40.99854380545652,18.20910440639259,21.209368621532832,31.95798840738986,31.842166928120786,22.96996562212979,8.150997649301871,34.874500804918526,21.875954514439965,26.03447818210724,24.672735354054527,38.56422090722346,47.04936134560323,36.06869459543784,18.956040664046043,14.205099953234573,16.707398667756674,29.174687077234935,23.666399589234043],\"y\":[18.34832174599596,32.02583779911616,38.0564929670982,17.5567945371793,25.55712805951363,2.8560988915855234,3.0376010786562824,21.449666307804456,29.697272218198243,21.160083925465766,35.26110635829273,11.020752867126687,22.24244231744662,29.34213348998097,30.733717538939203,28.466412804079415,45.06932946256429,3.474757598056699,26.26740721018003,1.3567405217721429,43.39083180185416,4.666729744680059,4.82753189499055,29.759991212851293,11.712227466824215,36.63659652360154,38.313861397145054,32.069515539825,31.99396590897831,33.93160734937884,0.38103233814218984,45.87263044604958,48.56607043767118,43.1715183864504,40.54749086922057,12.671541705157674,8.762944236514848,49.19867464429393,33.54711013516382,34.299644535625156,21.733738780471235,39.0802429842238,4.645196014407888,24.47221988473196,0.4322455167767858,39.53539614930861,32.47072442461727,41.06876723137774,3.401599062245808,7.5497322219097605,45.80919879987657,23.46489695437625,33.642918106127986,49.69113741428044,9.755597169296237,24.514918732604897,31.593352731088103,42.95577158499875,39.644464794834946,18.631969087766397,18.03778766486476,28.849809037571145,38.2542923628565,35.82071657918039,0.6398317293493272,2.8520019973333977,22.925879662683368,16.488385194356514,4.70152788344555,23.404115498846682,44.43946746483852,3.3930533447465883,24.74753367797581,18.1407119006725,48.7630214614358,35.18386839919952,18.57838516293702,20.19672134398245,46.114099380652256,30.646040864170654,29.548741649706677,24.120706284755844,29.170318123595596,3.9841647031650105,26.000380381305565,9.173646701115057,23.71853591813228,29.260638050013892,39.01600891505541,37.60756362245651,10.550418415955098,26.451631128558756,10.958793182054816,46.895215469017614,26.99214188214927,22.49128177420249,37.62384958096538,17.821592595929808,40.0985810241952,48.14548180187718]}];\n",
       " var layout_holc79vmXn = {\"height\":550,\"width\":600,\"hovermode\":\"closest\",\"title\":{\"text\":\"Using Function Chaining\"},\"showlegend\":true,\"xaxis\":{\"showgrid\":true,\"zeroline\":false,\"showline\":false},\"yaxis\":{\"showgrid\":true,\"zeroline\":false,\"showline\":false}};\n",
       " var config_holc79vmXn = {\"responsive\":true,\"scrollZoom\":true,\"displaylogo\":false};\n",
       " Plotly.newPlot(\"graph_holc79vmXn\", traces_holc79vmXn, layout_holc79vmXn, config_holc79vmXn);\n",
       "</script> \n"
      ]
     },
     "metadata": {},
     "output_type": "display_data"
    }
   ],
   "source": [
    "// sometimes we may specify many options. In such cases it is clearer to use function chaining as below:\n",
    "val series = XY(x, y)\n",
    "            .asType(SCATTER)\n",
    "            .setName(\"Chained xy\")\n",
    "            .drawMarkers  // This is to help leverage the IDE autocompletion for quick scripting. Tap 'tab' twice to see options.\n",
    "\n",
    "val chart = Chart()\n",
    "            .addSeries(series)\n",
    "            .setTitle(\"Using Function Chaining\")\n",
    "            // by specifying and X and Y axes we can give more rid of the zerolines\n",
    "            .addAxes(Axis(X ,zeroline = false), Axis(Y ,zeroline = false)) \n",
    "\n",
    "chart.plotInline"
   ]
  },
  {
   "cell_type": "markdown",
   "metadata": {},
   "source": [
    "#### Bar Chart\n",
    "\n",
    "Now using the same principles as above, let's create a `Bar` chart:"
   ]
  },
  {
   "cell_type": "code",
   "execution_count": 9,
   "metadata": {},
   "outputs": [
    {
     "data": {
      "text/html": [
       "<div id=\"grid-container_2Go16uWJe1\" class=\"grid-container\" align=\"center\"> \n",
       "<div id=\"grid_2Go16uWJe1\" class=\"grid\" align=\"center\"> \n",
       "<div id=\"graph_BbveIWTIKl\" class=\"graph\"></div> \n",
       "</div> \n",
       "</div> \n",
       "<script>\n",
       "var masonry = new Macy({\n",
       "    container: '#grid_2Go16uWJe1',\n",
       "    debug: true,\n",
       "    mobileFirst: true,\n",
       "    columns: 1,\n",
       "    margin: {\n",
       "        x: 0,\n",
       "        y: 0\n",
       "    }\n",
       "  });\n",
       "\n",
       "  var traces_BbveIWTIKl = [{\"name\":\"My data\",\"type\":\"bar\",\"x\":[\"a\",\"b\",\"c\"],\"y\":[10,20,300]}];\n",
       " var layout_BbveIWTIKl = {\"height\":550,\"width\":600,\"hovermode\":\"closest\",\"title\":{\"text\":\"Bar Chart\"},\"showlegend\":true};\n",
       " var config_BbveIWTIKl = {\"responsive\":false,\"scrollZoom\":false,\"displaylogo\":false};\n",
       " Plotly.newPlot(\"graph_BbveIWTIKl\", traces_BbveIWTIKl, layout_BbveIWTIKl, config_BbveIWTIKl);\n",
       "</script> \n"
      ]
     },
     "metadata": {},
     "output_type": "display_data"
    }
   ],
   "source": [
    "// First we create some data for the piechart\n",
    "val x_bar = List(\"a\", \"b\", \"c\")\n",
    "val y_bar = List(10, 20, 300)\n",
    "\n",
    "// again feed in the data that we want to represent as a Bar chart.\n",
    "// Notice how we change 'asType SCATTER' to 'asType BAR'\n",
    "val series = XY(x_bar, y_bar) asType BAR setName(\"My data\")\n",
    "\n",
    "// we can turn off the scrollzoom using setConfig\n",
    "val chart = Chart() addSeries series setTitle \"Bar Chart\" setConfig(false, false)\n",
    "\n",
    "chart.plotInline"
   ]
  },
  {
   "cell_type": "markdown",
   "metadata": {},
   "source": [
    "#### Adding Multiple Series on the Same Axis\n",
    "\n",
    "Sometimes we may want to plot multiple `Series` on the same axis to compare different data series.\n",
    "\n",
    "Let's plot both of the above on the same pair of axis:"
   ]
  },
  {
   "cell_type": "code",
   "execution_count": 10,
   "metadata": {},
   "outputs": [],
   "source": [
    "// we import the marker option which lets us specify the marker\n",
    "import org.carbonateresearch.picta.options.Marker\n",
    "import org.carbonateresearch.picta.SymbolShape._"
   ]
  },
  {
   "cell_type": "code",
   "execution_count": 11,
   "metadata": {},
   "outputs": [
    {
     "data": {
      "text/html": [
       "<div id=\"grid-container_FyilAyKxS9\" class=\"grid-container\" align=\"center\"> \n",
       "<div id=\"grid_FyilAyKxS9\" class=\"grid\" align=\"center\"> \n",
       "<div id=\"graph_iGeK8dEHbV\" class=\"graph\"></div> \n",
       "</div> \n",
       "</div> \n",
       "<script>\n",
       "var masonry = new Macy({\n",
       "    container: '#grid_FyilAyKxS9',\n",
       "    debug: true,\n",
       "    mobileFirst: true,\n",
       "    columns: 1,\n",
       "    margin: {\n",
       "        x: 0,\n",
       "        y: 0\n",
       "    }\n",
       "  });\n",
       "\n",
       "  var traces_iGeK8dEHbV = [{\"name\":\"Bar\",\"type\":\"bar\",\"x\":[15.600191195053148,2.5149146588916316,26.320732457318762,26.559515952603785,18.6723984716794,44.86943697889627,29.441932489072936,20.904372593355998,22.665431219641174,36.30488081128374,19.625105243239787,5.982927437124652,6.840836471673245,4.0428795452602415,49.416508863473126,39.8646983696224,3.8127096015469264,10.139065889920296,34.72853854213713,31.366012941487348,34.39728019064655,10.003670136731907,21.62617682537985,10.302739886492523,40.513232331763824,16.137255460137894,1.4090826145154611,5.626141040081128,26.59572070194653,0.8477292994963415,10.843864833083305,48.826175104169465,38.785850613259306,20.591790829429378,11.481197587757059,38.39480617985195,19.01873151642089,45.02336838724707,13.134953356886324,46.11255712281555,18.057053324688994,25.83360813921563,41.80567088935351,17.45474676052353,37.50343023070138,44.03136973439677,1.598208590971384,16.509583197302202,45.873615440670626,29.440202399001524,43.513526873662315,40.45843882947724,27.924013355646483,2.877157330532415,31.387126443865064,29.889391072055542,29.60071808966651,49.73082397160908,36.7017400857195,28.99827201522737,3.2136737661305483,43.470349579191605,49.51946146378955,4.077194195943984,38.738356116787635,48.99422190996793,12.358555596264843,9.598724940505965,37.508699968818654,48.66701198733406,17.482798987957356,48.67456979859274,43.98884771498109,48.39423085081442,5.776247595549538,8.700847111422622,49.79759158855942,37.14992185768176,17.143943309453558,13.597719211181225,21.70824969845589,40.99854380545652,18.20910440639259,21.209368621532832,31.95798840738986,31.842166928120786,22.96996562212979,8.150997649301871,34.874500804918526,21.875954514439965,26.03447818210724,24.672735354054527,38.56422090722346,47.04936134560323,36.06869459543784,18.956040664046043,14.205099953234573,16.707398667756674,29.174687077234935,23.666399589234043],\"y\":[18.34832174599596,32.02583779911616,38.0564929670982,17.5567945371793,25.55712805951363,2.8560988915855234,3.0376010786562824,21.449666307804456,29.697272218198243,21.160083925465766,35.26110635829273,11.020752867126687,22.24244231744662,29.34213348998097,30.733717538939203,28.466412804079415,45.06932946256429,3.474757598056699,26.26740721018003,1.3567405217721429,43.39083180185416,4.666729744680059,4.82753189499055,29.759991212851293,11.712227466824215,36.63659652360154,38.313861397145054,32.069515539825,31.99396590897831,33.93160734937884,0.38103233814218984,45.87263044604958,48.56607043767118,43.1715183864504,40.54749086922057,12.671541705157674,8.762944236514848,49.19867464429393,33.54711013516382,34.299644535625156,21.733738780471235,39.0802429842238,4.645196014407888,24.47221988473196,0.4322455167767858,39.53539614930861,32.47072442461727,41.06876723137774,3.401599062245808,7.5497322219097605,45.80919879987657,23.46489695437625,33.642918106127986,49.69113741428044,9.755597169296237,24.514918732604897,31.593352731088103,42.95577158499875,39.644464794834946,18.631969087766397,18.03778766486476,28.849809037571145,38.2542923628565,35.82071657918039,0.6398317293493272,2.8520019973333977,22.925879662683368,16.488385194356514,4.70152788344555,23.404115498846682,44.43946746483852,3.3930533447465883,24.74753367797581,18.1407119006725,48.7630214614358,35.18386839919952,18.57838516293702,20.19672134398245,46.114099380652256,30.646040864170654,29.548741649706677,24.120706284755844,29.170318123595596,3.9841647031650105,26.000380381305565,9.173646701115057,23.71853591813228,29.260638050013892,39.01600891505541,37.60756362245651,10.550418415955098,26.451631128558756,10.958793182054816,46.895215469017614,26.99214188214927,22.49128177420249,37.62384958096538,17.821592595929808,40.0985810241952,48.14548180187718]},{\"name\":\"Scatter\",\"type\":\"scatter\",\"mode\":\"markers\",\"marker\":{\"symbol\":\"square-open\",\"color\":\"red\"},\"x\":[15.600191195053148,2.5149146588916316,26.320732457318762,26.559515952603785,18.6723984716794,44.86943697889627,29.441932489072936,20.904372593355998,22.665431219641174,36.30488081128374,19.625105243239787,5.982927437124652,6.840836471673245,4.0428795452602415,49.416508863473126,39.8646983696224,3.8127096015469264,10.139065889920296,34.72853854213713,31.366012941487348,34.39728019064655,10.003670136731907,21.62617682537985,10.302739886492523,40.513232331763824,16.137255460137894,1.4090826145154611,5.626141040081128,26.59572070194653,0.8477292994963415,10.843864833083305,48.826175104169465,38.785850613259306,20.591790829429378,11.481197587757059,38.39480617985195,19.01873151642089,45.02336838724707,13.134953356886324,46.11255712281555,18.057053324688994,25.83360813921563,41.80567088935351,17.45474676052353,37.50343023070138,44.03136973439677,1.598208590971384,16.509583197302202,45.873615440670626,29.440202399001524,43.513526873662315,40.45843882947724,27.924013355646483,2.877157330532415,31.387126443865064,29.889391072055542,29.60071808966651,49.73082397160908,36.7017400857195,28.99827201522737,3.2136737661305483,43.470349579191605,49.51946146378955,4.077194195943984,38.738356116787635,48.99422190996793,12.358555596264843,9.598724940505965,37.508699968818654,48.66701198733406,17.482798987957356,48.67456979859274,43.98884771498109,48.39423085081442,5.776247595549538,8.700847111422622,49.79759158855942,37.14992185768176,17.143943309453558,13.597719211181225,21.70824969845589,40.99854380545652,18.20910440639259,21.209368621532832,31.95798840738986,31.842166928120786,22.96996562212979,8.150997649301871,34.874500804918526,21.875954514439965,26.03447818210724,24.672735354054527,38.56422090722346,47.04936134560323,36.06869459543784,18.956040664046043,14.205099953234573,16.707398667756674,29.174687077234935,23.666399589234043],\"y\":[18.34832174599596,32.02583779911616,38.0564929670982,17.5567945371793,25.55712805951363,2.8560988915855234,3.0376010786562824,21.449666307804456,29.697272218198243,21.160083925465766,35.26110635829273,11.020752867126687,22.24244231744662,29.34213348998097,30.733717538939203,28.466412804079415,45.06932946256429,3.474757598056699,26.26740721018003,1.3567405217721429,43.39083180185416,4.666729744680059,4.82753189499055,29.759991212851293,11.712227466824215,36.63659652360154,38.313861397145054,32.069515539825,31.99396590897831,33.93160734937884,0.38103233814218984,45.87263044604958,48.56607043767118,43.1715183864504,40.54749086922057,12.671541705157674,8.762944236514848,49.19867464429393,33.54711013516382,34.299644535625156,21.733738780471235,39.0802429842238,4.645196014407888,24.47221988473196,0.4322455167767858,39.53539614930861,32.47072442461727,41.06876723137774,3.401599062245808,7.5497322219097605,45.80919879987657,23.46489695437625,33.642918106127986,49.69113741428044,9.755597169296237,24.514918732604897,31.593352731088103,42.95577158499875,39.644464794834946,18.631969087766397,18.03778766486476,28.849809037571145,38.2542923628565,35.82071657918039,0.6398317293493272,2.8520019973333977,22.925879662683368,16.488385194356514,4.70152788344555,23.404115498846682,44.43946746483852,3.3930533447465883,24.74753367797581,18.1407119006725,48.7630214614358,35.18386839919952,18.57838516293702,20.19672134398245,46.114099380652256,30.646040864170654,29.548741649706677,24.120706284755844,29.170318123595596,3.9841647031650105,26.000380381305565,9.173646701115057,23.71853591813228,29.260638050013892,39.01600891505541,37.60756362245651,10.550418415955098,26.451631128558756,10.958793182054816,46.895215469017614,26.99214188214927,22.49128177420249,37.62384958096538,17.821592595929808,40.0985810241952,48.14548180187718]}];\n",
       " var layout_iGeK8dEHbV = {\"height\":550,\"width\":600,\"hovermode\":\"closest\",\"title\":{\"text\":\"Multiple series on one chart\"},\"showlegend\":true};\n",
       " var config_iGeK8dEHbV = {\"responsive\":true,\"scrollZoom\":true,\"displaylogo\":false};\n",
       " Plotly.newPlot(\"graph_iGeK8dEHbV\", traces_iGeK8dEHbV, layout_iGeK8dEHbV, config_iGeK8dEHbV);\n",
       "</script> \n"
      ]
     },
     "metadata": {},
     "output_type": "display_data"
    }
   ],
   "source": [
    "// additional traces can simply be composed with an existing chart and added on\n",
    "val series1 = XY(x, y) asType BAR setName \"Bar\"\n",
    "\n",
    "// lets give the second series a red marker. Again we can 'compose' a marker using smaller components\n",
    "val marker = Marker() setSymbol SQUARE_OPEN setColor \"red\"\n",
    "\n",
    "val series2 = XY(x, y) asType SCATTER setName \"Scatter\" drawStyle MARKERS setMarker marker\n",
    "\n",
    "// we not put brackets in the 'addSeries' function to ensure that addSeries picks up the right series'\n",
    "val chart = Chart() addSeries(series1, series2) setTitle(\"Multiple series on one chart\")\n",
    "\n",
    "chart.plotInline"
   ]
  },
  {
   "cell_type": "markdown",
   "metadata": {},
   "source": [
    "### Lets Change The Appearance of The Markers\n",
    "\n",
    "We can control the appearance of the markers by setting the width"
   ]
  },
  {
   "cell_type": "code",
   "execution_count": 12,
   "metadata": {},
   "outputs": [
    {
     "data": {
      "text/html": [
       "<div id=\"grid-container_jSD55Vj8Hf\" class=\"grid-container\" align=\"center\"> \n",
       "<div id=\"grid_jSD55Vj8Hf\" class=\"grid\" align=\"center\"> \n",
       "<div id=\"graph_cw2ZnUst57\" class=\"graph\"></div> \n",
       "</div> \n",
       "</div> \n",
       "<script>\n",
       "var masonry = new Macy({\n",
       "    container: '#grid_jSD55Vj8Hf',\n",
       "    debug: true,\n",
       "    mobileFirst: true,\n",
       "    columns: 1,\n",
       "    margin: {\n",
       "        x: 0,\n",
       "        y: 0\n",
       "    }\n",
       "  });\n",
       "\n",
       "  var traces_cw2ZnUst57 = [{\"name\":\"Bar\",\"type\":\"bar\",\"x\":[15.600191195053148,2.5149146588916316,26.320732457318762,26.559515952603785,18.6723984716794,44.86943697889627,29.441932489072936,20.904372593355998,22.665431219641174,36.30488081128374,19.625105243239787,5.982927437124652,6.840836471673245,4.0428795452602415,49.416508863473126,39.8646983696224,3.8127096015469264,10.139065889920296,34.72853854213713,31.366012941487348,34.39728019064655,10.003670136731907,21.62617682537985,10.302739886492523,40.513232331763824,16.137255460137894,1.4090826145154611,5.626141040081128,26.59572070194653,0.8477292994963415,10.843864833083305,48.826175104169465,38.785850613259306,20.591790829429378,11.481197587757059,38.39480617985195,19.01873151642089,45.02336838724707,13.134953356886324,46.11255712281555,18.057053324688994,25.83360813921563,41.80567088935351,17.45474676052353,37.50343023070138,44.03136973439677,1.598208590971384,16.509583197302202,45.873615440670626,29.440202399001524,43.513526873662315,40.45843882947724,27.924013355646483,2.877157330532415,31.387126443865064,29.889391072055542,29.60071808966651,49.73082397160908,36.7017400857195,28.99827201522737,3.2136737661305483,43.470349579191605,49.51946146378955,4.077194195943984,38.738356116787635,48.99422190996793,12.358555596264843,9.598724940505965,37.508699968818654,48.66701198733406,17.482798987957356,48.67456979859274,43.98884771498109,48.39423085081442,5.776247595549538,8.700847111422622,49.79759158855942,37.14992185768176,17.143943309453558,13.597719211181225,21.70824969845589,40.99854380545652,18.20910440639259,21.209368621532832,31.95798840738986,31.842166928120786,22.96996562212979,8.150997649301871,34.874500804918526,21.875954514439965,26.03447818210724,24.672735354054527,38.56422090722346,47.04936134560323,36.06869459543784,18.956040664046043,14.205099953234573,16.707398667756674,29.174687077234935,23.666399589234043],\"y\":[18.34832174599596,32.02583779911616,38.0564929670982,17.5567945371793,25.55712805951363,2.8560988915855234,3.0376010786562824,21.449666307804456,29.697272218198243,21.160083925465766,35.26110635829273,11.020752867126687,22.24244231744662,29.34213348998097,30.733717538939203,28.466412804079415,45.06932946256429,3.474757598056699,26.26740721018003,1.3567405217721429,43.39083180185416,4.666729744680059,4.82753189499055,29.759991212851293,11.712227466824215,36.63659652360154,38.313861397145054,32.069515539825,31.99396590897831,33.93160734937884,0.38103233814218984,45.87263044604958,48.56607043767118,43.1715183864504,40.54749086922057,12.671541705157674,8.762944236514848,49.19867464429393,33.54711013516382,34.299644535625156,21.733738780471235,39.0802429842238,4.645196014407888,24.47221988473196,0.4322455167767858,39.53539614930861,32.47072442461727,41.06876723137774,3.401599062245808,7.5497322219097605,45.80919879987657,23.46489695437625,33.642918106127986,49.69113741428044,9.755597169296237,24.514918732604897,31.593352731088103,42.95577158499875,39.644464794834946,18.631969087766397,18.03778766486476,28.849809037571145,38.2542923628565,35.82071657918039,0.6398317293493272,2.8520019973333977,22.925879662683368,16.488385194356514,4.70152788344555,23.404115498846682,44.43946746483852,3.3930533447465883,24.74753367797581,18.1407119006725,48.7630214614358,35.18386839919952,18.57838516293702,20.19672134398245,46.114099380652256,30.646040864170654,29.548741649706677,24.120706284755844,29.170318123595596,3.9841647031650105,26.000380381305565,9.173646701115057,23.71853591813228,29.260638050013892,39.01600891505541,37.60756362245651,10.550418415955098,26.451631128558756,10.958793182054816,46.895215469017614,26.99214188214927,22.49128177420249,37.62384958096538,17.821592595929808,40.0985810241952,48.14548180187718]},{\"name\":\"Scatter\",\"type\":\"scatter\",\"mode\":\"markers\",\"marker\":{\"symbol\":\"circle\",\"color\":\"red\",\"line\":{\"width\":2,\"color\":\"black\"},\"size\":[10,10,10,10,10,10,10,10,10,10,10,10,10,10,10,10,10,10,10,10,10,10,10,10,10,10,10,10,10,10,10,10,10,10,10,10,10,10,10,10,10,10,10,10,10,10,10,10,10,10,10,10,10,10,10,10,10,10,10,10,10,10,10,10,10,10,10,10,10,10,10,10,10,10,10,10,10,10,10,10,10,10,10,10,10,10,10,10,10,10,10,10,10,10,10,10,10,10,10,10]},\"x\":[15.600191195053148,2.5149146588916316,26.320732457318762,26.559515952603785,18.6723984716794,44.86943697889627,29.441932489072936,20.904372593355998,22.665431219641174,36.30488081128374,19.625105243239787,5.982927437124652,6.840836471673245,4.0428795452602415,49.416508863473126,39.8646983696224,3.8127096015469264,10.139065889920296,34.72853854213713,31.366012941487348,34.39728019064655,10.003670136731907,21.62617682537985,10.302739886492523,40.513232331763824,16.137255460137894,1.4090826145154611,5.626141040081128,26.59572070194653,0.8477292994963415,10.843864833083305,48.826175104169465,38.785850613259306,20.591790829429378,11.481197587757059,38.39480617985195,19.01873151642089,45.02336838724707,13.134953356886324,46.11255712281555,18.057053324688994,25.83360813921563,41.80567088935351,17.45474676052353,37.50343023070138,44.03136973439677,1.598208590971384,16.509583197302202,45.873615440670626,29.440202399001524,43.513526873662315,40.45843882947724,27.924013355646483,2.877157330532415,31.387126443865064,29.889391072055542,29.60071808966651,49.73082397160908,36.7017400857195,28.99827201522737,3.2136737661305483,43.470349579191605,49.51946146378955,4.077194195943984,38.738356116787635,48.99422190996793,12.358555596264843,9.598724940505965,37.508699968818654,48.66701198733406,17.482798987957356,48.67456979859274,43.98884771498109,48.39423085081442,5.776247595549538,8.700847111422622,49.79759158855942,37.14992185768176,17.143943309453558,13.597719211181225,21.70824969845589,40.99854380545652,18.20910440639259,21.209368621532832,31.95798840738986,31.842166928120786,22.96996562212979,8.150997649301871,34.874500804918526,21.875954514439965,26.03447818210724,24.672735354054527,38.56422090722346,47.04936134560323,36.06869459543784,18.956040664046043,14.205099953234573,16.707398667756674,29.174687077234935,23.666399589234043],\"y\":[18.34832174599596,32.02583779911616,38.0564929670982,17.5567945371793,25.55712805951363,2.8560988915855234,3.0376010786562824,21.449666307804456,29.697272218198243,21.160083925465766,35.26110635829273,11.020752867126687,22.24244231744662,29.34213348998097,30.733717538939203,28.466412804079415,45.06932946256429,3.474757598056699,26.26740721018003,1.3567405217721429,43.39083180185416,4.666729744680059,4.82753189499055,29.759991212851293,11.712227466824215,36.63659652360154,38.313861397145054,32.069515539825,31.99396590897831,33.93160734937884,0.38103233814218984,45.87263044604958,48.56607043767118,43.1715183864504,40.54749086922057,12.671541705157674,8.762944236514848,49.19867464429393,33.54711013516382,34.299644535625156,21.733738780471235,39.0802429842238,4.645196014407888,24.47221988473196,0.4322455167767858,39.53539614930861,32.47072442461727,41.06876723137774,3.401599062245808,7.5497322219097605,45.80919879987657,23.46489695437625,33.642918106127986,49.69113741428044,9.755597169296237,24.514918732604897,31.593352731088103,42.95577158499875,39.644464794834946,18.631969087766397,18.03778766486476,28.849809037571145,38.2542923628565,35.82071657918039,0.6398317293493272,2.8520019973333977,22.925879662683368,16.488385194356514,4.70152788344555,23.404115498846682,44.43946746483852,3.3930533447465883,24.74753367797581,18.1407119006725,48.7630214614358,35.18386839919952,18.57838516293702,20.19672134398245,46.114099380652256,30.646040864170654,29.548741649706677,24.120706284755844,29.170318123595596,3.9841647031650105,26.000380381305565,9.173646701115057,23.71853591813228,29.260638050013892,39.01600891505541,37.60756362245651,10.550418415955098,26.451631128558756,10.958793182054816,46.895215469017614,26.99214188214927,22.49128177420249,37.62384958096538,17.821592595929808,40.0985810241952,48.14548180187718]}];\n",
       " var layout_cw2ZnUst57 = {\"height\":550,\"width\":600,\"hovermode\":\"closest\",\"showlegend\":true};\n",
       " var config_cw2ZnUst57 = {\"responsive\":false,\"scrollZoom\":false,\"displaylogo\":false};\n",
       " Plotly.newPlot(\"graph_cw2ZnUst57\", traces_cw2ZnUst57, layout_cw2ZnUst57, config_cw2ZnUst57);\n",
       "</script> \n"
      ]
     },
     "metadata": {},
     "output_type": "display_data"
    }
   ],
   "source": [
    "// we can pass in the size of the markers\n",
    "val sizes = List.range(0, 100).map(x => 10)\n",
    "\n",
    "// additional traces can simply be composed with an existing chart and added on\n",
    "val series1 = XY(x, y) asType BAR setName \"Bar\"\n",
    "\n",
    "// lets give the second series a red marker. Again we can 'compose' a marker using smaller components\n",
    "val marker = (\n",
    "    Marker() \n",
    "    // sets the marker shape\n",
    "    setSymbol CIRCLE\n",
    "    // sets the fill to red\n",
    "    setColor \"red\" \n",
    "    // sets the outline to black, with width 2\n",
    "    setLine(width = 2, \"black\")\n",
    "    // set the size of the markers to 10 as per the list we created\n",
    "    setSize(sizes)\n",
    ") \n",
    "\n",
    "val series2 = XY(x, y) asType SCATTER setName \"Scatter\" drawStyle MARKERS setMarker marker\n",
    "\n",
    "// we not put brackets in the 'addSeries' function to ensure that addSeries picks up the right series'\n",
    "val chart = Chart() addSeries(series1, series2) setConfig(false, false)\n",
    "\n",
    "chart.plotInline"
   ]
  },
  {
   "cell_type": "markdown",
   "metadata": {},
   "source": [
    "### Adding Another Axes\n",
    "\n",
    "Sometimes we may wish to plot multiple series on one chart, but using two different Axes. This may be because the values of the two series are very different, yet we want to compare them on the same plot. We can do this as follows:"
   ]
  },
  {
   "cell_type": "code",
   "execution_count": 13,
   "metadata": {},
   "outputs": [
    {
     "data": {
      "text/html": [
       "<div id=\"grid-container_scB9lvW99h\" class=\"grid-container\" align=\"center\"> \n",
       "<div id=\"grid_scB9lvW99h\" class=\"grid\" align=\"center\"> \n",
       "<div id=\"graph_w1dsUVUJWa\" class=\"graph\"></div> \n",
       "</div> \n",
       "</div> \n",
       "<script>\n",
       "var masonry = new Macy({\n",
       "    container: '#grid_scB9lvW99h',\n",
       "    debug: true,\n",
       "    mobileFirst: true,\n",
       "    columns: 1,\n",
       "    margin: {\n",
       "        x: 0,\n",
       "        y: 0\n",
       "    }\n",
       "  });\n",
       "\n",
       "  var traces_w1dsUVUJWa = [{\"name\":\"Series 3 using Y axis 1\",\"type\":\"scatter\",\"mode\":\"markers\",\"x\":[15.600191195053148,2.5149146588916316,26.320732457318762,26.559515952603785,18.6723984716794,44.86943697889627,29.441932489072936,20.904372593355998,22.665431219641174,36.30488081128374,19.625105243239787,5.982927437124652,6.840836471673245,4.0428795452602415,49.416508863473126,39.8646983696224,3.8127096015469264,10.139065889920296,34.72853854213713,31.366012941487348,34.39728019064655,10.003670136731907,21.62617682537985,10.302739886492523,40.513232331763824,16.137255460137894,1.4090826145154611,5.626141040081128,26.59572070194653,0.8477292994963415,10.843864833083305,48.826175104169465,38.785850613259306,20.591790829429378,11.481197587757059,38.39480617985195,19.01873151642089,45.02336838724707,13.134953356886324,46.11255712281555,18.057053324688994,25.83360813921563,41.80567088935351,17.45474676052353,37.50343023070138,44.03136973439677,1.598208590971384,16.509583197302202,45.873615440670626,29.440202399001524,43.513526873662315,40.45843882947724,27.924013355646483,2.877157330532415,31.387126443865064,29.889391072055542,29.60071808966651,49.73082397160908,36.7017400857195,28.99827201522737,3.2136737661305483,43.470349579191605,49.51946146378955,4.077194195943984,38.738356116787635,48.99422190996793,12.358555596264843,9.598724940505965,37.508699968818654,48.66701198733406,17.482798987957356,48.67456979859274,43.98884771498109,48.39423085081442,5.776247595549538,8.700847111422622,49.79759158855942,37.14992185768176,17.143943309453558,13.597719211181225,21.70824969845589,40.99854380545652,18.20910440639259,21.209368621532832,31.95798840738986,31.842166928120786,22.96996562212979,8.150997649301871,34.874500804918526,21.875954514439965,26.03447818210724,24.672735354054527,38.56422090722346,47.04936134560323,36.06869459543784,18.956040664046043,14.205099953234573,16.707398667756674,29.174687077234935,23.666399589234043],\"y\":[18.34832174599596,32.02583779911616,38.0564929670982,17.5567945371793,25.55712805951363,2.8560988915855234,3.0376010786562824,21.449666307804456,29.697272218198243,21.160083925465766,35.26110635829273,11.020752867126687,22.24244231744662,29.34213348998097,30.733717538939203,28.466412804079415,45.06932946256429,3.474757598056699,26.26740721018003,1.3567405217721429,43.39083180185416,4.666729744680059,4.82753189499055,29.759991212851293,11.712227466824215,36.63659652360154,38.313861397145054,32.069515539825,31.99396590897831,33.93160734937884,0.38103233814218984,45.87263044604958,48.56607043767118,43.1715183864504,40.54749086922057,12.671541705157674,8.762944236514848,49.19867464429393,33.54711013516382,34.299644535625156,21.733738780471235,39.0802429842238,4.645196014407888,24.47221988473196,0.4322455167767858,39.53539614930861,32.47072442461727,41.06876723137774,3.401599062245808,7.5497322219097605,45.80919879987657,23.46489695437625,33.642918106127986,49.69113741428044,9.755597169296237,24.514918732604897,31.593352731088103,42.95577158499875,39.644464794834946,18.631969087766397,18.03778766486476,28.849809037571145,38.2542923628565,35.82071657918039,0.6398317293493272,2.8520019973333977,22.925879662683368,16.488385194356514,4.70152788344555,23.404115498846682,44.43946746483852,3.3930533447465883,24.74753367797581,18.1407119006725,48.7630214614358,35.18386839919952,18.57838516293702,20.19672134398245,46.114099380652256,30.646040864170654,29.548741649706677,24.120706284755844,29.170318123595596,3.9841647031650105,26.000380381305565,9.173646701115057,23.71853591813228,29.260638050013892,39.01600891505541,37.60756362245651,10.550418415955098,26.451631128558756,10.958793182054816,46.895215469017614,26.99214188214927,22.49128177420249,37.62384958096538,17.821592595929808,40.0985810241952,48.14548180187718]},{\"name\":\"Series 2 using Y axis 2\",\"type\":\"scatter\",\"mode\":\"markers\",\"yaxis\":\"y2\",\"x\":[15.600191195053148,2.5149146588916316,26.320732457318762,26.559515952603785,18.6723984716794,44.86943697889627,29.441932489072936,20.904372593355998,22.665431219641174,36.30488081128374,19.625105243239787,5.982927437124652,6.840836471673245,4.0428795452602415,49.416508863473126,39.8646983696224,3.8127096015469264,10.139065889920296,34.72853854213713,31.366012941487348,34.39728019064655,10.003670136731907,21.62617682537985,10.302739886492523,40.513232331763824,16.137255460137894,1.4090826145154611,5.626141040081128,26.59572070194653,0.8477292994963415,10.843864833083305,48.826175104169465,38.785850613259306,20.591790829429378,11.481197587757059,38.39480617985195,19.01873151642089,45.02336838724707,13.134953356886324,46.11255712281555,18.057053324688994,25.83360813921563,41.80567088935351,17.45474676052353,37.50343023070138,44.03136973439677,1.598208590971384,16.509583197302202,45.873615440670626,29.440202399001524,43.513526873662315,40.45843882947724,27.924013355646483,2.877157330532415,31.387126443865064,29.889391072055542,29.60071808966651,49.73082397160908,36.7017400857195,28.99827201522737,3.2136737661305483,43.470349579191605,49.51946146378955,4.077194195943984,38.738356116787635,48.99422190996793,12.358555596264843,9.598724940505965,37.508699968818654,48.66701198733406,17.482798987957356,48.67456979859274,43.98884771498109,48.39423085081442,5.776247595549538,8.700847111422622,49.79759158855942,37.14992185768176,17.143943309453558,13.597719211181225,21.70824969845589,40.99854380545652,18.20910440639259,21.209368621532832,31.95798840738986,31.842166928120786,22.96996562212979,8.150997649301871,34.874500804918526,21.875954514439965,26.03447818210724,24.672735354054527,38.56422090722346,47.04936134560323,36.06869459543784,18.956040664046043,14.205099953234573,16.707398667756674,29.174687077234935,23.666399589234043],\"y\":[46.25174781901896,14.849849157859275,31.247380680602166,15.589822595958791,0.14042332917248435,11.238801430990591,43.63590372976092,32.16199273030127,8.140709346573532,29.01603829169373,20.014136738592985,42.9170814594201,43.93204288070696,43.100189862982965,47.879182795256966,8.334993036888893,45.648703601138166,19.617789195614836,33.31208271373464,13.812345905810586,21.163307667257587,30.774685864599927,42.65524948528431,24.416940803366817,28.1330686456458,12.5188680186402,33.30891878860643,41.79110888507701,30.775688238011256,6.67102635557506,41.06755856527165,40.06090420742991,7.265568631717251,6.201152853776937,1.622282445372275,4.141370574499204,42.62735482440713,0.8938991818264241,8.122877567867887,16.923757651848607,42.052650556596575,0.7723960622919301,45.023150410640746,41.48880889688923,38.67707943429581,46.33966681812947,40.825852787036354,20.71091170964708,48.02868790810197,47.948733368143806,48.798541978923815,19.401138028302856,38.59501719140081,31.42697306315086,45.24930414217859,13.482872799079033,44.25500322304774,3.457218360269981,29.531339814838176,36.60195947029044,39.68317878270817,38.157553553449,18.58801779437656,27.043968921528023,34.25749529846955,25.803730517086176,1.5550281291800083,26.864429074429992,13.488406807733188,15.702551737802267,6.703896480190768,20.733529552949538,19.535671649276132,27.85154097882694,33.84118034776547,14.155039006234183,13.990676460457912,2.2096704516964216,20.17023011210973,39.43985490439462,6.775908598898489,0.1558636929880286,36.5774957956388,43.09784064387726,14.749514338907527,20.02645067504839,4.322944003384982,0.15726599499369942,32.401745184495155,37.49970111794427,29.194195536327438,19.329410006536722,4.891371831907859,32.03501096575924,21.326609245559947,47.90656292983056,40.594029910523325,12.576293856081172,4.0965996130169655,6.8148746297443274]}];\n",
       " var layout_w1dsUVUJWa = {\"height\":550,\"width\":600,\"hovermode\":\"closest\",\"title\":{\"text\":\"Using Multiple Axes\"},\"showlegend\":true,\"yaxis2\":{\"title\":{\"text\":\"Second y axis\"},\"showgrid\":true,\"zeroline\":false,\"showline\":false,\"side\":\"right\",\"overlaying\":\"y\"},\"yaxis\":{\"title\":{\"text\":\"First Y Axis\"},\"showgrid\":true,\"zeroline\":false,\"showline\":false},\"xaxis\":{\"title\":{\"text\":\"X Axis\"},\"showgrid\":true,\"zeroline\":false,\"showline\":false}};\n",
       " var config_w1dsUVUJWa = {\"responsive\":false,\"scrollZoom\":false,\"displaylogo\":false};\n",
       " Plotly.newPlot(\"graph_w1dsUVUJWa\", traces_w1dsUVUJWa, layout_w1dsUVUJWa, config_w1dsUVUJWa);\n",
       "</script> \n"
      ]
     },
     "metadata": {},
     "output_type": "display_data"
    }
   ],
   "source": [
    "val series1 = XY(x, y) asType SCATTER drawStyle MARKERS\n",
    "\n",
    "// The following maps the series onto the second Y axis.\n",
    "val series2 = (\n",
    "    XY(x, z) \n",
    "    asType SCATTER \n",
    "    drawStyle MARKERS \n",
    "    setAxis Axis(Y, 2)\n",
    "    setName(\"Series 2 using Y axis 2\")\n",
    ")\n",
    "\n",
    "val series3 = series1.copy() setName(\"Series 3 using Y axis 1\")\n",
    "      \n",
    "val chart = (\n",
    "    Chart() \n",
    "    setTitle \"Using Multiple Axes\"\n",
    "    // the following makes the chart unresponsive\n",
    "    setConfig(false, false) \n",
    "    addSeries(series3, series2) \n",
    "    // the following tells the chart how to render the second Y Axis\n",
    "    addAxes Axis(Y, position = 2, title = \"Second y axis\", overlaying = Axis(Y), side = RIGHT_SIDE)\n",
    "    addAxes Axis(Y, 1, \"First Y Axis\")\n",
    "    addAxes Axis(X, title = \"X Axis\")\n",
    ") \n",
    "\n",
    "// this is just for illustration purposes, but we can also do the following\n",
    "val canvas = Canvas() setChart(0, 0, chart)\n",
    "\n",
    "canvas.plotInline"
   ]
  },
  {
   "cell_type": "markdown",
   "metadata": {},
   "source": [
    "### Customizing the Axes\n",
    "\n",
    "As can be seen from some of the examples above, if you do a simple chart you can use the standard axis (X and Y) and costumise them in the chart object. But for more complex layout,  we may would want to create new axis and name them.\n",
    "\n",
    "We can do this as follows:"
   ]
  },
  {
   "cell_type": "code",
   "execution_count": 14,
   "metadata": {},
   "outputs": [
    {
     "data": {
      "text/html": [
       "<div id=\"grid-container_RWpGNpw6au\" class=\"grid-container\" align=\"center\"> \n",
       "<div id=\"grid_RWpGNpw6au\" class=\"grid\" align=\"center\"> \n",
       "<div id=\"graph_ImVl89Fu8n\" class=\"graph\"></div> \n",
       "</div> \n",
       "</div> \n",
       "<script>\n",
       "var masonry = new Macy({\n",
       "    container: '#grid_RWpGNpw6au',\n",
       "    debug: true,\n",
       "    mobileFirst: true,\n",
       "    columns: 1,\n",
       "    margin: {\n",
       "        x: 0,\n",
       "        y: 0\n",
       "    }\n",
       "  });\n",
       "\n",
       "  var traces_ImVl89Fu8n = [{\"name\":\"Data\",\"type\":\"scatter\",\"mode\":\"markers\",\"x\":[15.600191195053148,2.5149146588916316,26.320732457318762,26.559515952603785,18.6723984716794,44.86943697889627,29.441932489072936,20.904372593355998,22.665431219641174,36.30488081128374,19.625105243239787,5.982927437124652,6.840836471673245,4.0428795452602415,49.416508863473126,39.8646983696224,3.8127096015469264,10.139065889920296,34.72853854213713,31.366012941487348,34.39728019064655,10.003670136731907,21.62617682537985,10.302739886492523,40.513232331763824,16.137255460137894,1.4090826145154611,5.626141040081128,26.59572070194653,0.8477292994963415,10.843864833083305,48.826175104169465,38.785850613259306,20.591790829429378,11.481197587757059,38.39480617985195,19.01873151642089,45.02336838724707,13.134953356886324,46.11255712281555,18.057053324688994,25.83360813921563,41.80567088935351,17.45474676052353,37.50343023070138,44.03136973439677,1.598208590971384,16.509583197302202,45.873615440670626,29.440202399001524,43.513526873662315,40.45843882947724,27.924013355646483,2.877157330532415,31.387126443865064,29.889391072055542,29.60071808966651,49.73082397160908,36.7017400857195,28.99827201522737,3.2136737661305483,43.470349579191605,49.51946146378955,4.077194195943984,38.738356116787635,48.99422190996793,12.358555596264843,9.598724940505965,37.508699968818654,48.66701198733406,17.482798987957356,48.67456979859274,43.98884771498109,48.39423085081442,5.776247595549538,8.700847111422622,49.79759158855942,37.14992185768176,17.143943309453558,13.597719211181225,21.70824969845589,40.99854380545652,18.20910440639259,21.209368621532832,31.95798840738986,31.842166928120786,22.96996562212979,8.150997649301871,34.874500804918526,21.875954514439965,26.03447818210724,24.672735354054527,38.56422090722346,47.04936134560323,36.06869459543784,18.956040664046043,14.205099953234573,16.707398667756674,29.174687077234935,23.666399589234043],\"y\":[18.34832174599596,32.02583779911616,38.0564929670982,17.5567945371793,25.55712805951363,2.8560988915855234,3.0376010786562824,21.449666307804456,29.697272218198243,21.160083925465766,35.26110635829273,11.020752867126687,22.24244231744662,29.34213348998097,30.733717538939203,28.466412804079415,45.06932946256429,3.474757598056699,26.26740721018003,1.3567405217721429,43.39083180185416,4.666729744680059,4.82753189499055,29.759991212851293,11.712227466824215,36.63659652360154,38.313861397145054,32.069515539825,31.99396590897831,33.93160734937884,0.38103233814218984,45.87263044604958,48.56607043767118,43.1715183864504,40.54749086922057,12.671541705157674,8.762944236514848,49.19867464429393,33.54711013516382,34.299644535625156,21.733738780471235,39.0802429842238,4.645196014407888,24.47221988473196,0.4322455167767858,39.53539614930861,32.47072442461727,41.06876723137774,3.401599062245808,7.5497322219097605,45.80919879987657,23.46489695437625,33.642918106127986,49.69113741428044,9.755597169296237,24.514918732604897,31.593352731088103,42.95577158499875,39.644464794834946,18.631969087766397,18.03778766486476,28.849809037571145,38.2542923628565,35.82071657918039,0.6398317293493272,2.8520019973333977,22.925879662683368,16.488385194356514,4.70152788344555,23.404115498846682,44.43946746483852,3.3930533447465883,24.74753367797581,18.1407119006725,48.7630214614358,35.18386839919952,18.57838516293702,20.19672134398245,46.114099380652256,30.646040864170654,29.548741649706677,24.120706284755844,29.170318123595596,3.9841647031650105,26.000380381305565,9.173646701115057,23.71853591813228,29.260638050013892,39.01600891505541,37.60756362245651,10.550418415955098,26.451631128558756,10.958793182054816,46.895215469017614,26.99214188214927,22.49128177420249,37.62384958096538,17.821592595929808,40.0985810241952,48.14548180187718]}];\n",
       " var layout_ImVl89Fu8n = {\"height\":550,\"width\":600,\"hovermode\":\"closest\",\"title\":{\"text\":\"Chart with Axes\"},\"showlegend\":true,\"xaxis\":{\"title\":{\"text\":\"x variable\"},\"showgrid\":true,\"zeroline\":false,\"showline\":false},\"yaxis\":{\"title\":{\"text\":\"y variable\"},\"showgrid\":true,\"zeroline\":false,\"showline\":false}};\n",
       " var config_ImVl89Fu8n = {\"responsive\":true,\"scrollZoom\":true,\"displaylogo\":false};\n",
       " Plotly.newPlot(\"graph_ImVl89Fu8n\", traces_ImVl89Fu8n, layout_ImVl89Fu8n, config_ImVl89Fu8n);\n",
       "</script> \n"
      ]
     },
     "metadata": {},
     "output_type": "display_data"
    }
   ],
   "source": [
    "// We construct the axes and set their title\n",
    "val xaxis = Axis(X, title = \"x variable\")\n",
    "val yaxis = Axis(Y, title = \"y variable\")\n",
    "\n",
    "// another way to do composition is to just add a bracket around the composition\n",
    "val chart = (\n",
    "    Chart()\n",
    "    setTitle \"Chart with Axes\"\n",
    "    addSeries(series1 setName(\"Data\"))\n",
    "    addAxes(xaxis, yaxis)\n",
    ")\n",
    "\n",
    "chart.plotInline"
   ]
  },
  {
   "cell_type": "markdown",
   "metadata": {},
   "source": [
    "### Quickly Configuring The Axes\n",
    "\n",
    "Picta comes with a range of utility functions to make configuring the primary axes quick and easy"
   ]
  },
  {
   "cell_type": "code",
   "execution_count": 15,
   "metadata": {},
   "outputs": [],
   "source": [
    "// Let's create 100 randome data points\n",
    "val x = List.range(0, 100).map(x => x * scala.util.Random.nextDouble())\n",
    "val y = List.range(0, 100).map(x => x * scala.util.Random.nextDouble())"
   ]
  },
  {
   "cell_type": "markdown",
   "metadata": {},
   "source": [
    "#### Adjusting Axes Limits"
   ]
  },
  {
   "cell_type": "code",
   "execution_count": 16,
   "metadata": {},
   "outputs": [
    {
     "data": {
      "text/html": [
       "<div id=\"grid-container_YkanHzY09a\" class=\"grid-container\" align=\"center\"> \n",
       "<div id=\"grid_YkanHzY09a\" class=\"grid\" align=\"center\"> \n",
       "<div id=\"graph_cvMf5gu5WV\" class=\"graph\"></div> \n",
       "</div> \n",
       "</div> \n",
       "<script>\n",
       "var masonry = new Macy({\n",
       "    container: '#grid_YkanHzY09a',\n",
       "    debug: true,\n",
       "    mobileFirst: true,\n",
       "    columns: 1,\n",
       "    margin: {\n",
       "        x: 0,\n",
       "        y: 0\n",
       "    }\n",
       "  });\n",
       "\n",
       "  var traces_cvMf5gu5WV = [{\"name\":\"Data for Axis Limit example\",\"type\":\"scatter\",\"mode\":\"markers\",\"x\":[0,0.06716791226929908,1.4704331632016716,1.4864169487489465,0.7199755789057578,4.971362689089716,4.586623129918493,5.351586726888212,6.895446215539765,6.793844137543201,6.766376612315257,4.535913217368143,0.674119131719038,12.23485017481044,2.0986090716367483,2.7505518171413095,6.250255497974425,2.1799701863999212,4.547454634647723,0.9600404192620918,6.824362412694542,7.766997074733763,8.423442132468658,3.2389915734886956,15.732683848703545,3.9293816814749305,23.17335119459695,17.3854287590142,0.7764236886643365,13.825975247161594,21.659302486179957,15.630632716366769,28.367548934326187,14.529656074194069,26.577132801145208,23.609585766684553,10.792591280280154,12.095460628545453,34.36626186570286,27.99049042106153,16.92809743821398,31.91206651144319,9.138041749476917,25.056333675051057,27.371241146921594,14.308813207662403,20.047071181811972,21.336209806408966,18.42668106055247,15.993970125863942,5.40003835161138,34.348904975009575,20.96592111992627,5.288646931612451,6.889468048112983,47.89627684353718,43.09827084675542,36.544539201303905,50.905136414878676,35.37912179939524,1.1130594391141613,23.84271201715828,14.164048867915653,61.5535109871973,58.520854980386176,12.31476498106043,15.160572825876912,3.2510668593903493,15.487322140923215,26.456991718886815,52.42175020934342,61.10227360282677,31.766777682519702,9.87264246613824,36.508854567416506,38.477673058995826,20.65367782484647,52.22695797712404,64.38496835137198,61.947788115515934,10.729035154853905,38.08446363167788,43.419724823301706,22.808638707069058,15.53520374166996,79.96787914579266,19.176384488672785,34.87601736831101,34.016604514580564,71.6831240113102,37.473095931550574,89.06810120425334,9.865677760362814,66.94510783186693,30.279520208771306,56.522477024392416,13.06280998326464,37.864374100907696,38.051991161278565,42.380471311226536],\"y\":[0,0.12044820883387719,0.3799032084634162,2.1019937376760325,1.782339129429535,0.8739011685666709,4.50082239620944,3.3471035392566106,3.768407606923213,2.449756371501557,5.813366843891807,1.138944573961729,1.696097243394262,12.75522277100627,10.360491461501876,2.3820694077889653,15.732846538313053,13.33381706122726,17.43601924622615,9.086327513780912,3.3548282462383328,2.1660437712474407,12.386017787917927,9.278104675468729,7.999290459179156,15.732376184617697,24.638295056029357,4.488515291519358,15.936856108591378,26.004936904145236,2.0474522370596846,0.4307433805732642,10.678748007503998,4.809687705607827,20.966158763348655,15.677971090100831,9.324728421443108,6.6864641545197525,30.124215788208772,28.887690960236185,9.821020491351646,4.219913510634431,32.665549729311145,30.637744890521574,43.38360454660826,23.070241867478476,15.809441771791407,28.49409356148316,3.601076932728507,0.8486863748669132,2.8162281725464586,39.770210610696104,8.212711025821552,34.80882473584161,18.49917405898184,46.812935273012535,8.5114429450232,9.311128029400603,16.683436077012416,51.809829524506306,25.998283465148376,49.414680592711434,25.019855051482295,8.3083636138944,1.5640503154039465,63.006608987251596,50.66580282890996,2.117730697154237,16.34641337006449,27.84656434821441,60.79749351727975,60.27972834167167,68.75493645507986,54.03056214031789,15.96789805791851,64.59590566982558,48.22421703937619,41.91558201233873,21.221964198976664,58.03413224710667,44.29523523183708,72.74360917329429,44.87586300290591,4.458818590379567,12.88774270600578,35.311217886748686,65.20982640182496,6.785288594404534,29.36185640183387,16.298338554289934,72.26453094632294,0.10020117280168417,53.42503968618241,18.547665756586177,86.71909202293753,20.766466812327547,21.37129659302739,48.92397507464985,81.71445551301049,36.29285494609233]}];\n",
       " var layout_cvMf5gu5WV = {\"height\":550,\"width\":600,\"hovermode\":\"closest\",\"title\":{\"text\":\"Axis.SetAxisRange\"},\"showlegend\":true,\"yaxis\":{\"title\":{\"text\":\"y axis\"},\"showgrid\":true,\"zeroline\":false,\"showline\":false,\"range\":[100,-100]},\"xaxis\":{\"title\":{\"text\":\"x axis\"},\"showgrid\":true,\"zeroline\":false,\"showline\":false,\"range\":[-100,100]}};\n",
       " var config_cvMf5gu5WV = {\"responsive\":true,\"scrollZoom\":true,\"displaylogo\":false};\n",
       " Plotly.newPlot(\"graph_cvMf5gu5WV\", traces_cvMf5gu5WV, layout_cvMf5gu5WV, config_cvMf5gu5WV);\n",
       "</script> \n"
      ]
     },
     "metadata": {},
     "output_type": "display_data"
    }
   ],
   "source": [
    "val series = (\n",
    "    XY(x, y)\n",
    "    asType SCATTER\n",
    "    drawStyle MARKERS\n",
    ")\n",
    "\n",
    "val chart = (\n",
    "      Chart()\n",
    "    addSeries series.setName(\"Data for Axis Limit example\")\n",
    "    setTitle \"Axis.SetAxisRange\"\n",
    "    addAxes yaxis\n",
    "    setXAxisLimits(-100, 100) // Here we set the axis limit from -100 to 100\n",
    "    setYAxisLimits(100, -100) // Here, by using the minimum as 100 and the maximum as -100, we automatically reverse the axis\n",
    "    setXAxisTitle(\"x axis\")\n",
    "    setYAxisTitle(\"y axis\")\n",
    ")\n",
    "\n",
    "chart.plotInline"
   ]
  },
  {
   "cell_type": "markdown",
   "metadata": {},
   "source": [
    "#### Adjusting Axis Ticks"
   ]
  },
  {
   "cell_type": "code",
   "execution_count": 17,
   "metadata": {
    "scrolled": false
   },
   "outputs": [
    {
     "data": {
      "text/html": [
       "<div id=\"grid-container_wQjmmIfbrL\" class=\"grid-container\" align=\"center\"> \n",
       "<div id=\"grid_wQjmmIfbrL\" class=\"grid\" align=\"center\"> \n",
       "<div id=\"graph_s5SPFjRxsB\" class=\"graph\"></div> \n",
       "</div> \n",
       "</div> \n",
       "<script>\n",
       "var masonry = new Macy({\n",
       "    container: '#grid_wQjmmIfbrL',\n",
       "    debug: true,\n",
       "    mobileFirst: true,\n",
       "    columns: 1,\n",
       "    margin: {\n",
       "        x: 0,\n",
       "        y: 0\n",
       "    }\n",
       "  });\n",
       "\n",
       "  var traces_s5SPFjRxsB = [{\"name\":\"ZQurhHPwIc\",\"type\":\"scatter\",\"mode\":\"markers\",\"x\":[0,0.06716791226929908,1.4704331632016716,1.4864169487489465,0.7199755789057578,4.971362689089716,4.586623129918493,5.351586726888212,6.895446215539765,6.793844137543201,6.766376612315257,4.535913217368143,0.674119131719038,12.23485017481044,2.0986090716367483,2.7505518171413095,6.250255497974425,2.1799701863999212,4.547454634647723,0.9600404192620918,6.824362412694542,7.766997074733763,8.423442132468658,3.2389915734886956,15.732683848703545,3.9293816814749305,23.17335119459695,17.3854287590142,0.7764236886643365,13.825975247161594,21.659302486179957,15.630632716366769,28.367548934326187,14.529656074194069,26.577132801145208,23.609585766684553,10.792591280280154,12.095460628545453,34.36626186570286,27.99049042106153,16.92809743821398,31.91206651144319,9.138041749476917,25.056333675051057,27.371241146921594,14.308813207662403,20.047071181811972,21.336209806408966,18.42668106055247,15.993970125863942,5.40003835161138,34.348904975009575,20.96592111992627,5.288646931612451,6.889468048112983,47.89627684353718,43.09827084675542,36.544539201303905,50.905136414878676,35.37912179939524,1.1130594391141613,23.84271201715828,14.164048867915653,61.5535109871973,58.520854980386176,12.31476498106043,15.160572825876912,3.2510668593903493,15.487322140923215,26.456991718886815,52.42175020934342,61.10227360282677,31.766777682519702,9.87264246613824,36.508854567416506,38.477673058995826,20.65367782484647,52.22695797712404,64.38496835137198,61.947788115515934,10.729035154853905,38.08446363167788,43.419724823301706,22.808638707069058,15.53520374166996,79.96787914579266,19.176384488672785,34.87601736831101,34.016604514580564,71.6831240113102,37.473095931550574,89.06810120425334,9.865677760362814,66.94510783186693,30.279520208771306,56.522477024392416,13.06280998326464,37.864374100907696,38.051991161278565,42.380471311226536],\"y\":[0,0.12044820883387719,0.3799032084634162,2.1019937376760325,1.782339129429535,0.8739011685666709,4.50082239620944,3.3471035392566106,3.768407606923213,2.449756371501557,5.813366843891807,1.138944573961729,1.696097243394262,12.75522277100627,10.360491461501876,2.3820694077889653,15.732846538313053,13.33381706122726,17.43601924622615,9.086327513780912,3.3548282462383328,2.1660437712474407,12.386017787917927,9.278104675468729,7.999290459179156,15.732376184617697,24.638295056029357,4.488515291519358,15.936856108591378,26.004936904145236,2.0474522370596846,0.4307433805732642,10.678748007503998,4.809687705607827,20.966158763348655,15.677971090100831,9.324728421443108,6.6864641545197525,30.124215788208772,28.887690960236185,9.821020491351646,4.219913510634431,32.665549729311145,30.637744890521574,43.38360454660826,23.070241867478476,15.809441771791407,28.49409356148316,3.601076932728507,0.8486863748669132,2.8162281725464586,39.770210610696104,8.212711025821552,34.80882473584161,18.49917405898184,46.812935273012535,8.5114429450232,9.311128029400603,16.683436077012416,51.809829524506306,25.998283465148376,49.414680592711434,25.019855051482295,8.3083636138944,1.5640503154039465,63.006608987251596,50.66580282890996,2.117730697154237,16.34641337006449,27.84656434821441,60.79749351727975,60.27972834167167,68.75493645507986,54.03056214031789,15.96789805791851,64.59590566982558,48.22421703937619,41.91558201233873,21.221964198976664,58.03413224710667,44.29523523183708,72.74360917329429,44.87586300290591,4.458818590379567,12.88774270600578,35.311217886748686,65.20982640182496,6.785288594404534,29.36185640183387,16.298338554289934,72.26453094632294,0.10020117280168417,53.42503968618241,18.547665756586177,86.71909202293753,20.766466812327547,21.37129659302739,48.92397507464985,81.71445551301049,36.29285494609233]}];\n",
       " var layout_s5SPFjRxsB = {\"height\":550,\"width\":600,\"hovermode\":\"closest\",\"title\":{\"text\":\"Set Axis Ticks\"},\"showlegend\":true,\"yaxis\":{\"title\":{\"text\":\"y variable\"},\"showgrid\":true,\"zeroline\":false,\"showline\":false,\"range\":[-100,100]},\"xaxis\":{\"title\":{\"text\":\"my new x axis\"},\"showgrid\":true,\"zeroline\":false,\"showline\":false,\"range\":[0,100],\"tick0\":5,\"dtick\":15}};\n",
       " var config_s5SPFjRxsB = {\"responsive\":true,\"scrollZoom\":true,\"displaylogo\":false};\n",
       " Plotly.newPlot(\"graph_s5SPFjRxsB\", traces_s5SPFjRxsB, layout_s5SPFjRxsB, config_s5SPFjRxsB);\n",
       "</script> \n"
      ]
     },
     "metadata": {},
     "output_type": "display_data"
    }
   ],
   "source": [
    "val series = (\n",
    "    XY(x, y)\n",
    "    asType SCATTER\n",
    "    drawStyle MARKERS\n",
    ")\n",
    "\n",
    "val chart = (\n",
    "    Chart()\n",
    "    addSeries series\n",
    "    setTitle \"Set Axis Ticks\"\n",
    "    addAxes yaxis\n",
    "    setXAxisLimits(0, 100)\n",
    "    setYAxisLimits(-100, 100)\n",
    "    setXAxisTitle(\"my new x axis\")\n",
    "    setXAxisStartTick 5\n",
    "    setXAxisTickGap 15\n",
    ")\n",
    "\n",
    "chart.plotInline"
   ]
  },
  {
   "cell_type": "markdown",
   "metadata": {},
   "source": [
    "### Setting Logarithmic Axes"
   ]
  },
  {
   "cell_type": "code",
   "execution_count": 18,
   "metadata": {},
   "outputs": [
    {
     "data": {
      "text/html": [
       "<div id=\"grid-container_WAz8XIQErW\" class=\"grid-container\" align=\"center\"> \n",
       "<div id=\"grid_WAz8XIQErW\" class=\"grid\" align=\"center\"> \n",
       "<div id=\"graph_boy7cdA1iM\" class=\"graph\"></div> \n",
       "</div> \n",
       "</div> \n",
       "<script>\n",
       "var masonry = new Macy({\n",
       "    container: '#grid_WAz8XIQErW',\n",
       "    debug: true,\n",
       "    mobileFirst: true,\n",
       "    columns: 1,\n",
       "    margin: {\n",
       "        x: 0,\n",
       "        y: 0\n",
       "    }\n",
       "  });\n",
       "\n",
       "  var traces_boy7cdA1iM = [{\"name\":\"AXfWr6diLP\",\"type\":\"scatter\",\"mode\":\"markers\",\"x\":[1,2,3],\"y\":[1.234,5.2112,2.44332]}];\n",
       " var layout_boy7cdA1iM = {\"height\":550,\"width\":600,\"hovermode\":\"closest\",\"title\":{\"text\":\"Logarithmic Axes\"},\"showlegend\":true,\"yaxis\":{\"title\":{\"text\":\"y variable\"},\"showgrid\":true,\"zeroline\":false,\"showline\":false,\"type\":\"log\"},\"xaxis\":{\"showgrid\":true,\"zeroline\":false,\"showline\":false,\"type\":\"log\"}};\n",
       " var config_boy7cdA1iM = {\"responsive\":true,\"scrollZoom\":true,\"displaylogo\":false};\n",
       " Plotly.newPlot(\"graph_boy7cdA1iM\", traces_boy7cdA1iM, layout_boy7cdA1iM, config_boy7cdA1iM);\n",
       "</script> \n"
      ]
     },
     "metadata": {},
     "output_type": "display_data"
    }
   ],
   "source": [
    "val series = (\n",
    "    XY(List(1, 2, 3), List(1.234, 5.2112, 2.44332))\n",
    "    asType SCATTER\n",
    "    drawStyle MARKERS\n",
    ")\n",
    "\n",
    "val chart = (\n",
    "    Chart()\n",
    "    addSeries series\n",
    "    setTitle \"Logarithmic Axes\"\n",
    "    addAxes yaxis\n",
    "    drawXAxisLog true // We set the 'drawXAxisLog' value to 'true' to draw it on a logarithmic scale\n",
    "    drawYAxisLog true\n",
    ")\n",
    "\n",
    "chart.plotInline"
   ]
  },
  {
   "cell_type": "markdown",
   "metadata": {},
   "source": [
    "### Reversing axis\n",
    "We can also reverse the axis by setting the appropriate 'drawXAxisReversed'"
   ]
  },
  {
   "cell_type": "code",
   "execution_count": 19,
   "metadata": {},
   "outputs": [
    {
     "data": {
      "text/html": [
       "<div id=\"grid-container_QcoOjA5Twn\" class=\"grid-container\" align=\"center\"> \n",
       "<div id=\"grid_QcoOjA5Twn\" class=\"grid\" align=\"center\"> \n",
       "<div id=\"graph_fty4TzmkO3\" class=\"graph\"></div> \n",
       "</div> \n",
       "</div> \n",
       "<script>\n",
       "var masonry = new Macy({\n",
       "    container: '#grid_QcoOjA5Twn',\n",
       "    debug: true,\n",
       "    mobileFirst: true,\n",
       "    columns: 1,\n",
       "    margin: {\n",
       "        x: 0,\n",
       "        y: 0\n",
       "    }\n",
       "  });\n",
       "\n",
       "  var traces_fty4TzmkO3 = [{\"name\":\"jmZSXgqQy3\",\"type\":\"scatter\",\"mode\":\"markers\",\"x\":[0,0.06716791226929908,1.4704331632016716,1.4864169487489465,0.7199755789057578,4.971362689089716,4.586623129918493,5.351586726888212,6.895446215539765,6.793844137543201,6.766376612315257,4.535913217368143,0.674119131719038,12.23485017481044,2.0986090716367483,2.7505518171413095,6.250255497974425,2.1799701863999212,4.547454634647723,0.9600404192620918,6.824362412694542,7.766997074733763,8.423442132468658,3.2389915734886956,15.732683848703545,3.9293816814749305,23.17335119459695,17.3854287590142,0.7764236886643365,13.825975247161594,21.659302486179957,15.630632716366769,28.367548934326187,14.529656074194069,26.577132801145208,23.609585766684553,10.792591280280154,12.095460628545453,34.36626186570286,27.99049042106153,16.92809743821398,31.91206651144319,9.138041749476917,25.056333675051057,27.371241146921594,14.308813207662403,20.047071181811972,21.336209806408966,18.42668106055247,15.993970125863942,5.40003835161138,34.348904975009575,20.96592111992627,5.288646931612451,6.889468048112983,47.89627684353718,43.09827084675542,36.544539201303905,50.905136414878676,35.37912179939524,1.1130594391141613,23.84271201715828,14.164048867915653,61.5535109871973,58.520854980386176,12.31476498106043,15.160572825876912,3.2510668593903493,15.487322140923215,26.456991718886815,52.42175020934342,61.10227360282677,31.766777682519702,9.87264246613824,36.508854567416506,38.477673058995826,20.65367782484647,52.22695797712404,64.38496835137198,61.947788115515934,10.729035154853905,38.08446363167788,43.419724823301706,22.808638707069058,15.53520374166996,79.96787914579266,19.176384488672785,34.87601736831101,34.016604514580564,71.6831240113102,37.473095931550574,89.06810120425334,9.865677760362814,66.94510783186693,30.279520208771306,56.522477024392416,13.06280998326464,37.864374100907696,38.051991161278565,42.380471311226536],\"y\":[0,0.12044820883387719,0.3799032084634162,2.1019937376760325,1.782339129429535,0.8739011685666709,4.50082239620944,3.3471035392566106,3.768407606923213,2.449756371501557,5.813366843891807,1.138944573961729,1.696097243394262,12.75522277100627,10.360491461501876,2.3820694077889653,15.732846538313053,13.33381706122726,17.43601924622615,9.086327513780912,3.3548282462383328,2.1660437712474407,12.386017787917927,9.278104675468729,7.999290459179156,15.732376184617697,24.638295056029357,4.488515291519358,15.936856108591378,26.004936904145236,2.0474522370596846,0.4307433805732642,10.678748007503998,4.809687705607827,20.966158763348655,15.677971090100831,9.324728421443108,6.6864641545197525,30.124215788208772,28.887690960236185,9.821020491351646,4.219913510634431,32.665549729311145,30.637744890521574,43.38360454660826,23.070241867478476,15.809441771791407,28.49409356148316,3.601076932728507,0.8486863748669132,2.8162281725464586,39.770210610696104,8.212711025821552,34.80882473584161,18.49917405898184,46.812935273012535,8.5114429450232,9.311128029400603,16.683436077012416,51.809829524506306,25.998283465148376,49.414680592711434,25.019855051482295,8.3083636138944,1.5640503154039465,63.006608987251596,50.66580282890996,2.117730697154237,16.34641337006449,27.84656434821441,60.79749351727975,60.27972834167167,68.75493645507986,54.03056214031789,15.96789805791851,64.59590566982558,48.22421703937619,41.91558201233873,21.221964198976664,58.03413224710667,44.29523523183708,72.74360917329429,44.87586300290591,4.458818590379567,12.88774270600578,35.311217886748686,65.20982640182496,6.785288594404534,29.36185640183387,16.298338554289934,72.26453094632294,0.10020117280168417,53.42503968618241,18.547665756586177,86.71909202293753,20.766466812327547,21.37129659302739,48.92397507464985,81.71445551301049,36.29285494609233]}];\n",
       " var layout_fty4TzmkO3 = {\"height\":550,\"width\":600,\"hovermode\":\"closest\",\"title\":{\"text\":\"Reversed Axes\"},\"showlegend\":true,\"yaxis\":{\"title\":{\"text\":\"Mah\"},\"showgrid\":true,\"zeroline\":false,\"showline\":false,\"autorange\":\"reversed\"},\"xaxis\":{\"showgrid\":true,\"zeroline\":false,\"showline\":false,\"autorange\":\"reversed\"}};\n",
       " var config_fty4TzmkO3 = {\"responsive\":true,\"scrollZoom\":true,\"displaylogo\":false};\n",
       " Plotly.newPlot(\"graph_fty4TzmkO3\", traces_fty4TzmkO3, layout_fty4TzmkO3, config_fty4TzmkO3);\n",
       "</script> \n"
      ]
     },
     "metadata": {},
     "output_type": "display_data"
    }
   ],
   "source": [
    "val series = (\n",
    "    XY(x, y)\n",
    "    asType SCATTER\n",
    "    drawStyle MARKERS\n",
    ")\n",
    "\n",
    "val chart = (\n",
    "    Chart()\n",
    "    addSeries series\n",
    "    setTitle \"Reversed Axes\"\n",
    "    setYAxisTitle(\"Mah\")\n",
    "    drawXAxisReversed true\n",
    "    drawYAxisReversed true\n",
    ")\n",
    "chart.plotInline"
   ]
  },
  {
   "cell_type": "markdown",
   "metadata": {},
   "source": [
    "### Display options - MultiCharts\n",
    "\n",
    "`MultiCharts` are a way to plot multiple axes on the same chart. This is seperate to Picta's grid system, which create a grid of subplot `Chart`'s. The next series of examples will make this clearer."
   ]
  },
  {
   "cell_type": "code",
   "execution_count": 20,
   "metadata": {},
   "outputs": [
    {
     "data": {
      "text/html": [
       "<div id=\"grid-container_4ScmUWEmiF\" class=\"grid-container\" align=\"center\"> \n",
       "<div id=\"grid_4ScmUWEmiF\" class=\"grid\" align=\"center\"> \n",
       "<div id=\"graph_AsLmLcl9N7\" class=\"graph\"></div> \n",
       "</div> \n",
       "</div> \n",
       "<script>\n",
       "var masonry = new Macy({\n",
       "    container: '#grid_4ScmUWEmiF',\n",
       "    debug: true,\n",
       "    mobileFirst: true,\n",
       "    columns: 1,\n",
       "    margin: {\n",
       "        x: 0,\n",
       "        y: 0\n",
       "    }\n",
       "  });\n",
       "\n",
       "  var traces_AsLmLcl9N7 = [{\"name\":\"First series\",\"type\":\"scatter\",\"mode\":\"markers\",\"x\":[1,2,3],\"y\":[2,4,5]},{\"name\":\"Second series\",\"type\":\"scatter\",\"mode\":\"markers\",\"xaxis\":\"x2\",\"yaxis\":\"y2\",\"x\":[0,0.06716791226929908,1.4704331632016716,1.4864169487489465,0.7199755789057578,4.971362689089716,4.586623129918493,5.351586726888212,6.895446215539765,6.793844137543201,6.766376612315257,4.535913217368143,0.674119131719038,12.23485017481044,2.0986090716367483,2.7505518171413095,6.250255497974425,2.1799701863999212,4.547454634647723,0.9600404192620918,6.824362412694542,7.766997074733763,8.423442132468658,3.2389915734886956,15.732683848703545,3.9293816814749305,23.17335119459695,17.3854287590142,0.7764236886643365,13.825975247161594,21.659302486179957,15.630632716366769,28.367548934326187,14.529656074194069,26.577132801145208,23.609585766684553,10.792591280280154,12.095460628545453,34.36626186570286,27.99049042106153,16.92809743821398,31.91206651144319,9.138041749476917,25.056333675051057,27.371241146921594,14.308813207662403,20.047071181811972,21.336209806408966,18.42668106055247,15.993970125863942,5.40003835161138,34.348904975009575,20.96592111992627,5.288646931612451,6.889468048112983,47.89627684353718,43.09827084675542,36.544539201303905,50.905136414878676,35.37912179939524,1.1130594391141613,23.84271201715828,14.164048867915653,61.5535109871973,58.520854980386176,12.31476498106043,15.160572825876912,3.2510668593903493,15.487322140923215,26.456991718886815,52.42175020934342,61.10227360282677,31.766777682519702,9.87264246613824,36.508854567416506,38.477673058995826,20.65367782484647,52.22695797712404,64.38496835137198,61.947788115515934,10.729035154853905,38.08446363167788,43.419724823301706,22.808638707069058,15.53520374166996,79.96787914579266,19.176384488672785,34.87601736831101,34.016604514580564,71.6831240113102,37.473095931550574,89.06810120425334,9.865677760362814,66.94510783186693,30.279520208771306,56.522477024392416,13.06280998326464,37.864374100907696,38.051991161278565,42.380471311226536],\"y\":[0,0.12044820883387719,0.3799032084634162,2.1019937376760325,1.782339129429535,0.8739011685666709,4.50082239620944,3.3471035392566106,3.768407606923213,2.449756371501557,5.813366843891807,1.138944573961729,1.696097243394262,12.75522277100627,10.360491461501876,2.3820694077889653,15.732846538313053,13.33381706122726,17.43601924622615,9.086327513780912,3.3548282462383328,2.1660437712474407,12.386017787917927,9.278104675468729,7.999290459179156,15.732376184617697,24.638295056029357,4.488515291519358,15.936856108591378,26.004936904145236,2.0474522370596846,0.4307433805732642,10.678748007503998,4.809687705607827,20.966158763348655,15.677971090100831,9.324728421443108,6.6864641545197525,30.124215788208772,28.887690960236185,9.821020491351646,4.219913510634431,32.665549729311145,30.637744890521574,43.38360454660826,23.070241867478476,15.809441771791407,28.49409356148316,3.601076932728507,0.8486863748669132,2.8162281725464586,39.770210610696104,8.212711025821552,34.80882473584161,18.49917405898184,46.812935273012535,8.5114429450232,9.311128029400603,16.683436077012416,51.809829524506306,25.998283465148376,49.414680592711434,25.019855051482295,8.3083636138944,1.5640503154039465,63.006608987251596,50.66580282890996,2.117730697154237,16.34641337006449,27.84656434821441,60.79749351727975,60.27972834167167,68.75493645507986,54.03056214031789,15.96789805791851,64.59590566982558,48.22421703937619,41.91558201233873,21.221964198976664,58.03413224710667,44.29523523183708,72.74360917329429,44.87586300290591,4.458818590379567,12.88774270600578,35.311217886748686,65.20982640182496,6.785288594404534,29.36185640183387,16.298338554289934,72.26453094632294,0.10020117280168417,53.42503968618241,18.547665756586177,86.71909202293753,20.766466812327547,21.37129659302739,48.92397507464985,81.71445551301049,36.29285494609233]}];\n",
       " var layout_AsLmLcl9N7 = {\"height\":550,\"width\":600,\"hovermode\":\"closest\",\"title\":{\"text\":\"Chart.Axis.Composition\"},\"showlegend\":true,\"grid\":{\"rows\":1,\"columns\":2,\"pattern\":\"independent\"},\"xaxis\":{\"showgrid\":true,\"zeroline\":false,\"showline\":false},\"xaxis2\":{\"title\":{\"text\":\"x2\"},\"showgrid\":true,\"zeroline\":false,\"showline\":false},\"yaxis2\":{\"showgrid\":true,\"zeroline\":false,\"showline\":false}};\n",
       " var config_AsLmLcl9N7 = {\"responsive\":false,\"scrollZoom\":true,\"displaylogo\":false};\n",
       " Plotly.newPlot(\"graph_AsLmLcl9N7\", traces_AsLmLcl9N7, layout_AsLmLcl9N7, config_AsLmLcl9N7);\n",
       "</script> \n"
      ]
     },
     "metadata": {},
     "output_type": "display_data"
    }
   ],
   "source": [
    "// create the axes\n",
    "val xaxis1 = Axis(X) setTitle \"x1\"\n",
    "val yaxis1 = Axis(X) // this is not strictly necessary, but if it is not added there will be a zeroline at y = 0\n",
    "\n",
    "val xaxis2 = Axis(X, 2) setTitle \"x2\"\n",
    "val yaxis2 = Axis(Y, 2) // this is not strictly necessary, but if it is not added there will be a zeroline at y = 0\n",
    "\n",
    "val series1 = (\n",
    "    XY(x = List(1, 2, 3), y = List(2, 4, 5))\n",
    "    asType SCATTER\n",
    "    drawStyle MARKERS\n",
    "    setName(\"First series\") //Here we don't specify the axis, so the standard axis will be used\n",
    ")\n",
    "\n",
    "val series2 = (\n",
    "    XY(x = x, y = y) \n",
    "    asType SCATTER \n",
    "    drawStyle MARKERS \n",
    "    setName(\"Second series\")\n",
    "    setAxes (xaxis2, yaxis2) //Here we specify the axis for this plot, which are the second axis\n",
    ")\n",
    "\n",
    "val chart1 = Chart()\n",
    "            .addSeries(series1, series2)\n",
    "            .setTitle(\"Chart.Axis.Composition\")\n",
    "            .addAxes(xaxis1, yaxis1, xaxis2, yaxis2)\n",
    "            .setConfig(responsive=false)\n",
    "            // This tells Picta that we want to actually subdivide this chart into multiple plots\n",
    "            .asMultiChart(1, 2) //These correspond to the axis values given above\n",
    "\n",
    "chart1.plotInline"
   ]
  },
  {
   "cell_type": "markdown",
   "metadata": {},
   "source": [
    "### Picta's Subplot System\n",
    "\n",
    "While the above is useful, sometimes it is easier to plot independent charts in a subplot grid. This is where we can use the Picta subplot system.\n",
    "\n",
    "In the subplots below, each subplot is an individual `Chart`. This means we can actually embed the above `MultiChart` inside another subplot. This way we can create nested subplots to showcase any data we need to.\n",
    "\n",
    "Used creatively, this subplot system can be very useful for data exploration."
   ]
  },
  {
   "cell_type": "code",
   "execution_count": 21,
   "metadata": {
    "scrolled": false
   },
   "outputs": [
    {
     "data": {
      "text/html": [
       "<div id=\"grid-container_CLMJL2rpSv\" class=\"grid-container\" align=\"center\"> \n",
       "<div id=\"grid_CLMJL2rpSv\" class=\"grid\" align=\"center\"> \n",
       "<div id=\"graph_v9yBdhIsNl\" class=\"graph\"></div> \n",
       "<div id=\"graph_JNSPc6fWRu\" class=\"graph\"></div> \n",
       "<div id=\"graph_IqhC24ZeBZ\" class=\"graph\"></div> \n",
       "<div id=\"graph_pANlh927Ud\" class=\"graph\"></div> \n",
       "</div> \n",
       "</div> \n",
       "\n",
       "<div align=\"center\">\n",
       "<button id = \"saveAsPNG_CLMJL2rpSv\" class=\"picta-button\">Download Canvas as PNG</button>\n",
       "</div>\n",
       "<script>\n",
       "var masonry = new Macy({\n",
       "    container: '#grid_CLMJL2rpSv',\n",
       "    debug: true,\n",
       "    mobileFirst: true,\n",
       "    columns: 2,\n",
       "    margin: {\n",
       "        x: 0,\n",
       "        y: 0\n",
       "    }\n",
       "  });\n",
       "\n",
       "  var traces_v9yBdhIsNl = [{\"name\":\"a\",\"type\":\"scatter\",\"mode\":\"markers\",\"x\":[0,0.06716791226929908,1.4704331632016716,1.4864169487489465,0.7199755789057578,4.971362689089716,4.586623129918493,5.351586726888212,6.895446215539765,6.793844137543201,6.766376612315257,4.535913217368143,0.674119131719038,12.23485017481044,2.0986090716367483,2.7505518171413095,6.250255497974425,2.1799701863999212,4.547454634647723,0.9600404192620918,6.824362412694542,7.766997074733763,8.423442132468658,3.2389915734886956,15.732683848703545,3.9293816814749305,23.17335119459695,17.3854287590142,0.7764236886643365,13.825975247161594,21.659302486179957,15.630632716366769,28.367548934326187,14.529656074194069,26.577132801145208,23.609585766684553,10.792591280280154,12.095460628545453,34.36626186570286,27.99049042106153,16.92809743821398,31.91206651144319,9.138041749476917,25.056333675051057,27.371241146921594,14.308813207662403,20.047071181811972,21.336209806408966,18.42668106055247,15.993970125863942,5.40003835161138,34.348904975009575,20.96592111992627,5.288646931612451,6.889468048112983,47.89627684353718,43.09827084675542,36.544539201303905,50.905136414878676,35.37912179939524,1.1130594391141613,23.84271201715828,14.164048867915653,61.5535109871973,58.520854980386176,12.31476498106043,15.160572825876912,3.2510668593903493,15.487322140923215,26.456991718886815,52.42175020934342,61.10227360282677,31.766777682519702,9.87264246613824,36.508854567416506,38.477673058995826,20.65367782484647,52.22695797712404,64.38496835137198,61.947788115515934,10.729035154853905,38.08446363167788,43.419724823301706,22.808638707069058,15.53520374166996,79.96787914579266,19.176384488672785,34.87601736831101,34.016604514580564,71.6831240113102,37.473095931550574,89.06810120425334,9.865677760362814,66.94510783186693,30.279520208771306,56.522477024392416,13.06280998326464,37.864374100907696,38.051991161278565,42.380471311226536],\"y\":[0,0.12044820883387719,0.3799032084634162,2.1019937376760325,1.782339129429535,0.8739011685666709,4.50082239620944,3.3471035392566106,3.768407606923213,2.449756371501557,5.813366843891807,1.138944573961729,1.696097243394262,12.75522277100627,10.360491461501876,2.3820694077889653,15.732846538313053,13.33381706122726,17.43601924622615,9.086327513780912,3.3548282462383328,2.1660437712474407,12.386017787917927,9.278104675468729,7.999290459179156,15.732376184617697,24.638295056029357,4.488515291519358,15.936856108591378,26.004936904145236,2.0474522370596846,0.4307433805732642,10.678748007503998,4.809687705607827,20.966158763348655,15.677971090100831,9.324728421443108,6.6864641545197525,30.124215788208772,28.887690960236185,9.821020491351646,4.219913510634431,32.665549729311145,30.637744890521574,43.38360454660826,23.070241867478476,15.809441771791407,28.49409356148316,3.601076932728507,0.8486863748669132,2.8162281725464586,39.770210610696104,8.212711025821552,34.80882473584161,18.49917405898184,46.812935273012535,8.5114429450232,9.311128029400603,16.683436077012416,51.809829524506306,25.998283465148376,49.414680592711434,25.019855051482295,8.3083636138944,1.5640503154039465,63.006608987251596,50.66580282890996,2.117730697154237,16.34641337006449,27.84656434821441,60.79749351727975,60.27972834167167,68.75493645507986,54.03056214031789,15.96789805791851,64.59590566982558,48.22421703937619,41.91558201233873,21.221964198976664,58.03413224710667,44.29523523183708,72.74360917329429,44.87586300290591,4.458818590379567,12.88774270600578,35.311217886748686,65.20982640182496,6.785288594404534,29.36185640183387,16.298338554289934,72.26453094632294,0.10020117280168417,53.42503968618241,18.547665756586177,86.71909202293753,20.766466812327547,21.37129659302739,48.92397507464985,81.71445551301049,36.29285494609233]}];\n",
       " var layout_v9yBdhIsNl = {\"height\":350,\"width\":350,\"hovermode\":\"closest\",\"showlegend\":true,\"margin\":{\"l\":50,\"r\":30,\"t\":50,\"b\":50},\"xaxis\":{\"title\":{\"text\":\"x axis 1\"},\"showgrid\":true,\"zeroline\":false,\"showline\":false},\"yaxis\":{\"title\":{\"text\":\"y axis 1\"},\"showgrid\":true,\"zeroline\":false,\"showline\":false}};\n",
       " var config_v9yBdhIsNl = {\"responsive\":true,\"scrollZoom\":true,\"displaylogo\":false};\n",
       " Plotly.newPlot(\"graph_v9yBdhIsNl\", traces_v9yBdhIsNl, layout_v9yBdhIsNl, config_v9yBdhIsNl);\n",
       "\n",
       "  var traces_JNSPc6fWRu = [{\"name\":\"b\",\"type\":\"scatter\",\"mode\":\"markers\",\"x\":[0,0.06716791226929908,1.4704331632016716,1.4864169487489465,0.7199755789057578,4.971362689089716,4.586623129918493,5.351586726888212,6.895446215539765,6.793844137543201,6.766376612315257,4.535913217368143,0.674119131719038,12.23485017481044,2.0986090716367483,2.7505518171413095,6.250255497974425,2.1799701863999212,4.547454634647723,0.9600404192620918,6.824362412694542,7.766997074733763,8.423442132468658,3.2389915734886956,15.732683848703545,3.9293816814749305,23.17335119459695,17.3854287590142,0.7764236886643365,13.825975247161594,21.659302486179957,15.630632716366769,28.367548934326187,14.529656074194069,26.577132801145208,23.609585766684553,10.792591280280154,12.095460628545453,34.36626186570286,27.99049042106153,16.92809743821398,31.91206651144319,9.138041749476917,25.056333675051057,27.371241146921594,14.308813207662403,20.047071181811972,21.336209806408966,18.42668106055247,15.993970125863942,5.40003835161138,34.348904975009575,20.96592111992627,5.288646931612451,6.889468048112983,47.89627684353718,43.09827084675542,36.544539201303905,50.905136414878676,35.37912179939524,1.1130594391141613,23.84271201715828,14.164048867915653,61.5535109871973,58.520854980386176,12.31476498106043,15.160572825876912,3.2510668593903493,15.487322140923215,26.456991718886815,52.42175020934342,61.10227360282677,31.766777682519702,9.87264246613824,36.508854567416506,38.477673058995826,20.65367782484647,52.22695797712404,64.38496835137198,61.947788115515934,10.729035154853905,38.08446363167788,43.419724823301706,22.808638707069058,15.53520374166996,79.96787914579266,19.176384488672785,34.87601736831101,34.016604514580564,71.6831240113102,37.473095931550574,89.06810120425334,9.865677760362814,66.94510783186693,30.279520208771306,56.522477024392416,13.06280998326464,37.864374100907696,38.051991161278565,42.380471311226536],\"y\":[0,0.12044820883387719,0.3799032084634162,2.1019937376760325,1.782339129429535,0.8739011685666709,4.50082239620944,3.3471035392566106,3.768407606923213,2.449756371501557,5.813366843891807,1.138944573961729,1.696097243394262,12.75522277100627,10.360491461501876,2.3820694077889653,15.732846538313053,13.33381706122726,17.43601924622615,9.086327513780912,3.3548282462383328,2.1660437712474407,12.386017787917927,9.278104675468729,7.999290459179156,15.732376184617697,24.638295056029357,4.488515291519358,15.936856108591378,26.004936904145236,2.0474522370596846,0.4307433805732642,10.678748007503998,4.809687705607827,20.966158763348655,15.677971090100831,9.324728421443108,6.6864641545197525,30.124215788208772,28.887690960236185,9.821020491351646,4.219913510634431,32.665549729311145,30.637744890521574,43.38360454660826,23.070241867478476,15.809441771791407,28.49409356148316,3.601076932728507,0.8486863748669132,2.8162281725464586,39.770210610696104,8.212711025821552,34.80882473584161,18.49917405898184,46.812935273012535,8.5114429450232,9.311128029400603,16.683436077012416,51.809829524506306,25.998283465148376,49.414680592711434,25.019855051482295,8.3083636138944,1.5640503154039465,63.006608987251596,50.66580282890996,2.117730697154237,16.34641337006449,27.84656434821441,60.79749351727975,60.27972834167167,68.75493645507986,54.03056214031789,15.96789805791851,64.59590566982558,48.22421703937619,41.91558201233873,21.221964198976664,58.03413224710667,44.29523523183708,72.74360917329429,44.87586300290591,4.458818590379567,12.88774270600578,35.311217886748686,65.20982640182496,6.785288594404534,29.36185640183387,16.298338554289934,72.26453094632294,0.10020117280168417,53.42503968618241,18.547665756586177,86.71909202293753,20.766466812327547,21.37129659302739,48.92397507464985,81.71445551301049,36.29285494609233]}];\n",
       " var layout_JNSPc6fWRu = {\"height\":350,\"width\":350,\"hovermode\":\"closest\",\"showlegend\":true,\"margin\":{\"l\":50,\"r\":50,\"t\":50,\"b\":50},\"xaxis\":{\"title\":{\"text\":\"x axis 2\"},\"showgrid\":true,\"zeroline\":false,\"showline\":false},\"yaxis\":{\"title\":{\"text\":\"y axis 2\"},\"showgrid\":true,\"zeroline\":false,\"showline\":false}};\n",
       " var config_JNSPc6fWRu = {\"responsive\":true,\"scrollZoom\":true,\"displaylogo\":false};\n",
       " Plotly.newPlot(\"graph_JNSPc6fWRu\", traces_JNSPc6fWRu, layout_JNSPc6fWRu, config_JNSPc6fWRu);\n",
       "\n",
       "  var traces_IqhC24ZeBZ = [{\"name\":\"c\",\"type\":\"scatter\",\"mode\":\"markers\",\"x\":[0,0.06716791226929908,1.4704331632016716,1.4864169487489465,0.7199755789057578,4.971362689089716,4.586623129918493,5.351586726888212,6.895446215539765,6.793844137543201,6.766376612315257,4.535913217368143,0.674119131719038,12.23485017481044,2.0986090716367483,2.7505518171413095,6.250255497974425,2.1799701863999212,4.547454634647723,0.9600404192620918,6.824362412694542,7.766997074733763,8.423442132468658,3.2389915734886956,15.732683848703545,3.9293816814749305,23.17335119459695,17.3854287590142,0.7764236886643365,13.825975247161594,21.659302486179957,15.630632716366769,28.367548934326187,14.529656074194069,26.577132801145208,23.609585766684553,10.792591280280154,12.095460628545453,34.36626186570286,27.99049042106153,16.92809743821398,31.91206651144319,9.138041749476917,25.056333675051057,27.371241146921594,14.308813207662403,20.047071181811972,21.336209806408966,18.42668106055247,15.993970125863942,5.40003835161138,34.348904975009575,20.96592111992627,5.288646931612451,6.889468048112983,47.89627684353718,43.09827084675542,36.544539201303905,50.905136414878676,35.37912179939524,1.1130594391141613,23.84271201715828,14.164048867915653,61.5535109871973,58.520854980386176,12.31476498106043,15.160572825876912,3.2510668593903493,15.487322140923215,26.456991718886815,52.42175020934342,61.10227360282677,31.766777682519702,9.87264246613824,36.508854567416506,38.477673058995826,20.65367782484647,52.22695797712404,64.38496835137198,61.947788115515934,10.729035154853905,38.08446363167788,43.419724823301706,22.808638707069058,15.53520374166996,79.96787914579266,19.176384488672785,34.87601736831101,34.016604514580564,71.6831240113102,37.473095931550574,89.06810120425334,9.865677760362814,66.94510783186693,30.279520208771306,56.522477024392416,13.06280998326464,37.864374100907696,38.051991161278565,42.380471311226536],\"y\":[0,0.12044820883387719,0.3799032084634162,2.1019937376760325,1.782339129429535,0.8739011685666709,4.50082239620944,3.3471035392566106,3.768407606923213,2.449756371501557,5.813366843891807,1.138944573961729,1.696097243394262,12.75522277100627,10.360491461501876,2.3820694077889653,15.732846538313053,13.33381706122726,17.43601924622615,9.086327513780912,3.3548282462383328,2.1660437712474407,12.386017787917927,9.278104675468729,7.999290459179156,15.732376184617697,24.638295056029357,4.488515291519358,15.936856108591378,26.004936904145236,2.0474522370596846,0.4307433805732642,10.678748007503998,4.809687705607827,20.966158763348655,15.677971090100831,9.324728421443108,6.6864641545197525,30.124215788208772,28.887690960236185,9.821020491351646,4.219913510634431,32.665549729311145,30.637744890521574,43.38360454660826,23.070241867478476,15.809441771791407,28.49409356148316,3.601076932728507,0.8486863748669132,2.8162281725464586,39.770210610696104,8.212711025821552,34.80882473584161,18.49917405898184,46.812935273012535,8.5114429450232,9.311128029400603,16.683436077012416,51.809829524506306,25.998283465148376,49.414680592711434,25.019855051482295,8.3083636138944,1.5640503154039465,63.006608987251596,50.66580282890996,2.117730697154237,16.34641337006449,27.84656434821441,60.79749351727975,60.27972834167167,68.75493645507986,54.03056214031789,15.96789805791851,64.59590566982558,48.22421703937619,41.91558201233873,21.221964198976664,58.03413224710667,44.29523523183708,72.74360917329429,44.87586300290591,4.458818590379567,12.88774270600578,35.311217886748686,65.20982640182496,6.785288594404534,29.36185640183387,16.298338554289934,72.26453094632294,0.10020117280168417,53.42503968618241,18.547665756586177,86.71909202293753,20.766466812327547,21.37129659302739,48.92397507464985,81.71445551301049,36.29285494609233]}];\n",
       " var layout_IqhC24ZeBZ = {\"height\":350,\"width\":350,\"hovermode\":\"closest\",\"showlegend\":true,\"margin\":{\"l\":50,\"r\":30,\"t\":50,\"b\":50},\"xaxis\":{\"title\":{\"text\":\"x axis 3\"},\"showgrid\":true,\"zeroline\":false,\"showline\":false},\"yaxis\":{\"title\":{\"text\":\"y axis 3\"},\"showgrid\":true,\"zeroline\":false,\"showline\":false}};\n",
       " var config_IqhC24ZeBZ = {\"responsive\":true,\"scrollZoom\":true,\"displaylogo\":false};\n",
       " Plotly.newPlot(\"graph_IqhC24ZeBZ\", traces_IqhC24ZeBZ, layout_IqhC24ZeBZ, config_IqhC24ZeBZ);\n",
       "\n",
       "  var traces_pANlh927Ud = [{\"name\":\"First series\",\"type\":\"scatter\",\"mode\":\"markers\",\"x\":[1,2,3],\"y\":[2,4,5]},{\"name\":\"Second series\",\"type\":\"scatter\",\"mode\":\"markers\",\"xaxis\":\"x2\",\"yaxis\":\"y2\",\"x\":[0,0.06716791226929908,1.4704331632016716,1.4864169487489465,0.7199755789057578,4.971362689089716,4.586623129918493,5.351586726888212,6.895446215539765,6.793844137543201,6.766376612315257,4.535913217368143,0.674119131719038,12.23485017481044,2.0986090716367483,2.7505518171413095,6.250255497974425,2.1799701863999212,4.547454634647723,0.9600404192620918,6.824362412694542,7.766997074733763,8.423442132468658,3.2389915734886956,15.732683848703545,3.9293816814749305,23.17335119459695,17.3854287590142,0.7764236886643365,13.825975247161594,21.659302486179957,15.630632716366769,28.367548934326187,14.529656074194069,26.577132801145208,23.609585766684553,10.792591280280154,12.095460628545453,34.36626186570286,27.99049042106153,16.92809743821398,31.91206651144319,9.138041749476917,25.056333675051057,27.371241146921594,14.308813207662403,20.047071181811972,21.336209806408966,18.42668106055247,15.993970125863942,5.40003835161138,34.348904975009575,20.96592111992627,5.288646931612451,6.889468048112983,47.89627684353718,43.09827084675542,36.544539201303905,50.905136414878676,35.37912179939524,1.1130594391141613,23.84271201715828,14.164048867915653,61.5535109871973,58.520854980386176,12.31476498106043,15.160572825876912,3.2510668593903493,15.487322140923215,26.456991718886815,52.42175020934342,61.10227360282677,31.766777682519702,9.87264246613824,36.508854567416506,38.477673058995826,20.65367782484647,52.22695797712404,64.38496835137198,61.947788115515934,10.729035154853905,38.08446363167788,43.419724823301706,22.808638707069058,15.53520374166996,79.96787914579266,19.176384488672785,34.87601736831101,34.016604514580564,71.6831240113102,37.473095931550574,89.06810120425334,9.865677760362814,66.94510783186693,30.279520208771306,56.522477024392416,13.06280998326464,37.864374100907696,38.051991161278565,42.380471311226536],\"y\":[0,0.12044820883387719,0.3799032084634162,2.1019937376760325,1.782339129429535,0.8739011685666709,4.50082239620944,3.3471035392566106,3.768407606923213,2.449756371501557,5.813366843891807,1.138944573961729,1.696097243394262,12.75522277100627,10.360491461501876,2.3820694077889653,15.732846538313053,13.33381706122726,17.43601924622615,9.086327513780912,3.3548282462383328,2.1660437712474407,12.386017787917927,9.278104675468729,7.999290459179156,15.732376184617697,24.638295056029357,4.488515291519358,15.936856108591378,26.004936904145236,2.0474522370596846,0.4307433805732642,10.678748007503998,4.809687705607827,20.966158763348655,15.677971090100831,9.324728421443108,6.6864641545197525,30.124215788208772,28.887690960236185,9.821020491351646,4.219913510634431,32.665549729311145,30.637744890521574,43.38360454660826,23.070241867478476,15.809441771791407,28.49409356148316,3.601076932728507,0.8486863748669132,2.8162281725464586,39.770210610696104,8.212711025821552,34.80882473584161,18.49917405898184,46.812935273012535,8.5114429450232,9.311128029400603,16.683436077012416,51.809829524506306,25.998283465148376,49.414680592711434,25.019855051482295,8.3083636138944,1.5640503154039465,63.006608987251596,50.66580282890996,2.117730697154237,16.34641337006449,27.84656434821441,60.79749351727975,60.27972834167167,68.75493645507986,54.03056214031789,15.96789805791851,64.59590566982558,48.22421703937619,41.91558201233873,21.221964198976664,58.03413224710667,44.29523523183708,72.74360917329429,44.87586300290591,4.458818590379567,12.88774270600578,35.311217886748686,65.20982640182496,6.785288594404534,29.36185640183387,16.298338554289934,72.26453094632294,0.10020117280168417,53.42503968618241,18.547665756586177,86.71909202293753,20.766466812327547,21.37129659302739,48.92397507464985,81.71445551301049,36.29285494609233]}];\n",
       " var layout_pANlh927Ud = {\"height\":350,\"width\":350,\"hovermode\":\"closest\",\"title\":{\"text\":\"The MultiChart from Above\"},\"showlegend\":true,\"grid\":{\"rows\":1,\"columns\":2,\"pattern\":\"independent\"},\"xaxis\":{\"showgrid\":true,\"zeroline\":false,\"showline\":false},\"xaxis2\":{\"title\":{\"text\":\"x2\"},\"showgrid\":true,\"zeroline\":false,\"showline\":false},\"yaxis2\":{\"showgrid\":true,\"zeroline\":false,\"showline\":false}};\n",
       " var config_pANlh927Ud = {\"responsive\":false,\"scrollZoom\":true,\"displaylogo\":false};\n",
       " Plotly.newPlot(\"graph_pANlh927Ud\", traces_pANlh927Ud, layout_pANlh927Ud, config_pANlh927Ud);\n",
       "\n",
       "var save_CLMJL2rpSv = document.getElementById(\"saveAsPNG_CLMJL2rpSv\")\n",
       "save_CLMJL2rpSv.onclick = async function() {\n",
       "    const grid = document.getElementById(\"grid-container_CLMJL2rpSv\")\n",
       "    const graphs = grid.getElementsByClassName(\"graph\")\n",
       "\n",
       "    const images = []\n",
       "\n",
       "    const rows = 2\n",
       "    const cols = 2\n",
       "    const img_width = 400\n",
       "    const img_height = 400\n",
       "    var margin = 50\n",
       "\n",
       "    for (var i=0; i<rows; i++) {\n",
       "      for (var j=0; j<cols; j++) {\n",
       "        const image = await Plotly.toImage(graphs[i * cols + j], {format: 'png', width: img_width, height: img_height})\n",
       "        images.push(image);\n",
       "      }\n",
       "    }\n",
       "\n",
       "    const positioned_images = []\n",
       "\n",
       "        for (var i=0; i<rows; i++) {\n",
       "            for (var j=0; j<cols; j++) {\n",
       "\n",
       "                const obj = {\n",
       "                    \"src\": images[i*cols + j],\n",
       "                    x: j*img_width+margin,\n",
       "                    y: i*img_height+margin\n",
       "                }\n",
       "\n",
       "                positioned_images.push(obj)\n",
       "            }\n",
       "        }\n",
       "\n",
       "        mergeImages(positioned_images, {\n",
       "            width: img_width*cols+60, height: img_height*rows+60\n",
       "        })\n",
       "        .then(b64 => {\n",
       "            var a = document.createElement(\"a\");\n",
       "            a.href = b64;\n",
       "            a.download = \"Image.png\";\n",
       "            a.click();\n",
       "            a.remove()\n",
       "        });\n",
       "}\n",
       "</script> \n"
      ]
     },
     "metadata": {},
     "output_type": "display_data"
    }
   ],
   "source": [
    "// first define the x-axes we will use in the plot\n",
    "val ax1 = Axis(X, title = \"x axis 1\")\n",
    "val ax2 = Axis(X, title = \"x axis 2\")\n",
    "val ax3 = Axis(X, title = \"x axis 3\")\n",
    "val ax4 = Axis(X, title = \"x axis 4\")\n",
    "\n",
    "// first define the y-axes we will use in the plot\n",
    "val ax6 = Axis(Y, title = \"y axis 1\")\n",
    "val ax7 = Axis(Y, title = \"y axis 2\")\n",
    "val ax8 = Axis(Y, title = \"y axis 3\")\n",
    "val ax9 = Axis(Y, title = \"y axis 4\")\n",
    "\n",
    "// it may be necessary to play around with the chart dimensions and margin  in order to ensure a good fit on screen.\n",
    "val dim = 350\n",
    "\n",
    "val chart1 = (\n",
    "    Chart()\n",
    "    setDimensions(width = dim, height = dim)\n",
    "    addSeries XY(x, y).setName(\"a\").drawMarkers\n",
    "    addAxes(ax1, ax6)\n",
    "    setMargin(l=50, r=30, t=50, b=50)\n",
    ")\n",
    "\n",
    "val chart2 = (\n",
    "    Chart() \n",
    "    setDimensions(width = dim, height = dim)\n",
    "    addSeries XY(x, y).setName(\"b\").drawMarkers\n",
    "    addAxes(ax2, ax7)\n",
    "    setMargin(l=50, r=50, t=50, b=50)\n",
    ")\n",
    "\n",
    "val chart3 = (\n",
    "    Chart()\n",
    "    setDimensions(width = dim, height = dim)\n",
    "    addSeries XY(x, y).setName(\"c\").drawMarkers\n",
    "    addAxes(ax3, ax8)\n",
    "    setMargin(l=50, r=30, t=50, b=50)\n",
    ")\n",
    "\n",
    "val chart4 = (\n",
    "    Chart()\n",
    "    setDimensions(width = dim, height = dim)\n",
    "    addSeries(series1, series2)\n",
    "    setTitle \"The MultiChart from Above\"\n",
    "    addAxes(xaxis1, yaxis1, xaxis2, yaxis2) // these axes come from above\n",
    "    setConfig(responsive=false)\n",
    "    asMultiChart(1, 2)\n",
    ")\n",
    "\n",
    "// The canvas has an underlying grid. By default the underlying grid is 1x1, but we can pass in the dimensions we \n",
    "// require by passing in parameters in the constructor.\n",
    "Canvas(2, 2)\n",
    ".setChart(0, 0, chart1)\n",
    ".setChart(0, 1, chart2)\n",
    ".setChart(1, 0, chart3)\n",
    ".setChart(1, 1, chart4)\n",
    ".plotInline"
   ]
  },
  {
   "cell_type": "markdown",
   "metadata": {},
   "source": [
    "### Error Bars\n",
    "\n",
    "We can also add Error Bars to our plots.\n",
    "\n",
    "Error bars come in two flavours:\n",
    "\n",
    "1. `XError`\n",
    "2. `YError`\n",
    "\n",
    "Both of these has an associated `mode` that determines how the error bar is calculated for an individual point. The following `mode`s can be specified:\n",
    "\n",
    "- `DATA`: The user passes in an array that specifies the per point error\n",
    "- `PERCENT`: The user passes in a Double that calculates the error as a percentage of the value of the point\n",
    "- `CONSTANT`: The user passes in a double that is the constant value for the error for all points\n",
    "- `SQRT`: This calculates the error as a square root of the point value.\n",
    "\n",
    "The next few examples will demonstrate:"
   ]
  },
  {
   "cell_type": "code",
   "execution_count": 22,
   "metadata": {},
   "outputs": [],
   "source": [
    "// First import the Error Bar options\n",
    "import org.carbonateresearch.picta.options.{YError, CONSTANT, DATA, PERCENT, SQRT}"
   ]
  },
  {
   "cell_type": "code",
   "execution_count": 23,
   "metadata": {},
   "outputs": [
    {
     "data": {
      "text/html": [
       "<div id=\"grid-container_UsMYx8ZFkT\" class=\"grid-container\" align=\"center\"> \n",
       "<div id=\"grid_UsMYx8ZFkT\" class=\"grid\" align=\"center\"> \n",
       "<div id=\"graph_WmIdgvo7h0\" class=\"graph\"></div> \n",
       "<div id=\"graph_zf839A3b7M\" class=\"graph\"></div> \n",
       "<div id=\"graph_TSZtVq2ORd\" class=\"graph\"></div> \n",
       "<div id=\"graph_7L79m1uF5D\" class=\"graph\"></div> \n",
       "</div> \n",
       "</div> \n",
       "\n",
       "<div align=\"center\">\n",
       "<button id = \"saveAsPNG_UsMYx8ZFkT\" class=\"picta-button\">Download Canvas as PNG</button>\n",
       "</div>\n",
       "<script>\n",
       "var masonry = new Macy({\n",
       "    container: '#grid_UsMYx8ZFkT',\n",
       "    debug: true,\n",
       "    mobileFirst: true,\n",
       "    columns: 2,\n",
       "    margin: {\n",
       "        x: 0,\n",
       "        y: 0\n",
       "    }\n",
       "  });\n",
       "\n",
       "  var traces_WmIdgvo7h0 = [{\"name\":\"Error from provided data\",\"type\":\"scatter\",\"mode\":\"markers\",\"x\":[1,2,3],\"y\":[1.234,5.2112,2.44332],\"error_y\":{\"type\":\"data\",\"visible\":true,\"array\":[0.5,0.5,0.5]}}];\n",
       " var layout_WmIdgvo7h0 = {\"height\":400,\"width\":400,\"hovermode\":\"closest\",\"title\":{\"text\":\"Per Point Specified Error\"},\"showlegend\":true};\n",
       " var config_WmIdgvo7h0 = {\"responsive\":true,\"scrollZoom\":true,\"displaylogo\":false};\n",
       " Plotly.newPlot(\"graph_WmIdgvo7h0\", traces_WmIdgvo7h0, layout_WmIdgvo7h0, config_WmIdgvo7h0);\n",
       "\n",
       "  var traces_zf839A3b7M = [{\"name\":\"% error\",\"type\":\"scatter\",\"mode\":\"markers\",\"x\":[1,2,3],\"y\":[1.234,5.2112,2.44332],\"error_y\":{\"type\":\"percent\",\"visible\":true,\"value\":10}}];\n",
       " var layout_zf839A3b7M = {\"height\":400,\"width\":400,\"hovermode\":\"closest\",\"title\":{\"text\":\"Percentage Error\"},\"showlegend\":true};\n",
       " var config_zf839A3b7M = {\"responsive\":true,\"scrollZoom\":true,\"displaylogo\":false};\n",
       " Plotly.newPlot(\"graph_zf839A3b7M\", traces_zf839A3b7M, layout_zf839A3b7M, config_zf839A3b7M);\n",
       "\n",
       "  var traces_TSZtVq2ORd = [{\"name\":\"constant error\",\"type\":\"scatter\",\"mode\":\"markers\",\"x\":[1,2,3],\"y\":[1.234,5.2112,2.44332],\"error_y\":{\"type\":\"constant\",\"visible\":true,\"value\":10}}];\n",
       " var layout_TSZtVq2ORd = {\"height\":400,\"width\":400,\"hovermode\":\"closest\",\"title\":{\"text\":\"Constant Error\"},\"showlegend\":true};\n",
       " var config_TSZtVq2ORd = {\"responsive\":true,\"scrollZoom\":true,\"displaylogo\":false};\n",
       " Plotly.newPlot(\"graph_TSZtVq2ORd\", traces_TSZtVq2ORd, layout_TSZtVq2ORd, config_TSZtVq2ORd);\n",
       "\n",
       "  var traces_7L79m1uF5D = [{\"name\":\"Sqrt\",\"type\":\"scatter\",\"mode\":\"markers\",\"x\":[1,2,3],\"y\":[1.234,5.2112,2.44332],\"error_y\":{\"type\":\"sqrt\",\"visible\":true}}];\n",
       " var layout_7L79m1uF5D = {\"height\":400,\"width\":400,\"hovermode\":\"closest\",\"title\":{\"text\":\"Sqrt Error\"},\"showlegend\":true};\n",
       " var config_7L79m1uF5D = {\"responsive\":true,\"scrollZoom\":true,\"displaylogo\":false};\n",
       " Plotly.newPlot(\"graph_7L79m1uF5D\", traces_7L79m1uF5D, layout_7L79m1uF5D, config_7L79m1uF5D);\n",
       "\n",
       "var save_UsMYx8ZFkT = document.getElementById(\"saveAsPNG_UsMYx8ZFkT\")\n",
       "save_UsMYx8ZFkT.onclick = async function() {\n",
       "    const grid = document.getElementById(\"grid-container_UsMYx8ZFkT\")\n",
       "    const graphs = grid.getElementsByClassName(\"graph\")\n",
       "\n",
       "    const images = []\n",
       "\n",
       "    const rows = 2\n",
       "    const cols = 2\n",
       "    const img_width = 400\n",
       "    const img_height = 400\n",
       "    var margin = 50\n",
       "\n",
       "    for (var i=0; i<rows; i++) {\n",
       "      for (var j=0; j<cols; j++) {\n",
       "        const image = await Plotly.toImage(graphs[i * cols + j], {format: 'png', width: img_width, height: img_height})\n",
       "        images.push(image);\n",
       "      }\n",
       "    }\n",
       "\n",
       "    const positioned_images = []\n",
       "\n",
       "        for (var i=0; i<rows; i++) {\n",
       "            for (var j=0; j<cols; j++) {\n",
       "\n",
       "                const obj = {\n",
       "                    \"src\": images[i*cols + j],\n",
       "                    x: j*img_width+margin,\n",
       "                    y: i*img_height+margin\n",
       "                }\n",
       "\n",
       "                positioned_images.push(obj)\n",
       "            }\n",
       "        }\n",
       "\n",
       "        mergeImages(positioned_images, {\n",
       "            width: img_width*cols+60, height: img_height*rows+60\n",
       "        })\n",
       "        .then(b64 => {\n",
       "            var a = document.createElement(\"a\");\n",
       "            a.href = b64;\n",
       "            a.download = \"Image.png\";\n",
       "            a.click();\n",
       "            a.remove()\n",
       "        });\n",
       "}\n",
       "</script> \n"
      ]
     },
     "metadata": {},
     "output_type": "display_data"
    }
   ],
   "source": [
    "val dim = 400\n",
    "\n",
    "val series1 = (\n",
    "    XY(List(1, 2, 3), List(1.234, 5.2112, 2.44332))\n",
    "    asType SCATTER\n",
    "    drawStyle MARKERS\n",
    "    // User specifies the error per point \n",
    "    setErrorBars YError(mode = DATA, array = List(0.5, 0.5, 0.5))\n",
    ")\n",
    "\n",
    "val chart1 = (\n",
    "    Chart()\n",
    "    addSeries series1.setName(\"Error from provided data\")\n",
    "    setTitle \"Per Point Specified Error\"\n",
    "    setDimensions(width = dim, height = dim)\n",
    ")\n",
    "\n",
    "\n",
    "val series2 = (\n",
    "    XY(List(1, 2, 3), List(1.234, 5.2112, 2.44332))\n",
    "    asType SCATTER\n",
    "    drawStyle MARKERS\n",
    "    // the error here is 10% of the corresponding y-value for the point\n",
    "    setErrorBars YError(mode = PERCENT, value = 10.0)\n",
    ")\n",
    "\n",
    "val chart2 = (\n",
    "    Chart()\n",
    "    addSeries series2.setName(\"% error\")\n",
    "    setTitle \"Percentage Error\"\n",
    "    setDimensions(width = dim, height = dim)\n",
    "    \n",
    ")\n",
    "\n",
    "\n",
    "val series3 = (\n",
    "    XY(List(1, 2, 3), List(1.234, 5.2112, 2.44332))\n",
    "    asType SCATTER\n",
    "    drawStyle MARKERS\n",
    "    // a constant error of 10 is applied to each point\n",
    "    setErrorBars YError(mode = CONSTANT, value = 10.0)\n",
    "    setName(\"Constant value\")\n",
    ")\n",
    "\n",
    "val chart3 = (\n",
    "    Chart()\n",
    "    addSeries series3.setName(\"constant error\")\n",
    "    setTitle \"Constant Error\"\n",
    "    setDimensions(width = dim, height = dim)\n",
    ")\n",
    "\n",
    "\n",
    "val series4 = (\n",
    "    XY(List(1, 2, 3), List(1.234, 5.2112, 2.44332))\n",
    "    asType SCATTER\n",
    "    drawStyle MARKERS\n",
    "    setErrorBars YError(mode = SQRT)\n",
    "    setName(\"Sqrt\")\n",
    ")\n",
    "\n",
    "val chart4 = (\n",
    "    Chart()\n",
    "    addSeries series4.setName(\"Sqrt\")\n",
    "    setTitle \"Sqrt Error\"\n",
    "    // the error is set to the sqrt of the corresponding point\n",
    "    setDimensions(width = dim, height = dim)\n",
    ")\n",
    "\n",
    "val canvas = Canvas(2, 2) addCharts (chart1, chart2, chart3, chart4)\n",
    "\n",
    "canvas.plotInline"
   ]
  },
  {
   "cell_type": "markdown",
   "metadata": {},
   "source": [
    "### Other Types of Charts\n",
    "\n",
    "The next examples will demonstrate how to create a variety of `Chart`s. All of the examples below are composable with the `Canvas` subplot system.\n",
    "\n",
    "#### Pie Chart\n",
    "\n",
    "Pie charts can be created in two ways. The first way uses the `PieElement` component to compose a Piechart:"
   ]
  },
  {
   "cell_type": "code",
   "execution_count": 24,
   "metadata": {},
   "outputs": [
    {
     "data": {
      "text/html": [
       "<div id=\"grid-container_FSQwRZsAlq\" class=\"grid-container\" align=\"center\"> \n",
       "<div id=\"grid_FSQwRZsAlq\" class=\"grid\" align=\"center\"> \n",
       "<div id=\"graph_FB4RUEtbW4\" class=\"graph\"></div> \n",
       "</div> \n",
       "</div> \n",
       "<script>\n",
       "var masonry = new Macy({\n",
       "    container: '#grid_FSQwRZsAlq',\n",
       "    debug: true,\n",
       "    mobileFirst: true,\n",
       "    columns: 1,\n",
       "    margin: {\n",
       "        x: 0,\n",
       "        y: 0\n",
       "    }\n",
       "  });\n",
       "\n",
       "  var traces_FB4RUEtbW4 = [{\"name\":\"Bl22WpJ0ev\",\"type\":\"pie\",\"values\":[60,20,20],\"labels\":[\"Residential\",\"Non-Residential\",\"Utility\"]}];\n",
       " var layout_FB4RUEtbW4 = {\"height\":550,\"width\":600,\"hovermode\":\"closest\",\"title\":{\"text\":\"Pie Elements\"},\"showlegend\":true};\n",
       " var config_FB4RUEtbW4 = {\"responsive\":true,\"scrollZoom\":true,\"displaylogo\":false};\n",
       " Plotly.newPlot(\"graph_FB4RUEtbW4\", traces_FB4RUEtbW4, layout_FB4RUEtbW4, config_FB4RUEtbW4);\n",
       "</script> \n"
      ]
     },
     "metadata": {},
     "output_type": "display_data"
    }
   ],
   "source": [
    "val a = PieElement(value=60, name=\"Residential\")\n",
    "val b = PieElement(value=20, name=\"Non-Residential\")\n",
    "val c = PieElement(value=20, name=\"Utility\")\n",
    "\n",
    "// we add a list of Pie Elements to an XY series as the list of Pie Elements gets deconstructed down into two series:\n",
    "// X => values: [60, 20, 20]\n",
    "// Y => labels: [\"Residential\", \"Non-Residential\", \"Utility\"]\n",
    "// The labels become the series_name for each individual PieElement\n",
    "// As we pass in a list of PieElements, we do not need to specify the type as a PIE\n",
    "val series = XY(x=List(a, b, c))\n",
    "\n",
    "val chart = Chart() addSeries series setTitle \"Pie Elements\"\n",
    "\n",
    "chart.plotInline"
   ]
  },
  {
   "cell_type": "code",
   "execution_count": 25,
   "metadata": {},
   "outputs": [
    {
     "data": {
      "text/html": [
       "<div id=\"grid-container_ruYDGV05YD\" class=\"grid-container\" align=\"center\"> \n",
       "<div id=\"grid_ruYDGV05YD\" class=\"grid\" align=\"center\"> \n",
       "<div id=\"graph_LmwPy166E3\" class=\"graph\"></div> \n",
       "</div> \n",
       "</div> \n",
       "<script>\n",
       "var masonry = new Macy({\n",
       "    container: '#grid_ruYDGV05YD',\n",
       "    debug: true,\n",
       "    mobileFirst: true,\n",
       "    columns: 1,\n",
       "    margin: {\n",
       "        x: 0,\n",
       "        y: 0\n",
       "    }\n",
       "  });\n",
       "\n",
       "  var traces_LmwPy166E3 = [{\"name\":\"4PrlKOdB2h\",\"type\":\"pie\",\"values\":[60,20,20],\"labels\":[\"Residential\",\"Non-Residential\",\"Utility\"]}];\n",
       " var layout_LmwPy166E3 = {\"height\":550,\"width\":600,\"hovermode\":\"closest\",\"title\":{\"text\":\"Pie Chart\"},\"showlegend\":true};\n",
       " var config_LmwPy166E3 = {\"responsive\":false,\"scrollZoom\":false,\"displaylogo\":false};\n",
       " Plotly.newPlot(\"graph_LmwPy166E3\", traces_LmwPy166E3, layout_LmwPy166E3, config_LmwPy166E3);\n",
       "</script> \n"
      ]
     },
     "metadata": {},
     "output_type": "display_data"
    }
   ],
   "source": [
    "// However, composing individual PieElements may be tedious if there is a lot of data and we know how to it all fits\n",
    "// together. Picta provides a short hand to quickly create a Pie Chart using the methods we have seen previously\n",
    "// In this case we pass the (value, name) pairs as two seperate lists. As before, the labels become an individual\n",
    "// series name for each point; which is why the legend renders correctly.\n",
    "val series = XY(x=List(60, 20, 20), y=List(\"Residential\", \"Non-Residential\", \"Utility\")) asType PIE\n",
    "\n",
    "val chart = Chart() addSeries series setConfig(false, false) setTitle \"Pie Chart\"\n",
    "\n",
    "chart.plotInline"
   ]
  },
  {
   "cell_type": "markdown",
   "metadata": {},
   "source": [
    "### Histogram"
   ]
  },
  {
   "cell_type": "code",
   "execution_count": 26,
   "metadata": {},
   "outputs": [
    {
     "data": {
      "text/html": [
       "<div id=\"grid-container_3lFM9wY7jm\" class=\"grid-container\" align=\"center\"> \n",
       "<div id=\"grid_3lFM9wY7jm\" class=\"grid\" align=\"center\"> \n",
       "<div id=\"graph_f4g8h98Tom\" class=\"graph\"></div> \n",
       "</div> \n",
       "</div> \n",
       "<script>\n",
       "var masonry = new Macy({\n",
       "    container: '#grid_3lFM9wY7jm',\n",
       "    debug: true,\n",
       "    mobileFirst: true,\n",
       "    columns: 1,\n",
       "    margin: {\n",
       "        x: 0,\n",
       "        y: 0\n",
       "    }\n",
       "  });\n",
       "\n",
       "  var traces_f4g8h98Tom = [{\"name\":\"kGz2FH5vRU\",\"type\":\"histogram\",\"x\":[0,0.06716791226929908,1.4704331632016716,1.4864169487489465,0.7199755789057578,4.971362689089716,4.586623129918493,5.351586726888212,6.895446215539765,6.793844137543201,6.766376612315257,4.535913217368143,0.674119131719038,12.23485017481044,2.0986090716367483,2.7505518171413095,6.250255497974425,2.1799701863999212,4.547454634647723,0.9600404192620918,6.824362412694542,7.766997074733763,8.423442132468658,3.2389915734886956,15.732683848703545,3.9293816814749305,23.17335119459695,17.3854287590142,0.7764236886643365,13.825975247161594,21.659302486179957,15.630632716366769,28.367548934326187,14.529656074194069,26.577132801145208,23.609585766684553,10.792591280280154,12.095460628545453,34.36626186570286,27.99049042106153,16.92809743821398,31.91206651144319,9.138041749476917,25.056333675051057,27.371241146921594,14.308813207662403,20.047071181811972,21.336209806408966,18.42668106055247,15.993970125863942,5.40003835161138,34.348904975009575,20.96592111992627,5.288646931612451,6.889468048112983,47.89627684353718,43.09827084675542,36.544539201303905,50.905136414878676,35.37912179939524,1.1130594391141613,23.84271201715828,14.164048867915653,61.5535109871973,58.520854980386176,12.31476498106043,15.160572825876912,3.2510668593903493,15.487322140923215,26.456991718886815,52.42175020934342,61.10227360282677,31.766777682519702,9.87264246613824,36.508854567416506,38.477673058995826,20.65367782484647,52.22695797712404,64.38496835137198,61.947788115515934,10.729035154853905,38.08446363167788,43.419724823301706,22.808638707069058,15.53520374166996,79.96787914579266,19.176384488672785,34.87601736831101,34.016604514580564,71.6831240113102,37.473095931550574,89.06810120425334,9.865677760362814,66.94510783186693,30.279520208771306,56.522477024392416,13.06280998326464,37.864374100907696,38.051991161278565,42.380471311226536]}];\n",
       " var layout_f4g8h98Tom = {\"height\":550,\"width\":600,\"hovermode\":\"closest\",\"title\":{\"text\":\"Histogram with axes\"},\"showlegend\":true,\"xaxis\":{\"title\":{\"text\":\"my x data\"},\"showgrid\":true,\"zeroline\":false,\"showline\":false},\"yaxis\":{\"title\":{\"text\":\"my y data\"},\"showgrid\":true,\"zeroline\":false,\"showline\":false}};\n",
       " var config_f4g8h98Tom = {\"responsive\":true,\"scrollZoom\":true,\"displaylogo\":false};\n",
       " Plotly.newPlot(\"graph_f4g8h98Tom\", traces_f4g8h98Tom, layout_f4g8h98Tom, config_f4g8h98Tom);\n",
       "</script> \n"
      ]
     },
     "metadata": {},
     "output_type": "display_data"
    }
   ],
   "source": [
    "val series = XY(x=x) asType HISTOGRAM\n",
    "\n",
    "val xaxis = Axis(X, title = \"my x data\")\n",
    "val yaxis = Axis(Y, title = \"my y data\")\n",
    "\n",
    "val chart = (\n",
    "    Chart() \n",
    "    addSeries series\n",
    "    setTitle \"Histogram with axes\"\n",
    "    addAxes(xaxis, yaxis)\n",
    ")\n",
    "\n",
    "Canvas()\n",
    ".addCharts(chart)\n",
    ".plotInline"
   ]
  },
  {
   "cell_type": "markdown",
   "metadata": {},
   "source": [
    "#### Customizing colors for a Histogram\n",
    "\n",
    "We can use the `HistOptions` class to further specify options for a histogram. For example, if we wanted to create a horizontally positioned histogram, we can do the following:"
   ]
  },
  {
   "cell_type": "code",
   "execution_count": 27,
   "metadata": {},
   "outputs": [],
   "source": [
    "import org.carbonateresearch.picta.options.histogram.HistOptions\n",
    "import org.carbonateresearch.picta.options.Line"
   ]
  },
  {
   "cell_type": "code",
   "execution_count": 28,
   "metadata": {},
   "outputs": [
    {
     "data": {
      "text/html": [
       "<div id=\"grid-container_PimRNDWKuo\" class=\"grid-container\" align=\"center\"> \n",
       "<div id=\"grid_PimRNDWKuo\" class=\"grid\" align=\"center\"> \n",
       "<div id=\"graph_ZN0Fu2YWvp\" class=\"graph\"></div> \n",
       "</div> \n",
       "</div> \n",
       "<script>\n",
       "var masonry = new Macy({\n",
       "    container: '#grid_PimRNDWKuo',\n",
       "    debug: true,\n",
       "    mobileFirst: true,\n",
       "    columns: 1,\n",
       "    margin: {\n",
       "        x: 0,\n",
       "        y: 0\n",
       "    }\n",
       "  });\n",
       "\n",
       "  var traces_ZN0Fu2YWvp = [{\"name\":\"yymJ56vVtW\",\"type\":\"histogram\",\"marker\":{\"color\":\"rgba(255.0, 100.0, 102.0, 0.5)\",\"line\":{\"width\":0.5}},\"y\":[0,0.06716791226929908,1.4704331632016716,1.4864169487489465,0.7199755789057578,4.971362689089716,4.586623129918493,5.351586726888212,6.895446215539765,6.793844137543201,6.766376612315257,4.535913217368143,0.674119131719038,12.23485017481044,2.0986090716367483,2.7505518171413095,6.250255497974425,2.1799701863999212,4.547454634647723,0.9600404192620918,6.824362412694542,7.766997074733763,8.423442132468658,3.2389915734886956,15.732683848703545,3.9293816814749305,23.17335119459695,17.3854287590142,0.7764236886643365,13.825975247161594,21.659302486179957,15.630632716366769,28.367548934326187,14.529656074194069,26.577132801145208,23.609585766684553,10.792591280280154,12.095460628545453,34.36626186570286,27.99049042106153,16.92809743821398,31.91206651144319,9.138041749476917,25.056333675051057,27.371241146921594,14.308813207662403,20.047071181811972,21.336209806408966,18.42668106055247,15.993970125863942,5.40003835161138,34.348904975009575,20.96592111992627,5.288646931612451,6.889468048112983,47.89627684353718,43.09827084675542,36.544539201303905,50.905136414878676,35.37912179939524,1.1130594391141613,23.84271201715828,14.164048867915653,61.5535109871973,58.520854980386176,12.31476498106043,15.160572825876912,3.2510668593903493,15.487322140923215,26.456991718886815,52.42175020934342,61.10227360282677,31.766777682519702,9.87264246613824,36.508854567416506,38.477673058995826,20.65367782484647,52.22695797712404,64.38496835137198,61.947788115515934,10.729035154853905,38.08446363167788,43.419724823301706,22.808638707069058,15.53520374166996,79.96787914579266,19.176384488672785,34.87601736831101,34.016604514580564,71.6831240113102,37.473095931550574,89.06810120425334,9.865677760362814,66.94510783186693,30.279520208771306,56.522477024392416,13.06280998326464,37.864374100907696,38.051991161278565,42.380471311226536]}];\n",
       " var layout_ZN0Fu2YWvp = {\"height\":550,\"width\":600,\"hovermode\":\"closest\",\"title\":{\"text\":\"XY.Histogram.Color\"},\"showlegend\":true};\n",
       " var config_ZN0Fu2YWvp = {\"responsive\":true,\"scrollZoom\":true,\"displaylogo\":false};\n",
       " Plotly.newPlot(\"graph_ZN0Fu2YWvp\", traces_ZN0Fu2YWvp, layout_ZN0Fu2YWvp, config_ZN0Fu2YWvp);\n",
       "</script> \n"
      ]
     },
     "metadata": {},
     "output_type": "display_data"
    }
   ],
   "source": [
    "// we can also compose customizations in much the same way:\n",
    "val marker = Marker() setColor RGBA(255, 100, 102, 0.5) setLine Line()\n",
    "\n",
    "// change xkey to y to get a horizontal histogram\n",
    "val series = (\n",
    "    XY(x) \n",
    "    asType HISTOGRAM\n",
    "    setMarker marker\n",
    "    // we can set histogram specific options using the setHistOptions method\n",
    "    setHistOptions(orientation = HORIZONTAL)\n",
    ")\n",
    "\n",
    "val chart = (\n",
    "    Chart() \n",
    "    addSeries series \n",
    "    setTitle \"XY.Histogram.Color\"\n",
    ")\n",
    "\n",
    "chart.plotInline"
   ]
  },
  {
   "cell_type": "markdown",
   "metadata": {},
   "source": [
    "#### Cumulative Histogram\n",
    "\n",
    "Sometimes a cumulative histogram may be desired. We can do this as follows:"
   ]
  },
  {
   "cell_type": "code",
   "execution_count": 29,
   "metadata": {},
   "outputs": [],
   "source": [
    "// we can import a range of histnorms\n",
    "import org.carbonateresearch.picta.options.histogram.{Cumulative, PERCENT, DENSITY, PROBABILITY_DENSITY, NUMBER}"
   ]
  },
  {
   "cell_type": "code",
   "execution_count": 30,
   "metadata": {},
   "outputs": [
    {
     "data": {
      "text/html": [
       "<div id=\"grid-container_WsydWe46ke\" class=\"grid-container\" align=\"center\"> \n",
       "<div id=\"grid_WsydWe46ke\" class=\"grid\" align=\"center\"> \n",
       "<div id=\"graph_oAiOVs1m9k\" class=\"graph\"></div> \n",
       "</div> \n",
       "</div> \n",
       "<script>\n",
       "var masonry = new Macy({\n",
       "    container: '#grid_WsydWe46ke',\n",
       "    debug: true,\n",
       "    mobileFirst: true,\n",
       "    columns: 1,\n",
       "    margin: {\n",
       "        x: 0,\n",
       "        y: 0\n",
       "    }\n",
       "  });\n",
       "\n",
       "  var traces_oAiOVs1m9k = [{\"name\":\"indGmfDalF\",\"type\":\"histogram\",\"cumulative\":{\"enabled\":true},\"histnorm\":\"\",\"x\":[0,0.06716791226929908,1.4704331632016716,1.4864169487489465,0.7199755789057578,4.971362689089716,4.586623129918493,5.351586726888212,6.895446215539765,6.793844137543201,6.766376612315257,4.535913217368143,0.674119131719038,12.23485017481044,2.0986090716367483,2.7505518171413095,6.250255497974425,2.1799701863999212,4.547454634647723,0.9600404192620918,6.824362412694542,7.766997074733763,8.423442132468658,3.2389915734886956,15.732683848703545,3.9293816814749305,23.17335119459695,17.3854287590142,0.7764236886643365,13.825975247161594,21.659302486179957,15.630632716366769,28.367548934326187,14.529656074194069,26.577132801145208,23.609585766684553,10.792591280280154,12.095460628545453,34.36626186570286,27.99049042106153,16.92809743821398,31.91206651144319,9.138041749476917,25.056333675051057,27.371241146921594,14.308813207662403,20.047071181811972,21.336209806408966,18.42668106055247,15.993970125863942,5.40003835161138,34.348904975009575,20.96592111992627,5.288646931612451,6.889468048112983,47.89627684353718,43.09827084675542,36.544539201303905,50.905136414878676,35.37912179939524,1.1130594391141613,23.84271201715828,14.164048867915653,61.5535109871973,58.520854980386176,12.31476498106043,15.160572825876912,3.2510668593903493,15.487322140923215,26.456991718886815,52.42175020934342,61.10227360282677,31.766777682519702,9.87264246613824,36.508854567416506,38.477673058995826,20.65367782484647,52.22695797712404,64.38496835137198,61.947788115515934,10.729035154853905,38.08446363167788,43.419724823301706,22.808638707069058,15.53520374166996,79.96787914579266,19.176384488672785,34.87601736831101,34.016604514580564,71.6831240113102,37.473095931550574,89.06810120425334,9.865677760362814,66.94510783186693,30.279520208771306,56.522477024392416,13.06280998326464,37.864374100907696,38.051991161278565,42.380471311226536]}];\n",
       " var layout_oAiOVs1m9k = {\"height\":550,\"width\":600,\"hovermode\":\"closest\",\"title\":{\"text\":\"Histogram - Cumulative\"},\"showlegend\":true};\n",
       " var config_oAiOVs1m9k = {\"responsive\":true,\"scrollZoom\":true,\"displaylogo\":false};\n",
       " Plotly.newPlot(\"graph_oAiOVs1m9k\", traces_oAiOVs1m9k, layout_oAiOVs1m9k, config_oAiOVs1m9k);\n",
       "</script> \n"
      ]
     },
     "metadata": {},
     "output_type": "display_data"
    }
   ],
   "source": [
    "val series = XY(x) asType HISTOGRAM setHistOptions(histnorm = NUMBER, cumulative = Cumulative(enabled=true))\n",
    "\n",
    "val chart = Chart() addSeries series setTitle \"Histogram - Cumulative\"\n",
    "\n",
    "chart.plotInline"
   ]
  },
  {
   "cell_type": "markdown",
   "metadata": {},
   "source": [
    "#### Specifiying the Binning Function\n",
    "\n",
    "We can also specify the binning function for a histogram."
   ]
  },
  {
   "cell_type": "code",
   "execution_count": 31,
   "metadata": {},
   "outputs": [],
   "source": [
    "import org.carbonateresearch.picta.options.histogram.{COUNT, SUM, AVG, MIN, MAX, HistOptions}"
   ]
  },
  {
   "cell_type": "code",
   "execution_count": 32,
   "metadata": {},
   "outputs": [
    {
     "data": {
      "text/html": [
       "<div id=\"grid-container_9fmUrGGimH\" class=\"grid-container\" align=\"center\"> \n",
       "<div id=\"grid_9fmUrGGimH\" class=\"grid\" align=\"center\"> \n",
       "<div id=\"graph_I1TBaP9lnn\" class=\"graph\"></div> \n",
       "</div> \n",
       "</div> \n",
       "<script>\n",
       "var masonry = new Macy({\n",
       "    container: '#grid_9fmUrGGimH',\n",
       "    debug: true,\n",
       "    mobileFirst: true,\n",
       "    columns: 1,\n",
       "    margin: {\n",
       "        x: 0,\n",
       "        y: 0\n",
       "    }\n",
       "  });\n",
       "\n",
       "  var traces_I1TBaP9lnn = [{\"name\":\"MpMfKDrfsp\",\"type\":\"histogram\",\"histfunc\":\"count\",\"x\":[\"Apples\",\"Apples\",\"Apples\",\"Oranges\",\"Bananas\"],\"y\":[\"5\",\"10\",\"3\",\"10\",\"5\"]},{\"name\":\"HMGZwdAYXE\",\"type\":\"histogram\",\"histfunc\":\"sum\",\"x\":[\"Apples\",\"Apples\",\"Apples\",\"Oranges\",\"Bananas\"],\"y\":[\"5\",\"10\",\"3\",\"10\",\"5\"]}];\n",
       " var layout_I1TBaP9lnn = {\"height\":550,\"width\":600,\"hovermode\":\"closest\",\"title\":{\"text\":\"Histogram - Specify Binning Function\"},\"showlegend\":true};\n",
       " var config_I1TBaP9lnn = {\"responsive\":true,\"scrollZoom\":true,\"displaylogo\":false};\n",
       " Plotly.newPlot(\"graph_I1TBaP9lnn\", traces_I1TBaP9lnn, layout_I1TBaP9lnn, config_I1TBaP9lnn);\n",
       "</script> \n"
      ]
     },
     "metadata": {},
     "output_type": "display_data"
    }
   ],
   "source": [
    "val x = List(\"Apples\", \"Apples\", \"Apples\", \"Oranges\", \"Bananas\")\n",
    "val y = List(\"5\", \"10\", \"3\", \"10\", \"5\")\n",
    "\n",
    "// we can also assign histOptions to a value and pass them to the setHistOptions method\n",
    "val ho1 = HistOptions(histfunc = COUNT)\n",
    "val ho2 = HistOptions(histfunc = SUM)\n",
    "    \n",
    "val t1 = XY(x = x, y = y) asType HISTOGRAM setHistOptions ho1\n",
    "val t2 = XY(x = x, y = y) asType HISTOGRAM setHistOptions ho2\n",
    "\n",
    "val chart = Chart() addSeries(t1, t2) setTitle \"Histogram - Specify Binning Function\"\n",
    "val canvas = Canvas() addCharts chart\n",
    "canvas.plotInline"
   ]
  },
  {
   "cell_type": "markdown",
   "metadata": {},
   "source": [
    "### 2D Histogram Contour"
   ]
  },
  {
   "cell_type": "code",
   "execution_count": 33,
   "metadata": {},
   "outputs": [
    {
     "data": {
      "text/html": [
       "<div id=\"grid-container_ozhJuwLDP0\" class=\"grid-container\" align=\"center\"> \n",
       "<div id=\"grid_ozhJuwLDP0\" class=\"grid\" align=\"center\"> \n",
       "<div id=\"graph_30hT4csSEE\" class=\"graph\"></div> \n",
       "</div> \n",
       "</div> \n",
       "<script>\n",
       "var masonry = new Macy({\n",
       "    container: '#grid_ozhJuwLDP0',\n",
       "    debug: true,\n",
       "    mobileFirst: true,\n",
       "    columns: 1,\n",
       "    margin: {\n",
       "        x: 0,\n",
       "        y: 0\n",
       "    }\n",
       "  });\n",
       "\n",
       "  var traces_30hT4csSEE = [{\"name\":\"YY8uiLWQwY\",\"type\":\"histogram2dcontour\",\"mode\":\"markers\",\"x\":[1,2,3,4,5,6,7,8,9,10,11,12,13,14,15,16,17,18,19,20,21,22,23,24,25,26,27,28,29,30,31,32,33,34,35,36,37,38,39,40,41,42,43,44,45,46,47,48,49],\"y\":[89.21867875796671,59.8398237390663,101.67775337282441,37.18604027053904,6.270539483430633,30.010305209696682,62.487864422086844,94.90266283997504,50.32130825213739,81.10281992999894,109.8035488489386,51.406949841192905,76.93485398238559,56.56575490860571,33.25632703004126,112.60697942875328,58.440812990580746,104.64311767651462,25.26976365203391,83.60871181804615,61.377523018443654,82.54660878464136,68.36496952718508,56.62643620214216,96.56613180954083,122.69137116893765,122.21061113813943,118.01410007283452,126.34039875271972,118.8842446318442,84.05330268974251,113.9957543252424,104.96065345957203,48.26344530069598,126.73062864125099,74.14605492387267,122.86924957237659,130.82381066341975,102.16051311529455,129.2693354289442,123.19875246563225,42.521817527399,135.01696142088883,76.04850830875372,59.82307051177085,140.2398595672944,121.24372965633862,134.68263440101066,70.2455308904263]}];\n",
       " var layout_30hT4csSEE = {\"height\":550,\"width\":600,\"hovermode\":\"closest\",\"title\":{\"text\":\"2D Histogram Contour\"},\"showlegend\":true};\n",
       " var config_30hT4csSEE = {\"responsive\":true,\"scrollZoom\":true,\"displaylogo\":false};\n",
       " Plotly.newPlot(\"graph_30hT4csSEE\", traces_30hT4csSEE, layout_30hT4csSEE, config_30hT4csSEE);\n",
       "</script> \n"
      ]
     },
     "metadata": {},
     "output_type": "display_data"
    }
   ],
   "source": [
    "val x = List.range(1, 50)\n",
    "val y = x.map(x => x + scala.util.Random.nextDouble()*100)\n",
    "\n",
    "val series = XY(x, y).asType(HISTOGRAM2DCONTOUR).drawMarkers\n",
    "\n",
    "val chart = (\n",
    "    Chart() addSeries series\n",
    "    setTitle \"2D Histogram Contour\"\n",
    ")\n",
    "\n",
    "chart.plotInline"
   ]
  },
  {
   "cell_type": "markdown",
   "metadata": {},
   "source": [
    "#### Adding additional axes\n",
    "\n",
    "As the above is a density plot, adding histograms can be useful too.\n",
    "\n",
    "We can add histograms as follows:"
   ]
  },
  {
   "cell_type": "code",
   "execution_count": 34,
   "metadata": {},
   "outputs": [],
   "source": [
    "// import the 2d Density histogram options\n",
    "import org.carbonateresearch.picta.options.histogram2d.Hist2dOptions"
   ]
  },
  {
   "cell_type": "code",
   "execution_count": 35,
   "metadata": {},
   "outputs": [
    {
     "data": {
      "text/html": [
       "<div id=\"grid-container_2UzBllYrEe\" class=\"grid-container\" align=\"center\"> \n",
       "<div id=\"grid_2UzBllYrEe\" class=\"grid\" align=\"center\"> \n",
       "<div id=\"graph_7n954w83MW\" class=\"graph\"></div> \n",
       "</div> \n",
       "</div> \n",
       "<script>\n",
       "var masonry = new Macy({\n",
       "    container: '#grid_2UzBllYrEe',\n",
       "    debug: true,\n",
       "    mobileFirst: true,\n",
       "    columns: 1,\n",
       "    margin: {\n",
       "        x: 0,\n",
       "        y: 0\n",
       "    }\n",
       "  });\n",
       "\n",
       "  var traces_7n954w83MW = [{\"name\":\"points\",\"type\":\"scatter\",\"mode\":\"markers\",\"marker\":{\"color\":\"rgb(102.0, 0.0, 0.0)\"},\"x\":[1,2,3,4,5,6,7,8,9,10,11,12,13,14,15,16,17,18,19,20,21,22,23,24,25,26,27,28,29,30,31,32,33,34,35,36,37,38,39,40,41,42,43,44,45,46,47,48,49],\"y\":[89.21867875796671,59.8398237390663,101.67775337282441,37.18604027053904,6.270539483430633,30.010305209696682,62.487864422086844,94.90266283997504,50.32130825213739,81.10281992999894,109.8035488489386,51.406949841192905,76.93485398238559,56.56575490860571,33.25632703004126,112.60697942875328,58.440812990580746,104.64311767651462,25.26976365203391,83.60871181804615,61.377523018443654,82.54660878464136,68.36496952718508,56.62643620214216,96.56613180954083,122.69137116893765,122.21061113813943,118.01410007283452,126.34039875271972,118.8842446318442,84.05330268974251,113.9957543252424,104.96065345957203,48.26344530069598,126.73062864125099,74.14605492387267,122.86924957237659,130.82381066341975,102.16051311529455,129.2693354289442,123.19875246563225,42.521817527399,135.01696142088883,76.04850830875372,59.82307051177085,140.2398595672944,121.24372965633862,134.68263440101066,70.2455308904263]},{\"name\":\"density\",\"type\":\"histogram2dcontour\",\"ncontours\":20,\"reversescale\":false,\"showscale\":true,\"x\":[1,2,3,4,5,6,7,8,9,10,11,12,13,14,15,16,17,18,19,20,21,22,23,24,25,26,27,28,29,30,31,32,33,34,35,36,37,38,39,40,41,42,43,44,45,46,47,48,49],\"y\":[89.21867875796671,59.8398237390663,101.67775337282441,37.18604027053904,6.270539483430633,30.010305209696682,62.487864422086844,94.90266283997504,50.32130825213739,81.10281992999894,109.8035488489386,51.406949841192905,76.93485398238559,56.56575490860571,33.25632703004126,112.60697942875328,58.440812990580746,104.64311767651462,25.26976365203391,83.60871181804615,61.377523018443654,82.54660878464136,68.36496952718508,56.62643620214216,96.56613180954083,122.69137116893765,122.21061113813943,118.01410007283452,126.34039875271972,118.8842446318442,84.05330268974251,113.9957543252424,104.96065345957203,48.26344530069598,126.73062864125099,74.14605492387267,122.86924957237659,130.82381066341975,102.16051311529455,129.2693354289442,123.19875246563225,42.521817527399,135.01696142088883,76.04850830875372,59.82307051177085,140.2398595672944,121.24372965633862,134.68263440101066,70.2455308904263]},{\"name\":\"histogram\",\"type\":\"histogram\",\"yaxis\":\"y2\",\"x\":[1,2,3,4,5,6,7,8,9,10,11,12,13,14,15,16,17,18,19,20,21,22,23,24,25,26,27,28,29,30,31,32,33,34,35,36,37,38,39,40,41,42,43,44,45,46,47,48,49]},{\"name\":\"y density\",\"type\":\"histogram\",\"xaxis\":\"x2\",\"marker\":{\"color\":\"rgb(102.0, 0.0, 0.0)\"},\"y\":[89.21867875796671,59.8398237390663,101.67775337282441,37.18604027053904,6.270539483430633,30.010305209696682,62.487864422086844,94.90266283997504,50.32130825213739,81.10281992999894,109.8035488489386,51.406949841192905,76.93485398238559,56.56575490860571,33.25632703004126,112.60697942875328,58.440812990580746,104.64311767651462,25.26976365203391,83.60871181804615,61.377523018443654,82.54660878464136,68.36496952718508,56.62643620214216,96.56613180954083,122.69137116893765,122.21061113813943,118.01410007283452,126.34039875271972,118.8842446318442,84.05330268974251,113.9957543252424,104.96065345957203,48.26344530069598,126.73062864125099,74.14605492387267,122.86924957237659,130.82381066341975,102.16051311529455,129.2693354289442,123.19875246563225,42.521817527399,135.01696142088883,76.04850830875372,59.82307051177085,140.2398595672944,121.24372965633862,134.68263440101066,70.2455308904263]}];\n",
       " var layout_7n954w83MW = {\"height\":550,\"width\":600,\"hovermode\":\"closest\",\"title\":{\"text\":\"XY.Histogram2dContour.WithDensity\"},\"showlegend\":false,\"autosize\":false,\"xaxis\":{\"showgrid\":false,\"zeroline\":false,\"showline\":false,\"domain\":[0,0.85]},\"yaxis\":{\"showgrid\":false,\"zeroline\":false,\"showline\":false,\"domain\":[0,0.85]},\"xaxis2\":{\"showgrid\":false,\"zeroline\":false,\"showline\":false,\"domain\":[0.85,1]},\"yaxis2\":{\"showgrid\":false,\"zeroline\":false,\"showline\":false,\"domain\":[0.85,1]}};\n",
       " var config_7n954w83MW = {\"responsive\":true,\"scrollZoom\":true,\"displaylogo\":false};\n",
       " Plotly.newPlot(\"graph_7n954w83MW\", traces_7n954w83MW, layout_7n954w83MW, config_7n954w83MW);\n",
       "</script> \n"
      ]
     },
     "metadata": {},
     "output_type": "display_data"
    }
   ],
   "source": [
    "val ax1 = Axis(X, showgrid = false) setDomain(0.0, 0.85)\n",
    "val ax2 = Axis(Y, showgrid = false) setDomain(0.0, 0.85)\n",
    "val ax3 = Axis(X, position = 2, showgrid = false) setDomain(0.85, 1.0)\n",
    "val ax4 = Axis(Y, position = 2, showgrid = false) setDomain(0.85, 1.0)\n",
    "\n",
    "val marker = Marker() setColor RGB(102,0,0)\n",
    "val series1 = XY(x, y) asType SCATTER drawStyle MARKERS setName \"points\" setMarker marker\n",
    "\n",
    "val series2 = (\n",
    "    XY(x, y)\n",
    "    setName \"density\"\n",
    "    asType HISTOGRAM2DCONTOUR\n",
    "    setHist2dOptions(ncontours = 20, reversescale = false, showscale = true)\n",
    "  )\n",
    "\n",
    "val series3 = XY(x = x) asType HISTOGRAM setName \"histogram\" setAxes(ax1, ax4)\n",
    "val series4 = (XY(y) setName \"y density\" asType HISTOGRAM setAxis ax3 setMarker marker\n",
    "  setHistOptions (orientation = HORIZONTAL))\n",
    "\n",
    "val layout = (ChartLayout(\"XY.Histogram2dContour.WithDensity\", auto_size = false) setAxes(ax1, ax2, ax3, ax4))\n",
    "\n",
    "val chart = Chart() addSeries(series1, series2, series3, series4) setChartLayout layout showLegend false\n",
    "\n",
    "chart.plotInline"
   ]
  },
  {
   "cell_type": "markdown",
   "metadata": {},
   "source": [
    "### 3D Charts\n",
    "\n",
    "3D charts are constructed using a `XYZ` series as they take in 3 `Series`' to create a single point.\n",
    "\n",
    "The Picta API does not accept nested lists, however the underlying Plotlyjs render does. In order to render any series that will make use of a nested list, we must flatten and provide the length of an element (before the list was flattened).\n",
    "\n",
    "The following examples will make it clearer.\n",
    "\n",
    "#### Contour"
   ]
  },
  {
   "cell_type": "code",
   "execution_count": 36,
   "metadata": {},
   "outputs": [],
   "source": [
    "// lets create some dummy adata for the third dimension\n",
    "val x = List(-9, -6, -5 , -3, -1)\n",
    "val y = List(0, 1, 4, 5, 7)\n",
    "val z = List(\n",
    "    List(10, 10.625, 12.5, 15.625, 20),\n",
    "    List(5.625, 6.25, 8.125, 11.25, 15.625),\n",
    "    List(2.5, 3.125, 5.0, 8.125, 12.5),\n",
    "    List(0.625, 1.25, 3.125, 6.25, 10.625),\n",
    "    List(0, 0.625, 2.5, 5.625, 10)\n",
    ")"
   ]
  },
  {
   "cell_type": "code",
   "execution_count": 37,
   "metadata": {},
   "outputs": [
    {
     "data": {
      "text/html": [
       "<div id=\"grid-container_7iBqsdBu80\" class=\"grid-container\" align=\"center\"> \n",
       "<div id=\"grid_7iBqsdBu80\" class=\"grid\" align=\"center\"> \n",
       "<div id=\"graph_L9v6bp4T2c\" class=\"graph\"></div> \n",
       "</div> \n",
       "</div> \n",
       "<script>\n",
       "var masonry = new Macy({\n",
       "    container: '#grid_7iBqsdBu80',\n",
       "    debug: true,\n",
       "    mobileFirst: true,\n",
       "    columns: 1,\n",
       "    margin: {\n",
       "        x: 0,\n",
       "        y: 0\n",
       "    }\n",
       "  });\n",
       "\n",
       "  var traces_L9v6bp4T2c = [{\"name\":\"JAnDTr3VPA\",\"type\":\"contour\",\"x\":[-9,-6,-5,-3,-1],\"y\":[0,1,4,5,7],\"z\":[[10,10.625,12.5,15.625,20],[5.625,6.25,8.125,11.25,15.625],[2.5,3.125,5,8.125,12.5],[0.625,1.25,3.125,6.25,10.625],[0,0.625,2.5,5.625,10]]}];\n",
       " var layout_L9v6bp4T2c = {\"height\":550,\"width\":600,\"hovermode\":\"closest\",\"title\":{\"text\":\"Contour\"},\"showlegend\":true};\n",
       " var config_L9v6bp4T2c = {\"responsive\":true,\"scrollZoom\":true,\"displaylogo\":false};\n",
       " Plotly.newPlot(\"graph_L9v6bp4T2c\", traces_L9v6bp4T2c, layout_L9v6bp4T2c, config_L9v6bp4T2c);\n",
       "</script> \n"
      ]
     },
     "metadata": {},
     "output_type": "display_data"
    }
   ],
   "source": [
    "// we flatten the nested list as we pass it into the Series constructor\n",
    "val series = XYZ(x=x, y=y, z=z.flatten, n=z(0).length).asType(CONTOUR)\n",
    "\n",
    "// set up the chart\n",
    "val chart = Chart()\n",
    "            .addSeries(series)\n",
    "            .setTitle(\"Contour\")\n",
    "\n",
    "// plot the chart\n",
    "chart.plotInline"
   ]
  },
  {
   "cell_type": "markdown",
   "metadata": {},
   "source": [
    "#### Heatmap"
   ]
  },
  {
   "cell_type": "code",
   "execution_count": 38,
   "metadata": {
    "scrolled": false
   },
   "outputs": [],
   "source": [
    "// create a new nested list for the heatmap\n",
    "val z = List.range(1, 101).map(e => e + scala.util.Random.nextDouble()*100).grouped(10).toList"
   ]
  },
  {
   "cell_type": "code",
   "execution_count": 39,
   "metadata": {},
   "outputs": [
    {
     "data": {
      "text/html": [
       "<div id=\"grid-container_jQxlqfQlOD\" class=\"grid-container\" align=\"center\"> \n",
       "<div id=\"grid_jQxlqfQlOD\" class=\"grid\" align=\"center\"> \n",
       "<div id=\"graph_9TOcypt6fp\" class=\"graph\"></div> \n",
       "</div> \n",
       "</div> \n",
       "<script>\n",
       "var masonry = new Macy({\n",
       "    container: '#grid_jQxlqfQlOD',\n",
       "    debug: true,\n",
       "    mobileFirst: true,\n",
       "    columns: 1,\n",
       "    margin: {\n",
       "        x: 0,\n",
       "        y: 0\n",
       "    }\n",
       "  });\n",
       "\n",
       "  var traces_9TOcypt6fp = [{\"name\":\"goExndXQxq\",\"type\":\"heatmap\",\"z\":[[21.955271177150316,7.687595430477388,64.32419162652397,40.917489061474505,21.743013160166253,6.911981812787754,32.56444163629777,47.214375691937384,75.3964169944049,60.17123123005014],[46.1787381025658,26.323567639317424,27.902065008522094,35.18010759159023,27.813360053004175,22.639804178116915,29.352007622168127,75.0872819831917,111.76806798526607,65.78906733230596],[85.73587931134145,28.17457625970821,111.20250902589014,44.460085799230676,38.674437299039944,106.49534002284793,108.18207369079433,47.37233799122006,63.868096734960254,119.9882535242528],[85.68248223404747,124.21559382112531,93.75669332823557,133.48166953974496,62.957480567705446,109.33752535342886,63.734329047718404,98.00762953739795,66.08425685946843,94.02225778665192],[53.235835031842036,114.9734456134508,64.03629982725137,129.39416284415168,143.10902884766475,101.99280786107138,127.29356640277275,91.29761967148056,138.90962819235426,142.55714611998388],[120.78504857297239,140.94483012510398,116.10328785058238,118.23196101018043,125.86888244942705,70.69024278244112,127.631937472588,141.69172885595432,97.09040247120377,132.98148362902717],[76.89922080493469,131.660866474172,98.61863013616377,112.35313172227653,99.95249755898975,96.70719231908274,132.54687545108877,115.27110343414992,119.48654180891342,123.83816431134505],[166.65326243983583,120.70175059164967,130.26669755693774,99.97917260164957,92.752182289979,155.47126246213764,150.6669565685766,129.66694947065625,98.42779196138186,132.79730445781195],[128.24100310834427,150.67019495328756,114.72587027717505,119.81626309863577,118.5920183504509,90.75332428921817,110.29045375591187,180.49588392676225,166.27962617323735,153.4281870211289],[138.4668929482231,174.01444349467386,104.1000346597412,168.2925414565661,108.05307031444057,175.50409388987867,152.7981034534772,192.43290138098354,140.6656994167336,125.99729939309337]]}];\n",
       " var layout_9TOcypt6fp = {\"height\":550,\"width\":600,\"hovermode\":\"closest\",\"title\":{\"text\":\"Heatmap\"},\"showlegend\":true};\n",
       " var config_9TOcypt6fp = {\"responsive\":true,\"scrollZoom\":true,\"displaylogo\":false};\n",
       " Plotly.newPlot(\"graph_9TOcypt6fp\", traces_9TOcypt6fp, layout_9TOcypt6fp, config_9TOcypt6fp);\n",
       "</script> \n"
      ]
     },
     "metadata": {},
     "output_type": "display_data"
    }
   ],
   "source": [
    "// we get the length of an element of the nested list\n",
    "val n = z(0).length\n",
    "\n",
    "// we now flatten the list and pass it into Series constructor, as well as 'n', the length of an element so that the \n",
    "// heatmap dimensions are correctly constructed\n",
    "val series = XYZ(z=z.flatten, n=n) asType HEATMAP\n",
    "\n",
    "val chart = Chart().addSeries(series).setTitle(\"Heatmap\")\n",
    "\n",
    "chart.plotInline"
   ]
  },
  {
   "cell_type": "markdown",
   "metadata": {},
   "source": [
    "#### Scatter3D"
   ]
  },
  {
   "cell_type": "code",
   "execution_count": 40,
   "metadata": {
    "scrolled": false
   },
   "outputs": [
    {
     "data": {
      "text/html": [
       "<div id=\"grid-container_kHlI3EwD2m\" class=\"grid-container\" align=\"center\"> \n",
       "<div id=\"grid_kHlI3EwD2m\" class=\"grid\" align=\"center\"> \n",
       "<div id=\"graph_HHojtLp25A\" class=\"graph\"></div> \n",
       "</div> \n",
       "</div> \n",
       "<script>\n",
       "var masonry = new Macy({\n",
       "    container: '#grid_kHlI3EwD2m',\n",
       "    debug: true,\n",
       "    mobileFirst: true,\n",
       "    columns: 1,\n",
       "    margin: {\n",
       "        x: 0,\n",
       "        y: 0\n",
       "    }\n",
       "  });\n",
       "\n",
       "  var traces_HHojtLp25A = [{\"name\":\"mCPMMekLpm\",\"type\":\"scatter3d\",\"mode\":\"markers\",\"x\":[1,2,3,4,5,6,7,8,9,10,11,12,13,14,15,16,17,18,19,20,21,22,23,24,25,26,27,28,29,30,31,32,33,34,35,36,37,38,39,40,41,42,43,44,45,46,47,48,49,50,51,52,53,54,55,56,57,58,59,60,61,62,63,64,65,66,67,68,69,70,71,72,73,74,75,76,77,78,79,80,81,82,83,84,85,86,87,88,89,90,91,92,93,94,95,96,97,98,99],\"y\":[1,2,3,4,5,6,7,8,9,10,11,12,13,14,15,16,17,18,19,20,21,22,23,24,25,26,27,28,29,30,31,32,33,34,35,36,37,38,39,40,41,42,43,44,45,46,47,48,49,50,51,52,53,54,55,56,57,58,59,60,61,62,63,64,65,66,67,68,69,70,71,72,73,74,75,76,77,78,79,80,81,82,83,84,85,86,87,88,89,90,91,92,93,94,95,96,97,98,99],\"z\":[21.31961538815161,101.20667465691416,41.66986182232267,35.350093535842404,100.82619148628763,42.78438391547243,54.593306387640965,56.711548109584434,44.20948531236843,13.817655488445858,53.23770833570146,52.49503128557449,26.490914625903592,16.43186415046136,52.579677160107096,46.31695220139652,82.63347090384069,58.55142249818542,81.98722001655003,110.77517703407058,52.521759896577024,44.48865960333482,73.34178420646151,31.427776570910325,53.071519665208925,65.54195955549957,73.81325054855806,70.90461929392984,104.37593400050474,98.6872450814249,127.43156022764029,76.0503701908066,34.55002803609031,35.60709228338468,106.41506340848277,86.72011866611237,88.8132578444334,106.58687943653507,63.157076010856855,98.69648357703898,72.3544161600705,134.21754728469324,116.8385349706982,105.1697651587416,63.651802561337504,50.379705870038734,84.82606100286228,91.32027762583792,145.17551519042848,136.64398001605917,118.33112215897526,84.76475867629233,111.77770346122156,103.00762576338329,104.2474486279421,70.97629127901891,133.58042536534822,102.79762399890546,150.65016915034604,67.25995689351406,69.79972762661964,92.60561306575119,82.13163056530382,111.46396994989834,152.69846769311243,85.28016227538392,132.96523082644848,162.32880678876074,86.73925170716589,111.28705617688888,141.0299913242115,127.22440916871467,137.01284500972343,99.15843878090224,113.4950150443533,129.99828244439237,113.14626064653757,109.2867563588942,156.4544021161152,106.75489377317514,90.1486389747363,106.97967387102273,135.01955362198544,170.60946252525525,146.03200079934453,140.47724188560468,157.8172490874229,117.80691467017299,137.54776696338791,97.54276218631071,160.4082584993806,157.06936631761587,180.00891381748608,150.2739755543719,95.83265777582633,131.63323380854123,144.92153659667838,161.94130442693043,127.30446030490174]}];\n",
       " var layout_HHojtLp25A = {\"height\":550,\"width\":600,\"hovermode\":\"closest\",\"title\":{\"text\":\"XYZ.Scatter3D\"},\"showlegend\":true};\n",
       " var config_HHojtLp25A = {\"responsive\":false,\"scrollZoom\":false,\"displaylogo\":false};\n",
       " Plotly.newPlot(\"graph_HHojtLp25A\", traces_HHojtLp25A, layout_HHojtLp25A, config_HHojtLp25A);\n",
       "</script> \n"
      ]
     },
     "metadata": {},
     "output_type": "display_data"
    }
   ],
   "source": [
    "val x = List.range(1, 100)\n",
    "val y = List.range(1, 100)\n",
    "val z = List.range(1, 100).map(e => e + scala.util.Random.nextDouble()*100)\n",
    "\n",
    "val series = XYZ(x, y, z).asType(SCATTER3D).drawStyle(MARKERS)\n",
    "val chart1 = Chart() addSeries series setTitle \"XYZ.Scatter3D\" setConfig(false, false)\n",
    "val canvas = Canvas() addCharts chart1\n",
    "canvas.plotInline"
   ]
  },
  {
   "cell_type": "markdown",
   "metadata": {},
   "source": [
    "#### Surface Plot"
   ]
  },
  {
   "cell_type": "code",
   "execution_count": 41,
   "metadata": {
    "scrolled": false
   },
   "outputs": [
    {
     "data": {
      "text/html": [
       "<div id=\"grid-container_gBYEeheeqH\" class=\"grid-container\" align=\"center\"> \n",
       "<div id=\"grid_gBYEeheeqH\" class=\"grid\" align=\"center\"> \n",
       "<div id=\"graph_DgfyoGeUrZ\" class=\"graph\"></div> \n",
       "</div> \n",
       "</div> \n",
       "<script>\n",
       "var masonry = new Macy({\n",
       "    container: '#grid_gBYEeheeqH',\n",
       "    debug: true,\n",
       "    mobileFirst: true,\n",
       "    columns: 1,\n",
       "    margin: {\n",
       "        x: 0,\n",
       "        y: 0\n",
       "    }\n",
       "  });\n",
       "\n",
       "  var traces_DgfyoGeUrZ = [{\"name\":\"LHkT61Q62j\",\"type\":\"surface\",\"colorbar\":{\"title\":{\"text\":\"Altitude\",\"side\":\"right\"}},\"z\":[[8.83,8.89,8.81,8.87,8.9,8.87],[8.89,8.94,8.85,8.94,8.96,8.92],[8.84,8.9,8.82,8.92,8.93,8.91],[8.79,8.85,8.79,8.9,8.94,8.92],[8.79,8.88,8.81,8.9,8.95,8.92],[8.8,8.82,8.78,8.91,8.94,8.92],[8.75,8.78,8.77,8.91,8.95,8.92],[8.8,8.8,8.77,8.91,8.95,8.94],[8.74,8.81,8.76,8.93,8.98,8.99],[8.89,8.99,8.92,9.1,9.13,9.11],[8.97,8.97,8.91,9.09,9.11,9.11],[9.04,9.08,9.05,9.25,9.28,9.27],[9,9.01,9,9.2,9.23,9.2],[8.99,8.99,8.98,9.18,9.2,9.19],[8.93,8.97,8.97,9.18,9.2,9.18]]}];\n",
       " var layout_DgfyoGeUrZ = {\"height\":550,\"width\":600,\"hovermode\":\"closest\",\"title\":{\"text\":\"Surface\"},\"showlegend\":true};\n",
       " var config_DgfyoGeUrZ = {\"responsive\":true,\"scrollZoom\":true,\"displaylogo\":false};\n",
       " Plotly.newPlot(\"graph_DgfyoGeUrZ\", traces_DgfyoGeUrZ, layout_DgfyoGeUrZ, config_DgfyoGeUrZ);\n",
       "</script> \n"
      ]
     },
     "metadata": {},
     "output_type": "display_data"
    }
   ],
   "source": [
    "// 3d surface plot\n",
    "val k = List(\n",
    "    List(8.83,8.89,8.81,8.87,8.9,8.87),\n",
    "    List(8.89,8.94,8.85,8.94,8.96,8.92),\n",
    "    List(8.84,8.9,8.82,8.92,8.93,8.91),\n",
    "    List(8.79,8.85,8.79,8.9,8.94,8.92),\n",
    "    List(8.79,8.88,8.81,8.9,8.95,8.92),\n",
    "    List(8.8,8.82,8.78,8.91,8.94,8.92),\n",
    "    List(8.75,8.78,8.77,8.91,8.95,8.92),\n",
    "    List(8.8,8.8,8.77,8.91,8.95,8.94),\n",
    "    List(8.74,8.81,8.76,8.93,8.98,8.99),\n",
    "    List(8.89,8.99,8.92,9.1,9.13,9.11),\n",
    "    List(8.97,8.97,8.91,9.09,9.11,9.11),\n",
    "    List(9.04,9.08,9.05,9.25,9.28,9.27),\n",
    "    List(9,9.01,9,9.2,9.23,9.2),\n",
    "    List(8.99,8.99,8.98,9.18,9.2,9.19),\n",
    "    List(8.93,8.97,8.97,9.18,9.2,9.18)\n",
    "  )\n",
    "\n",
    "val series = XYZ(z=k.flatten, n = k(0).length) asType SURFACE setColorBar(\"Altitude\", RIGHT_SIDE)\n",
    "val chart2 = Chart() addSeries series setTitle \"Surface\"\n",
    "\n",
    "chart2.plotInline"
   ]
  },
  {
   "cell_type": "markdown",
   "metadata": {},
   "source": [
    "#### Third Dimension as Color"
   ]
  },
  {
   "cell_type": "code",
   "execution_count": 42,
   "metadata": {},
   "outputs": [
    {
     "data": {
      "text/html": [
       "<div id=\"grid-container_xjQIhbehra\" class=\"grid-container\" align=\"center\"> \n",
       "<div id=\"grid_xjQIhbehra\" class=\"grid\" align=\"center\"> \n",
       "<div id=\"graph_3q8Rb0k1Hq\" class=\"graph\"></div> \n",
       "</div> \n",
       "</div> \n",
       "<script>\n",
       "var masonry = new Macy({\n",
       "    container: '#grid_xjQIhbehra',\n",
       "    debug: true,\n",
       "    mobileFirst: true,\n",
       "    columns: 1,\n",
       "    margin: {\n",
       "        x: 0,\n",
       "        y: 0\n",
       "    }\n",
       "  });\n",
       "\n",
       "  var traces_3q8Rb0k1Hq = [{\"name\":\"Ir4r9WRKrI\",\"type\":\"scatter\",\"mode\":\"markers\",\"marker\":{\"color\":[21.31961538815161,101.20667465691416,41.66986182232267,35.350093535842404,100.82619148628763,42.78438391547243,54.593306387640965,56.711548109584434,44.20948531236843,13.817655488445858,53.23770833570146,52.49503128557449,26.490914625903592,16.43186415046136,52.579677160107096,46.31695220139652,82.63347090384069,58.55142249818542,81.98722001655003,110.77517703407058,52.521759896577024,44.48865960333482,73.34178420646151,31.427776570910325,53.071519665208925,65.54195955549957,73.81325054855806,70.90461929392984,104.37593400050474,98.6872450814249,127.43156022764029,76.0503701908066,34.55002803609031,35.60709228338468,106.41506340848277,86.72011866611237,88.8132578444334,106.58687943653507,63.157076010856855,98.69648357703898,72.3544161600705,134.21754728469324,116.8385349706982,105.1697651587416,63.651802561337504,50.379705870038734,84.82606100286228,91.32027762583792,145.17551519042848,136.64398001605917,118.33112215897526,84.76475867629233,111.77770346122156,103.00762576338329,104.2474486279421,70.97629127901891,133.58042536534822,102.79762399890546,150.65016915034604,67.25995689351406,69.79972762661964,92.60561306575119,82.13163056530382,111.46396994989834,152.69846769311243,85.28016227538392,132.96523082644848,162.32880678876074,86.73925170716589,111.28705617688888,141.0299913242115,127.22440916871467,137.01284500972343,99.15843878090224,113.4950150443533,129.99828244439237,113.14626064653757,109.2867563588942,156.4544021161152,106.75489377317514,90.1486389747363,106.97967387102273,135.01955362198544,170.60946252525525,146.03200079934453,140.47724188560468,157.8172490874229,117.80691467017299,137.54776696338791,97.54276218631071,160.4082584993806,157.06936631761587,180.00891381748608,150.2739755543719,95.83265777582633,131.63323380854123,144.92153659667838,161.94130442693043,127.30446030490174],\"colorbar\":{\"title\":{\"text\":\"3rd Dimension\",\"side\":\"right\"}}},\"x\":[1,2,3,4,5,6,7,8,9,10,11,12,13,14,15,16,17,18,19,20,21,22,23,24,25,26,27,28,29,30,31,32,33,34,35,36,37,38,39,40,41,42,43,44,45,46,47,48,49,50,51,52,53,54,55,56,57,58,59,60,61,62,63,64,65,66,67,68,69,70,71,72,73,74,75,76,77,78,79,80,81,82,83,84,85,86,87,88,89,90,91,92,93,94,95,96,97,98,99],\"y\":[1,2,3,4,5,6,7,8,9,10,11,12,13,14,15,16,17,18,19,20,21,22,23,24,25,26,27,28,29,30,31,32,33,34,35,36,37,38,39,40,41,42,43,44,45,46,47,48,49,50,51,52,53,54,55,56,57,58,59,60,61,62,63,64,65,66,67,68,69,70,71,72,73,74,75,76,77,78,79,80,81,82,83,84,85,86,87,88,89,90,91,92,93,94,95,96,97,98,99]}];\n",
       " var layout_3q8Rb0k1Hq = {\"height\":550,\"width\":600,\"hovermode\":\"closest\",\"title\":{\"text\":\"Scatter With Color\"},\"showlegend\":false};\n",
       " var config_3q8Rb0k1Hq = {\"responsive\":true,\"scrollZoom\":true,\"displaylogo\":false};\n",
       " Plotly.newPlot(\"graph_3q8Rb0k1Hq\", traces_3q8Rb0k1Hq, layout_3q8Rb0k1Hq, config_3q8Rb0k1Hq);\n",
       "</script> \n"
      ]
     },
     "metadata": {},
     "output_type": "display_data"
    }
   ],
   "source": [
    "// multiple compositions can be used to create scatter charts with a color representing some third dimension\n",
    "val series = (\n",
    "    XY(x, y) \n",
    "    asType SCATTER \n",
    "    drawStyle MARKERS \n",
    "    setMarker marker \n",
    "    setColor z \n",
    "    setColorBar(\"3rd Dimension\", RIGHT_SIDE)\n",
    ")\n",
    "\n",
    "val chart3 = Chart() addSeries series setTitle \"Scatter With Color\" showLegend false\n",
    "chart3.plotInline"
   ]
  },
  {
   "cell_type": "markdown",
   "metadata": {},
   "source": [
    "#### Subplot\n",
    "\n",
    "The Subplot class can be used to generate subplots for an XYZ plots just as we did previously."
   ]
  },
  {
   "cell_type": "code",
   "execution_count": 43,
   "metadata": {},
   "outputs": [
    {
     "data": {
      "text/html": [
       "<div id=\"grid-container_bB8z5e0PYN\" class=\"grid-container\" align=\"center\"> \n",
       "<div id=\"grid_bB8z5e0PYN\" class=\"grid\" align=\"center\"> \n",
       "<div id=\"graph_kmn5JJd8D5\" class=\"graph\"></div> \n",
       "<div id=\"graph_OwlisashxW\" class=\"graph\"></div> \n",
       "<div id=\"graph_hUYD27Gf9k\" class=\"graph\"></div> \n",
       "<div id=\"graph_wp6Q3az0gB\" class=\"graph\"></div> \n",
       "</div> \n",
       "</div> \n",
       "\n",
       "<div align=\"center\">\n",
       "<button id = \"saveAsPNG_bB8z5e0PYN\" class=\"picta-button\">Download Canvas as PNG</button>\n",
       "</div>\n",
       "<script>\n",
       "var masonry = new Macy({\n",
       "    container: '#grid_bB8z5e0PYN',\n",
       "    debug: true,\n",
       "    mobileFirst: true,\n",
       "    columns: 2,\n",
       "    margin: {\n",
       "        x: 0,\n",
       "        y: 0\n",
       "    }\n",
       "  });\n",
       "\n",
       "  var traces_kmn5JJd8D5 = [{\"name\":\"mCPMMekLpm\",\"type\":\"scatter3d\",\"mode\":\"markers\",\"x\":[1,2,3,4,5,6,7,8,9,10,11,12,13,14,15,16,17,18,19,20,21,22,23,24,25,26,27,28,29,30,31,32,33,34,35,36,37,38,39,40,41,42,43,44,45,46,47,48,49,50,51,52,53,54,55,56,57,58,59,60,61,62,63,64,65,66,67,68,69,70,71,72,73,74,75,76,77,78,79,80,81,82,83,84,85,86,87,88,89,90,91,92,93,94,95,96,97,98,99],\"y\":[1,2,3,4,5,6,7,8,9,10,11,12,13,14,15,16,17,18,19,20,21,22,23,24,25,26,27,28,29,30,31,32,33,34,35,36,37,38,39,40,41,42,43,44,45,46,47,48,49,50,51,52,53,54,55,56,57,58,59,60,61,62,63,64,65,66,67,68,69,70,71,72,73,74,75,76,77,78,79,80,81,82,83,84,85,86,87,88,89,90,91,92,93,94,95,96,97,98,99],\"z\":[21.31961538815161,101.20667465691416,41.66986182232267,35.350093535842404,100.82619148628763,42.78438391547243,54.593306387640965,56.711548109584434,44.20948531236843,13.817655488445858,53.23770833570146,52.49503128557449,26.490914625903592,16.43186415046136,52.579677160107096,46.31695220139652,82.63347090384069,58.55142249818542,81.98722001655003,110.77517703407058,52.521759896577024,44.48865960333482,73.34178420646151,31.427776570910325,53.071519665208925,65.54195955549957,73.81325054855806,70.90461929392984,104.37593400050474,98.6872450814249,127.43156022764029,76.0503701908066,34.55002803609031,35.60709228338468,106.41506340848277,86.72011866611237,88.8132578444334,106.58687943653507,63.157076010856855,98.69648357703898,72.3544161600705,134.21754728469324,116.8385349706982,105.1697651587416,63.651802561337504,50.379705870038734,84.82606100286228,91.32027762583792,145.17551519042848,136.64398001605917,118.33112215897526,84.76475867629233,111.77770346122156,103.00762576338329,104.2474486279421,70.97629127901891,133.58042536534822,102.79762399890546,150.65016915034604,67.25995689351406,69.79972762661964,92.60561306575119,82.13163056530382,111.46396994989834,152.69846769311243,85.28016227538392,132.96523082644848,162.32880678876074,86.73925170716589,111.28705617688888,141.0299913242115,127.22440916871467,137.01284500972343,99.15843878090224,113.4950150443533,129.99828244439237,113.14626064653757,109.2867563588942,156.4544021161152,106.75489377317514,90.1486389747363,106.97967387102273,135.01955362198544,170.60946252525525,146.03200079934453,140.47724188560468,157.8172490874229,117.80691467017299,137.54776696338791,97.54276218631071,160.4082584993806,157.06936631761587,180.00891381748608,150.2739755543719,95.83265777582633,131.63323380854123,144.92153659667838,161.94130442693043,127.30446030490174]}];\n",
       " var layout_kmn5JJd8D5 = {\"height\":350,\"width\":350,\"hovermode\":\"closest\",\"title\":{\"text\":\"XYZ.Scatter3D\"},\"showlegend\":true,\"margin\":{\"l\":50,\"r\":50,\"t\":50,\"b\":50}};\n",
       " var config_kmn5JJd8D5 = {\"responsive\":false,\"scrollZoom\":false,\"displaylogo\":false};\n",
       " Plotly.newPlot(\"graph_kmn5JJd8D5\", traces_kmn5JJd8D5, layout_kmn5JJd8D5, config_kmn5JJd8D5);\n",
       "\n",
       "  var traces_OwlisashxW = [{\"name\":\"LHkT61Q62j\",\"type\":\"surface\",\"colorbar\":{\"title\":{\"text\":\"Altitude\",\"side\":\"right\"}},\"z\":[[8.83,8.89,8.81,8.87,8.9,8.87],[8.89,8.94,8.85,8.94,8.96,8.92],[8.84,8.9,8.82,8.92,8.93,8.91],[8.79,8.85,8.79,8.9,8.94,8.92],[8.79,8.88,8.81,8.9,8.95,8.92],[8.8,8.82,8.78,8.91,8.94,8.92],[8.75,8.78,8.77,8.91,8.95,8.92],[8.8,8.8,8.77,8.91,8.95,8.94],[8.74,8.81,8.76,8.93,8.98,8.99],[8.89,8.99,8.92,9.1,9.13,9.11],[8.97,8.97,8.91,9.09,9.11,9.11],[9.04,9.08,9.05,9.25,9.28,9.27],[9,9.01,9,9.2,9.23,9.2],[8.99,8.99,8.98,9.18,9.2,9.19],[8.93,8.97,8.97,9.18,9.2,9.18]]}];\n",
       " var layout_OwlisashxW = {\"height\":350,\"width\":350,\"hovermode\":\"closest\",\"title\":{\"text\":\"Surface\"},\"showlegend\":true,\"margin\":{\"l\":50,\"r\":50,\"t\":50,\"b\":50}};\n",
       " var config_OwlisashxW = {\"responsive\":true,\"scrollZoom\":true,\"displaylogo\":false};\n",
       " Plotly.newPlot(\"graph_OwlisashxW\", traces_OwlisashxW, layout_OwlisashxW, config_OwlisashxW);\n",
       "\n",
       "  var traces_hUYD27Gf9k = [{\"name\":\"Ir4r9WRKrI\",\"type\":\"scatter\",\"mode\":\"markers\",\"marker\":{\"color\":[21.31961538815161,101.20667465691416,41.66986182232267,35.350093535842404,100.82619148628763,42.78438391547243,54.593306387640965,56.711548109584434,44.20948531236843,13.817655488445858,53.23770833570146,52.49503128557449,26.490914625903592,16.43186415046136,52.579677160107096,46.31695220139652,82.63347090384069,58.55142249818542,81.98722001655003,110.77517703407058,52.521759896577024,44.48865960333482,73.34178420646151,31.427776570910325,53.071519665208925,65.54195955549957,73.81325054855806,70.90461929392984,104.37593400050474,98.6872450814249,127.43156022764029,76.0503701908066,34.55002803609031,35.60709228338468,106.41506340848277,86.72011866611237,88.8132578444334,106.58687943653507,63.157076010856855,98.69648357703898,72.3544161600705,134.21754728469324,116.8385349706982,105.1697651587416,63.651802561337504,50.379705870038734,84.82606100286228,91.32027762583792,145.17551519042848,136.64398001605917,118.33112215897526,84.76475867629233,111.77770346122156,103.00762576338329,104.2474486279421,70.97629127901891,133.58042536534822,102.79762399890546,150.65016915034604,67.25995689351406,69.79972762661964,92.60561306575119,82.13163056530382,111.46396994989834,152.69846769311243,85.28016227538392,132.96523082644848,162.32880678876074,86.73925170716589,111.28705617688888,141.0299913242115,127.22440916871467,137.01284500972343,99.15843878090224,113.4950150443533,129.99828244439237,113.14626064653757,109.2867563588942,156.4544021161152,106.75489377317514,90.1486389747363,106.97967387102273,135.01955362198544,170.60946252525525,146.03200079934453,140.47724188560468,157.8172490874229,117.80691467017299,137.54776696338791,97.54276218631071,160.4082584993806,157.06936631761587,180.00891381748608,150.2739755543719,95.83265777582633,131.63323380854123,144.92153659667838,161.94130442693043,127.30446030490174],\"colorbar\":{\"title\":{\"text\":\"3rd Dimension\",\"side\":\"right\"}}},\"x\":[1,2,3,4,5,6,7,8,9,10,11,12,13,14,15,16,17,18,19,20,21,22,23,24,25,26,27,28,29,30,31,32,33,34,35,36,37,38,39,40,41,42,43,44,45,46,47,48,49,50,51,52,53,54,55,56,57,58,59,60,61,62,63,64,65,66,67,68,69,70,71,72,73,74,75,76,77,78,79,80,81,82,83,84,85,86,87,88,89,90,91,92,93,94,95,96,97,98,99],\"y\":[1,2,3,4,5,6,7,8,9,10,11,12,13,14,15,16,17,18,19,20,21,22,23,24,25,26,27,28,29,30,31,32,33,34,35,36,37,38,39,40,41,42,43,44,45,46,47,48,49,50,51,52,53,54,55,56,57,58,59,60,61,62,63,64,65,66,67,68,69,70,71,72,73,74,75,76,77,78,79,80,81,82,83,84,85,86,87,88,89,90,91,92,93,94,95,96,97,98,99]}];\n",
       " var layout_hUYD27Gf9k = {\"height\":350,\"width\":350,\"hovermode\":\"closest\",\"title\":{\"text\":\"Scatter With Color\"},\"showlegend\":false,\"margin\":{\"l\":50,\"r\":50,\"t\":50,\"b\":50}};\n",
       " var config_hUYD27Gf9k = {\"responsive\":true,\"scrollZoom\":true,\"displaylogo\":false};\n",
       " Plotly.newPlot(\"graph_hUYD27Gf9k\", traces_hUYD27Gf9k, layout_hUYD27Gf9k, config_hUYD27Gf9k);\n",
       "\n",
       "  var traces_wp6Q3az0gB = [{\"name\":\"goExndXQxq\",\"type\":\"heatmap\",\"z\":[[21.955271177150316,7.687595430477388,64.32419162652397,40.917489061474505,21.743013160166253,6.911981812787754,32.56444163629777,47.214375691937384,75.3964169944049,60.17123123005014],[46.1787381025658,26.323567639317424,27.902065008522094,35.18010759159023,27.813360053004175,22.639804178116915,29.352007622168127,75.0872819831917,111.76806798526607,65.78906733230596],[85.73587931134145,28.17457625970821,111.20250902589014,44.460085799230676,38.674437299039944,106.49534002284793,108.18207369079433,47.37233799122006,63.868096734960254,119.9882535242528],[85.68248223404747,124.21559382112531,93.75669332823557,133.48166953974496,62.957480567705446,109.33752535342886,63.734329047718404,98.00762953739795,66.08425685946843,94.02225778665192],[53.235835031842036,114.9734456134508,64.03629982725137,129.39416284415168,143.10902884766475,101.99280786107138,127.29356640277275,91.29761967148056,138.90962819235426,142.55714611998388],[120.78504857297239,140.94483012510398,116.10328785058238,118.23196101018043,125.86888244942705,70.69024278244112,127.631937472588,141.69172885595432,97.09040247120377,132.98148362902717],[76.89922080493469,131.660866474172,98.61863013616377,112.35313172227653,99.95249755898975,96.70719231908274,132.54687545108877,115.27110343414992,119.48654180891342,123.83816431134505],[166.65326243983583,120.70175059164967,130.26669755693774,99.97917260164957,92.752182289979,155.47126246213764,150.6669565685766,129.66694947065625,98.42779196138186,132.79730445781195],[128.24100310834427,150.67019495328756,114.72587027717505,119.81626309863577,118.5920183504509,90.75332428921817,110.29045375591187,180.49588392676225,166.27962617323735,153.4281870211289],[138.4668929482231,174.01444349467386,104.1000346597412,168.2925414565661,108.05307031444057,175.50409388987867,152.7981034534772,192.43290138098354,140.6656994167336,125.99729939309337]]}];\n",
       " var layout_wp6Q3az0gB = {\"height\":350,\"width\":350,\"hovermode\":\"closest\",\"title\":{\"text\":\"Heatmap\"},\"showlegend\":true,\"margin\":{\"l\":50,\"r\":50,\"t\":50,\"b\":50}};\n",
       " var config_wp6Q3az0gB = {\"responsive\":true,\"scrollZoom\":true,\"displaylogo\":false};\n",
       " Plotly.newPlot(\"graph_wp6Q3az0gB\", traces_wp6Q3az0gB, layout_wp6Q3az0gB, config_wp6Q3az0gB);\n",
       "\n",
       "var save_bB8z5e0PYN = document.getElementById(\"saveAsPNG_bB8z5e0PYN\")\n",
       "save_bB8z5e0PYN.onclick = async function() {\n",
       "    const grid = document.getElementById(\"grid-container_bB8z5e0PYN\")\n",
       "    const graphs = grid.getElementsByClassName(\"graph\")\n",
       "\n",
       "    const images = []\n",
       "\n",
       "    const rows = 2\n",
       "    const cols = 2\n",
       "    const img_width = 400\n",
       "    const img_height = 400\n",
       "    var margin = 50\n",
       "\n",
       "    for (var i=0; i<rows; i++) {\n",
       "      for (var j=0; j<cols; j++) {\n",
       "        const image = await Plotly.toImage(graphs[i * cols + j], {format: 'png', width: img_width, height: img_height})\n",
       "        images.push(image);\n",
       "      }\n",
       "    }\n",
       "\n",
       "    const positioned_images = []\n",
       "\n",
       "        for (var i=0; i<rows; i++) {\n",
       "            for (var j=0; j<cols; j++) {\n",
       "\n",
       "                const obj = {\n",
       "                    \"src\": images[i*cols + j],\n",
       "                    x: j*img_width+margin,\n",
       "                    y: i*img_height+margin\n",
       "                }\n",
       "\n",
       "                positioned_images.push(obj)\n",
       "            }\n",
       "        }\n",
       "\n",
       "        mergeImages(positioned_images, {\n",
       "            width: img_width*cols+60, height: img_height*rows+60\n",
       "        })\n",
       "        .then(b64 => {\n",
       "            var a = document.createElement(\"a\");\n",
       "            a.href = b64;\n",
       "            a.download = \"Image.png\";\n",
       "            a.click();\n",
       "            a.remove()\n",
       "        });\n",
       "}\n",
       "</script> \n"
      ]
     },
     "metadata": {},
     "output_type": "display_data"
    }
   ],
   "source": [
    "// it may be necessary to play around with the chart dimensions and margin  in order to ensure a good fit on screen.\n",
    "val dim = 350\n",
    "\n",
    "// The canvas has an underlying grid. By default the underlying grid is 1x1, but we can pass in the dimensions we \n",
    "// require by passing in parameters in the constructor.\n",
    "Canvas(2, 2)\n",
    ".setChart(0, 0, chart1.setDimensions(width = dim, height = dim).setMargin(l=50, r=50, t=50, b=50))\n",
    ".setChart(0, 1, chart2.setDimensions(width = dim, height = dim)setMargin(l=50, r=50, t=50, b=50))\n",
    ".setChart(1, 0, chart3.setDimensions(width = dim, height = dim)setMargin(l=50, r=50, t=50, b=50))\n",
    ".setChart(1, 1, chart.setDimensions(width = dim, height = dim)setMargin(l=50, r=50, t=50, b=50))\n",
    ".plotInline"
   ]
  },
  {
   "cell_type": "markdown",
   "metadata": {},
   "source": [
    "#### Map\n",
    "\n",
    "We can also create maps using the composition technique below."
   ]
  },
  {
   "cell_type": "code",
   "execution_count": 44,
   "metadata": {},
   "outputs": [],
   "source": [
    "import org.carbonateresearch.picta.options.{Margin, Line}\n",
    "import org.carbonateresearch.picta.Map"
   ]
  },
  {
   "cell_type": "code",
   "execution_count": 45,
   "metadata": {},
   "outputs": [
    {
     "data": {
      "text/html": [
       "<div id=\"grid-container_qohAMyBCW9\" class=\"grid-container\" align=\"center\"> \n",
       "<div id=\"grid_qohAMyBCW9\" class=\"grid\" align=\"center\"> \n",
       "<div id=\"graph_inbmE5Elrf\" class=\"graph\"></div> \n",
       "</div> \n",
       "</div> \n",
       "<script>\n",
       "var masonry = new Macy({\n",
       "    container: '#grid_qohAMyBCW9',\n",
       "    debug: true,\n",
       "    mobileFirst: true,\n",
       "    columns: 1,\n",
       "    margin: {\n",
       "        x: 0,\n",
       "        y: 0\n",
       "    }\n",
       "  });\n",
       "\n",
       "  var traces_inbmE5Elrf = [{\"name\":\"7hUP54M0h4\",\"lat\":[40.7127,51.5072],\"lon\":[-74.0059,0.1275],\"type\":\"scattergeo\",\"mode\":\"lines\",\"line\":{\"width\":2,\"color\":\"red\"}}];\n",
       " var layout_inbmE5Elrf = {\"height\":550,\"width\":600,\"hovermode\":\"closest\",\"showlegend\":true,\"geo\":{\"resolution\":50,\"showland\":true,\"showlakes\":true,\"coastlinewidth\":2,\"landcolor\":\"rgb(204, 204, 204)\",\"lakecolor\":\"rgb(255, 255, 255)\",\"lataxis\":{\"range\":[20,60],\"showgrid\":true,\"dtick\":10},\"lonaxis\":{\"range\":[-100,20],\"showgrid\":true,\"dtick\":10}},\"margin\":{\"l\":0,\"r\":0,\"t\":0,\"b\":0}};\n",
       " var config_inbmE5Elrf = {\"responsive\":false,\"scrollZoom\":false,\"displaylogo\":false};\n",
       " Plotly.newPlot(\"graph_inbmE5Elrf\", traces_inbmE5Elrf, layout_inbmE5Elrf, config_inbmE5Elrf);\n",
       "</script> \n"
      ]
     },
     "metadata": {},
     "output_type": "display_data"
    }
   ],
   "source": [
    "// draw a line on the map that is red\n",
    "val line = Line(width = 2) setColor \"red\"\n",
    "\n",
    "// construct the map Series. It is an XY chart as it takes in a List of Longitude and Latitude\n",
    "val series = Map(List(40.7127, 51.5072), List(-74.0059, 0.1275)) drawSymbol LINES drawLine line\n",
    "\n",
    "// These are options that further specify the options for the map\n",
    "val geo = MapOptions(landcolor = \"rgb(204, 204, 204)\", lakecolor = \"rgb(255, 255, 255)\")\n",
    "              .setMapAxes(LatAxis(List(20, 60)), LongAxis(List(-100, 20)))\n",
    "\n",
    "val chart = (\n",
    "    Chart() \n",
    "    addSeries series \n",
    "    setConfig(false, false)\n",
    "    setMapOptions geo\n",
    "    setMargin(l=0, r=0, t=0, b=0)\n",
    ")\n",
    "\n",
    "chart.plotInline"
   ]
  },
  {
   "cell_type": "markdown",
   "metadata": {},
   "source": [
    "### Animated Charts\n",
    "\n",
    "We can also create animated charts. This can be useful for tracking the evolution of a data over time.\n",
    "\n",
    "All `Series` types should be supported.\n",
    "\n",
    "#### 2D Animated Chart"
   ]
  },
  {
   "cell_type": "code",
   "execution_count": 46,
   "metadata": {},
   "outputs": [],
   "source": [
    "import org.carbonateresearch.picta.ColorOptions._\n",
    "\n",
    "def genRangeRandomInt(min: Int = 0, max: Int = 10000) = min + (max - min) * scala.util.Random.nextInt()\n",
    "def genRangeRandomDouble(min: Double = 0.0, max: Double = 10000.0) = min + (max - min) * scala.util.Random.nextDouble()\n",
    "\n",
    "// creates random XY for testing purposes\n",
    "def createXYSeries[T: Color]\n",
    "(numberToCreate: Int, count: Int = 0, length: Int = 10): List[XY[Double, Double, T, T]] = {\n",
    "    if (count == numberToCreate) Nil\n",
    "    else {\n",
    "      val xs = List.range(0, length).map(x => genRangeRandomDouble())\n",
    "      val ys = xs.map(x => genRangeRandomDouble())\n",
    "      val series = XY(x = xs, y = ys, name = \"series \" + count).drawMarkers\n",
    "      series :: createXYSeries(numberToCreate, count + 1, length)\n",
    "    }\n",
    "}\n",
    "\n",
    "def createXYZSeries(numberToCreate: Int, count: Int = 0, length: Int = 10): List[XYZ[Double, Double, Double]] = {\n",
    "    if (count == numberToCreate) Nil\n",
    "    else {\n",
    "      val xs = List.range(0, length).map(x => genRangeRandomDouble())\n",
    "      val ys = xs.map(x => genRangeRandomDouble())\n",
    "      val zs = xs.map(x => genRangeRandomDouble())\n",
    "      val series = XYZ(x = xs, y = ys, z = zs, name = \"series \" + count, `type` = SCATTER3D).drawMarkers\n",
    "      series :: createXYZSeries(numberToCreate, count + 1, length)\n",
    "    }\n",
    "}"
   ]
  },
  {
   "cell_type": "code",
   "execution_count": 47,
   "metadata": {
    "scrolled": false
   },
   "outputs": [
    {
     "data": {
      "text/html": [
       "<div id=\"grid-container_CUPivXltWh\" class=\"grid-container\" align=\"center\"> \n",
       "<div id=\"grid_CUPivXltWh\" class=\"grid\" align=\"center\"> \n",
       "\n",
       "<div align=\"center\">\n",
       "  <div id=\"graph_RW4hjETVWQ\" class=\"graph\"></div>\n",
       "  <div class=\"animationInterface\">\n",
       "    <button id=\"play_RW4hjETVWQ\" class=\"picta-button\">&#9658</button>\n",
       "    <button id=\"pause_RW4hjETVWQ\" class=\"picta-button\">&#9616;&#9616;</button>\n",
       "    <button id=\"prev_RW4hjETVWQ\" class=\"picta-button\"><</button>\n",
       "    <button id=\"next_RW4hjETVWQ\" class=\"picta-button\">></button>\n",
       "\n",
       "    <div id=\"sliderContainer_RW4hjETVWQ\" class=\"progressBar\"></div>\n",
       "    <div id=\"counterContainer_RW4hjETVWQ\" class=\"inline-div\">\n",
       "        <h3>Frame: </h3> <h3 id=\"value_RW4hjETVWQ\">0</h3>\n",
       "    </div>\n",
       "   </div>\n",
       "</div> \n",
       "\n",
       "</div> \n",
       "</div> \n",
       "<script>\n",
       "var masonry = new Macy({\n",
       "    container: '#grid_CUPivXltWh',\n",
       "    debug: true,\n",
       "    mobileFirst: true,\n",
       "    columns: 1,\n",
       "    margin: {\n",
       "        x: 0,\n",
       "        y: 0\n",
       "    }\n",
       "  });\n",
       "\n",
       "var graph_RW4hjETVWQ = document.getElementById('graph_RW4hjETVWQ')\n",
       "\n",
       "var layout_RW4hjETVWQ = {\"height\":550,\"width\":600,\"hovermode\":\"closest\",\"title\":{\"text\":\"Animation XY\"},\"showlegend\":true,\"xaxis\":{\"title\":{\"text\":\"X Variable\"},\"showgrid\":true,\"zeroline\":false,\"showline\":false,\"range\":[0,10000]},\"yaxis\":{\"title\":{\"text\":\"Y Variable\"},\"showgrid\":true,\"zeroline\":false,\"showline\":false,\"range\":[0,10000]}}\n",
       "var frames_RW4hjETVWQ = [{\"name\":\"series 0 (F0)\",\"data\":[{\"name\":\"series 0 (F0)\",\"type\":\"scatter\",\"mode\":\"markers\",\"x\":[540.5492408814549,5184.554643283216,2333.3647680877702,3110.6453708513905,629.7159194772162,9808.208230692127,7175.130436306162,2790.9643890050693,8542.16479474275,550.0604946855914,9958.04167340425,5925.679363772335,5700.069789589941,1049.6570878414168,2168.366997209573,746.3190584438239,3048.984605672986,5282.079547757716,4865.750436478469,2495.009035137451,1086.4445225966147,5654.585246216771,3104.8988325741334,9096.459262634122,2578.1828660414794,3600.81601342661,6376.337148142204,7645.539638880068,8826.528406964233,6732.939010152359],\"y\":[5935.677549863769,8783.508957654107,9193.434593681513,9590.597401328596,7634.987452030614,4170.718515294959,2730.9867986592417,816.5697648808379,1926.4860307656818,8210.882144224812,235.1206087149216,8192.54374624892,1077.9339381118236,8941.767027502408,4813.678396331747,4384.435813191355,7320.727624536197,4579.429242964859,9147.81986785771,475.1927575598258,4645.844422823266,1587.8797055109605,8026.191846054426,1404.0396635944219,1269.4294095745918,7343.332836738518,5444.156786047855,7284.640069745875,9408.953949344681,5471.95831619567]}]},{\"name\":\"series 1 (F1)\",\"data\":[{\"name\":\"series 1 (F1)\",\"type\":\"scatter\",\"mode\":\"markers\",\"x\":[6585.766971322463,7240.6631704585525,3942.517681515482,4762.317611314004,6344.062271792666,7875.758726741372,1768.0021866976758,3188.43803493709,7685.662279064723,6785.962069766815,9235.43265506835,7026.735935534621,5128.511859245865,2626.0617720345012,5895.037794603033,1309.773511743616,877.0301316460938,7157.485514707842,8985.140612400595,1932.0929436441036,3746.8052513472394,1433.7669363624207,4578.156126651469,1608.1426781546947,3911.3648863956973,7820.678503964933,8109.60892067074,1579.5711453585047,9716.447304273766,1901.6287105622043],\"y\":[9134.227144853236,8478.933331032678,6332.583380984135,3484.9339245049105,2584.805802292688,1079.1190968782005,9854.694842040833,3908.100148163193,1553.6810357093477,4792.575331429842,4607.8025446438205,7625.253666352283,4673.2858846951285,2731.6667661355787,5880.829704031513,9667.38558746628,4541.411008573082,901.2780157145017,5085.875525212327,6981.084115540044,2318.4258718485507,1667.0284746875031,9428.223978914433,879.9474572595667,7617.857562694818,4027.2399039737115,3572.748951324447,9883.885110193653,2118.3724819110585,1414.0565710887354]}]},{\"name\":\"series 2 (F2)\",\"data\":[{\"name\":\"series 2 (F2)\",\"type\":\"scatter\",\"mode\":\"markers\",\"x\":[6505.255667059834,7075.029771526233,9944.334523282758,7758.888589242907,2812.7045823780086,3764.9989325382294,7793.7646835854775,379.6099219050886,3944.1399053504656,1746.7612537766363,3036.662399571328,3881.7157319116145,1664.5461029540288,9695.377304198388,8563.291108940237,2712.8970224412096,2876.739137397557,5385.39942976179,9031.168694677472,1270.2709288142933,2261.796325972999,4308.7333301098115,4341.149816187119,9531.758185870802,6776.411924134664,7005.278256671188,2667.1197516612265,9067.872601327043,3945.9641456575546,1959.677028964224],\"y\":[7170.468076418726,8987.448773512555,4104.96370329381,8271.024427368246,7649.644734146256,3880.6031737521384,5261.946281065919,2468.4001289081534,806.7461540490817,6144.4859132828315,8103.764780672184,6823.600670935385,557.2162514108869,3212.1485489562906,7804.62426885347,2303.470927085539,2865.3901310349993,6152.120445550963,8768.093720793211,7907.741262587821,7957.748896857631,9866.044160655585,8205.721969544235,9554.30049590201,6447.391709651382,6683.998555084972,4543.771941410876,5902.342460070657,4897.377751080101,4541.890962074246]}]},{\"name\":\"series 3 (F3)\",\"data\":[{\"name\":\"series 3 (F3)\",\"type\":\"scatter\",\"mode\":\"markers\",\"x\":[7049.98233233609,5544.847069571169,657.2219065432106,8122.573859738077,3785.1508832107806,9855.368236720933,5425.981322184983,6352.104747957299,6009.729949320238,8440.115199954931,1926.997541402866,2464.832104883814,8513.512865291064,9624.836039966014,8323.508962931204,3485.7582208565473,6986.877622598042,6697.017781856972,560.9858683736302,4425.893332069496,5514.9516916424,1727.4443610502653,3691.177311849756,8746.08240241959,9551.444294739667,2711.159250414853,9414.508116173138,717.0515102274233,2316.7913624954062,6496.40289595368],\"y\":[8571.596170435361,7188.185832025822,5465.641895515384,9511.104847000224,4121.30512436927,5974.815827361328,8081.608434214041,650.0311811137616,2261.889481160513,5583.557780970122,1582.5974867684556,5851.698503103617,6783.4265123545165,6317.5144506113475,1957.918691283298,1872.6855153388121,4483.870402792783,5937.914148055572,4908.7714621101795,7557.98835265456,7537.708580108044,4006.0251761324193,3926.5916624130004,4509.576549751074,2075.3347321555925,7788.953233371399,6119.134085486628,5471.329202281857,912.8994715650607,9185.194447241625]}]},{\"name\":\"series 4 (F4)\",\"data\":[{\"name\":\"series 4 (F4)\",\"type\":\"scatter\",\"mode\":\"markers\",\"x\":[5682.056102997632,7977.042647060093,2366.5356176210685,6510.5784914955675,314.1631369544307,2849.2164251106187,6391.498364304676,7182.507001601033,1587.3563251694954,1989.839678371207,3905.9012057719765,7350.155237380779,6307.72681236033,7570.420235071844,5090.367290881613,2340.5694885367066,2242.1237642838355,5207.007664963763,7699.057793992312,7425.361907936184,8234.910845465689,6996.979501186909,6974.180790891052,1859.968454615265,5702.528505950611,6397.8815642606905,4625.220800975802,407.1978606745941,5768.855712844249,5844.617427786053],\"y\":[5515.775053830035,5629.070583432848,3892.2674883535315,9729.806383906605,7195.017394510596,1115.711218163903,1735.665348785942,9913.144891139933,9217.458101060183,517.3186586978995,4243.657456732334,8279.115504020043,6313.801076872642,9755.009559216362,8416.448238646004,1028.4093626207846,1907.3460196964497,108.59523438196072,9107.892439506923,2366.942300809117,6214.523035761492,8014.11391081642,6325.557011737995,1047.3557304129122,6224.784040011833,3351.2109827927684,7973.527787949095,1821.4203008317675,3224.221231663312,1760.2218964587623]}]},{\"name\":\"series 5 (F5)\",\"data\":[{\"name\":\"series 5 (F5)\",\"type\":\"scatter\",\"mode\":\"markers\",\"x\":[1754.0839004370835,5277.758663522577,7208.91903380468,8101.080689141317,32.256434839139644,3767.839500398289,6528.1897198948245,7550.938930275373,1867.680496272215,8164.191414496682,5404.481852789507,8034.651239531972,7131.0350181704625,48.31743215853557,1595.891338881349,2692.0421950361538,8647.759393190903,6591.792120210666,1398.8463079753644,3908.142410278942,9649.627089961477,872.5513467728474,9432.677082486547,1067.3396461631735,5465.142348979164,8659.390336466602,6204.423581621696,2639.664283937524,342.62321690627374,3801.2097191800053],\"y\":[7321.372084197338,9467.186172139911,2575.2181429557995,8273.556281372234,4400.455967009318,190.7727705056983,3685.0006480691377,9663.530117913568,9217.792946591957,1642.2189299381141,323.67051409259994,8415.135895770987,9448.273868517039,6724.025941597406,760.2863051621566,9510.681870497272,6464.258653574575,9808.875401453965,1351.840922301597,8429.833674153042,3094.075263375804,5013.104220664991,2230.3840569774356,9206.459296772186,1985.1564460431791,5833.25671111681,5590.786740558349,3194.404958707173,3273.2940162824643,5582.056019485071]}]},{\"name\":\"series 6 (F6)\",\"data\":[{\"name\":\"series 6 (F6)\",\"type\":\"scatter\",\"mode\":\"markers\",\"x\":[4426.130406042212,756.8652097849582,3628.6263140844776,6819.896546912505,4333.099397084978,4510.022406658291,7430.616769785696,4550.232981572391,6097.639325550948,1980.1491894911837,4818.425858891527,2332.001279722651,2171.541808663239,7574.377652998132,669.7108528184714,2659.4745600907845,5863.499704090455,8618.862936606434,3180.0386559572157,2969.722144762431,8093.572381016175,7884.0784829114455,646.7283692134084,6460.107208512886,2897.889339961779,5495.49385909767,305.08794724510847,2533.0209821990047,9520.812458637,6418.910955161247],\"y\":[3621.6457048257844,5132.319923254476,5894.663950725885,5813.240167223121,8318.11886839659,8495.695392622138,5582.524574509619,3459.5194146606846,8581.503540594704,8919.476126622878,7847.488641549792,203.49138632811403,1409.8102191119556,8017.120557618119,8412.161436837443,3890.0749530821345,8849.607727754308,7649.930111310419,6685.069776439518,9621.573912520482,3000.6820375024045,9218.27648684505,3756.0477133126915,9337.491290701408,3094.755889008102,323.90244683691003,4300.5537273610025,8692.326489008483,1699.355292684843,9948.61786735477]}]},{\"name\":\"series 7 (F7)\",\"data\":[{\"name\":\"series 7 (F7)\",\"type\":\"scatter\",\"mode\":\"markers\",\"x\":[4683.259988966673,4998.749921148379,154.54928231440567,9241.986070945046,9014.152307980557,8607.067388893258,1719.4324151080355,8770.351923798213,4685.763605371972,1507.8989311857106,4586.855759671506,4651.836795800434,9008.058014264709,1173.5151274607115,5919.057586585197,5386.6854140672085,8957.872427789294,4694.287411692844,2363.483134033079,8389.617791331755,6772.71238044387,8120.226501421571,2127.220219609385,240.6052004340109,5144.091067593734,8583.59696625048,8620.128265201814,7492.755277335686,7103.488858946179,2257.1128095690806],\"y\":[5920.863751676405,5510.752254142875,7344.403892939715,9493.233947136227,1876.6624444305346,1260.572378978838,3686.85345830013,9593.598573843696,5516.863556720637,2230.952564939519,9666.073856772236,1573.6444466673306,1641.815631863911,7739.359196885221,1815.0656651994134,4015.9838387916548,6942.934087731723,759.9696563701208,8111.010036219826,6647.115450183717,8816.324373380989,8108.445673912474,7268.481767141514,8625.573101808104,151.53091530268003,4328.037782493189,2087.7720533774514,3695.6220179388797,808.6011080942668,9943.836725415658]}]},{\"name\":\"series 8 (F8)\",\"data\":[{\"name\":\"series 8 (F8)\",\"type\":\"scatter\",\"mode\":\"markers\",\"x\":[3904.522878316069,339.13396380839566,9240.806807601908,7886.739389248854,9337.26870689288,5849.286658906703,5776.994386931297,2835.9746504799477,4992.370604718388,6853.246243038285,2446.6874420138283,6988.79224912239,561.2159296266872,5227.0108382775115,2912.6946588165224,2338.188216415198,5832.453470728011,7574.106057276906,70.1261174580714,3924.303072318216,2542.4162446767696,8480.840981855365,8177.354474327047,722.3947005924302,7699.784584436098,2614.3464367071665,1003.603281149329,840.0565048540665,1045.9216312879282,8395.63465607694],\"y\":[7409.482010171004,5518.613313339745,5650.215824629923,6458.436663027441,1020.930611336861,2068.3959442625032,7290.143537559318,9395.583996951787,1213.6726665429064,9314.857105541547,5228.668207154375,5398.223461701101,8494.424203187045,392.26411473403,4276.970088825136,7309.164674347532,8546.73741718719,6793.9603690483,5618.403192018102,340.1766154468433,5703.506375830531,4472.961546022502,1769.956538301366,6244.06873151848,8414.796464020466,7483.910198162612,9270.396302597768,9085.900114209551,6398.804596545147,7167.188141232258]}]},{\"name\":\"series 9 (F9)\",\"data\":[{\"name\":\"series 9 (F9)\",\"type\":\"scatter\",\"mode\":\"markers\",\"x\":[1209.6478912868536,7923.685488481884,1595.3954605333709,5198.238847779841,551.8753596164116,4687.473570383027,2785.800707102565,6959.929777603802,4355.09863192443,1336.693990040969,6798.707714921926,7643.043395780654,8453.087010929388,8979.18494001856,7592.10394013889,7239.750878586482,1940.650942501967,3051.3257481350897,8181.888950395032,2167.193741096256,891.3525931952015,2887.216671087418,9382.399643978508,643.0578070414639,1137.0349286887572,1045.865506147079,3630.640061486766,6132.291943270883,651.4769319588687,7618.849672292501],\"y\":[1785.1447450797064,8193.894241380847,3105.85112310003,7406.948551330759,5722.047647569786,2878.943562413215,5501.572382823836,3332.744764805685,9795.067156443656,5465.831521841054,4436.500643230127,7747.218205169325,9782.759327020405,6765.906762076127,7523.359708583326,4391.867277024752,8815.533232115336,492.5150541905865,8754.6237976878,7693.907158728191,5956.559366400733,3258.6790143925814,9196.009510597469,2800.615115278704,4604.847554169493,653.4323657734232,7291.109611047714,9299.902483016898,4695.406321974201,2544.084562303859]}]},{\"name\":\"series 10 (F10)\",\"data\":[{\"name\":\"series 10 (F10)\",\"type\":\"scatter\",\"mode\":\"markers\",\"x\":[6272.5861818160965,3927.713213860543,4790.542968328396,8261.461144473378,9700.73996697807,2728.8610361617293,7587.994130100537,7647.425979980824,9988.15683313486,1116.4376030427459,5115.729699458584,7078.7642711110075,8919.5282322552,1065.9323406888188,7939.901547576182,528.7615706640892,3638.6272349903847,8283.729837786135,6081.559898471472,4487.590101352534,6349.819265074709,8605.65617426,8019.390111867494,2134.8700803786423,1069.3695355620525,2109.768229547023,8149.874589229854,6542.544188078561,6162.208658613272,5468.595150910891],\"y\":[2382.9138086692183,4883.469011602963,7112.699848678455,7919.55178101598,6170.092123699993,5630.891370844278,3.3467076403270735,3898.265289302485,9194.403671473583,8556.24332148241,2513.2727824760946,5858.067513024,6194.404294387472,2967.454795907957,5898.687705848604,4089.9259626228413,3952.3890849722056,3077.252502300445,8380.453758623145,6460.595518827512,345.33898877906364,650.6701229071888,7639.250434231758,9902.794238306933,2539.0190914819686,4153.2743934193995,7706.729860162406,7219.72072137447,7899.754268230121,506.36066209580054]}]},{\"name\":\"series 11 (F11)\",\"data\":[{\"name\":\"series 11 (F11)\",\"type\":\"scatter\",\"mode\":\"markers\",\"x\":[3441.445754312272,7307.242990554419,3005.0443546299744,252.65200877081838,3991.2241556055496,4250.609915593908,3253.3256617461416,9445.793858889274,5169.043201518175,918.547719307673,8004.824495099032,1899.201058554828,9507.374758873455,5656.119271515096,3929.588055325164,3564.584348090952,1906.3291397504822,6468.7446624194445,2295.421974209422,6757.746311873712,8253.84215710441,5693.290954764478,4297.59821414056,5709.0015358552755,4171.526658806357,9568.158950690582,2213.8464205745677,6487.844255441723,1127.7058424075337,1342.8069459729575],\"y\":[3162.2743263419015,3736.2487944054756,7559.535512646966,3608.171576489121,6546.508116914711,3842.257885416338,3359.0126619961734,5382.956852996585,5891.482256537947,9195.274835265163,7103.0563942163535,2156.781168916334,704.9499811900839,986.7453343239052,6745.742914667558,2569.6865308844995,4243.925717303292,8654.678609074215,6141.16089953835,3698.5288246903947,8621.912214283517,2517.7222841662483,1728.2504240816,8024.287656258421,9561.90401180245,2404.272842602516,5984.371253280426,9070.342956288727,9281.800065981037,9154.366349686275]}]},{\"name\":\"series 12 (F12)\",\"data\":[{\"name\":\"series 12 (F12)\",\"type\":\"scatter\",\"mode\":\"markers\",\"x\":[6842.246267589633,9430.29052618343,7493.002080959313,7756.865996410068,5165.309732901193,4444.872183002293,7299.610158079131,581.7185400017588,5589.381720513692,7141.1259651413575,4904.7724104464305,6676.82782827282,9563.983875227215,5212.864344029981,9462.384549768492,8421.351845230514,3264.4986790168296,8800.113320274306,2156.473754439455,9961.998718351744,7196.766583011988,8616.156008481825,1647.2488036868249,2806.162726868381,8778.606623237956,7574.341695108325,6391.926603940239,2705.5057805561655,3958.135054654347,5482.836149354684],\"y\":[3030.1015241569594,8535.853546886461,9016.64924293108,5604.005797767325,4017.550133096529,8264.050013898186,9104.231901460125,3916.143513471735,6999.014531729297,9289.664173000643,5769.124928183043,6768.757071882109,3029.6428610017,459.22550663244135,1767.3091718746591,288.66262104810136,686.408239818419,872.9178893534062,7776.620596665147,5372.63409390784,8354.96781359476,6238.431892239998,2290.119168610596,5393.3803855655515,7534.0631111863795,6973.943351833822,2926.324326591453,9849.13595979287,5868.706136777623,3521.9456149047933]}]},{\"name\":\"series 13 (F13)\",\"data\":[{\"name\":\"series 13 (F13)\",\"type\":\"scatter\",\"mode\":\"markers\",\"x\":[4669.313448650869,6103.1650838689475,9805.031834568363,3407.934960560953,8139.577682449482,3087.998099858045,3253.8430001079178,1462.710085954323,8896.914413591921,5390.230635742873,456.51183259449056,9324.31361227394,6989.530296949651,3485.2355114281654,8366.043260179213,2845.408873302684,4488.9184216154645,6057.1491894797755,6287.74385889058,6354.151769775917,7587.95990593915,3318.0150087430616,8268.086609005584,851.3820798734739,8990.098330326717,6030.974004122622,6776.995475947743,9174.223842599611,5780.319282139537,3545.919020998355],\"y\":[4597.918111900485,4915.952362720636,7744.061794044206,5572.0343582946825,5521.696289230734,3464.2461885707244,1188.0748290756471,6640.163953653712,3434.3808054288306,2904.717396063483,3717.632256203605,9248.967084002636,3695.783207574296,9733.865420757013,6137.394779282228,1542.3334831902691,324.6909537879827,9335.378582715275,8668.614548396134,8031.545188726931,7438.321040715468,3995.9644703797812,13.255855975233821,7354.193600251123,3637.7189834120873,1871.6603584299608,9446.004511617586,9352.866748575285,3587.459609737578,8762.839651251841]}]},{\"name\":\"series 14 (F14)\",\"data\":[{\"name\":\"series 14 (F14)\",\"type\":\"scatter\",\"mode\":\"markers\",\"x\":[4078.024330617401,4860.14701463178,1907.1385568005949,815.8904151871094,5711.709990172353,5492.46669648161,673.7908186286768,341.82063501026596,4293.580112047658,7483.892321444122,3328.507028882821,8826.795858491914,7872.840751163362,3131.9150607552747,4587.166639212763,906.8887433763506,2186.0406191678326,5780.850831833011,8074.337586251027,589.0859972392992,6513.634158471649,9434.460627178538,831.0431712900923,6322.859431740863,6292.151806257503,2067.9204325988076,6591.2287712654515,4661.376110666767,7116.07586779002,2500.287975799569],\"y\":[7778.409420564895,3198.6905542888376,9226.404657532408,4292.123326912633,9543.110722788306,2229.0201342301984,6358.279614899715,6548.944704950537,7843.367222795549,1146.4799752820409,7907.944594523037,739.7054558557492,7564.6725689514715,9988.412345874302,8779.689312562221,4680.505676051104,5982.422968402255,8722.712850114673,6986.330399255308,9687.255421545335,1489.0341035109955,6889.323237817099,5102.162238302949,4567.034742511282,7439.552117043435,4028.323854393937,8005.210171315741,596.3994449793464,6213.720593257691,6961.8267495937225]}]},{\"name\":\"series 15 (F15)\",\"data\":[{\"name\":\"series 15 (F15)\",\"type\":\"scatter\",\"mode\":\"markers\",\"x\":[5996.002414417579,4925.905953416597,9149.103340377826,3444.1332690507543,9342.973976521069,5953.640104856939,3869.0092869607774,2954.387698263392,7579.9988646584525,3126.549389175317,1710.5991847040991,4478.224360400619,4469.446458443795,5356.898892279996,4452.701928459685,8009.66784812354,7444.538221460875,6782.179969026176,1349.5003152124564,1201.8189515031042,8557.682870309696,5950.323547563935,4595.395644177083,5104.613569876309,2486.848975869885,4678.076548254732,3777.9947783941725,3250.2188472574567,5989.929190815608,5808.927441126476],\"y\":[7620.305688104369,6481.388970515202,2347.443342254476,4887.969868534212,4369.871670245499,1865.371127169836,3796.8101539124923,9374.618462909688,561.7072736320905,7795.716922336477,4736.817829765966,430.10317746607797,1563.547426840297,8956.623403607759,8568.806973689225,6545.181627565958,6306.05913949066,4209.18792353535,1441.473798761681,5314.529668671658,2907.301368192923,7656.230114215317,6879.088966931161,9517.780831984406,1519.8692991454766,8152.102571552859,6298.323489993221,6333.206162667488,5660.787147363875,5346.170358369295]}]},{\"name\":\"series 16 (F16)\",\"data\":[{\"name\":\"series 16 (F16)\",\"type\":\"scatter\",\"mode\":\"markers\",\"x\":[1756.7573527159752,3988.536745325244,3528.366738498935,983.4095932902287,8926.541389170168,8444.448595486027,6366.8803865141845,2632.8445303316494,249.57087054472527,3809.748726830182,1809.0409268537232,3274.2979862933985,505.92440304171424,4103.308660768603,6307.92579909977,4246.207055228803,9615.20635547,706.3184221286411,2264.1125334608646,942.0124420877285,390.824211379992,9389.437097786431,2260.447730696289,339.90180996101185,2180.126519422303,3152.94285880206,4935.99728911273,6960.449041143639,4848.7114712114535,2283.9948337617056],\"y\":[4462.381829710206,9168.959546828944,1405.1097908300947,1013.634170385429,8329.824671470913,874.0955477757906,1712.438739452946,947.1736731485281,6206.897368402075,4621.6220393356525,4196.508575775944,5045.131608899952,6007.075812280802,841.8799254732978,7235.260374688567,2347.8904989604666,1976.8663608558422,4581.855620712293,7002.298168859027,2865.7687120430332,3614.401783622108,5437.488197213937,3937.6748686335836,4097.216604298711,3534.0454965472745,8599.11339570197,5731.976940059345,5491.35584620565,7011.68435166718,4932.7143026843505]}]},{\"name\":\"series 17 (F17)\",\"data\":[{\"name\":\"series 17 (F17)\",\"type\":\"scatter\",\"mode\":\"markers\",\"x\":[735.1492836318363,4837.105001580545,5877.0323260575415,5841.913490015831,2039.383080511954,1039.6421090304132,4663.403409834433,4290.4044925695225,9135.792960366447,1035.977402127878,7482.059407905077,6811.791053373843,1007.487266887892,4704.918973348732,9957.372062221604,2593.5600294206283,1797.0363723341466,542.7352782375038,1740.6856923733726,4794.190560980539,7774.226452784247,6604.3285386232965,1614.9018555726468,6137.157382503257,2230.3841539081827,5750.754986759298,9008.451906045877,5522.857842981679,3138.4404565000855,1597.437207112391],\"y\":[2856.4623344126394,4909.254380000879,6943.300935254954,1723.432483891074,1178.5592874314643,6034.296077072151,684.9721577580991,7680.639662538977,2486.8960019941687,4687.93681210979,3807.292528924229,7132.8355985595945,3194.63538265357,6188.847781504246,467.99692155641725,2057.953893975286,3564.2498069515573,9480.6750659875,2941.2475833831463,8363.03215081125,8416.649604347773,8834.965479044724,6791.6404970885305,6489.769684034247,7816.289528218614,1532.6498309449498,8899.099491599134,9629.651808076096,7254.040102072522,7093.232547589133]}]},{\"name\":\"series 18 (F18)\",\"data\":[{\"name\":\"series 18 (F18)\",\"type\":\"scatter\",\"mode\":\"markers\",\"x\":[126.95108442154712,6021.1155509094215,6468.756762495946,8630.609674816176,5450.871956308335,4467.245569886229,980.1156159532532,9736.698194580553,5704.2848913765665,7691.00261454709,649.4297459229003,928.8240747499965,6746.1719488823965,6436.00695789406,5141.794085382043,8144.088741493421,3820.1699047258917,8324.411345067594,7032.05538833822,2023.691797630871,1149.189812645771,9399.414256917335,9478.739821847874,802.4565478264434,9397.710550912147,3008.4821224111947,6884.209504953498,1503.5723111928667,6534.271961189856,224.3600445247884],\"y\":[3765.965115538986,3835.8301764755442,839.592978515018,8354.472808610755,9183.150910190005,8700.395874202928,8331.127040123258,9255.326833348692,1493.9527948801756,8536.428545541166,712.7574374667734,7147.044336172276,963.7322444616436,9869.620955352859,4108.728544112892,6414.174244074272,5800.367918326503,9375.000507772533,3303.79622064361,3482.4392275991377,562.4268656610876,3525.097534962647,986.9749811726236,3277.0983959374344,4567.419066383975,8466.852826220553,6584.143568328152,9997.112931954003,1921.5387739511968,1155.400245268774]}]},{\"name\":\"series 19 (F19)\",\"data\":[{\"name\":\"series 19 (F19)\",\"type\":\"scatter\",\"mode\":\"markers\",\"x\":[4665.173034745751,3980.327219047227,4098.929739080649,4970.129551923943,8624.116373699177,1288.3831170116555,617.6536350200512,3048.1944482543013,1356.4042939974097,306.11274789349443,3291.186063805794,392.9046546131476,994.8715683032839,128.65657937927932,4778.396901826239,1449.1964500795361,6416.836607020649,8800.584472885217,2711.6207971999183,3285.6511357740524,4197.339845228399,5574.798985643288,6551.559409672702,5782.2907275526795,5959.045917284456,275.02607587864935,5499.3960262171695,9295.647208457354,2657.198991230655,4574.208522529516],\"y\":[2290.6533898977555,7157.367824390835,238.4094145100768,4542.135379709841,9501.94879887388,5059.885231867194,9324.952073469993,1169.154869339768,2120.9629278060506,1892.4434830308069,101.63086841493363,5738.834680568035,2561.5599291363856,6913.0427185162325,2420.16861120538,9900.949562540556,2050.1484573668426,6276.622744245865,286.463968399443,6087.190324649042,5366.011622072206,7887.080282416859,9358.952562494713,2515.505813005728,4287.470435889436,7300.4717409962805,5861.693867063812,8445.004004059316,8777.392897118989,8979.027410717687]}]},{\"name\":\"series 20 (F20)\",\"data\":[{\"name\":\"series 20 (F20)\",\"type\":\"scatter\",\"mode\":\"markers\",\"x\":[5403.703824417957,9571.85332424819,3935.693355825057,6580.35890711306,596.4390998456148,497.64230750784066,5053.116890973425,3163.5193626330815,7074.228210677705,1055.1704189733769,2719.7329272250836,7203.328252736854,8547.839666600672,5942.660220728207,4873.214158855114,3126.64853676647,2859.265063787283,2595.89328534259,2916.1090036151627,5719.067395686957,2656.1878594826003,518.789508010562,4587.9609147469755,6197.689661867465,6267.49230857799,6396.469195133028,7147.267010309357,4005.5332241998008,6636.57172076285,3230.845062082578],\"y\":[599.9083410239803,2455.2653558731963,8757.069089033073,8467.312536607173,2204.8285852787008,8234.797060647983,8956.086746371173,5622.1214203178215,294.3722806007842,4484.511780802952,2582.784810382536,6273.52686349383,7565.838438429233,4665.671531126972,185.68326010669045,4445.8327580281075,1432.4490694810331,9761.80907571132,6099.870034600618,3393.9573908289613,1766.0627004800756,4489.683022177308,7515.709172118863,5587.166694173071,4420.6164503098935,9143.634730647038,6563.536039583283,294.1345313553878,2294.4088220346416,2456.9511099655674]}]},{\"name\":\"series 21 (F21)\",\"data\":[{\"name\":\"series 21 (F21)\",\"type\":\"scatter\",\"mode\":\"markers\",\"x\":[2724.211448789192,9587.508722016393,4370.985399318367,7436.109277688521,7963.304525117834,2814.6713386075708,7172.524901738775,6508.536682523531,2387.059360374223,1622.4035022426076,2366.2635208944926,4521.790301334884,3931.1907741490904,2476.6773130257125,8883.641873102166,8141.824834234613,1618.951864965209,1284.8124387671478,7843.4912973158425,8020.280940573792,8262.798548704644,5205.752703824078,3814.722314835506,5735.498814243139,5134.369885445012,25.233253212881834,6510.618478895107,959.2137277823199,8090.39740505836,7576.122559208116],\"y\":[2875.976408553307,5560.674609748429,1917.539041747267,6600.241201803232,709.9763141377736,432.1736271021881,7247.035268570828,2176.475626240767,1461.8082871542015,7704.754010481186,2290.4620304764435,3381.016086023211,1642.7143207739791,5720.12208602103,9860.757772349809,6199.070705713808,9417.257693571206,6634.558210237741,8668.086437711268,8873.41715949006,5368.2599049667515,6852.883653121067,6717.988764791299,9853.671167482062,4173.994903291525,8625.309850053476,3789.6674005675536,4301.168517762885,6992.866176797476,7087.259732441672]}]},{\"name\":\"series 22 (F22)\",\"data\":[{\"name\":\"series 22 (F22)\",\"type\":\"scatter\",\"mode\":\"markers\",\"x\":[9435.14103145264,3707.8703061221263,2719.9349479254843,782.0178847929482,2715.390232790632,4603.716850015578,9961.307833952693,5278.329462795269,9977.51633018409,6555.373234262456,566.532296973824,8879.836232476082,7377.313547540543,6700.32495886626,9865.789940172435,6620.50326105853,5564.557750000012,7913.793001557457,8377.818533300051,3749.9521527398792,4973.695980983408,371.962852781752,4686.130885994538,2734.8880492028425,1500.5168453773576,1753.5264131349848,9425.246340125464,8437.56912977313,3995.7705516250153,9612.559742844503],\"y\":[5875.282048675133,4579.530225626637,6969.599227014821,559.2725254021702,3532.4009194432315,858.5495193493042,4176.026257227183,4801.178375771423,7204.246854430065,4159.095475059372,1334.6489000720085,1325.754450161537,5673.642234174944,9181.274359220317,9147.061763806776,8546.674215408215,780.462281418085,3510.5505090242796,978.4370425787691,7589.207072393324,9890.740758587945,9660.286273048612,3100.0726512030883,556.404108338302,2153.7037929770577,1941.4082898212503,9226.613056342383,4096.19481442886,1691.56811764011,9148.277262982807]}]},{\"name\":\"series 23 (F23)\",\"data\":[{\"name\":\"series 23 (F23)\",\"type\":\"scatter\",\"mode\":\"markers\",\"x\":[5232.035356079947,9380.543295045443,8923.578602179134,4997.098775278959,4391.386637780849,3211.3213813186358,4594.90731142712,7012.983968293066,8270.648904319216,1383.577413925895,9762.66684160583,1134.028599882706,3474.995944295107,4665.39211834706,8985.442042753766,3685.551663630806,9866.099585328795,9794.527540025376,3269.3756139148068,4574.891356998083,1572.03246625363,2745.594268258792,3942.990067521741,5566.932033020504,8138.707350541838,9187.474831290832,8564.567061721154,5322.791674279512,9509.677158661534,7529.256131677676],\"y\":[5210.042246623837,8518.87368346823,5171.520355228978,3243.944984880679,2046.0235697198736,9810.744672477944,4764.916579942512,9262.747065521917,4961.66901528734,4666.071551881742,4736.917096452506,6148.715574550627,7214.812504171041,8163.114521277435,3197.7979877483144,7487.08237763454,1541.8587052713551,9736.035882820332,3046.280405615969,470.60803628067083,6987.612336075649,6545.5549489735695,1639.7877433814856,9011.794530892143,9830.347722227334,663.2419388802368,3811.8053561413144,6879.829086793911,409.06322371587424,5580.009682676382]}]},{\"name\":\"series 24 (F24)\",\"data\":[{\"name\":\"series 24 (F24)\",\"type\":\"scatter\",\"mode\":\"markers\",\"x\":[3876.293837391258,1338.6337464355258,5404.007535168171,5684.126560157654,1409.502588012218,3553.420734429572,8178.2053164980525,8301.3434989604,5062.416217376052,636.6593447793579,8156.849001895769,1649.489828868741,8432.46141939573,5620.384337573136,3903.065993126996,3632.158210859938,2110.9880402324734,5870.286032031604,3542.7084657918285,5780.868775132485,6423.433725540214,7498.039732751102,497.4583274744282,3852.361663429088,91.96787909975357,3181.8471405320893,2104.6745831998005,1597.4407094436037,1075.8021355978642,3471.181534832032],\"y\":[3634.0551989198398,7040.048608618667,7182.248614942738,7130.235380356445,455.32426561049834,1240.0240864168054,5691.993006029127,4365.597133214265,6667.799030846561,7960.259222009581,3204.9425214817315,7887.186910790921,9371.823939164498,8918.733516754119,9188.400775975348,667.5063257735991,3943.712393635208,3378.174802707188,9297.20760286005,5992.7683196488215,7169.962792050232,2710.8575025688588,7435.880810495725,4940.48703994549,1903.1692323198856,273.31559937215366,8745.675214298211,8771.630903923753,9021.178906176745,4435.516034558575]}]},{\"name\":\"series 25 (F25)\",\"data\":[{\"name\":\"series 25 (F25)\",\"type\":\"scatter\",\"mode\":\"markers\",\"x\":[9224.878305630338,8891.447753267357,9902.691433708662,7931.300080175023,1528.5432055617864,5011.593851307178,5376.641143903884,9831.665061538648,644.2520748188896,2937.2123293542163,5159.331461709185,7389.7328993299925,7603.397672229859,7006.119300455159,5162.448803795966,3766.0053433579,4162.857139852445,8623.276018988103,8736.704956097068,4214.779909419598,6479.823009736945,1562.2397619447215,1910.0130337688138,7697.364709364621,1202.9502357999988,6746.296777672563,1985.735290066638,3084.9930763232646,3115.8655158437177,4075.5055716704624],\"y\":[3485.6797059162013,9124.108625741197,9494.476714163351,6531.885641221673,5354.172268168126,5158.951320059457,2677.411801131313,2273.5080157444477,8583.659156995918,5241.148913439612,8999.305412393698,3719.256808962016,3978.947779534753,1703.274848442139,9199.544645471326,8729.546320190697,5646.323914471807,5533.107084657908,2694.472283703414,7904.299462483496,6975.43155657929,9957.580571483206,5688.939869746279,3747.997050223704,2375.9375024119868,530.1998299099064,1003.4937673709843,1992.6377064645096,9837.64694833709,9712.935641900982]}]},{\"name\":\"series 26 (F26)\",\"data\":[{\"name\":\"series 26 (F26)\",\"type\":\"scatter\",\"mode\":\"markers\",\"x\":[5706.363209988187,2722.9518027223044,6501.874329552553,6453.403496157312,1164.8162814080033,9114.235369595119,1863.5139564545045,1580.376784172206,8968.33560608736,4571.682556252231,967.399043739171,7975.467099713239,5326.459763048162,4851.112573664381,3019.176239250034,426.0543201327893,6007.02328453589,344.4998916963937,9200.059916132013,3824.329596799224,3655.921862444552,5129.735800724499,7156.479406352932,9949.56579684994,9427.419184712795,3612.5636713636354,8629.765160927123,2455.508645784752,1254.4015345990788,2629.6418843928104],\"y\":[997.661705189139,6882.038348288333,1800.8771000642764,6735.212209198891,3118.6030869731308,7520.0197877410255,164.40870941611618,7059.859964884262,801.3163006864521,5780.527602219365,2734.05964476221,9608.369445459673,7466.465971833906,5354.393055820598,259.8181143519429,7154.696378689577,1123.693625543577,7895.290550262657,152.3650679788424,9995.593401767012,9656.542652495411,9219.343630414603,5307.432364930158,4740.437805312433,2589.4017358362585,86.49669073593435,3336.8935048201643,7043.329825738296,9004.743225040169,7513.66496620951]}]},{\"name\":\"series 27 (F27)\",\"data\":[{\"name\":\"series 27 (F27)\",\"type\":\"scatter\",\"mode\":\"markers\",\"x\":[2989.1184325649156,3724.5441239859942,8085.56800840455,2266.9416422307986,7754.01582341077,2081.931693406953,877.1148125173867,5689.90272172868,173.57433481770877,9358.886675311145,9293.526745811121,4347.322992736365,4216.607221794613,3314.0078080841763,1139.3146990585567,4098.373223614901,7226.795149418524,5628.597643789699,7972.092076506966,6160.642656734074,7416.009553708323,3491.663324535971,6002.2004600187975,6486.090533186183,7650.296314764211,1118.0916951187792,8906.481982593123,6342.297814765658,1363.7814821534744,2184.1941705320523],\"y\":[5427.601225525449,6377.1608556320425,1836.15862435911,6205.824466632549,3936.952321274084,8642.421951182703,1782.3034945624772,6737.7982691456755,758.3326129405688,1061.212755225085,6227.956528695252,6939.346884089109,8981.206746897353,6647.040523271454,7983.296952990315,8528.865310343497,9736.516410880804,5416.417968107393,1676.6339285197728,3442.220871764232,8464.643709354808,384.60195789737475,9273.319817284246,3612.4092418432665,4574.268220853563,293.67269163686706,7280.387508364945,3204.3592288458367,4072.5008478048553,794.4478383108755]}]},{\"name\":\"series 28 (F28)\",\"data\":[{\"name\":\"series 28 (F28)\",\"type\":\"scatter\",\"mode\":\"markers\",\"x\":[3425.304398645563,9367.203514144889,1240.8179389490438,2688.497047579432,8497.621868794244,2107.3472669696503,7237.963543426511,533.7821576948909,7255.195683716246,1239.183324218488,630.1202486767598,7427.217010196829,822.0383688850108,8536.31650697636,7280.297279612115,2099.706854856924,1842.7565551800317,6184.67839452787,4773.023211135799,2593.9911903816615,2808.9203727792346,8429.926018073935,9607.066177467284,6742.880900943087,7435.59748043529,1915.035092949191,3758.0541352641894,3425.2449042442922,4741.677333363604,1620.0164075732016],\"y\":[894.5008567976753,149.36918400124566,5575.50139017176,3544.1937399432254,1524.8858224676242,1898.0738427974331,1727.7097363581352,2312.502400687374,660.0801511195409,3367.242111055304,8486.094985415053,1740.7831122906614,1194.546317180639,1739.1798456488327,2512.658306450002,9061.058066210167,1141.3846859730425,9954.48852373324,8260.940100597392,8986.292997859859,3100.4347361198347,1080.9020639233936,7802.099722269272,2085.1678546263506,9895.28900974367,2824.804113709617,891.0997139797549,3040.8889713848444,1184.204445137108,7490.903854656735]}]},{\"name\":\"series 29 (F29)\",\"data\":[{\"name\":\"series 29 (F29)\",\"type\":\"scatter\",\"mode\":\"markers\",\"x\":[4379.749634139993,8284.09638688228,2031.5528939739436,6767.819796650363,2671.2453039439697,9218.430767263633,5920.577274019562,2602.0814485963697,3811.239627245856,6798.345466504517,1494.8737985049777,5120.329325194082,9023.36587942694,5572.258195837226,4435.1511557311505,6069.253467053799,7022.524975336182,470.1592254152809,3309.464918226173,1565.0820152680035,8277.143222347224,7593.304712560658,979.2630177975848,1079.1947220404786,8541.991094210167,1054.6382020348356,1200.2186461042475,533.69949374382,5446.052850732248,1522.1043001600399],\"y\":[3425.969535846962,6140.579410301268,6695.31710472704,8533.027508850515,7504.520986856984,2190.282714260545,3538.2578480996,7876.250804611412,3951.2104827340922,380.3911005080085,8542.162104900082,7379.739515513443,4788.777128471902,472.2697138415555,2441.3512680045746,9294.874863494757,4564.211844337136,2073.367976988114,843.7338274208828,5134.67538507877,1083.7113962552546,5165.105216232339,7920.017910091904,9301.700324273825,651.197980308691,2631.0397706753597,850.3047606311254,1132.406112967942,3152.5044043147986,1487.2884405448117]}]},{\"name\":\"series 30 (F30)\",\"data\":[{\"name\":\"series 30 (F30)\",\"type\":\"scatter\",\"mode\":\"markers\",\"x\":[5765.670058976779,1088.2404481776787,8196.469777352546,776.925213186761,3197.736377863757,5739.776437693325,4705.828468493312,3162.358060466308,8637.125672613067,7918.700789123659,2844.9144225237133,4134.445327125654,1702.0752865721356,2953.4942845804267,8977.84774644085,7454.377766892702,5631.387709293212,9258.145839608012,1470.0079909539122,7954.122953136784,7341.281569639975,1709.2688880106932,7577.239325965289,3143.487414214061,7123.589280141577,9225.497599602546,9411.374314831764,3206.624497365773,6213.156036017124,3754.057645716854],\"y\":[27.3035899943197,4918.076870118736,9915.165327902481,6472.923532912634,9045.960210452757,8768.209009936556,3758.5238963591705,8432.986862310572,909.2232830380998,160.151944986886,229.31618943698217,7093.179608343324,7856.894627987544,4925.148103185536,4038.740910263644,7242.507851184705,4022.534466585076,6600.448105129013,4592.821433049621,4656.470285971384,6664.087255929545,7923.677424423526,5356.582873542107,3501.350497231854,5476.870948988622,1819.8599303301787,1143.2705946579058,3978.386452004329,1180.6352624574367,7792.042968446787]}]},{\"name\":\"series 31 (F31)\",\"data\":[{\"name\":\"series 31 (F31)\",\"type\":\"scatter\",\"mode\":\"markers\",\"x\":[6009.582033429281,4990.837612166683,129.0482830033801,8073.745223705157,6400.7704705244605,7720.486068250646,2559.0976544812293,4161.203913143723,6464.871225662696,9916.12136532981,8279.544371674812,8415.668679587132,5043.192386814948,7425.078316164861,5091.6997526256555,7310.756977052063,6744.600140897891,9039.906537371065,2042.4428502466596,2597.145135042299,2724.0230525094,3085.774883904576,1728.5312117272379,4166.641076486672,310.9856319797333,9340.219420998332,3302.902021736862,3719.947236227159,4471.878914157209,7855.369101857318],\"y\":[577.800159604609,1477.1876536218554,8240.056967762008,7043.789425869716,7676.2094788763625,9117.539705849244,3710.749332636926,6992.60873574268,8052.204723010043,894.0782098630929,9973.161148745485,386.60154126306077,1382.4855625903676,1442.2004980939018,9440.029170963386,2649.4206840560255,6825.48533308566,3184.7719572005008,9435.289264732442,4953.186192059862,451.10107962872956,8434.393933004303,1613.4041016465462,8600.15420852309,9263.220494842568,1302.9635572570153,7809.286551076261,6946.204567171812,4168.8674376360095,2350.9570652527977]}]},{\"name\":\"series 32 (F32)\",\"data\":[{\"name\":\"series 32 (F32)\",\"type\":\"scatter\",\"mode\":\"markers\",\"x\":[7255.650638254861,1514.4011678491665,9491.928593422535,4543.639150635824,6755.007645264677,2237.895881441241,7186.063353669174,2528.6623676339736,2356.414721228235,7874.960553984463,9770.536857038549,8509.286697472324,8362.483053176607,1554.9483009281373,7194.3632234934785,7059.718356746636,7080.028701924985,8142.504236567403,9328.281315952523,8113.826820138364,628.1546759666389,4648.352169505423,7590.725719728994,2055.7714647124435,4330.432119569804,2268.5115872964734,6333.101187066521,3350.8268000207954,9743.246034388054,8799.8041957151],\"y\":[7041.3059925448215,9476.971305939052,4210.257679709061,3158.032050560772,6154.586531596768,52.55788435179376,2983.3289903161985,9516.22071626632,359.4575660598676,7002.662270246509,9413.143283986277,7183.839234260535,1585.546713226098,366.46071568134596,8488.14835545214,3763.923256204127,7611.880971153666,5920.262771800843,9088.336064698267,3353.5404300251635,3186.2566415590186,175.58075360291636,720.7689436832476,8594.060686111867,866.9860274100394,5508.896500783933,1216.646964264808,5231.199995859454,415.44959487369806,3189.5347015265775]}]},{\"name\":\"series 33 (F33)\",\"data\":[{\"name\":\"series 33 (F33)\",\"type\":\"scatter\",\"mode\":\"markers\",\"x\":[2895.105637516725,510.82829064954313,499.5268265538255,4894.336485702949,6036.822483624595,2215.0456513261242,6712.112340396371,3932.5733098834835,160.9003545105514,3434.047527250467,5465.575659551198,5851.825344692977,5561.391469138044,9272.81276553409,4192.15097356346,4355.299109864397,9835.206558623617,5607.66850291206,4461.895014239625,2533.3338003148097,6721.054977620062,6736.295315511569,6123.985057142001,1296.6070567793486,7469.446618019815,8305.758426362476,7383.771426966396,6595.820314660887,8176.675524461414,4256.661649971489],\"y\":[7847.138556179542,4522.404029437922,41.10198369566498,1687.5367969402112,8995.374859955926,8707.054440811999,3337.933530944348,5522.100532298615,9297.881647881182,7567.675686177899,59.10037287910619,5653.021407032238,9226.703737100272,9905.566225917104,4627.710777484042,2839.35850349233,4805.99465909974,6108.4590826333415,6871.960453109681,6050.848080076212,7011.179831433714,8791.28284632856,6531.2632399776685,3180.7308351448114,8326.710818239957,1090.2851560273152,3967.7591795232393,9089.824570187771,7077.956042712258,3023.4178648031516]}]},{\"name\":\"series 34 (F34)\",\"data\":[{\"name\":\"series 34 (F34)\",\"type\":\"scatter\",\"mode\":\"markers\",\"x\":[7469.247660846801,9798.06972089176,4771.9025922575765,6339.654472969297,3554.9829518036336,9305.782364982362,1612.9962664699383,6102.1734706373545,3033.6619222749973,6005.371603886372,604.573585466437,2885.1062477231717,2213.3227514355112,8935.290021402274,1202.9950868385308,2910.817739985969,5625.763647732053,231.5051280653402,9360.718461154442,4714.445890570996,3903.4820998187347,9047.788125333798,1976.1947808690195,9994.701971098319,8035.0286639087335,3944.644367472434,262.6142783318497,3194.6907207094187,9125.05196290821,5287.709877354246],\"y\":[8354.164311903396,9053.777673029535,998.2124825547322,6549.968448879366,587.6039909792141,9881.300071879392,1511.5231565732047,3578.149854085333,3328.604132728622,4625.177442997305,7277.575912803041,3862.189465254696,4956.436023659055,9943.248158567367,5651.492389996722,3637.6433828707377,677.2370802188044,9432.422067656382,7297.3389320489705,9254.472552035304,7205.2226825153575,930.5046643799309,2425.128105466411,661.6175146324033,6032.848213621922,3377.8157737812653,3877.424149484384,9085.3103962802,3005.0773667172593,4110.486561330663]}]},{\"name\":\"series 35 (F35)\",\"data\":[{\"name\":\"series 35 (F35)\",\"type\":\"scatter\",\"mode\":\"markers\",\"x\":[644.9582868479087,8020.078491315014,6219.5370819468035,4654.593081216446,6103.553021779957,6504.91388999284,3893.4977352135734,8100.039639636048,6290.040509133403,6323.097363325451,8770.244155019629,3955.3783640207416,4872.757421614693,242.682017255591,5881.5515901048575,7019.516162485675,3122.580201152406,6705.654704568944,6039.615574217889,5253.520902112885,5153.368004911976,7477.312909979901,8300.933451063533,7895.510627156433,976.055680204011,8683.408241157105,826.2646046898026,9133.870627164202,2498.543840126539,2391.120279502926],\"y\":[1054.9494016726446,4538.812968884352,503.91555816858727,5430.947992174028,2918.4969998051924,7149.552651179766,3852.4021377384365,4510.11440211937,937.4978095847131,7624.146776799272,5677.910430619438,1834.0965545937938,8477.560522290956,8181.30540898485,5187.816492106099,3431.414622494067,184.10297983064928,3198.2485055747047,7825.119754626613,3167.8208443690546,6672.481287942956,275.9471340747821,1014.9398661313392,9039.551286445381,2919.06897065115,4342.858753870937,7492.737689418568,4751.316874591762,480.5487409894149,3940.526781865726]}]},{\"name\":\"series 36 (F36)\",\"data\":[{\"name\":\"series 36 (F36)\",\"type\":\"scatter\",\"mode\":\"markers\",\"x\":[3299.518570220057,8813.223247481108,7662.812940860509,3219.178687497348,2929.6815623086445,5431.830380972866,1067.5139386543874,5368.73015477479,9830.058904915291,6324.07131726852,6563.442799423694,3220.361262761641,6474.082189197916,248.77345993169263,7661.560495304797,576.0969706379349,4572.908620867092,7529.030749682192,4516.638600762414,3458.596958948694,2635.7214256949337,129.7035313147299,7335.114726374764,3920.6140409586565,5054.316877172577,3957.8257363144985,3837.9044681277865,313.3561503103655,4162.478934878702,8969.724418505499],\"y\":[1608.5527778287856,6985.2475275590805,4308.531498989405,4397.167438470447,2651.2490729450265,3267.3507322353344,4879.849598937721,945.8720581491342,9289.87105784007,6298.976836423242,7431.002952403097,9173.219949142078,7658.360930927117,4756.779590671947,592.5946782985192,3418.049028095903,7464.381705253316,872.8899135545265,5275.7488455623925,3633.8929532692687,4452.338405508033,6262.417325723496,1837.5898591100258,3268.0698842466304,5048.492780491498,3027.907195502818,335.95023670827453,9932.528385508613,1040.0376246544329,5368.1110420063]}]},{\"name\":\"series 37 (F37)\",\"data\":[{\"name\":\"series 37 (F37)\",\"type\":\"scatter\",\"mode\":\"markers\",\"x\":[4776.931281040482,7028.376950050126,5821.640203388168,8490.69122266853,2346.833930639848,8714.539928322998,2737.1025974489517,1013.2460323003212,9020.36365482869,7651.9950313406725,350.43015502937203,4234.309838591294,3649.911075667247,4808.569594875528,9099.73634066144,6665.744943565303,3666.091785063722,3275.2801554115217,8719.056211371857,5040.210951905952,6857.62795622827,3523.722847243617,6057.279164346453,3642.160134265049,5349.038043012973,5825.032073611153,8480.053576506163,2258.0741764704703,9857.495791446046,6654.445972896248],\"y\":[8909.655236363295,9301.424482625065,4585.609414652649,9821.52704196855,4739.453416732584,740.100977132857,5694.759979658632,9794.607095444444,4353.748731979555,7338.821919388164,9204.034806075453,4229.037713407829,1790.3970556153647,2426.304836845613,7372.672544459728,5062.344468102101,2202.773892204093,9906.738697862264,6149.337945063057,2705.3995617849137,8209.276830979235,7557.36717041415,109.4282967872684,5837.242159268566,9962.700520527824,3788.7612196791533,5452.0036552717165,102.18910668462256,9828.46255444979,6991.615806721892]}]},{\"name\":\"series 38 (F38)\",\"data\":[{\"name\":\"series 38 (F38)\",\"type\":\"scatter\",\"mode\":\"markers\",\"x\":[6090.8301822326275,2611.4004294545744,5929.797677096326,5353.680609494611,2649.406492603118,5567.073135693495,7499.677766798583,1602.6952664914086,9257.743955578097,1555.9563641087836,8973.35821757973,1515.9657592293108,8449.056614482348,5099.894714627352,9062.088082455739,7234.485731930076,167.40459699739475,9904.624371246495,5667.666265211663,6429.270175981502,6922.734032283482,8914.057194085652,7429.163208747711,6189.836582558369,3467.6390077694055,4755.813822071331,7937.270337768467,6139.532938600597,6020.565000037572,1454.7671599342848],\"y\":[9208.377540926245,8729.676385458255,3023.0655372947267,4394.889643695377,6879.624888512775,5924.236936384278,6694.109678006776,4425.70133588494,767.8077147964768,559.0593282811395,2232.334208712996,3738.1356008401267,929.1623123203974,7544.386557533402,9417.520263183242,5675.6586092901325,1163.6943276902068,4776.714528107002,9575.468269416386,7999.985107048275,9026.857505462307,6135.767926321518,9395.832839337825,9296.760325676863,3843.0265821213584,9264.658875046396,1930.3719023326994,1185.0813139454563,1959.3503830219872,8966.053782107452]}]},{\"name\":\"series 39 (F39)\",\"data\":[{\"name\":\"series 39 (F39)\",\"type\":\"scatter\",\"mode\":\"markers\",\"x\":[4249.455491438505,4785.759501597354,1535.2152002244645,2994.43440475316,697.5653948257077,8506.727966320723,7531.682556461266,784.3155776071553,463.91645860424546,5620.025156057875,1246.9127358422372,7226.534807547191,8272.209844371364,4333.294783221574,7737.719312261917,2989.505411093897,7393.930921606424,99.75920635446501,8774.048644019827,79.58393096029414,4902.483964456213,9764.139821407854,8592.310933487806,6344.470146425576,110.85429690290805,9808.013991221696,4645.135627068614,5445.826040527078,8473.377379536616,6436.610718715179],\"y\":[5789.261897491667,9462.059665016002,4882.580558711122,3540.0683886639263,5909.915436521011,9729.493303337098,2254.9609608483743,5665.68660311991,1849.1671325118618,7789.893466294045,3574.948767239365,7053.726940590701,687.4025127842576,2384.6113767573374,8154.195835190528,4517.825768806044,2921.180215598742,320.3461451571843,5763.722806587881,1492.105390549595,4887.390438065044,8728.805959137975,5509.346610361901,2920.57844633443,5902.7726201101705,3752.3154414227643,9846.202220526693,5830.462650835583,3019.482639110963,6009.672302497666]}]},{\"name\":\"series 40 (F40)\",\"data\":[{\"name\":\"series 40 (F40)\",\"type\":\"scatter\",\"mode\":\"markers\",\"x\":[7966.05918277551,8409.530140743675,9041.551204895755,6331.334656382131,6941.532204399759,1198.644169892159,7503.708664556169,6200.272108623181,3474.1656161913247,7614.134790177383,1683.1916377991051,6094.593205966779,3868.770417845043,7430.697684858795,3396.7929123410645,1500.3166048299843,4944.279064795715,6084.00344238451,1329.5533809756976,747.4253919981788,3991.775025795554,4693.224914569612,7948.131991092756,1019.6040206146884,1603.242645178413,557.2092663093587,8671.038624521434,8897.8328746639,7219.978710502537,5544.029358294009],\"y\":[6899.54811247679,9620.26631263827,3587.490983604331,272.1712433567758,3757.2558040205126,4875.601151209157,2954.1058349826676,5272.6272572969965,1942.8799883190961,2394.3955199393463,4813.3913978691635,6424.679814240663,8970.050908071518,1862.5733633180075,2265.9008533917113,874.1786807603291,6249.471253433871,753.6069064963657,1663.6238126651149,1371.626155449085,6962.971011196486,560.6437498300864,8100.927607418099,1508.4057186363664,7485.622730833722,8607.102493009705,7528.663909054083,1682.9988827747445,4231.220034442194,3124.0332477032384]}]},{\"name\":\"series 41 (F41)\",\"data\":[{\"name\":\"series 41 (F41)\",\"type\":\"scatter\",\"mode\":\"markers\",\"x\":[4793.500228124083,5795.057946725423,228.06774069392466,9604.79995813212,5742.431214677867,1643.7093344034793,3476.16915742164,4582.410675455031,682.8142975304563,3797.488048729217,2193.5353541368186,8922.08581715279,5951.164474634333,6306.808113422443,428.4883661101091,6481.419543301923,119.3329544022026,4045.900517285972,1196.462357830107,5562.757783857574,1454.5868292129903,5699.656351920609,3293.9547801154476,9967.176382920627,3650.495927978815,8451.835946210773,2248.916520785104,3656.718129297172,7558.424405017612,4284.613705991016],\"y\":[5486.007894521417,8041.299672475016,7674.813858204667,465.45212231319357,6716.796772226079,3728.980186470977,3477.339430059023,2275.8042341274045,4809.107007494732,9213.034728292432,7353.405231872917,4327.167632765445,7946.367592004529,7416.551826315082,2827.340510770232,7913.525819109161,4756.960149190786,7275.035054443069,9068.046116347956,5765.2256946201815,275.1934459469352,1609.7551482757844,246.73364021860934,2297.8615291523806,6089.681049747371,4429.363807972779,1214.7880086231166,6990.744742015091,841.5363045568946,494.55015966476725]}]},{\"name\":\"series 42 (F42)\",\"data\":[{\"name\":\"series 42 (F42)\",\"type\":\"scatter\",\"mode\":\"markers\",\"x\":[4184.675457880217,883.0593979848588,9353.940258151737,7490.277882699681,4622.211522687061,1341.8174264711035,6106.276638536358,6472.419377397329,8396.391063652274,8234.240733256333,1510.1726867173516,9390.354916563696,6383.375330774894,5428.218828874296,7501.421153064277,3434.380455757573,7184.12051417208,5147.998888087627,2330.9019560086685,716.5304193051613,3390.524132669701,9128.287550205103,3119.2608580470337,8365.685338413865,1922.85429246162,9738.453895082272,8734.24612463021,8502.601972700357,4361.618570403434,6289.543087308094],\"y\":[4856.239979564158,9757.771175683305,8909.92150643714,6590.322885947446,7716.66674334023,2004.7668805662422,1647.7470627267421,1484.6008510859476,2925.5993842295115,3804.0259011110998,1077.494013029353,580.5692373562476,1049.022763167231,7686.754318581559,6610.486574516009,673.9457747193001,2152.85882148752,1855.9281204280996,8607.066423657454,4470.194464017457,7399.993844692752,8141.116051456642,4858.269985807192,6127.13190426638,6968.1950245479275,5116.126069597567,5984.978093529046,1867.7322978119225,50.933480591665024,2173.232967702953]}]},{\"name\":\"series 43 (F43)\",\"data\":[{\"name\":\"series 43 (F43)\",\"type\":\"scatter\",\"mode\":\"markers\",\"x\":[130.82551100280781,8453.964672413147,4509.7857119257105,5045.017604694414,5538.035932922058,9666.011581664943,866.2144669366323,5774.609471655919,8120.750973842279,1097.231832117549,7752.174667644465,457.39411768281224,9988.303621380122,6553.747044484739,3683.132723293372,6212.007544078289,4021.281757665239,5138.545934900525,3073.725781401553,4785.709223248356,9066.116733529732,6703.521084063507,2785.4264091779723,3958.9903503291857,89.32052647024346,4768.857550498981,9177.225622595835,9486.536973395792,7720.3903260261395,237.7218082530652],\"y\":[4624.477156466755,9696.436520651821,2012.7856736533402,6275.205167371457,6777.698331696991,2066.7808174975635,5965.276333667944,4573.99517139933,3452.2537180912004,6108.583880199969,5371.346370411515,5895.263429463288,971.4944145139948,9706.196350870612,2902.2382927627878,3251.777424923121,4030.0629899632836,6701.170831407718,5979.600351131613,4391.249911774911,700.7171483359298,1952.7886970376762,9956.602006382827,1341.4695188276626,7077.16624777212,6368.232750712297,401.7637233600635,8694.75633697109,2227.0482600085475,8467.65002544213]}]},{\"name\":\"series 44 (F44)\",\"data\":[{\"name\":\"series 44 (F44)\",\"type\":\"scatter\",\"mode\":\"markers\",\"x\":[867.6467638659668,9037.815128166072,5623.329355393418,934.1189945312922,5426.93005726108,3474.064957115305,6029.033977216503,295.7970811971045,8471.30012504406,7539.045356859538,2929.3636689655013,5397.292719381411,7793.964689397422,7975.511904947794,9036.898849981784,5639.57236599279,814.4955916418539,3813.3517183936983,5139.723189623761,3102.474268162746,7955.093805421366,5990.461740564363,6618.942557689537,3611.1720504923405,1640.2602741472117,3354.252755463856,4331.221021940818,567.6926371756686,4167.253118922863,9299.454327362178],\"y\":[1233.5891103086205,1940.8604575441523,2782.5903119744476,2526.412545335298,121.92510312878713,5192.805850400127,5700.259063783835,7445.087741569037,7161.1467138560965,7117.438145348649,8510.180186645846,4603.4771235416365,504.2973776380322,5576.054979121882,6450.8606862688175,9185.1981257049,3229.3419718259506,7937.52067319255,4358.067634620925,6099.489829402197,5066.639734970052,6665.211217825125,2751.7407421363814,3477.9004138096193,7946.691237485414,5940.195749440985,5486.25366848174,2495.44780618533,6266.906191473131,4469.880977953471]}]},{\"name\":\"series 45 (F45)\",\"data\":[{\"name\":\"series 45 (F45)\",\"type\":\"scatter\",\"mode\":\"markers\",\"x\":[1664.5244085189393,350.052403407537,3957.7715221604535,8703.617707045598,2104.3658951089737,4962.562671055396,6922.947539664812,7561.531316185185,8545.859272977981,4500.702600270035,1234.453401884823,4480.102759428036,2001.4212867957926,2183.7891522522245,4583.248616402094,5087.796113970447,5175.629107301694,6991.087812719592,917.1573589587057,9146.288228827949,2719.7560723935667,3875.1798657634395,5942.219868589224,3527.628677737811,2236.36397086489,2872.740101972536,4220.198757506199,8944.917784364545,8412.183002255806,5108.6348718158015],\"y\":[6964.109551725905,6913.860207942192,2432.90982167048,5105.266159537655,3315.2805798976883,4994.81476431374,8921.436576022807,3037.60381091696,6879.5948872245135,7749.728390751188,3041.4178702124073,7615.3635610452,3607.199048620523,8045.606439413854,1120.9741611113855,127.30411887313609,6719.116055107545,8345.938466268537,9176.719163959282,2848.632422669308,9315.823421132447,4453.762558300536,5056.1891951096495,491.01960251924703,5547.017979030617,4804.81931345796,1567.1447121044314,1665.7504112912657,6778.412176554762,6856.50902022714]}]},{\"name\":\"series 46 (F46)\",\"data\":[{\"name\":\"series 46 (F46)\",\"type\":\"scatter\",\"mode\":\"markers\",\"x\":[9925.103431365695,8434.039671837356,60.557745271964116,8378.135490055889,5125.854775736452,5934.568069944672,2386.329638454462,5520.180090677051,7437.598965824333,806.8034356941345,5717.844177255684,1425.120822374366,7107.739048686303,6669.691143091274,4570.224283996887,8839.572314704139,2592.2527575698473,7268.8099254487,58.77031297609636,7697.292322614234,6140.951279699201,3071.109470971709,1747.729728980063,3964.860935904642,4409.8356477275065,5064.856791016369,1383.0013580827572,9176.610252107352,5922.138943600293,313.437572958003],\"y\":[647.7555249909394,1032.6427954205476,1662.5406008386556,7415.1723844241915,8449.081320685085,4193.544970753063,9864.433225735886,6437.326265634668,1925.425554445065,6977.668083499659,1137.9986715892232,7120.999924659298,9358.71873996778,4051.6130383064196,5487.259554830182,1194.6124471919618,2481.7281050118354,7401.822161297606,8477.148538593516,9487.199925444633,290.3183654604813,7884.946262521402,9837.031787870937,2198.763786154998,6401.941444157165,7476.921688092159,4125.022056920916,1163.4301012837489,7245.815399256718,7975.455489254409]}]},{\"name\":\"series 47 (F47)\",\"data\":[{\"name\":\"series 47 (F47)\",\"type\":\"scatter\",\"mode\":\"markers\",\"x\":[9727.792442832346,6232.184477456756,8926.895622544429,5357.886346100894,9433.506679178294,4005.4693059382685,6474.880424624327,256.1502218280465,3090.8630514240554,6061.946477976693,371.133954496502,4082.8486844390222,455.1460792486972,5558.241961964862,1740.5528999011044,7227.180558626236,222.5639729365858,5615.502028246005,9402.036319870058,436.76628013487374,9467.046906550706,262.11318625983137,9090.370074519104,3011.157991366554,6219.069156982347,8867.9467153186,7593.9664689462525,1755.0949379437552,6763.947118960291,7984.009356604641],\"y\":[2297.049280557223,2774.3250547936673,8387.457654894122,292.3923852817323,9671.507635357333,4144.090926673757,7759.5141947886505,8974.93305756175,4632.790382159658,1240.1276135249607,4922.021928656412,7225.012231365377,6355.845583915234,8094.299558153925,2934.932471753946,6855.430652486982,5141.257155783709,7521.760894379337,3634.900196055302,6996.322209001716,9228.365111995256,9963.794455773887,673.8427724397877,3730.576279107185,71.30281899263346,6000.245061577013,2030.0893591493862,4180.25909213703,9525.519801893144,307.73279084656104]}]},{\"name\":\"series 48 (F48)\",\"data\":[{\"name\":\"series 48 (F48)\",\"type\":\"scatter\",\"mode\":\"markers\",\"x\":[5522.697661997738,4036.0362523764625,2636.50183351827,5474.596898287138,2509.9076173925596,5812.62014171124,5279.040819291232,2530.7831596250653,6915.593634941521,6216.773872263621,6764.547910396914,1310.6582347884666,9002.963238005404,4930.425371159651,3715.541500513927,7838.995030009906,5902.6445453657025,3839.9586946899435,3000.5847387457297,7815.144482970228,3802.6959772227665,5283.763580056031,8329.587621527533,4967.6672503414475,9920.955863802965,243.64272196150338,7228.528695430906,561.4744389790771,5905.551424810369,2571.6891757218596],\"y\":[2544.29001685888,5661.780153471195,8147.264596593393,3322.7651122235493,5374.447002456808,893.9461293495888,4637.852902832888,53.7259620318864,4373.483704440711,9385.554634465554,2471.3082507760196,9554.048981868265,9756.056028251176,7336.818446813859,4860.430669525704,8888.546777885984,8999.558752725947,3237.6986373162754,1628.9813473825177,8861.352123940842,5242.397164705321,1134.86461772637,2540.0734317818064,6051.386878210961,8681.000117038846,5548.905695609941,8534.346367916163,4423.034247899685,5887.758030882426,5651.954937619717]}]},{\"name\":\"series 49 (F49)\",\"data\":[{\"name\":\"series 49 (F49)\",\"type\":\"scatter\",\"mode\":\"markers\",\"x\":[1976.8631837047258,5181.75524609656,1903.703991185194,4138.16573901331,3349.5584564598425,4022.903532351206,5203.89963900256,1854.236828484106,8476.456661105458,8213.00672081828,6190.1306580043,2704.452885032631,7331.76919757429,2046.3044255627294,5734.6497485310965,4604.471367919736,2756.3749509349022,8135.336820671305,1480.3560949727512,1330.351396479287,4996.068568912918,3722.910006914604,6096.928780926223,6994.088606807953,5875.365663116848,5743.761623827498,3499.085671303972,9574.181767385011,4633.53091025505,5717.780918600902],\"y\":[6152.2672542735245,2439.5262645741077,5974.897043104674,5722.645554715228,9022.693459252216,3127.1920666067554,9723.424827447814,9672.252616117818,3472.8810358575033,6769.412554066066,621.8501462603243,9918.340854744321,7460.346249234127,7512.373298114824,6278.652351417841,7796.21495850593,6766.362552334187,5029.156607534232,1041.4689739193727,8151.49689101011,5663.279442260962,4801.464875779809,3663.475259086263,2113.3462594144835,4423.053734014015,229.50837332411544,7029.631488491077,9420.608371711094,5376.282195661095,1826.7105362738655]}]}]\n",
       "var labels_RW4hjETVWQ = [\"series 0 (F0)\",\"series 1 (F1)\",\"series 2 (F2)\",\"series 3 (F3)\",\"series 4 (F4)\",\"series 5 (F5)\",\"series 6 (F6)\",\"series 7 (F7)\",\"series 8 (F8)\",\"series 9 (F9)\",\"series 10 (F10)\",\"series 11 (F11)\",\"series 12 (F12)\",\"series 13 (F13)\",\"series 14 (F14)\",\"series 15 (F15)\",\"series 16 (F16)\",\"series 17 (F17)\",\"series 18 (F18)\",\"series 19 (F19)\",\"series 20 (F20)\",\"series 21 (F21)\",\"series 22 (F22)\",\"series 23 (F23)\",\"series 24 (F24)\",\"series 25 (F25)\",\"series 26 (F26)\",\"series 27 (F27)\",\"series 28 (F28)\",\"series 29 (F29)\",\"series 30 (F30)\",\"series 31 (F31)\",\"series 32 (F32)\",\"series 33 (F33)\",\"series 34 (F34)\",\"series 35 (F35)\",\"series 36 (F36)\",\"series 37 (F37)\",\"series 38 (F38)\",\"series 39 (F39)\",\"series 40 (F40)\",\"series 41 (F41)\",\"series 42 (F42)\",\"series 43 (F43)\",\"series 44 (F44)\",\"series 45 (F45)\",\"series 46 (F46)\",\"series 47 (F47)\",\"series 48 (F48)\",\"series 49 (F49)\"]\n",
       "var duration_RW4hjETVWQ = 100\n",
       "var config_RW4hjETVWQ = {\"responsive\":true,\"scrollZoom\":true,\"displaylogo\":false}\n",
       "\n",
       "var traces_RW4hjETVWQ = JSON.parse(JSON.stringify(frames_RW4hjETVWQ[0].data.map(x => x)))\n",
       "\n",
       "var animation_settings_RW4hjETVWQ = {\n",
       "    mode: \"immediate\",\n",
       "    direction: {},\n",
       "    fromcurrent: true,\n",
       "    frame: [\n",
       "      {duration: duration_RW4hjETVWQ},\n",
       "      {duration: duration_RW4hjETVWQ},\n",
       "      {redraw: true}\n",
       "    ],\n",
       "    transition: [\n",
       "      {duration: duration_RW4hjETVWQ, easing: 'cubic-in-out'},\n",
       "      {duration: duration_RW4hjETVWQ, easing: 'cubic-in-out'},\n",
       "    ],\n",
       "    ordering: \"layout first\"\n",
       "}\n",
       "\n",
       "var slider_RW4hjETVWQ = document.createElement(\"input\")\n",
       "var play_RW4hjETVWQ = document.getElementById(\"play_RW4hjETVWQ\")\n",
       "var pause_RW4hjETVWQ = document.getElementById(\"pause_RW4hjETVWQ\")\n",
       "slider_RW4hjETVWQ.id = \"slider_RW4hjETVWQ\"\n",
       "slider_RW4hjETVWQ.type = \"range\"\n",
       "slider_RW4hjETVWQ.min = 0\n",
       "slider_RW4hjETVWQ.max = frames_RW4hjETVWQ.length - 1\n",
       "slider_RW4hjETVWQ.value = 0\n",
       "document.getElementById(\"sliderContainer_RW4hjETVWQ\").appendChild(slider_RW4hjETVWQ);\n",
       "\n",
       "Plotly.newPlot(graph_RW4hjETVWQ, traces_RW4hjETVWQ, layout_RW4hjETVWQ, config_RW4hjETVWQ)\n",
       ".then(function () { Plotly.addFrames(graph_RW4hjETVWQ, frames_RW4hjETVWQ) })\n",
       "\n",
       "var trigger_RW4hjETVWQ = true\n",
       "var reset_count_RW4hjETVWQ = false\n",
       "\n",
       "play_RW4hjETVWQ.addEventListener('click', async function() {\n",
       "   trigger_RW4hjETVWQ = true\n",
       "   if (reset_count_RW4hjETVWQ) {\n",
       "      slider_RW4hjETVWQ.value = 0\n",
       "      reset_count_RW4hjETVWQ = false\n",
       "   }\n",
       "\n",
       "  const start_index = slider_RW4hjETVWQ.value == labels_RW4hjETVWQ.length - 1 ? 0 : slider_RW4hjETVWQ.value\n",
       "  const end_index = labels_RW4hjETVWQ.length\n",
       "  await Plotly.animate(graph_RW4hjETVWQ, labels_RW4hjETVWQ.slice(start_index, end_index), animation_settings_RW4hjETVWQ)\n",
       "})\n",
       "\n",
       "pause_RW4hjETVWQ.addEventListener('click', async function() {\n",
       "  await Plotly.animate(graph_RW4hjETVWQ, [null], animation_settings_RW4hjETVWQ)\n",
       "  trigger_RW4hjETVWQ = false;\n",
       "})\n",
       "\n",
       "graph_RW4hjETVWQ.on('plotly_redraw', () => {\n",
       "   value_RW4hjETVWQ.innerHTML = slider_RW4hjETVWQ.value;\n",
       "   if (trigger_RW4hjETVWQ & !reset_count_RW4hjETVWQ) ++slider_RW4hjETVWQ.value\n",
       "   if (slider_RW4hjETVWQ.value == labels_RW4hjETVWQ.length - 1) reset_count_RW4hjETVWQ = true\n",
       "});\n",
       "\n",
       "slider_RW4hjETVWQ.oninput = async function() {\n",
       "   await Plotly.animate(graph_RW4hjETVWQ, frames_RW4hjETVWQ[this.value], animation_settings_RW4hjETVWQ)\n",
       "   trigger_RW4hjETVWQ = false\n",
       "   slider_RW4hjETVWQ.value = this.value\n",
       "   value_RW4hjETVWQ.innerHTML = this.value;\n",
       "   if (this.value == 0) reset_count_RW4hjETVWQ = false\n",
       "   if (this.value == labels_RW4hjETVWQ.length - 1) reset_count_RW4hjETVWQ = true\n",
       "   reset_count_RW4hjETVWQ = false\n",
       "}\n",
       "\n",
       "next_RW4hjETVWQ.addEventListener('click', function() {\n",
       "    if (slider_RW4hjETVWQ.value == labels_RW4hjETVWQ.length - 1) {\n",
       "        reset_count_RW4hjETVWQ = true;\n",
       "        return;\n",
       "    }\n",
       "    ++slider_RW4hjETVWQ.value;\n",
       "    value_RW4hjETVWQ.innerHTML = slider_RW4hjETVWQ.value;\n",
       "    trigger_RW4hjETVWQ = false;\n",
       "    slider_RW4hjETVWQ.oninput();\n",
       "})\n",
       "\n",
       "prev_RW4hjETVWQ.addEventListener('click', function() {\n",
       "    if (slider_RW4hjETVWQ.value == 0) {\n",
       "        reset_count_RW4hjETVWQ = false;\n",
       "        return;\n",
       "    }\n",
       "    --slider_RW4hjETVWQ.value;\n",
       "    value_RW4hjETVWQ.innerHTML = slider_RW4hjETVWQ.value;\n",
       "    trigger_RW4hjETVWQ = false;\n",
       "    slider_RW4hjETVWQ.oninput();\n",
       "})\n",
       "\n",
       "</script> \n"
      ]
     },
     "metadata": {},
     "output_type": "display_data"
    }
   ],
   "source": [
    "val xaxis = Axis(X, title = \"X Variable\") setLimits (0.0, 10000.0)\n",
    "val yaxis = Axis(Y, title = \"Y Variable\") setLimits (0.0, 10000.0)\n",
    "\n",
    "// we can also specifiy the underlying layout directly - sometimes this can be useful\n",
    "val layout = ChartLayout(\"Animation XY\") setAxes(xaxis, yaxis)\n",
    "\n",
    "val series = createXYSeries(numberToCreate = 50, length = 30)\n",
    "\n",
    "val chart = Chart(animated = true, transition_duration=100) setChartLayout layout addSeries series\n",
    "\n",
    "chart.plotInline"
   ]
  },
  {
   "cell_type": "markdown",
   "metadata": {},
   "source": [
    "### 3D Animated Chart"
   ]
  },
  {
   "cell_type": "code",
   "execution_count": 48,
   "metadata": {},
   "outputs": [
    {
     "data": {
      "text/html": [
       "<div id=\"grid-container_kGZYLfx2lb\" class=\"grid-container\" align=\"center\"> \n",
       "<div id=\"grid_kGZYLfx2lb\" class=\"grid\" align=\"center\"> \n",
       "\n",
       "<div align=\"center\">\n",
       "  <div id=\"graph_i1hfjTXjFG\" class=\"graph\"></div>\n",
       "  <div class=\"animationInterface\">\n",
       "    <button id=\"play_i1hfjTXjFG\" class=\"picta-button\">&#9658</button>\n",
       "    <button id=\"pause_i1hfjTXjFG\" class=\"picta-button\">&#9616;&#9616;</button>\n",
       "    <button id=\"prev_i1hfjTXjFG\" class=\"picta-button\"><</button>\n",
       "    <button id=\"next_i1hfjTXjFG\" class=\"picta-button\">></button>\n",
       "\n",
       "    <div id=\"sliderContainer_i1hfjTXjFG\" class=\"progressBar\"></div>\n",
       "    <div id=\"counterContainer_i1hfjTXjFG\" class=\"inline-div\">\n",
       "        <h3>Frame: </h3> <h3 id=\"value_i1hfjTXjFG\">0</h3>\n",
       "    </div>\n",
       "   </div>\n",
       "</div> \n",
       "\n",
       "</div> \n",
       "</div> \n",
       "<script>\n",
       "var masonry = new Macy({\n",
       "    container: '#grid_kGZYLfx2lb',\n",
       "    debug: true,\n",
       "    mobileFirst: true,\n",
       "    columns: 1,\n",
       "    margin: {\n",
       "        x: 0,\n",
       "        y: 0\n",
       "    }\n",
       "  });\n",
       "\n",
       "var graph_i1hfjTXjFG = document.getElementById('graph_i1hfjTXjFG')\n",
       "\n",
       "var layout_i1hfjTXjFG = {\"height\":550,\"width\":600,\"hovermode\":\"closest\",\"title\":{\"text\":\"Animation 3D\"},\"showlegend\":true,\"scene\":{\"xaxis\":{\"showgrid\":true,\"zeroline\":false,\"showline\":false,\"range\":[0,10000]},\"yaxis\":{\"showgrid\":true,\"zeroline\":false,\"showline\":false,\"range\":[0,10000]},\"zaxis\":{\"showgrid\":true,\"zeroline\":false,\"showline\":false,\"range\":[0,4],\"type\":\"log\"}}}\n",
       "var frames_i1hfjTXjFG = [{\"name\":\"series 0 (F0)\",\"data\":[{\"name\":\"series 0 (F0)\",\"type\":\"scatter3d\",\"mode\":\"markers\",\"x\":[6008.623404727874,481.6082915754527,6296.327511043955,3005.5099840671296,734.2290864003842,4538.428521213213,6530.551038014321,2339.230496655631,1895.1716922526164,1000.9387640758871,6915.746041276969,5656.638481404587,2981.222761752601,2425.848784279583,3981.6471743071725,6108.302488514748,2793.035828125442,1023.8452898153815,8101.241485798836,8703.590930783315,767.0261376129628,1337.101458364659,5930.140055921785,3107.9304338307056,8543.468533888841,1096.4225548249917,1575.8914504010968,1741.4346588113372,9687.2999892153,9035.189714535281],\"y\":[7630.359160580588,2937.5101567479223,4246.502630041281,4853.274589549926,5879.917944371181,5492.308627926314,9920.8313392989,5752.620942448971,1502.3698287755317,5320.667781146603,7014.044422223939,6007.195769773414,3866.1193629552636,7131.43675878153,55.68477420134555,883.5393981450934,1666.2853330195403,4044.860623959301,5003.848150359642,3894.14666599705,64.0762749314483,5896.955055130006,7278.26838171041,6844.43836038832,2739.8826462608326,2610.5706884058145,2523.43821788899,5425.091947366974,2327.195618336063,2460.1147174674243],\"z\":[8964.376352580708,9205.014028391193,8563.588840809327,6316.657506887718,7493.039697013936,3796.261474012115,4676.651984174284,8032.423766970715,3211.2737521407853,4690.722536925899,9016.8956986457,8008.429222921345,56.58092136740955,6809.395003855535,756.293645895908,1686.289291487213,8349.881704100244,1158.6053763900827,5590.269538968166,7214.996799205371,3629.8284385017896,153.5369376772777,9812.570151822363,6865.723207640221,3976.128716500036,6147.941986133625,8876.615408469414,4902.47269989342,2174.719698236787,3499.9386227633454]}]},{\"name\":\"series 1 (F1)\",\"data\":[{\"name\":\"series 1 (F1)\",\"type\":\"scatter3d\",\"mode\":\"markers\",\"x\":[9613.549212811571,563.6747683930043,8540.529595665148,3107.2951811402304,3646.3601815072057,8569.576326464625,9988.952929695639,9761.636948599218,3221.0814159802835,1142.5504004570741,1035.0532822602588,6899.510043015877,9670.215429294636,4912.210460988993,2799.900998680496,369.26519032057456,9030.177889067305,3274.485218473846,6816.345302138557,2686.2302217444844,8953.684977802513,9783.567792430862,1451.9054944662846,1914.6638648041703,5989.6614579139905,977.9282159658709,104.36296233461428,4793.492204657002,2547.375703819945,7676.3346855137315],\"y\":[1976.0199983322368,2013.8503118263561,8418.155751093167,2227.1027232718898,8195.48920840894,4659.962318638161,2597.1796926152147,5453.550001191038,8331.26064555556,4740.912902527038,7329.472421633828,1110.9058460954502,4929.18766933766,9469.376649488067,7798.383847951435,7554.6853086823,6606.428537343894,8484.388066065922,7681.461759436648,6017.8085493871495,3447.2572810685274,5568.748718968662,2917.775599439728,2403.5060117527673,1971.56606323871,1577.6884954004279,3462.3864917986057,4823.320174696032,784.7549008954069,3273.9062210393345],\"z\":[5547.801170513409,2244.2781645740138,2168.108784739887,3555.1387114153863,5028.883226077904,556.5765970186243,9331.64348420856,2163.9171129575584,5756.845126511766,1132.8820644655902,3826.796952340389,2385.1847817119474,5609.572896539411,3522.6206521585136,2704.2317770812665,8465.97358981198,6799.688336709151,8309.395385198393,402.40763616900324,532.3399612212631,6388.383104789882,8356.929346759183,6065.46555494172,8632.28984232131,7552.209866028314,6678.70909882824,3014.371020889437,5199.426568945289,2081.6458765115462,6988.757450598488]}]},{\"name\":\"series 2 (F2)\",\"data\":[{\"name\":\"series 2 (F2)\",\"type\":\"scatter3d\",\"mode\":\"markers\",\"x\":[3433.1339020991336,5710.579369751633,9834.395369197546,8625.737981164819,7982.33355868727,601.6798167979387,1423.0303711420634,989.856081126802,7015.053468099431,7609.674676825394,6285.711915155091,3891.7872352109907,7345.728029220162,2624.273681331537,9470.377121947484,9285.129546843733,6110.292631057513,8861.850879643787,6956.914571175247,6738.641125496921,1156.4172981821685,8714.832075630222,1148.4926725839396,9701.793902372803,5615.498578447312,9983.415229931912,5282.346537164728,2126.9318048827413,2833.4702587356164,8362.48846689326],\"y\":[7941.969324949576,5333.598023137397,6675.388564944339,1035.126094285197,6596.7936147495675,3135.3528111439523,1369.1344377814164,2015.054887309965,2152.091323114035,9196.671770084493,4516.469028354212,8484.004366301924,4860.958303374021,4347.282492964762,6675.066955070927,8785.864899359485,5631.8918155979745,3153.5609347723534,1003.044940808957,6968.097495519079,5759.613339456244,8431.37297646273,6857.888838670868,5801.850941596487,2413.419611109949,9582.015546925464,1954.5822567006887,65.7611226931587,6836.499300269971,5642.675370793704],\"z\":[8713.11939289542,4544.4202435270245,7141.281336611833,6765.089372127756,1763.4839718893359,6671.020218976643,7830.027355195667,8470.856898466234,5226.561210152449,2034.6908532226626,3726.5218126162213,1479.1172562631982,352.3451143455902,2076.5695776311877,6873.850519411675,6162.07670010676,6372.190213138004,7214.650103632009,1134.9016235702625,4756.128665915446,9.747106259968552,5365.981888821753,726.3642691514171,6341.080693170489,1995.6190091460346,5375.7990728944915,5723.637454944167,9297.265496945929,2143.654210075928,7216.679297324996]}]},{\"name\":\"series 3 (F3)\",\"data\":[{\"name\":\"series 3 (F3)\",\"type\":\"scatter3d\",\"mode\":\"markers\",\"x\":[9693.203673393265,3460.0793286128637,8072.193977897789,5986.844545051662,2040.6679746749523,9513.759445724036,6491.476000250817,4715.235258085818,406.79156811564866,6300.969146557164,128.78804166429282,1772.0013559086156,6500.504795613406,7672.038877873923,7825.857306603918,2286.569369483765,2127.0090258033338,9257.462198490552,118.35184876637706,9391.467599016278,850.7342023512265,2119.5225006683627,7695.256963352116,338.5932820638593,4727.043465901299,4623.685503622835,5536.287628905649,4575.635800044576,4843.22970061699,6067.662844894203],\"y\":[1238.3807585001994,5723.875801517394,9028.481859106063,5615.811552202179,2067.706141730862,7064.60022483724,24.14070008886382,7908.806622580445,1611.5277570179453,619.8861032311354,2649.7092140682375,2353.2849291484813,3554.628816424726,3204.526335144715,9056.715675179174,6543.426845280656,7067.916212034855,8929.37863233631,7031.674509483993,5526.205102223197,5572.200644616229,6552.442780843325,7491.026828272304,7694.2977181084225,8228.046821874383,1802.4818103254602,3805.0871658755846,4975.429479520801,1402.972720653829,9341.017844817843],\"z\":[7394.655866569701,9684.166374653723,5580.171558815279,6382.054196674375,1163.108529718634,2911.958643145851,1698.3199170388098,154.88408207689264,4758.40381920417,9653.491350391827,9749.924858826429,4373.868512903624,3403.597068373796,4002.166001215696,1616.0540046644678,5670.074335877009,5091.088603596537,3694.8053614854657,9578.184280575702,9543.18844411559,9304.972121009476,7045.435329674699,1723.294948945574,6808.128923617096,4117.491554083343,6880.267145691286,5546.21958362757,5739.299146982224,7499.758852780982,5470.7667324264885]}]},{\"name\":\"series 4 (F4)\",\"data\":[{\"name\":\"series 4 (F4)\",\"type\":\"scatter3d\",\"mode\":\"markers\",\"x\":[1453.6653853496018,2156.439782982311,2993.5156532131637,1658.963583055818,8587.19606753131,9549.553771516146,9509.876649749562,6378.916949961718,6407.867205618021,4006.391147581674,9952.618392373748,5600.526331571335,6823.091643255204,4184.499831326783,3607.7314411383254,356.63178827300857,3286.7048856601355,4860.86142497137,2797.5814806069343,1961.6235249245628,5266.091467011759,3695.647059141902,5167.178433239465,6789.538162856476,8745.61858422709,4762.647410929953,9151.680849814185,9051.89084201444,6023.524152783556,9127.439017674316],\"y\":[1668.414325959433,1900.254349155419,959.786204424693,2295.374842325174,3883.3164184948764,6875.862718889309,9045.398252694122,704.991816247651,3020.8624415784548,9238.283177530702,5188.862290050062,4608.45455979348,5618.169011027876,2027.466597169405,5953.605182201804,2659.1607876506287,368.11378551876993,4848.24922280503,7130.410490119141,4317.652678414471,6752.942031993441,4313.645822482429,1991.8501849874992,9790.500785313752,9038.986798145705,1843.044353936637,351.0961969714033,3632.828896700747,3884.7528338543325,1083.6673069497149],\"z\":[3635.3711815206657,7373.678645597855,3808.7674017856575,1608.4423213405075,6584.70108320778,8564.415141881538,8070.237710486703,7740.682474977223,1899.5128331215683,8503.903251771004,7134.692176490921,1365.7447357559327,186.01906479656537,8560.187713225056,6828.429568920984,5412.101555196587,3886.213504835806,5486.934501177999,3529.736343241211,319.0239590559052,529.701599585235,9423.902960709607,2301.4725843123506,9255.343255805301,7607.471341351957,4374.233706452553,5738.772144826651,9113.520865054574,8643.109091838105,9867.353907619352]}]},{\"name\":\"series 5 (F5)\",\"data\":[{\"name\":\"series 5 (F5)\",\"type\":\"scatter3d\",\"mode\":\"markers\",\"x\":[2487.2374353551595,3375.523387924191,7624.848554888732,4244.817998875103,881.1553542943896,9831.764257306992,6862.235492473904,4547.413160508945,4957.89688030678,831.6430586109258,1544.0808098347202,5335.382084290187,7223.806767802254,6253.970721521239,2799.7653243147747,8939.623165897441,4978.527580515184,9707.843648932194,9903.848791410333,2620.2485040760203,4748.848125395199,6609.290731001665,1414.3282103640354,3899.8971454789753,2439.797410075084,8726.283163763037,4497.779662698937,3942.709230039576,5179.857751926006,3544.4614963768763],\"y\":[1470.0108049764603,265.89288679765286,4518.802146850226,8378.2054155469,2668.737210950277,4299.321608374952,9630.804542072132,8536.428876258335,5175.192025502261,6349.621454575456,3482.115179329166,6049.7572992371415,7614.464885730332,378.7214070525113,4541.727742338541,475.50219284446695,2289.759174588564,3672.8544152509467,1545.1113678373297,6119.120628764559,7243.6441806051835,1956.514715177896,9065.219887399699,645.6043436219394,2489.773756445992,8796.890820353683,7201.626235881074,8501.520423268412,6621.429953229812,9247.8104801129],\"z\":[9567.779971141546,8828.177402394522,2278.6428636306123,1598.2473177547108,9938.016920058793,1618.6699294536022,1543.5264021281491,7818.958634646979,9410.096519436634,7756.3094535524515,5233.864267096586,2841.8337540051484,2745.6832975999478,8269.21955822371,3277.8653695410662,5160.0540353894485,4670.3229511474365,5645.643225341762,6878.404289819463,6403.176221192911,4346.1143043567445,5376.765477098385,7012.9492730183265,5519.769600049216,8974.409588256773,9028.62980735489,7965.77130683322,3991.250880105057,5542.52136408225,1091.9876442680165]}]},{\"name\":\"series 6 (F6)\",\"data\":[{\"name\":\"series 6 (F6)\",\"type\":\"scatter3d\",\"mode\":\"markers\",\"x\":[9051.9218997531,2104.0804293940396,3097.554627114625,618.6877944845837,2467.849837939653,2723.490438620014,6612.1204400467695,5225.474441404457,291.4298878757371,8240.443717166458,7500.832992776401,9430.835240381804,9054.553829102304,8404.525648541681,5153.126343459794,1487.798550180145,6024.335521002157,1608.993626045182,8467.072019438623,2885.351111875096,7354.365504393814,9860.225264421588,6300.521778324864,2513.4071155730685,4605.345373887097,8142.315709411679,1000.0295261859038,3121.032807828268,2784.8195020959965,2178.596604063687],\"y\":[9724.66319257269,1144.88659407896,18.61610602984176,4695.363111748766,4150.941815444827,2244.6105317132283,6241.995920106698,9209.107248531556,326.7856915824852,3954.166894530099,5886.400823495583,2087.077413797439,6936.502304259191,3742.8815796018876,7438.08488997916,8171.994417195086,2045.4703505355476,5477.226476240816,957.7973803058204,2615.2746416651794,5512.33257883524,9784.126748464294,3176.0850381492633,1729.1205439797063,6688.135362147156,4138.8611495339255,8616.661965155174,8646.361764703586,4766.009786220921,6635.371404936297],\"z\":[4350.697336089279,5367.939429686867,2201.61457973828,3344.0777218275252,5447.750164371871,1381.444126842769,9993.711930050415,2922.0530469148453,7964.47975268153,450.13604140293984,7295.885115710551,3712.6775440163997,6400.148325338614,1400.3868265203478,6824.543419596056,7956.6615489287315,2948.3204107545102,5776.501428138867,1835.0077789034158,4933.590131751967,6587.057485796957,5085.3936936421715,56.60445071563602,9862.906547568093,1075.2968217432278,3019.604110084173,4909.339999240185,8215.520202721478,2260.9912776415254,3525.663674962931]}]},{\"name\":\"series 7 (F7)\",\"data\":[{\"name\":\"series 7 (F7)\",\"type\":\"scatter3d\",\"mode\":\"markers\",\"x\":[4568.865748373346,5721.985384983626,6756.980465038238,3875.824104483443,5003.088077879909,2810.4716572916755,6003.453274376883,3004.690735015382,3972.911876793316,8467.502713977623,2011.2503371774271,9288.308039792435,9171.256846659882,2586.709533937627,3668.152136105347,8671.766413424093,5168.613827360156,7755.614661157084,5390.677494159822,3592.4104035348746,640.0621594354117,1127.7211571419766,3116.821883863691,5499.249432098911,9467.796996051882,4536.951557397465,6160.543839506474,8935.181983220271,6744.868396920942,6333.744736248492],\"y\":[7286.704539589961,3127.164547882085,3449.962950839628,1556.88758723318,7515.556659807023,7820.4700242031795,1619.7106706921504,8002.419703915186,6628.762389032521,3696.693628533947,5214.129685229251,4510.716954358819,5124.32283092928,4131.189003175894,552.469495888528,4365.128468261231,8455.678817516091,4274.11868893947,4190.853601256592,1080.2993269217775,9790.64337706654,5480.330191959434,5419.755159584475,6055.587816160646,3238.7128152085534,7966.783814228345,5178.493969303783,7578.738555632821,5520.692231294158,2242.2645144423213],\"z\":[3115.5669466652134,8487.2539048299,392.46781543677776,332.63622823152207,9767.781990461293,5429.654820672046,6785.14114640882,1115.9097770584058,1387.7894420645343,6116.103624016612,8586.638547084965,184.90605789206361,818.7603497036822,2207.615168992251,1265.2939341697788,3571.319085333209,8996.589208555564,4565.354254279701,8123.797235176011,6393.493918244182,8154.151138772856,4466.28326854944,6872.290715116781,2031.2540018036873,9608.771302236717,9088.683980150747,5422.283203198376,4784.622515817023,6133.2182605541875,2080.8514784173126]}]},{\"name\":\"series 8 (F8)\",\"data\":[{\"name\":\"series 8 (F8)\",\"type\":\"scatter3d\",\"mode\":\"markers\",\"x\":[4328.447964787164,9139.306782927253,1342.1619796420614,348.515705207586,2143.2565407267857,1740.3186383622583,6270.18569561216,6331.3173279141665,9099.792728826873,7966.132344558519,6374.07772917055,985.9275474137353,4000.9810074862717,3599.285826581371,561.2721547354915,6453.167727216483,8968.85716534689,3505.3536230573745,7527.943628002053,8958.751046144376,6795.394229704691,3460.7326801413874,3684.4090860938118,1882.0324810469924,6036.793053618558,8310.700460066193,1252.123317863002,6124.420980793123,9706.032967606448,9492.715231009784],\"y\":[4735.699357106195,9918.870651428882,4443.871905918615,7625.949626827514,8905.024420373486,3044.138055897734,8386.372776491255,1346.56154014699,1666.683356106231,1042.2506705417134,7597.429204030342,1859.2218692490592,760.5398226934301,3484.907682126729,2897.644252315209,3778.9350879420526,4086.471547537447,6594.288122199745,1196.3195147987426,6753.2038131048175,9647.888430682295,4596.017970710218,8021.190027095392,9083.103996842801,2592.810300269565,6066.8042536565645,840.9409317403449,4102.854559386805,3639.918875027953,1236.5180099885476],\"z\":[5988.424779561114,2430.9766053738126,5296.137564077829,3714.2650384374388,5517.895224576509,8372.160264342056,9703.93656380955,5430.258871109794,4167.459371634923,6727.464695046406,4700.697076521046,6720.065565536805,748.3426652314673,7061.498843889447,2729.1174924441875,4425.063254427118,2745.4527917768446,6078.741222347523,606.7693888940706,9642.72263042035,7689.116049518857,5177.177873433474,6844.573153289939,3332.579741621876,9945.754431385261,9475.948567399499,7198.082805554961,2368.535907326571,6975.657427912104,6654.707897275403]}]},{\"name\":\"series 9 (F9)\",\"data\":[{\"name\":\"series 9 (F9)\",\"type\":\"scatter3d\",\"mode\":\"markers\",\"x\":[8442.125261989288,825.3918119344461,4818.899108689214,8795.92690819235,4978.470199400555,1297.2809508362625,8595.836178663763,8087.372505005387,2817.855909424178,8867.93751302287,146.51624873845526,7720.51880648645,721.8278687507218,5987.498951059013,1583.7154384420649,2611.660890848814,8846.494911104817,9957.80718811643,497.2167515130821,676.0173046071927,1099.4456021646881,5987.941349504542,9822.326343313607,4301.12104960087,8602.706163067312,7853.977459664265,2973.52171347394,3394.3171210024216,8148.766128106492,5081.736102633095],\"y\":[2744.513444455986,5920.199250616748,1343.3352976429514,268.54894565191523,688.8903505937327,9197.33244398811,7247.636782989416,2669.8345197165995,2220.914253202162,5389.628041310801,3764.6830558773713,4498.544642187266,1513.9159820557668,7606.245456407219,758.1195466377088,4520.304344417724,9424.13620529455,8814.923429743112,948.865254352137,9474.336523034517,7130.748540247388,4377.1433536801815,3003.9160947135592,7610.028677270775,7958.189156073255,429.5558074267269,4913.320559437329,201.25915234281865,9934.806431264753,4564.612085791268],\"z\":[4745.475730781146,6285.375886930943,2042.2431784815476,2304.355336439844,177.53298169792652,3070.974955521798,7822.8416504798115,2714.846597346028,7816.845455258969,9468.401075951317,1037.766720874973,9174.715989447186,8261.025758628413,3019.1531482602286,9406.419561775847,6789.838420169263,3088.326234136146,1135.142386309005,4108.114225964905,6237.159935290293,5526.694805037131,6006.02331785561,4689.877170496629,4924.205831502607,7418.997183395497,8792.573380992078,1299.6189384352197,266.8238510477994,1283.540261899917,2796.3702017050473]}]},{\"name\":\"series 10 (F10)\",\"data\":[{\"name\":\"series 10 (F10)\",\"type\":\"scatter3d\",\"mode\":\"markers\",\"x\":[8751.81973409362,6616.228847881434,7763.170018385571,7180.778586664724,9833.260524103545,6907.431758951832,5562.8591821039545,2515.525963259444,8469.221850196256,2454.6500209192413,3094.8376447527858,6926.906653694021,6895.9640477295925,9485.315000486109,8481.964663929726,6957.928521948139,4823.191748502656,8982.80382661989,7314.177079507481,377.4718693402168,2720.5964305691764,7199.042679453222,5609.490372872648,9124.805143102454,5825.464255663546,7801.639414241939,8800.172143456975,9335.5610880971,243.72103259576173,3036.2253470050027],\"y\":[6246.344645065218,1967.54440546143,7604.6840652831615,513.1948124696817,4773.415592038791,1929.5109290257028,130.1743198197347,4269.052950743484,4036.377359732153,5813.31821097982,3691.540088344144,3606.0908606879884,1133.1544121535842,8339.617444968522,2453.5254851446975,880.1324285896039,1820.8196761200513,5449.520158271287,5041.816613999539,9884.601398493662,932.6417518270624,7609.440058749463,8821.482461650312,9770.18380885873,5150.563175095326,343.57546240173065,5836.420342405349,5542.867012664927,7156.856304574007,268.2620457524909],\"z\":[1235.3075064209872,5099.160271745995,1370.3351480906579,3974.6937342547094,2597.4490940425785,4485.811631436568,7966.65179572977,3991.2733067919116,6472.303782153186,7612.353492352126,3688.838585250478,754.1204727361372,6659.361629731234,3998.32695562235,5073.401639453362,2024.0319737202074,7280.434401027074,8303.046218679834,2148.9151700776697,1510.4512069654131,2534.313417209758,8364.284388961289,8408.196570790078,6597.7731993895595,4174.139902929502,4263.275267376654,5911.79588362427,1016.5746470388193,7210.719641127495,9536.940425804873]}]},{\"name\":\"series 11 (F11)\",\"data\":[{\"name\":\"series 11 (F11)\",\"type\":\"scatter3d\",\"mode\":\"markers\",\"x\":[2749.662482166143,2062.1247291510326,4120.412577775954,7074.269349345847,3769.5001332315724,3534.8005103678847,7924.107684620457,6462.294487969529,4474.458131348502,4961.790676467586,4904.194125559109,6588.118127972937,2299.4479343565986,4856.742330986255,8439.323881090892,7156.9643493076,9094.516299457731,783.770028864853,6462.154691342638,5452.244000141072,3575.3452409264964,1814.5098012406813,6383.1526665415495,142.14030048947723,2745.089928712339,9601.667805022964,2973.9204393801056,2228.2299480447,6848.4073252868375,2739.7801336958096],\"y\":[6666.416134834861,4335.181031881802,3287.6674890446843,5343.66412263466,1999.8082251182602,3456.5733873528616,1112.98127176085,4847.306345429638,8534.611306664017,9000.413504601442,9191.818283702934,5910.703195652306,9454.132368596207,7518.923010516069,7970.629728170776,7019.426960660343,6286.151251961013,7860.699713124371,6860.03082539218,3871.4650618574274,1703.1457387842374,5649.365794053234,6706.739736053153,8968.13928071226,6197.270431266733,3971.3319389769163,9559.607600772346,9960.680196730269,8576.675756531256,7946.322137188126],\"z\":[5993.7185604018305,251.29796054690678,4692.658980177775,4457.820367463938,3625.6768961744233,4107.353465337452,3582.519835344563,4736.6153320963285,9134.838328013757,5119.503648570073,5300.885184808037,6719.1344434440225,99.38671598619608,1219.4567486514009,112.66317735091347,6143.275642812138,2262.7931089048693,1670.2405232143713,4433.671244908769,197.96012447270917,2465.340348981888,1451.6531942467047,4930.378153750413,5208.642734364821,7407.030175365327,6285.828600595408,8528.085223369633,319.5379090967043,3652.338837564337,7182.618164734153]}]},{\"name\":\"series 12 (F12)\",\"data\":[{\"name\":\"series 12 (F12)\",\"type\":\"scatter3d\",\"mode\":\"markers\",\"x\":[2727.271986908244,2424.32799579235,4843.918402569158,6831.752254444183,7590.708690809004,3700.6411909169033,7961.4910227812015,1428.515289023463,8039.342335924819,2019.6001260729922,1643.8156198133836,591.9261287480615,2682.8448266211967,6230.258549604465,6085.7538123806,4919.19321131606,3311.103852044882,2859.7560481635364,5829.097950807475,5417.462939041011,7385.8308810314475,8123.543478295475,3884.9668465405716,1563.6649446918093,4396.849403565457,9306.038508527765,8057.214963744977,5065.503970246389,5785.513426532778,2550.592997880083],\"y\":[8080.442047869383,4531.431028348524,7288.106726923204,9888.666376151661,5242.829124724,2204.6768415187944,2014.951271831068,6941.617242001321,4533.170367665917,7676.210407014897,2356.3548741733143,4144.535794679324,3033.106728009662,5063.739632354736,8894.410948677592,8570.0640709827,7269.711802972623,9528.64179621761,4900.060542988253,471.1570840789592,6550.2203613271195,6199.978995156667,5707.710778524432,8515.259829924324,8919.826004521263,9584.515205092315,3285.099478952371,348.3900903271131,1315.1247897660467,4363.918442793687],\"z\":[7653.983868305836,606.1285955530637,5729.909624609725,9115.10018021538,8467.62370683293,6779.539526759243,8766.671606397427,2936.904510849313,2013.91626579839,4447.5543798278295,2816.301822829499,1226.1306656634797,1188.4373219119393,7303.373080080573,3290.1211804222385,918.1321240001972,8569.525184939208,4130.94662322868,7822.520576909172,7392.009391993418,5627.94360971617,4428.625389307292,169.11762348192804,4937.6684470601185,4316.541503676244,6730.571434074076,3644.4917381341925,191.79429705253327,810.7267467703394,8842.548062928801]}]},{\"name\":\"series 13 (F13)\",\"data\":[{\"name\":\"series 13 (F13)\",\"type\":\"scatter3d\",\"mode\":\"markers\",\"x\":[6375.188955734765,3272.0425851034342,5008.455260748075,7187.214196707245,3387.834447183743,4473.530263841039,3548.8286900424605,3245.0733874152515,8608.83200834605,5338.959742650032,8571.28991858913,8680.731907076604,3221.2631362114307,1673.4877097612089,9212.785178258639,7160.147645530132,5506.249086873672,2647.7050456576303,7928.166279426122,93.05914491771206,1290.1720426906215,4516.8707909340965,9119.483464413026,5575.801474054722,3425.7954106563516,9681.797051913745,3272.719661093282,4663.233864171283,3354.4626843685332,1826.5584695522496],\"y\":[5825.903541981878,6764.51757522675,7728.1999568434885,5690.456079067395,6330.429804021819,6435.997448607405,8314.67522896093,5666.439345303971,117.80540966160102,7135.45851763425,3964.625802225551,865.4473013870489,1646.9321078202393,3605.5413982723903,9290.48979586698,5545.904467413029,5982.425850773262,3470.119187697941,5886.627450603289,2879.8633719558375,2442.3649750351296,355.9538271296625,8415.657952983845,6912.059847893261,2354.2457075315483,5392.961188559273,9692.071462372129,2265.4067449079807,1070.8223820497142,1299.935678819566],\"z\":[6013.427391162539,3656.2204338703773,2922.890902803226,3428.598292361601,6421.080332751648,7604.7374229929155,6623.970701540721,5117.344385763631,7316.521902029781,6861.249569250383,7792.23064824465,497.09076428231856,6916.065115772585,4015.4439953910846,4717.8919674108965,6495.129141591114,2395.739716223152,4516.306076115953,3279.7340797866636,7198.91282142599,6259.90547385263,902.2065967943216,7002.219833680914,7970.221249060434,7461.2331473281765,9425.559782380536,8645.147343746088,3741.1551427556533,7106.342873590829,7453.706597936729]}]},{\"name\":\"series 14 (F14)\",\"data\":[{\"name\":\"series 14 (F14)\",\"type\":\"scatter3d\",\"mode\":\"markers\",\"x\":[430.62438328769434,5776.940509703656,8200.529841849813,5037.439637738273,1037.5554292701895,3856.5258736084684,3816.647619268616,6860.85441530382,8831.716136092242,6300.48059582599,8317.361486233396,1420.9780011543105,2449.8900998411023,8566.711370420624,1816.6232840189523,2732.888983607109,1819.42340038725,2238.0356376871646,8935.359898738481,6115.809952021426,4969.946952947851,141.65975667865038,9088.010198727048,3687.9191611648375,8581.91324270175,69.13208408374616,7030.683153431009,7082.393964942302,3116.9718430658922,9106.350845402048],\"y\":[9208.35103708351,4594.463666514071,6588.112678884672,2936.726653548932,3557.6356129049223,7479.014066862083,4552.884390917564,9646.612444436305,7853.3799333359575,5440.555867587117,7750.896114433672,5540.631975697299,4431.343995458014,4492.127059795782,2957.1945673224686,1265.5483134947765,7176.000778863188,1306.9744176200736,7085.999883881987,144.83677490131132,31.550745629969068,6946.616194473801,9354.680447140167,7042.137714722691,4975.912334321807,9421.161365260681,1405.7264154368188,5300.277501961314,1391.5883984492373,8922.51659178371],\"z\":[684.8854312941933,1343.5717512159429,8073.9466230532735,1768.3925328393645,8086.501776408462,1384.6272973803098,3736.5967278374046,9104.769401488988,6902.501020723061,2342.8863607621242,1805.1817442741635,4236.76111971842,6449.347859024926,9560.66492885233,535.0471890815411,8092.574986991882,397.6942598110589,7193.456339672606,44.89072886021073,5772.535673898727,6792.331695572605,3254.7847436982956,3727.6324970154574,8394.89921989463,4025.4445175342426,211.91138156020472,2681.391525054636,3522.4592747575934,4614.055919172552,3757.209608305926]}]},{\"name\":\"series 15 (F15)\",\"data\":[{\"name\":\"series 15 (F15)\",\"type\":\"scatter3d\",\"mode\":\"markers\",\"x\":[8297.590692697773,4338.702949608793,6532.952225647303,6921.0391764834885,9949.85683118491,2439.5477173358836,67.25069846453601,4045.472867196597,1846.5183364780369,1616.4508924353415,6674.1811874086425,9304.233947609064,5541.1492352474725,328.95108235640123,5181.530491956187,7432.727493979596,2339.7428507910913,8699.467099638778,9800.595660559056,123.05807851609285,2899.744774287103,1810.4431134084343,3894.3800481287426,142.44705120637136,9685.31110926248,4843.697495768889,3217.1586709287158,6649.473494660869,1624.8022522976457,7174.09675051014],\"y\":[2429.428601214142,9411.081623274213,9310.658558518067,1914.4406117831381,9092.649854661435,6664.312016747588,3388.4488056455375,4605.71255116366,61.07721027561408,1220.2296886074648,8401.0230473322,9756.61274117033,6213.367422785751,2073.5394868780245,9285.336745062872,6758.559316690138,2804.5421403142414,4259.888871748313,7963.662657618615,7337.105737902139,4369.276792952765,7993.884002813336,3027.538065392127,5147.99134527952,5070.373496086574,9224.34929830005,6381.942680473893,4385.804205953786,7661.6684704134905,7659.385072877454],\"z\":[6898.839475238909,8345.504237245525,6822.516850233174,5042.289885651639,2623.3527454111536,761.8196286681722,5521.385115352439,6000.427842853387,9882.498004721321,2448.7907681942556,6278.974468699933,6142.641962978767,9765.51768137194,3271.5099013383187,2726.685817574068,7246.825689407037,9876.521459082658,4804.36166132325,694.1339495578658,7357.781820048885,2004.2631921597488,2164.8412937417547,2209.802523769776,4406.514213802746,4410.536235047589,4459.290911914283,261.82333689484307,5565.614417657061,807.8007444470226,2036.658102252079]}]},{\"name\":\"series 16 (F16)\",\"data\":[{\"name\":\"series 16 (F16)\",\"type\":\"scatter3d\",\"mode\":\"markers\",\"x\":[6941.25939507691,971.4162796606729,6778.304159985339,5318.6508677657785,2678.1550869610737,9672.11291395819,8381.092378470043,4359.423053231586,9681.010114663282,7702.043587211845,6999.950945265866,485.19709115714573,8403.225920363082,3035.8715456565997,9104.458274941599,1373.9881293947542,1885.4613153454425,9842.395098353214,9527.969180471186,8757.867535538662,9160.727710424813,4936.241212184378,2110.491737103619,3564.96238261937,5559.440499735458,2616.7175814411357,2111.059428423373,6765.658074195975,4714.539198225395,186.60388621916434],\"y\":[663.3406216534954,5447.234691261524,4342.1744622561155,5359.686876492101,2729.8688459184827,2713.434220217049,5461.355398065764,8494.353038004336,6504.419206914048,6890.218099957101,2616.337107059903,7131.575820281359,4018.692752773074,216.24725899256458,878.4212801240277,7669.139549583599,9828.615715962786,9706.374817553038,3929.233341743941,9169.970039711467,7087.200585729356,3198.710981793065,6365.429201754936,7280.946804640051,8055.05225602718,1730.5872445523207,2515.176823309152,2029.5933061105077,9156.249052122395,5336.00612406679],\"z\":[3519.644811548236,1869.557931824596,9056.46529758808,3116.9358193494977,4208.12816175002,7761.806713570001,1921.8433983147997,13.071602727922071,1383.322313211578,5306.97687560702,7011.26546615473,2079.4462979258565,5533.654412461267,9985.341809360358,61.31236451712763,9278.549432561751,8702.472248770806,414.3657509939624,1542.3418644270869,9803.36882090301,2269.2710239239755,7199.833653167438,1795.7563253891062,2770.039957324907,9736.045742891367,435.0620187922405,3306.670368361151,6753.5535432923525,1262.2311696768074,7193.711921531287]}]},{\"name\":\"series 17 (F17)\",\"data\":[{\"name\":\"series 17 (F17)\",\"type\":\"scatter3d\",\"mode\":\"markers\",\"x\":[5922.832623418,87.235393254258,8654.59382295949,1465.2363731398477,1699.7913383704322,5106.480934008242,1793.8235565290306,2898.0170028061016,2233.9405001956516,2589.490183207741,67.46881146494354,7443.755250512097,2839.2173067663584,4532.514426208772,5279.242669445556,2537.699720563127,4729.867769945364,3094.3944455172114,5717.627820934296,1802.810118523942,8490.834667060408,1054.9328549797422,4592.0896393342255,9431.969619098796,9548.962459984035,4453.908494235944,9883.100356067513,2380.8757401024095,9102.359851724992,1212.3095438618336],\"y\":[6802.572984077805,9295.254397777513,2021.8899978487736,484.6246403550425,8524.184449169363,8699.55919882114,6607.9145455765265,6250.797488393354,5618.466738488661,5390.330137959175,9767.041330441787,5228.717752444288,9715.432662976218,3205.904637685796,5167.781687976365,3572.884741453729,2317.8890395466756,4385.189156071764,1240.6521823937378,9022.146092425884,5401.490226301339,581.7130384707348,507.4037562750344,5169.181907271718,6462.965015591891,8265.204456026864,1655.6968273425975,2346.6656185702095,7015.84864825598,1721.4422174131294],\"z\":[1019.6869463405977,5259.804284261604,183.43726934985648,152.15441078877402,683.6188890081918,942.2208360439178,1.5765549288004888,1480.2476309636247,6294.6752012881425,1871.9113831151712,2319.2831095953857,4381.670893126006,8852.961428172346,8156.273375442746,4773.091019775067,1793.7277517894113,1240.6516692809644,9579.965987783735,1211.404429035916,3690.6727717223066,2058.958906950662,3006.632497226488,4158.030163022689,4270.936322362334,6460.736384397839,3135.2757092954307,7429.4507988304795,8866.346428054057,6098.153957018086,4934.3480319362]}]},{\"name\":\"series 18 (F18)\",\"data\":[{\"name\":\"series 18 (F18)\",\"type\":\"scatter3d\",\"mode\":\"markers\",\"x\":[9858.293644107824,8862.22234060148,8049.037974954347,4211.378976524608,225.8393676455106,8708.237966926037,5642.1001275639555,8723.230624663367,2969.306234511648,7703.463884698987,2470.4239464417124,5991.83848836435,4005.0325081925107,655.0166154040027,4564.2158493187135,5562.558080017572,6096.576384923264,5738.253874883677,4687.97203733691,2827.004145924762,3597.138214759111,4927.475398646381,7033.847735689893,8729.53602882365,7108.603260466786,2219.603208698998,202.16309712815848,4686.308414702254,9624.892630056649,7539.32717176326],\"y\":[1291.610767029564,4868.069254103264,7065.201401202764,9692.72391240407,4165.88267867533,8632.656656883095,7753.09126951769,27.364554896505133,520.0638515998979,4340.410034926757,7360.301473530998,9560.452753185296,3239.287547418458,2045.473968116157,8109.525415640216,6252.538497887968,7723.785254520938,6628.245284614045,3618.292469908775,5832.879072374426,8348.604672082913,4818.972176505202,3666.4934542615347,9123.52588437475,4032.9103370750117,9259.784446027843,6382.964195040619,1162.7392960172967,9012.923146225343,262.1992087079006],\"z\":[8871.94444492251,2594.342317288786,2344.192893902174,1239.4101439554152,1138.1171095871468,1768.1419574949498,2403.041613379979,6927.433512316455,2319.316768165238,6787.567291850073,713.6543931062811,4456.455717990523,2698.8987420781073,344.18114368718113,2796.433954829367,6093.483876761849,9745.138008115628,6594.741250792068,2414.880991195778,9049.671859429161,1512.9299402811325,8565.00748929244,9592.394695172035,2130.461886770787,6143.444219328266,6605.497034042822,2077.035533605215,1203.941185678541,1910.2838234957442,3277.9138112302853]}]},{\"name\":\"series 19 (F19)\",\"data\":[{\"name\":\"series 19 (F19)\",\"type\":\"scatter3d\",\"mode\":\"markers\",\"x\":[4551.429939449225,5472.58369983283,8286.083916681177,7716.991252570617,9816.6395698442,4355.810500779319,4841.380334495122,2990.999962886115,1422.9511991838283,425.5690522590538,1437.9679920358647,3275.1942988216065,7777.196393815905,7284.396073767648,141.85694290520635,3755.979737071493,3625.338591645971,2535.195451888457,6556.3284377586615,5099.6045979640285,5990.711702973765,5064.227883680936,5863.481155458438,6047.692385802988,8142.436059610546,2743.57345036664,6763.0489434639385,2242.9467809419443,6975.175212760444,1356.5961350551281],\"y\":[4710.164267324629,6741.879127081233,6300.5372728115335,8059.703262732999,4379.1279363952,7837.418713000846,982.0691332234976,3015.959361700683,118.14074335757874,2792.7901124996156,4589.928509142943,970.8772116306552,2310.3395904962144,1879.0481762751588,6307.960809281492,487.9801793198646,7019.374675116673,5712.183194439738,1195.0496355027385,2321.4877423346747,6073.1519589779,301.72361855934747,1584.2474431917653,9975.74852629316,4827.257031949822,8451.275272817282,6397.336431591591,4885.806901523157,5249.967978950526,3192.4583512423355],\"z\":[9459.11042421104,5850.756292529087,2683.654332433133,8787.211657954767,7514.804109964111,7361.297100492534,5662.749173479201,7499.454918206928,3585.7454703665057,4285.185038350328,9506.374019075582,5815.614304050635,1542.4383303824318,1009.0165970500631,6054.085936987074,2084.5276030636496,3330.9296091014808,1582.0701817698423,3876.10515092732,8650.770550025029,1157.4539342988267,3667.6819754764547,5564.776539044191,5471.448678933572,3117.9866568590865,3179.9035796472895,1301.9015596450313,8935.027767065892,2253.483599697923,8367.952325390312]}]},{\"name\":\"series 20 (F20)\",\"data\":[{\"name\":\"series 20 (F20)\",\"type\":\"scatter3d\",\"mode\":\"markers\",\"x\":[796.9780619141775,9141.78106201535,5818.215726140945,1808.23631645748,8904.265264089108,1258.9533889873705,3667.761037967745,6273.491810971888,3751.990140298005,1729.7567891691135,2104.843153505629,5770.846382876046,54.89691647704076,8093.823862078959,2265.358027303688,6175.381068324895,4431.735240187629,1967.767631536952,183.56215352643756,833.0310462572488,4012.171745720029,8338.006088376776,9044.54161794822,5266.433153858376,4392.998654948762,734.0276369616616,2813.7215607487296,1689.5882226801052,8091.408292507858,1078.7921423205282],\"y\":[4427.310580252998,8421.980085624842,43.4883047610779,5053.97070947382,1034.226400044449,1490.0489623177305,2408.9862411006848,8671.251654291424,3399.1751211861774,5713.692182501816,6968.779976226684,9406.947414451432,6508.212764991162,397.723197137706,9739.38295207274,5735.661821430765,3662.243187102585,382.9908042290941,9079.206523653254,2189.7807649609367,6900.560117202275,6659.1212352174,5524.183585356291,3175.0801097866733,2465.673578603411,2000.6190068689157,8865.758978502641,7688.744954366393,1202.3028156835126,6160.314566292363],\"z\":[5572.135237394752,8814.621172810666,277.56195201788626,2038.9325793464752,7554.056076854599,6411.530888534967,4416.002573531975,8946.796451164962,1489.3008013171204,8763.99939946701,1962.316431560762,1583.472622876685,6445.44962983578,9130.757788859768,3516.146854802543,3683.4071261900813,6378.378876123313,6104.901224679763,8627.593004517363,3410.382362452068,3234.3242585204125,2490.596135038461,9098.634238305693,3530.88387194764,5846.251468762873,6004.749136921128,5804.8452628416635,3156.231959900866,9590.657800665736,6528.062783450637]}]},{\"name\":\"series 21 (F21)\",\"data\":[{\"name\":\"series 21 (F21)\",\"type\":\"scatter3d\",\"mode\":\"markers\",\"x\":[9633.406322237639,9415.601298859376,1858.8211212308393,8858.419653020826,6127.558440001736,6806.813496149636,8796.902326398904,6960.552710508492,7734.295913586179,9169.059938191303,9482.200771185166,5559.476971482714,7171.222977010274,4231.46653943813,4728.2478233874845,7591.166801213493,360.14623333575304,3513.691396925702,9049.3193938198,1502.48822517286,7619.116597899076,989.4999688936045,5965.33452358058,683.4019949387305,7361.26842272352,2371.536451310505,8791.003380736553,8417.977201787895,7417.953332324831,3135.2700976833503],\"y\":[1328.4710891752793,5656.76224009414,5285.298265551845,7472.364263064176,5470.600503345947,5641.584017589786,87.46347367609376,2248.47979657709,5622.4269395754545,8954.856048153679,5856.515164978051,9737.791253712268,3061.203957848616,4918.99185964679,7847.966114118469,416.25799158578445,6880.856458538279,437.54245146290117,1042.6840662694215,2417.962531121549,2004.542817786763,5348.180905991947,2729.9981704420575,7393.585205083989,8899.42045754901,4148.685269347321,9123.487014728811,3457.361928794307,4090.600042001753,7560.575381816247],\"z\":[9330.06102060755,4668.625929692587,5346.6652423226615,3811.082776852258,8674.601091471111,3066.3081130648575,497.01996814482175,8742.644531660093,7376.548590349241,3659.531045637462,4241.725031002103,5900.129923919735,9881.490682854643,4974.702446231846,3027.368153210478,2599.5196659240937,4769.91719016744,7769.27174141319,4087.9059102828587,5647.781316920186,5096.972688892863,2344.590456610931,1087.307502896362,862.190669366012,4261.162506690509,525.0688190195663,5451.217599574791,3828.3723338619934,3056.618826654376,1818.0999958382172]}]},{\"name\":\"series 22 (F22)\",\"data\":[{\"name\":\"series 22 (F22)\",\"type\":\"scatter3d\",\"mode\":\"markers\",\"x\":[9437.750645532695,5439.843757375864,9432.663676209973,4528.979067117451,4272.913668122511,4677.863977493386,3666.0584768539984,1677.3159227522626,4264.052864914117,2818.9042402250366,8145.458577770202,8446.20116776146,5705.102079352169,7798.073233462256,2774.241833800317,2592.6575979347012,7600.307559433824,4810.344665471107,4117.012434284529,1757.6642356662776,9758.491103209031,9397.450886963976,8846.728818559277,1936.319251754709,2647.8065301960073,2246.8227692664755,9793.54125135605,9503.46048708865,2551.3307571199293,719.9696826298152],\"y\":[5953.064037039843,5137.33645525931,5026.728332105227,731.2110223628155,6180.954342943364,1743.6853607992552,9448.611910618563,4013.6857496615507,9982.301380216164,54.839874341853225,7500.116022033258,38.08063693752306,7798.477548055328,4963.24830186003,8880.589845284509,8890.535506412602,7500.741006883839,2846.0625912686864,8209.208208614267,1269.7001064006286,3419.018183865372,5147.213730885073,8129.687028959056,4428.928507729672,9165.939549449917,6305.657480130583,4959.183620181791,8368.116881255433,5760.337288237216,4753.239209296787],\"z\":[4874.847185801025,4870.704484225553,2111.0591888806784,4152.8947200950715,594.3857031015609,3084.875771166188,5791.089973535095,8307.66831159862,782.3934094888774,9264.008852815143,8213.61412962679,7243.292878288153,7002.084412275625,5009.9454330209,9815.79460183295,3851.8454386934955,5932.461581568395,7903.656810330486,7662.679897132525,181.25580684993815,7783.843419705348,761.4095898806594,2.7974893543514234,9965.211647891214,5370.064598967121,920.5434932965572,9738.627341509875,9310.269307533354,2133.5492323364515,8937.48756057519]}]},{\"name\":\"series 23 (F23)\",\"data\":[{\"name\":\"series 23 (F23)\",\"type\":\"scatter3d\",\"mode\":\"markers\",\"x\":[1519.292136624103,591.7449338378055,1569.8550218902885,6871.6656218178205,5219.442970188145,5557.226157605916,4961.170966614353,9932.446034748265,1937.455892367159,2396.309474933953,9103.644849869112,1682.3154634185378,7327.699206753401,8107.437995277911,801.307643501995,2217.966598606872,1075.7689335944808,1877.471840551641,299.748174531006,792.0094800488298,632.2355282361003,7386.899305655714,1545.589888743253,9191.527146381673,1939.575415173439,1963.3523244006324,3183.205491368435,9855.716144883947,9818.61594070644,8328.36461314679],\"y\":[537.9956588389412,3193.3654825487524,5924.949659665608,317.06887781327464,5485.956983697856,1851.9438765184493,2742.421733778969,7397.800917565444,8072.142928710799,5793.581834209855,7949.932679653403,4078.3392005960627,1016.0224434983867,949.2499263982479,4679.442962229254,9357.779534603913,5829.624549455924,5950.947312082455,9677.196464414557,8267.803008070587,7174.753279676503,5982.737947120556,3186.8351204105406,2244.368856377228,298.44307126639546,144.9776472000275,1492.2040798807302,7580.624593028473,4911.218674288953,8892.10008555571],\"z\":[5489.296634563584,1534.0898830264628,7710.612751573355,1082.8372301171053,6400.923684291493,3795.9429911351863,4902.786792416042,5972.772147984764,2804.335054317888,6977.498052745536,5537.987363054135,4082.633748294997,1511.1611557186977,3528.72711179245,6250.966757001929,2291.75954385196,8520.68226234331,8075.953891768456,8085.379754962988,2734.6679269220854,5261.574425761492,3550.600833314179,6481.569686650925,2119.699351576343,9643.922336619338,6678.144894095076,6220.0324529762765,7942.197998292322,1062.4290746863774,3406.2014593959834]}]},{\"name\":\"series 24 (F24)\",\"data\":[{\"name\":\"series 24 (F24)\",\"type\":\"scatter3d\",\"mode\":\"markers\",\"x\":[4138.255476271893,730.7215029338432,3423.392607798401,7672.918991823879,3776.503537379148,6943.286459733908,512.1613370505939,7551.632586925391,7758.524438123581,5421.667500414106,3574.4216206363376,1254.996719735646,5676.031927661922,1415.2849454156435,1853.8078495658494,1741.572621444496,7521.218620507892,6102.234804964043,3009.968788797317,2740.120125316513,5299.439235301649,6263.525442575218,1835.367172653547,891.6055782476284,8354.593784309029,8307.605085004961,2495.7223739547685,8406.202771149487,1152.6374536977034,3195.7776263046158],\"y\":[1638.1545781169204,8142.331754641238,5794.025588026809,3985.1203663158985,7142.725272361397,8337.043425717058,5363.800466600702,5684.03450846663,37.21058952708023,7351.824985854416,8378.412377112463,7906.570116547406,5151.5850162924235,9745.16667195692,9051.261714963684,4415.190868743456,9457.830653707028,3742.9959327724005,2874.3353715403186,57.65054724362284,5722.335312866741,6750.349974875344,2101.204720734128,4832.175396792629,3092.272630114541,9932.425059243415,1117.0422982081961,6856.160135712325,5544.008135353343,5090.403790321547],\"z\":[7394.203517603517,867.0985548196985,3740.7092529905885,7067.229440996988,9757.312505385147,6550.491383022092,5777.9804857180725,2740.763287652084,2019.6794637156179,1467.9805913157695,7540.485605835425,3296.521475988656,6703.270127339928,6649.98512014629,3949.158643314127,9919.4583428944,517.3358821927299,9020.620895705455,8247.745559329373,4304.02803405173,546.2054970372587,3738.706111934277,7659.061410768164,4454.019257551528,7684.631267534016,1267.1715600314303,235.48669071980387,3128.4267000607356,1759.4671282043207,8524.204259272794]}]},{\"name\":\"series 25 (F25)\",\"data\":[{\"name\":\"series 25 (F25)\",\"type\":\"scatter3d\",\"mode\":\"markers\",\"x\":[9534.865097459666,986.8858282324921,989.3568995877133,822.9768589617781,872.1114355874338,8997.965487818816,6959.488711485451,1472.8236508908187,5328.472869232458,4995.877892802706,5126.377591494593,8893.242929856637,5444.53123329862,7405.927670762718,18.01128531915164,6883.12264758374,9579.672024299918,5106.294456698246,3757.6020838567038,2291.097650546796,289.89044848128145,6153.502518762217,6314.5649517495385,5748.966281734691,5757.43906726797,9671.198407511216,5974.241289988127,5358.606710194287,2299.9700335808216,4586.626790857218],\"y\":[8918.27186242829,263.85318633338153,293.4580038825252,6096.4535489610635,7520.420680984376,892.3029651611803,5462.335703176884,5753.358294750064,7988.032386327614,5318.042434189612,2421.9128460125585,3887.075954248026,9317.207027123914,6674.799471099205,7602.289616541844,3708.3437551930765,7180.1577490422205,4840.038850757339,4239.615949679384,4891.4598878985,8326.112878611986,6714.039185367053,2989.6919037438174,690.94461176883,3352.512321799521,3334.0012126909414,7900.537571485868,6720.042307755238,8291.140864825415,8791.753146598292],\"z\":[8974.712894420216,1403.5817216044977,8354.226242352832,5464.63837755474,9358.795509541327,7814.969847006659,398.4308225394972,2422.6818391603288,7316.577392635625,4116.863109058398,4190.041620382616,9041.148890616474,574.1707357764714,5147.326848984366,6392.571608778238,3826.1276005195878,3369.3652097113236,828.055067367841,5348.356362341794,9251.775447139284,4594.208556296422,8018.492303430839,9188.640981298107,7011.398218177181,8788.930714050532,1199.4630639763825,4582.025068574068,4500.528489504239,426.97038710228566,3942.1819472864363]}]},{\"name\":\"series 26 (F26)\",\"data\":[{\"name\":\"series 26 (F26)\",\"type\":\"scatter3d\",\"mode\":\"markers\",\"x\":[8519.035178829125,2578.704284278047,5925.000766969297,7503.279103745084,930.9827512748236,6697.648156909562,7118.496352381552,5083.745092331214,1654.1507645195886,8337.074105342306,4562.518646434509,299.46431144588723,1275.7516456874064,1355.361474681801,8949.043867203642,6233.270431073911,1735.981929330177,8340.845829495362,4176.291614085422,7073.2234622475,9210.894106389542,5340.502138299942,6162.160549175672,7789.072841915215,8763.695297283126,9446.303047337116,7363.007268748564,8558.640147086082,7527.474021731049,2635.552088847728],\"y\":[8140.659526621245,9728.114476402205,770.2446097483007,6990.01390135585,2614.680737664974,9975.027438986013,3093.591749934376,959.6676901409862,8443.554668273444,5039.92894585139,5229.088299247374,3690.4366072658745,7097.594793901594,6902.5649078913675,5422.048974948844,4601.25514316907,3618.02089631839,3600.6086701856075,3230.071510394057,8374.35373185447,2600.7957707296246,8023.777222602428,2714.2133284475,1313.655936440461,200.44090757668,9963.417724257075,1463.5356529573962,3629.6990992927135,318.2075849590993,9457.422430663042],\"z\":[1669.1407406793846,3625.5043601684347,6820.602496083564,1042.59389528634,9551.719503357685,3986.3376588389556,2628.4263674834374,7911.347166449902,9847.017096421667,7417.320788613248,823.1060882216512,2166.9011691023734,2766.5102457162084,8726.363154464998,2536.258385552279,2380.877846885047,1875.9876640631023,3115.9043231386972,1320.0488443353674,2479.495390238011,2672.611821529681,5925.4734077931225,3940.063829532158,6619.301901272996,3291.428945023276,7358.081869282773,3089.04307533581,3160.667219292461,735.1897986544232,6826.988576414646]}]},{\"name\":\"series 27 (F27)\",\"data\":[{\"name\":\"series 27 (F27)\",\"type\":\"scatter3d\",\"mode\":\"markers\",\"x\":[8388.967733062997,7107.011447445094,8296.731039010088,5475.385361533088,8230.63644581232,4450.021630842215,2431.056477886633,2150.073465576855,6494.003356084819,3745.8618960905355,234.652399383124,7651.20966425267,4999.192680734893,9944.660683015241,1902.4582045386774,4433.724412431612,4657.246393916218,3005.316032811509,6058.305462876362,4102.020850790017,5721.2971925256625,9149.927386399531,9692.528528791907,3018.0884518492144,283.007651538959,5746.931200682555,8590.84150995302,7134.174169247356,8215.749549333317,1759.2771798834328],\"y\":[8601.467617603988,764.6714831946965,1135.1414286831707,4453.75469392771,2862.892718505341,427.90506394748905,7629.205040620241,9639.837448802054,5202.513722619668,4117.001731459838,7004.535541233963,7091.187742210376,5316.835371329549,8400.055466799615,8101.529123541404,5000.218091214303,7056.76464817133,603.3096179906272,4350.844918419706,7325.883419666905,7166.9382150590745,997.0968649593359,6174.924696544842,5717.13498329515,8165.916290416988,382.78668341894416,7082.529858425428,3329.236846522058,5704.455386132112,1770.016307790987],\"z\":[360.8982933526739,1297.410020219929,7701.9777563239795,936.9859446369178,9139.263936629579,9892.035029074112,9836.729615110162,9582.622612696527,3779.123430119027,5451.909956054303,9553.026929796362,6507.9269989749755,7040.770786462502,1076.8253764400172,8649.36519942939,6804.839007324946,9282.267869476023,3757.9849623118866,2724.0683033342507,6384.466543788499,3066.1549706022793,3134.565545982595,4280.536977442133,9342.544012580613,8980.844598886146,7386.972332442804,5132.055526912789,8638.499189236023,2227.7892172443057,9912.120137815315]}]},{\"name\":\"series 28 (F28)\",\"data\":[{\"name\":\"series 28 (F28)\",\"type\":\"scatter3d\",\"mode\":\"markers\",\"x\":[2896.4929311852306,6355.52225909031,2582.1482951231324,6373.324687293252,5834.142653137381,8412.54945597134,8703.818545294507,5477.1629414989075,57.31776831956137,15.08741407645009,1457.343852328048,8401.926693189034,3228.2245187060776,2360.3175258524243,9893.345266856095,1187.0491377382818,9262.016526287834,8152.942115045848,7850.765690724662,1590.1650866069683,9264.82927266031,3341.7419470695286,8758.358445597805,6928.219659966863,4961.982196373713,5152.834926573198,1145.4895805633714,2241.3087900239616,2209.426844216108,1974.1414892663734],\"y\":[7616.466658472907,8752.70219313263,3831.9102105054303,8936.576161850564,5599.244415557111,1045.7669676456903,2994.2146470234497,4140.998679504487,9048.501737196268,7638.2660226839935,587.2214788069863,4395.979663333599,6464.722019593988,3706.785754412405,2698.44364209366,6059.946395080768,2085.0510703500368,6598.799010865861,7137.055703152998,6122.2875412784315,3908.3480251475244,4467.144875967055,1196.3456837134422,1011.522800763146,4335.983236798822,5871.4666700388725,6361.900007491578,5784.642952843159,6641.578836209229,3513.418394756143],\"z\":[9511.72743125385,4330.254590844103,3227.0307352668037,8407.214532080588,4304.913194580976,2009.1742535413914,9678.7846594263,1734.36161951237,918.2910806405298,5759.630619827281,2007.489588868674,391.1798185518811,7066.008062201146,3110.2519529373085,3135.7813065892105,8809.985656574652,8324.745484759984,772.5320661288005,8693.099663952633,4019.570853972506,1187.7569313633917,5525.479496689674,1483.0754460177875,3107.8838009629526,7983.768438108865,4958.676667754393,8608.169132831834,2259.5795563368424,8822.178274725076,3305.9835536652126]}]},{\"name\":\"series 29 (F29)\",\"data\":[{\"name\":\"series 29 (F29)\",\"type\":\"scatter3d\",\"mode\":\"markers\",\"x\":[5167.882653229193,4363.37161819253,2063.8867496990565,8080.644589944273,3691.003268978029,7818.889396021494,1467.4726524705607,6513.56445769977,9018.983907011958,2620.0012639605598,5123.330632694639,6900.04324022942,4226.70212184087,1051.3388673035274,8563.764279243487,8876.26793787349,4348.480104806891,9407.015990509062,2024.9310464502346,8375.378814408614,1171.3895695466092,4025.3063654139064,9736.917099943788,7553.9445238255075,4164.509125931889,9630.30605734934,7331.117338990713,7333.191814384116,9731.933751785506,481.3764388390929],\"y\":[1979.481623468733,365.3551522711351,3408.988071289539,5153.425364135124,8718.081366910154,5214.024246859515,7365.224882914565,3905.850702092183,5557.84057264755,8328.387200578729,8634.440663240379,3545.237846479278,9448.167899421633,8994.776116366644,1861.0703730790678,8446.666582416181,4934.611611105672,3864.944763481409,4033.9756380303525,7970.748705670289,7439.556961995083,1889.0181020612474,7672.7703516531365,9898.284577937582,3495.371852546888,7522.0724068917925,3238.476337972738,6701.689289566007,972.2963616929026,9926.818851318161],\"z\":[1159.4374696104892,6482.109510412867,3368.7669580436163,8560.878226551718,8795.064579058291,3223.413899370492,3569.7513162392347,1015.6532580250521,7904.1211693991845,1649.0053324989506,4129.06513098101,7264.8164140605995,3740.9023539551176,414.673539775352,3094.5300994848326,5583.950531134472,7771.800820472175,3630.4666630102424,6670.221273936729,9318.892699322736,2186.3913913340007,4776.827941909455,2597.9506136467235,408.84804884429695,5871.309324657762,8965.01190000557,1040.51094658983,5111.356373730146,8321.836292149042,9189.056927770678]}]},{\"name\":\"series 30 (F30)\",\"data\":[{\"name\":\"series 30 (F30)\",\"type\":\"scatter3d\",\"mode\":\"markers\",\"x\":[2962.1095576993494,9729.710474518533,85.24957786502641,9726.356540313445,9526.79961245802,9309.438165301935,5761.630593257117,5166.1389275887295,9873.615749535173,248.97886311983973,8331.96740396508,6679.932225891205,8777.507037074145,8560.699532741857,1640.0312554885743,8095.350938764325,168.05187897460772,9121.910649876107,1223.6419317328885,3094.3134983877553,7253.331505837295,7671.556300419621,2372.5814480933004,1429.0609415834344,5084.226323749076,6536.774877423369,8284.556509149903,6434.113237451282,6794.7942456900455,7114.533633069894],\"y\":[497.24526402947333,8309.568624973792,467.2763998106322,6987.062286548714,8393.613584643812,7660.9107758084465,9595.668346328172,7215.823542359027,4509.317441768744,1602.7608926482317,6459.687881841589,5837.276191397395,7615.1549359321225,368.77433720865383,4371.353980704682,6874.699167398627,6104.169716428426,5817.143441825874,1719.2917927885753,283.8641367968142,82.14881340074976,4480.942460812175,8011.261314808073,7166.354413652785,1741.896652387016,6884.808849905438,9703.300541579627,6312.853352835169,95.8106685965332,1734.2222583196121],\"z\":[1504.2670042959694,2679.7265450793693,7947.923101734256,8280.909539333283,7057.447611598406,5755.753953155147,6105.713297817793,2677.6720731479163,1426.3021661911878,5941.868898341868,2263.6365132411097,4458.189574035312,6649.291314452227,45.28983736241332,9734.456126119905,7412.128846642043,779.1372016807285,2780.4325805308904,4261.105863671796,5073.14611634697,284.74673710215836,9772.522212584741,5510.950132272265,4797.140533564275,5469.42724418342,8975.82171152862,3535.94991458266,5980.377403536879,8646.907812502219,1646.927259203481]}]},{\"name\":\"series 31 (F31)\",\"data\":[{\"name\":\"series 31 (F31)\",\"type\":\"scatter3d\",\"mode\":\"markers\",\"x\":[9476.384936233928,7351.871694959932,5217.075636605476,1054.582637077226,4092.4179820403106,5471.6824849228815,8496.221034112716,6960.988906985472,7326.938051457215,1576.5379167757121,181.98390581546042,6575.5938343529215,7034.744208770248,6736.473974518646,9671.075352137941,8160.87294050289,5257.290960941425,5920.937107823582,7098.247500903082,1760.612987298956,5978.839494743937,20.067048552777635,6927.869101301047,2624.7412394007697,9169.01224286331,1126.6375722973953,1204.8586852017352,6820.7481770366285,2098.382448244539,456.4070603856951],\"y\":[4159.616188326308,5250.2700627196655,407.87188316586673,169.38502447650274,2761.9830757023865,1830.4159976011513,8219.372544843794,51.797884579168894,1032.156784784146,3952.9358766990163,8694.14811851918,7528.29283666606,9441.868314112311,8500.344676130508,3877.207377870908,4796.193586161149,4577.030804661432,4676.629729542225,5409.991617587084,8.376868444451846,8383.44935152949,5701.189552608309,5750.347262311752,378.61649541626963,780.0806789110992,5018.162405970304,2907.9060343334504,3842.9962625410994,4199.713524851962,9089.320860933956],\"z\":[384.6284051669524,2483.263762704032,3704.842674919103,8067.225909899289,8004.409815807646,5302.766100269223,1726.8852130271716,7686.346621566931,8622.289170805894,142.86420703633507,2189.7927516021086,563.3691122256935,322.941054857776,4537.50039611041,4804.495560940577,2763.9337912681817,3649.769685769754,3125.8489485266737,6658.505080486817,1971.5540806306954,8650.068854600968,4877.75095184652,4875.39817663566,6885.48906457511,7078.3489390315135,6833.899203064611,1081.7894470017818,3577.852791032484,969.0720265238317,2322.503008527388]}]},{\"name\":\"series 32 (F32)\",\"data\":[{\"name\":\"series 32 (F32)\",\"type\":\"scatter3d\",\"mode\":\"markers\",\"x\":[5694.793830973,3456.2637391318553,9971.681633822875,686.4304824968748,7630.869462128701,9206.849769021977,6334.948216513301,2439.5900129201787,2937.3252889379733,9633.44262390103,8234.295743286353,8468.579186371922,4060.6613166389207,1662.308945301011,9254.916739382603,4405.392683559803,9991.30805841956,7947.781774907639,4275.11593178889,1619.2523931512449,6362.218509835013,1492.671987091756,9738.47709860549,4410.379552145656,3729.1548329085513,4488.355708093633,9360.072229533353,8935.803335171357,1723.4056377844486,7182.946166019068],\"y\":[4681.085801271176,3157.0584122349933,6543.061127571183,4001.9785014047347,3567.860537914578,8671.896121974578,9336.858998867194,8374.548055859015,8745.513072444135,4676.894137344696,3435.0108537219503,4758.859659205449,2762.911894564719,1505.1197376009618,9094.303136594546,6214.6622382423775,5404.943047516656,6192.761331836256,5450.165680367149,8536.05699047552,4499.639236202929,5350.917782185895,706.2798109223289,7436.681086188995,1311.8804623486212,1253.4897353873164,3242.701323685461,3570.2919187378902,7272.019109774786,5499.392418833794],\"z\":[8286.355463277725,1273.2830899281612,9656.924216032761,867.0683857330197,7063.152452448714,831.6855263637202,22.573568223607232,6051.547729513751,7938.869850504766,803.7197436886722,681.4729867482116,9859.068323125639,1956.3279346388863,6469.981868791619,1324.8132031519476,1131.5332506275079,8389.284983907773,2836.863764047988,8.421859930320963,8182.848723608651,9458.8616150373,5784.816488777606,153.20573115154778,6851.452519466593,7196.200997405536,2931.591266227275,7954.91805494597,9408.106617082767,9585.457741338907,6571.598826881325]}]},{\"name\":\"series 33 (F33)\",\"data\":[{\"name\":\"series 33 (F33)\",\"type\":\"scatter3d\",\"mode\":\"markers\",\"x\":[2654.731309577457,7505.295390552248,7584.098602516108,4656.052233543737,5491.230611683008,1114.333959672984,9392.895856038569,2194.564148625059,1836.085794794947,1968.5602196736606,3435.871848458614,4687.3963184715585,5009.804134899843,4415.745718147054,6910.858220449944,7238.562864967181,9580.598259575534,8780.12817639103,2484.21330378354,7853.515835609261,6568.554512481843,2344.2380420286513,1728.637659063954,1091.1471133575478,2908.920331886241,882.9472146512818,240.91426023078122,8718.366204976453,2772.4699254221996,9316.943831940145],\"y\":[6026.79537261251,7306.517633139088,8897.555236370348,3500.096977485486,9703.143192814052,8812.429952768733,7957.580057562971,6414.942768161479,2342.826235515507,9102.89311224304,5169.283728234737,1122.7877695932498,4375.76291616252,1109.8832613949771,9841.356599396504,9699.692735411036,6859.893302967094,3844.8661565292296,5369.553534243355,2086.8636071844194,4648.7510867286155,5854.029611303914,4303.60713439907,1293.7436566427295,9507.69999569271,1862.3053020039838,1542.892247246742,1714.366576702715,68.78650254961593,4332.562859185444],\"z\":[6461.9225964705265,5452.294338871655,4664.55550365103,7457.369083912242,7823.408575313616,7496.7293080519485,2544.0610072945724,9704.22228339682,3705.746123898862,4352.15893175802,8749.700014067112,2451.1918064538795,2353.4409233189604,2296.1531664784984,8021.3831010686845,6478.399631519242,8853.119847638956,824.7012922816954,3494.9511910296005,5121.805313487236,6844.419027618487,4041.7412784106855,6674.633437235704,2749.2655437722733,4094.1761727257262,7759.301993591937,6184.735159277011,9884.857968591838,5694.0011234368085,2896.939897589357]}]},{\"name\":\"series 34 (F34)\",\"data\":[{\"name\":\"series 34 (F34)\",\"type\":\"scatter3d\",\"mode\":\"markers\",\"x\":[4143.635551015666,1785.9732265233397,8885.434337441886,6403.920369183987,653.5620037955936,5568.694921335844,9073.54558557083,9374.861026586457,8862.503712752052,2080.504588951314,7458.965605310895,8289.3143188303,5330.01209259189,2635.3603465795995,6899.983768866642,9378.040023563322,3016.5314751231,7454.719622827848,4110.487651017859,8003.477659714933,7116.291967663766,2199.0850631085436,3106.154404681759,4639.195372418381,7166.682434662367,1328.1741639697032,6930.454997101858,6542.862741087809,2392.424993945935,2193.8235711881416],\"y\":[2123.6620329599987,9539.551871262414,1080.7453612529127,1748.2634625644512,3142.2015176682926,7466.945498184209,8934.139162038262,8541.398476410248,1992.3224338341029,7781.289574493699,5810.218270698249,6284.2619908350025,1711.2040266330985,582.6985030578358,5033.510603476122,1671.8202882312783,1010.2577619007902,4890.6819040795135,4551.98143336609,8386.81266841442,1389.5246803809757,385.53388193853567,4611.432143391057,1247.342423216764,7338.70412356592,5028.483700694436,2333.8235214789784,9314.436008402276,4859.498306623012,8983.278453013427],\"z\":[9610.96299062942,4441.8124723527,3475.5913948780394,3084.1331518625493,7062.88215464655,2228.6164622933,2140.723208899754,5729.743177759881,3460.625984450798,5626.8844053156445,11.96286312536543,5530.330677433963,6976.062375661243,7559.03147486066,8924.421931044104,8294.449950281409,1896.7130427280943,7816.655676788416,5585.292030922887,6014.554164688598,2031.495731762535,1240.4843269806431,7999.2316486371965,2395.0789353619484,9933.662325044597,8722.285935592126,2443.7627504543293,4164.0775822053865,9280.1008856883,9923.103371754674]}]},{\"name\":\"series 35 (F35)\",\"data\":[{\"name\":\"series 35 (F35)\",\"type\":\"scatter3d\",\"mode\":\"markers\",\"x\":[4432.488809126495,9919.196275939965,6271.569022208636,6768.167038668424,9535.572783310474,8581.051098191096,4756.309549305462,9757.3703065374,7671.06791115666,7661.829478537204,8929.892466017302,4921.20129420012,7537.324345885363,7504.208912843078,6927.020526783693,7855.540458755739,6225.840013357916,1405.4467955705952,8396.421098260744,2684.7532400615305,2735.565684579643,3113.763600992431,9237.842903389492,8031.016461529002,3103.810788636674,2568.907838576374,7080.561196548259,9108.837618833742,9175.541801848665,7956.052951084406],\"y\":[1795.6930295095642,4917.2401596200625,2652.0017025563548,7151.9474782219495,6360.0062020818505,2168.1034166523127,991.2220281291507,4464.5002574109685,4726.80462234728,3067.6612160012705,1977.1383786841145,9201.752442024976,5009.855154661679,2359.179532849057,9330.663380245896,1053.4496558097671,8249.218795569528,138.34882418705786,2605.2053336488934,3528.1963164396557,5303.237452578164,868.9429162308859,790.7730054897388,761.4399184360187,6998.812221760624,5754.808498389744,544.9318153386973,4894.294077863247,5572.511623111247,5165.272723300593],\"z\":[6775.533792868908,920.4813525596189,8647.928077292248,164.56237452928235,5419.2715777670555,3408.4386554731636,520.095097774158,7361.850961733539,5691.75354499853,4827.892886000465,9355.673264378276,9277.061923193429,1828.937824263689,8344.982811116006,3067.992454504805,3208.574142990609,2396.400376520117,8897.267485927196,1088.942015069303,5192.489644933883,8612.055779990274,5119.726976513769,4035.0802385292095,2059.1388660729535,1809.5892773699352,1265.1258993587578,8353.2298934964,3821.0176804194375,4163.9973291860215,2646.878791700147]}]},{\"name\":\"series 36 (F36)\",\"data\":[{\"name\":\"series 36 (F36)\",\"type\":\"scatter3d\",\"mode\":\"markers\",\"x\":[8431.216792675554,667.3611624331521,6107.279303038465,329.8194860192105,4372.3003127756365,3694.079384291038,8481.456825382656,804.0423772489925,9657.230813020762,6163.793641635396,7407.745212552746,4199.249656971593,9255.765571226162,2569.223806896531,5094.83467066194,231.8050958646045,5399.860562421027,6064.204812633462,365.8869651315266,4523.959548780641,5193.647579051408,930.108611209397,8552.98725065463,9194.478420285568,1510.6997674881907,5661.480075404945,1589.4369474372982,692.1679053217799,6216.974543189158,3983.199506464058],\"y\":[5624.409001790163,4728.562376705399,2658.214904500227,5652.506895165347,5291.131695136416,2863.301318526831,2563.484667438719,6252.734184503678,878.9064640946798,7805.487870981687,1041.8969778592946,5351.610135905634,7090.904776941715,4816.5904043412875,2187.492316007071,5375.517424762728,9813.829276482804,4735.207782447334,6957.609143824341,9342.096116669116,382.16976551719074,91.29359027001516,4452.981811623557,4197.105875420872,5188.917595311749,9537.191952159446,7503.192761591067,7917.470398735796,2176.2501869366024,7395.106863723047],\"z\":[3548.992139474617,2770.9489531330246,4733.831861718643,4505.394342696247,2213.395683137861,4163.890325821654,7839.022765372321,3757.3266593112166,1666.3536302887915,4362.043698319894,892.4246220270959,8693.751296133683,6913.183054230507,3035.4151647926033,6633.834654502398,6403.324755843929,4474.839670306109,2056.6718910690006,5767.818911133542,6548.774473446329,9578.496747684265,273.61837077350515,2484.757470539317,6826.900200510442,3939.796672130428,5079.77584902017,6932.35372272328,1415.8009037371232,4493.519454445175,1523.1199812745733]}]},{\"name\":\"series 37 (F37)\",\"data\":[{\"name\":\"series 37 (F37)\",\"type\":\"scatter3d\",\"mode\":\"markers\",\"x\":[6874.241128048367,3037.0686956189084,6017.313044518855,6421.540243710035,2266.461448755758,1145.4645461044222,3493.5151415246655,4494.606866965198,3289.2290268603842,8455.854241857089,3266.9913636823258,5874.740305557217,4490.536843493545,5526.946502638672,5582.298996622846,9526.89936525818,5129.798112787489,8443.64280289676,4921.384856680472,5084.417271957652,8553.863214078423,7774.573724281007,8713.406258794595,6399.628075526698,1494.385732975556,7928.663008823158,9451.163368060334,3711.4483777116648,7544.6565105161,4794.322826495481],\"y\":[24.018493917669083,7748.085377087254,7755.665691014951,6117.155078821763,7165.0661205259585,8311.568889490965,5285.2886212304575,3456.793566574953,3310.7123184743814,1931.809860835486,341.13683825363063,6760.790372900569,2883.710389596147,8031.411322898838,6276.755389926195,2603.2159756071637,5036.090695027999,708.4702473248706,7632.48489280055,4957.905062760151,1226.3127324851375,3723.123590662625,6156.4507344265985,3011.0507050320343,2655.3609833415335,9564.60944086677,1397.7828343202648,3965.108915979322,9549.38943247189,9579.129059843377],\"z\":[8333.306348255035,45.74754939215997,1551.9223292117113,1054.8103005528765,5670.5888524731245,7995.833503192589,6076.49540669597,8888.590341107616,4964.3651456552,6225.222971806261,9371.023818250924,4000.848918679094,2490.0078676541957,9482.380449898155,3258.0672700702294,8017.14090553314,2936.845621138766,3423.620774203698,9040.556051195776,3902.393038664216,6415.776570460822,1778.0342660901006,8900.430622812124,5211.442850220953,8019.7631235870895,6940.916664343999,4268.040026666641,2410.813563610804,2232.4353908386784,775.799555789618]}]},{\"name\":\"series 38 (F38)\",\"data\":[{\"name\":\"series 38 (F38)\",\"type\":\"scatter3d\",\"mode\":\"markers\",\"x\":[103.03405053422976,3330.1399000742604,2849.1690157916973,6164.930191107249,3802.8733802536176,6217.666415072585,2756.6501000511266,1420.3290023140903,7542.975194308019,8102.76240239465,6911.069770652529,9052.306960747675,3252.9000265216578,8209.41202262353,6161.7451898229865,7589.599621678904,145.87772885695128,6018.149154825492,9186.09032767991,155.03229591628198,5744.361092141914,6239.930821380034,4733.512253344166,6322.904797557863,2682.18363771748,8443.948262216503,6619.942345408902,4419.040665755186,5214.293857294316,7372.400026414571],\"y\":[9471.354096873978,9871.721005807429,1327.9232743085156,1078.7602983175882,4083.7613008430108,1481.480633259198,8624.439499274853,7942.093562985131,7448.829520265102,1550.0136872425785,4729.0260331260115,338.4848502888016,3988.373444064893,7693.201659864045,5885.720469493915,2291.6657276530705,1347.6585265725505,3860.5428903030793,608.2322573580846,778.4345414984128,6216.5563356136545,5593.0215448813315,8782.354034746204,5530.485451102627,3079.25446368853,9873.734408896644,453.6710697824664,152.77634399723183,1537.3549433418332,3060.3391261060665],\"z\":[2684.660206235392,8169.577788927058,5907.839505407265,1335.6751744126273,7328.16616885202,1212.867032855983,4166.516653822643,6872.654222966523,7339.629022612087,2983.740628781728,1989.213178610355,9481.797807628871,4338.329880987565,1846.0402840738955,1637.1053123754275,7894.556989850673,5528.309657339228,6952.395847872313,4739.230269470925,7032.815995231767,3802.5119068262993,7656.412640774345,2644.3598074482557,7624.750821647312,879.0829638822062,3630.7382153126664,7946.054164582625,2349.4737340270267,9656.661934857962,3589.2662219247295]}]},{\"name\":\"series 39 (F39)\",\"data\":[{\"name\":\"series 39 (F39)\",\"type\":\"scatter3d\",\"mode\":\"markers\",\"x\":[6028.858431012713,8327.667477363251,8625.87925848559,3802.744477070176,6040.2468027891555,9222.669735032166,8137.169803482218,3700.575174779005,6562.050134867264,1476.2422146391984,5600.407498887893,4767.606439573804,2436.758983940369,8275.520701080475,4279.746035703899,673.2348628671525,5698.217565288731,1732.4061854153495,8247.452815858882,1111.1478819994302,5362.880496717101,8453.926781784221,4273.404266831187,9181.5583320384,7956.932176364394,6191.863364028708,9952.30922646313,2313.790230894763,3086.217015500422,9582.198225621094],\"y\":[6208.610103026948,9705.601058039227,6100.066974996522,1119.7100775570211,1469.4096268349188,5046.628689803597,2956.7527068868417,9460.309140694852,4258.656068433132,1896.879188685262,767.4256332899099,903.4631430926144,741.2123682817684,507.1799577555991,1177.0616960290292,1479.341034718631,3833.3271042126294,9097.038931346779,2735.0521057039114,6450.057438475862,896.4107613326767,9646.367774135526,2714.7330703506645,1231.6745206855485,7743.918735920123,8111.045353544985,8460.284925603386,2753.375409398695,7716.525333088975,1638.3036240019856],\"z\":[3271.0690690420874,3092.4971486872146,5918.670211877946,836.4486199078425,2077.6163697823335,7858.87120205302,359.94406490676755,3444.4289158754314,7720.119720275044,249.18567583900654,3707.675548532322,6850.2927295329155,9509.41939899593,7951.852892809933,1632.4690201585822,823.581106966117,1932.1193114902812,4155.127083988246,6316.33366787896,8555.22738470925,2855.6056178127787,5795.983790471063,6593.436302736722,3639.542860798528,7395.381621702748,1884.5412020182505,9406.401531508815,2986.387682516702,5726.27634225924,2248.5650159792426]}]},{\"name\":\"series 40 (F40)\",\"data\":[{\"name\":\"series 40 (F40)\",\"type\":\"scatter3d\",\"mode\":\"markers\",\"x\":[786.4687246214274,817.6412570571779,550.7213128349331,2364.8658896631814,8403.713169996521,6880.601440690881,2681.4303910966673,3079.165327018818,1883.9244723918348,2801.9560641044804,1252.463251900494,4963.269055256939,1551.624861397879,4109.489817847593,8441.787485453755,5818.155400503802,1034.106440915079,1864.701188269141,7270.0982948577785,6403.848240813624,4249.251071212348,7078.020964949151,5034.794970474181,3861.7138069829048,2700.2902341792956,3119.341663117078,4244.653785960521,4492.082419391839,4713.553121210529,6190.079462379996],\"y\":[7539.876520184286,7559.864497662813,4280.6382582206925,1589.008132134906,3013.8369308962897,9623.09547154165,3504.342144744542,3982.617761519115,1596.9858453752472,4514.108046189801,9298.05842765108,3181.772156613495,8720.015795767078,7550.29784843164,1951.2610526560547,3029.945605148373,8342.530398697958,3811.2129478961288,449.0723030328425,9924.343929632603,8615.099144940668,9390.965068890991,7021.804012661875,9219.725806252593,4936.723849934135,1419.7228856578126,1300.7557254618785,2305.7553554050546,7976.378752240061,7345.317248284058],\"z\":[2669.4415190931063,4502.236755393071,1346.4326981709273,6475.749319808274,7924.810134588771,4082.591788515019,6047.395473005419,7105.663298341354,200.9078422342525,5714.462511123952,6547.578699568939,684.6070248879777,4257.833820420627,7397.332486582409,6417.893531059677,432.1700470567158,2701.717965562778,8580.57598453377,9811.158826666462,5564.85783285526,7476.849581500278,8561.365529579567,8756.922147443885,3871.8198432687514,1058.9729608038945,8490.37510380609,5236.946598578228,4761.323260276473,2179.1543890208122,7354.23807889611]}]},{\"name\":\"series 41 (F41)\",\"data\":[{\"name\":\"series 41 (F41)\",\"type\":\"scatter3d\",\"mode\":\"markers\",\"x\":[1313.1509766102079,2097.1199497743655,1620.5197915140045,2157.2362032828573,198.93538044434834,1153.6304595567915,4655.552372349525,5190.702439465894,6096.459445514132,6841.124532877685,8029.523973566891,6757.146981616008,866.5892051213065,986.8515011775725,1046.035458920519,7.124982033839267,1154.86146940479,4905.333073762787,2273.5213067735403,5650.379622706422,465.95970381392516,9750.801395577064,5666.971270336544,8218.816079196626,6860.833164841352,1217.027574215479,2487.0092666780497,2287.369031718992,8444.73566721562,7034.554191088115],\"y\":[8298.862533133488,6599.847441742718,5621.097657659628,5412.609327344519,7546.640917999223,6400.357897460007,1205.2840473733006,82.7433761335472,1723.7418528790383,9436.914487385091,6923.938853247738,2923.5015746352133,998.0833543706402,9082.370478667532,7569.747804257137,8280.204208459294,3301.26007508865,8808.811842045683,2138.099384442118,4041.1753182128905,9353.604941459102,5855.07749605327,4641.261120885085,3291.526360274364,6872.536179449676,8343.079382267473,5977.328420420802,6937.866174271154,2299.45090942265,9327.115741280126],\"z\":[2225.3462733953043,2082.0742785602806,3780.826409296143,3301.3853542913416,4044.6423750148588,3119.5405051178604,4852.072987398368,5544.424412184891,6475.55260541056,2547.0398496229886,4298.078571168272,2345.206884100018,8370.358609879519,6287.675512044067,4002.2732965334253,634.1603698200082,5927.401073523863,3975.0911001433533,3246.4318141024373,8833.370018123705,5357.967182602608,8086.415773299848,4886.325884569576,6843.754252117995,5584.699060080385,7073.176233887044,6103.725066770824,2003.0137067290443,3051.9020017905086,6711.667705632569]}]},{\"name\":\"series 42 (F42)\",\"data\":[{\"name\":\"series 42 (F42)\",\"type\":\"scatter3d\",\"mode\":\"markers\",\"x\":[4023.1382791629535,9576.67209844408,7222.282587091412,779.049791067965,4382.077496854558,885.5384545756895,7141.272639413185,6858.694657188927,9656.515772397117,9526.442259172281,6569.254278239844,5588.078068857637,1568.602904170846,6309.102783363432,7613.622111256213,1984.7767179395437,1741.591186200232,6510.512617079493,536.7765124929946,5620.892303668256,3417.3185062114508,8839.2311367806,472.7707581742302,2363.495794759092,6614.480074409489,4105.498267221833,154.481187242248,4158.446530184401,8881.315615548516,3009.093169427014],\"y\":[1434.8092293137959,4907.208174675532,3884.229550117515,6685.38371351237,7379.561867478835,9871.047202160793,474.2485699457355,691.0187200744589,1016.3042017729363,3234.2699662988716,5586.116000178087,2964.2420383444432,6442.608919361418,3467.913352606248,5350.209042101816,8960.811763799251,2928.7785712666746,8957.575035239797,135.3599500117053,2645.033091822916,2894.2490088421855,6993.8329627609055,891.0469327416615,306.42309849567175,193.5271405626038,7670.9683648369955,6120.318481488959,5276.042635406983,6016.654704607776,499.47498803911026],\"z\":[1090.198790000315,5532.547518996454,5890.8333400519095,5610.098853846086,3474.2166870038827,2916.5259021371526,2763.982660275283,3311.9229338624823,2522.0889076227827,2212.704563756839,7957.647187656043,5464.272917787009,2064.482064288149,713.119072871945,3895.8069346635325,9631.988759003263,1186.1629273377184,4040.3688108458045,9947.78726571961,2315.870744934465,238.7443036537229,1988.577138817943,5467.606148597307,684.8733718915323,4014.618129352603,8930.709478753244,2168.730870897414,3183.890224432736,8366.562062534882,6944.405300563237]}]},{\"name\":\"series 43 (F43)\",\"data\":[{\"name\":\"series 43 (F43)\",\"type\":\"scatter3d\",\"mode\":\"markers\",\"x\":[1342.3703665124488,8150.732572012161,1332.893738101263,6224.502850065083,109.05191093656619,6148.1768957465665,4915.940743639142,6578.945130612686,4887.388114953047,6101.714031292868,9061.980733325614,5845.780775288015,9570.571523925428,7530.907395621076,5103.701306956055,5922.4749755370585,520.275626432558,1172.0258812427753,1951.6160582443777,4764.776614207459,419.28449568321093,8111.885124291396,4658.765398532129,3190.891263658303,8268.31311659259,3187.6001910628247,1633.4236206170915,8617.731350519769,3369.1192237988466,1854.2110622608166],\"y\":[3737.417645824701,3959.531013946851,7005.148767520896,981.913914144239,5783.063625694913,8835.122652732629,6712.600636986393,3116.8952394165194,8529.607645828191,1958.6979652222947,4528.932617459132,624.5288745428401,7180.453605441985,8129.879542568855,2412.472998701756,830.9670939358726,595.3545074423449,592.4565701410501,5145.9451275811825,5788.914786455721,3957.1221614782457,9697.144922326886,3468.347756857089,615.6505952814096,6470.317740874565,1782.2530693126814,7923.780018369454,2486.1163567474464,4819.760499760972,7977.147504846096],\"z\":[6972.437466396916,8311.165125452286,2579.593704761458,1236.9296036620358,1278.1454757176903,2890.8279420116355,5539.031656868856,1332.748452268261,9768.44087206656,904.7138949710087,2998.80326644687,1750.6928900588603,2057.3474171070006,5486.438076813793,5492.701378318823,9493.22121250528,6127.638464503413,3326.2243895461006,101.5314507234244,8630.59812841982,9788.513777083062,1255.6059289909415,5552.152709447749,1115.8315732379897,9356.262628406099,2090.4026983953295,632.1836148877746,3855.111974984572,9249.625663049568,8142.9322221713555]}]},{\"name\":\"series 44 (F44)\",\"data\":[{\"name\":\"series 44 (F44)\",\"type\":\"scatter3d\",\"mode\":\"markers\",\"x\":[1101.3477377486436,9316.774708722658,1748.2050486733713,9261.661824327579,2243.316019690138,8065.319347790144,7031.4175443555305,8516.288544035047,6477.29593949027,5523.0395919912635,9797.123779634267,2718.4906694453935,8036.510325917323,1990.33082099371,253.20599269800238,6853.3645257402995,9621.096369305842,4496.7546419957,4082.011227650996,1193.8228279908114,9145.847576509848,1408.4608129918352,8096.712936613933,7379.999418740126,8228.612027992696,5883.582966625269,5740.28776189613,5067.968825458439,7903.048884272353,2245.7304192598694],\"y\":[9321.94466171626,3886.856138803575,1189.8407414821622,136.72874524560785,3942.4812350100638,6390.675331340964,6623.342780920472,4913.265020353732,1429.1882726170059,6451.005123029671,1606.0460271220988,9168.114990555549,1282.5567559112671,4108.871184834944,9551.122647727268,9485.145507886788,9631.189753918934,2288.974654058602,173.70669229591184,4578.297288148127,6497.957518005989,2976.6659215404434,8004.458281331703,5818.274392733135,6299.574079619805,467.8365618898328,224.35318637466617,8816.675318194157,6433.420652540856,7124.160714988153],\"z\":[1257.5195760484282,5215.823461379632,4049.57173182821,2700.885373122096,8209.348333439022,7123.565044001028,1662.6303259553688,1761.6367504753173,8199.98062307231,2735.8208919167237,8127.113046710532,4954.473336019824,5918.67771005279,605.6931483477513,2681.76869821645,8995.679976468642,7312.461835387937,1746.443676026519,6262.354078015714,7092.568257411861,3222.810052239642,3296.6774219127706,6089.031207823007,6233.8086666657855,4997.075493051077,4829.577058254286,6653.693533452256,285.5900978219106,2626.693775508665,8554.05475920136]}]},{\"name\":\"series 45 (F45)\",\"data\":[{\"name\":\"series 45 (F45)\",\"type\":\"scatter3d\",\"mode\":\"markers\",\"x\":[2664.163298689771,8154.163259514279,4802.136713494924,7634.200356916706,7246.348572083455,4410.095123481726,9424.947235365451,2644.418901667207,1762.0873642783574,5716.823045634323,2580.1006966739046,4781.169297089117,1969.5453672308106,165.86572229483565,3747.3093336950515,5868.232489161432,8934.676204620959,8193.311032589438,5117.791602459143,9420.94699296191,2096.3928936038533,3136.9701375476698,3283.411302203163,4075.8731007120496,6194.740206982668,6690.848800736615,2277.9826434996985,545.8557216650817,3390.498301837932,9523.354920301665],\"y\":[7975.931723447701,5926.477473238103,6836.287749557519,147.92692643088134,5191.391186341712,4658.404829600742,2203.388837385329,5769.531895571584,471.19793032710413,3741.1464849278786,9225.124176299092,7277.749582566263,5538.1532868969625,897.2628155632767,6186.802019702512,6816.922219706245,8616.296813133013,8302.072782205476,6473.84832074011,436.1182221758031,3457.8352690711035,1222.431390378541,7783.905536906,206.41984561751258,8791.756163376907,449.15371152093206,1415.311256349634,9890.316009810678,4127.051019473992,9761.188141731474],\"z\":[1163.5110305312612,5757.738537895686,1368.8601050389725,4825.651509394003,8788.601690206131,9465.556937845577,5543.7414894353,7916.355231384501,5761.34344908454,3052.1016997190854,2080.661009047505,3624.4655726151386,9051.61455640215,7045.558684727194,2557.183959660743,4338.4635101708955,2092.428729411706,1444.840718217898,5595.749877015181,686.5752602608854,734.2725158711095,5903.80590902779,4682.789570408855,1363.368211366799,7998.661559079823,9834.463101856853,83.84811158113736,8803.220210095664,746.4566955345186,5342.063706872965]}]},{\"name\":\"series 46 (F46)\",\"data\":[{\"name\":\"series 46 (F46)\",\"type\":\"scatter3d\",\"mode\":\"markers\",\"x\":[7740.754809878514,2016.8818080299677,5995.616947371036,5914.7521676890465,4062.283627960693,5573.376546511292,4554.714212791769,1612.7047228559188,1857.62762435551,4187.985931855964,4882.666985555432,7136.461563702288,9312.41161634843,5668.095590047203,641.7999358378879,2601.411802675709,869.8495959774189,1072.185182425095,1280.4663005250238,8105.16779972056,6155.046709572558,9853.263073113703,6163.120845395279,2246.8201991524506,668.3413336702093,9486.564947908191,9259.866911903306,1641.8411663555587,9873.963661896652,3622.345844490228],\"y\":[3214.1388837229,3173.6590591885592,6523.187233203599,158.11614061035039,8726.328753427328,3232.7005251508876,9576.5336658957,790.6845887615954,7622.801178029541,8515.958214985778,1927.4865284011833,6586.887552810446,5723.882917932246,1094.9106357803073,3280.5566170522115,9902.898723700362,4681.055386799837,6406.8799325812615,3999.433122445859,1585.5322380483549,322.7151533339989,6584.689515099423,5516.3511630870835,3804.9623742872773,8729.514809328686,3111.738735286025,2981.6828511720973,3096.805419568093,254.4288296084385,2174.3832273134744],\"z\":[6233.167839560001,5232.517064837332,6009.336296884969,3280.7737979664344,5877.075063128154,3390.5815976675103,959.0517004129151,6725.073290380628,2298.984670062474,3766.981145510471,2695.3713589692875,8298.23278292109,6759.769626991352,8241.94783612206,5207.849032109909,281.27998387213137,5382.74822285826,2011.020775110599,2524.654322650488,6204.33317791572,8800.86006713764,5191.941718997198,7966.002431949702,3114.3220495429205,2508.1265803458887,1334.9429979925997,934.2915892301751,9166.662018785175,5547.527290709824,2492.491032522708]}]},{\"name\":\"series 47 (F47)\",\"data\":[{\"name\":\"series 47 (F47)\",\"type\":\"scatter3d\",\"mode\":\"markers\",\"x\":[4659.2219400607,6240.8952502702,8067.830284158055,45.57357631261749,5122.809811249695,6977.574916264554,1494.7958735843836,2837.121353663524,3508.3506424985753,3143.4354195142055,8587.568382824871,9329.184809307098,1949.0314299313527,7554.161155417209,4488.956549017399,8478.991803810028,5096.023484044165,4918.823922104447,4028.7015307743945,4820.030859935229,8082.535768597382,7917.332881595223,5001.713513608234,6837.823435588823,4829.446318029671,3582.001531034754,1918.6529326039247,4146.057981238653,9319.768981257797,1626.6031296433648],\"y\":[9814.124590204054,8197.281032757624,6463.354413191458,751.0521428432504,3098.139900959358,3303.3497704562833,8479.866937869321,1147.1149571130325,149.3924898547916,9594.371822609784,7347.213847125809,1440.3177914064147,374.2912177986313,7210.8692553126775,3794.2521847881794,6125.4850225869,6793.571114622311,1502.4227004159463,8560.729998234941,5188.1098844962635,3868.7092675804533,2297.0629324067813,2204.0682423550375,1051.0209641543245,7243.249837219165,6409.199986869018,5601.722467920286,9245.575962261408,9349.541163578868,1469.8861034278955],\"z\":[4479.511558571043,8278.879271899505,2419.2772405890937,891.7327965192856,7790.432209532292,1053.286976486858,8336.621486649337,4321.8142565966555,1575.1286276341825,4891.7235309830985,2985.5889670381976,5289.402622555554,7054.320419351161,9732.107593542954,1268.7483989553084,7921.402893795934,4135.133749417509,4376.444886301897,7812.1978072676575,7576.862674610745,9257.423997532282,8814.909826012547,7522.157018579644,6042.95615494688,9562.816056245561,6592.511385335594,9621.414329701443,538.3486063723408,3738.3292949591782,4945.69450756354]}]},{\"name\":\"series 48 (F48)\",\"data\":[{\"name\":\"series 48 (F48)\",\"type\":\"scatter3d\",\"mode\":\"markers\",\"x\":[8569.25010389632,7185.870588902741,3568.096721974363,2008.5023132182077,5356.355360896014,3844.943201100649,9220.82619722288,9772.682927712713,3066.6510512139057,4235.21151668923,5607.29477243589,8683.39618829994,1310.8058607106032,5136.35806744557,6761.304485187977,4761.939341251801,5161.640670176513,1115.0893049395827,129.1709804200958,2969.1709909286315,5559.496643925754,6708.79334904292,2896.957578102306,1158.090319766254,9806.039834707299,4286.395454044652,8041.30580556378,7411.280152816009,2727.85745701837,6910.440660949392],\"y\":[8658.853736065359,9818.69964836091,1366.600889590528,9440.461125000402,5310.878850662632,1823.568765676503,8640.312555646733,7846.189138810069,2613.9366240627414,8148.862574354585,4320.97132608759,6240.201809269272,8113.909296548613,6014.187352521977,4886.177024955081,3493.0972061144016,8600.021796386858,3862.584891086217,7328.288955898489,6460.30875398099,6447.01994417162,5139.07399329366,5842.219125606004,4828.196427439686,1317.8460117621617,7797.503436531337,4463.476939741584,3378.051666353198,615.7902119862613,1159.556858302363],\"z\":[3190.9496643651037,1070.1829749863423,5444.236161512587,509.51579955150874,9904.293653032166,2766.2536821864637,7513.7564704517645,6380.650697873121,5473.701958512626,8636.56672708858,6430.459414955248,9873.880060306466,4860.207011531323,8340.002451761824,6106.125732298082,7546.599118147918,2717.5634674123185,1917.8344945801916,3649.814882352891,9419.344981576773,8032.150847148938,7008.658551512828,4032.2629430113675,1470.2352228671477,8675.22333106447,2470.193891926177,9058.532050393731,9621.877065462188,3392.227815871618,1784.723212155076]}]},{\"name\":\"series 49 (F49)\",\"data\":[{\"name\":\"series 49 (F49)\",\"type\":\"scatter3d\",\"mode\":\"markers\",\"x\":[9741.015431500307,5672.714164717022,5716.79726150243,5728.457999784471,7034.03770614143,6884.541986477145,1572.422015934849,2701.1314145226315,7072.936926064819,10.186684290687253,9912.691121133128,6840.634430181997,3554.6516125348494,7430.1101682697845,3651.3815513792715,8588.52794795173,1703.4737270531664,7763.972470162476,6346.570519839542,9725.78065460288,5384.778686350632,5832.939321120159,8628.335485709016,5064.093004001808,1361.1740257186643,7170.7981712921455,7197.490686894084,5956.68957870208,2429.653396854071,416.7058681124447],\"y\":[8373.208177506873,6583.476017941365,4234.985568365226,6869.659118775912,7630.257898308587,2568.9647652506565,8923.703614510705,244.54157890965723,6341.98985478874,2907.405299364171,2484.7027297987465,1241.8721958643653,7033.078578314974,398.0514496943244,1616.597004058833,928.1401119625122,8846.431262829541,2834.5307487530004,268.6239483426356,4120.878391723418,5641.5626617365415,7045.783420483748,5621.0265369852,8982.39701114412,167.11997564435532,552.0645936532076,8202.484982277036,1848.3577839926068,9088.140241670368,1078.0091518434199],\"z\":[1086.3063388368598,6952.141971683476,5299.004641234985,2455.784072290063,8663.729163477466,9153.223606749749,5915.956524618841,6554.859570817558,6361.8313916734005,4037.5317642668306,6618.42616639608,4790.954665298631,8855.176308316306,3830.0503258266285,5596.308215310171,9495.219877684378,5814.47133851713,9444.659428430241,3260.7223347084246,4965.741454184634,1042.153324248034,8693.507220962136,7088.679275294272,376.96742904816836,2963.9551138550046,8187.947155536904,4497.464490984468,1888.6648975050746,1877.150630833223,1785.3527692665305]}]}]\n",
       "var labels_i1hfjTXjFG = [\"series 0 (F0)\",\"series 1 (F1)\",\"series 2 (F2)\",\"series 3 (F3)\",\"series 4 (F4)\",\"series 5 (F5)\",\"series 6 (F6)\",\"series 7 (F7)\",\"series 8 (F8)\",\"series 9 (F9)\",\"series 10 (F10)\",\"series 11 (F11)\",\"series 12 (F12)\",\"series 13 (F13)\",\"series 14 (F14)\",\"series 15 (F15)\",\"series 16 (F16)\",\"series 17 (F17)\",\"series 18 (F18)\",\"series 19 (F19)\",\"series 20 (F20)\",\"series 21 (F21)\",\"series 22 (F22)\",\"series 23 (F23)\",\"series 24 (F24)\",\"series 25 (F25)\",\"series 26 (F26)\",\"series 27 (F27)\",\"series 28 (F28)\",\"series 29 (F29)\",\"series 30 (F30)\",\"series 31 (F31)\",\"series 32 (F32)\",\"series 33 (F33)\",\"series 34 (F34)\",\"series 35 (F35)\",\"series 36 (F36)\",\"series 37 (F37)\",\"series 38 (F38)\",\"series 39 (F39)\",\"series 40 (F40)\",\"series 41 (F41)\",\"series 42 (F42)\",\"series 43 (F43)\",\"series 44 (F44)\",\"series 45 (F45)\",\"series 46 (F46)\",\"series 47 (F47)\",\"series 48 (F48)\",\"series 49 (F49)\"]\n",
       "var duration_i1hfjTXjFG = 100\n",
       "var config_i1hfjTXjFG = {\"responsive\":true,\"scrollZoom\":true,\"displaylogo\":false}\n",
       "\n",
       "var traces_i1hfjTXjFG = JSON.parse(JSON.stringify(frames_i1hfjTXjFG[0].data.map(x => x)))\n",
       "\n",
       "var animation_settings_i1hfjTXjFG = {\n",
       "    mode: \"immediate\",\n",
       "    direction: {},\n",
       "    fromcurrent: true,\n",
       "    frame: [\n",
       "      {duration: duration_i1hfjTXjFG},\n",
       "      {duration: duration_i1hfjTXjFG},\n",
       "      {redraw: true}\n",
       "    ],\n",
       "    transition: [\n",
       "      {duration: duration_i1hfjTXjFG, easing: 'cubic-in-out'},\n",
       "      {duration: duration_i1hfjTXjFG, easing: 'cubic-in-out'},\n",
       "    ],\n",
       "    ordering: \"layout first\"\n",
       "}\n",
       "\n",
       "var slider_i1hfjTXjFG = document.createElement(\"input\")\n",
       "var play_i1hfjTXjFG = document.getElementById(\"play_i1hfjTXjFG\")\n",
       "var pause_i1hfjTXjFG = document.getElementById(\"pause_i1hfjTXjFG\")\n",
       "slider_i1hfjTXjFG.id = \"slider_i1hfjTXjFG\"\n",
       "slider_i1hfjTXjFG.type = \"range\"\n",
       "slider_i1hfjTXjFG.min = 0\n",
       "slider_i1hfjTXjFG.max = frames_i1hfjTXjFG.length - 1\n",
       "slider_i1hfjTXjFG.value = 0\n",
       "document.getElementById(\"sliderContainer_i1hfjTXjFG\").appendChild(slider_i1hfjTXjFG);\n",
       "\n",
       "Plotly.newPlot(graph_i1hfjTXjFG, traces_i1hfjTXjFG, layout_i1hfjTXjFG, config_i1hfjTXjFG)\n",
       ".then(function () { Plotly.addFrames(graph_i1hfjTXjFG, frames_i1hfjTXjFG) })\n",
       "\n",
       "var trigger_i1hfjTXjFG = true\n",
       "var reset_count_i1hfjTXjFG = false\n",
       "\n",
       "play_i1hfjTXjFG.addEventListener('click', async function() {\n",
       "   trigger_i1hfjTXjFG = true\n",
       "   if (reset_count_i1hfjTXjFG) {\n",
       "      slider_i1hfjTXjFG.value = 0\n",
       "      reset_count_i1hfjTXjFG = false\n",
       "   }\n",
       "\n",
       "  const start_index = slider_i1hfjTXjFG.value == labels_i1hfjTXjFG.length - 1 ? 0 : slider_i1hfjTXjFG.value\n",
       "  const end_index = labels_i1hfjTXjFG.length\n",
       "  await Plotly.animate(graph_i1hfjTXjFG, labels_i1hfjTXjFG.slice(start_index, end_index), animation_settings_i1hfjTXjFG)\n",
       "})\n",
       "\n",
       "pause_i1hfjTXjFG.addEventListener('click', async function() {\n",
       "  await Plotly.animate(graph_i1hfjTXjFG, [null], animation_settings_i1hfjTXjFG)\n",
       "  trigger_i1hfjTXjFG = false;\n",
       "})\n",
       "\n",
       "graph_i1hfjTXjFG.on('plotly_redraw', () => {\n",
       "   value_i1hfjTXjFG.innerHTML = slider_i1hfjTXjFG.value;\n",
       "   if (trigger_i1hfjTXjFG & !reset_count_i1hfjTXjFG) ++slider_i1hfjTXjFG.value\n",
       "   if (slider_i1hfjTXjFG.value == labels_i1hfjTXjFG.length - 1) reset_count_i1hfjTXjFG = true\n",
       "});\n",
       "\n",
       "slider_i1hfjTXjFG.oninput = async function() {\n",
       "   await Plotly.animate(graph_i1hfjTXjFG, frames_i1hfjTXjFG[this.value], animation_settings_i1hfjTXjFG)\n",
       "   trigger_i1hfjTXjFG = false\n",
       "   slider_i1hfjTXjFG.value = this.value\n",
       "   value_i1hfjTXjFG.innerHTML = this.value;\n",
       "   if (this.value == 0) reset_count_i1hfjTXjFG = false\n",
       "   if (this.value == labels_i1hfjTXjFG.length - 1) reset_count_i1hfjTXjFG = true\n",
       "   reset_count_i1hfjTXjFG = false\n",
       "}\n",
       "\n",
       "next_i1hfjTXjFG.addEventListener('click', function() {\n",
       "    if (slider_i1hfjTXjFG.value == labels_i1hfjTXjFG.length - 1) {\n",
       "        reset_count_i1hfjTXjFG = true;\n",
       "        return;\n",
       "    }\n",
       "    ++slider_i1hfjTXjFG.value;\n",
       "    value_i1hfjTXjFG.innerHTML = slider_i1hfjTXjFG.value;\n",
       "    trigger_i1hfjTXjFG = false;\n",
       "    slider_i1hfjTXjFG.oninput();\n",
       "})\n",
       "\n",
       "prev_i1hfjTXjFG.addEventListener('click', function() {\n",
       "    if (slider_i1hfjTXjFG.value == 0) {\n",
       "        reset_count_i1hfjTXjFG = false;\n",
       "        return;\n",
       "    }\n",
       "    --slider_i1hfjTXjFG.value;\n",
       "    value_i1hfjTXjFG.innerHTML = slider_i1hfjTXjFG.value;\n",
       "    trigger_i1hfjTXjFG = false;\n",
       "    slider_i1hfjTXjFG.oninput();\n",
       "})\n",
       "\n",
       "</script> \n"
      ]
     },
     "metadata": {},
     "output_type": "display_data"
    }
   ],
   "source": [
    "val series = createXYZSeries(numberToCreate = 50, length = 30)\n",
    "\n",
    "val chart = (\n",
    "  Chart(animated = true)\n",
    "  setTitle \"Animation 3D\"\n",
    "  addSeries series\n",
    "  setXAxisLimits(0, 1E4)\n",
    "  setYAxisLimits(0, 1E4)\n",
    "  setZAxisLimits(0, 1E4)\n",
    "  drawZAxisLog true\n",
    ")\n",
    "\n",
    "chart.plotInline"
   ]
  },
  {
   "cell_type": "markdown",
   "metadata": {},
   "source": [
    "## IO + Utility Functions\n",
    "\n",
    "The library also comes with some basic CSV IO functions and a utility function for breaking down data"
   ]
  },
  {
   "cell_type": "code",
   "execution_count": 49,
   "metadata": {},
   "outputs": [],
   "source": [
    "import org.carbonateresearch.picta.IO._\n",
    "import org.carbonateresearch.picta.common.Utils.getSeriesbyCategory"
   ]
  },
  {
   "cell_type": "code",
   "execution_count": 50,
   "metadata": {},
   "outputs": [
    {
     "name": "stdout",
     "output_type": "stream",
     "text": [
      "/Users/fazi/Desktop/Final Project/picta\n"
     ]
    }
   ],
   "source": [
    "val working_directory = getWorkingDirectory\n",
    "\n",
    "println(working_directory)"
   ]
  },
  {
   "cell_type": "code",
   "execution_count": 51,
   "metadata": {},
   "outputs": [],
   "source": [
    "// by providing a path, we can read in a CSV\n",
    "val filepath = working_directory + \"/iris_csv.csv\"\n",
    "\n",
    "val data = readCSV(filepath)\n",
    "\n",
    "// by default, CSV are read in as strings. However we can convert the individual columns to the correct format\n",
    "val sepal_length = data(\"sepallength\").map(_.toDouble)\n",
    "val petal_width = data(\"petalwidth\").map(_.toDouble)\n",
    "val categories = data(\"class\")"
   ]
  },
  {
   "cell_type": "code",
   "execution_count": 52,
   "metadata": {},
   "outputs": [
    {
     "data": {
      "text/html": [
       "<div id=\"grid-container_eYGiYeyNNo\" class=\"grid-container\" align=\"center\"> \n",
       "<div id=\"grid_eYGiYeyNNo\" class=\"grid\" align=\"center\"> \n",
       "<div id=\"graph_f9b2RZaPux\" class=\"graph\"></div> \n",
       "</div> \n",
       "</div> \n",
       "<script>\n",
       "var masonry = new Macy({\n",
       "    container: '#grid_eYGiYeyNNo',\n",
       "    debug: true,\n",
       "    mobileFirst: true,\n",
       "    columns: 1,\n",
       "    margin: {\n",
       "        x: 0,\n",
       "        y: 0\n",
       "    }\n",
       "  });\n",
       "\n",
       "  var traces_f9b2RZaPux = [{\"name\":\"eVRcStwekq\",\"type\":\"scatter\",\"mode\":\"markers\",\"x\":[5.9,6.2,6.5,6.3,6.7,6.7,6.8,5.8,6.9,6.7,6.9,6,6.4,6.3,7.7,6.1,6.3,6.4,7.9,7.4,7.2,6.4,6.1,6.2,7.2,6.7,6.3,7.7,5.6,6.9,6,7.7,7.7,6.5,6.4,5.8,5.7,6.8,6.4,6.5,7.2,6.7,7.3,4.9,7.6,6.5,6.3,7.1,5.8,6.3,5.7,5.1,6.2,5.7,5.7,5.6,5,5.8,6.1,5.5,5.5,5.6,6.3,6.7,6,5.4,6,5.8,5.5,5.5,5.7,6,6.7,6.8,6.6,6.4,6.1,6.3,6.1,5.9,5.6,6.2,5.8,5.6,6.7,5.6,6.1,6,5.9,5,5.2,6.6,4.9,6.3,5.7,6.5,5.5,6.9,6.4,7,5,5.3,4.6,5.1,4.8,5.1,5,4.4,4.5,5,5.1,4.4,4.9,5.5,5,4.9,5.5,5.2,5.4,4.8,4.7,5.2,5.2,5,5,4.8,5.1,4.6,5.1,5.4,5.1,5.7,5.1,5.4,5.7,5.8,4.3,4.8,4.8,5.4,4.9,4.4,5,4.6,5.4,5,4.6,4.7,4.9,5.1],\"y\":[1.8,2.3,2,1.9,2.3,2.5,2.3,1.9,2.3,2.4,2.1,1.8,1.8,2.4,2.3,1.4,1.5,2.2,2,1.9,1.6,2.1,1.8,1.8,1.8,2.1,1.8,2,2,2.3,1.5,2.3,2.2,1.8,2.3,2.4,2,2.1,1.9,2,2.5,1.8,1.8,1.7,2.1,2.2,1.8,2.1,1.9,2.5,1.3,1.1,1.3,1.3,1.2,1.3,1,1.2,1.4,1.2,1.3,1.3,1.3,1.5,1.6,1.5,1.6,1.2,1,1.1,1,1.5,1.7,1.4,1.4,1.3,1.2,1.5,1.3,1.8,1.1,1.5,1,1.5,1.4,1.3,1.4,1,1.5,1,1.4,1.3,1,1.6,1.3,1.5,1.3,1.5,1.5,1.4,0.2,0.2,0.2,0.2,0.3,0.4,0.6,0.2,0.3,0.3,0.2,0.2,0.1,0.2,0.2,0.1,0.2,0.1,0.4,0.2,0.2,0.2,0.2,0.4,0.2,0.2,0.5,0.2,0.4,0.2,0.3,0.3,0.3,0.4,0.4,0.2,0.1,0.1,0.2,0.2,0.1,0.2,0.2,0.3,0.4,0.2,0.2,0.2,0.2,0.2]}];\n",
       " var layout_f9b2RZaPux = {\"height\":550,\"width\":600,\"hovermode\":\"closest\",\"title\":{\"text\":\"Uninformative Chart\"},\"showlegend\":true};\n",
       " var config_f9b2RZaPux = {\"responsive\":true,\"scrollZoom\":true,\"displaylogo\":false};\n",
       " Plotly.newPlot(\"graph_f9b2RZaPux\", traces_f9b2RZaPux, layout_f9b2RZaPux, config_f9b2RZaPux);\n",
       "</script> \n"
      ]
     },
     "metadata": {},
     "output_type": "display_data"
    }
   ],
   "source": [
    "val series = XY(sepal_length, petal_width) asType SCATTER drawStyle MARKERS\n",
    "\n",
    "val chart = Chart() addSeries series setTitle \"Uninformative Chart\"\n",
    "\n",
    "chart.plotInline"
   ]
  },
  {
   "cell_type": "markdown",
   "metadata": {},
   "source": [
    "The above chart is not very informative. However since we have the per data point category labels, we can use the utility function to display the data in the different clusters"
   ]
  },
  {
   "cell_type": "code",
   "execution_count": 53,
   "metadata": {},
   "outputs": [
    {
     "data": {
      "text/html": [
       "<div id=\"grid-container_nZEGH5vnO3\" class=\"grid-container\" align=\"center\"> \n",
       "<div id=\"grid_nZEGH5vnO3\" class=\"grid\" align=\"center\"> \n",
       "<div id=\"graph_yuftlRWdbJ\" class=\"graph\"></div> \n",
       "</div> \n",
       "</div> \n",
       "<script>\n",
       "var masonry = new Macy({\n",
       "    container: '#grid_nZEGH5vnO3',\n",
       "    debug: true,\n",
       "    mobileFirst: true,\n",
       "    columns: 1,\n",
       "    margin: {\n",
       "        x: 0,\n",
       "        y: 0\n",
       "    }\n",
       "  });\n",
       "\n",
       "  var traces_yuftlRWdbJ = [{\"name\":\"Iris-versicolor\",\"type\":\"scatter\",\"mode\":\"markers\",\"x\":[7,6.4,6.9,5.5,6.5,5.7,6.3,4.9,6.6,5.2,5,5.9,6,6.1,5.6,6.7,5.6,5.8,6.2,5.6,5.9,6.1,6.3,6.1,6.4,6.6,6.8,6.7,6,5.7,5.5,5.5,5.8,6,5.4,6,6.7,6.3,5.6,5.5,5.5,6.1,5.8,5,5.6,5.7,5.7,6.2,5.1,5.7],\"y\":[1.4,1.5,1.5,1.3,1.5,1.3,1.6,1,1.3,1.4,1,1.5,1,1.4,1.3,1.4,1.5,1,1.5,1.1,1.8,1.3,1.5,1.2,1.3,1.4,1.4,1.7,1.5,1,1.1,1,1.2,1.6,1.5,1.6,1.5,1.3,1.3,1.3,1.2,1.4,1.2,1,1.3,1.2,1.3,1.3,1.1,1.3]},{\"name\":\"Iris-setosa\",\"type\":\"scatter\",\"mode\":\"markers\",\"x\":[5.1,4.9,4.7,4.6,5,5.4,4.6,5,4.4,4.9,5.4,4.8,4.8,4.3,5.8,5.7,5.4,5.1,5.7,5.1,5.4,5.1,4.6,5.1,4.8,5,5,5.2,5.2,4.7,4.8,5.4,5.2,5.5,4.9,5,5.5,4.9,4.4,5.1,5,4.5,4.4,5,5.1,4.8,5.1,4.6,5.3,5],\"y\":[0.2,0.2,0.2,0.2,0.2,0.4,0.3,0.2,0.2,0.1,0.2,0.2,0.1,0.1,0.2,0.4,0.4,0.3,0.3,0.3,0.2,0.4,0.2,0.5,0.2,0.2,0.4,0.2,0.2,0.2,0.2,0.4,0.1,0.2,0.1,0.2,0.2,0.1,0.2,0.2,0.3,0.3,0.2,0.6,0.4,0.3,0.2,0.2,0.2,0.2]},{\"name\":\"Iris-virginica\",\"type\":\"scatter\",\"mode\":\"markers\",\"x\":[6.3,5.8,7.1,6.3,6.5,7.6,4.9,7.3,6.7,7.2,6.5,6.4,6.8,5.7,5.8,6.4,6.5,7.7,7.7,6,6.9,5.6,7.7,6.3,6.7,7.2,6.2,6.1,6.4,7.2,7.4,7.9,6.4,6.3,6.1,7.7,6.3,6.4,6,6.9,6.7,6.9,5.8,6.8,6.7,6.7,6.3,6.5,6.2,5.9],\"y\":[2.5,1.9,2.1,1.8,2.2,2.1,1.7,1.8,1.8,2.5,2,1.9,2.1,2,2.4,2.3,1.8,2.2,2.3,1.5,2.3,2,2,1.8,2.1,1.8,1.8,1.8,2.1,1.6,1.9,2,2.2,1.5,1.4,2.3,2.4,1.8,1.8,2.1,2.4,2.3,1.9,2.3,2.5,2.3,1.9,2,2.3,1.8]}];\n",
       " var layout_yuftlRWdbJ = {\"height\":550,\"width\":600,\"hovermode\":\"closest\",\"title\":{\"text\":\"Iris\"},\"showlegend\":true};\n",
       " var config_yuftlRWdbJ = {\"responsive\":true,\"scrollZoom\":true,\"displaylogo\":false};\n",
       " Plotly.newPlot(\"graph_yuftlRWdbJ\", traces_yuftlRWdbJ, layout_yuftlRWdbJ, config_yuftlRWdbJ);\n",
       "</script> \n"
      ]
     },
     "metadata": {},
     "output_type": "display_data"
    }
   ],
   "source": [
    "val result = getSeriesbyCategory(categories, (sepal_length, petal_width))\n",
    "\n",
    "val chart = Chart() addSeries result setTitle \"Iris\" showLegend true\n",
    "\n",
    "chart.plotInline"
   ]
  },
  {
   "cell_type": "markdown",
   "metadata": {},
   "source": [
    "## Conus Integration\n",
    "\n",
    "Picta was originally created to help plot data in CoNuS and with Spark. A couple of utility functions make wrangling CoNuS data easier. Below is an example taken from the conus repo and plotting some variables of interest."
   ]
  },
  {
   "cell_type": "code",
   "execution_count": 54,
   "metadata": {},
   "outputs": [],
   "source": [
    "import org.carbonateresearch.picta.conus.Utils._\n",
    "import org.carbonateresearch.picta.{Canvas, Chart, XY}\n",
    "import org.carbonateresearch.conus.common.SingleModelResults\n",
    "import org.carbonateresearch.conus._\n",
    "\n",
    "import math._"
   ]
  },
  {
   "cell_type": "code",
   "execution_count": 55,
   "metadata": {
    "scrolled": false
   },
   "outputs": [
    {
     "name": "stdout",
     "output_type": "stream",
     "text": [
      "17:37:50.460 [CoNuS-akka.actor.default-dispatcher-3] INFO akka.event.slf4j.Slf4jLogger - Slf4jLogger started\n"
     ]
    },
    {
     "name": "stderr",
     "output_type": "stream",
     "text": [
      "SLF4J: A number (1) of logging calls during the initialization phase have been intercepted and are\n",
      "SLF4J: now being replayed. These are subject to the filtering rules of the underlying logging system.\n",
      "SLF4J: See also http://www.slf4j.org/codes.html#replay\n"
     ]
    },
    {
     "data": {
      "text/html": [
       "Variable <b>Number of Rats</b> with initial value of 2 Individuals  defined"
      ]
     },
     "metadata": {},
     "output_type": "display_data"
    },
    {
     "data": {
      "text/html": [
       "Variable <b>Death rate</b> with initial value of 0.0 %  defined"
      ]
     },
     "metadata": {},
     "output_type": "display_data"
    }
   ],
   "source": [
    "val simulator = new AlmondSimulator // We create an Almond specific simulator\n",
    "\n",
    "// We will now create a ver simple 2D CoNuS model. The model has a dimension of 3x3 grids, and each grid is meant to represent\n",
    "// about 100x100 meters of a field. We initialize the model with values ranging from 2.0 to 6.0. These represent the population \n",
    "// of rats living in each 100 sq meter of the field. We will run the simulation for 10 time step, each time step represents\n",
    "// one generation. We assume a perfect parity between male and female rat, and we also assume that each couple will have 10\n",
    "// babies per generation. In addition, we will simulate a death rate between 0 to 0.9 (0 to 90% of the population), assigned\n",
    "// randomly at each timestep and for each square. A major simplification is that each cell (square in the field) has its own\n",
    "// rat population, there is no movement of rats in between the different cells.\n",
    "\n",
    "// In CoNuS, values that will be calculated are know as model variables. Let's set a few\n",
    "val nbRats:ModelVariable[Int] = ModelVariable(\"Number of Rats\",2,\"Individuals\") //Notice this is an Int\n",
    "val deathRate:ModelVariable[Double] = ModelVariable(\"Death rate\",0.0,\"%\")\n",
    "\n",
    "// Let's initialise a few model conditions \n",
    "val numberOfSteps = 10\n",
    "\n",
    "// And let's create a function that, given a rat population and a deathRate, calculates a new population \n",
    "\n",
    "def survivingRats(initialPopulation:Int, deathRate:Double): Int = {\n",
    "    initialPopulation-math.floor(initialPopulation.toDouble*deathRate).toInt\n",
    "}\n"
   ]
  },
  {
   "cell_type": "code",
   "execution_count": 56,
   "metadata": {},
   "outputs": [
    {
     "name": "stdout",
     "output_type": "stream",
     "text": [
      "A total of 1 unique models were defined, attempting to create a list now.\n",
      "Models list successfully created.\n"
     ]
    },
    {
     "data": {
      "text/html": [
       "<b>Model characteristics</b><table class=\"table\"><tr><th>Feature</th><th>Value</th></tr><tr><td>Name</td><td>Simplified rat population dynamics</td></tr><tr><td>Nb of steps</td><td>10</td></tr><tr><td>Nb of models</td><td>1</td></tr><tr><td>Nb grid cells</td><td>9</td></tr><tr><td>Nb of operations per step</td><td>2</td></tr><tr><td>Total nb of operations</td><td>180</td></tr></table>"
      ]
     },
     "metadata": {},
     "output_type": "display_data"
    }
   ],
   "source": [
    "// Now we can create our model, step by step\n",
    "val ratPopulation = new SteppedModel(numberOfSteps,\"Simplified rat population dynamics\")\n",
    "    .setGrid(3,3) // 9 cells\n",
    "    .defineMathematicalModel( // In this super simple model we do only two things at each step\n",
    "      deathRate =>> {(s:Step) => scala.util.Random.nextDouble()*0.9}, // calculate a death rate\n",
    "      nbRats =>> {(s:Step) => {survivingRats(nbRats(s-1)+(nbRats(s-1)/2*10),deathRate(s))}} // calcuate the nb rats\n",
    "    )\n",
    "    .defineInitialModelConditions( // Now we need to determine the inital size of the population at each model grid\n",
    "      PerCell(nbRats,List(\n",
    "        (List(2),Seq(0,0)),\n",
    "        (List(2),Seq(0,1)),\n",
    "        (List(4),Seq(0,2)),\n",
    "        (List(4),Seq(1,0)),\n",
    "        (List(2),Seq(1,1)),\n",
    "        (List(6),Seq(1,2)),\n",
    "        (List(2),Seq(2,0)),\n",
    "        (List(4),Seq(2,1)),\n",
    "        (List(6),Seq(2,2)))))"
   ]
  },
  {
   "cell_type": "code",
   "execution_count": 59,
   "metadata": {},
   "outputs": [
    {
     "data": {
      "text/html": [
       "Run progress:<br>#################################################################################################### 100.0%"
      ]
     },
     "metadata": {},
     "output_type": "display_data"
    }
   ],
   "source": [
    "// Now we run the model\n",
    "simulator.evaluate(ratPopulation)"
   ]
  },
  {
   "cell_type": "code",
   "execution_count": 60,
   "metadata": {
    "scrolled": false
   },
   "outputs": [
    {
     "data": {
      "text/html": [
       "<div id=\"grid-container_HkOtvknM6O\" class=\"grid-container\" align=\"center\"> \n",
       "<div id=\"grid_HkOtvknM6O\" class=\"grid\" align=\"center\"> \n",
       "<div id=\"graph_hIAbJ292gy\" class=\"graph\"></div> \n",
       "</div> \n",
       "</div> \n",
       "<script>\n",
       "var masonry = new Macy({\n",
       "    container: '#grid_HkOtvknM6O',\n",
       "    debug: true,\n",
       "    mobileFirst: true,\n",
       "    columns: 1,\n",
       "    margin: {\n",
       "        x: 0,\n",
       "        y: 0\n",
       "    }\n",
       "  });\n",
       "\n",
       "  var traces_hIAbJ292gy = [{\"name\":\"Death rate\",\"type\":\"scatter\",\"x\":[0,1,2,3,4,5,6,7,8],\"y\":[0.18681506274120957,0.31091191794881046,0.7333863081976598,0.8380490469097884,0.880745278669956,0.6154657442178858,0.41437720277395457,0.329862129188298,0.2415378665348571,0.7240457128168906]},{\"name\":\"Nb of rats\",\"type\":\"scatter\",\"yaxis\":\"y2\",\"x\":[0,1,2,3,4,5,6,7,8],\"y\":[10,42,68,67,48,111,388,1561,7100,11756]}];\n",
       " var layout_hIAbJ292gy = {\"height\":550,\"width\":600,\"hovermode\":\"closest\",\"title\":{\"text\":\"Date rate vs nb of rats per generation for cell (0,0)\"},\"showlegend\":true,\"xaxis\":{\"title\":{\"text\":\"Generation\"},\"showgrid\":true,\"zeroline\":false,\"showline\":false},\"yaxis\":{\"title\":{\"text\":\"Death rate\"},\"showgrid\":true,\"zeroline\":false,\"showline\":false},\"yaxis2\":{\"title\":{\"text\":\"Nb rats\"},\"showgrid\":true,\"zeroline\":false,\"showline\":false,\"side\":\"right\",\"overlaying\":\"y\",\"tickformat\":\"0.0f\"}};\n",
       " var config_hIAbJ292gy = {\"responsive\":true,\"scrollZoom\":true,\"displaylogo\":false};\n",
       " Plotly.newPlot(\"graph_hIAbJ292gy\", traces_hIAbJ292gy, layout_hIAbJ292gy, config_hIAbJ292gy);\n",
       "</script> \n"
      ]
     },
     "metadata": {},
     "output_type": "display_data"
    },
    {
     "data": {
      "text/html": [
       "<b>Simplified rat population dynamics model #1 <br>Timestep: 9</b> [from 0 to 9]<table class=\"table\" style=\"align: center; display:block; background-color:fffff0; border: 2px solid green; height: 450px; overflow-y: scroll\"><tr><th style=\"border: 1px solid green; background-color:fffff0\">Cell coordinates</th><th style=\"border: 1px solid green; background-color:#ebebec\">Number of Rats</th><th style=\"border: 1px solid green; background-color:#ebebec\">Death rate</th></tr><tr style=\"border: 1px solid green; background-color:fffff0\"><td style=\"border: 1px solid green; background-color:fffff0\">(0, 0)</td><td style=\"border: 1px solid green; background-color:fffff0\">11756</td><td style=\"border: 1px solid green; background-color:fffff0\">0.7240457128168906</td></tr><tr style=\"border: 1px solid green; background-color:fffff0\"><td style=\"border: 1px solid green; background-color:fffff0\">(0, 1)</td><td style=\"border: 1px solid green; background-color:fffff0\">52585</td><td style=\"border: 1px solid green; background-color:fffff0\">0.21847605963092634</td></tr><tr style=\"border: 1px solid green; background-color:fffff0\"><td style=\"border: 1px solid green; background-color:fffff0\">(0, 2)</td><td style=\"border: 1px solid green; background-color:fffff0\">2416</td><td style=\"border: 1px solid green; background-color:fffff0\">0.4346047099889624</td></tr><tr style=\"border: 1px solid green; background-color:fffff0\"><td style=\"border: 1px solid green; background-color:fffff0\">(1, 0)</td><td style=\"border: 1px solid green; background-color:fffff0\">35868</td><td style=\"border: 1px solid green; background-color:fffff0\">0.5737389515781451</td></tr><tr style=\"border: 1px solid green; background-color:fffff0\"><td style=\"border: 1px solid green; background-color:fffff0\">(1, 1)</td><td style=\"border: 1px solid green; background-color:fffff0\">2181573</td><td style=\"border: 1px solid green; background-color:fffff0\">0.08041811482581801</td></tr><tr style=\"border: 1px solid green; background-color:fffff0\"><td style=\"border: 1px solid green; background-color:fffff0\">(1, 2)</td><td style=\"border: 1px solid green; background-color:fffff0\">10717</td><td style=\"border: 1px solid green; background-color:fffff0\">0.763621212252069</td></tr><tr style=\"border: 1px solid green; background-color:fffff0\"><td style=\"border: 1px solid green; background-color:fffff0\">(2, 0)</td><td style=\"border: 1px solid green; background-color:fffff0\">74309</td><td style=\"border: 1px solid green; background-color:fffff0\">0.8155263711587797</td></tr><tr style=\"border: 1px solid green; background-color:fffff0\"><td style=\"border: 1px solid green; background-color:fffff0\">(2, 1)</td><td style=\"border: 1px solid green; background-color:fffff0\">806892</td><td style=\"border: 1px solid green; background-color:fffff0\">0.29998955580704195</td></tr><tr style=\"border: 1px solid green; background-color:fffff0\"><td style=\"border: 1px solid green; background-color:fffff0\">(2, 2)</td><td style=\"border: 1px solid green; background-color:fffff0\">2136708</td><td style=\"border: 1px solid green; background-color:fffff0\">0.5182088199474655</td></tr></table>"
      ]
     },
     "metadata": {},
     "output_type": "display_data"
    }
   ],
   "source": [
    "// grab the results from the Conus model\n",
    "val model: SingleModelResults = simulator(ratPopulation)(0)\n",
    "\n",
    "val generation = (0 until numberOfSteps-1).map(x=>x.toDouble).toList\n",
    "\n",
    "// we can use the utility function to grab the series for a single variable\n",
    "val deathRateSeries: List[Double] = getDataFromSingleModel(model, deathRate, List(0,0), numberOfSteps)\n",
    "\n",
    "val xy1 = XY(generation, deathRateSeries) setName(\"Death rate\")\n",
    "\n",
    "// alternatively we can quickly get the same data for XY using the function below\n",
    "//  val xy1 = getXYSeriesFromSingleModel(model, (age, d18Occ), List(0), numberOfSteps)\n",
    "\n",
    "// lets also plot a second y variable\n",
    "val yaxis2 = Axis(\n",
    "    Y,\n",
    "    position = 2, \n",
    "    title = \"Nb rats\", \n",
    "    overlaying = Axis(Y), // this ensures that the axis sits on a seperate axis\n",
    "    side = RIGHT_SIDE, // this ensures the axis is on the right hand side\n",
    "    tickformat = \"0.0f\" // this will keep formatting reasonable for display purposes\n",
    ")\n",
    "\n",
    "// we construct the second y variable;\n",
    "val nbRatsSeries: List[Double] = getDataFromSingleModel(model, nbRats, List(0,0), numberOfSteps).map(x => x.toDouble)\n",
    "val xy2 = XY(generation, nbRatsSeries) setAxis yaxis2 setName(\"Nb of rats\")\n",
    "\n",
    "// finally we can combine in a single chart\n",
    "val chart = (\n",
    "    Chart() \n",
    "    addSeries xy1\n",
    "    addSeries xy2\n",
    "    setTitle(\"Date rate vs nb of rats per generation for cell (0,0)\") \n",
    "    addAxes(Axis(X, title=\"Generation\"), Axis(Y, title=\"Death rate\"), yaxis2)\n",
    ")\n",
    "\n",
    "val canvas = Canvas() addCharts chart\n",
    "\n",
    "// When we plot the result, we can see the legend is in the wrong place and overlaying the axis - we can overcome this\n",
    "// in the next example\n",
    "canvas.plotInline()"
   ]
  },
  {
   "cell_type": "markdown",
   "metadata": {
    "pycharm": {
     "name": "#%% md\n"
    }
   },
   "source": [
    "### Moving the Legend\n",
    "\n",
    "We can also move the Legend and position it where we would like as follows:"
   ]
  },
  {
   "cell_type": "code",
   "execution_count": 61,
   "metadata": {
    "pycharm": {
     "name": "#%%\n"
    }
   },
   "outputs": [],
   "source": [
    "import org.carbonateresearch.picta.options.AUTO"
   ]
  },
  {
   "cell_type": "code",
   "execution_count": 62,
   "metadata": {
    "scrolled": false
   },
   "outputs": [
    {
     "data": {
      "text/html": [
       "<div id=\"grid-container_BMXCb7R9wB\" class=\"grid-container\" align=\"center\"> \n",
       "<div id=\"grid_BMXCb7R9wB\" class=\"grid\" align=\"center\"> \n",
       "<div id=\"graph_xpVLEtRnad\" class=\"graph\"></div> \n",
       "</div> \n",
       "</div> \n",
       "<script>\n",
       "var masonry = new Macy({\n",
       "    container: '#grid_BMXCb7R9wB',\n",
       "    debug: true,\n",
       "    mobileFirst: true,\n",
       "    columns: 1,\n",
       "    margin: {\n",
       "        x: 0,\n",
       "        y: 0\n",
       "    }\n",
       "  });\n",
       "\n",
       "  var traces_xpVLEtRnad = [{\"name\":\"Death rate\",\"type\":\"scatter\",\"x\":[0,1,2,3,4,5,6,7,8],\"y\":[0.18681506274120957,0.31091191794881046,0.7333863081976598,0.8380490469097884,0.880745278669956,0.6154657442178858,0.41437720277395457,0.329862129188298,0.2415378665348571,0.7240457128168906]},{\"name\":\"Nb of rats\",\"type\":\"scatter\",\"yaxis\":\"y2\",\"x\":[0,1,2,3,4,5,6,7,8],\"y\":[10,42,68,67,48,111,388,1561,7100,11756]}];\n",
       " var layout_xpVLEtRnad = {\"height\":550,\"width\":600,\"hovermode\":\"closest\",\"title\":{\"text\":\"Death rate vs Nb of rats for cell (0,0)\"},\"showlegend\":true,\"legend\":{\"orientation\":\"h\",\"x\":0.5,\"y\":-0.5,\"xanchor\":\"auto\",\"yanchor\":\"auto\"},\"xaxis\":{\"title\":{\"text\":\"Generation\"},\"showgrid\":true,\"zeroline\":false,\"showline\":false},\"yaxis\":{\"title\":{\"text\":\"Death rate\"},\"showgrid\":true,\"zeroline\":false,\"showline\":false},\"yaxis2\":{\"title\":{\"text\":\"Nb rats\"},\"showgrid\":true,\"zeroline\":false,\"showline\":false,\"side\":\"right\",\"overlaying\":\"y\",\"tickformat\":\"0.0f\"}};\n",
       " var config_xpVLEtRnad = {\"responsive\":true,\"scrollZoom\":true,\"displaylogo\":false};\n",
       " Plotly.newPlot(\"graph_xpVLEtRnad\", traces_xpVLEtRnad, layout_xpVLEtRnad, config_xpVLEtRnad);\n",
       "</script> \n"
      ]
     },
     "metadata": {},
     "output_type": "display_data"
    }
   ],
   "source": [
    "// finally we can combine in a single chart\n",
    "val chart = (\n",
    "    Chart() \n",
    "    addSeries xy1\n",
    "    addSeries xy2\n",
    "    setTitle(\"Death rate vs Nb of rats for cell (0,0)\") \n",
    "    addAxes(Axis(X, title=\"Generation\"), Axis(Y, title=\"Death rate\"), yaxis2)\n",
    "    setLegend(x = 0.5, y = -0.5, orientation = HORIZONTAL, xanchor = AUTO, yanchor = AUTO)\n",
    ")\n",
    "\n",
    "val canvas = Canvas() addCharts chart\n",
    "\n",
    "canvas.plotInline()"
   ]
  },
  {
   "cell_type": "code",
   "execution_count": 63,
   "metadata": {},
   "outputs": [
    {
     "data": {
      "text/html": [
       "<div id=\"grid-container_CXvferMeYa\" class=\"grid-container\" align=\"center\"> \n",
       "<div id=\"grid_CXvferMeYa\" class=\"grid\" align=\"center\"> \n",
       "\n",
       "<div align=\"center\">\n",
       "  <div id=\"graph_RVlyCJtuFc\" class=\"graph\"></div>\n",
       "  <div class=\"animationInterface\">\n",
       "    <button id=\"play_RVlyCJtuFc\" class=\"picta-button\">&#9658</button>\n",
       "    <button id=\"pause_RVlyCJtuFc\" class=\"picta-button\">&#9616;&#9616;</button>\n",
       "    <button id=\"prev_RVlyCJtuFc\" class=\"picta-button\"><</button>\n",
       "    <button id=\"next_RVlyCJtuFc\" class=\"picta-button\">></button>\n",
       "\n",
       "    <div id=\"sliderContainer_RVlyCJtuFc\" class=\"progressBar\"></div>\n",
       "    <div id=\"counterContainer_RVlyCJtuFc\" class=\"inline-div\">\n",
       "        <h3>Frame: </h3> <h3 id=\"value_RVlyCJtuFc\">0</h3>\n",
       "    </div>\n",
       "   </div>\n",
       "</div> \n",
       "\n",
       "</div> \n",
       "</div> \n",
       "<script>\n",
       "var masonry = new Macy({\n",
       "    container: '#grid_CXvferMeYa',\n",
       "    debug: true,\n",
       "    mobileFirst: true,\n",
       "    columns: 1,\n",
       "    margin: {\n",
       "        x: 0,\n",
       "        y: 0\n",
       "    }\n",
       "  });\n",
       "\n",
       "var graph_RVlyCJtuFc = document.getElementById('graph_RVlyCJtuFc')\n",
       "\n",
       "var layout_RVlyCJtuFc = {\"height\":550,\"width\":600,\"hovermode\":\"closest\",\"title\":{\"text\":\"Animation XY with Multiple Series\"},\"showlegend\":true,\"legend\":{\"orientation\":\"h\",\"x\":0.5,\"y\":-0.5,\"xanchor\":\"auto\",\"yanchor\":\"auto\"},\"xaxis\":{\"title\":{\"text\":\"Generation\"},\"showgrid\":true,\"zeroline\":false,\"showline\":false,\"range\":[0,9]},\"yaxis\":{\"title\":{\"text\":\"Death Rate\"},\"showgrid\":true,\"zeroline\":false,\"showline\":false,\"range\":[0,1]},\"yaxis2\":{\"title\":{\"text\":\"Nb rats\"},\"showgrid\":true,\"zeroline\":false,\"showline\":false,\"side\":\"right\",\"overlaying\":\"y\",\"range\":[0,10000],\"tickformat\":\"0.0f\"}}\n",
       "var frames_RVlyCJtuFc = [{\"name\":\"Frame 0\",\"data\":[{\"name\":\"Death Rate (F0)\",\"type\":\"scatter\",\"x\":[0],\"y\":[0.18681506274120957]},{\"name\":\"Nb of rats (F0)\",\"type\":\"scatter\",\"yaxis\":\"y2\",\"x\":[0],\"y\":[10]}]},{\"name\":\"Frame 1\",\"data\":[{\"name\":\"Death Rate (F1)\",\"type\":\"scatter\",\"x\":[0,1],\"y\":[0.18681506274120957,0.31091191794881046]},{\"name\":\"Nb of rats (F1)\",\"type\":\"scatter\",\"yaxis\":\"y2\",\"x\":[0,1],\"y\":[10,42]}]},{\"name\":\"Frame 2\",\"data\":[{\"name\":\"Death Rate (F2)\",\"type\":\"scatter\",\"x\":[0,1,2],\"y\":[0.18681506274120957,0.31091191794881046,0.7333863081976598]},{\"name\":\"Nb of rats (F2)\",\"type\":\"scatter\",\"yaxis\":\"y2\",\"x\":[0,1,2],\"y\":[10,42,68]}]},{\"name\":\"Frame 3\",\"data\":[{\"name\":\"Death Rate (F3)\",\"type\":\"scatter\",\"x\":[0,1,2,3],\"y\":[0.18681506274120957,0.31091191794881046,0.7333863081976598,0.8380490469097884]},{\"name\":\"Nb of rats (F3)\",\"type\":\"scatter\",\"yaxis\":\"y2\",\"x\":[0,1,2,3],\"y\":[10,42,68,67]}]},{\"name\":\"Frame 4\",\"data\":[{\"name\":\"Death Rate (F4)\",\"type\":\"scatter\",\"x\":[0,1,2,3,4],\"y\":[0.18681506274120957,0.31091191794881046,0.7333863081976598,0.8380490469097884,0.880745278669956]},{\"name\":\"Nb of rats (F4)\",\"type\":\"scatter\",\"yaxis\":\"y2\",\"x\":[0,1,2,3,4],\"y\":[10,42,68,67,48]}]},{\"name\":\"Frame 5\",\"data\":[{\"name\":\"Death Rate (F5)\",\"type\":\"scatter\",\"x\":[0,1,2,3,4,5],\"y\":[0.18681506274120957,0.31091191794881046,0.7333863081976598,0.8380490469097884,0.880745278669956,0.6154657442178858]},{\"name\":\"Nb of rats (F5)\",\"type\":\"scatter\",\"yaxis\":\"y2\",\"x\":[0,1,2,3,4,5],\"y\":[10,42,68,67,48,111]}]},{\"name\":\"Frame 6\",\"data\":[{\"name\":\"Death Rate (F6)\",\"type\":\"scatter\",\"x\":[0,1,2,3,4,5,6],\"y\":[0.18681506274120957,0.31091191794881046,0.7333863081976598,0.8380490469097884,0.880745278669956,0.6154657442178858,0.41437720277395457]},{\"name\":\"Nb of rats (F6)\",\"type\":\"scatter\",\"yaxis\":\"y2\",\"x\":[0,1,2,3,4,5,6],\"y\":[10,42,68,67,48,111,388]}]},{\"name\":\"Frame 7\",\"data\":[{\"name\":\"Death Rate (F7)\",\"type\":\"scatter\",\"x\":[0,1,2,3,4,5,6,7],\"y\":[0.18681506274120957,0.31091191794881046,0.7333863081976598,0.8380490469097884,0.880745278669956,0.6154657442178858,0.41437720277395457,0.329862129188298]},{\"name\":\"Nb of rats (F7)\",\"type\":\"scatter\",\"yaxis\":\"y2\",\"x\":[0,1,2,3,4,5,6,7],\"y\":[10,42,68,67,48,111,388,1561]}]},{\"name\":\"Frame 8\",\"data\":[{\"name\":\"Death Rate (F8)\",\"type\":\"scatter\",\"x\":[0,1,2,3,4,5,6,7,8],\"y\":[0.18681506274120957,0.31091191794881046,0.7333863081976598,0.8380490469097884,0.880745278669956,0.6154657442178858,0.41437720277395457,0.329862129188298,0.2415378665348571]},{\"name\":\"Nb of rats (F8)\",\"type\":\"scatter\",\"yaxis\":\"y2\",\"x\":[0,1,2,3,4,5,6,7,8],\"y\":[10,42,68,67,48,111,388,1561,7100]}]}]\n",
       "var labels_RVlyCJtuFc = [\"Frame 0\",\"Frame 1\",\"Frame 2\",\"Frame 3\",\"Frame 4\",\"Frame 5\",\"Frame 6\",\"Frame 7\",\"Frame 8\"]\n",
       "var duration_RVlyCJtuFc = 100\n",
       "var config_RVlyCJtuFc = {\"responsive\":true,\"scrollZoom\":true,\"displaylogo\":false}\n",
       "\n",
       "var traces_RVlyCJtuFc = JSON.parse(JSON.stringify(frames_RVlyCJtuFc[0].data.map(x => x)))\n",
       "\n",
       "var animation_settings_RVlyCJtuFc = {\n",
       "    mode: \"immediate\",\n",
       "    direction: {},\n",
       "    fromcurrent: true,\n",
       "    frame: [\n",
       "      {duration: duration_RVlyCJtuFc},\n",
       "      {duration: duration_RVlyCJtuFc},\n",
       "      {redraw: true}\n",
       "    ],\n",
       "    transition: [\n",
       "      {duration: duration_RVlyCJtuFc, easing: 'cubic-in-out'},\n",
       "      {duration: duration_RVlyCJtuFc, easing: 'cubic-in-out'},\n",
       "    ],\n",
       "    ordering: \"layout first\"\n",
       "}\n",
       "\n",
       "var slider_RVlyCJtuFc = document.createElement(\"input\")\n",
       "var play_RVlyCJtuFc = document.getElementById(\"play_RVlyCJtuFc\")\n",
       "var pause_RVlyCJtuFc = document.getElementById(\"pause_RVlyCJtuFc\")\n",
       "slider_RVlyCJtuFc.id = \"slider_RVlyCJtuFc\"\n",
       "slider_RVlyCJtuFc.type = \"range\"\n",
       "slider_RVlyCJtuFc.min = 0\n",
       "slider_RVlyCJtuFc.max = frames_RVlyCJtuFc.length - 1\n",
       "slider_RVlyCJtuFc.value = 0\n",
       "document.getElementById(\"sliderContainer_RVlyCJtuFc\").appendChild(slider_RVlyCJtuFc);\n",
       "\n",
       "Plotly.newPlot(graph_RVlyCJtuFc, traces_RVlyCJtuFc, layout_RVlyCJtuFc, config_RVlyCJtuFc)\n",
       ".then(function () { Plotly.addFrames(graph_RVlyCJtuFc, frames_RVlyCJtuFc) })\n",
       "\n",
       "var trigger_RVlyCJtuFc = true\n",
       "var reset_count_RVlyCJtuFc = false\n",
       "\n",
       "play_RVlyCJtuFc.addEventListener('click', async function() {\n",
       "   trigger_RVlyCJtuFc = true\n",
       "   if (reset_count_RVlyCJtuFc) {\n",
       "      slider_RVlyCJtuFc.value = 0\n",
       "      reset_count_RVlyCJtuFc = false\n",
       "   }\n",
       "\n",
       "  const start_index = slider_RVlyCJtuFc.value == labels_RVlyCJtuFc.length - 1 ? 0 : slider_RVlyCJtuFc.value\n",
       "  const end_index = labels_RVlyCJtuFc.length\n",
       "  await Plotly.animate(graph_RVlyCJtuFc, labels_RVlyCJtuFc.slice(start_index, end_index), animation_settings_RVlyCJtuFc)\n",
       "})\n",
       "\n",
       "pause_RVlyCJtuFc.addEventListener('click', async function() {\n",
       "  await Plotly.animate(graph_RVlyCJtuFc, [null], animation_settings_RVlyCJtuFc)\n",
       "  trigger_RVlyCJtuFc = false;\n",
       "})\n",
       "\n",
       "graph_RVlyCJtuFc.on('plotly_redraw', () => {\n",
       "   value_RVlyCJtuFc.innerHTML = slider_RVlyCJtuFc.value;\n",
       "   if (trigger_RVlyCJtuFc & !reset_count_RVlyCJtuFc) ++slider_RVlyCJtuFc.value\n",
       "   if (slider_RVlyCJtuFc.value == labels_RVlyCJtuFc.length - 1) reset_count_RVlyCJtuFc = true\n",
       "});\n",
       "\n",
       "slider_RVlyCJtuFc.oninput = async function() {\n",
       "   await Plotly.animate(graph_RVlyCJtuFc, frames_RVlyCJtuFc[this.value], animation_settings_RVlyCJtuFc)\n",
       "   trigger_RVlyCJtuFc = false\n",
       "   slider_RVlyCJtuFc.value = this.value\n",
       "   value_RVlyCJtuFc.innerHTML = this.value;\n",
       "   if (this.value == 0) reset_count_RVlyCJtuFc = false\n",
       "   if (this.value == labels_RVlyCJtuFc.length - 1) reset_count_RVlyCJtuFc = true\n",
       "   reset_count_RVlyCJtuFc = false\n",
       "}\n",
       "\n",
       "next_RVlyCJtuFc.addEventListener('click', function() {\n",
       "    if (slider_RVlyCJtuFc.value == labels_RVlyCJtuFc.length - 1) {\n",
       "        reset_count_RVlyCJtuFc = true;\n",
       "        return;\n",
       "    }\n",
       "    ++slider_RVlyCJtuFc.value;\n",
       "    value_RVlyCJtuFc.innerHTML = slider_RVlyCJtuFc.value;\n",
       "    trigger_RVlyCJtuFc = false;\n",
       "    slider_RVlyCJtuFc.oninput();\n",
       "})\n",
       "\n",
       "prev_RVlyCJtuFc.addEventListener('click', function() {\n",
       "    if (slider_RVlyCJtuFc.value == 0) {\n",
       "        reset_count_RVlyCJtuFc = false;\n",
       "        return;\n",
       "    }\n",
       "    --slider_RVlyCJtuFc.value;\n",
       "    value_RVlyCJtuFc.innerHTML = slider_RVlyCJtuFc.value;\n",
       "    trigger_RVlyCJtuFc = false;\n",
       "    slider_RVlyCJtuFc.oninput();\n",
       "})\n",
       "\n",
       "</script> \n"
      ]
     },
     "metadata": {},
     "output_type": "display_data"
    }
   ],
   "source": [
    "val xaxis = Axis(X, title = \"Generation\") setLimits (0.0, 9.0)\n",
    "val yaxis = Axis(Y, title = \"Death Rate\") setLimits(0.0, 1.0)\n",
    "\n",
    "// lets also plot a second y variable\n",
    "val yaxis2 = Axis(\n",
    "    Y,\n",
    "    position = 2, \n",
    "    title = \"Nb rats\",\n",
    "    overlaying = Axis(Y), // this ensures that the axis sits on a seperate axis\n",
    "    side = RIGHT_SIDE, // this ensures the axis is on the right hand side\n",
    "    tickformat = \"0.0f\" // this will keep formatting reasonable for display purposes\n",
    ").setLimits (0.0, 10000.0)\n",
    "\n",
    "// we can also specifiy the underlying layout directly - sometimes this can be useful\n",
    "val layout = ChartLayout(\"Animation XY with Multiple Series\") setAxes(xaxis, yaxis, yaxis2)\n",
    "\n",
    "val animation = \n",
    "    (0 to generation.size-1)\n",
    "    .map(x => XY(generation.take(x+1), deathRateSeries.take(x+1)) setName \"Death Rate\")\n",
    "    .toList\n",
    "\n",
    "val animation2 = \n",
    "    (0 to generation.size-1)\n",
    "    .map(x => XY(generation.take(x+1), nbRatsSeries.take(x+1)) setName \"Nb of rats\" setAxis yaxis2)\n",
    "    .toList\n",
    "\n",
    "val chart = (\n",
    "    Chart(animated = true, transition_duration=100, animate_multiple_series = true)\n",
    "    setChartLayout layout \n",
    "    addSeries animation\n",
    "    addSeries animation2\n",
    "    setLegend(x = 0.5, y = -0.5, orientation = HORIZONTAL, xanchor = AUTO, yanchor = AUTO)\n",
    ") \n",
    "\n",
    "chart.plotInline"
   ]
  },
  {
   "cell_type": "markdown",
   "metadata": {
    "pycharm": {
     "name": "#%% md\n"
    }
   },
   "source": [
    "//FAZAL: It took me a while to get how the heat map works but I think I get it now. However, for this to look like an\n",
    "//actual grid I would need to draw the grid itself, i.e. black lines around each cell of the heatmap. Can we do this?\n"
   ]
  },
  {
   "cell_type": "code",
   "execution_count": 64,
   "metadata": {
    "pycharm": {
     "name": "#%%\n"
    }
   },
   "outputs": [
    {
     "data": {
      "text/html": [
       "<div id=\"grid-container_Mpd8GO9Qw1\" class=\"grid-container\" align=\"center\"> \n",
       "<div id=\"grid_Mpd8GO9Qw1\" class=\"grid\" align=\"center\"> \n",
       "<div id=\"graph_kL7JVrr1DY\" class=\"graph\"></div> \n",
       "</div> \n",
       "</div> \n",
       "<script>\n",
       "var masonry = new Macy({\n",
       "    container: '#grid_Mpd8GO9Qw1',\n",
       "    debug: true,\n",
       "    mobileFirst: true,\n",
       "    columns: 1,\n",
       "    margin: {\n",
       "        x: 0,\n",
       "        y: 0\n",
       "    }\n",
       "  });\n",
       "\n",
       "  var traces_kL7JVrr1DY = [{\"name\":\"Om7Mz5HLqS\",\"type\":\"heatmap\",\"z\":[[11756,52585,2416],[35868,2181573,10717],[74309,806892,2136708]]}];\n",
       " var layout_kL7JVrr1DY = {\"height\":550,\"width\":600,\"hovermode\":\"closest\",\"title\":{\"text\":\"Nb of rats at time step 10\"},\"showlegend\":true};\n",
       " var config_kL7JVrr1DY = {\"responsive\":true,\"scrollZoom\":true,\"displaylogo\":false};\n",
       " Plotly.newPlot(\"graph_kL7JVrr1DY\", traces_kL7JVrr1DY, layout_kL7JVrr1DY, config_kL7JVrr1DY);\n",
       "</script> \n"
      ]
     },
     "metadata": {},
     "output_type": "display_data"
    }
   ],
   "source": [
    "val nbCol = (0 to 2).toList\n",
    "val mySeries:List[Double] = nbCol.flatMap(r => {\n",
    "    nbCol.map{c => getDataFromSingleModel(model, nbRats, List(r,c), numberOfSteps).last.toDouble}})\n",
    "\n",
    "val series = XYZ(z=mySeries,n=3) asType HEATMAP\n",
    "\n",
    "val chart = Chart().addSeries(series).setTitle(\"Nb of rats at time step 10\")\n",
    "\n",
    "chart.plotInline"
   ]
  },
  {
   "cell_type": "code",
   "execution_count": 65,
   "metadata": {},
   "outputs": [
    {
     "data": {
      "text/html": [
       "<div id=\"grid-container_t5GqMT1992\" class=\"grid-container\" align=\"center\"> \n",
       "<div id=\"grid_t5GqMT1992\" class=\"grid\" align=\"center\"> \n",
       "<div id=\"graph_3m4Aoftp6p\" class=\"graph\"></div> \n",
       "</div> \n",
       "</div> \n",
       "<script>\n",
       "var masonry = new Macy({\n",
       "    container: '#grid_t5GqMT1992',\n",
       "    debug: true,\n",
       "    mobileFirst: true,\n",
       "    columns: 1,\n",
       "    margin: {\n",
       "        x: 0,\n",
       "        y: 0\n",
       "    }\n",
       "  });\n",
       "\n",
       "  var traces_3m4Aoftp6p = [{\"name\":\"lPcUs9yq5C\",\"type\":\"surface\",\"colorbar\":{\"title\":{\"text\":\"Rat Population\",\"side\":\"right\"}},\"z\":[[11756,52585,2416],[35868,2181573,10717],[74309,806892,2136708]]}];\n",
       " var layout_3m4Aoftp6p = {\"height\":550,\"width\":600,\"hovermode\":\"closest\",\"title\":{\"text\":\"Surface\"},\"showlegend\":true};\n",
       " var config_3m4Aoftp6p = {\"responsive\":true,\"scrollZoom\":true,\"displaylogo\":false};\n",
       " Plotly.newPlot(\"graph_3m4Aoftp6p\", traces_3m4Aoftp6p, layout_3m4Aoftp6p, config_3m4Aoftp6p);\n",
       "</script> \n"
      ]
     },
     "metadata": {},
     "output_type": "display_data"
    }
   ],
   "source": [
    "val ratsAsSurface = XYZ(z=mySeries,n=3) asType SURFACE setColorBar(\"Rat Population\", RIGHT_SIDE)\n",
    "\n",
    "val ratsChart = Chart() addSeries ratsAsSurface setTitle \"Surface\"\n",
    "\n",
    "ratsChart.plotInline"
   ]
  },
  {
   "cell_type": "code",
   "execution_count": 70,
   "metadata": {},
   "outputs": [
    {
     "data": {
      "text/html": [
       "<div id=\"grid-container_6Nw4Lst3lq\" class=\"grid-container\" align=\"center\"> \n",
       "<div id=\"grid_6Nw4Lst3lq\" class=\"grid\" align=\"center\"> \n",
       "\n",
       "<div align=\"center\">\n",
       "  <div id=\"graph_oOQDHa7IDY\" class=\"graph\"></div>\n",
       "  <div class=\"animationInterface\">\n",
       "    <button id=\"play_oOQDHa7IDY\" class=\"picta-button\">&#9658</button>\n",
       "    <button id=\"pause_oOQDHa7IDY\" class=\"picta-button\">&#9616;&#9616;</button>\n",
       "    <button id=\"prev_oOQDHa7IDY\" class=\"picta-button\"><</button>\n",
       "    <button id=\"next_oOQDHa7IDY\" class=\"picta-button\">></button>\n",
       "\n",
       "    <div id=\"sliderContainer_oOQDHa7IDY\" class=\"progressBar\"></div>\n",
       "    <div id=\"counterContainer_oOQDHa7IDY\" class=\"inline-div\">\n",
       "        <h3>Frame: </h3> <h3 id=\"value_oOQDHa7IDY\">0</h3>\n",
       "    </div>\n",
       "   </div>\n",
       "</div> \n",
       "\n",
       "</div> \n",
       "</div> \n",
       "<script>\n",
       "var masonry = new Macy({\n",
       "    container: '#grid_6Nw4Lst3lq',\n",
       "    debug: true,\n",
       "    mobileFirst: true,\n",
       "    columns: 1,\n",
       "    margin: {\n",
       "        x: 0,\n",
       "        y: 0\n",
       "    }\n",
       "  });\n",
       "\n",
       "var graph_oOQDHa7IDY = document.getElementById('graph_oOQDHa7IDY')\n",
       "\n",
       "var layout_oOQDHa7IDY = {\"height\":550,\"width\":600,\"hovermode\":\"closest\",\"title\":{\"text\":\"Surface\"},\"showlegend\":true,\"scene\":{\"zaxis\":{\"showgrid\":true,\"zeroline\":false,\"showline\":false,\"range\":[0,3000000]}}}\n",
       "var frames_oOQDHa7IDY = [{\"name\":\"0kmcijmfQs (F0)\",\"data\":[{\"name\":\"0kmcijmfQs (F0)\",\"type\":\"surface\",\"colorbar\":{\"title\":{\"text\":\"Rat Population\",\"side\":\"right\"}},\"z\":[[10,8,9],[9,10,7],[8,17,21]]}]},{\"name\":\"BS8qOIyfpc (F1)\",\"data\":[{\"name\":\"BS8qOIyfpc (F1)\",\"type\":\"surface\",\"colorbar\":{\"title\":{\"text\":\"Rat Population\",\"side\":\"right\"}},\"z\":[[42,6,9],[42,56,17],[30,93,88]]}]},{\"name\":\"DoYVJYzFTw (F2)\",\"data\":[{\"name\":\"DoYVJYzFTw (F2)\",\"type\":\"surface\",\"colorbar\":{\"title\":{\"text\":\"Rat Population\",\"side\":\"right\"}},\"z\":[[68,29,12],[86,162,42],[53,482,381]]}]},{\"name\":\"CCgWVRBHeQ (F3)\",\"data\":[{\"name\":\"CCgWVRBHeQ (F3)\",\"type\":\"surface\",\"colorbar\":{\"title\":{\"text\":\"Rat Population\",\"side\":\"right\"}},\"z\":[[67,42,11],[75,952,46],[194,2370,2169]]}]},{\"name\":\"Ju1i2lIys1 (F4)\",\"data\":[{\"name\":\"Ju1i2lIys1 (F4)\",\"type\":\"surface\",\"colorbar\":{\"title\":{\"text\":\"Rat Population\",\"side\":\"right\"}},\"z\":[[48,72,47],[111,4054,232],[515,4514,8115]]}]},{\"name\":\"5m9HfVHK1T (F5)\",\"data\":[{\"name\":\"5m9HfVHK1T (F5)\",\"type\":\"surface\",\"colorbar\":{\"title\":{\"text\":\"Rat Population\",\"side\":\"right\"}},\"z\":[[111,316,49],[173,19679,370],[2393,20111,28569]]}]},{\"name\":\"OwXCkOKCyX (F6)\",\"data\":[{\"name\":\"OwXCkOKCyX (F6)\",\"type\":\"surface\",\"colorbar\":{\"title\":{\"text\":\"Rat Population\",\"side\":\"right\"}},\"z\":[[388,901,120],[859,19450,882],[6370,32305,127258]]}]},{\"name\":\"yjhCARRdzM (F7)\",\"data\":[{\"name\":\"yjhCARRdzM (F7)\",\"type\":\"surface\",\"colorbar\":{\"title\":{\"text\":\"Rat Population\",\"side\":\"right\"}},\"z\":[[1561,4102,121],[4369,75060,3228],[23714,72853,552346]]}]},{\"name\":\"T38WMn98ud (F8)\",\"data\":[{\"name\":\"T38WMn98ud (F8)\",\"type\":\"surface\",\"colorbar\":{\"title\":{\"text\":\"Rat Population\",\"side\":\"right\"}},\"z\":[[7100,11214,713],[14025,395393,7556],[67136,192115,739155]]}]},{\"name\":\"ItYsFvw2aa (F9)\",\"data\":[{\"name\":\"ItYsFvw2aa (F9)\",\"type\":\"surface\",\"colorbar\":{\"title\":{\"text\":\"Rat Population\",\"side\":\"right\"}},\"z\":[[11756,52585,2416],[35868,2181573,10717],[74309,806892,2136708]]}]}]\n",
       "var labels_oOQDHa7IDY = [\"0kmcijmfQs (F0)\",\"BS8qOIyfpc (F1)\",\"DoYVJYzFTw (F2)\",\"CCgWVRBHeQ (F3)\",\"Ju1i2lIys1 (F4)\",\"5m9HfVHK1T (F5)\",\"OwXCkOKCyX (F6)\",\"yjhCARRdzM (F7)\",\"T38WMn98ud (F8)\",\"ItYsFvw2aa (F9)\"]\n",
       "var duration_oOQDHa7IDY = 100\n",
       "var config_oOQDHa7IDY = {\"responsive\":true,\"scrollZoom\":true,\"displaylogo\":false}\n",
       "\n",
       "var traces_oOQDHa7IDY = JSON.parse(JSON.stringify(frames_oOQDHa7IDY[0].data.map(x => x)))\n",
       "\n",
       "var animation_settings_oOQDHa7IDY = {\n",
       "    mode: \"immediate\",\n",
       "    direction: {},\n",
       "    fromcurrent: true,\n",
       "    frame: [\n",
       "      {duration: duration_oOQDHa7IDY},\n",
       "      {duration: duration_oOQDHa7IDY},\n",
       "      {redraw: true}\n",
       "    ],\n",
       "    transition: [\n",
       "      {duration: duration_oOQDHa7IDY, easing: 'cubic-in-out'},\n",
       "      {duration: duration_oOQDHa7IDY, easing: 'cubic-in-out'},\n",
       "    ],\n",
       "    ordering: \"layout first\"\n",
       "}\n",
       "\n",
       "var slider_oOQDHa7IDY = document.createElement(\"input\")\n",
       "var play_oOQDHa7IDY = document.getElementById(\"play_oOQDHa7IDY\")\n",
       "var pause_oOQDHa7IDY = document.getElementById(\"pause_oOQDHa7IDY\")\n",
       "slider_oOQDHa7IDY.id = \"slider_oOQDHa7IDY\"\n",
       "slider_oOQDHa7IDY.type = \"range\"\n",
       "slider_oOQDHa7IDY.min = 0\n",
       "slider_oOQDHa7IDY.max = frames_oOQDHa7IDY.length - 1\n",
       "slider_oOQDHa7IDY.value = 0\n",
       "document.getElementById(\"sliderContainer_oOQDHa7IDY\").appendChild(slider_oOQDHa7IDY);\n",
       "\n",
       "Plotly.newPlot(graph_oOQDHa7IDY, traces_oOQDHa7IDY, layout_oOQDHa7IDY, config_oOQDHa7IDY)\n",
       ".then(function () { Plotly.addFrames(graph_oOQDHa7IDY, frames_oOQDHa7IDY) })\n",
       "\n",
       "var trigger_oOQDHa7IDY = true\n",
       "var reset_count_oOQDHa7IDY = false\n",
       "\n",
       "play_oOQDHa7IDY.addEventListener('click', async function() {\n",
       "   trigger_oOQDHa7IDY = true\n",
       "   if (reset_count_oOQDHa7IDY) {\n",
       "      slider_oOQDHa7IDY.value = 0\n",
       "      reset_count_oOQDHa7IDY = false\n",
       "   }\n",
       "\n",
       "  const start_index = slider_oOQDHa7IDY.value == labels_oOQDHa7IDY.length - 1 ? 0 : slider_oOQDHa7IDY.value\n",
       "  const end_index = labels_oOQDHa7IDY.length\n",
       "  await Plotly.animate(graph_oOQDHa7IDY, labels_oOQDHa7IDY.slice(start_index, end_index), animation_settings_oOQDHa7IDY)\n",
       "})\n",
       "\n",
       "pause_oOQDHa7IDY.addEventListener('click', async function() {\n",
       "  await Plotly.animate(graph_oOQDHa7IDY, [null], animation_settings_oOQDHa7IDY)\n",
       "  trigger_oOQDHa7IDY = false;\n",
       "})\n",
       "\n",
       "graph_oOQDHa7IDY.on('plotly_redraw', () => {\n",
       "   value_oOQDHa7IDY.innerHTML = slider_oOQDHa7IDY.value;\n",
       "   if (trigger_oOQDHa7IDY & !reset_count_oOQDHa7IDY) ++slider_oOQDHa7IDY.value\n",
       "   if (slider_oOQDHa7IDY.value == labels_oOQDHa7IDY.length - 1) reset_count_oOQDHa7IDY = true\n",
       "});\n",
       "\n",
       "slider_oOQDHa7IDY.oninput = async function() {\n",
       "   await Plotly.animate(graph_oOQDHa7IDY, frames_oOQDHa7IDY[this.value], animation_settings_oOQDHa7IDY)\n",
       "   trigger_oOQDHa7IDY = false\n",
       "   slider_oOQDHa7IDY.value = this.value\n",
       "   value_oOQDHa7IDY.innerHTML = this.value;\n",
       "   if (this.value == 0) reset_count_oOQDHa7IDY = false\n",
       "   if (this.value == labels_oOQDHa7IDY.length - 1) reset_count_oOQDHa7IDY = true\n",
       "   reset_count_oOQDHa7IDY = false\n",
       "}\n",
       "\n",
       "next_oOQDHa7IDY.addEventListener('click', function() {\n",
       "    if (slider_oOQDHa7IDY.value == labels_oOQDHa7IDY.length - 1) {\n",
       "        reset_count_oOQDHa7IDY = true;\n",
       "        return;\n",
       "    }\n",
       "    ++slider_oOQDHa7IDY.value;\n",
       "    value_oOQDHa7IDY.innerHTML = slider_oOQDHa7IDY.value;\n",
       "    trigger_oOQDHa7IDY = false;\n",
       "    slider_oOQDHa7IDY.oninput();\n",
       "})\n",
       "\n",
       "prev_oOQDHa7IDY.addEventListener('click', function() {\n",
       "    if (slider_oOQDHa7IDY.value == 0) {\n",
       "        reset_count_oOQDHa7IDY = false;\n",
       "        return;\n",
       "    }\n",
       "    --slider_oOQDHa7IDY.value;\n",
       "    value_oOQDHa7IDY.innerHTML = slider_oOQDHa7IDY.value;\n",
       "    trigger_oOQDHa7IDY = false;\n",
       "    slider_oOQDHa7IDY.oninput();\n",
       "})\n",
       "\n",
       "</script> \n"
      ]
     },
     "metadata": {},
     "output_type": "display_data"
    }
   ],
   "source": [
    "def createSeries:List[List[Double]] = {\n",
    "    val nbCol = (0 to 2).toList\n",
    "    val nestedList:List[List[Double]] = nbCol.flatMap(r => {\n",
    "    nbCol.map{c => getDataFromSingleModel(model, nbRats, List(r,c), numberOfSteps).map(x=>x.toDouble)}})\n",
    "    (0 to 9).map(x => (0 to 8).map(y => nestedList(y)(x)).toList).toList\n",
    "}\n",
    "\n",
    "\n",
    "val ratsAsSurface = createSeries.map(s => XYZ(z=s,n=3) asType SURFACE setColorBar(\"Rat Population\", RIGHT_SIDE)) \n",
    "\n",
    "val ratsChart = Chart(animated = true, transition_duration=100) addSeries ratsAsSurface setTitle \"Surface\" setZAxisLimits(0, 3E6)\n",
    "\n",
    "ratsChart.plotInline"
   ]
  },
  {
   "cell_type": "code",
   "execution_count": null,
   "metadata": {},
   "outputs": [],
   "source": []
  },
  {
   "cell_type": "code",
   "execution_count": null,
   "metadata": {},
   "outputs": [],
   "source": []
  }
 ],
 "metadata": {
  "kernelspec": {
   "display_name": "Scala",
   "language": "scala",
   "name": "scala"
  },
  "language_info": {
   "codemirror_mode": "text/x-scala",
   "file_extension": ".scala",
   "mimetype": "text/x-scala",
   "name": "scala",
   "nbconvert_exporter": "script",
   "version": "2.13.2"
  }
 },
 "nbformat": 4,
 "nbformat_minor": 4
}
