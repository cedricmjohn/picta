{
 "cells": [
  {
   "cell_type": "code",
   "execution_count": 1,
   "metadata": {
    "scrolled": true
   },
   "outputs": [],
   "source": [
    "interp.repositories() ++= Seq(coursierapi.MavenRepository.of(\n",
    "\"https://jitpack.io\"\n",
    "))"
   ]
  },
  {
   "cell_type": "code",
   "execution_count": 2,
   "metadata": {},
   "outputs": [
    {
     "data": {
      "text/plain": [
       "\u001b[32mimport \u001b[39m\u001b[36m$ivy.$                                  \u001b[39m"
      ]
     },
     "execution_count": 2,
     "metadata": {},
     "output_type": "execute_result"
    }
   ],
   "source": [
    "import $ivy. `org.carbonateresearch::picta:0.1`"
   ]
  },
  {
   "cell_type": "code",
   "execution_count": 3,
   "metadata": {
    "scrolled": true
   },
   "outputs": [
    {
     "data": {
      "text/html": [
       "<style>#animationInterface {\n",
       "    margin-top: 50px;\n",
       "    margin-bottom: 50px;\n",
       "}\n",
       "\n",
       ".progressBar {\n",
       "    padding-top: 20px;\n",
       "    padding-bottom: 20px;\n",
       "}\n",
       "\n",
       ".inline-div {\n",
       "    display: block;\n",
       "    text-align: center;\n",
       "}\n",
       "\n",
       "h3 {\n",
       "    display: inline-block;\n",
       "    text-align: center;\n",
       "}</style>\n",
       "<script type='text/javascript'>/** vim: et:ts=4:sw=4:sts=4\n",
       " * @license RequireJS 2.3.6 Copyright jQuery Foundation and other contributors.\n",
       " * Released under MIT license, https://github.com/requirejs/requirejs/blob/master/LICENSE\n",
       " */\n",
       "var requirejs,require,define;!function(global,setTimeout){var req,s,head,baseElement,dataMain,src,interactiveScript,currentlyAddingScript,mainScript,subPath,version=\"2.3.6\",commentRegExp=/\\/\\*[\\s\\S]*?\\*\\/|([^:\"'=]|^)\\/\\/.*$/gm,cjsRequireRegExp=/[^.]\\s*require\\s*\\(\\s*[\"']([^'\"\\s]+)[\"']\\s*\\)/g,jsSuffixRegExp=/\\.js$/,currDirRegExp=/^\\.\\//,op=Object.prototype,ostring=op.toString,hasOwn=op.hasOwnProperty,isBrowser=!(\"undefined\"==typeof window||\"undefined\"==typeof navigator||!window.document),isWebWorker=!isBrowser&&\"undefined\"!=typeof importScripts,readyRegExp=isBrowser&&\"PLAYSTATION 3\"===navigator.platform?/^complete$/:/^(complete|loaded)$/,defContextName=\"_\",isOpera=\"undefined\"!=typeof opera&&\"[object Opera]\"===opera.toString(),contexts={},cfg={},globalDefQueue=[],useInteractive=!1;function commentReplace(e,t){return t||\"\"}function isFunction(e){return\"[object Function]\"===ostring.call(e)}function isArray(e){return\"[object Array]\"===ostring.call(e)}function each(e,t){var i;if(e)for(i=0;i<e.length&&(!e[i]||!t(e[i],i,e));i+=1);}function eachReverse(e,t){var i;if(e)for(i=e.length-1;-1<i&&(!e[i]||!t(e[i],i,e));i-=1);}function hasProp(e,t){return hasOwn.call(e,t)}function getOwn(e,t){return hasProp(e,t)&&e[t]}function eachProp(e,t){var i;for(i in e)if(hasProp(e,i)&&t(e[i],i))break}function mixin(i,e,r,n){return e&&eachProp(e,function(e,t){!r&&hasProp(i,t)||(!n||\"object\"!=typeof e||!e||isArray(e)||isFunction(e)||e instanceof RegExp?i[t]=e:(i[t]||(i[t]={}),mixin(i[t],e,r,n)))}),i}function bind(e,t){return function(){return t.apply(e,arguments)}}function scripts(){return document.getElementsByTagName(\"script\")}function defaultOnError(e){throw e}function getGlobal(e){if(!e)return e;var t=global;return each(e.split(\".\"),function(e){t=t[e]}),t}function makeError(e,t,i,r){var n=new Error(t+\"\\nhttps://requirejs.org/docs/errors.html#\"+e);return n.requireType=e,n.requireModules=r,i&&(n.originalError=i),n}if(void 0===define){if(void 0!==requirejs){if(isFunction(requirejs))return;cfg=requirejs,requirejs=void 0}void 0===require||isFunction(require)||(cfg=require,require=void 0),req=requirejs=function(e,t,i,r){var n,o,a=defContextName;return isArray(e)||\"string\"==typeof e||(o=e,isArray(t)?(e=t,t=i,i=r):e=[]),o&&o.context&&(a=o.context),(n=getOwn(contexts,a))||(n=contexts[a]=req.s.newContext(a)),o&&n.configure(o),n.require(e,t,i)},req.config=function(e){return req(e)},req.nextTick=void 0!==setTimeout?function(e){setTimeout(e,4)}:function(e){e()},require||(require=req),req.version=version,req.jsExtRegExp=/^\\/|:|\\?|\\.js$/,req.isBrowser=isBrowser,s=req.s={contexts:contexts,newContext:newContext},req({}),each([\"toUrl\",\"undef\",\"defined\",\"specified\"],function(t){req[t]=function(){var e=contexts[defContextName];return e.require[t].apply(e,arguments)}}),isBrowser&&(head=s.head=document.getElementsByTagName(\"head\")[0],baseElement=document.getElementsByTagName(\"base\")[0],baseElement&&(head=s.head=baseElement.parentNode)),req.onError=defaultOnError,req.createNode=function(e,t,i){var r=e.xhtml?document.createElementNS(\"http://www.w3.org/1999/xhtml\",\"html:script\"):document.createElement(\"script\");return r.type=e.scriptType||\"text/javascript\",r.charset=\"utf-8\",r.async=!0,r},req.load=function(t,i,r){var e,n=t&&t.config||{};if(isBrowser)return(e=req.createNode(n,i,r)).setAttribute(\"data-requirecontext\",t.contextName),e.setAttribute(\"data-requiremodule\",i),!e.attachEvent||e.attachEvent.toString&&e.attachEvent.toString().indexOf(\"[native code\")<0||isOpera?(e.addEventListener(\"load\",t.onScriptLoad,!1),e.addEventListener(\"error\",t.onScriptError,!1)):(useInteractive=!0,e.attachEvent(\"onreadystatechange\",t.onScriptLoad)),e.src=r,n.onNodeCreated&&n.onNodeCreated(e,n,i,r),currentlyAddingScript=e,baseElement?head.insertBefore(e,baseElement):head.appendChild(e),currentlyAddingScript=null,e;if(isWebWorker)try{setTimeout(function(){},0),importScripts(r),t.completeLoad(i)}catch(e){t.onError(makeError(\"importscripts\",\"importScripts failed for \"+i+\" at \"+r,e,[i]))}},isBrowser&&!cfg.skipDataMain&&eachReverse(scripts(),function(e){if(head||(head=e.parentNode),dataMain=e.getAttribute(\"data-main\"))return mainScript=dataMain,cfg.baseUrl||-1!==mainScript.indexOf(\"!\")||(mainScript=(src=mainScript.split(\"/\")).pop(),subPath=src.length?src.join(\"/\")+\"/\":\"./\",cfg.baseUrl=subPath),mainScript=mainScript.replace(jsSuffixRegExp,\"\"),req.jsExtRegExp.test(mainScript)&&(mainScript=dataMain),cfg.deps=cfg.deps?cfg.deps.concat(mainScript):[mainScript],!0}),define=function(e,i,t){var r,n;\"string\"!=typeof e&&(t=i,i=e,e=null),isArray(i)||(t=i,i=null),!i&&isFunction(t)&&(i=[],t.length&&(t.toString().replace(commentRegExp,commentReplace).replace(cjsRequireRegExp,function(e,t){i.push(t)}),i=(1===t.length?[\"require\"]:[\"require\",\"exports\",\"module\"]).concat(i))),useInteractive&&(r=currentlyAddingScript||getInteractiveScript())&&(e||(e=r.getAttribute(\"data-requiremodule\")),n=contexts[r.getAttribute(\"data-requirecontext\")]),n?(n.defQueue.push([e,i,t]),n.defQueueMap[e]=!0):globalDefQueue.push([e,i,t])},define.amd={jQuery:!0},req.exec=function(text){return eval(text)},req(cfg)}function newContext(u){var i,e,l,c,d,g={waitSeconds:7,baseUrl:\"./\",paths:{},bundles:{},pkgs:{},shim:{},config:{}},p={},f={},r={},h=[],m={},n={},v={},x=1,b=1;function q(e,t,i){var r,n,o,a,s,u,c,d,p,f,l=t&&t.split(\"/\"),h=g.map,m=h&&h[\"*\"];if(e&&(u=(e=e.split(\"/\")).length-1,g.nodeIdCompat&&jsSuffixRegExp.test(e[u])&&(e[u]=e[u].replace(jsSuffixRegExp,\"\")),\".\"===e[0].charAt(0)&&l&&(e=l.slice(0,l.length-1).concat(e)),function(e){var t,i;for(t=0;t<e.length;t++)if(\".\"===(i=e[t]))e.splice(t,1),t-=1;else if(\"..\"===i){if(0===t||1===t&&\"..\"===e[2]||\"..\"===e[t-1])continue;0<t&&(e.splice(t-1,2),t-=2)}}(e),e=e.join(\"/\")),i&&h&&(l||m)){e:for(o=(n=e.split(\"/\")).length;0<o;o-=1){if(s=n.slice(0,o).join(\"/\"),l)for(a=l.length;0<a;a-=1)if((r=getOwn(h,l.slice(0,a).join(\"/\")))&&(r=getOwn(r,s))){c=r,d=o;break e}!p&&m&&getOwn(m,s)&&(p=getOwn(m,s),f=o)}!c&&p&&(c=p,d=f),c&&(n.splice(0,d,c),e=n.join(\"/\"))}return getOwn(g.pkgs,e)||e}function E(t){isBrowser&&each(scripts(),function(e){if(e.getAttribute(\"data-requiremodule\")===t&&e.getAttribute(\"data-requirecontext\")===l.contextName)return e.parentNode.removeChild(e),!0})}function w(e){var t=getOwn(g.paths,e);if(t&&isArray(t)&&1<t.length)return t.shift(),l.require.undef(e),l.makeRequire(null,{skipMap:!0})([e]),!0}function y(e){var t,i=e?e.indexOf(\"!\"):-1;return-1<i&&(t=e.substring(0,i),e=e.substring(i+1,e.length)),[t,e]}function S(e,t,i,r){var n,o,a,s,u=null,c=t?t.name:null,d=e,p=!0,f=\"\";return e||(p=!1,e=\"_@r\"+(x+=1)),u=(s=y(e))[0],e=s[1],u&&(u=q(u,c,r),o=getOwn(m,u)),e&&(u?f=i?e:o&&o.normalize?o.normalize(e,function(e){return q(e,c,r)}):-1===e.indexOf(\"!\")?q(e,c,r):e:(u=(s=y(f=q(e,c,r)))[0],f=s[1],i=!0,n=l.nameToUrl(f))),{prefix:u,name:f,parentMap:t,unnormalized:!!(a=!u||o||i?\"\":\"_unnormalized\"+(b+=1)),url:n,originalName:d,isDefine:p,id:(u?u+\"!\"+f:f)+a}}function k(e){var t=e.id,i=getOwn(p,t);return i||(i=p[t]=new l.Module(e)),i}function M(e,t,i){var r=e.id,n=getOwn(p,r);!hasProp(m,r)||n&&!n.defineEmitComplete?(n=k(e)).error&&\"error\"===t?i(n.error):n.on(t,i):\"defined\"===t&&i(m[r])}function O(i,e){var t=i.requireModules,r=!1;e?e(i):(each(t,function(e){var t=getOwn(p,e);t&&(t.error=i,t.events.error&&(r=!0,t.emit(\"error\",i)))}),r||req.onError(i))}function j(){globalDefQueue.length&&(each(globalDefQueue,function(e){var t=e[0];\"string\"==typeof t&&(l.defQueueMap[t]=!0),h.push(e)}),globalDefQueue=[])}function P(e){delete p[e],delete f[e]}function R(){var e,r,t=1e3*g.waitSeconds,n=t&&l.startTime+t<(new Date).getTime(),o=[],a=[],s=!1,u=!0;if(!i){if(i=!0,eachProp(f,function(e){var t=e.map,i=t.id;if(e.enabled&&(t.isDefine||a.push(e),!e.error))if(!e.inited&&n)w(i)?s=r=!0:(o.push(i),E(i));else if(!e.inited&&e.fetched&&t.isDefine&&(s=!0,!t.prefix))return u=!1}),n&&o.length)return(e=makeError(\"timeout\",\"Load timeout for modules: \"+o,null,o)).contextName=l.contextName,O(e);u&&each(a,function(e){!function n(o,a,s){var e=o.map.id;o.error?o.emit(\"error\",o.error):(a[e]=!0,each(o.depMaps,function(e,t){var i=e.id,r=getOwn(p,i);!r||o.depMatched[t]||s[i]||(getOwn(a,i)?(o.defineDep(t,m[i]),o.check()):n(r,a,s))}),s[e]=!0)}(e,{},{})}),n&&!r||!s||!isBrowser&&!isWebWorker||d||(d=setTimeout(function(){d=0,R()},50)),i=!1}}function a(e){hasProp(m,e[0])||k(S(e[0],null,!0)).init(e[1],e[2])}function o(e,t,i,r){e.detachEvent&&!isOpera?r&&e.detachEvent(r,t):e.removeEventListener(i,t,!1)}function s(e){var t=e.currentTarget||e.srcElement;return o(t,l.onScriptLoad,\"load\",\"onreadystatechange\"),o(t,l.onScriptError,\"error\"),{node:t,id:t&&t.getAttribute(\"data-requiremodule\")}}function T(){var e;for(j();h.length;){if(null===(e=h.shift())[0])return O(makeError(\"mismatch\",\"Mismatched anonymous define() module: \"+e[e.length-1]));a(e)}l.defQueueMap={}}return c={require:function(e){return e.require?e.require:e.require=l.makeRequire(e.map)},exports:function(e){if(e.usingExports=!0,e.map.isDefine)return e.exports?m[e.map.id]=e.exports:e.exports=m[e.map.id]={}},module:function(e){return e.module?e.module:e.module={id:e.map.id,uri:e.map.url,config:function(){return getOwn(g.config,e.map.id)||{}},exports:e.exports||(e.exports={})}}},(e=function(e){this.events=getOwn(r,e.id)||{},this.map=e,this.shim=getOwn(g.shim,e.id),this.depExports=[],this.depMaps=[],this.depMatched=[],this.pluginMaps={},this.depCount=0}).prototype={init:function(e,t,i,r){r=r||{},this.inited||(this.factory=t,i?this.on(\"error\",i):this.events.error&&(i=bind(this,function(e){this.emit(\"error\",e)})),this.depMaps=e&&e.slice(0),this.errback=i,this.inited=!0,this.ignore=r.ignore,r.enabled||this.enabled?this.enable():this.check())},defineDep:function(e,t){this.depMatched[e]||(this.depMatched[e]=!0,this.depCount-=1,this.depExports[e]=t)},fetch:function(){if(!this.fetched){this.fetched=!0,l.startTime=(new Date).getTime();var e=this.map;if(!this.shim)return e.prefix?this.callPlugin():this.load();l.makeRequire(this.map,{enableBuildCallback:!0})(this.shim.deps||[],bind(this,function(){return e.prefix?this.callPlugin():this.load()}))}},load:function(){var e=this.map.url;n[e]||(n[e]=!0,l.load(this.map.id,e))},check:function(){if(this.enabled&&!this.enabling){var t,e,i=this.map.id,r=this.depExports,n=this.exports,o=this.factory;if(this.inited){if(this.error)this.emit(\"error\",this.error);else if(!this.defining){if(this.defining=!0,this.depCount<1&&!this.defined){if(isFunction(o)){if(this.events.error&&this.map.isDefine||req.onError!==defaultOnError)try{n=l.execCb(i,o,r,n)}catch(e){t=e}else n=l.execCb(i,o,r,n);if(this.map.isDefine&&void 0===n&&((e=this.module)?n=e.exports:this.usingExports&&(n=this.exports)),t)return t.requireMap=this.map,t.requireModules=this.map.isDefine?[this.map.id]:null,t.requireType=this.map.isDefine?\"define\":\"require\",O(this.error=t)}else n=o;if(this.exports=n,this.map.isDefine&&!this.ignore&&(m[i]=n,req.onResourceLoad)){var a=[];each(this.depMaps,function(e){a.push(e.normalizedMap||e)}),req.onResourceLoad(l,this.map,a)}P(i),this.defined=!0}this.defining=!1,this.defined&&!this.defineEmitted&&(this.defineEmitted=!0,this.emit(\"defined\",this.exports),this.defineEmitComplete=!0)}}else hasProp(l.defQueueMap,i)||this.fetch()}},callPlugin:function(){var u=this.map,c=u.id,e=S(u.prefix);this.depMaps.push(e),M(e,\"defined\",bind(this,function(e){var o,t,i,r=getOwn(v,this.map.id),n=this.map.name,a=this.map.parentMap?this.map.parentMap.name:null,s=l.makeRequire(u.parentMap,{enableBuildCallback:!0});return this.map.unnormalized?(e.normalize&&(n=e.normalize(n,function(e){return q(e,a,!0)})||\"\"),M(t=S(u.prefix+\"!\"+n,this.map.parentMap,!0),\"defined\",bind(this,function(e){this.map.normalizedMap=t,this.init([],function(){return e},null,{enabled:!0,ignore:!0})})),void((i=getOwn(p,t.id))&&(this.depMaps.push(t),this.events.error&&i.on(\"error\",bind(this,function(e){this.emit(\"error\",e)})),i.enable()))):r?(this.map.url=l.nameToUrl(r),void this.load()):((o=bind(this,function(e){this.init([],function(){return e},null,{enabled:!0})})).error=bind(this,function(e){this.inited=!0,(this.error=e).requireModules=[c],eachProp(p,function(e){0===e.map.id.indexOf(c+\"_unnormalized\")&&P(e.map.id)}),O(e)}),o.fromText=bind(this,function(e,t){var i=u.name,r=S(i),n=useInteractive;t&&(e=t),n&&(useInteractive=!1),k(r),hasProp(g.config,c)&&(g.config[i]=g.config[c]);try{req.exec(e)}catch(e){return O(makeError(\"fromtexteval\",\"fromText eval for \"+c+\" failed: \"+e,e,[c]))}n&&(useInteractive=!0),this.depMaps.push(r),l.completeLoad(i),s([i],o)}),void e.load(u.name,s,o,g))})),l.enable(e,this),this.pluginMaps[e.id]=e},enable:function(){(f[this.map.id]=this).enabled=!0,this.enabling=!0,each(this.depMaps,bind(this,function(e,t){var i,r,n;if(\"string\"==typeof e){if(e=S(e,this.map.isDefine?this.map:this.map.parentMap,!1,!this.skipMap),this.depMaps[t]=e,n=getOwn(c,e.id))return void(this.depExports[t]=n(this));this.depCount+=1,M(e,\"defined\",bind(this,function(e){this.undefed||(this.defineDep(t,e),this.check())})),this.errback?M(e,\"error\",bind(this,this.errback)):this.events.error&&M(e,\"error\",bind(this,function(e){this.emit(\"error\",e)}))}i=e.id,r=p[i],hasProp(c,i)||!r||r.enabled||l.enable(e,this)})),eachProp(this.pluginMaps,bind(this,function(e){var t=getOwn(p,e.id);t&&!t.enabled&&l.enable(e,this)})),this.enabling=!1,this.check()},on:function(e,t){var i=this.events[e];i||(i=this.events[e]=[]),i.push(t)},emit:function(e,t){each(this.events[e],function(e){e(t)}),\"error\"===e&&delete this.events[e]}},(l={config:g,contextName:u,registry:p,defined:m,urlFetched:n,defQueue:h,defQueueMap:{},Module:e,makeModuleMap:S,nextTick:req.nextTick,onError:O,configure:function(e){if(e.baseUrl&&\"/\"!==e.baseUrl.charAt(e.baseUrl.length-1)&&(e.baseUrl+=\"/\"),\"string\"==typeof e.urlArgs){var i=e.urlArgs;e.urlArgs=function(e,t){return(-1===t.indexOf(\"?\")?\"?\":\"&\")+i}}var r=g.shim,n={paths:!0,bundles:!0,config:!0,map:!0};eachProp(e,function(e,t){n[t]?(g[t]||(g[t]={}),mixin(g[t],e,!0,!0)):g[t]=e}),e.bundles&&eachProp(e.bundles,function(e,t){each(e,function(e){e!==t&&(v[e]=t)})}),e.shim&&(eachProp(e.shim,function(e,t){isArray(e)&&(e={deps:e}),!e.exports&&!e.init||e.exportsFn||(e.exportsFn=l.makeShimExports(e)),r[t]=e}),g.shim=r),e.packages&&each(e.packages,function(e){var t;t=(e=\"string\"==typeof e?{name:e}:e).name,e.location&&(g.paths[t]=e.location),g.pkgs[t]=e.name+\"/\"+(e.main||\"main\").replace(currDirRegExp,\"\").replace(jsSuffixRegExp,\"\")}),eachProp(p,function(e,t){e.inited||e.map.unnormalized||(e.map=S(t,null,!0))}),(e.deps||e.callback)&&l.require(e.deps||[],e.callback)},makeShimExports:function(t){return function(){var e;return t.init&&(e=t.init.apply(global,arguments)),e||t.exports&&getGlobal(t.exports)}},makeRequire:function(o,a){function s(e,t,i){var r,n;return a.enableBuildCallback&&t&&isFunction(t)&&(t.__requireJsBuild=!0),\"string\"==typeof e?isFunction(t)?O(makeError(\"requireargs\",\"Invalid require call\"),i):o&&hasProp(c,e)?c[e](p[o.id]):req.get?req.get(l,e,o,s):(r=S(e,o,!1,!0).id,hasProp(m,r)?m[r]:O(makeError(\"notloaded\",'Module name \"'+r+'\" has not been loaded yet for context: '+u+(o?\"\":\". Use require([])\")))):(T(),l.nextTick(function(){T(),(n=k(S(null,o))).skipMap=a.skipMap,n.init(e,t,i,{enabled:!0}),R()}),s)}return a=a||{},mixin(s,{isBrowser:isBrowser,toUrl:function(e){var t,i=e.lastIndexOf(\".\"),r=e.split(\"/\")[0];return-1!==i&&(!(\".\"===r||\"..\"===r)||1<i)&&(t=e.substring(i,e.length),e=e.substring(0,i)),l.nameToUrl(q(e,o&&o.id,!0),t,!0)},defined:function(e){return hasProp(m,S(e,o,!1,!0).id)},specified:function(e){return e=S(e,o,!1,!0).id,hasProp(m,e)||hasProp(p,e)}}),o||(s.undef=function(i){j();var e=S(i,o,!0),t=getOwn(p,i);t.undefed=!0,E(i),delete m[i],delete n[e.url],delete r[i],eachReverse(h,function(e,t){e[0]===i&&h.splice(t,1)}),delete l.defQueueMap[i],t&&(t.events.defined&&(r[i]=t.events),P(i))}),s},enable:function(e){getOwn(p,e.id)&&k(e).enable()},completeLoad:function(e){var t,i,r,n=getOwn(g.shim,e)||{},o=n.exports;for(j();h.length;){if(null===(i=h.shift())[0]){if(i[0]=e,t)break;t=!0}else i[0]===e&&(t=!0);a(i)}if(l.defQueueMap={},r=getOwn(p,e),!t&&!hasProp(m,e)&&r&&!r.inited){if(!(!g.enforceDefine||o&&getGlobal(o)))return w(e)?void 0:O(makeError(\"nodefine\",\"No define call for \"+e,null,[e]));a([e,n.deps||[],n.exportsFn])}R()},nameToUrl:function(e,t,i){var r,n,o,a,s,u,c=getOwn(g.pkgs,e);if(c&&(e=c),u=getOwn(v,e))return l.nameToUrl(u,t,i);if(req.jsExtRegExp.test(e))a=e+(t||\"\");else{for(r=g.paths,o=(n=e.split(\"/\")).length;0<o;o-=1)if(s=getOwn(r,n.slice(0,o).join(\"/\"))){isArray(s)&&(s=s[0]),n.splice(0,o,s);break}a=n.join(\"/\"),a=(\"/\"===(a+=t||(/^data\\:|^blob\\:|\\?/.test(a)||i?\"\":\".js\")).charAt(0)||a.match(/^[\\w\\+\\.\\-]+:/)?\"\":g.baseUrl)+a}return g.urlArgs&&!/^blob\\:/.test(a)?a+g.urlArgs(e,a):a},load:function(e,t){req.load(l,e,t)},execCb:function(e,t,i,r){return t.apply(r,i)},onScriptLoad:function(e){if(\"load\"===e.type||readyRegExp.test((e.currentTarget||e.srcElement).readyState)){interactiveScript=null;var t=s(e);l.completeLoad(t.id)}},onScriptError:function(e){var i=s(e);if(!w(i.id)){var r=[];return eachProp(p,function(e,t){0!==t.indexOf(\"_@r\")&&each(e.depMaps,function(e){if(e.id===i.id)return r.push(t),!0})}),O(makeError(\"scripterror\",'Script error for \"'+i.id+(r.length?'\", needed by: '+r.join(\", \"):'\"'),e,[i.id]))}}}).require=l.makeRequire(),l}function getInteractiveScript(){return interactiveScript&&\"interactive\"===interactiveScript.readyState||eachReverse(scripts(),function(e){if(\"interactive\"===e.readyState)return interactiveScript=e}),interactiveScript}}(this,\"undefined\"==typeof setTimeout?void 0:setTimeout);</script>\n",
       "<script type='text/javascript'>\n",
       "require.config({\n",
       "paths: {'plotly': \"https://cdn.plot.ly/plotly-latest.min\"},\n",
       "})\n",
       "require( ['plotly'], function(Plotly) {\n",
       "window.Plotly = Plotly;\n",
       "})\n",
       "</script>\n"
      ]
     },
     "metadata": {},
     "output_type": "display_data"
    },
    {
     "data": {
      "text/plain": [
       "\u001b[32mimport \u001b[39m\u001b[36mpicta.charts.Html.init_notebook_mode // required to initialize jupyter notebook mode\n",
       "\u001b[39m"
      ]
     },
     "execution_count": 3,
     "metadata": {},
     "output_type": "execute_result"
    }
   ],
   "source": [
    "import picta.charts.Html.init_notebook_mode // required to initialize jupyter notebook mode\n",
    "init_notebook_mode() // stops ugly output"
   ]
  },
  {
   "cell_type": "markdown",
   "metadata": {},
   "source": [
    "# 1. Basics\n",
    "\n",
    "The aim of the Picta library is to be a highly configurable and composable general purpose charting library. The following examples are aimed at highlighting the charting grammar for the library, which should make constructing charts easy and intuitive.\n",
    "\n",
    "The following examples demonstrate how colors and lines can be composed. These principles will then be generalized to creating charts. "
   ]
  },
  {
   "cell_type": "markdown",
   "metadata": {},
   "source": [
    "#### Colors\n",
    "\n",
    "Colors in the library are represented as one of two types:\n",
    "\n",
    "1. `List[String]` => this may either be a color word, such as \"red\", or RGB value, such as \"rgb(255, 255, 255, 1)\".\n",
    "2. `List[Double]`"
   ]
  },
  {
   "cell_type": "markdown",
   "metadata": {},
   "source": [
    "#### Lines\n",
    "\n",
    "Lines are perhaps the simplest chart component. The constructor takes in the following arguments:\n",
    "\n",
    "1. `width: Double`\n",
    "2. `color: List[Double] or List[String] or String`\n",
    "\n",
    "They may be composed as follows:"
   ]
  },
  {
   "cell_type": "code",
   "execution_count": 4,
   "metadata": {},
   "outputs": [
    {
     "name": "stdout",
     "output_type": "stream",
     "text": [
      "Line(0.5,Opt(Some(List(rgb(255, 255, 255, 1)))))\n"
     ]
    }
   ],
   "source": [
    "// import the line constructor\n",
    "import picta.options.Line \n",
    "\n",
    "// the default constructor for Line has a width of 0.5. Here we are just specifiying the color.\n",
    "val line = Line() setColor \"rgb(255, 255, 255, 1)\" \n",
    "\n",
    "// lines do not render on their own. Rather they contruct other elements that can be rendered.\n",
    "println(line)"
   ]
  },
  {
   "cell_type": "markdown",
   "metadata": {},
   "source": [
    "#### Markers\n",
    "\n",
    "Markers take in the following optional parameters:\n",
    "\n",
    "1. `symbol: String`\n",
    "2. `color: List[String] or List[Double]`\n",
    "3. `line: Line`\n",
    "\n",
    "Again, composition of a line follows a similar pattern. Here we create a `circle` marker, with the color `red` and a `line` of width 0.5:"
   ]
  },
  {
   "cell_type": "code",
   "execution_count": 5,
   "metadata": {},
   "outputs": [
    {
     "name": "stdout",
     "output_type": "stream",
     "text": [
      "Marker(Opt(Some(circle)),Opt(Some(List(red))),Opt(Some(Line(0.5,Opt(None)))))\n"
     ]
    }
   ],
   "source": [
    "import picta.options.Marker\n",
    "\n",
    "val marker = Marker() setSymbol \"circle\" setColor \"red\" setLine Line()\n",
    "\n",
    "// markers to do not render on their own like Lines, but can be used to create other elements as we will see below\n",
    "println(marker)"
   ]
  },
  {
   "cell_type": "markdown",
   "metadata": {},
   "source": [
    "### [TO BE CONTINUED.....]"
   ]
  },
  {
   "cell_type": "markdown",
   "metadata": {},
   "source": [
    "## Chart compositions\n",
    "\n",
    "Charts consist of 3 key components:\n",
    "\n",
    "1. `Series`\n",
    "2. `Layout`\n",
    "3. `Config`\n",
    "\n",
    "Generally, most of the compositions make use of `Sata` and `Layout` components, and use the default `Config`."
   ]
  },
  {
   "cell_type": "markdown",
   "metadata": {},
   "source": [
    "#### Scatter Charts and Line Charts"
   ]
  },
  {
   "cell_type": "code",
   "execution_count": 6,
   "metadata": {},
   "outputs": [],
   "source": [
    "// lets create some dummy data for x and y variables\n",
    "val x = List.range(1, 50)\n",
    "val y = x.map(x => x + scala.util.Random.nextDouble()*100)"
   ]
  },
  {
   "cell_type": "code",
   "execution_count": 7,
   "metadata": {},
   "outputs": [],
   "source": [
    "import picta.series.XY\n",
    "import picta.series.XYChart._\n",
    "import picta.series.Mode._\n",
    "import picta.common.OptionWrapper._\n",
    "\n",
    "// the two data series are then wrapped inside \n",
    "val data = XY(x, y, series_name=\"test\", series_type=SCATTER, series_mode=MARKERS)"
   ]
  },
  {
   "cell_type": "code",
   "execution_count": 8,
   "metadata": {},
   "outputs": [],
   "source": [
    "import picta.options.{Layout, Config}\n",
    "\n",
    "// The layout is a composable object which determines how the chart is displayed\n",
    "val layout = Layout(title=\"Chart\")\n",
    "// the configuration option allows us to set whether the chart is responsible and zoomable using scroll\n",
    "val config = Config(responsive=false, scrollZoom=true)"
   ]
  },
  {
   "cell_type": "markdown",
   "metadata": {},
   "source": [
    "Picta's grammar is implemented as DSL. Using the set commands, the various options for a chart may be specified:"
   ]
  },
  {
   "cell_type": "code",
   "execution_count": 9,
   "metadata": {},
   "outputs": [
    {
     "data": {
      "text/html": [
       "\n",
       "<div align=\"center\">\n",
       "<div id='graph_26551ba579a9b4' class='graph'></div>\n",
       "</div>\n",
       "<script>\n",
       " var traces_26551ba579a9b4 = [{\"name\":\"test\",\"type\":\"scatter\",\"mode\":\"markers\",\"x\":[1,2,3,4,5,6,7,8,9,10,11,12,13,14,15,16,17,18,19,20,21,22,23,24,25,26,27,28,29,30,31,32,33,34,35,36,37,38,39,40,41,42,43,44,45,46,47,48,49],\"y\":[94.8901805134173,38.221697550975016,27.813744626606017,29.595640067767945,15.29547967403186,74.89811291262167,32.0275716720343,75.66928179123855,86.13349202447674,10.730594315371569,63.37459874228896,51.25301092632695,55.68792378099185,40.343015244517616,26.449962929647562,19.276178800546703,38.352538798925934,36.78854405258565,27.234173322259608,101.67830557776732,44.77835317908671,87.55013163868301,58.12564115731415,84.83994925504618,98.9193285829235,115.09041515061313,107.19623464047318,79.41927153137539,46.239905506631345,43.660653108450894,47.73985404439547,61.001174523817824,127.3671891433212,76.1290494608979,129.5159298402559,127.829089424686,77.11516129498825,87.2646306924486,124.0469332005849,112.377918072237,110.07783330365699,123.21363818450966,72.91087905468768,74.63976334803534,70.88273245029795,120.83109819015598,50.17692150022917,86.73248267940573,59.71573484704431]}];\n",
       " var layout_26551ba579a9b4 = {\"height\":550,\"width\":600,\"title\":{\"text\":\"Chart\"},\"showlegend\":false};\n",
       " var config_26551ba579a9b4 = {\"responsive\":false,\"scrollZoom\":true,\"displaylogo\":false};\n",
       " Plotly.newPlot(\"graph_26551ba579a9b4\", traces_26551ba579a9b4, layout_26551ba579a9b4, config_26551ba579a9b4);\n",
       "</script>\n"
      ]
     },
     "metadata": {},
     "output_type": "display_data"
    }
   ],
   "source": [
    "import picta.charts.Chart\n",
    "\n",
    "val chart = Chart() setData data setLayout layout setConfig config\n",
    "\n",
    "chart.plot_inline()"
   ]
  },
  {
   "cell_type": "markdown",
   "metadata": {},
   "source": [
    "#### Adding Additional Traces to a Chart\n",
    "\n",
    "We can compose an existing chart with more data series using the same composition technique as shown above for other components:"
   ]
  },
  {
   "cell_type": "code",
   "execution_count": 10,
   "metadata": {},
   "outputs": [
    {
     "data": {
      "text/html": [
       "\n",
       "<div align=\"center\">\n",
       "<div id='graph_3a832c656124eb' class='graph'></div>\n",
       "</div>\n",
       "<script>\n",
       " var traces_3a832c656124eb = [{\"name\":\"data1\",\"type\":\"bar\",\"x\":[1,2,3,4,5,6,7,8,9,10,11,12,13,14,15,16,17,18,19,20,21,22,23,24,25,26,27,28,29,30,31,32,33,34,35,36,37,38,39,40,41,42,43,44,45,46,47,48,49],\"y\":[169.97131850728687,65.18582820927723,66.61804787621256,68.46833823545049,49.19076620393201,147.45871904319614,51.22362047699869,132.532218730256,105.81231485082951,49.35265696864844,70.81042722033119,68.23709554937932,108.76897599496255,63.019113892420435,49.32923859455317,26.583620718558137,50.04863575987456,129.27893957478625,93.90589819471866,146.33573427574956,58.81497646564513,107.37018767302058,110.32267751282373,149.27822132408568,100.34303735565605,175.72184226835412,202.48720494130825,162.47490180980134,131.60169897147102,96.76734387325794,137.9752382756379,127.20152996747103,144.8856687437809,133.69464552260965,224.42869313203545,137.23523696352444,146.71987909278823,168.16232958712203,160.53579770685076,138.44027049101726,191.32950775970448,135.39417977784186,100.51545691098217,117.09749490487138,116.28913196522346,166.6973084092461,102.47325609579659,106.1830202488535,112.53487652428802]},{\"name\":\"test\",\"type\":\"scatter\",\"mode\":\"markers\",\"x\":[1,2,3,4,5,6,7,8,9,10,11,12,13,14,15,16,17,18,19,20,21,22,23,24,25,26,27,28,29,30,31,32,33,34,35,36,37,38,39,40,41,42,43,44,45,46,47,48,49],\"y\":[94.8901805134173,38.221697550975016,27.813744626606017,29.595640067767945,15.29547967403186,74.89811291262167,32.0275716720343,75.66928179123855,86.13349202447674,10.730594315371569,63.37459874228896,51.25301092632695,55.68792378099185,40.343015244517616,26.449962929647562,19.276178800546703,38.352538798925934,36.78854405258565,27.234173322259608,101.67830557776732,44.77835317908671,87.55013163868301,58.12564115731415,84.83994925504618,98.9193285829235,115.09041515061313,107.19623464047318,79.41927153137539,46.239905506631345,43.660653108450894,47.73985404439547,61.001174523817824,127.3671891433212,76.1290494608979,129.5159298402559,127.829089424686,77.11516129498825,87.2646306924486,124.0469332005849,112.377918072237,110.07783330365699,123.21363818450966,72.91087905468768,74.63976334803534,70.88273245029795,120.83109819015598,50.17692150022917,86.73248267940573,59.71573484704431]}];\n",
       " var layout_3a832c656124eb = {\"height\":550,\"width\":600,\"title\":{\"text\":\"Chart\"},\"showlegend\":false};\n",
       " var config_3a832c656124eb = {\"responsive\":false,\"scrollZoom\":true,\"displaylogo\":false};\n",
       " Plotly.newPlot(\"graph_3a832c656124eb\", traces_3a832c656124eb, layout_3a832c656124eb, config_3a832c656124eb);\n",
       "</script>\n"
      ]
     },
     "metadata": {},
     "output_type": "display_data"
    }
   ],
   "source": [
    "// additional traces can simply be composed with an existing chart and added on\n",
    "val data1 = XY(x, y.map(x => x + scala.util.Random.nextDouble()*100), series_name=\"data1\", series_type=BAR)\n",
    "\n",
    "val chart1 = chart setData data1\n",
    "chart1.plot_inline()"
   ]
  },
  {
   "cell_type": "markdown",
   "metadata": {},
   "source": [
    "#### Pie Chart"
   ]
  },
  {
   "cell_type": "code",
   "execution_count": 11,
   "metadata": {},
   "outputs": [
    {
     "data": {
      "text/html": [
       "\n",
       "<div align=\"center\">\n",
       "<div id='graph_76d221ec3fdae8' class='graph'></div>\n",
       "</div>\n",
       "<script>\n",
       " var traces_76d221ec3fdae8 = [{\"name\":\"20fdc57\",\"type\":\"pie\",\"values\":[19,26,55],\"labels\":[\"Residential\",\"Non-Residential\",\"Utility\"]}];\n",
       " var layout_76d221ec3fdae8 = {\"height\":550,\"width\":600,\"title\":{\"text\":\"Pie Chart\"},\"showlegend\":false};\n",
       " var config_76d221ec3fdae8 = {\"responsive\":false,\"scrollZoom\":true,\"displaylogo\":false};\n",
       " Plotly.newPlot(\"graph_76d221ec3fdae8\", traces_76d221ec3fdae8, layout_76d221ec3fdae8, config_76d221ec3fdae8);\n",
       "</script>\n"
      ]
     },
     "metadata": {},
     "output_type": "display_data"
    }
   ],
   "source": [
    "// pie charts can be composed in a similar way:\n",
    "val data = XY(List(19, 26, 55), List(\"Residential\", \"Non-Residential\", \"Utility\"), series_type=PIE)\n",
    "\n",
    "val layout = Layout(\"Pie Chart\")\n",
    "\n",
    "val chart = Chart() setData data setLayout layout setConfig config\n",
    "\n",
    "chart.plot_inline()"
   ]
  },
  {
   "cell_type": "markdown",
   "metadata": {},
   "source": [
    "#### Setting Axes\n",
    "\n",
    "For all charts, each axis can be composed invidiually. The following is an example for a `Histogram` chart:"
   ]
  },
  {
   "cell_type": "code",
   "execution_count": 12,
   "metadata": {},
   "outputs": [],
   "source": [
    "val x = List.range(1, 1000).map(_+scala.util.Random.nextDouble()*1000)\n",
    "\n",
    "val data = XY(x=x, series_type=HISTOGRAM)"
   ]
  },
  {
   "cell_type": "code",
   "execution_count": 13,
   "metadata": {},
   "outputs": [
    {
     "data": {
      "text/html": [
       "\n",
       "<div align=\"center\">\n",
       "<div id='graph_a63bb80e42adc3' class='graph'></div>\n",
       "</div>\n",
       "<script>\n",
       " var traces_a63bb80e42adc3 = [{\"name\":\"a4717f0\",\"type\":\"histogram\",\"x\":[843.5074026214803,409.27756047737427,563.0474945455741,102.71002802904339,923.9789622011793,29.033840685599216,818.0188309536678,780.9133856649307,221.70859838256928,288.4879041385959,85.32291666797674,524.4013854193714,423.3237338027549,46.79482713430015,42.89442730166347,243.8139172398247,780.0598459605611,1013.4439373302548,351.35134138762237,89.49209311025007,157.47993620128818,188.18013895252147,481.73189078775465,308.09275590264696,350.6177858340714,655.2848956203648,911.6371007531915,899.4397186970497,29.931929662083107,488.4727327737401,112.29407037031677,78.40283983473515,86.77770089699897,371.2926792632246,355.50217923951317,723.3542950263313,206.67479030986942,292.8058189345088,132.11774632330616,575.7586697065883,214.46841061046158,339.4439721161466,892.6796582404896,944.711714562928,107.55206804524337,171.33646538757404,895.9726746700834,65.75014563777044,721.6407114847202,245.02546273618228,182.77102301543374,65.01302401607573,658.1527623863278,224.3726654926393,79.69995006470572,687.8426032492396,443.0805217483626,307.5932198090111,182.09841637161145,565.1707393633069,884.2983332288627,390.73541543790077,464.96104148702716,811.5446327454492,247.57792158963238,86.55766521763003,1027.4832996200964,175.40337964190803,181.151625225672,622.6368143289643,989.4287098316197,795.2247620493871,284.48338838820825,553.6751298477816,226.48246352669625,854.4196153181342,838.978425921168,1040.3554868291135,956.9510947016262,1073.3584314657057,496.68264929031665,170.7276068011147,673.6129764549286,1028.6733711650138,657.5930818564242,429.9907809717925,552.2201571358166,747.9861993340755,857.0210258623873,960.6714859473383,262.0969155652601,892.4705865549427,731.5196601902805,697.5766461484989,1054.4758028328647,110.16485201707896,1035.2088943418144,810.5370260473934,110.65769923558257,819.7097107053779,737.8994020491731,142.83678545398718,394.77690985401495,767.1922608272242,452.23927778106065,494.3594154341301,674.8986206979808,188.03650912396142,309.17623082263924,665.8619501390716,951.370399103645,301.38750277520734,929.3489179321867,154.42282730522572,262.79537870502503,166.1946701955166,322.59126278286567,269.991216222086,727.6898621415368,636.2073634154829,388.5540294325587,229.09881980373137,723.83343618864,265.35354066588627,188.5176883644536,474.1776565238794,307.51472816416606,535.4805375055948,311.79204688591034,1065.5600622578895,331.3218611637534,705.1941436889329,469.6670534391624,498.1205089477222,231.82129844431307,911.5407873163606,915.7005748500983,705.6509389212846,1127.4144882903547,895.5347113341167,413.19873360489555,333.4445746439652,691.8570249470723,868.0402476494882,249.06478427049626,583.1960786401958,250.36998829094446,584.2771012878122,227.76308693130673,1064.2081347675467,682.9691006412437,653.2241001468183,669.9644728209498,1121.028160623538,1013.581869901516,472.45506887545815,187.51026444580685,1050.020901779148,1013.7187605759259,949.447977311123,409.65217425226945,466.01612669864517,755.9097854862159,347.1661888207956,895.0954096715075,835.0529140184849,814.8124133953589,174.71934117439554,180.19339264915075,850.3752321846705,732.8434108629842,1033.1678688780646,285.7117124108222,896.215971456919,442.38095020777007,722.043995867888,1032.9003243437585,317.5399838104704,568.0299649965134,713.9196297330267,204.18260687980433,593.7985288084604,920.1383877341751,312.3589715792491,924.5903594537004,800.8814787651322,1034.6969008761523,422.85208585810403,637.144348418945,937.835532147637,314.9513640162431,886.8330807120499,698.7003309118568,793.5500070434995,1186.5007363775435,755.6443770344046,932.3499981151891,1033.4943461812936,690.3502189260801,714.3165997998886,438.2882276388828,1097.7245578347233,1107.33342976575,1104.291178129923,587.1263699358585,318.75808695945256,532.5134683296862,639.7208340979785,397.9532428683062,391.55029328187123,799.6176784205943,963.74044825082,438.0150069621434,957.6874550182272,793.2565457079722,649.109353680535,971.7054346907792,602.0451609740433,980.6219568460974,1111.8831735149347,333.62861466298114,1002.5425998067592,944.5561805028327,1177.2816952197713,403.8165478302409,322.25719278676536,806.3270972278348,713.6765998405663,622.7538464336276,1188.0459390278206,689.1418606868699,833.6312065161084,1199.6828639366195,760.9532367490174,792.3752211495172,650.181785316584,1039.7321003077427,471.06741158998204,1221.685100623753,472.05789501063487,443.7316368584085,963.1210644334359,451.6324755553238,623.2971846137323,819.1493636283244,679.0134081759567,1185.1184609067077,780.7177710849065,481.40213664193755,289.5652801730838,417.8968360547134,836.9690577502973,1121.8663548043774,880.2004036396064,716.6149592857314,817.3898528529259,672.2327320608072,393.87919066816414,1075.2821698859198,305.66033371560883,1104.4202746101384,339.49484071002075,1227.7594691937452,1166.2421667882008,1171.085072675206,1185.072964428523,962.8097247773084,1090.8590267383481,1213.8293341973554,1172.5003562703826,813.4432888746582,641.7777246262049,944.536882180967,514.140083153126,473.73854149660696,1016.4073067119169,539.831469134986,1061.5735793150652,434.0130529404604,715.7422355682338,479.4743420916984,572.8429434835755,619.1656806557021,663.4328058515744,306.5883246904325,646.9497483148662,1265.2053258225174,1092.774184049693,890.915421051648,1242.9988885265345,875.4280074301769,695.663091732243,835.8857652044835,456.25962296298525,860.3980861970814,1110.5790395493912,386.0955088022507,884.5480416721872,384.83619379328246,815.9047770229834,563.8622982478832,485.7185133485537,1019.7102704868386,890.4085490778386,1291.8464046262136,1300.6841252460526,1029.272704275259,904.4683674303909,943.2966589611193,796.2691772018072,510.4808899923136,413.6264988415182,1102.3001608531172,868.3295247625745,1146.184655815699,1140.320161704723,1313.4854460764477,737.9593412024838,1033.6586140834693,950.142096886801,1253.948630084712,1072.2357589660587,906.5031314553524,1155.7425659913297,1069.7426734219393,665.8355001379902,1080.6333414559008,514.4923557698944,585.0904625930509,930.990772889578,624.0197564786822,525.2837415004243,714.5518974385643,1260.63401067324,575.0408977511217,1275.3546047047553,686.6965143083427,1053.2142811726376,515.7522434134352,1139.7783128562191,622.4025982455858,817.5508280449035,444.0721207750254,1094.2703984766422,601.7247934514788,1312.2220796793217,682.8299305653793,1266.219899636266,600.3417653579228,1116.3710738053223,513.817613175044,619.3621984424045,579.916599132114,377.4412753640354,1331.4305362067323,1344.2670569009986,576.2722091285589,736.2397605770922,373.1793418537047,609.8238768383424,845.1047340980942,590.8567936330129,503.2994287679101,820.1638119074094,997.0284670632734,928.3547948883386,1100.8804012320122,416.9664271673134,582.0651245821442,926.7711951050968,835.3827171075143,568.8558985191185,768.2621166534127,409.86375541304096,1000.1042761025413,797.6002075574077,599.9433180274787,1023.1586304065335,1118.1053047479884,705.0840627712842,818.1671478071397,692.2452920149531,735.2944816014201,485.53458577380246,1379.2867520539926,522.8942123946529,671.8253090094114,834.2357869717697,617.0770351615297,807.4569334921127,515.6464599314705,1196.9769013719842,459.71439210656285,1213.14031244801,810.995832466669,1043.7363364104394,1234.9646029402022,545.1299780571389,1219.8223058918788,995.6112336943427,1375.2547429058286,701.1705461277933,915.5657186304647,1185.7608560376113,768.8760171650539,564.0931426915987,606.4200294833125,1193.1388390442557,594.3834958668556,614.9133944323362,879.1501377163834,1252.0483839306326,1222.3301394478133,991.506159499703,1004.7285013385597,1211.0611257192843,1171.7923167949502,566.4959055745708,953.502492841436,891.5991289299961,1168.7142716961775,1372.884227789814,1130.2991857505813,1079.4866204556631,1068.9196411432567,1367.069416053675,1258.8190066023608,1372.03640825519,780.7079804456691,1086.295083703727,919.8660678183717,498.7431451429894,1350.2751376035962,1231.1982053373354,479.4067854711139,535.414301909049,1057.765903492103,584.0095439681454,530.1450657470324,639.5763071840131,712.5886402599593,959.0922257137499,514.2471019414334,549.2524420325458,1333.690758149222,1074.8869652133476,895.0438505347183,1107.715768227589,1053.8152622301693,1334.9655592372733,1101.985027138039,503.57898656821055,1396.3281914138731,510.77678090727,485.81381856827403,748.5903871991121,1039.0275431791933,1229.8015123588289,689.8762523020982,1154.763232647017,801.4142219767039,990.2174604924517,1168.6751021073187,1217.9735309931434,870.2261573651081,1146.8055754818974,1066.2230886812893,1366.9190308156349,1212.6069367124908,942.714015521167,1304.4458639896977,494.3399244240312,717.1003400749962,1197.827821136881,525.8301042584811,1051.6601500450802,849.7333480502764,706.8753750244504,484.70751404669954,758.7149379184608,515.7691046263664,749.035677442004,588.0113644956208,656.989119716116,1377.2830674068423,1365.692970977172,549.0364751627633,1317.7980496241894,1092.5349367825957,1224.1184642790408,536.6799515936839,506.1004675544333,815.179574423825,952.2415059175854,777.834382337239,496.14138786947836,819.6806885806985,803.3049641281561,1302.0513643668298,536.8797828534165,1303.8606850379406,1389.0835490573068,1405.287543848603,673.1646361620639,1260.3413509693391,1006.4750797140189,1453.4919128158726,1242.8799337394607,805.6993483019103,774.6588509837634,846.9870188874622,890.7876909499157,1509.4816880257165,1398.6472005847663,1323.0434040254054,866.555413332223,1074.7960248082654,879.9397178172646,1286.7407144534627,707.4622425739169,1188.011181181234,906.1220700056584,529.1552856237512,1145.5364192262607,1477.1738585900112,968.6340129275666,1517.108446100499,1224.3835131725232,1297.067228971686,1481.5648860477072,1420.1556551887907,1162.72366349818,1493.4079773067128,1304.2164192669297,1178.1916111944975,1459.663374122597,1389.4983264133546,1106.3064804071828,1206.9921453766447,1100.9850929826528,985.7201102382452,957.0698657006645,789.2083075094719,1496.246233238667,765.578013058549,1368.1449437578383,804.7742943219357,953.2361801230991,561.5697471360571,775.0179068543596,1217.385463869723,1079.3487727537786,649.9809785558646,1102.9291893722611,652.6482099209369,1488.6844947538152,615.7731839163822,630.5294904722077,1478.6990615330485,589.2049655570894,1557.0529268819732,838.205309724131,1031.5351300957466,1026.0203288780544,883.1816558935122,1307.8773413898798,1014.9938416594848,1564.8973240515018,1301.4047610557745,1027.2072252583812,649.2649931246015,814.3341667552245,583.9497331742066,643.5312843576551,842.0134509005666,1205.0560102721665,1360.8629800743688,1311.4729196252883,1512.6362252556987,1072.5425115913927,1493.4254098793508,783.067533651579,1212.872770630923,1521.2068137832125,1548.8072447624436,1300.3672762777533,1355.9331204599575,988.1033752363187,1518.6928457471058,667.8754430717115,691.5031210868709,1069.5492758162463,1202.9262815682268,605.7929969923154,1145.431937583704,1225.8023833876641,613.7993929493309,1114.9429454309156,780.6020188785978,1436.9462716417843,1347.4236546923003,1120.3706991695456,1429.4270227014877,747.3911081794031,1115.6978890272694,1103.0016163396995,1498.6185889225333,906.9062178784502,1535.704374416745,777.3695160121689,1553.3082085898786,992.858588105662,832.9354240951827,1128.313090579467,1550.3056759611438,981.3393135886496,1330.5738049656952,1280.6694976022377,1009.2207320672337,724.1174161890177,1469.120032604498,743.3777584191058,985.3704049172657,683.868825403361,628.9799217211581,1543.0368911065495,1439.8389732743417,1081.8856320159598,1213.1965401689022,641.8469858795315,1489.7538701717624,820.4788925799795,1288.3303885757482,820.9937545938202,1065.7850713764185,656.5457761968074,1578.562576158688,902.9203748969817,704.0716210552321,1623.2799888957256,761.4154679932994,784.5629752422246,1556.2239815316902,1623.7619926954972,823.0562433351058,1258.5089572123916,1213.7459589186792,1453.173256510231,696.9683165153889,1010.1701687725617,1612.165915848321,1245.6369622696275,1531.8467756079938,1496.4459049928723,1105.361437402394,1487.1950796678152,712.8935516248615,1634.9833148188159,782.007710823181,1288.189485410951,1195.2588928764792,1363.025719067845,1233.7747228289866,1566.323091021321,799.195575649168,1160.9719701498198,1278.843952225506,1155.934073343602,863.5629365446606,1578.1533809283087,1594.5101243834306,1629.5247474800262,1057.637997100017,1646.9666089799894,819.0796904915862,794.3439689672849,1210.7612637040652,826.3846007351427,1445.9720031601291,1409.830003639623,735.1650614374553,776.9999695357371,751.8754211313412,1660.9786508289044,1589.402618496345,837.1383420111226,1076.0052728823061,1318.208988728787,758.1166030182244,1543.211380798627,998.9559918495665,1316.0571451523106,908.4555472438699,917.363135242161,1357.3354323417425,1691.0362523832323,1224.2678399984413,1531.595017269307,1574.3143418507073,1433.2583703730033,1416.2721809809123,1549.938040687481,1486.4191262973154,826.9225224346695,1559.7248757499415,1048.8740764028182,1703.3418616898143,1281.529801954555,720.6734892259832,921.0898843829469,1550.2365780228129,1488.6956070807978,1297.7076532434266,1578.7814018762283,810.9157948508001,978.6856744830226,1628.187544694849,1490.1077990006152,815.5573298267434,796.3112728650335,1686.251173803687,1306.0281971618974,897.9758642954199,1067.576046069012,1634.47171653028,964.6363880749212,885.210150446866,1686.4756339745586,1581.8565851290132,1696.24192626203,1076.12059731816,1215.6078153937879,1147.95026469283,1294.8287166219197,1115.8888362148105,1364.7602493638453,1336.1230468376166,1370.1548151098214,1279.7550625638828,1088.399098385488,778.6984691555358,1549.6405137172244,942.0246531347992,1425.9910832326223,1632.3920156860681,760.3239089318247,1425.3211258427605,1698.348151719375,1274.6047143927726,788.5465888933833,1000.2571393212625,1568.6926371241557,1479.4347916673587,1288.6643002425226,1537.1414394104434,778.8980638636742,936.8414616404777,1291.9609894833673,1199.0341415992289,1079.368625239642,819.2148851772004,1053.0764902163023,1609.4084725136777,985.2785871294452,1596.6767305836574,1763.6419976284587,1127.872619447765,1512.400091452656,1455.7563072264898,1261.449267139832,1223.849805319894,972.5061153791967,1485.6570602012853,1368.363188603412,1450.8112465525442,1241.342764302543,1262.1490970193981,901.3193552626716,1192.60085246995,1651.4233969195298,1581.1933096541925,1718.131865244008,1178.5862760925856,807.4042876803792,872.7231963255882,1383.4688973741522,1745.816588549843,1173.5598754738128,1259.5806191233455,1170.2361869874255,964.0615882685406,1240.883086233487,1317.4222457363408,1147.7424491074557,1033.5530915432764,1445.594226408427,1338.4836158126286,1050.402017737907,815.4446469678866,1781.3497788736067,1305.4080769569669,1469.364242825116,961.450320098716,1224.200048163814,840.9182222764271,1664.3410271349783,871.8191872168566,1672.352623743238,1114.9276475886436,954.0372277235274,1629.7476335768065,1092.0562835144488,1062.7613534518068,1210.9710917884408,1135.5260399395002,956.428049586274,1296.473229804948,1460.1051581007403,895.1628672147577,865.803293356056,1775.8195391806253,960.5902851882394,1305.923429763764,1446.1976302175765,1646.2674429140384,1436.058886247837,1825.1665682311243,1236.7259713796864,1648.4881385809713,1311.2857785249034,1109.0578469211857,1297.3328327090994,1157.1042913890433,911.6681393587576,1064.1824063732543,1694.9453662233568,1216.0319222829523,1586.8588293699554,1767.7769556399567,859.1685011064328,903.5771501570974,1631.0200188752478,1381.2450890593586,1037.899536359188,982.5184728213903,1689.5471581002462,1506.8153644064653,1728.7467266683411,1068.7255367324178,1065.745583618187,918.6472342017248,1013.8954991875239,1486.435901906761,970.8258964661857,1237.385130277013,1184.0719844867822,1569.1313363123768,1296.7155092528099,911.106016772969,901.5130964535098,1412.0255972594587,933.5684305395777,1815.8016214491342,1422.3589863143084,985.4960884539692,1002.4863568024336,894.9811837628816,1075.6420786640706,1078.3617883013635,1628.8483745950841,1520.676483614343,1279.054569040583,1755.7305304408485,1042.7785396157524,1677.075708073174,1860.9339831294064,888.2088296543127,1860.663811896518,1643.2085950720607,1353.414554554858,1837.5875216705958,1375.2673352377922,1582.5499681925276,1223.4494750075935,1568.687567056354,1561.8653146134698,1335.1045549608714,1716.4172506134373,1297.8695963264558,1293.968024139011,1751.4811786846685,1101.2831357583455,1285.7820944273165,954.5686627726299,1108.659671543241,1626.7944315914156,1535.242723148624,1227.4965837090258,1503.5989955847717,1424.946182120002,964.7180655289019,1358.3337819198935,1633.5309725481106,930.96144638598,1093.6870203804144,1585.4871610304756,1040.7285225480164,1128.288958454775,1398.2437422909627,1759.3909758598004,1724.7332715627238,1072.6272998011457,1273.6160121549774,1391.4474473657044,1006.4723645519192,1700.744214567536,974.8453530311016,1504.1958176862058,1666.3897156205494,1887.8662429225033,997.6956884879579,1690.333319432802,1672.6624111038786,1081.672274235698,1108.927488153839,1730.593946834089,1265.767855427241,1611.4321881984233,1638.3943814470517,969.1240864705228,1772.1130926131052,947.5897547559911,1704.99036732681,1399.8768149914263,1282.1327155255592,1770.0967322276615,1764.2949059283742,1078.6791791773992,1247.2070675498555,1693.0625925683885,1237.8347131708156,1043.0099787783288,1124.948017599905,1888.7926905656736,1012.200193677427,1395.1581932192776,1433.84464446689,1656.045042713572,1280.8258493943488,1584.3149447794663,965.9566393406201,1185.3438157908695,1542.0635337084586,1209.2849371260752,1450.288336090323,1388.4456381521863,1564.2480489820705,1855.8858146596824,1659.6719612576069,1679.5622678670022,1781.7749234314815,1581.737002391215,1810.4336036856294,1022.7014563273068,1895.7804895975287,1666.0221159284479,1116.8109230930918,1392.4951115399363,1418.834472277386,1152.942109091568,1531.0370771472687,1035.1420738791448,1525.1260727775975,1534.9589543243355,1025.2002410574198,1561.600761604484,1845.9443397786804,1645.5624691698745,1252.4337187996164,1956.9240130010248,1784.824277814415,1461.1758361322622,1062.6871216277589,1047.637135067297,1517.5503808642866,1047.9482493341234,1142.2737916745784,1833.317559534565,1089.279388858679,1331.565303855272,996.5855580551564,1359.0422298758197,1924.3647493579274,1716.8417407943048,1601.8111822099609,1482.126808447155,1624.0352437883457,1838.7426515972047,1314.1894782645975]}];\n",
       " var layout_a63bb80e42adc3 = {\"height\":550,\"width\":600,\"title\":{\"text\":\"Histogram with axes\"},\"showlegend\":false,\"xaxis\":{\"title\":{\"text\":\"my x data\"},\"showgrid\":true,\"zeroline\":false,\"showline\":false},\"yaxis\":{\"title\":{\"text\":\"my y data\"},\"showgrid\":true,\"zeroline\":false,\"showline\":false}};\n",
       " var config_a63bb80e42adc3 = {\"responsive\":false,\"scrollZoom\":true,\"displaylogo\":false};\n",
       " Plotly.newPlot(\"graph_a63bb80e42adc3\", traces_a63bb80e42adc3, layout_a63bb80e42adc3, config_a63bb80e42adc3);\n",
       "</script>\n"
      ]
     },
     "metadata": {},
     "output_type": "display_data"
    }
   ],
   "source": [
    "import picta.options.Axis\n",
    "\n",
    "// axis can be set composed like any other chart component. We need to make \n",
    "val xaxis = Axis(position=\"x\", title = \"my x data\")\n",
    "val yaxis = Axis(position=\"y\", title = \"my y data\")\n",
    "\n",
    "// these are added to the layout object\n",
    "val layout = Layout(\"Histogram with axes\") setAxes(xaxis, yaxis)\n",
    "\n",
    "val chart = Chart() setData data setLayout layout setConfig config\n",
    "\n",
    "chart.plot_inline()"
   ]
  },
  {
   "cell_type": "markdown",
   "metadata": {},
   "source": [
    "#### Customizing colors for a Histogram\n",
    "\n",
    "We can use the `HistOptions` class to further specify options for a histogram. For example, if we wanted to create a horizontally positioned histogram, we can do the following:"
   ]
  },
  {
   "cell_type": "code",
   "execution_count": 14,
   "metadata": {},
   "outputs": [
    {
     "data": {
      "text/html": [
       "\n",
       "<div align=\"center\">\n",
       "<div id='graph_2921302d6fcad0' class='graph'></div>\n",
       "</div>\n",
       "<script>\n",
       " var traces_2921302d6fcad0 = [{\"name\":\"1ab0e29\",\"type\":\"histogram\",\"marker\":{\"color\":\"rgba(255, 100, 102, 0.4)\",\"line\":{\"width\":0.5}},\"y\":[843.5074026214803,409.27756047737427,563.0474945455741,102.71002802904339,923.9789622011793,29.033840685599216,818.0188309536678,780.9133856649307,221.70859838256928,288.4879041385959,85.32291666797674,524.4013854193714,423.3237338027549,46.79482713430015,42.89442730166347,243.8139172398247,780.0598459605611,1013.4439373302548,351.35134138762237,89.49209311025007,157.47993620128818,188.18013895252147,481.73189078775465,308.09275590264696,350.6177858340714,655.2848956203648,911.6371007531915,899.4397186970497,29.931929662083107,488.4727327737401,112.29407037031677,78.40283983473515,86.77770089699897,371.2926792632246,355.50217923951317,723.3542950263313,206.67479030986942,292.8058189345088,132.11774632330616,575.7586697065883,214.46841061046158,339.4439721161466,892.6796582404896,944.711714562928,107.55206804524337,171.33646538757404,895.9726746700834,65.75014563777044,721.6407114847202,245.02546273618228,182.77102301543374,65.01302401607573,658.1527623863278,224.3726654926393,79.69995006470572,687.8426032492396,443.0805217483626,307.5932198090111,182.09841637161145,565.1707393633069,884.2983332288627,390.73541543790077,464.96104148702716,811.5446327454492,247.57792158963238,86.55766521763003,1027.4832996200964,175.40337964190803,181.151625225672,622.6368143289643,989.4287098316197,795.2247620493871,284.48338838820825,553.6751298477816,226.48246352669625,854.4196153181342,838.978425921168,1040.3554868291135,956.9510947016262,1073.3584314657057,496.68264929031665,170.7276068011147,673.6129764549286,1028.6733711650138,657.5930818564242,429.9907809717925,552.2201571358166,747.9861993340755,857.0210258623873,960.6714859473383,262.0969155652601,892.4705865549427,731.5196601902805,697.5766461484989,1054.4758028328647,110.16485201707896,1035.2088943418144,810.5370260473934,110.65769923558257,819.7097107053779,737.8994020491731,142.83678545398718,394.77690985401495,767.1922608272242,452.23927778106065,494.3594154341301,674.8986206979808,188.03650912396142,309.17623082263924,665.8619501390716,951.370399103645,301.38750277520734,929.3489179321867,154.42282730522572,262.79537870502503,166.1946701955166,322.59126278286567,269.991216222086,727.6898621415368,636.2073634154829,388.5540294325587,229.09881980373137,723.83343618864,265.35354066588627,188.5176883644536,474.1776565238794,307.51472816416606,535.4805375055948,311.79204688591034,1065.5600622578895,331.3218611637534,705.1941436889329,469.6670534391624,498.1205089477222,231.82129844431307,911.5407873163606,915.7005748500983,705.6509389212846,1127.4144882903547,895.5347113341167,413.19873360489555,333.4445746439652,691.8570249470723,868.0402476494882,249.06478427049626,583.1960786401958,250.36998829094446,584.2771012878122,227.76308693130673,1064.2081347675467,682.9691006412437,653.2241001468183,669.9644728209498,1121.028160623538,1013.581869901516,472.45506887545815,187.51026444580685,1050.020901779148,1013.7187605759259,949.447977311123,409.65217425226945,466.01612669864517,755.9097854862159,347.1661888207956,895.0954096715075,835.0529140184849,814.8124133953589,174.71934117439554,180.19339264915075,850.3752321846705,732.8434108629842,1033.1678688780646,285.7117124108222,896.215971456919,442.38095020777007,722.043995867888,1032.9003243437585,317.5399838104704,568.0299649965134,713.9196297330267,204.18260687980433,593.7985288084604,920.1383877341751,312.3589715792491,924.5903594537004,800.8814787651322,1034.6969008761523,422.85208585810403,637.144348418945,937.835532147637,314.9513640162431,886.8330807120499,698.7003309118568,793.5500070434995,1186.5007363775435,755.6443770344046,932.3499981151891,1033.4943461812936,690.3502189260801,714.3165997998886,438.2882276388828,1097.7245578347233,1107.33342976575,1104.291178129923,587.1263699358585,318.75808695945256,532.5134683296862,639.7208340979785,397.9532428683062,391.55029328187123,799.6176784205943,963.74044825082,438.0150069621434,957.6874550182272,793.2565457079722,649.109353680535,971.7054346907792,602.0451609740433,980.6219568460974,1111.8831735149347,333.62861466298114,1002.5425998067592,944.5561805028327,1177.2816952197713,403.8165478302409,322.25719278676536,806.3270972278348,713.6765998405663,622.7538464336276,1188.0459390278206,689.1418606868699,833.6312065161084,1199.6828639366195,760.9532367490174,792.3752211495172,650.181785316584,1039.7321003077427,471.06741158998204,1221.685100623753,472.05789501063487,443.7316368584085,963.1210644334359,451.6324755553238,623.2971846137323,819.1493636283244,679.0134081759567,1185.1184609067077,780.7177710849065,481.40213664193755,289.5652801730838,417.8968360547134,836.9690577502973,1121.8663548043774,880.2004036396064,716.6149592857314,817.3898528529259,672.2327320608072,393.87919066816414,1075.2821698859198,305.66033371560883,1104.4202746101384,339.49484071002075,1227.7594691937452,1166.2421667882008,1171.085072675206,1185.072964428523,962.8097247773084,1090.8590267383481,1213.8293341973554,1172.5003562703826,813.4432888746582,641.7777246262049,944.536882180967,514.140083153126,473.73854149660696,1016.4073067119169,539.831469134986,1061.5735793150652,434.0130529404604,715.7422355682338,479.4743420916984,572.8429434835755,619.1656806557021,663.4328058515744,306.5883246904325,646.9497483148662,1265.2053258225174,1092.774184049693,890.915421051648,1242.9988885265345,875.4280074301769,695.663091732243,835.8857652044835,456.25962296298525,860.3980861970814,1110.5790395493912,386.0955088022507,884.5480416721872,384.83619379328246,815.9047770229834,563.8622982478832,485.7185133485537,1019.7102704868386,890.4085490778386,1291.8464046262136,1300.6841252460526,1029.272704275259,904.4683674303909,943.2966589611193,796.2691772018072,510.4808899923136,413.6264988415182,1102.3001608531172,868.3295247625745,1146.184655815699,1140.320161704723,1313.4854460764477,737.9593412024838,1033.6586140834693,950.142096886801,1253.948630084712,1072.2357589660587,906.5031314553524,1155.7425659913297,1069.7426734219393,665.8355001379902,1080.6333414559008,514.4923557698944,585.0904625930509,930.990772889578,624.0197564786822,525.2837415004243,714.5518974385643,1260.63401067324,575.0408977511217,1275.3546047047553,686.6965143083427,1053.2142811726376,515.7522434134352,1139.7783128562191,622.4025982455858,817.5508280449035,444.0721207750254,1094.2703984766422,601.7247934514788,1312.2220796793217,682.8299305653793,1266.219899636266,600.3417653579228,1116.3710738053223,513.817613175044,619.3621984424045,579.916599132114,377.4412753640354,1331.4305362067323,1344.2670569009986,576.2722091285589,736.2397605770922,373.1793418537047,609.8238768383424,845.1047340980942,590.8567936330129,503.2994287679101,820.1638119074094,997.0284670632734,928.3547948883386,1100.8804012320122,416.9664271673134,582.0651245821442,926.7711951050968,835.3827171075143,568.8558985191185,768.2621166534127,409.86375541304096,1000.1042761025413,797.6002075574077,599.9433180274787,1023.1586304065335,1118.1053047479884,705.0840627712842,818.1671478071397,692.2452920149531,735.2944816014201,485.53458577380246,1379.2867520539926,522.8942123946529,671.8253090094114,834.2357869717697,617.0770351615297,807.4569334921127,515.6464599314705,1196.9769013719842,459.71439210656285,1213.14031244801,810.995832466669,1043.7363364104394,1234.9646029402022,545.1299780571389,1219.8223058918788,995.6112336943427,1375.2547429058286,701.1705461277933,915.5657186304647,1185.7608560376113,768.8760171650539,564.0931426915987,606.4200294833125,1193.1388390442557,594.3834958668556,614.9133944323362,879.1501377163834,1252.0483839306326,1222.3301394478133,991.506159499703,1004.7285013385597,1211.0611257192843,1171.7923167949502,566.4959055745708,953.502492841436,891.5991289299961,1168.7142716961775,1372.884227789814,1130.2991857505813,1079.4866204556631,1068.9196411432567,1367.069416053675,1258.8190066023608,1372.03640825519,780.7079804456691,1086.295083703727,919.8660678183717,498.7431451429894,1350.2751376035962,1231.1982053373354,479.4067854711139,535.414301909049,1057.765903492103,584.0095439681454,530.1450657470324,639.5763071840131,712.5886402599593,959.0922257137499,514.2471019414334,549.2524420325458,1333.690758149222,1074.8869652133476,895.0438505347183,1107.715768227589,1053.8152622301693,1334.9655592372733,1101.985027138039,503.57898656821055,1396.3281914138731,510.77678090727,485.81381856827403,748.5903871991121,1039.0275431791933,1229.8015123588289,689.8762523020982,1154.763232647017,801.4142219767039,990.2174604924517,1168.6751021073187,1217.9735309931434,870.2261573651081,1146.8055754818974,1066.2230886812893,1366.9190308156349,1212.6069367124908,942.714015521167,1304.4458639896977,494.3399244240312,717.1003400749962,1197.827821136881,525.8301042584811,1051.6601500450802,849.7333480502764,706.8753750244504,484.70751404669954,758.7149379184608,515.7691046263664,749.035677442004,588.0113644956208,656.989119716116,1377.2830674068423,1365.692970977172,549.0364751627633,1317.7980496241894,1092.5349367825957,1224.1184642790408,536.6799515936839,506.1004675544333,815.179574423825,952.2415059175854,777.834382337239,496.14138786947836,819.6806885806985,803.3049641281561,1302.0513643668298,536.8797828534165,1303.8606850379406,1389.0835490573068,1405.287543848603,673.1646361620639,1260.3413509693391,1006.4750797140189,1453.4919128158726,1242.8799337394607,805.6993483019103,774.6588509837634,846.9870188874622,890.7876909499157,1509.4816880257165,1398.6472005847663,1323.0434040254054,866.555413332223,1074.7960248082654,879.9397178172646,1286.7407144534627,707.4622425739169,1188.011181181234,906.1220700056584,529.1552856237512,1145.5364192262607,1477.1738585900112,968.6340129275666,1517.108446100499,1224.3835131725232,1297.067228971686,1481.5648860477072,1420.1556551887907,1162.72366349818,1493.4079773067128,1304.2164192669297,1178.1916111944975,1459.663374122597,1389.4983264133546,1106.3064804071828,1206.9921453766447,1100.9850929826528,985.7201102382452,957.0698657006645,789.2083075094719,1496.246233238667,765.578013058549,1368.1449437578383,804.7742943219357,953.2361801230991,561.5697471360571,775.0179068543596,1217.385463869723,1079.3487727537786,649.9809785558646,1102.9291893722611,652.6482099209369,1488.6844947538152,615.7731839163822,630.5294904722077,1478.6990615330485,589.2049655570894,1557.0529268819732,838.205309724131,1031.5351300957466,1026.0203288780544,883.1816558935122,1307.8773413898798,1014.9938416594848,1564.8973240515018,1301.4047610557745,1027.2072252583812,649.2649931246015,814.3341667552245,583.9497331742066,643.5312843576551,842.0134509005666,1205.0560102721665,1360.8629800743688,1311.4729196252883,1512.6362252556987,1072.5425115913927,1493.4254098793508,783.067533651579,1212.872770630923,1521.2068137832125,1548.8072447624436,1300.3672762777533,1355.9331204599575,988.1033752363187,1518.6928457471058,667.8754430717115,691.5031210868709,1069.5492758162463,1202.9262815682268,605.7929969923154,1145.431937583704,1225.8023833876641,613.7993929493309,1114.9429454309156,780.6020188785978,1436.9462716417843,1347.4236546923003,1120.3706991695456,1429.4270227014877,747.3911081794031,1115.6978890272694,1103.0016163396995,1498.6185889225333,906.9062178784502,1535.704374416745,777.3695160121689,1553.3082085898786,992.858588105662,832.9354240951827,1128.313090579467,1550.3056759611438,981.3393135886496,1330.5738049656952,1280.6694976022377,1009.2207320672337,724.1174161890177,1469.120032604498,743.3777584191058,985.3704049172657,683.868825403361,628.9799217211581,1543.0368911065495,1439.8389732743417,1081.8856320159598,1213.1965401689022,641.8469858795315,1489.7538701717624,820.4788925799795,1288.3303885757482,820.9937545938202,1065.7850713764185,656.5457761968074,1578.562576158688,902.9203748969817,704.0716210552321,1623.2799888957256,761.4154679932994,784.5629752422246,1556.2239815316902,1623.7619926954972,823.0562433351058,1258.5089572123916,1213.7459589186792,1453.173256510231,696.9683165153889,1010.1701687725617,1612.165915848321,1245.6369622696275,1531.8467756079938,1496.4459049928723,1105.361437402394,1487.1950796678152,712.8935516248615,1634.9833148188159,782.007710823181,1288.189485410951,1195.2588928764792,1363.025719067845,1233.7747228289866,1566.323091021321,799.195575649168,1160.9719701498198,1278.843952225506,1155.934073343602,863.5629365446606,1578.1533809283087,1594.5101243834306,1629.5247474800262,1057.637997100017,1646.9666089799894,819.0796904915862,794.3439689672849,1210.7612637040652,826.3846007351427,1445.9720031601291,1409.830003639623,735.1650614374553,776.9999695357371,751.8754211313412,1660.9786508289044,1589.402618496345,837.1383420111226,1076.0052728823061,1318.208988728787,758.1166030182244,1543.211380798627,998.9559918495665,1316.0571451523106,908.4555472438699,917.363135242161,1357.3354323417425,1691.0362523832323,1224.2678399984413,1531.595017269307,1574.3143418507073,1433.2583703730033,1416.2721809809123,1549.938040687481,1486.4191262973154,826.9225224346695,1559.7248757499415,1048.8740764028182,1703.3418616898143,1281.529801954555,720.6734892259832,921.0898843829469,1550.2365780228129,1488.6956070807978,1297.7076532434266,1578.7814018762283,810.9157948508001,978.6856744830226,1628.187544694849,1490.1077990006152,815.5573298267434,796.3112728650335,1686.251173803687,1306.0281971618974,897.9758642954199,1067.576046069012,1634.47171653028,964.6363880749212,885.210150446866,1686.4756339745586,1581.8565851290132,1696.24192626203,1076.12059731816,1215.6078153937879,1147.95026469283,1294.8287166219197,1115.8888362148105,1364.7602493638453,1336.1230468376166,1370.1548151098214,1279.7550625638828,1088.399098385488,778.6984691555358,1549.6405137172244,942.0246531347992,1425.9910832326223,1632.3920156860681,760.3239089318247,1425.3211258427605,1698.348151719375,1274.6047143927726,788.5465888933833,1000.2571393212625,1568.6926371241557,1479.4347916673587,1288.6643002425226,1537.1414394104434,778.8980638636742,936.8414616404777,1291.9609894833673,1199.0341415992289,1079.368625239642,819.2148851772004,1053.0764902163023,1609.4084725136777,985.2785871294452,1596.6767305836574,1763.6419976284587,1127.872619447765,1512.400091452656,1455.7563072264898,1261.449267139832,1223.849805319894,972.5061153791967,1485.6570602012853,1368.363188603412,1450.8112465525442,1241.342764302543,1262.1490970193981,901.3193552626716,1192.60085246995,1651.4233969195298,1581.1933096541925,1718.131865244008,1178.5862760925856,807.4042876803792,872.7231963255882,1383.4688973741522,1745.816588549843,1173.5598754738128,1259.5806191233455,1170.2361869874255,964.0615882685406,1240.883086233487,1317.4222457363408,1147.7424491074557,1033.5530915432764,1445.594226408427,1338.4836158126286,1050.402017737907,815.4446469678866,1781.3497788736067,1305.4080769569669,1469.364242825116,961.450320098716,1224.200048163814,840.9182222764271,1664.3410271349783,871.8191872168566,1672.352623743238,1114.9276475886436,954.0372277235274,1629.7476335768065,1092.0562835144488,1062.7613534518068,1210.9710917884408,1135.5260399395002,956.428049586274,1296.473229804948,1460.1051581007403,895.1628672147577,865.803293356056,1775.8195391806253,960.5902851882394,1305.923429763764,1446.1976302175765,1646.2674429140384,1436.058886247837,1825.1665682311243,1236.7259713796864,1648.4881385809713,1311.2857785249034,1109.0578469211857,1297.3328327090994,1157.1042913890433,911.6681393587576,1064.1824063732543,1694.9453662233568,1216.0319222829523,1586.8588293699554,1767.7769556399567,859.1685011064328,903.5771501570974,1631.0200188752478,1381.2450890593586,1037.899536359188,982.5184728213903,1689.5471581002462,1506.8153644064653,1728.7467266683411,1068.7255367324178,1065.745583618187,918.6472342017248,1013.8954991875239,1486.435901906761,970.8258964661857,1237.385130277013,1184.0719844867822,1569.1313363123768,1296.7155092528099,911.106016772969,901.5130964535098,1412.0255972594587,933.5684305395777,1815.8016214491342,1422.3589863143084,985.4960884539692,1002.4863568024336,894.9811837628816,1075.6420786640706,1078.3617883013635,1628.8483745950841,1520.676483614343,1279.054569040583,1755.7305304408485,1042.7785396157524,1677.075708073174,1860.9339831294064,888.2088296543127,1860.663811896518,1643.2085950720607,1353.414554554858,1837.5875216705958,1375.2673352377922,1582.5499681925276,1223.4494750075935,1568.687567056354,1561.8653146134698,1335.1045549608714,1716.4172506134373,1297.8695963264558,1293.968024139011,1751.4811786846685,1101.2831357583455,1285.7820944273165,954.5686627726299,1108.659671543241,1626.7944315914156,1535.242723148624,1227.4965837090258,1503.5989955847717,1424.946182120002,964.7180655289019,1358.3337819198935,1633.5309725481106,930.96144638598,1093.6870203804144,1585.4871610304756,1040.7285225480164,1128.288958454775,1398.2437422909627,1759.3909758598004,1724.7332715627238,1072.6272998011457,1273.6160121549774,1391.4474473657044,1006.4723645519192,1700.744214567536,974.8453530311016,1504.1958176862058,1666.3897156205494,1887.8662429225033,997.6956884879579,1690.333319432802,1672.6624111038786,1081.672274235698,1108.927488153839,1730.593946834089,1265.767855427241,1611.4321881984233,1638.3943814470517,969.1240864705228,1772.1130926131052,947.5897547559911,1704.99036732681,1399.8768149914263,1282.1327155255592,1770.0967322276615,1764.2949059283742,1078.6791791773992,1247.2070675498555,1693.0625925683885,1237.8347131708156,1043.0099787783288,1124.948017599905,1888.7926905656736,1012.200193677427,1395.1581932192776,1433.84464446689,1656.045042713572,1280.8258493943488,1584.3149447794663,965.9566393406201,1185.3438157908695,1542.0635337084586,1209.2849371260752,1450.288336090323,1388.4456381521863,1564.2480489820705,1855.8858146596824,1659.6719612576069,1679.5622678670022,1781.7749234314815,1581.737002391215,1810.4336036856294,1022.7014563273068,1895.7804895975287,1666.0221159284479,1116.8109230930918,1392.4951115399363,1418.834472277386,1152.942109091568,1531.0370771472687,1035.1420738791448,1525.1260727775975,1534.9589543243355,1025.2002410574198,1561.600761604484,1845.9443397786804,1645.5624691698745,1252.4337187996164,1956.9240130010248,1784.824277814415,1461.1758361322622,1062.6871216277589,1047.637135067297,1517.5503808642866,1047.9482493341234,1142.2737916745784,1833.317559534565,1089.279388858679,1331.565303855272,996.5855580551564,1359.0422298758197,1924.3647493579274,1716.8417407943048,1601.8111822099609,1482.126808447155,1624.0352437883457,1838.7426515972047,1314.1894782645975]}];\n",
       " var layout_2921302d6fcad0 = {\"height\":550,\"width\":600,\"title\":{\"text\":\"XY.Histogram.Color\"},\"showlegend\":false};\n",
       " var config_2921302d6fcad0 = {\"responsive\":false,\"scrollZoom\":true,\"displaylogo\":false};\n",
       " Plotly.newPlot(\"graph_2921302d6fcad0\", traces_2921302d6fcad0, layout_2921302d6fcad0, config_2921302d6fcad0);\n",
       "</script>\n"
      ]
     },
     "metadata": {},
     "output_type": "display_data"
    }
   ],
   "source": [
    "import picta.options.histogram.HistOptions\n",
    "import picta.options.histogram.HistOrientation.HORIZONTAL\n",
    "\n",
    "// we can also compose customizations in much the same way:\n",
    "val marker = Marker() setColor \"rgba(255, 100, 102, 0.4)\" setLine Line()\n",
    "\n",
    "// change xkey to y to get a horizontal histogram\n",
    "val data = XY(x, series_type=HISTOGRAM) setMarker marker setHistOptions HistOptions(orientation = HORIZONTAL)\n",
    "\n",
    "val chart = Chart() setData data setLayout Layout(\"XY.Histogram.Color\") setConfig config\n",
    "\n",
    "chart.plot_inline()"
   ]
  },
  {
   "cell_type": "markdown",
   "metadata": {},
   "source": [
    "#### 2D Histogram Contour"
   ]
  },
  {
   "cell_type": "code",
   "execution_count": 15,
   "metadata": {},
   "outputs": [
    {
     "data": {
      "text/html": [
       "\n",
       "<div align=\"center\">\n",
       "<div id='graph_24abf06534540a' class='graph'></div>\n",
       "</div>\n",
       "<script>\n",
       " var traces_24abf06534540a = [{\"name\":\"03904cc\",\"type\":\"histogram2dcontour\",\"mode\":\"markers\",\"x\":[1,2,3,4,5,6,7,8,9,10,11,12,13,14,15,16,17,18,19,20,21,22,23,24,25,26,27,28,29,30,31,32,33,34,35,36,37,38,39,40,41,42,43,44,45,46,47,48,49],\"y\":[97.95887923817438,16.190065479027503,91.56130570207004,8.127440752054557,89.80240195775409,36.23278657283235,8.27781094471936,35.188407616266886,93.70940688804596,25.805066507542943,43.03089741947072,37.38510301715034,14.958010041750546,98.29472375239199,90.86325620566593,70.1386632290382,57.89660277234564,64.17396086008634,31.179584729505965,35.28175035100876,89.97720231439745,23.643920007402567,119.25781385456752,102.26477460538237,50.0367278313161,79.96835949412717,114.2278209039875,115.13449693195628,40.07483742713477,71.16792191145281,38.08849251938909,116.7944784659092,73.07778127068582,64.32859767774684,101.44739622756424,88.95126955751869,123.3634730757472,68.98486809829748,63.4055041195338,88.66981059057312,140.47380718106538,103.87021224080515,115.37276314725442,60.60603242667137,142.815966605229,94.78455439113677,91.58853810863711,117.7541971723837,103.05532905267744]}];\n",
       " var layout_24abf06534540a = {\"height\":550,\"width\":600,\"title\":{\"text\":\"2D Histogram Contour\"},\"showlegend\":false};\n",
       " var config_24abf06534540a = {\"responsive\":true,\"scrollZoom\":true,\"displaylogo\":false};\n",
       " Plotly.newPlot(\"graph_24abf06534540a\", traces_24abf06534540a, layout_24abf06534540a, config_24abf06534540a);\n",
       "</script>\n"
      ]
     },
     "metadata": {},
     "output_type": "display_data"
    }
   ],
   "source": [
    "val x = List.range(1, 50)\n",
    "val y = x.map(x => x + scala.util.Random.nextDouble()*100)\n",
    "\n",
    "val data = XY(x, y, series_type=HISTOGRAM2DCONTOUR, series_mode=MARKERS)\n",
    "\n",
    "val chart = Chart() setData data setLayout Layout(\"2D Histogram Contour\")\n",
    "chart.plot_inline()"
   ]
  },
  {
   "cell_type": "markdown",
   "metadata": {},
   "source": [
    "#### Contour\n",
    "\n",
    "This is a 3 dimensional chart requiring the import of the `XYZ` class from the library."
   ]
  },
  {
   "cell_type": "code",
   "execution_count": 16,
   "metadata": {},
   "outputs": [],
   "source": [
    "import picta.series.XYZ\n",
    "import picta.series.XYZChart._\n",
    "\n",
    "val x = List.range(1, 100)\n",
    "val y = List.range(1, 100)\n",
    "val z = List.range(1, 100).map(x => x + scala.util.Random.nextDouble()*100)\n",
    "\n",
    "val data = XYZ(x, y, z, series_type=CONTOUR, series_mode=MARKERS)"
   ]
  },
  {
   "cell_type": "code",
   "execution_count": 17,
   "metadata": {},
   "outputs": [
    {
     "data": {
      "text/html": [
       "\n",
       "<div align=\"center\">\n",
       "<div id='graph_95ac28926483fb' class='graph'></div>\n",
       "</div>\n",
       "<script>\n",
       " var traces_95ac28926483fb = [{\"name\":\"bb559fc\",\"type\":\"contour\",\"mode\":\"markers\",\"x\":[1,2,3,4,5,6,7,8,9,10,11,12,13,14,15,16,17,18,19,20,21,22,23,24,25,26,27,28,29,30,31,32,33,34,35,36,37,38,39,40,41,42,43,44,45,46,47,48,49,50,51,52,53,54,55,56,57,58,59,60,61,62,63,64,65,66,67,68,69,70,71,72,73,74,75,76,77,78,79,80,81,82,83,84,85,86,87,88,89,90,91,92,93,94,95,96,97,98,99],\"y\":[1,2,3,4,5,6,7,8,9,10,11,12,13,14,15,16,17,18,19,20,21,22,23,24,25,26,27,28,29,30,31,32,33,34,35,36,37,38,39,40,41,42,43,44,45,46,47,48,49,50,51,52,53,54,55,56,57,58,59,60,61,62,63,64,65,66,67,68,69,70,71,72,73,74,75,76,77,78,79,80,81,82,83,84,85,86,87,88,89,90,91,92,93,94,95,96,97,98,99],\"z\":[41.41035755658211,63.73428148852359,63.9410088076008,24.688278934993388,8.616016184029514,14.264010766387408,19.31810448851699,29.274064618690534,9.11733154644804,38.94151167739536,41.74902925341135,62.48062399314871,65.32476826181966,19.561429586053436,28.256360346248684,100.4000291294733,94.78632823834695,58.944688750959045,57.58913193039142,21.515060027493252,29.84283963725062,56.03700721646336,71.49031626795528,78.24914000296198,41.94452186147902,103.30248646930983,72.38854695644685,39.20765529619586,58.534707083802104,75.59261210599377,103.00792587464296,43.019495773508794,94.48863253557968,108.28420952669194,127.78416423728376,66.11338485551691,119.8022597275179,81.71823426573872,105.994910667425,108.81440130621124,50.55807779212333,138.83454031121562,132.15665320579367,46.821826127486105,81.15193041385554,63.386034672965835,120.5100834510005,78.43027867147674,72.34686073090698,137.22894319318985,127.31031979611974,121.78182859134272,71.92710758637496,76.92414704627473,137.15802369535538,80.98762281861602,72.55728638335492,122.24788631905423,87.75183255001235,105.13326476973195,104.9089492371938,112.19834298187403,71.21216837421615,109.98306917258765,123.19865485082576,137.697974205197,129.52097396746836,118.62397005317993,164.988741723291,104.42967032280575,156.64146414770272,104.34075836971928,157.43406078722353,74.10813993277199,130.52649759025607,86.69003143296283,98.11490042167023,177.97621374849422,124.49373159950468,140.04106004112165,160.17839638518845,112.42899396309167,89.34024469514617,122.77751852978963,158.71776917356777,133.40709416197112,155.08882108585942,124.90485203549159,168.15070904185254,163.56349551104438,174.4026480241085,161.98379985207896,98.81532219623934,114.19681190372762,118.47471910229515,114.11140432403343,125.08403098000367,102.55702784989367,140.59271160824363]}];\n",
       " var layout_95ac28926483fb = {\"height\":550,\"width\":600,\"title\":{\"text\":\"Contour\"},\"showlegend\":false};\n",
       " var config_95ac28926483fb = {\"responsive\":true,\"scrollZoom\":true,\"displaylogo\":false};\n",
       " Plotly.newPlot(\"graph_95ac28926483fb\", traces_95ac28926483fb, layout_95ac28926483fb, config_95ac28926483fb);\n",
       "</script>\n"
      ]
     },
     "metadata": {},
     "output_type": "display_data"
    }
   ],
   "source": [
    "val chart = Chart() setData data setLayout Layout(\"Contour\")\n",
    "\n",
    "chart.plot_inline()"
   ]
  },
  {
   "cell_type": "markdown",
   "metadata": {},
   "source": [
    "#### Heatmap"
   ]
  },
  {
   "cell_type": "code",
   "execution_count": 18,
   "metadata": {
    "scrolled": false
   },
   "outputs": [],
   "source": [
    "val z = List.range(1, 101).map(e => e + scala.util.Random.nextDouble()*100).grouped(10).toList"
   ]
  },
  {
   "cell_type": "code",
   "execution_count": 19,
   "metadata": {},
   "outputs": [
    {
     "data": {
      "text/html": [
       "\n",
       "<div align=\"center\">\n",
       "<div id='graph_c05cf7fc5bb957' class='graph'></div>\n",
       "</div>\n",
       "<script>\n",
       " var traces_c05cf7fc5bb957 = [{\"name\":\"ce0dde4\",\"type\":\"heatmap\",\"z\":[[21.096565238397236,8.002894865129814,15.368097308203719,43.599715272798164,90.02806323413668,63.79580294337846,22.27502634857274,16.11564701183123,85.10867283092276,31.530079082456677],[14.411359475762376,74.6537687507992,67.92981133157156,104.82201296721793,49.396293513953744,80.66124089716132,65.28696016095483,39.667901439372926,50.80887814970672,119.03216700030313],[35.186838248137335,107.31819692972275,111.5500939598505,101.7861126298465,63.87312204711274,111.56940275140452,70.4918481976399,81.37465076428569,121.49827302538942,97.93038388758048],[34.42519412261532,86.47295992208113,40.494810533463145,56.826758781012124,111.5584268021319,38.13308105234603,57.75017378330257,63.33916046835013,107.6789195285204,64.81994601813909],[79.36504988246618,101.92805253133338,111.58086976319343,111.1208152492163,85.07590218769644,96.17995147897933,62.47442498016487,126.8133316349826,88.34811216422369,100.81683867001354],[148.82992117362383,130.49687488163943,107.69703738486784,116.04263512388513,135.47423333076296,65.13648206547396,84.9699784944166,152.75760674189047,153.74456149618504,101.63808034085527],[107.1229054682493,111.25363544041545,118.11820766617384,100.96837873409441,149.45149495456997,135.71027851403548,151.97523285512676,115.35221796187054,160.28689777199023,72.1436170506444],[115.01408483416002,94.72476188737204,149.84236389325199,88.41687665929629,125.3286905294405,165.88543040297236,129.19767417284777,111.50389279982224,160.26865392940672,168.6950135923554],[169.33409826829677,99.40345616341807,101.94257785368337,166.17689647171858,114.68337924674182,92.93467161560739,165.58776653337594,93.52793380236622,90.83003428011588,186.10045279822435],[112.01786382799544,174.81395632313593,191.80701141978693,112.78829813659422,98.9732451811917,115.51950003691734,118.85057689484582,172.28458102412714,170.43727864111202,174.14081001617848]]}];\n",
       " var layout_c05cf7fc5bb957 = {\"height\":500,\"width\":500,\"title\":{\"text\":\"Contour\"},\"showlegend\":false};\n",
       " var config_c05cf7fc5bb957 = {\"responsive\":true,\"scrollZoom\":true,\"displaylogo\":false};\n",
       " Plotly.newPlot(\"graph_c05cf7fc5bb957\", traces_c05cf7fc5bb957, layout_c05cf7fc5bb957, config_c05cf7fc5bb957);\n",
       "</script>\n"
      ]
     },
     "metadata": {},
     "output_type": "display_data"
    }
   ],
   "source": [
    "// add lines in between the grid items\n",
    "val data = XYZ(z, series_type=HEATMAP)\n",
    "\n",
    "val chart = Chart() setData data setLayout Layout(\"Contour\", height = 500, width = 500)\n",
    "\n",
    "chart.plot_inline()"
   ]
  },
  {
   "cell_type": "markdown",
   "metadata": {},
   "source": [
    "#### Scatter3D"
   ]
  },
  {
   "cell_type": "code",
   "execution_count": 20,
   "metadata": {},
   "outputs": [
    {
     "data": {
      "text/html": [
       "\n",
       "<div align=\"center\">\n",
       "<div id='graph_57f62cf21027c4' class='graph'></div>\n",
       "</div>\n",
       "<script>\n",
       " var traces_57f62cf21027c4 = [{\"name\":\"6312397\",\"type\":\"scatter3d\",\"x\":[1,2,3,4,5,6,7,8,9,10,11,12,13,14,15,16,17,18,19,20,21,22,23,24,25,26,27,28,29,30,31,32,33,34,35,36,37,38,39,40,41,42,43,44,45,46,47,48,49,50,51,52,53,54,55,56,57,58,59,60,61,62,63,64,65,66,67,68,69,70,71,72,73,74,75,76,77,78,79,80,81,82,83,84,85,86,87,88,89,90,91,92,93,94,95,96,97,98,99],\"y\":[1,2,3,4,5,6,7,8,9,10,11,12,13,14,15,16,17,18,19,20,21,22,23,24,25,26,27,28,29,30,31,32,33,34,35,36,37,38,39,40,41,42,43,44,45,46,47,48,49,50,51,52,53,54,55,56,57,58,59,60,61,62,63,64,65,66,67,68,69,70,71,72,73,74,75,76,77,78,79,80,81,82,83,84,85,86,87,88,89,90,91,92,93,94,95,96,97,98,99],\"z\":[69.53104390289158,6.410560035258138,17.84485524794691,26.655774610899236,43.85175041059685,97.0453589234676,72.59784542980105,63.97389841551895,42.20946660700109,74.38323917074787,105.41544621470557,104.36404176428307,79.03522345014412,113.4794424468466,114.78565763463101,60.37709218955212,25.48530237953382,49.470999632981375,84.14738950862929,72.92534235273412,24.727900649893456,60.315853279469415,75.42101741183416,113.94983737975932,94.17181518786049,49.9757388945856,105.11844644465044,63.50149664602159,40.409224351431256,114.67524759193486,118.50205391379035,87.08134827458453,64.6954404935761,90.20155250160701,37.125168876204654,74.729755327471,129.4643076227551,59.166336059525094,105.57495999469603,54.62399829814589,89.67864724777624,43.73340052157219,104.35200557052235,60.83820872942194,66.74102477915883,121.5225971990201,127.55896242865352,117.4390272140804,57.240783357770496,80.23263139523168,146.43416699710207,99.23507428137015,123.98917104511438,69.98239217191887,92.75415153075774,143.2676788470013,112.59509095864516,121.45247599748228,99.74245358236153,114.52497208918868,73.25984211403967,72.61560298652392,132.3603024047515,74.3809122087819,144.5199694171399,87.17663104595641,123.71809341356703,160.90534811018446,73.3431296010758,153.79995663700896,109.83480104183906,166.460800977203,104.28265079456702,126.78406775957316,121.08579519009481,89.89612280488872,169.32228538093722,106.05009825234016,145.41781121951908,148.16674111737836,149.593367931412,157.14319012094649,125.77305867983509,155.35574931725301,160.3224485707833,140.4026033603189,92.15280064043404,115.83960320017843,131.16818658586647,152.53844809756413,157.36394475350176,132.7367404376982,115.53210379639509,183.56000202537106,124.73055406445786,102.79694846300944,164.4785974351517,157.33257413405892,165.91537035145848]}];\n",
       " var layout_57f62cf21027c4 = {\"height\":550,\"width\":600,\"title\":{\"text\":\"Histogram with axes\"},\"showlegend\":false,\"xaxis\":{\"title\":{\"text\":\"my x data\"},\"showgrid\":true,\"zeroline\":false,\"showline\":false},\"yaxis\":{\"title\":{\"text\":\"my y data\"},\"showgrid\":true,\"zeroline\":false,\"showline\":false}};\n",
       " var config_57f62cf21027c4 = {\"responsive\":true,\"scrollZoom\":true,\"displaylogo\":false};\n",
       " Plotly.newPlot(\"graph_57f62cf21027c4\", traces_57f62cf21027c4, layout_57f62cf21027c4, config_57f62cf21027c4);\n",
       "</script>\n"
      ]
     },
     "metadata": {},
     "output_type": "display_data"
    }
   ],
   "source": [
    "val x = List.range(1, 100)\n",
    "val y = List.range(1, 100)\n",
    "val z = List.range(1, 100).map(e => e + scala.util.Random.nextDouble()*100)\n",
    "\n",
    "val data = XYZ(x, y, z, series_type = SCATTER3D)\n",
    "\n",
    "val chart = Chart() setData data setLayout layout\n",
    "\n",
    "chart.plot_inline()"
   ]
  },
  {
   "cell_type": "markdown",
   "metadata": {},
   "source": [
    "#### Surface Plot"
   ]
  },
  {
   "cell_type": "code",
   "execution_count": 21,
   "metadata": {
    "scrolled": false
   },
   "outputs": [
    {
     "data": {
      "text/html": [
       "\n",
       "<div align=\"center\">\n",
       "<div id='graph_cb6d5faa5a2d42' class='graph'></div>\n",
       "</div>\n",
       "<script>\n",
       " var traces_cb6d5faa5a2d42 = [{\"name\":\"1b152da\",\"type\":\"surface\",\"z\":[[8.83,8.89,8.81,8.87,8.9,8.87],[8.89,8.94,8.85,8.94,8.96,8.92],[8.84,8.9,8.82,8.92,8.93,8.91],[8.79,8.85,8.79,8.9,8.94,8.92],[8.79,8.88,8.81,8.9,8.95,8.92],[8.8,8.82,8.78,8.91,8.94,8.92],[8.75,8.78,8.77,8.91,8.95,8.92],[8.8,8.8,8.77,8.91,8.95,8.94],[8.74,8.81,8.76,8.93,8.98,8.99],[8.89,8.99,8.92,9.1,9.13,9.11],[8.97,8.97,8.91,9.09,9.11,9.11],[9.04,9.08,9.05,9.25,9.28,9.27],[9,9.01,9,9.2,9.23,9.2],[8.99,8.99,8.98,9.18,9.2,9.19],[8.93,8.97,8.97,9.18,9.2,9.18]]}];\n",
       " var layout_cb6d5faa5a2d42 = {\"height\":550,\"width\":600,\"title\":{\"text\":\"Surface Chart\"},\"showlegend\":false};\n",
       " var config_cb6d5faa5a2d42 = {\"responsive\":true,\"scrollZoom\":true,\"displaylogo\":false};\n",
       " Plotly.newPlot(\"graph_cb6d5faa5a2d42\", traces_cb6d5faa5a2d42, layout_cb6d5faa5a2d42, config_cb6d5faa5a2d42);\n",
       "</script>\n"
      ]
     },
     "metadata": {},
     "output_type": "display_data"
    }
   ],
   "source": [
    "// 3d surface plot\n",
    "val k = List(\n",
    "    List(8.83,8.89,8.81,8.87,8.9,8.87),\n",
    "    List(8.89,8.94,8.85,8.94,8.96,8.92),\n",
    "    List(8.84,8.9,8.82,8.92,8.93,8.91),\n",
    "    List(8.79,8.85,8.79,8.9,8.94,8.92),\n",
    "    List(8.79,8.88,8.81,8.9,8.95,8.92),\n",
    "    List(8.8,8.82,8.78,8.91,8.94,8.92),\n",
    "    List(8.75,8.78,8.77,8.91,8.95,8.92),\n",
    "    List(8.8,8.8,8.77,8.91,8.95,8.94),\n",
    "    List(8.74,8.81,8.76,8.93,8.98,8.99),\n",
    "    List(8.89,8.99,8.92,9.1,9.13,9.11),\n",
    "    List(8.97,8.97,8.91,9.09,9.11,9.11),\n",
    "    List(9.04,9.08,9.05,9.25,9.28,9.27),\n",
    "    List(9,9.01,9,9.2,9.23,9.2),\n",
    "    List(8.99,8.99,8.98,9.18,9.2,9.19),\n",
    "    List(8.93,8.97,8.97,9.18,9.2,9.18)\n",
    "  )\n",
    "\n",
    "val data = XYZ(k, series_type=SURFACE)\n",
    "\n",
    "val chart = Chart() setData data setLayout Layout(\"Surface Chart\")\n",
    "\n",
    "chart.plot_inline()"
   ]
  },
  {
   "cell_type": "markdown",
   "metadata": {
    "scrolled": false
   },
   "source": [
    "#### Third Dimension as Color"
   ]
  },
  {
   "cell_type": "code",
   "execution_count": 22,
   "metadata": {},
   "outputs": [
    {
     "data": {
      "text/html": [
       "\n",
       "<div align=\"center\">\n",
       "<div id='graph_54841ccce53cc2' class='graph'></div>\n",
       "</div>\n",
       "<script>\n",
       " var traces_54841ccce53cc2 = [{\"name\":\"b9627f0\",\"type\":\"scatter\",\"mode\":\"markers\",\"marker\":{\"color\":[69.53104390289158,6.410560035258138,17.84485524794691,26.655774610899236,43.85175041059685,97.0453589234676,72.59784542980105,63.97389841551895,42.20946660700109,74.38323917074787,105.41544621470557,104.36404176428307,79.03522345014412,113.4794424468466,114.78565763463101,60.37709218955212,25.48530237953382,49.470999632981375,84.14738950862929,72.92534235273412,24.727900649893456,60.315853279469415,75.42101741183416,113.94983737975932,94.17181518786049,49.9757388945856,105.11844644465044,63.50149664602159,40.409224351431256,114.67524759193486,118.50205391379035,87.08134827458453,64.6954404935761,90.20155250160701,37.125168876204654,74.729755327471,129.4643076227551,59.166336059525094,105.57495999469603,54.62399829814589,89.67864724777624,43.73340052157219,104.35200557052235,60.83820872942194,66.74102477915883,121.5225971990201,127.55896242865352,117.4390272140804,57.240783357770496,80.23263139523168,146.43416699710207,99.23507428137015,123.98917104511438,69.98239217191887,92.75415153075774,143.2676788470013,112.59509095864516,121.45247599748228,99.74245358236153,114.52497208918868,73.25984211403967,72.61560298652392,132.3603024047515,74.3809122087819,144.5199694171399,87.17663104595641,123.71809341356703,160.90534811018446,73.3431296010758,153.79995663700896,109.83480104183906,166.460800977203,104.28265079456702,126.78406775957316,121.08579519009481,89.89612280488872,169.32228538093722,106.05009825234016,145.41781121951908,148.16674111737836,149.593367931412,157.14319012094649,125.77305867983509,155.35574931725301,160.3224485707833,140.4026033603189,92.15280064043404,115.83960320017843,131.16818658586647,152.53844809756413,157.36394475350176,132.7367404376982,115.53210379639509,183.56000202537106,124.73055406445786,102.79694846300944,164.4785974351517,157.33257413405892,165.91537035145848]},\"x\":[1,2,3,4,5,6,7,8,9,10,11,12,13,14,15,16,17,18,19,20,21,22,23,24,25,26,27,28,29,30,31,32,33,34,35,36,37,38,39,40,41,42,43,44,45,46,47,48,49,50,51,52,53,54,55,56,57,58,59,60,61,62,63,64,65,66,67,68,69,70,71,72,73,74,75,76,77,78,79,80,81,82,83,84,85,86,87,88,89,90,91,92,93,94,95,96,97,98,99],\"y\":[1,2,3,4,5,6,7,8,9,10,11,12,13,14,15,16,17,18,19,20,21,22,23,24,25,26,27,28,29,30,31,32,33,34,35,36,37,38,39,40,41,42,43,44,45,46,47,48,49,50,51,52,53,54,55,56,57,58,59,60,61,62,63,64,65,66,67,68,69,70,71,72,73,74,75,76,77,78,79,80,81,82,83,84,85,86,87,88,89,90,91,92,93,94,95,96,97,98,99]}];\n",
       " var layout_54841ccce53cc2 = {\"height\":550,\"width\":600,\"title\":{\"text\":\"Color2D.Basic\"},\"showlegend\":false};\n",
       " var config_54841ccce53cc2 = {\"responsive\":true,\"scrollZoom\":true,\"displaylogo\":false};\n",
       " Plotly.newPlot(\"graph_54841ccce53cc2\", traces_54841ccce53cc2, layout_54841ccce53cc2, config_54841ccce53cc2);\n",
       "</script>\n"
      ]
     },
     "metadata": {},
     "output_type": "display_data"
    }
   ],
   "source": [
    "// multiple compositions can be used to create scatter charts with a color representing some third dimension\n",
    "\n",
    "val marker = Marker() setColor z // we add the list of colors to the marker for each point\n",
    "\n",
    "val data = XY(x, y, series_type = SCATTER, series_mode = MARKERS) setMarker marker\n",
    "\n",
    "val chart = Chart() setLayout Layout(\"Color2D.Basic\") setData data\n",
    "\n",
    "chart.plot_inline()"
   ]
  },
  {
   "cell_type": "markdown",
   "metadata": {},
   "source": [
    "#### Subplot\n",
    "\n",
    "The Subplot class can be used to generate subplots for an XY plot. Currently 3D subplots are not supported."
   ]
  },
  {
   "cell_type": "code",
   "execution_count": 23,
   "metadata": {},
   "outputs": [
    {
     "data": {
      "text/html": [
       "\n",
       "<div align=\"center\">\n",
       "<div id='graph_0bf9081875ee0b' class='graph'></div>\n",
       "</div>\n",
       "<script>\n",
       " var traces_0bf9081875ee0b = [{\"name\":\"a\",\"type\":\"scatter\",\"mode\":\"markers\",\"x\":[1,2,3,4,5,6,7,8,9,10,11,12,13,14,15,16,17,18,19,20,21,22,23,24,25,26,27,28,29,30,31,32,33,34,35,36,37,38,39,40,41,42,43,44,45,46,47,48,49,50,51,52,53,54,55,56,57,58,59,60,61,62,63,64,65,66,67,68,69,70,71,72,73,74,75,76,77,78,79,80,81,82,83,84,85,86,87,88,89,90,91,92,93,94,95,96,97,98,99],\"y\":[1,2,3,4,5,6,7,8,9,10,11,12,13,14,15,16,17,18,19,20,21,22,23,24,25,26,27,28,29,30,31,32,33,34,35,36,37,38,39,40,41,42,43,44,45,46,47,48,49,50,51,52,53,54,55,56,57,58,59,60,61,62,63,64,65,66,67,68,69,70,71,72,73,74,75,76,77,78,79,80,81,82,83,84,85,86,87,88,89,90,91,92,93,94,95,96,97,98,99]},{\"name\":\"b\",\"type\":\"scatter\",\"mode\":\"markers\",\"xaxis\":\"x2\",\"yaxis\":\"y2\",\"x\":[1,2,3,4,5,6,7,8,9,10,11,12,13,14,15,16,17,18,19,20,21,22,23,24,25,26,27,28,29,30,31,32,33,34,35,36,37,38,39,40,41,42,43,44,45,46,47,48,49,50,51,52,53,54,55,56,57,58,59,60,61,62,63,64,65,66,67,68,69,70,71,72,73,74,75,76,77,78,79,80,81,82,83,84,85,86,87,88,89,90,91,92,93,94,95,96,97,98,99],\"y\":[69.53104390289158,6.410560035258138,17.84485524794691,26.655774610899236,43.85175041059685,97.0453589234676,72.59784542980105,63.97389841551895,42.20946660700109,74.38323917074787,105.41544621470557,104.36404176428307,79.03522345014412,113.4794424468466,114.78565763463101,60.37709218955212,25.48530237953382,49.470999632981375,84.14738950862929,72.92534235273412,24.727900649893456,60.315853279469415,75.42101741183416,113.94983737975932,94.17181518786049,49.9757388945856,105.11844644465044,63.50149664602159,40.409224351431256,114.67524759193486,118.50205391379035,87.08134827458453,64.6954404935761,90.20155250160701,37.125168876204654,74.729755327471,129.4643076227551,59.166336059525094,105.57495999469603,54.62399829814589,89.67864724777624,43.73340052157219,104.35200557052235,60.83820872942194,66.74102477915883,121.5225971990201,127.55896242865352,117.4390272140804,57.240783357770496,80.23263139523168,146.43416699710207,99.23507428137015,123.98917104511438,69.98239217191887,92.75415153075774,143.2676788470013,112.59509095864516,121.45247599748228,99.74245358236153,114.52497208918868,73.25984211403967,72.61560298652392,132.3603024047515,74.3809122087819,144.5199694171399,87.17663104595641,123.71809341356703,160.90534811018446,73.3431296010758,153.79995663700896,109.83480104183906,166.460800977203,104.28265079456702,126.78406775957316,121.08579519009481,89.89612280488872,169.32228538093722,106.05009825234016,145.41781121951908,148.16674111737836,149.593367931412,157.14319012094649,125.77305867983509,155.35574931725301,160.3224485707833,140.4026033603189,92.15280064043404,115.83960320017843,131.16818658586647,152.53844809756413,157.36394475350176,132.7367404376982,115.53210379639509,183.56000202537106,124.73055406445786,102.79694846300944,164.4785974351517,157.33257413405892,165.91537035145848]},{\"name\":\"b\",\"type\":\"scatter\",\"mode\":\"markers\",\"xaxis\":\"x3\",\"yaxis\":\"y3\",\"x\":[1,2,3,4,5,6,7,8,9,10,11,12,13,14,15,16,17,18,19,20,21,22,23,24,25,26,27,28,29,30,31,32,33,34,35,36,37,38,39,40,41,42,43,44,45,46,47,48,49,50,51,52,53,54,55,56,57,58,59,60,61,62,63,64,65,66,67,68,69,70,71,72,73,74,75,76,77,78,79,80,81,82,83,84,85,86,87,88,89,90,91,92,93,94,95,96,97,98,99],\"y\":[69.53104390289158,6.410560035258138,17.84485524794691,26.655774610899236,43.85175041059685,97.0453589234676,72.59784542980105,63.97389841551895,42.20946660700109,74.38323917074787,105.41544621470557,104.36404176428307,79.03522345014412,113.4794424468466,114.78565763463101,60.37709218955212,25.48530237953382,49.470999632981375,84.14738950862929,72.92534235273412,24.727900649893456,60.315853279469415,75.42101741183416,113.94983737975932,94.17181518786049,49.9757388945856,105.11844644465044,63.50149664602159,40.409224351431256,114.67524759193486,118.50205391379035,87.08134827458453,64.6954404935761,90.20155250160701,37.125168876204654,74.729755327471,129.4643076227551,59.166336059525094,105.57495999469603,54.62399829814589,89.67864724777624,43.73340052157219,104.35200557052235,60.83820872942194,66.74102477915883,121.5225971990201,127.55896242865352,117.4390272140804,57.240783357770496,80.23263139523168,146.43416699710207,99.23507428137015,123.98917104511438,69.98239217191887,92.75415153075774,143.2676788470013,112.59509095864516,121.45247599748228,99.74245358236153,114.52497208918868,73.25984211403967,72.61560298652392,132.3603024047515,74.3809122087819,144.5199694171399,87.17663104595641,123.71809341356703,160.90534811018446,73.3431296010758,153.79995663700896,109.83480104183906,166.460800977203,104.28265079456702,126.78406775957316,121.08579519009481,89.89612280488872,169.32228538093722,106.05009825234016,145.41781121951908,148.16674111737836,149.593367931412,157.14319012094649,125.77305867983509,155.35574931725301,160.3224485707833,140.4026033603189,92.15280064043404,115.83960320017843,131.16818658586647,152.53844809756413,157.36394475350176,132.7367404376982,115.53210379639509,183.56000202537106,124.73055406445786,102.79694846300944,164.4785974351517,157.33257413405892,165.91537035145848]},{\"name\":\"b\",\"type\":\"scatter\",\"mode\":\"markers\",\"xaxis\":\"x4\",\"yaxis\":\"y4\",\"x\":[1,2,3,4,5,6,7,8,9,10,11,12,13,14,15,16,17,18,19,20,21,22,23,24,25,26,27,28,29,30,31,32,33,34,35,36,37,38,39,40,41,42,43,44,45,46,47,48,49,50,51,52,53,54,55,56,57,58,59,60,61,62,63,64,65,66,67,68,69,70,71,72,73,74,75,76,77,78,79,80,81,82,83,84,85,86,87,88,89,90,91,92,93,94,95,96,97,98,99],\"y\":[69.53104390289158,6.410560035258138,17.84485524794691,26.655774610899236,43.85175041059685,97.0453589234676,72.59784542980105,63.97389841551895,42.20946660700109,74.38323917074787,105.41544621470557,104.36404176428307,79.03522345014412,113.4794424468466,114.78565763463101,60.37709218955212,25.48530237953382,49.470999632981375,84.14738950862929,72.92534235273412,24.727900649893456,60.315853279469415,75.42101741183416,113.94983737975932,94.17181518786049,49.9757388945856,105.11844644465044,63.50149664602159,40.409224351431256,114.67524759193486,118.50205391379035,87.08134827458453,64.6954404935761,90.20155250160701,37.125168876204654,74.729755327471,129.4643076227551,59.166336059525094,105.57495999469603,54.62399829814589,89.67864724777624,43.73340052157219,104.35200557052235,60.83820872942194,66.74102477915883,121.5225971990201,127.55896242865352,117.4390272140804,57.240783357770496,80.23263139523168,146.43416699710207,99.23507428137015,123.98917104511438,69.98239217191887,92.75415153075774,143.2676788470013,112.59509095864516,121.45247599748228,99.74245358236153,114.52497208918868,73.25984211403967,72.61560298652392,132.3603024047515,74.3809122087819,144.5199694171399,87.17663104595641,123.71809341356703,160.90534811018446,73.3431296010758,153.79995663700896,109.83480104183906,166.460800977203,104.28265079456702,126.78406775957316,121.08579519009481,89.89612280488872,169.32228538093722,106.05009825234016,145.41781121951908,148.16674111737836,149.593367931412,157.14319012094649,125.77305867983509,155.35574931725301,160.3224485707833,140.4026033603189,92.15280064043404,115.83960320017843,131.16818658586647,152.53844809756413,157.36394475350176,132.7367404376982,115.53210379639509,183.56000202537106,124.73055406445786,102.79694846300944,164.4785974351517,157.33257413405892,165.91537035145848]}];\n",
       " var layout_0bf9081875ee0b = {\"height\":550,\"width\":600,\"title\":{\"text\":\"Subplots\"},\"showlegend\":false,\"grid\":{\"rows\":2,\"columns\":2,\"pattern\":\"independent\"},\"xaxis\":{\"title\":{\"text\":\"x axis 1\"},\"showgrid\":true,\"zeroline\":false,\"showline\":false},\"xaxis2\":{\"title\":{\"text\":\"x axis 2\"},\"showgrid\":true,\"zeroline\":false,\"showline\":false},\"xaxis3\":{\"title\":{\"text\":\"x axis 3\"},\"showgrid\":true,\"zeroline\":false,\"showline\":false},\"xaxis4\":{\"title\":{\"text\":\"x axis 4\"},\"showgrid\":true,\"zeroline\":false,\"showline\":false},\"yaxis\":{\"title\":{\"text\":\"y axis 1\"},\"showgrid\":true,\"zeroline\":false,\"showline\":false},\"yaxis2\":{\"title\":{\"text\":\"y axis 2\"},\"showgrid\":true,\"zeroline\":false,\"showline\":false},\"yaxis3\":{\"title\":{\"text\":\"y axis 3\"},\"showgrid\":true,\"zeroline\":false,\"showline\":false},\"yaxis4\":{\"title\":{\"text\":\"y axis 4\"},\"showgrid\":true,\"zeroline\":false,\"showline\":false}};\n",
       " var config_0bf9081875ee0b = {\"responsive\":true,\"scrollZoom\":true,\"displaylogo\":false};\n",
       " Plotly.newPlot(\"graph_0bf9081875ee0b\", traces_0bf9081875ee0b, layout_0bf9081875ee0b, config_0bf9081875ee0b);\n",
       "</script>\n"
      ]
     },
     "metadata": {},
     "output_type": "display_data"
    }
   ],
   "source": [
    "import picta.options.Subplot\n",
    "\n",
    "// 1. first we define the grid layout - 1 row, 2 columns\n",
    "val grid = Subplot(2, 2) // rename to subplot\n",
    "\n",
    "// 2. Now define the axes titles; two axis titles for each plot\n",
    "val ax1 = Axis(\"x\", title = \"x axis 1\")\n",
    "val ax2 = Axis(\"x2\", title = \"x axis 2\")\n",
    "val ax3 = Axis(\"x3\", title = \"x axis 3\")\n",
    "val ax4 = Axis(\"x4\", title = \"x axis 4\")\n",
    "val ax6 = Axis(\"y\", title = \"y axis 1\")\n",
    "val ax7 = Axis(\"y2\", title = \"y axis 2\")\n",
    "val ax8 = Axis(\"y3\", title = \"y axis 3\")\n",
    "val ax9 = Axis(\"y4\", title = \"y axis 4\")\n",
    "\n",
    "// 3. define the traces - notice how the axis maps to the xaxis and yaxis keys below:\n",
    "val data1 = XY(x, y, series_name=\"a\", series_type=SCATTER, series_mode=MARKERS)\n",
    "val data2 = XY(x, z, series_name=\"b\", series_type=SCATTER, series_mode=MARKERS, xaxis=\"x2\", yaxis=\"y2\")\n",
    "val data3 = XY(x, z, series_name=\"b\", series_type=SCATTER, series_mode=MARKERS, xaxis=\"x3\", yaxis=\"y3\")\n",
    "val data4 = XY(x, z, series_name=\"b\", series_type=SCATTER, series_mode=MARKERS, xaxis=\"x4\", yaxis=\"y4\")\n",
    "\n",
    "// 4. combine the axis and grid into a single layout component\n",
    "val layout = Layout(\"Subplots\") setAxes List(ax1, ax2, ax3, ax4, ax6, ax7, ax8, ax9) setSubplot grid\n",
    "\n",
    "// 5. construct into a chart. We do not need to put the series into a single list, but this is done as an example here\n",
    "val chart = Chart() setData List(data1, data2, data3, data4) setLayout layout\n",
    "\n",
    "chart.plot_inline()"
   ]
  },
  {
   "cell_type": "markdown",
   "metadata": {},
   "source": [
    "#### Map\n",
    "\n",
    "We can also create maps using the composition technique below."
   ]
  },
  {
   "cell_type": "code",
   "execution_count": 24,
   "metadata": {},
   "outputs": [
    {
     "data": {
      "text/html": [
       "\n",
       "<div align=\"center\">\n",
       "<div id='graph_fbed1dd08fdb67' class='graph'></div>\n",
       "</div>\n",
       "<script>\n",
       " var traces_fbed1dd08fdb67 = [{\"lat\":[40.7127,51.5072],\"lon\":[-74.0059,0.1275],\"type\":\"scattergeo\",\"mode\":\"lines\",\"line\":{\"width\":2,\"color\":\"red\"}}];\n",
       " var layout_fbed1dd08fdb67 = {\"height\":550,\"width\":600,\"showlegend\":false,\"geo\":{\"resolution\":50,\"showland\":true,\"showlakes\":true,\"coastlinewidth\":2,\"landcolor\":\"rgb(204, 204, 204)\",\"lakecolor\":\"rgb(255, 255, 255)\",\"lataxis\":{\"range\":[20,60],\"showgrid\":true,\"dtick\":10},\"lonaxis\":{\"range\":[-100,20],\"showgrid\":true,\"dtick\":10}}};\n",
       " var config_fbed1dd08fdb67 = {\"responsive\":true,\"scrollZoom\":true,\"displaylogo\":false};\n",
       " Plotly.newPlot(\"graph_fbed1dd08fdb67\", traces_fbed1dd08fdb67, layout_fbed1dd08fdb67, config_fbed1dd08fdb67);\n",
       "</script>\n"
      ]
     },
     "metadata": {},
     "output_type": "display_data"
    }
   ],
   "source": [
    "import picta.options.Geo\n",
    "import picta.options.MapAxis\n",
    "import picta.options.LatAxis\n",
    "import picta.options.LongAxis\n",
    "import picta.series.Map\n",
    "\n",
    "val line = Line() setWidth 2 setColor \"red\"\n",
    "\n",
    "val data = Map(lat=List(40.7127, 51.5072), lon=List(-74.0059, 0.1275), series_mode = LINES) setLine line\n",
    "\n",
    "val geo = Geo(landcolor = \"rgb(204, 204, 204)\", lakecolor=\"rgb(255, 255, 255)\") setAxes(LatAxis(List(20, 60)), LongAxis(List(-100, 20)))  \n",
    "\n",
    "val layout = Layout() setGeo geo\n",
    "\n",
    "val chart = Chart() setData data setLayout layout\n",
    "\n",
    "chart.plot_inline()"
   ]
  },
  {
   "cell_type": "markdown",
   "metadata": {},
   "source": [
    "#### Animated Chart"
   ]
  },
  {
   "cell_type": "code",
   "execution_count": 25,
   "metadata": {},
   "outputs": [],
   "source": [
    "import picta.series.{XYSeries, XYZSeries}\n",
    "\n",
    "// creates random XY for testing purposes\n",
    "def createXYSeries(numberToCreate: Int, count: Int = 0, length: Int = 10, xaxis: String = \"x\", yaxis: String = \"y\"): List[XYSeries] = {\n",
    "    if (count == numberToCreate) Nil\n",
    "    else {\n",
    "      val xs = List.range(0, length)\n",
    "      val ys = xs.map(x => scala.util.Random.nextDouble() * x)\n",
    "      val trace = XY(x=xs, y = ys, series_name = \"trace\" + count, xaxis=xaxis, yaxis=yaxis)\n",
    "      trace :: createXYSeries(numberToCreate, count + 1, length, xaxis, yaxis)\n",
    "    }\n",
    "}\n",
    "\n",
    "def createXYZSeries(numberToCreate: Int, count: Int = 0, length: Int = 10, xaxis: String =\"x\", yaxis: String =\"y\"): List[XYZSeries] = {\n",
    "    if (count == numberToCreate) Nil\n",
    "    else {\n",
    "      val xs = List.range(0, length)\n",
    "      val ys = xs.map(x => scala.util.Random.nextDouble() * x)\n",
    "      val zs = xs.map(x => scala.util.Random.nextDouble() * x * scala.util.Random.nextInt())\n",
    "      val trace = XYZ(x=xs, y=ys, z=zs, series_name = \"trace\" + count, series_type = SCATTER3D, xaxis=xaxis, yaxis=yaxis)\n",
    "      trace :: createXYZSeries(numberToCreate, count + 1, length, xaxis, yaxis)\n",
    "    }\n",
    "}"
   ]
  },
  {
   "cell_type": "code",
   "execution_count": 26,
   "metadata": {
    "scrolled": false
   },
   "outputs": [
    {
     "data": {
      "text/html": [
       "\n",
       "<style>#animationInterface {\n",
       "    margin-top: 50px;\n",
       "    margin-bottom: 50px;\n",
       "}\n",
       "\n",
       ".progressBar {\n",
       "    padding-top: 20px;\n",
       "    padding-bottom: 20px;\n",
       "}\n",
       "\n",
       ".inline-div {\n",
       "    display: block;\n",
       "    text-align: center;\n",
       "}\n",
       "\n",
       "h3 {\n",
       "    display: inline-block;\n",
       "    text-align: center;\n",
       "}</style>\n",
       "<div align=\"center\">\n",
       "<div id='graph_c6fa9a05fcc7aa' class=\"graph\"></div>\n",
       "<div class='animationInterface'>\n",
       "<button id='play_c6fa9a05fcc7aa'>Play</button>\n",
       "<button id='pause_c6fa9a05fcc7aa'>Pause</button>\n",
       "<div id=\"sliderContainer_c6fa9a05fcc7aa\" class='progressBar'></div>\n",
       "<div>\n",
       "<div>\n",
       "   <div id='counterContainer_c6fa9a05fcc7aa' class='inline-div'>\n",
       "      <h3>Frame: </h3><h3 id=\"value_c6fa9a05fcc7aa\">0</h3>\n",
       "   </div>\n",
       "</div>\n",
       "</div>\n",
       "\n",
       "<script>\n",
       "//var graph_id = 'graph_c6fa9a05fcc7aa'\n",
       "var graph_c6fa9a05fcc7aa = document.getElementById('graph_c6fa9a05fcc7aa')\n",
       "var traces_c6fa9a05fcc7aa = [{\"name\":\"trace0\",\"type\":\"scatter\",\"xaxis\":\"x\",\"yaxis\":\"y\",\"x\":[0,1,2,3,4,5,6,7,8,9,10,11,12,13,14,15,16,17,18,19,20,21,22,23,24,25,26,27,28,29],\"y\":[0,0.42575336934456853,1.0599392797431537,0.7345440467932048,3.3468974192565146,2.463299994190329,0.6640502587236237,0.6274860548178953,6.470239521934225,3.2681765353900887,7.223178833914749,9.005433301706542,2.310303932586232,6.681895943427917,4.859005625225913,10.282868641891723,15.5566457776563,14.985734312084434,3.5039272828798103,9.069161593399294,7.252738649863025,6.2271422185087575,16.21956763575464,9.68326697413233,8.66894484715509,18.983745314991737,20.227244867768025,20.183487170123477,22.837655665219543,20.296057859773356]}]\n",
       "var layout_c6fa9a05fcc7aa = {\"height\":550,\"width\":600,\"title\":{\"text\":\"Animation.XY\"},\"showlegend\":false,\"xaxis\":{\"title\":{\"text\":\"X Variable\"},\"showgrid\":true,\"zeroline\":false,\"showline\":false,\"range\":[0,10]},\"yaxis\":{\"title\":{\"text\":\"Y Variable\"},\"showgrid\":true,\"zeroline\":false,\"showline\":false,\"range\":[0,10]}}\n",
       "var frames_c6fa9a05fcc7aa = [{\"name\":\"trace0\",\"data\":[{\"name\":\"trace0\",\"type\":\"scatter\",\"xaxis\":\"x\",\"yaxis\":\"y\",\"x\":[0,1,2,3,4,5,6,7,8,9,10,11,12,13,14,15,16,17,18,19,20,21,22,23,24,25,26,27,28,29],\"y\":[0,0.42575336934456853,1.0599392797431537,0.7345440467932048,3.3468974192565146,2.463299994190329,0.6640502587236237,0.6274860548178953,6.470239521934225,3.2681765353900887,7.223178833914749,9.005433301706542,2.310303932586232,6.681895943427917,4.859005625225913,10.282868641891723,15.5566457776563,14.985734312084434,3.5039272828798103,9.069161593399294,7.252738649863025,6.2271422185087575,16.21956763575464,9.68326697413233,8.66894484715509,18.983745314991737,20.227244867768025,20.183487170123477,22.837655665219543,20.296057859773356]}]},{\"name\":\"trace1\",\"data\":[{\"name\":\"trace1\",\"type\":\"scatter\",\"xaxis\":\"x\",\"yaxis\":\"y\",\"x\":[0,1,2,3,4,5,6,7,8,9,10,11,12,13,14,15,16,17,18,19,20,21,22,23,24,25,26,27,28,29],\"y\":[0,0.9095692528643288,0.09820005355080963,0.13512318738635376,2.8080792397355556,3.5154799687491844,2.1111526712072433,6.992813999362736,1.552545255178555,6.3399125275965105,0.6486414527143181,10.22920510122316,1.1404143923775,6.520567549853391,7.7983848051753935,9.815108593351853,2.91972586926412,2.9314321623320883,2.3202780227637403,13.479869197951453,10.502730707088212,7.1889250000058595,16.794748921708216,21.031040513484367,0.5195251436628032,23.485358375287916,17.88751458965669,17.101471102419836,18.637675601450724,13.30731842077868]}]},{\"name\":\"trace2\",\"data\":[{\"name\":\"trace2\",\"type\":\"scatter\",\"xaxis\":\"x\",\"yaxis\":\"y\",\"x\":[0,1,2,3,4,5,6,7,8,9,10,11,12,13,14,15,16,17,18,19,20,21,22,23,24,25,26,27,28,29],\"y\":[0,0.676066283781873,1.845751734660925,0.4365127438392371,1.0729101643144259,3.478035302196514,2.4970067317819287,0.06408908170992256,7.747418519470152,2.513383461614132,5.790423730395372,10.98453526388484,4.990456539887159,8.640855530937213,0.865215110750996,14.651818471132284,12.202167585555411,2.7370654475516645,8.126572255569464,6.9199310874372575,14.904008594778375,19.017216773075507,6.643749455988585,10.272575350642239,10.498838239815855,13.625299066934643,14.600688834411352,10.262895824282047,24.17224848191799,23.01357920652762]}]},{\"name\":\"trace3\",\"data\":[{\"name\":\"trace3\",\"type\":\"scatter\",\"xaxis\":\"x\",\"yaxis\":\"y\",\"x\":[0,1,2,3,4,5,6,7,8,9,10,11,12,13,14,15,16,17,18,19,20,21,22,23,24,25,26,27,28,29],\"y\":[0,0.8680057704282675,1.720306379554839,1.7777301603084825,1.9763392001079874,1.6695390762381934,1.1463631587899676,5.396756680081951,4.845085966703754,1.5187775495544573,6.657501234489653,7.594555178143985,6.831530003532406,3.795447283184056,13.301380187509878,5.213282958485831,15.53108475101516,14.169844400425763,14.732405953719546,15.225520148888094,7.816410612629827,4.573641236866646,18.368538213008787,13.695769363801755,11.844731865983775,7.736518219982217,21.764731319668584,1.44576901321564,6.338413302690965,16.484514513184344]}]},{\"name\":\"trace4\",\"data\":[{\"name\":\"trace4\",\"type\":\"scatter\",\"xaxis\":\"x\",\"yaxis\":\"y\",\"x\":[0,1,2,3,4,5,6,7,8,9,10,11,12,13,14,15,16,17,18,19,20,21,22,23,24,25,26,27,28,29],\"y\":[0,0.9392920648413337,1.140891755737671,1.0580537826421823,0.3152582221005411,4.971007922216612,5.569826372866981,4.247579618611269,2.8951702007823883,2.6293586491618397,5.484829448009884,1.9659496710198558,8.709710346366453,2.382293843264608,4.915077042289543,13.778138858327935,8.695839444859162,14.25647113724348,2.535169100240001,10.075474071817043,7.391071891329042,1.1156695192523418,10.39773695126147,20.046066572972695,21.223688406916132,0.37918831433517985,9.580411499638661,0.6916327731209355,9.43474590514573,6.0942108642458725]}]},{\"name\":\"trace5\",\"data\":[{\"name\":\"trace5\",\"type\":\"scatter\",\"xaxis\":\"x\",\"yaxis\":\"y\",\"x\":[0,1,2,3,4,5,6,7,8,9,10,11,12,13,14,15,16,17,18,19,20,21,22,23,24,25,26,27,28,29],\"y\":[0,0.006505247541060966,0.7638291664846817,1.4670413010582324,0.4395983782099959,2.0033191455503454,0.9185512666418278,4.224076291106767,7.224655771647087,5.368071202494667,5.264977045257852,2.046456288555847,7.094865047378159,6.609875698818697,10.99008762122805,3.5570575117751932,9.969340437140612,14.692107641847748,5.7176071006594915,12.704958303539671,7.971495253392629,3.9653765316348397,12.344165132198658,8.086844182762299,20.321268027070154,14.887975610143947,3.1862207820104254,11.190767295524504,23.648264871872342,10.785990399762328]}]},{\"name\":\"trace6\",\"data\":[{\"name\":\"trace6\",\"type\":\"scatter\",\"xaxis\":\"x\",\"yaxis\":\"y\",\"x\":[0,1,2,3,4,5,6,7,8,9,10,11,12,13,14,15,16,17,18,19,20,21,22,23,24,25,26,27,28,29],\"y\":[0,0.2495112801259839,1.2384701845757833,0.407755988550786,0.5816871772493153,3.980481157890514,4.62904307267159,0.20053256820764243,2.543966788834303,1.7329654628088633,7.136291590740455,0.11673728852541632,6.331213525489705,10.577789545379979,1.7154942673119147,12.469903952357901,2.1747292764777626,0.7567189084519231,8.573946310142285,12.435817934403786,6.956506041545623,18.482409577350566,18.997796461856062,14.675074059874389,3.6656199755570977,14.66404085902445,0.8591211398976506,26.768787051896492,1.1837496009937842,6.097242892136304]}]},{\"name\":\"trace7\",\"data\":[{\"name\":\"trace7\",\"type\":\"scatter\",\"xaxis\":\"x\",\"yaxis\":\"y\",\"x\":[0,1,2,3,4,5,6,7,8,9,10,11,12,13,14,15,16,17,18,19,20,21,22,23,24,25,26,27,28,29],\"y\":[0,0.1637070887265244,0.11527006051853483,2.0414335651604105,1.2471733232541027,4.252147813939679,0.08330155742758305,4.302296094727791,3.0560204156456443,4.061112303546849,1.9884556855303215,7.761959987907402,7.082456600360207,5.949711118340051,6.305937368730396,11.228650855372269,12.747845319404135,0.10501746992806449,5.02320109964616,17.964329476762035,10.480753121066545,10.333999133857333,13.66121248017986,2.7060296789132097,23.635937113544983,17.699298807799813,22.95229941124909,22.934299746277933,24.192593861836862,12.850292488915604]}]},{\"name\":\"trace8\",\"data\":[{\"name\":\"trace8\",\"type\":\"scatter\",\"xaxis\":\"x\",\"yaxis\":\"y\",\"x\":[0,1,2,3,4,5,6,7,8,9,10,11,12,13,14,15,16,17,18,19,20,21,22,23,24,25,26,27,28,29],\"y\":[0,0.3897564214098064,0.7164864320687707,2.583492073043515,3.9197332538342984,1.727879290982051,1.9080604208718848,1.8106095087601388,1.4395685997487613,7.336581982162654,3.3439233923537404,10.998513810958276,9.606315474103127,8.198842641085072,3.7169637005359757,7.828005166143482,0.29077105145888105,13.68615310551812,0.13662089154939405,5.865733121651321,14.493048877382435,2.3607254887990408,6.193327095185281,14.82728855803769,5.848148896260618,24.230821660956533,21.505929373308224,20.88969280155055,2.310091420787444,12.477926361121375]}]},{\"name\":\"trace9\",\"data\":[{\"name\":\"trace9\",\"type\":\"scatter\",\"xaxis\":\"x\",\"yaxis\":\"y\",\"x\":[0,1,2,3,4,5,6,7,8,9,10,11,12,13,14,15,16,17,18,19,20,21,22,23,24,25,26,27,28,29],\"y\":[0,0.8165395599320163,0.1746670748709771,0.4918916125271309,0.4567306174567487,2.1294112710656155,0.053286835770882,5.114233722086199,4.0985569662557975,6.27105850914316,2.786877198279547,3.858220370937874,5.9890648660484205,3.7929213245596616,10.454461927633385,9.324982732147983,12.67213967732593,1.5043223376432784,4.275933921927132,6.015344934770464,12.236438093257911,19.17334553012059,0.9754004018448099,11.141981737319288,19.10501075861692,2.064222552759132,23.406472881854704,15.033688758273314,16.99354153577211,15.929853748091697]}]},{\"name\":\"trace10\",\"data\":[{\"name\":\"trace10\",\"type\":\"scatter\",\"xaxis\":\"x\",\"yaxis\":\"y\",\"x\":[0,1,2,3,4,5,6,7,8,9,10,11,12,13,14,15,16,17,18,19,20,21,22,23,24,25,26,27,28,29],\"y\":[0,0.06498564071099622,1.5127680272609634,1.2302893234235535,2.7997773149374194,4.35438229032391,2.13183326112338,2.9907474520420494,2.255174932106268,4.717827924330557,3.34818660243841,10.903629369591672,5.647527245385106,6.142098605147034,5.390592279705019,9.733285626141365,12.308794444437861,6.3002691493051755,10.969844491754841,17.46221150170085,5.885366036078812,13.945166749298664,19.861762896202272,14.32651415215193,4.151664739283029,23.80170497931967,13.695587703028368,9.895563360661754,15.699156519184719,10.937380509473043]}]},{\"name\":\"trace11\",\"data\":[{\"name\":\"trace11\",\"type\":\"scatter\",\"xaxis\":\"x\",\"yaxis\":\"y\",\"x\":[0,1,2,3,4,5,6,7,8,9,10,11,12,13,14,15,16,17,18,19,20,21,22,23,24,25,26,27,28,29],\"y\":[0,0.13186194670218288,1.2326170695304453,1.2967326393882241,0.10603462026518029,0.7737667634231427,4.557850085055204,0.901964043622734,1.7923019753852527,3.5901583986618837,6.6923649154592955,4.7016018919428895,3.5537889996717533,12.628248213294356,10.84624076651712,2.9321721810581582,8.813995582622193,13.03670245720308,8.051654041803708,13.862884357258048,17.241081981307108,10.007566885312947,15.367946590214759,1.2442536287973633,20.02043888373235,21.335193693013363,24.971321243177048,21.378174112350514,13.286536330277372,22.770978626441302]}]},{\"name\":\"trace12\",\"data\":[{\"name\":\"trace12\",\"type\":\"scatter\",\"xaxis\":\"x\",\"yaxis\":\"y\",\"x\":[0,1,2,3,4,5,6,7,8,9,10,11,12,13,14,15,16,17,18,19,20,21,22,23,24,25,26,27,28,29],\"y\":[0,0.39271873032484095,1.1396440065050653,0.8859370149356719,2.423868798289318,4.503185986618835,5.961199110927158,0.4498356367756541,5.072743316275251,2.1593000743060418,8.536383846013429,4.897100384444325,11.409018384510908,2.772609951816671,10.253330940311056,3.48455038639342,10.4227668284595,0.25037159418512056,4.788210639457059,12.045138417165717,3.9303771553263234,1.7439245133520533,21.254207599163102,0.012471384077535008,16.33480661512923,13.686577248591691,12.83080785811735,23.28190970832467,27.250803788108723,10.166322307741476]}]},{\"name\":\"trace13\",\"data\":[{\"name\":\"trace13\",\"type\":\"scatter\",\"xaxis\":\"x\",\"yaxis\":\"y\",\"x\":[0,1,2,3,4,5,6,7,8,9,10,11,12,13,14,15,16,17,18,19,20,21,22,23,24,25,26,27,28,29],\"y\":[0,0.7431631090251889,0.3992332422237259,1.1172766000287495,1.078421532010545,0.17225391740281482,2.1298152246561832,3.6800576222568493,7.504547875556319,8.4181777476059,3.274894903173652,9.27424317957124,5.601992329650679,1.2685951400676705,3.397055337400442,0.5453714029751727,12.95831200882721,2.504140086860483,15.040581435476449,16.545351014749524,8.436315372430714,14.699497724192243,11.186940289214641,22.29686414461932,10.251727014647475,20.811382350181994,21.74273580505695,9.106938418092756,23.122426947226725,6.71037639104426]}]},{\"name\":\"trace14\",\"data\":[{\"name\":\"trace14\",\"type\":\"scatter\",\"xaxis\":\"x\",\"yaxis\":\"y\",\"x\":[0,1,2,3,4,5,6,7,8,9,10,11,12,13,14,15,16,17,18,19,20,21,22,23,24,25,26,27,28,29],\"y\":[0,0.9804697785402875,0.5253526919686742,1.1948792184521757,1.6745531266968685,2.4124376019406246,4.574185370440171,2.5120284461989804,0.9853781927982039,2.6738832495505687,3.575108637350314,3.2772219889238086,9.012658385004244,10.630941317188054,10.142227491621414,6.317339973360755,10.787812038485871,16.87006388035838,14.044761958869842,2.4851962222621267,8.391679336273047,7.681085623715489,15.239819195497647,6.791032587881752,10.558701649391711,23.841859849930803,23.595688935101368,26.74966390357892,0.6236814474225358,8.046294790549876]}]},{\"name\":\"trace15\",\"data\":[{\"name\":\"trace15\",\"type\":\"scatter\",\"xaxis\":\"x\",\"yaxis\":\"y\",\"x\":[0,1,2,3,4,5,6,7,8,9,10,11,12,13,14,15,16,17,18,19,20,21,22,23,24,25,26,27,28,29],\"y\":[0,0.5981115886485101,0.17067049670952272,0.6696783563519797,1.929748717680683,2.7482409512881354,1.7315016988204874,0.8906663338037175,6.520922718393442,3.0317613918742734,6.9892609741745435,6.990196951001796,7.901098155847151,7.998416807975638,3.4097333800602385,6.552787908598075,5.184489308462819,6.3071629577561446,5.664792571017402,17.625559808011158,9.702834875929781,3.1694213150171895,4.097462145061499,5.2653065452851555,22.736544868761165,7.490101015984591,9.1502330166151,20.2249052387596,15.221673661646282,28.88446057329481]}]},{\"name\":\"trace16\",\"data\":[{\"name\":\"trace16\",\"type\":\"scatter\",\"xaxis\":\"x\",\"yaxis\":\"y\",\"x\":[0,1,2,3,4,5,6,7,8,9,10,11,12,13,14,15,16,17,18,19,20,21,22,23,24,25,26,27,28,29],\"y\":[0,0.6608690565733875,1.338322950899885,1.9105892161582076,2.4687163543177886,1.2238926924305182,4.126541876098165,5.425758529033288,4.624257332199721,0.35953103828133215,8.133942098772327,4.283986664977251,9.159962211978769,1.816548889901037,1.38496502442026,11.012847518402173,5.468687427934174,13.09521366865629,15.27318742519137,7.575819605475774,6.997515319971413,10.47730985322748,2.444995568395113,11.321332941055735,4.605715974353,0.8177827412346905,23.652109948043908,1.6522631367935987,25.176250256421486,17.09181991806594]}]},{\"name\":\"trace17\",\"data\":[{\"name\":\"trace17\",\"type\":\"scatter\",\"xaxis\":\"x\",\"yaxis\":\"y\",\"x\":[0,1,2,3,4,5,6,7,8,9,10,11,12,13,14,15,16,17,18,19,20,21,22,23,24,25,26,27,28,29],\"y\":[0,0.946384333793022,0.6817408973339094,0.7434113794884529,1.4828503975200684,1.4525530894915895,3.5580904100409443,3.6390875818419275,2.2914520438301924,7.371687657155187,8.393045014368573,6.860103658476049,0.5686570185401161,10.845361464849931,7.062882571743274,8.760366715936849,15.697024051691873,9.95019545661987,14.420574686050655,6.428324871947217,17.296040088087487,6.485137231782687,11.196451009931682,11.100065655398657,4.6727977921199475,19.20989952727195,15.583688675011862,4.278448011896282,1.9649939044783116,16.401725074765686]}]},{\"name\":\"trace18\",\"data\":[{\"name\":\"trace18\",\"type\":\"scatter\",\"xaxis\":\"x\",\"yaxis\":\"y\",\"x\":[0,1,2,3,4,5,6,7,8,9,10,11,12,13,14,15,16,17,18,19,20,21,22,23,24,25,26,27,28,29],\"y\":[0,0.8508740146568576,1.7071101745707715,2.527520694888294,0.20724409996252557,2.7211309640410573,1.94116805001373,1.7627059285338063,7.515126004967466,6.899474516409918,2.572899460305732,2.531908480232352,10.397639742870712,7.045200887374402,3.472960154278791,10.192101915490602,7.708526057608424,2.801661144265925,1.6776860639137308,2.530042968485615,17.320644946312658,0.3093838311963989,5.993972348535033,8.398498404878294,17.78905583704374,8.365449302497897,22.802260291322224,4.992521185773791,21.307255679064408,0.3553683875685133]}]},{\"name\":\"trace19\",\"data\":[{\"name\":\"trace19\",\"type\":\"scatter\",\"xaxis\":\"x\",\"yaxis\":\"y\",\"x\":[0,1,2,3,4,5,6,7,8,9,10,11,12,13,14,15,16,17,18,19,20,21,22,23,24,25,26,27,28,29],\"y\":[0,0.8545846949660311,1.3435334279877553,2.77341505310053,2.108809220223047,0.8142953651539786,2.9451592651823946,2.310739429268237,2.9186636759776183,6.253918398661762,3.601250504434602,1.4414381642840137,0.3609339086479957,3.236145893307855,5.646964126931635,8.397472268539053,5.97319378014023,11.352761821551509,13.321794556294343,18.960574761820176,8.048281004899632,12.10552031469025,17.39014964013106,4.145133189652146,21.65460193736167,16.18567037323217,3.716900224033533,26.994366075780036,11.447832571930494,1.5013532379965264]}]},{\"name\":\"trace20\",\"data\":[{\"name\":\"trace20\",\"type\":\"scatter\",\"xaxis\":\"x\",\"yaxis\":\"y\",\"x\":[0,1,2,3,4,5,6,7,8,9,10,11,12,13,14,15,16,17,18,19,20,21,22,23,24,25,26,27,28,29],\"y\":[0,0.4907275892684738,1.9929087232671707,2.0858787585312486,0.312071202757056,1.6887067095904622,4.446027879946446,4.822398189825701,0.02094958983792594,3.939639994138113,7.811821382795125,2.8225509474469668,10.65679089499277,8.082315700490366,8.614756966857941,14.182538041635246,1.6247796210274856,10.787327442982434,11.593713420706093,10.838353702555864,3.4823772106501982,18.179775990551192,21.93047486250106,18.359298153115954,14.604238863922317,3.1439650332658693,9.489325110588616,17.75498140166702,3.753886157491731,28.174259456868114]}]},{\"name\":\"trace21\",\"data\":[{\"name\":\"trace21\",\"type\":\"scatter\",\"xaxis\":\"x\",\"yaxis\":\"y\",\"x\":[0,1,2,3,4,5,6,7,8,9,10,11,12,13,14,15,16,17,18,19,20,21,22,23,24,25,26,27,28,29],\"y\":[0,0.5461926337538437,1.9028420318068342,2.090693058373028,1.1026389134492178,2.494797743170032,1.2583794562872443,0.8890368752612183,4.1013583645267175,5.2230397065932905,8.157719776049806,8.580711585347986,9.385107884366374,3.485118914230213,9.615874430739572,11.914020098601748,15.74883693442613,10.324542898378976,13.111471829934784,4.870712533450456,16.610044214666353,15.349816747045832,3.136230592016874,4.921694161946778,6.674280473779967,1.6519222677479601,4.025953768762796,19.057930672697612,4.19399187931485,5.112832132522671]}]},{\"name\":\"trace22\",\"data\":[{\"name\":\"trace22\",\"type\":\"scatter\",\"xaxis\":\"x\",\"yaxis\":\"y\",\"x\":[0,1,2,3,4,5,6,7,8,9,10,11,12,13,14,15,16,17,18,19,20,21,22,23,24,25,26,27,28,29],\"y\":[0,0.6013294567144428,0.7032017193046753,2.1758534035487194,3.517980629802337,4.529898441640147,2.1125667270317354,3.42980537045437,6.228878070336837,4.1346290480627115,4.883119311905361,7.702028876672362,8.26313807960018,8.176939769127227,3.1314556025533102,3.5423017097801592,1.64242229501491,11.661506750227392,12.577620152212697,7.160193507544314,12.501928357892043,0.8267268520794142,17.33563117395875,19.762825539932564,7.978157084730706,9.980601119391755,10.494660711311944,26.522492563247916,9.386313949121288,7.014598776695395]}]},{\"name\":\"trace23\",\"data\":[{\"name\":\"trace23\",\"type\":\"scatter\",\"xaxis\":\"x\",\"yaxis\":\"y\",\"x\":[0,1,2,3,4,5,6,7,8,9,10,11,12,13,14,15,16,17,18,19,20,21,22,23,24,25,26,27,28,29],\"y\":[0,0.3693729665099019,1.985596246369901,1.9751720951148704,3.424250538839623,3.9437710052803876,1.6570346160273925,5.468459508260842,7.724229998461003,1.1231387541054771,9.755396365760326,5.5545890690401345,0.1180146475881374,2.471194887822467,11.26245124143116,2.1558883305136094,9.316336247994522,9.770295730759726,17.38723781972742,0.006085878464826999,15.818833433133738,2.9236946427218755,9.119512472678164,12.935083217132156,5.842185595895142,1.8899436087134651,22.705473637306945,5.009534647056533,27.41672744063408,19.841685498174506]}]},{\"name\":\"trace24\",\"data\":[{\"name\":\"trace24\",\"type\":\"scatter\",\"xaxis\":\"x\",\"yaxis\":\"y\",\"x\":[0,1,2,3,4,5,6,7,8,9,10,11,12,13,14,15,16,17,18,19,20,21,22,23,24,25,26,27,28,29],\"y\":[0,0.675443707108317,0.7542524068583407,0.4326045177606902,1.637291274429003,0.6957620323255248,0.9415649862716489,4.141216323785379,3.4912427403374346,7.556930159742704,3.3899779650072293,8.369954438471844,2.518022377155511,7.262697067705334,6.052387232721543,4.432150920797508,14.67759396373609,2.534016767663621,3.2054298498270644,11.139510852538093,2.8661880627687064,11.373574956212614,19.65538227516821,15.179361440440259,23.026128226017935,11.49341421084522,21.613621004708534,5.520121676798077,19.642774478933344,14.262066206356929]}]},{\"name\":\"trace25\",\"data\":[{\"name\":\"trace25\",\"type\":\"scatter\",\"xaxis\":\"x\",\"yaxis\":\"y\",\"x\":[0,1,2,3,4,5,6,7,8,9,10,11,12,13,14,15,16,17,18,19,20,21,22,23,24,25,26,27,28,29],\"y\":[0,0.2941006983268726,1.8993810982900468,2.9149038551562674,2.3138574545082853,3.7811804486252947,3.6991981040766926,2.28816247278394,3.0100869563813024,3.661353796965832,5.926959309836336,1.8487247199368557,10.079214305943454,7.484817504988126,1.3790463908441817,6.188042418578334,11.062063894921923,7.492403924893684,13.452392088727997,3.110840013159291,12.97588782615555,14.560610656810505,7.4594775141695875,20.687299153619275,14.855840706711898,24.317908166512588,14.828381016375305,20.574419855884553,10.633587436557695,9.235537204125995]}]},{\"name\":\"trace26\",\"data\":[{\"name\":\"trace26\",\"type\":\"scatter\",\"xaxis\":\"x\",\"yaxis\":\"y\",\"x\":[0,1,2,3,4,5,6,7,8,9,10,11,12,13,14,15,16,17,18,19,20,21,22,23,24,25,26,27,28,29],\"y\":[0,0.3886746572014096,0.09677870260775912,1.8591885152486778,1.9413560761994995,3.8619788164826208,3.40078849431303,4.657866201228601,0.4318600875354841,0.9111055568579104,0.25032684402328087,10.31876909485848,8.977243800384233,5.052383536120905,12.47823271372915,11.035535229280413,11.287997040003223,16.620502670023935,2.170797288231643,10.533806863569172,12.523858518960315,14.252933563709515,14.811188627504126,21.157896446179937,3.5320186621170704,9.585931864898917,4.953536571525153,0.45507162561988135,12.979830725660818,14.122860279237855]}]},{\"name\":\"trace27\",\"data\":[{\"name\":\"trace27\",\"type\":\"scatter\",\"xaxis\":\"x\",\"yaxis\":\"y\",\"x\":[0,1,2,3,4,5,6,7,8,9,10,11,12,13,14,15,16,17,18,19,20,21,22,23,24,25,26,27,28,29],\"y\":[0,0.5324445994742291,1.8705208734607845,1.0372179533514667,2.9042572579633337,0.5215036502242776,0.8950736202442822,2.0987800234041547,3.6279820706167047,5.783278779174411,7.954299570873898,5.4762008015781705,3.096003550436485,7.571338460387382,10.62954471094962,13.123682435030336,2.123649698514871,13.854334312891806,0.5577733767625985,2.971064932915483,10.377298048043134,13.53335379521402,8.639584047318838,15.767781075266505,22.679587823347077,15.570036587970801,9.174894404591265,5.606180894998405,8.984231053730952,15.232586551632288]}]},{\"name\":\"trace28\",\"data\":[{\"name\":\"trace28\",\"type\":\"scatter\",\"xaxis\":\"x\",\"yaxis\":\"y\",\"x\":[0,1,2,3,4,5,6,7,8,9,10,11,12,13,14,15,16,17,18,19,20,21,22,23,24,25,26,27,28,29],\"y\":[0,0.48039978471905553,0.2132961345626816,0.1417626194513616,0.10357127051269543,3.642533459905497,2.1387132932093698,0.1872144939386381,0.08048659445131712,4.585513915636149,0.7025926620477185,1.3861069081706061,5.707160755532774,6.73198891810057,5.3002769116627,14.144444338610954,10.709476252645985,3.6975877698235777,14.969426571890327,8.826381399055677,15.011867221576093,20.24699468376195,10.29086489273706,14.336321536712248,12.921222761408755,11.367465831717077,10.296162534860485,12.778135234260823,13.567914444938886,26.830319657915606]}]},{\"name\":\"trace29\",\"data\":[{\"name\":\"trace29\",\"type\":\"scatter\",\"xaxis\":\"x\",\"yaxis\":\"y\",\"x\":[0,1,2,3,4,5,6,7,8,9,10,11,12,13,14,15,16,17,18,19,20,21,22,23,24,25,26,27,28,29],\"y\":[0,0.16198386350931648,1.9790948291816264,1.5202047888263546,3.9407058920413123,2.218957490220777,1.5161784344052742,3.8186299800613472,7.377125797115408,8.567104441185768,0.8097669563274756,5.431790999266156,9.81284099418278,10.760674491877854,6.536945560311519,2.8128379139068027,9.500575581460218,10.057530670897151,5.240689086897588,17.860050926152933,10.887488053005912,6.955647446211308,4.502683978052871,20.74184261691851,21.57560411131757,9.581752597532233,15.67406724651467,15.222205543256464,18.76844797127022,19.961149858016665]}]},{\"name\":\"trace30\",\"data\":[{\"name\":\"trace30\",\"type\":\"scatter\",\"xaxis\":\"x\",\"yaxis\":\"y\",\"x\":[0,1,2,3,4,5,6,7,8,9,10,11,12,13,14,15,16,17,18,19,20,21,22,23,24,25,26,27,28,29],\"y\":[0,0.11285670486733168,1.1772529916810905,2.7298028506024608,0.8243817486801253,2.9505389530181922,3.281027938052704,1.588451132594968,6.399830824276774,4.008703380633239,2.582450820122858,4.7377973968479346,4.0748131238081555,1.7577789208636638,10.6984563929582,8.8518481154905,4.901343191619489,14.752684139600962,0.3420176194481448,1.553008396598349,0.8008360887605082,9.759652248767638,0.6019345391871571,5.208116562758934,15.30095269688163,14.440302517341367,23.703244628477005,3.2802821783131,22.942723652867887,5.10373420718545]}]},{\"name\":\"trace31\",\"data\":[{\"name\":\"trace31\",\"type\":\"scatter\",\"xaxis\":\"x\",\"yaxis\":\"y\",\"x\":[0,1,2,3,4,5,6,7,8,9,10,11,12,13,14,15,16,17,18,19,20,21,22,23,24,25,26,27,28,29],\"y\":[0,0.5122145362625584,0.8306407754844356,0.9169327883457498,0.08238506411096624,3.542939232924998,3.2317193513132274,4.235332290194157,5.043017022436975,5.5748176372795255,0.9440696580791685,10.603857439920075,5.937492125970714,12.355327167556958,13.980850262572073,0.14519875951353511,15.904712456122127,8.367289275052489,6.695654159599918,15.463616887043347,18.65942365782155,4.427497341398901,0.3736294324603118,7.559083205327543,9.556847109719584,13.63233790979563,17.85623098423346,15.63790409788575,23.514549533709264,26.544309703333635]}]},{\"name\":\"trace32\",\"data\":[{\"name\":\"trace32\",\"type\":\"scatter\",\"xaxis\":\"x\",\"yaxis\":\"y\",\"x\":[0,1,2,3,4,5,6,7,8,9,10,11,12,13,14,15,16,17,18,19,20,21,22,23,24,25,26,27,28,29],\"y\":[0,0.5683393936714543,0.8332229326252993,2.8437200617270717,1.8095462266694784,0.906572672083299,0.6615359436772024,2.391738627258859,2.821084928333036,1.0559270156132614,2.350493608944136,6.665327900151013,11.031174733737684,0.27666877962750513,10.487363926428484,2.021051342534558,0.4261268241317815,9.17816426110174,3.7200576148002504,3.917047197436064,16.20030792801319,20.67930565220243,6.217927645976983,12.265416986959044,8.196993760067445,16.22647507992367,14.21768757993447,25.257320902800025,3.4285077274249267,17.27555834726432]}]},{\"name\":\"trace33\",\"data\":[{\"name\":\"trace33\",\"type\":\"scatter\",\"xaxis\":\"x\",\"yaxis\":\"y\",\"x\":[0,1,2,3,4,5,6,7,8,9,10,11,12,13,14,15,16,17,18,19,20,21,22,23,24,25,26,27,28,29],\"y\":[0,0.5474359643327228,1.4661960500941214,2.7300765305214636,1.99774282284621,3.6923436495198967,4.469681861894426,6.964905853626586,7.748791139188132,5.173979326220179,9.1751562714461,5.2225238986835,6.681048406209996,2.9498367220186332,10.9019422859201,10.029595679678085,1.0905495063830237,3.29990856837648,16.527703333738163,7.573866764117597,11.297337508085171,12.680500334863195,15.649473177149842,2.36327133677427,10.512175271226845,3.0749197963122477,19.107310389267184,22.66657393553526,22.30629031988952,6.267775284338367]}]},{\"name\":\"trace34\",\"data\":[{\"name\":\"trace34\",\"type\":\"scatter\",\"xaxis\":\"x\",\"yaxis\":\"y\",\"x\":[0,1,2,3,4,5,6,7,8,9,10,11,12,13,14,15,16,17,18,19,20,21,22,23,24,25,26,27,28,29],\"y\":[0,0.789965808958801,0.21406086253668133,1.7431557935400117,2.698708301860425,1.4536692215504305,1.946505108726737,4.1898788719772435,4.505509272859165,2.37330249793308,7.258938751497789,5.9790483082355035,7.373987076927829,1.9254713968162003,3.8383391401641114,1.8380159118955086,8.192559549929836,1.4582293528486323,11.178551738317479,11.891018718591427,14.293333659066853,3.4031027398827933,17.458612590465908,14.10063760072363,12.92076347374106,24.082004838188197,5.124123727417874,15.826166089187572,9.879759913947293,16.691753433717892]}]},{\"name\":\"trace35\",\"data\":[{\"name\":\"trace35\",\"type\":\"scatter\",\"xaxis\":\"x\",\"yaxis\":\"y\",\"x\":[0,1,2,3,4,5,6,7,8,9,10,11,12,13,14,15,16,17,18,19,20,21,22,23,24,25,26,27,28,29],\"y\":[0,0.5469901878039599,0.16271288326092637,1.2611562284570832,1.579267497978785,3.4255806363064023,1.788828404246252,6.992717814201242,7.60134497233071,6.262544786582339,4.80937017012414,7.710856620197541,1.9388193459894034,5.07445854412329,5.525776629834064,4.826398040731767,1.3579833453141728,5.553927962306282,2.8425701840170747,15.729391009644306,2.824137207266477,3.45062757467083,6.039443103375115,4.900644252680917,12.683568550658913,8.105683094331576,20.84603577741635,26.842921889380737,1.1394280718537027,9.391947478253417]}]},{\"name\":\"trace36\",\"data\":[{\"name\":\"trace36\",\"type\":\"scatter\",\"xaxis\":\"x\",\"yaxis\":\"y\",\"x\":[0,1,2,3,4,5,6,7,8,9,10,11,12,13,14,15,16,17,18,19,20,21,22,23,24,25,26,27,28,29],\"y\":[0,0.010737886757168358,1.555068565522603,2.541389724946247,3.8421008133634182,3.565661118983847,2.281428784222461,1.4665210358207807,5.9011592872208025,0.45296215658365246,2.391203219850876,4.207104519233085,8.1289651327038,5.218711165986812,8.17727060900159,2.2947133297772004,7.793732538964026,12.48919035854505,8.847041564619591,5.907947709958749,1.3739348937964069,6.774071219087108,13.618176710412946,22.567396562581834,19.055197295609464,22.365456445057465,23.78152340869186,9.35807001431516,27.643282670327483,1.8971701447343776]}]},{\"name\":\"trace37\",\"data\":[{\"name\":\"trace37\",\"type\":\"scatter\",\"xaxis\":\"x\",\"yaxis\":\"y\",\"x\":[0,1,2,3,4,5,6,7,8,9,10,11,12,13,14,15,16,17,18,19,20,21,22,23,24,25,26,27,28,29],\"y\":[0,0.044859620461425,1.6137786545442272,0.7263628135618259,3.0915395015958436,2.320033286158396,0.998969929129409,6.889208119136957,2.6583605895466915,0.09188627861701071,9.440615472675928,10.625115184803278,0.9739353531190549,2.2943276568233237,6.845925037745037,4.12923013703416,15.373665409839802,15.332511557826798,6.4190284820773345,14.650813738377709,16.757098579898276,5.846022646202051,6.041185582390341,14.19521303318317,5.855076193213849,3.390033007279908,15.012666399966433,24.650752518997727,12.747021747046489,12.030750953090683]}]},{\"name\":\"trace38\",\"data\":[{\"name\":\"trace38\",\"type\":\"scatter\",\"xaxis\":\"x\",\"yaxis\":\"y\",\"x\":[0,1,2,3,4,5,6,7,8,9,10,11,12,13,14,15,16,17,18,19,20,21,22,23,24,25,26,27,28,29],\"y\":[0,0.5486217243405723,1.1968570200122295,1.5846866898310572,0.49899121271372193,0.1318423487542919,2.821590705257261,0.6467086934325911,7.765410539969426,0.10210438339434091,4.091372297162639,5.770058966273892,0.9655156351408722,10.407538044383136,12.14171492773274,14.899795860541841,3.375478619909421,12.460011258336316,5.365042813887628,2.432298018644465,18.239852900798656,16.83197450841347,13.090934112049483,16.276281525773253,2.3526737341038793,9.390339880897258,15.526803598231544,7.407267111574715,1.6230830281305249,28.74390001890837]}]},{\"name\":\"trace39\",\"data\":[{\"name\":\"trace39\",\"type\":\"scatter\",\"xaxis\":\"x\",\"yaxis\":\"y\",\"x\":[0,1,2,3,4,5,6,7,8,9,10,11,12,13,14,15,16,17,18,19,20,21,22,23,24,25,26,27,28,29],\"y\":[0,0.2455114755110287,0.5059599970454494,1.8799657441113924,1.9296841780031477,3.180357606866731,0.2805490896735199,5.218124118331372,0.21891569452714688,8.489625141425574,4.625225053269676,7.220730820726986,5.705348258992002,1.2526132865326554,2.3467710109414037,6.318760061286127,3.4100303856848253,10.662053152752321,2.6872095368930955,11.772743992177684,5.411833857309054,7.986158157003748,21.20655537308428,17.787630871241365,21.542790523629712,3.6729844863534646,0.4629109678192773,3.3890264956491394,2.6255091754297766,16.880172179928117]}]},{\"name\":\"trace40\",\"data\":[{\"name\":\"trace40\",\"type\":\"scatter\",\"xaxis\":\"x\",\"yaxis\":\"y\",\"x\":[0,1,2,3,4,5,6,7,8,9,10,11,12,13,14,15,16,17,18,19,20,21,22,23,24,25,26,27,28,29],\"y\":[0,0.7721344158178898,1.2877327924719366,1.9300632236951754,0.08225859355859022,4.265973104949824,0.302742612444002,4.033491773583484,1.175496903171033,5.60218326854322,2.5212938227839388,1.7923565282565181,0.4654487271504393,9.583880588629059,2.377422353282123,8.267376186619884,15.67316657871354,0.5998425269077204,16.79027559346448,9.1680982921028,18.446911814725794,8.396911490922,2.2421808837981523,3.5320530897123366,22.392884397312336,1.2973432973048231,8.572232539343222,6.9578174729010955,21.93600535874147,21.90521359903819]}]},{\"name\":\"trace41\",\"data\":[{\"name\":\"trace41\",\"type\":\"scatter\",\"xaxis\":\"x\",\"yaxis\":\"y\",\"x\":[0,1,2,3,4,5,6,7,8,9,10,11,12,13,14,15,16,17,18,19,20,21,22,23,24,25,26,27,28,29],\"y\":[0,0.9815105053466326,0.7189815098353405,2.9165735080547295,0.9036310328368113,4.28944344766293,4.130744502018137,6.736045802129467,6.166927526706788,3.734071142520959,6.819680084926512,2.0624921138983376,0.166756444960805,6.522127139030012,1.9989651782961433,2.243941402980894,3.554245489595658,0.36383319966228467,3.402734646193414,18.40658621508247,5.24593473382966,11.666223252727539,0.27953541015514327,13.618334275748994,16.654849720669954,0.6544050989656186,21.0033178322436,13.795470136755455,26.911600496915085,3.158529275480632]}]},{\"name\":\"trace42\",\"data\":[{\"name\":\"trace42\",\"type\":\"scatter\",\"xaxis\":\"x\",\"yaxis\":\"y\",\"x\":[0,1,2,3,4,5,6,7,8,9,10,11,12,13,14,15,16,17,18,19,20,21,22,23,24,25,26,27,28,29],\"y\":[0,0.26143111436149324,1.503077326048152,1.7508472691369246,1.4992724820268069,3.9214293079012212,1.6656283792871454,1.328510994177928,2.150843323894888,8.35153897009566,5.741235865103081,9.234263568562259,2.0905069658357704,12.91433163591082,12.663344080927327,3.4954424164472053,4.058215475115958,4.072919525428207,0.3778497194098922,0.41087881243461655,15.260224233297478,14.591582161717799,7.332359398033515,15.306193776777231,13.653228767002089,11.33256242881499,0.18073799489964015,1.2870189312276417,9.876489382867065,25.341208025028365]}]},{\"name\":\"trace43\",\"data\":[{\"name\":\"trace43\",\"type\":\"scatter\",\"xaxis\":\"x\",\"yaxis\":\"y\",\"x\":[0,1,2,3,4,5,6,7,8,9,10,11,12,13,14,15,16,17,18,19,20,21,22,23,24,25,26,27,28,29],\"y\":[0,0.7208036573712268,1.278340377038454,2.2350429533232856,1.5768658602317425,1.939015601173086,1.601977228964924,3.7192961705030427,4.573240345802022,7.626015331745405,5.595277788005859,3.0105178630245644,10.292827565871496,2.224590296029297,3.425803092360418,8.72495045777817,2.3924593965819128,5.481062605682717,2.2599997657030695,8.083311813425114,8.62010098765502,16.24690788011847,13.380663472426447,2.576106027430003,21.520141685751284,23.406773736262814,11.884470848851668,24.663104593975312,19.302972339695177,10.9183516793852]}]},{\"name\":\"trace44\",\"data\":[{\"name\":\"trace44\",\"type\":\"scatter\",\"xaxis\":\"x\",\"yaxis\":\"y\",\"x\":[0,1,2,3,4,5,6,7,8,9,10,11,12,13,14,15,16,17,18,19,20,21,22,23,24,25,26,27,28,29],\"y\":[0,0.3041443030355381,0.993327393897913,2.576557799195817,0.4400258911083843,3.296842986019689,4.668009629745094,1.6248903404416817,1.3625336875001581,5.125594391284107,5.805741106897731,0.5816124780508015,9.846881965354433,8.217356606030753,10.375680860500344,9.412437364987838,11.138761253526729,11.868562168028472,13.845813968646445,16.08032069658816,5.541374025944066,1.463816601671601,18.925752498274434,17.98225304270798,11.199015107949386,1.8118583305107017,7.702078834908851,14.250593162651855,15.7643027138135,22.04450566974455]}]},{\"name\":\"trace45\",\"data\":[{\"name\":\"trace45\",\"type\":\"scatter\",\"xaxis\":\"x\",\"yaxis\":\"y\",\"x\":[0,1,2,3,4,5,6,7,8,9,10,11,12,13,14,15,16,17,18,19,20,21,22,23,24,25,26,27,28,29],\"y\":[0,0.16771379706933054,0.7768482668879944,0.7396027339889657,3.176643353908293,0.38877155419046683,0.9998719389452546,2.147879080375782,6.988730207458471,8.941320512243673,7.20829935760619,4.857924858973452,0.9039340078495468,5.190226800522818,9.81651013845935,8.317183075612924,9.127840896679176,14.202909767021028,15.228983813617823,14.421191640016582,19.795966858759318,13.884783150754446,16.066640161990865,13.829892035267193,13.864084917683492,16.453966183559825,1.5859266669404628,4.332545014442395,19.383733188659544,17.90636258917363]}]},{\"name\":\"trace46\",\"data\":[{\"name\":\"trace46\",\"type\":\"scatter\",\"xaxis\":\"x\",\"yaxis\":\"y\",\"x\":[0,1,2,3,4,5,6,7,8,9,10,11,12,13,14,15,16,17,18,19,20,21,22,23,24,25,26,27,28,29],\"y\":[0,0.07323451991628782,1.453806734007406,2.132026546012503,2.639255843415756,2.587865954262943,5.4002683802987805,0.10745329675079462,3.0068173321007663,5.273312004593114,3.899525783918568,0.4156516338238132,9.92223143545868,3.6452698397328995,13.63551562392246,6.843755344710186,6.6620369500595285,9.695165357033025,12.12726245228901,11.282029907642814,2.1896185948061264,11.89536174184877,19.90045960877623,7.4112564011157,0.005430323911926216,22.189156303898255,7.289145270000469,5.332942164299808,13.729575144706137,20.895303885744454]}]},{\"name\":\"trace47\",\"data\":[{\"name\":\"trace47\",\"type\":\"scatter\",\"xaxis\":\"x\",\"yaxis\":\"y\",\"x\":[0,1,2,3,4,5,6,7,8,9,10,11,12,13,14,15,16,17,18,19,20,21,22,23,24,25,26,27,28,29],\"y\":[0,0.6315621514463395,1.2569827477446782,2.7277836403334494,3.955910104926818,4.083615897030838,1.971400468651982,4.525893660626489,4.837363168443768,8.429192681132788,5.106186904471709,10.87168299131482,11.600461391133644,11.962591443746133,9.652658063839734,6.9270351463656645,7.0440327353115,10.660115115155305,3.1284548140109374,9.440643496468477,7.306246017724924,18.60228094904591,18.31059086527522,6.314624959238202,9.239541778770656,6.314134303569091,8.68188336671196,23.121631378933795,25.50857664878604,20.383385141559973]}]},{\"name\":\"trace48\",\"data\":[{\"name\":\"trace48\",\"type\":\"scatter\",\"xaxis\":\"x\",\"yaxis\":\"y\",\"x\":[0,1,2,3,4,5,6,7,8,9,10,11,12,13,14,15,16,17,18,19,20,21,22,23,24,25,26,27,28,29],\"y\":[0,0.13587016777630623,0.5787987508610997,2.180333148516655,2.690066308959989,1.1807298232932655,2.6655869902235843,3.1982087712619864,7.271123407605613,4.196929661923993,6.508960832812147,5.801502766490875,4.973049962685261,10.999024640786445,8.631056588785057,5.029422623843553,1.1691478747772024,8.641938185306016,4.181435130968669,4.839634851034876,17.009061279355958,20.976104722545276,4.424468520600305,3.270491255739982,8.977925643730014,15.127939372497732,6.287494262247763,4.3750929555605405,5.594917057350502,10.674833330519517]}]},{\"name\":\"trace49\",\"data\":[{\"name\":\"trace49\",\"type\":\"scatter\",\"xaxis\":\"x\",\"yaxis\":\"y\",\"x\":[0,1,2,3,4,5,6,7,8,9,10,11,12,13,14,15,16,17,18,19,20,21,22,23,24,25,26,27,28,29],\"y\":[0,0.5604717577885036,0.5088216337468536,1.0700194989748035,1.6254670448392559,2.6079619364230195,2.740100822057851,0.8239318800753372,3.0447023887845024,5.846214980133057,1.8896828067940985,10.494993104074206,6.242592735843368,12.204503667626671,1.616670041937149,12.427818299706898,6.678762379973646,5.393553491088597,14.864468965678444,4.60673777612006,6.0242207171918665,20.548793017651697,20.227744237730082,9.151000535377122,11.600606152184762,18.83806647723921,11.469166183902106,8.463887639114947,17.8175427119243,20.770123128826235]}]}]\n",
       "var labels_c6fa9a05fcc7aa = [\"trace0\",\"trace1\",\"trace2\",\"trace3\",\"trace4\",\"trace5\",\"trace6\",\"trace7\",\"trace8\",\"trace9\",\"trace10\",\"trace11\",\"trace12\",\"trace13\",\"trace14\",\"trace15\",\"trace16\",\"trace17\",\"trace18\",\"trace19\",\"trace20\",\"trace21\",\"trace22\",\"trace23\",\"trace24\",\"trace25\",\"trace26\",\"trace27\",\"trace28\",\"trace29\",\"trace30\",\"trace31\",\"trace32\",\"trace33\",\"trace34\",\"trace35\",\"trace36\",\"trace37\",\"trace38\",\"trace39\",\"trace40\",\"trace41\",\"trace42\",\"trace43\",\"trace44\",\"trace45\",\"trace46\",\"trace47\",\"trace48\",\"trace49\"]\n",
       "var duration_c6fa9a05fcc7aa = 100\n",
       "\n",
       "var animation_settings_c6fa9a05fcc7aa = {\n",
       "    mode: \"immediate\",\n",
       "    direction: {},\n",
       "    fromcurrent: true,\n",
       "    frame: [\n",
       "      {duration: duration_c6fa9a05fcc7aa},\n",
       "      {duration: duration_c6fa9a05fcc7aa},\n",
       "      {redraw: true}\n",
       "    ],\n",
       "    transition: [\n",
       "      {duration: duration_c6fa9a05fcc7aa, easing: 'cubic-in-out'},\n",
       "      {duration: duration_c6fa9a05fcc7aa, easing: 'cubic-in-out'},\n",
       "    ],\n",
       "    ordering: \"layout first\"\n",
       "}\n",
       "\n",
       "var slider_c6fa9a05fcc7aa = document.createElement(\"input\")\n",
       "var play_c6fa9a05fcc7aa = document.getElementById(\"play_c6fa9a05fcc7aa\")\n",
       "var pause_c6fa9a05fcc7aa = document.getElementById(\"pause_c6fa9a05fcc7aa\")\n",
       "slider_c6fa9a05fcc7aa.id = \"slider_c6fa9a05fcc7aa\"\n",
       "slider_c6fa9a05fcc7aa.type = \"range\"\n",
       "slider_c6fa9a05fcc7aa.min = 0\n",
       "slider_c6fa9a05fcc7aa.max = frames_c6fa9a05fcc7aa.length - 1\n",
       "slider_c6fa9a05fcc7aa.value = 0\n",
       "document.getElementById(\"sliderContainer_c6fa9a05fcc7aa\").appendChild(slider_c6fa9a05fcc7aa);\n",
       "\n",
       "Plotly.newPlot(graph_c6fa9a05fcc7aa, traces_c6fa9a05fcc7aa, layout_c6fa9a05fcc7aa)\n",
       ".then(function () { Plotly.addFrames(graph_c6fa9a05fcc7aa, frames_c6fa9a05fcc7aa) })\n",
       "\n",
       "var trigger_c6fa9a05fcc7aa = true\n",
       "var reset_count_c6fa9a05fcc7aa = false\n",
       "\n",
       "\n",
       "play_c6fa9a05fcc7aa.addEventListener('click', function() {\n",
       "   trigger_c6fa9a05fcc7aa = true\n",
       "   if (reset_count_c6fa9a05fcc7aa) {\n",
       "      slider_c6fa9a05fcc7aa.value = 0\n",
       "      reset_count_c6fa9a05fcc7aa = false\n",
       "   }\n",
       "\n",
       "  const start_index = slider_c6fa9a05fcc7aa.value == labels_c6fa9a05fcc7aa.length - 1 ? 0 : slider_c6fa9a05fcc7aa.value\n",
       "  const end_index = labels_c6fa9a05fcc7aa.length\n",
       "  Plotly.animate(graph_c6fa9a05fcc7aa, labels_c6fa9a05fcc7aa.slice(start_index, end_index), animation_settings_c6fa9a05fcc7aa)\n",
       "})\n",
       "\n",
       "pause_c6fa9a05fcc7aa.addEventListener('click', function() {\n",
       "  Plotly.animate(graph_c6fa9a05fcc7aa, [null], animation_settings_c6fa9a05fcc7aa)\n",
       "})\n",
       "\n",
       "graph_c6fa9a05fcc7aa.on('plotly_redraw', () => {\n",
       "   value_c6fa9a05fcc7aa.innerHTML = slider_c6fa9a05fcc7aa.value;\n",
       "   if (trigger_c6fa9a05fcc7aa & !reset_count_c6fa9a05fcc7aa) ++slider_c6fa9a05fcc7aa.value\n",
       "   if (slider_c6fa9a05fcc7aa.value == labels_c6fa9a05fcc7aa.length - 1) reset_count_c6fa9a05fcc7aa = true\n",
       "});\n",
       "\n",
       "slider_c6fa9a05fcc7aa.oninput = function() {\n",
       "   Plotly.animate(graph_c6fa9a05fcc7aa, frames_c6fa9a05fcc7aa[this.value], animation_settings_c6fa9a05fcc7aa)\n",
       "   trigger_c6fa9a05fcc7aa = false\n",
       "   slider_c6fa9a05fcc7aa.value = this.value\n",
       "   value_c6fa9a05fcc7aa.innerHTML = this.value;\n",
       "   if (this.value == 0) reset_count_c6fa9a05fcc7aa = false\n",
       "   if (this.value == labels_c6fa9a05fcc7aa.length - 1) reset_count_c6fa9a05fcc7aa = true\n",
       "   reset_count_c6fa9a05fcc7aa = false\n",
       "}\n",
       "</script>\n"
      ]
     },
     "metadata": {},
     "output_type": "display_data"
    }
   ],
   "source": [
    "val xaxis = Axis(position = \"xaxis\", title = \"X Variable\", range = (0.0, 10.0))\n",
    "\n",
    "val yaxis = Axis(position = \"yaxis\", title = \"Y Variable\", range = (0.0, 10.0))\n",
    "\n",
    "val layout = Layout(\"Animation.XY\") setAxes(xaxis, yaxis)\n",
    "\n",
    "val data = createXYSeries(numberToCreate = 50, length = 30)\n",
    "\n",
    "val chart = Chart(animated = true) setLayout layout setData data\n",
    "\n",
    "chart.plot_inline()"
   ]
  },
  {
   "cell_type": "code",
   "execution_count": 27,
   "metadata": {},
   "outputs": [
    {
     "data": {
      "text/html": [
       "\n",
       "<style>#animationInterface {\n",
       "    margin-top: 50px;\n",
       "    margin-bottom: 50px;\n",
       "}\n",
       "\n",
       ".progressBar {\n",
       "    padding-top: 20px;\n",
       "    padding-bottom: 20px;\n",
       "}\n",
       "\n",
       ".inline-div {\n",
       "    display: block;\n",
       "    text-align: center;\n",
       "}\n",
       "\n",
       "h3 {\n",
       "    display: inline-block;\n",
       "    text-align: center;\n",
       "}</style>\n",
       "<div align=\"center\">\n",
       "<div id='graph_ec0a1ef0448827' class=\"graph\"></div>\n",
       "<div class='animationInterface'>\n",
       "<button id='play_ec0a1ef0448827'>Play</button>\n",
       "<button id='pause_ec0a1ef0448827'>Pause</button>\n",
       "<div id=\"sliderContainer_ec0a1ef0448827\" class='progressBar'></div>\n",
       "<div>\n",
       "<div>\n",
       "   <div id='counterContainer_ec0a1ef0448827' class='inline-div'>\n",
       "      <h3>Frame: </h3><h3 id=\"value_ec0a1ef0448827\">0</h3>\n",
       "   </div>\n",
       "</div>\n",
       "</div>\n",
       "\n",
       "<script>\n",
       "//var graph_id = 'graph_ec0a1ef0448827'\n",
       "var graph_ec0a1ef0448827 = document.getElementById('graph_ec0a1ef0448827')\n",
       "var traces_ec0a1ef0448827 = [{\"name\":\"trace0\",\"type\":\"scatter3d\",\"xaxis\":\"x\",\"yaxis\":\"y\",\"x\":[0,1,2,3,4,5,6,7,8,9],\"y\":[0,0.33786135355980884,1.2188908714201259,0.19502419124170334,2.9123490826845218,3.392064427814763,3.293124013047695,0.5442325389436363,1.9226099756051962,1.3340553121735637],\"z\":[0,-9.217058327907088E8,1.2979360980822568E9,3.939704845662669E8,-1.0190144750125457E9,-3.6508019490188766E9,-6.22220413579191E9,-5.52598651995307E8,7.483846566555968E9,4.1521464262576036E9]}]\n",
       "var layout_ec0a1ef0448827 = {\"height\":550,\"width\":600,\"title\":{\"text\":\"Animation.XYZ\"},\"showlegend\":false}\n",
       "var frames_ec0a1ef0448827 = [{\"name\":\"trace0\",\"data\":[{\"name\":\"trace0\",\"type\":\"scatter3d\",\"xaxis\":\"x\",\"yaxis\":\"y\",\"x\":[0,1,2,3,4,5,6,7,8,9],\"y\":[0,0.33786135355980884,1.2188908714201259,0.19502419124170334,2.9123490826845218,3.392064427814763,3.293124013047695,0.5442325389436363,1.9226099756051962,1.3340553121735637],\"z\":[0,-9.217058327907088E8,1.2979360980822568E9,3.939704845662669E8,-1.0190144750125457E9,-3.6508019490188766E9,-6.22220413579191E9,-5.52598651995307E8,7.483846566555968E9,4.1521464262576036E9]}]},{\"name\":\"trace1\",\"data\":[{\"name\":\"trace1\",\"type\":\"scatter3d\",\"xaxis\":\"x\",\"yaxis\":\"y\",\"x\":[0,1,2,3,4,5,6,7,8,9],\"y\":[0,0.015482812793257472,1.6661896566189203,2.0083806406278346,3.6172052380801416,3.7067275550593433,2.7317257206347576,1.360531907310556,0.8594853657388741,5.823412966338289],\"z\":[0,2.7932286654724544E8,7.266793798866811E7,-3.0302920156379943E9,-4.353399521736623E8,1.5523974009223835E9,3.416068066930386E9,7.821091659257951E7,2.1724502245113654E9,-1.218249612654634E8]}]},{\"name\":\"trace2\",\"data\":[{\"name\":\"trace2\",\"type\":\"scatter3d\",\"xaxis\":\"x\",\"yaxis\":\"y\",\"x\":[0,1,2,3,4,5,6,7,8,9],\"y\":[0,0.7678913958485653,0.24664546393724196,0.6971170188011868,1.5227828854431644,3.209298590518137,2.5082739841011743,0.45851304785131153,0.8560660719126334,2.066149861262389],\"z\":[0,-6.427734217588172E7,2.2338158313396797E9,1.830579607406477E8,7.03873026565014E9,-4.877509532104853E9,-7.165696496748647E9,-7.363832973243876E9,4.3748521274496835E8,-8.01843160569992E8]}]},{\"name\":\"trace3\",\"data\":[{\"name\":\"trace3\",\"type\":\"scatter3d\",\"xaxis\":\"x\",\"yaxis\":\"y\",\"x\":[0,1,2,3,4,5,6,7,8,9],\"y\":[0,0.08735438771686488,0.04037032185474332,1.4100409395033302,2.014521689088147,2.274431871515624,4.299461574459512,0.2025992328938202,2.4382635586426336,8.711589820307454],\"z\":[0,6.170341287290082E8,2.546327418013408E8,-5.193969887405759E8,6.90596315930816E8,-8.210622447123902E8,4.044113435373209E9,-2.9885677106566185E8,-6.163750252103753E9,1.0178746778319195E10]}]},{\"name\":\"trace4\",\"data\":[{\"name\":\"trace4\",\"type\":\"scatter3d\",\"xaxis\":\"x\",\"yaxis\":\"y\",\"x\":[0,1,2,3,4,5,6,7,8,9],\"y\":[0,0.7281647212794014,1.2368731877449761,0.5725973423388031,3.7683317127118636,0.7980805602524965,3.2002711351200928,4.782449002664153,2.4645015275742645,2.4127202839660584],\"z\":[0,5.341229211292706E8,-7.548217047165808E7,3.404639242484754E9,-4.0839918267423487E9,9.654344662864153E8,8.433614106150817E9,9.706104729018042E9,-2.2892336756146665E9,5.116183815895853E9]}]},{\"name\":\"trace5\",\"data\":[{\"name\":\"trace5\",\"type\":\"scatter3d\",\"xaxis\":\"x\",\"yaxis\":\"y\",\"x\":[0,1,2,3,4,5,6,7,8,9],\"y\":[0,0.10509406134777444,1.2033965009369834,1.6491541233717624,3.388468350516546,2.00048573903079,2.7231683483514364,6.535640782724245,4.444182719841946,4.842944304127154],\"z\":[0,-5.501984000384189E7,1.5486302979876504E9,-1.7955710947347787E8,9.107550911645484E8,-2.274367207463638E9,-2.190922276036366E9,-7.855121600532308E9,-3.4834991775526443E9,2.464542094596444E9]}]},{\"name\":\"trace6\",\"data\":[{\"name\":\"trace6\",\"type\":\"scatter3d\",\"xaxis\":\"x\",\"yaxis\":\"y\",\"x\":[0,1,2,3,4,5,6,7,8,9],\"y\":[0,0.5673904761145401,1.4166837377731878,1.7885217853351913,2.108585896572782,0.5210048023240249,0.6344308550999578,3.491672606062585,1.2131000528927842,1.2477877563174733],\"z\":[0,-1.7687113026090949E9,1.6049114754494164E9,-1.712734146814298E9,-1.8430661008417144E9,-2.4666322530022225E9,9.167295883557735E9,6.1232285370098636E7,1.0168596463216367E9,2.5826695159834914E9]}]},{\"name\":\"trace7\",\"data\":[{\"name\":\"trace7\",\"type\":\"scatter3d\",\"xaxis\":\"x\",\"yaxis\":\"y\",\"x\":[0,1,2,3,4,5,6,7,8,9],\"y\":[0,0.2147908288475514,0.19088374372153272,2.9751667878661645,3.07848599393764,4.083251880812442,0.37995795212688344,3.2287039322600144,6.38005429444497,1.9884674059975924],\"z\":[0,6.729623991430027E8,-4.269778805245318E8,-1.9989755928446424E9,2.083630533437045E8,-8.425679625885465E9,2.2634156347257295E9,-1.801851034755852E9,7.176161777819562E9,-3.657277575788304E8]}]},{\"name\":\"trace8\",\"data\":[{\"name\":\"trace8\",\"type\":\"scatter3d\",\"xaxis\":\"x\",\"yaxis\":\"y\",\"x\":[0,1,2,3,4,5,6,7,8,9],\"y\":[0,0.5916063440076474,0.980522447295795,0.24423772356415185,2.3378550807954332,4.6699869855680145,2.4272213680186456,2.972826651023456,2.3934991100151803,8.244426547875435],\"z\":[0,1.1551229886618214E9,-2.156979948140888E9,-8.018725253706638E8,2.4691547746496825E9,-7.334848503390107E8,-2.456946353789873E9,8.877513845157846E8,5.606308670096128E9,-5.218224564937051E9]}]},{\"name\":\"trace9\",\"data\":[{\"name\":\"trace9\",\"type\":\"scatter3d\",\"xaxis\":\"x\",\"yaxis\":\"y\",\"x\":[0,1,2,3,4,5,6,7,8,9],\"y\":[0,0.1850892209929873,0.9685077021225079,1.7417592435838594,2.690961001802437,2.8300413992458524,5.917254424867662,5.875617207010957,4.998108321500554,4.62649158952995],\"z\":[0,-3.055451084335007E7,2.935954782724467E8,-8.245616826964115E8,-3.5980857621084847E9,-1.8040777951822357E9,-1.0643311150356041E9,8.938002519836384E8,7.028701462777756E7,-4.151895816896627E8]}]},{\"name\":\"trace10\",\"data\":[{\"name\":\"trace10\",\"type\":\"scatter3d\",\"xaxis\":\"x\",\"yaxis\":\"y\",\"x\":[0,1,2,3,4,5,6,7,8,9],\"y\":[0,0.14434857792603517,1.611128561772721,0.6408473203292854,3.053795069032972,2.068387070006483,1.4059378047616022,0.7431238185487478,7.234614194067846,0.9361139356894209],\"z\":[0,2.418663587669311E8,3.3688117289728727E9,2.1807919950473094E9,-7.805549908516514E8,5.325428206601335E8,-1.081326683170617E9,-4.1105349954367065E9,1.4056593232161355E9,-4.310032112646731E9]}]},{\"name\":\"trace11\",\"data\":[{\"name\":\"trace11\",\"type\":\"scatter3d\",\"xaxis\":\"x\",\"yaxis\":\"y\",\"x\":[0,1,2,3,4,5,6,7,8,9],\"y\":[0,0.27787763145996336,0.008569715019676627,0.08177564906492163,1.8418508017835453,4.129387932431164,1.6357287424022713,6.622581509633914,3.6704268990548536,1.6434241731012444],\"z\":[0,4.1045582384141237E8,-7.638264115792348E8,-2.5567219263488655E9,-1.3373775730587583E7,2.588983289912794E9,-1.7329386539599714E9,-2.288888241066893E9,1.2732784392569504E10,1.975568510801415E8]}]},{\"name\":\"trace12\",\"data\":[{\"name\":\"trace12\",\"type\":\"scatter3d\",\"xaxis\":\"x\",\"yaxis\":\"y\",\"x\":[0,1,2,3,4,5,6,7,8,9],\"y\":[0,0.3523590245003051,1.2499641040364067,0.263824952778147,1.0702228728511458,1.8461320475935166,0.5325659436058978,4.945603189078714,3.7421319061947003,8.509143481658697],\"z\":[0,-1.8878378197956889E9,-3368781.413399718,9.946448768561927E8,5.585715681761556E8,-1.2348679748056788E9,-8.557200493615977E9,9.568112021384241E9,7.319711719600908E9,-1.1505899185890517E9]}]},{\"name\":\"trace13\",\"data\":[{\"name\":\"trace13\",\"type\":\"scatter3d\",\"xaxis\":\"x\",\"yaxis\":\"y\",\"x\":[0,1,2,3,4,5,6,7,8,9],\"y\":[0,0.03341381889031958,0.2558722861338931,2.7533510859085464,3.7619796945264556,1.284141060743678,4.085029298440762,1.8958016921193384,3.072353059125967,2.2122599222282666],\"z\":[0,8.489550048683602E7,9.417052460701231E8,-1.9920771608575573E9,1.888478523192255E9,-7.973830376883585E9,-4.925512997002571E9,-2.850925875943626E9,-3.4464654525571513E8,1.7666671035782292E9]}]},{\"name\":\"trace14\",\"data\":[{\"name\":\"trace14\",\"type\":\"scatter3d\",\"xaxis\":\"x\",\"yaxis\":\"y\",\"x\":[0,1,2,3,4,5,6,7,8,9],\"y\":[0,0.2174274260333613,1.7071036763540868,0.6681803265012076,1.7505664581595788,0.17090347584565457,5.137013758697142,2.2518908819058785,1.2877365201976598,0.7365986419439389],\"z\":[0,-1.41565251160354E9,-3.1854596837908945E9,-2.3108815874618682E8,4.044930229030774E9,3.8782872054666667E9,-2.5284545550940585E9,-3.2815316356767197E9,9.880747405177375E8,3.642556736845649E9]}]},{\"name\":\"trace15\",\"data\":[{\"name\":\"trace15\",\"type\":\"scatter3d\",\"xaxis\":\"x\",\"yaxis\":\"y\",\"x\":[0,1,2,3,4,5,6,7,8,9],\"y\":[0,0.3443362073120777,0.2910688536080097,2.297116557273715,3.1417853726848333,0.8618063944713922,4.127843264942081,1.3623107821806317,3.2745392079889584,3.9201553120107446],\"z\":[0,3.8704062417226326E8,-2.4980513460689764E7,-1.5069546718808796E9,-1.178291948711617E9,-1.9986822265627203E9,1.3700024142542408E9,-3.410785718133987E9,-4.552687770475352E9,-3.413452957457332E9]}]},{\"name\":\"trace16\",\"data\":[{\"name\":\"trace16\",\"type\":\"scatter3d\",\"xaxis\":\"x\",\"yaxis\":\"y\",\"x\":[0,1,2,3,4,5,6,7,8,9],\"y\":[0,0.3761612617564537,1.2613447176708306,0.4261489466617321,2.0662281663591555,0.44407739865023943,4.238511417325167,6.592981289201401,4.004691630595163,7.181658182868767],\"z\":[0,-5.532538139203895E8,-2.4037940117418025E7,3.240902582333242E9,-1.102721544375323E9,-4.2464629406886333E8,6.97587999240894E8,-5.784133514898249E9,-2.7881306094813476E9,-1.1264901586525047E9]}]},{\"name\":\"trace17\",\"data\":[{\"name\":\"trace17\",\"type\":\"scatter3d\",\"xaxis\":\"x\",\"yaxis\":\"y\",\"x\":[0,1,2,3,4,5,6,7,8,9],\"y\":[0,0.5864298505780584,0.43450586370577793,0.7176322143979325,3.607757260072383,1.4602028778367577,3.498934140413102,0.6349668061110286,2.6954124460799127,2.2524950410847797],\"z\":[0,1.514041804323269E8,1.135093165378036E9,-2.246697097949048E9,-1.134084710057138E9,4.422802089905317E9,-2.1990848381071506E9,1.1494519253882596E9,1.7982601679840736E9,2.35697196719337E9]}]},{\"name\":\"trace18\",\"data\":[{\"name\":\"trace18\",\"type\":\"scatter3d\",\"xaxis\":\"x\",\"yaxis\":\"y\",\"x\":[0,1,2,3,4,5,6,7,8,9],\"y\":[0,0.5139224607324323,1.9079885076192173,2.094582628139568,2.8608556027065855,1.7670716206194792,0.4452147880002879,6.6535189277005395,2.4828271461687965,4.275346933121064],\"z\":[0,1.1719609420222926E8,2.703959873863712E8,4.543329702742833E8,6.356993709950769E9,8.6525173175246E9,-3.1995208447814193E9,9.217156332539148E8,-2.6895838407558017E9,-1.333493176889988E10]}]},{\"name\":\"trace19\",\"data\":[{\"name\":\"trace19\",\"type\":\"scatter3d\",\"xaxis\":\"x\",\"yaxis\":\"y\",\"x\":[0,1,2,3,4,5,6,7,8,9],\"y\":[0,0.9677428345100065,0.09501468645924449,2.256656287244016,3.7297178443985026,0.6878763058721993,4.4702650767472765,1.2651175255337568,7.5329790912135675,8.161815000994162],\"z\":[0,-1.4095107930632925E9,1.8700650059032688E8,-7.029064089468433E8,-8.165294756088165E8,-1.2722398657692606E9,-9.715560446657963E8,-7.758257855398953E9,-7.496054546574712E9,9.342872162554234E8]}]},{\"name\":\"trace20\",\"data\":[{\"name\":\"trace20\",\"type\":\"scatter3d\",\"xaxis\":\"x\",\"yaxis\":\"y\",\"x\":[0,1,2,3,4,5,6,7,8,9],\"y\":[0,0.018005856795988873,0.7022465760442349,0.10077093547801541,1.8153811803874778,0.4389933207281982,4.762069040607324,1.824840361863785,1.31985676094786,3.6239601600150824],\"z\":[0,4.362364974361034E8,4.562476512554985E8,-1.2557729442012365E9,1.4991413710221534E9,7.530936121917766E9,1.9809581714995122E9,2.479496643456405E9,-5.006778832771559E9,-9.641374346425228E9]}]},{\"name\":\"trace21\",\"data\":[{\"name\":\"trace21\",\"type\":\"scatter3d\",\"xaxis\":\"x\",\"yaxis\":\"y\",\"x\":[0,1,2,3,4,5,6,7,8,9],\"y\":[0,0.7581253495234735,0.20965183218983485,2.1402148285250178,3.4759972852581567,1.5332883504315586,2.1291859103195336,6.964362134484107,7.562129857812936,2.426157839692403],\"z\":[0,-2.2218845965533987E7,6.468178394222814E8,2.1151120793420796E9,2.258025003662727E9,1.6246047633184783E9,-5.230664280621279E9,-5.2011621855158854E8,1.3073682063893469E10,-8.487472494436897E9]}]},{\"name\":\"trace22\",\"data\":[{\"name\":\"trace22\",\"type\":\"scatter3d\",\"xaxis\":\"x\",\"yaxis\":\"y\",\"x\":[0,1,2,3,4,5,6,7,8,9],\"y\":[0,0.10261394203736274,1.7146853956917614,2.4085077143801614,0.7605033633595193,2.462514401134772,3.525708434159182,6.50705154415225,2.6288274835555656,6.265080667859268],\"z\":[0,-2.275690855115758E7,-5.963382127383094E8,-2.0191282801524666E8,-4.8842120422014004E8,1.953304859951112E8,-4.368940467134112E9,1.501792084785983E9,1459047.1370185248,6.997775519708953E9]}]},{\"name\":\"trace23\",\"data\":[{\"name\":\"trace23\",\"type\":\"scatter3d\",\"xaxis\":\"x\",\"yaxis\":\"y\",\"x\":[0,1,2,3,4,5,6,7,8,9],\"y\":[0,0.10306170083192634,1.401797763488458,2.868781480109495,1.394468254406093,4.098680189755284,1.200723347159554,6.817797441911997,5.465014838730983,8.556574389830892],\"z\":[0,9.28842362626555E8,-1.9659533905274599E9,3.389106964010359E9,4.401696121831538E9,3.0512020958947444E9,-2.8599056220224795E9,8.119975582241941E9,2.901352344149865E9,3.319765565506065E9]}]},{\"name\":\"trace24\",\"data\":[{\"name\":\"trace24\",\"type\":\"scatter3d\",\"xaxis\":\"x\",\"yaxis\":\"y\",\"x\":[0,1,2,3,4,5,6,7,8,9],\"y\":[0,0.9016905726292386,1.6119262932013272,0.7973447856910355,2.3863120833241194,3.8799096549221357,3.0112805463023107,1.8929820219305107,2.09994859520347,0.9873456283564793],\"z\":[0,-8.528199956089866E8,1.3853624584270923E9,-8.404348786634822E8,-2.014280539031309E9,-1.8825407508988888E9,-3.885483305170639E8,-8.663260088682932E9,5.915516523301214E9,1.430114377495275E9]}]},{\"name\":\"trace25\",\"data\":[{\"name\":\"trace25\",\"type\":\"scatter3d\",\"xaxis\":\"x\",\"yaxis\":\"y\",\"x\":[0,1,2,3,4,5,6,7,8,9],\"y\":[0,0.7214790280448705,0.17231690166849867,0.5776664446705586,0.14587195662796093,3.2484299937504946,0.7328265677743504,5.84963362568715,1.6966769539958557,5.074290419378374],\"z\":[0,1.5735667094732654E8,-1.447858651391547E9,-1.180726437170105E9,2.7591774854190793E9,2.1404515350044796E9,-1.236372125848246E9,-3.3210336263313975E9,-4.4755513938937396E8,3.760275487295464E9]}]},{\"name\":\"trace26\",\"data\":[{\"name\":\"trace26\",\"type\":\"scatter3d\",\"xaxis\":\"x\",\"yaxis\":\"y\",\"x\":[0,1,2,3,4,5,6,7,8,9],\"y\":[0,0.17571943925752675,1.6076054406916716,1.4130414991787463,0.4787933042497148,3.6189527515827313,0.3769771978850609,2.441150781364426,2.7706157539970038,1.0049396108143231],\"z\":[0,1.347569781725971E8,1.1728411411286447E9,1.8099391983554103E9,3.1983654078318924E8,3.559452145750667E9,-1.0433035550990648E10,2.8968977787700863E9,-6.907674642058194E8,8.0426714397495E8]}]},{\"name\":\"trace27\",\"data\":[{\"name\":\"trace27\",\"type\":\"scatter3d\",\"xaxis\":\"x\",\"yaxis\":\"y\",\"x\":[0,1,2,3,4,5,6,7,8,9],\"y\":[0,0.7778664961652103,1.6039265658443547,2.3547878790523997,2.808911993036401,4.5530245463463785,4.4692706786335625,0.07944608229146843,3.440048096579173,6.424430997023486],\"z\":[0,1.79843442935106E9,1.1214438931566963E9,-2.301343977505566E7,-1.2415601659545504E8,-3.6326369346477623E9,-6.064439941412816E9,3.2975922655778165E9,8.283613771463434E8,6.915923888706166E9]}]},{\"name\":\"trace28\",\"data\":[{\"name\":\"trace28\",\"type\":\"scatter3d\",\"xaxis\":\"x\",\"yaxis\":\"y\",\"x\":[0,1,2,3,4,5,6,7,8,9],\"y\":[0,0.5388053963948275,1.458263699855447,1.581507399532547,2.3082630833333413,1.0482969553163612,0.3539348984332109,1.8569480833294065,4.996713482914636,6.558428899860183],\"z\":[0,-1.550786139136282E9,-8.378560612798659E8,2.0004419323414161E9,-2.805805030060235E9,-2.4437074821540174E9,8.82091886927605E8,-3.066150637505203E8,4.7911393535795295E8,-9.755722155109141E8]}]},{\"name\":\"trace29\",\"data\":[{\"name\":\"trace29\",\"type\":\"scatter3d\",\"xaxis\":\"x\",\"yaxis\":\"y\",\"x\":[0,1,2,3,4,5,6,7,8,9],\"y\":[0,0.5234711439142407,1.681029694538958,0.28156353353078,2.883749348753604,0.3744314754163003,4.7318615795592525,5.361854671155849,0.2626665453470043,8.708128880871303],\"z\":[0,9.926908538268374E8,-9.44949732901482E8,-4.5156746411495566E8,1.0433808150472009E9,-1.1638964788236408E9,6.333511315259685E9,-5.648551163169551E8,2.1539928438516564E9,-8.480739867862233E9]}]},{\"name\":\"trace30\",\"data\":[{\"name\":\"trace30\",\"type\":\"scatter3d\",\"xaxis\":\"x\",\"yaxis\":\"y\",\"x\":[0,1,2,3,4,5,6,7,8,9],\"y\":[0,0.909494890014424,1.9255173631365752,2.7366834956367363,1.756162165315227,1.7891095247292137,5.246933840338981,4.929018691161028,2.5927966589984406,5.552292675464976],\"z\":[0,360716.38341198006,8.229739993119115E8,-4.336158952749411E8,1.6261184775368135E9,-1.6570026050732932E9,-2.5754433962542753E9,1.4203696278463418E9,1.823114438472547E9,3.7846969403781567E9]}]},{\"name\":\"trace31\",\"data\":[{\"name\":\"trace31\",\"type\":\"scatter3d\",\"xaxis\":\"x\",\"yaxis\":\"y\",\"x\":[0,1,2,3,4,5,6,7,8,9],\"y\":[0,0.16662014256056878,0.29080572870991017,0.21030949614279226,0.22382960914565464,4.553283646373279,5.213410835753499,4.5791948624940755,4.066145239485057,2.8344799296431376],\"z\":[0,-1.4237994966329815E9,3.705941881006401E8,5.130981488704654E8,8.567585592108454E8,3.498577826733227E9,8.344656151331047E9,-1.5156046493054962E9,5.823058508882568E9,-1.0991492418238691E10]}]},{\"name\":\"trace32\",\"data\":[{\"name\":\"trace32\",\"type\":\"scatter3d\",\"xaxis\":\"x\",\"yaxis\":\"y\",\"x\":[0,1,2,3,4,5,6,7,8,9],\"y\":[0,0.10273858045309237,0.4649491347650767,1.818847865224853,2.5573666647461946,4.434742138637928,1.6486582154727027,6.8111354405730875,0.6950834696441133,2.3678142752789535],\"z\":[0,-3.553596589849874E8,-1.5296090456706147E9,3.7865534911763034E9,6.619843011620764E8,3.133528932860372E9,3.9577168848044705E9,2.929399606610204E9,-4.125165174558303E9,-8.70381336431387E9]}]},{\"name\":\"trace33\",\"data\":[{\"name\":\"trace33\",\"type\":\"scatter3d\",\"xaxis\":\"x\",\"yaxis\":\"y\",\"x\":[0,1,2,3,4,5,6,7,8,9],\"y\":[0,0.6835506041577804,1.5673400673240026,1.2432177942752056,2.119947828771698,2.8301085100547816,4.556211320210082,1.197768295368497,7.857557563009758,5.85740011724213],\"z\":[0,-1.3643816198129597E8,-6.497675824078899E7,-6.120114575403606E9,1.0673144336935886E9,3.3182233003787E9,8.08786684655264E9,-7.704892789324992E9,4.916105254685748E8,5.621528197378028E9]}]},{\"name\":\"trace34\",\"data\":[{\"name\":\"trace34\",\"type\":\"scatter3d\",\"xaxis\":\"x\",\"yaxis\":\"y\",\"x\":[0,1,2,3,4,5,6,7,8,9],\"y\":[0,0.694164308135958,0.26529504622862854,0.6371561322984155,0.3310245577419568,2.6393991263497596,5.019601204944518,5.270337124378346,3.2009081155466523,5.067443639135482],\"z\":[0,-8.386381218258712E7,1.9983757110014105E9,-2.9673884849175557E7,1.857231698112426E9,-1.9622440054974782E9,-2.9755417661204208E7,-8.405625261383658E9,-6.804216717194992E9,5.722357080651733E9]}]},{\"name\":\"trace35\",\"data\":[{\"name\":\"trace35\",\"type\":\"scatter3d\",\"xaxis\":\"x\",\"yaxis\":\"y\",\"x\":[0,1,2,3,4,5,6,7,8,9],\"y\":[0,0.5718272179829601,1.6662684990141596,1.1030485296023222,3.152132645132332,3.409691121017259,3.986728266510861,5.892392495167595,3.433588882036661,4.862374791924581],\"z\":[0,-6.09562642584575E8,8.375875678501542E8,-7.972434475679361E8,-7.221277642596468E8,4.10330682127184E8,2.5665525481578967E8,-9.225161655269178E9,-1.336045869821958E9,-4.629542529717979E9]}]},{\"name\":\"trace36\",\"data\":[{\"name\":\"trace36\",\"type\":\"scatter3d\",\"xaxis\":\"x\",\"yaxis\":\"y\",\"x\":[0,1,2,3,4,5,6,7,8,9],\"y\":[0,0.0375415665224097,0.7365777343376716,0.05161153428871845,2.8621871937749455,3.762017641069444,4.648179785645985,1.9333523390110083,3.877935588862816,5.4710068884182625],\"z\":[0,-4.914158371866998E8,5.723570278902521E8,-3.5122103146397953E9,-2.638855427641425E8,-1.3208770485767277E8,-1.2351866910997756E9,7.786790367618324E7,-1.5939392634749756E9,4.889671756625199E9]}]},{\"name\":\"trace37\",\"data\":[{\"name\":\"trace37\",\"type\":\"scatter3d\",\"xaxis\":\"x\",\"yaxis\":\"y\",\"x\":[0,1,2,3,4,5,6,7,8,9],\"y\":[0,0.6099399803874271,1.9163396689866454,0.6378231472540792,2.733847254743971,2.3980397046518656,4.84398986598436,2.7769586137920528,2.5425703489567724,0.19987277451405494],\"z\":[0,4.21035173525498E7,4.4996815379025996E8,-1.3905701756882951E9,-4.849978598121263E9,-1.7072301660223315E9,-7.756430105435836E8,-2.1018840307453055E9,1.1110483576740804E9,3.9615783537100625E9]}]},{\"name\":\"trace38\",\"data\":[{\"name\":\"trace38\",\"type\":\"scatter3d\",\"xaxis\":\"x\",\"yaxis\":\"y\",\"x\":[0,1,2,3,4,5,6,7,8,9],\"y\":[0,0.34124055694011357,0.3769904532161985,1.3672558513388893,3.6799557749163303,2.620443581235647,3.151183242029937,6.220748410275058,7.267596411675973,8.00106119981648],\"z\":[0,-1.2275531480125828E9,1.622193366330003E9,2.664673488996152E9,1.9426762459464397E9,-3.5458132687094564E9,-8.013156491782668E9,1.3748873004833931E10,2.125201576375049E9,-1.205862495560214E10]}]},{\"name\":\"trace39\",\"data\":[{\"name\":\"trace39\",\"type\":\"scatter3d\",\"xaxis\":\"x\",\"yaxis\":\"y\",\"x\":[0,1,2,3,4,5,6,7,8,9],\"y\":[0,0.5785692200041237,1.096214752987754,1.86912968923366,1.8311846735102764,0.7844174018058292,1.5434966843656548,0.18316762957248944,1.390448168497314,7.474454935095112],\"z\":[0,3.4177807513526255E8,-1.0901997026851137E9,-2.884147304079718E8,-1.403495104102757E9,-2.0970495878425426E9,6.049837476976178E8,1.69102269510832E9,7.687013332874637E9,8.248028925553789E9]}]},{\"name\":\"trace40\",\"data\":[{\"name\":\"trace40\",\"type\":\"scatter3d\",\"xaxis\":\"x\",\"yaxis\":\"y\",\"x\":[0,1,2,3,4,5,6,7,8,9],\"y\":[0,0.20200070550222726,0.035959665974177435,2.1086947686720205,2.9687848945934605,2.4166387138606575,5.7419962178888655,2.449151596139154,5.806429422507174,2.8082091593431557],\"z\":[0,1.0245889002174294E7,1.77313113332068E9,-2.4969083868312845E9,1.8344059584272554E9,-7.082885249200672E9,8.607873105406172E9,1.519146606429972E8,6.715384591427152E9,1.0038945569619833E10]}]},{\"name\":\"trace41\",\"data\":[{\"name\":\"trace41\",\"type\":\"scatter3d\",\"xaxis\":\"x\",\"yaxis\":\"y\",\"x\":[0,1,2,3,4,5,6,7,8,9],\"y\":[0,0.2589797057419688,1.2457518699474888,2.0486079133795765,2.2917169241168107,2.176248664028474,1.5459270023816662,1.6350393106134704,2.023398110150576,1.0431180359378653],\"z\":[0,2.493262764783444E8,-2.2482338671950526E9,-4.521932366814583E8,-1.740829360285447E8,4.5207678278756016E8,-4.816781763198581E9,5.755577827948178E9,5.16036329459907E9,7.137210858946433E9]}]},{\"name\":\"trace42\",\"data\":[{\"name\":\"trace42\",\"type\":\"scatter3d\",\"xaxis\":\"x\",\"yaxis\":\"y\",\"x\":[0,1,2,3,4,5,6,7,8,9],\"y\":[0,0.849932947788435,0.9915482315219455,0.2770308930972102,3.173756050422315,1.0448699509496056,4.090523760320622,4.665452318553111,7.257869243190605,0.8693597891363853],\"z\":[0,1.0617039211416266E9,1.3588171053104792E9,3.1563922262336266E8,1.2589068820894241E9,-2.3172945865174413E9,-5.457831539869461E9,6.277726258223882E9,-2.546757736006035E9,3.8790612326826553E9]}]},{\"name\":\"trace43\",\"data\":[{\"name\":\"trace43\",\"type\":\"scatter3d\",\"xaxis\":\"x\",\"yaxis\":\"y\",\"x\":[0,1,2,3,4,5,6,7,8,9],\"y\":[0,0.31787774693596693,1.7632230755730889,1.1366128460169715,0.5204681417238524,4.232748702667225,4.154793390226396,2.4495470629489264,5.316235046274128,2.8580292101043714],\"z\":[0,-1.325823963456006E9,4.0548533664043146E8,4.8775705615825903E8,-2.0677223539907358E9,4.446971115059676E9,5.5909767347258E8,-1.3350570183184431E10,-2.478495640387778E9,-9.040873365977067E7]}]},{\"name\":\"trace44\",\"data\":[{\"name\":\"trace44\",\"type\":\"scatter3d\",\"xaxis\":\"x\",\"yaxis\":\"y\",\"x\":[0,1,2,3,4,5,6,7,8,9],\"y\":[0,0.42602150954984763,1.1870958456615481,2.8141344834960593,2.5563420077652363,3.566035998932249,2.3005821643243154,2.2341962776056166,7.312063104086108,4.452968528805961],\"z\":[0,-2.6363848492698562E8,-3.8025200236482114E8,2.505850713585621E8,9.512001629090473E7,-8.416596930059148E8,1.8083128764122467E9,5.435863540694353E9,-7.219972378405778E9,2.842619598991702E9]}]},{\"name\":\"trace45\",\"data\":[{\"name\":\"trace45\",\"type\":\"scatter3d\",\"xaxis\":\"x\",\"yaxis\":\"y\",\"x\":[0,1,2,3,4,5,6,7,8,9],\"y\":[0,0.45978284499329736,1.7919035833052108,1.9521630695543226,2.6636518204097164,0.18483998331528306,4.572542318328315,6.82705999225256,7.811058470425501,1.015562696069566],\"z\":[0,-6.858479829824731E8,-1.3184934305821643E9,1.4839062458896339E7,-1.304996023609543E9,-4.591962014578089E9,8.282100650090231E7,9.081098750192074E9,-3.819212467723034E9,-1.4666265312058249E9]}]},{\"name\":\"trace46\",\"data\":[{\"name\":\"trace46\",\"type\":\"scatter3d\",\"xaxis\":\"x\",\"yaxis\":\"y\",\"x\":[0,1,2,3,4,5,6,7,8,9],\"y\":[0,0.9442201194232784,0.2938700134744261,2.2005962735792868,2.9752031632013303,2.9125067403214606,5.882624258312238,6.783298213727978,2.424101266691883,1.3435012214224977],\"z\":[0,2.462110094206633E8,1.2837247758565803E9,3.4526053403109803E9,-3.0502410175123534E9,-4.0274355709370244E8,2.3402412717699504E9,-3.9146926884368186E9,-1.0509180213511105E9,-4.90065930643146E8]}]},{\"name\":\"trace47\",\"data\":[{\"name\":\"trace47\",\"type\":\"scatter3d\",\"xaxis\":\"x\",\"yaxis\":\"y\",\"x\":[0,1,2,3,4,5,6,7,8,9],\"y\":[0,0.3495965704742505,1.1960193928608118,0.6896581480044405,2.5863803497114644,2.61591063538385,2.4421880955198993,1.499296973681989,6.89877258111019,5.006564500348748],\"z\":[0,8.329709945297254E8,-7.178529900972711E8,1.7846367360459936E9,-5.215573685006324E9,5.207919812408543E9,3.145456787050703E9,2.739270286957263E9,-4.76599324040018E9,-5.702405397436317E8]}]},{\"name\":\"trace48\",\"data\":[{\"name\":\"trace48\",\"type\":\"scatter3d\",\"xaxis\":\"x\",\"yaxis\":\"y\",\"x\":[0,1,2,3,4,5,6,7,8,9],\"y\":[0,0.6894389228611149,1.0089099393475331,2.8926942580672694,0.17017239655293848,2.934764064407142,2.6157128115486907,5.99859897449444,2.598156571103484,1.3692150551013977],\"z\":[0,-2.3558206715555933E8,1.4376820452026826E8,-4.923937254071764E8,1.8609445879803116E9,-4.890777003637117E9,1.6674988056631174E7,7.690749941090993E8,-1.441788813445537E10,2.7898364879279304E9]}]},{\"name\":\"trace49\",\"data\":[{\"name\":\"trace49\",\"type\":\"scatter3d\",\"xaxis\":\"x\",\"yaxis\":\"y\",\"x\":[0,1,2,3,4,5,6,7,8,9],\"y\":[0,0.7297931769365538,1.3081580486616444,2.7654535233632944,0.15304006156001781,2.8424637633349197,4.151981854236621,4.394200925349016,3.8562940631553966,3.26630684736013],\"z\":[0,-8.444257747782509E8,-1.4073179784082856E9,1.5390269679431298E8,-1.2034780452254838E8,3.066093964099069E9,-4.82292342499605E9,-6.322652726743455E9,6.801135585829001E9,-8.158482001549437E9]}]},{\"name\":\"trace50\",\"data\":[{\"name\":\"trace50\",\"type\":\"scatter3d\",\"xaxis\":\"x\",\"yaxis\":\"y\",\"x\":[0,1,2,3,4,5,6,7,8,9],\"y\":[0,0.8782991485363656,0.8418263567695881,0.5186671924426024,1.9925795838087415,3.7850122192642326,0.8550592196008768,2.291311186888257,2.4880296273445754,4.267385689489982],\"z\":[0,-6.359666264275992E8,-6.6380293577653274E7,2.810190558209109E9,1.520232458318178E8,-2.5598815733202147E9,-6.6405692353817425E9,-2.32025505087378E9,-1.1924599848179865E9,3.6628995616022243E9]}]},{\"name\":\"trace51\",\"data\":[{\"name\":\"trace51\",\"type\":\"scatter3d\",\"xaxis\":\"x\",\"yaxis\":\"y\",\"x\":[0,1,2,3,4,5,6,7,8,9],\"y\":[0,0.15682827513972264,1.5452019766769372,0.49055088907274536,3.845470700304757,0.4485537286509589,5.263127374152759,6.8203971164155455,3.7084644607821877,3.5140281556104704],\"z\":[0,8.493488267373167E7,-4.320126702483109E8,-2.907730360956456E9,7.673727275781349E8,8.703108916936867E8,-6.513389011269109E8,-6576580.142814817,9997403.42058343,-2.5953090749944773E9]}]},{\"name\":\"trace52\",\"data\":[{\"name\":\"trace52\",\"type\":\"scatter3d\",\"xaxis\":\"x\",\"yaxis\":\"y\",\"x\":[0,1,2,3,4,5,6,7,8,9],\"y\":[0,0.6226249373608992,0.42896710571543606,2.8732983806513595,1.8397175455755845,4.690704607645203,3.6013910322424,0.812602556328768,6.100026486547924,3.512046210248168],\"z\":[0,3.6329303819365895E8,-2.3390291810928335E9,-2.6974530915453515E9,-4.204876967906782E7,1.5510778469682581E9,-2.3733841797114387E9,1.8773100844852562E9,1.1927693528325943E10,-4.2102980445276136E9]}]},{\"name\":\"trace53\",\"data\":[{\"name\":\"trace53\",\"type\":\"scatter3d\",\"xaxis\":\"x\",\"yaxis\":\"y\",\"x\":[0,1,2,3,4,5,6,7,8,9],\"y\":[0,0.21640820634428048,0.7911523361401906,1.2931045896461553,0.6040164065579408,1.3565836756517036,3.533217968653477,3.6294446288650217,0.06499314036400516,3.5718064604284336],\"z\":[0,-1.4532403580475497E9,-4.3587929548893535E8,1.3671847750170302E9,2280069.5149481473,-1.1800407603943741E9,8.777058109229574E9,6.000937616751449E9,-4.0968977026981683E9,2.6906258642094675E7]}]},{\"name\":\"trace54\",\"data\":[{\"name\":\"trace54\",\"type\":\"scatter3d\",\"xaxis\":\"x\",\"yaxis\":\"y\",\"x\":[0,1,2,3,4,5,6,7,8,9],\"y\":[0,0.9505051048251807,0.6322049992212444,0.599418608008556,2.816342288883938,2.2551314255465553,5.925804817756554,0.5968881028540063,0.40353584272275267,0.011938927347683315],\"z\":[0,7.310054919035774E8,2.74428508928315E8,1.2316252086125379E9,7.091543492305273E8,-5.721730761545632E9,2.6526934431802937E8,1.6282990679013803E9,3.40413406385063E9,-4.756573139925413E9]}]},{\"name\":\"trace55\",\"data\":[{\"name\":\"trace55\",\"type\":\"scatter3d\",\"xaxis\":\"x\",\"yaxis\":\"y\",\"x\":[0,1,2,3,4,5,6,7,8,9],\"y\":[0,0.6317568957443574,1.8926362142359443,2.2992510755667004,3.7819649185637196,0.9636483185880218,3.8676803727781106,3.489551690231899,2.9032178669181157,0.834402502242325],\"z\":[0,2.5653281679668933E8,-1.9109427080411562E8,1.2284702859861605E9,2.579808319837314E9,1.0705656804282395E9,2.057434509034868E9,-5.561811334089748E9,-5.5390693263570595E9,-2.9744544115147834E9]}]},{\"name\":\"trace56\",\"data\":[{\"name\":\"trace56\",\"type\":\"scatter3d\",\"xaxis\":\"x\",\"yaxis\":\"y\",\"x\":[0,1,2,3,4,5,6,7,8,9],\"y\":[0,0.6737727942364748,1.9830513031742696,1.9619618586750314,3.974912191266395,2.1510097222215374,4.027287559234592,0.1421522729132202,3.7546846378304117,5.2296864474944345],\"z\":[0,3.788582549952496E8,-9.775523227412595E8,-1.553918537316102E9,9.100396185337199E8,5.696835941857574E9,3.3271651040606833E9,4.507559799247543E8,-1.9084671331840441E9,7.0613349395077505E9]}]},{\"name\":\"trace57\",\"data\":[{\"name\":\"trace57\",\"type\":\"scatter3d\",\"xaxis\":\"x\",\"yaxis\":\"y\",\"x\":[0,1,2,3,4,5,6,7,8,9],\"y\":[0,0.6156501532155915,1.8724498491477362,1.6703917070379264,3.9093852346107743,3.4318769960885924,1.0736193370619966,0.9042774945243723,6.2661617797412275,8.502405304449063],\"z\":[0,4.156877604018329E8,-3.1457825477276006E9,-3.566322796189333E7,6.274559436563991E9,-7.171523929816602E9,-3.1447567394868016E9,-1.2183736172986187E8,-4.680201065453655E9,-8.409577957093807E9]}]},{\"name\":\"trace58\",\"data\":[{\"name\":\"trace58\",\"type\":\"scatter3d\",\"xaxis\":\"x\",\"yaxis\":\"y\",\"x\":[0,1,2,3,4,5,6,7,8,9],\"y\":[0,0.7644276553505032,0.7274748868777074,2.100549538936599,0.8045849036656212,3.0801911516893203,3.147164594105417,3.015961677342694,4.320576652276395,5.274209113938623],\"z\":[0,1.8020949035834932E8,-1.3269549854281971E8,1.3191669786091418E9,-2.5171961153120546E9,-5.575858380299549E8,-3.12838964221776E8,8.24544271658326E8,-1.4974010345892725E9,-1.0049304384168304E10]}]},{\"name\":\"trace59\",\"data\":[{\"name\":\"trace59\",\"type\":\"scatter3d\",\"xaxis\":\"x\",\"yaxis\":\"y\",\"x\":[0,1,2,3,4,5,6,7,8,9],\"y\":[0,0.22658293212853875,1.6104506404506813,0.07134687832548126,0.024951947547105835,2.928508189748812,4.169355555559123,5.085378758678707,7.186333798619667,4.720385427995142],\"z\":[0,2.1125960801929218E8,9.402922629470441E8,-2.2979067671294665E9,2.8436013579128116E8,-4.763198679653743E9,-9.04911491261187E9,5.162965511416382E9,1.5032673542257193E10,-3.654513041119234E9]}]},{\"name\":\"trace60\",\"data\":[{\"name\":\"trace60\",\"type\":\"scatter3d\",\"xaxis\":\"x\",\"yaxis\":\"y\",\"x\":[0,1,2,3,4,5,6,7,8,9],\"y\":[0,0.08949458471304483,0.2756135527966517,0.9955155862856437,0.6850852512999537,1.0575735004631497,3.101529841631632,1.565836334054002,2.382452427590824,0.45237069253841555],\"z\":[0,1.8334289861636534E9,-3.942128279865796E8,3.7985286716456494E9,-2.6004881377477452E8,3.1514750613155746E9,-7.649821797599673E8,-3.492985678618143E9,-8.588964652468116E8,-1.4820100787476604E10]}]},{\"name\":\"trace61\",\"data\":[{\"name\":\"trace61\",\"type\":\"scatter3d\",\"xaxis\":\"x\",\"yaxis\":\"y\",\"x\":[0,1,2,3,4,5,6,7,8,9],\"y\":[0,0.5409380307863709,1.2479829126894375,0.8729487087693364,0.9235322423088244,4.092694862226589,1.0916830138882698,3.1885924208149117,6.618045960233832,8.212834320624015],\"z\":[0,1.43282697610018E8,-2.602460698176279E9,1.305158212060671E9,-4.6909100373205805E8,3.2238097462434757E8,-7.813735122146611E9,4.872969810975414E9,-1.6467273672454367E9,-1.990915214239345E9]}]},{\"name\":\"trace62\",\"data\":[{\"name\":\"trace62\",\"type\":\"scatter3d\",\"xaxis\":\"x\",\"yaxis\":\"y\",\"x\":[0,1,2,3,4,5,6,7,8,9],\"y\":[0,0.5308344675394177,0.38263636159220815,1.8644554999932068,3.3462230838390967,4.855109564639295,3.6141497073088757,5.640230153019161,1.847188650572388,2.036018838553626],\"z\":[0,9.305032374551111E8,-7.944519782261167E8,2.6278766844391303E9,3.2184353063504314E9,-2.0487065198347047E8,8.93528880748497E9,1.0168951683251854E10,-2.9305135089251127E9,1.6733869843975708E9]}]},{\"name\":\"trace63\",\"data\":[{\"name\":\"trace63\",\"type\":\"scatter3d\",\"xaxis\":\"x\",\"yaxis\":\"y\",\"x\":[0,1,2,3,4,5,6,7,8,9],\"y\":[0,0.643502854935118,0.8265789485158148,1.7752496458645681,1.8651404631746136,3.0278940008372683,0.5332511710752523,1.2399158076109775,3.178743759996795,5.1695592303600355],\"z\":[0,-8.618953242963029E8,7.052045487818501E8,7.827042065291584E8,-2.4783310557421217E9,-7.246005481703299E8,7.06643706717692E9,4.565385917684099E9,-4.990641447000353E9,-6.943178565902621E9]}]},{\"name\":\"trace64\",\"data\":[{\"name\":\"trace64\",\"type\":\"scatter3d\",\"xaxis\":\"x\",\"yaxis\":\"y\",\"x\":[0,1,2,3,4,5,6,7,8,9],\"y\":[0,0.8133771430419693,1.1577432917705806,2.695821636091586,2.8403414526253847,4.99310693667968,4.70209505505973,6.941352641079574,2.4844448507581154,6.08846967912065],\"z\":[0,-1.0951269030847539E8,2.36482325453037E9,-2.6104415945888352E9,1.9228573088655117E9,3.98118947401081E9,-4.780992243811068E9,-1.650038777291438E9,-1.9801695167210455E9,9.560396286284581E8]}]},{\"name\":\"trace65\",\"data\":[{\"name\":\"trace65\",\"type\":\"scatter3d\",\"xaxis\":\"x\",\"yaxis\":\"y\",\"x\":[0,1,2,3,4,5,6,7,8,9],\"y\":[0,0.8433336638669334,0.464926907858203,0.5585445462337355,0.9918704006192853,2.83836295423481,3.145028888969442,4.109834154597225,6.102059886740955,5.488178790748261],\"z\":[0,7.628129802718619E8,7.967815521544311E8,-1.3644819811483163E8,5.870146603107748E9,7.947395733499562E8,-4.015661721953256E9,-2.529801016788881E9,3.0437242415247526E9,-7.004380815385164E8]}]},{\"name\":\"trace66\",\"data\":[{\"name\":\"trace66\",\"type\":\"scatter3d\",\"xaxis\":\"x\",\"yaxis\":\"y\",\"x\":[0,1,2,3,4,5,6,7,8,9],\"y\":[0,0.6151439400964033,0.9493172947074795,1.8561859874400621,3.8191144221517144,0.1871078609217658,5.816841167465507,5.9551061722451815,3.9330518572549753,1.909624881419545],\"z\":[0,-2.0864455714709118E8,1.0024958116372179E9,-1.8971238289969528E9,-1.5629994590313787E9,1.8111976143510532E8,-8.442951593799498E8,-1.340183930324243E10,-6.124954506552813E9,2.1659793999928284E9]}]},{\"name\":\"trace67\",\"data\":[{\"name\":\"trace67\",\"type\":\"scatter3d\",\"xaxis\":\"x\",\"yaxis\":\"y\",\"x\":[0,1,2,3,4,5,6,7,8,9],\"y\":[0,0.04411011298171896,1.4073099664546365,2.948180678654607,3.6106238733103924,1.9436197059616744,4.982842883918272,3.972820799629987,5.656028151615122,4.976810241745595],\"z\":[0,-1.665472797264855E8,1.5251201244087164E9,2.529062316318644E9,7.337001449172461E7,7.779140911711231E8,-4.305081658651832E9,-1.0427402322534009E9,-1.0037272626281666E10,-1.238269802038447E10]}]},{\"name\":\"trace68\",\"data\":[{\"name\":\"trace68\",\"type\":\"scatter3d\",\"xaxis\":\"x\",\"yaxis\":\"y\",\"x\":[0,1,2,3,4,5,6,7,8,9],\"y\":[0,0.5213989215871487,0.3734573555536178,1.5213230615294464,0.9961522938458516,0.11142935669513632,0.47598230743758974,5.980090570231443,2.6114435897628043,6.388995431426138],\"z\":[0,-8.809534346611543E7,-2.94505055945832E7,-6.66536325617379E7,-1.1560788210297508E9,1.002199436852679E9,5.166114225176901E9,-9.164800182000465E8,8.561178801853195E9,-1.3558944232748552E10]}]},{\"name\":\"trace69\",\"data\":[{\"name\":\"trace69\",\"type\":\"scatter3d\",\"xaxis\":\"x\",\"yaxis\":\"y\",\"x\":[0,1,2,3,4,5,6,7,8,9],\"y\":[0,0.8192056738764145,1.6454126106727345,0.4193643240720999,0.1404003564004972,4.804206253283249,3.6105471678266325,3.4550399153971374,7.6682411377056265,2.400445104976022],\"z\":[0,-8.408734287748342E8,4.92759594820115E8,-3.985858260113473E8,-1.0491214231067942E9,-3.6938326657192764E9,2.073603027620866E9,-7.646963835146215E8,1.438828925455595E10,9.899373277140359E8]}]},{\"name\":\"trace70\",\"data\":[{\"name\":\"trace70\",\"type\":\"scatter3d\",\"xaxis\":\"x\",\"yaxis\":\"y\",\"x\":[0,1,2,3,4,5,6,7,8,9],\"y\":[0,0.10257216168709571,1.9846675662191888,1.780386232060096,2.8736062846804153,3.702476325929923,4.904937699043039,5.922345936856812,1.174660367594127,6.516776084615464],\"z\":[0,-1.716580664099453E8,-1.0961251122472143E8,-1.1611039087019932E9,1.9560688714903858E9,-4.2640620493442684E8,3.2771695864545307E9,-1.4277482086709096E9,-4.0117149530179167E9,-5.20362105681407E8]}]},{\"name\":\"trace71\",\"data\":[{\"name\":\"trace71\",\"type\":\"scatter3d\",\"xaxis\":\"x\",\"yaxis\":\"y\",\"x\":[0,1,2,3,4,5,6,7,8,9],\"y\":[0,0.7712903062876847,1.53332244633533,0.20795964015637758,2.2256236666611913,3.104814197121235,1.1622631424282865,2.3071384257379286,1.639723098241257,4.918543171089216],\"z\":[0,1.1996241740979418E8,-2.1331852076194768E9,-3.291140608071236E8,-2.3786635803892975E9,-8.213863180796709E8,-9.352363655987825E8,3.859716722234547E8,4.2125678060590672E9,-9.539610701981996E7]}]},{\"name\":\"trace72\",\"data\":[{\"name\":\"trace72\",\"type\":\"scatter3d\",\"xaxis\":\"x\",\"yaxis\":\"y\",\"x\":[0,1,2,3,4,5,6,7,8,9],\"y\":[0,0.28361779883377536,0.23173963481806914,1.4586717714551916,0.7276642668432105,4.739382481447012,4.382765828763421,0.9725952775437703,1.5612383955170488,1.7886981298057552],\"z\":[0,-6.170363993336709E8,2.4255372987410474E8,-4.9836303844666976E8,-2.3615659959852457E9,-2.5345906289676037E9,5.382712471132612E8,-2.1767007667452708E8,-5.069410287983475E9,7.522397720584528E9]}]},{\"name\":\"trace73\",\"data\":[{\"name\":\"trace73\",\"type\":\"scatter3d\",\"xaxis\":\"x\",\"yaxis\":\"y\",\"x\":[0,1,2,3,4,5,6,7,8,9],\"y\":[0,0.08207511601851336,1.2987489644503913,0.3550678418014005,0.4259961143468569,1.0865291961959378,5.597885572716829,1.420800835419691,6.760016691123936,0.31074459013385436],\"z\":[0,-1.3107992772641432E9,-2.3865184906303796E8,2.953905593000089E9,-1.240840027226378E9,-3.8561315331922543E8,-1.491278395127612E9,6.17851376772413E9,-2.1676795473854585E9,-1.3752346449413013E9]}]},{\"name\":\"trace74\",\"data\":[{\"name\":\"trace74\",\"type\":\"scatter3d\",\"xaxis\":\"x\",\"yaxis\":\"y\",\"x\":[0,1,2,3,4,5,6,7,8,9],\"y\":[0,0.376712523166961,0.9554925140265667,2.6686971557194012,3.4102864621958933,3.8651632146268504,0.1588580919144973,3.947369313652271,2.0687132784992928,3.872757776094072],\"z\":[0,3.1676733624176615E8,5.477969442918347E8,4.6284617830335355E8,2.6919814330804024E9,-2.953641981191626E9,6.114757293542026E9,-2.8377529559127545E9,-3.910346673858574E8,4.951064483612074E9]}]},{\"name\":\"trace75\",\"data\":[{\"name\":\"trace75\",\"type\":\"scatter3d\",\"xaxis\":\"x\",\"yaxis\":\"y\",\"x\":[0,1,2,3,4,5,6,7,8,9],\"y\":[0,0.49562819829753824,0.924197594705624,2.0538166272534912,1.9657108767229392,3.4589667844792773,0.7639715484154541,5.8637453810933,2.121476854056956,8.677242950345466],\"z\":[0,-3.255247029060169E8,-5.907792139336131E7,-5.428725219601074E8,3.132855308235842E8,1.6523204394108016E9,-2.79573287766283E9,9.856397663281684E8,6.005717080595881E8,-1.8654494335713947E9]}]},{\"name\":\"trace76\",\"data\":[{\"name\":\"trace76\",\"type\":\"scatter3d\",\"xaxis\":\"x\",\"yaxis\":\"y\",\"x\":[0,1,2,3,4,5,6,7,8,9],\"y\":[0,0.7682986865769718,1.4809067246503413,1.111825896351927,2.9710145785035507,3.57280672917538,1.054048586104281,2.7856091594794763,6.0130790076959455,5.8852823655077415],\"z\":[0,1.3188977026204932E9,3.9784927255985565E7,3.727140355915958E9,1.867399694040734E9,1.3173887267277822E9,8.970149166196631E8,5.905965273844863E9,1.6220081333125658E9,-2.0142734354913294E8]}]},{\"name\":\"trace77\",\"data\":[{\"name\":\"trace77\",\"type\":\"scatter3d\",\"xaxis\":\"x\",\"yaxis\":\"y\",\"x\":[0,1,2,3,4,5,6,7,8,9],\"y\":[0,0.12247692197221394,1.2585942209553032,2.627482631931271,0.03005575982039277,2.9063889475420175,5.319266139716406,4.66128350434972,7.360126535484133,1.9882417881352987],\"z\":[0,-1.24578774684607E9,-3.211779787225867E8,1.2353013949496195E9,-2.3519742476302248E8,7607311.945081565,-2.830612296120019E9,2.551407633161203E9,8.449325918318132E8,-1.7742796628882596E9]}]},{\"name\":\"trace78\",\"data\":[{\"name\":\"trace78\",\"type\":\"scatter3d\",\"xaxis\":\"x\",\"yaxis\":\"y\",\"x\":[0,1,2,3,4,5,6,7,8,9],\"y\":[0,0.5871887061546228,1.7034592928001027,1.8531102196860942,0.9839914696714711,3.5176161162579582,2.2254452380057335,3.951090503618727,6.716897970529421,2.9784559815835494],\"z\":[0,4.136731440811805E8,9.876039264275078E8,-6.801689983632749E8,5.848510439956436E8,1.7122882974930067E9,3.464520785741585E9,-3.019977175143744E8,1.2564548468046432E9,6.33765031031395E9]}]},{\"name\":\"trace79\",\"data\":[{\"name\":\"trace79\",\"type\":\"scatter3d\",\"xaxis\":\"x\",\"yaxis\":\"y\",\"x\":[0,1,2,3,4,5,6,7,8,9],\"y\":[0,0.5235397835104657,0.057417252882977055,2.624409891809027,1.617539946872638,0.5211105369638408,5.442263589367314,4.173579309494828,2.2376839156042987,5.854188720058084],\"z\":[0,-1.813556021051366E9,-2.141118613772541E9,-5.747088627081922E8,1.8806108860968096E9,-3.6604589589065E9,4.4680891740899926E8,1.745378973839215E9,1.3794755695395374E9,-3.9395344351658726E9]}]},{\"name\":\"trace80\",\"data\":[{\"name\":\"trace80\",\"type\":\"scatter3d\",\"xaxis\":\"x\",\"yaxis\":\"y\",\"x\":[0,1,2,3,4,5,6,7,8,9],\"y\":[0,0.48765645347031106,0.9935146896313767,1.4294051871316693,1.6447259626434025,1.1353141101858122,2.572759522498775,2.2230693122978478,3.8094432853228124,8.777841855016833],\"z\":[0,1.5313009530012429E9,1.7710779318065932E9,4.196806672975906E9,5.736805925522262E9,-2.7543659192406945E9,-4.267716841748044E9,-3.059447916924661E8,-5.825513461561754E8,-1.7865617057619743E9]}]},{\"name\":\"trace81\",\"data\":[{\"name\":\"trace81\",\"type\":\"scatter3d\",\"xaxis\":\"x\",\"yaxis\":\"y\",\"x\":[0,1,2,3,4,5,6,7,8,9],\"y\":[0,0.2329921908235848,1.978779524681329,1.7271266505960643,3.3851924659443036,0.8348459500787236,1.0679102289361777,4.273319543696158,6.363609339283052,4.309400574949149],\"z\":[0,2.787771788132128E8,3.6014802010443896E8,-2.5496137691752622E8,2.6085359068378525E9,-6.950398425932882E9,-3.687827683661865E9,-1.129986929553201E9,-3.723225335777749E8,-5.242762448540477E9]}]},{\"name\":\"trace82\",\"data\":[{\"name\":\"trace82\",\"type\":\"scatter3d\",\"xaxis\":\"x\",\"yaxis\":\"y\",\"x\":[0,1,2,3,4,5,6,7,8,9],\"y\":[0,0.4181546419374633,0.42509787696882007,1.333547187792557,0.35441027158441685,1.2662209974058047,5.3774875349705455,1.659632640125285,0.7118040173779967,3.961172586930135],\"z\":[0,-1.524591625443483E8,-7.454529434283628E8,2.7952370579290648E9,6.448391911024997E9,-4.772380800205836E9,4.0457648505417304E9,7.552249895717673E9,6.784199011908815E9,-3.260420657116114E9]}]},{\"name\":\"trace83\",\"data\":[{\"name\":\"trace83\",\"type\":\"scatter3d\",\"xaxis\":\"x\",\"yaxis\":\"y\",\"x\":[0,1,2,3,4,5,6,7,8,9],\"y\":[0,0.7357879426159308,1.3313718982568536,1.6349427066482192,3.470656921091716,4.3969749815873875,5.4811097042181505,3.332498577231184,1.001286660727171,8.813641425019618],\"z\":[0,-1.041085907686753E8,-5.2124652817349434E8,1.1552647588280237E9,-2.6416081549693666E9,-4.0953472446512356E9,6.120474407467564E8,-7.901214023315394E8,-1.5263450479334152E9,1.207427329787841E10]}]},{\"name\":\"trace84\",\"data\":[{\"name\":\"trace84\",\"type\":\"scatter3d\",\"xaxis\":\"x\",\"yaxis\":\"y\",\"x\":[0,1,2,3,4,5,6,7,8,9],\"y\":[0,0.32364810674052336,0.11416313466824723,2.3632444690800445,2.125033031604797,4.896126761675685,4.946159523606585,6.408868360302574,6.946889060332573,1.951435570015817],\"z\":[0,1.4327660290719504E9,1.1888964055230541E9,2.368216553531179E9,5.691354787507186E9,1.7733557442925932E9,2.554812076925588E8,1.8549526020170789E9,-7.590492858778317E9,-4.570697588251829E9]}]},{\"name\":\"trace85\",\"data\":[{\"name\":\"trace85\",\"type\":\"scatter3d\",\"xaxis\":\"x\",\"yaxis\":\"y\",\"x\":[0,1,2,3,4,5,6,7,8,9],\"y\":[0,0.5351753124560635,0.9312536198603352,2.9698399991261137,2.956668228070119,3.8814824334153872,2.9241549793457917,4.2901883923062085,4.997825655858782,0.3496884296787307],\"z\":[0,-6.313756988894161E7,8.309979039671875E8,2.1325199110996404E9,-4.4834896360033643E8,9213568.13796482,-3.878677827220445E9,-1.0211755672202696E10,1.411127850463277E9,1.3309409048036388E10]}]},{\"name\":\"trace86\",\"data\":[{\"name\":\"trace86\",\"type\":\"scatter3d\",\"xaxis\":\"x\",\"yaxis\":\"y\",\"x\":[0,1,2,3,4,5,6,7,8,9],\"y\":[0,0.7617980330105217,1.3207113865847746,0.609459013155997,3.5169007149514715,1.3268481989184877,3.1949444848698203,2.212601449913556,0.41026339729974026,8.148860554188605],\"z\":[0,1.3400926954257338E9,-3.0400843957782655E9,1.3305015840102015E9,3.6985846481990337E9,5.172425119972977E9,-6.307918463451202E9,1.6871043953760686E9,1.904411968307114E9,1.2995019358689003E9]}]},{\"name\":\"trace87\",\"data\":[{\"name\":\"trace87\",\"type\":\"scatter3d\",\"xaxis\":\"x\",\"yaxis\":\"y\",\"x\":[0,1,2,3,4,5,6,7,8,9],\"y\":[0,0.2627350977328201,1.0379180071406966,2.487733444644885,1.293476144418865,2.4456664488779127,1.6703684196845872,2.3531146684425,3.236495010223801,2.6535773393399498],\"z\":[0,-8.082681489376581E8,7.950585615842087E8,5.855980116376886E9,4.2838517836306753E9,4.299769207344896E9,-9.478671869851267E8,-4.848855541705012E9,-1.177771993731102E10,5.163116429499746E9]}]},{\"name\":\"trace88\",\"data\":[{\"name\":\"trace88\",\"type\":\"scatter3d\",\"xaxis\":\"x\",\"yaxis\":\"y\",\"x\":[0,1,2,3,4,5,6,7,8,9],\"y\":[0,0.46775616683299714,1.5791924453629105,2.671980420325351,3.074773522921871,4.952041273446797,2.653841536881098,5.008361267846653,3.439318923172414,4.266792874971295],\"z\":[0,1.3759381333581337E8,-2.0225558447972158E8,-1.6153266348803427E9,7.551659035788402E7,-2.0262125881089618E9,2.5300681951502633E9,7.196288824900774E9,-8.934006114379023E8,1.0847370687740328E10]}]},{\"name\":\"trace89\",\"data\":[{\"name\":\"trace89\",\"type\":\"scatter3d\",\"xaxis\":\"x\",\"yaxis\":\"y\",\"x\":[0,1,2,3,4,5,6,7,8,9],\"y\":[0,0.31092204214738406,1.6718836497796976,1.8486419051053757,3.2573055731657035,3.8583275325097093,5.212634617631978,3.032083632564539,3.1735483385854577,7.684792079277083],\"z\":[0,1.1927486691994832E9,-5.266472156065218E8,2.963326363624624E9,-4.0876954466835537E9,-3.986312156259705E8,3.7383941295651927E9,1.2390410964676084E7,-1.7480947739238217E9,-1.0811780609538198E8]}]},{\"name\":\"trace90\",\"data\":[{\"name\":\"trace90\",\"type\":\"scatter3d\",\"xaxis\":\"x\",\"yaxis\":\"y\",\"x\":[0,1,2,3,4,5,6,7,8,9],\"y\":[0,0.7496368271631038,1.2792001339075012,2.5755104560584092,2.7854188705629563,3.2204289320347943,4.641938555554082,1.2716536444636626,2.526982872855217,7.412654009340747],\"z\":[0,1.5624626121399903E9,-8.391495684110278E7,5.062932708409867E9,4.179034362739036E9,2.2721442450381956E9,4.394610650111529E9,1.2802887907297709E10,1.2844884017644547E10,-1.0211179958281666E10]}]},{\"name\":\"trace91\",\"data\":[{\"name\":\"trace91\",\"type\":\"scatter3d\",\"xaxis\":\"x\",\"yaxis\":\"y\",\"x\":[0,1,2,3,4,5,6,7,8,9],\"y\":[0,0.5466325433951751,0.23854007745378203,1.5418043769039143,1.3550542730883661,2.74841000692907,0.9674569929528458,0.14117510171850844,7.151240715122538,8.306047767079262],\"z\":[0,-2.6967262075432235E8,1.3788584965714025E9,5.390958446062859E8,1.7007868756435695E9,6.560700994545909E9,7.584350266218797E9,1.738162577002711E8,-6.600522678531644E8,7.793449667048089E9]}]},{\"name\":\"trace92\",\"data\":[{\"name\":\"trace92\",\"type\":\"scatter3d\",\"xaxis\":\"x\",\"yaxis\":\"y\",\"x\":[0,1,2,3,4,5,6,7,8,9],\"y\":[0,0.9604622393046497,0.786412575222587,0.9731576239161721,2.676259821845952,4.468618794390167,1.1969355315130306,0.8585366895409579,7.568552157666958,0.3924596945864147],\"z\":[0,-1.1923517611882882E9,-3.820549937967371E8,4.448682766780328E9,2.486217725359507E9,3.712397497223593E9,-5.622503978801926E7,-2.455215613671827E8,8.681149243552555E8,-4.7038780081353245E9]}]},{\"name\":\"trace93\",\"data\":[{\"name\":\"trace93\",\"type\":\"scatter3d\",\"xaxis\":\"x\",\"yaxis\":\"y\",\"x\":[0,1,2,3,4,5,6,7,8,9],\"y\":[0,0.7128932373666487,1.274613025795607,1.8915144671851774,1.2566455959927891,3.072930354170259,3.575702147085881,2.781374466043805,7.06521679890233,6.379518033442811],\"z\":[0,-4.5379887542621404E8,-8.835125855987478E8,6.681176552308098E7,-7.69502125969075E8,-2.004488179663339E8,-6.030368422675518E8,8.022267103294664E9,-1.6883086260680444E9,3.627334869508834E9]}]},{\"name\":\"trace94\",\"data\":[{\"name\":\"trace94\",\"type\":\"scatter3d\",\"xaxis\":\"x\",\"yaxis\":\"y\",\"x\":[0,1,2,3,4,5,6,7,8,9],\"y\":[0,0.0992805117316039,1.9911936799308732,2.0804412737130136,2.3627417955618677,4.764147446193544,5.527243708277522,6.98589279057113,3.9578873454397705,2.96900422521504],\"z\":[0,2.5432458094009485E7,6.771048216926014E7,-9.046588865854447E8,-3.1943738371870394E9,3.8247221984819245E9,4.544091069193716E9,5.32465599911821E9,9.419183413380805E7,1.2293104027905817E10]}]},{\"name\":\"trace95\",\"data\":[{\"name\":\"trace95\",\"type\":\"scatter3d\",\"xaxis\":\"x\",\"yaxis\":\"y\",\"x\":[0,1,2,3,4,5,6,7,8,9],\"y\":[0,0.8914402280452164,0.17918759332664735,0.7370148495186282,1.9288152666711578,0.5821139064986214,3.582117629041787,5.441074777554729,3.021241412625879,6.634509499400468],\"z\":[0,5.116111347887474E7,3.5099570901207733E9,9.556766101923503E8,-3.566396388443976E9,2.927012050822483E8,2.720479947891863E9,1.30428197569032E9,2.596735366357989E9,-1.010623783669227E10]}]},{\"name\":\"trace96\",\"data\":[{\"name\":\"trace96\",\"type\":\"scatter3d\",\"xaxis\":\"x\",\"yaxis\":\"y\",\"x\":[0,1,2,3,4,5,6,7,8,9],\"y\":[0,0.2241184974261028,1.8746401065914378,0.005736656840138021,0.4943274376060809,3.146987174741466,3.557146318790301,2.9234479160574898,3.6386573024204294,0.20126733981886324],\"z\":[0,3.657167436209797E8,-4.7437168337146026E8,6.508322787675912E8,-3.4904454981732316E9,1.3452215612807257E9,9.728911035858347E9,-7.717692480321094E7,-3.8424786950457783E9,-3.2948414694841714E9]}]},{\"name\":\"trace97\",\"data\":[{\"name\":\"trace97\",\"type\":\"scatter3d\",\"xaxis\":\"x\",\"yaxis\":\"y\",\"x\":[0,1,2,3,4,5,6,7,8,9],\"y\":[0,0.20693055933473914,1.2817418173431627,0.22015194552422845,1.5521479388716264,3.07717473923337,4.307560523514121,1.7146364419238145,3.8825151245221434,8.459945588529632],\"z\":[0,-3.698407688717855E8,1.8554931448805437E9,-2.3472448724281573E9,-4.31339428196334E8,-2.3873699454635577E9,-2.606424736044499E9,4.007990147079297E8,6.033652618214529E9,1.0829258127878664E10]}]},{\"name\":\"trace98\",\"data\":[{\"name\":\"trace98\",\"type\":\"scatter3d\",\"xaxis\":\"x\",\"yaxis\":\"y\",\"x\":[0,1,2,3,4,5,6,7,8,9],\"y\":[0,0.8954615200305253,0.7207773697141509,0.21596802898703882,3.3214447983787845,2.140753307352182,5.787175391016267,4.439188244014661,5.969164918958042,4.595433552269746],\"z\":[0,-2.749752185891579E8,-5.73989184256531E8,-4.991511672098062E7,-3.9301983296532817E9,-7.764760436525509E9,-3.6174877003066883E9,-1.4914701499676328E9,1.236449405014457E10,-5.347935096400469E8]}]},{\"name\":\"trace99\",\"data\":[{\"name\":\"trace99\",\"type\":\"scatter3d\",\"xaxis\":\"x\",\"yaxis\":\"y\",\"x\":[0,1,2,3,4,5,6,7,8,9],\"y\":[0,0.9571169875184439,1.73237404621261,0.19697649728391797,2.7339173959327945,4.65999479573707,1.1199569561280431,4.355809519615917,3.7486140384856954,8.415969626067387],\"z\":[0,-4.991675533094694E8,-1.5926649179988325E9,6.478337939204552E8,-9.510075666580101E8,4.113146023350889E8,-1.3929088772576547E9,-5.488068856305187E8,-1.2887186367117832E10,8.00243631618617E8]}]}]\n",
       "var labels_ec0a1ef0448827 = [\"trace0\",\"trace1\",\"trace2\",\"trace3\",\"trace4\",\"trace5\",\"trace6\",\"trace7\",\"trace8\",\"trace9\",\"trace10\",\"trace11\",\"trace12\",\"trace13\",\"trace14\",\"trace15\",\"trace16\",\"trace17\",\"trace18\",\"trace19\",\"trace20\",\"trace21\",\"trace22\",\"trace23\",\"trace24\",\"trace25\",\"trace26\",\"trace27\",\"trace28\",\"trace29\",\"trace30\",\"trace31\",\"trace32\",\"trace33\",\"trace34\",\"trace35\",\"trace36\",\"trace37\",\"trace38\",\"trace39\",\"trace40\",\"trace41\",\"trace42\",\"trace43\",\"trace44\",\"trace45\",\"trace46\",\"trace47\",\"trace48\",\"trace49\",\"trace50\",\"trace51\",\"trace52\",\"trace53\",\"trace54\",\"trace55\",\"trace56\",\"trace57\",\"trace58\",\"trace59\",\"trace60\",\"trace61\",\"trace62\",\"trace63\",\"trace64\",\"trace65\",\"trace66\",\"trace67\",\"trace68\",\"trace69\",\"trace70\",\"trace71\",\"trace72\",\"trace73\",\"trace74\",\"trace75\",\"trace76\",\"trace77\",\"trace78\",\"trace79\",\"trace80\",\"trace81\",\"trace82\",\"trace83\",\"trace84\",\"trace85\",\"trace86\",\"trace87\",\"trace88\",\"trace89\",\"trace90\",\"trace91\",\"trace92\",\"trace93\",\"trace94\",\"trace95\",\"trace96\",\"trace97\",\"trace98\",\"trace99\"]\n",
       "var duration_ec0a1ef0448827 = 100\n",
       "\n",
       "var animation_settings_ec0a1ef0448827 = {\n",
       "    mode: \"immediate\",\n",
       "    direction: {},\n",
       "    fromcurrent: true,\n",
       "    frame: [\n",
       "      {duration: duration_ec0a1ef0448827},\n",
       "      {duration: duration_ec0a1ef0448827},\n",
       "      {redraw: true}\n",
       "    ],\n",
       "    transition: [\n",
       "      {duration: duration_ec0a1ef0448827, easing: 'cubic-in-out'},\n",
       "      {duration: duration_ec0a1ef0448827, easing: 'cubic-in-out'},\n",
       "    ],\n",
       "    ordering: \"layout first\"\n",
       "}\n",
       "\n",
       "var slider_ec0a1ef0448827 = document.createElement(\"input\")\n",
       "var play_ec0a1ef0448827 = document.getElementById(\"play_ec0a1ef0448827\")\n",
       "var pause_ec0a1ef0448827 = document.getElementById(\"pause_ec0a1ef0448827\")\n",
       "slider_ec0a1ef0448827.id = \"slider_ec0a1ef0448827\"\n",
       "slider_ec0a1ef0448827.type = \"range\"\n",
       "slider_ec0a1ef0448827.min = 0\n",
       "slider_ec0a1ef0448827.max = frames_ec0a1ef0448827.length - 1\n",
       "slider_ec0a1ef0448827.value = 0\n",
       "document.getElementById(\"sliderContainer_ec0a1ef0448827\").appendChild(slider_ec0a1ef0448827);\n",
       "\n",
       "Plotly.newPlot(graph_ec0a1ef0448827, traces_ec0a1ef0448827, layout_ec0a1ef0448827)\n",
       ".then(function () { Plotly.addFrames(graph_ec0a1ef0448827, frames_ec0a1ef0448827) })\n",
       "\n",
       "var trigger_ec0a1ef0448827 = true\n",
       "var reset_count_ec0a1ef0448827 = false\n",
       "\n",
       "\n",
       "play_ec0a1ef0448827.addEventListener('click', function() {\n",
       "   trigger_ec0a1ef0448827 = true\n",
       "   if (reset_count_ec0a1ef0448827) {\n",
       "      slider_ec0a1ef0448827.value = 0\n",
       "      reset_count_ec0a1ef0448827 = false\n",
       "   }\n",
       "\n",
       "  const start_index = slider_ec0a1ef0448827.value == labels_ec0a1ef0448827.length - 1 ? 0 : slider_ec0a1ef0448827.value\n",
       "  const end_index = labels_ec0a1ef0448827.length\n",
       "  Plotly.animate(graph_ec0a1ef0448827, labels_ec0a1ef0448827.slice(start_index, end_index), animation_settings_ec0a1ef0448827)\n",
       "})\n",
       "\n",
       "pause_ec0a1ef0448827.addEventListener('click', function() {\n",
       "  Plotly.animate(graph_ec0a1ef0448827, [null], animation_settings_ec0a1ef0448827)\n",
       "})\n",
       "\n",
       "graph_ec0a1ef0448827.on('plotly_redraw', () => {\n",
       "   value_ec0a1ef0448827.innerHTML = slider_ec0a1ef0448827.value;\n",
       "   if (trigger_ec0a1ef0448827 & !reset_count_ec0a1ef0448827) ++slider_ec0a1ef0448827.value\n",
       "   if (slider_ec0a1ef0448827.value == labels_ec0a1ef0448827.length - 1) reset_count_ec0a1ef0448827 = true\n",
       "});\n",
       "\n",
       "slider_ec0a1ef0448827.oninput = function() {\n",
       "   Plotly.animate(graph_ec0a1ef0448827, frames_ec0a1ef0448827[this.value], animation_settings_ec0a1ef0448827)\n",
       "   trigger_ec0a1ef0448827 = false\n",
       "   slider_ec0a1ef0448827.value = this.value\n",
       "   value_ec0a1ef0448827.innerHTML = this.value;\n",
       "   if (this.value == 0) reset_count_ec0a1ef0448827 = false\n",
       "   if (this.value == labels_ec0a1ef0448827.length - 1) reset_count_ec0a1ef0448827 = true\n",
       "   reset_count_ec0a1ef0448827 = false\n",
       "}\n",
       "</script>\n"
      ]
     },
     "metadata": {},
     "output_type": "display_data"
    }
   ],
   "source": [
    "val series = createXYZSeries(numberToCreate=100)\n",
    "\n",
    "val layout = Layout(\"Animation.XYZ\")\n",
    "\n",
    "val chart = Chart(animated=true) setLayout layout setData series\n",
    "\n",
    "chart.plot_inline()"
   ]
  }
 ],
 "metadata": {
  "kernelspec": {
   "display_name": "Scala",
   "language": "scala",
   "name": "scala"
  },
  "language_info": {
   "codemirror_mode": "text/x-scala",
   "file_extension": ".scala",
   "mimetype": "text/x-scala",
   "name": "scala",
   "nbconvert_exporter": "script",
   "version": "2.13.2"
  }
 },
 "nbformat": 4,
 "nbformat_minor": 4
}
