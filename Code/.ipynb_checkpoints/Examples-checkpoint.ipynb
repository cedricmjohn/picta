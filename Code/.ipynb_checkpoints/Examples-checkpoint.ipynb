{
 "cells": [
  {
   "cell_type": "code",
   "execution_count": 1,
   "metadata": {
    "scrolled": true
   },
   "outputs": [],
   "source": [
    "interp.repositories() ++= Seq(coursierapi.MavenRepository.of(\n",
    "\"https://jitpack.io\"\n",
    "))"
   ]
  },
  {
   "cell_type": "code",
   "execution_count": 2,
   "metadata": {},
   "outputs": [
    {
     "data": {
      "text/plain": [
       "\u001b[32mimport \u001b[39m\u001b[36m$ivy.$                                  \u001b[39m"
      ]
     },
     "execution_count": 2,
     "metadata": {},
     "output_type": "execute_result"
    }
   ],
   "source": [
    "import $ivy. `org.carbonateresearch::picta:0.1`"
   ]
  },
  {
   "cell_type": "code",
   "execution_count": 3,
   "metadata": {
    "scrolled": true
   },
   "outputs": [
    {
     "data": {
      "text/html": [
       "\n",
       "<script type='text/javascript'>/** vim: et:ts=4:sw=4:sts=4\n",
       " * @license RequireJS 2.3.6 Copyright jQuery Foundation and other contributors.\n",
       " * Released under MIT license, https://github.com/requirejs/requirejs/blob/master/LICENSE\n",
       " */\n",
       "var requirejs,require,define;!function(global,setTimeout){var req,s,head,baseElement,dataMain,src,interactiveScript,currentlyAddingScript,mainScript,subPath,version=\"2.3.6\",commentRegExp=/\\/\\*[\\s\\S]*?\\*\\/|([^:\"'=]|^)\\/\\/.*$/gm,cjsRequireRegExp=/[^.]\\s*require\\s*\\(\\s*[\"']([^'\"\\s]+)[\"']\\s*\\)/g,jsSuffixRegExp=/\\.js$/,currDirRegExp=/^\\.\\//,op=Object.prototype,ostring=op.toString,hasOwn=op.hasOwnProperty,isBrowser=!(\"undefined\"==typeof window||\"undefined\"==typeof navigator||!window.document),isWebWorker=!isBrowser&&\"undefined\"!=typeof importScripts,readyRegExp=isBrowser&&\"PLAYSTATION 3\"===navigator.platform?/^complete$/:/^(complete|loaded)$/,defContextName=\"_\",isOpera=\"undefined\"!=typeof opera&&\"[object Opera]\"===opera.toString(),contexts={},cfg={},globalDefQueue=[],useInteractive=!1;function commentReplace(e,t){return t||\"\"}function isFunction(e){return\"[object Function]\"===ostring.call(e)}function isArray(e){return\"[object Array]\"===ostring.call(e)}function each(e,t){var i;if(e)for(i=0;i<e.length&&(!e[i]||!t(e[i],i,e));i+=1);}function eachReverse(e,t){var i;if(e)for(i=e.length-1;-1<i&&(!e[i]||!t(e[i],i,e));i-=1);}function hasProp(e,t){return hasOwn.call(e,t)}function getOwn(e,t){return hasProp(e,t)&&e[t]}function eachProp(e,t){var i;for(i in e)if(hasProp(e,i)&&t(e[i],i))break}function mixin(i,e,r,n){return e&&eachProp(e,function(e,t){!r&&hasProp(i,t)||(!n||\"object\"!=typeof e||!e||isArray(e)||isFunction(e)||e instanceof RegExp?i[t]=e:(i[t]||(i[t]={}),mixin(i[t],e,r,n)))}),i}function bind(e,t){return function(){return t.apply(e,arguments)}}function scripts(){return document.getElementsByTagName(\"script\")}function defaultOnError(e){throw e}function getGlobal(e){if(!e)return e;var t=global;return each(e.split(\".\"),function(e){t=t[e]}),t}function makeError(e,t,i,r){var n=new Error(t+\"\\nhttps://requirejs.org/docs/errors.html#\"+e);return n.requireType=e,n.requireModules=r,i&&(n.originalError=i),n}if(void 0===define){if(void 0!==requirejs){if(isFunction(requirejs))return;cfg=requirejs,requirejs=void 0}void 0===require||isFunction(require)||(cfg=require,require=void 0),req=requirejs=function(e,t,i,r){var n,o,a=defContextName;return isArray(e)||\"string\"==typeof e||(o=e,isArray(t)?(e=t,t=i,i=r):e=[]),o&&o.context&&(a=o.context),(n=getOwn(contexts,a))||(n=contexts[a]=req.s.newContext(a)),o&&n.configure(o),n.require(e,t,i)},req.config=function(e){return req(e)},req.nextTick=void 0!==setTimeout?function(e){setTimeout(e,4)}:function(e){e()},require||(require=req),req.version=version,req.jsExtRegExp=/^\\/|:|\\?|\\.js$/,req.isBrowser=isBrowser,s=req.s={contexts:contexts,newContext:newContext},req({}),each([\"toUrl\",\"undef\",\"defined\",\"specified\"],function(t){req[t]=function(){var e=contexts[defContextName];return e.require[t].apply(e,arguments)}}),isBrowser&&(head=s.head=document.getElementsByTagName(\"head\")[0],baseElement=document.getElementsByTagName(\"base\")[0],baseElement&&(head=s.head=baseElement.parentNode)),req.onError=defaultOnError,req.createNode=function(e,t,i){var r=e.xhtml?document.createElementNS(\"http://www.w3.org/1999/xhtml\",\"html:script\"):document.createElement(\"script\");return r.type=e.scriptType||\"text/javascript\",r.charset=\"utf-8\",r.async=!0,r},req.load=function(t,i,r){var e,n=t&&t.config||{};if(isBrowser)return(e=req.createNode(n,i,r)).setAttribute(\"data-requirecontext\",t.contextName),e.setAttribute(\"data-requiremodule\",i),!e.attachEvent||e.attachEvent.toString&&e.attachEvent.toString().indexOf(\"[native code\")<0||isOpera?(e.addEventListener(\"load\",t.onScriptLoad,!1),e.addEventListener(\"error\",t.onScriptError,!1)):(useInteractive=!0,e.attachEvent(\"onreadystatechange\",t.onScriptLoad)),e.src=r,n.onNodeCreated&&n.onNodeCreated(e,n,i,r),currentlyAddingScript=e,baseElement?head.insertBefore(e,baseElement):head.appendChild(e),currentlyAddingScript=null,e;if(isWebWorker)try{setTimeout(function(){},0),importScripts(r),t.completeLoad(i)}catch(e){t.onError(makeError(\"importscripts\",\"importScripts failed for \"+i+\" at \"+r,e,[i]))}},isBrowser&&!cfg.skipDataMain&&eachReverse(scripts(),function(e){if(head||(head=e.parentNode),dataMain=e.getAttribute(\"data-main\"))return mainScript=dataMain,cfg.baseUrl||-1!==mainScript.indexOf(\"!\")||(mainScript=(src=mainScript.split(\"/\")).pop(),subPath=src.length?src.join(\"/\")+\"/\":\"./\",cfg.baseUrl=subPath),mainScript=mainScript.replace(jsSuffixRegExp,\"\"),req.jsExtRegExp.test(mainScript)&&(mainScript=dataMain),cfg.deps=cfg.deps?cfg.deps.concat(mainScript):[mainScript],!0}),define=function(e,i,t){var r,n;\"string\"!=typeof e&&(t=i,i=e,e=null),isArray(i)||(t=i,i=null),!i&&isFunction(t)&&(i=[],t.length&&(t.toString().replace(commentRegExp,commentReplace).replace(cjsRequireRegExp,function(e,t){i.push(t)}),i=(1===t.length?[\"require\"]:[\"require\",\"exports\",\"module\"]).concat(i))),useInteractive&&(r=currentlyAddingScript||getInteractiveScript())&&(e||(e=r.getAttribute(\"data-requiremodule\")),n=contexts[r.getAttribute(\"data-requirecontext\")]),n?(n.defQueue.push([e,i,t]),n.defQueueMap[e]=!0):globalDefQueue.push([e,i,t])},define.amd={jQuery:!0},req.exec=function(text){return eval(text)},req(cfg)}function newContext(u){var i,e,l,c,d,g={waitSeconds:7,baseUrl:\"./\",paths:{},bundles:{},pkgs:{},shim:{},config:{}},p={},f={},r={},h=[],m={},n={},v={},x=1,b=1;function q(e,t,i){var r,n,o,a,s,u,c,d,p,f,l=t&&t.split(\"/\"),h=g.map,m=h&&h[\"*\"];if(e&&(u=(e=e.split(\"/\")).length-1,g.nodeIdCompat&&jsSuffixRegExp.test(e[u])&&(e[u]=e[u].replace(jsSuffixRegExp,\"\")),\".\"===e[0].charAt(0)&&l&&(e=l.slice(0,l.length-1).concat(e)),function(e){var t,i;for(t=0;t<e.length;t++)if(\".\"===(i=e[t]))e.splice(t,1),t-=1;else if(\"..\"===i){if(0===t||1===t&&\"..\"===e[2]||\"..\"===e[t-1])continue;0<t&&(e.splice(t-1,2),t-=2)}}(e),e=e.join(\"/\")),i&&h&&(l||m)){e:for(o=(n=e.split(\"/\")).length;0<o;o-=1){if(s=n.slice(0,o).join(\"/\"),l)for(a=l.length;0<a;a-=1)if((r=getOwn(h,l.slice(0,a).join(\"/\")))&&(r=getOwn(r,s))){c=r,d=o;break e}!p&&m&&getOwn(m,s)&&(p=getOwn(m,s),f=o)}!c&&p&&(c=p,d=f),c&&(n.splice(0,d,c),e=n.join(\"/\"))}return getOwn(g.pkgs,e)||e}function E(t){isBrowser&&each(scripts(),function(e){if(e.getAttribute(\"data-requiremodule\")===t&&e.getAttribute(\"data-requirecontext\")===l.contextName)return e.parentNode.removeChild(e),!0})}function w(e){var t=getOwn(g.paths,e);if(t&&isArray(t)&&1<t.length)return t.shift(),l.require.undef(e),l.makeRequire(null,{skipMap:!0})([e]),!0}function y(e){var t,i=e?e.indexOf(\"!\"):-1;return-1<i&&(t=e.substring(0,i),e=e.substring(i+1,e.length)),[t,e]}function S(e,t,i,r){var n,o,a,s,u=null,c=t?t.name:null,d=e,p=!0,f=\"\";return e||(p=!1,e=\"_@r\"+(x+=1)),u=(s=y(e))[0],e=s[1],u&&(u=q(u,c,r),o=getOwn(m,u)),e&&(u?f=i?e:o&&o.normalize?o.normalize(e,function(e){return q(e,c,r)}):-1===e.indexOf(\"!\")?q(e,c,r):e:(u=(s=y(f=q(e,c,r)))[0],f=s[1],i=!0,n=l.nameToUrl(f))),{prefix:u,name:f,parentMap:t,unnormalized:!!(a=!u||o||i?\"\":\"_unnormalized\"+(b+=1)),url:n,originalName:d,isDefine:p,id:(u?u+\"!\"+f:f)+a}}function k(e){var t=e.id,i=getOwn(p,t);return i||(i=p[t]=new l.Module(e)),i}function M(e,t,i){var r=e.id,n=getOwn(p,r);!hasProp(m,r)||n&&!n.defineEmitComplete?(n=k(e)).error&&\"error\"===t?i(n.error):n.on(t,i):\"defined\"===t&&i(m[r])}function O(i,e){var t=i.requireModules,r=!1;e?e(i):(each(t,function(e){var t=getOwn(p,e);t&&(t.error=i,t.events.error&&(r=!0,t.emit(\"error\",i)))}),r||req.onError(i))}function j(){globalDefQueue.length&&(each(globalDefQueue,function(e){var t=e[0];\"string\"==typeof t&&(l.defQueueMap[t]=!0),h.push(e)}),globalDefQueue=[])}function P(e){delete p[e],delete f[e]}function R(){var e,r,t=1e3*g.waitSeconds,n=t&&l.startTime+t<(new Date).getTime(),o=[],a=[],s=!1,u=!0;if(!i){if(i=!0,eachProp(f,function(e){var t=e.map,i=t.id;if(e.enabled&&(t.isDefine||a.push(e),!e.error))if(!e.inited&&n)w(i)?s=r=!0:(o.push(i),E(i));else if(!e.inited&&e.fetched&&t.isDefine&&(s=!0,!t.prefix))return u=!1}),n&&o.length)return(e=makeError(\"timeout\",\"Load timeout for modules: \"+o,null,o)).contextName=l.contextName,O(e);u&&each(a,function(e){!function n(o,a,s){var e=o.map.id;o.error?o.emit(\"error\",o.error):(a[e]=!0,each(o.depMaps,function(e,t){var i=e.id,r=getOwn(p,i);!r||o.depMatched[t]||s[i]||(getOwn(a,i)?(o.defineDep(t,m[i]),o.check()):n(r,a,s))}),s[e]=!0)}(e,{},{})}),n&&!r||!s||!isBrowser&&!isWebWorker||d||(d=setTimeout(function(){d=0,R()},50)),i=!1}}function a(e){hasProp(m,e[0])||k(S(e[0],null,!0)).init(e[1],e[2])}function o(e,t,i,r){e.detachEvent&&!isOpera?r&&e.detachEvent(r,t):e.removeEventListener(i,t,!1)}function s(e){var t=e.currentTarget||e.srcElement;return o(t,l.onScriptLoad,\"load\",\"onreadystatechange\"),o(t,l.onScriptError,\"error\"),{node:t,id:t&&t.getAttribute(\"data-requiremodule\")}}function T(){var e;for(j();h.length;){if(null===(e=h.shift())[0])return O(makeError(\"mismatch\",\"Mismatched anonymous define() module: \"+e[e.length-1]));a(e)}l.defQueueMap={}}return c={require:function(e){return e.require?e.require:e.require=l.makeRequire(e.map)},exports:function(e){if(e.usingExports=!0,e.map.isDefine)return e.exports?m[e.map.id]=e.exports:e.exports=m[e.map.id]={}},module:function(e){return e.module?e.module:e.module={id:e.map.id,uri:e.map.url,config:function(){return getOwn(g.config,e.map.id)||{}},exports:e.exports||(e.exports={})}}},(e=function(e){this.events=getOwn(r,e.id)||{},this.map=e,this.shim=getOwn(g.shim,e.id),this.depExports=[],this.depMaps=[],this.depMatched=[],this.pluginMaps={},this.depCount=0}).prototype={init:function(e,t,i,r){r=r||{},this.inited||(this.factory=t,i?this.on(\"error\",i):this.events.error&&(i=bind(this,function(e){this.emit(\"error\",e)})),this.depMaps=e&&e.slice(0),this.errback=i,this.inited=!0,this.ignore=r.ignore,r.enabled||this.enabled?this.enable():this.check())},defineDep:function(e,t){this.depMatched[e]||(this.depMatched[e]=!0,this.depCount-=1,this.depExports[e]=t)},fetch:function(){if(!this.fetched){this.fetched=!0,l.startTime=(new Date).getTime();var e=this.map;if(!this.shim)return e.prefix?this.callPlugin():this.load();l.makeRequire(this.map,{enableBuildCallback:!0})(this.shim.deps||[],bind(this,function(){return e.prefix?this.callPlugin():this.load()}))}},load:function(){var e=this.map.url;n[e]||(n[e]=!0,l.load(this.map.id,e))},check:function(){if(this.enabled&&!this.enabling){var t,e,i=this.map.id,r=this.depExports,n=this.exports,o=this.factory;if(this.inited){if(this.error)this.emit(\"error\",this.error);else if(!this.defining){if(this.defining=!0,this.depCount<1&&!this.defined){if(isFunction(o)){if(this.events.error&&this.map.isDefine||req.onError!==defaultOnError)try{n=l.execCb(i,o,r,n)}catch(e){t=e}else n=l.execCb(i,o,r,n);if(this.map.isDefine&&void 0===n&&((e=this.module)?n=e.exports:this.usingExports&&(n=this.exports)),t)return t.requireMap=this.map,t.requireModules=this.map.isDefine?[this.map.id]:null,t.requireType=this.map.isDefine?\"define\":\"require\",O(this.error=t)}else n=o;if(this.exports=n,this.map.isDefine&&!this.ignore&&(m[i]=n,req.onResourceLoad)){var a=[];each(this.depMaps,function(e){a.push(e.normalizedMap||e)}),req.onResourceLoad(l,this.map,a)}P(i),this.defined=!0}this.defining=!1,this.defined&&!this.defineEmitted&&(this.defineEmitted=!0,this.emit(\"defined\",this.exports),this.defineEmitComplete=!0)}}else hasProp(l.defQueueMap,i)||this.fetch()}},callPlugin:function(){var u=this.map,c=u.id,e=S(u.prefix);this.depMaps.push(e),M(e,\"defined\",bind(this,function(e){var o,t,i,r=getOwn(v,this.map.id),n=this.map.name,a=this.map.parentMap?this.map.parentMap.name:null,s=l.makeRequire(u.parentMap,{enableBuildCallback:!0});return this.map.unnormalized?(e.normalize&&(n=e.normalize(n,function(e){return q(e,a,!0)})||\"\"),M(t=S(u.prefix+\"!\"+n,this.map.parentMap,!0),\"defined\",bind(this,function(e){this.map.normalizedMap=t,this.init([],function(){return e},null,{enabled:!0,ignore:!0})})),void((i=getOwn(p,t.id))&&(this.depMaps.push(t),this.events.error&&i.on(\"error\",bind(this,function(e){this.emit(\"error\",e)})),i.enable()))):r?(this.map.url=l.nameToUrl(r),void this.load()):((o=bind(this,function(e){this.init([],function(){return e},null,{enabled:!0})})).error=bind(this,function(e){this.inited=!0,(this.error=e).requireModules=[c],eachProp(p,function(e){0===e.map.id.indexOf(c+\"_unnormalized\")&&P(e.map.id)}),O(e)}),o.fromText=bind(this,function(e,t){var i=u.name,r=S(i),n=useInteractive;t&&(e=t),n&&(useInteractive=!1),k(r),hasProp(g.config,c)&&(g.config[i]=g.config[c]);try{req.exec(e)}catch(e){return O(makeError(\"fromtexteval\",\"fromText eval for \"+c+\" failed: \"+e,e,[c]))}n&&(useInteractive=!0),this.depMaps.push(r),l.completeLoad(i),s([i],o)}),void e.load(u.name,s,o,g))})),l.enable(e,this),this.pluginMaps[e.id]=e},enable:function(){(f[this.map.id]=this).enabled=!0,this.enabling=!0,each(this.depMaps,bind(this,function(e,t){var i,r,n;if(\"string\"==typeof e){if(e=S(e,this.map.isDefine?this.map:this.map.parentMap,!1,!this.skipMap),this.depMaps[t]=e,n=getOwn(c,e.id))return void(this.depExports[t]=n(this));this.depCount+=1,M(e,\"defined\",bind(this,function(e){this.undefed||(this.defineDep(t,e),this.check())})),this.errback?M(e,\"error\",bind(this,this.errback)):this.events.error&&M(e,\"error\",bind(this,function(e){this.emit(\"error\",e)}))}i=e.id,r=p[i],hasProp(c,i)||!r||r.enabled||l.enable(e,this)})),eachProp(this.pluginMaps,bind(this,function(e){var t=getOwn(p,e.id);t&&!t.enabled&&l.enable(e,this)})),this.enabling=!1,this.check()},on:function(e,t){var i=this.events[e];i||(i=this.events[e]=[]),i.push(t)},emit:function(e,t){each(this.events[e],function(e){e(t)}),\"error\"===e&&delete this.events[e]}},(l={config:g,contextName:u,registry:p,defined:m,urlFetched:n,defQueue:h,defQueueMap:{},Module:e,makeModuleMap:S,nextTick:req.nextTick,onError:O,configure:function(e){if(e.baseUrl&&\"/\"!==e.baseUrl.charAt(e.baseUrl.length-1)&&(e.baseUrl+=\"/\"),\"string\"==typeof e.urlArgs){var i=e.urlArgs;e.urlArgs=function(e,t){return(-1===t.indexOf(\"?\")?\"?\":\"&\")+i}}var r=g.shim,n={paths:!0,bundles:!0,config:!0,map:!0};eachProp(e,function(e,t){n[t]?(g[t]||(g[t]={}),mixin(g[t],e,!0,!0)):g[t]=e}),e.bundles&&eachProp(e.bundles,function(e,t){each(e,function(e){e!==t&&(v[e]=t)})}),e.shim&&(eachProp(e.shim,function(e,t){isArray(e)&&(e={deps:e}),!e.exports&&!e.init||e.exportsFn||(e.exportsFn=l.makeShimExports(e)),r[t]=e}),g.shim=r),e.packages&&each(e.packages,function(e){var t;t=(e=\"string\"==typeof e?{name:e}:e).name,e.location&&(g.paths[t]=e.location),g.pkgs[t]=e.name+\"/\"+(e.main||\"main\").replace(currDirRegExp,\"\").replace(jsSuffixRegExp,\"\")}),eachProp(p,function(e,t){e.inited||e.map.unnormalized||(e.map=S(t,null,!0))}),(e.deps||e.callback)&&l.require(e.deps||[],e.callback)},makeShimExports:function(t){return function(){var e;return t.init&&(e=t.init.apply(global,arguments)),e||t.exports&&getGlobal(t.exports)}},makeRequire:function(o,a){function s(e,t,i){var r,n;return a.enableBuildCallback&&t&&isFunction(t)&&(t.__requireJsBuild=!0),\"string\"==typeof e?isFunction(t)?O(makeError(\"requireargs\",\"Invalid require call\"),i):o&&hasProp(c,e)?c[e](p[o.id]):req.get?req.get(l,e,o,s):(r=S(e,o,!1,!0).id,hasProp(m,r)?m[r]:O(makeError(\"notloaded\",'Module name \"'+r+'\" has not been loaded yet for context: '+u+(o?\"\":\". Use require([])\")))):(T(),l.nextTick(function(){T(),(n=k(S(null,o))).skipMap=a.skipMap,n.init(e,t,i,{enabled:!0}),R()}),s)}return a=a||{},mixin(s,{isBrowser:isBrowser,toUrl:function(e){var t,i=e.lastIndexOf(\".\"),r=e.split(\"/\")[0];return-1!==i&&(!(\".\"===r||\"..\"===r)||1<i)&&(t=e.substring(i,e.length),e=e.substring(0,i)),l.nameToUrl(q(e,o&&o.id,!0),t,!0)},defined:function(e){return hasProp(m,S(e,o,!1,!0).id)},specified:function(e){return e=S(e,o,!1,!0).id,hasProp(m,e)||hasProp(p,e)}}),o||(s.undef=function(i){j();var e=S(i,o,!0),t=getOwn(p,i);t.undefed=!0,E(i),delete m[i],delete n[e.url],delete r[i],eachReverse(h,function(e,t){e[0]===i&&h.splice(t,1)}),delete l.defQueueMap[i],t&&(t.events.defined&&(r[i]=t.events),P(i))}),s},enable:function(e){getOwn(p,e.id)&&k(e).enable()},completeLoad:function(e){var t,i,r,n=getOwn(g.shim,e)||{},o=n.exports;for(j();h.length;){if(null===(i=h.shift())[0]){if(i[0]=e,t)break;t=!0}else i[0]===e&&(t=!0);a(i)}if(l.defQueueMap={},r=getOwn(p,e),!t&&!hasProp(m,e)&&r&&!r.inited){if(!(!g.enforceDefine||o&&getGlobal(o)))return w(e)?void 0:O(makeError(\"nodefine\",\"No define call for \"+e,null,[e]));a([e,n.deps||[],n.exportsFn])}R()},nameToUrl:function(e,t,i){var r,n,o,a,s,u,c=getOwn(g.pkgs,e);if(c&&(e=c),u=getOwn(v,e))return l.nameToUrl(u,t,i);if(req.jsExtRegExp.test(e))a=e+(t||\"\");else{for(r=g.paths,o=(n=e.split(\"/\")).length;0<o;o-=1)if(s=getOwn(r,n.slice(0,o).join(\"/\"))){isArray(s)&&(s=s[0]),n.splice(0,o,s);break}a=n.join(\"/\"),a=(\"/\"===(a+=t||(/^data\\:|^blob\\:|\\?/.test(a)||i?\"\":\".js\")).charAt(0)||a.match(/^[\\w\\+\\.\\-]+:/)?\"\":g.baseUrl)+a}return g.urlArgs&&!/^blob\\:/.test(a)?a+g.urlArgs(e,a):a},load:function(e,t){req.load(l,e,t)},execCb:function(e,t,i,r){return t.apply(r,i)},onScriptLoad:function(e){if(\"load\"===e.type||readyRegExp.test((e.currentTarget||e.srcElement).readyState)){interactiveScript=null;var t=s(e);l.completeLoad(t.id)}},onScriptError:function(e){var i=s(e);if(!w(i.id)){var r=[];return eachProp(p,function(e,t){0!==t.indexOf(\"_@r\")&&each(e.depMaps,function(e){if(e.id===i.id)return r.push(t),!0})}),O(makeError(\"scripterror\",'Script error for \"'+i.id+(r.length?'\", needed by: '+r.join(\", \"):'\"'),e,[i.id]))}}}).require=l.makeRequire(),l}function getInteractiveScript(){return interactiveScript&&\"interactive\"===interactiveScript.readyState||eachReverse(scripts(),function(e){if(\"interactive\"===e.readyState)return interactiveScript=e}),interactiveScript}}(this,\"undefined\"==typeof setTimeout?void 0:setTimeout);</script>\n",
       "<script type='text/javascript'>\n",
       "require.config({\n",
       "paths: {\n",
       "        'plotly': \"https://cdn.plot.ly/plotly-latest.min\"\n",
       "    },\n",
       "})\n",
       "require( ['plotly'], function(Plotly) {\n",
       "window.Plotly = Plotly;\n",
       "})\n",
       "</script>\n"
      ]
     },
     "metadata": {},
     "output_type": "display_data"
    },
    {
     "data": {
      "text/plain": [
       "\u001b[32mimport \u001b[39m\u001b[36mpicta.Html._ // required to initialize jupyter notebook mode\n",
       "\u001b[39m"
      ]
     },
     "execution_count": 3,
     "metadata": {},
     "output_type": "execute_result"
    }
   ],
   "source": [
    "import picta.Html._ // required to initialize jupyter notebook mode\n",
    "init_notebook_mode() // stops ugly output"
   ]
  },
  {
   "cell_type": "markdown",
   "metadata": {},
   "source": [
    "# 1. Basics\n",
    "\n",
    "The aim of the Picta library is to be a highly configurable and composable general purpose charting library. The following examples are aimed at highlighting the charting grammar for the library, which should make constructing charts easy and intuitive."
   ]
  },
  {
   "cell_type": "markdown",
   "metadata": {},
   "source": [
    "#### Colors\n",
    "\n",
    "Colors in the library are represented as one of two types:\n",
    "\n",
    "1. `List[String]` => this may either be a color word, such as \"red\", or RGB value, such as \"rgb(255, 255, 255, 1)\".\n",
    "2. `List[Double]`"
   ]
  },
  {
   "cell_type": "markdown",
   "metadata": {},
   "source": [
    "#### Lines\n",
    "\n",
    "Lines are perhaps the simplest chart component. The constructor takes in the following arguments:\n",
    "\n",
    "1. `width: Double`\n",
    "2. `color: List[Double] or List[String] or String`\n",
    "\n",
    "They may be composed as follows:"
   ]
  },
  {
   "cell_type": "code",
   "execution_count": 4,
   "metadata": {},
   "outputs": [
    {
     "name": "stdout",
     "output_type": "stream",
     "text": [
      "Line(0.5,Some(List(rgb(255, 255, 255, 1))))\n"
     ]
    }
   ],
   "source": [
    "import picta.options.Line\n",
    "\n",
    "val line = Line() + \"rgb(255, 255, 255, 1)\" // the default constructor for Line has a width of 0.5\n",
    "\n",
    "println(line)"
   ]
  },
  {
   "cell_type": "markdown",
   "metadata": {},
   "source": [
    "#### Markers\n",
    "\n",
    "Markers take in the following optional parameters:\n",
    "\n",
    "1. `symbol: String`\n",
    "2. `color: List[String] or List[Double]`\n",
    "3. `line: Line`\n",
    "\n",
    "Again, composition of a line follows a similar pattern. However, we must wrap the color/s inside a `List` to avoid confusing the compiler. Here we create a `circle` marker, with the color `red` and a `line` of width 0.5:"
   ]
  },
  {
   "cell_type": "code",
   "execution_count": 5,
   "metadata": {},
   "outputs": [
    {
     "name": "stdout",
     "output_type": "stream",
     "text": [
      "Marker(None,Some(List(red)),Some(Line(0.5,Some(List()))))\n"
     ]
    }
   ],
   "source": [
    "import picta.options.Marker\n",
    "\n",
    "val marker = Marker() + \"circle\" + List(\"red\") + Line()\n",
    "\n",
    "println(marker)"
   ]
  },
  {
   "cell_type": "markdown",
   "metadata": {},
   "source": [
    "### [TO BE CONTINUED.....]"
   ]
  },
  {
   "cell_type": "markdown",
   "metadata": {},
   "source": [
    "## Chart compositions\n",
    "\n",
    "Charts consist of 3 components:\n",
    "\n",
    "1. `data`\n",
    "2. `layout`\n",
    "3. `config`\n",
    "\n",
    "Generally, most of the compositions make use of `data` and `layout` components."
   ]
  },
  {
   "cell_type": "markdown",
   "metadata": {},
   "source": [
    "#### Scatter Charts and Line Charts"
   ]
  },
  {
   "cell_type": "code",
   "execution_count": 6,
   "metadata": {},
   "outputs": [],
   "source": [
    "// some dummy data for x and y variables\n",
    "val x = List.range(1, 50)\n",
    "val y = x.map(x => x + scala.util.Random.nextDouble()*100)"
   ]
  },
  {
   "cell_type": "code",
   "execution_count": 7,
   "metadata": {},
   "outputs": [],
   "source": [
    "import picta.series.XY\n",
    "import picta.series.XYChartType._\n",
    "\n",
    "// the two data series are then wrapped inside \n",
    "val data = XY(x, y, series_name=\"test\", series_type=SCATTER, series_mode=\"markers\")"
   ]
  },
  {
   "cell_type": "code",
   "execution_count": 8,
   "metadata": {},
   "outputs": [],
   "source": [
    "import picta.options.{Layout, Config}\n",
    "\n",
    "// The layout is a composable object which determines how the chart is displayed\n",
    "val layout = Layout(title=Some(\"Chart\"))\n",
    "// the configuration option allows us to set whether the chart is responsible and zoomable using scroll\n",
    "val config = Config(responsive=false, scrollZoom=true)"
   ]
  },
  {
   "cell_type": "code",
   "execution_count": 9,
   "metadata": {},
   "outputs": [
    {
     "data": {
      "text/html": [
       "\n",
       "<div align=\"center\">\n",
       "<div id='graph_1593772587106' style=\"width:100%; margin:0 auto;\"></div>\n",
       "</div>\n",
       "<script>\n",
       " var traces = [{\"name\":\"test\",\"type\":\"scatter\",\"xaxis\":\"x\",\"yaxis\":\"y\",\"mode\":\"markers\",\"x\":[1,2,3,4,5,6,7,8,9,10,11,12,13,14,15,16,17,18,19,20,21,22,23,24,25,26,27,28,29,30,31,32,33,34,35,36,37,38,39,40,41,42,43,44,45,46,47,48,49],\"y\":[19.73533098376573,87.15537636613641,42.233752600849314,49.92078428543953,97.29741900241511,12.879199167281103,88.45764353905065,94.77945678494635,67.1122891136653,88.0929716623826,107.17238147427571,45.15243413920297,22.29802352736212,61.68805134445168,19.5103767504724,49.42428880875801,20.828446481424542,91.66932656496381,32.43290197414234,105.32667821761285,50.75485991065767,104.81535075311699,26.688797558348867,113.64622909201489,55.51125392562966,78.82503722619866,71.53910597891523,63.10587101558027,36.38369209278701,66.985754284215,58.96306488214587,33.104753255797405,48.150348777034424,122.60461263872713,106.79922012091842,108.52147527950704,43.449429655293294,83.27681107366038,127.6386475895331,123.92988178814326,101.60801740034927,43.52192574100217,98.27562983538556,93.34618015222992,98.46567200233297,78.40105326142537,93.13429202180103,136.02068992338596,135.15234496777722]}];\n",
       " var layout = {\"height\":500,\"width\":800,\"title\":{\"text\":\"Chart\"}};\n",
       " var config = {\"responsive\":false,\"scrollZoom\":true,\"displaylogo\":false};\n",
       " Plotly.newPlot(\"graph_1593772587106\", traces, layout, config);\n",
       "</script>\n"
      ]
     },
     "metadata": {},
     "output_type": "display_data"
    }
   ],
   "source": [
    "import picta.charts.Chart\n",
    "\n",
    "// we can compose a chart using the data, layout and config elements above. This grammar is the same for all charts\n",
    "val chart = Chart() + data + layout + config\n",
    "chart.plot_inline()"
   ]
  },
  {
   "cell_type": "markdown",
   "metadata": {},
   "source": [
    "#### Adding Additional Traces to a Chart\n",
    "\n",
    "We can compose an existing chart with more data series using the same composition technique as shown above for other components:"
   ]
  },
  {
   "cell_type": "code",
   "execution_count": 10,
   "metadata": {},
   "outputs": [
    {
     "data": {
      "text/html": [
       "\n",
       "<div align=\"center\">\n",
       "<div id='graph_1593772587461' style=\"width:100%; margin:0 auto;\"></div>\n",
       "</div>\n",
       "<script>\n",
       " var traces = [{\"name\":\"data1\",\"type\":\"bar\",\"xaxis\":\"x\",\"yaxis\":\"y\",\"x\":[1,2,3,4,5,6,7,8,9,10,11,12,13,14,15,16,17,18,19,20,21,22,23,24,25,26,27,28,29,30,31,32,33,34,35,36,37,38,39,40,41,42,43,44,45,46,47,48,49],\"y\":[50.17006540168959,100.48351212429543,69.040840038385,142.75180777319957,180.7711110496019,18.751748543671592,133.74409219525245,184.87067527982373,119.24360930946078,109.15174838285566,138.2654668764085,59.13272172925872,24.26704419952511,133.79902174137635,49.29388430429155,64.00954894365562,28.66088382599806,129.65574592963844,38.54244231044846,147.95537600139315,126.32353541378419,138.35744978863846,108.3898667037394,181.36409404981026,75.32292403111042,80.10423875463884,149.47252754476588,76.79314112864313,131.98854521571258,146.47614395832585,131.1120252187207,116.00517868129265,54.487652362196144,168.47756233885764,177.22120355190646,176.94892008106908,44.25106798408351,153.81098840802144,138.3391632001347,144.62077995129374,129.74688974496598,81.32565272424273,134.70379967913695,136.8192813115841,139.48322263084486,90.78187201884198,115.77803430571672,179.12450527791043,159.75382899623227]},{\"name\":\"test\",\"type\":\"scatter\",\"xaxis\":\"x\",\"yaxis\":\"y\",\"mode\":\"markers\",\"x\":[1,2,3,4,5,6,7,8,9,10,11,12,13,14,15,16,17,18,19,20,21,22,23,24,25,26,27,28,29,30,31,32,33,34,35,36,37,38,39,40,41,42,43,44,45,46,47,48,49],\"y\":[19.73533098376573,87.15537636613641,42.233752600849314,49.92078428543953,97.29741900241511,12.879199167281103,88.45764353905065,94.77945678494635,67.1122891136653,88.0929716623826,107.17238147427571,45.15243413920297,22.29802352736212,61.68805134445168,19.5103767504724,49.42428880875801,20.828446481424542,91.66932656496381,32.43290197414234,105.32667821761285,50.75485991065767,104.81535075311699,26.688797558348867,113.64622909201489,55.51125392562966,78.82503722619866,71.53910597891523,63.10587101558027,36.38369209278701,66.985754284215,58.96306488214587,33.104753255797405,48.150348777034424,122.60461263872713,106.79922012091842,108.52147527950704,43.449429655293294,83.27681107366038,127.6386475895331,123.92988178814326,101.60801740034927,43.52192574100217,98.27562983538556,93.34618015222992,98.46567200233297,78.40105326142537,93.13429202180103,136.02068992338596,135.15234496777722]}];\n",
       " var layout = {\"height\":500,\"width\":800,\"title\":{\"text\":\"Chart\"}};\n",
       " var config = {\"responsive\":false,\"scrollZoom\":true,\"displaylogo\":false};\n",
       " Plotly.newPlot(\"graph_1593772587461\", traces, layout, config);\n",
       "</script>\n"
      ]
     },
     "metadata": {},
     "output_type": "display_data"
    }
   ],
   "source": [
    "// additional traces can simply be composed with an existing chart and added on\n",
    "val data1 = XY(x, y.map(x => x + scala.util.Random.nextDouble()*100), series_name=\"data1\", series_type=BAR)\n",
    "\n",
    "val chart1 = chart + data1\n",
    "chart1.plot_inline()"
   ]
  },
  {
   "cell_type": "markdown",
   "metadata": {},
   "source": [
    "#### Pie Chart"
   ]
  },
  {
   "cell_type": "code",
   "execution_count": 11,
   "metadata": {},
   "outputs": [
    {
     "data": {
      "text/html": [
       "\n",
       "<div align=\"center\">\n",
       "<div id='graph_1593772587790' style=\"width:100%; margin:0 auto;\"></div>\n",
       "</div>\n",
       "<script>\n",
       " var traces = [{\"name\":\"test\",\"type\":\"pie\",\"values\":[19,26,55],\"labels\":[\"Residential\",\"Non-Residential\",\"Utility\"]}];\n",
       " var layout = {\"height\":500,\"width\":800,\"title\":{\"text\":\"Pie Chart\"}};\n",
       " var config = {\"responsive\":false,\"scrollZoom\":true,\"displaylogo\":false};\n",
       " Plotly.newPlot(\"graph_1593772587790\", traces, layout, config);\n",
       "</script>\n"
      ]
     },
     "metadata": {},
     "output_type": "display_data"
    }
   ],
   "source": [
    "// pie charts can be composed in a similar way:\n",
    "val data = XY(List(19, 26, 55), List(\"Residential\", \"Non-Residential\", \"Utility\"), series_name=\"test\", series_type=PIE)\n",
    "val layout = Layout(Some(\"Pie Chart\"))\n",
    "val chart = Chart() + data +  layout + config\n",
    "chart.plot_inline()"
   ]
  },
  {
   "cell_type": "markdown",
   "metadata": {},
   "source": [
    "#### Setting Axes\n",
    "\n",
    "For all charts, each axis can be composed invidiually. The following is an example for a `Histogram` chart:"
   ]
  },
  {
   "cell_type": "code",
   "execution_count": 12,
   "metadata": {},
   "outputs": [],
   "source": [
    "val x = List.range(1, 1000).map(_+scala.util.Random.nextDouble()*1000)\n",
    "\n",
    "// for histogram charts, the xkey must be specified. It essentially sets the orientation (x direction or y direction)\n",
    "val data = XY(x=x, xkey=\"x\", series_name=\"hist\", series_type=HISTOGRAM)"
   ]
  },
  {
   "cell_type": "code",
   "execution_count": 13,
   "metadata": {},
   "outputs": [
    {
     "data": {
      "text/html": [
       "\n",
       "<div align=\"center\">\n",
       "<div id='graph_1593772588306' style=\"width:100%; margin:0 auto;\"></div>\n",
       "</div>\n",
       "<script>\n",
       " var traces = [{\"name\":\"hist\",\"type\":\"histogram\",\"xaxis\":\"x\",\"yaxis\":\"y\",\"x\":[321.82601325206383,942.7578670844683,444.98101945311197,820.924201773457,73.23128567643654,484.9383563901679,161.89883695272732,236.91051515323667,923.4078821335198,835.4765326521789,212.07481992805964,959.0175662507919,799.0524851815517,399.20207497069003,175.6328887846037,298.1355403185105,289.7327025922494,786.3979626777333,866.8039031864854,83.21698719317203,41.2605391574322,590.41138521205,604.5482544929607,308.11471886833726,516.0902328718792,285.34840685833996,506.5293554082075,1008.0768950797456,790.0824788897706,40.3918875583533,583.6897968917208,743.0048621074118,372.36004247636885,72.47707782016374,558.1905649089907,842.9000149487159,258.61236421224794,140.50480418177554,879.2310250232644,1005.4959059244035,558.0896277043003,921.9676754818666,369.27516437727144,926.8922157369518,70.65948968459341,306.8097627144521,297.46779848649805,393.0775293687334,132.68277127439484,93.53543685015538,447.5317484572468,663.5484170090422,899.0968789785218,179.02899633407682,924.1953248054643,1037.802066353062,983.9787120440383,96.24105443780556,1025.2066116142605,211.30068858132285,1042.9916337137693,672.8439178261262,495.24977114287555,399.57557800656224,448.5038270361267,659.1528400222368,873.5854271181627,237.45974187634448,681.798214973421,405.0556101162098,448.99562167315236,145.0076307259959,446.67693566839813,1053.3882757694296,543.6215963683186,192.4812241847929,794.8960672785588,261.1401387413964,461.5400646664497,493.85184861534486,746.249399409341,160.06606867093979,458.4320925383906,811.5878284058142,984.7525216903917,124.73032561156487,515.4557715662454,365.06758419533963,217.2613875251646,928.700304804218,533.4424160058629,800.7788306084317,691.992693293701,1038.5550012883402,802.7931658474603,904.5347835242162,191.79548959250295,120.5675436925058,249.96143339037116,914.2578519181722,540.6571532675699,316.3668610425988,1013.1634619813015,226.4527844918153,291.8088591768221,481.5785163297416,357.96805294192626,880.3104645221665,801.928979038523,375.3906050197803,807.6738181629519,450.4544315243606,338.32544933081556,739.1852745973322,633.8900983211691,882.6626990671647,214.61117878888015,308.8221524978614,529.4957713695933,366.466804255574,205.2690400250139,1067.855328978348,369.1575793819021,554.3518124734085,650.6360118590642,467.91040940155204,451.848186646176,309.34975713694956,731.2189534410247,917.6439873744495,515.3107741520964,691.1404851975104,363.88708955795846,573.152908048794,1114.1760903520967,1075.3436047957478,1052.3691348878858,350.3959625445258,661.4448959405305,141.50568030741528,810.6159343822463,1124.1362991042206,547.3064628040071,962.357083058305,969.9722046993026,278.1076770371885,269.77248247157513,580.2335196671019,279.7338151036029,1127.553335090623,438.36232279501075,266.1268831943193,215.54965806115487,247.98151940061916,845.084573170123,1122.6513425388812,821.2604984717677,412.9270646627636,536.2165296027601,814.2800010584135,727.1493040369834,668.7031750681057,963.8921914787894,986.5282646480443,211.21089145456259,1055.5741377648976,848.2661506789698,370.33031044334746,299.93142621464267,622.4733378568326,339.0291759776404,658.6753210613281,941.2009241902376,676.3378589199625,429.30905160086,989.6402521438923,224.3648530993801,657.3251266439369,345.49767602289853,273.2767269907903,471.0539828493396,637.622747210764,813.3037129392361,659.3793088160587,775.3139214876295,204.25840139868384,683.3376462475263,1158.983287720498,232.68902651464634,405.2612774540154,388.7936698533979,804.5101198777897,665.2980499379984,513.7221466725825,1103.301469375621,761.799111788012,1123.571645122296,595.7448218978875,268.77757161700436,491.83388418406753,825.2047491115462,255.97634769429428,371.11498953945903,400.79332171974073,478.009512947625,478.3492806794082,455.80656235889273,414.12589727196564,1125.7376445368013,1179.8643409066385,896.106271815637,563.6675066702162,754.5731892050334,951.6870403927559,353.0897045514939,986.3928038533683,902.8804652314849,474.527339764032,699.9832435092776,699.2103802963679,427.92366809133114,264.2166654262027,922.3891688825853,1136.2826284177283,400.6584917800008,728.5918419561832,651.5415552544898,713.6710960219998,823.3280098214944,998.2410151950152,1039.486023801733,620.6789336545843,494.47861846433796,631.3615220188296,1143.0837355036645,628.0819752183936,882.1441346113168,1086.9256762158052,847.9982217172932,950.5102366134355,308.3292026724778,810.5448593897244,634.3312670464381,1103.5624655346917,1096.5560739029843,883.8685288095121,1162.3318759056472,255.80602486011506,589.1211020511118,451.04947257130823,739.610368558263,791.6351221568843,1101.841051360701,554.7518530907669,1220.5470004254423,673.0307037129335,951.4510204727002,589.374789437885,784.0930129618681,716.5851833598965,664.4495463713652,310.6081740104312,337.91908277000016,1086.726451739286,356.0685558330938,1228.1340168981556,1004.8744647904507,1146.8946597914683,1054.179422004775,1252.2311830538388,1261.9778329140145,307.4966359709614,435.3280036945258,665.2367195759593,822.6683393446573,662.7826355121958,1038.7258438630736,845.2628991086244,279.8039494964789,1018.3605032485241,528.9063023396142,682.2633805020184,859.9007117013563,376.8825586693922,988.8876619919783,295.48838375293013,378.36585029299493,1071.5110301210052,543.0684340215034,486.5630374126905,630.9843156191644,515.0881080704298,832.7119152282784,343.86913622497,1008.6767085305014,967.5066700630181,996.7612581938536,551.6053750991051,1080.5542486400175,814.5987488093488,846.8575399380795,1250.8466397869336,1254.5540327702183,598.9283663454714,867.8174714854135,750.1184046555979,395.44627558581476,446.19616833162064,523.459577441829,989.4470431831813,456.76213936242596,590.5333814352791,1102.5503498279231,424.54304301558835,766.1991840023281,417.7830264658196,1000.7751632462774,916.7184265539681,593.3194348239089,817.9367226643772,902.0211537665964,1289.3359098883313,1023.8620676825695,666.2151586530241,795.8923614114108,443.03191117613,966.7514308363883,936.8518268021509,1148.2599641206361,1309.6514096155265,1327.8883270979343,1294.4583306265763,827.7834326463144,468.7775781042337,999.0707014116201,1004.921454634939,583.7214341422648,950.9345417210901,1330.8971660117656,661.1011680607587,968.9834429998104,607.9869542725215,1185.26535312199,528.1701974163979,607.2567543329401,443.9555598271341,496.0840676298546,1279.2551135718581,614.1756452776362,468.4127256573476,506.0768230615124,514.1099113708383,799.8827125682149,959.8178258519098,493.0614244432906,731.8729973372723,1003.9649051304552,507.5973690052139,850.8486573924537,363.52901272674444,543.6297193846173,839.4699717121815,847.910618853663,1060.5171109690307,1292.1202537671804,1234.4618609150007,1251.22718200003,682.9974486514845,1346.7494203096821,1272.2537974021734,1273.2267659889335,1334.608542270742,594.5681149093841,775.9454628755032,976.4956510551795,1350.117822079008,738.5634894170369,1068.019010220973,1353.9374232505565,1358.1883103370487,508.4170718744347,1078.228255136934,791.3227477549501,413.55473167069636,847.2349486939852,417.3361222618295,514.6763662414608,721.2224088018909,839.2956404467495,1262.0672317529854,926.7070900957348,659.8730060668427,1023.7428250925301,784.3387673974185,444.49389207766285,652.4811551336275,525.2845318229951,901.7775775180446,564.8986233994735,929.2162603695722,1125.3418847320531,1326.726628214642,404.6848167883494,1381.0247377164808,995.7240293750119,1247.390065796032,889.0784108870185,511.85710221519105,1321.7884125867813,487.46019688013627,1095.5153223333946,963.3259472122187,453.1784180017174,659.5161756137114,998.5778604809801,1207.6501397052975,537.6133226408418,652.6788509626942,1007.6299317018578,783.0612761363838,816.8381717701462,776.4517403550678,1240.4189661874734,880.4190216970894,893.7239617248124,1020.3732372257801,433.9201177977202,1180.6017084191117,1315.641577846562,1183.0508232871555,757.956356369923,589.3090278006571,761.6156312462426,1074.343138942537,567.6353551898211,919.2346734574896,969.3967184846385,600.9007291115572,1307.402779418408,629.1358350866626,1293.4744358972102,1307.9725424527828,1362.5182470921275,445.14794253711557,446.1851537955151,869.3295263968912,643.0191693049977,1061.7625674480628,541.4522823857207,1092.3526240289805,1080.744737816975,1148.2071879989667,1034.3288156625931,1236.777548880053,1021.7503478338493,570.535583255926,529.3956298234276,833.2842163084842,704.4508419017301,1080.558050084464,717.200822226526,732.0636171922754,628.0880499689043,719.8107868780302,890.3090606856406,811.6908553386568,636.6269970090696,840.0843945819399,589.1620883817232,635.0777097680174,969.941874562538,951.6014635926792,932.8349386999749,1351.973855733453,1367.1613153391277,575.7536285591364,1100.9044640615543,1316.4311597688911,546.3001970452857,901.378924277524,1250.0304833499304,1212.840358525872,1029.8130120170613,1321.8804071276504,872.4819255762936,965.59551818477,1337.4615346412934,865.0572648796267,1233.7234304922022,1345.135910973579,1025.8973969529948,1118.3402765267924,1062.3110211675667,977.061539923898,918.6181995039384,499.1934301890129,1107.7274821141464,1411.2126048584885,1140.4632988559629,623.7640574815497,530.421820371851,1014.0494107024015,1247.5731848216833,1086.4339241748485,1343.1990649074853,710.36417607542,826.7446729772585,1178.744536473863,1284.2405460050634,1019.3014107747026,1427.3714263846173,948.2392744501003,569.4162654085529,1404.8591740069974,584.667164407258,526.0866190591963,945.1852501194821,692.4884834925235,994.6272265773514,836.9175707720767,1343.261364523617,1191.1036258316485,609.1912667424245,645.1321179868349,1224.3556456898152,1203.7617035683052,534.3283648905331,1388.9984608161876,1390.6884873900865,810.4642372066548,1134.2730044087484,1407.1905761250555,645.5985522372182,1162.9801204813084,671.8987638730366,971.9785282495511,1183.457038883506,1044.2835172201992,1148.2237561065913,1009.1072894990172,1004.2299553893523,1114.1460687597719,743.3005400908943,1506.4697269144253,964.4127610961071,1087.6181596270044,1406.2499315963491,1391.9997292768448,1299.6952056405173,1074.5791449059113,693.9569588377382,1095.7817588951943,584.59717995437,1446.2315988749376,915.9544098625449,1102.1937291774318,1130.4481700454376,888.3604567871917,1007.2774276366264,1544.9697648050792,765.4671655426507,751.372482719104,1321.5804732275133,1301.3905551790385,789.3313016949849,1413.5778758740873,713.5656971007294,1101.3786238482362,649.505425454398,1136.8697787651267,862.7796164610595,883.0963357609324,1547.736971320844,812.9040248076267,780.0927543700402,998.7152245428342,752.5033502642076,1073.07614497943,833.6847477682185,902.3447534903046,866.8322121419169,1467.0378126333198,1433.115406328234,636.6795938788382,680.7976041369409,802.1907955982833,718.0695572044723,775.7445581430918,1524.1274532674693,1280.5412427341937,1212.6219856627713,1478.1865065664147,1226.7414996875518,769.4927995694261,1426.375785467385,958.883077842427,893.6707296681459,1399.6022536454634,810.5862738299214,996.2085590062301,705.6924830526189,695.0164378388046,1310.3892207680776,1058.1168041156052,868.1487561431397,611.255235827175,993.5111112407028,1252.27232218698,647.7969545517418,1180.199623671466,881.3460747751174,1583.78050302477,1161.1760478208387,943.5903049523224,1160.0426173660621,938.6381632606506,1207.8537732515424,994.036721746496,1407.2505429825023,801.8461145367235,978.052915827689,1236.4824457955447,1334.4366326383206,966.1958640909033,906.5376633598482,1433.2671352934951,815.1853271541838,1391.0624676039697,1293.2744519851763,702.3721660734509,646.6584315070827,930.1064402605789,1566.26350568435,1401.1305127227424,1574.3958283392594,862.6072593869093,1223.070876684243,746.6284241443975,1599.896849140051,1035.2220280633867,1554.973275975693,1099.2204571066025,1485.9296614504133,949.282527254975,1231.2609838174367,1567.0255965786282,676.274385217009,1313.3147421546714,701.1264569271029,1476.9672844905172,1554.6125500770206,1421.2847863251377,1156.6999286360356,1301.8651079455703,1081.5342857463863,1214.1459169009154,1493.1752609674113,833.2817218417224,1369.1418576447209,1035.5811580331238,1300.602384607287,746.2737048960433,679.4859055823392,902.4068948731815,1426.8060643142871,1214.8902470762241,1666.0791935724894,1575.9226252428716,1062.0223821942373,906.2089894355823,1416.9896133420893,842.5626488642888,1613.2282329623486,1505.8937459053318,1003.5229258559195,1190.5258362471145,859.771354822182,909.7038581905099,790.2625637531914,1503.6295573371185,1011.791375994509,1353.0805381195755,720.2424932131547,1484.4546602198416,1329.0552057653172,1044.8808723448958,1153.2864873717663,1265.9183738146812,900.2127358824567,1321.524963763567,1606.054983143741,1073.732447086948,1031.1120180751686,944.2679740820315,919.0987258438192,861.773941087341,1445.6954009873334,925.002946898076,959.2259360920605,1558.2168425763393,1164.1313479442529,1184.9466859672737,954.747893618681,932.3425491867988,1490.2191169817354,1425.7556305453375,956.6752220452257,1120.26776123651,1013.7366714724756,824.0640526436898,720.6953719349492,1532.3986295632603,913.2845835697809,1548.1325228656033,1512.7693462600732,1206.2403160308004,1131.3119326803085,1639.2396326407131,955.4436807118393,1665.2614683485506,1185.3926481479152,1500.645196006888,1052.481365725254,997.8334041538949,1478.4537254833444,1093.3988369201431,956.1733588494196,1179.8338025049616,975.5396627628081,950.9628510160512,874.6998997129378,1630.325859436481,1025.8299904170472,1293.5635717824116,756.1692421084439,1611.7930189954902,926.0100360294098,848.3810808258129,1031.4681552558031,1364.730774127081,1544.7270046954545,1463.1318776382197,749.8176573145478,800.9665749060973,957.747671048606,1238.295107452939,898.9343689474438,1170.8996545478117,1579.5652558200077,1697.1775436202129,1565.9555934208788,1366.9227088329344,1719.5869857114155,1463.2085050472278,865.7951297942502,1428.6075424043152,839.66613378446,1020.3007860427658,1240.3531372059253,1374.8076814855526,1044.6252585832376,1394.8088860922107,815.0124257233483,1703.6502819588736,1498.5501885542299,1016.5617529955052,988.110599219063,773.460980897498,1527.0171681184404,1591.6417486617142,1324.5858710240752,805.9852064079772,1139.048329072604,1551.0275929013646,1126.7513271779428,1437.839409820334,1582.4731715412559,1526.9137608675187,1763.1614863187965,1586.946773850654,1332.507448079636,1352.4646183567907,950.7915057703668,897.7817067593378,1605.7424346810753,1280.9565388412295,1706.2580934597736,1182.5678226917992,1090.3713647084123,1476.706697965666,1608.568558462969,1085.1446405786514,1088.3621453626274,1342.8825147605658,1348.8925851891754,1660.0382823406155,1676.4185169904565,920.2312063189027,1282.1086828595412,1681.3419544626508,809.9541079036502,1415.963779899821,840.3854225315874,1274.3322102140814,1517.937780522692,903.4737020841635,1220.81547048745,897.3173748328012,1466.349862724668,1371.2653725548373,1717.1275974043697,1792.0346407282682,1204.1233909423154,1593.4127463140562,1429.7605821392435,1767.9830088526883,1347.8257874170317,1744.0643652088238,859.0901079414132,1589.399243947294,1809.970398616059,1284.9557403646163,1063.3575281276353,1293.1543088676003,930.7292519104788,1417.585542786522,1645.8576385010629,1481.668391331446,1033.9518343558786,1310.6575904131892,1825.2001429791571,1007.0127262456691,1495.7771276241797,1388.5855255519568,1237.9670969729818,1490.6864548909016,887.758977314641,1198.3029066041804,924.846915683381,1808.1277321558462,1136.3080138151695,1759.3160763432043,1159.3328429157625,1007.838004241809,926.3856729058402,1845.883312843783,1392.3321466248026,1132.06891796779,1769.7691457320057,1350.3981700279355,1606.5394007010843,1059.3418396298648,1256.8383228689263,1733.5010595598885,1801.185710712485,1798.6397559513903,1015.719534052063,1579.1378852481366,1160.7832453270669,1630.9323093513112,1813.752443170209,1441.7300609628765,1700.7420625584264,1115.7642768533929,1053.630516277149,1497.815524974404,1828.2446264399732,1258.9589911975252,1640.197389509171,995.965794992648,1308.5202855714865,1072.0576266306596,1823.7647703769464,1136.4790631911237,1584.6709809740073,1344.9362087048587,1161.950138669582,1806.2951949381754,1263.4560517858422,1700.1122581064235,1184.415321532253,1544.773197573059,1849.9528328931335,900.5733947806823,1693.5197776393074,1222.4176952434598,1490.7668994100295,942.5303696517915,1888.7856146192737,1177.3354258496272,1568.4737974998911,1680.3176766297404,1664.2034471771713,973.1490894773824,1479.2321643021223,1602.7344882198838,1494.7919076154465,1517.2902096505454,1821.01558134455,908.4400298278962,1302.4555482129617,1010.038804187799,1521.6685625751738,1212.5868162854401,1571.0694087453476,1082.3723827588078,1143.9996473536412,1057.6959507842844,1766.8510099130046,1524.6324030795604,1719.3829319018198,1898.849202764383,1812.4631070733553,1208.2115157651897,981.8462797490226,1386.5922562092683,961.9241074224218,1158.9103648210564,1801.3832404808838,1580.5145586318429,928.2848162191614,1253.3078650590137,948.2327556294088,1192.2909811809604,1527.164037898436,1678.4342709161378,1059.129080662238,1079.041048321911,1416.6175969696478,1120.2316703034394,1822.0316930616577,986.1818130643525,1737.4484671743608,1627.7318716291063,947.6031659746914,973.5205258281399,1587.9487133847724,1237.5767636061396,1453.7107088590374,1049.154144634517,1303.1962482180502,1737.4520546409126,1153.4845791665841,1282.8121219049629,1451.412578743621,1397.1997851470444,1007.9748656756927,1073.600206009676,1308.5207397912857,1102.8212365783268,1181.2055656753396,1306.6725630477576,1326.9246298614303,1091.2764229594354,1218.4329596381554,1849.1802618880465,1775.6648296163303,1402.9321201378266,1757.6728064001695,1207.9142106081165,1296.4877723882578,1243.705621448783,1580.0690908902097,1199.3813262436765,1593.9988743892875,1680.3963443965504,1606.4344501041207,1167.6223038644996,1857.9522238613959,1480.3934371159257,1655.3005161178949,1625.900701350151,1801.8629217168168,1450.8920678896104,1392.0741894969474,1195.4623730530893,1394.5104641774242,1332.947135891703,1919.4033222885057,1367.8852344938332,1459.5345529757124,1162.1377959792724,1885.6137879848711,1927.10938813541,1323.2080233984552,1020.311739540858,1821.0868983186251,1833.0579941262947,1601.603183180674,1271.823931679556,1651.7048717521277,1990.8296465604385,1035.7519581195006,1702.8790865511019,1983.9986917509946,1607.76326626818,1007.0325517405531,1464.032832470535,1808.3918784481098]}];\n",
       " var layout = {\"height\":500,\"width\":800,\"title\":{\"text\":\"Histogram with axes\"},\"yaxis\":{\"title\":{\"text\":\"my y data\"},\"showgrid\":true,\"zeroline\":false,\"showline\":false},\"xaxis\":{\"title\":{\"text\":\"my x data\"},\"showgrid\":true,\"zeroline\":false,\"showline\":false}};\n",
       " var config = {\"responsive\":false,\"scrollZoom\":true,\"displaylogo\":false};\n",
       " Plotly.newPlot(\"graph_1593772588306\", traces, layout, config);\n",
       "</script>\n"
      ]
     },
     "metadata": {},
     "output_type": "display_data"
    }
   ],
   "source": [
    "import picta.options.Axis\n",
    "\n",
    "// axis can be set composed like any other chart component\n",
    "val xaxis = Axis(key=\"xaxis\", title = \"my x data\")\n",
    "val yaxis = Axis(key=\"yaxis\", title = \"my y data\")\n",
    "\n",
    "// these are added to the layout object\n",
    "val layout = Layout(\"Histogram with axes\") + xaxis + yaxis\n",
    "\n",
    "val chart = Chart() + data + layout  + config\n",
    "chart.plot_inline()"
   ]
  },
  {
   "cell_type": "markdown",
   "metadata": {},
   "source": [
    "#### Customizing colors for a Histogram"
   ]
  },
  {
   "cell_type": "code",
   "execution_count": 14,
   "metadata": {},
   "outputs": [
    {
     "data": {
      "text/html": [
       "\n",
       "<div align=\"center\">\n",
       "<div id='graph_1593772588688' style=\"width:100%; margin:0 auto;\"></div>\n",
       "</div>\n",
       "<script>\n",
       " var traces = [{\"name\":\"test\",\"type\":\"histogram\",\"xaxis\":\"x\",\"yaxis\":\"y\",\"marker\":{\"color\":\"rgba(255, 100, 102, 0.4)\",\"line\":{\"width\":0.5}},\"y\":[321.82601325206383,942.7578670844683,444.98101945311197,820.924201773457,73.23128567643654,484.9383563901679,161.89883695272732,236.91051515323667,923.4078821335198,835.4765326521789,212.07481992805964,959.0175662507919,799.0524851815517,399.20207497069003,175.6328887846037,298.1355403185105,289.7327025922494,786.3979626777333,866.8039031864854,83.21698719317203,41.2605391574322,590.41138521205,604.5482544929607,308.11471886833726,516.0902328718792,285.34840685833996,506.5293554082075,1008.0768950797456,790.0824788897706,40.3918875583533,583.6897968917208,743.0048621074118,372.36004247636885,72.47707782016374,558.1905649089907,842.9000149487159,258.61236421224794,140.50480418177554,879.2310250232644,1005.4959059244035,558.0896277043003,921.9676754818666,369.27516437727144,926.8922157369518,70.65948968459341,306.8097627144521,297.46779848649805,393.0775293687334,132.68277127439484,93.53543685015538,447.5317484572468,663.5484170090422,899.0968789785218,179.02899633407682,924.1953248054643,1037.802066353062,983.9787120440383,96.24105443780556,1025.2066116142605,211.30068858132285,1042.9916337137693,672.8439178261262,495.24977114287555,399.57557800656224,448.5038270361267,659.1528400222368,873.5854271181627,237.45974187634448,681.798214973421,405.0556101162098,448.99562167315236,145.0076307259959,446.67693566839813,1053.3882757694296,543.6215963683186,192.4812241847929,794.8960672785588,261.1401387413964,461.5400646664497,493.85184861534486,746.249399409341,160.06606867093979,458.4320925383906,811.5878284058142,984.7525216903917,124.73032561156487,515.4557715662454,365.06758419533963,217.2613875251646,928.700304804218,533.4424160058629,800.7788306084317,691.992693293701,1038.5550012883402,802.7931658474603,904.5347835242162,191.79548959250295,120.5675436925058,249.96143339037116,914.2578519181722,540.6571532675699,316.3668610425988,1013.1634619813015,226.4527844918153,291.8088591768221,481.5785163297416,357.96805294192626,880.3104645221665,801.928979038523,375.3906050197803,807.6738181629519,450.4544315243606,338.32544933081556,739.1852745973322,633.8900983211691,882.6626990671647,214.61117878888015,308.8221524978614,529.4957713695933,366.466804255574,205.2690400250139,1067.855328978348,369.1575793819021,554.3518124734085,650.6360118590642,467.91040940155204,451.848186646176,309.34975713694956,731.2189534410247,917.6439873744495,515.3107741520964,691.1404851975104,363.88708955795846,573.152908048794,1114.1760903520967,1075.3436047957478,1052.3691348878858,350.3959625445258,661.4448959405305,141.50568030741528,810.6159343822463,1124.1362991042206,547.3064628040071,962.357083058305,969.9722046993026,278.1076770371885,269.77248247157513,580.2335196671019,279.7338151036029,1127.553335090623,438.36232279501075,266.1268831943193,215.54965806115487,247.98151940061916,845.084573170123,1122.6513425388812,821.2604984717677,412.9270646627636,536.2165296027601,814.2800010584135,727.1493040369834,668.7031750681057,963.8921914787894,986.5282646480443,211.21089145456259,1055.5741377648976,848.2661506789698,370.33031044334746,299.93142621464267,622.4733378568326,339.0291759776404,658.6753210613281,941.2009241902376,676.3378589199625,429.30905160086,989.6402521438923,224.3648530993801,657.3251266439369,345.49767602289853,273.2767269907903,471.0539828493396,637.622747210764,813.3037129392361,659.3793088160587,775.3139214876295,204.25840139868384,683.3376462475263,1158.983287720498,232.68902651464634,405.2612774540154,388.7936698533979,804.5101198777897,665.2980499379984,513.7221466725825,1103.301469375621,761.799111788012,1123.571645122296,595.7448218978875,268.77757161700436,491.83388418406753,825.2047491115462,255.97634769429428,371.11498953945903,400.79332171974073,478.009512947625,478.3492806794082,455.80656235889273,414.12589727196564,1125.7376445368013,1179.8643409066385,896.106271815637,563.6675066702162,754.5731892050334,951.6870403927559,353.0897045514939,986.3928038533683,902.8804652314849,474.527339764032,699.9832435092776,699.2103802963679,427.92366809133114,264.2166654262027,922.3891688825853,1136.2826284177283,400.6584917800008,728.5918419561832,651.5415552544898,713.6710960219998,823.3280098214944,998.2410151950152,1039.486023801733,620.6789336545843,494.47861846433796,631.3615220188296,1143.0837355036645,628.0819752183936,882.1441346113168,1086.9256762158052,847.9982217172932,950.5102366134355,308.3292026724778,810.5448593897244,634.3312670464381,1103.5624655346917,1096.5560739029843,883.8685288095121,1162.3318759056472,255.80602486011506,589.1211020511118,451.04947257130823,739.610368558263,791.6351221568843,1101.841051360701,554.7518530907669,1220.5470004254423,673.0307037129335,951.4510204727002,589.374789437885,784.0930129618681,716.5851833598965,664.4495463713652,310.6081740104312,337.91908277000016,1086.726451739286,356.0685558330938,1228.1340168981556,1004.8744647904507,1146.8946597914683,1054.179422004775,1252.2311830538388,1261.9778329140145,307.4966359709614,435.3280036945258,665.2367195759593,822.6683393446573,662.7826355121958,1038.7258438630736,845.2628991086244,279.8039494964789,1018.3605032485241,528.9063023396142,682.2633805020184,859.9007117013563,376.8825586693922,988.8876619919783,295.48838375293013,378.36585029299493,1071.5110301210052,543.0684340215034,486.5630374126905,630.9843156191644,515.0881080704298,832.7119152282784,343.86913622497,1008.6767085305014,967.5066700630181,996.7612581938536,551.6053750991051,1080.5542486400175,814.5987488093488,846.8575399380795,1250.8466397869336,1254.5540327702183,598.9283663454714,867.8174714854135,750.1184046555979,395.44627558581476,446.19616833162064,523.459577441829,989.4470431831813,456.76213936242596,590.5333814352791,1102.5503498279231,424.54304301558835,766.1991840023281,417.7830264658196,1000.7751632462774,916.7184265539681,593.3194348239089,817.9367226643772,902.0211537665964,1289.3359098883313,1023.8620676825695,666.2151586530241,795.8923614114108,443.03191117613,966.7514308363883,936.8518268021509,1148.2599641206361,1309.6514096155265,1327.8883270979343,1294.4583306265763,827.7834326463144,468.7775781042337,999.0707014116201,1004.921454634939,583.7214341422648,950.9345417210901,1330.8971660117656,661.1011680607587,968.9834429998104,607.9869542725215,1185.26535312199,528.1701974163979,607.2567543329401,443.9555598271341,496.0840676298546,1279.2551135718581,614.1756452776362,468.4127256573476,506.0768230615124,514.1099113708383,799.8827125682149,959.8178258519098,493.0614244432906,731.8729973372723,1003.9649051304552,507.5973690052139,850.8486573924537,363.52901272674444,543.6297193846173,839.4699717121815,847.910618853663,1060.5171109690307,1292.1202537671804,1234.4618609150007,1251.22718200003,682.9974486514845,1346.7494203096821,1272.2537974021734,1273.2267659889335,1334.608542270742,594.5681149093841,775.9454628755032,976.4956510551795,1350.117822079008,738.5634894170369,1068.019010220973,1353.9374232505565,1358.1883103370487,508.4170718744347,1078.228255136934,791.3227477549501,413.55473167069636,847.2349486939852,417.3361222618295,514.6763662414608,721.2224088018909,839.2956404467495,1262.0672317529854,926.7070900957348,659.8730060668427,1023.7428250925301,784.3387673974185,444.49389207766285,652.4811551336275,525.2845318229951,901.7775775180446,564.8986233994735,929.2162603695722,1125.3418847320531,1326.726628214642,404.6848167883494,1381.0247377164808,995.7240293750119,1247.390065796032,889.0784108870185,511.85710221519105,1321.7884125867813,487.46019688013627,1095.5153223333946,963.3259472122187,453.1784180017174,659.5161756137114,998.5778604809801,1207.6501397052975,537.6133226408418,652.6788509626942,1007.6299317018578,783.0612761363838,816.8381717701462,776.4517403550678,1240.4189661874734,880.4190216970894,893.7239617248124,1020.3732372257801,433.9201177977202,1180.6017084191117,1315.641577846562,1183.0508232871555,757.956356369923,589.3090278006571,761.6156312462426,1074.343138942537,567.6353551898211,919.2346734574896,969.3967184846385,600.9007291115572,1307.402779418408,629.1358350866626,1293.4744358972102,1307.9725424527828,1362.5182470921275,445.14794253711557,446.1851537955151,869.3295263968912,643.0191693049977,1061.7625674480628,541.4522823857207,1092.3526240289805,1080.744737816975,1148.2071879989667,1034.3288156625931,1236.777548880053,1021.7503478338493,570.535583255926,529.3956298234276,833.2842163084842,704.4508419017301,1080.558050084464,717.200822226526,732.0636171922754,628.0880499689043,719.8107868780302,890.3090606856406,811.6908553386568,636.6269970090696,840.0843945819399,589.1620883817232,635.0777097680174,969.941874562538,951.6014635926792,932.8349386999749,1351.973855733453,1367.1613153391277,575.7536285591364,1100.9044640615543,1316.4311597688911,546.3001970452857,901.378924277524,1250.0304833499304,1212.840358525872,1029.8130120170613,1321.8804071276504,872.4819255762936,965.59551818477,1337.4615346412934,865.0572648796267,1233.7234304922022,1345.135910973579,1025.8973969529948,1118.3402765267924,1062.3110211675667,977.061539923898,918.6181995039384,499.1934301890129,1107.7274821141464,1411.2126048584885,1140.4632988559629,623.7640574815497,530.421820371851,1014.0494107024015,1247.5731848216833,1086.4339241748485,1343.1990649074853,710.36417607542,826.7446729772585,1178.744536473863,1284.2405460050634,1019.3014107747026,1427.3714263846173,948.2392744501003,569.4162654085529,1404.8591740069974,584.667164407258,526.0866190591963,945.1852501194821,692.4884834925235,994.6272265773514,836.9175707720767,1343.261364523617,1191.1036258316485,609.1912667424245,645.1321179868349,1224.3556456898152,1203.7617035683052,534.3283648905331,1388.9984608161876,1390.6884873900865,810.4642372066548,1134.2730044087484,1407.1905761250555,645.5985522372182,1162.9801204813084,671.8987638730366,971.9785282495511,1183.457038883506,1044.2835172201992,1148.2237561065913,1009.1072894990172,1004.2299553893523,1114.1460687597719,743.3005400908943,1506.4697269144253,964.4127610961071,1087.6181596270044,1406.2499315963491,1391.9997292768448,1299.6952056405173,1074.5791449059113,693.9569588377382,1095.7817588951943,584.59717995437,1446.2315988749376,915.9544098625449,1102.1937291774318,1130.4481700454376,888.3604567871917,1007.2774276366264,1544.9697648050792,765.4671655426507,751.372482719104,1321.5804732275133,1301.3905551790385,789.3313016949849,1413.5778758740873,713.5656971007294,1101.3786238482362,649.505425454398,1136.8697787651267,862.7796164610595,883.0963357609324,1547.736971320844,812.9040248076267,780.0927543700402,998.7152245428342,752.5033502642076,1073.07614497943,833.6847477682185,902.3447534903046,866.8322121419169,1467.0378126333198,1433.115406328234,636.6795938788382,680.7976041369409,802.1907955982833,718.0695572044723,775.7445581430918,1524.1274532674693,1280.5412427341937,1212.6219856627713,1478.1865065664147,1226.7414996875518,769.4927995694261,1426.375785467385,958.883077842427,893.6707296681459,1399.6022536454634,810.5862738299214,996.2085590062301,705.6924830526189,695.0164378388046,1310.3892207680776,1058.1168041156052,868.1487561431397,611.255235827175,993.5111112407028,1252.27232218698,647.7969545517418,1180.199623671466,881.3460747751174,1583.78050302477,1161.1760478208387,943.5903049523224,1160.0426173660621,938.6381632606506,1207.8537732515424,994.036721746496,1407.2505429825023,801.8461145367235,978.052915827689,1236.4824457955447,1334.4366326383206,966.1958640909033,906.5376633598482,1433.2671352934951,815.1853271541838,1391.0624676039697,1293.2744519851763,702.3721660734509,646.6584315070827,930.1064402605789,1566.26350568435,1401.1305127227424,1574.3958283392594,862.6072593869093,1223.070876684243,746.6284241443975,1599.896849140051,1035.2220280633867,1554.973275975693,1099.2204571066025,1485.9296614504133,949.282527254975,1231.2609838174367,1567.0255965786282,676.274385217009,1313.3147421546714,701.1264569271029,1476.9672844905172,1554.6125500770206,1421.2847863251377,1156.6999286360356,1301.8651079455703,1081.5342857463863,1214.1459169009154,1493.1752609674113,833.2817218417224,1369.1418576447209,1035.5811580331238,1300.602384607287,746.2737048960433,679.4859055823392,902.4068948731815,1426.8060643142871,1214.8902470762241,1666.0791935724894,1575.9226252428716,1062.0223821942373,906.2089894355823,1416.9896133420893,842.5626488642888,1613.2282329623486,1505.8937459053318,1003.5229258559195,1190.5258362471145,859.771354822182,909.7038581905099,790.2625637531914,1503.6295573371185,1011.791375994509,1353.0805381195755,720.2424932131547,1484.4546602198416,1329.0552057653172,1044.8808723448958,1153.2864873717663,1265.9183738146812,900.2127358824567,1321.524963763567,1606.054983143741,1073.732447086948,1031.1120180751686,944.2679740820315,919.0987258438192,861.773941087341,1445.6954009873334,925.002946898076,959.2259360920605,1558.2168425763393,1164.1313479442529,1184.9466859672737,954.747893618681,932.3425491867988,1490.2191169817354,1425.7556305453375,956.6752220452257,1120.26776123651,1013.7366714724756,824.0640526436898,720.6953719349492,1532.3986295632603,913.2845835697809,1548.1325228656033,1512.7693462600732,1206.2403160308004,1131.3119326803085,1639.2396326407131,955.4436807118393,1665.2614683485506,1185.3926481479152,1500.645196006888,1052.481365725254,997.8334041538949,1478.4537254833444,1093.3988369201431,956.1733588494196,1179.8338025049616,975.5396627628081,950.9628510160512,874.6998997129378,1630.325859436481,1025.8299904170472,1293.5635717824116,756.1692421084439,1611.7930189954902,926.0100360294098,848.3810808258129,1031.4681552558031,1364.730774127081,1544.7270046954545,1463.1318776382197,749.8176573145478,800.9665749060973,957.747671048606,1238.295107452939,898.9343689474438,1170.8996545478117,1579.5652558200077,1697.1775436202129,1565.9555934208788,1366.9227088329344,1719.5869857114155,1463.2085050472278,865.7951297942502,1428.6075424043152,839.66613378446,1020.3007860427658,1240.3531372059253,1374.8076814855526,1044.6252585832376,1394.8088860922107,815.0124257233483,1703.6502819588736,1498.5501885542299,1016.5617529955052,988.110599219063,773.460980897498,1527.0171681184404,1591.6417486617142,1324.5858710240752,805.9852064079772,1139.048329072604,1551.0275929013646,1126.7513271779428,1437.839409820334,1582.4731715412559,1526.9137608675187,1763.1614863187965,1586.946773850654,1332.507448079636,1352.4646183567907,950.7915057703668,897.7817067593378,1605.7424346810753,1280.9565388412295,1706.2580934597736,1182.5678226917992,1090.3713647084123,1476.706697965666,1608.568558462969,1085.1446405786514,1088.3621453626274,1342.8825147605658,1348.8925851891754,1660.0382823406155,1676.4185169904565,920.2312063189027,1282.1086828595412,1681.3419544626508,809.9541079036502,1415.963779899821,840.3854225315874,1274.3322102140814,1517.937780522692,903.4737020841635,1220.81547048745,897.3173748328012,1466.349862724668,1371.2653725548373,1717.1275974043697,1792.0346407282682,1204.1233909423154,1593.4127463140562,1429.7605821392435,1767.9830088526883,1347.8257874170317,1744.0643652088238,859.0901079414132,1589.399243947294,1809.970398616059,1284.9557403646163,1063.3575281276353,1293.1543088676003,930.7292519104788,1417.585542786522,1645.8576385010629,1481.668391331446,1033.9518343558786,1310.6575904131892,1825.2001429791571,1007.0127262456691,1495.7771276241797,1388.5855255519568,1237.9670969729818,1490.6864548909016,887.758977314641,1198.3029066041804,924.846915683381,1808.1277321558462,1136.3080138151695,1759.3160763432043,1159.3328429157625,1007.838004241809,926.3856729058402,1845.883312843783,1392.3321466248026,1132.06891796779,1769.7691457320057,1350.3981700279355,1606.5394007010843,1059.3418396298648,1256.8383228689263,1733.5010595598885,1801.185710712485,1798.6397559513903,1015.719534052063,1579.1378852481366,1160.7832453270669,1630.9323093513112,1813.752443170209,1441.7300609628765,1700.7420625584264,1115.7642768533929,1053.630516277149,1497.815524974404,1828.2446264399732,1258.9589911975252,1640.197389509171,995.965794992648,1308.5202855714865,1072.0576266306596,1823.7647703769464,1136.4790631911237,1584.6709809740073,1344.9362087048587,1161.950138669582,1806.2951949381754,1263.4560517858422,1700.1122581064235,1184.415321532253,1544.773197573059,1849.9528328931335,900.5733947806823,1693.5197776393074,1222.4176952434598,1490.7668994100295,942.5303696517915,1888.7856146192737,1177.3354258496272,1568.4737974998911,1680.3176766297404,1664.2034471771713,973.1490894773824,1479.2321643021223,1602.7344882198838,1494.7919076154465,1517.2902096505454,1821.01558134455,908.4400298278962,1302.4555482129617,1010.038804187799,1521.6685625751738,1212.5868162854401,1571.0694087453476,1082.3723827588078,1143.9996473536412,1057.6959507842844,1766.8510099130046,1524.6324030795604,1719.3829319018198,1898.849202764383,1812.4631070733553,1208.2115157651897,981.8462797490226,1386.5922562092683,961.9241074224218,1158.9103648210564,1801.3832404808838,1580.5145586318429,928.2848162191614,1253.3078650590137,948.2327556294088,1192.2909811809604,1527.164037898436,1678.4342709161378,1059.129080662238,1079.041048321911,1416.6175969696478,1120.2316703034394,1822.0316930616577,986.1818130643525,1737.4484671743608,1627.7318716291063,947.6031659746914,973.5205258281399,1587.9487133847724,1237.5767636061396,1453.7107088590374,1049.154144634517,1303.1962482180502,1737.4520546409126,1153.4845791665841,1282.8121219049629,1451.412578743621,1397.1997851470444,1007.9748656756927,1073.600206009676,1308.5207397912857,1102.8212365783268,1181.2055656753396,1306.6725630477576,1326.9246298614303,1091.2764229594354,1218.4329596381554,1849.1802618880465,1775.6648296163303,1402.9321201378266,1757.6728064001695,1207.9142106081165,1296.4877723882578,1243.705621448783,1580.0690908902097,1199.3813262436765,1593.9988743892875,1680.3963443965504,1606.4344501041207,1167.6223038644996,1857.9522238613959,1480.3934371159257,1655.3005161178949,1625.900701350151,1801.8629217168168,1450.8920678896104,1392.0741894969474,1195.4623730530893,1394.5104641774242,1332.947135891703,1919.4033222885057,1367.8852344938332,1459.5345529757124,1162.1377959792724,1885.6137879848711,1927.10938813541,1323.2080233984552,1020.311739540858,1821.0868983186251,1833.0579941262947,1601.603183180674,1271.823931679556,1651.7048717521277,1990.8296465604385,1035.7519581195006,1702.8790865511019,1983.9986917509946,1607.76326626818,1007.0325517405531,1464.032832470535,1808.3918784481098]}];\n",
       " var layout = {\"height\":500,\"width\":800,\"title\":{\"text\":\"XY.Histogram.Color\"}};\n",
       " var config = {\"responsive\":false,\"scrollZoom\":true,\"displaylogo\":false};\n",
       " Plotly.newPlot(\"graph_1593772588688\", traces, layout, config);\n",
       "</script>\n"
      ]
     },
     "metadata": {},
     "output_type": "display_data"
    }
   ],
   "source": [
    "// we can also compose customizations in much the same way:\n",
    "val marker = Marker() + List(\"rgba(255, 100, 102, 0.4)\") + Line()\n",
    "\n",
    "// change xkey to y to get a horizontal histogram\n",
    "val data = XY(x, xkey=\"y\", series_name=\"test\", series_type=HISTOGRAM, marker=marker)\n",
    "\n",
    "val chart = Chart() + data + Layout(\"XY.Histogram.Color\") + config\n",
    "chart.plot_inline()"
   ]
  },
  {
   "cell_type": "markdown",
   "metadata": {},
   "source": [
    "#### 2D Histogram Contour"
   ]
  },
  {
   "cell_type": "code",
   "execution_count": 15,
   "metadata": {},
   "outputs": [
    {
     "data": {
      "text/html": [
       "\n",
       "<div align=\"center\">\n",
       "<div id='graph_1593772589045' style=\"width:100%; margin:0 auto;\"></div>\n",
       "</div>\n",
       "<script>\n",
       " var traces = [{\"name\":\"2dHistCont\",\"type\":\"histogram2dcontour\",\"xaxis\":\"x\",\"yaxis\":\"y\",\"mode\":\"marker\",\"x\":[1,2,3,4,5,6,7,8,9,10,11,12,13,14,15,16,17,18,19,20,21,22,23,24,25,26,27,28,29,30,31,32,33,34,35,36,37,38,39,40,41,42,43,44,45,46,47,48,49],\"y\":[78.52467944344082,101.38975898493135,38.16018906366353,76.19402942104736,54.89613866496414,83.01925456622017,83.76789938269292,73.32267461770005,76.23231110159062,69.06953491810597,74.0642974030732,42.35763501694778,46.12043615536581,107.3141113056149,77.45006262830009,40.051706270035325,33.758750310353456,84.58786791847818,63.809165950777654,83.741708692399,64.56238897049205,85.24384590351042,35.61335091508691,38.54887279360963,52.964116787037284,98.86742532021401,29.92782359168414,56.28564893017507,32.79626711153682,81.87737081647981,128.97988272985117,34.614446968479875,59.09724824712278,65.63158702573304,105.72177882632,135.80464178148264,39.26805183715173,82.26862032064193,135.2135896456312,115.85992582161023,101.21120715263265,48.754312680246734,122.67147020006324,66.83887608333853,121.41664021438213,109.46620191909362,134.6711222688093,67.86742502187954,116.91596927638241]}];\n",
       " var layout = {\"height\":500,\"width\":800,\"title\":{\"text\":\"2D Histogram Contour\"}};\n",
       " var config = {\"responsive\":false,\"scrollZoom\":true,\"displaylogo\":false};\n",
       " Plotly.newPlot(\"graph_1593772589045\", traces, layout, config);\n",
       "</script>\n"
      ]
     },
     "metadata": {},
     "output_type": "display_data"
    }
   ],
   "source": [
    "val x = List.range(1, 50)\n",
    "val y = x.map(x => x + scala.util.Random.nextDouble()*100)\n",
    "\n",
    "val data = XY(x, y, series_name=\"2dHistCont\", series_type=HISTOGRAM2DCONTOUR, series_mode=\"marker\")\n",
    "\n",
    "val chart = Chart() + data + Layout(\"2D Histogram Contour\") + config\n",
    "chart.plot_inline()"
   ]
  },
  {
   "cell_type": "markdown",
   "metadata": {},
   "source": [
    "#### Contour\n",
    "\n",
    "This is a 3 dimensional chart requiring the import of the `XYZ` class from the library."
   ]
  },
  {
   "cell_type": "code",
   "execution_count": 16,
   "metadata": {},
   "outputs": [],
   "source": [
    "import picta.series.XYZ\n",
    "import picta.series.XYZChartType._\n",
    "\n",
    "val x = List.range(1, 100)\n",
    "val y = List.range(1, 100)\n",
    "val z = List.range(1, 100).map(x => x + scala.util.Random.nextDouble()*100)\n",
    "\n",
    "val data = XYZ(x, y, z, series_name=\"contour\", series_type=CONTOUR, series_mode=\"marker\")"
   ]
  },
  {
   "cell_type": "code",
   "execution_count": 17,
   "metadata": {},
   "outputs": [
    {
     "data": {
      "text/html": [
       "\n",
       "<div align=\"center\">\n",
       "<div id='graph_1593772589542' style=\"width:100%; margin:0 auto;\"></div>\n",
       "</div>\n",
       "<script>\n",
       " var traces = [{\"name\":\"marker\",\"type\":\"contour\",\"mode\":\"marker\",\"x\":[1,2,3,4,5,6,7,8,9,10,11,12,13,14,15,16,17,18,19,20,21,22,23,24,25,26,27,28,29,30,31,32,33,34,35,36,37,38,39,40,41,42,43,44,45,46,47,48,49,50,51,52,53,54,55,56,57,58,59,60,61,62,63,64,65,66,67,68,69,70,71,72,73,74,75,76,77,78,79,80,81,82,83,84,85,86,87,88,89,90,91,92,93,94,95,96,97,98,99],\"y\":[1,2,3,4,5,6,7,8,9,10,11,12,13,14,15,16,17,18,19,20,21,22,23,24,25,26,27,28,29,30,31,32,33,34,35,36,37,38,39,40,41,42,43,44,45,46,47,48,49,50,51,52,53,54,55,56,57,58,59,60,61,62,63,64,65,66,67,68,69,70,71,72,73,74,75,76,77,78,79,80,81,82,83,84,85,86,87,88,89,90,91,92,93,94,95,96,97,98,99],\"z\":[39.13663248688825,22.26590804168571,24.642629947249258,102.60876856328844,92.08874378814602,34.67350771669831,94.15300469771147,70.67136758579434,86.43786184850781,75.70462432139117,76.89138169752046,97.59078659972835,49.29401777307799,68.25167711217341,29.012096433197485,42.823463670150744,46.98968509822032,90.92506718256885,27.685067517616183,97.16039657191106,56.97001020384825,109.31901026664784,88.32511365426151,42.587444801884175,89.22122266088284,26.408566643199627,66.42560545528346,82.76148696002488,98.97602227665315,86.22398549057432,43.40141441567837,58.1801883083999,107.92321126136893,41.21796853305775,54.14679686899062,131.70519813134916,117.26195066508802,85.63610181933805,112.93970550601719,67.30558463950616,52.67942269768848,64.72010265072305,133.87477488528532,127.72032493323616,128.693880025689,92.7181697893622,122.18302633394164,85.19580327525674,57.79343067825273,51.446188912068834,133.59706848131106,73.5361764800383,58.414071751446116,95.53810005433057,60.346443981247575,109.41156678224934,135.03888625906148,60.543288614653385,104.41844356644975,76.20107038699811,113.56352608660586,155.67332546442543,141.39557925961822,94.60458959603592,115.56138530308027,124.2699828207771,161.48164257645107,100.83950645631225,146.19520866187685,71.9609717423821,98.25407503991018,115.44530122692714,152.26007732171382,94.98931569323321,120.2311355252423,113.55120079367762,79.20607311481534,89.34690716385178,165.51816617902728,100.91898140958249,118.97714456918479,85.11222129435919,145.5980107333022,159.15510955209126,94.11601779316106,129.78679308139712,130.75642729546706,148.1934186980296,167.82325530118283,139.44449030886824,156.68413680424396,144.4815167379095,104.52187169805634,147.15225899408892,159.47288230551254,149.26123567272387,130.9671386950443,104.39043336124925,154.5237277937808]}];\n",
       " var layout = {\"height\":500,\"width\":800,\"title\":{\"text\":\"Contour\"}};\n",
       " var config = {\"responsive\":true,\"scrollZoom\":true,\"displaylogo\":false};\n",
       " Plotly.newPlot(\"graph_1593772589542\", traces, layout, config);\n",
       "</script>\n"
      ]
     },
     "metadata": {},
     "output_type": "display_data"
    }
   ],
   "source": [
    "val chart = Chart() + data + Layout(\"Contour\")\n",
    "chart.plot_inline()"
   ]
  },
  {
   "cell_type": "markdown",
   "metadata": {},
   "source": [
    "#### Heatmap"
   ]
  },
  {
   "cell_type": "code",
   "execution_count": 18,
   "metadata": {
    "scrolled": false
   },
   "outputs": [],
   "source": [
    "val z = List.range(1, 101).map(e => e + scala.util.Random.nextDouble()*100).grouped(10).toList"
   ]
  },
  {
   "cell_type": "code",
   "execution_count": 19,
   "metadata": {},
   "outputs": [
    {
     "data": {
      "text/html": [
       "\n",
       "<div align=\"center\">\n",
       "<div id='graph_1593772589877' style=\"width:100%; margin:0 auto;\"></div>\n",
       "</div>\n",
       "<script>\n",
       " var traces = [{\"name\":\"trace\",\"type\":\"heatmap\",\"z\":[[23.91536221459617,65.05458119253123,34.09533666801596,24.81153781505093,89.56000045693007,79.21738012742122,84.46636071814915,66.50040067441037,101.8939119063134,83.66767400573553],[26.82426285357287,91.08052055370234,95.77322524072814,67.72460740349989,94.5769940683333,18.997899508300563,113.06189939812685,51.08515343184997,99.74379032024459,46.17390404303891],[56.01543185962732,45.13212118518562,62.50795326743767,95.86257617677099,30.787255091082102,91.23694172246604,31.913116009694573,67.96937711842975,125.60434563801378,92.50318268062392],[126.08742554446917,130.2557640808919,114.74057222549199,96.51000247456719,87.27458167409387,69.779858122744,91.62338338831307,118.35300066660358,129.47015037151397,137.4741726595555],[112.24139836354314,115.64325579749465,54.60622227288604,73.93719621557591,73.47756010602689,140.11359439836676,126.99684164971261,100.31641753285815,60.07451729078056,94.09441382585592],[125.15134804230561,94.58607330197889,68.64590798089444,114.3596571798165,135.08217519755584,150.57383125348315,57.4793091825208,90.70687643879177,109.87822582508977,134.76623386827015],[76.83356877218257,102.12349805592461,96.58447884077893,114.22365382770408,106.01534877934613,119.50479016564347,123.32302694824966,127.86118230592425,160.72666881457397,80.62724675003338],[147.11021211171482,112.90274426340773,137.00733165290404,90.44440939337827,85.96915417499918,78.49144148350437,126.55309076400007,137.7604194244215,97.70640340476537,139.23994285413676],[172.27248607099085,147.94988893284682,122.11605764923651,182.93053226421807,132.65229381819742,110.63094917549917,173.39415022230128,148.6251814981261,188.83357022889814,131.06160757115356],[155.19069482698586,134.1217803950325,159.25728236523085,154.51785260275074,171.9962974585285,134.99351422964227,183.32059670978157,104.02518668494201,127.45472568674306,141.37406352627843]]}];\n",
       " var layout = {\"height\":500,\"width\":500,\"title\":{\"text\":\"Contour\"}};\n",
       " var config = {\"responsive\":true,\"scrollZoom\":true,\"displaylogo\":false};\n",
       " Plotly.newPlot(\"graph_1593772589877\", traces, layout, config);\n",
       "</script>\n"
      ]
     },
     "metadata": {},
     "output_type": "display_data"
    }
   ],
   "source": [
    "// add lines in between the grid items\n",
    "val data = XYZ(z, series_name=\"trace\", series_type=HEATMAP)\n",
    "\n",
    "val chart = Chart() + data + Layout(\"Contour\", height = 500, width = 500)\n",
    "chart.plot_inline()"
   ]
  },
  {
   "cell_type": "markdown",
   "metadata": {},
   "source": [
    "#### Scatter3D"
   ]
  },
  {
   "cell_type": "code",
   "execution_count": 20,
   "metadata": {},
   "outputs": [
    {
     "data": {
      "text/html": [
       "\n",
       "<div align=\"center\">\n",
       "<div id='graph_1593772590226' style=\"width:100%; margin:0 auto;\"></div>\n",
       "</div>\n",
       "<script>\n",
       " var traces = [{\"name\":\"Scatter3D\",\"type\":\"scatter3d\",\"x\":[1,2,3,4,5,6,7,8,9,10,11,12,13,14,15,16,17,18,19,20,21,22,23,24,25,26,27,28,29,30,31,32,33,34,35,36,37,38,39,40,41,42,43,44,45,46,47,48,49,50,51,52,53,54,55,56,57,58,59,60,61,62,63,64,65,66,67,68,69,70,71,72,73,74,75,76,77,78,79,80,81,82,83,84,85,86,87,88,89,90,91,92,93,94,95,96,97,98,99],\"y\":[1,2,3,4,5,6,7,8,9,10,11,12,13,14,15,16,17,18,19,20,21,22,23,24,25,26,27,28,29,30,31,32,33,34,35,36,37,38,39,40,41,42,43,44,45,46,47,48,49,50,51,52,53,54,55,56,57,58,59,60,61,62,63,64,65,66,67,68,69,70,71,72,73,74,75,76,77,78,79,80,81,82,83,84,85,86,87,88,89,90,91,92,93,94,95,96,97,98,99],\"z\":[97.69185616831082,53.55361326599004,32.71244927452141,83.20214365491641,56.76439660701815,31.149290875889886,96.06059746807495,19.81466364726501,42.18628003810923,109.46444517440808,28.894400454696502,15.578589392947318,65.48516442625287,94.76035905699601,82.40962289640234,29.67730267910524,92.51447108317237,69.69652531761673,24.47514056275239,75.21814797421376,108.77908502423045,80.082390948915,76.76519347733017,70.50351980475205,100.6558586259706,81.25634422606518,58.50455776554302,113.60871355659229,49.10619338786772,75.8698934564969,125.07423554374478,60.33549733470906,119.68502158070598,81.59329560852925,47.24493529320786,75.16114243913199,85.48256925572001,64.62213349147032,49.950046913751336,54.978475061964545,138.09222932315316,62.8526324473668,118.27940838221828,96.22323743850548,125.78001962047193,101.20682331811119,82.76964791970387,87.41086064967054,107.7380243762674,70.82688601232289,116.08647243449023,61.15552393291629,128.63633099803792,103.72132910848032,108.83873176727829,132.42017376994153,98.64495282526737,124.93392509246834,143.53368714242248,83.04690034380471,110.67926908881893,105.41958913377496,152.57739492349887,126.5429501637463,138.8295904716814,70.54973328060389,128.74368891969434,101.64831176333236,139.76740399141028,141.53279726064915,154.67972876737832,98.38671279288684,122.377969895007,100.02405851291337,131.78565415250773,116.10256153548403,159.95091698762363,169.8120299834087,118.20041222388843,89.4121682915343,93.96753780502036,103.70703728511441,130.64530847477232,95.04841024382515,118.85550505707883,148.62091512924562,125.52144547450797,170.25370832116772,143.0387798908826,137.31493508190295,150.9266506589508,131.67703444544404,93.19249220157084,121.40647799910806,153.1521219967562,182.65639117272133,165.81961945327964,116.96313300808814,128.7384632292627]}];\n",
       " var layout = {\"height\":500,\"width\":800,\"title\":{\"text\":\"Histogram with axes\"},\"yaxis\":{\"title\":{\"text\":\"my y data\"},\"showgrid\":true,\"zeroline\":false,\"showline\":false},\"xaxis\":{\"title\":{\"text\":\"my x data\"},\"showgrid\":true,\"zeroline\":false,\"showline\":false}};\n",
       " var config = {\"responsive\":false,\"scrollZoom\":true,\"displaylogo\":false};\n",
       " Plotly.newPlot(\"graph_1593772590226\", traces, layout, config);\n",
       "</script>\n"
      ]
     },
     "metadata": {},
     "output_type": "display_data"
    }
   ],
   "source": [
    "val x = List.range(1, 100)\n",
    "val y = List.range(1, 100)\n",
    "val z = List.range(1, 100).map(e => e + scala.util.Random.nextDouble()*100)\n",
    "\n",
    "val data = XYZ(x, y, z, series_name=\"Scatter3D\", series_type = SCATTER3D)\n",
    "\n",
    "val chart = Chart() + data + layout + config\n",
    "chart.plot_inline()"
   ]
  },
  {
   "cell_type": "markdown",
   "metadata": {},
   "source": [
    "#### Surface Plot"
   ]
  },
  {
   "cell_type": "code",
   "execution_count": 21,
   "metadata": {
    "scrolled": false
   },
   "outputs": [
    {
     "data": {
      "text/html": [
       "\n",
       "<div align=\"center\">\n",
       "<div id='graph_1593772590533' style=\"width:100%; margin:0 auto;\"></div>\n",
       "</div>\n",
       "<script>\n",
       " var traces = [{\"name\":\"surface\",\"type\":\"surface\",\"z\":[[8.83,8.89,8.81,8.87,8.9,8.87,8.89,8.94,8.85,8.94,8.96,8.92,8.84,8.9,8.82],[8.92,8.93,8.91,8.79,8.85,8.79,8.9,8.94,8.92,8.79,8.88,8.81,8.9,8.95,8.92],[8.8,8.82,8.78,8.91,8.94,8.92,8.75,8.78,8.77,8.91,8.95,8.92,8.8,8.8,8.77],[8.91,8.95,8.94,8.74,8.81,8.76,8.93,8.98,8.99,8.89,8.99,8.92,9.1,9.13,9.11],[8.97,8.97,8.91,9.09,9.11,9.11,9.04,9.08,9.05,9.25,9.28,9.27,9,9.01,9],[9.2,9.23,9.2,8.99,8.99,8.98,9.18,9.2,9.19,8.93,8.97,8.97,9.18,9.2,9.18]]}];\n",
       " var layout = {\"height\":500,\"width\":800,\"title\":{\"text\":\"Surface Chart\"}};\n",
       " var config = {\"responsive\":true,\"scrollZoom\":true,\"displaylogo\":false};\n",
       " Plotly.newPlot(\"graph_1593772590533\", traces, layout, config);\n",
       "</script>\n"
      ]
     },
     "metadata": {},
     "output_type": "display_data"
    }
   ],
   "source": [
    "// 3d surface plot\n",
    "val k = List(\n",
    "    List(8.83,8.89,8.81,8.87,8.9,8.87),\n",
    "    List(8.89,8.94,8.85,8.94,8.96,8.92),\n",
    "    List(8.84,8.9,8.82,8.92,8.93,8.91),\n",
    "    List(8.79,8.85,8.79,8.9,8.94,8.92),\n",
    "    List(8.79,8.88,8.81,8.9,8.95,8.92),\n",
    "    List(8.8,8.82,8.78,8.91,8.94,8.92),\n",
    "    List(8.75,8.78,8.77,8.91,8.95,8.92),\n",
    "    List(8.8,8.8,8.77,8.91,8.95,8.94),\n",
    "    List(8.74,8.81,8.76,8.93,8.98,8.99),\n",
    "    List(8.89,8.99,8.92,9.1,9.13,9.11),\n",
    "    List(8.97,8.97,8.91,9.09,9.11,9.11),\n",
    "    List(9.04,9.08,9.05,9.25,9.28,9.27),\n",
    "    List(9,9.01,9,9.2,9.23,9.2),\n",
    "    List(8.99,8.99,8.98,9.18,9.2,9.19),\n",
    "    List(8.93,8.97,8.97,9.18,9.2,9.18)\n",
    "  )\n",
    "\n",
    "\n",
    "val data = XYZ(k, series_name=\"surface\", series_type=SURFACE)\n",
    "\n",
    "val chart = Chart() + data + Layout(\"Surface Chart\")\n",
    "chart.plot_inline()"
   ]
  },
  {
   "cell_type": "markdown",
   "metadata": {
    "scrolled": false
   },
   "source": [
    "#### Third Dimension as Color"
   ]
  },
  {
   "cell_type": "code",
   "execution_count": 22,
   "metadata": {},
   "outputs": [
    {
     "data": {
      "text/html": [
       "\n",
       "<div align=\"center\">\n",
       "<div id='graph_1593772590791' style=\"width:100%; margin:0 auto;\"></div>\n",
       "</div>\n",
       "<script>\n",
       " var traces = [{\"name\":\"scatter with color\",\"type\":\"scatter\",\"xaxis\":\"x\",\"yaxis\":\"y\",\"mode\":\"markers\",\"marker\":{\"color\":[97.69185616831082,53.55361326599004,32.71244927452141,83.20214365491641,56.76439660701815,31.149290875889886,96.06059746807495,19.81466364726501,42.18628003810923,109.46444517440808,28.894400454696502,15.578589392947318,65.48516442625287,94.76035905699601,82.40962289640234,29.67730267910524,92.51447108317237,69.69652531761673,24.47514056275239,75.21814797421376,108.77908502423045,80.082390948915,76.76519347733017,70.50351980475205,100.6558586259706,81.25634422606518,58.50455776554302,113.60871355659229,49.10619338786772,75.8698934564969,125.07423554374478,60.33549733470906,119.68502158070598,81.59329560852925,47.24493529320786,75.16114243913199,85.48256925572001,64.62213349147032,49.950046913751336,54.978475061964545,138.09222932315316,62.8526324473668,118.27940838221828,96.22323743850548,125.78001962047193,101.20682331811119,82.76964791970387,87.41086064967054,107.7380243762674,70.82688601232289,116.08647243449023,61.15552393291629,128.63633099803792,103.72132910848032,108.83873176727829,132.42017376994153,98.64495282526737,124.93392509246834,143.53368714242248,83.04690034380471,110.67926908881893,105.41958913377496,152.57739492349887,126.5429501637463,138.8295904716814,70.54973328060389,128.74368891969434,101.64831176333236,139.76740399141028,141.53279726064915,154.67972876737832,98.38671279288684,122.377969895007,100.02405851291337,131.78565415250773,116.10256153548403,159.95091698762363,169.8120299834087,118.20041222388843,89.4121682915343,93.96753780502036,103.70703728511441,130.64530847477232,95.04841024382515,118.85550505707883,148.62091512924562,125.52144547450797,170.25370832116772,143.0387798908826,137.31493508190295,150.9266506589508,131.67703444544404,93.19249220157084,121.40647799910806,153.1521219967562,182.65639117272133,165.81961945327964,116.96313300808814,128.7384632292627]},\"x\":[1,2,3,4,5,6,7,8,9,10,11,12,13,14,15,16,17,18,19,20,21,22,23,24,25,26,27,28,29,30,31,32,33,34,35,36,37,38,39,40,41,42,43,44,45,46,47,48,49,50,51,52,53,54,55,56,57,58,59,60,61,62,63,64,65,66,67,68,69,70,71,72,73,74,75,76,77,78,79,80,81,82,83,84,85,86,87,88,89,90,91,92,93,94,95,96,97,98,99],\"y\":[1,2,3,4,5,6,7,8,9,10,11,12,13,14,15,16,17,18,19,20,21,22,23,24,25,26,27,28,29,30,31,32,33,34,35,36,37,38,39,40,41,42,43,44,45,46,47,48,49,50,51,52,53,54,55,56,57,58,59,60,61,62,63,64,65,66,67,68,69,70,71,72,73,74,75,76,77,78,79,80,81,82,83,84,85,86,87,88,89,90,91,92,93,94,95,96,97,98,99]}];\n",
       " var layout = {\"height\":500,\"width\":800,\"title\":{\"text\":\"Color2D.Basic\"}};\n",
       " var config = {\"responsive\":false,\"scrollZoom\":true,\"displaylogo\":false};\n",
       " Plotly.newPlot(\"graph_1593772590791\", traces, layout, config);\n",
       "</script>\n"
      ]
     },
     "metadata": {},
     "output_type": "display_data"
    }
   ],
   "source": [
    "// multiple compositions can be used to create scatter charts with a color representing some third dimension\n",
    "\n",
    "val marker = Marker() + z // we add the list of colors to the marker for each point\n",
    "val data = XY(x, y, series_name=\"scatter with color\", series_type = SCATTER, series_mode = \"markers\") + marker\n",
    "val chart = Chart() + Layout(\"Color2D.Basic\") + config + data\n",
    "chart.plot_inline()"
   ]
  },
  {
   "cell_type": "markdown",
   "metadata": {},
   "source": [
    "#### Grid\n",
    "\n",
    "The grid system can be used to generate subplots:"
   ]
  },
  {
   "cell_type": "code",
   "execution_count": 23,
   "metadata": {},
   "outputs": [
    {
     "data": {
      "text/html": [
       "\n",
       "<div align=\"center\">\n",
       "<div id='graph_1593772591296' style=\"width:100%; margin:0 auto;\"></div>\n",
       "</div>\n",
       "<script>\n",
       " var traces = [{\"name\":\"a\",\"type\":\"scatter\",\"xaxis\":\"x\",\"yaxis\":\"y\",\"mode\":\"markers\",\"x\":[1,2,3,4,5,6,7,8,9,10,11,12,13,14,15,16,17,18,19,20,21,22,23,24,25,26,27,28,29,30,31,32,33,34,35,36,37,38,39,40,41,42,43,44,45,46,47,48,49,50,51,52,53,54,55,56,57,58,59,60,61,62,63,64,65,66,67,68,69,70,71,72,73,74,75,76,77,78,79,80,81,82,83,84,85,86,87,88,89,90,91,92,93,94,95,96,97,98,99],\"y\":[1,2,3,4,5,6,7,8,9,10,11,12,13,14,15,16,17,18,19,20,21,22,23,24,25,26,27,28,29,30,31,32,33,34,35,36,37,38,39,40,41,42,43,44,45,46,47,48,49,50,51,52,53,54,55,56,57,58,59,60,61,62,63,64,65,66,67,68,69,70,71,72,73,74,75,76,77,78,79,80,81,82,83,84,85,86,87,88,89,90,91,92,93,94,95,96,97,98,99]},{\"name\":\"b\",\"type\":\"scatter\",\"xaxis\":\"x2\",\"yaxis\":\"y2\",\"mode\":\"markers\",\"x\":[1,2,3,4,5,6,7,8,9,10,11,12,13,14,15,16,17,18,19,20,21,22,23,24,25,26,27,28,29,30,31,32,33,34,35,36,37,38,39,40,41,42,43,44,45,46,47,48,49,50,51,52,53,54,55,56,57,58,59,60,61,62,63,64,65,66,67,68,69,70,71,72,73,74,75,76,77,78,79,80,81,82,83,84,85,86,87,88,89,90,91,92,93,94,95,96,97,98,99],\"y\":[97.69185616831082,53.55361326599004,32.71244927452141,83.20214365491641,56.76439660701815,31.149290875889886,96.06059746807495,19.81466364726501,42.18628003810923,109.46444517440808,28.894400454696502,15.578589392947318,65.48516442625287,94.76035905699601,82.40962289640234,29.67730267910524,92.51447108317237,69.69652531761673,24.47514056275239,75.21814797421376,108.77908502423045,80.082390948915,76.76519347733017,70.50351980475205,100.6558586259706,81.25634422606518,58.50455776554302,113.60871355659229,49.10619338786772,75.8698934564969,125.07423554374478,60.33549733470906,119.68502158070598,81.59329560852925,47.24493529320786,75.16114243913199,85.48256925572001,64.62213349147032,49.950046913751336,54.978475061964545,138.09222932315316,62.8526324473668,118.27940838221828,96.22323743850548,125.78001962047193,101.20682331811119,82.76964791970387,87.41086064967054,107.7380243762674,70.82688601232289,116.08647243449023,61.15552393291629,128.63633099803792,103.72132910848032,108.83873176727829,132.42017376994153,98.64495282526737,124.93392509246834,143.53368714242248,83.04690034380471,110.67926908881893,105.41958913377496,152.57739492349887,126.5429501637463,138.8295904716814,70.54973328060389,128.74368891969434,101.64831176333236,139.76740399141028,141.53279726064915,154.67972876737832,98.38671279288684,122.377969895007,100.02405851291337,131.78565415250773,116.10256153548403,159.95091698762363,169.8120299834087,118.20041222388843,89.4121682915343,93.96753780502036,103.70703728511441,130.64530847477232,95.04841024382515,118.85550505707883,148.62091512924562,125.52144547450797,170.25370832116772,143.0387798908826,137.31493508190295,150.9266506589508,131.67703444544404,93.19249220157084,121.40647799910806,153.1521219967562,182.65639117272133,165.81961945327964,116.96313300808814,128.7384632292627]}];\n",
       " var layout = {\"height\":500,\"width\":800,\"title\":{\"text\":\"Axis Composition\"},\"grid\":{\"rows\":1,\"columns\":2,\"pattern\":\"independent\"},\"xaxis\":{\"title\":{\"text\":\"x axis 1\"},\"showgrid\":true,\"zeroline\":false,\"showline\":false},\"xaxis2\":{\"title\":{\"text\":\"x axis 2\"},\"showgrid\":true,\"zeroline\":false,\"showline\":false}};\n",
       " var config = {\"responsive\":false,\"scrollZoom\":true,\"displaylogo\":false};\n",
       " Plotly.newPlot(\"graph_1593772591296\", traces, layout, config);\n",
       "</script>\n"
      ]
     },
     "metadata": {},
     "output_type": "display_data"
    }
   ],
   "source": [
    "import picta.options.Grid\n",
    "\n",
    "// 1. first we define the grid layout - 1 row, 2 columns\n",
    "val grid = Grid(1, 2)\n",
    "\n",
    "// 2. Now define the axes we want to place on the grid\n",
    "val ax1 = Axis(\"xaxis\", title = \"x axis 1\")\n",
    "val ax2 = Axis(\"xaxis2\", title = \"x axis 2\")\n",
    "\n",
    "// 3. define the traces - notice how the axis maps to the xaxis and yaxis keys below:\n",
    "val data1 = XY(x, y, series_name=\"a\", series_type=SCATTER, series_mode=Some(\"markers\"))\n",
    "val data2 = XY(x, z, series_name=\"b\", series_type=SCATTER, series_mode=Some(\"markers\"), xaxis=\"x2\", yaxis=\"y2\")\n",
    "\n",
    "// 4. combine the axis and grid into a single layout component\n",
    "val layout = Layout(\"Axis Composition\") + List(ax1, ax2) + grid\n",
    "\n",
    "// 5. construct into a chart. We do not need to put the series into a single list, but this is done as an example here\n",
    "val chart = Chart() + List(data1, data2) + layout + config\n",
    "\n",
    "chart.plot_inline()"
   ]
  },
  {
   "cell_type": "markdown",
   "metadata": {},
   "source": [
    "#### Map\n",
    "\n",
    "We can also create maps using the composition technique below."
   ]
  },
  {
   "cell_type": "code",
   "execution_count": 24,
   "metadata": {},
   "outputs": [
    {
     "data": {
      "text/html": [
       "\n",
       "<div align=\"center\">\n",
       "<div id='graph_1593772591646' style=\"width:100%; margin:0 auto;\"></div>\n",
       "</div>\n",
       "<script>\n",
       " var traces = [{\"lat\":[40.7127,51.5072],\"lon\":[-74.0059,0.1275],\"type\":\"scattergeo\",\"mode\":\"lines\",\"line\":{\"width\":2,\"color\":\"red\"}}];\n",
       " var layout = {\"height\":500,\"width\":800,\"geo\":{\"resolution\":50,\"showland\":true,\"showlakes\":true,\"coastlinewidth\":2,\"landcolor\":\"rgb(204, 204, 204)\",\"lakecolor\":\"rgb(255, 255, 255)\",\"lataxis\":{\"range\":[20,60],\"showgrid\":true,\"dtick\":10},\"lonaxis\":{\"range\":[-100,20],\"showgrid\":true,\"dtick\":10}}};\n",
       " var config = {\"responsive\":true,\"scrollZoom\":true,\"displaylogo\":false};\n",
       " Plotly.newPlot(\"graph_1593772591646\", traces, layout, config);\n",
       "</script>\n"
      ]
     },
     "metadata": {},
     "output_type": "display_data"
    }
   ],
   "source": [
    "import picta.options.Geo\n",
    "import picta.options.MapAxis\n",
    "import picta.options.LatAxis\n",
    "import picta.options.LongAxis\n",
    "import picta.series.Map\n",
    "\n",
    "val line = Line(width = 2, color=\"red\")\n",
    "val data = Map(lat=List(40.7127, 51.5072), lon=List(-74.0059, 0.1275), series_mode = Some(\"lines\")) + line\n",
    "\n",
    "\n",
    "val geo = Geo(landcolor = Some(\"rgb(204, 204, 204)\"), lakecolor=Some(\"rgb(255, 255, 255)\")) + \n",
    "LatAxis(List(20, 60)) + LongAxis(List(-100, 20))\n",
    "\n",
    "val layout = Layout() + geo\n",
    "val chart = Chart() + data + layout\n",
    "chart.plot_inline()"
   ]
  }
 ],
 "metadata": {
  "kernelspec": {
   "display_name": "Scala",
   "language": "scala",
   "name": "scala"
  },
  "language_info": {
   "codemirror_mode": "text/x-scala",
   "file_extension": ".scala",
   "mimetype": "text/x-scala",
   "name": "scala",
   "nbconvert_exporter": "script",
   "version": "2.13.2"
  }
 },
 "nbformat": 4,
 "nbformat_minor": 4
}
