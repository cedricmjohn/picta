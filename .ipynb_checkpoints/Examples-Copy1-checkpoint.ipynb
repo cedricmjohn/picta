{
 "cells": [
  {
   "cell_type": "code",
   "execution_count": 1,
   "metadata": {
    "scrolled": true
   },
   "outputs": [],
   "source": [
    "interp.repositories() ++= Seq(coursierapi.MavenRepository.of(\n",
    "\"https://jitpack.io\"\n",
    "))"
   ]
  },
  {
   "cell_type": "code",
   "execution_count": 2,
   "metadata": {},
   "outputs": [
    {
     "data": {
      "text/plain": [
       "\u001b[32mimport \u001b[39m\u001b[36m$ivy.$                                  \u001b[39m"
      ]
     },
     "execution_count": 2,
     "metadata": {},
     "output_type": "execute_result"
    }
   ],
   "source": [
    "import $ivy. `org.carbonateresearch::picta:0.1`"
   ]
  },
  {
   "cell_type": "code",
   "execution_count": 3,
   "metadata": {
    "scrolled": false
   },
   "outputs": [
    {
     "data": {
      "text/html": [
       "\n",
       "<style> #animationInterface {\n",
       "    margin-top: 50px;\n",
       "    margin-bottom: 50px;\n",
       "}\n",
       "\n",
       ".progressBar {\n",
       "    padding-top: 20px;\n",
       "    padding-bottom: 20px;\n",
       "}\n",
       "\n",
       ".inline-div {\n",
       "    display: block;\n",
       "    text-align: center;\n",
       "}\n",
       "\n",
       "h3 {\n",
       "    display: inline-block;\n",
       "    text-align: center;\n",
       "}\n",
       "\n",
       ".picta-button {\n",
       "    background-color: #003E74;\n",
       "    border: none;\n",
       "    color: white;\n",
       "    padding: 12px 28px;\n",
       "    text-align: center;\n",
       "    text-decoration: none;\n",
       "    display: inline-block;\n",
       "    font-size: 12px;\n",
       "    margin-top: 50px;\n",
       "    transition-duration: 0.4s;\n",
       "    cursor: pointer;\n",
       "}\n",
       "\n",
       ".picta-button:hover {\n",
       "    background-color: #002147;\n",
       "    color: white;\n",
       "}\n",
       "\n",
       ".grid-title h1 {\n",
       "    font-family: \"Open Sans\", verdana, arial, sans-serif;\n",
       "    font-weight: normal;\n",
       "}\n",
       "\n",
       ".grid-container {\n",
       "    padding-top: 40px;\n",
       "    background: white;\n",
       "} </style>\n",
       "<script> /** vim: et:ts=4:sw=4:sts=4\n",
       " * @license RequireJS 2.3.6 Copyright jQuery Foundation and other contributors.\n",
       " * Released under MIT license, https://github.com/requirejs/requirejs/blob/master/LICENSE\n",
       " */\n",
       "var requirejs,require,define;!function(global,setTimeout){var req,s,head,baseElement,dataMain,src,interactiveScript,currentlyAddingScript,mainScript,subPath,version=\"2.3.6\",commentRegExp=/\\/\\*[\\s\\S]*?\\*\\/|([^:\"'=]|^)\\/\\/.*$/gm,cjsRequireRegExp=/[^.]\\s*require\\s*\\(\\s*[\"']([^'\"\\s]+)[\"']\\s*\\)/g,jsSuffixRegExp=/\\.js$/,currDirRegExp=/^\\.\\//,op=Object.prototype,ostring=op.toString,hasOwn=op.hasOwnProperty,isBrowser=!(\"undefined\"==typeof window||\"undefined\"==typeof navigator||!window.document),isWebWorker=!isBrowser&&\"undefined\"!=typeof importScripts,readyRegExp=isBrowser&&\"PLAYSTATION 3\"===navigator.platform?/^complete$/:/^(complete|loaded)$/,defContextName=\"_\",isOpera=\"undefined\"!=typeof opera&&\"[object Opera]\"===opera.toString(),contexts={},cfg={},globalDefQueue=[],useInteractive=!1;function commentReplace(e,t){return t||\"\"}function isFunction(e){return\"[object Function]\"===ostring.call(e)}function isArray(e){return\"[object Array]\"===ostring.call(e)}function each(e,t){var i;if(e)for(i=0;i<e.length&&(!e[i]||!t(e[i],i,e));i+=1);}function eachReverse(e,t){var i;if(e)for(i=e.length-1;-1<i&&(!e[i]||!t(e[i],i,e));i-=1);}function hasProp(e,t){return hasOwn.call(e,t)}function getOwn(e,t){return hasProp(e,t)&&e[t]}function eachProp(e,t){var i;for(i in e)if(hasProp(e,i)&&t(e[i],i))break}function mixin(i,e,r,n){return e&&eachProp(e,function(e,t){!r&&hasProp(i,t)||(!n||\"object\"!=typeof e||!e||isArray(e)||isFunction(e)||e instanceof RegExp?i[t]=e:(i[t]||(i[t]={}),mixin(i[t],e,r,n)))}),i}function bind(e,t){return function(){return t.apply(e,arguments)}}function scripts(){return document.getElementsByTagName(\"script\")}function defaultOnError(e){throw e}function getGlobal(e){if(!e)return e;var t=global;return each(e.split(\".\"),function(e){t=t[e]}),t}function makeError(e,t,i,r){var n=new Error(t+\"\\nhttps://requirejs.org/docs/errors.html#\"+e);return n.requireType=e,n.requireModules=r,i&&(n.originalError=i),n}if(void 0===define){if(void 0!==requirejs){if(isFunction(requirejs))return;cfg=requirejs,requirejs=void 0}void 0===require||isFunction(require)||(cfg=require,require=void 0),req=requirejs=function(e,t,i,r){var n,o,a=defContextName;return isArray(e)||\"string\"==typeof e||(o=e,isArray(t)?(e=t,t=i,i=r):e=[]),o&&o.context&&(a=o.context),(n=getOwn(contexts,a))||(n=contexts[a]=req.s.newContext(a)),o&&n.configure(o),n.require(e,t,i)},req.config=function(e){return req(e)},req.nextTick=void 0!==setTimeout?function(e){setTimeout(e,4)}:function(e){e()},require||(require=req),req.version=version,req.jsExtRegExp=/^\\/|:|\\?|\\.js$/,req.isBrowser=isBrowser,s=req.s={contexts:contexts,newContext:newContext},req({}),each([\"toUrl\",\"undef\",\"defined\",\"specified\"],function(t){req[t]=function(){var e=contexts[defContextName];return e.require[t].apply(e,arguments)}}),isBrowser&&(head=s.head=document.getElementsByTagName(\"head\")[0],baseElement=document.getElementsByTagName(\"base\")[0],baseElement&&(head=s.head=baseElement.parentNode)),req.onError=defaultOnError,req.createNode=function(e,t,i){var r=e.xhtml?document.createElementNS(\"http://www.w3.org/1999/xhtml\",\"html:script\"):document.createElement(\"script\");return r.type=e.scriptType||\"text/javascript\",r.charset=\"utf-8\",r.async=!0,r},req.load=function(t,i,r){var e,n=t&&t.config||{};if(isBrowser)return(e=req.createNode(n,i,r)).setAttribute(\"data-requirecontext\",t.contextName),e.setAttribute(\"data-requiremodule\",i),!e.attachEvent||e.attachEvent.toString&&e.attachEvent.toString().indexOf(\"[native code\")<0||isOpera?(e.addEventListener(\"load\",t.onScriptLoad,!1),e.addEventListener(\"error\",t.onScriptError,!1)):(useInteractive=!0,e.attachEvent(\"onreadystatechange\",t.onScriptLoad)),e.src=r,n.onNodeCreated&&n.onNodeCreated(e,n,i,r),currentlyAddingScript=e,baseElement?head.insertBefore(e,baseElement):head.appendChild(e),currentlyAddingScript=null,e;if(isWebWorker)try{setTimeout(function(){},0),importScripts(r),t.completeLoad(i)}catch(e){t.onError(makeError(\"importscripts\",\"importScripts failed for \"+i+\" at \"+r,e,[i]))}},isBrowser&&!cfg.skipDataMain&&eachReverse(scripts(),function(e){if(head||(head=e.parentNode),dataMain=e.getAttribute(\"data-main\"))return mainScript=dataMain,cfg.baseUrl||-1!==mainScript.indexOf(\"!\")||(mainScript=(src=mainScript.split(\"/\")).pop(),subPath=src.length?src.join(\"/\")+\"/\":\"./\",cfg.baseUrl=subPath),mainScript=mainScript.replace(jsSuffixRegExp,\"\"),req.jsExtRegExp.test(mainScript)&&(mainScript=dataMain),cfg.deps=cfg.deps?cfg.deps.concat(mainScript):[mainScript],!0}),define=function(e,i,t){var r,n;\"string\"!=typeof e&&(t=i,i=e,e=null),isArray(i)||(t=i,i=null),!i&&isFunction(t)&&(i=[],t.length&&(t.toString().replace(commentRegExp,commentReplace).replace(cjsRequireRegExp,function(e,t){i.push(t)}),i=(1===t.length?[\"require\"]:[\"require\",\"exports\",\"module\"]).concat(i))),useInteractive&&(r=currentlyAddingScript||getInteractiveScript())&&(e||(e=r.getAttribute(\"data-requiremodule\")),n=contexts[r.getAttribute(\"data-requirecontext\")]),n?(n.defQueue.push([e,i,t]),n.defQueueMap[e]=!0):globalDefQueue.push([e,i,t])},define.amd={jQuery:!0},req.exec=function(text){return eval(text)},req(cfg)}function newContext(u){var i,e,l,c,d,g={waitSeconds:7,baseUrl:\"./\",paths:{},bundles:{},pkgs:{},shim:{},config:{}},p={},f={},r={},h=[],m={},n={},v={},x=1,b=1;function q(e,t,i){var r,n,o,a,s,u,c,d,p,f,l=t&&t.split(\"/\"),h=g.map,m=h&&h[\"*\"];if(e&&(u=(e=e.split(\"/\")).length-1,g.nodeIdCompat&&jsSuffixRegExp.test(e[u])&&(e[u]=e[u].replace(jsSuffixRegExp,\"\")),\".\"===e[0].charAt(0)&&l&&(e=l.slice(0,l.length-1).concat(e)),function(e){var t,i;for(t=0;t<e.length;t++)if(\".\"===(i=e[t]))e.splice(t,1),t-=1;else if(\"..\"===i){if(0===t||1===t&&\"..\"===e[2]||\"..\"===e[t-1])continue;0<t&&(e.splice(t-1,2),t-=2)}}(e),e=e.join(\"/\")),i&&h&&(l||m)){e:for(o=(n=e.split(\"/\")).length;0<o;o-=1){if(s=n.slice(0,o).join(\"/\"),l)for(a=l.length;0<a;a-=1)if((r=getOwn(h,l.slice(0,a).join(\"/\")))&&(r=getOwn(r,s))){c=r,d=o;break e}!p&&m&&getOwn(m,s)&&(p=getOwn(m,s),f=o)}!c&&p&&(c=p,d=f),c&&(n.splice(0,d,c),e=n.join(\"/\"))}return getOwn(g.pkgs,e)||e}function E(t){isBrowser&&each(scripts(),function(e){if(e.getAttribute(\"data-requiremodule\")===t&&e.getAttribute(\"data-requirecontext\")===l.contextName)return e.parentNode.removeChild(e),!0})}function w(e){var t=getOwn(g.paths,e);if(t&&isArray(t)&&1<t.length)return t.shift(),l.require.undef(e),l.makeRequire(null,{skipMap:!0})([e]),!0}function y(e){var t,i=e?e.indexOf(\"!\"):-1;return-1<i&&(t=e.substring(0,i),e=e.substring(i+1,e.length)),[t,e]}function S(e,t,i,r){var n,o,a,s,u=null,c=t?t.name:null,d=e,p=!0,f=\"\";return e||(p=!1,e=\"_@r\"+(x+=1)),u=(s=y(e))[0],e=s[1],u&&(u=q(u,c,r),o=getOwn(m,u)),e&&(u?f=i?e:o&&o.normalize?o.normalize(e,function(e){return q(e,c,r)}):-1===e.indexOf(\"!\")?q(e,c,r):e:(u=(s=y(f=q(e,c,r)))[0],f=s[1],i=!0,n=l.nameToUrl(f))),{prefix:u,name:f,parentMap:t,unnormalized:!!(a=!u||o||i?\"\":\"_unnormalized\"+(b+=1)),url:n,originalName:d,isDefine:p,id:(u?u+\"!\"+f:f)+a}}function k(e){var t=e.id,i=getOwn(p,t);return i||(i=p[t]=new l.Module(e)),i}function M(e,t,i){var r=e.id,n=getOwn(p,r);!hasProp(m,r)||n&&!n.defineEmitComplete?(n=k(e)).error&&\"error\"===t?i(n.error):n.on(t,i):\"defined\"===t&&i(m[r])}function O(i,e){var t=i.requireModules,r=!1;e?e(i):(each(t,function(e){var t=getOwn(p,e);t&&(t.error=i,t.events.error&&(r=!0,t.emit(\"error\",i)))}),r||req.onError(i))}function j(){globalDefQueue.length&&(each(globalDefQueue,function(e){var t=e[0];\"string\"==typeof t&&(l.defQueueMap[t]=!0),h.push(e)}),globalDefQueue=[])}function P(e){delete p[e],delete f[e]}function R(){var e,r,t=1e3*g.waitSeconds,n=t&&l.startTime+t<(new Date).getTime(),o=[],a=[],s=!1,u=!0;if(!i){if(i=!0,eachProp(f,function(e){var t=e.map,i=t.id;if(e.enabled&&(t.isDefine||a.push(e),!e.error))if(!e.inited&&n)w(i)?s=r=!0:(o.push(i),E(i));else if(!e.inited&&e.fetched&&t.isDefine&&(s=!0,!t.prefix))return u=!1}),n&&o.length)return(e=makeError(\"timeout\",\"Load timeout for modules: \"+o,null,o)).contextName=l.contextName,O(e);u&&each(a,function(e){!function n(o,a,s){var e=o.map.id;o.error?o.emit(\"error\",o.error):(a[e]=!0,each(o.depMaps,function(e,t){var i=e.id,r=getOwn(p,i);!r||o.depMatched[t]||s[i]||(getOwn(a,i)?(o.defineDep(t,m[i]),o.check()):n(r,a,s))}),s[e]=!0)}(e,{},{})}),n&&!r||!s||!isBrowser&&!isWebWorker||d||(d=setTimeout(function(){d=0,R()},50)),i=!1}}function a(e){hasProp(m,e[0])||k(S(e[0],null,!0)).init(e[1],e[2])}function o(e,t,i,r){e.detachEvent&&!isOpera?r&&e.detachEvent(r,t):e.removeEventListener(i,t,!1)}function s(e){var t=e.currentTarget||e.srcElement;return o(t,l.onScriptLoad,\"load\",\"onreadystatechange\"),o(t,l.onScriptError,\"error\"),{node:t,id:t&&t.getAttribute(\"data-requiremodule\")}}function T(){var e;for(j();h.length;){if(null===(e=h.shift())[0])return O(makeError(\"mismatch\",\"Mismatched anonymous define() module: \"+e[e.length-1]));a(e)}l.defQueueMap={}}return c={require:function(e){return e.require?e.require:e.require=l.makeRequire(e.map)},exports:function(e){if(e.usingExports=!0,e.map.isDefine)return e.exports?m[e.map.id]=e.exports:e.exports=m[e.map.id]={}},module:function(e){return e.module?e.module:e.module={id:e.map.id,uri:e.map.url,config:function(){return getOwn(g.config,e.map.id)||{}},exports:e.exports||(e.exports={})}}},(e=function(e){this.events=getOwn(r,e.id)||{},this.map=e,this.shim=getOwn(g.shim,e.id),this.depExports=[],this.depMaps=[],this.depMatched=[],this.pluginMaps={},this.depCount=0}).prototype={init:function(e,t,i,r){r=r||{},this.inited||(this.factory=t,i?this.on(\"error\",i):this.events.error&&(i=bind(this,function(e){this.emit(\"error\",e)})),this.depMaps=e&&e.slice(0),this.errback=i,this.inited=!0,this.ignore=r.ignore,r.enabled||this.enabled?this.enable():this.check())},defineDep:function(e,t){this.depMatched[e]||(this.depMatched[e]=!0,this.depCount-=1,this.depExports[e]=t)},fetch:function(){if(!this.fetched){this.fetched=!0,l.startTime=(new Date).getTime();var e=this.map;if(!this.shim)return e.prefix?this.callPlugin():this.load();l.makeRequire(this.map,{enableBuildCallback:!0})(this.shim.deps||[],bind(this,function(){return e.prefix?this.callPlugin():this.load()}))}},load:function(){var e=this.map.url;n[e]||(n[e]=!0,l.load(this.map.id,e))},check:function(){if(this.enabled&&!this.enabling){var t,e,i=this.map.id,r=this.depExports,n=this.exports,o=this.factory;if(this.inited){if(this.error)this.emit(\"error\",this.error);else if(!this.defining){if(this.defining=!0,this.depCount<1&&!this.defined){if(isFunction(o)){if(this.events.error&&this.map.isDefine||req.onError!==defaultOnError)try{n=l.execCb(i,o,r,n)}catch(e){t=e}else n=l.execCb(i,o,r,n);if(this.map.isDefine&&void 0===n&&((e=this.module)?n=e.exports:this.usingExports&&(n=this.exports)),t)return t.requireMap=this.map,t.requireModules=this.map.isDefine?[this.map.id]:null,t.requireType=this.map.isDefine?\"define\":\"require\",O(this.error=t)}else n=o;if(this.exports=n,this.map.isDefine&&!this.ignore&&(m[i]=n,req.onResourceLoad)){var a=[];each(this.depMaps,function(e){a.push(e.normalizedMap||e)}),req.onResourceLoad(l,this.map,a)}P(i),this.defined=!0}this.defining=!1,this.defined&&!this.defineEmitted&&(this.defineEmitted=!0,this.emit(\"defined\",this.exports),this.defineEmitComplete=!0)}}else hasProp(l.defQueueMap,i)||this.fetch()}},callPlugin:function(){var u=this.map,c=u.id,e=S(u.prefix);this.depMaps.push(e),M(e,\"defined\",bind(this,function(e){var o,t,i,r=getOwn(v,this.map.id),n=this.map.name,a=this.map.parentMap?this.map.parentMap.name:null,s=l.makeRequire(u.parentMap,{enableBuildCallback:!0});return this.map.unnormalized?(e.normalize&&(n=e.normalize(n,function(e){return q(e,a,!0)})||\"\"),M(t=S(u.prefix+\"!\"+n,this.map.parentMap,!0),\"defined\",bind(this,function(e){this.map.normalizedMap=t,this.init([],function(){return e},null,{enabled:!0,ignore:!0})})),void((i=getOwn(p,t.id))&&(this.depMaps.push(t),this.events.error&&i.on(\"error\",bind(this,function(e){this.emit(\"error\",e)})),i.enable()))):r?(this.map.url=l.nameToUrl(r),void this.load()):((o=bind(this,function(e){this.init([],function(){return e},null,{enabled:!0})})).error=bind(this,function(e){this.inited=!0,(this.error=e).requireModules=[c],eachProp(p,function(e){0===e.map.id.indexOf(c+\"_unnormalized\")&&P(e.map.id)}),O(e)}),o.fromText=bind(this,function(e,t){var i=u.name,r=S(i),n=useInteractive;t&&(e=t),n&&(useInteractive=!1),k(r),hasProp(g.config,c)&&(g.config[i]=g.config[c]);try{req.exec(e)}catch(e){return O(makeError(\"fromtexteval\",\"fromText eval for \"+c+\" failed: \"+e,e,[c]))}n&&(useInteractive=!0),this.depMaps.push(r),l.completeLoad(i),s([i],o)}),void e.load(u.name,s,o,g))})),l.enable(e,this),this.pluginMaps[e.id]=e},enable:function(){(f[this.map.id]=this).enabled=!0,this.enabling=!0,each(this.depMaps,bind(this,function(e,t){var i,r,n;if(\"string\"==typeof e){if(e=S(e,this.map.isDefine?this.map:this.map.parentMap,!1,!this.skipMap),this.depMaps[t]=e,n=getOwn(c,e.id))return void(this.depExports[t]=n(this));this.depCount+=1,M(e,\"defined\",bind(this,function(e){this.undefed||(this.defineDep(t,e),this.check())})),this.errback?M(e,\"error\",bind(this,this.errback)):this.events.error&&M(e,\"error\",bind(this,function(e){this.emit(\"error\",e)}))}i=e.id,r=p[i],hasProp(c,i)||!r||r.enabled||l.enable(e,this)})),eachProp(this.pluginMaps,bind(this,function(e){var t=getOwn(p,e.id);t&&!t.enabled&&l.enable(e,this)})),this.enabling=!1,this.check()},on:function(e,t){var i=this.events[e];i||(i=this.events[e]=[]),i.push(t)},emit:function(e,t){each(this.events[e],function(e){e(t)}),\"error\"===e&&delete this.events[e]}},(l={config:g,contextName:u,registry:p,defined:m,urlFetched:n,defQueue:h,defQueueMap:{},Module:e,makeModuleMap:S,nextTick:req.nextTick,onError:O,configure:function(e){if(e.baseUrl&&\"/\"!==e.baseUrl.charAt(e.baseUrl.length-1)&&(e.baseUrl+=\"/\"),\"string\"==typeof e.urlArgs){var i=e.urlArgs;e.urlArgs=function(e,t){return(-1===t.indexOf(\"?\")?\"?\":\"&\")+i}}var r=g.shim,n={paths:!0,bundles:!0,config:!0,map:!0};eachProp(e,function(e,t){n[t]?(g[t]||(g[t]={}),mixin(g[t],e,!0,!0)):g[t]=e}),e.bundles&&eachProp(e.bundles,function(e,t){each(e,function(e){e!==t&&(v[e]=t)})}),e.shim&&(eachProp(e.shim,function(e,t){isArray(e)&&(e={deps:e}),!e.exports&&!e.init||e.exportsFn||(e.exportsFn=l.makeShimExports(e)),r[t]=e}),g.shim=r),e.packages&&each(e.packages,function(e){var t;t=(e=\"string\"==typeof e?{name:e}:e).name,e.location&&(g.paths[t]=e.location),g.pkgs[t]=e.name+\"/\"+(e.main||\"main\").replace(currDirRegExp,\"\").replace(jsSuffixRegExp,\"\")}),eachProp(p,function(e,t){e.inited||e.map.unnormalized||(e.map=S(t,null,!0))}),(e.deps||e.callback)&&l.require(e.deps||[],e.callback)},makeShimExports:function(t){return function(){var e;return t.init&&(e=t.init.apply(global,arguments)),e||t.exports&&getGlobal(t.exports)}},makeRequire:function(o,a){function s(e,t,i){var r,n;return a.enableBuildCallback&&t&&isFunction(t)&&(t.__requireJsBuild=!0),\"string\"==typeof e?isFunction(t)?O(makeError(\"requireargs\",\"Invalid require call\"),i):o&&hasProp(c,e)?c[e](p[o.id]):req.get?req.get(l,e,o,s):(r=S(e,o,!1,!0).id,hasProp(m,r)?m[r]:O(makeError(\"notloaded\",'Module name \"'+r+'\" has not been loaded yet for context: '+u+(o?\"\":\". Use require([])\")))):(T(),l.nextTick(function(){T(),(n=k(S(null,o))).skipMap=a.skipMap,n.init(e,t,i,{enabled:!0}),R()}),s)}return a=a||{},mixin(s,{isBrowser:isBrowser,toUrl:function(e){var t,i=e.lastIndexOf(\".\"),r=e.split(\"/\")[0];return-1!==i&&(!(\".\"===r||\"..\"===r)||1<i)&&(t=e.substring(i,e.length),e=e.substring(0,i)),l.nameToUrl(q(e,o&&o.id,!0),t,!0)},defined:function(e){return hasProp(m,S(e,o,!1,!0).id)},specified:function(e){return e=S(e,o,!1,!0).id,hasProp(m,e)||hasProp(p,e)}}),o||(s.undef=function(i){j();var e=S(i,o,!0),t=getOwn(p,i);t.undefed=!0,E(i),delete m[i],delete n[e.url],delete r[i],eachReverse(h,function(e,t){e[0]===i&&h.splice(t,1)}),delete l.defQueueMap[i],t&&(t.events.defined&&(r[i]=t.events),P(i))}),s},enable:function(e){getOwn(p,e.id)&&k(e).enable()},completeLoad:function(e){var t,i,r,n=getOwn(g.shim,e)||{},o=n.exports;for(j();h.length;){if(null===(i=h.shift())[0]){if(i[0]=e,t)break;t=!0}else i[0]===e&&(t=!0);a(i)}if(l.defQueueMap={},r=getOwn(p,e),!t&&!hasProp(m,e)&&r&&!r.inited){if(!(!g.enforceDefine||o&&getGlobal(o)))return w(e)?void 0:O(makeError(\"nodefine\",\"No define call for \"+e,null,[e]));a([e,n.deps||[],n.exportsFn])}R()},nameToUrl:function(e,t,i){var r,n,o,a,s,u,c=getOwn(g.pkgs,e);if(c&&(e=c),u=getOwn(v,e))return l.nameToUrl(u,t,i);if(req.jsExtRegExp.test(e))a=e+(t||\"\");else{for(r=g.paths,o=(n=e.split(\"/\")).length;0<o;o-=1)if(s=getOwn(r,n.slice(0,o).join(\"/\"))){isArray(s)&&(s=s[0]),n.splice(0,o,s);break}a=n.join(\"/\"),a=(\"/\"===(a+=t||(/^data\\:|^blob\\:|\\?/.test(a)||i?\"\":\".js\")).charAt(0)||a.match(/^[\\w\\+\\.\\-]+:/)?\"\":g.baseUrl)+a}return g.urlArgs&&!/^blob\\:/.test(a)?a+g.urlArgs(e,a):a},load:function(e,t){req.load(l,e,t)},execCb:function(e,t,i,r){return t.apply(r,i)},onScriptLoad:function(e){if(\"load\"===e.type||readyRegExp.test((e.currentTarget||e.srcElement).readyState)){interactiveScript=null;var t=s(e);l.completeLoad(t.id)}},onScriptError:function(e){var i=s(e);if(!w(i.id)){var r=[];return eachProp(p,function(e,t){0!==t.indexOf(\"_@r\")&&each(e.depMaps,function(e){if(e.id===i.id)return r.push(t),!0})}),O(makeError(\"scripterror\",'Script error for \"'+i.id+(r.length?'\", needed by: '+r.join(\", \"):'\"'),e,[i.id]))}}}).require=l.makeRequire(),l}function getInteractiveScript(){return interactiveScript&&\"interactive\"===interactiveScript.readyState||eachReverse(scripts(),function(e){if(\"interactive\"===e.readyState)return interactiveScript=e}),interactiveScript}}(this,\"undefined\"==typeof setTimeout?void 0:setTimeout); </script>\n",
       "<script>\n",
       " require.config({\n",
       "   paths: {\n",
       "     'plotly': \"https://cdn.plot.ly/plotly-latest.min\",\n",
       "     'macy': \"https://cdn.jsdelivr.net/npm/macy@2.5.1/dist/macy.min\",\n",
       "     'merge': \"https://unpkg.com/merge-images@2.0.0/dist/index.umd\"\n",
       "   },\n",
       " })\n",
       "require( ['plotly', 'macy', 'merge'], function(Plotly, Macy, mergeImages) {\n",
       " window.Plotly = Plotly;\n",
       " window.Macy = Macy;\n",
       " window.mergeImages = mergeImages;\n",
       "})\n",
       "</script>\n"
      ]
     },
     "metadata": {},
     "output_type": "display_data"
    },
    {
     "data": {
      "text/plain": [
       "\u001b[32mimport \u001b[39m\u001b[36morg.carbonateresearch.picta.render.Html.initNotebook // required to initialize jupyter notebook mode\n",
       "\u001b[39m"
      ]
     },
     "execution_count": 3,
     "metadata": {},
     "output_type": "execute_result"
    }
   ],
   "source": [
    "import org.carbonateresearch.picta.render.Html.initNotebook // required to initialize jupyter notebook mode\n",
    "initNotebook() // stops ugly output"
   ]
  },
  {
   "cell_type": "markdown",
   "metadata": {},
   "source": [
    "# 1. Basics\n",
    "\n",
    "The aim of the Picta library is to be a highly configurable and composable charting library for data exploration. The library takes a grammatical approach to chart construction. \n",
    "\n",
    "The following examples are aimed at demonstrating the libraries capabilities, and eventually make constructing charts using this library easy and intuitive."
   ]
  },
  {
   "cell_type": "markdown",
   "metadata": {},
   "source": [
    "### Main Components\n",
    "\n",
    "Picta graphs are constructed in a modular manner. The main components are:\n",
    "\n",
    "1. `Canvas`: This is is the top-level component for representing the display. A `Canvas` may consist of multiple charts.\n",
    "\n",
    "\n",
    "2. `Chart`: This is the component that corresponds to an actual chart (i.e. scatter, pie etc).\n",
    "\n",
    "\n",
    "3. `Series`: This is the data series that is plotted on a `Chart`. `Series` come in 3 types:\n",
    "\n",
    "    - `XY`:   This is series data for constructing a 2D chart\n",
    "    - `XYZ`:  This is series data for constructing a 3D chart\n",
    "    - `Map`:  This is series data that constructs a Map chart\n",
    "    \n",
    "\n",
    "4. `ChartLayout`: This configures various parts of how the `Chart` is represented on screen.\n",
    "\n",
    "`Chart` may occassionally also make use of the `Config` component for further configuration. `Config` specifies whether the plot is responsive.\n",
    "\n",
    "The following examples in this notebook should provide a number of interactive examples to get used to the Picta library."
   ]
  },
  {
   "cell_type": "markdown",
   "metadata": {},
   "source": [
    "### Importing the Library\n",
    "\n",
    "Importing as below should bring in the most frequently used Components in the library."
   ]
  },
  {
   "cell_type": "code",
   "execution_count": 4,
   "metadata": {},
   "outputs": [],
   "source": [
    "import org.carbonateresearch.picta._"
   ]
  },
  {
   "cell_type": "markdown",
   "metadata": {},
   "source": [
    "### Create Some Dummy Data to Use in the Examples\n",
    "\n",
    "Here we create some dummy data to be used in the examples for this notebook."
   ]
  },
  {
   "cell_type": "code",
   "execution_count": 5,
   "metadata": {},
   "outputs": [],
   "source": [
    "val x = List.range(0, 100).map(x => scala.util.Random.nextDouble() * 50)\n",
    "val y = List.range(0, 100).map(x => scala.util.Random.nextDouble() * 50)\n",
    "val z = List.range(0, 100).map(x => scala.util.Random.nextDouble() * 50)"
   ]
  },
  {
   "cell_type": "markdown",
   "metadata": {},
   "source": [
    "### 2D Plots\n",
    "\n",
    "`Series` that represent 2D data are represented by `XY` series types.\n",
    "\n",
    "\n",
    "#### Scatter Plot\n",
    "\n",
    "An example `Scatter` plot is below. \n",
    "\n",
    "Note: This is just one way to call the library functions. Another way that uses function chaining will be shown immediately after this example."
   ]
  },
  {
   "cell_type": "code",
   "execution_count": 6,
   "metadata": {},
   "outputs": [
    {
     "data": {
      "text/html": [
       "<div id=\"grid-container_zbD1GpU38q\" class=\"grid-container\" align=\"center\"> \n",
       "<div id=\"grid_zbD1GpU38q\" class=\"grid\" align=\"center\"> \n",
       "<div id=\"graph_v73FFkEzFy\" class=\"graph\"></div> \n",
       "</div> \n",
       "</div> \n",
       "<script>\n",
       "var masonry = new Macy({\n",
       "    container: '#grid_zbD1GpU38q',\n",
       "    debug: true,\n",
       "    mobileFirst: true,\n",
       "    columns: 1,\n",
       "    margin: {\n",
       "        x: 0,\n",
       "        y: 0\n",
       "    }\n",
       "  });\n",
       "\n",
       " var traces_v73FFkEzFy = [{\"name\":\"yBFJXnDXiD\",\"type\":\"scatter\",\"mode\":\"markers\",\"x\":[23.08363506440474,37.202114247680015,36.01357751340306,12.563798704493806,21.387075865310123,4.228289701101485,10.165458088654166,45.768319181071156,43.30321163345399,24.651716384679993,23.430760816531986,9.690879210181102,19.163464998750392,38.35406492155112,49.594971627921225,31.275598470623244,27.335034418255965,38.738951739517475,7.701871938855382,24.933009831095156,26.886676593609053,23.923044385404584,8.239101592207371,23.96562212874645,28.5996854654928,37.86882499618952,43.80677991895398,9.29979093089392,37.26626566554738,42.42120315622554,38.58342937521865,33.05348403754846,31.664760515093803,48.17311444305973,27.007001179582694,0.3386900396066539,39.86097626376283,39.360581193875014,21.00479440931774,33.87886399556198,16.557086400058342,5.575652301450851,46.83459342236006,2.5159081513592643,36.094390456878486,40.985980242224386,37.14035843396977,46.487884694235355,29.413443175461897,39.96272007888851,1.1793010239070811,29.47773946051126,15.784861273844141,6.543812010475181,16.343231807187586,39.864995631105685,10.446349847397535,3.9975987489188514,37.07553990801819,1.3564975397766743,27.416290798907827,49.90212562221157,3.0762067143241314,36.22894141013982,42.70147052369551,11.618352488706313,47.290770566634485,2.7850446423209774,36.876309590574806,26.81090805768531,5.595157215985242,2.306878771515719,47.58321438580555,13.757899559908232,14.316825224989332,19.784007189690218,31.888436132477015,46.59169189645259,48.77368414449407,27.00070911455536,15.62508965644569,1.325436770574534,5.865751607270492,36.18574132218352,41.864759447553936,29.545561478159126,16.420551007106397,47.35968154285587,23.481359257899136,37.98827967173697,38.471735945407644,32.75909245797706,5.405718740590587,43.86859588641252,30.941482572414465,47.27333356785907,0.6165840400662037,37.79317710332649,38.30066656974241,44.69903397176546],\"y\":[30.173544434668266,18.363819384441456,30.696887571828885,15.798838283480388,21.669600900623674,15.166171556308994,40.76890482200902,45.64522707658336,2.365914722535145,39.73873309773852,17.907064154060258,14.536797953417885,12.968496716953648,47.3300561425683,33.072818296389144,38.89357994152168,15.516391625923326,5.77746839753503,12.456452877251166,15.969577783207562,24.17315633210372,1.678501502071883,6.230646501830517,48.964863402691606,0.8482148982064452,18.17664732870433,9.448507425080194,37.176220191174664,28.521927260518083,43.14590381137716,45.73825655909592,19.194436340705685,3.907980883050355,11.333993143645316,0.8627228720437086,5.838006900785947,27.658972277749832,49.11202983071711,2.4403519476805857,33.50716304147411,14.705816329418669,25.878767717574874,34.165419623914175,7.948733382939705,49.51888571497774,21.88051201636817,47.7187012292904,43.041563320127594,21.088562727185682,48.233091200239016,43.22580460465829,29.143761108053233,40.24510625204766,1.2702580871391533,29.59894268496735,40.78728033256821,17.57257110543459,49.9932054057812,49.38890818834287,14.06190356831698,13.618715813435934,42.35883440467787,8.877533655199821,39.899900521465895,14.362644836906451,23.41975082440969,43.056938936408194,30.654212647561984,33.974177849951694,35.91690059495003,16.870397167342794,23.85721993442793,3.7837054312326535,21.82611093449295,18.630619248579112,38.853728377161595,21.07856922031749,11.572729066084102,38.88484544302752,49.12099545897837,3.851740094571088,26.153892581137672,48.16207416264497,25.520248597130173,27.950882424774058,26.245912554439844,40.01632579183411,43.46825248780379,11.210595234936955,21.524600942755995,41.5708308234431,30.074191619123514,5.0979527773777065,2.889275100171629,12.37155619044863,5.656207302941107,8.161175063377385,30.056573753857073,3.77448781776108,47.7336043126845]}];\n",
       " var layout_v73FFkEzFy = {\"height\":550,\"width\":600,\"hovermode\":\"closest\",\"legend\":{\"orientation\":\"v\"},\"title\":{\"text\":\"First Chart\"},\"showlegend\":true};\n",
       " var config_v73FFkEzFy = {\"responsive\":true,\"scrollZoom\":true,\"displaylogo\":false};\n",
       " Plotly.newPlot(\"graph_v73FFkEzFy\", traces_v73FFkEzFy, layout_v73FFkEzFy, config_v73FFkEzFy);\n",
       "</script> \n"
      ]
     },
     "metadata": {},
     "output_type": "display_data"
    }
   ],
   "source": [
    "// create the data series using the data from above\n",
    "// 'asType SCATTER' transforms the series into a scatter chart\n",
    "// 'drawStyle Markers' specifies the style of the markers the chart should have\n",
    "// if a name is not provided to the series, Picta generates a random name to help keep track of the series in charts\n",
    "// multiple series.\n",
    "val series = XY(x, y) asType SCATTER drawStyle MARKERS\n",
    "\n",
    "// create a chart by adding to it a data series. We set the title as 'First Chart'\n",
    "val chart = Chart() addSeries series setTitle \"First Chart\"\n",
    "\n",
    "// if we have a single chart, then we do not need to use the Canvas and can simply call chart.plot\n",
    "\n",
    "chart.plotInline"
   ]
  },
  {
   "cell_type": "markdown",
   "metadata": {},
   "source": [
    "#### Chaining Functions\n",
    "\n",
    "Sometimes when we are specifying many options, it is quicker to use the IDE autocomplete and just chain the function calls. Throughout this book both the style above and the function chaining style will be used as and when convenient."
   ]
  },
  {
   "cell_type": "code",
   "execution_count": 7,
   "metadata": {},
   "outputs": [
    {
     "data": {
      "text/html": [
       "<div id=\"grid-container_58ekkhJYWj\" class=\"grid-container\" align=\"center\"> \n",
       "<div id=\"grid_58ekkhJYWj\" class=\"grid\" align=\"center\"> \n",
       "<div id=\"graph_xB7Wky4JQe\" class=\"graph\"></div> \n",
       "</div> \n",
       "</div> \n",
       "<script>\n",
       "var masonry = new Macy({\n",
       "    container: '#grid_58ekkhJYWj',\n",
       "    debug: true,\n",
       "    mobileFirst: true,\n",
       "    columns: 1,\n",
       "    margin: {\n",
       "        x: 0,\n",
       "        y: 0\n",
       "    }\n",
       "  });\n",
       "\n",
       " var traces_xB7Wky4JQe = [{\"name\":\"NvoevB7w3a\",\"type\":\"scatter\",\"mode\":\"markers\",\"x\":[23.08363506440474,37.202114247680015,36.01357751340306,12.563798704493806,21.387075865310123,4.228289701101485,10.165458088654166,45.768319181071156,43.30321163345399,24.651716384679993,23.430760816531986,9.690879210181102,19.163464998750392,38.35406492155112,49.594971627921225,31.275598470623244,27.335034418255965,38.738951739517475,7.701871938855382,24.933009831095156,26.886676593609053,23.923044385404584,8.239101592207371,23.96562212874645,28.5996854654928,37.86882499618952,43.80677991895398,9.29979093089392,37.26626566554738,42.42120315622554,38.58342937521865,33.05348403754846,31.664760515093803,48.17311444305973,27.007001179582694,0.3386900396066539,39.86097626376283,39.360581193875014,21.00479440931774,33.87886399556198,16.557086400058342,5.575652301450851,46.83459342236006,2.5159081513592643,36.094390456878486,40.985980242224386,37.14035843396977,46.487884694235355,29.413443175461897,39.96272007888851,1.1793010239070811,29.47773946051126,15.784861273844141,6.543812010475181,16.343231807187586,39.864995631105685,10.446349847397535,3.9975987489188514,37.07553990801819,1.3564975397766743,27.416290798907827,49.90212562221157,3.0762067143241314,36.22894141013982,42.70147052369551,11.618352488706313,47.290770566634485,2.7850446423209774,36.876309590574806,26.81090805768531,5.595157215985242,2.306878771515719,47.58321438580555,13.757899559908232,14.316825224989332,19.784007189690218,31.888436132477015,46.59169189645259,48.77368414449407,27.00070911455536,15.62508965644569,1.325436770574534,5.865751607270492,36.18574132218352,41.864759447553936,29.545561478159126,16.420551007106397,47.35968154285587,23.481359257899136,37.98827967173697,38.471735945407644,32.75909245797706,5.405718740590587,43.86859588641252,30.941482572414465,47.27333356785907,0.6165840400662037,37.79317710332649,38.30066656974241,44.69903397176546],\"y\":[30.173544434668266,18.363819384441456,30.696887571828885,15.798838283480388,21.669600900623674,15.166171556308994,40.76890482200902,45.64522707658336,2.365914722535145,39.73873309773852,17.907064154060258,14.536797953417885,12.968496716953648,47.3300561425683,33.072818296389144,38.89357994152168,15.516391625923326,5.77746839753503,12.456452877251166,15.969577783207562,24.17315633210372,1.678501502071883,6.230646501830517,48.964863402691606,0.8482148982064452,18.17664732870433,9.448507425080194,37.176220191174664,28.521927260518083,43.14590381137716,45.73825655909592,19.194436340705685,3.907980883050355,11.333993143645316,0.8627228720437086,5.838006900785947,27.658972277749832,49.11202983071711,2.4403519476805857,33.50716304147411,14.705816329418669,25.878767717574874,34.165419623914175,7.948733382939705,49.51888571497774,21.88051201636817,47.7187012292904,43.041563320127594,21.088562727185682,48.233091200239016,43.22580460465829,29.143761108053233,40.24510625204766,1.2702580871391533,29.59894268496735,40.78728033256821,17.57257110543459,49.9932054057812,49.38890818834287,14.06190356831698,13.618715813435934,42.35883440467787,8.877533655199821,39.899900521465895,14.362644836906451,23.41975082440969,43.056938936408194,30.654212647561984,33.974177849951694,35.91690059495003,16.870397167342794,23.85721993442793,3.7837054312326535,21.82611093449295,18.630619248579112,38.853728377161595,21.07856922031749,11.572729066084102,38.88484544302752,49.12099545897837,3.851740094571088,26.153892581137672,48.16207416264497,25.520248597130173,27.950882424774058,26.245912554439844,40.01632579183411,43.46825248780379,11.210595234936955,21.524600942755995,41.5708308234431,30.074191619123514,5.0979527773777065,2.889275100171629,12.37155619044863,5.656207302941107,8.161175063377385,30.056573753857073,3.77448781776108,47.7336043126845]}];\n",
       " var layout_xB7Wky4JQe = {\"height\":550,\"width\":600,\"hovermode\":\"closest\",\"legend\":{\"orientation\":\"v\"},\"title\":{\"text\":\"First Chart - Function Chaining\"},\"showlegend\":true,\"xaxis\":{\"showgrid\":true,\"zeroline\":false,\"showline\":false},\"yaxis\":{\"showgrid\":true,\"zeroline\":false,\"showline\":false}};\n",
       " var config_xB7Wky4JQe = {\"responsive\":true,\"scrollZoom\":true,\"displaylogo\":false};\n",
       " Plotly.newPlot(\"graph_xB7Wky4JQe\", traces_xB7Wky4JQe, layout_xB7Wky4JQe, config_xB7Wky4JQe);\n",
       "</script> \n"
      ]
     },
     "metadata": {},
     "output_type": "display_data"
    }
   ],
   "source": [
    "// sometimes we may specify many options. In such cases it is clearer to use function chaining as below:\n",
    "val series = XY(x, y)\n",
    "            .asType(SCATTER)\n",
    "            .drawMarkers  // This is to help leverage the IDE autocompletion for quick scripting\n",
    "\n",
    "val chart = Chart()\n",
    "            .addSeries(series)\n",
    "            .setTitle(\"First Chart - Function Chaining\")\n",
    "            // by specifying axes we can get rid of the zerolines\n",
    "            .addAxes(XAxis(zeroline = false), YAxis(zeroline = false)) \n",
    "\n",
    "chart.plotInline"
   ]
  },
  {
   "cell_type": "markdown",
   "metadata": {},
   "source": [
    "#### Bar Chart\n",
    "\n",
    "Now using the same principles as above, let's create a `Bar` chart:"
   ]
  },
  {
   "cell_type": "code",
   "execution_count": 8,
   "metadata": {},
   "outputs": [
    {
     "data": {
      "text/html": [
       "<div id=\"grid-container_6cJqNOw65K\" class=\"grid-container\" align=\"center\"> \n",
       "<div id=\"grid_6cJqNOw65K\" class=\"grid\" align=\"center\"> \n",
       "<div id=\"graph_apho57qAN8\" class=\"graph\"></div> \n",
       "</div> \n",
       "</div> \n",
       "<script>\n",
       "var masonry = new Macy({\n",
       "    container: '#grid_6cJqNOw65K',\n",
       "    debug: true,\n",
       "    mobileFirst: true,\n",
       "    columns: 1,\n",
       "    margin: {\n",
       "        x: 0,\n",
       "        y: 0\n",
       "    }\n",
       "  });\n",
       "\n",
       " var traces_apho57qAN8 = [{\"name\":\"XYYcduFqsl\",\"type\":\"bar\",\"x\":[\"a\",\"b\",\"c\"],\"y\":[10,20,300]}];\n",
       " var layout_apho57qAN8 = {\"height\":550,\"width\":600,\"hovermode\":\"closest\",\"legend\":{\"orientation\":\"v\"},\"title\":{\"text\":\"Bar Chart\"},\"showlegend\":true};\n",
       " var config_apho57qAN8 = {\"responsive\":false,\"scrollZoom\":false,\"displaylogo\":false};\n",
       " Plotly.newPlot(\"graph_apho57qAN8\", traces_apho57qAN8, layout_apho57qAN8, config_apho57qAN8);\n",
       "</script> \n"
      ]
     },
     "metadata": {},
     "output_type": "display_data"
    }
   ],
   "source": [
    "// First we create some data for the piechart\n",
    "val x_bar = List(\"a\", \"b\", \"c\")\n",
    "val y_bar = List(10, 20, 300)\n",
    "\n",
    "// again feed in the data that we want to represent as a Bar chart.\n",
    "// Notice how we change 'asType SCATTER' to 'asType BAR'\n",
    "val series = XY(x_bar, y_bar) asType BAR\n",
    "\n",
    "// we can turn off the scrollzoom using setConfig\n",
    "val chart = Chart() addSeries series setTitle \"Bar Chart\" setConfig(false, false)\n",
    "\n",
    "chart.plotInline"
   ]
  },
  {
   "cell_type": "markdown",
   "metadata": {},
   "source": [
    "#### Adding Multiple Series on the Same Axis\n",
    "\n",
    "Sometimes we may want to plot multiple `Series` on the same axis to compare different data series.\n",
    "\n",
    "Let's plot both of the above on the same pair of axis:"
   ]
  },
  {
   "cell_type": "code",
   "execution_count": 9,
   "metadata": {},
   "outputs": [],
   "source": [
    "// we import the marker option which lets us specify the marker\n",
    "import org.carbonateresearch.picta.options.Marker\n",
    "import org.carbonateresearch.picta.SymbolShape._"
   ]
  },
  {
   "cell_type": "code",
   "execution_count": 10,
   "metadata": {},
   "outputs": [
    {
     "data": {
      "text/html": [
       "<div id=\"grid-container_5najYzfEf6\" class=\"grid-container\" align=\"center\"> \n",
       "<div id=\"grid_5najYzfEf6\" class=\"grid\" align=\"center\"> \n",
       "<div id=\"graph_0ybP3kuFp9\" class=\"graph\"></div> \n",
       "</div> \n",
       "</div> \n",
       "<script>\n",
       "var masonry = new Macy({\n",
       "    container: '#grid_5najYzfEf6',\n",
       "    debug: true,\n",
       "    mobileFirst: true,\n",
       "    columns: 1,\n",
       "    margin: {\n",
       "        x: 0,\n",
       "        y: 0\n",
       "    }\n",
       "  });\n",
       "\n",
       " var traces_0ybP3kuFp9 = [{\"name\":\"Bar\",\"type\":\"bar\",\"x\":[23.08363506440474,37.202114247680015,36.01357751340306,12.563798704493806,21.387075865310123,4.228289701101485,10.165458088654166,45.768319181071156,43.30321163345399,24.651716384679993,23.430760816531986,9.690879210181102,19.163464998750392,38.35406492155112,49.594971627921225,31.275598470623244,27.335034418255965,38.738951739517475,7.701871938855382,24.933009831095156,26.886676593609053,23.923044385404584,8.239101592207371,23.96562212874645,28.5996854654928,37.86882499618952,43.80677991895398,9.29979093089392,37.26626566554738,42.42120315622554,38.58342937521865,33.05348403754846,31.664760515093803,48.17311444305973,27.007001179582694,0.3386900396066539,39.86097626376283,39.360581193875014,21.00479440931774,33.87886399556198,16.557086400058342,5.575652301450851,46.83459342236006,2.5159081513592643,36.094390456878486,40.985980242224386,37.14035843396977,46.487884694235355,29.413443175461897,39.96272007888851,1.1793010239070811,29.47773946051126,15.784861273844141,6.543812010475181,16.343231807187586,39.864995631105685,10.446349847397535,3.9975987489188514,37.07553990801819,1.3564975397766743,27.416290798907827,49.90212562221157,3.0762067143241314,36.22894141013982,42.70147052369551,11.618352488706313,47.290770566634485,2.7850446423209774,36.876309590574806,26.81090805768531,5.595157215985242,2.306878771515719,47.58321438580555,13.757899559908232,14.316825224989332,19.784007189690218,31.888436132477015,46.59169189645259,48.77368414449407,27.00070911455536,15.62508965644569,1.325436770574534,5.865751607270492,36.18574132218352,41.864759447553936,29.545561478159126,16.420551007106397,47.35968154285587,23.481359257899136,37.98827967173697,38.471735945407644,32.75909245797706,5.405718740590587,43.86859588641252,30.941482572414465,47.27333356785907,0.6165840400662037,37.79317710332649,38.30066656974241,44.69903397176546],\"y\":[30.173544434668266,18.363819384441456,30.696887571828885,15.798838283480388,21.669600900623674,15.166171556308994,40.76890482200902,45.64522707658336,2.365914722535145,39.73873309773852,17.907064154060258,14.536797953417885,12.968496716953648,47.3300561425683,33.072818296389144,38.89357994152168,15.516391625923326,5.77746839753503,12.456452877251166,15.969577783207562,24.17315633210372,1.678501502071883,6.230646501830517,48.964863402691606,0.8482148982064452,18.17664732870433,9.448507425080194,37.176220191174664,28.521927260518083,43.14590381137716,45.73825655909592,19.194436340705685,3.907980883050355,11.333993143645316,0.8627228720437086,5.838006900785947,27.658972277749832,49.11202983071711,2.4403519476805857,33.50716304147411,14.705816329418669,25.878767717574874,34.165419623914175,7.948733382939705,49.51888571497774,21.88051201636817,47.7187012292904,43.041563320127594,21.088562727185682,48.233091200239016,43.22580460465829,29.143761108053233,40.24510625204766,1.2702580871391533,29.59894268496735,40.78728033256821,17.57257110543459,49.9932054057812,49.38890818834287,14.06190356831698,13.618715813435934,42.35883440467787,8.877533655199821,39.899900521465895,14.362644836906451,23.41975082440969,43.056938936408194,30.654212647561984,33.974177849951694,35.91690059495003,16.870397167342794,23.85721993442793,3.7837054312326535,21.82611093449295,18.630619248579112,38.853728377161595,21.07856922031749,11.572729066084102,38.88484544302752,49.12099545897837,3.851740094571088,26.153892581137672,48.16207416264497,25.520248597130173,27.950882424774058,26.245912554439844,40.01632579183411,43.46825248780379,11.210595234936955,21.524600942755995,41.5708308234431,30.074191619123514,5.0979527773777065,2.889275100171629,12.37155619044863,5.656207302941107,8.161175063377385,30.056573753857073,3.77448781776108,47.7336043126845]},{\"name\":\"Scatter\",\"type\":\"scatter\",\"mode\":\"markers\",\"marker\":{\"symbol\":\"square-open\",\"color\":\"red\"},\"x\":[23.08363506440474,37.202114247680015,36.01357751340306,12.563798704493806,21.387075865310123,4.228289701101485,10.165458088654166,45.768319181071156,43.30321163345399,24.651716384679993,23.430760816531986,9.690879210181102,19.163464998750392,38.35406492155112,49.594971627921225,31.275598470623244,27.335034418255965,38.738951739517475,7.701871938855382,24.933009831095156,26.886676593609053,23.923044385404584,8.239101592207371,23.96562212874645,28.5996854654928,37.86882499618952,43.80677991895398,9.29979093089392,37.26626566554738,42.42120315622554,38.58342937521865,33.05348403754846,31.664760515093803,48.17311444305973,27.007001179582694,0.3386900396066539,39.86097626376283,39.360581193875014,21.00479440931774,33.87886399556198,16.557086400058342,5.575652301450851,46.83459342236006,2.5159081513592643,36.094390456878486,40.985980242224386,37.14035843396977,46.487884694235355,29.413443175461897,39.96272007888851,1.1793010239070811,29.47773946051126,15.784861273844141,6.543812010475181,16.343231807187586,39.864995631105685,10.446349847397535,3.9975987489188514,37.07553990801819,1.3564975397766743,27.416290798907827,49.90212562221157,3.0762067143241314,36.22894141013982,42.70147052369551,11.618352488706313,47.290770566634485,2.7850446423209774,36.876309590574806,26.81090805768531,5.595157215985242,2.306878771515719,47.58321438580555,13.757899559908232,14.316825224989332,19.784007189690218,31.888436132477015,46.59169189645259,48.77368414449407,27.00070911455536,15.62508965644569,1.325436770574534,5.865751607270492,36.18574132218352,41.864759447553936,29.545561478159126,16.420551007106397,47.35968154285587,23.481359257899136,37.98827967173697,38.471735945407644,32.75909245797706,5.405718740590587,43.86859588641252,30.941482572414465,47.27333356785907,0.6165840400662037,37.79317710332649,38.30066656974241,44.69903397176546],\"y\":[30.173544434668266,18.363819384441456,30.696887571828885,15.798838283480388,21.669600900623674,15.166171556308994,40.76890482200902,45.64522707658336,2.365914722535145,39.73873309773852,17.907064154060258,14.536797953417885,12.968496716953648,47.3300561425683,33.072818296389144,38.89357994152168,15.516391625923326,5.77746839753503,12.456452877251166,15.969577783207562,24.17315633210372,1.678501502071883,6.230646501830517,48.964863402691606,0.8482148982064452,18.17664732870433,9.448507425080194,37.176220191174664,28.521927260518083,43.14590381137716,45.73825655909592,19.194436340705685,3.907980883050355,11.333993143645316,0.8627228720437086,5.838006900785947,27.658972277749832,49.11202983071711,2.4403519476805857,33.50716304147411,14.705816329418669,25.878767717574874,34.165419623914175,7.948733382939705,49.51888571497774,21.88051201636817,47.7187012292904,43.041563320127594,21.088562727185682,48.233091200239016,43.22580460465829,29.143761108053233,40.24510625204766,1.2702580871391533,29.59894268496735,40.78728033256821,17.57257110543459,49.9932054057812,49.38890818834287,14.06190356831698,13.618715813435934,42.35883440467787,8.877533655199821,39.899900521465895,14.362644836906451,23.41975082440969,43.056938936408194,30.654212647561984,33.974177849951694,35.91690059495003,16.870397167342794,23.85721993442793,3.7837054312326535,21.82611093449295,18.630619248579112,38.853728377161595,21.07856922031749,11.572729066084102,38.88484544302752,49.12099545897837,3.851740094571088,26.153892581137672,48.16207416264497,25.520248597130173,27.950882424774058,26.245912554439844,40.01632579183411,43.46825248780379,11.210595234936955,21.524600942755995,41.5708308234431,30.074191619123514,5.0979527773777065,2.889275100171629,12.37155619044863,5.656207302941107,8.161175063377385,30.056573753857073,3.77448781776108,47.7336043126845]}];\n",
       " var layout_0ybP3kuFp9 = {\"height\":550,\"width\":600,\"hovermode\":\"closest\",\"legend\":{\"orientation\":\"v\"},\"showlegend\":true};\n",
       " var config_0ybP3kuFp9 = {\"responsive\":true,\"scrollZoom\":true,\"displaylogo\":false};\n",
       " Plotly.newPlot(\"graph_0ybP3kuFp9\", traces_0ybP3kuFp9, layout_0ybP3kuFp9, config_0ybP3kuFp9);\n",
       "</script> \n"
      ]
     },
     "metadata": {},
     "output_type": "display_data"
    }
   ],
   "source": [
    "// additional traces can simply be composed with an existing chart and added on\n",
    "val series1 = XY(x, y) asType BAR setName \"Bar\"\n",
    "\n",
    "// lets give the second series a red marker. Again we can 'compose' a marker using smaller components\n",
    "val marker = Marker() setSymbol SQUARE_OPEN setColor \"red\"\n",
    "\n",
    "val series2 = XY(x, y) asType SCATTER setName \"Scatter\" drawStyle MARKERS setMarker marker\n",
    "\n",
    "// we not put brackets in the 'addSeries' function to ensure that addSeries picks up the right series'\n",
    "val chart = Chart() addSeries(series1, series2)\n",
    "\n",
    "chart.plotInline"
   ]
  },
  {
   "cell_type": "markdown",
   "metadata": {},
   "source": [
    "### Lets Change The Appearance of The Markers\n",
    "\n",
    "We can control the appearance of the markers by setting the width"
   ]
  },
  {
   "cell_type": "code",
   "execution_count": 11,
   "metadata": {},
   "outputs": [
    {
     "data": {
      "text/html": [
       "<div id=\"grid-container_1cvzOy49WM\" class=\"grid-container\" align=\"center\"> \n",
       "<div id=\"grid_1cvzOy49WM\" class=\"grid\" align=\"center\"> \n",
       "<div id=\"graph_OqEvYFXWtp\" class=\"graph\"></div> \n",
       "</div> \n",
       "</div> \n",
       "<script>\n",
       "var masonry = new Macy({\n",
       "    container: '#grid_1cvzOy49WM',\n",
       "    debug: true,\n",
       "    mobileFirst: true,\n",
       "    columns: 1,\n",
       "    margin: {\n",
       "        x: 0,\n",
       "        y: 0\n",
       "    }\n",
       "  });\n",
       "\n",
       " var traces_OqEvYFXWtp = [{\"name\":\"Bar\",\"type\":\"bar\",\"x\":[23.08363506440474,37.202114247680015,36.01357751340306,12.563798704493806,21.387075865310123,4.228289701101485,10.165458088654166,45.768319181071156,43.30321163345399,24.651716384679993,23.430760816531986,9.690879210181102,19.163464998750392,38.35406492155112,49.594971627921225,31.275598470623244,27.335034418255965,38.738951739517475,7.701871938855382,24.933009831095156,26.886676593609053,23.923044385404584,8.239101592207371,23.96562212874645,28.5996854654928,37.86882499618952,43.80677991895398,9.29979093089392,37.26626566554738,42.42120315622554,38.58342937521865,33.05348403754846,31.664760515093803,48.17311444305973,27.007001179582694,0.3386900396066539,39.86097626376283,39.360581193875014,21.00479440931774,33.87886399556198,16.557086400058342,5.575652301450851,46.83459342236006,2.5159081513592643,36.094390456878486,40.985980242224386,37.14035843396977,46.487884694235355,29.413443175461897,39.96272007888851,1.1793010239070811,29.47773946051126,15.784861273844141,6.543812010475181,16.343231807187586,39.864995631105685,10.446349847397535,3.9975987489188514,37.07553990801819,1.3564975397766743,27.416290798907827,49.90212562221157,3.0762067143241314,36.22894141013982,42.70147052369551,11.618352488706313,47.290770566634485,2.7850446423209774,36.876309590574806,26.81090805768531,5.595157215985242,2.306878771515719,47.58321438580555,13.757899559908232,14.316825224989332,19.784007189690218,31.888436132477015,46.59169189645259,48.77368414449407,27.00070911455536,15.62508965644569,1.325436770574534,5.865751607270492,36.18574132218352,41.864759447553936,29.545561478159126,16.420551007106397,47.35968154285587,23.481359257899136,37.98827967173697,38.471735945407644,32.75909245797706,5.405718740590587,43.86859588641252,30.941482572414465,47.27333356785907,0.6165840400662037,37.79317710332649,38.30066656974241,44.69903397176546],\"y\":[30.173544434668266,18.363819384441456,30.696887571828885,15.798838283480388,21.669600900623674,15.166171556308994,40.76890482200902,45.64522707658336,2.365914722535145,39.73873309773852,17.907064154060258,14.536797953417885,12.968496716953648,47.3300561425683,33.072818296389144,38.89357994152168,15.516391625923326,5.77746839753503,12.456452877251166,15.969577783207562,24.17315633210372,1.678501502071883,6.230646501830517,48.964863402691606,0.8482148982064452,18.17664732870433,9.448507425080194,37.176220191174664,28.521927260518083,43.14590381137716,45.73825655909592,19.194436340705685,3.907980883050355,11.333993143645316,0.8627228720437086,5.838006900785947,27.658972277749832,49.11202983071711,2.4403519476805857,33.50716304147411,14.705816329418669,25.878767717574874,34.165419623914175,7.948733382939705,49.51888571497774,21.88051201636817,47.7187012292904,43.041563320127594,21.088562727185682,48.233091200239016,43.22580460465829,29.143761108053233,40.24510625204766,1.2702580871391533,29.59894268496735,40.78728033256821,17.57257110543459,49.9932054057812,49.38890818834287,14.06190356831698,13.618715813435934,42.35883440467787,8.877533655199821,39.899900521465895,14.362644836906451,23.41975082440969,43.056938936408194,30.654212647561984,33.974177849951694,35.91690059495003,16.870397167342794,23.85721993442793,3.7837054312326535,21.82611093449295,18.630619248579112,38.853728377161595,21.07856922031749,11.572729066084102,38.88484544302752,49.12099545897837,3.851740094571088,26.153892581137672,48.16207416264497,25.520248597130173,27.950882424774058,26.245912554439844,40.01632579183411,43.46825248780379,11.210595234936955,21.524600942755995,41.5708308234431,30.074191619123514,5.0979527773777065,2.889275100171629,12.37155619044863,5.656207302941107,8.161175063377385,30.056573753857073,3.77448781776108,47.7336043126845]},{\"name\":\"Scatter\",\"type\":\"scatter\",\"mode\":\"markers\",\"marker\":{\"symbol\":\"circle\",\"color\":\"red\",\"line\":{\"width\":2,\"color\":\"black\"},\"size\":[10,10,10,10,10,10,10,10,10,10,10,10,10,10,10,10,10,10,10,10,10,10,10,10,10,10,10,10,10,10,10,10,10,10,10,10,10,10,10,10,10,10,10,10,10,10,10,10,10,10,10,10,10,10,10,10,10,10,10,10,10,10,10,10,10,10,10,10,10,10,10,10,10,10,10,10,10,10,10,10,10,10,10,10,10,10,10,10,10,10,10,10,10,10,10,10,10,10,10,10]},\"x\":[23.08363506440474,37.202114247680015,36.01357751340306,12.563798704493806,21.387075865310123,4.228289701101485,10.165458088654166,45.768319181071156,43.30321163345399,24.651716384679993,23.430760816531986,9.690879210181102,19.163464998750392,38.35406492155112,49.594971627921225,31.275598470623244,27.335034418255965,38.738951739517475,7.701871938855382,24.933009831095156,26.886676593609053,23.923044385404584,8.239101592207371,23.96562212874645,28.5996854654928,37.86882499618952,43.80677991895398,9.29979093089392,37.26626566554738,42.42120315622554,38.58342937521865,33.05348403754846,31.664760515093803,48.17311444305973,27.007001179582694,0.3386900396066539,39.86097626376283,39.360581193875014,21.00479440931774,33.87886399556198,16.557086400058342,5.575652301450851,46.83459342236006,2.5159081513592643,36.094390456878486,40.985980242224386,37.14035843396977,46.487884694235355,29.413443175461897,39.96272007888851,1.1793010239070811,29.47773946051126,15.784861273844141,6.543812010475181,16.343231807187586,39.864995631105685,10.446349847397535,3.9975987489188514,37.07553990801819,1.3564975397766743,27.416290798907827,49.90212562221157,3.0762067143241314,36.22894141013982,42.70147052369551,11.618352488706313,47.290770566634485,2.7850446423209774,36.876309590574806,26.81090805768531,5.595157215985242,2.306878771515719,47.58321438580555,13.757899559908232,14.316825224989332,19.784007189690218,31.888436132477015,46.59169189645259,48.77368414449407,27.00070911455536,15.62508965644569,1.325436770574534,5.865751607270492,36.18574132218352,41.864759447553936,29.545561478159126,16.420551007106397,47.35968154285587,23.481359257899136,37.98827967173697,38.471735945407644,32.75909245797706,5.405718740590587,43.86859588641252,30.941482572414465,47.27333356785907,0.6165840400662037,37.79317710332649,38.30066656974241,44.69903397176546],\"y\":[30.173544434668266,18.363819384441456,30.696887571828885,15.798838283480388,21.669600900623674,15.166171556308994,40.76890482200902,45.64522707658336,2.365914722535145,39.73873309773852,17.907064154060258,14.536797953417885,12.968496716953648,47.3300561425683,33.072818296389144,38.89357994152168,15.516391625923326,5.77746839753503,12.456452877251166,15.969577783207562,24.17315633210372,1.678501502071883,6.230646501830517,48.964863402691606,0.8482148982064452,18.17664732870433,9.448507425080194,37.176220191174664,28.521927260518083,43.14590381137716,45.73825655909592,19.194436340705685,3.907980883050355,11.333993143645316,0.8627228720437086,5.838006900785947,27.658972277749832,49.11202983071711,2.4403519476805857,33.50716304147411,14.705816329418669,25.878767717574874,34.165419623914175,7.948733382939705,49.51888571497774,21.88051201636817,47.7187012292904,43.041563320127594,21.088562727185682,48.233091200239016,43.22580460465829,29.143761108053233,40.24510625204766,1.2702580871391533,29.59894268496735,40.78728033256821,17.57257110543459,49.9932054057812,49.38890818834287,14.06190356831698,13.618715813435934,42.35883440467787,8.877533655199821,39.899900521465895,14.362644836906451,23.41975082440969,43.056938936408194,30.654212647561984,33.974177849951694,35.91690059495003,16.870397167342794,23.85721993442793,3.7837054312326535,21.82611093449295,18.630619248579112,38.853728377161595,21.07856922031749,11.572729066084102,38.88484544302752,49.12099545897837,3.851740094571088,26.153892581137672,48.16207416264497,25.520248597130173,27.950882424774058,26.245912554439844,40.01632579183411,43.46825248780379,11.210595234936955,21.524600942755995,41.5708308234431,30.074191619123514,5.0979527773777065,2.889275100171629,12.37155619044863,5.656207302941107,8.161175063377385,30.056573753857073,3.77448781776108,47.7336043126845]}];\n",
       " var layout_OqEvYFXWtp = {\"height\":550,\"width\":600,\"hovermode\":\"closest\",\"legend\":{\"orientation\":\"v\"},\"showlegend\":true};\n",
       " var config_OqEvYFXWtp = {\"responsive\":false,\"scrollZoom\":false,\"displaylogo\":false};\n",
       " Plotly.newPlot(\"graph_OqEvYFXWtp\", traces_OqEvYFXWtp, layout_OqEvYFXWtp, config_OqEvYFXWtp);\n",
       "</script> \n"
      ]
     },
     "metadata": {},
     "output_type": "display_data"
    }
   ],
   "source": [
    "// we can pass in the size of the markers\n",
    "val sizes = List.range(0, 100).map(x => 10)\n",
    "\n",
    "// additional traces can simply be composed with an existing chart and added on\n",
    "val series1 = XY(x, y) asType BAR setName \"Bar\"\n",
    "\n",
    "// lets give the second series a red marker. Again we can 'compose' a marker using smaller components\n",
    "val marker = (\n",
    "    Marker() \n",
    "    // sets the marker shape\n",
    "    setSymbol CIRCLE\n",
    "    // sets the fill to red\n",
    "    setColor \"red\" \n",
    "    // sets the outline to black, with width 2\n",
    "    setLine(width = 2, \"black\")\n",
    "    // set the size of the markers to 10 as per the list we created\n",
    "    setSize(sizes)\n",
    ") \n",
    "\n",
    "val series2 = XY(x, y) asType SCATTER setName \"Scatter\" drawStyle MARKERS setMarker marker\n",
    "\n",
    "// we not put brackets in the 'addSeries' function to ensure that addSeries picks up the right series'\n",
    "val chart = Chart() addSeries(series1, series2) setConfig(false, false)\n",
    "\n",
    "chart.plotInline"
   ]
  },
  {
   "cell_type": "markdown",
   "metadata": {},
   "source": [
    "### Adding Another Axes\n",
    "\n",
    "Sometimes we may wish to plot multiple series, but on two different Axes. We can do this as follows:"
   ]
  },
  {
   "cell_type": "code",
   "execution_count": 12,
   "metadata": {},
   "outputs": [
    {
     "data": {
      "text/html": [
       "<div id=\"grid-container_iGJ2HzQg2G\" class=\"grid-container\" align=\"center\"> \n",
       "<div id=\"grid_iGJ2HzQg2G\" class=\"grid\" align=\"center\"> \n",
       "<div id=\"graph_HPzkLMXHXA\" class=\"graph\"></div> \n",
       "</div> \n",
       "</div> \n",
       "<script>\n",
       "var masonry = new Macy({\n",
       "    container: '#grid_iGJ2HzQg2G',\n",
       "    debug: true,\n",
       "    mobileFirst: true,\n",
       "    columns: 1,\n",
       "    margin: {\n",
       "        x: 0,\n",
       "        y: 0\n",
       "    }\n",
       "  });\n",
       "\n",
       " var traces_HPzkLMXHXA = [{\"name\":\"aRBfaSvI3r\",\"type\":\"scatter\",\"mode\":\"markers\",\"x\":[23.08363506440474,37.202114247680015,36.01357751340306,12.563798704493806,21.387075865310123,4.228289701101485,10.165458088654166,45.768319181071156,43.30321163345399,24.651716384679993,23.430760816531986,9.690879210181102,19.163464998750392,38.35406492155112,49.594971627921225,31.275598470623244,27.335034418255965,38.738951739517475,7.701871938855382,24.933009831095156,26.886676593609053,23.923044385404584,8.239101592207371,23.96562212874645,28.5996854654928,37.86882499618952,43.80677991895398,9.29979093089392,37.26626566554738,42.42120315622554,38.58342937521865,33.05348403754846,31.664760515093803,48.17311444305973,27.007001179582694,0.3386900396066539,39.86097626376283,39.360581193875014,21.00479440931774,33.87886399556198,16.557086400058342,5.575652301450851,46.83459342236006,2.5159081513592643,36.094390456878486,40.985980242224386,37.14035843396977,46.487884694235355,29.413443175461897,39.96272007888851,1.1793010239070811,29.47773946051126,15.784861273844141,6.543812010475181,16.343231807187586,39.864995631105685,10.446349847397535,3.9975987489188514,37.07553990801819,1.3564975397766743,27.416290798907827,49.90212562221157,3.0762067143241314,36.22894141013982,42.70147052369551,11.618352488706313,47.290770566634485,2.7850446423209774,36.876309590574806,26.81090805768531,5.595157215985242,2.306878771515719,47.58321438580555,13.757899559908232,14.316825224989332,19.784007189690218,31.888436132477015,46.59169189645259,48.77368414449407,27.00070911455536,15.62508965644569,1.325436770574534,5.865751607270492,36.18574132218352,41.864759447553936,29.545561478159126,16.420551007106397,47.35968154285587,23.481359257899136,37.98827967173697,38.471735945407644,32.75909245797706,5.405718740590587,43.86859588641252,30.941482572414465,47.27333356785907,0.6165840400662037,37.79317710332649,38.30066656974241,44.69903397176546],\"y\":[30.173544434668266,18.363819384441456,30.696887571828885,15.798838283480388,21.669600900623674,15.166171556308994,40.76890482200902,45.64522707658336,2.365914722535145,39.73873309773852,17.907064154060258,14.536797953417885,12.968496716953648,47.3300561425683,33.072818296389144,38.89357994152168,15.516391625923326,5.77746839753503,12.456452877251166,15.969577783207562,24.17315633210372,1.678501502071883,6.230646501830517,48.964863402691606,0.8482148982064452,18.17664732870433,9.448507425080194,37.176220191174664,28.521927260518083,43.14590381137716,45.73825655909592,19.194436340705685,3.907980883050355,11.333993143645316,0.8627228720437086,5.838006900785947,27.658972277749832,49.11202983071711,2.4403519476805857,33.50716304147411,14.705816329418669,25.878767717574874,34.165419623914175,7.948733382939705,49.51888571497774,21.88051201636817,47.7187012292904,43.041563320127594,21.088562727185682,48.233091200239016,43.22580460465829,29.143761108053233,40.24510625204766,1.2702580871391533,29.59894268496735,40.78728033256821,17.57257110543459,49.9932054057812,49.38890818834287,14.06190356831698,13.618715813435934,42.35883440467787,8.877533655199821,39.899900521465895,14.362644836906451,23.41975082440969,43.056938936408194,30.654212647561984,33.974177849951694,35.91690059495003,16.870397167342794,23.85721993442793,3.7837054312326535,21.82611093449295,18.630619248579112,38.853728377161595,21.07856922031749,11.572729066084102,38.88484544302752,49.12099545897837,3.851740094571088,26.153892581137672,48.16207416264497,25.520248597130173,27.950882424774058,26.245912554439844,40.01632579183411,43.46825248780379,11.210595234936955,21.524600942755995,41.5708308234431,30.074191619123514,5.0979527773777065,2.889275100171629,12.37155619044863,5.656207302941107,8.161175063377385,30.056573753857073,3.77448781776108,47.7336043126845]},{\"name\":\"gICtJSn5K3\",\"type\":\"scatter\",\"mode\":\"markers\",\"yaxis\":\"y2\",\"x\":[23.08363506440474,37.202114247680015,36.01357751340306,12.563798704493806,21.387075865310123,4.228289701101485,10.165458088654166,45.768319181071156,43.30321163345399,24.651716384679993,23.430760816531986,9.690879210181102,19.163464998750392,38.35406492155112,49.594971627921225,31.275598470623244,27.335034418255965,38.738951739517475,7.701871938855382,24.933009831095156,26.886676593609053,23.923044385404584,8.239101592207371,23.96562212874645,28.5996854654928,37.86882499618952,43.80677991895398,9.29979093089392,37.26626566554738,42.42120315622554,38.58342937521865,33.05348403754846,31.664760515093803,48.17311444305973,27.007001179582694,0.3386900396066539,39.86097626376283,39.360581193875014,21.00479440931774,33.87886399556198,16.557086400058342,5.575652301450851,46.83459342236006,2.5159081513592643,36.094390456878486,40.985980242224386,37.14035843396977,46.487884694235355,29.413443175461897,39.96272007888851,1.1793010239070811,29.47773946051126,15.784861273844141,6.543812010475181,16.343231807187586,39.864995631105685,10.446349847397535,3.9975987489188514,37.07553990801819,1.3564975397766743,27.416290798907827,49.90212562221157,3.0762067143241314,36.22894141013982,42.70147052369551,11.618352488706313,47.290770566634485,2.7850446423209774,36.876309590574806,26.81090805768531,5.595157215985242,2.306878771515719,47.58321438580555,13.757899559908232,14.316825224989332,19.784007189690218,31.888436132477015,46.59169189645259,48.77368414449407,27.00070911455536,15.62508965644569,1.325436770574534,5.865751607270492,36.18574132218352,41.864759447553936,29.545561478159126,16.420551007106397,47.35968154285587,23.481359257899136,37.98827967173697,38.471735945407644,32.75909245797706,5.405718740590587,43.86859588641252,30.941482572414465,47.27333356785907,0.6165840400662037,37.79317710332649,38.30066656974241,44.69903397176546],\"y\":[27.143567525097477,47.078089956673374,35.319622503139286,24.584882770415284,31.00960835269379,8.736238148446956,11.585618973543909,9.76838163338709,20.327335714767635,31.485644794621127,2.872584898734715,48.62145365478992,19.460956287435096,33.63275218456875,45.72648236852134,2.6857637977962256,41.84986501266066,0.784219334510089,34.79716802764209,48.25040200778369,29.285004722827274,4.2450851011412825,25.813077912486744,0.7611693007871845,24.5408142194525,12.010545943253604,0.5590918273138512,27.713542409744598,2.9807149039495275,14.27061736660874,8.660139522033,48.82842290209037,12.826393389848429,37.93480305505054,47.701602991068754,3.80397702903823,5.665902412383417,47.584306002391784,22.7586048794478,44.743452796353345,28.472846399499367,23.472218285082143,38.759779242366,32.47804586607753,45.918691197026256,20.717481712020607,24.277136501115752,33.43550752541849,17.082521023560826,47.67633593912228,13.312157136212498,26.449325068998657,13.79730984859192,5.625346768269063,22.43925163576197,36.95996051411441,38.81904311560181,6.353000828177069,4.27125441221513,19.428753961400684,30.76480342405132,29.032230875944766,34.627624659600656,7.466765826775701,29.3381921281062,42.834152951843876,0.014546189125452802,45.174935100986055,18.74520972661339,7.143664649428555,44.06713029206526,2.4986214773892454,19.401023993067362,16.950452549480367,6.457457457221194,12.018679441351754,8.037764779331097,37.01434319630833,45.43817453537732,44.532913948865236,14.145807684008894,14.741836415866944,25.669931530900975,16.025859169690744,16.315714337610554,28.361028642858855,26.271893210030616,39.18149392133795,45.49533675162266,13.945043234375564,30.138146231062358,48.46262650907935,43.436268239030476,22.109467445473836,44.478774302673315,38.9623505320007,23.676181036769854,32.797182374767466,24.272933361820336,15.727064410871527]}];\n",
       " var layout_HPzkLMXHXA = {\"height\":550,\"width\":600,\"hovermode\":\"closest\",\"legend\":{\"orientation\":\"v\"},\"title\":{\"text\":\"Multiple Axes\"},\"showlegend\":true,\"xaxis\":{\"title\":{\"text\":\"X Axis\"},\"showgrid\":true,\"zeroline\":false,\"showline\":false},\"yaxis\":{\"title\":{\"text\":\"First Y Axis\"},\"showgrid\":true,\"zeroline\":false,\"showline\":false},\"yaxis2\":{\"title\":{\"text\":\"Second y axis\"},\"showgrid\":true,\"zeroline\":false,\"showline\":false,\"side\":\"right\",\"overlaying\":\"y\"}};\n",
       " var config_HPzkLMXHXA = {\"responsive\":false,\"scrollZoom\":false,\"displaylogo\":false};\n",
       " Plotly.newPlot(\"graph_HPzkLMXHXA\", traces_HPzkLMXHXA, layout_HPzkLMXHXA, config_HPzkLMXHXA);\n",
       "</script> \n"
      ]
     },
     "metadata": {},
     "output_type": "display_data"
    }
   ],
   "source": [
    "val series1 = XY(x, y) asType SCATTER drawStyle MARKERS\n",
    "\n",
    "// The following maps the series onto the second Y axis.\n",
    "val series2 = (\n",
    "    XY(x, z) \n",
    "    asType SCATTER \n",
    "    drawStyle MARKERS \n",
    "    setAxis YAxis(2)\n",
    ")\n",
    "      \n",
    "val chart = (\n",
    "    Chart() \n",
    "    setTitle \"Multiple Axes\"\n",
    "    // the following makes the chart unresponsive\n",
    "    setConfig(false, false) \n",
    "    addSeries(series1, series2) \n",
    "    // the following tells the chart how t render the second Y Axis\n",
    "    addAxes YAxis(position = 2, title = \"Second y axis\", overlaying = YAxis(), side = RIGHT)\n",
    "    addAxes YAxis(1, \"First Y Axis\")\n",
    "    addAxes XAxis(title = \"X Axis\")\n",
    ") \n",
    "\n",
    "// this is just for illustration purposes, but we can also do the following\n",
    "val canvas = Canvas() setChart(0, 0, chart)\n",
    "\n",
    "canvas.plotInline"
   ]
  },
  {
   "cell_type": "markdown",
   "metadata": {},
   "source": [
    "### Customizing the Axes\n",
    "\n",
    "As can be seen from some of the examples above, the axes were not set. While for quick data exploration the above is acceptable, for presentation purposes we would want named axes.\n",
    "\n",
    "We can do this as follows:"
   ]
  },
  {
   "cell_type": "code",
   "execution_count": 13,
   "metadata": {},
   "outputs": [
    {
     "data": {
      "text/html": [
       "<div id=\"grid-container_OWlXya1H9v\" class=\"grid-container\" align=\"center\"> \n",
       "<div id=\"grid_OWlXya1H9v\" class=\"grid\" align=\"center\"> \n",
       "<div id=\"graph_v3zONqlWas\" class=\"graph\"></div> \n",
       "</div> \n",
       "</div> \n",
       "<script>\n",
       "var masonry = new Macy({\n",
       "    container: '#grid_OWlXya1H9v',\n",
       "    debug: true,\n",
       "    mobileFirst: true,\n",
       "    columns: 1,\n",
       "    margin: {\n",
       "        x: 0,\n",
       "        y: 0\n",
       "    }\n",
       "  });\n",
       "\n",
       " var traces_v3zONqlWas = [{\"name\":\"aRBfaSvI3r\",\"type\":\"scatter\",\"mode\":\"markers\",\"x\":[23.08363506440474,37.202114247680015,36.01357751340306,12.563798704493806,21.387075865310123,4.228289701101485,10.165458088654166,45.768319181071156,43.30321163345399,24.651716384679993,23.430760816531986,9.690879210181102,19.163464998750392,38.35406492155112,49.594971627921225,31.275598470623244,27.335034418255965,38.738951739517475,7.701871938855382,24.933009831095156,26.886676593609053,23.923044385404584,8.239101592207371,23.96562212874645,28.5996854654928,37.86882499618952,43.80677991895398,9.29979093089392,37.26626566554738,42.42120315622554,38.58342937521865,33.05348403754846,31.664760515093803,48.17311444305973,27.007001179582694,0.3386900396066539,39.86097626376283,39.360581193875014,21.00479440931774,33.87886399556198,16.557086400058342,5.575652301450851,46.83459342236006,2.5159081513592643,36.094390456878486,40.985980242224386,37.14035843396977,46.487884694235355,29.413443175461897,39.96272007888851,1.1793010239070811,29.47773946051126,15.784861273844141,6.543812010475181,16.343231807187586,39.864995631105685,10.446349847397535,3.9975987489188514,37.07553990801819,1.3564975397766743,27.416290798907827,49.90212562221157,3.0762067143241314,36.22894141013982,42.70147052369551,11.618352488706313,47.290770566634485,2.7850446423209774,36.876309590574806,26.81090805768531,5.595157215985242,2.306878771515719,47.58321438580555,13.757899559908232,14.316825224989332,19.784007189690218,31.888436132477015,46.59169189645259,48.77368414449407,27.00070911455536,15.62508965644569,1.325436770574534,5.865751607270492,36.18574132218352,41.864759447553936,29.545561478159126,16.420551007106397,47.35968154285587,23.481359257899136,37.98827967173697,38.471735945407644,32.75909245797706,5.405718740590587,43.86859588641252,30.941482572414465,47.27333356785907,0.6165840400662037,37.79317710332649,38.30066656974241,44.69903397176546],\"y\":[30.173544434668266,18.363819384441456,30.696887571828885,15.798838283480388,21.669600900623674,15.166171556308994,40.76890482200902,45.64522707658336,2.365914722535145,39.73873309773852,17.907064154060258,14.536797953417885,12.968496716953648,47.3300561425683,33.072818296389144,38.89357994152168,15.516391625923326,5.77746839753503,12.456452877251166,15.969577783207562,24.17315633210372,1.678501502071883,6.230646501830517,48.964863402691606,0.8482148982064452,18.17664732870433,9.448507425080194,37.176220191174664,28.521927260518083,43.14590381137716,45.73825655909592,19.194436340705685,3.907980883050355,11.333993143645316,0.8627228720437086,5.838006900785947,27.658972277749832,49.11202983071711,2.4403519476805857,33.50716304147411,14.705816329418669,25.878767717574874,34.165419623914175,7.948733382939705,49.51888571497774,21.88051201636817,47.7187012292904,43.041563320127594,21.088562727185682,48.233091200239016,43.22580460465829,29.143761108053233,40.24510625204766,1.2702580871391533,29.59894268496735,40.78728033256821,17.57257110543459,49.9932054057812,49.38890818834287,14.06190356831698,13.618715813435934,42.35883440467787,8.877533655199821,39.899900521465895,14.362644836906451,23.41975082440969,43.056938936408194,30.654212647561984,33.974177849951694,35.91690059495003,16.870397167342794,23.85721993442793,3.7837054312326535,21.82611093449295,18.630619248579112,38.853728377161595,21.07856922031749,11.572729066084102,38.88484544302752,49.12099545897837,3.851740094571088,26.153892581137672,48.16207416264497,25.520248597130173,27.950882424774058,26.245912554439844,40.01632579183411,43.46825248780379,11.210595234936955,21.524600942755995,41.5708308234431,30.074191619123514,5.0979527773777065,2.889275100171629,12.37155619044863,5.656207302941107,8.161175063377385,30.056573753857073,3.77448781776108,47.7336043126845]}];\n",
       " var layout_v3zONqlWas = {\"height\":550,\"width\":600,\"hovermode\":\"closest\",\"legend\":{\"orientation\":\"v\"},\"title\":{\"text\":\"Chart with Axes\"},\"showlegend\":true,\"xaxis\":{\"title\":{\"text\":\"x variable\"},\"showgrid\":true,\"zeroline\":false,\"showline\":false},\"yaxis\":{\"title\":{\"text\":\"y variable\"},\"showgrid\":true,\"zeroline\":false,\"showline\":false}};\n",
       " var config_v3zONqlWas = {\"responsive\":true,\"scrollZoom\":true,\"displaylogo\":false};\n",
       " Plotly.newPlot(\"graph_v3zONqlWas\", traces_v3zONqlWas, layout_v3zONqlWas, config_v3zONqlWas);\n",
       "</script> \n"
      ]
     },
     "metadata": {},
     "output_type": "display_data"
    }
   ],
   "source": [
    "// We construct the axes and set their title\n",
    "val xaxis = XAxis(title = \"x variable\")\n",
    "val yaxis = YAxis(title = \"y variable\")\n",
    "\n",
    "// another way to do composition is to just add a bracket around the composition\n",
    "val chart = (\n",
    "    Chart()\n",
    "    setTitle \"Chart with Axes\"\n",
    "    addSeries(series1)\n",
    "    addAxes(xaxis, yaxis)\n",
    ")\n",
    "\n",
    "chart.plotInline"
   ]
  },
  {
   "cell_type": "markdown",
   "metadata": {},
   "source": [
    "### Display options - MultiCharts\n",
    "\n",
    "`MultiCharts` are a way to plot multiple axes on the same chart. This is seperate to Picta's grid system, which create a grid of subplot `Chart`'s. The next series of examples will make this clearer."
   ]
  },
  {
   "cell_type": "code",
   "execution_count": 14,
   "metadata": {},
   "outputs": [
    {
     "data": {
      "text/html": [
       "<div id=\"grid-container_UEzCU98GIy\" class=\"grid-container\" align=\"center\"> \n",
       "<div id=\"grid_UEzCU98GIy\" class=\"grid\" align=\"center\"> \n",
       "<div id=\"graph_CNGIc9W0FG\" class=\"graph\"></div> \n",
       "</div> \n",
       "</div> \n",
       "<script>\n",
       "var masonry = new Macy({\n",
       "    container: '#grid_UEzCU98GIy',\n",
       "    debug: true,\n",
       "    mobileFirst: true,\n",
       "    columns: 1,\n",
       "    margin: {\n",
       "        x: 0,\n",
       "        y: 0\n",
       "    }\n",
       "  });\n",
       "\n",
       " var traces_CNGIc9W0FG = [{\"name\":\"ErJvU4rzHp\",\"type\":\"scatter\",\"mode\":\"markers\",\"x\":[1,2,3],\"y\":[2,4,5]},{\"name\":\"wwd8uJoFKA\",\"type\":\"scatter\",\"mode\":\"markers\",\"xaxis\":\"x2\",\"yaxis\":\"y2\",\"x\":[23.08363506440474,37.202114247680015,36.01357751340306,12.563798704493806,21.387075865310123,4.228289701101485,10.165458088654166,45.768319181071156,43.30321163345399,24.651716384679993,23.430760816531986,9.690879210181102,19.163464998750392,38.35406492155112,49.594971627921225,31.275598470623244,27.335034418255965,38.738951739517475,7.701871938855382,24.933009831095156,26.886676593609053,23.923044385404584,8.239101592207371,23.96562212874645,28.5996854654928,37.86882499618952,43.80677991895398,9.29979093089392,37.26626566554738,42.42120315622554,38.58342937521865,33.05348403754846,31.664760515093803,48.17311444305973,27.007001179582694,0.3386900396066539,39.86097626376283,39.360581193875014,21.00479440931774,33.87886399556198,16.557086400058342,5.575652301450851,46.83459342236006,2.5159081513592643,36.094390456878486,40.985980242224386,37.14035843396977,46.487884694235355,29.413443175461897,39.96272007888851,1.1793010239070811,29.47773946051126,15.784861273844141,6.543812010475181,16.343231807187586,39.864995631105685,10.446349847397535,3.9975987489188514,37.07553990801819,1.3564975397766743,27.416290798907827,49.90212562221157,3.0762067143241314,36.22894141013982,42.70147052369551,11.618352488706313,47.290770566634485,2.7850446423209774,36.876309590574806,26.81090805768531,5.595157215985242,2.306878771515719,47.58321438580555,13.757899559908232,14.316825224989332,19.784007189690218,31.888436132477015,46.59169189645259,48.77368414449407,27.00070911455536,15.62508965644569,1.325436770574534,5.865751607270492,36.18574132218352,41.864759447553936,29.545561478159126,16.420551007106397,47.35968154285587,23.481359257899136,37.98827967173697,38.471735945407644,32.75909245797706,5.405718740590587,43.86859588641252,30.941482572414465,47.27333356785907,0.6165840400662037,37.79317710332649,38.30066656974241,44.69903397176546],\"y\":[30.173544434668266,18.363819384441456,30.696887571828885,15.798838283480388,21.669600900623674,15.166171556308994,40.76890482200902,45.64522707658336,2.365914722535145,39.73873309773852,17.907064154060258,14.536797953417885,12.968496716953648,47.3300561425683,33.072818296389144,38.89357994152168,15.516391625923326,5.77746839753503,12.456452877251166,15.969577783207562,24.17315633210372,1.678501502071883,6.230646501830517,48.964863402691606,0.8482148982064452,18.17664732870433,9.448507425080194,37.176220191174664,28.521927260518083,43.14590381137716,45.73825655909592,19.194436340705685,3.907980883050355,11.333993143645316,0.8627228720437086,5.838006900785947,27.658972277749832,49.11202983071711,2.4403519476805857,33.50716304147411,14.705816329418669,25.878767717574874,34.165419623914175,7.948733382939705,49.51888571497774,21.88051201636817,47.7187012292904,43.041563320127594,21.088562727185682,48.233091200239016,43.22580460465829,29.143761108053233,40.24510625204766,1.2702580871391533,29.59894268496735,40.78728033256821,17.57257110543459,49.9932054057812,49.38890818834287,14.06190356831698,13.618715813435934,42.35883440467787,8.877533655199821,39.899900521465895,14.362644836906451,23.41975082440969,43.056938936408194,30.654212647561984,33.974177849951694,35.91690059495003,16.870397167342794,23.85721993442793,3.7837054312326535,21.82611093449295,18.630619248579112,38.853728377161595,21.07856922031749,11.572729066084102,38.88484544302752,49.12099545897837,3.851740094571088,26.153892581137672,48.16207416264497,25.520248597130173,27.950882424774058,26.245912554439844,40.01632579183411,43.46825248780379,11.210595234936955,21.524600942755995,41.5708308234431,30.074191619123514,5.0979527773777065,2.889275100171629,12.37155619044863,5.656207302941107,8.161175063377385,30.056573753857073,3.77448781776108,47.7336043126845]}];\n",
       " var layout_CNGIc9W0FG = {\"height\":550,\"width\":600,\"hovermode\":\"closest\",\"legend\":{\"orientation\":\"v\"},\"title\":{\"text\":\"Chart.Axis.Composition\"},\"showlegend\":true,\"grid\":{\"rows\":1,\"columns\":2,\"pattern\":\"independent\"},\"xaxis\":{\"title\":{\"text\":\"x1\"},\"showgrid\":true,\"zeroline\":false,\"showline\":false},\"yaxis\":{\"showgrid\":true,\"zeroline\":false,\"showline\":false},\"xaxis2\":{\"title\":{\"text\":\"x2\"},\"showgrid\":true,\"zeroline\":false,\"showline\":false},\"yaxis2\":{\"showgrid\":true,\"zeroline\":false,\"showline\":false}};\n",
       " var config_CNGIc9W0FG = {\"responsive\":false,\"scrollZoom\":true,\"displaylogo\":false};\n",
       " Plotly.newPlot(\"graph_CNGIc9W0FG\", traces_CNGIc9W0FG, layout_CNGIc9W0FG, config_CNGIc9W0FG);\n",
       "</script> \n"
      ]
     },
     "metadata": {},
     "output_type": "display_data"
    }
   ],
   "source": [
    "// create the axes\n",
    "val xaxis1 = XAxis() setTitle \"x1\"\n",
    "val yaxis1 = YAxis() // this is not strictly necessary, but if it is not added there will be a zeroline at y = 0\n",
    "\n",
    "val xaxis2 = XAxis(2) setTitle \"x2\"\n",
    "val yaxis2 = YAxis(2) // this is not strictly necessary, but if it is not added there will be a zeroline at y = 0\n",
    "\n",
    "val series1 = (\n",
    "    XY(x = List(1, 2, 3), y = List(2, 4, 5))\n",
    "    asType SCATTER\n",
    "    drawStyle MARKERS\n",
    ")\n",
    "\n",
    "val series2 = (\n",
    "    XY(x = x, y = y) \n",
    "    asType SCATTER \n",
    "    drawStyle MARKERS \n",
    "    setAxes (xaxis2, yaxis2)\n",
    ")\n",
    "\n",
    "val chart1 = Chart()\n",
    "            .addSeries(series1, series2)\n",
    "            .setTitle(\"Chart.Axis.Composition\")\n",
    "            .addAxes(xaxis1, yaxis1, xaxis2, yaxis2)\n",
    "            .setConfig(responsive=false)\n",
    "            // This tells Picta that we want to actually subdivide this chart into multiple plots\n",
    "            .asMultiChart(1, 2)\n",
    "\n",
    "chart1.plotInline"
   ]
  },
  {
   "cell_type": "markdown",
   "metadata": {},
   "source": [
    "### Picta's Subplot System\n",
    "\n",
    "While the above is useful, sometimes it is more useful to plot independent charts in a subplot grid. This is where we can use the Picta subplot system.\n",
    "\n",
    "In the subplots below, each subplot is an individual `Chart`. This means we can actually embed the above `MultiChart` inside another subplot. This way we can create nested subplots to showcase any data we need to.\n",
    "\n",
    "Used creatively, this subplot system can be very useful for data exploration."
   ]
  },
  {
   "cell_type": "code",
   "execution_count": 15,
   "metadata": {
    "scrolled": false
   },
   "outputs": [
    {
     "data": {
      "text/html": [
       "<div id=\"grid-container_mG01tjfuIu\" class=\"grid-container\" align=\"center\"> \n",
       "<div id=\"grid_mG01tjfuIu\" class=\"grid\" align=\"center\"> \n",
       "<div id=\"graph_4RSpmDG5gd\" class=\"graph\"></div> \n",
       "<div id=\"graph_C1r8mjEBpP\" class=\"graph\"></div> \n",
       "<div id=\"graph_xhYXdY7agd\" class=\"graph\"></div> \n",
       "<div id=\"graph_lN8ajkZdzK\" class=\"graph\"></div> \n",
       "</div> \n",
       "</div> \n",
       "\n",
       "<div align=\"center\">\n",
       "<button id = \"saveAsPNG_mG01tjfuIu\" class=\"picta-button\">Download Canvas as PNG</button>\n",
       "</div>\n",
       "<script>\n",
       "var masonry = new Macy({\n",
       "    container: '#grid_mG01tjfuIu',\n",
       "    debug: true,\n",
       "    mobileFirst: true,\n",
       "    columns: 2,\n",
       "    margin: {\n",
       "        x: 0,\n",
       "        y: 0\n",
       "    }\n",
       "  });\n",
       "\n",
       " var traces_4RSpmDG5gd = [{\"name\":\"a\",\"type\":\"scatter\",\"mode\":\"markers\",\"x\":[23.08363506440474,37.202114247680015,36.01357751340306,12.563798704493806,21.387075865310123,4.228289701101485,10.165458088654166,45.768319181071156,43.30321163345399,24.651716384679993,23.430760816531986,9.690879210181102,19.163464998750392,38.35406492155112,49.594971627921225,31.275598470623244,27.335034418255965,38.738951739517475,7.701871938855382,24.933009831095156,26.886676593609053,23.923044385404584,8.239101592207371,23.96562212874645,28.5996854654928,37.86882499618952,43.80677991895398,9.29979093089392,37.26626566554738,42.42120315622554,38.58342937521865,33.05348403754846,31.664760515093803,48.17311444305973,27.007001179582694,0.3386900396066539,39.86097626376283,39.360581193875014,21.00479440931774,33.87886399556198,16.557086400058342,5.575652301450851,46.83459342236006,2.5159081513592643,36.094390456878486,40.985980242224386,37.14035843396977,46.487884694235355,29.413443175461897,39.96272007888851,1.1793010239070811,29.47773946051126,15.784861273844141,6.543812010475181,16.343231807187586,39.864995631105685,10.446349847397535,3.9975987489188514,37.07553990801819,1.3564975397766743,27.416290798907827,49.90212562221157,3.0762067143241314,36.22894141013982,42.70147052369551,11.618352488706313,47.290770566634485,2.7850446423209774,36.876309590574806,26.81090805768531,5.595157215985242,2.306878771515719,47.58321438580555,13.757899559908232,14.316825224989332,19.784007189690218,31.888436132477015,46.59169189645259,48.77368414449407,27.00070911455536,15.62508965644569,1.325436770574534,5.865751607270492,36.18574132218352,41.864759447553936,29.545561478159126,16.420551007106397,47.35968154285587,23.481359257899136,37.98827967173697,38.471735945407644,32.75909245797706,5.405718740590587,43.86859588641252,30.941482572414465,47.27333356785907,0.6165840400662037,37.79317710332649,38.30066656974241,44.69903397176546],\"y\":[30.173544434668266,18.363819384441456,30.696887571828885,15.798838283480388,21.669600900623674,15.166171556308994,40.76890482200902,45.64522707658336,2.365914722535145,39.73873309773852,17.907064154060258,14.536797953417885,12.968496716953648,47.3300561425683,33.072818296389144,38.89357994152168,15.516391625923326,5.77746839753503,12.456452877251166,15.969577783207562,24.17315633210372,1.678501502071883,6.230646501830517,48.964863402691606,0.8482148982064452,18.17664732870433,9.448507425080194,37.176220191174664,28.521927260518083,43.14590381137716,45.73825655909592,19.194436340705685,3.907980883050355,11.333993143645316,0.8627228720437086,5.838006900785947,27.658972277749832,49.11202983071711,2.4403519476805857,33.50716304147411,14.705816329418669,25.878767717574874,34.165419623914175,7.948733382939705,49.51888571497774,21.88051201636817,47.7187012292904,43.041563320127594,21.088562727185682,48.233091200239016,43.22580460465829,29.143761108053233,40.24510625204766,1.2702580871391533,29.59894268496735,40.78728033256821,17.57257110543459,49.9932054057812,49.38890818834287,14.06190356831698,13.618715813435934,42.35883440467787,8.877533655199821,39.899900521465895,14.362644836906451,23.41975082440969,43.056938936408194,30.654212647561984,33.974177849951694,35.91690059495003,16.870397167342794,23.85721993442793,3.7837054312326535,21.82611093449295,18.630619248579112,38.853728377161595,21.07856922031749,11.572729066084102,38.88484544302752,49.12099545897837,3.851740094571088,26.153892581137672,48.16207416264497,25.520248597130173,27.950882424774058,26.245912554439844,40.01632579183411,43.46825248780379,11.210595234936955,21.524600942755995,41.5708308234431,30.074191619123514,5.0979527773777065,2.889275100171629,12.37155619044863,5.656207302941107,8.161175063377385,30.056573753857073,3.77448781776108,47.7336043126845]}];\n",
       " var layout_4RSpmDG5gd = {\"height\":350,\"width\":350,\"hovermode\":\"closest\",\"legend\":{\"orientation\":\"v\"},\"showlegend\":true,\"margin\":{\"l\":50,\"r\":30,\"t\":50,\"b\":50},\"xaxis\":{\"title\":{\"text\":\"x axis 1\"},\"showgrid\":true,\"zeroline\":false,\"showline\":false},\"yaxis\":{\"title\":{\"text\":\"y axis 1\"},\"showgrid\":true,\"zeroline\":false,\"showline\":false}};\n",
       " var config_4RSpmDG5gd = {\"responsive\":true,\"scrollZoom\":true,\"displaylogo\":false};\n",
       " Plotly.newPlot(\"graph_4RSpmDG5gd\", traces_4RSpmDG5gd, layout_4RSpmDG5gd, config_4RSpmDG5gd);\n",
       "\n",
       " var traces_C1r8mjEBpP = [{\"name\":\"b\",\"type\":\"scatter\",\"mode\":\"markers\",\"x\":[23.08363506440474,37.202114247680015,36.01357751340306,12.563798704493806,21.387075865310123,4.228289701101485,10.165458088654166,45.768319181071156,43.30321163345399,24.651716384679993,23.430760816531986,9.690879210181102,19.163464998750392,38.35406492155112,49.594971627921225,31.275598470623244,27.335034418255965,38.738951739517475,7.701871938855382,24.933009831095156,26.886676593609053,23.923044385404584,8.239101592207371,23.96562212874645,28.5996854654928,37.86882499618952,43.80677991895398,9.29979093089392,37.26626566554738,42.42120315622554,38.58342937521865,33.05348403754846,31.664760515093803,48.17311444305973,27.007001179582694,0.3386900396066539,39.86097626376283,39.360581193875014,21.00479440931774,33.87886399556198,16.557086400058342,5.575652301450851,46.83459342236006,2.5159081513592643,36.094390456878486,40.985980242224386,37.14035843396977,46.487884694235355,29.413443175461897,39.96272007888851,1.1793010239070811,29.47773946051126,15.784861273844141,6.543812010475181,16.343231807187586,39.864995631105685,10.446349847397535,3.9975987489188514,37.07553990801819,1.3564975397766743,27.416290798907827,49.90212562221157,3.0762067143241314,36.22894141013982,42.70147052369551,11.618352488706313,47.290770566634485,2.7850446423209774,36.876309590574806,26.81090805768531,5.595157215985242,2.306878771515719,47.58321438580555,13.757899559908232,14.316825224989332,19.784007189690218,31.888436132477015,46.59169189645259,48.77368414449407,27.00070911455536,15.62508965644569,1.325436770574534,5.865751607270492,36.18574132218352,41.864759447553936,29.545561478159126,16.420551007106397,47.35968154285587,23.481359257899136,37.98827967173697,38.471735945407644,32.75909245797706,5.405718740590587,43.86859588641252,30.941482572414465,47.27333356785907,0.6165840400662037,37.79317710332649,38.30066656974241,44.69903397176546],\"y\":[30.173544434668266,18.363819384441456,30.696887571828885,15.798838283480388,21.669600900623674,15.166171556308994,40.76890482200902,45.64522707658336,2.365914722535145,39.73873309773852,17.907064154060258,14.536797953417885,12.968496716953648,47.3300561425683,33.072818296389144,38.89357994152168,15.516391625923326,5.77746839753503,12.456452877251166,15.969577783207562,24.17315633210372,1.678501502071883,6.230646501830517,48.964863402691606,0.8482148982064452,18.17664732870433,9.448507425080194,37.176220191174664,28.521927260518083,43.14590381137716,45.73825655909592,19.194436340705685,3.907980883050355,11.333993143645316,0.8627228720437086,5.838006900785947,27.658972277749832,49.11202983071711,2.4403519476805857,33.50716304147411,14.705816329418669,25.878767717574874,34.165419623914175,7.948733382939705,49.51888571497774,21.88051201636817,47.7187012292904,43.041563320127594,21.088562727185682,48.233091200239016,43.22580460465829,29.143761108053233,40.24510625204766,1.2702580871391533,29.59894268496735,40.78728033256821,17.57257110543459,49.9932054057812,49.38890818834287,14.06190356831698,13.618715813435934,42.35883440467787,8.877533655199821,39.899900521465895,14.362644836906451,23.41975082440969,43.056938936408194,30.654212647561984,33.974177849951694,35.91690059495003,16.870397167342794,23.85721993442793,3.7837054312326535,21.82611093449295,18.630619248579112,38.853728377161595,21.07856922031749,11.572729066084102,38.88484544302752,49.12099545897837,3.851740094571088,26.153892581137672,48.16207416264497,25.520248597130173,27.950882424774058,26.245912554439844,40.01632579183411,43.46825248780379,11.210595234936955,21.524600942755995,41.5708308234431,30.074191619123514,5.0979527773777065,2.889275100171629,12.37155619044863,5.656207302941107,8.161175063377385,30.056573753857073,3.77448781776108,47.7336043126845]}];\n",
       " var layout_C1r8mjEBpP = {\"height\":350,\"width\":350,\"hovermode\":\"closest\",\"legend\":{\"orientation\":\"v\"},\"showlegend\":true,\"margin\":{\"l\":50,\"r\":50,\"t\":50,\"b\":50},\"xaxis\":{\"title\":{\"text\":\"x axis 2\"},\"showgrid\":true,\"zeroline\":false,\"showline\":false},\"yaxis\":{\"title\":{\"text\":\"y axis 2\"},\"showgrid\":true,\"zeroline\":false,\"showline\":false}};\n",
       " var config_C1r8mjEBpP = {\"responsive\":true,\"scrollZoom\":true,\"displaylogo\":false};\n",
       " Plotly.newPlot(\"graph_C1r8mjEBpP\", traces_C1r8mjEBpP, layout_C1r8mjEBpP, config_C1r8mjEBpP);\n",
       "\n",
       " var traces_xhYXdY7agd = [{\"name\":\"c\",\"type\":\"scatter\",\"mode\":\"markers\",\"x\":[23.08363506440474,37.202114247680015,36.01357751340306,12.563798704493806,21.387075865310123,4.228289701101485,10.165458088654166,45.768319181071156,43.30321163345399,24.651716384679993,23.430760816531986,9.690879210181102,19.163464998750392,38.35406492155112,49.594971627921225,31.275598470623244,27.335034418255965,38.738951739517475,7.701871938855382,24.933009831095156,26.886676593609053,23.923044385404584,8.239101592207371,23.96562212874645,28.5996854654928,37.86882499618952,43.80677991895398,9.29979093089392,37.26626566554738,42.42120315622554,38.58342937521865,33.05348403754846,31.664760515093803,48.17311444305973,27.007001179582694,0.3386900396066539,39.86097626376283,39.360581193875014,21.00479440931774,33.87886399556198,16.557086400058342,5.575652301450851,46.83459342236006,2.5159081513592643,36.094390456878486,40.985980242224386,37.14035843396977,46.487884694235355,29.413443175461897,39.96272007888851,1.1793010239070811,29.47773946051126,15.784861273844141,6.543812010475181,16.343231807187586,39.864995631105685,10.446349847397535,3.9975987489188514,37.07553990801819,1.3564975397766743,27.416290798907827,49.90212562221157,3.0762067143241314,36.22894141013982,42.70147052369551,11.618352488706313,47.290770566634485,2.7850446423209774,36.876309590574806,26.81090805768531,5.595157215985242,2.306878771515719,47.58321438580555,13.757899559908232,14.316825224989332,19.784007189690218,31.888436132477015,46.59169189645259,48.77368414449407,27.00070911455536,15.62508965644569,1.325436770574534,5.865751607270492,36.18574132218352,41.864759447553936,29.545561478159126,16.420551007106397,47.35968154285587,23.481359257899136,37.98827967173697,38.471735945407644,32.75909245797706,5.405718740590587,43.86859588641252,30.941482572414465,47.27333356785907,0.6165840400662037,37.79317710332649,38.30066656974241,44.69903397176546],\"y\":[30.173544434668266,18.363819384441456,30.696887571828885,15.798838283480388,21.669600900623674,15.166171556308994,40.76890482200902,45.64522707658336,2.365914722535145,39.73873309773852,17.907064154060258,14.536797953417885,12.968496716953648,47.3300561425683,33.072818296389144,38.89357994152168,15.516391625923326,5.77746839753503,12.456452877251166,15.969577783207562,24.17315633210372,1.678501502071883,6.230646501830517,48.964863402691606,0.8482148982064452,18.17664732870433,9.448507425080194,37.176220191174664,28.521927260518083,43.14590381137716,45.73825655909592,19.194436340705685,3.907980883050355,11.333993143645316,0.8627228720437086,5.838006900785947,27.658972277749832,49.11202983071711,2.4403519476805857,33.50716304147411,14.705816329418669,25.878767717574874,34.165419623914175,7.948733382939705,49.51888571497774,21.88051201636817,47.7187012292904,43.041563320127594,21.088562727185682,48.233091200239016,43.22580460465829,29.143761108053233,40.24510625204766,1.2702580871391533,29.59894268496735,40.78728033256821,17.57257110543459,49.9932054057812,49.38890818834287,14.06190356831698,13.618715813435934,42.35883440467787,8.877533655199821,39.899900521465895,14.362644836906451,23.41975082440969,43.056938936408194,30.654212647561984,33.974177849951694,35.91690059495003,16.870397167342794,23.85721993442793,3.7837054312326535,21.82611093449295,18.630619248579112,38.853728377161595,21.07856922031749,11.572729066084102,38.88484544302752,49.12099545897837,3.851740094571088,26.153892581137672,48.16207416264497,25.520248597130173,27.950882424774058,26.245912554439844,40.01632579183411,43.46825248780379,11.210595234936955,21.524600942755995,41.5708308234431,30.074191619123514,5.0979527773777065,2.889275100171629,12.37155619044863,5.656207302941107,8.161175063377385,30.056573753857073,3.77448781776108,47.7336043126845]}];\n",
       " var layout_xhYXdY7agd = {\"height\":350,\"width\":350,\"hovermode\":\"closest\",\"legend\":{\"orientation\":\"v\"},\"showlegend\":true,\"margin\":{\"l\":50,\"r\":30,\"t\":50,\"b\":50},\"xaxis\":{\"title\":{\"text\":\"x axis 3\"},\"showgrid\":true,\"zeroline\":false,\"showline\":false},\"yaxis\":{\"title\":{\"text\":\"y axis 3\"},\"showgrid\":true,\"zeroline\":false,\"showline\":false}};\n",
       " var config_xhYXdY7agd = {\"responsive\":true,\"scrollZoom\":true,\"displaylogo\":false};\n",
       " Plotly.newPlot(\"graph_xhYXdY7agd\", traces_xhYXdY7agd, layout_xhYXdY7agd, config_xhYXdY7agd);\n",
       "\n",
       " var traces_lN8ajkZdzK = [{\"name\":\"ErJvU4rzHp\",\"type\":\"scatter\",\"mode\":\"markers\",\"x\":[1,2,3],\"y\":[2,4,5]},{\"name\":\"wwd8uJoFKA\",\"type\":\"scatter\",\"mode\":\"markers\",\"xaxis\":\"x2\",\"yaxis\":\"y2\",\"x\":[23.08363506440474,37.202114247680015,36.01357751340306,12.563798704493806,21.387075865310123,4.228289701101485,10.165458088654166,45.768319181071156,43.30321163345399,24.651716384679993,23.430760816531986,9.690879210181102,19.163464998750392,38.35406492155112,49.594971627921225,31.275598470623244,27.335034418255965,38.738951739517475,7.701871938855382,24.933009831095156,26.886676593609053,23.923044385404584,8.239101592207371,23.96562212874645,28.5996854654928,37.86882499618952,43.80677991895398,9.29979093089392,37.26626566554738,42.42120315622554,38.58342937521865,33.05348403754846,31.664760515093803,48.17311444305973,27.007001179582694,0.3386900396066539,39.86097626376283,39.360581193875014,21.00479440931774,33.87886399556198,16.557086400058342,5.575652301450851,46.83459342236006,2.5159081513592643,36.094390456878486,40.985980242224386,37.14035843396977,46.487884694235355,29.413443175461897,39.96272007888851,1.1793010239070811,29.47773946051126,15.784861273844141,6.543812010475181,16.343231807187586,39.864995631105685,10.446349847397535,3.9975987489188514,37.07553990801819,1.3564975397766743,27.416290798907827,49.90212562221157,3.0762067143241314,36.22894141013982,42.70147052369551,11.618352488706313,47.290770566634485,2.7850446423209774,36.876309590574806,26.81090805768531,5.595157215985242,2.306878771515719,47.58321438580555,13.757899559908232,14.316825224989332,19.784007189690218,31.888436132477015,46.59169189645259,48.77368414449407,27.00070911455536,15.62508965644569,1.325436770574534,5.865751607270492,36.18574132218352,41.864759447553936,29.545561478159126,16.420551007106397,47.35968154285587,23.481359257899136,37.98827967173697,38.471735945407644,32.75909245797706,5.405718740590587,43.86859588641252,30.941482572414465,47.27333356785907,0.6165840400662037,37.79317710332649,38.30066656974241,44.69903397176546],\"y\":[30.173544434668266,18.363819384441456,30.696887571828885,15.798838283480388,21.669600900623674,15.166171556308994,40.76890482200902,45.64522707658336,2.365914722535145,39.73873309773852,17.907064154060258,14.536797953417885,12.968496716953648,47.3300561425683,33.072818296389144,38.89357994152168,15.516391625923326,5.77746839753503,12.456452877251166,15.969577783207562,24.17315633210372,1.678501502071883,6.230646501830517,48.964863402691606,0.8482148982064452,18.17664732870433,9.448507425080194,37.176220191174664,28.521927260518083,43.14590381137716,45.73825655909592,19.194436340705685,3.907980883050355,11.333993143645316,0.8627228720437086,5.838006900785947,27.658972277749832,49.11202983071711,2.4403519476805857,33.50716304147411,14.705816329418669,25.878767717574874,34.165419623914175,7.948733382939705,49.51888571497774,21.88051201636817,47.7187012292904,43.041563320127594,21.088562727185682,48.233091200239016,43.22580460465829,29.143761108053233,40.24510625204766,1.2702580871391533,29.59894268496735,40.78728033256821,17.57257110543459,49.9932054057812,49.38890818834287,14.06190356831698,13.618715813435934,42.35883440467787,8.877533655199821,39.899900521465895,14.362644836906451,23.41975082440969,43.056938936408194,30.654212647561984,33.974177849951694,35.91690059495003,16.870397167342794,23.85721993442793,3.7837054312326535,21.82611093449295,18.630619248579112,38.853728377161595,21.07856922031749,11.572729066084102,38.88484544302752,49.12099545897837,3.851740094571088,26.153892581137672,48.16207416264497,25.520248597130173,27.950882424774058,26.245912554439844,40.01632579183411,43.46825248780379,11.210595234936955,21.524600942755995,41.5708308234431,30.074191619123514,5.0979527773777065,2.889275100171629,12.37155619044863,5.656207302941107,8.161175063377385,30.056573753857073,3.77448781776108,47.7336043126845]}];\n",
       " var layout_lN8ajkZdzK = {\"height\":350,\"width\":350,\"hovermode\":\"closest\",\"legend\":{\"orientation\":\"v\"},\"title\":{\"text\":\"The MultiChart from Above\"},\"showlegend\":true,\"grid\":{\"rows\":1,\"columns\":2,\"pattern\":\"independent\"},\"xaxis\":{\"title\":{\"text\":\"x1\"},\"showgrid\":true,\"zeroline\":false,\"showline\":false},\"yaxis\":{\"showgrid\":true,\"zeroline\":false,\"showline\":false},\"xaxis2\":{\"title\":{\"text\":\"x2\"},\"showgrid\":true,\"zeroline\":false,\"showline\":false},\"yaxis2\":{\"showgrid\":true,\"zeroline\":false,\"showline\":false}};\n",
       " var config_lN8ajkZdzK = {\"responsive\":false,\"scrollZoom\":true,\"displaylogo\":false};\n",
       " Plotly.newPlot(\"graph_lN8ajkZdzK\", traces_lN8ajkZdzK, layout_lN8ajkZdzK, config_lN8ajkZdzK);\n",
       "\n",
       "var save_mG01tjfuIu = document.getElementById(\"saveAsPNG_mG01tjfuIu\")\n",
       "save_mG01tjfuIu.onclick = function() {\n",
       "    const grid = document.getElementById(\"grid-container_mG01tjfuIu\")\n",
       "    const graphs = grid.getElementsByClassName(\"graph\")\n",
       "\n",
       "    const promises = []\n",
       "\n",
       "    const rows = 2\n",
       "    const cols = 2\n",
       "    const img_width = 400\n",
       "    const img_height = 400\n",
       "    var margin = 50\n",
       "\n",
       "    for (var i=0; i<graphs.length; i++) {\n",
       "        const promise = Plotly.toImage(graphs[i], {format: 'png', width: img_width, height: img_height})\n",
       "        promises.push(new Promise((resolve) => {\n",
       "            resolve(promise);\n",
       "        }));\n",
       "    }\n",
       "\n",
       "    Promise.all(promises).then((images) => {\n",
       "        const positioned_images = []\n",
       "\n",
       "        for (var i=0; i<rows; i++) {\n",
       "            for (var j=0; j<cols; j++) {\n",
       "\n",
       "                const obj = {\n",
       "                    \"src\": images[i*cols + j],\n",
       "                    x: i*img_width+margin,\n",
       "                    y: j*img_height+margin\n",
       "                }\n",
       "\n",
       "                positioned_images.push(obj)\n",
       "            }\n",
       "        }\n",
       "\n",
       "        mergeImages(positioned_images, {\n",
       "            width: img_width*cols+60, height: img_height*rows+60\n",
       "        })\n",
       "        .then(b64 => {\n",
       "            var a = document.createElement(\"a\");\n",
       "            a.href = b64;\n",
       "            a.download = \"Image.png\";\n",
       "            a.click();\n",
       "            a.remove()\n",
       "        });\n",
       "    });\n",
       "}\n",
       "</script> \n"
      ]
     },
     "metadata": {},
     "output_type": "display_data"
    }
   ],
   "source": [
    "// first define the x-axes we will use in the plot\n",
    "val ax1 = XAxis(title = \"x axis 1\")\n",
    "val ax2 = XAxis(title = \"x axis 2\")\n",
    "val ax3 = XAxis(title = \"x axis 3\")\n",
    "val ax4 = XAxis(title = \"x axis 4\")\n",
    "\n",
    "// first define the y-axes we will use in the plot\n",
    "val ax6 = YAxis(title = \"y axis 1\")\n",
    "val ax7 = YAxis(title = \"y axis 2\")\n",
    "val ax8 = YAxis(title = \"y axis 3\")\n",
    "val ax9 = YAxis(title = \"y axis 4\")\n",
    "\n",
    "// it may be necessary to play around with the chart dimensions and margin  in order to ensure a good fit on screen.\n",
    "val dim = 350\n",
    "\n",
    "val chart1 = (\n",
    "    Chart()\n",
    "    setDimensions(width = dim, height = dim)\n",
    "    addSeries XY(x, y).setName(\"a\").drawMarkers\n",
    "    addAxes(ax1, ax6)\n",
    "    setMargin(l=50, r=30, t=50, b=50)\n",
    ")\n",
    "\n",
    "val chart2 = (\n",
    "    Chart() \n",
    "    setDimensions(width = dim, height = dim)\n",
    "    addSeries XY(x, y).setName(\"b\").drawMarkers\n",
    "    addAxes(ax2, ax7)\n",
    "    setMargin(l=50, r=50, t=50, b=50)\n",
    ")\n",
    "\n",
    "val chart3 = (\n",
    "    Chart()\n",
    "    setDimensions(width = dim, height = dim)\n",
    "    addSeries XY(x, y).setName(\"c\").drawMarkers\n",
    "    addAxes(ax3, ax8)\n",
    "    setMargin(l=50, r=30, t=50, b=50)\n",
    ")\n",
    "\n",
    "val chart4 = (\n",
    "    Chart()\n",
    "    setDimensions(width = dim, height = dim)\n",
    "    addSeries(series1, series2)\n",
    "    setTitle \"The MultiChart from Above\"\n",
    "    addAxes(xaxis1, yaxis1, xaxis2, yaxis2) // these axes come from above\n",
    "    setConfig(responsive=false)\n",
    "    asMultiChart(1, 2)\n",
    ")\n",
    "\n",
    "// The canvas has an underlying grid. By default the underlying grid is 1x1, but we can pass in the dimensions we \n",
    "// require by passing in parameters in the constructor.\n",
    "Canvas(2, 2)\n",
    ".setChart(0, 0, chart1)\n",
    ".setChart(0, 1, chart2)\n",
    ".setChart(1, 0, chart3)\n",
    ".setChart(1, 1, chart4)\n",
    ".plotInline"
   ]
  },
  {
   "cell_type": "markdown",
   "metadata": {},
   "source": [
    "### Error Bars\n",
    "\n",
    "We can also add Error Bars to our plots.\n",
    "\n",
    "Error bars come in two flavours:\n",
    "\n",
    "1. `XError`\n",
    "2. `YError`\n",
    "\n",
    "Both of these has an associated `mode` that determines how the error bar is calculated for an individual point. The following `mode`s can be specified:\n",
    "\n",
    "- `DATA`: The user passes in an array that specifies the per point error\n",
    "- `PERCENT`: The user passes in a Double that calculates the error as a percentage of the value of the point\n",
    "- `CONSTANT`: The user passes in a double that is the constant value for the error for all points\n",
    "- `SQRT`: This calculates the error as a square root of the point value.\n",
    "\n",
    "The next few examples will demonstrate:"
   ]
  },
  {
   "cell_type": "code",
   "execution_count": 16,
   "metadata": {},
   "outputs": [],
   "source": [
    "// First import the Error Bar options\n",
    "import org.carbonateresearch.picta.options.{YError, CONSTANT, DATA, PERCENT, SQRT}"
   ]
  },
  {
   "cell_type": "code",
   "execution_count": 17,
   "metadata": {},
   "outputs": [
    {
     "data": {
      "text/html": [
       "<div id=\"grid-container_coiYA1m7Q9\" class=\"grid-container\" align=\"center\"> \n",
       "<div id=\"grid_coiYA1m7Q9\" class=\"grid\" align=\"center\"> \n",
       "<div id=\"graph_I0YXXeRJ8D\" class=\"graph\"></div> \n",
       "<div id=\"graph_3eyLZ0hk91\" class=\"graph\"></div> \n",
       "<div id=\"graph_YGtD9fyTFW\" class=\"graph\"></div> \n",
       "<div id=\"graph_K62zWVY9JI\" class=\"graph\"></div> \n",
       "</div> \n",
       "</div> \n",
       "\n",
       "<div align=\"center\">\n",
       "<button id = \"saveAsPNG_coiYA1m7Q9\" class=\"picta-button\">Download Canvas as PNG</button>\n",
       "</div>\n",
       "<script>\n",
       "var masonry = new Macy({\n",
       "    container: '#grid_coiYA1m7Q9',\n",
       "    debug: true,\n",
       "    mobileFirst: true,\n",
       "    columns: 2,\n",
       "    margin: {\n",
       "        x: 0,\n",
       "        y: 0\n",
       "    }\n",
       "  });\n",
       "\n",
       " var traces_I0YXXeRJ8D = [{\"name\":\"wmmTctWRNt\",\"type\":\"scatter\",\"mode\":\"markers\",\"x\":[1,2,3],\"y\":[1.234,5.2112,2.44332],\"error_y\":{\"type\":\"data\",\"visible\":true,\"array\":[0.5,0.5,0.5]}}];\n",
       " var layout_I0YXXeRJ8D = {\"height\":400,\"width\":400,\"hovermode\":\"closest\",\"legend\":{\"orientation\":\"v\"},\"title\":{\"text\":\"Per Point Specified Error\"},\"showlegend\":true};\n",
       " var config_I0YXXeRJ8D = {\"responsive\":true,\"scrollZoom\":true,\"displaylogo\":false};\n",
       " Plotly.newPlot(\"graph_I0YXXeRJ8D\", traces_I0YXXeRJ8D, layout_I0YXXeRJ8D, config_I0YXXeRJ8D);\n",
       "\n",
       " var traces_3eyLZ0hk91 = [{\"name\":\"gtstcbxoGD\",\"type\":\"scatter\",\"mode\":\"markers\",\"x\":[1,2,3],\"y\":[1.234,5.2112,2.44332],\"error_y\":{\"type\":\"percent\",\"visible\":true,\"value\":10}}];\n",
       " var layout_3eyLZ0hk91 = {\"height\":400,\"width\":400,\"hovermode\":\"closest\",\"legend\":{\"orientation\":\"v\"},\"title\":{\"text\":\"Percentage Error\"},\"showlegend\":true};\n",
       " var config_3eyLZ0hk91 = {\"responsive\":true,\"scrollZoom\":true,\"displaylogo\":false};\n",
       " Plotly.newPlot(\"graph_3eyLZ0hk91\", traces_3eyLZ0hk91, layout_3eyLZ0hk91, config_3eyLZ0hk91);\n",
       "\n",
       " var traces_YGtD9fyTFW = [{\"name\":\"TBjhFeYwEX\",\"type\":\"scatter\",\"mode\":\"markers\",\"x\":[1,2,3],\"y\":[1.234,5.2112,2.44332],\"error_y\":{\"type\":\"constant\",\"visible\":true,\"value\":10}}];\n",
       " var layout_YGtD9fyTFW = {\"height\":400,\"width\":400,\"hovermode\":\"closest\",\"legend\":{\"orientation\":\"v\"},\"title\":{\"text\":\"Constant Error\"},\"showlegend\":true};\n",
       " var config_YGtD9fyTFW = {\"responsive\":true,\"scrollZoom\":true,\"displaylogo\":false};\n",
       " Plotly.newPlot(\"graph_YGtD9fyTFW\", traces_YGtD9fyTFW, layout_YGtD9fyTFW, config_YGtD9fyTFW);\n",
       "\n",
       " var traces_K62zWVY9JI = [{\"name\":\"dFNKmsRjNS\",\"type\":\"scatter\",\"mode\":\"markers\",\"x\":[1,2,3],\"y\":[1.234,5.2112,2.44332],\"error_y\":{\"type\":\"sqrt\",\"visible\":true}}];\n",
       " var layout_K62zWVY9JI = {\"height\":400,\"width\":400,\"hovermode\":\"closest\",\"legend\":{\"orientation\":\"v\"},\"title\":{\"text\":\"Sqrt Error\"},\"showlegend\":true};\n",
       " var config_K62zWVY9JI = {\"responsive\":true,\"scrollZoom\":true,\"displaylogo\":false};\n",
       " Plotly.newPlot(\"graph_K62zWVY9JI\", traces_K62zWVY9JI, layout_K62zWVY9JI, config_K62zWVY9JI);\n",
       "\n",
       "var save_coiYA1m7Q9 = document.getElementById(\"saveAsPNG_coiYA1m7Q9\")\n",
       "save_coiYA1m7Q9.onclick = function() {\n",
       "    const grid = document.getElementById(\"grid-container_coiYA1m7Q9\")\n",
       "    const graphs = grid.getElementsByClassName(\"graph\")\n",
       "\n",
       "    const promises = []\n",
       "\n",
       "    const rows = 2\n",
       "    const cols = 2\n",
       "    const img_width = 400\n",
       "    const img_height = 400\n",
       "    var margin = 50\n",
       "\n",
       "    for (var i=0; i<graphs.length; i++) {\n",
       "        const promise = Plotly.toImage(graphs[i], {format: 'png', width: img_width, height: img_height})\n",
       "        promises.push(new Promise((resolve) => {\n",
       "            resolve(promise);\n",
       "        }));\n",
       "    }\n",
       "\n",
       "    Promise.all(promises).then((images) => {\n",
       "        const positioned_images = []\n",
       "\n",
       "        for (var i=0; i<rows; i++) {\n",
       "            for (var j=0; j<cols; j++) {\n",
       "\n",
       "                const obj = {\n",
       "                    \"src\": images[i*cols + j],\n",
       "                    x: i*img_width+margin,\n",
       "                    y: j*img_height+margin\n",
       "                }\n",
       "\n",
       "                positioned_images.push(obj)\n",
       "            }\n",
       "        }\n",
       "\n",
       "        mergeImages(positioned_images, {\n",
       "            width: img_width*cols+60, height: img_height*rows+60\n",
       "        })\n",
       "        .then(b64 => {\n",
       "            var a = document.createElement(\"a\");\n",
       "            a.href = b64;\n",
       "            a.download = \"Image.png\";\n",
       "            a.click();\n",
       "            a.remove()\n",
       "        });\n",
       "    });\n",
       "}\n",
       "</script> \n"
      ]
     },
     "metadata": {},
     "output_type": "display_data"
    }
   ],
   "source": [
    "val dim = 400\n",
    "\n",
    "val series1 = (\n",
    "    XY(List(1, 2, 3), List(1.234, 5.2112, 2.44332))\n",
    "    asType SCATTER\n",
    "    drawStyle MARKERS\n",
    "    // User specifies the error per point \n",
    "    setErrorBars YError(mode = DATA, array = List(0.5, 0.5, 0.5))\n",
    ")\n",
    "\n",
    "val chart1 = (\n",
    "    Chart()\n",
    "    addSeries series1\n",
    "    setTitle \"Per Point Specified Error\"\n",
    "    setDimensions(width = dim, height = dim)\n",
    ")\n",
    "\n",
    "\n",
    "val series2 = (\n",
    "    XY(List(1, 2, 3), List(1.234, 5.2112, 2.44332))\n",
    "    asType SCATTER\n",
    "    drawStyle MARKERS\n",
    "    // the error here is 10% of the corresponding y-value for the point\n",
    "    setErrorBars YError(mode = PERCENT, value = 10.0)\n",
    ")\n",
    "\n",
    "val chart2 = (\n",
    "    Chart()\n",
    "    addSeries series2\n",
    "    setTitle \"Percentage Error\"\n",
    "    setDimensions(width = dim, height = dim)\n",
    ")\n",
    "\n",
    "\n",
    "val series3 = (\n",
    "    XY(List(1, 2, 3), List(1.234, 5.2112, 2.44332))\n",
    "    asType SCATTER\n",
    "    drawStyle MARKERS\n",
    "    // a constant error of 10 is applied to each point\n",
    "    setErrorBars YError(mode = CONSTANT, value = 10.0)\n",
    ")\n",
    "\n",
    "val chart3 = (\n",
    "    Chart()\n",
    "    addSeries series3\n",
    "    setTitle \"Constant Error\"\n",
    "    setDimensions(width = dim, height = dim)\n",
    ")\n",
    "\n",
    "\n",
    "val series4 = (\n",
    "    XY(List(1, 2, 3), List(1.234, 5.2112, 2.44332))\n",
    "    asType SCATTER\n",
    "    drawStyle MARKERS\n",
    "    setErrorBars YError(mode = SQRT)\n",
    ")\n",
    "\n",
    "val chart4 = (\n",
    "    Chart()\n",
    "    addSeries series4\n",
    "    setTitle \"Sqrt Error\"\n",
    "    // the error is set to the sqrt of the corresponding point\n",
    "    setDimensions(width = dim, height = dim)\n",
    ")\n",
    "\n",
    "val canvas = Canvas(2, 2) addCharts (chart1, chart2, chart3, chart4)\n",
    "\n",
    "canvas.plotInline"
   ]
  },
  {
   "cell_type": "markdown",
   "metadata": {},
   "source": [
    "### Other Types of Charts\n",
    "\n",
    "The next examples will demonstrate how to create a variety of `Chart`s. All of the examples below are composable with the `Canvas` subplot system.\n",
    "\n",
    "#### Pie Chart\n",
    "\n",
    "Pie charts can be created in two ways. The first way uses the `PieElement` component to compose a Piechart:"
   ]
  },
  {
   "cell_type": "code",
   "execution_count": 18,
   "metadata": {},
   "outputs": [
    {
     "data": {
      "text/html": [
       "<div id=\"grid-container_cxSh2dQgws\" class=\"grid-container\" align=\"center\"> \n",
       "<div id=\"grid_cxSh2dQgws\" class=\"grid\" align=\"center\"> \n",
       "<div id=\"graph_5A59CHwOiG\" class=\"graph\"></div> \n",
       "</div> \n",
       "</div> \n",
       "<script>\n",
       "var masonry = new Macy({\n",
       "    container: '#grid_cxSh2dQgws',\n",
       "    debug: true,\n",
       "    mobileFirst: true,\n",
       "    columns: 1,\n",
       "    margin: {\n",
       "        x: 0,\n",
       "        y: 0\n",
       "    }\n",
       "  });\n",
       "\n",
       " var traces_5A59CHwOiG = [{\"name\":\"tGm5rugGbz\",\"type\":\"pie\",\"values\":[60,20,20],\"labels\":[\"Residential\",\"Non-Residential\",\"Utility\"]}];\n",
       " var layout_5A59CHwOiG = {\"height\":550,\"width\":600,\"hovermode\":\"closest\",\"legend\":{\"orientation\":\"v\"},\"title\":{\"text\":\"Pie Elements\"},\"showlegend\":true};\n",
       " var config_5A59CHwOiG = {\"responsive\":true,\"scrollZoom\":true,\"displaylogo\":false};\n",
       " Plotly.newPlot(\"graph_5A59CHwOiG\", traces_5A59CHwOiG, layout_5A59CHwOiG, config_5A59CHwOiG);\n",
       "</script> \n"
      ]
     },
     "metadata": {},
     "output_type": "display_data"
    }
   ],
   "source": [
    "val a = PieElement(value=60, name=\"Residential\")\n",
    "val b = PieElement(value=20, name=\"Non-Residential\")\n",
    "val c = PieElement(value=20, name=\"Utility\")\n",
    "\n",
    "// we add a list of Pie Elements to an XY series as the list of Pie Elements gets deconstructed down into two series:\n",
    "// X => values: [60, 20, 20]\n",
    "// Y => labels: [\"Residential\", \"Non-Residential\", \"Utility\"]\n",
    "// The labels become the series_name for each individual PieElement\n",
    "// As we pass in a list of PieElements, we do not need to specify the type as a PIE\n",
    "val series = XY(x=List(a, b, c))\n",
    "\n",
    "val chart = Chart() addSeries series setTitle \"Pie Elements\"\n",
    "\n",
    "chart.plotInline"
   ]
  },
  {
   "cell_type": "code",
   "execution_count": 19,
   "metadata": {},
   "outputs": [
    {
     "data": {
      "text/html": [
       "<div id=\"grid-container_A8XmWkJGGJ\" class=\"grid-container\" align=\"center\"> \n",
       "<div id=\"grid_A8XmWkJGGJ\" class=\"grid\" align=\"center\"> \n",
       "<div id=\"graph_Zs4oNpe5kR\" class=\"graph\"></div> \n",
       "</div> \n",
       "</div> \n",
       "<script>\n",
       "var masonry = new Macy({\n",
       "    container: '#grid_A8XmWkJGGJ',\n",
       "    debug: true,\n",
       "    mobileFirst: true,\n",
       "    columns: 1,\n",
       "    margin: {\n",
       "        x: 0,\n",
       "        y: 0\n",
       "    }\n",
       "  });\n",
       "\n",
       " var traces_Zs4oNpe5kR = [{\"name\":\"M3tDvOq8n8\",\"type\":\"pie\",\"values\":[60,20,20],\"labels\":[\"Residential\",\"Non-Residential\",\"Utility\"]}];\n",
       " var layout_Zs4oNpe5kR = {\"height\":550,\"width\":600,\"hovermode\":\"closest\",\"legend\":{\"orientation\":\"v\"},\"title\":{\"text\":\"Pie Chart\"},\"showlegend\":true};\n",
       " var config_Zs4oNpe5kR = {\"responsive\":false,\"scrollZoom\":false,\"displaylogo\":false};\n",
       " Plotly.newPlot(\"graph_Zs4oNpe5kR\", traces_Zs4oNpe5kR, layout_Zs4oNpe5kR, config_Zs4oNpe5kR);\n",
       "</script> \n"
      ]
     },
     "metadata": {},
     "output_type": "display_data"
    }
   ],
   "source": [
    "// However, composing individual PieElements may be tedious if there is a lot of data and we know how to it all fits\n",
    "// together. Picta provides a short hand to quickly create a Pie Chart using the methods we have seen previously\n",
    "// In this case we pass the (value, name) pairs as two seperate lists. As before, the labels become an individual\n",
    "// series name for each point; which is why the legend renders correctly.\n",
    "val series = XY(x=List(60, 20, 20), y=List(\"Residential\", \"Non-Residential\", \"Utility\")) asType PIE\n",
    "\n",
    "val chart = Chart() addSeries series setConfig(false, false) setTitle \"Pie Chart\"\n",
    "\n",
    "chart.plotInline"
   ]
  },
  {
   "cell_type": "markdown",
   "metadata": {},
   "source": [
    "### Histogram"
   ]
  },
  {
   "cell_type": "code",
   "execution_count": 20,
   "metadata": {},
   "outputs": [
    {
     "data": {
      "text/html": [
       "<div id=\"grid-container_ZWLqpmWtLI\" class=\"grid-container\" align=\"center\"> \n",
       "<div id=\"grid_ZWLqpmWtLI\" class=\"grid\" align=\"center\"> \n",
       "<div id=\"graph_nEDsGlXkR6\" class=\"graph\"></div> \n",
       "</div> \n",
       "</div> \n",
       "<script>\n",
       "var masonry = new Macy({\n",
       "    container: '#grid_ZWLqpmWtLI',\n",
       "    debug: true,\n",
       "    mobileFirst: true,\n",
       "    columns: 1,\n",
       "    margin: {\n",
       "        x: 0,\n",
       "        y: 0\n",
       "    }\n",
       "  });\n",
       "\n",
       " var traces_nEDsGlXkR6 = [{\"name\":\"WhJCTETZ0C\",\"type\":\"histogram\",\"x\":[23.08363506440474,37.202114247680015,36.01357751340306,12.563798704493806,21.387075865310123,4.228289701101485,10.165458088654166,45.768319181071156,43.30321163345399,24.651716384679993,23.430760816531986,9.690879210181102,19.163464998750392,38.35406492155112,49.594971627921225,31.275598470623244,27.335034418255965,38.738951739517475,7.701871938855382,24.933009831095156,26.886676593609053,23.923044385404584,8.239101592207371,23.96562212874645,28.5996854654928,37.86882499618952,43.80677991895398,9.29979093089392,37.26626566554738,42.42120315622554,38.58342937521865,33.05348403754846,31.664760515093803,48.17311444305973,27.007001179582694,0.3386900396066539,39.86097626376283,39.360581193875014,21.00479440931774,33.87886399556198,16.557086400058342,5.575652301450851,46.83459342236006,2.5159081513592643,36.094390456878486,40.985980242224386,37.14035843396977,46.487884694235355,29.413443175461897,39.96272007888851,1.1793010239070811,29.47773946051126,15.784861273844141,6.543812010475181,16.343231807187586,39.864995631105685,10.446349847397535,3.9975987489188514,37.07553990801819,1.3564975397766743,27.416290798907827,49.90212562221157,3.0762067143241314,36.22894141013982,42.70147052369551,11.618352488706313,47.290770566634485,2.7850446423209774,36.876309590574806,26.81090805768531,5.595157215985242,2.306878771515719,47.58321438580555,13.757899559908232,14.316825224989332,19.784007189690218,31.888436132477015,46.59169189645259,48.77368414449407,27.00070911455536,15.62508965644569,1.325436770574534,5.865751607270492,36.18574132218352,41.864759447553936,29.545561478159126,16.420551007106397,47.35968154285587,23.481359257899136,37.98827967173697,38.471735945407644,32.75909245797706,5.405718740590587,43.86859588641252,30.941482572414465,47.27333356785907,0.6165840400662037,37.79317710332649,38.30066656974241,44.69903397176546]}];\n",
       " var layout_nEDsGlXkR6 = {\"height\":550,\"width\":600,\"hovermode\":\"closest\",\"legend\":{\"orientation\":\"v\"},\"title\":{\"text\":\"Histogram with axes\"},\"showlegend\":true,\"xaxis\":{\"title\":{\"text\":\"my x data\"},\"showgrid\":true,\"zeroline\":false,\"showline\":false},\"yaxis\":{\"title\":{\"text\":\"my y data\"},\"showgrid\":true,\"zeroline\":false,\"showline\":false}};\n",
       " var config_nEDsGlXkR6 = {\"responsive\":true,\"scrollZoom\":true,\"displaylogo\":false};\n",
       " Plotly.newPlot(\"graph_nEDsGlXkR6\", traces_nEDsGlXkR6, layout_nEDsGlXkR6, config_nEDsGlXkR6);\n",
       "</script> \n"
      ]
     },
     "metadata": {},
     "output_type": "display_data"
    }
   ],
   "source": [
    "val series = XY(x=x) asType HISTOGRAM\n",
    "\n",
    "val xaxis = XAxis(title = \"my x data\")\n",
    "val yaxis = YAxis(title = \"my y data\")\n",
    "\n",
    "val chart = (\n",
    "    Chart() \n",
    "    addSeries series\n",
    "    setTitle \"Histogram with axes\"\n",
    "    addAxes(xaxis, yaxis)\n",
    ")\n",
    "\n",
    "Canvas()\n",
    ".addCharts(chart)\n",
    ".plotInline"
   ]
  },
  {
   "cell_type": "markdown",
   "metadata": {},
   "source": [
    "#### Customizing colors for a Histogram\n",
    "\n",
    "We can use the `HistOptions` class to further specify options for a histogram. For example, if we wanted to create a horizontally positioned histogram, we can do the following:"
   ]
  },
  {
   "cell_type": "code",
   "execution_count": 21,
   "metadata": {},
   "outputs": [],
   "source": [
    "import org.carbonateresearch.picta.options.histogram.HistOptions\n",
    "import org.carbonateresearch.picta.options.Line"
   ]
  },
  {
   "cell_type": "code",
   "execution_count": 22,
   "metadata": {},
   "outputs": [
    {
     "data": {
      "text/html": [
       "<div id=\"grid-container_KHTOJ3LPHK\" class=\"grid-container\" align=\"center\"> \n",
       "<div id=\"grid_KHTOJ3LPHK\" class=\"grid\" align=\"center\"> \n",
       "<div id=\"graph_kevk1J5kzi\" class=\"graph\"></div> \n",
       "</div> \n",
       "</div> \n",
       "<script>\n",
       "var masonry = new Macy({\n",
       "    container: '#grid_KHTOJ3LPHK',\n",
       "    debug: true,\n",
       "    mobileFirst: true,\n",
       "    columns: 1,\n",
       "    margin: {\n",
       "        x: 0,\n",
       "        y: 0\n",
       "    }\n",
       "  });\n",
       "\n",
       " var traces_kevk1J5kzi = [{\"name\":\"51Jkshkke1\",\"type\":\"histogram\",\"marker\":{\"color\":\"rgba(255, 100, 102, 0.5)\",\"line\":{\"width\":0.5}},\"y\":[23.08363506440474,37.202114247680015,36.01357751340306,12.563798704493806,21.387075865310123,4.228289701101485,10.165458088654166,45.768319181071156,43.30321163345399,24.651716384679993,23.430760816531986,9.690879210181102,19.163464998750392,38.35406492155112,49.594971627921225,31.275598470623244,27.335034418255965,38.738951739517475,7.701871938855382,24.933009831095156,26.886676593609053,23.923044385404584,8.239101592207371,23.96562212874645,28.5996854654928,37.86882499618952,43.80677991895398,9.29979093089392,37.26626566554738,42.42120315622554,38.58342937521865,33.05348403754846,31.664760515093803,48.17311444305973,27.007001179582694,0.3386900396066539,39.86097626376283,39.360581193875014,21.00479440931774,33.87886399556198,16.557086400058342,5.575652301450851,46.83459342236006,2.5159081513592643,36.094390456878486,40.985980242224386,37.14035843396977,46.487884694235355,29.413443175461897,39.96272007888851,1.1793010239070811,29.47773946051126,15.784861273844141,6.543812010475181,16.343231807187586,39.864995631105685,10.446349847397535,3.9975987489188514,37.07553990801819,1.3564975397766743,27.416290798907827,49.90212562221157,3.0762067143241314,36.22894141013982,42.70147052369551,11.618352488706313,47.290770566634485,2.7850446423209774,36.876309590574806,26.81090805768531,5.595157215985242,2.306878771515719,47.58321438580555,13.757899559908232,14.316825224989332,19.784007189690218,31.888436132477015,46.59169189645259,48.77368414449407,27.00070911455536,15.62508965644569,1.325436770574534,5.865751607270492,36.18574132218352,41.864759447553936,29.545561478159126,16.420551007106397,47.35968154285587,23.481359257899136,37.98827967173697,38.471735945407644,32.75909245797706,5.405718740590587,43.86859588641252,30.941482572414465,47.27333356785907,0.6165840400662037,37.79317710332649,38.30066656974241,44.69903397176546]}];\n",
       " var layout_kevk1J5kzi = {\"height\":550,\"width\":600,\"hovermode\":\"closest\",\"legend\":{\"orientation\":\"v\"},\"title\":{\"text\":\"XY.Histogram.Color\"},\"showlegend\":true};\n",
       " var config_kevk1J5kzi = {\"responsive\":true,\"scrollZoom\":true,\"displaylogo\":false};\n",
       " Plotly.newPlot(\"graph_kevk1J5kzi\", traces_kevk1J5kzi, layout_kevk1J5kzi, config_kevk1J5kzi);\n",
       "</script> \n"
      ]
     },
     "metadata": {},
     "output_type": "display_data"
    }
   ],
   "source": [
    "// we can also compose customizations in much the same way:\n",
    "val marker = Marker() setColor \"rgba(255, 100, 102, 0.5)\" setLine Line()\n",
    "\n",
    "// change xkey to y to get a horizontal histogram\n",
    "val series = (\n",
    "    XY(x) \n",
    "    asType HISTOGRAM\n",
    "    setMarker marker\n",
    "    // we can set histogram specific options using the setHistOptions method\n",
    "    setHistOptions(orientation = HORIZONTAL)\n",
    ")\n",
    "\n",
    "val chart = (\n",
    "    Chart() \n",
    "    addSeries series \n",
    "    setTitle \"XY.Histogram.Color\"\n",
    ")\n",
    "\n",
    "chart.plotInline"
   ]
  },
  {
   "cell_type": "markdown",
   "metadata": {},
   "source": [
    "#### Cumulative Histogram\n",
    "\n",
    "Sometimes a cumulative histogram may be desired. We can do this as follows:"
   ]
  },
  {
   "cell_type": "code",
   "execution_count": 23,
   "metadata": {},
   "outputs": [],
   "source": [
    "// we can import a range of histnorms\n",
    "import org.carbonateresearch.picta.options.histogram.{Cumulative, PERCENT, DENSITY, PROBABILITY_DENSITY, NUMBER}"
   ]
  },
  {
   "cell_type": "code",
   "execution_count": 24,
   "metadata": {},
   "outputs": [
    {
     "data": {
      "text/html": [
       "<div id=\"grid-container_Iz9fGTAqdH\" class=\"grid-container\" align=\"center\"> \n",
       "<div id=\"grid_Iz9fGTAqdH\" class=\"grid\" align=\"center\"> \n",
       "<div id=\"graph_ZIZ3Y1cutk\" class=\"graph\"></div> \n",
       "</div> \n",
       "</div> \n",
       "<script>\n",
       "var masonry = new Macy({\n",
       "    container: '#grid_Iz9fGTAqdH',\n",
       "    debug: true,\n",
       "    mobileFirst: true,\n",
       "    columns: 1,\n",
       "    margin: {\n",
       "        x: 0,\n",
       "        y: 0\n",
       "    }\n",
       "  });\n",
       "\n",
       " var traces_ZIZ3Y1cutk = [{\"name\":\"mqllB8WEE4\",\"type\":\"histogram\",\"cumulative\":{\"enabled\":true},\"histnorm\":\"\",\"x\":[23.08363506440474,37.202114247680015,36.01357751340306,12.563798704493806,21.387075865310123,4.228289701101485,10.165458088654166,45.768319181071156,43.30321163345399,24.651716384679993,23.430760816531986,9.690879210181102,19.163464998750392,38.35406492155112,49.594971627921225,31.275598470623244,27.335034418255965,38.738951739517475,7.701871938855382,24.933009831095156,26.886676593609053,23.923044385404584,8.239101592207371,23.96562212874645,28.5996854654928,37.86882499618952,43.80677991895398,9.29979093089392,37.26626566554738,42.42120315622554,38.58342937521865,33.05348403754846,31.664760515093803,48.17311444305973,27.007001179582694,0.3386900396066539,39.86097626376283,39.360581193875014,21.00479440931774,33.87886399556198,16.557086400058342,5.575652301450851,46.83459342236006,2.5159081513592643,36.094390456878486,40.985980242224386,37.14035843396977,46.487884694235355,29.413443175461897,39.96272007888851,1.1793010239070811,29.47773946051126,15.784861273844141,6.543812010475181,16.343231807187586,39.864995631105685,10.446349847397535,3.9975987489188514,37.07553990801819,1.3564975397766743,27.416290798907827,49.90212562221157,3.0762067143241314,36.22894141013982,42.70147052369551,11.618352488706313,47.290770566634485,2.7850446423209774,36.876309590574806,26.81090805768531,5.595157215985242,2.306878771515719,47.58321438580555,13.757899559908232,14.316825224989332,19.784007189690218,31.888436132477015,46.59169189645259,48.77368414449407,27.00070911455536,15.62508965644569,1.325436770574534,5.865751607270492,36.18574132218352,41.864759447553936,29.545561478159126,16.420551007106397,47.35968154285587,23.481359257899136,37.98827967173697,38.471735945407644,32.75909245797706,5.405718740590587,43.86859588641252,30.941482572414465,47.27333356785907,0.6165840400662037,37.79317710332649,38.30066656974241,44.69903397176546]}];\n",
       " var layout_ZIZ3Y1cutk = {\"height\":550,\"width\":600,\"hovermode\":\"closest\",\"legend\":{\"orientation\":\"v\"},\"title\":{\"text\":\"Histogram - Cumulative\"},\"showlegend\":true};\n",
       " var config_ZIZ3Y1cutk = {\"responsive\":true,\"scrollZoom\":true,\"displaylogo\":false};\n",
       " Plotly.newPlot(\"graph_ZIZ3Y1cutk\", traces_ZIZ3Y1cutk, layout_ZIZ3Y1cutk, config_ZIZ3Y1cutk);\n",
       "</script> \n"
      ]
     },
     "metadata": {},
     "output_type": "display_data"
    }
   ],
   "source": [
    "val series = XY(x) asType HISTOGRAM setHistOptions(histnorm = NUMBER, cumulative = Cumulative(enabled=true))\n",
    "\n",
    "val chart = Chart() addSeries series setTitle \"Histogram - Cumulative\"\n",
    "\n",
    "chart.plotInline"
   ]
  },
  {
   "cell_type": "markdown",
   "metadata": {},
   "source": [
    "#### Specifiying the Binning Function\n",
    "\n",
    "We can also specify the binning function for a histogram."
   ]
  },
  {
   "cell_type": "code",
   "execution_count": 25,
   "metadata": {},
   "outputs": [],
   "source": [
    "import org.carbonateresearch.picta.options.histogram.{COUNT, SUM, AVG, MIN, MAX, HistOptions}"
   ]
  },
  {
   "cell_type": "code",
   "execution_count": 26,
   "metadata": {},
   "outputs": [
    {
     "data": {
      "text/html": [
       "<div id=\"grid-container_iws4tmpxQK\" class=\"grid-container\" align=\"center\"> \n",
       "<div id=\"grid_iws4tmpxQK\" class=\"grid\" align=\"center\"> \n",
       "<div id=\"graph_9TS8uyxOgX\" class=\"graph\"></div> \n",
       "</div> \n",
       "</div> \n",
       "<script>\n",
       "var masonry = new Macy({\n",
       "    container: '#grid_iws4tmpxQK',\n",
       "    debug: true,\n",
       "    mobileFirst: true,\n",
       "    columns: 1,\n",
       "    margin: {\n",
       "        x: 0,\n",
       "        y: 0\n",
       "    }\n",
       "  });\n",
       "\n",
       " var traces_9TS8uyxOgX = [{\"name\":\"ZtrJ0TJLDm\",\"type\":\"histogram\",\"histfunc\":\"count\",\"x\":[\"Apples\",\"Apples\",\"Apples\",\"Oranges\",\"Bananas\"],\"y\":[\"5\",\"10\",\"3\",\"10\",\"5\"]},{\"name\":\"JSs4YyJeWy\",\"type\":\"histogram\",\"histfunc\":\"sum\",\"x\":[\"Apples\",\"Apples\",\"Apples\",\"Oranges\",\"Bananas\"],\"y\":[\"5\",\"10\",\"3\",\"10\",\"5\"]}];\n",
       " var layout_9TS8uyxOgX = {\"height\":550,\"width\":600,\"hovermode\":\"closest\",\"legend\":{\"orientation\":\"v\"},\"title\":{\"text\":\"Histogram - Specify Binning Function\"},\"showlegend\":true};\n",
       " var config_9TS8uyxOgX = {\"responsive\":true,\"scrollZoom\":true,\"displaylogo\":false};\n",
       " Plotly.newPlot(\"graph_9TS8uyxOgX\", traces_9TS8uyxOgX, layout_9TS8uyxOgX, config_9TS8uyxOgX);\n",
       "</script> \n"
      ]
     },
     "metadata": {},
     "output_type": "display_data"
    }
   ],
   "source": [
    "val x = List(\"Apples\", \"Apples\", \"Apples\", \"Oranges\", \"Bananas\")\n",
    "val y = List(\"5\", \"10\", \"3\", \"10\", \"5\")\n",
    "\n",
    "// we can also assign histOptions to a value and pass them to the setHistOptions method\n",
    "val ho1 = HistOptions(histfunc = COUNT)\n",
    "val ho2 = HistOptions(histfunc = SUM)\n",
    "    \n",
    "val t1 = XY(x = x, y = y) asType HISTOGRAM setHistOptions ho1\n",
    "val t2 = XY(x = x, y = y) asType HISTOGRAM setHistOptions ho2\n",
    "\n",
    "val chart = Chart() addSeries(t1, t2) setTitle \"Histogram - Specify Binning Function\"\n",
    "val canvas = Canvas() addCharts chart\n",
    "canvas.plotInline"
   ]
  },
  {
   "cell_type": "markdown",
   "metadata": {},
   "source": [
    "### 2D Histogram Contour"
   ]
  },
  {
   "cell_type": "code",
   "execution_count": 27,
   "metadata": {},
   "outputs": [
    {
     "data": {
      "text/html": [
       "<div id=\"grid-container_7mj6tcrJs3\" class=\"grid-container\" align=\"center\"> \n",
       "<div id=\"grid_7mj6tcrJs3\" class=\"grid\" align=\"center\"> \n",
       "<div id=\"graph_E8Jm8x6FPn\" class=\"graph\"></div> \n",
       "</div> \n",
       "</div> \n",
       "<script>\n",
       "var masonry = new Macy({\n",
       "    container: '#grid_7mj6tcrJs3',\n",
       "    debug: true,\n",
       "    mobileFirst: true,\n",
       "    columns: 1,\n",
       "    margin: {\n",
       "        x: 0,\n",
       "        y: 0\n",
       "    }\n",
       "  });\n",
       "\n",
       " var traces_E8Jm8x6FPn = [{\"name\":\"U51NKn2vFc\",\"type\":\"histogram2dcontour\",\"mode\":\"markers\",\"x\":[1,2,3,4,5,6,7,8,9,10,11,12,13,14,15,16,17,18,19,20,21,22,23,24,25,26,27,28,29,30,31,32,33,34,35,36,37,38,39,40,41,42,43,44,45,46,47,48,49],\"y\":[36.66745905447796,28.216611563613622,69.81674345792624,66.47927827359135,54.884856223019845,92.49446991326705,66.11562872926785,70.75453131145161,49.48344065213219,35.5677019279426,58.37760022087014,94.39827045829439,26.764263224705797,30.780025396204866,102.09377108041441,100.60272665182013,64.1812703512306,69.07052971217996,31.71458688592324,46.19229188540241,103.0800500156731,101.46219057352639,36.30125851325079,86.41352943207966,57.82727318916182,62.77949622027693,110.76740715528712,127.68556989274295,39.344143828760345,82.05480461793417,32.53089503335584,98.46772187484942,61.07671060300403,87.13375733803798,78.72780592886818,118.26448968836226,81.08037236207866,53.66595253159466,130.09757425587122,45.276368925627075,135.16552538397016,131.96779998982896,104.23034893339153,74.31816117091981,132.9457302234168,109.17027085022988,123.07458932254434,138.3647731070849,121.14940699823961]}];\n",
       " var layout_E8Jm8x6FPn = {\"height\":550,\"width\":600,\"hovermode\":\"closest\",\"legend\":{\"orientation\":\"v\"},\"title\":{\"text\":\"2D Histogram Contour\"},\"showlegend\":true};\n",
       " var config_E8Jm8x6FPn = {\"responsive\":true,\"scrollZoom\":true,\"displaylogo\":false};\n",
       " Plotly.newPlot(\"graph_E8Jm8x6FPn\", traces_E8Jm8x6FPn, layout_E8Jm8x6FPn, config_E8Jm8x6FPn);\n",
       "</script> \n"
      ]
     },
     "metadata": {},
     "output_type": "display_data"
    }
   ],
   "source": [
    "val x = List.range(1, 50)\n",
    "val y = x.map(x => x + scala.util.Random.nextDouble()*100)\n",
    "\n",
    "val series = XY(x, y).asType(HISTOGRAM2DCONTOUR).drawMarkers\n",
    "\n",
    "val chart = (\n",
    "    Chart() addSeries series\n",
    "    setTitle \"2D Histogram Contour\"\n",
    ")\n",
    "\n",
    "chart.plotInline"
   ]
  },
  {
   "cell_type": "markdown",
   "metadata": {},
   "source": [
    "#### Adding additional axes\n",
    "\n",
    "As the above is a density plot, adding histograms can be useful too.\n",
    "\n",
    "We can add histograms as follows:"
   ]
  },
  {
   "cell_type": "code",
   "execution_count": 28,
   "metadata": {},
   "outputs": [],
   "source": [
    "// import the 2d Density histogram options\n",
    "import org.carbonateresearch.picta.options.histogram2d.Hist2dOptions"
   ]
  },
  {
   "cell_type": "code",
   "execution_count": 29,
   "metadata": {},
   "outputs": [
    {
     "data": {
      "text/html": [
       "<div id=\"grid-container_MrcURuNwkb\" class=\"grid-container\" align=\"center\"> \n",
       "<div id=\"grid_MrcURuNwkb\" class=\"grid\" align=\"center\"> \n",
       "<div id=\"graph_KVRBNbUvoB\" class=\"graph\"></div> \n",
       "</div> \n",
       "</div> \n",
       "<script>\n",
       "var masonry = new Macy({\n",
       "    container: '#grid_MrcURuNwkb',\n",
       "    debug: true,\n",
       "    mobileFirst: true,\n",
       "    columns: 1,\n",
       "    margin: {\n",
       "        x: 0,\n",
       "        y: 0\n",
       "    }\n",
       "  });\n",
       "\n",
       " var traces_KVRBNbUvoB = [{\"name\":\"points\",\"type\":\"scatter\",\"mode\":\"markers\",\"marker\":{\"color\":\"rgb(102,0,0)\"},\"x\":[1,2,3,4,5,6,7,8,9,10,11,12,13,14,15,16,17,18,19,20,21,22,23,24,25,26,27,28,29,30,31,32,33,34,35,36,37,38,39,40,41,42,43,44,45,46,47,48,49],\"y\":[36.66745905447796,28.216611563613622,69.81674345792624,66.47927827359135,54.884856223019845,92.49446991326705,66.11562872926785,70.75453131145161,49.48344065213219,35.5677019279426,58.37760022087014,94.39827045829439,26.764263224705797,30.780025396204866,102.09377108041441,100.60272665182013,64.1812703512306,69.07052971217996,31.71458688592324,46.19229188540241,103.0800500156731,101.46219057352639,36.30125851325079,86.41352943207966,57.82727318916182,62.77949622027693,110.76740715528712,127.68556989274295,39.344143828760345,82.05480461793417,32.53089503335584,98.46772187484942,61.07671060300403,87.13375733803798,78.72780592886818,118.26448968836226,81.08037236207866,53.66595253159466,130.09757425587122,45.276368925627075,135.16552538397016,131.96779998982896,104.23034893339153,74.31816117091981,132.9457302234168,109.17027085022988,123.07458932254434,138.3647731070849,121.14940699823961]},{\"name\":\"density\",\"type\":\"histogram2dcontour\",\"ncontours\":20,\"reversescale\":false,\"showscale\":true,\"x\":[1,2,3,4,5,6,7,8,9,10,11,12,13,14,15,16,17,18,19,20,21,22,23,24,25,26,27,28,29,30,31,32,33,34,35,36,37,38,39,40,41,42,43,44,45,46,47,48,49],\"y\":[36.66745905447796,28.216611563613622,69.81674345792624,66.47927827359135,54.884856223019845,92.49446991326705,66.11562872926785,70.75453131145161,49.48344065213219,35.5677019279426,58.37760022087014,94.39827045829439,26.764263224705797,30.780025396204866,102.09377108041441,100.60272665182013,64.1812703512306,69.07052971217996,31.71458688592324,46.19229188540241,103.0800500156731,101.46219057352639,36.30125851325079,86.41352943207966,57.82727318916182,62.77949622027693,110.76740715528712,127.68556989274295,39.344143828760345,82.05480461793417,32.53089503335584,98.46772187484942,61.07671060300403,87.13375733803798,78.72780592886818,118.26448968836226,81.08037236207866,53.66595253159466,130.09757425587122,45.276368925627075,135.16552538397016,131.96779998982896,104.23034893339153,74.31816117091981,132.9457302234168,109.17027085022988,123.07458932254434,138.3647731070849,121.14940699823961]},{\"name\":\"histogram\",\"type\":\"histogram\",\"yaxis\":\"y2\",\"x\":[1,2,3,4,5,6,7,8,9,10,11,12,13,14,15,16,17,18,19,20,21,22,23,24,25,26,27,28,29,30,31,32,33,34,35,36,37,38,39,40,41,42,43,44,45,46,47,48,49]},{\"name\":\"y density\",\"type\":\"histogram\",\"xaxis\":\"x2\",\"marker\":{\"color\":\"rgb(102,0,0)\"},\"y\":[36.66745905447796,28.216611563613622,69.81674345792624,66.47927827359135,54.884856223019845,92.49446991326705,66.11562872926785,70.75453131145161,49.48344065213219,35.5677019279426,58.37760022087014,94.39827045829439,26.764263224705797,30.780025396204866,102.09377108041441,100.60272665182013,64.1812703512306,69.07052971217996,31.71458688592324,46.19229188540241,103.0800500156731,101.46219057352639,36.30125851325079,86.41352943207966,57.82727318916182,62.77949622027693,110.76740715528712,127.68556989274295,39.344143828760345,82.05480461793417,32.53089503335584,98.46772187484942,61.07671060300403,87.13375733803798,78.72780592886818,118.26448968836226,81.08037236207866,53.66595253159466,130.09757425587122,45.276368925627075,135.16552538397016,131.96779998982896,104.23034893339153,74.31816117091981,132.9457302234168,109.17027085022988,123.07458932254434,138.3647731070849,121.14940699823961]}];\n",
       " var layout_KVRBNbUvoB = {\"height\":550,\"width\":600,\"hovermode\":\"closest\",\"legend\":{\"orientation\":\"v\"},\"title\":{\"text\":\"Histogram2dContour With Density\"},\"showlegend\":false,\"autosize\":false,\"xaxis\":{\"showgrid\":false,\"zeroline\":false,\"showline\":false,\"domain\":[0,0.85]},\"yaxis\":{\"showgrid\":false,\"zeroline\":false,\"showline\":false,\"domain\":[0,0.85]},\"xaxis2\":{\"showgrid\":false,\"zeroline\":false,\"showline\":false,\"domain\":[0.85,1]},\"yaxis2\":{\"showgrid\":false,\"zeroline\":false,\"showline\":false,\"domain\":[0.85,1]}};\n",
       " var config_KVRBNbUvoB = {\"responsive\":true,\"scrollZoom\":true,\"displaylogo\":false};\n",
       " Plotly.newPlot(\"graph_KVRBNbUvoB\", traces_KVRBNbUvoB, layout_KVRBNbUvoB, config_KVRBNbUvoB);\n",
       "</script> \n"
      ]
     },
     "metadata": {},
     "output_type": "display_data"
    }
   ],
   "source": [
    "val marker = Marker() setColor \"rgb(102,0,0)\"\n",
    "\n",
    "val series1 = XY(x, y) \n",
    "            .asType(SCATTER)\n",
    "            .drawMarkers\n",
    "            .setName(\"points\")\n",
    "            .setMarker(marker)\n",
    "\n",
    "\n",
    "val hist2d_options = Hist2dOptions(ncontours = 20, reversescale = false, showscale = true)\n",
    "\n",
    "val series2 = XY(x, y) \n",
    "            .setName(\"density\")\n",
    "            .asType(HISTOGRAM2DCONTOUR)\n",
    "            .setHist2dOptions(hist2d_options)\n",
    "\n",
    "val series3 = XY(x = x)\n",
    "            .asType(HISTOGRAM)\n",
    "            .setName(\"histogram\")\n",
    "            .setAxes(XAxis(), YAxis(2))\n",
    "\n",
    "val series4 = (XY(y)\n",
    "            .setName(\"y density\")\n",
    "            .asType(HISTOGRAM)\n",
    "            .setAxis(XAxis(2))\n",
    "            .setMarker(marker)\n",
    "            .setHistOptions(HistOptions(orientation = HORIZONTAL)))\n",
    "\n",
    "val ax1 = XAxis(showgrid = false) setDomain(0.0, 0.85)\n",
    "val ax2 = YAxis(showgrid = false) setDomain(0.0, 0.85)\n",
    "val ax3 = XAxis(position = 2, showgrid = false) setDomain(0.85, 1.0)\n",
    "val ax4 = YAxis(position = 2, showgrid = false) setDomain(0.85, 1.0)\n",
    "\n",
    "val layout = (\n",
    "    ChartLayout(\"Histogram2dContour With Density\", autosize = false, showlegend = false) \n",
    "    setAxes(ax1, ax2, ax3, ax4)\n",
    ")\n",
    "\n",
    "val chart = Chart() addSeries(series1, series2, series3, series4) setChartLayout layout\n",
    "\n",
    "chart.plotInline"
   ]
  },
  {
   "cell_type": "markdown",
   "metadata": {},
   "source": [
    "### 3D Charts\n",
    "\n",
    "3D charts are constructed using a `XYZ` series as they take in 3 `Series`' to create a single point.\n",
    "\n",
    "The Picta API does not accept nested lists, however the underlying Plotlyjs render does. In order to render any series that will make use of a nested list, we must flatten and provide the length of an element (before the list was flattened).\n",
    "\n",
    "The following examples will make it clearer.\n",
    "\n",
    "#### Contour"
   ]
  },
  {
   "cell_type": "code",
   "execution_count": 30,
   "metadata": {},
   "outputs": [],
   "source": [
    "// lets create some dummy adata for the third dimension\n",
    "val x = List(-9, -6, -5 , -3, -1)\n",
    "val y = List(0, 1, 4, 5, 7)\n",
    "val z = List(\n",
    "    List(10, 10.625, 12.5, 15.625, 20),\n",
    "    List(5.625, 6.25, 8.125, 11.25, 15.625),\n",
    "    List(2.5, 3.125, 5.0, 8.125, 12.5),\n",
    "    List(0.625, 1.25, 3.125, 6.25, 10.625),\n",
    "    List(0, 0.625, 2.5, 5.625, 10)\n",
    ")"
   ]
  },
  {
   "cell_type": "code",
   "execution_count": 31,
   "metadata": {},
   "outputs": [
    {
     "data": {
      "text/html": [
       "<div id=\"grid-container_n8buCGJ8me\" class=\"grid-container\" align=\"center\"> \n",
       "<div id=\"grid_n8buCGJ8me\" class=\"grid\" align=\"center\"> \n",
       "<div id=\"graph_rCdImnDpW6\" class=\"graph\"></div> \n",
       "</div> \n",
       "</div> \n",
       "<script>\n",
       "var masonry = new Macy({\n",
       "    container: '#grid_n8buCGJ8me',\n",
       "    debug: true,\n",
       "    mobileFirst: true,\n",
       "    columns: 1,\n",
       "    margin: {\n",
       "        x: 0,\n",
       "        y: 0\n",
       "    }\n",
       "  });\n",
       "\n",
       " var traces_rCdImnDpW6 = [{\"name\":\"BQfbvjUGot\",\"type\":\"contour\",\"x\":[-9,-6,-5,-3,-1],\"y\":[0,1,4,5,7],\"z\":[[10,10.625,12.5,15.625,20],[5.625,6.25,8.125,11.25,15.625],[2.5,3.125,5,8.125,12.5],[0.625,1.25,3.125,6.25,10.625],[0,0.625,2.5,5.625,10]]}];\n",
       " var layout_rCdImnDpW6 = {\"height\":550,\"width\":600,\"hovermode\":\"closest\",\"legend\":{\"orientation\":\"v\"},\"title\":{\"text\":\"Contour\"},\"showlegend\":true};\n",
       " var config_rCdImnDpW6 = {\"responsive\":true,\"scrollZoom\":true,\"displaylogo\":false};\n",
       " Plotly.newPlot(\"graph_rCdImnDpW6\", traces_rCdImnDpW6, layout_rCdImnDpW6, config_rCdImnDpW6);\n",
       "</script> \n"
      ]
     },
     "metadata": {},
     "output_type": "display_data"
    }
   ],
   "source": [
    "// we flatten the nested list as we pass it into the Series constructor\n",
    "val series = XYZ(x=x, y=y, z=z.flatten, n=z(0).length).asType(CONTOUR)\n",
    "\n",
    "// set up the chart\n",
    "val chart = Chart()\n",
    "            .addSeries(series)\n",
    "            .setTitle(\"Contour\")\n",
    "\n",
    "// plot the chart\n",
    "chart.plotInline"
   ]
  },
  {
   "cell_type": "markdown",
   "metadata": {},
   "source": [
    "#### Heatmap"
   ]
  },
  {
   "cell_type": "code",
   "execution_count": 32,
   "metadata": {
    "scrolled": false
   },
   "outputs": [],
   "source": [
    "// create a new nested list for the heatmap\n",
    "val z = List.range(1, 101).map(e => e + scala.util.Random.nextDouble()*100).grouped(10).toList"
   ]
  },
  {
   "cell_type": "code",
   "execution_count": 33,
   "metadata": {},
   "outputs": [
    {
     "data": {
      "text/html": [
       "<div id=\"grid-container_LOLb9B8xm4\" class=\"grid-container\" align=\"center\"> \n",
       "<div id=\"grid_LOLb9B8xm4\" class=\"grid\" align=\"center\"> \n",
       "<div id=\"graph_9MfNonQFUW\" class=\"graph\"></div> \n",
       "</div> \n",
       "</div> \n",
       "<script>\n",
       "var masonry = new Macy({\n",
       "    container: '#grid_LOLb9B8xm4',\n",
       "    debug: true,\n",
       "    mobileFirst: true,\n",
       "    columns: 1,\n",
       "    margin: {\n",
       "        x: 0,\n",
       "        y: 0\n",
       "    }\n",
       "  });\n",
       "\n",
       " var traces_9MfNonQFUW = [{\"name\":\"jd6SQoJmrB\",\"type\":\"heatmap\",\"z\":[[7.788096032011836,68.0855725223513,67.31151199725608,23.727058343665625,15.672692547326768,55.23810824689334,62.159672449764294,82.81619515180516,26.70255560109506,50.43605006429949],[46.11573241170167,17.461891621102755,106.39719666939146,39.199696927023936,22.18294973507807,112.73379159420826,70.72361304290955,71.26946515464593,116.33496909135495,88.35164412026195],[26.412760259055894,47.76819941404018,58.845507125328034,86.00730433260928,77.87043466514274,82.46599878908123,48.77277841860716,64.15870460811377,46.816012276818824,82.71942070862902],[50.71067024033981,83.6117753977039,41.895681660970126,112.55152069993503,96.84431461472204,129.41344901278669,97.25524121026079,132.85868879236568,131.89861691685047,42.41080188066606],[71.42065950477429,61.874750771013055,43.743996732853326,127.28849261617013,60.82298175851163,62.792390367271715,68.22439499161287,62.978663495180285,135.9174032934599,144.83643358952443],[143.19841794725676,66.04447798540444,152.08460585583947,59.1030707335395,113.83521617558625,147.97055331728112,122.36578971994804,81.12365281730106,158.88254246987074,63.25052243835962],[64.57100890720939,98.3812142430773,115.92512816106489,66.74402674366888,151.41383975365335,162.90237220290373,132.57739524039434,85.9824566613136,99.06354953641501,126.566856411727],[160.1052181400733,166.9347960026293,126.8693213409787,149.92137536535853,136.1473008969077,170.20195368701576,108.99933446468887,164.05411954089186,174.00744764070527,178.68999047363207],[117.35075287069535,169.48069489640847,87.41485109613137,127.5197044382624,124.32500756545305,176.01182218636916,131.70026217398078,182.2620243058394,93.92599047799216,123.21767683499198],[135.01169021798233,172.5457532012729,140.12712502736122,172.373269971344,126.49409571446574,134.66617147503175,172.56645597363558,127.66378968728482,142.28325903544624,129.03010080521992]]}];\n",
       " var layout_9MfNonQFUW = {\"height\":550,\"width\":600,\"hovermode\":\"closest\",\"legend\":{\"orientation\":\"v\"},\"title\":{\"text\":\"Heatmap\"},\"showlegend\":true};\n",
       " var config_9MfNonQFUW = {\"responsive\":true,\"scrollZoom\":true,\"displaylogo\":false};\n",
       " Plotly.newPlot(\"graph_9MfNonQFUW\", traces_9MfNonQFUW, layout_9MfNonQFUW, config_9MfNonQFUW);\n",
       "</script> \n"
      ]
     },
     "metadata": {},
     "output_type": "display_data"
    }
   ],
   "source": [
    "// we get the length of an element of the nested list\n",
    "val n = z(0).length\n",
    "\n",
    "// we now flatten the list and pass it into Series constructor, as well as 'n', the length of an element so that the \n",
    "// heatmap dimensions are correctly constructed\n",
    "val series = XYZ(z=z.flatten, n=n) asType HEATMAP\n",
    "\n",
    "val chart = Chart() addSeries series setTitle \"Heatmap\"\n",
    "\n",
    "chart.plotInline"
   ]
  },
  {
   "cell_type": "markdown",
   "metadata": {},
   "source": [
    "#### Scatter3D"
   ]
  },
  {
   "cell_type": "code",
   "execution_count": 34,
   "metadata": {
    "scrolled": false
   },
   "outputs": [
    {
     "data": {
      "text/html": [
       "<div id=\"grid-container_LK6zsZ0vV7\" class=\"grid-container\" align=\"center\"> \n",
       "<div id=\"grid_LK6zsZ0vV7\" class=\"grid\" align=\"center\"> \n",
       "<div id=\"graph_CNYGFbDP1S\" class=\"graph\"></div> \n",
       "</div> \n",
       "</div> \n",
       "<script>\n",
       "var masonry = new Macy({\n",
       "    container: '#grid_LK6zsZ0vV7',\n",
       "    debug: true,\n",
       "    mobileFirst: true,\n",
       "    columns: 1,\n",
       "    margin: {\n",
       "        x: 0,\n",
       "        y: 0\n",
       "    }\n",
       "  });\n",
       "\n",
       " var traces_CNYGFbDP1S = [{\"name\":\"LX6BBcdDRA\",\"type\":\"scatter3d\",\"mode\":\"markers\",\"x\":[1,2,3,4,5,6,7,8,9,10,11,12,13,14,15,16,17,18,19,20,21,22,23,24,25,26,27,28,29,30,31,32,33,34,35,36,37,38,39,40,41,42,43,44,45,46,47,48,49,50,51,52,53,54,55,56,57,58,59,60,61,62,63,64,65,66,67,68,69,70,71,72,73,74,75,76,77,78,79,80,81,82,83,84,85,86,87,88,89,90,91,92,93,94,95,96,97,98,99],\"y\":[1,2,3,4,5,6,7,8,9,10,11,12,13,14,15,16,17,18,19,20,21,22,23,24,25,26,27,28,29,30,31,32,33,34,35,36,37,38,39,40,41,42,43,44,45,46,47,48,49,50,51,52,53,54,55,56,57,58,59,60,61,62,63,64,65,66,67,68,69,70,71,72,73,74,75,76,77,78,79,80,81,82,83,84,85,86,87,88,89,90,91,92,93,94,95,96,97,98,99],\"z\":[93.29532879531047,47.59164276094626,98.16167483288865,40.1633048495874,46.76288323562625,78.58128708923529,11.082409032707158,22.90732649752036,50.192111398804656,55.93418988312086,92.37145069208978,22.804440430116756,78.26884796377087,69.92754187246865,31.081886114914568,60.95045252829601,21.080719737549376,39.24397511358934,91.5659670422324,85.21435345747666,40.93307827308871,119.1623247090756,85.61644376726252,120.62864582156581,106.32833175731528,50.236546166018016,45.52160130689499,54.83111883458972,38.036062669665135,128.89892829624335,125.39303991177997,70.3164891535231,103.45081153527164,64.72456646942116,54.707190154547035,126.36958811642441,112.3289859041012,113.01977161723804,130.20870077023108,75.29013376211716,99.51582078230041,135.947977226992,60.15572239858329,69.88230499989444,128.41792395447092,50.58235987397578,68.34430608932769,82.17067936688646,112.7463889422983,68.0752958918687,124.4310011286479,106.91738143940215,133.45006118019768,114.56045328130773,91.7799116880775,67.75353105389708,122.77804156231365,151.45418263148014,74.39240166231737,78.60139080193898,98.05501758603245,80.49857201057995,100.43472120144008,138.55188648351236,154.0226212525646,127.18940523452976,101.4608522787405,154.4754540574749,164.49443709272197,145.1579425908168,133.63486248035997,92.38243870590611,101.5919195366366,173.62631391569434,140.08916357824654,155.91260000546586,153.97294487011678,110.23203615188822,172.01203656392366,178.32145325745176,114.23425316584814,132.3179676479666,170.13982076353267,92.94459564977821,110.06362239413343,111.20980903341649,158.03624460259948,116.35933089993209,173.73709351232776,116.05401528208026,113.873369901848,138.3262673731572,180.20109263710142,96.46476857663403,168.38563010092687,163.0817736975082,135.24890273135838,166.529481278585,123.25054301116623]}];\n",
       " var layout_CNYGFbDP1S = {\"height\":550,\"width\":600,\"hovermode\":\"closest\",\"legend\":{\"orientation\":\"v\"},\"title\":{\"text\":\"XYZ.Scatter3D\"},\"showlegend\":true};\n",
       " var config_CNYGFbDP1S = {\"responsive\":false,\"scrollZoom\":false,\"displaylogo\":false};\n",
       " Plotly.newPlot(\"graph_CNYGFbDP1S\", traces_CNYGFbDP1S, layout_CNYGFbDP1S, config_CNYGFbDP1S);\n",
       "</script> \n"
      ]
     },
     "metadata": {},
     "output_type": "display_data"
    }
   ],
   "source": [
    "val x = List.range(1, 100)\n",
    "val y = List.range(1, 100)\n",
    "val z = List.range(1, 100).map(e => e + scala.util.Random.nextDouble()*100)\n",
    "\n",
    "val series = XYZ(x, y, z) asType SCATTER3D drawStyle MARKERS\n",
    "val chart1 = Chart() addSeries series setTitle \"XYZ.Scatter3D\" setConfig(false, false)\n",
    "val canvas = Canvas() addCharts chart1\n",
    "canvas.plotInline"
   ]
  },
  {
   "cell_type": "markdown",
   "metadata": {},
   "source": [
    "#### Surface Plot"
   ]
  },
  {
   "cell_type": "code",
   "execution_count": 35,
   "metadata": {
    "scrolled": false
   },
   "outputs": [
    {
     "data": {
      "text/html": [
       "<div id=\"grid-container_JQhG5SkADC\" class=\"grid-container\" align=\"center\"> \n",
       "<div id=\"grid_JQhG5SkADC\" class=\"grid\" align=\"center\"> \n",
       "<div id=\"graph_0RAfnQUwsk\" class=\"graph\"></div> \n",
       "</div> \n",
       "</div> \n",
       "<script>\n",
       "var masonry = new Macy({\n",
       "    container: '#grid_JQhG5SkADC',\n",
       "    debug: true,\n",
       "    mobileFirst: true,\n",
       "    columns: 1,\n",
       "    margin: {\n",
       "        x: 0,\n",
       "        y: 0\n",
       "    }\n",
       "  });\n",
       "\n",
       " var traces_0RAfnQUwsk = [{\"name\":\"BL9YCJCaVt\",\"type\":\"surface\",\"z\":[[8.83,8.89,8.81,8.87,8.9,8.87],[8.89,8.94,8.85,8.94,8.96,8.92],[8.84,8.9,8.82,8.92,8.93,8.91],[8.79,8.85,8.79,8.9,8.94,8.92],[8.79,8.88,8.81,8.9,8.95,8.92],[8.8,8.82,8.78,8.91,8.94,8.92],[8.75,8.78,8.77,8.91,8.95,8.92],[8.8,8.8,8.77,8.91,8.95,8.94],[8.74,8.81,8.76,8.93,8.98,8.99],[8.89,8.99,8.92,9.1,9.13,9.11],[8.97,8.97,8.91,9.09,9.11,9.11],[9.04,9.08,9.05,9.25,9.28,9.27],[9,9.01,9,9.2,9.23,9.2],[8.99,8.99,8.98,9.18,9.2,9.19],[8.93,8.97,8.97,9.18,9.2,9.18]]}];\n",
       " var layout_0RAfnQUwsk = {\"height\":550,\"width\":600,\"hovermode\":\"closest\",\"legend\":{\"orientation\":\"v\"},\"title\":{\"text\":\"Surface\"},\"showlegend\":true};\n",
       " var config_0RAfnQUwsk = {\"responsive\":true,\"scrollZoom\":true,\"displaylogo\":false};\n",
       " Plotly.newPlot(\"graph_0RAfnQUwsk\", traces_0RAfnQUwsk, layout_0RAfnQUwsk, config_0RAfnQUwsk);\n",
       "</script> \n"
      ]
     },
     "metadata": {},
     "output_type": "display_data"
    }
   ],
   "source": [
    "// 3d surface plot\n",
    "val k = List(\n",
    "    List(8.83,8.89,8.81,8.87,8.9,8.87),\n",
    "    List(8.89,8.94,8.85,8.94,8.96,8.92),\n",
    "    List(8.84,8.9,8.82,8.92,8.93,8.91),\n",
    "    List(8.79,8.85,8.79,8.9,8.94,8.92),\n",
    "    List(8.79,8.88,8.81,8.9,8.95,8.92),\n",
    "    List(8.8,8.82,8.78,8.91,8.94,8.92),\n",
    "    List(8.75,8.78,8.77,8.91,8.95,8.92),\n",
    "    List(8.8,8.8,8.77,8.91,8.95,8.94),\n",
    "    List(8.74,8.81,8.76,8.93,8.98,8.99),\n",
    "    List(8.89,8.99,8.92,9.1,9.13,9.11),\n",
    "    List(8.97,8.97,8.91,9.09,9.11,9.11),\n",
    "    List(9.04,9.08,9.05,9.25,9.28,9.27),\n",
    "    List(9,9.01,9,9.2,9.23,9.2),\n",
    "    List(8.99,8.99,8.98,9.18,9.2,9.19),\n",
    "    List(8.93,8.97,8.97,9.18,9.2,9.18)\n",
    "  )\n",
    "\n",
    "val series = XYZ(z=k.flatten, n = k(0).length) asType SURFACE\n",
    "val chart2 = Chart() addSeries series setTitle \"Surface\"\n",
    "\n",
    "chart2.plotInline"
   ]
  },
  {
   "cell_type": "markdown",
   "metadata": {
    "scrolled": false
   },
   "source": [
    "#### Third Dimension as Color"
   ]
  },
  {
   "cell_type": "code",
   "execution_count": 36,
   "metadata": {},
   "outputs": [
    {
     "data": {
      "text/html": [
       "<div id=\"grid-container_kcGJdeOxaH\" class=\"grid-container\" align=\"center\"> \n",
       "<div id=\"grid_kcGJdeOxaH\" class=\"grid\" align=\"center\"> \n",
       "<div id=\"graph_90QRE7Sx2O\" class=\"graph\"></div> \n",
       "</div> \n",
       "</div> \n",
       "<script>\n",
       "var masonry = new Macy({\n",
       "    container: '#grid_kcGJdeOxaH',\n",
       "    debug: true,\n",
       "    mobileFirst: true,\n",
       "    columns: 1,\n",
       "    margin: {\n",
       "        x: 0,\n",
       "        y: 0\n",
       "    }\n",
       "  });\n",
       "\n",
       " var traces_90QRE7Sx2O = [{\"name\":\"JJWeEyBzAl\",\"type\":\"scatter\",\"mode\":\"markers\",\"marker\":{\"color\":[93.29532879531047,47.59164276094626,98.16167483288865,40.1633048495874,46.76288323562625,78.58128708923529,11.082409032707158,22.90732649752036,50.192111398804656,55.93418988312086,92.37145069208978,22.804440430116756,78.26884796377087,69.92754187246865,31.081886114914568,60.95045252829601,21.080719737549376,39.24397511358934,91.5659670422324,85.21435345747666,40.93307827308871,119.1623247090756,85.61644376726252,120.62864582156581,106.32833175731528,50.236546166018016,45.52160130689499,54.83111883458972,38.036062669665135,128.89892829624335,125.39303991177997,70.3164891535231,103.45081153527164,64.72456646942116,54.707190154547035,126.36958811642441,112.3289859041012,113.01977161723804,130.20870077023108,75.29013376211716,99.51582078230041,135.947977226992,60.15572239858329,69.88230499989444,128.41792395447092,50.58235987397578,68.34430608932769,82.17067936688646,112.7463889422983,68.0752958918687,124.4310011286479,106.91738143940215,133.45006118019768,114.56045328130773,91.7799116880775,67.75353105389708,122.77804156231365,151.45418263148014,74.39240166231737,78.60139080193898,98.05501758603245,80.49857201057995,100.43472120144008,138.55188648351236,154.0226212525646,127.18940523452976,101.4608522787405,154.4754540574749,164.49443709272197,145.1579425908168,133.63486248035997,92.38243870590611,101.5919195366366,173.62631391569434,140.08916357824654,155.91260000546586,153.97294487011678,110.23203615188822,172.01203656392366,178.32145325745176,114.23425316584814,132.3179676479666,170.13982076353267,92.94459564977821,110.06362239413343,111.20980903341649,158.03624460259948,116.35933089993209,173.73709351232776,116.05401528208026,113.873369901848,138.3262673731572,180.20109263710142,96.46476857663403,168.38563010092687,163.0817736975082,135.24890273135838,166.529481278585,123.25054301116623]},\"x\":[1,2,3,4,5,6,7,8,9,10,11,12,13,14,15,16,17,18,19,20,21,22,23,24,25,26,27,28,29,30,31,32,33,34,35,36,37,38,39,40,41,42,43,44,45,46,47,48,49,50,51,52,53,54,55,56,57,58,59,60,61,62,63,64,65,66,67,68,69,70,71,72,73,74,75,76,77,78,79,80,81,82,83,84,85,86,87,88,89,90,91,92,93,94,95,96,97,98,99],\"y\":[1,2,3,4,5,6,7,8,9,10,11,12,13,14,15,16,17,18,19,20,21,22,23,24,25,26,27,28,29,30,31,32,33,34,35,36,37,38,39,40,41,42,43,44,45,46,47,48,49,50,51,52,53,54,55,56,57,58,59,60,61,62,63,64,65,66,67,68,69,70,71,72,73,74,75,76,77,78,79,80,81,82,83,84,85,86,87,88,89,90,91,92,93,94,95,96,97,98,99]}];\n",
       " var layout_90QRE7Sx2O = {\"height\":550,\"width\":600,\"hovermode\":\"closest\",\"legend\":{\"orientation\":\"v\"},\"title\":{\"text\":\"ScatterWithColor\"},\"showlegend\":true};\n",
       " var config_90QRE7Sx2O = {\"responsive\":true,\"scrollZoom\":true,\"displaylogo\":false};\n",
       " Plotly.newPlot(\"graph_90QRE7Sx2O\", traces_90QRE7Sx2O, layout_90QRE7Sx2O, config_90QRE7Sx2O);\n",
       "</script> \n"
      ]
     },
     "metadata": {},
     "output_type": "display_data"
    }
   ],
   "source": [
    "// multiple compositions can be used to create scatter charts with a color representing some third dimension\n",
    "val marker = Marker() setColor z\n",
    "val series = XY(x, y) asType SCATTER drawStyle MARKERS setMarker marker\n",
    "val chart3 = Chart() addSeries series setTitle \"ScatterWithColor\"\n",
    "chart3.plotInline"
   ]
  },
  {
   "cell_type": "markdown",
   "metadata": {},
   "source": [
    "#### Subplot\n",
    "\n",
    "The Subplot class can be used to generate subplots for an XYZ plots just as we did previously."
   ]
  },
  {
   "cell_type": "code",
   "execution_count": 37,
   "metadata": {},
   "outputs": [
    {
     "data": {
      "text/html": [
       "<div id=\"grid-container_Fc1ck4dS80\" class=\"grid-container\" align=\"center\"> \n",
       "<div id=\"grid_Fc1ck4dS80\" class=\"grid\" align=\"center\"> \n",
       "<div id=\"graph_ZCLaRCBRI0\" class=\"graph\"></div> \n",
       "<div id=\"graph_Q7aXeufsS7\" class=\"graph\"></div> \n",
       "<div id=\"graph_JW0XUPyYZy\" class=\"graph\"></div> \n",
       "<div id=\"graph_8sNTi2yT3s\" class=\"graph\"></div> \n",
       "</div> \n",
       "</div> \n",
       "\n",
       "<div align=\"center\">\n",
       "<button id = \"saveAsPNG_Fc1ck4dS80\" class=\"picta-button\">Download Canvas as PNG</button>\n",
       "</div>\n",
       "<script>\n",
       "var masonry = new Macy({\n",
       "    container: '#grid_Fc1ck4dS80',\n",
       "    debug: true,\n",
       "    mobileFirst: true,\n",
       "    columns: 2,\n",
       "    margin: {\n",
       "        x: 0,\n",
       "        y: 0\n",
       "    }\n",
       "  });\n",
       "\n",
       " var traces_ZCLaRCBRI0 = [{\"name\":\"LX6BBcdDRA\",\"type\":\"scatter3d\",\"mode\":\"markers\",\"x\":[1,2,3,4,5,6,7,8,9,10,11,12,13,14,15,16,17,18,19,20,21,22,23,24,25,26,27,28,29,30,31,32,33,34,35,36,37,38,39,40,41,42,43,44,45,46,47,48,49,50,51,52,53,54,55,56,57,58,59,60,61,62,63,64,65,66,67,68,69,70,71,72,73,74,75,76,77,78,79,80,81,82,83,84,85,86,87,88,89,90,91,92,93,94,95,96,97,98,99],\"y\":[1,2,3,4,5,6,7,8,9,10,11,12,13,14,15,16,17,18,19,20,21,22,23,24,25,26,27,28,29,30,31,32,33,34,35,36,37,38,39,40,41,42,43,44,45,46,47,48,49,50,51,52,53,54,55,56,57,58,59,60,61,62,63,64,65,66,67,68,69,70,71,72,73,74,75,76,77,78,79,80,81,82,83,84,85,86,87,88,89,90,91,92,93,94,95,96,97,98,99],\"z\":[93.29532879531047,47.59164276094626,98.16167483288865,40.1633048495874,46.76288323562625,78.58128708923529,11.082409032707158,22.90732649752036,50.192111398804656,55.93418988312086,92.37145069208978,22.804440430116756,78.26884796377087,69.92754187246865,31.081886114914568,60.95045252829601,21.080719737549376,39.24397511358934,91.5659670422324,85.21435345747666,40.93307827308871,119.1623247090756,85.61644376726252,120.62864582156581,106.32833175731528,50.236546166018016,45.52160130689499,54.83111883458972,38.036062669665135,128.89892829624335,125.39303991177997,70.3164891535231,103.45081153527164,64.72456646942116,54.707190154547035,126.36958811642441,112.3289859041012,113.01977161723804,130.20870077023108,75.29013376211716,99.51582078230041,135.947977226992,60.15572239858329,69.88230499989444,128.41792395447092,50.58235987397578,68.34430608932769,82.17067936688646,112.7463889422983,68.0752958918687,124.4310011286479,106.91738143940215,133.45006118019768,114.56045328130773,91.7799116880775,67.75353105389708,122.77804156231365,151.45418263148014,74.39240166231737,78.60139080193898,98.05501758603245,80.49857201057995,100.43472120144008,138.55188648351236,154.0226212525646,127.18940523452976,101.4608522787405,154.4754540574749,164.49443709272197,145.1579425908168,133.63486248035997,92.38243870590611,101.5919195366366,173.62631391569434,140.08916357824654,155.91260000546586,153.97294487011678,110.23203615188822,172.01203656392366,178.32145325745176,114.23425316584814,132.3179676479666,170.13982076353267,92.94459564977821,110.06362239413343,111.20980903341649,158.03624460259948,116.35933089993209,173.73709351232776,116.05401528208026,113.873369901848,138.3262673731572,180.20109263710142,96.46476857663403,168.38563010092687,163.0817736975082,135.24890273135838,166.529481278585,123.25054301116623]}];\n",
       " var layout_ZCLaRCBRI0 = {\"height\":350,\"width\":350,\"hovermode\":\"closest\",\"legend\":{\"orientation\":\"v\"},\"title\":{\"text\":\"XYZ.Scatter3D\"},\"showlegend\":true,\"margin\":{\"l\":50,\"r\":50,\"t\":50,\"b\":50}};\n",
       " var config_ZCLaRCBRI0 = {\"responsive\":false,\"scrollZoom\":false,\"displaylogo\":false};\n",
       " Plotly.newPlot(\"graph_ZCLaRCBRI0\", traces_ZCLaRCBRI0, layout_ZCLaRCBRI0, config_ZCLaRCBRI0);\n",
       "\n",
       " var traces_Q7aXeufsS7 = [{\"name\":\"BL9YCJCaVt\",\"type\":\"surface\",\"z\":[[8.83,8.89,8.81,8.87,8.9,8.87],[8.89,8.94,8.85,8.94,8.96,8.92],[8.84,8.9,8.82,8.92,8.93,8.91],[8.79,8.85,8.79,8.9,8.94,8.92],[8.79,8.88,8.81,8.9,8.95,8.92],[8.8,8.82,8.78,8.91,8.94,8.92],[8.75,8.78,8.77,8.91,8.95,8.92],[8.8,8.8,8.77,8.91,8.95,8.94],[8.74,8.81,8.76,8.93,8.98,8.99],[8.89,8.99,8.92,9.1,9.13,9.11],[8.97,8.97,8.91,9.09,9.11,9.11],[9.04,9.08,9.05,9.25,9.28,9.27],[9,9.01,9,9.2,9.23,9.2],[8.99,8.99,8.98,9.18,9.2,9.19],[8.93,8.97,8.97,9.18,9.2,9.18]]}];\n",
       " var layout_Q7aXeufsS7 = {\"height\":350,\"width\":350,\"hovermode\":\"closest\",\"legend\":{\"orientation\":\"v\"},\"title\":{\"text\":\"Surface\"},\"showlegend\":true,\"margin\":{\"l\":50,\"r\":50,\"t\":50,\"b\":50}};\n",
       " var config_Q7aXeufsS7 = {\"responsive\":true,\"scrollZoom\":true,\"displaylogo\":false};\n",
       " Plotly.newPlot(\"graph_Q7aXeufsS7\", traces_Q7aXeufsS7, layout_Q7aXeufsS7, config_Q7aXeufsS7);\n",
       "\n",
       " var traces_JW0XUPyYZy = [{\"name\":\"JJWeEyBzAl\",\"type\":\"scatter\",\"mode\":\"markers\",\"marker\":{\"color\":[93.29532879531047,47.59164276094626,98.16167483288865,40.1633048495874,46.76288323562625,78.58128708923529,11.082409032707158,22.90732649752036,50.192111398804656,55.93418988312086,92.37145069208978,22.804440430116756,78.26884796377087,69.92754187246865,31.081886114914568,60.95045252829601,21.080719737549376,39.24397511358934,91.5659670422324,85.21435345747666,40.93307827308871,119.1623247090756,85.61644376726252,120.62864582156581,106.32833175731528,50.236546166018016,45.52160130689499,54.83111883458972,38.036062669665135,128.89892829624335,125.39303991177997,70.3164891535231,103.45081153527164,64.72456646942116,54.707190154547035,126.36958811642441,112.3289859041012,113.01977161723804,130.20870077023108,75.29013376211716,99.51582078230041,135.947977226992,60.15572239858329,69.88230499989444,128.41792395447092,50.58235987397578,68.34430608932769,82.17067936688646,112.7463889422983,68.0752958918687,124.4310011286479,106.91738143940215,133.45006118019768,114.56045328130773,91.7799116880775,67.75353105389708,122.77804156231365,151.45418263148014,74.39240166231737,78.60139080193898,98.05501758603245,80.49857201057995,100.43472120144008,138.55188648351236,154.0226212525646,127.18940523452976,101.4608522787405,154.4754540574749,164.49443709272197,145.1579425908168,133.63486248035997,92.38243870590611,101.5919195366366,173.62631391569434,140.08916357824654,155.91260000546586,153.97294487011678,110.23203615188822,172.01203656392366,178.32145325745176,114.23425316584814,132.3179676479666,170.13982076353267,92.94459564977821,110.06362239413343,111.20980903341649,158.03624460259948,116.35933089993209,173.73709351232776,116.05401528208026,113.873369901848,138.3262673731572,180.20109263710142,96.46476857663403,168.38563010092687,163.0817736975082,135.24890273135838,166.529481278585,123.25054301116623]},\"x\":[1,2,3,4,5,6,7,8,9,10,11,12,13,14,15,16,17,18,19,20,21,22,23,24,25,26,27,28,29,30,31,32,33,34,35,36,37,38,39,40,41,42,43,44,45,46,47,48,49,50,51,52,53,54,55,56,57,58,59,60,61,62,63,64,65,66,67,68,69,70,71,72,73,74,75,76,77,78,79,80,81,82,83,84,85,86,87,88,89,90,91,92,93,94,95,96,97,98,99],\"y\":[1,2,3,4,5,6,7,8,9,10,11,12,13,14,15,16,17,18,19,20,21,22,23,24,25,26,27,28,29,30,31,32,33,34,35,36,37,38,39,40,41,42,43,44,45,46,47,48,49,50,51,52,53,54,55,56,57,58,59,60,61,62,63,64,65,66,67,68,69,70,71,72,73,74,75,76,77,78,79,80,81,82,83,84,85,86,87,88,89,90,91,92,93,94,95,96,97,98,99]}];\n",
       " var layout_JW0XUPyYZy = {\"height\":350,\"width\":350,\"hovermode\":\"closest\",\"legend\":{\"orientation\":\"v\"},\"title\":{\"text\":\"ScatterWithColor\"},\"showlegend\":true,\"margin\":{\"l\":50,\"r\":50,\"t\":50,\"b\":50}};\n",
       " var config_JW0XUPyYZy = {\"responsive\":true,\"scrollZoom\":true,\"displaylogo\":false};\n",
       " Plotly.newPlot(\"graph_JW0XUPyYZy\", traces_JW0XUPyYZy, layout_JW0XUPyYZy, config_JW0XUPyYZy);\n",
       "\n",
       " var traces_8sNTi2yT3s = [{\"name\":\"jd6SQoJmrB\",\"type\":\"heatmap\",\"z\":[[7.788096032011836,68.0855725223513,67.31151199725608,23.727058343665625,15.672692547326768,55.23810824689334,62.159672449764294,82.81619515180516,26.70255560109506,50.43605006429949],[46.11573241170167,17.461891621102755,106.39719666939146,39.199696927023936,22.18294973507807,112.73379159420826,70.72361304290955,71.26946515464593,116.33496909135495,88.35164412026195],[26.412760259055894,47.76819941404018,58.845507125328034,86.00730433260928,77.87043466514274,82.46599878908123,48.77277841860716,64.15870460811377,46.816012276818824,82.71942070862902],[50.71067024033981,83.6117753977039,41.895681660970126,112.55152069993503,96.84431461472204,129.41344901278669,97.25524121026079,132.85868879236568,131.89861691685047,42.41080188066606],[71.42065950477429,61.874750771013055,43.743996732853326,127.28849261617013,60.82298175851163,62.792390367271715,68.22439499161287,62.978663495180285,135.9174032934599,144.83643358952443],[143.19841794725676,66.04447798540444,152.08460585583947,59.1030707335395,113.83521617558625,147.97055331728112,122.36578971994804,81.12365281730106,158.88254246987074,63.25052243835962],[64.57100890720939,98.3812142430773,115.92512816106489,66.74402674366888,151.41383975365335,162.90237220290373,132.57739524039434,85.9824566613136,99.06354953641501,126.566856411727],[160.1052181400733,166.9347960026293,126.8693213409787,149.92137536535853,136.1473008969077,170.20195368701576,108.99933446468887,164.05411954089186,174.00744764070527,178.68999047363207],[117.35075287069535,169.48069489640847,87.41485109613137,127.5197044382624,124.32500756545305,176.01182218636916,131.70026217398078,182.2620243058394,93.92599047799216,123.21767683499198],[135.01169021798233,172.5457532012729,140.12712502736122,172.373269971344,126.49409571446574,134.66617147503175,172.56645597363558,127.66378968728482,142.28325903544624,129.03010080521992]]}];\n",
       " var layout_8sNTi2yT3s = {\"height\":350,\"width\":350,\"hovermode\":\"closest\",\"legend\":{\"orientation\":\"v\"},\"title\":{\"text\":\"Heatmap\"},\"showlegend\":true,\"margin\":{\"l\":50,\"r\":50,\"t\":50,\"b\":50}};\n",
       " var config_8sNTi2yT3s = {\"responsive\":true,\"scrollZoom\":true,\"displaylogo\":false};\n",
       " Plotly.newPlot(\"graph_8sNTi2yT3s\", traces_8sNTi2yT3s, layout_8sNTi2yT3s, config_8sNTi2yT3s);\n",
       "\n",
       "var save_Fc1ck4dS80 = document.getElementById(\"saveAsPNG_Fc1ck4dS80\")\n",
       "save_Fc1ck4dS80.onclick = function() {\n",
       "    const grid = document.getElementById(\"grid-container_Fc1ck4dS80\")\n",
       "    const graphs = grid.getElementsByClassName(\"graph\")\n",
       "\n",
       "    const promises = []\n",
       "\n",
       "    const rows = 2\n",
       "    const cols = 2\n",
       "    const img_width = 400\n",
       "    const img_height = 400\n",
       "    var margin = 50\n",
       "\n",
       "    for (var i=0; i<graphs.length; i++) {\n",
       "        const promise = Plotly.toImage(graphs[i], {format: 'png', width: img_width, height: img_height})\n",
       "        promises.push(new Promise((resolve) => {\n",
       "            resolve(promise);\n",
       "        }));\n",
       "    }\n",
       "\n",
       "    Promise.all(promises).then((images) => {\n",
       "        const positioned_images = []\n",
       "\n",
       "        for (var i=0; i<rows; i++) {\n",
       "            for (var j=0; j<cols; j++) {\n",
       "\n",
       "                const obj = {\n",
       "                    \"src\": images[i*cols + j],\n",
       "                    x: i*img_width+margin,\n",
       "                    y: j*img_height+margin\n",
       "                }\n",
       "\n",
       "                positioned_images.push(obj)\n",
       "            }\n",
       "        }\n",
       "\n",
       "        mergeImages(positioned_images, {\n",
       "            width: img_width*cols+60, height: img_height*rows+60\n",
       "        })\n",
       "        .then(b64 => {\n",
       "            var a = document.createElement(\"a\");\n",
       "            a.href = b64;\n",
       "            a.download = \"Image.png\";\n",
       "            a.click();\n",
       "            a.remove()\n",
       "        });\n",
       "    });\n",
       "}\n",
       "</script> \n"
      ]
     },
     "metadata": {},
     "output_type": "display_data"
    }
   ],
   "source": [
    "// it may be necessary to play around with the chart dimensions and margin  in order to ensure a good fit on screen.\n",
    "val dim = 350\n",
    "\n",
    "// The canvas has an underlying grid. By default the underlying grid is 1x1, but we can pass in the dimensions we \n",
    "// require by passing in parameters in the constructor.\n",
    "Canvas(2, 2)\n",
    ".setChart(0, 0, chart1.setDimensions(width = dim, height = dim).setMargin(l=50, r=50, t=50, b=50))\n",
    ".setChart(0, 1, chart2.setDimensions(width = dim, height = dim)setMargin(l=50, r=50, t=50, b=50))\n",
    ".setChart(1, 0, chart3.setDimensions(width = dim, height = dim)setMargin(l=50, r=50, t=50, b=50))\n",
    ".setChart(1, 1, chart.setDimensions(width = dim, height = dim)setMargin(l=50, r=50, t=50, b=50))\n",
    ".plotInline"
   ]
  },
  {
   "cell_type": "markdown",
   "metadata": {},
   "source": [
    "#### Map\n",
    "\n",
    "We can also create maps using the composition technique below."
   ]
  },
  {
   "cell_type": "code",
   "execution_count": 38,
   "metadata": {},
   "outputs": [],
   "source": [
    "import org.carbonateresearch.picta.options.{Margin, Line}\n",
    "import org.carbonateresearch.picta.Map"
   ]
  },
  {
   "cell_type": "code",
   "execution_count": 39,
   "metadata": {},
   "outputs": [
    {
     "data": {
      "text/html": [
       "<div id=\"grid-container_5xAAlQ0WVb\" class=\"grid-container\" align=\"center\"> \n",
       "<div id=\"grid_5xAAlQ0WVb\" class=\"grid\" align=\"center\"> \n",
       "<div id=\"graph_l43RRIwtAp\" class=\"graph\"></div> \n",
       "</div> \n",
       "</div> \n",
       "<script>\n",
       "var masonry = new Macy({\n",
       "    container: '#grid_5xAAlQ0WVb',\n",
       "    debug: true,\n",
       "    mobileFirst: true,\n",
       "    columns: 1,\n",
       "    margin: {\n",
       "        x: 0,\n",
       "        y: 0\n",
       "    }\n",
       "  });\n",
       "\n",
       " var traces_l43RRIwtAp = [{\"name\":\"DPRqFK608Q\",\"lat\":[40.7127,51.5072],\"lon\":[-74.0059,0.1275],\"type\":\"scattergeo\",\"mode\":\"lines\",\"line\":{\"width\":2,\"color\":\"red\"}}];\n",
       " var layout_l43RRIwtAp = {\"height\":550,\"width\":600,\"hovermode\":\"closest\",\"legend\":{\"orientation\":\"v\"},\"showlegend\":true,\"geo\":{\"resolution\":50,\"showland\":true,\"showlakes\":true,\"coastlinewidth\":2,\"landcolor\":\"rgb(204, 204, 204)\",\"lakecolor\":\"rgb(255, 255, 255)\",\"lataxis\":{\"range\":[20,60],\"showgrid\":true,\"dtick\":10},\"lonaxis\":{\"range\":[-100,20],\"showgrid\":true,\"dtick\":10}},\"margin\":{\"l\":0,\"r\":0,\"t\":0,\"b\":0}};\n",
       " var config_l43RRIwtAp = {\"responsive\":false,\"scrollZoom\":false,\"displaylogo\":false};\n",
       " Plotly.newPlot(\"graph_l43RRIwtAp\", traces_l43RRIwtAp, layout_l43RRIwtAp, config_l43RRIwtAp);\n",
       "</script> \n"
      ]
     },
     "metadata": {},
     "output_type": "display_data"
    }
   ],
   "source": [
    "// draw a line on the map that is red\n",
    "val line = Line(width = 2) setColor \"red\"\n",
    "\n",
    "// construct the map Series. It is an XY chart as it takes in a List of Longitude and Latitude\n",
    "val series = Map(List(40.7127, 51.5072), List(-74.0059, 0.1275)) drawSymbol LINES drawLine line\n",
    "\n",
    "// These are options that further specify the options for the map\n",
    "val geo = MapOptions(landcolor = \"rgb(204, 204, 204)\", lakecolor = \"rgb(255, 255, 255)\")\n",
    "              .setMapAxes(LatAxis(List(20, 60)), LongAxis(List(-100, 20)))\n",
    "\n",
    "val chart = (\n",
    "    Chart() \n",
    "    addSeries series \n",
    "    setConfig(false, false)\n",
    "    setMapOptions geo\n",
    "    setMargin(l=0, r=0, t=0, b=0)\n",
    ")\n",
    "\n",
    "chart.plotInline"
   ]
  },
  {
   "cell_type": "markdown",
   "metadata": {},
   "source": [
    "### Animated Charts\n",
    "\n",
    "We can also create animated charts. This can be useful for tracking the evolution of a data over time.\n",
    "\n",
    "All `Series` types should be supported.\n",
    "\n",
    "#### 2D Animated Chart"
   ]
  },
  {
   "cell_type": "code",
   "execution_count": 40,
   "metadata": {},
   "outputs": [],
   "source": [
    "import org.carbonateresearch.picta.options.ColorOptions._\n",
    "\n",
    "// creates random XY for testing purposes\n",
    "def createXYSeries[T: Color]\n",
    "(numberToCreate: Int, count: Int = 0, length: Int = 10): List[XY[Int, Double, T, T]] = {\n",
    "    if (count == numberToCreate) Nil\n",
    "    else {\n",
    "      val xs = List.range(0, length)\n",
    "      val ys = xs.map(x => scala.util.Random.nextDouble() * x)\n",
    "      val series = XY(x = xs, y = ys, name = \"series \" + count).drawMarkers\n",
    "      series :: createXYSeries(numberToCreate, count + 1, length)\n",
    "    }\n",
    "}\n",
    "\n",
    "def createXYZSeries(numberToCreate: Int, count: Int = 0, length: Int = 10): List[XYZ[Int, Double, Double]] = {\n",
    "    if (count == numberToCreate) Nil\n",
    "    else {\n",
    "      val xs = List.range(0, length)\n",
    "      val ys = xs.map(x => scala.util.Random.nextDouble() * x)\n",
    "      val zs = xs.map(x => scala.util.Random.nextDouble() * x * scala.util.Random.nextInt())\n",
    "      val series = XYZ(x = xs, y = ys, z = zs, name = \"series \" + count, `type` = SCATTER3D).drawMarkers\n",
    "      series :: createXYZSeries(numberToCreate, count + 1, length)\n",
    "    }\n",
    "}"
   ]
  },
  {
   "cell_type": "code",
   "execution_count": 41,
   "metadata": {
    "scrolled": false
   },
   "outputs": [
    {
     "data": {
      "text/html": [
       "<div id=\"grid-container_a5VWHVlydV\" class=\"grid-container\" align=\"center\"> \n",
       "<div id=\"grid_a5VWHVlydV\" class=\"grid\" align=\"center\"> \n",
       "\n",
       "<div align=\"center\">\n",
       "  <div id=\"graph_vy7fDj6wR6\" class=\"graph\"></div>\n",
       "  <div class=\"animationInterface\">\n",
       "    <button id=\"play_vy7fDj6wR6\" class=\"picta-button\">Play</button>\n",
       "    <button id=\"pause_vy7fDj6wR6\" class=\"picta-button\">Pause</button>\n",
       "    <div id=\"sliderContainer_vy7fDj6wR6\" class=\"progressBar\"></div>\n",
       "    <div id=\"counterContainer_vy7fDj6wR6\" class=\"inline-div\">\n",
       "        <h3>Frame: </h3> <h3 id=\"value_vy7fDj6wR6\">0</h3>\n",
       "    </div>\n",
       "   </div>\n",
       "</div> \n",
       "\n",
       "</div> \n",
       "</div> \n",
       "<script>\n",
       "var masonry = new Macy({\n",
       "    container: '#grid_a5VWHVlydV',\n",
       "    debug: true,\n",
       "    mobileFirst: true,\n",
       "    columns: 1,\n",
       "    margin: {\n",
       "        x: 0,\n",
       "        y: 0\n",
       "    }\n",
       "  });\n",
       "\n",
       "var graph_vy7fDj6wR6 = document.getElementById('graph_vy7fDj6wR6')\n",
       "var traces_vy7fDj6wR6 = [{\"name\":\"series 0\",\"type\":\"scatter\",\"mode\":\"markers\",\"x\":[0,1,2,3,4,5,6,7,8,9,10,11,12,13,14,15,16,17,18,19,20,21,22,23,24,25,26,27,28,29],\"y\":[0,0.6385156544200228,0.3833400812855625,0.44146571237577514,3.212683303238152,3.0374063037930066,2.928796824356649,1.350513329588856,1.8217233984512466,8.606394498582807,8.611622125182487,10.96633926934367,4.625848287390983,5.880584781743496,12.757017256655,8.837488282777784,11.625612304642956,3.5781089942004503,1.8744475653879817,18.73018192705926,17.017786041656827,6.27700502624338,20.6049861116206,0.39861406986711223,19.485127856627336,19.211098959851483,17.896066724989595,26.73934333916857,6.417812620405449,4.916253399300513]}]\n",
       "var layout_vy7fDj6wR6 = {\"height\":550,\"width\":600,\"hovermode\":\"closest\",\"legend\":{\"orientation\":\"v\"},\"title\":{\"text\":\"Animation XY\"},\"showlegend\":true,\"xaxis\":{\"title\":{\"text\":\"X Variable\"},\"showgrid\":true,\"zeroline\":false,\"showline\":false,\"range\":[0,10]},\"yaxis\":{\"title\":{\"text\":\"Y Variable\"},\"showgrid\":true,\"zeroline\":false,\"showline\":false,\"range\":[0,10]}}\n",
       "var frames_vy7fDj6wR6 = [{\"name\":\"series 0\",\"data\":[{\"name\":\"series 0\",\"type\":\"scatter\",\"mode\":\"markers\",\"x\":[0,1,2,3,4,5,6,7,8,9,10,11,12,13,14,15,16,17,18,19,20,21,22,23,24,25,26,27,28,29],\"y\":[0,0.6385156544200228,0.3833400812855625,0.44146571237577514,3.212683303238152,3.0374063037930066,2.928796824356649,1.350513329588856,1.8217233984512466,8.606394498582807,8.611622125182487,10.96633926934367,4.625848287390983,5.880584781743496,12.757017256655,8.837488282777784,11.625612304642956,3.5781089942004503,1.8744475653879817,18.73018192705926,17.017786041656827,6.27700502624338,20.6049861116206,0.39861406986711223,19.485127856627336,19.211098959851483,17.896066724989595,26.73934333916857,6.417812620405449,4.916253399300513]}]},{\"name\":\"series 1\",\"data\":[{\"name\":\"series 1\",\"type\":\"scatter\",\"mode\":\"markers\",\"x\":[0,1,2,3,4,5,6,7,8,9,10,11,12,13,14,15,16,17,18,19,20,21,22,23,24,25,26,27,28,29],\"y\":[0,0.31719766440254193,1.6291903755224164,0.710879670473139,2.4439408854663833,2.2006955878753964,3.700446971064813,3.097187179717192,3.203937895454561,4.27597864469775,1.4687466917188619,5.959582391848817,10.476408020510355,0.06830957376165758,7.832377371739964,1.1463260095550187,1.3668202273019254,6.212062398160176,4.16574504337745,0.548665577028529,6.440939945947326,12.099314086411816,8.990407699437707,10.952832338405562,6.234302477336134,20.240051087896322,1.8079976217815152,3.7331565184446545,11.106492268408513,26.075421152774766]}]},{\"name\":\"series 2\",\"data\":[{\"name\":\"series 2\",\"type\":\"scatter\",\"mode\":\"markers\",\"x\":[0,1,2,3,4,5,6,7,8,9,10,11,12,13,14,15,16,17,18,19,20,21,22,23,24,25,26,27,28,29],\"y\":[0,0.1749401945731035,0.44455868956927325,2.8241406214031572,0.8681712383582774,2.2558890637300837,5.124601111844113,3.364828995125479,4.848091317977833,6.8295409142959285,7.683785153778948,1.2763687767900072,2.2549070864052028,2.097931150378759,11.381610410453609,9.357290972189075,2.2362517608811228,12.074767404989343,16.30145709194735,16.19358731479199,11.097201934384273,5.699163121649913,15.253273776923665,16.331408233576994,6.776523531700024,2.3724227053807527,25.386347190513693,14.715854756470787,7.465580049118447,1.8676388699668989]}]},{\"name\":\"series 3\",\"data\":[{\"name\":\"series 3\",\"type\":\"scatter\",\"mode\":\"markers\",\"x\":[0,1,2,3,4,5,6,7,8,9,10,11,12,13,14,15,16,17,18,19,20,21,22,23,24,25,26,27,28,29],\"y\":[0,0.0899826435594685,1.8012050492499112,0.8055149321777272,2.57777755347779,4.685187825813172,5.708083737167415,4.568807261322597,1.8685567643854446,1.7618335702937071,8.163865838052942,0.32631997633454324,5.433223625832618,7.646387819340506,3.158798873327161,9.798675920247264,10.462862889709175,12.563043907212975,0.29701591524048876,16.97907875927736,18.18973344671108,17.43500381546445,6.1343845380596544,6.704563536124766,11.767527434603904,2.678356381470351,25.7721307533762,11.164591674390438,8.649700363762378,27.422978534205647]}]},{\"name\":\"series 4\",\"data\":[{\"name\":\"series 4\",\"type\":\"scatter\",\"mode\":\"markers\",\"x\":[0,1,2,3,4,5,6,7,8,9,10,11,12,13,14,15,16,17,18,19,20,21,22,23,24,25,26,27,28,29],\"y\":[0,0.4838294530243623,0.8359094875017319,0.9647696141013947,1.384860039341135,3.621406253080604,4.469188839683275,3.908594572483644,1.4530579145899374,6.296908249053547,9.905255360865487,1.882449959264581,0.9842106403189641,9.564685613717012,0.3237391519091508,7.134440167129782,8.412197967340262,11.117644387463297,2.8445323169143526,7.287520596326986,3.722334417892832,13.6456974573873,9.465720173624538,10.761405151663032,13.089856612892842,3.2755707628449535,8.793633045531275,25.62454090124225,12.086684528675507,21.115573028034373]}]},{\"name\":\"series 5\",\"data\":[{\"name\":\"series 5\",\"type\":\"scatter\",\"mode\":\"markers\",\"x\":[0,1,2,3,4,5,6,7,8,9,10,11,12,13,14,15,16,17,18,19,20,21,22,23,24,25,26,27,28,29],\"y\":[0,0.7263059819765252,0.11469693281793325,1.4695682907325547,3.494231035531483,4.7929070949720085,3.1660324634224786,3.4017598795164927,5.5518110919390935,8.86842598784023,3.2988339199208774,7.180023962239534,11.469724350396456,7.414805820023011,0.21082369988353022,11.065867843707926,5.196390978291918,9.33686430109759,2.5283907736560023,11.9115428219879,7.004108381052774,20.329032152231406,12.170391941961526,3.915452126391256,23.442370802651116,17.744447956574454,6.883625820954059,23.243904256159997,14.036034212708781,12.281799286646052]}]},{\"name\":\"series 6\",\"data\":[{\"name\":\"series 6\",\"type\":\"scatter\",\"mode\":\"markers\",\"x\":[0,1,2,3,4,5,6,7,8,9,10,11,12,13,14,15,16,17,18,19,20,21,22,23,24,25,26,27,28,29],\"y\":[0,0.36947600588570884,0.6666205553064302,0.8854894811269112,3.6666707946212345,4.9271924608344895,5.114615456791386,5.795047780772131,6.9592766330386215,4.288149949319366,2.464318580770265,3.7022092248972553,10.907475594533377,9.630933676307349,6.455532122565722,4.556374420387765,3.918824898138988,15.26877002649713,5.333375635348196,1.744511263541211,11.076595616897531,2.950083909164213,5.320181568518139,17.53375473662475,23.573386859228286,18.7295297606632,22.44373011117291,24.679103433969463,16.048524444598353,4.9874143479981505]}]},{\"name\":\"series 7\",\"data\":[{\"name\":\"series 7\",\"type\":\"scatter\",\"mode\":\"markers\",\"x\":[0,1,2,3,4,5,6,7,8,9,10,11,12,13,14,15,16,17,18,19,20,21,22,23,24,25,26,27,28,29],\"y\":[0,0.5181205130771787,1.8276713279588714,2.8499334407619465,3.6767491329258264,3.5179724295238506,3.2268609028774673,4.105531254334403,0.16932739368058414,2.9257989110902507,5.023807885640858,1.731913101363142,11.951807932380273,12.110928184222892,8.478180445913345,8.655601141541897,8.001344044523037,7.603277317004721,16.336008708563906,18.11841501940306,0.738187190264934,9.94166516380127,12.702476636036113,9.117961606317964,19.304021652930334,15.674583919151472,15.582120479257792,26.140287568155372,2.4957383940392304,21.462756951544744]}]},{\"name\":\"series 8\",\"data\":[{\"name\":\"series 8\",\"type\":\"scatter\",\"mode\":\"markers\",\"x\":[0,1,2,3,4,5,6,7,8,9,10,11,12,13,14,15,16,17,18,19,20,21,22,23,24,25,26,27,28,29],\"y\":[0,0.21596928896424505,0.9836966710621973,0.1932160507013474,1.6490308965820746,4.304055964096818,0.262340660776736,5.9256951123338055,4.979755701043406,6.977456877250519,7.1196247673961155,8.482067893296518,2.2297699192176585,4.406326492319269,12.32515428884123,12.06136322699761,9.81418048942537,10.6132507969604,2.511071700624723,17.316928977283283,7.693196636935824,13.369237762062696,2.7243684429528763,22.457306839472686,11.894756008815335,0.20666663938083973,5.014743766045432,26.857331988846482,9.631676338552388,3.786906982203921]}]},{\"name\":\"series 9\",\"data\":[{\"name\":\"series 9\",\"type\":\"scatter\",\"mode\":\"markers\",\"x\":[0,1,2,3,4,5,6,7,8,9,10,11,12,13,14,15,16,17,18,19,20,21,22,23,24,25,26,27,28,29],\"y\":[0,0.2863434598222442,0.26200563349773587,2.0883316251044395,0.47265004881287975,0.15859433799529588,0.2047002668967468,0.13297013375117006,6.262388987118607,8.213503375333438,6.367931097106374,3.3393177759394517,9.255732156022352,0.2387516526939557,6.845595306199109,3.5836301992166115,14.97896411487188,7.89077396536668,3.88573874853322,17.316291296204373,3.6076152377772575,7.568027360138901,6.445678143226836,1.103220336349934,4.312859554574794,21.76872556817226,11.997913739574043,0.7961470279287138,6.158072949959,2.9542667950156485]}]},{\"name\":\"series 10\",\"data\":[{\"name\":\"series 10\",\"type\":\"scatter\",\"mode\":\"markers\",\"x\":[0,1,2,3,4,5,6,7,8,9,10,11,12,13,14,15,16,17,18,19,20,21,22,23,24,25,26,27,28,29],\"y\":[0,0.9463190546993748,0.026244921126224563,1.433604565828257,1.6228544850614903,1.0403725110050388,5.877333750619515,0.4983789887359106,6.20219370817791,7.780124241559471,7.6013282942226805,0.9285001816535301,9.982683756500295,11.000216379887876,9.220408153763058,4.611767437599802,3.446461146137951,13.476891690673032,5.46812133569506,17.313926195519787,12.389239111245498,20.970081077888967,1.520201074006176,8.75788642477761,17.365749038032767,6.962869582978634,17.93793602481783,19.95746791476229,3.9709869537487643,6.726313005335385]}]},{\"name\":\"series 11\",\"data\":[{\"name\":\"series 11\",\"type\":\"scatter\",\"mode\":\"markers\",\"x\":[0,1,2,3,4,5,6,7,8,9,10,11,12,13,14,15,16,17,18,19,20,21,22,23,24,25,26,27,28,29],\"y\":[0,0.4698386104250557,0.2035470059971154,1.398764182108783,2.222469785582324,3.5206298432286665,5.9163320199934475,5.815365031866087,4.6192026032600335,2.7873240986259704,4.442634914332312,6.678134388673655,7.07602821192609,6.351739131955164,7.200756272306662,13.561130911794136,12.716105809795824,6.348430689644194,1.4438372867168663,4.046715920725631,9.642925695838118,18.83246125241359,0.8023694161266215,4.452537373668168,1.4053109096838794,22.517113421094926,19.006340849179086,7.599040322077924,1.961744206098082,1.5176375348572058]}]},{\"name\":\"series 12\",\"data\":[{\"name\":\"series 12\",\"type\":\"scatter\",\"mode\":\"markers\",\"x\":[0,1,2,3,4,5,6,7,8,9,10,11,12,13,14,15,16,17,18,19,20,21,22,23,24,25,26,27,28,29],\"y\":[0,0.6341414285526499,0.6360140469945086,1.9095180296300347,2.107094369366587,1.3343533067866664,3.8170472183030046,4.94650330061252,6.072461261559454,8.704317461792131,0.18892765095920305,4.331483731793235,9.31856781970285,9.410474212827058,7.951382057374462,5.942263546668595,9.06715948030093,16.283879841878942,2.8957285830887196,15.24517486073729,12.736128774561553,16.772798176786143,18.342827056716,10.046611593383961,0.43539847567824985,0.4335905688151537,16.1012083520581,23.181631043645517,2.0357470519128147,28.833603753056604]}]},{\"name\":\"series 13\",\"data\":[{\"name\":\"series 13\",\"type\":\"scatter\",\"mode\":\"markers\",\"x\":[0,1,2,3,4,5,6,7,8,9,10,11,12,13,14,15,16,17,18,19,20,21,22,23,24,25,26,27,28,29],\"y\":[0,0.9940816887808022,1.0132025541910055,0.838734623474138,0.25349611868069566,0.6885268556066115,4.539958897481851,6.193673387247951,5.032008843569968,6.450408319541556,8.35921032526147,4.785543330589442,0.6382258859003955,10.186225168174362,11.182859688901347,10.588008811410825,9.864489296188351,11.433488718658449,3.9240840733829288,16.54993175059051,2.936977275775585,13.392613959015836,9.980411902560151,22.890321223991602,8.148752555907237,14.369258579883754,0.9785469104313054,24.834481389570904,2.816054860584826,3.546039732966111]}]},{\"name\":\"series 14\",\"data\":[{\"name\":\"series 14\",\"type\":\"scatter\",\"mode\":\"markers\",\"x\":[0,1,2,3,4,5,6,7,8,9,10,11,12,13,14,15,16,17,18,19,20,21,22,23,24,25,26,27,28,29],\"y\":[0,0.7108694278846217,1.8150533132659317,1.6097844258125913,1.6169126518074712,1.3252373636260488,2.959305870892983,5.170604463119263,6.594759696600474,4.513062491609256,1.228926094629228,9.273927122489056,9.12029176706501,10.504075867052297,5.00528120689045,4.451585606309852,7.0886999004861515,0.9403705432322268,8.537432307009924,9.081927626887877,1.2859088691143805,11.409056375225,14.30029348087136,5.447951914137873,12.985265485366261,17.591193862575675,15.69402524976539,10.642332256180461,9.045452680367676,7.126900999217513]}]},{\"name\":\"series 15\",\"data\":[{\"name\":\"series 15\",\"type\":\"scatter\",\"mode\":\"markers\",\"x\":[0,1,2,3,4,5,6,7,8,9,10,11,12,13,14,15,16,17,18,19,20,21,22,23,24,25,26,27,28,29],\"y\":[0,0.6578815565430671,0.9760611849975851,2.1109417791442193,3.8130490058244564,3.827987451033881,2.902851794401971,0.13277305774374704,4.4895931068853905,8.238768965206122,1.3669282003868088,9.65221600251901,6.613386589562086,9.225684890145256,13.5090588045258,0.09092649836335787,1.1737626485984833,15.344971449832103,7.400691556011054,10.122182810980393,2.798645326014384,4.568259954619479,7.460303428134086,18.717823508731815,10.170393874435586,9.434732540690835,0.7246908885309438,22.690139146053312,3.033880967240278,8.155559256841581]}]},{\"name\":\"series 16\",\"data\":[{\"name\":\"series 16\",\"type\":\"scatter\",\"mode\":\"markers\",\"x\":[0,1,2,3,4,5,6,7,8,9,10,11,12,13,14,15,16,17,18,19,20,21,22,23,24,25,26,27,28,29],\"y\":[0,0.4507089164326996,0.6655370919682635,2.8461747110984743,2.9752973006623575,0.47759627226412193,5.58307701400004,3.1888862536375653,3.317546801728011,7.467302099558836,9.701138514269775,6.4495616609468165,9.315311124388803,6.986639666581435,0.9980625790874404,5.148337060324971,7.718491548830913,2.3221864891867092,10.665433734639663,14.5512053408989,5.777035489762412,13.734121132816316,12.412879736260738,17.050746654777775,10.415421648337789,15.367940266114758,17.581402407883935,16.56993489043633,2.4731344234744888,4.255618573502168]}]},{\"name\":\"series 17\",\"data\":[{\"name\":\"series 17\",\"type\":\"scatter\",\"mode\":\"markers\",\"x\":[0,1,2,3,4,5,6,7,8,9,10,11,12,13,14,15,16,17,18,19,20,21,22,23,24,25,26,27,28,29],\"y\":[0,0.4376629281944805,0.253475910046419,1.6999180592039396,2.5053501532086457,3.3215834315528108,5.560239777106754,6.874162779533157,5.331321902842062,8.053816696943267,5.032455184340941,6.862580317525239,4.746287950963025,1.2146332510848317,0.7438672330880327,3.0649441462081257,11.124374170856196,5.287901648770794,16.207279141163664,11.117972636874995,11.866356106099547,11.349910457605462,20.022811797733358,10.058825592135015,14.219759614757505,19.87098615091837,17.393190499697287,10.104436888471445,25.7255723165678,25.618411840173817]}]},{\"name\":\"series 18\",\"data\":[{\"name\":\"series 18\",\"type\":\"scatter\",\"mode\":\"markers\",\"x\":[0,1,2,3,4,5,6,7,8,9,10,11,12,13,14,15,16,17,18,19,20,21,22,23,24,25,26,27,28,29],\"y\":[0,0.24856792017499674,0.8784429006533914,1.9299304751193993,3.4917322713528827,4.589227739337682,5.988512974387576,4.055015196202941,1.175886062690541,7.230435800458699,5.725674955288484,10.571753614304063,1.060183660082492,12.9309582433821,13.43148095814602,6.509675062506947,4.904459044560651,8.230983122806883,12.042746041287332,2.065433365750509,11.421997607127688,7.481216240479686,7.186687865083213,21.020246164422975,23.314350414524945,10.011649369457912,4.080933788280537,19.412016189666797,8.768695203570331,19.43369410347707]}]},{\"name\":\"series 19\",\"data\":[{\"name\":\"series 19\",\"type\":\"scatter\",\"mode\":\"markers\",\"x\":[0,1,2,3,4,5,6,7,8,9,10,11,12,13,14,15,16,17,18,19,20,21,22,23,24,25,26,27,28,29],\"y\":[0,0.3636991567685398,0.32842667649155266,2.897109137723944,1.659107023070261,1.3442335346273886,4.54148057051863,0.607343409425566,6.865389888847406,6.681027512166771,9.033252128820282,10.632292691058835,5.54894029648883,5.7981542816224945,2.616799449370485,7.204028091340558,15.25937203247001,12.610694499268801,17.220737081112862,15.210838102903391,2.051457359274149,16.751042814154747,1.5153757923851885,15.276296349392837,3.6540744502691123,10.022980092150588,23.294698270711233,21.806257683921885,20.135821529469375,11.608756166473487]}]},{\"name\":\"series 20\",\"data\":[{\"name\":\"series 20\",\"type\":\"scatter\",\"mode\":\"markers\",\"x\":[0,1,2,3,4,5,6,7,8,9,10,11,12,13,14,15,16,17,18,19,20,21,22,23,24,25,26,27,28,29],\"y\":[0,0.1329456317084009,1.5569092224568466,1.7338194292142446,2.3823113587862568,4.358155889606661,1.1375744898605085,3.7694032902543873,0.2124347860599345,1.16807005422857,7.123332408412883,9.846895635466343,6.864018515375849,9.326158622164392,8.66063385374304,9.466145239106831,6.2302377989125475,1.56311036401444,14.654546944838632,0.3576322987278868,16.13311713527752,12.164642156240175,18.694086523635512,20.54025885429566,21.56066057773187,19.34751738847792,8.4406337655517,10.459909171807,26.540181622508562,4.835066661398151]}]},{\"name\":\"series 21\",\"data\":[{\"name\":\"series 21\",\"type\":\"scatter\",\"mode\":\"markers\",\"x\":[0,1,2,3,4,5,6,7,8,9,10,11,12,13,14,15,16,17,18,19,20,21,22,23,24,25,26,27,28,29],\"y\":[0,0.47131610276634184,1.0473738327925846,1.7981669810353866,0.29121519395367024,3.759853782476438,0.21571955402973697,0.7211618723299674,1.6805248148914167,0.3840489079977044,9.32710368897166,0.47390707360814177,6.875968055926192,1.8390244915800267,2.0462708033830728,3.9383123584204567,1.767378005628542,1.9100527826425344,0.09480092821932695,1.7595875282248985,6.872830849861861,2.4453257129550243,13.064854656441726,15.703253337040644,15.315548382280381,12.532735424357103,11.762073617554266,2.4774290064719033,0.8235364483920034,12.310623058499976]}]},{\"name\":\"series 22\",\"data\":[{\"name\":\"series 22\",\"type\":\"scatter\",\"mode\":\"markers\",\"x\":[0,1,2,3,4,5,6,7,8,9,10,11,12,13,14,15,16,17,18,19,20,21,22,23,24,25,26,27,28,29],\"y\":[0,0.976274985505793,1.466742854149374,2.281594708449329,0.23146696661295296,2.5780422667109453,0.9539709345422009,2.9443844678553237,4.300850139775833,3.773793672256236,5.800326579318873,5.508507371033242,3.746678153542879,6.219485701652969,8.686085201757258,12.986703045577354,3.6013332557843984,2.409036814245612,6.5018864888422865,16.641276893810975,9.171751878338357,0.5250797017347598,4.09419357275165,22.241814270113665,19.009207727190688,2.369765874959853,11.676727203890472,19.113301676557388,6.161361322753503,14.684991045934444]}]},{\"name\":\"series 23\",\"data\":[{\"name\":\"series 23\",\"type\":\"scatter\",\"mode\":\"markers\",\"x\":[0,1,2,3,4,5,6,7,8,9,10,11,12,13,14,15,16,17,18,19,20,21,22,23,24,25,26,27,28,29],\"y\":[0,0.7724712647634335,0.2622038017354089,2.1677494786987435,0.9452664977317751,4.96366557786462,4.3679212959083795,4.1337126914789595,4.356962026626,2.557487598015166,0.0868805522821503,5.634812526603193,0.7882246515204834,10.059134111849119,5.893010401336771,10.634849923126291,1.8221096053042913,15.343203811496087,4.561696512926648,16.141614468705377,19.310548078771372,13.076509703790695,20.536001497020965,22.771464429624583,13.199244466616475,1.6339891514376843,17.237698665299867,23.08586867991571,4.127700447485031,6.2353550639463275]}]},{\"name\":\"series 24\",\"data\":[{\"name\":\"series 24\",\"type\":\"scatter\",\"mode\":\"markers\",\"x\":[0,1,2,3,4,5,6,7,8,9,10,11,12,13,14,15,16,17,18,19,20,21,22,23,24,25,26,27,28,29],\"y\":[0,0.979470319419462,0.8006836104939352,0.5838823179174818,2.0962649369967585,0.6338524832843095,2.841068357257309,5.174121346601972,4.846956478744974,6.292592697823392,3.824007978497036,3.461874953824244,10.679906845361288,7.3517988534699965,4.906120082457071,1.904940961053705,0.2666890153838093,14.36858359179452,9.94817527663837,18.144226033197175,0.21003832203636108,14.866164249285575,16.649599141970658,7.91829848369068,6.468889774766873,4.380739529580868,4.729324015063922,5.400587442955828,15.629467836425528,7.063047875094589]}]},{\"name\":\"series 25\",\"data\":[{\"name\":\"series 25\",\"type\":\"scatter\",\"mode\":\"markers\",\"x\":[0,1,2,3,4,5,6,7,8,9,10,11,12,13,14,15,16,17,18,19,20,21,22,23,24,25,26,27,28,29],\"y\":[0,0.2292451543346421,1.6637581011751303,1.159894812565979,3.6718302920017107,0.0065560593057534255,3.277324128326455,4.492937955231396,7.509061659323986,5.559319231947892,0.8540807881594636,0.3958493641829661,0.8258578297851935,1.465379414243888,1.1439761685467313,0.9637211229621262,8.636943384267694,12.626574431664075,12.46120599184736,5.7107770376640365,1.7477900680740022,5.543680085456532,7.689339021766787,22.71832504781806,2.989892324863418,3.687948579208522,2.7970608388424827,17.084732664331497,16.530188685788975,12.612527186495186]}]},{\"name\":\"series 26\",\"data\":[{\"name\":\"series 26\",\"type\":\"scatter\",\"mode\":\"markers\",\"x\":[0,1,2,3,4,5,6,7,8,9,10,11,12,13,14,15,16,17,18,19,20,21,22,23,24,25,26,27,28,29],\"y\":[0,0.21543973599552257,1.2246761688777663,1.797920729643782,2.0299996697233667,3.0409132381384834,2.9588458014830135,2.4067573302338348,1.0445767027624786,1.7981067384831797,5.589398279093185,8.174029240268123,7.836895979112533,6.7357289306444335,1.2986790078935178,7.700785640943774,1.9232135048668244,14.52834809338899,16.493623062193922,9.17763950212721,9.173218950954944,10.655841664238634,3.981094378889657,12.12682018079583,4.484091237924207,7.032780019852991,15.130259851296064,8.910775103650383,7.977431866043158,8.934649855371696]}]},{\"name\":\"series 27\",\"data\":[{\"name\":\"series 27\",\"type\":\"scatter\",\"mode\":\"markers\",\"x\":[0,1,2,3,4,5,6,7,8,9,10,11,12,13,14,15,16,17,18,19,20,21,22,23,24,25,26,27,28,29],\"y\":[0,0.3406642508316019,1.6738287001408054,0.2560616639999993,2.7807565896877637,1.0185491375374571,1.3540445246437973,6.0898763420119115,2.068502060901009,6.825311073333919,9.86666156491896,2.294600474184855,10.651886138014502,5.552425425607166,12.717994971500245,6.582723145094855,2.146140113422005,7.533001197117799,10.885042094532094,8.61450468820578,18.88664554788321,18.948368324379246,12.70890575793097,20.305166821202295,12.47571219088733,1.7007170597537673,19.272599968225673,3.351626666817266,16.319467934624555,20.453694679584]}]},{\"name\":\"series 28\",\"data\":[{\"name\":\"series 28\",\"type\":\"scatter\",\"mode\":\"markers\",\"x\":[0,1,2,3,4,5,6,7,8,9,10,11,12,13,14,15,16,17,18,19,20,21,22,23,24,25,26,27,28,29],\"y\":[0,0.3180797147087383,1.3435396306234517,1.428222946363075,2.3526044288522563,2.3105297310656105,1.84589600520211,4.119260797975004,6.614495193573977,3.008240585667617,7.447093120432159,10.560068995899718,5.578142436644519,10.39203683725032,7.648999116791488,1.931421279839019,13.353954487540166,6.302582187509509,7.425088103966532,0.49357515620038406,17.484498580166647,12.759173443399893,11.5502121592597,11.73162918542875,15.486414645921801,1.1096178721930778,4.55119868907264,6.862075634135034,0.6503818701250941,25.147590324223856]}]},{\"name\":\"series 29\",\"data\":[{\"name\":\"series 29\",\"type\":\"scatter\",\"mode\":\"markers\",\"x\":[0,1,2,3,4,5,6,7,8,9,10,11,12,13,14,15,16,17,18,19,20,21,22,23,24,25,26,27,28,29],\"y\":[0,0.17790848686231098,0.2253918172550018,1.4381991549449005,2.734032440337641,0.5978623542965528,2.7157283517492266,3.0325673388633647,7.443550536587481,7.693034439637806,7.456115404564122,10.344185649199765,7.992187051145477,11.525718638100544,9.387085170505046,4.851491650950362,14.677481502695628,11.126348367750035,5.74041953664011,6.063170961175184,5.714817067424038,19.74255778553331,20.54963961767992,2.389435631912721,12.026986552803297,7.091282375832475,24.034404171021432,7.451882096135503,0.37708013866813817,4.84239651780402]}]},{\"name\":\"series 30\",\"data\":[{\"name\":\"series 30\",\"type\":\"scatter\",\"mode\":\"markers\",\"x\":[0,1,2,3,4,5,6,7,8,9,10,11,12,13,14,15,16,17,18,19,20,21,22,23,24,25,26,27,28,29],\"y\":[0,0.7987767666768276,0.7800647065721886,1.7061322502575624,1.9211718363884294,0.43412807366069006,2.0798913255790357,1.7545859239117252,4.05658139546853,8.995714353711117,9.571280607692476,8.764294971255804,11.628802314056088,6.445075372037623,13.397970064212691,14.890937282414399,13.253725884431612,1.6874213304619725,1.5485466061500799,11.558979332091585,18.46328546234479,2.631167238380981,2.1699349550503713,0.5577052910436908,15.1880452799439,20.709261281464958,10.711437756983537,11.632879887973836,25.986684316829606,7.068656111489586]}]},{\"name\":\"series 31\",\"data\":[{\"name\":\"series 31\",\"type\":\"scatter\",\"mode\":\"markers\",\"x\":[0,1,2,3,4,5,6,7,8,9,10,11,12,13,14,15,16,17,18,19,20,21,22,23,24,25,26,27,28,29],\"y\":[0,0.5203380979110086,0.9112445905528235,1.5507355038266382,2.661001873296387,3.4501841755771023,0.9748157974827285,6.59091596302764,0.6664694488898251,7.031996687196328,9.785706318684124,8.3564816166368,0.887648318001538,3.757853349893873,3.4226533576862304,0.24976333092722125,0.93418439891947,13.492889549440093,16.1402365261985,7.78443244285775,0.666668108621169,1.9378953207565797,19.89596782835271,2.7586064214976567,6.756817716798065,3.3510286916105136,2.3144123018841167,2.0511374091034806,13.951776126990978,11.676704257728858]}]},{\"name\":\"series 32\",\"data\":[{\"name\":\"series 32\",\"type\":\"scatter\",\"mode\":\"markers\",\"x\":[0,1,2,3,4,5,6,7,8,9,10,11,12,13,14,15,16,17,18,19,20,21,22,23,24,25,26,27,28,29],\"y\":[0,0.9616992996108562,1.8057109536388074,2.488389184237769,1.9546618274292724,2.755420851857791,4.839857884371559,4.696204837738539,5.296665750126361,5.66596123402268,6.692323206941527,0.41333673209465494,3.5550819491172296,10.982349615726532,12.457709107793246,13.87019146368323,8.599125034252529,5.420741363890597,8.158661134317708,12.529068389515764,8.631579873258353,15.728891551352948,1.7169651178436351,15.091194326856389,11.642771997477043,0.659267070739708,18.173664689563434,6.712684058954378,10.299246606870042,3.1925471906108207]}]},{\"name\":\"series 33\",\"data\":[{\"name\":\"series 33\",\"type\":\"scatter\",\"mode\":\"markers\",\"x\":[0,1,2,3,4,5,6,7,8,9,10,11,12,13,14,15,16,17,18,19,20,21,22,23,24,25,26,27,28,29],\"y\":[0,0.15590832117285702,1.319098224840388,0.023145627829164406,3.4660428587075534,4.149727255644812,4.458164052482581,1.6413842795455267,7.867681822922156,4.789114868800759,3.0162258712890444,0.5480151894268122,2.489067451166519,6.379872153999738,5.503492976555569,1.544611164295372,13.057095413273546,15.34309103807064,13.318288353964691,16.31613182247359,9.06344514545234,18.026480356762843,15.427461768692364,7.3553819971786645,13.661182264033625,12.451547348386368,9.728353693821754,3.0749038072752164,6.954142147672823,23.982209196895763]}]},{\"name\":\"series 34\",\"data\":[{\"name\":\"series 34\",\"type\":\"scatter\",\"mode\":\"markers\",\"x\":[0,1,2,3,4,5,6,7,8,9,10,11,12,13,14,15,16,17,18,19,20,21,22,23,24,25,26,27,28,29],\"y\":[0,0.9721704504539558,0.8927149838996626,1.998226714812711,1.6426567037648327,4.9463879257711785,2.4660221841188315,1.0267455616631747,2.211322637077436,7.434348197069861,4.601559013592791,0.12841178775760498,4.424553706958278,2.5060300343114243,4.924827185476685,11.086620378597072,4.122992493012781,9.076055648540919,3.53469617853528,3.1396042186525106,12.562174297608726,17.30152381305249,5.154515176944293,19.58817255040173,1.2053768307322734,19.50800218760792,21.54226339912731,24.693593672652455,15.033271434792058,17.431318703140768]}]},{\"name\":\"series 35\",\"data\":[{\"name\":\"series 35\",\"type\":\"scatter\",\"mode\":\"markers\",\"x\":[0,1,2,3,4,5,6,7,8,9,10,11,12,13,14,15,16,17,18,19,20,21,22,23,24,25,26,27,28,29],\"y\":[0,0.4144227201174836,0.3965727383390536,1.6237832961558811,3.3620746675430877,3.4492690610457766,5.09443645124079,1.815176792062556,2.391881713116062,1.915198181651646,1.237592464189412,9.707372708370354,1.965239449668434,8.316309278051554,7.162743551831119,2.527850931462817,12.491279475130913,12.565421502638202,13.24645766000768,18.493499888722756,13.733928521405447,16.522370263689385,1.554217713232666,10.901653345243153,2.965098192014005,20.917107638289032,13.354743366671501,6.516508795049924,9.597516030571645,0.023685172379265484]}]},{\"name\":\"series 36\",\"data\":[{\"name\":\"series 36\",\"type\":\"scatter\",\"mode\":\"markers\",\"x\":[0,1,2,3,4,5,6,7,8,9,10,11,12,13,14,15,16,17,18,19,20,21,22,23,24,25,26,27,28,29],\"y\":[0,0.30917040002863194,1.6765632340298584,1.4971591992290216,0.8188010814427149,4.217899110896457,1.4079139977481427,5.445402147160269,1.8652771331732136,7.9380149961974675,8.05667904694953,4.825064523109633,6.437630264055828,11.445864562557752,7.018358653479115,0.958221602466986,6.1565053570753765,8.248751140620062,16.57429241383499,5.455354822385337,11.656241326733383,0.5851615980048623,19.47260464517114,14.034274181426223,11.674789003473762,18.291927812095715,3.502573012507077,14.617378267848819,19.082140268911136,14.887304457430643]}]},{\"name\":\"series 37\",\"data\":[{\"name\":\"series 37\",\"type\":\"scatter\",\"mode\":\"markers\",\"x\":[0,1,2,3,4,5,6,7,8,9,10,11,12,13,14,15,16,17,18,19,20,21,22,23,24,25,26,27,28,29],\"y\":[0,0.6007086902823771,0.4024285592286998,1.6959359160034977,2.901551975089467,3.0908122750414666,0.2808468224976215,4.284642702139438,1.59783855054037,4.838302482625062,8.19406049260592,9.334798013264836,10.559507081763565,8.198757796941688,6.603706021067078,1.3274327821814391,6.83425400247542,10.615589929301676,9.796836089070432,10.96981087482552,18.408154644717044,15.760496951096538,16.813914644480185,5.962875535818498,5.081389220361979,3.3814527734940816,14.372825725621759,0.6297914418630042,21.128975610435283,7.772766429981647]}]},{\"name\":\"series 38\",\"data\":[{\"name\":\"series 38\",\"type\":\"scatter\",\"mode\":\"markers\",\"x\":[0,1,2,3,4,5,6,7,8,9,10,11,12,13,14,15,16,17,18,19,20,21,22,23,24,25,26,27,28,29],\"y\":[0,0.6035246974603226,1.6244220017539477,1.5215290829919859,1.4053490323737639,1.779598974691468,2.30883702008441,5.002957571717652,3.3977139071438387,0.8646995602094364,2.8742390855387576,1.601201337170188,2.344770529112876,7.063299568462969,7.778301100406601,9.906676836374366,5.305209053773247,11.716584598106303,13.686371894164262,3.4110548389991284,11.866784097921242,12.26614107343151,19.213403295541074,1.1350239469902061,0.2111064515121912,15.479155507341147,1.0008573917304615,17.718636752060096,4.573552682678233,10.72593917937386]}]},{\"name\":\"series 39\",\"data\":[{\"name\":\"series 39\",\"type\":\"scatter\",\"mode\":\"markers\",\"x\":[0,1,2,3,4,5,6,7,8,9,10,11,12,13,14,15,16,17,18,19,20,21,22,23,24,25,26,27,28,29],\"y\":[0,0.18718222165118048,0.40076125960987197,1.388583503348165,3.189881318193083,4.561658280351438,2.179510720225297,5.1099234517543675,4.860202927515726,6.693765866942667,2.9577658319010114,1.3277435588655027,9.419899453772725,1.4374742717717337,12.079643808313257,6.885498756684952,9.79623710729548,6.520102459068868,17.145247657869525,2.8742673459896624,15.04327220955825,3.785970995378898,12.71430994536433,8.68494989384186,7.018240187918352,22.195659992336815,15.841432089575779,3.609097686589151,1.9371369818999042,18.83684579138965]}]},{\"name\":\"series 40\",\"data\":[{\"name\":\"series 40\",\"type\":\"scatter\",\"mode\":\"markers\",\"x\":[0,1,2,3,4,5,6,7,8,9,10,11,12,13,14,15,16,17,18,19,20,21,22,23,24,25,26,27,28,29],\"y\":[0,0.7275925577066077,1.1992586004485157,2.6450221589338128,3.136020305373785,4.916208275593689,1.3947339358187414,0.7536958496544476,6.345332057768921,4.0717386122277475,0.5915719287515242,5.81794183531841,3.616336616749187,5.155709451458914,10.082198954165644,4.291573337148851,1.1284171062217272,2.773753512996954,8.761724796348167,15.361436144705882,16.88834233451214,17.882253664501008,19.87222383900278,22.910264212432804,15.171238677825027,21.033452793706243,21.66354400206531,6.36146589580365,13.29352088330927,24.29712969621943]}]},{\"name\":\"series 41\",\"data\":[{\"name\":\"series 41\",\"type\":\"scatter\",\"mode\":\"markers\",\"x\":[0,1,2,3,4,5,6,7,8,9,10,11,12,13,14,15,16,17,18,19,20,21,22,23,24,25,26,27,28,29],\"y\":[0,0.41140064598986714,0.3427759606182539,1.737116736684977,2.9544778800222242,0.7026000352483625,0.09483622968699135,1.7114254421815394,0.5181910732376513,3.908427439674022,3.2697837175776865,9.980467118273816,7.542820605996579,11.29400677243511,6.210436238483365,1.1909076518295247,1.8559073728973399,2.2623056427114614,16.153665794670093,9.756815896605852,8.681993892836783,10.831784939597446,14.959211136200427,21.782370926607122,0.7513957630808417,12.244637048514948,22.718306159779765,10.756626255721384,7.491478866494486,1.7209742651360993]}]},{\"name\":\"series 42\",\"data\":[{\"name\":\"series 42\",\"type\":\"scatter\",\"mode\":\"markers\",\"x\":[0,1,2,3,4,5,6,7,8,9,10,11,12,13,14,15,16,17,18,19,20,21,22,23,24,25,26,27,28,29],\"y\":[0,0.9602775178194817,0.49102880539193294,2.8367638053397286,2.240147959760381,3.8686901195860077,3.8178999705252687,0.020155557800627943,7.791547265502808,0.10299682907313623,8.11356350169486,5.3127703017851955,3.609365326474177,3.267495636459958,0.37119084942777425,13.40092487493669,0.19454807360080117,9.84898387039096,8.924575857241113,4.418451150851859,11.71223740089582,2.6056917438653415,20.650276454512415,7.515885473021328,0.8126529342273692,12.430571811931623,15.290639389610654,22.75511202772607,15.396299519577454,22.90480736786159]}]},{\"name\":\"series 43\",\"data\":[{\"name\":\"series 43\",\"type\":\"scatter\",\"mode\":\"markers\",\"x\":[0,1,2,3,4,5,6,7,8,9,10,11,12,13,14,15,16,17,18,19,20,21,22,23,24,25,26,27,28,29],\"y\":[0,0.3040860113172873,1.5561487390502144,1.0732934652690989,1.5059618052064478,0.5056077520777852,0.8470514785071037,4.333508607168147,5.492579808636126,0.46798027186656854,7.269830712258325,5.291359786542346,6.0101007277804435,7.080060401990993,6.599173970070578,12.255391568687445,10.148294698614622,11.40207271150158,13.697522754014154,11.796722495268178,12.760518013588129,1.0167283020007774,2.712779976218895,1.8593442060327683,9.006578776656415,5.564378492116867,9.674519570144273,22.565853254702702,6.3608692918428,18.279922628732454]}]},{\"name\":\"series 44\",\"data\":[{\"name\":\"series 44\",\"type\":\"scatter\",\"mode\":\"markers\",\"x\":[0,1,2,3,4,5,6,7,8,9,10,11,12,13,14,15,16,17,18,19,20,21,22,23,24,25,26,27,28,29],\"y\":[0,0.10293981771309435,0.1554446129893685,0.3742540700376773,0.32188409458936373,0.9987649486895706,1.150915671718251,6.7196078052996695,0.08281133105135385,1.9898072477399182,7.230463879683112,10.550681095489235,11.377858123511277,3.6314095369197408,12.1234238387665,4.6526859443772794,0.588070766026151,13.02295946201815,10.840713448204461,1.1965532183928493,6.700563659768346,11.59469304048452,12.783389090021686,21.622103126759484,1.8693607364035438,22.690241596459813,23.932050672013823,13.8534210630907,8.153785913892737,5.594014208194138]}]},{\"name\":\"series 45\",\"data\":[{\"name\":\"series 45\",\"type\":\"scatter\",\"mode\":\"markers\",\"x\":[0,1,2,3,4,5,6,7,8,9,10,11,12,13,14,15,16,17,18,19,20,21,22,23,24,25,26,27,28,29],\"y\":[0,0.14673383225860748,0.924873265860273,0.1489847996803899,3.366274296641012,1.837792570435709,1.3831412782909949,6.320828870138933,4.019012485394396,4.271600579340923,4.775192641343232,0.8285247963958623,6.6640630580465,3.6087865421769325,10.914541636116999,10.630127729806118,12.574550572612415,13.957062664284775,16.319935484991202,18.860146224360477,3.974188596433643,17.49785448034801,20.836306187077753,20.80473977295701,21.077355606596264,10.630437501419355,17.651183370509067,21.10974618700512,19.976946127891466,7.421644641821633]}]},{\"name\":\"series 46\",\"data\":[{\"name\":\"series 46\",\"type\":\"scatter\",\"mode\":\"markers\",\"x\":[0,1,2,3,4,5,6,7,8,9,10,11,12,13,14,15,16,17,18,19,20,21,22,23,24,25,26,27,28,29],\"y\":[0,0.5672987321603145,1.0574792641208042,2.9412990616036856,2.5940071051257685,2.4740490016758,5.833597431014261,2.1103221630069253,5.954575893794428,2.8440669422906293,9.801106152209105,3.9164772112036905,9.30054533242234,11.79881069868942,10.57171876187629,7.297698321262198,15.146876857517583,4.159052950473719,17.617515496013027,12.710953193427644,4.461020775088049,5.812785914745126,8.98140892054857,0.039848625294456985,7.30899340683751,5.062318087127982,2.6668583763006817,18.693488162324115,4.228394891268569,0.013351411700121663]}]},{\"name\":\"series 47\",\"data\":[{\"name\":\"series 47\",\"type\":\"scatter\",\"mode\":\"markers\",\"x\":[0,1,2,3,4,5,6,7,8,9,10,11,12,13,14,15,16,17,18,19,20,21,22,23,24,25,26,27,28,29],\"y\":[0,0.9253051700971865,0.19288059896804,2.544786673719219,0.4517746129943232,4.196598681216027,1.255138424670072,1.6410829282975348,1.4221755902758026,5.3969452902235,3.1464160013028386,1.6922081981560684,3.4551003638987163,2.74442152047206,0.22004176335901726,11.473378678518472,11.076464262419076,4.843983569901772,2.198377952553545,5.381595409178774,18.87558543205081,9.383130131880195,2.87339438937502,15.817190746658078,18.733388307267926,11.310139721433178,20.435739761508117,0.613670705643623,16.85097418426583,10.546244267573146]}]},{\"name\":\"series 48\",\"data\":[{\"name\":\"series 48\",\"type\":\"scatter\",\"mode\":\"markers\",\"x\":[0,1,2,3,4,5,6,7,8,9,10,11,12,13,14,15,16,17,18,19,20,21,22,23,24,25,26,27,28,29],\"y\":[0,0.6956696650743696,0.2609050903113532,0.9932453775840182,1.9266602113378468,0.9386284492688962,3.0456813803139484,4.381111812819323,7.7609927197122905,0.21745970206126308,3.7416074379570485,6.280083032196314,7.352410773821142,8.871673174598119,6.433862534252198,13.95649139553306,6.4120088176561225,6.053701364639801,14.778476491341053,2.5790146979115596,10.808606352858952,2.8951954463068974,3.386064258943879,10.305385278172752,19.134481419178787,5.924583945841055,13.754442943706755,21.310749597677418,24.308897038432786,8.817849688895746]}]},{\"name\":\"series 49\",\"data\":[{\"name\":\"series 49\",\"type\":\"scatter\",\"mode\":\"markers\",\"x\":[0,1,2,3,4,5,6,7,8,9,10,11,12,13,14,15,16,17,18,19,20,21,22,23,24,25,26,27,28,29],\"y\":[0,0.5076325564665641,0.662612143044534,2.402345704763129,3.187661620774052,3.9380867695433137,4.046882784663261,4.356456315033807,5.0819682062684475,6.861300467541339,0.09175290741692765,9.432026653284527,4.911107869952824,8.334657087853996,4.758870581781317,9.799963710992692,8.471729561463857,5.542542757902836,12.20035366080035,12.215049405431364,4.321124895107616,1.249951056335473,18.963793677435824,6.588325220052009,11.953695744915148,15.436877961796796,17.80269278697387,21.115378284707383,24.620753943627175,12.846152800570048]}]}]\n",
       "var labels_vy7fDj6wR6 = [\"series 0\",\"series 1\",\"series 2\",\"series 3\",\"series 4\",\"series 5\",\"series 6\",\"series 7\",\"series 8\",\"series 9\",\"series 10\",\"series 11\",\"series 12\",\"series 13\",\"series 14\",\"series 15\",\"series 16\",\"series 17\",\"series 18\",\"series 19\",\"series 20\",\"series 21\",\"series 22\",\"series 23\",\"series 24\",\"series 25\",\"series 26\",\"series 27\",\"series 28\",\"series 29\",\"series 30\",\"series 31\",\"series 32\",\"series 33\",\"series 34\",\"series 35\",\"series 36\",\"series 37\",\"series 38\",\"series 39\",\"series 40\",\"series 41\",\"series 42\",\"series 43\",\"series 44\",\"series 45\",\"series 46\",\"series 47\",\"series 48\",\"series 49\"]\n",
       "var duration_vy7fDj6wR6 = 100\n",
       "var config_vy7fDj6wR6 = {\"responsive\":true,\"scrollZoom\":true,\"displaylogo\":false}\n",
       "\n",
       "var animation_settings_vy7fDj6wR6 = {\n",
       "    mode: \"immediate\",\n",
       "    direction: {},\n",
       "    fromcurrent: true,\n",
       "    frame: [\n",
       "      {duration: duration_vy7fDj6wR6},\n",
       "      {duration: duration_vy7fDj6wR6},\n",
       "      {redraw: true}\n",
       "    ],\n",
       "    transition: [\n",
       "      {duration: duration_vy7fDj6wR6, easing: 'cubic-in-out'},\n",
       "      {duration: duration_vy7fDj6wR6, easing: 'cubic-in-out'},\n",
       "    ],\n",
       "    ordering: \"layout first\"\n",
       "}\n",
       "\n",
       "var slider_vy7fDj6wR6 = document.createElement(\"input\")\n",
       "var play_vy7fDj6wR6 = document.getElementById(\"play_vy7fDj6wR6\")\n",
       "var pause_vy7fDj6wR6 = document.getElementById(\"pause_vy7fDj6wR6\")\n",
       "slider_vy7fDj6wR6.id = \"slider_vy7fDj6wR6\"\n",
       "slider_vy7fDj6wR6.type = \"range\"\n",
       "slider_vy7fDj6wR6.min = 0\n",
       "slider_vy7fDj6wR6.max = frames_vy7fDj6wR6.length - 1\n",
       "slider_vy7fDj6wR6.value = 0\n",
       "document.getElementById(\"sliderContainer_vy7fDj6wR6\").appendChild(slider_vy7fDj6wR6);\n",
       "\n",
       "Plotly.newPlot(graph_vy7fDj6wR6, traces_vy7fDj6wR6, layout_vy7fDj6wR6, config_vy7fDj6wR6)\n",
       ".then(function () { Plotly.addFrames(graph_vy7fDj6wR6, frames_vy7fDj6wR6) })\n",
       "\n",
       "var trigger_vy7fDj6wR6 = true\n",
       "var reset_count_vy7fDj6wR6 = false\n",
       "\n",
       "play_vy7fDj6wR6.addEventListener('click', function() {\n",
       "   trigger_vy7fDj6wR6 = true\n",
       "   if (reset_count_vy7fDj6wR6) {\n",
       "      slider_vy7fDj6wR6.value = 0\n",
       "      reset_count_vy7fDj6wR6 = false\n",
       "   }\n",
       "\n",
       "  const start_index = slider_vy7fDj6wR6.value == labels_vy7fDj6wR6.length - 1 ? 0 : slider_vy7fDj6wR6.value\n",
       "  const end_index = labels_vy7fDj6wR6.length\n",
       "  Plotly.animate(graph_vy7fDj6wR6, labels_vy7fDj6wR6.slice(start_index, end_index), animation_settings_vy7fDj6wR6)\n",
       "})\n",
       "\n",
       "pause_vy7fDj6wR6.addEventListener('click', function() {\n",
       "  Plotly.animate(graph_vy7fDj6wR6, [null], animation_settings_vy7fDj6wR6)\n",
       "})\n",
       "\n",
       "graph_vy7fDj6wR6.on('plotly_redraw', () => {\n",
       "   value_vy7fDj6wR6.innerHTML = slider_vy7fDj6wR6.value;\n",
       "   if (trigger_vy7fDj6wR6 & !reset_count_vy7fDj6wR6) ++slider_vy7fDj6wR6.value\n",
       "   if (slider_vy7fDj6wR6.value == labels_vy7fDj6wR6.length - 1) reset_count_vy7fDj6wR6 = true\n",
       "});\n",
       "\n",
       "slider_vy7fDj6wR6.oninput = function() {\n",
       "   Plotly.animate(graph_vy7fDj6wR6, frames_vy7fDj6wR6[this.value], animation_settings_vy7fDj6wR6)\n",
       "   trigger_vy7fDj6wR6 = false\n",
       "   slider_vy7fDj6wR6.value = this.value\n",
       "   value_vy7fDj6wR6.innerHTML = this.value;\n",
       "   if (this.value == 0) reset_count_vy7fDj6wR6 = false\n",
       "   if (this.value == labels_vy7fDj6wR6.length - 1) reset_count_vy7fDj6wR6 = true\n",
       "   reset_count_vy7fDj6wR6 = false\n",
       "}\n",
       "</script> \n"
      ]
     },
     "metadata": {},
     "output_type": "display_data"
    }
   ],
   "source": [
    "val xaxis = XAxis(title = \"X Variable\") setRange (0.0, 10.0)\n",
    "val yaxis = YAxis(title = \"Y Variable\") setRange (0.0, 10.0)\n",
    "\n",
    "// we can also specifiy the underlying layout directly - sometimes this can be useful\n",
    "val layout = ChartLayout(\"Animation XY\") setAxes(xaxis, yaxis)\n",
    "\n",
    "val series = createXYSeries(numberToCreate = 50, length = 30)\n",
    "\n",
    "val chart = Chart(animated = true, transition_duration=100) setChartLayout layout addSeries series\n",
    "\n",
    "chart.plotInline"
   ]
  },
  {
   "cell_type": "markdown",
   "metadata": {},
   "source": [
    "### 3D Animated Chart"
   ]
  },
  {
   "cell_type": "code",
   "execution_count": 42,
   "metadata": {},
   "outputs": [
    {
     "data": {
      "text/html": [
       "<div id=\"grid-container_hu6Vh2LruX\" class=\"grid-container\" align=\"center\"> \n",
       "<div id=\"grid_hu6Vh2LruX\" class=\"grid\" align=\"center\"> \n",
       "\n",
       "<div align=\"center\">\n",
       "  <div id=\"graph_o2Qvztsk6z\" class=\"graph\"></div>\n",
       "  <div class=\"animationInterface\">\n",
       "    <button id=\"play_o2Qvztsk6z\" class=\"picta-button\">Play</button>\n",
       "    <button id=\"pause_o2Qvztsk6z\" class=\"picta-button\">Pause</button>\n",
       "    <div id=\"sliderContainer_o2Qvztsk6z\" class=\"progressBar\"></div>\n",
       "    <div id=\"counterContainer_o2Qvztsk6z\" class=\"inline-div\">\n",
       "        <h3>Frame: </h3> <h3 id=\"value_o2Qvztsk6z\">0</h3>\n",
       "    </div>\n",
       "   </div>\n",
       "</div> \n",
       "\n",
       "</div> \n",
       "</div> \n",
       "<script>\n",
       "var masonry = new Macy({\n",
       "    container: '#grid_hu6Vh2LruX',\n",
       "    debug: true,\n",
       "    mobileFirst: true,\n",
       "    columns: 1,\n",
       "    margin: {\n",
       "        x: 0,\n",
       "        y: 0\n",
       "    }\n",
       "  });\n",
       "\n",
       "var graph_o2Qvztsk6z = document.getElementById('graph_o2Qvztsk6z')\n",
       "var traces_o2Qvztsk6z = [{\"name\":\"series 0\",\"type\":\"scatter3d\",\"mode\":\"markers\",\"x\":[0,1,2,3,4,5,6,7,8,9,10,11,12,13,14,15,16,17,18,19,20,21,22,23,24,25,26,27,28,29,30,31,32,33,34,35,36,37,38,39,40,41,42,43,44,45,46,47,48,49,50,51,52,53,54,55,56,57,58,59,60,61,62,63,64,65,66,67,68,69,70,71,72,73,74,75,76,77,78,79,80,81,82,83,84,85,86,87,88,89,90,91,92,93,94,95,96,97,98,99],\"y\":[0,0.6805416527058962,0.7173285500648554,2.0358342231644464,1.1497597101518031,4.342467238356511,5.841382513199506,5.257992977315538,0.5511875804707573,1.6148165300757067,6.680843901145192,0.297586053536826,6.510690729203874,5.49584310271821,9.776700459123868,8.177514176306167,11.584102692576272,8.914991997680701,8.368542288302947,7.539014574836994,13.028603964919647,17.425257048392236,8.282908906387172,1.7115036636053742,2.8173878750587464,5.949502688773451,3.5734942747405682,0.163256016621936,2.7737597224633093,20.685658337988045,1.0480117783264853,17.897287716539413,4.120604226219061,23.38701161294126,5.878057579136696,17.884161668694382,33.18745494128279,15.989684406347596,23.88184903612358,36.92031306347228,32.420711837463394,28.20977482133826,8.045321442955373,40.616882306226486,40.45291168382926,10.527563803242142,31.654656380400503,19.80999526727499,27.054332954481588,10.165642035045272,44.30299626683492,36.788906420732594,2.5646345047795864,10.50178723164377,34.25574730554685,6.613387321243472,51.1336735962729,55.08595774545788,11.462607838231033,33.68631136318922,39.03911564776581,39.30378997121853,44.1401901226518,56.91143355775549,9.743973047867918,31.996589647819466,20.566879087104066,34.44994420120387,26.459741405244603,64.25989507871361,52.78136561660602,21.542534824606232,27.040352106634415,45.44934580245664,22.508165240885262,18.336314701946822,5.2988023782145675,63.37376235361776,18.097244954624745,40.39818865840611,53.56192589938527,9.001020929989656,42.81081758925995,43.8579183007299,59.709435944914226,71.99259073223251,25.668297405769376,57.15544247992102,42.331071022497156,36.267309363414874,2.5203333182968857,44.41774489817614,48.23041488833234,29.824313763918102,73.31486870316338,82.81089709117737,41.55568621623456,88.47885057411975,67.89218324670713,87.05273324792952],\"z\":[0,2.257024865559685E8,7.929996704704007E8,-1.332827680656739E9,-3.5844653328313627E9,-4.863639218809906E9,1.5257791366370156E9,1.08774949738579E7,7.872955794531338E9,2.0934842249328103E9,1.7102056960607048E10,2.1253137328863464E10,4.2116951306780844E9,-2.383655059559808E9,-1.0471518854340649E10,1.8138625417142017E10,-2.0994189995283284E9,-6.641644891098706E9,1.1831905533178606E9,3.616947150774619E9,1.8384421698781114E9,5.664388583485385E9,-8.800610654728523E9,6.738129038289641E9,-1.7624581241609433E9,5.019769701603515E10,2.5008736467430596E9,-1.7023186507240307E9,3.4433754382608185E9,-1.699673495553661E10,-5.564076070604886E9,3.818876388254134E10,6.340630279809707E8,3.150196970394076E10,3.0092933707151173E10,3.706634207640811E10,-6.4772736089133224E10,3.122403710731393E10,4.593185820347488E8,-8.514759798597578E9,7.301756139781817E9,-1.5342426632547718E10,-7.483614509691173E9,3.84007046409249E10,6.737637659030072E9,6.35059013267329E10,2.241668874397278E10,8.835986757716349E9,1.213730297886553E9,-3.4269793675598984E10,-7.605341727647483E9,-6.273340904681577E10,-4.753118402058509E9,1.0397266918791325E9,-3.1809118767804775E10,-2.2967576911740356E10,-1.934717462953364E10,-5.264074479330397E10,-6.55354337773653E10,1.0918849785919266E10,2.017174483734249E10,-3.691291038869769E9,-7.47359139311502E10,6.217982771381495E10,6.7165099804750015E10,-3.4573880174453716E9,-8.128384026285197E10,4.494797676720721E10,-4.3263158170115456E10,1.1660814154668975E9,-5.867055807513493E10,-4.7631969420353775E9,-6.650948616906593E10,-2.924068553286579E10,3.3309627539516463E9,-2.3322789566829426E10,2.3197954858357685E10,6.932938886902606E10,1.7373744278989796E10,9.822722142103785E8,-1.5529949621479385E10,3.065371030535935E9,-2.925068091324893E10,7.875898054760513E10,4.4791370973371346E10,-2.4137114261299015E10,5.4946159315086624E10,1.3821688585914584E11,4.981034347212243E10,-5.382053059019584E10,-5.2610858956784294E10,8.630019394953323E9,9.213536675592204E10,-5.233744406586035E9,4.723175400923648E10,-1.7024281546378513E11,4.15377762172532E10,-6.659657817886066E10,4.3770603831649124E10,-3.0602962579510074E9]}]\n",
       "var layout_o2Qvztsk6z = {\"height\":550,\"width\":600,\"hovermode\":\"closest\",\"legend\":{\"orientation\":\"v\"},\"title\":{\"text\":\"Animation 3D\"},\"showlegend\":true}\n",
       "var frames_o2Qvztsk6z = [{\"name\":\"series 0\",\"data\":[{\"name\":\"series 0\",\"type\":\"scatter3d\",\"mode\":\"markers\",\"x\":[0,1,2,3,4,5,6,7,8,9,10,11,12,13,14,15,16,17,18,19,20,21,22,23,24,25,26,27,28,29,30,31,32,33,34,35,36,37,38,39,40,41,42,43,44,45,46,47,48,49,50,51,52,53,54,55,56,57,58,59,60,61,62,63,64,65,66,67,68,69,70,71,72,73,74,75,76,77,78,79,80,81,82,83,84,85,86,87,88,89,90,91,92,93,94,95,96,97,98,99],\"y\":[0,0.6805416527058962,0.7173285500648554,2.0358342231644464,1.1497597101518031,4.342467238356511,5.841382513199506,5.257992977315538,0.5511875804707573,1.6148165300757067,6.680843901145192,0.297586053536826,6.510690729203874,5.49584310271821,9.776700459123868,8.177514176306167,11.584102692576272,8.914991997680701,8.368542288302947,7.539014574836994,13.028603964919647,17.425257048392236,8.282908906387172,1.7115036636053742,2.8173878750587464,5.949502688773451,3.5734942747405682,0.163256016621936,2.7737597224633093,20.685658337988045,1.0480117783264853,17.897287716539413,4.120604226219061,23.38701161294126,5.878057579136696,17.884161668694382,33.18745494128279,15.989684406347596,23.88184903612358,36.92031306347228,32.420711837463394,28.20977482133826,8.045321442955373,40.616882306226486,40.45291168382926,10.527563803242142,31.654656380400503,19.80999526727499,27.054332954481588,10.165642035045272,44.30299626683492,36.788906420732594,2.5646345047795864,10.50178723164377,34.25574730554685,6.613387321243472,51.1336735962729,55.08595774545788,11.462607838231033,33.68631136318922,39.03911564776581,39.30378997121853,44.1401901226518,56.91143355775549,9.743973047867918,31.996589647819466,20.566879087104066,34.44994420120387,26.459741405244603,64.25989507871361,52.78136561660602,21.542534824606232,27.040352106634415,45.44934580245664,22.508165240885262,18.336314701946822,5.2988023782145675,63.37376235361776,18.097244954624745,40.39818865840611,53.56192589938527,9.001020929989656,42.81081758925995,43.8579183007299,59.709435944914226,71.99259073223251,25.668297405769376,57.15544247992102,42.331071022497156,36.267309363414874,2.5203333182968857,44.41774489817614,48.23041488833234,29.824313763918102,73.31486870316338,82.81089709117737,41.55568621623456,88.47885057411975,67.89218324670713,87.05273324792952],\"z\":[0,2.257024865559685E8,7.929996704704007E8,-1.332827680656739E9,-3.5844653328313627E9,-4.863639218809906E9,1.5257791366370156E9,1.08774949738579E7,7.872955794531338E9,2.0934842249328103E9,1.7102056960607048E10,2.1253137328863464E10,4.2116951306780844E9,-2.383655059559808E9,-1.0471518854340649E10,1.8138625417142017E10,-2.0994189995283284E9,-6.641644891098706E9,1.1831905533178606E9,3.616947150774619E9,1.8384421698781114E9,5.664388583485385E9,-8.800610654728523E9,6.738129038289641E9,-1.7624581241609433E9,5.019769701603515E10,2.5008736467430596E9,-1.7023186507240307E9,3.4433754382608185E9,-1.699673495553661E10,-5.564076070604886E9,3.818876388254134E10,6.340630279809707E8,3.150196970394076E10,3.0092933707151173E10,3.706634207640811E10,-6.4772736089133224E10,3.122403710731393E10,4.593185820347488E8,-8.514759798597578E9,7.301756139781817E9,-1.5342426632547718E10,-7.483614509691173E9,3.84007046409249E10,6.737637659030072E9,6.35059013267329E10,2.241668874397278E10,8.835986757716349E9,1.213730297886553E9,-3.4269793675598984E10,-7.605341727647483E9,-6.273340904681577E10,-4.753118402058509E9,1.0397266918791325E9,-3.1809118767804775E10,-2.2967576911740356E10,-1.934717462953364E10,-5.264074479330397E10,-6.55354337773653E10,1.0918849785919266E10,2.017174483734249E10,-3.691291038869769E9,-7.47359139311502E10,6.217982771381495E10,6.7165099804750015E10,-3.4573880174453716E9,-8.128384026285197E10,4.494797676720721E10,-4.3263158170115456E10,1.1660814154668975E9,-5.867055807513493E10,-4.7631969420353775E9,-6.650948616906593E10,-2.924068553286579E10,3.3309627539516463E9,-2.3322789566829426E10,2.3197954858357685E10,6.932938886902606E10,1.7373744278989796E10,9.822722142103785E8,-1.5529949621479385E10,3.065371030535935E9,-2.925068091324893E10,7.875898054760513E10,4.4791370973371346E10,-2.4137114261299015E10,5.4946159315086624E10,1.3821688585914584E11,4.981034347212243E10,-5.382053059019584E10,-5.2610858956784294E10,8.630019394953323E9,9.213536675592204E10,-5.233744406586035E9,4.723175400923648E10,-1.7024281546378513E11,4.15377762172532E10,-6.659657817886066E10,4.3770603831649124E10,-3.0602962579510074E9]}]},{\"name\":\"series 1\",\"data\":[{\"name\":\"series 1\",\"type\":\"scatter3d\",\"mode\":\"markers\",\"x\":[0,1,2,3,4,5,6,7,8,9,10,11,12,13,14,15,16,17,18,19,20,21,22,23,24,25,26,27,28,29,30,31,32,33,34,35,36,37,38,39,40,41,42,43,44,45,46,47,48,49,50,51,52,53,54,55,56,57,58,59,60,61,62,63,64,65,66,67,68,69,70,71,72,73,74,75,76,77,78,79,80,81,82,83,84,85,86,87,88,89,90,91,92,93,94,95,96,97,98,99],\"y\":[0,0.3239074579499128,0.4860589722439126,0.5624520999568321,0.13607283896979805,4.307982936086418,2.198760523496156,3.193448861120086,7.71690897054057,6.368387198495575,2.6799672077646894,9.578610492869442,3.8096759858001588,7.271721170837743,1.1941713508962815,14.359518487516645,14.25613041902912,8.859338792686891,6.309111675730028,16.482030784266858,0.34460866996316675,16.48621149706536,11.788631957608224,7.770087710284215,5.70078629981749,13.183679655862049,22.407540413220385,12.967716903561245,18.103233675780366,6.329640908570182,22.22263429024121,21.06257962259873,18.43469555272289,9.877308515451611,33.69244426375154,15.919228376766112,0.25441577530265613,31.168264313700146,33.29119290284125,5.297136652776818,18.770799621613683,15.287204494426392,4.1599106709949325,25.45746262256894,9.55715098234231,23.054411206013608,5.129656210150202,3.0234323932129223,7.436264705804291,23.347708524721867,24.38830377310614,17.80223002141831,16.812156404206235,39.74839609581895,35.39342134054095,11.151238247827308,42.59931808514019,25.765412031929458,56.60933476769659,50.428545766662,12.041465244952569,0.35875926810734826,1.5166169181543756,59.35667838792534,24.37287318117034,47.40710612239955,61.3568640577084,0.9995886434091981,47.70609591091894,60.395268135334035,56.48480498701666,70.75611860611097,42.9800031167268,34.18520725844875,47.25352033022818,47.55823792915468,19.521851760328474,0.5291233339353169,34.30676574356073,1.579597926535449,22.016330646188152,59.23509475652159,15.245171305921813,60.45914324080277,32.683307520964675,58.8548018595947,66.12042191551879,84.57576231489607,63.49437196386231,26.678804927746146,18.343308534701233,41.52325646312688,77.55603391838167,34.947948652294016,38.61796260165976,26.88021924083678,50.60492369808567,96.7695017432296,15.685428234337866,33.89674221281251],\"z\":[0,-1.425290188750424E8,-3.159631679822135E8,1.3395536256623962E9,-3.3851368604981977E8,-5.261059983228052E8,3.6981907304670835E9,-6.047137824307679E9,-1.7555684910225723E9,-8.44608689451841E9,-8.099534850939271E9,-7.112155246787871E9,-1.869478576850651E10,2.8187624116085787E9,8.878223640471936E8,-1.360765304777671E10,-9.040892885070442E9,6.494425704311661E9,-2.8333515869742004E10,2.6018666770402074E9,6.022508934878408E9,-1.2656981722481709E10,1.4080006777172361E10,1.3745227977027438E9,6.203082141304289E9,7.177166799376493E9,1.7247299576282352E10,1.363494938025751E10,-3.502270114608123E10,-2.374921695150278E10,-6.013175943733906E9,4.546634635567278E9,4.81504214820262E10,4.339098037883892E9,-2.8566956328905342E10,-2.1308439279040478E10,-3.1096489761615353E10,1.0622944045992615E10,1.8996783033359283E10,-3.4784699231320624E9,1.3411769480699865E10,-6.985277414432748E9,-3.2251915340451336E10,-7.474233013375058E10,-4.548326628072603E9,-9.540150553415207E9,-8.665855155993595E9,-3.722584225856404E10,-3.835035016908099E10,1.384839460630815E9,-3.7208717265688805E10,-5.862250219619858E9,-5.3357234347839E10,2.3602899416226093E10,2.5730312511271965E10,2.759219884476956E10,-6.900838575674236E9,5.752717805069906E9,1.4836146723465332E10,-3.9479678070052047E9,6.933120461306459E10,4.996339535078096E10,-6.057370843955994E9,1.5526606626019106E10,1.6654048735111807E10,-4.0334978202539696E10,-7.881701134738838E10,8.190142232123438E9,5.307503684983317E9,-4.870939717121158E9,-8.730447036476727E9,3.050883840561944E10,1.024004538864138E10,-1.8130156701208973E10,-4.2560504995649765E10,1.2356633591495163E11,-1.7252048768835726E8,5.641003752625096E8,-4.475150099159814E10,4.703440634864062E10,-3.339058296246868E10,-1.272545090585008E11,-1.4346294478948453E11,6.155998110914724E9,1.2894090606082085E10,-3.1305299047370613E10,7.179057841483371E10,2.2983080118135372E10,-6.811685190671353E10,9.397127808019365E9,-8.882530060409973E10,-3.015470409926985E9,-6.019859051896534E9,-6.279002666946076E9,-6.245272147630184E10,-1.0007148104025658E11,-1.4513600873839514E10,-1.3597397921703473E11,1.7577246741203358E10,-1.3962567494510812E11]}]},{\"name\":\"series 2\",\"data\":[{\"name\":\"series 2\",\"type\":\"scatter3d\",\"mode\":\"markers\",\"x\":[0,1,2,3,4,5,6,7,8,9,10,11,12,13,14,15,16,17,18,19,20,21,22,23,24,25,26,27,28,29,30,31,32,33,34,35,36,37,38,39,40,41,42,43,44,45,46,47,48,49,50,51,52,53,54,55,56,57,58,59,60,61,62,63,64,65,66,67,68,69,70,71,72,73,74,75,76,77,78,79,80,81,82,83,84,85,86,87,88,89,90,91,92,93,94,95,96,97,98,99],\"y\":[0,0.3409715260181593,1.2139961339985674,2.5809517037079366,2.023519514512336,3.2956433326498047,3.9665082585758427,0.7848807988843569,6.662165352264442,3.4845777660336945,7.786504427521658,3.191873826404926,0.9058034560673311,3.9768471138607833,3.5236341858887075,7.349466820961611,3.9199612600488454,14.04663347673127,1.0411898209464525,4.609040935317689,19.197606458055375,20.417954539332598,19.059558076609616,5.680147142858977,11.771680164713716,2.668022981864909,9.59175899541397,5.709817963388764,26.15920707318935,1.1606230992573707,28.72001944015451,14.48335082277991,3.228305787720231,30.80471490059738,5.867593175345855,30.245377688425027,10.531963239343698,21.62682594214764,15.582350595291794,8.436923152206662,37.087016210356,10.85869736944708,3.4179978913191844,9.585552000872202,38.34336332227676,12.224054936872987,37.02514329332621,16.921636776267853,20.43709358358769,36.610348309976274,11.297848444070702,36.27427764164192,7.001853510587942,6.582766401966947,40.611693957635644,4.675348880496235,55.075486108345686,43.48886603424906,48.08689818064613,3.1197532297784187,5.233696678490773,58.46269720822073,23.664475727964525,46.34394180128899,43.25926506924791,33.71737700877745,45.84497492203007,17.54343581404132,2.6640967505647306,37.36467586858942,22.45787744752508,58.90314871420083,7.472236427598665,61.869344906693506,42.05532489721789,15.911987986540973,37.09484357230831,59.38453490845865,57.70646582048649,28.925408686422227,16.132934833156646,52.8729083635914,47.35835010901927,43.57630097618339,53.78072573915188,36.34576759283596,25.776001989360594,68.66584297241135,14.42125041864552,14.9997497365762,18.62797484586238,69.34172755883786,31.25695006353064,27.747524246853406,7.794476202994292,20.941508730158553,84.65095936791238,44.87513254886333,50.69290078769245,16.09361715120877],\"z\":[0,-4.9304325166492826E8,-3.272354092275508E9,2.425871277602738E9,4.0098740280431805E9,1.847628027581125E9,2.9602243833693075E9,4.959679158083135E9,1.6581097277204585E9,6.57796556605691E9,-3.1408765401004524E9,-8.181745286817843E9,-3.2536519629496365E9,1.4196912151840723E10,-9.206091131432581E8,4.115605903699474E9,-1.6181393671727285E10,-1.991741614808649E9,-1.9385424115711754E10,-2.401953549642099E10,-1.3338934593435604E10,-1.0853023311225722E9,4.7975856151595E9,3.5084954072465336E8,-3.3581832933331804E9,-4.634148707747909E9,-2.503686210527134E9,-1.9417041680554092E10,3.1065387207154655E10,-2.1060808128590286E10,-4.702197934163182E9,8.486596109985484E9,-8.322784293025972E9,2.0742001369414845E10,-2.631466867035562E10,-3.44276546672488E8,1.3864272841745392E10,1.7599349052720135E10,-1.639251618736012E10,8.920770482106688E9,-6.511890372206859E10,-1.0612958312003588E10,-9.592109662111692E9,-7.140694541641782E9,5.455176662993067E9,3.645851169737916E10,6.227655766211694E10,-1.1838774027569954E10,-3.8001054289556E10,4.280516990182886E10,-1.6348103115358644E10,-8.38867498565793E8,3.8738022585889063E9,-7.006490676518172E9,1.2690311063744566E9,3.441115134108973E8,6.368722416217024E9,1.988627419626506E10,1.0928616453463263E11,7.6476924339599E10,1.5896367315750454E10,2.8157642807453556E10,-9.160536248702724E9,-3.834064863235897E10,1.1432962224500156E10,-4.128854217654269E10,-5.2162397226783394E10,2.103937847081525E9,-1.943260057548134E10,7.2507042855563545E9,-8.994252170961177E10,9.868692276138798E9,6.317335530363564E9,2.932291324556493E10,-9.178875844353784E10,-8.219989239953891E10,-4.739173462115409E10,-6.498117213038905E9,2.117588522774351E10,6.563204075680013E10,1.6410585375336065E10,-7.616204617495678E9,2.946876355102438E10,9.314682848833559E9,-1.2784970576089622E11,5.9955607362988914E10,2.883079267667255E10,1.5333018202588757E11,-2.1310554647800941E9,-4.022091892743195E9,-2.5604623529567425E10,-8.350860679628868E10,2.5447288092231873E10,-1.0329499743019591E8,1.4256616378723578E11,5.47117813197336E10,-5.507594178155714E10,6.460417554568464E10,-2.0455791441393363E9,1.084201308195035E10]}]},{\"name\":\"series 3\",\"data\":[{\"name\":\"series 3\",\"type\":\"scatter3d\",\"mode\":\"markers\",\"x\":[0,1,2,3,4,5,6,7,8,9,10,11,12,13,14,15,16,17,18,19,20,21,22,23,24,25,26,27,28,29,30,31,32,33,34,35,36,37,38,39,40,41,42,43,44,45,46,47,48,49,50,51,52,53,54,55,56,57,58,59,60,61,62,63,64,65,66,67,68,69,70,71,72,73,74,75,76,77,78,79,80,81,82,83,84,85,86,87,88,89,90,91,92,93,94,95,96,97,98,99],\"y\":[0,0.5609644480825283,0.950868834659697,2.8798724749686926,1.191763989682757,2.2229074926842367,5.114825219126265,0.5484196125919698,1.6819342965488326,1.4987481748207707,9.291410671793725,10.069100401285175,1.5692388732305362,4.714707874239583,3.675837123756625,3.664886416184643,4.306038877650344,3.3956524566616455,2.5574128143921326,14.496181830642065,9.410728306725487,0.08310999853904122,5.5209309357737455,8.534111925166506,8.701470462555264,5.346467761459298,13.147472974107654,25.37466025779359,6.111679072532997,18.965109123459346,21.603164900756905,5.016834161506202,19.933786592580436,5.339340918372161,1.206557619144515,15.21786543350656,28.018493659335082,20.10005307458842,19.286997955490712,19.585357400803943,27.281904458577593,27.88121022623632,35.637549679632784,32.32015109571816,21.092673788261813,16.54543555793879,3.876794075042378,30.734679872787734,47.975538509851695,6.061151476214178,40.31407142625617,41.58949021464307,44.82641772252847,40.96999670900893,41.71257598117256,28.16564555083784,31.737560185027995,5.205447595414526,48.91401899133433,22.072754397630906,39.82909559592611,10.177960229485592,38.87745249399366,6.331412556406745,28.42570290311769,27.77818070794605,49.54324936387595,46.51495997723671,39.75404501474274,32.518196192492105,26.3111609115974,51.93856663090126,60.31805092416255,68.68117340169766,32.06883474347166,45.29381896180438,12.485112785238753,52.332126365601525,4.874159480555754,39.99417716298087,53.83675176544792,26.607062768320986,74.83134483603207,15.070877148508128,29.752386459215725,28.094181144779075,24.656689906696432,6.990102706562121,76.754363878618,3.5993439884863676,53.15556439899979,58.50056167861299,56.5965391134627,24.398615963072466,17.577270114766772,82.81585510038879,76.17731370281561,7.473160994917434,53.82909191904489,22.33845080777416],\"z\":[0,1.0263273081685264E9,-5.402161812083874E8,-5.685389682743218E7,1.9218353519608762E9,4.080440118662521E9,-2.9296533272377877E9,5.103898228426758E9,8.680330869965931E8,1.6121519573281834E10,2.152819754030795E9,4.680399765355831E9,6.534511453084338E9,4.2830840249047675E9,2.698156215293482E8,-1.9786650941058117E10,-3.466869634234309E9,1.3724954716757715E10,7.022578824419542E9,-1.1051803484328308E10,4.436553724899957E9,-8.339051168189286E9,4.2085303016764536E9,-2.1889128445300648E10,3.893022957079287E10,-2.578291420770591E10,3.620481430797973E8,-1.4751854090785263E9,1.1184906059363207E7,4.907683502794693E9,2.734810587796074E9,-1.9994863412622585E10,2.5433715730888325E8,-1.6545789257223635E10,8.243029714331355E9,-4.424881357275285E10,-1.4712308364562307E10,-3.868562630711066E10,1.207953908980518E9,3.3223686050323822E10,-3.034316450396525E10,-4.15895784627267E10,1.8131209969986248E9,-3.5810195992190843E9,3.3501169558698795E10,-1.346765647859084E10,1.237762386908935E10,1.3375557200397293E10,6.894913135142834E9,6.255170972823491E9,6.32307272910967E10,1.682419431631752E8,9.153667591586748E9,4.9452686127942345E10,1.1813748320384544E10,-9.573819410066069E10,2.0468597053437225E10,-9.656572529399784E9,-2.224465890223138E10,-4.466088816614384E9,5.082098981742579E10,3.386411332288949E10,-2.0891350224356915E10,3.2702819110109707E10,-5.5429422199630974E10,-2.0493211235913184E9,1.605751486853313E10,-4.5389634487367035E10,4.241072631558423E9,-2.3174072807738123E9,-1.3927830534474136E11,-2.5519617429126568E10,-4.759661363992106E10,3.256934982623073E10,-2.003628901078054E10,-3.914729618148631E10,1.18234254651898E11,2.632648179063662E10,4.368553902483509E10,8.803655038171611E10,9.94180868747601E9,-5.341932133095765E9,6.01903248723759E9,-9.441843360488531E9,-6.417536530937701E8,1.0891930878852217E9,1.40499429894199E11,-1.3180456973624159E10,8.340883518588004E10,-6.836245434525538E10,1.410598970620572E9,-3.2076064257788536E10,-2.0250670015277E10,3.325374777274072E10,9.986477001410844E8,-2.0667067831956745E10,-8.898186005311533E9,9.39616138215272E9,5.312031130970363E10,-1.0432105102435367E11]}]},{\"name\":\"series 4\",\"data\":[{\"name\":\"series 4\",\"type\":\"scatter3d\",\"mode\":\"markers\",\"x\":[0,1,2,3,4,5,6,7,8,9,10,11,12,13,14,15,16,17,18,19,20,21,22,23,24,25,26,27,28,29,30,31,32,33,34,35,36,37,38,39,40,41,42,43,44,45,46,47,48,49,50,51,52,53,54,55,56,57,58,59,60,61,62,63,64,65,66,67,68,69,70,71,72,73,74,75,76,77,78,79,80,81,82,83,84,85,86,87,88,89,90,91,92,93,94,95,96,97,98,99],\"y\":[0,0.5040948649710693,0.2333102747179563,2.6118879811151134,1.55114180255483,2.2606205637543377,2.9536406377722635,3.4334750988351606,1.7843336547325794,2.664328008877325,3.9110108948818967,6.059737224998227,5.991511511861736,10.175600961186168,0.49869067216905516,11.517385314140153,12.056092160646779,4.965579044855773,9.652538229557038,10.77246207938684,3.9836614438111018,15.626981453933885,1.7830751837227796,12.959118517126983,22.450164389391052,17.21927985154761,8.448229293160576,21.760696172322664,0.6017767804953382,28.110297938224885,10.57904866421241,29.895905162829788,23.642383747761983,29.812645425520298,0.8197038649556923,26.940259197374687,18.00338945732911,32.644250631787784,22.87415790683998,2.0097704038838904,6.356390601214397,26.817651779962883,12.91496090587391,28.40034193921659,40.652114009402176,14.732614774082377,39.354757433000316,19.36221372535242,32.99888928392649,15.061124191535892,3.858222756216617,48.04429855357807,17.78084079894741,50.92274814923221,24.63133757133945,1.5182365054800222,32.209937828524126,45.301921430948006,45.01613793164872,28.93653706337612,42.757015814468886,20.106707889322237,6.492265875587747,17.5432214319154,25.86487576973917,42.16122336107663,1.591986933290736,46.68900631950011,23.26163046905056,56.210954050149205,25.22259412194627,3.456150566608755,53.31452080138273,69.95190706136748,48.709478576455524,10.220782010962633,0.44352973421533815,66.42064703776803,23.774517647377273,13.722676732663151,70.90025332762491,24.053013840638847,41.897790961942555,55.22422708470638,33.460671461839645,15.584537880297555,28.326138606475656,62.37151191954611,0.030606612193076366,81.9753092694484,45.639454451554045,5.671254208630704,74.06995954305852,77.94643416423825,23.515138974308027,77.31767354637925,10.355989531150687,76.76390958158724,89.39270751848373,56.69316061643713],\"z\":[0,1.7820544711734962E8,-1.4491061079794532E8,-9.598479925117591E7,-3.700446026865401E8,-2.790682373632595E8,1.0518607350210199E9,2.078855269962723E9,2.564547419262367E9,-1.9348747434042275E9,-3.261227566012182E8,-1.668675895338221E10,4.327213764921425E9,-1.2354846814834824E10,-2.2341703869648623E8,2.267039309912939E10,2.7132782631993145E10,7.147806005327073E9,2.733159181678088E9,-5.793447873768682E9,2.237659954434781E10,-6.738862386200725E9,9.525226472637688E9,8.405563723341863E9,-6.285100704566962E8,4.7975460252644684E10,2.7828963481121628E10,-4.8389348597859215E10,1.5895092918269213E10,-1.0771863981305375E9,-3.361179044745827E9,5.479120761908436E9,1.1080174067960669E10,-4.124407493138723E10,2.990536082668415E10,-4.700784437235911E10,3.115588251115581E9,-1.202241015467033E10,5.550475009020506E9,-1.4702116570214218E10,-3.5114410681561146E9,3.594329567347246E8,-1.4529188154033917E8,-2.0622312237632565E10,4.6378468439910877E8,-3.8647356732652534E10,5.029961167825952E10,2.547157017333843E10,-7.170318354100652E10,7.048017959061124E10,4.416664491394658E10,4.144675496127564E9,3.1423181532643757E10,7.312450735310407E9,-5.817668453161125E9,-8.903596156388308E9,5.010114425673348E10,-1.0276480028207382E11,-5.773674191476132E10,-1.3050162204423492E10,2.2348178043985638E10,-4.425604996608863E9,-2.539644021169085E10,-1.0810547921955766E8,1.8681892516060223E10,2.1102776244581017E9,-7.402579617672476E10,-3.1732641516118655E9,8.589290166641443E10,-1.367117929294077E10,3.3241594221133823E9,-1.7892375790571472E10,-1.095833673167122E10,3.4243582612383766E10,-1.1690016061701052E9,1.0823529480157715E11,-1.3671274577704364E11,1.1275619710234945E9,3.54952831313887E10,4.574633970882411E10,-2.276732190457891E10,4.604476822328306E10,-3.828797680164865E10,1.0902945489563008E11,-6.748229903398083E10,-6.368425080140299E8,-1.0466921311731712E11,7.83638719592014E10,-7.6231561312296E10,-2.298074999921327E10,-5.8958271086062225E10,1.3352559748605785E10,1.3874028814164365E11,-1.1553522838940343E11,1.7401000051257157E9,-1.0432540439398317E11,-1.5983763523981647E10,-6.140810102515085E8,2.6393671719589096E10,2.7209610501504852E10]}]},{\"name\":\"series 5\",\"data\":[{\"name\":\"series 5\",\"type\":\"scatter3d\",\"mode\":\"markers\",\"x\":[0,1,2,3,4,5,6,7,8,9,10,11,12,13,14,15,16,17,18,19,20,21,22,23,24,25,26,27,28,29,30,31,32,33,34,35,36,37,38,39,40,41,42,43,44,45,46,47,48,49,50,51,52,53,54,55,56,57,58,59,60,61,62,63,64,65,66,67,68,69,70,71,72,73,74,75,76,77,78,79,80,81,82,83,84,85,86,87,88,89,90,91,92,93,94,95,96,97,98,99],\"y\":[0,0.44814931777653444,1.4490781576358294,0.6713808233255036,1.338911099289858,0.5782760851228708,4.766793933962158,3.0293994372429327,3.6408782149455394,4.197977733854594,0.5269744024277712,0.6234441955076812,3.439650620208507,7.794704505534836,0.019886773722585183,4.767066138661489,3.4017594370202904,4.443396093021007,9.855575465160637,13.199829054948147,4.45398947268365,12.676477697540133,12.332211240146371,16.16813580625914,19.611473232493612,19.864714020102905,0.32634358356054616,18.898799698859296,20.807903448149183,12.542618043418404,0.834672232812057,8.46009741000712,31.096738265152727,1.004693702528353,33.84286146056558,31.969871962170135,3.6791915860454214,2.348395010670141,33.387336881128874,9.15714334956497,32.57124955802788,8.196315178515503,41.76098578179992,40.66258181004297,3.59791651022836,16.84382782644526,38.04314099075693,7.424135084111106,29.048427682343725,14.799049710515753,44.758303832760966,19.287074870437163,16.99116868557702,46.85978738449953,15.736550828039643,38.85272746925888,53.181650921317804,40.25684342219573,16.411711892193303,20.78718402909154,5.9509600539425485,30.234898206958043,17.101001126156675,35.60033262132246,8.685760406132687,62.99097914182485,34.511910545464275,31.526694649125115,44.7540560438834,67.39641166710672,13.06890712598279,7.84260004627827,30.24366717676862,16.64101253577829,55.89362962650005,13.989473090894302,54.912547486874374,13.108243517084912,27.658059547376737,49.490111228440114,27.551856030252377,63.66695123498142,16.31040307780643,9.094134535570321,60.78398968090562,14.399351456653067,24.098221158060635,10.119954419137017,36.40859440384572,66.82588039917907,36.632685389243115,81.82395828750757,74.01989816107648,88.1856428215775,82.20171764570229,1.0728814115915757,68.99866747863027,81.53619793822857,36.39812757304391,66.87269957286387],\"z\":[0,-4.6962443410023063E8,9.389233719034201E8,5.047900843954027E8,1.2903320954558141E9,-3.852826026304142E9,-2.914685998373741E9,1.8231554942613304E8,9.577293845276175E9,9.554534979014862E9,7.293060209325817E9,5.743522804363117E9,-2.740892802869767E9,-7.168888504715382E7,-2.8363383731918607E9,-5.026031923414729E9,1.6190889805544031E10,-6.000471654642905E9,-6.204792632182686E9,3.606617866680686E9,-7.476375389856981E9,-3.865155388411733E9,1.3270965610539639E10,-4.33768565423275E10,-6.939424297078334E9,-5.218665160578149E9,5.034125816917438E9,-6.38936530131603E8,-1.9007780297642694E9,1.866804061813925E10,-7.897276535762466E8,4.926677487972846E10,-1.6076908784155023E9,1.836939943781738E10,-4.3368986822152054E10,-1.3976431632150438E10,2.075557846938024E10,-3.324520115361688E9,-1.2149535870360904E9,5.593097473089335E9,-1.2097412551137875E10,2.565734738174389E10,2.1460534485024628E10,3.8609805833810844E10,3.4049491736665977E10,-1.0864755101012749E10,-1.3281626424469788E9,-1.1025015742165672E10,-2.6085860349561813E10,-3.2817923019519646E10,8.674460863421402E8,-5.136592404003143E10,-5.41358252439821E8,1.825262924607126E10,8.57653705520999E10,-4.370509362834556E9,6.475718052369857E10,5.592418029250616E10,6.322989642118924E9,6.97533020574533E8,3.1236493159740032E10,3.255660221993303E10,-1.495176154269904E10,5.944588547081452E9,-2.508075952488169E10,3.6686033288396764E9,1.1761362007749462E10,5.930171569576078E10,1.7496351700171974E10,1.0249785786946735E10,2.8733689266481354E10,-3.731375756920783E10,-8.892201056362886E10,-2.4992800738846237E10,-1.4425643906313883E10,1.8104985028913073E7,3.3178013559971733E10,-1.2135322891601962E11,9.166821528363256E9,-1.1289112356406968E9,-6.2377133001744095E10,-2.7362058130247437E10,2.9319885624569595E10,-1.96814599886864E10,-1.3590500568803337E11,-1.306068922686442E10,1.0562552775291721E10,-2.8382004752433372E10,5.637457390747297E10,-5.175353608711062E10,1.0550111697965614E11,2.554912985775045E10,5.486179808413975E10,-5.431842817680994E10,5.242049843928139E9,1.2499640168242624E11,-1.0489384300139821E11,-1.1349640657882652E11,1.4160764865582006E10,-1.6165288054871283E10]}]},{\"name\":\"series 6\",\"data\":[{\"name\":\"series 6\",\"type\":\"scatter3d\",\"mode\":\"markers\",\"x\":[0,1,2,3,4,5,6,7,8,9,10,11,12,13,14,15,16,17,18,19,20,21,22,23,24,25,26,27,28,29,30,31,32,33,34,35,36,37,38,39,40,41,42,43,44,45,46,47,48,49,50,51,52,53,54,55,56,57,58,59,60,61,62,63,64,65,66,67,68,69,70,71,72,73,74,75,76,77,78,79,80,81,82,83,84,85,86,87,88,89,90,91,92,93,94,95,96,97,98,99],\"y\":[0,0.036490501319694224,0.2914050371435368,0.274852830204249,1.5357720204235195,3.451356907131134,5.684815214196928,1.5634836535969794,6.460611670251355,0.5097250632509435,1.7417828384978473,5.79346740774438,2.8913925750644083,11.51940046198997,12.311048410039543,11.455875811195815,14.056879119657408,8.682530529689608,11.452162848847655,3.8045954793620815,5.216084102610421,18.84604762059872,2.071757754815878,12.996044002435593,15.78305878607853,22.07540739354729,22.46835318513846,18.671341659273867,3.779862025090474,11.303613633851748,10.985580586877141,21.489282011293323,24.822457780805475,24.856362444109205,25.06645709746517,32.770789027642806,7.009343726885021,1.2224715479409531,0.8011710480395733,15.212415463413409,12.57976124160705,13.276690583642454,26.817653461084838,6.817867123647523,15.287465166735979,28.519362321259575,26.328090791772226,6.032431353143707,3.3471384021469035,42.02440511077737,39.565437522893596,35.79571605362244,39.80372178761159,38.933536225884225,9.971898603882664,29.103037764924437,37.50011466364522,25.750687282563096,39.58632416204787,58.93540547765028,20.725922677369578,44.62610662733757,18.369457201090725,0.3320189189320567,12.369209594571352,53.52472463344467,34.954989500926196,11.187895490589492,14.214463223856276,55.89796486356142,68.77042730860197,17.3122609526816,13.183342963447867,2.4723141380740192,73.884879821542,72.63109342234864,58.05010588048687,19.28166132257334,69.56097064228278,70.40931444765815,15.730988323411896,26.35359534506298,51.56524835736407,10.254894676076006,7.89626439902384,76.76258993604016,72.07563159107494,4.698370781610899,25.635091668865446,44.33528870432336,60.76564142782142,19.56705711402482,64.46680135902399,82.38486715134762,35.59342356894017,45.44352211537671,8.387732991578726,48.7128082682181,31.228824995577025,66.46281014827848],\"z\":[0,-1.752124062648245E8,1.361033731958638E9,-6.720489562579516E8,-3.4025559827938075E9,-2.4419281157256775E9,3.842094578894902E8,2.524995785727701E9,8.284334139078829E9,-5.633092465725803E9,-2.768632571305288E9,-3.4524805800524044E9,7.417118908298869E9,-8.311490712271313E9,2.0578652360494318E9,-6.010325554007476E9,-1.6119818045037577E10,-6.174546451233582E9,2.3531529264604023E8,1.6500490053648142E10,-1.0821032638762853E9,-1.0595496670675833E10,2.2788771961432242E9,-2.8867372667287617E10,1.0120333135449852E10,2.9841645409324326E10,-1.0013453192176807E9,-3.973324501798761E9,2.957147587667334E10,-3.259142617439303E10,-2.088581166401054E10,7.648875202793457E9,-3.8486646625176287E9,-4.4710788839150276E10,2.65898170249201E10,-4.762509719064112E10,4.204139486166047E9,4.15307215511251E10,-1.5960544152716526E10,-2.8941977752940697E10,-6.842627128821681E9,4.359504940449852E10,-2.471560884580888E10,3.005788193816726E10,3.4327402232531476E9,-9.379141412049175E9,-2.9301512564713764E10,6.894598196616144E9,1.2599028689916676E8,3.6516917219277145E10,-7.432830939140097E9,-4.91465508096868E10,6.302087118645339E10,2.761970484633651E9,-1.3992677661478905E10,2.4349157041979546E10,1.287100912516165E10,1.935831074584931E10,-9.616413824184303E9,9.861856131616232E9,3.3500789348007427E10,1.5148501847012086E9,-6.094091733790474E9,-4.2781458344302807E9,3.492468659976078E10,7.179407025759518E10,4.769693242663633E9,-1.0048112722929091E9,1.977642006832013E10,-4.868428363911939E10,-2.1915797975640064E10,-6.885602910319713E10,8.668600498798944E10,1.752595294147592E10,4.010174372973398E10,-5.495327738720846E10,2.846750869854633E10,-3.3753831560977013E10,1.3619785301420338E10,-3.1229952381783794E10,1.354311232372537E11,1.6544299469713926E10,-7.741724762170207E10,2.856808219742045E8,-1.3320334245812553E10,-1.8030455002040337E10,-1.6354882336504148E10,-8.513318379793144E10,-5.706236064803397E10,-7.177400663108028E10,-1.2236966786811493E11,-2.592927970852998E10,5.981152077448622E9,3.813810758934249E10,-8.800158560318445E10,-8.086135710448097E10,6.961761160202081E10,1.7122272777968057E11,4.033922707886694E10,5.902843114185796E9]}]},{\"name\":\"series 7\",\"data\":[{\"name\":\"series 7\",\"type\":\"scatter3d\",\"mode\":\"markers\",\"x\":[0,1,2,3,4,5,6,7,8,9,10,11,12,13,14,15,16,17,18,19,20,21,22,23,24,25,26,27,28,29,30,31,32,33,34,35,36,37,38,39,40,41,42,43,44,45,46,47,48,49,50,51,52,53,54,55,56,57,58,59,60,61,62,63,64,65,66,67,68,69,70,71,72,73,74,75,76,77,78,79,80,81,82,83,84,85,86,87,88,89,90,91,92,93,94,95,96,97,98,99],\"y\":[0,0.6613958362191396,1.2157799448613633,2.6657680419186844,3.971411992408229,0.7777002376581521,0.9320547248603566,0.7635413124774717,1.325589793857719,7.092789513295477,9.361881152949685,7.303597078412957,8.419922568829456,7.477888390807654,13.114834995951787,5.037118084953979,9.572478774257325,5.7414784708544415,13.745456185537725,11.419372230265704,5.389011837513415,1.620212479319592,10.396624635154405,1.0264657938165993,8.495014248292566,17.063948714439032,17.018334182950756,6.350677474179283,22.977130140087407,0.8412449552492105,5.79427858815401,7.577379135081457,0.18685389381315431,4.196742929673925,15.7983349826203,32.28639334129712,1.0526171508800295,18.078983082355123,10.062196840942537,14.567522982343968,19.93406104529793,11.576315403991487,17.41412320988437,35.043869623556176,23.584507929928122,7.899763709360871,37.89701442715064,7.007538108715944,45.21442214890504,47.78488905132275,38.54178391521819,6.540234125633984,38.21991069156721,16.79994666891591,16.009342044708625,52.366320758278306,23.106176014480766,38.99487004686015,52.37127494723099,29.517896120261543,0.7461319372353148,59.854947924459,12.325744689344328,10.93051873959997,29.619335018895597,47.88436907464208,48.690969376468885,33.08431362528824,52.32573719632643,52.58815151507913,4.334127201459175,14.008319168602336,21.712775647185083,55.39640874554032,65.02844356914126,40.626061479080505,61.64272505773204,71.43228492235,29.33573594174048,74.78757904188305,68.01030115327745,9.2143578288489,74.73572201298833,73.65728204333101,78.3480115648451,33.655806548963355,60.11692903371857,14.658346126124458,11.478833498459268,28.32614510747114,59.65713848046794,29.16255476480183,72.4423874649307,14.126852039484634,30.30392864290845,83.809858195272,66.58193720779983,65.54984814246151,42.76800507370509,74.99426843673542],\"z\":[0,-6.25918125468498E8,2.5816914781206736E8,4.688357380207694E8,-2.4502290451076156E8,-2.198936747863632E9,-5.298476254086079E9,-3.9809988881500587E9,4.334566782050331E9,9.264425856896799E8,2.407797962440009E8,2.5753333513775816E9,-5.5468785118503265E7,8.755342988657198E9,8.931326471846869E9,-1.4735893810521715E10,1.599012648754095E10,-2.930689038057935E10,-1.733952193149274E10,1.0483857021657232E10,1.3820286563047857E9,9.089933226987108E9,-1.5189155403608723E10,-3.373498235841678E9,-3.8327790217624407E9,-4.52146611910287E9,-2.301001124463615E10,2.1975211292266567E10,-1.0199292665610448E9,1.997914812586167E10,-1.8152526551600473E9,-1.996429376773609E10,2.4207481150338845E9,5.3685026319776245E10,-9.257265603075735E9,5.545441001992241E8,-1.3730310103970125E10,-3.757578876705052E10,3.424803937045012E10,-4.5271879316489685E10,-5.176703683093164E9,-2.534410333007179E10,-6.525395085351842E9,5.4974464444159454E10,4.058033834811744E8,-7.5253838143746E9,9.466199282067392E9,3.950127150770253E10,-4.982924578010217E10,3.1321305250076256E10,1.664123213038615E10,-5.864523882358024E9,-3.2351973392706192E10,-5.69851685865834E10,-2.186055582535989E9,1.8379591761955338E10,9.609347587202429E9,3.338669181067098E9,-2.4288082801270782E10,4.1148664259585447E9,-4.498890066143721E10,-3.0263300809056744E10,3.258757901892534E7,2.863046616907365E9,5.1700220934157845E10,1.0781804025919212E11,-1.448868003843161E10,7.394575559167986E10,4.2201624243050876E9,5.067670714647602E10,8.396679403178569E10,1.902202350126329E10,-3.60689953208823E10,-4.518960578502452E9,-8.080061982101998E8,-1.701680949678779E8,-7.866840803551744E10,6.506469398278722E10,1.0352561640978531E11,-6.865692471750817E9,-1.9031194321699646E10,5.454755043056961E10,5.830950934161607E10,-7.953656053115031E10,-9.651405473715974E8,1.1810868517471767E10,-1.2738716914540012E11,2.4072313068100998E10,2.9112348918467975E9,-1.682941088039127E9,-8.949009132810335E9,-1.422709757901299E9,-1.479221543815096E10,8.218383659858493E10,1.0813405259899605E11,3.4339738506129375E10,1.0518145686410783E11,9.801361568147337E9,3.033063258628552E10,1.932776303318109E10]}]},{\"name\":\"series 8\",\"data\":[{\"name\":\"series 8\",\"type\":\"scatter3d\",\"mode\":\"markers\",\"x\":[0,1,2,3,4,5,6,7,8,9,10,11,12,13,14,15,16,17,18,19,20,21,22,23,24,25,26,27,28,29,30,31,32,33,34,35,36,37,38,39,40,41,42,43,44,45,46,47,48,49,50,51,52,53,54,55,56,57,58,59,60,61,62,63,64,65,66,67,68,69,70,71,72,73,74,75,76,77,78,79,80,81,82,83,84,85,86,87,88,89,90,91,92,93,94,95,96,97,98,99],\"y\":[0,0.37311643367475966,1.4234991795118608,0.48596274926283456,3.5088318467807538,2.87823834854446,2.8182210675100343,1.6557786084049089,4.609574868328751,0.6079000320543329,4.649352739077683,10.295172525481824,11.746141883973095,4.812013791862175,1.8308723860250484,13.9772405656803,14.779283207610291,5.391302256290359,11.474828561486781,10.456829604222495,6.44749485561618,7.5495792488295566,6.520843069157104,16.508091815164967,12.978903384609133,16.06368766349317,24.92224354208023,8.087177739143069,4.062661070070998,20.787231233780272,6.175497058420096,15.95817155801796,1.2526497100502816,28.36555165868155,21.416128285261006,27.947715939191156,7.947576068464978,18.645276216442788,24.572860608722394,3.2906481173521267,29.61986774014264,8.162141178210899,4.422310736481976,42.34538003373182,42.20112197631135,38.63571828910154,19.06918143485558,35.54367556560892,41.724250622062186,38.83913993672964,1.6415423462015966,13.04498088652715,3.72186997608718,8.795876338915534,51.08747212656667,17.440418316309422,54.736943849402536,4.234164338973593,11.138050625537645,6.246136053170492,56.86514476800895,23.85269779263795,36.012414183621615,3.0897080307571425,23.768919029557054,58.468820173571075,33.53338718257363,58.676949364256956,9.330789726659614,68.78249736971988,11.24698370014914,11.079554602749525,40.297969999597086,31.546068037912203,35.14592940199574,35.856683558642544,44.1620009595278,9.63087394865356,71.93618508560475,5.265788610389687,79.36572414881525,8.077625035996158,46.70642329720192,17.57967071861513,40.98559610796063,81.9575523705714,76.61324284713625,30.558052781026717,53.55001969914703,15.006183167940097,44.029939637597316,2.6726945299646974,91.87410267413237,44.77089492540449,21.773643892914254,23.005397268255816,92.96803546119565,71.68715597901853,28.774583010237127,86.07811795252286],\"z\":[0,-1.7120151300388927E9,-1.7952208582283735E8,-7.664112230659626E7,-1.0940927442912436E9,-2.8545975434494896E9,2.5574837522240977E9,6.102205452946978E9,-8.059719001375305E9,1.6718730085450163E9,1.966909187279546E9,-3.4021617885143027E9,3.148869176898471E9,6.624933843443965E9,-1.774931333320508E10,2.1047871670551292E10,-8.653891986967442E9,-7.876712796736927E9,5.492471154494149E9,9.936699690359526E9,-7.291097764097444E9,-1.2782539765862051E10,7.601043566877579E9,-1.372522188610004E10,-2.159788117559411E10,2.381641171334305E9,5.844169982208261E9,8.62373350122689E9,-1.8909697007035923E10,2.164571932743965E10,1.7026560500590961E10,9.277564356877575E9,3.920193567068606E10,5.483030102369146E9,1.1321690068969599E10,2.311078111477192E10,-2.58021648788512E9,-2.314850108248134E10,-4.132250751825941E10,-1.5199125049325552E10,-4.0499085656802835E9,8.721743615314074E9,-2.2687621253786987E10,-3.823342289031431E10,5.056449199804003E10,1.0043258793680695E10,1.554639709106338E9,-2.6205311654582962E8,-5.534127316869494E9,9.849045311500126E9,1.784635578593477E10,4.695736675626046E10,-9.910203309133106E9,-1.6022794648023806E10,2.483310791988234E10,3.595216326959378E8,5.671205346122193E10,-6.031264929892982E9,3.533148718181191E10,-2.036126778990538E10,-5.147364991239288E10,-3.4030258522352997E10,-3.198812980785006E10,2.3646056452117726E8,1.0737464168844872E10,-1.5737317116739223E10,-2.6997300614300167E10,-1.9875228383212955E10,-2.9593318162401824E9,2.5360489929172085E10,-3.6103116109354367E9,-8.505944365645853E10,-8.212102969590125E10,-1.0248595675076971E11,-5.277833265123678E10,7.059622476074918E10,4.549313757604011E9,-7.458052628343085E10,4.078719646915285E10,-4.400143809457644E10,3.680555901888784E10,-1.239025134134659E10,4.5473484338743496E8,-5.496538023547539E10,8.049032981691522E10,5.705344872078799E10,1.3460001899973104E10,8.216192295670346E10,-6.96302309717296E10,-8.201183001008869E9,-9.8847593562861E10,-7.508196750204765E10,-4.387884794171938E10,8.55394128856479E9,-8.503995478840938E8,-2.1279957661998966E9,7.50254287426392E10,-2.642034828002187E9,5.794896287681279E9,-6.669184422410384E10]}]},{\"name\":\"series 9\",\"data\":[{\"name\":\"series 9\",\"type\":\"scatter3d\",\"mode\":\"markers\",\"x\":[0,1,2,3,4,5,6,7,8,9,10,11,12,13,14,15,16,17,18,19,20,21,22,23,24,25,26,27,28,29,30,31,32,33,34,35,36,37,38,39,40,41,42,43,44,45,46,47,48,49,50,51,52,53,54,55,56,57,58,59,60,61,62,63,64,65,66,67,68,69,70,71,72,73,74,75,76,77,78,79,80,81,82,83,84,85,86,87,88,89,90,91,92,93,94,95,96,97,98,99],\"y\":[0,0.14110515530954693,1.3434453747284951,2.2206236077128114,3.8485312953796122,0.7969164000710183,2.4081580045736484,0.06965496622961564,1.862448981162867,1.7225938735294122,9.126076683961163,4.785280070437766,3.313807121127172,3.1813794162085665,8.150894767577656,13.571273740929897,0.733389618929591,13.165096611083056,7.239094705098822,1.748745465137874,15.26040257841532,18.412454656393827,15.529962450385167,11.173958348156676,19.025228403976946,19.337489036101804,22.821423637357913,6.859179496863165,25.509079261346002,26.498854677605003,28.61366344654016,12.519569609400282,23.45424977043877,29.758271914449924,30.925869258903724,14.483955020730326,32.79810744438217,9.001027451222066,18.01939497322762,24.45421067878737,8.52287996787705,24.473077873470835,21.43306733045215,9.2268730632412,32.50179136248864,36.677976057289015,16.40339559522897,20.951560185700867,16.630108585360574,27.622534036700383,2.0539141356574975,17.04372034853513,43.007177467579005,38.252892937821834,50.94400110789736,25.74425961257744,26.93263016007276,4.4324034396230365,17.9180424978161,57.77559381079208,32.24651533379188,4.0295499029625885,61.94098113737013,9.83278316281864,18.32925847182898,26.857955055494493,65.99590191482442,11.019429836037038,60.13301604760933,41.5913770297028,35.40350149705948,50.0412348544359,39.19117265531785,0.6144888132770632,62.35200098866896,15.255169971428176,16.897482054325575,30.31516363015181,8.249284396245908,24.789495953465014,77.71056761704645,18.825937049999276,11.976862349878958,7.149002856935984,71.57335121816706,81.93130367043491,39.487505899726116,13.251159957683955,57.99023550113006,77.02350437846009,54.695270388894,60.95210075115429,69.12773563153337,64.86254711450196,3.5080151544578024,54.066692087848196,92.24668535845787,63.72624284057457,52.398341930364055,84.91430611197423],\"z\":[0,-4.553071392304439E7,-2.6542946933405825E8,-9.780392940101954E8,2.893825261508358E9,-3.7161079826114006E9,4.176875366945313E8,9.957368613307035E8,-6.798464215346501E9,-8.211036485329029E9,-9.472185365201448E9,-1.6737218077765021E9,-8.492343995432745E9,1.2396292428800952E9,2.2118498284167236E8,2.563266480253332E10,9.295624337322458E9,8.721000252722715E9,6.587846807855992E8,7.651989953828445E9,-2.9671511364796834E9,-3.85911790705727E9,1.4844154860743223E10,-9.05527945860053E8,2.0525858812107212E10,1.1995107011663586E10,6.080648147120819E9,-5.543925375488924E9,1.4843754783194323E9,3.5497818054608505E10,1.1422629633169203E10,-6.832826053404251E9,-1.8676401203161323E9,-5.082744067377641E9,-1.3322667168050106E10,-2.0505183734932648E10,1.5135685395568037E10,-1.4301122348129467E10,3.7582613865579195E9,-6.637470369083195E10,-9.054147852104862E9,-5.083745545000575E10,-3.4003660805204535E9,1.557156217929936E10,7.067278870918446E10,-5.503342412352843E10,-2.145314309261907E10,4.018560990240664E10,-8.77065902641058E10,6.304957559018025E9,-1.8884072371305378E10,5.3019957694908844E10,-5.9498718524438644E10,-1.574394210292217E10,3.799455090423553E10,7.342090538663431E10,4.190570976576362E9,1.0629633164554296E9,2.2281176406205143E10,-1.1848676636792278E9,9.376073724251201E10,1.602608374590214E10,-1.7755213695696404E10,-4.492786116056964E10,-4.840783308147066E10,-7.897786371119596E9,-7.509490858762595E10,3.2113115332753967E10,7.543313968788305E9,3.1636784203958206E9,-1.1546136237171077E11,3.5651698959201706E10,-7.890996549470654E9,-7.368602429844754E9,-4.680130744977318E10,-3.9987957461486084E10,3.786905719868652E10,-4.0808919967057614E9,3.4105014976951447E10,4.652526682892548E10,-5.7342260301614105E10,-1.0262137115218708E10,-1.8793049211306093E9,5.271071805629081E10,4.588750638813575E9,-3.2815717065431236E10,1.9583204415195175E10,1.6233378835868048E11,1.368714958184026E11,-2.6399696351420226E9,1.3607074262648127E10,-9.146300872661838E7,-2.19945513703488E10,3.1068666434731895E10,2.57088739891181E9,1.5492988757970003E10,4.50306109564004E9,3.915821077188805E10,-7.55638319388639E10,-7.159457887697605E9]}]}]\n",
       "var labels_o2Qvztsk6z = [\"series 0\",\"series 1\",\"series 2\",\"series 3\",\"series 4\",\"series 5\",\"series 6\",\"series 7\",\"series 8\",\"series 9\"]\n",
       "var duration_o2Qvztsk6z = 100\n",
       "var config_o2Qvztsk6z = {\"responsive\":true,\"scrollZoom\":true,\"displaylogo\":false}\n",
       "\n",
       "var animation_settings_o2Qvztsk6z = {\n",
       "    mode: \"immediate\",\n",
       "    direction: {},\n",
       "    fromcurrent: true,\n",
       "    frame: [\n",
       "      {duration: duration_o2Qvztsk6z},\n",
       "      {duration: duration_o2Qvztsk6z},\n",
       "      {redraw: true}\n",
       "    ],\n",
       "    transition: [\n",
       "      {duration: duration_o2Qvztsk6z, easing: 'cubic-in-out'},\n",
       "      {duration: duration_o2Qvztsk6z, easing: 'cubic-in-out'},\n",
       "    ],\n",
       "    ordering: \"layout first\"\n",
       "}\n",
       "\n",
       "var slider_o2Qvztsk6z = document.createElement(\"input\")\n",
       "var play_o2Qvztsk6z = document.getElementById(\"play_o2Qvztsk6z\")\n",
       "var pause_o2Qvztsk6z = document.getElementById(\"pause_o2Qvztsk6z\")\n",
       "slider_o2Qvztsk6z.id = \"slider_o2Qvztsk6z\"\n",
       "slider_o2Qvztsk6z.type = \"range\"\n",
       "slider_o2Qvztsk6z.min = 0\n",
       "slider_o2Qvztsk6z.max = frames_o2Qvztsk6z.length - 1\n",
       "slider_o2Qvztsk6z.value = 0\n",
       "document.getElementById(\"sliderContainer_o2Qvztsk6z\").appendChild(slider_o2Qvztsk6z);\n",
       "\n",
       "Plotly.newPlot(graph_o2Qvztsk6z, traces_o2Qvztsk6z, layout_o2Qvztsk6z, config_o2Qvztsk6z)\n",
       ".then(function () { Plotly.addFrames(graph_o2Qvztsk6z, frames_o2Qvztsk6z) })\n",
       "\n",
       "var trigger_o2Qvztsk6z = true\n",
       "var reset_count_o2Qvztsk6z = false\n",
       "\n",
       "play_o2Qvztsk6z.addEventListener('click', function() {\n",
       "   trigger_o2Qvztsk6z = true\n",
       "   if (reset_count_o2Qvztsk6z) {\n",
       "      slider_o2Qvztsk6z.value = 0\n",
       "      reset_count_o2Qvztsk6z = false\n",
       "   }\n",
       "\n",
       "  const start_index = slider_o2Qvztsk6z.value == labels_o2Qvztsk6z.length - 1 ? 0 : slider_o2Qvztsk6z.value\n",
       "  const end_index = labels_o2Qvztsk6z.length\n",
       "  Plotly.animate(graph_o2Qvztsk6z, labels_o2Qvztsk6z.slice(start_index, end_index), animation_settings_o2Qvztsk6z)\n",
       "})\n",
       "\n",
       "pause_o2Qvztsk6z.addEventListener('click', function() {\n",
       "  Plotly.animate(graph_o2Qvztsk6z, [null], animation_settings_o2Qvztsk6z)\n",
       "})\n",
       "\n",
       "graph_o2Qvztsk6z.on('plotly_redraw', () => {\n",
       "   value_o2Qvztsk6z.innerHTML = slider_o2Qvztsk6z.value;\n",
       "   if (trigger_o2Qvztsk6z & !reset_count_o2Qvztsk6z) ++slider_o2Qvztsk6z.value\n",
       "   if (slider_o2Qvztsk6z.value == labels_o2Qvztsk6z.length - 1) reset_count_o2Qvztsk6z = true\n",
       "});\n",
       "\n",
       "slider_o2Qvztsk6z.oninput = function() {\n",
       "   Plotly.animate(graph_o2Qvztsk6z, frames_o2Qvztsk6z[this.value], animation_settings_o2Qvztsk6z)\n",
       "   trigger_o2Qvztsk6z = false\n",
       "   slider_o2Qvztsk6z.value = this.value\n",
       "   value_o2Qvztsk6z.innerHTML = this.value;\n",
       "   if (this.value == 0) reset_count_o2Qvztsk6z = false\n",
       "   if (this.value == labels_o2Qvztsk6z.length - 1) reset_count_o2Qvztsk6z = true\n",
       "   reset_count_o2Qvztsk6z = false\n",
       "}\n",
       "</script> \n"
      ]
     },
     "metadata": {},
     "output_type": "display_data"
    }
   ],
   "source": [
    "val series = createXYZSeries(numberToCreate = 10, length = 100)\n",
    "\n",
    "val layout = ChartLayout()\n",
    "\n",
    "val chart = Chart(animated = true) setTitle \"Animation 3D\" addSeries series \n",
    "\n",
    "chart.plotInline"
   ]
  },
  {
   "cell_type": "markdown",
   "metadata": {},
   "source": [
    "## IO + Utility Functions\n",
    "\n",
    "The library also comes with some basic CSV IO functions and a utility function for breaking down data"
   ]
  },
  {
   "cell_type": "code",
   "execution_count": 43,
   "metadata": {},
   "outputs": [],
   "source": [
    "import org.carbonateresearch.picta.IO._\n",
    "import org.carbonateresearch.picta.common.Utils.getSeriesbyCategory"
   ]
  },
  {
   "cell_type": "code",
   "execution_count": 44,
   "metadata": {},
   "outputs": [
    {
     "name": "stdout",
     "output_type": "stream",
     "text": [
      "/Users/fazi/Desktop/Final Project/irp-acse-fk4517/Code\n"
     ]
    }
   ],
   "source": [
    "val working_directory = getWorkingDirectory\n",
    "\n",
    "println(working_directory)"
   ]
  },
  {
   "cell_type": "code",
   "execution_count": 45,
   "metadata": {},
   "outputs": [],
   "source": [
    "// by providing a path, we can read in a CSV\n",
    "val filepath = working_directory + \"/iris_csv.csv\"\n",
    "\n",
    "val data = readCSV(filepath)\n",
    "\n",
    "// by default, CSV are read in as strings. However we can convert the individual columns to the correct format\n",
    "val sepal_length = data(\"sepallength\").map(_.toDouble)\n",
    "val petal_width = data(\"petalwidth\").map(_.toDouble)\n",
    "val categories = data(\"class\")"
   ]
  },
  {
   "cell_type": "code",
   "execution_count": 46,
   "metadata": {},
   "outputs": [
    {
     "data": {
      "text/html": [
       "<div id=\"grid-container_brSt4njyhn\" class=\"grid-container\" align=\"center\"> \n",
       "<div id=\"grid_brSt4njyhn\" class=\"grid\" align=\"center\"> \n",
       "<div id=\"graph_D9zlyGfKxb\" class=\"graph\"></div> \n",
       "</div> \n",
       "</div> \n",
       "<script>\n",
       "var masonry = new Macy({\n",
       "    container: '#grid_brSt4njyhn',\n",
       "    debug: true,\n",
       "    mobileFirst: true,\n",
       "    columns: 1,\n",
       "    margin: {\n",
       "        x: 0,\n",
       "        y: 0\n",
       "    }\n",
       "  });\n",
       "\n",
       " var traces_D9zlyGfKxb = [{\"name\":\"cvfxrX6Pmf\",\"type\":\"scatter\",\"mode\":\"markers\",\"x\":[5.9,6.2,6.5,6.3,6.7,6.7,6.8,5.8,6.9,6.7,6.9,6,6.4,6.3,7.7,6.1,6.3,6.4,7.9,7.4,7.2,6.4,6.1,6.2,7.2,6.7,6.3,7.7,5.6,6.9,6,7.7,7.7,6.5,6.4,5.8,5.7,6.8,6.4,6.5,7.2,6.7,7.3,4.9,7.6,6.5,6.3,7.1,5.8,6.3,5.7,5.1,6.2,5.7,5.7,5.6,5,5.8,6.1,5.5,5.5,5.6,6.3,6.7,6,5.4,6,5.8,5.5,5.5,5.7,6,6.7,6.8,6.6,6.4,6.1,6.3,6.1,5.9,5.6,6.2,5.8,5.6,6.7,5.6,6.1,6,5.9,5,5.2,6.6,4.9,6.3,5.7,6.5,5.5,6.9,6.4,7,5,5.3,4.6,5.1,4.8,5.1,5,4.4,4.5,5,5.1,4.4,4.9,5.5,5,4.9,5.5,5.2,5.4,4.8,4.7,5.2,5.2,5,5,4.8,5.1,4.6,5.1,5.4,5.1,5.7,5.1,5.4,5.7,5.8,4.3,4.8,4.8,5.4,4.9,4.4,5,4.6,5.4,5,4.6,4.7,4.9,5.1],\"y\":[1.8,2.3,2,1.9,2.3,2.5,2.3,1.9,2.3,2.4,2.1,1.8,1.8,2.4,2.3,1.4,1.5,2.2,2,1.9,1.6,2.1,1.8,1.8,1.8,2.1,1.8,2,2,2.3,1.5,2.3,2.2,1.8,2.3,2.4,2,2.1,1.9,2,2.5,1.8,1.8,1.7,2.1,2.2,1.8,2.1,1.9,2.5,1.3,1.1,1.3,1.3,1.2,1.3,1,1.2,1.4,1.2,1.3,1.3,1.3,1.5,1.6,1.5,1.6,1.2,1,1.1,1,1.5,1.7,1.4,1.4,1.3,1.2,1.5,1.3,1.8,1.1,1.5,1,1.5,1.4,1.3,1.4,1,1.5,1,1.4,1.3,1,1.6,1.3,1.5,1.3,1.5,1.5,1.4,0.2,0.2,0.2,0.2,0.3,0.4,0.6,0.2,0.3,0.3,0.2,0.2,0.1,0.2,0.2,0.1,0.2,0.1,0.4,0.2,0.2,0.2,0.2,0.4,0.2,0.2,0.5,0.2,0.4,0.2,0.3,0.3,0.3,0.4,0.4,0.2,0.1,0.1,0.2,0.2,0.1,0.2,0.2,0.3,0.4,0.2,0.2,0.2,0.2,0.2]}];\n",
       " var layout_D9zlyGfKxb = {\"height\":550,\"width\":600,\"hovermode\":\"closest\",\"legend\":{\"orientation\":\"v\"},\"title\":{\"text\":\"Uninformative Chart\"},\"showlegend\":true};\n",
       " var config_D9zlyGfKxb = {\"responsive\":true,\"scrollZoom\":true,\"displaylogo\":false};\n",
       " Plotly.newPlot(\"graph_D9zlyGfKxb\", traces_D9zlyGfKxb, layout_D9zlyGfKxb, config_D9zlyGfKxb);\n",
       "</script> \n"
      ]
     },
     "metadata": {},
     "output_type": "display_data"
    }
   ],
   "source": [
    "val series = XY(sepal_length, petal_width) asType SCATTER drawStyle MARKERS\n",
    "\n",
    "val chart = Chart() addSeries series setTitle \"Uninformative Chart\"\n",
    "\n",
    "chart.plotInline"
   ]
  },
  {
   "cell_type": "markdown",
   "metadata": {},
   "source": [
    "The above chart is not very informative. However since we have the per data point category labels, we can use the utility function to display the data in the different clusters"
   ]
  },
  {
   "cell_type": "code",
   "execution_count": 47,
   "metadata": {},
   "outputs": [
    {
     "data": {
      "text/html": [
       "<div id=\"grid-container_pnZNVfGbeG\" class=\"grid-container\" align=\"center\"> \n",
       "<div id=\"grid_pnZNVfGbeG\" class=\"grid\" align=\"center\"> \n",
       "<div id=\"graph_LzIc6EbmIP\" class=\"graph\"></div> \n",
       "</div> \n",
       "</div> \n",
       "<script>\n",
       "var masonry = new Macy({\n",
       "    container: '#grid_pnZNVfGbeG',\n",
       "    debug: true,\n",
       "    mobileFirst: true,\n",
       "    columns: 1,\n",
       "    margin: {\n",
       "        x: 0,\n",
       "        y: 0\n",
       "    }\n",
       "  });\n",
       "\n",
       " var traces_LzIc6EbmIP = [{\"name\":\"Iris-versicolor\",\"type\":\"scatter\",\"mode\":\"markers\",\"x\":[7,6.4,6.9,5.5,6.5,5.7,6.3,4.9,6.6,5.2,5,5.9,6,6.1,5.6,6.7,5.6,5.8,6.2,5.6,5.9,6.1,6.3,6.1,6.4,6.6,6.8,6.7,6,5.7,5.5,5.5,5.8,6,5.4,6,6.7,6.3,5.6,5.5,5.5,6.1,5.8,5,5.6,5.7,5.7,6.2,5.1,5.7],\"y\":[1.4,1.5,1.5,1.3,1.5,1.3,1.6,1,1.3,1.4,1,1.5,1,1.4,1.3,1.4,1.5,1,1.5,1.1,1.8,1.3,1.5,1.2,1.3,1.4,1.4,1.7,1.5,1,1.1,1,1.2,1.6,1.5,1.6,1.5,1.3,1.3,1.3,1.2,1.4,1.2,1,1.3,1.2,1.3,1.3,1.1,1.3]},{\"name\":\"Iris-setosa\",\"type\":\"scatter\",\"mode\":\"markers\",\"x\":[5.1,4.9,4.7,4.6,5,5.4,4.6,5,4.4,4.9,5.4,4.8,4.8,4.3,5.8,5.7,5.4,5.1,5.7,5.1,5.4,5.1,4.6,5.1,4.8,5,5,5.2,5.2,4.7,4.8,5.4,5.2,5.5,4.9,5,5.5,4.9,4.4,5.1,5,4.5,4.4,5,5.1,4.8,5.1,4.6,5.3,5],\"y\":[0.2,0.2,0.2,0.2,0.2,0.4,0.3,0.2,0.2,0.1,0.2,0.2,0.1,0.1,0.2,0.4,0.4,0.3,0.3,0.3,0.2,0.4,0.2,0.5,0.2,0.2,0.4,0.2,0.2,0.2,0.2,0.4,0.1,0.2,0.1,0.2,0.2,0.1,0.2,0.2,0.3,0.3,0.2,0.6,0.4,0.3,0.2,0.2,0.2,0.2]},{\"name\":\"Iris-virginica\",\"type\":\"scatter\",\"mode\":\"markers\",\"x\":[6.3,5.8,7.1,6.3,6.5,7.6,4.9,7.3,6.7,7.2,6.5,6.4,6.8,5.7,5.8,6.4,6.5,7.7,7.7,6,6.9,5.6,7.7,6.3,6.7,7.2,6.2,6.1,6.4,7.2,7.4,7.9,6.4,6.3,6.1,7.7,6.3,6.4,6,6.9,6.7,6.9,5.8,6.8,6.7,6.7,6.3,6.5,6.2,5.9],\"y\":[2.5,1.9,2.1,1.8,2.2,2.1,1.7,1.8,1.8,2.5,2,1.9,2.1,2,2.4,2.3,1.8,2.2,2.3,1.5,2.3,2,2,1.8,2.1,1.8,1.8,1.8,2.1,1.6,1.9,2,2.2,1.5,1.4,2.3,2.4,1.8,1.8,2.1,2.4,2.3,1.9,2.3,2.5,2.3,1.9,2,2.3,1.8]}];\n",
       " var layout_LzIc6EbmIP = {\"height\":550,\"width\":600,\"hovermode\":\"closest\",\"legend\":{\"orientation\":\"v\"},\"title\":{\"text\":\"Iris\"},\"showlegend\":true};\n",
       " var config_LzIc6EbmIP = {\"responsive\":true,\"scrollZoom\":true,\"displaylogo\":false};\n",
       " Plotly.newPlot(\"graph_LzIc6EbmIP\", traces_LzIc6EbmIP, layout_LzIc6EbmIP, config_LzIc6EbmIP);\n",
       "</script> \n"
      ]
     },
     "metadata": {},
     "output_type": "display_data"
    }
   ],
   "source": [
    "val result = getSeriesbyCategory(categories, (sepal_length, petal_width))\n",
    "\n",
    "val chart = Chart() addSeries result setTitle \"Iris\" showLegend true\n",
    "\n",
    "chart.plotInline"
   ]
  },
  {
   "cell_type": "markdown",
   "metadata": {},
   "source": [
    "## Conus Integration\n",
    "\n",
    "A couple of utility functions make wrangling conus data easier. Below is an example taken from the conus repo and plotting some variables of interest."
   ]
  },
  {
   "cell_type": "code",
   "execution_count": 48,
   "metadata": {},
   "outputs": [],
   "source": [
    "import org.carbonateresearch.picta.conus.Utils._"
   ]
  },
  {
   "cell_type": "code",
   "execution_count": 49,
   "metadata": {},
   "outputs": [],
   "source": [
    "import org.carbonateresearch.picta.conus.Utils._\n",
    "import org.carbonateresearch.picta.{Canvas, Chart, XY}\n",
    "import org.carbonateresearch.conus.common.SingleModelResults\n",
    "import org.carbonateresearch.conus.modelzoo.GeneralGeology._\n",
    "import org.carbonateresearch.conus.modelzoo.PasseyHenkesClumpedDiffusionModel._\n",
    "import org.carbonateresearch.conus.{AllCells, ModelVariable, PerCell, Simulator, Step, SteppedModel}\n",
    "\n",
    "import math._"
   ]
  },
  {
   "cell_type": "code",
   "execution_count": 50,
   "metadata": {
    "scrolled": false
   },
   "outputs": [
    {
     "name": "stdout",
     "output_type": "stream",
     "text": [
      "18:56:15.212 [CoNuS-akka.actor.default-dispatcher-3] INFO akka.event.slf4j.Slf4jLogger - Slf4jLogger started\n"
     ]
    },
    {
     "name": "stderr",
     "output_type": "stream",
     "text": [
      "SLF4J: A number (1) of logging calls during the initialization phase have been intercepted and are\n",
      "SLF4J: now being replayed. These are subject to the filtering rules of the underlying logging system.\n",
      "SLF4J: See also http://www.slf4j.org/codes.html#replay\n"
     ]
    },
    {
     "name": "stdout",
     "output_type": "stream",
     "text": [
      "A total of 135 unique models were defined, attempting to create a list now.\n",
      "Models list successfully created.\n",
      "----------------------------------------\n",
      "RUN STARTED\n",
      "----------------------------------------\n",
      "\u001b[0m\u001b[35m\u001b[4mRUN DATA\u001b[0m\n",
      "\u001b[0m\u001b[33mTotal number of models:\u001b[0m \u001b[37m135\n",
      "\u001b[0m\u001b[33mNumber of cell per grid:\u001b[0m\u001b[37m 19\n",
      "\u001b[0m\u001b[33mNumber of steps per model:\u001b[0m\u001b[37m 10\n",
      "\u001b[0m\u001b[33mNumber of operation per step:\u001b[0m\u001b[37m 304\n",
      "\u001b[0m\u001b[33mTotal number of operations:\u001b[0m\u001b[37m 410'400\n",
      "\u001b[0m\u001b[33mAvailable CPU cores:\u001b[0m\u001b[37m 8\n",
      "\u001b[0m\u001b[34m----------------------------------------\u001b[0m\n",
      "\u001b[0m\u001b[35m\u001b[4mRUN PROGRESS\u001b[0m\n",
      "Model #4 completed in 1 seconds is calibrated.\n",
      "Model #6 completed in 1 seconds is calibrated.\n",
      "Model #5 completed in 1 seconds is calibrated.\n",
      "Model #7 completed in 1 seconds is calibrated.\n",
      "Model #3 completed in 1 seconds is calibrated.\n",
      "Model #1 completed in 1 seconds is calibrated.\n",
      "Model #8 completed in 1 seconds is calibrated.\n",
      "Model #2 completed in 1 seconds is calibrated.\n",
      "Model #11 completed in 1 seconds is calibrated.\n",
      "Model #12 completed in 1 seconds is calibrated.\n",
      "Model #9 completed in 1 seconds is calibrated.\n",
      "Model #10 completed in 1 seconds is calibrated.\n",
      "Model #13 completed in 1 seconds is calibrated.\n",
      "Model #14 completed in 1 seconds is calibrated.\n",
      "Model #17 completed in 1 seconds is calibrated.\n",
      "Model #16 completed in 1 seconds is calibrated.\n",
      "Model #18 completed in 1 seconds is calibrated.\n",
      "Model #21 completed in 1 seconds is calibrated.\n",
      "Model #15 completed in 1 seconds is calibrated.\n",
      "Model #19 completed in 1 seconds is calibrated.\n",
      "Model #20 completed in 1 seconds is calibrated.\n",
      "Model #23 completed in 1 seconds is calibrated.\n",
      "Model #26 completed in 1 seconds is calibrated.\n",
      "Model #24 completed in 1 seconds is calibrated.\n",
      "Model #27 completed in 1 seconds is calibrated.\n",
      "Model #30 completed in 1 seconds is calibrated.\n",
      "Model #31 completed in 1 seconds is calibrated.\n",
      "Model #28 completed in 1 seconds is calibrated.\n",
      "Model #25 completed in 1 seconds is calibrated.\n",
      "Model #22 completed in 1 seconds is calibrated.\n",
      "Model #33 completed in 1 seconds is calibrated.\n",
      "Model #35 completed in 1 seconds is calibrated.\n",
      "Model #36 completed in 1 seconds is calibrated.\n",
      "Model #32 completed in 1 seconds is calibrated.\n",
      "Model #37 completed in 1 seconds is calibrated.\n",
      "Model #29 completed in 1 seconds is calibrated.\n",
      "Model #39 completed in 1 seconds is calibrated.\n",
      "Model #42 completed in 1 seconds is calibrated.\n",
      "Model #43 completed in 1 seconds is calibrated.\n",
      "Model #34 completed in 1 seconds is calibrated.\n",
      "Model #44 completed in 1 seconds is calibrated.\n",
      "Model #38 completed in 1 seconds is calibrated.\n",
      "Model #41 completed in 1 seconds is calibrated.\n",
      "Model #40 completed in 1 seconds is calibrated.\n",
      "Model #47 completed in 1 seconds is calibrated.\n",
      "Model #46 completed in 1 seconds is calibrated.\n",
      "Model #45 completed in 1 seconds is calibrated.\n",
      "Model #48 completed in 1 seconds is calibrated.\n",
      "Model #49 completed in 1 seconds is calibrated.\n",
      "Model #51 completed in 1 seconds is calibrated.\n",
      "Model #52 completed in 1 seconds is calibrated.\n",
      "Model #55 completed in 1 seconds is calibrated.\n",
      "Model #56 completed in 1 seconds is calibrated.\n",
      "Model #50 completed in 1 seconds is calibrated.\n",
      "Model #61 completed in 1 seconds is calibrated.\n",
      "Model #53 completed in 1 seconds is calibrated.\n",
      "Model #57 completed in 1 seconds is calibrated.\n",
      "Model #54 completed in 1 seconds is calibrated.\n",
      "Model #64 completed in 1 seconds is calibrated.\n",
      "Model #65 completed in 1 seconds is calibrated.\n",
      "Model #63 completed in 1 seconds is calibrated.\n",
      "Model #59 completed in 1 seconds is calibrated.\n",
      "Model #60 completed in 1 seconds is calibrated.\n",
      "Model #68 completed in 1 seconds is calibrated.\n",
      "Model #69 completed in 1 seconds is calibrated.\n",
      "Model #62 completed in 1 seconds is calibrated.\n",
      "Model #67 completed in 1 seconds is calibrated.\n",
      "Model #70 completed in 1 seconds is calibrated.\n",
      "Model #73 completed in 1 seconds is calibrated.\n",
      "Model #58 completed in 1 seconds is calibrated.\n",
      "Model #74 completed in 1 seconds is calibrated.\n",
      "Model #66 completed in 1 seconds is calibrated.\n",
      "Model #72 completed in 1 seconds is calibrated.\n",
      "Model #71 completed in 1 seconds is calibrated.\n",
      "Model #76 completed in 1 seconds is calibrated.\n",
      "Model #79 completed in 1 seconds is calibrated.\n",
      "Model #75 completed in 1 seconds is calibrated.\n",
      "Model #82 completed in 1 seconds is calibrated.\n",
      "Model #81 completed in 1 seconds is calibrated.\n",
      "Model #80 completed in 1 seconds is calibrated.\n",
      "Model #83 completed in 1 seconds is calibrated.\n",
      "Model #78 completed in 1 seconds is calibrated.\n",
      "Model #85 completed in 1 seconds is calibrated.\n",
      "Model #86 completed in 1 seconds is calibrated.\n",
      "Model #84 completed in 1 seconds is calibrated.\n",
      "Model #87 completed in 1 seconds is calibrated.\n",
      "Model #77 completed in 1 seconds is calibrated.\n",
      "Model #89 completed in 1 seconds is calibrated.\n",
      "Model #92 completed in 1 seconds is calibrated.\n",
      "Model #93 completed in 1 seconds is calibrated.\n",
      "Model #94 completed in 1 seconds is calibrated.\n",
      "Model #88 completed in 1 seconds is calibrated.\n",
      "Model #95 completed in 1 seconds is calibrated.\n",
      "Model #99 completed in 1 seconds is calibrated.\n",
      "Model #98 completed in 1 seconds is calibrated.\n",
      "Model #90 completed in 1 seconds is calibrated.\n",
      "Model #91 completed in 1 seconds is calibrated.\n",
      "Model #100 completed in 1 seconds is not calibrated.\n",
      "Model #101 completed in 1 seconds is not calibrated.\n",
      "Model #105 completed in 1 seconds is not calibrated.\n",
      "Model #96 completed in 1 seconds is calibrated.\n",
      "Model #102 completed in 1 seconds is not calibrated.\n",
      "Model #97 completed in 1 seconds is calibrated.\n",
      "Model #108 completed in 1 seconds is calibrated.\n",
      "Model #103 completed in 1 seconds is not calibrated.\n",
      "Model #109 completed in 1 seconds is calibrated.\n",
      "Model #104 completed in 1 seconds is not calibrated.\n",
      "Model #110 completed in 1 seconds is calibrated.\n",
      "Model #112 completed in 1 seconds is calibrated.\n",
      "Model #106 completed in 1 seconds is calibrated.\n",
      "Model #114 completed in 1 seconds is calibrated.\n",
      "Model #117 completed in 1 seconds is not calibrated.\n",
      "Model #113 completed in 1 seconds is calibrated.\n",
      "Model #118 completed in 1 seconds is not calibrated.\n",
      "Model #111 completed in 1 seconds is calibrated.\n",
      "Model #120 completed in 1 seconds is not calibrated.\n",
      "Model #116 completed in 1 seconds is not calibrated.\n",
      "Model #122 completed in 1 seconds is calibrated.\n",
      "Model #107 completed in 1 seconds is calibrated.\n",
      "Model #124 completed in 1 seconds is calibrated.\n",
      "Model #119 completed in 1 seconds is not calibrated.\n",
      "Model #115 completed in 1 seconds is not calibrated.\n",
      "Model #126 completed in 1 seconds is calibrated.\n",
      "Model #121 completed in 1 seconds is calibrated.\n",
      "Model #127 completed in 1 seconds is calibrated.\n",
      "Model #128 completed in 1 seconds is calibrated.\n",
      "Model #129 completed in 1 seconds is calibrated.\n",
      "Model #131 completed in 1 seconds is not calibrated.\n",
      "Model #123 completed in 1 seconds is calibrated.\n",
      "Model #125 completed in 1 seconds is calibrated.\n",
      "Model #135 completed in 1 seconds is not calibrated.\n",
      "Model #130 completed in 1 seconds is not calibrated.\n",
      "Model #134 completed in 1 seconds is not calibrated.\n",
      "Model #132 completed in 1 seconds is not calibrated.\n",
      "Model #133 completed in 1 seconds is not calibrated.\n",
      "\n",
      "----------------------------------------\n",
      "END OF RUN\n",
      "----------------------------------------\n"
     ]
    }
   ],
   "source": [
    "val modelWarehouse = Simulator\n",
    "\n",
    "// a few constants\n",
    "val rhocal:Double = 2.71 //Density of carbonates\n",
    "val cOf=889000 //concentration of O in fluid\n",
    "val cCf=200 //concentration of C in fluid\n",
    "val cOcal = 480000 //concentration of O in stoichiometric calcite\n",
    "val cCcal = 120000 //concentration of C in stoichiometric calcite\n",
    "val d13Ctdc = 0 //carbon isotope composition of total dissolved carbon in fluid\n",
    "\n",
    "// setting model variables\n",
    "val initialAge:ModelVariable[Double] = ModelVariable(\"Initial age\",96.0,\"Ma\")\n",
    "val finalAge:ModelVariable[Double] = ModelVariable(\"Final age\",0.0,\"Ma\")\n",
    "val d18Of:ModelVariable[Double] = ModelVariable(\"Fluid d18O\",-1.0,\"‰\")\n",
    "val TmaxSample:ModelVariable[Double] = ModelVariable(\"Tmax\",0.0,\"˚C\")\n",
    "val WFF:ModelVariable[Double] = ModelVariable(\"Weight fraction of fluid\",0.0,\"\")\n",
    "val CWRR:ModelVariable[Double] = ModelVariable(\"Cumulative water/rock ratio\",0.0,\"\")\n",
    "val FluidMass:ModelVariable[Double] = ModelVariable(\"Mass of fluid\",0.2,\"\")\n",
    "val d18Occ:ModelVariable[Double] = ModelVariable(\"d18Occ\",1.0,\"‰\")\n",
    "val d13Ccc:ModelVariable[Double] = ModelVariable(\"d13Ccc\",1.0,\"‰\")\n",
    "val D47r:ModelVariable[Double] = ModelVariable(\"D47 with partial recrystallization\",.5,\"‰\")\n",
    "val fractionRec:ModelVariable[Double] = ModelVariable(\"Fraction of recrystallization\",0.01,\"‰\")\n",
    "val initalBurialAtModelStart:ModelVariable[Double] = ModelVariable(\"Initial burial at model start\",0.0,\"meters\")\n",
    "\n",
    "// Initialise model conditions as lists\n",
    "val burialHistory = List((96.0,0.0), (39.0,2000.0), (0.0,-70.0))\n",
    "val geothermalGradientHistory= List((96.0,30.0),(0.0,30.0))\n",
    "val surfaceTemperaturesHistory = List((96.0,30.0),(0.0,30.0))\n",
    "val numberOfSteps = 10\n",
    "val ageList:List[Double] = List(97.0,96.0,95.0)\n",
    "val finalAgeList:List[Double] = List(0.0)\n",
    "val rangeOfFluidMasses:List[Double] = List(0.2)\n",
    "val rangeOfPartialRecrystallization = List(1.0,.5,.1,.01,0.0)\n",
    "\n",
    "// Bulk isotope calculation equations\n",
    "val d18OccFunction = (s:Step) => {\n",
    "    val cO=(WFF(s)*cOf)+(1-WFF(s))*cOcal\n",
    "    val alpha = math.exp((18.03*(1000*pow((burialTemperature(s)+273.15), -1)) - 32.42)/1000)\n",
    "    val d18O = ((d18Of(s) * WFF(s) * cOf) + d18Occ(s) * (1-WFF(s)) * cOf)/ cO\n",
    "    ((d18O * cOf * alpha) - (1000 * cOf * WFF(s) * (1-alpha))) / ((cOcal * (1-WFF(s)) * alpha) + cOf * WFF(s))\n",
    "}\n",
    "\n",
    "val d13CccFunction = (s:Step) => {\n",
    "    val cC=(WFF(s)*cCf)+(1-WFF(s))*cCcal\n",
    "    val alpha = exp((-2.4612+(7666.3/100) - (2.9880*pow(10,3)/pow((burialTemperature(s)+273.15),6)))/1000)\n",
    "    val d13C = ((d13Ctdc * WFF(s) * d13Ctdc) + (d13Ccc(s) * (1-WFF(s)) * cCcal))/cC\n",
    "    ((d13C * cC * alpha) - (1000 * cCf * WFF(s) * (1-alpha))) / (cCcal * (1-WFF(s) * alpha) + cCf * WFF(s))\n",
    "}\n",
    "\n",
    "val eaglefordModel = new SteppedModel(numberOfSteps,\"Eagleford recrystallization\")\n",
    "    .setGrid(19)\n",
    "    .defineMathematicalModel(\n",
    "      age =>> ageOfStep(initialAge,finalAge),\n",
    "      depth =>> {(s:Step) => {burialDepthFromAgeModel(age,burialHistory).apply(s)+initalBurialAtModelStart(s)}},\n",
    "      surfaceTemperature =>> surfaceTemperaturesAtAge(age, surfaceTemperaturesHistory),\n",
    "      geothermalGradient =>> geothermalGradientAtAge(age,geothermalGradientHistory),\n",
    "      burialTemperature =>> burialTemperatureFromGeothermalGradient(surfaceTemperature,depth,geothermalGradient),\n",
    "      dT =>> dTFun,\n",
    "      D47eq =>> D47eqFun,\n",
    "      D47i =>> D47iFun,\n",
    "      SampleTemp =>> davies19_T,\n",
    "      FluidMass =>> {(s:Step) => 0.2},\n",
    "      d18Of =>> {(s:Step) => -1.0},\n",
    "      WFF =>> {(s:Step) => FluidMass(s) / (FluidMass(s) + rhocal)},\n",
    "      CWRR =>> {(s:Step) => s.stepNumber * WFF(s)/(1-WFF(s))},\n",
    "      d18Occ =>> d18OccFunction,\n",
    "      d13Ccc =>> d13CccFunction,\n",
    "      D47r =>> {(s:Step) => {if(burialTemperature(s)-burialTemperature(s-1) >= 0){D47r(s-1) * (1.0-fractionRec(s)) + D47eq(s) * fractionRec(s)}\n",
    "      else {D47r(s-1)}}}\n",
    "    )\n",
    "    .defineInitialModelConditions(\n",
    "      AllCells(initialAge,ageList),\n",
    "      AllCells(finalAge,finalAgeList),\n",
    "      AllCells(fractionRec,rangeOfPartialRecrystallization),\n",
    "      AllCells(D47i,List(0.670,0.680,0.690)),\n",
    "      AllCells(D47r,List(0.670,0.680,0.690)),\n",
    "      PerCell(initalBurialAtModelStart,List(\n",
    "        (List(0.0),Seq(0)),\n",
    "        (List(-0.91),Seq(1)),\n",
    "        (List(-1.22),Seq(2)),\n",
    "        (List(-2.90),Seq(3)),\n",
    "        (List(-4.57),Seq(4)),\n",
    "        (List(-4.88),Seq(5)),\n",
    "        (List(-4.90),Seq(6)),\n",
    "        (List(-6.10),Seq(7)),\n",
    "        (List(-6.40),Seq(8)),\n",
    "        (List(-6.71),Seq(9)),\n",
    "        (List(-25.90),Seq(10)),\n",
    "        (List(-28.96),Seq(11)),\n",
    "        (List(-29.87),Seq(12)),\n",
    "        (List(-35.05),Seq(13)),\n",
    "        (List(-35.36),Seq(14)),\n",
    "        (List(-35.97),Seq(15)),\n",
    "        (List(-36.58),Seq(16)),\n",
    "        (List(-37.19),Seq(17)),\n",
    "        (List(-38.90),Seq(18)))))\n",
    "    .defineCalibration(\n",
    "      D47r.isBetween(0.511,0.683).atCells(Seq(0)),\n",
    "      D47r.isBetween(0.511,0.683).atCells(Seq(1)),\n",
    "      D47r.isBetween(0.511,0.683).atCells(Seq(2)),\n",
    "      D47r.isBetween(0.511,0.683).atCells(Seq(3)),\n",
    "      D47r.isBetween(0.511,0.683).atCells(Seq(4)),\n",
    "      D47r.isBetween(0.511,0.683).atCells(Seq(5)),\n",
    "      D47r.isBetween(0.511,0.683).atCells(Seq(6)),\n",
    "      D47r.isBetween(0.511,0.683).atCells(Seq(7)),\n",
    "      D47r.isBetween(0.511,0.683).atCells(Seq(8)),\n",
    "      D47r.isBetween(0.511,0.683).atCells(Seq(9)),\n",
    "      D47r.isBetween(0.511,0.683).atCells(Seq(10)),\n",
    "      D47r.isBetween(0.511,0.683).atCells(Seq(11)),\n",
    "      D47r.isBetween(0.511,0.683).atCells(Seq(12)),\n",
    "      D47r.isBetween(0.511,0.683).atCells(Seq(13)),\n",
    "      D47r.isBetween(0.511,0.683).atCells(Seq(14)),\n",
    "      D47r.isBetween(0.511,0.683).atCells(Seq(15)),\n",
    "      D47r.isBetween(0.511,0.683).atCells(Seq(16)),\n",
    "      D47r.isBetween(0.511,0.683).atCells(Seq(17)),\n",
    "      D47r.isBetween(0.511,0.683).atCells(Seq(18))\n",
    ")\n",
    "\n",
    "modelWarehouse.evaluate(eaglefordModel)\n",
    "Thread.sleep(1000)"
   ]
  },
  {
   "cell_type": "code",
   "execution_count": 51,
   "metadata": {
    "scrolled": false
   },
   "outputs": [
    {
     "data": {
      "text/html": [
       "<div id=\"grid-container_j2P68OzNvH\" class=\"grid-container\" align=\"center\"> \n",
       "<div id=\"grid_j2P68OzNvH\" class=\"grid\" align=\"center\"> \n",
       "<div id=\"graph_I6RCDczRfs\" class=\"graph\"></div> \n",
       "</div> \n",
       "</div> \n",
       "<script>\n",
       "var masonry = new Macy({\n",
       "    container: '#grid_j2P68OzNvH',\n",
       "    debug: true,\n",
       "    mobileFirst: true,\n",
       "    columns: 1,\n",
       "    margin: {\n",
       "        x: 0,\n",
       "        y: 0\n",
       "    }\n",
       "  });\n",
       "\n",
       " var traces_I6RCDczRfs = [{\"name\":\"1kUxR1z6Of\",\"type\":\"scatter\",\"yaxis\":\"y2\",\"x\":[97,86.22222222222223,75.44444444444444,64.66666666666666,53.888888888888886,43.11111111111111,32.33333333333333,21.555555555555543,10.777777777777771,0],\"y\":[1.092574472614591,1.0925744726145918,1.0925744726145925,1.0925744726145934,1.0925744726145936,1.0925744726145943,1.0925744726145938,1.0925744726145932,1.0925744726145923,1.0925744726145907]},{\"name\":\"lpQuvRwR69\",\"type\":\"scatter\",\"x\":[97,86.22222222222223,75.44444444444444,64.66666666666666,53.888888888888886,43.11111111111111,32.33333333333333,21.555555555555543,10.777777777777771,0],\"y\":[5.89348426912598,5.638181586030623,5.40033576234191,5.178215948453285,4.970312739614294,4.775303866897426,4.881865925657495,5.192623895144487,5.5361762606165605,5.918001697432124]}];\n",
       " var layout_I6RCDczRfs = {\"height\":550,\"width\":600,\"hovermode\":\"closest\",\"legend\":{\"orientation\":\"v\"},\"title\":{\"text\":\"d18Occ vs d13Ccc\"},\"showlegend\":true,\"xaxis\":{\"title\":{\"text\":\"age\"},\"showgrid\":true,\"zeroline\":false,\"showline\":false},\"yaxis\":{\"title\":{\"text\":\"d18Occ\"},\"showgrid\":true,\"zeroline\":false,\"showline\":false},\"yaxis2\":{\"title\":{\"text\":\"d13Ccc\"},\"showgrid\":true,\"zeroline\":false,\"showline\":false,\"side\":\"right\",\"overlaying\":\"y\",\"tickformat\":\"0.2f\"}};\n",
       " var config_I6RCDczRfs = {\"responsive\":true,\"scrollZoom\":true,\"displaylogo\":false};\n",
       " Plotly.newPlot(\"graph_I6RCDczRfs\", traces_I6RCDczRfs, layout_I6RCDczRfs, config_I6RCDczRfs);\n",
       "</script> \n"
      ]
     },
     "metadata": {},
     "output_type": "display_data"
    }
   ],
   "source": [
    "// grab the results from the Conus model\n",
    "val model: SingleModelResults = modelWarehouse(eaglefordModel)(0)\n",
    "\n",
    "// we can use the utility function to grab the series for a single variable\n",
    "val series1: List[Double] = getDataFromSingleModel(model, age, List(0), numberOfSteps)\n",
    "val series2: List[Double] = getDataFromSingleModel(model, d18Occ, List(0), numberOfSteps)\n",
    "\n",
    "val xy1 = XY(series1, series2)\n",
    "\n",
    "// alternatively we can quickly get the same data for XY using the function below\n",
    "//  val xy1 = getXYSeriesFromSingleModel(model, (age, d18Occ), List(0), numberOfSteps)\n",
    "\n",
    "// lets also plot a second y variable\n",
    "val yaxis2 = YAxis(\n",
    "    position = 2, \n",
    "    title = \"d13Ccc\", \n",
    "    overlaying = YAxis(), // this ensures that the axis sits on a seperate axis\n",
    "    side = RIGHT, // this ensures the axis is on the right hand side\n",
    "    tickformat = \"0.2f\" // this will keep formatting reasonable for display purposes\n",
    ")\n",
    "\n",
    "// we construct the second y variable;\n",
    "val series3: List[Double] = getDataFromSingleModel(model, d13Ccc, List(0), numberOfSteps)\n",
    "val xy2 = XY(series1, series3) setAxis yaxis2\n",
    "\n",
    "// finally we can combine in a single chart\n",
    "val chart = (\n",
    "    Chart() \n",
    "    addSeries xy1\n",
    "    addSeries xy2\n",
    "    setTitle(\"d18Occ vs d13Ccc\") \n",
    "    addAxes(XAxis(title=\"age\"), YAxis(title=\"d18Occ\"), yaxis2)\n",
    ")\n",
    "\n",
    "val canvas = Canvas() addCharts chart\n",
    "\n",
    "// When we plot the result, we can see the legend is in the wrong place and overlaying the axis - we can overcome this\n",
    "// in the next example\n",
    "canvas.plotInline()"
   ]
  },
  {
   "cell_type": "markdown",
   "metadata": {},
   "source": [
    "### Moving the Legend\n",
    "\n",
    "We can also move the Legend and position it where we would like as follows:"
   ]
  },
  {
   "cell_type": "code",
   "execution_count": 52,
   "metadata": {},
   "outputs": [],
   "source": [
    "import org.carbonateresearch.picta.options.AUTO"
   ]
  },
  {
   "cell_type": "code",
   "execution_count": 53,
   "metadata": {
    "scrolled": false
   },
   "outputs": [
    {
     "data": {
      "text/html": [
       "<div id=\"grid-container_9tpGmUoVyv\" class=\"grid-container\" align=\"center\"> \n",
       "<div id=\"grid_9tpGmUoVyv\" class=\"grid\" align=\"center\"> \n",
       "<div id=\"graph_cTkLRwtIng\" class=\"graph\"></div> \n",
       "</div> \n",
       "</div> \n",
       "<script>\n",
       "var masonry = new Macy({\n",
       "    container: '#grid_9tpGmUoVyv',\n",
       "    debug: true,\n",
       "    mobileFirst: true,\n",
       "    columns: 1,\n",
       "    margin: {\n",
       "        x: 0,\n",
       "        y: 0\n",
       "    }\n",
       "  });\n",
       "\n",
       " var traces_cTkLRwtIng = [{\"name\":\"1kUxR1z6Of\",\"type\":\"scatter\",\"yaxis\":\"y2\",\"x\":[97,86.22222222222223,75.44444444444444,64.66666666666666,53.888888888888886,43.11111111111111,32.33333333333333,21.555555555555543,10.777777777777771,0],\"y\":[1.092574472614591,1.0925744726145918,1.0925744726145925,1.0925744726145934,1.0925744726145936,1.0925744726145943,1.0925744726145938,1.0925744726145932,1.0925744726145923,1.0925744726145907]},{\"name\":\"lpQuvRwR69\",\"type\":\"scatter\",\"x\":[97,86.22222222222223,75.44444444444444,64.66666666666666,53.888888888888886,43.11111111111111,32.33333333333333,21.555555555555543,10.777777777777771,0],\"y\":[5.89348426912598,5.638181586030623,5.40033576234191,5.178215948453285,4.970312739614294,4.775303866897426,4.881865925657495,5.192623895144487,5.5361762606165605,5.918001697432124]}];\n",
       " var layout_cTkLRwtIng = {\"height\":550,\"width\":600,\"hovermode\":\"closest\",\"legend\":{\"orientation\":\"h\",\"x\":0.5,\"y\":-0.5,\"xanchor\":\"auto\",\"yanchor\":\"auto\"},\"title\":{\"text\":\"d18Occ vs d13Ccc\"},\"showlegend\":true,\"xaxis\":{\"title\":{\"text\":\"age\"},\"showgrid\":true,\"zeroline\":false,\"showline\":false},\"yaxis\":{\"title\":{\"text\":\"d18Occ\"},\"showgrid\":true,\"zeroline\":false,\"showline\":false},\"yaxis2\":{\"title\":{\"text\":\"d13Ccc\"},\"showgrid\":true,\"zeroline\":false,\"showline\":false,\"side\":\"right\",\"overlaying\":\"y\",\"tickformat\":\"0.2f\"}};\n",
       " var config_cTkLRwtIng = {\"responsive\":true,\"scrollZoom\":true,\"displaylogo\":false};\n",
       " Plotly.newPlot(\"graph_cTkLRwtIng\", traces_cTkLRwtIng, layout_cTkLRwtIng, config_cTkLRwtIng);\n",
       "</script> \n"
      ]
     },
     "metadata": {},
     "output_type": "display_data"
    }
   ],
   "source": [
    "// finally we can combine in a single chart\n",
    "val chart = (\n",
    "    Chart() \n",
    "    addSeries xy1\n",
    "    addSeries xy2\n",
    "    setTitle(\"d18Occ vs d13Ccc\") \n",
    "    addAxes(XAxis(title=\"age\"), YAxis(title=\"d18Occ\"), yaxis2)\n",
    "    setLegend(x = 0.5, y = -0.5, orientation = HORIZONTAL, xanchor = AUTO, yanchor = AUTO)\n",
    ")\n",
    "\n",
    "\n",
    "val canvas = Canvas() addCharts chart\n",
    "\n",
    "canvas.plotInline()"
   ]
  },
  {
   "cell_type": "code",
   "execution_count": null,
   "metadata": {},
   "outputs": [],
   "source": []
  }
 ],
 "metadata": {
  "kernelspec": {
   "display_name": "Scala",
   "language": "scala",
   "name": "scala"
  },
  "language_info": {
   "codemirror_mode": "text/x-scala",
   "file_extension": ".scala",
   "mimetype": "text/x-scala",
   "name": "scala",
   "nbconvert_exporter": "script",
   "version": "2.13.2"
  }
 },
 "nbformat": 4,
 "nbformat_minor": 4
}
