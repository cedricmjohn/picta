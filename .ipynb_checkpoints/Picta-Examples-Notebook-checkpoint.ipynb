{
 "cells": [
  {
   "cell_type": "markdown",
   "metadata": {},
   "source": [
    "# 1. Setup\n",
    "\n",
    "To use Picta in a Jupyter notebook with the Almond.sh kernel, you need to first register a new Jitpack repository as some essential components of Almond are not availble in Maven Central (simply copy and run the first cell below). You then need to import the library from Maven (second cell) and initialize the notebook to have nicer outputs (optional, third cell)."
   ]
  },
  {
   "cell_type": "code",
   "execution_count": 1,
   "metadata": {},
   "outputs": [],
   "source": [
    "interp.repositories() ++= Seq(coursierapi.MavenRepository.of(\n",
    "\"https://jitpack.io\"\n",
    "))"
   ]
  },
  {
   "cell_type": "code",
   "execution_count": 2,
   "metadata": {},
   "outputs": [
    {
     "data": {
      "text/plain": [
       "\u001b[32mimport \u001b[39m\u001b[36m$ivy.$                                    \u001b[39m"
      ]
     },
     "execution_count": 2,
     "metadata": {},
     "output_type": "execute_result"
    }
   ],
   "source": [
    "import $ivy. `org.carbonateresearch::picta:0.1.1`"
   ]
  },
  {
   "cell_type": "code",
   "execution_count": 3,
   "metadata": {
    "scrolled": false
   },
   "outputs": [
    {
     "data": {
      "text/html": [
       "\n",
       "<style> #animationInterface {\n",
       "    margin-top: 50px;\n",
       "    margin-bottom: 50px;\n",
       "}\n",
       "\n",
       ".progressBar {\n",
       "    padding-top: 20px;\n",
       "    padding-bottom: 20px;\n",
       "}\n",
       "\n",
       ".inline-div {\n",
       "    display: block;\n",
       "    text-align: center;\n",
       "}\n",
       "\n",
       "h3 {\n",
       "    display: inline-block;\n",
       "    text-align: center;\n",
       "}\n",
       "\n",
       ".picta-button {\n",
       "    background-color: #003E74;\n",
       "    border: none;\n",
       "    color: white;\n",
       "    padding: 12px 28px;\n",
       "    text-align: center;\n",
       "    text-decoration: none;\n",
       "    display: inline-block;\n",
       "    font-size: 12px;\n",
       "    margin-top: 50px;\n",
       "    transition-duration: 0.4s;\n",
       "    cursor: pointer;\n",
       "}\n",
       "\n",
       ".picta-button:hover {\n",
       "    background-color: #002147;\n",
       "    color: white;\n",
       "}\n",
       "\n",
       ".grid-title h1 {\n",
       "    font-family: \"Open Sans\", verdana, arial, sans-serif;\n",
       "    font-weight: normal;\n",
       "}\n",
       "\n",
       ".grid-container {\n",
       "    padding-top: 40px;\n",
       "    background: white;\n",
       "} </style>\n",
       "<script> /** vim: et:ts=4:sw=4:sts=4\n",
       " * @license RequireJS 2.3.6 Copyright jQuery Foundation and other contributors.\n",
       " * Released under MIT license, https://github.com/requirejs/requirejs/blob/master/LICENSE\n",
       " */\n",
       "var requirejs,require,define;!function(global,setTimeout){var req,s,head,baseElement,dataMain,src,interactiveScript,currentlyAddingScript,mainScript,subPath,version=\"2.3.6\",commentRegExp=/\\/\\*[\\s\\S]*?\\*\\/|([^:\"'=]|^)\\/\\/.*$/gm,cjsRequireRegExp=/[^.]\\s*require\\s*\\(\\s*[\"']([^'\"\\s]+)[\"']\\s*\\)/g,jsSuffixRegExp=/\\.js$/,currDirRegExp=/^\\.\\//,op=Object.prototype,ostring=op.toString,hasOwn=op.hasOwnProperty,isBrowser=!(\"undefined\"==typeof window||\"undefined\"==typeof navigator||!window.document),isWebWorker=!isBrowser&&\"undefined\"!=typeof importScripts,readyRegExp=isBrowser&&\"PLAYSTATION 3\"===navigator.platform?/^complete$/:/^(complete|loaded)$/,defContextName=\"_\",isOpera=\"undefined\"!=typeof opera&&\"[object Opera]\"===opera.toString(),contexts={},cfg={},globalDefQueue=[],useInteractive=!1;function commentReplace(e,t){return t||\"\"}function isFunction(e){return\"[object Function]\"===ostring.call(e)}function isArray(e){return\"[object Array]\"===ostring.call(e)}function each(e,t){var i;if(e)for(i=0;i<e.length&&(!e[i]||!t(e[i],i,e));i+=1);}function eachReverse(e,t){var i;if(e)for(i=e.length-1;-1<i&&(!e[i]||!t(e[i],i,e));i-=1);}function hasProp(e,t){return hasOwn.call(e,t)}function getOwn(e,t){return hasProp(e,t)&&e[t]}function eachProp(e,t){var i;for(i in e)if(hasProp(e,i)&&t(e[i],i))break}function mixin(i,e,r,n){return e&&eachProp(e,function(e,t){!r&&hasProp(i,t)||(!n||\"object\"!=typeof e||!e||isArray(e)||isFunction(e)||e instanceof RegExp?i[t]=e:(i[t]||(i[t]={}),mixin(i[t],e,r,n)))}),i}function bind(e,t){return function(){return t.apply(e,arguments)}}function scripts(){return document.getElementsByTagName(\"script\")}function defaultOnError(e){throw e}function getGlobal(e){if(!e)return e;var t=global;return each(e.split(\".\"),function(e){t=t[e]}),t}function makeError(e,t,i,r){var n=new Error(t+\"\\nhttps://requirejs.org/docs/errors.html#\"+e);return n.requireType=e,n.requireModules=r,i&&(n.originalError=i),n}if(void 0===define){if(void 0!==requirejs){if(isFunction(requirejs))return;cfg=requirejs,requirejs=void 0}void 0===require||isFunction(require)||(cfg=require,require=void 0),req=requirejs=function(e,t,i,r){var n,o,a=defContextName;return isArray(e)||\"string\"==typeof e||(o=e,isArray(t)?(e=t,t=i,i=r):e=[]),o&&o.context&&(a=o.context),(n=getOwn(contexts,a))||(n=contexts[a]=req.s.newContext(a)),o&&n.configure(o),n.require(e,t,i)},req.config=function(e){return req(e)},req.nextTick=void 0!==setTimeout?function(e){setTimeout(e,4)}:function(e){e()},require||(require=req),req.version=version,req.jsExtRegExp=/^\\/|:|\\?|\\.js$/,req.isBrowser=isBrowser,s=req.s={contexts:contexts,newContext:newContext},req({}),each([\"toUrl\",\"undef\",\"defined\",\"specified\"],function(t){req[t]=function(){var e=contexts[defContextName];return e.require[t].apply(e,arguments)}}),isBrowser&&(head=s.head=document.getElementsByTagName(\"head\")[0],baseElement=document.getElementsByTagName(\"base\")[0],baseElement&&(head=s.head=baseElement.parentNode)),req.onError=defaultOnError,req.createNode=function(e,t,i){var r=e.xhtml?document.createElementNS(\"http://www.w3.org/1999/xhtml\",\"html:script\"):document.createElement(\"script\");return r.type=e.scriptType||\"text/javascript\",r.charset=\"utf-8\",r.async=!0,r},req.load=function(t,i,r){var e,n=t&&t.config||{};if(isBrowser)return(e=req.createNode(n,i,r)).setAttribute(\"data-requirecontext\",t.contextName),e.setAttribute(\"data-requiremodule\",i),!e.attachEvent||e.attachEvent.toString&&e.attachEvent.toString().indexOf(\"[native code\")<0||isOpera?(e.addEventListener(\"load\",t.onScriptLoad,!1),e.addEventListener(\"error\",t.onScriptError,!1)):(useInteractive=!0,e.attachEvent(\"onreadystatechange\",t.onScriptLoad)),e.src=r,n.onNodeCreated&&n.onNodeCreated(e,n,i,r),currentlyAddingScript=e,baseElement?head.insertBefore(e,baseElement):head.appendChild(e),currentlyAddingScript=null,e;if(isWebWorker)try{setTimeout(function(){},0),importScripts(r),t.completeLoad(i)}catch(e){t.onError(makeError(\"importscripts\",\"importScripts failed for \"+i+\" at \"+r,e,[i]))}},isBrowser&&!cfg.skipDataMain&&eachReverse(scripts(),function(e){if(head||(head=e.parentNode),dataMain=e.getAttribute(\"data-main\"))return mainScript=dataMain,cfg.baseUrl||-1!==mainScript.indexOf(\"!\")||(mainScript=(src=mainScript.split(\"/\")).pop(),subPath=src.length?src.join(\"/\")+\"/\":\"./\",cfg.baseUrl=subPath),mainScript=mainScript.replace(jsSuffixRegExp,\"\"),req.jsExtRegExp.test(mainScript)&&(mainScript=dataMain),cfg.deps=cfg.deps?cfg.deps.concat(mainScript):[mainScript],!0}),define=function(e,i,t){var r,n;\"string\"!=typeof e&&(t=i,i=e,e=null),isArray(i)||(t=i,i=null),!i&&isFunction(t)&&(i=[],t.length&&(t.toString().replace(commentRegExp,commentReplace).replace(cjsRequireRegExp,function(e,t){i.push(t)}),i=(1===t.length?[\"require\"]:[\"require\",\"exports\",\"module\"]).concat(i))),useInteractive&&(r=currentlyAddingScript||getInteractiveScript())&&(e||(e=r.getAttribute(\"data-requiremodule\")),n=contexts[r.getAttribute(\"data-requirecontext\")]),n?(n.defQueue.push([e,i,t]),n.defQueueMap[e]=!0):globalDefQueue.push([e,i,t])},define.amd={jQuery:!0},req.exec=function(text){return eval(text)},req(cfg)}function newContext(u){var i,e,l,c,d,g={waitSeconds:7,baseUrl:\"./\",paths:{},bundles:{},pkgs:{},shim:{},config:{}},p={},f={},r={},h=[],m={},n={},v={},x=1,b=1;function q(e,t,i){var r,n,o,a,s,u,c,d,p,f,l=t&&t.split(\"/\"),h=g.map,m=h&&h[\"*\"];if(e&&(u=(e=e.split(\"/\")).length-1,g.nodeIdCompat&&jsSuffixRegExp.test(e[u])&&(e[u]=e[u].replace(jsSuffixRegExp,\"\")),\".\"===e[0].charAt(0)&&l&&(e=l.slice(0,l.length-1).concat(e)),function(e){var t,i;for(t=0;t<e.length;t++)if(\".\"===(i=e[t]))e.splice(t,1),t-=1;else if(\"..\"===i){if(0===t||1===t&&\"..\"===e[2]||\"..\"===e[t-1])continue;0<t&&(e.splice(t-1,2),t-=2)}}(e),e=e.join(\"/\")),i&&h&&(l||m)){e:for(o=(n=e.split(\"/\")).length;0<o;o-=1){if(s=n.slice(0,o).join(\"/\"),l)for(a=l.length;0<a;a-=1)if((r=getOwn(h,l.slice(0,a).join(\"/\")))&&(r=getOwn(r,s))){c=r,d=o;break e}!p&&m&&getOwn(m,s)&&(p=getOwn(m,s),f=o)}!c&&p&&(c=p,d=f),c&&(n.splice(0,d,c),e=n.join(\"/\"))}return getOwn(g.pkgs,e)||e}function E(t){isBrowser&&each(scripts(),function(e){if(e.getAttribute(\"data-requiremodule\")===t&&e.getAttribute(\"data-requirecontext\")===l.contextName)return e.parentNode.removeChild(e),!0})}function w(e){var t=getOwn(g.paths,e);if(t&&isArray(t)&&1<t.length)return t.shift(),l.require.undef(e),l.makeRequire(null,{skipMap:!0})([e]),!0}function y(e){var t,i=e?e.indexOf(\"!\"):-1;return-1<i&&(t=e.substring(0,i),e=e.substring(i+1,e.length)),[t,e]}function S(e,t,i,r){var n,o,a,s,u=null,c=t?t.name:null,d=e,p=!0,f=\"\";return e||(p=!1,e=\"_@r\"+(x+=1)),u=(s=y(e))[0],e=s[1],u&&(u=q(u,c,r),o=getOwn(m,u)),e&&(u?f=i?e:o&&o.normalize?o.normalize(e,function(e){return q(e,c,r)}):-1===e.indexOf(\"!\")?q(e,c,r):e:(u=(s=y(f=q(e,c,r)))[0],f=s[1],i=!0,n=l.nameToUrl(f))),{prefix:u,name:f,parentMap:t,unnormalized:!!(a=!u||o||i?\"\":\"_unnormalized\"+(b+=1)),url:n,originalName:d,isDefine:p,id:(u?u+\"!\"+f:f)+a}}function k(e){var t=e.id,i=getOwn(p,t);return i||(i=p[t]=new l.Module(e)),i}function M(e,t,i){var r=e.id,n=getOwn(p,r);!hasProp(m,r)||n&&!n.defineEmitComplete?(n=k(e)).error&&\"error\"===t?i(n.error):n.on(t,i):\"defined\"===t&&i(m[r])}function O(i,e){var t=i.requireModules,r=!1;e?e(i):(each(t,function(e){var t=getOwn(p,e);t&&(t.error=i,t.events.error&&(r=!0,t.emit(\"error\",i)))}),r||req.onError(i))}function j(){globalDefQueue.length&&(each(globalDefQueue,function(e){var t=e[0];\"string\"==typeof t&&(l.defQueueMap[t]=!0),h.push(e)}),globalDefQueue=[])}function P(e){delete p[e],delete f[e]}function R(){var e,r,t=1e3*g.waitSeconds,n=t&&l.startTime+t<(new Date).getTime(),o=[],a=[],s=!1,u=!0;if(!i){if(i=!0,eachProp(f,function(e){var t=e.map,i=t.id;if(e.enabled&&(t.isDefine||a.push(e),!e.error))if(!e.inited&&n)w(i)?s=r=!0:(o.push(i),E(i));else if(!e.inited&&e.fetched&&t.isDefine&&(s=!0,!t.prefix))return u=!1}),n&&o.length)return(e=makeError(\"timeout\",\"Load timeout for modules: \"+o,null,o)).contextName=l.contextName,O(e);u&&each(a,function(e){!function n(o,a,s){var e=o.map.id;o.error?o.emit(\"error\",o.error):(a[e]=!0,each(o.depMaps,function(e,t){var i=e.id,r=getOwn(p,i);!r||o.depMatched[t]||s[i]||(getOwn(a,i)?(o.defineDep(t,m[i]),o.check()):n(r,a,s))}),s[e]=!0)}(e,{},{})}),n&&!r||!s||!isBrowser&&!isWebWorker||d||(d=setTimeout(function(){d=0,R()},50)),i=!1}}function a(e){hasProp(m,e[0])||k(S(e[0],null,!0)).init(e[1],e[2])}function o(e,t,i,r){e.detachEvent&&!isOpera?r&&e.detachEvent(r,t):e.removeEventListener(i,t,!1)}function s(e){var t=e.currentTarget||e.srcElement;return o(t,l.onScriptLoad,\"load\",\"onreadystatechange\"),o(t,l.onScriptError,\"error\"),{node:t,id:t&&t.getAttribute(\"data-requiremodule\")}}function T(){var e;for(j();h.length;){if(null===(e=h.shift())[0])return O(makeError(\"mismatch\",\"Mismatched anonymous define() module: \"+e[e.length-1]));a(e)}l.defQueueMap={}}return c={require:function(e){return e.require?e.require:e.require=l.makeRequire(e.map)},exports:function(e){if(e.usingExports=!0,e.map.isDefine)return e.exports?m[e.map.id]=e.exports:e.exports=m[e.map.id]={}},module:function(e){return e.module?e.module:e.module={id:e.map.id,uri:e.map.url,config:function(){return getOwn(g.config,e.map.id)||{}},exports:e.exports||(e.exports={})}}},(e=function(e){this.events=getOwn(r,e.id)||{},this.map=e,this.shim=getOwn(g.shim,e.id),this.depExports=[],this.depMaps=[],this.depMatched=[],this.pluginMaps={},this.depCount=0}).prototype={init:function(e,t,i,r){r=r||{},this.inited||(this.factory=t,i?this.on(\"error\",i):this.events.error&&(i=bind(this,function(e){this.emit(\"error\",e)})),this.depMaps=e&&e.slice(0),this.errback=i,this.inited=!0,this.ignore=r.ignore,r.enabled||this.enabled?this.enable():this.check())},defineDep:function(e,t){this.depMatched[e]||(this.depMatched[e]=!0,this.depCount-=1,this.depExports[e]=t)},fetch:function(){if(!this.fetched){this.fetched=!0,l.startTime=(new Date).getTime();var e=this.map;if(!this.shim)return e.prefix?this.callPlugin():this.load();l.makeRequire(this.map,{enableBuildCallback:!0})(this.shim.deps||[],bind(this,function(){return e.prefix?this.callPlugin():this.load()}))}},load:function(){var e=this.map.url;n[e]||(n[e]=!0,l.load(this.map.id,e))},check:function(){if(this.enabled&&!this.enabling){var t,e,i=this.map.id,r=this.depExports,n=this.exports,o=this.factory;if(this.inited){if(this.error)this.emit(\"error\",this.error);else if(!this.defining){if(this.defining=!0,this.depCount<1&&!this.defined){if(isFunction(o)){if(this.events.error&&this.map.isDefine||req.onError!==defaultOnError)try{n=l.execCb(i,o,r,n)}catch(e){t=e}else n=l.execCb(i,o,r,n);if(this.map.isDefine&&void 0===n&&((e=this.module)?n=e.exports:this.usingExports&&(n=this.exports)),t)return t.requireMap=this.map,t.requireModules=this.map.isDefine?[this.map.id]:null,t.requireType=this.map.isDefine?\"define\":\"require\",O(this.error=t)}else n=o;if(this.exports=n,this.map.isDefine&&!this.ignore&&(m[i]=n,req.onResourceLoad)){var a=[];each(this.depMaps,function(e){a.push(e.normalizedMap||e)}),req.onResourceLoad(l,this.map,a)}P(i),this.defined=!0}this.defining=!1,this.defined&&!this.defineEmitted&&(this.defineEmitted=!0,this.emit(\"defined\",this.exports),this.defineEmitComplete=!0)}}else hasProp(l.defQueueMap,i)||this.fetch()}},callPlugin:function(){var u=this.map,c=u.id,e=S(u.prefix);this.depMaps.push(e),M(e,\"defined\",bind(this,function(e){var o,t,i,r=getOwn(v,this.map.id),n=this.map.name,a=this.map.parentMap?this.map.parentMap.name:null,s=l.makeRequire(u.parentMap,{enableBuildCallback:!0});return this.map.unnormalized?(e.normalize&&(n=e.normalize(n,function(e){return q(e,a,!0)})||\"\"),M(t=S(u.prefix+\"!\"+n,this.map.parentMap,!0),\"defined\",bind(this,function(e){this.map.normalizedMap=t,this.init([],function(){return e},null,{enabled:!0,ignore:!0})})),void((i=getOwn(p,t.id))&&(this.depMaps.push(t),this.events.error&&i.on(\"error\",bind(this,function(e){this.emit(\"error\",e)})),i.enable()))):r?(this.map.url=l.nameToUrl(r),void this.load()):((o=bind(this,function(e){this.init([],function(){return e},null,{enabled:!0})})).error=bind(this,function(e){this.inited=!0,(this.error=e).requireModules=[c],eachProp(p,function(e){0===e.map.id.indexOf(c+\"_unnormalized\")&&P(e.map.id)}),O(e)}),o.fromText=bind(this,function(e,t){var i=u.name,r=S(i),n=useInteractive;t&&(e=t),n&&(useInteractive=!1),k(r),hasProp(g.config,c)&&(g.config[i]=g.config[c]);try{req.exec(e)}catch(e){return O(makeError(\"fromtexteval\",\"fromText eval for \"+c+\" failed: \"+e,e,[c]))}n&&(useInteractive=!0),this.depMaps.push(r),l.completeLoad(i),s([i],o)}),void e.load(u.name,s,o,g))})),l.enable(e,this),this.pluginMaps[e.id]=e},enable:function(){(f[this.map.id]=this).enabled=!0,this.enabling=!0,each(this.depMaps,bind(this,function(e,t){var i,r,n;if(\"string\"==typeof e){if(e=S(e,this.map.isDefine?this.map:this.map.parentMap,!1,!this.skipMap),this.depMaps[t]=e,n=getOwn(c,e.id))return void(this.depExports[t]=n(this));this.depCount+=1,M(e,\"defined\",bind(this,function(e){this.undefed||(this.defineDep(t,e),this.check())})),this.errback?M(e,\"error\",bind(this,this.errback)):this.events.error&&M(e,\"error\",bind(this,function(e){this.emit(\"error\",e)}))}i=e.id,r=p[i],hasProp(c,i)||!r||r.enabled||l.enable(e,this)})),eachProp(this.pluginMaps,bind(this,function(e){var t=getOwn(p,e.id);t&&!t.enabled&&l.enable(e,this)})),this.enabling=!1,this.check()},on:function(e,t){var i=this.events[e];i||(i=this.events[e]=[]),i.push(t)},emit:function(e,t){each(this.events[e],function(e){e(t)}),\"error\"===e&&delete this.events[e]}},(l={config:g,contextName:u,registry:p,defined:m,urlFetched:n,defQueue:h,defQueueMap:{},Module:e,makeModuleMap:S,nextTick:req.nextTick,onError:O,configure:function(e){if(e.baseUrl&&\"/\"!==e.baseUrl.charAt(e.baseUrl.length-1)&&(e.baseUrl+=\"/\"),\"string\"==typeof e.urlArgs){var i=e.urlArgs;e.urlArgs=function(e,t){return(-1===t.indexOf(\"?\")?\"?\":\"&\")+i}}var r=g.shim,n={paths:!0,bundles:!0,config:!0,map:!0};eachProp(e,function(e,t){n[t]?(g[t]||(g[t]={}),mixin(g[t],e,!0,!0)):g[t]=e}),e.bundles&&eachProp(e.bundles,function(e,t){each(e,function(e){e!==t&&(v[e]=t)})}),e.shim&&(eachProp(e.shim,function(e,t){isArray(e)&&(e={deps:e}),!e.exports&&!e.init||e.exportsFn||(e.exportsFn=l.makeShimExports(e)),r[t]=e}),g.shim=r),e.packages&&each(e.packages,function(e){var t;t=(e=\"string\"==typeof e?{name:e}:e).name,e.location&&(g.paths[t]=e.location),g.pkgs[t]=e.name+\"/\"+(e.main||\"main\").replace(currDirRegExp,\"\").replace(jsSuffixRegExp,\"\")}),eachProp(p,function(e,t){e.inited||e.map.unnormalized||(e.map=S(t,null,!0))}),(e.deps||e.callback)&&l.require(e.deps||[],e.callback)},makeShimExports:function(t){return function(){var e;return t.init&&(e=t.init.apply(global,arguments)),e||t.exports&&getGlobal(t.exports)}},makeRequire:function(o,a){function s(e,t,i){var r,n;return a.enableBuildCallback&&t&&isFunction(t)&&(t.__requireJsBuild=!0),\"string\"==typeof e?isFunction(t)?O(makeError(\"requireargs\",\"Invalid require call\"),i):o&&hasProp(c,e)?c[e](p[o.id]):req.get?req.get(l,e,o,s):(r=S(e,o,!1,!0).id,hasProp(m,r)?m[r]:O(makeError(\"notloaded\",'Module name \"'+r+'\" has not been loaded yet for context: '+u+(o?\"\":\". Use require([])\")))):(T(),l.nextTick(function(){T(),(n=k(S(null,o))).skipMap=a.skipMap,n.init(e,t,i,{enabled:!0}),R()}),s)}return a=a||{},mixin(s,{isBrowser:isBrowser,toUrl:function(e){var t,i=e.lastIndexOf(\".\"),r=e.split(\"/\")[0];return-1!==i&&(!(\".\"===r||\"..\"===r)||1<i)&&(t=e.substring(i,e.length),e=e.substring(0,i)),l.nameToUrl(q(e,o&&o.id,!0),t,!0)},defined:function(e){return hasProp(m,S(e,o,!1,!0).id)},specified:function(e){return e=S(e,o,!1,!0).id,hasProp(m,e)||hasProp(p,e)}}),o||(s.undef=function(i){j();var e=S(i,o,!0),t=getOwn(p,i);t.undefed=!0,E(i),delete m[i],delete n[e.url],delete r[i],eachReverse(h,function(e,t){e[0]===i&&h.splice(t,1)}),delete l.defQueueMap[i],t&&(t.events.defined&&(r[i]=t.events),P(i))}),s},enable:function(e){getOwn(p,e.id)&&k(e).enable()},completeLoad:function(e){var t,i,r,n=getOwn(g.shim,e)||{},o=n.exports;for(j();h.length;){if(null===(i=h.shift())[0]){if(i[0]=e,t)break;t=!0}else i[0]===e&&(t=!0);a(i)}if(l.defQueueMap={},r=getOwn(p,e),!t&&!hasProp(m,e)&&r&&!r.inited){if(!(!g.enforceDefine||o&&getGlobal(o)))return w(e)?void 0:O(makeError(\"nodefine\",\"No define call for \"+e,null,[e]));a([e,n.deps||[],n.exportsFn])}R()},nameToUrl:function(e,t,i){var r,n,o,a,s,u,c=getOwn(g.pkgs,e);if(c&&(e=c),u=getOwn(v,e))return l.nameToUrl(u,t,i);if(req.jsExtRegExp.test(e))a=e+(t||\"\");else{for(r=g.paths,o=(n=e.split(\"/\")).length;0<o;o-=1)if(s=getOwn(r,n.slice(0,o).join(\"/\"))){isArray(s)&&(s=s[0]),n.splice(0,o,s);break}a=n.join(\"/\"),a=(\"/\"===(a+=t||(/^data\\:|^blob\\:|\\?/.test(a)||i?\"\":\".js\")).charAt(0)||a.match(/^[\\w\\+\\.\\-]+:/)?\"\":g.baseUrl)+a}return g.urlArgs&&!/^blob\\:/.test(a)?a+g.urlArgs(e,a):a},load:function(e,t){req.load(l,e,t)},execCb:function(e,t,i,r){return t.apply(r,i)},onScriptLoad:function(e){if(\"load\"===e.type||readyRegExp.test((e.currentTarget||e.srcElement).readyState)){interactiveScript=null;var t=s(e);l.completeLoad(t.id)}},onScriptError:function(e){var i=s(e);if(!w(i.id)){var r=[];return eachProp(p,function(e,t){0!==t.indexOf(\"_@r\")&&each(e.depMaps,function(e){if(e.id===i.id)return r.push(t),!0})}),O(makeError(\"scripterror\",'Script error for \"'+i.id+(r.length?'\", needed by: '+r.join(\", \"):'\"'),e,[i.id]))}}}).require=l.makeRequire(),l}function getInteractiveScript(){return interactiveScript&&\"interactive\"===interactiveScript.readyState||eachReverse(scripts(),function(e){if(\"interactive\"===e.readyState)return interactiveScript=e}),interactiveScript}}(this,\"undefined\"==typeof setTimeout?void 0:setTimeout); </script>\n",
       "<script>\n",
       " require.config({\n",
       "   paths: {\n",
       "     'plotly': \"https://cdn.plot.ly/plotly-latest.min\",\n",
       "     'macy': \"https://cdn.jsdelivr.net/npm/macy@2.5.1/dist/macy.min\",\n",
       "     'merge': \"https://unpkg.com/merge-images@2.0.0/dist/index.umd\"\n",
       "   },\n",
       " })\n",
       "require( ['plotly', 'macy', 'merge'], function(Plotly, Macy, mergeImages) {\n",
       " window.Plotly = Plotly;\n",
       " window.Macy = Macy;\n",
       " window.mergeImages = mergeImages;\n",
       "})\n",
       "</script>\n"
      ]
     },
     "metadata": {},
     "output_type": "display_data"
    },
    {
     "data": {
      "text/plain": [
       "\u001b[32mimport \u001b[39m\u001b[36morg.carbonateresearch.picta.render.Html.initNotebook // required to initialize jupyter notebook mode\n",
       "\u001b[39m"
      ]
     },
     "execution_count": 3,
     "metadata": {},
     "output_type": "execute_result"
    }
   ],
   "source": [
    "import org.carbonateresearch.picta.render.Html.initNotebook // required to initialize jupyter notebook mode\n",
    "initNotebook() // stops ugly output"
   ]
  },
  {
   "cell_type": "markdown",
   "metadata": {},
   "source": [
    "# 1. Basics\n",
    "\n",
    "The aim of the Picta library is to be a highly configurable and composable charting library for data exploration. The library takes a grammatical approach to chart construction, using a DSL for creating plots. \n",
    "\n",
    "The following examples are aimed at demonstrating the libraries capabilities, and eventually make constructing charts using this library easy and intuitive."
   ]
  },
  {
   "cell_type": "markdown",
   "metadata": {},
   "source": [
    "### Main Components\n",
    "\n",
    "Picta graphs are constructed in a modular manner. The main components are:\n",
    "\n",
    "1. `Canvas`: This is is the top-level component for representing the display. A `Canvas` may consist of multiple charts.\n",
    "\n",
    "\n",
    "2. `Chart`: This is the component that corresponds to an actual chart (i.e. scatter, pie etc).\n",
    "\n",
    "\n",
    "3. `Series`: This is the data series that is plotted on a `Chart`. `Series` come in 3 types:\n",
    "\n",
    "    - `XY`:   This is series data for constructing a 2D chart\n",
    "    - `XYZ`:  This is series data for constructing a 3D chart\n",
    "    - `Map`:  This is series data that constructs a Map chart\n",
    "    \n",
    "\n",
    "4. `ChartLayout`: This configures various parts of how the `Chart` is represented on screen.\n",
    "\n",
    "`Chart` may occassionally also make use of the `Config` component for further configuration. `Config` specifies whether the plot is responsive.\n",
    "\n",
    "The following examples in this notebook should provide a number of interactive examples to get used to the Picta library."
   ]
  },
  {
   "cell_type": "markdown",
   "metadata": {},
   "source": [
    "### Importing the Library\n",
    "\n",
    "Importing as below should bring in the most frequently used Components in the library."
   ]
  },
  {
   "cell_type": "code",
   "execution_count": 4,
   "metadata": {},
   "outputs": [],
   "source": [
    "import org.carbonateresearch.picta._"
   ]
  },
  {
   "cell_type": "markdown",
   "metadata": {},
   "source": [
    "### Create Some Dummy Data to Use in the Examples\n",
    "\n",
    "Here we create some dummy data to be used in the examples for this notebook."
   ]
  },
  {
   "cell_type": "code",
   "execution_count": 5,
   "metadata": {},
   "outputs": [],
   "source": [
    "val x = List.range(0, 100).map(x => scala.util.Random.nextDouble() * 50)\n",
    "val y = List.range(0, 100).map(x => scala.util.Random.nextDouble() * 50)\n",
    "val z = List.range(0, 100).map(x => scala.util.Random.nextDouble() * 50)"
   ]
  },
  {
   "cell_type": "markdown",
   "metadata": {},
   "source": [
    "### 2D Plots\n",
    "\n",
    "`Series` that represent 2D data are represented by `XY` series types.\n",
    "\n",
    "\n",
    "#### Scatter Plot\n",
    "\n",
    "An example `Scatter` plot is below. \n",
    "\n",
    "Note: This is just one way to call the library functions. Another way that uses function chaining will be shown immediately after this example."
   ]
  },
  {
   "cell_type": "code",
   "execution_count": 6,
   "metadata": {},
   "outputs": [
    {
     "data": {
      "text/html": [
       "<div id=\"grid-container_hqXwaBivxM\" class=\"grid-container\" align=\"center\"> \n",
       "<div id=\"grid_hqXwaBivxM\" class=\"grid\" align=\"center\"> \n",
       "<div id=\"graph_2lRLdliLbs\" class=\"graph\"></div> \n",
       "</div> \n",
       "</div> \n",
       "<script>\n",
       "var masonry = new Macy({\n",
       "    container: '#grid_hqXwaBivxM',\n",
       "    debug: true,\n",
       "    mobileFirst: true,\n",
       "    columns: 1,\n",
       "    margin: {\n",
       "        x: 0,\n",
       "        y: 50\n",
       "    }\n",
       "  });\n",
       "\n",
       "  var traces_2lRLdliLbs = [{\"name\":\"tZlv5UhCXj\",\"type\":\"scatter\",\"mode\":\"markers\",\"x\":[44.28627401020714,21.490289694755386,23.222251346904716,16.298763449683634,44.27930007609451,29.244826146218223,17.950930569388035,35.258729727582526,35.733872389488255,15.790007148497075,32.44400832620581,22.10403800984439,8.956242792539554,4.263719521072384,29.197480966347765,35.602250955819024,49.39859186754181,43.32895705679478,15.323665760566236,9.563970812290629,0.859106809848853,32.25115595377579,45.533343157665925,47.13969156792946,38.47881936398151,4.347503908128031,36.42604745016407,1.3244760611520967,35.57603909424344,37.62689329242106,43.82953891897319,31.509620315669647,45.71273059933421,8.55831100697721,27.439229755311885,14.445879226243774,41.55319552430949,47.33711907848455,7.3306475805172076,46.82069060112716,5.053942548668234,40.762810112337505,5.052742523216697,5.802259500987578,49.31463932965857,11.898466475228997,7.95713899107458,33.36622215670214,21.023556791425683,34.051284025662106,49.17818004659344,29.99603261071021,33.846925507387255,10.295179810302951,7.2508941097304715,33.436066282772906,17.340163478118882,18.750625818581206,48.738767234442285,18.576867138023374,32.999907502515974,38.14349202589978,14.440474145187714,35.264827041259295,8.929351233899958,27.78384975287887,34.754479260687226,1.8539800345411583,27.255348818451143,41.03727651610367,2.6027097793447638,43.65550204886428,13.914307993354097,1.6054037995003823,32.94923118625094,7.090876545963559,28.71489186239884,17.489035272256253,46.397156121114335,42.317589563703315,34.68905175353182,48.376345770556064,30.606748858779415,29.371602944051702,39.65895588843231,28.38028469838429,7.349996475622017,25.45874748831503,49.67587512198375,27.543458675597236,14.901639448236514,33.92757021447226,3.5281085200318083,12.335411075805725,5.163942437401708,38.669048375059454,19.868549724864863,37.48635278749808,2.4322613741819596,11.21400554563669],\"y\":[33.67849947860534,18.933039530090177,26.03069513880481,31.636900038148998,26.762865783703937,0.3966274215159771,42.181923531352936,18.525111001667355,17.76289019646713,34.168996302600966,31.42253714145276,37.73569336718287,20.77605702372451,0.053145500799495204,36.635004256137016,4.436969460810003,8.088869803427468,35.08492196336857,43.339609743665996,8.020245083785065,21.756683614609944,40.657495029503586,38.274531488956505,24.86727981012776,20.80579675340607,22.97659115313587,44.4894410938797,39.672085487816524,25.68653187476646,7.393693154484532,41.18780004651973,22.040969300905733,29.272041306532564,47.09601101995726,44.375292921495316,1.4326667578712649,34.176088911344685,21.876187937753542,0.00658124253360981,0.15076468307246293,49.454087877184776,43.26135282060465,24.76987227619782,21.06354818552076,35.85516620076375,48.15023922516474,20.90848996749092,44.00175176914466,27.709067620550897,24.288788479633737,40.55099583122622,12.372617144209785,31.26021873359857,17.408722930174424,31.906073779352567,39.42902851533054,3.802261269185875,21.66028545877628,14.375745318517625,31.845418191016456,5.319937826393694,2.0894308049217103,2.150180547570557,16.777475682362684,34.51116233618664,40.34142316134399,26.169685632464194,17.420645004360264,14.040669812199692,32.51692380104151,42.4741733000911,1.2327296745989702,25.6676455393338,1.1633002430583517,10.90771807034488,24.448856752528975,14.493224928821524,11.753011464988905,31.905551423487065,16.292416265162537,32.989813053960106,7.6825949364046355,40.66311230649411,36.37349259508882,29.70264538038117,46.819896471305526,27.371545003213786,49.16670186598181,4.555066056596496,36.933827270827805,29.40129515620477,40.17322691306817,2.5424823625516346,26.96008318816795,26.32523065079576,49.39723185384363,0.26598720567213574,15.98790429484927,11.494951274827608,19.104751263437215]}];\n",
       " var layout_2lRLdliLbs = {\"height\":550,\"width\":600,\"hovermode\":\"closest\",\"title\":{\"text\":\"My First Chart\"},\"showlegend\":true};\n",
       " var config_2lRLdliLbs = {\"responsive\":true,\"scrollZoom\":true,\"displaylogo\":false};\n",
       " Plotly.newPlot(\"graph_2lRLdliLbs\", traces_2lRLdliLbs, layout_2lRLdliLbs, config_2lRLdliLbs);\n",
       "</script> \n"
      ]
     },
     "metadata": {},
     "output_type": "display_data"
    }
   ],
   "source": [
    "// create the data series using the data from above\n",
    "// 'asType SCATTER' transforms the series into a scatter chart\n",
    "// 'drawStyle Markers' specifies the style of the markers the chart should have\n",
    "// if a name is not provided to the series, Picta generates a random name to help keep track of the series in charts\n",
    "// multiple series.\n",
    "val series = XY(x, y) asType SCATTER drawStyle MARKERS\n",
    "\n",
    "// create a chart by adding to it a data series. We set the title as 'First Chart'\n",
    "val chart = Chart() addSeries series setTitle \"My First Chart\"\n",
    "\n",
    "// if we have a single chart, then we do not need to use the Canvas and can simply call chart.plot\n",
    "chart.plotInline"
   ]
  },
  {
   "cell_type": "markdown",
   "metadata": {},
   "source": [
    "### Simple costumization\n",
    "This plot is nice, but could use some simple costumization to make it more attractive. First, the data series does not have a name and so the legend come with a generated arbitrary name (not very useful). Second, the X and Y axis don't have labels. Let's fix that."
   ]
  },
  {
   "cell_type": "code",
   "execution_count": 7,
   "metadata": {},
   "outputs": [
    {
     "data": {
      "text/html": [
       "<div id=\"grid-container_a3Zuf6KD2q\" class=\"grid-container\" align=\"center\"> \n",
       "<div id=\"grid_a3Zuf6KD2q\" class=\"grid\" align=\"center\"> \n",
       "<div id=\"graph_gPxBfZZ01Q\" class=\"graph\"></div> \n",
       "</div> \n",
       "</div> \n",
       "<script>\n",
       "var masonry = new Macy({\n",
       "    container: '#grid_a3Zuf6KD2q',\n",
       "    debug: true,\n",
       "    mobileFirst: true,\n",
       "    columns: 1,\n",
       "    margin: {\n",
       "        x: 0,\n",
       "        y: 50\n",
       "    }\n",
       "  });\n",
       "\n",
       "  var traces_gPxBfZZ01Q = [{\"name\":\"x vs y\",\"type\":\"scatter\",\"mode\":\"markers\",\"x\":[44.28627401020714,21.490289694755386,23.222251346904716,16.298763449683634,44.27930007609451,29.244826146218223,17.950930569388035,35.258729727582526,35.733872389488255,15.790007148497075,32.44400832620581,22.10403800984439,8.956242792539554,4.263719521072384,29.197480966347765,35.602250955819024,49.39859186754181,43.32895705679478,15.323665760566236,9.563970812290629,0.859106809848853,32.25115595377579,45.533343157665925,47.13969156792946,38.47881936398151,4.347503908128031,36.42604745016407,1.3244760611520967,35.57603909424344,37.62689329242106,43.82953891897319,31.509620315669647,45.71273059933421,8.55831100697721,27.439229755311885,14.445879226243774,41.55319552430949,47.33711907848455,7.3306475805172076,46.82069060112716,5.053942548668234,40.762810112337505,5.052742523216697,5.802259500987578,49.31463932965857,11.898466475228997,7.95713899107458,33.36622215670214,21.023556791425683,34.051284025662106,49.17818004659344,29.99603261071021,33.846925507387255,10.295179810302951,7.2508941097304715,33.436066282772906,17.340163478118882,18.750625818581206,48.738767234442285,18.576867138023374,32.999907502515974,38.14349202589978,14.440474145187714,35.264827041259295,8.929351233899958,27.78384975287887,34.754479260687226,1.8539800345411583,27.255348818451143,41.03727651610367,2.6027097793447638,43.65550204886428,13.914307993354097,1.6054037995003823,32.94923118625094,7.090876545963559,28.71489186239884,17.489035272256253,46.397156121114335,42.317589563703315,34.68905175353182,48.376345770556064,30.606748858779415,29.371602944051702,39.65895588843231,28.38028469838429,7.349996475622017,25.45874748831503,49.67587512198375,27.543458675597236,14.901639448236514,33.92757021447226,3.5281085200318083,12.335411075805725,5.163942437401708,38.669048375059454,19.868549724864863,37.48635278749808,2.4322613741819596,11.21400554563669],\"y\":[33.67849947860534,18.933039530090177,26.03069513880481,31.636900038148998,26.762865783703937,0.3966274215159771,42.181923531352936,18.525111001667355,17.76289019646713,34.168996302600966,31.42253714145276,37.73569336718287,20.77605702372451,0.053145500799495204,36.635004256137016,4.436969460810003,8.088869803427468,35.08492196336857,43.339609743665996,8.020245083785065,21.756683614609944,40.657495029503586,38.274531488956505,24.86727981012776,20.80579675340607,22.97659115313587,44.4894410938797,39.672085487816524,25.68653187476646,7.393693154484532,41.18780004651973,22.040969300905733,29.272041306532564,47.09601101995726,44.375292921495316,1.4326667578712649,34.176088911344685,21.876187937753542,0.00658124253360981,0.15076468307246293,49.454087877184776,43.26135282060465,24.76987227619782,21.06354818552076,35.85516620076375,48.15023922516474,20.90848996749092,44.00175176914466,27.709067620550897,24.288788479633737,40.55099583122622,12.372617144209785,31.26021873359857,17.408722930174424,31.906073779352567,39.42902851533054,3.802261269185875,21.66028545877628,14.375745318517625,31.845418191016456,5.319937826393694,2.0894308049217103,2.150180547570557,16.777475682362684,34.51116233618664,40.34142316134399,26.169685632464194,17.420645004360264,14.040669812199692,32.51692380104151,42.4741733000911,1.2327296745989702,25.6676455393338,1.1633002430583517,10.90771807034488,24.448856752528975,14.493224928821524,11.753011464988905,31.905551423487065,16.292416265162537,32.989813053960106,7.6825949364046355,40.66311230649411,36.37349259508882,29.70264538038117,46.819896471305526,27.371545003213786,49.16670186598181,4.555066056596496,36.933827270827805,29.40129515620477,40.17322691306817,2.5424823625516346,26.96008318816795,26.32523065079576,49.39723185384363,0.26598720567213574,15.98790429484927,11.494951274827608,19.104751263437215]}];\n",
       " var layout_gPxBfZZ01Q = {\"height\":550,\"width\":600,\"hovermode\":\"closest\",\"title\":{\"text\":\"Chart with custom axis and label\"},\"showlegend\":true,\"xaxis\":{\"title\":{\"text\":\"X values\"},\"showgrid\":true,\"zeroline\":false,\"showline\":false},\"yaxis\":{\"title\":{\"text\":\"Y values\"},\"showgrid\":true,\"zeroline\":false,\"showline\":false}};\n",
       " var config_gPxBfZZ01Q = {\"responsive\":true,\"scrollZoom\":true,\"displaylogo\":false};\n",
       " Plotly.newPlot(\"graph_gPxBfZZ01Q\", traces_gPxBfZZ01Q, layout_gPxBfZZ01Q, config_gPxBfZZ01Q);\n",
       "</script> \n"
      ]
     },
     "metadata": {},
     "output_type": "display_data"
    }
   ],
   "source": [
    "val series = XY(x, y) asType SCATTER drawStyle MARKERS setName(\"x vs y\") // Using 'setName' gives a name to our series \n",
    "\n",
    "// Note the use of the setXAxisTitle and setYAxisTitle compared to above\n",
    "val chart = Chart() addSeries series setTitle \"Chart with custom axis and label\" setXAxisTitle(\"X values\") setYAxisTitle(\"Y values\")\n",
    "\n",
    "chart.plotInline"
   ]
  },
  {
   "cell_type": "markdown",
   "metadata": {},
   "source": [
    "#### Chaining methods using the '.dot' notation\n",
    "\n",
    "Sometimes when we are specifying many options, it is quicker to use the IDE autocomplete and just chain the method calls using the familiar '.dot' notation. Throughout this book both the style above and the method chaining style will be used as and when convenient."
   ]
  },
  {
   "cell_type": "code",
   "execution_count": 8,
   "metadata": {},
   "outputs": [
    {
     "data": {
      "text/html": [
       "<div id=\"grid-container_N5ezazYUN5\" class=\"grid-container\" align=\"center\"> \n",
       "<div id=\"grid_N5ezazYUN5\" class=\"grid\" align=\"center\"> \n",
       "<div id=\"graph_D28r1CazGd\" class=\"graph\"></div> \n",
       "</div> \n",
       "</div> \n",
       "<script>\n",
       "var masonry = new Macy({\n",
       "    container: '#grid_N5ezazYUN5',\n",
       "    debug: true,\n",
       "    mobileFirst: true,\n",
       "    columns: 1,\n",
       "    margin: {\n",
       "        x: 0,\n",
       "        y: 50\n",
       "    }\n",
       "  });\n",
       "\n",
       "  var traces_D28r1CazGd = [{\"name\":\"Chained xy\",\"type\":\"scatter\",\"mode\":\"markers\",\"x\":[44.28627401020714,21.490289694755386,23.222251346904716,16.298763449683634,44.27930007609451,29.244826146218223,17.950930569388035,35.258729727582526,35.733872389488255,15.790007148497075,32.44400832620581,22.10403800984439,8.956242792539554,4.263719521072384,29.197480966347765,35.602250955819024,49.39859186754181,43.32895705679478,15.323665760566236,9.563970812290629,0.859106809848853,32.25115595377579,45.533343157665925,47.13969156792946,38.47881936398151,4.347503908128031,36.42604745016407,1.3244760611520967,35.57603909424344,37.62689329242106,43.82953891897319,31.509620315669647,45.71273059933421,8.55831100697721,27.439229755311885,14.445879226243774,41.55319552430949,47.33711907848455,7.3306475805172076,46.82069060112716,5.053942548668234,40.762810112337505,5.052742523216697,5.802259500987578,49.31463932965857,11.898466475228997,7.95713899107458,33.36622215670214,21.023556791425683,34.051284025662106,49.17818004659344,29.99603261071021,33.846925507387255,10.295179810302951,7.2508941097304715,33.436066282772906,17.340163478118882,18.750625818581206,48.738767234442285,18.576867138023374,32.999907502515974,38.14349202589978,14.440474145187714,35.264827041259295,8.929351233899958,27.78384975287887,34.754479260687226,1.8539800345411583,27.255348818451143,41.03727651610367,2.6027097793447638,43.65550204886428,13.914307993354097,1.6054037995003823,32.94923118625094,7.090876545963559,28.71489186239884,17.489035272256253,46.397156121114335,42.317589563703315,34.68905175353182,48.376345770556064,30.606748858779415,29.371602944051702,39.65895588843231,28.38028469838429,7.349996475622017,25.45874748831503,49.67587512198375,27.543458675597236,14.901639448236514,33.92757021447226,3.5281085200318083,12.335411075805725,5.163942437401708,38.669048375059454,19.868549724864863,37.48635278749808,2.4322613741819596,11.21400554563669],\"y\":[33.67849947860534,18.933039530090177,26.03069513880481,31.636900038148998,26.762865783703937,0.3966274215159771,42.181923531352936,18.525111001667355,17.76289019646713,34.168996302600966,31.42253714145276,37.73569336718287,20.77605702372451,0.053145500799495204,36.635004256137016,4.436969460810003,8.088869803427468,35.08492196336857,43.339609743665996,8.020245083785065,21.756683614609944,40.657495029503586,38.274531488956505,24.86727981012776,20.80579675340607,22.97659115313587,44.4894410938797,39.672085487816524,25.68653187476646,7.393693154484532,41.18780004651973,22.040969300905733,29.272041306532564,47.09601101995726,44.375292921495316,1.4326667578712649,34.176088911344685,21.876187937753542,0.00658124253360981,0.15076468307246293,49.454087877184776,43.26135282060465,24.76987227619782,21.06354818552076,35.85516620076375,48.15023922516474,20.90848996749092,44.00175176914466,27.709067620550897,24.288788479633737,40.55099583122622,12.372617144209785,31.26021873359857,17.408722930174424,31.906073779352567,39.42902851533054,3.802261269185875,21.66028545877628,14.375745318517625,31.845418191016456,5.319937826393694,2.0894308049217103,2.150180547570557,16.777475682362684,34.51116233618664,40.34142316134399,26.169685632464194,17.420645004360264,14.040669812199692,32.51692380104151,42.4741733000911,1.2327296745989702,25.6676455393338,1.1633002430583517,10.90771807034488,24.448856752528975,14.493224928821524,11.753011464988905,31.905551423487065,16.292416265162537,32.989813053960106,7.6825949364046355,40.66311230649411,36.37349259508882,29.70264538038117,46.819896471305526,27.371545003213786,49.16670186598181,4.555066056596496,36.933827270827805,29.40129515620477,40.17322691306817,2.5424823625516346,26.96008318816795,26.32523065079576,49.39723185384363,0.26598720567213574,15.98790429484927,11.494951274827608,19.104751263437215]}];\n",
       " var layout_D28r1CazGd = {\"height\":550,\"width\":600,\"hovermode\":\"closest\",\"title\":{\"text\":\"Using Method Chaining\"},\"showlegend\":true,\"xaxis\":{\"title\":{\"text\":\"X values\"},\"showgrid\":true,\"zeroline\":false,\"showline\":false},\"yaxis\":{\"title\":{\"text\":\"Y values\"},\"showgrid\":true,\"zeroline\":false,\"showline\":false}};\n",
       " var config_D28r1CazGd = {\"responsive\":true,\"scrollZoom\":true,\"displaylogo\":false};\n",
       " Plotly.newPlot(\"graph_D28r1CazGd\", traces_D28r1CazGd, layout_D28r1CazGd, config_D28r1CazGd);\n",
       "</script> \n"
      ]
     },
     "metadata": {},
     "output_type": "display_data"
    }
   ],
   "source": [
    "// sometimes we may specify many options. In such cases it is clearer to use function chaining as below:\n",
    "val series = XY(x, y)\n",
    "            .asType(SCATTER)\n",
    "            .setName(\"Chained xy\")\n",
    "            .drawMarkers  // This is to help leverage the IDE autocompletion for quick scripting. Tap 'tab' twice to see options.\n",
    "\n",
    "val chart = Chart()\n",
    "            .addSeries(series)\n",
    "            .setTitle(\"Using Method Chaining\")\n",
    "            // by specifying and X and Y axes we can give more rid of the zerolines\n",
    "            .addAxes(Axis(X ,zeroline = false), Axis(Y ,zeroline = false))\n",
    "            .setXAxisTitle(\"X values\")\n",
    "            .setYAxisTitle(\"Y values\")\n",
    "\n",
    "chart.plotInline"
   ]
  },
  {
   "cell_type": "markdown",
   "metadata": {},
   "source": [
    "#### Bar Chart\n",
    "\n",
    "Now using the same principles as above, let's create a `Bar` chart:"
   ]
  },
  {
   "cell_type": "code",
   "execution_count": 9,
   "metadata": {},
   "outputs": [
    {
     "data": {
      "text/html": [
       "<div id=\"grid-container_7ahLsuNlfy\" class=\"grid-container\" align=\"center\"> \n",
       "<div id=\"grid_7ahLsuNlfy\" class=\"grid\" align=\"center\"> \n",
       "<div id=\"graph_yosJ3tI9t4\" class=\"graph\"></div> \n",
       "</div> \n",
       "</div> \n",
       "<script>\n",
       "var masonry = new Macy({\n",
       "    container: '#grid_7ahLsuNlfy',\n",
       "    debug: true,\n",
       "    mobileFirst: true,\n",
       "    columns: 1,\n",
       "    margin: {\n",
       "        x: 0,\n",
       "        y: 50\n",
       "    }\n",
       "  });\n",
       "\n",
       "  var traces_yosJ3tI9t4 = [{\"name\":\"My data\",\"type\":\"bar\",\"x\":[\"a\",\"b\",\"c\"],\"y\":[10,20,300]}];\n",
       " var layout_yosJ3tI9t4 = {\"height\":550,\"width\":600,\"hovermode\":\"closest\",\"title\":{\"text\":\"Bar Chart\"},\"showlegend\":true,\"xaxis\":{\"title\":{\"text\":\"Category\"},\"showgrid\":true,\"zeroline\":false,\"showline\":false},\"yaxis\":{\"title\":{\"text\":\"Count\"},\"showgrid\":true,\"zeroline\":false,\"showline\":false}};\n",
       " var config_yosJ3tI9t4 = {\"responsive\":false,\"scrollZoom\":false,\"displaylogo\":false};\n",
       " Plotly.newPlot(\"graph_yosJ3tI9t4\", traces_yosJ3tI9t4, layout_yosJ3tI9t4, config_yosJ3tI9t4);\n",
       "</script> \n"
      ]
     },
     "metadata": {},
     "output_type": "display_data"
    }
   ],
   "source": [
    "// First we create some data for the piechart\n",
    "val x_bar = List(\"a\", \"b\", \"c\")\n",
    "val y_bar = List(10, 20, 300)\n",
    "\n",
    "// again feed in the data that we want to represent as a Bar chart.\n",
    "// Notice how we change 'asType SCATTER' to 'asType BAR'\n",
    "val series = XY(x_bar, y_bar) asType BAR setName(\"My data\")\n",
    "\n",
    "// we can turn off the scrollzoom using setConfig\n",
    "val chart = Chart() addSeries series setTitle \"Bar Chart\" setConfig(false, false) setXAxisTitle \"Category\" setYAxisTitle \"Count\"\n",
    "\n",
    "chart.plotInline"
   ]
  },
  {
   "cell_type": "markdown",
   "metadata": {},
   "source": [
    "#### Adding Multiple Series on the Same Axis\n",
    "\n",
    "Sometimes we may want to plot multiple `Series` on the same axis to compare different data series.\n",
    "\n",
    "Let's plot both of the above on the same pair of axis:"
   ]
  },
  {
   "cell_type": "code",
   "execution_count": 10,
   "metadata": {},
   "outputs": [],
   "source": [
    "// we import the marker option which lets us specify the marker\n",
    "import org.carbonateresearch.picta.options.Marker\n",
    "import org.carbonateresearch.picta.SymbolShape._"
   ]
  },
  {
   "cell_type": "code",
   "execution_count": 11,
   "metadata": {},
   "outputs": [
    {
     "data": {
      "text/html": [
       "<div id=\"grid-container_rev8pFS0pC\" class=\"grid-container\" align=\"center\"> \n",
       "<div id=\"grid_rev8pFS0pC\" class=\"grid\" align=\"center\"> \n",
       "<div id=\"graph_D1M1ZfTcNS\" class=\"graph\"></div> \n",
       "</div> \n",
       "</div> \n",
       "<script>\n",
       "var masonry = new Macy({\n",
       "    container: '#grid_rev8pFS0pC',\n",
       "    debug: true,\n",
       "    mobileFirst: true,\n",
       "    columns: 1,\n",
       "    margin: {\n",
       "        x: 0,\n",
       "        y: 50\n",
       "    }\n",
       "  });\n",
       "\n",
       "  var traces_D1M1ZfTcNS = [{\"name\":\"Bar\",\"type\":\"bar\",\"x\":[44.28627401020714,21.490289694755386,23.222251346904716,16.298763449683634,44.27930007609451,29.244826146218223,17.950930569388035,35.258729727582526,35.733872389488255,15.790007148497075,32.44400832620581,22.10403800984439,8.956242792539554,4.263719521072384,29.197480966347765,35.602250955819024,49.39859186754181,43.32895705679478,15.323665760566236,9.563970812290629,0.859106809848853,32.25115595377579,45.533343157665925,47.13969156792946,38.47881936398151,4.347503908128031,36.42604745016407,1.3244760611520967,35.57603909424344,37.62689329242106,43.82953891897319,31.509620315669647,45.71273059933421,8.55831100697721,27.439229755311885,14.445879226243774,41.55319552430949,47.33711907848455,7.3306475805172076,46.82069060112716,5.053942548668234,40.762810112337505,5.052742523216697,5.802259500987578,49.31463932965857,11.898466475228997,7.95713899107458,33.36622215670214,21.023556791425683,34.051284025662106,49.17818004659344,29.99603261071021,33.846925507387255,10.295179810302951,7.2508941097304715,33.436066282772906,17.340163478118882,18.750625818581206,48.738767234442285,18.576867138023374,32.999907502515974,38.14349202589978,14.440474145187714,35.264827041259295,8.929351233899958,27.78384975287887,34.754479260687226,1.8539800345411583,27.255348818451143,41.03727651610367,2.6027097793447638,43.65550204886428,13.914307993354097,1.6054037995003823,32.94923118625094,7.090876545963559,28.71489186239884,17.489035272256253,46.397156121114335,42.317589563703315,34.68905175353182,48.376345770556064,30.606748858779415,29.371602944051702,39.65895588843231,28.38028469838429,7.349996475622017,25.45874748831503,49.67587512198375,27.543458675597236,14.901639448236514,33.92757021447226,3.5281085200318083,12.335411075805725,5.163942437401708,38.669048375059454,19.868549724864863,37.48635278749808,2.4322613741819596,11.21400554563669],\"y\":[33.67849947860534,18.933039530090177,26.03069513880481,31.636900038148998,26.762865783703937,0.3966274215159771,42.181923531352936,18.525111001667355,17.76289019646713,34.168996302600966,31.42253714145276,37.73569336718287,20.77605702372451,0.053145500799495204,36.635004256137016,4.436969460810003,8.088869803427468,35.08492196336857,43.339609743665996,8.020245083785065,21.756683614609944,40.657495029503586,38.274531488956505,24.86727981012776,20.80579675340607,22.97659115313587,44.4894410938797,39.672085487816524,25.68653187476646,7.393693154484532,41.18780004651973,22.040969300905733,29.272041306532564,47.09601101995726,44.375292921495316,1.4326667578712649,34.176088911344685,21.876187937753542,0.00658124253360981,0.15076468307246293,49.454087877184776,43.26135282060465,24.76987227619782,21.06354818552076,35.85516620076375,48.15023922516474,20.90848996749092,44.00175176914466,27.709067620550897,24.288788479633737,40.55099583122622,12.372617144209785,31.26021873359857,17.408722930174424,31.906073779352567,39.42902851533054,3.802261269185875,21.66028545877628,14.375745318517625,31.845418191016456,5.319937826393694,2.0894308049217103,2.150180547570557,16.777475682362684,34.51116233618664,40.34142316134399,26.169685632464194,17.420645004360264,14.040669812199692,32.51692380104151,42.4741733000911,1.2327296745989702,25.6676455393338,1.1633002430583517,10.90771807034488,24.448856752528975,14.493224928821524,11.753011464988905,31.905551423487065,16.292416265162537,32.989813053960106,7.6825949364046355,40.66311230649411,36.37349259508882,29.70264538038117,46.819896471305526,27.371545003213786,49.16670186598181,4.555066056596496,36.933827270827805,29.40129515620477,40.17322691306817,2.5424823625516346,26.96008318816795,26.32523065079576,49.39723185384363,0.26598720567213574,15.98790429484927,11.494951274827608,19.104751263437215]},{\"name\":\"Scatter\",\"type\":\"scatter\",\"mode\":\"markers\",\"marker\":{\"symbol\":\"square-open\",\"color\":\"red\"},\"x\":[44.28627401020714,21.490289694755386,23.222251346904716,16.298763449683634,44.27930007609451,29.244826146218223,17.950930569388035,35.258729727582526,35.733872389488255,15.790007148497075,32.44400832620581,22.10403800984439,8.956242792539554,4.263719521072384,29.197480966347765,35.602250955819024,49.39859186754181,43.32895705679478,15.323665760566236,9.563970812290629,0.859106809848853,32.25115595377579,45.533343157665925,47.13969156792946,38.47881936398151,4.347503908128031,36.42604745016407,1.3244760611520967,35.57603909424344,37.62689329242106,43.82953891897319,31.509620315669647,45.71273059933421,8.55831100697721,27.439229755311885,14.445879226243774,41.55319552430949,47.33711907848455,7.3306475805172076,46.82069060112716,5.053942548668234,40.762810112337505,5.052742523216697,5.802259500987578,49.31463932965857,11.898466475228997,7.95713899107458,33.36622215670214,21.023556791425683,34.051284025662106,49.17818004659344,29.99603261071021,33.846925507387255,10.295179810302951,7.2508941097304715,33.436066282772906,17.340163478118882,18.750625818581206,48.738767234442285,18.576867138023374,32.999907502515974,38.14349202589978,14.440474145187714,35.264827041259295,8.929351233899958,27.78384975287887,34.754479260687226,1.8539800345411583,27.255348818451143,41.03727651610367,2.6027097793447638,43.65550204886428,13.914307993354097,1.6054037995003823,32.94923118625094,7.090876545963559,28.71489186239884,17.489035272256253,46.397156121114335,42.317589563703315,34.68905175353182,48.376345770556064,30.606748858779415,29.371602944051702,39.65895588843231,28.38028469838429,7.349996475622017,25.45874748831503,49.67587512198375,27.543458675597236,14.901639448236514,33.92757021447226,3.5281085200318083,12.335411075805725,5.163942437401708,38.669048375059454,19.868549724864863,37.48635278749808,2.4322613741819596,11.21400554563669],\"y\":[33.67849947860534,18.933039530090177,26.03069513880481,31.636900038148998,26.762865783703937,0.3966274215159771,42.181923531352936,18.525111001667355,17.76289019646713,34.168996302600966,31.42253714145276,37.73569336718287,20.77605702372451,0.053145500799495204,36.635004256137016,4.436969460810003,8.088869803427468,35.08492196336857,43.339609743665996,8.020245083785065,21.756683614609944,40.657495029503586,38.274531488956505,24.86727981012776,20.80579675340607,22.97659115313587,44.4894410938797,39.672085487816524,25.68653187476646,7.393693154484532,41.18780004651973,22.040969300905733,29.272041306532564,47.09601101995726,44.375292921495316,1.4326667578712649,34.176088911344685,21.876187937753542,0.00658124253360981,0.15076468307246293,49.454087877184776,43.26135282060465,24.76987227619782,21.06354818552076,35.85516620076375,48.15023922516474,20.90848996749092,44.00175176914466,27.709067620550897,24.288788479633737,40.55099583122622,12.372617144209785,31.26021873359857,17.408722930174424,31.906073779352567,39.42902851533054,3.802261269185875,21.66028545877628,14.375745318517625,31.845418191016456,5.319937826393694,2.0894308049217103,2.150180547570557,16.777475682362684,34.51116233618664,40.34142316134399,26.169685632464194,17.420645004360264,14.040669812199692,32.51692380104151,42.4741733000911,1.2327296745989702,25.6676455393338,1.1633002430583517,10.90771807034488,24.448856752528975,14.493224928821524,11.753011464988905,31.905551423487065,16.292416265162537,32.989813053960106,7.6825949364046355,40.66311230649411,36.37349259508882,29.70264538038117,46.819896471305526,27.371545003213786,49.16670186598181,4.555066056596496,36.933827270827805,29.40129515620477,40.17322691306817,2.5424823625516346,26.96008318816795,26.32523065079576,49.39723185384363,0.26598720567213574,15.98790429484927,11.494951274827608,19.104751263437215]}];\n",
       " var layout_D1M1ZfTcNS = {\"height\":550,\"width\":600,\"hovermode\":\"closest\",\"title\":{\"text\":\"Multiple series on one chart\"},\"showlegend\":true,\"xaxis\":{\"title\":{\"text\":\"X values\"},\"showgrid\":true,\"zeroline\":false,\"showline\":false},\"yaxis\":{\"title\":{\"text\":\"Y values\"},\"showgrid\":true,\"zeroline\":false,\"showline\":false}};\n",
       " var config_D1M1ZfTcNS = {\"responsive\":true,\"scrollZoom\":true,\"displaylogo\":false};\n",
       " Plotly.newPlot(\"graph_D1M1ZfTcNS\", traces_D1M1ZfTcNS, layout_D1M1ZfTcNS, config_D1M1ZfTcNS);\n",
       "</script> \n"
      ]
     },
     "metadata": {},
     "output_type": "display_data"
    }
   ],
   "source": [
    "// additional traces can simply be composed with an existing chart and added on\n",
    "val series1 = XY(x, y) asType BAR setName \"Bar\"\n",
    "\n",
    "// lets give the second series a red marker. Again we can 'compose' a marker using smaller components\n",
    "val marker = Marker() setSymbol SQUARE_OPEN setColor \"red\"\n",
    "\n",
    "val series2 = XY(x, y) asType SCATTER setName \"Scatter\" drawStyle MARKERS setMarker marker\n",
    "\n",
    "// we not put brackets in the 'addSeries' function to ensure that addSeries picks up the right series'\n",
    "val chart = Chart() addSeries(series1, series2) setTitle(\"Multiple series on one chart\") setXAxisTitle \"X values\" setYAxisTitle \"Y values\"\n",
    "\n",
    "chart.plotInline"
   ]
  },
  {
   "cell_type": "markdown",
   "metadata": {},
   "source": [
    "### Lets Change The Appearance of The Markers\n",
    "\n",
    "We can control the appearance of the markers by setting the width"
   ]
  },
  {
   "cell_type": "code",
   "execution_count": 12,
   "metadata": {},
   "outputs": [
    {
     "data": {
      "text/html": [
       "<div id=\"grid-container_WDOh4cIsYM\" class=\"grid-container\" align=\"center\"> \n",
       "<div id=\"grid_WDOh4cIsYM\" class=\"grid\" align=\"center\"> \n",
       "<div id=\"graph_HvjJjk9p7s\" class=\"graph\"></div> \n",
       "</div> \n",
       "</div> \n",
       "<script>\n",
       "var masonry = new Macy({\n",
       "    container: '#grid_WDOh4cIsYM',\n",
       "    debug: true,\n",
       "    mobileFirst: true,\n",
       "    columns: 1,\n",
       "    margin: {\n",
       "        x: 0,\n",
       "        y: 50\n",
       "    }\n",
       "  });\n",
       "\n",
       "  var traces_HvjJjk9p7s = [{\"name\":\"Bar\",\"type\":\"bar\",\"x\":[44.28627401020714,21.490289694755386,23.222251346904716,16.298763449683634,44.27930007609451,29.244826146218223,17.950930569388035,35.258729727582526,35.733872389488255,15.790007148497075,32.44400832620581,22.10403800984439,8.956242792539554,4.263719521072384,29.197480966347765,35.602250955819024,49.39859186754181,43.32895705679478,15.323665760566236,9.563970812290629,0.859106809848853,32.25115595377579,45.533343157665925,47.13969156792946,38.47881936398151,4.347503908128031,36.42604745016407,1.3244760611520967,35.57603909424344,37.62689329242106,43.82953891897319,31.509620315669647,45.71273059933421,8.55831100697721,27.439229755311885,14.445879226243774,41.55319552430949,47.33711907848455,7.3306475805172076,46.82069060112716,5.053942548668234,40.762810112337505,5.052742523216697,5.802259500987578,49.31463932965857,11.898466475228997,7.95713899107458,33.36622215670214,21.023556791425683,34.051284025662106,49.17818004659344,29.99603261071021,33.846925507387255,10.295179810302951,7.2508941097304715,33.436066282772906,17.340163478118882,18.750625818581206,48.738767234442285,18.576867138023374,32.999907502515974,38.14349202589978,14.440474145187714,35.264827041259295,8.929351233899958,27.78384975287887,34.754479260687226,1.8539800345411583,27.255348818451143,41.03727651610367,2.6027097793447638,43.65550204886428,13.914307993354097,1.6054037995003823,32.94923118625094,7.090876545963559,28.71489186239884,17.489035272256253,46.397156121114335,42.317589563703315,34.68905175353182,48.376345770556064,30.606748858779415,29.371602944051702,39.65895588843231,28.38028469838429,7.349996475622017,25.45874748831503,49.67587512198375,27.543458675597236,14.901639448236514,33.92757021447226,3.5281085200318083,12.335411075805725,5.163942437401708,38.669048375059454,19.868549724864863,37.48635278749808,2.4322613741819596,11.21400554563669],\"y\":[33.67849947860534,18.933039530090177,26.03069513880481,31.636900038148998,26.762865783703937,0.3966274215159771,42.181923531352936,18.525111001667355,17.76289019646713,34.168996302600966,31.42253714145276,37.73569336718287,20.77605702372451,0.053145500799495204,36.635004256137016,4.436969460810003,8.088869803427468,35.08492196336857,43.339609743665996,8.020245083785065,21.756683614609944,40.657495029503586,38.274531488956505,24.86727981012776,20.80579675340607,22.97659115313587,44.4894410938797,39.672085487816524,25.68653187476646,7.393693154484532,41.18780004651973,22.040969300905733,29.272041306532564,47.09601101995726,44.375292921495316,1.4326667578712649,34.176088911344685,21.876187937753542,0.00658124253360981,0.15076468307246293,49.454087877184776,43.26135282060465,24.76987227619782,21.06354818552076,35.85516620076375,48.15023922516474,20.90848996749092,44.00175176914466,27.709067620550897,24.288788479633737,40.55099583122622,12.372617144209785,31.26021873359857,17.408722930174424,31.906073779352567,39.42902851533054,3.802261269185875,21.66028545877628,14.375745318517625,31.845418191016456,5.319937826393694,2.0894308049217103,2.150180547570557,16.777475682362684,34.51116233618664,40.34142316134399,26.169685632464194,17.420645004360264,14.040669812199692,32.51692380104151,42.4741733000911,1.2327296745989702,25.6676455393338,1.1633002430583517,10.90771807034488,24.448856752528975,14.493224928821524,11.753011464988905,31.905551423487065,16.292416265162537,32.989813053960106,7.6825949364046355,40.66311230649411,36.37349259508882,29.70264538038117,46.819896471305526,27.371545003213786,49.16670186598181,4.555066056596496,36.933827270827805,29.40129515620477,40.17322691306817,2.5424823625516346,26.96008318816795,26.32523065079576,49.39723185384363,0.26598720567213574,15.98790429484927,11.494951274827608,19.104751263437215]},{\"name\":\"Scatter\",\"type\":\"scatter\",\"mode\":\"markers\",\"marker\":{\"symbol\":\"circle\",\"color\":\"red\",\"line\":{\"width\":2,\"color\":\"black\"},\"size\":[10,10,10,10,10,10,10,10,10,10,10,10,10,10,10,10,10,10,10,10,10,10,10,10,10,10,10,10,10,10,10,10,10,10,10,10,10,10,10,10,10,10,10,10,10,10,10,10,10,10,10,10,10,10,10,10,10,10,10,10,10,10,10,10,10,10,10,10,10,10,10,10,10,10,10,10,10,10,10,10,10,10,10,10,10,10,10,10,10,10,10,10,10,10,10,10,10,10,10,10]},\"x\":[44.28627401020714,21.490289694755386,23.222251346904716,16.298763449683634,44.27930007609451,29.244826146218223,17.950930569388035,35.258729727582526,35.733872389488255,15.790007148497075,32.44400832620581,22.10403800984439,8.956242792539554,4.263719521072384,29.197480966347765,35.602250955819024,49.39859186754181,43.32895705679478,15.323665760566236,9.563970812290629,0.859106809848853,32.25115595377579,45.533343157665925,47.13969156792946,38.47881936398151,4.347503908128031,36.42604745016407,1.3244760611520967,35.57603909424344,37.62689329242106,43.82953891897319,31.509620315669647,45.71273059933421,8.55831100697721,27.439229755311885,14.445879226243774,41.55319552430949,47.33711907848455,7.3306475805172076,46.82069060112716,5.053942548668234,40.762810112337505,5.052742523216697,5.802259500987578,49.31463932965857,11.898466475228997,7.95713899107458,33.36622215670214,21.023556791425683,34.051284025662106,49.17818004659344,29.99603261071021,33.846925507387255,10.295179810302951,7.2508941097304715,33.436066282772906,17.340163478118882,18.750625818581206,48.738767234442285,18.576867138023374,32.999907502515974,38.14349202589978,14.440474145187714,35.264827041259295,8.929351233899958,27.78384975287887,34.754479260687226,1.8539800345411583,27.255348818451143,41.03727651610367,2.6027097793447638,43.65550204886428,13.914307993354097,1.6054037995003823,32.94923118625094,7.090876545963559,28.71489186239884,17.489035272256253,46.397156121114335,42.317589563703315,34.68905175353182,48.376345770556064,30.606748858779415,29.371602944051702,39.65895588843231,28.38028469838429,7.349996475622017,25.45874748831503,49.67587512198375,27.543458675597236,14.901639448236514,33.92757021447226,3.5281085200318083,12.335411075805725,5.163942437401708,38.669048375059454,19.868549724864863,37.48635278749808,2.4322613741819596,11.21400554563669],\"y\":[33.67849947860534,18.933039530090177,26.03069513880481,31.636900038148998,26.762865783703937,0.3966274215159771,42.181923531352936,18.525111001667355,17.76289019646713,34.168996302600966,31.42253714145276,37.73569336718287,20.77605702372451,0.053145500799495204,36.635004256137016,4.436969460810003,8.088869803427468,35.08492196336857,43.339609743665996,8.020245083785065,21.756683614609944,40.657495029503586,38.274531488956505,24.86727981012776,20.80579675340607,22.97659115313587,44.4894410938797,39.672085487816524,25.68653187476646,7.393693154484532,41.18780004651973,22.040969300905733,29.272041306532564,47.09601101995726,44.375292921495316,1.4326667578712649,34.176088911344685,21.876187937753542,0.00658124253360981,0.15076468307246293,49.454087877184776,43.26135282060465,24.76987227619782,21.06354818552076,35.85516620076375,48.15023922516474,20.90848996749092,44.00175176914466,27.709067620550897,24.288788479633737,40.55099583122622,12.372617144209785,31.26021873359857,17.408722930174424,31.906073779352567,39.42902851533054,3.802261269185875,21.66028545877628,14.375745318517625,31.845418191016456,5.319937826393694,2.0894308049217103,2.150180547570557,16.777475682362684,34.51116233618664,40.34142316134399,26.169685632464194,17.420645004360264,14.040669812199692,32.51692380104151,42.4741733000911,1.2327296745989702,25.6676455393338,1.1633002430583517,10.90771807034488,24.448856752528975,14.493224928821524,11.753011464988905,31.905551423487065,16.292416265162537,32.989813053960106,7.6825949364046355,40.66311230649411,36.37349259508882,29.70264538038117,46.819896471305526,27.371545003213786,49.16670186598181,4.555066056596496,36.933827270827805,29.40129515620477,40.17322691306817,2.5424823625516346,26.96008318816795,26.32523065079576,49.39723185384363,0.26598720567213574,15.98790429484927,11.494951274827608,19.104751263437215]}];\n",
       " var layout_HvjJjk9p7s = {\"height\":550,\"width\":600,\"hovermode\":\"closest\",\"showlegend\":true,\"xaxis\":{\"title\":{\"text\":\"X values\"},\"showgrid\":true,\"zeroline\":false,\"showline\":false},\"yaxis\":{\"title\":{\"text\":\"Y values\"},\"showgrid\":true,\"zeroline\":false,\"showline\":false}};\n",
       " var config_HvjJjk9p7s = {\"responsive\":false,\"scrollZoom\":false,\"displaylogo\":false};\n",
       " Plotly.newPlot(\"graph_HvjJjk9p7s\", traces_HvjJjk9p7s, layout_HvjJjk9p7s, config_HvjJjk9p7s);\n",
       "</script> \n"
      ]
     },
     "metadata": {},
     "output_type": "display_data"
    }
   ],
   "source": [
    "// we can pass in the size of the markers\n",
    "val sizes = List.range(0, 100).map(x => 10)\n",
    "\n",
    "// additional traces can simply be composed with an existing chart and added on\n",
    "val series1 = XY(x, y) asType BAR setName \"Bar\"\n",
    "\n",
    "// lets give the second series a red marker. Again we can 'compose' a marker using smaller components\n",
    "val marker = (\n",
    "    Marker() \n",
    "    // sets the marker shape\n",
    "    setSymbol CIRCLE\n",
    "    // sets the fill to red\n",
    "    setColor \"red\" \n",
    "    // sets the outline to black, with width 2\n",
    "    setLine(width = 2, \"black\")\n",
    "    // set the size of the markers to 10 as per the list we created\n",
    "    setSize(sizes)\n",
    ") \n",
    "\n",
    "val series2 = XY(x, y) asType SCATTER setName \"Scatter\" drawStyle MARKERS setMarker marker\n",
    "\n",
    "// we not put brackets in the 'addSeries' function to ensure that addSeries picks up the right series'\n",
    "val chart = Chart() addSeries(series1, series2) setConfig(false, false) setXAxisTitle \"X values\" setYAxisTitle \"Y values\"\n",
    "\n",
    "chart.plotInline"
   ]
  },
  {
   "cell_type": "markdown",
   "metadata": {},
   "source": [
    "### Adding Another Axes\n",
    "\n",
    "Sometimes we may wish to plot multiple series on one chart, but using two different Axes. This may be because the values of the two series are very different, yet we want to compare them on the same plot. We can do this as follows:"
   ]
  },
  {
   "cell_type": "code",
   "execution_count": 13,
   "metadata": {},
   "outputs": [
    {
     "data": {
      "text/html": [
       "<div id=\"grid-container_rTMFwsyrTm\" class=\"grid-container\" align=\"center\"> \n",
       "<div id=\"grid_rTMFwsyrTm\" class=\"grid\" align=\"center\"> \n",
       "<div id=\"graph_UnhMhwGxnG\" class=\"graph\"></div> \n",
       "</div> \n",
       "</div> \n",
       "<script>\n",
       "var masonry = new Macy({\n",
       "    container: '#grid_rTMFwsyrTm',\n",
       "    debug: true,\n",
       "    mobileFirst: true,\n",
       "    columns: 1,\n",
       "    margin: {\n",
       "        x: 0,\n",
       "        y: 50\n",
       "    }\n",
       "  });\n",
       "\n",
       "  var traces_UnhMhwGxnG = [{\"name\":\"Series 3 using Y axis 1\",\"type\":\"scatter\",\"mode\":\"markers\",\"x\":[44.28627401020714,21.490289694755386,23.222251346904716,16.298763449683634,44.27930007609451,29.244826146218223,17.950930569388035,35.258729727582526,35.733872389488255,15.790007148497075,32.44400832620581,22.10403800984439,8.956242792539554,4.263719521072384,29.197480966347765,35.602250955819024,49.39859186754181,43.32895705679478,15.323665760566236,9.563970812290629,0.859106809848853,32.25115595377579,45.533343157665925,47.13969156792946,38.47881936398151,4.347503908128031,36.42604745016407,1.3244760611520967,35.57603909424344,37.62689329242106,43.82953891897319,31.509620315669647,45.71273059933421,8.55831100697721,27.439229755311885,14.445879226243774,41.55319552430949,47.33711907848455,7.3306475805172076,46.82069060112716,5.053942548668234,40.762810112337505,5.052742523216697,5.802259500987578,49.31463932965857,11.898466475228997,7.95713899107458,33.36622215670214,21.023556791425683,34.051284025662106,49.17818004659344,29.99603261071021,33.846925507387255,10.295179810302951,7.2508941097304715,33.436066282772906,17.340163478118882,18.750625818581206,48.738767234442285,18.576867138023374,32.999907502515974,38.14349202589978,14.440474145187714,35.264827041259295,8.929351233899958,27.78384975287887,34.754479260687226,1.8539800345411583,27.255348818451143,41.03727651610367,2.6027097793447638,43.65550204886428,13.914307993354097,1.6054037995003823,32.94923118625094,7.090876545963559,28.71489186239884,17.489035272256253,46.397156121114335,42.317589563703315,34.68905175353182,48.376345770556064,30.606748858779415,29.371602944051702,39.65895588843231,28.38028469838429,7.349996475622017,25.45874748831503,49.67587512198375,27.543458675597236,14.901639448236514,33.92757021447226,3.5281085200318083,12.335411075805725,5.163942437401708,38.669048375059454,19.868549724864863,37.48635278749808,2.4322613741819596,11.21400554563669],\"y\":[33.67849947860534,18.933039530090177,26.03069513880481,31.636900038148998,26.762865783703937,0.3966274215159771,42.181923531352936,18.525111001667355,17.76289019646713,34.168996302600966,31.42253714145276,37.73569336718287,20.77605702372451,0.053145500799495204,36.635004256137016,4.436969460810003,8.088869803427468,35.08492196336857,43.339609743665996,8.020245083785065,21.756683614609944,40.657495029503586,38.274531488956505,24.86727981012776,20.80579675340607,22.97659115313587,44.4894410938797,39.672085487816524,25.68653187476646,7.393693154484532,41.18780004651973,22.040969300905733,29.272041306532564,47.09601101995726,44.375292921495316,1.4326667578712649,34.176088911344685,21.876187937753542,0.00658124253360981,0.15076468307246293,49.454087877184776,43.26135282060465,24.76987227619782,21.06354818552076,35.85516620076375,48.15023922516474,20.90848996749092,44.00175176914466,27.709067620550897,24.288788479633737,40.55099583122622,12.372617144209785,31.26021873359857,17.408722930174424,31.906073779352567,39.42902851533054,3.802261269185875,21.66028545877628,14.375745318517625,31.845418191016456,5.319937826393694,2.0894308049217103,2.150180547570557,16.777475682362684,34.51116233618664,40.34142316134399,26.169685632464194,17.420645004360264,14.040669812199692,32.51692380104151,42.4741733000911,1.2327296745989702,25.6676455393338,1.1633002430583517,10.90771807034488,24.448856752528975,14.493224928821524,11.753011464988905,31.905551423487065,16.292416265162537,32.989813053960106,7.6825949364046355,40.66311230649411,36.37349259508882,29.70264538038117,46.819896471305526,27.371545003213786,49.16670186598181,4.555066056596496,36.933827270827805,29.40129515620477,40.17322691306817,2.5424823625516346,26.96008318816795,26.32523065079576,49.39723185384363,0.26598720567213574,15.98790429484927,11.494951274827608,19.104751263437215]},{\"name\":\"Series 2 using Y axis 2\",\"type\":\"scatter\",\"mode\":\"markers\",\"yaxis\":\"y2\",\"x\":[44.28627401020714,21.490289694755386,23.222251346904716,16.298763449683634,44.27930007609451,29.244826146218223,17.950930569388035,35.258729727582526,35.733872389488255,15.790007148497075,32.44400832620581,22.10403800984439,8.956242792539554,4.263719521072384,29.197480966347765,35.602250955819024,49.39859186754181,43.32895705679478,15.323665760566236,9.563970812290629,0.859106809848853,32.25115595377579,45.533343157665925,47.13969156792946,38.47881936398151,4.347503908128031,36.42604745016407,1.3244760611520967,35.57603909424344,37.62689329242106,43.82953891897319,31.509620315669647,45.71273059933421,8.55831100697721,27.439229755311885,14.445879226243774,41.55319552430949,47.33711907848455,7.3306475805172076,46.82069060112716,5.053942548668234,40.762810112337505,5.052742523216697,5.802259500987578,49.31463932965857,11.898466475228997,7.95713899107458,33.36622215670214,21.023556791425683,34.051284025662106,49.17818004659344,29.99603261071021,33.846925507387255,10.295179810302951,7.2508941097304715,33.436066282772906,17.340163478118882,18.750625818581206,48.738767234442285,18.576867138023374,32.999907502515974,38.14349202589978,14.440474145187714,35.264827041259295,8.929351233899958,27.78384975287887,34.754479260687226,1.8539800345411583,27.255348818451143,41.03727651610367,2.6027097793447638,43.65550204886428,13.914307993354097,1.6054037995003823,32.94923118625094,7.090876545963559,28.71489186239884,17.489035272256253,46.397156121114335,42.317589563703315,34.68905175353182,48.376345770556064,30.606748858779415,29.371602944051702,39.65895588843231,28.38028469838429,7.349996475622017,25.45874748831503,49.67587512198375,27.543458675597236,14.901639448236514,33.92757021447226,3.5281085200318083,12.335411075805725,5.163942437401708,38.669048375059454,19.868549724864863,37.48635278749808,2.4322613741819596,11.21400554563669],\"y\":[5.235160340290529,42.097070379668224,14.518759819325133,44.4835092585591,36.16056699268698,8.730999045067133,7.436997829315967,27.78502900653504,33.559977995901335,47.16092805675377,43.65022522980857,18.80579189252296,13.918374883823525,49.777827604312655,2.7280005811360972,27.152082897463636,27.37031184279238,40.442798325315124,46.11076125262101,14.633550424424246,8.414193656784242,24.93339250279003,28.414591555146856,19.343402940822514,21.521594647032593,36.642389323439474,6.558419140292932,26.5085673390341,48.67071524511797,10.117243765955935,44.255445675085056,35.030997174371365,43.8116119278033,27.772524820589233,22.5453894865609,22.79173083422854,40.06184443449911,43.164334431133916,37.99138585348614,38.25219093491705,39.034698737128736,37.584815217962245,48.9251318068884,40.662585343249475,38.11816960767474,15.416518483858631,16.69617875955387,26.275199134657406,10.751384832862104,37.6805076799156,33.26597430216107,13.360704281761816,46.78618003762715,32.518767663416,28.68458143958279,14.538563317704083,34.87506038702601,5.9705740576579736,11.997741093060188,0.9579470802388523,26.492766201396066,6.334156206161412,16.954194680453842,9.20349627893931,11.677218911651671,20.649113334073167,49.51798526050856,8.450662003414571,9.866595652624117,2.3916843881465533,17.637698564497033,32.3582070159484,35.31284321122241,45.34411644753764,14.98436523565429,37.46090017009628,35.46790204285698,29.78100744450148,29.442030204060742,27.413266305047184,22.467492161452796,23.60966389060139,4.019751442954106,30.33569668714071,22.37826008562307,22.90811576765739,42.551050419346545,34.727074123746235,4.227658966386361,13.423615489794932,25.056611543163708,27.93348766364835,21.00191273805955,27.026048235547023,27.968286542468057,40.00048883814223,47.775953105607776,4.854855684379977,32.5472369654098,24.8867253521726]}];\n",
       " var layout_UnhMhwGxnG = {\"height\":550,\"width\":600,\"hovermode\":\"closest\",\"title\":{\"text\":\"Using Multiple Axes\"},\"showlegend\":true,\"yaxis2\":{\"title\":{\"text\":\"Second y axis\"},\"showgrid\":true,\"zeroline\":false,\"showline\":false,\"side\":\"right\",\"overlaying\":\"y\"},\"yaxis\":{\"title\":{\"text\":\"First Y Axis\"},\"showgrid\":true,\"zeroline\":false,\"showline\":false},\"xaxis\":{\"title\":{\"text\":\"X Axis\"},\"showgrid\":true,\"zeroline\":false,\"showline\":false}};\n",
       " var config_UnhMhwGxnG = {\"responsive\":false,\"scrollZoom\":false,\"displaylogo\":false};\n",
       " Plotly.newPlot(\"graph_UnhMhwGxnG\", traces_UnhMhwGxnG, layout_UnhMhwGxnG, config_UnhMhwGxnG);\n",
       "</script> \n"
      ]
     },
     "metadata": {},
     "output_type": "display_data"
    }
   ],
   "source": [
    "val series1 = XY(x, y) asType SCATTER drawStyle MARKERS\n",
    "\n",
    "// The following maps the series onto the second Y axis.\n",
    "val series2 = (\n",
    "    XY(x, z) \n",
    "    asType SCATTER \n",
    "    drawStyle MARKERS \n",
    "    setAxis Axis(Y, 2)\n",
    "    setName(\"Series 2 using Y axis 2\")\n",
    ")\n",
    "\n",
    "val series3 = series1.copy() setName(\"Series 3 using Y axis 1\")\n",
    "      \n",
    "val chart = (\n",
    "    Chart() \n",
    "    setTitle \"Using Multiple Axes\"\n",
    "    // the following makes the chart unresponsive\n",
    "    setConfig(false, false) \n",
    "    addSeries(series3, series2) \n",
    "    // the following tells the chart how to render the second Y Axis\n",
    "    addAxes Axis(Y, position = 2, title = \"Second y axis\", overlaying = Axis(Y), side = RIGHT_SIDE)\n",
    "    addAxes Axis(Y, 1, \"First Y Axis\")\n",
    "    addAxes Axis(X, title = \"X Axis\")\n",
    ") \n",
    "\n",
    "// this is just for illustration purposes, but we can also do the following\n",
    "val canvas = Canvas() setChart(0, 0, chart)\n",
    "\n",
    "canvas.plotInline"
   ]
  },
  {
   "cell_type": "markdown",
   "metadata": {},
   "source": [
    "### Customizing the Axes\n",
    "\n",
    "As can be seen from some of the examples above, if you do a simple chart you can use the standard axis (X and Y) and costumise them in the chart object. But for more complex layout,  we may would want to create new axis and name them.\n",
    "\n",
    "We can do this as follows:"
   ]
  },
  {
   "cell_type": "code",
   "execution_count": 14,
   "metadata": {},
   "outputs": [
    {
     "data": {
      "text/html": [
       "<div id=\"grid-container_EhkHcHs2Mt\" class=\"grid-container\" align=\"center\"> \n",
       "<div id=\"grid_EhkHcHs2Mt\" class=\"grid\" align=\"center\"> \n",
       "<div id=\"graph_Ig0clGNYlm\" class=\"graph\"></div> \n",
       "</div> \n",
       "</div> \n",
       "<script>\n",
       "var masonry = new Macy({\n",
       "    container: '#grid_EhkHcHs2Mt',\n",
       "    debug: true,\n",
       "    mobileFirst: true,\n",
       "    columns: 1,\n",
       "    margin: {\n",
       "        x: 0,\n",
       "        y: 50\n",
       "    }\n",
       "  });\n",
       "\n",
       "  var traces_Ig0clGNYlm = [{\"name\":\"Data\",\"type\":\"scatter\",\"mode\":\"markers\",\"x\":[44.28627401020714,21.490289694755386,23.222251346904716,16.298763449683634,44.27930007609451,29.244826146218223,17.950930569388035,35.258729727582526,35.733872389488255,15.790007148497075,32.44400832620581,22.10403800984439,8.956242792539554,4.263719521072384,29.197480966347765,35.602250955819024,49.39859186754181,43.32895705679478,15.323665760566236,9.563970812290629,0.859106809848853,32.25115595377579,45.533343157665925,47.13969156792946,38.47881936398151,4.347503908128031,36.42604745016407,1.3244760611520967,35.57603909424344,37.62689329242106,43.82953891897319,31.509620315669647,45.71273059933421,8.55831100697721,27.439229755311885,14.445879226243774,41.55319552430949,47.33711907848455,7.3306475805172076,46.82069060112716,5.053942548668234,40.762810112337505,5.052742523216697,5.802259500987578,49.31463932965857,11.898466475228997,7.95713899107458,33.36622215670214,21.023556791425683,34.051284025662106,49.17818004659344,29.99603261071021,33.846925507387255,10.295179810302951,7.2508941097304715,33.436066282772906,17.340163478118882,18.750625818581206,48.738767234442285,18.576867138023374,32.999907502515974,38.14349202589978,14.440474145187714,35.264827041259295,8.929351233899958,27.78384975287887,34.754479260687226,1.8539800345411583,27.255348818451143,41.03727651610367,2.6027097793447638,43.65550204886428,13.914307993354097,1.6054037995003823,32.94923118625094,7.090876545963559,28.71489186239884,17.489035272256253,46.397156121114335,42.317589563703315,34.68905175353182,48.376345770556064,30.606748858779415,29.371602944051702,39.65895588843231,28.38028469838429,7.349996475622017,25.45874748831503,49.67587512198375,27.543458675597236,14.901639448236514,33.92757021447226,3.5281085200318083,12.335411075805725,5.163942437401708,38.669048375059454,19.868549724864863,37.48635278749808,2.4322613741819596,11.21400554563669],\"y\":[33.67849947860534,18.933039530090177,26.03069513880481,31.636900038148998,26.762865783703937,0.3966274215159771,42.181923531352936,18.525111001667355,17.76289019646713,34.168996302600966,31.42253714145276,37.73569336718287,20.77605702372451,0.053145500799495204,36.635004256137016,4.436969460810003,8.088869803427468,35.08492196336857,43.339609743665996,8.020245083785065,21.756683614609944,40.657495029503586,38.274531488956505,24.86727981012776,20.80579675340607,22.97659115313587,44.4894410938797,39.672085487816524,25.68653187476646,7.393693154484532,41.18780004651973,22.040969300905733,29.272041306532564,47.09601101995726,44.375292921495316,1.4326667578712649,34.176088911344685,21.876187937753542,0.00658124253360981,0.15076468307246293,49.454087877184776,43.26135282060465,24.76987227619782,21.06354818552076,35.85516620076375,48.15023922516474,20.90848996749092,44.00175176914466,27.709067620550897,24.288788479633737,40.55099583122622,12.372617144209785,31.26021873359857,17.408722930174424,31.906073779352567,39.42902851533054,3.802261269185875,21.66028545877628,14.375745318517625,31.845418191016456,5.319937826393694,2.0894308049217103,2.150180547570557,16.777475682362684,34.51116233618664,40.34142316134399,26.169685632464194,17.420645004360264,14.040669812199692,32.51692380104151,42.4741733000911,1.2327296745989702,25.6676455393338,1.1633002430583517,10.90771807034488,24.448856752528975,14.493224928821524,11.753011464988905,31.905551423487065,16.292416265162537,32.989813053960106,7.6825949364046355,40.66311230649411,36.37349259508882,29.70264538038117,46.819896471305526,27.371545003213786,49.16670186598181,4.555066056596496,36.933827270827805,29.40129515620477,40.17322691306817,2.5424823625516346,26.96008318816795,26.32523065079576,49.39723185384363,0.26598720567213574,15.98790429484927,11.494951274827608,19.104751263437215]}];\n",
       " var layout_Ig0clGNYlm = {\"height\":550,\"width\":600,\"hovermode\":\"closest\",\"title\":{\"text\":\"Chart with Axes\"},\"showlegend\":true,\"xaxis\":{\"title\":{\"text\":\"x variable\"},\"showgrid\":true,\"zeroline\":false,\"showline\":false},\"yaxis\":{\"title\":{\"text\":\"y variable\"},\"showgrid\":true,\"zeroline\":false,\"showline\":false}};\n",
       " var config_Ig0clGNYlm = {\"responsive\":true,\"scrollZoom\":true,\"displaylogo\":false};\n",
       " Plotly.newPlot(\"graph_Ig0clGNYlm\", traces_Ig0clGNYlm, layout_Ig0clGNYlm, config_Ig0clGNYlm);\n",
       "</script> \n"
      ]
     },
     "metadata": {},
     "output_type": "display_data"
    }
   ],
   "source": [
    "// We construct the axes and set their title\n",
    "val xaxis = Axis(X, title = \"x variable\")\n",
    "val yaxis = Axis(Y, title = \"y variable\")\n",
    "\n",
    "// another way to do composition is to just add a bracket around the composition\n",
    "val chart = (\n",
    "    Chart()\n",
    "    setTitle \"Chart with Axes\"\n",
    "    addSeries(series1 setName(\"Data\"))\n",
    "    addAxes(xaxis, yaxis)\n",
    ")\n",
    "\n",
    "chart.plotInline"
   ]
  },
  {
   "cell_type": "markdown",
   "metadata": {},
   "source": [
    "### Quickly Configuring The Axes\n",
    "\n",
    "Picta comes with a range of utility functions to make configuring the primary axes quick and easy"
   ]
  },
  {
   "cell_type": "code",
   "execution_count": 15,
   "metadata": {},
   "outputs": [],
   "source": [
    "// Let's create 100 randome data points\n",
    "val x = List.range(0, 100).map(x => x * scala.util.Random.nextDouble())\n",
    "val y = List.range(0, 100).map(x => x * scala.util.Random.nextDouble())"
   ]
  },
  {
   "cell_type": "markdown",
   "metadata": {},
   "source": [
    "#### Adjusting Axes Limits"
   ]
  },
  {
   "cell_type": "code",
   "execution_count": 16,
   "metadata": {},
   "outputs": [
    {
     "data": {
      "text/html": [
       "<div id=\"grid-container_FS4sUwGD9M\" class=\"grid-container\" align=\"center\"> \n",
       "<div id=\"grid_FS4sUwGD9M\" class=\"grid\" align=\"center\"> \n",
       "<div id=\"graph_2Dj5ca9Ztj\" class=\"graph\"></div> \n",
       "</div> \n",
       "</div> \n",
       "<script>\n",
       "var masonry = new Macy({\n",
       "    container: '#grid_FS4sUwGD9M',\n",
       "    debug: true,\n",
       "    mobileFirst: true,\n",
       "    columns: 1,\n",
       "    margin: {\n",
       "        x: 0,\n",
       "        y: 50\n",
       "    }\n",
       "  });\n",
       "\n",
       "  var traces_2Dj5ca9Ztj = [{\"name\":\"Data for Axis Limit example\",\"type\":\"scatter\",\"mode\":\"markers\",\"x\":[0,0.6931660249500319,0.9116146070678408,2.6015862947115593,1.2109095643450614,3.486776382699049,2.100452048028036,6.172312586103722,5.816861096311125,0.4684101262498047,5.186106984895224,5.348746242486321,4.095071145668387,11.974395873452847,12.439055458317224,4.001241582442471,12.858396563823,0.607250560543446,3.6406627550189548,2.2440811907176954,0.9523889936837837,1.2762942950635654,20.113299392281164,4.941728726732036,4.471866290589579,7.592189711634948,15.992334432622837,0.3463112707551167,8.076436586087588,23.871188169010924,8.697568599047473,8.76908513356182,21.89867002318638,11.866186365781044,15.748185556208346,4.215976829729532,32.85990030991129,10.34756949434483,26.083871748183675,28.21417588896989,0.9869621168878595,37.057182012645455,37.15531639203715,20.873147766970686,31.80851765145689,7.603723602009006,36.47994968948415,28.80939337256212,35.352009487921265,27.807288898399005,4.373401171008839,2.169725503617171,46.91169270763724,37.08477419747191,45.413845418659314,49.862855526879,36.864650602649434,32.94638286822397,36.12512823347754,10.503596156206994,2.62515245454779,1.7965089703293162,55.62529109528551,25.73806657828115,53.59824755532648,10.24985030141947,24.829888066470918,44.80186046406303,11.971021175209408,58.33573373297075,44.474303874086985,63.61628720566411,60.6144783776955,51.5202338303952,44.976103194166896,64.70041163274233,32.510685013223735,55.6768941767605,42.247331821761584,69.91887045163801,60.21835719897694,5.232513704280665,51.237553630721365,17.847082888271068,19.19581380973228,15.9547156963194,65.49136193855014,67.56679378749008,31.562854709139067,37.482797547323756,82.58908216309673,49.25562449014452,17.35290480689518,60.98261173994409,4.256313042068557,35.25464101886234,30.733467540209652,62.48012732882043,82.42704839452111,59.637767402973026],\"y\":[0,0.6806593168839704,0.9975711682013271,2.9684357395410954,1.2958900431950786,0.539103902723368,1.044333023414294,6.191439920237859,2.992453536170089,1.6195401681701143,0.9699014443906373,7.586981644019273,5.969774678179185,3.9445918402629987,1.9408615344965405,10.293445615481142,12.744993722980983,9.662370841551178,3.003025562794762,6.010849961981539,12.03392038545828,16.558015122861004,15.643709393461558,20.186269539783773,2.4379171663848496,24.344283976218946,7.716178848541379,10.034617484276101,21.650504262385528,7.982480268780245,9.198840592606373,29.24613940797235,12.848645451010547,31.70877979179842,12.917029229952945,33.13432520022385,30.03621350283658,33.63442787330951,6.467538703565641,6.774825503232744,5.291700715962695,18.001134629948854,31.405401376320437,8.627340463790052,19.388847271164003,1.6554426210180784,2.528754563547252,5.468425938580841,35.35749298181005,33.307768747240395,30.08106772178632,6.443588878889876,30.482606547286565,0.9133372945010657,1.1303977139606456,35.92207986575273,10.252171427441821,35.303206848836,11.532841718939418,34.85728832699305,14.109307331219538,53.25415191344122,26.991799218101626,19.76974347239306,45.79077274570946,56.76625782661096,33.036232071723326,59.52828860723707,6.792787899928377,57.666655366972314,35.50961132978161,49.058135728347935,34.345929184993686,10.027010221458935,17.636886041845997,22.202159647335186,63.45371851135836,6.521003801092612,73.16936704255691,5.45398778316787,72.30436604540243,73.00629648689056,49.74709755816545,30.418132068412827,13.952105117598716,19.54315522385676,44.71497958713337,54.88370884668473,2.8334471016671676,58.00922166470276,3.432584940174789,86.57401422699121,66.68468988664794,31.68667296850949,71.87838102749109,81.20459068285082,11.010010335276448,95.93438856898976,75.31682051412186,18.69721759103927]}];\n",
       " var layout_2Dj5ca9Ztj = {\"height\":550,\"width\":600,\"hovermode\":\"closest\",\"title\":{\"text\":\"Axis.SetAxisRange\"},\"showlegend\":true,\"yaxis\":{\"title\":{\"text\":\"y axis\"},\"showgrid\":true,\"zeroline\":false,\"showline\":false,\"range\":[100,-100]},\"xaxis\":{\"title\":{\"text\":\"x axis\"},\"showgrid\":true,\"zeroline\":false,\"showline\":false,\"range\":[-100,100]}};\n",
       " var config_2Dj5ca9Ztj = {\"responsive\":true,\"scrollZoom\":true,\"displaylogo\":false};\n",
       " Plotly.newPlot(\"graph_2Dj5ca9Ztj\", traces_2Dj5ca9Ztj, layout_2Dj5ca9Ztj, config_2Dj5ca9Ztj);\n",
       "</script> \n"
      ]
     },
     "metadata": {},
     "output_type": "display_data"
    }
   ],
   "source": [
    "val series = (\n",
    "    XY(x, y)\n",
    "    asType SCATTER\n",
    "    drawStyle MARKERS\n",
    ")\n",
    "\n",
    "val chart = (\n",
    "      Chart()\n",
    "    addSeries series.setName(\"Data for Axis Limit example\")\n",
    "    setTitle \"Axis.SetAxisRange\"\n",
    "    addAxes yaxis\n",
    "    setXAxisLimits(-100, 100) // Here we set the axis limit from -100 to 100\n",
    "    setYAxisLimits(100, -100) // Here, by using the minimum as 100 and the maximum as -100, we automatically reverse the axis\n",
    "    setXAxisTitle(\"x axis\")\n",
    "    setYAxisTitle(\"y axis\")\n",
    ")\n",
    "\n",
    "chart.plotInline"
   ]
  },
  {
   "cell_type": "markdown",
   "metadata": {},
   "source": [
    "#### Adjusting Axis Ticks"
   ]
  },
  {
   "cell_type": "code",
   "execution_count": 17,
   "metadata": {
    "scrolled": false
   },
   "outputs": [
    {
     "data": {
      "text/html": [
       "<div id=\"grid-container_wm8VgQWVIJ\" class=\"grid-container\" align=\"center\"> \n",
       "<div id=\"grid_wm8VgQWVIJ\" class=\"grid\" align=\"center\"> \n",
       "<div id=\"graph_LE76lpOP1A\" class=\"graph\"></div> \n",
       "</div> \n",
       "</div> \n",
       "<script>\n",
       "var masonry = new Macy({\n",
       "    container: '#grid_wm8VgQWVIJ',\n",
       "    debug: true,\n",
       "    mobileFirst: true,\n",
       "    columns: 1,\n",
       "    margin: {\n",
       "        x: 0,\n",
       "        y: 50\n",
       "    }\n",
       "  });\n",
       "\n",
       "  var traces_LE76lpOP1A = [{\"name\":\"YEg6gPgnGa\",\"type\":\"scatter\",\"mode\":\"markers\",\"x\":[0,0.6931660249500319,0.9116146070678408,2.6015862947115593,1.2109095643450614,3.486776382699049,2.100452048028036,6.172312586103722,5.816861096311125,0.4684101262498047,5.186106984895224,5.348746242486321,4.095071145668387,11.974395873452847,12.439055458317224,4.001241582442471,12.858396563823,0.607250560543446,3.6406627550189548,2.2440811907176954,0.9523889936837837,1.2762942950635654,20.113299392281164,4.941728726732036,4.471866290589579,7.592189711634948,15.992334432622837,0.3463112707551167,8.076436586087588,23.871188169010924,8.697568599047473,8.76908513356182,21.89867002318638,11.866186365781044,15.748185556208346,4.215976829729532,32.85990030991129,10.34756949434483,26.083871748183675,28.21417588896989,0.9869621168878595,37.057182012645455,37.15531639203715,20.873147766970686,31.80851765145689,7.603723602009006,36.47994968948415,28.80939337256212,35.352009487921265,27.807288898399005,4.373401171008839,2.169725503617171,46.91169270763724,37.08477419747191,45.413845418659314,49.862855526879,36.864650602649434,32.94638286822397,36.12512823347754,10.503596156206994,2.62515245454779,1.7965089703293162,55.62529109528551,25.73806657828115,53.59824755532648,10.24985030141947,24.829888066470918,44.80186046406303,11.971021175209408,58.33573373297075,44.474303874086985,63.61628720566411,60.6144783776955,51.5202338303952,44.976103194166896,64.70041163274233,32.510685013223735,55.6768941767605,42.247331821761584,69.91887045163801,60.21835719897694,5.232513704280665,51.237553630721365,17.847082888271068,19.19581380973228,15.9547156963194,65.49136193855014,67.56679378749008,31.562854709139067,37.482797547323756,82.58908216309673,49.25562449014452,17.35290480689518,60.98261173994409,4.256313042068557,35.25464101886234,30.733467540209652,62.48012732882043,82.42704839452111,59.637767402973026],\"y\":[0,0.6806593168839704,0.9975711682013271,2.9684357395410954,1.2958900431950786,0.539103902723368,1.044333023414294,6.191439920237859,2.992453536170089,1.6195401681701143,0.9699014443906373,7.586981644019273,5.969774678179185,3.9445918402629987,1.9408615344965405,10.293445615481142,12.744993722980983,9.662370841551178,3.003025562794762,6.010849961981539,12.03392038545828,16.558015122861004,15.643709393461558,20.186269539783773,2.4379171663848496,24.344283976218946,7.716178848541379,10.034617484276101,21.650504262385528,7.982480268780245,9.198840592606373,29.24613940797235,12.848645451010547,31.70877979179842,12.917029229952945,33.13432520022385,30.03621350283658,33.63442787330951,6.467538703565641,6.774825503232744,5.291700715962695,18.001134629948854,31.405401376320437,8.627340463790052,19.388847271164003,1.6554426210180784,2.528754563547252,5.468425938580841,35.35749298181005,33.307768747240395,30.08106772178632,6.443588878889876,30.482606547286565,0.9133372945010657,1.1303977139606456,35.92207986575273,10.252171427441821,35.303206848836,11.532841718939418,34.85728832699305,14.109307331219538,53.25415191344122,26.991799218101626,19.76974347239306,45.79077274570946,56.76625782661096,33.036232071723326,59.52828860723707,6.792787899928377,57.666655366972314,35.50961132978161,49.058135728347935,34.345929184993686,10.027010221458935,17.636886041845997,22.202159647335186,63.45371851135836,6.521003801092612,73.16936704255691,5.45398778316787,72.30436604540243,73.00629648689056,49.74709755816545,30.418132068412827,13.952105117598716,19.54315522385676,44.71497958713337,54.88370884668473,2.8334471016671676,58.00922166470276,3.432584940174789,86.57401422699121,66.68468988664794,31.68667296850949,71.87838102749109,81.20459068285082,11.010010335276448,95.93438856898976,75.31682051412186,18.69721759103927]}];\n",
       " var layout_LE76lpOP1A = {\"height\":550,\"width\":600,\"hovermode\":\"closest\",\"title\":{\"text\":\"Set Axis Ticks\"},\"showlegend\":true,\"yaxis\":{\"title\":{\"text\":\"y variable\"},\"showgrid\":true,\"zeroline\":false,\"showline\":false,\"range\":[-100,100]},\"xaxis\":{\"title\":{\"text\":\"my new x axis\"},\"showgrid\":true,\"zeroline\":false,\"showline\":false,\"range\":[0,100],\"tick0\":5,\"dtick\":15}};\n",
       " var config_LE76lpOP1A = {\"responsive\":true,\"scrollZoom\":true,\"displaylogo\":false};\n",
       " Plotly.newPlot(\"graph_LE76lpOP1A\", traces_LE76lpOP1A, layout_LE76lpOP1A, config_LE76lpOP1A);\n",
       "</script> \n"
      ]
     },
     "metadata": {},
     "output_type": "display_data"
    }
   ],
   "source": [
    "val series = (\n",
    "    XY(x, y)\n",
    "    asType SCATTER\n",
    "    drawStyle MARKERS\n",
    ")\n",
    "\n",
    "val chart = (\n",
    "    Chart()\n",
    "    addSeries series\n",
    "    setTitle \"Set Axis Ticks\"\n",
    "    addAxes yaxis\n",
    "    setXAxisLimits(0, 100)\n",
    "    setYAxisLimits(-100, 100)\n",
    "    setXAxisTitle(\"my new x axis\")\n",
    "    setXAxisStartTick 5\n",
    "    setXAxisTickGap 15\n",
    ")\n",
    "\n",
    "chart.plotInline"
   ]
  },
  {
   "cell_type": "markdown",
   "metadata": {},
   "source": [
    "### Setting Logarithmic Axes"
   ]
  },
  {
   "cell_type": "code",
   "execution_count": 18,
   "metadata": {},
   "outputs": [
    {
     "data": {
      "text/html": [
       "<div id=\"grid-container_5opPVK1piZ\" class=\"grid-container\" align=\"center\"> \n",
       "<div id=\"grid_5opPVK1piZ\" class=\"grid\" align=\"center\"> \n",
       "<div id=\"graph_CURQeBVQTy\" class=\"graph\"></div> \n",
       "</div> \n",
       "</div> \n",
       "<script>\n",
       "var masonry = new Macy({\n",
       "    container: '#grid_5opPVK1piZ',\n",
       "    debug: true,\n",
       "    mobileFirst: true,\n",
       "    columns: 1,\n",
       "    margin: {\n",
       "        x: 0,\n",
       "        y: 50\n",
       "    }\n",
       "  });\n",
       "\n",
       "  var traces_CURQeBVQTy = [{\"name\":\"kgWrPvrdXR\",\"type\":\"scatter\",\"mode\":\"markers\",\"x\":[1,2,3],\"y\":[1.234,5.2112,2.44332]}];\n",
       " var layout_CURQeBVQTy = {\"height\":550,\"width\":600,\"hovermode\":\"closest\",\"title\":{\"text\":\"Logarithmic Axes\"},\"showlegend\":true,\"xaxis\":{\"title\":{\"text\":\"x variable\"},\"showgrid\":true,\"zeroline\":false,\"showline\":false,\"type\":\"log\"},\"yaxis\":{\"title\":{\"text\":\"y variable\"},\"showgrid\":true,\"zeroline\":false,\"showline\":false,\"type\":\"log\"}};\n",
       " var config_CURQeBVQTy = {\"responsive\":true,\"scrollZoom\":true,\"displaylogo\":false};\n",
       " Plotly.newPlot(\"graph_CURQeBVQTy\", traces_CURQeBVQTy, layout_CURQeBVQTy, config_CURQeBVQTy);\n",
       "</script> \n"
      ]
     },
     "metadata": {},
     "output_type": "display_data"
    }
   ],
   "source": [
    "val series = (\n",
    "    XY(List(1, 2, 3), List(1.234, 5.2112, 2.44332))\n",
    "    asType SCATTER\n",
    "    drawStyle MARKERS\n",
    ")\n",
    "\n",
    "val chart = (\n",
    "    Chart()\n",
    "    addSeries series\n",
    "    setTitle \"Logarithmic Axes\"\n",
    "    addAxes(xaxis, yaxis)\n",
    "    drawXAxisLog true // We set the 'drawXAxisLog' value to 'true' to draw it on a logarithmic scale\n",
    "    drawYAxisLog true\n",
    ")\n",
    "\n",
    "chart.plotInline"
   ]
  },
  {
   "cell_type": "markdown",
   "metadata": {},
   "source": [
    "### Reversing axis\n",
    "We can also reverse the axis by setting the appropriate 'drawXAxisReversed'"
   ]
  },
  {
   "cell_type": "code",
   "execution_count": 19,
   "metadata": {},
   "outputs": [
    {
     "data": {
      "text/html": [
       "<div id=\"grid-container_fNzpWBELv0\" class=\"grid-container\" align=\"center\"> \n",
       "<div id=\"grid_fNzpWBELv0\" class=\"grid\" align=\"center\"> \n",
       "<div id=\"graph_NS8pt3R6rq\" class=\"graph\"></div> \n",
       "</div> \n",
       "</div> \n",
       "<script>\n",
       "var masonry = new Macy({\n",
       "    container: '#grid_fNzpWBELv0',\n",
       "    debug: true,\n",
       "    mobileFirst: true,\n",
       "    columns: 1,\n",
       "    margin: {\n",
       "        x: 0,\n",
       "        y: 50\n",
       "    }\n",
       "  });\n",
       "\n",
       "  var traces_NS8pt3R6rq = [{\"name\":\"SXVCqBASes\",\"type\":\"scatter\",\"mode\":\"markers\",\"x\":[0,0.6931660249500319,0.9116146070678408,2.6015862947115593,1.2109095643450614,3.486776382699049,2.100452048028036,6.172312586103722,5.816861096311125,0.4684101262498047,5.186106984895224,5.348746242486321,4.095071145668387,11.974395873452847,12.439055458317224,4.001241582442471,12.858396563823,0.607250560543446,3.6406627550189548,2.2440811907176954,0.9523889936837837,1.2762942950635654,20.113299392281164,4.941728726732036,4.471866290589579,7.592189711634948,15.992334432622837,0.3463112707551167,8.076436586087588,23.871188169010924,8.697568599047473,8.76908513356182,21.89867002318638,11.866186365781044,15.748185556208346,4.215976829729532,32.85990030991129,10.34756949434483,26.083871748183675,28.21417588896989,0.9869621168878595,37.057182012645455,37.15531639203715,20.873147766970686,31.80851765145689,7.603723602009006,36.47994968948415,28.80939337256212,35.352009487921265,27.807288898399005,4.373401171008839,2.169725503617171,46.91169270763724,37.08477419747191,45.413845418659314,49.862855526879,36.864650602649434,32.94638286822397,36.12512823347754,10.503596156206994,2.62515245454779,1.7965089703293162,55.62529109528551,25.73806657828115,53.59824755532648,10.24985030141947,24.829888066470918,44.80186046406303,11.971021175209408,58.33573373297075,44.474303874086985,63.61628720566411,60.6144783776955,51.5202338303952,44.976103194166896,64.70041163274233,32.510685013223735,55.6768941767605,42.247331821761584,69.91887045163801,60.21835719897694,5.232513704280665,51.237553630721365,17.847082888271068,19.19581380973228,15.9547156963194,65.49136193855014,67.56679378749008,31.562854709139067,37.482797547323756,82.58908216309673,49.25562449014452,17.35290480689518,60.98261173994409,4.256313042068557,35.25464101886234,30.733467540209652,62.48012732882043,82.42704839452111,59.637767402973026],\"y\":[0,0.6806593168839704,0.9975711682013271,2.9684357395410954,1.2958900431950786,0.539103902723368,1.044333023414294,6.191439920237859,2.992453536170089,1.6195401681701143,0.9699014443906373,7.586981644019273,5.969774678179185,3.9445918402629987,1.9408615344965405,10.293445615481142,12.744993722980983,9.662370841551178,3.003025562794762,6.010849961981539,12.03392038545828,16.558015122861004,15.643709393461558,20.186269539783773,2.4379171663848496,24.344283976218946,7.716178848541379,10.034617484276101,21.650504262385528,7.982480268780245,9.198840592606373,29.24613940797235,12.848645451010547,31.70877979179842,12.917029229952945,33.13432520022385,30.03621350283658,33.63442787330951,6.467538703565641,6.774825503232744,5.291700715962695,18.001134629948854,31.405401376320437,8.627340463790052,19.388847271164003,1.6554426210180784,2.528754563547252,5.468425938580841,35.35749298181005,33.307768747240395,30.08106772178632,6.443588878889876,30.482606547286565,0.9133372945010657,1.1303977139606456,35.92207986575273,10.252171427441821,35.303206848836,11.532841718939418,34.85728832699305,14.109307331219538,53.25415191344122,26.991799218101626,19.76974347239306,45.79077274570946,56.76625782661096,33.036232071723326,59.52828860723707,6.792787899928377,57.666655366972314,35.50961132978161,49.058135728347935,34.345929184993686,10.027010221458935,17.636886041845997,22.202159647335186,63.45371851135836,6.521003801092612,73.16936704255691,5.45398778316787,72.30436604540243,73.00629648689056,49.74709755816545,30.418132068412827,13.952105117598716,19.54315522385676,44.71497958713337,54.88370884668473,2.8334471016671676,58.00922166470276,3.432584940174789,86.57401422699121,66.68468988664794,31.68667296850949,71.87838102749109,81.20459068285082,11.010010335276448,95.93438856898976,75.31682051412186,18.69721759103927]}];\n",
       " var layout_NS8pt3R6rq = {\"height\":550,\"width\":600,\"hovermode\":\"closest\",\"title\":{\"text\":\"Reversed Axes\"},\"showlegend\":true,\"xaxis\":{\"title\":{\"text\":\"x reversed\"},\"showgrid\":true,\"zeroline\":false,\"showline\":false,\"autorange\":\"reversed\"},\"yaxis\":{\"title\":{\"text\":\"y reversed\"},\"showgrid\":true,\"zeroline\":false,\"showline\":false,\"autorange\":\"reversed\"}};\n",
       " var config_NS8pt3R6rq = {\"responsive\":true,\"scrollZoom\":true,\"displaylogo\":false};\n",
       " Plotly.newPlot(\"graph_NS8pt3R6rq\", traces_NS8pt3R6rq, layout_NS8pt3R6rq, config_NS8pt3R6rq);\n",
       "</script> \n"
      ]
     },
     "metadata": {},
     "output_type": "display_data"
    }
   ],
   "source": [
    "val series = (\n",
    "    XY(x, y)\n",
    "    asType SCATTER\n",
    "    drawStyle MARKERS\n",
    ")\n",
    "\n",
    "val chart = (\n",
    "    Chart()\n",
    "    addSeries series\n",
    "    setTitle \"Reversed Axes\"\n",
    "    setXAxisTitle(\"x reversed\")\n",
    "    setYAxisTitle(\"y reversed\")\n",
    "    drawXAxisReversed true\n",
    "    drawYAxisReversed true\n",
    ")\n",
    "chart.plotInline"
   ]
  },
  {
   "cell_type": "markdown",
   "metadata": {},
   "source": [
    "### Display options - MultiCharts\n",
    "\n",
    "`MultiCharts` are a way to plot multiple axes on the same chart. This is seperate to Picta's grid system, which create a grid of subplot `Chart`'s. The next series of examples will make this clearer."
   ]
  },
  {
   "cell_type": "code",
   "execution_count": 20,
   "metadata": {},
   "outputs": [
    {
     "data": {
      "text/html": [
       "<div id=\"grid-container_uYP3JTsFMt\" class=\"grid-container\" align=\"center\"> \n",
       "<div id=\"grid_uYP3JTsFMt\" class=\"grid\" align=\"center\"> \n",
       "<div id=\"graph_JIPN2G90sr\" class=\"graph\"></div> \n",
       "</div> \n",
       "</div> \n",
       "<script>\n",
       "var masonry = new Macy({\n",
       "    container: '#grid_uYP3JTsFMt',\n",
       "    debug: true,\n",
       "    mobileFirst: true,\n",
       "    columns: 1,\n",
       "    margin: {\n",
       "        x: 0,\n",
       "        y: 50\n",
       "    }\n",
       "  });\n",
       "\n",
       "  var traces_JIPN2G90sr = [{\"name\":\"First series\",\"type\":\"scatter\",\"mode\":\"markers\",\"x\":[1,2,3],\"y\":[2,4,5]},{\"name\":\"Second series\",\"type\":\"scatter\",\"mode\":\"markers\",\"xaxis\":\"x2\",\"yaxis\":\"y2\",\"x\":[0,0.6931660249500319,0.9116146070678408,2.6015862947115593,1.2109095643450614,3.486776382699049,2.100452048028036,6.172312586103722,5.816861096311125,0.4684101262498047,5.186106984895224,5.348746242486321,4.095071145668387,11.974395873452847,12.439055458317224,4.001241582442471,12.858396563823,0.607250560543446,3.6406627550189548,2.2440811907176954,0.9523889936837837,1.2762942950635654,20.113299392281164,4.941728726732036,4.471866290589579,7.592189711634948,15.992334432622837,0.3463112707551167,8.076436586087588,23.871188169010924,8.697568599047473,8.76908513356182,21.89867002318638,11.866186365781044,15.748185556208346,4.215976829729532,32.85990030991129,10.34756949434483,26.083871748183675,28.21417588896989,0.9869621168878595,37.057182012645455,37.15531639203715,20.873147766970686,31.80851765145689,7.603723602009006,36.47994968948415,28.80939337256212,35.352009487921265,27.807288898399005,4.373401171008839,2.169725503617171,46.91169270763724,37.08477419747191,45.413845418659314,49.862855526879,36.864650602649434,32.94638286822397,36.12512823347754,10.503596156206994,2.62515245454779,1.7965089703293162,55.62529109528551,25.73806657828115,53.59824755532648,10.24985030141947,24.829888066470918,44.80186046406303,11.971021175209408,58.33573373297075,44.474303874086985,63.61628720566411,60.6144783776955,51.5202338303952,44.976103194166896,64.70041163274233,32.510685013223735,55.6768941767605,42.247331821761584,69.91887045163801,60.21835719897694,5.232513704280665,51.237553630721365,17.847082888271068,19.19581380973228,15.9547156963194,65.49136193855014,67.56679378749008,31.562854709139067,37.482797547323756,82.58908216309673,49.25562449014452,17.35290480689518,60.98261173994409,4.256313042068557,35.25464101886234,30.733467540209652,62.48012732882043,82.42704839452111,59.637767402973026],\"y\":[0,0.6806593168839704,0.9975711682013271,2.9684357395410954,1.2958900431950786,0.539103902723368,1.044333023414294,6.191439920237859,2.992453536170089,1.6195401681701143,0.9699014443906373,7.586981644019273,5.969774678179185,3.9445918402629987,1.9408615344965405,10.293445615481142,12.744993722980983,9.662370841551178,3.003025562794762,6.010849961981539,12.03392038545828,16.558015122861004,15.643709393461558,20.186269539783773,2.4379171663848496,24.344283976218946,7.716178848541379,10.034617484276101,21.650504262385528,7.982480268780245,9.198840592606373,29.24613940797235,12.848645451010547,31.70877979179842,12.917029229952945,33.13432520022385,30.03621350283658,33.63442787330951,6.467538703565641,6.774825503232744,5.291700715962695,18.001134629948854,31.405401376320437,8.627340463790052,19.388847271164003,1.6554426210180784,2.528754563547252,5.468425938580841,35.35749298181005,33.307768747240395,30.08106772178632,6.443588878889876,30.482606547286565,0.9133372945010657,1.1303977139606456,35.92207986575273,10.252171427441821,35.303206848836,11.532841718939418,34.85728832699305,14.109307331219538,53.25415191344122,26.991799218101626,19.76974347239306,45.79077274570946,56.76625782661096,33.036232071723326,59.52828860723707,6.792787899928377,57.666655366972314,35.50961132978161,49.058135728347935,34.345929184993686,10.027010221458935,17.636886041845997,22.202159647335186,63.45371851135836,6.521003801092612,73.16936704255691,5.45398778316787,72.30436604540243,73.00629648689056,49.74709755816545,30.418132068412827,13.952105117598716,19.54315522385676,44.71497958713337,54.88370884668473,2.8334471016671676,58.00922166470276,3.432584940174789,86.57401422699121,66.68468988664794,31.68667296850949,71.87838102749109,81.20459068285082,11.010010335276448,95.93438856898976,75.31682051412186,18.69721759103927]}];\n",
       " var layout_JIPN2G90sr = {\"height\":550,\"width\":600,\"hovermode\":\"closest\",\"title\":{\"text\":\"Chart with Axis Composition\"},\"showlegend\":true,\"grid\":{\"rows\":1,\"columns\":2,\"pattern\":\"independent\"},\"xaxis\":{\"title\":{\"text\":\"x1\"},\"showgrid\":true,\"zeroline\":false,\"showline\":false},\"yaxis\":{\"title\":{\"text\":\"y1\"},\"showgrid\":true,\"zeroline\":false,\"showline\":false},\"xaxis2\":{\"title\":{\"text\":\"x2\"},\"showgrid\":true,\"zeroline\":false,\"showline\":false},\"yaxis2\":{\"showgrid\":true,\"zeroline\":false,\"showline\":false}};\n",
       " var config_JIPN2G90sr = {\"responsive\":false,\"scrollZoom\":true,\"displaylogo\":false};\n",
       " Plotly.newPlot(\"graph_JIPN2G90sr\", traces_JIPN2G90sr, layout_JIPN2G90sr, config_JIPN2G90sr);\n",
       "</script> \n"
      ]
     },
     "metadata": {},
     "output_type": "display_data"
    }
   ],
   "source": [
    "// create the axes\n",
    "val xaxis1 = Axis(X) setTitle \"x1\"\n",
    "val yaxis1 = Axis(Y) setTitle \"y1\" // this is not strictly necessary, but if it is not added there will be a zeroline at y = 0\n",
    "\n",
    "val xaxis2 = Axis(X, 2) setTitle \"x2\"\n",
    "val yaxis2 = Axis(Y, 2) // this is not strictly necessary, but if it is not added there will be a zeroline at y = 0\n",
    "\n",
    "val series1 = (\n",
    "    XY(x = List(1, 2, 3), y = List(2, 4, 5))\n",
    "    asType SCATTER\n",
    "    drawStyle MARKERS\n",
    "    setName(\"First series\") //Here we don't specify the axis, so the standard axis will be used\n",
    ")\n",
    "\n",
    "val series2 = (\n",
    "    XY(x = x, y = y) \n",
    "    asType SCATTER\n",
    "    drawStyle MARKERS\n",
    "    setName(\"Second series\")\n",
    "    setAxes (xaxis2, yaxis2) //Here we specify the axis for this plot, which are the second axis\n",
    ")\n",
    "\n",
    "val chart1 = Chart()\n",
    "            .addSeries(series1, series2)\n",
    "            .setTitle(\"Chart with Axis Composition\")\n",
    "            .addAxes(xaxis1, yaxis1, xaxis2, yaxis2)\n",
    "            .setConfig(responsive=false)\n",
    "            // This tells Picta that we want to actually subdivide this chart into multiple plots\n",
    "            .asMultiChart(1, 2) //These correspond to the axis values given above\n",
    "\n",
    "chart1.plotInline"
   ]
  },
  {
   "cell_type": "markdown",
   "metadata": {},
   "source": [
    "### Picta's Subplot System\n",
    "\n",
    "While the above is useful, sometimes it is easier to plot independent charts in a subplot grid. This is where we can use the Picta subplot system.\n",
    "\n",
    "In the subplots below, each subplot is an individual `Chart`. This means we can actually embed the above `MultiChart` inside another subplot. This way we can create nested subplots to showcase any data we need to.\n",
    "\n",
    "Used creatively, this subplot system can be very useful for data exploration."
   ]
  },
  {
   "cell_type": "code",
   "execution_count": 21,
   "metadata": {
    "scrolled": false
   },
   "outputs": [
    {
     "data": {
      "text/html": [
       "<div id=\"grid-container_tptcVua5pm\" class=\"grid-container\" align=\"center\"> \n",
       "<div id=\"grid_tptcVua5pm\" class=\"grid\" align=\"center\"> \n",
       "<div id=\"graph_rr076GpzV2\" class=\"graph\"></div> \n",
       "<div id=\"graph_K8Itym0b35\" class=\"graph\"></div> \n",
       "<div id=\"graph_FknAY8UreK\" class=\"graph\"></div> \n",
       "<div id=\"graph_INYPjuQt2N\" class=\"graph\"></div> \n",
       "</div> \n",
       "</div> \n",
       "\n",
       "<div align=\"center\">\n",
       "<button id = \"saveAsPNG_tptcVua5pm\" class=\"picta-button\">Download Canvas as PNG</button>\n",
       "</div>\n",
       "<script>\n",
       "var masonry = new Macy({\n",
       "    container: '#grid_tptcVua5pm',\n",
       "    debug: true,\n",
       "    mobileFirst: true,\n",
       "    columns: 2,\n",
       "    margin: {\n",
       "        x: 0,\n",
       "        y: 50\n",
       "    }\n",
       "  });\n",
       "\n",
       "  var traces_rr076GpzV2 = [{\"name\":\"a\",\"type\":\"scatter\",\"mode\":\"markers\",\"x\":[0,0.6931660249500319,0.9116146070678408,2.6015862947115593,1.2109095643450614,3.486776382699049,2.100452048028036,6.172312586103722,5.816861096311125,0.4684101262498047,5.186106984895224,5.348746242486321,4.095071145668387,11.974395873452847,12.439055458317224,4.001241582442471,12.858396563823,0.607250560543446,3.6406627550189548,2.2440811907176954,0.9523889936837837,1.2762942950635654,20.113299392281164,4.941728726732036,4.471866290589579,7.592189711634948,15.992334432622837,0.3463112707551167,8.076436586087588,23.871188169010924,8.697568599047473,8.76908513356182,21.89867002318638,11.866186365781044,15.748185556208346,4.215976829729532,32.85990030991129,10.34756949434483,26.083871748183675,28.21417588896989,0.9869621168878595,37.057182012645455,37.15531639203715,20.873147766970686,31.80851765145689,7.603723602009006,36.47994968948415,28.80939337256212,35.352009487921265,27.807288898399005,4.373401171008839,2.169725503617171,46.91169270763724,37.08477419747191,45.413845418659314,49.862855526879,36.864650602649434,32.94638286822397,36.12512823347754,10.503596156206994,2.62515245454779,1.7965089703293162,55.62529109528551,25.73806657828115,53.59824755532648,10.24985030141947,24.829888066470918,44.80186046406303,11.971021175209408,58.33573373297075,44.474303874086985,63.61628720566411,60.6144783776955,51.5202338303952,44.976103194166896,64.70041163274233,32.510685013223735,55.6768941767605,42.247331821761584,69.91887045163801,60.21835719897694,5.232513704280665,51.237553630721365,17.847082888271068,19.19581380973228,15.9547156963194,65.49136193855014,67.56679378749008,31.562854709139067,37.482797547323756,82.58908216309673,49.25562449014452,17.35290480689518,60.98261173994409,4.256313042068557,35.25464101886234,30.733467540209652,62.48012732882043,82.42704839452111,59.637767402973026],\"y\":[0,0.6806593168839704,0.9975711682013271,2.9684357395410954,1.2958900431950786,0.539103902723368,1.044333023414294,6.191439920237859,2.992453536170089,1.6195401681701143,0.9699014443906373,7.586981644019273,5.969774678179185,3.9445918402629987,1.9408615344965405,10.293445615481142,12.744993722980983,9.662370841551178,3.003025562794762,6.010849961981539,12.03392038545828,16.558015122861004,15.643709393461558,20.186269539783773,2.4379171663848496,24.344283976218946,7.716178848541379,10.034617484276101,21.650504262385528,7.982480268780245,9.198840592606373,29.24613940797235,12.848645451010547,31.70877979179842,12.917029229952945,33.13432520022385,30.03621350283658,33.63442787330951,6.467538703565641,6.774825503232744,5.291700715962695,18.001134629948854,31.405401376320437,8.627340463790052,19.388847271164003,1.6554426210180784,2.528754563547252,5.468425938580841,35.35749298181005,33.307768747240395,30.08106772178632,6.443588878889876,30.482606547286565,0.9133372945010657,1.1303977139606456,35.92207986575273,10.252171427441821,35.303206848836,11.532841718939418,34.85728832699305,14.109307331219538,53.25415191344122,26.991799218101626,19.76974347239306,45.79077274570946,56.76625782661096,33.036232071723326,59.52828860723707,6.792787899928377,57.666655366972314,35.50961132978161,49.058135728347935,34.345929184993686,10.027010221458935,17.636886041845997,22.202159647335186,63.45371851135836,6.521003801092612,73.16936704255691,5.45398778316787,72.30436604540243,73.00629648689056,49.74709755816545,30.418132068412827,13.952105117598716,19.54315522385676,44.71497958713337,54.88370884668473,2.8334471016671676,58.00922166470276,3.432584940174789,86.57401422699121,66.68468988664794,31.68667296850949,71.87838102749109,81.20459068285082,11.010010335276448,95.93438856898976,75.31682051412186,18.69721759103927]}];\n",
       " var layout_rr076GpzV2 = {\"height\":350,\"width\":350,\"hovermode\":\"closest\",\"showlegend\":true,\"margin\":{\"l\":50,\"r\":30,\"t\":50,\"b\":50},\"xaxis\":{\"title\":{\"text\":\"x axis 1\"},\"showgrid\":true,\"zeroline\":false,\"showline\":false},\"yaxis\":{\"title\":{\"text\":\"y axis 1\"},\"showgrid\":true,\"zeroline\":false,\"showline\":false}};\n",
       " var config_rr076GpzV2 = {\"responsive\":true,\"scrollZoom\":true,\"displaylogo\":false};\n",
       " Plotly.newPlot(\"graph_rr076GpzV2\", traces_rr076GpzV2, layout_rr076GpzV2, config_rr076GpzV2);\n",
       "\n",
       "  var traces_K8Itym0b35 = [{\"name\":\"b\",\"type\":\"scatter\",\"mode\":\"markers\",\"x\":[0,0.6931660249500319,0.9116146070678408,2.6015862947115593,1.2109095643450614,3.486776382699049,2.100452048028036,6.172312586103722,5.816861096311125,0.4684101262498047,5.186106984895224,5.348746242486321,4.095071145668387,11.974395873452847,12.439055458317224,4.001241582442471,12.858396563823,0.607250560543446,3.6406627550189548,2.2440811907176954,0.9523889936837837,1.2762942950635654,20.113299392281164,4.941728726732036,4.471866290589579,7.592189711634948,15.992334432622837,0.3463112707551167,8.076436586087588,23.871188169010924,8.697568599047473,8.76908513356182,21.89867002318638,11.866186365781044,15.748185556208346,4.215976829729532,32.85990030991129,10.34756949434483,26.083871748183675,28.21417588896989,0.9869621168878595,37.057182012645455,37.15531639203715,20.873147766970686,31.80851765145689,7.603723602009006,36.47994968948415,28.80939337256212,35.352009487921265,27.807288898399005,4.373401171008839,2.169725503617171,46.91169270763724,37.08477419747191,45.413845418659314,49.862855526879,36.864650602649434,32.94638286822397,36.12512823347754,10.503596156206994,2.62515245454779,1.7965089703293162,55.62529109528551,25.73806657828115,53.59824755532648,10.24985030141947,24.829888066470918,44.80186046406303,11.971021175209408,58.33573373297075,44.474303874086985,63.61628720566411,60.6144783776955,51.5202338303952,44.976103194166896,64.70041163274233,32.510685013223735,55.6768941767605,42.247331821761584,69.91887045163801,60.21835719897694,5.232513704280665,51.237553630721365,17.847082888271068,19.19581380973228,15.9547156963194,65.49136193855014,67.56679378749008,31.562854709139067,37.482797547323756,82.58908216309673,49.25562449014452,17.35290480689518,60.98261173994409,4.256313042068557,35.25464101886234,30.733467540209652,62.48012732882043,82.42704839452111,59.637767402973026],\"y\":[0,0.6806593168839704,0.9975711682013271,2.9684357395410954,1.2958900431950786,0.539103902723368,1.044333023414294,6.191439920237859,2.992453536170089,1.6195401681701143,0.9699014443906373,7.586981644019273,5.969774678179185,3.9445918402629987,1.9408615344965405,10.293445615481142,12.744993722980983,9.662370841551178,3.003025562794762,6.010849961981539,12.03392038545828,16.558015122861004,15.643709393461558,20.186269539783773,2.4379171663848496,24.344283976218946,7.716178848541379,10.034617484276101,21.650504262385528,7.982480268780245,9.198840592606373,29.24613940797235,12.848645451010547,31.70877979179842,12.917029229952945,33.13432520022385,30.03621350283658,33.63442787330951,6.467538703565641,6.774825503232744,5.291700715962695,18.001134629948854,31.405401376320437,8.627340463790052,19.388847271164003,1.6554426210180784,2.528754563547252,5.468425938580841,35.35749298181005,33.307768747240395,30.08106772178632,6.443588878889876,30.482606547286565,0.9133372945010657,1.1303977139606456,35.92207986575273,10.252171427441821,35.303206848836,11.532841718939418,34.85728832699305,14.109307331219538,53.25415191344122,26.991799218101626,19.76974347239306,45.79077274570946,56.76625782661096,33.036232071723326,59.52828860723707,6.792787899928377,57.666655366972314,35.50961132978161,49.058135728347935,34.345929184993686,10.027010221458935,17.636886041845997,22.202159647335186,63.45371851135836,6.521003801092612,73.16936704255691,5.45398778316787,72.30436604540243,73.00629648689056,49.74709755816545,30.418132068412827,13.952105117598716,19.54315522385676,44.71497958713337,54.88370884668473,2.8334471016671676,58.00922166470276,3.432584940174789,86.57401422699121,66.68468988664794,31.68667296850949,71.87838102749109,81.20459068285082,11.010010335276448,95.93438856898976,75.31682051412186,18.69721759103927]}];\n",
       " var layout_K8Itym0b35 = {\"height\":350,\"width\":350,\"hovermode\":\"closest\",\"showlegend\":true,\"margin\":{\"l\":50,\"r\":50,\"t\":50,\"b\":50},\"xaxis\":{\"title\":{\"text\":\"x axis 2\"},\"showgrid\":true,\"zeroline\":false,\"showline\":false},\"yaxis\":{\"title\":{\"text\":\"y axis 2\"},\"showgrid\":true,\"zeroline\":false,\"showline\":false}};\n",
       " var config_K8Itym0b35 = {\"responsive\":true,\"scrollZoom\":true,\"displaylogo\":false};\n",
       " Plotly.newPlot(\"graph_K8Itym0b35\", traces_K8Itym0b35, layout_K8Itym0b35, config_K8Itym0b35);\n",
       "\n",
       "  var traces_FknAY8UreK = [{\"name\":\"c\",\"type\":\"scatter\",\"mode\":\"markers\",\"x\":[0,0.6931660249500319,0.9116146070678408,2.6015862947115593,1.2109095643450614,3.486776382699049,2.100452048028036,6.172312586103722,5.816861096311125,0.4684101262498047,5.186106984895224,5.348746242486321,4.095071145668387,11.974395873452847,12.439055458317224,4.001241582442471,12.858396563823,0.607250560543446,3.6406627550189548,2.2440811907176954,0.9523889936837837,1.2762942950635654,20.113299392281164,4.941728726732036,4.471866290589579,7.592189711634948,15.992334432622837,0.3463112707551167,8.076436586087588,23.871188169010924,8.697568599047473,8.76908513356182,21.89867002318638,11.866186365781044,15.748185556208346,4.215976829729532,32.85990030991129,10.34756949434483,26.083871748183675,28.21417588896989,0.9869621168878595,37.057182012645455,37.15531639203715,20.873147766970686,31.80851765145689,7.603723602009006,36.47994968948415,28.80939337256212,35.352009487921265,27.807288898399005,4.373401171008839,2.169725503617171,46.91169270763724,37.08477419747191,45.413845418659314,49.862855526879,36.864650602649434,32.94638286822397,36.12512823347754,10.503596156206994,2.62515245454779,1.7965089703293162,55.62529109528551,25.73806657828115,53.59824755532648,10.24985030141947,24.829888066470918,44.80186046406303,11.971021175209408,58.33573373297075,44.474303874086985,63.61628720566411,60.6144783776955,51.5202338303952,44.976103194166896,64.70041163274233,32.510685013223735,55.6768941767605,42.247331821761584,69.91887045163801,60.21835719897694,5.232513704280665,51.237553630721365,17.847082888271068,19.19581380973228,15.9547156963194,65.49136193855014,67.56679378749008,31.562854709139067,37.482797547323756,82.58908216309673,49.25562449014452,17.35290480689518,60.98261173994409,4.256313042068557,35.25464101886234,30.733467540209652,62.48012732882043,82.42704839452111,59.637767402973026],\"y\":[0,0.6806593168839704,0.9975711682013271,2.9684357395410954,1.2958900431950786,0.539103902723368,1.044333023414294,6.191439920237859,2.992453536170089,1.6195401681701143,0.9699014443906373,7.586981644019273,5.969774678179185,3.9445918402629987,1.9408615344965405,10.293445615481142,12.744993722980983,9.662370841551178,3.003025562794762,6.010849961981539,12.03392038545828,16.558015122861004,15.643709393461558,20.186269539783773,2.4379171663848496,24.344283976218946,7.716178848541379,10.034617484276101,21.650504262385528,7.982480268780245,9.198840592606373,29.24613940797235,12.848645451010547,31.70877979179842,12.917029229952945,33.13432520022385,30.03621350283658,33.63442787330951,6.467538703565641,6.774825503232744,5.291700715962695,18.001134629948854,31.405401376320437,8.627340463790052,19.388847271164003,1.6554426210180784,2.528754563547252,5.468425938580841,35.35749298181005,33.307768747240395,30.08106772178632,6.443588878889876,30.482606547286565,0.9133372945010657,1.1303977139606456,35.92207986575273,10.252171427441821,35.303206848836,11.532841718939418,34.85728832699305,14.109307331219538,53.25415191344122,26.991799218101626,19.76974347239306,45.79077274570946,56.76625782661096,33.036232071723326,59.52828860723707,6.792787899928377,57.666655366972314,35.50961132978161,49.058135728347935,34.345929184993686,10.027010221458935,17.636886041845997,22.202159647335186,63.45371851135836,6.521003801092612,73.16936704255691,5.45398778316787,72.30436604540243,73.00629648689056,49.74709755816545,30.418132068412827,13.952105117598716,19.54315522385676,44.71497958713337,54.88370884668473,2.8334471016671676,58.00922166470276,3.432584940174789,86.57401422699121,66.68468988664794,31.68667296850949,71.87838102749109,81.20459068285082,11.010010335276448,95.93438856898976,75.31682051412186,18.69721759103927]}];\n",
       " var layout_FknAY8UreK = {\"height\":350,\"width\":350,\"hovermode\":\"closest\",\"showlegend\":true,\"margin\":{\"l\":50,\"r\":30,\"t\":50,\"b\":50},\"xaxis\":{\"title\":{\"text\":\"x axis 3\"},\"showgrid\":true,\"zeroline\":false,\"showline\":false},\"yaxis\":{\"title\":{\"text\":\"y axis 3\"},\"showgrid\":true,\"zeroline\":false,\"showline\":false}};\n",
       " var config_FknAY8UreK = {\"responsive\":true,\"scrollZoom\":true,\"displaylogo\":false};\n",
       " Plotly.newPlot(\"graph_FknAY8UreK\", traces_FknAY8UreK, layout_FknAY8UreK, config_FknAY8UreK);\n",
       "\n",
       "  var traces_INYPjuQt2N = [{\"name\":\"First series\",\"type\":\"scatter\",\"mode\":\"markers\",\"x\":[1,2,3],\"y\":[2,4,5]},{\"name\":\"Second series\",\"type\":\"scatter\",\"mode\":\"markers\",\"xaxis\":\"x2\",\"yaxis\":\"y2\",\"x\":[0,0.6931660249500319,0.9116146070678408,2.6015862947115593,1.2109095643450614,3.486776382699049,2.100452048028036,6.172312586103722,5.816861096311125,0.4684101262498047,5.186106984895224,5.348746242486321,4.095071145668387,11.974395873452847,12.439055458317224,4.001241582442471,12.858396563823,0.607250560543446,3.6406627550189548,2.2440811907176954,0.9523889936837837,1.2762942950635654,20.113299392281164,4.941728726732036,4.471866290589579,7.592189711634948,15.992334432622837,0.3463112707551167,8.076436586087588,23.871188169010924,8.697568599047473,8.76908513356182,21.89867002318638,11.866186365781044,15.748185556208346,4.215976829729532,32.85990030991129,10.34756949434483,26.083871748183675,28.21417588896989,0.9869621168878595,37.057182012645455,37.15531639203715,20.873147766970686,31.80851765145689,7.603723602009006,36.47994968948415,28.80939337256212,35.352009487921265,27.807288898399005,4.373401171008839,2.169725503617171,46.91169270763724,37.08477419747191,45.413845418659314,49.862855526879,36.864650602649434,32.94638286822397,36.12512823347754,10.503596156206994,2.62515245454779,1.7965089703293162,55.62529109528551,25.73806657828115,53.59824755532648,10.24985030141947,24.829888066470918,44.80186046406303,11.971021175209408,58.33573373297075,44.474303874086985,63.61628720566411,60.6144783776955,51.5202338303952,44.976103194166896,64.70041163274233,32.510685013223735,55.6768941767605,42.247331821761584,69.91887045163801,60.21835719897694,5.232513704280665,51.237553630721365,17.847082888271068,19.19581380973228,15.9547156963194,65.49136193855014,67.56679378749008,31.562854709139067,37.482797547323756,82.58908216309673,49.25562449014452,17.35290480689518,60.98261173994409,4.256313042068557,35.25464101886234,30.733467540209652,62.48012732882043,82.42704839452111,59.637767402973026],\"y\":[0,0.6806593168839704,0.9975711682013271,2.9684357395410954,1.2958900431950786,0.539103902723368,1.044333023414294,6.191439920237859,2.992453536170089,1.6195401681701143,0.9699014443906373,7.586981644019273,5.969774678179185,3.9445918402629987,1.9408615344965405,10.293445615481142,12.744993722980983,9.662370841551178,3.003025562794762,6.010849961981539,12.03392038545828,16.558015122861004,15.643709393461558,20.186269539783773,2.4379171663848496,24.344283976218946,7.716178848541379,10.034617484276101,21.650504262385528,7.982480268780245,9.198840592606373,29.24613940797235,12.848645451010547,31.70877979179842,12.917029229952945,33.13432520022385,30.03621350283658,33.63442787330951,6.467538703565641,6.774825503232744,5.291700715962695,18.001134629948854,31.405401376320437,8.627340463790052,19.388847271164003,1.6554426210180784,2.528754563547252,5.468425938580841,35.35749298181005,33.307768747240395,30.08106772178632,6.443588878889876,30.482606547286565,0.9133372945010657,1.1303977139606456,35.92207986575273,10.252171427441821,35.303206848836,11.532841718939418,34.85728832699305,14.109307331219538,53.25415191344122,26.991799218101626,19.76974347239306,45.79077274570946,56.76625782661096,33.036232071723326,59.52828860723707,6.792787899928377,57.666655366972314,35.50961132978161,49.058135728347935,34.345929184993686,10.027010221458935,17.636886041845997,22.202159647335186,63.45371851135836,6.521003801092612,73.16936704255691,5.45398778316787,72.30436604540243,73.00629648689056,49.74709755816545,30.418132068412827,13.952105117598716,19.54315522385676,44.71497958713337,54.88370884668473,2.8334471016671676,58.00922166470276,3.432584940174789,86.57401422699121,66.68468988664794,31.68667296850949,71.87838102749109,81.20459068285082,11.010010335276448,95.93438856898976,75.31682051412186,18.69721759103927]}];\n",
       " var layout_INYPjuQt2N = {\"height\":350,\"width\":350,\"hovermode\":\"closest\",\"title\":{\"text\":\"The MultiChart from Above\"},\"showlegend\":true,\"grid\":{\"rows\":1,\"columns\":2,\"pattern\":\"independent\"},\"xaxis\":{\"title\":{\"text\":\"x1\"},\"showgrid\":true,\"zeroline\":false,\"showline\":false},\"yaxis\":{\"title\":{\"text\":\"y1\"},\"showgrid\":true,\"zeroline\":false,\"showline\":false},\"xaxis2\":{\"title\":{\"text\":\"x2\"},\"showgrid\":true,\"zeroline\":false,\"showline\":false},\"yaxis2\":{\"showgrid\":true,\"zeroline\":false,\"showline\":false}};\n",
       " var config_INYPjuQt2N = {\"responsive\":false,\"scrollZoom\":true,\"displaylogo\":false};\n",
       " Plotly.newPlot(\"graph_INYPjuQt2N\", traces_INYPjuQt2N, layout_INYPjuQt2N, config_INYPjuQt2N);\n",
       "\n",
       "var save_tptcVua5pm = document.getElementById(\"saveAsPNG_tptcVua5pm\")\n",
       "save_tptcVua5pm.onclick = async function() {\n",
       "    const grid = document.getElementById(\"grid-container_tptcVua5pm\")\n",
       "    const graphs = grid.getElementsByClassName(\"graph\")\n",
       "\n",
       "    const images = []\n",
       "\n",
       "    const rows = 2\n",
       "    const cols = 2\n",
       "    const img_width = 400\n",
       "    const img_height = 400\n",
       "    var margin = 50\n",
       "\n",
       "    for (var i=0; i<rows; i++) {\n",
       "      for (var j=0; j<cols; j++) {\n",
       "        const image = await Plotly.toImage(graphs[i * cols + j], {format: 'png', width: img_width, height: img_height})\n",
       "        images.push(image);\n",
       "      }\n",
       "    }\n",
       "\n",
       "    const positioned_images = []\n",
       "\n",
       "        for (var i=0; i<rows; i++) {\n",
       "            for (var j=0; j<cols; j++) {\n",
       "\n",
       "                const obj = {\n",
       "                    \"src\": images[i*cols + j],\n",
       "                    x: j*img_width+margin,\n",
       "                    y: i*img_height+margin\n",
       "                }\n",
       "\n",
       "                positioned_images.push(obj)\n",
       "            }\n",
       "        }\n",
       "\n",
       "        mergeImages(positioned_images, {\n",
       "            width: img_width*cols+60, height: img_height*rows+60\n",
       "        })\n",
       "        .then(b64 => {\n",
       "            var a = document.createElement(\"a\");\n",
       "            a.href = b64;\n",
       "            a.download = \"Image.png\";\n",
       "            a.click();\n",
       "            a.remove()\n",
       "        });\n",
       "}\n",
       "</script> \n"
      ]
     },
     "metadata": {},
     "output_type": "display_data"
    }
   ],
   "source": [
    "// first define the x-axes we will use in the plot\n",
    "val ax1 = Axis(X, title = \"x axis 1\")\n",
    "val ax2 = Axis(X, title = \"x axis 2\")\n",
    "val ax3 = Axis(X, title = \"x axis 3\")\n",
    "val ax4 = Axis(X, title = \"x axis 4\")\n",
    "\n",
    "// first define the y-axes we will use in the plot\n",
    "val ax6 = Axis(Y, title = \"y axis 1\")\n",
    "val ax7 = Axis(Y, title = \"y axis 2\")\n",
    "val ax8 = Axis(Y, title = \"y axis 3\")\n",
    "val ax9 = Axis(Y, title = \"y axis 4\")\n",
    "\n",
    "// it may be necessary to play around with the chart dimensions and margin  in order to ensure a good fit on screen.\n",
    "val dim = 350\n",
    "\n",
    "val chart1 = (\n",
    "    Chart()\n",
    "    setDimensions(width = dim, height = dim)\n",
    "    addSeries XY(x, y).setName(\"a\").drawMarkers\n",
    "    addAxes(ax1, ax6)\n",
    "    setMargin(l=50, r=30, t=50, b=50)\n",
    ")\n",
    "\n",
    "val chart2 = (\n",
    "    Chart() \n",
    "    setDimensions(width = dim, height = dim)\n",
    "    addSeries XY(x, y).setName(\"b\").drawMarkers\n",
    "    addAxes(ax2, ax7)\n",
    "    setMargin(l=50, r=50, t=50, b=50)\n",
    ")\n",
    "\n",
    "val chart3 = (\n",
    "    Chart()\n",
    "    setDimensions(width = dim, height = dim)\n",
    "    addSeries XY(x, y).setName(\"c\").drawMarkers\n",
    "    addAxes(ax3, ax8)\n",
    "    setMargin(l=50, r=30, t=50, b=50)\n",
    ")\n",
    "\n",
    "val chart4 = (\n",
    "    Chart()\n",
    "    setDimensions(width = dim, height = dim)\n",
    "    addSeries(series1, series2)\n",
    "    setTitle \"The MultiChart from Above\"\n",
    "    addAxes(xaxis1, yaxis1, xaxis2, yaxis2) // these axes come from above\n",
    "    setConfig(responsive=false)\n",
    "    asMultiChart(1, 2)\n",
    ")\n",
    "\n",
    "// The canvas has an underlying grid. By default the underlying grid is 1x1, but we can pass in the dimensions we \n",
    "// require by passing in parameters in the constructor.\n",
    "Canvas(2, 2)\n",
    ".setChart(0, 0, chart1)\n",
    ".setChart(0, 1, chart2)\n",
    ".setChart(1, 0, chart3)\n",
    ".setChart(1, 1, chart4)\n",
    ".plotInline"
   ]
  },
  {
   "cell_type": "markdown",
   "metadata": {},
   "source": [
    "### Error Bars\n",
    "\n",
    "We can also add Error Bars to our plots.\n",
    "\n",
    "Error bars come in two flavours:\n",
    "\n",
    "1. `XError`\n",
    "2. `YError`\n",
    "\n",
    "Both of these has an associated `mode` that determines how the error bar is calculated for an individual point. The following `mode`s can be specified:\n",
    "\n",
    "- `DATA`: The user passes in an array that specifies the per point error\n",
    "- `PERCENT`: The user passes in a Double that calculates the error as a percentage of the value of the point\n",
    "- `CONSTANT`: The user passes in a double that is the constant value for the error for all points\n",
    "- `SQRT`: This calculates the error as a square root of the point value.\n",
    "\n",
    "The next few examples will demonstrate:"
   ]
  },
  {
   "cell_type": "code",
   "execution_count": 22,
   "metadata": {},
   "outputs": [],
   "source": [
    "// First import the Error Bar options\n",
    "import org.carbonateresearch.picta.options.{YError, CONSTANT, DATA, PERCENT, SQRT}"
   ]
  },
  {
   "cell_type": "code",
   "execution_count": 23,
   "metadata": {},
   "outputs": [
    {
     "data": {
      "text/html": [
       "<div id=\"grid-container_qjPuR3Bhl0\" class=\"grid-container\" align=\"center\"> \n",
       "<div id=\"grid_qjPuR3Bhl0\" class=\"grid\" align=\"center\"> \n",
       "<div id=\"graph_vdSk7XA1wj\" class=\"graph\"></div> \n",
       "<div id=\"graph_T8VGO2ukTw\" class=\"graph\"></div> \n",
       "<div id=\"graph_Ui0sNZfn9N\" class=\"graph\"></div> \n",
       "<div id=\"graph_KynJswPtqD\" class=\"graph\"></div> \n",
       "</div> \n",
       "</div> \n",
       "\n",
       "<div align=\"center\">\n",
       "<button id = \"saveAsPNG_qjPuR3Bhl0\" class=\"picta-button\">Download Canvas as PNG</button>\n",
       "</div>\n",
       "<script>\n",
       "var masonry = new Macy({\n",
       "    container: '#grid_qjPuR3Bhl0',\n",
       "    debug: true,\n",
       "    mobileFirst: true,\n",
       "    columns: 2,\n",
       "    margin: {\n",
       "        x: 0,\n",
       "        y: 50\n",
       "    }\n",
       "  });\n",
       "\n",
       "  var traces_vdSk7XA1wj = [{\"name\":\"Error from provided data\",\"type\":\"scatter\",\"mode\":\"markers\",\"x\":[1,2,3],\"y\":[1.234,5.2112,2.44332],\"error_y\":{\"type\":\"data\",\"visible\":true,\"array\":[0.5,0.5,0.5]}}];\n",
       " var layout_vdSk7XA1wj = {\"height\":400,\"width\":400,\"hovermode\":\"closest\",\"title\":{\"text\":\"Per Point Specified Error\"},\"showlegend\":true};\n",
       " var config_vdSk7XA1wj = {\"responsive\":true,\"scrollZoom\":true,\"displaylogo\":false};\n",
       " Plotly.newPlot(\"graph_vdSk7XA1wj\", traces_vdSk7XA1wj, layout_vdSk7XA1wj, config_vdSk7XA1wj);\n",
       "\n",
       "  var traces_T8VGO2ukTw = [{\"name\":\"% error\",\"type\":\"scatter\",\"mode\":\"markers\",\"x\":[1,2,3],\"y\":[1.234,5.2112,2.44332],\"error_y\":{\"type\":\"percent\",\"visible\":true,\"value\":10}}];\n",
       " var layout_T8VGO2ukTw = {\"height\":400,\"width\":400,\"hovermode\":\"closest\",\"title\":{\"text\":\"Percentage Error\"},\"showlegend\":true};\n",
       " var config_T8VGO2ukTw = {\"responsive\":true,\"scrollZoom\":true,\"displaylogo\":false};\n",
       " Plotly.newPlot(\"graph_T8VGO2ukTw\", traces_T8VGO2ukTw, layout_T8VGO2ukTw, config_T8VGO2ukTw);\n",
       "\n",
       "  var traces_Ui0sNZfn9N = [{\"name\":\"constant error\",\"type\":\"scatter\",\"mode\":\"markers\",\"x\":[1,2,3],\"y\":[1.234,5.2112,2.44332],\"error_y\":{\"type\":\"constant\",\"visible\":true,\"value\":10}}];\n",
       " var layout_Ui0sNZfn9N = {\"height\":400,\"width\":400,\"hovermode\":\"closest\",\"title\":{\"text\":\"Constant Error\"},\"showlegend\":true};\n",
       " var config_Ui0sNZfn9N = {\"responsive\":true,\"scrollZoom\":true,\"displaylogo\":false};\n",
       " Plotly.newPlot(\"graph_Ui0sNZfn9N\", traces_Ui0sNZfn9N, layout_Ui0sNZfn9N, config_Ui0sNZfn9N);\n",
       "\n",
       "  var traces_KynJswPtqD = [{\"name\":\"Sqrt\",\"type\":\"scatter\",\"mode\":\"markers\",\"x\":[1,2,3],\"y\":[1.234,5.2112,2.44332],\"error_y\":{\"type\":\"sqrt\",\"visible\":true}}];\n",
       " var layout_KynJswPtqD = {\"height\":400,\"width\":400,\"hovermode\":\"closest\",\"title\":{\"text\":\"Sqrt Error\"},\"showlegend\":true};\n",
       " var config_KynJswPtqD = {\"responsive\":true,\"scrollZoom\":true,\"displaylogo\":false};\n",
       " Plotly.newPlot(\"graph_KynJswPtqD\", traces_KynJswPtqD, layout_KynJswPtqD, config_KynJswPtqD);\n",
       "\n",
       "var save_qjPuR3Bhl0 = document.getElementById(\"saveAsPNG_qjPuR3Bhl0\")\n",
       "save_qjPuR3Bhl0.onclick = async function() {\n",
       "    const grid = document.getElementById(\"grid-container_qjPuR3Bhl0\")\n",
       "    const graphs = grid.getElementsByClassName(\"graph\")\n",
       "\n",
       "    const images = []\n",
       "\n",
       "    const rows = 2\n",
       "    const cols = 2\n",
       "    const img_width = 400\n",
       "    const img_height = 400\n",
       "    var margin = 50\n",
       "\n",
       "    for (var i=0; i<rows; i++) {\n",
       "      for (var j=0; j<cols; j++) {\n",
       "        const image = await Plotly.toImage(graphs[i * cols + j], {format: 'png', width: img_width, height: img_height})\n",
       "        images.push(image);\n",
       "      }\n",
       "    }\n",
       "\n",
       "    const positioned_images = []\n",
       "\n",
       "        for (var i=0; i<rows; i++) {\n",
       "            for (var j=0; j<cols; j++) {\n",
       "\n",
       "                const obj = {\n",
       "                    \"src\": images[i*cols + j],\n",
       "                    x: j*img_width+margin,\n",
       "                    y: i*img_height+margin\n",
       "                }\n",
       "\n",
       "                positioned_images.push(obj)\n",
       "            }\n",
       "        }\n",
       "\n",
       "        mergeImages(positioned_images, {\n",
       "            width: img_width*cols+60, height: img_height*rows+60\n",
       "        })\n",
       "        .then(b64 => {\n",
       "            var a = document.createElement(\"a\");\n",
       "            a.href = b64;\n",
       "            a.download = \"Image.png\";\n",
       "            a.click();\n",
       "            a.remove()\n",
       "        });\n",
       "}\n",
       "</script> \n"
      ]
     },
     "metadata": {},
     "output_type": "display_data"
    }
   ],
   "source": [
    "val dim = 400\n",
    "\n",
    "val series1 = (\n",
    "    XY(List(1, 2, 3), List(1.234, 5.2112, 2.44332))\n",
    "    asType SCATTER\n",
    "    drawStyle MARKERS\n",
    "    // User specifies the error per point\n",
    "    setErrorBars YError(mode = DATA, array = List(0.5, 0.5, 0.5))\n",
    ")\n",
    "\n",
    "val chart1 = (\n",
    "    Chart()\n",
    "    addSeries series1.setName(\"Error from provided data\")\n",
    "    setTitle \"Per Point Specified Error\"\n",
    "    setDimensions(width = dim, height = dim)\n",
    ")\n",
    "\n",
    "\n",
    "val series2 = (\n",
    "    XY(List(1, 2, 3), List(1.234, 5.2112, 2.44332))\n",
    "    asType SCATTER\n",
    "    drawStyle MARKERS\n",
    "    // the error here is 10% of the corresponding y-value for the point\n",
    "    setErrorBars YError(mode = PERCENT, value = 10.0)\n",
    ")\n",
    "\n",
    "val chart2 = (\n",
    "    Chart()\n",
    "    addSeries series2.setName(\"% error\")\n",
    "    setTitle \"Percentage Error\"\n",
    "    setDimensions(width = dim, height = dim) \n",
    ")\n",
    "\n",
    "\n",
    "val series3 = (\n",
    "    XY(List(1, 2, 3), List(1.234, 5.2112, 2.44332))\n",
    "    asType SCATTER\n",
    "    drawStyle MARKERS\n",
    "    // a constant error of 10 is applied to each point\n",
    "    setErrorBars YError(mode = CONSTANT, value = 10.0)\n",
    "    setName(\"Constant value\")\n",
    ")\n",
    "\n",
    "val chart3 = (\n",
    "    Chart()\n",
    "    addSeries series3.setName(\"constant error\")\n",
    "    setTitle \"Constant Error\"\n",
    "    setDimensions(width = dim, height = dim)\n",
    ")\n",
    "\n",
    "\n",
    "val series4 = (\n",
    "    XY(List(1, 2, 3), List(1.234, 5.2112, 2.44332))\n",
    "    asType SCATTER\n",
    "    drawStyle MARKERS\n",
    "    setErrorBars YError(mode = SQRT)\n",
    "    setName(\"Sqrt\")\n",
    ")\n",
    "\n",
    "val chart4 = (\n",
    "    Chart()\n",
    "    addSeries series4.setName(\"Sqrt\")\n",
    "    setTitle \"Sqrt Error\"\n",
    "    // the error is set to the sqrt of the corresponding point\n",
    "    setDimensions(width = dim, height = dim)\n",
    ")\n",
    "\n",
    "val canvas = Canvas(2, 2) addCharts (chart1, chart2, chart3, chart4)\n",
    "\n",
    "canvas.plotInline"
   ]
  },
  {
   "cell_type": "markdown",
   "metadata": {},
   "source": [
    "### Other Types of Charts\n",
    "\n",
    "The next examples will demonstrate how to create a variety of `Chart`s. All of the examples below are composable with the `Canvas` subplot system.\n",
    "\n",
    "#### Pie Chart\n",
    "\n",
    "Pie charts can be created in two ways. The first way uses the `PieElement` component to compose a Piechart:"
   ]
  },
  {
   "cell_type": "code",
   "execution_count": 24,
   "metadata": {},
   "outputs": [
    {
     "data": {
      "text/html": [
       "<div id=\"grid-container_99QJEjpXNb\" class=\"grid-container\" align=\"center\"> \n",
       "<div id=\"grid_99QJEjpXNb\" class=\"grid\" align=\"center\"> \n",
       "<div id=\"graph_ff5eNEjIOy\" class=\"graph\"></div> \n",
       "</div> \n",
       "</div> \n",
       "<script>\n",
       "var masonry = new Macy({\n",
       "    container: '#grid_99QJEjpXNb',\n",
       "    debug: true,\n",
       "    mobileFirst: true,\n",
       "    columns: 1,\n",
       "    margin: {\n",
       "        x: 0,\n",
       "        y: 50\n",
       "    }\n",
       "  });\n",
       "\n",
       "  var traces_ff5eNEjIOy = [{\"name\":\"zuG16bDPMN\",\"type\":\"pie\",\"values\":[60,20,20],\"labels\":[\"Residential\",\"Non-Residential\",\"Utility\"]}];\n",
       " var layout_ff5eNEjIOy = {\"height\":550,\"width\":600,\"hovermode\":\"closest\",\"title\":{\"text\":\"Pie Elements\"},\"showlegend\":true};\n",
       " var config_ff5eNEjIOy = {\"responsive\":true,\"scrollZoom\":true,\"displaylogo\":false};\n",
       " Plotly.newPlot(\"graph_ff5eNEjIOy\", traces_ff5eNEjIOy, layout_ff5eNEjIOy, config_ff5eNEjIOy);\n",
       "</script> \n"
      ]
     },
     "metadata": {},
     "output_type": "display_data"
    }
   ],
   "source": [
    "val a = PieElement(value=60, name=\"Residential\")\n",
    "val b = PieElement(value=20, name=\"Non-Residential\")\n",
    "val c = PieElement(value=20, name=\"Utility\")\n",
    "\n",
    "// we add a list of Pie Elements to an XY series as the list of Pie Elements gets deconstructed down into two series:\n",
    "// X => values: [60, 20, 20]\n",
    "// Y => labels: [\"Residential\", \"Non-Residential\", \"Utility\"]\n",
    "// The labels become the series_name for each individual PieElement\n",
    "// As we pass in a list of PieElements, we do not need to specify the type as a PIE\n",
    "val series = XY(x=List(a, b, c))\n",
    "\n",
    "val chart = Chart() addSeries series setTitle \"Pie Elements\"\n",
    "\n",
    "chart.plotInline"
   ]
  },
  {
   "cell_type": "code",
   "execution_count": 25,
   "metadata": {},
   "outputs": [
    {
     "data": {
      "text/html": [
       "<div id=\"grid-container_5GDpprcpNY\" class=\"grid-container\" align=\"center\"> \n",
       "<div id=\"grid_5GDpprcpNY\" class=\"grid\" align=\"center\"> \n",
       "<div id=\"graph_LUVTy0cXKV\" class=\"graph\"></div> \n",
       "</div> \n",
       "</div> \n",
       "<script>\n",
       "var masonry = new Macy({\n",
       "    container: '#grid_5GDpprcpNY',\n",
       "    debug: true,\n",
       "    mobileFirst: true,\n",
       "    columns: 1,\n",
       "    margin: {\n",
       "        x: 0,\n",
       "        y: 50\n",
       "    }\n",
       "  });\n",
       "\n",
       "  var traces_LUVTy0cXKV = [{\"name\":\"hW4MLbR5j9\",\"type\":\"pie\",\"values\":[60,20,20],\"labels\":[\"Residential\",\"Non-Residential\",\"Utility\"]}];\n",
       " var layout_LUVTy0cXKV = {\"height\":550,\"width\":600,\"hovermode\":\"closest\",\"title\":{\"text\":\"Pie Chart\"},\"showlegend\":true};\n",
       " var config_LUVTy0cXKV = {\"responsive\":false,\"scrollZoom\":false,\"displaylogo\":false};\n",
       " Plotly.newPlot(\"graph_LUVTy0cXKV\", traces_LUVTy0cXKV, layout_LUVTy0cXKV, config_LUVTy0cXKV);\n",
       "</script> \n"
      ]
     },
     "metadata": {},
     "output_type": "display_data"
    }
   ],
   "source": [
    "// However, composing individual PieElements may be tedious if there is a lot of data and we know how to it all fits\n",
    "// together. Picta provides a short hand to quickly create a Pie Chart using the methods we have seen previously\n",
    "// In this case we pass the (value, name) pairs as two seperate lists. As before, the labels become an individual\n",
    "// series name for each point; which is why the legend renders correctly.\n",
    "val series = XY(x=List(60, 20, 20), y=List(\"Residential\", \"Non-Residential\", \"Utility\")) asType PIE\n",
    "\n",
    "val chart = Chart() addSeries series setConfig(false, false) setTitle \"Pie Chart\"\n",
    "\n",
    "chart.plotInline"
   ]
  },
  {
   "cell_type": "markdown",
   "metadata": {},
   "source": [
    "### Histogram"
   ]
  },
  {
   "cell_type": "code",
   "execution_count": 26,
   "metadata": {},
   "outputs": [
    {
     "data": {
      "text/html": [
       "<div id=\"grid-container_HOrOYD6ZvS\" class=\"grid-container\" align=\"center\"> \n",
       "<div id=\"grid_HOrOYD6ZvS\" class=\"grid\" align=\"center\"> \n",
       "<div id=\"graph_v9bcV6EHZ5\" class=\"graph\"></div> \n",
       "</div> \n",
       "</div> \n",
       "<script>\n",
       "var masonry = new Macy({\n",
       "    container: '#grid_HOrOYD6ZvS',\n",
       "    debug: true,\n",
       "    mobileFirst: true,\n",
       "    columns: 1,\n",
       "    margin: {\n",
       "        x: 0,\n",
       "        y: 50\n",
       "    }\n",
       "  });\n",
       "\n",
       "  var traces_v9bcV6EHZ5 = [{\"name\":\"l8OVcTEa8p\",\"type\":\"histogram\",\"x\":[0,0.6931660249500319,0.9116146070678408,2.6015862947115593,1.2109095643450614,3.486776382699049,2.100452048028036,6.172312586103722,5.816861096311125,0.4684101262498047,5.186106984895224,5.348746242486321,4.095071145668387,11.974395873452847,12.439055458317224,4.001241582442471,12.858396563823,0.607250560543446,3.6406627550189548,2.2440811907176954,0.9523889936837837,1.2762942950635654,20.113299392281164,4.941728726732036,4.471866290589579,7.592189711634948,15.992334432622837,0.3463112707551167,8.076436586087588,23.871188169010924,8.697568599047473,8.76908513356182,21.89867002318638,11.866186365781044,15.748185556208346,4.215976829729532,32.85990030991129,10.34756949434483,26.083871748183675,28.21417588896989,0.9869621168878595,37.057182012645455,37.15531639203715,20.873147766970686,31.80851765145689,7.603723602009006,36.47994968948415,28.80939337256212,35.352009487921265,27.807288898399005,4.373401171008839,2.169725503617171,46.91169270763724,37.08477419747191,45.413845418659314,49.862855526879,36.864650602649434,32.94638286822397,36.12512823347754,10.503596156206994,2.62515245454779,1.7965089703293162,55.62529109528551,25.73806657828115,53.59824755532648,10.24985030141947,24.829888066470918,44.80186046406303,11.971021175209408,58.33573373297075,44.474303874086985,63.61628720566411,60.6144783776955,51.5202338303952,44.976103194166896,64.70041163274233,32.510685013223735,55.6768941767605,42.247331821761584,69.91887045163801,60.21835719897694,5.232513704280665,51.237553630721365,17.847082888271068,19.19581380973228,15.9547156963194,65.49136193855014,67.56679378749008,31.562854709139067,37.482797547323756,82.58908216309673,49.25562449014452,17.35290480689518,60.98261173994409,4.256313042068557,35.25464101886234,30.733467540209652,62.48012732882043,82.42704839452111,59.637767402973026]}];\n",
       " var layout_v9bcV6EHZ5 = {\"height\":550,\"width\":600,\"hovermode\":\"closest\",\"title\":{\"text\":\"Histogram with axes\"},\"showlegend\":true,\"xaxis\":{\"title\":{\"text\":\"x\"},\"showgrid\":true,\"zeroline\":false,\"showline\":false},\"yaxis\":{\"title\":{\"text\":\"y\"},\"showgrid\":true,\"zeroline\":false,\"showline\":false}};\n",
       " var config_v9bcV6EHZ5 = {\"responsive\":true,\"scrollZoom\":true,\"displaylogo\":false};\n",
       " Plotly.newPlot(\"graph_v9bcV6EHZ5\", traces_v9bcV6EHZ5, layout_v9bcV6EHZ5, config_v9bcV6EHZ5);\n",
       "</script> \n"
      ]
     },
     "metadata": {},
     "output_type": "display_data"
    }
   ],
   "source": [
    "val series = XY(x=x) asType HISTOGRAM\n",
    "\n",
    "val xaxis = Axis(X, title = \"x\")\n",
    "val yaxis = Axis(Y, title = \"y\")\n",
    "\n",
    "val chart = (\n",
    "    Chart() \n",
    "    addSeries series\n",
    "    setTitle \"Histogram with axes\"\n",
    "    addAxes(xaxis, yaxis)\n",
    ")\n",
    "\n",
    "Canvas()\n",
    ".addCharts(chart)\n",
    ".plotInline"
   ]
  },
  {
   "cell_type": "markdown",
   "metadata": {},
   "source": [
    "#### Customizing colors for a Histogram\n",
    "\n",
    "We can use the `HistOptions` class to further specify options for a histogram. For example, if we wanted to create a horizontally positioned histogram, we can do the following:"
   ]
  },
  {
   "cell_type": "code",
   "execution_count": 27,
   "metadata": {},
   "outputs": [],
   "source": [
    "import org.carbonateresearch.picta.options.histogram.HistOptions\n",
    "import org.carbonateresearch.picta.options.Line"
   ]
  },
  {
   "cell_type": "code",
   "execution_count": 28,
   "metadata": {},
   "outputs": [
    {
     "data": {
      "text/html": [
       "<div id=\"grid-container_A30B2Ek5lT\" class=\"grid-container\" align=\"center\"> \n",
       "<div id=\"grid_A30B2Ek5lT\" class=\"grid\" align=\"center\"> \n",
       "<div id=\"graph_iACosRdM7i\" class=\"graph\"></div> \n",
       "</div> \n",
       "</div> \n",
       "<script>\n",
       "var masonry = new Macy({\n",
       "    container: '#grid_A30B2Ek5lT',\n",
       "    debug: true,\n",
       "    mobileFirst: true,\n",
       "    columns: 1,\n",
       "    margin: {\n",
       "        x: 0,\n",
       "        y: 50\n",
       "    }\n",
       "  });\n",
       "\n",
       "  var traces_iACosRdM7i = [{\"name\":\"OmDBqvRB2R\",\"type\":\"histogram\",\"marker\":{\"color\":\"rgba(255.0, 100.0, 102.0, 0.5)\",\"line\":{\"width\":0.5}},\"y\":[0,0.6931660249500319,0.9116146070678408,2.6015862947115593,1.2109095643450614,3.486776382699049,2.100452048028036,6.172312586103722,5.816861096311125,0.4684101262498047,5.186106984895224,5.348746242486321,4.095071145668387,11.974395873452847,12.439055458317224,4.001241582442471,12.858396563823,0.607250560543446,3.6406627550189548,2.2440811907176954,0.9523889936837837,1.2762942950635654,20.113299392281164,4.941728726732036,4.471866290589579,7.592189711634948,15.992334432622837,0.3463112707551167,8.076436586087588,23.871188169010924,8.697568599047473,8.76908513356182,21.89867002318638,11.866186365781044,15.748185556208346,4.215976829729532,32.85990030991129,10.34756949434483,26.083871748183675,28.21417588896989,0.9869621168878595,37.057182012645455,37.15531639203715,20.873147766970686,31.80851765145689,7.603723602009006,36.47994968948415,28.80939337256212,35.352009487921265,27.807288898399005,4.373401171008839,2.169725503617171,46.91169270763724,37.08477419747191,45.413845418659314,49.862855526879,36.864650602649434,32.94638286822397,36.12512823347754,10.503596156206994,2.62515245454779,1.7965089703293162,55.62529109528551,25.73806657828115,53.59824755532648,10.24985030141947,24.829888066470918,44.80186046406303,11.971021175209408,58.33573373297075,44.474303874086985,63.61628720566411,60.6144783776955,51.5202338303952,44.976103194166896,64.70041163274233,32.510685013223735,55.6768941767605,42.247331821761584,69.91887045163801,60.21835719897694,5.232513704280665,51.237553630721365,17.847082888271068,19.19581380973228,15.9547156963194,65.49136193855014,67.56679378749008,31.562854709139067,37.482797547323756,82.58908216309673,49.25562449014452,17.35290480689518,60.98261173994409,4.256313042068557,35.25464101886234,30.733467540209652,62.48012732882043,82.42704839452111,59.637767402973026]}];\n",
       " var layout_iACosRdM7i = {\"height\":550,\"width\":600,\"hovermode\":\"closest\",\"title\":{\"text\":\"XY.Histogram.Color\"},\"showlegend\":true};\n",
       " var config_iACosRdM7i = {\"responsive\":true,\"scrollZoom\":true,\"displaylogo\":false};\n",
       " Plotly.newPlot(\"graph_iACosRdM7i\", traces_iACosRdM7i, layout_iACosRdM7i, config_iACosRdM7i);\n",
       "</script> \n"
      ]
     },
     "metadata": {},
     "output_type": "display_data"
    }
   ],
   "source": [
    "// we can also compose customizations in much the same way:\n",
    "val marker = Marker() setColor RGBA(255, 100, 102, 0.5) setLine Line()\n",
    "\n",
    "// change xkey to y to get a horizontal histogram\n",
    "val series = (\n",
    "    XY(x) \n",
    "    asType HISTOGRAM\n",
    "    setMarker marker\n",
    "    // we can set histogram specific options using the setHistOptions method\n",
    "    setHistOptions(orientation = HORIZONTAL)\n",
    ")\n",
    "\n",
    "val chart = (\n",
    "    Chart() \n",
    "    addSeries series \n",
    "    setTitle \"XY.Histogram.Color\"\n",
    ")\n",
    "\n",
    "chart.plotInline"
   ]
  },
  {
   "cell_type": "markdown",
   "metadata": {},
   "source": [
    "#### Cumulative Histogram\n",
    "\n",
    "Sometimes a cumulative histogram may be desired. We can do this as follows:"
   ]
  },
  {
   "cell_type": "code",
   "execution_count": 29,
   "metadata": {},
   "outputs": [],
   "source": [
    "// we can import a range of histnorms\n",
    "import org.carbonateresearch.picta.options.histogram.{Cumulative, PERCENT, DENSITY, PROBABILITY_DENSITY, NUMBER}"
   ]
  },
  {
   "cell_type": "code",
   "execution_count": 30,
   "metadata": {},
   "outputs": [
    {
     "data": {
      "text/html": [
       "<div id=\"grid-container_XXp0cFHr1b\" class=\"grid-container\" align=\"center\"> \n",
       "<div id=\"grid_XXp0cFHr1b\" class=\"grid\" align=\"center\"> \n",
       "<div id=\"graph_M77CABQvh0\" class=\"graph\"></div> \n",
       "</div> \n",
       "</div> \n",
       "<script>\n",
       "var masonry = new Macy({\n",
       "    container: '#grid_XXp0cFHr1b',\n",
       "    debug: true,\n",
       "    mobileFirst: true,\n",
       "    columns: 1,\n",
       "    margin: {\n",
       "        x: 0,\n",
       "        y: 50\n",
       "    }\n",
       "  });\n",
       "\n",
       "  var traces_M77CABQvh0 = [{\"name\":\"nfC0g2Ndh1\",\"type\":\"histogram\",\"cumulative\":{\"enabled\":true},\"histnorm\":\"\",\"x\":[0,0.6931660249500319,0.9116146070678408,2.6015862947115593,1.2109095643450614,3.486776382699049,2.100452048028036,6.172312586103722,5.816861096311125,0.4684101262498047,5.186106984895224,5.348746242486321,4.095071145668387,11.974395873452847,12.439055458317224,4.001241582442471,12.858396563823,0.607250560543446,3.6406627550189548,2.2440811907176954,0.9523889936837837,1.2762942950635654,20.113299392281164,4.941728726732036,4.471866290589579,7.592189711634948,15.992334432622837,0.3463112707551167,8.076436586087588,23.871188169010924,8.697568599047473,8.76908513356182,21.89867002318638,11.866186365781044,15.748185556208346,4.215976829729532,32.85990030991129,10.34756949434483,26.083871748183675,28.21417588896989,0.9869621168878595,37.057182012645455,37.15531639203715,20.873147766970686,31.80851765145689,7.603723602009006,36.47994968948415,28.80939337256212,35.352009487921265,27.807288898399005,4.373401171008839,2.169725503617171,46.91169270763724,37.08477419747191,45.413845418659314,49.862855526879,36.864650602649434,32.94638286822397,36.12512823347754,10.503596156206994,2.62515245454779,1.7965089703293162,55.62529109528551,25.73806657828115,53.59824755532648,10.24985030141947,24.829888066470918,44.80186046406303,11.971021175209408,58.33573373297075,44.474303874086985,63.61628720566411,60.6144783776955,51.5202338303952,44.976103194166896,64.70041163274233,32.510685013223735,55.6768941767605,42.247331821761584,69.91887045163801,60.21835719897694,5.232513704280665,51.237553630721365,17.847082888271068,19.19581380973228,15.9547156963194,65.49136193855014,67.56679378749008,31.562854709139067,37.482797547323756,82.58908216309673,49.25562449014452,17.35290480689518,60.98261173994409,4.256313042068557,35.25464101886234,30.733467540209652,62.48012732882043,82.42704839452111,59.637767402973026]}];\n",
       " var layout_M77CABQvh0 = {\"height\":550,\"width\":600,\"hovermode\":\"closest\",\"title\":{\"text\":\"Histogram - Cumulative\"},\"showlegend\":true};\n",
       " var config_M77CABQvh0 = {\"responsive\":true,\"scrollZoom\":true,\"displaylogo\":false};\n",
       " Plotly.newPlot(\"graph_M77CABQvh0\", traces_M77CABQvh0, layout_M77CABQvh0, config_M77CABQvh0);\n",
       "</script> \n"
      ]
     },
     "metadata": {},
     "output_type": "display_data"
    }
   ],
   "source": [
    "val series = XY(x) asType HISTOGRAM setHistOptions(histnorm = NUMBER, cumulative = Cumulative(enabled=true))\n",
    "\n",
    "val chart = Chart() addSeries series setTitle \"Histogram - Cumulative\"\n",
    "\n",
    "chart.plotInline"
   ]
  },
  {
   "cell_type": "markdown",
   "metadata": {},
   "source": [
    "#### Specifiying the Binning Function\n",
    "\n",
    "We can also specify the binning function for a histogram."
   ]
  },
  {
   "cell_type": "code",
   "execution_count": 31,
   "metadata": {},
   "outputs": [],
   "source": [
    "import org.carbonateresearch.picta.options.histogram.{COUNT, SUM, AVG, MIN, MAX, HistOptions}"
   ]
  },
  {
   "cell_type": "code",
   "execution_count": 32,
   "metadata": {},
   "outputs": [
    {
     "data": {
      "text/html": [
       "<div id=\"grid-container_InN1SjeVjD\" class=\"grid-container\" align=\"center\"> \n",
       "<div id=\"grid_InN1SjeVjD\" class=\"grid\" align=\"center\"> \n",
       "<div id=\"graph_VlPJML0u1m\" class=\"graph\"></div> \n",
       "</div> \n",
       "</div> \n",
       "<script>\n",
       "var masonry = new Macy({\n",
       "    container: '#grid_InN1SjeVjD',\n",
       "    debug: true,\n",
       "    mobileFirst: true,\n",
       "    columns: 1,\n",
       "    margin: {\n",
       "        x: 0,\n",
       "        y: 50\n",
       "    }\n",
       "  });\n",
       "\n",
       "  var traces_VlPJML0u1m = [{\"name\":\"YD15EumTTh\",\"type\":\"histogram\",\"histfunc\":\"count\",\"x\":[\"Apples\",\"Apples\",\"Apples\",\"Oranges\",\"Bananas\"],\"y\":[\"5\",\"10\",\"3\",\"10\",\"5\"]},{\"name\":\"IQ3KkDbVNu\",\"type\":\"histogram\",\"histfunc\":\"sum\",\"x\":[\"Apples\",\"Apples\",\"Apples\",\"Oranges\",\"Bananas\"],\"y\":[\"5\",\"10\",\"3\",\"10\",\"5\"]}];\n",
       " var layout_VlPJML0u1m = {\"height\":550,\"width\":600,\"hovermode\":\"closest\",\"title\":{\"text\":\"Histogram - Specify Binning Function\"},\"showlegend\":true};\n",
       " var config_VlPJML0u1m = {\"responsive\":true,\"scrollZoom\":true,\"displaylogo\":false};\n",
       " Plotly.newPlot(\"graph_VlPJML0u1m\", traces_VlPJML0u1m, layout_VlPJML0u1m, config_VlPJML0u1m);\n",
       "</script> \n"
      ]
     },
     "metadata": {},
     "output_type": "display_data"
    }
   ],
   "source": [
    "val x = List(\"Apples\", \"Apples\", \"Apples\", \"Oranges\", \"Bananas\")\n",
    "val y = List(\"5\", \"10\", \"3\", \"10\", \"5\")\n",
    "\n",
    "// we can also assign histOptions to a value and pass them to the setHistOptions method\n",
    "val ho1 = HistOptions(histfunc = COUNT)\n",
    "val ho2 = HistOptions(histfunc = SUM)\n",
    "    \n",
    "val t1 = XY(x = x, y = y) asType HISTOGRAM setHistOptions ho1\n",
    "val t2 = XY(x = x, y = y) asType HISTOGRAM setHistOptions ho2\n",
    "\n",
    "val chart = Chart() addSeries(t1, t2) setTitle \"Histogram - Specify Binning Function\"\n",
    "val canvas = Canvas() addCharts chart\n",
    "canvas.plotInline"
   ]
  },
  {
   "cell_type": "markdown",
   "metadata": {},
   "source": [
    "### 2D Histogram Contour"
   ]
  },
  {
   "cell_type": "code",
   "execution_count": 33,
   "metadata": {},
   "outputs": [
    {
     "data": {
      "text/html": [
       "<div id=\"grid-container_1NkS38lNEU\" class=\"grid-container\" align=\"center\"> \n",
       "<div id=\"grid_1NkS38lNEU\" class=\"grid\" align=\"center\"> \n",
       "<div id=\"graph_ADM9T7JcMn\" class=\"graph\"></div> \n",
       "</div> \n",
       "</div> \n",
       "<script>\n",
       "var masonry = new Macy({\n",
       "    container: '#grid_1NkS38lNEU',\n",
       "    debug: true,\n",
       "    mobileFirst: true,\n",
       "    columns: 1,\n",
       "    margin: {\n",
       "        x: 0,\n",
       "        y: 50\n",
       "    }\n",
       "  });\n",
       "\n",
       "  var traces_ADM9T7JcMn = [{\"name\":\"RjWpBWS936\",\"type\":\"histogram2dcontour\",\"mode\":\"markers\",\"x\":[1,2,3,4,5,6,7,8,9,10,11,12,13,14,15,16,17,18,19,20,21,22,23,24,25,26,27,28,29,30,31,32,33,34,35,36,37,38,39,40,41,42,43,44,45,46,47,48,49],\"y\":[45.044250327651966,30.16465417031415,39.873577356202425,59.167496266777235,89.86180947969909,99.7140848334635,98.52659445291135,22.930360807788666,70.65690798826361,83.94042122178791,102.9129233069601,57.776177979207425,50.08956134400765,65.96808666880403,78.24729863720458,101.15401347920182,108.12748830670765,106.87748013319485,60.041255113137055,81.28089587980058,50.86377032634068,88.5289811653673,113.80549741422128,67.72896787170153,119.00693502670444,83.36723599149396,57.26435959690383,116.68854817545832,107.70420885017828,127.14877750198158,73.15910561696731,35.531761489531114,122.34699450378139,84.3054253586647,96.5176621044601,100.38337502691355,98.62092565122775,125.05060840251674,96.69410686874005,135.11256498290948,109.30105836728852,78.35511079148809,51.5320424262579,100.49132202133865,65.1561459204728,85.56343041801046,128.6817841174248,48.222264418471276,92.81412602786605]}];\n",
       " var layout_ADM9T7JcMn = {\"height\":550,\"width\":600,\"hovermode\":\"closest\",\"title\":{\"text\":\"2D Histogram Contour\"},\"showlegend\":true};\n",
       " var config_ADM9T7JcMn = {\"responsive\":true,\"scrollZoom\":true,\"displaylogo\":false};\n",
       " Plotly.newPlot(\"graph_ADM9T7JcMn\", traces_ADM9T7JcMn, layout_ADM9T7JcMn, config_ADM9T7JcMn);\n",
       "</script> \n"
      ]
     },
     "metadata": {},
     "output_type": "display_data"
    }
   ],
   "source": [
    "val x = List.range(1, 50)\n",
    "val y = x.map(x => x + scala.util.Random.nextDouble()*100)\n",
    "\n",
    "val series = XY(x, y).asType(HISTOGRAM2DCONTOUR).drawMarkers\n",
    "\n",
    "val chart = (\n",
    "    Chart() addSeries series\n",
    "    setTitle \"2D Histogram Contour\"\n",
    ")\n",
    "\n",
    "chart.plotInline"
   ]
  },
  {
   "cell_type": "markdown",
   "metadata": {},
   "source": [
    "#### Adding additional axes\n",
    "\n",
    "As the above is a density plot, adding histograms can be useful too.\n",
    "\n",
    "We can add histograms as follows:"
   ]
  },
  {
   "cell_type": "code",
   "execution_count": 34,
   "metadata": {},
   "outputs": [],
   "source": [
    "// import the 2d Density histogram options\n",
    "import org.carbonateresearch.picta.options.histogram2d.Hist2dOptions"
   ]
  },
  {
   "cell_type": "code",
   "execution_count": 35,
   "metadata": {},
   "outputs": [
    {
     "data": {
      "text/html": [
       "<div id=\"grid-container_n9gVNupjq2\" class=\"grid-container\" align=\"center\"> \n",
       "<div id=\"grid_n9gVNupjq2\" class=\"grid\" align=\"center\"> \n",
       "<div id=\"graph_8aGyBCilwi\" class=\"graph\"></div> \n",
       "</div> \n",
       "</div> \n",
       "<script>\n",
       "var masonry = new Macy({\n",
       "    container: '#grid_n9gVNupjq2',\n",
       "    debug: true,\n",
       "    mobileFirst: true,\n",
       "    columns: 1,\n",
       "    margin: {\n",
       "        x: 0,\n",
       "        y: 50\n",
       "    }\n",
       "  });\n",
       "\n",
       "  var traces_8aGyBCilwi = [{\"name\":\"points\",\"type\":\"scatter\",\"mode\":\"markers\",\"marker\":{\"color\":\"rgb(102.0, 0.0, 0.0)\"},\"x\":[1,2,3,4,5,6,7,8,9,10,11,12,13,14,15,16,17,18,19,20,21,22,23,24,25,26,27,28,29,30,31,32,33,34,35,36,37,38,39,40,41,42,43,44,45,46,47,48,49],\"y\":[45.044250327651966,30.16465417031415,39.873577356202425,59.167496266777235,89.86180947969909,99.7140848334635,98.52659445291135,22.930360807788666,70.65690798826361,83.94042122178791,102.9129233069601,57.776177979207425,50.08956134400765,65.96808666880403,78.24729863720458,101.15401347920182,108.12748830670765,106.87748013319485,60.041255113137055,81.28089587980058,50.86377032634068,88.5289811653673,113.80549741422128,67.72896787170153,119.00693502670444,83.36723599149396,57.26435959690383,116.68854817545832,107.70420885017828,127.14877750198158,73.15910561696731,35.531761489531114,122.34699450378139,84.3054253586647,96.5176621044601,100.38337502691355,98.62092565122775,125.05060840251674,96.69410686874005,135.11256498290948,109.30105836728852,78.35511079148809,51.5320424262579,100.49132202133865,65.1561459204728,85.56343041801046,128.6817841174248,48.222264418471276,92.81412602786605]},{\"name\":\"density\",\"type\":\"histogram2dcontour\",\"ncontours\":20,\"reversescale\":false,\"showscale\":true,\"x\":[1,2,3,4,5,6,7,8,9,10,11,12,13,14,15,16,17,18,19,20,21,22,23,24,25,26,27,28,29,30,31,32,33,34,35,36,37,38,39,40,41,42,43,44,45,46,47,48,49],\"y\":[45.044250327651966,30.16465417031415,39.873577356202425,59.167496266777235,89.86180947969909,99.7140848334635,98.52659445291135,22.930360807788666,70.65690798826361,83.94042122178791,102.9129233069601,57.776177979207425,50.08956134400765,65.96808666880403,78.24729863720458,101.15401347920182,108.12748830670765,106.87748013319485,60.041255113137055,81.28089587980058,50.86377032634068,88.5289811653673,113.80549741422128,67.72896787170153,119.00693502670444,83.36723599149396,57.26435959690383,116.68854817545832,107.70420885017828,127.14877750198158,73.15910561696731,35.531761489531114,122.34699450378139,84.3054253586647,96.5176621044601,100.38337502691355,98.62092565122775,125.05060840251674,96.69410686874005,135.11256498290948,109.30105836728852,78.35511079148809,51.5320424262579,100.49132202133865,65.1561459204728,85.56343041801046,128.6817841174248,48.222264418471276,92.81412602786605]},{\"name\":\"histogram\",\"type\":\"histogram\",\"yaxis\":\"y2\",\"x\":[1,2,3,4,5,6,7,8,9,10,11,12,13,14,15,16,17,18,19,20,21,22,23,24,25,26,27,28,29,30,31,32,33,34,35,36,37,38,39,40,41,42,43,44,45,46,47,48,49]},{\"name\":\"y density\",\"type\":\"histogram\",\"xaxis\":\"x2\",\"marker\":{\"color\":\"rgb(102.0, 0.0, 0.0)\"},\"y\":[45.044250327651966,30.16465417031415,39.873577356202425,59.167496266777235,89.86180947969909,99.7140848334635,98.52659445291135,22.930360807788666,70.65690798826361,83.94042122178791,102.9129233069601,57.776177979207425,50.08956134400765,65.96808666880403,78.24729863720458,101.15401347920182,108.12748830670765,106.87748013319485,60.041255113137055,81.28089587980058,50.86377032634068,88.5289811653673,113.80549741422128,67.72896787170153,119.00693502670444,83.36723599149396,57.26435959690383,116.68854817545832,107.70420885017828,127.14877750198158,73.15910561696731,35.531761489531114,122.34699450378139,84.3054253586647,96.5176621044601,100.38337502691355,98.62092565122775,125.05060840251674,96.69410686874005,135.11256498290948,109.30105836728852,78.35511079148809,51.5320424262579,100.49132202133865,65.1561459204728,85.56343041801046,128.6817841174248,48.222264418471276,92.81412602786605]}];\n",
       " var layout_8aGyBCilwi = {\"height\":550,\"width\":600,\"hovermode\":\"closest\",\"title\":{\"text\":\"XY.Histogram2dContour.WithDensity\"},\"showlegend\":false,\"autosize\":false,\"xaxis\":{\"showgrid\":false,\"zeroline\":false,\"showline\":false,\"domain\":[0,0.85]},\"yaxis\":{\"showgrid\":false,\"zeroline\":false,\"showline\":false,\"domain\":[0,0.85]},\"xaxis2\":{\"showgrid\":false,\"zeroline\":false,\"showline\":false,\"domain\":[0.85,1]},\"yaxis2\":{\"showgrid\":false,\"zeroline\":false,\"showline\":false,\"domain\":[0.85,1]}};\n",
       " var config_8aGyBCilwi = {\"responsive\":true,\"scrollZoom\":true,\"displaylogo\":false};\n",
       " Plotly.newPlot(\"graph_8aGyBCilwi\", traces_8aGyBCilwi, layout_8aGyBCilwi, config_8aGyBCilwi);\n",
       "</script> \n"
      ]
     },
     "metadata": {},
     "output_type": "display_data"
    }
   ],
   "source": [
    "val ax1 = Axis(X, showgrid = false) setDomain(0.0, 0.85)\n",
    "val ax2 = Axis(Y, showgrid = false) setDomain(0.0, 0.85)\n",
    "val ax3 = Axis(X, position = 2, showgrid = false) setDomain(0.85, 1.0)\n",
    "val ax4 = Axis(Y, position = 2, showgrid = false) setDomain(0.85, 1.0)\n",
    "\n",
    "val marker = Marker() setColor RGB(102,0,0)\n",
    "val series1 = XY(x, y) asType SCATTER drawStyle MARKERS setName \"points\" setMarker marker\n",
    "\n",
    "val series2 = (\n",
    "  XY(x, y)\n",
    "    setName \"density\"\n",
    "    asType HISTOGRAM2DCONTOUR\n",
    "    setHist2dOptions(ncontours = 20, reversescale = false, showscale = true)\n",
    "  )\n",
    "\n",
    "val series3 = XY(x = x) asType HISTOGRAM setName \"histogram\" setAxes(ax1, ax4)\n",
    "val series4 = (XY(y) setName \"y density\" asType HISTOGRAM setAxis ax3 setMarker marker\n",
    "  setHistOptions (orientation = HORIZONTAL))\n",
    "\n",
    "val layout = (ChartLayout(\"XY.Histogram2dContour.WithDensity\", auto_size = false) setAxes(ax1, ax2, ax3, ax4))\n",
    "\n",
    "val chart = Chart() addSeries(series1, series2, series3, series4) setChartLayout layout showLegend false\n",
    "\n",
    "chart.plotInline"
   ]
  },
  {
   "cell_type": "markdown",
   "metadata": {},
   "source": [
    "### 3D Charts\n",
    "\n",
    "3D charts are constructed using a `XYZ` series as they take in 3 `Series`' to create a single point.\n",
    "\n",
    "The Picta API does not accept nested lists, however the underlying Plotlyjs render does. In order to render any series that will make use of a nested list, we must flatten and provide the length of an element (before the list was flattened).\n",
    "\n",
    "The following examples will make it clearer.\n",
    "\n",
    "#### Contour"
   ]
  },
  {
   "cell_type": "code",
   "execution_count": 36,
   "metadata": {},
   "outputs": [],
   "source": [
    "// lets create some dummy adata for the third dimension\n",
    "val x = List(-9, -6, -5 , -3, -1)\n",
    "val y = List(0, 1, 4, 5, 7)\n",
    "val z = List(\n",
    "    List(10, 10.625, 12.5, 15.625, 20),\n",
    "    List(5.625, 6.25, 8.125, 11.25, 15.625),\n",
    "    List(2.5, 3.125, 5.0, 8.125, 12.5),\n",
    "    List(0.625, 1.25, 3.125, 6.25, 10.625),\n",
    "    List(0, 0.625, 2.5, 5.625, 10)\n",
    ")"
   ]
  },
  {
   "cell_type": "code",
   "execution_count": 37,
   "metadata": {},
   "outputs": [
    {
     "data": {
      "text/html": [
       "<div id=\"grid-container_gwDb1uVjMy\" class=\"grid-container\" align=\"center\"> \n",
       "<div id=\"grid_gwDb1uVjMy\" class=\"grid\" align=\"center\"> \n",
       "<div id=\"graph_G5KyfYXoRh\" class=\"graph\"></div> \n",
       "</div> \n",
       "</div> \n",
       "<script>\n",
       "var masonry = new Macy({\n",
       "    container: '#grid_gwDb1uVjMy',\n",
       "    debug: true,\n",
       "    mobileFirst: true,\n",
       "    columns: 1,\n",
       "    margin: {\n",
       "        x: 0,\n",
       "        y: 50\n",
       "    }\n",
       "  });\n",
       "\n",
       "  var traces_G5KyfYXoRh = [{\"name\":\"EOyx3UhydT\",\"type\":\"contour\",\"x\":[-9,-6,-5,-3,-1],\"y\":[0,1,4,5,7],\"z\":[[10,10.625,12.5,15.625,20],[5.625,6.25,8.125,11.25,15.625],[2.5,3.125,5,8.125,12.5],[0.625,1.25,3.125,6.25,10.625],[0,0.625,2.5,5.625,10]]}];\n",
       " var layout_G5KyfYXoRh = {\"height\":550,\"width\":600,\"hovermode\":\"closest\",\"title\":{\"text\":\"Contour\"},\"showlegend\":true};\n",
       " var config_G5KyfYXoRh = {\"responsive\":true,\"scrollZoom\":true,\"displaylogo\":false};\n",
       " Plotly.newPlot(\"graph_G5KyfYXoRh\", traces_G5KyfYXoRh, layout_G5KyfYXoRh, config_G5KyfYXoRh);\n",
       "</script> \n"
      ]
     },
     "metadata": {},
     "output_type": "display_data"
    }
   ],
   "source": [
    "// we flatten the nested list as we pass it into the Series constructor\n",
    "val series = XYZ(x=x, y=y, z=z.flatten, n=z(0).length).asType(CONTOUR)\n",
    "\n",
    "// set up the chart\n",
    "val chart = Chart()\n",
    "            .addSeries(series)\n",
    "            .setTitle(\"Contour\")\n",
    "\n",
    "// plot the chart\n",
    "chart.plotInline"
   ]
  },
  {
   "cell_type": "markdown",
   "metadata": {},
   "source": [
    "#### Heatmap"
   ]
  },
  {
   "cell_type": "code",
   "execution_count": 38,
   "metadata": {
    "scrolled": false
   },
   "outputs": [],
   "source": [
    "// create a new nested list for the heatmap\n",
    "val z = List.range(1, 101).map(e => e + scala.util.Random.nextDouble()*100).grouped(10).toList"
   ]
  },
  {
   "cell_type": "code",
   "execution_count": 39,
   "metadata": {},
   "outputs": [
    {
     "data": {
      "text/html": [
       "<div id=\"grid-container_3IAGPaXPhT\" class=\"grid-container\" align=\"center\"> \n",
       "<div id=\"grid_3IAGPaXPhT\" class=\"grid\" align=\"center\"> \n",
       "<div id=\"graph_KKMXy3PB3y\" class=\"graph\"></div> \n",
       "</div> \n",
       "</div> \n",
       "<script>\n",
       "var masonry = new Macy({\n",
       "    container: '#grid_3IAGPaXPhT',\n",
       "    debug: true,\n",
       "    mobileFirst: true,\n",
       "    columns: 1,\n",
       "    margin: {\n",
       "        x: 0,\n",
       "        y: 50\n",
       "    }\n",
       "  });\n",
       "\n",
       "  var traces_KKMXy3PB3y = [{\"name\":\"xr3CI1hR5B\",\"type\":\"heatmap\",\"z\":[[80.33347277968885,62.2274047494852,21.599103455478993,44.843835038188494,94.83894868638954,9.938532987002652,25.080668210216732,82.2925657157166,90.83066715971547,85.5351726408592],[11.317371393484034,21.87871840125517,58.6803536497469,104.35712906519208,38.85634355778264,88.17707587231114,104.7729170847958,73.87945359707452,90.86840415484066,66.77210657160052],[107.36951177789808,62.521475433526156,94.945692853541,58.681628690008324,99.4036096414942,44.90740893238237,86.3804583559209,112.06975593422062,127.24875580801877,111.70416370018279],[69.67658181081157,44.22827666996209,74.82875888602547,117.02524372995354,93.68997536497862,84.48134837003406,48.39806553873187,111.8779027772492,132.06349431337168,126.96922575194846],[88.9021130242362,78.24403505478892,52.516539511542675,81.1924601454758,116.03446976844252,135.12349354436196,66.06906794153934,147.7488404538679,110.93963149827502,135.23189459901678],[70.4242467555383,126.8711137499451,112.9673525173306,109.0331770947304,140.50354830448686,88.17427078313524,139.96641796335695,141.40051733061307,73.52255052116458,91.44703065544206],[141.31280930731504,85.43744557374757,66.01532741774186,150.37286229392427,158.1992506448516,127.8543066699079,85.85975012074813,73.7417227167672,96.67013110149168,120.78349589000328],[103.62565127108954,102.01444994200288,115.46783703729393,86.03016576287584,164.4622220012139,81.02752007005165,92.96360265555181,79.4933937022196,114.26065810054257,179.17667550444193],[165.27791729921242,175.8560775752897,141.9725242206641,159.59370528548826,121.15269660797414,96.63010784535625,163.733849645928,164.63144337203659,98.21932169868869,158.25662819678644],[153.83953026706038,156.39782704511566,150.01379120190992,161.19953549852795,122.63212039991211,184.13064330585277,143.42215489231793,175.83355659084782,152.01363843494033,116.88036384658355]]}];\n",
       " var layout_KKMXy3PB3y = {\"height\":550,\"width\":600,\"hovermode\":\"closest\",\"title\":{\"text\":\"Heatmap\"},\"showlegend\":true};\n",
       " var config_KKMXy3PB3y = {\"responsive\":true,\"scrollZoom\":true,\"displaylogo\":false};\n",
       " Plotly.newPlot(\"graph_KKMXy3PB3y\", traces_KKMXy3PB3y, layout_KKMXy3PB3y, config_KKMXy3PB3y);\n",
       "</script> \n"
      ]
     },
     "metadata": {},
     "output_type": "display_data"
    }
   ],
   "source": [
    "// we get the length of an element of the nested list\n",
    "val n = z(0).length\n",
    "\n",
    "// we now flatten the list and pass it into Series constructor, as well as 'n', the length of an element so that the \n",
    "// heatmap dimensions are correctly constructed\n",
    "val series = XYZ(z=z.flatten, n=n) asType HEATMAP\n",
    "\n",
    "val chart = Chart().addSeries(series).setTitle(\"Heatmap\")\n",
    "\n",
    "chart.plotInline"
   ]
  },
  {
   "cell_type": "markdown",
   "metadata": {},
   "source": [
    "#### Scatter3D"
   ]
  },
  {
   "cell_type": "code",
   "execution_count": 40,
   "metadata": {
    "scrolled": false
   },
   "outputs": [
    {
     "data": {
      "text/html": [
       "<div id=\"grid-container_X2RK49s7cW\" class=\"grid-container\" align=\"center\"> \n",
       "<div id=\"grid_X2RK49s7cW\" class=\"grid\" align=\"center\"> \n",
       "<div id=\"graph_JjJB8GXaCS\" class=\"graph\"></div> \n",
       "</div> \n",
       "</div> \n",
       "<script>\n",
       "var masonry = new Macy({\n",
       "    container: '#grid_X2RK49s7cW',\n",
       "    debug: true,\n",
       "    mobileFirst: true,\n",
       "    columns: 1,\n",
       "    margin: {\n",
       "        x: 0,\n",
       "        y: 50\n",
       "    }\n",
       "  });\n",
       "\n",
       "  var traces_JjJB8GXaCS = [{\"name\":\"h5Deb73BJB\",\"type\":\"scatter3d\",\"mode\":\"markers\",\"x\":[1,2,3,4,5,6,7,8,9,10,11,12,13,14,15,16,17,18,19,20,21,22,23,24,25,26,27,28,29,30,31,32,33,34,35,36,37,38,39,40,41,42,43,44,45,46,47,48,49,50,51,52,53,54,55,56,57,58,59,60,61,62,63,64,65,66,67,68,69,70,71,72,73,74,75,76,77,78,79,80,81,82,83,84,85,86,87,88,89,90,91,92,93,94,95,96,97,98,99],\"y\":[1,2,3,4,5,6,7,8,9,10,11,12,13,14,15,16,17,18,19,20,21,22,23,24,25,26,27,28,29,30,31,32,33,34,35,36,37,38,39,40,41,42,43,44,45,46,47,48,49,50,51,52,53,54,55,56,57,58,59,60,61,62,63,64,65,66,67,68,69,70,71,72,73,74,75,76,77,78,79,80,81,82,83,84,85,86,87,88,89,90,91,92,93,94,95,96,97,98,99],\"z\":[19.635751133936328,31.175313233016485,35.223177903733536,60.31922926302255,32.83093144019706,92.08231378522404,76.02202366111409,49.30719270570994,104.64160774582284,48.099259577345364,14.83713108670608,26.337771146299627,95.61807914551115,97.07104427897481,103.41790718133478,74.61901112203316,73.65196175906944,41.865656786440105,25.18238134210538,111.53668173238559,107.26744710622243,55.36862648432544,99.16430294782495,51.44178047149415,88.0588828732055,120.33985527332007,92.21574387461021,69.29682030583288,41.78694218224017,44.48989146752412,91.01849523968048,54.84457449418148,81.8840423012312,96.15221637435283,62.50845034397048,87.29507699220935,43.98287898655817,66.57270165233044,48.99281853642109,66.48353169010682,115.57024145871947,141.1068383295165,102.54091078305132,108.03402884973923,140.98160129383248,53.50996001326065,62.15491515618636,147.27080025530114,138.69015938059277,105.02513017291386,116.77797884776818,99.45093168809439,115.20740891721402,153.1179910786745,77.37255432823393,92.34937547377172,97.90048647940259,113.47729111160476,102.10288438058326,121.30919022215366,137.6449027192325,73.29443644465316,80.08118133802311,76.57697235940195,151.46951875415428,83.85488149333834,81.1879037644476,158.07541973875408,85.21388463691584,86.11875273885104,122.1522718783811,123.72206628359221,76.70638825914396,124.23756305781913,82.37995067531048,113.98522921826434,91.08492315176665,118.84849273323123,126.94066248020917,157.57520489464633,81.62001064737257,104.50716700494048,158.67916441560294,91.00086069568877,101.76372928041913,183.76443891841637,126.58894631232874,118.17873077022452,157.135902501204,114.16219663188353,163.38864788943698,95.3637797854027,139.7724512814236,123.81775012199768,111.66708361724159,151.37804716613192,131.19898279244495,146.2858910350187,125.01347785046835]}];\n",
       " var layout_JjJB8GXaCS = {\"height\":550,\"width\":600,\"hovermode\":\"closest\",\"title\":{\"text\":\"3D Scatter Chart\"},\"showlegend\":true};\n",
       " var config_JjJB8GXaCS = {\"responsive\":false,\"scrollZoom\":false,\"displaylogo\":false};\n",
       " Plotly.newPlot(\"graph_JjJB8GXaCS\", traces_JjJB8GXaCS, layout_JjJB8GXaCS, config_JjJB8GXaCS);\n",
       "</script> \n"
      ]
     },
     "metadata": {},
     "output_type": "display_data"
    }
   ],
   "source": [
    "val x = List.range(1, 100)\n",
    "val y = List.range(1, 100)\n",
    "val z = List.range(1, 100).map(e => e + scala.util.Random.nextDouble()*100)\n",
    "\n",
    "val series = XYZ(x, y, z).asType(SCATTER3D).drawStyle(MARKERS)\n",
    "val chart1 = Chart() addSeries series setTitle \"3D Scatter Chart\" setConfig(false, false)\n",
    "val canvas = Canvas() addCharts chart1\n",
    "canvas.plotInline"
   ]
  },
  {
   "cell_type": "markdown",
   "metadata": {},
   "source": [
    "#### 3D Line"
   ]
  },
  {
   "cell_type": "code",
   "execution_count": 41,
   "metadata": {},
   "outputs": [
    {
     "data": {
      "text/html": [
       "<div id=\"grid-container_NJBHqY41xv\" class=\"grid-container\" align=\"center\"> \n",
       "<div id=\"grid_NJBHqY41xv\" class=\"grid\" align=\"center\"> \n",
       "<div id=\"graph_I5gPmbbP65\" class=\"graph\"></div> \n",
       "</div> \n",
       "</div> \n",
       "<script>\n",
       "var masonry = new Macy({\n",
       "    container: '#grid_NJBHqY41xv',\n",
       "    debug: true,\n",
       "    mobileFirst: true,\n",
       "    columns: 1,\n",
       "    margin: {\n",
       "        x: 0,\n",
       "        y: 50\n",
       "    }\n",
       "  });\n",
       "\n",
       "  var traces_I5gPmbbP65 = [{\"name\":\"5zQ86SiijO\",\"type\":\"scatter3d\",\"mode\":\"lines\",\"x\":[1,2,3,4,5,6,7,8,9,10,11,12,13,14,15,16,17,18,19,20,21,22,23,24,25,26,27,28,29,30,31,32,33,34,35,36,37,38,39,40,41,42,43,44,45,46,47,48,49,50,51,52,53,54,55,56,57,58,59,60,61,62,63,64,65,66,67,68,69,70,71,72,73,74,75,76,77,78,79,80,81,82,83,84,85,86,87,88,89,90,91,92,93,94,95,96,97,98,99],\"y\":[1,2,3,4,5,6,7,8,9,10,11,12,13,14,15,16,17,18,19,20,21,22,23,24,25,26,27,28,29,30,31,32,33,34,35,36,37,38,39,40,41,42,43,44,45,46,47,48,49,50,51,52,53,54,55,56,57,58,59,60,61,62,63,64,65,66,67,68,69,70,71,72,73,74,75,76,77,78,79,80,81,82,83,84,85,86,87,88,89,90,91,92,93,94,95,96,97,98,99],\"z\":[16.793579425860948,86.87421903050482,88.98531096393668,89.40243840991829,16.05545628741926,21.08413176482899,84.49462899183068,8.987766697726133,86.66841130364382,16.853494386447867,100.13442295566522,56.12618245980345,51.44406830138665,95.53566065142725,30.085739461713022,94.54603249190056,85.40346577226022,113.23481012381055,30.849110780630777,62.95343583128142,102.53555623305833,115.98317640127254,62.30361012916798,41.16629436625825,96.75999268114546,49.30641514130265,73.16335102346895,35.45125754228382,58.61823035752187,83.76463461036587,61.584013000204706,38.64520497767687,92.8302807557422,47.45115694425499,78.09771434253764,95.3500237429037,56.09272596147138,101.4505806068126,115.10537018394064,42.82135637531046,119.35688861938053,54.9022690337964,44.831450794751454,104.1291074072839,134.31431586818493,92.58492711342885,125.94679743462984,81.74947159284483,49.93005641729067,79.83241469267395,97.99101685087012,136.95534242561644,81.60244252836685,117.1105456410614,122.27665335388873,143.20391864999056,82.89140735578357,139.72909671358255,108.13319746583397,70.17740408699291,107.74562834998653,96.93279028544819,84.14974631386066,89.21472682393393,79.7720801346021,99.00958173141785,135.500906905811,90.57920702393666,104.32985625754951,91.0740789334401,130.49129938052602,168.33916621470604,169.09340233053675,97.82843901956409,102.12985522416167,159.59547272592408,79.2185769187582,84.8726855691403,133.8458081615637,121.37207568059657,164.3582494355985,99.03083868634019,122.38413354060518,90.6925848290615,176.51243537405617,182.6788336680529,155.46891197453817,101.19801581379137,170.0611914122042,105.20472924828358,146.99890874108368,123.1178269197541,118.31687872241949,118.50121978288118,118.34043039615372,152.4884029750967,174.54556774337703,122.78500747889862,100.70830831975655]}];\n",
       " var layout_I5gPmbbP65 = {\"height\":550,\"width\":600,\"hovermode\":\"closest\",\"title\":{\"text\":\"3D Line Chart\"},\"showlegend\":true};\n",
       " var config_I5gPmbbP65 = {\"responsive\":false,\"scrollZoom\":false,\"displaylogo\":false};\n",
       " Plotly.newPlot(\"graph_I5gPmbbP65\", traces_I5gPmbbP65, layout_I5gPmbbP65, config_I5gPmbbP65);\n",
       "</script> \n"
      ]
     },
     "metadata": {},
     "output_type": "display_data"
    }
   ],
   "source": [
    "val x = List.range(1, 100)\n",
    "val y = List.range(1, 100)\n",
    "val z = List.range(1, 100).map(e => e + scala.util.Random.nextDouble()*100)\n",
    "\n",
    "val series = XYZ(x, y, z).asType(SCATTER3D).drawStyle(LINES)\n",
    "val chart1 = Chart() addSeries series setTitle \"3D Line Chart\" setConfig(false, false)\n",
    "val canvas = Canvas() addCharts chart1\n",
    "canvas.plotInline"
   ]
  },
  {
   "cell_type": "markdown",
   "metadata": {},
   "source": [
    "#### Surface Plot"
   ]
  },
  {
   "cell_type": "code",
   "execution_count": 42,
   "metadata": {
    "scrolled": false
   },
   "outputs": [
    {
     "data": {
      "text/html": [
       "<div id=\"grid-container_5VToTZPPU8\" class=\"grid-container\" align=\"center\"> \n",
       "<div id=\"grid_5VToTZPPU8\" class=\"grid\" align=\"center\"> \n",
       "<div id=\"graph_VmSf1fHda7\" class=\"graph\"></div> \n",
       "</div> \n",
       "</div> \n",
       "<script>\n",
       "var masonry = new Macy({\n",
       "    container: '#grid_5VToTZPPU8',\n",
       "    debug: true,\n",
       "    mobileFirst: true,\n",
       "    columns: 1,\n",
       "    margin: {\n",
       "        x: 0,\n",
       "        y: 50\n",
       "    }\n",
       "  });\n",
       "\n",
       "  var traces_VmSf1fHda7 = [{\"name\":\"eKxzRDxtba\",\"type\":\"surface\",\"colorbar\":{\"title\":{\"text\":\"Altitude\",\"side\":\"right\"}},\"z\":[[8.83,8.89,8.81,8.87,8.9,8.87],[8.89,8.94,8.85,8.94,8.96,8.92],[8.84,8.9,8.82,8.92,8.93,8.91],[8.79,8.85,8.79,8.9,8.94,8.92],[8.79,8.88,8.81,8.9,8.95,8.92],[8.8,8.82,8.78,8.91,8.94,8.92],[8.75,8.78,8.77,8.91,8.95,8.92],[8.8,8.8,8.77,8.91,8.95,8.94],[8.74,8.81,8.76,8.93,8.98,8.99],[8.89,8.99,8.92,9.1,9.13,9.11],[8.97,8.97,8.91,9.09,9.11,9.11],[9.04,9.08,9.05,9.25,9.28,9.27],[9,9.01,9,9.2,9.23,9.2],[8.99,8.99,8.98,9.18,9.2,9.19],[8.93,8.97,8.97,9.18,9.2,9.18]]}];\n",
       " var layout_VmSf1fHda7 = {\"height\":550,\"width\":600,\"hovermode\":\"closest\",\"title\":{\"text\":\"Surface\"},\"showlegend\":true};\n",
       " var config_VmSf1fHda7 = {\"responsive\":true,\"scrollZoom\":true,\"displaylogo\":false};\n",
       " Plotly.newPlot(\"graph_VmSf1fHda7\", traces_VmSf1fHda7, layout_VmSf1fHda7, config_VmSf1fHda7);\n",
       "</script> \n"
      ]
     },
     "metadata": {},
     "output_type": "display_data"
    }
   ],
   "source": [
    "// 3d surface plot\n",
    "val k = List(\n",
    "    List(8.83,8.89,8.81,8.87,8.9,8.87),\n",
    "    List(8.89,8.94,8.85,8.94,8.96,8.92),\n",
    "    List(8.84,8.9,8.82,8.92,8.93,8.91),\n",
    "    List(8.79,8.85,8.79,8.9,8.94,8.92),\n",
    "    List(8.79,8.88,8.81,8.9,8.95,8.92),\n",
    "    List(8.8,8.82,8.78,8.91,8.94,8.92),\n",
    "    List(8.75,8.78,8.77,8.91,8.95,8.92),\n",
    "    List(8.8,8.8,8.77,8.91,8.95,8.94),\n",
    "    List(8.74,8.81,8.76,8.93,8.98,8.99),\n",
    "    List(8.89,8.99,8.92,9.1,9.13,9.11),\n",
    "    List(8.97,8.97,8.91,9.09,9.11,9.11),\n",
    "    List(9.04,9.08,9.05,9.25,9.28,9.27),\n",
    "    List(9,9.01,9,9.2,9.23,9.2),\n",
    "    List(8.99,8.99,8.98,9.18,9.2,9.19),\n",
    "    List(8.93,8.97,8.97,9.18,9.2,9.18)\n",
    "  )\n",
    "\n",
    "val series = XYZ(z=k.flatten, n = k(0).length) asType SURFACE setColorBar(\"Altitude\", RIGHT_SIDE)\n",
    "val chart2 = Chart() addSeries series setTitle \"Surface\"\n",
    "\n",
    "chart2.plotInline"
   ]
  },
  {
   "cell_type": "markdown",
   "metadata": {},
   "source": [
    "#### Third Dimension as Color"
   ]
  },
  {
   "cell_type": "code",
   "execution_count": 43,
   "metadata": {},
   "outputs": [
    {
     "data": {
      "text/html": [
       "<div id=\"grid-container_01KZiBa3V4\" class=\"grid-container\" align=\"center\"> \n",
       "<div id=\"grid_01KZiBa3V4\" class=\"grid\" align=\"center\"> \n",
       "<div id=\"graph_C3PH0QCLN3\" class=\"graph\"></div> \n",
       "</div> \n",
       "</div> \n",
       "<script>\n",
       "var masonry = new Macy({\n",
       "    container: '#grid_01KZiBa3V4',\n",
       "    debug: true,\n",
       "    mobileFirst: true,\n",
       "    columns: 1,\n",
       "    margin: {\n",
       "        x: 0,\n",
       "        y: 50\n",
       "    }\n",
       "  });\n",
       "\n",
       "  var traces_C3PH0QCLN3 = [{\"name\":\"5ckmrvrZbA\",\"type\":\"scatter\",\"mode\":\"markers\",\"marker\":{\"color\":[16.793579425860948,86.87421903050482,88.98531096393668,89.40243840991829,16.05545628741926,21.08413176482899,84.49462899183068,8.987766697726133,86.66841130364382,16.853494386447867,100.13442295566522,56.12618245980345,51.44406830138665,95.53566065142725,30.085739461713022,94.54603249190056,85.40346577226022,113.23481012381055,30.849110780630777,62.95343583128142,102.53555623305833,115.98317640127254,62.30361012916798,41.16629436625825,96.75999268114546,49.30641514130265,73.16335102346895,35.45125754228382,58.61823035752187,83.76463461036587,61.584013000204706,38.64520497767687,92.8302807557422,47.45115694425499,78.09771434253764,95.3500237429037,56.09272596147138,101.4505806068126,115.10537018394064,42.82135637531046,119.35688861938053,54.9022690337964,44.831450794751454,104.1291074072839,134.31431586818493,92.58492711342885,125.94679743462984,81.74947159284483,49.93005641729067,79.83241469267395,97.99101685087012,136.95534242561644,81.60244252836685,117.1105456410614,122.27665335388873,143.20391864999056,82.89140735578357,139.72909671358255,108.13319746583397,70.17740408699291,107.74562834998653,96.93279028544819,84.14974631386066,89.21472682393393,79.7720801346021,99.00958173141785,135.500906905811,90.57920702393666,104.32985625754951,91.0740789334401,130.49129938052602,168.33916621470604,169.09340233053675,97.82843901956409,102.12985522416167,159.59547272592408,79.2185769187582,84.8726855691403,133.8458081615637,121.37207568059657,164.3582494355985,99.03083868634019,122.38413354060518,90.6925848290615,176.51243537405617,182.6788336680529,155.46891197453817,101.19801581379137,170.0611914122042,105.20472924828358,146.99890874108368,123.1178269197541,118.31687872241949,118.50121978288118,118.34043039615372,152.4884029750967,174.54556774337703,122.78500747889862,100.70830831975655],\"colorbar\":{\"title\":{\"text\":\"3rd Dimension\",\"side\":\"right\"}}},\"x\":[1,2,3,4,5,6,7,8,9,10,11,12,13,14,15,16,17,18,19,20,21,22,23,24,25,26,27,28,29,30,31,32,33,34,35,36,37,38,39,40,41,42,43,44,45,46,47,48,49,50,51,52,53,54,55,56,57,58,59,60,61,62,63,64,65,66,67,68,69,70,71,72,73,74,75,76,77,78,79,80,81,82,83,84,85,86,87,88,89,90,91,92,93,94,95,96,97,98,99],\"y\":[1,2,3,4,5,6,7,8,9,10,11,12,13,14,15,16,17,18,19,20,21,22,23,24,25,26,27,28,29,30,31,32,33,34,35,36,37,38,39,40,41,42,43,44,45,46,47,48,49,50,51,52,53,54,55,56,57,58,59,60,61,62,63,64,65,66,67,68,69,70,71,72,73,74,75,76,77,78,79,80,81,82,83,84,85,86,87,88,89,90,91,92,93,94,95,96,97,98,99]}];\n",
       " var layout_C3PH0QCLN3 = {\"height\":550,\"width\":600,\"hovermode\":\"closest\",\"title\":{\"text\":\"Scatter With Color\"},\"showlegend\":false};\n",
       " var config_C3PH0QCLN3 = {\"responsive\":true,\"scrollZoom\":true,\"displaylogo\":false};\n",
       " Plotly.newPlot(\"graph_C3PH0QCLN3\", traces_C3PH0QCLN3, layout_C3PH0QCLN3, config_C3PH0QCLN3);\n",
       "</script> \n"
      ]
     },
     "metadata": {},
     "output_type": "display_data"
    }
   ],
   "source": [
    "// multiple compositions can be used to create scatter charts with a color representing some third dimension\n",
    "val series = (\n",
    "    XY(x, y) \n",
    "    asType SCATTER \n",
    "    drawStyle MARKERS \n",
    "    setMarker marker \n",
    "    setColor z \n",
    "    setColorBar(\"3rd Dimension\", RIGHT_SIDE)\n",
    ")\n",
    "\n",
    "val chart3 = Chart() addSeries series setTitle \"Scatter With Color\" showLegend false\n",
    "chart3.plotInline"
   ]
  },
  {
   "cell_type": "markdown",
   "metadata": {},
   "source": [
    "#### Subplot\n",
    "\n",
    "The Subplot class can be used to generate subplots for an XYZ plots just as we did previously."
   ]
  },
  {
   "cell_type": "code",
   "execution_count": 44,
   "metadata": {},
   "outputs": [
    {
     "data": {
      "text/html": [
       "<div id=\"grid-container_Jv9zugsBmw\" class=\"grid-container\" align=\"center\"> \n",
       "<div id=\"grid_Jv9zugsBmw\" class=\"grid\" align=\"center\"> \n",
       "<div id=\"graph_u2reqEOxXD\" class=\"graph\"></div> \n",
       "<div id=\"graph_zyIoo24ypc\" class=\"graph\"></div> \n",
       "<div id=\"graph_rUDeuyasmh\" class=\"graph\"></div> \n",
       "<div id=\"graph_tJx4oPesI0\" class=\"graph\"></div> \n",
       "</div> \n",
       "</div> \n",
       "\n",
       "<div align=\"center\">\n",
       "<button id = \"saveAsPNG_Jv9zugsBmw\" class=\"picta-button\">Download Canvas as PNG</button>\n",
       "</div>\n",
       "<script>\n",
       "var masonry = new Macy({\n",
       "    container: '#grid_Jv9zugsBmw',\n",
       "    debug: true,\n",
       "    mobileFirst: true,\n",
       "    columns: 2,\n",
       "    margin: {\n",
       "        x: 0,\n",
       "        y: 50\n",
       "    }\n",
       "  });\n",
       "\n",
       "  var traces_u2reqEOxXD = [{\"name\":\"5zQ86SiijO\",\"type\":\"scatter3d\",\"mode\":\"lines\",\"x\":[1,2,3,4,5,6,7,8,9,10,11,12,13,14,15,16,17,18,19,20,21,22,23,24,25,26,27,28,29,30,31,32,33,34,35,36,37,38,39,40,41,42,43,44,45,46,47,48,49,50,51,52,53,54,55,56,57,58,59,60,61,62,63,64,65,66,67,68,69,70,71,72,73,74,75,76,77,78,79,80,81,82,83,84,85,86,87,88,89,90,91,92,93,94,95,96,97,98,99],\"y\":[1,2,3,4,5,6,7,8,9,10,11,12,13,14,15,16,17,18,19,20,21,22,23,24,25,26,27,28,29,30,31,32,33,34,35,36,37,38,39,40,41,42,43,44,45,46,47,48,49,50,51,52,53,54,55,56,57,58,59,60,61,62,63,64,65,66,67,68,69,70,71,72,73,74,75,76,77,78,79,80,81,82,83,84,85,86,87,88,89,90,91,92,93,94,95,96,97,98,99],\"z\":[16.793579425860948,86.87421903050482,88.98531096393668,89.40243840991829,16.05545628741926,21.08413176482899,84.49462899183068,8.987766697726133,86.66841130364382,16.853494386447867,100.13442295566522,56.12618245980345,51.44406830138665,95.53566065142725,30.085739461713022,94.54603249190056,85.40346577226022,113.23481012381055,30.849110780630777,62.95343583128142,102.53555623305833,115.98317640127254,62.30361012916798,41.16629436625825,96.75999268114546,49.30641514130265,73.16335102346895,35.45125754228382,58.61823035752187,83.76463461036587,61.584013000204706,38.64520497767687,92.8302807557422,47.45115694425499,78.09771434253764,95.3500237429037,56.09272596147138,101.4505806068126,115.10537018394064,42.82135637531046,119.35688861938053,54.9022690337964,44.831450794751454,104.1291074072839,134.31431586818493,92.58492711342885,125.94679743462984,81.74947159284483,49.93005641729067,79.83241469267395,97.99101685087012,136.95534242561644,81.60244252836685,117.1105456410614,122.27665335388873,143.20391864999056,82.89140735578357,139.72909671358255,108.13319746583397,70.17740408699291,107.74562834998653,96.93279028544819,84.14974631386066,89.21472682393393,79.7720801346021,99.00958173141785,135.500906905811,90.57920702393666,104.32985625754951,91.0740789334401,130.49129938052602,168.33916621470604,169.09340233053675,97.82843901956409,102.12985522416167,159.59547272592408,79.2185769187582,84.8726855691403,133.8458081615637,121.37207568059657,164.3582494355985,99.03083868634019,122.38413354060518,90.6925848290615,176.51243537405617,182.6788336680529,155.46891197453817,101.19801581379137,170.0611914122042,105.20472924828358,146.99890874108368,123.1178269197541,118.31687872241949,118.50121978288118,118.34043039615372,152.4884029750967,174.54556774337703,122.78500747889862,100.70830831975655]}];\n",
       " var layout_u2reqEOxXD = {\"height\":350,\"width\":350,\"hovermode\":\"closest\",\"title\":{\"text\":\"3D Line Chart\"},\"showlegend\":true,\"margin\":{\"l\":50,\"r\":50,\"t\":50,\"b\":50}};\n",
       " var config_u2reqEOxXD = {\"responsive\":false,\"scrollZoom\":false,\"displaylogo\":false};\n",
       " Plotly.newPlot(\"graph_u2reqEOxXD\", traces_u2reqEOxXD, layout_u2reqEOxXD, config_u2reqEOxXD);\n",
       "\n",
       "  var traces_zyIoo24ypc = [{\"name\":\"eKxzRDxtba\",\"type\":\"surface\",\"colorbar\":{\"title\":{\"text\":\"Altitude\",\"side\":\"right\"}},\"z\":[[8.83,8.89,8.81,8.87,8.9,8.87],[8.89,8.94,8.85,8.94,8.96,8.92],[8.84,8.9,8.82,8.92,8.93,8.91],[8.79,8.85,8.79,8.9,8.94,8.92],[8.79,8.88,8.81,8.9,8.95,8.92],[8.8,8.82,8.78,8.91,8.94,8.92],[8.75,8.78,8.77,8.91,8.95,8.92],[8.8,8.8,8.77,8.91,8.95,8.94],[8.74,8.81,8.76,8.93,8.98,8.99],[8.89,8.99,8.92,9.1,9.13,9.11],[8.97,8.97,8.91,9.09,9.11,9.11],[9.04,9.08,9.05,9.25,9.28,9.27],[9,9.01,9,9.2,9.23,9.2],[8.99,8.99,8.98,9.18,9.2,9.19],[8.93,8.97,8.97,9.18,9.2,9.18]]}];\n",
       " var layout_zyIoo24ypc = {\"height\":350,\"width\":350,\"hovermode\":\"closest\",\"title\":{\"text\":\"Surface\"},\"showlegend\":true,\"margin\":{\"l\":50,\"r\":50,\"t\":50,\"b\":50}};\n",
       " var config_zyIoo24ypc = {\"responsive\":true,\"scrollZoom\":true,\"displaylogo\":false};\n",
       " Plotly.newPlot(\"graph_zyIoo24ypc\", traces_zyIoo24ypc, layout_zyIoo24ypc, config_zyIoo24ypc);\n",
       "\n",
       "  var traces_rUDeuyasmh = [{\"name\":\"5ckmrvrZbA\",\"type\":\"scatter\",\"mode\":\"markers\",\"marker\":{\"color\":[16.793579425860948,86.87421903050482,88.98531096393668,89.40243840991829,16.05545628741926,21.08413176482899,84.49462899183068,8.987766697726133,86.66841130364382,16.853494386447867,100.13442295566522,56.12618245980345,51.44406830138665,95.53566065142725,30.085739461713022,94.54603249190056,85.40346577226022,113.23481012381055,30.849110780630777,62.95343583128142,102.53555623305833,115.98317640127254,62.30361012916798,41.16629436625825,96.75999268114546,49.30641514130265,73.16335102346895,35.45125754228382,58.61823035752187,83.76463461036587,61.584013000204706,38.64520497767687,92.8302807557422,47.45115694425499,78.09771434253764,95.3500237429037,56.09272596147138,101.4505806068126,115.10537018394064,42.82135637531046,119.35688861938053,54.9022690337964,44.831450794751454,104.1291074072839,134.31431586818493,92.58492711342885,125.94679743462984,81.74947159284483,49.93005641729067,79.83241469267395,97.99101685087012,136.95534242561644,81.60244252836685,117.1105456410614,122.27665335388873,143.20391864999056,82.89140735578357,139.72909671358255,108.13319746583397,70.17740408699291,107.74562834998653,96.93279028544819,84.14974631386066,89.21472682393393,79.7720801346021,99.00958173141785,135.500906905811,90.57920702393666,104.32985625754951,91.0740789334401,130.49129938052602,168.33916621470604,169.09340233053675,97.82843901956409,102.12985522416167,159.59547272592408,79.2185769187582,84.8726855691403,133.8458081615637,121.37207568059657,164.3582494355985,99.03083868634019,122.38413354060518,90.6925848290615,176.51243537405617,182.6788336680529,155.46891197453817,101.19801581379137,170.0611914122042,105.20472924828358,146.99890874108368,123.1178269197541,118.31687872241949,118.50121978288118,118.34043039615372,152.4884029750967,174.54556774337703,122.78500747889862,100.70830831975655],\"colorbar\":{\"title\":{\"text\":\"3rd Dimension\",\"side\":\"right\"}}},\"x\":[1,2,3,4,5,6,7,8,9,10,11,12,13,14,15,16,17,18,19,20,21,22,23,24,25,26,27,28,29,30,31,32,33,34,35,36,37,38,39,40,41,42,43,44,45,46,47,48,49,50,51,52,53,54,55,56,57,58,59,60,61,62,63,64,65,66,67,68,69,70,71,72,73,74,75,76,77,78,79,80,81,82,83,84,85,86,87,88,89,90,91,92,93,94,95,96,97,98,99],\"y\":[1,2,3,4,5,6,7,8,9,10,11,12,13,14,15,16,17,18,19,20,21,22,23,24,25,26,27,28,29,30,31,32,33,34,35,36,37,38,39,40,41,42,43,44,45,46,47,48,49,50,51,52,53,54,55,56,57,58,59,60,61,62,63,64,65,66,67,68,69,70,71,72,73,74,75,76,77,78,79,80,81,82,83,84,85,86,87,88,89,90,91,92,93,94,95,96,97,98,99]}];\n",
       " var layout_rUDeuyasmh = {\"height\":350,\"width\":350,\"hovermode\":\"closest\",\"title\":{\"text\":\"Scatter With Color\"},\"showlegend\":false,\"margin\":{\"l\":50,\"r\":50,\"t\":50,\"b\":50}};\n",
       " var config_rUDeuyasmh = {\"responsive\":true,\"scrollZoom\":true,\"displaylogo\":false};\n",
       " Plotly.newPlot(\"graph_rUDeuyasmh\", traces_rUDeuyasmh, layout_rUDeuyasmh, config_rUDeuyasmh);\n",
       "\n",
       "  var traces_tJx4oPesI0 = [{\"name\":\"xr3CI1hR5B\",\"type\":\"heatmap\",\"z\":[[80.33347277968885,62.2274047494852,21.599103455478993,44.843835038188494,94.83894868638954,9.938532987002652,25.080668210216732,82.2925657157166,90.83066715971547,85.5351726408592],[11.317371393484034,21.87871840125517,58.6803536497469,104.35712906519208,38.85634355778264,88.17707587231114,104.7729170847958,73.87945359707452,90.86840415484066,66.77210657160052],[107.36951177789808,62.521475433526156,94.945692853541,58.681628690008324,99.4036096414942,44.90740893238237,86.3804583559209,112.06975593422062,127.24875580801877,111.70416370018279],[69.67658181081157,44.22827666996209,74.82875888602547,117.02524372995354,93.68997536497862,84.48134837003406,48.39806553873187,111.8779027772492,132.06349431337168,126.96922575194846],[88.9021130242362,78.24403505478892,52.516539511542675,81.1924601454758,116.03446976844252,135.12349354436196,66.06906794153934,147.7488404538679,110.93963149827502,135.23189459901678],[70.4242467555383,126.8711137499451,112.9673525173306,109.0331770947304,140.50354830448686,88.17427078313524,139.96641796335695,141.40051733061307,73.52255052116458,91.44703065544206],[141.31280930731504,85.43744557374757,66.01532741774186,150.37286229392427,158.1992506448516,127.8543066699079,85.85975012074813,73.7417227167672,96.67013110149168,120.78349589000328],[103.62565127108954,102.01444994200288,115.46783703729393,86.03016576287584,164.4622220012139,81.02752007005165,92.96360265555181,79.4933937022196,114.26065810054257,179.17667550444193],[165.27791729921242,175.8560775752897,141.9725242206641,159.59370528548826,121.15269660797414,96.63010784535625,163.733849645928,164.63144337203659,98.21932169868869,158.25662819678644],[153.83953026706038,156.39782704511566,150.01379120190992,161.19953549852795,122.63212039991211,184.13064330585277,143.42215489231793,175.83355659084782,152.01363843494033,116.88036384658355]]}];\n",
       " var layout_tJx4oPesI0 = {\"height\":350,\"width\":350,\"hovermode\":\"closest\",\"title\":{\"text\":\"Heatmap\"},\"showlegend\":true,\"margin\":{\"l\":50,\"r\":50,\"t\":50,\"b\":50}};\n",
       " var config_tJx4oPesI0 = {\"responsive\":true,\"scrollZoom\":true,\"displaylogo\":false};\n",
       " Plotly.newPlot(\"graph_tJx4oPesI0\", traces_tJx4oPesI0, layout_tJx4oPesI0, config_tJx4oPesI0);\n",
       "\n",
       "var save_Jv9zugsBmw = document.getElementById(\"saveAsPNG_Jv9zugsBmw\")\n",
       "save_Jv9zugsBmw.onclick = async function() {\n",
       "    const grid = document.getElementById(\"grid-container_Jv9zugsBmw\")\n",
       "    const graphs = grid.getElementsByClassName(\"graph\")\n",
       "\n",
       "    const images = []\n",
       "\n",
       "    const rows = 2\n",
       "    const cols = 2\n",
       "    const img_width = 400\n",
       "    const img_height = 400\n",
       "    var margin = 50\n",
       "\n",
       "    for (var i=0; i<rows; i++) {\n",
       "      for (var j=0; j<cols; j++) {\n",
       "        const image = await Plotly.toImage(graphs[i * cols + j], {format: 'png', width: img_width, height: img_height})\n",
       "        images.push(image);\n",
       "      }\n",
       "    }\n",
       "\n",
       "    const positioned_images = []\n",
       "\n",
       "        for (var i=0; i<rows; i++) {\n",
       "            for (var j=0; j<cols; j++) {\n",
       "\n",
       "                const obj = {\n",
       "                    \"src\": images[i*cols + j],\n",
       "                    x: j*img_width+margin,\n",
       "                    y: i*img_height+margin\n",
       "                }\n",
       "\n",
       "                positioned_images.push(obj)\n",
       "            }\n",
       "        }\n",
       "\n",
       "        mergeImages(positioned_images, {\n",
       "            width: img_width*cols+60, height: img_height*rows+60\n",
       "        })\n",
       "        .then(b64 => {\n",
       "            var a = document.createElement(\"a\");\n",
       "            a.href = b64;\n",
       "            a.download = \"Image.png\";\n",
       "            a.click();\n",
       "            a.remove()\n",
       "        });\n",
       "}\n",
       "</script> \n"
      ]
     },
     "metadata": {},
     "output_type": "display_data"
    }
   ],
   "source": [
    "// it may be necessary to play around with the chart dimensions and margin  in order to ensure a good fit on screen.\n",
    "val dim = 350\n",
    "\n",
    "// The canvas has an underlying grid. By default the underlying grid is 1x1, but we can pass in the dimensions we \n",
    "// require by passing in parameters in the constructor.\n",
    "Canvas(2, 2)\n",
    ".setChart(0, 0, chart1.setDimensions(width = dim, height = dim).setMargin(l=50, r=50, t=50, b=50))\n",
    ".setChart(0, 1, chart2.setDimensions(width = dim, height = dim)setMargin(l=50, r=50, t=50, b=50))\n",
    ".setChart(1, 0, chart3.setDimensions(width = dim, height = dim)setMargin(l=50, r=50, t=50, b=50))\n",
    ".setChart(1, 1, chart.setDimensions(width = dim, height = dim)setMargin(l=50, r=50, t=50, b=50))\n",
    ".plotInline"
   ]
  },
  {
   "cell_type": "markdown",
   "metadata": {},
   "source": [
    "#### Map\n",
    "\n",
    "We can also create maps using the composition technique below."
   ]
  },
  {
   "cell_type": "code",
   "execution_count": 45,
   "metadata": {},
   "outputs": [],
   "source": [
    "import org.carbonateresearch.picta.options.{Margin, Line}\n",
    "import org.carbonateresearch.picta.Map"
   ]
  },
  {
   "cell_type": "code",
   "execution_count": 46,
   "metadata": {},
   "outputs": [
    {
     "data": {
      "text/html": [
       "<div id=\"grid-container_C35AmcWDnw\" class=\"grid-container\" align=\"center\"> \n",
       "<div id=\"grid_C35AmcWDnw\" class=\"grid\" align=\"center\"> \n",
       "<div id=\"graph_EXwYGsH7Kd\" class=\"graph\"></div> \n",
       "</div> \n",
       "</div> \n",
       "<script>\n",
       "var masonry = new Macy({\n",
       "    container: '#grid_C35AmcWDnw',\n",
       "    debug: true,\n",
       "    mobileFirst: true,\n",
       "    columns: 1,\n",
       "    margin: {\n",
       "        x: 0,\n",
       "        y: 50\n",
       "    }\n",
       "  });\n",
       "\n",
       "  var traces_EXwYGsH7Kd = [{\"name\":\"Zw6bY3ECkA\",\"lat\":[40.7127,51.5072],\"lon\":[-74.0059,0.1275],\"type\":\"scattergeo\",\"mode\":\"lines\",\"line\":{\"width\":2,\"color\":\"red\"}}];\n",
       " var layout_EXwYGsH7Kd = {\"height\":550,\"width\":600,\"hovermode\":\"closest\",\"title\":{\"text\":\"Map\"},\"showlegend\":false,\"geo\":{\"resolution\":50,\"showland\":true,\"showlakes\":true,\"coastlinewidth\":2,\"landcolor\":\"rgb(204.0, 204.0, 204.0)\",\"lakecolor\":\"rgb(255.0, 255.0, 255.0)\",\"lataxis\":{\"range\":[20,60],\"showgrid\":true,\"dtick\":10},\"lonaxis\":{\"range\":[-100,20],\"showgrid\":true,\"dtick\":10}}};\n",
       " var config_EXwYGsH7Kd = {\"responsive\":false,\"scrollZoom\":false,\"displaylogo\":false};\n",
       " Plotly.newPlot(\"graph_EXwYGsH7Kd\", traces_EXwYGsH7Kd, layout_EXwYGsH7Kd, config_EXwYGsH7Kd);\n",
       "</script> \n"
      ]
     },
     "metadata": {},
     "output_type": "display_data"
    }
   ],
   "source": [
    "// draw a line on the map that is red\n",
    "val line = Line(width = 2) setColor \"red\"\n",
    "\n",
    "// construct the map Series. It is an XY chart as it takes in a List of Longitude and Latitude\n",
    "val series = Map(List(40.7127, 51.5072), List(-74.0059, 0.1275)) drawSymbol LINES drawLine line\n",
    "\n",
    "// These are options that further specify the options for the map\n",
    "val geo = MapOptions(landcolor = RGB(204, 204, 204), lakecolor = RGB(255, 255, 255))\n",
    "              .setMapAxes(LatAxis(List(20, 60)), LongAxis(List(-100, 20)))\n",
    "\n",
    "val chart = (\n",
    "    Chart()\n",
    "    addSeries series\n",
    "    setConfig(false, false)\n",
    "    setMapOptions geo\n",
    "//     setMargin(l=0, r=0, t=0, b=0)\n",
    "    showLegend false\n",
    "    setTitle \"Map\"\n",
    ")\n",
    "\n",
    "chart.plotInline"
   ]
  },
  {
   "cell_type": "markdown",
   "metadata": {},
   "source": [
    "### Animated Charts\n",
    "\n",
    "We can also create animated charts. This can be useful for tracking the evolution of a data over time.\n",
    "\n",
    "All `Series` types should be supported.\n",
    "\n",
    "#### 2D Animated Chart"
   ]
  },
  {
   "cell_type": "code",
   "execution_count": 47,
   "metadata": {},
   "outputs": [],
   "source": [
    "import org.carbonateresearch.picta.ColorOptions._\n",
    "\n",
    "def genRangeRandomInt(min: Int = 0, max: Int = 10000) = min + (max - min) * scala.util.Random.nextInt()\n",
    "def genRangeRandomDouble(min: Double = 0.0, max: Double = 10000.0) = min + (max - min) * scala.util.Random.nextDouble()\n",
    "\n",
    "// creates random XY for testing purposes\n",
    "def createXYSeries[T: Color]\n",
    "(numberToCreate: Int, count: Int = 0, length: Int = 10): List[XY[Double, Double, T, T]] = {\n",
    "    if (count == numberToCreate) Nil\n",
    "    else {\n",
    "      val xs = List.range(0, length).map(x => genRangeRandomDouble())\n",
    "      val ys = xs.map(x => genRangeRandomDouble())\n",
    "      val series = XY(x = xs, y = ys, name = \"series \" + count).drawMarkers\n",
    "      series :: createXYSeries(numberToCreate, count + 1, length)\n",
    "    }\n",
    "}\n",
    "\n",
    "def createXYZSeries(numberToCreate: Int, count: Int = 0, length: Int = 10): List[XYZ[Double, Double, Double]] = {\n",
    "    if (count == numberToCreate) Nil\n",
    "    else {\n",
    "      val xs = List.range(0, length).map(x => genRangeRandomDouble())\n",
    "      val ys = xs.map(x => genRangeRandomDouble())\n",
    "      val zs = xs.map(x => genRangeRandomDouble())\n",
    "      val series = XYZ(x = xs, y = ys, z = zs, name = \"series \" + count, `type` = SCATTER3D).drawMarkers\n",
    "      series :: createXYZSeries(numberToCreate, count + 1, length)\n",
    "    }\n",
    "}"
   ]
  },
  {
   "cell_type": "code",
   "execution_count": 48,
   "metadata": {
    "scrolled": false
   },
   "outputs": [
    {
     "data": {
      "text/html": [
       "<div id=\"grid-container_wIoVasHCgj\" class=\"grid-container\" align=\"center\"> \n",
       "<div id=\"grid_wIoVasHCgj\" class=\"grid\" align=\"center\"> \n",
       "\n",
       "<div align=\"center\">\n",
       "  <div id=\"graph_t0DK8a0afu\" class=\"graph\"></div>\n",
       "  <div class=\"animationInterface\">\n",
       "    <button id=\"play_t0DK8a0afu\" class=\"picta-button\">&#9658</button>\n",
       "    <button id=\"pause_t0DK8a0afu\" class=\"picta-button\">&#9616;&#9616;</button>\n",
       "    <button id=\"prev_t0DK8a0afu\" class=\"picta-button\"><</button>\n",
       "    <button id=\"next_t0DK8a0afu\" class=\"picta-button\">></button>\n",
       "\n",
       "    <div id=\"sliderContainer_t0DK8a0afu\" class=\"progressBar\"></div>\n",
       "    <div id=\"counterContainer_t0DK8a0afu\" class=\"inline-div\">\n",
       "        <h3>Frame: </h3> <h3 id=\"value_t0DK8a0afu\">0</h3>\n",
       "    </div>\n",
       "   </div>\n",
       "</div> \n",
       "\n",
       "</div> \n",
       "</div> \n",
       "<script>\n",
       "var masonry = new Macy({\n",
       "    container: '#grid_wIoVasHCgj',\n",
       "    debug: true,\n",
       "    mobileFirst: true,\n",
       "    columns: 1,\n",
       "    margin: {\n",
       "        x: 0,\n",
       "        y: 50\n",
       "    }\n",
       "  });\n",
       "\n",
       "var graph_t0DK8a0afu = document.getElementById('graph_t0DK8a0afu')\n",
       "\n",
       "var layout_t0DK8a0afu = {\"height\":550,\"width\":600,\"hovermode\":\"closest\",\"title\":{\"text\":\"Animation XY\"},\"showlegend\":true,\"xaxis\":{\"title\":{\"text\":\"X Variable\"},\"showgrid\":true,\"zeroline\":false,\"showline\":false,\"range\":[0,10000]},\"yaxis\":{\"title\":{\"text\":\"Y Variable\"},\"showgrid\":true,\"zeroline\":false,\"showline\":false,\"range\":[0,10000]}}\n",
       "var frames_t0DK8a0afu = [{\"name\":\"series 0 (F0)\",\"data\":[{\"name\":\"series 0 (F0)\",\"type\":\"scatter\",\"mode\":\"markers\",\"x\":[2341.1620259922815,5432.13262234315,743.9882522162866,8075.853603856023,8056.95918869812,6772.886518646933,6168.433282849592,343.2152358357654,130.68413761838426,4732.890997386991,8473.158561620408,7827.254061984819,8387.433563197685,2027.2797957485157,1828.9939913402143,9845.927453897346,7106.540972056434,8455.683915076379,7603.08945575916,142.56393941975088,8380.970736875752,8060.054108771805,9332.599107780135,6124.62765658125,2799.2974256514467,979.4169200141156,5021.7130570062045,4832.648188234674,6018.697265994037,4841.953162592916],\"y\":[6409.564206065102,6285.373208270558,2971.193477233722,8786.750317369784,6311.608266235706,2630.402906343946,3681.736336467526,3022.0233802578587,654.6527564725235,5875.273031779784,5975.522299248656,8203.558454934098,1405.7960559857186,7882.147641143471,713.2823017704281,1856.5864399594234,238.10664623928113,3779.9969245021016,4617.105128731144,3566.2423037159474,480.9587731684495,3981.3280994080956,4235.680021445387,6726.2237217505135,6670.510953022974,586.2492773033412,2146.6788399435554,2262.2142824164202,6845.90141411638,1114.8412145471432]}]},{\"name\":\"series 1 (F1)\",\"data\":[{\"name\":\"series 1 (F1)\",\"type\":\"scatter\",\"mode\":\"markers\",\"x\":[3105.322278452397,8936.087306617943,2629.3026080117966,6229.523040192873,3522.0047471685834,5588.86328150771,6083.063186251358,8392.293814514655,2388.1763556725723,2994.8463963407003,354.7388811888086,5247.441918438979,5568.5165911327085,6876.3124992577095,3200.89396640437,4928.508853132891,8238.752975297388,9067.586553471523,8623.134058917029,459.00835679235865,2172.3146729296695,819.2855705145907,2054.906279753056,6949.591267689528,5565.330991098521,797.9704063484028,8805.181959984699,8390.065369991176,3138.322375286129,463.3908438773504],\"y\":[3795.218676003418,492.86541391032057,3364.2481315824934,1194.972524609047,3017.1707976319794,2265.2885106125887,7846.415834835025,791.1362333285721,3598.399115126013,1770.9981528244778,5106.072897658775,1779.5040391548755,9872.909151285507,887.0167029964182,7338.340397535609,352.9902369024518,7441.423121685973,9770.617528967703,4056.4679873313557,2686.2362102647276,5844.17037508596,4221.238904858175,968.224397388231,4888.796556575337,3175.5591198732723,8155.742679062095,5914.558786420508,3915.936655159683,2737.4702581273236,9011.043015637095]}]},{\"name\":\"series 2 (F2)\",\"data\":[{\"name\":\"series 2 (F2)\",\"type\":\"scatter\",\"mode\":\"markers\",\"x\":[6249.505306193179,9384.860221631809,2657.991908476466,6046.333793030798,3651.6202035512115,433.63123851528076,4294.991298463311,237.847345957648,3031.080061100344,7512.013618269037,4198.999593632754,9742.279331108477,1932.8911415839866,6307.903325565786,7427.463562922213,6750.719204605086,5635.488433717126,9889.977123942766,7082.493224964063,9963.126860213928,1005.3338325323391,5586.643624814199,6086.817506442415,1884.0993527715143,9091.94892161936,5123.3255059325165,2417.7339313913603,1673.8771720375178,2434.1468066019365,104.56239449847415],\"y\":[8286.418201429213,2384.240383745946,8097.0538653643,54.374261088686595,7080.038813893631,6067.147524469085,1570.8449225995803,6917.776867298583,9276.696574362568,1464.6754681248476,9835.937087868553,8178.296981733337,9998.290167986343,6772.020912104193,4135.720371247739,560.7860399639608,6383.987472685481,4311.025448210825,4296.730370498984,7665.785614997381,2547.0559404245664,4859.892348355006,6797.495172926259,7821.147097956265,3520.389190627137,6855.462137286277,8211.116623815602,2938.569394431708,7301.140388748076,9717.623924002999]}]},{\"name\":\"series 3 (F3)\",\"data\":[{\"name\":\"series 3 (F3)\",\"type\":\"scatter\",\"mode\":\"markers\",\"x\":[4132.978559836365,5227.161971002471,5872.455096554363,1141.1340937961033,1253.7942046693495,6243.100511378876,1910.3712835517306,5358.3232755043255,6849.542818846638,1943.8922384609903,7776.531915999758,3096.874141736652,5633.6661235524725,8167.72267747194,7352.440461430077,4240.0546201818415,8653.227483243181,3272.808719727435,9288.554642407778,1042.4948327791428,2709.563900038561,8548.632806415399,2321.608315310376,3162.799450306162,1645.2868652539798,2450.393149018858,9456.113002276154,5744.98955680285,2763.3212258203243,1709.9495077232484],\"y\":[8011.0841872456385,8313.974180554638,2629.992233179996,941.0028146172522,6800.600415309411,5345.947657034654,6563.00816175763,2483.2004832142707,46.897050177989726,9032.82221337966,5216.502060381039,9919.30773880152,17.258811639967455,980.4984997554167,9849.139165798715,1951.5416993756828,6831.067922203276,2363.9880893041886,5097.609936315452,8137.619101658315,4400.93106629739,1408.0972506123446,4376.667093797445,4364.019308808179,6051.895345109189,2970.5917082165565,8388.188111735819,3873.4157282861447,2005.3346364987456,7475.462166597179]}]},{\"name\":\"series 4 (F4)\",\"data\":[{\"name\":\"series 4 (F4)\",\"type\":\"scatter\",\"mode\":\"markers\",\"x\":[1645.5757995372267,9165.189801566696,3619.1697665604074,5477.1091710953815,5406.133362513279,1152.3830957522075,6043.666746330324,9731.979657502277,7952.884146536756,4585.4077949880275,1782.1243579068812,8812.37755768435,4778.6308345126645,2942.279204402749,2538.357014073598,5017.886106350526,1898.8739834423773,1737.0953781976762,5687.940267657165,4623.033542309003,5256.548886984587,6512.935883927731,4727.77704718189,345.54158502408615,7980.352585902224,662.3062196831697,138.61421512195383,4327.699512570766,5119.775008961218,8657.712486483812],\"y\":[8237.719398387706,4894.1060192098375,2403.766214546299,2276.8947033417608,804.0045616245484,1882.228806743922,1556.3066456857543,971.7107607938691,7525.463082045214,3437.9318212994003,9750.972237229586,2656.606058104536,6648.864732358913,1826.323362081722,4897.910958370038,7882.066145893502,6604.229327008538,7028.98451393713,1630.4874337378183,8610.395883899697,2831.6794557397975,4681.8354643631255,5095.162362421318,2625.625098006602,9555.850800120637,9253.60454329005,947.0203036420633,5986.2943685048285,5833.116046086826,4273.067263415429]}]},{\"name\":\"series 5 (F5)\",\"data\":[{\"name\":\"series 5 (F5)\",\"type\":\"scatter\",\"mode\":\"markers\",\"x\":[314.6734320545519,8869.323912737884,8839.457753096001,8883.921879238955,7922.103132856564,4655.12769587019,5071.90075756322,4039.379223403605,41.33136919248881,8168.580667721197,1903.9979938784468,2244.2369740936674,6498.634992347283,6617.407693631938,7765.9350429142605,1910.421694162262,7568.351228727412,5959.010308987673,9112.403150459759,1112.6791554910299,2262.1479227727114,6178.70229490313,6296.464501640954,5814.298611692668,9257.95802354094,1276.7799451163953,8485.212242281772,4478.457440688957,5511.610086207579,3638.8018108690935],\"y\":[9833.110210253428,4388.981611920095,455.5127011518867,7902.912211763228,5271.4656977599325,4975.012985269941,5612.576872132355,6439.989044420883,4477.5793170588395,9967.28140516553,439.89284878988235,7126.853100078274,6854.682993719267,3309.3876319267347,5265.5030682868855,4219.730998068229,8683.86228444831,3405.691491677365,1292.9400640266986,4824.612931171455,6001.7348946124475,6508.122764232573,5822.029840285917,6713.100578894706,3212.733586631915,2827.4172496590077,8070.787008431363,8046.797689700531,7962.4250319327975,8299.995704005489]}]},{\"name\":\"series 6 (F6)\",\"data\":[{\"name\":\"series 6 (F6)\",\"type\":\"scatter\",\"mode\":\"markers\",\"x\":[7282.055532775503,5950.242254000431,7378.366300524231,849.901229307084,159.87868908420967,8811.837983130768,9427.589939046782,2455.9122530116438,9104.408431870577,6694.193858991142,5844.872852875348,7367.1592489181,6200.495844515343,5299.731871165069,9853.534889562034,2406.2637352043116,463.9265528450165,1564.3794815344213,2730.585565099496,7457.236710967917,7460.598332663924,3141.61367477118,8160.612195763861,2956.061701319601,1087.76505150605,9791.080332629697,2277.889631425192,6485.101447855448,7042.796471929565,2000.4585272996621],\"y\":[313.7601348001551,2418.16573007712,6303.73699377658,1046.202774443733,7846.418521034611,6971.281993674284,4807.266370267097,5138.238874938567,5792.81027673473,5984.912495917674,2433.5042821211805,8295.650789887264,3487.4283886237777,4296.566623128193,393.4181619714716,2164.8430615275415,3460.3798175271063,3658.4604199391047,1163.4287201702975,6118.618561011608,4857.159174371294,813.0737675877198,9223.1337086447,7664.068256169571,9835.1575106226,8560.165599048765,4025.8974064751665,3439.113198115742,8727.000244345914,432.0071377470791]}]},{\"name\":\"series 7 (F7)\",\"data\":[{\"name\":\"series 7 (F7)\",\"type\":\"scatter\",\"mode\":\"markers\",\"x\":[8868.383205532235,892.0031485753366,5278.399129658496,3939.2941657796164,623.9340033699248,2115.022467078782,2848.267879811649,8258.407876512105,5666.033747947805,4243.10842374743,6101.442322568899,9701.39176567742,6731.908805274741,5330.039717476759,429.41134887360846,2343.217593119086,3962.663396793473,679.3115585264875,3102.0553739836555,1776.6174653743883,905.1593759338227,2233.755271063171,5983.456731568435,7122.960355284328,2872.1926803068,2817.4267083213476,9537.430704779477,148.3545081123472,731.335200462796,7775.231316049569],\"y\":[1803.5035182089875,617.362482273246,7929.14595345479,8870.211085644632,4041.637104138025,3862.4148410796643,2356.2795373096233,9175.37038632956,6824.085610778715,9955.217694148196,7520.354030565915,3136.3728456068175,6495.341597474812,3837.144392401216,9417.257520160996,2983.389926228305,2126.2079473893014,2298.8126602877633,6477.91401439271,1234.8412094379557,7355.61502009958,6794.745649616636,16.347345682873325,9162.71518058925,9843.87298730021,737.2232591515071,1716.214086411767,2778.6116805217175,3453.6334665706745,6134.127870247315]}]},{\"name\":\"series 8 (F8)\",\"data\":[{\"name\":\"series 8 (F8)\",\"type\":\"scatter\",\"mode\":\"markers\",\"x\":[2866.8045657025555,1151.605816506628,4729.9099901472355,7218.797411946764,7295.839107047838,6683.4792446793,5768.086034819559,8065.5982725378,6245.2122219016655,3343.8235246264658,138.9164840013546,7093.133237549585,8797.169931529452,6806.970397531103,7182.105728873796,3827.7068466520304,5882.230045377075,9934.657719958152,2685.1283576777964,2332.8675717725255,9386.4852120112,8112.791286516283,731.5299904469086,1306.55642077651,424.7543415520283,1577.6209859618584,2333.0280464224675,3005.586653069429,2457.3817954197543,6056.096477404564],\"y\":[1352.3103309266794,1877.8915909863358,5602.3020063119775,8797.123856767503,7178.505234738905,9066.171112043481,8230.326287454895,4384.899134653305,6634.877757547684,792.2783728436144,730.4297723066866,3602.4443810865937,4678.381259116393,7039.887737400931,4193.14577106972,9052.928988089358,4593.277877344186,1923.6864699506318,3684.0035469034506,3248.306160492007,3586.110218812124,8666.541720338668,1765.2765828548468,8439.25552250743,8956.893026999454,201.78877414213204,2973.1276741343004,2587.3709924012965,3351.4699891048003,1075.999987362931]}]},{\"name\":\"series 9 (F9)\",\"data\":[{\"name\":\"series 9 (F9)\",\"type\":\"scatter\",\"mode\":\"markers\",\"x\":[4068.579210156603,2569.982986181918,4992.554210822517,7548.2870868126465,8054.5483115697625,3959.9674845365707,242.05472956224105,565.3996960563401,2187.532326395296,6537.335921482617,1364.866378950338,637.5817308012677,1511.3421700723718,6066.36110064432,1944.380964153304,4548.353919400849,9801.62065843033,5811.444272282887,6042.550796581878,1302.0908385801467,9233.705626926363,5766.880969277907,4902.421433449884,8746.465687447395,8572.726797711823,3640.139842310711,6758.621405325304,2902.538401779434,7233.653448639993,9255.2158444661],\"y\":[1151.3779761854537,9193.466211735913,9170.340233455145,3232.0796411363285,9032.207495632518,8483.519326486536,6226.441165341421,1550.1916443438956,3904.504883701063,1122.2857045417022,5317.397370362578,9918.506178313388,7259.833258408723,9034.655140428555,7611.524728907168,5751.343031074822,3650.7988274226686,9305.372096811148,739.5627543904249,988.9573366408366,6883.967950381545,2677.6538863880396,6985.86754793636,6003.590787588736,9021.363748162661,6918.570015670521,1400.7654926032033,3396.240727939873,8146.660296055454,8099.585389269296]}]},{\"name\":\"series 10 (F10)\",\"data\":[{\"name\":\"series 10 (F10)\",\"type\":\"scatter\",\"mode\":\"markers\",\"x\":[3822.409351273639,616.3387210629934,9182.265391779141,2498.8701844702355,7907.804294362927,2025.98061745904,4436.066315981833,8052.683866543454,8446.508686827494,4282.302519223241,7011.687679781927,7066.344362963101,5466.829531959627,3726.055673063041,733.6880039665839,1240.9936143437205,9943.171346718502,841.3804895956379,4819.204332820127,5980.578598282178,1274.5208888317593,4791.2340606964235,170.12839216105635,3414.1657901312983,1127.8770470449028,534.8834506641309,6864.975029913856,2601.9128262651934,1726.7677268839266,2098.322875679027],\"y\":[9197.185120524031,988.7220987091905,9213.818366933507,8195.43199143104,5436.683023137772,3327.8059267846315,4327.668580382205,587.1425291436683,4384.083504746354,3017.096755265651,3308.3621144949993,1317.8347175500992,9742.023267101622,6074.633453066589,1681.658174533197,2282.6380872839327,6345.672634736243,9824.769179463234,2371.547347869072,9456.262182535334,9374.555524243873,6775.232891826586,7451.578599744514,4553.44198251868,8810.389446564624,9135.799613819061,9769.43223063517,8893.02572637236,6610.733218917136,962.5079210363452]}]},{\"name\":\"series 11 (F11)\",\"data\":[{\"name\":\"series 11 (F11)\",\"type\":\"scatter\",\"mode\":\"markers\",\"x\":[6665.505647376027,7802.198380607594,3335.8055827891917,3007.0815360025736,3055.1016400943345,9024.275398494827,4295.922426775675,9.406298632316235,5255.141499055754,5282.963399306949,2679.5711482706884,1391.6208976280254,110.14897429662108,9407.93103033002,8577.22318805402,4095.5806883115843,6208.586787026485,240.99272919862912,8333.565482534319,651.1579218131125,5279.442958732473,8919.154301382807,8240.902986392784,6471.046981220145,2220.3070173930896,8070.229138648046,229.06942831884325,7838.440821528767,1631.9938671380164,958.68011089286],\"y\":[4912.2589776432915,6087.153517498497,7221.10242492894,3683.8034251807508,9120.76839780238,4069.4656063895673,7980.731819977815,1159.3151735402164,875.7188848129172,8165.169433496029,1670.8949847126687,6792.860773692731,4657.40436693195,2805.995735752348,1794.0068811892506,6535.918798472776,3772.993045763384,4772.810977543012,8997.146492131054,289.02258201131457,4646.882448561333,1368.66945277896,1631.625777420469,7524.176973880475,9937.091925666517,9979.013051516156,3061.7182327696514,9425.801600180357,3523.6506963648717,6501.0141452662065]}]},{\"name\":\"series 12 (F12)\",\"data\":[{\"name\":\"series 12 (F12)\",\"type\":\"scatter\",\"mode\":\"markers\",\"x\":[5238.238760142138,6853.483747814267,620.0191221380546,6657.259382162739,9038.985334163055,1994.277538260184,526.160354853723,7304.673258218925,1926.8853998946834,1699.240803957215,7871.953802525042,4507.78774363339,2588.0190776412505,2188.349275382412,592.2243878983758,1366.1639863821395,385.5154407544692,8059.889148540043,9329.736401063465,1368.9765571369617,4701.649293668452,3354.8729855185497,3480.081724601286,2395.473879411483,5539.2953669257095,8803.983881614227,3672.466821515877,2388.230853789509,2115.2179582425133,7324.002536219866],\"y\":[9122.983788324782,196.81287426425388,601.5134567803449,9332.626341404033,1002.0294945463637,4122.676236250789,5657.838870466156,515.0414012816295,9725.111418270348,6291.828067926462,2945.896881979072,7302.564520444757,4906.359378319928,3139.976217517093,1428.9738583057888,9513.119686874414,1606.641208106019,1015.6007997962546,4933.150572257733,5355.275073653101,5463.257514636616,1189.583286097361,2183.1404671550335,1312.0093118916466,2305.766316299961,405.7308981474927,3324.5341602270696,8297.339828693695,4942.572687779058,1514.7370642846236]}]},{\"name\":\"series 13 (F13)\",\"data\":[{\"name\":\"series 13 (F13)\",\"type\":\"scatter\",\"mode\":\"markers\",\"x\":[8805.558970515487,5918.3896754574125,945.4893570466494,3704.8257973487166,3415.28650325263,8677.428256142583,464.5583199243775,3375.522516452938,4261.557606219542,1512.8743936520873,2372.998163390796,4796.707054359274,6520.7111910364,7205.197990247767,372.220181723667,4353.300158481556,4902.543057943971,4863.116132265583,8079.437188558019,3396.641316847623,1947.7370808211092,6957.428806595377,3575.464126405804,2506.819660614542,6511.352030701003,2184.2952747583968,9407.886752707751,4315.916392586405,7084.762872996235,2816.6990927435077],\"y\":[3624.859500514592,2950.3327436653194,4969.793845782071,8142.312954013139,1057.3620815534957,5621.066566742883,1742.6017806834227,87.91865351036043,1772.8291532695484,5924.013706136305,3931.1993823002967,3194.9938145276733,5390.6465047343,9008.068338259978,5379.337168725474,8738.032027879357,5780.07730181677,5927.002960622474,4380.786663335909,1966.6143397667968,553.77008983032,8211.809306336188,8341.901713883759,2204.2010183072293,3725.0711662491985,3983.38437576061,3466.656104150715,7851.070530479645,7914.945174179887,3771.152495786705]}]},{\"name\":\"series 14 (F14)\",\"data\":[{\"name\":\"series 14 (F14)\",\"type\":\"scatter\",\"mode\":\"markers\",\"x\":[757.1916322204574,2215.782621054534,4574.385321982726,7611.41128055244,2484.228775213829,1538.9941376830363,6830.773274140617,4969.900863950784,5205.532027243348,3575.413815039401,9771.724012815219,5566.289468631815,6396.939281894485,3664.131906670194,7247.535206481018,2273.9794350502875,1809.3003599354117,5344.513362863698,2603.431191818759,6926.835263053787,9775.9950489422,4264.300686529522,3145.375846807069,6085.144349518629,6869.526105903708,7378.517669447844,4598.303607897992,6596.315712577047,6542.018305475902,4252.229657783267],\"y\":[2333.1976693902234,131.5345605714835,8683.274867368506,3657.15764817383,719.5187168216288,1787.7869683608149,3391.376523631999,6591.60305417134,602.0744187955063,315.37464597464873,6674.631950489072,6355.094608548126,7606.486401566497,6564.242456901807,9290.020959354266,7373.6147056959635,744.9985361354983,2338.1452868442743,2472.096730485156,7098.223828917578,1624.4442529024373,4003.8822042665856,5917.641358155532,9489.349194562714,9450.771678692146,3923.5311480335413,4065.201101417023,4350.959581419055,5979.599807121955,8060.81768415976]}]},{\"name\":\"series 15 (F15)\",\"data\":[{\"name\":\"series 15 (F15)\",\"type\":\"scatter\",\"mode\":\"markers\",\"x\":[6444.949694305677,4093.299833546544,7579.857543667611,9958.459359179758,6673.163109565664,8379.814519526864,8657.641950534562,9691.522874331074,2526.908531362334,7553.337438854496,1830.0001508242126,1372.5427268084911,6458.39078090958,7738.58533273355,5443.425111147111,4317.346117379268,1894.7117315981986,4082.4398834962494,8299.429849512724,1076.2369277609862,5717.644931959762,3720.457057187466,4779.644796365572,193.39175682221764,1429.3343688400385,6747.500054018736,955.4605773781033,2778.0264848937463,683.6778370944363,1722.339213421432],\"y\":[3722.3139830982277,9754.089944287336,3099.461434918449,2050.5189928662917,516.2989226083826,1000.9534691823108,5570.15661616099,966.7457874668095,6750.855119299628,8505.75934186081,2646.609884563471,5777.499837565811,1753.8714227422258,3118.796800138136,8992.685756795045,6526.53185395833,1690.6162747598064,8536.482829083194,3400.254577520594,310.35507594545095,9725.484318907378,6732.218398350615,1398.7400939157124,97.7984849949376,9505.629701950978,6213.603248309894,105.77273722805924,6097.1381837321815,7942.131958766092,8205.188755928893]}]},{\"name\":\"series 16 (F16)\",\"data\":[{\"name\":\"series 16 (F16)\",\"type\":\"scatter\",\"mode\":\"markers\",\"x\":[4639.323033376005,8466.279711937459,7219.420227149131,6139.154902081559,148.01636724289912,2475.913728358635,3981.2593498604674,682.001547638823,7315.158883535847,1112.5235564374236,5721.677634823403,5933.5411889841325,2053.3302994946835,5547.57663279555,551.7978133485913,2405.193052259329,2030.2354973469817,901.1790352326688,6718.60709652739,8917.772228998449,3652.821068723451,3292.935651815729,2519.282741597305,8654.676379482584,3185.5070572926825,4299.701974567924,5584.768007489168,4264.574727464315,4789.696596860792,629.3706369187024],\"y\":[2898.867268721893,3128.404409237121,6445.570300045146,71.79265636310106,9374.215058616765,6688.6863640369675,1953.4837443557085,9602.377673746558,3324.0428691952407,7084.873599426624,3511.128856060849,7890.878355504917,1748.7531737145534,246.64688125508593,4723.939316361669,2407.3154680162334,6998.882407250323,7067.781004341636,8330.052667983247,818.9495435536098,9081.119022040222,3316.399127673726,6407.465380582572,7436.663413014222,4641.613746472143,4533.147181277534,3379.8524529853225,8096.06840617583,4490.902747654565,4327.011708640697]}]},{\"name\":\"series 17 (F17)\",\"data\":[{\"name\":\"series 17 (F17)\",\"type\":\"scatter\",\"mode\":\"markers\",\"x\":[3748.842324025694,1048.1050872080311,6427.341304948095,3199.2175511334663,7154.374757311045,7185.856288927116,9071.020614036948,308.8373192336258,3101.090728976722,248.74977568872137,5437.723739878721,2439.454070961691,6487.534662421811,6522.276110991796,2062.5510878316554,2834.4162517678496,2936.277954136548,3990.8036033304784,625.4232843726604,7538.930901829127,9846.897427953993,2903.0218004275775,4235.750946156618,8420.441760095593,5080.076999462078,3274.0038419570296,9801.13737901936,134.4452594083212,229.91949987694272,9974.824457529166],\"y\":[1235.056108230078,2961.0953574962596,9552.894211202942,2750.128351929896,5651.0264073298185,4658.657056153783,8795.664862923333,6755.993483840041,6145.887724554461,2263.0680598260324,400.376907449258,9024.892155826356,292.3489972027871,9108.569640068035,2864.807389198616,7641.498136595836,3041.071279151013,3252.578407441451,2396.1123397817396,3352.5461593601567,6375.117728931225,958.6624821984768,4420.730468175705,7835.907522610985,5764.681862009694,2924.6999248038687,999.3331691586005,8918.485025323847,5237.588574551588,1538.9913216190744]}]},{\"name\":\"series 18 (F18)\",\"data\":[{\"name\":\"series 18 (F18)\",\"type\":\"scatter\",\"mode\":\"markers\",\"x\":[7744.539412859045,659.4993342694988,8711.13059431107,4605.309670843339,450.4384129389605,5405.183164513502,5123.395195417203,4698.565502450894,7316.796511713855,5672.849902707694,8857.299626637632,3595.974636808158,7387.146307775916,6036.768606129505,4968.141348292503,8074.317341123225,9618.792358499577,9065.21683942521,805.5452375854455,6772.080119592215,9864.087076703488,4797.544398388442,1763.2640914713015,7785.972885900285,4966.165788294902,252.03093923146568,9095.374590348412,3204.522564213417,4158.653460760947,4019.775273960989],\"y\":[2004.9793275823479,9877.140620508795,8007.685828335978,1126.804517944572,4541.613215994449,5375.2713759643975,4245.91633292643,5036.048411406988,236.12364118403727,4322.926654327543,8022.0056822752085,6912.772336209194,3856.874219929708,3057.116756984929,1325.4213920582447,7091.52163138005,188.7037442940931,9924.392429433587,2645.203870115772,59.576082646494164,4316.141288381134,4427.9138047242905,3282.67775638865,2211.3731486850884,6534.96681740387,910.164604553313,1161.924554086028,1130.3061090110623,7721.278056015405,1489.6371703282252]}]},{\"name\":\"series 19 (F19)\",\"data\":[{\"name\":\"series 19 (F19)\",\"type\":\"scatter\",\"mode\":\"markers\",\"x\":[6468.151399530424,6218.761823118589,7754.802984617249,8565.510538509769,5992.927031808331,3124.21027298084,423.2786682393974,9362.555992878057,4676.576409209439,8598.614935901429,3127.294179039283,3709.1935780686745,3511.861418915424,8180.386635993045,8660.06785246925,1524.8458662082298,2709.395894096419,6402.552211116653,9354.22041353713,8338.417027920359,7824.078192788949,8107.76830713012,967.6658534538262,5567.945840596294,4403.144997410475,9890.25975620074,4823.337638492626,7262.1737644148325,3640.2875019861367,2686.715168811984],\"y\":[1922.5313898170382,6537.976396487724,7506.588960254699,102.62852685943513,2019.23633902391,3043.3098492466347,6877.879861836954,2187.525171141164,3972.8921009461505,7433.527212113464,289.4290658854082,1061.9659985677122,1089.5988530915101,69.61739107309572,4122.719893946823,3051.1761308609575,6616.877951070534,8930.133418877425,7265.387843253421,1794.5964695887594,74.66165723991392,6074.267767977477,4584.22569866265,8177.612286395159,4685.268475268269,2901.7446215176346,3912.4864355247514,5871.161732409623,9807.699483802926,1925.8982980922813]}]},{\"name\":\"series 20 (F20)\",\"data\":[{\"name\":\"series 20 (F20)\",\"type\":\"scatter\",\"mode\":\"markers\",\"x\":[676.5485729753607,5766.886917458501,9986.666577530268,6809.507090551826,2773.328417645541,8659.933887743924,3994.343700305734,3008.665333939328,5858.662012132153,3158.473269049603,3072.9120752993067,8528.164968633084,5818.198125781226,4988.453155586339,7478.5429487010615,8012.574856145112,866.175974030372,4614.059037123295,4382.546583026524,3680.398737657943,453.79232754891643,2408.804916160893,8202.985851247144,3454.4037656054816,1967.6848231255917,4489.131961888309,6520.142854656994,49.408501886133436,9060.391135204622,7761.845184463221],\"y\":[871.7904279036304,4749.525557461365,7378.46768964062,9738.673797683992,1929.3112951740122,6140.058769292409,4440.286171140427,7235.689272779531,2823.2789144660264,7154.950819244723,464.3460100235153,8202.272813085245,2717.194004398866,3458.8935530083654,6060.27509160291,2613.7758996204443,5120.647618203843,2403.896609085535,868.5176549935825,1613.967545335151,1888.263310006697,4583.337655510824,4471.035188075693,8907.819785818905,4368.344018217887,9352.195975902834,7194.175167838275,4782.1342724345,7745.232098217162,1590.3939259901522]}]},{\"name\":\"series 21 (F21)\",\"data\":[{\"name\":\"series 21 (F21)\",\"type\":\"scatter\",\"mode\":\"markers\",\"x\":[3786.1910581960788,1070.9623885271535,3261.9654411476686,9456.8617519764,7375.724166538682,4884.731746551545,5714.892675603081,1915.150192886742,4603.88615992221,9986.437166623182,379.4898058108087,407.11565630473734,5371.41159305491,7325.21393844764,4356.6933331209475,1209.4087167670532,2253.671974222059,427.05925177913275,2221.652543888014,3728.195572547207,5310.178894773565,7094.424858122759,4811.868228219371,5270.750002882275,7751.526452645787,6180.853310998813,3009.2808607877587,4678.253604577898,6725.550193977655,7083.78731896362],\"y\":[5450.929979646775,5612.343893086858,1345.8161456050377,38.13044345226668,245.39996534485797,5258.658294989725,7009.36956176567,7295.096804871977,5977.340069273754,5743.819254919294,1037.0122721104135,8835.329611048144,6549.919824783892,3658.011597919588,9718.19931492529,1392.2371505332098,7745.168904243031,7733.507348190785,953.9740092035909,6250.932284903402,774.7198303164793,5950.194364062126,9865.192483612995,9540.124798460218,9548.555641873398,1122.3683242390248,6969.612316573382,8548.766328691729,3906.9400043091487,8366.753536946062]}]},{\"name\":\"series 22 (F22)\",\"data\":[{\"name\":\"series 22 (F22)\",\"type\":\"scatter\",\"mode\":\"markers\",\"x\":[9830.250697792782,8976.19826846692,640.7850695544237,8759.915863686929,9438.74586095864,964.009514663775,7768.293675699233,963.9414655794576,2021.280863802709,6259.763850037338,5240.788140285456,6632.450227427409,5440.9616852750905,4927.20548957092,7018.212564275505,6004.722097159771,6919.363294612718,7644.511247518104,5284.884722694356,7253.914652168203,5411.293304656058,8821.60519398885,7468.637188844221,6876.054380449223,7640.643100520591,6519.508325955255,681.5764327882323,8689.685588775297,1541.5293958847988,7469.145881720454],\"y\":[6218.265551554051,5861.767569005593,4647.757727366899,9363.99204026439,8827.203710429047,3783.609852103795,7834.963005693621,8040.380370245258,1614.0729388947684,1591.3394254211587,6743.614013637684,4161.265068084084,7640.279850663745,6658.601788257965,4197.398244203595,2583.669488458773,3547.9140780096254,9484.889855091566,6980.324896820971,7717.011280193963,8872.315184326317,6061.112559393857,9447.221930288415,9868.948788047062,7096.020414330474,1014.7031313356913,4616.1205559961145,827.3423255620871,952.941957373048,7619.783385407523]}]},{\"name\":\"series 23 (F23)\",\"data\":[{\"name\":\"series 23 (F23)\",\"type\":\"scatter\",\"mode\":\"markers\",\"x\":[627.3569316188255,1741.3833043037707,5009.205909843971,103.59161291733199,6753.04583465565,2741.888837432128,3127.153475897414,9588.596407244146,8501.906826839542,1680.2226993336067,7061.593904480455,7480.411508086568,5788.256421058634,8867.247270916274,5142.4702269542495,9144.835383700141,1620.3054288854123,5758.16960487405,6765.676130253891,6313.04529982515,1311.7252575861505,8156.097294114644,9243.84661664544,8812.167427761951,3831.784447673242,8696.571635034132,8461.517091196707,4939.162951035731,7583.1730720082605,9127.298582558786],\"y\":[3734.1263417310024,5079.160006010344,2632.970819519278,211.75294092011242,287.9170593862912,5015.072257528299,221.0363647782121,5962.282460540691,9857.865177118412,3783.5452266978077,8231.426012943293,9347.793616778496,1043.346080543117,5902.974565362998,8236.280412269709,8623.05059188615,6266.328971976623,9332.543628371102,5707.939359749903,6991.07558634106,1444.459333770811,8616.93420874592,43.87874120587498,3437.091767891337,7821.480495927015,7329.55897310589,5160.391818867386,9261.8988831598,2790.009144644594,5147.878406577678]}]},{\"name\":\"series 24 (F24)\",\"data\":[{\"name\":\"series 24 (F24)\",\"type\":\"scatter\",\"mode\":\"markers\",\"x\":[4584.760897248683,3094.530261580146,7996.770006109312,2677.5590129403513,7211.996335875972,6978.489561319616,8537.965411828704,1487.9366444036446,1191.049739480038,7502.818658646332,6632.537290616007,7729.452914010847,3766.731727246513,8888.705609008306,6803.655052563454,5174.43307611595,4327.396416736808,9444.286473569591,7303.842964819778,7555.777848284906,6394.782436203385,8864.757109442651,4286.736474033484,673.8461130567786,1841.2261363981397,1481.8578337986544,1058.5377446629018,1900.0075980629972,7230.794160192595,9756.249629333377],\"y\":[4634.816919243031,8426.045233100174,7854.707724464745,3058.2515521473088,5783.383375613842,5891.796800731456,9767.760602595363,9096.86700488198,6751.530706066546,5869.119102856051,3931.260162034288,9233.973070500311,2956.038486214171,4088.470922223184,9429.35112515074,4360.004219125731,1056.8861335946667,1265.1061631607563,4649.4058932629005,5009.415692794448,6040.721331287443,4915.076406232376,6303.495671314623,7958.661548734835,4207.695423659381,3646.942888584952,6216.787293666639,1676.3779826684488,7285.360533064844,5073.303099296644]}]},{\"name\":\"series 25 (F25)\",\"data\":[{\"name\":\"series 25 (F25)\",\"type\":\"scatter\",\"mode\":\"markers\",\"x\":[4920.033682280682,4684.915516955476,5285.901059593858,4706.938263419933,9257.15601934708,4144.314520229658,2178.0486910256436,5989.590940101202,8455.246728651828,6784.276266180767,8962.609686361096,947.0902064138287,9403.14723015232,686.6292030111132,3320.6104902479174,6872.73398169395,7246.080312889022,4360.246663325944,3645.6464125662424,6911.555690468433,1827.6544423278617,9052.32672094501,7977.096230259857,1451.2932134254897,3996.8722558461054,1304.3925279723921,5118.442094097038,2821.585744713956,8346.615141023496,5388.331464932031],\"y\":[6055.015905960022,7961.132517901609,561.3982634180314,9447.238774916192,8678.066365401446,2433.2383517711487,8226.01821434492,4917.788083222194,7777.124539079402,4453.388708221612,3683.0467966989477,6125.303170765791,5280.218625617882,9438.184674449016,6325.949374286429,5819.65659597117,2801.571731085315,3993.188565179746,9575.936896415595,2859.580186544469,9698.989373038059,3227.9152916940902,4714.485551727653,254.9138234961601,5048.227700621904,6819.425235313387,9729.790861515012,5340.78821056414,1209.2044676469304,7341.66463475428]}]},{\"name\":\"series 26 (F26)\",\"data\":[{\"name\":\"series 26 (F26)\",\"type\":\"scatter\",\"mode\":\"markers\",\"x\":[6384.247650802337,8984.673070019799,9988.999446939508,9035.907878050726,2821.37386805011,7416.6907408810175,9799.165385771967,6418.363060088087,2204.4310689781787,8525.536426129349,3659.9480358090077,9904.1940171152,115.31384385241927,4276.806833256445,3421.5970780107796,9972.92931105838,4741.118078243535,2287.4897690945572,5153.0201278327295,2308.4199000496874,4237.113759641352,2529.819114253419,4290.616717986758,3817.2167537492364,5078.692144292233,9639.65474976559,6845.205863235125,3462.4415247673946,3701.1683854606235,7368.998286176614],\"y\":[4732.5342825494645,2445.9253193811605,1275.1620788984276,9349.210601909257,9122.93748964352,5429.595602022173,8076.598939689849,9520.94937874839,5598.300113614604,8207.791868110955,9584.208428274711,6338.79581587399,8859.538388250528,7525.396912501279,1173.717157981319,7172.997854664733,2745.4106257777435,5582.371130208945,2076.769454842776,3207.7043750869593,3403.5363633277925,5173.481550950747,2133.932432887392,574.5241766848375,9597.082168995976,1382.7201629172891,6794.972186169889,462.1892049769749,4335.654501267152,2285.109759321562]}]},{\"name\":\"series 27 (F27)\",\"data\":[{\"name\":\"series 27 (F27)\",\"type\":\"scatter\",\"mode\":\"markers\",\"x\":[6805.913328011097,9507.563378776422,6286.511139511655,4204.2984044762325,9071.227006087554,1900.183435007231,7752.290707404066,6732.542833235806,4290.815850846678,6321.97728039496,8394.026697527908,8940.396487139456,5145.29431648369,4095.7539860567163,333.29959932841825,986.6011727442359,6039.392842880701,9730.516258947951,784.9538122810385,4684.405816159628,1712.1382430117872,1428.5980093285089,2951.8870453736777,2488.7220594937744,7383.795455510175,7059.080231179204,4555.994855664643,6839.240362931683,7533.379414981282,603.897359576051],\"y\":[6084.434081727584,827.8265409563878,3886.878760668294,5147.492852797796,7597.945900428652,6754.226330059499,5745.156800783593,1107.8406602501434,3778.0574421172764,1292.307372821091,7391.8253704407,2596.1005987434514,1782.5575087300438,4709.767932783822,7995.215919030283,544.1274728054968,5433.723955052687,6867.452243077916,9154.898891045446,8553.509913849144,2281.353559355219,4570.105476077732,4042.031097077823,6296.765692391504,7162.727607203049,3248.614750436256,9944.13966984926,5740.773723763615,7024.22125215207,924.4767285623434]}]},{\"name\":\"series 28 (F28)\",\"data\":[{\"name\":\"series 28 (F28)\",\"type\":\"scatter\",\"mode\":\"markers\",\"x\":[2948.7773834818554,7464.476905683491,6974.344516233556,3940.443262787099,9486.815629368746,7907.342209528181,6805.582783253666,2036.9929296716205,4504.963436839958,3512.018821422359,552.4761762989749,5012.483779136017,148.43938033044068,4414.0863789556815,9045.964586346441,4425.544678049986,2008.5370487580667,8583.74017997111,6879.095399957365,1581.4652070829204,2226.1676114880092,7138.712094920754,716.7726219080117,7390.047025954792,41.27916825371947,2924.680158182602,5462.305990252965,590.5838498276938,739.3898504511698,7398.872125133828],\"y\":[8436.089386150108,8310.339400176385,3370.293391465532,5354.522534986453,9426.82900210948,6956.096185329959,6100.32534993946,3088.292308886097,6243.302984236907,2034.050493811701,5608.41028575492,3239.720433785487,1224.7292344860316,2651.533825875667,3547.433480081872,8721.221267982997,4060.3828219271286,174.74143972414203,8766.310904366275,8909.101683552246,224.1917576989638,799.8536894864739,8724.458243820667,3580.5202788941015,2347.61203669281,8640.640166740468,7329.1910213999945,3958.26845404763,3934.164576053354,9343.834514709779]}]},{\"name\":\"series 29 (F29)\",\"data\":[{\"name\":\"series 29 (F29)\",\"type\":\"scatter\",\"mode\":\"markers\",\"x\":[9287.911625488094,5664.70087069181,961.592191038555,4214.278982818772,2990.7703687587505,5388.102771674035,7122.676559635193,1365.0329737428,4925.814079934348,1629.2265422893227,2723.328337417429,3503.3480627208646,8677.465201071758,22.691794902536255,5586.645776832576,1621.6128251085581,670.5014171296908,5417.389218288332,4704.213032205361,83.07636288246489,2995.5336111580255,6151.984530292263,3830.98892605881,1375.3573060990786,888.3113977300284,776.0737822088525,2737.714502403751,8150.455397729373,8734.006930144345,3844.4906642918463],\"y\":[8414.844837577406,6078.179621814026,3828.9639883946625,5351.721827952294,7164.589256165711,3510.6137493485044,1556.220285583525,7875.3390777997965,1222.725351605065,2988.442103539086,9117.444494526184,6561.809681903715,319.423819274991,5215.659607407131,7512.753640031826,9715.002024807862,9418.405127982327,8287.398371751668,3071.206126924425,1937.1499738792154,8766.325218120754,3676.300179804681,508.59675596015006,7524.003212656531,1339.3633210589296,5766.069896062127,9225.500847495421,9130.331883830231,5791.567946035303,3566.552663247218]}]},{\"name\":\"series 30 (F30)\",\"data\":[{\"name\":\"series 30 (F30)\",\"type\":\"scatter\",\"mode\":\"markers\",\"x\":[3357.351123091492,5598.918372929908,89.58949464745069,1652.8686796748625,3949.653336873743,3285.611950213865,2161.011147579263,2341.8583709437944,8555.277898196626,7214.983356769463,9088.56559310517,2652.279919369076,9537.090132848833,1965.565575052033,5650.100090634805,7690.912694958033,7408.011524457282,7310.619312209392,6334.238951100927,6764.918827275148,9651.9352806808,329.81669952402814,2354.261265048878,9741.523170966375,8642.741300400447,3959.191839958216,6637.795103388896,8959.267940360036,4514.98730091114,1761.1527303771957],\"y\":[5287.507487367027,6340.808546473767,138.68421629752768,73.31226961904247,3588.04560066343,6265.4151388678965,5711.885910027406,1634.3404773668224,8277.062573917163,2230.0511947440514,9908.653637711996,9286.996537162817,5503.24324360142,9361.099817216471,3006.2870993833903,4422.95532291052,5661.818310999383,5434.515700990005,4964.538585921572,2460.9907742224377,2128.1359923585987,220.3804995554315,8040.852698053871,6839.534690302434,802.4385743534368,6688.544398458364,9199.509892310098,3756.582293771766,1334.0714420855836,7895.238123515599]}]},{\"name\":\"series 31 (F31)\",\"data\":[{\"name\":\"series 31 (F31)\",\"type\":\"scatter\",\"mode\":\"markers\",\"x\":[2308.8713113919302,2204.37004332934,8910.920271921867,216.24558668124737,3919.758514217806,7723.200388891588,7579.9684116423205,7000.426123686878,9279.32145483369,3738.247962093291,2207.424397458513,6688.083793918938,7158.585493094791,1345.1261507271918,6391.962693199329,5971.87937768539,3058.188782829456,6974.455496458355,7912.192009901035,1673.686698478416,405.6515991611997,7492.620267193848,1619.5431373753843,4668.996797132192,8468.851883230629,3985.3590753274348,2080.3532851564933,5411.179188519657,3884.200406471887,8722.782867634169],\"y\":[4725.989517442597,3391.1062736427743,9934.347121401042,4618.872545695709,4787.446913910268,2213.3592495398757,4009.0687285477566,2875.456088617202,7870.923653382729,7878.428177760036,9044.32588679499,2440.123843204112,4673.457917601548,331.0274257464818,9158.29465669861,4409.485288728408,5042.789784179888,7367.8493246795915,3189.5177810086916,5573.636240668428,3353.1898895769473,5593.781042735999,2391.137354717168,7924.645787744226,7999.071124279279,5273.815930602096,146.50930025129182,5141.333154766774,2700.7823412687158,4648.587247369725]}]},{\"name\":\"series 32 (F32)\",\"data\":[{\"name\":\"series 32 (F32)\",\"type\":\"scatter\",\"mode\":\"markers\",\"x\":[2245.3192245981013,2814.5554538829633,6272.059710184219,4564.66440260139,5995.654158945393,6491.681339773951,516.1856586362156,6116.4468718272465,5246.306608618515,495.87695978766,2997.9913159985117,2404.697666279301,6254.924583885791,915.2846522750901,2581.4074034551536,487.4623581647153,6261.436438684057,8159.129509392007,827.3553168231895,1132.3205841836502,2612.5196511606055,8042.239415950998,1614.340453036508,2074.619887713849,5331.705519817722,5486.418103155944,4674.194780587605,5144.548502253837,141.0376855834805,1616.5663270824116],\"y\":[6127.987979558319,8846.601112316943,2114.034254538102,3281.3942578632973,562.2089769038729,5758.200167590564,2376.0318495791043,3843.0288122784928,4702.895539074885,8459.935600309334,1566.8135228828917,5456.761687391967,2325.468144600796,8618.087341180499,4141.755717753306,6001.6524065477515,3680.6034087413695,1310.8054454368755,7011.553751887602,8324.636464806435,421.55769841528246,722.5137644828128,4506.915803421592,5525.2567768502595,8785.933689149295,3926.817994497265,9203.442728606886,3635.078971979222,9614.95866175934,6636.396921095427]}]},{\"name\":\"series 33 (F33)\",\"data\":[{\"name\":\"series 33 (F33)\",\"type\":\"scatter\",\"mode\":\"markers\",\"x\":[4753.23880190287,2235.312351546117,3685.920020398723,8519.054342096677,2543.6275397039685,4308.10440037626,4788.483368685812,5962.324134820838,8739.672081474147,8931.435341547442,993.1983776103126,7014.709771827948,2066.033673700687,4304.489183718571,6640.571508337398,6639.855476773878,5545.0230261245715,4029.83229402495,3721.665974939168,390.6384861275647,7331.531379001408,6580.682733858482,1526.2665235775942,1143.3861404383738,6771.856431556857,6446.007889970592,7702.224732136919,6628.112322112557,1862.2638784052758,5573.138954856291],\"y\":[2199.6788526984155,5148.881874902141,3394.4568251731775,5417.047797019592,7966.419238450403,3109.1088503926158,9248.949097841944,3157.378769240782,8715.751630060999,739.7973784624479,9533.672154778718,458.7890222346258,4605.783507234973,1774.440565815284,9563.967349376908,9527.096417805966,1249.141816569036,8722.492956464946,3041.4492185128906,9153.191140877425,6114.707424646308,7864.036171296985,2213.048190843495,2938.6224805609795,9088.025595802817,7121.460761178503,5277.8743750149315,2961.218238167318,724.6371112829441,5559.6893144822525]}]},{\"name\":\"series 34 (F34)\",\"data\":[{\"name\":\"series 34 (F34)\",\"type\":\"scatter\",\"mode\":\"markers\",\"x\":[3858.367784560559,4766.05585864488,2560.6457005796146,5424.672266784444,4963.531172932615,3756.549335894581,8737.420323660801,6350.584213761967,2545.869902987107,8812.37729229423,7152.40823916944,6649.361203009055,3489.9880662517603,6275.423043068744,1365.6094007584118,8441.912564817507,1669.6237664180603,6321.85628214619,1571.3460153797232,1798.552780914019,1571.2288231307336,4177.935469068439,4087.5356392289295,8026.894516982906,9906.030146938861,639.0654045753353,4019.7559862436983,3778.6535088794217,9618.83737910734,9916.098107048434],\"y\":[5024.965888884084,5742.514161784149,5750.687657144406,7959.812323724954,3429.828522078301,348.411612730134,6723.749816868074,1103.9725654020272,1351.155624575211,4129.284632627746,7790.734457636108,3119.304459506552,4921.07663418704,8169.56362463892,5627.387682138754,8585.193548900263,9237.108317501026,4415.352885468662,4345.474396076174,1862.8563907109108,1237.3806743052373,2529.476782228036,3564.981667101993,3893.189591231316,5343.857671747266,3445.2582908542486,8608.103780388354,3544.4556230566436,4421.458980743106,9806.101833927203]}]},{\"name\":\"series 35 (F35)\",\"data\":[{\"name\":\"series 35 (F35)\",\"type\":\"scatter\",\"mode\":\"markers\",\"x\":[1363.901435522471,6299.419124543433,368.58038841948047,4073.6578638891065,7921.34623426231,698.4949386744698,4484.577218609226,2245.5473076200183,5679.802632642217,2144.9301211160464,7652.356991749596,4844.328015686561,8319.814594265716,4429.987627405404,4329.311880958896,7122.5887210496085,1753.4039483004249,1650.5579870360366,2357.387708985276,7274.7587075897345,7971.906477157342,7068.576275102674,2683.1754083377023,4854.424759591077,6570.70564886907,901.0737427998728,9221.481907018146,1566.6502642569235,5654.049570978812,6031.648801612359],\"y\":[9300.919213128629,3137.993080297651,4809.464309103957,9198.59426499213,9397.628003054157,4062.625970179459,2890.1081213956827,5341.871306035468,9193.326163992395,6681.158438380366,2454.7340419154084,4480.569231664381,9386.460489636951,2269.4734624415446,888.7624200345823,3744.4552117425433,5140.304271955185,4598.084081394645,5466.2875415479075,1997.6536398384726,7569.435089146876,5768.225883621916,5911.674777943819,869.4661080751742,246.09514509019047,39.10201302003924,3380.730292910936,3946.7819533685424,6350.522047069747,3831.397968315168]}]},{\"name\":\"series 36 (F36)\",\"data\":[{\"name\":\"series 36 (F36)\",\"type\":\"scatter\",\"mode\":\"markers\",\"x\":[9205.25431246485,5384.490067571925,4794.40858081813,9125.392401154235,231.11850583550475,254.75476124252938,414.23595523281455,3067.686462550666,128.83246602007682,1582.9686354491746,4161.29723530219,8758.783783399882,7666.896436678615,3207.6508008078563,4107.808463517545,914.4495280462628,3612.0631497263034,3353.514917413145,7043.582366433495,5376.9887405079035,7656.960601312084,1121.3753005078852,3455.3195145318205,3298.2768402547013,5574.356375601272,6975.525017271602,5760.644217353563,9224.587808442904,4658.669000609583,8748.660700363449],\"y\":[811.5999417563402,7283.963318506401,2439.1648582080416,6686.3938976602685,2887.388260527246,1210.0702646641005,9635.60427807864,4617.828544117696,2663.7166698052174,2032.1982717123178,3375.9274576156604,9465.651927009201,976.2028809693602,1919.2498491995846,806.9034918275908,7998.6262915985735,3587.8526867633454,3886.2828234247504,6402.488422980225,7981.331260569953,4625.715918842449,4855.362342473793,8510.969753507776,690.453582164241,1869.3959329669385,3908.1885173068986,1980.8032376647323,3143.8783931345984,6654.168555755267,8476.163283983444]}]},{\"name\":\"series 37 (F37)\",\"data\":[{\"name\":\"series 37 (F37)\",\"type\":\"scatter\",\"mode\":\"markers\",\"x\":[4066.373722555172,1328.286854908337,4794.048605637568,8684.269296256765,238.74145703416727,212.920168622287,2635.212102334301,4098.331636194706,5012.762220028501,2401.6179740775046,4117.768565044506,7720.938489637523,450.8014376635128,4902.201893844383,553.9486300895124,9239.499540402023,1614.582769931907,2681.7168829651796,4723.358141401808,3250.625162528321,3910.5496587751386,8428.004618106448,4841.019440524683,8468.212255287795,2010.438724616006,252.53266813533236,1971.5080793672212,768.3209399069734,3827.594542754258,2946.356724185236],\"y\":[6542.560004833591,6332.13954251046,5890.886389848619,3840.545366920173,5754.115272110615,1119.0292009869463,8381.909487215637,1324.3535233556913,3883.8306570445725,9434.843558635643,9087.487688561907,2638.879100249387,1757.6807552203288,7456.431705427784,5568.317921196732,7690.893667012617,9984.337576135416,7231.419674860513,3955.9292573265593,7320.991024423306,2944.6051968048246,2893.0831310310814,963.9510001310591,7712.148228230371,6982.25445756822,3613.3219148627704,2936.021887088818,7439.249142579149,6760.190812749617,7162.444784845036]}]},{\"name\":\"series 38 (F38)\",\"data\":[{\"name\":\"series 38 (F38)\",\"type\":\"scatter\",\"mode\":\"markers\",\"x\":[2051.49082668281,37.0737244968522,8325.958143167425,3852.6865264979647,5171.393064866094,2903.7078815273153,6073.164782818507,3113.073853248356,5231.0146549739,2858.281135169033,3490.4928566216618,3976.4632170081804,8571.682728140886,9736.398274502973,4357.535257227474,6355.277441279802,4153.247973395441,2033.5737495082328,1876.7725137364566,2140.669132087727,2200.0581923984155,2796.4432201318136,8123.594060804759,3880.5445630344902,507.04184902905513,9713.467761487527,5151.333445038466,4075.0792062882056,6368.857543983798,671.3095172546424],\"y\":[2105.8741296274543,9974.070027258993,893.8866757009389,4920.004200398545,9784.454524944726,7168.659694964104,326.17663916031825,429.51034965932223,5215.882567276476,240.68062325154017,5922.274653956051,22.170807315851082,4044.450712104014,266.0658913161118,9916.209821108496,2430.071633998261,7767.41102260674,7064.477774716813,154.7230704695235,9553.239540719685,6205.959006780629,8745.507933006844,96.15867618362417,7884.071062062592,2982.246287831143,2322.5075882222313,4040.271077711726,315.337650783043,3230.0230534050734,6948.304286295877]}]},{\"name\":\"series 39 (F39)\",\"data\":[{\"name\":\"series 39 (F39)\",\"type\":\"scatter\",\"mode\":\"markers\",\"x\":[9692.52065480503,4363.568540603458,8284.08646959971,5672.773730503942,1465.2637550175796,4216.561954431588,1673.794723609683,2530.429419871989,8279.570611696034,6953.232315017374,4388.477957774461,9236.900857519775,9055.232203068863,7785.949258793332,5087.660770518876,9806.373840719172,7562.844781167837,5239.9822368009045,2696.5859206561527,1997.7666372005476,5860.68814680588,4811.61636494274,4657.608791792694,1655.6239727698253,2150.4462771366484,8835.95453559744,4000.609453544136,9732.408971209916,4559.639787120455,1047.381183945837],\"y\":[2350.646329140398,2062.0781880365125,7094.976343655035,6630.10739507295,4008.6565680770623,8800.528469320916,7809.644321608595,2433.1783226051807,8321.082796948605,3856.708631644086,2088.910818175812,7463.7735560885985,3696.8870944976593,4608.888534888442,5882.209313658615,774.5797023358236,6835.48844026978,8733.783734843239,4696.229982137214,2425.4787248665175,4996.740546934424,8071.937063833529,4212.355871461475,3326.735729239464,7474.1432185652075,9110.961876991147,7503.11641821026,1460.3332762152888,4825.059035500245,5888.95189210126]}]},{\"name\":\"series 40 (F40)\",\"data\":[{\"name\":\"series 40 (F40)\",\"type\":\"scatter\",\"mode\":\"markers\",\"x\":[1996.153655550733,5228.0470572672775,866.7867607102175,3903.5704200280406,6570.532252546694,9489.311633668873,2964.9175814350247,2958.0298961888598,5469.043731196937,6228.880301870283,720.4829582080619,2783.3807999527403,1071.4903268626208,9733.733000587466,1804.975867899996,7747.227767664436,1997.759358769642,5660.64124780058,6397.411012672433,5992.19486740149,6495.827176923359,4440.253577243047,8445.161920005696,3943.169970430397,3618.658279700279,2090.514512619779,2800.3959829844084,9280.551150176392,6305.297056130374,5701.685204536824],\"y\":[2176.5025662451453,4197.433615285534,1155.2769636881133,6607.188052455342,6823.991020712845,6041.867198403219,9421.79301813066,1568.9498988190564,2842.9105043619197,4291.025686034007,2547.924472601827,1182.868565834726,2128.9239666749504,1212.3285478100465,3431.5112424114413,5149.486932092037,8092.7436433885505,8537.261383119736,1528.1209677951258,6056.9053625741835,6497.720273708657,4006.83785410332,5887.87154584045,6887.42065546799,27.94527828624549,9743.3613287144,5270.700676957293,2586.331808290138,8529.315897109009,9061.334361403737]}]},{\"name\":\"series 41 (F41)\",\"data\":[{\"name\":\"series 41 (F41)\",\"type\":\"scatter\",\"mode\":\"markers\",\"x\":[8596.00333507474,2720.804155540738,4258.581588485206,9551.074536592434,2156.385613815791,508.6394528184279,2930.471745271137,8051.7998654217545,2261.6118054434355,3311.251039362225,6870.58613434364,7476.642581041222,3277.6481531782765,1062.0952197080114,6161.801022312068,6360.26140884095,1387.0384841047423,2041.2667868982749,7314.525831167989,9470.418946191443,3820.67031925307,9908.915051440876,6696.225749079699,1858.1017286884016,1797.3233979962467,1974.5935312765716,7723.198149318255,9316.451464929358,2956.2148349974136,6306.607293271221],\"y\":[6647.671186617999,5376.99462220027,5679.0879562678,4474.878588114164,1665.8760316977227,8692.345479560508,3372.219739240244,7472.796602632418,4027.8113937586977,4937.772898200507,1515.045008152176,4677.982903917473,7847.009159563885,4209.716303938855,4080.9296076720725,9588.842486568676,7388.680081832369,8307.543323786029,8796.952409247959,1513.2374351620947,6757.19694037274,2255.5449684463315,2633.3748119196766,9387.563030622518,7108.958433547269,955.3628643530099,9899.822592140137,2468.9638515628276,784.2429661803795,4954.75230954196]}]},{\"name\":\"series 42 (F42)\",\"data\":[{\"name\":\"series 42 (F42)\",\"type\":\"scatter\",\"mode\":\"markers\",\"x\":[5374.011778292362,2770.3802313149804,81.75129231396517,8976.784889810582,4000.1972472696934,5797.569586797956,792.1063908198734,3074.2966680862205,6868.337394051062,9399.19384486514,7061.664804674471,9057.591656673363,421.3037077969728,5355.530575460178,4675.5612409760015,4189.117038188156,2136.289852234778,4708.300387803288,4429.0004238867905,47.0224094313576,1287.9025168991643,5773.575201271092,5898.374713533346,6930.227005286696,7824.2464751924,3281.6693430249943,4628.873067411352,3210.813038359576,5873.640908601533,8152.379442570365],\"y\":[2522.820913244114,4635.275578266644,948.4353527085809,40.88672493524514,2043.0703480070233,734.3549235324431,1523.7225001465881,8979.088304738416,9738.337730329911,4221.884650163349,6342.567535075624,8189.081559002782,3552.462682839913,4546.29106287369,8535.708746564698,7459.974047104384,1397.143237558074,8604.080160831996,6442.508181621959,5356.145652891233,5547.777549528195,32.85793357064249,8881.260294781972,8964.546368504014,8564.621914109948,3472.1234923858647,9540.794224613017,1890.5596067839758,1646.5517913454596,1713.2872358759166]}]},{\"name\":\"series 43 (F43)\",\"data\":[{\"name\":\"series 43 (F43)\",\"type\":\"scatter\",\"mode\":\"markers\",\"x\":[1151.6350545275989,4776.42245133603,5592.294170055312,1756.061437378198,5143.814490343529,7743.1377497492895,7874.071440709733,446.57976842152004,6609.753284044864,846.2752320312827,6721.181639418704,1593.3019410842974,7564.462594051836,6888.005322291775,4566.114378791006,4239.963274388398,3731.641963013853,742.1668292077521,8723.379256960245,6120.532840271368,1383.076985853321,726.1188783030625,6751.306715974673,7229.347923266717,1120.0721034513329,492.5845288502317,7589.649939417991,5910.2922154230755,4909.477793771325,4416.643450075194],\"y\":[7270.907093426689,3902.0920871138155,1173.2010474784038,5517.486928340022,9770.849533573142,7372.506312207618,278.9174487658275,2581.497971130363,9393.82777884106,8132.388574272212,9391.03124205304,2342.6769681212,981.0003105767385,2941.3037236620785,1314.752726181504,3328.383022071012,8184.711152458005,9099.586140122983,6702.5004452845515,292.81355064812664,8069.81999834689,1367.4224594341279,2790.653325870307,2037.6030647562459,2382.865911579297,8659.75874751689,4696.012842770305,858.3696092098514,1972.522470806849,8936.5182210248]}]},{\"name\":\"series 44 (F44)\",\"data\":[{\"name\":\"series 44 (F44)\",\"type\":\"scatter\",\"mode\":\"markers\",\"x\":[7225.160362357234,8857.992238119561,1049.8847934187183,7240.833596662449,6136.225358019511,4931.8573414785915,2244.701630627094,4933.690881902453,7841.404299368965,6357.263257008619,1743.7479209967478,7831.591514700433,5649.902584212102,608.6261606979604,6190.109612352741,7174.537118902603,8824.797711750825,6272.084389542763,9477.229474098101,134.85109727301327,7963.6494804569065,6747.548193399466,8089.144642375574,5923.045225208258,6511.513377667208,6803.201446665786,8218.418868052775,9455.152054962178,3576.338314535216,9986.905295719],\"y\":[6535.858118010067,7016.642361005426,7640.561966523826,4400.917582499246,9191.167809365737,7391.245804144384,4249.039963869379,5410.7874253128575,391.295422568827,7518.708409463299,3302.2797510011405,6486.239569029448,2733.2768696474873,3903.7088296418674,3195.271362836777,3561.317607543726,6360.98145430715,9718.868407767293,9716.040683143121,4053.007143529418,2970.2342134693617,2827.991552583349,7354.375243139094,8992.012960407104,3704.3650136030838,1801.3734740235088,9470.004380477776,5596.316550940602,7062.3185569738525,5403.213835012016]}]},{\"name\":\"series 45 (F45)\",\"data\":[{\"name\":\"series 45 (F45)\",\"type\":\"scatter\",\"mode\":\"markers\",\"x\":[1630.8394104930624,8057.597687420896,4084.033547783338,6001.888383744716,9355.712499468484,6312.549142668609,3282.8783223115643,8887.018290031589,7482.374014032586,6135.576832396358,7062.510386304669,7572.992960021576,3430.347202940891,9016.319953813769,4685.600480345423,9826.798862021848,739.5532321245635,6974.887524877005,4254.447679334602,378.71148228151185,2439.4617400928496,5719.657343808258,7618.5809721879095,4057.611002837057,6039.838415377988,9366.93509455337,7642.028439039859,7438.38450480209,3232.998261342477,1318.7273558818947],\"y\":[6843.0096804713185,7997.081281047686,7758.794400460878,8834.332795096952,61.38650078377217,7240.19259601557,4307.404898278522,3333.4129117528555,1514.281915422625,8307.624910807233,9821.30806338338,4532.650504064507,8367.862497406817,9144.64676230053,6106.660897974676,4145.063508622161,8783.348716090684,9496.285386620071,9275.627158855088,4060.4915118450335,2287.9033971928807,3698.356333895878,7215.029814053209,4677.72560937401,4276.120390488956,1522.5104475391593,1013.0273967878622,1373.2064170851,4465.420792968948,6178.388555092564]}]},{\"name\":\"series 46 (F46)\",\"data\":[{\"name\":\"series 46 (F46)\",\"type\":\"scatter\",\"mode\":\"markers\",\"x\":[74.34559495186232,968.1675304156668,1208.7325402634397,1984.1725220992778,3515.921704732814,5495.555418455255,9710.419143725294,4187.53073084408,2358.647920994903,7570.009092564769,2396.4895151896394,9952.151528299119,8017.22610932792,228.63584330278462,3957.708038616805,2620.7696934917144,2638.9797518550963,4237.273490202248,1914.2978958695332,1023.7872113623969,5953.7901505746095,7546.383148315497,5943.508716157032,1823.2968340424393,1471.1572520256234,4832.666801221374,5666.400405078182,5665.517328969399,2096.7106578623284,9876.960072073454],\"y\":[7107.769430006236,7260.3563674218285,1539.3267695222312,9905.904008601394,2623.2253048225552,5415.013411543315,3241.334789902716,8964.346868479086,7730.001458786943,1519.2467897734207,2988.120153021736,6887.39120296724,983.1617540680182,4013.124521324063,4839.769602870413,1505.442011030389,9806.44684955541,1963.78626818697,2576.220176930725,4342.575162865746,6017.074023526693,3035.9446866217,458.7093388243968,4257.99099079343,9676.39349215862,9861.558551943739,7784.151606421527,9232.27646412498,8853.369587317284,4097.313615418251]}]},{\"name\":\"series 47 (F47)\",\"data\":[{\"name\":\"series 47 (F47)\",\"type\":\"scatter\",\"mode\":\"markers\",\"x\":[1445.390620655297,3814.650139347243,5905.447049483261,9304.248283016112,9509.107213237701,8624.314856335524,7961.42825094353,2192.0659921810084,6684.492780602834,8738.502727028326,433.57347818117955,6741.380134241316,9479.621964626123,9801.742387268076,7591.211284208585,7250.337993480683,4828.790453850837,4255.336726439402,3495.7245706041917,4447.773856656199,1022.9090920404605,5212.993683818424,9926.857047960255,3473.248486945809,3886.37514270332,2197.9973937303553,5322.859581980491,3745.0276527560723,4317.669846362834,1209.270583927724],\"y\":[212.08036965083,8520.263474640988,5547.256682645157,1398.1280064236955,131.17395795520292,6297.341584635526,9765.189230678116,2014.467473331112,6605.185807390935,7118.5569985694265,4132.156025878645,6220.611984798265,407.34949312605016,4301.995296419417,5611.529740865076,2872.955192134776,9021.506022510883,6164.6831043576485,2546.3034773891436,3436.0254887726305,1997.637010202491,2894.79183444772,8453.637416695616,8820.53306882424,3721.081882314031,888.8687280615603,121.05536375298765,126.41662302827706,3008.5840277741004,590.7784918611359]}]},{\"name\":\"series 48 (F48)\",\"data\":[{\"name\":\"series 48 (F48)\",\"type\":\"scatter\",\"mode\":\"markers\",\"x\":[7762.17052007275,8023.862848884605,2899.3924582976215,4152.241878634325,9726.137979828654,7819.722055947604,2027.2215610546584,6080.558621719589,8053.865068592751,1133.6963853155135,1038.9501259152523,3447.30609858233,4035.337381479831,548.1339813571617,3668.520660942528,2202.5086980617357,4846.24791359117,597.2089955764326,2279.5728799642025,2671.9755008438874,3328.4405167100795,7025.728899203411,1957.9323142231542,411.2085340673333,3027.512857456851,6374.753257971437,5565.143632747933,8247.48114089953,9712.246784898403,9640.673155808177],\"y\":[4556.822427841368,1562.4015444338124,8774.36774265882,7006.342991340732,6824.674942090455,1650.4620535730762,5143.456783114108,5457.315155209178,3338.6154455634987,1334.7958668553194,8650.671062008207,7473.181818539054,9945.484689521974,2929.5531291426346,3136.2563606247786,6923.477170576018,9323.457500393137,1109.0171947453198,2019.6634148968817,7799.548367248196,796.2995910905835,2276.7836797613527,6537.402815081577,2478.2610630495906,2479.214364694069,7624.029276991596,5402.6130295872335,8840.34915584249,1058.0995862057985,9224.097008161956]}]},{\"name\":\"series 49 (F49)\",\"data\":[{\"name\":\"series 49 (F49)\",\"type\":\"scatter\",\"mode\":\"markers\",\"x\":[6251.62948885053,9755.679421384979,9396.6120466462,7231.332266332515,9916.684029055994,4199.6545706158,1120.5109717661833,1535.304457115827,8300.181633944301,6579.422629949656,4346.338647749229,3067.2506253124398,5424.839880438245,9725.527864501752,3801.5661698542704,8363.78685932389,9095.292129925088,7444.077327264831,1725.9145104360462,5963.626210328996,7530.597187579598,4526.460869962198,3148.639560872932,4746.256642692651,1313.414170064099,5678.108476275256,404.1457687377448,2417.2260820617084,6050.438913981419,9954.728069809227],\"y\":[5078.372427529014,7002.889859888107,5250.02002166887,3983.9140265302353,2970.974366032474,5438.178353114722,6096.702568176143,5501.973538199534,9113.39919825323,1114.1441538357788,3038.7803681606806,8550.270424431414,5400.534660931035,6597.750613052113,5403.753854427818,3052.3397878632773,2973.6888550259623,8644.573343669843,5617.936095528165,4432.475642050126,5135.231696988234,95.77850471147231,4030.2588621033674,3438.455047462998,4280.313470680598,7283.952929166065,4826.674572047735,2395.5064160479533,8098.6517788334895,2168.0638348516313]}]}]\n",
       "var labels_t0DK8a0afu = [\"series 0 (F0)\",\"series 1 (F1)\",\"series 2 (F2)\",\"series 3 (F3)\",\"series 4 (F4)\",\"series 5 (F5)\",\"series 6 (F6)\",\"series 7 (F7)\",\"series 8 (F8)\",\"series 9 (F9)\",\"series 10 (F10)\",\"series 11 (F11)\",\"series 12 (F12)\",\"series 13 (F13)\",\"series 14 (F14)\",\"series 15 (F15)\",\"series 16 (F16)\",\"series 17 (F17)\",\"series 18 (F18)\",\"series 19 (F19)\",\"series 20 (F20)\",\"series 21 (F21)\",\"series 22 (F22)\",\"series 23 (F23)\",\"series 24 (F24)\",\"series 25 (F25)\",\"series 26 (F26)\",\"series 27 (F27)\",\"series 28 (F28)\",\"series 29 (F29)\",\"series 30 (F30)\",\"series 31 (F31)\",\"series 32 (F32)\",\"series 33 (F33)\",\"series 34 (F34)\",\"series 35 (F35)\",\"series 36 (F36)\",\"series 37 (F37)\",\"series 38 (F38)\",\"series 39 (F39)\",\"series 40 (F40)\",\"series 41 (F41)\",\"series 42 (F42)\",\"series 43 (F43)\",\"series 44 (F44)\",\"series 45 (F45)\",\"series 46 (F46)\",\"series 47 (F47)\",\"series 48 (F48)\",\"series 49 (F49)\"]\n",
       "var duration_t0DK8a0afu = 100\n",
       "var config_t0DK8a0afu = {\"responsive\":true,\"scrollZoom\":true,\"displaylogo\":false}\n",
       "\n",
       "var traces_t0DK8a0afu = JSON.parse(JSON.stringify(frames_t0DK8a0afu[0].data.map(x => x)))\n",
       "\n",
       "var animation_settings_t0DK8a0afu = {\n",
       "    mode: \"immediate\",\n",
       "    direction: {},\n",
       "    fromcurrent: true,\n",
       "    frame: [\n",
       "      {duration: duration_t0DK8a0afu},\n",
       "      {duration: duration_t0DK8a0afu},\n",
       "      {redraw: true}\n",
       "    ],\n",
       "    transition: [\n",
       "      {duration: duration_t0DK8a0afu, easing: 'cubic-in-out'},\n",
       "      {duration: duration_t0DK8a0afu, easing: 'cubic-in-out'},\n",
       "    ],\n",
       "    ordering: \"layout first\"\n",
       "}\n",
       "\n",
       "var slider_t0DK8a0afu = document.createElement(\"input\")\n",
       "var play_t0DK8a0afu = document.getElementById(\"play_t0DK8a0afu\")\n",
       "var pause_t0DK8a0afu = document.getElementById(\"pause_t0DK8a0afu\")\n",
       "slider_t0DK8a0afu.id = \"slider_t0DK8a0afu\"\n",
       "slider_t0DK8a0afu.type = \"range\"\n",
       "slider_t0DK8a0afu.min = 0\n",
       "slider_t0DK8a0afu.max = frames_t0DK8a0afu.length - 1\n",
       "slider_t0DK8a0afu.value = 0\n",
       "document.getElementById(\"sliderContainer_t0DK8a0afu\").appendChild(slider_t0DK8a0afu);\n",
       "\n",
       "Plotly.newPlot(graph_t0DK8a0afu, traces_t0DK8a0afu, layout_t0DK8a0afu, config_t0DK8a0afu)\n",
       ".then(function () { Plotly.addFrames(graph_t0DK8a0afu, frames_t0DK8a0afu) })\n",
       "\n",
       "var trigger_t0DK8a0afu = true\n",
       "var reset_count_t0DK8a0afu = false\n",
       "\n",
       "play_t0DK8a0afu.addEventListener('click', async function() {\n",
       "   trigger_t0DK8a0afu = true\n",
       "   if (reset_count_t0DK8a0afu) {\n",
       "      slider_t0DK8a0afu.value = 0\n",
       "      reset_count_t0DK8a0afu = false\n",
       "   }\n",
       "\n",
       "  const start_index = slider_t0DK8a0afu.value == labels_t0DK8a0afu.length - 1 ? 0 : slider_t0DK8a0afu.value\n",
       "  const end_index = labels_t0DK8a0afu.length\n",
       "  await Plotly.animate(graph_t0DK8a0afu, labels_t0DK8a0afu.slice(start_index, end_index), animation_settings_t0DK8a0afu)\n",
       "})\n",
       "\n",
       "pause_t0DK8a0afu.addEventListener('click', async function() {\n",
       "  await Plotly.animate(graph_t0DK8a0afu, [null], animation_settings_t0DK8a0afu)\n",
       "  trigger_t0DK8a0afu = false;\n",
       "})\n",
       "\n",
       "graph_t0DK8a0afu.on('plotly_redraw', () => {\n",
       "   value_t0DK8a0afu.innerHTML = slider_t0DK8a0afu.value;\n",
       "   if (trigger_t0DK8a0afu & !reset_count_t0DK8a0afu) ++slider_t0DK8a0afu.value\n",
       "   if (slider_t0DK8a0afu.value == labels_t0DK8a0afu.length - 1) reset_count_t0DK8a0afu = true\n",
       "});\n",
       "\n",
       "slider_t0DK8a0afu.oninput = async function() {\n",
       "   await Plotly.animate(graph_t0DK8a0afu, frames_t0DK8a0afu[this.value], animation_settings_t0DK8a0afu)\n",
       "   trigger_t0DK8a0afu = false\n",
       "   slider_t0DK8a0afu.value = this.value\n",
       "   value_t0DK8a0afu.innerHTML = this.value;\n",
       "   if (this.value == 0) reset_count_t0DK8a0afu = false\n",
       "   if (this.value == labels_t0DK8a0afu.length - 1) reset_count_t0DK8a0afu = true\n",
       "   reset_count_t0DK8a0afu = false\n",
       "}\n",
       "\n",
       "next_t0DK8a0afu.addEventListener('click', function() {\n",
       "    if (slider_t0DK8a0afu.value == labels_t0DK8a0afu.length - 1) {\n",
       "        reset_count_t0DK8a0afu = true;\n",
       "        return;\n",
       "    }\n",
       "    ++slider_t0DK8a0afu.value;\n",
       "    value_t0DK8a0afu.innerHTML = slider_t0DK8a0afu.value;\n",
       "    trigger_t0DK8a0afu = false;\n",
       "    slider_t0DK8a0afu.oninput();\n",
       "})\n",
       "\n",
       "prev_t0DK8a0afu.addEventListener('click', function() {\n",
       "    if (slider_t0DK8a0afu.value == 0) {\n",
       "        reset_count_t0DK8a0afu = false;\n",
       "        return;\n",
       "    }\n",
       "    --slider_t0DK8a0afu.value;\n",
       "    value_t0DK8a0afu.innerHTML = slider_t0DK8a0afu.value;\n",
       "    trigger_t0DK8a0afu = false;\n",
       "    slider_t0DK8a0afu.oninput();\n",
       "})\n",
       "\n",
       "</script> \n"
      ]
     },
     "metadata": {},
     "output_type": "display_data"
    }
   ],
   "source": [
    "val xaxis = Axis(X, title = \"X Variable\") setLimits (0.0, 10000.0)\n",
    "val yaxis = Axis(Y, title = \"Y Variable\") setLimits (0.0, 10000.0)\n",
    "\n",
    "// we can also specifiy the underlying layout directly - sometimes this can be useful\n",
    "val layout = ChartLayout(\"Animation XY\") setAxes(xaxis, yaxis)\n",
    "\n",
    "val series = createXYSeries(numberToCreate = 50, length = 30)\n",
    "\n",
    "val chart = Chart(animated = true, transition_duration=100) setChartLayout layout addSeries series\n",
    "\n",
    "chart.plotInline"
   ]
  },
  {
   "cell_type": "markdown",
   "metadata": {},
   "source": [
    "### 3D Animated Chart"
   ]
  },
  {
   "cell_type": "code",
   "execution_count": 49,
   "metadata": {},
   "outputs": [
    {
     "data": {
      "text/html": [
       "<div id=\"grid-container_OKOxsrb78o\" class=\"grid-container\" align=\"center\"> \n",
       "<div id=\"grid_OKOxsrb78o\" class=\"grid\" align=\"center\"> \n",
       "\n",
       "<div align=\"center\">\n",
       "  <div id=\"graph_Nshr55UQY2\" class=\"graph\"></div>\n",
       "  <div class=\"animationInterface\">\n",
       "    <button id=\"play_Nshr55UQY2\" class=\"picta-button\">&#9658</button>\n",
       "    <button id=\"pause_Nshr55UQY2\" class=\"picta-button\">&#9616;&#9616;</button>\n",
       "    <button id=\"prev_Nshr55UQY2\" class=\"picta-button\"><</button>\n",
       "    <button id=\"next_Nshr55UQY2\" class=\"picta-button\">></button>\n",
       "\n",
       "    <div id=\"sliderContainer_Nshr55UQY2\" class=\"progressBar\"></div>\n",
       "    <div id=\"counterContainer_Nshr55UQY2\" class=\"inline-div\">\n",
       "        <h3>Frame: </h3> <h3 id=\"value_Nshr55UQY2\">0</h3>\n",
       "    </div>\n",
       "   </div>\n",
       "</div> \n",
       "\n",
       "</div> \n",
       "</div> \n",
       "<script>\n",
       "var masonry = new Macy({\n",
       "    container: '#grid_OKOxsrb78o',\n",
       "    debug: true,\n",
       "    mobileFirst: true,\n",
       "    columns: 1,\n",
       "    margin: {\n",
       "        x: 0,\n",
       "        y: 50\n",
       "    }\n",
       "  });\n",
       "\n",
       "var graph_Nshr55UQY2 = document.getElementById('graph_Nshr55UQY2')\n",
       "\n",
       "var layout_Nshr55UQY2 = {\"height\":550,\"width\":600,\"hovermode\":\"closest\",\"title\":{\"text\":\"Animation 3D\"},\"showlegend\":true,\"scene\":{\"xaxis\":{\"showgrid\":true,\"zeroline\":false,\"showline\":false,\"range\":[0,10000]},\"yaxis\":{\"showgrid\":true,\"zeroline\":false,\"showline\":false,\"range\":[0,10000]},\"zaxis\":{\"showgrid\":true,\"zeroline\":false,\"showline\":false,\"range\":[0,4],\"type\":\"log\"}}}\n",
       "var frames_Nshr55UQY2 = [{\"name\":\"series 0 (F0)\",\"data\":[{\"name\":\"series 0 (F0)\",\"type\":\"scatter3d\",\"mode\":\"markers\",\"x\":[81.74556959397061,6266.396555482174,874.538819150541,1833.5805946565408,5611.698788604555,9702.639790560426,9222.513007610407,203.66745191930713,3029.3129859725123,2241.51879581589,3735.122313181517,8483.430070567785,4504.106146376174,2548.4976365157886,3185.606066076866,3542.4855697698044,3024.486654589388,1298.2824371839286,6114.647437506743,1841.8810595918067,5062.70880374866,7657.96777878947,7790.129032058995,1561.2597895395143,8850.68555705492,8704.114851604314,6093.940281031056,5313.3118723309,7762.814520409342,9026.261985204632],\"y\":[4254.839620662965,7597.421279732595,3663.2965799550275,5708.825927418328,6988.958182569531,3615.1332351847086,9499.262043301345,3385.3007602831008,9314.604482068999,5103.261200636809,3907.3403193132363,5123.115673452248,4075.615503436092,4436.161664957803,3150.143149855761,7524.469834723352,5037.568400012055,406.903897595301,7310.453729889994,2617.9075513190387,7313.753024253816,7817.769658320465,8344.749008713005,4867.3593085183775,5832.878279830128,8293.714286322935,7334.002785796982,8939.820427597582,5578.066898492694,1578.1297694985951],\"z\":[7068.552701933058,2749.7953778451933,4406.769681573723,4978.452349944434,3965.137611098991,738.0893926708842,403.80732104063344,3599.857318857771,238.0406840168048,4344.479232470634,924.8309924919329,5538.488002707664,3232.6033213868986,198.25079665240608,9755.061130679951,4301.373797646373,3878.2036061278245,1677.5446184271448,2138.25664517321,5378.386185311272,329.1158312446341,6177.900333571662,4823.428132246116,5112.294742987346,6035.503676679425,8682.347237092881,9731.901718941423,7796.178650549682,3723.1205624594368,2039.841088870159]}]},{\"name\":\"series 1 (F1)\",\"data\":[{\"name\":\"series 1 (F1)\",\"type\":\"scatter3d\",\"mode\":\"markers\",\"x\":[5364.907518009337,1273.1613916686613,8059.1254849033785,5735.797698947243,9651.951342442015,2221.631782674013,142.74174327639,7877.930604896226,1582.803205480302,9779.823388594958,6383.326937024527,9622.550979618745,6671.015968420221,196.8234073990427,2814.7361357271984,7330.940526688555,3064.4635026051924,5792.788058654302,3443.70088244218,5372.364916060226,948.4679502828596,8669.342778832162,7841.266108397365,1679.7421295679349,7779.6647371151,3331.84925480961,8860.160428757998,8915.940466950855,5843.826691649583,2668.4251356325317],\"y\":[6097.300899772752,6423.1286831237785,6648.454484512447,8576.304809163565,4519.460534708056,2004.5550085612497,8741.011151246377,1934.3318089267136,531.4604679890056,8027.588623667204,1686.2639569536907,6591.079101579431,9690.067464228454,3338.802954803095,9141.266899841365,8571.29226617801,1253.1154659906497,1046.3417563359556,8234.104218935445,4799.060592170483,4802.190702368912,2351.755196216989,782.5842018957219,5294.315571762881,3288.552895045915,8302.949553196482,4281.658250734913,9019.967628490786,5025.7877986966505,4591.849038916699],\"z\":[7043.415883251715,6340.188766038768,4389.022540246029,9334.814227220078,2391.0795767040117,396.05602452452814,7279.354429225033,150.8242360628642,1388.511681048057,5612.971059267021,2773.4766466614815,4791.87667990293,2229.312683117781,4024.978071522186,6802.315134398204,9082.012695065037,7114.677315643946,9134.297691390746,7188.811755802079,6985.82971604047,4216.74616619385,2620.1096815303295,1923.823373381761,254.29901770699482,3154.2741611781457,1368.8063028389975,4170.431643058455,9285.152525606596,7300.010929257123,1018.6542060762782]}]},{\"name\":\"series 2 (F2)\",\"data\":[{\"name\":\"series 2 (F2)\",\"type\":\"scatter3d\",\"mode\":\"markers\",\"x\":[8160.786426696492,2587.062213109035,5194.269915212822,7494.997208665538,9885.936624987311,9551.286775055869,6356.73742440451,9857.837619197691,5277.924905032275,111.4111958680375,3868.6544304549684,6191.841389769057,6444.75750656583,5311.260829539846,7240.081500929033,9239.506960039509,3442.682917819869,4803.025675887711,4282.030885487709,11.448413066942331,5056.543982131701,862.0764133854519,9970.835761584583,5703.444414528377,7107.797839833767,3631.9184050010435,3622.197575091404,2908.104443585002,921.1198741755178,9002.17160640127],\"y\":[3084.934573340329,8329.710644980518,7754.34446280517,8774.426289078083,6119.531018627486,6993.997105189404,7232.8176314052,2585.271279610021,4644.167175014456,2290.3272884615644,9128.064779998254,2432.747746331366,7110.982761338543,3091.9371294057974,8182.008121033694,3591.93640928154,7917.9126163717065,670.614393422686,1101.7966261068168,207.33359699469656,466.5039197987975,2155.3869180351603,3336.6318037160927,9914.128662776699,2243.7067242434173,7880.49278993736,796.8136870232256,9467.45057872114,6135.707685700165,7126.115421248701],\"z\":[8286.548294662913,2548.097299234062,2074.4534146442575,476.0644063482744,2095.889133261245,1665.223208254002,7072.5855528415705,7299.784315970727,8933.518520488517,8390.90574718521,9720.0974754843,3711.7853705260973,7180.894423009194,38.47122107152434,7296.085618861539,9769.781980505406,9309.62433087504,6335.90795686852,9791.563613764203,4643.539171602558,6227.748136298237,6647.65270540159,5344.368950099173,5019.61822233754,5306.948193766894,6862.486450403534,5854.78239362506,5102.929265233732,3891.5254176867506,5192.227107569149]}]},{\"name\":\"series 3 (F3)\",\"data\":[{\"name\":\"series 3 (F3)\",\"type\":\"scatter3d\",\"mode\":\"markers\",\"x\":[9880.554670803527,6234.18947503495,9201.315672507835,7815.367159484719,2302.608082658072,363.09713165727396,3714.5404302540087,8551.748001555232,6707.767902431308,4400.230028885813,2352.921600002118,1568.8212601231733,6952.447766246932,1816.382561896268,4090.2153040305266,2497.0019603986393,8951.299947654254,3766.2587876811003,5966.64540502655,1271.0660393570527,2377.4089080164217,4484.137322274072,1915.5490992454172,9516.50215572047,4665.697303507675,4732.337190781287,2294.8741960949915,6364.180442383131,6478.780022294348,2679.003682680597],\"y\":[2564.9951266174953,9203.65145838063,8624.588227749293,3739.9481654065116,1165.6410696588682,74.84472732702253,5307.658267677056,9639.972013492436,7318.564093878162,4149.887615354253,7551.0624742843665,2232.309736632582,9218.894044295588,4071.2181624709674,3643.533486705004,9460.529756151142,1876.9632833980022,2789.1211780178005,546.4143373365315,9255.435916746843,1733.708228569033,7981.266055801852,1337.6436183257879,2130.211874482765,2096.5828971115907,3138.7807685895295,8975.06305559847,4770.257532870809,9429.250887266971,3967.8505732389945],\"z\":[5928.913019807786,5009.868891559039,5577.144914513049,3882.777328489624,2563.4613865940482,3246.114347904879,5122.316558553723,9055.896858921811,4540.285570043817,6560.963140723954,234.8249293646154,1741.6985826033515,970.8081161195826,9605.931953265923,7624.23927903969,406.9454121439875,563.2669966344117,649.204194685521,3493.66074626883,6575.549461031911,2589.3719602346155,2093.396800129781,2759.998994800322,1236.4061831220074,3138.487032091363,2242.839242197061,8228.05857527563,8164.3474026343265,4832.245232373071,9132.439047853388]}]},{\"name\":\"series 4 (F4)\",\"data\":[{\"name\":\"series 4 (F4)\",\"type\":\"scatter3d\",\"mode\":\"markers\",\"x\":[3892.332419095761,7568.824522620768,9940.094127917648,7825.909301722028,4089.211276227208,1111.886717323126,2666.333615458062,9749.338607945332,6833.661466015997,8526.472584979028,6271.796833677244,6346.782347740908,5348.239863540968,6817.985327259729,4648.400337085433,9627.765328858228,6528.6506383899105,5346.578629237365,5982.3621111193515,9022.278783948377,8888.871158511496,3964.5250091742223,8221.973993385735,7367.067284361426,5390.207765781721,6822.505806254639,2208.3846159647337,8817.699072400559,8482.464215442204,1460.596893333539],\"y\":[8532.931539601379,8014.116397133905,5671.7396944306165,1364.1948881724143,8452.13893105221,2923.0681332967147,3978.1974401120647,292.0681842600736,7521.572771040223,3439.0285640855022,758.4745682422778,8373.180516456556,3002.3278148775635,4045.9078890770793,6541.230740521664,3220.8786549751367,2548.994757704306,1625.0674405405384,2760.664612368069,4127.4971385089975,2205.537033612567,8840.849661794806,3571.6508286278704,3779.381166235717,6315.5818857027,9443.043610868166,6291.4806859515475,9871.782793468574,596.2122993279839,4296.400405146921],\"z\":[9437.01900490033,8505.039605416338,2329.421533369169,5980.526721849543,812.4131861303463,2307.898034781033,8392.968957014064,5399.176640790592,651.3269367059082,8860.79499473162,2682.4603646413193,5996.177016453963,6428.987962169871,9181.367926639678,9369.045249256596,9895.9130022781,6633.177899709119,1786.4126419106751,7392.210299046444,5569.511981668891,519.6141314968206,5158.963731324494,4604.717028225262,8473.564546148982,9676.003091113993,326.1251808382748,7066.821450530756,4516.4210300611385,5080.3740211309305,5692.7327460818715]}]},{\"name\":\"series 5 (F5)\",\"data\":[{\"name\":\"series 5 (F5)\",\"type\":\"scatter3d\",\"mode\":\"markers\",\"x\":[129.47945392006167,1177.812192204395,263.12742919739065,8277.878936350087,3151.329082820442,2640.7383407786933,7168.56624032428,9065.792087008916,8961.814069873246,3390.2812882879853,6360.495714557899,5309.502558516256,2512.8922460802573,9392.188791327208,7327.819185958093,9315.197933322486,554.3511910950782,7184.792868893734,7819.873045989675,1487.1045410367378,5622.831962121953,9001.018819464167,3377.581143629015,5227.2014846227785,3152.238023339592,6382.95141894321,9525.330887946046,2661.0161103910946,93.28550534119739,5659.62215465578],\"y\":[9449.805254550272,3100.2059012464642,7072.53071862315,6129.3887865584675,9415.832160961552,654.5897511506249,3826.286211257163,5821.478442421483,2655.6379698912856,3470.7346607552836,9412.416837264253,306.9726010271801,16.726826503054014,4701.16784243879,4533.083795211549,7187.710603191767,2264.925611896643,4497.727910335098,3194.084707743873,2612.294145920503,4612.972604217313,3074.5311494071716,4881.514389583791,6451.579768568119,8781.350271111236,7200.472703297179,6454.04935840439,9611.745310158945,1696.8899833656715,6358.142464276767],\"z\":[5029.237144724354,371.22430716299834,2796.0091375118045,245.4864561714931,9284.750990745799,6598.500386550577,3823.266240919022,6298.495960375759,6800.6460804222415,7240.961261368027,6002.246483214934,4477.66227129864,9336.234699761762,9570.713160160782,9504.622172957901,6687.886287124827,6265.27187244023,8331.457675803778,9254.556343369482,9890.988085335384,8785.726442498715,9151.242299323008,9279.450663915422,5221.908341930186,3975.4848686371834,1369.0882761541977,5054.36161113057,234.15611169004814,8282.91716403024,4769.217652318101]}]},{\"name\":\"series 6 (F6)\",\"data\":[{\"name\":\"series 6 (F6)\",\"type\":\"scatter3d\",\"mode\":\"markers\",\"x\":[9586.24191789496,7777.001374406394,4621.312901623858,624.7879477145257,4345.488114863788,2946.369992448582,5878.767176303493,9923.759642967847,576.107680350002,9053.349476476189,360.1855650005836,682.7162919195972,2.1422992031661092,4618.66590429014,1445.6429225673262,1850.1647406993081,6496.816517643204,6028.450698159099,4579.418147594194,3459.0429336988414,1892.2062352341707,4676.058982760695,9596.600979553685,1408.8694218429964,9781.05181221985,3166.668407217995,5349.246073178744,541.167207140334,898.6638713375062,2475.8261685028892],\"y\":[6611.627779337452,1517.5037350763255,2471.7077446624235,830.0758658766393,324.2254987889792,5417.685139141175,1781.967556099212,5517.241682688091,9378.65206371469,4946.350687571495,1117.031716611756,835.907419259988,7350.809205477545,2669.4166879743007,7266.160756479581,8958.072286441102,6857.138925553464,4797.518317928299,3768.4300504434777,5605.928684380597,7538.912317037813,3691.804442815455,8231.568908372836,9133.149798102168,7072.079693242404,3488.1429821310107,213.74489814455777,9853.038165747415,55.27973725815593,1018.9965176430082],\"z\":[7396.867840744962,6270.330332796791,5146.189567429213,8557.931240150449,9078.820312865719,6250.413207960975,396.46753154953586,5819.927155234335,6373.347000393863,4099.154534408262,378.1270426568628,6121.3564107388165,7930.163850972634,9028.511146749315,6399.251708134173,5636.706657084377,8474.175949943754,6547.519680033777,2874.5441173632703,5284.820385788058,5011.521583565859,1945.2416235466997,8746.275656061694,1935.633931452625,2161.4889074263665,4221.6768094319505,2743.7846776134356,9349.094164096097,3747.1756420072434,9574.617721319815]}]},{\"name\":\"series 7 (F7)\",\"data\":[{\"name\":\"series 7 (F7)\",\"type\":\"scatter3d\",\"mode\":\"markers\",\"x\":[5224.749620734703,9541.142008765506,2514.099003810537,5864.867559338669,7359.038046373095,2117.3480684407755,3644.7780786034277,3359.2028553189934,496.01429377403525,2522.993020330038,598.6550151759817,2489.907522165654,4698.765307210291,129.08771350901182,3730.5335197454515,6371.663684162321,5633.78137636502,3607.0303818825155,3127.053363479936,4381.036694917283,3272.2080019370937,4140.302292738499,7149.542679021541,3230.742175134111,4188.863267420818,6679.8046034223225,7282.9162799672995,3660.341230136849,1637.7915211656846,5670.1449024039175],\"y\":[8064.120325189186,4116.957759657855,4038.2043631750853,4457.383223569409,8099.950936829735,7614.065788119133,3022.237034121963,6934.45065144112,4482.898058890048,4333.355171516676,6776.0266410807235,5888.6576391110775,8275.001111716596,474.123458915261,3048.1952452663554,4986.4102636845255,3153.526461569268,3356.6083822408323,8904.902983202423,363.4594886449671,2798.6031359651197,3850.120988744794,1078.2102361295554,3384.7075287143625,5151.788982139491,9823.792724462359,1584.5677082300967,8295.799733512902,3285.8585107166004,8507.207396928137],\"z\":[8182.831820813474,7209.437190401929,3299.937878020243,1400.1382253596173,8196.280673027368,152.54123228737538,9390.43859257047,2685.0612592625935,7240.683555978057,9746.111852866912,5047.068375889055,973.0789977066778,1480.5550833944249,8497.819367615615,7184.5294861120865,4653.32735165837,3178.3032691422964,1658.0736733710721,6944.338761071789,3117.906420738057,4506.06142615172,123.5217452004389,6887.533215518387,9698.816514347547,3857.5649597536476,5967.620241426212,9347.854572565313,7280.342820988911,2227.522356089613,7836.140108112532]}]},{\"name\":\"series 8 (F8)\",\"data\":[{\"name\":\"series 8 (F8)\",\"type\":\"scatter3d\",\"mode\":\"markers\",\"x\":[4826.334579175904,4239.780697081016,4618.497372232263,4666.160339134921,2482.024538114155,6621.3464400592275,2890.406852071051,3970.3070508352635,7009.951175125649,2262.5757790277025,1985.3093620429252,5273.709354571033,7496.202328514987,3969.4598546079583,1040.2410835356623,199.32866457993748,4201.371754438381,1776.0247943433217,4543.436981472092,8168.039521677675,8647.42929065695,8826.01539224047,6394.344078174903,713.0289020222335,869.4021039683208,1478.7919964546293,1495.4232257267863,8003.7936409027225,5242.0851604201025,1868.5087400197685],\"y\":[5333.803918393083,8333.213291224863,2903.327564396553,335.0858309502225,1903.4426093179136,5041.879465706323,4469.265118689687,5897.454959817114,4273.505761073603,5637.070096577174,1473.2056480650936,5253.994917130374,126.285015117652,4709.4534836661105,8758.691160183931,4672.038330749928,6668.022714399427,5658.816482010918,2918.600470216105,4567.779354937887,5458.608378350246,6210.8086696115415,3795.9730836150675,3579.867327196159,7911.184517031633,9239.90442156167,7048.572979677841,7504.419743688891,6480.275765492977,3509.4775472162064],\"z\":[5828.030425642556,8586.149803417497,4887.136469005348,8598.099798493757,8735.737436013136,2349.7451117385226,3123.587974968549,4501.864018892446,9391.487890423348,2407.5999167980367,9430.697524676661,9185.745638262095,187.19878972425886,8494.446539342933,1966.2229727747072,6702.715970969391,9096.856565793678,9356.387911923048,7454.835137980434,4407.521202895254,3775.1816360473576,61.29163888227818,2757.6969407168626,262.7505493768056,1601.3144464626782,2799.44675619606,8003.065397803526,268.0124369273096,7810.165473436138,1307.8525606648184]}]},{\"name\":\"series 9 (F9)\",\"data\":[{\"name\":\"series 9 (F9)\",\"type\":\"scatter3d\",\"mode\":\"markers\",\"x\":[6687.157281814024,1638.7470185423247,6402.898033711693,1678.4481648292337,8984.593138006972,9519.403629817658,139.3349256112275,6500.056653506512,9400.322882084458,3736.415149916711,6588.9166693344005,5035.758951167168,8850.00301859321,7379.603475306356,6953.16152092002,9451.87788723004,4273.38055767109,846.3569585611652,3171.404726072907,5991.693294917173,5965.3158900228555,3391.1184473822277,6682.929040644731,426.4764526441145,3951.652762995623,9193.430404763598,9142.41995952366,9118.369256542956,9942.221809706158,6490.9857047358],\"y\":[1372.0101638125293,594.1021874554186,660.8482456162124,6419.830122403022,1882.0056024599253,7655.485651935363,1682.3006699123778,2862.0786668917385,403.71409424350577,6742.071702365636,8298.70871182092,5822.194163558061,5051.624283027263,9513.329478262305,1393.0469470228113,8636.0956112477,3968.5120778264773,1432.1352283349297,1814.8625180795352,3663.054279770287,3605.8788890671535,3508.328589501184,6333.506923667505,2018.5474889523036,6153.455652880992,6300.541643654016,1886.6997189846734,376.9379098945247,8055.331812786486,9776.458992992066],\"z\":[2547.3439250959186,1906.0525521343318,36.60027854259562,8696.118372358458,5399.079114275717,8991.436191197212,6613.235090324822,809.8227321136553,7341.1419329783075,2566.256896142288,9669.245980280075,4351.674091086684,4735.682594151988,6583.550857500686,6358.985329128773,2061.706694995764,1765.7609573197465,6450.684709510314,6328.807731987539,1284.0408614095288,1389.8254138119692,7091.630988273237,7051.1127339357345,3565.434812597459,4858.557286398371,9710.840539059256,8925.128182335518,2618.0659344128144,1902.5386650004027,6303.2144841195595]}]},{\"name\":\"series 10 (F10)\",\"data\":[{\"name\":\"series 10 (F10)\",\"type\":\"scatter3d\",\"mode\":\"markers\",\"x\":[3722.620731979538,6512.326444756174,3904.2807288110503,7487.866990319864,943.0461153762293,8529.865895753039,6635.732948029147,2339.083816961133,6691.485433714423,1234.076174251806,7472.459061811646,8546.07771199529,8804.031390442009,4.657197763784371,4388.259735571048,7453.851004866956,119.13001405962409,5534.862070544003,489.08708993728453,1320.6724374111523,9029.69952781465,9604.471798025219,8362.679506198461,9473.383520492549,2749.6833249667498,4818.49876081376,3100.428069416218,5949.950727920683,4090.0198889543017,6941.076942863287],\"y\":[1490.5500842276842,3689.3827303263815,6962.839090910945,7955.948106914602,7586.742592672694,9362.334991009322,9319.027563027637,9049.403419348417,1624.0479146254138,8531.429181404832,4773.125221625472,5338.497641882552,83.75633920691183,2988.5148732121093,5780.853728087799,8356.802431847424,9601.737125148793,836.8055131309993,1908.3963899309863,8061.920831208875,6369.6799245203465,5169.026506314663,6468.884226116792,3443.4375873668255,5696.292771481651,9038.409746236523,3600.3644008681977,9686.931175169964,3475.592923916756,2827.579824538212],\"z\":[5720.862833916393,289.12953803801213,2451.9981094275313,5091.073526317839,8219.974657107772,4521.243099831238,1377.004781308513,9480.443780394957,4232.746957401459,4201.960733557997,4419.822513439498,8456.594572213173,7390.446301584203,8868.550833455562,1524.4038602947207,9152.20513560581,4554.13260381076,5123.957459407141,7797.896383774434,7967.797534122621,3710.784714856581,4189.740674624678,1470.6109984252446,8268.210431249414,4448.0585200575715,1509.1583272911157,5485.193163324733,9891.9378016499,9722.579403288784,3621.6443470312443]}]},{\"name\":\"series 11 (F11)\",\"data\":[{\"name\":\"series 11 (F11)\",\"type\":\"scatter3d\",\"mode\":\"markers\",\"x\":[7352.743830028108,94.00644100543309,7998.002402927441,469.38393493690114,5556.232496735076,3013.7546435584404,4252.902437557138,5798.651752976423,8486.610250171156,8792.089382213246,6844.882571118254,4383.0179792771805,3664.615472421088,4058.495148460384,4766.117124816827,2422.4908950364234,831.3406378966981,2666.276176952328,6436.876887242907,6662.114614658736,2383.2065016382,9275.211399423457,6857.408870285435,8525.489478136818,8582.071176329768,8664.010049522185,4674.870904179411,1873.1434576962713,2988.7725517000754,500.6528732548721],\"y\":[4520.854393580013,6872.630357340605,5648.492283641228,2706.914423080352,2836.349333568725,7906.683975669254,7698.893020896256,6524.0588071272805,7324.839392920895,447.71452402496914,1277.0733748792939,2919.9052411479997,1160.5422893044847,391.382969763171,2868.9522388070654,3073.168723509774,3127.635085591628,9468.94193310756,6574.776702052013,5329.174857177763,3977.6377961117173,2047.4884546747153,6157.028252094459,7241.759953888301,7465.950795819768,1879.223789491441,1192.0735041309972,4099.363056817174,1764.875666843222,2175.2688030049126],\"z\":[3164.4896559494573,4679.026552442405,3249.2719008808504,8756.53935310432,1923.0733517138376,880.2209799875271,12.333270015212339,3973.6341067442027,1560.1113745599894,361.11104786583303,6892.795910747721,8589.648571021278,7480.582376707066,333.08954238184697,7281.215236472844,9884.269741860562,3195.525397610779,6265.102753945699,9521.780387930077,6864.474713633682,6203.897769994219,1407.4958138217908,7337.461575514967,7656.5940964056945,7219.8159605687515,1765.813267523858,4380.113769192889,9906.466609719902,5957.156994165706,6438.185749327499]}]},{\"name\":\"series 12 (F12)\",\"data\":[{\"name\":\"series 12 (F12)\",\"type\":\"scatter3d\",\"mode\":\"markers\",\"x\":[2743.48617486291,2328.855887074206,9701.072717073985,5075.644588088722,4075.923168327569,4424.257563107047,7976.0487217459895,2632.904404438263,9790.85605698329,1820.6798208811338,7762.715339997442,6547.858326952813,3797.030445181974,6699.927044006396,8920.702530384462,3021.234505551589,7156.726420887728,6332.376399421785,8742.399746724217,7163.5628558745675,9129.068757477962,7871.185292449788,7892.567122160368,6434.808306614651,3166.843704564596,4246.325441943096,7381.320800833818,8022.726490550704,9609.07408437227,4250.786107345821],\"y\":[7673.089404602365,8589.202485348616,9047.92730132312,9725.749050184695,6551.722952334971,9159.5346764247,1647.3616286093861,4128.485797914687,1942.0090434504643,8837.832425950164,8052.244325873352,9706.183367701435,9530.430911911622,8502.396515522923,6950.501213693217,5000.85722180505,2733.0800051970814,9668.153331770658,2837.18918100943,474.9632920036695,4326.213982005982,4298.921060455524,5078.204935687482,7674.273533890491,4885.029452603986,8510.4853344812,5982.68075609767,6534.033143011523,3068.794873596619,6826.1683417646145],\"z\":[1266.9360451709722,6186.37258170568,6745.570652132511,3929.7730979620637,1029.1886357079338,6941.39439142138,1967.3178980961136,7706.494884204613,3153.0562677653875,4991.316944048857,8886.278840873487,770.5907504311959,3919.2030122349474,6826.503077951826,9846.086543662452,7649.298752643025,2528.3210603024954,7354.157791995948,5086.143955199437,1325.7089760438278,7224.958116226065,4274.931528840145,5765.384952819599,5938.983510637573,760.5351681709427,1399.6200275444814,2341.6135645680556,2098.5320447398235,2045.2242307912184,5277.6031987604865]}]},{\"name\":\"series 13 (F13)\",\"data\":[{\"name\":\"series 13 (F13)\",\"type\":\"scatter3d\",\"mode\":\"markers\",\"x\":[8735.193385187275,7489.448740081124,9012.183121810082,2760.617996719743,9160.935516856956,8229.720344972111,4953.978327328936,1939.9172581915825,5029.61419387211,5785.421811104548,6889.844281176304,5271.81453849555,3900.617289443201,158.31014690053658,9883.768612461612,1646.071681899316,1109.8154935937744,2530.943691529589,5657.208630771207,3653.537807262679,7401.810881855347,9587.642211876766,7326.582799896472,7373.900337974935,2663.3100176737435,7325.319238230913,4644.501220423503,4631.365724470929,6684.435848368958,4326.412689438117],\"y\":[5735.033534460289,1855.5341006929127,2767.3783536170495,3186.8469203678073,1987.1331680475535,5436.692869706857,8956.85698047134,4075.1599292927276,2506.6753268784314,779.2006670653784,4684.450701653421,6244.638640362125,3326.384958902081,1133.5907844202509,7698.9233516077975,1728.4959556481206,4434.2620307037705,2727.4739199209985,7297.258655648126,418.8436340074364,4604.942863298352,4717.274337893038,5076.18605369899,7263.399584126875,4.760039529887461,6047.286101774899,3691.570182173456,409.5876371266427,7590.092791671066,6429.488779448159],\"z\":[7443.103051475262,3783.880003127276,8429.929439643747,5347.016250020734,5894.321010784716,8814.940033564324,9257.389503234841,1236.1254326263327,3193.049452692985,7792.326682285524,2791.2831553516958,2815.9636128573275,1274.9518114955295,5698.223077657501,8667.611671121396,5912.384455124352,4712.937820482688,8257.855100449675,7182.241612046155,2061.5244883699734,8617.768619327271,1424.972702221392,7469.815877342945,9680.790906589296,8700.26824150432,1551.9616971302664,230.28826038109406,4659.379939580148,4373.134317305531,6089.8670168506715]}]},{\"name\":\"series 14 (F14)\",\"data\":[{\"name\":\"series 14 (F14)\",\"type\":\"scatter3d\",\"mode\":\"markers\",\"x\":[2663.30056201754,4847.383218614565,1600.4158308974725,1821.8023827151908,9881.946392350086,2112.008730064374,2095.305881063565,1353.931337020514,2751.295607905101,6381.379191445001,9421.971885929035,8871.404062606076,6833.382965164069,8410.83852089143,574.7306353495063,3012.3357742821045,919.1861259982626,1883.6394313008998,3687.946741855105,8121.124628150791,6489.45651096134,897.346767752234,8672.612574812778,5113.094600565998,1370.0854526645023,5889.235662508156,7780.652255533217,9715.671242058403,1834.0193931010706,9618.425327607069],\"y\":[7365.560285732957,8946.982299300855,7450.570021903049,4949.4371973275975,438.07144876101603,6350.992296665363,2094.286495183867,7871.318351079301,2008.1329599903563,2728.977528017721,2699.387770451741,2438.430671768782,5659.5301821394305,1890.3508610825104,4582.08589346289,9133.45022663511,321.0919401222445,291.5486385486832,8451.95057863896,4530.082679496816,778.4842773951394,5339.899540445829,9594.79994800458,8072.450992110012,4113.174808304636,9610.091457949413,4133.428886720933,1290.0585494723216,6960.231967071365,7254.0615085624895],\"z\":[758.8122887566607,5831.697693255203,5244.2002776674,4480.833795818307,8873.254146722164,9328.610848240816,8882.367101178568,8141.034731448705,5698.27203760894,2286.677987277439,8837.321718346513,5171.517455647545,5573.847324025034,4959.348840854893,2855.78187212699,938.7310720908615,4411.987240831681,467.49350246998114,9248.235117989603,6365.171992361334,1066.3818654412194,9309.302267828016,5144.036350177752,2131.4617059910133,5241.261907715092,842.8112635651197,6799.1599796708515,3217.291217194098,8486.395846238054,9325.590895620773]}]},{\"name\":\"series 15 (F15)\",\"data\":[{\"name\":\"series 15 (F15)\",\"type\":\"scatter3d\",\"mode\":\"markers\",\"x\":[4738.903516228655,8577.683443554648,811.4870651728168,5660.580917423184,5785.402458704289,8846.724680407127,502.0664067182423,1124.014315645464,7349.90298635207,9619.115228213417,8830.299255557473,6040.8234609853525,6762.313951399339,9080.600422908643,4527.955453879039,4624.871437633098,9865.637553824903,6541.540523927847,5125.119197131108,7015.811366773573,8620.45793902051,2773.584000212632,3557.0435385453616,921.3249719125849,7044.743582399618,3957.6071706427006,8802.882618828316,8212.945286324222,8456.797182408,8521.79580674847],\"y\":[8743.861703066836,6325.622656126142,4694.268109957638,181.93513142777508,1914.77621227229,375.6465562865785,9749.713996015307,1091.689692299912,2371.534112153917,9538.486721134597,6093.285409927638,6168.847509672929,8508.79048916414,417.57314626435726,1845.6757713264437,3384.213333963547,2335.5447637159564,886.984916258562,919.5650500461572,5083.036228645578,452.9036045928525,205.47357926557487,6265.358701926238,2254.5577512478667,1777.0399746892706,5076.196004219439,8437.103823314055,7073.474548029828,9911.705326683,6765.991157704766],\"z\":[7837.0419546921175,9007.80979668628,9998.480162235504,1399.980736246278,9202.335900406195,6320.888778330913,859.279161935288,4111.731759224144,1165.0857609215293,7890.8223856600525,3294.451646722857,7856.172782334357,2046.830374638219,9929.102038316414,4511.148463915791,9381.904629551285,5441.302915148554,8400.610411845788,6830.453412480801,8111.5012976737435,5594.292411392973,730.563384953381,6058.105503224441,8492.853534479247,3107.0403592135344,9729.589868698295,1202.4685841653438,2761.5550553795774,6069.676353546572,8576.373447379274]}]},{\"name\":\"series 16 (F16)\",\"data\":[{\"name\":\"series 16 (F16)\",\"type\":\"scatter3d\",\"mode\":\"markers\",\"x\":[2584.72984793926,8993.78613356477,373.78011582183456,8167.968644924075,9810.13652330098,8831.106606570656,5658.228410406956,7181.119819860084,4555.414659937867,323.01677696213727,110.07364145237509,783.6045026995042,5676.332993156382,3960.1025981319603,8172.266164117864,6092.834015825767,5750.70837387984,4160.034238772791,102.62191759008665,1199.6398241760653,8845.977351258005,4220.636697550929,1283.5106583959077,9858.383759477012,9036.78596840892,68.70847074120002,2199.31304046293,5790.228560520858,7996.873845169667,7010.2163960637745],\"y\":[7078.784189512358,8954.61159748961,7850.865417491479,4126.94498395068,342.0298517750686,1114.6657885986476,2395.401425988073,2966.635892670654,5196.882188312538,9555.534128851072,5785.374963282559,738.1038480760349,7997.0425743664855,5910.2329998636715,2829.8659352107093,3349.768490924384,5304.435814957291,1705.9118667803064,9153.691492301674,319.4945235499791,7990.794450436468,3464.072581305506,2654.324981606739,1835.5895934644473,8168.577305963937,7971.504701317246,9920.256028838716,8063.255395067341,258.89735791800985,2684.401856302412],\"z\":[2575.699438253146,2167.745290822859,7084.217468167991,7136.324690166762,8877.883870657337,1464.9368958820087,5516.146669239253,8691.381411825148,5316.983142965438,5611.974574735633,3913.7510099675656,17.197048564451258,1455.0773925729,6815.0952286754955,5355.369571344218,6247.948601385306,8789.363912721308,4658.70337623606,6497.002010198143,6965.944716533111,1036.158372420135,7349.211623644343,1782.9196129818004,1850.9305776421525,8906.068125858816,1919.1189803041664,6689.219031017749,9129.506405722012,7177.0283865282245,8251.250472578773]}]},{\"name\":\"series 17 (F17)\",\"data\":[{\"name\":\"series 17 (F17)\",\"type\":\"scatter3d\",\"mode\":\"markers\",\"x\":[1698.627600315965,2802.745434382018,5670.742206164884,5660.037280401539,784.9361239579489,8038.302684633909,8599.372862619737,6206.165542632732,4328.024512592556,4084.0109526848432,8673.181250978962,5922.8785027174135,6585.510800142602,593.1605259725669,3346.119050884697,3696.6706632957626,2114.6467824330484,6347.364241079705,625.2200000727325,7672.059914647523,3868.1490298479084,9021.11080040992,980.9622345475077,739.5852078539889,8080.2374518223205,852.814223195515,69.59705798302296,9918.121966895456,7514.235420457245,7870.370109081098],\"y\":[4214.771856288303,9257.067112066119,5160.654367924615,9664.931231284201,6894.604958855568,2260.8960111889974,5054.774391153395,2614.819129426498,9841.688827098415,7778.045166952059,5525.300345405069,1932.192455372911,6787.339743191592,2798.0310115766783,2890.760418895855,6938.292219450369,1367.7281526231388,6665.166085134881,387.88489476909274,9568.792647323135,3258.3601768632907,3844.187316791192,7946.2856327174195,8268.985910160944,8214.701198309525,6562.56487388409,3316.3325179027656,8159.231453478538,8370.572442458528,4406.212303941722],\"z\":[4012.201564289033,3634.3063211737804,8882.263756291119,5259.773492760277,2549.6488839600484,1405.9945982889976,5805.149464745364,859.6109529107931,4538.1422142000065,406.4590314240635,7950.909972274451,667.0805758400234,329.55668303034423,9940.635449715235,2397.2992847064065,9771.621318840342,6130.726508501304,9009.102706568196,9308.71941294632,97.65205552057954,9754.715376458642,7818.574412318997,6774.695443729722,9316.210122750994,9515.749018592534,7155.371132607506,484.6718932427785,8551.72896965603,2165.3361197111267,2517.925286546351]}]},{\"name\":\"series 18 (F18)\",\"data\":[{\"name\":\"series 18 (F18)\",\"type\":\"scatter3d\",\"mode\":\"markers\",\"x\":[6231.3790985404985,8226.29909823145,7222.171133041662,7687.583094669328,5471.343080945945,1198.2113204489842,566.0046610481651,6762.663879440681,5469.9496282563305,3728.5361966549312,9745.729228516102,4588.946464111715,5919.790059025752,7748.943447285675,7094.5246094846625,2990.4483778220037,3344.851889528371,2405.9220653421644,4449.966589490391,4237.574219253572,3089.4448550817087,8921.010750513948,5044.594843875166,3785.4068436749567,6239.575912575736,433.60582662199,3962.5074865542174,1473.120923564838,5435.823255656644,7682.3628558229975],\"y\":[8450.129656807596,4096.201864322748,9210.578907708981,2133.1634779355836,3324.3805355150525,2546.3540338572066,9218.864009051093,476.07372677661795,4739.041142090068,3559.687344600393,8530.74515163258,8290.667949046345,7650.20788447402,9521.973554199038,2014.7108753109078,6118.552101525246,8464.287278614041,9750.467250087084,1765.1929525699838,8183.867787285917,4557.070852842102,3204.9892671943203,1513.7488272206335,2567.0153689517915,6620.007082023423,5676.671512128461,4012.2438909721704,1763.7841774506624,8119.863279563128,4160.971517040965],\"z\":[4487.7081275739265,4251.536758503657,8550.548884676093,7342.258829202813,1442.3639073822726,936.0379773668437,3610.950282562193,3900.486638653402,3308.6487041406754,5166.982758762054,5960.207825415201,9696.161500856175,5767.893743897199,1387.222957743942,4781.936906657599,798.0275683409377,9902.635492864032,5420.148627344217,1031.4825584444754,1788.5832953590375,5776.374361991112,8901.633872596307,7945.366224600137,7815.756914308758,9520.91962939862,1427.407342567737,3159.6670393074446,4454.762283560005,4560.285811717153,6613.663984230669]}]},{\"name\":\"series 19 (F19)\",\"data\":[{\"name\":\"series 19 (F19)\",\"type\":\"scatter3d\",\"mode\":\"markers\",\"x\":[9614.15665839002,1602.369073665303,9211.438022168275,2458.184404326782,7311.5852365964365,6346.513290873596,3576.0094218832182,2141.184468875794,6956.5899644024275,5037.389791789977,8373.440748130739,8719.56914074361,9516.285744978364,6631.8600372323535,7164.824857178225,6045.216825178944,2824.6633002564604,7791.220272285579,1278.0614121308874,8677.377237725163,7495.506904877974,5183.07169144631,3668.7579468149524,5561.212723302172,9613.62016971975,1971.2428177591112,3937.6440088492513,5808.975073482332,6941.723518446889,3573.4139843057446],\"y\":[1774.0874779046312,47.25159727925643,8710.468224659688,2424.2972703236874,206.63524424546665,7483.1800536010405,6451.589864978455,2702.9299793993023,3215.3270816467784,7094.471535953392,4789.2995398973535,3765.8424753504205,4496.857420125384,1162.5483482865927,6622.591819030271,5373.56072048926,5472.492715229436,745.041912511295,6711.226480875756,8706.114943089424,989.9738934695234,5623.362215713683,1320.7173354905499,4633.918991770821,594.4686637736696,5762.993829474479,9286.742148981715,4743.596771020422,1729.9590104019003,7388.631367841556],\"z\":[1626.9617556347148,1214.0300606417243,8781.284874897447,4403.219873901397,2658.3215791710445,8796.10626815083,8478.386240070493,5069.41765690028,5470.477272914158,5870.349882594243,7858.118326715343,4623.9536717257715,8561.074388369914,1839.8220775230745,5715.344396661596,6809.800146610829,8456.181447901658,4961.374414338422,2273.829230192448,1188.0451318273633,5219.261249505917,8126.555057712905,4668.7991765922,8530.7867916069,3894.63612279212,74.15178136734424,7756.847523383716,3598.340900185002,5136.488093391414,6049.580284202369]}]},{\"name\":\"series 20 (F20)\",\"data\":[{\"name\":\"series 20 (F20)\",\"type\":\"scatter3d\",\"mode\":\"markers\",\"x\":[755.2060993065691,3168.492396824353,2542.008272121912,5022.010722555852,261.219191878449,7312.484797121044,2537.3879546210655,228.3399296363231,9314.19438840112,3601.889154832022,5057.927641878293,6033.817430532541,335.6272024289009,7182.448279527753,9718.606673386099,6882.331395502947,7020.127061939891,4465.446527143361,2689.0518940983534,3455.073092829375,6548.197701669771,4564.10666966021,4066.900506722091,7064.492273810951,8853.356545167333,541.9704182671259,4186.1520974722425,5781.164625077746,4099.905000308888,2042.1702238107887],\"y\":[2.1629786798915696,4824.395244705253,3013.9838311954936,1930.9550557753275,9462.53159073002,9343.081124772769,7259.388751410655,2215.784813874312,2603.188352384215,9871.564861122899,8660.934318890437,8687.760877907916,3001.589792728261,9465.909058415265,6751.993490391309,9490.114796891827,2173.9897240217865,6809.2285068670635,3859.165133563339,128.92908527759482,2521.344656567982,1420.417592966149,5735.844764911424,6319.217853693098,1508.4788982061514,5508.81489481124,3617.813408906573,6498.947126769718,903.7252671542084,1988.0485000329506],\"z\":[497.77358690661686,7845.528469545085,111.32388409264115,9695.512168094081,402.1007083092698,3193.775850706474,1896.4476089765092,4959.620181078076,4501.902466366442,1381.259018362647,2132.7966106144668,3315.19770441824,2001.8034365217175,236.45415599222176,2595.2853760498406,6388.061508667241,6923.70617471272,9677.032515685527,7275.420814254759,6753.053101924022,4139.104494308851,2200.0882235247077,8214.549968382118,7915.485851611496,9302.354909451855,9423.059503750732,6430.235305428705,7474.175180152477,7698.636250579642,6273.543621280623]}]},{\"name\":\"series 21 (F21)\",\"data\":[{\"name\":\"series 21 (F21)\",\"type\":\"scatter3d\",\"mode\":\"markers\",\"x\":[7153.589386239483,8994.917924283302,6444.161278096833,8928.171718254056,6300.483535466124,2156.4974431442397,2962.528967045557,8665.148182924071,6867.121135151154,1326.987180721285,209.93348312124184,1422.0241805660194,9770.542658611826,9886.333806764207,5733.276463528394,2039.721196631622,3547.2110135932267,1331.9001702867538,7319.055753411993,2925.7779924668725,1277.9033835631637,8486.855982560313,2727.231892372007,9184.24045476699,1124.7087984739558,8977.00132865564,4803.1030978488125,6136.579276962119,8946.016565676917,8549.818331903278],\"y\":[6121.545484584012,597.4581562448611,7597.95471201665,3780.240208844401,9241.805093483727,4271.142593435466,7735.81299148753,2240.8428493142665,9637.357210667782,6198.781012012983,9196.570143854333,1309.8515713155157,8414.171073860807,1313.7534511367433,373.7156594301505,6448.575033989295,1042.0573363579388,3851.724874939838,5388.141967078108,6000.5662633552765,6497.588375211356,7614.004284232064,5313.951827974299,2348.0262141537555,8453.42625159771,9897.256785845382,235.61623173337432,8606.661169414689,6447.706974640279,2279.570838315692],\"z\":[3492.980335265541,5948.410177529483,328.46737253521496,9392.33736466537,8113.211841104548,9112.163256879725,5691.923742660754,6309.348472511518,8133.845112265492,6695.7921312392855,1519.7436753131988,6248.977109039041,4288.66783361404,8418.519798757861,3769.275397362002,2912.255401569426,4358.267785784311,3700.8582169604374,282.03322605120263,5969.115729514534,3379.634503147132,4630.045848939431,3049.5585234678692,3957.018433276719,7864.293348134042,1662.1199538675492,3612.113297219195,6170.640542353458,1192.0247373433158,2257.4632121890713]}]},{\"name\":\"series 22 (F22)\",\"data\":[{\"name\":\"series 22 (F22)\",\"type\":\"scatter3d\",\"mode\":\"markers\",\"x\":[6164.481645751721,3998.251131316345,4427.298437035721,1054.8653369491756,804.4882112842578,2599.8553588089235,7948.134689078637,5159.843400136145,6283.670327768535,5824.140331421079,4482.177171084042,9656.170739721189,7605.869533253853,825.7106019462501,3412.346807918378,6545.264270565233,8868.329465805864,3971.0505684264176,9544.516096059313,4976.283039241278,5851.227254770156,6311.110634734843,6922.230232723235,1850.4976841529597,6035.381737357763,5150.359734368102,9728.57147375693,9666.688273115964,5964.217834664169,8056.606571788828],\"y\":[7832.84747436904,2820.0361623187177,7164.891365912368,7032.839325023141,4119.859351036988,4475.175724863857,2204.806174002141,3511.7913780488175,4382.08246426899,3604.773570655575,1883.5864244101597,9335.890583383503,8260.17454649074,5818.21233171627,3046.891488352381,4949.705601288201,1484.8012073383786,2200.6507173353575,4057.2921919248606,3658.950568013568,5502.846682746497,7540.939962003326,1568.7518456249838,9999.570914265356,463.65825244568447,3047.5811144716013,7925.088413394985,1012.3777411469991,1496.0488802710704,8935.105017282916],\"z\":[3239.1172577067296,1533.1580997716521,6224.361038553857,9108.965780177625,8.003498498607708,8485.134010200558,3551.9722325783164,3585.237451214776,981.6860197379062,4600.108070006936,9883.204957066633,4252.111658751135,2925.054560691679,8996.570805903742,9159.674004602883,6113.3882878079785,9900.895749875233,607.5142671659228,7354.69081605469,9249.867230588425,9749.45221846111,577.6360562159821,399.41706999329085,6392.738931248092,6551.761513707624,1439.0801937897902,6907.038664463549,7223.784748358931,37.77689914457816,4126.810756817357]}]},{\"name\":\"series 23 (F23)\",\"data\":[{\"name\":\"series 23 (F23)\",\"type\":\"scatter3d\",\"mode\":\"markers\",\"x\":[3516.3117328320827,3300.39574577476,136.59405079091914,8709.16526264378,1193.408544390976,6849.123788630337,1164.9411715257452,1086.0922208619816,5411.0694774159265,2579.681186159235,5511.410710985741,5847.029808948694,1766.6435451460682,4142.008759224609,1097.7513295619347,4982.32995206521,1305.6855285504887,5882.234882746819,384.85025541943884,3206.594466383811,6585.34341749781,6149.051847745513,1239.8808908078197,3279.234278551856,341.86013852199216,560.2370792008282,1592.4064394362792,8897.022887044,3519.0853884239928,2359.753977052205],\"y\":[481.0655811076869,8485.363319007529,8369.970640322867,2279.0647721749833,7828.790265758128,529.443379297585,5360.603340494698,2161.996221694882,4083.3367159507416,9963.40670492677,9686.409473205635,5020.697644916616,8721.235601702381,5575.120455384451,4352.735812219359,9160.936858790346,3537.1012834633543,386.07304611038006,1977.097314416042,5548.181983359238,2626.5584212084136,530.3885099397365,6737.9579322993,5681.620472383146,6019.88481986881,3283.898296606935,1224.9865976853337,1901.4667609804092,8034.785185083156,1583.661974043845],\"z\":[338.3100537947703,3275.6191276475556,4590.5473940452475,630.2850629889367,5839.366265966235,7994.9241788028,5962.159055595161,1979.8315582809012,673.5314211200249,7552.01151243539,2751.78469419302,1909.08487125794,1764.7811763474285,8886.867878238885,3216.34072542647,3777.3617489702683,3625.2175218341263,8153.0171567985235,9513.728482049863,8610.038724181384,2827.3772281484444,3791.380889639765,8916.612035570979,4193.401331721617,5154.808487565558,7194.5955767988,3591.4599722870444,597.3844635825453,3076.4880908213922,6402.7640755569455]}]},{\"name\":\"series 24 (F24)\",\"data\":[{\"name\":\"series 24 (F24)\",\"type\":\"scatter3d\",\"mode\":\"markers\",\"x\":[9151.897895589944,9232.217412612394,1083.2239922886633,1992.3245475077622,7869.242281392025,3296.9481320315076,379.27020681889024,4602.921378408509,7159.418927644232,9792.269554015547,2439.9547690048194,392.86787304955163,7764.295114919776,7147.026283836643,3026.2051498042697,4121.990172866924,8906.784908790158,7947.2312916267365,4389.426714587,9531.348125188088,9622.912100471214,3258.377259348355,3605.2772799621202,3222.532213096049,6460.344189673304,3596.277661375601,9242.446437241937,1334.93374973643,7781.74326472867,1728.6302351197326],\"y\":[6902.640933907861,7977.596678904235,4022.599685647805,4178.944140125205,6560.542353703389,592.9553417371392,1427.050288969991,1556.4259661165347,1087.589635808569,212.96775620303964,4021.506245926506,2649.876895442919,5861.015033488108,3913.862500348323,4884.7462380493635,3600.6010872592155,3939.6386614873127,2683.9084793558854,3134.457836121043,1408.7807169223165,9930.50650148547,389.3340527274336,7474.036263457366,529.729517960349,8375.53545378,8556.714686416468,629.7828415501783,2380.881022566501,9254.903760834266,7285.854175434571],\"z\":[1557.4676226870322,207.33291144599542,4034.0088483879313,4765.392230451575,3908.553766007056,5943.209963496897,573.3869179099005,6584.066383083492,9920.204546943,1458.0709358095355,4176.070043873164,1313.7664550707361,8629.528515776608,3892.0310088411916,5064.4359047767775,686.2187323259672,6111.3381620656455,3660.228022452292,9658.677690650187,1093.3405791302298,3300.0340884479597,4146.714045721197,4171.607894562647,8112.0127324383075,3880.0464731666707,4109.804314121429,4239.5799581152,7287.212818297747,715.6038213427529,7385.3720234330685]}]},{\"name\":\"series 25 (F25)\",\"data\":[{\"name\":\"series 25 (F25)\",\"type\":\"scatter3d\",\"mode\":\"markers\",\"x\":[3576.8964993832865,2503.1668519041095,4339.4137982841285,9601.527075670407,7971.145731249076,7930.365684695574,1131.1838619816695,8307.574082467067,8329.488497058763,757.0101670001006,1990.72503408242,1172.0927584440753,7940.998019352733,9696.640347046645,4546.717854741656,6719.444632837386,4637.7264195348325,8609.414732099121,3241.0457035271834,3450.9526286524415,8117.260312640683,5482.706586814889,1989.9252826087288,6136.465036002768,6332.092972768134,4487.383186272621,3546.9005608573457,2563.956546477717,2556.2317260662703,2859.345181571934],\"y\":[8179.083575765963,99.28564121489237,6507.02793066875,4951.60039942413,1816.8635664294752,9035.16385747097,8730.299505436029,2960.348855239053,448.6283083344356,8897.864905081053,7349.391759225215,7549.265300007032,3205.870889169564,4632.13650452366,233.90436265764092,1879.3603400699433,1320.3837556751196,1899.2446117768313,3661.38445273719,9397.511911075533,3934.0710158060974,4600.025631650313,625.3696738705006,9144.956446738042,4603.23448278498,3174.276060050122,8085.738532146659,2317.7349171582905,4263.022507032458,9229.766117315408],\"z\":[2662.40769762339,344.29229155142906,7404.0525458752845,618.6100342483147,8540.991334631599,7841.130055302272,8262.05340526671,1205.6879988607227,9689.114666412155,3465.616886838989,2932.6926912988906,1263.258794493275,874.6562150052229,7905.763684200865,1497.594398778731,7677.860641376523,8432.267983247662,1029.9737219902572,1483.866185106819,7970.049832275865,2242.0995017182977,9565.481899259597,278.29788420758337,8504.480177194786,4964.737451072747,2582.3980627332544,9478.708116092479,5207.276869879839,3218.9385811766956,4530.975261147016]}]},{\"name\":\"series 26 (F26)\",\"data\":[{\"name\":\"series 26 (F26)\",\"type\":\"scatter3d\",\"mode\":\"markers\",\"x\":[8588.755553779762,4609.6146537375125,8093.823841204258,4612.925117673378,8948.848731098027,4100.864199122356,9154.772796049043,6863.30674896928,1344.627021780207,2901.6160002880065,6932.33561103178,7477.717893951223,2345.802825877378,9456.357064884127,3776.061264677969,4640.219676168269,5101.993085162211,6697.515263074945,1910.217896713029,1390.6319457804439,58.48886787743868,3947.049346039041,545.9559545085046,3915.535936996565,9853.743674156518,3098.7113368242112,984.5469007774988,6055.526210252564,521.6897135636933,7163.560419692444],\"y\":[9788.907916443279,5791.9575218730215,8045.8153543644285,1263.2652463257277,5305.698808489318,1009.6327383272852,5298.269949413003,9720.176410145606,2087.855683590275,9927.583830140653,9446.089255759092,8020.114900036093,1097.5100036654228,6248.299805307434,4017.958217426849,5113.265249803959,961.8078553541587,296.45794204797073,2998.764215573987,9770.52035760746,7009.23764329418,5201.419197060334,6555.5121619911,4527.080231906027,331.63579937687814,1523.4523668187194,9297.013551811164,2122.0523726950814,8697.13549900542,4631.849548581533],\"z\":[2331.07324134844,2282.263642958956,4781.885437540497,6613.809291276321,9806.743011063085,1200.4390958113763,4893.45598738217,8526.150927005214,9115.527624899236,2122.362547054397,3126.4223349044505,9397.646367428615,1474.2582328748365,3084.58034581766,1720.6914345198809,5547.93977894243,6223.685262474338,7033.670321607397,8285.723006597862,7509.74105182241,7850.655921579252,310.04381328074146,4508.867061445392,2124.1799557920936,9478.086864790512,7793.706091197841,8983.62271273143,4224.904609579283,365.7523577439703,6886.355211988751]}]},{\"name\":\"series 27 (F27)\",\"data\":[{\"name\":\"series 27 (F27)\",\"type\":\"scatter3d\",\"mode\":\"markers\",\"x\":[8873.698959318814,5734.720054492975,7826.254979051301,7943.64364740037,1271.336009110775,9969.260360544047,5884.358597285569,5773.3950282198675,5313.427976408668,5475.3900306468195,3994.1995694562715,5380.003565904222,386.55771611254,6827.738696067631,9177.719492162683,5262.21366054088,4082.142860269269,9464.970823253701,4058.989294692452,3260.919736279896,5955.461244057409,1868.0983029551867,1442.92297497681,3205.579015339568,9597.406333825487,1166.3473402865454,3323.2062682456876,5422.295282292778,6045.404098109697,7601.78962487406],\"y\":[8503.098902061085,543.5663392110768,6139.99335097459,9192.159512921366,8374.088862589026,3999.157225475507,8076.155191357677,401.97141336273387,4821.213524856712,8069.506365059043,9103.558265148291,7665.263183260512,7710.18339782386,9447.524050295327,7097.452671517243,198.99259893928823,1960.2779155818196,2881.601627537429,8552.039932927346,6704.311286534525,5818.309797371608,5662.098280343033,4440.709199593034,7273.653389188524,2622.777236556343,3465.524118967415,4342.618878448573,5104.7711904391745,8083.660188646514,5385.098298385565],\"z\":[2252.6750995731472,4468.556408715986,3902.1382106121937,4853.30615301205,4572.0390424695115,9785.689472157212,6415.837393952477,3601.537719912753,1918.871623625824,5637.861266307393,5879.04428965552,7803.839767911387,1604.1056341274461,9072.514407785915,7973.649234796456,9116.270352816377,6884.60706155419,3655.755375838453,4195.41237703746,8450.293183799544,2436.173173879866,9386.292148585759,1871.4714808200406,7008.107786233316,2881.3881624948544,3803.95270264007,7738.842761468557,7359.7588263425405,2662.4342770876465,7409.546933277095]}]},{\"name\":\"series 28 (F28)\",\"data\":[{\"name\":\"series 28 (F28)\",\"type\":\"scatter3d\",\"mode\":\"markers\",\"x\":[1249.9879904669342,7156.326374592302,1066.5408642151797,858.533187358077,5070.355447580982,9450.447019153806,5791.823341233817,2299.1578090272624,594.1257174653258,6534.873863645649,2083.8498922685576,696.4359346228333,5728.225211425974,8711.73337522108,2178.34680382631,5016.546606197605,680.9936517835413,5469.588773741016,1553.0324909612125,9741.918546038793,5040.727299411973,4172.378087620947,4321.652569355603,4345.485690685088,6040.6383772489535,553.7439047016712,9995.857114988601,8073.293375129388,3580.6076635927684,6062.224181179227],\"y\":[7795.651836977584,1667.8421015731271,2312.4309024239865,9417.23043033155,2706.720332038124,4510.255840462166,4894.088236200795,3612.6910627083284,9563.003915635807,9067.567715513413,3379.895286260822,5044.68835897817,7575.494031814941,4502.115947118544,7637.221806887191,8441.374678310727,7933.278822915366,7833.249735873382,666.7915544602698,9837.903180930902,1370.4561172818096,4137.245097995072,752.4069310579417,9966.06532546744,922.6092229180482,6929.533010716245,9477.26692982929,2117.7750006283823,7489.11610301746,6094.05150576896],\"z\":[2817.8782523315635,1793.4985262200055,2272.6431466897347,3507.726018956625,9762.886307940691,261.17736674930114,684.7493180250908,5853.796659543778,9202.9805068393,528.1482955312788,6886.6116581928945,25.905381519991664,1199.3557778721142,2168.014705863558,6776.450616354843,8995.564741397753,3162.043753061645,946.3782856393788,9940.32372891902,5048.829321238647,4955.750342845196,253.7940080961354,7850.523006505379,2893.697968391249,9499.667871404768,3981.2608110423475,6425.89942939581,7297.972767644046,7039.0586719665625,4663.02004300967]}]},{\"name\":\"series 29 (F29)\",\"data\":[{\"name\":\"series 29 (F29)\",\"type\":\"scatter3d\",\"mode\":\"markers\",\"x\":[5961.009197241988,8638.010276796482,1940.2309714841915,6463.377670305917,386.0552653058624,5021.9972871030395,596.8598376876699,9898.729977675517,837.1831844298894,1497.0918025653923,7834.434892219931,4062.9152280235503,5596.754033070385,5257.968906986866,7060.939282249663,2563.4764516218465,9605.812037188523,745.0172453510129,6335.6986329143465,1378.3653634411874,1956.0304149114904,53.63410859402728,8514.662618514792,407.075353157631,9035.999867064877,2171.768558441478,8679.212527887861,5617.145866662918,4336.807742984622,9221.068771149427],\"y\":[6166.914433944726,5376.426532197158,3314.427342281322,9097.687957648439,1696.4670575818718,2813.4521124674407,3161.5151409378927,1692.01190622282,2315.4194365286116,5862.7237685897535,2858.8005934011353,212.26982886389578,8198.066799023985,8028.65232605285,8456.318013798325,45.19516509286281,5682.252887903815,5841.365136805792,2177.3193706942893,5057.60730380979,357.64393010559,3479.5399843731157,1642.7780235817147,5275.9840562191175,2504.359376105695,1099.8742000249806,7281.977628994475,476.80439337434154,4729.6818650726755,1039.7548478199615],\"z\":[1824.7497845790263,1378.6386515986671,8261.886053625518,5249.148911425085,5663.512137276959,3847.6660952982156,34.06395722054367,8059.684601291557,5828.330341210262,1811.5111347800005,7427.147381556089,713.3461970254596,4335.80595575474,1421.9789302264296,1340.1561325598154,7950.162399197838,3752.673505276103,2415.4892359095115,1117.0317523351214,2393.717533261629,3957.5648364142266,2590.6961855342324,6783.240700124334,9475.26879167101,4289.479527562785,7855.999106787196,5031.663232069868,4201.70744245302,9539.075252433018,3395.3375642280425]}]},{\"name\":\"series 30 (F30)\",\"data\":[{\"name\":\"series 30 (F30)\",\"type\":\"scatter3d\",\"mode\":\"markers\",\"x\":[5446.1090851013,1199.5535500484489,6568.974937345368,1158.8812261610183,2562.130210563305,1156.6267175671962,741.8586106281533,5105.9180398703165,7538.630059901979,34.98951968103792,7790.194440355143,8410.450280533358,450.0945725544403,2243.2135660413887,7279.033109092224,6185.716732416545,508.1021879287784,5332.969026245182,8393.375908960257,3192.051195098666,6882.092507740789,1724.3951546169312,7424.196825590228,8463.20068041902,7213.2072786744775,2466.6580183495635,9032.284154921379,7819.426655928318,4401.341243647822,9104.560733290655],\"y\":[136.642232275882,831.4121638172189,4794.37215329908,2349.0178020626186,6104.270420652175,957.2058393301752,2519.8618503379666,438.662322111697,3810.718180991838,6295.135868379766,5373.356487895555,5831.810220704092,5095.888420247041,3678.8263367375816,7413.732922564616,6182.450488143316,7157.148139102228,686.1568556977949,2214.8753001886334,4430.894421893061,3501.8700664097123,8542.205771083662,8584.286554962408,3279.1611218123408,224.12094363940093,3866.921382963716,7483.071388186321,1323.1323317945198,7575.281193004602,8751.470697173063],\"z\":[4868.058510152798,1677.9666259245184,6065.961885137783,6742.913548092006,225.6469570805819,9060.210606027884,9666.664358172178,6975.059058489646,4678.306454047806,7979.4997524704,6067.201804547049,9904.060176945035,5718.470860503901,2944.6968477317346,5409.985535957379,5890.506251643795,7860.908530759974,1403.766555238044,4429.852685149796,2215.477598772796,9803.470766944009,1513.6373407075698,2513.192451944578,5026.2289102295135,9047.452202593697,9775.759152048779,9831.704517149463,177.87011892635653,4352.624367743481,8075.012523514896]}]},{\"name\":\"series 31 (F31)\",\"data\":[{\"name\":\"series 31 (F31)\",\"type\":\"scatter3d\",\"mode\":\"markers\",\"x\":[5411.202637446847,970.618023916936,4888.330470403351,5724.0821569291,4763.454822580115,1377.8951015525943,2490.861545189731,9742.361103224961,2539.1279891675545,518.753641905203,48.65443121792046,5787.901762401429,5552.48375555871,7848.806930021632,4710.691095581426,2912.885681944193,5483.552642283294,8827.054937229745,9349.795339609824,7627.53587706092,8581.086836083703,7661.690361951977,9511.361467085275,6634.351614378479,1769.6751906971742,7146.1773595082805,5939.369227526943,3033.9916909178787,706.9790519644614,5567.599048357675],\"y\":[4695.372609042098,7806.094279229377,5542.126772499219,7202.468491951188,7872.477323571398,6932.767509051045,4393.881716533124,6010.908020148934,7955.147423960636,4659.442384874036,2897.27940714418,1798.2965008889462,7987.012718740853,5077.229174858998,560.0038050665868,4334.195986016331,7882.676715108365,7462.87554685796,1124.8545377615726,3701.5636132061304,4455.847339179746,5626.874421682089,4652.232361319917,4494.967064493937,9034.9515598616,7897.223981169838,3616.6481767650225,7394.715604208284,1898.7109395549396,2305.7970387040527],\"z\":[3953.8436225930786,4114.52786873727,7187.993201928065,1046.225198066283,4700.1807455305825,753.561891979484,5436.576103097389,9336.663966388302,6633.546399994205,179.3277041662611,3412.294020075148,6447.749489223415,1155.0868887239785,6226.217295262727,2571.3593973023862,845.5181759335428,5543.670926943255,1215.0792131194644,8102.483764296403,7151.00797539607,9670.056855819379,3582.477592229385,273.752596824165,9932.71813832371,2275.3159791779676,4253.969387338055,8594.029029114015,8225.05254866993,1998.1437618141417,8803.944482023993]}]},{\"name\":\"series 32 (F32)\",\"data\":[{\"name\":\"series 32 (F32)\",\"type\":\"scatter3d\",\"mode\":\"markers\",\"x\":[7161.99762433033,5105.3283020787885,9478.268000846605,7415.272992513632,6499.78410375753,8663.883935178997,2068.2439238395646,6185.20634950357,3154.4138309396453,4266.271757810569,1953.4991539907253,1419.6831685957745,3399.201541445609,3133.4778829259403,1810.571365700473,3216.395128923516,1478.4950668047659,8955.558540114407,9526.066147135314,5857.669238436569,6013.017085738198,2506.043390897729,4953.928844166265,317.42514544863764,419.3859830273139,4038.9015644648994,7206.21266247021,8532.175519892598,4496.219158831046,4626.824548736058],\"y\":[552.5976066333227,9994.229387363954,4690.549576543024,539.0319360130247,646.4950766717659,8695.974526722903,9982.119859439941,9258.757742486572,500.65143773109,2487.30646393864,8809.441007099842,1805.0288317023067,7402.739733772512,7503.984553607253,10.333875350480026,3650.301085598613,7791.510275451768,7482.888709928744,7360.998133344759,5714.97204181706,7006.64602620394,1500.8658501871364,2971.4832268562386,7671.740454624724,4780.546479462308,3957.044468154627,9531.762232520325,8107.234980083475,5357.847938262714,7464.20932826153],\"z\":[5201.4378969456475,9965.294278703868,3208.5541893012905,2723.0285129116337,7797.440617385354,5135.724683814691,1443.2457004222342,9423.625077999866,6857.90318640885,9054.32123876013,243.89627072968435,8752.191932016427,3146.725136401389,4744.388028830923,6891.420730280484,1176.0511193094114,5212.171672834507,5856.949076693202,7301.140405525137,2838.762673532643,1724.1761101310672,9956.290457128373,1369.9452850486782,117.58660948141264,6488.844725709132,6549.4335133697705,893.996364297217,4678.812768844087,274.9890426512258,9172.583536301545]}]},{\"name\":\"series 33 (F33)\",\"data\":[{\"name\":\"series 33 (F33)\",\"type\":\"scatter3d\",\"mode\":\"markers\",\"x\":[9333.401565993565,712.1677725848607,9886.344064292136,7224.562122930836,7280.368476304856,1933.7205323927187,274.4509042120691,1176.672491570111,6129.919837092753,8417.397849783796,9911.018832019814,4290.413428822831,5157.333622219863,2348.444271290251,3124.902802404591,5038.896378630428,3974.0502238101085,7387.8400228212295,5657.665470361779,7054.786739619743,3163.860477451299,8494.916475672886,1303.0197868752934,7617.033602804792,793.7805109654128,7776.092432955286,8169.27160283015,1440.6114254222546,1449.0778732829956,7210.8737564093035],\"y\":[2840.220507031063,3847.9455272143305,7459.511103832447,951.9502987828831,9508.793388955379,6277.6516744417195,9063.909121026083,8304.432767630144,9019.019628441625,7525.668714780246,1402.8007380383979,3459.9746277655818,9675.785829073458,6115.8169951769005,1433.883370188469,9594.7265611252,7668.133417702446,2761.2720485522123,7132.695368997447,3035.774089514887,0.6898918029729639,7005.391300041651,4670.935406939325,7858.9128766752965,6939.15549928484,8819.787561535051,6657.4528578759655,2501.3176830064385,4149.595572527708,4189.4950826824015],\"z\":[5982.006677504014,7755.8666546966915,6947.610139398089,3529.529059844165,5319.474320200243,9859.584989297819,372.29168380319754,3154.088830977858,1932.2622955288105,3296.8699888984834,9161.19909181488,2959.111766203397,1051.258255877069,5408.873653576163,1126.4120237656161,7980.835689732643,8820.733018254752,8933.610836755435,5918.052862457735,7557.483565842884,7560.185570023263,9197.069621511608,8710.494460408428,3448.131291539873,1926.1980681270406,9833.805270118575,4957.79952197128,7452.282497420919,4449.95078381059,4636.19701702794]}]},{\"name\":\"series 34 (F34)\",\"data\":[{\"name\":\"series 34 (F34)\",\"type\":\"scatter3d\",\"mode\":\"markers\",\"x\":[8038.763248357447,9825.615715086382,2881.118306219983,3414.753466178928,6348.263636711629,2101.831592568023,9786.452387599593,6597.558178355467,190.44686917880082,1807.4786931251997,6931.4342184935795,6705.14176241512,1690.6071807789701,1996.0832479856394,3115.9511535636075,4807.77857880913,2866.4456606581534,5529.872805871601,4340.041275999799,6605.40596762922,7985.725223042052,2601.826692389242,9443.314948011966,5866.064988488468,6386.159216405705,117.74362137897509,2691.7537772933597,2616.9665390680284,1044.7096673910162,3247.471551792156],\"y\":[7178.154613782721,9702.994360057302,6357.2884917775655,2706.393083272719,9357.570404717328,4110.647166949671,5826.192275545308,6142.718020681823,5556.673411721579,8801.142316340402,6651.4235660435015,8383.084883881023,5876.054465463502,6704.590729153986,3583.3804741705235,3228.4268661022243,9547.03123885615,997.8653701336771,8818.229836123299,8994.009091716202,8509.640782479182,4821.986467076539,8203.597101125157,1052.0040190251534,2746.045888764762,9190.548063645208,6571.046348536527,7261.912759688698,1733.6822806260986,9998.916608457712],\"z\":[6623.139604247841,6363.607988135024,1275.0381596843752,3764.630424562341,6476.706139161545,5159.7134104783745,3916.0463705179714,7012.640236994397,700.2664947447701,7628.497309101524,4182.635401758868,6064.723871424066,8482.394597128505,7985.406968322607,6945.078869308219,2400.621367947049,429.1276861750104,150.82544490093275,8362.345300861218,3729.131635846237,2412.3544558434874,8083.581296698734,4063.741761058203,2440.619700101877,877.4507679243148,5004.201765870709,8492.712776757291,1208.085932098133,9067.253352962742,4658.848028747473]}]},{\"name\":\"series 35 (F35)\",\"data\":[{\"name\":\"series 35 (F35)\",\"type\":\"scatter3d\",\"mode\":\"markers\",\"x\":[2667.7414183704464,162.1507797835253,7730.7914250090635,4464.3241624130405,5007.872314585421,1286.0116085844097,7059.025170017346,8626.508096745794,1325.458877829403,3459.63248265608,8826.167727198988,9139.002440572589,5606.309277971755,5928.13097042256,9013.996101618273,3945.7589536100845,2777.4935010220247,8877.52700769935,1557.8828485157758,4490.880214072499,8305.639468017489,7271.723903512462,3277.110315726679,9380.759265267117,7173.634519407129,8137.794916569248,8538.356014602048,6948.16870608685,6551.223978250849,2082.351060248219],\"y\":[9750.067272506472,7134.862121611724,2305.0705282070917,6979.967954037604,6396.769144744221,2298.708891512903,9386.428684285747,5495.356695960401,996.1813164130429,7303.330980266744,89.65180011992646,8384.159343388614,5098.343249096687,1562.6680169465467,2192.341767495497,2362.9630140582735,2244.7786637732747,9589.84693217253,1068.0164526007386,4747.319261042745,7667.057784837901,2039.1873016533257,6004.760921123467,7027.266424978225,6427.941729958443,6232.125452029367,1168.3931788422342,6083.0509805356205,2694.6248711374064,3722.2942328132312],\"z\":[5916.26550078423,4839.450333622759,2882.4162909341476,2581.9498070096947,7497.893140825216,3815.2988918956075,4518.531045123777,3781.3863490594445,1571.1819150158324,1245.526723041468,849.4907527366602,4284.936977083541,2418.1051501790475,2236.2200867515303,8451.957788180229,4301.607301664026,5261.258933447001,6758.917051218973,1405.661757061104,2505.3478052282353,7662.802190368857,2198.554664021917,948.3959634494876,979.4181385829959,5629.862921873508,8640.188379505777,3956.89979235341,1141.2519409535505,2755.5779508036194,4112.80428584886]}]},{\"name\":\"series 36 (F36)\",\"data\":[{\"name\":\"series 36 (F36)\",\"type\":\"scatter3d\",\"mode\":\"markers\",\"x\":[7083.763829252747,2968.685718300913,7492.504391895254,2604.2536849350718,5929.32404670247,2475.364287302374,4485.220010771591,9819.533617087252,238.84384381008482,6572.593657378976,781.5132504830957,375.35190243242255,6789.1024816043955,206.8601619967647,6696.635885105625,5407.1055936227685,1364.8477024497852,7976.691683676471,4122.669741284412,1410.1170216904025,24.38643740115154,1309.4868514649838,2155.1438593970606,9545.164184253914,7714.925195222949,2718.395281154735,1051.6058553332375,9609.052902302179,9222.095376936397,661.2794389716114],\"y\":[741.9395367485105,4404.177305045018,3424.4268476514662,2088.247847448933,9377.791430037134,8336.721120269383,6872.3624938411385,4891.197617010863,738.552333564213,8731.35064515907,6822.734814938677,9158.25911276198,6703.913977159564,9570.960074100161,7033.4525451610925,4387.992035737459,2458.1029208740656,5153.226627699201,1859.4734079810883,9632.628390481425,7608.4677252686515,5501.441546025676,5489.968222673796,4916.616525066136,5981.176519242287,6275.280680178032,3527.911113807254,5216.171996009058,499.3620349581629,3397.8848091961077],\"z\":[3537.152473799655,2787.494369685135,7254.120883088435,6648.826430440466,9668.369139566705,9695.760051442801,4646.3645978058075,7068.231868681178,4024.104204042056,23.95683725988529,9307.585298082044,175.5441633275223,4034.445884003415,430.0801499554885,400.1878637411371,727.1048957117588,788.7164854942719,8473.15908433419,7853.109948979241,5019.942142250054,8004.872738065737,443.03838742231983,8106.035374386865,3594.8523487140274,5117.15090355217,4305.793651861883,3015.581161998768,600.0665465702037,823.8097990234161,8816.11009424099]}]},{\"name\":\"series 37 (F37)\",\"data\":[{\"name\":\"series 37 (F37)\",\"type\":\"scatter3d\",\"mode\":\"markers\",\"x\":[3719.417862656168,6047.4988056024,5360.66111517819,6849.908239498203,1459.3615065767108,3726.770001488537,752.3996564584412,9574.954276669145,1632.0516983504986,637.9116318994949,8342.576792163985,8204.143574741285,5665.910782137993,3461.8525886895145,2014.3862698784242,1765.6022379780334,7715.654531929444,3808.494219237091,3688.261991312676,2575.7015678258945,9620.707545276246,6765.387475111613,4918.614190592812,5915.534612264405,8091.447214424281,6615.721377497941,4710.85890147071,6788.358599884341,2667.286383416183,9502.543483472871],\"y\":[9041.221480594157,4574.957653748568,1633.1770691842119,5286.827583727909,1985.6304877896002,5905.8345078057355,5786.199472763046,9880.216965435544,1850.334801056388,7133.593982976137,6711.474350141695,4928.961659421478,8245.715143815938,415.83114473302095,7056.720383328038,3883.7865676393644,7656.085015081316,1608.2961740597646,5187.353162489806,2211.1176107346664,5732.103071993842,3920.0513031463656,5559.097551247236,4784.301686865176,4268.750361694994,8596.800098011952,9162.672182230903,5339.16034412899,9630.650706927885,2775.512550024628],\"z\":[5475.172624468108,1286.4182790642142,7247.843236045196,5092.927523892314,8495.364438832743,2144.2501060418463,3728.942529461643,1632.4677296089262,4645.175348851995,1387.3942341251511,4124.950985562892,8358.551391047486,9587.249634806227,9604.98547667403,6925.814872286365,1314.2431814871725,4338.509083179667,1517.4573105619072,3483.1453414286607,2547.636010881924,8452.244301411172,623.5750994832845,1726.3526297568376,7984.309633273228,9496.335108335395,3031.856873418849,6275.769926531471,3277.6661329783783,3572.7773783456028,6376.34791819078]}]},{\"name\":\"series 38 (F38)\",\"data\":[{\"name\":\"series 38 (F38)\",\"type\":\"scatter3d\",\"mode\":\"markers\",\"x\":[8355.17235504184,5045.895996035704,1203.774811045646,624.9131001286723,9267.422172894281,7843.775420372759,6552.228081246917,5058.918882917767,620.8042219082033,1719.4607982326281,5649.535597767873,9736.375568171812,2979.9381211784093,1270.886257145455,1071.1953584939492,346.3189286838375,2163.985365690405,4743.331560812812,6330.777756460358,2520.4045167436516,9026.196807770182,899.1783621737281,3155.4146835511774,5388.404623262068,4222.675367111131,2142.8258806646736,8761.032964705955,4447.485429679684,4214.552041509536,4698.190756132481],\"y\":[8263.130962803472,660.8581502676869,8546.609746266038,513.1668347533025,9438.985775962019,6109.592392513266,1306.70864809311,1004.8776103260637,3199.7430816052206,6492.089373691017,1594.2015598859027,9761.504162446581,3335.934221333228,7298.909157282568,8811.852697845054,9880.92408906033,3367.531029160565,3586.3562376867685,8644.602871370045,1753.3549559582084,6659.736611808613,2930.424336536859,4699.848995091976,8784.639510387973,8358.278964290257,7363.410851987913,8957.74132760481,1808.7758379490804,4153.062988039513,2878.708244548397],\"z\":[1416.3188466081356,7752.736097604696,1396.605237207663,4434.98818730845,5615.142792497154,4493.578791592975,2683.759122163608,299.1913089529596,2082.409673733785,1787.309975777015,641.8148900277621,2038.44763682973,6174.351918475867,7650.902845665381,5385.137420932449,5504.246131901446,262.0706032198161,643.3336542547374,2856.082596393664,3747.8799722920976,2769.7634685355633,1118.4562386530429,3104.008222583071,4964.397817811341,8179.644334802952,8711.973743722441,2446.7832765780163,7282.992707501339,2792.679026790863,9076.738656739826]}]},{\"name\":\"series 39 (F39)\",\"data\":[{\"name\":\"series 39 (F39)\",\"type\":\"scatter3d\",\"mode\":\"markers\",\"x\":[2414.2611428453265,7504.963678225032,770.5884519891559,195.04694853913819,1390.7797640541376,2736.0873663471652,3783.3978122965295,7473.5585421955375,1953.8121231939087,2268.443578102469,5448.141316926866,7265.925177193996,8048.481258121361,2037.437868347135,8668.15779872291,470.15499251746195,1342.7263582773385,5512.96821803707,9968.74087297036,1412.2052703189115,5375.483950236195,2979.3877756441602,9973.736972229557,2354.240960484815,9440.331041999352,5817.118942624345,3279.0108252625814,655.4517303942109,1539.6086762208815,3619.4722617097386],\"y\":[4152.528024399925,3865.2763069003904,1199.1293757836463,9761.434192581759,6727.128557908059,7843.328772152114,8451.144970344167,5382.88425931462,9650.900410399352,4377.2852555112095,4873.329554980045,2656.910602913871,5521.3826270484715,7709.431195401353,6214.117193009767,5684.591616594484,4853.659716457954,3884.530601678594,3839.799655402346,1390.816174401246,2818.737988207607,2896.1294307021044,4006.3823315647505,3391.421366011086,4537.4187883812965,1235.356020539763,9789.26176342691,8960.122850154932,1326.2167227124933,1635.738632143634],\"z\":[396.37387936459436,2944.4218838442002,5965.692874870424,7559.510539864956,6545.5391773687,2762.8757009975734,9797.909217807752,2285.326348089967,8604.304298333605,5461.815394230256,8258.529586569653,6334.267640939255,6270.666521790917,1217.8082120813283,4310.4279611125185,2410.469463709839,4715.636372338114,7642.854352097865,1169.4891283733489,4034.648507818943,2313.676974993996,5782.518117788835,6699.615700287337,2613.2741265923855,9354.639011349176,1792.8942335219456,1902.7844883230016,7813.066433145727,5460.878910031695,7940.513351833216]}]},{\"name\":\"series 40 (F40)\",\"data\":[{\"name\":\"series 40 (F40)\",\"type\":\"scatter3d\",\"mode\":\"markers\",\"x\":[5041.321395159061,7799.971658944792,5825.838931299291,2789.993213108564,1103.3956250155186,9153.70227339772,2845.4342868548933,3227.4453163181724,3559.056085700195,1083.4011129353328,231.17833068602155,313.3531195773709,1652.970093568853,4946.922373825029,1274.051021425019,6866.83568391289,1841.3409855236341,8015.692739276726,1570.6948317044266,7153.91550191501,6404.3218423859225,9929.0554869656,9228.602488961607,8085.617140652469,5751.559998795025,1346.4636961654553,2334.5341794902142,6927.419970203224,3487.3412913151715,6932.835411123388],\"y\":[4300.4863126600885,2679.792420873455,4913.130534845641,9001.838704050113,2594.1072733897386,7010.24452945366,319.1289449893797,3893.8284804076907,5315.534328445597,5900.529434091958,4152.80384981252,479.60958104757754,3100.2071647393946,5018.33440000089,9951.165875458497,9058.152707221541,907.2875907324518,231.00361536230184,8784.907224966817,9355.844054800109,5395.894987367286,9649.534944966306,5886.331316241338,8336.803759990282,8796.447192168023,5124.300158023065,6119.341967771965,2098.2566680050927,9451.968890677812,9209.640041221766],\"z\":[3998.5828625802765,1251.9003139652584,2534.315581894472,8272.68658981619,8076.147831699038,5881.656718264686,1832.829933421054,3642.469800732173,2688.1098925528304,4420.161201178959,4968.038186731604,478.5718530589478,2289.448213369939,600.7819516677448,9900.554463153438,8384.287712107089,4904.772798097834,4018.925332764587,185.46083937821643,8697.462275348564,1583.5869465732478,2775.8334722919385,64.98746103219433,862.8720778161047,8172.640801278445,1180.0292784079913,8197.412743529352,4323.224854532286,4204.270977217522,1546.024088811333]}]},{\"name\":\"series 41 (F41)\",\"data\":[{\"name\":\"series 41 (F41)\",\"type\":\"scatter3d\",\"mode\":\"markers\",\"x\":[587.6694316881293,2961.5524874503008,1248.4411683571172,6756.852358557893,9115.229064396524,6285.975918520704,9687.528621179807,9446.44937641541,1947.4084120928126,5268.525978967073,8546.732224475763,4409.845251749366,6081.325631243152,1032.9022309157997,7749.300594840567,3163.5991141486797,275.3091576240441,1431.7622126903939,5964.612608987189,3455.850259033003,8710.637530742299,3962.328952247085,78.46927343188814,1964.8177053245786,1867.0745810185874,3439.8134275908396,4238.7779076323295,5426.530345451814,1300.7340032631164,9381.34920188531],\"y\":[7416.148209867516,3997.0268452802616,9280.389192736036,1148.8394731929463,8467.74015634743,781.2141319828114,2568.4243266195504,8557.32299941036,6804.033718397089,3150.0250790962737,2025.1968617079974,1876.1613769542273,4932.020086296972,4719.476118553684,6170.662703545149,7933.563385240863,6384.640034212522,1679.672074623848,7354.689723048025,8380.655454096966,8845.124997213292,3538.757448906381,3767.5706372236095,2079.51742479634,7636.224249191419,6286.276649286408,9164.81421870297,6050.301494242916,9168.126673492869,5482.344635272875],\"z\":[4885.383097505421,8445.758480389102,7425.219480167438,7843.4952584109005,5510.112215208252,2617.196063256545,9120.64917539217,2523.017886628389,337.1353975182512,3494.0991687502396,4758.981054302166,7473.055438701367,7743.707133335486,6220.343933106308,3521.0805472439865,2027.6792314242075,8458.902969260154,2273.1401217882308,9621.66692466327,4160.619184754878,6789.247445859483,136.5414348644234,6588.821478786847,9748.275580338242,5919.402091692323,6009.564788048384,3776.0565790428122,1608.0932271458105,4552.62202308722,4999.661990939795]}]},{\"name\":\"series 42 (F42)\",\"data\":[{\"name\":\"series 42 (F42)\",\"type\":\"scatter3d\",\"mode\":\"markers\",\"x\":[6341.381012720686,8084.328931602218,7360.77098698361,4785.494125872922,5914.127941486968,4517.705436809527,981.2572236842232,1828.6573981471531,4219.135091296181,6062.3835745314245,628.3377738016793,4872.21448046797,6039.200180355539,7003.153802710809,9778.809837911911,1684.589513549598,1070.5578115335445,9977.686293612018,6847.191191530079,2790.5875039882667,6462.456185435426,8323.144599824895,8283.068388514563,276.9991346492795,3130.7382761517224,6143.410397347281,7103.365725206723,668.4601047116312,9296.658215861908,3632.629845200962],\"y\":[9514.874884712703,8339.93201577563,4125.997752681181,9692.735476398515,9987.452202185701,9965.381570780462,2829.8681716918995,9947.058647479133,6905.879013000887,1097.927843670391,2137.416675079975,5879.096620948385,6758.449737148817,3134.94414094877,1661.984277249512,14.951877078608344,4712.938573840277,2642.28920839242,2356.0847847159584,2819.915076328203,3385.6673397539785,5295.058116619739,7986.910024930622,9294.116327049936,9626.97732838008,3537.9401923376395,9362.889234947044,7129.122055180224,1226.4908380294082,476.4726467116964],\"z\":[3903.1626227326287,3726.808164338017,1584.1139897924284,2481.1894528287226,5065.65030537791,6383.791335980917,597.8273806085166,9519.857973503273,7135.738209806399,8509.1595317689,4286.873299837413,5328.708687668575,926.4166442985888,4870.186927272457,3999.036986932516,9191.758557362085,5052.044287046246,550.1795161172895,8443.293297771814,7318.038602397423,5611.737955527828,1554.5462703057722,8244.16780435816,4589.731303885814,4354.711039079506,9815.644460154863,3231.7412868402007,6799.9369194320025,1698.719970115088,1723.9042908669467]}]},{\"name\":\"series 43 (F43)\",\"data\":[{\"name\":\"series 43 (F43)\",\"type\":\"scatter3d\",\"mode\":\"markers\",\"x\":[7261.304913826725,9406.980174005137,6334.096241502472,7252.1856302867045,3999.2482096193694,1302.8794302396263,7569.680438687909,6242.275867263852,9816.845543235513,1126.8013260715936,63.293865102346246,9486.89316648368,6701.178333297382,9250.025724999154,3128.215380741098,4867.506272075756,8922.514627987313,717.1496979508285,8418.461443440985,2997.742314461235,2090.042540547824,3148.9648477325895,469.48888773060804,2574.1026097886233,2182.930821144292,8895.640209568779,4307.275943011081,2950.1591531789672,5161.271456528298,2574.551393772262],\"y\":[3137.559069029832,327.3613958542987,4841.53696716755,3535.2962075648175,6988.3331278347505,4395.034723337868,7863.757080192815,7765.143348739568,102.55351211700071,4254.099562349228,9782.708792453295,5281.357512935533,864.3008282674025,6023.50424840893,5582.979522976115,7152.55822087053,3090.504238348192,9655.306196439291,1247.8514308043455,949.4600227709293,1631.6404353246262,9173.799087271322,404.5274485337891,4646.055711126107,8398.658431411071,8806.026692668927,1523.297462542087,6775.500642577012,7169.707998870452,7285.4887805460885],\"z\":[6665.827251974288,4990.661908300589,6829.072908157105,3987.7874610670237,2357.8204812401427,6087.499276769132,3052.047090316333,3496.420606186157,6803.893670086034,8020.146904350482,7873.308981436416,9698.88114223221,5367.574216000414,8469.769195138477,5062.688011918874,6577.674378937621,8006.911422071884,5124.9667193379155,6781.037994312975,487.8175656635475,8186.271893804978,9989.710706625716,3600.2626075992052,7901.840728796969,2677.463776043806,3755.487019146406,5645.369630430177,3355.2583908425627,5618.4166894283835,6557.539234686779]}]},{\"name\":\"series 44 (F44)\",\"data\":[{\"name\":\"series 44 (F44)\",\"type\":\"scatter3d\",\"mode\":\"markers\",\"x\":[7352.750225947528,4639.938283399241,8215.219354423565,8280.793331381128,2137.7184208050703,6169.743573059012,7553.396829856733,4989.26026689317,6125.665505946028,6882.27940507208,4126.88793260167,8023.40814833795,2025.0163049903524,6042.526773922446,7898.257169273563,8843.203390638904,5206.501375405314,8878.601174089374,6971.261088854533,5790.221336086909,4102.088082492741,4106.826889976526,1286.9596839718456,8600.429303206769,6148.239497269496,7092.768214121417,6147.146597226947,2719.950885793164,8672.00036910162,5646.8140859568175],\"y\":[6823.946863920473,8259.320592455677,1354.7392441050754,267.3668081300884,6032.012346874028,7767.442885012638,3207.195604104378,7021.636686545178,619.8185876994056,2914.670697922467,2350.821682759743,9193.496528176958,2479.1500951800426,2645.1255844170373,1324.2256718500212,3329.8070896440413,1376.9351909331394,4391.5802839780035,4119.856147733305,6381.075176608326,4181.171634398617,5541.929194400313,3704.8967581433103,3259.255364703684,5782.761263744406,4504.478489568946,391.6647676597884,8324.970340136682,1907.6517769510492,9439.984126352818],\"z\":[2096.6370992045636,68.36385624840125,2968.759832619704,8011.577019586355,7263.55751533195,5562.266425242605,1124.7284294472693,3349.40983459592,24.90125533413101,143.29704407013756,9792.65138770276,9835.070891608031,5037.309047847884,8215.983829177883,6004.473042979065,7281.50645222266,6350.422790534111,3076.936776485817,1201.8503166339667,3617.4004340724487,654.8904288516311,7220.5591894996915,5331.844913499767,4280.663686517187,304.1289157204918,9714.737351644342,2435.888363074511,1183.883804777035,5615.769011104199,3924.402397841089]}]},{\"name\":\"series 45 (F45)\",\"data\":[{\"name\":\"series 45 (F45)\",\"type\":\"scatter3d\",\"mode\":\"markers\",\"x\":[3317.0404591716583,5335.296410483766,9132.527561167988,7112.810488773725,2325.643556991893,4982.034998287704,6758.5868146421135,3264.839842388355,821.0499799197935,5488.123129791616,1986.3818514310717,1853.556825022672,9447.178944933332,8067.878622809125,9790.032541405055,8210.759192241383,5002.236229823184,1966.09445198639,6185.48088376153,5664.15092504902,5388.012175066984,8709.57380739943,7943.7180831303185,5668.265411645041,7891.7449979020275,7650.291090035806,4492.325732073777,9783.19725857326,1883.6215318161487,9178.661425805307],\"y\":[651.8713106344143,6544.663838808421,6905.56105935646,5706.098005519628,4527.53428756601,7020.866889764344,1082.0053770470695,799.2443900979351,9612.66173822657,5166.078601689512,2801.0231945884066,3693.9695296657137,3959.7864657516748,2957.8283848682595,694.1043924316159,9825.416019949591,2135.9642203577623,5744.023621072558,3085.6085833239467,7981.098400535839,7603.1146576080155,228.28469360340108,8287.902015323509,1217.247358318475,4150.382117127399,6086.234398809841,1385.8007927084136,1774.3004998249667,5054.3577508465,2332.429436227359],\"z\":[1484.0132823332651,9885.64717278287,7754.333670140965,1247.0767239680392,5783.853380325195,2594.4278550486365,3.5872497964273276,5923.634426304967,3310.575908318587,1476.4063328560771,694.0219077536835,2312.841165303169,1630.260872318844,7512.621616076365,4850.320765168431,3015.6816375648464,4475.254783550839,7263.738886912887,7651.093981861855,8017.239408298441,6839.751149230236,6968.719881465674,6758.332966811124,7055.35017827556,6812.174685349836,223.63294466937523,5722.807498562129,9382.41227376453,178.60973312566531,492.130667944356]}]},{\"name\":\"series 46 (F46)\",\"data\":[{\"name\":\"series 46 (F46)\",\"type\":\"scatter3d\",\"mode\":\"markers\",\"x\":[3781.878153140511,9305.674238243419,4661.590375290812,1857.3237633525807,8977.512799578399,80.76361359144357,5551.1509772031195,145.4822907923825,2196.137138058616,4485.180858229552,3440.110293886105,1835.201174926364,9468.266000061749,7712.931336261771,7793.145682882133,11.366291348430257,8664.698809244845,7108.422518312799,7159.283396374465,5031.464423062281,4587.384049343153,3697.2089381506767,7980.020667101081,2542.4819756427996,3376.8916663397486,2473.115704675991,9150.3625848057,3019.8364727159365,3144.755055622406,1965.7296127862578],\"y\":[8757.640475380611,5095.4982219223275,2787.7759164221347,8739.19829067384,2753.0582288612673,9600.649594398974,5052.714619632356,9162.725941566585,2703.484453697056,2468.942738656167,3093.608976607554,9045.119350351575,1226.093665976623,2429.6165956871428,2000.3046220115727,1540.1762695316268,9226.033174520642,3765.432270119653,8075.597419860746,5106.672079604201,8637.373118467876,5318.599278537176,8999.72185666325,6246.15233430823,8010.173034219775,4398.556240825121,7444.747990332657,6243.683070616464,5991.578314071116,8278.684844168434],\"z\":[9187.773029339283,7201.179624355436,9516.436369947502,6564.726367321421,4320.6287126578145,279.8707754417573,9353.003428033098,4875.886219924601,6765.146121430543,8257.92168186702,5541.885540682387,4000.303909067107,2976.854584167854,5261.185286773018,9221.442472493278,8969.775912284296,5456.313073580337,8839.503924277858,5350.455116790243,9344.319247567451,486.10850192793987,3437.9430913276633,2918.9397198713586,5405.3670507558945,2372.8731185498277,9751.785144992982,5380.565614667977,4927.092559753816,8397.511988057682,1456.0663161964205]}]},{\"name\":\"series 47 (F47)\",\"data\":[{\"name\":\"series 47 (F47)\",\"type\":\"scatter3d\",\"mode\":\"markers\",\"x\":[4245.218105564211,1728.5545795867108,9663.152239493085,9364.895173012326,3037.818375981801,305.07243546387343,3079.1558437026556,3202.742582269712,7159.596420183748,495.4273562953726,8830.869647692398,2859.3442443668505,7580.588380822346,2362.2018755535237,5858.605816658756,4251.815357620457,2747.208075971217,4245.7661256143365,5105.684744254818,9732.022341521613,3606.3225826321723,6298.124571691237,6594.192146416807,9354.218764288595,1227.3345672995251,7711.038053345544,1748.4341932218272,7257.397704445971,5146.360777745627,8323.545449219839],\"y\":[6809.900679332846,6918.769190037782,3261.6648452770946,4327.200330024565,6673.877115447283,99.22852267552851,877.08816201848,3383.0568095145695,1026.6722570231568,6928.624305768306,7320.295439998409,6622.626285611092,6273.755422992316,8768.099619769244,3455.234128695661,3725.742339588849,7422.928443218475,1238.7250439063037,2363.2806878096126,2551.4663015836413,3822.9843976659026,2120.0968728876046,8485.12847165133,6643.872635056618,1457.1308137171047,7699.531361970764,7595.548269663333,2342.7558440693097,2351.7870154649067,1591.9317004359025],\"z\":[1125.7291756205423,2200.003386615563,8585.191055107489,2052.363844865537,3552.991280576261,2935.582233834151,4366.580638537192,7367.827987969522,845.2313929348365,4262.789652642683,4705.540363498665,4041.6641307661625,1277.5489815255946,9570.623892375319,3302.4338232525497,9173.485498938797,7331.073651026148,671.8284856535972,5464.673824307264,6689.48762975908,8839.091104582383,6608.374946539295,4089.9010464411576,6892.429085732283,3063.1518587868254,851.8426646648036,8055.9810210542555,177.53980646948997,6961.913317763704,2144.366025180855]}]},{\"name\":\"series 48 (F48)\",\"data\":[{\"name\":\"series 48 (F48)\",\"type\":\"scatter3d\",\"mode\":\"markers\",\"x\":[2719.0503416695146,8700.059759252808,558.0526111960637,1696.5168326348112,1644.6729662846683,4282.068527259958,8013.662520197828,3491.6943538045466,7183.4964904909375,6910.717305014134,4792.120309108158,5042.300802680097,5051.624127649914,5806.925903904396,5114.499648590107,3101.1774824762197,4687.250811732869,4233.068492335842,3811.1707112000404,2552.4896186083,2828.933756307246,9960.111165744025,624.3151638108468,6989.43891006896,2497.201013321928,5629.133768373963,3034.6598470380472,6331.896251051673,3360.027153321118,7119.107619700945],\"y\":[5765.807506296119,245.244335973539,2324.0338633424926,3472.2625347571966,1262.1272412548512,6092.4256951793495,5117.102794854559,8930.326347743008,5641.240210623418,6684.393449576478,614.4119841613859,6199.372357257886,8889.718279977234,6189.8661277540305,9708.74200302757,187.96813655365784,6400.686403331186,2223.488298315787,9637.218494889927,3152.7630258314143,1344.604594989789,8352.20864622645,2850.4920751196637,5437.617704610782,3819.5758528034785,4042.8811329607483,6746.681625579776,806.8182077500252,3245.1116926177738,8419.806255744254],\"z\":[6891.235013139427,1749.8817959340474,5043.357244096495,109.12433554772116,1705.1914638019105,8074.907622821459,1294.3668168555666,7917.687873599567,1028.155672164599,1609.382299978297,7757.085259592807,6127.226148182189,4448.6222236038775,891.8010678080967,6415.28096758971,3780.3373464396373,7843.120202876894,2364.4202137634597,3537.7480440864515,9493.030114273268,8176.969887814664,8766.908932670583,8134.673965623638,2049.2506420616296,7293.2786812008535,1182.6206371430414,4647.147093876305,2316.029326485679,5153.123307558095,8503.659567176075]}]},{\"name\":\"series 49 (F49)\",\"data\":[{\"name\":\"series 49 (F49)\",\"type\":\"scatter3d\",\"mode\":\"markers\",\"x\":[6724.36088119566,3863.584414865603,1788.704216081245,6957.869923435897,6023.13985855869,8082.927059981907,5092.573618055127,2780.326575873211,1107.005662959243,4564.207691176441,8489.879224558683,3113.862403386518,6727.06000082305,9032.257343931124,8526.881917221068,3787.619603723603,3034.5608056577876,9231.468606910059,7457.844964974048,7749.562961801143,7605.126869540364,3810.3766773285865,23.711779771657948,4618.349827746764,547.099564015221,476.99084952109285,6789.822409758191,71.90281031913548,4421.656672756529,7479.142751782075],\"y\":[8646.243945640812,3604.4833444392752,6219.859178545557,6809.81017208548,8373.121368201377,4561.019578544313,8221.887874455855,8445.586693443292,5534.781171034263,9296.894487888956,8206.301695308548,2397.1636197983516,390.14676022279593,6813.351690920884,7182.233078189506,9383.898337525286,993.3596123464616,6283.13219383904,4585.009727727509,1540.245785548382,5207.316790866229,7507.904484572171,6705.771039021081,1720.0308240664097,5964.177040944934,4538.511072094096,4018.227840315738,3685.243021215483,3780.704087210586,3440.995576795213],\"z\":[7020.789204239056,5749.241718701877,5272.650608264968,7505.841271098146,8229.859973387687,7289.957462661359,211.2138768691363,7074.79492577263,40.19109484052264,956.8808959111619,2525.9176629684675,6599.106934431623,4310.739921594806,3366.336190902406,2582.1101952603367,8544.972085083857,9739.58123791592,3612.7353104507188,9047.590178941511,2326.408003609821,7358.982677658985,2019.2138856615538,8711.703083237,6572.760358630072,2811.838013131495,1209.251399758925,1731.5787545760131,4727.478370679161,6463.232834579674,7801.586752480155]}]}]\n",
       "var labels_Nshr55UQY2 = [\"series 0 (F0)\",\"series 1 (F1)\",\"series 2 (F2)\",\"series 3 (F3)\",\"series 4 (F4)\",\"series 5 (F5)\",\"series 6 (F6)\",\"series 7 (F7)\",\"series 8 (F8)\",\"series 9 (F9)\",\"series 10 (F10)\",\"series 11 (F11)\",\"series 12 (F12)\",\"series 13 (F13)\",\"series 14 (F14)\",\"series 15 (F15)\",\"series 16 (F16)\",\"series 17 (F17)\",\"series 18 (F18)\",\"series 19 (F19)\",\"series 20 (F20)\",\"series 21 (F21)\",\"series 22 (F22)\",\"series 23 (F23)\",\"series 24 (F24)\",\"series 25 (F25)\",\"series 26 (F26)\",\"series 27 (F27)\",\"series 28 (F28)\",\"series 29 (F29)\",\"series 30 (F30)\",\"series 31 (F31)\",\"series 32 (F32)\",\"series 33 (F33)\",\"series 34 (F34)\",\"series 35 (F35)\",\"series 36 (F36)\",\"series 37 (F37)\",\"series 38 (F38)\",\"series 39 (F39)\",\"series 40 (F40)\",\"series 41 (F41)\",\"series 42 (F42)\",\"series 43 (F43)\",\"series 44 (F44)\",\"series 45 (F45)\",\"series 46 (F46)\",\"series 47 (F47)\",\"series 48 (F48)\",\"series 49 (F49)\"]\n",
       "var duration_Nshr55UQY2 = 100\n",
       "var config_Nshr55UQY2 = {\"responsive\":true,\"scrollZoom\":true,\"displaylogo\":false}\n",
       "\n",
       "var traces_Nshr55UQY2 = JSON.parse(JSON.stringify(frames_Nshr55UQY2[0].data.map(x => x)))\n",
       "\n",
       "var animation_settings_Nshr55UQY2 = {\n",
       "    mode: \"immediate\",\n",
       "    direction: {},\n",
       "    fromcurrent: true,\n",
       "    frame: [\n",
       "      {duration: duration_Nshr55UQY2},\n",
       "      {duration: duration_Nshr55UQY2},\n",
       "      {redraw: true}\n",
       "    ],\n",
       "    transition: [\n",
       "      {duration: duration_Nshr55UQY2, easing: 'cubic-in-out'},\n",
       "      {duration: duration_Nshr55UQY2, easing: 'cubic-in-out'},\n",
       "    ],\n",
       "    ordering: \"layout first\"\n",
       "}\n",
       "\n",
       "var slider_Nshr55UQY2 = document.createElement(\"input\")\n",
       "var play_Nshr55UQY2 = document.getElementById(\"play_Nshr55UQY2\")\n",
       "var pause_Nshr55UQY2 = document.getElementById(\"pause_Nshr55UQY2\")\n",
       "slider_Nshr55UQY2.id = \"slider_Nshr55UQY2\"\n",
       "slider_Nshr55UQY2.type = \"range\"\n",
       "slider_Nshr55UQY2.min = 0\n",
       "slider_Nshr55UQY2.max = frames_Nshr55UQY2.length - 1\n",
       "slider_Nshr55UQY2.value = 0\n",
       "document.getElementById(\"sliderContainer_Nshr55UQY2\").appendChild(slider_Nshr55UQY2);\n",
       "\n",
       "Plotly.newPlot(graph_Nshr55UQY2, traces_Nshr55UQY2, layout_Nshr55UQY2, config_Nshr55UQY2)\n",
       ".then(function () { Plotly.addFrames(graph_Nshr55UQY2, frames_Nshr55UQY2) })\n",
       "\n",
       "var trigger_Nshr55UQY2 = true\n",
       "var reset_count_Nshr55UQY2 = false\n",
       "\n",
       "play_Nshr55UQY2.addEventListener('click', async function() {\n",
       "   trigger_Nshr55UQY2 = true\n",
       "   if (reset_count_Nshr55UQY2) {\n",
       "      slider_Nshr55UQY2.value = 0\n",
       "      reset_count_Nshr55UQY2 = false\n",
       "   }\n",
       "\n",
       "  const start_index = slider_Nshr55UQY2.value == labels_Nshr55UQY2.length - 1 ? 0 : slider_Nshr55UQY2.value\n",
       "  const end_index = labels_Nshr55UQY2.length\n",
       "  await Plotly.animate(graph_Nshr55UQY2, labels_Nshr55UQY2.slice(start_index, end_index), animation_settings_Nshr55UQY2)\n",
       "})\n",
       "\n",
       "pause_Nshr55UQY2.addEventListener('click', async function() {\n",
       "  await Plotly.animate(graph_Nshr55UQY2, [null], animation_settings_Nshr55UQY2)\n",
       "  trigger_Nshr55UQY2 = false;\n",
       "})\n",
       "\n",
       "graph_Nshr55UQY2.on('plotly_redraw', () => {\n",
       "   value_Nshr55UQY2.innerHTML = slider_Nshr55UQY2.value;\n",
       "   if (trigger_Nshr55UQY2 & !reset_count_Nshr55UQY2) ++slider_Nshr55UQY2.value\n",
       "   if (slider_Nshr55UQY2.value == labels_Nshr55UQY2.length - 1) reset_count_Nshr55UQY2 = true\n",
       "});\n",
       "\n",
       "slider_Nshr55UQY2.oninput = async function() {\n",
       "   await Plotly.animate(graph_Nshr55UQY2, frames_Nshr55UQY2[this.value], animation_settings_Nshr55UQY2)\n",
       "   trigger_Nshr55UQY2 = false\n",
       "   slider_Nshr55UQY2.value = this.value\n",
       "   value_Nshr55UQY2.innerHTML = this.value;\n",
       "   if (this.value == 0) reset_count_Nshr55UQY2 = false\n",
       "   if (this.value == labels_Nshr55UQY2.length - 1) reset_count_Nshr55UQY2 = true\n",
       "   reset_count_Nshr55UQY2 = false\n",
       "}\n",
       "\n",
       "next_Nshr55UQY2.addEventListener('click', function() {\n",
       "    if (slider_Nshr55UQY2.value == labels_Nshr55UQY2.length - 1) {\n",
       "        reset_count_Nshr55UQY2 = true;\n",
       "        return;\n",
       "    }\n",
       "    ++slider_Nshr55UQY2.value;\n",
       "    value_Nshr55UQY2.innerHTML = slider_Nshr55UQY2.value;\n",
       "    trigger_Nshr55UQY2 = false;\n",
       "    slider_Nshr55UQY2.oninput();\n",
       "})\n",
       "\n",
       "prev_Nshr55UQY2.addEventListener('click', function() {\n",
       "    if (slider_Nshr55UQY2.value == 0) {\n",
       "        reset_count_Nshr55UQY2 = false;\n",
       "        return;\n",
       "    }\n",
       "    --slider_Nshr55UQY2.value;\n",
       "    value_Nshr55UQY2.innerHTML = slider_Nshr55UQY2.value;\n",
       "    trigger_Nshr55UQY2 = false;\n",
       "    slider_Nshr55UQY2.oninput();\n",
       "})\n",
       "\n",
       "</script> \n"
      ]
     },
     "metadata": {},
     "output_type": "display_data"
    }
   ],
   "source": [
    "val series = createXYZSeries(numberToCreate = 50, length = 30)\n",
    "\n",
    "val chart = (\n",
    "  Chart(animated = true)\n",
    "  setTitle \"Animation 3D\"\n",
    "  addSeries series\n",
    "  setXAxisLimits(0, 1E4)\n",
    "  setYAxisLimits(0, 1E4)\n",
    "  setZAxisLimits(0, 1E4)\n",
    "  drawZAxisLog true\n",
    ")\n",
    "\n",
    "chart.plotInline"
   ]
  },
  {
   "cell_type": "markdown",
   "metadata": {},
   "source": [
    "## IO + Utility Functions\n",
    "\n",
    "The library also comes with some basic CSV IO functions and a utility function for breaking down data"
   ]
  },
  {
   "cell_type": "code",
   "execution_count": 50,
   "metadata": {},
   "outputs": [],
   "source": [
    "import org.carbonateresearch.picta.IO._\n",
    "import org.carbonateresearch.picta.common.Utils.getSeriesbyCategory"
   ]
  },
  {
   "cell_type": "code",
   "execution_count": 51,
   "metadata": {},
   "outputs": [
    {
     "name": "stdout",
     "output_type": "stream",
     "text": [
      "/Users/fazi/Desktop/Final Project/picta\n"
     ]
    }
   ],
   "source": [
    "val working_directory = getWorkingDirectory\n",
    "\n",
    "println(working_directory)"
   ]
  },
  {
   "cell_type": "code",
   "execution_count": 52,
   "metadata": {},
   "outputs": [],
   "source": [
    "// by providing a path, we can read in a CSV\n",
    "val filepath = working_directory + \"/iris_csv.csv\"\n",
    "\n",
    "val data = readCSV(filepath)\n",
    "\n",
    "// by default, CSV are read in as strings. However we can convert the individual columns to the correct format\n",
    "val sepal_length = data(\"sepallength\").map(_.toDouble)\n",
    "val petal_width = data(\"petalwidth\").map(_.toDouble)\n",
    "val categories = data(\"class\")"
   ]
  },
  {
   "cell_type": "code",
   "execution_count": 53,
   "metadata": {},
   "outputs": [
    {
     "data": {
      "text/html": [
       "<div id=\"grid-container_JrlkwBnhix\" class=\"grid-container\" align=\"center\"> \n",
       "<div id=\"grid_JrlkwBnhix\" class=\"grid\" align=\"center\"> \n",
       "<div id=\"graph_BgkVrZ6mlR\" class=\"graph\"></div> \n",
       "</div> \n",
       "</div> \n",
       "<script>\n",
       "var masonry = new Macy({\n",
       "    container: '#grid_JrlkwBnhix',\n",
       "    debug: true,\n",
       "    mobileFirst: true,\n",
       "    columns: 1,\n",
       "    margin: {\n",
       "        x: 0,\n",
       "        y: 50\n",
       "    }\n",
       "  });\n",
       "\n",
       "  var traces_BgkVrZ6mlR = [{\"name\":\"zOMUQJE471\",\"type\":\"scatter\",\"mode\":\"markers\",\"x\":[5.9,6.2,6.5,6.3,6.7,6.7,6.8,5.8,6.9,6.7,6.9,6,6.4,6.3,7.7,6.1,6.3,6.4,7.9,7.4,7.2,6.4,6.1,6.2,7.2,6.7,6.3,7.7,5.6,6.9,6,7.7,7.7,6.5,6.4,5.8,5.7,6.8,6.4,6.5,7.2,6.7,7.3,4.9,7.6,6.5,6.3,7.1,5.8,6.3,5.7,5.1,6.2,5.7,5.7,5.6,5,5.8,6.1,5.5,5.5,5.6,6.3,6.7,6,5.4,6,5.8,5.5,5.5,5.7,6,6.7,6.8,6.6,6.4,6.1,6.3,6.1,5.9,5.6,6.2,5.8,5.6,6.7,5.6,6.1,6,5.9,5,5.2,6.6,4.9,6.3,5.7,6.5,5.5,6.9,6.4,7,5,5.3,4.6,5.1,4.8,5.1,5,4.4,4.5,5,5.1,4.4,4.9,5.5,5,4.9,5.5,5.2,5.4,4.8,4.7,5.2,5.2,5,5,4.8,5.1,4.6,5.1,5.4,5.1,5.7,5.1,5.4,5.7,5.8,4.3,4.8,4.8,5.4,4.9,4.4,5,4.6,5.4,5,4.6,4.7,4.9,5.1],\"y\":[1.8,2.3,2,1.9,2.3,2.5,2.3,1.9,2.3,2.4,2.1,1.8,1.8,2.4,2.3,1.4,1.5,2.2,2,1.9,1.6,2.1,1.8,1.8,1.8,2.1,1.8,2,2,2.3,1.5,2.3,2.2,1.8,2.3,2.4,2,2.1,1.9,2,2.5,1.8,1.8,1.7,2.1,2.2,1.8,2.1,1.9,2.5,1.3,1.1,1.3,1.3,1.2,1.3,1,1.2,1.4,1.2,1.3,1.3,1.3,1.5,1.6,1.5,1.6,1.2,1,1.1,1,1.5,1.7,1.4,1.4,1.3,1.2,1.5,1.3,1.8,1.1,1.5,1,1.5,1.4,1.3,1.4,1,1.5,1,1.4,1.3,1,1.6,1.3,1.5,1.3,1.5,1.5,1.4,0.2,0.2,0.2,0.2,0.3,0.4,0.6,0.2,0.3,0.3,0.2,0.2,0.1,0.2,0.2,0.1,0.2,0.1,0.4,0.2,0.2,0.2,0.2,0.4,0.2,0.2,0.5,0.2,0.4,0.2,0.3,0.3,0.3,0.4,0.4,0.2,0.1,0.1,0.2,0.2,0.1,0.2,0.2,0.3,0.4,0.2,0.2,0.2,0.2,0.2]}];\n",
       " var layout_BgkVrZ6mlR = {\"height\":550,\"width\":600,\"hovermode\":\"closest\",\"title\":{\"text\":\"Uninformative Chart\"},\"showlegend\":true};\n",
       " var config_BgkVrZ6mlR = {\"responsive\":true,\"scrollZoom\":true,\"displaylogo\":false};\n",
       " Plotly.newPlot(\"graph_BgkVrZ6mlR\", traces_BgkVrZ6mlR, layout_BgkVrZ6mlR, config_BgkVrZ6mlR);\n",
       "</script> \n"
      ]
     },
     "metadata": {},
     "output_type": "display_data"
    }
   ],
   "source": [
    "val series = XY(sepal_length, petal_width) asType SCATTER drawStyle MARKERS\n",
    "\n",
    "val chart = Chart() addSeries series setTitle \"Uninformative Chart\"\n",
    "\n",
    "chart.plotInline"
   ]
  },
  {
   "cell_type": "markdown",
   "metadata": {},
   "source": [
    "The above chart is not very informative. However since we have the per data point category labels, we can use the utility function to display the data in the different clusters"
   ]
  },
  {
   "cell_type": "code",
   "execution_count": 54,
   "metadata": {},
   "outputs": [
    {
     "data": {
      "text/html": [
       "<div id=\"grid-container_xFA3V9JF96\" class=\"grid-container\" align=\"center\"> \n",
       "<div id=\"grid_xFA3V9JF96\" class=\"grid\" align=\"center\"> \n",
       "<div id=\"graph_ntDdskoL23\" class=\"graph\"></div> \n",
       "</div> \n",
       "</div> \n",
       "<script>\n",
       "var masonry = new Macy({\n",
       "    container: '#grid_xFA3V9JF96',\n",
       "    debug: true,\n",
       "    mobileFirst: true,\n",
       "    columns: 1,\n",
       "    margin: {\n",
       "        x: 0,\n",
       "        y: 50\n",
       "    }\n",
       "  });\n",
       "\n",
       "  var traces_ntDdskoL23 = [{\"name\":\"Iris-versicolor\",\"type\":\"scatter\",\"mode\":\"markers\",\"x\":[7,6.4,6.9,5.5,6.5,5.7,6.3,4.9,6.6,5.2,5,5.9,6,6.1,5.6,6.7,5.6,5.8,6.2,5.6,5.9,6.1,6.3,6.1,6.4,6.6,6.8,6.7,6,5.7,5.5,5.5,5.8,6,5.4,6,6.7,6.3,5.6,5.5,5.5,6.1,5.8,5,5.6,5.7,5.7,6.2,5.1,5.7],\"y\":[1.4,1.5,1.5,1.3,1.5,1.3,1.6,1,1.3,1.4,1,1.5,1,1.4,1.3,1.4,1.5,1,1.5,1.1,1.8,1.3,1.5,1.2,1.3,1.4,1.4,1.7,1.5,1,1.1,1,1.2,1.6,1.5,1.6,1.5,1.3,1.3,1.3,1.2,1.4,1.2,1,1.3,1.2,1.3,1.3,1.1,1.3]},{\"name\":\"Iris-setosa\",\"type\":\"scatter\",\"mode\":\"markers\",\"x\":[5.1,4.9,4.7,4.6,5,5.4,4.6,5,4.4,4.9,5.4,4.8,4.8,4.3,5.8,5.7,5.4,5.1,5.7,5.1,5.4,5.1,4.6,5.1,4.8,5,5,5.2,5.2,4.7,4.8,5.4,5.2,5.5,4.9,5,5.5,4.9,4.4,5.1,5,4.5,4.4,5,5.1,4.8,5.1,4.6,5.3,5],\"y\":[0.2,0.2,0.2,0.2,0.2,0.4,0.3,0.2,0.2,0.1,0.2,0.2,0.1,0.1,0.2,0.4,0.4,0.3,0.3,0.3,0.2,0.4,0.2,0.5,0.2,0.2,0.4,0.2,0.2,0.2,0.2,0.4,0.1,0.2,0.1,0.2,0.2,0.1,0.2,0.2,0.3,0.3,0.2,0.6,0.4,0.3,0.2,0.2,0.2,0.2]},{\"name\":\"Iris-virginica\",\"type\":\"scatter\",\"mode\":\"markers\",\"x\":[6.3,5.8,7.1,6.3,6.5,7.6,4.9,7.3,6.7,7.2,6.5,6.4,6.8,5.7,5.8,6.4,6.5,7.7,7.7,6,6.9,5.6,7.7,6.3,6.7,7.2,6.2,6.1,6.4,7.2,7.4,7.9,6.4,6.3,6.1,7.7,6.3,6.4,6,6.9,6.7,6.9,5.8,6.8,6.7,6.7,6.3,6.5,6.2,5.9],\"y\":[2.5,1.9,2.1,1.8,2.2,2.1,1.7,1.8,1.8,2.5,2,1.9,2.1,2,2.4,2.3,1.8,2.2,2.3,1.5,2.3,2,2,1.8,2.1,1.8,1.8,1.8,2.1,1.6,1.9,2,2.2,1.5,1.4,2.3,2.4,1.8,1.8,2.1,2.4,2.3,1.9,2.3,2.5,2.3,1.9,2,2.3,1.8]}];\n",
       " var layout_ntDdskoL23 = {\"height\":550,\"width\":600,\"hovermode\":\"closest\",\"title\":{\"text\":\"Iris\"},\"showlegend\":true};\n",
       " var config_ntDdskoL23 = {\"responsive\":true,\"scrollZoom\":true,\"displaylogo\":false};\n",
       " Plotly.newPlot(\"graph_ntDdskoL23\", traces_ntDdskoL23, layout_ntDdskoL23, config_ntDdskoL23);\n",
       "</script> \n"
      ]
     },
     "metadata": {},
     "output_type": "display_data"
    }
   ],
   "source": [
    "val result = getSeriesbyCategory(categories, (sepal_length, petal_width))\n",
    "\n",
    "val chart = Chart() addSeries result setTitle \"Iris\" showLegend true\n",
    "\n",
    "chart.plotInline"
   ]
  },
  {
   "cell_type": "markdown",
   "metadata": {},
   "source": [
    "## Conus Integration\n",
    "\n",
    "Picta was originally created to help plot data in CoNuS and with Spark. A couple of utility functions make wrangling CoNuS data easier. Below is an example taken from the conus repo and plotting some variables of interest."
   ]
  },
  {
   "cell_type": "code",
   "execution_count": 55,
   "metadata": {},
   "outputs": [],
   "source": [
    "import org.carbonateresearch.picta.conus.Utils._\n",
    "import org.carbonateresearch.picta.{Canvas, Chart, XY}\n",
    "import org.carbonateresearch.conus.common.SingleModelResults\n",
    "import org.carbonateresearch.conus._\n",
    "\n",
    "import math._"
   ]
  },
  {
   "cell_type": "code",
   "execution_count": 56,
   "metadata": {
    "scrolled": false
   },
   "outputs": [
    {
     "name": "stdout",
     "output_type": "stream",
     "text": [
      "17:16:20.229 [CoNuS-akka.actor.default-dispatcher-3] INFO akka.event.slf4j.Slf4jLogger - Slf4jLogger started\n"
     ]
    },
    {
     "name": "stderr",
     "output_type": "stream",
     "text": [
      "SLF4J: A number (1) of logging calls during the initialization phase have been intercepted and are\n",
      "SLF4J: now being replayed. These are subject to the filtering rules of the underlying logging system.\n",
      "SLF4J: See also http://www.slf4j.org/codes.html#replay\n"
     ]
    },
    {
     "data": {
      "text/html": [
       "Variable <b>Number of Rats</b> with initial value of 2 Individuals  defined"
      ]
     },
     "metadata": {},
     "output_type": "display_data"
    },
    {
     "data": {
      "text/html": [
       "Variable <b>Death rate</b> with initial value of 0.0 %  defined"
      ]
     },
     "metadata": {},
     "output_type": "display_data"
    }
   ],
   "source": [
    "val simulator = new AlmondSimulator // We create an Almond specific simulator\n",
    "\n",
    "// We will now create a ver simple 2D CoNuS model. The model has a dimension of 3x3 grids, and each grid is meant to represent\n",
    "// about 100x100 meters of a field. We initialize the model with values ranging from 2.0 to 6.0. These represent the population \n",
    "// of rats living in each 100 sq meter of the field. We will run the simulation for 10 time step, each time step represents\n",
    "// one generation. We assume a perfect parity between male and female rat, and we also assume that each couple will have 10\n",
    "// babies per generation. In addition, we will simulate a death rate between 0 to 0.9 (0 to 90% of the population), assigned\n",
    "// randomly at each timestep and for each square. A major simplification is that each cell (square in the field) has its own\n",
    "// rat population, there is no movement of rats in between the different cells.\n",
    "\n",
    "// In CoNuS, values that will be calculated are know as model variables. Let's set a few\n",
    "val nbRats:ModelVariable[Int] = ModelVariable(\"Number of Rats\",2,\"Individuals\") //Notice this is an Int\n",
    "val deathRate:ModelVariable[Double] = ModelVariable(\"Death rate\",0.0,\"%\")\n",
    "\n",
    "// Let's initialise a few model conditions \n",
    "val numberOfSteps = 10\n",
    "\n",
    "// And let's create a function that, given a rat population and a deathRate, calculates a new population \n",
    "\n",
    "def survivingRats(initialPopulation:Int, deathRate:Double): Int = {\n",
    "    initialPopulation-math.floor(initialPopulation.toDouble*deathRate).toInt\n",
    "}\n"
   ]
  },
  {
   "cell_type": "code",
   "execution_count": 57,
   "metadata": {},
   "outputs": [
    {
     "name": "stdout",
     "output_type": "stream",
     "text": [
      "A total of 1 unique models were defined, attempting to create a list now.\n",
      "Models list successfully created.\n"
     ]
    },
    {
     "data": {
      "text/html": [
       "<b>Model characteristics</b><table class=\"table\"><tr><th>Feature</th><th>Value</th></tr><tr><td>Name</td><td>Simplified rat population dynamics</td></tr><tr><td>Nb of steps</td><td>10</td></tr><tr><td>Nb of models</td><td>1</td></tr><tr><td>Nb grid cells</td><td>9</td></tr><tr><td>Nb of operations per step</td><td>2</td></tr><tr><td>Total nb of operations</td><td>180</td></tr></table>"
      ]
     },
     "metadata": {},
     "output_type": "display_data"
    }
   ],
   "source": [
    "// Now we can create our model, step by step\n",
    "val ratPopulation = new SteppedModel(numberOfSteps,\"Simplified rat population dynamics\")\n",
    "    .setGrid(3,3) // 9 cells\n",
    "    .defineMathematicalModel( // In this super simple model we do only two things at each step\n",
    "      deathRate =>> {(s:Step) => scala.util.Random.nextDouble()*0.9}, // calculate a death rate\n",
    "      nbRats =>> {(s:Step) => {survivingRats(nbRats(s-1)+(nbRats(s-1)/2*10),deathRate(s))}} // calcuate the nb rats\n",
    "    )\n",
    "    .defineInitialModelConditions( // Now we need to determine the inital size of the population at each model grid\n",
    "      PerCell(nbRats,List(\n",
    "        (List(2),Seq(0,0)),\n",
    "        (List(2),Seq(0,1)),\n",
    "        (List(4),Seq(0,2)),\n",
    "        (List(4),Seq(1,0)),\n",
    "        (List(2),Seq(1,1)),\n",
    "        (List(6),Seq(1,2)),\n",
    "        (List(2),Seq(2,0)),\n",
    "        (List(4),Seq(2,1)),\n",
    "        (List(6),Seq(2,2)))))"
   ]
  },
  {
   "cell_type": "code",
   "execution_count": 58,
   "metadata": {},
   "outputs": [
    {
     "data": {
      "text/html": [
       "Run progress:<br>#################################################################################################### 100.0%<br>Total runtime: 0 seconds"
      ]
     },
     "metadata": {},
     "output_type": "display_data"
    }
   ],
   "source": [
    "// Now we run the model\n",
    "simulator.evaluate(ratPopulation)"
   ]
  },
  {
   "cell_type": "code",
   "execution_count": 60,
   "metadata": {
    "scrolled": false
   },
   "outputs": [
    {
     "data": {
      "text/html": [
       "<div id=\"grid-container_ErjWIXfMAB\" class=\"grid-container\" align=\"center\"> \n",
       "<div id=\"grid_ErjWIXfMAB\" class=\"grid\" align=\"center\"> \n",
       "<div id=\"graph_vDnokl4iyI\" class=\"graph\"></div> \n",
       "</div> \n",
       "</div> \n",
       "<script>\n",
       "var masonry = new Macy({\n",
       "    container: '#grid_ErjWIXfMAB',\n",
       "    debug: true,\n",
       "    mobileFirst: true,\n",
       "    columns: 1,\n",
       "    margin: {\n",
       "        x: 0,\n",
       "        y: 50\n",
       "    }\n",
       "  });\n",
       "\n",
       "  var traces_vDnokl4iyI = [{\"name\":\"Death rate\",\"type\":\"scatter\",\"x\":[0,1,2,3,4,5,6,7,8],\"y\":[0.8746535081263311,0.031829574649744174,0.7307648850256557,0.7665620351347731,0.29666389031029955,0.5483658774849647,0.02739575816197871,0.8436887187800086,0.8207950296622535,0.7546291128476154]},{\"name\":\"Nb of rats\",\"type\":\"scatter\",\"yaxis\":\"y2\",\"x\":[0,1,2,3,4,5,6,7,8],\"y\":[2,12,20,29,119,321,1869,1753,1884,2774]}];\n",
       " var layout_vDnokl4iyI = {\"height\":550,\"width\":600,\"hovermode\":\"closest\",\"title\":{\"text\":\"Death rate vs nb of rats per generation for cell (0,0)\"},\"showlegend\":true,\"xaxis\":{\"title\":{\"text\":\"Generation\"},\"showgrid\":true,\"zeroline\":false,\"showline\":false},\"yaxis\":{\"title\":{\"text\":\"Death rate\"},\"showgrid\":true,\"zeroline\":false,\"showline\":false},\"yaxis2\":{\"title\":{\"text\":\"Nb rats\"},\"showgrid\":true,\"zeroline\":false,\"showline\":false,\"side\":\"right\",\"overlaying\":\"y\",\"tickformat\":\"0.0f\"}};\n",
       " var config_vDnokl4iyI = {\"responsive\":true,\"scrollZoom\":true,\"displaylogo\":false};\n",
       " Plotly.newPlot(\"graph_vDnokl4iyI\", traces_vDnokl4iyI, layout_vDnokl4iyI, config_vDnokl4iyI);\n",
       "</script> \n"
      ]
     },
     "metadata": {},
     "output_type": "display_data"
    },
    {
     "data": {
      "text/html": [
       "<b>Simplified rat population dynamics model #1 <br>Timestep: 9</b> [from 0 to 9]<table class=\"table\" style=\"align: center; display:block; background-color:fffff0; border: 2px solid green; height: 450px; overflow-y: scroll\"><tr><th style=\"border: 1px solid green; background-color:fffff0\">Cell coordinates</th><th style=\"border: 1px solid green; background-color:#ebebec\">Number of Rats</th><th style=\"border: 1px solid green; background-color:#ebebec\">Death rate</th></tr><tr style=\"border: 1px solid green; background-color:fffff0\"><td style=\"border: 1px solid green; background-color:fffff0\">(0, 0)</td><td style=\"border: 1px solid green; background-color:fffff0\">2774</td><td style=\"border: 1px solid green; background-color:fffff0\">0.7546291128476154</td></tr><tr style=\"border: 1px solid green; background-color:fffff0\"><td style=\"border: 1px solid green; background-color:fffff0\">(0, 1)</td><td style=\"border: 1px solid green; background-color:fffff0\">5530</td><td style=\"border: 1px solid green; background-color:fffff0\">0.8643091295605385</td></tr><tr style=\"border: 1px solid green; background-color:fffff0\"><td style=\"border: 1px solid green; background-color:fffff0\">(0, 2)</td><td style=\"border: 1px solid green; background-color:fffff0\">94678</td><td style=\"border: 1px solid green; background-color:fffff0\">0.7451193238389766</td></tr><tr style=\"border: 1px solid green; background-color:fffff0\"><td style=\"border: 1px solid green; background-color:fffff0\">(1, 0)</td><td style=\"border: 1px solid green; background-color:fffff0\">5764</td><td style=\"border: 1px solid green; background-color:fffff0\">0.6696876234748471</td></tr><tr style=\"border: 1px solid green; background-color:fffff0\"><td style=\"border: 1px solid green; background-color:fffff0\">(1, 1)</td><td style=\"border: 1px solid green; background-color:fffff0\">27559</td><td style=\"border: 1px solid green; background-color:fffff0\">0.3002731251910419</td></tr><tr style=\"border: 1px solid green; background-color:fffff0\"><td style=\"border: 1px solid green; background-color:fffff0\">(1, 2)</td><td style=\"border: 1px solid green; background-color:fffff0\">4495310</td><td style=\"border: 1px solid green; background-color:fffff0\">0.11279058375097456</td></tr><tr style=\"border: 1px solid green; background-color:fffff0\"><td style=\"border: 1px solid green; background-color:fffff0\">(2, 0)</td><td style=\"border: 1px solid green; background-color:fffff0\">353009</td><td style=\"border: 1px solid green; background-color:fffff0\">0.8680828644779888</td></tr><tr style=\"border: 1px solid green; background-color:fffff0\"><td style=\"border: 1px solid green; background-color:fffff0\">(2, 1)</td><td style=\"border: 1px solid green; background-color:fffff0\">28808</td><td style=\"border: 1px solid green; background-color:fffff0\">0.6719572479842593</td></tr><tr style=\"border: 1px solid green; background-color:fffff0\"><td style=\"border: 1px solid green; background-color:fffff0\">(2, 2)</td><td style=\"border: 1px solid green; background-color:fffff0\">4298</td><td style=\"border: 1px solid green; background-color:fffff0\">0.6894402371924573</td></tr></table>"
      ]
     },
     "metadata": {},
     "output_type": "display_data"
    }
   ],
   "source": [
    "// grab the results from the Conus model\n",
    "val model: SingleModelResults = simulator(ratPopulation)(0)\n",
    "\n",
    "val generation = (0 until numberOfSteps-1).map(x=>x.toDouble).toList\n",
    "\n",
    "// we can use the utility function to grab the series for a single variable\n",
    "val deathRateSeries: List[Double] = getDataFromSingleModel(model, deathRate, List(0,0), numberOfSteps)\n",
    "\n",
    "val xy1 = XY(generation, deathRateSeries) setName(\"Death rate\")\n",
    "\n",
    "// alternatively we can quickly get the same data for XY using the function below\n",
    "//  val xy1 = getXYSeriesFromSingleModel(model, (age, d18Occ), List(0), numberOfSteps)\n",
    "\n",
    "// lets also plot a second y variable\n",
    "val yaxis2 = Axis(\n",
    "    Y,\n",
    "    position = 2, \n",
    "    title = \"Nb rats\", \n",
    "    overlaying = Axis(Y), // this ensures that the axis sits on a seperate axis\n",
    "    side = RIGHT_SIDE, // this ensures the axis is on the right hand side\n",
    "    tickformat = \"0.0f\" // this will keep formatting reasonable for display purposes\n",
    ")\n",
    "\n",
    "// we construct the second y variable;\n",
    "val nbRatsSeries: List[Double] = getDataFromSingleModel(model, nbRats, List(0,0), numberOfSteps).map(x => x.toDouble)\n",
    "val xy2 = XY(generation, nbRatsSeries) setAxis yaxis2 setName(\"Nb of rats\")\n",
    "\n",
    "// finally we can combine in a single chart\n",
    "val chart = (\n",
    "    Chart() \n",
    "    addSeries xy1\n",
    "    addSeries xy2\n",
    "    setTitle(\"Death rate vs nb of rats per generation for cell (0,0)\") \n",
    "    addAxes(Axis(X, title=\"Generation\"), Axis(Y, title=\"Death rate\"), yaxis2)\n",
    ")\n",
    "\n",
    "val canvas = Canvas() addCharts chart\n",
    "\n",
    "// When we plot the result, we can see the legend is in the wrong place and overlaying the axis - we can overcome this\n",
    "// in the next example\n",
    "canvas.plotInline()"
   ]
  },
  {
   "cell_type": "markdown",
   "metadata": {
    "pycharm": {
     "name": "#%% md\n"
    }
   },
   "source": [
    "### Moving the Legend\n",
    "\n",
    "We can also move the Legend and position it where we would like as follows:"
   ]
  },
  {
   "cell_type": "code",
   "execution_count": 61,
   "metadata": {
    "pycharm": {
     "name": "#%%\n"
    }
   },
   "outputs": [],
   "source": [
    "import org.carbonateresearch.picta.options.AUTO"
   ]
  },
  {
   "cell_type": "code",
   "execution_count": 62,
   "metadata": {
    "scrolled": false
   },
   "outputs": [
    {
     "data": {
      "text/html": [
       "<div id=\"grid-container_J6aOgnu9ux\" class=\"grid-container\" align=\"center\"> \n",
       "<div id=\"grid_J6aOgnu9ux\" class=\"grid\" align=\"center\"> \n",
       "<div id=\"graph_2LVdJhDPLv\" class=\"graph\"></div> \n",
       "</div> \n",
       "</div> \n",
       "<script>\n",
       "var masonry = new Macy({\n",
       "    container: '#grid_J6aOgnu9ux',\n",
       "    debug: true,\n",
       "    mobileFirst: true,\n",
       "    columns: 1,\n",
       "    margin: {\n",
       "        x: 0,\n",
       "        y: 50\n",
       "    }\n",
       "  });\n",
       "\n",
       "  var traces_2LVdJhDPLv = [{\"name\":\"Death rate\",\"type\":\"scatter\",\"x\":[0,1,2,3,4,5,6,7,8],\"y\":[0.8746535081263311,0.031829574649744174,0.7307648850256557,0.7665620351347731,0.29666389031029955,0.5483658774849647,0.02739575816197871,0.8436887187800086,0.8207950296622535,0.7546291128476154]},{\"name\":\"Nb of rats\",\"type\":\"scatter\",\"yaxis\":\"y2\",\"x\":[0,1,2,3,4,5,6,7,8],\"y\":[2,12,20,29,119,321,1869,1753,1884,2774]}];\n",
       " var layout_2LVdJhDPLv = {\"height\":550,\"width\":600,\"hovermode\":\"closest\",\"title\":{\"text\":\"Death rate vs Nb of rats for cell (0,0)\"},\"showlegend\":true,\"legend\":{\"orientation\":\"h\",\"x\":0.5,\"y\":-0.5,\"xanchor\":\"auto\",\"yanchor\":\"auto\"},\"xaxis\":{\"title\":{\"text\":\"Generation\"},\"showgrid\":true,\"zeroline\":false,\"showline\":false},\"yaxis\":{\"title\":{\"text\":\"Death rate\"},\"showgrid\":true,\"zeroline\":false,\"showline\":false},\"yaxis2\":{\"title\":{\"text\":\"Nb rats\"},\"showgrid\":true,\"zeroline\":false,\"showline\":false,\"side\":\"right\",\"overlaying\":\"y\",\"tickformat\":\"0.0f\"}};\n",
       " var config_2LVdJhDPLv = {\"responsive\":true,\"scrollZoom\":true,\"displaylogo\":false};\n",
       " Plotly.newPlot(\"graph_2LVdJhDPLv\", traces_2LVdJhDPLv, layout_2LVdJhDPLv, config_2LVdJhDPLv);\n",
       "</script> \n"
      ]
     },
     "metadata": {},
     "output_type": "display_data"
    }
   ],
   "source": [
    "// finally we can combine in a single chart\n",
    "val chart = (\n",
    "    Chart() \n",
    "    addSeries xy1\n",
    "    addSeries xy2\n",
    "    setTitle(\"Death rate vs Nb of rats for cell (0,0)\") \n",
    "    addAxes(Axis(X, title=\"Generation\"), Axis(Y, title=\"Death rate\"), yaxis2)\n",
    "    setLegend(x = 0.5, y = -0.5, orientation = HORIZONTAL, xanchor = AUTO, yanchor = AUTO)\n",
    ")\n",
    "\n",
    "val canvas = Canvas() addCharts chart\n",
    "\n",
    "canvas.plotInline()"
   ]
  },
  {
   "cell_type": "code",
   "execution_count": 63,
   "metadata": {},
   "outputs": [
    {
     "data": {
      "text/html": [
       "<div id=\"grid-container_m3ZOhf7P3z\" class=\"grid-container\" align=\"center\"> \n",
       "<div id=\"grid_m3ZOhf7P3z\" class=\"grid\" align=\"center\"> \n",
       "\n",
       "<div align=\"center\">\n",
       "  <div id=\"graph_UJoJUigW4Z\" class=\"graph\"></div>\n",
       "  <div class=\"animationInterface\">\n",
       "    <button id=\"play_UJoJUigW4Z\" class=\"picta-button\">&#9658</button>\n",
       "    <button id=\"pause_UJoJUigW4Z\" class=\"picta-button\">&#9616;&#9616;</button>\n",
       "    <button id=\"prev_UJoJUigW4Z\" class=\"picta-button\"><</button>\n",
       "    <button id=\"next_UJoJUigW4Z\" class=\"picta-button\">></button>\n",
       "\n",
       "    <div id=\"sliderContainer_UJoJUigW4Z\" class=\"progressBar\"></div>\n",
       "    <div id=\"counterContainer_UJoJUigW4Z\" class=\"inline-div\">\n",
       "        <h3>Frame: </h3> <h3 id=\"value_UJoJUigW4Z\">0</h3>\n",
       "    </div>\n",
       "   </div>\n",
       "</div> \n",
       "\n",
       "</div> \n",
       "</div> \n",
       "<script>\n",
       "var masonry = new Macy({\n",
       "    container: '#grid_m3ZOhf7P3z',\n",
       "    debug: true,\n",
       "    mobileFirst: true,\n",
       "    columns: 1,\n",
       "    margin: {\n",
       "        x: 0,\n",
       "        y: 50\n",
       "    }\n",
       "  });\n",
       "\n",
       "var graph_UJoJUigW4Z = document.getElementById('graph_UJoJUigW4Z')\n",
       "\n",
       "var layout_UJoJUigW4Z = {\"height\":550,\"width\":600,\"hovermode\":\"closest\",\"title\":{\"text\":\"Animation XY with Multiple Series\"},\"showlegend\":true,\"legend\":{\"orientation\":\"h\",\"x\":0.5,\"y\":-0.5,\"xanchor\":\"auto\",\"yanchor\":\"auto\"},\"xaxis\":{\"title\":{\"text\":\"Generation\"},\"showgrid\":true,\"zeroline\":false,\"showline\":false,\"range\":[0,9]},\"yaxis\":{\"title\":{\"text\":\"Death Rate\"},\"showgrid\":true,\"zeroline\":false,\"showline\":false,\"range\":[0,1]},\"yaxis2\":{\"title\":{\"text\":\"Nb rats\"},\"showgrid\":true,\"zeroline\":false,\"showline\":false,\"side\":\"right\",\"overlaying\":\"y\",\"range\":[0,10000],\"tickformat\":\"0.0f\"}}\n",
       "var frames_UJoJUigW4Z = [{\"name\":\"Frame 0\",\"data\":[{\"name\":\"Death Rate (F0)\",\"type\":\"scatter\",\"x\":[0],\"y\":[0.8746535081263311]},{\"name\":\"Nb of rats (F0)\",\"type\":\"scatter\",\"yaxis\":\"y2\",\"x\":[0],\"y\":[2]}]},{\"name\":\"Frame 1\",\"data\":[{\"name\":\"Death Rate (F1)\",\"type\":\"scatter\",\"x\":[0,1],\"y\":[0.8746535081263311,0.031829574649744174]},{\"name\":\"Nb of rats (F1)\",\"type\":\"scatter\",\"yaxis\":\"y2\",\"x\":[0,1],\"y\":[2,12]}]},{\"name\":\"Frame 2\",\"data\":[{\"name\":\"Death Rate (F2)\",\"type\":\"scatter\",\"x\":[0,1,2],\"y\":[0.8746535081263311,0.031829574649744174,0.7307648850256557]},{\"name\":\"Nb of rats (F2)\",\"type\":\"scatter\",\"yaxis\":\"y2\",\"x\":[0,1,2],\"y\":[2,12,20]}]},{\"name\":\"Frame 3\",\"data\":[{\"name\":\"Death Rate (F3)\",\"type\":\"scatter\",\"x\":[0,1,2,3],\"y\":[0.8746535081263311,0.031829574649744174,0.7307648850256557,0.7665620351347731]},{\"name\":\"Nb of rats (F3)\",\"type\":\"scatter\",\"yaxis\":\"y2\",\"x\":[0,1,2,3],\"y\":[2,12,20,29]}]},{\"name\":\"Frame 4\",\"data\":[{\"name\":\"Death Rate (F4)\",\"type\":\"scatter\",\"x\":[0,1,2,3,4],\"y\":[0.8746535081263311,0.031829574649744174,0.7307648850256557,0.7665620351347731,0.29666389031029955]},{\"name\":\"Nb of rats (F4)\",\"type\":\"scatter\",\"yaxis\":\"y2\",\"x\":[0,1,2,3,4],\"y\":[2,12,20,29,119]}]},{\"name\":\"Frame 5\",\"data\":[{\"name\":\"Death Rate (F5)\",\"type\":\"scatter\",\"x\":[0,1,2,3,4,5],\"y\":[0.8746535081263311,0.031829574649744174,0.7307648850256557,0.7665620351347731,0.29666389031029955,0.5483658774849647]},{\"name\":\"Nb of rats (F5)\",\"type\":\"scatter\",\"yaxis\":\"y2\",\"x\":[0,1,2,3,4,5],\"y\":[2,12,20,29,119,321]}]},{\"name\":\"Frame 6\",\"data\":[{\"name\":\"Death Rate (F6)\",\"type\":\"scatter\",\"x\":[0,1,2,3,4,5,6],\"y\":[0.8746535081263311,0.031829574649744174,0.7307648850256557,0.7665620351347731,0.29666389031029955,0.5483658774849647,0.02739575816197871]},{\"name\":\"Nb of rats (F6)\",\"type\":\"scatter\",\"yaxis\":\"y2\",\"x\":[0,1,2,3,4,5,6],\"y\":[2,12,20,29,119,321,1869]}]},{\"name\":\"Frame 7\",\"data\":[{\"name\":\"Death Rate (F7)\",\"type\":\"scatter\",\"x\":[0,1,2,3,4,5,6,7],\"y\":[0.8746535081263311,0.031829574649744174,0.7307648850256557,0.7665620351347731,0.29666389031029955,0.5483658774849647,0.02739575816197871,0.8436887187800086]},{\"name\":\"Nb of rats (F7)\",\"type\":\"scatter\",\"yaxis\":\"y2\",\"x\":[0,1,2,3,4,5,6,7],\"y\":[2,12,20,29,119,321,1869,1753]}]},{\"name\":\"Frame 8\",\"data\":[{\"name\":\"Death Rate (F8)\",\"type\":\"scatter\",\"x\":[0,1,2,3,4,5,6,7,8],\"y\":[0.8746535081263311,0.031829574649744174,0.7307648850256557,0.7665620351347731,0.29666389031029955,0.5483658774849647,0.02739575816197871,0.8436887187800086,0.8207950296622535]},{\"name\":\"Nb of rats (F8)\",\"type\":\"scatter\",\"yaxis\":\"y2\",\"x\":[0,1,2,3,4,5,6,7,8],\"y\":[2,12,20,29,119,321,1869,1753,1884]}]}]\n",
       "var labels_UJoJUigW4Z = [\"Frame 0\",\"Frame 1\",\"Frame 2\",\"Frame 3\",\"Frame 4\",\"Frame 5\",\"Frame 6\",\"Frame 7\",\"Frame 8\"]\n",
       "var duration_UJoJUigW4Z = 100\n",
       "var config_UJoJUigW4Z = {\"responsive\":true,\"scrollZoom\":true,\"displaylogo\":false}\n",
       "\n",
       "var traces_UJoJUigW4Z = JSON.parse(JSON.stringify(frames_UJoJUigW4Z[0].data.map(x => x)))\n",
       "\n",
       "var animation_settings_UJoJUigW4Z = {\n",
       "    mode: \"immediate\",\n",
       "    direction: {},\n",
       "    fromcurrent: true,\n",
       "    frame: [\n",
       "      {duration: duration_UJoJUigW4Z},\n",
       "      {duration: duration_UJoJUigW4Z},\n",
       "      {redraw: true}\n",
       "    ],\n",
       "    transition: [\n",
       "      {duration: duration_UJoJUigW4Z, easing: 'cubic-in-out'},\n",
       "      {duration: duration_UJoJUigW4Z, easing: 'cubic-in-out'},\n",
       "    ],\n",
       "    ordering: \"layout first\"\n",
       "}\n",
       "\n",
       "var slider_UJoJUigW4Z = document.createElement(\"input\")\n",
       "var play_UJoJUigW4Z = document.getElementById(\"play_UJoJUigW4Z\")\n",
       "var pause_UJoJUigW4Z = document.getElementById(\"pause_UJoJUigW4Z\")\n",
       "slider_UJoJUigW4Z.id = \"slider_UJoJUigW4Z\"\n",
       "slider_UJoJUigW4Z.type = \"range\"\n",
       "slider_UJoJUigW4Z.min = 0\n",
       "slider_UJoJUigW4Z.max = frames_UJoJUigW4Z.length - 1\n",
       "slider_UJoJUigW4Z.value = 0\n",
       "document.getElementById(\"sliderContainer_UJoJUigW4Z\").appendChild(slider_UJoJUigW4Z);\n",
       "\n",
       "Plotly.newPlot(graph_UJoJUigW4Z, traces_UJoJUigW4Z, layout_UJoJUigW4Z, config_UJoJUigW4Z)\n",
       ".then(function () { Plotly.addFrames(graph_UJoJUigW4Z, frames_UJoJUigW4Z) })\n",
       "\n",
       "var trigger_UJoJUigW4Z = true\n",
       "var reset_count_UJoJUigW4Z = false\n",
       "\n",
       "play_UJoJUigW4Z.addEventListener('click', async function() {\n",
       "   trigger_UJoJUigW4Z = true\n",
       "   if (reset_count_UJoJUigW4Z) {\n",
       "      slider_UJoJUigW4Z.value = 0\n",
       "      reset_count_UJoJUigW4Z = false\n",
       "   }\n",
       "\n",
       "  const start_index = slider_UJoJUigW4Z.value == labels_UJoJUigW4Z.length - 1 ? 0 : slider_UJoJUigW4Z.value\n",
       "  const end_index = labels_UJoJUigW4Z.length\n",
       "  await Plotly.animate(graph_UJoJUigW4Z, labels_UJoJUigW4Z.slice(start_index, end_index), animation_settings_UJoJUigW4Z)\n",
       "})\n",
       "\n",
       "pause_UJoJUigW4Z.addEventListener('click', async function() {\n",
       "  await Plotly.animate(graph_UJoJUigW4Z, [null], animation_settings_UJoJUigW4Z)\n",
       "  trigger_UJoJUigW4Z = false;\n",
       "})\n",
       "\n",
       "graph_UJoJUigW4Z.on('plotly_redraw', () => {\n",
       "   value_UJoJUigW4Z.innerHTML = slider_UJoJUigW4Z.value;\n",
       "   if (trigger_UJoJUigW4Z & !reset_count_UJoJUigW4Z) ++slider_UJoJUigW4Z.value\n",
       "   if (slider_UJoJUigW4Z.value == labels_UJoJUigW4Z.length - 1) reset_count_UJoJUigW4Z = true\n",
       "});\n",
       "\n",
       "slider_UJoJUigW4Z.oninput = async function() {\n",
       "   await Plotly.animate(graph_UJoJUigW4Z, frames_UJoJUigW4Z[this.value], animation_settings_UJoJUigW4Z)\n",
       "   trigger_UJoJUigW4Z = false\n",
       "   slider_UJoJUigW4Z.value = this.value\n",
       "   value_UJoJUigW4Z.innerHTML = this.value;\n",
       "   if (this.value == 0) reset_count_UJoJUigW4Z = false\n",
       "   if (this.value == labels_UJoJUigW4Z.length - 1) reset_count_UJoJUigW4Z = true\n",
       "   reset_count_UJoJUigW4Z = false\n",
       "}\n",
       "\n",
       "next_UJoJUigW4Z.addEventListener('click', function() {\n",
       "    if (slider_UJoJUigW4Z.value == labels_UJoJUigW4Z.length - 1) {\n",
       "        reset_count_UJoJUigW4Z = true;\n",
       "        return;\n",
       "    }\n",
       "    ++slider_UJoJUigW4Z.value;\n",
       "    value_UJoJUigW4Z.innerHTML = slider_UJoJUigW4Z.value;\n",
       "    trigger_UJoJUigW4Z = false;\n",
       "    slider_UJoJUigW4Z.oninput();\n",
       "})\n",
       "\n",
       "prev_UJoJUigW4Z.addEventListener('click', function() {\n",
       "    if (slider_UJoJUigW4Z.value == 0) {\n",
       "        reset_count_UJoJUigW4Z = false;\n",
       "        return;\n",
       "    }\n",
       "    --slider_UJoJUigW4Z.value;\n",
       "    value_UJoJUigW4Z.innerHTML = slider_UJoJUigW4Z.value;\n",
       "    trigger_UJoJUigW4Z = false;\n",
       "    slider_UJoJUigW4Z.oninput();\n",
       "})\n",
       "\n",
       "</script> \n"
      ]
     },
     "metadata": {},
     "output_type": "display_data"
    }
   ],
   "source": [
    "val xaxis = Axis(X, title = \"Generation\") setLimits (0.0, 9.0)\n",
    "val yaxis = Axis(Y, title = \"Death Rate\") setLimits(0.0, 1.0)\n",
    "\n",
    "// lets also plot a second y variable\n",
    "val yaxis2 = Axis(\n",
    "    Y,\n",
    "    position = 2, \n",
    "    title = \"Nb rats\",\n",
    "    overlaying = Axis(Y), // this ensures that the axis sits on a seperate axis\n",
    "    side = RIGHT_SIDE, // this ensures the axis is on the right hand side\n",
    "    tickformat = \"0.0f\" // this will keep formatting reasonable for display purposes\n",
    ").setLimits (0.0, 10000.0)\n",
    "\n",
    "// we can also specifiy the underlying layout directly - sometimes this can be useful\n",
    "val layout = ChartLayout(\"Animation XY with Multiple Series\") setAxes(xaxis, yaxis, yaxis2)\n",
    "\n",
    "val animation = \n",
    "    (0 to generation.size-1)\n",
    "    .map(x => XY(generation.take(x+1), deathRateSeries.take(x+1)) setName \"Death Rate\")\n",
    "    .toList\n",
    "\n",
    "val animation2 = \n",
    "    (0 to generation.size-1)\n",
    "    .map(x => XY(generation.take(x+1), nbRatsSeries.take(x+1)) setName \"Nb of rats\" setAxis yaxis2)\n",
    "    .toList\n",
    "\n",
    "val chart = (\n",
    "    Chart(animated = true, transition_duration=100, animate_multiple_series = true)\n",
    "    setChartLayout layout \n",
    "    addSeries animation\n",
    "    addSeries animation2\n",
    "    setLegend(x = 0.5, y = -0.5, orientation = HORIZONTAL, xanchor = AUTO, yanchor = AUTO)\n",
    ") \n",
    "\n",
    "chart.plotInline"
   ]
  },
  {
   "cell_type": "code",
   "execution_count": 64,
   "metadata": {
    "pycharm": {
     "name": "#%%\n"
    }
   },
   "outputs": [
    {
     "data": {
      "text/html": [
       "<div id=\"grid-container_tpjTrEmkqM\" class=\"grid-container\" align=\"center\"> \n",
       "<div id=\"grid_tpjTrEmkqM\" class=\"grid\" align=\"center\"> \n",
       "<div id=\"graph_vhpAdJYk85\" class=\"graph\"></div> \n",
       "</div> \n",
       "</div> \n",
       "<script>\n",
       "var masonry = new Macy({\n",
       "    container: '#grid_tpjTrEmkqM',\n",
       "    debug: true,\n",
       "    mobileFirst: true,\n",
       "    columns: 1,\n",
       "    margin: {\n",
       "        x: 0,\n",
       "        y: 50\n",
       "    }\n",
       "  });\n",
       "\n",
       "  var traces_vhpAdJYk85 = [{\"name\":\"kGBeRz5yDi\",\"type\":\"heatmap\",\"z\":[[2774,5530,94678],[5764,27559,4495310],[353009,28808,4298]]}];\n",
       " var layout_vhpAdJYk85 = {\"height\":550,\"width\":600,\"hovermode\":\"closest\",\"title\":{\"text\":\"Nb of rats at time step 10\"},\"showlegend\":true};\n",
       " var config_vhpAdJYk85 = {\"responsive\":true,\"scrollZoom\":true,\"displaylogo\":false};\n",
       " Plotly.newPlot(\"graph_vhpAdJYk85\", traces_vhpAdJYk85, layout_vhpAdJYk85, config_vhpAdJYk85);\n",
       "</script> \n"
      ]
     },
     "metadata": {},
     "output_type": "display_data"
    }
   ],
   "source": [
    "val nbCol = (0 to 2).toList\n",
    "val mySeries:List[Double] = nbCol.flatMap(r => {\n",
    "    nbCol.map{c => getDataFromSingleModel(model, nbRats, List(r,c), numberOfSteps).last.toDouble}})\n",
    "\n",
    "val series = XYZ(z=mySeries,n=3) asType HEATMAP\n",
    "\n",
    "val chart = Chart().addSeries(series).setTitle(\"Nb of rats at time step 10\")\n",
    "\n",
    "chart.plotInline"
   ]
  },
  {
   "cell_type": "code",
   "execution_count": 65,
   "metadata": {},
   "outputs": [
    {
     "data": {
      "text/html": [
       "<div id=\"grid-container_KCS2hZOusi\" class=\"grid-container\" align=\"center\"> \n",
       "<div id=\"grid_KCS2hZOusi\" class=\"grid\" align=\"center\"> \n",
       "<div id=\"graph_dqNlYO9pjJ\" class=\"graph\"></div> \n",
       "</div> \n",
       "</div> \n",
       "<script>\n",
       "var masonry = new Macy({\n",
       "    container: '#grid_KCS2hZOusi',\n",
       "    debug: true,\n",
       "    mobileFirst: true,\n",
       "    columns: 1,\n",
       "    margin: {\n",
       "        x: 0,\n",
       "        y: 50\n",
       "    }\n",
       "  });\n",
       "\n",
       "  var traces_dqNlYO9pjJ = [{\"name\":\"d4QY3I91T4\",\"type\":\"surface\",\"colorbar\":{\"title\":{\"text\":\"Rat Population\",\"side\":\"right\"}},\"z\":[[2774,5530,94678],[5764,27559,4495310],[353009,28808,4298]]}];\n",
       " var layout_dqNlYO9pjJ = {\"height\":550,\"width\":600,\"hovermode\":\"closest\",\"title\":{\"text\":\"Surface\"},\"showlegend\":true};\n",
       " var config_dqNlYO9pjJ = {\"responsive\":true,\"scrollZoom\":true,\"displaylogo\":false};\n",
       " Plotly.newPlot(\"graph_dqNlYO9pjJ\", traces_dqNlYO9pjJ, layout_dqNlYO9pjJ, config_dqNlYO9pjJ);\n",
       "</script> \n"
      ]
     },
     "metadata": {},
     "output_type": "display_data"
    }
   ],
   "source": [
    "val ratsAsSurface = XYZ(z=mySeries,n=3) asType SURFACE setColorBar(\"Rat Population\", RIGHT_SIDE)\n",
    "\n",
    "val ratsChart = Chart() addSeries ratsAsSurface setTitle \"Surface\"\n",
    "\n",
    "ratsChart.plotInline"
   ]
  },
  {
   "cell_type": "code",
   "execution_count": 70,
   "metadata": {},
   "outputs": [
    {
     "data": {
      "text/html": [
       "<div id=\"grid-container_Zzpp4jcDDE\" class=\"grid-container\" align=\"center\"> \n",
       "<div id=\"grid_Zzpp4jcDDE\" class=\"grid\" align=\"center\"> \n",
       "\n",
       "<div align=\"center\">\n",
       "  <div id=\"graph_7XWG7yexii\" class=\"graph\"></div>\n",
       "  <div class=\"animationInterface\">\n",
       "    <button id=\"play_7XWG7yexii\" class=\"picta-button\">&#9658</button>\n",
       "    <button id=\"pause_7XWG7yexii\" class=\"picta-button\">&#9616;&#9616;</button>\n",
       "    <button id=\"prev_7XWG7yexii\" class=\"picta-button\"><</button>\n",
       "    <button id=\"next_7XWG7yexii\" class=\"picta-button\">></button>\n",
       "\n",
       "    <div id=\"sliderContainer_7XWG7yexii\" class=\"progressBar\"></div>\n",
       "    <div id=\"counterContainer_7XWG7yexii\" class=\"inline-div\">\n",
       "        <h3>Frame: </h3> <h3 id=\"value_7XWG7yexii\">0</h3>\n",
       "    </div>\n",
       "   </div>\n",
       "</div> \n",
       "\n",
       "</div> \n",
       "</div> \n",
       "<script>\n",
       "var masonry = new Macy({\n",
       "    container: '#grid_Zzpp4jcDDE',\n",
       "    debug: true,\n",
       "    mobileFirst: true,\n",
       "    columns: 1,\n",
       "    margin: {\n",
       "        x: 0,\n",
       "        y: 50\n",
       "    }\n",
       "  });\n",
       "\n",
       "var graph_7XWG7yexii = document.getElementById('graph_7XWG7yexii')\n",
       "\n",
       "var layout_7XWG7yexii = {\"height\":550,\"width\":600,\"hovermode\":\"closest\",\"title\":{\"text\":\"Animated Surface\"},\"showlegend\":true,\"scene\":{\"zaxis\":{\"showgrid\":true,\"zeroline\":false,\"showline\":false,\"range\":[0,3000000]}}}\n",
       "var frames_7XWG7yexii = [{\"name\":\"8ZAq2cbYeT (F0)\",\"data\":[{\"name\":\"8ZAq2cbYeT (F0)\",\"type\":\"surface\",\"colorbar\":{\"title\":{\"text\":\"Rat Population\",\"side\":\"right\"}},\"z\":[[2,8,15],[9,5,14],[7,16,5]]}]},{\"name\":\"Uzb4VEPILJ (F1)\",\"data\":[{\"name\":\"Uzb4VEPILJ (F1)\",\"type\":\"surface\",\"colorbar\":{\"title\":{\"text\":\"Rat Population\",\"side\":\"right\"}},\"z\":[[12,37,19],[6,19,55],[22,93,23]]}]},{\"name\":\"jmTvxnGmVq (F2)\",\"data\":[{\"name\":\"jmTvxnGmVq (F2)\",\"type\":\"surface\",\"colorbar\":{\"title\":{\"text\":\"Rat Population\",\"side\":\"right\"}},\"z\":[[20,109,30],[26,26,288],[119,293,32]]}]},{\"name\":\"lQzL1GKmaV (F3)\",\"data\":[{\"name\":\"lQzL1GKmaV (F3)\",\"type\":\"surface\",\"colorbar\":{\"title\":{\"text\":\"Rat Population\",\"side\":\"right\"}},\"z\":[[29,277,105],[17,75,1379],[163,1130,168]]}]},{\"name\":\"6zm3ewVWAy (F4)\",\"data\":[{\"name\":\"6zm3ewVWAy (F4)\",\"type\":\"surface\",\"colorbar\":{\"title\":{\"text\":\"Rat Population\",\"side\":\"right\"}},\"z\":[[119,207,463],[87,395,8136],[822,1705,268]]}]},{\"name\":\"7pOB9jdJPM (F5)\",\"data\":[{\"name\":\"7pOB9jdJPM (F5)\",\"type\":\"surface\",\"colorbar\":{\"title\":{\"text\":\"Rat Population\",\"side\":\"right\"}},\"z\":[[321,630,1397],[148,669,41960],[4087,2076,378]]}]},{\"name\":\"vR7dYqBRXU (F6)\",\"data\":[{\"name\":\"vR7dYqBRXU (F6)\",\"type\":\"surface\",\"colorbar\":{\"title\":{\"text\":\"Rat Population\",\"side\":\"right\"}},\"z\":[[1869,2478,6888],[292,560,43849],[24471,1934,659]]}]},{\"name\":\"XNLiZfvY3E (F7)\",\"data\":[{\"name\":\"XNLiZfvY3E (F7)\",\"type\":\"surface\",\"colorbar\":{\"title\":{\"text\":\"Rat Population\",\"side\":\"right\"}},\"z\":[[1753,5306,22022],[614,2802,205143],[104296,5154,937]]}]},{\"name\":\"kMgIYH2zaT (F8)\",\"data\":[{\"name\":\"kMgIYH2zaT (F8)\",\"type\":\"surface\",\"colorbar\":{\"title\":{\"text\":\"Rat Population\",\"side\":\"right\"}},\"z\":[[1884,6793,61910],[2908,6565,844466],[445999,14637,2307]]}]},{\"name\":\"Y9CXbF3rsG (F9)\",\"data\":[{\"name\":\"Y9CXbF3rsG (F9)\",\"type\":\"surface\",\"colorbar\":{\"title\":{\"text\":\"Rat Population\",\"side\":\"right\"}},\"z\":[[2774,5530,94678],[5764,27559,4495310],[353009,28808,4298]]}]}]\n",
       "var labels_7XWG7yexii = [\"8ZAq2cbYeT (F0)\",\"Uzb4VEPILJ (F1)\",\"jmTvxnGmVq (F2)\",\"lQzL1GKmaV (F3)\",\"6zm3ewVWAy (F4)\",\"7pOB9jdJPM (F5)\",\"vR7dYqBRXU (F6)\",\"XNLiZfvY3E (F7)\",\"kMgIYH2zaT (F8)\",\"Y9CXbF3rsG (F9)\"]\n",
       "var duration_7XWG7yexii = 100\n",
       "var config_7XWG7yexii = {\"responsive\":true,\"scrollZoom\":true,\"displaylogo\":false}\n",
       "\n",
       "var traces_7XWG7yexii = JSON.parse(JSON.stringify(frames_7XWG7yexii[0].data.map(x => x)))\n",
       "\n",
       "var animation_settings_7XWG7yexii = {\n",
       "    mode: \"immediate\",\n",
       "    direction: {},\n",
       "    fromcurrent: true,\n",
       "    frame: [\n",
       "      {duration: duration_7XWG7yexii},\n",
       "      {duration: duration_7XWG7yexii},\n",
       "      {redraw: true}\n",
       "    ],\n",
       "    transition: [\n",
       "      {duration: duration_7XWG7yexii, easing: 'cubic-in-out'},\n",
       "      {duration: duration_7XWG7yexii, easing: 'cubic-in-out'},\n",
       "    ],\n",
       "    ordering: \"layout first\"\n",
       "}\n",
       "\n",
       "var slider_7XWG7yexii = document.createElement(\"input\")\n",
       "var play_7XWG7yexii = document.getElementById(\"play_7XWG7yexii\")\n",
       "var pause_7XWG7yexii = document.getElementById(\"pause_7XWG7yexii\")\n",
       "slider_7XWG7yexii.id = \"slider_7XWG7yexii\"\n",
       "slider_7XWG7yexii.type = \"range\"\n",
       "slider_7XWG7yexii.min = 0\n",
       "slider_7XWG7yexii.max = frames_7XWG7yexii.length - 1\n",
       "slider_7XWG7yexii.value = 0\n",
       "document.getElementById(\"sliderContainer_7XWG7yexii\").appendChild(slider_7XWG7yexii);\n",
       "\n",
       "Plotly.newPlot(graph_7XWG7yexii, traces_7XWG7yexii, layout_7XWG7yexii, config_7XWG7yexii)\n",
       ".then(function () { Plotly.addFrames(graph_7XWG7yexii, frames_7XWG7yexii) })\n",
       "\n",
       "var trigger_7XWG7yexii = true\n",
       "var reset_count_7XWG7yexii = false\n",
       "\n",
       "play_7XWG7yexii.addEventListener('click', async function() {\n",
       "   trigger_7XWG7yexii = true\n",
       "   if (reset_count_7XWG7yexii) {\n",
       "      slider_7XWG7yexii.value = 0\n",
       "      reset_count_7XWG7yexii = false\n",
       "   }\n",
       "\n",
       "  const start_index = slider_7XWG7yexii.value == labels_7XWG7yexii.length - 1 ? 0 : slider_7XWG7yexii.value\n",
       "  const end_index = labels_7XWG7yexii.length\n",
       "  await Plotly.animate(graph_7XWG7yexii, labels_7XWG7yexii.slice(start_index, end_index), animation_settings_7XWG7yexii)\n",
       "})\n",
       "\n",
       "pause_7XWG7yexii.addEventListener('click', async function() {\n",
       "  await Plotly.animate(graph_7XWG7yexii, [null], animation_settings_7XWG7yexii)\n",
       "  trigger_7XWG7yexii = false;\n",
       "})\n",
       "\n",
       "graph_7XWG7yexii.on('plotly_redraw', () => {\n",
       "   value_7XWG7yexii.innerHTML = slider_7XWG7yexii.value;\n",
       "   if (trigger_7XWG7yexii & !reset_count_7XWG7yexii) ++slider_7XWG7yexii.value\n",
       "   if (slider_7XWG7yexii.value == labels_7XWG7yexii.length - 1) reset_count_7XWG7yexii = true\n",
       "});\n",
       "\n",
       "slider_7XWG7yexii.oninput = async function() {\n",
       "   await Plotly.animate(graph_7XWG7yexii, frames_7XWG7yexii[this.value], animation_settings_7XWG7yexii)\n",
       "   trigger_7XWG7yexii = false\n",
       "   slider_7XWG7yexii.value = this.value\n",
       "   value_7XWG7yexii.innerHTML = this.value;\n",
       "   if (this.value == 0) reset_count_7XWG7yexii = false\n",
       "   if (this.value == labels_7XWG7yexii.length - 1) reset_count_7XWG7yexii = true\n",
       "   reset_count_7XWG7yexii = false\n",
       "}\n",
       "\n",
       "next_7XWG7yexii.addEventListener('click', function() {\n",
       "    if (slider_7XWG7yexii.value == labels_7XWG7yexii.length - 1) {\n",
       "        reset_count_7XWG7yexii = true;\n",
       "        return;\n",
       "    }\n",
       "    ++slider_7XWG7yexii.value;\n",
       "    value_7XWG7yexii.innerHTML = slider_7XWG7yexii.value;\n",
       "    trigger_7XWG7yexii = false;\n",
       "    slider_7XWG7yexii.oninput();\n",
       "})\n",
       "\n",
       "prev_7XWG7yexii.addEventListener('click', function() {\n",
       "    if (slider_7XWG7yexii.value == 0) {\n",
       "        reset_count_7XWG7yexii = false;\n",
       "        return;\n",
       "    }\n",
       "    --slider_7XWG7yexii.value;\n",
       "    value_7XWG7yexii.innerHTML = slider_7XWG7yexii.value;\n",
       "    trigger_7XWG7yexii = false;\n",
       "    slider_7XWG7yexii.oninput();\n",
       "})\n",
       "\n",
       "</script> \n"
      ]
     },
     "metadata": {},
     "output_type": "display_data"
    }
   ],
   "source": [
    "def createSeries:List[List[Double]] = {\n",
    "    val nbCol = (0 to 2).toList\n",
    "    val nestedList:List[List[Double]] = nbCol.flatMap(r => {\n",
    "    nbCol.map{c => getDataFromSingleModel(model, nbRats, List(r,c), numberOfSteps).map(x=>x.toDouble)}})\n",
    "    (0 to 9).map(x => (0 to 8).map(y => nestedList(y)(x)).toList).toList\n",
    "}\n",
    "\n",
    "\n",
    "val ratsAsSurface = createSeries.map(s => XYZ(z=s,n=3) asType SURFACE setColorBar(\"Rat Population\", RIGHT_SIDE)) \n",
    "\n",
    "val ratsChart = Chart(animated = true, transition_duration=100) addSeries ratsAsSurface setTitle \"Animated Surface\" setZAxisLimits(0, 3E6)\n",
    "\n",
    "ratsChart.plotInline"
   ]
  },
  {
   "cell_type": "code",
   "execution_count": null,
   "metadata": {},
   "outputs": [],
   "source": []
  }
 ],
 "metadata": {
  "kernelspec": {
   "display_name": "Scala",
   "language": "scala",
   "name": "scala"
  },
  "language_info": {
   "codemirror_mode": "text/x-scala",
   "file_extension": ".scala",
   "mimetype": "text/x-scala",
   "name": "scala",
   "nbconvert_exporter": "script",
   "version": "2.13.2"
  }
 },
 "nbformat": 4,
 "nbformat_minor": 4
}
