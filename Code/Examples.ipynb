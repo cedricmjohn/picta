{
 "cells": [
  {
   "cell_type": "code",
   "execution_count": null,
   "metadata": {
    "scrolled": true
   },
   "outputs": [],
   "source": [
    "interp.repositories() ++= Seq(coursierapi.MavenRepository.of(\n",
    "\"https://jitpack.io\"\n",
    "))"
   ]
  },
  {
   "cell_type": "code",
   "execution_count": null,
   "metadata": {},
   "outputs": [],
   "source": [
    "import $ivy. `org.carbonateresearch::picta:0.1`"
   ]
  },
  {
   "cell_type": "code",
   "execution_count": null,
   "metadata": {
    "scrolled": true
   },
   "outputs": [],
   "source": [
    "import picta.Html._ // required to initialize jupyter notebook mode\n",
    "init_notebook_mode() // stops ugly output"
   ]
  },
  {
   "cell_type": "markdown",
   "metadata": {},
   "source": [
    "# 1. Basics\n",
    "\n",
    "The aim of the Picta library is to be a highly configurable and composable general purpose charting library. The following examples are aimed at highlighting the charting grammar for the library, which should make constructing charts easy and intuitive."
   ]
  },
  {
   "cell_type": "markdown",
   "metadata": {},
   "source": [
    "#### Colors\n",
    "\n",
    "Colors in the library are represented as one of two types:\n",
    "\n",
    "1. `List[String]` => this may either be a color word, such as \"red\", or RGB value, such as \"rgb(255, 255, 255, 1)\".\n",
    "2. `List[Double]`"
   ]
  },
  {
   "cell_type": "markdown",
   "metadata": {},
   "source": [
    "#### Lines\n",
    "\n",
    "Lines are perhaps the simplest chart component. The constructor takes in the following arguments:\n",
    "\n",
    "1. `width: Double`\n",
    "2. `color: List[Double] or List[String] or String`\n",
    "\n",
    "They may be composed as follows:"
   ]
  },
  {
   "cell_type": "code",
   "execution_count": null,
   "metadata": {},
   "outputs": [],
   "source": [
    "import picta.options.Line\n",
    "\n",
    "val line = Line() + \"rgb(255, 255, 255, 1)\" // the default constructor for Line has a width of 0.5\n",
    "\n",
    "println(line)"
   ]
  },
  {
   "cell_type": "markdown",
   "metadata": {},
   "source": [
    "#### Markers\n",
    "\n",
    "Markers take in the following optional parameters:\n",
    "\n",
    "1. `symbol: String`\n",
    "2. `color: List[String] or List[Double]`\n",
    "3. `line: Line`\n",
    "\n",
    "Again, composition of a line follows a similar pattern. However, we must wrap the color/s inside a `List` to avoid confusing the compiler. Here we create a `circle` marker, with the color `red` and a `line` of width 0.5:"
   ]
  },
  {
   "cell_type": "code",
   "execution_count": null,
   "metadata": {},
   "outputs": [],
   "source": [
    "import picta.options.Marker\n",
    "\n",
    "val marker = Marker() + \"circle\" + List(\"red\") + Line()\n",
    "\n",
    "println(marker)"
   ]
  },
  {
   "cell_type": "markdown",
   "metadata": {},
   "source": [
    "### [TO BE CONTINUED.....]"
   ]
  },
  {
   "cell_type": "markdown",
   "metadata": {},
   "source": [
    "## Chart compositions\n",
    "\n",
    "Charts consist of 3 components:\n",
    "\n",
    "1. `data`\n",
    "2. `layout`\n",
    "3. `config`\n",
    "\n",
    "Generally, most of the compositions make use of `data` and `layout` components."
   ]
  },
  {
   "cell_type": "markdown",
   "metadata": {},
   "source": [
    "#### Scatter Charts and Line Charts"
   ]
  },
  {
   "cell_type": "code",
   "execution_count": null,
   "metadata": {},
   "outputs": [],
   "source": [
    "// some dummy data for x and y variables\n",
    "val x = List.range(1, 50)\n",
    "val y = x.map(x => x + scala.util.Random.nextDouble()*100)"
   ]
  },
  {
   "cell_type": "code",
   "execution_count": null,
   "metadata": {},
   "outputs": [],
   "source": [
    "import picta.series.XY\n",
    "import picta.series.XYChartType._\n",
    "\n",
    "// the two data series are then wrapped inside \n",
    "val data = XY(x, y, series_name=\"test\", series_type=SCATTER, series_mode=\"markers\")"
   ]
  },
  {
   "cell_type": "code",
   "execution_count": null,
   "metadata": {},
   "outputs": [],
   "source": [
    "import picta.options.{Layout, Config}\n",
    "\n",
    "// The layout is a composable object which determines how the chart is displayed\n",
    "val layout = Layout(title=Some(\"Chart\"))\n",
    "// the configuration option allows us to set whether the chart is responsible and zoomable using scroll\n",
    "val config = Config(responsive=false, scrollZoom=true)"
   ]
  },
  {
   "cell_type": "code",
   "execution_count": null,
   "metadata": {},
   "outputs": [],
   "source": [
    "import picta.charts.Chart\n",
    "\n",
    "// we can compose a chart using the data, layout and config elements above. This grammar is the same for all charts\n",
    "val chart = Chart() + data + layout + config\n",
    "chart.plot_inline()"
   ]
  },
  {
   "cell_type": "markdown",
   "metadata": {},
   "source": [
    "#### Adding Additional Traces to a Chart\n",
    "\n",
    "We can compose an existing chart with more data series using the same composition technique as shown above for other components:"
   ]
  },
  {
   "cell_type": "code",
   "execution_count": null,
   "metadata": {},
   "outputs": [],
   "source": [
    "// additional traces can simply be composed with an existing chart and added on\n",
    "val data1 = XY(x, y.map(x => x + scala.util.Random.nextDouble()*100), series_name=\"data1\", series_type=BAR)\n",
    "\n",
    "val chart1 = chart + data1\n",
    "chart1.plot_inline()"
   ]
  },
  {
   "cell_type": "markdown",
   "metadata": {},
   "source": [
    "#### Pie Chart"
   ]
  },
  {
   "cell_type": "code",
   "execution_count": null,
   "metadata": {},
   "outputs": [],
   "source": [
    "// pie charts can be composed in a similar way:\n",
    "val data = XY(List(19, 26, 55), List(\"Residential\", \"Non-Residential\", \"Utility\"), series_name=\"test\", series_type=PIE)\n",
    "val layout = Layout(Some(\"Pie Chart\"))\n",
    "val chart = Chart() + data +  layout + config\n",
    "chart.plot_inline()"
   ]
  },
  {
   "cell_type": "markdown",
   "metadata": {},
   "source": [
    "#### Setting Axes\n",
    "\n",
    "For all charts, each axis can be composed invidiually. The following is an example for a `Histogram` chart:"
   ]
  },
  {
   "cell_type": "code",
   "execution_count": null,
   "metadata": {},
   "outputs": [],
   "source": [
    "val x = List.range(1, 1000).map(_+scala.util.Random.nextDouble()*1000)\n",
    "\n",
    "// for histogram charts, the xkey must be specified. It essentially sets the orientation (x direction or y direction)\n",
    "val data = XY(x=x, xkey=\"x\", series_name=\"hist\", series_type=HISTOGRAM)"
   ]
  },
  {
   "cell_type": "code",
   "execution_count": null,
   "metadata": {},
   "outputs": [],
   "source": [
    "import picta.options.Axis\n",
    "\n",
    "// axis can be set composed like any other chart component\n",
    "val xaxis = Axis(key=\"xaxis\", title = \"my x data\")\n",
    "val yaxis = Axis(key=\"yaxis\", title = \"my y data\")\n",
    "\n",
    "// these are added to the layout object\n",
    "val layout = Layout(\"Histogram with axes\") + xaxis + yaxis\n",
    "\n",
    "val chart = Chart() + data + layout  + config\n",
    "chart.plot_inline()"
   ]
  },
  {
   "cell_type": "markdown",
   "metadata": {},
   "source": [
    "#### Customizing colors for a Histogram"
   ]
  },
  {
   "cell_type": "code",
   "execution_count": null,
   "metadata": {},
   "outputs": [],
   "source": [
    "// we can also compose customizations in much the same way:\n",
    "val marker = Marker() + List(\"rgba(255, 100, 102, 0.4)\") + Line()\n",
    "\n",
    "// change xkey to y to get a horizontal histogram\n",
    "val data = XY(x, xkey=\"y\", series_name=\"test\", series_type=HISTOGRAM, marker=marker)\n",
    "\n",
    "val chart = Chart() + data + Layout(\"XY.Histogram.Color\") + config\n",
    "chart.plot_inline()"
   ]
  },
  {
   "cell_type": "markdown",
   "metadata": {},
   "source": [
    "#### 2D Histogram Contour"
   ]
  },
  {
   "cell_type": "code",
   "execution_count": null,
   "metadata": {},
   "outputs": [],
   "source": [
    "val x = List.range(1, 50)\n",
    "val y = x.map(x => x + scala.util.Random.nextDouble()*100)\n",
    "\n",
    "val data = XY(x, y, series_name=\"2dHistCont\", series_type=HISTOGRAM2DCONTOUR, series_mode=\"marker\")\n",
    "\n",
    "val chart = Chart() + data + Layout(\"2D Histogram Contour\") + config\n",
    "chart.plot_inline()"
   ]
  },
  {
   "cell_type": "markdown",
   "metadata": {},
   "source": [
    "#### Contour\n",
    "\n",
    "This is a 3 dimensional chart requiring the import of the `XYZ` class from the library."
   ]
  },
  {
   "cell_type": "code",
   "execution_count": null,
   "metadata": {},
   "outputs": [],
   "source": [
    "import picta.series.XYZ\n",
    "import picta.series.XYZChartType._\n",
    "\n",
    "val x = List.range(1, 100)\n",
    "val y = List.range(1, 100)\n",
    "val z = List.range(1, 100).map(x => x + scala.util.Random.nextDouble()*100)\n",
    "\n",
    "val data = XYZ(x, y, z, series_name=\"contour\", series_type=CONTOUR, series_mode=\"marker\")"
   ]
  },
  {
   "cell_type": "code",
   "execution_count": null,
   "metadata": {},
   "outputs": [],
   "source": [
    "val chart = Chart() + data + Layout(\"Contour\")\n",
    "chart.plot_inline()"
   ]
  },
  {
   "cell_type": "markdown",
   "metadata": {},
   "source": [
    "#### Heatmap"
   ]
  },
  {
   "cell_type": "code",
   "execution_count": null,
   "metadata": {
    "scrolled": false
   },
   "outputs": [],
   "source": [
    "val z = List.range(1, 101).map(e => e + scala.util.Random.nextDouble()*100).grouped(10).toList"
   ]
  },
  {
   "cell_type": "code",
   "execution_count": null,
   "metadata": {},
   "outputs": [],
   "source": [
    "// add lines in between the grid items\n",
    "val data = XYZ(z, series_name=\"trace\", series_type=HEATMAP)\n",
    "\n",
    "val chart = Chart() + data + Layout(\"Contour\", height = 500, width = 500)\n",
    "chart.plot_inline()"
   ]
  },
  {
   "cell_type": "markdown",
   "metadata": {},
   "source": [
    "#### Scatter3D"
   ]
  },
  {
   "cell_type": "code",
   "execution_count": null,
   "metadata": {},
   "outputs": [],
   "source": [
    "val x = List.range(1, 100)\n",
    "val y = List.range(1, 100)\n",
    "val z = List.range(1, 100).map(e => e + scala.util.Random.nextDouble()*100)\n",
    "\n",
    "val data = XYZ(x, y, z, series_name=\"Scatter3D\", series_type = SCATTER3D)\n",
    "\n",
    "val chart = Chart() + data + layout + config\n",
    "chart.plot_inline()"
   ]
  },
  {
   "cell_type": "markdown",
   "metadata": {},
   "source": [
    "#### Surface Plot"
   ]
  },
  {
   "cell_type": "code",
   "execution_count": null,
   "metadata": {
    "scrolled": false
   },
   "outputs": [],
   "source": [
    "// 3d surface plot\n",
    "val k = List(\n",
    "    List(8.83,8.89,8.81,8.87,8.9,8.87),\n",
    "    List(8.89,8.94,8.85,8.94,8.96,8.92),\n",
    "    List(8.84,8.9,8.82,8.92,8.93,8.91),\n",
    "    List(8.79,8.85,8.79,8.9,8.94,8.92),\n",
    "    List(8.79,8.88,8.81,8.9,8.95,8.92),\n",
    "    List(8.8,8.82,8.78,8.91,8.94,8.92),\n",
    "    List(8.75,8.78,8.77,8.91,8.95,8.92),\n",
    "    List(8.8,8.8,8.77,8.91,8.95,8.94),\n",
    "    List(8.74,8.81,8.76,8.93,8.98,8.99),\n",
    "    List(8.89,8.99,8.92,9.1,9.13,9.11),\n",
    "    List(8.97,8.97,8.91,9.09,9.11,9.11),\n",
    "    List(9.04,9.08,9.05,9.25,9.28,9.27),\n",
    "    List(9,9.01,9,9.2,9.23,9.2),\n",
    "    List(8.99,8.99,8.98,9.18,9.2,9.19),\n",
    "    List(8.93,8.97,8.97,9.18,9.2,9.18)\n",
    "  )\n",
    "\n",
    "\n",
    "val data = XYZ(k, series_name=\"surface\", series_type=SURFACE)\n",
    "\n",
    "val chart = Chart() + data + Layout(\"Surface Chart\")\n",
    "chart.plot_inline()"
   ]
  },
  {
   "cell_type": "markdown",
   "metadata": {
    "scrolled": false
   },
   "source": [
    "#### Third Dimension as Color"
   ]
  },
  {
   "cell_type": "code",
   "execution_count": null,
   "metadata": {},
   "outputs": [],
   "source": [
    "// multiple compositions can be used to create scatter charts with a color representing some third dimension\n",
    "\n",
    "val marker = Marker() + z // we add the list of colors to the marker for each point\n",
    "val data = XY(x, y, series_name=\"scatter with color\", series_type = SCATTER, series_mode = \"markers\") + marker\n",
    "val chart = Chart() + Layout(\"Color2D.Basic\") + config + data\n",
    "chart.plot_inline()"
   ]
  },
  {
   "cell_type": "markdown",
   "metadata": {},
   "source": [
    "#### Grid\n",
    "\n",
    "The grid system can be used to generate subplots:"
   ]
  },
  {
   "cell_type": "code",
   "execution_count": null,
   "metadata": {},
   "outputs": [],
   "source": [
    "import picta.options.Grid\n",
    "\n",
    "// 1. first we define the grid layout - 1 row, 2 columns\n",
    "val grid = Grid(1, 2)\n",
    "\n",
    "// 2. Now define the axes we want to place on the grid\n",
    "val ax1 = Axis(\"xaxis\", title = \"x axis 1\")\n",
    "val ax2 = Axis(\"xaxis2\", title = \"x axis 2\")\n",
    "\n",
    "// 3. define the traces - notice how the axis maps to the xaxis and yaxis keys below:\n",
    "val data1 = XY(x, y, series_name=\"a\", series_type=SCATTER, series_mode=Some(\"markers\"))\n",
    "val data2 = XY(x, z, series_name=\"b\", series_type=SCATTER, series_mode=Some(\"markers\"), xaxis=\"x2\", yaxis=\"y2\")\n",
    "\n",
    "// 4. combine the axis and grid into a single layout component\n",
    "val layout = Layout(\"Axis Composition\") + List(ax1, ax2) + grid\n",
    "\n",
    "// 5. construct into a chart. We do not need to put the series into a single list, but this is done as an example here\n",
    "val chart = Chart() + List(data1, data2) + layout + config\n",
    "\n",
    "chart.plot_inline()"
   ]
  },
  {
   "cell_type": "markdown",
   "metadata": {},
   "source": [
    "#### Map\n",
    "\n",
    "We can also create maps using the composition technique below."
   ]
  },
  {
   "cell_type": "code",
   "execution_count": null,
   "metadata": {},
   "outputs": [],
   "source": [
    "import picta.options.Geo\n",
    "import picta.options.MapAxis\n",
    "import picta.options.LatAxis\n",
    "import picta.options.LongAxis\n",
    "import picta.series.Map\n",
    "\n",
    "val line = Line(width = 2, color=\"red\")\n",
    "val data = Map(lat=List(40.7127, 51.5072), lon=List(-74.0059, 0.1275), series_mode = Some(\"lines\")) + line\n",
    "\n",
    "\n",
    "val geo = Geo(landcolor = Some(\"rgb(204, 204, 204)\"), lakecolor=Some(\"rgb(255, 255, 255)\")) + \n",
    "LatAxis(List(20, 60)) + LongAxis(List(-100, 20))\n",
    "\n",
    "val layout = Layout() + geo\n",
    "val chart = Chart() + data + layout\n",
    "chart.plot_inline()"
   ]
  }
 ],
 "metadata": {
  "kernelspec": {
   "display_name": "Scala",
   "language": "scala",
   "name": "scala"
  },
  "language_info": {
   "codemirror_mode": "text/x-scala",
   "file_extension": ".scala",
   "mimetype": "text/x-scala",
   "name": "scala",
   "nbconvert_exporter": "script",
   "version": "2.13.3"
  }
 },
 "nbformat": 4,
 "nbformat_minor": 4
}
