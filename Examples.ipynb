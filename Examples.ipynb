{
 "cells": [
  {
   "cell_type": "code",
   "execution_count": 1,
   "metadata": {
    "scrolled": true
   },
   "outputs": [],
   "source": [
    "interp.repositories() ++= Seq(coursierapi.MavenRepository.of(\n",
    "\"https://jitpack.io\"\n",
    "))"
   ]
  },
  {
   "cell_type": "code",
   "execution_count": 2,
   "metadata": {},
   "outputs": [
    {
     "data": {
      "text/plain": [
       "\u001b[32mimport \u001b[39m\u001b[36m$ivy.$                                  \u001b[39m"
      ]
     },
     "execution_count": 2,
     "metadata": {},
     "output_type": "execute_result"
    }
   ],
   "source": [
    "import $ivy. `org.carbonateresearch::picta:0.1`"
   ]
  },
  {
   "cell_type": "code",
   "execution_count": 3,
   "metadata": {
    "scrolled": false
   },
   "outputs": [
    {
     "data": {
      "text/html": [
       "\n",
       "<style> #animationInterface {\n",
       "    margin-top: 50px;\n",
       "    margin-bottom: 50px;\n",
       "}\n",
       "\n",
       ".progressBar {\n",
       "    padding-top: 20px;\n",
       "    padding-bottom: 20px;\n",
       "}\n",
       "\n",
       ".inline-div {\n",
       "    display: block;\n",
       "    text-align: center;\n",
       "}\n",
       "\n",
       "h3 {\n",
       "    display: inline-block;\n",
       "    text-align: center;\n",
       "}\n",
       "\n",
       ".picta-button {\n",
       "    background-color: #003E74;\n",
       "    border: none;\n",
       "    color: white;\n",
       "    padding: 12px 28px;\n",
       "    text-align: center;\n",
       "    text-decoration: none;\n",
       "    display: inline-block;\n",
       "    font-size: 12px;\n",
       "    margin-top: 50px;\n",
       "    transition-duration: 0.4s;\n",
       "    cursor: pointer;\n",
       "}\n",
       "\n",
       ".picta-button:hover {\n",
       "    background-color: #002147;\n",
       "    color: white;\n",
       "}\n",
       "\n",
       ".grid-title h1 {\n",
       "    font-family: \"Open Sans\", verdana, arial, sans-serif;\n",
       "    font-weight: normal;\n",
       "}\n",
       "\n",
       ".grid-container {\n",
       "    padding-top: 40px;\n",
       "    background: white;\n",
       "} </style>\n",
       "<script> /** vim: et:ts=4:sw=4:sts=4\n",
       " * @license RequireJS 2.3.6 Copyright jQuery Foundation and other contributors.\n",
       " * Released under MIT license, https://github.com/requirejs/requirejs/blob/master/LICENSE\n",
       " */\n",
       "var requirejs,require,define;!function(global,setTimeout){var req,s,head,baseElement,dataMain,src,interactiveScript,currentlyAddingScript,mainScript,subPath,version=\"2.3.6\",commentRegExp=/\\/\\*[\\s\\S]*?\\*\\/|([^:\"'=]|^)\\/\\/.*$/gm,cjsRequireRegExp=/[^.]\\s*require\\s*\\(\\s*[\"']([^'\"\\s]+)[\"']\\s*\\)/g,jsSuffixRegExp=/\\.js$/,currDirRegExp=/^\\.\\//,op=Object.prototype,ostring=op.toString,hasOwn=op.hasOwnProperty,isBrowser=!(\"undefined\"==typeof window||\"undefined\"==typeof navigator||!window.document),isWebWorker=!isBrowser&&\"undefined\"!=typeof importScripts,readyRegExp=isBrowser&&\"PLAYSTATION 3\"===navigator.platform?/^complete$/:/^(complete|loaded)$/,defContextName=\"_\",isOpera=\"undefined\"!=typeof opera&&\"[object Opera]\"===opera.toString(),contexts={},cfg={},globalDefQueue=[],useInteractive=!1;function commentReplace(e,t){return t||\"\"}function isFunction(e){return\"[object Function]\"===ostring.call(e)}function isArray(e){return\"[object Array]\"===ostring.call(e)}function each(e,t){var i;if(e)for(i=0;i<e.length&&(!e[i]||!t(e[i],i,e));i+=1);}function eachReverse(e,t){var i;if(e)for(i=e.length-1;-1<i&&(!e[i]||!t(e[i],i,e));i-=1);}function hasProp(e,t){return hasOwn.call(e,t)}function getOwn(e,t){return hasProp(e,t)&&e[t]}function eachProp(e,t){var i;for(i in e)if(hasProp(e,i)&&t(e[i],i))break}function mixin(i,e,r,n){return e&&eachProp(e,function(e,t){!r&&hasProp(i,t)||(!n||\"object\"!=typeof e||!e||isArray(e)||isFunction(e)||e instanceof RegExp?i[t]=e:(i[t]||(i[t]={}),mixin(i[t],e,r,n)))}),i}function bind(e,t){return function(){return t.apply(e,arguments)}}function scripts(){return document.getElementsByTagName(\"script\")}function defaultOnError(e){throw e}function getGlobal(e){if(!e)return e;var t=global;return each(e.split(\".\"),function(e){t=t[e]}),t}function makeError(e,t,i,r){var n=new Error(t+\"\\nhttps://requirejs.org/docs/errors.html#\"+e);return n.requireType=e,n.requireModules=r,i&&(n.originalError=i),n}if(void 0===define){if(void 0!==requirejs){if(isFunction(requirejs))return;cfg=requirejs,requirejs=void 0}void 0===require||isFunction(require)||(cfg=require,require=void 0),req=requirejs=function(e,t,i,r){var n,o,a=defContextName;return isArray(e)||\"string\"==typeof e||(o=e,isArray(t)?(e=t,t=i,i=r):e=[]),o&&o.context&&(a=o.context),(n=getOwn(contexts,a))||(n=contexts[a]=req.s.newContext(a)),o&&n.configure(o),n.require(e,t,i)},req.config=function(e){return req(e)},req.nextTick=void 0!==setTimeout?function(e){setTimeout(e,4)}:function(e){e()},require||(require=req),req.version=version,req.jsExtRegExp=/^\\/|:|\\?|\\.js$/,req.isBrowser=isBrowser,s=req.s={contexts:contexts,newContext:newContext},req({}),each([\"toUrl\",\"undef\",\"defined\",\"specified\"],function(t){req[t]=function(){var e=contexts[defContextName];return e.require[t].apply(e,arguments)}}),isBrowser&&(head=s.head=document.getElementsByTagName(\"head\")[0],baseElement=document.getElementsByTagName(\"base\")[0],baseElement&&(head=s.head=baseElement.parentNode)),req.onError=defaultOnError,req.createNode=function(e,t,i){var r=e.xhtml?document.createElementNS(\"http://www.w3.org/1999/xhtml\",\"html:script\"):document.createElement(\"script\");return r.type=e.scriptType||\"text/javascript\",r.charset=\"utf-8\",r.async=!0,r},req.load=function(t,i,r){var e,n=t&&t.config||{};if(isBrowser)return(e=req.createNode(n,i,r)).setAttribute(\"data-requirecontext\",t.contextName),e.setAttribute(\"data-requiremodule\",i),!e.attachEvent||e.attachEvent.toString&&e.attachEvent.toString().indexOf(\"[native code\")<0||isOpera?(e.addEventListener(\"load\",t.onScriptLoad,!1),e.addEventListener(\"error\",t.onScriptError,!1)):(useInteractive=!0,e.attachEvent(\"onreadystatechange\",t.onScriptLoad)),e.src=r,n.onNodeCreated&&n.onNodeCreated(e,n,i,r),currentlyAddingScript=e,baseElement?head.insertBefore(e,baseElement):head.appendChild(e),currentlyAddingScript=null,e;if(isWebWorker)try{setTimeout(function(){},0),importScripts(r),t.completeLoad(i)}catch(e){t.onError(makeError(\"importscripts\",\"importScripts failed for \"+i+\" at \"+r,e,[i]))}},isBrowser&&!cfg.skipDataMain&&eachReverse(scripts(),function(e){if(head||(head=e.parentNode),dataMain=e.getAttribute(\"data-main\"))return mainScript=dataMain,cfg.baseUrl||-1!==mainScript.indexOf(\"!\")||(mainScript=(src=mainScript.split(\"/\")).pop(),subPath=src.length?src.join(\"/\")+\"/\":\"./\",cfg.baseUrl=subPath),mainScript=mainScript.replace(jsSuffixRegExp,\"\"),req.jsExtRegExp.test(mainScript)&&(mainScript=dataMain),cfg.deps=cfg.deps?cfg.deps.concat(mainScript):[mainScript],!0}),define=function(e,i,t){var r,n;\"string\"!=typeof e&&(t=i,i=e,e=null),isArray(i)||(t=i,i=null),!i&&isFunction(t)&&(i=[],t.length&&(t.toString().replace(commentRegExp,commentReplace).replace(cjsRequireRegExp,function(e,t){i.push(t)}),i=(1===t.length?[\"require\"]:[\"require\",\"exports\",\"module\"]).concat(i))),useInteractive&&(r=currentlyAddingScript||getInteractiveScript())&&(e||(e=r.getAttribute(\"data-requiremodule\")),n=contexts[r.getAttribute(\"data-requirecontext\")]),n?(n.defQueue.push([e,i,t]),n.defQueueMap[e]=!0):globalDefQueue.push([e,i,t])},define.amd={jQuery:!0},req.exec=function(text){return eval(text)},req(cfg)}function newContext(u){var i,e,l,c,d,g={waitSeconds:7,baseUrl:\"./\",paths:{},bundles:{},pkgs:{},shim:{},config:{}},p={},f={},r={},h=[],m={},n={},v={},x=1,b=1;function q(e,t,i){var r,n,o,a,s,u,c,d,p,f,l=t&&t.split(\"/\"),h=g.map,m=h&&h[\"*\"];if(e&&(u=(e=e.split(\"/\")).length-1,g.nodeIdCompat&&jsSuffixRegExp.test(e[u])&&(e[u]=e[u].replace(jsSuffixRegExp,\"\")),\".\"===e[0].charAt(0)&&l&&(e=l.slice(0,l.length-1).concat(e)),function(e){var t,i;for(t=0;t<e.length;t++)if(\".\"===(i=e[t]))e.splice(t,1),t-=1;else if(\"..\"===i){if(0===t||1===t&&\"..\"===e[2]||\"..\"===e[t-1])continue;0<t&&(e.splice(t-1,2),t-=2)}}(e),e=e.join(\"/\")),i&&h&&(l||m)){e:for(o=(n=e.split(\"/\")).length;0<o;o-=1){if(s=n.slice(0,o).join(\"/\"),l)for(a=l.length;0<a;a-=1)if((r=getOwn(h,l.slice(0,a).join(\"/\")))&&(r=getOwn(r,s))){c=r,d=o;break e}!p&&m&&getOwn(m,s)&&(p=getOwn(m,s),f=o)}!c&&p&&(c=p,d=f),c&&(n.splice(0,d,c),e=n.join(\"/\"))}return getOwn(g.pkgs,e)||e}function E(t){isBrowser&&each(scripts(),function(e){if(e.getAttribute(\"data-requiremodule\")===t&&e.getAttribute(\"data-requirecontext\")===l.contextName)return e.parentNode.removeChild(e),!0})}function w(e){var t=getOwn(g.paths,e);if(t&&isArray(t)&&1<t.length)return t.shift(),l.require.undef(e),l.makeRequire(null,{skipMap:!0})([e]),!0}function y(e){var t,i=e?e.indexOf(\"!\"):-1;return-1<i&&(t=e.substring(0,i),e=e.substring(i+1,e.length)),[t,e]}function S(e,t,i,r){var n,o,a,s,u=null,c=t?t.name:null,d=e,p=!0,f=\"\";return e||(p=!1,e=\"_@r\"+(x+=1)),u=(s=y(e))[0],e=s[1],u&&(u=q(u,c,r),o=getOwn(m,u)),e&&(u?f=i?e:o&&o.normalize?o.normalize(e,function(e){return q(e,c,r)}):-1===e.indexOf(\"!\")?q(e,c,r):e:(u=(s=y(f=q(e,c,r)))[0],f=s[1],i=!0,n=l.nameToUrl(f))),{prefix:u,name:f,parentMap:t,unnormalized:!!(a=!u||o||i?\"\":\"_unnormalized\"+(b+=1)),url:n,originalName:d,isDefine:p,id:(u?u+\"!\"+f:f)+a}}function k(e){var t=e.id,i=getOwn(p,t);return i||(i=p[t]=new l.Module(e)),i}function M(e,t,i){var r=e.id,n=getOwn(p,r);!hasProp(m,r)||n&&!n.defineEmitComplete?(n=k(e)).error&&\"error\"===t?i(n.error):n.on(t,i):\"defined\"===t&&i(m[r])}function O(i,e){var t=i.requireModules,r=!1;e?e(i):(each(t,function(e){var t=getOwn(p,e);t&&(t.error=i,t.events.error&&(r=!0,t.emit(\"error\",i)))}),r||req.onError(i))}function j(){globalDefQueue.length&&(each(globalDefQueue,function(e){var t=e[0];\"string\"==typeof t&&(l.defQueueMap[t]=!0),h.push(e)}),globalDefQueue=[])}function P(e){delete p[e],delete f[e]}function R(){var e,r,t=1e3*g.waitSeconds,n=t&&l.startTime+t<(new Date).getTime(),o=[],a=[],s=!1,u=!0;if(!i){if(i=!0,eachProp(f,function(e){var t=e.map,i=t.id;if(e.enabled&&(t.isDefine||a.push(e),!e.error))if(!e.inited&&n)w(i)?s=r=!0:(o.push(i),E(i));else if(!e.inited&&e.fetched&&t.isDefine&&(s=!0,!t.prefix))return u=!1}),n&&o.length)return(e=makeError(\"timeout\",\"Load timeout for modules: \"+o,null,o)).contextName=l.contextName,O(e);u&&each(a,function(e){!function n(o,a,s){var e=o.map.id;o.error?o.emit(\"error\",o.error):(a[e]=!0,each(o.depMaps,function(e,t){var i=e.id,r=getOwn(p,i);!r||o.depMatched[t]||s[i]||(getOwn(a,i)?(o.defineDep(t,m[i]),o.check()):n(r,a,s))}),s[e]=!0)}(e,{},{})}),n&&!r||!s||!isBrowser&&!isWebWorker||d||(d=setTimeout(function(){d=0,R()},50)),i=!1}}function a(e){hasProp(m,e[0])||k(S(e[0],null,!0)).init(e[1],e[2])}function o(e,t,i,r){e.detachEvent&&!isOpera?r&&e.detachEvent(r,t):e.removeEventListener(i,t,!1)}function s(e){var t=e.currentTarget||e.srcElement;return o(t,l.onScriptLoad,\"load\",\"onreadystatechange\"),o(t,l.onScriptError,\"error\"),{node:t,id:t&&t.getAttribute(\"data-requiremodule\")}}function T(){var e;for(j();h.length;){if(null===(e=h.shift())[0])return O(makeError(\"mismatch\",\"Mismatched anonymous define() module: \"+e[e.length-1]));a(e)}l.defQueueMap={}}return c={require:function(e){return e.require?e.require:e.require=l.makeRequire(e.map)},exports:function(e){if(e.usingExports=!0,e.map.isDefine)return e.exports?m[e.map.id]=e.exports:e.exports=m[e.map.id]={}},module:function(e){return e.module?e.module:e.module={id:e.map.id,uri:e.map.url,config:function(){return getOwn(g.config,e.map.id)||{}},exports:e.exports||(e.exports={})}}},(e=function(e){this.events=getOwn(r,e.id)||{},this.map=e,this.shim=getOwn(g.shim,e.id),this.depExports=[],this.depMaps=[],this.depMatched=[],this.pluginMaps={},this.depCount=0}).prototype={init:function(e,t,i,r){r=r||{},this.inited||(this.factory=t,i?this.on(\"error\",i):this.events.error&&(i=bind(this,function(e){this.emit(\"error\",e)})),this.depMaps=e&&e.slice(0),this.errback=i,this.inited=!0,this.ignore=r.ignore,r.enabled||this.enabled?this.enable():this.check())},defineDep:function(e,t){this.depMatched[e]||(this.depMatched[e]=!0,this.depCount-=1,this.depExports[e]=t)},fetch:function(){if(!this.fetched){this.fetched=!0,l.startTime=(new Date).getTime();var e=this.map;if(!this.shim)return e.prefix?this.callPlugin():this.load();l.makeRequire(this.map,{enableBuildCallback:!0})(this.shim.deps||[],bind(this,function(){return e.prefix?this.callPlugin():this.load()}))}},load:function(){var e=this.map.url;n[e]||(n[e]=!0,l.load(this.map.id,e))},check:function(){if(this.enabled&&!this.enabling){var t,e,i=this.map.id,r=this.depExports,n=this.exports,o=this.factory;if(this.inited){if(this.error)this.emit(\"error\",this.error);else if(!this.defining){if(this.defining=!0,this.depCount<1&&!this.defined){if(isFunction(o)){if(this.events.error&&this.map.isDefine||req.onError!==defaultOnError)try{n=l.execCb(i,o,r,n)}catch(e){t=e}else n=l.execCb(i,o,r,n);if(this.map.isDefine&&void 0===n&&((e=this.module)?n=e.exports:this.usingExports&&(n=this.exports)),t)return t.requireMap=this.map,t.requireModules=this.map.isDefine?[this.map.id]:null,t.requireType=this.map.isDefine?\"define\":\"require\",O(this.error=t)}else n=o;if(this.exports=n,this.map.isDefine&&!this.ignore&&(m[i]=n,req.onResourceLoad)){var a=[];each(this.depMaps,function(e){a.push(e.normalizedMap||e)}),req.onResourceLoad(l,this.map,a)}P(i),this.defined=!0}this.defining=!1,this.defined&&!this.defineEmitted&&(this.defineEmitted=!0,this.emit(\"defined\",this.exports),this.defineEmitComplete=!0)}}else hasProp(l.defQueueMap,i)||this.fetch()}},callPlugin:function(){var u=this.map,c=u.id,e=S(u.prefix);this.depMaps.push(e),M(e,\"defined\",bind(this,function(e){var o,t,i,r=getOwn(v,this.map.id),n=this.map.name,a=this.map.parentMap?this.map.parentMap.name:null,s=l.makeRequire(u.parentMap,{enableBuildCallback:!0});return this.map.unnormalized?(e.normalize&&(n=e.normalize(n,function(e){return q(e,a,!0)})||\"\"),M(t=S(u.prefix+\"!\"+n,this.map.parentMap,!0),\"defined\",bind(this,function(e){this.map.normalizedMap=t,this.init([],function(){return e},null,{enabled:!0,ignore:!0})})),void((i=getOwn(p,t.id))&&(this.depMaps.push(t),this.events.error&&i.on(\"error\",bind(this,function(e){this.emit(\"error\",e)})),i.enable()))):r?(this.map.url=l.nameToUrl(r),void this.load()):((o=bind(this,function(e){this.init([],function(){return e},null,{enabled:!0})})).error=bind(this,function(e){this.inited=!0,(this.error=e).requireModules=[c],eachProp(p,function(e){0===e.map.id.indexOf(c+\"_unnormalized\")&&P(e.map.id)}),O(e)}),o.fromText=bind(this,function(e,t){var i=u.name,r=S(i),n=useInteractive;t&&(e=t),n&&(useInteractive=!1),k(r),hasProp(g.config,c)&&(g.config[i]=g.config[c]);try{req.exec(e)}catch(e){return O(makeError(\"fromtexteval\",\"fromText eval for \"+c+\" failed: \"+e,e,[c]))}n&&(useInteractive=!0),this.depMaps.push(r),l.completeLoad(i),s([i],o)}),void e.load(u.name,s,o,g))})),l.enable(e,this),this.pluginMaps[e.id]=e},enable:function(){(f[this.map.id]=this).enabled=!0,this.enabling=!0,each(this.depMaps,bind(this,function(e,t){var i,r,n;if(\"string\"==typeof e){if(e=S(e,this.map.isDefine?this.map:this.map.parentMap,!1,!this.skipMap),this.depMaps[t]=e,n=getOwn(c,e.id))return void(this.depExports[t]=n(this));this.depCount+=1,M(e,\"defined\",bind(this,function(e){this.undefed||(this.defineDep(t,e),this.check())})),this.errback?M(e,\"error\",bind(this,this.errback)):this.events.error&&M(e,\"error\",bind(this,function(e){this.emit(\"error\",e)}))}i=e.id,r=p[i],hasProp(c,i)||!r||r.enabled||l.enable(e,this)})),eachProp(this.pluginMaps,bind(this,function(e){var t=getOwn(p,e.id);t&&!t.enabled&&l.enable(e,this)})),this.enabling=!1,this.check()},on:function(e,t){var i=this.events[e];i||(i=this.events[e]=[]),i.push(t)},emit:function(e,t){each(this.events[e],function(e){e(t)}),\"error\"===e&&delete this.events[e]}},(l={config:g,contextName:u,registry:p,defined:m,urlFetched:n,defQueue:h,defQueueMap:{},Module:e,makeModuleMap:S,nextTick:req.nextTick,onError:O,configure:function(e){if(e.baseUrl&&\"/\"!==e.baseUrl.charAt(e.baseUrl.length-1)&&(e.baseUrl+=\"/\"),\"string\"==typeof e.urlArgs){var i=e.urlArgs;e.urlArgs=function(e,t){return(-1===t.indexOf(\"?\")?\"?\":\"&\")+i}}var r=g.shim,n={paths:!0,bundles:!0,config:!0,map:!0};eachProp(e,function(e,t){n[t]?(g[t]||(g[t]={}),mixin(g[t],e,!0,!0)):g[t]=e}),e.bundles&&eachProp(e.bundles,function(e,t){each(e,function(e){e!==t&&(v[e]=t)})}),e.shim&&(eachProp(e.shim,function(e,t){isArray(e)&&(e={deps:e}),!e.exports&&!e.init||e.exportsFn||(e.exportsFn=l.makeShimExports(e)),r[t]=e}),g.shim=r),e.packages&&each(e.packages,function(e){var t;t=(e=\"string\"==typeof e?{name:e}:e).name,e.location&&(g.paths[t]=e.location),g.pkgs[t]=e.name+\"/\"+(e.main||\"main\").replace(currDirRegExp,\"\").replace(jsSuffixRegExp,\"\")}),eachProp(p,function(e,t){e.inited||e.map.unnormalized||(e.map=S(t,null,!0))}),(e.deps||e.callback)&&l.require(e.deps||[],e.callback)},makeShimExports:function(t){return function(){var e;return t.init&&(e=t.init.apply(global,arguments)),e||t.exports&&getGlobal(t.exports)}},makeRequire:function(o,a){function s(e,t,i){var r,n;return a.enableBuildCallback&&t&&isFunction(t)&&(t.__requireJsBuild=!0),\"string\"==typeof e?isFunction(t)?O(makeError(\"requireargs\",\"Invalid require call\"),i):o&&hasProp(c,e)?c[e](p[o.id]):req.get?req.get(l,e,o,s):(r=S(e,o,!1,!0).id,hasProp(m,r)?m[r]:O(makeError(\"notloaded\",'Module name \"'+r+'\" has not been loaded yet for context: '+u+(o?\"\":\". Use require([])\")))):(T(),l.nextTick(function(){T(),(n=k(S(null,o))).skipMap=a.skipMap,n.init(e,t,i,{enabled:!0}),R()}),s)}return a=a||{},mixin(s,{isBrowser:isBrowser,toUrl:function(e){var t,i=e.lastIndexOf(\".\"),r=e.split(\"/\")[0];return-1!==i&&(!(\".\"===r||\"..\"===r)||1<i)&&(t=e.substring(i,e.length),e=e.substring(0,i)),l.nameToUrl(q(e,o&&o.id,!0),t,!0)},defined:function(e){return hasProp(m,S(e,o,!1,!0).id)},specified:function(e){return e=S(e,o,!1,!0).id,hasProp(m,e)||hasProp(p,e)}}),o||(s.undef=function(i){j();var e=S(i,o,!0),t=getOwn(p,i);t.undefed=!0,E(i),delete m[i],delete n[e.url],delete r[i],eachReverse(h,function(e,t){e[0]===i&&h.splice(t,1)}),delete l.defQueueMap[i],t&&(t.events.defined&&(r[i]=t.events),P(i))}),s},enable:function(e){getOwn(p,e.id)&&k(e).enable()},completeLoad:function(e){var t,i,r,n=getOwn(g.shim,e)||{},o=n.exports;for(j();h.length;){if(null===(i=h.shift())[0]){if(i[0]=e,t)break;t=!0}else i[0]===e&&(t=!0);a(i)}if(l.defQueueMap={},r=getOwn(p,e),!t&&!hasProp(m,e)&&r&&!r.inited){if(!(!g.enforceDefine||o&&getGlobal(o)))return w(e)?void 0:O(makeError(\"nodefine\",\"No define call for \"+e,null,[e]));a([e,n.deps||[],n.exportsFn])}R()},nameToUrl:function(e,t,i){var r,n,o,a,s,u,c=getOwn(g.pkgs,e);if(c&&(e=c),u=getOwn(v,e))return l.nameToUrl(u,t,i);if(req.jsExtRegExp.test(e))a=e+(t||\"\");else{for(r=g.paths,o=(n=e.split(\"/\")).length;0<o;o-=1)if(s=getOwn(r,n.slice(0,o).join(\"/\"))){isArray(s)&&(s=s[0]),n.splice(0,o,s);break}a=n.join(\"/\"),a=(\"/\"===(a+=t||(/^data\\:|^blob\\:|\\?/.test(a)||i?\"\":\".js\")).charAt(0)||a.match(/^[\\w\\+\\.\\-]+:/)?\"\":g.baseUrl)+a}return g.urlArgs&&!/^blob\\:/.test(a)?a+g.urlArgs(e,a):a},load:function(e,t){req.load(l,e,t)},execCb:function(e,t,i,r){return t.apply(r,i)},onScriptLoad:function(e){if(\"load\"===e.type||readyRegExp.test((e.currentTarget||e.srcElement).readyState)){interactiveScript=null;var t=s(e);l.completeLoad(t.id)}},onScriptError:function(e){var i=s(e);if(!w(i.id)){var r=[];return eachProp(p,function(e,t){0!==t.indexOf(\"_@r\")&&each(e.depMaps,function(e){if(e.id===i.id)return r.push(t),!0})}),O(makeError(\"scripterror\",'Script error for \"'+i.id+(r.length?'\", needed by: '+r.join(\", \"):'\"'),e,[i.id]))}}}).require=l.makeRequire(),l}function getInteractiveScript(){return interactiveScript&&\"interactive\"===interactiveScript.readyState||eachReverse(scripts(),function(e){if(\"interactive\"===e.readyState)return interactiveScript=e}),interactiveScript}}(this,\"undefined\"==typeof setTimeout?void 0:setTimeout); </script>\n",
       "<script> /*! dom-to-image 10-06-2017 */\n",
       "!function(a){\"use strict\";function b(a,b){function c(a){return b.bgcolor&&(a.style.backgroundColor=b.bgcolor),b.width&&(a.style.width=b.width+\"px\"),b.height&&(a.style.height=b.height+\"px\"),b.style&&Object.keys(b.style).forEach(function(c){a.style[c]=b.style[c]}),a}return b=b||{},g(b),Promise.resolve(a).then(function(a){return i(a,b.filter,!0)}).then(j).then(k).then(c).then(function(c){return l(c,b.width||q.width(a),b.height||q.height(a))})}function c(a,b){return h(a,b||{}).then(function(b){return b.getContext(\"2d\").getImageData(0,0,q.width(a),q.height(a)).data})}function d(a,b){return h(a,b||{}).then(function(a){return a.toDataURL()})}function e(a,b){return b=b||{},h(a,b).then(function(a){return a.toDataURL(\"image/jpeg\",b.quality||1)})}function f(a,b){return h(a,b||{}).then(q.canvasToBlob)}function g(a){\"undefined\"==typeof a.imagePlaceholder?v.impl.options.imagePlaceholder=u.imagePlaceholder:v.impl.options.imagePlaceholder=a.imagePlaceholder,\"undefined\"==typeof a.cacheBust?v.impl.options.cacheBust=u.cacheBust:v.impl.options.cacheBust=a.cacheBust}function h(a,c){function d(a){var b=document.createElement(\"canvas\");if(b.width=c.width||q.width(a),b.height=c.height||q.height(a),c.bgcolor){var d=b.getContext(\"2d\");d.fillStyle=c.bgcolor,d.fillRect(0,0,b.width,b.height)}return b}return b(a,c).then(q.makeImage).then(q.delay(100)).then(function(b){var c=d(a);return c.getContext(\"2d\").drawImage(b,0,0),c})}function i(a,b,c){function d(a){return a instanceof HTMLCanvasElement?q.makeImage(a.toDataURL()):a.cloneNode(!1)}function e(a,b,c){function d(a,b,c){var d=Promise.resolve();return b.forEach(function(b){d=d.then(function(){return i(b,c)}).then(function(b){b&&a.appendChild(b)})}),d}var e=a.childNodes;return 0===e.length?Promise.resolve(b):d(b,q.asArray(e),c).then(function(){return b})}function f(a,b){function c(){function c(a,b){function c(a,b){q.asArray(a).forEach(function(c){b.setProperty(c,a.getPropertyValue(c),a.getPropertyPriority(c))})}a.cssText?b.cssText=a.cssText:c(a,b)}c(window.getComputedStyle(a),b.style)}function d(){function c(c){function d(a,b,c){function d(a){var b=a.getPropertyValue(\"content\");return a.cssText+\" content: \"+b+\";\"}function e(a){function b(b){return b+\": \"+a.getPropertyValue(b)+(a.getPropertyPriority(b)?\" !important\":\"\")}return q.asArray(a).map(b).join(\"; \")+\";\"}var f=\".\"+a+\":\"+b,g=c.cssText?d(c):e(c);return document.createTextNode(f+\"{\"+g+\"}\")}var e=window.getComputedStyle(a,c),f=e.getPropertyValue(\"content\");if(\"\"!==f&&\"none\"!==f){var g=q.uid();b.className=b.className+\" \"+g;var h=document.createElement(\"style\");h.appendChild(d(g,c,e)),b.appendChild(h)}}[\":before\",\":after\"].forEach(function(a){c(a)})}function e(){a instanceof HTMLTextAreaElement&&(b.innerHTML=a.value),a instanceof HTMLInputElement&&b.setAttribute(\"value\",a.value)}function f(){b instanceof SVGElement&&(b.setAttribute(\"xmlns\",\"http://www.w3.org/2000/svg\"),b instanceof SVGRectElement&&[\"width\",\"height\"].forEach(function(a){var c=b.getAttribute(a);c&&b.style.setProperty(a,c)}))}return b instanceof Element?Promise.resolve().then(c).then(d).then(e).then(f).then(function(){return b}):b}return c||!b||b(a)?Promise.resolve(a).then(d).then(function(c){return e(a,c,b)}).then(function(b){return f(a,b)}):Promise.resolve()}function j(a){return s.resolveAll().then(function(b){var c=document.createElement(\"style\");return a.appendChild(c),c.appendChild(document.createTextNode(b)),a})}function k(a){return t.inlineAll(a).then(function(){return a})}function l(a,b,c){return Promise.resolve(a).then(function(a){return a.setAttribute(\"xmlns\",\"http://www.w3.org/1999/xhtml\"),(new XMLSerializer).serializeToString(a)}).then(q.escapeXhtml).then(function(a){return'<foreignObject x=\"0\" y=\"0\" width=\"100%\" height=\"100%\">'+a+\"</foreignObject>\"}).then(function(a){return'<svg xmlns=\"http://www.w3.org/2000/svg\" width=\"'+b+'\" height=\"'+c+'\">'+a+\"</svg>\"}).then(function(a){return\"data:image/svg+xml;charset=utf-8,\"+a})}function m(){function a(){var a=\"application/font-woff\",b=\"image/jpeg\";return{woff:a,woff2:a,ttf:\"application/font-truetype\",eot:\"application/vnd.ms-fontobject\",png:\"image/png\",jpg:b,jpeg:b,gif:\"image/gif\",tiff:\"image/tiff\",svg:\"image/svg+xml\"}}function b(a){var b=/\\.([^\\.\\/]*?)$/g.exec(a);return b?b[1]:\"\"}function c(c){var d=b(c).toLowerCase();return a()[d]||\"\"}function d(a){return a.search(/^(data:)/)!==-1}function e(a){return new Promise(function(b){for(var c=window.atob(a.toDataURL().split(\",\")[1]),d=c.length,e=new Uint8Array(d),f=0;f<d;f++)e[f]=c.charCodeAt(f);b(new Blob([e],{type:\"image/png\"}))})}function f(a){return a.toBlob?new Promise(function(b){a.toBlob(b)}):e(a)}function g(a,b){var c=document.implementation.createHTMLDocument(),d=c.createElement(\"base\");c.head.appendChild(d);var e=c.createElement(\"a\");return c.body.appendChild(e),d.href=b,e.href=a,e.href}function h(){var a=0;return function(){function b(){return(\"0000\"+(Math.random()*Math.pow(36,4)<<0).toString(36)).slice(-4)}return\"u\"+b()+a++}}function i(a){return new Promise(function(b,c){var d=new Image;d.onload=function(){b(d)},d.onerror=c,d.src=a})}function j(a){var b=3e4;return v.impl.options.cacheBust&&(a+=(/\\?/.test(a)?\"&\":\"?\")+(new Date).getTime()),new Promise(function(c){function d(){if(4===g.readyState){if(200!==g.status)return void(h?c(h):f(\"cannot fetch resource: \"+a+\", status: \"+g.status));var b=new FileReader;b.onloadend=function(){var a=b.result.split(/,/)[1];c(a)},b.readAsDataURL(g.response)}}function e(){h?c(h):f(\"timeout of \"+b+\"ms occured while fetching resource: \"+a)}function f(a){console.error(a),c(\"\")}var g=new XMLHttpRequest;g.onreadystatechange=d,g.ontimeout=e,g.responseType=\"blob\",g.timeout=b,g.open(\"GET\",a,!0),g.send();var h;if(v.impl.options.imagePlaceholder){var i=v.impl.options.imagePlaceholder.split(/,/);i&&i[1]&&(h=i[1])}})}function k(a,b){return\"data:\"+b+\";base64,\"+a}function l(a){return a.replace(/([.*+?^${}()|\\[\\]\\/\\\\])/g,\"\\\\$1\")}function m(a){return function(b){return new Promise(function(c){setTimeout(function(){c(b)},a)})}}function n(a){for(var b=[],c=a.length,d=0;d<c;d++)b.push(a[d]);return b}function o(a){return a.replace(/#/g,\"%23\").replace(/\\n/g,\"%0A\")}function p(a){var b=r(a,\"border-left-width\"),c=r(a,\"border-right-width\");return a.scrollWidth+b+c}function q(a){var b=r(a,\"border-top-width\"),c=r(a,\"border-bottom-width\");return a.scrollHeight+b+c}function r(a,b){var c=window.getComputedStyle(a).getPropertyValue(b);return parseFloat(c.replace(\"px\",\"\"))}return{escape:l,parseExtension:b,mimeType:c,dataAsUrl:k,isDataUrl:d,canvasToBlob:f,resolveUrl:g,getAndEncode:j,uid:h(),delay:m,asArray:n,escapeXhtml:o,makeImage:i,width:p,height:q}}function n(){function a(a){return a.search(e)!==-1}function b(a){for(var b,c=[];null!==(b=e.exec(a));)c.push(b[1]);return c.filter(function(a){return!q.isDataUrl(a)})}function c(a,b,c,d){function e(a){return new RegExp(\"(url\\\\(['\\\"]?)(\"+q.escape(a)+\")(['\\\"]?\\\\))\",\"g\")}return Promise.resolve(b).then(function(a){return c?q.resolveUrl(a,c):a}).then(d||q.getAndEncode).then(function(a){return q.dataAsUrl(a,q.mimeType(b))}).then(function(c){return a.replace(e(b),\"$1\"+c+\"$3\")})}function d(d,e,f){function g(){return!a(d)}return g()?Promise.resolve(d):Promise.resolve(d).then(b).then(function(a){var b=Promise.resolve(d);return a.forEach(function(a){b=b.then(function(b){return c(b,a,e,f)})}),b})}var e=/url\\(['\"]?([^'\"]+?)['\"]?\\)/g;return{inlineAll:d,shouldProcess:a,impl:{readUrls:b,inline:c}}}function o(){function a(){return b(document).then(function(a){return Promise.all(a.map(function(a){return a.resolve()}))}).then(function(a){return a.join(\"\\n\")})}function b(){function a(a){return a.filter(function(a){return a.type===CSSRule.FONT_FACE_RULE}).filter(function(a){return r.shouldProcess(a.style.getPropertyValue(\"src\"))})}function b(a){var b=[];return a.forEach(function(a){try{q.asArray(a.cssRules||[]).forEach(b.push.bind(b))}catch(c){console.log(\"Error while reading CSS rules from \"+a.href,c.toString())}}),b}function c(a){return{resolve:function(){var b=(a.parentStyleSheet||{}).href;return r.inlineAll(a.cssText,b)},src:function(){return a.style.getPropertyValue(\"src\")}}}return Promise.resolve(q.asArray(document.styleSheets)).then(b).then(a).then(function(a){return a.map(c)})}return{resolveAll:a,impl:{readAll:b}}}function p(){function a(a){function b(b){return q.isDataUrl(a.src)?Promise.resolve():Promise.resolve(a.src).then(b||q.getAndEncode).then(function(b){return q.dataAsUrl(b,q.mimeType(a.src))}).then(function(b){return new Promise(function(c,d){a.onload=c,a.onerror=d,a.src=b})})}return{inline:b}}function b(c){function d(a){var b=a.style.getPropertyValue(\"background\");return b?r.inlineAll(b).then(function(b){a.style.setProperty(\"background\",b,a.style.getPropertyPriority(\"background\"))}).then(function(){return a}):Promise.resolve(a)}return c instanceof Element?d(c).then(function(){return c instanceof HTMLImageElement?a(c).inline():Promise.all(q.asArray(c.childNodes).map(function(a){return b(a)}))}):Promise.resolve(c)}return{inlineAll:b,impl:{newImage:a}}}var q=m(),r=n(),s=o(),t=p(),u={imagePlaceholder:void 0,cacheBust:!1},v={toSvg:b,toPng:d,toJpeg:e,toBlob:f,toPixelData:c,impl:{fontFaces:s,images:t,util:q,inliner:r,options:{}}};\"undefined\"!=typeof module?module.exports=v:a.domtoimage=v}(this); </script>\n",
       "<script>\n",
       " require.config({\n",
       "   paths: {\n",
       "     'plotly': \"https://cdn.plot.ly/plotly-latest.min\",\n",
       "     'macy': \"https://cdn.jsdelivr.net/npm/macy@2.5.1/dist/macy.min\"\n",
       "   },\n",
       " })\n",
       "require( ['plotly', 'macy'], function(Plotly, Macy) {\n",
       " window.Plotly = Plotly;\n",
       " window.Macy = Macy;\n",
       "})\n",
       "</script>\n"
      ]
     },
     "metadata": {},
     "output_type": "display_data"
    },
    {
     "data": {
      "text/plain": [
       "\u001b[32mimport \u001b[39m\u001b[36morg.carbonateresearch.picta.render.Html.initNotebook // required to initialize jupyter notebook mode\n",
       "\u001b[39m"
      ]
     },
     "execution_count": 3,
     "metadata": {},
     "output_type": "execute_result"
    }
   ],
   "source": [
    "import org.carbonateresearch.picta.render.Html.initNotebook // required to initialize jupyter notebook mode\n",
    "initNotebook() // stops ugly output"
   ]
  },
  {
   "cell_type": "markdown",
   "metadata": {},
   "source": [
    "# 1. Basics\n",
    "\n",
    "The aim of the Picta library is to be a highly configurable and composable charting library for data exploration. The library takes a grammatical approach to chart construction. \n",
    "\n",
    "The following examples are aimed at demonstrating the libraries capabilities, and eventually make constructing charts using this library easy and intuitive."
   ]
  },
  {
   "cell_type": "markdown",
   "metadata": {},
   "source": [
    "### Main Components\n",
    "\n",
    "Picta graphs are constructed in a modular manner. The main components are:\n",
    "\n",
    "1. `Canvas`: This is is the top-level component for representing the display. A `Canvas` may consist of multiple charts.\n",
    "\n",
    "\n",
    "2. `Chart`: This is the component that corresponds to an actual chart (i.e. scatter, pie etc).\n",
    "\n",
    "\n",
    "3. `Series`: This is the data series that is plotted on a `Chart`. `Series` come in 3 types:\n",
    "\n",
    "    - `XY`:   This is series data for constructing a 2D chart\n",
    "    - `XYZ`:  This is series data for constructing a 3D chart\n",
    "    - `Map`:  This is series data that constructs a Map chart\n",
    "    \n",
    "\n",
    "4. `ChartLayout`: This configures various parts of how the `Chart` is represented on screen.\n",
    "\n",
    "`Chart` may occassionally also make use of the `Config` component for further configuration. `Config` specifies whether the plot is responsive.\n",
    "\n",
    "The following examples in this notebook should provide a number of interactive examples to get used to the Picta library."
   ]
  },
  {
   "cell_type": "markdown",
   "metadata": {},
   "source": [
    "### Importing the Library\n",
    "\n",
    "Importing as below should bring in the most frequently used Components in the library."
   ]
  },
  {
   "cell_type": "code",
   "execution_count": 4,
   "metadata": {},
   "outputs": [],
   "source": [
    "import org.carbonateresearch.picta._"
   ]
  },
  {
   "cell_type": "markdown",
   "metadata": {},
   "source": [
    "### Create Some Dummy Data to Use in the Examples\n",
    "\n",
    "Here we create some dummy data to be used in the examples for this notebook."
   ]
  },
  {
   "cell_type": "code",
   "execution_count": 5,
   "metadata": {},
   "outputs": [],
   "source": [
    "val x = List.range(0, 100).map(x => scala.util.Random.nextDouble() * 50)\n",
    "val y = List.range(0, 100).map(x => scala.util.Random.nextDouble() * 50)\n",
    "val z = List.range(0, 100).map(x => scala.util.Random.nextDouble() * 50)"
   ]
  },
  {
   "cell_type": "markdown",
   "metadata": {},
   "source": [
    "### 2D Plots\n",
    "\n",
    "`Series` that represent 2D data are represented by `XY` series types.\n",
    "\n",
    "\n",
    "#### Scatter Plot\n",
    "\n",
    "An example `Scatter` plot is below. \n",
    "\n",
    "Note: This is just one way to call the library functions. Another way that uses function chaining will be shown immediately after this example."
   ]
  },
  {
   "cell_type": "code",
   "execution_count": 6,
   "metadata": {},
   "outputs": [
    {
     "data": {
      "text/html": [
       "<div id=\"grid-container_TmE1kkUfYs\" class=\"grid-container\" align=\"center\"> \n",
       "<div id=\"grid_TmE1kkUfYs\" class=\"grid\" align=\"center\"> \n",
       "<div id=\"graph_k7ND9AOMVk\" class=\"graph\"></div> \n",
       "</div> \n",
       "</div> \n",
       "<script>\n",
       "var masonry = new Macy({\n",
       "    container: '#grid_TmE1kkUfYs',\n",
       "    debug: true,\n",
       "    mobileFirst: true,\n",
       "    columns: 1,\n",
       "    margin: {\n",
       "        x: 0,\n",
       "        y: 0\n",
       "    }\n",
       "  });\n",
       "\n",
       " var traces_k7ND9AOMVk = [{\"name\":\"uyt2RP708R\",\"type\":\"scatter\",\"mode\":\"markers\",\"x\":[39.08685916406467,32.22274118484135,39.31932222613397,19.4365192608174,39.878283727044874,3.9739602591168097,4.661879204502623,48.902901326426765,9.428553485344587,38.467430381409315,48.36401873359988,1.9717161712378806,44.136469619902826,26.067561534749707,33.60184203023468,41.59417206183003,39.817487299673,14.53003396459806,32.52520126547724,24.96880755023796,27.337563966078882,32.59128614634925,26.600667269411083,26.922521472782556,17.43857564158131,9.067376755570072,39.46835333996027,12.720213177519119,22.798806947196717,23.437888735115266,27.41177692192348,49.62339861060884,46.12398760064343,27.845584516316123,42.82314428381504,1.2545092977247818,45.37881555630674,48.46012846853562,2.8921555524292373,42.62240266225674,11.14581950611193,6.234250238538413,39.15460237460819,16.525941094728392,16.53790753230126,43.22330679425477,23.507774605807946,23.97632553184642,27.09288645328472,0.8442893548833097,12.832856019052063,2.2651985090811957,36.642677436820556,20.71788193338085,27.460223332523086,44.35435650222503,25.276929808276115,27.067273523106362,28.371741209500005,2.3742490073231757,17.210162464062208,2.039985247204301,34.254873343789775,46.19225497182107,49.61354969000145,31.774076778442467,22.306599763921614,15.248062821376774,48.28687913575775,31.547642445823243,36.03088239603051,8.152319055040541,42.42319322113271,2.930624822350808,29.18156472874645,49.906017188675435,38.658077039896696,34.500512479190704,7.473350640945759,11.021942257924621,14.097487057737668,30.38858534072679,38.7166660180739,26.315813993659404,29.082491883049194,37.69096607805958,37.62794499896498,23.68358787995628,3.076243126714895,44.60877708123465,43.725052296108395,24.792714850155267,41.24793097635119,36.07430598199833,49.43829632423735,20.288984902135443,45.08045551053054,22.575156817007507,0.850646157569579,1.8569000855943985],\"y\":[37.6429939141,0.9059415087277201,35.326498057443835,2.2703612286358865,33.046573822472645,12.657142182330073,38.69655059214937,2.4317769007415055,30.04024629133407,37.39334222622237,49.63699650595761,11.321524375157177,11.707395226315864,42.67813658560234,10.414516709713862,10.766036832894965,36.78615033693179,12.370566618021044,11.264201820163589,31.981602118523455,13.264873482128465,37.94802871383157,0.3257709682835175,44.962287423701106,1.593076641596708,35.003190130660464,32.28413103961878,44.9542595336359,3.100155507146879,38.517493718402804,6.6435465266893035,12.49505263160861,49.02870122979305,36.031442277250704,0.9103858283030009,4.795202324627473,16.96616804783661,17.411918142736244,34.86759423966745,6.600978438505206,14.39809986154082,3.5593619124166196,9.594785585867555,28.100774308159092,33.60805340366489,14.102741781439827,48.921009349122784,35.92403707297569,48.213862067056965,45.897784450442835,31.592970847589292,40.8304719942219,39.25677866134904,9.974046354675226,39.59968850487142,42.29854432051072,7.949524506693817,14.46897721989821,11.815274190608772,45.89617629927506,2.9412274383896486,35.04218828516477,32.40470511234798,24.052816498189,12.271643551458133,32.28073486393217,0.28319553837279354,34.65092992501939,44.0640818308463,7.686301363738118,19.327945580265283,44.716260330007664,45.44581822496181,35.97773645088672,19.011770512692266,28.410048889236055,36.1868151125648,21.647478884304384,11.661301543763274,19.512724908086753,12.111974833919986,1.977998928687258,15.638160157167974,48.63741276073916,3.469099528052416,7.0544345845872325,23.399724500719298,34.52292052432232,5.124232251157201,39.70221107879173,19.61676371991131,26.929714261761806,28.707944883332665,4.733473952721501,7.3084837578270445,15.898706363095066,11.650645394663156,47.403787446038464,29.301177976435135,28.43149900625012]}];\n",
       " var layout_k7ND9AOMVk = {\"height\":550,\"width\":600,\"hovermode\":\"closest\",\"title\":{\"text\":\"First Chart\"},\"showlegend\":true};\n",
       " var config_k7ND9AOMVk = {\"responsive\":true,\"scrollZoom\":true,\"displaylogo\":false};\n",
       " Plotly.newPlot(\"graph_k7ND9AOMVk\", traces_k7ND9AOMVk, layout_k7ND9AOMVk, config_k7ND9AOMVk);\n",
       "</script> \n"
      ]
     },
     "metadata": {},
     "output_type": "display_data"
    }
   ],
   "source": [
    "// create the data series using the data from above\n",
    "// 'asType SCATTER' transforms the series into a scatter chart\n",
    "// 'drawSymbol Markers' specifies the type of markers the chart should have\n",
    "// if a name is not provided to the series, Picta generates a random name to help keep track of the series in charts\n",
    "// multiple series.\n",
    "val series = XY(x, y) asType SCATTER drawSymbol MARKERS\n",
    "\n",
    "// create a chart by adding to it a data series. We set the title as 'First Chart'\n",
    "val chart = Chart() addSeries series setTitle \"First Chart\"\n",
    "\n",
    "// if we have a single chart, then we do not need to use the Canvas and can simply call chart.plot\n",
    "\n",
    "chart.plotInline"
   ]
  },
  {
   "cell_type": "markdown",
   "metadata": {},
   "source": [
    "#### Chaining Functions\n",
    "\n",
    "Sometimes when we are specifying many options, it is quicker to use the IDE autocomplete and just chain the function calls. Throughout this book both the style above and the function chaining style will be used as and when convenient."
   ]
  },
  {
   "cell_type": "code",
   "execution_count": 7,
   "metadata": {},
   "outputs": [
    {
     "data": {
      "text/html": [
       "<div id=\"grid-container_XuRFf4mco0\" class=\"grid-container\" align=\"center\"> \n",
       "<div id=\"grid_XuRFf4mco0\" class=\"grid\" align=\"center\"> \n",
       "<div id=\"graph_G2CgzQngSC\" class=\"graph\"></div> \n",
       "</div> \n",
       "</div> \n",
       "<script>\n",
       "var masonry = new Macy({\n",
       "    container: '#grid_XuRFf4mco0',\n",
       "    debug: true,\n",
       "    mobileFirst: true,\n",
       "    columns: 1,\n",
       "    margin: {\n",
       "        x: 0,\n",
       "        y: 0\n",
       "    }\n",
       "  });\n",
       "\n",
       " var traces_G2CgzQngSC = [{\"name\":\"I2w8d0XiBE\",\"type\":\"scatter\",\"mode\":\"markers\",\"x\":[39.08685916406467,32.22274118484135,39.31932222613397,19.4365192608174,39.878283727044874,3.9739602591168097,4.661879204502623,48.902901326426765,9.428553485344587,38.467430381409315,48.36401873359988,1.9717161712378806,44.136469619902826,26.067561534749707,33.60184203023468,41.59417206183003,39.817487299673,14.53003396459806,32.52520126547724,24.96880755023796,27.337563966078882,32.59128614634925,26.600667269411083,26.922521472782556,17.43857564158131,9.067376755570072,39.46835333996027,12.720213177519119,22.798806947196717,23.437888735115266,27.41177692192348,49.62339861060884,46.12398760064343,27.845584516316123,42.82314428381504,1.2545092977247818,45.37881555630674,48.46012846853562,2.8921555524292373,42.62240266225674,11.14581950611193,6.234250238538413,39.15460237460819,16.525941094728392,16.53790753230126,43.22330679425477,23.507774605807946,23.97632553184642,27.09288645328472,0.8442893548833097,12.832856019052063,2.2651985090811957,36.642677436820556,20.71788193338085,27.460223332523086,44.35435650222503,25.276929808276115,27.067273523106362,28.371741209500005,2.3742490073231757,17.210162464062208,2.039985247204301,34.254873343789775,46.19225497182107,49.61354969000145,31.774076778442467,22.306599763921614,15.248062821376774,48.28687913575775,31.547642445823243,36.03088239603051,8.152319055040541,42.42319322113271,2.930624822350808,29.18156472874645,49.906017188675435,38.658077039896696,34.500512479190704,7.473350640945759,11.021942257924621,14.097487057737668,30.38858534072679,38.7166660180739,26.315813993659404,29.082491883049194,37.69096607805958,37.62794499896498,23.68358787995628,3.076243126714895,44.60877708123465,43.725052296108395,24.792714850155267,41.24793097635119,36.07430598199833,49.43829632423735,20.288984902135443,45.08045551053054,22.575156817007507,0.850646157569579,1.8569000855943985],\"y\":[37.6429939141,0.9059415087277201,35.326498057443835,2.2703612286358865,33.046573822472645,12.657142182330073,38.69655059214937,2.4317769007415055,30.04024629133407,37.39334222622237,49.63699650595761,11.321524375157177,11.707395226315864,42.67813658560234,10.414516709713862,10.766036832894965,36.78615033693179,12.370566618021044,11.264201820163589,31.981602118523455,13.264873482128465,37.94802871383157,0.3257709682835175,44.962287423701106,1.593076641596708,35.003190130660464,32.28413103961878,44.9542595336359,3.100155507146879,38.517493718402804,6.6435465266893035,12.49505263160861,49.02870122979305,36.031442277250704,0.9103858283030009,4.795202324627473,16.96616804783661,17.411918142736244,34.86759423966745,6.600978438505206,14.39809986154082,3.5593619124166196,9.594785585867555,28.100774308159092,33.60805340366489,14.102741781439827,48.921009349122784,35.92403707297569,48.213862067056965,45.897784450442835,31.592970847589292,40.8304719942219,39.25677866134904,9.974046354675226,39.59968850487142,42.29854432051072,7.949524506693817,14.46897721989821,11.815274190608772,45.89617629927506,2.9412274383896486,35.04218828516477,32.40470511234798,24.052816498189,12.271643551458133,32.28073486393217,0.28319553837279354,34.65092992501939,44.0640818308463,7.686301363738118,19.327945580265283,44.716260330007664,45.44581822496181,35.97773645088672,19.011770512692266,28.410048889236055,36.1868151125648,21.647478884304384,11.661301543763274,19.512724908086753,12.111974833919986,1.977998928687258,15.638160157167974,48.63741276073916,3.469099528052416,7.0544345845872325,23.399724500719298,34.52292052432232,5.124232251157201,39.70221107879173,19.61676371991131,26.929714261761806,28.707944883332665,4.733473952721501,7.3084837578270445,15.898706363095066,11.650645394663156,47.403787446038464,29.301177976435135,28.43149900625012]}];\n",
       " var layout_G2CgzQngSC = {\"height\":550,\"width\":600,\"hovermode\":\"closest\",\"title\":{\"text\":\"First Chart - Function Chaining\"},\"showlegend\":true,\"xaxis\":{\"showgrid\":true,\"zeroline\":false,\"showline\":false},\"yaxis\":{\"showgrid\":true,\"zeroline\":false,\"showline\":false}};\n",
       " var config_G2CgzQngSC = {\"responsive\":true,\"scrollZoom\":true,\"displaylogo\":false};\n",
       " Plotly.newPlot(\"graph_G2CgzQngSC\", traces_G2CgzQngSC, layout_G2CgzQngSC, config_G2CgzQngSC);\n",
       "</script> \n"
      ]
     },
     "metadata": {},
     "output_type": "display_data"
    }
   ],
   "source": [
    "// sometimes we may specify many options. In such cases it is clearer to use function chaining as below:\n",
    "val series = XY(x, y)\n",
    "            .asType(SCATTER)\n",
    "            .drawMarkers  // This is to help leverage the IDE autocompletion for quick scripting\n",
    "\n",
    "val chart = Chart()\n",
    "            .addSeries(series)\n",
    "            .setTitle(\"First Chart - Function Chaining\")\n",
    "            // by specifying axes we can get rid of the zerolines\n",
    "            .addAxes(XAxis(zeroline = false), YAxis(zeroline = false)) \n",
    "\n",
    "chart.plotInline"
   ]
  },
  {
   "cell_type": "markdown",
   "metadata": {},
   "source": [
    "#### Bar Chart\n",
    "\n",
    "Now using the same principles as above, let's create a `Bar` chart:"
   ]
  },
  {
   "cell_type": "code",
   "execution_count": 8,
   "metadata": {},
   "outputs": [
    {
     "data": {
      "text/html": [
       "<div id=\"grid-container_XAmdMhfrKQ\" class=\"grid-container\" align=\"center\"> \n",
       "<div id=\"grid_XAmdMhfrKQ\" class=\"grid\" align=\"center\"> \n",
       "<div id=\"graph_L812dZiuab\" class=\"graph\"></div> \n",
       "</div> \n",
       "</div> \n",
       "<script>\n",
       "var masonry = new Macy({\n",
       "    container: '#grid_XAmdMhfrKQ',\n",
       "    debug: true,\n",
       "    mobileFirst: true,\n",
       "    columns: 1,\n",
       "    margin: {\n",
       "        x: 0,\n",
       "        y: 0\n",
       "    }\n",
       "  });\n",
       "\n",
       " var traces_L812dZiuab = [{\"name\":\"4OWon6Pgyj\",\"type\":\"bar\",\"x\":[\"a\",\"b\",\"c\"],\"y\":[10,20,300]}];\n",
       " var layout_L812dZiuab = {\"height\":550,\"width\":600,\"hovermode\":\"closest\",\"title\":{\"text\":\"Bar Chart\"},\"showlegend\":true};\n",
       " var config_L812dZiuab = {\"responsive\":false,\"scrollZoom\":false,\"displaylogo\":false};\n",
       " Plotly.newPlot(\"graph_L812dZiuab\", traces_L812dZiuab, layout_L812dZiuab, config_L812dZiuab);\n",
       "</script> \n"
      ]
     },
     "metadata": {},
     "output_type": "display_data"
    }
   ],
   "source": [
    "// First we create some data for the piechart\n",
    "val x_bar = List(\"a\", \"b\", \"c\")\n",
    "val y_bar = List(10, 20, 300)\n",
    "\n",
    "// again feed in the data that we want to represent as a Bar chart.\n",
    "// Notice how we change 'asType SCATTER' to 'asType BAR'\n",
    "val series = XY(x_bar, y_bar) asType BAR\n",
    "\n",
    "// we can turn off the scrollzoom using setConfig\n",
    "val chart = Chart() addSeries series setTitle \"Bar Chart\" setConfig(false, false)\n",
    "\n",
    "chart.plotInline"
   ]
  },
  {
   "cell_type": "markdown",
   "metadata": {},
   "source": [
    "#### Adding Multiple Series on the Same Axis\n",
    "\n",
    "Sometimes we may want to plot multiple `Series` on the same axis to compare different data series.\n",
    "\n",
    "Let's plot both of the above on the same pair of axis:"
   ]
  },
  {
   "cell_type": "code",
   "execution_count": 9,
   "metadata": {},
   "outputs": [],
   "source": [
    "// we import the marker option which lets us specify the marker\n",
    "import org.carbonateresearch.picta.options.Marker"
   ]
  },
  {
   "cell_type": "code",
   "execution_count": 10,
   "metadata": {},
   "outputs": [
    {
     "data": {
      "text/html": [
       "<div id=\"grid-container_jr1Gg9qC56\" class=\"grid-container\" align=\"center\"> \n",
       "<div id=\"grid_jr1Gg9qC56\" class=\"grid\" align=\"center\"> \n",
       "<div id=\"graph_Q2xl5cSLpD\" class=\"graph\"></div> \n",
       "</div> \n",
       "</div> \n",
       "<script>\n",
       "var masonry = new Macy({\n",
       "    container: '#grid_jr1Gg9qC56',\n",
       "    debug: true,\n",
       "    mobileFirst: true,\n",
       "    columns: 1,\n",
       "    margin: {\n",
       "        x: 0,\n",
       "        y: 0\n",
       "    }\n",
       "  });\n",
       "\n",
       " var traces_Q2xl5cSLpD = [{\"name\":\"Bar\",\"type\":\"bar\",\"x\":[39.08685916406467,32.22274118484135,39.31932222613397,19.4365192608174,39.878283727044874,3.9739602591168097,4.661879204502623,48.902901326426765,9.428553485344587,38.467430381409315,48.36401873359988,1.9717161712378806,44.136469619902826,26.067561534749707,33.60184203023468,41.59417206183003,39.817487299673,14.53003396459806,32.52520126547724,24.96880755023796,27.337563966078882,32.59128614634925,26.600667269411083,26.922521472782556,17.43857564158131,9.067376755570072,39.46835333996027,12.720213177519119,22.798806947196717,23.437888735115266,27.41177692192348,49.62339861060884,46.12398760064343,27.845584516316123,42.82314428381504,1.2545092977247818,45.37881555630674,48.46012846853562,2.8921555524292373,42.62240266225674,11.14581950611193,6.234250238538413,39.15460237460819,16.525941094728392,16.53790753230126,43.22330679425477,23.507774605807946,23.97632553184642,27.09288645328472,0.8442893548833097,12.832856019052063,2.2651985090811957,36.642677436820556,20.71788193338085,27.460223332523086,44.35435650222503,25.276929808276115,27.067273523106362,28.371741209500005,2.3742490073231757,17.210162464062208,2.039985247204301,34.254873343789775,46.19225497182107,49.61354969000145,31.774076778442467,22.306599763921614,15.248062821376774,48.28687913575775,31.547642445823243,36.03088239603051,8.152319055040541,42.42319322113271,2.930624822350808,29.18156472874645,49.906017188675435,38.658077039896696,34.500512479190704,7.473350640945759,11.021942257924621,14.097487057737668,30.38858534072679,38.7166660180739,26.315813993659404,29.082491883049194,37.69096607805958,37.62794499896498,23.68358787995628,3.076243126714895,44.60877708123465,43.725052296108395,24.792714850155267,41.24793097635119,36.07430598199833,49.43829632423735,20.288984902135443,45.08045551053054,22.575156817007507,0.850646157569579,1.8569000855943985],\"y\":[37.6429939141,0.9059415087277201,35.326498057443835,2.2703612286358865,33.046573822472645,12.657142182330073,38.69655059214937,2.4317769007415055,30.04024629133407,37.39334222622237,49.63699650595761,11.321524375157177,11.707395226315864,42.67813658560234,10.414516709713862,10.766036832894965,36.78615033693179,12.370566618021044,11.264201820163589,31.981602118523455,13.264873482128465,37.94802871383157,0.3257709682835175,44.962287423701106,1.593076641596708,35.003190130660464,32.28413103961878,44.9542595336359,3.100155507146879,38.517493718402804,6.6435465266893035,12.49505263160861,49.02870122979305,36.031442277250704,0.9103858283030009,4.795202324627473,16.96616804783661,17.411918142736244,34.86759423966745,6.600978438505206,14.39809986154082,3.5593619124166196,9.594785585867555,28.100774308159092,33.60805340366489,14.102741781439827,48.921009349122784,35.92403707297569,48.213862067056965,45.897784450442835,31.592970847589292,40.8304719942219,39.25677866134904,9.974046354675226,39.59968850487142,42.29854432051072,7.949524506693817,14.46897721989821,11.815274190608772,45.89617629927506,2.9412274383896486,35.04218828516477,32.40470511234798,24.052816498189,12.271643551458133,32.28073486393217,0.28319553837279354,34.65092992501939,44.0640818308463,7.686301363738118,19.327945580265283,44.716260330007664,45.44581822496181,35.97773645088672,19.011770512692266,28.410048889236055,36.1868151125648,21.647478884304384,11.661301543763274,19.512724908086753,12.111974833919986,1.977998928687258,15.638160157167974,48.63741276073916,3.469099528052416,7.0544345845872325,23.399724500719298,34.52292052432232,5.124232251157201,39.70221107879173,19.61676371991131,26.929714261761806,28.707944883332665,4.733473952721501,7.3084837578270445,15.898706363095066,11.650645394663156,47.403787446038464,29.301177976435135,28.43149900625012]},{\"name\":\"Scatter\",\"type\":\"scatter\",\"mode\":\"markers\",\"marker\":{\"symbol\":\"circle\",\"color\":\"red\"},\"x\":[39.08685916406467,32.22274118484135,39.31932222613397,19.4365192608174,39.878283727044874,3.9739602591168097,4.661879204502623,48.902901326426765,9.428553485344587,38.467430381409315,48.36401873359988,1.9717161712378806,44.136469619902826,26.067561534749707,33.60184203023468,41.59417206183003,39.817487299673,14.53003396459806,32.52520126547724,24.96880755023796,27.337563966078882,32.59128614634925,26.600667269411083,26.922521472782556,17.43857564158131,9.067376755570072,39.46835333996027,12.720213177519119,22.798806947196717,23.437888735115266,27.41177692192348,49.62339861060884,46.12398760064343,27.845584516316123,42.82314428381504,1.2545092977247818,45.37881555630674,48.46012846853562,2.8921555524292373,42.62240266225674,11.14581950611193,6.234250238538413,39.15460237460819,16.525941094728392,16.53790753230126,43.22330679425477,23.507774605807946,23.97632553184642,27.09288645328472,0.8442893548833097,12.832856019052063,2.2651985090811957,36.642677436820556,20.71788193338085,27.460223332523086,44.35435650222503,25.276929808276115,27.067273523106362,28.371741209500005,2.3742490073231757,17.210162464062208,2.039985247204301,34.254873343789775,46.19225497182107,49.61354969000145,31.774076778442467,22.306599763921614,15.248062821376774,48.28687913575775,31.547642445823243,36.03088239603051,8.152319055040541,42.42319322113271,2.930624822350808,29.18156472874645,49.906017188675435,38.658077039896696,34.500512479190704,7.473350640945759,11.021942257924621,14.097487057737668,30.38858534072679,38.7166660180739,26.315813993659404,29.082491883049194,37.69096607805958,37.62794499896498,23.68358787995628,3.076243126714895,44.60877708123465,43.725052296108395,24.792714850155267,41.24793097635119,36.07430598199833,49.43829632423735,20.288984902135443,45.08045551053054,22.575156817007507,0.850646157569579,1.8569000855943985],\"y\":[37.6429939141,0.9059415087277201,35.326498057443835,2.2703612286358865,33.046573822472645,12.657142182330073,38.69655059214937,2.4317769007415055,30.04024629133407,37.39334222622237,49.63699650595761,11.321524375157177,11.707395226315864,42.67813658560234,10.414516709713862,10.766036832894965,36.78615033693179,12.370566618021044,11.264201820163589,31.981602118523455,13.264873482128465,37.94802871383157,0.3257709682835175,44.962287423701106,1.593076641596708,35.003190130660464,32.28413103961878,44.9542595336359,3.100155507146879,38.517493718402804,6.6435465266893035,12.49505263160861,49.02870122979305,36.031442277250704,0.9103858283030009,4.795202324627473,16.96616804783661,17.411918142736244,34.86759423966745,6.600978438505206,14.39809986154082,3.5593619124166196,9.594785585867555,28.100774308159092,33.60805340366489,14.102741781439827,48.921009349122784,35.92403707297569,48.213862067056965,45.897784450442835,31.592970847589292,40.8304719942219,39.25677866134904,9.974046354675226,39.59968850487142,42.29854432051072,7.949524506693817,14.46897721989821,11.815274190608772,45.89617629927506,2.9412274383896486,35.04218828516477,32.40470511234798,24.052816498189,12.271643551458133,32.28073486393217,0.28319553837279354,34.65092992501939,44.0640818308463,7.686301363738118,19.327945580265283,44.716260330007664,45.44581822496181,35.97773645088672,19.011770512692266,28.410048889236055,36.1868151125648,21.647478884304384,11.661301543763274,19.512724908086753,12.111974833919986,1.977998928687258,15.638160157167974,48.63741276073916,3.469099528052416,7.0544345845872325,23.399724500719298,34.52292052432232,5.124232251157201,39.70221107879173,19.61676371991131,26.929714261761806,28.707944883332665,4.733473952721501,7.3084837578270445,15.898706363095066,11.650645394663156,47.403787446038464,29.301177976435135,28.43149900625012]}];\n",
       " var layout_Q2xl5cSLpD = {\"height\":550,\"width\":600,\"hovermode\":\"closest\",\"showlegend\":true};\n",
       " var config_Q2xl5cSLpD = {\"responsive\":true,\"scrollZoom\":true,\"displaylogo\":false};\n",
       " Plotly.newPlot(\"graph_Q2xl5cSLpD\", traces_Q2xl5cSLpD, layout_Q2xl5cSLpD, config_Q2xl5cSLpD);\n",
       "</script> \n"
      ]
     },
     "metadata": {},
     "output_type": "display_data"
    }
   ],
   "source": [
    "// additional traces can simply be composed with an existing chart and added on\n",
    "val series1 = XY(x, y) asType BAR setName(\"Bar\")\n",
    "\n",
    "// lets give the second series a red marker. Again we can 'compose' a marker using smaller components\n",
    "val marker = Marker() setSymbol \"circle\" setColor \"red\"\n",
    "\n",
    "val series2 = XY(x, y) asType SCATTER setName(\"Scatter\") drawSymbol MARKERS setMarker marker\n",
    "\n",
    "// we not put brackets in the 'addSeries' function to ensure that addSeries picks up the right series'\n",
    "val chart = Chart() addSeries(series1, series2)\n",
    "\n",
    "chart.plotInline"
   ]
  },
  {
   "cell_type": "markdown",
   "metadata": {},
   "source": [
    "### Lets Change The Appearance of The Markers\n",
    "\n",
    "We can control the appearance of the markers by setting the width"
   ]
  },
  {
   "cell_type": "code",
   "execution_count": 11,
   "metadata": {},
   "outputs": [
    {
     "data": {
      "text/html": [
       "<div id=\"grid-container_Z6PZoAq6Hz\" class=\"grid-container\" align=\"center\"> \n",
       "<div id=\"grid_Z6PZoAq6Hz\" class=\"grid\" align=\"center\"> \n",
       "<div id=\"graph_AmZ4AGbOJB\" class=\"graph\"></div> \n",
       "</div> \n",
       "</div> \n",
       "<script>\n",
       "var masonry = new Macy({\n",
       "    container: '#grid_Z6PZoAq6Hz',\n",
       "    debug: true,\n",
       "    mobileFirst: true,\n",
       "    columns: 1,\n",
       "    margin: {\n",
       "        x: 0,\n",
       "        y: 0\n",
       "    }\n",
       "  });\n",
       "\n",
       " var traces_AmZ4AGbOJB = [{\"name\":\"Bar\",\"type\":\"bar\",\"x\":[39.08685916406467,32.22274118484135,39.31932222613397,19.4365192608174,39.878283727044874,3.9739602591168097,4.661879204502623,48.902901326426765,9.428553485344587,38.467430381409315,48.36401873359988,1.9717161712378806,44.136469619902826,26.067561534749707,33.60184203023468,41.59417206183003,39.817487299673,14.53003396459806,32.52520126547724,24.96880755023796,27.337563966078882,32.59128614634925,26.600667269411083,26.922521472782556,17.43857564158131,9.067376755570072,39.46835333996027,12.720213177519119,22.798806947196717,23.437888735115266,27.41177692192348,49.62339861060884,46.12398760064343,27.845584516316123,42.82314428381504,1.2545092977247818,45.37881555630674,48.46012846853562,2.8921555524292373,42.62240266225674,11.14581950611193,6.234250238538413,39.15460237460819,16.525941094728392,16.53790753230126,43.22330679425477,23.507774605807946,23.97632553184642,27.09288645328472,0.8442893548833097,12.832856019052063,2.2651985090811957,36.642677436820556,20.71788193338085,27.460223332523086,44.35435650222503,25.276929808276115,27.067273523106362,28.371741209500005,2.3742490073231757,17.210162464062208,2.039985247204301,34.254873343789775,46.19225497182107,49.61354969000145,31.774076778442467,22.306599763921614,15.248062821376774,48.28687913575775,31.547642445823243,36.03088239603051,8.152319055040541,42.42319322113271,2.930624822350808,29.18156472874645,49.906017188675435,38.658077039896696,34.500512479190704,7.473350640945759,11.021942257924621,14.097487057737668,30.38858534072679,38.7166660180739,26.315813993659404,29.082491883049194,37.69096607805958,37.62794499896498,23.68358787995628,3.076243126714895,44.60877708123465,43.725052296108395,24.792714850155267,41.24793097635119,36.07430598199833,49.43829632423735,20.288984902135443,45.08045551053054,22.575156817007507,0.850646157569579,1.8569000855943985],\"y\":[37.6429939141,0.9059415087277201,35.326498057443835,2.2703612286358865,33.046573822472645,12.657142182330073,38.69655059214937,2.4317769007415055,30.04024629133407,37.39334222622237,49.63699650595761,11.321524375157177,11.707395226315864,42.67813658560234,10.414516709713862,10.766036832894965,36.78615033693179,12.370566618021044,11.264201820163589,31.981602118523455,13.264873482128465,37.94802871383157,0.3257709682835175,44.962287423701106,1.593076641596708,35.003190130660464,32.28413103961878,44.9542595336359,3.100155507146879,38.517493718402804,6.6435465266893035,12.49505263160861,49.02870122979305,36.031442277250704,0.9103858283030009,4.795202324627473,16.96616804783661,17.411918142736244,34.86759423966745,6.600978438505206,14.39809986154082,3.5593619124166196,9.594785585867555,28.100774308159092,33.60805340366489,14.102741781439827,48.921009349122784,35.92403707297569,48.213862067056965,45.897784450442835,31.592970847589292,40.8304719942219,39.25677866134904,9.974046354675226,39.59968850487142,42.29854432051072,7.949524506693817,14.46897721989821,11.815274190608772,45.89617629927506,2.9412274383896486,35.04218828516477,32.40470511234798,24.052816498189,12.271643551458133,32.28073486393217,0.28319553837279354,34.65092992501939,44.0640818308463,7.686301363738118,19.327945580265283,44.716260330007664,45.44581822496181,35.97773645088672,19.011770512692266,28.410048889236055,36.1868151125648,21.647478884304384,11.661301543763274,19.512724908086753,12.111974833919986,1.977998928687258,15.638160157167974,48.63741276073916,3.469099528052416,7.0544345845872325,23.399724500719298,34.52292052432232,5.124232251157201,39.70221107879173,19.61676371991131,26.929714261761806,28.707944883332665,4.733473952721501,7.3084837578270445,15.898706363095066,11.650645394663156,47.403787446038464,29.301177976435135,28.43149900625012]},{\"name\":\"Scatter\",\"type\":\"scatter\",\"mode\":\"markers\",\"marker\":{\"symbol\":\"circle\",\"color\":\"red\",\"line\":{\"width\":2,\"color\":\"black\"},\"size\":[10,10,10,10,10,10,10,10,10,10,10,10,10,10,10,10,10,10,10,10,10,10,10,10,10,10,10,10,10,10,10,10,10,10,10,10,10,10,10,10,10,10,10,10,10,10,10,10,10,10,10,10,10,10,10,10,10,10,10,10,10,10,10,10,10,10,10,10,10,10,10,10,10,10,10,10,10,10,10,10,10,10,10,10,10,10,10,10,10,10,10,10,10,10,10,10,10,10,10,10]},\"x\":[39.08685916406467,32.22274118484135,39.31932222613397,19.4365192608174,39.878283727044874,3.9739602591168097,4.661879204502623,48.902901326426765,9.428553485344587,38.467430381409315,48.36401873359988,1.9717161712378806,44.136469619902826,26.067561534749707,33.60184203023468,41.59417206183003,39.817487299673,14.53003396459806,32.52520126547724,24.96880755023796,27.337563966078882,32.59128614634925,26.600667269411083,26.922521472782556,17.43857564158131,9.067376755570072,39.46835333996027,12.720213177519119,22.798806947196717,23.437888735115266,27.41177692192348,49.62339861060884,46.12398760064343,27.845584516316123,42.82314428381504,1.2545092977247818,45.37881555630674,48.46012846853562,2.8921555524292373,42.62240266225674,11.14581950611193,6.234250238538413,39.15460237460819,16.525941094728392,16.53790753230126,43.22330679425477,23.507774605807946,23.97632553184642,27.09288645328472,0.8442893548833097,12.832856019052063,2.2651985090811957,36.642677436820556,20.71788193338085,27.460223332523086,44.35435650222503,25.276929808276115,27.067273523106362,28.371741209500005,2.3742490073231757,17.210162464062208,2.039985247204301,34.254873343789775,46.19225497182107,49.61354969000145,31.774076778442467,22.306599763921614,15.248062821376774,48.28687913575775,31.547642445823243,36.03088239603051,8.152319055040541,42.42319322113271,2.930624822350808,29.18156472874645,49.906017188675435,38.658077039896696,34.500512479190704,7.473350640945759,11.021942257924621,14.097487057737668,30.38858534072679,38.7166660180739,26.315813993659404,29.082491883049194,37.69096607805958,37.62794499896498,23.68358787995628,3.076243126714895,44.60877708123465,43.725052296108395,24.792714850155267,41.24793097635119,36.07430598199833,49.43829632423735,20.288984902135443,45.08045551053054,22.575156817007507,0.850646157569579,1.8569000855943985],\"y\":[37.6429939141,0.9059415087277201,35.326498057443835,2.2703612286358865,33.046573822472645,12.657142182330073,38.69655059214937,2.4317769007415055,30.04024629133407,37.39334222622237,49.63699650595761,11.321524375157177,11.707395226315864,42.67813658560234,10.414516709713862,10.766036832894965,36.78615033693179,12.370566618021044,11.264201820163589,31.981602118523455,13.264873482128465,37.94802871383157,0.3257709682835175,44.962287423701106,1.593076641596708,35.003190130660464,32.28413103961878,44.9542595336359,3.100155507146879,38.517493718402804,6.6435465266893035,12.49505263160861,49.02870122979305,36.031442277250704,0.9103858283030009,4.795202324627473,16.96616804783661,17.411918142736244,34.86759423966745,6.600978438505206,14.39809986154082,3.5593619124166196,9.594785585867555,28.100774308159092,33.60805340366489,14.102741781439827,48.921009349122784,35.92403707297569,48.213862067056965,45.897784450442835,31.592970847589292,40.8304719942219,39.25677866134904,9.974046354675226,39.59968850487142,42.29854432051072,7.949524506693817,14.46897721989821,11.815274190608772,45.89617629927506,2.9412274383896486,35.04218828516477,32.40470511234798,24.052816498189,12.271643551458133,32.28073486393217,0.28319553837279354,34.65092992501939,44.0640818308463,7.686301363738118,19.327945580265283,44.716260330007664,45.44581822496181,35.97773645088672,19.011770512692266,28.410048889236055,36.1868151125648,21.647478884304384,11.661301543763274,19.512724908086753,12.111974833919986,1.977998928687258,15.638160157167974,48.63741276073916,3.469099528052416,7.0544345845872325,23.399724500719298,34.52292052432232,5.124232251157201,39.70221107879173,19.61676371991131,26.929714261761806,28.707944883332665,4.733473952721501,7.3084837578270445,15.898706363095066,11.650645394663156,47.403787446038464,29.301177976435135,28.43149900625012]}];\n",
       " var layout_AmZ4AGbOJB = {\"height\":550,\"width\":600,\"hovermode\":\"closest\",\"showlegend\":true};\n",
       " var config_AmZ4AGbOJB = {\"responsive\":false,\"scrollZoom\":false,\"displaylogo\":false};\n",
       " Plotly.newPlot(\"graph_AmZ4AGbOJB\", traces_AmZ4AGbOJB, layout_AmZ4AGbOJB, config_AmZ4AGbOJB);\n",
       "</script> \n"
      ]
     },
     "metadata": {},
     "output_type": "display_data"
    }
   ],
   "source": [
    "// we can pass in the size of the markers\n",
    "val sizes = List.range(0, 100).map(x => 10)\n",
    "\n",
    "// additional traces can simply be composed with an existing chart and added on\n",
    "val series1 = XY(x, y) asType BAR setName \"Bar\"\n",
    "\n",
    "// lets give the second series a red marker. Again we can 'compose' a marker using smaller components\n",
    "val marker = (\n",
    "    Marker() \n",
    "    // sets the marker shape\n",
    "    setSymbol \"circle\"\n",
    "    // sets the fill to red\n",
    "    setColor \"red\" \n",
    "    // sets the outline to black, with width 2\n",
    "    setLine(width = 2, \"black\")\n",
    "    // set the size of the markers to 10 as per the list we created\n",
    "    setSize(sizes)\n",
    ") \n",
    "\n",
    "val series2 = XY(x, y) asType SCATTER setName \"Scatter\" drawSymbol MARKERS setMarker marker\n",
    "\n",
    "// we not put brackets in the 'addSeries' function to ensure that addSeries picks up the right series'\n",
    "val chart = Chart() addSeries(series1, series2) setConfig(false, false)\n",
    "\n",
    "chart.plotInline"
   ]
  },
  {
   "cell_type": "markdown",
   "metadata": {},
   "source": [
    "### Adding Another Axes\n",
    "\n",
    "Sometimes we may wish to plot multiple series, but on two different Axes. We can do this as follows:"
   ]
  },
  {
   "cell_type": "code",
   "execution_count": 11,
   "metadata": {},
   "outputs": [
    {
     "name": "stderr",
     "output_type": "stream",
     "text": [
      "cmd11.sc:15: type mismatch;\n",
      " found   : org.carbonateresearch.picta.Config\n",
      " required: Boolean\n",
      "    setConfig Config(false, false) \n",
      "                    ^Compilation Failed"
     ]
    },
    {
     "ename": "",
     "evalue": "",
     "output_type": "error",
     "traceback": [
      "Compilation Failed"
     ]
    }
   ],
   "source": [
    "val series1 = XY(x, y) asType SCATTER drawSymbol MARKERS\n",
    "\n",
    "// The following maps the series onto the second Y axis.\n",
    "val series2 = (\n",
    "    XY(x, z) \n",
    "    asType SCATTER \n",
    "    drawSymbol MARKERS \n",
    "    setAxis YAxis(2)\n",
    ")\n",
    "      \n",
    "val chart = (\n",
    "    Chart() \n",
    "    setTitle \"Multiple Axes\"\n",
    "    // the following makes the chart unresponsive\n",
    "    setConfig Config(false, false) \n",
    "    addSeries(series1, series2) \n",
    "    // the following tells the chart how t render the second Y Axis\n",
    "    addAxes YAxis(position = 2, title = \"Second y axis\", overlaying = YAxis(), side = RIGHT)\n",
    "    addAxes YAxis(1, \"First Y Axis\")\n",
    "    addAxes XAxis(title = \"X Axis\")\n",
    ") \n",
    "\n",
    "// this is just for illustration purposes, but we can also do the following\n",
    "val canvas = Canvas() setChart(0, 0, chart)\n",
    "\n",
    "canvas.plotInline"
   ]
  },
  {
   "cell_type": "markdown",
   "metadata": {},
   "source": [
    "### Customizing the Axes\n",
    "\n",
    "As can be seen from some of the examples above, the axes were not set. While for quick data exploration the above is acceptable, for presentation purposes we would want named axes.\n",
    "\n",
    "We can do this as follows:"
   ]
  },
  {
   "cell_type": "code",
   "execution_count": null,
   "metadata": {},
   "outputs": [],
   "source": [
    "// We construct the axes and set their title\n",
    "val xaxis = XAxis(title = \"x variable\")\n",
    "val yaxis = YAxis(title = \"y variable\")\n",
    "\n",
    "// another way to do composition is to just add a bracket around the composition\n",
    "val chart = (\n",
    "    Chart()\n",
    "    setTitle \"Chart with Axes\"\n",
    "    addSeries(series1)\n",
    "    addAxes(xaxis, yaxis)\n",
    ")\n",
    "\n",
    "chart.plotInline"
   ]
  },
  {
   "cell_type": "markdown",
   "metadata": {},
   "source": [
    "### Display options - MultiCharts\n",
    "\n",
    "`MultiCharts` are a way to plot multiple axes on the same chart. This is seperate to Picta's grid system, which create a grid of subplot `Chart`'s. The next series of examples will make this clearer."
   ]
  },
  {
   "cell_type": "code",
   "execution_count": null,
   "metadata": {},
   "outputs": [],
   "source": [
    "// create the axes\n",
    "val xaxis1 = XAxis() setTitle \"x1\"\n",
    "val yaxis1 = YAxis() // this is not strictly necessary, but if it is not added there will be a zeroline at y = 0\n",
    "\n",
    "val xaxis2 = XAxis(2) setTitle \"x2\"\n",
    "val yaxis2 = YAxis(2) // this is not strictly necessary, but if it is not added there will be a zeroline at y = 0\n",
    "\n",
    "val series1 = (\n",
    "    XY(x = List(1, 2, 3), y = List(2, 4, 5))\n",
    "    asType SCATTER\n",
    "    drawSymbol MARKERS\n",
    ")\n",
    "\n",
    "val series2 = (\n",
    "    XY(x = x, y = y) \n",
    "    asType SCATTER \n",
    "    drawSymbol MARKERS \n",
    "    setAxes (xaxis2, yaxis2)\n",
    ")\n",
    "\n",
    "val chart1 = Chart()\n",
    "            .addSeries(series1, series2)\n",
    "            .setTitle(\"Chart.Axis.Composition\")\n",
    "            .addAxes(xaxis1, yaxis1, xaxis2, yaxis2)\n",
    "            .setConfig(responsive=false)\n",
    "            // This tells Picta that we want to actually subdivide this chart into multiple plots\n",
    "            .asMultiChart(1, 2)\n",
    "\n",
    "chart1.plotInline"
   ]
  },
  {
   "cell_type": "markdown",
   "metadata": {},
   "source": [
    "### Picta's Subplot System\n",
    "\n",
    "While the above is useful, sometimes it is more useful to plot independent charts in a subplot grid. This is where we can use the Picta subplot system.\n",
    "\n",
    "In the subplots below, each subplot is an individual `Chart`. This means we can actually embed the above `MultiChart` inside another subplot. This way we can create nested subplots to showcase any data we need to.\n",
    "\n",
    "Used creatively, this subplot system can be very useful for data exploration."
   ]
  },
  {
   "cell_type": "code",
   "execution_count": null,
   "metadata": {
    "scrolled": false
   },
   "outputs": [],
   "source": [
    "// first define the x-axes we will use in the plot\n",
    "val ax1 = XAxis(title = \"x axis 1\")\n",
    "val ax2 = XAxis(title = \"x axis 2\")\n",
    "val ax3 = XAxis(title = \"x axis 3\")\n",
    "val ax4 = XAxis(title = \"x axis 4\")\n",
    "\n",
    "// first define the y-axes we will use in the plot\n",
    "val ax6 = YAxis(title = \"y axis 1\")\n",
    "val ax7 = YAxis(title = \"y axis 2\")\n",
    "val ax8 = YAxis(title = \"y axis 3\")\n",
    "val ax9 = YAxis(title = \"y axis 4\")\n",
    "\n",
    "// it may be necessary to play around with the chart dimensions and margin  in order to ensure a good fit on screen.\n",
    "val dim = 350\n",
    "\n",
    "val chart1 = (\n",
    "    Chart()\n",
    "    setDimensions(width = dim, height = dim)\n",
    "    addSeries XY(x, y).setName(\"a\")\n",
    "    addAxes(ax1, ax6)\n",
    "    setMargin(l=50, r=30, t=50, b=50)\n",
    ")\n",
    "\n",
    "val chart2 = (\n",
    "    Chart() \n",
    "    setDimensions(width = dim, height = dim)\n",
    "    addSeries XY(x, y).setName(\"b\")\n",
    "    addAxes(ax2, ax7)\n",
    "    setMargin(l=50, r=50, t=50, b=50)\n",
    ")\n",
    "\n",
    "val chart3 = (\n",
    "    Chart()\n",
    "    setDimensions(width = dim, height = dim)\n",
    "    addSeries XY(x, y).setName(\"c\") \n",
    "    addAxes(ax3, ax8)\n",
    "    setMargin(l=50, r=30, t=50, b=50)\n",
    ")\n",
    "\n",
    "val chart4 = (\n",
    "    Chart()\n",
    "    setDimensions(width = dim, height = dim)\n",
    "    addSeries(series1, series2)\n",
    "    setTitle \"The MultiChart from Above\"\n",
    "    addAxes(xaxis1, yaxis1, xaxis2, yaxis2) // these axes come from above\n",
    "    setConfig(responsive=false)\n",
    "    asMultiChart(1, 2)\n",
    ")\n",
    "\n",
    "// The canvas has an underlying grid. By default the underlying grid is 1x1, but we can pass in the dimensions we \n",
    "// require by passing in parameters in the constructor.\n",
    "Canvas(2, 2, title=\"The Picta Grid\")\n",
    ".setChart(0, 0, chart1)\n",
    ".setChart(0, 1, chart2)\n",
    ".setChart(1, 0, chart3)\n",
    ".setChart(1, 1, chart4)\n",
    ".plotInline"
   ]
  },
  {
   "cell_type": "markdown",
   "metadata": {},
   "source": [
    "### Error Bars\n",
    "\n",
    "We can also add Error Bars to our plots.\n",
    "\n",
    "Error bars come in two flavours:\n",
    "\n",
    "1. `XError`\n",
    "2. `YError`\n",
    "\n",
    "Both of these has an associated `mode` that determines how the error bar is calculated for an individual point. The following `mode`s can be specified:\n",
    "\n",
    "- `DATA`: The user passes in an array that specifies the per point error\n",
    "- `PERCENT`: The user passes in a Double that calculates the error as a percentage of the value of the point\n",
    "- `CONSTANT`: The user passes in a double that is the constant value for the error for all points\n",
    "- `SQRT`: This calculates the error as a square root of the point value.\n",
    "\n",
    "The next few examples will demonstrate:"
   ]
  },
  {
   "cell_type": "code",
   "execution_count": null,
   "metadata": {},
   "outputs": [],
   "source": [
    "// First import the Error Bar options\n",
    "import org.carbonateresearch.picta.options.{YError, CONSTANT, DATA, PERCENT, SQRT}"
   ]
  },
  {
   "cell_type": "code",
   "execution_count": null,
   "metadata": {},
   "outputs": [],
   "source": [
    "val dim = 400\n",
    "\n",
    "val series1 = (\n",
    "    XY(List(1, 2, 3), List(1.234, 5.2112, 2.44332))\n",
    "    asType SCATTER\n",
    "    drawSymbol MARKERS\n",
    "    // User specifies the error per point \n",
    "    setErrorBars YError(mode = DATA, array = List(0.5, 0.5, 0.5))\n",
    ")\n",
    "\n",
    "val chart1 = (\n",
    "    Chart()\n",
    "    addSeries series1\n",
    "    setTitle \"Per Point Specified Error\"\n",
    "    setDimensions(width = dim, height = dim)\n",
    ")\n",
    "\n",
    "\n",
    "val series2 = (\n",
    "    XY(List(1, 2, 3), List(1.234, 5.2112, 2.44332))\n",
    "    asType SCATTER\n",
    "    drawSymbol MARKERS\n",
    "    // the error here is 10% of the corresponding y-value for the point\n",
    "    setErrorBars YError(mode = PERCENT, value = 10.0)\n",
    ")\n",
    "\n",
    "val chart2 = (\n",
    "    Chart()\n",
    "    addSeries series2\n",
    "    setTitle \"Percentage Error\"\n",
    "    setDimensions(width = dim, height = dim)\n",
    ")\n",
    "\n",
    "\n",
    "val series3 = (\n",
    "    XY(List(1, 2, 3), List(1.234, 5.2112, 2.44332))\n",
    "    asType SCATTER\n",
    "    drawSymbol MARKERS\n",
    "    // a constant error of 10 is applied to each point\n",
    "    setErrorBars YError(mode = CONSTANT, value = 10.0)\n",
    ")\n",
    "\n",
    "val chart3 = (\n",
    "    Chart()\n",
    "    addSeries series3\n",
    "    setTitle \"Constant Error\"\n",
    "    setDimensions(width = dim, height = dim)\n",
    ")\n",
    "\n",
    "\n",
    "val series4 = (\n",
    "    XY(List(1, 2, 3), List(1.234, 5.2112, 2.44332))\n",
    "    asType SCATTER\n",
    "    drawSymbol MARKERS\n",
    "    setErrorBars YError(mode = SQRT)\n",
    ")\n",
    "\n",
    "val chart4 = (\n",
    "    Chart()\n",
    "    addSeries series4\n",
    "    setTitle \"Sqrt Error\"\n",
    "    // the error is set to the sqrt of the corresponding point\n",
    "    setDimensions(width = dim, height = dim)\n",
    ")\n",
    "\n",
    "val canvas = Canvas(2, 2, \"Errors\") addCharts (chart1, chart2, chart3, chart4)\n",
    "\n",
    "canvas.plotInline"
   ]
  },
  {
   "cell_type": "markdown",
   "metadata": {},
   "source": [
    "### Other Types of Charts\n",
    "\n",
    "The next examples will demonstrate how to create a variety of `Chart`s. All of the examples below are composable with the `Canvas` subplot system.\n",
    "\n",
    "#### Pie Chart\n",
    "\n",
    "Pie charts can be created in two ways. The first way uses the `PieElement` component to compose a Piechart:"
   ]
  },
  {
   "cell_type": "code",
   "execution_count": null,
   "metadata": {},
   "outputs": [],
   "source": [
    "val a = PieElement(value=60, name=\"Residential\")\n",
    "val b = PieElement(value=20, name=\"Non-Residential\")\n",
    "val c = PieElement(value=20, name=\"Utility\")\n",
    "\n",
    "// we add a list of Pie Elements to an XY series as the list of Pie Elements gets deconstructed down into two series:\n",
    "// X => values: [60, 20, 20]\n",
    "// Y => labels: [\"Residential\", \"Non-Residential\", \"Utility\"]\n",
    "// The labels become the series_name for each individual PieElement\n",
    "// As we pass in a list of PieElements, we do not need to specify the type as a PIE\n",
    "val series = XY(x=List(a, b, c))\n",
    "\n",
    "val chart = Chart() addSeries series setTitle \"Pie Elements\"\n",
    "\n",
    "chart.plotInline"
   ]
  },
  {
   "cell_type": "code",
   "execution_count": null,
   "metadata": {},
   "outputs": [],
   "source": [
    "// However, composing individual PieElements may be tedious if there is a lot of data and we know how to it all fits\n",
    "// together. Picta provides a short hand to quickly create a Pie Chart using the methods we have seen previously\n",
    "// In this case we pass the (value, name) pairs as two seperate lists. As before, the labels become an individual\n",
    "// series name for each point; which is why the legend renders correctly.\n",
    "val series = XY(x=List(60, 20, 20), y=List(\"Residential\", \"Non-Residential\", \"Utility\")) asType PIE\n",
    "\n",
    "val chart = Chart() addSeries series setConfig(false, false) setTitle \"Pie Chart\"\n",
    "\n",
    "chart.plotInline"
   ]
  },
  {
   "cell_type": "markdown",
   "metadata": {},
   "source": [
    "### Histogram"
   ]
  },
  {
   "cell_type": "code",
   "execution_count": null,
   "metadata": {},
   "outputs": [],
   "source": [
    "val series = XY(x=x) asType HISTOGRAM\n",
    "\n",
    "val xaxis = XAxis(title = \"my x data\")\n",
    "val yaxis = YAxis(title = \"my y data\")\n",
    "\n",
    "val chart = (\n",
    "    Chart() \n",
    "    addSeries series\n",
    "    setTitle \"Histogram with axes\"\n",
    "    addAxes(xaxis, yaxis)\n",
    ")\n",
    "\n",
    "Canvas()\n",
    ".addCharts(chart)\n",
    ".plotInline"
   ]
  },
  {
   "cell_type": "markdown",
   "metadata": {},
   "source": [
    "#### Customizing colors for a Histogram\n",
    "\n",
    "We can use the `HistOptions` class to further specify options for a histogram. For example, if we wanted to create a horizontally positioned histogram, we can do the following:"
   ]
  },
  {
   "cell_type": "code",
   "execution_count": null,
   "metadata": {},
   "outputs": [],
   "source": [
    "import org.carbonateresearch.picta.options.histogram.HistOptions\n",
    "import org.carbonateresearch.picta.options.Line\n",
    "import org.carbonateresearch.picta.options.HORIZONTAL"
   ]
  },
  {
   "cell_type": "code",
   "execution_count": null,
   "metadata": {},
   "outputs": [],
   "source": [
    "// we can also compose customizations in much the same way:\n",
    "val marker = Marker() setColor \"rgba(255, 100, 102, 0.5)\" setLine Line()\n",
    "\n",
    "// change xkey to y to get a horizontal histogram\n",
    "val series = (\n",
    "    XY(x) \n",
    "    asType HISTOGRAM\n",
    "    setMarker marker\n",
    "    // we can set histogram specific options using the setHistOptions method\n",
    "    setHistOptions(orientation = HORIZONTAL)\n",
    ")\n",
    "\n",
    "val chart = (\n",
    "    Chart() \n",
    "    addSeries series \n",
    "    setTitle \"XY.Histogram.Color\"\n",
    ")\n",
    "\n",
    "chart.plotInline"
   ]
  },
  {
   "cell_type": "markdown",
   "metadata": {},
   "source": [
    "#### Cumulative Histogram\n",
    "\n",
    "Sometimes a cumulative histogram may be desired. We can do this as follows:"
   ]
  },
  {
   "cell_type": "code",
   "execution_count": 12,
   "metadata": {},
   "outputs": [],
   "source": [
    "// we can import a range of histnorms\n",
    "import org.carbonateresearch.picta.options.histogram.{Cumulative, PERCENT, DENSITY, PROBABILITY_DENSITY, NUMBER}"
   ]
  },
  {
   "cell_type": "code",
   "execution_count": 14,
   "metadata": {},
   "outputs": [
    {
     "data": {
      "text/html": [
       "<div id=\"grid-container_FPgUyfN2yD\" class=\"grid-container\" align=\"center\"> \n",
       "<div id=\"grid_FPgUyfN2yD\" class=\"grid\" align=\"center\"> \n",
       "<div id=\"graph_G0CnfeTiXI\" class=\"graph\"></div> \n",
       "</div> \n",
       "</div> \n",
       "<script>\n",
       "var masonry = new Macy({\n",
       "    container: '#grid_FPgUyfN2yD',\n",
       "    debug: true,\n",
       "    mobileFirst: true,\n",
       "    columns: 1,\n",
       "    margin: {\n",
       "        x: 0,\n",
       "        y: 0\n",
       "    }\n",
       "  });\n",
       "\n",
       " var traces_G0CnfeTiXI = [{\"name\":\"s5FBSUKifE\",\"type\":\"histogram\",\"cumulative\":{\"enabled\":true},\"histnorm\":\"\",\"x\":[39.08685916406467,32.22274118484135,39.31932222613397,19.4365192608174,39.878283727044874,3.9739602591168097,4.661879204502623,48.902901326426765,9.428553485344587,38.467430381409315,48.36401873359988,1.9717161712378806,44.136469619902826,26.067561534749707,33.60184203023468,41.59417206183003,39.817487299673,14.53003396459806,32.52520126547724,24.96880755023796,27.337563966078882,32.59128614634925,26.600667269411083,26.922521472782556,17.43857564158131,9.067376755570072,39.46835333996027,12.720213177519119,22.798806947196717,23.437888735115266,27.41177692192348,49.62339861060884,46.12398760064343,27.845584516316123,42.82314428381504,1.2545092977247818,45.37881555630674,48.46012846853562,2.8921555524292373,42.62240266225674,11.14581950611193,6.234250238538413,39.15460237460819,16.525941094728392,16.53790753230126,43.22330679425477,23.507774605807946,23.97632553184642,27.09288645328472,0.8442893548833097,12.832856019052063,2.2651985090811957,36.642677436820556,20.71788193338085,27.460223332523086,44.35435650222503,25.276929808276115,27.067273523106362,28.371741209500005,2.3742490073231757,17.210162464062208,2.039985247204301,34.254873343789775,46.19225497182107,49.61354969000145,31.774076778442467,22.306599763921614,15.248062821376774,48.28687913575775,31.547642445823243,36.03088239603051,8.152319055040541,42.42319322113271,2.930624822350808,29.18156472874645,49.906017188675435,38.658077039896696,34.500512479190704,7.473350640945759,11.021942257924621,14.097487057737668,30.38858534072679,38.7166660180739,26.315813993659404,29.082491883049194,37.69096607805958,37.62794499896498,23.68358787995628,3.076243126714895,44.60877708123465,43.725052296108395,24.792714850155267,41.24793097635119,36.07430598199833,49.43829632423735,20.288984902135443,45.08045551053054,22.575156817007507,0.850646157569579,1.8569000855943985]}];\n",
       " var layout_G0CnfeTiXI = {\"height\":550,\"width\":600,\"hovermode\":\"closest\",\"title\":{\"text\":\"Histogram - Cumulative\"},\"showlegend\":true};\n",
       " var config_G0CnfeTiXI = {\"responsive\":true,\"scrollZoom\":true,\"displaylogo\":false};\n",
       " Plotly.newPlot(\"graph_G0CnfeTiXI\", traces_G0CnfeTiXI, layout_G0CnfeTiXI, config_G0CnfeTiXI);\n",
       "</script> \n"
      ]
     },
     "metadata": {},
     "output_type": "display_data"
    }
   ],
   "source": [
    "val series = XY(x) asType HISTOGRAM setHistOptions(histnorm = NUMBER, cumulative = Cumulative(enabled=true))\n",
    "\n",
    "val chart = Chart() addSeries series setTitle \"Histogram - Cumulative\"\n",
    "\n",
    "chart.plotInline"
   ]
  },
  {
   "cell_type": "markdown",
   "metadata": {},
   "source": [
    "#### Specifiying the Binning Function\n",
    "\n",
    "We can also specify the binning function for a histogram."
   ]
  },
  {
   "cell_type": "code",
   "execution_count": 16,
   "metadata": {},
   "outputs": [],
   "source": [
    "import org.carbonateresearch.picta.options.histogram.{COUNT, SUM, AVG, MIN, MAX, HistOptions}"
   ]
  },
  {
   "cell_type": "code",
   "execution_count": 17,
   "metadata": {},
   "outputs": [
    {
     "data": {
      "text/html": [
       "<div id=\"grid-container_i5ennxYiW4\" class=\"grid-container\" align=\"center\"> \n",
       "<div id=\"grid_i5ennxYiW4\" class=\"grid\" align=\"center\"> \n",
       "<div id=\"graph_cHiHQ8LT2i\" class=\"graph\"></div> \n",
       "</div> \n",
       "</div> \n",
       "<script>\n",
       "var masonry = new Macy({\n",
       "    container: '#grid_i5ennxYiW4',\n",
       "    debug: true,\n",
       "    mobileFirst: true,\n",
       "    columns: 1,\n",
       "    margin: {\n",
       "        x: 0,\n",
       "        y: 0\n",
       "    }\n",
       "  });\n",
       "\n",
       " var traces_cHiHQ8LT2i = [{\"name\":\"OE3HTiMWC5\",\"type\":\"histogram\",\"histfunc\":\"count\",\"x\":[\"Apples\",\"Apples\",\"Apples\",\"Oranges\",\"Bananas\"],\"y\":[\"5\",\"10\",\"3\",\"10\",\"5\"]},{\"name\":\"xVLnG4b3Wr\",\"type\":\"histogram\",\"histfunc\":\"sum\",\"x\":[\"Apples\",\"Apples\",\"Apples\",\"Oranges\",\"Bananas\"],\"y\":[\"5\",\"10\",\"3\",\"10\",\"5\"]}];\n",
       " var layout_cHiHQ8LT2i = {\"height\":550,\"width\":600,\"hovermode\":\"closest\",\"title\":{\"text\":\"Histogram - Specify Binning Function\"},\"showlegend\":true};\n",
       " var config_cHiHQ8LT2i = {\"responsive\":true,\"scrollZoom\":true,\"displaylogo\":false};\n",
       " Plotly.newPlot(\"graph_cHiHQ8LT2i\", traces_cHiHQ8LT2i, layout_cHiHQ8LT2i, config_cHiHQ8LT2i);\n",
       "</script> \n"
      ]
     },
     "metadata": {},
     "output_type": "display_data"
    }
   ],
   "source": [
    "val x = List(\"Apples\", \"Apples\", \"Apples\", \"Oranges\", \"Bananas\")\n",
    "val y = List(\"5\", \"10\", \"3\", \"10\", \"5\")\n",
    "\n",
    "// we can also assign histOptions to a value and pass them to the setHistOptions method\n",
    "val ho1 = HistOptions(histfunc = COUNT)\n",
    "val ho2 = HistOptions(histfunc = SUM)\n",
    "    \n",
    "val t1 = XY(x = x, y = y) asType HISTOGRAM setHistOptions ho1\n",
    "val t2 = XY(x = x, y = y) asType HISTOGRAM setHistOptions ho2\n",
    "\n",
    "val chart = Chart() addSeries(t1, t2) setTitle \"Histogram - Specify Binning Function\"\n",
    "val canvas = Canvas() addCharts chart\n",
    "canvas.plotInline"
   ]
  },
  {
   "cell_type": "markdown",
   "metadata": {},
   "source": [
    "### 2D Histogram Contour"
   ]
  },
  {
   "cell_type": "code",
   "execution_count": 18,
   "metadata": {},
   "outputs": [
    {
     "data": {
      "text/html": [
       "<div id=\"grid-container_A9pPhDOssy\" class=\"grid-container\" align=\"center\"> \n",
       "<div id=\"grid_A9pPhDOssy\" class=\"grid\" align=\"center\"> \n",
       "<div id=\"graph_gPhYZdhQ8U\" class=\"graph\"></div> \n",
       "</div> \n",
       "</div> \n",
       "<script>\n",
       "var masonry = new Macy({\n",
       "    container: '#grid_A9pPhDOssy',\n",
       "    debug: true,\n",
       "    mobileFirst: true,\n",
       "    columns: 1,\n",
       "    margin: {\n",
       "        x: 0,\n",
       "        y: 0\n",
       "    }\n",
       "  });\n",
       "\n",
       " var traces_gPhYZdhQ8U = [{\"name\":\"KGYvOjFZMJ\",\"type\":\"histogram2dcontour\",\"mode\":\"markers\",\"x\":[1,2,3,4,5,6,7,8,9,10,11,12,13,14,15,16,17,18,19,20,21,22,23,24,25,26,27,28,29,30,31,32,33,34,35,36,37,38,39,40,41,42,43,44,45,46,47,48,49],\"y\":[8.227654620733027,21.849228168334466,52.84646967763646,43.44462351307456,35.53020558139006,94.10583720455188,99.29396533682011,10.819560534597443,71.80598655736645,67.95701462796683,63.56851083514237,107.94998327150462,84.20326777487035,30.23431670423402,25.902859268817323,36.630436429634074,85.87573303782179,104.03890038070851,67.7952386383184,62.36985557177862,65.95988649730856,107.25221433412995,121.74274082611588,122.5978786023918,78.17526933085857,40.90746865860959,99.96038617653107,31.737878836870635,79.18829153915263,97.51282966859439,94.4473348774813,126.411462529732,117.35302680849746,124.04619275830635,76.79684991181986,127.73061459190899,60.04006997716118,122.09527544994508,90.30676579295478,84.45009012151436,113.48714902386335,118.49570726257483,119.23238560569136,100.69400948266096,132.95287743762617,93.82367300431278,140.4338862364661,145.03709086653004,142.92765994671532]}];\n",
       " var layout_gPhYZdhQ8U = {\"height\":550,\"width\":600,\"hovermode\":\"closest\",\"title\":{\"text\":\"2D Histogram Contour\"},\"showlegend\":true};\n",
       " var config_gPhYZdhQ8U = {\"responsive\":true,\"scrollZoom\":true,\"displaylogo\":false};\n",
       " Plotly.newPlot(\"graph_gPhYZdhQ8U\", traces_gPhYZdhQ8U, layout_gPhYZdhQ8U, config_gPhYZdhQ8U);\n",
       "</script> \n"
      ]
     },
     "metadata": {},
     "output_type": "display_data"
    }
   ],
   "source": [
    "val x = List.range(1, 50)\n",
    "val y = x.map(x => x + scala.util.Random.nextDouble()*100)\n",
    "\n",
    "val series = XY(x, y).asType(HISTOGRAM2DCONTOUR).drawMarkers\n",
    "\n",
    "val chart = (\n",
    "    Chart() addSeries series\n",
    "    setTitle \"2D Histogram Contour\"\n",
    ")\n",
    "\n",
    "chart.plotInline"
   ]
  },
  {
   "cell_type": "markdown",
   "metadata": {},
   "source": [
    "#### Adding additional axes\n",
    "\n",
    "As the above is a density plot, adding histograms can be useful too.\n",
    "\n",
    "We can add histograms as follows:"
   ]
  },
  {
   "cell_type": "code",
   "execution_count": 20,
   "metadata": {},
   "outputs": [],
   "source": [
    "// import the 2d Density histogram options\n",
    "import org.carbonateresearch.picta.options.histogram2d.Hist2dOptions\n",
    "import org.carbonateresearch.picta.options.HORIZONTAL"
   ]
  },
  {
   "cell_type": "code",
   "execution_count": 21,
   "metadata": {},
   "outputs": [
    {
     "data": {
      "text/html": [
       "<div id=\"grid-container_MDvg0rk3wf\" class=\"grid-container\" align=\"center\"> \n",
       "<div id=\"grid_MDvg0rk3wf\" class=\"grid\" align=\"center\"> \n",
       "<div id=\"graph_XxA6QPBeHE\" class=\"graph\"></div> \n",
       "</div> \n",
       "</div> \n",
       "<script>\n",
       "var masonry = new Macy({\n",
       "    container: '#grid_MDvg0rk3wf',\n",
       "    debug: true,\n",
       "    mobileFirst: true,\n",
       "    columns: 1,\n",
       "    margin: {\n",
       "        x: 0,\n",
       "        y: 0\n",
       "    }\n",
       "  });\n",
       "\n",
       " var traces_XxA6QPBeHE = [{\"name\":\"points\",\"type\":\"scatter\",\"mode\":\"markers\",\"marker\":{\"color\":\"rgb(102,0,0)\"},\"x\":[1,2,3,4,5,6,7,8,9,10,11,12,13,14,15,16,17,18,19,20,21,22,23,24,25,26,27,28,29,30,31,32,33,34,35,36,37,38,39,40,41,42,43,44,45,46,47,48,49],\"y\":[8.227654620733027,21.849228168334466,52.84646967763646,43.44462351307456,35.53020558139006,94.10583720455188,99.29396533682011,10.819560534597443,71.80598655736645,67.95701462796683,63.56851083514237,107.94998327150462,84.20326777487035,30.23431670423402,25.902859268817323,36.630436429634074,85.87573303782179,104.03890038070851,67.7952386383184,62.36985557177862,65.95988649730856,107.25221433412995,121.74274082611588,122.5978786023918,78.17526933085857,40.90746865860959,99.96038617653107,31.737878836870635,79.18829153915263,97.51282966859439,94.4473348774813,126.411462529732,117.35302680849746,124.04619275830635,76.79684991181986,127.73061459190899,60.04006997716118,122.09527544994508,90.30676579295478,84.45009012151436,113.48714902386335,118.49570726257483,119.23238560569136,100.69400948266096,132.95287743762617,93.82367300431278,140.4338862364661,145.03709086653004,142.92765994671532]},{\"name\":\"density\",\"type\":\"histogram2dcontour\",\"ncontours\":20,\"reversescale\":false,\"showscale\":true,\"x\":[1,2,3,4,5,6,7,8,9,10,11,12,13,14,15,16,17,18,19,20,21,22,23,24,25,26,27,28,29,30,31,32,33,34,35,36,37,38,39,40,41,42,43,44,45,46,47,48,49],\"y\":[8.227654620733027,21.849228168334466,52.84646967763646,43.44462351307456,35.53020558139006,94.10583720455188,99.29396533682011,10.819560534597443,71.80598655736645,67.95701462796683,63.56851083514237,107.94998327150462,84.20326777487035,30.23431670423402,25.902859268817323,36.630436429634074,85.87573303782179,104.03890038070851,67.7952386383184,62.36985557177862,65.95988649730856,107.25221433412995,121.74274082611588,122.5978786023918,78.17526933085857,40.90746865860959,99.96038617653107,31.737878836870635,79.18829153915263,97.51282966859439,94.4473348774813,126.411462529732,117.35302680849746,124.04619275830635,76.79684991181986,127.73061459190899,60.04006997716118,122.09527544994508,90.30676579295478,84.45009012151436,113.48714902386335,118.49570726257483,119.23238560569136,100.69400948266096,132.95287743762617,93.82367300431278,140.4338862364661,145.03709086653004,142.92765994671532]},{\"name\":\"histogram\",\"type\":\"histogram\",\"yaxis\":\"y2\",\"x\":[1,2,3,4,5,6,7,8,9,10,11,12,13,14,15,16,17,18,19,20,21,22,23,24,25,26,27,28,29,30,31,32,33,34,35,36,37,38,39,40,41,42,43,44,45,46,47,48,49]},{\"name\":\"y density\",\"type\":\"histogram\",\"xaxis\":\"x2\",\"marker\":{\"color\":\"rgb(102,0,0)\"},\"y\":[8.227654620733027,21.849228168334466,52.84646967763646,43.44462351307456,35.53020558139006,94.10583720455188,99.29396533682011,10.819560534597443,71.80598655736645,67.95701462796683,63.56851083514237,107.94998327150462,84.20326777487035,30.23431670423402,25.902859268817323,36.630436429634074,85.87573303782179,104.03890038070851,67.7952386383184,62.36985557177862,65.95988649730856,107.25221433412995,121.74274082611588,122.5978786023918,78.17526933085857,40.90746865860959,99.96038617653107,31.737878836870635,79.18829153915263,97.51282966859439,94.4473348774813,126.411462529732,117.35302680849746,124.04619275830635,76.79684991181986,127.73061459190899,60.04006997716118,122.09527544994508,90.30676579295478,84.45009012151436,113.48714902386335,118.49570726257483,119.23238560569136,100.69400948266096,132.95287743762617,93.82367300431278,140.4338862364661,145.03709086653004,142.92765994671532]}];\n",
       " var layout_XxA6QPBeHE = {\"height\":550,\"width\":600,\"hovermode\":\"closest\",\"title\":{\"text\":\"Histogram2dContour With Density\"},\"showlegend\":false,\"autosize\":false,\"xaxis\":{\"showgrid\":false,\"zeroline\":false,\"showline\":false,\"domain\":[0,0.85]},\"yaxis\":{\"showgrid\":false,\"zeroline\":false,\"showline\":false,\"domain\":[0,0.85]},\"xaxis2\":{\"showgrid\":false,\"zeroline\":false,\"showline\":false,\"domain\":[0.85,1]},\"yaxis2\":{\"showgrid\":false,\"zeroline\":false,\"showline\":false,\"domain\":[0.85,1]}};\n",
       " var config_XxA6QPBeHE = {\"responsive\":true,\"scrollZoom\":true,\"displaylogo\":false};\n",
       " Plotly.newPlot(\"graph_XxA6QPBeHE\", traces_XxA6QPBeHE, layout_XxA6QPBeHE, config_XxA6QPBeHE);\n",
       "</script> \n"
      ]
     },
     "metadata": {},
     "output_type": "display_data"
    }
   ],
   "source": [
    "val marker = Marker() setColor \"rgb(102,0,0)\"\n",
    "\n",
    "val series1 = XY(x, y) \n",
    "            .asType(SCATTER)\n",
    "            .drawMarkers\n",
    "            .setName(\"points\")\n",
    "            .setMarker(marker)\n",
    "\n",
    "\n",
    "val hist2d_options = Hist2dOptions(ncontours = 20, reversescale = false, showscale = true)\n",
    "\n",
    "val series2 = XY(x, y) \n",
    "            .setName(\"density\")\n",
    "            .asType(HISTOGRAM2DCONTOUR)\n",
    "            .setHist2dOptions(hist2d_options)\n",
    "\n",
    "val series3 = XY(x = x)\n",
    "            .asType(HISTOGRAM)\n",
    "            .setName(\"histogram\")\n",
    "            .setAxes(XAxis(), YAxis(2))\n",
    "\n",
    "val series4 = (XY(y)\n",
    "            .setName(\"y density\")\n",
    "            .asType(HISTOGRAM)\n",
    "            .setAxis(XAxis(2))\n",
    "            .setMarker(marker)\n",
    "            .setHistOptions(HistOptions(orientation = HORIZONTAL)))\n",
    "\n",
    "val ax1 = XAxis(showgrid = false) setDomain(0.0, 0.85)\n",
    "val ax2 = YAxis(showgrid = false) setDomain(0.0, 0.85)\n",
    "val ax3 = XAxis(position = 2, showgrid = false) setDomain(0.85, 1.0)\n",
    "val ax4 = YAxis(position = 2, showgrid = false) setDomain(0.85, 1.0)\n",
    "\n",
    "val layout = (\n",
    "    ChartLayout(\"Histogram2dContour With Density\", autosize = false, showlegend = false) \n",
    "    setAxes(ax1, ax2, ax3, ax4)\n",
    ")\n",
    "\n",
    "val chart = Chart() addSeries(series1, series2, series3, series4) setChartLayout layout\n",
    "\n",
    "chart.plotInline"
   ]
  },
  {
   "cell_type": "markdown",
   "metadata": {},
   "source": [
    "### 3D Charts\n",
    "\n",
    "3D charts are constructed using a `XYZ` series as they take in 3 `Series`' to create a single point.\n",
    "\n",
    "The Picta API does not accept nested lists, however the underlying Plotlyjs render does. In order to render any series that will make use of a nested list, we must flatten and provide the length of an element (before the list was flattened).\n",
    "\n",
    "The following examples will make it clearer.\n",
    "\n",
    "#### Contour"
   ]
  },
  {
   "cell_type": "code",
   "execution_count": 22,
   "metadata": {},
   "outputs": [],
   "source": [
    "// lets create some dummy adata for the third dimension\n",
    "val x = List(-9, -6, -5 , -3, -1)\n",
    "val y = List(0, 1, 4, 5, 7)\n",
    "val z = List(\n",
    "    List(10, 10.625, 12.5, 15.625, 20),\n",
    "    List(5.625, 6.25, 8.125, 11.25, 15.625),\n",
    "    List(2.5, 3.125, 5.0, 8.125, 12.5),\n",
    "    List(0.625, 1.25, 3.125, 6.25, 10.625),\n",
    "    List(0, 0.625, 2.5, 5.625, 10)\n",
    ")"
   ]
  },
  {
   "cell_type": "code",
   "execution_count": 23,
   "metadata": {},
   "outputs": [
    {
     "data": {
      "text/html": [
       "<div id=\"grid-container_oJQwtuy2Ax\" class=\"grid-container\" align=\"center\"> \n",
       "<div id=\"grid_oJQwtuy2Ax\" class=\"grid\" align=\"center\"> \n",
       "<div id=\"graph_h5iHkNyWzr\" class=\"graph\"></div> \n",
       "</div> \n",
       "</div> \n",
       "<script>\n",
       "var masonry = new Macy({\n",
       "    container: '#grid_oJQwtuy2Ax',\n",
       "    debug: true,\n",
       "    mobileFirst: true,\n",
       "    columns: 1,\n",
       "    margin: {\n",
       "        x: 0,\n",
       "        y: 0\n",
       "    }\n",
       "  });\n",
       "\n",
       " var traces_h5iHkNyWzr = [{\"name\":\"Xjj2iYkSID\",\"type\":\"contour\",\"x\":[-9,-6,-5,-3,-1],\"y\":[0,1,4,5,7],\"z\":[[10,10.625,12.5,15.625,20],[5.625,6.25,8.125,11.25,15.625],[2.5,3.125,5,8.125,12.5],[0.625,1.25,3.125,6.25,10.625],[0,0.625,2.5,5.625,10]]}];\n",
       " var layout_h5iHkNyWzr = {\"height\":550,\"width\":600,\"hovermode\":\"closest\",\"title\":{\"text\":\"Contour\"},\"showlegend\":true};\n",
       " var config_h5iHkNyWzr = {\"responsive\":true,\"scrollZoom\":true,\"displaylogo\":false};\n",
       " Plotly.newPlot(\"graph_h5iHkNyWzr\", traces_h5iHkNyWzr, layout_h5iHkNyWzr, config_h5iHkNyWzr);\n",
       "</script> \n"
      ]
     },
     "metadata": {},
     "output_type": "display_data"
    }
   ],
   "source": [
    "// we flatten the nested list as we pass it into the Series constructor\n",
    "val series = XYZ(x=x, y=y, z=z.flatten, n=z(0).length).asType(CONTOUR)\n",
    "\n",
    "// set up the chart\n",
    "val chart = Chart()\n",
    "            .addSeries(series)\n",
    "            .setTitle(\"Contour\")\n",
    "\n",
    "// plot the chart\n",
    "chart.plotInline"
   ]
  },
  {
   "cell_type": "markdown",
   "metadata": {},
   "source": [
    "#### Heatmap"
   ]
  },
  {
   "cell_type": "code",
   "execution_count": 24,
   "metadata": {
    "scrolled": false
   },
   "outputs": [],
   "source": [
    "// create a new nested list for the heatmap\n",
    "val z = List.range(1, 101).map(e => e + scala.util.Random.nextDouble()*100).grouped(10).toList"
   ]
  },
  {
   "cell_type": "code",
   "execution_count": 25,
   "metadata": {},
   "outputs": [
    {
     "data": {
      "text/html": [
       "<div id=\"grid-container_1SOHc32xHT\" class=\"grid-container\" align=\"center\"> \n",
       "<div id=\"grid_1SOHc32xHT\" class=\"grid\" align=\"center\"> \n",
       "<div id=\"graph_uS1iAzRkfV\" class=\"graph\"></div> \n",
       "</div> \n",
       "</div> \n",
       "<script>\n",
       "var masonry = new Macy({\n",
       "    container: '#grid_1SOHc32xHT',\n",
       "    debug: true,\n",
       "    mobileFirst: true,\n",
       "    columns: 1,\n",
       "    margin: {\n",
       "        x: 0,\n",
       "        y: 0\n",
       "    }\n",
       "  });\n",
       "\n",
       " var traces_uS1iAzRkfV = [{\"name\":\"7zysbwQdiB\",\"type\":\"heatmap\",\"z\":[[91.39864070759477,80.59100183145685,79.78030599998213,73.98433596911056,90.36275534707684,64.85071076784381,66.57346458175464,65.94896201188098,9.735758163420641,40.02383653772558],[20.78654324115297,64.11909369654319,79.63386835654374,38.327861342015865,59.205711008276836,31.104093957500496,34.166046493038735,47.2534287639664,39.67562889235947,49.406057492020366],[119.01945100445644,43.62069663427033,90.03964621372864,65.812897846244,67.79274950489476,40.54015354189798,27.4479994704807,66.47084256134637,38.97477773188456,54.33658927914172],[79.51162950985805,70.6032952689391,45.4076046608312,42.34262282177244,72.78324536535192,51.2530632688557,101.13935674870477,84.44078727129212,111.17605130940848,139.9602743565752],[56.76362883245898,81.33087602365676,127.18455257220586,48.948290152836854,93.65867783950262,120.72187903279398,52.150698220725126,49.17520418429085,99.9809952521316,118.99551353796846],[118.32260341237017,75.51861910451184,56.834335869101935,80.36100253551706,75.08186596629287,91.39654777643628,121.72655623307278,128.11840192965948,74.4695829245745,134.28745957888435],[108.24314956858942,153.3704520061948,157.01988264004333,80.89763962687627,125.80769475572394,95.37057550262293,147.91387390675703,116.1341788806222,161.4658776738358,114.66728843055728],[155.59566048731364,163.57710163402723,156.82110792363653,145.3029711743559,150.24611187764,136.80422354939046,157.56622128778076,115.54758577742228,87.88888731328862,100.7075805011292],[90.49712566476317,107.9955922601883,137.40718219290582,89.85035116251015,153.4606422678518,89.32694523616375,162.37850923142162,116.94838124630516,187.3802399521043,177.63076568425927],[107.3888253698369,118.72058389360454,136.31972748797634,130.91287437072032,139.36610170156254,128.63763591448236,191.486420352416,134.2560725703317,198.47744701135395,136.50851640004953]]}];\n",
       " var layout_uS1iAzRkfV = {\"height\":550,\"width\":600,\"hovermode\":\"closest\",\"title\":{\"text\":\"Heatmap\"},\"showlegend\":true};\n",
       " var config_uS1iAzRkfV = {\"responsive\":true,\"scrollZoom\":true,\"displaylogo\":false};\n",
       " Plotly.newPlot(\"graph_uS1iAzRkfV\", traces_uS1iAzRkfV, layout_uS1iAzRkfV, config_uS1iAzRkfV);\n",
       "</script> \n"
      ]
     },
     "metadata": {},
     "output_type": "display_data"
    }
   ],
   "source": [
    "// we get the length of an element of the nested list\n",
    "val n = z(0).length\n",
    "\n",
    "// we now flatten the list and pass it into Series constructor, as well as 'n', the length of an element so that the \n",
    "// heatmap dimensions are correctly constructed\n",
    "val series = XYZ(z=z.flatten, n=n) asType HEATMAP\n",
    "\n",
    "val chart = Chart() addSeries series setTitle \"Heatmap\"\n",
    "\n",
    "chart.plotInline"
   ]
  },
  {
   "cell_type": "markdown",
   "metadata": {},
   "source": [
    "#### Scatter3D"
   ]
  },
  {
   "cell_type": "code",
   "execution_count": 26,
   "metadata": {
    "scrolled": false
   },
   "outputs": [
    {
     "data": {
      "text/html": [
       "<div id=\"grid-container_vTeoQQCFb1\" class=\"grid-container\" align=\"center\"> \n",
       "<div id=\"grid_vTeoQQCFb1\" class=\"grid\" align=\"center\"> \n",
       "<div id=\"graph_PhjAo84aZO\" class=\"graph\"></div> \n",
       "</div> \n",
       "</div> \n",
       "<script>\n",
       "var masonry = new Macy({\n",
       "    container: '#grid_vTeoQQCFb1',\n",
       "    debug: true,\n",
       "    mobileFirst: true,\n",
       "    columns: 1,\n",
       "    margin: {\n",
       "        x: 0,\n",
       "        y: 0\n",
       "    }\n",
       "  });\n",
       "\n",
       " var traces_PhjAo84aZO = [{\"name\":\"bVMDIHD5Fc\",\"type\":\"scatter3d\",\"mode\":\"markers\",\"x\":[1,2,3,4,5,6,7,8,9,10,11,12,13,14,15,16,17,18,19,20,21,22,23,24,25,26,27,28,29,30,31,32,33,34,35,36,37,38,39,40,41,42,43,44,45,46,47,48,49,50,51,52,53,54,55,56,57,58,59,60,61,62,63,64,65,66,67,68,69,70,71,72,73,74,75,76,77,78,79,80,81,82,83,84,85,86,87,88,89,90,91,92,93,94,95,96,97,98,99],\"y\":[1,2,3,4,5,6,7,8,9,10,11,12,13,14,15,16,17,18,19,20,21,22,23,24,25,26,27,28,29,30,31,32,33,34,35,36,37,38,39,40,41,42,43,44,45,46,47,48,49,50,51,52,53,54,55,56,57,58,59,60,61,62,63,64,65,66,67,68,69,70,71,72,73,74,75,76,77,78,79,80,81,82,83,84,85,86,87,88,89,90,91,92,93,94,95,96,97,98,99],\"z\":[67.39668903996247,14.427173838895822,15.11967573371574,81.69970947377114,35.42885402903461,44.101012985097924,27.834197596066506,71.43250992903177,13.611204578828465,21.473073948180833,66.83846290160176,71.2839219510486,44.091856231897395,77.87634136378063,50.469031424537825,18.366449064060472,72.916427835869,100.83347149748454,22.81177251711039,100.41322734738165,64.76515070726876,77.20054115247588,50.55151867223235,28.86948323240287,110.44978643760707,41.17769564652471,90.07329783862934,32.39196632234867,121.63137958474582,65.91041759464797,123.62186117083651,90.77891658178079,72.94261139424503,88.28411445664653,55.6114776294372,69.29457326993023,95.54608797643579,110.51856701663719,80.58803331306254,106.41860190318187,48.132606929989436,79.29772710286154,82.88067495814832,54.24227967100916,91.46108120468469,103.42422956712214,104.64040083179299,70.04958726673964,70.76446830350837,134.36692791484774,123.74812677716146,110.06288302910215,66.69370011274748,100.57360811602209,115.98493134681647,81.8991410580771,109.94425457996746,156.05003286364587,136.8923387614446,70.9741881179383,67.30769536685793,76.46025976205752,147.9106497410675,67.90878095644486,97.61314455024512,111.88220269668241,128.66849744450514,88.93175744435112,144.87128517313758,84.35621147420044,162.70693517640058,99.34190445630792,82.90621181603714,100.49340772709334,157.45656295800754,121.28159926178316,150.85803335937686,134.66441600198698,160.94630014482476,131.3916770210929,122.16182562976742,126.66801558085663,167.5076404889192,131.35840247072153,130.95618812448217,129.2831556214986,162.648280402725,104.92978515650442,139.34730680249282,135.7366893760165,143.30428705512435,158.66995940735052,166.5520729570803,114.87306126099072,163.84003371568707,180.53667696450935,116.66648475679571,182.6911575209407,100.45032861658704]}];\n",
       " var layout_PhjAo84aZO = {\"height\":550,\"width\":600,\"hovermode\":\"closest\",\"title\":{\"text\":\"XYZ.Scatter3D\"},\"showlegend\":true};\n",
       " var config_PhjAo84aZO = {\"responsive\":false,\"scrollZoom\":false,\"displaylogo\":false};\n",
       " Plotly.newPlot(\"graph_PhjAo84aZO\", traces_PhjAo84aZO, layout_PhjAo84aZO, config_PhjAo84aZO);\n",
       "</script> \n"
      ]
     },
     "metadata": {},
     "output_type": "display_data"
    }
   ],
   "source": [
    "val x = List.range(1, 100)\n",
    "val y = List.range(1, 100)\n",
    "val z = List.range(1, 100).map(e => e + scala.util.Random.nextDouble()*100)\n",
    "\n",
    "val series = XYZ(x, y, z) asType SCATTER3D drawSymbol MARKERS\n",
    "val chart1 = Chart() addSeries series setTitle \"XYZ.Scatter3D\" setConfig(false, false)\n",
    "val canvas = Canvas() addCharts chart1\n",
    "canvas.plotInline"
   ]
  },
  {
   "cell_type": "markdown",
   "metadata": {},
   "source": [
    "#### Surface Plot"
   ]
  },
  {
   "cell_type": "code",
   "execution_count": 27,
   "metadata": {
    "scrolled": false
   },
   "outputs": [
    {
     "data": {
      "text/html": [
       "<div id=\"grid-container_5pDN1Q42o6\" class=\"grid-container\" align=\"center\"> \n",
       "<div id=\"grid_5pDN1Q42o6\" class=\"grid\" align=\"center\"> \n",
       "<div id=\"graph_OxckxYq5FP\" class=\"graph\"></div> \n",
       "</div> \n",
       "</div> \n",
       "<script>\n",
       "var masonry = new Macy({\n",
       "    container: '#grid_5pDN1Q42o6',\n",
       "    debug: true,\n",
       "    mobileFirst: true,\n",
       "    columns: 1,\n",
       "    margin: {\n",
       "        x: 0,\n",
       "        y: 0\n",
       "    }\n",
       "  });\n",
       "\n",
       " var traces_OxckxYq5FP = [{\"name\":\"c0NGHJt6vZ\",\"type\":\"surface\",\"z\":[[8.83,8.89,8.81,8.87,8.9,8.87],[8.89,8.94,8.85,8.94,8.96,8.92],[8.84,8.9,8.82,8.92,8.93,8.91],[8.79,8.85,8.79,8.9,8.94,8.92],[8.79,8.88,8.81,8.9,8.95,8.92],[8.8,8.82,8.78,8.91,8.94,8.92],[8.75,8.78,8.77,8.91,8.95,8.92],[8.8,8.8,8.77,8.91,8.95,8.94],[8.74,8.81,8.76,8.93,8.98,8.99],[8.89,8.99,8.92,9.1,9.13,9.11],[8.97,8.97,8.91,9.09,9.11,9.11],[9.04,9.08,9.05,9.25,9.28,9.27],[9,9.01,9,9.2,9.23,9.2],[8.99,8.99,8.98,9.18,9.2,9.19],[8.93,8.97,8.97,9.18,9.2,9.18]]}];\n",
       " var layout_OxckxYq5FP = {\"height\":550,\"width\":600,\"hovermode\":\"closest\",\"title\":{\"text\":\"Surface\"},\"showlegend\":true};\n",
       " var config_OxckxYq5FP = {\"responsive\":true,\"scrollZoom\":true,\"displaylogo\":false};\n",
       " Plotly.newPlot(\"graph_OxckxYq5FP\", traces_OxckxYq5FP, layout_OxckxYq5FP, config_OxckxYq5FP);\n",
       "</script> \n"
      ]
     },
     "metadata": {},
     "output_type": "display_data"
    }
   ],
   "source": [
    "// 3d surface plot\n",
    "val k = List(\n",
    "    List(8.83,8.89,8.81,8.87,8.9,8.87),\n",
    "    List(8.89,8.94,8.85,8.94,8.96,8.92),\n",
    "    List(8.84,8.9,8.82,8.92,8.93,8.91),\n",
    "    List(8.79,8.85,8.79,8.9,8.94,8.92),\n",
    "    List(8.79,8.88,8.81,8.9,8.95,8.92),\n",
    "    List(8.8,8.82,8.78,8.91,8.94,8.92),\n",
    "    List(8.75,8.78,8.77,8.91,8.95,8.92),\n",
    "    List(8.8,8.8,8.77,8.91,8.95,8.94),\n",
    "    List(8.74,8.81,8.76,8.93,8.98,8.99),\n",
    "    List(8.89,8.99,8.92,9.1,9.13,9.11),\n",
    "    List(8.97,8.97,8.91,9.09,9.11,9.11),\n",
    "    List(9.04,9.08,9.05,9.25,9.28,9.27),\n",
    "    List(9,9.01,9,9.2,9.23,9.2),\n",
    "    List(8.99,8.99,8.98,9.18,9.2,9.19),\n",
    "    List(8.93,8.97,8.97,9.18,9.2,9.18)\n",
    "  )\n",
    "\n",
    "val series = XYZ(z=k.flatten, n = k(0).length) asType SURFACE\n",
    "val chart2 = Chart() addSeries series setTitle \"Surface\"\n",
    "\n",
    "chart2.plotInline"
   ]
  },
  {
   "cell_type": "markdown",
   "metadata": {
    "scrolled": false
   },
   "source": [
    "#### Third Dimension as Color"
   ]
  },
  {
   "cell_type": "code",
   "execution_count": 28,
   "metadata": {},
   "outputs": [
    {
     "data": {
      "text/html": [
       "<div id=\"grid-container_Zzd4iPSEfb\" class=\"grid-container\" align=\"center\"> \n",
       "<div id=\"grid_Zzd4iPSEfb\" class=\"grid\" align=\"center\"> \n",
       "<div id=\"graph_qWjGBK3Yec\" class=\"graph\"></div> \n",
       "</div> \n",
       "</div> \n",
       "<script>\n",
       "var masonry = new Macy({\n",
       "    container: '#grid_Zzd4iPSEfb',\n",
       "    debug: true,\n",
       "    mobileFirst: true,\n",
       "    columns: 1,\n",
       "    margin: {\n",
       "        x: 0,\n",
       "        y: 0\n",
       "    }\n",
       "  });\n",
       "\n",
       " var traces_qWjGBK3Yec = [{\"name\":\"dBrO1nXxrM\",\"type\":\"scatter\",\"mode\":\"markers\",\"marker\":{\"color\":[67.39668903996247,14.427173838895822,15.11967573371574,81.69970947377114,35.42885402903461,44.101012985097924,27.834197596066506,71.43250992903177,13.611204578828465,21.473073948180833,66.83846290160176,71.2839219510486,44.091856231897395,77.87634136378063,50.469031424537825,18.366449064060472,72.916427835869,100.83347149748454,22.81177251711039,100.41322734738165,64.76515070726876,77.20054115247588,50.55151867223235,28.86948323240287,110.44978643760707,41.17769564652471,90.07329783862934,32.39196632234867,121.63137958474582,65.91041759464797,123.62186117083651,90.77891658178079,72.94261139424503,88.28411445664653,55.6114776294372,69.29457326993023,95.54608797643579,110.51856701663719,80.58803331306254,106.41860190318187,48.132606929989436,79.29772710286154,82.88067495814832,54.24227967100916,91.46108120468469,103.42422956712214,104.64040083179299,70.04958726673964,70.76446830350837,134.36692791484774,123.74812677716146,110.06288302910215,66.69370011274748,100.57360811602209,115.98493134681647,81.8991410580771,109.94425457996746,156.05003286364587,136.8923387614446,70.9741881179383,67.30769536685793,76.46025976205752,147.9106497410675,67.90878095644486,97.61314455024512,111.88220269668241,128.66849744450514,88.93175744435112,144.87128517313758,84.35621147420044,162.70693517640058,99.34190445630792,82.90621181603714,100.49340772709334,157.45656295800754,121.28159926178316,150.85803335937686,134.66441600198698,160.94630014482476,131.3916770210929,122.16182562976742,126.66801558085663,167.5076404889192,131.35840247072153,130.95618812448217,129.2831556214986,162.648280402725,104.92978515650442,139.34730680249282,135.7366893760165,143.30428705512435,158.66995940735052,166.5520729570803,114.87306126099072,163.84003371568707,180.53667696450935,116.66648475679571,182.6911575209407,100.45032861658704]},\"x\":[1,2,3,4,5,6,7,8,9,10,11,12,13,14,15,16,17,18,19,20,21,22,23,24,25,26,27,28,29,30,31,32,33,34,35,36,37,38,39,40,41,42,43,44,45,46,47,48,49,50,51,52,53,54,55,56,57,58,59,60,61,62,63,64,65,66,67,68,69,70,71,72,73,74,75,76,77,78,79,80,81,82,83,84,85,86,87,88,89,90,91,92,93,94,95,96,97,98,99],\"y\":[1,2,3,4,5,6,7,8,9,10,11,12,13,14,15,16,17,18,19,20,21,22,23,24,25,26,27,28,29,30,31,32,33,34,35,36,37,38,39,40,41,42,43,44,45,46,47,48,49,50,51,52,53,54,55,56,57,58,59,60,61,62,63,64,65,66,67,68,69,70,71,72,73,74,75,76,77,78,79,80,81,82,83,84,85,86,87,88,89,90,91,92,93,94,95,96,97,98,99]}];\n",
       " var layout_qWjGBK3Yec = {\"height\":550,\"width\":600,\"hovermode\":\"closest\",\"title\":{\"text\":\"ScatterWithColor\"},\"showlegend\":true};\n",
       " var config_qWjGBK3Yec = {\"responsive\":true,\"scrollZoom\":true,\"displaylogo\":false};\n",
       " Plotly.newPlot(\"graph_qWjGBK3Yec\", traces_qWjGBK3Yec, layout_qWjGBK3Yec, config_qWjGBK3Yec);\n",
       "</script> \n"
      ]
     },
     "metadata": {},
     "output_type": "display_data"
    }
   ],
   "source": [
    "// multiple compositions can be used to create scatter charts with a color representing some third dimension\n",
    "val marker = Marker() setColor z\n",
    "val series = XY(x, y) asType SCATTER drawSymbol MARKERS setMarker marker\n",
    "val chart3 = Chart() addSeries series setTitle \"ScatterWithColor\"\n",
    "chart3.plotInline"
   ]
  },
  {
   "cell_type": "markdown",
   "metadata": {},
   "source": [
    "#### Subplot\n",
    "\n",
    "The Subplot class can be used to generate subplots for an XYZ plots just as we did previously."
   ]
  },
  {
   "cell_type": "code",
   "execution_count": 29,
   "metadata": {},
   "outputs": [
    {
     "data": {
      "text/html": [
       "<div id=\"grid-container_mnyOVzzXUW\" class=\"grid-container\" align=\"center\"> \n",
       "<div id=\"grid_mnyOVzzXUW\" class=\"grid\" align=\"center\"> \n",
       "<div id=\"graph_R3zxJ4T27z\" class=\"graph\"></div> \n",
       "<div id=\"graph_cRDAG3OZAE\" class=\"graph\"></div> \n",
       "<div id=\"graph_Dbg9dPs249\" class=\"graph\"></div> \n",
       "<div id=\"graph_41OmAX64yr\" class=\"graph\"></div> \n",
       "</div> \n",
       "</div> \n",
       "\n",
       "<div align=\"center\">\n",
       "<button id = \"saveAsPNG_mnyOVzzXUW\" class=\"picta-button\">Download Canvas as PNG</button>\n",
       "</div>\n",
       "<script>\n",
       "var masonry = new Macy({\n",
       "    container: '#grid_mnyOVzzXUW',\n",
       "    debug: true,\n",
       "    mobileFirst: true,\n",
       "    columns: 2,\n",
       "    margin: {\n",
       "        x: 0,\n",
       "        y: 0\n",
       "    }\n",
       "  });\n",
       "\n",
       " var traces_R3zxJ4T27z = [{\"name\":\"bVMDIHD5Fc\",\"type\":\"scatter3d\",\"mode\":\"markers\",\"x\":[1,2,3,4,5,6,7,8,9,10,11,12,13,14,15,16,17,18,19,20,21,22,23,24,25,26,27,28,29,30,31,32,33,34,35,36,37,38,39,40,41,42,43,44,45,46,47,48,49,50,51,52,53,54,55,56,57,58,59,60,61,62,63,64,65,66,67,68,69,70,71,72,73,74,75,76,77,78,79,80,81,82,83,84,85,86,87,88,89,90,91,92,93,94,95,96,97,98,99],\"y\":[1,2,3,4,5,6,7,8,9,10,11,12,13,14,15,16,17,18,19,20,21,22,23,24,25,26,27,28,29,30,31,32,33,34,35,36,37,38,39,40,41,42,43,44,45,46,47,48,49,50,51,52,53,54,55,56,57,58,59,60,61,62,63,64,65,66,67,68,69,70,71,72,73,74,75,76,77,78,79,80,81,82,83,84,85,86,87,88,89,90,91,92,93,94,95,96,97,98,99],\"z\":[67.39668903996247,14.427173838895822,15.11967573371574,81.69970947377114,35.42885402903461,44.101012985097924,27.834197596066506,71.43250992903177,13.611204578828465,21.473073948180833,66.83846290160176,71.2839219510486,44.091856231897395,77.87634136378063,50.469031424537825,18.366449064060472,72.916427835869,100.83347149748454,22.81177251711039,100.41322734738165,64.76515070726876,77.20054115247588,50.55151867223235,28.86948323240287,110.44978643760707,41.17769564652471,90.07329783862934,32.39196632234867,121.63137958474582,65.91041759464797,123.62186117083651,90.77891658178079,72.94261139424503,88.28411445664653,55.6114776294372,69.29457326993023,95.54608797643579,110.51856701663719,80.58803331306254,106.41860190318187,48.132606929989436,79.29772710286154,82.88067495814832,54.24227967100916,91.46108120468469,103.42422956712214,104.64040083179299,70.04958726673964,70.76446830350837,134.36692791484774,123.74812677716146,110.06288302910215,66.69370011274748,100.57360811602209,115.98493134681647,81.8991410580771,109.94425457996746,156.05003286364587,136.8923387614446,70.9741881179383,67.30769536685793,76.46025976205752,147.9106497410675,67.90878095644486,97.61314455024512,111.88220269668241,128.66849744450514,88.93175744435112,144.87128517313758,84.35621147420044,162.70693517640058,99.34190445630792,82.90621181603714,100.49340772709334,157.45656295800754,121.28159926178316,150.85803335937686,134.66441600198698,160.94630014482476,131.3916770210929,122.16182562976742,126.66801558085663,167.5076404889192,131.35840247072153,130.95618812448217,129.2831556214986,162.648280402725,104.92978515650442,139.34730680249282,135.7366893760165,143.30428705512435,158.66995940735052,166.5520729570803,114.87306126099072,163.84003371568707,180.53667696450935,116.66648475679571,182.6911575209407,100.45032861658704]}];\n",
       " var layout_R3zxJ4T27z = {\"height\":350,\"width\":350,\"hovermode\":\"closest\",\"title\":{\"text\":\"XYZ.Scatter3D\"},\"showlegend\":true,\"margin\":{\"l\":50,\"r\":50,\"t\":50,\"b\":50}};\n",
       " var config_R3zxJ4T27z = {\"responsive\":false,\"scrollZoom\":false,\"displaylogo\":false};\n",
       " Plotly.newPlot(\"graph_R3zxJ4T27z\", traces_R3zxJ4T27z, layout_R3zxJ4T27z, config_R3zxJ4T27z);\n",
       "\n",
       " var traces_cRDAG3OZAE = [{\"name\":\"c0NGHJt6vZ\",\"type\":\"surface\",\"z\":[[8.83,8.89,8.81,8.87,8.9,8.87],[8.89,8.94,8.85,8.94,8.96,8.92],[8.84,8.9,8.82,8.92,8.93,8.91],[8.79,8.85,8.79,8.9,8.94,8.92],[8.79,8.88,8.81,8.9,8.95,8.92],[8.8,8.82,8.78,8.91,8.94,8.92],[8.75,8.78,8.77,8.91,8.95,8.92],[8.8,8.8,8.77,8.91,8.95,8.94],[8.74,8.81,8.76,8.93,8.98,8.99],[8.89,8.99,8.92,9.1,9.13,9.11],[8.97,8.97,8.91,9.09,9.11,9.11],[9.04,9.08,9.05,9.25,9.28,9.27],[9,9.01,9,9.2,9.23,9.2],[8.99,8.99,8.98,9.18,9.2,9.19],[8.93,8.97,8.97,9.18,9.2,9.18]]}];\n",
       " var layout_cRDAG3OZAE = {\"height\":350,\"width\":350,\"hovermode\":\"closest\",\"title\":{\"text\":\"Surface\"},\"showlegend\":true,\"margin\":{\"l\":50,\"r\":50,\"t\":50,\"b\":50}};\n",
       " var config_cRDAG3OZAE = {\"responsive\":true,\"scrollZoom\":true,\"displaylogo\":false};\n",
       " Plotly.newPlot(\"graph_cRDAG3OZAE\", traces_cRDAG3OZAE, layout_cRDAG3OZAE, config_cRDAG3OZAE);\n",
       "\n",
       " var traces_Dbg9dPs249 = [{\"name\":\"dBrO1nXxrM\",\"type\":\"scatter\",\"mode\":\"markers\",\"marker\":{\"color\":[67.39668903996247,14.427173838895822,15.11967573371574,81.69970947377114,35.42885402903461,44.101012985097924,27.834197596066506,71.43250992903177,13.611204578828465,21.473073948180833,66.83846290160176,71.2839219510486,44.091856231897395,77.87634136378063,50.469031424537825,18.366449064060472,72.916427835869,100.83347149748454,22.81177251711039,100.41322734738165,64.76515070726876,77.20054115247588,50.55151867223235,28.86948323240287,110.44978643760707,41.17769564652471,90.07329783862934,32.39196632234867,121.63137958474582,65.91041759464797,123.62186117083651,90.77891658178079,72.94261139424503,88.28411445664653,55.6114776294372,69.29457326993023,95.54608797643579,110.51856701663719,80.58803331306254,106.41860190318187,48.132606929989436,79.29772710286154,82.88067495814832,54.24227967100916,91.46108120468469,103.42422956712214,104.64040083179299,70.04958726673964,70.76446830350837,134.36692791484774,123.74812677716146,110.06288302910215,66.69370011274748,100.57360811602209,115.98493134681647,81.8991410580771,109.94425457996746,156.05003286364587,136.8923387614446,70.9741881179383,67.30769536685793,76.46025976205752,147.9106497410675,67.90878095644486,97.61314455024512,111.88220269668241,128.66849744450514,88.93175744435112,144.87128517313758,84.35621147420044,162.70693517640058,99.34190445630792,82.90621181603714,100.49340772709334,157.45656295800754,121.28159926178316,150.85803335937686,134.66441600198698,160.94630014482476,131.3916770210929,122.16182562976742,126.66801558085663,167.5076404889192,131.35840247072153,130.95618812448217,129.2831556214986,162.648280402725,104.92978515650442,139.34730680249282,135.7366893760165,143.30428705512435,158.66995940735052,166.5520729570803,114.87306126099072,163.84003371568707,180.53667696450935,116.66648475679571,182.6911575209407,100.45032861658704]},\"x\":[1,2,3,4,5,6,7,8,9,10,11,12,13,14,15,16,17,18,19,20,21,22,23,24,25,26,27,28,29,30,31,32,33,34,35,36,37,38,39,40,41,42,43,44,45,46,47,48,49,50,51,52,53,54,55,56,57,58,59,60,61,62,63,64,65,66,67,68,69,70,71,72,73,74,75,76,77,78,79,80,81,82,83,84,85,86,87,88,89,90,91,92,93,94,95,96,97,98,99],\"y\":[1,2,3,4,5,6,7,8,9,10,11,12,13,14,15,16,17,18,19,20,21,22,23,24,25,26,27,28,29,30,31,32,33,34,35,36,37,38,39,40,41,42,43,44,45,46,47,48,49,50,51,52,53,54,55,56,57,58,59,60,61,62,63,64,65,66,67,68,69,70,71,72,73,74,75,76,77,78,79,80,81,82,83,84,85,86,87,88,89,90,91,92,93,94,95,96,97,98,99]}];\n",
       " var layout_Dbg9dPs249 = {\"height\":350,\"width\":350,\"hovermode\":\"closest\",\"title\":{\"text\":\"ScatterWithColor\"},\"showlegend\":true,\"margin\":{\"l\":50,\"r\":50,\"t\":50,\"b\":50}};\n",
       " var config_Dbg9dPs249 = {\"responsive\":true,\"scrollZoom\":true,\"displaylogo\":false};\n",
       " Plotly.newPlot(\"graph_Dbg9dPs249\", traces_Dbg9dPs249, layout_Dbg9dPs249, config_Dbg9dPs249);\n",
       "\n",
       " var traces_41OmAX64yr = [{\"name\":\"7zysbwQdiB\",\"type\":\"heatmap\",\"z\":[[91.39864070759477,80.59100183145685,79.78030599998213,73.98433596911056,90.36275534707684,64.85071076784381,66.57346458175464,65.94896201188098,9.735758163420641,40.02383653772558],[20.78654324115297,64.11909369654319,79.63386835654374,38.327861342015865,59.205711008276836,31.104093957500496,34.166046493038735,47.2534287639664,39.67562889235947,49.406057492020366],[119.01945100445644,43.62069663427033,90.03964621372864,65.812897846244,67.79274950489476,40.54015354189798,27.4479994704807,66.47084256134637,38.97477773188456,54.33658927914172],[79.51162950985805,70.6032952689391,45.4076046608312,42.34262282177244,72.78324536535192,51.2530632688557,101.13935674870477,84.44078727129212,111.17605130940848,139.9602743565752],[56.76362883245898,81.33087602365676,127.18455257220586,48.948290152836854,93.65867783950262,120.72187903279398,52.150698220725126,49.17520418429085,99.9809952521316,118.99551353796846],[118.32260341237017,75.51861910451184,56.834335869101935,80.36100253551706,75.08186596629287,91.39654777643628,121.72655623307278,128.11840192965948,74.4695829245745,134.28745957888435],[108.24314956858942,153.3704520061948,157.01988264004333,80.89763962687627,125.80769475572394,95.37057550262293,147.91387390675703,116.1341788806222,161.4658776738358,114.66728843055728],[155.59566048731364,163.57710163402723,156.82110792363653,145.3029711743559,150.24611187764,136.80422354939046,157.56622128778076,115.54758577742228,87.88888731328862,100.7075805011292],[90.49712566476317,107.9955922601883,137.40718219290582,89.85035116251015,153.4606422678518,89.32694523616375,162.37850923142162,116.94838124630516,187.3802399521043,177.63076568425927],[107.3888253698369,118.72058389360454,136.31972748797634,130.91287437072032,139.36610170156254,128.63763591448236,191.486420352416,134.2560725703317,198.47744701135395,136.50851640004953]]}];\n",
       " var layout_41OmAX64yr = {\"height\":350,\"width\":350,\"hovermode\":\"closest\",\"title\":{\"text\":\"Heatmap\"},\"showlegend\":true,\"margin\":{\"l\":50,\"r\":50,\"t\":50,\"b\":50}};\n",
       " var config_41OmAX64yr = {\"responsive\":true,\"scrollZoom\":true,\"displaylogo\":false};\n",
       " Plotly.newPlot(\"graph_41OmAX64yr\", traces_41OmAX64yr, layout_41OmAX64yr, config_41OmAX64yr);\n",
       "\n",
       "var save = document.getElementById(\"saveAsPNG_mnyOVzzXUW\")\n",
       "save.onclick = function() {\n",
       "    const grid = document.getElementById(\"grid-container_mnyOVzzXUW\")\n",
       "    const svg_containers = grid.getElementsByClassName('svg-container')\n",
       "    const main_svgs = grid.getElementsByClassName('main-svg')\n",
       "\n",
       "    const svg_containers_styles = []\n",
       "    const main_svgs_styles = []\n",
       "\n",
       "    const modebars = document.getElementsByClassName(\"modebar-container\")\n",
       "\n",
       "    for (var i = 0; i < modebars.length; i++) {\n",
       "        modebars[i].style.display = \"none\"\n",
       "    }\n",
       "\n",
       "    domtoimage.toPng(grid)\n",
       "    .then(function (dataUrl) {\n",
       "        var img = new Image();\n",
       "        img.src = dataUrl;\n",
       "        var link = document.createElement('a');\n",
       "        link.download = 'Picta-image.png';\n",
       "        link.href = dataUrl;\n",
       "        link.click()\n",
       "    })\n",
       "    .catch(function (error) {\n",
       "        console.error('oops, something went wrong!', error);\n",
       "    });\n",
       "}\n",
       "</script> \n"
      ]
     },
     "metadata": {},
     "output_type": "display_data"
    }
   ],
   "source": [
    "// it may be necessary to play around with the chart dimensions and margin  in order to ensure a good fit on screen.\n",
    "val dim = 350\n",
    "\n",
    "// The canvas has an underlying grid. By default the underlying grid is 1x1, but we can pass in the dimensions we \n",
    "// require by passing in parameters in the constructor.\n",
    "Canvas(2, 2)\n",
    ".setChart(0, 0, chart1.setDimensions(width = dim, height = dim).setMargin(l=50, r=50, t=50, b=50))\n",
    ".setChart(0, 1, chart2.setDimensions(width = dim, height = dim)setMargin(l=50, r=50, t=50, b=50))\n",
    ".setChart(1, 0, chart3.setDimensions(width = dim, height = dim)setMargin(l=50, r=50, t=50, b=50))\n",
    ".setChart(1, 1, chart.setDimensions(width = dim, height = dim)setMargin(l=50, r=50, t=50, b=50))\n",
    ".plotInline"
   ]
  },
  {
   "cell_type": "markdown",
   "metadata": {},
   "source": [
    "#### Map\n",
    "\n",
    "We can also create maps using the composition technique below."
   ]
  },
  {
   "cell_type": "code",
   "execution_count": 31,
   "metadata": {},
   "outputs": [],
   "source": [
    "import org.carbonateresearch.picta.options.{MapOptions, MapAxis, LatAxis, LongAxis, Margin, Line}\n",
    "import org.carbonateresearch.picta.Map"
   ]
  },
  {
   "cell_type": "code",
   "execution_count": 32,
   "metadata": {},
   "outputs": [
    {
     "data": {
      "text/html": [
       "<div id=\"grid-container_Oz6WOGFcSm\" class=\"grid-container\" align=\"center\"> \n",
       "<div id=\"grid_Oz6WOGFcSm\" class=\"grid\" align=\"center\"> \n",
       "<div id=\"graph_ASKVAnmSSS\" class=\"graph\"></div> \n",
       "</div> \n",
       "</div> \n",
       "<script>\n",
       "var masonry = new Macy({\n",
       "    container: '#grid_Oz6WOGFcSm',\n",
       "    debug: true,\n",
       "    mobileFirst: true,\n",
       "    columns: 1,\n",
       "    margin: {\n",
       "        x: 0,\n",
       "        y: 0\n",
       "    }\n",
       "  });\n",
       "\n",
       " var traces_ASKVAnmSSS = [{\"name\":\"PFyQn1dNiO\",\"lat\":[40.7127,51.5072],\"lon\":[-74.0059,0.1275],\"type\":\"scattergeo\",\"mode\":\"lines\",\"line\":{\"width\":2,\"color\":\"red\"}}];\n",
       " var layout_ASKVAnmSSS = {\"height\":550,\"width\":600,\"hovermode\":\"closest\",\"showlegend\":true,\"geo\":{\"resolution\":50,\"showland\":true,\"showlakes\":true,\"coastlinewidth\":2,\"landcolor\":\"rgb(204, 204, 204)\",\"lakecolor\":\"rgb(255, 255, 255)\",\"lataxis\":{\"range\":[20,60],\"showgrid\":true,\"dtick\":10},\"lonaxis\":{\"range\":[-100,20],\"showgrid\":true,\"dtick\":10}},\"margin\":{\"l\":0,\"r\":0,\"t\":0,\"b\":0}};\n",
       " var config_ASKVAnmSSS = {\"responsive\":false,\"scrollZoom\":false,\"displaylogo\":false};\n",
       " Plotly.newPlot(\"graph_ASKVAnmSSS\", traces_ASKVAnmSSS, layout_ASKVAnmSSS, config_ASKVAnmSSS);\n",
       "</script> \n"
      ]
     },
     "metadata": {},
     "output_type": "display_data"
    }
   ],
   "source": [
    "// draw a line on the map that is red\n",
    "val line = Line(width = 2) setColor \"red\"\n",
    "\n",
    "// construct the map Series. It is an XY chart as it takes in a List of Longitude and Latitude\n",
    "val series = Map(List(40.7127, 51.5072), List(-74.0059, 0.1275)) drawSymbol LINES drawLine line\n",
    "\n",
    "// These are options that further specify the options for the map\n",
    "val geo = MapOptions(landcolor = \"rgb(204, 204, 204)\", lakecolor = \"rgb(255, 255, 255)\")\n",
    "              .setMapAxes(LatAxis(List(20, 60)), LongAxis(List(-100, 20)))\n",
    "\n",
    "val chart = (\n",
    "    Chart() \n",
    "    addSeries series \n",
    "    setConfig(false, false)\n",
    "    setMapOptions geo\n",
    "    setMargin(l=0, r=0, t=0, b=0)\n",
    ")\n",
    "\n",
    "chart.plotInline"
   ]
  },
  {
   "cell_type": "markdown",
   "metadata": {},
   "source": [
    "### Animated Charts\n",
    "\n",
    "We can also create animated charts. This can be useful for tracking the evolution of a data over time.\n",
    "\n",
    "All `Series` types should be supported.\n",
    "\n",
    "#### 2D Animated Chart"
   ]
  },
  {
   "cell_type": "code",
   "execution_count": 33,
   "metadata": {},
   "outputs": [],
   "source": [
    "import org.carbonateresearch.picta.options.ColorOptions._\n",
    "\n",
    "// creates random XY for testing purposes\n",
    "def createXYSeries[T: Color]\n",
    "(numberToCreate: Int, count: Int = 0, length: Int = 10): List[XY[Int, Double, T, T]] = {\n",
    "    if (count == numberToCreate) Nil\n",
    "    else {\n",
    "      val xs = List.range(0, length)\n",
    "      val ys = xs.map(x => scala.util.Random.nextDouble() * x)\n",
    "      val series = XY(x = xs, y = ys, name = \"series \" + count).drawMarkers\n",
    "      series :: createXYSeries(numberToCreate, count + 1, length)\n",
    "    }\n",
    "}\n",
    "\n",
    "def createXYZSeries(numberToCreate: Int, count: Int = 0, length: Int = 10): List[XYZ[Int, Double, Double]] = {\n",
    "    if (count == numberToCreate) Nil\n",
    "    else {\n",
    "      val xs = List.range(0, length)\n",
    "      val ys = xs.map(x => scala.util.Random.nextDouble() * x)\n",
    "      val zs = xs.map(x => scala.util.Random.nextDouble() * x * scala.util.Random.nextInt())\n",
    "      val series = XYZ(x = xs, y = ys, z = zs, name = \"series \" + count, `type` = SCATTER3D).drawMarkers\n",
    "      series :: createXYZSeries(numberToCreate, count + 1, length)\n",
    "    }\n",
    "}"
   ]
  },
  {
   "cell_type": "code",
   "execution_count": 35,
   "metadata": {
    "scrolled": false
   },
   "outputs": [
    {
     "data": {
      "text/html": [
       "<div id=\"grid-container_ctO3zZCl06\" class=\"grid-container\" align=\"center\"> \n",
       "<div id=\"grid_ctO3zZCl06\" class=\"grid\" align=\"center\"> \n",
       "\n",
       "<div align=\"center\">\n",
       "  <div id=\"graph_SHxyftOR5q\" class=\"graph\"></div>\n",
       "  <div class=\"animationInterface\">\n",
       "    <button id=\"play_SHxyftOR5q\" class=\"picta-button\">Play</button>\n",
       "    <button id=\"pause_SHxyftOR5q\" class=\"picta-button\">Pause</button>\n",
       "    <div id=\"sliderContainer_SHxyftOR5q\" class=\"progressBar\"></div>\n",
       "    <div id=\"counterContainer_SHxyftOR5q\" class=\"inline-div\">\n",
       "        <h3>Frame: </h3> <h3 id=\"value_SHxyftOR5q\">0</h3>\n",
       "    </div>\n",
       "   </div>\n",
       "</div> \n",
       "\n",
       "</div> \n",
       "</div> \n",
       "<script>\n",
       "var masonry = new Macy({\n",
       "    container: '#grid_ctO3zZCl06',\n",
       "    debug: true,\n",
       "    mobileFirst: true,\n",
       "    columns: 1,\n",
       "    margin: {\n",
       "        x: 0,\n",
       "        y: 0\n",
       "    }\n",
       "  });\n",
       "\n",
       "var graph_SHxyftOR5q = document.getElementById('graph_SHxyftOR5q')\n",
       "var traces_SHxyftOR5q = [{\"name\":\"series 0\",\"type\":\"scatter\",\"mode\":\"markers\",\"x\":[0,1,2,3,4,5,6,7,8,9,10,11,12,13,14,15,16,17,18,19,20,21,22,23,24,25,26,27,28,29],\"y\":[0,0.7841725633043733,0.3104019397829758,0.13727672336571117,1.4263124026203315,1.3672029052275496,4.398745361405846,6.571085639061015,7.5031340908910185,8.657365604186655,1.5806559780730889,8.017397640122503,3.5776358476080463,8.976819229996549,11.260624467893946,7.600963093072971,1.882241900645738,8.54574035874491,7.403756966682,15.55948577588033,1.7146191331785166,20.870507547337173,7.024482759825719,15.260405254679993,4.4400803627075485,14.273352234744518,15.055822909692056,13.947872632832079,17.614093685880796,7.559288928623033]}]\n",
       "var layout_SHxyftOR5q = {\"height\":550,\"width\":600,\"hovermode\":\"closest\",\"title\":{\"text\":\"Animation XY\"},\"showlegend\":true,\"xaxis\":{\"title\":{\"text\":\"X Variable\"},\"showgrid\":true,\"zeroline\":false,\"showline\":false,\"range\":[0,10]},\"yaxis\":{\"title\":{\"text\":\"Y Variable\"},\"showgrid\":true,\"zeroline\":false,\"showline\":false,\"range\":[0,10]}}\n",
       "var frames_SHxyftOR5q = [{\"name\":\"series 0\",\"data\":[{\"name\":\"series 0\",\"type\":\"scatter\",\"mode\":\"markers\",\"x\":[0,1,2,3,4,5,6,7,8,9,10,11,12,13,14,15,16,17,18,19,20,21,22,23,24,25,26,27,28,29],\"y\":[0,0.7841725633043733,0.3104019397829758,0.13727672336571117,1.4263124026203315,1.3672029052275496,4.398745361405846,6.571085639061015,7.5031340908910185,8.657365604186655,1.5806559780730889,8.017397640122503,3.5776358476080463,8.976819229996549,11.260624467893946,7.600963093072971,1.882241900645738,8.54574035874491,7.403756966682,15.55948577588033,1.7146191331785166,20.870507547337173,7.024482759825719,15.260405254679993,4.4400803627075485,14.273352234744518,15.055822909692056,13.947872632832079,17.614093685880796,7.559288928623033]}]},{\"name\":\"series 1\",\"data\":[{\"name\":\"series 1\",\"type\":\"scatter\",\"mode\":\"markers\",\"x\":[0,1,2,3,4,5,6,7,8,9,10,11,12,13,14,15,16,17,18,19,20,21,22,23,24,25,26,27,28,29],\"y\":[0,0.6067734442649135,0.5976648390833059,2.982753008216287,1.4588676697155951,1.6739979452098297,2.951387645396867,4.330239983951197,4.315267748442928,8.53240587477443,5.5101466197475055,2.5941791717864247,2.341093722500734,4.1897799225778805,6.570035652800253,12.854519523140437,5.049515671571745,16.622288488556272,15.906386425662628,14.645936616545008,4.343030257840422,5.506815084137051,21.184764042233443,10.931870021442212,10.315123087499376,24.257871149491034,14.870614541142423,13.378881858084469,17.987179359871732,15.585192607099918]}]},{\"name\":\"series 2\",\"data\":[{\"name\":\"series 2\",\"type\":\"scatter\",\"mode\":\"markers\",\"x\":[0,1,2,3,4,5,6,7,8,9,10,11,12,13,14,15,16,17,18,19,20,21,22,23,24,25,26,27,28,29],\"y\":[0,0.9228666718718486,0.1194816899450648,1.0341804307196618,3.978769099755574,0.2401190689447641,4.344998887098164,4.224380406509757,0.05639297039227298,0.29731957132853304,8.396762897340986,8.229805656715385,7.995478907899434,2.20804158760598,12.641076236184704,3.921033888221497,10.321960265423586,15.409277519416039,8.883309126607108,7.181666026384649,15.033654537095098,10.22050500246315,19.90638478093559,3.9299647015145522,8.954449175597468,18.669717324164854,10.594947680883234,2.9464406689651406,15.053427675462927,9.795242645832738]}]},{\"name\":\"series 3\",\"data\":[{\"name\":\"series 3\",\"type\":\"scatter\",\"mode\":\"markers\",\"x\":[0,1,2,3,4,5,6,7,8,9,10,11,12,13,14,15,16,17,18,19,20,21,22,23,24,25,26,27,28,29],\"y\":[0,0.2958008151156105,0.034813330416516575,1.2103474663283729,1.2099988264424737,1.215798437113425,3.496030188718141,3.7269723414313485,4.043340055534644,2.011279876522222,9.874965030643278,6.867359280067061,4.9944300456315736,12.289263864559032,7.2608895390452055,2.4443790025332928,10.702332358869336,9.327001990837047,17.475998656685334,5.190992516690111,17.104429051730566,14.408075407168255,15.97361894755852,19.608733531388573,17.20595299133479,19.10212818291049,5.390748306284058,0.4235962848129593,0.7666768989006338,7.35287534062498]}]},{\"name\":\"series 4\",\"data\":[{\"name\":\"series 4\",\"type\":\"scatter\",\"mode\":\"markers\",\"x\":[0,1,2,3,4,5,6,7,8,9,10,11,12,13,14,15,16,17,18,19,20,21,22,23,24,25,26,27,28,29],\"y\":[0,0.0672508724064953,0.20776454574034475,1.0467677066775414,3.7593013584215025,1.1344196264351698,1.8857208853876282,1.0711179162813695,3.3947119806819925,3.337624224886008,6.465404396303444,10.958497477855756,10.680559667488446,1.6332608109684794,5.520822408421545,6.906773211777024,15.040274218838176,12.777746694765558,5.024637691634993,3.252768437224356,17.12001755660512,8.160638954689665,19.28063265103237,10.253661867014385,7.415879520965277,9.996766722740619,1.1203554489551704,11.917806095123712,21.82289664427863,21.701554043441348]}]},{\"name\":\"series 5\",\"data\":[{\"name\":\"series 5\",\"type\":\"scatter\",\"mode\":\"markers\",\"x\":[0,1,2,3,4,5,6,7,8,9,10,11,12,13,14,15,16,17,18,19,20,21,22,23,24,25,26,27,28,29],\"y\":[0,0.5329724523502234,0.9344800085329084,1.694806046888314,1.3844196751411255,1.35216007976027,5.2826905353505484,2.3042291015629903,5.130031477620083,3.712689343092079,4.770915716790881,4.08096486786244,9.314667943285272,2.813803495396425,9.910415803149672,10.87488141529176,12.771294192778003,6.355396165948995,10.00336403111735,13.683363684999962,0.11278217077892672,15.265314100885744,4.434659917459221,1.666929919482806,14.626553185116375,4.323544214909125,19.73542096574066,17.875956119933907,15.9498906300634,28.161342412021206]}]},{\"name\":\"series 6\",\"data\":[{\"name\":\"series 6\",\"type\":\"scatter\",\"mode\":\"markers\",\"x\":[0,1,2,3,4,5,6,7,8,9,10,11,12,13,14,15,16,17,18,19,20,21,22,23,24,25,26,27,28,29],\"y\":[0,0.6240883559495299,0.8452260500900115,0.00693172268296105,3.1734648838307824,4.292764042671423,3.3344053345828573,2.8098337844920502,3.1975709589530608,5.170173712490229,3.0910991084101678,4.173395338290915,8.135338103265468,0.29564971455745404,6.834532339450888,14.78367935077042,6.169988468823007,2.451220660698802,6.413420643344908,0.3790420427828147,4.614894824540334,9.68286672136141,20.746504203961223,6.907885484803463,21.07131244940429,4.372195009043706,14.343220778527275,0.34234675209388055,16.803442727599357,2.8254282387042142]}]},{\"name\":\"series 7\",\"data\":[{\"name\":\"series 7\",\"type\":\"scatter\",\"mode\":\"markers\",\"x\":[0,1,2,3,4,5,6,7,8,9,10,11,12,13,14,15,16,17,18,19,20,21,22,23,24,25,26,27,28,29],\"y\":[0,0.9286184349387205,0.9904161111814833,2.218474800859893,0.675624297256777,4.308534062945389,1.8910289891758087,4.255650138401335,2.5458862734707814,7.661903192727687,8.597512066697208,5.737868912500864,9.795415033789835,2.770441101303934,8.08249916581764,8.189504984988343,13.849256337655811,13.17977982105553,8.717849887944647,18.39183068897078,11.144382975706769,6.972960214899428,16.849245337982236,13.464281704366844,14.293395473885703,14.716087441414755,11.760543472527448,12.627481150421177,21.375541614293326,18.757448732992614]}]},{\"name\":\"series 8\",\"data\":[{\"name\":\"series 8\",\"type\":\"scatter\",\"mode\":\"markers\",\"x\":[0,1,2,3,4,5,6,7,8,9,10,11,12,13,14,15,16,17,18,19,20,21,22,23,24,25,26,27,28,29],\"y\":[0,0.26189918259718137,0.19661614937114713,1.1556171839767502,0.95946453581085,0.3115776402965664,3.6635922164061014,6.483888155471323,7.125587733754053,7.563958114860196,5.15892909220238,8.239542921792344,3.325147513012981,5.731333266534002,5.279303481288203,13.606064813481833,3.5654383622682957,3.2031536909230964,4.597857399000622,4.577113825360822,1.9310596204604358,4.687440942842081,21.016326206873536,10.050955895035637,20.260542984366296,19.57621565881826,18.564775418588578,7.495690582427958,4.651007382384183,22.79687069861901]}]},{\"name\":\"series 9\",\"data\":[{\"name\":\"series 9\",\"type\":\"scatter\",\"mode\":\"markers\",\"x\":[0,1,2,3,4,5,6,7,8,9,10,11,12,13,14,15,16,17,18,19,20,21,22,23,24,25,26,27,28,29],\"y\":[0,0.4509338018860134,1.3596286606449277,0.6959599825572808,3.202299387477289,4.231062884382861,4.525225892562974,0.9498171285346224,2.221095627143818,3.1121816832554217,3.2709021423443874,10.297676507464182,3.4766498906146377,9.669507123990487,5.950729699859939,8.705391942202082,6.6383951975175535,9.704964711176713,5.27588064465041,14.69785747134592,5.860978523527667,5.983942371114837,0.25100358183440696,4.779804343145814,17.429680606913905,12.499319545517512,5.908241159777563,25.19626532616846,10.71453105954756,19.362160016946934]}]},{\"name\":\"series 10\",\"data\":[{\"name\":\"series 10\",\"type\":\"scatter\",\"mode\":\"markers\",\"x\":[0,1,2,3,4,5,6,7,8,9,10,11,12,13,14,15,16,17,18,19,20,21,22,23,24,25,26,27,28,29],\"y\":[0,0.4203554021093081,1.0223032511153614,2.7051229343521297,1.4863708492206373,1.3879353122447808,0.9140052037658668,3.0776399416267033,6.524853961825252,0.2897171829429649,6.929515394607957,6.319574867797825,8.422552804523265,11.224034340256576,3.5193283967399864,11.342369433870925,2.981152522657597,11.607299844354872,5.495076116878845,18.288446889218086,9.629868797661118,10.467578680553519,3.8807293657096213,8.523396230512585,3.1097030618339963,14.25076113882658,12.29445758252938,22.117480292663256,5.638160202595987,13.473646586937559]}]},{\"name\":\"series 11\",\"data\":[{\"name\":\"series 11\",\"type\":\"scatter\",\"mode\":\"markers\",\"x\":[0,1,2,3,4,5,6,7,8,9,10,11,12,13,14,15,16,17,18,19,20,21,22,23,24,25,26,27,28,29],\"y\":[0,0.5497388058569024,1.9292121053104516,2.271809298164399,2.1863494983630556,1.1702826155154467,0.7696108514675757,5.493891781356028,2.51152692448278,3.192398684047599,1.1430323750823423,6.13755529389325,3.637464836951443,7.679812379239277,13.07988262969065,9.959466676672644,15.12149256193154,16.6424792444606,2.79944005915136,14.287582657203991,7.383898448146828,5.68529148785526,2.8588670230001068,22.575262602222285,4.573490540815412,2.126812952240548,3.3365870599211505,17.210520645887286,7.859508988061677,4.945373548601974]}]},{\"name\":\"series 12\",\"data\":[{\"name\":\"series 12\",\"type\":\"scatter\",\"mode\":\"markers\",\"x\":[0,1,2,3,4,5,6,7,8,9,10,11,12,13,14,15,16,17,18,19,20,21,22,23,24,25,26,27,28,29],\"y\":[0,0.9660013205076088,1.2919621384782536,0.9941119785264348,0.8067959921612609,0.8592580662678806,5.020625137954969,2.4388531143661982,1.454887391907203,3.860898060975185,8.888076231690397,5.831302195118198,0.5208992700690769,9.188231769015507,9.226574136536753,5.501553551731521,9.703407357385217,3.205795896707561,10.071971767163063,2.4396394459171558,9.834710790111236,1.4600969935514483,2.554965913599225,3.3793357954016736,2.706332752109147,14.013335997100846,12.535689369946184,25.738792664587365,10.54574300977389,28.88516569579571]}]},{\"name\":\"series 13\",\"data\":[{\"name\":\"series 13\",\"type\":\"scatter\",\"mode\":\"markers\",\"x\":[0,1,2,3,4,5,6,7,8,9,10,11,12,13,14,15,16,17,18,19,20,21,22,23,24,25,26,27,28,29],\"y\":[0,0.4025009869858963,0.23964583056562128,0.13915113123735545,1.4341480634119934,2.0630070985404387,3.5282269568298004,1.182339004394413,6.238245345552747,8.711236449937488,3.3238639539743775,6.569360227373434,9.873831455269965,7.705493293099465,10.34544017246189,5.463356307594294,13.545245442879935,10.002422014179452,0.6276960506124565,1.5606353240535462,17.796917262146263,19.84250046334799,0.4626028008794316,10.611309092328606,17.69528353689155,24.693779027502245,25.22975474271124,22.68842498691198,2.3425460728141174,14.533971217076925]}]},{\"name\":\"series 14\",\"data\":[{\"name\":\"series 14\",\"type\":\"scatter\",\"mode\":\"markers\",\"x\":[0,1,2,3,4,5,6,7,8,9,10,11,12,13,14,15,16,17,18,19,20,21,22,23,24,25,26,27,28,29],\"y\":[0,0.3194635160470798,1.839462774123784,0.8421715145648319,3.1094151971182438,2.227077342924528,4.68491274094931,5.6838589775977635,1.1981585540736708,6.971696259337107,2.9573286113586548,0.5025604383713173,2.4797663674259915,0.7995766357326461,7.752455984841348,0.6892788492180851,5.919351510646278,4.44855514610793,3.010374189545048,11.86977364111971,11.829719210351577,0.40200826671567336,12.085794538581736,21.713673626181983,14.136172592500927,20.35879302557052,22.06808049569123,12.612203277044623,8.208164812872436,14.230293384600376]}]},{\"name\":\"series 15\",\"data\":[{\"name\":\"series 15\",\"type\":\"scatter\",\"mode\":\"markers\",\"x\":[0,1,2,3,4,5,6,7,8,9,10,11,12,13,14,15,16,17,18,19,20,21,22,23,24,25,26,27,28,29],\"y\":[0,0.5692100556792552,1.592327874742469,1.3438486738554918,1.3464799788783237,2.9139005661034383,0.5695337106215062,2.756302814071627,5.743644570882053,0.3828132134235981,7.02596841296516,1.960564390429465,8.339341478942757,5.486162084575881,10.738291053040033,13.522509604331557,6.570583903324177,12.039834059520091,12.2113710010171,3.4299951762804017,1.3770415051193163,15.708184440511669,6.052666917778801,4.347189124474807,10.360338749000961,10.446565873300207,17.247262249777727,22.758946470224096,13.570095243179699,9.236315723460926]}]},{\"name\":\"series 16\",\"data\":[{\"name\":\"series 16\",\"type\":\"scatter\",\"mode\":\"markers\",\"x\":[0,1,2,3,4,5,6,7,8,9,10,11,12,13,14,15,16,17,18,19,20,21,22,23,24,25,26,27,28,29],\"y\":[0,0.29435476574791597,1.3455193054394334,2.6277563623198548,3.5956251946955984,3.5875653230206312,5.084499385052945,3.100398432927565,3.416964218672952,2.0108117833950723,0.7999979168662041,2.615270444423926,6.9517724096493545,8.105570049444111,11.145409784867883,10.97378922323875,1.1239804004804501,11.514778550906204,4.740275963933739,7.628623578409772,15.387077816988729,8.530127695503188,7.176174045132761,13.873654124159346,12.785234880791542,0.7857611317244328,10.986486485386834,18.503928857434964,5.218332515005738,3.0639258552811217]}]},{\"name\":\"series 17\",\"data\":[{\"name\":\"series 17\",\"type\":\"scatter\",\"mode\":\"markers\",\"x\":[0,1,2,3,4,5,6,7,8,9,10,11,12,13,14,15,16,17,18,19,20,21,22,23,24,25,26,27,28,29],\"y\":[0,0.367109863257285,1.9960696942255454,1.333841894464113,3.499043654318155,4.1565670572541205,4.1658108972487256,3.7732257073140953,4.29011512789931,8.520832616231809,5.810592571071725,2.5094445102828526,8.626094873665732,6.858147968939447,8.502909335342562,8.256754332217447,4.710601517661235,9.532520178227994,4.972067715667682,16.197870043781016,8.434442177870697,18.684544572818066,3.320161222962276,9.942652884862374,11.320173055413397,23.194532431365143,8.596378764813092,5.986891324277254,10.129269992437614,17.218130383705606]}]},{\"name\":\"series 18\",\"data\":[{\"name\":\"series 18\",\"type\":\"scatter\",\"mode\":\"markers\",\"x\":[0,1,2,3,4,5,6,7,8,9,10,11,12,13,14,15,16,17,18,19,20,21,22,23,24,25,26,27,28,29],\"y\":[0,0.2718645597942838,0.5303633014036504,2.436593212572482,3.0585372906604196,0.46672398850453933,3.6862785089903234,4.202715777511341,3.8812314944488584,2.0461525654380894,5.540220479277963,10.736714041586778,0.15187979212046088,10.057509705466046,7.2116936115626915,9.963861239944611,5.380892237423167,16.77681105598038,6.836175387822212,16.23840418964542,18.13579125336709,9.80156669747094,17.275236518683723,1.548785207544756,0.5841573081714726,22.866697169309656,12.37651274883438,14.079161120313389,13.325538737578182,26.280829934852953]}]},{\"name\":\"series 19\",\"data\":[{\"name\":\"series 19\",\"type\":\"scatter\",\"mode\":\"markers\",\"x\":[0,1,2,3,4,5,6,7,8,9,10,11,12,13,14,15,16,17,18,19,20,21,22,23,24,25,26,27,28,29],\"y\":[0,0.2694562004637404,1.171728241034968,1.9147206162582568,0.026790429989060005,3.7960552160046346,1.6976883168271704,1.041576688907186,3.7599902562154606,3.749321042227245,0.06154652984056708,0.8841464794112244,11.087127996045885,3.944500103466671,3.8209855099893537,9.872616309075575,11.44232945956368,15.276023067072838,9.278828989164111,3.6095462448568076,12.099800942671099,12.066819531442192,7.799176075847203,1.3515953821411697,5.81541542100648,9.941404261468634,21.424656942200432,23.640216446339288,19.009304918363306,13.510236730831238]}]},{\"name\":\"series 20\",\"data\":[{\"name\":\"series 20\",\"type\":\"scatter\",\"mode\":\"markers\",\"x\":[0,1,2,3,4,5,6,7,8,9,10,11,12,13,14,15,16,17,18,19,20,21,22,23,24,25,26,27,28,29],\"y\":[0,0.1875683970004257,1.4719071935600907,0.3571135211394124,3.5714117195869877,4.477076439802595,1.2159343664796014,0.014373586511060576,7.198648597924645,2.911072562383264,3.024141076872385,1.5983353857816311,1.0670829621989637,9.206471238548257,8.361660434699195,14.054918004317127,11.268357241471428,12.284724146697593,9.320420375301854,2.0068627983949785,16.429313093935313,11.297555850748116,0.08374434753048976,13.919547568710401,15.395284385808274,20.98149447125301,8.3126710930777,16.23962656236162,0.21197728552590878,4.572614044552838]}]},{\"name\":\"series 21\",\"data\":[{\"name\":\"series 21\",\"type\":\"scatter\",\"mode\":\"markers\",\"x\":[0,1,2,3,4,5,6,7,8,9,10,11,12,13,14,15,16,17,18,19,20,21,22,23,24,25,26,27,28,29],\"y\":[0,0.5943835593897654,1.8361069199373767,2.5801851743967843,3.1117828007701815,0.40049619822867977,5.787579526254377,1.0120758654823325,4.998319550361247,0.49774254734749335,5.648034268753193,4.750684141103985,0.3509927285963834,1.265054466963973,8.07865894554233,9.182059148734151,12.144209146564995,12.159006547869962,6.961791336131352,13.510412457599163,18.229343648718014,3.3763633436344005,18.38278155737934,15.4491203759499,11.021027902218234,22.788572313745405,11.129936710316343,3.0686985702245386,2.2969275954555037,17.267862353989198]}]},{\"name\":\"series 22\",\"data\":[{\"name\":\"series 22\",\"type\":\"scatter\",\"mode\":\"markers\",\"x\":[0,1,2,3,4,5,6,7,8,9,10,11,12,13,14,15,16,17,18,19,20,21,22,23,24,25,26,27,28,29],\"y\":[0,0.12827669266704445,0.4355669933201476,0.6352261593557739,1.6965409940310878,1.9753903389269039,3.93655951571328,0.856406513656234,5.236331840925538,1.4768278564457387,6.718521056707649,4.800929772794904,11.566069119971335,12.201604920339287,9.091178459028663,1.3843438519375657,7.857876044299516,0.236934714919942,6.903761257393927,2.8808759620216677,6.688961131851139,8.001368016208279,16.740482431361073,13.013116761525007,6.51634250231873,22.154320785892732,8.359551006844535,25.556591213017192,7.6108993983392494,27.694842968730775]}]},{\"name\":\"series 23\",\"data\":[{\"name\":\"series 23\",\"type\":\"scatter\",\"mode\":\"markers\",\"x\":[0,1,2,3,4,5,6,7,8,9,10,11,12,13,14,15,16,17,18,19,20,21,22,23,24,25,26,27,28,29],\"y\":[0,0.6806270874257665,1.925707865578063,1.8999213821173515,3.81566196172746,0.31916375694281074,0.5316638687450514,1.2345753040341414,1.2728404174584496,8.98676404915759,6.559815843203236,10.186607335701101,1.353313686168911,2.575250579864432,12.644172668698106,11.337890273451203,8.276744651552914,13.128584983470102,7.987878296658442,17.76085457342495,0.8048955046935946,11.117186742202938,20.715414221670787,19.86709167710717,3.4632369876601823,8.116899208524325,11.773069926142318,20.850372813731216,7.744186814972685,8.934250151412723]}]},{\"name\":\"series 24\",\"data\":[{\"name\":\"series 24\",\"type\":\"scatter\",\"mode\":\"markers\",\"x\":[0,1,2,3,4,5,6,7,8,9,10,11,12,13,14,15,16,17,18,19,20,21,22,23,24,25,26,27,28,29],\"y\":[0,0.1267834700249768,1.5101177642278119,2.9427326814078496,1.5045022203646226,1.0074186454931733,1.801117868270193,3.9018327945924787,3.931049912328123,8.868789739015002,0.5121866565711275,2.699890491852404,1.2551689739241692,4.718274990877087,1.1177883082667714,10.653262716291108,15.088014714080654,4.9578156988903945,15.617160020498865,3.1373392411953143,6.094584466539754,11.013172488082178,20.882748751910185,5.663349355532573,16.2980367979154,6.871824468576443,24.438008647740322,1.8829657182682435,1.1317696165335844,3.136176058150894]}]},{\"name\":\"series 25\",\"data\":[{\"name\":\"series 25\",\"type\":\"scatter\",\"mode\":\"markers\",\"x\":[0,1,2,3,4,5,6,7,8,9,10,11,12,13,14,15,16,17,18,19,20,21,22,23,24,25,26,27,28,29],\"y\":[0,0.6462611052272168,0.29787291692830764,0.767532510260592,0.3142177596871436,0.6575667410355074,4.718415436253154,3.488784533987265,1.2083209350814368,2.0681587826046663,2.3078504661118746,8.105003034677754,9.409373015190688,5.653514702693084,6.033933980869275,5.762913839154188,4.989439473859145,11.770178891244012,5.0660406023063675,14.19945453751249,11.788294821955013,10.458732022606066,2.548384714862334,14.727913771458217,6.885946973124644,10.22643754143974,1.0539902815645557,15.505690083094594,18.572151924377806,12.68806009554984]}]},{\"name\":\"series 26\",\"data\":[{\"name\":\"series 26\",\"type\":\"scatter\",\"mode\":\"markers\",\"x\":[0,1,2,3,4,5,6,7,8,9,10,11,12,13,14,15,16,17,18,19,20,21,22,23,24,25,26,27,28,29],\"y\":[0,0.0011641689202697147,1.689656272507447,2.4619307386681086,2.4475992406019036,1.27582911859675,2.7681223070404917,1.522186575095985,2.9428391731993253,0.27555525617451826,6.038667074714579,5.155233672251652,11.93862707299288,6.026583879589884,6.423611810061833,10.119495358129145,7.41193849924985,2.4276891312299673,11.65021782221948,9.421997488337103,17.763464988237025,13.980475629600825,5.51436745013556,6.002554512747154,6.146307583509862,16.918078867735673,19.287510416369944,18.32482660069226,20.685113821914094,19.63005883863817]}]},{\"name\":\"series 27\",\"data\":[{\"name\":\"series 27\",\"type\":\"scatter\",\"mode\":\"markers\",\"x\":[0,1,2,3,4,5,6,7,8,9,10,11,12,13,14,15,16,17,18,19,20,21,22,23,24,25,26,27,28,29],\"y\":[0,0.6947789843658646,1.761302305329473,0.837537991520736,3.2829641456866736,1.5372509069171376,1.5525394244731263,6.977294098369501,7.185265528832014,8.658326799030826,3.0808402147041103,1.097671728318707,7.675988625797929,6.26191183960127,12.358653109404777,8.28799987661478,0.6027482305107537,6.1102634821178325,14.02964839823887,10.48692079842679,15.346555768942238,13.360353494949255,19.541731672226316,16.76215610597103,8.942861153664673,13.005084759383836,22.27465591364104,17.379157314344425,8.963722149678137,10.574545772631566]}]},{\"name\":\"series 28\",\"data\":[{\"name\":\"series 28\",\"type\":\"scatter\",\"mode\":\"markers\",\"x\":[0,1,2,3,4,5,6,7,8,9,10,11,12,13,14,15,16,17,18,19,20,21,22,23,24,25,26,27,28,29],\"y\":[0,0.8128106222140257,1.8249508880119316,1.8434423921902847,0.7602256665640161,0.6614458674979801,0.607001354310355,5.997635991438613,6.114658275888921,2.110443584087391,5.679383436027381,1.818430547292707,4.177943509105854,0.0875837123456854,0.7519478986862318,7.745126073307725,15.612684916015505,3.9037343610664075,14.510421024241735,3.2669832666062097,6.202984395679398,1.082381533612145,4.167359314666533,13.224086838984569,4.7034469850530565,20.137618201700235,24.812408867571847,13.00562651137585,13.052112167730074,14.391863369971324]}]},{\"name\":\"series 29\",\"data\":[{\"name\":\"series 29\",\"type\":\"scatter\",\"mode\":\"markers\",\"x\":[0,1,2,3,4,5,6,7,8,9,10,11,12,13,14,15,16,17,18,19,20,21,22,23,24,25,26,27,28,29],\"y\":[0,0.7697532983242722,0.039894970100610605,0.41306624229194255,2.749026429435239,3.008812889929329,1.3465350568713428,0.0308838498855446,6.575787459581837,3.5996249111901863,5.032854482857566,8.546758929702287,5.800172100462413,5.103400222145971,8.01738726700928,7.583569585224728,10.179400950925515,5.602920057146568,2.8611992904552084,5.611422916426528,1.6961930534565872,7.009430085249349,4.2046120961114894,14.372806118860467,12.239966682423091,18.807531776406915,10.362777534404227,6.7442794157987604,6.913646004536187,8.834769567899043]}]},{\"name\":\"series 30\",\"data\":[{\"name\":\"series 30\",\"type\":\"scatter\",\"mode\":\"markers\",\"x\":[0,1,2,3,4,5,6,7,8,9,10,11,12,13,14,15,16,17,18,19,20,21,22,23,24,25,26,27,28,29],\"y\":[0,0.7136804454237807,0.0881598324688948,2.35504733372714,1.5627837225347392,2.9656188868416367,1.869245378770653,0.4893987905372109,7.958537539833766,6.613974429002765,9.135268384812822,2.2716297369778955,6.70675772101603,11.83497506882219,5.461914591203362,13.692067682053338,7.19584209057612,8.632278169609092,10.853731197650553,17.244201765488167,3.842105232239743,2.309208388080922,4.2086529953462275,2.447590878518148,20.775698441121218,1.6326270276774606,23.344082687048353,23.46551918606409,24.92131862354959,13.00052614216344]}]},{\"name\":\"series 31\",\"data\":[{\"name\":\"series 31\",\"type\":\"scatter\",\"mode\":\"markers\",\"x\":[0,1,2,3,4,5,6,7,8,9,10,11,12,13,14,15,16,17,18,19,20,21,22,23,24,25,26,27,28,29],\"y\":[0,0.1649794810407239,1.4633051512809674,0.38473609957737465,2.1660555559121755,3.6711938490729414,4.897963806353854,0.11886731654779559,6.322262277955679,0.5971837841138486,4.649487501464572,10.450784619227903,8.626269500808508,3.791403411983872,13.745996939428409,1.0695887699269446,14.665075922310166,15.082380122006711,2.179604349423374,0.6904887737856018,5.522146561174313,9.14521406877107,0.687916104161562,19.06731540090305,15.651481116353402,13.554979243549342,11.368136978549357,13.299921870012364,23.443671990902967,12.155107291360977]}]},{\"name\":\"series 32\",\"data\":[{\"name\":\"series 32\",\"type\":\"scatter\",\"mode\":\"markers\",\"x\":[0,1,2,3,4,5,6,7,8,9,10,11,12,13,14,15,16,17,18,19,20,21,22,23,24,25,26,27,28,29],\"y\":[0,0.6182774603974918,1.2531031106972743,1.7062925679452903,0.22470113992710727,0.02298128948090894,1.3635237140839036,3.281566494581424,6.396498435398289,4.533768538255623,0.37070907913228646,1.6346552615907501,0.34446108851424784,9.164363011314252,12.065417313114207,1.1002250510977212,4.784933648684106,13.08358378400288,17.51086946162153,15.344309610472783,18.84125214297057,9.02608782415728,0.3209535335615421,11.89272573037321,9.59839877278866,22.213841497310437,17.282488798510734,13.103673014594424,7.61724221133006,3.4735865157862746]}]},{\"name\":\"series 33\",\"data\":[{\"name\":\"series 33\",\"type\":\"scatter\",\"mode\":\"markers\",\"x\":[0,1,2,3,4,5,6,7,8,9,10,11,12,13,14,15,16,17,18,19,20,21,22,23,24,25,26,27,28,29],\"y\":[0,0.4714200052652543,1.8045656617181047,2.566337942774928,3.7852879310774146,4.578644769832939,4.838860331995518,2.58125239037493,4.247188579179353,6.41111264201032,4.899760687501551,0.16396609769307025,5.53250649617642,6.633550807679068,3.3276984449068294,5.620994098967406,5.844030518533293,4.75380597064713,4.902868131262936,14.465375738168726,8.008788415414234,3.8844763215271345,5.9767769846095975,18.31826629983709,9.48079184286562,16.113938883326135,15.868686697006112,19.9947687179416,22.65562331674168,23.861065654141072]}]},{\"name\":\"series 34\",\"data\":[{\"name\":\"series 34\",\"type\":\"scatter\",\"mode\":\"markers\",\"x\":[0,1,2,3,4,5,6,7,8,9,10,11,12,13,14,15,16,17,18,19,20,21,22,23,24,25,26,27,28,29],\"y\":[0,0.2696683905132876,0.18897620446816643,2.1068923032146616,3.795994622450788,2.159053918288941,4.447581024798283,2.189095620589643,2.742324658342807,5.284919064973043,2.83722415157066,7.211222648395827,7.563446747934343,3.1101376227207247,11.253142216515794,5.355322781123429,12.460416391262477,13.53967434258148,0.3449797678147628,2.009911717409059,18.149710818112766,9.89997672313875,19.17710819293895,11.222494559335788,12.303176924934135,17.95693580123378,16.69984363326259,24.793117807397877,17.772862649393225,24.308195632404182]}]},{\"name\":\"series 35\",\"data\":[{\"name\":\"series 35\",\"type\":\"scatter\",\"mode\":\"markers\",\"x\":[0,1,2,3,4,5,6,7,8,9,10,11,12,13,14,15,16,17,18,19,20,21,22,23,24,25,26,27,28,29],\"y\":[0,0.9854304312317903,1.7495792352246438,1.9242939348307138,0.5872788796887218,3.3888229962954153,2.124585128831171,2.4047705426576895,7.115500151176707,5.734967727680036,6.828250310695618,2.1568863155754823,3.29208384870785,10.411319034353758,10.53705616307982,10.548559791717155,3.620919780482666,9.053323865636246,12.629087248521294,12.550802601510085,19.97751487536232,13.052705990310752,15.677124754651244,15.334376959369337,0.9363587791146744,8.279034370272734,10.436525471297454,5.541362082888711,8.685008240737421,0.4749333813561546]}]},{\"name\":\"series 36\",\"data\":[{\"name\":\"series 36\",\"type\":\"scatter\",\"mode\":\"markers\",\"x\":[0,1,2,3,4,5,6,7,8,9,10,11,12,13,14,15,16,17,18,19,20,21,22,23,24,25,26,27,28,29],\"y\":[0,0.8713801151308732,1.4985972420987599,2.0964248689622296,2.445733622847024,4.13609641381391,2.7368264028623615,2.699623597653083,2.4180823441273986,0.9792295305039702,4.17529894456811,9.358119126812948,11.001622750422229,12.74181406003829,0.7612012731994224,0.8571623359388053,9.998843030796035,2.2338946833579576,11.62517600478611,7.496709143515868,17.924188387775427,3.2040944790657684,16.1300624189443,9.853810516707815,4.975135423450757,9.467145859019551,24.29576099845505,24.67560433805948,15.35050175271473,26.07801872532212]}]},{\"name\":\"series 37\",\"data\":[{\"name\":\"series 37\",\"type\":\"scatter\",\"mode\":\"markers\",\"x\":[0,1,2,3,4,5,6,7,8,9,10,11,12,13,14,15,16,17,18,19,20,21,22,23,24,25,26,27,28,29],\"y\":[0,0.41466227818514767,0.9852336901436107,0.7554931297592661,2.1052405699982333,4.921302633330634,3.0227728839031602,0.5513492505995123,7.853377879284648,0.16109082248682383,8.37668676586477,8.972006028083156,0.30317921026837436,7.310937534884668,12.214937701217888,4.529557368292567,15.905656628599226,1.4358786145003366,17.046235408003668,1.076191986908323,6.457464767083678,19.756057664730264,18.049421902812433,19.425711036054203,0.5409913079657347,14.17008588257899,17.71421098579523,2.0622523570658395,17.332638196274836,20.54605209740663]}]},{\"name\":\"series 38\",\"data\":[{\"name\":\"series 38\",\"type\":\"scatter\",\"mode\":\"markers\",\"x\":[0,1,2,3,4,5,6,7,8,9,10,11,12,13,14,15,16,17,18,19,20,21,22,23,24,25,26,27,28,29],\"y\":[0,0.5283115379059318,1.2029813464986145,2.568573713711519,2.8496662167418587,4.243304243950814,3.4291388182794216,2.868914445633017,0.1570978336447908,2.9158171774368173,7.071322263878576,0.02964894915669747,8.973532078843068,5.457165157496618,12.037473809719577,12.634050935616287,0.4843542873340656,11.57782252398695,10.586814914727462,16.887703446381206,5.941721229316077,14.292111297508303,15.35571319407332,4.250712207614603,11.461398437454864,20.924608019572126,10.587347475142597,18.178129405082743,5.692808613321446,2.5871034759401574]}]},{\"name\":\"series 39\",\"data\":[{\"name\":\"series 39\",\"type\":\"scatter\",\"mode\":\"markers\",\"x\":[0,1,2,3,4,5,6,7,8,9,10,11,12,13,14,15,16,17,18,19,20,21,22,23,24,25,26,27,28,29],\"y\":[0,0.3987026381885994,0.832349271989151,1.831963957263157,2.4123250159134524,0.3553475698866554,2.46889512423234,6.81537637584863,6.460429996857949,5.321898619371962,7.546536099301056,4.769191311108992,1.6064359206758634,3.728307285501865,9.760631452621878,4.388136019568188,8.64379547840672,4.845758364736397,12.386314438843497,11.83404504308118,0.22292987500611927,14.004444530776208,7.214207971225435,22.630364161174647,11.491344136178874,19.557841336452643,16.739793504895758,4.048103707170901,21.99155670065092,11.245492737135331]}]},{\"name\":\"series 40\",\"data\":[{\"name\":\"series 40\",\"type\":\"scatter\",\"mode\":\"markers\",\"x\":[0,1,2,3,4,5,6,7,8,9,10,11,12,13,14,15,16,17,18,19,20,21,22,23,24,25,26,27,28,29],\"y\":[0,0.2798322825359051,0.782240382558804,0.20515422624873003,0.34817293063026167,2.043893889501453,5.357522494941712,5.223142290345011,5.452915047153174,5.548433299268241,0.6125777161391233,10.374450832656324,9.420144965418043,9.588742769214157,0.33660971548231955,13.015339751366033,9.78029296147673,0.31680517449100787,7.773157529459376,6.143178145444936,7.534631030083226,14.656484173214018,20.31372045348542,20.714665098770315,5.115843626825928,2.171372613615513,25.399367722796878,24.483213019655324,9.68797259609144,10.58666866699305]}]},{\"name\":\"series 41\",\"data\":[{\"name\":\"series 41\",\"type\":\"scatter\",\"mode\":\"markers\",\"x\":[0,1,2,3,4,5,6,7,8,9,10,11,12,13,14,15,16,17,18,19,20,21,22,23,24,25,26,27,28,29],\"y\":[0,0.01092314749461809,0.7266200674704126,2.900965330062563,0.3615957983824307,3.1991214166781328,4.473312050738138,0.9351299267749625,5.034916007662246,6.703427500804757,9.523841233267706,10.234355599811101,6.307736871548244,8.831813209801936,3.778484110941612,11.882195773530087,6.300544114358274,9.789681786606813,5.582002182224539,8.436828355997799,3.413060713461753,16.61511685986423,11.538047396231732,20.03453759168519,12.632911141239555,17.555585165676145,8.93431471924966,23.20114742405823,19.451441633026224,10.893695149281964]}]},{\"name\":\"series 42\",\"data\":[{\"name\":\"series 42\",\"type\":\"scatter\",\"mode\":\"markers\",\"x\":[0,1,2,3,4,5,6,7,8,9,10,11,12,13,14,15,16,17,18,19,20,21,22,23,24,25,26,27,28,29],\"y\":[0,0.5170298266559211,0.7285085435102676,1.2334083221665972,2.449622764489137,0.4918136818804647,5.106855179774759,3.935858634479061,1.7715654675219819,3.586450110582245,6.336764714627215,6.342845984861141,9.749102177984158,12.573395084293653,6.6050867620438884,0.9714815572933078,4.864357902767354,6.729819100523681,13.614412965916891,2.033046246068457,7.844776224199823,20.451162348754934,9.631550578159652,16.966654265753867,8.938262289907438,2.0082723904966073,22.58874606924983,11.031699233412166,7.660606802831364,22.659386930709296]}]},{\"name\":\"series 43\",\"data\":[{\"name\":\"series 43\",\"type\":\"scatter\",\"mode\":\"markers\",\"x\":[0,1,2,3,4,5,6,7,8,9,10,11,12,13,14,15,16,17,18,19,20,21,22,23,24,25,26,27,28,29],\"y\":[0,0.026176377279498175,0.6651635501851421,0.7054433187773421,0.8588411300886607,0.9095745522780069,5.395547205213535,4.714018208216828,2.964506456743509,6.75342136622093,7.084864497396547,10.158501249130724,9.848280098685818,1.5217939873668667,1.1301007963755212,9.94160753173323,3.3721350624307043,15.566131789737039,0.36402354281913674,16.27573453045013,12.306497420303582,6.388756873358268,8.104985518245527,2.7638133260417534,23.61424275761406,12.255450111503357,3.6284249791049077,1.7871803876292671,11.25246834666273,12.360117021784225]}]},{\"name\":\"series 44\",\"data\":[{\"name\":\"series 44\",\"type\":\"scatter\",\"mode\":\"markers\",\"x\":[0,1,2,3,4,5,6,7,8,9,10,11,12,13,14,15,16,17,18,19,20,21,22,23,24,25,26,27,28,29],\"y\":[0,0.053606217261472744,0.04979750284052997,1.0245417807095003,2.8831102387944454,0.6747639926663418,2.0680812988139694,0.3434019306788977,0.5522991299675679,3.746820429146688,5.213534907210324,8.500181819545556,0.653916608038128,6.36113561699573,12.312629963845403,8.659720851227847,2.0463447511978963,1.2325054026667868,5.498988439893646,6.668266223809788,18.83887233297231,10.668448918607913,4.569786162708704,15.877303369289585,1.089641598930796,7.495806527845417,23.49431695821112,26.139766747377013,12.252100538622868,13.068142572822055]}]},{\"name\":\"series 45\",\"data\":[{\"name\":\"series 45\",\"type\":\"scatter\",\"mode\":\"markers\",\"x\":[0,1,2,3,4,5,6,7,8,9,10,11,12,13,14,15,16,17,18,19,20,21,22,23,24,25,26,27,28,29],\"y\":[0,0.325890925734054,1.9882471488995166,2.872418322504736,1.5147846153450542,1.633071345620668,3.344880441111563,3.2187987173112576,3.7178800484403167,4.7509705852927935,0.48584012293060197,7.684867863756726,9.013191515379445,3.7740640595114305,4.21931788122317,2.121967980053455,3.2639114271495586,12.307147607634743,8.055043455863915,16.27292671445696,0.655592817337638,16.656574785564665,12.887574513627865,10.950598139184068,11.932547795218085,6.248610880082264,4.155157786683944,23.825370760113252,4.475480528147612,7.138212845275063]}]},{\"name\":\"series 46\",\"data\":[{\"name\":\"series 46\",\"type\":\"scatter\",\"mode\":\"markers\",\"x\":[0,1,2,3,4,5,6,7,8,9,10,11,12,13,14,15,16,17,18,19,20,21,22,23,24,25,26,27,28,29],\"y\":[0,0.06621370398475257,1.8843880512571856,0.5622211790643716,2.908459587693004,2.3279062380873943,2.1528102006953374,4.439643885122143,0.2797330615219691,8.75341283495026,6.024050112891358,9.135193868211319,7.2623441865094325,9.260236078012928,10.243729095640207,11.173498092785872,7.603134350405906,10.954150181522458,1.3280904821344919,6.624402947657752,9.546178271629293,0.31312764492471823,2.0919442595587334,5.044020392167767,7.5386974436486245,17.39791669271434,10.846866687075062,12.471034105165481,7.331576146274447,14.152347795798182]}]},{\"name\":\"series 47\",\"data\":[{\"name\":\"series 47\",\"type\":\"scatter\",\"mode\":\"markers\",\"x\":[0,1,2,3,4,5,6,7,8,9,10,11,12,13,14,15,16,17,18,19,20,21,22,23,24,25,26,27,28,29],\"y\":[0,0.367780795425253,0.5552118449149717,1.6057345331402866,1.4646584843339476,0.9713897413677741,4.72221339404054,0.7147209508576213,7.80527368192862,8.468190454858826,7.112410218964155,1.0685831359741154,5.644127490060905,0.2972692800546708,4.975824645175187,13.3886707170381,4.140106561982984,5.060091521327566,11.27095065586365,3.5233645780641183,1.691916143237846,20.74707913075384,14.753036146182481,20.091087323359293,13.981263709669005,16.547638412528137,11.373788918568337,4.807420944470613,10.195153819402146,16.85706427501723]}]},{\"name\":\"series 48\",\"data\":[{\"name\":\"series 48\",\"type\":\"scatter\",\"mode\":\"markers\",\"x\":[0,1,2,3,4,5,6,7,8,9,10,11,12,13,14,15,16,17,18,19,20,21,22,23,24,25,26,27,28,29],\"y\":[0,0.5350585196312173,1.5435686542547162,1.2267405011101944,0.9702876251953221,0.49408257914741127,4.053392440687063,3.3493736211117917,3.9181909988468844,0.4779802286817264,2.020576539563599,6.302207200214111,8.850871272781125,4.029669262930127,1.1829040311666457,6.48485014708309,0.38122839108229023,10.040048486168548,7.2186646137334645,0.3330212466029072,2.3743904803075644,6.914036795328641,18.239794888396933,20.538207077677715,19.618216252732363,7.971036573372148,4.806145254079343,25.920057366829077,15.880934232494164,15.23481222991159]}]},{\"name\":\"series 49\",\"data\":[{\"name\":\"series 49\",\"type\":\"scatter\",\"mode\":\"markers\",\"x\":[0,1,2,3,4,5,6,7,8,9,10,11,12,13,14,15,16,17,18,19,20,21,22,23,24,25,26,27,28,29],\"y\":[0,0.17179865259064298,1.5005675965372205,0.11472049969539488,2.459509578156791,3.9560464944192786,0.9865178109373622,4.871555405623122,3.3589130012274753,1.9366512129294913,2.4240847504249663,5.796132077898814,3.72054152633146,4.969985508507437,4.704493737731196,11.727902209973292,10.11592655325338,5.176933215632495,17.132998715716443,18.933055583223226,17.99676675048088,6.7151432946357135,3.7741026778345104,5.09476724415307,19.85864175386083,6.227148092247453,16.01510315503943,7.656203566796304,18.287672752787838,22.04273847332448]}]}]\n",
       "var labels_SHxyftOR5q = [\"series 0\",\"series 1\",\"series 2\",\"series 3\",\"series 4\",\"series 5\",\"series 6\",\"series 7\",\"series 8\",\"series 9\",\"series 10\",\"series 11\",\"series 12\",\"series 13\",\"series 14\",\"series 15\",\"series 16\",\"series 17\",\"series 18\",\"series 19\",\"series 20\",\"series 21\",\"series 22\",\"series 23\",\"series 24\",\"series 25\",\"series 26\",\"series 27\",\"series 28\",\"series 29\",\"series 30\",\"series 31\",\"series 32\",\"series 33\",\"series 34\",\"series 35\",\"series 36\",\"series 37\",\"series 38\",\"series 39\",\"series 40\",\"series 41\",\"series 42\",\"series 43\",\"series 44\",\"series 45\",\"series 46\",\"series 47\",\"series 48\",\"series 49\"]\n",
       "var duration_SHxyftOR5q = 100\n",
       "var config_SHxyftOR5q = {\"responsive\":true,\"scrollZoom\":true,\"displaylogo\":false}\n",
       "\n",
       "var animation_settings_SHxyftOR5q = {\n",
       "    mode: \"immediate\",\n",
       "    direction: {},\n",
       "    fromcurrent: true,\n",
       "    frame: [\n",
       "      {duration: duration_SHxyftOR5q},\n",
       "      {duration: duration_SHxyftOR5q},\n",
       "      {redraw: true}\n",
       "    ],\n",
       "    transition: [\n",
       "      {duration: duration_SHxyftOR5q, easing: 'cubic-in-out'},\n",
       "      {duration: duration_SHxyftOR5q, easing: 'cubic-in-out'},\n",
       "    ],\n",
       "    ordering: \"layout first\"\n",
       "}\n",
       "\n",
       "var slider_SHxyftOR5q = document.createElement(\"input\")\n",
       "var play_SHxyftOR5q = document.getElementById(\"play_SHxyftOR5q\")\n",
       "var pause_SHxyftOR5q = document.getElementById(\"pause_SHxyftOR5q\")\n",
       "slider_SHxyftOR5q.id = \"slider_SHxyftOR5q\"\n",
       "slider_SHxyftOR5q.type = \"range\"\n",
       "slider_SHxyftOR5q.min = 0\n",
       "slider_SHxyftOR5q.max = frames_SHxyftOR5q.length - 1\n",
       "slider_SHxyftOR5q.value = 0\n",
       "document.getElementById(\"sliderContainer_SHxyftOR5q\").appendChild(slider_SHxyftOR5q);\n",
       "\n",
       "Plotly.newPlot(graph_SHxyftOR5q, traces_SHxyftOR5q, layout_SHxyftOR5q, config_SHxyftOR5q)\n",
       ".then(function () { Plotly.addFrames(graph_SHxyftOR5q, frames_SHxyftOR5q) })\n",
       "\n",
       "var trigger_SHxyftOR5q = true\n",
       "var reset_count_SHxyftOR5q = false\n",
       "\n",
       "play_SHxyftOR5q.addEventListener('click', function() {\n",
       "   trigger_SHxyftOR5q = true\n",
       "   if (reset_count_SHxyftOR5q) {\n",
       "      slider_SHxyftOR5q.value = 0\n",
       "      reset_count_SHxyftOR5q = false\n",
       "   }\n",
       "\n",
       "  const start_index = slider_SHxyftOR5q.value == labels_SHxyftOR5q.length - 1 ? 0 : slider_SHxyftOR5q.value\n",
       "  const end_index = labels_SHxyftOR5q.length\n",
       "  Plotly.animate(graph_SHxyftOR5q, labels_SHxyftOR5q.slice(start_index, end_index), animation_settings_SHxyftOR5q)\n",
       "})\n",
       "\n",
       "pause_SHxyftOR5q.addEventListener('click', function() {\n",
       "  Plotly.animate(graph_SHxyftOR5q, [null], animation_settings_SHxyftOR5q)\n",
       "})\n",
       "\n",
       "graph_SHxyftOR5q.on('plotly_redraw', () => {\n",
       "   value_SHxyftOR5q.innerHTML = slider_SHxyftOR5q.value;\n",
       "   if (trigger_SHxyftOR5q & !reset_count_SHxyftOR5q) ++slider_SHxyftOR5q.value\n",
       "   if (slider_SHxyftOR5q.value == labels_SHxyftOR5q.length - 1) reset_count_SHxyftOR5q = true\n",
       "});\n",
       "\n",
       "slider_SHxyftOR5q.oninput = function() {\n",
       "   Plotly.animate(graph_SHxyftOR5q, frames_SHxyftOR5q[this.value], animation_settings_SHxyftOR5q)\n",
       "   trigger_SHxyftOR5q = false\n",
       "   slider_SHxyftOR5q.value = this.value\n",
       "   value_SHxyftOR5q.innerHTML = this.value;\n",
       "   if (this.value == 0) reset_count_SHxyftOR5q = false\n",
       "   if (this.value == labels_SHxyftOR5q.length - 1) reset_count_SHxyftOR5q = true\n",
       "   reset_count_SHxyftOR5q = false\n",
       "}\n",
       "</script> \n"
      ]
     },
     "metadata": {},
     "output_type": "display_data"
    }
   ],
   "source": [
    "val xaxis = XAxis(title = \"X Variable\") setRange (0.0, 10.0)\n",
    "val yaxis = YAxis(title = \"Y Variable\") setRange (0.0, 10.0)\n",
    "\n",
    "// we can also specifiy the underlying layout directly - sometimes this can be useful\n",
    "val layout = ChartLayout(\"Animation XY\") setAxes(xaxis, yaxis)\n",
    "\n",
    "val series = createXYSeries(numberToCreate = 50, length = 30)\n",
    "\n",
    "val chart = Chart(animated = true, transition_duration=100) setChartLayout layout addSeries series\n",
    "\n",
    "chart.plotInline"
   ]
  },
  {
   "cell_type": "markdown",
   "metadata": {},
   "source": [
    "### 3D Animated Chart"
   ]
  },
  {
   "cell_type": "code",
   "execution_count": 36,
   "metadata": {},
   "outputs": [
    {
     "data": {
      "text/html": [
       "<div id=\"grid-container_h5a8jzoOAL\" class=\"grid-container\" align=\"center\"> \n",
       "<div id=\"grid_h5a8jzoOAL\" class=\"grid\" align=\"center\"> \n",
       "\n",
       "<div align=\"center\">\n",
       "  <div id=\"graph_8rUUkeeICT\" class=\"graph\"></div>\n",
       "  <div class=\"animationInterface\">\n",
       "    <button id=\"play_8rUUkeeICT\" class=\"picta-button\">Play</button>\n",
       "    <button id=\"pause_8rUUkeeICT\" class=\"picta-button\">Pause</button>\n",
       "    <div id=\"sliderContainer_8rUUkeeICT\" class=\"progressBar\"></div>\n",
       "    <div id=\"counterContainer_8rUUkeeICT\" class=\"inline-div\">\n",
       "        <h3>Frame: </h3> <h3 id=\"value_8rUUkeeICT\">0</h3>\n",
       "    </div>\n",
       "   </div>\n",
       "</div> \n",
       "\n",
       "</div> \n",
       "</div> \n",
       "<script>\n",
       "var masonry = new Macy({\n",
       "    container: '#grid_h5a8jzoOAL',\n",
       "    debug: true,\n",
       "    mobileFirst: true,\n",
       "    columns: 1,\n",
       "    margin: {\n",
       "        x: 0,\n",
       "        y: 0\n",
       "    }\n",
       "  });\n",
       "\n",
       "var graph_8rUUkeeICT = document.getElementById('graph_8rUUkeeICT')\n",
       "var traces_8rUUkeeICT = [{\"name\":\"series 0\",\"type\":\"scatter3d\",\"mode\":\"markers\",\"x\":[0,1,2,3,4,5,6,7,8,9,10,11,12,13,14,15,16,17,18,19,20,21,22,23,24,25,26,27,28,29,30,31,32,33,34,35,36,37,38,39,40,41,42,43,44,45,46,47,48,49,50,51,52,53,54,55,56,57,58,59,60,61,62,63,64,65,66,67,68,69,70,71,72,73,74,75,76,77,78,79,80,81,82,83,84,85,86,87,88,89,90,91,92,93,94,95,96,97,98,99],\"y\":[0,0.3120993547837553,1.6368556026198886,1.9631506556364666,2.5905363492599305,0.21659617368401607,4.248622065321911,4.520239018669111,3.9499452651687976,4.337310350728177,5.119166825461359,8.438394911533608,7.9241246916479025,0.48393663129655495,8.837547011748693,7.60791119327655,8.29344618879398,16.82939986644325,9.938394577349163,11.890309756277063,4.352654853834935,9.681280181015241,14.297264937772093,6.463630752340516,9.824812391316277,22.490438341978372,13.695761557809444,15.544678436420638,2.9933966056947736,7.444705243569497,2.8311851554242873,21.867819019130167,26.85172796910815,5.739647309418666,15.009317232177574,15.561664719119925,3.3940703043146705,26.46020022598023,24.25798305622902,31.04933068027431,27.15811129170955,16.196446373526918,0.883194480630328,10.555004324773202,1.0240488106427414,23.303877866967827,7.809043119877918,9.979233315472326,31.331149428865128,6.353302009813183,37.646976590059616,49.55770947076221,0.838479603104882,11.047922403494338,34.579749978142004,29.093283266475428,34.182500771519756,3.965239067995401,12.07016279411462,39.89865483782829,52.520308781710476,21.159129284112485,34.364619503750774,46.15745184058318,41.243640594487644,21.182865356044896,28.006710936863428,18.454389488366193,2.2551830272524493,58.716877716229504,0.35624432177712384,35.99086016523684,37.565319707777206,36.95576388958907,28.674624924150145,57.74052342334169,49.14422704160471,21.477411210561463,32.93802943374199,9.76047192058296,12.301140992478494,36.73311857476462,73.42559682308675,68.30707275048897,57.6096552856284,4.811265456211634,37.55072068653491,0.5619101493030314,6.805208061205675,68.98841428963216,30.60964247726156,80.90208285481111,10.398202524525722,84.04071113475995,49.36266067151117,27.000740024310073,16.223842621011123,52.59507939722237,18.88975381229091,32.86791084692941],\"z\":[0,-7.898956786601962E8,5.051738000165673E8,-4.0910909955071974E8,8.850935199621714E8,-8.952698364694048E7,-7.960614871856357E8,2.168298266100364E8,-1.44528450927478E8,-3.859241122731025E9,1.0103644388526436E10,-7.143070295127467E9,1.107231888053973E9,4.5170385639694805E9,1.4615467999479715E10,-6.586339919826012E8,-1.2083162725280943E9,-4.3732059476552147E8,1.372551325985279E10,1.402987761695263E9,4.480998135972802E9,1.8393669953634554E8,-4.0793696991224174E10,2.4890539308454105E10,3.844268595898268E10,-1.2817214506205421E10,-3.2683868901079726E8,-8.19994587467906E8,-4.1618657540345426E9,2.5296353197268643E9,-3.3211240685601324E7,470778.0804967416,-1.9443963474031947E9,-4.315791585382021E9,6.352448887129033E9,-3.2343062511019257E10,2.070016228977666E10,-1.836251261434819E10,-4.550460584749886E9,-6.302057133871686E9,-2.6733700366022686E10,7.46132993583464E10,-1.2082357429401047E10,-4.2857361069733257E9,-5.614535350316407E9,6.7203326269613716E10,5.952315168524228E10,3.86947148095496E10,-1.4231577102815075E9,-9.65996117442007E9,3.7349810724872696E10,-1.111383635122494E10,-1.932800647679277E9,1.424210944405603E10,-5.856387429422218E10,5.384680677967957E10,1.437100078578929E10,-3.348289984074724E10,-5.293610830003746E10,5.156668058084138E9,-5.5814383622226555E10,-5.114312147023632E10,1.6768148419564611E10,1.8312720687189365E10,2.284592170187271E9,-3.8045320935160666E9,-5.0394835432169785E10,-2.915435696418085E10,-4.4209234681309944E10,2.5366546311359394E10,1.2973777060926687E10,-1.1761742720388548E11,-3.0161796921837128E10,1.3038710428580189E9,7.288242986868384E9,2.546846842714444E10,-2.7403263875595676E10,4.4201188986656235E10,4.366839441360818E10,-3.672138552419638E10,-1.2176936648239632E11,-1.2675834207957881E11,2.04032521800633E9,1.084871502266415E10,2.775152132876734E10,-7.668319116474037E10,-3.971193851550306E10,-1.088371302308797E11,3.688961405791622E10,-4.475239828168778E10,4.924991695913925E9,-3.544951812807609E10,6.456229122140619E9,8.1445652322345495E9,-6.411711081854646E9,6.456494834209679E10,-3.2280583941362503E10,7.643815398705426E10,-1.9439161602079014E10,-1.563809133497998E8]}]\n",
       "var layout_8rUUkeeICT = {\"height\":550,\"width\":600,\"hovermode\":\"closest\",\"title\":{\"text\":\"Animation 3D\"},\"showlegend\":true}\n",
       "var frames_8rUUkeeICT = [{\"name\":\"series 0\",\"data\":[{\"name\":\"series 0\",\"type\":\"scatter3d\",\"mode\":\"markers\",\"x\":[0,1,2,3,4,5,6,7,8,9,10,11,12,13,14,15,16,17,18,19,20,21,22,23,24,25,26,27,28,29,30,31,32,33,34,35,36,37,38,39,40,41,42,43,44,45,46,47,48,49,50,51,52,53,54,55,56,57,58,59,60,61,62,63,64,65,66,67,68,69,70,71,72,73,74,75,76,77,78,79,80,81,82,83,84,85,86,87,88,89,90,91,92,93,94,95,96,97,98,99],\"y\":[0,0.3120993547837553,1.6368556026198886,1.9631506556364666,2.5905363492599305,0.21659617368401607,4.248622065321911,4.520239018669111,3.9499452651687976,4.337310350728177,5.119166825461359,8.438394911533608,7.9241246916479025,0.48393663129655495,8.837547011748693,7.60791119327655,8.29344618879398,16.82939986644325,9.938394577349163,11.890309756277063,4.352654853834935,9.681280181015241,14.297264937772093,6.463630752340516,9.824812391316277,22.490438341978372,13.695761557809444,15.544678436420638,2.9933966056947736,7.444705243569497,2.8311851554242873,21.867819019130167,26.85172796910815,5.739647309418666,15.009317232177574,15.561664719119925,3.3940703043146705,26.46020022598023,24.25798305622902,31.04933068027431,27.15811129170955,16.196446373526918,0.883194480630328,10.555004324773202,1.0240488106427414,23.303877866967827,7.809043119877918,9.979233315472326,31.331149428865128,6.353302009813183,37.646976590059616,49.55770947076221,0.838479603104882,11.047922403494338,34.579749978142004,29.093283266475428,34.182500771519756,3.965239067995401,12.07016279411462,39.89865483782829,52.520308781710476,21.159129284112485,34.364619503750774,46.15745184058318,41.243640594487644,21.182865356044896,28.006710936863428,18.454389488366193,2.2551830272524493,58.716877716229504,0.35624432177712384,35.99086016523684,37.565319707777206,36.95576388958907,28.674624924150145,57.74052342334169,49.14422704160471,21.477411210561463,32.93802943374199,9.76047192058296,12.301140992478494,36.73311857476462,73.42559682308675,68.30707275048897,57.6096552856284,4.811265456211634,37.55072068653491,0.5619101493030314,6.805208061205675,68.98841428963216,30.60964247726156,80.90208285481111,10.398202524525722,84.04071113475995,49.36266067151117,27.000740024310073,16.223842621011123,52.59507939722237,18.88975381229091,32.86791084692941],\"z\":[0,-7.898956786601962E8,5.051738000165673E8,-4.0910909955071974E8,8.850935199621714E8,-8.952698364694048E7,-7.960614871856357E8,2.168298266100364E8,-1.44528450927478E8,-3.859241122731025E9,1.0103644388526436E10,-7.143070295127467E9,1.107231888053973E9,4.5170385639694805E9,1.4615467999479715E10,-6.586339919826012E8,-1.2083162725280943E9,-4.3732059476552147E8,1.372551325985279E10,1.402987761695263E9,4.480998135972802E9,1.8393669953634554E8,-4.0793696991224174E10,2.4890539308454105E10,3.844268595898268E10,-1.2817214506205421E10,-3.2683868901079726E8,-8.19994587467906E8,-4.1618657540345426E9,2.5296353197268643E9,-3.3211240685601324E7,470778.0804967416,-1.9443963474031947E9,-4.315791585382021E9,6.352448887129033E9,-3.2343062511019257E10,2.070016228977666E10,-1.836251261434819E10,-4.550460584749886E9,-6.302057133871686E9,-2.6733700366022686E10,7.46132993583464E10,-1.2082357429401047E10,-4.2857361069733257E9,-5.614535350316407E9,6.7203326269613716E10,5.952315168524228E10,3.86947148095496E10,-1.4231577102815075E9,-9.65996117442007E9,3.7349810724872696E10,-1.111383635122494E10,-1.932800647679277E9,1.424210944405603E10,-5.856387429422218E10,5.384680677967957E10,1.437100078578929E10,-3.348289984074724E10,-5.293610830003746E10,5.156668058084138E9,-5.5814383622226555E10,-5.114312147023632E10,1.6768148419564611E10,1.8312720687189365E10,2.284592170187271E9,-3.8045320935160666E9,-5.0394835432169785E10,-2.915435696418085E10,-4.4209234681309944E10,2.5366546311359394E10,1.2973777060926687E10,-1.1761742720388548E11,-3.0161796921837128E10,1.3038710428580189E9,7.288242986868384E9,2.546846842714444E10,-2.7403263875595676E10,4.4201188986656235E10,4.366839441360818E10,-3.672138552419638E10,-1.2176936648239632E11,-1.2675834207957881E11,2.04032521800633E9,1.084871502266415E10,2.775152132876734E10,-7.668319116474037E10,-3.971193851550306E10,-1.088371302308797E11,3.688961405791622E10,-4.475239828168778E10,4.924991695913925E9,-3.544951812807609E10,6.456229122140619E9,8.1445652322345495E9,-6.411711081854646E9,6.456494834209679E10,-3.2280583941362503E10,7.643815398705426E10,-1.9439161602079014E10,-1.563809133497998E8]}]},{\"name\":\"series 1\",\"data\":[{\"name\":\"series 1\",\"type\":\"scatter3d\",\"mode\":\"markers\",\"x\":[0,1,2,3,4,5,6,7,8,9,10,11,12,13,14,15,16,17,18,19,20,21,22,23,24,25,26,27,28,29,30,31,32,33,34,35,36,37,38,39,40,41,42,43,44,45,46,47,48,49,50,51,52,53,54,55,56,57,58,59,60,61,62,63,64,65,66,67,68,69,70,71,72,73,74,75,76,77,78,79,80,81,82,83,84,85,86,87,88,89,90,91,92,93,94,95,96,97,98,99],\"y\":[0,0.599193526400555,1.0026910873219865,0.02070906282066831,1.7585967831344314,3.6967310596503316,1.245614409220369,4.118408361512615,3.6454733685603147,2.1865767711505812,5.777713363556309,1.2135511737477795,8.70087267317259,4.710151790516172,11.57237039181476,7.358738566461172,6.9590961750009726,15.756201446962741,14.541462215121616,2.066775753568744,6.372264652907473,8.278473390193906,16.502233021557245,5.455552776871528,17.352236982453867,5.51603184924078,23.579844958410384,19.20244705751732,14.008830198511081,22.51708735394054,29.7643757467088,13.44242567059988,14.40566936171238,17.39260992067591,18.789286455062726,15.443252978780773,21.12079078772004,8.261558489814885,18.79427530083905,16.625576676826253,13.337619097789899,16.445225243565957,34.62899204851912,34.515199352290985,37.85305969495481,25.974099450665175,13.395289650753083,29.76952843101285,8.023245909503096,7.136633224534938,1.1645692948888897,50.76005139362351,10.023912977415405,6.875486170435386,23.99329636657379,35.567659842000666,10.13148693328575,35.57312978181056,41.643920813964534,10.907828619002915,46.28272663231396,59.41522337921514,45.05032100466777,14.697954413823132,51.195165697230564,31.32674780321314,7.79632374153298,38.959622682236315,40.07769483270042,48.69274199057453,18.953052739956632,43.76422045904499,42.680300698549374,15.952399986883881,8.795620677943356,62.2310536685899,46.37444677566755,2.9424191922790905,51.44218499668728,52.42310654067364,35.370511595854055,64.81273601511485,50.578443596898474,38.606650642905294,64.31649115434026,12.695227352621549,15.39849475763473,74.99716340277355,19.6324681637583,67.32352034488048,84.95836219357575,40.05543156512026,18.268378644970543,76.72978901340885,19.551563871677786,19.874276024854325,50.37826941902631,92.23231887571555,50.726918957775815,96.45801834898522],\"z\":[0,7.646557622942506E8,6.834490269326013E8,-1.7362598417186878E9,2.1342105022731584E8,6.317810484091501E8,6.319301947607307E8,1.999542509355861E9,8.08992526949669E9,8.817390849810804E9,-7.545385646738339E9,-4.575895367946623E9,1.3213151212472798E8,-3.0029173894658427E9,-1.8259138382037735E10,1.557940799127373E10,1.4972392801069624E10,1.891376413050469E10,6.084849495590578E9,1.1920633475101628E9,-4.155289534919338E8,3.715958555674897E9,-438767.17524456437,-2.232684624446849E9,-2.161309731077319E10,-1.6970821320481783E10,-1.1150701732796595E9,2.233577444949256E10,-1.285517320325374E10,1.135166495764148E10,-1.3521588521103834E10,-1.6116032178617218E10,5.686543547408843E9,1.433219701696093E10,-6.009381124602232E9,1.1260999517212507E10,1.2338067332535536E10,5.497790878259237E8,-1.566628763038887E10,4.882344169578917E9,8.017105389250178E9,-8.570863418878827E9,-3.429719029582634E10,4.587331388737706E9,6.3821916066058855E9,-8.122174119431879E10,1.9916366273041496E10,-1.5435759514555235E10,-1.898207498968337E10,-1.4226464718878822E10,-1.8959710360894496E9,2.3883504285775455E10,-5.91036554899801E10,1.4174191075993788E9,-7.223703951060132E10,-6.49652763162729E10,8.763077918258963E10,-6.503845654811032E10,6.7428813556798615E10,-2.5254222238570495E9,6.083503802553339E10,-2.1062954993029346E10,9.518567369928186E10,3.833772495870208E10,-1.0324453180649518E11,3.257406170920892E10,-2.6698294918305733E10,3.3463623194678403E7,4.7428926271171814E10,-2.5494475314728245E8,5.19643349437642E10,9.887163467664598E10,-3.1512042518557434E10,-1.3137573169018517E11,4.455044883268274E10,-5.7370888302949486E10,-8.056275903365986E8,-4.632621710789172E10,7.191876033868713E10,-3.2049338448433697E7,-5.2146494464899315E10,3.112668058141632E9,4.376836043947006E10,-9.361111625753145E9,1.023855230755102E10,-5.940531785127583E10,-1.2461026172884163E10,7.774256833065173E10,-1.0166708799884236E11,2.1200150622392387E10,4.999010304368626E9,-7.952129512840756E10,9.076413259916447E10,8.519567683670023E10,-5.106616308552616E10,8.027625305088478E9,8.142103238787767E9,-3.46324185378058E10,-3.835690359073192E9,-5.385852773393004E10]}]},{\"name\":\"series 2\",\"data\":[{\"name\":\"series 2\",\"type\":\"scatter3d\",\"mode\":\"markers\",\"x\":[0,1,2,3,4,5,6,7,8,9,10,11,12,13,14,15,16,17,18,19,20,21,22,23,24,25,26,27,28,29,30,31,32,33,34,35,36,37,38,39,40,41,42,43,44,45,46,47,48,49,50,51,52,53,54,55,56,57,58,59,60,61,62,63,64,65,66,67,68,69,70,71,72,73,74,75,76,77,78,79,80,81,82,83,84,85,86,87,88,89,90,91,92,93,94,95,96,97,98,99],\"y\":[0,0.14154004176117707,0.6379398556750555,2.35053667738656,2.935404133465354,1.429156451765969,4.011647188464867,3.801556463783983,7.809965284987335,6.706075947403149,5.723314502440767,10.428373645291446,4.6145182774973925,3.2957660203408983,9.546958777372684,7.5033400372635946,0.8802713465309697,10.532051913416582,1.0254011820559261,2.4195324137149425,9.978485530741253,7.131705313327222,11.262616374844052,21.423856028393956,15.590183025194863,4.154967406823381,17.770865915357206,4.050671489551381,0.7264693794530737,17.785043009653965,10.643814643674318,4.846852145987732,15.501335498225288,14.964257376686739,19.009456783341037,10.115898859085126,17.715261560729573,13.453856930095789,9.55944654340124,30.893117951507303,5.449531009410098,0.3863844634326943,37.20436280919265,7.445886825600761,6.547932466260559,1.1041812264083284,2.8175121246575223,39.522736028243386,3.324447649426846,26.274823318064897,25.853137400336802,49.602312271771076,15.332563063518437,6.194216107128,7.608268307472748,9.768271928182145,9.814117435034452,17.080676348132833,19.291039879162568,39.808856495774045,29.762929222889795,5.278523189531848,1.1119765789551372,23.960138464847315,42.64102654334575,12.877634346348344,55.578649432011815,34.62999184104999,45.922981895040444,11.565940005516572,41.298099626296896,6.7053601005392665,30.066692870823616,55.81503347805816,50.1256155774575,66.90878064087786,22.46698720973784,50.004957254889995,49.69280907829181,29.38097101440296,8.69157437673505,49.07271457328215,72.45238144560601,24.474937122307235,9.077175699721021,14.970253009669776,58.64165709239297,58.903285638262744,66.82717930259665,2.8914462429074588,15.24176237983404,11.134346140558366,17.350758559211837,89.12416699566332,45.34425994595703,47.5342448631885,48.967203601404094,85.75260271457564,51.58220955893068,39.45131518233727],\"z\":[0,-6.412515077144644E8,-1.7123956181113207E9,-1.779472353669798E8,-3.969920572686386E9,3.8967415112320533E9,1.1042168969482023E10,7.659063719887092E9,1.397967198325379E10,4.203568334047716E9,-1.0727451775926014E9,-8.017878836397431E9,2.604538198661023E9,1.0378767875727308E10,-1.334797308793232E10,6.493916197825609E9,-3.6616571904783554E9,1.0005463271507175E10,-1.1620007708698149E10,5.103974690491516E9,-1.7247423364981136E10,3.875057150499931E9,-1.7404362009048435E10,-1.4355820113253609E10,-1.5074904335359924E10,7.008190576015537E8,-1.0604312141269356E10,2.1327123813240924E9,-3.70411832115855E8,6.764117606788156E9,-1.783851530333907E10,2.2875051551251102E10,2.6177205014258213E10,-4.4410200497324165E10,-3.417767388949739E8,-2.3869985562132893E10,5.443157536539749E8,-4.587273188097951E10,-4.7506692239115555E10,1.3021821419903706E10,1.627809341273155E10,1.8347251989750828E10,1.9494432243474712E10,6.881270623889522E10,3.5163458056446144E10,5.41315253734785E10,4.481598154714737E10,-4.488471476188789E10,-4.575124519635001E10,-3.090234694697677E10,4.37919979500122E10,3.47405333832617E10,7.15318032942078E9,-4.856886703682159E10,2.1821516201273594E10,7.346172147416672E10,5.7172283335059296E10,-7.007613010450577E10,-1.3525674441243792E8,-3.207365895612152E9,7.448486923637778E9,-1.1850652168497913E10,-3.247618761300434E9,4.615285378731108E10,-6.827923582819823E10,1.4242101586971403E10,8.648513765176687E9,-6.747651200177381E9,-1.1911281134231929E11,1.1086874754594362E10,9.452933848536865E9,5.967877143826375E9,-2.948105365915816E10,-3.676377128345687E10,-7.574111825595149E10,7.690337218447705E10,1.5465920733706808E10,-5.23077144388018E10,-3.640755256259252E10,3.9586813304075226E10,-3.467162567523275E10,3.761223998580462E10,4.8233877307826675E10,-5.526611704649851E8,-6.221829191046809E10,2.8840971445334496E10,-3.3516957957014576E10,-6.638966183727783E9,1.5980825320526462E11,3.2151658556275433E10,-3.4578707931975784E10,-5.011470083465234E8,-9.540392631443307E10,-7.286630023931491E10,-5.201672893436289E10,-1.871048810295304E10,1.3051911036695997E10,5.185320680127264E9,4.1814600058315506E10,-1.0034242107752844E11]}]},{\"name\":\"series 3\",\"data\":[{\"name\":\"series 3\",\"type\":\"scatter3d\",\"mode\":\"markers\",\"x\":[0,1,2,3,4,5,6,7,8,9,10,11,12,13,14,15,16,17,18,19,20,21,22,23,24,25,26,27,28,29,30,31,32,33,34,35,36,37,38,39,40,41,42,43,44,45,46,47,48,49,50,51,52,53,54,55,56,57,58,59,60,61,62,63,64,65,66,67,68,69,70,71,72,73,74,75,76,77,78,79,80,81,82,83,84,85,86,87,88,89,90,91,92,93,94,95,96,97,98,99],\"y\":[0,0.07317467929332333,0.031330312758006684,0.40013864074746863,2.227564015618512,2.413738677572266,3.0704093225301623,2.061495240393744,4.969345229555257,2.6157812183951847,9.09376359901916,5.697658597676068,6.939304771091209,1.0818671349143232,6.046855334146697,2.104868610195387,14.64381291284513,11.539667600766508,11.188788382103821,14.718868223033185,3.63582326859873,20.770395483239366,3.0394189185591274,5.326805369684286,8.203051581880768,5.811383455958436,18.571336161977207,13.933589626197573,21.828443031672958,16.2180341373443,3.125620478974259,12.579355672545107,27.41062580994568,1.5582698511823958,27.197279950771943,5.478920239062809,22.22911464508101,16.935640877822703,0.3759203351858811,37.08846868336452,9.233770188608052,4.245480996628336,37.58948975477898,34.84926861530409,0.680372503223194,30.311822528749047,15.633925465574595,38.66287324326956,21.674249365078477,43.28133618934838,30.029129825492934,35.86712843366124,21.071544313595716,19.914201443388656,0.7719766494904756,49.857298591129684,50.67311374538805,21.960667273362912,33.809992834006614,42.78178061730837,11.979002802468177,17.8960159647933,40.28492500190428,5.187188697285116,32.20214662676668,23.155831773776523,5.0436601290577325,0.34306372640338556,53.01825768652254,38.91771251699574,20.83487105119488,6.492079487488794,11.904802802959988,58.66506362847862,28.253277086293437,47.69740544161433,10.145681507577013,18.493213126603486,59.10968172220512,36.54481824832993,24.89941009462018,8.62781897942678,47.743747811382505,76.95326235886611,78.39765068248921,76.17051679046405,70.10805836798306,0.003780007897839166,24.607455730864412,25.916793015104798,85.48613330950947,74.26316246282533,7.804910542194808,2.4563014273726833,93.71396002901946,55.805253268815186,79.71972618056375,27.916277112971848,75.00404709462876,31.269481823345235],\"z\":[0,9.848555587397447E8,3.7736185595127803E8,1.147679164850972E7,1.1568492523005588E9,5.908978742450436E9,-1.1162628787902271E7,3.130127803783956E9,4.741240018264629E9,5.636554962641064E9,-1.7222774874691307E10,2.9002081869639645E9,-9.770590178770485E9,-1.159658672167255E9,-3.555214925242548E9,-1.9189456592947388E10,1.2536092186825226E10,-7.601565592109922E9,5.819466470785713E9,5.258214553595892E9,1.795009080934404E10,3.1030776440229187E9,-1.0375682714331615E10,-6.915940193234301E9,-2.0940001506047123E10,-2.232499721877811E10,-1.0426066804671425E9,-9.562028800915695E9,1.0732828368237847E9,3.722592176193437E10,2.6719713144342125E10,1.7255307030667546E9,-3.717117797774676E10,-2.7756168659862324E10,6.036830452245889E10,5.492870026741817E8,-3.8784270989187965E10,-8.391489303161964E9,-2.4916567492388315E9,2.1790184181574127E10,-4.0288744603802475E10,-3.504819597529172E7,-2.0119139379061413E10,3.4878594602790875E9,-4.7039186278064095E10,4.204269756806498E10,4.748903379403069E10,-5.617759542643493E9,-4.4568902138060715E10,-6.440357188752586E9,3.554365146676532E10,-4.2352954868598694E10,2.6433267461616837E10,-2.159210064039706E10,9.454125612756891E9,-3.718064312786595E8,8.366754701137079E9,-5.327872670300996E10,-4.7823797348039116E10,2.4688725672146983E9,-1.1921669517018321E11,1.9622930153150383E10,3.228775267078458E10,-1.074694235263414E9,-6.425271893217053E10,2.9945853579425026E10,1.7720478015174213E10,7.11103628815789E10,-8.593828443860085E9,2.156111791429829E10,4.032458293740763E10,5.441151601832679E10,1.1205441999017426E10,3.7364379908663025E10,-1.4973376671455994E11,-6.995086895013748E9,9.66275182739262E10,-6.306726834390578E9,-5.832059850726995E10,3.1306523246148727E10,6.522705619430494E9,8.194725237891678E9,-1.2909874153745299E11,3.4478167824224045E10,-3.8444592851504875E10,-3.2174469870785685E9,-6.074954713524918E10,-6.823499041372497E10,5.597867823995378E10,2.385816779939526E10,6.357906242941527E9,-1.1020419414582765E9,1.8711592173005545E9,-4.1291946707268586E9,1.9801731832675133E10,3.729540030968102E10,9.158517045129967E9,-1.8575476348140366E10,1.805617738833028E9,-3.5793829395041556E9]}]},{\"name\":\"series 4\",\"data\":[{\"name\":\"series 4\",\"type\":\"scatter3d\",\"mode\":\"markers\",\"x\":[0,1,2,3,4,5,6,7,8,9,10,11,12,13,14,15,16,17,18,19,20,21,22,23,24,25,26,27,28,29,30,31,32,33,34,35,36,37,38,39,40,41,42,43,44,45,46,47,48,49,50,51,52,53,54,55,56,57,58,59,60,61,62,63,64,65,66,67,68,69,70,71,72,73,74,75,76,77,78,79,80,81,82,83,84,85,86,87,88,89,90,91,92,93,94,95,96,97,98,99],\"y\":[0,0.1836557337538498,0.015425310815561977,0.8150178018946685,1.8227884751459893,2.4293889736810774,1.7532152084884753,4.704956460584687,6.956211105989667,5.775167670556022,2.3305353497089776,6.669221613702552,7.948453202090926,10.632726395645836,13.87489811534555,14.786392399363425,4.499255338939681,0.7265784065930748,16.947760912574427,18.791636772330524,7.283188858855041,10.277414502544191,14.53269728033006,3.776779349302669,16.04922069173756,18.98720183358136,10.544163162192767,17.90054535650642,25.24469345430638,7.186296538241761,14.495612473006174,26.657289335120264,6.139406588415319,21.372030828356692,1.3670961364300425,34.264227162901335,3.8131534862121437,24.585031369192404,8.89898328114173,9.711581509998988,1.6679483512185556,1.883966228738092,18.76014840216139,23.22705552170819,24.584159314357496,4.841551559928934,8.545779044515509,18.585766139065,33.70795296040449,1.74439629458475,29.601969813688108,44.099098804987975,34.38574910575996,20.286678829427792,0.5014006329589127,31.49092849329656,9.199888996182649,19.252754838066775,52.85672197911493,0.46734825970923666,51.65832309959148,33.2365037637076,36.3057061573455,6.856319312224767,36.09995125949157,31.095627951080328,24.18486671573429,55.98665019498676,43.04614368729939,43.83714718769199,61.875999148077454,40.74132613808381,69.80813492184882,7.2260609831566684,55.31304354780475,66.7084861777391,4.899166609465519,26.8524890908616,24.924727819979193,29.314315952407963,22.94975031804512,43.93362306161107,61.61175153359866,3.0056618021101102,11.633917669659157,75.01549025832952,21.465582154260186,4.7064699444415545,44.83410364302239,8.225874325275862,56.07957368245948,31.15105066710601,6.152167456633423,44.063693276725495,48.731771592270434,88.54870109567858,75.16408897927214,48.14181328013129,38.6826693144782,85.60847633052366],\"z\":[0,-7.549179411346928E8,5.295828697855074E7,1.7959994849759686E9,3.637549579678566E7,-1.8438714128172872E9,2.153117531641475E8,1.9502200810720658E9,-1.419884873354215E10,-4.642540368659325E8,-1.148979702913561E10,4.133870500034108E9,-1.785312096523758E10,-8.709635593708218E9,-9.896935859586477E8,-1.7085793506576323E10,3.844764788035353E8,-4.1540705981917157E9,-1.069901840024802E10,-4.210467370312425E9,2.686133548342188E10,-7.730695276345367E8,-1.1030767518383038E10,-2.334820268312348E10,3.3499425210107586E10,-1.1762171360775013E9,2.3828169826879525E9,2.3467820250445123E9,-2.182606246157341E10,1.7152821934992834E10,-4.694001013385304E9,-8.422866991653104E9,-1.1934506977034851E10,-2.906526207692709E10,-2.072801609658587E10,2.3870502564621323E10,-8.066027996573989E9,8.305989986410578E8,-1.3908684548327026E9,3.4948327932024664E8,9.676579851308191E8,-1.677200733590487E9,9.699528977842377E9,6.7862630472870035E9,9.463437408949799E9,-2.8715751406481945E10,-5.794183163836716E9,6.071704321561569E9,-1.171040651400204E9,6.64204376844436E10,-1.5938347833544691E10,6.436581521426073E10,-1.7077321944381916E10,5.3467614889988205E10,8.62571959499413E10,1.2307366166998663E10,-5.846718401081888E10,2.3535302939031284E10,-1.0864200770018304E11,7.871724039856805E10,3.592170069446108E10,-5.181037676096946E10,3.329018382693594E10,4.787084151679131E9,5.230355042993305E10,-3.2829546838074665E10,2.303476558220802E10,-4.12567651080119E10,-2.3106049815948387E10,1.7702415574719078E10,1.0276548277513103E10,1.0817377078595317E11,-6.162211935519301E10,-6.791641275718255E7,-9.081650946159609E9,-8.036905362200073E9,1.6482416634906874E10,1.970992078771489E10,1.3071673131672217E11,-4536255.248765401,3.2877909984131866E10,4.2610187848129387E9,3.031688751929599E10,5.492974138331703E10,3.788520319495199E9,-8.867023028277386E9,1.0847770212101201E11,8.409349709165427E9,2.2464019605439915E10,-5.2958471515525604E10,-5.4571872011435104E10,2.3914757968509983E10,8.710156378712233E9,1.3933743344981253E11,-6.802411710756025E10,-7.649416681495158E10,2.4072881324041395E9,6.7363550688104355E10,-1.280436258257924E11,8.901113935630185E10]}]},{\"name\":\"series 5\",\"data\":[{\"name\":\"series 5\",\"type\":\"scatter3d\",\"mode\":\"markers\",\"x\":[0,1,2,3,4,5,6,7,8,9,10,11,12,13,14,15,16,17,18,19,20,21,22,23,24,25,26,27,28,29,30,31,32,33,34,35,36,37,38,39,40,41,42,43,44,45,46,47,48,49,50,51,52,53,54,55,56,57,58,59,60,61,62,63,64,65,66,67,68,69,70,71,72,73,74,75,76,77,78,79,80,81,82,83,84,85,86,87,88,89,90,91,92,93,94,95,96,97,98,99],\"y\":[0,0.25494719979490443,0.4127877729895957,0.21454905411115077,0.25474400337559633,2.784309177136529,0.2861504865870794,4.231833713491159,4.412101051775554,4.006698773196543,4.990343905731863,8.574860447395812,3.7365486074914367,2.080517353071921,6.476809964820134,13.161921269816558,11.259113274390653,0.6559103521234544,1.425822369541841,3.3461145220049633,19.126289782284964,1.5452467658080882,9.392143831917352,2.752484132779581,9.683920157675153,10.514005272837808,7.394152918477824,19.70609993802929,7.453048371895997,15.295238209940573,23.744078222151433,29.64379771081205,18.21041042732847,28.5811893363965,14.802709132073566,21.351536344986016,23.414568654612054,3.056165594220026,6.325366480139636,19.603681852132926,34.469648627752576,30.755492213130275,25.396959237616045,18.05007902493356,21.042290768847966,36.41622111664287,10.882660747611851,28.251439062609926,26.093697036406304,10.276284531997836,11.097126790146572,23.853443975106266,18.707625213378634,12.229957420373502,50.26917090163902,24.264926023101708,33.43675197824078,25.608825287645256,35.60051647612469,49.115691823427916,33.00411969587531,21.378921321266507,41.53657714643381,59.46481051243301,57.03326293221568,8.476370616913496,54.53418381700127,48.460716480447886,26.290200883436253,22.595628978898382,11.375869784173215,38.170052356603975,30.952709486440572,39.24640361421692,24.19260114036428,66.84298013970941,69.92714851897222,47.557425118701964,37.066775277144814,16.21864794870699,77.4606917859974,37.37750588122851,35.64501491912581,7.845532617577188,12.49697048729928,54.95676413697469,29.84544039068104,81.04770039967913,46.646011623601574,88.13343468242216,51.74713307029033,79.35937436201462,47.534857730119604,30.754461969742966,91.35004344590587,88.22681755185563,58.923413414467404,63.27093149810484,69.34182237535855,12.788182241566448],\"z\":[0,-4.358957575840977E8,2.8064928642873764E8,-2.9987839474808806E8,2.608139222148374E9,2.2355141106303678E9,-7.624982106297328E9,-1.7946524463868713E9,-2.2846822401744943E9,2.1348057734208872E9,2.6924583656121737E8,1.795532025994152E10,-2.2483919471881954E10,1.323619468917036E9,3.9546151872628508E9,-1.5506516782169498E10,-5.766773110518767E9,-4.0739499634486027E9,2.4096057378069294E10,-1.6428083054197245E10,-1.7667171279410194E10,-1.2128315106189865E10,6.58442509567349E9,-2.0116232667432545E10,5.406626906800528E9,9.744817954873918E8,-1.1816240259582876E10,-2.1263257638887222E10,-2.65089704346035E9,-4.1625853048132515E10,1.0969540693185633E10,-5.1140193285639E9,-1.1125106879474659E10,2.3704966630174038E10,-5.169773734838482E9,3.582392433657194E10,-5.113423240753552E9,-2.341995902205671E10,-6.5439610853018265E9,-2.2932959833426888E10,3.1234900084997845E10,1.2089947762599968E10,-2.5366804424679966E10,3.24131110603546E10,4.850193807635353E10,2.6090383673295654E10,3.0516968840174053E10,9.862909000563465E9,-1.7045907317248152E10,-1.752588348542038E10,-1.7596830949824266E9,4.500433801634212E9,3.3543618478907806E10,-2.5907816282909138E10,1.8439510724923714E10,5.393806393842745E9,-5.4428775329313515E10,3.8477539764974713E9,-3.482418250868992E9,-3.6491373743415146E10,1.804094689591191E10,-3.0403091527929184E10,2.2740840447855183E10,-5.7662106111578835E10,-9.95640073806057E9,-5.425605419226198E10,4.934076222668657E10,-4.7286391500460935E8,3.473063332268764E10,2.1696509844235935E10,-1.5868805094210468E10,5.225503381572669E10,1.010222830482291E9,-3.282528565717865E10,-9.697984819628035E10,2.837786649962868E9,-1.2999460839863954E11,6.462048780630984E8,-3.518098508165965E10,1.1845925575692062E10,-2.9503540624903545E10,-1.0787441703872017E10,5.2158375583146E10,1.0061971480924275E11,1.841194884823049E10,1.0109848624083246E10,1.0240386312496416E11,-6.225955080892131E8,-1.2471051634110682E10,-4.530924582323495E10,6.09504564185898E10,7.052894432031541E10,9.7863037923284E10,-2.263160299676708E10,6.346073284289833E9,6.6956024232491066E10,-1.1728996591420912E11,1.2331776082050948E9,1.0186431590751303E10,1.423084712096904E11]}]},{\"name\":\"series 6\",\"data\":[{\"name\":\"series 6\",\"type\":\"scatter3d\",\"mode\":\"markers\",\"x\":[0,1,2,3,4,5,6,7,8,9,10,11,12,13,14,15,16,17,18,19,20,21,22,23,24,25,26,27,28,29,30,31,32,33,34,35,36,37,38,39,40,41,42,43,44,45,46,47,48,49,50,51,52,53,54,55,56,57,58,59,60,61,62,63,64,65,66,67,68,69,70,71,72,73,74,75,76,77,78,79,80,81,82,83,84,85,86,87,88,89,90,91,92,93,94,95,96,97,98,99],\"y\":[0,0.5330957765871693,0.32045819511496654,0.14994149288048098,1.3962378834896478,4.560365274916023,0.6589760305461556,4.072383892995271,2.6122224358391284,3.7979087377751832,9.781140787483462,8.494474250149286,0.77907760199933,4.2325365779432,7.765243046920933,4.5528228260204955,8.634153170262387,11.513260694460739,8.89364969343234,14.155411660929007,9.62887751336293,5.950192536281146,12.979485056213901,4.081413145167306,23.806596893487395,11.852879278019715,8.06521720201942,17.535364607252,12.312192817674596,4.318768971314289,11.245554527851601,28.782489623106876,23.029043278931084,14.51411836160031,15.48717317966458,27.37868687949381,27.757843183317387,9.39397857519223,24.84808276575225,12.993074211441257,33.805907248118146,36.93481267187201,11.689847438058774,37.15301041156284,17.094823319612964,44.552954244681175,26.576479366151396,38.67120262683578,27.16875842297294,38.70432866345771,25.814564932504062,34.29185403363685,20.0452613429093,14.95583121899958,20.260068551616072,36.4678059435287,5.94516271548243,12.336294099282826,55.3483298943678,33.403276595370826,6.818034227317183,34.76524083872169,25.544972739753902,56.817132711610455,46.49472433344098,62.07048734211333,21.816806531107424,14.549561614370852,31.49865336032176,46.79121931256499,29.533345043823502,37.40069135371542,10.282953961133357,25.8713707227663,29.681206933631714,8.70291442074711,62.18099680878284,15.728981644479088,73.65555956618597,41.339693889170356,75.91354114911863,34.290737337556806,26.43468281994746,55.4821437831585,34.33654033424066,25.65706412275325,21.89596045909753,67.47097622319043,78.48966353395592,8.361964163929072,68.64383618795283,86.27531710829479,3.1666404352731674,91.96330708554031,30.24278459659917,0.061389058880760294,9.424923804088507,89.19334814840458,39.43094532006192,41.85338106245678],\"z\":[0,1.971206074081889E8,-5.485303728165181E8,-5.609361793677589E8,2.773114114566883E9,-4.529811570222742E9,-3.95139659682143E9,-1.2766855460589957E9,-3.76837445786963E9,3.309706256257467E9,1.4919328465210508E10,1.748428172725152E9,-3.142120643280392E9,-2.0429023898854349E9,-2.0255655950805387E9,4.477331065203342E9,7.779656344714693E9,-5.900450835255588E9,-8.387392350149162E9,4.1610709784801936E8,5.470692815879271E8,-4.2157168684395313E9,1.7391323013036102E10,-1.3596802685127724E10,-8.950469835141865E8,3.1104748513704357E9,2.197704082632726E10,2.845501778454097E10,3.1284239802845684E10,-1.0145954508143047E10,2.1327380230758257E9,4.547678969658754E10,-1.6046992376586006E10,-2.130284393694128E10,-2.184977727499572E9,5.568796504659751E9,-3.711263182338856E10,7.263505064391804E9,4.621409561257279E9,-5.179312177202529E9,3.629831208385222E10,-3.1025426448155674E10,1.7473352119079742E10,2.272194248051813E10,-4.962086493923394E9,4.373358051820476E10,-2.132520576341731E10,1.273176962019356E9,4.9021597743674286E10,-1.3471443764158106E10,5.796309082927098E10,-3.841227703534244E10,-3.6292557932547165E10,4.15945173997866E10,-4.750373944061583E10,2.087329086364669E9,-7.048585702000978E10,-3.067237848188024E10,1.1049595489533663E9,3.817403761012926E9,-3.5062893650991844E10,-4.322553989604156E10,3.9216270192443E10,5.593910170454492E10,-1.1607883850208023E10,1.699630158268574E9,4.221767657690229E10,9.715456986658243E9,-6.8050504682915794E10,-2.6514567136638023E10,-1.906232347635444E10,-3.335995918719374E10,-2.4691379263187695E10,-6.0700671440901024E10,-7.942521663191801E9,8.235978164533249E10,-4.355777993141526E10,-5.1511377775361465E10,-7.976989662924226E10,1.389014703793737E11,-2.320768242183579E10,1.5490918932249567E10,5.14736879588999E10,3.6879860202123585E9,-2.4899293701151802E10,-1.5574622144382632E11,-1.0942513855095968E8,5.406833019699477E10,1.2808918949158566E10,2.3431489365677986E10,-6.733980652273854E9,1.5510462379815485E11,3.0067064845440914E10,1.7449906328375675E10,4.362881486149136E9,6.375553719521662E10,-1.5183048797290085E10,-6.166055041082025E10,-4.4528260927293564E10,3.3556941677764156E10]}]},{\"name\":\"series 7\",\"data\":[{\"name\":\"series 7\",\"type\":\"scatter3d\",\"mode\":\"markers\",\"x\":[0,1,2,3,4,5,6,7,8,9,10,11,12,13,14,15,16,17,18,19,20,21,22,23,24,25,26,27,28,29,30,31,32,33,34,35,36,37,38,39,40,41,42,43,44,45,46,47,48,49,50,51,52,53,54,55,56,57,58,59,60,61,62,63,64,65,66,67,68,69,70,71,72,73,74,75,76,77,78,79,80,81,82,83,84,85,86,87,88,89,90,91,92,93,94,95,96,97,98,99],\"y\":[0,0.946330424200557,0.01409193876349435,2.6849758352441113,2.0883391426222424,3.0358989575151063,3.702854069000473,6.158579447159498,0.3397660575867887,7.132788382196667,3.638006765261447,3.8675108870110018,3.030458759762735,7.657019428193017,2.8191093531797593,6.825029662375275,11.101684716348723,4.430400338499665,16.225331232101347,9.5710974408939,7.912841107407402,10.784522202571917,17.747230755064244,22.60324926900922,18.007706127781734,13.14611894735543,3.3296948933410384,11.94987907986723,7.803235414435578,23.529499563925377,19.375997388668043,14.183330319977134,3.5721374681929987,23.078661020328724,31.567416907688237,23.494396808932773,1.1500513992410433,16.799736780720284,8.080014965421384,32.68422241850991,8.70535475091228,34.15762947071788,37.97996715963742,29.324109095907918,17.914533158694823,8.529043690779474,11.601308140300958,16.138442127822547,3.2385728280598265,2.8576526091060153,6.205071896434388,8.130773992008619,14.946020028515784,28.495796652480866,52.43657090988863,29.348109452431014,30.326236242701825,38.39094467157705,0.2879973410114143,40.713611417355985,10.431841777975475,29.734128033715464,20.686620184522656,11.303217871966519,27.93255039748331,16.181713627602335,19.71456416842474,7.047172562726398,12.50337944213694,6.041156488154208,38.07460479063669,12.353072660938526,62.858716482880524,4.625835512223213,29.99742114268523,62.82281762455959,26.32985600031674,28.583701626847567,4.589487897886773,78.32179719526782,79.01740024823997,35.63920061692128,39.89714146329474,76.40473217730579,19.281372922829178,26.107880074899416,62.96138152456857,38.75883780671581,5.9109832246401535,70.99816662373614,9.109663375603402,46.141400685473464,16.992757785629035,66.75501486853108,87.92524115449886,71.51538192130286,51.52013912637868,46.975533211038716,33.00164249095425,3.9734485498851217],\"z\":[0,2.5740190780844104E8,6.103599147755861E8,-8.959238171528473E7,5.098897193446417E9,-3.4283401492796617E9,-5.867134598560929E9,6.399036150403341E8,2.1375788883391917E9,-8.131981293476439E7,-2.2124371600858906E8,-3.663480074706109E9,1.079073104581884E10,-6.5654903151287116E7,2.5750286963111115E10,1.4707790599708296E7,4.569039138196828E9,-2.5588466602895865E9,1.070782477855415E10,-3.738805440546415E9,2.5052456099483025E10,2.8851409198690334E10,1.3873933313551819E10,-4.1934997080782995E9,-3.265101790027442E9,4.16619997977889E10,2.464859815904838E10,1.2965198977170364E10,-2.491265686011824E10,1.566922668868779E9,8.74601349248808E9,2.258924375937308E9,-2.710382932169661E10,-1.448097825732763E9,1.7725473807479736E10,3.384028991675688E10,2.6032908862458927E10,2.049418452728118E10,-2.2901282157466686E10,-2.916146173211029E10,8.007104375130751E9,-4.1077413592986E10,-3.865686054422379E9,2.9633610831941486E10,1.991868587494511E10,2.016645616580698E10,-2.6165547606841995E10,3.3633885414853123E10,4.1433969700338078E9,-6.4281247396395615E10,-2.862681245473751E10,-2.693104246920471E10,1.0338400985554592E10,8.020471639327304E9,2.0840176958242626E10,3.566287443998885E10,1.6850497835893682E10,1.0685904905439856E11,-2.2112404382766052E10,-3.3421622543921787E10,3.30565234976616E10,-3.0305595746126823E9,-9.690812321176825E10,4.5947953733841805E10,3.299920567651697E10,9.078905476443008E10,-4.155815154212666E10,-2.6589899134864067E10,2.606008694609874E10,2.000502444509246E10,-7.973789470068298E9,2.2622666142598473E10,-9.959875412690108E10,-3.448702250463877E10,4.23538732701784E10,4.129425286568029E10,3.31244553896202E10,-3.2180482579471645E9,4.021654059170973E10,-5.142064352883741E10,3.684239408787528E10,-1.539083931424232E10,-9.938395451632211E10,-3.014161575124555E9,7.15633075433698E10,-4.1523974900374725E10,2.3363161522768513E10,-1.473508012020405E11,-1.800023104041632E10,-8.61622561341924E10,-3.863415308356771E9,2.1032532170454334E10,8.867424451908563E10,1.2895215028213956E11,-3.8017830565723526E10,-1.914027846374052E10,3.2067411282702534E10,2.47030578176282E10,5.802529044237779E10,-1.952151309598157E11]}]},{\"name\":\"series 8\",\"data\":[{\"name\":\"series 8\",\"type\":\"scatter3d\",\"mode\":\"markers\",\"x\":[0,1,2,3,4,5,6,7,8,9,10,11,12,13,14,15,16,17,18,19,20,21,22,23,24,25,26,27,28,29,30,31,32,33,34,35,36,37,38,39,40,41,42,43,44,45,46,47,48,49,50,51,52,53,54,55,56,57,58,59,60,61,62,63,64,65,66,67,68,69,70,71,72,73,74,75,76,77,78,79,80,81,82,83,84,85,86,87,88,89,90,91,92,93,94,95,96,97,98,99],\"y\":[0,0.65097411547831,0.2786748641987633,2.2528922758033034,2.065978170009055,3.9691415301782063,4.935695014006997,1.7296650994858105,7.973479343698031,8.671506310955143,3.4214200550684337,9.76377001359623,4.7096149872689175,3.6416960885544496,2.6632752894013203,6.350980675056309,7.188179273632377,15.41045228731591,17.74980832397619,4.6324848574730915,6.817233831359264,4.289285879089429,0.41447342049271185,3.5754157525672277,3.585024046498316,10.916235284055883,5.682813452857426,3.58487001001869,15.260761978739447,4.07085508378341,7.670194610172162,15.248794993372755,3.8468248383674997,2.609734242224552,31.35609645536079,4.178846733376358,10.86913461502586,18.965616360801246,26.035012738900715,3.8946939320503993,0.7028276526799049,15.092659180541443,13.303166298024566,14.156271876254197,14.150830609813907,35.27747186582287,37.13460148166222,22.328184408257794,0.1736166409921598,20.120348511140232,17.07970036745708,48.51278821556421,41.25925852217538,42.47351578466784,53.13381326655293,22.563502432441744,8.673842729213163,11.45332370843795,49.62350829090836,36.93753032923328,48.99345979962143,3.070990954186744,0.7928971124864339,33.917506568761,8.140276786169515,36.80198079990932,61.89261773690696,44.2745454371488,2.8766214988226517,56.787043962866065,37.729324013124526,1.2107773352139501,3.602650737775921,63.578751946495835,61.07396081891064,19.65778405764385,47.60487154819859,42.665637837489555,75.30270317826024,52.96821294893888,69.86477538068635,69.67211027823834,22.405145502844857,18.971515118310762,70.40883842750357,70.39598241312672,66.29027618034605,13.52096552407971,56.213418869753944,23.956755931827537,33.40178503119063,72.28801151725857,85.12046256728408,75.53682483329318,37.27046596204829,91.91161234454702,38.32241497109338,7.754357975579328,10.032884032357423,55.9343919021284],\"z\":[0,-4.3668981182260776E8,-7.385673813789675E8,-4.689909144612735E9,-8.162517384281832E8,-3.6156309413793755E9,-4.285624128645103E9,-1.5958921728238468E9,3.4792176210232587E9,-6.157492425545239E9,-6.521444395215502E8,-1.09025940594726E10,6.525563956339508E9,8.82973991150099E9,1.8004193713445805E10,-1.988853142015277E9,1.6743879434078184E10,-2.4520655681784042E10,-2.4821360121062454E10,-3.146542957303582E9,6.860607672889464E9,-3.832064065244597E7,1.1950625573539555E10,-1.8956457738115658E10,-3.690029759544686E10,2.5914538647456884E9,-1.7420208435372913E10,-2.8989195962733124E10,9.490325690036758E8,-3.0703239948368538E10,-5.092302808367286E9,-5.313626805682267E9,1.4933151558811956E10,2.767925604697194E10,4.84235852046609E9,-1.689473249091428E10,2.880849906436039E10,-7.496979060154989E8,-1.0168877475887812E10,-2.275700749015418E10,-4.2780547917846365E9,5.073215447646246E10,4.92573000254557E10,-7.171518738133873E9,-1.7070274651112537E9,5.148131656045205E10,-1.85945987990611E10,-9.82875974048495E7,1.1497502502753966E9,-1.2707362963571693E10,-1.581415867327288E8,6.957713116488045E10,1.6323827663147774E10,-1.2552720594993784E10,-2.7220635188511495E7,5.990297208869028E9,3.647063071777783E10,9.221189701543614E8,1.0136959992432526E10,3.371838391913441E10,-1.1688802602575705E9,-5.8281767855843285E10,-2.774594709441059E10,-1.1271703060410387E10,-6.260979812536906E10,7.166049648110022E10,1.0930628625785269E10,-1.4805144829371939E10,-4.9177510142741135E10,8.150335742462274E8,-3.707954298273676E10,1.4523653650750671E10,-4.125748128448832E10,5.216103985595273E10,7.209216783649248E10,6.106798180230856E10,2.7528838908585106E10,4.691649105556592E10,-1.062732553207934E11,4.4101533145288826E10,-3.7031262700328174E9,-6.611291330561906E8,1.184951931711388E11,-3.8929368803403465E10,-4.40632179712321E10,5.263620882503305E10,-1.1657416671273163E11,-3.4093319079042324E10,4.457788402913348E10,-1.214515645960788E11,-1.1965452786085743E10,4.793532921474473E10,-1.5409941197487669E10,-6.404052614189158E10,4.6962580344344955E10,-6.297487497734623E9,-3.947705434025527E10,1.5137788542743046E10,1.376557334600371E11,-9.062655147586832E10]}]},{\"name\":\"series 9\",\"data\":[{\"name\":\"series 9\",\"type\":\"scatter3d\",\"mode\":\"markers\",\"x\":[0,1,2,3,4,5,6,7,8,9,10,11,12,13,14,15,16,17,18,19,20,21,22,23,24,25,26,27,28,29,30,31,32,33,34,35,36,37,38,39,40,41,42,43,44,45,46,47,48,49,50,51,52,53,54,55,56,57,58,59,60,61,62,63,64,65,66,67,68,69,70,71,72,73,74,75,76,77,78,79,80,81,82,83,84,85,86,87,88,89,90,91,92,93,94,95,96,97,98,99],\"y\":[0,0.36970945388021936,0.1729368085372236,2.2540647952954287,2.518560156032812,4.4911535727965,5.235656810960878,0.7399867162869473,5.81695169679339,0.7058784724384508,2.405846781259242,9.781801419645285,5.529354375322971,0.2741154175137682,4.8320440727329395,6.622975775269672,1.9997346150922901,8.692346877808616,16.663472789997098,10.051484420797014,1.8129577813333486,2.9805075424584704,19.119309400996062,2.760217218530809,23.83684529289833,22.600133055971508,7.035583245089105,9.289704878517632,0.7454224214326639,13.943306293429243,27.50058024823548,17.438806042526945,29.861758910678496,20.107629584863524,0.5128539323354502,8.22822871748598,16.249629605745874,19.3580183160752,26.26685926135427,2.236114650616398,17.546699812056513,27.52179257106061,9.939759344991053,28.644475927683967,27.31806364300082,27.819416146389088,15.969189176651971,2.889918933895733,44.967770152559766,13.54924830780766,31.02561314913961,39.651985641349206,38.727398973275754,20.87083185586938,21.444429282625624,41.28739473977839,41.19485663257768,29.917596469102364,36.04218391327356,45.978653466351645,15.573330270640726,33.8663024946925,48.24805495779097,28.06079998055154,58.409732249477194,13.647222828024358,7.5862893409957355,25.47054289855872,44.50405402216891,60.94585711997799,20.997406732860714,56.277618071564184,31.005772615249317,40.273888122537535,28.535801448308987,19.059066153748464,19.780820047495336,38.42424886804502,34.8788089898981,65.71295999538332,1.1726967487348539,5.822409081891926,45.07747375497009,66.42930810824268,55.54397092018593,60.393402232913644,65.32195538504456,28.19202243726651,50.71977067171712,4.831718293816168,68.43501022813403,63.62731227735773,58.91290358757777,0.8388998566737706,24.59501620712494,92.49039161418982,21.140862506126616,27.231582000549448,77.67579300077897,1.8441054265716557],\"z\":[0,-5.885889919045084E8,4.2254013388832927E8,1.9743723472726312E9,-1.839493531763087E9,6.749474635489639E9,4.456102757562386E9,-1.5062405825611022E9,5.692591819823142E9,4.794275286862036E9,-1.3398912014180275E10,1.1729493689912105E8,-2.3776323167309566E9,1.9245584959281952E9,-9.25523146232798E8,-6.977703214032259E9,-1.8271956273831875E9,3.548118929939753E9,3.924023917163596E9,9.88730810467211E9,1.3989609162520657E9,-3.4985573742957106E9,-6.441674530258855E9,1.0888496385250435E10,-2.059923274898195E9,-1.751036638733272E10,-3.2305467983478973E10,1.6410365213687105E9,3.923931434369755E9,2.410852612168776E9,3.969613576487257E9,-1.5068308650603186E10,-5.162180962069495E9,-1.0834501173429655E10,1.368450377339888E10,9.962707221436617E9,1.7744868102695538E10,-2.9910482618517952E10,-2.7887534580001817E9,8.17650971994976E8,2.2427935641830532E10,-7.478300033334569E10,3.1026225355524483E10,-6.364284072370639E10,1.4869924614482004E10,1.6723057415302767E10,7.480297664352096E9,-1.6106515489026333E10,-2.9414962678296955E10,-8.205527538625417E9,-7.019198798094476E10,-3.180879168905134E10,4.916865008152076E10,-3.3122293710543337E9,4.22638255920711E8,-3.0055456999789387E10,2.1209686586497958E9,9.90952655604488E10,4.984756050330018E9,-1.2597713840341867E10,-8.796951747147999E9,-7.87629307910619E10,1.2828961099722223E10,-3.9280127979276024E10,-1.1389939749864093E11,-1.8230177603091557E10,2.6019812158047924E10,3.978181499225972E10,-8.187215475833952E9,2.822400837109977E10,9.027441378607565E8,-8.894405493787044E10,-1.1258654039130182E10,2.2654330430712677E10,-7.160937531725403E9,1.943361518000326E10,8.852560991305119E9,-1.109324397209648E11,3.9632933310514336E9,7.621913130971652E10,8.396342187950089E10,2.57748386066562E10,-9.648517016878664E10,-3.2380083824981737E9,8.270336868726495E10,-4.267054709151307E10,1.072209217712179E10,-2.2368366191039974E10,-4.051165239058263E10,2.608149333653349E10,1.1145601345611227E10,-4.815944483011671E10,-1.0745650890104988E10,-3.0981496271546806E10,-1.3766956969095996E11,-1.79421196755914E10,7.771987424702576E10,5.643488697977424E10,-1.3097625516026718E10,-5.836310823244454E10]}]}]\n",
       "var labels_8rUUkeeICT = [\"series 0\",\"series 1\",\"series 2\",\"series 3\",\"series 4\",\"series 5\",\"series 6\",\"series 7\",\"series 8\",\"series 9\"]\n",
       "var duration_8rUUkeeICT = 100\n",
       "var config_8rUUkeeICT = {\"responsive\":true,\"scrollZoom\":true,\"displaylogo\":false}\n",
       "\n",
       "var animation_settings_8rUUkeeICT = {\n",
       "    mode: \"immediate\",\n",
       "    direction: {},\n",
       "    fromcurrent: true,\n",
       "    frame: [\n",
       "      {duration: duration_8rUUkeeICT},\n",
       "      {duration: duration_8rUUkeeICT},\n",
       "      {redraw: true}\n",
       "    ],\n",
       "    transition: [\n",
       "      {duration: duration_8rUUkeeICT, easing: 'cubic-in-out'},\n",
       "      {duration: duration_8rUUkeeICT, easing: 'cubic-in-out'},\n",
       "    ],\n",
       "    ordering: \"layout first\"\n",
       "}\n",
       "\n",
       "var slider_8rUUkeeICT = document.createElement(\"input\")\n",
       "var play_8rUUkeeICT = document.getElementById(\"play_8rUUkeeICT\")\n",
       "var pause_8rUUkeeICT = document.getElementById(\"pause_8rUUkeeICT\")\n",
       "slider_8rUUkeeICT.id = \"slider_8rUUkeeICT\"\n",
       "slider_8rUUkeeICT.type = \"range\"\n",
       "slider_8rUUkeeICT.min = 0\n",
       "slider_8rUUkeeICT.max = frames_8rUUkeeICT.length - 1\n",
       "slider_8rUUkeeICT.value = 0\n",
       "document.getElementById(\"sliderContainer_8rUUkeeICT\").appendChild(slider_8rUUkeeICT);\n",
       "\n",
       "Plotly.newPlot(graph_8rUUkeeICT, traces_8rUUkeeICT, layout_8rUUkeeICT, config_8rUUkeeICT)\n",
       ".then(function () { Plotly.addFrames(graph_8rUUkeeICT, frames_8rUUkeeICT) })\n",
       "\n",
       "var trigger_8rUUkeeICT = true\n",
       "var reset_count_8rUUkeeICT = false\n",
       "\n",
       "play_8rUUkeeICT.addEventListener('click', function() {\n",
       "   trigger_8rUUkeeICT = true\n",
       "   if (reset_count_8rUUkeeICT) {\n",
       "      slider_8rUUkeeICT.value = 0\n",
       "      reset_count_8rUUkeeICT = false\n",
       "   }\n",
       "\n",
       "  const start_index = slider_8rUUkeeICT.value == labels_8rUUkeeICT.length - 1 ? 0 : slider_8rUUkeeICT.value\n",
       "  const end_index = labels_8rUUkeeICT.length\n",
       "  Plotly.animate(graph_8rUUkeeICT, labels_8rUUkeeICT.slice(start_index, end_index), animation_settings_8rUUkeeICT)\n",
       "})\n",
       "\n",
       "pause_8rUUkeeICT.addEventListener('click', function() {\n",
       "  Plotly.animate(graph_8rUUkeeICT, [null], animation_settings_8rUUkeeICT)\n",
       "})\n",
       "\n",
       "graph_8rUUkeeICT.on('plotly_redraw', () => {\n",
       "   value_8rUUkeeICT.innerHTML = slider_8rUUkeeICT.value;\n",
       "   if (trigger_8rUUkeeICT & !reset_count_8rUUkeeICT) ++slider_8rUUkeeICT.value\n",
       "   if (slider_8rUUkeeICT.value == labels_8rUUkeeICT.length - 1) reset_count_8rUUkeeICT = true\n",
       "});\n",
       "\n",
       "slider_8rUUkeeICT.oninput = function() {\n",
       "   Plotly.animate(graph_8rUUkeeICT, frames_8rUUkeeICT[this.value], animation_settings_8rUUkeeICT)\n",
       "   trigger_8rUUkeeICT = false\n",
       "   slider_8rUUkeeICT.value = this.value\n",
       "   value_8rUUkeeICT.innerHTML = this.value;\n",
       "   if (this.value == 0) reset_count_8rUUkeeICT = false\n",
       "   if (this.value == labels_8rUUkeeICT.length - 1) reset_count_8rUUkeeICT = true\n",
       "   reset_count_8rUUkeeICT = false\n",
       "}\n",
       "</script> \n"
      ]
     },
     "metadata": {},
     "output_type": "display_data"
    }
   ],
   "source": [
    "val series = createXYZSeries(numberToCreate = 10, length = 100)\n",
    "\n",
    "val layout = ChartLayout()\n",
    "\n",
    "val chart = Chart(animated = true) setTitle \"Animation 3D\" addSeries series \n",
    "\n",
    "chart.plotInline"
   ]
  },
  {
   "cell_type": "markdown",
   "metadata": {},
   "source": [
    "## IO + Utility Functions\n",
    "\n",
    "The library also comes with some basic CSV IO functions and a utility function for breaking down data"
   ]
  },
  {
   "cell_type": "code",
   "execution_count": 37,
   "metadata": {},
   "outputs": [],
   "source": [
    "import org.carbonateresearch.picta.IO._\n",
    "import org.carbonateresearch.picta.common.Utils.getSeriesbyCategory"
   ]
  },
  {
   "cell_type": "code",
   "execution_count": 38,
   "metadata": {},
   "outputs": [
    {
     "name": "stdout",
     "output_type": "stream",
     "text": [
      "/Users/fazi/Desktop/Final Project/irp-acse-fk4517/Code\n"
     ]
    }
   ],
   "source": [
    "val working_directory = getWorkingDirectory\n",
    "\n",
    "println(working_directory)"
   ]
  },
  {
   "cell_type": "code",
   "execution_count": 39,
   "metadata": {},
   "outputs": [],
   "source": [
    "// by providing a path, we can read in a CSV\n",
    "val filepath = working_directory + \"/iris_csv.csv\"\n",
    "\n",
    "val data = readCSV(filepath)\n",
    "\n",
    "// by default, CSV are read in as strings. However we can convert the individual columns to the correct format\n",
    "val sepal_length = data(\"sepallength\").map(_.toDouble)\n",
    "val petal_width = data(\"petalwidth\").map(_.toDouble)\n",
    "val categories = data(\"class\")"
   ]
  },
  {
   "cell_type": "code",
   "execution_count": 41,
   "metadata": {},
   "outputs": [
    {
     "data": {
      "text/html": [
       "<div id=\"grid-container_8U3UGK0lzY\" class=\"grid-container\" align=\"center\"> \n",
       "<div id=\"grid_8U3UGK0lzY\" class=\"grid\" align=\"center\"> \n",
       "<div id=\"graph_Ovw5PD9f2u\" class=\"graph\"></div> \n",
       "</div> \n",
       "</div> \n",
       "<script>\n",
       "var masonry = new Macy({\n",
       "    container: '#grid_8U3UGK0lzY',\n",
       "    debug: true,\n",
       "    mobileFirst: true,\n",
       "    columns: 1,\n",
       "    margin: {\n",
       "        x: 0,\n",
       "        y: 0\n",
       "    }\n",
       "  });\n",
       "\n",
       " var traces_Ovw5PD9f2u = [{\"name\":\"Bip6Dr5eNx\",\"type\":\"scatter\",\"mode\":\"markers\",\"x\":[5.9,6.2,6.5,6.3,6.7,6.7,6.8,5.8,6.9,6.7,6.9,6,6.4,6.3,7.7,6.1,6.3,6.4,7.9,7.4,7.2,6.4,6.1,6.2,7.2,6.7,6.3,7.7,5.6,6.9,6,7.7,7.7,6.5,6.4,5.8,5.7,6.8,6.4,6.5,7.2,6.7,7.3,4.9,7.6,6.5,6.3,7.1,5.8,6.3,5.7,5.1,6.2,5.7,5.7,5.6,5,5.8,6.1,5.5,5.5,5.6,6.3,6.7,6,5.4,6,5.8,5.5,5.5,5.7,6,6.7,6.8,6.6,6.4,6.1,6.3,6.1,5.9,5.6,6.2,5.8,5.6,6.7,5.6,6.1,6,5.9,5,5.2,6.6,4.9,6.3,5.7,6.5,5.5,6.9,6.4,7,5,5.3,4.6,5.1,4.8,5.1,5,4.4,4.5,5,5.1,4.4,4.9,5.5,5,4.9,5.5,5.2,5.4,4.8,4.7,5.2,5.2,5,5,4.8,5.1,4.6,5.1,5.4,5.1,5.7,5.1,5.4,5.7,5.8,4.3,4.8,4.8,5.4,4.9,4.4,5,4.6,5.4,5,4.6,4.7,4.9,5.1],\"y\":[1.8,2.3,2,1.9,2.3,2.5,2.3,1.9,2.3,2.4,2.1,1.8,1.8,2.4,2.3,1.4,1.5,2.2,2,1.9,1.6,2.1,1.8,1.8,1.8,2.1,1.8,2,2,2.3,1.5,2.3,2.2,1.8,2.3,2.4,2,2.1,1.9,2,2.5,1.8,1.8,1.7,2.1,2.2,1.8,2.1,1.9,2.5,1.3,1.1,1.3,1.3,1.2,1.3,1,1.2,1.4,1.2,1.3,1.3,1.3,1.5,1.6,1.5,1.6,1.2,1,1.1,1,1.5,1.7,1.4,1.4,1.3,1.2,1.5,1.3,1.8,1.1,1.5,1,1.5,1.4,1.3,1.4,1,1.5,1,1.4,1.3,1,1.6,1.3,1.5,1.3,1.5,1.5,1.4,0.2,0.2,0.2,0.2,0.3,0.4,0.6,0.2,0.3,0.3,0.2,0.2,0.1,0.2,0.2,0.1,0.2,0.1,0.4,0.2,0.2,0.2,0.2,0.4,0.2,0.2,0.5,0.2,0.4,0.2,0.3,0.3,0.3,0.4,0.4,0.2,0.1,0.1,0.2,0.2,0.1,0.2,0.2,0.3,0.4,0.2,0.2,0.2,0.2,0.2]}];\n",
       " var layout_Ovw5PD9f2u = {\"height\":550,\"width\":600,\"hovermode\":\"closest\",\"title\":{\"text\":\"Uninformative Chart\"},\"showlegend\":true};\n",
       " var config_Ovw5PD9f2u = {\"responsive\":true,\"scrollZoom\":true,\"displaylogo\":false};\n",
       " Plotly.newPlot(\"graph_Ovw5PD9f2u\", traces_Ovw5PD9f2u, layout_Ovw5PD9f2u, config_Ovw5PD9f2u);\n",
       "</script> \n"
      ]
     },
     "metadata": {},
     "output_type": "display_data"
    }
   ],
   "source": [
    "val series = XY(sepal_length, petal_width) asType SCATTER drawSymbol MARKERS\n",
    "\n",
    "val chart = Chart() addSeries series setTitle \"Uninformative Chart\"\n",
    "\n",
    "chart.plotInline"
   ]
  },
  {
   "cell_type": "markdown",
   "metadata": {},
   "source": [
    "The above chart is not very informative. However since we have the per data point category labels, we can use the utility function to display the data in the different clusters"
   ]
  },
  {
   "cell_type": "code",
   "execution_count": 42,
   "metadata": {},
   "outputs": [
    {
     "data": {
      "text/html": [
       "<div id=\"grid-container_5jCZWyxuIr\" class=\"grid-container\" align=\"center\"> \n",
       "<div id=\"grid_5jCZWyxuIr\" class=\"grid\" align=\"center\"> \n",
       "<div id=\"graph_wxYE0VsIE2\" class=\"graph\"></div> \n",
       "</div> \n",
       "</div> \n",
       "<script>\n",
       "var masonry = new Macy({\n",
       "    container: '#grid_5jCZWyxuIr',\n",
       "    debug: true,\n",
       "    mobileFirst: true,\n",
       "    columns: 1,\n",
       "    margin: {\n",
       "        x: 0,\n",
       "        y: 0\n",
       "    }\n",
       "  });\n",
       "\n",
       " var traces_wxYE0VsIE2 = [{\"name\":\"Iris-versicolor\",\"type\":\"scatter\",\"mode\":\"markers\",\"x\":[7,6.4,6.9,5.5,6.5,5.7,6.3,4.9,6.6,5.2,5,5.9,6,6.1,5.6,6.7,5.6,5.8,6.2,5.6,5.9,6.1,6.3,6.1,6.4,6.6,6.8,6.7,6,5.7,5.5,5.5,5.8,6,5.4,6,6.7,6.3,5.6,5.5,5.5,6.1,5.8,5,5.6,5.7,5.7,6.2,5.1,5.7],\"y\":[1.4,1.5,1.5,1.3,1.5,1.3,1.6,1,1.3,1.4,1,1.5,1,1.4,1.3,1.4,1.5,1,1.5,1.1,1.8,1.3,1.5,1.2,1.3,1.4,1.4,1.7,1.5,1,1.1,1,1.2,1.6,1.5,1.6,1.5,1.3,1.3,1.3,1.2,1.4,1.2,1,1.3,1.2,1.3,1.3,1.1,1.3]},{\"name\":\"Iris-setosa\",\"type\":\"scatter\",\"mode\":\"markers\",\"x\":[5.1,4.9,4.7,4.6,5,5.4,4.6,5,4.4,4.9,5.4,4.8,4.8,4.3,5.8,5.7,5.4,5.1,5.7,5.1,5.4,5.1,4.6,5.1,4.8,5,5,5.2,5.2,4.7,4.8,5.4,5.2,5.5,4.9,5,5.5,4.9,4.4,5.1,5,4.5,4.4,5,5.1,4.8,5.1,4.6,5.3,5],\"y\":[0.2,0.2,0.2,0.2,0.2,0.4,0.3,0.2,0.2,0.1,0.2,0.2,0.1,0.1,0.2,0.4,0.4,0.3,0.3,0.3,0.2,0.4,0.2,0.5,0.2,0.2,0.4,0.2,0.2,0.2,0.2,0.4,0.1,0.2,0.1,0.2,0.2,0.1,0.2,0.2,0.3,0.3,0.2,0.6,0.4,0.3,0.2,0.2,0.2,0.2]},{\"name\":\"Iris-virginica\",\"type\":\"scatter\",\"mode\":\"markers\",\"x\":[6.3,5.8,7.1,6.3,6.5,7.6,4.9,7.3,6.7,7.2,6.5,6.4,6.8,5.7,5.8,6.4,6.5,7.7,7.7,6,6.9,5.6,7.7,6.3,6.7,7.2,6.2,6.1,6.4,7.2,7.4,7.9,6.4,6.3,6.1,7.7,6.3,6.4,6,6.9,6.7,6.9,5.8,6.8,6.7,6.7,6.3,6.5,6.2,5.9],\"y\":[2.5,1.9,2.1,1.8,2.2,2.1,1.7,1.8,1.8,2.5,2,1.9,2.1,2,2.4,2.3,1.8,2.2,2.3,1.5,2.3,2,2,1.8,2.1,1.8,1.8,1.8,2.1,1.6,1.9,2,2.2,1.5,1.4,2.3,2.4,1.8,1.8,2.1,2.4,2.3,1.9,2.3,2.5,2.3,1.9,2,2.3,1.8]}];\n",
       " var layout_wxYE0VsIE2 = {\"height\":550,\"width\":600,\"hovermode\":\"closest\",\"title\":{\"text\":\"Iris\"},\"showlegend\":true};\n",
       " var config_wxYE0VsIE2 = {\"responsive\":true,\"scrollZoom\":true,\"displaylogo\":false};\n",
       " Plotly.newPlot(\"graph_wxYE0VsIE2\", traces_wxYE0VsIE2, layout_wxYE0VsIE2, config_wxYE0VsIE2);\n",
       "</script> \n"
      ]
     },
     "metadata": {},
     "output_type": "display_data"
    }
   ],
   "source": [
    "val result = getSeriesbyCategory(categories, (sepal_length, petal_width))\n",
    "\n",
    "val chart = Chart() addSeries result setTitle \"Iris\" showLegend true\n",
    "\n",
    "chart.plotInline"
   ]
  },
  {
   "cell_type": "markdown",
   "metadata": {},
   "source": [
    "## Conus Integration\n",
    "\n",
    "A couple of utility functions make wrangling conus data easier. Below is an example taken from the conus repo and plotting some variables of interest."
   ]
  },
  {
   "cell_type": "code",
   "execution_count": 43,
   "metadata": {},
   "outputs": [],
   "source": [
    "import org.carbonateresearch.picta.conus.Utils._"
   ]
  },
  {
   "cell_type": "code",
   "execution_count": 44,
   "metadata": {},
   "outputs": [],
   "source": [
    "import org.carbonateresearch.picta.conus.Utils._\n",
    "import org.carbonateresearch.picta.{Canvas, Chart, XY}\n",
    "import org.carbonateresearch.conus.common.SingleModelResults\n",
    "import org.carbonateresearch.conus.modelzoo.GeneralGeology._\n",
    "import org.carbonateresearch.conus.modelzoo.PasseyHenkesClumpedDiffusionModel._\n",
    "import org.carbonateresearch.conus.{AllCells, ModelVariable, PerCell, Simulator, Step, SteppedModel}\n",
    "\n",
    "import math._"
   ]
  },
  {
   "cell_type": "code",
   "execution_count": 45,
   "metadata": {
    "scrolled": false
   },
   "outputs": [
    {
     "name": "stdout",
     "output_type": "stream",
     "text": [
      "00:00:17.504 [CoNuS-akka.actor.default-dispatcher-3] INFO akka.event.slf4j.Slf4jLogger - Slf4jLogger started\n"
     ]
    },
    {
     "name": "stderr",
     "output_type": "stream",
     "text": [
      "SLF4J: A number (1) of logging calls during the initialization phase have been intercepted and are\n",
      "SLF4J: now being replayed. These are subject to the filtering rules of the underlying logging system.\n",
      "SLF4J: See also http://www.slf4j.org/codes.html#replay\n"
     ]
    },
    {
     "name": "stdout",
     "output_type": "stream",
     "text": [
      "A total of 135 unique models were defined, attempting to create a list now.\n",
      "Models list successfully created.\n",
      "----------------------------------------\n",
      "RUN STARTED\n",
      "----------------------------------------\n",
      "\u001b[0m\u001b[35m\u001b[4mRUN DATA\u001b[0m\n",
      "\u001b[0m\u001b[33mTotal number of models:\u001b[0m \u001b[37m135\n",
      "\u001b[0m\u001b[33mNumber of cell per grid:\u001b[0m\u001b[37m 19\n",
      "\u001b[0m\u001b[33mNumber of steps per model:\u001b[0m\u001b[37m 10\n",
      "\u001b[0m\u001b[33mNumber of operation per step:\u001b[0m\u001b[37m 304\n",
      "\u001b[0m\u001b[33mTotal number of operations:\u001b[0m\u001b[37m 410'400\n",
      "\u001b[0m\u001b[33mAvailable CPU cores:\u001b[0m\u001b[37m 8\n",
      "\u001b[0m\u001b[34m----------------------------------------\u001b[0m\n",
      "\u001b[0m\u001b[35m\u001b[4mRUN PROGRESS\u001b[0m\n",
      "Model #8 completed in 0 seconds is calibrated.\n",
      "Model #4 completed in 0 seconds is calibrated.\n",
      "Model #6 completed in 0 seconds is calibrated.\n",
      "Model #5 completed in 0 seconds is calibrated.\n",
      "Model #1 completed in 0 seconds is calibrated.\n",
      "Model #3 completed in 0 seconds is calibrated.\n",
      "Model #2 completed in 0 seconds is calibrated.\n",
      "Model #7 completed in 0 seconds is calibrated.\n",
      "Model #14 completed in 0 seconds is calibrated.\n",
      "Model #15 completed in 0 seconds is calibrated.\n",
      "Model #12 completed in 0 seconds is calibrated.\n",
      "Model #13 completed in 0 seconds is calibrated.\n",
      "Model #9 completed in 0 seconds is calibrated.\n",
      "Model #10 completed in 0 seconds is calibrated.\n",
      "Model #11 completed in 0 seconds is calibrated.\n",
      "Model #16 completed in 0 seconds is calibrated.\n",
      "Model #17 completed in 0 seconds is calibrated.\n",
      "Model #20 completed in 0 seconds is calibrated.\n",
      "Model #19 completed in 0 seconds is calibrated.\n",
      "Model #22 completed in 0 seconds is calibrated.\n",
      "Model #18 completed in 0 seconds is calibrated.\n",
      "Model #21 completed in 0 seconds is calibrated.\n",
      "Model #23 completed in 0 seconds is calibrated.\n",
      "Model #24 completed in 0 seconds is calibrated.\n",
      "Model #26 completed in 1 seconds is calibrated.\n",
      "Model #27 completed in 1 seconds is calibrated.\n",
      "Model #29 completed in 1 seconds is calibrated.\n",
      "Model #28 completed in 1 seconds is calibrated.\n",
      "Model #25 completed in 1 seconds is calibrated.\n",
      "Model #31 completed in 1 seconds is calibrated.\n",
      "Model #30 completed in 1 seconds is calibrated.\n",
      "Model #36 completed in 1 seconds is calibrated.\n",
      "Model #35 completed in 1 seconds is calibrated.\n",
      "Model #33 completed in 1 seconds is calibrated.\n",
      "Model #38 completed in 1 seconds is calibrated.\n",
      "Model #34 completed in 1 seconds is calibrated.\n",
      "Model #40 completed in 1 seconds is calibrated.\n",
      "Model #39 completed in 1 seconds is calibrated.\n",
      "Model #32 completed in 1 seconds is calibrated.\n",
      "Model #37 completed in 1 seconds is calibrated.\n",
      "Model #44 completed in 1 seconds is calibrated.\n",
      "Model #46 completed in 1 seconds is calibrated.\n",
      "Model #48 completed in 1 seconds is calibrated.\n",
      "Model #43 completed in 1 seconds is calibrated.\n",
      "Model #47 completed in 1 seconds is calibrated.\n",
      "Model #49 completed in 1 seconds is calibrated.\n",
      "Model #51 completed in 1 seconds is calibrated.\n",
      "Model #52 completed in 1 seconds is calibrated.\n",
      "Model #42 completed in 1 seconds is calibrated.\n",
      "Model #45 completed in 1 seconds is calibrated.\n",
      "Model #53 completed in 1 seconds is calibrated.\n",
      "Model #41 completed in 1 seconds is calibrated.\n",
      "Model #55 completed in 1 seconds is calibrated.\n",
      "Model #54 completed in 1 seconds is calibrated.\n",
      "Model #57 completed in 1 seconds is calibrated.\n",
      "Model #59 completed in 1 seconds is calibrated.\n",
      "Model #56 completed in 1 seconds is calibrated.\n",
      "Model #61 completed in 1 seconds is calibrated.\n",
      "Model #58 completed in 1 seconds is calibrated.\n",
      "Model #63 completed in 1 seconds is calibrated.\n",
      "Model #64 completed in 1 seconds is calibrated.\n",
      "Model #65 completed in 1 seconds is calibrated.\n",
      "Model #66 completed in 1 seconds is calibrated.\n",
      "Model #67 completed in 1 seconds is calibrated.\n",
      "Model #50 completed in 1 seconds is calibrated.\n",
      "Model #68 completed in 1 seconds is calibrated.\n",
      "Model #69 completed in 1 seconds is calibrated.\n",
      "Model #60 completed in 1 seconds is calibrated.\n",
      "Model #62 completed in 1 seconds is calibrated.\n",
      "Model #72 completed in 1 seconds is calibrated.\n",
      "Model #70 completed in 1 seconds is calibrated.\n",
      "Model #71 completed in 1 seconds is calibrated.\n",
      "Model #73 completed in 1 seconds is calibrated.\n",
      "Model #74 completed in 1 seconds is calibrated.\n",
      "Model #78 completed in 1 seconds is calibrated.\n",
      "Model #79 completed in 1 seconds is calibrated.\n",
      "Model #77 completed in 1 seconds is calibrated.\n",
      "Model #80 completed in 1 seconds is calibrated.\n",
      "Model #81 completed in 1 seconds is calibrated.\n",
      "Model #75 completed in 1 seconds is calibrated.\n",
      "Model #82 completed in 1 seconds is calibrated.\n",
      "Model #76 completed in 1 seconds is calibrated.\n",
      "Model #86 completed in 1 seconds is calibrated.\n",
      "Model #87 completed in 1 seconds is calibrated.\n",
      "Model #88 completed in 1 seconds is calibrated.\n",
      "Model #85 completed in 1 seconds is calibrated.\n",
      "Model #83 completed in 1 seconds is calibrated.\n",
      "Model #84 completed in 1 seconds is calibrated.\n",
      "Model #89 completed in 1 seconds is calibrated.\n",
      "Model #93 completed in 1 seconds is calibrated.\n",
      "Model #91 completed in 1 seconds is calibrated.\n",
      "Model #92 completed in 1 seconds is calibrated.\n",
      "Model #96 completed in 1 seconds is calibrated.\n",
      "Model #95 completed in 1 seconds is calibrated.\n",
      "Model #99 completed in 1 seconds is calibrated.\n",
      "Model #90 completed in 1 seconds is calibrated.\n",
      "Model #97 completed in 1 seconds is calibrated.\n",
      "Model #98 completed in 1 seconds is calibrated.\n",
      "Model #103 completed in 1 seconds is not calibrated.\n",
      "Model #101 completed in 1 seconds is not calibrated.\n",
      "Model #94 completed in 1 seconds is calibrated.\n",
      "Model #104 completed in 1 seconds is not calibrated.\n",
      "Model #107 completed in 1 seconds is calibrated.\n",
      "Model #105 completed in 1 seconds is not calibrated.\n",
      "Model #108 completed in 1 seconds is calibrated.\n",
      "Model #109 completed in 1 seconds is calibrated.\n",
      "Model #102 completed in 1 seconds is not calibrated.\n",
      "Model #110 completed in 1 seconds is calibrated.\n",
      "Model #111 completed in 1 seconds is calibrated.\n",
      "Model #112 completed in 1 seconds is calibrated.\n",
      "Model #113 completed in 1 seconds is calibrated.\n",
      "Model #106 completed in 1 seconds is calibrated.\n",
      "Model #116 completed in 1 seconds is not calibrated.\n",
      "Model #115 completed in 1 seconds is not calibrated.\n",
      "Model #118 completed in 1 seconds is not calibrated.\n",
      "Model #119 completed in 1 seconds is not calibrated.\n",
      "Model #100 completed in 1 seconds is not calibrated.\n",
      "Model #114 completed in 1 seconds is calibrated.\n",
      "Model #125 completed in 1 seconds is calibrated.\n",
      "Model #121 completed in 1 seconds is calibrated.\n",
      "Model #124 completed in 1 seconds is calibrated.\n",
      "Model #117 completed in 1 seconds is not calibrated.\n",
      "Model #123 completed in 1 seconds is calibrated.\n",
      "Model #127 completed in 1 seconds is calibrated.\n",
      "Model #122 completed in 1 seconds is calibrated.\n",
      "Model #126 completed in 1 seconds is calibrated.\n",
      "Model #129 completed in 1 seconds is calibrated.\n",
      "Model #128 completed in 1 seconds is calibrated.\n",
      "Model #130 completed in 1 seconds is not calibrated.\n",
      "Model #132 completed in 1 seconds is not calibrated.\n",
      "Model #120 completed in 1 seconds is not calibrated.\n",
      "Model #131 completed in 1 seconds is not calibrated.\n",
      "Model #135 completed in 1 seconds is not calibrated.\n",
      "Model #134 completed in 1 seconds is not calibrated.\n",
      "Model #133 completed in 1 seconds is not calibrated.\n",
      "\n",
      "----------------------------------------\n",
      "END OF RUN\n",
      "----------------------------------------\n"
     ]
    }
   ],
   "source": [
    "val modelWarehouse = Simulator\n",
    "\n",
    "// a few constants\n",
    "val rhocal:Double = 2.71 //Density of carbonates\n",
    "val cOf=889000 //concentration of O in fluid\n",
    "val cCf=200 //concentration of C in fluid\n",
    "val cOcal = 480000 //concentration of O in stoichiometric calcite\n",
    "val cCcal = 120000 //concentration of C in stoichiometric calcite\n",
    "val d13Ctdc = 0 //carbon isotope composition of total dissolved carbon in fluid\n",
    "\n",
    "// setting model variables\n",
    "val initialAge:ModelVariable[Double] = ModelVariable(\"Initial age\",96.0,\"Ma\")\n",
    "val finalAge:ModelVariable[Double] = ModelVariable(\"Final age\",0.0,\"Ma\")\n",
    "val d18Of:ModelVariable[Double] = ModelVariable(\"Fluid d18O\",-1.0,\"‰\")\n",
    "val TmaxSample:ModelVariable[Double] = ModelVariable(\"Tmax\",0.0,\"˚C\")\n",
    "val WFF:ModelVariable[Double] = ModelVariable(\"Weight fraction of fluid\",0.0,\"\")\n",
    "val CWRR:ModelVariable[Double] = ModelVariable(\"Cumulative water/rock ratio\",0.0,\"\")\n",
    "val FluidMass:ModelVariable[Double] = ModelVariable(\"Mass of fluid\",0.2,\"\")\n",
    "val d18Occ:ModelVariable[Double] = ModelVariable(\"d18Occ\",1.0,\"‰\")\n",
    "val d13Ccc:ModelVariable[Double] = ModelVariable(\"d13Ccc\",1.0,\"‰\")\n",
    "val D47r:ModelVariable[Double] = ModelVariable(\"D47 with partial recrystallization\",.5,\"‰\")\n",
    "val fractionRec:ModelVariable[Double] = ModelVariable(\"Fraction of recrystallization\",0.01,\"‰\")\n",
    "val initalBurialAtModelStart:ModelVariable[Double] = ModelVariable(\"Initial burial at model start\",0.0,\"meters\")\n",
    "\n",
    "// Initialise model conditions as lists\n",
    "val burialHistory = List((96.0,0.0), (39.0,2000.0), (0.0,-70.0))\n",
    "val geothermalGradientHistory= List((96.0,30.0),(0.0,30.0))\n",
    "val surfaceTemperaturesHistory = List((96.0,30.0),(0.0,30.0))\n",
    "val numberOfSteps = 10\n",
    "val ageList:List[Double] = List(97.0,96.0,95.0)\n",
    "val finalAgeList:List[Double] = List(0.0)\n",
    "val rangeOfFluidMasses:List[Double] = List(0.2)\n",
    "val rangeOfPartialRecrystallization = List(1.0,.5,.1,.01,0.0)\n",
    "\n",
    "// Bulk isotope calculation equations\n",
    "val d18OccFunction = (s:Step) => {\n",
    "    val cO=(WFF(s)*cOf)+(1-WFF(s))*cOcal\n",
    "    val alpha = math.exp((18.03*(1000*pow((burialTemperature(s)+273.15), -1)) - 32.42)/1000)\n",
    "    val d18O = ((d18Of(s) * WFF(s) * cOf) + d18Occ(s) * (1-WFF(s)) * cOf)/ cO\n",
    "    ((d18O * cOf * alpha) - (1000 * cOf * WFF(s) * (1-alpha))) / ((cOcal * (1-WFF(s)) * alpha) + cOf * WFF(s))\n",
    "}\n",
    "\n",
    "val d13CccFunction = (s:Step) => {\n",
    "    val cC=(WFF(s)*cCf)+(1-WFF(s))*cCcal\n",
    "    val alpha = exp((-2.4612+(7666.3/100) - (2.9880*pow(10,3)/pow((burialTemperature(s)+273.15),6)))/1000)\n",
    "    val d13C = ((d13Ctdc * WFF(s) * d13Ctdc) + (d13Ccc(s) * (1-WFF(s)) * cCcal))/cC\n",
    "    ((d13C * cC * alpha) - (1000 * cCf * WFF(s) * (1-alpha))) / (cCcal * (1-WFF(s) * alpha) + cCf * WFF(s))\n",
    "}\n",
    "\n",
    "val eaglefordModel = new SteppedModel(numberOfSteps,\"Eagleford recrystallization\")\n",
    "    .setGrid(19)\n",
    "    .defineMathematicalModel(\n",
    "      age =>> ageOfStep(initialAge,finalAge),\n",
    "      depth =>> {(s:Step) => {burialDepthFromAgeModel(age,burialHistory).apply(s)+initalBurialAtModelStart(s)}},\n",
    "      surfaceTemperature =>> surfaceTemperaturesAtAge(age, surfaceTemperaturesHistory),\n",
    "      geothermalGradient =>> geothermalGradientAtAge(age,geothermalGradientHistory),\n",
    "      burialTemperature =>> burialTemperatureFromGeothermalGradient(surfaceTemperature,depth,geothermalGradient),\n",
    "      dT =>> dTFun,\n",
    "      D47eq =>> D47eqFun,\n",
    "      D47i =>> D47iFun,\n",
    "      SampleTemp =>> davies19_T,\n",
    "      FluidMass =>> {(s:Step) => 0.2},\n",
    "      d18Of =>> {(s:Step) => -1.0},\n",
    "      WFF =>> {(s:Step) => FluidMass(s) / (FluidMass(s) + rhocal)},\n",
    "      CWRR =>> {(s:Step) => s.stepNumber * WFF(s)/(1-WFF(s))},\n",
    "      d18Occ =>> d18OccFunction,\n",
    "      d13Ccc =>> d13CccFunction,\n",
    "      D47r =>> {(s:Step) => {if(burialTemperature(s)-burialTemperature(s-1) >= 0){D47r(s-1) * (1.0-fractionRec(s)) + D47eq(s) * fractionRec(s)}\n",
    "      else {D47r(s-1)}}}\n",
    "    )\n",
    "    .defineInitialModelConditions(\n",
    "      AllCells(initialAge,ageList),\n",
    "      AllCells(finalAge,finalAgeList),\n",
    "      AllCells(fractionRec,rangeOfPartialRecrystallization),\n",
    "      AllCells(D47i,List(0.670,0.680,0.690)),\n",
    "      AllCells(D47r,List(0.670,0.680,0.690)),\n",
    "      PerCell(initalBurialAtModelStart,List(\n",
    "        (List(0.0),Seq(0)),\n",
    "        (List(-0.91),Seq(1)),\n",
    "        (List(-1.22),Seq(2)),\n",
    "        (List(-2.90),Seq(3)),\n",
    "        (List(-4.57),Seq(4)),\n",
    "        (List(-4.88),Seq(5)),\n",
    "        (List(-4.90),Seq(6)),\n",
    "        (List(-6.10),Seq(7)),\n",
    "        (List(-6.40),Seq(8)),\n",
    "        (List(-6.71),Seq(9)),\n",
    "        (List(-25.90),Seq(10)),\n",
    "        (List(-28.96),Seq(11)),\n",
    "        (List(-29.87),Seq(12)),\n",
    "        (List(-35.05),Seq(13)),\n",
    "        (List(-35.36),Seq(14)),\n",
    "        (List(-35.97),Seq(15)),\n",
    "        (List(-36.58),Seq(16)),\n",
    "        (List(-37.19),Seq(17)),\n",
    "        (List(-38.90),Seq(18)))))\n",
    "    .defineCalibration(\n",
    "      D47r.isBetween(0.511,0.683).atCells(Seq(0)),\n",
    "      D47r.isBetween(0.511,0.683).atCells(Seq(1)),\n",
    "      D47r.isBetween(0.511,0.683).atCells(Seq(2)),\n",
    "      D47r.isBetween(0.511,0.683).atCells(Seq(3)),\n",
    "      D47r.isBetween(0.511,0.683).atCells(Seq(4)),\n",
    "      D47r.isBetween(0.511,0.683).atCells(Seq(5)),\n",
    "      D47r.isBetween(0.511,0.683).atCells(Seq(6)),\n",
    "      D47r.isBetween(0.511,0.683).atCells(Seq(7)),\n",
    "      D47r.isBetween(0.511,0.683).atCells(Seq(8)),\n",
    "      D47r.isBetween(0.511,0.683).atCells(Seq(9)),\n",
    "      D47r.isBetween(0.511,0.683).atCells(Seq(10)),\n",
    "      D47r.isBetween(0.511,0.683).atCells(Seq(11)),\n",
    "      D47r.isBetween(0.511,0.683).atCells(Seq(12)),\n",
    "      D47r.isBetween(0.511,0.683).atCells(Seq(13)),\n",
    "      D47r.isBetween(0.511,0.683).atCells(Seq(14)),\n",
    "      D47r.isBetween(0.511,0.683).atCells(Seq(15)),\n",
    "      D47r.isBetween(0.511,0.683).atCells(Seq(16)),\n",
    "      D47r.isBetween(0.511,0.683).atCells(Seq(17)),\n",
    "      D47r.isBetween(0.511,0.683).atCells(Seq(18))\n",
    ")\n",
    "\n",
    "modelWarehouse.evaluate(eaglefordModel)\n",
    "Thread.sleep(1000)"
   ]
  },
  {
   "cell_type": "code",
   "execution_count": 46,
   "metadata": {},
   "outputs": [
    {
     "data": {
      "text/html": [
       "<div id=\"grid-container_wmiJfVVoMT\" class=\"grid-container\" align=\"center\"> \n",
       "<div id=\"grid_wmiJfVVoMT\" class=\"grid\" align=\"center\"> \n",
       "<div id=\"graph_BfX44AtKwN\" class=\"graph\"></div> \n",
       "</div> \n",
       "</div> \n",
       "<script>\n",
       "var masonry = new Macy({\n",
       "    container: '#grid_wmiJfVVoMT',\n",
       "    debug: true,\n",
       "    mobileFirst: true,\n",
       "    columns: 1,\n",
       "    margin: {\n",
       "        x: 0,\n",
       "        y: 0\n",
       "    }\n",
       "  });\n",
       "\n",
       " var traces_BfX44AtKwN = [{\"name\":\"HrWzATmyTn\",\"type\":\"scatter\",\"yaxis\":\"y2\",\"x\":[95,84.44444444444444,73.88888888888889,63.333333333333336,52.77777777777778,42.22222222222222,31.66666666666667,21.111111111111114,10.555555555555557,0],\"y\":[1.092574472614591,1.092574472614592,1.092574472614593,1.0925744726145934,1.0925744726145938,1.0925744726145943,1.0925744726145938,1.0925744726145932,1.0925744726145923,1.0925744726145907]},{\"name\":\"6vfIoqmajC\",\"type\":\"scatter\",\"x\":[95,84.44444444444444,73.88888888888889,63.333333333333336,52.77777777777778,42.22222222222222,31.66666666666667,21.111111111111114,10.555555555555557,0],\"y\":[5.8447021539281225,5.597796303859945,5.36734395671948,5.151753878912124,4.949633567669663,4.759759172657933,4.900224806622807,5.206108819250285,5.543641691173061,5.918001697432124]}];\n",
       " var layout_BfX44AtKwN = {\"height\":550,\"width\":600,\"hovermode\":\"closest\",\"title\":{\"text\":\"d18Occ vs d13Ccc\"},\"showlegend\":true,\"xaxis\":{\"title\":{\"text\":\"age\"},\"showgrid\":true,\"zeroline\":false,\"showline\":false},\"yaxis\":{\"title\":{\"text\":\"d18Occ\"},\"showgrid\":true,\"zeroline\":false,\"showline\":false},\"yaxis2\":{\"title\":{\"text\":\"d13Ccc\"},\"showgrid\":true,\"zeroline\":false,\"showline\":false,\"side\":\"right\",\"overlaying\":\"y\",\"tickformat\":\"0.2f\"}};\n",
       " var config_BfX44AtKwN = {\"responsive\":true,\"scrollZoom\":true,\"displaylogo\":false};\n",
       " Plotly.newPlot(\"graph_BfX44AtKwN\", traces_BfX44AtKwN, layout_BfX44AtKwN, config_BfX44AtKwN);\n",
       "</script> \n"
      ]
     },
     "metadata": {},
     "output_type": "display_data"
    }
   ],
   "source": [
    "// grab the results from the Conus model\n",
    "val model: SingleModelResults = modelWarehouse(eaglefordModel)(0)\n",
    "\n",
    "// we can use the utility function to grab the series for a single variable\n",
    "val series1: List[Double] = getDataFromSingleModel(model, age, List(0), numberOfSteps)\n",
    "val series2: List[Double] = getDataFromSingleModel(model, d18Occ, List(0), numberOfSteps)\n",
    "\n",
    "val xy1 = XY(series1, series2)\n",
    "\n",
    "// alternatively we can quickly get the same data for XY using the function below\n",
    "//  val xy1 = getXYSeriesFromSingleModel(model, (age, d18Occ), List(0), numberOfSteps)\n",
    "\n",
    "// lets also plot a second y variable\n",
    "val yaxis2 = YAxis(\n",
    "    position = 2, \n",
    "    title = \"d13Ccc\", \n",
    "    overlaying = YAxis(), // this ensures that the axis sits on a seperate axis\n",
    "    side = RIGHT, // this ensures the axis is on the right hand side\n",
    "    tickformat = \"0.2f\" // this will keep formatting reasonable for display purposes\n",
    ")\n",
    "\n",
    "// we construct the second y variable;\n",
    "val series3: List[Double] = getDataFromSingleModel(model, d13Ccc, List(0), numberOfSteps)\n",
    "val xy2 = XY(series1, series3) setAxis yaxis2\n",
    "\n",
    "// finally we can combine in a single chart\n",
    "val chart = (\n",
    "    Chart() \n",
    "    addSeries xy1\n",
    "    addSeries xy2\n",
    "    setTitle(\"d18Occ vs d13Ccc\") \n",
    "    addAxes(XAxis(title=\"age\"), YAxis(title=\"d18Occ\"), yaxis2)\n",
    ")\n",
    "\n",
    "val canvas = Canvas() addCharts chart\n",
    "\n",
    "canvas.plotInline()"
   ]
  }
 ],
 "metadata": {
  "kernelspec": {
   "display_name": "Scala",
   "language": "scala",
   "name": "scala"
  },
  "language_info": {
   "codemirror_mode": "text/x-scala",
   "file_extension": ".scala",
   "mimetype": "text/x-scala",
   "name": "scala",
   "nbconvert_exporter": "script",
   "version": "2.13.2"
  }
 },
 "nbformat": 4,
 "nbformat_minor": 4
}
