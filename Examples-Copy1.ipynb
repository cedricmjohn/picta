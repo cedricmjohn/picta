{
 "cells": [
  {
   "cell_type": "code",
   "execution_count": 1,
   "metadata": {
    "scrolled": true
   },
   "outputs": [],
   "source": [
    "interp.repositories() ++= Seq(coursierapi.MavenRepository.of(\n",
    "    \"https://jitpack.io\"\n",
    "))"
   ]
  },
  {
   "cell_type": "code",
   "execution_count": 2,
   "metadata": {},
   "outputs": [
    {
     "data": {
      "text/plain": [
       "\u001b[32mimport \u001b[39m\u001b[36m$ivy.$                                  \u001b[39m"
      ]
     },
     "execution_count": 2,
     "metadata": {},
     "output_type": "execute_result"
    }
   ],
   "source": [
    "import $ivy. `org.carbonateresearch::picta:0.1`"
   ]
  },
  {
   "cell_type": "code",
   "execution_count": 3,
   "metadata": {
    "scrolled": false
   },
   "outputs": [
    {
     "data": {
      "text/html": [
       "\n",
       "<style> #animationInterface {\n",
       "    margin-top: 50px;\n",
       "    margin-bottom: 50px;\n",
       "}\n",
       "\n",
       ".progressBar {\n",
       "    padding-top: 20px;\n",
       "    padding-bottom: 20px;\n",
       "}\n",
       "\n",
       ".inline-div {\n",
       "    display: block;\n",
       "    text-align: center;\n",
       "}\n",
       "\n",
       "h3 {\n",
       "    display: inline-block;\n",
       "    text-align: center;\n",
       "}\n",
       "\n",
       ".picta-button {\n",
       "    background-color: #003E74;\n",
       "    border: none;\n",
       "    color: white;\n",
       "    padding: 12px 28px;\n",
       "    text-align: center;\n",
       "    text-decoration: none;\n",
       "    display: inline-block;\n",
       "    font-size: 12px;\n",
       "    margin-top: 50px;\n",
       "    transition-duration: 0.4s;\n",
       "    cursor: pointer;\n",
       "}\n",
       "\n",
       ".picta-button:hover {\n",
       "    background-color: #002147;\n",
       "    color: white;\n",
       "}\n",
       "\n",
       ".grid-title h1 {\n",
       "    font-family: \"Open Sans\", verdana, arial, sans-serif;\n",
       "    font-weight: normal;\n",
       "}\n",
       "\n",
       ".grid-container {\n",
       "    padding-top: 40px;\n",
       "    background: white;\n",
       "} </style>\n",
       "<script> /** vim: et:ts=4:sw=4:sts=4\n",
       " * @license RequireJS 2.3.6 Copyright jQuery Foundation and other contributors.\n",
       " * Released under MIT license, https://github.com/requirejs/requirejs/blob/master/LICENSE\n",
       " */\n",
       "var requirejs,require,define;!function(global,setTimeout){var req,s,head,baseElement,dataMain,src,interactiveScript,currentlyAddingScript,mainScript,subPath,version=\"2.3.6\",commentRegExp=/\\/\\*[\\s\\S]*?\\*\\/|([^:\"'=]|^)\\/\\/.*$/gm,cjsRequireRegExp=/[^.]\\s*require\\s*\\(\\s*[\"']([^'\"\\s]+)[\"']\\s*\\)/g,jsSuffixRegExp=/\\.js$/,currDirRegExp=/^\\.\\//,op=Object.prototype,ostring=op.toString,hasOwn=op.hasOwnProperty,isBrowser=!(\"undefined\"==typeof window||\"undefined\"==typeof navigator||!window.document),isWebWorker=!isBrowser&&\"undefined\"!=typeof importScripts,readyRegExp=isBrowser&&\"PLAYSTATION 3\"===navigator.platform?/^complete$/:/^(complete|loaded)$/,defContextName=\"_\",isOpera=\"undefined\"!=typeof opera&&\"[object Opera]\"===opera.toString(),contexts={},cfg={},globalDefQueue=[],useInteractive=!1;function commentReplace(e,t){return t||\"\"}function isFunction(e){return\"[object Function]\"===ostring.call(e)}function isArray(e){return\"[object Array]\"===ostring.call(e)}function each(e,t){var i;if(e)for(i=0;i<e.length&&(!e[i]||!t(e[i],i,e));i+=1);}function eachReverse(e,t){var i;if(e)for(i=e.length-1;-1<i&&(!e[i]||!t(e[i],i,e));i-=1);}function hasProp(e,t){return hasOwn.call(e,t)}function getOwn(e,t){return hasProp(e,t)&&e[t]}function eachProp(e,t){var i;for(i in e)if(hasProp(e,i)&&t(e[i],i))break}function mixin(i,e,r,n){return e&&eachProp(e,function(e,t){!r&&hasProp(i,t)||(!n||\"object\"!=typeof e||!e||isArray(e)||isFunction(e)||e instanceof RegExp?i[t]=e:(i[t]||(i[t]={}),mixin(i[t],e,r,n)))}),i}function bind(e,t){return function(){return t.apply(e,arguments)}}function scripts(){return document.getElementsByTagName(\"script\")}function defaultOnError(e){throw e}function getGlobal(e){if(!e)return e;var t=global;return each(e.split(\".\"),function(e){t=t[e]}),t}function makeError(e,t,i,r){var n=new Error(t+\"\\nhttps://requirejs.org/docs/errors.html#\"+e);return n.requireType=e,n.requireModules=r,i&&(n.originalError=i),n}if(void 0===define){if(void 0!==requirejs){if(isFunction(requirejs))return;cfg=requirejs,requirejs=void 0}void 0===require||isFunction(require)||(cfg=require,require=void 0),req=requirejs=function(e,t,i,r){var n,o,a=defContextName;return isArray(e)||\"string\"==typeof e||(o=e,isArray(t)?(e=t,t=i,i=r):e=[]),o&&o.context&&(a=o.context),(n=getOwn(contexts,a))||(n=contexts[a]=req.s.newContext(a)),o&&n.configure(o),n.require(e,t,i)},req.config=function(e){return req(e)},req.nextTick=void 0!==setTimeout?function(e){setTimeout(e,4)}:function(e){e()},require||(require=req),req.version=version,req.jsExtRegExp=/^\\/|:|\\?|\\.js$/,req.isBrowser=isBrowser,s=req.s={contexts:contexts,newContext:newContext},req({}),each([\"toUrl\",\"undef\",\"defined\",\"specified\"],function(t){req[t]=function(){var e=contexts[defContextName];return e.require[t].apply(e,arguments)}}),isBrowser&&(head=s.head=document.getElementsByTagName(\"head\")[0],baseElement=document.getElementsByTagName(\"base\")[0],baseElement&&(head=s.head=baseElement.parentNode)),req.onError=defaultOnError,req.createNode=function(e,t,i){var r=e.xhtml?document.createElementNS(\"http://www.w3.org/1999/xhtml\",\"html:script\"):document.createElement(\"script\");return r.type=e.scriptType||\"text/javascript\",r.charset=\"utf-8\",r.async=!0,r},req.load=function(t,i,r){var e,n=t&&t.config||{};if(isBrowser)return(e=req.createNode(n,i,r)).setAttribute(\"data-requirecontext\",t.contextName),e.setAttribute(\"data-requiremodule\",i),!e.attachEvent||e.attachEvent.toString&&e.attachEvent.toString().indexOf(\"[native code\")<0||isOpera?(e.addEventListener(\"load\",t.onScriptLoad,!1),e.addEventListener(\"error\",t.onScriptError,!1)):(useInteractive=!0,e.attachEvent(\"onreadystatechange\",t.onScriptLoad)),e.src=r,n.onNodeCreated&&n.onNodeCreated(e,n,i,r),currentlyAddingScript=e,baseElement?head.insertBefore(e,baseElement):head.appendChild(e),currentlyAddingScript=null,e;if(isWebWorker)try{setTimeout(function(){},0),importScripts(r),t.completeLoad(i)}catch(e){t.onError(makeError(\"importscripts\",\"importScripts failed for \"+i+\" at \"+r,e,[i]))}},isBrowser&&!cfg.skipDataMain&&eachReverse(scripts(),function(e){if(head||(head=e.parentNode),dataMain=e.getAttribute(\"data-main\"))return mainScript=dataMain,cfg.baseUrl||-1!==mainScript.indexOf(\"!\")||(mainScript=(src=mainScript.split(\"/\")).pop(),subPath=src.length?src.join(\"/\")+\"/\":\"./\",cfg.baseUrl=subPath),mainScript=mainScript.replace(jsSuffixRegExp,\"\"),req.jsExtRegExp.test(mainScript)&&(mainScript=dataMain),cfg.deps=cfg.deps?cfg.deps.concat(mainScript):[mainScript],!0}),define=function(e,i,t){var r,n;\"string\"!=typeof e&&(t=i,i=e,e=null),isArray(i)||(t=i,i=null),!i&&isFunction(t)&&(i=[],t.length&&(t.toString().replace(commentRegExp,commentReplace).replace(cjsRequireRegExp,function(e,t){i.push(t)}),i=(1===t.length?[\"require\"]:[\"require\",\"exports\",\"module\"]).concat(i))),useInteractive&&(r=currentlyAddingScript||getInteractiveScript())&&(e||(e=r.getAttribute(\"data-requiremodule\")),n=contexts[r.getAttribute(\"data-requirecontext\")]),n?(n.defQueue.push([e,i,t]),n.defQueueMap[e]=!0):globalDefQueue.push([e,i,t])},define.amd={jQuery:!0},req.exec=function(text){return eval(text)},req(cfg)}function newContext(u){var i,e,l,c,d,g={waitSeconds:7,baseUrl:\"./\",paths:{},bundles:{},pkgs:{},shim:{},config:{}},p={},f={},r={},h=[],m={},n={},v={},x=1,b=1;function q(e,t,i){var r,n,o,a,s,u,c,d,p,f,l=t&&t.split(\"/\"),h=g.map,m=h&&h[\"*\"];if(e&&(u=(e=e.split(\"/\")).length-1,g.nodeIdCompat&&jsSuffixRegExp.test(e[u])&&(e[u]=e[u].replace(jsSuffixRegExp,\"\")),\".\"===e[0].charAt(0)&&l&&(e=l.slice(0,l.length-1).concat(e)),function(e){var t,i;for(t=0;t<e.length;t++)if(\".\"===(i=e[t]))e.splice(t,1),t-=1;else if(\"..\"===i){if(0===t||1===t&&\"..\"===e[2]||\"..\"===e[t-1])continue;0<t&&(e.splice(t-1,2),t-=2)}}(e),e=e.join(\"/\")),i&&h&&(l||m)){e:for(o=(n=e.split(\"/\")).length;0<o;o-=1){if(s=n.slice(0,o).join(\"/\"),l)for(a=l.length;0<a;a-=1)if((r=getOwn(h,l.slice(0,a).join(\"/\")))&&(r=getOwn(r,s))){c=r,d=o;break e}!p&&m&&getOwn(m,s)&&(p=getOwn(m,s),f=o)}!c&&p&&(c=p,d=f),c&&(n.splice(0,d,c),e=n.join(\"/\"))}return getOwn(g.pkgs,e)||e}function E(t){isBrowser&&each(scripts(),function(e){if(e.getAttribute(\"data-requiremodule\")===t&&e.getAttribute(\"data-requirecontext\")===l.contextName)return e.parentNode.removeChild(e),!0})}function w(e){var t=getOwn(g.paths,e);if(t&&isArray(t)&&1<t.length)return t.shift(),l.require.undef(e),l.makeRequire(null,{skipMap:!0})([e]),!0}function y(e){var t,i=e?e.indexOf(\"!\"):-1;return-1<i&&(t=e.substring(0,i),e=e.substring(i+1,e.length)),[t,e]}function S(e,t,i,r){var n,o,a,s,u=null,c=t?t.name:null,d=e,p=!0,f=\"\";return e||(p=!1,e=\"_@r\"+(x+=1)),u=(s=y(e))[0],e=s[1],u&&(u=q(u,c,r),o=getOwn(m,u)),e&&(u?f=i?e:o&&o.normalize?o.normalize(e,function(e){return q(e,c,r)}):-1===e.indexOf(\"!\")?q(e,c,r):e:(u=(s=y(f=q(e,c,r)))[0],f=s[1],i=!0,n=l.nameToUrl(f))),{prefix:u,name:f,parentMap:t,unnormalized:!!(a=!u||o||i?\"\":\"_unnormalized\"+(b+=1)),url:n,originalName:d,isDefine:p,id:(u?u+\"!\"+f:f)+a}}function k(e){var t=e.id,i=getOwn(p,t);return i||(i=p[t]=new l.Module(e)),i}function M(e,t,i){var r=e.id,n=getOwn(p,r);!hasProp(m,r)||n&&!n.defineEmitComplete?(n=k(e)).error&&\"error\"===t?i(n.error):n.on(t,i):\"defined\"===t&&i(m[r])}function O(i,e){var t=i.requireModules,r=!1;e?e(i):(each(t,function(e){var t=getOwn(p,e);t&&(t.error=i,t.events.error&&(r=!0,t.emit(\"error\",i)))}),r||req.onError(i))}function j(){globalDefQueue.length&&(each(globalDefQueue,function(e){var t=e[0];\"string\"==typeof t&&(l.defQueueMap[t]=!0),h.push(e)}),globalDefQueue=[])}function P(e){delete p[e],delete f[e]}function R(){var e,r,t=1e3*g.waitSeconds,n=t&&l.startTime+t<(new Date).getTime(),o=[],a=[],s=!1,u=!0;if(!i){if(i=!0,eachProp(f,function(e){var t=e.map,i=t.id;if(e.enabled&&(t.isDefine||a.push(e),!e.error))if(!e.inited&&n)w(i)?s=r=!0:(o.push(i),E(i));else if(!e.inited&&e.fetched&&t.isDefine&&(s=!0,!t.prefix))return u=!1}),n&&o.length)return(e=makeError(\"timeout\",\"Load timeout for modules: \"+o,null,o)).contextName=l.contextName,O(e);u&&each(a,function(e){!function n(o,a,s){var e=o.map.id;o.error?o.emit(\"error\",o.error):(a[e]=!0,each(o.depMaps,function(e,t){var i=e.id,r=getOwn(p,i);!r||o.depMatched[t]||s[i]||(getOwn(a,i)?(o.defineDep(t,m[i]),o.check()):n(r,a,s))}),s[e]=!0)}(e,{},{})}),n&&!r||!s||!isBrowser&&!isWebWorker||d||(d=setTimeout(function(){d=0,R()},50)),i=!1}}function a(e){hasProp(m,e[0])||k(S(e[0],null,!0)).init(e[1],e[2])}function o(e,t,i,r){e.detachEvent&&!isOpera?r&&e.detachEvent(r,t):e.removeEventListener(i,t,!1)}function s(e){var t=e.currentTarget||e.srcElement;return o(t,l.onScriptLoad,\"load\",\"onreadystatechange\"),o(t,l.onScriptError,\"error\"),{node:t,id:t&&t.getAttribute(\"data-requiremodule\")}}function T(){var e;for(j();h.length;){if(null===(e=h.shift())[0])return O(makeError(\"mismatch\",\"Mismatched anonymous define() module: \"+e[e.length-1]));a(e)}l.defQueueMap={}}return c={require:function(e){return e.require?e.require:e.require=l.makeRequire(e.map)},exports:function(e){if(e.usingExports=!0,e.map.isDefine)return e.exports?m[e.map.id]=e.exports:e.exports=m[e.map.id]={}},module:function(e){return e.module?e.module:e.module={id:e.map.id,uri:e.map.url,config:function(){return getOwn(g.config,e.map.id)||{}},exports:e.exports||(e.exports={})}}},(e=function(e){this.events=getOwn(r,e.id)||{},this.map=e,this.shim=getOwn(g.shim,e.id),this.depExports=[],this.depMaps=[],this.depMatched=[],this.pluginMaps={},this.depCount=0}).prototype={init:function(e,t,i,r){r=r||{},this.inited||(this.factory=t,i?this.on(\"error\",i):this.events.error&&(i=bind(this,function(e){this.emit(\"error\",e)})),this.depMaps=e&&e.slice(0),this.errback=i,this.inited=!0,this.ignore=r.ignore,r.enabled||this.enabled?this.enable():this.check())},defineDep:function(e,t){this.depMatched[e]||(this.depMatched[e]=!0,this.depCount-=1,this.depExports[e]=t)},fetch:function(){if(!this.fetched){this.fetched=!0,l.startTime=(new Date).getTime();var e=this.map;if(!this.shim)return e.prefix?this.callPlugin():this.load();l.makeRequire(this.map,{enableBuildCallback:!0})(this.shim.deps||[],bind(this,function(){return e.prefix?this.callPlugin():this.load()}))}},load:function(){var e=this.map.url;n[e]||(n[e]=!0,l.load(this.map.id,e))},check:function(){if(this.enabled&&!this.enabling){var t,e,i=this.map.id,r=this.depExports,n=this.exports,o=this.factory;if(this.inited){if(this.error)this.emit(\"error\",this.error);else if(!this.defining){if(this.defining=!0,this.depCount<1&&!this.defined){if(isFunction(o)){if(this.events.error&&this.map.isDefine||req.onError!==defaultOnError)try{n=l.execCb(i,o,r,n)}catch(e){t=e}else n=l.execCb(i,o,r,n);if(this.map.isDefine&&void 0===n&&((e=this.module)?n=e.exports:this.usingExports&&(n=this.exports)),t)return t.requireMap=this.map,t.requireModules=this.map.isDefine?[this.map.id]:null,t.requireType=this.map.isDefine?\"define\":\"require\",O(this.error=t)}else n=o;if(this.exports=n,this.map.isDefine&&!this.ignore&&(m[i]=n,req.onResourceLoad)){var a=[];each(this.depMaps,function(e){a.push(e.normalizedMap||e)}),req.onResourceLoad(l,this.map,a)}P(i),this.defined=!0}this.defining=!1,this.defined&&!this.defineEmitted&&(this.defineEmitted=!0,this.emit(\"defined\",this.exports),this.defineEmitComplete=!0)}}else hasProp(l.defQueueMap,i)||this.fetch()}},callPlugin:function(){var u=this.map,c=u.id,e=S(u.prefix);this.depMaps.push(e),M(e,\"defined\",bind(this,function(e){var o,t,i,r=getOwn(v,this.map.id),n=this.map.name,a=this.map.parentMap?this.map.parentMap.name:null,s=l.makeRequire(u.parentMap,{enableBuildCallback:!0});return this.map.unnormalized?(e.normalize&&(n=e.normalize(n,function(e){return q(e,a,!0)})||\"\"),M(t=S(u.prefix+\"!\"+n,this.map.parentMap,!0),\"defined\",bind(this,function(e){this.map.normalizedMap=t,this.init([],function(){return e},null,{enabled:!0,ignore:!0})})),void((i=getOwn(p,t.id))&&(this.depMaps.push(t),this.events.error&&i.on(\"error\",bind(this,function(e){this.emit(\"error\",e)})),i.enable()))):r?(this.map.url=l.nameToUrl(r),void this.load()):((o=bind(this,function(e){this.init([],function(){return e},null,{enabled:!0})})).error=bind(this,function(e){this.inited=!0,(this.error=e).requireModules=[c],eachProp(p,function(e){0===e.map.id.indexOf(c+\"_unnormalized\")&&P(e.map.id)}),O(e)}),o.fromText=bind(this,function(e,t){var i=u.name,r=S(i),n=useInteractive;t&&(e=t),n&&(useInteractive=!1),k(r),hasProp(g.config,c)&&(g.config[i]=g.config[c]);try{req.exec(e)}catch(e){return O(makeError(\"fromtexteval\",\"fromText eval for \"+c+\" failed: \"+e,e,[c]))}n&&(useInteractive=!0),this.depMaps.push(r),l.completeLoad(i),s([i],o)}),void e.load(u.name,s,o,g))})),l.enable(e,this),this.pluginMaps[e.id]=e},enable:function(){(f[this.map.id]=this).enabled=!0,this.enabling=!0,each(this.depMaps,bind(this,function(e,t){var i,r,n;if(\"string\"==typeof e){if(e=S(e,this.map.isDefine?this.map:this.map.parentMap,!1,!this.skipMap),this.depMaps[t]=e,n=getOwn(c,e.id))return void(this.depExports[t]=n(this));this.depCount+=1,M(e,\"defined\",bind(this,function(e){this.undefed||(this.defineDep(t,e),this.check())})),this.errback?M(e,\"error\",bind(this,this.errback)):this.events.error&&M(e,\"error\",bind(this,function(e){this.emit(\"error\",e)}))}i=e.id,r=p[i],hasProp(c,i)||!r||r.enabled||l.enable(e,this)})),eachProp(this.pluginMaps,bind(this,function(e){var t=getOwn(p,e.id);t&&!t.enabled&&l.enable(e,this)})),this.enabling=!1,this.check()},on:function(e,t){var i=this.events[e];i||(i=this.events[e]=[]),i.push(t)},emit:function(e,t){each(this.events[e],function(e){e(t)}),\"error\"===e&&delete this.events[e]}},(l={config:g,contextName:u,registry:p,defined:m,urlFetched:n,defQueue:h,defQueueMap:{},Module:e,makeModuleMap:S,nextTick:req.nextTick,onError:O,configure:function(e){if(e.baseUrl&&\"/\"!==e.baseUrl.charAt(e.baseUrl.length-1)&&(e.baseUrl+=\"/\"),\"string\"==typeof e.urlArgs){var i=e.urlArgs;e.urlArgs=function(e,t){return(-1===t.indexOf(\"?\")?\"?\":\"&\")+i}}var r=g.shim,n={paths:!0,bundles:!0,config:!0,map:!0};eachProp(e,function(e,t){n[t]?(g[t]||(g[t]={}),mixin(g[t],e,!0,!0)):g[t]=e}),e.bundles&&eachProp(e.bundles,function(e,t){each(e,function(e){e!==t&&(v[e]=t)})}),e.shim&&(eachProp(e.shim,function(e,t){isArray(e)&&(e={deps:e}),!e.exports&&!e.init||e.exportsFn||(e.exportsFn=l.makeShimExports(e)),r[t]=e}),g.shim=r),e.packages&&each(e.packages,function(e){var t;t=(e=\"string\"==typeof e?{name:e}:e).name,e.location&&(g.paths[t]=e.location),g.pkgs[t]=e.name+\"/\"+(e.main||\"main\").replace(currDirRegExp,\"\").replace(jsSuffixRegExp,\"\")}),eachProp(p,function(e,t){e.inited||e.map.unnormalized||(e.map=S(t,null,!0))}),(e.deps||e.callback)&&l.require(e.deps||[],e.callback)},makeShimExports:function(t){return function(){var e;return t.init&&(e=t.init.apply(global,arguments)),e||t.exports&&getGlobal(t.exports)}},makeRequire:function(o,a){function s(e,t,i){var r,n;return a.enableBuildCallback&&t&&isFunction(t)&&(t.__requireJsBuild=!0),\"string\"==typeof e?isFunction(t)?O(makeError(\"requireargs\",\"Invalid require call\"),i):o&&hasProp(c,e)?c[e](p[o.id]):req.get?req.get(l,e,o,s):(r=S(e,o,!1,!0).id,hasProp(m,r)?m[r]:O(makeError(\"notloaded\",'Module name \"'+r+'\" has not been loaded yet for context: '+u+(o?\"\":\". Use require([])\")))):(T(),l.nextTick(function(){T(),(n=k(S(null,o))).skipMap=a.skipMap,n.init(e,t,i,{enabled:!0}),R()}),s)}return a=a||{},mixin(s,{isBrowser:isBrowser,toUrl:function(e){var t,i=e.lastIndexOf(\".\"),r=e.split(\"/\")[0];return-1!==i&&(!(\".\"===r||\"..\"===r)||1<i)&&(t=e.substring(i,e.length),e=e.substring(0,i)),l.nameToUrl(q(e,o&&o.id,!0),t,!0)},defined:function(e){return hasProp(m,S(e,o,!1,!0).id)},specified:function(e){return e=S(e,o,!1,!0).id,hasProp(m,e)||hasProp(p,e)}}),o||(s.undef=function(i){j();var e=S(i,o,!0),t=getOwn(p,i);t.undefed=!0,E(i),delete m[i],delete n[e.url],delete r[i],eachReverse(h,function(e,t){e[0]===i&&h.splice(t,1)}),delete l.defQueueMap[i],t&&(t.events.defined&&(r[i]=t.events),P(i))}),s},enable:function(e){getOwn(p,e.id)&&k(e).enable()},completeLoad:function(e){var t,i,r,n=getOwn(g.shim,e)||{},o=n.exports;for(j();h.length;){if(null===(i=h.shift())[0]){if(i[0]=e,t)break;t=!0}else i[0]===e&&(t=!0);a(i)}if(l.defQueueMap={},r=getOwn(p,e),!t&&!hasProp(m,e)&&r&&!r.inited){if(!(!g.enforceDefine||o&&getGlobal(o)))return w(e)?void 0:O(makeError(\"nodefine\",\"No define call for \"+e,null,[e]));a([e,n.deps||[],n.exportsFn])}R()},nameToUrl:function(e,t,i){var r,n,o,a,s,u,c=getOwn(g.pkgs,e);if(c&&(e=c),u=getOwn(v,e))return l.nameToUrl(u,t,i);if(req.jsExtRegExp.test(e))a=e+(t||\"\");else{for(r=g.paths,o=(n=e.split(\"/\")).length;0<o;o-=1)if(s=getOwn(r,n.slice(0,o).join(\"/\"))){isArray(s)&&(s=s[0]),n.splice(0,o,s);break}a=n.join(\"/\"),a=(\"/\"===(a+=t||(/^data\\:|^blob\\:|\\?/.test(a)||i?\"\":\".js\")).charAt(0)||a.match(/^[\\w\\+\\.\\-]+:/)?\"\":g.baseUrl)+a}return g.urlArgs&&!/^blob\\:/.test(a)?a+g.urlArgs(e,a):a},load:function(e,t){req.load(l,e,t)},execCb:function(e,t,i,r){return t.apply(r,i)},onScriptLoad:function(e){if(\"load\"===e.type||readyRegExp.test((e.currentTarget||e.srcElement).readyState)){interactiveScript=null;var t=s(e);l.completeLoad(t.id)}},onScriptError:function(e){var i=s(e);if(!w(i.id)){var r=[];return eachProp(p,function(e,t){0!==t.indexOf(\"_@r\")&&each(e.depMaps,function(e){if(e.id===i.id)return r.push(t),!0})}),O(makeError(\"scripterror\",'Script error for \"'+i.id+(r.length?'\", needed by: '+r.join(\", \"):'\"'),e,[i.id]))}}}).require=l.makeRequire(),l}function getInteractiveScript(){return interactiveScript&&\"interactive\"===interactiveScript.readyState||eachReverse(scripts(),function(e){if(\"interactive\"===e.readyState)return interactiveScript=e}),interactiveScript}}(this,\"undefined\"==typeof setTimeout?void 0:setTimeout); </script>\n",
       "<script> /*! dom-to-image 10-06-2017 */\n",
       "!function(a){\"use strict\";function b(a,b){function c(a){return b.bgcolor&&(a.style.backgroundColor=b.bgcolor),b.width&&(a.style.width=b.width+\"px\"),b.height&&(a.style.height=b.height+\"px\"),b.style&&Object.keys(b.style).forEach(function(c){a.style[c]=b.style[c]}),a}return b=b||{},g(b),Promise.resolve(a).then(function(a){return i(a,b.filter,!0)}).then(j).then(k).then(c).then(function(c){return l(c,b.width||q.width(a),b.height||q.height(a))})}function c(a,b){return h(a,b||{}).then(function(b){return b.getContext(\"2d\").getImageData(0,0,q.width(a),q.height(a)).data})}function d(a,b){return h(a,b||{}).then(function(a){return a.toDataURL()})}function e(a,b){return b=b||{},h(a,b).then(function(a){return a.toDataURL(\"image/jpeg\",b.quality||1)})}function f(a,b){return h(a,b||{}).then(q.canvasToBlob)}function g(a){\"undefined\"==typeof a.imagePlaceholder?v.impl.options.imagePlaceholder=u.imagePlaceholder:v.impl.options.imagePlaceholder=a.imagePlaceholder,\"undefined\"==typeof a.cacheBust?v.impl.options.cacheBust=u.cacheBust:v.impl.options.cacheBust=a.cacheBust}function h(a,c){function d(a){var b=document.createElement(\"canvas\");if(b.width=c.width||q.width(a),b.height=c.height||q.height(a),c.bgcolor){var d=b.getContext(\"2d\");d.fillStyle=c.bgcolor,d.fillRect(0,0,b.width,b.height)}return b}return b(a,c).then(q.makeImage).then(q.delay(100)).then(function(b){var c=d(a);return c.getContext(\"2d\").drawImage(b,0,0),c})}function i(a,b,c){function d(a){return a instanceof HTMLCanvasElement?q.makeImage(a.toDataURL()):a.cloneNode(!1)}function e(a,b,c){function d(a,b,c){var d=Promise.resolve();return b.forEach(function(b){d=d.then(function(){return i(b,c)}).then(function(b){b&&a.appendChild(b)})}),d}var e=a.childNodes;return 0===e.length?Promise.resolve(b):d(b,q.asArray(e),c).then(function(){return b})}function f(a,b){function c(){function c(a,b){function c(a,b){q.asArray(a).forEach(function(c){b.setProperty(c,a.getPropertyValue(c),a.getPropertyPriority(c))})}a.cssText?b.cssText=a.cssText:c(a,b)}c(window.getComputedStyle(a),b.style)}function d(){function c(c){function d(a,b,c){function d(a){var b=a.getPropertyValue(\"content\");return a.cssText+\" content: \"+b+\";\"}function e(a){function b(b){return b+\": \"+a.getPropertyValue(b)+(a.getPropertyPriority(b)?\" !important\":\"\")}return q.asArray(a).map(b).join(\"; \")+\";\"}var f=\".\"+a+\":\"+b,g=c.cssText?d(c):e(c);return document.createTextNode(f+\"{\"+g+\"}\")}var e=window.getComputedStyle(a,c),f=e.getPropertyValue(\"content\");if(\"\"!==f&&\"none\"!==f){var g=q.uid();b.className=b.className+\" \"+g;var h=document.createElement(\"style\");h.appendChild(d(g,c,e)),b.appendChild(h)}}[\":before\",\":after\"].forEach(function(a){c(a)})}function e(){a instanceof HTMLTextAreaElement&&(b.innerHTML=a.value),a instanceof HTMLInputElement&&b.setAttribute(\"value\",a.value)}function f(){b instanceof SVGElement&&(b.setAttribute(\"xmlns\",\"http://www.w3.org/2000/svg\"),b instanceof SVGRectElement&&[\"width\",\"height\"].forEach(function(a){var c=b.getAttribute(a);c&&b.style.setProperty(a,c)}))}return b instanceof Element?Promise.resolve().then(c).then(d).then(e).then(f).then(function(){return b}):b}return c||!b||b(a)?Promise.resolve(a).then(d).then(function(c){return e(a,c,b)}).then(function(b){return f(a,b)}):Promise.resolve()}function j(a){return s.resolveAll().then(function(b){var c=document.createElement(\"style\");return a.appendChild(c),c.appendChild(document.createTextNode(b)),a})}function k(a){return t.inlineAll(a).then(function(){return a})}function l(a,b,c){return Promise.resolve(a).then(function(a){return a.setAttribute(\"xmlns\",\"http://www.w3.org/1999/xhtml\"),(new XMLSerializer).serializeToString(a)}).then(q.escapeXhtml).then(function(a){return'<foreignObject x=\"0\" y=\"0\" width=\"100%\" height=\"100%\">'+a+\"</foreignObject>\"}).then(function(a){return'<svg xmlns=\"http://www.w3.org/2000/svg\" width=\"'+b+'\" height=\"'+c+'\">'+a+\"</svg>\"}).then(function(a){return\"data:image/svg+xml;charset=utf-8,\"+a})}function m(){function a(){var a=\"application/font-woff\",b=\"image/jpeg\";return{woff:a,woff2:a,ttf:\"application/font-truetype\",eot:\"application/vnd.ms-fontobject\",png:\"image/png\",jpg:b,jpeg:b,gif:\"image/gif\",tiff:\"image/tiff\",svg:\"image/svg+xml\"}}function b(a){var b=/\\.([^\\.\\/]*?)$/g.exec(a);return b?b[1]:\"\"}function c(c){var d=b(c).toLowerCase();return a()[d]||\"\"}function d(a){return a.search(/^(data:)/)!==-1}function e(a){return new Promise(function(b){for(var c=window.atob(a.toDataURL().split(\",\")[1]),d=c.length,e=new Uint8Array(d),f=0;f<d;f++)e[f]=c.charCodeAt(f);b(new Blob([e],{type:\"image/png\"}))})}function f(a){return a.toBlob?new Promise(function(b){a.toBlob(b)}):e(a)}function g(a,b){var c=document.implementation.createHTMLDocument(),d=c.createElement(\"base\");c.head.appendChild(d);var e=c.createElement(\"a\");return c.body.appendChild(e),d.href=b,e.href=a,e.href}function h(){var a=0;return function(){function b(){return(\"0000\"+(Math.random()*Math.pow(36,4)<<0).toString(36)).slice(-4)}return\"u\"+b()+a++}}function i(a){return new Promise(function(b,c){var d=new Image;d.onload=function(){b(d)},d.onerror=c,d.src=a})}function j(a){var b=3e4;return v.impl.options.cacheBust&&(a+=(/\\?/.test(a)?\"&\":\"?\")+(new Date).getTime()),new Promise(function(c){function d(){if(4===g.readyState){if(200!==g.status)return void(h?c(h):f(\"cannot fetch resource: \"+a+\", status: \"+g.status));var b=new FileReader;b.onloadend=function(){var a=b.result.split(/,/)[1];c(a)},b.readAsDataURL(g.response)}}function e(){h?c(h):f(\"timeout of \"+b+\"ms occured while fetching resource: \"+a)}function f(a){console.error(a),c(\"\")}var g=new XMLHttpRequest;g.onreadystatechange=d,g.ontimeout=e,g.responseType=\"blob\",g.timeout=b,g.open(\"GET\",a,!0),g.send();var h;if(v.impl.options.imagePlaceholder){var i=v.impl.options.imagePlaceholder.split(/,/);i&&i[1]&&(h=i[1])}})}function k(a,b){return\"data:\"+b+\";base64,\"+a}function l(a){return a.replace(/([.*+?^${}()|\\[\\]\\/\\\\])/g,\"\\\\$1\")}function m(a){return function(b){return new Promise(function(c){setTimeout(function(){c(b)},a)})}}function n(a){for(var b=[],c=a.length,d=0;d<c;d++)b.push(a[d]);return b}function o(a){return a.replace(/#/g,\"%23\").replace(/\\n/g,\"%0A\")}function p(a){var b=r(a,\"border-left-width\"),c=r(a,\"border-right-width\");return a.scrollWidth+b+c}function q(a){var b=r(a,\"border-top-width\"),c=r(a,\"border-bottom-width\");return a.scrollHeight+b+c}function r(a,b){var c=window.getComputedStyle(a).getPropertyValue(b);return parseFloat(c.replace(\"px\",\"\"))}return{escape:l,parseExtension:b,mimeType:c,dataAsUrl:k,isDataUrl:d,canvasToBlob:f,resolveUrl:g,getAndEncode:j,uid:h(),delay:m,asArray:n,escapeXhtml:o,makeImage:i,width:p,height:q}}function n(){function a(a){return a.search(e)!==-1}function b(a){for(var b,c=[];null!==(b=e.exec(a));)c.push(b[1]);return c.filter(function(a){return!q.isDataUrl(a)})}function c(a,b,c,d){function e(a){return new RegExp(\"(url\\\\(['\\\"]?)(\"+q.escape(a)+\")(['\\\"]?\\\\))\",\"g\")}return Promise.resolve(b).then(function(a){return c?q.resolveUrl(a,c):a}).then(d||q.getAndEncode).then(function(a){return q.dataAsUrl(a,q.mimeType(b))}).then(function(c){return a.replace(e(b),\"$1\"+c+\"$3\")})}function d(d,e,f){function g(){return!a(d)}return g()?Promise.resolve(d):Promise.resolve(d).then(b).then(function(a){var b=Promise.resolve(d);return a.forEach(function(a){b=b.then(function(b){return c(b,a,e,f)})}),b})}var e=/url\\(['\"]?([^'\"]+?)['\"]?\\)/g;return{inlineAll:d,shouldProcess:a,impl:{readUrls:b,inline:c}}}function o(){function a(){return b(document).then(function(a){return Promise.all(a.map(function(a){return a.resolve()}))}).then(function(a){return a.join(\"\\n\")})}function b(){function a(a){return a.filter(function(a){return a.type===CSSRule.FONT_FACE_RULE}).filter(function(a){return r.shouldProcess(a.style.getPropertyValue(\"src\"))})}function b(a){var b=[];return a.forEach(function(a){try{q.asArray(a.cssRules||[]).forEach(b.push.bind(b))}catch(c){console.log(\"Error while reading CSS rules from \"+a.href,c.toString())}}),b}function c(a){return{resolve:function(){var b=(a.parentStyleSheet||{}).href;return r.inlineAll(a.cssText,b)},src:function(){return a.style.getPropertyValue(\"src\")}}}return Promise.resolve(q.asArray(document.styleSheets)).then(b).then(a).then(function(a){return a.map(c)})}return{resolveAll:a,impl:{readAll:b}}}function p(){function a(a){function b(b){return q.isDataUrl(a.src)?Promise.resolve():Promise.resolve(a.src).then(b||q.getAndEncode).then(function(b){return q.dataAsUrl(b,q.mimeType(a.src))}).then(function(b){return new Promise(function(c,d){a.onload=c,a.onerror=d,a.src=b})})}return{inline:b}}function b(c){function d(a){var b=a.style.getPropertyValue(\"background\");return b?r.inlineAll(b).then(function(b){a.style.setProperty(\"background\",b,a.style.getPropertyPriority(\"background\"))}).then(function(){return a}):Promise.resolve(a)}return c instanceof Element?d(c).then(function(){return c instanceof HTMLImageElement?a(c).inline():Promise.all(q.asArray(c.childNodes).map(function(a){return b(a)}))}):Promise.resolve(c)}return{inlineAll:b,impl:{newImage:a}}}var q=m(),r=n(),s=o(),t=p(),u={imagePlaceholder:void 0,cacheBust:!1},v={toSvg:b,toPng:d,toJpeg:e,toBlob:f,toPixelData:c,impl:{fontFaces:s,images:t,util:q,inliner:r,options:{}}};\"undefined\"!=typeof module?module.exports=v:a.domtoimage=v}(this); </script>\n",
       "<script>\n",
       " require.config({\n",
       "   paths: {\n",
       "     'plotly': \"https://cdn.plot.ly/plotly-latest.min\",\n",
       "     'macy': \"https://cdn.jsdelivr.net/npm/macy@2.5.1/dist/macy.min\"\n",
       "   },\n",
       " })\n",
       "require( ['plotly', 'macy'], function(Plotly, Macy) {\n",
       " window.Plotly = Plotly;\n",
       " window.Macy = Macy;\n",
       "})\n",
       "</script>\n"
      ]
     },
     "metadata": {},
     "output_type": "display_data"
    },
    {
     "data": {
      "text/plain": [
       "\u001b[32mimport \u001b[39m\u001b[36morg.carbonateresearch.picta.render.Html.initNotebook // required to initialize jupyter notebook mode\n",
       "\u001b[39m"
      ]
     },
     "execution_count": 3,
     "metadata": {},
     "output_type": "execute_result"
    }
   ],
   "source": [
    "import org.carbonateresearch.picta.render.Html.initNotebook // required to initialize jupyter notebook mode\n",
    "initNotebook() // stops ugly output"
   ]
  },
  {
   "cell_type": "code",
   "execution_count": 4,
   "metadata": {},
   "outputs": [],
   "source": [
    "import org.carbonateresearch.picta._"
   ]
  },
  {
   "cell_type": "code",
   "execution_count": 5,
   "metadata": {},
   "outputs": [
    {
     "data": {
      "text/html": [
       "<div id=\"grid-container_KolvrICqBj\" class=\"grid-container\" align=\"center\"> \n",
       "<div class=\"grid-title\" align=\"center\"> <h1>The Picta Grid</h1> </div> \n",
       "<div id=\"grid_KolvrICqBj\" class=\"grid\" align=\"center\"> \n",
       "<div id=\"graph_qs5GCIOKqG\" class=\"graph\"></div> \n",
       "<div id=\"graph_fkte0jlIT4\" class=\"graph\"></div> \n",
       "<div id=\"graph_hOIiMQx5wo\" class=\"graph\"></div> \n",
       "<div id=\"graph_rkMiKcOnQW\" class=\"graph\"></div> \n",
       "</div> \n",
       "</div> \n",
       "\n",
       "<div align=\"center\">\n",
       "<button id = \"saveAsPNG_KolvrICqBj\" class=\"picta-button\">Download Canvas as PNG</button>\n",
       "</div>\n",
       "<script>\n",
       "var masonry = new Macy({\n",
       "    container: '#grid_KolvrICqBj',\n",
       "    debug: true,\n",
       "    mobileFirst: true,\n",
       "    columns: 2,\n",
       "    margin: {\n",
       "        x: 0,\n",
       "        y: 0\n",
       "    }\n",
       "  });\n",
       "\n",
       " var traces_qs5GCIOKqG = [{\"name\":\"a\",\"type\":\"scatter\",\"mode\":\"markers\",\"x\":[36.847886110475834,45.758957750801535,46.90532925836715,45.994614027221274,39.147680276193654,4.013762034311652,15.69985181172452,22.84325515401632,48.33090266949187,40.79621498487133,37.920687113981,37.33494360097477,49.96222375925274,35.07535990854544,15.654736924668672,36.852461028582525,44.07739408086941,3.7991333259022486,33.383168001065975,7.985598906624258,9.488169720253165,21.411706352079573,43.58276943415352,1.0334837323322077,24.341682521294327,7.43900051074437,4.001824473658244,17.07350715339756,26.706520076978556,35.2628006521131,32.53608805930071,49.31593353663065,46.4675529479974,28.729265593299537,40.796486557738746,37.89486573875842,45.133839821237714,47.07555847027056,35.43866325643986,9.990417493212679,13.298666812079873,12.808669590736683,37.115524455124124,35.23356585283736,46.43806148884993,11.633435308109819,10.51743915302749,29.714289442116478,48.493905105352994,38.30211883167295,25.380770705746603,40.59527810693256,49.25998612834532,27.345823215917413,27.57393491099404,37.32757714833756,15.974165804434081,43.04838821256206,41.41118726833473,24.77124087276006,41.71702678688104,8.736320710152196,49.19786574068878,28.143149698756076,3.227197586519248,31.48370599200947,1.6768274029844321,29.645825733009268,48.565772010577184,24.66890378053101,3.524334287102632,11.875199653025865,0.6970295257754389,47.47028535004304,41.33465658147762,33.66194196403784,46.49992394594083,17.351079698194923,27.636173843693513,29.870083335939928,21.98456039084914,8.858864400342553,23.39779385723761,37.858335452281445,3.560174756008089,29.653077210452704,23.212983312152325,9.803597117722063,22.085859429324913,12.57431876486963,41.88975095929473,21.892855513612307,31.1325800356918,30.782147755488452,28.52844393160188,38.50874536321715,33.3947590234375,31.513402810966042,4.335200367299985,31.965743154576952],\"y\":[49.51200225319053,42.85102122424634,23.397452852689455,46.09806485791389,1.696284024818978,37.0436952087619,41.43887012105667,25.057003441405147,30.50717731401111,33.37959574575673,46.17465203166542,7.044567724766043,16.877496289939653,43.39279783091007,4.30410071942725,6.391933024584906,43.063966471118434,1.2689150814004735,14.40591322441162,26.385361306752326,45.58230332184344,32.71685582937862,22.042646588395126,9.548856916727843,40.38336567674533,46.286497830685356,3.234338556531524,41.712018577541066,35.53679501120432,32.137464675124185,5.12726529624824,31.123135513235916,39.51082007074403,24.602086562663715,48.16233856705278,34.11174675185784,23.77168904727206,26.536020446978025,42.33867513301895,44.36151867776469,6.873426504353914,5.412869527165287,1.2713535348478022,3.7234272853931216,43.46841881688244,3.3945825083288304,1.6584328003149018,28.68088739289756,25.741557265634917,6.197242687445176,32.50077812267789,28.07258797436438,36.6554514401518,38.472302995289084,7.959294319810828,14.48546687607749,34.091503924189574,46.636174786704935,30.087654030379298,33.849363580763125,42.48137981931475,43.60649113734177,32.84462990551659,5.19655650408829,33.84567259877783,23.741241327441475,16.76868733933558,25.29351798685935,43.29136629104127,10.42737838255438,44.488440634401194,0.9088570933706019,34.966903860944704,23.228380117797887,10.846168278270724,24.85058169729083,13.233489581801605,46.275637819724594,27.82755250336531,10.587430821180755,10.383489928987089,44.67644134192254,23.719326623178354,44.26316912414185,26.621564833505445,11.111722751957636,47.95754949071639,2.219393333858344,0.22143964110906134,30.50958667115576,47.98272467580861,16.761535806332343,45.78098877151298,26.706096913020232,42.08399923092598,2.8343632689267926,16.320549333459777,1.3426085104051355,2.6932124653602507,33.51745452735438]}];\n",
       " var layout_qs5GCIOKqG = {\"height\":350,\"width\":350,\"hovermode\":\"closest\",\"legend\":{\"orientation\":\"v\"},\"showlegend\":true,\"margin\":{\"l\":50,\"r\":30,\"t\":50,\"b\":50},\"xaxis\":{\"title\":{\"text\":\"x axis 1\"},\"showgrid\":true,\"zeroline\":false,\"showline\":false},\"yaxis\":{\"title\":{\"text\":\"y axis 1\"},\"showgrid\":true,\"zeroline\":false,\"showline\":false}};\n",
       " var config_qs5GCIOKqG = {\"responsive\":true,\"scrollZoom\":true,\"displaylogo\":false};\n",
       " Plotly.newPlot(\"graph_qs5GCIOKqG\", traces_qs5GCIOKqG, layout_qs5GCIOKqG, config_qs5GCIOKqG);\n",
       "\n",
       " var traces_fkte0jlIT4 = [{\"name\":\"a\",\"type\":\"scatter\",\"mode\":\"markers\",\"x\":[36.847886110475834,45.758957750801535,46.90532925836715,45.994614027221274,39.147680276193654,4.013762034311652,15.69985181172452,22.84325515401632,48.33090266949187,40.79621498487133,37.920687113981,37.33494360097477,49.96222375925274,35.07535990854544,15.654736924668672,36.852461028582525,44.07739408086941,3.7991333259022486,33.383168001065975,7.985598906624258,9.488169720253165,21.411706352079573,43.58276943415352,1.0334837323322077,24.341682521294327,7.43900051074437,4.001824473658244,17.07350715339756,26.706520076978556,35.2628006521131,32.53608805930071,49.31593353663065,46.4675529479974,28.729265593299537,40.796486557738746,37.89486573875842,45.133839821237714,47.07555847027056,35.43866325643986,9.990417493212679,13.298666812079873,12.808669590736683,37.115524455124124,35.23356585283736,46.43806148884993,11.633435308109819,10.51743915302749,29.714289442116478,48.493905105352994,38.30211883167295,25.380770705746603,40.59527810693256,49.25998612834532,27.345823215917413,27.57393491099404,37.32757714833756,15.974165804434081,43.04838821256206,41.41118726833473,24.77124087276006,41.71702678688104,8.736320710152196,49.19786574068878,28.143149698756076,3.227197586519248,31.48370599200947,1.6768274029844321,29.645825733009268,48.565772010577184,24.66890378053101,3.524334287102632,11.875199653025865,0.6970295257754389,47.47028535004304,41.33465658147762,33.66194196403784,46.49992394594083,17.351079698194923,27.636173843693513,29.870083335939928,21.98456039084914,8.858864400342553,23.39779385723761,37.858335452281445,3.560174756008089,29.653077210452704,23.212983312152325,9.803597117722063,22.085859429324913,12.57431876486963,41.88975095929473,21.892855513612307,31.1325800356918,30.782147755488452,28.52844393160188,38.50874536321715,33.3947590234375,31.513402810966042,4.335200367299985,31.965743154576952],\"y\":[49.51200225319053,42.85102122424634,23.397452852689455,46.09806485791389,1.696284024818978,37.0436952087619,41.43887012105667,25.057003441405147,30.50717731401111,33.37959574575673,46.17465203166542,7.044567724766043,16.877496289939653,43.39279783091007,4.30410071942725,6.391933024584906,43.063966471118434,1.2689150814004735,14.40591322441162,26.385361306752326,45.58230332184344,32.71685582937862,22.042646588395126,9.548856916727843,40.38336567674533,46.286497830685356,3.234338556531524,41.712018577541066,35.53679501120432,32.137464675124185,5.12726529624824,31.123135513235916,39.51082007074403,24.602086562663715,48.16233856705278,34.11174675185784,23.77168904727206,26.536020446978025,42.33867513301895,44.36151867776469,6.873426504353914,5.412869527165287,1.2713535348478022,3.7234272853931216,43.46841881688244,3.3945825083288304,1.6584328003149018,28.68088739289756,25.741557265634917,6.197242687445176,32.50077812267789,28.07258797436438,36.6554514401518,38.472302995289084,7.959294319810828,14.48546687607749,34.091503924189574,46.636174786704935,30.087654030379298,33.849363580763125,42.48137981931475,43.60649113734177,32.84462990551659,5.19655650408829,33.84567259877783,23.741241327441475,16.76868733933558,25.29351798685935,43.29136629104127,10.42737838255438,44.488440634401194,0.9088570933706019,34.966903860944704,23.228380117797887,10.846168278270724,24.85058169729083,13.233489581801605,46.275637819724594,27.82755250336531,10.587430821180755,10.383489928987089,44.67644134192254,23.719326623178354,44.26316912414185,26.621564833505445,11.111722751957636,47.95754949071639,2.219393333858344,0.22143964110906134,30.50958667115576,47.98272467580861,16.761535806332343,45.78098877151298,26.706096913020232,42.08399923092598,2.8343632689267926,16.320549333459777,1.3426085104051355,2.6932124653602507,33.51745452735438]}];\n",
       " var layout_fkte0jlIT4 = {\"height\":350,\"width\":350,\"hovermode\":\"closest\",\"legend\":{\"orientation\":\"v\"},\"showlegend\":true,\"margin\":{\"l\":50,\"r\":30,\"t\":50,\"b\":50},\"xaxis\":{\"title\":{\"text\":\"x axis 1\"},\"showgrid\":true,\"zeroline\":false,\"showline\":false},\"yaxis\":{\"title\":{\"text\":\"y axis 1\"},\"showgrid\":true,\"zeroline\":false,\"showline\":false}};\n",
       " var config_fkte0jlIT4 = {\"responsive\":true,\"scrollZoom\":true,\"displaylogo\":false};\n",
       " Plotly.newPlot(\"graph_fkte0jlIT4\", traces_fkte0jlIT4, layout_fkte0jlIT4, config_fkte0jlIT4);\n",
       "\n",
       " var traces_hOIiMQx5wo = [{\"name\":\"a\",\"type\":\"scatter\",\"mode\":\"markers\",\"x\":[36.847886110475834,45.758957750801535,46.90532925836715,45.994614027221274,39.147680276193654,4.013762034311652,15.69985181172452,22.84325515401632,48.33090266949187,40.79621498487133,37.920687113981,37.33494360097477,49.96222375925274,35.07535990854544,15.654736924668672,36.852461028582525,44.07739408086941,3.7991333259022486,33.383168001065975,7.985598906624258,9.488169720253165,21.411706352079573,43.58276943415352,1.0334837323322077,24.341682521294327,7.43900051074437,4.001824473658244,17.07350715339756,26.706520076978556,35.2628006521131,32.53608805930071,49.31593353663065,46.4675529479974,28.729265593299537,40.796486557738746,37.89486573875842,45.133839821237714,47.07555847027056,35.43866325643986,9.990417493212679,13.298666812079873,12.808669590736683,37.115524455124124,35.23356585283736,46.43806148884993,11.633435308109819,10.51743915302749,29.714289442116478,48.493905105352994,38.30211883167295,25.380770705746603,40.59527810693256,49.25998612834532,27.345823215917413,27.57393491099404,37.32757714833756,15.974165804434081,43.04838821256206,41.41118726833473,24.77124087276006,41.71702678688104,8.736320710152196,49.19786574068878,28.143149698756076,3.227197586519248,31.48370599200947,1.6768274029844321,29.645825733009268,48.565772010577184,24.66890378053101,3.524334287102632,11.875199653025865,0.6970295257754389,47.47028535004304,41.33465658147762,33.66194196403784,46.49992394594083,17.351079698194923,27.636173843693513,29.870083335939928,21.98456039084914,8.858864400342553,23.39779385723761,37.858335452281445,3.560174756008089,29.653077210452704,23.212983312152325,9.803597117722063,22.085859429324913,12.57431876486963,41.88975095929473,21.892855513612307,31.1325800356918,30.782147755488452,28.52844393160188,38.50874536321715,33.3947590234375,31.513402810966042,4.335200367299985,31.965743154576952],\"y\":[49.51200225319053,42.85102122424634,23.397452852689455,46.09806485791389,1.696284024818978,37.0436952087619,41.43887012105667,25.057003441405147,30.50717731401111,33.37959574575673,46.17465203166542,7.044567724766043,16.877496289939653,43.39279783091007,4.30410071942725,6.391933024584906,43.063966471118434,1.2689150814004735,14.40591322441162,26.385361306752326,45.58230332184344,32.71685582937862,22.042646588395126,9.548856916727843,40.38336567674533,46.286497830685356,3.234338556531524,41.712018577541066,35.53679501120432,32.137464675124185,5.12726529624824,31.123135513235916,39.51082007074403,24.602086562663715,48.16233856705278,34.11174675185784,23.77168904727206,26.536020446978025,42.33867513301895,44.36151867776469,6.873426504353914,5.412869527165287,1.2713535348478022,3.7234272853931216,43.46841881688244,3.3945825083288304,1.6584328003149018,28.68088739289756,25.741557265634917,6.197242687445176,32.50077812267789,28.07258797436438,36.6554514401518,38.472302995289084,7.959294319810828,14.48546687607749,34.091503924189574,46.636174786704935,30.087654030379298,33.849363580763125,42.48137981931475,43.60649113734177,32.84462990551659,5.19655650408829,33.84567259877783,23.741241327441475,16.76868733933558,25.29351798685935,43.29136629104127,10.42737838255438,44.488440634401194,0.9088570933706019,34.966903860944704,23.228380117797887,10.846168278270724,24.85058169729083,13.233489581801605,46.275637819724594,27.82755250336531,10.587430821180755,10.383489928987089,44.67644134192254,23.719326623178354,44.26316912414185,26.621564833505445,11.111722751957636,47.95754949071639,2.219393333858344,0.22143964110906134,30.50958667115576,47.98272467580861,16.761535806332343,45.78098877151298,26.706096913020232,42.08399923092598,2.8343632689267926,16.320549333459777,1.3426085104051355,2.6932124653602507,33.51745452735438]}];\n",
       " var layout_hOIiMQx5wo = {\"height\":350,\"width\":350,\"hovermode\":\"closest\",\"legend\":{\"orientation\":\"v\"},\"showlegend\":true,\"margin\":{\"l\":50,\"r\":30,\"t\":50,\"b\":50},\"xaxis\":{\"title\":{\"text\":\"x axis 1\"},\"showgrid\":true,\"zeroline\":false,\"showline\":false},\"yaxis\":{\"title\":{\"text\":\"y axis 1\"},\"showgrid\":true,\"zeroline\":false,\"showline\":false}};\n",
       " var config_hOIiMQx5wo = {\"responsive\":true,\"scrollZoom\":true,\"displaylogo\":false};\n",
       " Plotly.newPlot(\"graph_hOIiMQx5wo\", traces_hOIiMQx5wo, layout_hOIiMQx5wo, config_hOIiMQx5wo);\n",
       "\n",
       " var traces_rkMiKcOnQW = [{\"name\":\"a\",\"type\":\"scatter\",\"mode\":\"markers\",\"x\":[36.847886110475834,45.758957750801535,46.90532925836715,45.994614027221274,39.147680276193654,4.013762034311652,15.69985181172452,22.84325515401632,48.33090266949187,40.79621498487133,37.920687113981,37.33494360097477,49.96222375925274,35.07535990854544,15.654736924668672,36.852461028582525,44.07739408086941,3.7991333259022486,33.383168001065975,7.985598906624258,9.488169720253165,21.411706352079573,43.58276943415352,1.0334837323322077,24.341682521294327,7.43900051074437,4.001824473658244,17.07350715339756,26.706520076978556,35.2628006521131,32.53608805930071,49.31593353663065,46.4675529479974,28.729265593299537,40.796486557738746,37.89486573875842,45.133839821237714,47.07555847027056,35.43866325643986,9.990417493212679,13.298666812079873,12.808669590736683,37.115524455124124,35.23356585283736,46.43806148884993,11.633435308109819,10.51743915302749,29.714289442116478,48.493905105352994,38.30211883167295,25.380770705746603,40.59527810693256,49.25998612834532,27.345823215917413,27.57393491099404,37.32757714833756,15.974165804434081,43.04838821256206,41.41118726833473,24.77124087276006,41.71702678688104,8.736320710152196,49.19786574068878,28.143149698756076,3.227197586519248,31.48370599200947,1.6768274029844321,29.645825733009268,48.565772010577184,24.66890378053101,3.524334287102632,11.875199653025865,0.6970295257754389,47.47028535004304,41.33465658147762,33.66194196403784,46.49992394594083,17.351079698194923,27.636173843693513,29.870083335939928,21.98456039084914,8.858864400342553,23.39779385723761,37.858335452281445,3.560174756008089,29.653077210452704,23.212983312152325,9.803597117722063,22.085859429324913,12.57431876486963,41.88975095929473,21.892855513612307,31.1325800356918,30.782147755488452,28.52844393160188,38.50874536321715,33.3947590234375,31.513402810966042,4.335200367299985,31.965743154576952],\"y\":[49.51200225319053,42.85102122424634,23.397452852689455,46.09806485791389,1.696284024818978,37.0436952087619,41.43887012105667,25.057003441405147,30.50717731401111,33.37959574575673,46.17465203166542,7.044567724766043,16.877496289939653,43.39279783091007,4.30410071942725,6.391933024584906,43.063966471118434,1.2689150814004735,14.40591322441162,26.385361306752326,45.58230332184344,32.71685582937862,22.042646588395126,9.548856916727843,40.38336567674533,46.286497830685356,3.234338556531524,41.712018577541066,35.53679501120432,32.137464675124185,5.12726529624824,31.123135513235916,39.51082007074403,24.602086562663715,48.16233856705278,34.11174675185784,23.77168904727206,26.536020446978025,42.33867513301895,44.36151867776469,6.873426504353914,5.412869527165287,1.2713535348478022,3.7234272853931216,43.46841881688244,3.3945825083288304,1.6584328003149018,28.68088739289756,25.741557265634917,6.197242687445176,32.50077812267789,28.07258797436438,36.6554514401518,38.472302995289084,7.959294319810828,14.48546687607749,34.091503924189574,46.636174786704935,30.087654030379298,33.849363580763125,42.48137981931475,43.60649113734177,32.84462990551659,5.19655650408829,33.84567259877783,23.741241327441475,16.76868733933558,25.29351798685935,43.29136629104127,10.42737838255438,44.488440634401194,0.9088570933706019,34.966903860944704,23.228380117797887,10.846168278270724,24.85058169729083,13.233489581801605,46.275637819724594,27.82755250336531,10.587430821180755,10.383489928987089,44.67644134192254,23.719326623178354,44.26316912414185,26.621564833505445,11.111722751957636,47.95754949071639,2.219393333858344,0.22143964110906134,30.50958667115576,47.98272467580861,16.761535806332343,45.78098877151298,26.706096913020232,42.08399923092598,2.8343632689267926,16.320549333459777,1.3426085104051355,2.6932124653602507,33.51745452735438]}];\n",
       " var layout_rkMiKcOnQW = {\"height\":350,\"width\":350,\"hovermode\":\"closest\",\"legend\":{\"orientation\":\"v\"},\"showlegend\":true,\"margin\":{\"l\":50,\"r\":30,\"t\":50,\"b\":50},\"xaxis\":{\"title\":{\"text\":\"x axis 1\"},\"showgrid\":true,\"zeroline\":false,\"showline\":false},\"yaxis\":{\"title\":{\"text\":\"y axis 1\"},\"showgrid\":true,\"zeroline\":false,\"showline\":false}};\n",
       " var config_rkMiKcOnQW = {\"responsive\":true,\"scrollZoom\":true,\"displaylogo\":false};\n",
       " Plotly.newPlot(\"graph_rkMiKcOnQW\", traces_rkMiKcOnQW, layout_rkMiKcOnQW, config_rkMiKcOnQW);\n",
       "\n",
       "var save = document.getElementById(\"saveAsPNG_KolvrICqBj\")\n",
       "save.onclick = function() {\n",
       "    const grid = document.getElementById(\"grid-container_KolvrICqBj\")\n",
       "    const svg_containers = grid.getElementsByClassName('svg-container')\n",
       "    const main_svgs = grid.getElementsByClassName('main-svg')\n",
       "\n",
       "    const svg_containers_styles = []\n",
       "    const main_svgs_styles = []\n",
       "\n",
       "    const modebars = document.getElementsByClassName(\"modebar-container\")\n",
       "\n",
       "    for (var i = 0; i < modebars.length; i++) {\n",
       "        modebars[i].style.display = \"none\"\n",
       "    }\n",
       "\n",
       "    domtoimage.toPng(grid)\n",
       "    .then(function (dataUrl) {\n",
       "        var img = new Image();\n",
       "        img.src = dataUrl;\n",
       "        var link = document.createElement('a');\n",
       "        link.download = 'Picta-image.png';\n",
       "        link.href = dataUrl;\n",
       "        link.click()\n",
       "    })\n",
       "    .catch(function (error) {\n",
       "        console.error('oops, something went wrong!', error);\n",
       "    });\n",
       "}\n",
       "</script> \n"
      ]
     },
     "metadata": {},
     "output_type": "display_data"
    }
   ],
   "source": [
    "val x = List.range(0, 100).map(x => scala.util.Random.nextDouble() * 50)\n",
    "val y = List.range(0, 100).map(x => scala.util.Random.nextDouble() * 50)\n",
    "val z = List.range(0, 100).map(x => scala.util.Random.nextDouble() * 50)\n",
    "\n",
    "// first define the x-axes we will use in the plot\n",
    "val ax1 = XAxis(title = \"x axis 1\")\n",
    "val ax2 = XAxis(title = \"x axis 2\")\n",
    "val ax3 = XAxis(title = \"x axis 3\")\n",
    "val ax4 = XAxis(title = \"x axis 4\")\n",
    "\n",
    "// first define the y-axes we will use in the plot\n",
    "val ax6 = YAxis(title = \"y axis 1\")\n",
    "val ax7 = YAxis(title = \"y axis 2\")\n",
    "val ax8 = YAxis(title = \"y axis 3\")\n",
    "val ax9 = YAxis(title = \"y axis 4\")\n",
    "\n",
    "// it may be necessary to play around with the chart dimensions and margin  in order to ensure a good fit on screen.\n",
    "val dim = 350\n",
    "\n",
    "val chart1 = (\n",
    "    Chart()\n",
    "    setDimensions(width = dim, height = dim)\n",
    "    addSeries (XY(x, y).setName(\"a\").drawMarkers)\n",
    "    addAxes(ax1, ax6)\n",
    "    setMargin(l=50, r=30, t=50, b=50)\n",
    ")\n",
    "\n",
    "// The canvas has an underlying grid. By default the underlying grid is 1x1, but we can pass in the dimensions we \n",
    "// require by passing in parameters in the constructor.\n",
    "Canvas(2, 2, title=\"The Picta Grid\")\n",
    ".setChart(0, 0, chart1)\n",
    ".setChart(0, 1, chart1)\n",
    ".setChart(1, 0, chart1)\n",
    ".setChart(1, 1, chart1)\n",
    ".plotInline"
   ]
  },
  {
   "cell_type": "code",
   "execution_count": 6,
   "metadata": {
    "scrolled": false
   },
   "outputs": [
    {
     "data": {
      "text/html": [
       "<div id=\"grid-container_rOry9disaz\" class=\"grid-container\" align=\"center\"> \n",
       "<div id=\"grid_rOry9disaz\" class=\"grid\" align=\"center\"> \n",
       "<div id=\"graph_nLbqYRuwAH\" class=\"graph\"></div> \n",
       "</div> \n",
       "</div> \n",
       "<script>\n",
       "var masonry = new Macy({\n",
       "    container: '#grid_rOry9disaz',\n",
       "    debug: true,\n",
       "    mobileFirst: true,\n",
       "    columns: 1,\n",
       "    margin: {\n",
       "        x: 0,\n",
       "        y: 0\n",
       "    }\n",
       "  });\n",
       "\n",
       " var traces_nLbqYRuwAH = [{\"name\":\"a\",\"type\":\"scatter\",\"mode\":\"markers\",\"x\":[35.79814426271368,47.0724294173051,15.143667059460242,39.551188155567004,13.743953217691523,41.002772198286024,21.22577150550275,9.130898745881776,28.137692541743814,30.602156458087222,42.95619019242836,26.580385305729337,40.33483320524919,44.53230729562418,33.1669256730566,11.325733566010621,25.2968420473892,38.51938975776728,15.848923125354252,36.904958152030886,46.63938124874479,20.692038972252014,8.896507788863078,16.766434673443424,6.344300046650147,5.898754322963795,26.817271068749964,47.98727330409909,1.0888265306448208,4.896051223050119,14.037589930471334,42.36260674230575,22.077055851072796,47.121061593942635,30.771864531167274,39.79530583508906,35.502918178707695,36.39705012760046,5.0739379598888465,47.20663596075208,26.33050835384098,47.3675290520953,26.65206046580672,27.291895782755727,28.946743606963576,36.714487505924694,40.304151074503245,25.36109102108534,4.42299687143059,17.288449434421366,49.41798755696431,19.233199865643023,5.616480539596963,25.162905118284407,12.881374968142628,6.693623067888998,48.14878566226031,49.322857808690046,11.960190908193274,7.377915026837739,27.418142869052947,41.207064892185606,27.22764842763226,1.1109025667321526,39.233586953707814,26.645756870149352,49.465948716658154,2.7088327226062416,24.40338217606865,5.870418180007947,2.611948591876656,34.04317818093052,15.666659066351162,48.219473672902794,31.281307627390838,47.76828082432309,18.72640469042172,16.92348288316229,0.18099134606373024,33.53099524639481,7.823553663462713,45.92570703923508,17.807913449745165,46.709022109293734,10.286071108032829,35.078699700119344,32.23185096043281,41.7656600496364,43.793585594989096,32.254816135735915,2.4736954781597484,17.16216658140906,4.717237925626905,30.918306904419858,25.01547295506762,36.43499979241974,35.82606695401907,29.52893590906441,41.31646061042883,30.52366696976325],\"y\":[26.895408826177242,24.781818693583062,18.86012232094344,9.72597576339621,22.309384402908318,44.13545310639694,35.21946928916502,19.7609512934114,25.61874844334362,14.339658808481893,1.903849646856992,15.335731265176411,2.196964739824059,11.74743788662666,42.338052067356955,46.34126295798532,37.63153039088989,47.07951173983083,36.22501914511349,6.3426150533691,11.294224526685076,2.007560649538237,10.75632205989933,30.383269350395693,41.653077473227604,7.431960730219311,47.65998075307052,49.28875475799233,2.320515594176337,33.65208201097437,33.91306406121116,10.633490398358381,45.57625590478728,0.7619633399366721,13.096932166058123,12.325747493346128,3.160184224026458,13.551465295256277,43.83583957207132,13.369131530302031,12.499592257705883,28.95274309824719,41.53503770508465,37.775014187074916,40.216760667104744,25.644178983778165,19.722384417968065,21.82885722870444,43.75706490724816,14.80864391054198,7.697874089234663,21.954389677386548,26.284368857848676,8.240250784495634,1.9083706121170885,0.2730952003503595,49.609646517560066,45.003519410032766,9.490259212826585,37.622523048833294,24.85041060901066,20.671129957886347,13.760564069432146,39.27540698402917,0.7626415140624343,13.801216962930319,33.08752393895262,46.89262039501546,15.243585462499631,12.762429622386733,6.5344747840479,1.3465064509972813,16.372902908192554,12.27471771243074,21.946293067752343,14.967123477593558,45.541308303415875,23.106113497992492,4.735539644846687,8.492485488052859,6.709971303214796,20.250500193561948,8.525839588861889,47.54487025354379,22.650592246048234,44.608668636175494,42.02291252237605,25.80879814369598,1.1352133687564658,20.704678845929823,30.009075768686955,37.25229833001714,1.476452565938574,8.291858024598003,40.1949155851829,7.7115800360864295,4.563009690841479,18.837495759758177,11.812229908251254,16.950268983704397]}];\n",
       " var layout_nLbqYRuwAH = {\"height\":550,\"width\":600,\"hovermode\":\"closest\",\"legend\":{\"orientation\":\"v\"},\"showlegend\":true};\n",
       " var config_nLbqYRuwAH = {\"responsive\":true,\"scrollZoom\":true,\"displaylogo\":false};\n",
       " Plotly.newPlot(\"graph_nLbqYRuwAH\", traces_nLbqYRuwAH, layout_nLbqYRuwAH, config_nLbqYRuwAH);\n",
       "</script> \n"
      ]
     },
     "metadata": {},
     "output_type": "display_data"
    }
   ],
   "source": [
    "val x = List.range(0, 100).map(x => scala.util.Random.nextDouble() * 50)\n",
    "val y = List.range(0, 100).map(x => scala.util.Random.nextDouble() * 50)\n",
    "val z = List.range(0, 100).map(x => scala.util.Random.nextDouble() * 50)\n",
    "\n",
    "val chart2 = (\n",
    "    Chart()\n",
    "    addSeries (XY(x, y).setName(\"a\").drawMarkers)\n",
    ").plotInline"
   ]
  },
  {
   "cell_type": "code",
   "execution_count": 8,
   "metadata": {},
   "outputs": [
    {
     "data": {
      "text/html": [
       "<div id=\"grid-container_k6NlVYaq4T\" class=\"grid-container\" align=\"center\"> \n",
       "<div id=\"grid_k6NlVYaq4T\" class=\"grid\" align=\"center\"> \n",
       "<div id=\"graph_QstKowRIRk\" class=\"graph\"></div> \n",
       "</div> \n",
       "</div> \n",
       "<script>\n",
       "var masonry = new Macy({\n",
       "    container: '#grid_k6NlVYaq4T',\n",
       "    debug: true,\n",
       "    mobileFirst: true,\n",
       "    columns: 1,\n",
       "    margin: {\n",
       "        x: 0,\n",
       "        y: 0\n",
       "    }\n",
       "  });\n",
       "\n",
       " var traces_QstKowRIRk = [{\"name\":\"rBv3RIjE2s\",\"type\":\"scatter\",\"mode\":\"markers\",\"x\":[30.962931960706612,48.071103091349016,8.21341175127554,22.911897591324166,8.026088978059043,27.80622420645857,46.836841197659155,44.34614098400694,48.14507206269172,25.281136779154128,25.61748899663056,17.566437007523355,10.620589406423253,36.32890055148131,11.092907436436118,32.752997324934405,28.35106742670978,3.9790888545205902,22.633593717659277,12.591157193271997,45.448780730577994,37.31716338284956,39.53917627900254,45.4947284538078,4.343523071358818,14.646215500767596,23.9711785546868,23.29544866334429,35.05479222743714,15.73411504440852,6.470710553352821,17.756761170863598,11.276349063406954,9.032590654049532,21.678568540584536,46.52988927594917,20.192394104394516,33.670787134880996,18.056898284968963,3.242456310459796,45.53251133103273,12.754390301069307,46.90567038603466,8.294672841775046,36.272910901922195,14.042364958300057,12.773901485055605,26.63535177372973,26.604379503907904,36.42694585695453,39.484668753797386,46.299811327082644,36.312773407373236,45.808458813600325,23.42461648535194,16.813966995846357,14.555739894251657,11.935123305441008,8.492782525553332,9.70368526094969,44.16976536632112,8.568980388760327,25.1602353075026,34.29574355113305,48.10454340936567,32.94259093023665,39.461131899416245,20.756502241874763,34.35702667943897,26.887201337604736,6.417447077285832,18.8866595326187,30.865434530566286,41.24155057363275,16.39379416456577,5.575223625211883,47.223877939418394,27.191539266142957,12.185354443048935,46.01310842802136,5.791136736958663,13.044476997313287,39.26110234385673,13.776523384462408,10.792537309157007,32.60764485379163,21.516163007629725,42.71258199140335,20.35175578265931,11.819439163841972,30.13123735623559,9.194344070773253,3.039768891211186,43.57234688475754,33.69371389023666,26.759734793966068,47.491054226699255,36.77056403252621,33.60420775042652,26.408603805384207],\"y\":[0.9125510986075891,14.581026307225075,49.973905134108435,44.90438373680151,39.89876868249791,8.565205139737586,29.7122427022729,0.31163524812165,24.866814235293916,49.91996678239907,0.31108362482554774,48.69800791561075,7.63803547959796,46.40937320462685,39.95068971949352,38.43888924252664,0.21831009181920158,3.735260664156975,26.9844565878559,8.885319629070748,21.666969754990223,3.07300034353879,19.603461745219636,18.29049786428898,19.09467356786607,32.28981973400609,49.53859427192318,31.837450686705132,8.293483410757297,36.96659699670998,42.027101634743445,4.370241867032998,49.27775738114774,8.760064789222433,47.952077729657546,4.003333376107948,12.102385837777968,12.870854151574479,43.05753589146324,42.168481861868955,48.72526969944072,23.423843781396293,13.448360694413953,2.8558332838920784,17.39383905864702,35.4207764158214,6.203561422068815,48.815625419374996,7.060807303665973,4.591153720847774,28.862907287827394,25.309189860882388,30.67222944347491,31.94588176072316,31.7911442750041,32.63269203812665,47.82133684306024,8.12921939689879,2.9806607734163326,47.08433943478978,39.224515358263965,13.768044174652621,45.72258120030203,36.305527679342255,37.75117096927965,35.93349481623921,45.75792185460988,38.998673953183086,23.327116252286757,7.558553417797931,16.014598897009318,10.909250555799904,11.931533261199744,6.196154192947484,33.84267720387783,28.656798611594738,12.12040217163447,10.855919316690382,7.779441413767141,40.509463855845965,36.03474494367971,10.823623863771397,28.307462309274495,8.518857668325792,35.689850322947784,38.346029434753945,19.813013490713843,49.56682938410869,39.492111293306834,7.854731275455073,19.00880267783688,3.8229807974442584,38.39292804702724,38.00617600909176,8.454142601733682,37.87153295685974,15.864570164182307,9.231022045188764,32.48731561950291,26.338420399129213]}];\n",
       " var layout_QstKowRIRk = {\"height\":550,\"width\":600,\"hovermode\":\"closest\",\"legend\":{\"orientation\":\"v\"},\"title\":{\"text\":\"2D Scatter\"},\"showlegend\":true};\n",
       " var config_QstKowRIRk = {\"responsive\":true,\"scrollZoom\":true,\"displaylogo\":false};\n",
       " Plotly.newPlot(\"graph_QstKowRIRk\", traces_QstKowRIRk, layout_QstKowRIRk, config_QstKowRIRk);\n",
       "</script> \n"
      ]
     },
     "metadata": {},
     "output_type": "display_data"
    }
   ],
   "source": [
    "val x = List.range(0, 100).map(x => scala.util.Random.nextDouble() * 50)\n",
    "val y = List.range(0, 100).map(x => scala.util.Random.nextDouble() * 50)\n",
    "val z = List.range(0, 100).map(x => scala.util.Random.nextDouble() * 50)\n",
    "\n",
    "val chart2 = Chart() addSeries (XY(x, y) asType SCATTER drawStyle MARKERS) setTitle \"2D Scatter\" \n",
    "\n",
    "chart2.plotInline"
   ]
  },
  {
   "cell_type": "code",
   "execution_count": null,
   "metadata": {},
   "outputs": [],
   "source": [
    "// import the 2d Density histogram options\n",
    "import org.carbonateresearch.picta.options.histogram2d.Hist2dOptions\n",
    "import org.carbonateresearch.picta.options.HORIZONTAL"
   ]
  },
  {
   "cell_type": "code",
   "execution_count": null,
   "metadata": {},
   "outputs": [],
   "source": [
    "// create some dummy data\n",
    "val x = List.range(0, 100).map(x => scala.util.Random.nextDouble() * 50)\n",
    "val y = List.range(0, 100).map(x => scala.util.Random.nextDouble() * 50)"
   ]
  },
  {
   "cell_type": "code",
   "execution_count": null,
   "metadata": {},
   "outputs": [],
   "source": [
    "val marker = Marker() setColor \"rgb(102,0,0)\"\n",
    "\n",
    "val series1 = XY(x, y) \n",
    "            .asType(SCATTER)\n",
    "            .drawMarkers\n",
    "            .setName(\"points\")\n",
    "            .setMarker(marker)\n",
    "\n",
    "\n",
    "val hist2d_options = Hist2dOptions(ncontours = 20, reversescale = false, showscale = true)\n",
    "\n",
    "val series2 = XY(x, y) \n",
    "            .setName(\"density\")\n",
    "            .asType(HISTOGRAM2DCONTOUR)\n",
    "            .setHist2dOptions(hist2d_options)\n",
    "\n",
    "val series3 = XY(x = x)\n",
    "            .asType(HISTOGRAM)\n",
    "            .setName(\"histogram\")\n",
    "            .setAxes(XAxis(), YAxis(2))\n",
    "\n",
    "val series4 = (XY(y)\n",
    "            .setName(\"y density\")\n",
    "            .asType(HISTOGRAM)\n",
    "            .setAxis(XAxis(2))\n",
    "            .setMarker(marker)\n",
    "            .setHistOptions(HistOptions(orientation = HORIZONTAL)))\n",
    "\n",
    "val ax1 = XAxis(showgrid = false) setDomain(0.0, 0.85)\n",
    "val ax2 = YAxis(showgrid = false) setDomain(0.0, 0.85)\n",
    "val ax3 = XAxis(position = 2, showgrid = false) setDomain(0.85, 1.0)\n",
    "val ax4 = YAxis(position = 2, showgrid = false) setDomain(0.85, 1.0)\n",
    "\n",
    "val layout = (\n",
    "    ChartLayout(\"Histogram2dContour With Density\", autosize = false, showlegend = false) \n",
    "    setAxes(ax1, ax2, ax3, ax4)\n",
    ")\n",
    "\n",
    "val chart = Chart() addSeries(series1, series2, series3, series4) setChartLayout layout\n",
    "\n",
    "chart.plotInline"
   ]
  }
 ],
 "metadata": {
  "kernelspec": {
   "display_name": "Scala",
   "language": "scala",
   "name": "scala"
  },
  "language_info": {
   "codemirror_mode": "text/x-scala",
   "file_extension": ".scala",
   "mimetype": "text/x-scala",
   "name": "scala",
   "nbconvert_exporter": "script",
   "version": "2.13.2"
  }
 },
 "nbformat": 4,
 "nbformat_minor": 4
}
