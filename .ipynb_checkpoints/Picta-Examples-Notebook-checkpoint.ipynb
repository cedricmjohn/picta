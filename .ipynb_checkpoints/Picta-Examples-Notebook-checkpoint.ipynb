{
 "cells": [
  {
   "cell_type": "markdown",
   "metadata": {},
   "source": [
    "# 1. Setup\n",
    "\n",
    "To use Picta in a Jupyter notebook with the Almond.sh kernel, you need to first register a new Jitpack repository as some essential components of Almond are not availble in Maven Central (simply copy and run the first cell below). You then need to import the library from Maven (second cell) and initialize the notebook to have nicer outputs (optional, third cell)."
   ]
  },
  {
   "cell_type": "code",
   "execution_count": 7,
   "metadata": {},
   "outputs": [],
   "source": [
    "interp.repositories() ++= Seq(coursierapi.MavenRepository.of(\n",
    "\"https://jitpack.io\"\n",
    "))"
   ]
  },
  {
   "cell_type": "code",
   "execution_count": 8,
   "metadata": {},
   "outputs": [],
   "source": [
    "import $ivy. `org.carbonateresearch::picta:0.1.1`"
   ]
  },
  {
   "cell_type": "code",
   "execution_count": 9,
   "metadata": {
    "scrolled": false
   },
   "outputs": [
    {
     "data": {
      "text/html": [
       "\n",
       "<style> #animationInterface {\n",
       "    margin-top: 50px;\n",
       "    margin-bottom: 50px;\n",
       "}\n",
       "\n",
       ".progressBar {\n",
       "    padding-top: 20px;\n",
       "    padding-bottom: 20px;\n",
       "}\n",
       "\n",
       ".inline-div {\n",
       "    display: block;\n",
       "    text-align: center;\n",
       "}\n",
       "\n",
       "h3 {\n",
       "    display: inline-block;\n",
       "    text-align: center;\n",
       "}\n",
       "\n",
       ".picta-button {\n",
       "    background-color: #003E74;\n",
       "    border: none;\n",
       "    color: white;\n",
       "    padding: 12px 28px;\n",
       "    text-align: center;\n",
       "    text-decoration: none;\n",
       "    display: inline-block;\n",
       "    font-size: 12px;\n",
       "    margin-top: 50px;\n",
       "    transition-duration: 0.4s;\n",
       "    cursor: pointer;\n",
       "}\n",
       "\n",
       ".picta-button:hover {\n",
       "    background-color: #002147;\n",
       "    color: white;\n",
       "}\n",
       "\n",
       ".grid-title h1 {\n",
       "    font-family: \"Open Sans\", verdana, arial, sans-serif;\n",
       "    font-weight: normal;\n",
       "}\n",
       "\n",
       ".grid-container {\n",
       "    padding-top: 40px;\n",
       "    background: white;\n",
       "} </style>\n",
       "<script> /** vim: et:ts=4:sw=4:sts=4\n",
       " * @license RequireJS 2.3.6 Copyright jQuery Foundation and other contributors.\n",
       " * Released under MIT license, https://github.com/requirejs/requirejs/blob/master/LICENSE\n",
       " */\n",
       "var requirejs,require,define;!function(global,setTimeout){var req,s,head,baseElement,dataMain,src,interactiveScript,currentlyAddingScript,mainScript,subPath,version=\"2.3.6\",commentRegExp=/\\/\\*[\\s\\S]*?\\*\\/|([^:\"'=]|^)\\/\\/.*$/gm,cjsRequireRegExp=/[^.]\\s*require\\s*\\(\\s*[\"']([^'\"\\s]+)[\"']\\s*\\)/g,jsSuffixRegExp=/\\.js$/,currDirRegExp=/^\\.\\//,op=Object.prototype,ostring=op.toString,hasOwn=op.hasOwnProperty,isBrowser=!(\"undefined\"==typeof window||\"undefined\"==typeof navigator||!window.document),isWebWorker=!isBrowser&&\"undefined\"!=typeof importScripts,readyRegExp=isBrowser&&\"PLAYSTATION 3\"===navigator.platform?/^complete$/:/^(complete|loaded)$/,defContextName=\"_\",isOpera=\"undefined\"!=typeof opera&&\"[object Opera]\"===opera.toString(),contexts={},cfg={},globalDefQueue=[],useInteractive=!1;function commentReplace(e,t){return t||\"\"}function isFunction(e){return\"[object Function]\"===ostring.call(e)}function isArray(e){return\"[object Array]\"===ostring.call(e)}function each(e,t){var i;if(e)for(i=0;i<e.length&&(!e[i]||!t(e[i],i,e));i+=1);}function eachReverse(e,t){var i;if(e)for(i=e.length-1;-1<i&&(!e[i]||!t(e[i],i,e));i-=1);}function hasProp(e,t){return hasOwn.call(e,t)}function getOwn(e,t){return hasProp(e,t)&&e[t]}function eachProp(e,t){var i;for(i in e)if(hasProp(e,i)&&t(e[i],i))break}function mixin(i,e,r,n){return e&&eachProp(e,function(e,t){!r&&hasProp(i,t)||(!n||\"object\"!=typeof e||!e||isArray(e)||isFunction(e)||e instanceof RegExp?i[t]=e:(i[t]||(i[t]={}),mixin(i[t],e,r,n)))}),i}function bind(e,t){return function(){return t.apply(e,arguments)}}function scripts(){return document.getElementsByTagName(\"script\")}function defaultOnError(e){throw e}function getGlobal(e){if(!e)return e;var t=global;return each(e.split(\".\"),function(e){t=t[e]}),t}function makeError(e,t,i,r){var n=new Error(t+\"\\nhttps://requirejs.org/docs/errors.html#\"+e);return n.requireType=e,n.requireModules=r,i&&(n.originalError=i),n}if(void 0===define){if(void 0!==requirejs){if(isFunction(requirejs))return;cfg=requirejs,requirejs=void 0}void 0===require||isFunction(require)||(cfg=require,require=void 0),req=requirejs=function(e,t,i,r){var n,o,a=defContextName;return isArray(e)||\"string\"==typeof e||(o=e,isArray(t)?(e=t,t=i,i=r):e=[]),o&&o.context&&(a=o.context),(n=getOwn(contexts,a))||(n=contexts[a]=req.s.newContext(a)),o&&n.configure(o),n.require(e,t,i)},req.config=function(e){return req(e)},req.nextTick=void 0!==setTimeout?function(e){setTimeout(e,4)}:function(e){e()},require||(require=req),req.version=version,req.jsExtRegExp=/^\\/|:|\\?|\\.js$/,req.isBrowser=isBrowser,s=req.s={contexts:contexts,newContext:newContext},req({}),each([\"toUrl\",\"undef\",\"defined\",\"specified\"],function(t){req[t]=function(){var e=contexts[defContextName];return e.require[t].apply(e,arguments)}}),isBrowser&&(head=s.head=document.getElementsByTagName(\"head\")[0],baseElement=document.getElementsByTagName(\"base\")[0],baseElement&&(head=s.head=baseElement.parentNode)),req.onError=defaultOnError,req.createNode=function(e,t,i){var r=e.xhtml?document.createElementNS(\"http://www.w3.org/1999/xhtml\",\"html:script\"):document.createElement(\"script\");return r.type=e.scriptType||\"text/javascript\",r.charset=\"utf-8\",r.async=!0,r},req.load=function(t,i,r){var e,n=t&&t.config||{};if(isBrowser)return(e=req.createNode(n,i,r)).setAttribute(\"data-requirecontext\",t.contextName),e.setAttribute(\"data-requiremodule\",i),!e.attachEvent||e.attachEvent.toString&&e.attachEvent.toString().indexOf(\"[native code\")<0||isOpera?(e.addEventListener(\"load\",t.onScriptLoad,!1),e.addEventListener(\"error\",t.onScriptError,!1)):(useInteractive=!0,e.attachEvent(\"onreadystatechange\",t.onScriptLoad)),e.src=r,n.onNodeCreated&&n.onNodeCreated(e,n,i,r),currentlyAddingScript=e,baseElement?head.insertBefore(e,baseElement):head.appendChild(e),currentlyAddingScript=null,e;if(isWebWorker)try{setTimeout(function(){},0),importScripts(r),t.completeLoad(i)}catch(e){t.onError(makeError(\"importscripts\",\"importScripts failed for \"+i+\" at \"+r,e,[i]))}},isBrowser&&!cfg.skipDataMain&&eachReverse(scripts(),function(e){if(head||(head=e.parentNode),dataMain=e.getAttribute(\"data-main\"))return mainScript=dataMain,cfg.baseUrl||-1!==mainScript.indexOf(\"!\")||(mainScript=(src=mainScript.split(\"/\")).pop(),subPath=src.length?src.join(\"/\")+\"/\":\"./\",cfg.baseUrl=subPath),mainScript=mainScript.replace(jsSuffixRegExp,\"\"),req.jsExtRegExp.test(mainScript)&&(mainScript=dataMain),cfg.deps=cfg.deps?cfg.deps.concat(mainScript):[mainScript],!0}),define=function(e,i,t){var r,n;\"string\"!=typeof e&&(t=i,i=e,e=null),isArray(i)||(t=i,i=null),!i&&isFunction(t)&&(i=[],t.length&&(t.toString().replace(commentRegExp,commentReplace).replace(cjsRequireRegExp,function(e,t){i.push(t)}),i=(1===t.length?[\"require\"]:[\"require\",\"exports\",\"module\"]).concat(i))),useInteractive&&(r=currentlyAddingScript||getInteractiveScript())&&(e||(e=r.getAttribute(\"data-requiremodule\")),n=contexts[r.getAttribute(\"data-requirecontext\")]),n?(n.defQueue.push([e,i,t]),n.defQueueMap[e]=!0):globalDefQueue.push([e,i,t])},define.amd={jQuery:!0},req.exec=function(text){return eval(text)},req(cfg)}function newContext(u){var i,e,l,c,d,g={waitSeconds:7,baseUrl:\"./\",paths:{},bundles:{},pkgs:{},shim:{},config:{}},p={},f={},r={},h=[],m={},n={},v={},x=1,b=1;function q(e,t,i){var r,n,o,a,s,u,c,d,p,f,l=t&&t.split(\"/\"),h=g.map,m=h&&h[\"*\"];if(e&&(u=(e=e.split(\"/\")).length-1,g.nodeIdCompat&&jsSuffixRegExp.test(e[u])&&(e[u]=e[u].replace(jsSuffixRegExp,\"\")),\".\"===e[0].charAt(0)&&l&&(e=l.slice(0,l.length-1).concat(e)),function(e){var t,i;for(t=0;t<e.length;t++)if(\".\"===(i=e[t]))e.splice(t,1),t-=1;else if(\"..\"===i){if(0===t||1===t&&\"..\"===e[2]||\"..\"===e[t-1])continue;0<t&&(e.splice(t-1,2),t-=2)}}(e),e=e.join(\"/\")),i&&h&&(l||m)){e:for(o=(n=e.split(\"/\")).length;0<o;o-=1){if(s=n.slice(0,o).join(\"/\"),l)for(a=l.length;0<a;a-=1)if((r=getOwn(h,l.slice(0,a).join(\"/\")))&&(r=getOwn(r,s))){c=r,d=o;break e}!p&&m&&getOwn(m,s)&&(p=getOwn(m,s),f=o)}!c&&p&&(c=p,d=f),c&&(n.splice(0,d,c),e=n.join(\"/\"))}return getOwn(g.pkgs,e)||e}function E(t){isBrowser&&each(scripts(),function(e){if(e.getAttribute(\"data-requiremodule\")===t&&e.getAttribute(\"data-requirecontext\")===l.contextName)return e.parentNode.removeChild(e),!0})}function w(e){var t=getOwn(g.paths,e);if(t&&isArray(t)&&1<t.length)return t.shift(),l.require.undef(e),l.makeRequire(null,{skipMap:!0})([e]),!0}function y(e){var t,i=e?e.indexOf(\"!\"):-1;return-1<i&&(t=e.substring(0,i),e=e.substring(i+1,e.length)),[t,e]}function S(e,t,i,r){var n,o,a,s,u=null,c=t?t.name:null,d=e,p=!0,f=\"\";return e||(p=!1,e=\"_@r\"+(x+=1)),u=(s=y(e))[0],e=s[1],u&&(u=q(u,c,r),o=getOwn(m,u)),e&&(u?f=i?e:o&&o.normalize?o.normalize(e,function(e){return q(e,c,r)}):-1===e.indexOf(\"!\")?q(e,c,r):e:(u=(s=y(f=q(e,c,r)))[0],f=s[1],i=!0,n=l.nameToUrl(f))),{prefix:u,name:f,parentMap:t,unnormalized:!!(a=!u||o||i?\"\":\"_unnormalized\"+(b+=1)),url:n,originalName:d,isDefine:p,id:(u?u+\"!\"+f:f)+a}}function k(e){var t=e.id,i=getOwn(p,t);return i||(i=p[t]=new l.Module(e)),i}function M(e,t,i){var r=e.id,n=getOwn(p,r);!hasProp(m,r)||n&&!n.defineEmitComplete?(n=k(e)).error&&\"error\"===t?i(n.error):n.on(t,i):\"defined\"===t&&i(m[r])}function O(i,e){var t=i.requireModules,r=!1;e?e(i):(each(t,function(e){var t=getOwn(p,e);t&&(t.error=i,t.events.error&&(r=!0,t.emit(\"error\",i)))}),r||req.onError(i))}function j(){globalDefQueue.length&&(each(globalDefQueue,function(e){var t=e[0];\"string\"==typeof t&&(l.defQueueMap[t]=!0),h.push(e)}),globalDefQueue=[])}function P(e){delete p[e],delete f[e]}function R(){var e,r,t=1e3*g.waitSeconds,n=t&&l.startTime+t<(new Date).getTime(),o=[],a=[],s=!1,u=!0;if(!i){if(i=!0,eachProp(f,function(e){var t=e.map,i=t.id;if(e.enabled&&(t.isDefine||a.push(e),!e.error))if(!e.inited&&n)w(i)?s=r=!0:(o.push(i),E(i));else if(!e.inited&&e.fetched&&t.isDefine&&(s=!0,!t.prefix))return u=!1}),n&&o.length)return(e=makeError(\"timeout\",\"Load timeout for modules: \"+o,null,o)).contextName=l.contextName,O(e);u&&each(a,function(e){!function n(o,a,s){var e=o.map.id;o.error?o.emit(\"error\",o.error):(a[e]=!0,each(o.depMaps,function(e,t){var i=e.id,r=getOwn(p,i);!r||o.depMatched[t]||s[i]||(getOwn(a,i)?(o.defineDep(t,m[i]),o.check()):n(r,a,s))}),s[e]=!0)}(e,{},{})}),n&&!r||!s||!isBrowser&&!isWebWorker||d||(d=setTimeout(function(){d=0,R()},50)),i=!1}}function a(e){hasProp(m,e[0])||k(S(e[0],null,!0)).init(e[1],e[2])}function o(e,t,i,r){e.detachEvent&&!isOpera?r&&e.detachEvent(r,t):e.removeEventListener(i,t,!1)}function s(e){var t=e.currentTarget||e.srcElement;return o(t,l.onScriptLoad,\"load\",\"onreadystatechange\"),o(t,l.onScriptError,\"error\"),{node:t,id:t&&t.getAttribute(\"data-requiremodule\")}}function T(){var e;for(j();h.length;){if(null===(e=h.shift())[0])return O(makeError(\"mismatch\",\"Mismatched anonymous define() module: \"+e[e.length-1]));a(e)}l.defQueueMap={}}return c={require:function(e){return e.require?e.require:e.require=l.makeRequire(e.map)},exports:function(e){if(e.usingExports=!0,e.map.isDefine)return e.exports?m[e.map.id]=e.exports:e.exports=m[e.map.id]={}},module:function(e){return e.module?e.module:e.module={id:e.map.id,uri:e.map.url,config:function(){return getOwn(g.config,e.map.id)||{}},exports:e.exports||(e.exports={})}}},(e=function(e){this.events=getOwn(r,e.id)||{},this.map=e,this.shim=getOwn(g.shim,e.id),this.depExports=[],this.depMaps=[],this.depMatched=[],this.pluginMaps={},this.depCount=0}).prototype={init:function(e,t,i,r){r=r||{},this.inited||(this.factory=t,i?this.on(\"error\",i):this.events.error&&(i=bind(this,function(e){this.emit(\"error\",e)})),this.depMaps=e&&e.slice(0),this.errback=i,this.inited=!0,this.ignore=r.ignore,r.enabled||this.enabled?this.enable():this.check())},defineDep:function(e,t){this.depMatched[e]||(this.depMatched[e]=!0,this.depCount-=1,this.depExports[e]=t)},fetch:function(){if(!this.fetched){this.fetched=!0,l.startTime=(new Date).getTime();var e=this.map;if(!this.shim)return e.prefix?this.callPlugin():this.load();l.makeRequire(this.map,{enableBuildCallback:!0})(this.shim.deps||[],bind(this,function(){return e.prefix?this.callPlugin():this.load()}))}},load:function(){var e=this.map.url;n[e]||(n[e]=!0,l.load(this.map.id,e))},check:function(){if(this.enabled&&!this.enabling){var t,e,i=this.map.id,r=this.depExports,n=this.exports,o=this.factory;if(this.inited){if(this.error)this.emit(\"error\",this.error);else if(!this.defining){if(this.defining=!0,this.depCount<1&&!this.defined){if(isFunction(o)){if(this.events.error&&this.map.isDefine||req.onError!==defaultOnError)try{n=l.execCb(i,o,r,n)}catch(e){t=e}else n=l.execCb(i,o,r,n);if(this.map.isDefine&&void 0===n&&((e=this.module)?n=e.exports:this.usingExports&&(n=this.exports)),t)return t.requireMap=this.map,t.requireModules=this.map.isDefine?[this.map.id]:null,t.requireType=this.map.isDefine?\"define\":\"require\",O(this.error=t)}else n=o;if(this.exports=n,this.map.isDefine&&!this.ignore&&(m[i]=n,req.onResourceLoad)){var a=[];each(this.depMaps,function(e){a.push(e.normalizedMap||e)}),req.onResourceLoad(l,this.map,a)}P(i),this.defined=!0}this.defining=!1,this.defined&&!this.defineEmitted&&(this.defineEmitted=!0,this.emit(\"defined\",this.exports),this.defineEmitComplete=!0)}}else hasProp(l.defQueueMap,i)||this.fetch()}},callPlugin:function(){var u=this.map,c=u.id,e=S(u.prefix);this.depMaps.push(e),M(e,\"defined\",bind(this,function(e){var o,t,i,r=getOwn(v,this.map.id),n=this.map.name,a=this.map.parentMap?this.map.parentMap.name:null,s=l.makeRequire(u.parentMap,{enableBuildCallback:!0});return this.map.unnormalized?(e.normalize&&(n=e.normalize(n,function(e){return q(e,a,!0)})||\"\"),M(t=S(u.prefix+\"!\"+n,this.map.parentMap,!0),\"defined\",bind(this,function(e){this.map.normalizedMap=t,this.init([],function(){return e},null,{enabled:!0,ignore:!0})})),void((i=getOwn(p,t.id))&&(this.depMaps.push(t),this.events.error&&i.on(\"error\",bind(this,function(e){this.emit(\"error\",e)})),i.enable()))):r?(this.map.url=l.nameToUrl(r),void this.load()):((o=bind(this,function(e){this.init([],function(){return e},null,{enabled:!0})})).error=bind(this,function(e){this.inited=!0,(this.error=e).requireModules=[c],eachProp(p,function(e){0===e.map.id.indexOf(c+\"_unnormalized\")&&P(e.map.id)}),O(e)}),o.fromText=bind(this,function(e,t){var i=u.name,r=S(i),n=useInteractive;t&&(e=t),n&&(useInteractive=!1),k(r),hasProp(g.config,c)&&(g.config[i]=g.config[c]);try{req.exec(e)}catch(e){return O(makeError(\"fromtexteval\",\"fromText eval for \"+c+\" failed: \"+e,e,[c]))}n&&(useInteractive=!0),this.depMaps.push(r),l.completeLoad(i),s([i],o)}),void e.load(u.name,s,o,g))})),l.enable(e,this),this.pluginMaps[e.id]=e},enable:function(){(f[this.map.id]=this).enabled=!0,this.enabling=!0,each(this.depMaps,bind(this,function(e,t){var i,r,n;if(\"string\"==typeof e){if(e=S(e,this.map.isDefine?this.map:this.map.parentMap,!1,!this.skipMap),this.depMaps[t]=e,n=getOwn(c,e.id))return void(this.depExports[t]=n(this));this.depCount+=1,M(e,\"defined\",bind(this,function(e){this.undefed||(this.defineDep(t,e),this.check())})),this.errback?M(e,\"error\",bind(this,this.errback)):this.events.error&&M(e,\"error\",bind(this,function(e){this.emit(\"error\",e)}))}i=e.id,r=p[i],hasProp(c,i)||!r||r.enabled||l.enable(e,this)})),eachProp(this.pluginMaps,bind(this,function(e){var t=getOwn(p,e.id);t&&!t.enabled&&l.enable(e,this)})),this.enabling=!1,this.check()},on:function(e,t){var i=this.events[e];i||(i=this.events[e]=[]),i.push(t)},emit:function(e,t){each(this.events[e],function(e){e(t)}),\"error\"===e&&delete this.events[e]}},(l={config:g,contextName:u,registry:p,defined:m,urlFetched:n,defQueue:h,defQueueMap:{},Module:e,makeModuleMap:S,nextTick:req.nextTick,onError:O,configure:function(e){if(e.baseUrl&&\"/\"!==e.baseUrl.charAt(e.baseUrl.length-1)&&(e.baseUrl+=\"/\"),\"string\"==typeof e.urlArgs){var i=e.urlArgs;e.urlArgs=function(e,t){return(-1===t.indexOf(\"?\")?\"?\":\"&\")+i}}var r=g.shim,n={paths:!0,bundles:!0,config:!0,map:!0};eachProp(e,function(e,t){n[t]?(g[t]||(g[t]={}),mixin(g[t],e,!0,!0)):g[t]=e}),e.bundles&&eachProp(e.bundles,function(e,t){each(e,function(e){e!==t&&(v[e]=t)})}),e.shim&&(eachProp(e.shim,function(e,t){isArray(e)&&(e={deps:e}),!e.exports&&!e.init||e.exportsFn||(e.exportsFn=l.makeShimExports(e)),r[t]=e}),g.shim=r),e.packages&&each(e.packages,function(e){var t;t=(e=\"string\"==typeof e?{name:e}:e).name,e.location&&(g.paths[t]=e.location),g.pkgs[t]=e.name+\"/\"+(e.main||\"main\").replace(currDirRegExp,\"\").replace(jsSuffixRegExp,\"\")}),eachProp(p,function(e,t){e.inited||e.map.unnormalized||(e.map=S(t,null,!0))}),(e.deps||e.callback)&&l.require(e.deps||[],e.callback)},makeShimExports:function(t){return function(){var e;return t.init&&(e=t.init.apply(global,arguments)),e||t.exports&&getGlobal(t.exports)}},makeRequire:function(o,a){function s(e,t,i){var r,n;return a.enableBuildCallback&&t&&isFunction(t)&&(t.__requireJsBuild=!0),\"string\"==typeof e?isFunction(t)?O(makeError(\"requireargs\",\"Invalid require call\"),i):o&&hasProp(c,e)?c[e](p[o.id]):req.get?req.get(l,e,o,s):(r=S(e,o,!1,!0).id,hasProp(m,r)?m[r]:O(makeError(\"notloaded\",'Module name \"'+r+'\" has not been loaded yet for context: '+u+(o?\"\":\". Use require([])\")))):(T(),l.nextTick(function(){T(),(n=k(S(null,o))).skipMap=a.skipMap,n.init(e,t,i,{enabled:!0}),R()}),s)}return a=a||{},mixin(s,{isBrowser:isBrowser,toUrl:function(e){var t,i=e.lastIndexOf(\".\"),r=e.split(\"/\")[0];return-1!==i&&(!(\".\"===r||\"..\"===r)||1<i)&&(t=e.substring(i,e.length),e=e.substring(0,i)),l.nameToUrl(q(e,o&&o.id,!0),t,!0)},defined:function(e){return hasProp(m,S(e,o,!1,!0).id)},specified:function(e){return e=S(e,o,!1,!0).id,hasProp(m,e)||hasProp(p,e)}}),o||(s.undef=function(i){j();var e=S(i,o,!0),t=getOwn(p,i);t.undefed=!0,E(i),delete m[i],delete n[e.url],delete r[i],eachReverse(h,function(e,t){e[0]===i&&h.splice(t,1)}),delete l.defQueueMap[i],t&&(t.events.defined&&(r[i]=t.events),P(i))}),s},enable:function(e){getOwn(p,e.id)&&k(e).enable()},completeLoad:function(e){var t,i,r,n=getOwn(g.shim,e)||{},o=n.exports;for(j();h.length;){if(null===(i=h.shift())[0]){if(i[0]=e,t)break;t=!0}else i[0]===e&&(t=!0);a(i)}if(l.defQueueMap={},r=getOwn(p,e),!t&&!hasProp(m,e)&&r&&!r.inited){if(!(!g.enforceDefine||o&&getGlobal(o)))return w(e)?void 0:O(makeError(\"nodefine\",\"No define call for \"+e,null,[e]));a([e,n.deps||[],n.exportsFn])}R()},nameToUrl:function(e,t,i){var r,n,o,a,s,u,c=getOwn(g.pkgs,e);if(c&&(e=c),u=getOwn(v,e))return l.nameToUrl(u,t,i);if(req.jsExtRegExp.test(e))a=e+(t||\"\");else{for(r=g.paths,o=(n=e.split(\"/\")).length;0<o;o-=1)if(s=getOwn(r,n.slice(0,o).join(\"/\"))){isArray(s)&&(s=s[0]),n.splice(0,o,s);break}a=n.join(\"/\"),a=(\"/\"===(a+=t||(/^data\\:|^blob\\:|\\?/.test(a)||i?\"\":\".js\")).charAt(0)||a.match(/^[\\w\\+\\.\\-]+:/)?\"\":g.baseUrl)+a}return g.urlArgs&&!/^blob\\:/.test(a)?a+g.urlArgs(e,a):a},load:function(e,t){req.load(l,e,t)},execCb:function(e,t,i,r){return t.apply(r,i)},onScriptLoad:function(e){if(\"load\"===e.type||readyRegExp.test((e.currentTarget||e.srcElement).readyState)){interactiveScript=null;var t=s(e);l.completeLoad(t.id)}},onScriptError:function(e){var i=s(e);if(!w(i.id)){var r=[];return eachProp(p,function(e,t){0!==t.indexOf(\"_@r\")&&each(e.depMaps,function(e){if(e.id===i.id)return r.push(t),!0})}),O(makeError(\"scripterror\",'Script error for \"'+i.id+(r.length?'\", needed by: '+r.join(\", \"):'\"'),e,[i.id]))}}}).require=l.makeRequire(),l}function getInteractiveScript(){return interactiveScript&&\"interactive\"===interactiveScript.readyState||eachReverse(scripts(),function(e){if(\"interactive\"===e.readyState)return interactiveScript=e}),interactiveScript}}(this,\"undefined\"==typeof setTimeout?void 0:setTimeout); </script>\n",
       "<script>\n",
       " require.config({\n",
       "   paths: {\n",
       "     'plotly': \"https://cdn.plot.ly/plotly-latest.min\",\n",
       "     'macy': \"https://cdn.jsdelivr.net/npm/macy@2.5.1/dist/macy.min\",\n",
       "     'merge': \"https://unpkg.com/merge-images@2.0.0/dist/index.umd\"\n",
       "   },\n",
       " })\n",
       "require( ['plotly', 'macy', 'merge'], function(Plotly, Macy, mergeImages) {\n",
       " window.Plotly = Plotly;\n",
       " window.Macy = Macy;\n",
       " window.mergeImages = mergeImages;\n",
       "})\n",
       "</script>\n"
      ]
     },
     "metadata": {},
     "output_type": "display_data"
    }
   ],
   "source": [
    "import org.carbonateresearch.picta.render.Html.initNotebook // required to initialize jupyter notebook mode\n",
    "initNotebook() // stops ugly output"
   ]
  },
  {
   "cell_type": "markdown",
   "metadata": {},
   "source": [
    "# 1. Basics\n",
    "\n",
    "The aim of the Picta library is to be a highly configurable and composable charting library for data exploration. The library takes a grammatical approach to chart construction, using a DSL for creating plots. \n",
    "\n",
    "The following examples are aimed at demonstrating the libraries capabilities, and eventually make constructing charts using this library easy and intuitive."
   ]
  },
  {
   "cell_type": "markdown",
   "metadata": {},
   "source": [
    "### Main Components\n",
    "\n",
    "Picta graphs are constructed in a modular manner. The main components are:\n",
    "\n",
    "1. `Canvas`: This is is the top-level component for representing the display. A `Canvas` may consist of multiple charts.\n",
    "\n",
    "\n",
    "2. `Chart`: This is the component that corresponds to an actual chart (i.e. scatter, pie etc).\n",
    "\n",
    "\n",
    "3. `Series`: This is the data series that is plotted on a `Chart`. `Series` come in 3 types:\n",
    "\n",
    "    - `XY`:   This is series data for constructing a 2D chart\n",
    "    - `XYZ`:  This is series data for constructing a 3D chart\n",
    "    - `Map`:  This is series data that constructs a Map chart\n",
    "    \n",
    "\n",
    "4. `ChartLayout`: This configures various parts of how the `Chart` is represented on screen.\n",
    "\n",
    "`Chart` may occassionally also make use of the `Config` component for further configuration. `Config` specifies whether the plot is responsive.\n",
    "\n",
    "The following examples in this notebook should provide a number of interactive examples to get used to the Picta library."
   ]
  },
  {
   "cell_type": "markdown",
   "metadata": {},
   "source": [
    "### Importing the Library\n",
    "\n",
    "Importing as below should bring in the most frequently used Components in the library."
   ]
  },
  {
   "cell_type": "code",
   "execution_count": 10,
   "metadata": {},
   "outputs": [],
   "source": [
    "import org.carbonateresearch.picta._"
   ]
  },
  {
   "cell_type": "markdown",
   "metadata": {},
   "source": [
    "### Create Some Dummy Data to Use in the Examples\n",
    "\n",
    "Here we create some dummy data to be used in the examples for this notebook."
   ]
  },
  {
   "cell_type": "code",
   "execution_count": 11,
   "metadata": {},
   "outputs": [],
   "source": [
    "val x = List.range(0, 100).map(x => scala.util.Random.nextDouble() * 50)\n",
    "val y = List.range(0, 100).map(x => scala.util.Random.nextDouble() * 50)\n",
    "val z = List.range(0, 100).map(x => scala.util.Random.nextDouble() * 50)"
   ]
  },
  {
   "cell_type": "markdown",
   "metadata": {},
   "source": [
    "### 2D Plots\n",
    "\n",
    "`Series` that represent 2D data are represented by `XY` series types.\n",
    "\n",
    "\n",
    "#### Scatter Plot\n",
    "\n",
    "An example `Scatter` plot is below. \n",
    "\n",
    "Note: This is just one way to call the library functions. Another way that uses function chaining will be shown immediately after this example."
   ]
  },
  {
   "cell_type": "code",
   "execution_count": 12,
   "metadata": {},
   "outputs": [
    {
     "data": {
      "text/html": [
       "<div id=\"grid-container_Y8xYYznrtI\" class=\"grid-container\" align=\"center\"> \n",
       "<div id=\"grid_Y8xYYznrtI\" class=\"grid\" align=\"center\"> \n",
       "<div id=\"graph_g2Y3dfyHem\" class=\"graph\"></div> \n",
       "</div> \n",
       "</div> \n",
       "<script>\n",
       "var masonry = new Macy({\n",
       "    container: '#grid_Y8xYYznrtI',\n",
       "    debug: true,\n",
       "    mobileFirst: true,\n",
       "    columns: 1,\n",
       "    margin: {\n",
       "        x: 0,\n",
       "        y: 50\n",
       "    }\n",
       "  });\n",
       "\n",
       "  var traces_g2Y3dfyHem = [{\"name\":\"jAmWNwXdgu\",\"type\":\"scatter\",\"mode\":\"markers\",\"x\":[31.324123415369716,13.411263965342235,4.693494627275202,12.205426778609041,38.86446930592054,36.18577077599814,42.11222376683036,8.835977130353296,24.794299878477805,9.87939762232662,17.25261221146006,18.40158686705268,40.46466307426835,6.050600356927449,44.920820121910886,1.143306616154438,49.91080260881257,16.731262774185485,46.04004854855797,34.75146915410792,49.85962097386788,46.190054899639264,43.88207210483156,43.26180289119424,24.776903324386023,33.65268623406023,10.40581416589062,11.239658666751595,44.68897216009372,19.90170669286434,1.6144122191269206,32.23456274522413,43.44511593332419,38.50080739675252,17.180101572167754,30.965859354833498,40.33122060197018,38.023303617634824,36.23662864785308,21.991212999429738,38.5017418052709,25.11178015561768,18.2018226016879,23.71325401911266,49.56623047061262,9.455618558255075,14.768297207037872,35.495668986409335,4.848312875834115,30.845412435684104,16.7881989554888,7.388556776858351,20.329142719283823,5.348022267717411,7.678279575104218,36.503878879799515,34.09399264226313,42.343309478067084,13.184444064989547,11.43534361815986,32.21978449650215,6.673333994834368,25.87036774019226,46.28311716808275,21.473009450913167,30.477080491487445,41.53261333295012,48.82219910863802,44.93162949461292,17.418527463423683,23.895104129622325,3.1443929885500213,19.701169096169757,27.96316921802795,13.398683601560945,15.707264419173361,4.26438763906622,38.11782676677908,15.67688232286925,25.13951985214682,26.685522248976383,25.620877342163677,45.39692362879809,10.380739266976041,23.88426247677376,6.954792492033812,11.545353714470924,48.774434454388484,6.5012400676314535,25.750132722031587,10.950613815153531,25.58689202870294,23.495961746839843,28.159920344192045,47.860226774318996,29.090301789847434,5.549766430946329,3.605573979678706,18.728184039927548,30.82716078479853],\"y\":[16.590507315148535,19.930349976731897,43.01850550590936,48.96398867746276,38.31230871459831,40.443514232596016,32.79382300631538,23.74588353701666,3.4329139373537654,26.598220082129302,26.133244436774643,47.97945744280695,29.612721022138054,4.118337994413068,12.01163726770092,42.200243711060956,37.45380799119962,2.2742521755162337,47.172867114205225,43.72163765017328,12.803857810233671,15.70490259522811,8.74240402116388,41.11597477423666,45.709023232691756,35.69310992816438,39.85012581301023,30.84436302087643,45.79144772179159,3.1235015022099963,29.371996958200203,0.7303977865934896,46.571262970969855,48.487104935607874,21.049751291069978,5.763900510720449,19.309552528020387,5.243954557953135,21.71052814107513,45.32434800891027,20.317881735150205,11.614812540902458,23.08386471149601,27.329662780845844,44.361680737116366,2.4453843798669883,16.801293762976417,14.044558053007583,0.7788411827885533,37.17115332414457,17.564210625433986,36.323651524006706,18.241607732120897,12.108248780958657,15.17856117245156,37.91805630544229,18.70891008703874,15.305510211741147,2.180273076041628,19.140203136450978,31.047974603331557,0.015181377238548954,20.113279432361136,39.66014177707662,40.04817619067324,28.474437934140735,34.172336325380385,13.497589040332103,37.10672163563647,21.137209869578662,32.88575787188373,35.37751012832405,4.7349200200025585,37.75552994263934,6.788558597746425,16.533042519354385,28.21541855786999,15.781911988363017,37.624397509507666,29.768068553235793,34.23492030950473,48.44900733708123,27.515114008186075,18.13277294074778,8.123563533307475,49.58007970634699,15.749511237377401,8.91903327121059,38.45125491377605,24.69358783701653,19.36846771696014,44.84851799211983,30.162902940113472,48.28743270908445,42.56131727240072,47.30484321167227,15.178654564156158,35.3231982305488,29.03884953698597,12.252221255841656]}];\n",
       " var layout_g2Y3dfyHem = {\"height\":550,\"width\":600,\"hovermode\":\"closest\",\"title\":{\"text\":\"My First Chart\"},\"showlegend\":true};\n",
       " var config_g2Y3dfyHem = {\"responsive\":true,\"scrollZoom\":true,\"displaylogo\":false};\n",
       " Plotly.newPlot(\"graph_g2Y3dfyHem\", traces_g2Y3dfyHem, layout_g2Y3dfyHem, config_g2Y3dfyHem);\n",
       "</script> \n"
      ]
     },
     "metadata": {},
     "output_type": "display_data"
    }
   ],
   "source": [
    "// create the data series using the data from above\n",
    "// 'asType SCATTER' transforms the series into a scatter chart\n",
    "// 'drawStyle Markers' specifies the style of the markers the chart should have\n",
    "// if a name is not provided to the series, Picta generates a random name to help keep track of the series in charts\n",
    "// multiple series.\n",
    "val series = XY(x, y) asType SCATTER drawStyle MARKERS\n",
    "\n",
    "// create a chart by adding to it a data series. We set the title as 'First Chart'\n",
    "val chart_IS52 = Chart() addSeries series setTitle \"My First Chart\"\n",
    "\n",
    "// if we have a single chart, then we do not need to use the Canvas and can simply call chart.plot\n",
    "chart_IS52.plotInline"
   ]
  },
  {
   "cell_type": "markdown",
   "metadata": {},
   "source": [
    "### Simple costumization\n",
    "This plot is nice, but could use some simple costumization to make it more attractive. First, the data series does not have a name and so the legend come with a generated arbitrary name (not very useful). Second, the X and Y axis don't have labels. Let's fix that."
   ]
  },
  {
   "cell_type": "code",
   "execution_count": 13,
   "metadata": {},
   "outputs": [
    {
     "data": {
      "text/html": [
       "<div id=\"grid-container_Cj2vFikIVg\" class=\"grid-container\" align=\"center\"> \n",
       "<div id=\"grid_Cj2vFikIVg\" class=\"grid\" align=\"center\"> \n",
       "<div id=\"graph_h411RszRSO\" class=\"graph\"></div> \n",
       "</div> \n",
       "</div> \n",
       "<script>\n",
       "var masonry = new Macy({\n",
       "    container: '#grid_Cj2vFikIVg',\n",
       "    debug: true,\n",
       "    mobileFirst: true,\n",
       "    columns: 1,\n",
       "    margin: {\n",
       "        x: 0,\n",
       "        y: 50\n",
       "    }\n",
       "  });\n",
       "\n",
       "  var traces_h411RszRSO = [{\"name\":\"x vs y\",\"type\":\"scatter\",\"mode\":\"markers\",\"x\":[31.324123415369716,13.411263965342235,4.693494627275202,12.205426778609041,38.86446930592054,36.18577077599814,42.11222376683036,8.835977130353296,24.794299878477805,9.87939762232662,17.25261221146006,18.40158686705268,40.46466307426835,6.050600356927449,44.920820121910886,1.143306616154438,49.91080260881257,16.731262774185485,46.04004854855797,34.75146915410792,49.85962097386788,46.190054899639264,43.88207210483156,43.26180289119424,24.776903324386023,33.65268623406023,10.40581416589062,11.239658666751595,44.68897216009372,19.90170669286434,1.6144122191269206,32.23456274522413,43.44511593332419,38.50080739675252,17.180101572167754,30.965859354833498,40.33122060197018,38.023303617634824,36.23662864785308,21.991212999429738,38.5017418052709,25.11178015561768,18.2018226016879,23.71325401911266,49.56623047061262,9.455618558255075,14.768297207037872,35.495668986409335,4.848312875834115,30.845412435684104,16.7881989554888,7.388556776858351,20.329142719283823,5.348022267717411,7.678279575104218,36.503878879799515,34.09399264226313,42.343309478067084,13.184444064989547,11.43534361815986,32.21978449650215,6.673333994834368,25.87036774019226,46.28311716808275,21.473009450913167,30.477080491487445,41.53261333295012,48.82219910863802,44.93162949461292,17.418527463423683,23.895104129622325,3.1443929885500213,19.701169096169757,27.96316921802795,13.398683601560945,15.707264419173361,4.26438763906622,38.11782676677908,15.67688232286925,25.13951985214682,26.685522248976383,25.620877342163677,45.39692362879809,10.380739266976041,23.88426247677376,6.954792492033812,11.545353714470924,48.774434454388484,6.5012400676314535,25.750132722031587,10.950613815153531,25.58689202870294,23.495961746839843,28.159920344192045,47.860226774318996,29.090301789847434,5.549766430946329,3.605573979678706,18.728184039927548,30.82716078479853],\"y\":[16.590507315148535,19.930349976731897,43.01850550590936,48.96398867746276,38.31230871459831,40.443514232596016,32.79382300631538,23.74588353701666,3.4329139373537654,26.598220082129302,26.133244436774643,47.97945744280695,29.612721022138054,4.118337994413068,12.01163726770092,42.200243711060956,37.45380799119962,2.2742521755162337,47.172867114205225,43.72163765017328,12.803857810233671,15.70490259522811,8.74240402116388,41.11597477423666,45.709023232691756,35.69310992816438,39.85012581301023,30.84436302087643,45.79144772179159,3.1235015022099963,29.371996958200203,0.7303977865934896,46.571262970969855,48.487104935607874,21.049751291069978,5.763900510720449,19.309552528020387,5.243954557953135,21.71052814107513,45.32434800891027,20.317881735150205,11.614812540902458,23.08386471149601,27.329662780845844,44.361680737116366,2.4453843798669883,16.801293762976417,14.044558053007583,0.7788411827885533,37.17115332414457,17.564210625433986,36.323651524006706,18.241607732120897,12.108248780958657,15.17856117245156,37.91805630544229,18.70891008703874,15.305510211741147,2.180273076041628,19.140203136450978,31.047974603331557,0.015181377238548954,20.113279432361136,39.66014177707662,40.04817619067324,28.474437934140735,34.172336325380385,13.497589040332103,37.10672163563647,21.137209869578662,32.88575787188373,35.37751012832405,4.7349200200025585,37.75552994263934,6.788558597746425,16.533042519354385,28.21541855786999,15.781911988363017,37.624397509507666,29.768068553235793,34.23492030950473,48.44900733708123,27.515114008186075,18.13277294074778,8.123563533307475,49.58007970634699,15.749511237377401,8.91903327121059,38.45125491377605,24.69358783701653,19.36846771696014,44.84851799211983,30.162902940113472,48.28743270908445,42.56131727240072,47.30484321167227,15.178654564156158,35.3231982305488,29.03884953698597,12.252221255841656]}];\n",
       " var layout_h411RszRSO = {\"height\":550,\"width\":600,\"hovermode\":\"closest\",\"title\":{\"text\":\"Chart with custom axis and label\"},\"showlegend\":true,\"xaxis\":{\"title\":{\"text\":\"X values\"},\"showgrid\":true,\"zeroline\":false,\"showline\":false},\"yaxis\":{\"title\":{\"text\":\"Y values\"},\"showgrid\":true,\"zeroline\":false,\"showline\":false}};\n",
       " var config_h411RszRSO = {\"responsive\":true,\"scrollZoom\":true,\"displaylogo\":false};\n",
       " Plotly.newPlot(\"graph_h411RszRSO\", traces_h411RszRSO, layout_h411RszRSO, config_h411RszRSO);\n",
       "</script> \n"
      ]
     },
     "metadata": {},
     "output_type": "display_data"
    }
   ],
   "source": [
    "val series = XY(x, y) asType SCATTER drawStyle MARKERS setName(\"x vs y\") // Using 'setName' gives a name to our series \n",
    "\n",
    "// Note the use of the setXAxisTitle and setYAxisTitle compared to above\n",
    "val chart_VC72 = Chart() addSeries series setTitle \"Chart with custom axis and label\" setXAxisTitle(\"X values\") setYAxisTitle(\"Y values\")\n",
    "\n",
    "chart_VC72.plotInline"
   ]
  },
  {
   "cell_type": "markdown",
   "metadata": {},
   "source": [
    "#### Chaining methods using the '.dot' notation\n",
    "\n",
    "Sometimes when we are specifying many options, it is quicker to use the IDE autocomplete and just chain the method calls using the familiar '.dot' notation. Throughout this book both the style above and the method chaining style will be used as and when convenient."
   ]
  },
  {
   "cell_type": "code",
   "execution_count": 14,
   "metadata": {},
   "outputs": [
    {
     "data": {
      "text/html": [
       "<div id=\"grid-container_EfWvQLuiVp\" class=\"grid-container\" align=\"center\"> \n",
       "<div id=\"grid_EfWvQLuiVp\" class=\"grid\" align=\"center\"> \n",
       "<div id=\"graph_5kaOVkImNw\" class=\"graph\"></div> \n",
       "</div> \n",
       "</div> \n",
       "<script>\n",
       "var masonry = new Macy({\n",
       "    container: '#grid_EfWvQLuiVp',\n",
       "    debug: true,\n",
       "    mobileFirst: true,\n",
       "    columns: 1,\n",
       "    margin: {\n",
       "        x: 0,\n",
       "        y: 50\n",
       "    }\n",
       "  });\n",
       "\n",
       "  var traces_5kaOVkImNw = [{\"name\":\"Chained xy\",\"type\":\"scatter\",\"mode\":\"markers\",\"x\":[31.324123415369716,13.411263965342235,4.693494627275202,12.205426778609041,38.86446930592054,36.18577077599814,42.11222376683036,8.835977130353296,24.794299878477805,9.87939762232662,17.25261221146006,18.40158686705268,40.46466307426835,6.050600356927449,44.920820121910886,1.143306616154438,49.91080260881257,16.731262774185485,46.04004854855797,34.75146915410792,49.85962097386788,46.190054899639264,43.88207210483156,43.26180289119424,24.776903324386023,33.65268623406023,10.40581416589062,11.239658666751595,44.68897216009372,19.90170669286434,1.6144122191269206,32.23456274522413,43.44511593332419,38.50080739675252,17.180101572167754,30.965859354833498,40.33122060197018,38.023303617634824,36.23662864785308,21.991212999429738,38.5017418052709,25.11178015561768,18.2018226016879,23.71325401911266,49.56623047061262,9.455618558255075,14.768297207037872,35.495668986409335,4.848312875834115,30.845412435684104,16.7881989554888,7.388556776858351,20.329142719283823,5.348022267717411,7.678279575104218,36.503878879799515,34.09399264226313,42.343309478067084,13.184444064989547,11.43534361815986,32.21978449650215,6.673333994834368,25.87036774019226,46.28311716808275,21.473009450913167,30.477080491487445,41.53261333295012,48.82219910863802,44.93162949461292,17.418527463423683,23.895104129622325,3.1443929885500213,19.701169096169757,27.96316921802795,13.398683601560945,15.707264419173361,4.26438763906622,38.11782676677908,15.67688232286925,25.13951985214682,26.685522248976383,25.620877342163677,45.39692362879809,10.380739266976041,23.88426247677376,6.954792492033812,11.545353714470924,48.774434454388484,6.5012400676314535,25.750132722031587,10.950613815153531,25.58689202870294,23.495961746839843,28.159920344192045,47.860226774318996,29.090301789847434,5.549766430946329,3.605573979678706,18.728184039927548,30.82716078479853],\"y\":[16.590507315148535,19.930349976731897,43.01850550590936,48.96398867746276,38.31230871459831,40.443514232596016,32.79382300631538,23.74588353701666,3.4329139373537654,26.598220082129302,26.133244436774643,47.97945744280695,29.612721022138054,4.118337994413068,12.01163726770092,42.200243711060956,37.45380799119962,2.2742521755162337,47.172867114205225,43.72163765017328,12.803857810233671,15.70490259522811,8.74240402116388,41.11597477423666,45.709023232691756,35.69310992816438,39.85012581301023,30.84436302087643,45.79144772179159,3.1235015022099963,29.371996958200203,0.7303977865934896,46.571262970969855,48.487104935607874,21.049751291069978,5.763900510720449,19.309552528020387,5.243954557953135,21.71052814107513,45.32434800891027,20.317881735150205,11.614812540902458,23.08386471149601,27.329662780845844,44.361680737116366,2.4453843798669883,16.801293762976417,14.044558053007583,0.7788411827885533,37.17115332414457,17.564210625433986,36.323651524006706,18.241607732120897,12.108248780958657,15.17856117245156,37.91805630544229,18.70891008703874,15.305510211741147,2.180273076041628,19.140203136450978,31.047974603331557,0.015181377238548954,20.113279432361136,39.66014177707662,40.04817619067324,28.474437934140735,34.172336325380385,13.497589040332103,37.10672163563647,21.137209869578662,32.88575787188373,35.37751012832405,4.7349200200025585,37.75552994263934,6.788558597746425,16.533042519354385,28.21541855786999,15.781911988363017,37.624397509507666,29.768068553235793,34.23492030950473,48.44900733708123,27.515114008186075,18.13277294074778,8.123563533307475,49.58007970634699,15.749511237377401,8.91903327121059,38.45125491377605,24.69358783701653,19.36846771696014,44.84851799211983,30.162902940113472,48.28743270908445,42.56131727240072,47.30484321167227,15.178654564156158,35.3231982305488,29.03884953698597,12.252221255841656]}];\n",
       " var layout_5kaOVkImNw = {\"height\":550,\"width\":600,\"hovermode\":\"closest\",\"title\":{\"text\":\"Using Method Chaining\"},\"showlegend\":true,\"xaxis\":{\"title\":{\"text\":\"X values\"},\"showgrid\":true,\"zeroline\":false,\"showline\":false},\"yaxis\":{\"title\":{\"text\":\"Y values\"},\"showgrid\":true,\"zeroline\":false,\"showline\":false}};\n",
       " var config_5kaOVkImNw = {\"responsive\":true,\"scrollZoom\":true,\"displaylogo\":false};\n",
       " Plotly.newPlot(\"graph_5kaOVkImNw\", traces_5kaOVkImNw, layout_5kaOVkImNw, config_5kaOVkImNw);\n",
       "</script> \n"
      ]
     },
     "metadata": {},
     "output_type": "display_data"
    }
   ],
   "source": [
    "// sometimes we may specify many options. In such cases it is clearer to use function chaining as below:\n",
    "val series = XY(x, y)\n",
    "            .asType(SCATTER)\n",
    "            .setName(\"Chained xy\")\n",
    "            .drawMarkers  // This is to help leverage the IDE autocompletion for quick scripting. Tap 'tab' twice to see options.\n",
    "\n",
    "val chart_CX41 = Chart()\n",
    "            .addSeries(series)\n",
    "            .setTitle(\"Using Method Chaining\")\n",
    "            // by specifying and X and Y axes we can give more rid of the zerolines\n",
    "            .addAxes(Axis(X ,zeroline = false), Axis(Y ,zeroline = false))\n",
    "            .setXAxisTitle(\"X values\")\n",
    "            .setYAxisTitle(\"Y values\")\n",
    "\n",
    "chart_CX41.plotInline"
   ]
  },
  {
   "cell_type": "markdown",
   "metadata": {},
   "source": [
    "#### Bar Chart\n",
    "\n",
    "Now using the same principles as above, let's create a `Bar` chart:"
   ]
  },
  {
   "cell_type": "code",
   "execution_count": 15,
   "metadata": {},
   "outputs": [
    {
     "data": {
      "text/html": [
       "<div id=\"grid-container_uLiVFmsB4P\" class=\"grid-container\" align=\"center\"> \n",
       "<div id=\"grid_uLiVFmsB4P\" class=\"grid\" align=\"center\"> \n",
       "<div id=\"graph_uy84WFE0pg\" class=\"graph\"></div> \n",
       "</div> \n",
       "</div> \n",
       "<script>\n",
       "var masonry = new Macy({\n",
       "    container: '#grid_uLiVFmsB4P',\n",
       "    debug: true,\n",
       "    mobileFirst: true,\n",
       "    columns: 1,\n",
       "    margin: {\n",
       "        x: 0,\n",
       "        y: 50\n",
       "    }\n",
       "  });\n",
       "\n",
       "  var traces_uy84WFE0pg = [{\"name\":\"My data\",\"type\":\"bar\",\"x\":[\"a\",\"b\",\"c\"],\"y\":[10,20,300]}];\n",
       " var layout_uy84WFE0pg = {\"height\":550,\"width\":600,\"hovermode\":\"closest\",\"title\":{\"text\":\"Bar Chart\"},\"showlegend\":true,\"xaxis\":{\"title\":{\"text\":\"Category\"},\"showgrid\":true,\"zeroline\":false,\"showline\":false},\"yaxis\":{\"title\":{\"text\":\"Count\"},\"showgrid\":true,\"zeroline\":false,\"showline\":false}};\n",
       " var config_uy84WFE0pg = {\"responsive\":false,\"scrollZoom\":false,\"displaylogo\":false};\n",
       " Plotly.newPlot(\"graph_uy84WFE0pg\", traces_uy84WFE0pg, layout_uy84WFE0pg, config_uy84WFE0pg);\n",
       "</script> \n"
      ]
     },
     "metadata": {},
     "output_type": "display_data"
    }
   ],
   "source": [
    "// First we create some data for the piechart\n",
    "val x_bar = List(\"a\", \"b\", \"c\")\n",
    "val y_bar = List(10, 20, 300)\n",
    "\n",
    "// again feed in the data that we want to represent as a Bar chart.\n",
    "// Notice how we change 'asType SCATTER' to 'asType BAR'\n",
    "val series = XY(x_bar, y_bar) asType BAR setName(\"My data\")\n",
    "\n",
    "// we can turn off the scrollzoom using setConfig\n",
    "val chart_GT14 = Chart() addSeries series setTitle \"Bar Chart\" setConfig(false, false) setXAxisTitle \"Category\" setYAxisTitle \"Count\"\n",
    "\n",
    "chart_GT14.plotInline"
   ]
  },
  {
   "cell_type": "markdown",
   "metadata": {},
   "source": [
    "#### Adding Multiple Series on the Same Axis\n",
    "\n",
    "Sometimes we may want to plot multiple `Series` on the same axis to compare different data series.\n",
    "\n",
    "Let's plot both of the above on the same pair of axis:"
   ]
  },
  {
   "cell_type": "code",
   "execution_count": 16,
   "metadata": {},
   "outputs": [],
   "source": [
    "// we import the marker option which lets us specify the marker\n",
    "import org.carbonateresearch.picta.options.Marker\n",
    "import org.carbonateresearch.picta.SymbolShape._"
   ]
  },
  {
   "cell_type": "code",
   "execution_count": 17,
   "metadata": {
    "scrolled": false
   },
   "outputs": [
    {
     "data": {
      "text/html": [
       "<div id=\"grid-container_8SGvmeE1Ig\" class=\"grid-container\" align=\"center\"> \n",
       "<div id=\"grid_8SGvmeE1Ig\" class=\"grid\" align=\"center\"> \n",
       "<div id=\"graph_BkTOToRK9l\" class=\"graph\"></div> \n",
       "</div> \n",
       "</div> \n",
       "<script>\n",
       "var masonry = new Macy({\n",
       "    container: '#grid_8SGvmeE1Ig',\n",
       "    debug: true,\n",
       "    mobileFirst: true,\n",
       "    columns: 1,\n",
       "    margin: {\n",
       "        x: 0,\n",
       "        y: 50\n",
       "    }\n",
       "  });\n",
       "\n",
       "  var traces_BkTOToRK9l = [{\"name\":\"Bar\",\"type\":\"bar\",\"x\":[31.324123415369716,13.411263965342235,4.693494627275202,12.205426778609041,38.86446930592054,36.18577077599814,42.11222376683036,8.835977130353296,24.794299878477805,9.87939762232662,17.25261221146006,18.40158686705268,40.46466307426835,6.050600356927449,44.920820121910886,1.143306616154438,49.91080260881257,16.731262774185485,46.04004854855797,34.75146915410792,49.85962097386788,46.190054899639264,43.88207210483156,43.26180289119424,24.776903324386023,33.65268623406023,10.40581416589062,11.239658666751595,44.68897216009372,19.90170669286434,1.6144122191269206,32.23456274522413,43.44511593332419,38.50080739675252,17.180101572167754,30.965859354833498,40.33122060197018,38.023303617634824,36.23662864785308,21.991212999429738,38.5017418052709,25.11178015561768,18.2018226016879,23.71325401911266,49.56623047061262,9.455618558255075,14.768297207037872,35.495668986409335,4.848312875834115,30.845412435684104,16.7881989554888,7.388556776858351,20.329142719283823,5.348022267717411,7.678279575104218,36.503878879799515,34.09399264226313,42.343309478067084,13.184444064989547,11.43534361815986,32.21978449650215,6.673333994834368,25.87036774019226,46.28311716808275,21.473009450913167,30.477080491487445,41.53261333295012,48.82219910863802,44.93162949461292,17.418527463423683,23.895104129622325,3.1443929885500213,19.701169096169757,27.96316921802795,13.398683601560945,15.707264419173361,4.26438763906622,38.11782676677908,15.67688232286925,25.13951985214682,26.685522248976383,25.620877342163677,45.39692362879809,10.380739266976041,23.88426247677376,6.954792492033812,11.545353714470924,48.774434454388484,6.5012400676314535,25.750132722031587,10.950613815153531,25.58689202870294,23.495961746839843,28.159920344192045,47.860226774318996,29.090301789847434,5.549766430946329,3.605573979678706,18.728184039927548,30.82716078479853],\"y\":[16.590507315148535,19.930349976731897,43.01850550590936,48.96398867746276,38.31230871459831,40.443514232596016,32.79382300631538,23.74588353701666,3.4329139373537654,26.598220082129302,26.133244436774643,47.97945744280695,29.612721022138054,4.118337994413068,12.01163726770092,42.200243711060956,37.45380799119962,2.2742521755162337,47.172867114205225,43.72163765017328,12.803857810233671,15.70490259522811,8.74240402116388,41.11597477423666,45.709023232691756,35.69310992816438,39.85012581301023,30.84436302087643,45.79144772179159,3.1235015022099963,29.371996958200203,0.7303977865934896,46.571262970969855,48.487104935607874,21.049751291069978,5.763900510720449,19.309552528020387,5.243954557953135,21.71052814107513,45.32434800891027,20.317881735150205,11.614812540902458,23.08386471149601,27.329662780845844,44.361680737116366,2.4453843798669883,16.801293762976417,14.044558053007583,0.7788411827885533,37.17115332414457,17.564210625433986,36.323651524006706,18.241607732120897,12.108248780958657,15.17856117245156,37.91805630544229,18.70891008703874,15.305510211741147,2.180273076041628,19.140203136450978,31.047974603331557,0.015181377238548954,20.113279432361136,39.66014177707662,40.04817619067324,28.474437934140735,34.172336325380385,13.497589040332103,37.10672163563647,21.137209869578662,32.88575787188373,35.37751012832405,4.7349200200025585,37.75552994263934,6.788558597746425,16.533042519354385,28.21541855786999,15.781911988363017,37.624397509507666,29.768068553235793,34.23492030950473,48.44900733708123,27.515114008186075,18.13277294074778,8.123563533307475,49.58007970634699,15.749511237377401,8.91903327121059,38.45125491377605,24.69358783701653,19.36846771696014,44.84851799211983,30.162902940113472,48.28743270908445,42.56131727240072,47.30484321167227,15.178654564156158,35.3231982305488,29.03884953698597,12.252221255841656]},{\"name\":\"Scatter\",\"type\":\"scatter\",\"mode\":\"markers\",\"marker\":{\"symbol\":\"square-open\",\"color\":\"red\"},\"x\":[31.324123415369716,13.411263965342235,4.693494627275202,12.205426778609041,38.86446930592054,36.18577077599814,42.11222376683036,8.835977130353296,24.794299878477805,9.87939762232662,17.25261221146006,18.40158686705268,40.46466307426835,6.050600356927449,44.920820121910886,1.143306616154438,49.91080260881257,16.731262774185485,46.04004854855797,34.75146915410792,49.85962097386788,46.190054899639264,43.88207210483156,43.26180289119424,24.776903324386023,33.65268623406023,10.40581416589062,11.239658666751595,44.68897216009372,19.90170669286434,1.6144122191269206,32.23456274522413,43.44511593332419,38.50080739675252,17.180101572167754,30.965859354833498,40.33122060197018,38.023303617634824,36.23662864785308,21.991212999429738,38.5017418052709,25.11178015561768,18.2018226016879,23.71325401911266,49.56623047061262,9.455618558255075,14.768297207037872,35.495668986409335,4.848312875834115,30.845412435684104,16.7881989554888,7.388556776858351,20.329142719283823,5.348022267717411,7.678279575104218,36.503878879799515,34.09399264226313,42.343309478067084,13.184444064989547,11.43534361815986,32.21978449650215,6.673333994834368,25.87036774019226,46.28311716808275,21.473009450913167,30.477080491487445,41.53261333295012,48.82219910863802,44.93162949461292,17.418527463423683,23.895104129622325,3.1443929885500213,19.701169096169757,27.96316921802795,13.398683601560945,15.707264419173361,4.26438763906622,38.11782676677908,15.67688232286925,25.13951985214682,26.685522248976383,25.620877342163677,45.39692362879809,10.380739266976041,23.88426247677376,6.954792492033812,11.545353714470924,48.774434454388484,6.5012400676314535,25.750132722031587,10.950613815153531,25.58689202870294,23.495961746839843,28.159920344192045,47.860226774318996,29.090301789847434,5.549766430946329,3.605573979678706,18.728184039927548,30.82716078479853],\"y\":[16.590507315148535,19.930349976731897,43.01850550590936,48.96398867746276,38.31230871459831,40.443514232596016,32.79382300631538,23.74588353701666,3.4329139373537654,26.598220082129302,26.133244436774643,47.97945744280695,29.612721022138054,4.118337994413068,12.01163726770092,42.200243711060956,37.45380799119962,2.2742521755162337,47.172867114205225,43.72163765017328,12.803857810233671,15.70490259522811,8.74240402116388,41.11597477423666,45.709023232691756,35.69310992816438,39.85012581301023,30.84436302087643,45.79144772179159,3.1235015022099963,29.371996958200203,0.7303977865934896,46.571262970969855,48.487104935607874,21.049751291069978,5.763900510720449,19.309552528020387,5.243954557953135,21.71052814107513,45.32434800891027,20.317881735150205,11.614812540902458,23.08386471149601,27.329662780845844,44.361680737116366,2.4453843798669883,16.801293762976417,14.044558053007583,0.7788411827885533,37.17115332414457,17.564210625433986,36.323651524006706,18.241607732120897,12.108248780958657,15.17856117245156,37.91805630544229,18.70891008703874,15.305510211741147,2.180273076041628,19.140203136450978,31.047974603331557,0.015181377238548954,20.113279432361136,39.66014177707662,40.04817619067324,28.474437934140735,34.172336325380385,13.497589040332103,37.10672163563647,21.137209869578662,32.88575787188373,35.37751012832405,4.7349200200025585,37.75552994263934,6.788558597746425,16.533042519354385,28.21541855786999,15.781911988363017,37.624397509507666,29.768068553235793,34.23492030950473,48.44900733708123,27.515114008186075,18.13277294074778,8.123563533307475,49.58007970634699,15.749511237377401,8.91903327121059,38.45125491377605,24.69358783701653,19.36846771696014,44.84851799211983,30.162902940113472,48.28743270908445,42.56131727240072,47.30484321167227,15.178654564156158,35.3231982305488,29.03884953698597,12.252221255841656]}];\n",
       " var layout_BkTOToRK9l = {\"height\":550,\"width\":600,\"hovermode\":\"closest\",\"title\":{\"text\":\"Multiple series on one chart\"},\"showlegend\":true,\"xaxis\":{\"title\":{\"text\":\"X values\"},\"showgrid\":true,\"zeroline\":false,\"showline\":false},\"yaxis\":{\"title\":{\"text\":\"Y values\"},\"showgrid\":true,\"zeroline\":false,\"showline\":false}};\n",
       " var config_BkTOToRK9l = {\"responsive\":true,\"scrollZoom\":true,\"displaylogo\":false};\n",
       " Plotly.newPlot(\"graph_BkTOToRK9l\", traces_BkTOToRK9l, layout_BkTOToRK9l, config_BkTOToRK9l);\n",
       "</script> \n"
      ]
     },
     "metadata": {},
     "output_type": "display_data"
    }
   ],
   "source": [
    "// additional traces can simply be composed with an existing chart and added on\n",
    "val series1 = XY(x, y) asType BAR setName \"Bar\"\n",
    "\n",
    "// lets give the second series a red marker. Again we can 'compose' a marker using smaller components\n",
    "val marker = Marker() setSymbol SQUARE_OPEN setColor \"red\"\n",
    "\n",
    "val series2 = XY(x, y) asType SCATTER setName \"Scatter\" drawStyle MARKERS setMarker marker\n",
    "\n",
    "// we not put brackets in the 'addSeries' function to ensure that addSeries picks up the right series'\n",
    "val chart_YX99 = Chart() addSeries(series1, series2) setTitle(\"Multiple series on one chart\") setXAxisTitle \"X values\" setYAxisTitle \"Y values\"\n",
    "\n",
    "chart_YX99.plotInline"
   ]
  },
  {
   "cell_type": "markdown",
   "metadata": {},
   "source": [
    "### Lets Change The Appearance of The Markers\n",
    "\n",
    "We can control the appearance of the markers by setting the width"
   ]
  },
  {
   "cell_type": "code",
   "execution_count": 18,
   "metadata": {},
   "outputs": [
    {
     "data": {
      "text/html": [
       "<div id=\"grid-container_aQhCIgDovz\" class=\"grid-container\" align=\"center\"> \n",
       "<div id=\"grid_aQhCIgDovz\" class=\"grid\" align=\"center\"> \n",
       "<div id=\"graph_sokEwqAZsZ\" class=\"graph\"></div> \n",
       "</div> \n",
       "</div> \n",
       "<script>\n",
       "var masonry = new Macy({\n",
       "    container: '#grid_aQhCIgDovz',\n",
       "    debug: true,\n",
       "    mobileFirst: true,\n",
       "    columns: 1,\n",
       "    margin: {\n",
       "        x: 0,\n",
       "        y: 50\n",
       "    }\n",
       "  });\n",
       "\n",
       "  var traces_sokEwqAZsZ = [{\"name\":\"Bar\",\"type\":\"bar\",\"x\":[31.324123415369716,13.411263965342235,4.693494627275202,12.205426778609041,38.86446930592054,36.18577077599814,42.11222376683036,8.835977130353296,24.794299878477805,9.87939762232662,17.25261221146006,18.40158686705268,40.46466307426835,6.050600356927449,44.920820121910886,1.143306616154438,49.91080260881257,16.731262774185485,46.04004854855797,34.75146915410792,49.85962097386788,46.190054899639264,43.88207210483156,43.26180289119424,24.776903324386023,33.65268623406023,10.40581416589062,11.239658666751595,44.68897216009372,19.90170669286434,1.6144122191269206,32.23456274522413,43.44511593332419,38.50080739675252,17.180101572167754,30.965859354833498,40.33122060197018,38.023303617634824,36.23662864785308,21.991212999429738,38.5017418052709,25.11178015561768,18.2018226016879,23.71325401911266,49.56623047061262,9.455618558255075,14.768297207037872,35.495668986409335,4.848312875834115,30.845412435684104,16.7881989554888,7.388556776858351,20.329142719283823,5.348022267717411,7.678279575104218,36.503878879799515,34.09399264226313,42.343309478067084,13.184444064989547,11.43534361815986,32.21978449650215,6.673333994834368,25.87036774019226,46.28311716808275,21.473009450913167,30.477080491487445,41.53261333295012,48.82219910863802,44.93162949461292,17.418527463423683,23.895104129622325,3.1443929885500213,19.701169096169757,27.96316921802795,13.398683601560945,15.707264419173361,4.26438763906622,38.11782676677908,15.67688232286925,25.13951985214682,26.685522248976383,25.620877342163677,45.39692362879809,10.380739266976041,23.88426247677376,6.954792492033812,11.545353714470924,48.774434454388484,6.5012400676314535,25.750132722031587,10.950613815153531,25.58689202870294,23.495961746839843,28.159920344192045,47.860226774318996,29.090301789847434,5.549766430946329,3.605573979678706,18.728184039927548,30.82716078479853],\"y\":[16.590507315148535,19.930349976731897,43.01850550590936,48.96398867746276,38.31230871459831,40.443514232596016,32.79382300631538,23.74588353701666,3.4329139373537654,26.598220082129302,26.133244436774643,47.97945744280695,29.612721022138054,4.118337994413068,12.01163726770092,42.200243711060956,37.45380799119962,2.2742521755162337,47.172867114205225,43.72163765017328,12.803857810233671,15.70490259522811,8.74240402116388,41.11597477423666,45.709023232691756,35.69310992816438,39.85012581301023,30.84436302087643,45.79144772179159,3.1235015022099963,29.371996958200203,0.7303977865934896,46.571262970969855,48.487104935607874,21.049751291069978,5.763900510720449,19.309552528020387,5.243954557953135,21.71052814107513,45.32434800891027,20.317881735150205,11.614812540902458,23.08386471149601,27.329662780845844,44.361680737116366,2.4453843798669883,16.801293762976417,14.044558053007583,0.7788411827885533,37.17115332414457,17.564210625433986,36.323651524006706,18.241607732120897,12.108248780958657,15.17856117245156,37.91805630544229,18.70891008703874,15.305510211741147,2.180273076041628,19.140203136450978,31.047974603331557,0.015181377238548954,20.113279432361136,39.66014177707662,40.04817619067324,28.474437934140735,34.172336325380385,13.497589040332103,37.10672163563647,21.137209869578662,32.88575787188373,35.37751012832405,4.7349200200025585,37.75552994263934,6.788558597746425,16.533042519354385,28.21541855786999,15.781911988363017,37.624397509507666,29.768068553235793,34.23492030950473,48.44900733708123,27.515114008186075,18.13277294074778,8.123563533307475,49.58007970634699,15.749511237377401,8.91903327121059,38.45125491377605,24.69358783701653,19.36846771696014,44.84851799211983,30.162902940113472,48.28743270908445,42.56131727240072,47.30484321167227,15.178654564156158,35.3231982305488,29.03884953698597,12.252221255841656]},{\"name\":\"Scatter\",\"type\":\"scatter\",\"mode\":\"markers\",\"marker\":{\"symbol\":\"circle\",\"color\":\"red\",\"line\":{\"width\":2,\"color\":\"black\"},\"size\":[10,10,10,10,10,10,10,10,10,10,10,10,10,10,10,10,10,10,10,10,10,10,10,10,10,10,10,10,10,10,10,10,10,10,10,10,10,10,10,10,10,10,10,10,10,10,10,10,10,10,10,10,10,10,10,10,10,10,10,10,10,10,10,10,10,10,10,10,10,10,10,10,10,10,10,10,10,10,10,10,10,10,10,10,10,10,10,10,10,10,10,10,10,10,10,10,10,10,10,10]},\"x\":[31.324123415369716,13.411263965342235,4.693494627275202,12.205426778609041,38.86446930592054,36.18577077599814,42.11222376683036,8.835977130353296,24.794299878477805,9.87939762232662,17.25261221146006,18.40158686705268,40.46466307426835,6.050600356927449,44.920820121910886,1.143306616154438,49.91080260881257,16.731262774185485,46.04004854855797,34.75146915410792,49.85962097386788,46.190054899639264,43.88207210483156,43.26180289119424,24.776903324386023,33.65268623406023,10.40581416589062,11.239658666751595,44.68897216009372,19.90170669286434,1.6144122191269206,32.23456274522413,43.44511593332419,38.50080739675252,17.180101572167754,30.965859354833498,40.33122060197018,38.023303617634824,36.23662864785308,21.991212999429738,38.5017418052709,25.11178015561768,18.2018226016879,23.71325401911266,49.56623047061262,9.455618558255075,14.768297207037872,35.495668986409335,4.848312875834115,30.845412435684104,16.7881989554888,7.388556776858351,20.329142719283823,5.348022267717411,7.678279575104218,36.503878879799515,34.09399264226313,42.343309478067084,13.184444064989547,11.43534361815986,32.21978449650215,6.673333994834368,25.87036774019226,46.28311716808275,21.473009450913167,30.477080491487445,41.53261333295012,48.82219910863802,44.93162949461292,17.418527463423683,23.895104129622325,3.1443929885500213,19.701169096169757,27.96316921802795,13.398683601560945,15.707264419173361,4.26438763906622,38.11782676677908,15.67688232286925,25.13951985214682,26.685522248976383,25.620877342163677,45.39692362879809,10.380739266976041,23.88426247677376,6.954792492033812,11.545353714470924,48.774434454388484,6.5012400676314535,25.750132722031587,10.950613815153531,25.58689202870294,23.495961746839843,28.159920344192045,47.860226774318996,29.090301789847434,5.549766430946329,3.605573979678706,18.728184039927548,30.82716078479853],\"y\":[16.590507315148535,19.930349976731897,43.01850550590936,48.96398867746276,38.31230871459831,40.443514232596016,32.79382300631538,23.74588353701666,3.4329139373537654,26.598220082129302,26.133244436774643,47.97945744280695,29.612721022138054,4.118337994413068,12.01163726770092,42.200243711060956,37.45380799119962,2.2742521755162337,47.172867114205225,43.72163765017328,12.803857810233671,15.70490259522811,8.74240402116388,41.11597477423666,45.709023232691756,35.69310992816438,39.85012581301023,30.84436302087643,45.79144772179159,3.1235015022099963,29.371996958200203,0.7303977865934896,46.571262970969855,48.487104935607874,21.049751291069978,5.763900510720449,19.309552528020387,5.243954557953135,21.71052814107513,45.32434800891027,20.317881735150205,11.614812540902458,23.08386471149601,27.329662780845844,44.361680737116366,2.4453843798669883,16.801293762976417,14.044558053007583,0.7788411827885533,37.17115332414457,17.564210625433986,36.323651524006706,18.241607732120897,12.108248780958657,15.17856117245156,37.91805630544229,18.70891008703874,15.305510211741147,2.180273076041628,19.140203136450978,31.047974603331557,0.015181377238548954,20.113279432361136,39.66014177707662,40.04817619067324,28.474437934140735,34.172336325380385,13.497589040332103,37.10672163563647,21.137209869578662,32.88575787188373,35.37751012832405,4.7349200200025585,37.75552994263934,6.788558597746425,16.533042519354385,28.21541855786999,15.781911988363017,37.624397509507666,29.768068553235793,34.23492030950473,48.44900733708123,27.515114008186075,18.13277294074778,8.123563533307475,49.58007970634699,15.749511237377401,8.91903327121059,38.45125491377605,24.69358783701653,19.36846771696014,44.84851799211983,30.162902940113472,48.28743270908445,42.56131727240072,47.30484321167227,15.178654564156158,35.3231982305488,29.03884953698597,12.252221255841656]}];\n",
       " var layout_sokEwqAZsZ = {\"height\":550,\"width\":600,\"hovermode\":\"closest\",\"showlegend\":true,\"xaxis\":{\"title\":{\"text\":\"X values\"},\"showgrid\":true,\"zeroline\":false,\"showline\":false},\"yaxis\":{\"title\":{\"text\":\"Y values\"},\"showgrid\":true,\"zeroline\":false,\"showline\":false}};\n",
       " var config_sokEwqAZsZ = {\"responsive\":false,\"scrollZoom\":false,\"displaylogo\":false};\n",
       " Plotly.newPlot(\"graph_sokEwqAZsZ\", traces_sokEwqAZsZ, layout_sokEwqAZsZ, config_sokEwqAZsZ);\n",
       "</script> \n"
      ]
     },
     "metadata": {},
     "output_type": "display_data"
    }
   ],
   "source": [
    "// we can pass in the size of the markers\n",
    "val sizes = List.range(0, 100).map(x => 10)\n",
    "\n",
    "// additional traces can simply be composed with an existing chart and added on\n",
    "val series1 = XY(x, y) asType BAR setName \"Bar\"\n",
    "\n",
    "// lets give the second series a red marker. Again we can 'compose' a marker using smaller components\n",
    "val marker = (\n",
    "    Marker() \n",
    "    // sets the marker shape\n",
    "    setSymbol CIRCLE\n",
    "    // sets the fill to red\n",
    "    setColor \"red\" \n",
    "    // sets the outline to black, with width 2\n",
    "    setLine(width = 2, \"black\")\n",
    "    // set the size of the markers to 10 as per the list we created\n",
    "    setSize(sizes)\n",
    ") \n",
    "\n",
    "val series2 = XY(x, y) asType SCATTER setName \"Scatter\" drawStyle MARKERS setMarker marker\n",
    "\n",
    "// we not put brackets in the 'addSeries' function to ensure that addSeries picks up the right series'\n",
    "val chart_FM98 = Chart() addSeries(series1, series2) setConfig(false, false) setXAxisTitle \"X values\" setYAxisTitle \"Y values\"\n",
    "\n",
    "chart_FM98.plotInline"
   ]
  },
  {
   "cell_type": "markdown",
   "metadata": {},
   "source": [
    "### Adding Another Axes\n",
    "\n",
    "Sometimes we may wish to plot multiple series on one chart, but using two different Axes. This may be because the values of the two series are very different, yet we want to compare them on the same plot. We can do this as follows:"
   ]
  },
  {
   "cell_type": "code",
   "execution_count": 19,
   "metadata": {},
   "outputs": [
    {
     "data": {
      "text/html": [
       "<div id=\"grid-container_ztcptvW3sm\" class=\"grid-container\" align=\"center\"> \n",
       "<div id=\"grid_ztcptvW3sm\" class=\"grid\" align=\"center\"> \n",
       "<div id=\"graph_aehd9lscOs\" class=\"graph\"></div> \n",
       "</div> \n",
       "</div> \n",
       "<script>\n",
       "var masonry = new Macy({\n",
       "    container: '#grid_ztcptvW3sm',\n",
       "    debug: true,\n",
       "    mobileFirst: true,\n",
       "    columns: 1,\n",
       "    margin: {\n",
       "        x: 0,\n",
       "        y: 50\n",
       "    }\n",
       "  });\n",
       "\n",
       "  var traces_aehd9lscOs = [{\"name\":\"Series 3 using Y axis 1\",\"type\":\"scatter\",\"mode\":\"markers\",\"x\":[31.324123415369716,13.411263965342235,4.693494627275202,12.205426778609041,38.86446930592054,36.18577077599814,42.11222376683036,8.835977130353296,24.794299878477805,9.87939762232662,17.25261221146006,18.40158686705268,40.46466307426835,6.050600356927449,44.920820121910886,1.143306616154438,49.91080260881257,16.731262774185485,46.04004854855797,34.75146915410792,49.85962097386788,46.190054899639264,43.88207210483156,43.26180289119424,24.776903324386023,33.65268623406023,10.40581416589062,11.239658666751595,44.68897216009372,19.90170669286434,1.6144122191269206,32.23456274522413,43.44511593332419,38.50080739675252,17.180101572167754,30.965859354833498,40.33122060197018,38.023303617634824,36.23662864785308,21.991212999429738,38.5017418052709,25.11178015561768,18.2018226016879,23.71325401911266,49.56623047061262,9.455618558255075,14.768297207037872,35.495668986409335,4.848312875834115,30.845412435684104,16.7881989554888,7.388556776858351,20.329142719283823,5.348022267717411,7.678279575104218,36.503878879799515,34.09399264226313,42.343309478067084,13.184444064989547,11.43534361815986,32.21978449650215,6.673333994834368,25.87036774019226,46.28311716808275,21.473009450913167,30.477080491487445,41.53261333295012,48.82219910863802,44.93162949461292,17.418527463423683,23.895104129622325,3.1443929885500213,19.701169096169757,27.96316921802795,13.398683601560945,15.707264419173361,4.26438763906622,38.11782676677908,15.67688232286925,25.13951985214682,26.685522248976383,25.620877342163677,45.39692362879809,10.380739266976041,23.88426247677376,6.954792492033812,11.545353714470924,48.774434454388484,6.5012400676314535,25.750132722031587,10.950613815153531,25.58689202870294,23.495961746839843,28.159920344192045,47.860226774318996,29.090301789847434,5.549766430946329,3.605573979678706,18.728184039927548,30.82716078479853],\"y\":[16.590507315148535,19.930349976731897,43.01850550590936,48.96398867746276,38.31230871459831,40.443514232596016,32.79382300631538,23.74588353701666,3.4329139373537654,26.598220082129302,26.133244436774643,47.97945744280695,29.612721022138054,4.118337994413068,12.01163726770092,42.200243711060956,37.45380799119962,2.2742521755162337,47.172867114205225,43.72163765017328,12.803857810233671,15.70490259522811,8.74240402116388,41.11597477423666,45.709023232691756,35.69310992816438,39.85012581301023,30.84436302087643,45.79144772179159,3.1235015022099963,29.371996958200203,0.7303977865934896,46.571262970969855,48.487104935607874,21.049751291069978,5.763900510720449,19.309552528020387,5.243954557953135,21.71052814107513,45.32434800891027,20.317881735150205,11.614812540902458,23.08386471149601,27.329662780845844,44.361680737116366,2.4453843798669883,16.801293762976417,14.044558053007583,0.7788411827885533,37.17115332414457,17.564210625433986,36.323651524006706,18.241607732120897,12.108248780958657,15.17856117245156,37.91805630544229,18.70891008703874,15.305510211741147,2.180273076041628,19.140203136450978,31.047974603331557,0.015181377238548954,20.113279432361136,39.66014177707662,40.04817619067324,28.474437934140735,34.172336325380385,13.497589040332103,37.10672163563647,21.137209869578662,32.88575787188373,35.37751012832405,4.7349200200025585,37.75552994263934,6.788558597746425,16.533042519354385,28.21541855786999,15.781911988363017,37.624397509507666,29.768068553235793,34.23492030950473,48.44900733708123,27.515114008186075,18.13277294074778,8.123563533307475,49.58007970634699,15.749511237377401,8.91903327121059,38.45125491377605,24.69358783701653,19.36846771696014,44.84851799211983,30.162902940113472,48.28743270908445,42.56131727240072,47.30484321167227,15.178654564156158,35.3231982305488,29.03884953698597,12.252221255841656]},{\"name\":\"Series 2 using Y axis 2\",\"type\":\"scatter\",\"mode\":\"markers\",\"yaxis\":\"y2\",\"x\":[31.324123415369716,13.411263965342235,4.693494627275202,12.205426778609041,38.86446930592054,36.18577077599814,42.11222376683036,8.835977130353296,24.794299878477805,9.87939762232662,17.25261221146006,18.40158686705268,40.46466307426835,6.050600356927449,44.920820121910886,1.143306616154438,49.91080260881257,16.731262774185485,46.04004854855797,34.75146915410792,49.85962097386788,46.190054899639264,43.88207210483156,43.26180289119424,24.776903324386023,33.65268623406023,10.40581416589062,11.239658666751595,44.68897216009372,19.90170669286434,1.6144122191269206,32.23456274522413,43.44511593332419,38.50080739675252,17.180101572167754,30.965859354833498,40.33122060197018,38.023303617634824,36.23662864785308,21.991212999429738,38.5017418052709,25.11178015561768,18.2018226016879,23.71325401911266,49.56623047061262,9.455618558255075,14.768297207037872,35.495668986409335,4.848312875834115,30.845412435684104,16.7881989554888,7.388556776858351,20.329142719283823,5.348022267717411,7.678279575104218,36.503878879799515,34.09399264226313,42.343309478067084,13.184444064989547,11.43534361815986,32.21978449650215,6.673333994834368,25.87036774019226,46.28311716808275,21.473009450913167,30.477080491487445,41.53261333295012,48.82219910863802,44.93162949461292,17.418527463423683,23.895104129622325,3.1443929885500213,19.701169096169757,27.96316921802795,13.398683601560945,15.707264419173361,4.26438763906622,38.11782676677908,15.67688232286925,25.13951985214682,26.685522248976383,25.620877342163677,45.39692362879809,10.380739266976041,23.88426247677376,6.954792492033812,11.545353714470924,48.774434454388484,6.5012400676314535,25.750132722031587,10.950613815153531,25.58689202870294,23.495961746839843,28.159920344192045,47.860226774318996,29.090301789847434,5.549766430946329,3.605573979678706,18.728184039927548,30.82716078479853],\"y\":[22.44183386257721,40.87797147237802,31.011162253581297,8.08647358221405,47.766479679632326,25.69109988183428,38.17398768226044,46.08036898570921,37.51796481127871,36.905511308640556,0.19502384578291565,28.313699669360354,19.154369766266203,22.687974712717697,36.59215559083475,45.01957229094978,25.962878339096807,26.609968732642447,8.608378659183291,43.131879288754874,22.94464343785766,42.68055427798249,28.713613254382775,20.484938650598654,45.733179639370185,4.744963487745685,4.70147603139811,15.594811311977203,14.67550268990827,34.597331526590615,6.999491145056474,11.242809650090196,31.76186920518727,31.60329603469942,9.77409267819121,1.1852398043839585,8.959099715560454,2.887942711267144,38.68717619245737,33.22941966643015,12.684126988877221,7.2168560209882,10.748827758732215,38.64455710335722,40.64854187478767,17.582757921217855,24.611280311443167,37.41704084539348,24.111548748381274,47.207547982368894,2.8620003228014057,21.21328170434989,20.697886027459983,31.179260622283383,1.3992341697921407,11.079175430108068,30.368913451408837,11.265763345026192,34.811209058432134,14.883856461001082,29.879190018450913,34.58176846289218,20.830580363450974,20.306354451475052,29.107533972457556,47.73298833274415,21.398623385442257,2.767341104065962,6.020675133112946,46.82106194654184,2.6490269423110444,4.1241191134763655,25.70925766014386,30.265096591562063,1.2090661858738028,47.17556432947184,42.9300878003844,45.78048775780324,19.61631720031636,43.06472339472363,26.895182048439008,25.052897882389814,29.361939707928002,23.520282265625607,31.667278226539068,9.655085088654408,36.096990456422304,37.54415245322142,15.453139995799493,39.576491281521896,7.876076913627656,42.63092756926506,37.33011068640242,1.3703125554805962,33.963082662156864,43.895982317183005,30.49802585878006,16.37000131757676,18.68656496391658,40.592490372043464]}];\n",
       " var layout_aehd9lscOs = {\"height\":550,\"width\":600,\"hovermode\":\"closest\",\"title\":{\"text\":\"Using Multiple Axes\"},\"showlegend\":true,\"yaxis2\":{\"title\":{\"text\":\"Second y axis\"},\"showgrid\":true,\"zeroline\":false,\"showline\":false,\"side\":\"right\",\"overlaying\":\"y\"},\"yaxis\":{\"title\":{\"text\":\"First Y Axis\"},\"showgrid\":true,\"zeroline\":false,\"showline\":false},\"xaxis\":{\"title\":{\"text\":\"X Axis\"},\"showgrid\":true,\"zeroline\":false,\"showline\":false}};\n",
       " var config_aehd9lscOs = {\"responsive\":false,\"scrollZoom\":false,\"displaylogo\":false};\n",
       " Plotly.newPlot(\"graph_aehd9lscOs\", traces_aehd9lscOs, layout_aehd9lscOs, config_aehd9lscOs);\n",
       "</script> \n"
      ]
     },
     "metadata": {},
     "output_type": "display_data"
    }
   ],
   "source": [
    "val series1 = XY(x, y) asType SCATTER drawStyle MARKERS\n",
    "\n",
    "// The following maps the series onto the second Y axis.\n",
    "val series2 = (\n",
    "    XY(x, z) \n",
    "    asType SCATTER \n",
    "    drawStyle MARKERS \n",
    "    setAxis Axis(Y, 2)\n",
    "    setName(\"Series 2 using Y axis 2\")\n",
    ")\n",
    "\n",
    "val series3 = series1.copy() setName(\"Series 3 using Y axis 1\")\n",
    "      \n",
    "val chart_JO12 = (\n",
    "    Chart() \n",
    "    setTitle \"Using Multiple Axes\"\n",
    "    // the following makes the chart unresponsive\n",
    "    setConfig(false, false) \n",
    "    addSeries(series3, series2) \n",
    "    // the following tells the chart how to render the second Y Axis\n",
    "    addAxes Axis(Y, position = 2, title = \"Second y axis\", overlaying = Axis(Y), side = RIGHT_SIDE)\n",
    "    addAxes Axis(Y, 1, \"First Y Axis\")\n",
    "    addAxes Axis(X, title = \"X Axis\")\n",
    ") \n",
    "\n",
    "// this is just for illustration purposes, but we can also do the following\n",
    "val canvas = Canvas() setChart(0, 0, chart_JO12)\n",
    "\n",
    "canvas.plotInline"
   ]
  },
  {
   "cell_type": "markdown",
   "metadata": {},
   "source": [
    "### Customizing the Axes\n",
    "\n",
    "As can be seen from some of the examples above, if you do a simple chart you can use the standard axis (X and Y) and costumise them in the chart object. But for more complex layout,  we may would want to create new axis and name them.\n",
    "\n",
    "We can do this as follows:"
   ]
  },
  {
   "cell_type": "code",
   "execution_count": 20,
   "metadata": {},
   "outputs": [
    {
     "data": {
      "text/html": [
       "<div id=\"grid-container_hVRdk7YoJt\" class=\"grid-container\" align=\"center\"> \n",
       "<div id=\"grid_hVRdk7YoJt\" class=\"grid\" align=\"center\"> \n",
       "<div id=\"graph_KwAE3xPgWL\" class=\"graph\"></div> \n",
       "</div> \n",
       "</div> \n",
       "<script>\n",
       "var masonry = new Macy({\n",
       "    container: '#grid_hVRdk7YoJt',\n",
       "    debug: true,\n",
       "    mobileFirst: true,\n",
       "    columns: 1,\n",
       "    margin: {\n",
       "        x: 0,\n",
       "        y: 50\n",
       "    }\n",
       "  });\n",
       "\n",
       "  var traces_KwAE3xPgWL = [{\"name\":\"Data\",\"type\":\"scatter\",\"mode\":\"markers\",\"x\":[31.324123415369716,13.411263965342235,4.693494627275202,12.205426778609041,38.86446930592054,36.18577077599814,42.11222376683036,8.835977130353296,24.794299878477805,9.87939762232662,17.25261221146006,18.40158686705268,40.46466307426835,6.050600356927449,44.920820121910886,1.143306616154438,49.91080260881257,16.731262774185485,46.04004854855797,34.75146915410792,49.85962097386788,46.190054899639264,43.88207210483156,43.26180289119424,24.776903324386023,33.65268623406023,10.40581416589062,11.239658666751595,44.68897216009372,19.90170669286434,1.6144122191269206,32.23456274522413,43.44511593332419,38.50080739675252,17.180101572167754,30.965859354833498,40.33122060197018,38.023303617634824,36.23662864785308,21.991212999429738,38.5017418052709,25.11178015561768,18.2018226016879,23.71325401911266,49.56623047061262,9.455618558255075,14.768297207037872,35.495668986409335,4.848312875834115,30.845412435684104,16.7881989554888,7.388556776858351,20.329142719283823,5.348022267717411,7.678279575104218,36.503878879799515,34.09399264226313,42.343309478067084,13.184444064989547,11.43534361815986,32.21978449650215,6.673333994834368,25.87036774019226,46.28311716808275,21.473009450913167,30.477080491487445,41.53261333295012,48.82219910863802,44.93162949461292,17.418527463423683,23.895104129622325,3.1443929885500213,19.701169096169757,27.96316921802795,13.398683601560945,15.707264419173361,4.26438763906622,38.11782676677908,15.67688232286925,25.13951985214682,26.685522248976383,25.620877342163677,45.39692362879809,10.380739266976041,23.88426247677376,6.954792492033812,11.545353714470924,48.774434454388484,6.5012400676314535,25.750132722031587,10.950613815153531,25.58689202870294,23.495961746839843,28.159920344192045,47.860226774318996,29.090301789847434,5.549766430946329,3.605573979678706,18.728184039927548,30.82716078479853],\"y\":[16.590507315148535,19.930349976731897,43.01850550590936,48.96398867746276,38.31230871459831,40.443514232596016,32.79382300631538,23.74588353701666,3.4329139373537654,26.598220082129302,26.133244436774643,47.97945744280695,29.612721022138054,4.118337994413068,12.01163726770092,42.200243711060956,37.45380799119962,2.2742521755162337,47.172867114205225,43.72163765017328,12.803857810233671,15.70490259522811,8.74240402116388,41.11597477423666,45.709023232691756,35.69310992816438,39.85012581301023,30.84436302087643,45.79144772179159,3.1235015022099963,29.371996958200203,0.7303977865934896,46.571262970969855,48.487104935607874,21.049751291069978,5.763900510720449,19.309552528020387,5.243954557953135,21.71052814107513,45.32434800891027,20.317881735150205,11.614812540902458,23.08386471149601,27.329662780845844,44.361680737116366,2.4453843798669883,16.801293762976417,14.044558053007583,0.7788411827885533,37.17115332414457,17.564210625433986,36.323651524006706,18.241607732120897,12.108248780958657,15.17856117245156,37.91805630544229,18.70891008703874,15.305510211741147,2.180273076041628,19.140203136450978,31.047974603331557,0.015181377238548954,20.113279432361136,39.66014177707662,40.04817619067324,28.474437934140735,34.172336325380385,13.497589040332103,37.10672163563647,21.137209869578662,32.88575787188373,35.37751012832405,4.7349200200025585,37.75552994263934,6.788558597746425,16.533042519354385,28.21541855786999,15.781911988363017,37.624397509507666,29.768068553235793,34.23492030950473,48.44900733708123,27.515114008186075,18.13277294074778,8.123563533307475,49.58007970634699,15.749511237377401,8.91903327121059,38.45125491377605,24.69358783701653,19.36846771696014,44.84851799211983,30.162902940113472,48.28743270908445,42.56131727240072,47.30484321167227,15.178654564156158,35.3231982305488,29.03884953698597,12.252221255841656]}];\n",
       " var layout_KwAE3xPgWL = {\"height\":550,\"width\":600,\"hovermode\":\"closest\",\"title\":{\"text\":\"Chart with Axes\"},\"showlegend\":true,\"xaxis\":{\"title\":{\"text\":\"x variable\"},\"showgrid\":true,\"zeroline\":false,\"showline\":false},\"yaxis\":{\"title\":{\"text\":\"y variable\"},\"showgrid\":true,\"zeroline\":false,\"showline\":false}};\n",
       " var config_KwAE3xPgWL = {\"responsive\":true,\"scrollZoom\":true,\"displaylogo\":false};\n",
       " Plotly.newPlot(\"graph_KwAE3xPgWL\", traces_KwAE3xPgWL, layout_KwAE3xPgWL, config_KwAE3xPgWL);\n",
       "</script> \n"
      ]
     },
     "metadata": {},
     "output_type": "display_data"
    }
   ],
   "source": [
    "// We construct the axes and set their title\n",
    "val xaxis = Axis(X, title = \"x variable\")\n",
    "val yaxis = Axis(Y, title = \"y variable\")\n",
    "\n",
    "// another way to do composition is to just add a bracket around the composition\n",
    "val chart_UK28 = (\n",
    "    Chart()\n",
    "    setTitle \"Chart with Axes\"\n",
    "    addSeries(series1 setName(\"Data\"))\n",
    "    addAxes(xaxis, yaxis)\n",
    ")\n",
    "\n",
    "chart_UK28.plotInline"
   ]
  },
  {
   "cell_type": "markdown",
   "metadata": {},
   "source": [
    "### Quickly Configuring The Axes\n",
    "\n",
    "Picta comes with a range of utility functions to make configuring the primary axes quick and easy"
   ]
  },
  {
   "cell_type": "code",
   "execution_count": 21,
   "metadata": {},
   "outputs": [],
   "source": [
    "// Let's create 100 randome data points\n",
    "val x = List.range(0, 100).map(x => x * scala.util.Random.nextDouble())\n",
    "val y = List.range(0, 100).map(x => x * scala.util.Random.nextDouble())"
   ]
  },
  {
   "cell_type": "markdown",
   "metadata": {},
   "source": [
    "#### Adjusting Axes Limits"
   ]
  },
  {
   "cell_type": "code",
   "execution_count": 22,
   "metadata": {},
   "outputs": [
    {
     "data": {
      "text/html": [
       "<div id=\"grid-container_GIIA7Il3zI\" class=\"grid-container\" align=\"center\"> \n",
       "<div id=\"grid_GIIA7Il3zI\" class=\"grid\" align=\"center\"> \n",
       "<div id=\"graph_6BkKVhkItB\" class=\"graph\"></div> \n",
       "</div> \n",
       "</div> \n",
       "<script>\n",
       "var masonry = new Macy({\n",
       "    container: '#grid_GIIA7Il3zI',\n",
       "    debug: true,\n",
       "    mobileFirst: true,\n",
       "    columns: 1,\n",
       "    margin: {\n",
       "        x: 0,\n",
       "        y: 50\n",
       "    }\n",
       "  });\n",
       "\n",
       "  var traces_6BkKVhkItB = [{\"name\":\"Data for Axis Limit example\",\"type\":\"scatter\",\"mode\":\"markers\",\"x\":[0,0.5176788400891287,1.5640698012821326,1.6416214313302997,2.701024911889739,0.3234535764865909,4.820890107630605,0.24560615992490553,5.6927447109423,6.209269246284796,4.0689134550422,2.6669619517869307,6.696811700950839,10.804157282068214,9.022766883785927,7.570234318294212,15.797859259807547,8.222448240460894,11.372059413720267,3.86979690112735,12.282178881393248,14.859657404434788,19.231356717158214,10.04444315756197,9.885306162933919,24.26119062603068,20.34312453693452,15.499296600869453,14.930336131252751,22.573404259415245,4.718587407489849,18.244814754821412,26.742110550429935,6.588500030542383,0.705161613805622,13.908775942099009,15.989022556708711,25.697482104795903,25.7611142455553,37.76900291201222,0.4840702719262113,5.418907624030504,12.748372110985457,26.342229754115905,3.719943121336086,44.825464511711786,30.57295736099998,33.33796966106039,5.269382289758811,27.39548707441479,40.759375262433906,4.735443067332458,10.401785569279212,12.822389251531991,39.29036865410887,25.616644754715516,39.10001562496519,26.371603180275066,50.02688814276171,29.439386512559896,58.35767384017121,1.732086723559594,38.494772777692795,45.91073509314835,40.446686308161574,34.21761055589725,31.03463126320754,64.77360863363867,36.01786389454532,15.882053085676777,20.5096146510209,49.897389548897486,36.683260525215296,54.87270833502471,12.202333368300852,67.31736059811577,63.37856084319622,3.4060961527913314,26.45696028911785,50.54743745285114,50.56642499615168,31.362185343318572,56.28563688160851,30.846129096620444,42.467670578454786,56.90496744284624,18.80968613391509,67.39692389153109,56.24648663685363,56.00024610444562,55.29577752215458,86.82133830722017,34.67833494635802,65.46519734878493,79.92510032526398,24.325635416942912,23.545103505157265,77.49864897075119,14.549860781516438,90.34089401829814],\"y\":[0,0.5916469570179164,0.8979574752913959,2.155350278736055,3.0186856561212543,4.771493821784182,3.181843578322952,0.8150304800721383,1.7833684033904298,6.310474644932592,7.182166220670528,4.275190805051665,3.3549924272278675,1.8597470260868478,11.843529662689726,2.0580241873890297,15.033376048681571,14.750599020122074,13.66982638736838,16.567396872213195,16.74778459019835,15.846940996146108,4.325635189015292,7.336720356881295,21.388079712317488,12.024346603539707,8.148418799692557,0.33410707146730323,21.084023864326255,19.63516030086834,14.28221949057036,26.02270211730938,15.749891832975624,14.883624870169388,6.666026826415592,16.495161913432145,1.5093930396534572,8.02522879800001,9.245714378110094,1.1731439996358748,17.152027666752847,25.970485432426386,1.7774899601539729,39.535320120883235,30.79644582617329,44.46515445110902,19.703085114819558,22.36085657833943,36.699029199021595,26.786484028761873,36.05251011030903,50.299540501925996,3.896937366792917,12.08842811299507,46.41905868672949,36.45470635633881,10.36408576133616,26.39792410816393,2.003414284018963,21.34092647511759,44.83606786264648,15.059237078596635,52.789105446642886,12.304976363451962,27.67587467315677,13.39408077757508,37.340301748849306,46.52591388211985,40.356333660806655,66.74171635575505,23.75492133045097,60.28828096475783,16.57761024395786,17.11548358807113,58.21127850975535,13.601293690719677,72.96872374406414,58.710288383718044,23.565095941568124,77.66660477443054,19.991054414272995,68.66935951637916,64.83549282187393,82.42767855090625,10.31895365569216,4.118230613526412,39.41370800267008,6.715071407908771,80.86816387824128,52.749314334457225,23.68671163831651,84.58395888146264,42.026470276363,31.441505527307584,44.73953858901396,39.573016155196164,11.763124500065455,19.776361829945262,54.13511344088865,94.04740200423304]}];\n",
       " var layout_6BkKVhkItB = {\"height\":550,\"width\":600,\"hovermode\":\"closest\",\"title\":{\"text\":\"Axis.SetAxisRange\"},\"showlegend\":true,\"yaxis\":{\"title\":{\"text\":\"y axis\"},\"showgrid\":true,\"zeroline\":false,\"showline\":false,\"range\":[100,-100]},\"xaxis\":{\"title\":{\"text\":\"x axis\"},\"showgrid\":true,\"zeroline\":false,\"showline\":false,\"range\":[-100,100]}};\n",
       " var config_6BkKVhkItB = {\"responsive\":true,\"scrollZoom\":true,\"displaylogo\":false};\n",
       " Plotly.newPlot(\"graph_6BkKVhkItB\", traces_6BkKVhkItB, layout_6BkKVhkItB, config_6BkKVhkItB);\n",
       "</script> \n"
      ]
     },
     "metadata": {},
     "output_type": "display_data"
    }
   ],
   "source": [
    "val series = (\n",
    "    XY(x, y)\n",
    "    asType SCATTER\n",
    "    drawStyle MARKERS\n",
    ")\n",
    "\n",
    "val chart_WH98 = (\n",
    "    Chart()\n",
    "    addSeries series.setName(\"Data for Axis Limit example\")\n",
    "    setTitle \"Axis.SetAxisRange\"\n",
    "    addAxes yaxis\n",
    "    setXAxisLimits(-100, 100) // Here we set the axis limit from -100 to 100\n",
    "    setYAxisLimits(100, -100) // Here, by using the minimum as 100 and the maximum as -100, we automatically reverse the axis\n",
    "    setXAxisTitle(\"x axis\")\n",
    "    setYAxisTitle(\"y axis\")\n",
    ")\n",
    "\n",
    "chart_WH98.plotInline"
   ]
  },
  {
   "cell_type": "markdown",
   "metadata": {},
   "source": [
    "#### Adjusting Axis Ticks"
   ]
  },
  {
   "cell_type": "code",
   "execution_count": 23,
   "metadata": {
    "scrolled": false
   },
   "outputs": [
    {
     "data": {
      "text/html": [
       "<div id=\"grid-container_PDhbOhZzCf\" class=\"grid-container\" align=\"center\"> \n",
       "<div id=\"grid_PDhbOhZzCf\" class=\"grid\" align=\"center\"> \n",
       "<div id=\"graph_8N89b0xcSo\" class=\"graph\"></div> \n",
       "</div> \n",
       "</div> \n",
       "<script>\n",
       "var masonry = new Macy({\n",
       "    container: '#grid_PDhbOhZzCf',\n",
       "    debug: true,\n",
       "    mobileFirst: true,\n",
       "    columns: 1,\n",
       "    margin: {\n",
       "        x: 0,\n",
       "        y: 50\n",
       "    }\n",
       "  });\n",
       "\n",
       "  var traces_8N89b0xcSo = [{\"name\":\"cJbyyvxA3R\",\"type\":\"scatter\",\"mode\":\"markers\",\"x\":[0,0.5176788400891287,1.5640698012821326,1.6416214313302997,2.701024911889739,0.3234535764865909,4.820890107630605,0.24560615992490553,5.6927447109423,6.209269246284796,4.0689134550422,2.6669619517869307,6.696811700950839,10.804157282068214,9.022766883785927,7.570234318294212,15.797859259807547,8.222448240460894,11.372059413720267,3.86979690112735,12.282178881393248,14.859657404434788,19.231356717158214,10.04444315756197,9.885306162933919,24.26119062603068,20.34312453693452,15.499296600869453,14.930336131252751,22.573404259415245,4.718587407489849,18.244814754821412,26.742110550429935,6.588500030542383,0.705161613805622,13.908775942099009,15.989022556708711,25.697482104795903,25.7611142455553,37.76900291201222,0.4840702719262113,5.418907624030504,12.748372110985457,26.342229754115905,3.719943121336086,44.825464511711786,30.57295736099998,33.33796966106039,5.269382289758811,27.39548707441479,40.759375262433906,4.735443067332458,10.401785569279212,12.822389251531991,39.29036865410887,25.616644754715516,39.10001562496519,26.371603180275066,50.02688814276171,29.439386512559896,58.35767384017121,1.732086723559594,38.494772777692795,45.91073509314835,40.446686308161574,34.21761055589725,31.03463126320754,64.77360863363867,36.01786389454532,15.882053085676777,20.5096146510209,49.897389548897486,36.683260525215296,54.87270833502471,12.202333368300852,67.31736059811577,63.37856084319622,3.4060961527913314,26.45696028911785,50.54743745285114,50.56642499615168,31.362185343318572,56.28563688160851,30.846129096620444,42.467670578454786,56.90496744284624,18.80968613391509,67.39692389153109,56.24648663685363,56.00024610444562,55.29577752215458,86.82133830722017,34.67833494635802,65.46519734878493,79.92510032526398,24.325635416942912,23.545103505157265,77.49864897075119,14.549860781516438,90.34089401829814],\"y\":[0,0.5916469570179164,0.8979574752913959,2.155350278736055,3.0186856561212543,4.771493821784182,3.181843578322952,0.8150304800721383,1.7833684033904298,6.310474644932592,7.182166220670528,4.275190805051665,3.3549924272278675,1.8597470260868478,11.843529662689726,2.0580241873890297,15.033376048681571,14.750599020122074,13.66982638736838,16.567396872213195,16.74778459019835,15.846940996146108,4.325635189015292,7.336720356881295,21.388079712317488,12.024346603539707,8.148418799692557,0.33410707146730323,21.084023864326255,19.63516030086834,14.28221949057036,26.02270211730938,15.749891832975624,14.883624870169388,6.666026826415592,16.495161913432145,1.5093930396534572,8.02522879800001,9.245714378110094,1.1731439996358748,17.152027666752847,25.970485432426386,1.7774899601539729,39.535320120883235,30.79644582617329,44.46515445110902,19.703085114819558,22.36085657833943,36.699029199021595,26.786484028761873,36.05251011030903,50.299540501925996,3.896937366792917,12.08842811299507,46.41905868672949,36.45470635633881,10.36408576133616,26.39792410816393,2.003414284018963,21.34092647511759,44.83606786264648,15.059237078596635,52.789105446642886,12.304976363451962,27.67587467315677,13.39408077757508,37.340301748849306,46.52591388211985,40.356333660806655,66.74171635575505,23.75492133045097,60.28828096475783,16.57761024395786,17.11548358807113,58.21127850975535,13.601293690719677,72.96872374406414,58.710288383718044,23.565095941568124,77.66660477443054,19.991054414272995,68.66935951637916,64.83549282187393,82.42767855090625,10.31895365569216,4.118230613526412,39.41370800267008,6.715071407908771,80.86816387824128,52.749314334457225,23.68671163831651,84.58395888146264,42.026470276363,31.441505527307584,44.73953858901396,39.573016155196164,11.763124500065455,19.776361829945262,54.13511344088865,94.04740200423304]}];\n",
       " var layout_8N89b0xcSo = {\"height\":550,\"width\":600,\"hovermode\":\"closest\",\"title\":{\"text\":\"Set Axis Ticks\"},\"showlegend\":true,\"yaxis\":{\"title\":{\"text\":\"y variable\"},\"showgrid\":true,\"zeroline\":false,\"showline\":false,\"range\":[-100,100]},\"xaxis\":{\"title\":{\"text\":\"my new x axis\"},\"showgrid\":true,\"zeroline\":false,\"showline\":false,\"range\":[0,100],\"tick0\":5,\"dtick\":15}};\n",
       " var config_8N89b0xcSo = {\"responsive\":true,\"scrollZoom\":true,\"displaylogo\":false};\n",
       " Plotly.newPlot(\"graph_8N89b0xcSo\", traces_8N89b0xcSo, layout_8N89b0xcSo, config_8N89b0xcSo);\n",
       "</script> \n"
      ]
     },
     "metadata": {},
     "output_type": "display_data"
    }
   ],
   "source": [
    "val series = (\n",
    "    XY(x, y)\n",
    "    asType SCATTER\n",
    "    drawStyle MARKERS\n",
    ")\n",
    "\n",
    "val chart_MH41 = (\n",
    "    Chart()\n",
    "    addSeries series\n",
    "    setTitle \"Set Axis Ticks\"\n",
    "    addAxes yaxis\n",
    "    setXAxisLimits(0, 100)\n",
    "    setYAxisLimits(-100, 100)\n",
    "    setXAxisTitle(\"my new x axis\")\n",
    "    setXAxisStartTick 5\n",
    "    setXAxisTickGap 15\n",
    ")\n",
    "\n",
    "chart_MH41.plotInline"
   ]
  },
  {
   "cell_type": "markdown",
   "metadata": {},
   "source": [
    "### Setting Logarithmic Axes"
   ]
  },
  {
   "cell_type": "code",
   "execution_count": 24,
   "metadata": {},
   "outputs": [
    {
     "data": {
      "text/html": [
       "<div id=\"grid-container_vnFFRjyBxY\" class=\"grid-container\" align=\"center\"> \n",
       "<div id=\"grid_vnFFRjyBxY\" class=\"grid\" align=\"center\"> \n",
       "<div id=\"graph_cLECCbxywy\" class=\"graph\"></div> \n",
       "</div> \n",
       "</div> \n",
       "<script>\n",
       "var masonry = new Macy({\n",
       "    container: '#grid_vnFFRjyBxY',\n",
       "    debug: true,\n",
       "    mobileFirst: true,\n",
       "    columns: 1,\n",
       "    margin: {\n",
       "        x: 0,\n",
       "        y: 50\n",
       "    }\n",
       "  });\n",
       "\n",
       "  var traces_cLECCbxywy = [{\"name\":\"zNWa2Rc21y\",\"type\":\"scatter\",\"mode\":\"markers\",\"x\":[1,2,3],\"y\":[1.234,5.2112,2.44332]}];\n",
       " var layout_cLECCbxywy = {\"height\":550,\"width\":600,\"hovermode\":\"closest\",\"title\":{\"text\":\"Logarithmic Axes\"},\"showlegend\":true,\"xaxis\":{\"title\":{\"text\":\"x variable\"},\"showgrid\":true,\"zeroline\":false,\"showline\":false,\"type\":\"log\"},\"yaxis\":{\"title\":{\"text\":\"y variable\"},\"showgrid\":true,\"zeroline\":false,\"showline\":false,\"type\":\"log\"}};\n",
       " var config_cLECCbxywy = {\"responsive\":true,\"scrollZoom\":true,\"displaylogo\":false};\n",
       " Plotly.newPlot(\"graph_cLECCbxywy\", traces_cLECCbxywy, layout_cLECCbxywy, config_cLECCbxywy);\n",
       "</script> \n"
      ]
     },
     "metadata": {},
     "output_type": "display_data"
    }
   ],
   "source": [
    "val series = (\n",
    "    XY(List(1, 2, 3), List(1.234, 5.2112, 2.44332))\n",
    "    asType SCATTER\n",
    "    drawStyle MARKERS\n",
    ")\n",
    "\n",
    "val chart_LP84 = (\n",
    "    Chart()\n",
    "    addSeries series\n",
    "    setTitle \"Logarithmic Axes\"\n",
    "    addAxes(xaxis, yaxis)\n",
    "    drawXAxisLog true // We set the 'drawXAxisLog' value to 'true' to draw it on a logarithmic scale\n",
    "    drawYAxisLog true\n",
    ")\n",
    "\n",
    "chart_LP84.plotInline"
   ]
  },
  {
   "cell_type": "markdown",
   "metadata": {},
   "source": [
    "### Reversing axis\n",
    "We can also reverse the axis by setting the appropriate 'drawXAxisReversed'"
   ]
  },
  {
   "cell_type": "code",
   "execution_count": 25,
   "metadata": {},
   "outputs": [
    {
     "data": {
      "text/html": [
       "<div id=\"grid-container_WiQKBQdVML\" class=\"grid-container\" align=\"center\"> \n",
       "<div id=\"grid_WiQKBQdVML\" class=\"grid\" align=\"center\"> \n",
       "<div id=\"graph_Cs6mzQrVSo\" class=\"graph\"></div> \n",
       "</div> \n",
       "</div> \n",
       "<script>\n",
       "var masonry = new Macy({\n",
       "    container: '#grid_WiQKBQdVML',\n",
       "    debug: true,\n",
       "    mobileFirst: true,\n",
       "    columns: 1,\n",
       "    margin: {\n",
       "        x: 0,\n",
       "        y: 50\n",
       "    }\n",
       "  });\n",
       "\n",
       "  var traces_Cs6mzQrVSo = [{\"name\":\"7gLP6qPj4y\",\"type\":\"scatter\",\"mode\":\"markers\",\"x\":[0,0.5176788400891287,1.5640698012821326,1.6416214313302997,2.701024911889739,0.3234535764865909,4.820890107630605,0.24560615992490553,5.6927447109423,6.209269246284796,4.0689134550422,2.6669619517869307,6.696811700950839,10.804157282068214,9.022766883785927,7.570234318294212,15.797859259807547,8.222448240460894,11.372059413720267,3.86979690112735,12.282178881393248,14.859657404434788,19.231356717158214,10.04444315756197,9.885306162933919,24.26119062603068,20.34312453693452,15.499296600869453,14.930336131252751,22.573404259415245,4.718587407489849,18.244814754821412,26.742110550429935,6.588500030542383,0.705161613805622,13.908775942099009,15.989022556708711,25.697482104795903,25.7611142455553,37.76900291201222,0.4840702719262113,5.418907624030504,12.748372110985457,26.342229754115905,3.719943121336086,44.825464511711786,30.57295736099998,33.33796966106039,5.269382289758811,27.39548707441479,40.759375262433906,4.735443067332458,10.401785569279212,12.822389251531991,39.29036865410887,25.616644754715516,39.10001562496519,26.371603180275066,50.02688814276171,29.439386512559896,58.35767384017121,1.732086723559594,38.494772777692795,45.91073509314835,40.446686308161574,34.21761055589725,31.03463126320754,64.77360863363867,36.01786389454532,15.882053085676777,20.5096146510209,49.897389548897486,36.683260525215296,54.87270833502471,12.202333368300852,67.31736059811577,63.37856084319622,3.4060961527913314,26.45696028911785,50.54743745285114,50.56642499615168,31.362185343318572,56.28563688160851,30.846129096620444,42.467670578454786,56.90496744284624,18.80968613391509,67.39692389153109,56.24648663685363,56.00024610444562,55.29577752215458,86.82133830722017,34.67833494635802,65.46519734878493,79.92510032526398,24.325635416942912,23.545103505157265,77.49864897075119,14.549860781516438,90.34089401829814],\"y\":[0,0.5916469570179164,0.8979574752913959,2.155350278736055,3.0186856561212543,4.771493821784182,3.181843578322952,0.8150304800721383,1.7833684033904298,6.310474644932592,7.182166220670528,4.275190805051665,3.3549924272278675,1.8597470260868478,11.843529662689726,2.0580241873890297,15.033376048681571,14.750599020122074,13.66982638736838,16.567396872213195,16.74778459019835,15.846940996146108,4.325635189015292,7.336720356881295,21.388079712317488,12.024346603539707,8.148418799692557,0.33410707146730323,21.084023864326255,19.63516030086834,14.28221949057036,26.02270211730938,15.749891832975624,14.883624870169388,6.666026826415592,16.495161913432145,1.5093930396534572,8.02522879800001,9.245714378110094,1.1731439996358748,17.152027666752847,25.970485432426386,1.7774899601539729,39.535320120883235,30.79644582617329,44.46515445110902,19.703085114819558,22.36085657833943,36.699029199021595,26.786484028761873,36.05251011030903,50.299540501925996,3.896937366792917,12.08842811299507,46.41905868672949,36.45470635633881,10.36408576133616,26.39792410816393,2.003414284018963,21.34092647511759,44.83606786264648,15.059237078596635,52.789105446642886,12.304976363451962,27.67587467315677,13.39408077757508,37.340301748849306,46.52591388211985,40.356333660806655,66.74171635575505,23.75492133045097,60.28828096475783,16.57761024395786,17.11548358807113,58.21127850975535,13.601293690719677,72.96872374406414,58.710288383718044,23.565095941568124,77.66660477443054,19.991054414272995,68.66935951637916,64.83549282187393,82.42767855090625,10.31895365569216,4.118230613526412,39.41370800267008,6.715071407908771,80.86816387824128,52.749314334457225,23.68671163831651,84.58395888146264,42.026470276363,31.441505527307584,44.73953858901396,39.573016155196164,11.763124500065455,19.776361829945262,54.13511344088865,94.04740200423304]}];\n",
       " var layout_Cs6mzQrVSo = {\"height\":550,\"width\":600,\"hovermode\":\"closest\",\"title\":{\"text\":\"Reversed Axes\"},\"showlegend\":true,\"xaxis\":{\"title\":{\"text\":\"x reversed\"},\"showgrid\":true,\"zeroline\":false,\"showline\":false,\"autorange\":\"reversed\"},\"yaxis\":{\"title\":{\"text\":\"y reversed\"},\"showgrid\":true,\"zeroline\":false,\"showline\":false,\"autorange\":\"reversed\"}};\n",
       " var config_Cs6mzQrVSo = {\"responsive\":true,\"scrollZoom\":true,\"displaylogo\":false};\n",
       " Plotly.newPlot(\"graph_Cs6mzQrVSo\", traces_Cs6mzQrVSo, layout_Cs6mzQrVSo, config_Cs6mzQrVSo);\n",
       "</script> \n"
      ]
     },
     "metadata": {},
     "output_type": "display_data"
    }
   ],
   "source": [
    "val series = (\n",
    "    XY(x, y)\n",
    "    asType SCATTER\n",
    "    drawStyle MARKERS\n",
    ")\n",
    "\n",
    "val chart_SI21 = (\n",
    "    Chart()\n",
    "    addSeries series\n",
    "    setTitle \"Reversed Axes\"\n",
    "    setXAxisTitle(\"x reversed\")\n",
    "    setYAxisTitle(\"y reversed\")\n",
    "    drawXAxisReversed true\n",
    "    drawYAxisReversed true\n",
    ")\n",
    "chart_SI21.plotInline"
   ]
  },
  {
   "cell_type": "markdown",
   "metadata": {},
   "source": [
    "### Display options - MultiCharts\n",
    "\n",
    "`MultiCharts` are a way to plot multiple axes on the same chart. This is seperate to Picta's grid system, which create a grid of subplot `Chart`'s. The next series of examples will make this clearer."
   ]
  },
  {
   "cell_type": "code",
   "execution_count": 26,
   "metadata": {},
   "outputs": [
    {
     "data": {
      "text/html": [
       "<div id=\"grid-container_Wul6oGdlNM\" class=\"grid-container\" align=\"center\"> \n",
       "<div id=\"grid_Wul6oGdlNM\" class=\"grid\" align=\"center\"> \n",
       "<div id=\"graph_qaDYfuu2qn\" class=\"graph\"></div> \n",
       "</div> \n",
       "</div> \n",
       "<script>\n",
       "var masonry = new Macy({\n",
       "    container: '#grid_Wul6oGdlNM',\n",
       "    debug: true,\n",
       "    mobileFirst: true,\n",
       "    columns: 1,\n",
       "    margin: {\n",
       "        x: 0,\n",
       "        y: 50\n",
       "    }\n",
       "  });\n",
       "\n",
       "  var traces_qaDYfuu2qn = [{\"name\":\"First series\",\"type\":\"scatter\",\"mode\":\"markers\",\"x\":[1,2,3],\"y\":[2,4,5]},{\"name\":\"Second series\",\"type\":\"scatter\",\"mode\":\"markers\",\"xaxis\":\"x2\",\"yaxis\":\"y2\",\"x\":[0,0.5176788400891287,1.5640698012821326,1.6416214313302997,2.701024911889739,0.3234535764865909,4.820890107630605,0.24560615992490553,5.6927447109423,6.209269246284796,4.0689134550422,2.6669619517869307,6.696811700950839,10.804157282068214,9.022766883785927,7.570234318294212,15.797859259807547,8.222448240460894,11.372059413720267,3.86979690112735,12.282178881393248,14.859657404434788,19.231356717158214,10.04444315756197,9.885306162933919,24.26119062603068,20.34312453693452,15.499296600869453,14.930336131252751,22.573404259415245,4.718587407489849,18.244814754821412,26.742110550429935,6.588500030542383,0.705161613805622,13.908775942099009,15.989022556708711,25.697482104795903,25.7611142455553,37.76900291201222,0.4840702719262113,5.418907624030504,12.748372110985457,26.342229754115905,3.719943121336086,44.825464511711786,30.57295736099998,33.33796966106039,5.269382289758811,27.39548707441479,40.759375262433906,4.735443067332458,10.401785569279212,12.822389251531991,39.29036865410887,25.616644754715516,39.10001562496519,26.371603180275066,50.02688814276171,29.439386512559896,58.35767384017121,1.732086723559594,38.494772777692795,45.91073509314835,40.446686308161574,34.21761055589725,31.03463126320754,64.77360863363867,36.01786389454532,15.882053085676777,20.5096146510209,49.897389548897486,36.683260525215296,54.87270833502471,12.202333368300852,67.31736059811577,63.37856084319622,3.4060961527913314,26.45696028911785,50.54743745285114,50.56642499615168,31.362185343318572,56.28563688160851,30.846129096620444,42.467670578454786,56.90496744284624,18.80968613391509,67.39692389153109,56.24648663685363,56.00024610444562,55.29577752215458,86.82133830722017,34.67833494635802,65.46519734878493,79.92510032526398,24.325635416942912,23.545103505157265,77.49864897075119,14.549860781516438,90.34089401829814],\"y\":[0,0.5916469570179164,0.8979574752913959,2.155350278736055,3.0186856561212543,4.771493821784182,3.181843578322952,0.8150304800721383,1.7833684033904298,6.310474644932592,7.182166220670528,4.275190805051665,3.3549924272278675,1.8597470260868478,11.843529662689726,2.0580241873890297,15.033376048681571,14.750599020122074,13.66982638736838,16.567396872213195,16.74778459019835,15.846940996146108,4.325635189015292,7.336720356881295,21.388079712317488,12.024346603539707,8.148418799692557,0.33410707146730323,21.084023864326255,19.63516030086834,14.28221949057036,26.02270211730938,15.749891832975624,14.883624870169388,6.666026826415592,16.495161913432145,1.5093930396534572,8.02522879800001,9.245714378110094,1.1731439996358748,17.152027666752847,25.970485432426386,1.7774899601539729,39.535320120883235,30.79644582617329,44.46515445110902,19.703085114819558,22.36085657833943,36.699029199021595,26.786484028761873,36.05251011030903,50.299540501925996,3.896937366792917,12.08842811299507,46.41905868672949,36.45470635633881,10.36408576133616,26.39792410816393,2.003414284018963,21.34092647511759,44.83606786264648,15.059237078596635,52.789105446642886,12.304976363451962,27.67587467315677,13.39408077757508,37.340301748849306,46.52591388211985,40.356333660806655,66.74171635575505,23.75492133045097,60.28828096475783,16.57761024395786,17.11548358807113,58.21127850975535,13.601293690719677,72.96872374406414,58.710288383718044,23.565095941568124,77.66660477443054,19.991054414272995,68.66935951637916,64.83549282187393,82.42767855090625,10.31895365569216,4.118230613526412,39.41370800267008,6.715071407908771,80.86816387824128,52.749314334457225,23.68671163831651,84.58395888146264,42.026470276363,31.441505527307584,44.73953858901396,39.573016155196164,11.763124500065455,19.776361829945262,54.13511344088865,94.04740200423304]}];\n",
       " var layout_qaDYfuu2qn = {\"height\":550,\"width\":600,\"hovermode\":\"closest\",\"title\":{\"text\":\"Chart with Axis Composition\"},\"showlegend\":true,\"grid\":{\"rows\":1,\"columns\":2,\"pattern\":\"independent\"},\"xaxis\":{\"title\":{\"text\":\"x1\"},\"showgrid\":true,\"zeroline\":false,\"showline\":false},\"yaxis\":{\"title\":{\"text\":\"y1\"},\"showgrid\":true,\"zeroline\":false,\"showline\":false},\"xaxis2\":{\"title\":{\"text\":\"x2\"},\"showgrid\":true,\"zeroline\":false,\"showline\":false},\"yaxis2\":{\"showgrid\":true,\"zeroline\":false,\"showline\":false}};\n",
       " var config_qaDYfuu2qn = {\"responsive\":false,\"scrollZoom\":true,\"displaylogo\":false};\n",
       " Plotly.newPlot(\"graph_qaDYfuu2qn\", traces_qaDYfuu2qn, layout_qaDYfuu2qn, config_qaDYfuu2qn);\n",
       "</script> \n"
      ]
     },
     "metadata": {},
     "output_type": "display_data"
    }
   ],
   "source": [
    "// create the axes\n",
    "val xaxis1 = Axis(X) setTitle \"x1\"\n",
    "val yaxis1 = Axis(Y) setTitle \"y1\" // this is not strictly necessary, but if it is not added there will be a zeroline at y = 0\n",
    "\n",
    "val xaxis2 = Axis(X, 2) setTitle \"x2\"\n",
    "val yaxis2 = Axis(Y, 2) // this is not strictly necessary, but if it is not added there will be a zeroline at y = 0\n",
    "\n",
    "val series1 = (\n",
    "    XY(x = List(1, 2, 3), y = List(2, 4, 5))\n",
    "    asType SCATTER\n",
    "    drawStyle MARKERS\n",
    "    setName(\"First series\") //Here we don't specify the axis, so the standard axis will be used\n",
    ")\n",
    "\n",
    "val series2 = (\n",
    "    XY(x = x, y = y) \n",
    "    asType SCATTER\n",
    "    drawStyle MARKERS\n",
    "    setName(\"Second series\")\n",
    "    setAxes (xaxis2, yaxis2) //Here we specify the axis for this plot, which are the second axis\n",
    ")\n",
    "\n",
    "val chart_IL59 = Chart()\n",
    "            .addSeries(series1, series2)\n",
    "            .setTitle(\"Chart with Axis Composition\")\n",
    "            .addAxes(xaxis1, yaxis1, xaxis2, yaxis2)\n",
    "            .setConfig(responsive=false)\n",
    "            // This tells Picta that we want to actually subdivide this chart into multiple plots\n",
    "            .asMultiChart(1, 2) //These correspond to the axis values given above\n",
    "\n",
    "chart_IL59.plotInline"
   ]
  },
  {
   "cell_type": "markdown",
   "metadata": {},
   "source": [
    "### Picta's Subplot System\n",
    "\n",
    "While the above is useful, sometimes it is easier to plot independent charts in a subplot grid. This is where we can use the Picta subplot system.\n",
    "\n",
    "In the subplots below, each subplot is an individual `Chart`. This means we can actually embed the above `MultiChart` inside another subplot. This way we can create nested subplots to showcase any data we need to.\n",
    "\n",
    "Used creatively, this subplot system can be very useful for data exploration."
   ]
  },
  {
   "cell_type": "code",
   "execution_count": 27,
   "metadata": {
    "scrolled": false
   },
   "outputs": [
    {
     "data": {
      "text/html": [
       "<div id=\"grid-container_M96J8XL2Kt\" class=\"grid-container\" align=\"center\"> \n",
       "<div id=\"grid_M96J8XL2Kt\" class=\"grid\" align=\"center\"> \n",
       "<div id=\"graph_ilnNhrHelq\" class=\"graph\"></div> \n",
       "<div id=\"graph_rkrHlcpeUR\" class=\"graph\"></div> \n",
       "<div id=\"graph_h1Kv4Cyr3q\" class=\"graph\"></div> \n",
       "<div id=\"graph_59VFzN9tud\" class=\"graph\"></div> \n",
       "</div> \n",
       "</div> \n",
       "\n",
       "<div align=\"center\">\n",
       "<button id = \"saveAsPNG_M96J8XL2Kt\" class=\"picta-button\">Download Canvas as PNG</button>\n",
       "</div>\n",
       "<script>\n",
       "var masonry = new Macy({\n",
       "    container: '#grid_M96J8XL2Kt',\n",
       "    debug: true,\n",
       "    mobileFirst: true,\n",
       "    columns: 2,\n",
       "    margin: {\n",
       "        x: 0,\n",
       "        y: 50\n",
       "    }\n",
       "  });\n",
       "\n",
       "  var traces_ilnNhrHelq = [{\"name\":\"a\",\"type\":\"scatter\",\"mode\":\"markers\",\"x\":[0,0.5176788400891287,1.5640698012821326,1.6416214313302997,2.701024911889739,0.3234535764865909,4.820890107630605,0.24560615992490553,5.6927447109423,6.209269246284796,4.0689134550422,2.6669619517869307,6.696811700950839,10.804157282068214,9.022766883785927,7.570234318294212,15.797859259807547,8.222448240460894,11.372059413720267,3.86979690112735,12.282178881393248,14.859657404434788,19.231356717158214,10.04444315756197,9.885306162933919,24.26119062603068,20.34312453693452,15.499296600869453,14.930336131252751,22.573404259415245,4.718587407489849,18.244814754821412,26.742110550429935,6.588500030542383,0.705161613805622,13.908775942099009,15.989022556708711,25.697482104795903,25.7611142455553,37.76900291201222,0.4840702719262113,5.418907624030504,12.748372110985457,26.342229754115905,3.719943121336086,44.825464511711786,30.57295736099998,33.33796966106039,5.269382289758811,27.39548707441479,40.759375262433906,4.735443067332458,10.401785569279212,12.822389251531991,39.29036865410887,25.616644754715516,39.10001562496519,26.371603180275066,50.02688814276171,29.439386512559896,58.35767384017121,1.732086723559594,38.494772777692795,45.91073509314835,40.446686308161574,34.21761055589725,31.03463126320754,64.77360863363867,36.01786389454532,15.882053085676777,20.5096146510209,49.897389548897486,36.683260525215296,54.87270833502471,12.202333368300852,67.31736059811577,63.37856084319622,3.4060961527913314,26.45696028911785,50.54743745285114,50.56642499615168,31.362185343318572,56.28563688160851,30.846129096620444,42.467670578454786,56.90496744284624,18.80968613391509,67.39692389153109,56.24648663685363,56.00024610444562,55.29577752215458,86.82133830722017,34.67833494635802,65.46519734878493,79.92510032526398,24.325635416942912,23.545103505157265,77.49864897075119,14.549860781516438,90.34089401829814],\"y\":[0,0.5916469570179164,0.8979574752913959,2.155350278736055,3.0186856561212543,4.771493821784182,3.181843578322952,0.8150304800721383,1.7833684033904298,6.310474644932592,7.182166220670528,4.275190805051665,3.3549924272278675,1.8597470260868478,11.843529662689726,2.0580241873890297,15.033376048681571,14.750599020122074,13.66982638736838,16.567396872213195,16.74778459019835,15.846940996146108,4.325635189015292,7.336720356881295,21.388079712317488,12.024346603539707,8.148418799692557,0.33410707146730323,21.084023864326255,19.63516030086834,14.28221949057036,26.02270211730938,15.749891832975624,14.883624870169388,6.666026826415592,16.495161913432145,1.5093930396534572,8.02522879800001,9.245714378110094,1.1731439996358748,17.152027666752847,25.970485432426386,1.7774899601539729,39.535320120883235,30.79644582617329,44.46515445110902,19.703085114819558,22.36085657833943,36.699029199021595,26.786484028761873,36.05251011030903,50.299540501925996,3.896937366792917,12.08842811299507,46.41905868672949,36.45470635633881,10.36408576133616,26.39792410816393,2.003414284018963,21.34092647511759,44.83606786264648,15.059237078596635,52.789105446642886,12.304976363451962,27.67587467315677,13.39408077757508,37.340301748849306,46.52591388211985,40.356333660806655,66.74171635575505,23.75492133045097,60.28828096475783,16.57761024395786,17.11548358807113,58.21127850975535,13.601293690719677,72.96872374406414,58.710288383718044,23.565095941568124,77.66660477443054,19.991054414272995,68.66935951637916,64.83549282187393,82.42767855090625,10.31895365569216,4.118230613526412,39.41370800267008,6.715071407908771,80.86816387824128,52.749314334457225,23.68671163831651,84.58395888146264,42.026470276363,31.441505527307584,44.73953858901396,39.573016155196164,11.763124500065455,19.776361829945262,54.13511344088865,94.04740200423304]}];\n",
       " var layout_ilnNhrHelq = {\"height\":350,\"width\":350,\"hovermode\":\"closest\",\"showlegend\":true,\"margin\":{\"l\":50,\"r\":30,\"t\":50,\"b\":50},\"xaxis\":{\"title\":{\"text\":\"x axis 1\"},\"showgrid\":true,\"zeroline\":false,\"showline\":false},\"yaxis\":{\"title\":{\"text\":\"y axis 1\"},\"showgrid\":true,\"zeroline\":false,\"showline\":false}};\n",
       " var config_ilnNhrHelq = {\"responsive\":true,\"scrollZoom\":true,\"displaylogo\":false};\n",
       " Plotly.newPlot(\"graph_ilnNhrHelq\", traces_ilnNhrHelq, layout_ilnNhrHelq, config_ilnNhrHelq);\n",
       "\n",
       "  var traces_rkrHlcpeUR = [{\"name\":\"b\",\"type\":\"scatter\",\"mode\":\"markers\",\"x\":[0,0.5176788400891287,1.5640698012821326,1.6416214313302997,2.701024911889739,0.3234535764865909,4.820890107630605,0.24560615992490553,5.6927447109423,6.209269246284796,4.0689134550422,2.6669619517869307,6.696811700950839,10.804157282068214,9.022766883785927,7.570234318294212,15.797859259807547,8.222448240460894,11.372059413720267,3.86979690112735,12.282178881393248,14.859657404434788,19.231356717158214,10.04444315756197,9.885306162933919,24.26119062603068,20.34312453693452,15.499296600869453,14.930336131252751,22.573404259415245,4.718587407489849,18.244814754821412,26.742110550429935,6.588500030542383,0.705161613805622,13.908775942099009,15.989022556708711,25.697482104795903,25.7611142455553,37.76900291201222,0.4840702719262113,5.418907624030504,12.748372110985457,26.342229754115905,3.719943121336086,44.825464511711786,30.57295736099998,33.33796966106039,5.269382289758811,27.39548707441479,40.759375262433906,4.735443067332458,10.401785569279212,12.822389251531991,39.29036865410887,25.616644754715516,39.10001562496519,26.371603180275066,50.02688814276171,29.439386512559896,58.35767384017121,1.732086723559594,38.494772777692795,45.91073509314835,40.446686308161574,34.21761055589725,31.03463126320754,64.77360863363867,36.01786389454532,15.882053085676777,20.5096146510209,49.897389548897486,36.683260525215296,54.87270833502471,12.202333368300852,67.31736059811577,63.37856084319622,3.4060961527913314,26.45696028911785,50.54743745285114,50.56642499615168,31.362185343318572,56.28563688160851,30.846129096620444,42.467670578454786,56.90496744284624,18.80968613391509,67.39692389153109,56.24648663685363,56.00024610444562,55.29577752215458,86.82133830722017,34.67833494635802,65.46519734878493,79.92510032526398,24.325635416942912,23.545103505157265,77.49864897075119,14.549860781516438,90.34089401829814],\"y\":[0,0.5916469570179164,0.8979574752913959,2.155350278736055,3.0186856561212543,4.771493821784182,3.181843578322952,0.8150304800721383,1.7833684033904298,6.310474644932592,7.182166220670528,4.275190805051665,3.3549924272278675,1.8597470260868478,11.843529662689726,2.0580241873890297,15.033376048681571,14.750599020122074,13.66982638736838,16.567396872213195,16.74778459019835,15.846940996146108,4.325635189015292,7.336720356881295,21.388079712317488,12.024346603539707,8.148418799692557,0.33410707146730323,21.084023864326255,19.63516030086834,14.28221949057036,26.02270211730938,15.749891832975624,14.883624870169388,6.666026826415592,16.495161913432145,1.5093930396534572,8.02522879800001,9.245714378110094,1.1731439996358748,17.152027666752847,25.970485432426386,1.7774899601539729,39.535320120883235,30.79644582617329,44.46515445110902,19.703085114819558,22.36085657833943,36.699029199021595,26.786484028761873,36.05251011030903,50.299540501925996,3.896937366792917,12.08842811299507,46.41905868672949,36.45470635633881,10.36408576133616,26.39792410816393,2.003414284018963,21.34092647511759,44.83606786264648,15.059237078596635,52.789105446642886,12.304976363451962,27.67587467315677,13.39408077757508,37.340301748849306,46.52591388211985,40.356333660806655,66.74171635575505,23.75492133045097,60.28828096475783,16.57761024395786,17.11548358807113,58.21127850975535,13.601293690719677,72.96872374406414,58.710288383718044,23.565095941568124,77.66660477443054,19.991054414272995,68.66935951637916,64.83549282187393,82.42767855090625,10.31895365569216,4.118230613526412,39.41370800267008,6.715071407908771,80.86816387824128,52.749314334457225,23.68671163831651,84.58395888146264,42.026470276363,31.441505527307584,44.73953858901396,39.573016155196164,11.763124500065455,19.776361829945262,54.13511344088865,94.04740200423304]}];\n",
       " var layout_rkrHlcpeUR = {\"height\":350,\"width\":350,\"hovermode\":\"closest\",\"showlegend\":true,\"margin\":{\"l\":50,\"r\":50,\"t\":50,\"b\":50},\"xaxis\":{\"title\":{\"text\":\"x axis 2\"},\"showgrid\":true,\"zeroline\":false,\"showline\":false},\"yaxis\":{\"title\":{\"text\":\"y axis 2\"},\"showgrid\":true,\"zeroline\":false,\"showline\":false}};\n",
       " var config_rkrHlcpeUR = {\"responsive\":true,\"scrollZoom\":true,\"displaylogo\":false};\n",
       " Plotly.newPlot(\"graph_rkrHlcpeUR\", traces_rkrHlcpeUR, layout_rkrHlcpeUR, config_rkrHlcpeUR);\n",
       "\n",
       "  var traces_h1Kv4Cyr3q = [{\"name\":\"c\",\"type\":\"scatter\",\"mode\":\"markers\",\"x\":[0,0.5176788400891287,1.5640698012821326,1.6416214313302997,2.701024911889739,0.3234535764865909,4.820890107630605,0.24560615992490553,5.6927447109423,6.209269246284796,4.0689134550422,2.6669619517869307,6.696811700950839,10.804157282068214,9.022766883785927,7.570234318294212,15.797859259807547,8.222448240460894,11.372059413720267,3.86979690112735,12.282178881393248,14.859657404434788,19.231356717158214,10.04444315756197,9.885306162933919,24.26119062603068,20.34312453693452,15.499296600869453,14.930336131252751,22.573404259415245,4.718587407489849,18.244814754821412,26.742110550429935,6.588500030542383,0.705161613805622,13.908775942099009,15.989022556708711,25.697482104795903,25.7611142455553,37.76900291201222,0.4840702719262113,5.418907624030504,12.748372110985457,26.342229754115905,3.719943121336086,44.825464511711786,30.57295736099998,33.33796966106039,5.269382289758811,27.39548707441479,40.759375262433906,4.735443067332458,10.401785569279212,12.822389251531991,39.29036865410887,25.616644754715516,39.10001562496519,26.371603180275066,50.02688814276171,29.439386512559896,58.35767384017121,1.732086723559594,38.494772777692795,45.91073509314835,40.446686308161574,34.21761055589725,31.03463126320754,64.77360863363867,36.01786389454532,15.882053085676777,20.5096146510209,49.897389548897486,36.683260525215296,54.87270833502471,12.202333368300852,67.31736059811577,63.37856084319622,3.4060961527913314,26.45696028911785,50.54743745285114,50.56642499615168,31.362185343318572,56.28563688160851,30.846129096620444,42.467670578454786,56.90496744284624,18.80968613391509,67.39692389153109,56.24648663685363,56.00024610444562,55.29577752215458,86.82133830722017,34.67833494635802,65.46519734878493,79.92510032526398,24.325635416942912,23.545103505157265,77.49864897075119,14.549860781516438,90.34089401829814],\"y\":[0,0.5916469570179164,0.8979574752913959,2.155350278736055,3.0186856561212543,4.771493821784182,3.181843578322952,0.8150304800721383,1.7833684033904298,6.310474644932592,7.182166220670528,4.275190805051665,3.3549924272278675,1.8597470260868478,11.843529662689726,2.0580241873890297,15.033376048681571,14.750599020122074,13.66982638736838,16.567396872213195,16.74778459019835,15.846940996146108,4.325635189015292,7.336720356881295,21.388079712317488,12.024346603539707,8.148418799692557,0.33410707146730323,21.084023864326255,19.63516030086834,14.28221949057036,26.02270211730938,15.749891832975624,14.883624870169388,6.666026826415592,16.495161913432145,1.5093930396534572,8.02522879800001,9.245714378110094,1.1731439996358748,17.152027666752847,25.970485432426386,1.7774899601539729,39.535320120883235,30.79644582617329,44.46515445110902,19.703085114819558,22.36085657833943,36.699029199021595,26.786484028761873,36.05251011030903,50.299540501925996,3.896937366792917,12.08842811299507,46.41905868672949,36.45470635633881,10.36408576133616,26.39792410816393,2.003414284018963,21.34092647511759,44.83606786264648,15.059237078596635,52.789105446642886,12.304976363451962,27.67587467315677,13.39408077757508,37.340301748849306,46.52591388211985,40.356333660806655,66.74171635575505,23.75492133045097,60.28828096475783,16.57761024395786,17.11548358807113,58.21127850975535,13.601293690719677,72.96872374406414,58.710288383718044,23.565095941568124,77.66660477443054,19.991054414272995,68.66935951637916,64.83549282187393,82.42767855090625,10.31895365569216,4.118230613526412,39.41370800267008,6.715071407908771,80.86816387824128,52.749314334457225,23.68671163831651,84.58395888146264,42.026470276363,31.441505527307584,44.73953858901396,39.573016155196164,11.763124500065455,19.776361829945262,54.13511344088865,94.04740200423304]}];\n",
       " var layout_h1Kv4Cyr3q = {\"height\":350,\"width\":350,\"hovermode\":\"closest\",\"showlegend\":true,\"margin\":{\"l\":50,\"r\":30,\"t\":50,\"b\":50},\"xaxis\":{\"title\":{\"text\":\"x axis 3\"},\"showgrid\":true,\"zeroline\":false,\"showline\":false},\"yaxis\":{\"title\":{\"text\":\"y axis 3\"},\"showgrid\":true,\"zeroline\":false,\"showline\":false}};\n",
       " var config_h1Kv4Cyr3q = {\"responsive\":true,\"scrollZoom\":true,\"displaylogo\":false};\n",
       " Plotly.newPlot(\"graph_h1Kv4Cyr3q\", traces_h1Kv4Cyr3q, layout_h1Kv4Cyr3q, config_h1Kv4Cyr3q);\n",
       "\n",
       "  var traces_59VFzN9tud = [{\"name\":\"First series\",\"type\":\"scatter\",\"mode\":\"markers\",\"x\":[1,2,3],\"y\":[2,4,5]},{\"name\":\"Second series\",\"type\":\"scatter\",\"mode\":\"markers\",\"xaxis\":\"x2\",\"yaxis\":\"y2\",\"x\":[0,0.5176788400891287,1.5640698012821326,1.6416214313302997,2.701024911889739,0.3234535764865909,4.820890107630605,0.24560615992490553,5.6927447109423,6.209269246284796,4.0689134550422,2.6669619517869307,6.696811700950839,10.804157282068214,9.022766883785927,7.570234318294212,15.797859259807547,8.222448240460894,11.372059413720267,3.86979690112735,12.282178881393248,14.859657404434788,19.231356717158214,10.04444315756197,9.885306162933919,24.26119062603068,20.34312453693452,15.499296600869453,14.930336131252751,22.573404259415245,4.718587407489849,18.244814754821412,26.742110550429935,6.588500030542383,0.705161613805622,13.908775942099009,15.989022556708711,25.697482104795903,25.7611142455553,37.76900291201222,0.4840702719262113,5.418907624030504,12.748372110985457,26.342229754115905,3.719943121336086,44.825464511711786,30.57295736099998,33.33796966106039,5.269382289758811,27.39548707441479,40.759375262433906,4.735443067332458,10.401785569279212,12.822389251531991,39.29036865410887,25.616644754715516,39.10001562496519,26.371603180275066,50.02688814276171,29.439386512559896,58.35767384017121,1.732086723559594,38.494772777692795,45.91073509314835,40.446686308161574,34.21761055589725,31.03463126320754,64.77360863363867,36.01786389454532,15.882053085676777,20.5096146510209,49.897389548897486,36.683260525215296,54.87270833502471,12.202333368300852,67.31736059811577,63.37856084319622,3.4060961527913314,26.45696028911785,50.54743745285114,50.56642499615168,31.362185343318572,56.28563688160851,30.846129096620444,42.467670578454786,56.90496744284624,18.80968613391509,67.39692389153109,56.24648663685363,56.00024610444562,55.29577752215458,86.82133830722017,34.67833494635802,65.46519734878493,79.92510032526398,24.325635416942912,23.545103505157265,77.49864897075119,14.549860781516438,90.34089401829814],\"y\":[0,0.5916469570179164,0.8979574752913959,2.155350278736055,3.0186856561212543,4.771493821784182,3.181843578322952,0.8150304800721383,1.7833684033904298,6.310474644932592,7.182166220670528,4.275190805051665,3.3549924272278675,1.8597470260868478,11.843529662689726,2.0580241873890297,15.033376048681571,14.750599020122074,13.66982638736838,16.567396872213195,16.74778459019835,15.846940996146108,4.325635189015292,7.336720356881295,21.388079712317488,12.024346603539707,8.148418799692557,0.33410707146730323,21.084023864326255,19.63516030086834,14.28221949057036,26.02270211730938,15.749891832975624,14.883624870169388,6.666026826415592,16.495161913432145,1.5093930396534572,8.02522879800001,9.245714378110094,1.1731439996358748,17.152027666752847,25.970485432426386,1.7774899601539729,39.535320120883235,30.79644582617329,44.46515445110902,19.703085114819558,22.36085657833943,36.699029199021595,26.786484028761873,36.05251011030903,50.299540501925996,3.896937366792917,12.08842811299507,46.41905868672949,36.45470635633881,10.36408576133616,26.39792410816393,2.003414284018963,21.34092647511759,44.83606786264648,15.059237078596635,52.789105446642886,12.304976363451962,27.67587467315677,13.39408077757508,37.340301748849306,46.52591388211985,40.356333660806655,66.74171635575505,23.75492133045097,60.28828096475783,16.57761024395786,17.11548358807113,58.21127850975535,13.601293690719677,72.96872374406414,58.710288383718044,23.565095941568124,77.66660477443054,19.991054414272995,68.66935951637916,64.83549282187393,82.42767855090625,10.31895365569216,4.118230613526412,39.41370800267008,6.715071407908771,80.86816387824128,52.749314334457225,23.68671163831651,84.58395888146264,42.026470276363,31.441505527307584,44.73953858901396,39.573016155196164,11.763124500065455,19.776361829945262,54.13511344088865,94.04740200423304]}];\n",
       " var layout_59VFzN9tud = {\"height\":350,\"width\":350,\"hovermode\":\"closest\",\"title\":{\"text\":\"The MultiChart from Above\"},\"showlegend\":true,\"grid\":{\"rows\":1,\"columns\":2,\"pattern\":\"independent\"},\"xaxis\":{\"title\":{\"text\":\"x1\"},\"showgrid\":true,\"zeroline\":false,\"showline\":false},\"yaxis\":{\"title\":{\"text\":\"y1\"},\"showgrid\":true,\"zeroline\":false,\"showline\":false},\"xaxis2\":{\"title\":{\"text\":\"x2\"},\"showgrid\":true,\"zeroline\":false,\"showline\":false},\"yaxis2\":{\"showgrid\":true,\"zeroline\":false,\"showline\":false}};\n",
       " var config_59VFzN9tud = {\"responsive\":false,\"scrollZoom\":true,\"displaylogo\":false};\n",
       " Plotly.newPlot(\"graph_59VFzN9tud\", traces_59VFzN9tud, layout_59VFzN9tud, config_59VFzN9tud);\n",
       "\n",
       "var save_M96J8XL2Kt = document.getElementById(\"saveAsPNG_M96J8XL2Kt\")\n",
       "save_M96J8XL2Kt.onclick = async function() {\n",
       "    const grid = document.getElementById(\"grid-container_M96J8XL2Kt\")\n",
       "    const graphs = grid.getElementsByClassName(\"graph\")\n",
       "\n",
       "    const images = []\n",
       "\n",
       "    const rows = 2\n",
       "    const cols = 2\n",
       "    const img_width = 400\n",
       "    const img_height = 400\n",
       "    var margin = 50\n",
       "\n",
       "    for (var i=0; i<rows; i++) {\n",
       "      for (var j=0; j<cols; j++) {\n",
       "        const image = await Plotly.toImage(graphs[i * cols + j], {format: 'png', width: img_width, height: img_height})\n",
       "        images.push(image);\n",
       "      }\n",
       "    }\n",
       "\n",
       "    const positioned_images = []\n",
       "\n",
       "        for (var i=0; i<rows; i++) {\n",
       "            for (var j=0; j<cols; j++) {\n",
       "\n",
       "                const obj = {\n",
       "                    \"src\": images[i*cols + j],\n",
       "                    x: j*img_width+margin,\n",
       "                    y: i*img_height+margin\n",
       "                }\n",
       "\n",
       "                positioned_images.push(obj)\n",
       "            }\n",
       "        }\n",
       "\n",
       "        mergeImages(positioned_images, {\n",
       "            width: img_width*cols+60, height: img_height*rows+60\n",
       "        })\n",
       "        .then(b64 => {\n",
       "            var a = document.createElement(\"a\");\n",
       "            a.href = b64;\n",
       "            a.download = \"Image.png\";\n",
       "            a.click();\n",
       "            a.remove()\n",
       "        });\n",
       "}\n",
       "</script> \n"
      ]
     },
     "metadata": {},
     "output_type": "display_data"
    }
   ],
   "source": [
    "// first define the x-axes we will use in the plot\n",
    "val ax1 = Axis(X, title = \"x axis 1\")\n",
    "val ax2 = Axis(X, title = \"x axis 2\")\n",
    "val ax3 = Axis(X, title = \"x axis 3\")\n",
    "val ax4 = Axis(X, title = \"x axis 4\")\n",
    "\n",
    "// first define the y-axes we will use in the plot\n",
    "val ax6 = Axis(Y, title = \"y axis 1\")\n",
    "val ax7 = Axis(Y, title = \"y axis 2\")\n",
    "val ax8 = Axis(Y, title = \"y axis 3\")\n",
    "val ax9 = Axis(Y, title = \"y axis 4\")\n",
    "\n",
    "// it may be necessary to play around with the chart dimensions and margin  in order to ensure a good fit on screen.\n",
    "val dim = 350\n",
    "\n",
    "val chart_HP38 = (\n",
    "    Chart()\n",
    "    setDimensions(width = dim, height = dim)\n",
    "    addSeries XY(x, y).setName(\"a\").drawMarkers\n",
    "    addAxes(ax1, ax6)\n",
    "    setMargin(l=50, r=30, t=50, b=50)\n",
    ")\n",
    "\n",
    "val chart_MK88 = (\n",
    "    Chart() \n",
    "    setDimensions(width = dim, height = dim)\n",
    "    addSeries XY(x, y).setName(\"b\").drawMarkers\n",
    "    addAxes(ax2, ax7)\n",
    "    setMargin(l=50, r=50, t=50, b=50)\n",
    ")\n",
    "\n",
    "val chart_QT33 = (\n",
    "    Chart()\n",
    "    setDimensions(width = dim, height = dim)\n",
    "    addSeries XY(x, y).setName(\"c\").drawMarkers\n",
    "    addAxes(ax3, ax8)\n",
    "    setMargin(l=50, r=30, t=50, b=50)\n",
    ")\n",
    "\n",
    "val chart_QX85 = (\n",
    "    Chart()\n",
    "    setDimensions(width = dim, height = dim)\n",
    "    addSeries(series1, series2)\n",
    "    setTitle \"The MultiChart from Above\"\n",
    "    addAxes(xaxis1, yaxis1, xaxis2, yaxis2) // these axes come from above\n",
    "    setConfig(responsive=false)\n",
    "    asMultiChart(1, 2)\n",
    ")\n",
    "\n",
    "// The canvas has an underlying grid. By default the underlying grid is 1x1, but we can pass in the dimensions we \n",
    "// require by passing in parameters in the constructor.\n",
    "Canvas(2, 2)\n",
    ".setChart(0, 0, chart_HP38)\n",
    ".setChart(0, 1, chart_MK88)\n",
    ".setChart(1, 0, chart_QT33)\n",
    ".setChart(1, 1, chart_QX85)\n",
    ".plotInline"
   ]
  },
  {
   "cell_type": "markdown",
   "metadata": {},
   "source": [
    "### Error Bars\n",
    "\n",
    "We can also add Error Bars to our plots.\n",
    "\n",
    "Error bars come in two flavours:\n",
    "\n",
    "1. `XError`\n",
    "2. `YError`\n",
    "\n",
    "Both of these has an associated `mode` that determines how the error bar is calculated for an individual point. The following `mode`s can be specified:\n",
    "\n",
    "- `DATA`: The user passes in an array that specifies the per point error\n",
    "- `PERCENT`: The user passes in a Double that calculates the error as a percentage of the value of the point\n",
    "- `CONSTANT`: The user passes in a double that is the constant value for the error for all points\n",
    "- `SQRT`: This calculates the error as a square root of the point value.\n",
    "\n",
    "The next few examples will demonstrate:"
   ]
  },
  {
   "cell_type": "code",
   "execution_count": 28,
   "metadata": {},
   "outputs": [],
   "source": [
    "// First import the Error Bar options\n",
    "import org.carbonateresearch.picta.options.{YError, CONSTANT, DATA, PERCENT, SQRT}"
   ]
  },
  {
   "cell_type": "code",
   "execution_count": 29,
   "metadata": {},
   "outputs": [
    {
     "data": {
      "text/html": [
       "<div id=\"grid-container_04wUQ0rXf6\" class=\"grid-container\" align=\"center\"> \n",
       "<div id=\"grid_04wUQ0rXf6\" class=\"grid\" align=\"center\"> \n",
       "<div id=\"graph_JnQg0WDgxo\" class=\"graph\"></div> \n",
       "<div id=\"graph_VLolb99fU5\" class=\"graph\"></div> \n",
       "<div id=\"graph_BvdduNXIss\" class=\"graph\"></div> \n",
       "<div id=\"graph_c85GhISItT\" class=\"graph\"></div> \n",
       "</div> \n",
       "</div> \n",
       "\n",
       "<div align=\"center\">\n",
       "<button id = \"saveAsPNG_04wUQ0rXf6\" class=\"picta-button\">Download Canvas as PNG</button>\n",
       "</div>\n",
       "<script>\n",
       "var masonry = new Macy({\n",
       "    container: '#grid_04wUQ0rXf6',\n",
       "    debug: true,\n",
       "    mobileFirst: true,\n",
       "    columns: 2,\n",
       "    margin: {\n",
       "        x: 0,\n",
       "        y: 50\n",
       "    }\n",
       "  });\n",
       "\n",
       "  var traces_JnQg0WDgxo = [{\"name\":\"Error from provided data\",\"type\":\"scatter\",\"mode\":\"markers\",\"x\":[1,2,3],\"y\":[1.234,5.2112,2.44332],\"error_y\":{\"type\":\"data\",\"visible\":true,\"array\":[0.5,0.5,0.5]}}];\n",
       " var layout_JnQg0WDgxo = {\"height\":400,\"width\":400,\"hovermode\":\"closest\",\"title\":{\"text\":\"Per Point Specified Error\"},\"showlegend\":true};\n",
       " var config_JnQg0WDgxo = {\"responsive\":true,\"scrollZoom\":true,\"displaylogo\":false};\n",
       " Plotly.newPlot(\"graph_JnQg0WDgxo\", traces_JnQg0WDgxo, layout_JnQg0WDgxo, config_JnQg0WDgxo);\n",
       "\n",
       "  var traces_VLolb99fU5 = [{\"name\":\"% error\",\"type\":\"scatter\",\"mode\":\"markers\",\"x\":[1,2,3],\"y\":[1.234,5.2112,2.44332],\"error_y\":{\"type\":\"percent\",\"visible\":true,\"value\":10}}];\n",
       " var layout_VLolb99fU5 = {\"height\":400,\"width\":400,\"hovermode\":\"closest\",\"title\":{\"text\":\"Percentage Error\"},\"showlegend\":true};\n",
       " var config_VLolb99fU5 = {\"responsive\":true,\"scrollZoom\":true,\"displaylogo\":false};\n",
       " Plotly.newPlot(\"graph_VLolb99fU5\", traces_VLolb99fU5, layout_VLolb99fU5, config_VLolb99fU5);\n",
       "\n",
       "  var traces_BvdduNXIss = [{\"name\":\"constant error\",\"type\":\"scatter\",\"mode\":\"markers\",\"x\":[1,2,3],\"y\":[1.234,5.2112,2.44332],\"error_y\":{\"type\":\"constant\",\"visible\":true,\"value\":10}}];\n",
       " var layout_BvdduNXIss = {\"height\":400,\"width\":400,\"hovermode\":\"closest\",\"title\":{\"text\":\"Constant Error\"},\"showlegend\":true};\n",
       " var config_BvdduNXIss = {\"responsive\":true,\"scrollZoom\":true,\"displaylogo\":false};\n",
       " Plotly.newPlot(\"graph_BvdduNXIss\", traces_BvdduNXIss, layout_BvdduNXIss, config_BvdduNXIss);\n",
       "\n",
       "  var traces_c85GhISItT = [{\"name\":\"Sqrt\",\"type\":\"scatter\",\"mode\":\"markers\",\"x\":[1,2,3],\"y\":[1.234,5.2112,2.44332],\"error_y\":{\"type\":\"sqrt\",\"visible\":true}}];\n",
       " var layout_c85GhISItT = {\"height\":400,\"width\":400,\"hovermode\":\"closest\",\"title\":{\"text\":\"Sqrt Error\"},\"showlegend\":true};\n",
       " var config_c85GhISItT = {\"responsive\":true,\"scrollZoom\":true,\"displaylogo\":false};\n",
       " Plotly.newPlot(\"graph_c85GhISItT\", traces_c85GhISItT, layout_c85GhISItT, config_c85GhISItT);\n",
       "\n",
       "var save_04wUQ0rXf6 = document.getElementById(\"saveAsPNG_04wUQ0rXf6\")\n",
       "save_04wUQ0rXf6.onclick = async function() {\n",
       "    const grid = document.getElementById(\"grid-container_04wUQ0rXf6\")\n",
       "    const graphs = grid.getElementsByClassName(\"graph\")\n",
       "\n",
       "    const images = []\n",
       "\n",
       "    const rows = 2\n",
       "    const cols = 2\n",
       "    const img_width = 400\n",
       "    const img_height = 400\n",
       "    var margin = 50\n",
       "\n",
       "    for (var i=0; i<rows; i++) {\n",
       "      for (var j=0; j<cols; j++) {\n",
       "        const image = await Plotly.toImage(graphs[i * cols + j], {format: 'png', width: img_width, height: img_height})\n",
       "        images.push(image);\n",
       "      }\n",
       "    }\n",
       "\n",
       "    const positioned_images = []\n",
       "\n",
       "        for (var i=0; i<rows; i++) {\n",
       "            for (var j=0; j<cols; j++) {\n",
       "\n",
       "                const obj = {\n",
       "                    \"src\": images[i*cols + j],\n",
       "                    x: j*img_width+margin,\n",
       "                    y: i*img_height+margin\n",
       "                }\n",
       "\n",
       "                positioned_images.push(obj)\n",
       "            }\n",
       "        }\n",
       "\n",
       "        mergeImages(positioned_images, {\n",
       "            width: img_width*cols+60, height: img_height*rows+60\n",
       "        })\n",
       "        .then(b64 => {\n",
       "            var a = document.createElement(\"a\");\n",
       "            a.href = b64;\n",
       "            a.download = \"Image.png\";\n",
       "            a.click();\n",
       "            a.remove()\n",
       "        });\n",
       "}\n",
       "</script> \n"
      ]
     },
     "metadata": {},
     "output_type": "display_data"
    }
   ],
   "source": [
    "val dim = 400\n",
    "\n",
    "val series1 = (\n",
    "    XY(List(1, 2, 3), List(1.234, 5.2112, 2.44332))\n",
    "    asType SCATTER\n",
    "    drawStyle MARKERS\n",
    "    // User specifies the error per point\n",
    "    setErrorBars YError(mode = DATA, array = List(0.5, 0.5, 0.5))\n",
    ")\n",
    "\n",
    "val chart_RE50 = (\n",
    "    Chart()\n",
    "    addSeries series1.setName(\"Error from provided data\")\n",
    "    setTitle \"Per Point Specified Error\"\n",
    "    setDimensions(width = dim, height = dim)\n",
    ")\n",
    "\n",
    "\n",
    "val series2 = (\n",
    "    XY(List(1, 2, 3), List(1.234, 5.2112, 2.44332))\n",
    "    asType SCATTER\n",
    "    drawStyle MARKERS\n",
    "    // the error here is 10% of the corresponding y-value for the point\n",
    "    setErrorBars YError(mode = PERCENT, value = 10.0)\n",
    ")\n",
    "\n",
    "val chart_YJ11 = (\n",
    "    Chart()\n",
    "    addSeries series2.setName(\"% error\")\n",
    "    setTitle \"Percentage Error\"\n",
    "    setDimensions(width = dim, height = dim) \n",
    ")\n",
    "\n",
    "\n",
    "val series3 = (\n",
    "    XY(List(1, 2, 3), List(1.234, 5.2112, 2.44332))\n",
    "    asType SCATTER\n",
    "    drawStyle MARKERS\n",
    "    // a constant error of 10 is applied to each point\n",
    "    setErrorBars YError(mode = CONSTANT, value = 10.0)\n",
    "    setName(\"Constant value\")\n",
    ")\n",
    "\n",
    "val chart_YY41 = (\n",
    "    Chart()\n",
    "    addSeries series3.setName(\"constant error\")\n",
    "    setTitle \"Constant Error\"\n",
    "    setDimensions(width = dim, height = dim)\n",
    ")\n",
    "\n",
    "\n",
    "val series4 = (\n",
    "    XY(List(1, 2, 3), List(1.234, 5.2112, 2.44332))\n",
    "    asType SCATTER\n",
    "    drawStyle MARKERS\n",
    "    setErrorBars YError(mode = SQRT)\n",
    "    setName(\"Sqrt\")\n",
    ")\n",
    "\n",
    "val chart_UX78 = (\n",
    "    Chart()\n",
    "    addSeries series4.setName(\"Sqrt\")\n",
    "    setTitle \"Sqrt Error\"\n",
    "    // the error is set to the sqrt of the corresponding point\n",
    "    setDimensions(width = dim, height = dim)\n",
    ")\n",
    "\n",
    "val canvas = Canvas(2, 2) addCharts (chart_RE50, chart_YJ11, chart_YY41, chart_UX78)\n",
    "\n",
    "canvas.plotInline"
   ]
  },
  {
   "cell_type": "markdown",
   "metadata": {},
   "source": [
    "### Other Types of Charts\n",
    "\n",
    "The next examples will demonstrate how to create a variety of `Chart`s. All of the examples below are composable with the `Canvas` subplot system.\n",
    "\n",
    "#### Pie Chart\n",
    "\n",
    "Pie charts can be created in two ways. The first way uses the `PieElement` component to compose a Piechart:"
   ]
  },
  {
   "cell_type": "code",
   "execution_count": 30,
   "metadata": {},
   "outputs": [
    {
     "data": {
      "text/html": [
       "<div id=\"grid-container_ep1Wu6Tgkw\" class=\"grid-container\" align=\"center\"> \n",
       "<div id=\"grid_ep1Wu6Tgkw\" class=\"grid\" align=\"center\"> \n",
       "<div id=\"graph_3CFr1mIWmo\" class=\"graph\"></div> \n",
       "</div> \n",
       "</div> \n",
       "<script>\n",
       "var masonry = new Macy({\n",
       "    container: '#grid_ep1Wu6Tgkw',\n",
       "    debug: true,\n",
       "    mobileFirst: true,\n",
       "    columns: 1,\n",
       "    margin: {\n",
       "        x: 0,\n",
       "        y: 50\n",
       "    }\n",
       "  });\n",
       "\n",
       "  var traces_3CFr1mIWmo = [{\"name\":\"iyhqR32ztc\",\"type\":\"pie\",\"values\":[60,20,20],\"labels\":[\"Residential\",\"Non-Residential\",\"Utility\"]}];\n",
       " var layout_3CFr1mIWmo = {\"height\":550,\"width\":600,\"hovermode\":\"closest\",\"title\":{\"text\":\"Pie Elements\"},\"showlegend\":true};\n",
       " var config_3CFr1mIWmo = {\"responsive\":true,\"scrollZoom\":true,\"displaylogo\":false};\n",
       " Plotly.newPlot(\"graph_3CFr1mIWmo\", traces_3CFr1mIWmo, layout_3CFr1mIWmo, config_3CFr1mIWmo);\n",
       "</script> \n"
      ]
     },
     "metadata": {},
     "output_type": "display_data"
    }
   ],
   "source": [
    "val a = PieElement(value=60, name=\"Residential\")\n",
    "val b = PieElement(value=20, name=\"Non-Residential\")\n",
    "val c = PieElement(value=20, name=\"Utility\")\n",
    "\n",
    "// we add a list of Pie Elements to an XY series as the list of Pie Elements gets deconstructed down into two series:\n",
    "// X => values: [60, 20, 20]\n",
    "// Y => labels: [\"Residential\", \"Non-Residential\", \"Utility\"]\n",
    "// The labels become the series_name for each individual PieElement\n",
    "// As we pass in a list of PieElements, we do not need to specify the type as a PIE\n",
    "val series = XY(x=List(a, b, c))\n",
    "\n",
    "val chart_EC40 = Chart() addSeries series setTitle \"Pie Elements\"\n",
    "\n",
    "chart_EC40.plotInline"
   ]
  },
  {
   "cell_type": "code",
   "execution_count": 31,
   "metadata": {},
   "outputs": [
    {
     "data": {
      "text/html": [
       "<div id=\"grid-container_sY8vbMsS4l\" class=\"grid-container\" align=\"center\"> \n",
       "<div id=\"grid_sY8vbMsS4l\" class=\"grid\" align=\"center\"> \n",
       "<div id=\"graph_00lYmGNSwI\" class=\"graph\"></div> \n",
       "</div> \n",
       "</div> \n",
       "<script>\n",
       "var masonry = new Macy({\n",
       "    container: '#grid_sY8vbMsS4l',\n",
       "    debug: true,\n",
       "    mobileFirst: true,\n",
       "    columns: 1,\n",
       "    margin: {\n",
       "        x: 0,\n",
       "        y: 50\n",
       "    }\n",
       "  });\n",
       "\n",
       "  var traces_00lYmGNSwI = [{\"name\":\"btvDfB8jqR\",\"type\":\"pie\",\"values\":[60,20,20],\"labels\":[\"Residential\",\"Non-Residential\",\"Utility\"]}];\n",
       " var layout_00lYmGNSwI = {\"height\":550,\"width\":600,\"hovermode\":\"closest\",\"title\":{\"text\":\"Pie Chart\"},\"showlegend\":true};\n",
       " var config_00lYmGNSwI = {\"responsive\":false,\"scrollZoom\":false,\"displaylogo\":false};\n",
       " Plotly.newPlot(\"graph_00lYmGNSwI\", traces_00lYmGNSwI, layout_00lYmGNSwI, config_00lYmGNSwI);\n",
       "</script> \n"
      ]
     },
     "metadata": {},
     "output_type": "display_data"
    }
   ],
   "source": [
    "// However, composing individual PieElements may be tedious if there is a lot of data and we know how to it all fits\n",
    "// together. Picta provides a short hand to quickly create a Pie Chart using the methods we have seen previously\n",
    "// In this case we pass the (value, name) pairs as two seperate lists. As before, the labels become an individual\n",
    "// series name for each point; which is why the legend renders correctly.\n",
    "val series = XY(x=List(60, 20, 20), y=List(\"Residential\", \"Non-Residential\", \"Utility\")) asType PIE\n",
    "\n",
    "val chart_IK48 = Chart() addSeries series setConfig(false, false) setTitle \"Pie Chart\"\n",
    "\n",
    "chart_IK48.plotInline"
   ]
  },
  {
   "cell_type": "markdown",
   "metadata": {},
   "source": [
    "### Histogram"
   ]
  },
  {
   "cell_type": "code",
   "execution_count": 32,
   "metadata": {},
   "outputs": [
    {
     "data": {
      "text/html": [
       "<div id=\"grid-container_hOm3gjjDET\" class=\"grid-container\" align=\"center\"> \n",
       "<div id=\"grid_hOm3gjjDET\" class=\"grid\" align=\"center\"> \n",
       "<div id=\"graph_V0UX5vbqNA\" class=\"graph\"></div> \n",
       "</div> \n",
       "</div> \n",
       "<script>\n",
       "var masonry = new Macy({\n",
       "    container: '#grid_hOm3gjjDET',\n",
       "    debug: true,\n",
       "    mobileFirst: true,\n",
       "    columns: 1,\n",
       "    margin: {\n",
       "        x: 0,\n",
       "        y: 50\n",
       "    }\n",
       "  });\n",
       "\n",
       "  var traces_V0UX5vbqNA = [{\"name\":\"24NZtszeSO\",\"type\":\"histogram\",\"x\":[0,0.5176788400891287,1.5640698012821326,1.6416214313302997,2.701024911889739,0.3234535764865909,4.820890107630605,0.24560615992490553,5.6927447109423,6.209269246284796,4.0689134550422,2.6669619517869307,6.696811700950839,10.804157282068214,9.022766883785927,7.570234318294212,15.797859259807547,8.222448240460894,11.372059413720267,3.86979690112735,12.282178881393248,14.859657404434788,19.231356717158214,10.04444315756197,9.885306162933919,24.26119062603068,20.34312453693452,15.499296600869453,14.930336131252751,22.573404259415245,4.718587407489849,18.244814754821412,26.742110550429935,6.588500030542383,0.705161613805622,13.908775942099009,15.989022556708711,25.697482104795903,25.7611142455553,37.76900291201222,0.4840702719262113,5.418907624030504,12.748372110985457,26.342229754115905,3.719943121336086,44.825464511711786,30.57295736099998,33.33796966106039,5.269382289758811,27.39548707441479,40.759375262433906,4.735443067332458,10.401785569279212,12.822389251531991,39.29036865410887,25.616644754715516,39.10001562496519,26.371603180275066,50.02688814276171,29.439386512559896,58.35767384017121,1.732086723559594,38.494772777692795,45.91073509314835,40.446686308161574,34.21761055589725,31.03463126320754,64.77360863363867,36.01786389454532,15.882053085676777,20.5096146510209,49.897389548897486,36.683260525215296,54.87270833502471,12.202333368300852,67.31736059811577,63.37856084319622,3.4060961527913314,26.45696028911785,50.54743745285114,50.56642499615168,31.362185343318572,56.28563688160851,30.846129096620444,42.467670578454786,56.90496744284624,18.80968613391509,67.39692389153109,56.24648663685363,56.00024610444562,55.29577752215458,86.82133830722017,34.67833494635802,65.46519734878493,79.92510032526398,24.325635416942912,23.545103505157265,77.49864897075119,14.549860781516438,90.34089401829814]}];\n",
       " var layout_V0UX5vbqNA = {\"height\":550,\"width\":600,\"hovermode\":\"closest\",\"title\":{\"text\":\"Histogram with axes\"},\"showlegend\":true,\"xaxis\":{\"title\":{\"text\":\"x\"},\"showgrid\":true,\"zeroline\":false,\"showline\":false},\"yaxis\":{\"title\":{\"text\":\"y\"},\"showgrid\":true,\"zeroline\":false,\"showline\":false}};\n",
       " var config_V0UX5vbqNA = {\"responsive\":true,\"scrollZoom\":true,\"displaylogo\":false};\n",
       " Plotly.newPlot(\"graph_V0UX5vbqNA\", traces_V0UX5vbqNA, layout_V0UX5vbqNA, config_V0UX5vbqNA);\n",
       "</script> \n"
      ]
     },
     "metadata": {},
     "output_type": "display_data"
    }
   ],
   "source": [
    "val series = XY(x=x) asType HISTOGRAM\n",
    "\n",
    "val xaxis = Axis(X, title = \"x\")\n",
    "val yaxis = Axis(Y, title = \"y\")\n",
    "\n",
    "val chart_IY31 = (\n",
    "    Chart() \n",
    "    addSeries series\n",
    "    setTitle \"Histogram with axes\"\n",
    "    addAxes(xaxis, yaxis)\n",
    ")\n",
    "\n",
    "Canvas()\n",
    ".addCharts(chart_IY31)\n",
    ".plotInline"
   ]
  },
  {
   "cell_type": "markdown",
   "metadata": {},
   "source": [
    "#### Customizing colors for a Histogram\n",
    "\n",
    "We can use the `HistOptions` class to further specify options for a histogram. For example, if we wanted to create a horizontally positioned histogram, we can do the following:"
   ]
  },
  {
   "cell_type": "code",
   "execution_count": 33,
   "metadata": {},
   "outputs": [],
   "source": [
    "import org.carbonateresearch.picta.options.histogram.HistOptions\n",
    "import org.carbonateresearch.picta.options.Line"
   ]
  },
  {
   "cell_type": "code",
   "execution_count": 34,
   "metadata": {},
   "outputs": [
    {
     "data": {
      "text/html": [
       "<div id=\"grid-container_uAWgTD18ba\" class=\"grid-container\" align=\"center\"> \n",
       "<div id=\"grid_uAWgTD18ba\" class=\"grid\" align=\"center\"> \n",
       "<div id=\"graph_7quGd5nE7h\" class=\"graph\"></div> \n",
       "</div> \n",
       "</div> \n",
       "<script>\n",
       "var masonry = new Macy({\n",
       "    container: '#grid_uAWgTD18ba',\n",
       "    debug: true,\n",
       "    mobileFirst: true,\n",
       "    columns: 1,\n",
       "    margin: {\n",
       "        x: 0,\n",
       "        y: 50\n",
       "    }\n",
       "  });\n",
       "\n",
       "  var traces_7quGd5nE7h = [{\"name\":\"DEeQREDP6Q\",\"type\":\"histogram\",\"marker\":{\"color\":\"rgba(255.0, 100.0, 102.0, 0.5)\",\"line\":{\"width\":0.5}},\"y\":[0,0.5176788400891287,1.5640698012821326,1.6416214313302997,2.701024911889739,0.3234535764865909,4.820890107630605,0.24560615992490553,5.6927447109423,6.209269246284796,4.0689134550422,2.6669619517869307,6.696811700950839,10.804157282068214,9.022766883785927,7.570234318294212,15.797859259807547,8.222448240460894,11.372059413720267,3.86979690112735,12.282178881393248,14.859657404434788,19.231356717158214,10.04444315756197,9.885306162933919,24.26119062603068,20.34312453693452,15.499296600869453,14.930336131252751,22.573404259415245,4.718587407489849,18.244814754821412,26.742110550429935,6.588500030542383,0.705161613805622,13.908775942099009,15.989022556708711,25.697482104795903,25.7611142455553,37.76900291201222,0.4840702719262113,5.418907624030504,12.748372110985457,26.342229754115905,3.719943121336086,44.825464511711786,30.57295736099998,33.33796966106039,5.269382289758811,27.39548707441479,40.759375262433906,4.735443067332458,10.401785569279212,12.822389251531991,39.29036865410887,25.616644754715516,39.10001562496519,26.371603180275066,50.02688814276171,29.439386512559896,58.35767384017121,1.732086723559594,38.494772777692795,45.91073509314835,40.446686308161574,34.21761055589725,31.03463126320754,64.77360863363867,36.01786389454532,15.882053085676777,20.5096146510209,49.897389548897486,36.683260525215296,54.87270833502471,12.202333368300852,67.31736059811577,63.37856084319622,3.4060961527913314,26.45696028911785,50.54743745285114,50.56642499615168,31.362185343318572,56.28563688160851,30.846129096620444,42.467670578454786,56.90496744284624,18.80968613391509,67.39692389153109,56.24648663685363,56.00024610444562,55.29577752215458,86.82133830722017,34.67833494635802,65.46519734878493,79.92510032526398,24.325635416942912,23.545103505157265,77.49864897075119,14.549860781516438,90.34089401829814]}];\n",
       " var layout_7quGd5nE7h = {\"height\":550,\"width\":600,\"hovermode\":\"closest\",\"title\":{\"text\":\"XY.Histogram.Color\"},\"showlegend\":true};\n",
       " var config_7quGd5nE7h = {\"responsive\":true,\"scrollZoom\":true,\"displaylogo\":false};\n",
       " Plotly.newPlot(\"graph_7quGd5nE7h\", traces_7quGd5nE7h, layout_7quGd5nE7h, config_7quGd5nE7h);\n",
       "</script> \n"
      ]
     },
     "metadata": {},
     "output_type": "display_data"
    }
   ],
   "source": [
    "// we can also compose customizations in much the same way:\n",
    "val marker = Marker() setColor RGBA(255, 100, 102, 0.5) setLine Line()\n",
    "\n",
    "// change xkey to y to get a horizontal histogram\n",
    "val series = (\n",
    "    XY(x) \n",
    "    asType HISTOGRAM\n",
    "    setMarker marker\n",
    "    // we can set histogram specific options using the setHistOptions method\n",
    "    setHistOptions(orientation = HORIZONTAL)\n",
    ")\n",
    "\n",
    "val chart_ZR69 = (\n",
    "    Chart() \n",
    "    addSeries series \n",
    "    setTitle \"XY.Histogram.Color\"\n",
    ")\n",
    "\n",
    "chart_ZR69.plotInline"
   ]
  },
  {
   "cell_type": "markdown",
   "metadata": {},
   "source": [
    "#### Cumulative Histogram\n",
    "\n",
    "Sometimes a cumulative histogram may be desired. We can do this as follows:"
   ]
  },
  {
   "cell_type": "code",
   "execution_count": 35,
   "metadata": {},
   "outputs": [],
   "source": [
    "// we can import a range of histnorms\n",
    "import org.carbonateresearch.picta.options.histogram.{Cumulative, PERCENT, DENSITY, PROBABILITY_DENSITY, NUMBER}"
   ]
  },
  {
   "cell_type": "code",
   "execution_count": 36,
   "metadata": {},
   "outputs": [
    {
     "data": {
      "text/html": [
       "<div id=\"grid-container_m3d0U5S7HP\" class=\"grid-container\" align=\"center\"> \n",
       "<div id=\"grid_m3d0U5S7HP\" class=\"grid\" align=\"center\"> \n",
       "<div id=\"graph_kjj1FsbbrL\" class=\"graph\"></div> \n",
       "</div> \n",
       "</div> \n",
       "<script>\n",
       "var masonry = new Macy({\n",
       "    container: '#grid_m3d0U5S7HP',\n",
       "    debug: true,\n",
       "    mobileFirst: true,\n",
       "    columns: 1,\n",
       "    margin: {\n",
       "        x: 0,\n",
       "        y: 50\n",
       "    }\n",
       "  });\n",
       "\n",
       "  var traces_kjj1FsbbrL = [{\"name\":\"6MPNV7sEAo\",\"type\":\"histogram\",\"cumulative\":{\"enabled\":true},\"histnorm\":\"\",\"x\":[0,0.5176788400891287,1.5640698012821326,1.6416214313302997,2.701024911889739,0.3234535764865909,4.820890107630605,0.24560615992490553,5.6927447109423,6.209269246284796,4.0689134550422,2.6669619517869307,6.696811700950839,10.804157282068214,9.022766883785927,7.570234318294212,15.797859259807547,8.222448240460894,11.372059413720267,3.86979690112735,12.282178881393248,14.859657404434788,19.231356717158214,10.04444315756197,9.885306162933919,24.26119062603068,20.34312453693452,15.499296600869453,14.930336131252751,22.573404259415245,4.718587407489849,18.244814754821412,26.742110550429935,6.588500030542383,0.705161613805622,13.908775942099009,15.989022556708711,25.697482104795903,25.7611142455553,37.76900291201222,0.4840702719262113,5.418907624030504,12.748372110985457,26.342229754115905,3.719943121336086,44.825464511711786,30.57295736099998,33.33796966106039,5.269382289758811,27.39548707441479,40.759375262433906,4.735443067332458,10.401785569279212,12.822389251531991,39.29036865410887,25.616644754715516,39.10001562496519,26.371603180275066,50.02688814276171,29.439386512559896,58.35767384017121,1.732086723559594,38.494772777692795,45.91073509314835,40.446686308161574,34.21761055589725,31.03463126320754,64.77360863363867,36.01786389454532,15.882053085676777,20.5096146510209,49.897389548897486,36.683260525215296,54.87270833502471,12.202333368300852,67.31736059811577,63.37856084319622,3.4060961527913314,26.45696028911785,50.54743745285114,50.56642499615168,31.362185343318572,56.28563688160851,30.846129096620444,42.467670578454786,56.90496744284624,18.80968613391509,67.39692389153109,56.24648663685363,56.00024610444562,55.29577752215458,86.82133830722017,34.67833494635802,65.46519734878493,79.92510032526398,24.325635416942912,23.545103505157265,77.49864897075119,14.549860781516438,90.34089401829814]}];\n",
       " var layout_kjj1FsbbrL = {\"height\":550,\"width\":600,\"hovermode\":\"closest\",\"title\":{\"text\":\"Histogram - Cumulative\"},\"showlegend\":true};\n",
       " var config_kjj1FsbbrL = {\"responsive\":true,\"scrollZoom\":true,\"displaylogo\":false};\n",
       " Plotly.newPlot(\"graph_kjj1FsbbrL\", traces_kjj1FsbbrL, layout_kjj1FsbbrL, config_kjj1FsbbrL);\n",
       "</script> \n"
      ]
     },
     "metadata": {},
     "output_type": "display_data"
    }
   ],
   "source": [
    "val series = XY(x) asType HISTOGRAM setHistOptions(histnorm = NUMBER, cumulative = Cumulative(enabled=true))\n",
    "\n",
    "val chart_TX19 = Chart() addSeries series setTitle \"Histogram - Cumulative\"\n",
    "\n",
    "chart_TX19.plotInline"
   ]
  },
  {
   "cell_type": "markdown",
   "metadata": {},
   "source": [
    "#### Specifiying the Binning Function\n",
    "\n",
    "We can also specify the binning function for a histogram."
   ]
  },
  {
   "cell_type": "code",
   "execution_count": 37,
   "metadata": {},
   "outputs": [],
   "source": [
    "import org.carbonateresearch.picta.options.histogram.{COUNT, SUM, AVG, MIN, MAX, HistOptions}"
   ]
  },
  {
   "cell_type": "code",
   "execution_count": 38,
   "metadata": {},
   "outputs": [
    {
     "data": {
      "text/html": [
       "<div id=\"grid-container_BbqtM2n66f\" class=\"grid-container\" align=\"center\"> \n",
       "<div id=\"grid_BbqtM2n66f\" class=\"grid\" align=\"center\"> \n",
       "<div id=\"graph_L9sX0sUl14\" class=\"graph\"></div> \n",
       "</div> \n",
       "</div> \n",
       "<script>\n",
       "var masonry = new Macy({\n",
       "    container: '#grid_BbqtM2n66f',\n",
       "    debug: true,\n",
       "    mobileFirst: true,\n",
       "    columns: 1,\n",
       "    margin: {\n",
       "        x: 0,\n",
       "        y: 50\n",
       "    }\n",
       "  });\n",
       "\n",
       "  var traces_L9sX0sUl14 = [{\"name\":\"NWMA600UQu\",\"type\":\"histogram\",\"histfunc\":\"count\",\"x\":[\"Apples\",\"Apples\",\"Apples\",\"Oranges\",\"Bananas\"],\"y\":[\"5\",\"10\",\"3\",\"10\",\"5\"]},{\"name\":\"leplUMntCk\",\"type\":\"histogram\",\"histfunc\":\"sum\",\"x\":[\"Apples\",\"Apples\",\"Apples\",\"Oranges\",\"Bananas\"],\"y\":[\"5\",\"10\",\"3\",\"10\",\"5\"]}];\n",
       " var layout_L9sX0sUl14 = {\"height\":550,\"width\":600,\"hovermode\":\"closest\",\"title\":{\"text\":\"Histogram - Specify Binning Function\"},\"showlegend\":true};\n",
       " var config_L9sX0sUl14 = {\"responsive\":true,\"scrollZoom\":true,\"displaylogo\":false};\n",
       " Plotly.newPlot(\"graph_L9sX0sUl14\", traces_L9sX0sUl14, layout_L9sX0sUl14, config_L9sX0sUl14);\n",
       "</script> \n"
      ]
     },
     "metadata": {},
     "output_type": "display_data"
    }
   ],
   "source": [
    "val x = List(\"Apples\", \"Apples\", \"Apples\", \"Oranges\", \"Bananas\")\n",
    "val y = List(\"5\", \"10\", \"3\", \"10\", \"5\")\n",
    "\n",
    "// we can also assign histOptions to a value and pass them to the setHistOptions method\n",
    "val ho1 = HistOptions(histfunc = COUNT)\n",
    "val ho2 = HistOptions(histfunc = SUM)\n",
    "    \n",
    "val t1 = XY(x = x, y = y) asType HISTOGRAM setHistOptions ho1\n",
    "val t2 = XY(x = x, y = y) asType HISTOGRAM setHistOptions ho2\n",
    "\n",
    "val chart_XM71 = Chart() addSeries(t1, t2) setTitle \"Histogram - Specify Binning Function\"\n",
    "val canvas = Canvas() addCharts chart_XM71\n",
    "canvas.plotInline"
   ]
  },
  {
   "cell_type": "markdown",
   "metadata": {},
   "source": [
    "### 2D Histogram Contour"
   ]
  },
  {
   "cell_type": "code",
   "execution_count": 39,
   "metadata": {},
   "outputs": [
    {
     "data": {
      "text/html": [
       "<div id=\"grid-container_gPLe1C4aWX\" class=\"grid-container\" align=\"center\"> \n",
       "<div id=\"grid_gPLe1C4aWX\" class=\"grid\" align=\"center\"> \n",
       "<div id=\"graph_Peg1HHgTdV\" class=\"graph\"></div> \n",
       "</div> \n",
       "</div> \n",
       "<script>\n",
       "var masonry = new Macy({\n",
       "    container: '#grid_gPLe1C4aWX',\n",
       "    debug: true,\n",
       "    mobileFirst: true,\n",
       "    columns: 1,\n",
       "    margin: {\n",
       "        x: 0,\n",
       "        y: 50\n",
       "    }\n",
       "  });\n",
       "\n",
       "  var traces_Peg1HHgTdV = [{\"name\":\"4Jt4dRnM2r\",\"type\":\"histogram2dcontour\",\"mode\":\"markers\",\"x\":[1,2,3,4,5,6,7,8,9,10,11,12,13,14,15,16,17,18,19,20,21,22,23,24,25,26,27,28,29,30,31,32,33,34,35,36,37,38,39,40,41,42,43,44,45,46,47,48,49],\"y\":[39.4108773566109,86.22941924567459,38.656263418074886,10.154115605157084,20.19198896930881,84.17974974793862,28.355216442173898,64.90375284305782,36.99519379910001,54.42735549741747,64.1233714159178,53.654485787115014,41.42747209469789,49.8900848229626,88.57465418568101,39.290306874935595,114.68265505041897,73.79982325511139,74.78091894828043,28.316843116689874,80.03600075649065,71.50540925981493,24.80879030850609,65.29016468247795,99.38999731456781,118.79703750869614,97.98185941673837,45.33233524257892,70.92767546845312,61.72343191184471,67.41866547442852,81.58973105651218,49.32421647000171,74.29891291552197,53.10389337693261,133.72854728032132,129.98723074347723,52.54821599401771,95.08227069059186,63.42508355205746,74.44051186893864,56.01272710678828,111.32167951835234,133.2967649149035,105.23572888699721,141.14256246927005,131.37400513515254,106.83308519055116,65.6709638788885]}];\n",
       " var layout_Peg1HHgTdV = {\"height\":550,\"width\":600,\"hovermode\":\"closest\",\"title\":{\"text\":\"2D Histogram Contour\"},\"showlegend\":true};\n",
       " var config_Peg1HHgTdV = {\"responsive\":true,\"scrollZoom\":true,\"displaylogo\":false};\n",
       " Plotly.newPlot(\"graph_Peg1HHgTdV\", traces_Peg1HHgTdV, layout_Peg1HHgTdV, config_Peg1HHgTdV);\n",
       "</script> \n"
      ]
     },
     "metadata": {},
     "output_type": "display_data"
    }
   ],
   "source": [
    "val x = List.range(1, 50)\n",
    "val y = x.map(x => x + scala.util.Random.nextDouble()*100)\n",
    "\n",
    "val series = XY(x, y).asType(HISTOGRAM2DCONTOUR).drawMarkers\n",
    "\n",
    "val chart_GJ92 = (\n",
    "    Chart() addSeries series\n",
    "    setTitle \"2D Histogram Contour\"\n",
    ")\n",
    "\n",
    "chart_GJ92.plotInline"
   ]
  },
  {
   "cell_type": "markdown",
   "metadata": {},
   "source": [
    "#### Adding additional axes\n",
    "\n",
    "As the above is a density plot, adding histograms can be useful too.\n",
    "\n",
    "We can add histograms as follows:"
   ]
  },
  {
   "cell_type": "code",
   "execution_count": 40,
   "metadata": {},
   "outputs": [],
   "source": [
    "// import the 2d Density histogram options\n",
    "import org.carbonateresearch.picta.options.histogram2d.Hist2dOptions"
   ]
  },
  {
   "cell_type": "code",
   "execution_count": 41,
   "metadata": {},
   "outputs": [
    {
     "data": {
      "text/html": [
       "<div id=\"grid-container_rGJRm3ZuYr\" class=\"grid-container\" align=\"center\"> \n",
       "<div id=\"grid_rGJRm3ZuYr\" class=\"grid\" align=\"center\"> \n",
       "<div id=\"graph_UkgCsBl8GT\" class=\"graph\"></div> \n",
       "</div> \n",
       "</div> \n",
       "<script>\n",
       "var masonry = new Macy({\n",
       "    container: '#grid_rGJRm3ZuYr',\n",
       "    debug: true,\n",
       "    mobileFirst: true,\n",
       "    columns: 1,\n",
       "    margin: {\n",
       "        x: 0,\n",
       "        y: 50\n",
       "    }\n",
       "  });\n",
       "\n",
       "  var traces_UkgCsBl8GT = [{\"name\":\"points\",\"type\":\"scatter\",\"mode\":\"markers\",\"marker\":{\"color\":\"rgb(102.0, 0.0, 0.0)\"},\"x\":[1,2,3,4,5,6,7,8,9,10,11,12,13,14,15,16,17,18,19,20,21,22,23,24,25,26,27,28,29,30,31,32,33,34,35,36,37,38,39,40,41,42,43,44,45,46,47,48,49],\"y\":[39.4108773566109,86.22941924567459,38.656263418074886,10.154115605157084,20.19198896930881,84.17974974793862,28.355216442173898,64.90375284305782,36.99519379910001,54.42735549741747,64.1233714159178,53.654485787115014,41.42747209469789,49.8900848229626,88.57465418568101,39.290306874935595,114.68265505041897,73.79982325511139,74.78091894828043,28.316843116689874,80.03600075649065,71.50540925981493,24.80879030850609,65.29016468247795,99.38999731456781,118.79703750869614,97.98185941673837,45.33233524257892,70.92767546845312,61.72343191184471,67.41866547442852,81.58973105651218,49.32421647000171,74.29891291552197,53.10389337693261,133.72854728032132,129.98723074347723,52.54821599401771,95.08227069059186,63.42508355205746,74.44051186893864,56.01272710678828,111.32167951835234,133.2967649149035,105.23572888699721,141.14256246927005,131.37400513515254,106.83308519055116,65.6709638788885]},{\"name\":\"density\",\"type\":\"histogram2dcontour\",\"ncontours\":20,\"reversescale\":false,\"showscale\":true,\"x\":[1,2,3,4,5,6,7,8,9,10,11,12,13,14,15,16,17,18,19,20,21,22,23,24,25,26,27,28,29,30,31,32,33,34,35,36,37,38,39,40,41,42,43,44,45,46,47,48,49],\"y\":[39.4108773566109,86.22941924567459,38.656263418074886,10.154115605157084,20.19198896930881,84.17974974793862,28.355216442173898,64.90375284305782,36.99519379910001,54.42735549741747,64.1233714159178,53.654485787115014,41.42747209469789,49.8900848229626,88.57465418568101,39.290306874935595,114.68265505041897,73.79982325511139,74.78091894828043,28.316843116689874,80.03600075649065,71.50540925981493,24.80879030850609,65.29016468247795,99.38999731456781,118.79703750869614,97.98185941673837,45.33233524257892,70.92767546845312,61.72343191184471,67.41866547442852,81.58973105651218,49.32421647000171,74.29891291552197,53.10389337693261,133.72854728032132,129.98723074347723,52.54821599401771,95.08227069059186,63.42508355205746,74.44051186893864,56.01272710678828,111.32167951835234,133.2967649149035,105.23572888699721,141.14256246927005,131.37400513515254,106.83308519055116,65.6709638788885]},{\"name\":\"histogram\",\"type\":\"histogram\",\"yaxis\":\"y2\",\"x\":[1,2,3,4,5,6,7,8,9,10,11,12,13,14,15,16,17,18,19,20,21,22,23,24,25,26,27,28,29,30,31,32,33,34,35,36,37,38,39,40,41,42,43,44,45,46,47,48,49]},{\"name\":\"y density\",\"type\":\"histogram\",\"xaxis\":\"x2\",\"marker\":{\"color\":\"rgb(102.0, 0.0, 0.0)\"},\"y\":[39.4108773566109,86.22941924567459,38.656263418074886,10.154115605157084,20.19198896930881,84.17974974793862,28.355216442173898,64.90375284305782,36.99519379910001,54.42735549741747,64.1233714159178,53.654485787115014,41.42747209469789,49.8900848229626,88.57465418568101,39.290306874935595,114.68265505041897,73.79982325511139,74.78091894828043,28.316843116689874,80.03600075649065,71.50540925981493,24.80879030850609,65.29016468247795,99.38999731456781,118.79703750869614,97.98185941673837,45.33233524257892,70.92767546845312,61.72343191184471,67.41866547442852,81.58973105651218,49.32421647000171,74.29891291552197,53.10389337693261,133.72854728032132,129.98723074347723,52.54821599401771,95.08227069059186,63.42508355205746,74.44051186893864,56.01272710678828,111.32167951835234,133.2967649149035,105.23572888699721,141.14256246927005,131.37400513515254,106.83308519055116,65.6709638788885]}];\n",
       " var layout_UkgCsBl8GT = {\"height\":550,\"width\":600,\"hovermode\":\"closest\",\"title\":{\"text\":\"2D Histogram Contour With Density\"},\"showlegend\":false,\"autosize\":false,\"xaxis\":{\"showgrid\":false,\"zeroline\":false,\"showline\":false,\"domain\":[0,0.85]},\"yaxis\":{\"showgrid\":false,\"zeroline\":false,\"showline\":false,\"domain\":[0,0.85]},\"xaxis2\":{\"showgrid\":false,\"zeroline\":false,\"showline\":false,\"domain\":[0.85,1]},\"yaxis2\":{\"showgrid\":false,\"zeroline\":false,\"showline\":false,\"domain\":[0.85,1]}};\n",
       " var config_UkgCsBl8GT = {\"responsive\":true,\"scrollZoom\":true,\"displaylogo\":false};\n",
       " Plotly.newPlot(\"graph_UkgCsBl8GT\", traces_UkgCsBl8GT, layout_UkgCsBl8GT, config_UkgCsBl8GT);\n",
       "</script> \n"
      ]
     },
     "metadata": {},
     "output_type": "display_data"
    }
   ],
   "source": [
    "val ax1 = Axis(X, showgrid = false) setDomain(0.0, 0.85)\n",
    "val ax2 = Axis(Y, showgrid = false) setDomain(0.0, 0.85)\n",
    "val ax3 = Axis(X, position = 2, showgrid = false) setDomain(0.85, 1.0)\n",
    "val ax4 = Axis(Y, position = 2, showgrid = false) setDomain(0.85, 1.0)\n",
    "\n",
    "val marker = Marker() setColor RGB(102,0,0)\n",
    "val series1 = XY(x, y) asType SCATTER drawStyle MARKERS setName \"points\" setMarker marker\n",
    "\n",
    "val series2 = (\n",
    "  XY(x, y)\n",
    "    setName \"density\"\n",
    "    asType HISTOGRAM2DCONTOUR\n",
    "    setHist2dOptions(ncontours = 20, reversescale = false, showscale = true)\n",
    "  )\n",
    "\n",
    "val series3 = XY(x = x) asType HISTOGRAM setName \"histogram\" setAxes(ax1, ax4)\n",
    "val series4 = (XY(y) setName \"y density\" asType HISTOGRAM setAxis ax3 setMarker marker\n",
    "  setHistOptions (orientation = HORIZONTAL))\n",
    "\n",
    "val layout = (ChartLayout(\"2D Histogram Contour With Density\", auto_size = false) setAxes(ax1, ax2, ax3, ax4))\n",
    "\n",
    "val chart_BS64 = Chart() addSeries(series1, series2, series3, series4) setChartLayout layout showLegend false\n",
    "\n",
    "chart_BS64.plotInline"
   ]
  },
  {
   "cell_type": "markdown",
   "metadata": {},
   "source": [
    "### 3D Charts\n",
    "\n",
    "3D charts are constructed using a `XYZ` series as they take in 3 `Series`' to create a single point.\n",
    "\n",
    "The Picta API does not accept nested lists, however the underlying Plotlyjs render does. In order to render any series that will make use of a nested list, we must flatten and provide the length of an element (before the list was flattened).\n",
    "\n",
    "The following examples will make it clearer.\n",
    "\n",
    "#### Contour"
   ]
  },
  {
   "cell_type": "code",
   "execution_count": 42,
   "metadata": {},
   "outputs": [],
   "source": [
    "// lets create some dummy adata for the third dimension\n",
    "val x = List(-9, -6, -5 , -3, -1)\n",
    "val y = List(0, 1, 4, 5, 7)\n",
    "val z = List(\n",
    "    List(10, 10.625, 12.5, 15.625, 20),\n",
    "    List(5.625, 6.25, 8.125, 11.25, 15.625),\n",
    "    List(2.5, 3.125, 5.0, 8.125, 12.5),\n",
    "    List(0.625, 1.25, 3.125, 6.25, 10.625),\n",
    "    List(0, 0.625, 2.5, 5.625, 10)\n",
    ")"
   ]
  },
  {
   "cell_type": "code",
   "execution_count": 43,
   "metadata": {},
   "outputs": [
    {
     "data": {
      "text/html": [
       "<div id=\"grid-container_L6pjmkfIxp\" class=\"grid-container\" align=\"center\"> \n",
       "<div id=\"grid_L6pjmkfIxp\" class=\"grid\" align=\"center\"> \n",
       "<div id=\"graph_Br7mTnqFgG\" class=\"graph\"></div> \n",
       "</div> \n",
       "</div> \n",
       "<script>\n",
       "var masonry = new Macy({\n",
       "    container: '#grid_L6pjmkfIxp',\n",
       "    debug: true,\n",
       "    mobileFirst: true,\n",
       "    columns: 1,\n",
       "    margin: {\n",
       "        x: 0,\n",
       "        y: 50\n",
       "    }\n",
       "  });\n",
       "\n",
       "  var traces_Br7mTnqFgG = [{\"name\":\"GwVgB4Tnc9\",\"type\":\"contour\",\"x\":[-9,-6,-5,-3,-1],\"y\":[0,1,4,5,7],\"z\":[[10,10.625,12.5,15.625,20],[5.625,6.25,8.125,11.25,15.625],[2.5,3.125,5,8.125,12.5],[0.625,1.25,3.125,6.25,10.625],[0,0.625,2.5,5.625,10]]}];\n",
       " var layout_Br7mTnqFgG = {\"height\":550,\"width\":600,\"hovermode\":\"closest\",\"title\":{\"text\":\"Contour\"},\"showlegend\":true};\n",
       " var config_Br7mTnqFgG = {\"responsive\":true,\"scrollZoom\":true,\"displaylogo\":false};\n",
       " Plotly.newPlot(\"graph_Br7mTnqFgG\", traces_Br7mTnqFgG, layout_Br7mTnqFgG, config_Br7mTnqFgG);\n",
       "</script> \n"
      ]
     },
     "metadata": {},
     "output_type": "display_data"
    }
   ],
   "source": [
    "// we flatten the nested list as we pass it into the Series constructor\n",
    "val series = XYZ(x=x, y=y, z=z.flatten, n=z(0).length).asType(CONTOUR)\n",
    "\n",
    "// set up the chart\n",
    "val chart_OR79 = Chart()\n",
    "            .addSeries(series)\n",
    "            .setTitle(\"Contour\")\n",
    "\n",
    "// plot the chart\n",
    "chart_OR79.plotInline"
   ]
  },
  {
   "cell_type": "markdown",
   "metadata": {},
   "source": [
    "#### Heatmap"
   ]
  },
  {
   "cell_type": "code",
   "execution_count": 44,
   "metadata": {
    "scrolled": false
   },
   "outputs": [],
   "source": [
    "// create a new nested list for the heatmap\n",
    "val z = List.range(1, 101).map(e => e + scala.util.Random.nextDouble()*100).grouped(10).toList"
   ]
  },
  {
   "cell_type": "code",
   "execution_count": 45,
   "metadata": {},
   "outputs": [
    {
     "data": {
      "text/html": [
       "<div id=\"grid-container_VircO3EgRj\" class=\"grid-container\" align=\"center\"> \n",
       "<div id=\"grid_VircO3EgRj\" class=\"grid\" align=\"center\"> \n",
       "<div id=\"graph_zlD8HWxQH1\" class=\"graph\"></div> \n",
       "</div> \n",
       "</div> \n",
       "<script>\n",
       "var masonry = new Macy({\n",
       "    container: '#grid_VircO3EgRj',\n",
       "    debug: true,\n",
       "    mobileFirst: true,\n",
       "    columns: 1,\n",
       "    margin: {\n",
       "        x: 0,\n",
       "        y: 50\n",
       "    }\n",
       "  });\n",
       "\n",
       "  var traces_zlD8HWxQH1 = [{\"name\":\"vdjjKG37eN\",\"type\":\"heatmap\",\"z\":[[74.89621155039814,44.00838353651768,32.963328765200174,103.46893503111922,5.802951721373423,35.052352752913364,31.801967671380588,105.27071013797433,98.79701214805283,36.65087088644121],[49.890125714612225,18.7887658736434,35.10540858439176,32.50655596566483,104.10811452435328,102.27146653818183,88.11478451208467,89.67182830160395,21.181898353599987,27.426906483981366],[55.88407520197633,48.52676324875682,122.4073646228511,113.36386031082066,107.5263441796081,74.1488716153778,117.85688618798086,30.831209758345523,75.0424728633511,36.81466556180686],[36.8168307189026,61.92737071994801,72.67758423027024,40.64243093997599,54.505452034564286,47.03324416848359,66.98443907790269,86.2801037613781,49.046385568152374,62.92925915572792],[52.51626821687426,136.0617623521926,137.22375341346202,53.88914058207037,110.4348222473717,48.20066546702565,92.72064723794303,80.9999894905682,140.30766703904564,60.356416360051256],[146.343565305061,64.04039085209088,58.982097522176744,132.3082769502093,104.16115544228362,64.95519511718473,154.66119731548588,102.48623898235147,96.53635604098085,102.29774860614201],[69.17104817263584,73.75593609978333,88.70689450347209,91.96729113172074,156.89615212766236,120.12309787468804,141.8697721150484,81.15134727632193,134.97360353419782,97.91767775600745],[112.65126079813936,79.58988563187359,96.07468839600128,152.53739964817763,118.3946239978564,95.11016717418275,102.46598009262206,134.97493907347302,175.87361166103102,148.83808486786634],[118.03016548672271,181.12254983627412,141.8405354464615,179.57397931740266,163.54025327606465,161.24240204878527,145.243519681326,146.5278365304622,99.71896131242382,177.01049094630645],[102.99832827622087,104.94086279492446,152.47847001216417,169.1864890690349,153.8758596790543,160.0774379513553,195.22392534460022,100.23141417176682,128.36733861393537,101.65347627633864]]}];\n",
       " var layout_zlD8HWxQH1 = {\"height\":550,\"width\":600,\"hovermode\":\"closest\",\"title\":{\"text\":\"Heatmap\"},\"showlegend\":true};\n",
       " var config_zlD8HWxQH1 = {\"responsive\":true,\"scrollZoom\":true,\"displaylogo\":false};\n",
       " Plotly.newPlot(\"graph_zlD8HWxQH1\", traces_zlD8HWxQH1, layout_zlD8HWxQH1, config_zlD8HWxQH1);\n",
       "</script> \n"
      ]
     },
     "metadata": {},
     "output_type": "display_data"
    }
   ],
   "source": [
    "// we get the length of an element of the nested list\n",
    "val n = z(0).length\n",
    "\n",
    "// we now flatten the list and pass it into Series constructor, as well as 'n', the length of an element so that the \n",
    "// heatmap dimensions are correctly constructed\n",
    "val series = XYZ(z=z.flatten, n=n) asType HEATMAP\n",
    "\n",
    "val chart_UL13 = Chart().addSeries(series).setTitle(\"Heatmap\")\n",
    "\n",
    "chart_UL13.plotInline"
   ]
  },
  {
   "cell_type": "markdown",
   "metadata": {},
   "source": [
    "#### Scatter3D"
   ]
  },
  {
   "cell_type": "code",
   "execution_count": 46,
   "metadata": {
    "scrolled": false
   },
   "outputs": [
    {
     "data": {
      "text/html": [
       "<div id=\"grid-container_4ssG1lFY3U\" class=\"grid-container\" align=\"center\"> \n",
       "<div id=\"grid_4ssG1lFY3U\" class=\"grid\" align=\"center\"> \n",
       "<div id=\"graph_RLtgToWOBu\" class=\"graph\"></div> \n",
       "</div> \n",
       "</div> \n",
       "<script>\n",
       "var masonry = new Macy({\n",
       "    container: '#grid_4ssG1lFY3U',\n",
       "    debug: true,\n",
       "    mobileFirst: true,\n",
       "    columns: 1,\n",
       "    margin: {\n",
       "        x: 0,\n",
       "        y: 50\n",
       "    }\n",
       "  });\n",
       "\n",
       "  var traces_RLtgToWOBu = [{\"name\":\"f7OkxranKE\",\"type\":\"scatter3d\",\"mode\":\"markers\",\"x\":[1,2,3,4,5,6,7,8,9,10,11,12,13,14,15,16,17,18,19,20,21,22,23,24,25,26,27,28,29,30,31,32,33,34,35,36,37,38,39,40,41,42,43,44,45,46,47,48,49,50,51,52,53,54,55,56,57,58,59,60,61,62,63,64,65,66,67,68,69,70,71,72,73,74,75,76,77,78,79,80,81,82,83,84,85,86,87,88,89,90,91,92,93,94,95,96,97,98,99],\"y\":[1,2,3,4,5,6,7,8,9,10,11,12,13,14,15,16,17,18,19,20,21,22,23,24,25,26,27,28,29,30,31,32,33,34,35,36,37,38,39,40,41,42,43,44,45,46,47,48,49,50,51,52,53,54,55,56,57,58,59,60,61,62,63,64,65,66,67,68,69,70,71,72,73,74,75,76,77,78,79,80,81,82,83,84,85,86,87,88,89,90,91,92,93,94,95,96,97,98,99],\"z\":[97.9587975769168,61.042029589567136,22.402745216725737,10.791360776751688,95.51849947017296,39.61458313268804,98.19196827035032,65.05352539870697,43.31396655623519,42.76195971068548,56.60145591770484,53.29589910930576,88.20022681249957,43.42092186427343,109.00577253797644,113.23149585668787,42.82418469739295,38.76173709798391,80.122608053041,102.7523902347626,74.958850404775,119.6257118759249,102.81369579460508,38.121698623858826,32.872418940193114,72.89169637848002,68.52051529803936,98.86676411502235,29.45256051928615,66.46937084872509,78.17425809752169,96.58123571873281,43.45080215291312,59.29304197769948,119.37655503358037,55.33190562341548,47.48135548105928,111.9903320665758,42.229526535474946,92.47954982401956,139.30338060404185,47.826018948956936,118.40071253848222,120.46123624721116,135.43508836526985,128.07200087838623,145.84047491854454,112.44489473875186,84.29273322057517,61.13018004512065,105.02654257388608,87.75513759112648,69.81696162799665,60.53584399160418,81.69231321152566,76.58274573412848,105.94361427451643,103.39484614556999,145.7026598613074,117.72834890540744,67.29556487381898,117.8587670105932,116.07292820106143,127.99424795023845,162.1166910454865,145.91790669741658,148.08389864073257,157.32650848748412,129.73863925313506,86.09286000996562,150.0275265953337,109.92283859626286,136.76556907928367,119.53106994968586,174.3252312037199,168.2599048706037,153.68160185288156,162.56568518282552,130.5926376927626,104.35718206951226,116.73016243419465,168.9696925031942,136.68162060561306,100.58259051210862,118.68406796277037,125.93918411885718,157.81258097462842,130.918505327122,126.51959184914202,149.26531658126987,183.61689372653595,172.84500361597574,94.02739787520004,185.205367576343,158.24152372057,129.86050019291184,123.03768685192111,169.23903336818188,109.6247778477805]}];\n",
       " var layout_RLtgToWOBu = {\"height\":550,\"width\":600,\"hovermode\":\"closest\",\"title\":{\"text\":\"3D Scatter Chart\"},\"showlegend\":true};\n",
       " var config_RLtgToWOBu = {\"responsive\":false,\"scrollZoom\":false,\"displaylogo\":false};\n",
       " Plotly.newPlot(\"graph_RLtgToWOBu\", traces_RLtgToWOBu, layout_RLtgToWOBu, config_RLtgToWOBu);\n",
       "</script> \n"
      ]
     },
     "metadata": {},
     "output_type": "display_data"
    }
   ],
   "source": [
    "val x = List.range(1, 100)\n",
    "val y = List.range(1, 100)\n",
    "val z = List.range(1, 100).map(e => e + scala.util.Random.nextDouble()*100)\n",
    "\n",
    "val series = XYZ(x, y, z).asType(SCATTER3D).drawStyle(MARKERS)\n",
    "val chart_HC98 = Chart() addSeries series setTitle \"3D Scatter Chart\" setConfig(false, false)\n",
    "val canvas = Canvas() addCharts chart_HC98\n",
    "canvas.plotInline"
   ]
  },
  {
   "cell_type": "markdown",
   "metadata": {},
   "source": [
    "#### 3D Line"
   ]
  },
  {
   "cell_type": "code",
   "execution_count": 47,
   "metadata": {},
   "outputs": [
    {
     "data": {
      "text/html": [
       "<div id=\"grid-container_qzJJH4AU5a\" class=\"grid-container\" align=\"center\"> \n",
       "<div id=\"grid_qzJJH4AU5a\" class=\"grid\" align=\"center\"> \n",
       "<div id=\"graph_t5xjiJeWDO\" class=\"graph\"></div> \n",
       "</div> \n",
       "</div> \n",
       "<script>\n",
       "var masonry = new Macy({\n",
       "    container: '#grid_qzJJH4AU5a',\n",
       "    debug: true,\n",
       "    mobileFirst: true,\n",
       "    columns: 1,\n",
       "    margin: {\n",
       "        x: 0,\n",
       "        y: 50\n",
       "    }\n",
       "  });\n",
       "\n",
       "  var traces_t5xjiJeWDO = [{\"name\":\"M2Q0oJI3Ge\",\"type\":\"scatter3d\",\"mode\":\"lines\",\"x\":[1,2,3,4,5,6,7,8,9,10,11,12,13,14,15,16,17,18,19,20,21,22,23,24,25,26,27,28,29,30,31,32,33,34,35,36,37,38,39,40,41,42,43,44,45,46,47,48,49,50,51,52,53,54,55,56,57,58,59,60,61,62,63,64,65,66,67,68,69,70,71,72,73,74,75,76,77,78,79,80,81,82,83,84,85,86,87,88,89,90,91,92,93,94,95,96,97,98,99],\"y\":[1,2,3,4,5,6,7,8,9,10,11,12,13,14,15,16,17,18,19,20,21,22,23,24,25,26,27,28,29,30,31,32,33,34,35,36,37,38,39,40,41,42,43,44,45,46,47,48,49,50,51,52,53,54,55,56,57,58,59,60,61,62,63,64,65,66,67,68,69,70,71,72,73,74,75,76,77,78,79,80,81,82,83,84,85,86,87,88,89,90,91,92,93,94,95,96,97,98,99],\"z\":[75.78540359533638,7.411508107336626,37.25618587071768,50.46869888277789,23.472815639301356,7.444268342404542,32.477437904658984,46.206470501344846,97.27409676800654,109.71068734988953,49.87331604258941,99.33593374722523,84.7199313040295,36.40564748327879,80.16115066755451,72.80430525234135,107.17343410274972,68.26468988903973,112.21950746370091,96.25065875660937,53.99496936578426,87.57286275447981,95.4049615714879,33.938348333286754,66.15432896385413,98.34993678615773,76.92197327469677,69.25128765644695,62.61605203094077,36.98410362022006,84.37835238030956,108.72351807579354,122.8432335930211,38.63703211499838,38.99073912102338,68.4346390720371,74.4096987897613,117.4189171442547,65.86166309546245,56.092081878891605,85.97991083630484,51.632990102420216,114.33168103285963,103.23438744696713,132.81060065759743,139.31468358651304,113.61717579334442,133.72800284156364,84.44750542237938,103.84146771975463,66.77643225713123,77.09333311703168,62.43528268706072,84.56514437691983,129.50360402689657,148.18414244551684,129.62806624751443,143.21913839428905,129.33225098547757,118.35757736327227,102.08276168932372,153.27916004538702,155.5371231349191,97.51046343269074,119.53663126203625,116.5063458630897,90.35496960677594,131.22076167606218,71.11532882698586,168.5777851624013,158.10204439259053,92.72132524046528,149.1869928860421,94.0101373307832,140.3481941690726,115.54646824981434,96.17259903439523,169.5077939107628,142.51427803244582,169.43002135447557,116.6422905668735,94.41782761950967,100.09181731005496,129.39693572483117,150.17191445955075,147.14980220248634,181.14072010678683,125.97869639053967,139.2035372302458,127.21919272760837,175.8030319673653,93.09617452988661,180.54826996050826,103.99907898322772,163.27764340072855,149.39171850485673,119.18920463085564,195.31543479949386,112.03291434329734]}];\n",
       " var layout_t5xjiJeWDO = {\"height\":550,\"width\":600,\"hovermode\":\"closest\",\"title\":{\"text\":\"3D Line Chart\"},\"showlegend\":true};\n",
       " var config_t5xjiJeWDO = {\"responsive\":false,\"scrollZoom\":false,\"displaylogo\":false};\n",
       " Plotly.newPlot(\"graph_t5xjiJeWDO\", traces_t5xjiJeWDO, layout_t5xjiJeWDO, config_t5xjiJeWDO);\n",
       "</script> \n"
      ]
     },
     "metadata": {},
     "output_type": "display_data"
    }
   ],
   "source": [
    "val x = List.range(1, 100)\n",
    "val y = List.range(1, 100)\n",
    "val z = List.range(1, 100).map(e => e + scala.util.Random.nextDouble()*100)\n",
    "\n",
    "val series = XYZ(x, y, z).asType(SCATTER3D).drawStyle(LINES)\n",
    "val chart_AF52 = Chart() addSeries series setTitle \"3D Line Chart\" setConfig(false, false)\n",
    "val canvas = Canvas() addCharts chart_AF52\n",
    "canvas.plotInline"
   ]
  },
  {
   "cell_type": "markdown",
   "metadata": {},
   "source": [
    "#### Surface Plot"
   ]
  },
  {
   "cell_type": "code",
   "execution_count": 48,
   "metadata": {
    "scrolled": false
   },
   "outputs": [
    {
     "data": {
      "text/html": [
       "<div id=\"grid-container_ASTABl1ftA\" class=\"grid-container\" align=\"center\"> \n",
       "<div id=\"grid_ASTABl1ftA\" class=\"grid\" align=\"center\"> \n",
       "<div id=\"graph_WgAN4UzjnY\" class=\"graph\"></div> \n",
       "</div> \n",
       "</div> \n",
       "<script>\n",
       "var masonry = new Macy({\n",
       "    container: '#grid_ASTABl1ftA',\n",
       "    debug: true,\n",
       "    mobileFirst: true,\n",
       "    columns: 1,\n",
       "    margin: {\n",
       "        x: 0,\n",
       "        y: 50\n",
       "    }\n",
       "  });\n",
       "\n",
       "  var traces_WgAN4UzjnY = [{\"name\":\"sVkjarbbJd\",\"type\":\"surface\",\"colorbar\":{\"title\":{\"text\":\"Altitude\",\"side\":\"right\"}},\"z\":[[8.83,8.89,8.81,8.87,8.9,8.87],[8.89,8.94,8.85,8.94,8.96,8.92],[8.84,8.9,8.82,8.92,8.93,8.91],[8.79,8.85,8.79,8.9,8.94,8.92],[8.79,8.88,8.81,8.9,8.95,8.92],[8.8,8.82,8.78,8.91,8.94,8.92],[8.75,8.78,8.77,8.91,8.95,8.92],[8.8,8.8,8.77,8.91,8.95,8.94],[8.74,8.81,8.76,8.93,8.98,8.99],[8.89,8.99,8.92,9.1,9.13,9.11],[8.97,8.97,8.91,9.09,9.11,9.11],[9.04,9.08,9.05,9.25,9.28,9.27],[9,9.01,9,9.2,9.23,9.2],[8.99,8.99,8.98,9.18,9.2,9.19],[8.93,8.97,8.97,9.18,9.2,9.18]]}];\n",
       " var layout_WgAN4UzjnY = {\"height\":550,\"width\":600,\"hovermode\":\"closest\",\"title\":{\"text\":\"Surface\"},\"showlegend\":true};\n",
       " var config_WgAN4UzjnY = {\"responsive\":true,\"scrollZoom\":true,\"displaylogo\":false};\n",
       " Plotly.newPlot(\"graph_WgAN4UzjnY\", traces_WgAN4UzjnY, layout_WgAN4UzjnY, config_WgAN4UzjnY);\n",
       "</script> \n"
      ]
     },
     "metadata": {},
     "output_type": "display_data"
    }
   ],
   "source": [
    "// 3d surface plot\n",
    "val k = List(\n",
    "    List(8.83,8.89,8.81,8.87,8.9,8.87),\n",
    "    List(8.89,8.94,8.85,8.94,8.96,8.92),\n",
    "    List(8.84,8.9,8.82,8.92,8.93,8.91),\n",
    "    List(8.79,8.85,8.79,8.9,8.94,8.92),\n",
    "    List(8.79,8.88,8.81,8.9,8.95,8.92),\n",
    "    List(8.8,8.82,8.78,8.91,8.94,8.92),\n",
    "    List(8.75,8.78,8.77,8.91,8.95,8.92),\n",
    "    List(8.8,8.8,8.77,8.91,8.95,8.94),\n",
    "    List(8.74,8.81,8.76,8.93,8.98,8.99),\n",
    "    List(8.89,8.99,8.92,9.1,9.13,9.11),\n",
    "    List(8.97,8.97,8.91,9.09,9.11,9.11),\n",
    "    List(9.04,9.08,9.05,9.25,9.28,9.27),\n",
    "    List(9,9.01,9,9.2,9.23,9.2),\n",
    "    List(8.99,8.99,8.98,9.18,9.2,9.19),\n",
    "    List(8.93,8.97,8.97,9.18,9.2,9.18)\n",
    "  )\n",
    "\n",
    "val series = XYZ(z=k.flatten, n = k(0).length) asType SURFACE setColorBar(\"Altitude\", RIGHT_SIDE)\n",
    "val chart_PU33 = Chart() addSeries series setTitle \"Surface\"\n",
    "\n",
    "chart_PU33.plotInline"
   ]
  },
  {
   "cell_type": "markdown",
   "metadata": {},
   "source": [
    "#### Third Dimension as Color"
   ]
  },
  {
   "cell_type": "code",
   "execution_count": 49,
   "metadata": {},
   "outputs": [
    {
     "data": {
      "text/html": [
       "<div id=\"grid-container_wcNhafyeJc\" class=\"grid-container\" align=\"center\"> \n",
       "<div id=\"grid_wcNhafyeJc\" class=\"grid\" align=\"center\"> \n",
       "<div id=\"graph_VoSkr7JeLf\" class=\"graph\"></div> \n",
       "</div> \n",
       "</div> \n",
       "<script>\n",
       "var masonry = new Macy({\n",
       "    container: '#grid_wcNhafyeJc',\n",
       "    debug: true,\n",
       "    mobileFirst: true,\n",
       "    columns: 1,\n",
       "    margin: {\n",
       "        x: 0,\n",
       "        y: 50\n",
       "    }\n",
       "  });\n",
       "\n",
       "  var traces_VoSkr7JeLf = [{\"name\":\"FKg1M9mcls\",\"type\":\"scatter\",\"mode\":\"markers\",\"marker\":{\"color\":[75.78540359533638,7.411508107336626,37.25618587071768,50.46869888277789,23.472815639301356,7.444268342404542,32.477437904658984,46.206470501344846,97.27409676800654,109.71068734988953,49.87331604258941,99.33593374722523,84.7199313040295,36.40564748327879,80.16115066755451,72.80430525234135,107.17343410274972,68.26468988903973,112.21950746370091,96.25065875660937,53.99496936578426,87.57286275447981,95.4049615714879,33.938348333286754,66.15432896385413,98.34993678615773,76.92197327469677,69.25128765644695,62.61605203094077,36.98410362022006,84.37835238030956,108.72351807579354,122.8432335930211,38.63703211499838,38.99073912102338,68.4346390720371,74.4096987897613,117.4189171442547,65.86166309546245,56.092081878891605,85.97991083630484,51.632990102420216,114.33168103285963,103.23438744696713,132.81060065759743,139.31468358651304,113.61717579334442,133.72800284156364,84.44750542237938,103.84146771975463,66.77643225713123,77.09333311703168,62.43528268706072,84.56514437691983,129.50360402689657,148.18414244551684,129.62806624751443,143.21913839428905,129.33225098547757,118.35757736327227,102.08276168932372,153.27916004538702,155.5371231349191,97.51046343269074,119.53663126203625,116.5063458630897,90.35496960677594,131.22076167606218,71.11532882698586,168.5777851624013,158.10204439259053,92.72132524046528,149.1869928860421,94.0101373307832,140.3481941690726,115.54646824981434,96.17259903439523,169.5077939107628,142.51427803244582,169.43002135447557,116.6422905668735,94.41782761950967,100.09181731005496,129.39693572483117,150.17191445955075,147.14980220248634,181.14072010678683,125.97869639053967,139.2035372302458,127.21919272760837,175.8030319673653,93.09617452988661,180.54826996050826,103.99907898322772,163.27764340072855,149.39171850485673,119.18920463085564,195.31543479949386,112.03291434329734],\"colorbar\":{\"title\":{\"text\":\"3rd Dimension\",\"side\":\"right\"}}},\"x\":[1,2,3,4,5,6,7,8,9,10,11,12,13,14,15,16,17,18,19,20,21,22,23,24,25,26,27,28,29,30,31,32,33,34,35,36,37,38,39,40,41,42,43,44,45,46,47,48,49,50,51,52,53,54,55,56,57,58,59,60,61,62,63,64,65,66,67,68,69,70,71,72,73,74,75,76,77,78,79,80,81,82,83,84,85,86,87,88,89,90,91,92,93,94,95,96,97,98,99],\"y\":[1,2,3,4,5,6,7,8,9,10,11,12,13,14,15,16,17,18,19,20,21,22,23,24,25,26,27,28,29,30,31,32,33,34,35,36,37,38,39,40,41,42,43,44,45,46,47,48,49,50,51,52,53,54,55,56,57,58,59,60,61,62,63,64,65,66,67,68,69,70,71,72,73,74,75,76,77,78,79,80,81,82,83,84,85,86,87,88,89,90,91,92,93,94,95,96,97,98,99]}];\n",
       " var layout_VoSkr7JeLf = {\"height\":550,\"width\":600,\"hovermode\":\"closest\",\"title\":{\"text\":\"Scatter With Color\"},\"showlegend\":false};\n",
       " var config_VoSkr7JeLf = {\"responsive\":true,\"scrollZoom\":true,\"displaylogo\":false};\n",
       " Plotly.newPlot(\"graph_VoSkr7JeLf\", traces_VoSkr7JeLf, layout_VoSkr7JeLf, config_VoSkr7JeLf);\n",
       "</script> \n"
      ]
     },
     "metadata": {},
     "output_type": "display_data"
    }
   ],
   "source": [
    "// multiple compositions can be used to create scatter charts with a color representing some third dimension\n",
    "val series = (\n",
    "    XY(x, y) \n",
    "    asType SCATTER \n",
    "    drawStyle MARKERS \n",
    "    setMarker marker \n",
    "    setColor z \n",
    "    setColorBar(\"3rd Dimension\", RIGHT_SIDE)\n",
    ")\n",
    "\n",
    "val chart_KL40 = Chart() addSeries series setTitle \"Scatter With Color\" showLegend false\n",
    "chart_KL40.plotInline"
   ]
  },
  {
   "cell_type": "markdown",
   "metadata": {},
   "source": [
    "#### Subplot\n",
    "\n",
    "The Subplot class can be used to generate subplots for an XYZ plots just as we did previously."
   ]
  },
  {
   "cell_type": "code",
   "execution_count": 50,
   "metadata": {
    "scrolled": false
   },
   "outputs": [
    {
     "data": {
      "text/html": [
       "<div id=\"grid-container_ImKevrp3zH\" class=\"grid-container\" align=\"center\"> \n",
       "<div id=\"grid_ImKevrp3zH\" class=\"grid\" align=\"center\"> \n",
       "<div id=\"graph_sxx0aT1eWq\" class=\"graph\"></div> \n",
       "<div id=\"graph_UVNpbQR8Yg\" class=\"graph\"></div> \n",
       "<div id=\"graph_Px8d1vUYcG\" class=\"graph\"></div> \n",
       "<div id=\"graph_px2dmm9iFe\" class=\"graph\"></div> \n",
       "<div id=\"graph_dPN5M2Khaq\" class=\"graph\"></div> \n",
       "<div id=\"graph_Z6tgtYnhiA\" class=\"graph\"></div> \n",
       "<div id=\"graph_BBWCFupS2q\" class=\"graph\"></div> \n",
       "<div id=\"graph_sgFsrXaOMD\" class=\"graph\"></div> \n",
       "</div> \n",
       "</div> \n",
       "\n",
       "<div align=\"center\">\n",
       "<button id = \"saveAsPNG_ImKevrp3zH\" class=\"picta-button\">Download Canvas as PNG</button>\n",
       "</div>\n",
       "<script>\n",
       "var masonry = new Macy({\n",
       "    container: '#grid_ImKevrp3zH',\n",
       "    debug: true,\n",
       "    mobileFirst: true,\n",
       "    columns: 2,\n",
       "    margin: {\n",
       "        x: 0,\n",
       "        y: 50\n",
       "    }\n",
       "  });\n",
       "\n",
       "  var traces_sxx0aT1eWq = [{\"name\":\"f7OkxranKE\",\"type\":\"scatter3d\",\"mode\":\"markers\",\"x\":[1,2,3,4,5,6,7,8,9,10,11,12,13,14,15,16,17,18,19,20,21,22,23,24,25,26,27,28,29,30,31,32,33,34,35,36,37,38,39,40,41,42,43,44,45,46,47,48,49,50,51,52,53,54,55,56,57,58,59,60,61,62,63,64,65,66,67,68,69,70,71,72,73,74,75,76,77,78,79,80,81,82,83,84,85,86,87,88,89,90,91,92,93,94,95,96,97,98,99],\"y\":[1,2,3,4,5,6,7,8,9,10,11,12,13,14,15,16,17,18,19,20,21,22,23,24,25,26,27,28,29,30,31,32,33,34,35,36,37,38,39,40,41,42,43,44,45,46,47,48,49,50,51,52,53,54,55,56,57,58,59,60,61,62,63,64,65,66,67,68,69,70,71,72,73,74,75,76,77,78,79,80,81,82,83,84,85,86,87,88,89,90,91,92,93,94,95,96,97,98,99],\"z\":[97.9587975769168,61.042029589567136,22.402745216725737,10.791360776751688,95.51849947017296,39.61458313268804,98.19196827035032,65.05352539870697,43.31396655623519,42.76195971068548,56.60145591770484,53.29589910930576,88.20022681249957,43.42092186427343,109.00577253797644,113.23149585668787,42.82418469739295,38.76173709798391,80.122608053041,102.7523902347626,74.958850404775,119.6257118759249,102.81369579460508,38.121698623858826,32.872418940193114,72.89169637848002,68.52051529803936,98.86676411502235,29.45256051928615,66.46937084872509,78.17425809752169,96.58123571873281,43.45080215291312,59.29304197769948,119.37655503358037,55.33190562341548,47.48135548105928,111.9903320665758,42.229526535474946,92.47954982401956,139.30338060404185,47.826018948956936,118.40071253848222,120.46123624721116,135.43508836526985,128.07200087838623,145.84047491854454,112.44489473875186,84.29273322057517,61.13018004512065,105.02654257388608,87.75513759112648,69.81696162799665,60.53584399160418,81.69231321152566,76.58274573412848,105.94361427451643,103.39484614556999,145.7026598613074,117.72834890540744,67.29556487381898,117.8587670105932,116.07292820106143,127.99424795023845,162.1166910454865,145.91790669741658,148.08389864073257,157.32650848748412,129.73863925313506,86.09286000996562,150.0275265953337,109.92283859626286,136.76556907928367,119.53106994968586,174.3252312037199,168.2599048706037,153.68160185288156,162.56568518282552,130.5926376927626,104.35718206951226,116.73016243419465,168.9696925031942,136.68162060561306,100.58259051210862,118.68406796277037,125.93918411885718,157.81258097462842,130.918505327122,126.51959184914202,149.26531658126987,183.61689372653595,172.84500361597574,94.02739787520004,185.205367576343,158.24152372057,129.86050019291184,123.03768685192111,169.23903336818188,109.6247778477805]}];\n",
       " var layout_sxx0aT1eWq = {\"height\":350,\"width\":350,\"hovermode\":\"closest\",\"title\":{\"text\":\"3D Scatter Chart\"},\"showlegend\":true,\"margin\":{\"l\":50,\"r\":50,\"t\":50,\"b\":50}};\n",
       " var config_sxx0aT1eWq = {\"responsive\":false,\"scrollZoom\":false,\"displaylogo\":false};\n",
       " Plotly.newPlot(\"graph_sxx0aT1eWq\", traces_sxx0aT1eWq, layout_sxx0aT1eWq, config_sxx0aT1eWq);\n",
       "\n",
       "  var traces_UVNpbQR8Yg = [{\"name\":\"M2Q0oJI3Ge\",\"type\":\"scatter3d\",\"mode\":\"lines\",\"x\":[1,2,3,4,5,6,7,8,9,10,11,12,13,14,15,16,17,18,19,20,21,22,23,24,25,26,27,28,29,30,31,32,33,34,35,36,37,38,39,40,41,42,43,44,45,46,47,48,49,50,51,52,53,54,55,56,57,58,59,60,61,62,63,64,65,66,67,68,69,70,71,72,73,74,75,76,77,78,79,80,81,82,83,84,85,86,87,88,89,90,91,92,93,94,95,96,97,98,99],\"y\":[1,2,3,4,5,6,7,8,9,10,11,12,13,14,15,16,17,18,19,20,21,22,23,24,25,26,27,28,29,30,31,32,33,34,35,36,37,38,39,40,41,42,43,44,45,46,47,48,49,50,51,52,53,54,55,56,57,58,59,60,61,62,63,64,65,66,67,68,69,70,71,72,73,74,75,76,77,78,79,80,81,82,83,84,85,86,87,88,89,90,91,92,93,94,95,96,97,98,99],\"z\":[75.78540359533638,7.411508107336626,37.25618587071768,50.46869888277789,23.472815639301356,7.444268342404542,32.477437904658984,46.206470501344846,97.27409676800654,109.71068734988953,49.87331604258941,99.33593374722523,84.7199313040295,36.40564748327879,80.16115066755451,72.80430525234135,107.17343410274972,68.26468988903973,112.21950746370091,96.25065875660937,53.99496936578426,87.57286275447981,95.4049615714879,33.938348333286754,66.15432896385413,98.34993678615773,76.92197327469677,69.25128765644695,62.61605203094077,36.98410362022006,84.37835238030956,108.72351807579354,122.8432335930211,38.63703211499838,38.99073912102338,68.4346390720371,74.4096987897613,117.4189171442547,65.86166309546245,56.092081878891605,85.97991083630484,51.632990102420216,114.33168103285963,103.23438744696713,132.81060065759743,139.31468358651304,113.61717579334442,133.72800284156364,84.44750542237938,103.84146771975463,66.77643225713123,77.09333311703168,62.43528268706072,84.56514437691983,129.50360402689657,148.18414244551684,129.62806624751443,143.21913839428905,129.33225098547757,118.35757736327227,102.08276168932372,153.27916004538702,155.5371231349191,97.51046343269074,119.53663126203625,116.5063458630897,90.35496960677594,131.22076167606218,71.11532882698586,168.5777851624013,158.10204439259053,92.72132524046528,149.1869928860421,94.0101373307832,140.3481941690726,115.54646824981434,96.17259903439523,169.5077939107628,142.51427803244582,169.43002135447557,116.6422905668735,94.41782761950967,100.09181731005496,129.39693572483117,150.17191445955075,147.14980220248634,181.14072010678683,125.97869639053967,139.2035372302458,127.21919272760837,175.8030319673653,93.09617452988661,180.54826996050826,103.99907898322772,163.27764340072855,149.39171850485673,119.18920463085564,195.31543479949386,112.03291434329734]}];\n",
       " var layout_UVNpbQR8Yg = {\"height\":350,\"width\":350,\"hovermode\":\"closest\",\"title\":{\"text\":\"3D Line Chart\"},\"showlegend\":true,\"margin\":{\"l\":50,\"r\":50,\"t\":50,\"b\":50}};\n",
       " var config_UVNpbQR8Yg = {\"responsive\":false,\"scrollZoom\":false,\"displaylogo\":false};\n",
       " Plotly.newPlot(\"graph_UVNpbQR8Yg\", traces_UVNpbQR8Yg, layout_UVNpbQR8Yg, config_UVNpbQR8Yg);\n",
       "\n",
       "  var traces_Px8d1vUYcG = [{\"name\":\"sVkjarbbJd\",\"type\":\"surface\",\"colorbar\":{\"title\":{\"text\":\"Altitude\",\"side\":\"right\"}},\"z\":[[8.83,8.89,8.81,8.87,8.9,8.87],[8.89,8.94,8.85,8.94,8.96,8.92],[8.84,8.9,8.82,8.92,8.93,8.91],[8.79,8.85,8.79,8.9,8.94,8.92],[8.79,8.88,8.81,8.9,8.95,8.92],[8.8,8.82,8.78,8.91,8.94,8.92],[8.75,8.78,8.77,8.91,8.95,8.92],[8.8,8.8,8.77,8.91,8.95,8.94],[8.74,8.81,8.76,8.93,8.98,8.99],[8.89,8.99,8.92,9.1,9.13,9.11],[8.97,8.97,8.91,9.09,9.11,9.11],[9.04,9.08,9.05,9.25,9.28,9.27],[9,9.01,9,9.2,9.23,9.2],[8.99,8.99,8.98,9.18,9.2,9.19],[8.93,8.97,8.97,9.18,9.2,9.18]]}];\n",
       " var layout_Px8d1vUYcG = {\"height\":350,\"width\":350,\"hovermode\":\"closest\",\"title\":{\"text\":\"Surface\"},\"showlegend\":true,\"margin\":{\"l\":50,\"r\":50,\"t\":50,\"b\":50}};\n",
       " var config_Px8d1vUYcG = {\"responsive\":true,\"scrollZoom\":true,\"displaylogo\":false};\n",
       " Plotly.newPlot(\"graph_Px8d1vUYcG\", traces_Px8d1vUYcG, layout_Px8d1vUYcG, config_Px8d1vUYcG);\n",
       "\n",
       "  var traces_px2dmm9iFe = [{\"name\":\"FKg1M9mcls\",\"type\":\"scatter\",\"mode\":\"markers\",\"marker\":{\"color\":[75.78540359533638,7.411508107336626,37.25618587071768,50.46869888277789,23.472815639301356,7.444268342404542,32.477437904658984,46.206470501344846,97.27409676800654,109.71068734988953,49.87331604258941,99.33593374722523,84.7199313040295,36.40564748327879,80.16115066755451,72.80430525234135,107.17343410274972,68.26468988903973,112.21950746370091,96.25065875660937,53.99496936578426,87.57286275447981,95.4049615714879,33.938348333286754,66.15432896385413,98.34993678615773,76.92197327469677,69.25128765644695,62.61605203094077,36.98410362022006,84.37835238030956,108.72351807579354,122.8432335930211,38.63703211499838,38.99073912102338,68.4346390720371,74.4096987897613,117.4189171442547,65.86166309546245,56.092081878891605,85.97991083630484,51.632990102420216,114.33168103285963,103.23438744696713,132.81060065759743,139.31468358651304,113.61717579334442,133.72800284156364,84.44750542237938,103.84146771975463,66.77643225713123,77.09333311703168,62.43528268706072,84.56514437691983,129.50360402689657,148.18414244551684,129.62806624751443,143.21913839428905,129.33225098547757,118.35757736327227,102.08276168932372,153.27916004538702,155.5371231349191,97.51046343269074,119.53663126203625,116.5063458630897,90.35496960677594,131.22076167606218,71.11532882698586,168.5777851624013,158.10204439259053,92.72132524046528,149.1869928860421,94.0101373307832,140.3481941690726,115.54646824981434,96.17259903439523,169.5077939107628,142.51427803244582,169.43002135447557,116.6422905668735,94.41782761950967,100.09181731005496,129.39693572483117,150.17191445955075,147.14980220248634,181.14072010678683,125.97869639053967,139.2035372302458,127.21919272760837,175.8030319673653,93.09617452988661,180.54826996050826,103.99907898322772,163.27764340072855,149.39171850485673,119.18920463085564,195.31543479949386,112.03291434329734],\"colorbar\":{\"title\":{\"text\":\"3rd Dimension\",\"side\":\"right\"}}},\"x\":[1,2,3,4,5,6,7,8,9,10,11,12,13,14,15,16,17,18,19,20,21,22,23,24,25,26,27,28,29,30,31,32,33,34,35,36,37,38,39,40,41,42,43,44,45,46,47,48,49,50,51,52,53,54,55,56,57,58,59,60,61,62,63,64,65,66,67,68,69,70,71,72,73,74,75,76,77,78,79,80,81,82,83,84,85,86,87,88,89,90,91,92,93,94,95,96,97,98,99],\"y\":[1,2,3,4,5,6,7,8,9,10,11,12,13,14,15,16,17,18,19,20,21,22,23,24,25,26,27,28,29,30,31,32,33,34,35,36,37,38,39,40,41,42,43,44,45,46,47,48,49,50,51,52,53,54,55,56,57,58,59,60,61,62,63,64,65,66,67,68,69,70,71,72,73,74,75,76,77,78,79,80,81,82,83,84,85,86,87,88,89,90,91,92,93,94,95,96,97,98,99]}];\n",
       " var layout_px2dmm9iFe = {\"height\":350,\"width\":350,\"hovermode\":\"closest\",\"title\":{\"text\":\"Scatter With Color\"},\"showlegend\":false,\"margin\":{\"l\":50,\"r\":50,\"t\":50,\"b\":50}};\n",
       " var config_px2dmm9iFe = {\"responsive\":true,\"scrollZoom\":true,\"displaylogo\":false};\n",
       " Plotly.newPlot(\"graph_px2dmm9iFe\", traces_px2dmm9iFe, layout_px2dmm9iFe, config_px2dmm9iFe);\n",
       "\n",
       "  var traces_dPN5M2Khaq = [{\"name\":\"vdjjKG37eN\",\"type\":\"heatmap\",\"z\":[[74.89621155039814,44.00838353651768,32.963328765200174,103.46893503111922,5.802951721373423,35.052352752913364,31.801967671380588,105.27071013797433,98.79701214805283,36.65087088644121],[49.890125714612225,18.7887658736434,35.10540858439176,32.50655596566483,104.10811452435328,102.27146653818183,88.11478451208467,89.67182830160395,21.181898353599987,27.426906483981366],[55.88407520197633,48.52676324875682,122.4073646228511,113.36386031082066,107.5263441796081,74.1488716153778,117.85688618798086,30.831209758345523,75.0424728633511,36.81466556180686],[36.8168307189026,61.92737071994801,72.67758423027024,40.64243093997599,54.505452034564286,47.03324416848359,66.98443907790269,86.2801037613781,49.046385568152374,62.92925915572792],[52.51626821687426,136.0617623521926,137.22375341346202,53.88914058207037,110.4348222473717,48.20066546702565,92.72064723794303,80.9999894905682,140.30766703904564,60.356416360051256],[146.343565305061,64.04039085209088,58.982097522176744,132.3082769502093,104.16115544228362,64.95519511718473,154.66119731548588,102.48623898235147,96.53635604098085,102.29774860614201],[69.17104817263584,73.75593609978333,88.70689450347209,91.96729113172074,156.89615212766236,120.12309787468804,141.8697721150484,81.15134727632193,134.97360353419782,97.91767775600745],[112.65126079813936,79.58988563187359,96.07468839600128,152.53739964817763,118.3946239978564,95.11016717418275,102.46598009262206,134.97493907347302,175.87361166103102,148.83808486786634],[118.03016548672271,181.12254983627412,141.8405354464615,179.57397931740266,163.54025327606465,161.24240204878527,145.243519681326,146.5278365304622,99.71896131242382,177.01049094630645],[102.99832827622087,104.94086279492446,152.47847001216417,169.1864890690349,153.8758596790543,160.0774379513553,195.22392534460022,100.23141417176682,128.36733861393537,101.65347627633864]]}];\n",
       " var layout_dPN5M2Khaq = {\"height\":350,\"width\":350,\"hovermode\":\"closest\",\"title\":{\"text\":\"Heatmap\"},\"showlegend\":true,\"margin\":{\"l\":50,\"r\":50,\"t\":50,\"b\":50}};\n",
       " var config_dPN5M2Khaq = {\"responsive\":true,\"scrollZoom\":true,\"displaylogo\":false};\n",
       " Plotly.newPlot(\"graph_dPN5M2Khaq\", traces_dPN5M2Khaq, layout_dPN5M2Khaq, config_dPN5M2Khaq);\n",
       "\n",
       "  var traces_Z6tgtYnhiA = [{\"name\":\"GwVgB4Tnc9\",\"type\":\"contour\",\"x\":[-9,-6,-5,-3,-1],\"y\":[0,1,4,5,7],\"z\":[[10,10.625,12.5,15.625,20],[5.625,6.25,8.125,11.25,15.625],[2.5,3.125,5,8.125,12.5],[0.625,1.25,3.125,6.25,10.625],[0,0.625,2.5,5.625,10]]}];\n",
       " var layout_Z6tgtYnhiA = {\"height\":350,\"width\":350,\"hovermode\":\"closest\",\"title\":{\"text\":\"Contour\"},\"showlegend\":true,\"margin\":{\"l\":50,\"r\":50,\"t\":50,\"b\":50}};\n",
       " var config_Z6tgtYnhiA = {\"responsive\":true,\"scrollZoom\":true,\"displaylogo\":false};\n",
       " Plotly.newPlot(\"graph_Z6tgtYnhiA\", traces_Z6tgtYnhiA, layout_Z6tgtYnhiA, config_Z6tgtYnhiA);\n",
       "\n",
       "  var traces_BBWCFupS2q = [{\"name\":\"points\",\"type\":\"scatter\",\"mode\":\"markers\",\"marker\":{\"color\":\"rgb(102.0, 0.0, 0.0)\"},\"x\":[1,2,3,4,5,6,7,8,9,10,11,12,13,14,15,16,17,18,19,20,21,22,23,24,25,26,27,28,29,30,31,32,33,34,35,36,37,38,39,40,41,42,43,44,45,46,47,48,49],\"y\":[39.4108773566109,86.22941924567459,38.656263418074886,10.154115605157084,20.19198896930881,84.17974974793862,28.355216442173898,64.90375284305782,36.99519379910001,54.42735549741747,64.1233714159178,53.654485787115014,41.42747209469789,49.8900848229626,88.57465418568101,39.290306874935595,114.68265505041897,73.79982325511139,74.78091894828043,28.316843116689874,80.03600075649065,71.50540925981493,24.80879030850609,65.29016468247795,99.38999731456781,118.79703750869614,97.98185941673837,45.33233524257892,70.92767546845312,61.72343191184471,67.41866547442852,81.58973105651218,49.32421647000171,74.29891291552197,53.10389337693261,133.72854728032132,129.98723074347723,52.54821599401771,95.08227069059186,63.42508355205746,74.44051186893864,56.01272710678828,111.32167951835234,133.2967649149035,105.23572888699721,141.14256246927005,131.37400513515254,106.83308519055116,65.6709638788885]},{\"name\":\"density\",\"type\":\"histogram2dcontour\",\"ncontours\":20,\"reversescale\":false,\"showscale\":true,\"x\":[1,2,3,4,5,6,7,8,9,10,11,12,13,14,15,16,17,18,19,20,21,22,23,24,25,26,27,28,29,30,31,32,33,34,35,36,37,38,39,40,41,42,43,44,45,46,47,48,49],\"y\":[39.4108773566109,86.22941924567459,38.656263418074886,10.154115605157084,20.19198896930881,84.17974974793862,28.355216442173898,64.90375284305782,36.99519379910001,54.42735549741747,64.1233714159178,53.654485787115014,41.42747209469789,49.8900848229626,88.57465418568101,39.290306874935595,114.68265505041897,73.79982325511139,74.78091894828043,28.316843116689874,80.03600075649065,71.50540925981493,24.80879030850609,65.29016468247795,99.38999731456781,118.79703750869614,97.98185941673837,45.33233524257892,70.92767546845312,61.72343191184471,67.41866547442852,81.58973105651218,49.32421647000171,74.29891291552197,53.10389337693261,133.72854728032132,129.98723074347723,52.54821599401771,95.08227069059186,63.42508355205746,74.44051186893864,56.01272710678828,111.32167951835234,133.2967649149035,105.23572888699721,141.14256246927005,131.37400513515254,106.83308519055116,65.6709638788885]},{\"name\":\"histogram\",\"type\":\"histogram\",\"yaxis\":\"y2\",\"x\":[1,2,3,4,5,6,7,8,9,10,11,12,13,14,15,16,17,18,19,20,21,22,23,24,25,26,27,28,29,30,31,32,33,34,35,36,37,38,39,40,41,42,43,44,45,46,47,48,49]},{\"name\":\"y density\",\"type\":\"histogram\",\"xaxis\":\"x2\",\"marker\":{\"color\":\"rgb(102.0, 0.0, 0.0)\"},\"y\":[39.4108773566109,86.22941924567459,38.656263418074886,10.154115605157084,20.19198896930881,84.17974974793862,28.355216442173898,64.90375284305782,36.99519379910001,54.42735549741747,64.1233714159178,53.654485787115014,41.42747209469789,49.8900848229626,88.57465418568101,39.290306874935595,114.68265505041897,73.79982325511139,74.78091894828043,28.316843116689874,80.03600075649065,71.50540925981493,24.80879030850609,65.29016468247795,99.38999731456781,118.79703750869614,97.98185941673837,45.33233524257892,70.92767546845312,61.72343191184471,67.41866547442852,81.58973105651218,49.32421647000171,74.29891291552197,53.10389337693261,133.72854728032132,129.98723074347723,52.54821599401771,95.08227069059186,63.42508355205746,74.44051186893864,56.01272710678828,111.32167951835234,133.2967649149035,105.23572888699721,141.14256246927005,131.37400513515254,106.83308519055116,65.6709638788885]}];\n",
       " var layout_BBWCFupS2q = {\"height\":350,\"width\":350,\"hovermode\":\"closest\",\"title\":{\"text\":\"2D Histogram Contour With Density\"},\"showlegend\":false,\"autosize\":false,\"margin\":{\"l\":50,\"r\":50,\"t\":50,\"b\":50},\"xaxis\":{\"showgrid\":false,\"zeroline\":false,\"showline\":false,\"domain\":[0,0.85]},\"yaxis\":{\"showgrid\":false,\"zeroline\":false,\"showline\":false,\"domain\":[0,0.85]},\"xaxis2\":{\"showgrid\":false,\"zeroline\":false,\"showline\":false,\"domain\":[0.85,1]},\"yaxis2\":{\"showgrid\":false,\"zeroline\":false,\"showline\":false,\"domain\":[0.85,1]}};\n",
       " var config_BBWCFupS2q = {\"responsive\":true,\"scrollZoom\":true,\"displaylogo\":false};\n",
       " Plotly.newPlot(\"graph_BBWCFupS2q\", traces_BBWCFupS2q, layout_BBWCFupS2q, config_BBWCFupS2q);\n",
       "\n",
       "  var traces_sgFsrXaOMD = [{\"name\":\"NWMA600UQu\",\"type\":\"histogram\",\"histfunc\":\"count\",\"x\":[\"Apples\",\"Apples\",\"Apples\",\"Oranges\",\"Bananas\"],\"y\":[\"5\",\"10\",\"3\",\"10\",\"5\"]},{\"name\":\"leplUMntCk\",\"type\":\"histogram\",\"histfunc\":\"sum\",\"x\":[\"Apples\",\"Apples\",\"Apples\",\"Oranges\",\"Bananas\"],\"y\":[\"5\",\"10\",\"3\",\"10\",\"5\"]}];\n",
       " var layout_sgFsrXaOMD = {\"height\":350,\"width\":350,\"hovermode\":\"closest\",\"title\":{\"text\":\"Histogram - Specify Binning Function\"},\"showlegend\":true,\"margin\":{\"l\":50,\"r\":50,\"t\":50,\"b\":50}};\n",
       " var config_sgFsrXaOMD = {\"responsive\":true,\"scrollZoom\":true,\"displaylogo\":false};\n",
       " Plotly.newPlot(\"graph_sgFsrXaOMD\", traces_sgFsrXaOMD, layout_sgFsrXaOMD, config_sgFsrXaOMD);\n",
       "\n",
       "var save_ImKevrp3zH = document.getElementById(\"saveAsPNG_ImKevrp3zH\")\n",
       "save_ImKevrp3zH.onclick = async function() {\n",
       "    const grid = document.getElementById(\"grid-container_ImKevrp3zH\")\n",
       "    const graphs = grid.getElementsByClassName(\"graph\")\n",
       "\n",
       "    const images = []\n",
       "\n",
       "    const rows = 4\n",
       "    const cols = 2\n",
       "    const img_width = 400\n",
       "    const img_height = 400\n",
       "    var margin = 50\n",
       "\n",
       "    for (var i=0; i<rows; i++) {\n",
       "      for (var j=0; j<cols; j++) {\n",
       "        const image = await Plotly.toImage(graphs[i * cols + j], {format: 'png', width: img_width, height: img_height})\n",
       "        images.push(image);\n",
       "      }\n",
       "    }\n",
       "\n",
       "    const positioned_images = []\n",
       "\n",
       "        for (var i=0; i<rows; i++) {\n",
       "            for (var j=0; j<cols; j++) {\n",
       "\n",
       "                const obj = {\n",
       "                    \"src\": images[i*cols + j],\n",
       "                    x: j*img_width+margin,\n",
       "                    y: i*img_height+margin\n",
       "                }\n",
       "\n",
       "                positioned_images.push(obj)\n",
       "            }\n",
       "        }\n",
       "\n",
       "        mergeImages(positioned_images, {\n",
       "            width: img_width*cols+60, height: img_height*rows+60\n",
       "        })\n",
       "        .then(b64 => {\n",
       "            var a = document.createElement(\"a\");\n",
       "            a.href = b64;\n",
       "            a.download = \"Image.png\";\n",
       "            a.click();\n",
       "            a.remove()\n",
       "        });\n",
       "}\n",
       "</script> \n"
      ]
     },
     "metadata": {},
     "output_type": "display_data"
    }
   ],
   "source": [
    "// it may be necessary to play around with the chart dimensions and margin  in order to ensure a good fit on screen.\n",
    "val dim = 350\n",
    "\n",
    "// The canvas has an underlying grid. By default the underlying grid is 1x1, but we can pass in the dimensions we \n",
    "// require by passing in parameters in the constructor.\n",
    "Canvas(4, 2)\n",
    ".setChart(0, 0, chart_HC98.setDimensions(width = dim, height = dim).setMargin(l=50, r=50, t=50, b=50))\n",
    ".setChart(0, 1, chart_AF52.setDimensions(width = dim, height = dim)setMargin(l=50, r=50, t=50, b=50))\n",
    ".setChart(1, 0, chart_PU33.setDimensions(width = dim, height = dim)setMargin(l=50, r=50, t=50, b=50))\n",
    ".setChart(1, 1, chart_KL40.setDimensions(width = dim, height = dim)setMargin(l=50, r=50, t=50, b=50))\n",
    ".setChart(2, 0, chart_UL13.setDimensions(width = dim, height = dim)setMargin(l=50, r=50, t=50, b=50))\n",
    ".setChart(2, 1, chart_OR79.setDimensions(width = dim, height = dim)setMargin(l=50, r=50, t=50, b=50))\n",
    ".setChart(3, 0, chart_BS64.setDimensions(width = dim, height = dim)setMargin(l=50, r=50, t=50, b=50))\n",
    ".setChart(3, 1, chart_XM71.setDimensions(width = dim, height = dim)setMargin(l=50, r=50, t=50, b=50))\n",
    ".plotInline"
   ]
  },
  {
   "cell_type": "markdown",
   "metadata": {},
   "source": [
    "#### Map\n",
    "\n",
    "We can also create maps using the composition technique below."
   ]
  },
  {
   "cell_type": "code",
   "execution_count": 45,
   "metadata": {},
   "outputs": [],
   "source": [
    "import org.carbonateresearch.picta.options.{Margin, Line}\n",
    "import org.carbonateresearch.picta.Map"
   ]
  },
  {
   "cell_type": "code",
   "execution_count": 46,
   "metadata": {},
   "outputs": [
    {
     "data": {
      "text/html": [
       "<div id=\"grid-container_85N0SjgzFO\" class=\"grid-container\" align=\"center\"> \n",
       "<div id=\"grid_85N0SjgzFO\" class=\"grid\" align=\"center\"> \n",
       "<div id=\"graph_EhB8xdFW1f\" class=\"graph\"></div> \n",
       "</div> \n",
       "</div> \n",
       "<script>\n",
       "var masonry = new Macy({\n",
       "    container: '#grid_85N0SjgzFO',\n",
       "    debug: true,\n",
       "    mobileFirst: true,\n",
       "    columns: 1,\n",
       "    margin: {\n",
       "        x: 0,\n",
       "        y: 50\n",
       "    }\n",
       "  });\n",
       "\n",
       "  var traces_EhB8xdFW1f = [{\"name\":\"4cerPPvXAF\",\"lat\":[40.7127,51.5072],\"lon\":[-74.0059,0.1275],\"type\":\"scattergeo\",\"mode\":\"lines\",\"line\":{\"width\":2,\"color\":\"red\"}}];\n",
       " var layout_EhB8xdFW1f = {\"height\":550,\"width\":600,\"hovermode\":\"closest\",\"title\":{\"text\":\"Map\"},\"showlegend\":false,\"geo\":{\"resolution\":50,\"showland\":true,\"showlakes\":true,\"coastlinewidth\":2,\"landcolor\":\"rgb(204.0, 204.0, 204.0)\",\"lakecolor\":\"rgb(255.0, 255.0, 255.0)\",\"lataxis\":{\"range\":[20,60],\"showgrid\":true,\"dtick\":10},\"lonaxis\":{\"range\":[-100,20],\"showgrid\":true,\"dtick\":10}}};\n",
       " var config_EhB8xdFW1f = {\"responsive\":false,\"scrollZoom\":false,\"displaylogo\":false};\n",
       " Plotly.newPlot(\"graph_EhB8xdFW1f\", traces_EhB8xdFW1f, layout_EhB8xdFW1f, config_EhB8xdFW1f);\n",
       "</script> \n"
      ]
     },
     "metadata": {},
     "output_type": "display_data"
    }
   ],
   "source": [
    "// draw a line on the map that is red\n",
    "val line = Line(width = 2) setColor \"red\"\n",
    "\n",
    "// construct the map Series. It is an XY chart as it takes in a List of Longitude and Latitude\n",
    "val series = Map(List(40.7127, 51.5072), List(-74.0059, 0.1275)) drawSymbol LINES drawLine line\n",
    "\n",
    "// These are options that further specify the options for the map\n",
    "val geo = MapOptions(landcolor = RGB(204, 204, 204), lakecolor = RGB(255, 255, 255))\n",
    "              .setMapAxes(LatAxis(List(20, 60)), LongAxis(List(-100, 20)))\n",
    "\n",
    "val chart_UW56 = (\n",
    "    Chart()\n",
    "    addSeries series\n",
    "    setConfig(false, false)\n",
    "    setMapOptions geo\n",
    "//     setMargin(l=0, r=0, t=0, b=0)\n",
    "    showLegend false\n",
    "    setTitle \"Map\"\n",
    ")\n",
    "\n",
    "chart_UW56.plotInline"
   ]
  },
  {
   "cell_type": "markdown",
   "metadata": {},
   "source": [
    "### Animated Charts\n",
    "\n",
    "We can also create animated charts. This can be useful for tracking the evolution of a data over time.\n",
    "\n",
    "All `Series` types should be supported.\n",
    "\n",
    "#### 2D Animated Chart"
   ]
  },
  {
   "cell_type": "code",
   "execution_count": 47,
   "metadata": {},
   "outputs": [],
   "source": [
    "import org.carbonateresearch.picta.ColorOptions._\n",
    "\n",
    "def genRangeRandomInt(min: Int = 0, max: Int = 10000) = min + (max - min) * scala.util.Random.nextInt()\n",
    "def genRangeRandomDouble(min: Double = 0.0, max: Double = 10000.0) = min + (max - min) * scala.util.Random.nextDouble()\n",
    "\n",
    "// creates random XY for testing purposes\n",
    "def createXYSeries[T: Color]\n",
    "(numberToCreate: Int, count: Int = 0, length: Int = 10): List[XY[Double, Double, T, T]] = {\n",
    "    if (count == numberToCreate) Nil\n",
    "    else {\n",
    "      val xs = List.range(0, length).map(x => genRangeRandomDouble())\n",
    "      val ys = xs.map(x => genRangeRandomDouble())\n",
    "      val series = XY(x = xs, y = ys, name = \"series \" + count).drawMarkers\n",
    "      series :: createXYSeries(numberToCreate, count + 1, length)\n",
    "    }\n",
    "}\n",
    "\n",
    "def createXYZSeries(numberToCreate: Int, count: Int = 0, length: Int = 10): List[XYZ[Double, Double, Double]] = {\n",
    "    if (count == numberToCreate) Nil\n",
    "    else {\n",
    "      val xs = List.range(0, length).map(x => genRangeRandomDouble())\n",
    "      val ys = xs.map(x => genRangeRandomDouble())\n",
    "      val zs = xs.map(x => genRangeRandomDouble())\n",
    "      val series = XYZ(x = xs, y = ys, z = zs, name = \"series \" + count, `type` = SCATTER3D).drawMarkers\n",
    "      series :: createXYZSeries(numberToCreate, count + 1, length)\n",
    "    }\n",
    "}"
   ]
  },
  {
   "cell_type": "code",
   "execution_count": 48,
   "metadata": {
    "scrolled": false
   },
   "outputs": [
    {
     "data": {
      "text/html": [
       "<div id=\"grid-container_KAtwiYoama\" class=\"grid-container\" align=\"center\"> \n",
       "<div id=\"grid_KAtwiYoama\" class=\"grid\" align=\"center\"> \n",
       "\n",
       "<div align=\"center\">\n",
       "  <div id=\"graph_gUwcRk0UJM\" class=\"graph\"></div>\n",
       "  <div class=\"animationInterface\">\n",
       "    <button id=\"play_gUwcRk0UJM\" class=\"picta-button\">&#9658</button>\n",
       "    <button id=\"pause_gUwcRk0UJM\" class=\"picta-button\">&#9616;&#9616;</button>\n",
       "    <button id=\"prev_gUwcRk0UJM\" class=\"picta-button\"><</button>\n",
       "    <button id=\"next_gUwcRk0UJM\" class=\"picta-button\">></button>\n",
       "\n",
       "    <div id=\"sliderContainer_gUwcRk0UJM\" class=\"progressBar\"></div>\n",
       "    <div id=\"counterContainer_gUwcRk0UJM\" class=\"inline-div\">\n",
       "        <h3>Frame: </h3> <h3 id=\"value_gUwcRk0UJM\">0</h3>\n",
       "    </div>\n",
       "   </div>\n",
       "</div> \n",
       "\n",
       "</div> \n",
       "</div> \n",
       "<script>\n",
       "var masonry = new Macy({\n",
       "    container: '#grid_KAtwiYoama',\n",
       "    debug: true,\n",
       "    mobileFirst: true,\n",
       "    columns: 1,\n",
       "    margin: {\n",
       "        x: 0,\n",
       "        y: 50\n",
       "    }\n",
       "  });\n",
       "\n",
       "var graph_gUwcRk0UJM = document.getElementById('graph_gUwcRk0UJM')\n",
       "\n",
       "var layout_gUwcRk0UJM = {\"height\":550,\"width\":600,\"hovermode\":\"closest\",\"title\":{\"text\":\"Animation XY\"},\"showlegend\":true,\"xaxis\":{\"title\":{\"text\":\"X Variable\"},\"showgrid\":true,\"zeroline\":false,\"showline\":false,\"range\":[0,10000]},\"yaxis\":{\"title\":{\"text\":\"Y Variable\"},\"showgrid\":true,\"zeroline\":false,\"showline\":false,\"range\":[0,10000]}}\n",
       "var frames_gUwcRk0UJM = [{\"name\":\"series 0 (F0)\",\"data\":[{\"name\":\"series 0 (F0)\",\"type\":\"scatter\",\"mode\":\"markers\",\"x\":[7354.502899467546,9881.697333339464,1582.1885779761324,7375.023739522457,9236.10156082922,917.6672991367029,2495.8626511741545,1920.4766695945618,4020.980347915052,664.9349814811079,5382.076632097172,2842.251385168064,2783.5344388243975,9924.453005737563,4753.773579527887,444.05715688277894,5890.246250236279,9297.548775552052,3729.5388949879125,2639.733181828421,9995.584691793983,2631.182459957324,19.161806958762906,5850.730439183352,4209.0184232814945,1481.928394364428,6809.833694324283,6100.329145653386,556.7376045198457,4982.531914353872],\"y\":[1513.494509355786,64.41463254915125,8676.137113982617,12.466869897284072,4681.537419085123,2137.469469303257,1058.0609309401202,1154.0053022773034,7301.292195491415,8933.761515573064,3091.262891093899,8557.878267056616,7159.404368578635,7067.543713937939,1665.496482622848,4547.6939989726625,3990.4328089432815,3542.398906015143,7154.08861199404,6559.852563954823,8724.69384009287,628.7019997211585,6223.820165977099,4845.776287248062,4307.578192030639,8719.492350271874,7109.375338802164,8255.853346161213,4283.273891701007,1328.8794055400033]}]},{\"name\":\"series 1 (F1)\",\"data\":[{\"name\":\"series 1 (F1)\",\"type\":\"scatter\",\"mode\":\"markers\",\"x\":[4741.583490324301,379.568269262377,619.0334100040961,6133.435715886554,433.1279267658306,1333.8743964409161,4091.816171388373,4755.855570951096,9702.3484141125,7571.938748297656,8967.356325514214,1851.4849339127536,2255.218743563182,3226.9672754389935,8672.394601793245,982.1651068962267,147.53041404142797,1710.901833727183,694.0236747665784,748.1454499053098,3713.774869948394,5555.350237880041,7035.799853036774,9697.666859391047,9976.157546561752,5812.197483364332,1218.4708118715116,2645.128002879814,4936.641487213465,9723.915571629037],\"y\":[4033.882020405033,4202.588601305118,9406.864633347344,6828.675748059953,8043.816066661819,7565.683961567358,7845.231064948432,9182.941159329608,5161.233662875957,7893.856165012373,1047.4280305239702,964.2921760185774,2559.580251469994,9986.133570706754,6476.07440733434,6359.825957668656,9626.526885852887,9377.522771466485,4517.159293689315,2350.533792485681,2711.7199362362876,4467.397964171977,5015.382947933639,4769.656758605442,5013.815506510377,4840.108984090449,6067.465508187794,1843.0806535847012,6110.277055317841,7549.34986229898]}]},{\"name\":\"series 2 (F2)\",\"data\":[{\"name\":\"series 2 (F2)\",\"type\":\"scatter\",\"mode\":\"markers\",\"x\":[6241.938276706489,9312.420786713466,9354.116655666243,8811.66539225038,2145.893926122794,5196.522315450228,5644.968606270886,3290.7928416341315,5573.616575584164,264.6760418273941,8927.581587986808,6953.372699533834,8348.968009017506,2374.9359310696295,2179.0196745284775,2337.883870951035,8412.865808973156,8973.492674544685,2616.5713210380272,7002.490055003902,7709.130356938668,2256.1437513575734,1391.5575092754684,6903.811162426332,986.4443140966283,5760.476931245116,6129.947247518464,6507.463843957779,4761.106701045917,9487.456817381526],\"y\":[4338.877707552825,6542.537784990304,7374.734688739159,3043.6910306836885,1918.8906275532813,8486.010980110756,4332.998170236616,2750.722992791732,3804.8943459343186,2099.426590515787,7925.945868132305,9185.280732337513,3104.5622229723035,8638.988245182061,6507.419510621739,6194.488284042108,1011.0881715457365,7721.557123378595,6750.514531832134,1072.6232880099085,2237.9153098990455,252.85940812350694,1697.9942682987692,8291.084605566562,9756.262978136114,3310.547158326549,8491.020445959806,5940.808803471034,8211.975790265378,5423.574724705416]}]},{\"name\":\"series 3 (F3)\",\"data\":[{\"name\":\"series 3 (F3)\",\"type\":\"scatter\",\"mode\":\"markers\",\"x\":[2286.5160459895296,4876.457184328125,7556.425843593044,2300.6918468703084,7062.925317034397,5444.266882074376,7146.898689771012,3734.672538044045,9766.095263164954,5630.5440903531235,5855.099789989667,2145.233191638879,1561.4511783793716,7485.351204599424,5568.117072582426,2022.4194434301035,8835.595687347348,5756.018777987824,3874.3853621192325,7393.57066824463,7029.907959837709,3807.694438800491,6697.892883807881,1360.7956833045275,2390.681134787607,7113.211179227818,3177.080952203546,7742.227725757474,284.7832070390477,3862.1473995106903],\"y\":[3180.5853775140945,9899.145141467592,3856.778321841493,5569.016222200786,2510.1753119931705,5942.3856558852785,3492.9085928428317,7953.11150001978,2061.9458217573283,2685.296229838443,5809.27291248117,3817.605390658755,5000.024538637255,2946.79740129178,696.0126854279669,5173.081172289698,342.75510696999413,2106.970280136321,6326.247947015735,1430.752209217243,2269.5260069654178,178.89256963167898,4977.974839170376,4133.206265301979,1927.1122786232274,5084.289470747642,7019.080728881489,6395.584215459332,2547.6028011582275,1306.8886824257709]}]},{\"name\":\"series 4 (F4)\",\"data\":[{\"name\":\"series 4 (F4)\",\"type\":\"scatter\",\"mode\":\"markers\",\"x\":[6470.090641354432,6997.686554246715,9285.69144007043,5646.19292902894,9186.207131058269,4897.574315298846,2341.3085107455236,8405.71970183836,3889.6643024003274,9829.812914701397,5654.275270009641,4023.5795213149704,7035.3670892925775,8606.583859203263,3740.8685516123273,9889.593958753394,4807.2368580314005,4757.466027910625,6087.88014177812,5891.9853003297185,9419.645682607685,1223.770559187949,1927.9670573876883,97.99379181027024,2337.7659435925257,1965.8859047163114,8190.78354760864,7896.6095774154555,4032.619619473721,8547.172466595228],\"y\":[9957.593937274341,2917.932224545404,8451.067275542286,2025.5231687551588,5842.768591543426,8092.502432154971,507.92181648439015,8813.780758040899,383.76405142091505,4325.274296434717,6596.832929777774,1562.7879941762624,1741.8966266642644,2432.726211191808,1368.5393268371704,2575.916051314554,5799.42049219136,1227.940684663149,8839.534689169614,7781.505030792398,7084.119894608301,937.3021151900962,2271.1538036907373,3869.7169007969746,2860.8363811249606,6493.802350003427,5198.53030668084,9842.890286423666,9200.047552708043,9675.756735418785]}]},{\"name\":\"series 5 (F5)\",\"data\":[{\"name\":\"series 5 (F5)\",\"type\":\"scatter\",\"mode\":\"markers\",\"x\":[5490.839085144231,6933.556460779704,6866.823221133857,2546.0800438340834,5388.680583918207,7611.859714957352,469.17925640503677,7196.078223291584,3091.4267995456366,5234.198126918408,6463.065503643676,8409.062103544753,5656.792652797985,777.4848093304188,4331.9140943403245,6532.89777391124,8726.855546449382,2058.5021953974115,541.8859594396874,7586.9514676322815,5909.200265901229,3855.4045754294775,6719.653439613693,6427.705585408848,9518.810603122696,4428.49800082153,1907.7601843486448,6658.654518171831,4825.794918578648,5080.009558643669],\"y\":[3723.304397027706,7893.916751609403,1955.9736607285638,4597.631709767433,4778.890020407701,6971.326481762622,3155.819874978797,9694.20782060594,8820.501292221474,4759.597963447806,8260.189465578997,5886.0038584816,5695.149729784759,4315.482643871199,7890.737717310008,644.5865262014072,5481.854490213347,9320.666974893673,2164.8637286858484,2112.408972325521,9902.715161665568,3964.4895861312534,2509.4874393175437,2189.7820931163083,3476.539295391716,6737.3793595936395,5550.906257054478,2380.988300717134,7785.6922590518725,961.2502463770389]}]},{\"name\":\"series 6 (F6)\",\"data\":[{\"name\":\"series 6 (F6)\",\"type\":\"scatter\",\"mode\":\"markers\",\"x\":[991.4414797689631,4429.870552349496,9697.53951038532,4306.913247390826,9885.52987015137,5480.311506942019,8415.052796005944,8034.892317103625,5792.374172074993,9264.590997454163,6826.8565432071,4244.865598354657,8909.217490369067,652.6943977756616,9785.194064814847,6030.274005648464,2478.75699772794,788.2136964259246,5660.99543635335,1108.4716720561817,1516.1723667621363,3991.5717360399362,7808.431968231666,4233.1210676300625,6215.689959016507,5628.867904673366,9417.044444199253,7494.360728181463,6273.561064162659,2224.7319975176947],\"y\":[8637.741330540659,473.60503911889174,7803.785129251355,1240.1389413303766,839.6546894951784,4143.660882816871,1524.8626123270215,8141.229762587377,1388.0571294344625,3391.176653582146,9460.310727384773,2652.747853712856,5429.238238938348,3087.264442865303,7522.637694053497,4419.787595890502,826.4453215496959,1743.4668277690857,3039.9117007529876,694.1282240681268,6611.693736327461,4964.066866444604,9536.028361195926,5116.499155586235,2101.4604654220316,8142.0670419101825,5890.21806855091,7183.709792635134,1169.9713022581705,4144.992534372347]}]},{\"name\":\"series 7 (F7)\",\"data\":[{\"name\":\"series 7 (F7)\",\"type\":\"scatter\",\"mode\":\"markers\",\"x\":[3378.302828065225,6569.646503093007,2081.999038224428,7098.002615983909,2037.652762936918,5111.722929623114,5757.793512964999,7795.618766954707,7299.754862568591,1979.4452175165034,4375.963787404472,9759.711228965029,8898.752530057462,4309.335194748758,7815.840516483094,7510.210153596509,6691.273740188427,6420.526783891138,7599.047492043892,226.33712807017204,2212.314000418093,5617.935581561478,6710.712745974154,4649.9785782578865,543.8951007147008,1544.9753612071904,8963.954976829058,819.1576217455188,4387.677373303653,9065.374779470341],\"y\":[3416.9863664414856,3018.3770594669236,1109.6460651295947,1733.726387693977,7760.368847729104,6193.94954669753,3964.460793249671,4056.976380150068,9562.671561917237,5006.243160442759,708.9953250871616,5954.143160755752,5795.976674683391,8677.112675240578,6379.0568946922285,2089.131459058942,9158.384552515869,9839.60478190427,2130.2250641597243,2081.5827978384236,4368.870082283946,9708.359615907591,8733.203922246123,4993.288851042854,8830.55112253489,5062.957164078883,1566.0310274511946,2942.7631707696146,9841.626991749497,4772.784628743376]}]},{\"name\":\"series 8 (F8)\",\"data\":[{\"name\":\"series 8 (F8)\",\"type\":\"scatter\",\"mode\":\"markers\",\"x\":[3759.946255499811,4218.1530292176885,4878.948898212425,4890.828306329176,5532.669014359355,5838.744976564974,2387.3932121237694,1705.1266451737968,682.2935420273191,9157.901980610033,7978.902803561398,1560.441109371179,5716.956569778878,9805.340015702654,4978.272016291465,4749.036455178883,3159.893491023057,5034.239297428465,8848.448606987886,8318.288181903335,8196.44434873101,7368.757978213643,2186.335888087848,9254.160445936615,7019.029393904815,3340.091163811819,700.7713130154381,5173.429479265167,5978.06734532205,54.30765146733463],\"y\":[867.57302490304,4393.854952484769,2961.2551146109245,352.76074329316896,6802.237558653828,1050.3261082414251,6300.593068719687,9405.959113052924,7299.0824095279495,3786.3439770966233,1945.981223640082,1724.3544466220274,3956.329439286308,8474.023073333945,6646.172908241672,7774.584834292759,7839.824596719084,6402.1293460289035,3442.3225598681984,3657.2896794570597,5233.795123817725,9420.492883006702,5906.314887832978,5632.688716479869,2685.2494043039687,2640.470605191908,9245.522607824318,3672.6992201240814,7769.326589683989,3464.9527167204687]}]},{\"name\":\"series 9 (F9)\",\"data\":[{\"name\":\"series 9 (F9)\",\"type\":\"scatter\",\"mode\":\"markers\",\"x\":[9647.585765659389,4673.438526684179,4786.1043015431505,2957.743648894423,8053.263409838035,6479.543689596766,3945.0802099942985,1860.9684868728748,922.359114471849,8451.810978737069,8501.742374890522,8930.49203045207,8497.177667339196,2952.243166075528,6781.348511749845,3683.156484803527,569.9186050681349,4825.6641066748825,5058.237612675668,9135.982407503308,824.8725702861049,2724.6432061180903,2854.6986138929788,2666.2960194857865,3453.230669814611,6954.549081977529,4381.62527126287,4733.079188408819,9927.779103276654,3408.1261011798],\"y\":[8563.890059973113,5873.667686872573,9576.697929223023,2114.074110225984,5376.573052553726,2126.246777840447,4910.138378975344,1941.679427767532,8063.881221189857,7827.425388605577,1530.207782062475,83.63188796258636,9220.802867044755,2595.4960525573556,2894.4395669744417,6081.735923814898,3688.240933407351,6233.818153665571,2204.7864244144844,5365.303478895369,2745.5701789056807,1275.0850300974969,7258.618957065542,6539.595631895545,2180.2750654409288,7936.07293641122,9225.172772657039,9991.753442991576,1472.5155663891221,363.7859655395015]}]},{\"name\":\"series 10 (F10)\",\"data\":[{\"name\":\"series 10 (F10)\",\"type\":\"scatter\",\"mode\":\"markers\",\"x\":[3000.335544603593,2774.2448634228513,2553.182521541737,6227.750942811224,5044.621885233313,6180.92393670099,4377.2015290076715,3949.5347250217437,4423.63319848032,7948.381359830912,3899.5491087817245,3159.3908189855547,4147.2554129290265,595.3450765458346,4949.645971039466,4331.269530273111,2843.303383778789,1055.4613224722166,3970.499062176832,2971.2483481342,1303.2651707411792,4463.872190044294,5622.165020269151,2220.777232522183,4502.26200139893,6725.578804813967,1844.8087094431053,5284.950385811717,7322.288031614442,6323.659870129625],\"y\":[5134.838772193745,5707.355476638068,1397.2481327438502,5717.991127011709,508.30020557840805,9186.869624887953,1250.2618859124136,6640.191578164761,908.9103089203287,5368.105263085106,208.1644357386714,1608.1014769944725,7663.825854134734,1836.0372496010236,455.07408687166406,6063.169570813772,998.4331476069664,5406.665621305964,7026.364223556893,1676.7130286923348,5592.155655461573,7729.403422804118,2546.3180118644777,1576.0845664223255,2690.4769461331525,3203.202890458541,8077.204450785366,2509.3653690115834,3384.080461430483,7257.259462062609]}]},{\"name\":\"series 11 (F11)\",\"data\":[{\"name\":\"series 11 (F11)\",\"type\":\"scatter\",\"mode\":\"markers\",\"x\":[5574.467893119491,7297.273576953002,7324.206993380226,2158.4690778360714,9132.170308955143,3313.5662975896876,7364.043600438742,5681.632468266887,5454.78508903455,9190.278839122515,3399.1460452093447,5214.737097030046,8805.891028698315,2461.733143696522,8025.61402275447,6170.467827039319,2061.2684084225784,5441.322007733722,2542.9347040697035,8936.431901019494,3433.353857056821,5267.651523413455,4299.110924274691,3020.4089309904416,7935.960839260917,6761.704980227555,5408.901809051032,533.2634496011124,3722.6306663026708,3504.2705243341034],\"y\":[8471.696549543187,3700.988872550531,6058.925070767505,3372.949205767781,7073.755297365992,2708.6785146870207,5878.431091835598,9670.641421354525,7580.245418466103,853.0448710419913,5624.20038389178,7932.487604598555,4005.7093999190643,3716.442552796856,2391.7921106633776,1515.8146639657043,9597.30526196182,7874.169960201246,7267.0545656423765,6157.720876481826,7173.356769302399,2508.1633583587413,191.21818154823723,4827.508124574772,5230.461561767552,4224.01292333304,1687.8405166130628,9406.24912020495,8365.602520462297,1354.5701858374737]}]},{\"name\":\"series 12 (F12)\",\"data\":[{\"name\":\"series 12 (F12)\",\"type\":\"scatter\",\"mode\":\"markers\",\"x\":[6350.584168004604,4993.356505390421,8655.416434785047,9082.23779855615,8117.7729207625225,5970.094491773258,9292.968856882617,823.3592347405605,4049.1137496212814,342.5589912183069,3003.098004018745,4491.9605723401355,1571.9363604429805,341.72425865601764,5540.584058779114,4496.42015409596,3978.7450213526845,2775.7328850334893,8921.10883582042,1621.4683488218873,334.8373400068283,2209.689605171509,9943.170690132882,3309.254236934731,8894.196358781228,3690.788003995751,7029.828169883365,6277.03824057252,7623.811824503671,9441.689024838988],\"y\":[2452.3398720169844,1895.3981418085552,1501.045515594207,5712.634862687065,7593.480619519442,2299.669389436256,3875.6030664769423,1812.8735174284627,6066.5110238986,1818.6635883579538,8377.132572585682,3234.5374724293065,3226.4825668891895,3978.5360498860887,8601.419911762187,4737.201457960509,893.7641438881427,9076.009322652746,5122.6030571879555,7278.92490104861,2955.378707200901,1113.9774531978496,3255.789686743901,4759.658343730333,917.9396337751966,5753.852595570902,433.8985000818951,2685.473390519907,8456.683915356563,2862.8373767764847]}]},{\"name\":\"series 13 (F13)\",\"data\":[{\"name\":\"series 13 (F13)\",\"type\":\"scatter\",\"mode\":\"markers\",\"x\":[9064.517571606597,1067.1544275089161,538.2983277581344,8220.63846159412,9297.010673384886,8134.269675085192,5790.939089264496,8998.96369801231,6257.063507298895,9775.909855059985,453.05233486470866,6738.473470734014,7995.312513912713,2011.8731832377168,8453.296068790727,9721.682272611386,3648.6529365888755,253.14217777081538,4957.081812662096,3876.641837449819,6127.274897962616,9628.082625265037,60.942594248968305,7645.056087330001,17.429521203083944,5230.869360308453,5224.147760713026,1609.8128199398898,3329.3832396892585,9791.225916341824],\"y\":[7497.682477907035,8100.743952551642,1221.9645708054738,8969.637417152351,5643.915280824236,9483.752103755665,899.569412514396,1249.7810975337386,7835.979493717946,6387.270653211891,9504.437062755746,229.98900166463443,2784.0977650729037,8731.353448206779,1016.4663346252312,2008.1442989768416,4856.780531282598,3098.518725690287,3924.7926554098476,9309.482752101236,9048.036533163106,9721.796162442803,8749.800643496445,7024.354866285442,3487.4298720135157,1164.2587710636333,3371.1984796285587,903.0780045916042,5598.028242743105,2625.648171453194]}]},{\"name\":\"series 14 (F14)\",\"data\":[{\"name\":\"series 14 (F14)\",\"type\":\"scatter\",\"mode\":\"markers\",\"x\":[4557.23698447278,2297.5907887264157,2977.986035687257,735.5267587062142,6092.103824890422,7044.694155949572,1614.709304323294,3678.7232936089886,7462.983303376895,5853.24775396256,2136.2546199768663,547.6633679862608,2195.219108832431,6887.762341081119,9462.815361372654,1927.5048158897557,1613.4729778593348,8633.413850315925,2441.8507418203585,6893.826578758966,8058.727791468868,2582.575951136825,7833.623055576791,3838.949576354853,1405.4323578914752,800.5512296969187,7359.599511327624,3841.790546748608,4100.040419162059,3008.2569866224608],\"y\":[7434.391020248327,5657.485310554722,2881.6509657286115,1462.19935985336,8672.593287982329,826.8421980375163,9847.40687520577,9617.14916745809,6295.107694401737,5892.011373621934,1589.7635962962843,2324.5108065562094,3155.2116911496255,6253.5913354692475,2759.695649565942,1149.4498023101307,4262.863869058875,2815.7173083712796,9599.355682368358,8282.432162719411,5406.421848047532,8239.501444352767,9739.657471238226,6475.893201831857,8754.158526872778,4361.532425886645,6872.710031680846,454.3447158550906,5163.668501977303,6132.9585548969435]}]},{\"name\":\"series 15 (F15)\",\"data\":[{\"name\":\"series 15 (F15)\",\"type\":\"scatter\",\"mode\":\"markers\",\"x\":[2785.9784649825083,7326.299351770393,6335.451043758587,296.01647308142407,4684.500265379713,9668.972329960883,9917.66840923259,8938.688254488558,2729.4447207480534,5161.797724849199,7202.275093647518,9054.504926239224,1285.7489904408449,912.3758271064409,6148.419318034967,9283.333513377383,7498.522170950749,8948.543151133768,2127.222035140516,4120.323380864181,2507.3604313029805,1742.8411212984818,5002.738032421446,4054.0066206311985,3859.6694170851465,3090.729527970214,3947.1115798690903,7330.880181005088,2498.5414555324437,181.4750999791892],\"y\":[733.6394190534689,5342.62662732554,4077.694031849517,7280.721194930892,8159.656850787743,8993.452130911688,2295.420942277905,86.3228387308379,2721.8679541465563,7828.856860429816,1441.4664764937202,2524.109617501894,9699.940959653217,7193.474890878902,6415.184930106898,4517.817536838244,4399.8961271817125,1234.451147639758,1100.3005949461863,97.5091699762598,5467.014968629787,1178.1508884806192,171.03384219779971,103.37608872966975,4898.700777057138,8981.82577530938,5156.317879167872,2696.9049511999897,4670.930118444926,6198.187315624282]}]},{\"name\":\"series 16 (F16)\",\"data\":[{\"name\":\"series 16 (F16)\",\"type\":\"scatter\",\"mode\":\"markers\",\"x\":[2903.2788529499985,7908.9520514768,1737.6289206264917,6689.66738435441,3458.104988830111,9534.365604070817,1570.5179878306008,9690.475478005965,4821.889281921398,8825.35974293829,5377.669886229343,6638.387493286815,4040.9764298519867,9640.931166710394,7672.228709959774,1184.527420158462,7655.801001104399,3977.18160325654,8958.439426201383,6838.2412293271855,9659.158356899303,133.49212995953042,2960.343369304942,815.4761007830502,1804.3006471759638,3162.0699465889747,9039.196420766102,5832.917454981742,9355.2022006311,8703.468462518396],\"y\":[8228.869736052782,3826.4595864116422,5185.798232436101,6828.258141509913,5664.196580696871,6871.415114315868,6511.942818197079,2085.104703875558,3085.433363682455,943.194718526127,1479.2989972626558,9598.090633330792,2572.7010044362564,7581.019915350919,7332.312773498345,4761.189811841945,6697.482669078963,7003.556922385484,7953.888513407067,5845.388113373513,873.9521181943577,3774.189839822699,6192.326477139337,4664.0182373626185,851.1120486678802,2724.9770516113126,5581.543147557667,334.4556838227386,2007.4249454408377,8522.166353443155]}]},{\"name\":\"series 17 (F17)\",\"data\":[{\"name\":\"series 17 (F17)\",\"type\":\"scatter\",\"mode\":\"markers\",\"x\":[6812.544376973032,5129.401285951517,7392.82083037899,6992.4684350095085,6628.576541733928,9428.551887813868,8308.67122620141,128.1206274675728,693.3320467544013,4861.5436738000835,4624.51993803477,9550.09583924256,7421.03965886206,875.6248887605556,2001.066344230228,5132.647695901111,6759.225928426122,166.59605153850345,9722.097436954535,6478.699588336013,6479.3800582063595,2679.134935177231,5933.771888603144,4984.424490163639,8657.717073778636,6212.697584136599,6747.856700015328,3342.6866281393986,717.6781725241487,4061.7702145643407],\"y\":[1886.2273095761839,7508.837895518439,8657.766950688567,6574.319434428901,2327.138437466152,3388.7030433238483,4902.770796472846,4029.8712838040383,4759.480887550988,6807.401825821744,9593.367330229798,2818.723611279982,3559.4398081960276,678.9964622754452,2068.575460317695,5546.376916581136,3474.6751886251004,7720.771174532199,8797.456010181279,8392.34735932231,5234.344612467273,542.2856141813448,5080.926121986113,5820.100669318339,1898.9986411791804,3488.167987752774,471.50195584777623,3564.927625788532,5922.573238960313,2224.945399161904]}]},{\"name\":\"series 18 (F18)\",\"data\":[{\"name\":\"series 18 (F18)\",\"type\":\"scatter\",\"mode\":\"markers\",\"x\":[2048.2357141623143,5719.155998029592,5619.414309159666,7736.0307719821985,5436.0722842698815,689.1771969807392,5012.4688248330285,1125.323767170383,773.2950108927195,3816.336619877365,2884.4798061889796,4428.699525633675,9707.692065036286,1533.824283183798,5262.229717251273,493.99884101927086,9941.521785773866,3074.2692812854166,534.5715868301593,1913.9506107475713,5847.311077408174,947.8306463382136,7938.20238541356,4982.79369684187,7240.974271047489,678.1482340960954,8240.823312307062,9696.19144625265,3525.690657637125,3613.596696518303],\"y\":[109.54539306720412,925.3552256914344,7109.437450750658,4023.8662719437466,6873.094432733473,9070.129809754784,8251.019635285755,3146.9699181298647,6169.578208009888,732.1150111271635,3303.899251983704,8369.353490978396,9317.277416553554,1247.7283997599775,9704.076292228592,5301.867808587946,8154.127321219087,1282.442744308634,3987.725092937976,4156.935572373261,4562.260588810827,9111.258923769987,3626.246311717897,9537.325804430202,1927.1824835278405,8696.803182408046,9530.846436135875,4514.526699557978,8376.855381477166,1225.26688569801]}]},{\"name\":\"series 19 (F19)\",\"data\":[{\"name\":\"series 19 (F19)\",\"type\":\"scatter\",\"mode\":\"markers\",\"x\":[3705.7085102913165,5704.786071492259,8804.17277577449,4371.732014739256,5718.273817181974,5943.46644891948,6397.001604697716,9240.259624409224,2407.1034608066775,5113.438006629581,4683.181057291937,9660.439332732945,7562.247538786038,7700.816139441456,7943.565279130285,2320.9312355251777,2189.995383770518,7731.421484734845,1254.401367763397,9081.858377836948,1413.3400021296761,7883.924352553358,1391.037497334493,4731.735512686567,1061.440701612102,9780.7089884476,6358.158646874112,4440.947443907176,5565.818022460021,6725.075990072805],\"y\":[4407.451015057614,5212.6209129424,8907.974899668236,8483.474897590368,3061.7995936169086,4743.058957383668,2052.582602755065,104.0380832851917,4885.824455982723,9277.737415861377,3552.3320571061,3217.7688952917947,9525.76814372241,9285.18919975268,4824.995927954353,8786.310537062502,887.4464349434829,8069.9314417018795,7980.207275939099,4840.300948267198,4229.178186867867,3806.920087886111,2012.9077636874372,1394.9007590121876,417.3152201183028,9903.838921753802,2682.375700810701,7434.155041734518,3625.1954375135274,2083.8667002766133]}]},{\"name\":\"series 20 (F20)\",\"data\":[{\"name\":\"series 20 (F20)\",\"type\":\"scatter\",\"mode\":\"markers\",\"x\":[2460.195268824745,1623.429239970986,4352.041843365605,3130.387545287997,9557.480965404458,9239.241436115984,1796.5417515727422,7846.439655079681,9231.128033254228,2698.3816830733076,8340.532502730364,1455.5262483478316,6320.805193533284,2023.3009752190324,4181.434175293739,4406.741019870078,5282.8703385516665,4598.317355412262,1997.7628601494512,5345.987380883167,2864.3310810861676,651.2730756919304,9940.270602948995,1876.399506262627,8999.433868558346,2037.8512711797148,6211.953298357571,5654.899989990278,3513.41392383246,7110.841150965064],\"y\":[33.37514927396534,4358.16176665957,9782.393538086208,3724.2156334724964,1885.4621358638956,8100.06196543803,1625.368827349718,5751.966875955916,580.1157838033688,1994.0517302564265,6393.677208072587,5894.21985728471,5929.706683565052,9727.68836765671,5475.292230673914,8998.226077173224,3569.7065134829177,5252.908611586643,3245.7450101427144,5639.415569448728,2834.423404917491,994.4440568988999,6874.425587641206,5287.759815166721,9494.00599015244,1340.1176894053547,2334.46718625692,2027.285982550613,2631.5847373329184,9600.575187033937]}]},{\"name\":\"series 21 (F21)\",\"data\":[{\"name\":\"series 21 (F21)\",\"type\":\"scatter\",\"mode\":\"markers\",\"x\":[6466.376388712381,3501.650538231499,8972.626989946659,5112.346798872537,1010.0154958484775,5526.264324949047,8574.27780174955,4706.952525562743,2146.5080180336436,637.5391839934052,2940.6670765876474,9380.098686028128,8281.079554820602,8742.400649417683,350.8650167344329,2668.8376615416996,9549.810722798424,1986.2937783367386,3469.3728839584614,1980.894477199412,4847.720998140197,3975.48490628965,1154.732961656707,7919.18662762426,6052.566456262602,5569.540416411684,9790.05421589064,9505.899380908717,4558.177202925878,5602.441654816431],\"y\":[9429.945705490949,5134.299539217385,2233.1212870881022,5095.873955211089,6591.554810619631,62.80222413720282,7484.929624436226,7795.806757311422,8613.114086691065,1314.6345767576095,7237.075081629252,8193.55535364627,4161.596936416321,9957.76403833215,7315.344384036505,585.1009082497549,691.7930628745639,8913.593498493485,6992.203716458742,9177.5129151057,2442.3100186099646,1679.2452853567452,8252.203067276198,9768.90952333084,1899.7189882866983,3647.093806029572,6718.425241381137,8108.455337001716,3570.2560686681627,3066.5255231594724]}]},{\"name\":\"series 22 (F22)\",\"data\":[{\"name\":\"series 22 (F22)\",\"type\":\"scatter\",\"mode\":\"markers\",\"x\":[9119.432488742703,8685.485107273897,1369.2022905455804,3116.739592896126,1678.1215994463073,401.91449284132983,9971.265021275627,45.72860313497351,4868.347582027433,2349.6802097426207,6060.983604841641,4879.40373970801,2612.130825983555,3745.0248827508503,7580.392377548322,7816.165038285127,8179.718928184479,6964.028056744733,7791.869954679644,5096.0334116712065,4806.718874477263,1578.855815345216,6257.311291749261,7869.80366557672,6356.979453547118,311.7808295476987,680.4613470166121,1392.4914474946636,2236.846959880282,4904.1086957955895],\"y\":[1967.4506800786905,726.6868493076795,1205.8786065326644,1039.716196451278,9831.27952800646,6065.247458110963,731.0439397149327,6667.989746039067,7799.194692654576,6769.09874117503,2095.902493108658,7338.530786637442,4577.614557116954,8264.72906359519,6603.199102017189,5490.07224561757,3387.452668564537,57.30374958296092,4898.766864940585,8028.625474491292,2103.3983381265575,6289.146267121652,9696.585849049392,7984.961226792996,4813.915138622561,2509.661232111311,1999.298385156071,1559.1004930612607,9764.41890212164,3621.604535248374]}]},{\"name\":\"series 23 (F23)\",\"data\":[{\"name\":\"series 23 (F23)\",\"type\":\"scatter\",\"mode\":\"markers\",\"x\":[2285.428293075814,1439.5721047224863,9554.305070217455,8329.936022374437,1074.016653681188,927.7715780457163,6929.188976844167,4843.312505317517,7779.3254999573255,1102.8352077654013,3542.9404404270035,1064.6117737662564,2832.7281702528917,5030.0171888530485,9659.779284749056,55.704732139012506,5675.844577295656,8845.641190478747,9924.91830036025,8173.022186467266,418.44598366190365,9444.273000011315,4052.931072696844,8944.285916286171,1706.5948841918855,2448.837282715891,1566.2324680941963,493.11224110994203,5660.947620940397,2161.9842310151994],\"y\":[6561.758986193053,8117.010991200322,4622.096272983194,7277.086600670468,1892.1401540679074,6485.642195798321,9879.28079821785,2269.82627093928,2118.357226477985,7850.015483554449,3560.7535655167057,4596.4072533086755,1124.0855584810072,3639.6455013027194,9428.53524390646,2092.012436049848,3377.6215189886825,6873.505979218729,2447.250397841869,3293.19743506158,7485.498650285991,1921.9543597008437,8686.186932189883,5800.492685727515,6902.600204025768,6330.623395644397,365.6742633511922,4252.564504819317,5446.776347757453,6653.606838001082]}]},{\"name\":\"series 24 (F24)\",\"data\":[{\"name\":\"series 24 (F24)\",\"type\":\"scatter\",\"mode\":\"markers\",\"x\":[5673.331343843092,0.8638485663936546,4611.684370443712,6542.095076990739,9352.685366710108,9153.76759486008,5579.760957466412,695.9432270489374,8006.117342269383,4301.798834746609,1307.9535469469117,2709.481632783285,3556.042683227736,7940.586608855186,3092.0286795782636,8329.209953094956,9372.691501753967,2375.8083084943128,1610.9853071881785,8189.8390812822,6203.79737731771,1724.4308033675748,4611.301024645785,5706.47999892381,9230.970361778838,6519.149672800789,2111.4443346765497,6474.600951750199,3329.469135369214,377.9994394560382],\"y\":[5290.288448042843,5265.703299045478,922.5496248345144,1218.6916993141917,7068.761911394246,5505.4996402003035,5698.516833276092,6577.306432203806,802.2834430527759,3982.6982265165934,5898.061587591422,3733.5525613019304,8472.218619414847,460.3330884231005,2881.4132079855117,549.8812612663628,1297.812026228088,7847.900392607713,4249.297943999386,2199.3180379753408,3785.742933056052,3641.3967514260326,5918.640988284312,2286.9597838906852,6892.657354262529,7449.677418192945,4243.406493463162,4262.6565304875485,7196.738267341682,2599.384613404422]}]},{\"name\":\"series 25 (F25)\",\"data\":[{\"name\":\"series 25 (F25)\",\"type\":\"scatter\",\"mode\":\"markers\",\"x\":[7522.9196326439005,477.47743701818223,6757.567907765072,2047.0222472932376,6054.474943854775,1754.1425007735556,2689.2512348121054,125.57988792901264,1263.9755844876543,9921.674074080964,6379.9633106246365,2014.4425278406718,7387.817122538929,9407.100279677683,9761.792409859021,2245.143111277439,3681.1691415093815,1682.1292560972302,67.94925177957212,2041.8511050086363,1192.2687502019758,8130.278886961918,5110.122278117986,2844.310441484772,5769.290774901041,2730.034038925775,8266.953609505264,9972.275673715887,8155.811294410356,5842.1764406570455],\"y\":[6095.318960006852,6064.317248115367,2782.838430496313,4344.515170558931,1759.2997898880703,8660.198819631252,9179.831728241264,1374.817571286906,4317.4316687641885,94.85689960471166,3804.089169228867,1022.8240733074656,7317.023791663465,733.3388211889902,5527.333060126961,9454.80592020056,115.0416329764825,8499.887970528345,5020.27645539452,4159.202575949059,1878.2531697550064,8640.686688772483,6840.407856098014,7269.456702164638,1311.0369026397616,7708.60327741945,3155.186822645136,7250.237100141601,4817.457464430036,4869.610037093691]}]},{\"name\":\"series 26 (F26)\",\"data\":[{\"name\":\"series 26 (F26)\",\"type\":\"scatter\",\"mode\":\"markers\",\"x\":[9722.286714840482,5625.825674503553,2024.9155416812814,1804.3722518586246,8000.4892378602435,1884.5152778296826,379.88253146164607,9714.836659222858,2079.27354422329,210.44686901468657,9871.931300084938,8244.469388905203,5492.105751923587,6274.3963314165385,4850.483481113473,6482.131751057142,917.8828034604613,957.5890959527167,2369.3893395060604,643.4009501458816,5276.941004381557,587.709714970418,5527.6650105523295,6509.477258840128,3792.488547907683,33.84707808304688,5870.411395431503,7252.643628005479,9215.279543539722,5837.19029349959],\"y\":[1072.145849162014,8888.572439421494,6598.797385919839,1446.8774476159529,2845.476534160354,6269.606233008517,9764.164729178307,5585.467762314657,5301.2566229039385,2269.4603060726813,2908.4619647973464,7786.093154341404,5832.054577981209,1608.628185142259,9687.071979238955,2223.419254064609,8998.985100483098,8631.09986911173,2540.141954347278,2103.126890305226,8872.641709582605,5266.825200457627,7035.187221937174,2079.6987376459488,6812.0814802262985,1400.6907067982477,9562.329517616165,5439.879836061353,9761.51197631125,4917.597816703775]}]},{\"name\":\"series 27 (F27)\",\"data\":[{\"name\":\"series 27 (F27)\",\"type\":\"scatter\",\"mode\":\"markers\",\"x\":[1845.606816425701,6119.25536032102,8802.53402964666,2804.566721013646,2423.2489940352775,3011.964173172491,8920.497707087587,7864.612478580515,3501.7655566322123,5488.654709773865,8726.73213244387,7833.46881693727,1403.1439847391746,4555.354401395224,3224.1109979713488,4989.068814747591,201.41148008825382,3666.013582817823,3611.6234041297157,4705.009859460666,1084.2662591640883,6844.058214901868,5594.316522471851,823.0670740059354,4477.435810006326,9473.36052384968,1698.1831976270723,4206.145296335118,8033.875723879221,8886.622199492538],\"y\":[3685.273112507903,8381.883615842853,1216.8720585562253,7709.23756264193,8322.503234537671,2798.4606401263013,6395.5666923213985,2809.281391516173,3478.3511623623976,9887.972818598824,7123.376568405306,6659.352210818344,1804.8174599094136,6869.088528418964,6584.230366938389,5933.567140890137,6107.742481972641,7019.504567046556,3068.5025088169914,4243.095072098583,3916.773271808871,8010.068864025442,4779.969740986837,2056.185969721629,8736.971812569816,6816.248753600033,3277.0814660173464,7053.732349174442,1997.2633178033038,1708.9637860654473]}]},{\"name\":\"series 28 (F28)\",\"data\":[{\"name\":\"series 28 (F28)\",\"type\":\"scatter\",\"mode\":\"markers\",\"x\":[3416.274223786877,2438.981261217307,2806.6267055144767,1875.6230329957557,7792.023377525356,9050.089123844164,2287.128766372651,4333.538962014188,5357.773549440673,9516.790544890164,5473.612816673053,5971.713253007161,7163.84708751155,9157.534108877664,6553.047084687458,5793.3263043475035,6962.874771044077,8831.009989232649,2562.251987734571,8730.07959728476,810.2563706999555,9536.078246466255,6570.917391441572,7760.8780372591755,7726.603017985689,7196.68087952183,3847.5332215505764,5491.161662679072,2991.0716902212675,8773.400459432925],\"y\":[3539.05500056525,9835.52565245715,6698.95332013546,7610.907531257223,3990.8290800200784,995.0960286795629,2843.829929228997,6760.612259504474,1991.5084480249268,8532.457330298334,8374.067396488732,3910.421938437704,4948.390219305735,8020.754698449261,7425.367502587093,508.57459332741104,281.8100959946557,6479.923118437761,3245.549939131045,686.1060227884752,8172.9318575017605,4611.822215919184,9204.696033702772,2662.5785560230697,2207.4751712273855,1707.3852440479054,723.2319570961121,6462.283728406447,7428.6228778830655,6022.719912928091]}]},{\"name\":\"series 29 (F29)\",\"data\":[{\"name\":\"series 29 (F29)\",\"type\":\"scatter\",\"mode\":\"markers\",\"x\":[1952.484736214347,6973.203129446458,6845.559661358832,9407.421138150365,4606.700404848046,648.5973297078563,5539.789947245747,17.19263218006639,1472.4620383690278,7481.162096484934,6169.589914315357,1054.1945364589722,3810.900691384785,7272.27818548976,893.6514502877935,6652.366901546109,120.04828012054935,673.952021962495,2518.1774192966523,8261.306333095872,3539.1271968744563,998.6262324834183,2017.3916078833654,6181.097917138987,6553.532989357038,2372.1165062238547,485.6304969175396,1261.8388379460598,4598.714129768676,3447.5095687982616],\"y\":[1049.886823484676,1205.4127460655973,4663.107449701896,3602.9343551331463,304.8754084042227,4393.403400378428,1054.740435694246,313.69730304739664,9428.40051146352,1713.8670317803128,8123.067630920047,2219.3497782878335,2293.0001760512355,3471.0061676858627,8917.056993247883,2298.8372430707536,1610.5530127026313,4135.622240414496,9512.497523820048,9521.951737642059,4429.731166142794,2430.5435055943835,1055.954352849614,5362.893164668762,5151.885309940527,8044.062742662431,5449.7465350741295,3641.8200367993527,7639.159675352539,9125.740284571946]}]},{\"name\":\"series 30 (F30)\",\"data\":[{\"name\":\"series 30 (F30)\",\"type\":\"scatter\",\"mode\":\"markers\",\"x\":[6041.779179273679,8302.85032853621,7959.323520709022,6642.75850300017,1686.0140385846878,3942.0465397676253,5845.02492104088,2661.3424847810875,1103.8137052048446,8166.506146477544,6040.860868710337,9666.59006311431,4603.35183309286,3195.746054698346,369.8719430626196,7145.377844946665,1903.7303052466991,6509.155484657179,7571.767613245861,9830.847924310718,8062.399465302863,6798.368922187305,748.3916370679422,9243.295188419033,4318.933933107888,2000.9829601118422,1597.6416887357536,6461.115937728659,7045.161454584196,772.1281300253202],\"y\":[6525.259564264302,9416.797120279356,5931.104903921909,7392.977455225611,2194.61194955179,2436.756544077394,2038.1430921589129,2820.3535155169525,7107.783514337101,9230.17799536611,7415.253944862557,1349.1790457263187,1407.008932870989,3080.8029268665296,601.1537763302576,3189.5840146104106,9243.673560770265,9606.977902261777,6524.602219528039,8153.070810189128,6782.812427069216,8129.079422620086,5067.092246979894,4597.211934567043,4194.24629889815,7419.768064891637,9866.600558935868,795.9295164020753,1827.1899387984558,411.3538364352598]}]},{\"name\":\"series 31 (F31)\",\"data\":[{\"name\":\"series 31 (F31)\",\"type\":\"scatter\",\"mode\":\"markers\",\"x\":[7818.026033651281,2982.4938601980866,9173.376335377636,295.8766931401302,165.3965067821861,5454.9459389458325,194.4397421094779,7377.341739777108,8082.876872743224,3338.7343472874386,122.50738996408717,2021.8719507354099,9206.066466545693,7868.929324883148,6938.6485049442645,4100.369900643042,6702.025376706635,7384.461856105515,5392.035705750989,3429.6108482901345,9155.921334572438,4619.405793334732,2643.377399877356,8891.513782087733,7804.146487251089,2331.405835347774,2399.3773091931203,6146.6682710575105,7458.200150006762,4824.927048482176],\"y\":[8750.689898180126,5157.021698166176,8840.59070908778,2507.086735304963,1834.0327846485116,9093.95874908675,2993.4648395704976,256.3968820947093,4909.831354291045,5631.836763489372,2922.6190054309554,8089.835087661844,6479.962073334525,113.36257163375274,3704.0070862827934,4381.232515672643,1665.876634503971,7622.03123710715,9906.809406522467,7714.047034888901,4225.5806517533465,7608.169971098244,8376.579878582015,3344.1708660074833,4308.653289254356,388.96268327908933,5173.943137895736,4203.494607292152,7331.6901210228525,9579.154456802558]}]},{\"name\":\"series 32 (F32)\",\"data\":[{\"name\":\"series 32 (F32)\",\"type\":\"scatter\",\"mode\":\"markers\",\"x\":[7778.766780598906,4392.533580501935,6202.258236448908,8307.96811446992,7546.685115894092,5190.497460133332,2527.6568718481194,9939.089098389099,2844.3036407107747,9753.760553520728,2415.4758277476253,5934.40546462462,291.3722050952361,2878.773698333299,9006.149844912788,4488.517211680682,102.65885008596487,6473.029420899995,6973.412359517348,3609.856844426005,1649.2179011749065,9707.778661839313,3886.748890757187,1435.5913212866212,7048.192754307052,5218.767242113254,9550.659743243099,4741.305385281649,3842.2512297040234,9176.345052338089],\"y\":[7218.74093290429,3842.7905862000443,2644.2027023110304,3563.8734318436204,9926.298554238967,8386.097665051346,1999.2977048485504,3583.4393093655813,1093.409850365008,3883.331978279616,657.1684497762842,1750.4603739777658,1021.0551851015981,3275.5056829302707,6947.316636693465,2943.8420285599163,9936.138102847717,1290.0851763437415,6016.510883199715,1445.929364160896,3836.925036381553,1909.6992589120366,8313.4095602,1836.570384846501,1548.6293675648067,879.8062422530162,6895.17557804416,498.19047459665364,119.57356518917162,5856.941856671262]}]},{\"name\":\"series 33 (F33)\",\"data\":[{\"name\":\"series 33 (F33)\",\"type\":\"scatter\",\"mode\":\"markers\",\"x\":[6882.807145477636,3443.8501297843136,971.5659641302277,6535.49981819155,7706.354082693684,9197.840932493184,1063.8277947624774,5889.823909039537,7658.1524171180445,2538.4523691475515,1738.014285248507,1529.7239429474873,711.6545161026588,6055.114554646956,2882.5728624285516,3091.3431431415274,7565.388759859511,1677.209022965178,1587.8882098931247,7571.651026199442,6436.037127591056,3599.41273174629,2559.36196215499,9563.646356894093,4251.568526672314,7358.514499994516,2213.7852812966453,7460.694533754987,5584.822904898984,7209.233006659021],\"y\":[9605.056419791239,9872.246390766151,4919.89139708585,5401.630543589487,5108.508085142086,8729.51633835827,7658.090804447075,2480.3037286295203,2138.805672806745,6858.523009555076,6647.287780307316,7305.606474805394,8084.5819594934355,8159.226449681226,3957.7745956421995,9139.740455120464,8113.681433934098,7953.323449734116,2129.858422609491,1845.624264614466,9536.082440430268,9549.587768435507,5182.773179541567,2014.0342968580926,5007.276779099602,624.4752959343658,7301.482309787802,8664.583715812116,13.084245476631118,9627.037652725383]}]},{\"name\":\"series 34 (F34)\",\"data\":[{\"name\":\"series 34 (F34)\",\"type\":\"scatter\",\"mode\":\"markers\",\"x\":[6307.385746243736,2058.687654298973,3797.583470473971,8091.019768017729,9770.907674948705,3117.739943202912,3179.046316376244,9473.340059165828,3938.3845137324847,2957.3049333737536,5544.46175679844,8936.985458379224,9522.63484966827,4128.203738780483,721.4427116473976,1357.67937633382,3846.037828152381,1297.9570414872067,1397.0106719068099,6757.506354104117,5826.907035381713,9311.120214239982,8285.952901894161,3355.009936594422,8864.395399666539,834.6270281126511,9347.15732042962,8470.104407135641,6804.119595687944,4124.3357859966945],\"y\":[2004.5250581033536,6633.472100352332,9856.150167508928,3841.5506790710306,3549.77145796743,2423.9435418168655,588.9604446569607,4303.366585369456,7687.623129189063,2793.688526241395,4937.385960678513,5068.267400953971,4529.6240782368595,9939.871414154719,9539.594888538964,3338.482605933362,7250.97167154324,1142.7536819711204,4657.526863497907,6303.189020799221,1095.4957929356779,6414.058121849734,1437.206974422439,9251.71701991597,9447.109599383131,8285.72655855827,3329.798719082505,2053.503998146151,7281.753940348041,618.047657898878]}]},{\"name\":\"series 35 (F35)\",\"data\":[{\"name\":\"series 35 (F35)\",\"type\":\"scatter\",\"mode\":\"markers\",\"x\":[4121.208989606481,7431.61534817051,4472.06644612509,4917.441803330859,9207.515327181545,9349.225047108761,137.7066671277627,3328.032126378896,2505.43347491463,8783.537119349945,4517.472678104516,7197.450948066232,8701.503420221517,7179.195802948703,6685.0477783800825,8916.161756502714,9420.617980105182,4953.320157961238,4838.418023400531,2590.9052968660285,2333.976962356622,3566.868330581906,863.7058903920736,6036.704682364037,4228.4980421922955,4882.123489684937,2407.3682394980524,2558.194757832907,2624.1746318393,793.6628626703268],\"y\":[3786.4078813360256,6039.867065771104,5652.8166031761375,9450.257737040743,1724.4549530980757,6976.1523205067415,6601.071702067746,1777.723427377589,3122.2724839759376,246.08656100925663,7772.567657676359,3467.8192173015655,9854.449219326309,7673.640176758619,8138.481150198947,3115.880976957468,9929.74215305631,9713.612753671312,622.7810803684397,6769.9356471612855,5260.732912110283,964.3272616062293,7807.853495050608,2796.6386458294114,3759.1716591065683,3632.185709750266,9348.166647234613,8674.4421247503,7506.578667480915,1559.472349003782]}]},{\"name\":\"series 36 (F36)\",\"data\":[{\"name\":\"series 36 (F36)\",\"type\":\"scatter\",\"mode\":\"markers\",\"x\":[444.0893736166218,3091.9876945720616,9345.379231660349,4975.625745592671,8354.924573057939,2559.7923877776384,7394.053460144114,2743.5230006107004,3119.679051785238,1635.8707801456974,710.4786291171372,4546.147417552349,9406.039163560923,9821.025284992453,9610.855268479694,195.34696128383212,8722.477290649147,6197.101630315214,997.2995228674353,7043.207787204766,5105.365810343689,4961.593769423623,2455.397386772562,9337.90354258258,2832.4297756533924,1154.5578370903663,8853.713306310257,5289.70590976943,1715.823531180537,6078.870762654852],\"y\":[1710.4522985250426,8599.170768467855,4092.5624356967305,6182.453239451681,4688.174473098924,1248.3415899438598,7757.008573742128,7501.144488506208,8235.668403056583,3467.1405183500146,769.5447185317772,153.5086218355275,2616.788640273694,4960.948043116536,7327.538081552476,3833.9151666878956,1349.2689015365079,8721.692747800913,8699.14180036405,5767.828763268675,6422.222948552639,5043.6120940978135,9597.43658353315,7173.3075274423545,2569.2509775334593,8726.161990660712,8311.866721489409,2915.3012108645626,344.76984093349205,6870.390218342693]}]},{\"name\":\"series 37 (F37)\",\"data\":[{\"name\":\"series 37 (F37)\",\"type\":\"scatter\",\"mode\":\"markers\",\"x\":[8415.881831030283,1744.407386955993,6784.391970523976,8161.409383522949,934.1442221203688,1279.3269732399738,8025.875556035346,7078.439347716654,8479.617006729735,2722.3400973179014,425.3791128219186,8085.212298741411,7060.301517071741,5189.697091954039,5424.4481371289985,5527.367542028816,7007.345456826956,8493.89963234751,8706.373179155686,4699.782368250739,1790.6951757528366,6232.427596208236,6026.2551756977655,8345.623969924236,2365.4196647227,8117.5408331562985,6507.31941560529,710.2274861171576,5131.288824596064,1624.3649362641631],\"y\":[9166.725568936905,8196.735461028,3590.135774733726,8239.55095084033,9967.31751273653,1656.767454524194,7349.994191130431,8860.373134219066,4787.467372678611,398.204975113603,7251.947693769629,6224.208167291334,8359.364958219812,2103.5189356155815,2085.085959998818,9640.918845415188,446.8126763894731,6025.8839440540105,606.912601005588,8755.742709982413,8316.783373102491,9066.657660266652,2401.0054188191566,8587.86206735008,8904.705232511827,5636.63003253184,2480.6801798686197,7669.912935581954,4981.642837574528,2564.774673793541]}]},{\"name\":\"series 38 (F38)\",\"data\":[{\"name\":\"series 38 (F38)\",\"type\":\"scatter\",\"mode\":\"markers\",\"x\":[7486.86403474062,4756.2686148581315,7102.239308104331,9742.06413591217,5830.338072919395,7273.006857351172,7145.496269087938,5674.237326386292,192.95933189174997,6450.055451191693,9856.165863582188,4666.238235760232,8429.427587580727,9906.083204812367,5952.734015792443,8972.367839467495,8100.616520251611,2349.281641010823,4088.6765381691157,4920.0272608552405,621.4385025103197,9012.265992416262,9236.874974978718,6751.250230268333,3320.667873611879,4456.8963874390365,1912.7783431118617,5725.0563506652015,1587.100504341733,1464.9006507252016],\"y\":[6060.104324985877,4884.982076608177,8715.880848469344,872.7589308508499,3393.5722989841365,1819.9770416629767,8070.778688980873,3414.388155532144,8526.36963541039,2733.178402396723,742.6519334057335,8902.74035593821,2305.7467574624225,1181.9054870819812,2011.2895395948626,6411.509902298041,438.35073398531654,3963.5460284899473,1607.2717818705296,1510.7218612041363,707.5997614876106,4795.8328777305405,6022.448168241846,3065.050895136625,4868.612636275463,3676.3351478782392,5932.081374638447,2621.299760948145,651.9027488168483,6104.822888096794]}]},{\"name\":\"series 39 (F39)\",\"data\":[{\"name\":\"series 39 (F39)\",\"type\":\"scatter\",\"mode\":\"markers\",\"x\":[8168.658837436072,3991.5412247923387,5215.256991063115,1713.483862134787,9626.827223548908,9281.012593455593,3853.9164511066792,6273.807283938666,9980.861858276761,314.92049911404416,6812.382167133855,4535.269367142522,1160.5278377127393,1185.8999349032772,2636.873156176981,3899.7932489921004,4158.15119111511,8473.944529917964,8665.664528610689,547.2739999412901,7929.168031961127,583.2068770831378,7975.237601207125,301.2942375442962,900.3707044872999,6595.142143492149,7383.377655562673,6260.483187474838,2914.528455844659,8055.048015287301],\"y\":[2956.0583548338705,4019.7960478600335,4317.00662203754,4189.1364267469335,7873.153637880245,3167.324328643132,9329.467742521356,2191.839316520885,2478.7218813965974,666.0720838761803,2857.6861248157816,9428.143417164278,7874.808787078878,7716.461638782854,3444.9647303473475,3663.314918135465,2513.423753002616,6744.161362797606,209.59300765736822,762.4593448008154,5899.538117540657,9269.1575526035,8294.237783980028,6694.9396857412,4738.667638036228,8585.816604992891,5607.117286069247,2133.7502540613505,4645.796098978061,3420.0148951380706]}]},{\"name\":\"series 40 (F40)\",\"data\":[{\"name\":\"series 40 (F40)\",\"type\":\"scatter\",\"mode\":\"markers\",\"x\":[3449.251573533827,3457.5279494737974,4878.104371115892,28.24214780493439,4999.047789684839,3542.9547409686056,4462.1731725301,564.9098951951393,8564.92260165131,9377.884984421386,5557.025234896074,4967.92775307614,7018.620242869648,1230.6147512330524,3927.5839676532078,2098.9328585744893,886.3398720000926,9878.278599549409,6998.820939154237,3423.395740323317,201.73590350998526,4227.445547377656,7119.074551548665,9127.14217969055,9414.308636296975,1552.56015764344,1381.7182668912053,2239.669378007122,398.6597587940155,6532.955841413654],\"y\":[9637.567106980521,1070.952904708392,924.5321977594645,3286.739931916447,9176.10862960018,4067.280039336968,9824.515360674257,6679.93493826924,7961.850338801293,4052.9632151565074,5535.745445033179,5331.834855201675,8282.779085822282,748.6205335156004,1693.8832881639742,8942.613192601528,9201.128864138787,1443.0392255572888,2022.1089105133838,6836.799155313149,9292.35909656849,9744.461597323621,6884.820095639196,2946.315231896853,816.4463685664591,1448.465710870349,5565.179634812366,4849.349599501461,2686.2969244870706,4733.439926523637]}]},{\"name\":\"series 41 (F41)\",\"data\":[{\"name\":\"series 41 (F41)\",\"type\":\"scatter\",\"mode\":\"markers\",\"x\":[1577.6083850832767,936.4120249723674,2381.2916853912957,9130.97563220321,3140.769195912826,292.50068446419755,6299.674405502204,4017.3349555017303,7313.550912638015,4464.389386138855,3951.702654887459,2733.475091787032,4236.00108693967,8924.617098996163,3866.177799599048,2864.941945062057,7419.12137905502,4748.841899864139,8116.180273370968,6699.269656631933,7091.8830910025945,7790.802744546442,7965.532778928637,8427.356873158757,6240.782802754564,3469.206205412524,5295.723295077836,6266.610693516347,3166.7012491064015,173.43356626165595],\"y\":[3193.717758135014,8357.486425428006,135.7896268585068,3250.0471711538025,4364.298851479011,1021.3704114397848,5015.556210482057,4549.64684876573,7876.268914990205,6766.590906206399,1664.2818512013146,9593.706800197948,3160.0588784655147,7290.658964281232,5281.3446125277005,5563.60488358579,5144.9876044665525,3650.6799979152383,927.9860740870538,8519.130663647717,5957.61799054291,1760.1977487163767,6992.507844334558,7521.337690353239,6698.36418488427,6419.565389700779,500.8364286621614,6664.684012805272,7471.700729823358,1198.2591953978472]}]},{\"name\":\"series 42 (F42)\",\"data\":[{\"name\":\"series 42 (F42)\",\"type\":\"scatter\",\"mode\":\"markers\",\"x\":[7862.852256597268,3415.983965288354,5066.030672897279,4661.390575739063,2896.825455794493,3112.768864852179,5462.476287646002,5668.985772841357,3788.760266157145,4991.238291858719,2697.5518501126317,1775.4441537753662,2020.4000589968107,4694.055181914343,6512.887807050039,5117.903046876099,9239.098429634656,1850.820583370184,8695.873571100077,9606.073720557239,2544.713551860691,9029.140343757677,2048.293395355766,1712.4360133293826,4733.141263847365,121.7760158980652,6515.7324566632715,4710.50930243436,3663.0467828706483,2065.4456381835416],\"y\":[4168.727221676677,2820.244366367749,4101.818452091574,3679.4238800088865,8447.34818082075,7393.411704150678,6158.710018616707,9367.166577072927,3364.096562019152,2008.185845658752,6727.599520118104,3441.7610019771737,5205.703503943669,7140.956427735561,4238.739687862308,2916.0859856658394,2682.625476472834,7944.7238463162485,2458.3306989320417,2741.138088441779,1445.7281195977912,587.2657878046239,6076.7012949567315,7681.064810379727,5422.857777398571,3588.5880622643986,9390.33172525338,9281.017997967538,523.7004827392799,646.0029299150106]}]},{\"name\":\"series 43 (F43)\",\"data\":[{\"name\":\"series 43 (F43)\",\"type\":\"scatter\",\"mode\":\"markers\",\"x\":[9509.91104042704,4714.021902433383,5919.533176866667,546.5042724773828,7216.070202494787,6685.629450579315,4325.174969632461,7939.939260698683,1836.3887238373923,30.214518830509185,5493.646068502676,5982.802711282305,1331.722390680564,1150.3297235884468,6479.751740888755,8161.307878831438,5156.855435326195,1030.6356408467498,8137.003141673448,1963.7194185487517,5399.934248366898,1200.4866410289528,9782.999563721416,1495.7553351250397,1207.08689727546,4724.334859685408,3001.589804711332,9619.202171620835,2563.0961398416175,1066.6940755757714],\"y\":[1145.8439729262382,2742.7055773989127,2125.935888016983,4508.481090114004,3264.0587093827835,3005.0348732745633,8002.441528890707,684.1334309307945,9891.734379444159,3264.945651703941,6104.336173651639,4763.975873403649,3435.653259025726,48.089091829935924,8038.283742962035,7823.891970787667,7721.901686452037,8400.250219304491,9360.600858345795,5024.430240471195,9687.87678485871,457.52191761281426,3466.7035877051376,364.05336808755237,1169.0192022736933,6467.851704276392,8387.326312582412,7976.320974597667,264.224221693935,2984.724883088252]}]},{\"name\":\"series 44 (F44)\",\"data\":[{\"name\":\"series 44 (F44)\",\"type\":\"scatter\",\"mode\":\"markers\",\"x\":[7327.998244933019,9208.369329020094,9859.579080609717,8002.574546737273,8915.215856329543,8048.132613606227,5548.281975668159,6914.8431853661705,9802.207586746097,4860.328038010779,6405.298194965231,6349.440004037979,539.1341330863808,9846.303936599614,9858.515869961635,5172.6730131390605,5427.025284126195,3160.430438817323,6243.863368094146,3251.5597514140627,8451.70597924054,8195.787584820277,9540.05397870617,8925.751522886858,333.41345044392125,8194.48659620339,8249.33068290293,5564.1271831176555,6229.771693272197,4043.036271820926],\"y\":[4423.779690198279,6067.45300335572,9694.226335542184,2880.7451649690265,9432.491254324044,1727.3186305584054,6119.011242640069,2979.2289263745165,2223.0470995307714,8462.900483233625,8081.162332379837,243.6685833351937,9551.513643747912,9130.920625537015,5762.049536402278,5641.54776461976,7938.33071899745,5340.508779721122,7925.352270589798,882.1666449326738,3953.1789463080413,6003.491029257486,2815.3555249245064,1750.321050481507,2840.122276936543,2711.9687644607848,3776.8973729769327,4640.099352759251,5465.017167986259,3958.8697826725747]}]},{\"name\":\"series 45 (F45)\",\"data\":[{\"name\":\"series 45 (F45)\",\"type\":\"scatter\",\"mode\":\"markers\",\"x\":[1400.249564408451,2039.8402311821262,100.38696589653951,1203.4875779250287,2558.671778350059,6986.863721012199,8658.662189431381,9832.851196667898,6833.326517680786,4840.669261621233,6642.891985295899,7181.095388289659,2509.6978658127045,3115.87639673544,2304.731921801505,7942.829290808243,7581.612977783357,6571.253239818001,3282.719813966085,4552.832308305757,6013.411295563744,5268.763712450362,8339.55177108711,6403.229216738638,5887.7682464731415,7896.641857513409,7725.277344115845,7130.628524888868,4006.125267931272,1293.071563250302],\"y\":[8164.029729858714,3629.537094527564,1010.6391840283125,9812.141419143385,7495.117111902327,3934.6870081071374,2161.0071158947076,4941.309923277363,9594.99890321627,3663.7425646436027,1526.4877266830235,6409.703408193812,2364.87750931599,2323.186548153152,1542.8817247075021,919.1414893350968,289.3361604130662,1454.0027330683859,5636.196941256305,3584.8665578979876,8354.659926198434,6330.112922359196,8929.170349021268,190.52949007317133,5961.174581576487,1721.3435258706734,923.7726996641959,5442.063162002353,7872.151718756878,94.03199203297574]}]},{\"name\":\"series 46 (F46)\",\"data\":[{\"name\":\"series 46 (F46)\",\"type\":\"scatter\",\"mode\":\"markers\",\"x\":[4492.281481792086,3547.654372014961,4212.515932306801,7546.209142401216,7511.450195641729,2656.1002495675602,3063.809600633146,8760.619609225076,7038.764059003356,3953.4153694396537,7297.561506128566,7307.674356834499,1056.7215668000497,9547.63343758226,1947.4143645476372,1741.7566942813767,9500.534811608526,664.3262968607921,9641.070175279048,1108.1271534673842,4536.593322804637,9130.439093467683,9396.310263977448,5714.0063759484465,9873.494295559021,641.6200064909106,8431.057146930842,316.24054332005323,264.38753311992633,7888.302397732964],\"y\":[7545.641825534269,7239.281182356111,5298.8434858265555,5258.372414056108,8106.14710821048,6361.041419978332,6084.401361064961,4539.333271852829,2690.9004529257495,7390.517398162647,9482.411367465738,2810.4613549140913,2057.8913083025154,7409.891502426665,2189.7331606783346,9545.518150378583,8249.092028544032,3265.1649487158097,6147.310103491997,9839.168566136314,7368.365017715669,4063.190532490825,7508.59158578219,4625.327683486875,5852.84048126833,3769.308808928056,3715.2254559058983,6773.242068164519,903.3543914598907,7698.6172961802495]}]},{\"name\":\"series 47 (F47)\",\"data\":[{\"name\":\"series 47 (F47)\",\"type\":\"scatter\",\"mode\":\"markers\",\"x\":[7104.3988334699525,4027.1851452275487,9147.736961903369,9555.230819259832,8911.659263156269,5898.227018184873,7581.447164554162,7597.717816985238,4534.998138414081,1821.6146650995524,7363.249967369568,9495.22872607313,9490.433513018404,2160.881042231303,4139.339261351942,5487.656066901487,5616.283420246856,1969.8751758033106,8227.50687463064,8574.500360173732,8772.770653511352,9816.484278829623,4213.6694374240915,8630.936319719764,2535.557996660812,426.90001436240135,2296.2591707364763,4585.909249263665,7196.260202371212,426.85708645597845],\"y\":[3059.694855050048,5095.9142059867345,9759.93765677864,1036.3476969339135,3266.34712987917,3509.4423348371415,8569.026223198627,216.9000434637647,2727.1205306209413,7340.904327576069,5685.111191421065,9475.581047785501,1343.971678985929,5959.171544387344,1224.4086345238625,7297.464498886786,1013.3933943370665,2744.699926653892,6469.76883194511,2008.3850456358987,9238.08927725251,9580.534434311454,6771.467629995409,1762.3712084992171,14.775465125315135,2216.3159687505663,1001.0122158219448,8303.237066064034,2849.2413509370217,4780.743046678121]}]},{\"name\":\"series 48 (F48)\",\"data\":[{\"name\":\"series 48 (F48)\",\"type\":\"scatter\",\"mode\":\"markers\",\"x\":[1636.6273796851383,4167.383600906618,2595.5084457809107,516.7682289965003,8436.059236353118,74.9398086777009,1224.1312030913286,3675.1362697505597,9091.768812256638,398.95566674014947,7595.380143439725,4425.701603879058,2265.5543399563194,9807.433046438522,2846.259716032453,4632.287006097829,1964.0862323794195,3440.5600471527578,7096.007628088731,7385.678672956359,7343.797404902112,6315.593368247066,7832.933287771865,7300.675489379792,8723.018392699458,5044.411471812109,1566.1490988427772,1756.9427014605476,8831.20630978689,6403.8354444816605],\"y\":[8108.957182850204,5499.744747504066,8139.567210126891,2816.400435814773,1206.3552728759396,2315.46603372047,4494.320439664831,4379.32882947214,127.32483306888808,7858.1462004792,213.31675740807077,722.0450386532495,4313.275917520107,7127.098142842171,4308.662547804126,3677.6400308059533,7207.216939118415,8581.991316156596,3562.4657942485715,3521.277737305499,5983.9298817274575,4430.623318001679,3809.7692757282744,7358.614679011761,1059.6236653096103,3235.920515935032,1972.1843082860269,8139.875607130837,2980.2559610430435,6662.543819410384]}]},{\"name\":\"series 49 (F49)\",\"data\":[{\"name\":\"series 49 (F49)\",\"type\":\"scatter\",\"mode\":\"markers\",\"x\":[137.70305564192677,6730.312135221149,4570.900127623166,6919.8014538242405,5296.60785172001,7485.350341101174,3074.25272876669,5256.397066697199,2220.3577095588735,9858.802527476182,414.56883981272784,4723.871064691037,2409.782900612657,4715.10844369664,9694.022059747245,2349.4236593432684,9040.870096702596,4221.641459009882,2561.6840116426697,6845.130599358008,6400.874712987258,8464.693305140421,5191.029322365762,8029.39516744244,2434.452433176979,262.83543390538176,260.06458396745535,3247.80871293054,4708.949497128214,2043.9244551791935],\"y\":[8548.891314366161,4254.414840638783,3359.9533886466593,5107.106016397665,6552.714247494999,5250.70592184149,9392.64527193601,2108.7426273459673,5854.004247537685,9078.507102554326,3091.46593678586,8191.271357159105,5905.737490609308,3924.229013984176,5230.042262165114,4816.578391603335,4348.3263586806,7315.8026455647705,3275.289542694584,3070.5516872223616,8016.066272310315,7679.9323782075,5844.046688857845,9973.050676623914,3384.6260362491353,6276.137302916368,1297.562503372599,2157.6165933180323,7369.306887186826,3935.375061061267]}]}]\n",
       "var labels_gUwcRk0UJM = [\"series 0 (F0)\",\"series 1 (F1)\",\"series 2 (F2)\",\"series 3 (F3)\",\"series 4 (F4)\",\"series 5 (F5)\",\"series 6 (F6)\",\"series 7 (F7)\",\"series 8 (F8)\",\"series 9 (F9)\",\"series 10 (F10)\",\"series 11 (F11)\",\"series 12 (F12)\",\"series 13 (F13)\",\"series 14 (F14)\",\"series 15 (F15)\",\"series 16 (F16)\",\"series 17 (F17)\",\"series 18 (F18)\",\"series 19 (F19)\",\"series 20 (F20)\",\"series 21 (F21)\",\"series 22 (F22)\",\"series 23 (F23)\",\"series 24 (F24)\",\"series 25 (F25)\",\"series 26 (F26)\",\"series 27 (F27)\",\"series 28 (F28)\",\"series 29 (F29)\",\"series 30 (F30)\",\"series 31 (F31)\",\"series 32 (F32)\",\"series 33 (F33)\",\"series 34 (F34)\",\"series 35 (F35)\",\"series 36 (F36)\",\"series 37 (F37)\",\"series 38 (F38)\",\"series 39 (F39)\",\"series 40 (F40)\",\"series 41 (F41)\",\"series 42 (F42)\",\"series 43 (F43)\",\"series 44 (F44)\",\"series 45 (F45)\",\"series 46 (F46)\",\"series 47 (F47)\",\"series 48 (F48)\",\"series 49 (F49)\"]\n",
       "var duration_gUwcRk0UJM = 100\n",
       "var config_gUwcRk0UJM = {\"responsive\":true,\"scrollZoom\":true,\"displaylogo\":false}\n",
       "\n",
       "var traces_gUwcRk0UJM = JSON.parse(JSON.stringify(frames_gUwcRk0UJM[0].data.map(x => x)))\n",
       "\n",
       "var animation_settings_gUwcRk0UJM = {\n",
       "    mode: \"immediate\",\n",
       "    direction: {},\n",
       "    fromcurrent: true,\n",
       "    frame: [\n",
       "      {duration: duration_gUwcRk0UJM},\n",
       "      {duration: duration_gUwcRk0UJM},\n",
       "      {redraw: true}\n",
       "    ],\n",
       "    transition: [\n",
       "      {duration: duration_gUwcRk0UJM, easing: 'cubic-in-out'},\n",
       "      {duration: duration_gUwcRk0UJM, easing: 'cubic-in-out'},\n",
       "    ],\n",
       "    ordering: \"layout first\"\n",
       "}\n",
       "\n",
       "var slider_gUwcRk0UJM = document.createElement(\"input\")\n",
       "var play_gUwcRk0UJM = document.getElementById(\"play_gUwcRk0UJM\")\n",
       "var pause_gUwcRk0UJM = document.getElementById(\"pause_gUwcRk0UJM\")\n",
       "slider_gUwcRk0UJM.id = \"slider_gUwcRk0UJM\"\n",
       "slider_gUwcRk0UJM.type = \"range\"\n",
       "slider_gUwcRk0UJM.min = 0\n",
       "slider_gUwcRk0UJM.max = frames_gUwcRk0UJM.length - 1\n",
       "slider_gUwcRk0UJM.value = 0\n",
       "document.getElementById(\"sliderContainer_gUwcRk0UJM\").appendChild(slider_gUwcRk0UJM);\n",
       "\n",
       "Plotly.newPlot(graph_gUwcRk0UJM, traces_gUwcRk0UJM, layout_gUwcRk0UJM, config_gUwcRk0UJM)\n",
       ".then(function () { Plotly.addFrames(graph_gUwcRk0UJM, frames_gUwcRk0UJM) })\n",
       "\n",
       "var trigger_gUwcRk0UJM = true\n",
       "var reset_count_gUwcRk0UJM = false\n",
       "\n",
       "play_gUwcRk0UJM.addEventListener('click', async function() {\n",
       "   trigger_gUwcRk0UJM = true\n",
       "   if (reset_count_gUwcRk0UJM) {\n",
       "      slider_gUwcRk0UJM.value = 0\n",
       "      reset_count_gUwcRk0UJM = false\n",
       "   }\n",
       "\n",
       "  const start_index = slider_gUwcRk0UJM.value == labels_gUwcRk0UJM.length - 1 ? 0 : slider_gUwcRk0UJM.value\n",
       "  const end_index = labels_gUwcRk0UJM.length\n",
       "  await Plotly.animate(graph_gUwcRk0UJM, labels_gUwcRk0UJM.slice(start_index, end_index), animation_settings_gUwcRk0UJM)\n",
       "})\n",
       "\n",
       "pause_gUwcRk0UJM.addEventListener('click', async function() {\n",
       "  await Plotly.animate(graph_gUwcRk0UJM, [null], animation_settings_gUwcRk0UJM)\n",
       "  trigger_gUwcRk0UJM = false;\n",
       "})\n",
       "\n",
       "graph_gUwcRk0UJM.on('plotly_redraw', () => {\n",
       "   value_gUwcRk0UJM.innerHTML = slider_gUwcRk0UJM.value;\n",
       "   if (trigger_gUwcRk0UJM & !reset_count_gUwcRk0UJM) ++slider_gUwcRk0UJM.value\n",
       "   if (slider_gUwcRk0UJM.value == labels_gUwcRk0UJM.length - 1) reset_count_gUwcRk0UJM = true\n",
       "});\n",
       "\n",
       "slider_gUwcRk0UJM.oninput = async function() {\n",
       "   await Plotly.animate(graph_gUwcRk0UJM, frames_gUwcRk0UJM[this.value], animation_settings_gUwcRk0UJM)\n",
       "   trigger_gUwcRk0UJM = false\n",
       "   slider_gUwcRk0UJM.value = this.value\n",
       "   value_gUwcRk0UJM.innerHTML = this.value;\n",
       "   if (this.value == 0) reset_count_gUwcRk0UJM = false\n",
       "   if (this.value == labels_gUwcRk0UJM.length - 1) reset_count_gUwcRk0UJM = true\n",
       "   reset_count_gUwcRk0UJM = false\n",
       "}\n",
       "\n",
       "next_gUwcRk0UJM.addEventListener('click', function() {\n",
       "    if (slider_gUwcRk0UJM.value == labels_gUwcRk0UJM.length - 1) {\n",
       "        reset_count_gUwcRk0UJM = true;\n",
       "        return;\n",
       "    }\n",
       "    ++slider_gUwcRk0UJM.value;\n",
       "    value_gUwcRk0UJM.innerHTML = slider_gUwcRk0UJM.value;\n",
       "    trigger_gUwcRk0UJM = false;\n",
       "    slider_gUwcRk0UJM.oninput();\n",
       "})\n",
       "\n",
       "prev_gUwcRk0UJM.addEventListener('click', function() {\n",
       "    if (slider_gUwcRk0UJM.value == 0) {\n",
       "        reset_count_gUwcRk0UJM = false;\n",
       "        return;\n",
       "    }\n",
       "    --slider_gUwcRk0UJM.value;\n",
       "    value_gUwcRk0UJM.innerHTML = slider_gUwcRk0UJM.value;\n",
       "    trigger_gUwcRk0UJM = false;\n",
       "    slider_gUwcRk0UJM.oninput();\n",
       "})\n",
       "\n",
       "</script> \n"
      ]
     },
     "metadata": {},
     "output_type": "display_data"
    }
   ],
   "source": [
    "val xaxis = Axis(X, title = \"X Variable\") setLimits (0.0, 10000.0)\n",
    "val yaxis = Axis(Y, title = \"Y Variable\") setLimits (0.0, 10000.0)\n",
    "\n",
    "// we can also specifiy the underlying layout directly - sometimes this can be useful\n",
    "val layout = ChartLayout(\"Animation XY\") setAxes(xaxis, yaxis)\n",
    "\n",
    "val series = createXYSeries(numberToCreate = 50, length = 30)\n",
    "\n",
    "val chart_OA28 = Chart(animated = true, transition_duration=100) setChartLayout layout addSeries series\n",
    "\n",
    "chart_OA28.plotInline"
   ]
  },
  {
   "cell_type": "markdown",
   "metadata": {},
   "source": [
    "### 3D Animated Chart"
   ]
  },
  {
   "cell_type": "code",
   "execution_count": 49,
   "metadata": {},
   "outputs": [
    {
     "data": {
      "text/html": [
       "<div id=\"grid-container_rzcCyPkEE8\" class=\"grid-container\" align=\"center\"> \n",
       "<div id=\"grid_rzcCyPkEE8\" class=\"grid\" align=\"center\"> \n",
       "\n",
       "<div align=\"center\">\n",
       "  <div id=\"graph_MYJRdLOVwE\" class=\"graph\"></div>\n",
       "  <div class=\"animationInterface\">\n",
       "    <button id=\"play_MYJRdLOVwE\" class=\"picta-button\">&#9658</button>\n",
       "    <button id=\"pause_MYJRdLOVwE\" class=\"picta-button\">&#9616;&#9616;</button>\n",
       "    <button id=\"prev_MYJRdLOVwE\" class=\"picta-button\"><</button>\n",
       "    <button id=\"next_MYJRdLOVwE\" class=\"picta-button\">></button>\n",
       "\n",
       "    <div id=\"sliderContainer_MYJRdLOVwE\" class=\"progressBar\"></div>\n",
       "    <div id=\"counterContainer_MYJRdLOVwE\" class=\"inline-div\">\n",
       "        <h3>Frame: </h3> <h3 id=\"value_MYJRdLOVwE\">0</h3>\n",
       "    </div>\n",
       "   </div>\n",
       "</div> \n",
       "\n",
       "</div> \n",
       "</div> \n",
       "<script>\n",
       "var masonry = new Macy({\n",
       "    container: '#grid_rzcCyPkEE8',\n",
       "    debug: true,\n",
       "    mobileFirst: true,\n",
       "    columns: 1,\n",
       "    margin: {\n",
       "        x: 0,\n",
       "        y: 50\n",
       "    }\n",
       "  });\n",
       "\n",
       "var graph_MYJRdLOVwE = document.getElementById('graph_MYJRdLOVwE')\n",
       "\n",
       "var layout_MYJRdLOVwE = {\"height\":550,\"width\":600,\"hovermode\":\"closest\",\"title\":{\"text\":\"Animation 3D\"},\"showlegend\":true,\"scene\":{\"xaxis\":{\"showgrid\":true,\"zeroline\":false,\"showline\":false,\"range\":[0,10000]},\"yaxis\":{\"showgrid\":true,\"zeroline\":false,\"showline\":false,\"range\":[0,10000]},\"zaxis\":{\"showgrid\":true,\"zeroline\":false,\"showline\":false,\"range\":[0,4],\"type\":\"log\"}}}\n",
       "var frames_MYJRdLOVwE = [{\"name\":\"series 0 (F0)\",\"data\":[{\"name\":\"series 0 (F0)\",\"type\":\"scatter3d\",\"mode\":\"markers\",\"x\":[8304.288325545718,9071.861687349694,4322.162582053203,4317.959919263823,1195.1991259147276,5808.965254856168,121.81716087125704,8523.728933045175,3009.34018810561,4021.9972862029963,3714.3774655232473,1512.1030392914881,5611.796066855086,6797.094182825018,4881.541007706826,6476.704696224965,5304.4298078602715,5747.733222655803,2500.258422980285,7160.474799253254,738.5970731239721,7771.443737576248,5550.182504472575,2081.544075505379,9241.832664114952,5044.173806549431,2478.4795363201483,1130.828621483282,3781.715078784941,3095.1504234140193],\"y\":[5075.873160955561,4603.906452812766,7292.06794861274,9510.143484178625,7050.993463145296,3216.0649776064574,7151.112204770571,7578.626350217219,8085.807077655629,5198.237993546984,228.12963445028922,5030.398064443251,1313.1064364994481,3182.8773786354504,8104.66080219408,7899.820008323273,5877.743130301876,9262.630884767552,2828.2034070397144,3510.885784588118,6526.48656723373,1341.0305044548797,5870.840959526701,4593.9329912644425,9017.099259115505,7693.220117882687,6842.174171841971,8624.874017651528,3545.420305832496,9516.07875903999],\"z\":[3945.3885947241806,2620.408338092024,8359.948969902134,3170.9289520357497,5167.241854860224,3827.7520965780423,2266.628977547709,4808.340131521104,7757.206204476108,1015.0015849168581,7822.233916599816,113.37423163648275,3677.9563946004732,9398.32359842446,6672.9557028158815,1020.9380452838068,398.8485290162524,4634.746695628687,4715.50557809227,9424.747239085722,9655.981967389886,7764.399830213193,7541.237671544496,5139.722871466503,1616.8967692895565,3503.6313141840183,5969.5062481290815,1676.4793934958534,8264.907826765218,8870.508828437522]}]},{\"name\":\"series 1 (F1)\",\"data\":[{\"name\":\"series 1 (F1)\",\"type\":\"scatter3d\",\"mode\":\"markers\",\"x\":[7384.6765419335115,8747.884820469802,7757.531603257207,7766.791347756672,1061.9052568888098,4851.505719740825,1015.413787165057,9845.529453104527,4700.016791518255,6758.073389612243,2862.620351768961,8761.03909962326,4975.498631369995,5284.942327677978,2666.1055719698425,5728.066005907297,7089.846504732853,8344.83306889007,3611.6278702318928,9209.536972734519,7003.189826779548,2933.984790905215,5505.330961849858,507.3746670457191,5330.334224476599,7460.169067365266,3304.667336068611,8048.428504153152,3721.0589165396414,4609.843739401558],\"y\":[2459.290845878075,237.65293345650474,2954.710317012129,2815.0559658891907,2581.9983475257404,7893.241210000714,6949.836606483882,1304.5291002688032,2971.755142792525,2483.5068547446913,8422.810426485516,9709.700003947977,7075.290068447635,5652.870989437408,25.092770543884146,8245.295352114594,8100.69970652187,8854.407920129463,9446.988797844911,8595.370812063511,4685.958250186435,9298.963088857985,8196.455202944744,8809.560344881715,3777.17276774853,9885.949996854006,1544.7182248839586,7750.611136867732,7685.890810525389,6298.499896368277],\"z\":[1476.1668686002504,5933.110572204564,3671.7063550707885,4025.7225692148045,5388.185668785337,9954.638805662156,7335.873110466536,1717.4116853125897,757.2989113482375,7144.404479522126,5613.584153264643,4981.609114038156,21.197547175813014,5540.756555631964,1217.0258951261392,6503.016628108817,521.9262861065987,1857.7875145922885,8008.277740433968,4190.325446148983,1513.7076878758871,6712.574512289155,5970.56845519928,8953.109998957601,3959.5863293284374,2058.4305781426106,5198.365418264578,7664.010669455857,9124.27993569865,505.86787135408315]}]},{\"name\":\"series 2 (F2)\",\"data\":[{\"name\":\"series 2 (F2)\",\"type\":\"scatter3d\",\"mode\":\"markers\",\"x\":[641.2196027079498,4879.509259211408,8816.3228870059,11.804463715293645,3213.2428204559114,8972.67968123862,3540.79654383579,278.87091786538696,8319.549241011502,4473.86980306925,4794.63802823473,9130.502913016964,9852.942866307218,2620.356347267626,4269.727988969851,8113.832991465662,6278.5917071834665,6383.584837411259,5824.656869315512,6631.227546383245,5551.37223287519,4572.692048510092,5744.273329993923,3012.634625926476,7300.0349333322965,2005.5788835266308,3026.822544514639,9114.744686965545,3964.280050034796,9193.88849353511],\"y\":[4221.6856318907885,2269.289099331009,7385.297573545527,5505.812025333612,6686.430797268697,4701.631138046115,3727.2715797956803,4350.734638273461,40.09537444878419,5902.133955971472,7546.805684343305,7572.301337107031,8060.3181732172525,7856.615132292713,5329.176698247214,8941.56833709929,2305.1418225122743,6528.527082049301,9874.78147784984,3409.4783289455777,4336.016194574173,5534.331225992476,9546.087804129731,9607.980389999435,5576.727140089096,9564.861209461022,574.859833388004,7981.689960581401,2563.6845286469743,5779.297964779537],\"z\":[6381.3801761546965,5887.066617908471,626.205981727741,1134.7085240313836,5171.839647781853,4013.65855999137,881.1330713227483,2412.930462879238,5957.025305251963,5562.048834724873,3834.32079863245,3567.905750703746,3574.8866786477383,755.7116991854507,7852.2490130682,1940.4039494466797,5301.510894419164,4469.067144336764,2300.197306562507,873.3965329499305,5199.499207789719,4021.5960970328215,3239.139776837816,1310.1758791682971,7479.679169938499,7517.966442829378,4231.711917605865,9068.639169229551,6841.54878313743,506.685334902498]}]},{\"name\":\"series 3 (F3)\",\"data\":[{\"name\":\"series 3 (F3)\",\"type\":\"scatter3d\",\"mode\":\"markers\",\"x\":[6028.303499595159,7658.984225326105,2009.7981652113717,184.88171487107908,6687.544167263051,8748.39644925523,8498.707887882716,1894.3970196010118,8031.139660474834,3675.1296269991285,8013.175758331058,2234.438373433344,5241.225864425691,9775.715131353047,4834.579104933188,6758.630594994211,3879.115029063007,4712.857891014556,4041.6301560683532,7929.379607916331,2637.4991761217248,477.91232521529946,2480.8360607170907,770.0364449067498,733.8943330743697,6290.65193593346,1028.129809140025,9485.43274300452,6011.298280338112,6230.379078049724],\"y\":[5872.6893008473235,8213.932480575333,3532.748807246651,3106.249753189425,7305.914886813119,3029.227243876268,4739.663893066625,4811.0129894984175,6812.991628509929,327.67699260410456,4089.5556735150885,3201.1960570546016,7141.412029116227,8817.0774876789,3496.906420470637,8408.093357080299,5460.2907681726965,8465.314333227307,4871.70268286342,3407.743826022508,6726.25562229786,9972.441670294438,7583.327414847564,4664.41239116384,2936.148132310101,2597.300644205676,773.2054790015874,4710.9167600433675,4073.7293274597873,6499.870489848232],\"z\":[97.81396769772188,1640.4717543929858,8247.028946037044,8153.127313748761,4704.356161097654,8658.545801463257,1764.9368611745642,3833.2569014798232,3024.6174322078323,4079.5614663458955,4716.084071969523,6714.651985492862,5318.210135161874,8452.09052058543,3990.0186637415245,7676.20095735731,6804.628649768335,857.5288637274737,3620.1287156989038,8567.949364002947,7694.229109769784,851.0608233850759,1829.7239754310979,9392.300951948731,5461.463531524326,6000.053837311444,5227.135597483095,7621.4952906127055,299.3869531932103,7523.848217673974]}]},{\"name\":\"series 4 (F4)\",\"data\":[{\"name\":\"series 4 (F4)\",\"type\":\"scatter3d\",\"mode\":\"markers\",\"x\":[3222.6519016337074,8703.183768944667,6852.671095073491,8150.240792647797,9929.553507488352,1698.4977496814424,4047.0560441086313,6977.782020740463,6563.474787059193,2952.087661502324,116.37370949151516,5869.341544094577,4668.761603121851,3711.182989169729,1773.9831426318187,701.2207133366899,9377.454276153356,4690.8074564788685,4883.657832780221,8653.41891863758,2345.9765497706285,1724.8551094782983,8955.669955156567,9650.492407428237,6016.564497464677,1847.8192141204008,9327.021344134451,6048.766694667259,4414.920404795449,8419.536633899843],\"y\":[8980.467643263843,9714.496793246455,822.5346117729438,7235.392173205928,6615.195084570678,9748.895875693817,9351.564632461665,2957.005806924998,8802.701418754672,7289.7794783205745,5702.1218089515605,6653.502554421149,1844.6471670049468,6055.9019555943105,2196.2609063704276,761.0413375018165,3295.134698590497,8598.893691733118,3559.9288560204423,7348.362788908475,4018.0862537128414,8589.02384592499,2863.573863554907,9218.687129740376,9121.087695195614,8884.860489793105,1534.078398948351,1083.3766469487616,140.2724367648589,3623.206961224332],\"z\":[3415.1240081133037,9810.351964992753,1446.520586457698,114.53953064414324,480.0550659235259,8580.333312180535,1001.4518448641007,2940.485826705772,6990.758685258093,9676.551536899395,9312.396066375202,8323.723416647057,9648.03107642435,4588.654229073459,718.7247297667509,1576.994308423032,3593.3580570546087,8129.11190115146,7987.63253827472,4236.769236676036,7998.982455001188,5340.503161358609,4605.661293067079,348.41935184768636,422.5931811645389,6114.641071007882,9122.959398785868,3293.5776994647968,6104.91565192046,2649.5744067193996]}]},{\"name\":\"series 5 (F5)\",\"data\":[{\"name\":\"series 5 (F5)\",\"type\":\"scatter3d\",\"mode\":\"markers\",\"x\":[2440.4762731261662,5536.709830714763,6952.945880582255,9138.084467555498,2025.9903683625014,3716.7328195894524,5078.5104029834,1411.367593788979,6703.077223478337,620.8518472218371,7451.304301929889,6654.175947639961,1877.8231127881995,3751.6176881251863,1477.4945328512279,9762.768104577239,7851.294894791283,7434.525140175475,6129.445414921015,3434.596616682901,3211.480440902574,1712.313999651246,9629.063016194286,3658.738344623599,1206.6134084286762,6633.450228536938,2626.718574076261,918.6541178885543,9472.505718828881,4966.100942147113],\"y\":[5319.654542305302,123.93733937683061,2519.707516104178,9855.242213559703,8018.241320794892,9055.295424619177,1982.022048992431,6489.365517296941,7295.3940976982,5937.079616045095,1786.1036651001805,8454.580494441692,4043.92057829024,1644.263964797299,4122.571803017995,127.73609794900831,5518.520549279696,1005.8449634587885,7382.275218278188,6196.510246178965,753.6109390336387,684.2167118173747,9067.046131301517,8193.252556845971,7625.10498590028,8190.153828985512,5092.4844505348765,5790.683051898582,263.72416579021785,7735.609463121648],\"z\":[1871.017387559828,7531.384847878486,7529.378279331158,3831.61823140618,9096.683533575895,1649.3561891419283,6820.600339292522,2806.167058509894,9248.788039961382,2690.712256390887,2619.9754851189336,5746.982129227744,4489.789291329797,3751.956993800718,5865.955891222408,3766.747876924943,2853.467442519805,7328.076764413409,8493.412191603313,7943.364476102809,3402.6408831361387,9999.026958299548,7299.7159008091185,1805.4169050920489,4381.389814835836,7482.022523832229,2670.1064725199085,3813.115401058735,9294.955718570758,6938.359810836891]}]},{\"name\":\"series 6 (F6)\",\"data\":[{\"name\":\"series 6 (F6)\",\"type\":\"scatter3d\",\"mode\":\"markers\",\"x\":[635.5514816494357,927.5393244572139,3321.1856234333313,2847.334510842793,1238.2543244102385,2066.099564770365,6490.593878629378,1246.1432403893803,2244.42524121529,2009.7070471573886,667.8178501297693,4683.486492052539,4870.87664010356,2157.219290247342,4525.445527568674,6845.91814176224,7381.464820090825,4415.310221973467,4421.8980974017095,1489.8147283397611,3161.3459720216406,8466.988464432143,9378.252260678202,5048.1678021055295,2191.472932328149,679.5677056209048,5194.591706505712,6080.226578259249,8722.708528867928,4992.971224690059],\"y\":[6154.676201730068,7593.350530650052,3388.3881770167136,2271.8275517534225,2738.4279559022275,190.25826643305655,4996.112118143804,4809.8978422975815,294.9275718623368,4981.185098344524,5804.007948181975,6942.94994841269,6724.325037283596,5249.293437408662,4213.651529245642,1056.2695072304573,6875.265959253353,4969.005096851083,501.2871915676531,665.5868600491089,7585.143418062107,450.75534481253453,4460.94855159053,8705.263457782377,73.68399968621597,8621.99314820264,8647.523813876569,9675.168942201431,5746.0804913688735,1753.0855628800823],\"z\":[7284.772683600494,8877.75544922778,7370.090560005745,3798.1065297250016,8842.745759623122,619.4125693500396,62.21796175113092,7944.321548649344,9791.020695568572,9955.26616218235,5551.301464014909,8450.508796311753,8098.610039631711,9324.161194816095,8783.535389159339,2403.083334196209,7678.3635609281855,2250.6481723456864,8091.153288191123,8630.317996079357,9163.125969619352,1183.3703814485198,8867.702755022003,1688.7872651339653,8152.876013222716,5494.324627133844,5976.051917553907,8572.484794891763,9386.518192809019,8681.052733627763]}]},{\"name\":\"series 7 (F7)\",\"data\":[{\"name\":\"series 7 (F7)\",\"type\":\"scatter3d\",\"mode\":\"markers\",\"x\":[1960.9615241919155,4593.8928179240065,4168.958509895432,893.8912589972614,6546.266993221732,2747.613862496775,8823.538243239087,4052.9918458109073,7867.412654497126,7790.99929463344,3941.867530748926,2024.8971277626947,7423.28774178566,2262.539228060291,7767.53895711669,7596.040380559989,8827.01603579138,6707.604760679896,2177.1640667000324,1310.6120710101766,5093.548859346011,492.4668833348567,6411.625480769376,4632.8128068883625,422.62286497537605,2761.3354560316316,1962.3918308368015,1348.598117468801,218.84231286868118,5327.498395986674],\"y\":[1832.1917436190583,6639.586496256719,7436.345364377753,588.4651234547666,8766.303019524772,2841.893811017786,4243.726488422195,7916.345756579466,9990.159348482253,4545.223122663871,5475.580656101414,1398.5300255841594,490.9368225755839,3392.626092573433,4370.243259039847,290.0515942683846,2945.227524103239,4708.924138669718,1689.002214926586,1087.8573807762327,21.869627812278747,3915.8605500935905,6470.259244645443,6748.5266983358815,3978.44908056733,584.6292190574786,392.8265481621074,4244.81455414216,9221.944875759154,1931.5044604627963],\"z\":[8005.739229083773,6392.717863035647,5818.443471192511,5579.876584873209,1927.674261983413,7679.598149330061,5813.797859005996,3492.0735079955325,5527.268975269798,6685.2167262778385,9666.561827040823,5116.92940568391,5566.330703957086,9611.368176786216,7096.4864767126455,8004.134889687229,3821.1366700963854,422.12597238296735,5216.311118840012,8403.988757414165,9792.726011842711,3145.545326476896,6941.541525170155,2701.2407466884824,6275.285695260431,998.9897696415562,4362.357453357463,2924.300686363899,5772.440428924151,5174.081959724607]}]},{\"name\":\"series 8 (F8)\",\"data\":[{\"name\":\"series 8 (F8)\",\"type\":\"scatter3d\",\"mode\":\"markers\",\"x\":[5013.74731136708,6026.162322452155,8534.45279852456,3353.606973575325,3794.4149884646727,7150.970778715624,2335.0522572694053,4331.51821712365,9661.967735099091,1680.2391595578435,14.803691022013954,468.534935212479,4171.3344389639915,9495.300268138863,3288.639599083354,4139.636762915231,8425.327359971745,7597.654257204014,348.3769413722437,7816.09864547676,6070.706374595189,3996.4544730969365,386.74513641972385,9973.530468513412,2600.062395317183,6602.448979831679,327.651693987705,628.7180468918363,5409.287694358137,5760.276776899928],\"y\":[7768.122773514604,981.8908186151288,4812.352823008144,8006.090501515037,9420.548070682631,1377.363400823294,3529.567298133014,1655.061847835433,6189.5724862813795,594.335440404864,1042.448579533277,1903.4010317287887,4426.175410435207,7340.955043232702,9647.781053367871,4272.096618555148,7872.179744537846,1748.5821667581802,1045.4008037997453,424.66704605139904,6341.641453244894,649.516895625356,5858.689023076926,9658.787266903068,5281.269949324693,5470.284681193438,3613.715903904474,2701.735308722413,5010.230991919597,5683.897754486196],\"z\":[7392.429746785181,1832.180046811076,9660.392835275794,3938.343041434562,5627.235332207201,2805.911600933114,3621.2716425885715,1214.871737542269,3318.760442843416,9580.690560663223,7639.644821707905,1668.497647329078,6335.565154940185,2415.4739336576235,7631.993842165462,7164.43258069847,5393.997998254966,3561.852823527354,6738.6480621863175,948.0256869313253,818.3573371122377,2470.6119120727967,5181.703841144449,8372.091301339799,5245.972222141527,4203.903232196019,3084.4923135889067,154.3446776873647,9068.763178157475,573.6052969727245]}]},{\"name\":\"series 9 (F9)\",\"data\":[{\"name\":\"series 9 (F9)\",\"type\":\"scatter3d\",\"mode\":\"markers\",\"x\":[8568.57598039003,248.99154931783073,2592.3058564603816,3419.0077346972757,7164.957256838041,6090.342658072126,9645.366258010246,3392.0557399061636,8859.38130666989,3702.6568551804116,9687.330361408682,5635.948430804423,5937.324892095665,3969.242850364968,9337.910486179291,5822.980490611771,8202.460976259757,9215.175975829428,9692.95249066783,6160.080208885251,2113.0939036439754,1181.817358025189,2792.1341152754376,1175.5852572291303,6914.262618956757,2457.6482212636774,9168.784473719694,7368.370743893404,3938.913291345012,3478.7631572775135],\"y\":[8539.022405839449,9130.524049284953,4909.745653138594,6323.692056865253,7376.848275533542,5747.33572844118,1294.0399368383826,4701.049209422027,373.79270965080536,733.4623643686,9546.973351676064,6764.835810148427,7596.1675704192985,5281.68169318083,6424.641201166584,3691.052051297895,5529.9221996724045,2180.7543052110877,4456.199810004539,2310.5999604113513,8142.561402118863,5201.470002067253,135.24714748132217,4517.289211956008,3593.5331313990414,1655.0461882856605,6423.768945609728,9656.084699308922,3288.94817504212,2595.614304223358],\"z\":[6757.6714738635,8645.56326811571,2603.446236293706,5968.61909328924,9901.133754739134,199.87455046713842,6781.477003457433,2899.5215262080756,3717.708953659985,189.33013329168412,1282.2164615273114,6272.284628256321,1209.3107949261505,4915.072767581811,3146.7952870606396,3764.6935292856833,4019.924668573679,7872.103722613924,8843.462029234894,4587.642410856978,7009.081918934319,7436.278863743873,4485.767677087207,318.0966097700122,2470.8460356596715,9834.707682500406,6320.7997629052115,5420.5173404266025,4107.254875947405,7745.319830765802]}]},{\"name\":\"series 10 (F10)\",\"data\":[{\"name\":\"series 10 (F10)\",\"type\":\"scatter3d\",\"mode\":\"markers\",\"x\":[2948.9565679902676,2319.116637594447,8960.87119983048,9920.191021071174,5863.699665773556,9213.383745668747,169.2968172696141,1338.5502638965063,1589.17831027372,6221.907234698698,4625.204718517325,6569.214677678979,6945.571326305641,6894.591874875494,7408.651949832531,1258.5306841005229,8786.447440171478,7650.94767079616,9204.135227677536,7958.725196892895,929.3937200320968,7282.209699565362,3823.056108174434,2872.8993477946883,3940.620663070461,2297.620634827686,422.96579227764084,9516.727686210708,7936.201206338851,1600.2906555058194],\"y\":[9048.161499845319,3783.2488478748573,4627.053854943878,5745.6232069042935,8711.910661866756,2445.9693799590755,2461.739301129671,1865.379472456532,4398.782681269735,3746.8201882226504,7910.583446163389,5233.02275366657,3086.268761840749,4389.3463611862835,6686.601608355848,2401.072900582308,9168.077540561435,1993.8252629957599,1013.146867567003,8858.771742415549,6507.190844761513,5869.847222698248,2925.1602247305796,6238.440853855151,7754.976057955453,1823.2142226879178,9030.35245457578,241.49222836733375,1543.346236489248,8637.8448034322],\"z\":[9158.603012279824,660.1275351091851,4690.166969567135,4859.696050558825,9892.311179556273,9138.344233903685,9653.809603264943,4558.54970681294,4097.389680518117,8645.940074724633,7130.957861858559,9854.826819763395,9264.045302087528,1031.7888486766246,9912.471811855856,6172.4362157454625,718.4395513604946,5477.738957692406,6895.320089120549,3414.9774565534963,580.7834016031221,1192.059449875421,5494.295383406939,2561.456173533955,9722.363023064849,2261.4438060057328,6605.428751438523,2538.995107352501,7913.456658549655,1223.153585147545]}]},{\"name\":\"series 11 (F11)\",\"data\":[{\"name\":\"series 11 (F11)\",\"type\":\"scatter3d\",\"mode\":\"markers\",\"x\":[8743.720624767813,6653.849284712627,6856.049233786774,623.9646933110843,7011.014564374213,1348.3679234190881,1859.7062210612269,8600.158395941326,8145.5380950608105,2600.366671677066,545.9233566515875,5342.873676351905,5062.837038267597,6892.708925522506,1155.7177898900072,2205.720559139955,3018.5413143693418,4354.7169606654315,8787.184909338486,4166.627092666444,4806.591104525349,1413.3673467354436,5204.191991993687,9373.474742341674,4252.267102167657,9091.047933182097,6734.339690517633,6583.153234567375,5667.562343747188,947.9851274234862],\"y\":[5213.766899037394,2446.242966266091,1907.142444260198,1591.278604348495,8938.339184826758,5794.615725347086,5196.341388434496,2658.8058429501916,4145.201037693417,5356.815665891815,2998.3441582645955,8235.090517442808,2675.637590036469,656.1669842189177,5845.909302371337,5767.552918612917,8159.633471513725,3239.1300475550233,5283.6895858542075,1725.394084688785,1314.481127654704,6836.503372536938,7850.409650322838,3479.686423985182,4764.230865880601,577.6549689921873,5375.866146416192,182.08003015399265,9163.741802276296,8958.033204054846],\"z\":[2775.914962321766,5780.85299150072,5350.534465025816,5902.79726900436,1999.3153726377977,6736.870498219086,1749.605875085527,7974.47435266724,4813.5054668566,5488.339865088538,2320.8195003269193,3540.140487359762,7712.082317414912,8262.07980897261,7965.432718590525,543.6876485048169,9384.968020749371,2440.3476981999415,3497.781970527831,5421.329336990151,4912.942897857516,4366.10098861484,3040.0954355844647,9653.565403529954,1131.4302043101409,3205.8916914265346,9012.859725156835,8464.412433719643,4454.122971512503,288.426044568405]}]},{\"name\":\"series 12 (F12)\",\"data\":[{\"name\":\"series 12 (F12)\",\"type\":\"scatter3d\",\"mode\":\"markers\",\"x\":[3770.1137685118147,8258.780884975233,5855.2416073756895,6198.145614544338,8368.50614455046,5531.455080959523,7679.920145956584,9827.016634919843,9960.894482030702,186.21815227712003,3485.4148161277344,4574.041804955935,7869.726551505973,471.23513614839794,5211.541148304276,6930.835560581442,8522.39160759479,5066.887703318362,1636.937604757568,1802.936546465147,1120.1875268381546,254.83472494666427,8298.468363486894,7090.350886920126,9164.495846887034,6552.145930020997,1834.271151552429,7287.157422129052,7778.217384995912,9711.939712377562],\"y\":[1056.6665052023927,2158.8272210620376,3137.470067782933,5572.028820992538,2969.343622802144,1917.2410765463699,8268.003586171828,6875.660218464455,4413.94250685133,4737.215579090591,8962.740413193022,2893.511280250479,9064.354912676814,5944.677459786369,4641.304819519613,9443.68237392305,5082.771906038809,755.4536126318056,1599.3554116080422,7736.506299523812,909.7027020379334,4054.970850962474,284.98763173184227,5363.568105231064,5380.903096324111,1382.9905347711135,3991.4289426900964,1705.4163217321704,3647.3424205840956,5023.82993385865],\"z\":[3669.7007907387756,3050.011281988937,2220.0523472688437,7901.347248196775,2441.8741568209525,9794.048872472908,4869.895820147818,5839.3022145017,3834.999866483899,9241.864408190873,6083.002531087261,5671.525195950217,9757.746511630812,2721.707232494812,305.81768880657665,2672.6611042798586,7806.23454798469,5006.749331220397,3309.416594304407,5829.077939451301,2612.503992994177,7358.273219877775,6660.935786153655,3580.862523122752,2638.5111041284404,2901.0620523704156,7510.681469440597,5839.652949208569,2070.4991817432538,4496.089055100969]}]},{\"name\":\"series 13 (F13)\",\"data\":[{\"name\":\"series 13 (F13)\",\"type\":\"scatter3d\",\"mode\":\"markers\",\"x\":[3686.6741999441065,323.37912282566884,7283.042432905868,793.1871243587208,8434.090857424628,2547.8234988411386,8719.016225474528,5726.454707166648,45.27498094406113,9176.228910527421,1971.1986280729466,357.7309000750539,9096.68130915557,3852.0170302351976,6353.162831844778,3678.5532818975544,42.328330704446415,3126.0074900118216,5311.570284426298,748.5896395713077,4509.035773862584,7638.353547468274,658.9322053773238,2378.6124314189515,796.925081500266,326.7383911620758,1795.355757049041,458.66106897873516,7809.364050793608,9106.210614619646],\"y\":[1839.7460127502418,6987.120380913586,1919.7443508597535,6202.353014918094,4905.388544520124,2874.015472869551,2128.1749824346043,118.32248012978441,2631.790988907362,4671.905520236046,2269.388247279347,9077.612503397662,3524.112062636361,3530.3370744151684,9003.850496342488,6708.228040182027,5653.463174690222,874.8918234813252,857.2744978920643,1720.285521223056,1835.8195432621048,9579.447538027505,6669.4370043456665,3377.880155658418,6534.229641616957,7730.344035983066,1471.4031215161638,3677.3922460572862,5418.46744244285,4473.726148631721],\"z\":[4030.965234770777,5318.229023486105,1768.2225140701735,3892.4154133769075,3089.307496311031,1788.3296719786501,8720.377484694523,3376.2369376348865,8657.608865548977,2185.5905523043193,2737.8767091417076,7529.808748454791,650.5006555549476,8757.68770413391,1617.1386333311632,7304.3778312795885,9603.999068830612,9566.615050971563,9852.924341751184,6745.364588032713,3258.7339408000125,2170.5709247813543,5244.0210590047045,6514.860079790211,8385.00287627005,6764.665168186223,3250.0574388036616,4178.388195121636,9384.375046122801,8833.238116867256]}]},{\"name\":\"series 14 (F14)\",\"data\":[{\"name\":\"series 14 (F14)\",\"type\":\"scatter3d\",\"mode\":\"markers\",\"x\":[9799.217047104083,6137.836842797006,3923.2809109875743,2040.4190622925332,8998.57332561362,5047.5287860950575,1137.2216141505287,1821.871370508984,9513.217861449297,9567.986432730862,9789.935599119783,8939.508559108936,2257.312316703811,392.02326869515633,2180.0640485980316,122.28633698758928,2479.641430421853,7620.368570133248,4558.562650250546,9840.006712228856,1328.2033408049222,9769.11614792589,6353.303347688327,3243.4002985005272,5542.822629682071,3958.8611642310157,8593.01908030237,5352.576088252878,9051.727057658767,165.46834721560933],\"y\":[6580.945744324892,5687.264030341922,6937.479761015942,9804.99560019148,3089.2179584770106,706.0910738152115,489.613065026443,380.36966663559156,6128.278243754897,8658.476582452573,1875.7663937588143,3434.9972268436136,9691.26531249351,2751.544856311207,8340.076357661603,2638.5624846564547,6781.544087876709,8895.790521629075,8777.026564181175,2472.84865375175,1502.2509383344907,3717.057876961697,30.91626766701716,5690.4955230481855,1019.9252916689605,7008.722961538147,6335.559593557342,9487.183818026311,8810.002513778574,346.79505535964216],\"z\":[2935.7786521520347,6157.814014807041,7750.149120226084,201.9840196448508,4121.711849750096,3899.8293121708903,5348.120796900001,9556.606721489692,6658.903738045226,7381.903679104738,3674.0287066157052,6770.5340793930945,1911.6062578862213,5713.8033920417865,3412.60389320306,4239.207632417735,3833.6649348340047,7533.297748869634,4859.249389130543,2248.0851475315753,5440.821148008939,9068.58431334193,8654.37576486918,5351.7014845546455,3380.216480231334,1239.7611022340193,5583.717003120488,9591.855524255207,8777.332449031845,6130.464003660757]}]},{\"name\":\"series 15 (F15)\",\"data\":[{\"name\":\"series 15 (F15)\",\"type\":\"scatter3d\",\"mode\":\"markers\",\"x\":[7868.02957348749,8918.27029058027,2667.5584332909784,1490.8639472069162,4023.7757571698053,8286.39255451453,6009.030295339692,4325.794024616202,5597.100955240882,9080.83402027514,7525.333676221754,1076.8570991497306,6856.6131954038265,9749.276179936041,7441.125023936136,2424.9430348599853,7876.180404308121,830.4989057704348,1550.6687921834828,5319.660927885095,7347.159503161066,8921.512173747247,7998.750871768922,3484.7717399269227,3930.1793419133423,8552.602120143698,8655.37161766998,353.78247270789086,3989.798583309272,4425.433515096455],\"y\":[8030.085256859079,5157.443422102352,9151.064038672483,9018.17011228375,5298.797113244364,3714.969300355875,9275.20091715623,2172.9169225159762,9205.28964318464,373.37715387544824,5172.364144558414,9954.59823244644,1351.695468819084,6494.418851039849,652.5888572054406,9806.73039521549,706.5929276834704,3906.162160681598,5361.775284046479,7828.36706877959,1036.353416693716,8816.348345817923,8257.752337828759,1857.8221347155777,3404.819102494773,2827.240361995771,6552.163290326102,972.6099092670926,7888.343190083571,2896.7437768963855],\"z\":[6477.121404275145,8001.365428909413,2217.683930599995,1358.1723527304168,331.28558733246496,6692.336691086699,185.18838671860883,441.0967049262149,8918.212279488931,9294.370243591695,9345.161270395593,3128.300336004942,9710.538560082598,3480.136227906274,5787.263484925706,3638.9443301397273,8856.7574669761,9777.674389909262,3577.240732620324,6345.616787235159,9493.049029773092,1975.1608105143314,7836.235601221511,1513.022977006684,9730.832958407434,3325.129110591769,3369.3842342094995,9888.655117324613,1161.4150233393007,798.212214594819]}]},{\"name\":\"series 16 (F16)\",\"data\":[{\"name\":\"series 16 (F16)\",\"type\":\"scatter3d\",\"mode\":\"markers\",\"x\":[5256.363672207003,5880.847553527927,2752.2950558538673,8122.785918446625,3880.9944153195606,827.2137226093735,5605.417306694499,5895.737904907738,4503.966853540647,3686.5315206884275,1205.8395048137904,3660.9045218655524,672.2101581934214,6379.723803379499,9510.003816610824,4525.549838668832,1510.3726249154913,4960.658815600711,3505.994479352216,7621.588000274708,5254.338970360286,5815.076585459753,3723.8697270591547,7517.080543348611,5263.661534717715,8166.018315052841,9582.361829145086,2544.8623075609257,189.23782005589973,306.7214442598343],\"y\":[4428.937296626544,5938.988052120066,6974.514975472629,7187.016976857694,7663.416863149893,4656.008576085985,3932.9600094665598,1246.8449778412482,431.05428402061665,806.9210194140852,1271.4858294820774,6720.581128130618,1029.1804091437007,9736.964926792438,8118.974532782232,28.447818323337202,2392.2176859827628,6964.258356526742,8370.996811137322,5326.359281177395,6803.075733529648,3424.60663054195,2476.273940040181,4803.128110588468,2324.641510113752,4768.633592150373,8667.38612179394,7894.041087020196,1353.2821980079423,5818.71991057934],\"z\":[5077.683337726354,2222.3865849637746,4166.975858474216,5717.060309429375,3688.3066593031144,1785.5996232615635,9373.899206087872,2782.4787528039487,8113.680512145634,4670.262227345256,8762.991787632685,642.4661076978422,9860.79549235944,3410.277363261173,6216.230900426508,8818.241280340206,1887.0422652198072,5995.117571260943,9063.045405005552,1614.4519620405806,4033.3258767298953,4490.119223529301,5540.506728592607,8901.474388536764,2223.628066311455,1248.377921473156,3868.6329104467886,1177.0862914797842,2199.150402391231,9773.874153898834]}]},{\"name\":\"series 17 (F17)\",\"data\":[{\"name\":\"series 17 (F17)\",\"type\":\"scatter3d\",\"mode\":\"markers\",\"x\":[6858.34871077036,9155.622228310614,8994.614098075845,8438.043161087566,940.3474352286023,5056.549789365057,5366.253732622361,457.0702320016728,36.29762127508984,8750.727457482953,5945.490066537727,2804.7827847625595,2789.553038155356,6971.438911158733,9019.22210846868,66.08047978043818,6330.711823121989,7908.622263633532,4527.130884819651,6628.42483786538,974.0875305157681,6678.544445723224,5118.344279828763,2063.9905475432174,8024.350744002558,9397.497258556392,6924.256271270952,72.65469408079927,7218.303901680326,4886.916865098425],\"y\":[8081.259157713252,936.0809384380941,1234.9559133459697,3398.664577291468,5976.590594941432,1075.7333827432835,2177.767604984326,1173.0270557663168,8692.455386689013,1012.7336522564989,8966.13953716329,8128.324101378832,2188.0345935385926,4795.048641683595,5168.917762069957,3529.8434396165244,2385.9440180170523,9787.58165838919,3970.897628171074,1097.1481707345608,519.1645005620816,5613.31190863369,684.0075336710782,682.6274565932256,846.4103020611302,4988.707426059401,3498.056252281966,8390.496013475014,2158.3656619000503,7214.214352475031],\"z\":[11.635514810217629,804.2686407546051,8374.16004352849,7160.706462965366,491.96530125562685,1852.0705013736615,8966.919531342364,8735.350761531616,8783.180198641785,2762.9669986723106,6959.1725730899525,2015.4285724618926,8315.751556347248,6553.829279841126,793.3509017779317,7506.229233070254,3765.4495904284145,8535.076098792459,6509.572277167896,9309.206596431288,8568.444484171525,3434.9639976996705,8352.351504816277,1379.1746616455102,4719.860325564467,7915.92180774885,9179.83230406129,7504.388259699725,4066.2852630206316,4492.759760148581]}]},{\"name\":\"series 18 (F18)\",\"data\":[{\"name\":\"series 18 (F18)\",\"type\":\"scatter3d\",\"mode\":\"markers\",\"x\":[6863.591976501242,6160.9409157138,9648.456808511643,9161.404345302866,9244.021121597634,5972.982447771319,1558.5346415224421,408.1450284188304,8145.731690840195,6152.843648961778,4247.083757985262,1693.2007545690753,2459.4060660215555,9000.230243823742,1248.0887122672314,2988.7484853559886,1360.9440467520972,8307.224835977406,8886.025133947793,9500.378662950709,1365.7268669899581,8345.918091707941,2687.218425806526,7312.273164935592,5105.264698501033,3008.064927516543,8938.420820091364,6370.232544485321,5465.448147482846,3621.240952204191],\"y\":[9118.742002158131,952.9986280028824,6040.079197631464,6983.551703336693,6776.7733668136425,6581.157307832538,7730.308726377078,2239.0290194809504,4832.944947633914,174.22721918816663,1760.0601441750287,6358.418812124322,6257.8608622345755,7190.369452028725,1379.4751578702812,3195.1535391067578,2610.5612299669356,5469.484963772307,8092.865919302595,353.86985651571166,3016.3616052416232,549.2897946766062,3374.6151748338016,1438.920004649401,822.1232415029389,1335.289339657485,3525.9166851268265,8642.89527579072,6387.51104395356,8179.400324374659],\"z\":[3577.2027171128493,2090.263603660377,2254.000138403054,7658.297090920952,5955.556967114154,7868.798852814864,1279.0959830381976,9641.386276327885,1013.3667100798372,6261.558691851722,9231.429875942767,2599.644541624334,9453.91789710822,5334.7445995820235,813.1054056870423,2530.3775475666903,1191.595199953278,2741.8564957109916,2108.863410266911,9359.292905803954,1248.7934243126485,372.13555802090184,3057.344776327362,2230.101072256131,918.6112580191652,2301.359320588584,697.928696365696,1703.1909778089127,1611.8406665088169,6395.639815271736]}]},{\"name\":\"series 19 (F19)\",\"data\":[{\"name\":\"series 19 (F19)\",\"type\":\"scatter3d\",\"mode\":\"markers\",\"x\":[7667.329072055362,2558.7561128538973,9558.726821343369,3873.9491152876935,703.3318350444883,5636.067177371773,1850.41863435066,9152.673258439645,758.767592852847,939.4275893721405,8181.993042780353,4375.579489754925,9737.002924146514,7102.664451165671,8098.376767610868,9175.15265439754,8830.95170075171,4227.84530468221,546.4562235931747,6416.342852919988,9980.801955144429,8100.230377761722,1101.1062496218337,8941.333273510778,5061.35727140997,3830.307093843837,2359.8323135546084,664.029888415344,7068.098941376706,6085.07351904895],\"y\":[4690.166507361174,7755.5397999790885,3791.7769570713767,1244.5730848455628,7765.913745710163,2116.9883413584303,7254.535646923505,4056.0015687802806,8142.799639907771,9853.607802406015,1526.2927777736102,7656.548279174109,4501.018982969599,2044.0969183170555,7448.28526306635,1197.448690522306,121.64466117749461,3741.8435387158997,5261.401681085524,3725.5623532329964,1665.8002573412623,9849.665520471503,5170.1238833314255,6465.112438549764,4389.964821205231,3277.3175063835256,1468.6067479067888,8191.060685278468,6557.718165342299,1621.075898460409],\"z\":[8013.62036380021,9996.903109108296,9997.69981737654,3497.3045039854187,1549.7888452787956,6433.520202758804,9509.499270951334,4616.972533313641,4675.763411576261,9732.026139103804,1133.6553403117034,6705.679729079288,2085.664474700206,2622.3998078941313,8178.887540305035,9453.818800534713,2128.335244806707,3121.005987577444,4339.144671531953,6824.087031181846,697.6530360520694,1583.940242981524,5235.000916627766,4248.630084381115,6000.344185142118,6309.464889961401,3278.3894876983686,2515.689664415355,843.4545617601519,9021.625313930868]}]},{\"name\":\"series 20 (F20)\",\"data\":[{\"name\":\"series 20 (F20)\",\"type\":\"scatter3d\",\"mode\":\"markers\",\"x\":[5886.60870247313,7475.694056527726,3741.8293258294343,5678.469167305404,3761.0001764887193,2089.3160078086735,1366.6585335961545,1222.1159807550218,4197.638897098253,8795.096566189995,2639.3504558854875,9124.254319800766,4211.839913176283,5691.814546630833,9120.693553924777,7879.471096164885,9635.230038462509,9610.857469933397,7253.475414970295,6960.1447905415625,9283.591834400455,2796.4276770165097,5487.428723537734,4170.466971545184,7795.639901421162,7616.496710891032,3348.5747066464255,4823.476574111696,6807.337208977675,5494.999893860109],\"y\":[110.7423838403343,713.8281358512377,1753.3219508211894,2085.8375833190466,7885.241132579042,3470.3377363735744,776.4586523302286,601.8316378713773,7665.3690010259315,2546.1800510922326,2978.485253831008,9166.862351311134,7145.642412717775,2840.9391178664887,5559.183213421453,6076.988773833795,5981.335603172906,747.5406947954177,3268.445695473294,8936.432596525645,7562.120456195716,278.4273814640037,9035.073345804587,9776.886352033469,6344.302794730457,2849.158569367081,1638.0857663145832,8473.685067904016,6319.351580980166,5283.952900215831],\"z\":[4850.780517168004,1039.9519310340065,9292.121982845252,656.5130801692786,2614.7327779375896,7709.918910006906,1300.3779942491933,5690.804869540943,6490.376845058851,8115.18674123604,1727.918848106208,6620.288045977792,4882.7677832609215,7312.782137220338,2446.8232669066824,2640.4263632148118,8355.570348953699,6941.433171146556,3670.0198350601,2388.131079890646,1723.2791551514715,362.57449705692,9103.606212029263,4243.1216428116995,1551.1241982472345,9285.16424809349,5459.030875511376,5670.012659090718,7194.07272786512,2078.4755583799274]}]},{\"name\":\"series 21 (F21)\",\"data\":[{\"name\":\"series 21 (F21)\",\"type\":\"scatter3d\",\"mode\":\"markers\",\"x\":[418.4641870242833,306.2688125739477,4570.786067868236,744.6047128978117,8742.382512255668,4049.9942687704884,4495.350145081064,4352.512560072124,8366.595982461244,3012.849607828547,1579.043734262926,1627.9988386979571,7056.651604835864,6877.223536441783,5466.369479733748,4349.081251819627,5470.743885523577,933.108589359033,3484.0183133671508,6213.836009049104,4327.977435754723,8868.961495107651,2658.398800832269,8927.828376574058,1787.0175559567447,6252.155692521403,9496.807473511404,8400.845256684448,2110.876661785824,1558.4619031759494],\"y\":[7929.277572035079,9147.713869240632,8226.782208186016,7596.322391855332,9372.591738513656,4255.575813031281,8885.778281578125,1220.509026190505,4004.896184640824,1610.0594094987052,5784.915302101794,3341.0868455896702,9028.815245328546,4465.369877979978,7235.583287713317,4407.4314985794335,7952.90575304833,5898.4011797850035,2744.7502873781473,2783.3776102412744,4735.755189094975,2204.545479562625,7221.5684607777175,4728.400533141638,8013.974659328469,9872.956074049223,4430.015552630128,5061.0697250842195,3574.7909474216344,4421.6001778935],\"z\":[6778.940538229831,7004.827041733009,7735.898983071922,7077.513471365232,2574.0845165723135,8202.487152530992,359.6849560841353,7055.245361895312,2452.3579059453104,7434.670628739138,3855.883526672966,3016.5678549778063,3876.846130071283,3188.7205313253285,3716.191021839045,7187.089120226611,6291.730888097853,898.4716680348148,6876.302583870096,9560.50297525781,9819.511502736994,411.5769853031248,6515.298195720786,7638.773933161348,7228.611599275857,9039.91979754609,5779.256789174553,9236.639186361283,2307.667338556112,8409.969827033976]}]},{\"name\":\"series 22 (F22)\",\"data\":[{\"name\":\"series 22 (F22)\",\"type\":\"scatter3d\",\"mode\":\"markers\",\"x\":[8355.425967032497,2021.3882844231257,7753.487638243047,5253.770116621051,825.2345254553284,3663.95860387306,2212.8874983697156,7267.565867675262,288.881807123269,744.9586632425243,9214.291853841563,5213.922133958589,881.1940037943011,2889.3191916897267,383.2182165757958,1554.4973527874806,4487.893619413164,995.8374048555419,1556.4403017773986,4074.4714847026107,4223.374269362641,4882.970264754167,3192.8479173299497,195.95690599497172,4045.531030484888,6189.800066774721,5824.711442350497,3976.5467077361573,4260.153110077307,6951.1832726113535],\"y\":[7201.2724637589245,3150.4813826536647,606.8256200119371,2908.6623501271647,247.27668621265076,7993.747136753153,4120.259600248116,3323.807891705999,9992.272224384225,7280.743536950639,25.403651813022954,5828.228847780709,3222.2003301045374,9148.989204253277,6551.656201236175,5674.568707002063,6763.008735532418,6299.659267242256,8740.945948656788,3645.389514511106,9026.714295789208,5635.578925671184,8076.401355083804,5831.912287327308,4733.5584615164125,2174.625692271175,6072.783034182783,1512.1729371818403,4569.585788639224,5875.318086302997],\"z\":[8846.80771665416,2438.220307551913,9947.192250928241,7872.701026818682,124.94249424267801,7984.569841497844,8006.886939879205,9546.461376700665,2148.2052466071623,5815.197404417271,3531.713296961826,3829.540242833909,7497.9567555335125,6993.94060717049,2541.482090249417,3214.3325207377547,9993.624385255715,7793.250387699455,6992.170023215889,3024.8962179976934,9502.74979844887,7848.817173317101,1226.5409595282829,1697.4159714649861,3755.709945239163,5762.667270006033,8605.25066792521,2047.50326348909,71.90645716560695,8774.913627472983]}]},{\"name\":\"series 23 (F23)\",\"data\":[{\"name\":\"series 23 (F23)\",\"type\":\"scatter3d\",\"mode\":\"markers\",\"x\":[1093.3955203478185,8801.73274049974,1281.1790804128143,2704.4114702920388,5485.677403680685,8032.150870267126,3063.646623688152,2001.1574246611597,7424.047107106353,3556.3170105736754,4433.136129558839,7458.343305178292,8394.90713811545,3851.7644911300076,9153.80942447829,899.55336922943,1488.6413548950927,582.6024695116794,3506.5558296722365,1986.6794292920476,8862.457950204604,6447.300527312116,5011.163651422181,2186.6925294173466,7568.221746073853,5730.5319605282575,7462.248218967809,4890.505244439628,690.1665940222234,5678.274795572606],\"y\":[9951.354954686374,8694.720229019511,7583.071834326102,614.2048260384291,1424.6179909605582,2937.1511623484503,409.69595009743733,3576.731421018512,7764.804663604218,719.5738704974431,4146.9631078105385,2179.8715910615065,5388.528863050589,4856.244984073261,3763.5994208351854,6387.46643972718,3913.8703706154256,6454.304212365818,5367.617890687087,5939.090288909025,580.5890737262321,4162.254335542028,7780.260181567904,4277.318942369618,794.5811327434427,4515.291227734315,7213.69910373394,3999.8559378803566,2420.1659641132633,261.3313478305268],\"z\":[513.0126562328375,6096.343968393756,6258.261821475901,4069.1695824412122,1768.6436594083023,1528.5169501166151,1525.4458324897037,9600.269274810104,3013.7619685728255,9073.67424502215,3088.356867829607,568.2724009683759,2191.6466182016848,7775.289459795762,6709.850817290222,1115.3889737047118,611.4135807326526,5830.890568558587,9627.766666866655,7602.410519242128,7706.112807136638,296.18312830209106,6414.122962249321,2739.1624825101335,3065.424176283048,3595.706506647789,4252.008751088267,7874.795370969032,4435.885485947319,3504.1508291633204]}]},{\"name\":\"series 24 (F24)\",\"data\":[{\"name\":\"series 24 (F24)\",\"type\":\"scatter3d\",\"mode\":\"markers\",\"x\":[7519.391466038268,8222.388863096634,5664.786521085044,2998.784760291101,8883.517965548403,8809.920843965892,409.56719716887636,5182.273460708487,2986.5324504810874,6029.734833860195,5842.763456846123,6336.495707139724,9242.395742457005,801.2145628130263,5553.24260919549,7091.794747931459,2267.1362811291106,4566.451560947472,2377.6793649383067,7682.429727921331,2028.9223355858833,8606.274157807524,9991.918563037814,8307.816014914573,931.3933389013051,494.0805044486551,6750.084925881865,9730.478829410631,1733.1442729154712,8897.496964888747],\"y\":[6479.990908322259,2415.465565779776,8458.21081787829,9392.962594309796,8726.606268779635,4752.296111061659,2266.849919259999,9475.918791018637,5281.052966733854,2199.3533260740573,5632.874800718546,529.3590875046317,740.789940263048,9551.94911025303,1113.2439916989722,8156.073244427121,2317.358114171524,7959.124712004276,5497.566983035037,9985.001435955508,8141.2599281355015,6800.576988874201,6189.636378244134,1829.6837624322716,3909.2463279285284,8083.925198992037,4300.0520118343165,8906.879485318912,4877.494220466425,7633.8660315820825],\"z\":[8118.4552830059065,8716.000357786195,3924.850989963028,3018.5888864114786,1385.8450328737392,6135.081534329099,6693.537805873944,2895.154238019935,3101.898185643347,9306.596867040771,1660.3945259728036,6254.3636475677085,9479.174294451768,6966.498182518556,6399.961458394661,2906.979404822028,4095.5326500183896,4012.4358790068304,1271.3896928797176,8476.982809017483,9298.048178969573,2312.2037195261914,8294.38075398682,8153.879766062494,476.16024632096685,8021.017797353158,6075.053976850893,3504.901089190464,4948.7450115518,5006.3269093061745]}]},{\"name\":\"series 25 (F25)\",\"data\":[{\"name\":\"series 25 (F25)\",\"type\":\"scatter3d\",\"mode\":\"markers\",\"x\":[1300.8471207569917,5759.265387767963,8899.25614312644,6371.426356319508,3544.255628095715,7150.502132709465,9045.029131106045,2524.222314745138,2898.4233582997986,9139.166032391133,541.2954729835595,4755.080114550079,9313.296484885632,2637.091719583514,8997.415521916575,7867.756772715453,8409.25594978144,715.6746574403261,2422.2796985466266,4050.006939887396,1015.8518266694316,8704.491361746945,8417.788651820281,2875.5226866129533,2716.457719743618,72.89263669124412,3003.7769885765174,9096.44884946468,5275.374569399322,9036.042268298987],\"y\":[84.69028997395989,715.7904367268375,3982.1114476251096,2438.1944525656418,4757.787372132657,4721.614292442464,3668.2763688424693,4139.832380260342,9414.589028312454,6820.012395053964,1435.709256576283,4871.6218969108395,8901.744072577361,4521.388294465573,5980.201811184247,9316.95980896248,9884.444566073264,14.69106842270751,1803.3380150347566,46.22068588743367,9994.967228638507,406.8116652275544,1575.7057980062561,4849.645751415131,4350.877022795532,8109.424676102467,1447.9250490968686,2.130345762958452,591.8784984254921,3423.144680107679],\"z\":[2201.64382294024,7042.007311041336,8711.255903790932,4698.94052509559,3790.8555207402574,4757.244820173058,8647.292828150257,8849.326213750193,2044.5950073415365,1246.305457793868,6852.020995151143,6436.9329910607075,4085.274503333488,3157.249365735658,2869.0950618844845,1085.6391916967568,3362.621706324519,507.4766933972263,8329.546310516558,2539.5119232100715,6111.386376086761,5847.852453178433,3713.620579831127,6337.399223900425,8511.686074044323,5958.765965409034,2728.8609312928215,776.0811868563267,7864.063302280913,2752.020997579868]}]},{\"name\":\"series 26 (F26)\",\"data\":[{\"name\":\"series 26 (F26)\",\"type\":\"scatter3d\",\"mode\":\"markers\",\"x\":[219.04413966856717,3602.474082482472,1687.0294112240524,7601.269172327608,7145.538533092097,6705.454130526779,5803.075636446174,9935.034133111303,5372.098120102284,6970.449173926843,6199.831927096964,6600.200046724705,5736.069067556662,5415.022338559332,9736.258484019485,3240.165271490625,5203.425905804242,4741.251808974179,5609.462091524061,2730.6922173218195,2782.0232747546,7520.787957871027,2905.9225647860567,8577.808777122042,9306.885875927848,3371.045620614066,9531.630303730188,3105.951460506442,3213.3250599271223,3686.0729050753193],\"y\":[4348.82770145333,1250.859433510697,2978.118515407032,6753.207113873612,7442.757916064218,820.5670795615239,7035.940994167004,4416.716956272559,3100.025520041055,9199.160214362682,3667.6896525356715,3842.198454515815,6300.8735825115455,4641.798986726469,6609.302792371497,4390.57839821884,6310.889310906647,7545.83048276694,6944.118095205001,128.14929990967562,303.35221719549054,3381.649202845477,8218.773592671154,3079.148125610608,5851.638903688219,4328.285139980598,9662.108045370025,969.9567872965487,3601.8065209390193,1082.532934111261],\"z\":[1888.4691968121326,5919.091384730794,468.6763443160913,9796.759901952271,531.2903172915994,7294.720282510766,9294.443604408567,1649.360697374771,5879.750981652095,2791.527377641666,3067.0429840900047,4163.154044668768,780.7908764800864,6671.321569000962,516.2012107655655,4060.8440458257332,4820.69650034667,3066.8626408036725,5188.3120553392655,1183.0012516055222,114.93616381106797,5265.962088321127,1946.9733096325904,1792.8370370669134,2911.8685812058966,8972.985953613854,3254.2262260759967,7453.385492301681,5655.4094749080805,8687.471562722332]}]},{\"name\":\"series 27 (F27)\",\"data\":[{\"name\":\"series 27 (F27)\",\"type\":\"scatter3d\",\"mode\":\"markers\",\"x\":[2558.240831898485,2586.526069892702,6153.686335094415,1544.6435964695681,3646.398156966423,9809.609510602095,4065.1691258615683,2230.198940461857,2918.4164976054763,7194.2829885097435,40.71835781421784,5911.799957136269,6192.379157187816,5703.431883011688,9549.441855815136,3522.299919954899,2877.2185378671543,8235.988492574783,1668.2063812210545,5184.8028265657085,8128.416123164399,3945.683578465704,2929.105103214743,3087.23102481011,7949.386211868092,2798.6448496067605,7696.131836403712,4694.161884716217,3109.202676313696,5696.077372258096],\"y\":[9481.76780645583,826.2653054379721,5218.046629981703,4912.084724630918,2116.140362705622,842.753831562727,2334.9407349889216,8083.02126894899,5745.864930345899,8929.84060784878,2078.0500308880855,6533.592515908735,266.634714261208,1328.2666126559284,7366.0261108469085,5336.24980853412,7983.077529785959,4225.5533246608475,3639.580267013616,8174.249854488862,8041.348937158096,5993.6962689240345,6695.6652006130225,4815.0859753191,7494.389156245788,5470.610580592452,7112.359210795961,2799.8150254161046,7736.716429565954,63.706550396536166],\"z\":[650.741206349964,7815.14348596207,485.093622186068,3596.5526498710765,3990.75205961372,9138.953556269102,4483.345130472115,4024.668027293098,1691.2395629051102,7536.287019005027,2674.0655995546213,5414.057291234752,3360.089793192731,3031.6281662418287,9706.909841661542,6906.182293302816,9678.544970673007,9094.656064538,1342.6045226556182,3785.642044789974,2144.519859147591,7950.463458794392,563.7794734354484,2221.912390339529,4182.9227670857235,8961.571967973154,18.169157477676556,9774.072227593313,616.6969446278914,8327.895562745034]}]},{\"name\":\"series 28 (F28)\",\"data\":[{\"name\":\"series 28 (F28)\",\"type\":\"scatter3d\",\"mode\":\"markers\",\"x\":[6796.684226817152,8327.523932011309,8400.498152554752,3712.135858229758,3488.3099550184315,4774.290895738599,3989.6276664425245,1821.9218813113803,8955.741471314926,7453.55544738664,1750.0445886668624,466.33114834841894,3340.1146880463707,3136.6802234503243,3410.9814101605853,9153.260781443832,4430.150918925886,171.02622209148043,719.8940647937302,3905.4441847941857,6720.480523807779,8289.470939494197,2180.1779468125783,2646.7354143836487,235.8697323178327,4547.596954570092,35.28241356289041,7246.614572798543,3512.521401102863,7868.106812713878],\"y\":[5508.568155509787,7109.693511445376,4004.582116680798,1752.0945592818637,8716.441253762743,7058.328083447691,9623.42855810468,5859.382391626765,4643.016170925519,9180.27607935749,7119.276640888421,2365.21337992895,8097.749517611759,4299.662999314816,6579.090769664953,2268.1612134052652,8673.198464392211,3778.3469136666968,6441.740100513841,154.20570910891774,1378.257556574909,6466.106306116653,120.79176795135149,3314.4914205777254,9842.93004020329,8791.895780033947,3577.2857131944124,2569.374101004607,6773.895218035554,8224.748128500481],\"z\":[2999.29550297968,7668.928608478678,685.833479391158,1631.7281505031112,3122.0220001983125,9720.178298999592,8841.677706569679,421.6686567734218,9661.629638833969,6733.879041986455,3805.6587028902154,3787.2529289600275,3837.980815239609,6088.76889230245,5046.2195045436065,9844.33006049955,3025.883530073339,9478.777162397166,7621.570899989862,2016.181872426759,9201.413482098078,1738.7592568694865,7138.872475462079,4621.786220166362,6039.331446647699,4836.90568009568,3898.7156115734288,7300.9517698797345,6269.567169096806,2277.0499063659054]}]},{\"name\":\"series 29 (F29)\",\"data\":[{\"name\":\"series 29 (F29)\",\"type\":\"scatter3d\",\"mode\":\"markers\",\"x\":[9419.797456212362,2645.5221022938535,3215.1918528972933,7171.677314773262,5384.374018205469,5204.684351835297,4311.258136091912,9326.518224065385,8453.281959858357,2893.7352366587297,9843.338649858772,2820.184169172488,4370.0240535800685,3759.4932787578273,7146.546903975838,5767.383156573872,1306.619181089086,2041.8720895824672,9070.274366888927,8221.832233487165,5499.613166329436,7519.952958016519,5640.837570283977,2505.059553911113,1882.858169260675,1242.2327605312444,9543.677710055917,2639.869167066261,8644.364534687342,8914.540698114357],\"y\":[9298.70445826098,6022.315834655045,7417.739094537514,455.4538902500027,8816.84104124452,983.6224820205464,164.419651280181,527.86538529346,8402.764821203598,8473.54288065422,9711.124440647223,216.68596439350486,208.30594859434837,4739.256051863523,3377.6361768138686,4446.494563769354,642.9074204531371,4578.953427948857,8163.240869318922,3219.2728892198684,3312.011960676908,1516.861548244699,1555.8521010621462,7301.192732169309,8681.189514872483,2076.517399714073,4186.0434094833245,598.7523329894318,853.2715569194005,6221.693995505506],\"z\":[9268.927286814882,2138.383109956353,7597.716923058177,4989.451181267188,9060.012171449993,299.9823999544571,7085.880938745757,9357.365736435906,396.8760428951801,753.6456119082668,3662.8158963263936,1467.0699337371796,9806.69957213378,7410.213652123155,5425.683364727257,468.81105370005,3630.402919490937,2620.063656962206,8380.813028345206,456.8169976304159,147.33342866838584,8840.914206351916,5515.893098602932,7232.834175687101,8780.154999380666,9044.231580918808,4250.733653085544,3965.283282686878,6117.794577031335,7241.162228083445]}]},{\"name\":\"series 30 (F30)\",\"data\":[{\"name\":\"series 30 (F30)\",\"type\":\"scatter3d\",\"mode\":\"markers\",\"x\":[2419.4955068633817,3204.051793668492,9715.001313677265,3682.73639690347,1189.2310081555079,4166.026895464903,8410.278619849247,1525.4203293130597,3134.035303565934,9724.044085616431,2249.654369303118,3051.9251515380543,5061.0610110330135,7112.008955786679,6011.953530967704,3898.499114049242,8124.103338174173,1.5269381868765475,7801.944044291162,3163.7710991800473,2262.410976453686,7310.453990837386,8210.928755924935,5760.528476670046,8066.83817092067,5871.356158472091,6140.058316584655,920.6512087811248,6802.400177207034,9917.95137959087],\"y\":[4539.844928210376,7374.744716005341,8505.751564887296,240.177037578283,3040.0599648432226,1401.8468101118585,8828.05901197591,9813.608248011464,4727.398126813764,8680.908419761958,7608.191382587087,726.5335594063326,1173.9982517820424,4674.58056445675,6038.105055001305,9308.065146804283,3228.112637823285,1137.1633427901284,4721.756306154262,2503.246071836911,5048.918991604706,8262.402982136637,1930.8226767016702,8746.190649110647,5400.6717497358095,2973.1525004069713,9924.97102604901,849.8734273315578,3317.094917783059,3903.7378721665796],\"z\":[7331.36324343013,6761.263592217702,4905.120917766799,2737.19864553736,7267.538627063618,6423.070272796166,4277.780870331623,9733.403895213973,4143.77653430649,9438.45783408029,4389.256924642251,8520.36766056792,6895.479338077166,8752.6512488875,2890.812068045431,1519.920934612713,2773.0864344996776,145.4416014853155,4034.5113381899555,2740.221809157093,3756.470064665427,5971.177770498186,122.35497673786178,9091.41510383695,7162.7222134497815,4287.901904814154,5031.646736089852,4867.080112298282,3080.6967767396063,1284.875795839544]}]},{\"name\":\"series 31 (F31)\",\"data\":[{\"name\":\"series 31 (F31)\",\"type\":\"scatter3d\",\"mode\":\"markers\",\"x\":[7943.123152988649,6582.93520300953,3892.619117957582,5747.810343064277,7556.572135455581,6975.593464431277,5332.53186064055,9193.700926409956,5799.373162374089,7637.9927292151715,4283.300259182993,4262.239358475328,5316.595427054781,9504.452722474472,5828.348284344692,6968.359617797157,6876.989896951571,9197.138178687626,951.2540450209373,5500.543401775683,1237.420667450546,7107.036414997563,6715.786037969591,9392.10217304989,4978.97542239501,6.385373111847947,2760.9142940187116,8097.715781028241,1361.2070602960846,6975.815037808574],\"y\":[1509.7793454740738,7275.098757258935,5336.654330337743,2478.2976656975575,4618.5643603549,4401.736325643764,6525.99785259407,4523.322233959362,4880.659439188596,2749.210603310034,5174.906671581474,9038.54753574775,1053.4675631665257,4192.720116999855,3896.8362006701063,3802.5054286009076,2889.6465339714327,6850.9684670126135,2351.7422652916753,6590.762011768243,5031.545920296759,3131.679660519069,2918.8757101311626,2549.269420442198,1367.0393106211875,7400.57325828164,2892.5281303902684,5232.467145475343,5946.912534487884,196.71469945196307],\"z\":[2762.802034006173,4230.025127714987,2628.4200901954123,7684.728000850072,739.1808226092744,9854.943306195502,3236.5737461332087,864.4418217011762,832.876288077663,1977.0546807182443,3224.1822952322827,8951.116419718295,5534.63907420069,5759.804294496582,4563.612882617718,5294.474260136219,4407.913016817122,1794.5070705013277,7917.698305019303,2222.3397675095666,6762.925763051511,1925.112566085263,14.168365599880328,3274.7676885195765,9985.504735531702,4917.836216311984,7587.435418493093,7437.121899025654,5065.113043577213,8053.842894257967]}]},{\"name\":\"series 32 (F32)\",\"data\":[{\"name\":\"series 32 (F32)\",\"type\":\"scatter3d\",\"mode\":\"markers\",\"x\":[6253.517335712179,185.64040183703167,7399.806303675579,1709.4940967462403,1248.335722234243,426.6011342116538,4051.5046580315893,4037.5074324920624,7086.578524608236,740.2862908560204,8283.192272520648,1973.6902856856798,4887.770482867702,733.5137779235523,8430.344864763756,2967.7545799705595,9368.14709845602,9759.586392001722,942.0978544366976,9073.032400604307,2311.3825516527354,5782.088358248154,6773.369864705329,1328.7530470051056,5708.172595101827,1739.0351126947146,6217.355986423475,7729.858878836288,5694.129114206417,9406.458953541829],\"y\":[9738.510939101161,2503.175981842094,7917.394243626417,3465.595779430799,1399.346425056992,7895.075534648748,6031.836857534403,5245.412274095144,7070.065254272499,2224.594693171572,7638.644714012201,6442.292146509469,1768.265396684785,9567.311410530232,6188.582408853595,8011.2796253046645,9196.642726862043,7109.097649387596,3109.1348720093424,8378.353567429675,1829.8292813408934,5945.202320800954,1735.210490909447,8140.787598695106,1747.2055759020045,9898.943469355861,3499.0331946228457,5502.724415667082,816.7270381971348,4795.618271507702],\"z\":[7274.3019777203,7835.678245144102,3805.5109668114696,7551.06544838242,4771.652048779487,9958.748676823108,9526.130455178907,420.64591142436103,8446.905562050171,9000.913992263093,3223.2677857286553,803.2337264360845,3510.5508378121576,9037.846631853472,8063.577899137577,1106.136610185453,2316.3430578740385,6088.275601594983,4812.324133266293,6350.694802986711,7658.873359221101,5509.990157523972,6563.541468771546,9434.63675729749,1324.4045078286092,9353.17029022723,9736.194266415736,5266.093834959716,5616.227366692833,808.7942343534781]}]},{\"name\":\"series 33 (F33)\",\"data\":[{\"name\":\"series 33 (F33)\",\"type\":\"scatter3d\",\"mode\":\"markers\",\"x\":[3456.9925561357827,5345.508866398802,8515.241405279112,6532.460026114562,6921.238671961575,3795.4980065587006,7638.420327074966,5329.034987987977,8356.27519739131,4325.057321797781,4222.273381431216,3451.1209377280693,9807.810843009791,5163.3290151597275,5985.3661453160785,2594.4064153417935,9127.603336221488,5609.473535642137,6913.421360984378,6565.551074388056,4261.681536264733,3519.0218444420584,2762.47021705211,6553.329176187889,5221.491306060785,7783.4086158020145,3389.975756727426,2951.3339561245343,5966.054454187035,3658.216602360199],\"y\":[6900.811381644519,3760.623974062399,1831.431940929359,1656.9897284298918,6034.417847473233,5743.273733812399,8114.4852472548255,2651.301265674293,4221.4291039271875,4702.861044520136,1951.134526745548,2804.0910119949413,7302.5007490649605,5535.513049209681,2725.0153217687443,2012.1142693120853,7029.029018543457,1025.199094170096,5900.634246194789,8644.672172016704,4154.908942414568,749.5465099194931,1395.835999207623,1539.62187655309,2180.4210510889266,7917.526624138025,391.58644661414723,7453.995836813212,7623.802544788659,2477.941539456282],\"z\":[3822.790861790838,8465.380236883631,9073.000046191804,3417.7163736818484,1702.0579055116136,9181.539858226412,5209.563127633997,1811.5813800821934,4899.0339909225895,8039.5975890540485,1498.5849793915318,8889.80797827541,31.127901638720033,462.4104967394504,6303.053153116393,158.23850682125772,3717.152156691501,4188.606143657707,9807.925118325571,7434.928013264394,4603.610893706591,8704.077666837651,3328.697711532509,5560.296285055253,294.065908385992,1376.5591772688967,2331.1885395328336,9492.763933020186,1595.214881262683,2631.2354253129233]}]},{\"name\":\"series 34 (F34)\",\"data\":[{\"name\":\"series 34 (F34)\",\"type\":\"scatter3d\",\"mode\":\"markers\",\"x\":[3803.707560808178,519.4270556031566,8339.022467076207,1304.162648941861,7499.744123098425,7391.400406143293,9448.444642115135,9171.609399904102,1008.7493935279946,9336.040530880297,4884.990080310735,577.2564985789963,614.5507178146892,3103.333588066619,8649.567422594844,9065.514564490337,3465.380768087852,5471.316721009446,103.76964570529945,7978.056800615617,1706.4649716122349,5965.473992278558,5536.948263385434,6081.984089654568,5915.558684153199,1939.6321325793108,3125.134679082008,2471.87192087256,3433.7799553139903,9620.951638871069],\"y\":[2211.070674566086,7224.276325618729,6998.5376743928,239.1965136607288,2180.3099950125084,5582.10332848339,462.30838414597855,9940.53496119657,7116.5555795444625,3807.5741643625383,1320.4658711301088,5828.707919200543,9890.107253475155,4266.347712520365,4273.322788575273,8181.4766277981535,3366.4876105079543,5791.690021909456,6111.9958884575235,657.8418057815405,7018.023642660258,2926.406957406575,9844.662490101087,6141.5993250188985,4379.36517684335,4251.587036807178,5169.219649007878,5759.3858786761475,508.61894590707226,5685.024936418411],\"z\":[3150.325470516544,2566.4320497515714,8898.984804763506,9368.531737442972,5273.2407921788035,9410.832600386142,4131.484787892978,2562.157900883204,923.8507434361254,2567.2112243331935,9967.57207177175,3824.6879546573864,2783.698188846845,8873.241307113523,2551.1173592508285,5683.594965684574,6630.809391112155,4307.559045690895,4922.471794871006,3983.965369651489,601.5517406753701,6215.185493139274,2143.003167903956,4154.739566499673,9095.713079084982,9716.650624028758,5986.712254839934,3741.9367204820965,8196.443169489314,1229.5929627242142]}]},{\"name\":\"series 35 (F35)\",\"data\":[{\"name\":\"series 35 (F35)\",\"type\":\"scatter3d\",\"mode\":\"markers\",\"x\":[4376.23679039282,8732.363844526695,2728.6563490450435,8486.68254667944,3523.7511235940888,8427.633853390491,9893.944092407852,6951.296868200291,82.97681872154405,9927.149739853256,796.9988947482931,7112.456583078682,6526.720633669241,8640.035971706857,9118.005652829997,5783.104216279397,5435.056964341541,5669.828674718233,5687.408964240547,7230.8893038413335,7412.4816685015585,6402.064217383613,8783.919544272605,6738.200084765498,2948.060377445636,7173.732490230565,2603.5720815754726,18.26140440278956,690.7997676876943,8514.891840080567],\"y\":[537.1049206731992,6806.695249284231,3333.1760058350324,4126.567145268569,5644.882580497292,5903.0186237916105,7578.955333602652,4495.3853554537845,8033.032594779041,1954.1334505590146,6517.142443829313,2844.2241508032616,7711.429519347695,1351.9373784449008,1132.102300157184,8979.487810216204,1953.5997516361226,5759.7681625162,2650.5963818483046,3519.4390877008773,8180.588434697762,6987.465884045173,8959.684495334552,974.3572459419491,6955.26739836341,6202.422186021845,6425.138036175934,5198.111659707427,4800.53176956311,3794.0563439818607],\"z\":[3098.225671921936,4842.071255664925,3244.2720635924647,3601.7441753636226,519.4221013672118,9616.100131443356,8745.97174338301,6671.297412794273,9110.803406651807,397.7136309700968,7974.22732051901,5222.671920507539,6494.5923417555705,7529.301399361505,4281.445891918506,7091.661842646901,8983.519489407274,2004.6509388899901,4161.422996162134,4550.915225644272,3959.3684390274498,3669.829321978998,6977.460459860598,9120.680085815808,4889.28139854928,9049.816292903493,7313.138162318293,5747.275136094772,1325.0974753743228,8961.104270969821]}]},{\"name\":\"series 36 (F36)\",\"data\":[{\"name\":\"series 36 (F36)\",\"type\":\"scatter3d\",\"mode\":\"markers\",\"x\":[6924.80105473964,5557.353494638296,3389.20457829321,2681.808827901794,2464.28106071804,6288.6045309802985,3971.0858962522434,1124.6673489925763,5892.326713502506,3452.620350596187,2141.9489966057195,6194.623386703673,6817.662744646911,3303.2301864878045,8140.520830486197,7311.529181102093,9873.556417819631,763.6836701191363,3691.3051384731643,8939.823323827553,5683.224816601559,1608.6428917577812,1387.2947491042198,4890.868737276192,967.3623468433457,8402.018861655686,3402.335983972483,6149.967581341269,1911.5278207251529,3959.272369464182],\"y\":[2894.0471835159287,9028.892167412081,5038.082256240869,4432.867722906915,1116.3943728268678,9556.105166014357,1516.8153796809058,6512.156190816763,9481.732790554672,8190.666137748157,4100.363856613075,9684.036033206492,8595.322379382873,6182.1498962273645,684.9654775851543,5018.318021445155,5631.032390724365,1197.7361716063983,4874.052313523685,6521.804880726493,7325.150088034533,5198.94668521785,1861.6428610717305,9747.665505482062,8335.915596617962,1974.3458990213924,7454.4339657674245,5051.76903068509,3749.6019576530693,5220.843793739491],\"z\":[9115.96343856844,9655.22081462495,109.67024223834221,615.0645144015243,543.1501408166129,3502.4138898457613,1503.7258553677711,6927.581797173311,5474.9847243631775,8796.498863359386,5963.709539868495,1906.6394643755013,2185.0912583483127,2049.244298978329,2717.9577911340148,8394.312284557145,7424.3322389650175,499.8403311647015,2679.471057634747,4936.885464765795,7456.586069366953,1837.2788692398624,2962.931845498568,3012.5600893104165,4270.278073006185,7303.517845646432,1193.7170287995868,9923.42217497643,7050.195998307143,3459.7191453380237]}]},{\"name\":\"series 37 (F37)\",\"data\":[{\"name\":\"series 37 (F37)\",\"type\":\"scatter3d\",\"mode\":\"markers\",\"x\":[6905.351227724562,2384.93841833581,2558.581004649594,7165.423734014905,5417.553289677448,895.0712562076568,3201.4293611258217,1650.6096211148813,4245.230180203713,9076.433137966542,8245.402068067897,8953.153897058315,3309.4737495068603,5358.729537627513,1902.6863953438778,5449.298560966017,8004.821846754288,6605.066403004684,1815.6081667083724,2722.299416779309,8522.747763678084,4584.52730327924,2849.7493535057883,5594.513492064594,9739.542044249849,6554.752534557938,4043.775170217985,2790.759036233137,3447.459623329655,642.0835809771686],\"y\":[1066.1277764535282,3405.8631834503494,8741.202341543692,5193.158046553892,2593.2039083068335,4116.883750207327,6967.514030940058,8820.675865126184,6650.573123377489,7910.579157389301,4803.866780976587,4477.380887307506,2148.262661092696,4989.268209902871,2752.9207237356645,6566.130715793462,1593.074886697442,473.30936862802986,6622.642144659878,4830.258188317657,3275.3647163274736,1535.999211681437,6407.669059803149,2567.2516973921342,5104.651400160771,8686.774638256707,395.7149832344098,9570.116022046575,7707.898988890814,2061.174706439847],\"z\":[2293.505952244884,2124.5951971249556,1406.2456055658868,3781.103532542771,5699.948513047034,3376.7758997818,250.4211553646285,1716.506356391173,3349.9295308874766,7434.409021925629,6422.0409981548155,8309.65575190879,8210.351928892906,9676.62622142232,9997.42098939379,515.8172131685645,9730.712736445834,3920.542153377523,2322.5083886118746,3369.146963701591,1333.7347167246571,4329.576165003307,6061.977597477665,200.24732051370452,4577.26497982194,6247.14286902745,1362.496690055689,7111.888943722315,1326.8559057734785,5500.69940823724]}]},{\"name\":\"series 38 (F38)\",\"data\":[{\"name\":\"series 38 (F38)\",\"type\":\"scatter3d\",\"mode\":\"markers\",\"x\":[5509.614143078442,7961.980529099568,7749.149275190425,144.9544291380489,2959.680826653057,8807.95460740316,2969.3855383489563,2099.3847973568313,3692.665174301236,7534.30271904617,832.0646931836184,8684.021439477156,458.6772155270846,5215.0849993501815,5361.986732140765,5668.803367194276,9680.470601723502,655.8076234053977,9243.606103904334,4125.621677123136,6526.1422282681,8514.14521443468,9919.832111516196,3108.5056240326103,1980.705641832644,4416.559479598157,9757.116644014564,8986.23164700717,8622.163413167495,7567.946840693187],\"y\":[5131.868719583685,112.9605068204409,2247.1615922132337,2494.025349318626,4263.941524867003,2446.3425188166357,8493.25776689594,6761.245163817287,5156.140344638907,7708.850459826472,7169.2901067039775,786.5928158940017,3094.3992864798706,736.9368726489345,2132.2886993912402,9179.728052941007,1821.4847255248878,6773.932616714801,1238.8205467536152,452.4812057487382,3717.780082897434,2636.4380601625094,9150.614714078592,3385.804096954821,2105.912408854339,7920.281050658031,5588.767920073301,3861.8607763629566,3141.685390103134,3710.9477505150358],\"z\":[3007.7818197175457,5549.006091490053,5661.98420108499,6624.720164974974,600.1385241230283,1469.9939033327069,4831.021329730948,5430.579221004583,6044.072472480999,1188.8222886801714,9459.498682261936,5989.264253415818,2471.6498369541896,119.20876011404124,3466.9578390735155,7794.705165453381,5761.222990054742,3287.7651768492433,9115.801285493912,2014.3733790873218,6447.7743806490325,5777.5169153553725,3366.1646140339562,6598.925419581615,1296.6238009847652,6032.492958948833,8984.025887436892,8767.839185530602,1900.4226842687933,6221.690631312295]}]},{\"name\":\"series 39 (F39)\",\"data\":[{\"name\":\"series 39 (F39)\",\"type\":\"scatter3d\",\"mode\":\"markers\",\"x\":[8880.640004327615,8976.574643009599,1536.3117143460793,5940.7947634923485,5569.588385973146,3332.1147377518014,6959.574848033851,1672.6112137435423,7598.442222958749,3347.5757296647657,8812.069988570547,4632.253788232629,1345.2335991101793,2912.8968658175704,2888.1765061999254,3890.698012800359,9665.635994540356,2407.4556334705444,4627.947098140997,0.3978457098430255,8534.95995317672,8991.777120472429,896.6084668362762,6739.235162255029,9049.768698347903,289.33452199422226,6361.506475216268,5044.15367158388,4937.125156985295,5905.772570104768],\"y\":[6592.045006406019,3723.4052840517907,5065.185479890697,7531.701294146317,6385.121179632492,6116.413794326046,6357.050251986986,3736.54949378049,9758.012109011304,512.8434457298004,4980.50029261806,9984.786896149217,7552.623166642046,4847.53120959714,2719.4327601743553,7892.1508271420225,9659.457871488652,2955.5257386019575,1028.5297358408652,288.350632536003,1496.6244585967459,501.5526695435157,7430.882519961985,264.04108644398906,8568.649418955223,3590.8003253154466,7639.008066095909,3053.688000670751,8681.81609014062,2023.004265716244],\"z\":[2062.8914533412744,9342.28238423805,8707.20549725328,2169.3803165667946,7214.391067597507,7382.675618080287,1659.5641447756127,1532.0413824437107,925.5507800331375,9171.651760205337,299.5816945968244,8188.103866905696,5269.063210196115,2856.6651238499385,5469.110615010647,3525.7740916595417,2602.328337545556,9531.51411120126,933.3163412805867,5947.278986755269,8252.263305574754,7628.0376745655385,1630.6941571265254,6543.5843128471315,8016.21557405192,2222.260869505277,8921.352475133413,5138.423899506818,9875.03437292372,9747.231884629731]}]},{\"name\":\"series 40 (F40)\",\"data\":[{\"name\":\"series 40 (F40)\",\"type\":\"scatter3d\",\"mode\":\"markers\",\"x\":[4675.900484423825,6554.241115236899,7097.563205990591,841.1314700552341,5861.747274337498,2470.2147038697162,4261.517469678552,5358.058396056723,2660.559034608173,3822.6344347252416,8623.909817389447,3930.223806851173,6090.082631661984,2340.4531819912445,6744.8979552765395,9894.113704056137,5605.494537593016,7513.932167041036,302.12261633321026,3879.512879976569,3219.88611106398,7061.869270241809,5628.316716453571,909.1030707488445,8310.4485547523,4792.978450937021,8663.159319443117,6467.684205950904,6466.38005852487,9649.567829430727],\"y\":[731.0614530533377,3673.8891021331156,6486.480882501909,3676.742498774479,839.7647918512996,8423.597691088698,1948.8657983949731,4677.933113760916,7040.346455051359,3173.0752991033773,7652.166710806118,1397.633180575355,2797.4147663006597,2891.1962146769065,6667.059867550548,5214.804673107002,4288.998130434236,8633.939145983111,738.8992059705101,2535.488346381176,1088.8188532423492,5180.665308420036,5346.692273374258,6340.73577824519,5779.35493815398,9220.525313972897,850.6113966608408,3676.0555086032364,7702.295836113845,3688.6625748074575],\"z\":[2849.6793320205425,8261.14728405555,2273.6953350133704,2025.7131704461117,8123.229044166066,3853.772347662775,74.33458125683745,3370.4274776832312,7344.185021784725,4519.189882970221,9271.50812764923,5994.070289080369,2129.1683013392117,2536.663588099789,836.6491608153881,1646.5811324703516,1929.8827374850325,3317.126546101079,8493.91399559217,7908.304736146907,5772.188723647207,9411.162484931805,4368.0471060089885,9127.433509358108,4913.728474949947,2454.0480298145862,6895.555184272941,9072.127604428575,5117.915958304,2724.6726478773853]}]},{\"name\":\"series 41 (F41)\",\"data\":[{\"name\":\"series 41 (F41)\",\"type\":\"scatter3d\",\"mode\":\"markers\",\"x\":[9721.4169304294,37.60655931736912,1431.5606842813268,887.7337667279883,9024.261612413258,3822.340730757017,4105.346239540013,5443.682094010171,1996.1518290991464,9723.787472502818,1610.8372994450615,2428.471242412011,1048.808679037716,3502.9593550061477,5584.643812232593,985.2405625924787,6726.319790759861,9128.424527714686,2969.8221281216743,9572.645059187123,7275.078069282721,2034.183538945452,2626.545423607265,2779.6139943110065,4354.893676367084,8612.177879833835,7248.534462129895,7983.910054897218,2470.9352796171115,1709.0314555514574],\"y\":[6548.68322875189,4421.92817723914,4364.3518737887625,6007.937073350518,4366.775805989144,4629.75900749555,5820.133000982029,350.4448654080206,604.1406221825374,9670.614940207777,1133.9667324685242,6289.219789569006,8704.540505882404,5081.299069809321,4825.559519388538,3461.68279652023,777.5501805348017,4050.4711822756344,6094.086247150369,2735.7611569168093,5400.129317486018,7984.047390811972,9982.13583355673,7502.812030539026,7634.048303125211,2318.145236568021,3247.728653117444,1979.1096965626687,6861.27574966595,7207.5625264611845],\"z\":[3539.6816177102987,2926.1094431458455,5666.400429322196,8547.863911913098,7629.796519628657,7811.039605301005,2184.5955053277057,4681.717253554218,8176.058571987679,8103.188154355682,9085.606129559052,8095.208377551123,8774.226651244484,1137.592989215429,4678.676232494306,9427.433785501174,3900.9048065786424,7776.659183726582,5500.298470469028,3196.7573752462654,3759.3875246263765,5961.565102840278,5186.114852161422,789.685885880731,4010.2718567854854,2169.142726902358,1430.2501547245993,6463.40465747783,6902.034833554055,3776.24389765279]}]},{\"name\":\"series 42 (F42)\",\"data\":[{\"name\":\"series 42 (F42)\",\"type\":\"scatter3d\",\"mode\":\"markers\",\"x\":[1399.8200485330915,6380.586419987302,3412.4780496234853,5382.439332866213,6099.297930334643,9025.16801845338,5670.140669541171,1253.216413074244,5868.888305774243,7740.368789041904,5145.491085758499,4219.676215919149,2452.9996326267255,2585.2973381611987,4884.905942218194,8607.05696459715,7889.368171156992,9224.077732537658,3406.149459577019,1063.237715162163,6846.333789046283,7141.49982576851,3782.2708963107134,8519.705564397525,6975.224481498211,8121.779657025716,3911.538635924621,6941.296849129623,1346.7569695637749,8632.089957088658],\"y\":[3004.234446969114,8007.352795648,8104.816264189864,6520.105816144184,4912.833021918429,3415.755413730913,5097.929036339019,3264.8792376856163,1090.2962217023426,8112.640544466304,1438.198038062848,7912.942747026762,4681.915256526987,4424.409794665159,3689.420059823457,7786.617831193239,2539.332701223979,8804.994736209046,1700.5602370425643,4069.077848969841,3791.087507107632,1710.1519541228872,7977.711811664391,7450.800874737591,2012.2202298762193,8971.897915423418,4927.119897447333,164.61845830250343,3006.18547603092,9970.018665120077],\"z\":[6303.8051429003435,5941.65085048753,1745.5187466316136,3883.9189337538473,2764.772787033655,8687.991634785896,113.40824196026777,356.90329615588155,6552.746530340613,4012.088760716087,1746.5259526000898,5016.308851714883,7025.822363470391,5125.340554794832,1500.176054526653,3466.7394197433523,7000.385621158808,6093.509126182288,4840.017777697888,9609.976518831283,9689.094430665898,934.1291224506542,6810.330324553657,5443.972261137976,7392.677282110849,6635.166861350207,1136.98389383046,9854.657929945579,6043.754445252098,1812.7662981156434]}]},{\"name\":\"series 43 (F43)\",\"data\":[{\"name\":\"series 43 (F43)\",\"type\":\"scatter3d\",\"mode\":\"markers\",\"x\":[7493.985320869465,3338.1276333424103,4202.839759889836,430.9921638419623,8995.67510582141,4077.0884263514863,1171.1350750508043,1774.063618063163,2572.346337401753,8344.291916020598,6511.682235510809,3691.6443773679,2045.2706968873201,4816.994149233487,2459.8908873205137,6030.33911836738,7437.806747318505,8060.316971230618,1456.4130067087822,5119.6180598042365,4342.48233637307,1173.7123356115776,3349.7893332308836,8197.977635053836,4009.6344610797664,1393.5599028249478,693.2428478418095,8745.2124391788,8231.402403030119,5306.254554591466],\"y\":[5999.453192729572,9829.263599281157,3065.563706936235,2249.9717759449013,1819.0929186372773,2781.1780107758354,1976.9154922207167,5469.623591706395,3073.364167789312,2779.2947349732813,2069.6001920481153,638.3475131379201,1197.7237829299513,1253.8531717539836,6741.978203615669,470.1997927843393,1343.4431607289032,7415.793448224684,4316.357127382054,2322.550114949,7135.594685212571,7668.601144715575,4979.086350297698,2923.0055634700157,2300.51789417151,2179.623645345782,7712.230100053781,654.5192608465544,4852.766442397845,2467.3625453129366],\"z\":[4806.237591564414,1193.6631652832198,7470.989758549416,2503.831035469686,4013.7262646175086,6720.880940106865,7194.161792478429,8536.133472800771,7437.704830546863,2407.85651599965,8634.014343514753,9599.013686011964,1843.2590407193738,6435.966156860692,7526.493949780521,1520.1842551029654,7239.930688617636,1411.1114646835233,5634.5070176247,2112.840365364005,9302.721180912773,5714.054092327465,3766.176984980237,4204.828205762186,6482.856535059364,3061.7053236639035,6987.285851992303,6171.5247077102995,4505.14881166316,7353.651121201901]}]},{\"name\":\"series 44 (F44)\",\"data\":[{\"name\":\"series 44 (F44)\",\"type\":\"scatter3d\",\"mode\":\"markers\",\"x\":[4983.5295991422845,6719.556641927746,9356.999587717239,7739.51856316216,967.6654129397966,1811.0720637980028,4844.78789572989,5766.6200966430015,4528.586580502325,6823.348850197818,2326.5889554031537,2453.6420585656683,7383.812154723621,6306.107743101334,8325.878773690678,8184.96705399932,6123.827650607415,7028.972578919249,389.07361623452096,2431.5512314332445,2726.1760549551295,7404.101052517579,2770.4661349769567,3478.1062297256017,1869.1383610649405,7824.085308382963,1311.314618285604,572.6602507100109,3889.309447303608,1972.7989779378752],\"y\":[1225.551640807615,2213.406596816928,3604.3158022524667,8746.951057954335,2412.7757633331535,4649.068156777826,8161.386129483638,8068.676835777967,4389.89975313906,4092.8416327793616,1574.4292403847771,1574.5818639894571,6966.022601382609,4636.311192406069,9676.73341474699,934.2262228172405,3380.808404083644,1398.5458939922512,6843.351051993707,2381.1215933030862,9784.84332620436,5056.930446514079,5026.688491247554,5931.885281751226,8661.159306745323,9580.097951812813,6400.768295734488,1724.2781713011734,4070.3056463973053,9719.671553501663],\"z\":[3224.0937691562153,3922.4279600213986,3447.0581263142994,8616.339150236823,2407.988129905818,4717.621964049543,4085.0588263666245,8737.125330541512,7716.741760330346,7095.624655402249,2416.3778967591643,1284.5397683447868,9527.850619347035,5246.561683303876,726.1975794362196,204.6234878867681,645.0821587580557,5760.983996869507,9038.519254719607,6969.727486271291,6784.05938338479,1085.806687581623,9566.995442860838,1423.2022433953007,2039.505019343133,9106.392699083635,7345.697672188524,2146.9892163862105,2895.244150033237,9176.134573387444]}]},{\"name\":\"series 45 (F45)\",\"data\":[{\"name\":\"series 45 (F45)\",\"type\":\"scatter3d\",\"mode\":\"markers\",\"x\":[3437.82528553376,7049.445815655512,9152.511436652121,5432.460184274459,6466.073122231728,1169.5584417106897,6529.0679778001295,2818.2697259231027,4116.574205626086,4055.0218073514266,3621.083460521093,9870.387070529401,8739.03153977027,3495.502476017849,5421.689410506714,5041.691201852785,198.87084148251134,5878.72082578088,6654.5685989512795,91.16399675377363,4732.932096063216,5985.819477961113,807.8941891189884,4906.1782211580085,718.4327255386403,653.8158539374373,4943.387143418234,3013.9177226372326,985.6346408049154,1406.7595591743286],\"y\":[6107.2102877710795,5993.908734926606,6587.848798858335,893.5487271808851,2483.8793806572326,8021.213879621263,8788.116189573992,6769.182873424619,1311.312776845447,8849.920463697079,4430.108813875432,4517.561687598495,6014.602043636668,4689.131746579898,4831.490736042267,7637.765226966031,7018.039656365488,1628.7508417782703,9871.192880293209,9602.080551518058,4259.38652092799,5539.920351702713,7037.74640758149,7042.86476772716,4557.323448931692,5705.064293590176,9864.033254254948,7736.668281838741,3672.4745101774547,6825.051497809718],\"z\":[1394.5091027754474,127.8633482188829,1154.3552996143635,5506.083053928417,6114.1588690241515,3370.3573632859084,5881.038642999212,2846.4801301742914,8114.14834310887,8164.79381011538,1575.2941951437083,4323.630181715616,4177.3389541187225,9029.974184320541,4520.406374698237,1823.9247383573497,7937.53514789297,8071.064028679756,200.8297796658165,363.60135167125105,5299.535868608604,8793.467921628693,1657.2932505322967,3815.9820109249645,1902.7677392048258,6060.09529798096,9972.917265364033,9790.674595003828,569.4789506670384,4901.058844555163]}]},{\"name\":\"series 46 (F46)\",\"data\":[{\"name\":\"series 46 (F46)\",\"type\":\"scatter3d\",\"mode\":\"markers\",\"x\":[6496.364214450501,3702.88612487268,399.1731722669112,6558.681797253965,7159.991350592298,6026.072263876994,9454.1737559159,4887.0139905526685,1565.4310836743823,4738.726069064858,9826.901219584635,23.88700571639424,3385.9762282096594,7056.187594503088,7287.659008195867,9114.866693632615,4074.6007572397293,680.9339912155021,7682.421509994611,5792.288500059322,8868.399565338003,5009.886939866073,8783.321090447755,1098.8905245919645,2644.685038579937,7004.8553600157,9390.236004110584,8594.385139280279,3310.9276117379904,4762.302505618957],\"y\":[7140.082944189924,5494.64151729907,2100.1879068678,4211.2163906257165,2701.1204150229473,9866.976208431033,3395.6310316588447,822.9261386170117,812.7757896677712,1141.37871827236,1522.1782114700877,8734.298407549793,7977.205240128467,7496.3271965004615,8320.293624467911,4265.817287998355,2517.0085235034667,9039.177604386981,3256.3638477492264,9458.632581454938,5184.21217361451,124.934983754732,7326.079265862721,3959.7387430112294,7538.848197810927,7643.549758704551,3071.67769824643,352.0274706665394,911.1538087595717,4654.703015935736],\"z\":[5660.866776279901,8856.029616715085,919.6184654829765,360.37805934891367,4164.690577916737,2222.7442195124636,1237.8138151847306,8079.341252296816,7923.566185658478,592.0323835044328,5586.137963783345,2623.9830811030306,205.15930678191464,9108.625809278143,8770.317064839728,7278.801092347668,234.72945393320788,8167.882918041941,5996.701274119526,8441.130486190532,5118.026564281993,7306.001546937816,4665.10279403899,2908.559844770039,5178.766955747106,8954.477139800085,4373.121971437551,8783.79532743449,9797.183852441081,7546.169834663201]}]},{\"name\":\"series 47 (F47)\",\"data\":[{\"name\":\"series 47 (F47)\",\"type\":\"scatter3d\",\"mode\":\"markers\",\"x\":[8961.613628092537,6016.5659119516,5963.083608322672,2790.4271596055364,9089.146734108203,6713.491475635028,8446.30848518113,3327.280628792136,5044.014226399384,8520.657987000883,8739.4461744984,8425.820308868186,7285.554588821896,6619.982913922149,9742.088836625742,909.4226429152641,6552.248276729024,1179.2693621848894,4532.893906236522,4070.5898500696635,6282.25272005333,7457.186079500916,515.1495852915622,8980.73335100199,7562.7512473430825,5188.232210274157,4723.507413369866,6305.315592070626,857.681950037692,2359.0772388305436],\"y\":[2143.9900694222592,8502.340496008323,9359.127998211803,6036.492267184653,6526.343527051216,4112.260899131699,5965.844734429795,9518.418472497055,2357.2469688219912,5739.949956138143,9613.107966111633,753.547212779353,7414.8551404923655,7284.4631996202515,6961.267214966023,1711.1114129437033,7639.596142076884,3989.891579926943,2296.0927618056526,2181.42104086402,9933.101933811131,970.689177163666,1902.208397817897,4348.995813091694,3936.602822864674,2007.4347875815656,9141.604796273794,6403.987491722627,842.0692519399508,614.0637781000502],\"z\":[3002.4294145674166,4443.9003753818415,5853.836568862984,9645.187561401704,5978.955126955834,1966.4546147095164,1045.405587268533,4042.1926371431105,6801.833773824643,5365.763589821985,7045.559049369249,3709.3924853618696,9758.435788212868,2017.8219696218214,5239.891391119987,9966.582808281211,5126.293721086036,4777.632532111417,6988.301586683438,9541.927421709303,4588.355765545719,3009.1257381188952,2735.9513793664423,4649.179987217021,1406.9723482553297,5630.355060747168,1834.6422510001214,6335.829923580358,7604.229230537234,6080.280348185832]}]},{\"name\":\"series 48 (F48)\",\"data\":[{\"name\":\"series 48 (F48)\",\"type\":\"scatter3d\",\"mode\":\"markers\",\"x\":[3393.524173870693,993.8303161174267,9429.455601849957,2599.775822875006,9542.49443197202,6692.153045996662,7990.4290120750675,9768.333149506541,5118.6010725308315,6820.48458445107,4083.007184076085,8849.251582295785,1975.2231686967125,3425.9669603777697,4974.620104803767,5169.941860330549,1865.7442878415366,1579.9507560148463,6180.256397975958,500.29396971003723,9167.896467422848,9129.319324843884,3115.281943531827,7190.887523902871,3591.9011406147306,3267.0128594441207,5917.634538533799,8694.15628619851,3454.9881122449856,6498.963674544717],\"y\":[5702.6356601528505,8015.437686930127,2106.8246232791244,9789.726419138928,2046.870998531063,1627.1758127828296,3654.843891949153,9936.67452123511,9593.286467416796,1428.3690363793821,9265.411529489096,1552.70198189582,6327.858954090234,1442.6807319775737,2006.2217133079873,1429.955073572291,7298.893437302715,9122.464728623527,6447.273258328211,4512.192802136278,5333.20977081921,3362.279596183073,9052.219535644286,6220.954553721752,4649.182555276038,2624.2976588864,6768.849819285594,5460.7932491323645,4174.799960525149,6939.342225312786],\"z\":[4166.90420466507,6271.40452351956,4849.610475304421,6971.112148286706,3973.3813267265705,3799.5677989166256,9222.6315430434,1817.4852746388037,1919.95281070498,2031.389482144581,2253.9955274674508,4771.6167120442,4444.046541460326,6555.416056689843,9386.311654807138,2876.875900103495,6974.61897882885,5519.763458228321,1672.426904807124,1783.500907687845,1285.5855048408093,5901.491511745266,8029.469203965247,2151.16400536601,2714.336535496178,224.02197239727028,1534.7643344234452,7640.48751121912,1919.7132153004382,938.4843136003029]}]},{\"name\":\"series 49 (F49)\",\"data\":[{\"name\":\"series 49 (F49)\",\"type\":\"scatter3d\",\"mode\":\"markers\",\"x\":[87.41568027283986,7397.858211465213,1293.2746728708344,5827.44817122701,1730.0413201304254,7861.734733703687,3139.6420633050648,7994.579736384035,1458.3684411025488,9704.956256885169,5306.153851729092,8271.338559795211,9442.083740136195,5776.397863599477,69.02258233297931,6201.907016014071,238.5444013648452,5016.64221218993,3772.638724717693,8160.126910295417,8801.657706626382,5496.16541982342,7970.614196896132,7607.289705670477,1871.4384998778355,6960.864718786633,7631.617693444063,3017.214083578681,2675.4576511505948,9568.581957579694],\"y\":[8350.002454246296,3575.1096263970703,2781.5995638405334,861.6064753152785,2440.683071470401,1399.319882393394,7412.246829057618,7443.968216109179,3299.6703229650316,1740.0984640642669,9563.2156342701,1318.6595537532398,8476.123776373735,9377.167280893558,3866.466049756566,3388.7539541326373,4528.740268597572,267.8682699598889,3293.820852516388,8237.716992250278,928.7432563449838,2390.3120944477864,519.6179831722003,4978.032150490543,6023.696552174677,8680.993351620209,1043.438578417495,8693.595172276311,5390.815394052974,7983.930594987682],\"z\":[7019.744115770362,5800.152672466927,1785.402152102562,7008.457269859231,9149.468593378739,4509.398842708026,6329.489826647745,7435.378210433681,8959.304612248163,8506.160736538852,2587.721766921709,7516.275416951711,5327.637603792894,7934.439796663711,8741.960840239417,6778.330546838298,7211.77331338748,6836.899828660843,8203.063287757921,5777.108158526635,9189.317992357704,303.72396943881273,5687.711203221134,232.32039332549138,7647.262223985755,7760.58656949425,4040.1524017160773,336.67479060923597,3235.5348522723493,1061.8183358806343]}]}]\n",
       "var labels_MYJRdLOVwE = [\"series 0 (F0)\",\"series 1 (F1)\",\"series 2 (F2)\",\"series 3 (F3)\",\"series 4 (F4)\",\"series 5 (F5)\",\"series 6 (F6)\",\"series 7 (F7)\",\"series 8 (F8)\",\"series 9 (F9)\",\"series 10 (F10)\",\"series 11 (F11)\",\"series 12 (F12)\",\"series 13 (F13)\",\"series 14 (F14)\",\"series 15 (F15)\",\"series 16 (F16)\",\"series 17 (F17)\",\"series 18 (F18)\",\"series 19 (F19)\",\"series 20 (F20)\",\"series 21 (F21)\",\"series 22 (F22)\",\"series 23 (F23)\",\"series 24 (F24)\",\"series 25 (F25)\",\"series 26 (F26)\",\"series 27 (F27)\",\"series 28 (F28)\",\"series 29 (F29)\",\"series 30 (F30)\",\"series 31 (F31)\",\"series 32 (F32)\",\"series 33 (F33)\",\"series 34 (F34)\",\"series 35 (F35)\",\"series 36 (F36)\",\"series 37 (F37)\",\"series 38 (F38)\",\"series 39 (F39)\",\"series 40 (F40)\",\"series 41 (F41)\",\"series 42 (F42)\",\"series 43 (F43)\",\"series 44 (F44)\",\"series 45 (F45)\",\"series 46 (F46)\",\"series 47 (F47)\",\"series 48 (F48)\",\"series 49 (F49)\"]\n",
       "var duration_MYJRdLOVwE = 100\n",
       "var config_MYJRdLOVwE = {\"responsive\":true,\"scrollZoom\":true,\"displaylogo\":false}\n",
       "\n",
       "var traces_MYJRdLOVwE = JSON.parse(JSON.stringify(frames_MYJRdLOVwE[0].data.map(x => x)))\n",
       "\n",
       "var animation_settings_MYJRdLOVwE = {\n",
       "    mode: \"immediate\",\n",
       "    direction: {},\n",
       "    fromcurrent: true,\n",
       "    frame: [\n",
       "      {duration: duration_MYJRdLOVwE},\n",
       "      {duration: duration_MYJRdLOVwE},\n",
       "      {redraw: true}\n",
       "    ],\n",
       "    transition: [\n",
       "      {duration: duration_MYJRdLOVwE, easing: 'cubic-in-out'},\n",
       "      {duration: duration_MYJRdLOVwE, easing: 'cubic-in-out'},\n",
       "    ],\n",
       "    ordering: \"layout first\"\n",
       "}\n",
       "\n",
       "var slider_MYJRdLOVwE = document.createElement(\"input\")\n",
       "var play_MYJRdLOVwE = document.getElementById(\"play_MYJRdLOVwE\")\n",
       "var pause_MYJRdLOVwE = document.getElementById(\"pause_MYJRdLOVwE\")\n",
       "slider_MYJRdLOVwE.id = \"slider_MYJRdLOVwE\"\n",
       "slider_MYJRdLOVwE.type = \"range\"\n",
       "slider_MYJRdLOVwE.min = 0\n",
       "slider_MYJRdLOVwE.max = frames_MYJRdLOVwE.length - 1\n",
       "slider_MYJRdLOVwE.value = 0\n",
       "document.getElementById(\"sliderContainer_MYJRdLOVwE\").appendChild(slider_MYJRdLOVwE);\n",
       "\n",
       "Plotly.newPlot(graph_MYJRdLOVwE, traces_MYJRdLOVwE, layout_MYJRdLOVwE, config_MYJRdLOVwE)\n",
       ".then(function () { Plotly.addFrames(graph_MYJRdLOVwE, frames_MYJRdLOVwE) })\n",
       "\n",
       "var trigger_MYJRdLOVwE = true\n",
       "var reset_count_MYJRdLOVwE = false\n",
       "\n",
       "play_MYJRdLOVwE.addEventListener('click', async function() {\n",
       "   trigger_MYJRdLOVwE = true\n",
       "   if (reset_count_MYJRdLOVwE) {\n",
       "      slider_MYJRdLOVwE.value = 0\n",
       "      reset_count_MYJRdLOVwE = false\n",
       "   }\n",
       "\n",
       "  const start_index = slider_MYJRdLOVwE.value == labels_MYJRdLOVwE.length - 1 ? 0 : slider_MYJRdLOVwE.value\n",
       "  const end_index = labels_MYJRdLOVwE.length\n",
       "  await Plotly.animate(graph_MYJRdLOVwE, labels_MYJRdLOVwE.slice(start_index, end_index), animation_settings_MYJRdLOVwE)\n",
       "})\n",
       "\n",
       "pause_MYJRdLOVwE.addEventListener('click', async function() {\n",
       "  await Plotly.animate(graph_MYJRdLOVwE, [null], animation_settings_MYJRdLOVwE)\n",
       "  trigger_MYJRdLOVwE = false;\n",
       "})\n",
       "\n",
       "graph_MYJRdLOVwE.on('plotly_redraw', () => {\n",
       "   value_MYJRdLOVwE.innerHTML = slider_MYJRdLOVwE.value;\n",
       "   if (trigger_MYJRdLOVwE & !reset_count_MYJRdLOVwE) ++slider_MYJRdLOVwE.value\n",
       "   if (slider_MYJRdLOVwE.value == labels_MYJRdLOVwE.length - 1) reset_count_MYJRdLOVwE = true\n",
       "});\n",
       "\n",
       "slider_MYJRdLOVwE.oninput = async function() {\n",
       "   await Plotly.animate(graph_MYJRdLOVwE, frames_MYJRdLOVwE[this.value], animation_settings_MYJRdLOVwE)\n",
       "   trigger_MYJRdLOVwE = false\n",
       "   slider_MYJRdLOVwE.value = this.value\n",
       "   value_MYJRdLOVwE.innerHTML = this.value;\n",
       "   if (this.value == 0) reset_count_MYJRdLOVwE = false\n",
       "   if (this.value == labels_MYJRdLOVwE.length - 1) reset_count_MYJRdLOVwE = true\n",
       "   reset_count_MYJRdLOVwE = false\n",
       "}\n",
       "\n",
       "next_MYJRdLOVwE.addEventListener('click', function() {\n",
       "    if (slider_MYJRdLOVwE.value == labels_MYJRdLOVwE.length - 1) {\n",
       "        reset_count_MYJRdLOVwE = true;\n",
       "        return;\n",
       "    }\n",
       "    ++slider_MYJRdLOVwE.value;\n",
       "    value_MYJRdLOVwE.innerHTML = slider_MYJRdLOVwE.value;\n",
       "    trigger_MYJRdLOVwE = false;\n",
       "    slider_MYJRdLOVwE.oninput();\n",
       "})\n",
       "\n",
       "prev_MYJRdLOVwE.addEventListener('click', function() {\n",
       "    if (slider_MYJRdLOVwE.value == 0) {\n",
       "        reset_count_MYJRdLOVwE = false;\n",
       "        return;\n",
       "    }\n",
       "    --slider_MYJRdLOVwE.value;\n",
       "    value_MYJRdLOVwE.innerHTML = slider_MYJRdLOVwE.value;\n",
       "    trigger_MYJRdLOVwE = false;\n",
       "    slider_MYJRdLOVwE.oninput();\n",
       "})\n",
       "\n",
       "</script> \n"
      ]
     },
     "metadata": {},
     "output_type": "display_data"
    }
   ],
   "source": [
    "val series = createXYZSeries(numberToCreate = 50, length = 30)\n",
    "\n",
    "val chart_WE87 = (\n",
    "  Chart(animated = true)\n",
    "  setTitle \"Animation 3D\"\n",
    "  addSeries series\n",
    "  setXAxisLimits(0, 1E4)\n",
    "  setYAxisLimits(0, 1E4)\n",
    "  setZAxisLimits(0, 1E4)\n",
    "  drawZAxisLog true\n",
    ")\n",
    "\n",
    "chart_WE87.plotInline"
   ]
  },
  {
   "cell_type": "markdown",
   "metadata": {},
   "source": [
    "## IO + Utility Functions\n",
    "\n",
    "The library also comes with some basic CSV IO functions and a utility function for breaking down data"
   ]
  },
  {
   "cell_type": "code",
   "execution_count": 50,
   "metadata": {},
   "outputs": [],
   "source": [
    "import org.carbonateresearch.picta.IO._\n",
    "import org.carbonateresearch.picta.common.Utils.getSeriesbyCategory"
   ]
  },
  {
   "cell_type": "code",
   "execution_count": 51,
   "metadata": {},
   "outputs": [
    {
     "name": "stdout",
     "output_type": "stream",
     "text": [
      "/Users/fazi/Desktop/Final Project/picta\n"
     ]
    }
   ],
   "source": [
    "val working_directory = getWorkingDirectory\n",
    "\n",
    "println(working_directory)"
   ]
  },
  {
   "cell_type": "code",
   "execution_count": 52,
   "metadata": {},
   "outputs": [],
   "source": [
    "// by providing a path, we can read in a CSV\n",
    "val filepath = working_directory + \"/iris_csv.csv\"\n",
    "\n",
    "val data = readCSV(filepath)\n",
    "\n",
    "// by default, CSV are read in as strings. However we can convert the individual columns to the correct format\n",
    "val sepal_length = data(\"sepallength\").map(_.toDouble)\n",
    "val petal_width = data(\"petalwidth\").map(_.toDouble)\n",
    "val categories = data(\"class\")"
   ]
  },
  {
   "cell_type": "code",
   "execution_count": 53,
   "metadata": {},
   "outputs": [
    {
     "data": {
      "text/html": [
       "<div id=\"grid-container_mdSNm4qEbj\" class=\"grid-container\" align=\"center\"> \n",
       "<div id=\"grid_mdSNm4qEbj\" class=\"grid\" align=\"center\"> \n",
       "<div id=\"graph_i9Xha2n7Vm\" class=\"graph\"></div> \n",
       "</div> \n",
       "</div> \n",
       "<script>\n",
       "var masonry = new Macy({\n",
       "    container: '#grid_mdSNm4qEbj',\n",
       "    debug: true,\n",
       "    mobileFirst: true,\n",
       "    columns: 1,\n",
       "    margin: {\n",
       "        x: 0,\n",
       "        y: 50\n",
       "    }\n",
       "  });\n",
       "\n",
       "  var traces_i9Xha2n7Vm = [{\"name\":\"xIbRxKvOGm\",\"type\":\"scatter\",\"mode\":\"markers\",\"x\":[5.9,6.2,6.5,6.3,6.7,6.7,6.8,5.8,6.9,6.7,6.9,6,6.4,6.3,7.7,6.1,6.3,6.4,7.9,7.4,7.2,6.4,6.1,6.2,7.2,6.7,6.3,7.7,5.6,6.9,6,7.7,7.7,6.5,6.4,5.8,5.7,6.8,6.4,6.5,7.2,6.7,7.3,4.9,7.6,6.5,6.3,7.1,5.8,6.3,5.7,5.1,6.2,5.7,5.7,5.6,5,5.8,6.1,5.5,5.5,5.6,6.3,6.7,6,5.4,6,5.8,5.5,5.5,5.7,6,6.7,6.8,6.6,6.4,6.1,6.3,6.1,5.9,5.6,6.2,5.8,5.6,6.7,5.6,6.1,6,5.9,5,5.2,6.6,4.9,6.3,5.7,6.5,5.5,6.9,6.4,7,5,5.3,4.6,5.1,4.8,5.1,5,4.4,4.5,5,5.1,4.4,4.9,5.5,5,4.9,5.5,5.2,5.4,4.8,4.7,5.2,5.2,5,5,4.8,5.1,4.6,5.1,5.4,5.1,5.7,5.1,5.4,5.7,5.8,4.3,4.8,4.8,5.4,4.9,4.4,5,4.6,5.4,5,4.6,4.7,4.9,5.1],\"y\":[1.8,2.3,2,1.9,2.3,2.5,2.3,1.9,2.3,2.4,2.1,1.8,1.8,2.4,2.3,1.4,1.5,2.2,2,1.9,1.6,2.1,1.8,1.8,1.8,2.1,1.8,2,2,2.3,1.5,2.3,2.2,1.8,2.3,2.4,2,2.1,1.9,2,2.5,1.8,1.8,1.7,2.1,2.2,1.8,2.1,1.9,2.5,1.3,1.1,1.3,1.3,1.2,1.3,1,1.2,1.4,1.2,1.3,1.3,1.3,1.5,1.6,1.5,1.6,1.2,1,1.1,1,1.5,1.7,1.4,1.4,1.3,1.2,1.5,1.3,1.8,1.1,1.5,1,1.5,1.4,1.3,1.4,1,1.5,1,1.4,1.3,1,1.6,1.3,1.5,1.3,1.5,1.5,1.4,0.2,0.2,0.2,0.2,0.3,0.4,0.6,0.2,0.3,0.3,0.2,0.2,0.1,0.2,0.2,0.1,0.2,0.1,0.4,0.2,0.2,0.2,0.2,0.4,0.2,0.2,0.5,0.2,0.4,0.2,0.3,0.3,0.3,0.4,0.4,0.2,0.1,0.1,0.2,0.2,0.1,0.2,0.2,0.3,0.4,0.2,0.2,0.2,0.2,0.2]}];\n",
       " var layout_i9Xha2n7Vm = {\"height\":550,\"width\":600,\"hovermode\":\"closest\",\"title\":{\"text\":\"Uninformative Chart\"},\"showlegend\":true};\n",
       " var config_i9Xha2n7Vm = {\"responsive\":true,\"scrollZoom\":true,\"displaylogo\":false};\n",
       " Plotly.newPlot(\"graph_i9Xha2n7Vm\", traces_i9Xha2n7Vm, layout_i9Xha2n7Vm, config_i9Xha2n7Vm);\n",
       "</script> \n"
      ]
     },
     "metadata": {},
     "output_type": "display_data"
    }
   ],
   "source": [
    "val series = XY(sepal_length, petal_width) asType SCATTER drawStyle MARKERS\n",
    "\n",
    "val chart_AB42 = Chart() addSeries series setTitle \"Uninformative Chart\"\n",
    "\n",
    "chart_AB42.plotInline"
   ]
  },
  {
   "cell_type": "markdown",
   "metadata": {},
   "source": [
    "The above chart is not very informative. However since we have the per data point category labels, we can use the utility function to display the data in the different clusters"
   ]
  },
  {
   "cell_type": "code",
   "execution_count": 54,
   "metadata": {},
   "outputs": [
    {
     "data": {
      "text/html": [
       "<div id=\"grid-container_HnitFTLdpq\" class=\"grid-container\" align=\"center\"> \n",
       "<div id=\"grid_HnitFTLdpq\" class=\"grid\" align=\"center\"> \n",
       "<div id=\"graph_gOFWNXS56q\" class=\"graph\"></div> \n",
       "</div> \n",
       "</div> \n",
       "<script>\n",
       "var masonry = new Macy({\n",
       "    container: '#grid_HnitFTLdpq',\n",
       "    debug: true,\n",
       "    mobileFirst: true,\n",
       "    columns: 1,\n",
       "    margin: {\n",
       "        x: 0,\n",
       "        y: 50\n",
       "    }\n",
       "  });\n",
       "\n",
       "  var traces_gOFWNXS56q = [{\"name\":\"Iris-versicolor\",\"type\":\"scatter\",\"mode\":\"markers\",\"x\":[7,6.4,6.9,5.5,6.5,5.7,6.3,4.9,6.6,5.2,5,5.9,6,6.1,5.6,6.7,5.6,5.8,6.2,5.6,5.9,6.1,6.3,6.1,6.4,6.6,6.8,6.7,6,5.7,5.5,5.5,5.8,6,5.4,6,6.7,6.3,5.6,5.5,5.5,6.1,5.8,5,5.6,5.7,5.7,6.2,5.1,5.7],\"y\":[1.4,1.5,1.5,1.3,1.5,1.3,1.6,1,1.3,1.4,1,1.5,1,1.4,1.3,1.4,1.5,1,1.5,1.1,1.8,1.3,1.5,1.2,1.3,1.4,1.4,1.7,1.5,1,1.1,1,1.2,1.6,1.5,1.6,1.5,1.3,1.3,1.3,1.2,1.4,1.2,1,1.3,1.2,1.3,1.3,1.1,1.3]},{\"name\":\"Iris-setosa\",\"type\":\"scatter\",\"mode\":\"markers\",\"x\":[5.1,4.9,4.7,4.6,5,5.4,4.6,5,4.4,4.9,5.4,4.8,4.8,4.3,5.8,5.7,5.4,5.1,5.7,5.1,5.4,5.1,4.6,5.1,4.8,5,5,5.2,5.2,4.7,4.8,5.4,5.2,5.5,4.9,5,5.5,4.9,4.4,5.1,5,4.5,4.4,5,5.1,4.8,5.1,4.6,5.3,5],\"y\":[0.2,0.2,0.2,0.2,0.2,0.4,0.3,0.2,0.2,0.1,0.2,0.2,0.1,0.1,0.2,0.4,0.4,0.3,0.3,0.3,0.2,0.4,0.2,0.5,0.2,0.2,0.4,0.2,0.2,0.2,0.2,0.4,0.1,0.2,0.1,0.2,0.2,0.1,0.2,0.2,0.3,0.3,0.2,0.6,0.4,0.3,0.2,0.2,0.2,0.2]},{\"name\":\"Iris-virginica\",\"type\":\"scatter\",\"mode\":\"markers\",\"x\":[6.3,5.8,7.1,6.3,6.5,7.6,4.9,7.3,6.7,7.2,6.5,6.4,6.8,5.7,5.8,6.4,6.5,7.7,7.7,6,6.9,5.6,7.7,6.3,6.7,7.2,6.2,6.1,6.4,7.2,7.4,7.9,6.4,6.3,6.1,7.7,6.3,6.4,6,6.9,6.7,6.9,5.8,6.8,6.7,6.7,6.3,6.5,6.2,5.9],\"y\":[2.5,1.9,2.1,1.8,2.2,2.1,1.7,1.8,1.8,2.5,2,1.9,2.1,2,2.4,2.3,1.8,2.2,2.3,1.5,2.3,2,2,1.8,2.1,1.8,1.8,1.8,2.1,1.6,1.9,2,2.2,1.5,1.4,2.3,2.4,1.8,1.8,2.1,2.4,2.3,1.9,2.3,2.5,2.3,1.9,2,2.3,1.8]}];\n",
       " var layout_gOFWNXS56q = {\"height\":550,\"width\":600,\"hovermode\":\"closest\",\"title\":{\"text\":\"Iris\"},\"showlegend\":true};\n",
       " var config_gOFWNXS56q = {\"responsive\":true,\"scrollZoom\":true,\"displaylogo\":false};\n",
       " Plotly.newPlot(\"graph_gOFWNXS56q\", traces_gOFWNXS56q, layout_gOFWNXS56q, config_gOFWNXS56q);\n",
       "</script> \n"
      ]
     },
     "metadata": {},
     "output_type": "display_data"
    }
   ],
   "source": [
    "val result = getSeriesbyCategory(categories, (sepal_length, petal_width))\n",
    "\n",
    "val chart_IV54 = Chart() addSeries result setTitle \"Iris\" showLegend true\n",
    "\n",
    "chart_IV54.plotInline"
   ]
  },
  {
   "cell_type": "markdown",
   "metadata": {},
   "source": [
    "## Conus Integration\n",
    "\n",
    "Picta was originally created to help plot data in CoNuS and with Spark. A couple of utility functions make wrangling CoNuS data easier. Below is an example taken from the conus repo and plotting some variables of interest."
   ]
  },
  {
   "cell_type": "code",
   "execution_count": 55,
   "metadata": {},
   "outputs": [],
   "source": [
    "import org.carbonateresearch.picta.conus.Utils._\n",
    "import org.carbonateresearch.picta.{Canvas, Chart, XY}\n",
    "import org.carbonateresearch.conus.common.SingleModelResults\n",
    "import org.carbonateresearch.conus._\n",
    "\n",
    "import math._"
   ]
  },
  {
   "cell_type": "code",
   "execution_count": 56,
   "metadata": {
    "scrolled": false
   },
   "outputs": [
    {
     "name": "stdout",
     "output_type": "stream",
     "text": [
      "18:03:02.542 [CoNuS-akka.actor.default-dispatcher-4] INFO akka.event.slf4j.Slf4jLogger - Slf4jLogger started\n"
     ]
    },
    {
     "name": "stderr",
     "output_type": "stream",
     "text": [
      "SLF4J: A number (1) of logging calls during the initialization phase have been intercepted and are\n",
      "SLF4J: now being replayed. These are subject to the filtering rules of the underlying logging system.\n",
      "SLF4J: See also http://www.slf4j.org/codes.html#replay\n"
     ]
    },
    {
     "data": {
      "text/html": [
       "Variable <b>Number of Rats</b> with initial value of 2 Individuals  defined"
      ]
     },
     "metadata": {},
     "output_type": "display_data"
    },
    {
     "data": {
      "text/html": [
       "Variable <b>Death rate</b> with initial value of 0.0 %  defined"
      ]
     },
     "metadata": {},
     "output_type": "display_data"
    }
   ],
   "source": [
    "val simulator = new AlmondSimulator // We create an Almond specific simulator\n",
    "\n",
    "// We will now create a ver simple 2D CoNuS model. The model has a dimension of 3x3 grids, and each grid is meant to represent\n",
    "// about 100x100 meters of a field. We initialize the model with values ranging from 2.0 to 6.0. These represent the population \n",
    "// of rats living in each 100 sq meter of the field. We will run the simulation for 10 time step, each time step represents\n",
    "// one generation. We assume a perfect parity between male and female rat, and we also assume that each couple will have 10\n",
    "// babies per generation. In addition, we will simulate a death rate between 0 to 0.9 (0 to 90% of the population), assigned\n",
    "// randomly at each timestep and for each square. A major simplification is that each cell (square in the field) has its own\n",
    "// rat population, there is no movement of rats in between the different cells.\n",
    "\n",
    "// In CoNuS, values that will be calculated are know as model variables. Let's set a few\n",
    "val nbRats:ModelVariable[Int] = ModelVariable(\"Number of Rats\",2,\"Individuals\") //Notice this is an Int\n",
    "val deathRate:ModelVariable[Double] = ModelVariable(\"Death rate\",0.0,\"%\")\n",
    "\n",
    "// Let's initialise a few model conditions \n",
    "val numberOfSteps = 10\n",
    "\n",
    "// And let's create a function that, given a rat population and a deathRate, calculates a new population \n",
    "\n",
    "def survivingRats(initialPopulation:Int, deathRate:Double): Int = {\n",
    "    initialPopulation-math.floor(initialPopulation.toDouble*deathRate).toInt\n",
    "}\n"
   ]
  },
  {
   "cell_type": "code",
   "execution_count": 57,
   "metadata": {},
   "outputs": [
    {
     "name": "stdout",
     "output_type": "stream",
     "text": [
      "A total of 1 unique models were defined, attempting to create a list now.\n",
      "Models list successfully created.\n"
     ]
    },
    {
     "data": {
      "text/html": [
       "<b>Model characteristics</b><table class=\"table\"><tr><th>Feature</th><th>Value</th></tr><tr><td>Name</td><td>Simplified rat population dynamics</td></tr><tr><td>Nb of steps</td><td>10</td></tr><tr><td>Nb of models</td><td>1</td></tr><tr><td>Nb grid cells</td><td>9</td></tr><tr><td>Nb of operations per step</td><td>2</td></tr><tr><td>Total nb of operations</td><td>180</td></tr></table>"
      ]
     },
     "metadata": {},
     "output_type": "display_data"
    }
   ],
   "source": [
    "// Now we can create our model, step by step\n",
    "val ratPopulation = new SteppedModel(numberOfSteps,\"Simplified rat population dynamics\")\n",
    "    .setGrid(3,3) // 9 cells\n",
    "    .defineMathematicalModel( // In this super simple model we do only two things at each step\n",
    "      deathRate =>> {(s:Step) => scala.util.Random.nextDouble()*0.9}, // calculate a death rate\n",
    "      nbRats =>> {(s:Step) => {survivingRats(nbRats(s-1)+(nbRats(s-1)/2*10),deathRate(s))}} // calcuate the nb rats\n",
    "    )\n",
    "    .defineInitialModelConditions( // Now we need to determine the inital size of the population at each model grid\n",
    "      PerCell(nbRats,List(\n",
    "        (List(2),Seq(0,0)),\n",
    "        (List(2),Seq(0,1)),\n",
    "        (List(4),Seq(0,2)),\n",
    "        (List(4),Seq(1,0)),\n",
    "        (List(2),Seq(1,1)),\n",
    "        (List(6),Seq(1,2)),\n",
    "        (List(2),Seq(2,0)),\n",
    "        (List(4),Seq(2,1)),\n",
    "        (List(6),Seq(2,2)))))"
   ]
  },
  {
   "cell_type": "code",
   "execution_count": 58,
   "metadata": {},
   "outputs": [
    {
     "data": {
      "text/html": [
       "Run progress:<br>#################################################################################################### 100.0%<br>Total runtime: 0 seconds"
      ]
     },
     "metadata": {},
     "output_type": "display_data"
    }
   ],
   "source": [
    "// Now we run the model\n",
    "simulator.evaluate(ratPopulation)"
   ]
  },
  {
   "cell_type": "code",
   "execution_count": 59,
   "metadata": {
    "scrolled": false
   },
   "outputs": [
    {
     "ename": "",
     "evalue": "",
     "output_type": "error",
     "traceback": [
      "\u001b[31mjava.lang.IndexOutOfBoundsException: -1\u001b[39m\n  scala.collection.LinearSeqOps.apply(\u001b[32mLinearSeq.scala\u001b[39m:\u001b[32m114\u001b[39m)\n  scala.collection.LinearSeqOps.apply$(\u001b[32mLinearSeq.scala\u001b[39m:\u001b[32m113\u001b[39m)\n  scala.collection.immutable.List.apply(\u001b[32mList.scala\u001b[39m:\u001b[32m79\u001b[39m)\n  org.carbonateresearch.conus.common.ModelResults.getModel(\u001b[32mModelResults.scala\u001b[39m:\u001b[32m31\u001b[39m)\n  org.carbonateresearch.conus.common.ModelResults.apply(\u001b[32mModelResults.scala\u001b[39m:\u001b[32m35\u001b[39m)\n  ammonite.$sess.cmd58$Helper.<init>(\u001b[32mcmd58.sc\u001b[39m:\u001b[32m1\u001b[39m)\n  ammonite.$sess.cmd58$.<clinit>(\u001b[32mcmd58.sc\u001b[39m:\u001b[32m7\u001b[39m)"
     ]
    }
   ],
   "source": [
    "// grab the results from the Conus model\n",
    "val model: SingleModelResults = simulator(ratPopulation)(0)\n",
    "\n",
    "val generation = (0 until numberOfSteps-1).map(x=>x.toDouble).toList\n",
    "\n",
    "// we can use the utility function to grab the series for a single variable\n",
    "val deathRateSeries: List[Double] = getDataFromSingleModel(model, deathRate, List(0,0), numberOfSteps)\n",
    "\n",
    "val xy1 = XY(generation, deathRateSeries) setName(\"Death rate\")\n",
    "\n",
    "// alternatively we can quickly get the same data for XY using the function below\n",
    "//  val xy1 = getXYSeriesFromSingleModel(model, (age, d18Occ), List(0), numberOfSteps)\n",
    "\n",
    "// lets also plot a second y variable\n",
    "val yaxis2 = Axis(\n",
    "    Y,\n",
    "    position = 2, \n",
    "    title = \"Nb rats\", \n",
    "    overlaying = Axis(Y), // this ensures that the axis sits on a seperate axis\n",
    "    side = RIGHT_SIDE, // this ensures the axis is on the right hand side\n",
    "    tickformat = \"0.0f\" // this will keep formatting reasonable for display purposes\n",
    ")\n",
    "\n",
    "// we construct the second y variable;\n",
    "val nbRatsSeries: List[Double] = getDataFromSingleModel(model, nbRats, List(0,0), numberOfSteps).map(x => x.toDouble)\n",
    "val xy2 = XY(generation, nbRatsSeries) setAxis yaxis2 setName(\"Nb of rats\")\n",
    "\n",
    "// finally we can combine in a single chart\n",
    "val chart_UC58 = (\n",
    "    Chart() \n",
    "    addSeries xy1\n",
    "    addSeries xy2\n",
    "    setTitle(\"Death rate vs nb of rats per generation for cell (0,0)\") \n",
    "    addAxes(Axis(X, title=\"Generation\"), Axis(Y, title=\"Death rate\"), yaxis2)\n",
    ")\n",
    "\n",
    "val canvas = Canvas() addCharts chart_UC58\n",
    "\n",
    "// When we plot the result, we can see the legend is in the wrong place and overlaying the axis - we can overcome this\n",
    "// in the next example\n",
    "canvas.plotInline()"
   ]
  },
  {
   "cell_type": "markdown",
   "metadata": {
    "pycharm": {
     "name": "#%% md\n"
    }
   },
   "source": [
    "### Moving the Legend\n",
    "\n",
    "We can also move the Legend and position it where we would like as follows:"
   ]
  },
  {
   "cell_type": "code",
   "execution_count": null,
   "metadata": {
    "pycharm": {
     "name": "#%%\n"
    }
   },
   "outputs": [],
   "source": [
    "import org.carbonateresearch.picta.options.AUTO"
   ]
  },
  {
   "cell_type": "code",
   "execution_count": null,
   "metadata": {
    "scrolled": false
   },
   "outputs": [],
   "source": [
    "// finally we can combine in a single chart\n",
    "val chart_RD83 = (\n",
    "    Chart() \n",
    "    addSeries xy1\n",
    "    addSeries xy2\n",
    "    setTitle(\"Death rate vs Nb of rats for cell (0,0)\") \n",
    "    addAxes(Axis(X, title=\"Generation\"), Axis(Y, title=\"Death rate\"), yaxis2)\n",
    "    setLegend(x = 0.5, y = -0.5, orientation = HORIZONTAL, xanchor = AUTO, yanchor = AUTO)\n",
    ")\n",
    "\n",
    "val canvas = Canvas() addCharts chart_RD83\n",
    "\n",
    "canvas.plotInline()"
   ]
  },
  {
   "cell_type": "code",
   "execution_count": null,
   "metadata": {},
   "outputs": [],
   "source": [
    "val xaxis = Axis(X, title = \"Generation\") setLimits (0.0, 9.0)\n",
    "val yaxis = Axis(Y, title = \"Death Rate\") setLimits(0.0, 1.0)\n",
    "\n",
    "// lets also plot a second y variable\n",
    "val yaxis2 = Axis(\n",
    "    Y,\n",
    "    position = 2, \n",
    "    title = \"Nb rats\",\n",
    "    overlaying = Axis(Y), // this ensures that the axis sits on a seperate axis\n",
    "    side = RIGHT_SIDE, // this ensures the axis is on the right hand side\n",
    "    tickformat = \"0.0f\" // this will keep formatting reasonable for display purposes\n",
    ").setLimits (0.0, 10000.0)\n",
    "\n",
    "// we can also specifiy the underlying layout directly - sometimes this can be useful\n",
    "val layout = ChartLayout(\"Animation XY with Multiple Series\") setAxes(xaxis, yaxis, yaxis2)\n",
    "\n",
    "val animation = \n",
    "    (0 to generation.size-1)\n",
    "    .map(x => XY(generation.take(x+1), deathRateSeries.take(x+1)) setName \"Death Rate\")\n",
    "    .toList\n",
    "\n",
    "val animation2 = \n",
    "    (0 to generation.size-1)\n",
    "    .map(x => XY(generation.take(x+1), nbRatsSeries.take(x+1)) setName \"Nb of rats\" setAxis yaxis2)\n",
    "    .toList\n",
    "\n",
    "val chart_CT27 = (\n",
    "    Chart(animated = true, transition_duration=100, animate_multiple_series = true)\n",
    "    setChartLayout layout \n",
    "    addSeries animation\n",
    "    addSeries animation2\n",
    "    setLegend(x = 0.5, y = -0.5, orientation = HORIZONTAL, xanchor = AUTO, yanchor = AUTO)\n",
    ") \n",
    "\n",
    "chart_CT27.plotInline"
   ]
  },
  {
   "cell_type": "code",
   "execution_count": null,
   "metadata": {
    "pycharm": {
     "name": "#%%\n"
    }
   },
   "outputs": [],
   "source": [
    "val nbCol = (0 to 2).toList\n",
    "val mySeries:List[Double] = nbCol.flatMap(r => {\n",
    "    nbCol.map{c => getDataFromSingleModel(model, nbRats, List(r,c), numberOfSteps).last.toDouble}})\n",
    "\n",
    "val series = XYZ(z=mySeries,n=3) asType HEATMAP\n",
    "\n",
    "val chart_UF57 = Chart().addSeries(series).setTitle(\"Nb of rats at time step 10\")\n",
    "\n",
    "chart_UF57.plotInline"
   ]
  },
  {
   "cell_type": "code",
   "execution_count": null,
   "metadata": {},
   "outputs": [],
   "source": [
    "val ratsAsSurface = XYZ(z=mySeries,n=3) asType SURFACE setColorBar(\"Rat Population\", RIGHT_SIDE)\n",
    "\n",
    "val ratsChart = Chart() addSeries ratsAsSurface setTitle \"Surface\"\n",
    "\n",
    "ratsChart.plotInline"
   ]
  },
  {
   "cell_type": "code",
   "execution_count": null,
   "metadata": {},
   "outputs": [],
   "source": [
    "def createSeries:List[List[Double]] = {\n",
    "    val nbCol = (0 to 2).toList\n",
    "    val nestedList:List[List[Double]] = nbCol.flatMap(r => {\n",
    "    nbCol.map{c => getDataFromSingleModel(model, nbRats, List(r,c), numberOfSteps).map(x=>x.toDouble)}})\n",
    "    (0 to 9).map(x => (0 to 8).map(y => nestedList(y)(x)).toList).toList\n",
    "}\n",
    "\n",
    "\n",
    "val ratsAsSurface = createSeries.map(s => XYZ(z=s,n=3) asType SURFACE setColorBar(\"Rat Population\", RIGHT_SIDE)) \n",
    "\n",
    "val ratsChart = Chart(animated = true, transition_duration=100) addSeries ratsAsSurface setTitle \"Animated Surface\" setZAxisLimits(0, 3E6)\n",
    "\n",
    "ratsChart.plotInline"
   ]
  }
 ],
 "metadata": {
  "kernelspec": {
   "display_name": "Scala",
   "language": "scala",
   "name": "scala"
  },
  "language_info": {
   "codemirror_mode": "text/x-scala",
   "file_extension": ".scala",
   "mimetype": "text/x-scala",
   "name": "scala",
   "nbconvert_exporter": "script",
   "version": "2.13.2"
  }
 },
 "nbformat": 4,
 "nbformat_minor": 4
}
