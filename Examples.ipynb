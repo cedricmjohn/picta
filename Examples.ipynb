{
 "cells": [
  {
   "cell_type": "code",
   "execution_count": 1,
   "metadata": {
    "scrolled": true
   },
   "outputs": [],
   "source": [
    "interp.repositories() ++= Seq(coursierapi.MavenRepository.of(\n",
    "\"https://jitpack.io\"\n",
    "))"
   ]
  },
  {
   "cell_type": "code",
   "execution_count": 2,
   "metadata": {},
   "outputs": [
    {
     "data": {
      "text/plain": [
       "\u001b[32mimport \u001b[39m\u001b[36m$ivy.$                                  \u001b[39m"
      ]
     },
     "execution_count": 2,
     "metadata": {},
     "output_type": "execute_result"
    }
   ],
   "source": [
    "import $ivy. `org.carbonateresearch::picta:0.1`"
   ]
  },
  {
   "cell_type": "code",
   "execution_count": 3,
   "metadata": {
    "scrolled": false
   },
   "outputs": [
    {
     "data": {
      "text/html": [
       "\n",
       "<style> #animationInterface {\n",
       "    margin-top: 50px;\n",
       "    margin-bottom: 50px;\n",
       "}\n",
       "\n",
       ".progressBar {\n",
       "    padding-top: 20px;\n",
       "    padding-bottom: 20px;\n",
       "}\n",
       "\n",
       ".inline-div {\n",
       "    display: block;\n",
       "    text-align: center;\n",
       "}\n",
       "\n",
       "h3 {\n",
       "    display: inline-block;\n",
       "    text-align: center;\n",
       "}\n",
       "\n",
       ".picta-button {\n",
       "    background-color: #003E74;\n",
       "    border: none;\n",
       "    color: white;\n",
       "    padding: 12px 28px;\n",
       "    text-align: center;\n",
       "    text-decoration: none;\n",
       "    display: inline-block;\n",
       "    font-size: 12px;\n",
       "    margin-top: 50px;\n",
       "    transition-duration: 0.4s;\n",
       "    cursor: pointer;\n",
       "}\n",
       "\n",
       ".picta-button:hover {\n",
       "    background-color: #002147;\n",
       "    color: white;\n",
       "}\n",
       "\n",
       ".grid-title h1 {\n",
       "    font-family: \"Open Sans\", verdana, arial, sans-serif;\n",
       "    font-weight: normal;\n",
       "}\n",
       "\n",
       ".grid-container {\n",
       "    padding-top: 40px;\n",
       "    background: white;\n",
       "} </style>\n",
       "<script> /** vim: et:ts=4:sw=4:sts=4\n",
       " * @license RequireJS 2.3.6 Copyright jQuery Foundation and other contributors.\n",
       " * Released under MIT license, https://github.com/requirejs/requirejs/blob/master/LICENSE\n",
       " */\n",
       "var requirejs,require,define;!function(global,setTimeout){var req,s,head,baseElement,dataMain,src,interactiveScript,currentlyAddingScript,mainScript,subPath,version=\"2.3.6\",commentRegExp=/\\/\\*[\\s\\S]*?\\*\\/|([^:\"'=]|^)\\/\\/.*$/gm,cjsRequireRegExp=/[^.]\\s*require\\s*\\(\\s*[\"']([^'\"\\s]+)[\"']\\s*\\)/g,jsSuffixRegExp=/\\.js$/,currDirRegExp=/^\\.\\//,op=Object.prototype,ostring=op.toString,hasOwn=op.hasOwnProperty,isBrowser=!(\"undefined\"==typeof window||\"undefined\"==typeof navigator||!window.document),isWebWorker=!isBrowser&&\"undefined\"!=typeof importScripts,readyRegExp=isBrowser&&\"PLAYSTATION 3\"===navigator.platform?/^complete$/:/^(complete|loaded)$/,defContextName=\"_\",isOpera=\"undefined\"!=typeof opera&&\"[object Opera]\"===opera.toString(),contexts={},cfg={},globalDefQueue=[],useInteractive=!1;function commentReplace(e,t){return t||\"\"}function isFunction(e){return\"[object Function]\"===ostring.call(e)}function isArray(e){return\"[object Array]\"===ostring.call(e)}function each(e,t){var i;if(e)for(i=0;i<e.length&&(!e[i]||!t(e[i],i,e));i+=1);}function eachReverse(e,t){var i;if(e)for(i=e.length-1;-1<i&&(!e[i]||!t(e[i],i,e));i-=1);}function hasProp(e,t){return hasOwn.call(e,t)}function getOwn(e,t){return hasProp(e,t)&&e[t]}function eachProp(e,t){var i;for(i in e)if(hasProp(e,i)&&t(e[i],i))break}function mixin(i,e,r,n){return e&&eachProp(e,function(e,t){!r&&hasProp(i,t)||(!n||\"object\"!=typeof e||!e||isArray(e)||isFunction(e)||e instanceof RegExp?i[t]=e:(i[t]||(i[t]={}),mixin(i[t],e,r,n)))}),i}function bind(e,t){return function(){return t.apply(e,arguments)}}function scripts(){return document.getElementsByTagName(\"script\")}function defaultOnError(e){throw e}function getGlobal(e){if(!e)return e;var t=global;return each(e.split(\".\"),function(e){t=t[e]}),t}function makeError(e,t,i,r){var n=new Error(t+\"\\nhttps://requirejs.org/docs/errors.html#\"+e);return n.requireType=e,n.requireModules=r,i&&(n.originalError=i),n}if(void 0===define){if(void 0!==requirejs){if(isFunction(requirejs))return;cfg=requirejs,requirejs=void 0}void 0===require||isFunction(require)||(cfg=require,require=void 0),req=requirejs=function(e,t,i,r){var n,o,a=defContextName;return isArray(e)||\"string\"==typeof e||(o=e,isArray(t)?(e=t,t=i,i=r):e=[]),o&&o.context&&(a=o.context),(n=getOwn(contexts,a))||(n=contexts[a]=req.s.newContext(a)),o&&n.configure(o),n.require(e,t,i)},req.config=function(e){return req(e)},req.nextTick=void 0!==setTimeout?function(e){setTimeout(e,4)}:function(e){e()},require||(require=req),req.version=version,req.jsExtRegExp=/^\\/|:|\\?|\\.js$/,req.isBrowser=isBrowser,s=req.s={contexts:contexts,newContext:newContext},req({}),each([\"toUrl\",\"undef\",\"defined\",\"specified\"],function(t){req[t]=function(){var e=contexts[defContextName];return e.require[t].apply(e,arguments)}}),isBrowser&&(head=s.head=document.getElementsByTagName(\"head\")[0],baseElement=document.getElementsByTagName(\"base\")[0],baseElement&&(head=s.head=baseElement.parentNode)),req.onError=defaultOnError,req.createNode=function(e,t,i){var r=e.xhtml?document.createElementNS(\"http://www.w3.org/1999/xhtml\",\"html:script\"):document.createElement(\"script\");return r.type=e.scriptType||\"text/javascript\",r.charset=\"utf-8\",r.async=!0,r},req.load=function(t,i,r){var e,n=t&&t.config||{};if(isBrowser)return(e=req.createNode(n,i,r)).setAttribute(\"data-requirecontext\",t.contextName),e.setAttribute(\"data-requiremodule\",i),!e.attachEvent||e.attachEvent.toString&&e.attachEvent.toString().indexOf(\"[native code\")<0||isOpera?(e.addEventListener(\"load\",t.onScriptLoad,!1),e.addEventListener(\"error\",t.onScriptError,!1)):(useInteractive=!0,e.attachEvent(\"onreadystatechange\",t.onScriptLoad)),e.src=r,n.onNodeCreated&&n.onNodeCreated(e,n,i,r),currentlyAddingScript=e,baseElement?head.insertBefore(e,baseElement):head.appendChild(e),currentlyAddingScript=null,e;if(isWebWorker)try{setTimeout(function(){},0),importScripts(r),t.completeLoad(i)}catch(e){t.onError(makeError(\"importscripts\",\"importScripts failed for \"+i+\" at \"+r,e,[i]))}},isBrowser&&!cfg.skipDataMain&&eachReverse(scripts(),function(e){if(head||(head=e.parentNode),dataMain=e.getAttribute(\"data-main\"))return mainScript=dataMain,cfg.baseUrl||-1!==mainScript.indexOf(\"!\")||(mainScript=(src=mainScript.split(\"/\")).pop(),subPath=src.length?src.join(\"/\")+\"/\":\"./\",cfg.baseUrl=subPath),mainScript=mainScript.replace(jsSuffixRegExp,\"\"),req.jsExtRegExp.test(mainScript)&&(mainScript=dataMain),cfg.deps=cfg.deps?cfg.deps.concat(mainScript):[mainScript],!0}),define=function(e,i,t){var r,n;\"string\"!=typeof e&&(t=i,i=e,e=null),isArray(i)||(t=i,i=null),!i&&isFunction(t)&&(i=[],t.length&&(t.toString().replace(commentRegExp,commentReplace).replace(cjsRequireRegExp,function(e,t){i.push(t)}),i=(1===t.length?[\"require\"]:[\"require\",\"exports\",\"module\"]).concat(i))),useInteractive&&(r=currentlyAddingScript||getInteractiveScript())&&(e||(e=r.getAttribute(\"data-requiremodule\")),n=contexts[r.getAttribute(\"data-requirecontext\")]),n?(n.defQueue.push([e,i,t]),n.defQueueMap[e]=!0):globalDefQueue.push([e,i,t])},define.amd={jQuery:!0},req.exec=function(text){return eval(text)},req(cfg)}function newContext(u){var i,e,l,c,d,g={waitSeconds:7,baseUrl:\"./\",paths:{},bundles:{},pkgs:{},shim:{},config:{}},p={},f={},r={},h=[],m={},n={},v={},x=1,b=1;function q(e,t,i){var r,n,o,a,s,u,c,d,p,f,l=t&&t.split(\"/\"),h=g.map,m=h&&h[\"*\"];if(e&&(u=(e=e.split(\"/\")).length-1,g.nodeIdCompat&&jsSuffixRegExp.test(e[u])&&(e[u]=e[u].replace(jsSuffixRegExp,\"\")),\".\"===e[0].charAt(0)&&l&&(e=l.slice(0,l.length-1).concat(e)),function(e){var t,i;for(t=0;t<e.length;t++)if(\".\"===(i=e[t]))e.splice(t,1),t-=1;else if(\"..\"===i){if(0===t||1===t&&\"..\"===e[2]||\"..\"===e[t-1])continue;0<t&&(e.splice(t-1,2),t-=2)}}(e),e=e.join(\"/\")),i&&h&&(l||m)){e:for(o=(n=e.split(\"/\")).length;0<o;o-=1){if(s=n.slice(0,o).join(\"/\"),l)for(a=l.length;0<a;a-=1)if((r=getOwn(h,l.slice(0,a).join(\"/\")))&&(r=getOwn(r,s))){c=r,d=o;break e}!p&&m&&getOwn(m,s)&&(p=getOwn(m,s),f=o)}!c&&p&&(c=p,d=f),c&&(n.splice(0,d,c),e=n.join(\"/\"))}return getOwn(g.pkgs,e)||e}function E(t){isBrowser&&each(scripts(),function(e){if(e.getAttribute(\"data-requiremodule\")===t&&e.getAttribute(\"data-requirecontext\")===l.contextName)return e.parentNode.removeChild(e),!0})}function w(e){var t=getOwn(g.paths,e);if(t&&isArray(t)&&1<t.length)return t.shift(),l.require.undef(e),l.makeRequire(null,{skipMap:!0})([e]),!0}function y(e){var t,i=e?e.indexOf(\"!\"):-1;return-1<i&&(t=e.substring(0,i),e=e.substring(i+1,e.length)),[t,e]}function S(e,t,i,r){var n,o,a,s,u=null,c=t?t.name:null,d=e,p=!0,f=\"\";return e||(p=!1,e=\"_@r\"+(x+=1)),u=(s=y(e))[0],e=s[1],u&&(u=q(u,c,r),o=getOwn(m,u)),e&&(u?f=i?e:o&&o.normalize?o.normalize(e,function(e){return q(e,c,r)}):-1===e.indexOf(\"!\")?q(e,c,r):e:(u=(s=y(f=q(e,c,r)))[0],f=s[1],i=!0,n=l.nameToUrl(f))),{prefix:u,name:f,parentMap:t,unnormalized:!!(a=!u||o||i?\"\":\"_unnormalized\"+(b+=1)),url:n,originalName:d,isDefine:p,id:(u?u+\"!\"+f:f)+a}}function k(e){var t=e.id,i=getOwn(p,t);return i||(i=p[t]=new l.Module(e)),i}function M(e,t,i){var r=e.id,n=getOwn(p,r);!hasProp(m,r)||n&&!n.defineEmitComplete?(n=k(e)).error&&\"error\"===t?i(n.error):n.on(t,i):\"defined\"===t&&i(m[r])}function O(i,e){var t=i.requireModules,r=!1;e?e(i):(each(t,function(e){var t=getOwn(p,e);t&&(t.error=i,t.events.error&&(r=!0,t.emit(\"error\",i)))}),r||req.onError(i))}function j(){globalDefQueue.length&&(each(globalDefQueue,function(e){var t=e[0];\"string\"==typeof t&&(l.defQueueMap[t]=!0),h.push(e)}),globalDefQueue=[])}function P(e){delete p[e],delete f[e]}function R(){var e,r,t=1e3*g.waitSeconds,n=t&&l.startTime+t<(new Date).getTime(),o=[],a=[],s=!1,u=!0;if(!i){if(i=!0,eachProp(f,function(e){var t=e.map,i=t.id;if(e.enabled&&(t.isDefine||a.push(e),!e.error))if(!e.inited&&n)w(i)?s=r=!0:(o.push(i),E(i));else if(!e.inited&&e.fetched&&t.isDefine&&(s=!0,!t.prefix))return u=!1}),n&&o.length)return(e=makeError(\"timeout\",\"Load timeout for modules: \"+o,null,o)).contextName=l.contextName,O(e);u&&each(a,function(e){!function n(o,a,s){var e=o.map.id;o.error?o.emit(\"error\",o.error):(a[e]=!0,each(o.depMaps,function(e,t){var i=e.id,r=getOwn(p,i);!r||o.depMatched[t]||s[i]||(getOwn(a,i)?(o.defineDep(t,m[i]),o.check()):n(r,a,s))}),s[e]=!0)}(e,{},{})}),n&&!r||!s||!isBrowser&&!isWebWorker||d||(d=setTimeout(function(){d=0,R()},50)),i=!1}}function a(e){hasProp(m,e[0])||k(S(e[0],null,!0)).init(e[1],e[2])}function o(e,t,i,r){e.detachEvent&&!isOpera?r&&e.detachEvent(r,t):e.removeEventListener(i,t,!1)}function s(e){var t=e.currentTarget||e.srcElement;return o(t,l.onScriptLoad,\"load\",\"onreadystatechange\"),o(t,l.onScriptError,\"error\"),{node:t,id:t&&t.getAttribute(\"data-requiremodule\")}}function T(){var e;for(j();h.length;){if(null===(e=h.shift())[0])return O(makeError(\"mismatch\",\"Mismatched anonymous define() module: \"+e[e.length-1]));a(e)}l.defQueueMap={}}return c={require:function(e){return e.require?e.require:e.require=l.makeRequire(e.map)},exports:function(e){if(e.usingExports=!0,e.map.isDefine)return e.exports?m[e.map.id]=e.exports:e.exports=m[e.map.id]={}},module:function(e){return e.module?e.module:e.module={id:e.map.id,uri:e.map.url,config:function(){return getOwn(g.config,e.map.id)||{}},exports:e.exports||(e.exports={})}}},(e=function(e){this.events=getOwn(r,e.id)||{},this.map=e,this.shim=getOwn(g.shim,e.id),this.depExports=[],this.depMaps=[],this.depMatched=[],this.pluginMaps={},this.depCount=0}).prototype={init:function(e,t,i,r){r=r||{},this.inited||(this.factory=t,i?this.on(\"error\",i):this.events.error&&(i=bind(this,function(e){this.emit(\"error\",e)})),this.depMaps=e&&e.slice(0),this.errback=i,this.inited=!0,this.ignore=r.ignore,r.enabled||this.enabled?this.enable():this.check())},defineDep:function(e,t){this.depMatched[e]||(this.depMatched[e]=!0,this.depCount-=1,this.depExports[e]=t)},fetch:function(){if(!this.fetched){this.fetched=!0,l.startTime=(new Date).getTime();var e=this.map;if(!this.shim)return e.prefix?this.callPlugin():this.load();l.makeRequire(this.map,{enableBuildCallback:!0})(this.shim.deps||[],bind(this,function(){return e.prefix?this.callPlugin():this.load()}))}},load:function(){var e=this.map.url;n[e]||(n[e]=!0,l.load(this.map.id,e))},check:function(){if(this.enabled&&!this.enabling){var t,e,i=this.map.id,r=this.depExports,n=this.exports,o=this.factory;if(this.inited){if(this.error)this.emit(\"error\",this.error);else if(!this.defining){if(this.defining=!0,this.depCount<1&&!this.defined){if(isFunction(o)){if(this.events.error&&this.map.isDefine||req.onError!==defaultOnError)try{n=l.execCb(i,o,r,n)}catch(e){t=e}else n=l.execCb(i,o,r,n);if(this.map.isDefine&&void 0===n&&((e=this.module)?n=e.exports:this.usingExports&&(n=this.exports)),t)return t.requireMap=this.map,t.requireModules=this.map.isDefine?[this.map.id]:null,t.requireType=this.map.isDefine?\"define\":\"require\",O(this.error=t)}else n=o;if(this.exports=n,this.map.isDefine&&!this.ignore&&(m[i]=n,req.onResourceLoad)){var a=[];each(this.depMaps,function(e){a.push(e.normalizedMap||e)}),req.onResourceLoad(l,this.map,a)}P(i),this.defined=!0}this.defining=!1,this.defined&&!this.defineEmitted&&(this.defineEmitted=!0,this.emit(\"defined\",this.exports),this.defineEmitComplete=!0)}}else hasProp(l.defQueueMap,i)||this.fetch()}},callPlugin:function(){var u=this.map,c=u.id,e=S(u.prefix);this.depMaps.push(e),M(e,\"defined\",bind(this,function(e){var o,t,i,r=getOwn(v,this.map.id),n=this.map.name,a=this.map.parentMap?this.map.parentMap.name:null,s=l.makeRequire(u.parentMap,{enableBuildCallback:!0});return this.map.unnormalized?(e.normalize&&(n=e.normalize(n,function(e){return q(e,a,!0)})||\"\"),M(t=S(u.prefix+\"!\"+n,this.map.parentMap,!0),\"defined\",bind(this,function(e){this.map.normalizedMap=t,this.init([],function(){return e},null,{enabled:!0,ignore:!0})})),void((i=getOwn(p,t.id))&&(this.depMaps.push(t),this.events.error&&i.on(\"error\",bind(this,function(e){this.emit(\"error\",e)})),i.enable()))):r?(this.map.url=l.nameToUrl(r),void this.load()):((o=bind(this,function(e){this.init([],function(){return e},null,{enabled:!0})})).error=bind(this,function(e){this.inited=!0,(this.error=e).requireModules=[c],eachProp(p,function(e){0===e.map.id.indexOf(c+\"_unnormalized\")&&P(e.map.id)}),O(e)}),o.fromText=bind(this,function(e,t){var i=u.name,r=S(i),n=useInteractive;t&&(e=t),n&&(useInteractive=!1),k(r),hasProp(g.config,c)&&(g.config[i]=g.config[c]);try{req.exec(e)}catch(e){return O(makeError(\"fromtexteval\",\"fromText eval for \"+c+\" failed: \"+e,e,[c]))}n&&(useInteractive=!0),this.depMaps.push(r),l.completeLoad(i),s([i],o)}),void e.load(u.name,s,o,g))})),l.enable(e,this),this.pluginMaps[e.id]=e},enable:function(){(f[this.map.id]=this).enabled=!0,this.enabling=!0,each(this.depMaps,bind(this,function(e,t){var i,r,n;if(\"string\"==typeof e){if(e=S(e,this.map.isDefine?this.map:this.map.parentMap,!1,!this.skipMap),this.depMaps[t]=e,n=getOwn(c,e.id))return void(this.depExports[t]=n(this));this.depCount+=1,M(e,\"defined\",bind(this,function(e){this.undefed||(this.defineDep(t,e),this.check())})),this.errback?M(e,\"error\",bind(this,this.errback)):this.events.error&&M(e,\"error\",bind(this,function(e){this.emit(\"error\",e)}))}i=e.id,r=p[i],hasProp(c,i)||!r||r.enabled||l.enable(e,this)})),eachProp(this.pluginMaps,bind(this,function(e){var t=getOwn(p,e.id);t&&!t.enabled&&l.enable(e,this)})),this.enabling=!1,this.check()},on:function(e,t){var i=this.events[e];i||(i=this.events[e]=[]),i.push(t)},emit:function(e,t){each(this.events[e],function(e){e(t)}),\"error\"===e&&delete this.events[e]}},(l={config:g,contextName:u,registry:p,defined:m,urlFetched:n,defQueue:h,defQueueMap:{},Module:e,makeModuleMap:S,nextTick:req.nextTick,onError:O,configure:function(e){if(e.baseUrl&&\"/\"!==e.baseUrl.charAt(e.baseUrl.length-1)&&(e.baseUrl+=\"/\"),\"string\"==typeof e.urlArgs){var i=e.urlArgs;e.urlArgs=function(e,t){return(-1===t.indexOf(\"?\")?\"?\":\"&\")+i}}var r=g.shim,n={paths:!0,bundles:!0,config:!0,map:!0};eachProp(e,function(e,t){n[t]?(g[t]||(g[t]={}),mixin(g[t],e,!0,!0)):g[t]=e}),e.bundles&&eachProp(e.bundles,function(e,t){each(e,function(e){e!==t&&(v[e]=t)})}),e.shim&&(eachProp(e.shim,function(e,t){isArray(e)&&(e={deps:e}),!e.exports&&!e.init||e.exportsFn||(e.exportsFn=l.makeShimExports(e)),r[t]=e}),g.shim=r),e.packages&&each(e.packages,function(e){var t;t=(e=\"string\"==typeof e?{name:e}:e).name,e.location&&(g.paths[t]=e.location),g.pkgs[t]=e.name+\"/\"+(e.main||\"main\").replace(currDirRegExp,\"\").replace(jsSuffixRegExp,\"\")}),eachProp(p,function(e,t){e.inited||e.map.unnormalized||(e.map=S(t,null,!0))}),(e.deps||e.callback)&&l.require(e.deps||[],e.callback)},makeShimExports:function(t){return function(){var e;return t.init&&(e=t.init.apply(global,arguments)),e||t.exports&&getGlobal(t.exports)}},makeRequire:function(o,a){function s(e,t,i){var r,n;return a.enableBuildCallback&&t&&isFunction(t)&&(t.__requireJsBuild=!0),\"string\"==typeof e?isFunction(t)?O(makeError(\"requireargs\",\"Invalid require call\"),i):o&&hasProp(c,e)?c[e](p[o.id]):req.get?req.get(l,e,o,s):(r=S(e,o,!1,!0).id,hasProp(m,r)?m[r]:O(makeError(\"notloaded\",'Module name \"'+r+'\" has not been loaded yet for context: '+u+(o?\"\":\". Use require([])\")))):(T(),l.nextTick(function(){T(),(n=k(S(null,o))).skipMap=a.skipMap,n.init(e,t,i,{enabled:!0}),R()}),s)}return a=a||{},mixin(s,{isBrowser:isBrowser,toUrl:function(e){var t,i=e.lastIndexOf(\".\"),r=e.split(\"/\")[0];return-1!==i&&(!(\".\"===r||\"..\"===r)||1<i)&&(t=e.substring(i,e.length),e=e.substring(0,i)),l.nameToUrl(q(e,o&&o.id,!0),t,!0)},defined:function(e){return hasProp(m,S(e,o,!1,!0).id)},specified:function(e){return e=S(e,o,!1,!0).id,hasProp(m,e)||hasProp(p,e)}}),o||(s.undef=function(i){j();var e=S(i,o,!0),t=getOwn(p,i);t.undefed=!0,E(i),delete m[i],delete n[e.url],delete r[i],eachReverse(h,function(e,t){e[0]===i&&h.splice(t,1)}),delete l.defQueueMap[i],t&&(t.events.defined&&(r[i]=t.events),P(i))}),s},enable:function(e){getOwn(p,e.id)&&k(e).enable()},completeLoad:function(e){var t,i,r,n=getOwn(g.shim,e)||{},o=n.exports;for(j();h.length;){if(null===(i=h.shift())[0]){if(i[0]=e,t)break;t=!0}else i[0]===e&&(t=!0);a(i)}if(l.defQueueMap={},r=getOwn(p,e),!t&&!hasProp(m,e)&&r&&!r.inited){if(!(!g.enforceDefine||o&&getGlobal(o)))return w(e)?void 0:O(makeError(\"nodefine\",\"No define call for \"+e,null,[e]));a([e,n.deps||[],n.exportsFn])}R()},nameToUrl:function(e,t,i){var r,n,o,a,s,u,c=getOwn(g.pkgs,e);if(c&&(e=c),u=getOwn(v,e))return l.nameToUrl(u,t,i);if(req.jsExtRegExp.test(e))a=e+(t||\"\");else{for(r=g.paths,o=(n=e.split(\"/\")).length;0<o;o-=1)if(s=getOwn(r,n.slice(0,o).join(\"/\"))){isArray(s)&&(s=s[0]),n.splice(0,o,s);break}a=n.join(\"/\"),a=(\"/\"===(a+=t||(/^data\\:|^blob\\:|\\?/.test(a)||i?\"\":\".js\")).charAt(0)||a.match(/^[\\w\\+\\.\\-]+:/)?\"\":g.baseUrl)+a}return g.urlArgs&&!/^blob\\:/.test(a)?a+g.urlArgs(e,a):a},load:function(e,t){req.load(l,e,t)},execCb:function(e,t,i,r){return t.apply(r,i)},onScriptLoad:function(e){if(\"load\"===e.type||readyRegExp.test((e.currentTarget||e.srcElement).readyState)){interactiveScript=null;var t=s(e);l.completeLoad(t.id)}},onScriptError:function(e){var i=s(e);if(!w(i.id)){var r=[];return eachProp(p,function(e,t){0!==t.indexOf(\"_@r\")&&each(e.depMaps,function(e){if(e.id===i.id)return r.push(t),!0})}),O(makeError(\"scripterror\",'Script error for \"'+i.id+(r.length?'\", needed by: '+r.join(\", \"):'\"'),e,[i.id]))}}}).require=l.makeRequire(),l}function getInteractiveScript(){return interactiveScript&&\"interactive\"===interactiveScript.readyState||eachReverse(scripts(),function(e){if(\"interactive\"===e.readyState)return interactiveScript=e}),interactiveScript}}(this,\"undefined\"==typeof setTimeout?void 0:setTimeout); </script>\n",
       "<script> /*! dom-to-image 10-06-2017 */\n",
       "!function(a){\"use strict\";function b(a,b){function c(a){return b.bgcolor&&(a.style.backgroundColor=b.bgcolor),b.width&&(a.style.width=b.width+\"px\"),b.height&&(a.style.height=b.height+\"px\"),b.style&&Object.keys(b.style).forEach(function(c){a.style[c]=b.style[c]}),a}return b=b||{},g(b),Promise.resolve(a).then(function(a){return i(a,b.filter,!0)}).then(j).then(k).then(c).then(function(c){return l(c,b.width||q.width(a),b.height||q.height(a))})}function c(a,b){return h(a,b||{}).then(function(b){return b.getContext(\"2d\").getImageData(0,0,q.width(a),q.height(a)).data})}function d(a,b){return h(a,b||{}).then(function(a){return a.toDataURL()})}function e(a,b){return b=b||{},h(a,b).then(function(a){return a.toDataURL(\"image/jpeg\",b.quality||1)})}function f(a,b){return h(a,b||{}).then(q.canvasToBlob)}function g(a){\"undefined\"==typeof a.imagePlaceholder?v.impl.options.imagePlaceholder=u.imagePlaceholder:v.impl.options.imagePlaceholder=a.imagePlaceholder,\"undefined\"==typeof a.cacheBust?v.impl.options.cacheBust=u.cacheBust:v.impl.options.cacheBust=a.cacheBust}function h(a,c){function d(a){var b=document.createElement(\"canvas\");if(b.width=c.width||q.width(a),b.height=c.height||q.height(a),c.bgcolor){var d=b.getContext(\"2d\");d.fillStyle=c.bgcolor,d.fillRect(0,0,b.width,b.height)}return b}return b(a,c).then(q.makeImage).then(q.delay(100)).then(function(b){var c=d(a);return c.getContext(\"2d\").drawImage(b,0,0),c})}function i(a,b,c){function d(a){return a instanceof HTMLCanvasElement?q.makeImage(a.toDataURL()):a.cloneNode(!1)}function e(a,b,c){function d(a,b,c){var d=Promise.resolve();return b.forEach(function(b){d=d.then(function(){return i(b,c)}).then(function(b){b&&a.appendChild(b)})}),d}var e=a.childNodes;return 0===e.length?Promise.resolve(b):d(b,q.asArray(e),c).then(function(){return b})}function f(a,b){function c(){function c(a,b){function c(a,b){q.asArray(a).forEach(function(c){b.setProperty(c,a.getPropertyValue(c),a.getPropertyPriority(c))})}a.cssText?b.cssText=a.cssText:c(a,b)}c(window.getComputedStyle(a),b.style)}function d(){function c(c){function d(a,b,c){function d(a){var b=a.getPropertyValue(\"content\");return a.cssText+\" content: \"+b+\";\"}function e(a){function b(b){return b+\": \"+a.getPropertyValue(b)+(a.getPropertyPriority(b)?\" !important\":\"\")}return q.asArray(a).map(b).join(\"; \")+\";\"}var f=\".\"+a+\":\"+b,g=c.cssText?d(c):e(c);return document.createTextNode(f+\"{\"+g+\"}\")}var e=window.getComputedStyle(a,c),f=e.getPropertyValue(\"content\");if(\"\"!==f&&\"none\"!==f){var g=q.uid();b.className=b.className+\" \"+g;var h=document.createElement(\"style\");h.appendChild(d(g,c,e)),b.appendChild(h)}}[\":before\",\":after\"].forEach(function(a){c(a)})}function e(){a instanceof HTMLTextAreaElement&&(b.innerHTML=a.value),a instanceof HTMLInputElement&&b.setAttribute(\"value\",a.value)}function f(){b instanceof SVGElement&&(b.setAttribute(\"xmlns\",\"http://www.w3.org/2000/svg\"),b instanceof SVGRectElement&&[\"width\",\"height\"].forEach(function(a){var c=b.getAttribute(a);c&&b.style.setProperty(a,c)}))}return b instanceof Element?Promise.resolve().then(c).then(d).then(e).then(f).then(function(){return b}):b}return c||!b||b(a)?Promise.resolve(a).then(d).then(function(c){return e(a,c,b)}).then(function(b){return f(a,b)}):Promise.resolve()}function j(a){return s.resolveAll().then(function(b){var c=document.createElement(\"style\");return a.appendChild(c),c.appendChild(document.createTextNode(b)),a})}function k(a){return t.inlineAll(a).then(function(){return a})}function l(a,b,c){return Promise.resolve(a).then(function(a){return a.setAttribute(\"xmlns\",\"http://www.w3.org/1999/xhtml\"),(new XMLSerializer).serializeToString(a)}).then(q.escapeXhtml).then(function(a){return'<foreignObject x=\"0\" y=\"0\" width=\"100%\" height=\"100%\">'+a+\"</foreignObject>\"}).then(function(a){return'<svg xmlns=\"http://www.w3.org/2000/svg\" width=\"'+b+'\" height=\"'+c+'\">'+a+\"</svg>\"}).then(function(a){return\"data:image/svg+xml;charset=utf-8,\"+a})}function m(){function a(){var a=\"application/font-woff\",b=\"image/jpeg\";return{woff:a,woff2:a,ttf:\"application/font-truetype\",eot:\"application/vnd.ms-fontobject\",png:\"image/png\",jpg:b,jpeg:b,gif:\"image/gif\",tiff:\"image/tiff\",svg:\"image/svg+xml\"}}function b(a){var b=/\\.([^\\.\\/]*?)$/g.exec(a);return b?b[1]:\"\"}function c(c){var d=b(c).toLowerCase();return a()[d]||\"\"}function d(a){return a.search(/^(data:)/)!==-1}function e(a){return new Promise(function(b){for(var c=window.atob(a.toDataURL().split(\",\")[1]),d=c.length,e=new Uint8Array(d),f=0;f<d;f++)e[f]=c.charCodeAt(f);b(new Blob([e],{type:\"image/png\"}))})}function f(a){return a.toBlob?new Promise(function(b){a.toBlob(b)}):e(a)}function g(a,b){var c=document.implementation.createHTMLDocument(),d=c.createElement(\"base\");c.head.appendChild(d);var e=c.createElement(\"a\");return c.body.appendChild(e),d.href=b,e.href=a,e.href}function h(){var a=0;return function(){function b(){return(\"0000\"+(Math.random()*Math.pow(36,4)<<0).toString(36)).slice(-4)}return\"u\"+b()+a++}}function i(a){return new Promise(function(b,c){var d=new Image;d.onload=function(){b(d)},d.onerror=c,d.src=a})}function j(a){var b=3e4;return v.impl.options.cacheBust&&(a+=(/\\?/.test(a)?\"&\":\"?\")+(new Date).getTime()),new Promise(function(c){function d(){if(4===g.readyState){if(200!==g.status)return void(h?c(h):f(\"cannot fetch resource: \"+a+\", status: \"+g.status));var b=new FileReader;b.onloadend=function(){var a=b.result.split(/,/)[1];c(a)},b.readAsDataURL(g.response)}}function e(){h?c(h):f(\"timeout of \"+b+\"ms occured while fetching resource: \"+a)}function f(a){console.error(a),c(\"\")}var g=new XMLHttpRequest;g.onreadystatechange=d,g.ontimeout=e,g.responseType=\"blob\",g.timeout=b,g.open(\"GET\",a,!0),g.send();var h;if(v.impl.options.imagePlaceholder){var i=v.impl.options.imagePlaceholder.split(/,/);i&&i[1]&&(h=i[1])}})}function k(a,b){return\"data:\"+b+\";base64,\"+a}function l(a){return a.replace(/([.*+?^${}()|\\[\\]\\/\\\\])/g,\"\\\\$1\")}function m(a){return function(b){return new Promise(function(c){setTimeout(function(){c(b)},a)})}}function n(a){for(var b=[],c=a.length,d=0;d<c;d++)b.push(a[d]);return b}function o(a){return a.replace(/#/g,\"%23\").replace(/\\n/g,\"%0A\")}function p(a){var b=r(a,\"border-left-width\"),c=r(a,\"border-right-width\");return a.scrollWidth+b+c}function q(a){var b=r(a,\"border-top-width\"),c=r(a,\"border-bottom-width\");return a.scrollHeight+b+c}function r(a,b){var c=window.getComputedStyle(a).getPropertyValue(b);return parseFloat(c.replace(\"px\",\"\"))}return{escape:l,parseExtension:b,mimeType:c,dataAsUrl:k,isDataUrl:d,canvasToBlob:f,resolveUrl:g,getAndEncode:j,uid:h(),delay:m,asArray:n,escapeXhtml:o,makeImage:i,width:p,height:q}}function n(){function a(a){return a.search(e)!==-1}function b(a){for(var b,c=[];null!==(b=e.exec(a));)c.push(b[1]);return c.filter(function(a){return!q.isDataUrl(a)})}function c(a,b,c,d){function e(a){return new RegExp(\"(url\\\\(['\\\"]?)(\"+q.escape(a)+\")(['\\\"]?\\\\))\",\"g\")}return Promise.resolve(b).then(function(a){return c?q.resolveUrl(a,c):a}).then(d||q.getAndEncode).then(function(a){return q.dataAsUrl(a,q.mimeType(b))}).then(function(c){return a.replace(e(b),\"$1\"+c+\"$3\")})}function d(d,e,f){function g(){return!a(d)}return g()?Promise.resolve(d):Promise.resolve(d).then(b).then(function(a){var b=Promise.resolve(d);return a.forEach(function(a){b=b.then(function(b){return c(b,a,e,f)})}),b})}var e=/url\\(['\"]?([^'\"]+?)['\"]?\\)/g;return{inlineAll:d,shouldProcess:a,impl:{readUrls:b,inline:c}}}function o(){function a(){return b(document).then(function(a){return Promise.all(a.map(function(a){return a.resolve()}))}).then(function(a){return a.join(\"\\n\")})}function b(){function a(a){return a.filter(function(a){return a.type===CSSRule.FONT_FACE_RULE}).filter(function(a){return r.shouldProcess(a.style.getPropertyValue(\"src\"))})}function b(a){var b=[];return a.forEach(function(a){try{q.asArray(a.cssRules||[]).forEach(b.push.bind(b))}catch(c){console.log(\"Error while reading CSS rules from \"+a.href,c.toString())}}),b}function c(a){return{resolve:function(){var b=(a.parentStyleSheet||{}).href;return r.inlineAll(a.cssText,b)},src:function(){return a.style.getPropertyValue(\"src\")}}}return Promise.resolve(q.asArray(document.styleSheets)).then(b).then(a).then(function(a){return a.map(c)})}return{resolveAll:a,impl:{readAll:b}}}function p(){function a(a){function b(b){return q.isDataUrl(a.src)?Promise.resolve():Promise.resolve(a.src).then(b||q.getAndEncode).then(function(b){return q.dataAsUrl(b,q.mimeType(a.src))}).then(function(b){return new Promise(function(c,d){a.onload=c,a.onerror=d,a.src=b})})}return{inline:b}}function b(c){function d(a){var b=a.style.getPropertyValue(\"background\");return b?r.inlineAll(b).then(function(b){a.style.setProperty(\"background\",b,a.style.getPropertyPriority(\"background\"))}).then(function(){return a}):Promise.resolve(a)}return c instanceof Element?d(c).then(function(){return c instanceof HTMLImageElement?a(c).inline():Promise.all(q.asArray(c.childNodes).map(function(a){return b(a)}))}):Promise.resolve(c)}return{inlineAll:b,impl:{newImage:a}}}var q=m(),r=n(),s=o(),t=p(),u={imagePlaceholder:void 0,cacheBust:!1},v={toSvg:b,toPng:d,toJpeg:e,toBlob:f,toPixelData:c,impl:{fontFaces:s,images:t,util:q,inliner:r,options:{}}};\"undefined\"!=typeof module?module.exports=v:a.domtoimage=v}(this); </script>\n",
       "<script>\n",
       " require.config({\n",
       "   paths: {\n",
       "     'plotly': \"https://cdn.plot.ly/plotly-latest.min\",\n",
       "     'macy': \"https://cdn.jsdelivr.net/npm/macy@2.5.1/dist/macy.min\"\n",
       "   },\n",
       " })\n",
       "require( ['plotly', 'macy'], function(Plotly, Macy) {\n",
       " window.Plotly = Plotly;\n",
       " window.Macy = Macy;\n",
       "})\n",
       "</script>\n"
      ]
     },
     "metadata": {},
     "output_type": "display_data"
    },
    {
     "data": {
      "text/plain": [
       "\u001b[32mimport \u001b[39m\u001b[36morg.carbonateresearch.picta.render.Html.initNotebook // required to initialize jupyter notebook mode\n",
       "\u001b[39m"
      ]
     },
     "execution_count": 3,
     "metadata": {},
     "output_type": "execute_result"
    }
   ],
   "source": [
    "import org.carbonateresearch.picta.render.Html.initNotebook // required to initialize jupyter notebook mode\n",
    "initNotebook() // stops ugly output"
   ]
  },
  {
   "cell_type": "markdown",
   "metadata": {},
   "source": [
    "# 1. Basics\n",
    "\n",
    "The aim of the Picta library is to be a highly configurable and composable charting library for data exploration. The library takes a grammatical approach to chart construction. \n",
    "\n",
    "The following examples are aimed at demonstrating the libraries capabilities, and eventually make constructing charts using this library easy and intuitive."
   ]
  },
  {
   "cell_type": "markdown",
   "metadata": {},
   "source": [
    "### Main Components\n",
    "\n",
    "Picta graphs are constructed in a modular manner. The main components are:\n",
    "\n",
    "1. `Canvas`: This is is the top-level component for representing the display. A `Canvas` may consist of multiple charts.\n",
    "\n",
    "\n",
    "2. `Chart`: This is the component that corresponds to an actual chart (i.e. scatter, pie etc).\n",
    "\n",
    "\n",
    "3. `Series`: This is the data series that is plotted on a `Chart`. `Series` come in 3 types:\n",
    "\n",
    "    - `XY`:   This is series data for constructing a 2D chart\n",
    "    - `XYZ`:  This is series data for constructing a 3D chart\n",
    "    - `Map`:  This is series data that constructs a Map chart\n",
    "    \n",
    "\n",
    "4. `ChartLayout`: This configures various parts of how the `Chart` is represented on screen.\n",
    "\n",
    "`Chart` may occassionally also make use of the `Config` component for further configuration. `Config` specifies whether the plot is responsive.\n",
    "\n",
    "The following examples in this notebook should provide a number of interactive examples to get used to the Picta library."
   ]
  },
  {
   "cell_type": "markdown",
   "metadata": {},
   "source": [
    "### Importing the Library\n",
    "\n",
    "Importing as below should bring in the most frequently used Components in the library."
   ]
  },
  {
   "cell_type": "code",
   "execution_count": 4,
   "metadata": {},
   "outputs": [],
   "source": [
    "import org.carbonateresearch.picta._"
   ]
  },
  {
   "cell_type": "markdown",
   "metadata": {},
   "source": [
    "### Create Some Dummy Data to Use in the Examples\n",
    "\n",
    "Here we create some dummy data to be used in the examples for this notebook."
   ]
  },
  {
   "cell_type": "code",
   "execution_count": 5,
   "metadata": {},
   "outputs": [],
   "source": [
    "val x = List.range(0, 100).map(x => scala.util.Random.nextDouble() * 50)\n",
    "val y = List.range(0, 100).map(x => scala.util.Random.nextDouble() * 50)\n",
    "val z = List.range(0, 100).map(x => scala.util.Random.nextDouble() * 50)"
   ]
  },
  {
   "cell_type": "markdown",
   "metadata": {},
   "source": [
    "### 2D Plots\n",
    "\n",
    "`Series` that represent 2D data are represented by `XY` series types.\n",
    "\n",
    "\n",
    "#### Scatter Plot\n",
    "\n",
    "An example `Scatter` plot is below. \n",
    "\n",
    "Note: This is just one way to call the library functions. Another way that uses function chaining will be shown immediately after this example."
   ]
  },
  {
   "cell_type": "code",
   "execution_count": 6,
   "metadata": {},
   "outputs": [
    {
     "data": {
      "text/html": [
       "<div id=\"grid-container_tCdvk3r0dd\" class=\"grid-container\" align=\"center\"> \n",
       "<div id=\"grid_tCdvk3r0dd\" class=\"grid\" align=\"center\"> \n",
       "<div id=\"graph_LDWEtlL4Pt\" class=\"graph\"></div> \n",
       "</div> \n",
       "</div> \n",
       "<script>\n",
       "var masonry = new Macy({\n",
       "    container: '#grid_tCdvk3r0dd',\n",
       "    debug: true,\n",
       "    mobileFirst: true,\n",
       "    columns: 1,\n",
       "    margin: {\n",
       "        x: 0,\n",
       "        y: 0\n",
       "    }\n",
       "  });\n",
       "\n",
       " var traces_LDWEtlL4Pt = [{\"name\":\"JTEKG4hKjJ\",\"type\":\"scatter\",\"mode\":\"markers\",\"x\":[14.804982353630669,45.64434565815959,10.841370178315879,0.19267819250204932,10.782504896438978,23.854940267695255,39.85734075445366,46.86184540966636,35.34174441294161,27.324443564320582,18.75884491786203,32.23077223758043,46.38770097778787,8.59462802058486,1.1049007284086754,30.26342845653094,26.64917243258603,0.5265828060113831,6.175241814834415,8.972706580212503,24.912690688579573,26.62693712673215,35.23775662500333,5.018308547825578,6.27617561972359,48.897595536918885,37.964939698558354,45.42058583222,16.39818309863716,13.958797213296597,27.261373352419742,34.684082963172585,12.61902845153049,12.73633157696078,42.57091476747345,40.321816138467256,33.042982717247014,6.357261945350517,8.851389352344368,32.28108390103101,13.19606153683457,41.064516670743735,30.836228905644802,12.093866973841877,18.711904122956952,27.939228056954136,49.946652932343966,5.709637461301758,41.6485566583619,49.01071834186069,24.274610908043776,39.915672686956974,7.501908556188308,19.937538014118374,20.42586130312241,26.009731355934505,9.756903958307872,40.858984500206844,29.694183035941663,35.962208446940345,28.90554139213294,1.2450449710125377,40.03188687263072,25.689656644414555,3.2610742008036597,21.613719400700614,9.588399666127506,37.258832060353086,49.61070861947698,14.838192044948284,47.20785318352524,46.85017482116911,32.77447636744879,32.43235503253759,10.208263493809595,18.131921471725633,4.4758813007060025,26.68166631757441,30.008996989701565,21.330782629822647,23.58026432282278,7.77738514506709,21.72987450451189,36.7324087279794,31.71977172746894,6.215700076910602,24.75442244429581,27.604635244566627,40.59914976763046,14.639318126774025,7.431382762760391,41.60873239711248,39.86454379719439,30.02757262960314,0.5827723464805701,31.64869088034746,7.317784843864805,46.68212376656536,1.2933991152835278,26.805807358772366],\"y\":[46.471638949868534,12.808879610095087,10.575890009421807,31.515628903970267,39.966783158042055,8.662714840153823,35.93693150376042,36.46654699561018,41.209255976781314,32.20013689966827,2.614546988143024,37.83412723209321,30.73743550884112,38.97605233431189,25.312908807950684,32.41251621394283,38.29056492256325,26.624263357778695,45.630280054811394,34.96402761888105,26.326179026918382,30.677413389143915,39.0573587966525,0.6802730468882967,45.82170568577724,7.7105292226810676,39.41741675801174,30.032992128157026,10.595898737500764,23.833403693097733,17.92628385340019,35.48996124975222,42.098645206394444,41.41051699146767,38.669334816167996,9.581175295002536,12.643098274315246,4.553256018566665,42.22432824896718,1.6227112683019962,11.391943472889448,14.407661892478396,34.40303505420719,36.04049701772112,24.06003328409005,8.552002220738947,27.641272059417982,38.683427263396695,4.258501119696668,14.921932543781308,48.43607946661908,28.775076820432165,21.68083866225009,39.59705852490023,35.410425757736355,33.22550080880277,49.91934890604718,19.51121779309361,9.079960332432279,36.90937839189496,4.6007375711064835,25.689800621504265,46.20298851745061,47.21403676877342,10.742532102889191,39.97097847019702,38.71396053342785,23.67064478486707,16.75737716473691,48.33368292284973,9.672431962825312,3.804133089808687,31.37016833283383,46.933729674688614,46.403573608814256,44.472174299184736,38.86336742345659,42.740474402858865,44.06296681610462,43.91079591535484,47.52872853706828,49.26991419276615,31.22753810974927,13.464005139411356,45.979072119896024,29.32616053091844,22.79616199948647,29.547029150156845,32.06160732071988,20.891727077953533,14.477555159461819,15.777566693351341,39.51472496682409,49.34808483886602,47.449776995073975,32.40669590177091,18.22304836936148,29.06146428292338,31.394746390062465,35.190869620094624]}];\n",
       " var layout_LDWEtlL4Pt = {\"height\":550,\"width\":600,\"hovermode\":\"closest\",\"legend\":{\"orientation\":\"v\"},\"title\":{\"text\":\"First Chart\"},\"showlegend\":true};\n",
       " var config_LDWEtlL4Pt = {\"responsive\":true,\"scrollZoom\":true,\"displaylogo\":false};\n",
       " Plotly.newPlot(\"graph_LDWEtlL4Pt\", traces_LDWEtlL4Pt, layout_LDWEtlL4Pt, config_LDWEtlL4Pt);\n",
       "</script> \n"
      ]
     },
     "metadata": {},
     "output_type": "display_data"
    }
   ],
   "source": [
    "// create the data series using the data from above\n",
    "// 'asType SCATTER' transforms the series into a scatter chart\n",
    "// 'drawStyle Markers' specifies the style of the markers the chart should have\n",
    "// if a name is not provided to the series, Picta generates a random name to help keep track of the series in charts\n",
    "// multiple series.\n",
    "val series = XY(x, y) asType SCATTER drawStyle MARKERS\n",
    "\n",
    "// create a chart by adding to it a data series. We set the title as 'First Chart'\n",
    "val chart = Chart() addSeries series setTitle \"First Chart\"\n",
    "\n",
    "// if we have a single chart, then we do not need to use the Canvas and can simply call chart.plot\n",
    "\n",
    "chart.plotInline"
   ]
  },
  {
   "cell_type": "markdown",
   "metadata": {},
   "source": [
    "#### Chaining Functions\n",
    "\n",
    "Sometimes when we are specifying many options, it is quicker to use the IDE autocomplete and just chain the function calls. Throughout this book both the style above and the function chaining style will be used as and when convenient."
   ]
  },
  {
   "cell_type": "code",
   "execution_count": 7,
   "metadata": {},
   "outputs": [
    {
     "data": {
      "text/html": [
       "<div id=\"grid-container_svVE3Q72uu\" class=\"grid-container\" align=\"center\"> \n",
       "<div id=\"grid_svVE3Q72uu\" class=\"grid\" align=\"center\"> \n",
       "<div id=\"graph_yP43UcQi1S\" class=\"graph\"></div> \n",
       "</div> \n",
       "</div> \n",
       "<script>\n",
       "var masonry = new Macy({\n",
       "    container: '#grid_svVE3Q72uu',\n",
       "    debug: true,\n",
       "    mobileFirst: true,\n",
       "    columns: 1,\n",
       "    margin: {\n",
       "        x: 0,\n",
       "        y: 0\n",
       "    }\n",
       "  });\n",
       "\n",
       " var traces_yP43UcQi1S = [{\"name\":\"UAwnhgdued\",\"type\":\"scatter\",\"mode\":\"markers\",\"x\":[14.804982353630669,45.64434565815959,10.841370178315879,0.19267819250204932,10.782504896438978,23.854940267695255,39.85734075445366,46.86184540966636,35.34174441294161,27.324443564320582,18.75884491786203,32.23077223758043,46.38770097778787,8.59462802058486,1.1049007284086754,30.26342845653094,26.64917243258603,0.5265828060113831,6.175241814834415,8.972706580212503,24.912690688579573,26.62693712673215,35.23775662500333,5.018308547825578,6.27617561972359,48.897595536918885,37.964939698558354,45.42058583222,16.39818309863716,13.958797213296597,27.261373352419742,34.684082963172585,12.61902845153049,12.73633157696078,42.57091476747345,40.321816138467256,33.042982717247014,6.357261945350517,8.851389352344368,32.28108390103101,13.19606153683457,41.064516670743735,30.836228905644802,12.093866973841877,18.711904122956952,27.939228056954136,49.946652932343966,5.709637461301758,41.6485566583619,49.01071834186069,24.274610908043776,39.915672686956974,7.501908556188308,19.937538014118374,20.42586130312241,26.009731355934505,9.756903958307872,40.858984500206844,29.694183035941663,35.962208446940345,28.90554139213294,1.2450449710125377,40.03188687263072,25.689656644414555,3.2610742008036597,21.613719400700614,9.588399666127506,37.258832060353086,49.61070861947698,14.838192044948284,47.20785318352524,46.85017482116911,32.77447636744879,32.43235503253759,10.208263493809595,18.131921471725633,4.4758813007060025,26.68166631757441,30.008996989701565,21.330782629822647,23.58026432282278,7.77738514506709,21.72987450451189,36.7324087279794,31.71977172746894,6.215700076910602,24.75442244429581,27.604635244566627,40.59914976763046,14.639318126774025,7.431382762760391,41.60873239711248,39.86454379719439,30.02757262960314,0.5827723464805701,31.64869088034746,7.317784843864805,46.68212376656536,1.2933991152835278,26.805807358772366],\"y\":[46.471638949868534,12.808879610095087,10.575890009421807,31.515628903970267,39.966783158042055,8.662714840153823,35.93693150376042,36.46654699561018,41.209255976781314,32.20013689966827,2.614546988143024,37.83412723209321,30.73743550884112,38.97605233431189,25.312908807950684,32.41251621394283,38.29056492256325,26.624263357778695,45.630280054811394,34.96402761888105,26.326179026918382,30.677413389143915,39.0573587966525,0.6802730468882967,45.82170568577724,7.7105292226810676,39.41741675801174,30.032992128157026,10.595898737500764,23.833403693097733,17.92628385340019,35.48996124975222,42.098645206394444,41.41051699146767,38.669334816167996,9.581175295002536,12.643098274315246,4.553256018566665,42.22432824896718,1.6227112683019962,11.391943472889448,14.407661892478396,34.40303505420719,36.04049701772112,24.06003328409005,8.552002220738947,27.641272059417982,38.683427263396695,4.258501119696668,14.921932543781308,48.43607946661908,28.775076820432165,21.68083866225009,39.59705852490023,35.410425757736355,33.22550080880277,49.91934890604718,19.51121779309361,9.079960332432279,36.90937839189496,4.6007375711064835,25.689800621504265,46.20298851745061,47.21403676877342,10.742532102889191,39.97097847019702,38.71396053342785,23.67064478486707,16.75737716473691,48.33368292284973,9.672431962825312,3.804133089808687,31.37016833283383,46.933729674688614,46.403573608814256,44.472174299184736,38.86336742345659,42.740474402858865,44.06296681610462,43.91079591535484,47.52872853706828,49.26991419276615,31.22753810974927,13.464005139411356,45.979072119896024,29.32616053091844,22.79616199948647,29.547029150156845,32.06160732071988,20.891727077953533,14.477555159461819,15.777566693351341,39.51472496682409,49.34808483886602,47.449776995073975,32.40669590177091,18.22304836936148,29.06146428292338,31.394746390062465,35.190869620094624]}];\n",
       " var layout_yP43UcQi1S = {\"height\":550,\"width\":600,\"hovermode\":\"closest\",\"legend\":{\"orientation\":\"v\"},\"title\":{\"text\":\"First Chart - Function Chaining\"},\"showlegend\":true,\"xaxis\":{\"showgrid\":true,\"zeroline\":false,\"showline\":false},\"yaxis\":{\"showgrid\":true,\"zeroline\":false,\"showline\":false}};\n",
       " var config_yP43UcQi1S = {\"responsive\":true,\"scrollZoom\":true,\"displaylogo\":false};\n",
       " Plotly.newPlot(\"graph_yP43UcQi1S\", traces_yP43UcQi1S, layout_yP43UcQi1S, config_yP43UcQi1S);\n",
       "</script> \n"
      ]
     },
     "metadata": {},
     "output_type": "display_data"
    }
   ],
   "source": [
    "// sometimes we may specify many options. In such cases it is clearer to use function chaining as below:\n",
    "val series = XY(x, y)\n",
    "            .asType(SCATTER)\n",
    "            .drawMarkers  // This is to help leverage the IDE autocompletion for quick scripting\n",
    "\n",
    "val chart = Chart()\n",
    "            .addSeries(series)\n",
    "            .setTitle(\"First Chart - Function Chaining\")\n",
    "            // by specifying axes we can get rid of the zerolines\n",
    "            .addAxes(XAxis(zeroline = false), YAxis(zeroline = false)) \n",
    "\n",
    "chart.plotInline"
   ]
  },
  {
   "cell_type": "markdown",
   "metadata": {},
   "source": [
    "#### Bar Chart\n",
    "\n",
    "Now using the same principles as above, let's create a `Bar` chart:"
   ]
  },
  {
   "cell_type": "code",
   "execution_count": 8,
   "metadata": {},
   "outputs": [
    {
     "data": {
      "text/html": [
       "<div id=\"grid-container_aAfelS5Khq\" class=\"grid-container\" align=\"center\"> \n",
       "<div id=\"grid_aAfelS5Khq\" class=\"grid\" align=\"center\"> \n",
       "<div id=\"graph_vmvvOI5xXl\" class=\"graph\"></div> \n",
       "</div> \n",
       "</div> \n",
       "<script>\n",
       "var masonry = new Macy({\n",
       "    container: '#grid_aAfelS5Khq',\n",
       "    debug: true,\n",
       "    mobileFirst: true,\n",
       "    columns: 1,\n",
       "    margin: {\n",
       "        x: 0,\n",
       "        y: 0\n",
       "    }\n",
       "  });\n",
       "\n",
       " var traces_vmvvOI5xXl = [{\"name\":\"fB5nRKnZWw\",\"type\":\"bar\",\"x\":[\"a\",\"b\",\"c\"],\"y\":[10,20,300]}];\n",
       " var layout_vmvvOI5xXl = {\"height\":550,\"width\":600,\"hovermode\":\"closest\",\"legend\":{\"orientation\":\"v\"},\"title\":{\"text\":\"Bar Chart\"},\"showlegend\":true};\n",
       " var config_vmvvOI5xXl = {\"responsive\":false,\"scrollZoom\":false,\"displaylogo\":false};\n",
       " Plotly.newPlot(\"graph_vmvvOI5xXl\", traces_vmvvOI5xXl, layout_vmvvOI5xXl, config_vmvvOI5xXl);\n",
       "</script> \n"
      ]
     },
     "metadata": {},
     "output_type": "display_data"
    }
   ],
   "source": [
    "// First we create some data for the piechart\n",
    "val x_bar = List(\"a\", \"b\", \"c\")\n",
    "val y_bar = List(10, 20, 300)\n",
    "\n",
    "// again feed in the data that we want to represent as a Bar chart.\n",
    "// Notice how we change 'asType SCATTER' to 'asType BAR'\n",
    "val series = XY(x_bar, y_bar) asType BAR\n",
    "\n",
    "// we can turn off the scrollzoom using setConfig\n",
    "val chart = Chart() addSeries series setTitle \"Bar Chart\" setConfig(false, false)\n",
    "\n",
    "chart.plotInline"
   ]
  },
  {
   "cell_type": "markdown",
   "metadata": {},
   "source": [
    "#### Adding Multiple Series on the Same Axis\n",
    "\n",
    "Sometimes we may want to plot multiple `Series` on the same axis to compare different data series.\n",
    "\n",
    "Let's plot both of the above on the same pair of axis:"
   ]
  },
  {
   "cell_type": "code",
   "execution_count": 9,
   "metadata": {},
   "outputs": [],
   "source": [
    "// we import the marker option which lets us specify the marker\n",
    "import org.carbonateresearch.picta.options.Marker\n",
    "import org.carbonateresearch.picta.SymbolShape._"
   ]
  },
  {
   "cell_type": "code",
   "execution_count": 10,
   "metadata": {},
   "outputs": [
    {
     "data": {
      "text/html": [
       "<div id=\"grid-container_LthtgpqEgg\" class=\"grid-container\" align=\"center\"> \n",
       "<div id=\"grid_LthtgpqEgg\" class=\"grid\" align=\"center\"> \n",
       "<div id=\"graph_D4pmYNGaB9\" class=\"graph\"></div> \n",
       "</div> \n",
       "</div> \n",
       "<script>\n",
       "var masonry = new Macy({\n",
       "    container: '#grid_LthtgpqEgg',\n",
       "    debug: true,\n",
       "    mobileFirst: true,\n",
       "    columns: 1,\n",
       "    margin: {\n",
       "        x: 0,\n",
       "        y: 0\n",
       "    }\n",
       "  });\n",
       "\n",
       " var traces_D4pmYNGaB9 = [{\"name\":\"Bar\",\"type\":\"bar\",\"x\":[14.804982353630669,45.64434565815959,10.841370178315879,0.19267819250204932,10.782504896438978,23.854940267695255,39.85734075445366,46.86184540966636,35.34174441294161,27.324443564320582,18.75884491786203,32.23077223758043,46.38770097778787,8.59462802058486,1.1049007284086754,30.26342845653094,26.64917243258603,0.5265828060113831,6.175241814834415,8.972706580212503,24.912690688579573,26.62693712673215,35.23775662500333,5.018308547825578,6.27617561972359,48.897595536918885,37.964939698558354,45.42058583222,16.39818309863716,13.958797213296597,27.261373352419742,34.684082963172585,12.61902845153049,12.73633157696078,42.57091476747345,40.321816138467256,33.042982717247014,6.357261945350517,8.851389352344368,32.28108390103101,13.19606153683457,41.064516670743735,30.836228905644802,12.093866973841877,18.711904122956952,27.939228056954136,49.946652932343966,5.709637461301758,41.6485566583619,49.01071834186069,24.274610908043776,39.915672686956974,7.501908556188308,19.937538014118374,20.42586130312241,26.009731355934505,9.756903958307872,40.858984500206844,29.694183035941663,35.962208446940345,28.90554139213294,1.2450449710125377,40.03188687263072,25.689656644414555,3.2610742008036597,21.613719400700614,9.588399666127506,37.258832060353086,49.61070861947698,14.838192044948284,47.20785318352524,46.85017482116911,32.77447636744879,32.43235503253759,10.208263493809595,18.131921471725633,4.4758813007060025,26.68166631757441,30.008996989701565,21.330782629822647,23.58026432282278,7.77738514506709,21.72987450451189,36.7324087279794,31.71977172746894,6.215700076910602,24.75442244429581,27.604635244566627,40.59914976763046,14.639318126774025,7.431382762760391,41.60873239711248,39.86454379719439,30.02757262960314,0.5827723464805701,31.64869088034746,7.317784843864805,46.68212376656536,1.2933991152835278,26.805807358772366],\"y\":[46.471638949868534,12.808879610095087,10.575890009421807,31.515628903970267,39.966783158042055,8.662714840153823,35.93693150376042,36.46654699561018,41.209255976781314,32.20013689966827,2.614546988143024,37.83412723209321,30.73743550884112,38.97605233431189,25.312908807950684,32.41251621394283,38.29056492256325,26.624263357778695,45.630280054811394,34.96402761888105,26.326179026918382,30.677413389143915,39.0573587966525,0.6802730468882967,45.82170568577724,7.7105292226810676,39.41741675801174,30.032992128157026,10.595898737500764,23.833403693097733,17.92628385340019,35.48996124975222,42.098645206394444,41.41051699146767,38.669334816167996,9.581175295002536,12.643098274315246,4.553256018566665,42.22432824896718,1.6227112683019962,11.391943472889448,14.407661892478396,34.40303505420719,36.04049701772112,24.06003328409005,8.552002220738947,27.641272059417982,38.683427263396695,4.258501119696668,14.921932543781308,48.43607946661908,28.775076820432165,21.68083866225009,39.59705852490023,35.410425757736355,33.22550080880277,49.91934890604718,19.51121779309361,9.079960332432279,36.90937839189496,4.6007375711064835,25.689800621504265,46.20298851745061,47.21403676877342,10.742532102889191,39.97097847019702,38.71396053342785,23.67064478486707,16.75737716473691,48.33368292284973,9.672431962825312,3.804133089808687,31.37016833283383,46.933729674688614,46.403573608814256,44.472174299184736,38.86336742345659,42.740474402858865,44.06296681610462,43.91079591535484,47.52872853706828,49.26991419276615,31.22753810974927,13.464005139411356,45.979072119896024,29.32616053091844,22.79616199948647,29.547029150156845,32.06160732071988,20.891727077953533,14.477555159461819,15.777566693351341,39.51472496682409,49.34808483886602,47.449776995073975,32.40669590177091,18.22304836936148,29.06146428292338,31.394746390062465,35.190869620094624]},{\"name\":\"Scatter\",\"type\":\"scatter\",\"mode\":\"markers\",\"marker\":{\"symbol\":\"square-open\",\"color\":\"red\"},\"x\":[14.804982353630669,45.64434565815959,10.841370178315879,0.19267819250204932,10.782504896438978,23.854940267695255,39.85734075445366,46.86184540966636,35.34174441294161,27.324443564320582,18.75884491786203,32.23077223758043,46.38770097778787,8.59462802058486,1.1049007284086754,30.26342845653094,26.64917243258603,0.5265828060113831,6.175241814834415,8.972706580212503,24.912690688579573,26.62693712673215,35.23775662500333,5.018308547825578,6.27617561972359,48.897595536918885,37.964939698558354,45.42058583222,16.39818309863716,13.958797213296597,27.261373352419742,34.684082963172585,12.61902845153049,12.73633157696078,42.57091476747345,40.321816138467256,33.042982717247014,6.357261945350517,8.851389352344368,32.28108390103101,13.19606153683457,41.064516670743735,30.836228905644802,12.093866973841877,18.711904122956952,27.939228056954136,49.946652932343966,5.709637461301758,41.6485566583619,49.01071834186069,24.274610908043776,39.915672686956974,7.501908556188308,19.937538014118374,20.42586130312241,26.009731355934505,9.756903958307872,40.858984500206844,29.694183035941663,35.962208446940345,28.90554139213294,1.2450449710125377,40.03188687263072,25.689656644414555,3.2610742008036597,21.613719400700614,9.588399666127506,37.258832060353086,49.61070861947698,14.838192044948284,47.20785318352524,46.85017482116911,32.77447636744879,32.43235503253759,10.208263493809595,18.131921471725633,4.4758813007060025,26.68166631757441,30.008996989701565,21.330782629822647,23.58026432282278,7.77738514506709,21.72987450451189,36.7324087279794,31.71977172746894,6.215700076910602,24.75442244429581,27.604635244566627,40.59914976763046,14.639318126774025,7.431382762760391,41.60873239711248,39.86454379719439,30.02757262960314,0.5827723464805701,31.64869088034746,7.317784843864805,46.68212376656536,1.2933991152835278,26.805807358772366],\"y\":[46.471638949868534,12.808879610095087,10.575890009421807,31.515628903970267,39.966783158042055,8.662714840153823,35.93693150376042,36.46654699561018,41.209255976781314,32.20013689966827,2.614546988143024,37.83412723209321,30.73743550884112,38.97605233431189,25.312908807950684,32.41251621394283,38.29056492256325,26.624263357778695,45.630280054811394,34.96402761888105,26.326179026918382,30.677413389143915,39.0573587966525,0.6802730468882967,45.82170568577724,7.7105292226810676,39.41741675801174,30.032992128157026,10.595898737500764,23.833403693097733,17.92628385340019,35.48996124975222,42.098645206394444,41.41051699146767,38.669334816167996,9.581175295002536,12.643098274315246,4.553256018566665,42.22432824896718,1.6227112683019962,11.391943472889448,14.407661892478396,34.40303505420719,36.04049701772112,24.06003328409005,8.552002220738947,27.641272059417982,38.683427263396695,4.258501119696668,14.921932543781308,48.43607946661908,28.775076820432165,21.68083866225009,39.59705852490023,35.410425757736355,33.22550080880277,49.91934890604718,19.51121779309361,9.079960332432279,36.90937839189496,4.6007375711064835,25.689800621504265,46.20298851745061,47.21403676877342,10.742532102889191,39.97097847019702,38.71396053342785,23.67064478486707,16.75737716473691,48.33368292284973,9.672431962825312,3.804133089808687,31.37016833283383,46.933729674688614,46.403573608814256,44.472174299184736,38.86336742345659,42.740474402858865,44.06296681610462,43.91079591535484,47.52872853706828,49.26991419276615,31.22753810974927,13.464005139411356,45.979072119896024,29.32616053091844,22.79616199948647,29.547029150156845,32.06160732071988,20.891727077953533,14.477555159461819,15.777566693351341,39.51472496682409,49.34808483886602,47.449776995073975,32.40669590177091,18.22304836936148,29.06146428292338,31.394746390062465,35.190869620094624]}];\n",
       " var layout_D4pmYNGaB9 = {\"height\":550,\"width\":600,\"hovermode\":\"closest\",\"legend\":{\"orientation\":\"v\"},\"showlegend\":true};\n",
       " var config_D4pmYNGaB9 = {\"responsive\":true,\"scrollZoom\":true,\"displaylogo\":false};\n",
       " Plotly.newPlot(\"graph_D4pmYNGaB9\", traces_D4pmYNGaB9, layout_D4pmYNGaB9, config_D4pmYNGaB9);\n",
       "</script> \n"
      ]
     },
     "metadata": {},
     "output_type": "display_data"
    }
   ],
   "source": [
    "// additional traces can simply be composed with an existing chart and added on\n",
    "val series1 = XY(x, y) asType BAR setName \"Bar\"\n",
    "\n",
    "// lets give the second series a red marker. Again we can 'compose' a marker using smaller components\n",
    "val marker = Marker() setSymbol SQUARE_OPEN setColor \"red\"\n",
    "\n",
    "val series2 = XY(x, y) asType SCATTER setName \"Scatter\" drawStyle MARKERS setMarker marker\n",
    "\n",
    "// we not put brackets in the 'addSeries' function to ensure that addSeries picks up the right series'\n",
    "val chart = Chart() addSeries(series1, series2)\n",
    "\n",
    "chart.plotInline"
   ]
  },
  {
   "cell_type": "markdown",
   "metadata": {},
   "source": [
    "### Lets Change The Appearance of The Markers\n",
    "\n",
    "We can control the appearance of the markers by setting the width"
   ]
  },
  {
   "cell_type": "code",
   "execution_count": 11,
   "metadata": {},
   "outputs": [
    {
     "data": {
      "text/html": [
       "<div id=\"grid-container_w99W9igUBl\" class=\"grid-container\" align=\"center\"> \n",
       "<div id=\"grid_w99W9igUBl\" class=\"grid\" align=\"center\"> \n",
       "<div id=\"graph_42B6I3lWYn\" class=\"graph\"></div> \n",
       "</div> \n",
       "</div> \n",
       "<script>\n",
       "var masonry = new Macy({\n",
       "    container: '#grid_w99W9igUBl',\n",
       "    debug: true,\n",
       "    mobileFirst: true,\n",
       "    columns: 1,\n",
       "    margin: {\n",
       "        x: 0,\n",
       "        y: 0\n",
       "    }\n",
       "  });\n",
       "\n",
       " var traces_42B6I3lWYn = [{\"name\":\"Bar\",\"type\":\"bar\",\"x\":[14.804982353630669,45.64434565815959,10.841370178315879,0.19267819250204932,10.782504896438978,23.854940267695255,39.85734075445366,46.86184540966636,35.34174441294161,27.324443564320582,18.75884491786203,32.23077223758043,46.38770097778787,8.59462802058486,1.1049007284086754,30.26342845653094,26.64917243258603,0.5265828060113831,6.175241814834415,8.972706580212503,24.912690688579573,26.62693712673215,35.23775662500333,5.018308547825578,6.27617561972359,48.897595536918885,37.964939698558354,45.42058583222,16.39818309863716,13.958797213296597,27.261373352419742,34.684082963172585,12.61902845153049,12.73633157696078,42.57091476747345,40.321816138467256,33.042982717247014,6.357261945350517,8.851389352344368,32.28108390103101,13.19606153683457,41.064516670743735,30.836228905644802,12.093866973841877,18.711904122956952,27.939228056954136,49.946652932343966,5.709637461301758,41.6485566583619,49.01071834186069,24.274610908043776,39.915672686956974,7.501908556188308,19.937538014118374,20.42586130312241,26.009731355934505,9.756903958307872,40.858984500206844,29.694183035941663,35.962208446940345,28.90554139213294,1.2450449710125377,40.03188687263072,25.689656644414555,3.2610742008036597,21.613719400700614,9.588399666127506,37.258832060353086,49.61070861947698,14.838192044948284,47.20785318352524,46.85017482116911,32.77447636744879,32.43235503253759,10.208263493809595,18.131921471725633,4.4758813007060025,26.68166631757441,30.008996989701565,21.330782629822647,23.58026432282278,7.77738514506709,21.72987450451189,36.7324087279794,31.71977172746894,6.215700076910602,24.75442244429581,27.604635244566627,40.59914976763046,14.639318126774025,7.431382762760391,41.60873239711248,39.86454379719439,30.02757262960314,0.5827723464805701,31.64869088034746,7.317784843864805,46.68212376656536,1.2933991152835278,26.805807358772366],\"y\":[46.471638949868534,12.808879610095087,10.575890009421807,31.515628903970267,39.966783158042055,8.662714840153823,35.93693150376042,36.46654699561018,41.209255976781314,32.20013689966827,2.614546988143024,37.83412723209321,30.73743550884112,38.97605233431189,25.312908807950684,32.41251621394283,38.29056492256325,26.624263357778695,45.630280054811394,34.96402761888105,26.326179026918382,30.677413389143915,39.0573587966525,0.6802730468882967,45.82170568577724,7.7105292226810676,39.41741675801174,30.032992128157026,10.595898737500764,23.833403693097733,17.92628385340019,35.48996124975222,42.098645206394444,41.41051699146767,38.669334816167996,9.581175295002536,12.643098274315246,4.553256018566665,42.22432824896718,1.6227112683019962,11.391943472889448,14.407661892478396,34.40303505420719,36.04049701772112,24.06003328409005,8.552002220738947,27.641272059417982,38.683427263396695,4.258501119696668,14.921932543781308,48.43607946661908,28.775076820432165,21.68083866225009,39.59705852490023,35.410425757736355,33.22550080880277,49.91934890604718,19.51121779309361,9.079960332432279,36.90937839189496,4.6007375711064835,25.689800621504265,46.20298851745061,47.21403676877342,10.742532102889191,39.97097847019702,38.71396053342785,23.67064478486707,16.75737716473691,48.33368292284973,9.672431962825312,3.804133089808687,31.37016833283383,46.933729674688614,46.403573608814256,44.472174299184736,38.86336742345659,42.740474402858865,44.06296681610462,43.91079591535484,47.52872853706828,49.26991419276615,31.22753810974927,13.464005139411356,45.979072119896024,29.32616053091844,22.79616199948647,29.547029150156845,32.06160732071988,20.891727077953533,14.477555159461819,15.777566693351341,39.51472496682409,49.34808483886602,47.449776995073975,32.40669590177091,18.22304836936148,29.06146428292338,31.394746390062465,35.190869620094624]},{\"name\":\"Scatter\",\"type\":\"scatter\",\"mode\":\"markers\",\"marker\":{\"symbol\":\"circle\",\"color\":\"red\",\"line\":{\"width\":2,\"color\":\"black\"},\"size\":[10,10,10,10,10,10,10,10,10,10,10,10,10,10,10,10,10,10,10,10,10,10,10,10,10,10,10,10,10,10,10,10,10,10,10,10,10,10,10,10,10,10,10,10,10,10,10,10,10,10,10,10,10,10,10,10,10,10,10,10,10,10,10,10,10,10,10,10,10,10,10,10,10,10,10,10,10,10,10,10,10,10,10,10,10,10,10,10,10,10,10,10,10,10,10,10,10,10,10,10]},\"x\":[14.804982353630669,45.64434565815959,10.841370178315879,0.19267819250204932,10.782504896438978,23.854940267695255,39.85734075445366,46.86184540966636,35.34174441294161,27.324443564320582,18.75884491786203,32.23077223758043,46.38770097778787,8.59462802058486,1.1049007284086754,30.26342845653094,26.64917243258603,0.5265828060113831,6.175241814834415,8.972706580212503,24.912690688579573,26.62693712673215,35.23775662500333,5.018308547825578,6.27617561972359,48.897595536918885,37.964939698558354,45.42058583222,16.39818309863716,13.958797213296597,27.261373352419742,34.684082963172585,12.61902845153049,12.73633157696078,42.57091476747345,40.321816138467256,33.042982717247014,6.357261945350517,8.851389352344368,32.28108390103101,13.19606153683457,41.064516670743735,30.836228905644802,12.093866973841877,18.711904122956952,27.939228056954136,49.946652932343966,5.709637461301758,41.6485566583619,49.01071834186069,24.274610908043776,39.915672686956974,7.501908556188308,19.937538014118374,20.42586130312241,26.009731355934505,9.756903958307872,40.858984500206844,29.694183035941663,35.962208446940345,28.90554139213294,1.2450449710125377,40.03188687263072,25.689656644414555,3.2610742008036597,21.613719400700614,9.588399666127506,37.258832060353086,49.61070861947698,14.838192044948284,47.20785318352524,46.85017482116911,32.77447636744879,32.43235503253759,10.208263493809595,18.131921471725633,4.4758813007060025,26.68166631757441,30.008996989701565,21.330782629822647,23.58026432282278,7.77738514506709,21.72987450451189,36.7324087279794,31.71977172746894,6.215700076910602,24.75442244429581,27.604635244566627,40.59914976763046,14.639318126774025,7.431382762760391,41.60873239711248,39.86454379719439,30.02757262960314,0.5827723464805701,31.64869088034746,7.317784843864805,46.68212376656536,1.2933991152835278,26.805807358772366],\"y\":[46.471638949868534,12.808879610095087,10.575890009421807,31.515628903970267,39.966783158042055,8.662714840153823,35.93693150376042,36.46654699561018,41.209255976781314,32.20013689966827,2.614546988143024,37.83412723209321,30.73743550884112,38.97605233431189,25.312908807950684,32.41251621394283,38.29056492256325,26.624263357778695,45.630280054811394,34.96402761888105,26.326179026918382,30.677413389143915,39.0573587966525,0.6802730468882967,45.82170568577724,7.7105292226810676,39.41741675801174,30.032992128157026,10.595898737500764,23.833403693097733,17.92628385340019,35.48996124975222,42.098645206394444,41.41051699146767,38.669334816167996,9.581175295002536,12.643098274315246,4.553256018566665,42.22432824896718,1.6227112683019962,11.391943472889448,14.407661892478396,34.40303505420719,36.04049701772112,24.06003328409005,8.552002220738947,27.641272059417982,38.683427263396695,4.258501119696668,14.921932543781308,48.43607946661908,28.775076820432165,21.68083866225009,39.59705852490023,35.410425757736355,33.22550080880277,49.91934890604718,19.51121779309361,9.079960332432279,36.90937839189496,4.6007375711064835,25.689800621504265,46.20298851745061,47.21403676877342,10.742532102889191,39.97097847019702,38.71396053342785,23.67064478486707,16.75737716473691,48.33368292284973,9.672431962825312,3.804133089808687,31.37016833283383,46.933729674688614,46.403573608814256,44.472174299184736,38.86336742345659,42.740474402858865,44.06296681610462,43.91079591535484,47.52872853706828,49.26991419276615,31.22753810974927,13.464005139411356,45.979072119896024,29.32616053091844,22.79616199948647,29.547029150156845,32.06160732071988,20.891727077953533,14.477555159461819,15.777566693351341,39.51472496682409,49.34808483886602,47.449776995073975,32.40669590177091,18.22304836936148,29.06146428292338,31.394746390062465,35.190869620094624]}];\n",
       " var layout_42B6I3lWYn = {\"height\":550,\"width\":600,\"hovermode\":\"closest\",\"legend\":{\"orientation\":\"v\"},\"showlegend\":true};\n",
       " var config_42B6I3lWYn = {\"responsive\":false,\"scrollZoom\":false,\"displaylogo\":false};\n",
       " Plotly.newPlot(\"graph_42B6I3lWYn\", traces_42B6I3lWYn, layout_42B6I3lWYn, config_42B6I3lWYn);\n",
       "</script> \n"
      ]
     },
     "metadata": {},
     "output_type": "display_data"
    }
   ],
   "source": [
    "// we can pass in the size of the markers\n",
    "val sizes = List.range(0, 100).map(x => 10)\n",
    "\n",
    "// additional traces can simply be composed with an existing chart and added on\n",
    "val series1 = XY(x, y) asType BAR setName \"Bar\"\n",
    "\n",
    "// lets give the second series a red marker. Again we can 'compose' a marker using smaller components\n",
    "val marker = (\n",
    "    Marker() \n",
    "    // sets the marker shape\n",
    "    setSymbol CIRCLE\n",
    "    // sets the fill to red\n",
    "    setColor \"red\" \n",
    "    // sets the outline to black, with width 2\n",
    "    setLine(width = 2, \"black\")\n",
    "    // set the size of the markers to 10 as per the list we created\n",
    "    setSize(sizes)\n",
    ") \n",
    "\n",
    "val series2 = XY(x, y) asType SCATTER setName \"Scatter\" drawStyle MARKERS setMarker marker\n",
    "\n",
    "// we not put brackets in the 'addSeries' function to ensure that addSeries picks up the right series'\n",
    "val chart = Chart() addSeries(series1, series2) setConfig(false, false)\n",
    "\n",
    "chart.plotInline"
   ]
  },
  {
   "cell_type": "markdown",
   "metadata": {},
   "source": [
    "### Adding Another Axes\n",
    "\n",
    "Sometimes we may wish to plot multiple series, but on two different Axes. We can do this as follows:"
   ]
  },
  {
   "cell_type": "code",
   "execution_count": 12,
   "metadata": {},
   "outputs": [
    {
     "data": {
      "text/html": [
       "<div id=\"grid-container_lZp1lDUp8V\" class=\"grid-container\" align=\"center\"> \n",
       "<div id=\"grid_lZp1lDUp8V\" class=\"grid\" align=\"center\"> \n",
       "<div id=\"graph_l5Isx3auCy\" class=\"graph\"></div> \n",
       "</div> \n",
       "</div> \n",
       "<script>\n",
       "var masonry = new Macy({\n",
       "    container: '#grid_lZp1lDUp8V',\n",
       "    debug: true,\n",
       "    mobileFirst: true,\n",
       "    columns: 1,\n",
       "    margin: {\n",
       "        x: 0,\n",
       "        y: 0\n",
       "    }\n",
       "  });\n",
       "\n",
       " var traces_l5Isx3auCy = [{\"name\":\"JBzFEXIUF8\",\"type\":\"scatter\",\"mode\":\"markers\",\"x\":[14.804982353630669,45.64434565815959,10.841370178315879,0.19267819250204932,10.782504896438978,23.854940267695255,39.85734075445366,46.86184540966636,35.34174441294161,27.324443564320582,18.75884491786203,32.23077223758043,46.38770097778787,8.59462802058486,1.1049007284086754,30.26342845653094,26.64917243258603,0.5265828060113831,6.175241814834415,8.972706580212503,24.912690688579573,26.62693712673215,35.23775662500333,5.018308547825578,6.27617561972359,48.897595536918885,37.964939698558354,45.42058583222,16.39818309863716,13.958797213296597,27.261373352419742,34.684082963172585,12.61902845153049,12.73633157696078,42.57091476747345,40.321816138467256,33.042982717247014,6.357261945350517,8.851389352344368,32.28108390103101,13.19606153683457,41.064516670743735,30.836228905644802,12.093866973841877,18.711904122956952,27.939228056954136,49.946652932343966,5.709637461301758,41.6485566583619,49.01071834186069,24.274610908043776,39.915672686956974,7.501908556188308,19.937538014118374,20.42586130312241,26.009731355934505,9.756903958307872,40.858984500206844,29.694183035941663,35.962208446940345,28.90554139213294,1.2450449710125377,40.03188687263072,25.689656644414555,3.2610742008036597,21.613719400700614,9.588399666127506,37.258832060353086,49.61070861947698,14.838192044948284,47.20785318352524,46.85017482116911,32.77447636744879,32.43235503253759,10.208263493809595,18.131921471725633,4.4758813007060025,26.68166631757441,30.008996989701565,21.330782629822647,23.58026432282278,7.77738514506709,21.72987450451189,36.7324087279794,31.71977172746894,6.215700076910602,24.75442244429581,27.604635244566627,40.59914976763046,14.639318126774025,7.431382762760391,41.60873239711248,39.86454379719439,30.02757262960314,0.5827723464805701,31.64869088034746,7.317784843864805,46.68212376656536,1.2933991152835278,26.805807358772366],\"y\":[46.471638949868534,12.808879610095087,10.575890009421807,31.515628903970267,39.966783158042055,8.662714840153823,35.93693150376042,36.46654699561018,41.209255976781314,32.20013689966827,2.614546988143024,37.83412723209321,30.73743550884112,38.97605233431189,25.312908807950684,32.41251621394283,38.29056492256325,26.624263357778695,45.630280054811394,34.96402761888105,26.326179026918382,30.677413389143915,39.0573587966525,0.6802730468882967,45.82170568577724,7.7105292226810676,39.41741675801174,30.032992128157026,10.595898737500764,23.833403693097733,17.92628385340019,35.48996124975222,42.098645206394444,41.41051699146767,38.669334816167996,9.581175295002536,12.643098274315246,4.553256018566665,42.22432824896718,1.6227112683019962,11.391943472889448,14.407661892478396,34.40303505420719,36.04049701772112,24.06003328409005,8.552002220738947,27.641272059417982,38.683427263396695,4.258501119696668,14.921932543781308,48.43607946661908,28.775076820432165,21.68083866225009,39.59705852490023,35.410425757736355,33.22550080880277,49.91934890604718,19.51121779309361,9.079960332432279,36.90937839189496,4.6007375711064835,25.689800621504265,46.20298851745061,47.21403676877342,10.742532102889191,39.97097847019702,38.71396053342785,23.67064478486707,16.75737716473691,48.33368292284973,9.672431962825312,3.804133089808687,31.37016833283383,46.933729674688614,46.403573608814256,44.472174299184736,38.86336742345659,42.740474402858865,44.06296681610462,43.91079591535484,47.52872853706828,49.26991419276615,31.22753810974927,13.464005139411356,45.979072119896024,29.32616053091844,22.79616199948647,29.547029150156845,32.06160732071988,20.891727077953533,14.477555159461819,15.777566693351341,39.51472496682409,49.34808483886602,47.449776995073975,32.40669590177091,18.22304836936148,29.06146428292338,31.394746390062465,35.190869620094624]},{\"name\":\"rf5UxCUq3M\",\"type\":\"scatter\",\"mode\":\"markers\",\"yaxis\":\"y2\",\"x\":[14.804982353630669,45.64434565815959,10.841370178315879,0.19267819250204932,10.782504896438978,23.854940267695255,39.85734075445366,46.86184540966636,35.34174441294161,27.324443564320582,18.75884491786203,32.23077223758043,46.38770097778787,8.59462802058486,1.1049007284086754,30.26342845653094,26.64917243258603,0.5265828060113831,6.175241814834415,8.972706580212503,24.912690688579573,26.62693712673215,35.23775662500333,5.018308547825578,6.27617561972359,48.897595536918885,37.964939698558354,45.42058583222,16.39818309863716,13.958797213296597,27.261373352419742,34.684082963172585,12.61902845153049,12.73633157696078,42.57091476747345,40.321816138467256,33.042982717247014,6.357261945350517,8.851389352344368,32.28108390103101,13.19606153683457,41.064516670743735,30.836228905644802,12.093866973841877,18.711904122956952,27.939228056954136,49.946652932343966,5.709637461301758,41.6485566583619,49.01071834186069,24.274610908043776,39.915672686956974,7.501908556188308,19.937538014118374,20.42586130312241,26.009731355934505,9.756903958307872,40.858984500206844,29.694183035941663,35.962208446940345,28.90554139213294,1.2450449710125377,40.03188687263072,25.689656644414555,3.2610742008036597,21.613719400700614,9.588399666127506,37.258832060353086,49.61070861947698,14.838192044948284,47.20785318352524,46.85017482116911,32.77447636744879,32.43235503253759,10.208263493809595,18.131921471725633,4.4758813007060025,26.68166631757441,30.008996989701565,21.330782629822647,23.58026432282278,7.77738514506709,21.72987450451189,36.7324087279794,31.71977172746894,6.215700076910602,24.75442244429581,27.604635244566627,40.59914976763046,14.639318126774025,7.431382762760391,41.60873239711248,39.86454379719439,30.02757262960314,0.5827723464805701,31.64869088034746,7.317784843864805,46.68212376656536,1.2933991152835278,26.805807358772366],\"y\":[24.950930027016216,40.034888200249604,19.042862491850915,8.668671181912158,2.772483365032108,30.805941593748305,25.60692227938266,29.440783280663567,19.066604906674335,47.060802597137105,32.04120763179245,23.498887392963795,43.90835195710839,16.53856085155719,1.930713216054003,47.90897381751451,32.963435870981996,34.715880177874894,27.997173610467396,1.2268080010712057,31.58045190317496,42.49057828109568,5.702633688696829,48.90806370942368,39.67590228571423,16.623691656800826,8.238004982759328,39.67290670676023,20.21990667926795,6.053139617709336,9.30314347582914,36.29456785408729,47.65593989601463,42.358087152769,17.516652096069475,39.603712473948235,26.425782165775374,30.63164691053228,49.037753508094376,47.63518525888805,13.92128879785931,37.810558360369136,23.039185198286617,12.790972023784054,6.647445296303911,39.11400939994195,18.039264493806122,38.652980903061156,43.1566146123008,9.659774661601006,25.78285934739012,44.65151064328204,42.401704098905604,7.55435936581107,33.35517517606627,21.180055850692586,31.556441639959687,36.79486150168043,3.518891670990759,49.94433807230904,23.063797802586993,3.173773796217411,7.884336764054739,24.343236825021485,26.698972722283376,34.04396495200172,47.45400898508836,22.50156579025723,28.77131331886811,23.279585380845763,20.326916856308603,11.209365814615097,37.23985060578778,36.05968754773949,16.904835143460627,42.46971264081317,28.48007032175279,14.204824051271691,38.81172294902745,45.61674588133294,38.71493888856258,11.712940440701958,48.919177989607206,17.03792972589804,20.71104639300042,11.869372944890543,16.364967101145268,16.419303996610175,34.24116579685608,31.84678391640241,22.25827894966994,43.129743486402226,7.027405690215044,8.06438485755861,38.88451849644454,38.870042349667095,41.40449955779448,25.74181286436097,37.65408253055009,43.03485348872485]}];\n",
       " var layout_l5Isx3auCy = {\"height\":550,\"width\":600,\"hovermode\":\"closest\",\"legend\":{\"orientation\":\"v\"},\"title\":{\"text\":\"Multiple Axes\"},\"showlegend\":true,\"xaxis\":{\"title\":{\"text\":\"X Axis\"},\"showgrid\":true,\"zeroline\":false,\"showline\":false},\"yaxis\":{\"title\":{\"text\":\"First Y Axis\"},\"showgrid\":true,\"zeroline\":false,\"showline\":false},\"yaxis2\":{\"title\":{\"text\":\"Second y axis\"},\"showgrid\":true,\"zeroline\":false,\"showline\":false,\"side\":\"right\",\"overlaying\":\"y\"}};\n",
       " var config_l5Isx3auCy = {\"responsive\":false,\"scrollZoom\":false,\"displaylogo\":false};\n",
       " Plotly.newPlot(\"graph_l5Isx3auCy\", traces_l5Isx3auCy, layout_l5Isx3auCy, config_l5Isx3auCy);\n",
       "</script> \n"
      ]
     },
     "metadata": {},
     "output_type": "display_data"
    }
   ],
   "source": [
    "val series1 = XY(x, y) asType SCATTER drawStyle MARKERS\n",
    "\n",
    "// The following maps the series onto the second Y axis.\n",
    "val series2 = (\n",
    "    XY(x, z) \n",
    "    asType SCATTER \n",
    "    drawStyle MARKERS \n",
    "    setAxis YAxis(2)\n",
    ")\n",
    "      \n",
    "val chart = (\n",
    "    Chart() \n",
    "    setTitle \"Multiple Axes\"\n",
    "    // the following makes the chart unresponsive\n",
    "    setConfig(false, false) \n",
    "    addSeries(series1, series2) \n",
    "    // the following tells the chart how t render the second Y Axis\n",
    "    addAxes YAxis(position = 2, title = \"Second y axis\", overlaying = YAxis(), side = RIGHT)\n",
    "    addAxes YAxis(1, \"First Y Axis\")\n",
    "    addAxes XAxis(title = \"X Axis\")\n",
    ") \n",
    "\n",
    "// this is just for illustration purposes, but we can also do the following\n",
    "val canvas = Canvas() setChart(0, 0, chart)\n",
    "\n",
    "canvas.plotInline"
   ]
  },
  {
   "cell_type": "markdown",
   "metadata": {},
   "source": [
    "### Customizing the Axes\n",
    "\n",
    "As can be seen from some of the examples above, the axes were not set. While for quick data exploration the above is acceptable, for presentation purposes we would want named axes.\n",
    "\n",
    "We can do this as follows:"
   ]
  },
  {
   "cell_type": "code",
   "execution_count": 13,
   "metadata": {},
   "outputs": [
    {
     "data": {
      "text/html": [
       "<div id=\"grid-container_G0RzYymWtu\" class=\"grid-container\" align=\"center\"> \n",
       "<div id=\"grid_G0RzYymWtu\" class=\"grid\" align=\"center\"> \n",
       "<div id=\"graph_Gq0DWBIHe6\" class=\"graph\"></div> \n",
       "</div> \n",
       "</div> \n",
       "<script>\n",
       "var masonry = new Macy({\n",
       "    container: '#grid_G0RzYymWtu',\n",
       "    debug: true,\n",
       "    mobileFirst: true,\n",
       "    columns: 1,\n",
       "    margin: {\n",
       "        x: 0,\n",
       "        y: 0\n",
       "    }\n",
       "  });\n",
       "\n",
       " var traces_Gq0DWBIHe6 = [{\"name\":\"JBzFEXIUF8\",\"type\":\"scatter\",\"mode\":\"markers\",\"x\":[14.804982353630669,45.64434565815959,10.841370178315879,0.19267819250204932,10.782504896438978,23.854940267695255,39.85734075445366,46.86184540966636,35.34174441294161,27.324443564320582,18.75884491786203,32.23077223758043,46.38770097778787,8.59462802058486,1.1049007284086754,30.26342845653094,26.64917243258603,0.5265828060113831,6.175241814834415,8.972706580212503,24.912690688579573,26.62693712673215,35.23775662500333,5.018308547825578,6.27617561972359,48.897595536918885,37.964939698558354,45.42058583222,16.39818309863716,13.958797213296597,27.261373352419742,34.684082963172585,12.61902845153049,12.73633157696078,42.57091476747345,40.321816138467256,33.042982717247014,6.357261945350517,8.851389352344368,32.28108390103101,13.19606153683457,41.064516670743735,30.836228905644802,12.093866973841877,18.711904122956952,27.939228056954136,49.946652932343966,5.709637461301758,41.6485566583619,49.01071834186069,24.274610908043776,39.915672686956974,7.501908556188308,19.937538014118374,20.42586130312241,26.009731355934505,9.756903958307872,40.858984500206844,29.694183035941663,35.962208446940345,28.90554139213294,1.2450449710125377,40.03188687263072,25.689656644414555,3.2610742008036597,21.613719400700614,9.588399666127506,37.258832060353086,49.61070861947698,14.838192044948284,47.20785318352524,46.85017482116911,32.77447636744879,32.43235503253759,10.208263493809595,18.131921471725633,4.4758813007060025,26.68166631757441,30.008996989701565,21.330782629822647,23.58026432282278,7.77738514506709,21.72987450451189,36.7324087279794,31.71977172746894,6.215700076910602,24.75442244429581,27.604635244566627,40.59914976763046,14.639318126774025,7.431382762760391,41.60873239711248,39.86454379719439,30.02757262960314,0.5827723464805701,31.64869088034746,7.317784843864805,46.68212376656536,1.2933991152835278,26.805807358772366],\"y\":[46.471638949868534,12.808879610095087,10.575890009421807,31.515628903970267,39.966783158042055,8.662714840153823,35.93693150376042,36.46654699561018,41.209255976781314,32.20013689966827,2.614546988143024,37.83412723209321,30.73743550884112,38.97605233431189,25.312908807950684,32.41251621394283,38.29056492256325,26.624263357778695,45.630280054811394,34.96402761888105,26.326179026918382,30.677413389143915,39.0573587966525,0.6802730468882967,45.82170568577724,7.7105292226810676,39.41741675801174,30.032992128157026,10.595898737500764,23.833403693097733,17.92628385340019,35.48996124975222,42.098645206394444,41.41051699146767,38.669334816167996,9.581175295002536,12.643098274315246,4.553256018566665,42.22432824896718,1.6227112683019962,11.391943472889448,14.407661892478396,34.40303505420719,36.04049701772112,24.06003328409005,8.552002220738947,27.641272059417982,38.683427263396695,4.258501119696668,14.921932543781308,48.43607946661908,28.775076820432165,21.68083866225009,39.59705852490023,35.410425757736355,33.22550080880277,49.91934890604718,19.51121779309361,9.079960332432279,36.90937839189496,4.6007375711064835,25.689800621504265,46.20298851745061,47.21403676877342,10.742532102889191,39.97097847019702,38.71396053342785,23.67064478486707,16.75737716473691,48.33368292284973,9.672431962825312,3.804133089808687,31.37016833283383,46.933729674688614,46.403573608814256,44.472174299184736,38.86336742345659,42.740474402858865,44.06296681610462,43.91079591535484,47.52872853706828,49.26991419276615,31.22753810974927,13.464005139411356,45.979072119896024,29.32616053091844,22.79616199948647,29.547029150156845,32.06160732071988,20.891727077953533,14.477555159461819,15.777566693351341,39.51472496682409,49.34808483886602,47.449776995073975,32.40669590177091,18.22304836936148,29.06146428292338,31.394746390062465,35.190869620094624]}];\n",
       " var layout_Gq0DWBIHe6 = {\"height\":550,\"width\":600,\"hovermode\":\"closest\",\"legend\":{\"orientation\":\"v\"},\"title\":{\"text\":\"Chart with Axes\"},\"showlegend\":true,\"xaxis\":{\"title\":{\"text\":\"x variable\"},\"showgrid\":true,\"zeroline\":false,\"showline\":false},\"yaxis\":{\"title\":{\"text\":\"y variable\"},\"showgrid\":true,\"zeroline\":false,\"showline\":false}};\n",
       " var config_Gq0DWBIHe6 = {\"responsive\":true,\"scrollZoom\":true,\"displaylogo\":false};\n",
       " Plotly.newPlot(\"graph_Gq0DWBIHe6\", traces_Gq0DWBIHe6, layout_Gq0DWBIHe6, config_Gq0DWBIHe6);\n",
       "</script> \n"
      ]
     },
     "metadata": {},
     "output_type": "display_data"
    }
   ],
   "source": [
    "// We construct the axes and set their title\n",
    "val xaxis = XAxis(title = \"x variable\")\n",
    "val yaxis = YAxis(title = \"y variable\")\n",
    "\n",
    "// another way to do composition is to just add a bracket around the composition\n",
    "val chart = (\n",
    "    Chart()\n",
    "    setTitle \"Chart with Axes\"\n",
    "    addSeries(series1)\n",
    "    addAxes(xaxis, yaxis)\n",
    ")\n",
    "\n",
    "chart.plotInline"
   ]
  },
  {
   "cell_type": "markdown",
   "metadata": {},
   "source": [
    "### Display options - MultiCharts\n",
    "\n",
    "`MultiCharts` are a way to plot multiple axes on the same chart. This is seperate to Picta's grid system, which create a grid of subplot `Chart`'s. The next series of examples will make this clearer."
   ]
  },
  {
   "cell_type": "code",
   "execution_count": 14,
   "metadata": {},
   "outputs": [
    {
     "data": {
      "text/html": [
       "<div id=\"grid-container_KznkvFNI3N\" class=\"grid-container\" align=\"center\"> \n",
       "<div id=\"grid_KznkvFNI3N\" class=\"grid\" align=\"center\"> \n",
       "<div id=\"graph_L0Ov33gvQj\" class=\"graph\"></div> \n",
       "</div> \n",
       "</div> \n",
       "<script>\n",
       "var masonry = new Macy({\n",
       "    container: '#grid_KznkvFNI3N',\n",
       "    debug: true,\n",
       "    mobileFirst: true,\n",
       "    columns: 1,\n",
       "    margin: {\n",
       "        x: 0,\n",
       "        y: 0\n",
       "    }\n",
       "  });\n",
       "\n",
       " var traces_L0Ov33gvQj = [{\"name\":\"rMxA59riel\",\"type\":\"scatter\",\"mode\":\"markers\",\"x\":[1,2,3],\"y\":[2,4,5]},{\"name\":\"4UVZ7Y2VAn\",\"type\":\"scatter\",\"mode\":\"markers\",\"xaxis\":\"x2\",\"yaxis\":\"y2\",\"x\":[14.804982353630669,45.64434565815959,10.841370178315879,0.19267819250204932,10.782504896438978,23.854940267695255,39.85734075445366,46.86184540966636,35.34174441294161,27.324443564320582,18.75884491786203,32.23077223758043,46.38770097778787,8.59462802058486,1.1049007284086754,30.26342845653094,26.64917243258603,0.5265828060113831,6.175241814834415,8.972706580212503,24.912690688579573,26.62693712673215,35.23775662500333,5.018308547825578,6.27617561972359,48.897595536918885,37.964939698558354,45.42058583222,16.39818309863716,13.958797213296597,27.261373352419742,34.684082963172585,12.61902845153049,12.73633157696078,42.57091476747345,40.321816138467256,33.042982717247014,6.357261945350517,8.851389352344368,32.28108390103101,13.19606153683457,41.064516670743735,30.836228905644802,12.093866973841877,18.711904122956952,27.939228056954136,49.946652932343966,5.709637461301758,41.6485566583619,49.01071834186069,24.274610908043776,39.915672686956974,7.501908556188308,19.937538014118374,20.42586130312241,26.009731355934505,9.756903958307872,40.858984500206844,29.694183035941663,35.962208446940345,28.90554139213294,1.2450449710125377,40.03188687263072,25.689656644414555,3.2610742008036597,21.613719400700614,9.588399666127506,37.258832060353086,49.61070861947698,14.838192044948284,47.20785318352524,46.85017482116911,32.77447636744879,32.43235503253759,10.208263493809595,18.131921471725633,4.4758813007060025,26.68166631757441,30.008996989701565,21.330782629822647,23.58026432282278,7.77738514506709,21.72987450451189,36.7324087279794,31.71977172746894,6.215700076910602,24.75442244429581,27.604635244566627,40.59914976763046,14.639318126774025,7.431382762760391,41.60873239711248,39.86454379719439,30.02757262960314,0.5827723464805701,31.64869088034746,7.317784843864805,46.68212376656536,1.2933991152835278,26.805807358772366],\"y\":[46.471638949868534,12.808879610095087,10.575890009421807,31.515628903970267,39.966783158042055,8.662714840153823,35.93693150376042,36.46654699561018,41.209255976781314,32.20013689966827,2.614546988143024,37.83412723209321,30.73743550884112,38.97605233431189,25.312908807950684,32.41251621394283,38.29056492256325,26.624263357778695,45.630280054811394,34.96402761888105,26.326179026918382,30.677413389143915,39.0573587966525,0.6802730468882967,45.82170568577724,7.7105292226810676,39.41741675801174,30.032992128157026,10.595898737500764,23.833403693097733,17.92628385340019,35.48996124975222,42.098645206394444,41.41051699146767,38.669334816167996,9.581175295002536,12.643098274315246,4.553256018566665,42.22432824896718,1.6227112683019962,11.391943472889448,14.407661892478396,34.40303505420719,36.04049701772112,24.06003328409005,8.552002220738947,27.641272059417982,38.683427263396695,4.258501119696668,14.921932543781308,48.43607946661908,28.775076820432165,21.68083866225009,39.59705852490023,35.410425757736355,33.22550080880277,49.91934890604718,19.51121779309361,9.079960332432279,36.90937839189496,4.6007375711064835,25.689800621504265,46.20298851745061,47.21403676877342,10.742532102889191,39.97097847019702,38.71396053342785,23.67064478486707,16.75737716473691,48.33368292284973,9.672431962825312,3.804133089808687,31.37016833283383,46.933729674688614,46.403573608814256,44.472174299184736,38.86336742345659,42.740474402858865,44.06296681610462,43.91079591535484,47.52872853706828,49.26991419276615,31.22753810974927,13.464005139411356,45.979072119896024,29.32616053091844,22.79616199948647,29.547029150156845,32.06160732071988,20.891727077953533,14.477555159461819,15.777566693351341,39.51472496682409,49.34808483886602,47.449776995073975,32.40669590177091,18.22304836936148,29.06146428292338,31.394746390062465,35.190869620094624]}];\n",
       " var layout_L0Ov33gvQj = {\"height\":550,\"width\":600,\"hovermode\":\"closest\",\"legend\":{\"orientation\":\"v\"},\"title\":{\"text\":\"Chart.Axis.Composition\"},\"showlegend\":true,\"grid\":{\"rows\":1,\"columns\":2,\"pattern\":\"independent\"},\"xaxis\":{\"title\":{\"text\":\"x1\"},\"showgrid\":true,\"zeroline\":false,\"showline\":false},\"yaxis\":{\"showgrid\":true,\"zeroline\":false,\"showline\":false},\"xaxis2\":{\"title\":{\"text\":\"x2\"},\"showgrid\":true,\"zeroline\":false,\"showline\":false},\"yaxis2\":{\"showgrid\":true,\"zeroline\":false,\"showline\":false}};\n",
       " var config_L0Ov33gvQj = {\"responsive\":false,\"scrollZoom\":true,\"displaylogo\":false};\n",
       " Plotly.newPlot(\"graph_L0Ov33gvQj\", traces_L0Ov33gvQj, layout_L0Ov33gvQj, config_L0Ov33gvQj);\n",
       "</script> \n"
      ]
     },
     "metadata": {},
     "output_type": "display_data"
    }
   ],
   "source": [
    "// create the axes\n",
    "val xaxis1 = XAxis() setTitle \"x1\"\n",
    "val yaxis1 = YAxis() // this is not strictly necessary, but if it is not added there will be a zeroline at y = 0\n",
    "\n",
    "val xaxis2 = XAxis(2) setTitle \"x2\"\n",
    "val yaxis2 = YAxis(2) // this is not strictly necessary, but if it is not added there will be a zeroline at y = 0\n",
    "\n",
    "val series1 = (\n",
    "    XY(x = List(1, 2, 3), y = List(2, 4, 5))\n",
    "    asType SCATTER\n",
    "    drawStyle MARKERS\n",
    ")\n",
    "\n",
    "val series2 = (\n",
    "    XY(x = x, y = y) \n",
    "    asType SCATTER \n",
    "    drawStyle MARKERS \n",
    "    setAxes (xaxis2, yaxis2)\n",
    ")\n",
    "\n",
    "val chart1 = Chart()\n",
    "            .addSeries(series1, series2)\n",
    "            .setTitle(\"Chart.Axis.Composition\")\n",
    "            .addAxes(xaxis1, yaxis1, xaxis2, yaxis2)\n",
    "            .setConfig(responsive=false)\n",
    "            // This tells Picta that we want to actually subdivide this chart into multiple plots\n",
    "            .asMultiChart(1, 2)\n",
    "\n",
    "chart1.plotInline"
   ]
  },
  {
   "cell_type": "markdown",
   "metadata": {},
   "source": [
    "### Picta's Subplot System\n",
    "\n",
    "While the above is useful, sometimes it is more useful to plot independent charts in a subplot grid. This is where we can use the Picta subplot system.\n",
    "\n",
    "In the subplots below, each subplot is an individual `Chart`. This means we can actually embed the above `MultiChart` inside another subplot. This way we can create nested subplots to showcase any data we need to.\n",
    "\n",
    "Used creatively, this subplot system can be very useful for data exploration."
   ]
  },
  {
   "cell_type": "code",
   "execution_count": 15,
   "metadata": {
    "scrolled": false
   },
   "outputs": [
    {
     "data": {
      "text/html": [
       "<div id=\"grid-container_d6SCAFmeJc\" class=\"grid-container\" align=\"center\"> \n",
       "<div class=\"grid-title\" align=\"center\"> <h1>The Picta Grid</h1> </div> \n",
       "<div id=\"grid_d6SCAFmeJc\" class=\"grid\" align=\"center\"> \n",
       "<div id=\"graph_QNkd2t6rY2\" class=\"graph\"></div> \n",
       "<div id=\"graph_qVxzhNU6xt\" class=\"graph\"></div> \n",
       "<div id=\"graph_PSg6jQAN2V\" class=\"graph\"></div> \n",
       "<div id=\"graph_51Xbi8d80k\" class=\"graph\"></div> \n",
       "</div> \n",
       "</div> \n",
       "\n",
       "<div align=\"center\">\n",
       "<button id = \"saveAsPNG_d6SCAFmeJc\" class=\"picta-button\">Download Canvas as PNG</button>\n",
       "</div>\n",
       "<script>\n",
       "var masonry = new Macy({\n",
       "    container: '#grid_d6SCAFmeJc',\n",
       "    debug: true,\n",
       "    mobileFirst: true,\n",
       "    columns: 2,\n",
       "    margin: {\n",
       "        x: 0,\n",
       "        y: 0\n",
       "    }\n",
       "  });\n",
       "\n",
       " var traces_QNkd2t6rY2 = [{\"name\":\"a\",\"type\":\"scatter\",\"mode\":\"markers\",\"x\":[14.804982353630669,45.64434565815959,10.841370178315879,0.19267819250204932,10.782504896438978,23.854940267695255,39.85734075445366,46.86184540966636,35.34174441294161,27.324443564320582,18.75884491786203,32.23077223758043,46.38770097778787,8.59462802058486,1.1049007284086754,30.26342845653094,26.64917243258603,0.5265828060113831,6.175241814834415,8.972706580212503,24.912690688579573,26.62693712673215,35.23775662500333,5.018308547825578,6.27617561972359,48.897595536918885,37.964939698558354,45.42058583222,16.39818309863716,13.958797213296597,27.261373352419742,34.684082963172585,12.61902845153049,12.73633157696078,42.57091476747345,40.321816138467256,33.042982717247014,6.357261945350517,8.851389352344368,32.28108390103101,13.19606153683457,41.064516670743735,30.836228905644802,12.093866973841877,18.711904122956952,27.939228056954136,49.946652932343966,5.709637461301758,41.6485566583619,49.01071834186069,24.274610908043776,39.915672686956974,7.501908556188308,19.937538014118374,20.42586130312241,26.009731355934505,9.756903958307872,40.858984500206844,29.694183035941663,35.962208446940345,28.90554139213294,1.2450449710125377,40.03188687263072,25.689656644414555,3.2610742008036597,21.613719400700614,9.588399666127506,37.258832060353086,49.61070861947698,14.838192044948284,47.20785318352524,46.85017482116911,32.77447636744879,32.43235503253759,10.208263493809595,18.131921471725633,4.4758813007060025,26.68166631757441,30.008996989701565,21.330782629822647,23.58026432282278,7.77738514506709,21.72987450451189,36.7324087279794,31.71977172746894,6.215700076910602,24.75442244429581,27.604635244566627,40.59914976763046,14.639318126774025,7.431382762760391,41.60873239711248,39.86454379719439,30.02757262960314,0.5827723464805701,31.64869088034746,7.317784843864805,46.68212376656536,1.2933991152835278,26.805807358772366],\"y\":[46.471638949868534,12.808879610095087,10.575890009421807,31.515628903970267,39.966783158042055,8.662714840153823,35.93693150376042,36.46654699561018,41.209255976781314,32.20013689966827,2.614546988143024,37.83412723209321,30.73743550884112,38.97605233431189,25.312908807950684,32.41251621394283,38.29056492256325,26.624263357778695,45.630280054811394,34.96402761888105,26.326179026918382,30.677413389143915,39.0573587966525,0.6802730468882967,45.82170568577724,7.7105292226810676,39.41741675801174,30.032992128157026,10.595898737500764,23.833403693097733,17.92628385340019,35.48996124975222,42.098645206394444,41.41051699146767,38.669334816167996,9.581175295002536,12.643098274315246,4.553256018566665,42.22432824896718,1.6227112683019962,11.391943472889448,14.407661892478396,34.40303505420719,36.04049701772112,24.06003328409005,8.552002220738947,27.641272059417982,38.683427263396695,4.258501119696668,14.921932543781308,48.43607946661908,28.775076820432165,21.68083866225009,39.59705852490023,35.410425757736355,33.22550080880277,49.91934890604718,19.51121779309361,9.079960332432279,36.90937839189496,4.6007375711064835,25.689800621504265,46.20298851745061,47.21403676877342,10.742532102889191,39.97097847019702,38.71396053342785,23.67064478486707,16.75737716473691,48.33368292284973,9.672431962825312,3.804133089808687,31.37016833283383,46.933729674688614,46.403573608814256,44.472174299184736,38.86336742345659,42.740474402858865,44.06296681610462,43.91079591535484,47.52872853706828,49.26991419276615,31.22753810974927,13.464005139411356,45.979072119896024,29.32616053091844,22.79616199948647,29.547029150156845,32.06160732071988,20.891727077953533,14.477555159461819,15.777566693351341,39.51472496682409,49.34808483886602,47.449776995073975,32.40669590177091,18.22304836936148,29.06146428292338,31.394746390062465,35.190869620094624]}];\n",
       " var layout_QNkd2t6rY2 = {\"height\":350,\"width\":350,\"hovermode\":\"closest\",\"legend\":{\"orientation\":\"v\"},\"showlegend\":true,\"margin\":{\"l\":50,\"r\":30,\"t\":50,\"b\":50},\"xaxis\":{\"title\":{\"text\":\"x axis 1\"},\"showgrid\":true,\"zeroline\":false,\"showline\":false},\"yaxis\":{\"title\":{\"text\":\"y axis 1\"},\"showgrid\":true,\"zeroline\":false,\"showline\":false}};\n",
       " var config_QNkd2t6rY2 = {\"responsive\":true,\"scrollZoom\":true,\"displaylogo\":false};\n",
       " Plotly.newPlot(\"graph_QNkd2t6rY2\", traces_QNkd2t6rY2, layout_QNkd2t6rY2, config_QNkd2t6rY2);\n",
       "\n",
       " var traces_qVxzhNU6xt = [{\"name\":\"b\",\"type\":\"scatter\",\"mode\":\"markers\",\"x\":[14.804982353630669,45.64434565815959,10.841370178315879,0.19267819250204932,10.782504896438978,23.854940267695255,39.85734075445366,46.86184540966636,35.34174441294161,27.324443564320582,18.75884491786203,32.23077223758043,46.38770097778787,8.59462802058486,1.1049007284086754,30.26342845653094,26.64917243258603,0.5265828060113831,6.175241814834415,8.972706580212503,24.912690688579573,26.62693712673215,35.23775662500333,5.018308547825578,6.27617561972359,48.897595536918885,37.964939698558354,45.42058583222,16.39818309863716,13.958797213296597,27.261373352419742,34.684082963172585,12.61902845153049,12.73633157696078,42.57091476747345,40.321816138467256,33.042982717247014,6.357261945350517,8.851389352344368,32.28108390103101,13.19606153683457,41.064516670743735,30.836228905644802,12.093866973841877,18.711904122956952,27.939228056954136,49.946652932343966,5.709637461301758,41.6485566583619,49.01071834186069,24.274610908043776,39.915672686956974,7.501908556188308,19.937538014118374,20.42586130312241,26.009731355934505,9.756903958307872,40.858984500206844,29.694183035941663,35.962208446940345,28.90554139213294,1.2450449710125377,40.03188687263072,25.689656644414555,3.2610742008036597,21.613719400700614,9.588399666127506,37.258832060353086,49.61070861947698,14.838192044948284,47.20785318352524,46.85017482116911,32.77447636744879,32.43235503253759,10.208263493809595,18.131921471725633,4.4758813007060025,26.68166631757441,30.008996989701565,21.330782629822647,23.58026432282278,7.77738514506709,21.72987450451189,36.7324087279794,31.71977172746894,6.215700076910602,24.75442244429581,27.604635244566627,40.59914976763046,14.639318126774025,7.431382762760391,41.60873239711248,39.86454379719439,30.02757262960314,0.5827723464805701,31.64869088034746,7.317784843864805,46.68212376656536,1.2933991152835278,26.805807358772366],\"y\":[46.471638949868534,12.808879610095087,10.575890009421807,31.515628903970267,39.966783158042055,8.662714840153823,35.93693150376042,36.46654699561018,41.209255976781314,32.20013689966827,2.614546988143024,37.83412723209321,30.73743550884112,38.97605233431189,25.312908807950684,32.41251621394283,38.29056492256325,26.624263357778695,45.630280054811394,34.96402761888105,26.326179026918382,30.677413389143915,39.0573587966525,0.6802730468882967,45.82170568577724,7.7105292226810676,39.41741675801174,30.032992128157026,10.595898737500764,23.833403693097733,17.92628385340019,35.48996124975222,42.098645206394444,41.41051699146767,38.669334816167996,9.581175295002536,12.643098274315246,4.553256018566665,42.22432824896718,1.6227112683019962,11.391943472889448,14.407661892478396,34.40303505420719,36.04049701772112,24.06003328409005,8.552002220738947,27.641272059417982,38.683427263396695,4.258501119696668,14.921932543781308,48.43607946661908,28.775076820432165,21.68083866225009,39.59705852490023,35.410425757736355,33.22550080880277,49.91934890604718,19.51121779309361,9.079960332432279,36.90937839189496,4.6007375711064835,25.689800621504265,46.20298851745061,47.21403676877342,10.742532102889191,39.97097847019702,38.71396053342785,23.67064478486707,16.75737716473691,48.33368292284973,9.672431962825312,3.804133089808687,31.37016833283383,46.933729674688614,46.403573608814256,44.472174299184736,38.86336742345659,42.740474402858865,44.06296681610462,43.91079591535484,47.52872853706828,49.26991419276615,31.22753810974927,13.464005139411356,45.979072119896024,29.32616053091844,22.79616199948647,29.547029150156845,32.06160732071988,20.891727077953533,14.477555159461819,15.777566693351341,39.51472496682409,49.34808483886602,47.449776995073975,32.40669590177091,18.22304836936148,29.06146428292338,31.394746390062465,35.190869620094624]}];\n",
       " var layout_qVxzhNU6xt = {\"height\":350,\"width\":350,\"hovermode\":\"closest\",\"legend\":{\"orientation\":\"v\"},\"showlegend\":true,\"margin\":{\"l\":50,\"r\":50,\"t\":50,\"b\":50},\"xaxis\":{\"title\":{\"text\":\"x axis 2\"},\"showgrid\":true,\"zeroline\":false,\"showline\":false},\"yaxis\":{\"title\":{\"text\":\"y axis 2\"},\"showgrid\":true,\"zeroline\":false,\"showline\":false}};\n",
       " var config_qVxzhNU6xt = {\"responsive\":true,\"scrollZoom\":true,\"displaylogo\":false};\n",
       " Plotly.newPlot(\"graph_qVxzhNU6xt\", traces_qVxzhNU6xt, layout_qVxzhNU6xt, config_qVxzhNU6xt);\n",
       "\n",
       " var traces_PSg6jQAN2V = [{\"name\":\"c\",\"type\":\"scatter\",\"mode\":\"markers\",\"x\":[14.804982353630669,45.64434565815959,10.841370178315879,0.19267819250204932,10.782504896438978,23.854940267695255,39.85734075445366,46.86184540966636,35.34174441294161,27.324443564320582,18.75884491786203,32.23077223758043,46.38770097778787,8.59462802058486,1.1049007284086754,30.26342845653094,26.64917243258603,0.5265828060113831,6.175241814834415,8.972706580212503,24.912690688579573,26.62693712673215,35.23775662500333,5.018308547825578,6.27617561972359,48.897595536918885,37.964939698558354,45.42058583222,16.39818309863716,13.958797213296597,27.261373352419742,34.684082963172585,12.61902845153049,12.73633157696078,42.57091476747345,40.321816138467256,33.042982717247014,6.357261945350517,8.851389352344368,32.28108390103101,13.19606153683457,41.064516670743735,30.836228905644802,12.093866973841877,18.711904122956952,27.939228056954136,49.946652932343966,5.709637461301758,41.6485566583619,49.01071834186069,24.274610908043776,39.915672686956974,7.501908556188308,19.937538014118374,20.42586130312241,26.009731355934505,9.756903958307872,40.858984500206844,29.694183035941663,35.962208446940345,28.90554139213294,1.2450449710125377,40.03188687263072,25.689656644414555,3.2610742008036597,21.613719400700614,9.588399666127506,37.258832060353086,49.61070861947698,14.838192044948284,47.20785318352524,46.85017482116911,32.77447636744879,32.43235503253759,10.208263493809595,18.131921471725633,4.4758813007060025,26.68166631757441,30.008996989701565,21.330782629822647,23.58026432282278,7.77738514506709,21.72987450451189,36.7324087279794,31.71977172746894,6.215700076910602,24.75442244429581,27.604635244566627,40.59914976763046,14.639318126774025,7.431382762760391,41.60873239711248,39.86454379719439,30.02757262960314,0.5827723464805701,31.64869088034746,7.317784843864805,46.68212376656536,1.2933991152835278,26.805807358772366],\"y\":[46.471638949868534,12.808879610095087,10.575890009421807,31.515628903970267,39.966783158042055,8.662714840153823,35.93693150376042,36.46654699561018,41.209255976781314,32.20013689966827,2.614546988143024,37.83412723209321,30.73743550884112,38.97605233431189,25.312908807950684,32.41251621394283,38.29056492256325,26.624263357778695,45.630280054811394,34.96402761888105,26.326179026918382,30.677413389143915,39.0573587966525,0.6802730468882967,45.82170568577724,7.7105292226810676,39.41741675801174,30.032992128157026,10.595898737500764,23.833403693097733,17.92628385340019,35.48996124975222,42.098645206394444,41.41051699146767,38.669334816167996,9.581175295002536,12.643098274315246,4.553256018566665,42.22432824896718,1.6227112683019962,11.391943472889448,14.407661892478396,34.40303505420719,36.04049701772112,24.06003328409005,8.552002220738947,27.641272059417982,38.683427263396695,4.258501119696668,14.921932543781308,48.43607946661908,28.775076820432165,21.68083866225009,39.59705852490023,35.410425757736355,33.22550080880277,49.91934890604718,19.51121779309361,9.079960332432279,36.90937839189496,4.6007375711064835,25.689800621504265,46.20298851745061,47.21403676877342,10.742532102889191,39.97097847019702,38.71396053342785,23.67064478486707,16.75737716473691,48.33368292284973,9.672431962825312,3.804133089808687,31.37016833283383,46.933729674688614,46.403573608814256,44.472174299184736,38.86336742345659,42.740474402858865,44.06296681610462,43.91079591535484,47.52872853706828,49.26991419276615,31.22753810974927,13.464005139411356,45.979072119896024,29.32616053091844,22.79616199948647,29.547029150156845,32.06160732071988,20.891727077953533,14.477555159461819,15.777566693351341,39.51472496682409,49.34808483886602,47.449776995073975,32.40669590177091,18.22304836936148,29.06146428292338,31.394746390062465,35.190869620094624]}];\n",
       " var layout_PSg6jQAN2V = {\"height\":350,\"width\":350,\"hovermode\":\"closest\",\"legend\":{\"orientation\":\"v\"},\"showlegend\":true,\"margin\":{\"l\":50,\"r\":30,\"t\":50,\"b\":50},\"xaxis\":{\"title\":{\"text\":\"x axis 3\"},\"showgrid\":true,\"zeroline\":false,\"showline\":false},\"yaxis\":{\"title\":{\"text\":\"y axis 3\"},\"showgrid\":true,\"zeroline\":false,\"showline\":false}};\n",
       " var config_PSg6jQAN2V = {\"responsive\":true,\"scrollZoom\":true,\"displaylogo\":false};\n",
       " Plotly.newPlot(\"graph_PSg6jQAN2V\", traces_PSg6jQAN2V, layout_PSg6jQAN2V, config_PSg6jQAN2V);\n",
       "\n",
       " var traces_51Xbi8d80k = [{\"name\":\"rMxA59riel\",\"type\":\"scatter\",\"mode\":\"markers\",\"x\":[1,2,3],\"y\":[2,4,5]},{\"name\":\"4UVZ7Y2VAn\",\"type\":\"scatter\",\"mode\":\"markers\",\"xaxis\":\"x2\",\"yaxis\":\"y2\",\"x\":[14.804982353630669,45.64434565815959,10.841370178315879,0.19267819250204932,10.782504896438978,23.854940267695255,39.85734075445366,46.86184540966636,35.34174441294161,27.324443564320582,18.75884491786203,32.23077223758043,46.38770097778787,8.59462802058486,1.1049007284086754,30.26342845653094,26.64917243258603,0.5265828060113831,6.175241814834415,8.972706580212503,24.912690688579573,26.62693712673215,35.23775662500333,5.018308547825578,6.27617561972359,48.897595536918885,37.964939698558354,45.42058583222,16.39818309863716,13.958797213296597,27.261373352419742,34.684082963172585,12.61902845153049,12.73633157696078,42.57091476747345,40.321816138467256,33.042982717247014,6.357261945350517,8.851389352344368,32.28108390103101,13.19606153683457,41.064516670743735,30.836228905644802,12.093866973841877,18.711904122956952,27.939228056954136,49.946652932343966,5.709637461301758,41.6485566583619,49.01071834186069,24.274610908043776,39.915672686956974,7.501908556188308,19.937538014118374,20.42586130312241,26.009731355934505,9.756903958307872,40.858984500206844,29.694183035941663,35.962208446940345,28.90554139213294,1.2450449710125377,40.03188687263072,25.689656644414555,3.2610742008036597,21.613719400700614,9.588399666127506,37.258832060353086,49.61070861947698,14.838192044948284,47.20785318352524,46.85017482116911,32.77447636744879,32.43235503253759,10.208263493809595,18.131921471725633,4.4758813007060025,26.68166631757441,30.008996989701565,21.330782629822647,23.58026432282278,7.77738514506709,21.72987450451189,36.7324087279794,31.71977172746894,6.215700076910602,24.75442244429581,27.604635244566627,40.59914976763046,14.639318126774025,7.431382762760391,41.60873239711248,39.86454379719439,30.02757262960314,0.5827723464805701,31.64869088034746,7.317784843864805,46.68212376656536,1.2933991152835278,26.805807358772366],\"y\":[46.471638949868534,12.808879610095087,10.575890009421807,31.515628903970267,39.966783158042055,8.662714840153823,35.93693150376042,36.46654699561018,41.209255976781314,32.20013689966827,2.614546988143024,37.83412723209321,30.73743550884112,38.97605233431189,25.312908807950684,32.41251621394283,38.29056492256325,26.624263357778695,45.630280054811394,34.96402761888105,26.326179026918382,30.677413389143915,39.0573587966525,0.6802730468882967,45.82170568577724,7.7105292226810676,39.41741675801174,30.032992128157026,10.595898737500764,23.833403693097733,17.92628385340019,35.48996124975222,42.098645206394444,41.41051699146767,38.669334816167996,9.581175295002536,12.643098274315246,4.553256018566665,42.22432824896718,1.6227112683019962,11.391943472889448,14.407661892478396,34.40303505420719,36.04049701772112,24.06003328409005,8.552002220738947,27.641272059417982,38.683427263396695,4.258501119696668,14.921932543781308,48.43607946661908,28.775076820432165,21.68083866225009,39.59705852490023,35.410425757736355,33.22550080880277,49.91934890604718,19.51121779309361,9.079960332432279,36.90937839189496,4.6007375711064835,25.689800621504265,46.20298851745061,47.21403676877342,10.742532102889191,39.97097847019702,38.71396053342785,23.67064478486707,16.75737716473691,48.33368292284973,9.672431962825312,3.804133089808687,31.37016833283383,46.933729674688614,46.403573608814256,44.472174299184736,38.86336742345659,42.740474402858865,44.06296681610462,43.91079591535484,47.52872853706828,49.26991419276615,31.22753810974927,13.464005139411356,45.979072119896024,29.32616053091844,22.79616199948647,29.547029150156845,32.06160732071988,20.891727077953533,14.477555159461819,15.777566693351341,39.51472496682409,49.34808483886602,47.449776995073975,32.40669590177091,18.22304836936148,29.06146428292338,31.394746390062465,35.190869620094624]}];\n",
       " var layout_51Xbi8d80k = {\"height\":350,\"width\":350,\"hovermode\":\"closest\",\"legend\":{\"orientation\":\"v\"},\"title\":{\"text\":\"The MultiChart from Above\"},\"showlegend\":true,\"grid\":{\"rows\":1,\"columns\":2,\"pattern\":\"independent\"},\"xaxis\":{\"title\":{\"text\":\"x1\"},\"showgrid\":true,\"zeroline\":false,\"showline\":false},\"yaxis\":{\"showgrid\":true,\"zeroline\":false,\"showline\":false},\"xaxis2\":{\"title\":{\"text\":\"x2\"},\"showgrid\":true,\"zeroline\":false,\"showline\":false},\"yaxis2\":{\"showgrid\":true,\"zeroline\":false,\"showline\":false}};\n",
       " var config_51Xbi8d80k = {\"responsive\":false,\"scrollZoom\":true,\"displaylogo\":false};\n",
       " Plotly.newPlot(\"graph_51Xbi8d80k\", traces_51Xbi8d80k, layout_51Xbi8d80k, config_51Xbi8d80k);\n",
       "\n",
       "var save = document.getElementById(\"saveAsPNG_d6SCAFmeJc\")\n",
       "save.onclick = function() {\n",
       "    const grid = document.getElementById(\"grid-container_d6SCAFmeJc\")\n",
       "    const svg_containers = grid.getElementsByClassName('svg-container')\n",
       "    const main_svgs = grid.getElementsByClassName('main-svg')\n",
       "\n",
       "    const svg_containers_styles = []\n",
       "    const main_svgs_styles = []\n",
       "\n",
       "    const modebars = document.getElementsByClassName(\"modebar-container\")\n",
       "\n",
       "    for (var i = 0; i < modebars.length; i++) {\n",
       "        modebars[i].style.display = \"none\"\n",
       "    }\n",
       "\n",
       "    domtoimage.toPng(grid)\n",
       "    .then(function (dataUrl) {\n",
       "        var img = new Image();\n",
       "        img.src = dataUrl;\n",
       "        var link = document.createElement('a');\n",
       "        link.download = 'Picta-image.png';\n",
       "        link.href = dataUrl;\n",
       "        link.click()\n",
       "    })\n",
       "    .catch(function (error) {\n",
       "        console.error('oops, something went wrong!', error);\n",
       "    });\n",
       "}\n",
       "</script> \n"
      ]
     },
     "metadata": {},
     "output_type": "display_data"
    }
   ],
   "source": [
    "// first define the x-axes we will use in the plot\n",
    "val ax1 = XAxis(title = \"x axis 1\")\n",
    "val ax2 = XAxis(title = \"x axis 2\")\n",
    "val ax3 = XAxis(title = \"x axis 3\")\n",
    "val ax4 = XAxis(title = \"x axis 4\")\n",
    "\n",
    "// first define the y-axes we will use in the plot\n",
    "val ax6 = YAxis(title = \"y axis 1\")\n",
    "val ax7 = YAxis(title = \"y axis 2\")\n",
    "val ax8 = YAxis(title = \"y axis 3\")\n",
    "val ax9 = YAxis(title = \"y axis 4\")\n",
    "\n",
    "// it may be necessary to play around with the chart dimensions and margin  in order to ensure a good fit on screen.\n",
    "val dim = 350\n",
    "\n",
    "val chart1 = (\n",
    "    Chart()\n",
    "    setDimensions(width = dim, height = dim)\n",
    "    addSeries XY(x, y).setName(\"a\").drawMarkers\n",
    "    addAxes(ax1, ax6)\n",
    "    setMargin(l=50, r=30, t=50, b=50)\n",
    ")\n",
    "\n",
    "val chart2 = (\n",
    "    Chart() \n",
    "    setDimensions(width = dim, height = dim)\n",
    "    addSeries XY(x, y).setName(\"b\").drawMarkers\n",
    "    addAxes(ax2, ax7)\n",
    "    setMargin(l=50, r=50, t=50, b=50)\n",
    ")\n",
    "\n",
    "val chart3 = (\n",
    "    Chart()\n",
    "    setDimensions(width = dim, height = dim)\n",
    "    addSeries XY(x, y).setName(\"c\").drawMarkers\n",
    "    addAxes(ax3, ax8)\n",
    "    setMargin(l=50, r=30, t=50, b=50)\n",
    ")\n",
    "\n",
    "val chart4 = (\n",
    "    Chart()\n",
    "    setDimensions(width = dim, height = dim)\n",
    "    addSeries(series1, series2)\n",
    "    setTitle \"The MultiChart from Above\"\n",
    "    addAxes(xaxis1, yaxis1, xaxis2, yaxis2) // these axes come from above\n",
    "    setConfig(responsive=false)\n",
    "    asMultiChart(1, 2)\n",
    ")\n",
    "\n",
    "// The canvas has an underlying grid. By default the underlying grid is 1x1, but we can pass in the dimensions we \n",
    "// require by passing in parameters in the constructor.\n",
    "Canvas(2, 2, title=\"The Picta Grid\")\n",
    ".setChart(0, 0, chart1)\n",
    ".setChart(0, 1, chart2)\n",
    ".setChart(1, 0, chart3)\n",
    ".setChart(1, 1, chart4)\n",
    ".plotInline"
   ]
  },
  {
   "cell_type": "markdown",
   "metadata": {},
   "source": [
    "### Error Bars\n",
    "\n",
    "We can also add Error Bars to our plots.\n",
    "\n",
    "Error bars come in two flavours:\n",
    "\n",
    "1. `XError`\n",
    "2. `YError`\n",
    "\n",
    "Both of these has an associated `mode` that determines how the error bar is calculated for an individual point. The following `mode`s can be specified:\n",
    "\n",
    "- `DATA`: The user passes in an array that specifies the per point error\n",
    "- `PERCENT`: The user passes in a Double that calculates the error as a percentage of the value of the point\n",
    "- `CONSTANT`: The user passes in a double that is the constant value for the error for all points\n",
    "- `SQRT`: This calculates the error as a square root of the point value.\n",
    "\n",
    "The next few examples will demonstrate:"
   ]
  },
  {
   "cell_type": "code",
   "execution_count": 16,
   "metadata": {},
   "outputs": [],
   "source": [
    "// First import the Error Bar options\n",
    "import org.carbonateresearch.picta.options.{YError, CONSTANT, DATA, PERCENT, SQRT}"
   ]
  },
  {
   "cell_type": "code",
   "execution_count": 17,
   "metadata": {},
   "outputs": [
    {
     "data": {
      "text/html": [
       "<div id=\"grid-container_tFoPbOELux\" class=\"grid-container\" align=\"center\"> \n",
       "<div class=\"grid-title\" align=\"center\"> <h1>Errors</h1> </div> \n",
       "<div id=\"grid_tFoPbOELux\" class=\"grid\" align=\"center\"> \n",
       "<div id=\"graph_OWYxhjkKAP\" class=\"graph\"></div> \n",
       "<div id=\"graph_InXBZoVD55\" class=\"graph\"></div> \n",
       "<div id=\"graph_wjkXSrcUgI\" class=\"graph\"></div> \n",
       "<div id=\"graph_iYIikZD9Mq\" class=\"graph\"></div> \n",
       "</div> \n",
       "</div> \n",
       "\n",
       "<div align=\"center\">\n",
       "<button id = \"saveAsPNG_tFoPbOELux\" class=\"picta-button\">Download Canvas as PNG</button>\n",
       "</div>\n",
       "<script>\n",
       "var masonry = new Macy({\n",
       "    container: '#grid_tFoPbOELux',\n",
       "    debug: true,\n",
       "    mobileFirst: true,\n",
       "    columns: 2,\n",
       "    margin: {\n",
       "        x: 0,\n",
       "        y: 0\n",
       "    }\n",
       "  });\n",
       "\n",
       " var traces_OWYxhjkKAP = [{\"name\":\"XJZ2pGfmev\",\"type\":\"scatter\",\"mode\":\"markers\",\"x\":[1,2,3],\"y\":[1.234,5.2112,2.44332],\"error_y\":{\"type\":\"data\",\"visible\":true,\"array\":[0.5,0.5,0.5]}}];\n",
       " var layout_OWYxhjkKAP = {\"height\":400,\"width\":400,\"hovermode\":\"closest\",\"legend\":{\"orientation\":\"v\"},\"title\":{\"text\":\"Per Point Specified Error\"},\"showlegend\":true};\n",
       " var config_OWYxhjkKAP = {\"responsive\":true,\"scrollZoom\":true,\"displaylogo\":false};\n",
       " Plotly.newPlot(\"graph_OWYxhjkKAP\", traces_OWYxhjkKAP, layout_OWYxhjkKAP, config_OWYxhjkKAP);\n",
       "\n",
       " var traces_InXBZoVD55 = [{\"name\":\"txgZ8piLm0\",\"type\":\"scatter\",\"mode\":\"markers\",\"x\":[1,2,3],\"y\":[1.234,5.2112,2.44332],\"error_y\":{\"type\":\"percent\",\"visible\":true,\"value\":10}}];\n",
       " var layout_InXBZoVD55 = {\"height\":400,\"width\":400,\"hovermode\":\"closest\",\"legend\":{\"orientation\":\"v\"},\"title\":{\"text\":\"Percentage Error\"},\"showlegend\":true};\n",
       " var config_InXBZoVD55 = {\"responsive\":true,\"scrollZoom\":true,\"displaylogo\":false};\n",
       " Plotly.newPlot(\"graph_InXBZoVD55\", traces_InXBZoVD55, layout_InXBZoVD55, config_InXBZoVD55);\n",
       "\n",
       " var traces_wjkXSrcUgI = [{\"name\":\"XQLZiZJnkv\",\"type\":\"scatter\",\"mode\":\"markers\",\"x\":[1,2,3],\"y\":[1.234,5.2112,2.44332],\"error_y\":{\"type\":\"constant\",\"visible\":true,\"value\":10}}];\n",
       " var layout_wjkXSrcUgI = {\"height\":400,\"width\":400,\"hovermode\":\"closest\",\"legend\":{\"orientation\":\"v\"},\"title\":{\"text\":\"Constant Error\"},\"showlegend\":true};\n",
       " var config_wjkXSrcUgI = {\"responsive\":true,\"scrollZoom\":true,\"displaylogo\":false};\n",
       " Plotly.newPlot(\"graph_wjkXSrcUgI\", traces_wjkXSrcUgI, layout_wjkXSrcUgI, config_wjkXSrcUgI);\n",
       "\n",
       " var traces_iYIikZD9Mq = [{\"name\":\"BWaTNeQuSA\",\"type\":\"scatter\",\"mode\":\"markers\",\"x\":[1,2,3],\"y\":[1.234,5.2112,2.44332],\"error_y\":{\"type\":\"sqrt\",\"visible\":true}}];\n",
       " var layout_iYIikZD9Mq = {\"height\":400,\"width\":400,\"hovermode\":\"closest\",\"legend\":{\"orientation\":\"v\"},\"title\":{\"text\":\"Sqrt Error\"},\"showlegend\":true};\n",
       " var config_iYIikZD9Mq = {\"responsive\":true,\"scrollZoom\":true,\"displaylogo\":false};\n",
       " Plotly.newPlot(\"graph_iYIikZD9Mq\", traces_iYIikZD9Mq, layout_iYIikZD9Mq, config_iYIikZD9Mq);\n",
       "\n",
       "var save = document.getElementById(\"saveAsPNG_tFoPbOELux\")\n",
       "save.onclick = function() {\n",
       "    const grid = document.getElementById(\"grid-container_tFoPbOELux\")\n",
       "    const svg_containers = grid.getElementsByClassName('svg-container')\n",
       "    const main_svgs = grid.getElementsByClassName('main-svg')\n",
       "\n",
       "    const svg_containers_styles = []\n",
       "    const main_svgs_styles = []\n",
       "\n",
       "    const modebars = document.getElementsByClassName(\"modebar-container\")\n",
       "\n",
       "    for (var i = 0; i < modebars.length; i++) {\n",
       "        modebars[i].style.display = \"none\"\n",
       "    }\n",
       "\n",
       "    domtoimage.toPng(grid)\n",
       "    .then(function (dataUrl) {\n",
       "        var img = new Image();\n",
       "        img.src = dataUrl;\n",
       "        var link = document.createElement('a');\n",
       "        link.download = 'Picta-image.png';\n",
       "        link.href = dataUrl;\n",
       "        link.click()\n",
       "    })\n",
       "    .catch(function (error) {\n",
       "        console.error('oops, something went wrong!', error);\n",
       "    });\n",
       "}\n",
       "</script> \n"
      ]
     },
     "metadata": {},
     "output_type": "display_data"
    }
   ],
   "source": [
    "val dim = 400\n",
    "\n",
    "val series1 = (\n",
    "    XY(List(1, 2, 3), List(1.234, 5.2112, 2.44332))\n",
    "    asType SCATTER\n",
    "    drawStyle MARKERS\n",
    "    // User specifies the error per point \n",
    "    setErrorBars YError(mode = DATA, array = List(0.5, 0.5, 0.5))\n",
    ")\n",
    "\n",
    "val chart1 = (\n",
    "    Chart()\n",
    "    addSeries series1\n",
    "    setTitle \"Per Point Specified Error\"\n",
    "    setDimensions(width = dim, height = dim)\n",
    ")\n",
    "\n",
    "\n",
    "val series2 = (\n",
    "    XY(List(1, 2, 3), List(1.234, 5.2112, 2.44332))\n",
    "    asType SCATTER\n",
    "    drawStyle MARKERS\n",
    "    // the error here is 10% of the corresponding y-value for the point\n",
    "    setErrorBars YError(mode = PERCENT, value = 10.0)\n",
    ")\n",
    "\n",
    "val chart2 = (\n",
    "    Chart()\n",
    "    addSeries series2\n",
    "    setTitle \"Percentage Error\"\n",
    "    setDimensions(width = dim, height = dim)\n",
    ")\n",
    "\n",
    "\n",
    "val series3 = (\n",
    "    XY(List(1, 2, 3), List(1.234, 5.2112, 2.44332))\n",
    "    asType SCATTER\n",
    "    drawStyle MARKERS\n",
    "    // a constant error of 10 is applied to each point\n",
    "    setErrorBars YError(mode = CONSTANT, value = 10.0)\n",
    ")\n",
    "\n",
    "val chart3 = (\n",
    "    Chart()\n",
    "    addSeries series3\n",
    "    setTitle \"Constant Error\"\n",
    "    setDimensions(width = dim, height = dim)\n",
    ")\n",
    "\n",
    "\n",
    "val series4 = (\n",
    "    XY(List(1, 2, 3), List(1.234, 5.2112, 2.44332))\n",
    "    asType SCATTER\n",
    "    drawStyle MARKERS\n",
    "    setErrorBars YError(mode = SQRT)\n",
    ")\n",
    "\n",
    "val chart4 = (\n",
    "    Chart()\n",
    "    addSeries series4\n",
    "    setTitle \"Sqrt Error\"\n",
    "    // the error is set to the sqrt of the corresponding point\n",
    "    setDimensions(width = dim, height = dim)\n",
    ")\n",
    "\n",
    "val canvas = Canvas(2, 2, \"Errors\") addCharts (chart1, chart2, chart3, chart4)\n",
    "\n",
    "canvas.plotInline"
   ]
  },
  {
   "cell_type": "markdown",
   "metadata": {},
   "source": [
    "### Other Types of Charts\n",
    "\n",
    "The next examples will demonstrate how to create a variety of `Chart`s. All of the examples below are composable with the `Canvas` subplot system.\n",
    "\n",
    "#### Pie Chart\n",
    "\n",
    "Pie charts can be created in two ways. The first way uses the `PieElement` component to compose a Piechart:"
   ]
  },
  {
   "cell_type": "code",
   "execution_count": 18,
   "metadata": {},
   "outputs": [
    {
     "data": {
      "text/html": [
       "<div id=\"grid-container_isd1q0kZ1Q\" class=\"grid-container\" align=\"center\"> \n",
       "<div id=\"grid_isd1q0kZ1Q\" class=\"grid\" align=\"center\"> \n",
       "<div id=\"graph_rUeLCIIZMs\" class=\"graph\"></div> \n",
       "</div> \n",
       "</div> \n",
       "<script>\n",
       "var masonry = new Macy({\n",
       "    container: '#grid_isd1q0kZ1Q',\n",
       "    debug: true,\n",
       "    mobileFirst: true,\n",
       "    columns: 1,\n",
       "    margin: {\n",
       "        x: 0,\n",
       "        y: 0\n",
       "    }\n",
       "  });\n",
       "\n",
       " var traces_rUeLCIIZMs = [{\"name\":\"9mLYmZNGyA\",\"type\":\"pie\",\"values\":[60,20,20],\"labels\":[\"Residential\",\"Non-Residential\",\"Utility\"]}];\n",
       " var layout_rUeLCIIZMs = {\"height\":550,\"width\":600,\"hovermode\":\"closest\",\"legend\":{\"orientation\":\"v\"},\"title\":{\"text\":\"Pie Elements\"},\"showlegend\":true};\n",
       " var config_rUeLCIIZMs = {\"responsive\":true,\"scrollZoom\":true,\"displaylogo\":false};\n",
       " Plotly.newPlot(\"graph_rUeLCIIZMs\", traces_rUeLCIIZMs, layout_rUeLCIIZMs, config_rUeLCIIZMs);\n",
       "</script> \n"
      ]
     },
     "metadata": {},
     "output_type": "display_data"
    }
   ],
   "source": [
    "val a = PieElement(value=60, name=\"Residential\")\n",
    "val b = PieElement(value=20, name=\"Non-Residential\")\n",
    "val c = PieElement(value=20, name=\"Utility\")\n",
    "\n",
    "// we add a list of Pie Elements to an XY series as the list of Pie Elements gets deconstructed down into two series:\n",
    "// X => values: [60, 20, 20]\n",
    "// Y => labels: [\"Residential\", \"Non-Residential\", \"Utility\"]\n",
    "// The labels become the series_name for each individual PieElement\n",
    "// As we pass in a list of PieElements, we do not need to specify the type as a PIE\n",
    "val series = XY(x=List(a, b, c))\n",
    "\n",
    "val chart = Chart() addSeries series setTitle \"Pie Elements\"\n",
    "\n",
    "chart.plotInline"
   ]
  },
  {
   "cell_type": "code",
   "execution_count": 19,
   "metadata": {},
   "outputs": [
    {
     "data": {
      "text/html": [
       "<div id=\"grid-container_KislXSenkB\" class=\"grid-container\" align=\"center\"> \n",
       "<div id=\"grid_KislXSenkB\" class=\"grid\" align=\"center\"> \n",
       "<div id=\"graph_PbHy2PkA9q\" class=\"graph\"></div> \n",
       "</div> \n",
       "</div> \n",
       "<script>\n",
       "var masonry = new Macy({\n",
       "    container: '#grid_KislXSenkB',\n",
       "    debug: true,\n",
       "    mobileFirst: true,\n",
       "    columns: 1,\n",
       "    margin: {\n",
       "        x: 0,\n",
       "        y: 0\n",
       "    }\n",
       "  });\n",
       "\n",
       " var traces_PbHy2PkA9q = [{\"name\":\"oDx0Lv7ifs\",\"type\":\"pie\",\"values\":[60,20,20],\"labels\":[\"Residential\",\"Non-Residential\",\"Utility\"]}];\n",
       " var layout_PbHy2PkA9q = {\"height\":550,\"width\":600,\"hovermode\":\"closest\",\"legend\":{\"orientation\":\"v\"},\"title\":{\"text\":\"Pie Chart\"},\"showlegend\":true};\n",
       " var config_PbHy2PkA9q = {\"responsive\":false,\"scrollZoom\":false,\"displaylogo\":false};\n",
       " Plotly.newPlot(\"graph_PbHy2PkA9q\", traces_PbHy2PkA9q, layout_PbHy2PkA9q, config_PbHy2PkA9q);\n",
       "</script> \n"
      ]
     },
     "metadata": {},
     "output_type": "display_data"
    }
   ],
   "source": [
    "// However, composing individual PieElements may be tedious if there is a lot of data and we know how to it all fits\n",
    "// together. Picta provides a short hand to quickly create a Pie Chart using the methods we have seen previously\n",
    "// In this case we pass the (value, name) pairs as two seperate lists. As before, the labels become an individual\n",
    "// series name for each point; which is why the legend renders correctly.\n",
    "val series = XY(x=List(60, 20, 20), y=List(\"Residential\", \"Non-Residential\", \"Utility\")) asType PIE\n",
    "\n",
    "val chart = Chart() addSeries series setConfig(false, false) setTitle \"Pie Chart\"\n",
    "\n",
    "chart.plotInline"
   ]
  },
  {
   "cell_type": "markdown",
   "metadata": {},
   "source": [
    "### Histogram"
   ]
  },
  {
   "cell_type": "code",
   "execution_count": 20,
   "metadata": {},
   "outputs": [
    {
     "data": {
      "text/html": [
       "<div id=\"grid-container_GWBilYVrp0\" class=\"grid-container\" align=\"center\"> \n",
       "<div id=\"grid_GWBilYVrp0\" class=\"grid\" align=\"center\"> \n",
       "<div id=\"graph_yaTEV4GT4A\" class=\"graph\"></div> \n",
       "</div> \n",
       "</div> \n",
       "<script>\n",
       "var masonry = new Macy({\n",
       "    container: '#grid_GWBilYVrp0',\n",
       "    debug: true,\n",
       "    mobileFirst: true,\n",
       "    columns: 1,\n",
       "    margin: {\n",
       "        x: 0,\n",
       "        y: 0\n",
       "    }\n",
       "  });\n",
       "\n",
       " var traces_yaTEV4GT4A = [{\"name\":\"8FDat4EkwB\",\"type\":\"histogram\",\"x\":[14.804982353630669,45.64434565815959,10.841370178315879,0.19267819250204932,10.782504896438978,23.854940267695255,39.85734075445366,46.86184540966636,35.34174441294161,27.324443564320582,18.75884491786203,32.23077223758043,46.38770097778787,8.59462802058486,1.1049007284086754,30.26342845653094,26.64917243258603,0.5265828060113831,6.175241814834415,8.972706580212503,24.912690688579573,26.62693712673215,35.23775662500333,5.018308547825578,6.27617561972359,48.897595536918885,37.964939698558354,45.42058583222,16.39818309863716,13.958797213296597,27.261373352419742,34.684082963172585,12.61902845153049,12.73633157696078,42.57091476747345,40.321816138467256,33.042982717247014,6.357261945350517,8.851389352344368,32.28108390103101,13.19606153683457,41.064516670743735,30.836228905644802,12.093866973841877,18.711904122956952,27.939228056954136,49.946652932343966,5.709637461301758,41.6485566583619,49.01071834186069,24.274610908043776,39.915672686956974,7.501908556188308,19.937538014118374,20.42586130312241,26.009731355934505,9.756903958307872,40.858984500206844,29.694183035941663,35.962208446940345,28.90554139213294,1.2450449710125377,40.03188687263072,25.689656644414555,3.2610742008036597,21.613719400700614,9.588399666127506,37.258832060353086,49.61070861947698,14.838192044948284,47.20785318352524,46.85017482116911,32.77447636744879,32.43235503253759,10.208263493809595,18.131921471725633,4.4758813007060025,26.68166631757441,30.008996989701565,21.330782629822647,23.58026432282278,7.77738514506709,21.72987450451189,36.7324087279794,31.71977172746894,6.215700076910602,24.75442244429581,27.604635244566627,40.59914976763046,14.639318126774025,7.431382762760391,41.60873239711248,39.86454379719439,30.02757262960314,0.5827723464805701,31.64869088034746,7.317784843864805,46.68212376656536,1.2933991152835278,26.805807358772366]}];\n",
       " var layout_yaTEV4GT4A = {\"height\":550,\"width\":600,\"hovermode\":\"closest\",\"legend\":{\"orientation\":\"v\"},\"title\":{\"text\":\"Histogram with axes\"},\"showlegend\":true,\"xaxis\":{\"title\":{\"text\":\"my x data\"},\"showgrid\":true,\"zeroline\":false,\"showline\":false},\"yaxis\":{\"title\":{\"text\":\"my y data\"},\"showgrid\":true,\"zeroline\":false,\"showline\":false}};\n",
       " var config_yaTEV4GT4A = {\"responsive\":true,\"scrollZoom\":true,\"displaylogo\":false};\n",
       " Plotly.newPlot(\"graph_yaTEV4GT4A\", traces_yaTEV4GT4A, layout_yaTEV4GT4A, config_yaTEV4GT4A);\n",
       "</script> \n"
      ]
     },
     "metadata": {},
     "output_type": "display_data"
    }
   ],
   "source": [
    "val series = XY(x=x) asType HISTOGRAM\n",
    "\n",
    "val xaxis = XAxis(title = \"my x data\")\n",
    "val yaxis = YAxis(title = \"my y data\")\n",
    "\n",
    "val chart = (\n",
    "    Chart() \n",
    "    addSeries series\n",
    "    setTitle \"Histogram with axes\"\n",
    "    addAxes(xaxis, yaxis)\n",
    ")\n",
    "\n",
    "Canvas()\n",
    ".addCharts(chart)\n",
    ".plotInline"
   ]
  },
  {
   "cell_type": "markdown",
   "metadata": {},
   "source": [
    "#### Customizing colors for a Histogram\n",
    "\n",
    "We can use the `HistOptions` class to further specify options for a histogram. For example, if we wanted to create a horizontally positioned histogram, we can do the following:"
   ]
  },
  {
   "cell_type": "code",
   "execution_count": 21,
   "metadata": {},
   "outputs": [],
   "source": [
    "import org.carbonateresearch.picta.options.histogram.HistOptions\n",
    "import org.carbonateresearch.picta.options.Line"
   ]
  },
  {
   "cell_type": "code",
   "execution_count": 22,
   "metadata": {},
   "outputs": [
    {
     "data": {
      "text/html": [
       "<div id=\"grid-container_I00UXu08c8\" class=\"grid-container\" align=\"center\"> \n",
       "<div id=\"grid_I00UXu08c8\" class=\"grid\" align=\"center\"> \n",
       "<div id=\"graph_CqtxDZDVWt\" class=\"graph\"></div> \n",
       "</div> \n",
       "</div> \n",
       "<script>\n",
       "var masonry = new Macy({\n",
       "    container: '#grid_I00UXu08c8',\n",
       "    debug: true,\n",
       "    mobileFirst: true,\n",
       "    columns: 1,\n",
       "    margin: {\n",
       "        x: 0,\n",
       "        y: 0\n",
       "    }\n",
       "  });\n",
       "\n",
       " var traces_CqtxDZDVWt = [{\"name\":\"RtcNJ29mVw\",\"type\":\"histogram\",\"marker\":{\"color\":\"rgba(255, 100, 102, 0.5)\",\"line\":{\"width\":0.5}},\"y\":[14.804982353630669,45.64434565815959,10.841370178315879,0.19267819250204932,10.782504896438978,23.854940267695255,39.85734075445366,46.86184540966636,35.34174441294161,27.324443564320582,18.75884491786203,32.23077223758043,46.38770097778787,8.59462802058486,1.1049007284086754,30.26342845653094,26.64917243258603,0.5265828060113831,6.175241814834415,8.972706580212503,24.912690688579573,26.62693712673215,35.23775662500333,5.018308547825578,6.27617561972359,48.897595536918885,37.964939698558354,45.42058583222,16.39818309863716,13.958797213296597,27.261373352419742,34.684082963172585,12.61902845153049,12.73633157696078,42.57091476747345,40.321816138467256,33.042982717247014,6.357261945350517,8.851389352344368,32.28108390103101,13.19606153683457,41.064516670743735,30.836228905644802,12.093866973841877,18.711904122956952,27.939228056954136,49.946652932343966,5.709637461301758,41.6485566583619,49.01071834186069,24.274610908043776,39.915672686956974,7.501908556188308,19.937538014118374,20.42586130312241,26.009731355934505,9.756903958307872,40.858984500206844,29.694183035941663,35.962208446940345,28.90554139213294,1.2450449710125377,40.03188687263072,25.689656644414555,3.2610742008036597,21.613719400700614,9.588399666127506,37.258832060353086,49.61070861947698,14.838192044948284,47.20785318352524,46.85017482116911,32.77447636744879,32.43235503253759,10.208263493809595,18.131921471725633,4.4758813007060025,26.68166631757441,30.008996989701565,21.330782629822647,23.58026432282278,7.77738514506709,21.72987450451189,36.7324087279794,31.71977172746894,6.215700076910602,24.75442244429581,27.604635244566627,40.59914976763046,14.639318126774025,7.431382762760391,41.60873239711248,39.86454379719439,30.02757262960314,0.5827723464805701,31.64869088034746,7.317784843864805,46.68212376656536,1.2933991152835278,26.805807358772366]}];\n",
       " var layout_CqtxDZDVWt = {\"height\":550,\"width\":600,\"hovermode\":\"closest\",\"legend\":{\"orientation\":\"v\"},\"title\":{\"text\":\"XY.Histogram.Color\"},\"showlegend\":true};\n",
       " var config_CqtxDZDVWt = {\"responsive\":true,\"scrollZoom\":true,\"displaylogo\":false};\n",
       " Plotly.newPlot(\"graph_CqtxDZDVWt\", traces_CqtxDZDVWt, layout_CqtxDZDVWt, config_CqtxDZDVWt);\n",
       "</script> \n"
      ]
     },
     "metadata": {},
     "output_type": "display_data"
    }
   ],
   "source": [
    "// we can also compose customizations in much the same way:\n",
    "val marker = Marker() setColor \"rgba(255, 100, 102, 0.5)\" setLine Line()\n",
    "\n",
    "// change xkey to y to get a horizontal histogram\n",
    "val series = (\n",
    "    XY(x) \n",
    "    asType HISTOGRAM\n",
    "    setMarker marker\n",
    "    // we can set histogram specific options using the setHistOptions method\n",
    "    setHistOptions(orientation = HORIZONTAL)\n",
    ")\n",
    "\n",
    "val chart = (\n",
    "    Chart() \n",
    "    addSeries series \n",
    "    setTitle \"XY.Histogram.Color\"\n",
    ")\n",
    "\n",
    "chart.plotInline"
   ]
  },
  {
   "cell_type": "markdown",
   "metadata": {},
   "source": [
    "#### Cumulative Histogram\n",
    "\n",
    "Sometimes a cumulative histogram may be desired. We can do this as follows:"
   ]
  },
  {
   "cell_type": "code",
   "execution_count": 23,
   "metadata": {},
   "outputs": [],
   "source": [
    "// we can import a range of histnorms\n",
    "import org.carbonateresearch.picta.options.histogram.{Cumulative, PERCENT, DENSITY, PROBABILITY_DENSITY, NUMBER}"
   ]
  },
  {
   "cell_type": "code",
   "execution_count": 24,
   "metadata": {},
   "outputs": [
    {
     "data": {
      "text/html": [
       "<div id=\"grid-container_9ezQZNgEbt\" class=\"grid-container\" align=\"center\"> \n",
       "<div id=\"grid_9ezQZNgEbt\" class=\"grid\" align=\"center\"> \n",
       "<div id=\"graph_McVUUKJkiO\" class=\"graph\"></div> \n",
       "</div> \n",
       "</div> \n",
       "<script>\n",
       "var masonry = new Macy({\n",
       "    container: '#grid_9ezQZNgEbt',\n",
       "    debug: true,\n",
       "    mobileFirst: true,\n",
       "    columns: 1,\n",
       "    margin: {\n",
       "        x: 0,\n",
       "        y: 0\n",
       "    }\n",
       "  });\n",
       "\n",
       " var traces_McVUUKJkiO = [{\"name\":\"zdjzPJd855\",\"type\":\"histogram\",\"cumulative\":{\"enabled\":true},\"histnorm\":\"\",\"x\":[14.804982353630669,45.64434565815959,10.841370178315879,0.19267819250204932,10.782504896438978,23.854940267695255,39.85734075445366,46.86184540966636,35.34174441294161,27.324443564320582,18.75884491786203,32.23077223758043,46.38770097778787,8.59462802058486,1.1049007284086754,30.26342845653094,26.64917243258603,0.5265828060113831,6.175241814834415,8.972706580212503,24.912690688579573,26.62693712673215,35.23775662500333,5.018308547825578,6.27617561972359,48.897595536918885,37.964939698558354,45.42058583222,16.39818309863716,13.958797213296597,27.261373352419742,34.684082963172585,12.61902845153049,12.73633157696078,42.57091476747345,40.321816138467256,33.042982717247014,6.357261945350517,8.851389352344368,32.28108390103101,13.19606153683457,41.064516670743735,30.836228905644802,12.093866973841877,18.711904122956952,27.939228056954136,49.946652932343966,5.709637461301758,41.6485566583619,49.01071834186069,24.274610908043776,39.915672686956974,7.501908556188308,19.937538014118374,20.42586130312241,26.009731355934505,9.756903958307872,40.858984500206844,29.694183035941663,35.962208446940345,28.90554139213294,1.2450449710125377,40.03188687263072,25.689656644414555,3.2610742008036597,21.613719400700614,9.588399666127506,37.258832060353086,49.61070861947698,14.838192044948284,47.20785318352524,46.85017482116911,32.77447636744879,32.43235503253759,10.208263493809595,18.131921471725633,4.4758813007060025,26.68166631757441,30.008996989701565,21.330782629822647,23.58026432282278,7.77738514506709,21.72987450451189,36.7324087279794,31.71977172746894,6.215700076910602,24.75442244429581,27.604635244566627,40.59914976763046,14.639318126774025,7.431382762760391,41.60873239711248,39.86454379719439,30.02757262960314,0.5827723464805701,31.64869088034746,7.317784843864805,46.68212376656536,1.2933991152835278,26.805807358772366]}];\n",
       " var layout_McVUUKJkiO = {\"height\":550,\"width\":600,\"hovermode\":\"closest\",\"legend\":{\"orientation\":\"v\"},\"title\":{\"text\":\"Histogram - Cumulative\"},\"showlegend\":true};\n",
       " var config_McVUUKJkiO = {\"responsive\":true,\"scrollZoom\":true,\"displaylogo\":false};\n",
       " Plotly.newPlot(\"graph_McVUUKJkiO\", traces_McVUUKJkiO, layout_McVUUKJkiO, config_McVUUKJkiO);\n",
       "</script> \n"
      ]
     },
     "metadata": {},
     "output_type": "display_data"
    }
   ],
   "source": [
    "val series = XY(x) asType HISTOGRAM setHistOptions(histnorm = NUMBER, cumulative = Cumulative(enabled=true))\n",
    "\n",
    "val chart = Chart() addSeries series setTitle \"Histogram - Cumulative\"\n",
    "\n",
    "chart.plotInline"
   ]
  },
  {
   "cell_type": "markdown",
   "metadata": {},
   "source": [
    "#### Specifiying the Binning Function\n",
    "\n",
    "We can also specify the binning function for a histogram."
   ]
  },
  {
   "cell_type": "code",
   "execution_count": 25,
   "metadata": {},
   "outputs": [],
   "source": [
    "import org.carbonateresearch.picta.options.histogram.{COUNT, SUM, AVG, MIN, MAX, HistOptions}"
   ]
  },
  {
   "cell_type": "code",
   "execution_count": 26,
   "metadata": {},
   "outputs": [
    {
     "data": {
      "text/html": [
       "<div id=\"grid-container_iUUsrbMZOT\" class=\"grid-container\" align=\"center\"> \n",
       "<div id=\"grid_iUUsrbMZOT\" class=\"grid\" align=\"center\"> \n",
       "<div id=\"graph_VY6tzRMVxS\" class=\"graph\"></div> \n",
       "</div> \n",
       "</div> \n",
       "<script>\n",
       "var masonry = new Macy({\n",
       "    container: '#grid_iUUsrbMZOT',\n",
       "    debug: true,\n",
       "    mobileFirst: true,\n",
       "    columns: 1,\n",
       "    margin: {\n",
       "        x: 0,\n",
       "        y: 0\n",
       "    }\n",
       "  });\n",
       "\n",
       " var traces_VY6tzRMVxS = [{\"name\":\"KETxEkD4Ak\",\"type\":\"histogram\",\"histfunc\":\"count\",\"x\":[\"Apples\",\"Apples\",\"Apples\",\"Oranges\",\"Bananas\"],\"y\":[\"5\",\"10\",\"3\",\"10\",\"5\"]},{\"name\":\"Yc2nXgfDYA\",\"type\":\"histogram\",\"histfunc\":\"sum\",\"x\":[\"Apples\",\"Apples\",\"Apples\",\"Oranges\",\"Bananas\"],\"y\":[\"5\",\"10\",\"3\",\"10\",\"5\"]}];\n",
       " var layout_VY6tzRMVxS = {\"height\":550,\"width\":600,\"hovermode\":\"closest\",\"legend\":{\"orientation\":\"v\"},\"title\":{\"text\":\"Histogram - Specify Binning Function\"},\"showlegend\":true};\n",
       " var config_VY6tzRMVxS = {\"responsive\":true,\"scrollZoom\":true,\"displaylogo\":false};\n",
       " Plotly.newPlot(\"graph_VY6tzRMVxS\", traces_VY6tzRMVxS, layout_VY6tzRMVxS, config_VY6tzRMVxS);\n",
       "</script> \n"
      ]
     },
     "metadata": {},
     "output_type": "display_data"
    }
   ],
   "source": [
    "val x = List(\"Apples\", \"Apples\", \"Apples\", \"Oranges\", \"Bananas\")\n",
    "val y = List(\"5\", \"10\", \"3\", \"10\", \"5\")\n",
    "\n",
    "// we can also assign histOptions to a value and pass them to the setHistOptions method\n",
    "val ho1 = HistOptions(histfunc = COUNT)\n",
    "val ho2 = HistOptions(histfunc = SUM)\n",
    "    \n",
    "val t1 = XY(x = x, y = y) asType HISTOGRAM setHistOptions ho1\n",
    "val t2 = XY(x = x, y = y) asType HISTOGRAM setHistOptions ho2\n",
    "\n",
    "val chart = Chart() addSeries(t1, t2) setTitle \"Histogram - Specify Binning Function\"\n",
    "val canvas = Canvas() addCharts chart\n",
    "canvas.plotInline"
   ]
  },
  {
   "cell_type": "markdown",
   "metadata": {},
   "source": [
    "### 2D Histogram Contour"
   ]
  },
  {
   "cell_type": "code",
   "execution_count": 27,
   "metadata": {},
   "outputs": [
    {
     "data": {
      "text/html": [
       "<div id=\"grid-container_Z4tqjILR0W\" class=\"grid-container\" align=\"center\"> \n",
       "<div id=\"grid_Z4tqjILR0W\" class=\"grid\" align=\"center\"> \n",
       "<div id=\"graph_CDyG1lPD59\" class=\"graph\"></div> \n",
       "</div> \n",
       "</div> \n",
       "<script>\n",
       "var masonry = new Macy({\n",
       "    container: '#grid_Z4tqjILR0W',\n",
       "    debug: true,\n",
       "    mobileFirst: true,\n",
       "    columns: 1,\n",
       "    margin: {\n",
       "        x: 0,\n",
       "        y: 0\n",
       "    }\n",
       "  });\n",
       "\n",
       " var traces_CDyG1lPD59 = [{\"name\":\"0wsDZK9z81\",\"type\":\"histogram2dcontour\",\"mode\":\"markers\",\"x\":[1,2,3,4,5,6,7,8,9,10,11,12,13,14,15,16,17,18,19,20,21,22,23,24,25,26,27,28,29,30,31,32,33,34,35,36,37,38,39,40,41,42,43,44,45,46,47,48,49],\"y\":[11.57623847369208,99.36133699405387,7.977924438156833,79.9679999780286,55.503745777415624,71.5249910523245,38.293842343355095,101.81456478977393,66.74558121109695,17.887358460123018,62.74922354738833,42.02267888500144,101.41404144834449,71.61990542277894,101.17341466184169,55.99864985641756,97.58592219235902,19.827306416090323,53.63172552881478,93.43187751004251,27.890729927828723,94.89167179323215,26.544092544212283,48.24984678612565,123.33960776558102,122.31215401995613,118.9924847136026,111.64597910910078,86.25691024881547,127.10597665463648,75.21381077614873,109.3967158490275,34.10215304336745,63.04395742484283,91.01327101078047,37.20385497598631,80.52082659496648,56.82562477887231,134.1964327932048,55.942596347877846,65.1383636689655,52.75605163869945,102.10660088745131,72.46533150900565,89.41232809776646,102.56861184486573,92.96726010816552,111.00573028532311,102.28365796908444]}];\n",
       " var layout_CDyG1lPD59 = {\"height\":550,\"width\":600,\"hovermode\":\"closest\",\"legend\":{\"orientation\":\"v\"},\"title\":{\"text\":\"2D Histogram Contour\"},\"showlegend\":true};\n",
       " var config_CDyG1lPD59 = {\"responsive\":true,\"scrollZoom\":true,\"displaylogo\":false};\n",
       " Plotly.newPlot(\"graph_CDyG1lPD59\", traces_CDyG1lPD59, layout_CDyG1lPD59, config_CDyG1lPD59);\n",
       "</script> \n"
      ]
     },
     "metadata": {},
     "output_type": "display_data"
    }
   ],
   "source": [
    "val x = List.range(1, 50)\n",
    "val y = x.map(x => x + scala.util.Random.nextDouble()*100)\n",
    "\n",
    "val series = XY(x, y).asType(HISTOGRAM2DCONTOUR).drawMarkers\n",
    "\n",
    "val chart = (\n",
    "    Chart() addSeries series\n",
    "    setTitle \"2D Histogram Contour\"\n",
    ")\n",
    "\n",
    "chart.plotInline"
   ]
  },
  {
   "cell_type": "markdown",
   "metadata": {},
   "source": [
    "#### Adding additional axes\n",
    "\n",
    "As the above is a density plot, adding histograms can be useful too.\n",
    "\n",
    "We can add histograms as follows:"
   ]
  },
  {
   "cell_type": "code",
   "execution_count": 28,
   "metadata": {},
   "outputs": [],
   "source": [
    "// import the 2d Density histogram options\n",
    "import org.carbonateresearch.picta.options.histogram2d.Hist2dOptions"
   ]
  },
  {
   "cell_type": "code",
   "execution_count": 29,
   "metadata": {},
   "outputs": [
    {
     "data": {
      "text/html": [
       "<div id=\"grid-container_t4ntY7tN8O\" class=\"grid-container\" align=\"center\"> \n",
       "<div id=\"grid_t4ntY7tN8O\" class=\"grid\" align=\"center\"> \n",
       "<div id=\"graph_1CEaEuwyIM\" class=\"graph\"></div> \n",
       "</div> \n",
       "</div> \n",
       "<script>\n",
       "var masonry = new Macy({\n",
       "    container: '#grid_t4ntY7tN8O',\n",
       "    debug: true,\n",
       "    mobileFirst: true,\n",
       "    columns: 1,\n",
       "    margin: {\n",
       "        x: 0,\n",
       "        y: 0\n",
       "    }\n",
       "  });\n",
       "\n",
       " var traces_1CEaEuwyIM = [{\"name\":\"points\",\"type\":\"scatter\",\"mode\":\"markers\",\"marker\":{\"color\":\"rgb(102,0,0)\"},\"x\":[1,2,3,4,5,6,7,8,9,10,11,12,13,14,15,16,17,18,19,20,21,22,23,24,25,26,27,28,29,30,31,32,33,34,35,36,37,38,39,40,41,42,43,44,45,46,47,48,49],\"y\":[11.57623847369208,99.36133699405387,7.977924438156833,79.9679999780286,55.503745777415624,71.5249910523245,38.293842343355095,101.81456478977393,66.74558121109695,17.887358460123018,62.74922354738833,42.02267888500144,101.41404144834449,71.61990542277894,101.17341466184169,55.99864985641756,97.58592219235902,19.827306416090323,53.63172552881478,93.43187751004251,27.890729927828723,94.89167179323215,26.544092544212283,48.24984678612565,123.33960776558102,122.31215401995613,118.9924847136026,111.64597910910078,86.25691024881547,127.10597665463648,75.21381077614873,109.3967158490275,34.10215304336745,63.04395742484283,91.01327101078047,37.20385497598631,80.52082659496648,56.82562477887231,134.1964327932048,55.942596347877846,65.1383636689655,52.75605163869945,102.10660088745131,72.46533150900565,89.41232809776646,102.56861184486573,92.96726010816552,111.00573028532311,102.28365796908444]},{\"name\":\"density\",\"type\":\"histogram2dcontour\",\"ncontours\":20,\"reversescale\":false,\"showscale\":true,\"x\":[1,2,3,4,5,6,7,8,9,10,11,12,13,14,15,16,17,18,19,20,21,22,23,24,25,26,27,28,29,30,31,32,33,34,35,36,37,38,39,40,41,42,43,44,45,46,47,48,49],\"y\":[11.57623847369208,99.36133699405387,7.977924438156833,79.9679999780286,55.503745777415624,71.5249910523245,38.293842343355095,101.81456478977393,66.74558121109695,17.887358460123018,62.74922354738833,42.02267888500144,101.41404144834449,71.61990542277894,101.17341466184169,55.99864985641756,97.58592219235902,19.827306416090323,53.63172552881478,93.43187751004251,27.890729927828723,94.89167179323215,26.544092544212283,48.24984678612565,123.33960776558102,122.31215401995613,118.9924847136026,111.64597910910078,86.25691024881547,127.10597665463648,75.21381077614873,109.3967158490275,34.10215304336745,63.04395742484283,91.01327101078047,37.20385497598631,80.52082659496648,56.82562477887231,134.1964327932048,55.942596347877846,65.1383636689655,52.75605163869945,102.10660088745131,72.46533150900565,89.41232809776646,102.56861184486573,92.96726010816552,111.00573028532311,102.28365796908444]},{\"name\":\"histogram\",\"type\":\"histogram\",\"yaxis\":\"y2\",\"x\":[1,2,3,4,5,6,7,8,9,10,11,12,13,14,15,16,17,18,19,20,21,22,23,24,25,26,27,28,29,30,31,32,33,34,35,36,37,38,39,40,41,42,43,44,45,46,47,48,49]},{\"name\":\"y density\",\"type\":\"histogram\",\"xaxis\":\"x2\",\"marker\":{\"color\":\"rgb(102,0,0)\"},\"y\":[11.57623847369208,99.36133699405387,7.977924438156833,79.9679999780286,55.503745777415624,71.5249910523245,38.293842343355095,101.81456478977393,66.74558121109695,17.887358460123018,62.74922354738833,42.02267888500144,101.41404144834449,71.61990542277894,101.17341466184169,55.99864985641756,97.58592219235902,19.827306416090323,53.63172552881478,93.43187751004251,27.890729927828723,94.89167179323215,26.544092544212283,48.24984678612565,123.33960776558102,122.31215401995613,118.9924847136026,111.64597910910078,86.25691024881547,127.10597665463648,75.21381077614873,109.3967158490275,34.10215304336745,63.04395742484283,91.01327101078047,37.20385497598631,80.52082659496648,56.82562477887231,134.1964327932048,55.942596347877846,65.1383636689655,52.75605163869945,102.10660088745131,72.46533150900565,89.41232809776646,102.56861184486573,92.96726010816552,111.00573028532311,102.28365796908444]}];\n",
       " var layout_1CEaEuwyIM = {\"height\":550,\"width\":600,\"hovermode\":\"closest\",\"legend\":{\"orientation\":\"v\"},\"title\":{\"text\":\"Histogram2dContour With Density\"},\"showlegend\":false,\"autosize\":false,\"xaxis\":{\"showgrid\":false,\"zeroline\":false,\"showline\":false,\"domain\":[0,0.85]},\"yaxis\":{\"showgrid\":false,\"zeroline\":false,\"showline\":false,\"domain\":[0,0.85]},\"xaxis2\":{\"showgrid\":false,\"zeroline\":false,\"showline\":false,\"domain\":[0.85,1]},\"yaxis2\":{\"showgrid\":false,\"zeroline\":false,\"showline\":false,\"domain\":[0.85,1]}};\n",
       " var config_1CEaEuwyIM = {\"responsive\":true,\"scrollZoom\":true,\"displaylogo\":false};\n",
       " Plotly.newPlot(\"graph_1CEaEuwyIM\", traces_1CEaEuwyIM, layout_1CEaEuwyIM, config_1CEaEuwyIM);\n",
       "</script> \n"
      ]
     },
     "metadata": {},
     "output_type": "display_data"
    }
   ],
   "source": [
    "val marker = Marker() setColor \"rgb(102,0,0)\"\n",
    "\n",
    "val series1 = XY(x, y) \n",
    "            .asType(SCATTER)\n",
    "            .drawMarkers\n",
    "            .setName(\"points\")\n",
    "            .setMarker(marker)\n",
    "\n",
    "\n",
    "val hist2d_options = Hist2dOptions(ncontours = 20, reversescale = false, showscale = true)\n",
    "\n",
    "val series2 = XY(x, y) \n",
    "            .setName(\"density\")\n",
    "            .asType(HISTOGRAM2DCONTOUR)\n",
    "            .setHist2dOptions(hist2d_options)\n",
    "\n",
    "val series3 = XY(x = x)\n",
    "            .asType(HISTOGRAM)\n",
    "            .setName(\"histogram\")\n",
    "            .setAxes(XAxis(), YAxis(2))\n",
    "\n",
    "val series4 = (XY(y)\n",
    "            .setName(\"y density\")\n",
    "            .asType(HISTOGRAM)\n",
    "            .setAxis(XAxis(2))\n",
    "            .setMarker(marker)\n",
    "            .setHistOptions(HistOptions(orientation = HORIZONTAL)))\n",
    "\n",
    "val ax1 = XAxis(showgrid = false) setDomain(0.0, 0.85)\n",
    "val ax2 = YAxis(showgrid = false) setDomain(0.0, 0.85)\n",
    "val ax3 = XAxis(position = 2, showgrid = false) setDomain(0.85, 1.0)\n",
    "val ax4 = YAxis(position = 2, showgrid = false) setDomain(0.85, 1.0)\n",
    "\n",
    "val layout = (\n",
    "    ChartLayout(\"Histogram2dContour With Density\", autosize = false, showlegend = false) \n",
    "    setAxes(ax1, ax2, ax3, ax4)\n",
    ")\n",
    "\n",
    "val chart = Chart() addSeries(series1, series2, series3, series4) setChartLayout layout\n",
    "\n",
    "chart.plotInline"
   ]
  },
  {
   "cell_type": "markdown",
   "metadata": {},
   "source": [
    "### 3D Charts\n",
    "\n",
    "3D charts are constructed using a `XYZ` series as they take in 3 `Series`' to create a single point.\n",
    "\n",
    "The Picta API does not accept nested lists, however the underlying Plotlyjs render does. In order to render any series that will make use of a nested list, we must flatten and provide the length of an element (before the list was flattened).\n",
    "\n",
    "The following examples will make it clearer.\n",
    "\n",
    "#### Contour"
   ]
  },
  {
   "cell_type": "code",
   "execution_count": 30,
   "metadata": {},
   "outputs": [],
   "source": [
    "// lets create some dummy adata for the third dimension\n",
    "val x = List(-9, -6, -5 , -3, -1)\n",
    "val y = List(0, 1, 4, 5, 7)\n",
    "val z = List(\n",
    "    List(10, 10.625, 12.5, 15.625, 20),\n",
    "    List(5.625, 6.25, 8.125, 11.25, 15.625),\n",
    "    List(2.5, 3.125, 5.0, 8.125, 12.5),\n",
    "    List(0.625, 1.25, 3.125, 6.25, 10.625),\n",
    "    List(0, 0.625, 2.5, 5.625, 10)\n",
    ")"
   ]
  },
  {
   "cell_type": "code",
   "execution_count": 31,
   "metadata": {},
   "outputs": [
    {
     "data": {
      "text/html": [
       "<div id=\"grid-container_onK7vuLlu9\" class=\"grid-container\" align=\"center\"> \n",
       "<div id=\"grid_onK7vuLlu9\" class=\"grid\" align=\"center\"> \n",
       "<div id=\"graph_AysgwbDpzK\" class=\"graph\"></div> \n",
       "</div> \n",
       "</div> \n",
       "<script>\n",
       "var masonry = new Macy({\n",
       "    container: '#grid_onK7vuLlu9',\n",
       "    debug: true,\n",
       "    mobileFirst: true,\n",
       "    columns: 1,\n",
       "    margin: {\n",
       "        x: 0,\n",
       "        y: 0\n",
       "    }\n",
       "  });\n",
       "\n",
       " var traces_AysgwbDpzK = [{\"name\":\"SOPZ68pCfN\",\"type\":\"contour\",\"x\":[-9,-6,-5,-3,-1],\"y\":[0,1,4,5,7],\"z\":[[10,10.625,12.5,15.625,20],[5.625,6.25,8.125,11.25,15.625],[2.5,3.125,5,8.125,12.5],[0.625,1.25,3.125,6.25,10.625],[0,0.625,2.5,5.625,10]]}];\n",
       " var layout_AysgwbDpzK = {\"height\":550,\"width\":600,\"hovermode\":\"closest\",\"legend\":{\"orientation\":\"v\"},\"title\":{\"text\":\"Contour\"},\"showlegend\":true};\n",
       " var config_AysgwbDpzK = {\"responsive\":true,\"scrollZoom\":true,\"displaylogo\":false};\n",
       " Plotly.newPlot(\"graph_AysgwbDpzK\", traces_AysgwbDpzK, layout_AysgwbDpzK, config_AysgwbDpzK);\n",
       "</script> \n"
      ]
     },
     "metadata": {},
     "output_type": "display_data"
    }
   ],
   "source": [
    "// we flatten the nested list as we pass it into the Series constructor\n",
    "val series = XYZ(x=x, y=y, z=z.flatten, n=z(0).length).asType(CONTOUR)\n",
    "\n",
    "// set up the chart\n",
    "val chart = Chart()\n",
    "            .addSeries(series)\n",
    "            .setTitle(\"Contour\")\n",
    "\n",
    "// plot the chart\n",
    "chart.plotInline"
   ]
  },
  {
   "cell_type": "markdown",
   "metadata": {},
   "source": [
    "#### Heatmap"
   ]
  },
  {
   "cell_type": "code",
   "execution_count": 32,
   "metadata": {
    "scrolled": false
   },
   "outputs": [],
   "source": [
    "// create a new nested list for the heatmap\n",
    "val z = List.range(1, 101).map(e => e + scala.util.Random.nextDouble()*100).grouped(10).toList"
   ]
  },
  {
   "cell_type": "code",
   "execution_count": 33,
   "metadata": {},
   "outputs": [
    {
     "data": {
      "text/html": [
       "<div id=\"grid-container_7OLZdGDoWl\" class=\"grid-container\" align=\"center\"> \n",
       "<div id=\"grid_7OLZdGDoWl\" class=\"grid\" align=\"center\"> \n",
       "<div id=\"graph_VBRZnLP232\" class=\"graph\"></div> \n",
       "</div> \n",
       "</div> \n",
       "<script>\n",
       "var masonry = new Macy({\n",
       "    container: '#grid_7OLZdGDoWl',\n",
       "    debug: true,\n",
       "    mobileFirst: true,\n",
       "    columns: 1,\n",
       "    margin: {\n",
       "        x: 0,\n",
       "        y: 0\n",
       "    }\n",
       "  });\n",
       "\n",
       " var traces_VBRZnLP232 = [{\"name\":\"WWclxlRKeG\",\"type\":\"heatmap\",\"z\":[[82.38870330114791,74.27484351572235,65.74823444678366,29.431102018457942,29.71932849338394,18.253877864867402,83.6834158792026,75.70339975633203,15.305787471736135,68.76673229020628],[65.72257246383325,36.76619852340849,85.65001048456809,111.44349297479151,90.6051926750228,40.95215411366078,78.76928346442052,77.98304021701175,60.19161050464095,63.13559953955127],[62.92022595402416,39.25781037747062,67.45890057860396,27.547866274804846,83.21125318530233,121.29200646730669,122.1121554736767,55.568390662686106,68.6090400107282,71.25244750221677],[59.998255969061375,47.20309828894632,115.61402521868494,46.392188068967535,121.59134014239012,38.57493713447682,44.27448137065686,85.31273095329034,109.52611672427845,121.9896604911176],[117.22825880837219,47.96145031727128,125.48730511708887,50.00322622930588,123.10582153007209,78.4566364825447,142.72040619983238,70.40552624190887,51.89770322281555,53.13337183323815],[92.01113618506406,55.148374177947034,131.78409687783773,125.12917172354594,126.18781783617393,92.9839799700485,154.44376484394417,66.3791682741216,81.03310837716802,112.94345462480723],[89.00401160484063,138.066359522109,68.94841450340881,93.77312291831716,73.56302151413058,91.37323758295514,125.79643597907418,93.05972552174761,77.61033132891103,111.80689960445022],[81.05427580857477,99.01388073729565,148.69079722618386,172.42049411158789,136.7415895151792,167.74442859157023,92.30191944941798,153.92969100481395,121.54529331865822,159.34460528991062],[85.2839225347201,123.02358928871209,133.1443543504611,127.22423602900585,89.85651646417965,134.09528777836695,93.94525574837432,146.86042300691685,117.97581985083414,134.16813922865643],[123.27071950140164,92.50252378769616,93.82940010676124,105.96943391337292,172.50133524182473,183.35544078273176,176.05701292139003,179.90411283180305,178.75174820448714,124.37855431664443]]}];\n",
       " var layout_VBRZnLP232 = {\"height\":550,\"width\":600,\"hovermode\":\"closest\",\"legend\":{\"orientation\":\"v\"},\"title\":{\"text\":\"Heatmap\"},\"showlegend\":true};\n",
       " var config_VBRZnLP232 = {\"responsive\":true,\"scrollZoom\":true,\"displaylogo\":false};\n",
       " Plotly.newPlot(\"graph_VBRZnLP232\", traces_VBRZnLP232, layout_VBRZnLP232, config_VBRZnLP232);\n",
       "</script> \n"
      ]
     },
     "metadata": {},
     "output_type": "display_data"
    }
   ],
   "source": [
    "// we get the length of an element of the nested list\n",
    "val n = z(0).length\n",
    "\n",
    "// we now flatten the list and pass it into Series constructor, as well as 'n', the length of an element so that the \n",
    "// heatmap dimensions are correctly constructed\n",
    "val series = XYZ(z=z.flatten, n=n) asType HEATMAP\n",
    "\n",
    "val chart = Chart() addSeries series setTitle \"Heatmap\"\n",
    "\n",
    "chart.plotInline"
   ]
  },
  {
   "cell_type": "markdown",
   "metadata": {},
   "source": [
    "#### Scatter3D"
   ]
  },
  {
   "cell_type": "code",
   "execution_count": 34,
   "metadata": {
    "scrolled": false
   },
   "outputs": [
    {
     "data": {
      "text/html": [
       "<div id=\"grid-container_MLcQD9RGVi\" class=\"grid-container\" align=\"center\"> \n",
       "<div id=\"grid_MLcQD9RGVi\" class=\"grid\" align=\"center\"> \n",
       "<div id=\"graph_NikVP4dtyf\" class=\"graph\"></div> \n",
       "</div> \n",
       "</div> \n",
       "<script>\n",
       "var masonry = new Macy({\n",
       "    container: '#grid_MLcQD9RGVi',\n",
       "    debug: true,\n",
       "    mobileFirst: true,\n",
       "    columns: 1,\n",
       "    margin: {\n",
       "        x: 0,\n",
       "        y: 0\n",
       "    }\n",
       "  });\n",
       "\n",
       " var traces_NikVP4dtyf = [{\"name\":\"cj7n0QQ2yg\",\"type\":\"scatter3d\",\"mode\":\"markers\",\"x\":[1,2,3,4,5,6,7,8,9,10,11,12,13,14,15,16,17,18,19,20,21,22,23,24,25,26,27,28,29,30,31,32,33,34,35,36,37,38,39,40,41,42,43,44,45,46,47,48,49,50,51,52,53,54,55,56,57,58,59,60,61,62,63,64,65,66,67,68,69,70,71,72,73,74,75,76,77,78,79,80,81,82,83,84,85,86,87,88,89,90,91,92,93,94,95,96,97,98,99],\"y\":[1,2,3,4,5,6,7,8,9,10,11,12,13,14,15,16,17,18,19,20,21,22,23,24,25,26,27,28,29,30,31,32,33,34,35,36,37,38,39,40,41,42,43,44,45,46,47,48,49,50,51,52,53,54,55,56,57,58,59,60,61,62,63,64,65,66,67,68,69,70,71,72,73,74,75,76,77,78,79,80,81,82,83,84,85,86,87,88,89,90,91,92,93,94,95,96,97,98,99],\"z\":[83.23643926306738,44.7815778334214,54.77284153466603,57.70499166734213,91.82201093473185,68.46642890698752,73.79203856311717,34.90646060779109,93.01771250473783,76.23438471851911,87.44098379176904,56.88722246739698,19.933577245811595,68.57752746535206,102.71308129741634,33.38342511460246,21.15908993110392,104.78586229817503,58.823141284474815,97.1030554175206,22.84638644516767,98.39254957788295,82.46516634988974,109.48175431161462,61.72285001323079,39.55516164780549,27.654663443231872,84.19043936760323,126.6216871021764,117.72812394257757,91.50374131220129,71.52517772718694,51.29468061463911,111.43843370586193,60.265546628974036,110.57940125646161,47.07224292887189,71.05883284331415,93.597865700569,135.49296041667782,50.361578268799306,45.17963438822243,99.23400545923695,117.09213709543295,87.02461217207076,91.51243325050226,85.1123375044578,131.8792218505784,123.35305594562031,69.21595049355281,101.50417808926348,76.59980438941497,81.6588380209893,131.1163095512552,101.79298511028074,88.51047995341727,147.423825710042,121.50105252365425,157.2960492428949,88.98912684506931,84.50363913368871,137.99827034204975,158.8832711660469,141.27458497359822,105.05603960186704,134.50921402233803,126.13574966637978,101.89192407855074,111.66525085297383,126.24480804983315,123.4003121120562,149.7141590630311,140.55926184546354,107.6234998315542,151.3343284658842,96.63073454195128,86.86803527234522,109.11995989157474,142.39843982701134,119.43764440689912,85.54624305248757,100.11108447499859,139.2431473160807,103.83359595204709,154.8849786851335,91.34789564374529,176.04844860272465,158.30112570131172,183.46267474166297,102.88887550077655,114.61401013693458,138.17116559664026,155.93620873351878,141.16234167445697,109.36063974068682,118.31401417296777,168.24900452452263,172.2825231099156,188.39213624787243]}];\n",
       " var layout_NikVP4dtyf = {\"height\":550,\"width\":600,\"hovermode\":\"closest\",\"legend\":{\"orientation\":\"v\"},\"title\":{\"text\":\"XYZ.Scatter3D\"},\"showlegend\":true};\n",
       " var config_NikVP4dtyf = {\"responsive\":false,\"scrollZoom\":false,\"displaylogo\":false};\n",
       " Plotly.newPlot(\"graph_NikVP4dtyf\", traces_NikVP4dtyf, layout_NikVP4dtyf, config_NikVP4dtyf);\n",
       "</script> \n"
      ]
     },
     "metadata": {},
     "output_type": "display_data"
    }
   ],
   "source": [
    "val x = List.range(1, 100)\n",
    "val y = List.range(1, 100)\n",
    "val z = List.range(1, 100).map(e => e + scala.util.Random.nextDouble()*100)\n",
    "\n",
    "val series = XYZ(x, y, z) asType SCATTER3D drawStyle MARKERS\n",
    "val chart1 = Chart() addSeries series setTitle \"XYZ.Scatter3D\" setConfig(false, false)\n",
    "val canvas = Canvas() addCharts chart1\n",
    "canvas.plotInline"
   ]
  },
  {
   "cell_type": "markdown",
   "metadata": {},
   "source": [
    "#### Surface Plot"
   ]
  },
  {
   "cell_type": "code",
   "execution_count": 35,
   "metadata": {
    "scrolled": false
   },
   "outputs": [
    {
     "data": {
      "text/html": [
       "<div id=\"grid-container_RL7Uvrb5P0\" class=\"grid-container\" align=\"center\"> \n",
       "<div id=\"grid_RL7Uvrb5P0\" class=\"grid\" align=\"center\"> \n",
       "<div id=\"graph_7xo2NrArID\" class=\"graph\"></div> \n",
       "</div> \n",
       "</div> \n",
       "<script>\n",
       "var masonry = new Macy({\n",
       "    container: '#grid_RL7Uvrb5P0',\n",
       "    debug: true,\n",
       "    mobileFirst: true,\n",
       "    columns: 1,\n",
       "    margin: {\n",
       "        x: 0,\n",
       "        y: 0\n",
       "    }\n",
       "  });\n",
       "\n",
       " var traces_7xo2NrArID = [{\"name\":\"CbtLm4E0uZ\",\"type\":\"surface\",\"z\":[[8.83,8.89,8.81,8.87,8.9,8.87],[8.89,8.94,8.85,8.94,8.96,8.92],[8.84,8.9,8.82,8.92,8.93,8.91],[8.79,8.85,8.79,8.9,8.94,8.92],[8.79,8.88,8.81,8.9,8.95,8.92],[8.8,8.82,8.78,8.91,8.94,8.92],[8.75,8.78,8.77,8.91,8.95,8.92],[8.8,8.8,8.77,8.91,8.95,8.94],[8.74,8.81,8.76,8.93,8.98,8.99],[8.89,8.99,8.92,9.1,9.13,9.11],[8.97,8.97,8.91,9.09,9.11,9.11],[9.04,9.08,9.05,9.25,9.28,9.27],[9,9.01,9,9.2,9.23,9.2],[8.99,8.99,8.98,9.18,9.2,9.19],[8.93,8.97,8.97,9.18,9.2,9.18]]}];\n",
       " var layout_7xo2NrArID = {\"height\":550,\"width\":600,\"hovermode\":\"closest\",\"legend\":{\"orientation\":\"v\"},\"title\":{\"text\":\"Surface\"},\"showlegend\":true};\n",
       " var config_7xo2NrArID = {\"responsive\":true,\"scrollZoom\":true,\"displaylogo\":false};\n",
       " Plotly.newPlot(\"graph_7xo2NrArID\", traces_7xo2NrArID, layout_7xo2NrArID, config_7xo2NrArID);\n",
       "</script> \n"
      ]
     },
     "metadata": {},
     "output_type": "display_data"
    }
   ],
   "source": [
    "// 3d surface plot\n",
    "val k = List(\n",
    "    List(8.83,8.89,8.81,8.87,8.9,8.87),\n",
    "    List(8.89,8.94,8.85,8.94,8.96,8.92),\n",
    "    List(8.84,8.9,8.82,8.92,8.93,8.91),\n",
    "    List(8.79,8.85,8.79,8.9,8.94,8.92),\n",
    "    List(8.79,8.88,8.81,8.9,8.95,8.92),\n",
    "    List(8.8,8.82,8.78,8.91,8.94,8.92),\n",
    "    List(8.75,8.78,8.77,8.91,8.95,8.92),\n",
    "    List(8.8,8.8,8.77,8.91,8.95,8.94),\n",
    "    List(8.74,8.81,8.76,8.93,8.98,8.99),\n",
    "    List(8.89,8.99,8.92,9.1,9.13,9.11),\n",
    "    List(8.97,8.97,8.91,9.09,9.11,9.11),\n",
    "    List(9.04,9.08,9.05,9.25,9.28,9.27),\n",
    "    List(9,9.01,9,9.2,9.23,9.2),\n",
    "    List(8.99,8.99,8.98,9.18,9.2,9.19),\n",
    "    List(8.93,8.97,8.97,9.18,9.2,9.18)\n",
    "  )\n",
    "\n",
    "val series = XYZ(z=k.flatten, n = k(0).length) asType SURFACE\n",
    "val chart2 = Chart() addSeries series setTitle \"Surface\"\n",
    "\n",
    "chart2.plotInline"
   ]
  },
  {
   "cell_type": "markdown",
   "metadata": {
    "scrolled": false
   },
   "source": [
    "#### Third Dimension as Color"
   ]
  },
  {
   "cell_type": "code",
   "execution_count": 36,
   "metadata": {},
   "outputs": [
    {
     "data": {
      "text/html": [
       "<div id=\"grid-container_MIz52ZbvJc\" class=\"grid-container\" align=\"center\"> \n",
       "<div id=\"grid_MIz52ZbvJc\" class=\"grid\" align=\"center\"> \n",
       "<div id=\"graph_nGIUuCYLEk\" class=\"graph\"></div> \n",
       "</div> \n",
       "</div> \n",
       "<script>\n",
       "var masonry = new Macy({\n",
       "    container: '#grid_MIz52ZbvJc',\n",
       "    debug: true,\n",
       "    mobileFirst: true,\n",
       "    columns: 1,\n",
       "    margin: {\n",
       "        x: 0,\n",
       "        y: 0\n",
       "    }\n",
       "  });\n",
       "\n",
       " var traces_nGIUuCYLEk = [{\"name\":\"NrYj4I9Xy0\",\"type\":\"scatter\",\"mode\":\"markers\",\"marker\":{\"color\":[83.23643926306738,44.7815778334214,54.77284153466603,57.70499166734213,91.82201093473185,68.46642890698752,73.79203856311717,34.90646060779109,93.01771250473783,76.23438471851911,87.44098379176904,56.88722246739698,19.933577245811595,68.57752746535206,102.71308129741634,33.38342511460246,21.15908993110392,104.78586229817503,58.823141284474815,97.1030554175206,22.84638644516767,98.39254957788295,82.46516634988974,109.48175431161462,61.72285001323079,39.55516164780549,27.654663443231872,84.19043936760323,126.6216871021764,117.72812394257757,91.50374131220129,71.52517772718694,51.29468061463911,111.43843370586193,60.265546628974036,110.57940125646161,47.07224292887189,71.05883284331415,93.597865700569,135.49296041667782,50.361578268799306,45.17963438822243,99.23400545923695,117.09213709543295,87.02461217207076,91.51243325050226,85.1123375044578,131.8792218505784,123.35305594562031,69.21595049355281,101.50417808926348,76.59980438941497,81.6588380209893,131.1163095512552,101.79298511028074,88.51047995341727,147.423825710042,121.50105252365425,157.2960492428949,88.98912684506931,84.50363913368871,137.99827034204975,158.8832711660469,141.27458497359822,105.05603960186704,134.50921402233803,126.13574966637978,101.89192407855074,111.66525085297383,126.24480804983315,123.4003121120562,149.7141590630311,140.55926184546354,107.6234998315542,151.3343284658842,96.63073454195128,86.86803527234522,109.11995989157474,142.39843982701134,119.43764440689912,85.54624305248757,100.11108447499859,139.2431473160807,103.83359595204709,154.8849786851335,91.34789564374529,176.04844860272465,158.30112570131172,183.46267474166297,102.88887550077655,114.61401013693458,138.17116559664026,155.93620873351878,141.16234167445697,109.36063974068682,118.31401417296777,168.24900452452263,172.2825231099156,188.39213624787243]},\"x\":[1,2,3,4,5,6,7,8,9,10,11,12,13,14,15,16,17,18,19,20,21,22,23,24,25,26,27,28,29,30,31,32,33,34,35,36,37,38,39,40,41,42,43,44,45,46,47,48,49,50,51,52,53,54,55,56,57,58,59,60,61,62,63,64,65,66,67,68,69,70,71,72,73,74,75,76,77,78,79,80,81,82,83,84,85,86,87,88,89,90,91,92,93,94,95,96,97,98,99],\"y\":[1,2,3,4,5,6,7,8,9,10,11,12,13,14,15,16,17,18,19,20,21,22,23,24,25,26,27,28,29,30,31,32,33,34,35,36,37,38,39,40,41,42,43,44,45,46,47,48,49,50,51,52,53,54,55,56,57,58,59,60,61,62,63,64,65,66,67,68,69,70,71,72,73,74,75,76,77,78,79,80,81,82,83,84,85,86,87,88,89,90,91,92,93,94,95,96,97,98,99]}];\n",
       " var layout_nGIUuCYLEk = {\"height\":550,\"width\":600,\"hovermode\":\"closest\",\"legend\":{\"orientation\":\"v\"},\"title\":{\"text\":\"ScatterWithColor\"},\"showlegend\":true};\n",
       " var config_nGIUuCYLEk = {\"responsive\":true,\"scrollZoom\":true,\"displaylogo\":false};\n",
       " Plotly.newPlot(\"graph_nGIUuCYLEk\", traces_nGIUuCYLEk, layout_nGIUuCYLEk, config_nGIUuCYLEk);\n",
       "</script> \n"
      ]
     },
     "metadata": {},
     "output_type": "display_data"
    }
   ],
   "source": [
    "// multiple compositions can be used to create scatter charts with a color representing some third dimension\n",
    "val marker = Marker() setColor z\n",
    "val series = XY(x, y) asType SCATTER drawStyle MARKERS setMarker marker\n",
    "val chart3 = Chart() addSeries series setTitle \"ScatterWithColor\"\n",
    "chart3.plotInline"
   ]
  },
  {
   "cell_type": "markdown",
   "metadata": {},
   "source": [
    "#### Subplot\n",
    "\n",
    "The Subplot class can be used to generate subplots for an XYZ plots just as we did previously."
   ]
  },
  {
   "cell_type": "code",
   "execution_count": 37,
   "metadata": {},
   "outputs": [
    {
     "data": {
      "text/html": [
       "<div id=\"grid-container_fEAUokla9K\" class=\"grid-container\" align=\"center\"> \n",
       "<div id=\"grid_fEAUokla9K\" class=\"grid\" align=\"center\"> \n",
       "<div id=\"graph_V4FCwpinc9\" class=\"graph\"></div> \n",
       "<div id=\"graph_yuC8NmJSb3\" class=\"graph\"></div> \n",
       "<div id=\"graph_bcBJoVt95O\" class=\"graph\"></div> \n",
       "<div id=\"graph_WGEeqE8UEu\" class=\"graph\"></div> \n",
       "</div> \n",
       "</div> \n",
       "\n",
       "<div align=\"center\">\n",
       "<button id = \"saveAsPNG_fEAUokla9K\" class=\"picta-button\">Download Canvas as PNG</button>\n",
       "</div>\n",
       "<script>\n",
       "var masonry = new Macy({\n",
       "    container: '#grid_fEAUokla9K',\n",
       "    debug: true,\n",
       "    mobileFirst: true,\n",
       "    columns: 2,\n",
       "    margin: {\n",
       "        x: 0,\n",
       "        y: 0\n",
       "    }\n",
       "  });\n",
       "\n",
       " var traces_V4FCwpinc9 = [{\"name\":\"cj7n0QQ2yg\",\"type\":\"scatter3d\",\"mode\":\"markers\",\"x\":[1,2,3,4,5,6,7,8,9,10,11,12,13,14,15,16,17,18,19,20,21,22,23,24,25,26,27,28,29,30,31,32,33,34,35,36,37,38,39,40,41,42,43,44,45,46,47,48,49,50,51,52,53,54,55,56,57,58,59,60,61,62,63,64,65,66,67,68,69,70,71,72,73,74,75,76,77,78,79,80,81,82,83,84,85,86,87,88,89,90,91,92,93,94,95,96,97,98,99],\"y\":[1,2,3,4,5,6,7,8,9,10,11,12,13,14,15,16,17,18,19,20,21,22,23,24,25,26,27,28,29,30,31,32,33,34,35,36,37,38,39,40,41,42,43,44,45,46,47,48,49,50,51,52,53,54,55,56,57,58,59,60,61,62,63,64,65,66,67,68,69,70,71,72,73,74,75,76,77,78,79,80,81,82,83,84,85,86,87,88,89,90,91,92,93,94,95,96,97,98,99],\"z\":[83.23643926306738,44.7815778334214,54.77284153466603,57.70499166734213,91.82201093473185,68.46642890698752,73.79203856311717,34.90646060779109,93.01771250473783,76.23438471851911,87.44098379176904,56.88722246739698,19.933577245811595,68.57752746535206,102.71308129741634,33.38342511460246,21.15908993110392,104.78586229817503,58.823141284474815,97.1030554175206,22.84638644516767,98.39254957788295,82.46516634988974,109.48175431161462,61.72285001323079,39.55516164780549,27.654663443231872,84.19043936760323,126.6216871021764,117.72812394257757,91.50374131220129,71.52517772718694,51.29468061463911,111.43843370586193,60.265546628974036,110.57940125646161,47.07224292887189,71.05883284331415,93.597865700569,135.49296041667782,50.361578268799306,45.17963438822243,99.23400545923695,117.09213709543295,87.02461217207076,91.51243325050226,85.1123375044578,131.8792218505784,123.35305594562031,69.21595049355281,101.50417808926348,76.59980438941497,81.6588380209893,131.1163095512552,101.79298511028074,88.51047995341727,147.423825710042,121.50105252365425,157.2960492428949,88.98912684506931,84.50363913368871,137.99827034204975,158.8832711660469,141.27458497359822,105.05603960186704,134.50921402233803,126.13574966637978,101.89192407855074,111.66525085297383,126.24480804983315,123.4003121120562,149.7141590630311,140.55926184546354,107.6234998315542,151.3343284658842,96.63073454195128,86.86803527234522,109.11995989157474,142.39843982701134,119.43764440689912,85.54624305248757,100.11108447499859,139.2431473160807,103.83359595204709,154.8849786851335,91.34789564374529,176.04844860272465,158.30112570131172,183.46267474166297,102.88887550077655,114.61401013693458,138.17116559664026,155.93620873351878,141.16234167445697,109.36063974068682,118.31401417296777,168.24900452452263,172.2825231099156,188.39213624787243]}];\n",
       " var layout_V4FCwpinc9 = {\"height\":350,\"width\":350,\"hovermode\":\"closest\",\"legend\":{\"orientation\":\"v\"},\"title\":{\"text\":\"XYZ.Scatter3D\"},\"showlegend\":true,\"margin\":{\"l\":50,\"r\":50,\"t\":50,\"b\":50}};\n",
       " var config_V4FCwpinc9 = {\"responsive\":false,\"scrollZoom\":false,\"displaylogo\":false};\n",
       " Plotly.newPlot(\"graph_V4FCwpinc9\", traces_V4FCwpinc9, layout_V4FCwpinc9, config_V4FCwpinc9);\n",
       "\n",
       " var traces_yuC8NmJSb3 = [{\"name\":\"CbtLm4E0uZ\",\"type\":\"surface\",\"z\":[[8.83,8.89,8.81,8.87,8.9,8.87],[8.89,8.94,8.85,8.94,8.96,8.92],[8.84,8.9,8.82,8.92,8.93,8.91],[8.79,8.85,8.79,8.9,8.94,8.92],[8.79,8.88,8.81,8.9,8.95,8.92],[8.8,8.82,8.78,8.91,8.94,8.92],[8.75,8.78,8.77,8.91,8.95,8.92],[8.8,8.8,8.77,8.91,8.95,8.94],[8.74,8.81,8.76,8.93,8.98,8.99],[8.89,8.99,8.92,9.1,9.13,9.11],[8.97,8.97,8.91,9.09,9.11,9.11],[9.04,9.08,9.05,9.25,9.28,9.27],[9,9.01,9,9.2,9.23,9.2],[8.99,8.99,8.98,9.18,9.2,9.19],[8.93,8.97,8.97,9.18,9.2,9.18]]}];\n",
       " var layout_yuC8NmJSb3 = {\"height\":350,\"width\":350,\"hovermode\":\"closest\",\"legend\":{\"orientation\":\"v\"},\"title\":{\"text\":\"Surface\"},\"showlegend\":true,\"margin\":{\"l\":50,\"r\":50,\"t\":50,\"b\":50}};\n",
       " var config_yuC8NmJSb3 = {\"responsive\":true,\"scrollZoom\":true,\"displaylogo\":false};\n",
       " Plotly.newPlot(\"graph_yuC8NmJSb3\", traces_yuC8NmJSb3, layout_yuC8NmJSb3, config_yuC8NmJSb3);\n",
       "\n",
       " var traces_bcBJoVt95O = [{\"name\":\"NrYj4I9Xy0\",\"type\":\"scatter\",\"mode\":\"markers\",\"marker\":{\"color\":[83.23643926306738,44.7815778334214,54.77284153466603,57.70499166734213,91.82201093473185,68.46642890698752,73.79203856311717,34.90646060779109,93.01771250473783,76.23438471851911,87.44098379176904,56.88722246739698,19.933577245811595,68.57752746535206,102.71308129741634,33.38342511460246,21.15908993110392,104.78586229817503,58.823141284474815,97.1030554175206,22.84638644516767,98.39254957788295,82.46516634988974,109.48175431161462,61.72285001323079,39.55516164780549,27.654663443231872,84.19043936760323,126.6216871021764,117.72812394257757,91.50374131220129,71.52517772718694,51.29468061463911,111.43843370586193,60.265546628974036,110.57940125646161,47.07224292887189,71.05883284331415,93.597865700569,135.49296041667782,50.361578268799306,45.17963438822243,99.23400545923695,117.09213709543295,87.02461217207076,91.51243325050226,85.1123375044578,131.8792218505784,123.35305594562031,69.21595049355281,101.50417808926348,76.59980438941497,81.6588380209893,131.1163095512552,101.79298511028074,88.51047995341727,147.423825710042,121.50105252365425,157.2960492428949,88.98912684506931,84.50363913368871,137.99827034204975,158.8832711660469,141.27458497359822,105.05603960186704,134.50921402233803,126.13574966637978,101.89192407855074,111.66525085297383,126.24480804983315,123.4003121120562,149.7141590630311,140.55926184546354,107.6234998315542,151.3343284658842,96.63073454195128,86.86803527234522,109.11995989157474,142.39843982701134,119.43764440689912,85.54624305248757,100.11108447499859,139.2431473160807,103.83359595204709,154.8849786851335,91.34789564374529,176.04844860272465,158.30112570131172,183.46267474166297,102.88887550077655,114.61401013693458,138.17116559664026,155.93620873351878,141.16234167445697,109.36063974068682,118.31401417296777,168.24900452452263,172.2825231099156,188.39213624787243]},\"x\":[1,2,3,4,5,6,7,8,9,10,11,12,13,14,15,16,17,18,19,20,21,22,23,24,25,26,27,28,29,30,31,32,33,34,35,36,37,38,39,40,41,42,43,44,45,46,47,48,49,50,51,52,53,54,55,56,57,58,59,60,61,62,63,64,65,66,67,68,69,70,71,72,73,74,75,76,77,78,79,80,81,82,83,84,85,86,87,88,89,90,91,92,93,94,95,96,97,98,99],\"y\":[1,2,3,4,5,6,7,8,9,10,11,12,13,14,15,16,17,18,19,20,21,22,23,24,25,26,27,28,29,30,31,32,33,34,35,36,37,38,39,40,41,42,43,44,45,46,47,48,49,50,51,52,53,54,55,56,57,58,59,60,61,62,63,64,65,66,67,68,69,70,71,72,73,74,75,76,77,78,79,80,81,82,83,84,85,86,87,88,89,90,91,92,93,94,95,96,97,98,99]}];\n",
       " var layout_bcBJoVt95O = {\"height\":350,\"width\":350,\"hovermode\":\"closest\",\"legend\":{\"orientation\":\"v\"},\"title\":{\"text\":\"ScatterWithColor\"},\"showlegend\":true,\"margin\":{\"l\":50,\"r\":50,\"t\":50,\"b\":50}};\n",
       " var config_bcBJoVt95O = {\"responsive\":true,\"scrollZoom\":true,\"displaylogo\":false};\n",
       " Plotly.newPlot(\"graph_bcBJoVt95O\", traces_bcBJoVt95O, layout_bcBJoVt95O, config_bcBJoVt95O);\n",
       "\n",
       " var traces_WGEeqE8UEu = [{\"name\":\"WWclxlRKeG\",\"type\":\"heatmap\",\"z\":[[82.38870330114791,74.27484351572235,65.74823444678366,29.431102018457942,29.71932849338394,18.253877864867402,83.6834158792026,75.70339975633203,15.305787471736135,68.76673229020628],[65.72257246383325,36.76619852340849,85.65001048456809,111.44349297479151,90.6051926750228,40.95215411366078,78.76928346442052,77.98304021701175,60.19161050464095,63.13559953955127],[62.92022595402416,39.25781037747062,67.45890057860396,27.547866274804846,83.21125318530233,121.29200646730669,122.1121554736767,55.568390662686106,68.6090400107282,71.25244750221677],[59.998255969061375,47.20309828894632,115.61402521868494,46.392188068967535,121.59134014239012,38.57493713447682,44.27448137065686,85.31273095329034,109.52611672427845,121.9896604911176],[117.22825880837219,47.96145031727128,125.48730511708887,50.00322622930588,123.10582153007209,78.4566364825447,142.72040619983238,70.40552624190887,51.89770322281555,53.13337183323815],[92.01113618506406,55.148374177947034,131.78409687783773,125.12917172354594,126.18781783617393,92.9839799700485,154.44376484394417,66.3791682741216,81.03310837716802,112.94345462480723],[89.00401160484063,138.066359522109,68.94841450340881,93.77312291831716,73.56302151413058,91.37323758295514,125.79643597907418,93.05972552174761,77.61033132891103,111.80689960445022],[81.05427580857477,99.01388073729565,148.69079722618386,172.42049411158789,136.7415895151792,167.74442859157023,92.30191944941798,153.92969100481395,121.54529331865822,159.34460528991062],[85.2839225347201,123.02358928871209,133.1443543504611,127.22423602900585,89.85651646417965,134.09528777836695,93.94525574837432,146.86042300691685,117.97581985083414,134.16813922865643],[123.27071950140164,92.50252378769616,93.82940010676124,105.96943391337292,172.50133524182473,183.35544078273176,176.05701292139003,179.90411283180305,178.75174820448714,124.37855431664443]]}];\n",
       " var layout_WGEeqE8UEu = {\"height\":350,\"width\":350,\"hovermode\":\"closest\",\"legend\":{\"orientation\":\"v\"},\"title\":{\"text\":\"Heatmap\"},\"showlegend\":true,\"margin\":{\"l\":50,\"r\":50,\"t\":50,\"b\":50}};\n",
       " var config_WGEeqE8UEu = {\"responsive\":true,\"scrollZoom\":true,\"displaylogo\":false};\n",
       " Plotly.newPlot(\"graph_WGEeqE8UEu\", traces_WGEeqE8UEu, layout_WGEeqE8UEu, config_WGEeqE8UEu);\n",
       "\n",
       "var save = document.getElementById(\"saveAsPNG_fEAUokla9K\")\n",
       "save.onclick = function() {\n",
       "    const grid = document.getElementById(\"grid-container_fEAUokla9K\")\n",
       "    const svg_containers = grid.getElementsByClassName('svg-container')\n",
       "    const main_svgs = grid.getElementsByClassName('main-svg')\n",
       "\n",
       "    const svg_containers_styles = []\n",
       "    const main_svgs_styles = []\n",
       "\n",
       "    const modebars = document.getElementsByClassName(\"modebar-container\")\n",
       "\n",
       "    for (var i = 0; i < modebars.length; i++) {\n",
       "        modebars[i].style.display = \"none\"\n",
       "    }\n",
       "\n",
       "    domtoimage.toPng(grid)\n",
       "    .then(function (dataUrl) {\n",
       "        var img = new Image();\n",
       "        img.src = dataUrl;\n",
       "        var link = document.createElement('a');\n",
       "        link.download = 'Picta-image.png';\n",
       "        link.href = dataUrl;\n",
       "        link.click()\n",
       "    })\n",
       "    .catch(function (error) {\n",
       "        console.error('oops, something went wrong!', error);\n",
       "    });\n",
       "}\n",
       "</script> \n"
      ]
     },
     "metadata": {},
     "output_type": "display_data"
    }
   ],
   "source": [
    "// it may be necessary to play around with the chart dimensions and margin  in order to ensure a good fit on screen.\n",
    "val dim = 350\n",
    "\n",
    "// The canvas has an underlying grid. By default the underlying grid is 1x1, but we can pass in the dimensions we \n",
    "// require by passing in parameters in the constructor.\n",
    "Canvas(2, 2)\n",
    ".setChart(0, 0, chart1.setDimensions(width = dim, height = dim).setMargin(l=50, r=50, t=50, b=50))\n",
    ".setChart(0, 1, chart2.setDimensions(width = dim, height = dim)setMargin(l=50, r=50, t=50, b=50))\n",
    ".setChart(1, 0, chart3.setDimensions(width = dim, height = dim)setMargin(l=50, r=50, t=50, b=50))\n",
    ".setChart(1, 1, chart.setDimensions(width = dim, height = dim)setMargin(l=50, r=50, t=50, b=50))\n",
    ".plotInline"
   ]
  },
  {
   "cell_type": "markdown",
   "metadata": {},
   "source": [
    "#### Map\n",
    "\n",
    "We can also create maps using the composition technique below."
   ]
  },
  {
   "cell_type": "code",
   "execution_count": 38,
   "metadata": {},
   "outputs": [],
   "source": [
    "import org.carbonateresearch.picta.options.{Margin, Line}\n",
    "import org.carbonateresearch.picta.Map"
   ]
  },
  {
   "cell_type": "code",
   "execution_count": 39,
   "metadata": {},
   "outputs": [
    {
     "data": {
      "text/html": [
       "<div id=\"grid-container_Ne2n1p20QL\" class=\"grid-container\" align=\"center\"> \n",
       "<div id=\"grid_Ne2n1p20QL\" class=\"grid\" align=\"center\"> \n",
       "<div id=\"graph_dstmHxm7FO\" class=\"graph\"></div> \n",
       "</div> \n",
       "</div> \n",
       "<script>\n",
       "var masonry = new Macy({\n",
       "    container: '#grid_Ne2n1p20QL',\n",
       "    debug: true,\n",
       "    mobileFirst: true,\n",
       "    columns: 1,\n",
       "    margin: {\n",
       "        x: 0,\n",
       "        y: 0\n",
       "    }\n",
       "  });\n",
       "\n",
       " var traces_dstmHxm7FO = [{\"name\":\"zyeS22fHMj\",\"lat\":[40.7127,51.5072],\"lon\":[-74.0059,0.1275],\"type\":\"scattergeo\",\"mode\":\"lines\",\"line\":{\"width\":2,\"color\":\"red\"}}];\n",
       " var layout_dstmHxm7FO = {\"height\":550,\"width\":600,\"hovermode\":\"closest\",\"legend\":{\"orientation\":\"v\"},\"showlegend\":true,\"geo\":{\"resolution\":50,\"showland\":true,\"showlakes\":true,\"coastlinewidth\":2,\"landcolor\":\"rgb(204, 204, 204)\",\"lakecolor\":\"rgb(255, 255, 255)\",\"lataxis\":{\"range\":[20,60],\"showgrid\":true,\"dtick\":10},\"lonaxis\":{\"range\":[-100,20],\"showgrid\":true,\"dtick\":10}},\"margin\":{\"l\":0,\"r\":0,\"t\":0,\"b\":0}};\n",
       " var config_dstmHxm7FO = {\"responsive\":false,\"scrollZoom\":false,\"displaylogo\":false};\n",
       " Plotly.newPlot(\"graph_dstmHxm7FO\", traces_dstmHxm7FO, layout_dstmHxm7FO, config_dstmHxm7FO);\n",
       "</script> \n"
      ]
     },
     "metadata": {},
     "output_type": "display_data"
    }
   ],
   "source": [
    "// draw a line on the map that is red\n",
    "val line = Line(width = 2) setColor \"red\"\n",
    "\n",
    "// construct the map Series. It is an XY chart as it takes in a List of Longitude and Latitude\n",
    "val series = Map(List(40.7127, 51.5072), List(-74.0059, 0.1275)) drawSymbol LINES drawLine line\n",
    "\n",
    "// These are options that further specify the options for the map\n",
    "val geo = MapOptions(landcolor = \"rgb(204, 204, 204)\", lakecolor = \"rgb(255, 255, 255)\")\n",
    "              .setMapAxes(LatAxis(List(20, 60)), LongAxis(List(-100, 20)))\n",
    "\n",
    "val chart = (\n",
    "    Chart() \n",
    "    addSeries series \n",
    "    setConfig(false, false)\n",
    "    setMapOptions geo\n",
    "    setMargin(l=0, r=0, t=0, b=0)\n",
    ")\n",
    "\n",
    "chart.plotInline"
   ]
  },
  {
   "cell_type": "markdown",
   "metadata": {},
   "source": [
    "### Animated Charts\n",
    "\n",
    "We can also create animated charts. This can be useful for tracking the evolution of a data over time.\n",
    "\n",
    "All `Series` types should be supported.\n",
    "\n",
    "#### 2D Animated Chart"
   ]
  },
  {
   "cell_type": "code",
   "execution_count": 40,
   "metadata": {},
   "outputs": [],
   "source": [
    "import org.carbonateresearch.picta.options.ColorOptions._\n",
    "\n",
    "// creates random XY for testing purposes\n",
    "def createXYSeries[T: Color]\n",
    "(numberToCreate: Int, count: Int = 0, length: Int = 10): List[XY[Int, Double, T, T]] = {\n",
    "    if (count == numberToCreate) Nil\n",
    "    else {\n",
    "      val xs = List.range(0, length)\n",
    "      val ys = xs.map(x => scala.util.Random.nextDouble() * x)\n",
    "      val series = XY(x = xs, y = ys, name = \"series \" + count).drawMarkers\n",
    "      series :: createXYSeries(numberToCreate, count + 1, length)\n",
    "    }\n",
    "}\n",
    "\n",
    "def createXYZSeries(numberToCreate: Int, count: Int = 0, length: Int = 10): List[XYZ[Int, Double, Double]] = {\n",
    "    if (count == numberToCreate) Nil\n",
    "    else {\n",
    "      val xs = List.range(0, length)\n",
    "      val ys = xs.map(x => scala.util.Random.nextDouble() * x)\n",
    "      val zs = xs.map(x => scala.util.Random.nextDouble() * x * scala.util.Random.nextInt())\n",
    "      val series = XYZ(x = xs, y = ys, z = zs, name = \"series \" + count, `type` = SCATTER3D).drawMarkers\n",
    "      series :: createXYZSeries(numberToCreate, count + 1, length)\n",
    "    }\n",
    "}"
   ]
  },
  {
   "cell_type": "code",
   "execution_count": 41,
   "metadata": {
    "scrolled": false
   },
   "outputs": [
    {
     "data": {
      "text/html": [
       "<div id=\"grid-container_KNbDRUmeZb\" class=\"grid-container\" align=\"center\"> \n",
       "<div id=\"grid_KNbDRUmeZb\" class=\"grid\" align=\"center\"> \n",
       "\n",
       "<div align=\"center\">\n",
       "  <div id=\"graph_GfcxVt9ZLB\" class=\"graph\"></div>\n",
       "  <div class=\"animationInterface\">\n",
       "    <button id=\"play_GfcxVt9ZLB\" class=\"picta-button\">Play</button>\n",
       "    <button id=\"pause_GfcxVt9ZLB\" class=\"picta-button\">Pause</button>\n",
       "    <div id=\"sliderContainer_GfcxVt9ZLB\" class=\"progressBar\"></div>\n",
       "    <div id=\"counterContainer_GfcxVt9ZLB\" class=\"inline-div\">\n",
       "        <h3>Frame: </h3> <h3 id=\"value_GfcxVt9ZLB\">0</h3>\n",
       "    </div>\n",
       "   </div>\n",
       "</div> \n",
       "\n",
       "</div> \n",
       "</div> \n",
       "<script>\n",
       "var masonry = new Macy({\n",
       "    container: '#grid_KNbDRUmeZb',\n",
       "    debug: true,\n",
       "    mobileFirst: true,\n",
       "    columns: 1,\n",
       "    margin: {\n",
       "        x: 0,\n",
       "        y: 0\n",
       "    }\n",
       "  });\n",
       "\n",
       "var graph_GfcxVt9ZLB = document.getElementById('graph_GfcxVt9ZLB')\n",
       "var traces_GfcxVt9ZLB = [{\"name\":\"series 0\",\"type\":\"scatter\",\"mode\":\"markers\",\"x\":[0,1,2,3,4,5,6,7,8,9,10,11,12,13,14,15,16,17,18,19,20,21,22,23,24,25,26,27,28,29],\"y\":[0,0.6304254512755532,1.1967378242057147,0.02182369010704599,1.1304351915372304,0.7590952252743977,4.977427150922287,2.1023117332534653,1.65882057353046,1.9356775057538815,2.7887604279545086,8.229346041487767,5.781973985683413,5.739813329836923,2.441127903783599,12.399363176421858,5.821785595326787,10.241379063879597,15.756549836801518,18.636396723782212,8.073454347170074,19.574749118545704,5.962375405821314,6.834247366797868,20.430169392593992,3.956527755484443,9.62577666694196,2.2220602457210434,9.153512293588806,26.942176624404805]}]\n",
       "var layout_GfcxVt9ZLB = {\"height\":550,\"width\":600,\"hovermode\":\"closest\",\"legend\":{\"orientation\":\"v\"},\"title\":{\"text\":\"Animation XY\"},\"showlegend\":true,\"xaxis\":{\"title\":{\"text\":\"X Variable\"},\"showgrid\":true,\"zeroline\":false,\"showline\":false,\"range\":[0,10]},\"yaxis\":{\"title\":{\"text\":\"Y Variable\"},\"showgrid\":true,\"zeroline\":false,\"showline\":false,\"range\":[0,10]}}\n",
       "var frames_GfcxVt9ZLB = [{\"name\":\"series 0\",\"data\":[{\"name\":\"series 0\",\"type\":\"scatter\",\"mode\":\"markers\",\"x\":[0,1,2,3,4,5,6,7,8,9,10,11,12,13,14,15,16,17,18,19,20,21,22,23,24,25,26,27,28,29],\"y\":[0,0.6304254512755532,1.1967378242057147,0.02182369010704599,1.1304351915372304,0.7590952252743977,4.977427150922287,2.1023117332534653,1.65882057353046,1.9356775057538815,2.7887604279545086,8.229346041487767,5.781973985683413,5.739813329836923,2.441127903783599,12.399363176421858,5.821785595326787,10.241379063879597,15.756549836801518,18.636396723782212,8.073454347170074,19.574749118545704,5.962375405821314,6.834247366797868,20.430169392593992,3.956527755484443,9.62577666694196,2.2220602457210434,9.153512293588806,26.942176624404805]}]},{\"name\":\"series 1\",\"data\":[{\"name\":\"series 1\",\"type\":\"scatter\",\"mode\":\"markers\",\"x\":[0,1,2,3,4,5,6,7,8,9,10,11,12,13,14,15,16,17,18,19,20,21,22,23,24,25,26,27,28,29],\"y\":[0,0.6182333996716819,1.117166860553967,0.8494458372287627,1.1771801950587544,2.6442417946210743,1.3734431520700778,3.0099881749859376,3.8763460174423017,4.696011028955478,6.203035095192357,4.250773027960472,2.435977384841652,9.733247815911168,11.176156321818063,14.257151078369347,2.7147732491516194,11.318396807936487,9.561497907801686,1.5876674909701713,12.918096422822487,1.4605163691554002,0.18779722391285447,0.4548078492233415,11.805875432312792,23.351102705674325,17.972125539085237,8.745993167609432,24.30633478773135,22.655260089886138]}]},{\"name\":\"series 2\",\"data\":[{\"name\":\"series 2\",\"type\":\"scatter\",\"mode\":\"markers\",\"x\":[0,1,2,3,4,5,6,7,8,9,10,11,12,13,14,15,16,17,18,19,20,21,22,23,24,25,26,27,28,29],\"y\":[0,0.6798602288957385,0.035787702943169686,1.7379386246444448,0.22508873982790512,2.0311305176925294,4.388791917647067,4.081573789445656,5.543751754650021,5.120981261398514,1.5620086999111715,1.151134357122305,9.842780188987112,1.1487580887691178,8.323379113550647,14.031849046277726,5.082050422745587,7.1769997753495955,14.556164061538157,0.5192758556701468,6.09356762801627,5.227436251858645,3.0484479101660376,1.9473242827187667,6.470928148306125,1.759581302370683,11.211931055303461,24.838878579428272,13.481581561675103,23.409989264723453]}]},{\"name\":\"series 3\",\"data\":[{\"name\":\"series 3\",\"type\":\"scatter\",\"mode\":\"markers\",\"x\":[0,1,2,3,4,5,6,7,8,9,10,11,12,13,14,15,16,17,18,19,20,21,22,23,24,25,26,27,28,29],\"y\":[0,0.7813054495033407,1.4683658486234878,0.8122436288212349,1.4696127465434143,1.8662175829586325,4.82642136846621,6.013850230738388,2.7914503776020565,8.650756561233038,7.442733346107029,10.44547698248976,6.81598740041597,10.07522855944343,3.8544180496991993,3.528500252069508,3.1421252147697025,15.445871716372103,1.8354500348603366,13.117492052842167,1.2002312316828911,1.0500138601186257,20.260788197553534,21.601261321772697,16.278534603115688,16.777471633485145,6.940629068673489,14.816752605092994,21.789339874143046,21.890718489321557]}]},{\"name\":\"series 4\",\"data\":[{\"name\":\"series 4\",\"type\":\"scatter\",\"mode\":\"markers\",\"x\":[0,1,2,3,4,5,6,7,8,9,10,11,12,13,14,15,16,17,18,19,20,21,22,23,24,25,26,27,28,29],\"y\":[0,0.1723435168716756,0.5892474684100995,2.2381414095994128,1.0514071970256542,2.631873201296954,3.7349167161041192,1.211283751199293,2.8577170201820765,8.121688323462363,5.481659903746915,3.3823318497692765,10.827968901257,3.716759688336971,11.965329080872653,4.560871735999417,10.048129450957775,3.107473182268928,1.2355737826999822,9.380256477944243,17.630281972847513,19.72130308997935,4.3426089631293925,20.50494365291651,4.151509012509947,16.995066898429606,15.339184546840396,14.163101337023333,15.25218189709365,28.70768020100317]}]},{\"name\":\"series 5\",\"data\":[{\"name\":\"series 5\",\"type\":\"scatter\",\"mode\":\"markers\",\"x\":[0,1,2,3,4,5,6,7,8,9,10,11,12,13,14,15,16,17,18,19,20,21,22,23,24,25,26,27,28,29],\"y\":[0,0.8846663812814141,0.9291680843311707,0.344117167753329,0.07402785644104837,3.3415805828748946,2.2210409611996313,5.352804109603774,0.6194537361950019,8.80036669240188,8.238321359016288,6.354267578778789,0.969109122357338,4.255316157262931,6.685045442149713,13.673613600505398,1.6984195943978193,2.078992106178692,12.457924412144488,17.49097805603993,5.77476443227825,16.008739006646707,15.572141566257487,18.426287933482833,15.745053034792356,3.8833660134004995,18.712010419020107,18.519990406413562,5.916784472532221,6.51338179542023]}]},{\"name\":\"series 6\",\"data\":[{\"name\":\"series 6\",\"type\":\"scatter\",\"mode\":\"markers\",\"x\":[0,1,2,3,4,5,6,7,8,9,10,11,12,13,14,15,16,17,18,19,20,21,22,23,24,25,26,27,28,29],\"y\":[0,0.910138883929104,1.5117539484567892,2.8217139866861247,0.38718583516965,1.3925959605287614,1.7388355294262388,3.611234656177521,5.232121564135314,4.68482542727398,0.850198048738815,7.310042283817356,9.634114102428871,4.385171598914102,9.605574275816288,3.6781670425199624,2.58919702541783,5.369533471474662,2.9081928478893118,3.4932797880979165,13.996494874368384,10.799958394554414,19.836247391376386,6.954522321900377,20.571671178717523,17.66971327243974,3.6181961486894756,15.319294905636683,18.07372201052418,3.40084021795954]}]},{\"name\":\"series 7\",\"data\":[{\"name\":\"series 7\",\"type\":\"scatter\",\"mode\":\"markers\",\"x\":[0,1,2,3,4,5,6,7,8,9,10,11,12,13,14,15,16,17,18,19,20,21,22,23,24,25,26,27,28,29],\"y\":[0,0.31761728027339475,0.9686527771481832,2.9045139676664435,3.303249700674205,1.1411304846572294,0.3128776976947443,2.2685414900466,6.073776861042616,1.1426397490798599,3.5734377493934364,5.712496034923567,9.455595024157326,3.7676551740021527,7.93609355237767,13.868958055941011,15.666161941701292,8.715840025804846,15.656789260474055,17.665531274117452,13.0626821273421,1.6956924874531119,17.5749143252428,18.35741055882894,2.8822525112488036,18.46704236612783,25.577784921574267,13.026081320400358,27.281653766432388,26.182295175740634]}]},{\"name\":\"series 8\",\"data\":[{\"name\":\"series 8\",\"type\":\"scatter\",\"mode\":\"markers\",\"x\":[0,1,2,3,4,5,6,7,8,9,10,11,12,13,14,15,16,17,18,19,20,21,22,23,24,25,26,27,28,29],\"y\":[0,0.5830049459566927,1.6466585800346873,1.9495967017517613,1.9916637957134897,1.8817041852328753,1.6182477529513228,3.2692484614896533,0.10480546891193843,2.206424630437666,8.140483145575564,3.9119518809488785,1.7585521320409763,11.707774263533878,1.4051571180444598,9.623837932130767,7.9538038544450345,8.556768197745013,10.582900800806154,14.562941327244912,16.586647798140717,3.4065343838269295,6.602915575204478,9.363054328391788,19.18717655680523,7.9333845065102295,20.143206562229757,13.59482747665365,14.650733147017059,5.778549567340581]}]},{\"name\":\"series 9\",\"data\":[{\"name\":\"series 9\",\"type\":\"scatter\",\"mode\":\"markers\",\"x\":[0,1,2,3,4,5,6,7,8,9,10,11,12,13,14,15,16,17,18,19,20,21,22,23,24,25,26,27,28,29],\"y\":[0,0.16288430859055392,0.4137147816063613,2.6898944482394107,0.6685887411826492,4.752294081155611,4.062655375356114,3.9317680885685977,0.8097876640952579,7.0146715105825015,6.669676739934028,10.30048268684949,7.840368099945726,6.076735108787264,1.9564860424970245,10.376241544952899,15.026401040625691,0.6961212792438128,13.82360721273619,0.7205281465254766,10.830673267531202,0.7629738832287499,20.291230394830976,15.781379522475502,10.86815721303316,9.33475006903081,4.459582847454133,14.048580807818391,0.4025890618705539,24.85444877749006]}]},{\"name\":\"series 10\",\"data\":[{\"name\":\"series 10\",\"type\":\"scatter\",\"mode\":\"markers\",\"x\":[0,1,2,3,4,5,6,7,8,9,10,11,12,13,14,15,16,17,18,19,20,21,22,23,24,25,26,27,28,29],\"y\":[0,0.2717400995477689,0.044056637815381494,0.004382081044321251,2.6993885084170297,0.40434593991701795,4.213795586258127,4.6506708522898315,2.995014734015613,0.6936215350193193,7.057420488140178,10.230147725311195,3.935597500547104,0.13937063076893452,8.58522896457051,11.772845412936295,2.962245304699474,9.036918810468084,12.699131376761882,7.48363800168413,5.631800486854603,19.385744858304843,19.96549162435377,4.673677572121291,6.617643111075231,24.366398969882702,23.04848879322972,18.11151096887911,8.164970527104066,5.8365423932786955]}]},{\"name\":\"series 11\",\"data\":[{\"name\":\"series 11\",\"type\":\"scatter\",\"mode\":\"markers\",\"x\":[0,1,2,3,4,5,6,7,8,9,10,11,12,13,14,15,16,17,18,19,20,21,22,23,24,25,26,27,28,29],\"y\":[0,0.1579216804252932,1.3195080734178348,2.419214687325491,2.8791268704331165,2.010120484082416,0.3354074579207873,4.357760174692193,6.163568067692131,0.3194640781135294,9.513026596734061,8.385929497006632,3.1117837348800648,10.595536006095035,11.330168123750456,12.999406202866089,11.870190450551686,9.907405241893708,7.007194451327187,12.23567945959856,0.32706749000078084,10.35292393673516,18.752571633550755,19.872894754140894,16.31512067948631,17.6784609298336,2.65850013030263,2.352601464230827,23.66473753880265,16.97529694987701]}]},{\"name\":\"series 12\",\"data\":[{\"name\":\"series 12\",\"type\":\"scatter\",\"mode\":\"markers\",\"x\":[0,1,2,3,4,5,6,7,8,9,10,11,12,13,14,15,16,17,18,19,20,21,22,23,24,25,26,27,28,29],\"y\":[0,0.19240119795446275,0.7713372465488972,1.1510993883967995,0.6580209147644944,1.002053830532557,1.2179886579097274,4.230148042152698,5.643646056983812,8.79693493307509,0.5213410850415456,4.835049023652844,2.9328508552458152,2.0215902956696703,5.5665197448343084,3.021866768633874,8.723422186377965,0.0964089802169642,11.248993969528874,4.447876055068445,17.909269235837453,1.2922514410755257,15.086811855481637,13.094807961482758,15.400807072057658,0.1474083385504643,23.822038983051357,13.64392978672067,22.152625789717995,20.45644458022813]}]},{\"name\":\"series 13\",\"data\":[{\"name\":\"series 13\",\"type\":\"scatter\",\"mode\":\"markers\",\"x\":[0,1,2,3,4,5,6,7,8,9,10,11,12,13,14,15,16,17,18,19,20,21,22,23,24,25,26,27,28,29],\"y\":[0,0.36226674750141863,0.09612443103117663,0.9193122786330653,0.8293640553605712,4.507053425052793,2.7252171632103313,6.931291934340285,0.1440136037669939,2.5296691052275566,0.11863751752789753,3.5776031160597532,3.953902518712157,12.573397279334928,3.93334240986033,2.305815126951576,2.1575414647067515,12.176495317328612,17.335611575419854,11.396132044448764,9.211629098911509,12.707219527894809,20.06303694080899,2.2808176921813845,22.954164999846427,2.3524001118617326,21.899733157152742,8.478246282642187,3.5387492933566804,8.123508482118714]}]},{\"name\":\"series 14\",\"data\":[{\"name\":\"series 14\",\"type\":\"scatter\",\"mode\":\"markers\",\"x\":[0,1,2,3,4,5,6,7,8,9,10,11,12,13,14,15,16,17,18,19,20,21,22,23,24,25,26,27,28,29],\"y\":[0,0.41981310200838773,1.3445618514922875,2.4604417336050703,2.778805518022957,2.644526062798984,0.866648925315163,3.4162974341147585,5.367152192156279,8.550510932160343,7.24197286631418,10.613708876851389,8.471587371620135,7.466563987340786,6.984942540038325,3.85412539070003,3.916716047210432,15.717801382564062,0.5896352744817492,1.62935093117298,2.1098323889668547,6.483288389124362,8.464309927445367,16.125157410534587,23.769598484873114,1.9442066588525597,25.507782808777353,22.42016955429199,17.163411839260764,5.905070108652698]}]},{\"name\":\"series 15\",\"data\":[{\"name\":\"series 15\",\"type\":\"scatter\",\"mode\":\"markers\",\"x\":[0,1,2,3,4,5,6,7,8,9,10,11,12,13,14,15,16,17,18,19,20,21,22,23,24,25,26,27,28,29],\"y\":[0,0.897004879993121,0.9825105498672391,0.796358483298399,1.07559190344306,1.0764187396562375,2.124248744663509,3.223946946564838,1.5149388615216157,5.40947518240934,4.0787783782795515,4.849836509189519,0.006187195933542888,9.422874270143371,5.889231627058154,9.252409255352037,13.340948498326517,9.830641363115854,12.459054200648218,1.2759978510308754,12.390415074414419,13.120276707480505,11.049496422500134,7.989170762514351,1.1117941576981751,14.045521598659349,14.406335539433332,8.041680488687588,15.510178757709731,3.9141201212552836]}]},{\"name\":\"series 16\",\"data\":[{\"name\":\"series 16\",\"type\":\"scatter\",\"mode\":\"markers\",\"x\":[0,1,2,3,4,5,6,7,8,9,10,11,12,13,14,15,16,17,18,19,20,21,22,23,24,25,26,27,28,29],\"y\":[0,0.4198066848392621,1.6812452639698108,0.3379233745114605,1.9254630476157937,2.5410068845323543,4.109053922798831,2.491250215278935,3.1375592973075843,0.08800620908332346,1.0382203996289774,9.887642099872574,10.35630844321678,0.11352909313336168,0.026020107401906856,1.4002061586600507,8.007537688256365,14.164841707799091,8.949441234889283,3.126381002317803,0.35065907595416057,0.4869648758999452,1.2916147498612496,22.44746675721051,7.0206469515765475,20.0778664433234,11.24204689516472,10.98969959446641,18.93649978669977,7.630312216934162]}]},{\"name\":\"series 17\",\"data\":[{\"name\":\"series 17\",\"type\":\"scatter\",\"mode\":\"markers\",\"x\":[0,1,2,3,4,5,6,7,8,9,10,11,12,13,14,15,16,17,18,19,20,21,22,23,24,25,26,27,28,29],\"y\":[0,0.5100985973879173,1.37464289366406,0.502000740822965,2.445893248834441,2.6642949579621815,1.3403307869209389,4.766318723380836,7.342917779364508,8.697407627699231,8.14392355527564,3.6839295641030234,10.428126091617564,0.1486401683287294,3.389422754503702,3.5011683827629003,15.448714865251125,4.129127216794653,1.1002506575869986,16.10258817937432,6.089557614793049,16.717140818649312,3.7262481812344634,16.97783029813864,1.637725801429994,2.476994038919994,15.51911421390094,5.491063201728867,26.41324813306418,0.9261736368443507]}]},{\"name\":\"series 18\",\"data\":[{\"name\":\"series 18\",\"type\":\"scatter\",\"mode\":\"markers\",\"x\":[0,1,2,3,4,5,6,7,8,9,10,11,12,13,14,15,16,17,18,19,20,21,22,23,24,25,26,27,28,29],\"y\":[0,0.15419232294159535,1.734878015532751,1.2155405696814867,0.19929396622458873,2.4528285319728105,2.4897472207928306,5.744664070183782,0.8151116926187028,7.825407583919678,9.482788800804233,3.3174894689837373,3.1446347210860743,0.47659968173139733,5.40168254151515,8.409565898273403,6.593320995553325,14.062431436656183,1.2195760197749326,7.842481885193125,5.9822804797723395,11.16990617465162,16.194974947532327,14.559503270523114,14.784993968811907,14.312334082308872,2.3219810866725474,13.773434426727475,3.902521908217513,9.65145087882709]}]},{\"name\":\"series 19\",\"data\":[{\"name\":\"series 19\",\"type\":\"scatter\",\"mode\":\"markers\",\"x\":[0,1,2,3,4,5,6,7,8,9,10,11,12,13,14,15,16,17,18,19,20,21,22,23,24,25,26,27,28,29],\"y\":[0,0.4527791550374811,1.1184946577867176,1.6565309723132544,1.9481947332871097,1.342910389056573,4.31539712512347,6.3233515335642885,4.675655663798683,1.3883142385931968,4.729484389657255,2.740293303893153,6.394882672941119,0.14402500555167796,3.6379626427746525,9.008012153035951,6.801405139389418,7.325333055140376,14.480615723629217,18.68546416566243,10.599493787499199,12.302671642584809,1.127936776411751,6.021684332425454,4.809180120400461,7.465355919175934,14.600406300159655,12.490472213796998,19.749677215289687,22.351581387100374]}]},{\"name\":\"series 20\",\"data\":[{\"name\":\"series 20\",\"type\":\"scatter\",\"mode\":\"markers\",\"x\":[0,1,2,3,4,5,6,7,8,9,10,11,12,13,14,15,16,17,18,19,20,21,22,23,24,25,26,27,28,29],\"y\":[0,0.30079731144474375,0.4187960146184744,2.406845655036765,0.8853110845778716,2.061524851010898,3.754285379699787,5.945665180222001,3.624116821266302,2.419478701205703,4.812023462348075,10.285217958035703,6.059808764021343,11.313847567904832,3.486341765184774,3.8003693219639905,11.40486740361802,1.5153252178585555,14.897733317085285,5.503329173927318,11.37307254693261,20.478847637248574,21.459812579967224,9.552884011955268,14.504004031821573,10.517136783648095,14.193082394025001,5.722505157818285,11.520059246345939,9.631730710335063]}]},{\"name\":\"series 21\",\"data\":[{\"name\":\"series 21\",\"type\":\"scatter\",\"mode\":\"markers\",\"x\":[0,1,2,3,4,5,6,7,8,9,10,11,12,13,14,15,16,17,18,19,20,21,22,23,24,25,26,27,28,29],\"y\":[0,0.22739542631799015,0.66934527978044,2.576375759773715,0.03533317710536066,2.375936554900723,3.3076409921383023,2.013059298459483,0.054750757161931674,6.74207236391034,8.320782333421668,10.224214395297786,7.583666209989907,9.69207788167563,3.7739698160863178,10.425333608410918,12.612898774495935,1.0226941069860116,11.759554436636545,1.6075024586307585,19.09381224891877,7.514163932479944,21.45319050585343,0.08715699380683062,0.8545434349708891,10.039412700808615,19.6176620103182,4.182091455119331,23.084968869140493,4.961382391763894]}]},{\"name\":\"series 22\",\"data\":[{\"name\":\"series 22\",\"type\":\"scatter\",\"mode\":\"markers\",\"x\":[0,1,2,3,4,5,6,7,8,9,10,11,12,13,14,15,16,17,18,19,20,21,22,23,24,25,26,27,28,29],\"y\":[0,0.7529649899209111,0.06176687735605091,0.0019292823537725434,2.2062533535610886,4.838534722060824,5.532985713042311,3.666304623432774,2.3766331087645565,7.221645933604048,6.340161199866886,2.459212668468327,11.344173677982587,1.1285022927047523,1.6350093646433006,8.36446502262201,1.3160662294626153,15.00954030508874,9.013878918554768,18.06307177538624,4.764877981157745,18.50055038989051,8.532617085772493,9.898514829809097,1.6556306677594081,7.440113856641342,5.369919240091151,8.605074903039055,3.2792493709358386,10.979869778280484]}]},{\"name\":\"series 23\",\"data\":[{\"name\":\"series 23\",\"type\":\"scatter\",\"mode\":\"markers\",\"x\":[0,1,2,3,4,5,6,7,8,9,10,11,12,13,14,15,16,17,18,19,20,21,22,23,24,25,26,27,28,29],\"y\":[0,0.18605949022283175,1.9974986715613738,2.5694155816540314,3.555627239673198,1.122022915812233,0.7732838099094579,4.307105882266674,2.355762651303837,2.7295548646973833,7.766436168057362,4.1383800191428755,3.269105348525219,3.048074014766463,4.5406550374993655,6.4706603608030395,3.3056308723645493,3.2350481324846045,1.6809407272525532,6.219509453234555,3.7745518763555297,16.713651621619597,21.912583337246534,21.31134963964865,21.106419744944645,3.6700625027932476,14.898483540141058,12.435335486438667,26.751295929945826,25.853720330938405]}]},{\"name\":\"series 24\",\"data\":[{\"name\":\"series 24\",\"type\":\"scatter\",\"mode\":\"markers\",\"x\":[0,1,2,3,4,5,6,7,8,9,10,11,12,13,14,15,16,17,18,19,20,21,22,23,24,25,26,27,28,29],\"y\":[0,0.028734337305848623,1.4599301438799575,1.6856426523649928,0.9883614161833743,2.472857961803922,1.361036862647162,3.7464726568531423,7.1126980933384925,7.952030416849426,5.853518757867606,4.043511067388592,4.87308602086342,2.5624928984133275,2.5245819185547953,11.269742316848685,2.0431470578598177,0.3844124445902426,4.518145195752783,0.3379179896011346,2.578556142175379,9.272856670577292,3.3158225313246783,21.451932974932383,7.768395182318402,12.91007898499773,14.368602718649097,13.814523064791858,1.1543847419982813,2.054672482231788]}]},{\"name\":\"series 25\",\"data\":[{\"name\":\"series 25\",\"type\":\"scatter\",\"mode\":\"markers\",\"x\":[0,1,2,3,4,5,6,7,8,9,10,11,12,13,14,15,16,17,18,19,20,21,22,23,24,25,26,27,28,29],\"y\":[0,0.7221237306605086,1.2864910501935285,1.7091007093532942,3.361976079802631,1.1576488377596539,0.619403279867536,4.556222814128208,2.987574299517128,7.303156339978911,2.405415244029796,2.926838013437559,2.3295076901020164,7.989176634295727,6.693236922540572,6.68249607021271,1.4477343052836709,5.15268357313372,10.36494754340941,7.955509798584663,16.31843645834526,19.47900425000286,17.18821474931959,4.481685994662252,11.411267930290105,13.207129343270442,6.081951584857038,19.831234082256515,9.84781286036811,19.284772034696296]}]},{\"name\":\"series 26\",\"data\":[{\"name\":\"series 26\",\"type\":\"scatter\",\"mode\":\"markers\",\"x\":[0,1,2,3,4,5,6,7,8,9,10,11,12,13,14,15,16,17,18,19,20,21,22,23,24,25,26,27,28,29],\"y\":[0,0.529488603990959,0.5994929359739369,1.4004763005098817,1.6748282598061484,3.7421332851361253,0.7601314045635759,2.3728371748904467,5.739864278827361,0.9169559199908025,5.63396940283582,1.7895784128535244,6.594810682254636,3.0607199581895648,7.490280135696482,10.2237896397122,3.0427356171889297,13.050922437335545,7.9489316844009155,14.821120906403232,12.708393628421959,1.1869517947847663,1.568228180576348,12.152589011091893,18.00262007921154,9.966098595487882,15.231516993781543,5.247625729010643,9.861576674437773,18.743238976851018]}]},{\"name\":\"series 27\",\"data\":[{\"name\":\"series 27\",\"type\":\"scatter\",\"mode\":\"markers\",\"x\":[0,1,2,3,4,5,6,7,8,9,10,11,12,13,14,15,16,17,18,19,20,21,22,23,24,25,26,27,28,29],\"y\":[0,0.9029698210782757,1.8233862182502532,0.47704313359246087,0.5720391254587409,1.3138392146544793,5.997318967430996,4.194179435825731,6.7720872306555195,0.6496849385927154,4.865588639857933,3.6078317129672697,1.2744759386752422,2.19450826164827,10.675359132728058,0.9091960459714349,5.797926124121126,10.049970647023036,16.61503943329263,18.99265600419737,17.19619132519369,10.194505144417006,20.988366281737658,20.272794548861327,10.290003785754967,15.203911030708234,11.261784690621475,6.551296266497325,0.9159772021413408,24.689534354273796]}]},{\"name\":\"series 28\",\"data\":[{\"name\":\"series 28\",\"type\":\"scatter\",\"mode\":\"markers\",\"x\":[0,1,2,3,4,5,6,7,8,9,10,11,12,13,14,15,16,17,18,19,20,21,22,23,24,25,26,27,28,29],\"y\":[0,0.7411824012450734,1.3218480804340065,2.8448495112647487,1.829870364690796,2.76045639927946,0.13607439182575987,2.833239134553263,3.9188642928683173,6.285649395782798,2.8723917185896464,8.207423881886392,3.2330492255825884,8.771360345206228,11.27258751095713,5.540712356411278,4.4461218304571695,14.863375663529212,6.22465819510751,12.28096435190417,15.379478174705334,2.9468609237444783,19.580944821131368,10.058079261530137,1.070642650547489,5.680557411107329,11.164266513925236,22.73786297832168,21.476778322622128,2.348276706241849]}]},{\"name\":\"series 29\",\"data\":[{\"name\":\"series 29\",\"type\":\"scatter\",\"mode\":\"markers\",\"x\":[0,1,2,3,4,5,6,7,8,9,10,11,12,13,14,15,16,17,18,19,20,21,22,23,24,25,26,27,28,29],\"y\":[0,0.8427850953298157,1.0217707411419301,1.8737247583087067,2.8665821932667375,2.3535220561289876,1.8665748865318093,1.191017453861948,4.864362533827056,2.4476843169516913,9.201675738454512,7.366975710944554,3.337953070215844,1.765167558474685,11.943214693335612,11.457788615724084,10.02209744410862,0.04878068584745532,1.2290758548657645,18.81781019208425,17.909742599059534,12.101976146368816,6.819361170435754,13.242502003484743,23.461150346310955,23.004535243350183,18.72508720576976,25.542221860870015,24.679143176705615,21.773787820374217]}]},{\"name\":\"series 30\",\"data\":[{\"name\":\"series 30\",\"type\":\"scatter\",\"mode\":\"markers\",\"x\":[0,1,2,3,4,5,6,7,8,9,10,11,12,13,14,15,16,17,18,19,20,21,22,23,24,25,26,27,28,29],\"y\":[0,0.46832650647912044,0.587548881456986,0.8981484442418467,1.3583933565440378,4.802859333169599,3.838623018550056,6.003092615718106,1.856299567879355,1.7279865833988295,4.281597782316754,5.552502384776317,3.684836612052417,12.203167564286948,13.345886661044748,0.8871338901901571,10.695260989555797,2.6266935014849877,11.115502825208806,18.922045685918892,1.0522890418141295,9.89694408307423,5.218771935630652,21.427600720286268,15.509925005434258,13.807456245956452,18.18174547648831,7.746768627093577,21.79369196336941,22.85382246918904]}]},{\"name\":\"series 31\",\"data\":[{\"name\":\"series 31\",\"type\":\"scatter\",\"mode\":\"markers\",\"x\":[0,1,2,3,4,5,6,7,8,9,10,11,12,13,14,15,16,17,18,19,20,21,22,23,24,25,26,27,28,29],\"y\":[0,0.907947178406534,1.2465774724032948,1.338171268338114,1.9826057162448834,3.7672799388676297,4.182607430741921,4.649498112664449,7.8623739202856076,2.10925558072683,9.808088439640754,6.737513106176961,8.739351874673988,5.608771661008174,13.478705820461824,11.066957482417273,12.223706035900104,3.573962778222441,13.610126129159005,4.832172396535893,1.5397508802339543,4.252595904890496,15.797938469307862,21.74015409427069,17.70527943163313,18.25534650761977,17.536128213220003,24.31122286676514,6.872445842255564,0.3017196684303204]}]},{\"name\":\"series 32\",\"data\":[{\"name\":\"series 32\",\"type\":\"scatter\",\"mode\":\"markers\",\"x\":[0,1,2,3,4,5,6,7,8,9,10,11,12,13,14,15,16,17,18,19,20,21,22,23,24,25,26,27,28,29],\"y\":[0,0.031730196011923395,0.5678377333735893,1.1956889726669928,3.123259742584993,0.39172312239850515,0.8841038295116377,0.02170597024409804,7.829297965534013,3.0950113051463832,0.7045792658499239,8.085747347537595,2.6676404326196677,7.685148937246869,8.068363712918947,11.17384568555534,0.8741673040551099,6.140541980468567,13.351856538555639,4.600124414439183,19.64390828224146,10.091622496857443,21.39933140224108,20.54838447187608,23.815170155061594,16.845386096356393,12.47470122852567,9.515251454881092,17.250287767096218,0.24122503251182625]}]},{\"name\":\"series 33\",\"data\":[{\"name\":\"series 33\",\"type\":\"scatter\",\"mode\":\"markers\",\"x\":[0,1,2,3,4,5,6,7,8,9,10,11,12,13,14,15,16,17,18,19,20,21,22,23,24,25,26,27,28,29],\"y\":[0,0.9853328174138606,0.025881679448527928,1.0899053852696072,3.7024024123656223,2.6349741948247525,1.7467355001504674,1.6682081228638501,0.7946065829174698,2.0382133748632634,4.247223739314416,10.930916673297324,2.3990276257540812,0.29689348511654856,9.50756320010618,0.7619540814661308,3.5081745783036826,7.3029743498423265,7.46672149910637,12.725917598159013,0.21859475675438444,2.097423977593154,11.091109962081502,15.438119948008017,14.666710723888638,12.381428740452153,9.497806097745556,23.471383377739347,2.4506808903783788,19.915594544897193]}]},{\"name\":\"series 34\",\"data\":[{\"name\":\"series 34\",\"type\":\"scatter\",\"mode\":\"markers\",\"x\":[0,1,2,3,4,5,6,7,8,9,10,11,12,13,14,15,16,17,18,19,20,21,22,23,24,25,26,27,28,29],\"y\":[0,0.04557106734337746,0.5521946357334002,0.2398644628297114,1.4741975113560368,0.03449750637049609,2.558155216841639,5.424058096579734,1.1811589291802882,5.797595165901293,3.437735668533856,3.8062301195652326,10.415590655705047,12.167164552403275,1.2735967766481517,0.9062480511406512,8.557470966778641,8.944196595698413,12.41410400734621,17.822013937765377,11.99542075751448,17.763807998229023,12.127209483625398,13.8845989667735,11.677723240594442,18.656385724495475,14.46011005806433,15.657104914586109,7.326892455581196,7.598510880698874]}]},{\"name\":\"series 35\",\"data\":[{\"name\":\"series 35\",\"type\":\"scatter\",\"mode\":\"markers\",\"x\":[0,1,2,3,4,5,6,7,8,9,10,11,12,13,14,15,16,17,18,19,20,21,22,23,24,25,26,27,28,29],\"y\":[0,0.5253128954961506,1.3383288766619368,1.310200558829096,0.15922370117442464,4.689198390403364,3.505152652041032,0.7305087962058319,5.962797827967312,0.0819099234735099,1.7763533214241922,1.5988700656058132,6.702940254175616,8.35629888258305,10.225467004397293,0.19901474684588083,9.379644821456592,2.221329609660638,1.5739273501410171,4.986647117025692,13.241574368484397,12.971234887050533,4.396650057573948,9.161187901455934,5.055587883535334,7.0430105802608995,1.7441591726383558,16.702351584866456,22.348629301855468,3.0045378878467948]}]},{\"name\":\"series 36\",\"data\":[{\"name\":\"series 36\",\"type\":\"scatter\",\"mode\":\"markers\",\"x\":[0,1,2,3,4,5,6,7,8,9,10,11,12,13,14,15,16,17,18,19,20,21,22,23,24,25,26,27,28,29],\"y\":[0,0.91768298436424,1.6076341275561081,0.628075922469203,0.4094175040736303,2.924953200910099,5.395239141638727,0.2074302565346381,3.1910592226346433,3.10598531896958,1.8500800213533986,10.339333264227927,7.595858063881017,3.3619032087757317,12.617612873575364,9.309646980358181,4.3260447096707875,0.532508352097672,10.823743574694413,2.034447147919768,13.050228974720026,11.849465610040815,12.307773045435074,8.920222584599264,9.572749809494532,10.427396728040742,25.168125066784903,12.238427388900131,16.01802168994125,10.306317139464769]}]},{\"name\":\"series 37\",\"data\":[{\"name\":\"series 37\",\"type\":\"scatter\",\"mode\":\"markers\",\"x\":[0,1,2,3,4,5,6,7,8,9,10,11,12,13,14,15,16,17,18,19,20,21,22,23,24,25,26,27,28,29],\"y\":[0,0.8963897384711075,1.9558705389428306,0.9146198653299915,3.174764464629176,2.6237433546794167,5.394152416723251,5.920507098567652,0.6561737404607584,8.593323663972654,8.936327024792003,9.306688663042266,3.3449510564757925,10.776180795664894,0.4348196787674268,14.312912390374319,0.8465472259735112,2.0488461953744053,1.4357419695810656,8.568533317578721,6.50175554661806,20.459623350359525,15.766036726105629,9.058683380507794,21.83066366389967,16.653869623749138,20.375482059521204,2.1188499398397753,12.479977542536812,16.288906139416902]}]},{\"name\":\"series 38\",\"data\":[{\"name\":\"series 38\",\"type\":\"scatter\",\"mode\":\"markers\",\"x\":[0,1,2,3,4,5,6,7,8,9,10,11,12,13,14,15,16,17,18,19,20,21,22,23,24,25,26,27,28,29],\"y\":[0,0.5890225111159467,0.06024720682515183,1.2036270653198187,0.6730409570669269,3.0617933942479407,4.873359060052762,5.932411009969291,4.634958853975745,6.754121326874256,5.6782426819483796,10.927983714606814,11.11229798282952,3.659359035528615,13.001056583454782,6.704663311448623,3.927726163366808,11.763516769111073,9.21874055988226,13.009570216361066,16.61815216594638,6.945483385296248,14.735255442632397,13.765609232094889,8.176846590757252,5.5002768163641305,24.745337622085255,14.729465759585528,11.304343065436116,11.592343933468014]}]},{\"name\":\"series 39\",\"data\":[{\"name\":\"series 39\",\"type\":\"scatter\",\"mode\":\"markers\",\"x\":[0,1,2,3,4,5,6,7,8,9,10,11,12,13,14,15,16,17,18,19,20,21,22,23,24,25,26,27,28,29],\"y\":[0,0.7573794464708176,1.2999976335354546,0.5350338689372481,0.613207451003901,3.3162316791846216,0.701860937887941,2.215468564265375,2.5426066766232323,4.8530167951975205,4.082891004377897,5.278515306520055,3.833787563920121,11.803624684030083,11.406923738593353,3.9435746047769564,12.690575874138835,4.798750806926748,15.245985933609917,13.443387076592712,2.7815380705732817,3.593442858683235,6.022833405044193,11.940509353735298,23.310295425445176,18.704993477169854,21.143308806205617,3.147838287538364,13.797712444299032,6.404876882377931]}]},{\"name\":\"series 40\",\"data\":[{\"name\":\"series 40\",\"type\":\"scatter\",\"mode\":\"markers\",\"x\":[0,1,2,3,4,5,6,7,8,9,10,11,12,13,14,15,16,17,18,19,20,21,22,23,24,25,26,27,28,29],\"y\":[0,0.24409518312991163,0.19174890827322022,2.19260349917326,1.0484696162470533,0.5988030162343166,5.566724242410309,3.984159676979054,2.0189089384896244,8.987482153401118,5.113423846557397,6.520379597054609,8.084565791987416,7.644343162584937,10.70446666707177,14.923431169674135,4.389287732712988,16.472203715767385,16.64640577754165,18.969669173997218,13.885350171843822,11.516489107262197,20.882125770942448,14.201982555996734,11.590945327484619,2.4293682176830673,24.41851359607662,9.839405758886945,15.500385986072693,3.223835539557637]}]},{\"name\":\"series 41\",\"data\":[{\"name\":\"series 41\",\"type\":\"scatter\",\"mode\":\"markers\",\"x\":[0,1,2,3,4,5,6,7,8,9,10,11,12,13,14,15,16,17,18,19,20,21,22,23,24,25,26,27,28,29],\"y\":[0,0.6657362133206226,1.935679583310605,1.7267735370673192,3.3810992933388437,3.978808887392667,0.3523011081710328,4.95858345191035,6.081170039841581,3.0273216517262322,4.196494965918837,4.536144079543103,10.935306069677242,6.858331171475808,3.0089406741126217,14.636260347094442,8.431785990094399,6.572511885501817,10.788971258149884,0.4804485106043127,13.15668707084515,2.9874899504518906,17.043177349443326,19.78091847001846,3.7763593411279706,8.89163706584593,9.22572742796206,1.9048612805430256,24.000585745878123,2.360812797963635]}]},{\"name\":\"series 42\",\"data\":[{\"name\":\"series 42\",\"type\":\"scatter\",\"mode\":\"markers\",\"x\":[0,1,2,3,4,5,6,7,8,9,10,11,12,13,14,15,16,17,18,19,20,21,22,23,24,25,26,27,28,29],\"y\":[0,0.7836925923204965,0.053558874100192444,1.6778402271706796,1.4398599912395675,4.819816006707805,1.4658918772845995,1.5524296380121057,2.3800241252198804,8.541864385166997,7.470271346126939,2.774799469478653,0.0370063535748395,10.415732868836368,2.505521537545752,8.028943825619075,3.213934489337854,1.9425841272342894,7.344976914150755,11.459950700265262,1.9902612434164135,13.323486786295788,16.41167564230828,2.3488128183229287,7.085545013011425,10.552332807850487,12.264945251301693,10.149916398578517,9.927820397352852,9.05386918890835]}]},{\"name\":\"series 43\",\"data\":[{\"name\":\"series 43\",\"type\":\"scatter\",\"mode\":\"markers\",\"x\":[0,1,2,3,4,5,6,7,8,9,10,11,12,13,14,15,16,17,18,19,20,21,22,23,24,25,26,27,28,29],\"y\":[0,0.9970615921431325,0.6807294861721898,0.3452844896574929,2.7218632135837533,2.3142517476398283,4.51565703706738,2.3767427109787196,4.5896414338272695,7.359624288272715,9.699044938467429,2.396105997791798,7.129278387410476,8.625156262764788,4.172097841444485,6.984582845825123,3.100651727242319,14.877849608324212,2.8528937921744273,9.858549392086747,12.366214856620486,7.431945896676461,17.24120536085113,21.982704795701217,18.002955458794098,7.890544375356734,0.6042009291028085,11.730976203024083,17.85695856356838,27.29261700328434]}]},{\"name\":\"series 44\",\"data\":[{\"name\":\"series 44\",\"type\":\"scatter\",\"mode\":\"markers\",\"x\":[0,1,2,3,4,5,6,7,8,9,10,11,12,13,14,15,16,17,18,19,20,21,22,23,24,25,26,27,28,29],\"y\":[0,0.7546122289893991,0.9982069385200469,2.0804183093774378,2.0408976225401685,2.9296321101666427,3.7042189183312244,1.7277224872112893,1.2144470418620141,8.982864733801657,0.8389921535713241,8.410482333192709,9.202713752584573,2.243068218201668,10.990477968448285,3.227840869908274,2.1267246414305347,9.871768148996551,6.810470393467607,9.875654726892929,5.020899838910353,9.923156074950267,5.693184569104913,13.556049147736225,7.077505988640219,18.380522593522297,17.574997333778178,19.649766854072375,24.56336302735596,1.5522960881963095]}]},{\"name\":\"series 45\",\"data\":[{\"name\":\"series 45\",\"type\":\"scatter\",\"mode\":\"markers\",\"x\":[0,1,2,3,4,5,6,7,8,9,10,11,12,13,14,15,16,17,18,19,20,21,22,23,24,25,26,27,28,29],\"y\":[0,0.45103671474135876,1.3493349679036255,2.4966097196043924,3.848281440482811,2.5370836977036264,4.509154788337261,3.6749686295669486,0.639556405994413,6.905874070099289,6.336132567955528,9.41366657376884,3.093519286585984,9.079325210128584,4.127240470672287,13.716733536233646,0.006050003108711621,5.785685535577348,13.348019374392198,5.002378602189153,5.474171859177275,1.0554464260243668,17.74092384660277,22.989611983587952,1.258985694543739,20.076493995475488,2.4612648208542125,5.003816390234907,24.129060835980987,14.46970470837179]}]},{\"name\":\"series 46\",\"data\":[{\"name\":\"series 46\",\"type\":\"scatter\",\"mode\":\"markers\",\"x\":[0,1,2,3,4,5,6,7,8,9,10,11,12,13,14,15,16,17,18,19,20,21,22,23,24,25,26,27,28,29],\"y\":[0,0.17810176972189862,1.4126219150234343,1.6697177182493093,3.9720958317739283,0.868615948276818,0.021249377554289683,0.35605796675947343,3.505691823894808,6.371983946695563,2.6708300984045996,8.723207614668206,1.8442484590300894,12.401779849912263,4.5278718990483595,0.6510999354816266,8.658451531251195,6.784823568110269,14.158268249067017,18.978497788986,17.69901483840058,18.681388537100908,8.018939418178679,18.446395584809906,2.2898211002286146,2.2293684530533375,8.469386771631788,15.740619993739115,25.134562740051074,3.335932706006202]}]},{\"name\":\"series 47\",\"data\":[{\"name\":\"series 47\",\"type\":\"scatter\",\"mode\":\"markers\",\"x\":[0,1,2,3,4,5,6,7,8,9,10,11,12,13,14,15,16,17,18,19,20,21,22,23,24,25,26,27,28,29],\"y\":[0,0.9629607071804799,1.3770065848607098,1.4572396719104435,2.72581522352621,2.620260843710129,4.076025125816872,3.812390111884226,4.240486345472145,8.833451834801036,7.450853767671739,2.267665913115675,11.286762302164924,2.3642074003711464,8.49591408022264,3.2125543953934423,0.26626016376915906,10.113868083209331,10.628392220700844,1.853908648873249,9.497044523988086,14.007745404511438,4.917205597212703,15.23612183770221,3.700860517960195,6.503450211261494,9.36417161934447,4.569750452770676,6.717417933725772,11.996388841876025]}]},{\"name\":\"series 48\",\"data\":[{\"name\":\"series 48\",\"type\":\"scatter\",\"mode\":\"markers\",\"x\":[0,1,2,3,4,5,6,7,8,9,10,11,12,13,14,15,16,17,18,19,20,21,22,23,24,25,26,27,28,29],\"y\":[0,0.30959019838674384,0.21012778583925606,2.5048886903365544,0.22487644564073772,3.5940635359017117,2.9479640889577325,5.946213891106628,7.990819153118341,0.3551430762578779,4.733372570779441,0.2551111273745025,3.613597291770373,6.302733737101217,3.9409294494184586,4.617537315356334,2.1866285917514716,7.52822056258244,10.689288726871146,6.697387221767026,11.801772546349444,19.05811238198583,7.704816693769828,13.26233592739344,22.537960570663405,10.71730880326037,12.748181383931291,19.03312584699212,2.5859655588633372,24.06517988872159]}]},{\"name\":\"series 49\",\"data\":[{\"name\":\"series 49\",\"type\":\"scatter\",\"mode\":\"markers\",\"x\":[0,1,2,3,4,5,6,7,8,9,10,11,12,13,14,15,16,17,18,19,20,21,22,23,24,25,26,27,28,29],\"y\":[0,0.7277741136637516,1.9902139009698716,0.4813283509658772,3.964159083132391,3.347722677969413,1.8155547977667101,1.5441428106769686,7.8142702784695555,1.1042893262814224,5.180403400275205,5.766649570585858,8.885292832003387,3.0753357380415993,1.299791053627471,11.282666937111413,15.94819510208509,12.541332178354484,12.50991017248612,11.140644281796364,1.8931289310077615,12.657786634871956,21.252256752170485,7.231408814072097,1.6887804850013781,5.1054888348152,15.782771956781842,20.158736834181926,3.9069086474126045,3.1153872419589]}]}]\n",
       "var labels_GfcxVt9ZLB = [\"series 0\",\"series 1\",\"series 2\",\"series 3\",\"series 4\",\"series 5\",\"series 6\",\"series 7\",\"series 8\",\"series 9\",\"series 10\",\"series 11\",\"series 12\",\"series 13\",\"series 14\",\"series 15\",\"series 16\",\"series 17\",\"series 18\",\"series 19\",\"series 20\",\"series 21\",\"series 22\",\"series 23\",\"series 24\",\"series 25\",\"series 26\",\"series 27\",\"series 28\",\"series 29\",\"series 30\",\"series 31\",\"series 32\",\"series 33\",\"series 34\",\"series 35\",\"series 36\",\"series 37\",\"series 38\",\"series 39\",\"series 40\",\"series 41\",\"series 42\",\"series 43\",\"series 44\",\"series 45\",\"series 46\",\"series 47\",\"series 48\",\"series 49\"]\n",
       "var duration_GfcxVt9ZLB = 100\n",
       "var config_GfcxVt9ZLB = {\"responsive\":true,\"scrollZoom\":true,\"displaylogo\":false}\n",
       "\n",
       "var animation_settings_GfcxVt9ZLB = {\n",
       "    mode: \"immediate\",\n",
       "    direction: {},\n",
       "    fromcurrent: true,\n",
       "    frame: [\n",
       "      {duration: duration_GfcxVt9ZLB},\n",
       "      {duration: duration_GfcxVt9ZLB},\n",
       "      {redraw: true}\n",
       "    ],\n",
       "    transition: [\n",
       "      {duration: duration_GfcxVt9ZLB, easing: 'cubic-in-out'},\n",
       "      {duration: duration_GfcxVt9ZLB, easing: 'cubic-in-out'},\n",
       "    ],\n",
       "    ordering: \"layout first\"\n",
       "}\n",
       "\n",
       "var slider_GfcxVt9ZLB = document.createElement(\"input\")\n",
       "var play_GfcxVt9ZLB = document.getElementById(\"play_GfcxVt9ZLB\")\n",
       "var pause_GfcxVt9ZLB = document.getElementById(\"pause_GfcxVt9ZLB\")\n",
       "slider_GfcxVt9ZLB.id = \"slider_GfcxVt9ZLB\"\n",
       "slider_GfcxVt9ZLB.type = \"range\"\n",
       "slider_GfcxVt9ZLB.min = 0\n",
       "slider_GfcxVt9ZLB.max = frames_GfcxVt9ZLB.length - 1\n",
       "slider_GfcxVt9ZLB.value = 0\n",
       "document.getElementById(\"sliderContainer_GfcxVt9ZLB\").appendChild(slider_GfcxVt9ZLB);\n",
       "\n",
       "Plotly.newPlot(graph_GfcxVt9ZLB, traces_GfcxVt9ZLB, layout_GfcxVt9ZLB, config_GfcxVt9ZLB)\n",
       ".then(function () { Plotly.addFrames(graph_GfcxVt9ZLB, frames_GfcxVt9ZLB) })\n",
       "\n",
       "var trigger_GfcxVt9ZLB = true\n",
       "var reset_count_GfcxVt9ZLB = false\n",
       "\n",
       "play_GfcxVt9ZLB.addEventListener('click', function() {\n",
       "   trigger_GfcxVt9ZLB = true\n",
       "   if (reset_count_GfcxVt9ZLB) {\n",
       "      slider_GfcxVt9ZLB.value = 0\n",
       "      reset_count_GfcxVt9ZLB = false\n",
       "   }\n",
       "\n",
       "  const start_index = slider_GfcxVt9ZLB.value == labels_GfcxVt9ZLB.length - 1 ? 0 : slider_GfcxVt9ZLB.value\n",
       "  const end_index = labels_GfcxVt9ZLB.length\n",
       "  Plotly.animate(graph_GfcxVt9ZLB, labels_GfcxVt9ZLB.slice(start_index, end_index), animation_settings_GfcxVt9ZLB)\n",
       "})\n",
       "\n",
       "pause_GfcxVt9ZLB.addEventListener('click', function() {\n",
       "  Plotly.animate(graph_GfcxVt9ZLB, [null], animation_settings_GfcxVt9ZLB)\n",
       "})\n",
       "\n",
       "graph_GfcxVt9ZLB.on('plotly_redraw', () => {\n",
       "   value_GfcxVt9ZLB.innerHTML = slider_GfcxVt9ZLB.value;\n",
       "   if (trigger_GfcxVt9ZLB & !reset_count_GfcxVt9ZLB) ++slider_GfcxVt9ZLB.value\n",
       "   if (slider_GfcxVt9ZLB.value == labels_GfcxVt9ZLB.length - 1) reset_count_GfcxVt9ZLB = true\n",
       "});\n",
       "\n",
       "slider_GfcxVt9ZLB.oninput = function() {\n",
       "   Plotly.animate(graph_GfcxVt9ZLB, frames_GfcxVt9ZLB[this.value], animation_settings_GfcxVt9ZLB)\n",
       "   trigger_GfcxVt9ZLB = false\n",
       "   slider_GfcxVt9ZLB.value = this.value\n",
       "   value_GfcxVt9ZLB.innerHTML = this.value;\n",
       "   if (this.value == 0) reset_count_GfcxVt9ZLB = false\n",
       "   if (this.value == labels_GfcxVt9ZLB.length - 1) reset_count_GfcxVt9ZLB = true\n",
       "   reset_count_GfcxVt9ZLB = false\n",
       "}\n",
       "</script> \n"
      ]
     },
     "metadata": {},
     "output_type": "display_data"
    }
   ],
   "source": [
    "val xaxis = XAxis(title = \"X Variable\") setRange (0.0, 10.0)\n",
    "val yaxis = YAxis(title = \"Y Variable\") setRange (0.0, 10.0)\n",
    "\n",
    "// we can also specifiy the underlying layout directly - sometimes this can be useful\n",
    "val layout = ChartLayout(\"Animation XY\") setAxes(xaxis, yaxis)\n",
    "\n",
    "val series = createXYSeries(numberToCreate = 50, length = 30)\n",
    "\n",
    "val chart = Chart(animated = true, transition_duration=100) setChartLayout layout addSeries series\n",
    "\n",
    "chart.plotInline"
   ]
  },
  {
   "cell_type": "markdown",
   "metadata": {},
   "source": [
    "### 3D Animated Chart"
   ]
  },
  {
   "cell_type": "code",
   "execution_count": 42,
   "metadata": {},
   "outputs": [
    {
     "data": {
      "text/html": [
       "<div id=\"grid-container_Ej5o7CWipt\" class=\"grid-container\" align=\"center\"> \n",
       "<div id=\"grid_Ej5o7CWipt\" class=\"grid\" align=\"center\"> \n",
       "\n",
       "<div align=\"center\">\n",
       "  <div id=\"graph_rzFnga4Uia\" class=\"graph\"></div>\n",
       "  <div class=\"animationInterface\">\n",
       "    <button id=\"play_rzFnga4Uia\" class=\"picta-button\">Play</button>\n",
       "    <button id=\"pause_rzFnga4Uia\" class=\"picta-button\">Pause</button>\n",
       "    <div id=\"sliderContainer_rzFnga4Uia\" class=\"progressBar\"></div>\n",
       "    <div id=\"counterContainer_rzFnga4Uia\" class=\"inline-div\">\n",
       "        <h3>Frame: </h3> <h3 id=\"value_rzFnga4Uia\">0</h3>\n",
       "    </div>\n",
       "   </div>\n",
       "</div> \n",
       "\n",
       "</div> \n",
       "</div> \n",
       "<script>\n",
       "var masonry = new Macy({\n",
       "    container: '#grid_Ej5o7CWipt',\n",
       "    debug: true,\n",
       "    mobileFirst: true,\n",
       "    columns: 1,\n",
       "    margin: {\n",
       "        x: 0,\n",
       "        y: 0\n",
       "    }\n",
       "  });\n",
       "\n",
       "var graph_rzFnga4Uia = document.getElementById('graph_rzFnga4Uia')\n",
       "var traces_rzFnga4Uia = [{\"name\":\"series 0\",\"type\":\"scatter3d\",\"mode\":\"markers\",\"x\":[0,1,2,3,4,5,6,7,8,9,10,11,12,13,14,15,16,17,18,19,20,21,22,23,24,25,26,27,28,29,30,31,32,33,34,35,36,37,38,39,40,41,42,43,44,45,46,47,48,49,50,51,52,53,54,55,56,57,58,59,60,61,62,63,64,65,66,67,68,69,70,71,72,73,74,75,76,77,78,79,80,81,82,83,84,85,86,87,88,89,90,91,92,93,94,95,96,97,98,99],\"y\":[0,0.23584190155436047,1.709185434731122,0.7576089919572669,3.554765815018758,4.012702919325459,2.0077995660830537,0.07329351902139913,2.5463863486563225,1.8296369782689537,6.129585433665151,3.0238024994507073,7.124960255608635,2.0236054489684525,11.528853682409629,5.0747212035562175,10.094099202997755,16.26977495329326,2.8102452582924387,2.6571333845350344,10.498428571803197,7.874070601237737,8.501052764990057,6.381416872886606,3.837174034863901,4.734451622513805,5.26207536124312,12.889984483391624,8.025549525489653,18.59689558760444,11.861838997881906,17.07895194754536,27.316478882696195,12.609032342336041,9.105242700532177,14.414832169850627,35.59929567213951,19.102103738006445,30.512169939246196,16.744203332481227,2.059431780358807,40.26043957378707,10.134376701209856,10.591977230042103,26.363790679459026,37.11694105068594,32.73004580235311,9.717317862612543,45.58042188496174,43.39312826780852,23.834687720553,35.89548180282342,13.198367298506014,2.33319514087308,9.324742950727561,4.768862929870071,36.13402416215544,25.113114010512035,8.116086413089961,14.411279121765599,4.744206173026269,1.8882996742454305,35.923844136456204,39.226133771428486,59.863090964382785,27.32651763272506,52.78239606861363,15.201408891698016,21.990661231979054,11.806694098966899,18.5351521326501,7.622567946171181,21.233822259135025,49.599102184755225,37.002750514152055,70.34836823670214,64.6883408315962,21.52788805316757,13.275591616551237,43.934258340713626,56.899895257346095,36.103247994999464,65.8022567411951,62.49351033993964,25.106058326812647,71.1477185751953,59.90916377389852,15.467488946381424,26.387741825179553,40.7788419517446,48.3390263453923,86.68347630146177,40.898714033701665,36.49925005974453,9.586064910892459,45.46130675748347,84.24507568584929,39.33455307203876,24.484651177477442,95.33863410234027],\"z\":[0,3.73504921866804E7,-2.74390610426622E8,-2.618015686235545E9,3.9027988056858546E8,3.9650949533845887E9,3.119095308972663E9,7.529100075113821E9,5.058813312901863E9,1.1905723405905096E8,-6.327123287370383E9,-1.4912847940174754E9,1.6588183021602116E10,1.0053495381434126E10,3.8172161720457063E9,-1.9778887971454553E7,-1.1698748695811169E10,-6.524506123291277E8,-7.784817764580031E9,-2.4410731705633102E10,7.669088481586697E9,-1.15396972021092E9,-5.904175343211746E9,1.207704367679697E10,-1.8301112540670485E9,3.2194232667691612E10,-1.3580453519390686E9,2.7764832396520543E9,2.704331928850486E8,-2.1183594479612255E10,-1.0159730909014938E10,-4.462505681906625E10,3.554978683100202E10,-1.3454194309800447E10,3.2071772776602596E10,3.934034659289379E10,-4.720717974833873E10,3.331689005797933E9,3.616337722796049E10,1.4125825108756433E10,5.96824402475777E8,-1.676402503274264E10,-4.635616388151765E8,1.9407269241131586E8,7.060085261516748E10,7.3558612597761755E9,-2.274884594041069E10,-4.2268220840085826E9,-4.282774381820785E10,3.234416467273323E7,-8.373126808666194E10,-5.891614354266235E10,-1.0489515910954527E10,-6.733889551792604E10,4.356374572930001E10,-2.885496764458716E10,-4.0105019125654465E10,-7.030042363625896E9,-3.848091031745184E10,-4.214736062269026E10,1.9177743268492243E9,-9.525175773840474E10,-8.192262633736354E10,5.854364602018407E9,-1.8455322101103714E10,1.7351334574622032E10,-9.516228729434153E9,9.77980572615434E10,1.5372412207255507E10,-2.6127369572489532E10,-2.9673524781123684E10,2.470364914782803E9,8.570475828566519E10,4.675681220498081E10,3.7741854907503075E10,6.214792877545064E9,-1.8338148122334282E10,-3.2950324009451E7,-5.915132881383151E10,1.030665902023221E11,-7.18107138232752E10,9.632948166493243E10,8.786137968779402E10,-4.1754652029581764E10,5.5251074005327644E10,-5.538642281445311E10,-1.2250388385677608E10,7.894533951122548E10,8.570188164475258E10,-1.7698899482598605E11,6.760147439301924E10,7.738949447982811E10,1.0152757928586815E11,-1.0964397348100412E11,-2.3379306252611088E10,2.6128342201030308E10,-7.321754267144002E10,-3.560590602469818E10,2.2216845783579765E10,3.3146149380745876E10]}]\n",
       "var layout_rzFnga4Uia = {\"height\":550,\"width\":600,\"hovermode\":\"closest\",\"legend\":{\"orientation\":\"v\"},\"title\":{\"text\":\"Animation 3D\"},\"showlegend\":true}\n",
       "var frames_rzFnga4Uia = [{\"name\":\"series 0\",\"data\":[{\"name\":\"series 0\",\"type\":\"scatter3d\",\"mode\":\"markers\",\"x\":[0,1,2,3,4,5,6,7,8,9,10,11,12,13,14,15,16,17,18,19,20,21,22,23,24,25,26,27,28,29,30,31,32,33,34,35,36,37,38,39,40,41,42,43,44,45,46,47,48,49,50,51,52,53,54,55,56,57,58,59,60,61,62,63,64,65,66,67,68,69,70,71,72,73,74,75,76,77,78,79,80,81,82,83,84,85,86,87,88,89,90,91,92,93,94,95,96,97,98,99],\"y\":[0,0.23584190155436047,1.709185434731122,0.7576089919572669,3.554765815018758,4.012702919325459,2.0077995660830537,0.07329351902139913,2.5463863486563225,1.8296369782689537,6.129585433665151,3.0238024994507073,7.124960255608635,2.0236054489684525,11.528853682409629,5.0747212035562175,10.094099202997755,16.26977495329326,2.8102452582924387,2.6571333845350344,10.498428571803197,7.874070601237737,8.501052764990057,6.381416872886606,3.837174034863901,4.734451622513805,5.26207536124312,12.889984483391624,8.025549525489653,18.59689558760444,11.861838997881906,17.07895194754536,27.316478882696195,12.609032342336041,9.105242700532177,14.414832169850627,35.59929567213951,19.102103738006445,30.512169939246196,16.744203332481227,2.059431780358807,40.26043957378707,10.134376701209856,10.591977230042103,26.363790679459026,37.11694105068594,32.73004580235311,9.717317862612543,45.58042188496174,43.39312826780852,23.834687720553,35.89548180282342,13.198367298506014,2.33319514087308,9.324742950727561,4.768862929870071,36.13402416215544,25.113114010512035,8.116086413089961,14.411279121765599,4.744206173026269,1.8882996742454305,35.923844136456204,39.226133771428486,59.863090964382785,27.32651763272506,52.78239606861363,15.201408891698016,21.990661231979054,11.806694098966899,18.5351521326501,7.622567946171181,21.233822259135025,49.599102184755225,37.002750514152055,70.34836823670214,64.6883408315962,21.52788805316757,13.275591616551237,43.934258340713626,56.899895257346095,36.103247994999464,65.8022567411951,62.49351033993964,25.106058326812647,71.1477185751953,59.90916377389852,15.467488946381424,26.387741825179553,40.7788419517446,48.3390263453923,86.68347630146177,40.898714033701665,36.49925005974453,9.586064910892459,45.46130675748347,84.24507568584929,39.33455307203876,24.484651177477442,95.33863410234027],\"z\":[0,3.73504921866804E7,-2.74390610426622E8,-2.618015686235545E9,3.9027988056858546E8,3.9650949533845887E9,3.119095308972663E9,7.529100075113821E9,5.058813312901863E9,1.1905723405905096E8,-6.327123287370383E9,-1.4912847940174754E9,1.6588183021602116E10,1.0053495381434126E10,3.8172161720457063E9,-1.9778887971454553E7,-1.1698748695811169E10,-6.524506123291277E8,-7.784817764580031E9,-2.4410731705633102E10,7.669088481586697E9,-1.15396972021092E9,-5.904175343211746E9,1.207704367679697E10,-1.8301112540670485E9,3.2194232667691612E10,-1.3580453519390686E9,2.7764832396520543E9,2.704331928850486E8,-2.1183594479612255E10,-1.0159730909014938E10,-4.462505681906625E10,3.554978683100202E10,-1.3454194309800447E10,3.2071772776602596E10,3.934034659289379E10,-4.720717974833873E10,3.331689005797933E9,3.616337722796049E10,1.4125825108756433E10,5.96824402475777E8,-1.676402503274264E10,-4.635616388151765E8,1.9407269241131586E8,7.060085261516748E10,7.3558612597761755E9,-2.274884594041069E10,-4.2268220840085826E9,-4.282774381820785E10,3.234416467273323E7,-8.373126808666194E10,-5.891614354266235E10,-1.0489515910954527E10,-6.733889551792604E10,4.356374572930001E10,-2.885496764458716E10,-4.0105019125654465E10,-7.030042363625896E9,-3.848091031745184E10,-4.214736062269026E10,1.9177743268492243E9,-9.525175773840474E10,-8.192262633736354E10,5.854364602018407E9,-1.8455322101103714E10,1.7351334574622032E10,-9.516228729434153E9,9.77980572615434E10,1.5372412207255507E10,-2.6127369572489532E10,-2.9673524781123684E10,2.470364914782803E9,8.570475828566519E10,4.675681220498081E10,3.7741854907503075E10,6.214792877545064E9,-1.8338148122334282E10,-3.2950324009451E7,-5.915132881383151E10,1.030665902023221E11,-7.18107138232752E10,9.632948166493243E10,8.786137968779402E10,-4.1754652029581764E10,5.5251074005327644E10,-5.538642281445311E10,-1.2250388385677608E10,7.894533951122548E10,8.570188164475258E10,-1.7698899482598605E11,6.760147439301924E10,7.738949447982811E10,1.0152757928586815E11,-1.0964397348100412E11,-2.3379306252611088E10,2.6128342201030308E10,-7.321754267144002E10,-3.560590602469818E10,2.2216845783579765E10,3.3146149380745876E10]}]},{\"name\":\"series 1\",\"data\":[{\"name\":\"series 1\",\"type\":\"scatter3d\",\"mode\":\"markers\",\"x\":[0,1,2,3,4,5,6,7,8,9,10,11,12,13,14,15,16,17,18,19,20,21,22,23,24,25,26,27,28,29,30,31,32,33,34,35,36,37,38,39,40,41,42,43,44,45,46,47,48,49,50,51,52,53,54,55,56,57,58,59,60,61,62,63,64,65,66,67,68,69,70,71,72,73,74,75,76,77,78,79,80,81,82,83,84,85,86,87,88,89,90,91,92,93,94,95,96,97,98,99],\"y\":[0,0.4521681331843612,1.7603247486665161,0.34332640419795024,3.677855065626917,4.87579426082712,0.5442987273900706,1.555076262400434,1.870631092462328,0.4553631970168408,0.11204300185809424,0.029838068677277008,6.066003016659961,5.213608853488465,4.248639935401863,2.553022399252107,9.794172659094725,3.8001549458679027,3.6433051572669886,2.4118502164487348,8.753269882959495,9.537622954488038,14.364647199302633,13.420127582116354,2.7894576832744136,8.04194399058504,12.108758435891401,21.660510739802774,5.40466657799305,11.982745583211038,17.346186510532107,26.246946738125,22.446323163651737,23.332875969398827,10.531919740566146,31.59356446484534,19.290674485256602,15.352636384728827,26.88138955482735,3.098175423165631,31.41430567298017,0.814030390823197,29.105140345936892,4.058689746751145,39.00725466408693,26.843402559886187,34.18524824825384,42.28919856635552,26.465665829600063,17.497166309629378,13.017775467989068,31.539179767013646,22.462327583997066,20.034922406775056,33.787552704609254,6.694306830122445,22.079508958827788,36.06716314640962,9.53433609150766,12.100598959562053,5.450486147871958,47.580942590697056,55.7629568242695,37.45522141749861,15.743792560445641,41.53631368455551,1.394409981763275,63.79709555225571,47.38773753574032,63.5291083967127,32.0999424585903,45.45859262594053,55.421989744540994,42.18162364842104,59.35611446939824,18.6559939898072,1.0280343123291575,6.702070371490469,7.655460699844198,62.95110579692129,52.881183076679655,6.696267624728834,58.454873023554576,6.359338345174407,37.233373171429854,2.070827502623464,46.89203080990128,71.66087417631587,47.82838026444731,88.9863530338792,32.29927563176744,24.741030810657,50.119266948053685,31.55144810695243,84.3440703829974,16.793744407408308,19.051806017226866,43.544153253004204,73.47582879269042,57.21822525947134],\"z\":[0,3.2930273145089734E8,4.072591009901875E8,-6.966975694357767E8,-6.917917784767155E9,2.237188247093696E9,-3.6157819836412024E9,-6.416526633728714E8,-1.016884870569794E10,-2.326112433484593E9,-1.2986000913965424E10,9.918627256396587E8,1.1326654614753325E8,3.6301320961774697E9,3.5185447605056047E9,1.827928774670909E10,2.0266680963124474E10,4.6154476461642414E8,1.39170881844193E10,-3.179191331954015E8,8.427769665853299E8,-2.293237495020998E8,1.9890362803538364E10,1.6770274186933025E10,2.9193528558971344E10,-1.195099695262398E10,2.0672732111918556E10,-8.640994850934532E9,-6.147488857020514E9,-1.6208105009145365E9,4.829158247354425E10,1.8219797033599777E10,1.6605837911618448E10,-4.0247288885600784E10,-3.648222009125248E10,-4.850684297696365E9,-2.2556638177654118E10,4.4447961654181435E10,-1.0356948964254763E10,-9.402196532543997E9,3.691490853721991E9,5.822281918886197E10,-6.550347960939579E10,8.551675936048157E9,5.1015910499492424E10,4.283927760417881E9,-1.5222895056282682E9,2.9439153185251186E10,-2.1013964547183834E10,3.0368014572831535E10,2.4746794216312614E10,7.156792207434375E10,5.661455397677024E10,7.513821442298364E10,6.309053609811015E10,1.084845480428113E11,2.1553107312172916E10,-3.032642875630633E10,5.225742227678029E10,6.812705466786999E10,8.779879320897943E9,-5.026762019132296E10,-3.63053613781489E9,-2.8722188050808616E9,9.738171577239967E10,-5.005821400391602E10,-8.423084159102815E10,-1.791344327983042E9,6.313959897562871E10,1.0154406731112128E11,-3.0094371968975415E9,-3.717356661487164E10,-1.4832201135507587E10,2.3412443674669662E10,-2.15889635962118E10,-9.077067243183363E10,-2.9074547574779625E10,1.7799691778201954E9,3.856491208197026E10,3.0985749089528103E9,1.1441353818812424E10,1.0135383137742833E11,-8.174151611554767E10,6.5401953848562126E10,-7.9990331442738E10,3.167420957762708E10,-1.3097511591310274E10,-2.8543774070542557E10,-1.177301425022696E11,8.281941603608391E9,1.3594214265093006E10,-7.386726930595042E9,-2.5551480291994595E10,-7.28150968370194E10,-6.082028189450446E10,-4.907264445419108E9,-5.683906446097643E10,-1.3342629029570148E11,9.035080868794983E9,8.588443943646355E10]}]},{\"name\":\"series 2\",\"data\":[{\"name\":\"series 2\",\"type\":\"scatter3d\",\"mode\":\"markers\",\"x\":[0,1,2,3,4,5,6,7,8,9,10,11,12,13,14,15,16,17,18,19,20,21,22,23,24,25,26,27,28,29,30,31,32,33,34,35,36,37,38,39,40,41,42,43,44,45,46,47,48,49,50,51,52,53,54,55,56,57,58,59,60,61,62,63,64,65,66,67,68,69,70,71,72,73,74,75,76,77,78,79,80,81,82,83,84,85,86,87,88,89,90,91,92,93,94,95,96,97,98,99],\"y\":[0,0.08779012662489594,1.8532935915581306,1.4613821655699915,0.5468996119781306,2.4161294158849786,1.0533917088131781,0.5453867657686635,4.213666412455795,5.833469713677786,0.9100955194289195,5.104630185874599,1.2779949367560444,7.96583027947267,11.931020687691792,10.16274036043969,11.626626329879404,13.156185154287126,17.44779602741142,14.406753269142925,15.58535375674955,15.743769899235343,10.499631245222625,20.751504396219133,13.994397708459372,10.96046654676113,19.342996372066025,22.210008418755702,19.154652294854717,2.1951315956260773,4.916041203003633,8.815320118572073,2.392371554112689,15.06618813720858,19.546338283002598,29.710464952921832,26.350219692126956,19.10803143356797,27.01377713425154,3.694905561420943,26.96123327474909,6.167820264640822,16.0169610604473,41.73866016920991,41.64917409518829,22.076022981841586,16.39126818629195,22.49863527296804,26.87392380650887,42.04665275809591,6.33980486741621,29.94594313811019,21.954076986742784,13.831505508535807,43.714877029749616,7.087983551978352,41.40060952684064,35.14684060172996,27.277224548534882,26.69484565382236,11.035582682720497,51.56086213961431,3.113212941534517,48.16615250896257,24.19812117932571,39.126093723413895,59.25637670939353,28.451810414866248,59.606538808350216,47.812169639779135,44.28921014216459,66.51824545675399,64.20033711885601,11.491878814412493,51.543855825118165,1.4806357282899891,34.77900735276072,45.106331451140264,37.726429768313125,73.45130904598287,47.73595599974547,39.933932072994644,31.60902374636622,13.634956870998437,26.905668678372145,39.86246079241488,37.11604883473106,67.48258670894397,85.75015088233052,34.4639732356015,41.927519599452005,72.04811131713446,48.05707600596535,15.748359463898504,89.88099286024949,62.32434399085668,81.25653799696359,45.973412486852524,59.22640004419641,17.51873529376556],\"z\":[0,2.884061176781741E8,2.3746905637035836E7,-1.7027402018846205E8,1.611813304916574E9,-4.929846480212726E8,4.510285641867334E8,-5.06181475049735E7,-1.3210206670667548E9,-7.823845320477931E8,1.4057789268550107E9,1.6448399549487293E10,-4.63524480425975E9,1.7175342346701788E10,-7.320460205228533E9,1.2311680968820978E10,5.15090897742443E9,-1.0206539192260572E10,2.3762871809883358E10,2.16713207045259E10,1.7629987851831725E9,3.318860500433056E10,9.126668922437042E8,1.0151035832129545E10,-3.852359106694234E10,-3.0198447386614014E10,2.3631368712549033E9,3.740866016966835E10,6.774994286475008E9,-2.4518767772433826E10,2.831117363360074E10,1.1979763910008299E10,-3.637048743305373E10,-3.48237467244585E10,5.581863313020157E10,1.02365499445874E10,1.6002860217691038E10,5.211462285265434E10,1.2762787445082357E10,7.140357242768744E9,1.9494584998182816E10,2.7817101572971817E10,2.1936222767894726E10,2.3292023242943966E10,8.653492685331817E8,7.298596811150109E9,-5.077236297565863E10,6.013023387686029E10,-3.0328310495334415E10,-4.674893559230235E9,-2.054075181773965E10,2.5002839005202103E10,-4.842635183538728E9,-4.62835540214698E9,3.7367766916443375E10,1.0112431695838528E9,4.959845603732309E9,-2.8064840714418236E10,6.143131044401002E9,3.514027847895378E10,1.3113439783930218E10,-2.665676179112074E10,1.1337972530355986E10,5.2803588754671234E10,-3.7884369983538246E10,8.443493164583066E10,-8.39660027989013E9,2.901283094868301E10,8.97435808334402E9,3.964842586270222E10,5.682432850478595E10,-5.971329334271479E10,7.434273885901309E9,-1.0566301745147745E10,6.676973390784544E10,-1.82456543607355E10,-5.1948876455222084E10,-3.764163775720565E10,-3.3989470755947834E10,-4.711732083216834E10,-3.913462197293288E10,3.232236643752646E9,-3.1219568346452953E10,4.8184498168307724E10,1.2071910080467474E11,2.4380865723194656E10,8.887991979156812E10,-9.488069529816458E10,-2.5727723355969513E10,-3.614292172834978E10,-1.1771972081543888E10,-5.029981389643427E9,6.6500090333840996E10,5.765519525174098E10,-8.602458788875186E10,-5.37707642768362E9,1.9789254068308098E10,-1.549160702378261E10,-7.83990119385904E10,-1.0874509636459166E11]}]},{\"name\":\"series 3\",\"data\":[{\"name\":\"series 3\",\"type\":\"scatter3d\",\"mode\":\"markers\",\"x\":[0,1,2,3,4,5,6,7,8,9,10,11,12,13,14,15,16,17,18,19,20,21,22,23,24,25,26,27,28,29,30,31,32,33,34,35,36,37,38,39,40,41,42,43,44,45,46,47,48,49,50,51,52,53,54,55,56,57,58,59,60,61,62,63,64,65,66,67,68,69,70,71,72,73,74,75,76,77,78,79,80,81,82,83,84,85,86,87,88,89,90,91,92,93,94,95,96,97,98,99],\"y\":[0,0.26579793660806583,1.103906204618027,2.7414051216157844,3.0649580012456923,4.065487113563561,3.25113281844288,4.81438390776409,2.0135490661888165,1.8447825348092466,5.408644675451155,3.397202386094426,6.602079435514814,11.41585652155474,5.019407038866898,12.098529277771707,1.607777647441429,13.270405972118148,13.611873577217153,0.9620022677276825,5.161406268910604,8.357647913301106,9.346010338161506,18.250246555586624,0.33401813611472786,2.9868035630924687,10.255943111314371,25.452660709060346,16.441667565166032,1.0194303148428352,18.60616180639623,29.559770329108364,26.044595126935526,0.6126535599559578,2.4100749598998323,33.20553503748929,32.93087066213834,32.108348624456916,24.217295804133972,21.200883490452856,31.738748412770942,14.48557971393666,24.00946239653312,16.516889242556303,21.537009908097446,11.354146791735094,44.70356149777097,4.174452930571631,37.898412148028555,41.01592903392414,1.5966954004944078,32.009062581465,15.017946037746578,43.907823070311544,21.34696509489209,9.15422498386413,21.494992882319615,30.015445593647755,56.02167090990581,3.5754064486523225,46.76663001727138,41.86046451089291,59.60633278312555,62.337923634805904,6.0983102409856755,46.66637336067261,54.40613283295114,12.757039655368192,4.7577995193801845,66.54774498579374,59.23522051621483,26.406663146572136,48.76884996611829,9.29651231078112,0.42900185546571157,12.404436740848695,14.712309288502045,30.805667066713678,44.77994345773734,71.69571824288855,70.66446678667207,40.6257570608454,40.738638643461734,11.476879567986218,42.785270890643915,50.84303522090677,36.888868533886274,38.679662832536884,27.542720783596444,4.649639601549315,51.048196835526944,16.83279302396479,42.33410178234467,3.896200891181167,9.614118072960068,17.87491999051459,19.589961510028047,34.825413543802966,19.220224317372733,72.86401376482036],\"z\":[0,2.0682213721498E8,2.962672415667875E7,6.1816425641338065E7,-7.245473816388143E8,4.6426303973896475E9,-1.476276214603233E9,-8.252454829358271E8,-4.638910338137789E8,-8.668941828277905E8,-1.818249976291545E10,-1.0976017175600742E10,-1.8435046934538344E8,-4.0785976142486067E9,-5.901517579323484E9,-6.768420397568787E8,-4.7462891273517656E8,4.265258789194957E9,-8.884520387762845E8,1.8839531643363335E10,7.7380781983324175E9,-2.399011620775089E9,6.222291110311591E9,-2.457586499305614E10,-2.907122652418288E9,-3.438216878977669E9,9.02071949432856E9,-3.5094424962934203E9,-1.2733378232061824E8,1.4714782782062641E10,-2.502181870910027E9,4.023381546416253E9,-6.621793149438913E9,-2.1232984478398994E10,-3.589287122084801E9,1.8245274306791565E10,2.9526057398572575E10,-5.0166403497171616E10,-2.306947606183161E10,5.697959505468713E9,-2.3122906116682854E8,-3.708820647629582E8,-1.0334229751821928E10,3.0983880652577538E10,-6.059112586045193E10,-3.8343924054401054E10,-1.2286838221927267E10,-5.3400280679217766E10,9.1162933221586E9,-1.8306599634048527E10,9.5996325589829E10,4.7225096546063576E10,-1.773292278605509E10,-4.2929071390254005E10,-3.0230574019229383E9,-2.978860915461165E10,-8.055015114876271E9,-9.524080246423837E10,-5.986467604282387E10,-3.9133292961940503E9,2.0099473703893862E9,2.757780615837537E9,-4.714762515219804E10,7.789858433420897E10,5.507606424339202E9,-2.3745703332912224E10,1.817477417377392E10,-8.392362455562534E10,2.0266930611093948E9,4.818230655930164E10,-2.1431062325379024E9,-3.886674621577269E10,-5.727748291953075E10,1.2174546990580597E10,-1.7803892277622795E10,1.3266779133396997E9,5.622755651630516E9,4.382613373879284E10,7.664721020400284E10,1.2928223576099254E11,9.354213948860909E9,1.0901314788634144E10,1.381600345294034E9,-3.61571833700524E10,5.010582811307362E10,-1.1727718307301222E11,-1.2929799349460321E11,3.748230042786654E10,2.912929492195549E10,1.5327494637182974E10,3.404089733992455E9,8.682905128167958E10,2.346596672447464E9,-1.2803105919516942E11,3.825723467283801E10,-2.8591033939909077E10,1.0935658986240414E10,-3.2851679090798843E10,1.8042034044168545E10,7.060164672060773E10]}]},{\"name\":\"series 4\",\"data\":[{\"name\":\"series 4\",\"type\":\"scatter3d\",\"mode\":\"markers\",\"x\":[0,1,2,3,4,5,6,7,8,9,10,11,12,13,14,15,16,17,18,19,20,21,22,23,24,25,26,27,28,29,30,31,32,33,34,35,36,37,38,39,40,41,42,43,44,45,46,47,48,49,50,51,52,53,54,55,56,57,58,59,60,61,62,63,64,65,66,67,68,69,70,71,72,73,74,75,76,77,78,79,80,81,82,83,84,85,86,87,88,89,90,91,92,93,94,95,96,97,98,99],\"y\":[0,0.34732610576801737,1.8991337898899612,2.6138619644274055,0.3631612263102819,2.128163327080294,0.7484372569041027,2.4974822681311815,6.692580523402979,2.635403207355134,4.225665453835024,6.576819510806,2.613090100433185,9.327847591973864,6.880464858412423,13.460294444427921,7.897089975738693,2.9741171705250693,2.954222651980203,9.831517618845389,10.10236802509291,14.498488711224049,9.60071004416086,18.03182325909904,17.406364940833676,3.2971946359665383,2.023697257186684,18.354845868821553,23.059132096735954,5.568901471935161,15.156912749628692,6.982112292830375,20.03056159640882,23.205024714304194,13.565438561587982,19.234709170346488,18.944057660149017,36.588296231396576,11.289624466255876,12.48795096840544,39.51871125165039,27.501475795611437,2.6328654876902045,4.94365811469351,33.73519122392754,32.50244189597272,31.663168411270384,18.72805603630977,42.0470320653147,28.826943967540018,18.70523171330231,50.732555140756226,6.428700193208894,46.386160321604926,10.594921866535433,18.48965340791429,14.134840574226637,25.9828621779436,56.20138721908448,18.42699718572745,19.991403477159338,50.72739094265584,5.9437643013755395,15.319177077142598,5.0988984701185345,16.04286690509968,19.989371642644496,23.909214686921604,12.250898201324503,24.85802455286929,10.76853107591763,11.749786582935892,41.40703394078335,17.8458510541747,11.627688394344656,22.56814820451502,64.4591350860866,8.126727327695715,7.117305395003209,55.13843542944208,43.54188211064772,31.96611762012187,73.82407795377723,41.00043044414437,23.515286160204248,77.90896778042895,12.058404633430015,56.645198949590764,85.23558756987491,11.755834895979342,44.347669424768235,9.244979285375466,32.083728708294515,9.049467622195131,28.81387730385116,15.887557357223137,26.186288172777594,37.55502321926248,46.38029675272261,10.833925214041225],\"z\":[0,5.907867434973364E8,-4.1352332895315766E8,3.5612001538194532E9,-2.706797685815811E8,-1.9640153274267967E9,-1.0310340376722029E10,-3.8772007618477626E9,-2.203492105767145E9,2.0144939772927332E8,6.754354456814247E9,1.6771487502492754E10,-1.7642426029735258E9,-9.586728545668354E9,-8.617542803824444E9,-6.555803206641554E9,-2.262973653942712E8,-5.763110373220364E9,-2.6040778132596483E9,-5.174717929383205E9,3.8321967323798475E9,4.789249104853445E9,-1.1211448479712938E10,-4.2061428059917088E9,-3.356919363098687E10,1.1128151598694954E10,-4.600168623519718E8,3.1761532870498753E9,-1.547416539693817E10,1.6244679489486232E9,3.3244675725960674E9,3.2974543887855392E10,-4.069877932726174E10,-1.4805678818362653E9,8.795177554637354E9,-2.3692768316389404E10,-7.773506204337523E9,-2.4644677270977837E10,-4.3950075364486496E10,-6.1615483361701004E10,-3.113157798870277E10,-5.4737937575758295E9,1.1178202678919569E8,-3.3175356008290237E10,-7.904535116623392E8,7.801739002341585E10,-5.832291710451762E10,-5.7511068627848335E10,-1.5153101764835157E10,2.4863669227275496E9,-4.851212845721894E10,5.060089863746641E10,-3.666563141661364E10,1.7998310973827297E10,2.493487746373119E9,-4.354813362183944E10,-5.729353984835594E9,1.7608740486938507E10,2.3106859136909317E10,9.501392034429462E10,3.2531414536218838E10,3.556843065133715E10,-1.0195145943254482E10,3.060028149424215E10,7.355910973023051E9,1.7850340242808037E10,4.07602606598348E10,6.478200977183834E9,-2.942553128176536E10,-6.164533054641245E10,7.532970692864902E10,-3.9980026643779854E10,3.267699430563125E10,-2.763367907458003E10,7.02259783177013E10,-3.1942260534055622E10,2.081207939862247E10,-1.1141013810421856E10,7.327281175137167E10,-1.249393923202331E9,1.0350808452405193E10,-7.217705738987871E10,-1.0938266622804947E10,-1.5172034782771631E10,-5.6618501457953224E10,9.355123300462206E9,-1.0966325107726324E11,8.652555743465039E10,-2.096430910458553E10,4.681852422524704E10,5.854665856362171E9,1.3880530333147186E10,2.256187722826721E10,-9.570114957514078E10,1.5421085107226377E10,1.8325808474791635E11,1.150598373146312E10,-2.795337058853593E10,-1.3624650148161966E10,-8.009262281726596E10]}]},{\"name\":\"series 5\",\"data\":[{\"name\":\"series 5\",\"type\":\"scatter3d\",\"mode\":\"markers\",\"x\":[0,1,2,3,4,5,6,7,8,9,10,11,12,13,14,15,16,17,18,19,20,21,22,23,24,25,26,27,28,29,30,31,32,33,34,35,36,37,38,39,40,41,42,43,44,45,46,47,48,49,50,51,52,53,54,55,56,57,58,59,60,61,62,63,64,65,66,67,68,69,70,71,72,73,74,75,76,77,78,79,80,81,82,83,84,85,86,87,88,89,90,91,92,93,94,95,96,97,98,99],\"y\":[0,0.9537850451471365,0.12066223934159992,1.5311985847237157,3.0920299433367866,0.19987401125470983,1.0156762605004546,5.110060447491336,6.3378266408302295,7.200088171600405,0.4582037113496229,9.193346426381357,7.287958191017301,8.817307739261635,4.145875477945145,7.638556717552007,8.60423463762067,13.027397351440067,17.029726568776432,16.29058070593109,14.8277471777125,18.930556769164127,13.708395447861257,9.870052185233478,7.143993191010416,21.5885701491326,11.026471242715125,23.045614917393095,4.630261526832976,1.0582654507003602,15.815296569489886,12.578465283352942,0.5144092461556369,6.399698360445925,32.940121280627196,19.361154011080295,31.94387661443675,19.209057749692857,29.59385453484431,36.59449085341971,17.909303169292574,23.611063887523283,35.3548335634227,13.506551212718408,18.538391649983485,31.893663500283616,20.153937181180797,31.166235621259105,18.22273991952666,13.329166699413246,20.22509379752122,5.3305219513841084,35.213210193643356,8.450571263270714,13.59272175421502,12.139601733195718,43.66804349236453,19.38972140795918,21.929919036478314,7.087297507548772,36.9123235291103,30.085100997490855,44.952265889573354,56.295817701812624,55.11762119333553,24.48153637115598,55.14394521040185,7.963636084749907,18.98660106685965,18.521805583675928,20.795493180749233,51.18352593016875,21.579123350100687,49.02116413507605,72.3159192645252,60.39408370624059,5.393954079456437,37.670106671383756,22.81607248014198,3.782824911793458,7.47346815809002,3.6782419097449295,81.29512401314223,70.25189653066299,31.877861990539156,55.20304965914299,49.64776857270514,62.33866238583607,70.63026475589976,78.9513982091806,49.39626641908674,32.003014887032464,85.41480898949129,42.44911236547896,8.788754626608991,33.7009982871058,15.1661441163733,15.69466516789879,71.94335158605817,88.91050484010704],\"z\":[0,-3.8697095299397933E8,1.114916360203349E9,1.2931701978693724E9,3.447968665370007E9,6.99295909373403E8,-1.2179610206105442E8,7.302371065784197E9,8.694620904468799E7,-8.359462136299762E9,5.63981310887722E7,4.984228963806029E9,-3.2246844575527525E8,7.206770551215526E9,-6.611868019166682E8,-1.592050441704186E10,-7.552125263186766E8,3.7549371963857265E9,8.258799092269388E9,-7462917.761135551,-2.709493901031905E8,-2.7317294354129898E10,4.514101941520845E9,8.571995617653343E9,-9.298385780938889E8,7.236856539429501E9,-2.5715021221520226E10,-2.190124054346092E9,-7.932087863313744E9,-1.460552264777281E10,-5.817018161659858E9,2.9485423666172224E8,3.865845818795761E10,-9.009576375829414E9,9.50121064624572E8,2.7881058460905356E9,1.9289373979157498E9,2.7443545256546494E10,3.6979456104588013E9,3.8373532803959114E10,-3.691948544015534E10,-2.1512421400827293E10,1.0920484051737263E10,-2.9608564628454914E10,-3.34622491856419E10,9.1656689838755E9,-3.057246121125113E9,-4.355891259311931E9,-1.1054585535578024E10,3.1966475997400043E10,2.888672551521491E10,3.006036393657273E10,9.313622668992524E8,1.8284960272516341E9,-1.0122616388801407E11,-1.3727705924590063E10,-6.898591517400083E9,4.661428999890313E10,4.8655260967406685E10,-1.649703167339165E9,1.1151399867536414E11,2.0386797165105297E10,-7.23409746248816E10,-3.249645524081353E10,-7.405380696545961E10,1.720438221488193E10,2.4670665981883774E10,-1.1164699747582155E10,2.9158306550943954E10,-5.427451888268718E9,1.2421178580692181E11,1.8110526326416504E10,2.5901366008902664E10,-5.8463998169479744E10,-4.666287871941673E10,1.1040270526461707E11,8.100773869617883E10,-1.755524301725497E10,2.0687820767992123E10,7.637152989296811E10,1.953780379274916E10,3.549562016194604E10,1.139624109477992E11,-5.134383348743792E10,-4.260990943492123E10,-1.5887305333454151E10,6.4004960548964966E10,4.708085519359509E10,-3.9641168838416016E10,-5.4029158384082306E10,-9.940038174326894E10,-4.3728550950265625E10,1.74425621567632E10,-4.911068979096032E9,4.959456168087883E10,8.598172523219331E10,-2.8273835651863407E10,-2.2887018631215897E10,2.5732728066216465E10,1.3529559149330876E11]}]},{\"name\":\"series 6\",\"data\":[{\"name\":\"series 6\",\"type\":\"scatter3d\",\"mode\":\"markers\",\"x\":[0,1,2,3,4,5,6,7,8,9,10,11,12,13,14,15,16,17,18,19,20,21,22,23,24,25,26,27,28,29,30,31,32,33,34,35,36,37,38,39,40,41,42,43,44,45,46,47,48,49,50,51,52,53,54,55,56,57,58,59,60,61,62,63,64,65,66,67,68,69,70,71,72,73,74,75,76,77,78,79,80,81,82,83,84,85,86,87,88,89,90,91,92,93,94,95,96,97,98,99],\"y\":[0,0.203106243488966,1.9999804912672585,1.8890938211095656,2.321111867740435,3.3934206681311214,3.1918761316165525,4.439085869419629,4.8301042443616105,5.624914381310971,6.995925233165485,10.722895524209004,5.346365390977809,7.907381095142254,8.830484336666334,10.281524444587635,12.691651032843357,13.595241482950918,2.077578479249352,13.332023032564068,8.160627367550399,17.184983173141454,9.947146529626602,5.571476743560098,19.93165236524314,6.021170860957429,17.550818344328516,6.955296088724082,10.804773454070798,10.790546037674801,9.275326817939156,30.60522180047955,28.838485475859873,9.998207189990453,31.69311108283319,28.12354628789518,18.129640333800833,13.860075032222584,32.5084151563951,31.761920977795302,9.392050065078742,37.46188646322227,7.661211254143366,6.365789759991197,43.38870542798916,22.876734163114637,15.948569327076505,21.038913463181547,20.91027283935208,7.450761375017045,49.62369975708435,44.296672105322884,13.118467325832977,15.909987919497224,38.64675082688515,43.35183361991117,45.93717473795606,14.56034888053465,43.83858002748926,30.352268578547434,8.026752487074454,19.898004618118904,12.379182006670906,32.116623607585765,19.967712443733518,57.66762940236671,42.14613151445375,2.44134452451519,26.85915063346428,56.05290519981114,35.55540972136777,47.63055085524072,49.85461406380432,54.50569869526177,39.09725675538252,62.77915068618294,74.46380260241422,25.96845109774472,59.903229351766406,28.76931533722452,20.99242180679954,69.16813704351523,69.68751966788618,7.170851190969767,55.52474690121891,50.509757920657364,63.52564991992776,58.51731126216662,18.623949241692188,8.122720480026205,32.417104248422284,18.01166516871843,1.6840491002472122,39.064636543254785,2.6751306671857584,42.8481871042292,23.86438757891497,80.81402782374914,28.146881870754793,60.270836526741114],\"z\":[0,6.774913509771774E8,1.760224542823382E9,1.4592774176118906E9,1.8886701589688787E9,-2.5302580549231796E9,-5.058538462702286E9,-2.9000313639114326E8,8.965323303069282E8,1.1276456728139324E9,6.325377787804975E9,1.976663614095677E10,2.4076432116628885E9,2.1636879351170403E10,-1.9900358648263721E9,-1.5215684717788183E10,1.2072064945387089E10,-3.5116371141403073E8,6.852784985006315E8,5.649954199850748E9,-1.6412875644791508E10,-2.664617848085063E10,3.751516018408168E7,-3.1560356327254906E10,1.6294356767431659E8,1.4335640404939665E10,-3.5923025805308784E10,-1.0534568546994371E10,-1.0043191003815145E9,-4.612021263838083E9,-2.1006321618708836E10,9.121837367524975E9,-2.1234507412216716E9,-7.218003128376587E9,-3.766795067892998E10,-4.936668412540528E10,1.4288346322357012E10,2.8229516772869087E10,-2.3997719958975494E10,3.756317879584559E10,-3.473538139168734E9,2.506404468196715E10,1.6305192721269258E10,-1.4400660501807303E9,2.3947929416333458E10,-2.286395107874385E9,-4.120380863935613E10,5.030293170168406E10,4.1192913917808995E9,-5.255417746108156E10,2.791695173772903E10,8.63613501171708E10,6.903516525779031E10,-2.994966685152868E10,-1.1171621919859816E10,-1.3602814418450575E10,3.3819310529571796E10,-2.878711459741749E9,-1.5654843302413E10,4.052972688986568E9,-6.605683309741767E9,6.674433184296896E9,3.159212652249636E9,1.89808545837254E10,-9.88358771112965E9,-9.565577914177687E10,2.7270924158792976E10,2.1589743112912636E10,-5.1134179695485085E10,2.8415745798590466E10,-4.6146987028945526E10,-3.320542453159679E10,-7.077973876474649E10,-1.1849356296375248E10,-1.2599589975186055E11,-7.499725903322188E10,7.541431013757225E10,6.277838124874111E10,2.4572804600369507E10,-8.848496380165067E10,8.181808121620802E10,-9.327022847486108E10,-2.2765598349213856E10,-4.905157751502842E10,1.1352027744967064E10,-1.116681414968175E10,-9.161022093992128E9,-6.7138570157203064E10,-1.454404501918319E11,9.663433004481262E9,5.459656705053736E10,-2.3172804837378498E10,-1.9229605005529214E11,-1.3281754136969885E11,8.757271988067646E8,6.571018655008778E10,-4.544730819650322E10,-2.4655007784094563E10,1.5130819363038162E10,4.453787522366306E8]}]},{\"name\":\"series 7\",\"data\":[{\"name\":\"series 7\",\"type\":\"scatter3d\",\"mode\":\"markers\",\"x\":[0,1,2,3,4,5,6,7,8,9,10,11,12,13,14,15,16,17,18,19,20,21,22,23,24,25,26,27,28,29,30,31,32,33,34,35,36,37,38,39,40,41,42,43,44,45,46,47,48,49,50,51,52,53,54,55,56,57,58,59,60,61,62,63,64,65,66,67,68,69,70,71,72,73,74,75,76,77,78,79,80,81,82,83,84,85,86,87,88,89,90,91,92,93,94,95,96,97,98,99],\"y\":[0,0.8883304286290895,0.5982674708792686,2.734801816973119,1.100992363253006,3.692552275311401,4.676132437097091,1.6704772963889654,6.140938126513849,1.51392998274308,1.1040577219549896,10.248088690362284,10.583213477561264,11.892554779385918,8.273542250151527,11.40060992054348,11.275132835355558,6.84954258986744,12.969762351794115,5.725317249340834,5.4349252753508,3.4404601000979484,21.75524178584391,4.296800875813794,8.058185421018166,15.041870621483842,12.422381150420643,11.570066250366459,16.355800621701718,4.426729796737416,9.079982498760206,14.08814538795609,17.410565931973412,23.405076884756838,2.2582383959548675,9.01724874440704,22.865672120030567,6.015441749983254,1.9117805483544978,19.45434707477964,38.38499668455855,2.19966184876179,34.62126657516946,21.23724091704879,20.102694601659714,27.829334405809906,14.890685077139672,35.88560776200349,47.557871009505675,47.1259877945031,10.459988011663135,11.563230020991615,40.9392455195336,37.179125741020385,27.250945613274286,9.826622435732409,22.094602192669704,10.666725219120611,5.188093831693728,53.663548132428296,59.94045285625863,19.271407940603407,37.93648287232739,12.176457600272759,31.888821744919888,2.912499395132504,51.82352185465556,60.48078304972006,13.9402733452545,64.02936809081234,58.11354887104743,49.21607548497572,31.425298694587774,29.005014382065838,2.630942605954155,2.7594312330224136,40.259997092389746,3.660628457385165,1.7305035384522418,70.03531580703427,1.2665173137106311,71.83193185488125,26.04254045847705,74.98387584803031,65.84411553064098,31.606488198561454,23.524593073964738,42.53106498978545,6.312793412971264,5.107781122670895,17.382011043694185,75.54846257600164,2.8384088350428973,80.00681920843041,72.62563154085869,75.04843712002415,41.23583029499264,25.47517925175712,59.66666649089161,73.98146240740786],\"z\":[0,-8.658327604581625E8,-6.193466997280096E8,-1.529458685960114E9,2.2502295865901604E9,5.794288219700077E9,1.197900782993468E9,-1.3059167034370763E9,-6.571356883163976E9,4.929242980209827E9,-3.869648437731344E9,2.8385838633112986E7,-1.426855635331249E9,1.2145666725977442E10,-1.3111737098513916E9,8.074375851973598E9,-5.444721774749071E9,-2.2487005596915026E9,-2.8635020644645294E10,5.777755395570705E9,-1.3405507487553793E10,8.092748435713834E8,-8.666864636972816E9,4.982060703064224E9,-6.076943387627014E8,-2.036970337826584E9,3.9077008446878786E9,-6.631269437433237E9,-1.740695662747087E10,2.3350176391605793E10,2.857920588974798E9,-5.878587156360775E10,8.947249474528395E9,-5.583425269027519E10,-1.6579417277746653E10,-2.500724753485767E9,-4.238186264315353E8,3.8360563583791842E9,6.859246048998856E10,-2.925771546628516E10,1.908412169805026E10,-3.7944331463768715E10,-1.446072909871702E10,6.000407211375546E10,1.7116143789490717E10,-1.7418696411277718E10,-3.8458044485956245E10,-2.1244361940169846E10,5.414356891756663E10,9.235134236213978E9,7.708992189674291E9,5.5256339343241776E10,7.487740084019219E8,2.0511729858737663E10,-4.613600325182373E10,-1.1664974909496271E10,-9.324035779762152E10,6.209661836026555E10,-9.008400228809053E10,-8.051246309253165E10,3.4031783998276325E10,1.9929135996504284E10,-2.1481154683634933E10,3.705372019480569E10,2.6696048741257645E10,4.229864371059225E10,4.3772760115427025E10,4.067330233600141E9,3.0415386986853878E10,9.729313073774109E9,-5.150712669825881E10,5.518660419236047E9,-6.966298849449326E10,2.4107449208218445E10,-8.560002436427168E9,4.358623836900732E10,-2.7735299274576992E10,4.2293558382708845E9,6.590417927365557E10,8.573291735086195E9,1.7148346530834383E10,5.728732173693512E7,-2.8054056662401096E10,-4.074573158845369E10,-2.6038347707836347E9,6.938999046497092E9,8.422298573348376E10,9.026041049044119E9,2.0230586677109706E9,-1.9052432468713367E10,-1.1980434766453374E11,1.467910466426431E10,-1.7002713053566223E11,1.4488276727500822E10,1.5654355659918585E8,-1.608653012288971E8,6.105472847206467E10,4.390128925921394E10,-1.0414820201382242E10,-1.6846425109000772E11]}]},{\"name\":\"series 8\",\"data\":[{\"name\":\"series 8\",\"type\":\"scatter3d\",\"mode\":\"markers\",\"x\":[0,1,2,3,4,5,6,7,8,9,10,11,12,13,14,15,16,17,18,19,20,21,22,23,24,25,26,27,28,29,30,31,32,33,34,35,36,37,38,39,40,41,42,43,44,45,46,47,48,49,50,51,52,53,54,55,56,57,58,59,60,61,62,63,64,65,66,67,68,69,70,71,72,73,74,75,76,77,78,79,80,81,82,83,84,85,86,87,88,89,90,91,92,93,94,95,96,97,98,99],\"y\":[0,0.464795250590918,0.06063244163357684,0.6114259632313438,2.9110012448776676,1.8719740353500174,0.06958086873718505,2.154707670748617,2.2744609774671725,2.3846446865403674,0.8688740557003416,2.0799901005778434,3.511499182308863,7.2868489568985355,10.122119262508008,12.60951101801705,6.753196958988019,10.356659918766173,11.226182581981497,15.212851019390852,2.7260180139835177,14.215756021114329,19.678902468029648,6.656604001466844,1.3249271540595222,2.040070405013064,15.599044002966147,2.0140066372246817,17.268876891707823,9.26482352243983,15.996290180408899,7.934335685821886,20.44914145646711,16.544207430615877,14.630266909359197,28.96799304575686,4.410088439369494,19.903721199110457,6.777095844457761,27.41504950265482,31.094356982191837,12.00167074342346,33.1897404687607,37.262707642098526,13.79007400030275,15.945650108821004,2.244469200516933,21.550538227162154,23.38668859189131,8.439885003059842,37.96008590752282,45.20161019607898,13.828233207972652,2.4202016325735087,26.509213760674115,28.23260171811118,13.298315987450955,49.01500078859595,31.261793600359166,4.556763540587359,34.4299600490595,31.90305127333099,36.560148016016235,47.570191910543734,27.955445860465275,50.17212272172248,15.57244258222415,47.614182158367825,47.94669781526644,26.866448438302626,3.957071815939127,2.484581539280275,21.395356905002732,65.79580056972607,32.944579191588026,16.66295100800239,12.593619577149541,39.114465070066366,59.05596125623659,56.12404701347158,19.852111666233434,27.91478206802026,51.27685913255772,46.67958420358218,22.77952390153521,13.866979633748342,42.345949009391056,5.099515703815662,28.900533266920434,16.024962223847577,45.143028495227995,75.95907781437201,53.05353161880958,13.556346331652444,84.227707138047,19.54265070283432,22.038030066932432,63.59451812534723,96.63334232201875,48.444134460497175],\"z\":[0,8.214543722521069E8,-3.257883007674628E8,6.522273031188228E8,-2.464915679818566E9,1.1063368365493768E8,-4.1412131754271865E9,2.767788334841898E9,-2.1551245032253656E8,-7.359334022178574E8,1.56980832283434E10,-2.752338652030838E9,-3.316728197652044E9,6.401859627151538E8,-5.753536479501867E9,2.2478237523625703E9,8.886079911986568E8,-1.7511523296648304E10,2.6044375915924557E10,2.681262403869679E10,1.4115652933930952E10,1.4100015669444443E10,-1.4217026207811289E10,2.4143058629215524E7,1.3971751550831038E10,-3.737558641367811E8,2.81772276711509E10,-1.1250562198893719E9,1.1545964306073683E10,-6.815643095176119E9,1.4387448705333538E10,1.2851709404317165E10,1.6076564078387768E10,-3.575582493402129E10,5.513015731125112E10,-3.212696464984665E9,-4.202439713847402E10,1.810196290400404E8,3.3169669592542923E10,-2.3420120058750224E9,1.6387480260742527E10,-5.329960680834827E9,-1.6241574791689827E10,-1.3867080075023432E10,5.284967250682828E9,6.6621683189092E10,-3.1102933335404568E10,2.6231786939471655E9,5.062794670185403E9,2.702225672959669E9,1.264196730521985E10,-2.5971401227204132E10,-8.953992630902992E9,2.5977084448913704E10,5.4516114243357765E10,-3.9550102100023046E9,-8.588393501478692E9,1.2515234649184301E10,-2.861093482294146E10,7.183983360687274E10,3.6937594145441574E10,2.7701562321967434E10,2.5437699296282692E10,6.63557987995193E9,3.599757191893301E10,3.401123447890384E8,4.1096156080992874E10,1.7211696637180534E10,2.2216256853806252E9,-6.78559416496726E9,4.819219465448394E8,4.206319785045729E8,-5.3650775559052956E10,1.159816092038199E9,-3.3763889414281216E10,-2.4474376836106323E10,-1.5316725420028735E11,-1.1471770932169368E11,-3.0112016617148136E10,-1.0838050808241983E11,1.0249129534392117E10,-2.0606736219754362E9,-9.586218275006665E10,5.8191855987216774E10,-8.858381769519838E9,-2.708430208035619E10,-4.0944544042863655E10,4.181629846994417E10,2.785596754311851E10,-3.787996681107838E10,-3.4734050402169174E10,4.867916526581477E10,-5.918984060678419E9,5.61318326004854E9,-1.3567631431767246E10,4.849234368789297E9,-3.70092218190446E9,9.384811173156616E9,7.225415075808449E9,3.7554062169798256E10]}]},{\"name\":\"series 9\",\"data\":[{\"name\":\"series 9\",\"type\":\"scatter3d\",\"mode\":\"markers\",\"x\":[0,1,2,3,4,5,6,7,8,9,10,11,12,13,14,15,16,17,18,19,20,21,22,23,24,25,26,27,28,29,30,31,32,33,34,35,36,37,38,39,40,41,42,43,44,45,46,47,48,49,50,51,52,53,54,55,56,57,58,59,60,61,62,63,64,65,66,67,68,69,70,71,72,73,74,75,76,77,78,79,80,81,82,83,84,85,86,87,88,89,90,91,92,93,94,95,96,97,98,99],\"y\":[0,0.8047589741397563,1.2397379948043274,2.1641551251409763,2.154976394294206,0.6022447917967999,4.202519782761238,3.4520810031796954,4.768889248812133,5.579378930463361,8.28765044150754,4.064786750198576,8.114380484666313,7.954655451201358,2.0732381817893217,3.3448098480211503,10.247085984252415,14.252233080533513,9.23935336359274,18.591471087223084,15.960518114604259,1.2360647059640688,5.23152090388638,4.691736149212887,12.348186440531029,12.494861627101859,17.738391063199558,15.93557411348615,26.69226422038241,8.774519680269234,10.156034084306242,5.411766671781044,18.504560430948263,15.187846772129815,33.62436773498494,34.06370259467529,19.827775200356832,9.077898916412643,32.43511850392653,5.906574968053362,22.61303448315113,32.8210192271146,15.87534559946593,42.31755239950731,43.37347865698899,17.478704684766473,21.13599834729455,29.958933798932467,17.623257949052185,38.19375577071149,23.031183367496794,12.031012329409055,30.096635339161526,20.82578284730375,17.1908173176535,42.42638023952522,43.653030560228224,5.784024987128997,24.357096634079596,9.220678941781632,26.36075361638642,3.5916094075560188,42.683793141445854,8.036368623544131,28.764872734562346,33.654837253340204,32.756708221023665,51.40593555058585,8.033133646283467,25.263808949459683,42.67373672797664,8.589062904618144,36.78811016845667,2.2667338164499062,26.193881413887315,57.614738201876804,12.22381024949756,36.389542145912614,45.93626050709321,17.873909507331685,51.820754057632,18.0650001908333,72.13259295919819,62.631284666406316,77.86519156883458,69.14143095186218,39.75989901690688,40.60617103517255,50.29545298844304,42.210208616040056,19.254150293433735,59.54168094961651,26.39164340114387,64.77367047936741,80.68047236643852,83.68954456325586,14.743792157932386,9.320798646937677,6.460998656634426,70.63379895941436],\"z\":[0,-2.112664297641054E9,-2.3915619084016166E9,-1.0515307031741945E9,-4.060909878339232E9,-7.28586989768249E9,1.1856454163457828E9,3.1175049445127797E9,-2.328358422627623E8,-7.515126656757152E7,-3.534096536226268E9,-1.0057054307216293E10,-9.55534077962608E9,-1.9032920237552464E10,-7.286774689171051E8,9.622213765878393E9,-2.6064847315907245E9,2.3502081805518276E10,1.4081367396873077E10,-2.5952148071922035E10,3.612267113449301E9,-4.185493214835909E9,3.9636859948953476E9,-4.437341775739557E9,1.0466918692179855E10,-3.6670961185881763E9,-3.2824838409596887E9,3.8412494234303185E10,-1.543065756026683E9,-3.0205418045099964E10,-2.397605095793982E9,1.894698658941033E9,1.221057656404282E10,2.2392944030665443E10,-1.5918913556439438E10,-2.4521844211589428E10,-4.58325522609612E9,5.313054717474582E10,-1.503833048046072E10,-3.572950361557841E10,-1.9524682222056851E9,1.4605593426491642E9,1.509127256301257E10,-3.1052174233034397E10,-8.675665465090733E9,1.3853136858415209E10,5.095674543054074E10,-1.848028096558164E10,-3.6482268046169266E10,-2.6781228538493736E10,-2.998367147891579E10,-2.8213853444395367E10,2.447183403346533E10,-3.89736753637699E10,-8.983452326858763E8,1.4181652618622751E10,-1.223447541471005E9,-2.0833730243630585E10,5.290677787803958E10,-4.105082640663832E10,1.9168033077597878E10,-7.973643155928839E10,6.5928638058658085E9,-1.1005585007930884E11,-5.042219290647395E9,1.6922214960787157E10,-3.096538601821411E10,7.316346716132703E9,6.537136895711671E9,-2.426843982446599E10,4.079855920263581E10,-3.2728851737479645E10,-5.818493030276479E10,-1.0181460835034634E11,7.47331899441531E10,-1.111830475938013E10,4.291009256747042E9,2.3824941337495056E10,-4.0130343486811056E9,7.485740947701778E10,1.1257951755442148E10,-4.734577706301056E10,-1.085887584894089E10,1.261327793650671E11,1.423158359900743E11,-3.0160183118240726E10,3.773763583382558E9,-2.079013796637649E10,9.317853257216034E10,3.1756193426095684E10,-5.40480756690043E10,-3.737236717286598E10,-7.264986244145606E9,9.123416761634169E9,-2.9728409766420635E10,-5.985082229022225E9,-4.095004471120707E10,-1.3829296933162894E9,1.3804555548817416E11,3.3617141096103992E10]}]}]\n",
       "var labels_rzFnga4Uia = [\"series 0\",\"series 1\",\"series 2\",\"series 3\",\"series 4\",\"series 5\",\"series 6\",\"series 7\",\"series 8\",\"series 9\"]\n",
       "var duration_rzFnga4Uia = 100\n",
       "var config_rzFnga4Uia = {\"responsive\":true,\"scrollZoom\":true,\"displaylogo\":false}\n",
       "\n",
       "var animation_settings_rzFnga4Uia = {\n",
       "    mode: \"immediate\",\n",
       "    direction: {},\n",
       "    fromcurrent: true,\n",
       "    frame: [\n",
       "      {duration: duration_rzFnga4Uia},\n",
       "      {duration: duration_rzFnga4Uia},\n",
       "      {redraw: true}\n",
       "    ],\n",
       "    transition: [\n",
       "      {duration: duration_rzFnga4Uia, easing: 'cubic-in-out'},\n",
       "      {duration: duration_rzFnga4Uia, easing: 'cubic-in-out'},\n",
       "    ],\n",
       "    ordering: \"layout first\"\n",
       "}\n",
       "\n",
       "var slider_rzFnga4Uia = document.createElement(\"input\")\n",
       "var play_rzFnga4Uia = document.getElementById(\"play_rzFnga4Uia\")\n",
       "var pause_rzFnga4Uia = document.getElementById(\"pause_rzFnga4Uia\")\n",
       "slider_rzFnga4Uia.id = \"slider_rzFnga4Uia\"\n",
       "slider_rzFnga4Uia.type = \"range\"\n",
       "slider_rzFnga4Uia.min = 0\n",
       "slider_rzFnga4Uia.max = frames_rzFnga4Uia.length - 1\n",
       "slider_rzFnga4Uia.value = 0\n",
       "document.getElementById(\"sliderContainer_rzFnga4Uia\").appendChild(slider_rzFnga4Uia);\n",
       "\n",
       "Plotly.newPlot(graph_rzFnga4Uia, traces_rzFnga4Uia, layout_rzFnga4Uia, config_rzFnga4Uia)\n",
       ".then(function () { Plotly.addFrames(graph_rzFnga4Uia, frames_rzFnga4Uia) })\n",
       "\n",
       "var trigger_rzFnga4Uia = true\n",
       "var reset_count_rzFnga4Uia = false\n",
       "\n",
       "play_rzFnga4Uia.addEventListener('click', function() {\n",
       "   trigger_rzFnga4Uia = true\n",
       "   if (reset_count_rzFnga4Uia) {\n",
       "      slider_rzFnga4Uia.value = 0\n",
       "      reset_count_rzFnga4Uia = false\n",
       "   }\n",
       "\n",
       "  const start_index = slider_rzFnga4Uia.value == labels_rzFnga4Uia.length - 1 ? 0 : slider_rzFnga4Uia.value\n",
       "  const end_index = labels_rzFnga4Uia.length\n",
       "  Plotly.animate(graph_rzFnga4Uia, labels_rzFnga4Uia.slice(start_index, end_index), animation_settings_rzFnga4Uia)\n",
       "})\n",
       "\n",
       "pause_rzFnga4Uia.addEventListener('click', function() {\n",
       "  Plotly.animate(graph_rzFnga4Uia, [null], animation_settings_rzFnga4Uia)\n",
       "})\n",
       "\n",
       "graph_rzFnga4Uia.on('plotly_redraw', () => {\n",
       "   value_rzFnga4Uia.innerHTML = slider_rzFnga4Uia.value;\n",
       "   if (trigger_rzFnga4Uia & !reset_count_rzFnga4Uia) ++slider_rzFnga4Uia.value\n",
       "   if (slider_rzFnga4Uia.value == labels_rzFnga4Uia.length - 1) reset_count_rzFnga4Uia = true\n",
       "});\n",
       "\n",
       "slider_rzFnga4Uia.oninput = function() {\n",
       "   Plotly.animate(graph_rzFnga4Uia, frames_rzFnga4Uia[this.value], animation_settings_rzFnga4Uia)\n",
       "   trigger_rzFnga4Uia = false\n",
       "   slider_rzFnga4Uia.value = this.value\n",
       "   value_rzFnga4Uia.innerHTML = this.value;\n",
       "   if (this.value == 0) reset_count_rzFnga4Uia = false\n",
       "   if (this.value == labels_rzFnga4Uia.length - 1) reset_count_rzFnga4Uia = true\n",
       "   reset_count_rzFnga4Uia = false\n",
       "}\n",
       "</script> \n"
      ]
     },
     "metadata": {},
     "output_type": "display_data"
    }
   ],
   "source": [
    "val series = createXYZSeries(numberToCreate = 10, length = 100)\n",
    "\n",
    "val layout = ChartLayout()\n",
    "\n",
    "val chart = Chart(animated = true) setTitle \"Animation 3D\" addSeries series \n",
    "\n",
    "chart.plotInline"
   ]
  },
  {
   "cell_type": "markdown",
   "metadata": {},
   "source": [
    "## IO + Utility Functions\n",
    "\n",
    "The library also comes with some basic CSV IO functions and a utility function for breaking down data"
   ]
  },
  {
   "cell_type": "code",
   "execution_count": 43,
   "metadata": {},
   "outputs": [],
   "source": [
    "import org.carbonateresearch.picta.IO._\n",
    "import org.carbonateresearch.picta.common.Utils.getSeriesbyCategory"
   ]
  },
  {
   "cell_type": "code",
   "execution_count": 44,
   "metadata": {},
   "outputs": [
    {
     "name": "stdout",
     "output_type": "stream",
     "text": [
      "/Users/fazi/Desktop/Final Project/irp-acse-fk4517/Code\n"
     ]
    }
   ],
   "source": [
    "val working_directory = getWorkingDirectory\n",
    "\n",
    "println(working_directory)"
   ]
  },
  {
   "cell_type": "code",
   "execution_count": 45,
   "metadata": {},
   "outputs": [],
   "source": [
    "// by providing a path, we can read in a CSV\n",
    "val filepath = working_directory + \"/iris_csv.csv\"\n",
    "\n",
    "val data = readCSV(filepath)\n",
    "\n",
    "// by default, CSV are read in as strings. However we can convert the individual columns to the correct format\n",
    "val sepal_length = data(\"sepallength\").map(_.toDouble)\n",
    "val petal_width = data(\"petalwidth\").map(_.toDouble)\n",
    "val categories = data(\"class\")"
   ]
  },
  {
   "cell_type": "code",
   "execution_count": 46,
   "metadata": {},
   "outputs": [
    {
     "data": {
      "text/html": [
       "<div id=\"grid-container_NUVGCBcx9E\" class=\"grid-container\" align=\"center\"> \n",
       "<div id=\"grid_NUVGCBcx9E\" class=\"grid\" align=\"center\"> \n",
       "<div id=\"graph_1XrIvSQPCK\" class=\"graph\"></div> \n",
       "</div> \n",
       "</div> \n",
       "<script>\n",
       "var masonry = new Macy({\n",
       "    container: '#grid_NUVGCBcx9E',\n",
       "    debug: true,\n",
       "    mobileFirst: true,\n",
       "    columns: 1,\n",
       "    margin: {\n",
       "        x: 0,\n",
       "        y: 0\n",
       "    }\n",
       "  });\n",
       "\n",
       " var traces_1XrIvSQPCK = [{\"name\":\"gYqqjBC4RX\",\"type\":\"scatter\",\"mode\":\"markers\",\"x\":[5.9,6.2,6.5,6.3,6.7,6.7,6.8,5.8,6.9,6.7,6.9,6,6.4,6.3,7.7,6.1,6.3,6.4,7.9,7.4,7.2,6.4,6.1,6.2,7.2,6.7,6.3,7.7,5.6,6.9,6,7.7,7.7,6.5,6.4,5.8,5.7,6.8,6.4,6.5,7.2,6.7,7.3,4.9,7.6,6.5,6.3,7.1,5.8,6.3,5.7,5.1,6.2,5.7,5.7,5.6,5,5.8,6.1,5.5,5.5,5.6,6.3,6.7,6,5.4,6,5.8,5.5,5.5,5.7,6,6.7,6.8,6.6,6.4,6.1,6.3,6.1,5.9,5.6,6.2,5.8,5.6,6.7,5.6,6.1,6,5.9,5,5.2,6.6,4.9,6.3,5.7,6.5,5.5,6.9,6.4,7,5,5.3,4.6,5.1,4.8,5.1,5,4.4,4.5,5,5.1,4.4,4.9,5.5,5,4.9,5.5,5.2,5.4,4.8,4.7,5.2,5.2,5,5,4.8,5.1,4.6,5.1,5.4,5.1,5.7,5.1,5.4,5.7,5.8,4.3,4.8,4.8,5.4,4.9,4.4,5,4.6,5.4,5,4.6,4.7,4.9,5.1],\"y\":[1.8,2.3,2,1.9,2.3,2.5,2.3,1.9,2.3,2.4,2.1,1.8,1.8,2.4,2.3,1.4,1.5,2.2,2,1.9,1.6,2.1,1.8,1.8,1.8,2.1,1.8,2,2,2.3,1.5,2.3,2.2,1.8,2.3,2.4,2,2.1,1.9,2,2.5,1.8,1.8,1.7,2.1,2.2,1.8,2.1,1.9,2.5,1.3,1.1,1.3,1.3,1.2,1.3,1,1.2,1.4,1.2,1.3,1.3,1.3,1.5,1.6,1.5,1.6,1.2,1,1.1,1,1.5,1.7,1.4,1.4,1.3,1.2,1.5,1.3,1.8,1.1,1.5,1,1.5,1.4,1.3,1.4,1,1.5,1,1.4,1.3,1,1.6,1.3,1.5,1.3,1.5,1.5,1.4,0.2,0.2,0.2,0.2,0.3,0.4,0.6,0.2,0.3,0.3,0.2,0.2,0.1,0.2,0.2,0.1,0.2,0.1,0.4,0.2,0.2,0.2,0.2,0.4,0.2,0.2,0.5,0.2,0.4,0.2,0.3,0.3,0.3,0.4,0.4,0.2,0.1,0.1,0.2,0.2,0.1,0.2,0.2,0.3,0.4,0.2,0.2,0.2,0.2,0.2]}];\n",
       " var layout_1XrIvSQPCK = {\"height\":550,\"width\":600,\"hovermode\":\"closest\",\"legend\":{\"orientation\":\"v\"},\"title\":{\"text\":\"Uninformative Chart\"},\"showlegend\":true};\n",
       " var config_1XrIvSQPCK = {\"responsive\":true,\"scrollZoom\":true,\"displaylogo\":false};\n",
       " Plotly.newPlot(\"graph_1XrIvSQPCK\", traces_1XrIvSQPCK, layout_1XrIvSQPCK, config_1XrIvSQPCK);\n",
       "</script> \n"
      ]
     },
     "metadata": {},
     "output_type": "display_data"
    }
   ],
   "source": [
    "val series = XY(sepal_length, petal_width) asType SCATTER drawStyle MARKERS\n",
    "\n",
    "val chart = Chart() addSeries series setTitle \"Uninformative Chart\"\n",
    "\n",
    "chart.plotInline"
   ]
  },
  {
   "cell_type": "markdown",
   "metadata": {},
   "source": [
    "The above chart is not very informative. However since we have the per data point category labels, we can use the utility function to display the data in the different clusters"
   ]
  },
  {
   "cell_type": "code",
   "execution_count": 47,
   "metadata": {},
   "outputs": [
    {
     "data": {
      "text/html": [
       "<div id=\"grid-container_uto05Q9vCY\" class=\"grid-container\" align=\"center\"> \n",
       "<div id=\"grid_uto05Q9vCY\" class=\"grid\" align=\"center\"> \n",
       "<div id=\"graph_VpyXR00RwE\" class=\"graph\"></div> \n",
       "</div> \n",
       "</div> \n",
       "<script>\n",
       "var masonry = new Macy({\n",
       "    container: '#grid_uto05Q9vCY',\n",
       "    debug: true,\n",
       "    mobileFirst: true,\n",
       "    columns: 1,\n",
       "    margin: {\n",
       "        x: 0,\n",
       "        y: 0\n",
       "    }\n",
       "  });\n",
       "\n",
       " var traces_VpyXR00RwE = [{\"name\":\"Iris-versicolor\",\"type\":\"scatter\",\"mode\":\"markers\",\"x\":[7,6.4,6.9,5.5,6.5,5.7,6.3,4.9,6.6,5.2,5,5.9,6,6.1,5.6,6.7,5.6,5.8,6.2,5.6,5.9,6.1,6.3,6.1,6.4,6.6,6.8,6.7,6,5.7,5.5,5.5,5.8,6,5.4,6,6.7,6.3,5.6,5.5,5.5,6.1,5.8,5,5.6,5.7,5.7,6.2,5.1,5.7],\"y\":[1.4,1.5,1.5,1.3,1.5,1.3,1.6,1,1.3,1.4,1,1.5,1,1.4,1.3,1.4,1.5,1,1.5,1.1,1.8,1.3,1.5,1.2,1.3,1.4,1.4,1.7,1.5,1,1.1,1,1.2,1.6,1.5,1.6,1.5,1.3,1.3,1.3,1.2,1.4,1.2,1,1.3,1.2,1.3,1.3,1.1,1.3]},{\"name\":\"Iris-setosa\",\"type\":\"scatter\",\"mode\":\"markers\",\"x\":[5.1,4.9,4.7,4.6,5,5.4,4.6,5,4.4,4.9,5.4,4.8,4.8,4.3,5.8,5.7,5.4,5.1,5.7,5.1,5.4,5.1,4.6,5.1,4.8,5,5,5.2,5.2,4.7,4.8,5.4,5.2,5.5,4.9,5,5.5,4.9,4.4,5.1,5,4.5,4.4,5,5.1,4.8,5.1,4.6,5.3,5],\"y\":[0.2,0.2,0.2,0.2,0.2,0.4,0.3,0.2,0.2,0.1,0.2,0.2,0.1,0.1,0.2,0.4,0.4,0.3,0.3,0.3,0.2,0.4,0.2,0.5,0.2,0.2,0.4,0.2,0.2,0.2,0.2,0.4,0.1,0.2,0.1,0.2,0.2,0.1,0.2,0.2,0.3,0.3,0.2,0.6,0.4,0.3,0.2,0.2,0.2,0.2]},{\"name\":\"Iris-virginica\",\"type\":\"scatter\",\"mode\":\"markers\",\"x\":[6.3,5.8,7.1,6.3,6.5,7.6,4.9,7.3,6.7,7.2,6.5,6.4,6.8,5.7,5.8,6.4,6.5,7.7,7.7,6,6.9,5.6,7.7,6.3,6.7,7.2,6.2,6.1,6.4,7.2,7.4,7.9,6.4,6.3,6.1,7.7,6.3,6.4,6,6.9,6.7,6.9,5.8,6.8,6.7,6.7,6.3,6.5,6.2,5.9],\"y\":[2.5,1.9,2.1,1.8,2.2,2.1,1.7,1.8,1.8,2.5,2,1.9,2.1,2,2.4,2.3,1.8,2.2,2.3,1.5,2.3,2,2,1.8,2.1,1.8,1.8,1.8,2.1,1.6,1.9,2,2.2,1.5,1.4,2.3,2.4,1.8,1.8,2.1,2.4,2.3,1.9,2.3,2.5,2.3,1.9,2,2.3,1.8]}];\n",
       " var layout_VpyXR00RwE = {\"height\":550,\"width\":600,\"hovermode\":\"closest\",\"legend\":{\"orientation\":\"v\"},\"title\":{\"text\":\"Iris\"},\"showlegend\":true};\n",
       " var config_VpyXR00RwE = {\"responsive\":true,\"scrollZoom\":true,\"displaylogo\":false};\n",
       " Plotly.newPlot(\"graph_VpyXR00RwE\", traces_VpyXR00RwE, layout_VpyXR00RwE, config_VpyXR00RwE);\n",
       "</script> \n"
      ]
     },
     "metadata": {},
     "output_type": "display_data"
    }
   ],
   "source": [
    "val result = getSeriesbyCategory(categories, (sepal_length, petal_width))\n",
    "\n",
    "val chart = Chart() addSeries result setTitle \"Iris\" showLegend true\n",
    "\n",
    "chart.plotInline"
   ]
  },
  {
   "cell_type": "markdown",
   "metadata": {},
   "source": [
    "## Conus Integration\n",
    "\n",
    "A couple of utility functions make wrangling conus data easier. Below is an example taken from the conus repo and plotting some variables of interest."
   ]
  },
  {
   "cell_type": "code",
   "execution_count": 48,
   "metadata": {},
   "outputs": [],
   "source": [
    "import org.carbonateresearch.picta.conus.Utils._"
   ]
  },
  {
   "cell_type": "code",
   "execution_count": 49,
   "metadata": {},
   "outputs": [],
   "source": [
    "import org.carbonateresearch.picta.conus.Utils._\n",
    "import org.carbonateresearch.picta.{Canvas, Chart, XY}\n",
    "import org.carbonateresearch.conus.common.SingleModelResults\n",
    "import org.carbonateresearch.conus.modelzoo.GeneralGeology._\n",
    "import org.carbonateresearch.conus.modelzoo.PasseyHenkesClumpedDiffusionModel._\n",
    "import org.carbonateresearch.conus.{AllCells, ModelVariable, PerCell, Simulator, Step, SteppedModel}\n",
    "\n",
    "import math._"
   ]
  },
  {
   "cell_type": "code",
   "execution_count": 50,
   "metadata": {
    "scrolled": false
   },
   "outputs": [
    {
     "name": "stdout",
     "output_type": "stream",
     "text": [
      "13:04:36.485 [CoNuS-akka.actor.default-dispatcher-3] INFO akka.event.slf4j.Slf4jLogger - Slf4jLogger started\n"
     ]
    },
    {
     "name": "stderr",
     "output_type": "stream",
     "text": [
      "SLF4J: A number (1) of logging calls during the initialization phase have been intercepted and are\n",
      "SLF4J: now being replayed. These are subject to the filtering rules of the underlying logging system.\n",
      "SLF4J: See also http://www.slf4j.org/codes.html#replay\n"
     ]
    },
    {
     "name": "stdout",
     "output_type": "stream",
     "text": [
      "A total of 135 unique models were defined, attempting to create a list now.\n",
      "Models list successfully created.\n",
      "----------------------------------------\n",
      "RUN STARTED\n",
      "----------------------------------------\n",
      "\u001b[0m\u001b[35m\u001b[4mRUN DATA\u001b[0m\n",
      "\u001b[0m\u001b[33mTotal number of models:\u001b[0m \u001b[37m135\n",
      "\u001b[0m\u001b[33mNumber of cell per grid:\u001b[0m\u001b[37m 19\n",
      "\u001b[0m\u001b[33mNumber of steps per model:\u001b[0m\u001b[37m 10\n",
      "\u001b[0m\u001b[33mNumber of operation per step:\u001b[0m\u001b[37m 304\n",
      "\u001b[0m\u001b[33mTotal number of operations:\u001b[0m\u001b[37m 410'400\n",
      "\u001b[0m\u001b[33mAvailable CPU cores:\u001b[0m\u001b[37m 8\n",
      "\u001b[0m\u001b[34m----------------------------------------\u001b[0m\n",
      "\u001b[0m\u001b[35m\u001b[4mRUN PROGRESS\u001b[0m\n",
      "Model #1 completed in 0 seconds is calibrated.\n",
      "Model #5 completed in 0 seconds is calibrated.\n",
      "Model #8 completed in 0 seconds is calibrated.\n",
      "Model #2 completed in 0 seconds is calibrated.\n",
      "Model #3 completed in 0 seconds is calibrated.\n",
      "Model #6 completed in 0 seconds is calibrated.\n",
      "Model #4 completed in 0 seconds is calibrated.\n",
      "Model #7 completed in 0 seconds is calibrated.\n",
      "Model #11 completed in 0 seconds is calibrated.\n",
      "Model #9 completed in 0 seconds is calibrated.\n",
      "Model #13 completed in 0 seconds is calibrated.\n",
      "Model #10 completed in 0 seconds is calibrated.\n",
      "Model #14 completed in 0 seconds is calibrated.\n",
      "Model #15 completed in 0 seconds is calibrated.\n",
      "Model #12 completed in 0 seconds is calibrated.\n",
      "Model #18 completed in 0 seconds is calibrated.\n",
      "Model #16 completed in 0 seconds is calibrated.\n",
      "Model #21 completed in 0 seconds is calibrated.\n",
      "Model #22 completed in 0 seconds is calibrated.\n",
      "Model #19 completed in 0 seconds is calibrated.\n",
      "Model #20 completed in 0 seconds is calibrated.\n",
      "Model #17 completed in 0 seconds is calibrated.\n",
      "Model #23 completed in 0 seconds is calibrated.\n",
      "Model #27 completed in 0 seconds is calibrated.\n",
      "Model #28 completed in 0 seconds is calibrated.\n",
      "Model #24 completed in 0 seconds is calibrated.\n",
      "Model #25 completed in 0 seconds is calibrated.\n",
      "Model #29 completed in 0 seconds is calibrated.\n",
      "Model #26 completed in 0 seconds is calibrated.\n",
      "Model #30 completed in 0 seconds is calibrated.\n",
      "Model #33 completed in 0 seconds is calibrated.\n",
      "Model #35 completed in 0 seconds is calibrated.\n",
      "Model #31 completed in 0 seconds is calibrated.\n",
      "Model #32 completed in 0 seconds is calibrated.\n",
      "Model #34 completed in 0 seconds is calibrated.\n",
      "Model #37 completed in 0 seconds is calibrated.\n",
      "Model #36 completed in 0 seconds is calibrated.\n",
      "Model #38 completed in 0 seconds is calibrated.\n",
      "Model #40 completed in 0 seconds is calibrated.\n",
      "Model #39 completed in 0 seconds is calibrated.\n",
      "Model #41 completed in 0 seconds is calibrated.\n",
      "Model #42 completed in 0 seconds is calibrated.\n",
      "Model #44 completed in 0 seconds is calibrated.\n",
      "Model #48 completed in 1 seconds is calibrated.\n",
      "Model #49 completed in 1 seconds is calibrated.\n",
      "Model #47 completed in 1 seconds is calibrated.\n",
      "Model #43 completed in 1 seconds is calibrated.\n",
      "Model #46 completed in 1 seconds is calibrated.\n",
      "Model #45 completed in 1 seconds is calibrated.\n",
      "Model #54 completed in 1 seconds is calibrated.\n",
      "Model #50 completed in 1 seconds is calibrated.\n",
      "Model #53 completed in 1 seconds is calibrated.\n",
      "Model #55 completed in 1 seconds is calibrated.\n",
      "Model #56 completed in 1 seconds is calibrated.\n",
      "Model #58 completed in 1 seconds is calibrated.\n",
      "Model #51 completed in 1 seconds is calibrated.\n",
      "Model #59 completed in 1 seconds is calibrated.\n",
      "Model #57 completed in 1 seconds is calibrated.\n",
      "Model #52 completed in 1 seconds is calibrated.\n",
      "Model #64 completed in 1 seconds is calibrated.\n",
      "Model #61 completed in 1 seconds is calibrated.\n",
      "Model #60 completed in 1 seconds is calibrated.\n",
      "Model #66 completed in 1 seconds is calibrated.\n",
      "Model #65 completed in 1 seconds is calibrated.\n",
      "Model #68 completed in 1 seconds is calibrated.\n",
      "Model #69 completed in 1 seconds is calibrated.\n",
      "Model #70 completed in 1 seconds is calibrated.\n",
      "Model #62 completed in 1 seconds is calibrated.\n",
      "Model #72 completed in 1 seconds is calibrated.\n",
      "Model #73 completed in 1 seconds is calibrated.\n",
      "Model #71 completed in 1 seconds is calibrated.\n",
      "Model #63 completed in 1 seconds is calibrated.\n",
      "Model #75 completed in 1 seconds is calibrated.\n",
      "Model #80 completed in 1 seconds is calibrated.\n",
      "Model #79 completed in 1 seconds is calibrated.\n",
      "Model #82 completed in 1 seconds is calibrated.\n",
      "Model #76 completed in 1 seconds is calibrated.\n",
      "Model #67 completed in 1 seconds is calibrated.\n",
      "Model #74 completed in 1 seconds is calibrated.\n",
      "Model #78 completed in 1 seconds is calibrated.\n",
      "Model #83 completed in 1 seconds is calibrated.\n",
      "Model #81 completed in 1 seconds is calibrated.\n",
      "Model #85 completed in 1 seconds is calibrated.\n",
      "Model #86 completed in 1 seconds is calibrated.\n",
      "Model #77 completed in 1 seconds is calibrated.\n",
      "Model #90 completed in 1 seconds is calibrated.\n",
      "Model #87 completed in 1 seconds is calibrated.\n",
      "Model #89 completed in 1 seconds is calibrated.\n",
      "Model #84 completed in 1 seconds is calibrated.\n",
      "Model #88 completed in 1 seconds is calibrated.\n",
      "Model #94 completed in 1 seconds is calibrated.\n",
      "Model #96 completed in 1 seconds is calibrated.\n",
      "Model #91 completed in 1 seconds is calibrated.\n",
      "Model #95 completed in 1 seconds is calibrated.\n",
      "Model #97 completed in 1 seconds is calibrated.\n",
      "Model #93 completed in 1 seconds is calibrated.\n",
      "Model #92 completed in 1 seconds is calibrated.\n",
      "Model #100 completed in 1 seconds is not calibrated.\n",
      "Model #102 completed in 1 seconds is not calibrated.\n",
      "Model #104 completed in 1 seconds is not calibrated.\n",
      "Model #101 completed in 1 seconds is not calibrated.\n",
      "Model #99 completed in 1 seconds is calibrated.\n",
      "Model #98 completed in 1 seconds is calibrated.\n",
      "Model #108 completed in 1 seconds is calibrated.\n",
      "Model #103 completed in 1 seconds is not calibrated.\n",
      "Model #105 completed in 1 seconds is not calibrated.\n",
      "Model #109 completed in 1 seconds is calibrated.\n",
      "Model #112 completed in 1 seconds is calibrated.\n",
      "Model #110 completed in 1 seconds is calibrated.\n",
      "Model #107 completed in 1 seconds is calibrated.\n",
      "Model #113 completed in 1 seconds is calibrated.\n",
      "Model #114 completed in 1 seconds is calibrated.\n",
      "Model #106 completed in 1 seconds is calibrated.\n",
      "Model #116 completed in 1 seconds is not calibrated.\n",
      "Model #118 completed in 1 seconds is not calibrated.\n",
      "Model #117 completed in 1 seconds is not calibrated.\n",
      "Model #115 completed in 1 seconds is not calibrated.\n",
      "Model #122 completed in 1 seconds is calibrated.\n",
      "Model #120 completed in 1 seconds is not calibrated.\n",
      "Model #119 completed in 1 seconds is not calibrated.\n",
      "Model #121 completed in 1 seconds is calibrated.\n",
      "Model #111 completed in 1 seconds is calibrated.\n",
      "Model #127 completed in 1 seconds is calibrated.\n",
      "Model #123 completed in 1 seconds is calibrated.\n",
      "Model #128 completed in 1 seconds is calibrated.\n",
      "Model #124 completed in 1 seconds is calibrated.\n",
      "Model #125 completed in 1 seconds is calibrated.\n",
      "Model #129 completed in 1 seconds is calibrated.\n",
      "Model #132 completed in 1 seconds is not calibrated.\n",
      "Model #133 completed in 1 seconds is not calibrated.\n",
      "Model #126 completed in 1 seconds is calibrated.\n",
      "Model #134 completed in 1 seconds is not calibrated.\n",
      "Model #130 completed in 1 seconds is not calibrated.\n",
      "Model #135 completed in 1 seconds is not calibrated.\n",
      "Model #131 completed in 1 seconds is not calibrated.\n",
      "\n",
      "----------------------------------------\n",
      "END OF RUN\n",
      "----------------------------------------\n"
     ]
    }
   ],
   "source": [
    "val modelWarehouse = Simulator\n",
    "\n",
    "// a few constants\n",
    "val rhocal:Double = 2.71 //Density of carbonates\n",
    "val cOf=889000 //concentration of O in fluid\n",
    "val cCf=200 //concentration of C in fluid\n",
    "val cOcal = 480000 //concentration of O in stoichiometric calcite\n",
    "val cCcal = 120000 //concentration of C in stoichiometric calcite\n",
    "val d13Ctdc = 0 //carbon isotope composition of total dissolved carbon in fluid\n",
    "\n",
    "// setting model variables\n",
    "val initialAge:ModelVariable[Double] = ModelVariable(\"Initial age\",96.0,\"Ma\")\n",
    "val finalAge:ModelVariable[Double] = ModelVariable(\"Final age\",0.0,\"Ma\")\n",
    "val d18Of:ModelVariable[Double] = ModelVariable(\"Fluid d18O\",-1.0,\"‰\")\n",
    "val TmaxSample:ModelVariable[Double] = ModelVariable(\"Tmax\",0.0,\"˚C\")\n",
    "val WFF:ModelVariable[Double] = ModelVariable(\"Weight fraction of fluid\",0.0,\"\")\n",
    "val CWRR:ModelVariable[Double] = ModelVariable(\"Cumulative water/rock ratio\",0.0,\"\")\n",
    "val FluidMass:ModelVariable[Double] = ModelVariable(\"Mass of fluid\",0.2,\"\")\n",
    "val d18Occ:ModelVariable[Double] = ModelVariable(\"d18Occ\",1.0,\"‰\")\n",
    "val d13Ccc:ModelVariable[Double] = ModelVariable(\"d13Ccc\",1.0,\"‰\")\n",
    "val D47r:ModelVariable[Double] = ModelVariable(\"D47 with partial recrystallization\",.5,\"‰\")\n",
    "val fractionRec:ModelVariable[Double] = ModelVariable(\"Fraction of recrystallization\",0.01,\"‰\")\n",
    "val initalBurialAtModelStart:ModelVariable[Double] = ModelVariable(\"Initial burial at model start\",0.0,\"meters\")\n",
    "\n",
    "// Initialise model conditions as lists\n",
    "val burialHistory = List((96.0,0.0), (39.0,2000.0), (0.0,-70.0))\n",
    "val geothermalGradientHistory= List((96.0,30.0),(0.0,30.0))\n",
    "val surfaceTemperaturesHistory = List((96.0,30.0),(0.0,30.0))\n",
    "val numberOfSteps = 10\n",
    "val ageList:List[Double] = List(97.0,96.0,95.0)\n",
    "val finalAgeList:List[Double] = List(0.0)\n",
    "val rangeOfFluidMasses:List[Double] = List(0.2)\n",
    "val rangeOfPartialRecrystallization = List(1.0,.5,.1,.01,0.0)\n",
    "\n",
    "// Bulk isotope calculation equations\n",
    "val d18OccFunction = (s:Step) => {\n",
    "    val cO=(WFF(s)*cOf)+(1-WFF(s))*cOcal\n",
    "    val alpha = math.exp((18.03*(1000*pow((burialTemperature(s)+273.15), -1)) - 32.42)/1000)\n",
    "    val d18O = ((d18Of(s) * WFF(s) * cOf) + d18Occ(s) * (1-WFF(s)) * cOf)/ cO\n",
    "    ((d18O * cOf * alpha) - (1000 * cOf * WFF(s) * (1-alpha))) / ((cOcal * (1-WFF(s)) * alpha) + cOf * WFF(s))\n",
    "}\n",
    "\n",
    "val d13CccFunction = (s:Step) => {\n",
    "    val cC=(WFF(s)*cCf)+(1-WFF(s))*cCcal\n",
    "    val alpha = exp((-2.4612+(7666.3/100) - (2.9880*pow(10,3)/pow((burialTemperature(s)+273.15),6)))/1000)\n",
    "    val d13C = ((d13Ctdc * WFF(s) * d13Ctdc) + (d13Ccc(s) * (1-WFF(s)) * cCcal))/cC\n",
    "    ((d13C * cC * alpha) - (1000 * cCf * WFF(s) * (1-alpha))) / (cCcal * (1-WFF(s) * alpha) + cCf * WFF(s))\n",
    "}\n",
    "\n",
    "val eaglefordModel = new SteppedModel(numberOfSteps,\"Eagleford recrystallization\")\n",
    "    .setGrid(19)\n",
    "    .defineMathematicalModel(\n",
    "      age =>> ageOfStep(initialAge,finalAge),\n",
    "      depth =>> {(s:Step) => {burialDepthFromAgeModel(age,burialHistory).apply(s)+initalBurialAtModelStart(s)}},\n",
    "      surfaceTemperature =>> surfaceTemperaturesAtAge(age, surfaceTemperaturesHistory),\n",
    "      geothermalGradient =>> geothermalGradientAtAge(age,geothermalGradientHistory),\n",
    "      burialTemperature =>> burialTemperatureFromGeothermalGradient(surfaceTemperature,depth,geothermalGradient),\n",
    "      dT =>> dTFun,\n",
    "      D47eq =>> D47eqFun,\n",
    "      D47i =>> D47iFun,\n",
    "      SampleTemp =>> davies19_T,\n",
    "      FluidMass =>> {(s:Step) => 0.2},\n",
    "      d18Of =>> {(s:Step) => -1.0},\n",
    "      WFF =>> {(s:Step) => FluidMass(s) / (FluidMass(s) + rhocal)},\n",
    "      CWRR =>> {(s:Step) => s.stepNumber * WFF(s)/(1-WFF(s))},\n",
    "      d18Occ =>> d18OccFunction,\n",
    "      d13Ccc =>> d13CccFunction,\n",
    "      D47r =>> {(s:Step) => {if(burialTemperature(s)-burialTemperature(s-1) >= 0){D47r(s-1) * (1.0-fractionRec(s)) + D47eq(s) * fractionRec(s)}\n",
    "      else {D47r(s-1)}}}\n",
    "    )\n",
    "    .defineInitialModelConditions(\n",
    "      AllCells(initialAge,ageList),\n",
    "      AllCells(finalAge,finalAgeList),\n",
    "      AllCells(fractionRec,rangeOfPartialRecrystallization),\n",
    "      AllCells(D47i,List(0.670,0.680,0.690)),\n",
    "      AllCells(D47r,List(0.670,0.680,0.690)),\n",
    "      PerCell(initalBurialAtModelStart,List(\n",
    "        (List(0.0),Seq(0)),\n",
    "        (List(-0.91),Seq(1)),\n",
    "        (List(-1.22),Seq(2)),\n",
    "        (List(-2.90),Seq(3)),\n",
    "        (List(-4.57),Seq(4)),\n",
    "        (List(-4.88),Seq(5)),\n",
    "        (List(-4.90),Seq(6)),\n",
    "        (List(-6.10),Seq(7)),\n",
    "        (List(-6.40),Seq(8)),\n",
    "        (List(-6.71),Seq(9)),\n",
    "        (List(-25.90),Seq(10)),\n",
    "        (List(-28.96),Seq(11)),\n",
    "        (List(-29.87),Seq(12)),\n",
    "        (List(-35.05),Seq(13)),\n",
    "        (List(-35.36),Seq(14)),\n",
    "        (List(-35.97),Seq(15)),\n",
    "        (List(-36.58),Seq(16)),\n",
    "        (List(-37.19),Seq(17)),\n",
    "        (List(-38.90),Seq(18)))))\n",
    "    .defineCalibration(\n",
    "      D47r.isBetween(0.511,0.683).atCells(Seq(0)),\n",
    "      D47r.isBetween(0.511,0.683).atCells(Seq(1)),\n",
    "      D47r.isBetween(0.511,0.683).atCells(Seq(2)),\n",
    "      D47r.isBetween(0.511,0.683).atCells(Seq(3)),\n",
    "      D47r.isBetween(0.511,0.683).atCells(Seq(4)),\n",
    "      D47r.isBetween(0.511,0.683).atCells(Seq(5)),\n",
    "      D47r.isBetween(0.511,0.683).atCells(Seq(6)),\n",
    "      D47r.isBetween(0.511,0.683).atCells(Seq(7)),\n",
    "      D47r.isBetween(0.511,0.683).atCells(Seq(8)),\n",
    "      D47r.isBetween(0.511,0.683).atCells(Seq(9)),\n",
    "      D47r.isBetween(0.511,0.683).atCells(Seq(10)),\n",
    "      D47r.isBetween(0.511,0.683).atCells(Seq(11)),\n",
    "      D47r.isBetween(0.511,0.683).atCells(Seq(12)),\n",
    "      D47r.isBetween(0.511,0.683).atCells(Seq(13)),\n",
    "      D47r.isBetween(0.511,0.683).atCells(Seq(14)),\n",
    "      D47r.isBetween(0.511,0.683).atCells(Seq(15)),\n",
    "      D47r.isBetween(0.511,0.683).atCells(Seq(16)),\n",
    "      D47r.isBetween(0.511,0.683).atCells(Seq(17)),\n",
    "      D47r.isBetween(0.511,0.683).atCells(Seq(18))\n",
    ")\n",
    "\n",
    "modelWarehouse.evaluate(eaglefordModel)\n",
    "Thread.sleep(1000)"
   ]
  },
  {
   "cell_type": "code",
   "execution_count": 51,
   "metadata": {
    "scrolled": false
   },
   "outputs": [
    {
     "data": {
      "text/html": [
       "<div id=\"grid-container_5hZ1LpV8M2\" class=\"grid-container\" align=\"center\"> \n",
       "<div id=\"grid_5hZ1LpV8M2\" class=\"grid\" align=\"center\"> \n",
       "<div id=\"graph_iw9iYMf7G6\" class=\"graph\"></div> \n",
       "</div> \n",
       "</div> \n",
       "<script>\n",
       "var masonry = new Macy({\n",
       "    container: '#grid_5hZ1LpV8M2',\n",
       "    debug: true,\n",
       "    mobileFirst: true,\n",
       "    columns: 1,\n",
       "    margin: {\n",
       "        x: 0,\n",
       "        y: 0\n",
       "    }\n",
       "  });\n",
       "\n",
       " var traces_iw9iYMf7G6 = [{\"name\":\"joyvOAJve1\",\"type\":\"scatter\",\"yaxis\":\"y2\",\"x\":[95,84.44444444444444,73.88888888888889,63.333333333333336,52.77777777777778,42.22222222222222,31.66666666666667,21.111111111111114,10.555555555555557,0],\"y\":[1.092574472614591,1.092574472614592,1.092574472614593,1.0925744726145934,1.0925744726145938,1.0925744726145943,1.0925744726145938,1.0925744726145932,1.0925744726145923,1.0925744726145907]},{\"name\":\"a1nQ8NwlD3\",\"type\":\"scatter\",\"x\":[95,84.44444444444444,73.88888888888889,63.333333333333336,52.77777777777778,42.22222222222222,31.66666666666667,21.111111111111114,10.555555555555557,0],\"y\":[5.8447021539281225,5.597796303859945,5.36734395671948,5.151753878912124,4.949633567669663,4.759759172657933,4.900224806622807,5.206108819250285,5.543641691173061,5.918001697432124]}];\n",
       " var layout_iw9iYMf7G6 = {\"height\":550,\"width\":600,\"hovermode\":\"closest\",\"legend\":{\"orientation\":\"v\"},\"title\":{\"text\":\"d18Occ vs d13Ccc\"},\"showlegend\":true,\"xaxis\":{\"title\":{\"text\":\"age\"},\"showgrid\":true,\"zeroline\":false,\"showline\":false},\"yaxis\":{\"title\":{\"text\":\"d18Occ\"},\"showgrid\":true,\"zeroline\":false,\"showline\":false},\"yaxis2\":{\"title\":{\"text\":\"d13Ccc\"},\"showgrid\":true,\"zeroline\":false,\"showline\":false,\"side\":\"right\",\"overlaying\":\"y\",\"tickformat\":\"0.2f\"}};\n",
       " var config_iw9iYMf7G6 = {\"responsive\":true,\"scrollZoom\":true,\"displaylogo\":false};\n",
       " Plotly.newPlot(\"graph_iw9iYMf7G6\", traces_iw9iYMf7G6, layout_iw9iYMf7G6, config_iw9iYMf7G6);\n",
       "</script> \n"
      ]
     },
     "metadata": {},
     "output_type": "display_data"
    }
   ],
   "source": [
    "// grab the results from the Conus model\n",
    "val model: SingleModelResults = modelWarehouse(eaglefordModel)(0)\n",
    "\n",
    "// we can use the utility function to grab the series for a single variable\n",
    "val series1: List[Double] = getDataFromSingleModel(model, age, List(0), numberOfSteps)\n",
    "val series2: List[Double] = getDataFromSingleModel(model, d18Occ, List(0), numberOfSteps)\n",
    "\n",
    "val xy1 = XY(series1, series2)\n",
    "\n",
    "// alternatively we can quickly get the same data for XY using the function below\n",
    "//  val xy1 = getXYSeriesFromSingleModel(model, (age, d18Occ), List(0), numberOfSteps)\n",
    "\n",
    "// lets also plot a second y variable\n",
    "val yaxis2 = YAxis(\n",
    "    position = 2, \n",
    "    title = \"d13Ccc\", \n",
    "    overlaying = YAxis(), // this ensures that the axis sits on a seperate axis\n",
    "    side = RIGHT, // this ensures the axis is on the right hand side\n",
    "    tickformat = \"0.2f\" // this will keep formatting reasonable for display purposes\n",
    ")\n",
    "\n",
    "// we construct the second y variable;\n",
    "val series3: List[Double] = getDataFromSingleModel(model, d13Ccc, List(0), numberOfSteps)\n",
    "val xy2 = XY(series1, series3) setAxis yaxis2\n",
    "\n",
    "// finally we can combine in a single chart\n",
    "val chart = (\n",
    "    Chart() \n",
    "    addSeries xy1\n",
    "    addSeries xy2\n",
    "    setTitle(\"d18Occ vs d13Ccc\") \n",
    "    addAxes(XAxis(title=\"age\"), YAxis(title=\"d18Occ\"), yaxis2)\n",
    ")\n",
    "\n",
    "val canvas = Canvas() addCharts chart\n",
    "\n",
    "// When we plot the result, we can see the legend is in the wrong place and overlaying the axis - we can overcome this\n",
    "// in the next example\n",
    "canvas.plotInline()"
   ]
  },
  {
   "cell_type": "markdown",
   "metadata": {},
   "source": [
    "### Moving the Legend\n",
    "\n",
    "We can also move the Legend and position it where we would like as follows:"
   ]
  },
  {
   "cell_type": "code",
   "execution_count": 52,
   "metadata": {},
   "outputs": [],
   "source": [
    "import org.carbonateresearch.picta.options.AUTO"
   ]
  },
  {
   "cell_type": "code",
   "execution_count": 53,
   "metadata": {},
   "outputs": [
    {
     "data": {
      "text/html": [
       "<div id=\"grid-container_94xETYiPJq\" class=\"grid-container\" align=\"center\"> \n",
       "<div id=\"grid_94xETYiPJq\" class=\"grid\" align=\"center\"> \n",
       "<div id=\"graph_I6bs93t6Jp\" class=\"graph\"></div> \n",
       "</div> \n",
       "</div> \n",
       "<script>\n",
       "var masonry = new Macy({\n",
       "    container: '#grid_94xETYiPJq',\n",
       "    debug: true,\n",
       "    mobileFirst: true,\n",
       "    columns: 1,\n",
       "    margin: {\n",
       "        x: 0,\n",
       "        y: 0\n",
       "    }\n",
       "  });\n",
       "\n",
       " var traces_I6bs93t6Jp = [{\"name\":\"a1nQ8NwlD3\",\"type\":\"scatter\",\"x\":[95,84.44444444444444,73.88888888888889,63.333333333333336,52.77777777777778,42.22222222222222,31.66666666666667,21.111111111111114,10.555555555555557,0],\"y\":[5.8447021539281225,5.597796303859945,5.36734395671948,5.151753878912124,4.949633567669663,4.759759172657933,4.900224806622807,5.206108819250285,5.543641691173061,5.918001697432124]}];\n",
       " var layout_I6bs93t6Jp = {\"height\":550,\"width\":600,\"hovermode\":\"closest\",\"legend\":{\"orientation\":\"h\",\"x\":0.5,\"y\":-0.5,\"xanchor\":\"auto\",\"yanchor\":\"auto\"},\"title\":{\"text\":\"Move Axis\"},\"showlegend\":true,\"xaxis\":{\"title\":{\"text\":\"age\"},\"showgrid\":true,\"zeroline\":false,\"showline\":false},\"yaxis\":{\"title\":{\"text\":\"d18Occ\"},\"showgrid\":true,\"zeroline\":false,\"showline\":false},\"yaxis2\":{\"title\":{\"text\":\"d13Ccc\"},\"showgrid\":true,\"zeroline\":false,\"showline\":false,\"side\":\"right\",\"overlaying\":\"y\",\"tickformat\":\"0.2f\"}};\n",
       " var config_I6bs93t6Jp = {\"responsive\":true,\"scrollZoom\":true,\"displaylogo\":false};\n",
       " Plotly.newPlot(\"graph_I6bs93t6Jp\", traces_I6bs93t6Jp, layout_I6bs93t6Jp, config_I6bs93t6Jp);\n",
       "</script> \n"
      ]
     },
     "metadata": {},
     "output_type": "display_data"
    }
   ],
   "source": [
    "// finally we can combine in a single chart\n",
    "val chart = (\n",
    "    Chart() \n",
    "    addSeries xy1\n",
    "    setTitle(\"Move Axis\") \n",
    "    addAxes(XAxis(title=\"age\"), YAxis(title=\"d18Occ\"), yaxis2)\n",
    "    setLegend(x = 0.5, y = -0.5, orientation = HORIZONTAL, xanchor = AUTO, yanchor = AUTO)\n",
    ")\n",
    "\n",
    "val canvas = Canvas() addCharts chart\n",
    "\n",
    "canvas.plotInline()"
   ]
  },
  {
   "cell_type": "code",
   "execution_count": null,
   "metadata": {},
   "outputs": [],
   "source": []
  }
 ],
 "metadata": {
  "kernelspec": {
   "display_name": "Scala",
   "language": "scala",
   "name": "scala"
  },
  "language_info": {
   "codemirror_mode": "text/x-scala",
   "file_extension": ".scala",
   "mimetype": "text/x-scala",
   "name": "scala",
   "nbconvert_exporter": "script",
   "version": "2.13.2"
  }
 },
 "nbformat": 4,
 "nbformat_minor": 4
}
