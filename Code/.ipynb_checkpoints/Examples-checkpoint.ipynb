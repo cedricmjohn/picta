{
 "cells": [
  {
   "cell_type": "code",
   "execution_count": 1,
   "metadata": {
    "scrolled": true
   },
   "outputs": [],
   "source": [
    "interp.repositories() ++= Seq(coursierapi.MavenRepository.of(\n",
    "\"https://jitpack.io\"\n",
    "))"
   ]
  },
  {
   "cell_type": "code",
   "execution_count": 2,
   "metadata": {},
   "outputs": [
    {
     "data": {
      "text/plain": [
       "\u001b[32mimport \u001b[39m\u001b[36m$ivy.$                                  \u001b[39m"
      ]
     },
     "execution_count": 2,
     "metadata": {},
     "output_type": "execute_result"
    }
   ],
   "source": [
    "import $ivy. `org.carbonateresearch::picta:0.1`"
   ]
  },
  {
   "cell_type": "code",
   "execution_count": 3,
   "metadata": {
    "scrolled": false
   },
   "outputs": [
    {
     "data": {
      "text/html": [
       "\n",
       "<script> /** vim: et:ts=4:sw=4:sts=4\n",
       " * @license RequireJS 2.3.6 Copyright jQuery Foundation and other contributors.\n",
       " * Released under MIT license, https://github.com/requirejs/requirejs/blob/master/LICENSE\n",
       " */\n",
       "var requirejs,require,define;!function(global,setTimeout){var req,s,head,baseElement,dataMain,src,interactiveScript,currentlyAddingScript,mainScript,subPath,version=\"2.3.6\",commentRegExp=/\\/\\*[\\s\\S]*?\\*\\/|([^:\"'=]|^)\\/\\/.*$/gm,cjsRequireRegExp=/[^.]\\s*require\\s*\\(\\s*[\"']([^'\"\\s]+)[\"']\\s*\\)/g,jsSuffixRegExp=/\\.js$/,currDirRegExp=/^\\.\\//,op=Object.prototype,ostring=op.toString,hasOwn=op.hasOwnProperty,isBrowser=!(\"undefined\"==typeof window||\"undefined\"==typeof navigator||!window.document),isWebWorker=!isBrowser&&\"undefined\"!=typeof importScripts,readyRegExp=isBrowser&&\"PLAYSTATION 3\"===navigator.platform?/^complete$/:/^(complete|loaded)$/,defContextName=\"_\",isOpera=\"undefined\"!=typeof opera&&\"[object Opera]\"===opera.toString(),contexts={},cfg={},globalDefQueue=[],useInteractive=!1;function commentReplace(e,t){return t||\"\"}function isFunction(e){return\"[object Function]\"===ostring.call(e)}function isArray(e){return\"[object Array]\"===ostring.call(e)}function each(e,t){var i;if(e)for(i=0;i<e.length&&(!e[i]||!t(e[i],i,e));i+=1);}function eachReverse(e,t){var i;if(e)for(i=e.length-1;-1<i&&(!e[i]||!t(e[i],i,e));i-=1);}function hasProp(e,t){return hasOwn.call(e,t)}function getOwn(e,t){return hasProp(e,t)&&e[t]}function eachProp(e,t){var i;for(i in e)if(hasProp(e,i)&&t(e[i],i))break}function mixin(i,e,r,n){return e&&eachProp(e,function(e,t){!r&&hasProp(i,t)||(!n||\"object\"!=typeof e||!e||isArray(e)||isFunction(e)||e instanceof RegExp?i[t]=e:(i[t]||(i[t]={}),mixin(i[t],e,r,n)))}),i}function bind(e,t){return function(){return t.apply(e,arguments)}}function scripts(){return document.getElementsByTagName(\"script\")}function defaultOnError(e){throw e}function getGlobal(e){if(!e)return e;var t=global;return each(e.split(\".\"),function(e){t=t[e]}),t}function makeError(e,t,i,r){var n=new Error(t+\"\\nhttps://requirejs.org/docs/errors.html#\"+e);return n.requireType=e,n.requireModules=r,i&&(n.originalError=i),n}if(void 0===define){if(void 0!==requirejs){if(isFunction(requirejs))return;cfg=requirejs,requirejs=void 0}void 0===require||isFunction(require)||(cfg=require,require=void 0),req=requirejs=function(e,t,i,r){var n,o,a=defContextName;return isArray(e)||\"string\"==typeof e||(o=e,isArray(t)?(e=t,t=i,i=r):e=[]),o&&o.context&&(a=o.context),(n=getOwn(contexts,a))||(n=contexts[a]=req.s.newContext(a)),o&&n.configure(o),n.require(e,t,i)},req.config=function(e){return req(e)},req.nextTick=void 0!==setTimeout?function(e){setTimeout(e,4)}:function(e){e()},require||(require=req),req.version=version,req.jsExtRegExp=/^\\/|:|\\?|\\.js$/,req.isBrowser=isBrowser,s=req.s={contexts:contexts,newContext:newContext},req({}),each([\"toUrl\",\"undef\",\"defined\",\"specified\"],function(t){req[t]=function(){var e=contexts[defContextName];return e.require[t].apply(e,arguments)}}),isBrowser&&(head=s.head=document.getElementsByTagName(\"head\")[0],baseElement=document.getElementsByTagName(\"base\")[0],baseElement&&(head=s.head=baseElement.parentNode)),req.onError=defaultOnError,req.createNode=function(e,t,i){var r=e.xhtml?document.createElementNS(\"http://www.w3.org/1999/xhtml\",\"html:script\"):document.createElement(\"script\");return r.type=e.scriptType||\"text/javascript\",r.charset=\"utf-8\",r.async=!0,r},req.load=function(t,i,r){var e,n=t&&t.config||{};if(isBrowser)return(e=req.createNode(n,i,r)).setAttribute(\"data-requirecontext\",t.contextName),e.setAttribute(\"data-requiremodule\",i),!e.attachEvent||e.attachEvent.toString&&e.attachEvent.toString().indexOf(\"[native code\")<0||isOpera?(e.addEventListener(\"load\",t.onScriptLoad,!1),e.addEventListener(\"error\",t.onScriptError,!1)):(useInteractive=!0,e.attachEvent(\"onreadystatechange\",t.onScriptLoad)),e.src=r,n.onNodeCreated&&n.onNodeCreated(e,n,i,r),currentlyAddingScript=e,baseElement?head.insertBefore(e,baseElement):head.appendChild(e),currentlyAddingScript=null,e;if(isWebWorker)try{setTimeout(function(){},0),importScripts(r),t.completeLoad(i)}catch(e){t.onError(makeError(\"importscripts\",\"importScripts failed for \"+i+\" at \"+r,e,[i]))}},isBrowser&&!cfg.skipDataMain&&eachReverse(scripts(),function(e){if(head||(head=e.parentNode),dataMain=e.getAttribute(\"data-main\"))return mainScript=dataMain,cfg.baseUrl||-1!==mainScript.indexOf(\"!\")||(mainScript=(src=mainScript.split(\"/\")).pop(),subPath=src.length?src.join(\"/\")+\"/\":\"./\",cfg.baseUrl=subPath),mainScript=mainScript.replace(jsSuffixRegExp,\"\"),req.jsExtRegExp.test(mainScript)&&(mainScript=dataMain),cfg.deps=cfg.deps?cfg.deps.concat(mainScript):[mainScript],!0}),define=function(e,i,t){var r,n;\"string\"!=typeof e&&(t=i,i=e,e=null),isArray(i)||(t=i,i=null),!i&&isFunction(t)&&(i=[],t.length&&(t.toString().replace(commentRegExp,commentReplace).replace(cjsRequireRegExp,function(e,t){i.push(t)}),i=(1===t.length?[\"require\"]:[\"require\",\"exports\",\"module\"]).concat(i))),useInteractive&&(r=currentlyAddingScript||getInteractiveScript())&&(e||(e=r.getAttribute(\"data-requiremodule\")),n=contexts[r.getAttribute(\"data-requirecontext\")]),n?(n.defQueue.push([e,i,t]),n.defQueueMap[e]=!0):globalDefQueue.push([e,i,t])},define.amd={jQuery:!0},req.exec=function(text){return eval(text)},req(cfg)}function newContext(u){var i,e,l,c,d,g={waitSeconds:7,baseUrl:\"./\",paths:{},bundles:{},pkgs:{},shim:{},config:{}},p={},f={},r={},h=[],m={},n={},v={},x=1,b=1;function q(e,t,i){var r,n,o,a,s,u,c,d,p,f,l=t&&t.split(\"/\"),h=g.map,m=h&&h[\"*\"];if(e&&(u=(e=e.split(\"/\")).length-1,g.nodeIdCompat&&jsSuffixRegExp.test(e[u])&&(e[u]=e[u].replace(jsSuffixRegExp,\"\")),\".\"===e[0].charAt(0)&&l&&(e=l.slice(0,l.length-1).concat(e)),function(e){var t,i;for(t=0;t<e.length;t++)if(\".\"===(i=e[t]))e.splice(t,1),t-=1;else if(\"..\"===i){if(0===t||1===t&&\"..\"===e[2]||\"..\"===e[t-1])continue;0<t&&(e.splice(t-1,2),t-=2)}}(e),e=e.join(\"/\")),i&&h&&(l||m)){e:for(o=(n=e.split(\"/\")).length;0<o;o-=1){if(s=n.slice(0,o).join(\"/\"),l)for(a=l.length;0<a;a-=1)if((r=getOwn(h,l.slice(0,a).join(\"/\")))&&(r=getOwn(r,s))){c=r,d=o;break e}!p&&m&&getOwn(m,s)&&(p=getOwn(m,s),f=o)}!c&&p&&(c=p,d=f),c&&(n.splice(0,d,c),e=n.join(\"/\"))}return getOwn(g.pkgs,e)||e}function E(t){isBrowser&&each(scripts(),function(e){if(e.getAttribute(\"data-requiremodule\")===t&&e.getAttribute(\"data-requirecontext\")===l.contextName)return e.parentNode.removeChild(e),!0})}function w(e){var t=getOwn(g.paths,e);if(t&&isArray(t)&&1<t.length)return t.shift(),l.require.undef(e),l.makeRequire(null,{skipMap:!0})([e]),!0}function y(e){var t,i=e?e.indexOf(\"!\"):-1;return-1<i&&(t=e.substring(0,i),e=e.substring(i+1,e.length)),[t,e]}function S(e,t,i,r){var n,o,a,s,u=null,c=t?t.name:null,d=e,p=!0,f=\"\";return e||(p=!1,e=\"_@r\"+(x+=1)),u=(s=y(e))[0],e=s[1],u&&(u=q(u,c,r),o=getOwn(m,u)),e&&(u?f=i?e:o&&o.normalize?o.normalize(e,function(e){return q(e,c,r)}):-1===e.indexOf(\"!\")?q(e,c,r):e:(u=(s=y(f=q(e,c,r)))[0],f=s[1],i=!0,n=l.nameToUrl(f))),{prefix:u,name:f,parentMap:t,unnormalized:!!(a=!u||o||i?\"\":\"_unnormalized\"+(b+=1)),url:n,originalName:d,isDefine:p,id:(u?u+\"!\"+f:f)+a}}function k(e){var t=e.id,i=getOwn(p,t);return i||(i=p[t]=new l.Module(e)),i}function M(e,t,i){var r=e.id,n=getOwn(p,r);!hasProp(m,r)||n&&!n.defineEmitComplete?(n=k(e)).error&&\"error\"===t?i(n.error):n.on(t,i):\"defined\"===t&&i(m[r])}function O(i,e){var t=i.requireModules,r=!1;e?e(i):(each(t,function(e){var t=getOwn(p,e);t&&(t.error=i,t.events.error&&(r=!0,t.emit(\"error\",i)))}),r||req.onError(i))}function j(){globalDefQueue.length&&(each(globalDefQueue,function(e){var t=e[0];\"string\"==typeof t&&(l.defQueueMap[t]=!0),h.push(e)}),globalDefQueue=[])}function P(e){delete p[e],delete f[e]}function R(){var e,r,t=1e3*g.waitSeconds,n=t&&l.startTime+t<(new Date).getTime(),o=[],a=[],s=!1,u=!0;if(!i){if(i=!0,eachProp(f,function(e){var t=e.map,i=t.id;if(e.enabled&&(t.isDefine||a.push(e),!e.error))if(!e.inited&&n)w(i)?s=r=!0:(o.push(i),E(i));else if(!e.inited&&e.fetched&&t.isDefine&&(s=!0,!t.prefix))return u=!1}),n&&o.length)return(e=makeError(\"timeout\",\"Load timeout for modules: \"+o,null,o)).contextName=l.contextName,O(e);u&&each(a,function(e){!function n(o,a,s){var e=o.map.id;o.error?o.emit(\"error\",o.error):(a[e]=!0,each(o.depMaps,function(e,t){var i=e.id,r=getOwn(p,i);!r||o.depMatched[t]||s[i]||(getOwn(a,i)?(o.defineDep(t,m[i]),o.check()):n(r,a,s))}),s[e]=!0)}(e,{},{})}),n&&!r||!s||!isBrowser&&!isWebWorker||d||(d=setTimeout(function(){d=0,R()},50)),i=!1}}function a(e){hasProp(m,e[0])||k(S(e[0],null,!0)).init(e[1],e[2])}function o(e,t,i,r){e.detachEvent&&!isOpera?r&&e.detachEvent(r,t):e.removeEventListener(i,t,!1)}function s(e){var t=e.currentTarget||e.srcElement;return o(t,l.onScriptLoad,\"load\",\"onreadystatechange\"),o(t,l.onScriptError,\"error\"),{node:t,id:t&&t.getAttribute(\"data-requiremodule\")}}function T(){var e;for(j();h.length;){if(null===(e=h.shift())[0])return O(makeError(\"mismatch\",\"Mismatched anonymous define() module: \"+e[e.length-1]));a(e)}l.defQueueMap={}}return c={require:function(e){return e.require?e.require:e.require=l.makeRequire(e.map)},exports:function(e){if(e.usingExports=!0,e.map.isDefine)return e.exports?m[e.map.id]=e.exports:e.exports=m[e.map.id]={}},module:function(e){return e.module?e.module:e.module={id:e.map.id,uri:e.map.url,config:function(){return getOwn(g.config,e.map.id)||{}},exports:e.exports||(e.exports={})}}},(e=function(e){this.events=getOwn(r,e.id)||{},this.map=e,this.shim=getOwn(g.shim,e.id),this.depExports=[],this.depMaps=[],this.depMatched=[],this.pluginMaps={},this.depCount=0}).prototype={init:function(e,t,i,r){r=r||{},this.inited||(this.factory=t,i?this.on(\"error\",i):this.events.error&&(i=bind(this,function(e){this.emit(\"error\",e)})),this.depMaps=e&&e.slice(0),this.errback=i,this.inited=!0,this.ignore=r.ignore,r.enabled||this.enabled?this.enable():this.check())},defineDep:function(e,t){this.depMatched[e]||(this.depMatched[e]=!0,this.depCount-=1,this.depExports[e]=t)},fetch:function(){if(!this.fetched){this.fetched=!0,l.startTime=(new Date).getTime();var e=this.map;if(!this.shim)return e.prefix?this.callPlugin():this.load();l.makeRequire(this.map,{enableBuildCallback:!0})(this.shim.deps||[],bind(this,function(){return e.prefix?this.callPlugin():this.load()}))}},load:function(){var e=this.map.url;n[e]||(n[e]=!0,l.load(this.map.id,e))},check:function(){if(this.enabled&&!this.enabling){var t,e,i=this.map.id,r=this.depExports,n=this.exports,o=this.factory;if(this.inited){if(this.error)this.emit(\"error\",this.error);else if(!this.defining){if(this.defining=!0,this.depCount<1&&!this.defined){if(isFunction(o)){if(this.events.error&&this.map.isDefine||req.onError!==defaultOnError)try{n=l.execCb(i,o,r,n)}catch(e){t=e}else n=l.execCb(i,o,r,n);if(this.map.isDefine&&void 0===n&&((e=this.module)?n=e.exports:this.usingExports&&(n=this.exports)),t)return t.requireMap=this.map,t.requireModules=this.map.isDefine?[this.map.id]:null,t.requireType=this.map.isDefine?\"define\":\"require\",O(this.error=t)}else n=o;if(this.exports=n,this.map.isDefine&&!this.ignore&&(m[i]=n,req.onResourceLoad)){var a=[];each(this.depMaps,function(e){a.push(e.normalizedMap||e)}),req.onResourceLoad(l,this.map,a)}P(i),this.defined=!0}this.defining=!1,this.defined&&!this.defineEmitted&&(this.defineEmitted=!0,this.emit(\"defined\",this.exports),this.defineEmitComplete=!0)}}else hasProp(l.defQueueMap,i)||this.fetch()}},callPlugin:function(){var u=this.map,c=u.id,e=S(u.prefix);this.depMaps.push(e),M(e,\"defined\",bind(this,function(e){var o,t,i,r=getOwn(v,this.map.id),n=this.map.name,a=this.map.parentMap?this.map.parentMap.name:null,s=l.makeRequire(u.parentMap,{enableBuildCallback:!0});return this.map.unnormalized?(e.normalize&&(n=e.normalize(n,function(e){return q(e,a,!0)})||\"\"),M(t=S(u.prefix+\"!\"+n,this.map.parentMap,!0),\"defined\",bind(this,function(e){this.map.normalizedMap=t,this.init([],function(){return e},null,{enabled:!0,ignore:!0})})),void((i=getOwn(p,t.id))&&(this.depMaps.push(t),this.events.error&&i.on(\"error\",bind(this,function(e){this.emit(\"error\",e)})),i.enable()))):r?(this.map.url=l.nameToUrl(r),void this.load()):((o=bind(this,function(e){this.init([],function(){return e},null,{enabled:!0})})).error=bind(this,function(e){this.inited=!0,(this.error=e).requireModules=[c],eachProp(p,function(e){0===e.map.id.indexOf(c+\"_unnormalized\")&&P(e.map.id)}),O(e)}),o.fromText=bind(this,function(e,t){var i=u.name,r=S(i),n=useInteractive;t&&(e=t),n&&(useInteractive=!1),k(r),hasProp(g.config,c)&&(g.config[i]=g.config[c]);try{req.exec(e)}catch(e){return O(makeError(\"fromtexteval\",\"fromText eval for \"+c+\" failed: \"+e,e,[c]))}n&&(useInteractive=!0),this.depMaps.push(r),l.completeLoad(i),s([i],o)}),void e.load(u.name,s,o,g))})),l.enable(e,this),this.pluginMaps[e.id]=e},enable:function(){(f[this.map.id]=this).enabled=!0,this.enabling=!0,each(this.depMaps,bind(this,function(e,t){var i,r,n;if(\"string\"==typeof e){if(e=S(e,this.map.isDefine?this.map:this.map.parentMap,!1,!this.skipMap),this.depMaps[t]=e,n=getOwn(c,e.id))return void(this.depExports[t]=n(this));this.depCount+=1,M(e,\"defined\",bind(this,function(e){this.undefed||(this.defineDep(t,e),this.check())})),this.errback?M(e,\"error\",bind(this,this.errback)):this.events.error&&M(e,\"error\",bind(this,function(e){this.emit(\"error\",e)}))}i=e.id,r=p[i],hasProp(c,i)||!r||r.enabled||l.enable(e,this)})),eachProp(this.pluginMaps,bind(this,function(e){var t=getOwn(p,e.id);t&&!t.enabled&&l.enable(e,this)})),this.enabling=!1,this.check()},on:function(e,t){var i=this.events[e];i||(i=this.events[e]=[]),i.push(t)},emit:function(e,t){each(this.events[e],function(e){e(t)}),\"error\"===e&&delete this.events[e]}},(l={config:g,contextName:u,registry:p,defined:m,urlFetched:n,defQueue:h,defQueueMap:{},Module:e,makeModuleMap:S,nextTick:req.nextTick,onError:O,configure:function(e){if(e.baseUrl&&\"/\"!==e.baseUrl.charAt(e.baseUrl.length-1)&&(e.baseUrl+=\"/\"),\"string\"==typeof e.urlArgs){var i=e.urlArgs;e.urlArgs=function(e,t){return(-1===t.indexOf(\"?\")?\"?\":\"&\")+i}}var r=g.shim,n={paths:!0,bundles:!0,config:!0,map:!0};eachProp(e,function(e,t){n[t]?(g[t]||(g[t]={}),mixin(g[t],e,!0,!0)):g[t]=e}),e.bundles&&eachProp(e.bundles,function(e,t){each(e,function(e){e!==t&&(v[e]=t)})}),e.shim&&(eachProp(e.shim,function(e,t){isArray(e)&&(e={deps:e}),!e.exports&&!e.init||e.exportsFn||(e.exportsFn=l.makeShimExports(e)),r[t]=e}),g.shim=r),e.packages&&each(e.packages,function(e){var t;t=(e=\"string\"==typeof e?{name:e}:e).name,e.location&&(g.paths[t]=e.location),g.pkgs[t]=e.name+\"/\"+(e.main||\"main\").replace(currDirRegExp,\"\").replace(jsSuffixRegExp,\"\")}),eachProp(p,function(e,t){e.inited||e.map.unnormalized||(e.map=S(t,null,!0))}),(e.deps||e.callback)&&l.require(e.deps||[],e.callback)},makeShimExports:function(t){return function(){var e;return t.init&&(e=t.init.apply(global,arguments)),e||t.exports&&getGlobal(t.exports)}},makeRequire:function(o,a){function s(e,t,i){var r,n;return a.enableBuildCallback&&t&&isFunction(t)&&(t.__requireJsBuild=!0),\"string\"==typeof e?isFunction(t)?O(makeError(\"requireargs\",\"Invalid require call\"),i):o&&hasProp(c,e)?c[e](p[o.id]):req.get?req.get(l,e,o,s):(r=S(e,o,!1,!0).id,hasProp(m,r)?m[r]:O(makeError(\"notloaded\",'Module name \"'+r+'\" has not been loaded yet for context: '+u+(o?\"\":\". Use require([])\")))):(T(),l.nextTick(function(){T(),(n=k(S(null,o))).skipMap=a.skipMap,n.init(e,t,i,{enabled:!0}),R()}),s)}return a=a||{},mixin(s,{isBrowser:isBrowser,toUrl:function(e){var t,i=e.lastIndexOf(\".\"),r=e.split(\"/\")[0];return-1!==i&&(!(\".\"===r||\"..\"===r)||1<i)&&(t=e.substring(i,e.length),e=e.substring(0,i)),l.nameToUrl(q(e,o&&o.id,!0),t,!0)},defined:function(e){return hasProp(m,S(e,o,!1,!0).id)},specified:function(e){return e=S(e,o,!1,!0).id,hasProp(m,e)||hasProp(p,e)}}),o||(s.undef=function(i){j();var e=S(i,o,!0),t=getOwn(p,i);t.undefed=!0,E(i),delete m[i],delete n[e.url],delete r[i],eachReverse(h,function(e,t){e[0]===i&&h.splice(t,1)}),delete l.defQueueMap[i],t&&(t.events.defined&&(r[i]=t.events),P(i))}),s},enable:function(e){getOwn(p,e.id)&&k(e).enable()},completeLoad:function(e){var t,i,r,n=getOwn(g.shim,e)||{},o=n.exports;for(j();h.length;){if(null===(i=h.shift())[0]){if(i[0]=e,t)break;t=!0}else i[0]===e&&(t=!0);a(i)}if(l.defQueueMap={},r=getOwn(p,e),!t&&!hasProp(m,e)&&r&&!r.inited){if(!(!g.enforceDefine||o&&getGlobal(o)))return w(e)?void 0:O(makeError(\"nodefine\",\"No define call for \"+e,null,[e]));a([e,n.deps||[],n.exportsFn])}R()},nameToUrl:function(e,t,i){var r,n,o,a,s,u,c=getOwn(g.pkgs,e);if(c&&(e=c),u=getOwn(v,e))return l.nameToUrl(u,t,i);if(req.jsExtRegExp.test(e))a=e+(t||\"\");else{for(r=g.paths,o=(n=e.split(\"/\")).length;0<o;o-=1)if(s=getOwn(r,n.slice(0,o).join(\"/\"))){isArray(s)&&(s=s[0]),n.splice(0,o,s);break}a=n.join(\"/\"),a=(\"/\"===(a+=t||(/^data\\:|^blob\\:|\\?/.test(a)||i?\"\":\".js\")).charAt(0)||a.match(/^[\\w\\+\\.\\-]+:/)?\"\":g.baseUrl)+a}return g.urlArgs&&!/^blob\\:/.test(a)?a+g.urlArgs(e,a):a},load:function(e,t){req.load(l,e,t)},execCb:function(e,t,i,r){return t.apply(r,i)},onScriptLoad:function(e){if(\"load\"===e.type||readyRegExp.test((e.currentTarget||e.srcElement).readyState)){interactiveScript=null;var t=s(e);l.completeLoad(t.id)}},onScriptError:function(e){var i=s(e);if(!w(i.id)){var r=[];return eachProp(p,function(e,t){0!==t.indexOf(\"_@r\")&&each(e.depMaps,function(e){if(e.id===i.id)return r.push(t),!0})}),O(makeError(\"scripterror\",'Script error for \"'+i.id+(r.length?'\", needed by: '+r.join(\", \"):'\"'),e,[i.id]))}}}).require=l.makeRequire(),l}function getInteractiveScript(){return interactiveScript&&\"interactive\"===interactiveScript.readyState||eachReverse(scripts(),function(e){if(\"interactive\"===e.readyState)return interactiveScript=e}),interactiveScript}}(this,\"undefined\"==typeof setTimeout?void 0:setTimeout); </script>\n",
       "<script>\n",
       " require.config({\n",
       "   paths: {\n",
       "     'plotly': \"https://cdn.plot.ly/plotly-latest.min\",\n",
       "     'macy': \"https://cdn.jsdelivr.net/npm/macy@2.5.1/dist/macy.min\"\n",
       "   },\n",
       " })\n",
       "require( ['plotly', 'macy'], function(Plotly, Macy) {\n",
       " window.Plotly = Plotly;\n",
       " window.Macy = Macy;\n",
       "})\n",
       "</script>\n"
      ]
     },
     "metadata": {},
     "output_type": "display_data"
    },
    {
     "data": {
      "text/plain": [
       "\u001b[32mimport \u001b[39m\u001b[36morg.carbonateresearch. picta.charts.Html.initNotebook // required to initialize jupyter notebook mode\n",
       "\u001b[39m"
      ]
     },
     "execution_count": 3,
     "metadata": {},
     "output_type": "execute_result"
    }
   ],
   "source": [
    "import org.carbonateresearch. picta.charts.Html.initNotebook // required to initialize jupyter notebook mode\n",
    "initNotebook() // stops ugly output"
   ]
  },
  {
   "cell_type": "markdown",
   "metadata": {},
   "source": [
    "# 1. Basics\n",
    "\n",
    "The aim of the Picta library is to be a highly configurable and composable charting library for data exploration. The library takes a grammatical approach to chart construction. \n",
    "\n",
    "The following examples are aimed at demonstrating the libraries capabilities, and eventually make constructing charts using this library easy and intuitive."
   ]
  },
  {
   "cell_type": "markdown",
   "metadata": {},
   "source": [
    "### Main Components\n",
    "\n",
    "Picta graphs are constructed in a modular manner. The main components are:\n",
    "\n",
    "1. `Canvas`: This is is the top-level component for representing the display. A `Canvas` may consist of multiple charts.\n",
    "\n",
    "\n",
    "2. `Chart`: This is the component that corresponds to an actual chart (i.e. scatter, pie etc).\n",
    "\n",
    "\n",
    "3. `Series`: This is the data series that is plotted on a `Chart`. `Series` come in 3 types:\n",
    "\n",
    "    - `XY`:   This is series data for constructing a 2D chart\n",
    "    - `XYZ`:  This is series data for constructing a 3D chart\n",
    "    - `Map`:  This is series data that constructs a Map chart\n",
    "    \n",
    "\n",
    "4. `Layout`: This configures various parts of how the `Chart` is represented on screen.\n",
    "\n",
    "`Chart` may occassionally also make use of the `Config` component for further configuration. `Config` specifies whether the plot is responsive.\n",
    "\n",
    "The following examples in this notebook should provide a number of interactive examples to get used to the Picta library."
   ]
  },
  {
   "cell_type": "markdown",
   "metadata": {},
   "source": [
    "### Importing the Library\n",
    "\n",
    "Importing as below should bring in the most frequently used Components in the library."
   ]
  },
  {
   "cell_type": "code",
   "execution_count": 4,
   "metadata": {},
   "outputs": [],
   "source": [
    "import org.carbonateresearch.picta._"
   ]
  },
  {
   "cell_type": "markdown",
   "metadata": {},
   "source": [
    "### Create Some Dummy Data to Use in the Examples\n",
    "\n",
    "Here we create some dummy data to be used in the examples for this notebook."
   ]
  },
  {
   "cell_type": "code",
   "execution_count": 5,
   "metadata": {},
   "outputs": [],
   "source": [
    "val x = List.range(0, 100).map(x => scala.util.Random.nextDouble() * 50)\n",
    "val y = List.range(0, 100).map(x => scala.util.Random.nextDouble() * 50)\n",
    "val z = List.range(0, 100).map(x => scala.util.Random.nextDouble() * 50)"
   ]
  },
  {
   "cell_type": "markdown",
   "metadata": {},
   "source": [
    "### 2D Plots\n",
    "\n",
    "`Series` that represent 2D data are represented by `XY` series types.\n",
    "\n",
    "\n",
    "#### Scatter Plot\n",
    "\n",
    "An example `Scatter` plot is below. \n",
    "\n",
    "Note: This is just one way to call the library functions. Another way that uses function chaining will be shown immediately after this example."
   ]
  },
  {
   "cell_type": "code",
   "execution_count": 6,
   "metadata": {},
   "outputs": [
    {
     "data": {
      "text/html": [
       "<div id=\"grid_WfFlgV0hiF\" align=\"center\"> \n",
       "<div id='graph_PDmFyYp31J' class='graph'></div> \n",
       "</div> \n",
       "<script>\n",
       "var masonry = new Macy({\n",
       "    container: '#grid_WfFlgV0hiF',\n",
       "    debug: true,\n",
       "    mobileFirst: true,\n",
       "    columns: 1,\n",
       "  });\n",
       "\n",
       " var traces_PDmFyYp31J = [{\"name\":\"4GPKYZAdwf\",\"type\":\"scatter\",\"mode\":\"markers\",\"x\":[32.749569168545975,25.71473904552449,8.903589799279388,40.18352410044281,34.495565989113814,43.21098850317388,38.71443117276223,10.479005065430764,38.14186090423647,37.685026382986315,2.3527434571149253,10.997412867630224,14.911599973343643,6.187377398949057,43.5170233530118,40.632823552253534,24.645622716417503,14.961975156576003,24.21249373700784,12.174118959512576,35.647163341381024,7.431833959585937,3.4389592432624294,27.311191290081087,13.09672809793241,1.726964917442797,45.96389149726581,28.77876257893553,29.206407455410748,23.807090513322255,41.22987534022842,10.578065424251227,0.8707725327792237,18.960220240792054,43.93969110516818,49.10139471440476,33.471867091597105,13.99917738847996,24.66895678053152,7.681806496023041,42.708740765815506,14.831668841769918,40.97536227586651,14.600014744830652,39.84731883812485,19.24550760236488,6.905220411330077,19.902791326573794,49.624325988654014,2.729136815790567,1.542150169195905,49.52193494457333,34.189342672680056,45.93856907615609,15.29937598497168,46.13016669545519,20.931993084000496,16.025434891482714,36.02626438481457,14.930045823530701,26.816636486444974,40.45678953296496,25.68134919145148,29.144278469874536,36.93481939736276,21.185890515754437,32.31824638991512,44.36056175525071,30.38615809486151,29.074137932391768,21.43750721535515,23.08136094632069,2.311192884924335,43.31790908894628,45.37657255059633,30.838790769526785,6.925145619824724,8.300025736114641,49.341663453017,33.05703335435812,42.739426065956835,20.764104640939625,37.929567260583816,47.47949715911576,17.808085195625377,33.50106328967113,46.54391437003022,40.425174500534986,19.7993458845258,17.840573952964455,27.979691906556013,46.398432442004754,22.967692156993213,16.15624616336695,25.63138401725275,39.64873703086069,41.68992424185765,37.321880865534716,11.274250263622248,43.161571663898854],\"y\":[38.128954172463374,2.597115189072402,17.174920617277984,25.259063721631136,9.802011166767644,36.7742983276942,39.40659878448001,6.498644365930057,21.35532222545613,19.584481799647328,31.675827072507317,29.880260944063643,3.6852320327550983,15.338884986284928,46.71190498350157,35.507502790194884,22.696081142486076,34.573245643948724,15.326669434264833,26.79520549609376,19.44811265181116,0.06595243858886213,31.6215293407609,19.07590137443083,43.22399190388447,41.01689869186506,36.50024108627161,23.029736594034837,39.130495516190415,23.402486163480518,10.640086965767104,34.74724165683901,12.252247494734647,41.56325509578952,2.3807389753780663,31.431599904226726,21.08731064566241,45.93408407755111,25.609245446934786,6.756853289601872,4.019822237946125,14.49298649434394,17.651205428484907,22.720700250251834,13.92275350815282,40.98297088846445,47.42234008600263,5.465367144748534,27.634253014406234,11.25251208304951,9.65132131834434,20.987239189070777,9.013947999922307,20.163657779940518,31.853847669740315,32.91575232850369,36.560940880302454,45.43281605970445,6.919588843481966,18.614283288313864,9.163148815838024,41.49780597315612,45.66779513527766,1.7405578140823552,16.44802079978003,46.04574363180986,20.533972176066612,49.10133892555169,3.4175429419633083,4.1898543857326835,43.66916402543479,27.145956958627583,22.57586304358315,10.449352291623304,40.165077083806906,18.765483539600368,0.595717639536536,46.664978501268415,39.8623398957679,14.19911736033097,0.7202729708246758,4.773874389058674,19.25590462461828,10.796631762387971,36.55985651520998,26.970938062881494,28.38069401927072,35.14548873349763,37.7184501368295,22.199839023276667,36.24225890255201,37.6434830086763,32.77272545868398,27.145384801540995,22.351337237220196,3.9825614324467407,0.5267648760289845,21.93994765367444,31.227866708000857,30.206722619171128]}];\n",
       " var layout_PDmFyYp31J = {\"height\":550,\"width\":600,\"hovermode\":\"closest\",\"title\":{\"text\":\"First Chart\"},\"showlegend\":false};\n",
       " var config_PDmFyYp31J = {\"responsive\":true,\"scrollZoom\":true,\"displaylogo\":false};\n",
       " Plotly.newPlot(\"graph_PDmFyYp31J\", traces_PDmFyYp31J, layout_PDmFyYp31J, config_PDmFyYp31J);\n",
       "</script> \n"
      ]
     },
     "metadata": {},
     "output_type": "display_data"
    }
   ],
   "source": [
    "// create the data series using the data from above\n",
    "// 'asType SCATTER' transforms the series into a scatter chart\n",
    "// 'drawSymbol Markers' specifies the type of markers the chart should have\n",
    "val series = XY(x, y) asType SCATTER drawSymbol MARKERS\n",
    "\n",
    "// create a chart by adding to it a data series. We set the title as 'First Chart'\n",
    "val chart = Chart() addSeries series setTitle \"First Chart\"\n",
    "\n",
    "// next we must add the chart to the Canvas. Remember Canvas is what represents the display area \n",
    "// (hence Canvas is like an artist's canvas!)\n",
    "val canvas = Canvas() addCharts chart\n",
    "\n",
    "// our first plot using Picta!\n",
    "canvas.plotInline"
   ]
  },
  {
   "cell_type": "markdown",
   "metadata": {},
   "source": [
    "#### Chaining Functions\n",
    "\n",
    "Sometimes when we are specifying many options, it is quicker to use the IDE autocomplete and just chain the function calls. Throughout this book both the style above and the function chaining style will be used as and when convenient."
   ]
  },
  {
   "cell_type": "code",
   "execution_count": 7,
   "metadata": {},
   "outputs": [
    {
     "data": {
      "text/html": [
       "<div id=\"grid_xlo4NGUNpH\" align=\"center\"> \n",
       "<div id='graph_lx4FnkecH9' class='graph'></div> \n",
       "</div> \n",
       "<script>\n",
       "var masonry = new Macy({\n",
       "    container: '#grid_xlo4NGUNpH',\n",
       "    debug: true,\n",
       "    mobileFirst: true,\n",
       "    columns: 1,\n",
       "  });\n",
       "\n",
       " var traces_lx4FnkecH9 = [{\"name\":\"rJTkbZ88vi\",\"type\":\"scatter\",\"mode\":\"markers\",\"x\":[32.749569168545975,25.71473904552449,8.903589799279388,40.18352410044281,34.495565989113814,43.21098850317388,38.71443117276223,10.479005065430764,38.14186090423647,37.685026382986315,2.3527434571149253,10.997412867630224,14.911599973343643,6.187377398949057,43.5170233530118,40.632823552253534,24.645622716417503,14.961975156576003,24.21249373700784,12.174118959512576,35.647163341381024,7.431833959585937,3.4389592432624294,27.311191290081087,13.09672809793241,1.726964917442797,45.96389149726581,28.77876257893553,29.206407455410748,23.807090513322255,41.22987534022842,10.578065424251227,0.8707725327792237,18.960220240792054,43.93969110516818,49.10139471440476,33.471867091597105,13.99917738847996,24.66895678053152,7.681806496023041,42.708740765815506,14.831668841769918,40.97536227586651,14.600014744830652,39.84731883812485,19.24550760236488,6.905220411330077,19.902791326573794,49.624325988654014,2.729136815790567,1.542150169195905,49.52193494457333,34.189342672680056,45.93856907615609,15.29937598497168,46.13016669545519,20.931993084000496,16.025434891482714,36.02626438481457,14.930045823530701,26.816636486444974,40.45678953296496,25.68134919145148,29.144278469874536,36.93481939736276,21.185890515754437,32.31824638991512,44.36056175525071,30.38615809486151,29.074137932391768,21.43750721535515,23.08136094632069,2.311192884924335,43.31790908894628,45.37657255059633,30.838790769526785,6.925145619824724,8.300025736114641,49.341663453017,33.05703335435812,42.739426065956835,20.764104640939625,37.929567260583816,47.47949715911576,17.808085195625377,33.50106328967113,46.54391437003022,40.425174500534986,19.7993458845258,17.840573952964455,27.979691906556013,46.398432442004754,22.967692156993213,16.15624616336695,25.63138401725275,39.64873703086069,41.68992424185765,37.321880865534716,11.274250263622248,43.161571663898854],\"y\":[38.128954172463374,2.597115189072402,17.174920617277984,25.259063721631136,9.802011166767644,36.7742983276942,39.40659878448001,6.498644365930057,21.35532222545613,19.584481799647328,31.675827072507317,29.880260944063643,3.6852320327550983,15.338884986284928,46.71190498350157,35.507502790194884,22.696081142486076,34.573245643948724,15.326669434264833,26.79520549609376,19.44811265181116,0.06595243858886213,31.6215293407609,19.07590137443083,43.22399190388447,41.01689869186506,36.50024108627161,23.029736594034837,39.130495516190415,23.402486163480518,10.640086965767104,34.74724165683901,12.252247494734647,41.56325509578952,2.3807389753780663,31.431599904226726,21.08731064566241,45.93408407755111,25.609245446934786,6.756853289601872,4.019822237946125,14.49298649434394,17.651205428484907,22.720700250251834,13.92275350815282,40.98297088846445,47.42234008600263,5.465367144748534,27.634253014406234,11.25251208304951,9.65132131834434,20.987239189070777,9.013947999922307,20.163657779940518,31.853847669740315,32.91575232850369,36.560940880302454,45.43281605970445,6.919588843481966,18.614283288313864,9.163148815838024,41.49780597315612,45.66779513527766,1.7405578140823552,16.44802079978003,46.04574363180986,20.533972176066612,49.10133892555169,3.4175429419633083,4.1898543857326835,43.66916402543479,27.145956958627583,22.57586304358315,10.449352291623304,40.165077083806906,18.765483539600368,0.595717639536536,46.664978501268415,39.8623398957679,14.19911736033097,0.7202729708246758,4.773874389058674,19.25590462461828,10.796631762387971,36.55985651520998,26.970938062881494,28.38069401927072,35.14548873349763,37.7184501368295,22.199839023276667,36.24225890255201,37.6434830086763,32.77272545868398,27.145384801540995,22.351337237220196,3.9825614324467407,0.5267648760289845,21.93994765367444,31.227866708000857,30.206722619171128]}];\n",
       " var layout_lx4FnkecH9 = {\"height\":550,\"width\":600,\"hovermode\":\"closest\",\"title\":{\"text\":\"First Chart - Function Chaining\"},\"showlegend\":false};\n",
       " var config_lx4FnkecH9 = {\"responsive\":true,\"scrollZoom\":true,\"displaylogo\":false};\n",
       " Plotly.newPlot(\"graph_lx4FnkecH9\", traces_lx4FnkecH9, layout_lx4FnkecH9, config_lx4FnkecH9);\n",
       "</script> \n"
      ]
     },
     "metadata": {},
     "output_type": "display_data"
    }
   ],
   "source": [
    "// sometimes we may specify many options. In such cases it is clearer to use function chaining as below:\n",
    "val series = XY(x, y)\n",
    "            .asType(SCATTER)\n",
    "            .drawMarkers  // This is to help leverage the IDE autocompletion too for quick scripting\n",
    "\n",
    "val chart = Chart()\n",
    "            .addSeries(series)\n",
    "            .setTitle(\"First Chart - Function Chaining\")\n",
    "\n",
    "Canvas().addCharts(chart).plotInline"
   ]
  },
  {
   "cell_type": "markdown",
   "metadata": {},
   "source": [
    "#### Bar Chart\n",
    "\n",
    "Now using the same principles as above, let's create a `Bar` chart:"
   ]
  },
  {
   "cell_type": "code",
   "execution_count": 8,
   "metadata": {},
   "outputs": [
    {
     "data": {
      "text/html": [
       "<div id=\"grid_MVXY09Vhsa\" align=\"center\"> \n",
       "<div id='graph_cJFHZ8gET4' class='graph'></div> \n",
       "</div> \n",
       "<script>\n",
       "var masonry = new Macy({\n",
       "    container: '#grid_MVXY09Vhsa',\n",
       "    debug: true,\n",
       "    mobileFirst: true,\n",
       "    columns: 1,\n",
       "  });\n",
       "\n",
       " var traces_cJFHZ8gET4 = [{\"name\":\"3NJQ4ODgJA\",\"type\":\"bar\",\"x\":[\"a\",\"b\",\"c\"],\"y\":[10,20,300]}];\n",
       " var layout_cJFHZ8gET4 = {\"height\":550,\"width\":600,\"hovermode\":\"closest\",\"title\":{\"text\":\"Bar Chart\"},\"showlegend\":false};\n",
       " var config_cJFHZ8gET4 = {\"responsive\":true,\"scrollZoom\":true,\"displaylogo\":false};\n",
       " Plotly.newPlot(\"graph_cJFHZ8gET4\", traces_cJFHZ8gET4, layout_cJFHZ8gET4, config_cJFHZ8gET4);\n",
       "</script> \n"
      ]
     },
     "metadata": {},
     "output_type": "display_data"
    }
   ],
   "source": [
    "// First we create some data for the piechart\n",
    "val x_pie = List(\"a\", \"b\", \"c\")\n",
    "val y_pie = List(10, 20, 300)\n",
    "\n",
    "// again feed in the data that we want to represent as a Bar chart.\n",
    "// Notice how we change 'asType SCATTER' to 'asType BAR'\n",
    "val series = XY(x_pie, y_pie) asType BAR\n",
    "\n",
    "val chart = Chart() addSeries series setTitle \"Bar Chart\" \n",
    "\n",
    "val canvas = Canvas() addCharts chart\n",
    "\n",
    "canvas.plotInline"
   ]
  },
  {
   "cell_type": "markdown",
   "metadata": {},
   "source": [
    "#### Adding Multiple Series on the Same Axis\n",
    "\n",
    "Sometimes we may want to plot multiple `Series` on the same axis to compare different data series.\n",
    "\n",
    "Let's plot both of the above on the same pair of axis:"
   ]
  },
  {
   "cell_type": "code",
   "execution_count": 9,
   "metadata": {},
   "outputs": [],
   "source": [
    "// we import the marker option\n",
    "import org.carbonateresearch.picta.options.Marker"
   ]
  },
  {
   "cell_type": "code",
   "execution_count": 10,
   "metadata": {},
   "outputs": [
    {
     "data": {
      "text/html": [
       "<div id=\"grid_m4Z4WizOrF\" align=\"center\"> \n",
       "<div id='graph_TPLljc5u4W' class='graph'></div> \n",
       "</div> \n",
       "<script>\n",
       "var masonry = new Macy({\n",
       "    container: '#grid_m4Z4WizOrF',\n",
       "    debug: true,\n",
       "    mobileFirst: true,\n",
       "    columns: 1,\n",
       "  });\n",
       "\n",
       " var traces_TPLljc5u4W = [{\"name\":\"Bar\",\"type\":\"bar\",\"x\":[32.749569168545975,25.71473904552449,8.903589799279388,40.18352410044281,34.495565989113814,43.21098850317388,38.71443117276223,10.479005065430764,38.14186090423647,37.685026382986315,2.3527434571149253,10.997412867630224,14.911599973343643,6.187377398949057,43.5170233530118,40.632823552253534,24.645622716417503,14.961975156576003,24.21249373700784,12.174118959512576,35.647163341381024,7.431833959585937,3.4389592432624294,27.311191290081087,13.09672809793241,1.726964917442797,45.96389149726581,28.77876257893553,29.206407455410748,23.807090513322255,41.22987534022842,10.578065424251227,0.8707725327792237,18.960220240792054,43.93969110516818,49.10139471440476,33.471867091597105,13.99917738847996,24.66895678053152,7.681806496023041,42.708740765815506,14.831668841769918,40.97536227586651,14.600014744830652,39.84731883812485,19.24550760236488,6.905220411330077,19.902791326573794,49.624325988654014,2.729136815790567,1.542150169195905,49.52193494457333,34.189342672680056,45.93856907615609,15.29937598497168,46.13016669545519,20.931993084000496,16.025434891482714,36.02626438481457,14.930045823530701,26.816636486444974,40.45678953296496,25.68134919145148,29.144278469874536,36.93481939736276,21.185890515754437,32.31824638991512,44.36056175525071,30.38615809486151,29.074137932391768,21.43750721535515,23.08136094632069,2.311192884924335,43.31790908894628,45.37657255059633,30.838790769526785,6.925145619824724,8.300025736114641,49.341663453017,33.05703335435812,42.739426065956835,20.764104640939625,37.929567260583816,47.47949715911576,17.808085195625377,33.50106328967113,46.54391437003022,40.425174500534986,19.7993458845258,17.840573952964455,27.979691906556013,46.398432442004754,22.967692156993213,16.15624616336695,25.63138401725275,39.64873703086069,41.68992424185765,37.321880865534716,11.274250263622248,43.161571663898854],\"y\":[38.128954172463374,2.597115189072402,17.174920617277984,25.259063721631136,9.802011166767644,36.7742983276942,39.40659878448001,6.498644365930057,21.35532222545613,19.584481799647328,31.675827072507317,29.880260944063643,3.6852320327550983,15.338884986284928,46.71190498350157,35.507502790194884,22.696081142486076,34.573245643948724,15.326669434264833,26.79520549609376,19.44811265181116,0.06595243858886213,31.6215293407609,19.07590137443083,43.22399190388447,41.01689869186506,36.50024108627161,23.029736594034837,39.130495516190415,23.402486163480518,10.640086965767104,34.74724165683901,12.252247494734647,41.56325509578952,2.3807389753780663,31.431599904226726,21.08731064566241,45.93408407755111,25.609245446934786,6.756853289601872,4.019822237946125,14.49298649434394,17.651205428484907,22.720700250251834,13.92275350815282,40.98297088846445,47.42234008600263,5.465367144748534,27.634253014406234,11.25251208304951,9.65132131834434,20.987239189070777,9.013947999922307,20.163657779940518,31.853847669740315,32.91575232850369,36.560940880302454,45.43281605970445,6.919588843481966,18.614283288313864,9.163148815838024,41.49780597315612,45.66779513527766,1.7405578140823552,16.44802079978003,46.04574363180986,20.533972176066612,49.10133892555169,3.4175429419633083,4.1898543857326835,43.66916402543479,27.145956958627583,22.57586304358315,10.449352291623304,40.165077083806906,18.765483539600368,0.595717639536536,46.664978501268415,39.8623398957679,14.19911736033097,0.7202729708246758,4.773874389058674,19.25590462461828,10.796631762387971,36.55985651520998,26.970938062881494,28.38069401927072,35.14548873349763,37.7184501368295,22.199839023276667,36.24225890255201,37.6434830086763,32.77272545868398,27.145384801540995,22.351337237220196,3.9825614324467407,0.5267648760289845,21.93994765367444,31.227866708000857,30.206722619171128]},{\"name\":\"Scatter\",\"type\":\"scatter\",\"mode\":\"markers\",\"marker\":{\"symbol\":\"circle\",\"color\":\"red\"},\"x\":[32.749569168545975,25.71473904552449,8.903589799279388,40.18352410044281,34.495565989113814,43.21098850317388,38.71443117276223,10.479005065430764,38.14186090423647,37.685026382986315,2.3527434571149253,10.997412867630224,14.911599973343643,6.187377398949057,43.5170233530118,40.632823552253534,24.645622716417503,14.961975156576003,24.21249373700784,12.174118959512576,35.647163341381024,7.431833959585937,3.4389592432624294,27.311191290081087,13.09672809793241,1.726964917442797,45.96389149726581,28.77876257893553,29.206407455410748,23.807090513322255,41.22987534022842,10.578065424251227,0.8707725327792237,18.960220240792054,43.93969110516818,49.10139471440476,33.471867091597105,13.99917738847996,24.66895678053152,7.681806496023041,42.708740765815506,14.831668841769918,40.97536227586651,14.600014744830652,39.84731883812485,19.24550760236488,6.905220411330077,19.902791326573794,49.624325988654014,2.729136815790567,1.542150169195905,49.52193494457333,34.189342672680056,45.93856907615609,15.29937598497168,46.13016669545519,20.931993084000496,16.025434891482714,36.02626438481457,14.930045823530701,26.816636486444974,40.45678953296496,25.68134919145148,29.144278469874536,36.93481939736276,21.185890515754437,32.31824638991512,44.36056175525071,30.38615809486151,29.074137932391768,21.43750721535515,23.08136094632069,2.311192884924335,43.31790908894628,45.37657255059633,30.838790769526785,6.925145619824724,8.300025736114641,49.341663453017,33.05703335435812,42.739426065956835,20.764104640939625,37.929567260583816,47.47949715911576,17.808085195625377,33.50106328967113,46.54391437003022,40.425174500534986,19.7993458845258,17.840573952964455,27.979691906556013,46.398432442004754,22.967692156993213,16.15624616336695,25.63138401725275,39.64873703086069,41.68992424185765,37.321880865534716,11.274250263622248,43.161571663898854],\"y\":[38.128954172463374,2.597115189072402,17.174920617277984,25.259063721631136,9.802011166767644,36.7742983276942,39.40659878448001,6.498644365930057,21.35532222545613,19.584481799647328,31.675827072507317,29.880260944063643,3.6852320327550983,15.338884986284928,46.71190498350157,35.507502790194884,22.696081142486076,34.573245643948724,15.326669434264833,26.79520549609376,19.44811265181116,0.06595243858886213,31.6215293407609,19.07590137443083,43.22399190388447,41.01689869186506,36.50024108627161,23.029736594034837,39.130495516190415,23.402486163480518,10.640086965767104,34.74724165683901,12.252247494734647,41.56325509578952,2.3807389753780663,31.431599904226726,21.08731064566241,45.93408407755111,25.609245446934786,6.756853289601872,4.019822237946125,14.49298649434394,17.651205428484907,22.720700250251834,13.92275350815282,40.98297088846445,47.42234008600263,5.465367144748534,27.634253014406234,11.25251208304951,9.65132131834434,20.987239189070777,9.013947999922307,20.163657779940518,31.853847669740315,32.91575232850369,36.560940880302454,45.43281605970445,6.919588843481966,18.614283288313864,9.163148815838024,41.49780597315612,45.66779513527766,1.7405578140823552,16.44802079978003,46.04574363180986,20.533972176066612,49.10133892555169,3.4175429419633083,4.1898543857326835,43.66916402543479,27.145956958627583,22.57586304358315,10.449352291623304,40.165077083806906,18.765483539600368,0.595717639536536,46.664978501268415,39.8623398957679,14.19911736033097,0.7202729708246758,4.773874389058674,19.25590462461828,10.796631762387971,36.55985651520998,26.970938062881494,28.38069401927072,35.14548873349763,37.7184501368295,22.199839023276667,36.24225890255201,37.6434830086763,32.77272545868398,27.145384801540995,22.351337237220196,3.9825614324467407,0.5267648760289845,21.93994765367444,31.227866708000857,30.206722619171128]}];\n",
       " var layout_TPLljc5u4W = {\"height\":550,\"width\":600,\"hovermode\":\"closest\",\"showlegend\":false};\n",
       " var config_TPLljc5u4W = {\"responsive\":true,\"scrollZoom\":true,\"displaylogo\":false};\n",
       " Plotly.newPlot(\"graph_TPLljc5u4W\", traces_TPLljc5u4W, layout_TPLljc5u4W, config_TPLljc5u4W);\n",
       "</script> \n"
      ]
     },
     "metadata": {},
     "output_type": "display_data"
    }
   ],
   "source": [
    "// additional traces can simply be composed with an existing chart and added on\n",
    "val series1 = XY(x, y) asType BAR setName(\"Bar\")\n",
    "\n",
    "// lets give the second series a red marker. Again we can 'compose' a marker using smaller components\n",
    "val marker = Marker() setSymbol \"circle\" setColor \"red\"\n",
    "\n",
    "val series2 = XY(x, y) asType SCATTER setName(\"Scatter\") drawSymbol MARKERS setMarker marker\n",
    "\n",
    "// we not put brackets in the 'addSeries' function to ensure that addSeries picks up the right series'\n",
    "val chart = Chart() addSeries(series1, series2)\n",
    "\n",
    "Canvas().addCharts(chart).plotInline"
   ]
  },
  {
   "cell_type": "markdown",
   "metadata": {},
   "source": [
    "### Customizing the Axes\n",
    "\n",
    "As can be seen from the examples above, the axes are not set. While for quick data exploration the above is acceptable, for presentation purposes we would want named axes.\n",
    "\n",
    "We can do this as follows:"
   ]
  },
  {
   "cell_type": "code",
   "execution_count": 11,
   "metadata": {},
   "outputs": [],
   "source": [
    "import org.carbonateresearch.picta.options.{XAxis, YAxis}"
   ]
  },
  {
   "cell_type": "code",
   "execution_count": 12,
   "metadata": {},
   "outputs": [
    {
     "data": {
      "text/html": [
       "<div id=\"grid_Kcy67I8v0n\" align=\"center\"> \n",
       "<div id='graph_Q6GamEKk3m' class='graph'></div> \n",
       "</div> \n",
       "<script>\n",
       "var masonry = new Macy({\n",
       "    container: '#grid_Kcy67I8v0n',\n",
       "    debug: true,\n",
       "    mobileFirst: true,\n",
       "    columns: 1,\n",
       "  });\n",
       "\n",
       " var traces_Q6GamEKk3m = [{\"name\":\"Bar\",\"type\":\"bar\",\"x\":[32.749569168545975,25.71473904552449,8.903589799279388,40.18352410044281,34.495565989113814,43.21098850317388,38.71443117276223,10.479005065430764,38.14186090423647,37.685026382986315,2.3527434571149253,10.997412867630224,14.911599973343643,6.187377398949057,43.5170233530118,40.632823552253534,24.645622716417503,14.961975156576003,24.21249373700784,12.174118959512576,35.647163341381024,7.431833959585937,3.4389592432624294,27.311191290081087,13.09672809793241,1.726964917442797,45.96389149726581,28.77876257893553,29.206407455410748,23.807090513322255,41.22987534022842,10.578065424251227,0.8707725327792237,18.960220240792054,43.93969110516818,49.10139471440476,33.471867091597105,13.99917738847996,24.66895678053152,7.681806496023041,42.708740765815506,14.831668841769918,40.97536227586651,14.600014744830652,39.84731883812485,19.24550760236488,6.905220411330077,19.902791326573794,49.624325988654014,2.729136815790567,1.542150169195905,49.52193494457333,34.189342672680056,45.93856907615609,15.29937598497168,46.13016669545519,20.931993084000496,16.025434891482714,36.02626438481457,14.930045823530701,26.816636486444974,40.45678953296496,25.68134919145148,29.144278469874536,36.93481939736276,21.185890515754437,32.31824638991512,44.36056175525071,30.38615809486151,29.074137932391768,21.43750721535515,23.08136094632069,2.311192884924335,43.31790908894628,45.37657255059633,30.838790769526785,6.925145619824724,8.300025736114641,49.341663453017,33.05703335435812,42.739426065956835,20.764104640939625,37.929567260583816,47.47949715911576,17.808085195625377,33.50106328967113,46.54391437003022,40.425174500534986,19.7993458845258,17.840573952964455,27.979691906556013,46.398432442004754,22.967692156993213,16.15624616336695,25.63138401725275,39.64873703086069,41.68992424185765,37.321880865534716,11.274250263622248,43.161571663898854],\"y\":[38.128954172463374,2.597115189072402,17.174920617277984,25.259063721631136,9.802011166767644,36.7742983276942,39.40659878448001,6.498644365930057,21.35532222545613,19.584481799647328,31.675827072507317,29.880260944063643,3.6852320327550983,15.338884986284928,46.71190498350157,35.507502790194884,22.696081142486076,34.573245643948724,15.326669434264833,26.79520549609376,19.44811265181116,0.06595243858886213,31.6215293407609,19.07590137443083,43.22399190388447,41.01689869186506,36.50024108627161,23.029736594034837,39.130495516190415,23.402486163480518,10.640086965767104,34.74724165683901,12.252247494734647,41.56325509578952,2.3807389753780663,31.431599904226726,21.08731064566241,45.93408407755111,25.609245446934786,6.756853289601872,4.019822237946125,14.49298649434394,17.651205428484907,22.720700250251834,13.92275350815282,40.98297088846445,47.42234008600263,5.465367144748534,27.634253014406234,11.25251208304951,9.65132131834434,20.987239189070777,9.013947999922307,20.163657779940518,31.853847669740315,32.91575232850369,36.560940880302454,45.43281605970445,6.919588843481966,18.614283288313864,9.163148815838024,41.49780597315612,45.66779513527766,1.7405578140823552,16.44802079978003,46.04574363180986,20.533972176066612,49.10133892555169,3.4175429419633083,4.1898543857326835,43.66916402543479,27.145956958627583,22.57586304358315,10.449352291623304,40.165077083806906,18.765483539600368,0.595717639536536,46.664978501268415,39.8623398957679,14.19911736033097,0.7202729708246758,4.773874389058674,19.25590462461828,10.796631762387971,36.55985651520998,26.970938062881494,28.38069401927072,35.14548873349763,37.7184501368295,22.199839023276667,36.24225890255201,37.6434830086763,32.77272545868398,27.145384801540995,22.351337237220196,3.9825614324467407,0.5267648760289845,21.93994765367444,31.227866708000857,30.206722619171128]},{\"name\":\"Scatter\",\"type\":\"scatter\",\"mode\":\"markers\",\"marker\":{\"symbol\":\"circle\",\"color\":\"red\"},\"x\":[32.749569168545975,25.71473904552449,8.903589799279388,40.18352410044281,34.495565989113814,43.21098850317388,38.71443117276223,10.479005065430764,38.14186090423647,37.685026382986315,2.3527434571149253,10.997412867630224,14.911599973343643,6.187377398949057,43.5170233530118,40.632823552253534,24.645622716417503,14.961975156576003,24.21249373700784,12.174118959512576,35.647163341381024,7.431833959585937,3.4389592432624294,27.311191290081087,13.09672809793241,1.726964917442797,45.96389149726581,28.77876257893553,29.206407455410748,23.807090513322255,41.22987534022842,10.578065424251227,0.8707725327792237,18.960220240792054,43.93969110516818,49.10139471440476,33.471867091597105,13.99917738847996,24.66895678053152,7.681806496023041,42.708740765815506,14.831668841769918,40.97536227586651,14.600014744830652,39.84731883812485,19.24550760236488,6.905220411330077,19.902791326573794,49.624325988654014,2.729136815790567,1.542150169195905,49.52193494457333,34.189342672680056,45.93856907615609,15.29937598497168,46.13016669545519,20.931993084000496,16.025434891482714,36.02626438481457,14.930045823530701,26.816636486444974,40.45678953296496,25.68134919145148,29.144278469874536,36.93481939736276,21.185890515754437,32.31824638991512,44.36056175525071,30.38615809486151,29.074137932391768,21.43750721535515,23.08136094632069,2.311192884924335,43.31790908894628,45.37657255059633,30.838790769526785,6.925145619824724,8.300025736114641,49.341663453017,33.05703335435812,42.739426065956835,20.764104640939625,37.929567260583816,47.47949715911576,17.808085195625377,33.50106328967113,46.54391437003022,40.425174500534986,19.7993458845258,17.840573952964455,27.979691906556013,46.398432442004754,22.967692156993213,16.15624616336695,25.63138401725275,39.64873703086069,41.68992424185765,37.321880865534716,11.274250263622248,43.161571663898854],\"y\":[38.128954172463374,2.597115189072402,17.174920617277984,25.259063721631136,9.802011166767644,36.7742983276942,39.40659878448001,6.498644365930057,21.35532222545613,19.584481799647328,31.675827072507317,29.880260944063643,3.6852320327550983,15.338884986284928,46.71190498350157,35.507502790194884,22.696081142486076,34.573245643948724,15.326669434264833,26.79520549609376,19.44811265181116,0.06595243858886213,31.6215293407609,19.07590137443083,43.22399190388447,41.01689869186506,36.50024108627161,23.029736594034837,39.130495516190415,23.402486163480518,10.640086965767104,34.74724165683901,12.252247494734647,41.56325509578952,2.3807389753780663,31.431599904226726,21.08731064566241,45.93408407755111,25.609245446934786,6.756853289601872,4.019822237946125,14.49298649434394,17.651205428484907,22.720700250251834,13.92275350815282,40.98297088846445,47.42234008600263,5.465367144748534,27.634253014406234,11.25251208304951,9.65132131834434,20.987239189070777,9.013947999922307,20.163657779940518,31.853847669740315,32.91575232850369,36.560940880302454,45.43281605970445,6.919588843481966,18.614283288313864,9.163148815838024,41.49780597315612,45.66779513527766,1.7405578140823552,16.44802079978003,46.04574363180986,20.533972176066612,49.10133892555169,3.4175429419633083,4.1898543857326835,43.66916402543479,27.145956958627583,22.57586304358315,10.449352291623304,40.165077083806906,18.765483539600368,0.595717639536536,46.664978501268415,39.8623398957679,14.19911736033097,0.7202729708246758,4.773874389058674,19.25590462461828,10.796631762387971,36.55985651520998,26.970938062881494,28.38069401927072,35.14548873349763,37.7184501368295,22.199839023276667,36.24225890255201,37.6434830086763,32.77272545868398,27.145384801540995,22.351337237220196,3.9825614324467407,0.5267648760289845,21.93994765367444,31.227866708000857,30.206722619171128]}];\n",
       " var layout_Q6GamEKk3m = {\"height\":550,\"width\":600,\"hovermode\":\"closest\",\"title\":{\"text\":\"Chart with Axes\"},\"showlegend\":false,\"xaxis\":{\"title\":{\"text\":\"x variable\"},\"showgrid\":true,\"zeroline\":false,\"showline\":false},\"yaxis\":{\"title\":{\"text\":\"y variable\"},\"showgrid\":true,\"zeroline\":false,\"showline\":false}};\n",
       " var config_Q6GamEKk3m = {\"responsive\":true,\"scrollZoom\":true,\"displaylogo\":false};\n",
       " Plotly.newPlot(\"graph_Q6GamEKk3m\", traces_Q6GamEKk3m, layout_Q6GamEKk3m, config_Q6GamEKk3m);\n",
       "</script> \n"
      ]
     },
     "metadata": {},
     "output_type": "display_data"
    }
   ],
   "source": [
    "// We construct the axes and set their title\n",
    "val xaxis = XAxis(title = \"x variable\")\n",
    "val yaxis = YAxis(title = \"y variable\")\n",
    "\n",
    "// another way to do composition is to just add a bracket around the composition\n",
    "val chart = (\n",
    "    Chart()\n",
    "    setTitle \"Chart with Axes\"\n",
    "    addSeries(series1, series2)\n",
    "    addAxes(xaxis, yaxis)\n",
    ")\n",
    "\n",
    "val canvas = Canvas() addCharts chart\n",
    "\n",
    "canvas.plotInline"
   ]
  },
  {
   "cell_type": "markdown",
   "metadata": {},
   "source": [
    "### Display options - MultiCharts\n",
    "\n",
    "`MultiCharts` are a way to plot multiple axes on the same chart. This is seperate to Picta's grid system, which create a grid of subplot `Chart`'s. The next series of examples will make this clearer."
   ]
  },
  {
   "cell_type": "code",
   "execution_count": 13,
   "metadata": {},
   "outputs": [],
   "source": [
    "// lets make use of the config:\n",
    "val config = Config()\n",
    "\n",
    "// create the axes\n",
    "val xaxis1 = XAxis() setTitle \"x1\"\n",
    "val yaxis1 = YAxis() // this is not strictly necessary, but if it is not added there will be a zeroline at y = 0\n",
    "\n",
    "val xaxis2 = XAxis(2) setTitle \"x2\"\n",
    "val yaxis2 = YAxis(2) // this is not strictly necessary, but if it is not added there will be a zeroline at y = 0"
   ]
  },
  {
   "cell_type": "code",
   "execution_count": 14,
   "metadata": {},
   "outputs": [
    {
     "data": {
      "text/html": [
       "<div id=\"grid_3voomyBbju\" align=\"center\"> \n",
       "<div id='graph_mOttPMub7H' class='graph'></div> \n",
       "</div> \n",
       "<script>\n",
       "var masonry = new Macy({\n",
       "    container: '#grid_3voomyBbju',\n",
       "    debug: true,\n",
       "    mobileFirst: true,\n",
       "    columns: 1,\n",
       "  });\n",
       "\n",
       " var traces_mOttPMub7H = [{\"name\":\"kePjiK05bC\",\"type\":\"scatter\",\"mode\":\"markers\",\"x\":[1,2,3],\"y\":[2,4,5]},{\"name\":\"k4x4c7pOAW\",\"type\":\"scatter\",\"mode\":\"markers\",\"xaxis\":\"x2\",\"yaxis\":\"y2\",\"x\":[32.749569168545975,25.71473904552449,8.903589799279388,40.18352410044281,34.495565989113814,43.21098850317388,38.71443117276223,10.479005065430764,38.14186090423647,37.685026382986315,2.3527434571149253,10.997412867630224,14.911599973343643,6.187377398949057,43.5170233530118,40.632823552253534,24.645622716417503,14.961975156576003,24.21249373700784,12.174118959512576,35.647163341381024,7.431833959585937,3.4389592432624294,27.311191290081087,13.09672809793241,1.726964917442797,45.96389149726581,28.77876257893553,29.206407455410748,23.807090513322255,41.22987534022842,10.578065424251227,0.8707725327792237,18.960220240792054,43.93969110516818,49.10139471440476,33.471867091597105,13.99917738847996,24.66895678053152,7.681806496023041,42.708740765815506,14.831668841769918,40.97536227586651,14.600014744830652,39.84731883812485,19.24550760236488,6.905220411330077,19.902791326573794,49.624325988654014,2.729136815790567,1.542150169195905,49.52193494457333,34.189342672680056,45.93856907615609,15.29937598497168,46.13016669545519,20.931993084000496,16.025434891482714,36.02626438481457,14.930045823530701,26.816636486444974,40.45678953296496,25.68134919145148,29.144278469874536,36.93481939736276,21.185890515754437,32.31824638991512,44.36056175525071,30.38615809486151,29.074137932391768,21.43750721535515,23.08136094632069,2.311192884924335,43.31790908894628,45.37657255059633,30.838790769526785,6.925145619824724,8.300025736114641,49.341663453017,33.05703335435812,42.739426065956835,20.764104640939625,37.929567260583816,47.47949715911576,17.808085195625377,33.50106328967113,46.54391437003022,40.425174500534986,19.7993458845258,17.840573952964455,27.979691906556013,46.398432442004754,22.967692156993213,16.15624616336695,25.63138401725275,39.64873703086069,41.68992424185765,37.321880865534716,11.274250263622248,43.161571663898854],\"y\":[38.128954172463374,2.597115189072402,17.174920617277984,25.259063721631136,9.802011166767644,36.7742983276942,39.40659878448001,6.498644365930057,21.35532222545613,19.584481799647328,31.675827072507317,29.880260944063643,3.6852320327550983,15.338884986284928,46.71190498350157,35.507502790194884,22.696081142486076,34.573245643948724,15.326669434264833,26.79520549609376,19.44811265181116,0.06595243858886213,31.6215293407609,19.07590137443083,43.22399190388447,41.01689869186506,36.50024108627161,23.029736594034837,39.130495516190415,23.402486163480518,10.640086965767104,34.74724165683901,12.252247494734647,41.56325509578952,2.3807389753780663,31.431599904226726,21.08731064566241,45.93408407755111,25.609245446934786,6.756853289601872,4.019822237946125,14.49298649434394,17.651205428484907,22.720700250251834,13.92275350815282,40.98297088846445,47.42234008600263,5.465367144748534,27.634253014406234,11.25251208304951,9.65132131834434,20.987239189070777,9.013947999922307,20.163657779940518,31.853847669740315,32.91575232850369,36.560940880302454,45.43281605970445,6.919588843481966,18.614283288313864,9.163148815838024,41.49780597315612,45.66779513527766,1.7405578140823552,16.44802079978003,46.04574363180986,20.533972176066612,49.10133892555169,3.4175429419633083,4.1898543857326835,43.66916402543479,27.145956958627583,22.57586304358315,10.449352291623304,40.165077083806906,18.765483539600368,0.595717639536536,46.664978501268415,39.8623398957679,14.19911736033097,0.7202729708246758,4.773874389058674,19.25590462461828,10.796631762387971,36.55985651520998,26.970938062881494,28.38069401927072,35.14548873349763,37.7184501368295,22.199839023276667,36.24225890255201,37.6434830086763,32.77272545868398,27.145384801540995,22.351337237220196,3.9825614324467407,0.5267648760289845,21.93994765367444,31.227866708000857,30.206722619171128]}];\n",
       " var layout_mOttPMub7H = {\"height\":550,\"width\":600,\"hovermode\":\"closest\",\"title\":{\"text\":\"Chart.Axis.Composition\"},\"showlegend\":false,\"grid\":{\"rows\":1,\"columns\":2,\"pattern\":\"independent\"},\"xaxis\":{\"title\":{\"text\":\"x1\"},\"showgrid\":true,\"zeroline\":false,\"showline\":false},\"yaxis\":{\"showgrid\":true,\"zeroline\":false,\"showline\":false},\"xaxis2\":{\"title\":{\"text\":\"x2\"},\"showgrid\":true,\"zeroline\":false,\"showline\":false},\"yaxis2\":{\"showgrid\":true,\"zeroline\":false,\"showline\":false}};\n",
       " var config_mOttPMub7H = {\"responsive\":true,\"scrollZoom\":true,\"displaylogo\":false};\n",
       " Plotly.newPlot(\"graph_mOttPMub7H\", traces_mOttPMub7H, layout_mOttPMub7H, config_mOttPMub7H);\n",
       "</script> \n"
      ]
     },
     "metadata": {},
     "output_type": "display_data"
    }
   ],
   "source": [
    "val series1 = (\n",
    "    XY(x = List(1, 2, 3), y = List(2, 4, 5))\n",
    "    asType SCATTER\n",
    "    drawSymbol MARKERS\n",
    ")\n",
    "\n",
    "val series2 = (\n",
    "    XY(x = x, y = y) \n",
    "    asType SCATTER \n",
    "    drawSymbol MARKERS \n",
    "    setAxes (xaxis2, yaxis2)\n",
    ")\n",
    "\n",
    "val chart1 = Chart()\n",
    "            .addSeries(series1, series2)\n",
    "            .setTitle(\"Chart.Axis.Composition\")\n",
    "            .addAxes(xaxis1, yaxis1, xaxis2, yaxis2)\n",
    "            .setConfig(config)\n",
    "            .asMultiChart(1, 2)\n",
    "\n",
    "val canvas = Canvas() addCharts chart1\n",
    "\n",
    "canvas.plotInline"
   ]
  },
  {
   "cell_type": "markdown",
   "metadata": {},
   "source": [
    "### Picta's Subplot System\n",
    "\n",
    "While the above is useful, sometimes it is more useful to plot independent charts in a subplot grid. This is where we can use the Picta subplot system.\n",
    "\n",
    "In the subplots below, each subplot is an individual `Chart`. This means we can actually embed the above `MultiChart` inside another subplot. This way we can create nested subplots to showcase any data we need to.\n",
    "\n",
    "Used creatively, this subplot system can be very useful for data exploration."
   ]
  },
  {
   "cell_type": "code",
   "execution_count": 15,
   "metadata": {
    "scrolled": false
   },
   "outputs": [
    {
     "data": {
      "text/html": [
       "<div id=\"grid_VSjbvpQCZn\" align=\"center\"> \n",
       "<div id='graph_9qxpxm5H9o' class='graph'></div> \n",
       "<div id='graph_vAgKQMovTT' class='graph'></div> \n",
       "<div id='graph_YRVLmpk5I6' class='graph'></div> \n",
       "<div id='graph_er6O4ZyjRo' class='graph'></div> \n",
       "</div> \n",
       "<script>\n",
       "var masonry = new Macy({\n",
       "    container: '#grid_VSjbvpQCZn',\n",
       "    debug: true,\n",
       "    mobileFirst: true,\n",
       "    columns: 2,\n",
       "  });\n",
       "\n",
       " var traces_9qxpxm5H9o = [{\"name\":\"a\",\"type\":\"scatter\",\"x\":[32.749569168545975,25.71473904552449,8.903589799279388,40.18352410044281,34.495565989113814,43.21098850317388,38.71443117276223,10.479005065430764,38.14186090423647,37.685026382986315,2.3527434571149253,10.997412867630224,14.911599973343643,6.187377398949057,43.5170233530118,40.632823552253534,24.645622716417503,14.961975156576003,24.21249373700784,12.174118959512576,35.647163341381024,7.431833959585937,3.4389592432624294,27.311191290081087,13.09672809793241,1.726964917442797,45.96389149726581,28.77876257893553,29.206407455410748,23.807090513322255,41.22987534022842,10.578065424251227,0.8707725327792237,18.960220240792054,43.93969110516818,49.10139471440476,33.471867091597105,13.99917738847996,24.66895678053152,7.681806496023041,42.708740765815506,14.831668841769918,40.97536227586651,14.600014744830652,39.84731883812485,19.24550760236488,6.905220411330077,19.902791326573794,49.624325988654014,2.729136815790567,1.542150169195905,49.52193494457333,34.189342672680056,45.93856907615609,15.29937598497168,46.13016669545519,20.931993084000496,16.025434891482714,36.02626438481457,14.930045823530701,26.816636486444974,40.45678953296496,25.68134919145148,29.144278469874536,36.93481939736276,21.185890515754437,32.31824638991512,44.36056175525071,30.38615809486151,29.074137932391768,21.43750721535515,23.08136094632069,2.311192884924335,43.31790908894628,45.37657255059633,30.838790769526785,6.925145619824724,8.300025736114641,49.341663453017,33.05703335435812,42.739426065956835,20.764104640939625,37.929567260583816,47.47949715911576,17.808085195625377,33.50106328967113,46.54391437003022,40.425174500534986,19.7993458845258,17.840573952964455,27.979691906556013,46.398432442004754,22.967692156993213,16.15624616336695,25.63138401725275,39.64873703086069,41.68992424185765,37.321880865534716,11.274250263622248,43.161571663898854],\"y\":[38.128954172463374,2.597115189072402,17.174920617277984,25.259063721631136,9.802011166767644,36.7742983276942,39.40659878448001,6.498644365930057,21.35532222545613,19.584481799647328,31.675827072507317,29.880260944063643,3.6852320327550983,15.338884986284928,46.71190498350157,35.507502790194884,22.696081142486076,34.573245643948724,15.326669434264833,26.79520549609376,19.44811265181116,0.06595243858886213,31.6215293407609,19.07590137443083,43.22399190388447,41.01689869186506,36.50024108627161,23.029736594034837,39.130495516190415,23.402486163480518,10.640086965767104,34.74724165683901,12.252247494734647,41.56325509578952,2.3807389753780663,31.431599904226726,21.08731064566241,45.93408407755111,25.609245446934786,6.756853289601872,4.019822237946125,14.49298649434394,17.651205428484907,22.720700250251834,13.92275350815282,40.98297088846445,47.42234008600263,5.465367144748534,27.634253014406234,11.25251208304951,9.65132131834434,20.987239189070777,9.013947999922307,20.163657779940518,31.853847669740315,32.91575232850369,36.560940880302454,45.43281605970445,6.919588843481966,18.614283288313864,9.163148815838024,41.49780597315612,45.66779513527766,1.7405578140823552,16.44802079978003,46.04574363180986,20.533972176066612,49.10133892555169,3.4175429419633083,4.1898543857326835,43.66916402543479,27.145956958627583,22.57586304358315,10.449352291623304,40.165077083806906,18.765483539600368,0.595717639536536,46.664978501268415,39.8623398957679,14.19911736033097,0.7202729708246758,4.773874389058674,19.25590462461828,10.796631762387971,36.55985651520998,26.970938062881494,28.38069401927072,35.14548873349763,37.7184501368295,22.199839023276667,36.24225890255201,37.6434830086763,32.77272545868398,27.145384801540995,22.351337237220196,3.9825614324467407,0.5267648760289845,21.93994765367444,31.227866708000857,30.206722619171128]}];\n",
       " var layout_9qxpxm5H9o = {\"height\":350,\"width\":350,\"hovermode\":\"closest\",\"showlegend\":false,\"margin\":{\"l\":50,\"r\":30,\"t\":50,\"b\":50},\"xaxis\":{\"title\":{\"text\":\"x axis 1\"},\"showgrid\":true,\"zeroline\":false,\"showline\":false},\"yaxis\":{\"title\":{\"text\":\"y axis 1\"},\"showgrid\":true,\"zeroline\":false,\"showline\":false}};\n",
       " var config_9qxpxm5H9o = {\"responsive\":true,\"scrollZoom\":true,\"displaylogo\":false};\n",
       " Plotly.newPlot(\"graph_9qxpxm5H9o\", traces_9qxpxm5H9o, layout_9qxpxm5H9o, config_9qxpxm5H9o);\n",
       "\n",
       " var traces_vAgKQMovTT = [{\"name\":\"b\",\"type\":\"scatter\",\"x\":[32.749569168545975,25.71473904552449,8.903589799279388,40.18352410044281,34.495565989113814,43.21098850317388,38.71443117276223,10.479005065430764,38.14186090423647,37.685026382986315,2.3527434571149253,10.997412867630224,14.911599973343643,6.187377398949057,43.5170233530118,40.632823552253534,24.645622716417503,14.961975156576003,24.21249373700784,12.174118959512576,35.647163341381024,7.431833959585937,3.4389592432624294,27.311191290081087,13.09672809793241,1.726964917442797,45.96389149726581,28.77876257893553,29.206407455410748,23.807090513322255,41.22987534022842,10.578065424251227,0.8707725327792237,18.960220240792054,43.93969110516818,49.10139471440476,33.471867091597105,13.99917738847996,24.66895678053152,7.681806496023041,42.708740765815506,14.831668841769918,40.97536227586651,14.600014744830652,39.84731883812485,19.24550760236488,6.905220411330077,19.902791326573794,49.624325988654014,2.729136815790567,1.542150169195905,49.52193494457333,34.189342672680056,45.93856907615609,15.29937598497168,46.13016669545519,20.931993084000496,16.025434891482714,36.02626438481457,14.930045823530701,26.816636486444974,40.45678953296496,25.68134919145148,29.144278469874536,36.93481939736276,21.185890515754437,32.31824638991512,44.36056175525071,30.38615809486151,29.074137932391768,21.43750721535515,23.08136094632069,2.311192884924335,43.31790908894628,45.37657255059633,30.838790769526785,6.925145619824724,8.300025736114641,49.341663453017,33.05703335435812,42.739426065956835,20.764104640939625,37.929567260583816,47.47949715911576,17.808085195625377,33.50106328967113,46.54391437003022,40.425174500534986,19.7993458845258,17.840573952964455,27.979691906556013,46.398432442004754,22.967692156993213,16.15624616336695,25.63138401725275,39.64873703086069,41.68992424185765,37.321880865534716,11.274250263622248,43.161571663898854],\"y\":[38.128954172463374,2.597115189072402,17.174920617277984,25.259063721631136,9.802011166767644,36.7742983276942,39.40659878448001,6.498644365930057,21.35532222545613,19.584481799647328,31.675827072507317,29.880260944063643,3.6852320327550983,15.338884986284928,46.71190498350157,35.507502790194884,22.696081142486076,34.573245643948724,15.326669434264833,26.79520549609376,19.44811265181116,0.06595243858886213,31.6215293407609,19.07590137443083,43.22399190388447,41.01689869186506,36.50024108627161,23.029736594034837,39.130495516190415,23.402486163480518,10.640086965767104,34.74724165683901,12.252247494734647,41.56325509578952,2.3807389753780663,31.431599904226726,21.08731064566241,45.93408407755111,25.609245446934786,6.756853289601872,4.019822237946125,14.49298649434394,17.651205428484907,22.720700250251834,13.92275350815282,40.98297088846445,47.42234008600263,5.465367144748534,27.634253014406234,11.25251208304951,9.65132131834434,20.987239189070777,9.013947999922307,20.163657779940518,31.853847669740315,32.91575232850369,36.560940880302454,45.43281605970445,6.919588843481966,18.614283288313864,9.163148815838024,41.49780597315612,45.66779513527766,1.7405578140823552,16.44802079978003,46.04574363180986,20.533972176066612,49.10133892555169,3.4175429419633083,4.1898543857326835,43.66916402543479,27.145956958627583,22.57586304358315,10.449352291623304,40.165077083806906,18.765483539600368,0.595717639536536,46.664978501268415,39.8623398957679,14.19911736033097,0.7202729708246758,4.773874389058674,19.25590462461828,10.796631762387971,36.55985651520998,26.970938062881494,28.38069401927072,35.14548873349763,37.7184501368295,22.199839023276667,36.24225890255201,37.6434830086763,32.77272545868398,27.145384801540995,22.351337237220196,3.9825614324467407,0.5267648760289845,21.93994765367444,31.227866708000857,30.206722619171128]}];\n",
       " var layout_vAgKQMovTT = {\"height\":350,\"width\":350,\"hovermode\":\"closest\",\"showlegend\":false,\"margin\":{\"l\":50,\"r\":50,\"t\":50,\"b\":50},\"xaxis\":{\"title\":{\"text\":\"x axis 2\"},\"showgrid\":true,\"zeroline\":false,\"showline\":false},\"yaxis\":{\"title\":{\"text\":\"y axis 2\"},\"showgrid\":true,\"zeroline\":false,\"showline\":false}};\n",
       " var config_vAgKQMovTT = {\"responsive\":true,\"scrollZoom\":true,\"displaylogo\":false};\n",
       " Plotly.newPlot(\"graph_vAgKQMovTT\", traces_vAgKQMovTT, layout_vAgKQMovTT, config_vAgKQMovTT);\n",
       "\n",
       " var traces_YRVLmpk5I6 = [{\"name\":\"c\",\"type\":\"scatter\",\"x\":[32.749569168545975,25.71473904552449,8.903589799279388,40.18352410044281,34.495565989113814,43.21098850317388,38.71443117276223,10.479005065430764,38.14186090423647,37.685026382986315,2.3527434571149253,10.997412867630224,14.911599973343643,6.187377398949057,43.5170233530118,40.632823552253534,24.645622716417503,14.961975156576003,24.21249373700784,12.174118959512576,35.647163341381024,7.431833959585937,3.4389592432624294,27.311191290081087,13.09672809793241,1.726964917442797,45.96389149726581,28.77876257893553,29.206407455410748,23.807090513322255,41.22987534022842,10.578065424251227,0.8707725327792237,18.960220240792054,43.93969110516818,49.10139471440476,33.471867091597105,13.99917738847996,24.66895678053152,7.681806496023041,42.708740765815506,14.831668841769918,40.97536227586651,14.600014744830652,39.84731883812485,19.24550760236488,6.905220411330077,19.902791326573794,49.624325988654014,2.729136815790567,1.542150169195905,49.52193494457333,34.189342672680056,45.93856907615609,15.29937598497168,46.13016669545519,20.931993084000496,16.025434891482714,36.02626438481457,14.930045823530701,26.816636486444974,40.45678953296496,25.68134919145148,29.144278469874536,36.93481939736276,21.185890515754437,32.31824638991512,44.36056175525071,30.38615809486151,29.074137932391768,21.43750721535515,23.08136094632069,2.311192884924335,43.31790908894628,45.37657255059633,30.838790769526785,6.925145619824724,8.300025736114641,49.341663453017,33.05703335435812,42.739426065956835,20.764104640939625,37.929567260583816,47.47949715911576,17.808085195625377,33.50106328967113,46.54391437003022,40.425174500534986,19.7993458845258,17.840573952964455,27.979691906556013,46.398432442004754,22.967692156993213,16.15624616336695,25.63138401725275,39.64873703086069,41.68992424185765,37.321880865534716,11.274250263622248,43.161571663898854],\"y\":[38.128954172463374,2.597115189072402,17.174920617277984,25.259063721631136,9.802011166767644,36.7742983276942,39.40659878448001,6.498644365930057,21.35532222545613,19.584481799647328,31.675827072507317,29.880260944063643,3.6852320327550983,15.338884986284928,46.71190498350157,35.507502790194884,22.696081142486076,34.573245643948724,15.326669434264833,26.79520549609376,19.44811265181116,0.06595243858886213,31.6215293407609,19.07590137443083,43.22399190388447,41.01689869186506,36.50024108627161,23.029736594034837,39.130495516190415,23.402486163480518,10.640086965767104,34.74724165683901,12.252247494734647,41.56325509578952,2.3807389753780663,31.431599904226726,21.08731064566241,45.93408407755111,25.609245446934786,6.756853289601872,4.019822237946125,14.49298649434394,17.651205428484907,22.720700250251834,13.92275350815282,40.98297088846445,47.42234008600263,5.465367144748534,27.634253014406234,11.25251208304951,9.65132131834434,20.987239189070777,9.013947999922307,20.163657779940518,31.853847669740315,32.91575232850369,36.560940880302454,45.43281605970445,6.919588843481966,18.614283288313864,9.163148815838024,41.49780597315612,45.66779513527766,1.7405578140823552,16.44802079978003,46.04574363180986,20.533972176066612,49.10133892555169,3.4175429419633083,4.1898543857326835,43.66916402543479,27.145956958627583,22.57586304358315,10.449352291623304,40.165077083806906,18.765483539600368,0.595717639536536,46.664978501268415,39.8623398957679,14.19911736033097,0.7202729708246758,4.773874389058674,19.25590462461828,10.796631762387971,36.55985651520998,26.970938062881494,28.38069401927072,35.14548873349763,37.7184501368295,22.199839023276667,36.24225890255201,37.6434830086763,32.77272545868398,27.145384801540995,22.351337237220196,3.9825614324467407,0.5267648760289845,21.93994765367444,31.227866708000857,30.206722619171128]}];\n",
       " var layout_YRVLmpk5I6 = {\"height\":350,\"width\":350,\"hovermode\":\"closest\",\"showlegend\":false,\"margin\":{\"l\":50,\"r\":30,\"t\":50,\"b\":50},\"xaxis\":{\"title\":{\"text\":\"x axis 3\"},\"showgrid\":true,\"zeroline\":false,\"showline\":false},\"yaxis\":{\"title\":{\"text\":\"y axis 3\"},\"showgrid\":true,\"zeroline\":false,\"showline\":false}};\n",
       " var config_YRVLmpk5I6 = {\"responsive\":true,\"scrollZoom\":true,\"displaylogo\":false};\n",
       " Plotly.newPlot(\"graph_YRVLmpk5I6\", traces_YRVLmpk5I6, layout_YRVLmpk5I6, config_YRVLmpk5I6);\n",
       "\n",
       " var traces_er6O4ZyjRo = [{\"name\":\"kePjiK05bC\",\"type\":\"scatter\",\"mode\":\"markers\",\"x\":[1,2,3],\"y\":[2,4,5]},{\"name\":\"k4x4c7pOAW\",\"type\":\"scatter\",\"mode\":\"markers\",\"xaxis\":\"x2\",\"yaxis\":\"y2\",\"x\":[32.749569168545975,25.71473904552449,8.903589799279388,40.18352410044281,34.495565989113814,43.21098850317388,38.71443117276223,10.479005065430764,38.14186090423647,37.685026382986315,2.3527434571149253,10.997412867630224,14.911599973343643,6.187377398949057,43.5170233530118,40.632823552253534,24.645622716417503,14.961975156576003,24.21249373700784,12.174118959512576,35.647163341381024,7.431833959585937,3.4389592432624294,27.311191290081087,13.09672809793241,1.726964917442797,45.96389149726581,28.77876257893553,29.206407455410748,23.807090513322255,41.22987534022842,10.578065424251227,0.8707725327792237,18.960220240792054,43.93969110516818,49.10139471440476,33.471867091597105,13.99917738847996,24.66895678053152,7.681806496023041,42.708740765815506,14.831668841769918,40.97536227586651,14.600014744830652,39.84731883812485,19.24550760236488,6.905220411330077,19.902791326573794,49.624325988654014,2.729136815790567,1.542150169195905,49.52193494457333,34.189342672680056,45.93856907615609,15.29937598497168,46.13016669545519,20.931993084000496,16.025434891482714,36.02626438481457,14.930045823530701,26.816636486444974,40.45678953296496,25.68134919145148,29.144278469874536,36.93481939736276,21.185890515754437,32.31824638991512,44.36056175525071,30.38615809486151,29.074137932391768,21.43750721535515,23.08136094632069,2.311192884924335,43.31790908894628,45.37657255059633,30.838790769526785,6.925145619824724,8.300025736114641,49.341663453017,33.05703335435812,42.739426065956835,20.764104640939625,37.929567260583816,47.47949715911576,17.808085195625377,33.50106328967113,46.54391437003022,40.425174500534986,19.7993458845258,17.840573952964455,27.979691906556013,46.398432442004754,22.967692156993213,16.15624616336695,25.63138401725275,39.64873703086069,41.68992424185765,37.321880865534716,11.274250263622248,43.161571663898854],\"y\":[38.128954172463374,2.597115189072402,17.174920617277984,25.259063721631136,9.802011166767644,36.7742983276942,39.40659878448001,6.498644365930057,21.35532222545613,19.584481799647328,31.675827072507317,29.880260944063643,3.6852320327550983,15.338884986284928,46.71190498350157,35.507502790194884,22.696081142486076,34.573245643948724,15.326669434264833,26.79520549609376,19.44811265181116,0.06595243858886213,31.6215293407609,19.07590137443083,43.22399190388447,41.01689869186506,36.50024108627161,23.029736594034837,39.130495516190415,23.402486163480518,10.640086965767104,34.74724165683901,12.252247494734647,41.56325509578952,2.3807389753780663,31.431599904226726,21.08731064566241,45.93408407755111,25.609245446934786,6.756853289601872,4.019822237946125,14.49298649434394,17.651205428484907,22.720700250251834,13.92275350815282,40.98297088846445,47.42234008600263,5.465367144748534,27.634253014406234,11.25251208304951,9.65132131834434,20.987239189070777,9.013947999922307,20.163657779940518,31.853847669740315,32.91575232850369,36.560940880302454,45.43281605970445,6.919588843481966,18.614283288313864,9.163148815838024,41.49780597315612,45.66779513527766,1.7405578140823552,16.44802079978003,46.04574363180986,20.533972176066612,49.10133892555169,3.4175429419633083,4.1898543857326835,43.66916402543479,27.145956958627583,22.57586304358315,10.449352291623304,40.165077083806906,18.765483539600368,0.595717639536536,46.664978501268415,39.8623398957679,14.19911736033097,0.7202729708246758,4.773874389058674,19.25590462461828,10.796631762387971,36.55985651520998,26.970938062881494,28.38069401927072,35.14548873349763,37.7184501368295,22.199839023276667,36.24225890255201,37.6434830086763,32.77272545868398,27.145384801540995,22.351337237220196,3.9825614324467407,0.5267648760289845,21.93994765367444,31.227866708000857,30.206722619171128]}];\n",
       " var layout_er6O4ZyjRo = {\"height\":350,\"width\":350,\"hovermode\":\"closest\",\"title\":{\"text\":\"The MultiChart from Above\"},\"showlegend\":false,\"grid\":{\"rows\":1,\"columns\":2,\"pattern\":\"independent\"},\"xaxis\":{\"title\":{\"text\":\"x1\"},\"showgrid\":true,\"zeroline\":false,\"showline\":false},\"yaxis\":{\"showgrid\":true,\"zeroline\":false,\"showline\":false},\"xaxis2\":{\"title\":{\"text\":\"x2\"},\"showgrid\":true,\"zeroline\":false,\"showline\":false},\"yaxis2\":{\"showgrid\":true,\"zeroline\":false,\"showline\":false}};\n",
       " var config_er6O4ZyjRo = {\"responsive\":true,\"scrollZoom\":true,\"displaylogo\":false};\n",
       " Plotly.newPlot(\"graph_er6O4ZyjRo\", traces_er6O4ZyjRo, layout_er6O4ZyjRo, config_er6O4ZyjRo);\n",
       "</script> \n"
      ]
     },
     "metadata": {},
     "output_type": "display_data"
    }
   ],
   "source": [
    "// first define the x-axes we will use in the plot\n",
    "val ax1 = XAxis(title = \"x axis 1\")\n",
    "val ax2 = XAxis(title = \"x axis 2\")\n",
    "val ax3 = XAxis(title = \"x axis 3\")\n",
    "val ax4 = XAxis(title = \"x axis 4\")\n",
    "\n",
    "// first define the y-axes we will use in the plot\n",
    "val ax6 = YAxis(title = \"y axis 1\")\n",
    "val ax7 = YAxis(title = \"y axis 2\")\n",
    "val ax8 = YAxis(title = \"y axis 3\")\n",
    "val ax9 = YAxis(title = \"y axis 4\")\n",
    "\n",
    "// it may be necessary to play around with the chart dimensions and margin  in order to ensure a good fit on screen.\n",
    "val dim = 350\n",
    "\n",
    "val chart1 = (\n",
    "    Chart()\n",
    "    setDimensions(width = dim, height = dim)\n",
    "    addSeries XY(x, y).setName(\"a\") \n",
    "    addAxes(ax1, ax6)\n",
    "    setMargin(l=50, r=30, t=50, b=50)\n",
    ")\n",
    "\n",
    "val chart2 = (\n",
    "    Chart() \n",
    "    setDimensions(width = dim, height = dim)\n",
    "    addSeries XY(x, y).setName(\"b\") \n",
    "    addAxes(ax2, ax7)\n",
    "    setMargin(l=50, r=50, t=50, b=50)\n",
    ")\n",
    "\n",
    "val chart3 = (\n",
    "    Chart()\n",
    "    setDimensions(width = dim, height = dim)\n",
    "    addSeries XY(x, y).setName(\"c\") \n",
    "    addAxes(ax3, ax8)\n",
    "    setMargin(l=50, r=30, t=50, b=50)\n",
    ")\n",
    "\n",
    "val chart4 = (\n",
    "    Chart()\n",
    "    setDimensions(width = dim, height = dim)\n",
    "    addSeries(series1, series2)\n",
    "    setTitle \"The MultiChart from Above\"\n",
    "    addAxes(xaxis1, yaxis1, xaxis2, yaxis2) // these axes come from above\n",
    "    setConfig(config)\n",
    "    asMultiChart(1, 2)\n",
    ")\n",
    "\n",
    "// The canvas has an underlying grid. By default the underlying grid is 1x1, but we can pass in the dimensions we \n",
    "// require by passing in parameters in the constructor.\n",
    "Canvas(2, 2)\n",
    ".setChart(0, 0, chart1)\n",
    ".setChart(0, 1, chart2)\n",
    ".setChart(1, 0, chart3)\n",
    ".setChart(1, 1, chart4)\n",
    ".plotInline"
   ]
  },
  {
   "cell_type": "markdown",
   "metadata": {},
   "source": [
    "### Other Types of Charts\n",
    "\n",
    "The next examples will demonstrate how to create a variety of `Chart`s. All of the examples below are composable with the `Canvas` subplot system.\n",
    "\n",
    "#### Pie Chart"
   ]
  },
  {
   "cell_type": "code",
   "execution_count": 16,
   "metadata": {},
   "outputs": [
    {
     "data": {
      "text/html": [
       "<div id=\"grid_85hd4ty01G\" align=\"center\"> \n",
       "<div id='graph_VcouNhpl5W' class='graph'></div> \n",
       "</div> \n",
       "<script>\n",
       "var masonry = new Macy({\n",
       "    container: '#grid_85hd4ty01G',\n",
       "    debug: true,\n",
       "    mobileFirst: true,\n",
       "    columns: 1,\n",
       "  });\n",
       "\n",
       " var traces_VcouNhpl5W = [{\"name\":\"XWFPtbxELf\",\"type\":\"pie\",\"values\":[19,26,55],\"labels\":[\"Residential\",\"Non-Residential\",\"Utility\"]}];\n",
       " var layout_VcouNhpl5W = {\"height\":550,\"width\":600,\"hovermode\":\"closest\",\"title\":{\"text\":\"Pie Chart\"},\"showlegend\":false};\n",
       " var config_VcouNhpl5W = {\"responsive\":true,\"scrollZoom\":true,\"displaylogo\":false};\n",
       " Plotly.newPlot(\"graph_VcouNhpl5W\", traces_VcouNhpl5W, layout_VcouNhpl5W, config_VcouNhpl5W);\n",
       "</script> \n"
      ]
     },
     "metadata": {},
     "output_type": "display_data"
    }
   ],
   "source": [
    "// pie charts can be composed in a similar way to what we have seen. \n",
    "// A pie chart is an XY chart as it takes in two data series.\n",
    "val series = XY(x=List(19, 26, 55), y=List(\"Residential\", \"Non-Residential\", \"Utility\")) asType PIE\n",
    "\n",
    "// We can directly operate on the Layout object too for finer grain control. Let's set the title by composing the \n",
    "// Layout object\n",
    "val layout = Layout(\"Pie Chart\")\n",
    "\n",
    "val chart = Chart() addSeries series setLayout layout setConfig config\n",
    "\n",
    "Canvas()\n",
    ".addCharts(chart)\n",
    ".plotInline"
   ]
  },
  {
   "cell_type": "markdown",
   "metadata": {},
   "source": [
    "#### Histogram"
   ]
  },
  {
   "cell_type": "code",
   "execution_count": 17,
   "metadata": {},
   "outputs": [
    {
     "data": {
      "text/html": [
       "<div id=\"grid_QZOHqvkB0K\" align=\"center\"> \n",
       "<div id='graph_Hv3bsWOtfU' class='graph'></div> \n",
       "</div> \n",
       "<script>\n",
       "var masonry = new Macy({\n",
       "    container: '#grid_QZOHqvkB0K',\n",
       "    debug: true,\n",
       "    mobileFirst: true,\n",
       "    columns: 1,\n",
       "  });\n",
       "\n",
       " var traces_Hv3bsWOtfU = [{\"name\":\"XZBg5HgGWJ\",\"type\":\"histogram\",\"x\":[32.749569168545975,25.71473904552449,8.903589799279388,40.18352410044281,34.495565989113814,43.21098850317388,38.71443117276223,10.479005065430764,38.14186090423647,37.685026382986315,2.3527434571149253,10.997412867630224,14.911599973343643,6.187377398949057,43.5170233530118,40.632823552253534,24.645622716417503,14.961975156576003,24.21249373700784,12.174118959512576,35.647163341381024,7.431833959585937,3.4389592432624294,27.311191290081087,13.09672809793241,1.726964917442797,45.96389149726581,28.77876257893553,29.206407455410748,23.807090513322255,41.22987534022842,10.578065424251227,0.8707725327792237,18.960220240792054,43.93969110516818,49.10139471440476,33.471867091597105,13.99917738847996,24.66895678053152,7.681806496023041,42.708740765815506,14.831668841769918,40.97536227586651,14.600014744830652,39.84731883812485,19.24550760236488,6.905220411330077,19.902791326573794,49.624325988654014,2.729136815790567,1.542150169195905,49.52193494457333,34.189342672680056,45.93856907615609,15.29937598497168,46.13016669545519,20.931993084000496,16.025434891482714,36.02626438481457,14.930045823530701,26.816636486444974,40.45678953296496,25.68134919145148,29.144278469874536,36.93481939736276,21.185890515754437,32.31824638991512,44.36056175525071,30.38615809486151,29.074137932391768,21.43750721535515,23.08136094632069,2.311192884924335,43.31790908894628,45.37657255059633,30.838790769526785,6.925145619824724,8.300025736114641,49.341663453017,33.05703335435812,42.739426065956835,20.764104640939625,37.929567260583816,47.47949715911576,17.808085195625377,33.50106328967113,46.54391437003022,40.425174500534986,19.7993458845258,17.840573952964455,27.979691906556013,46.398432442004754,22.967692156993213,16.15624616336695,25.63138401725275,39.64873703086069,41.68992424185765,37.321880865534716,11.274250263622248,43.161571663898854]}];\n",
       " var layout_Hv3bsWOtfU = {\"height\":550,\"width\":600,\"hovermode\":\"closest\",\"title\":{\"text\":\"Histogram with axes\"},\"showlegend\":false,\"xaxis\":{\"title\":{\"text\":\"my x data\"},\"showgrid\":true,\"zeroline\":false,\"showline\":false},\"yaxis\":{\"title\":{\"text\":\"my y data\"},\"showgrid\":true,\"zeroline\":false,\"showline\":false}};\n",
       " var config_Hv3bsWOtfU = {\"responsive\":true,\"scrollZoom\":true,\"displaylogo\":false};\n",
       " Plotly.newPlot(\"graph_Hv3bsWOtfU\", traces_Hv3bsWOtfU, layout_Hv3bsWOtfU, config_Hv3bsWOtfU);\n",
       "</script> \n"
      ]
     },
     "metadata": {},
     "output_type": "display_data"
    }
   ],
   "source": [
    "val series = XY(x=x) asType HISTOGRAM\n",
    "\n",
    "val xaxis = XAxis(title = \"my x data\")\n",
    "val yaxis = YAxis(title = \"my y data\")\n",
    "\n",
    "val chart = (\n",
    "    Chart() \n",
    "    addSeries series\n",
    "    setTitle \"Histogram with axes\"\n",
    "    addAxes(xaxis, yaxis)\n",
    ")\n",
    "\n",
    "Canvas()\n",
    ".addCharts(chart)\n",
    ".plotInline"
   ]
  },
  {
   "cell_type": "markdown",
   "metadata": {},
   "source": [
    "#### Customizing colors for a Histogram\n",
    "\n",
    "We can use the `HistOptions` class to further specify options for a histogram. For example, if we wanted to create a horizontally positioned histogram, we can do the following:"
   ]
  },
  {
   "cell_type": "code",
   "execution_count": 18,
   "metadata": {},
   "outputs": [],
   "source": [
    "import org.carbonateresearch.picta.options.histogram.HistOptions\n",
    "import org.carbonateresearch.picta.options.Line\n",
    "import org.carbonateresearch.picta.options.HORIZONTAL"
   ]
  },
  {
   "cell_type": "code",
   "execution_count": 19,
   "metadata": {},
   "outputs": [
    {
     "data": {
      "text/html": [
       "<div id=\"grid_SCdFYVMhyB\" align=\"center\"> \n",
       "<div id='graph_5IJXK7eSDE' class='graph'></div> \n",
       "</div> \n",
       "<script>\n",
       "var masonry = new Macy({\n",
       "    container: '#grid_SCdFYVMhyB',\n",
       "    debug: true,\n",
       "    mobileFirst: true,\n",
       "    columns: 1,\n",
       "  });\n",
       "\n",
       " var traces_5IJXK7eSDE = [{\"name\":\"KfEofi8xdh\",\"type\":\"histogram\",\"marker\":{\"color\":\"rgba(255, 100, 102, 0.5)\",\"line\":{\"width\":0.5}},\"y\":[32.749569168545975,25.71473904552449,8.903589799279388,40.18352410044281,34.495565989113814,43.21098850317388,38.71443117276223,10.479005065430764,38.14186090423647,37.685026382986315,2.3527434571149253,10.997412867630224,14.911599973343643,6.187377398949057,43.5170233530118,40.632823552253534,24.645622716417503,14.961975156576003,24.21249373700784,12.174118959512576,35.647163341381024,7.431833959585937,3.4389592432624294,27.311191290081087,13.09672809793241,1.726964917442797,45.96389149726581,28.77876257893553,29.206407455410748,23.807090513322255,41.22987534022842,10.578065424251227,0.8707725327792237,18.960220240792054,43.93969110516818,49.10139471440476,33.471867091597105,13.99917738847996,24.66895678053152,7.681806496023041,42.708740765815506,14.831668841769918,40.97536227586651,14.600014744830652,39.84731883812485,19.24550760236488,6.905220411330077,19.902791326573794,49.624325988654014,2.729136815790567,1.542150169195905,49.52193494457333,34.189342672680056,45.93856907615609,15.29937598497168,46.13016669545519,20.931993084000496,16.025434891482714,36.02626438481457,14.930045823530701,26.816636486444974,40.45678953296496,25.68134919145148,29.144278469874536,36.93481939736276,21.185890515754437,32.31824638991512,44.36056175525071,30.38615809486151,29.074137932391768,21.43750721535515,23.08136094632069,2.311192884924335,43.31790908894628,45.37657255059633,30.838790769526785,6.925145619824724,8.300025736114641,49.341663453017,33.05703335435812,42.739426065956835,20.764104640939625,37.929567260583816,47.47949715911576,17.808085195625377,33.50106328967113,46.54391437003022,40.425174500534986,19.7993458845258,17.840573952964455,27.979691906556013,46.398432442004754,22.967692156993213,16.15624616336695,25.63138401725275,39.64873703086069,41.68992424185765,37.321880865534716,11.274250263622248,43.161571663898854]}];\n",
       " var layout_5IJXK7eSDE = {\"height\":550,\"width\":600,\"hovermode\":\"closest\",\"title\":{\"text\":\"XY.Histogram.Color\"},\"showlegend\":false};\n",
       " var config_5IJXK7eSDE = {\"responsive\":true,\"scrollZoom\":true,\"displaylogo\":false};\n",
       " Plotly.newPlot(\"graph_5IJXK7eSDE\", traces_5IJXK7eSDE, layout_5IJXK7eSDE, config_5IJXK7eSDE);\n",
       "</script> \n"
      ]
     },
     "metadata": {},
     "output_type": "display_data"
    }
   ],
   "source": [
    "// we can also compose customizations in much the same way:\n",
    "val marker = Marker() setColor \"rgba(255, 100, 102, 0.5)\" setLine Line()\n",
    "\n",
    "// change xkey to y to get a horizontal histogram\n",
    "val series = (\n",
    "    XY(x) \n",
    "    asType HISTOGRAM\n",
    "    setMarker marker\n",
    "    setHistOptions HistOptions(orientation = HORIZONTAL)\n",
    ")\n",
    "\n",
    "val chart = (\n",
    "    Chart() \n",
    "    addSeries series \n",
    "    setTitle \"XY.Histogram.Color\"\n",
    ")\n",
    "\n",
    "Canvas()\n",
    ".addCharts(chart)\n",
    ".plotInline"
   ]
  },
  {
   "cell_type": "markdown",
   "metadata": {},
   "source": [
    "#### 2D Histogram Contour"
   ]
  },
  {
   "cell_type": "code",
   "execution_count": 20,
   "metadata": {},
   "outputs": [
    {
     "data": {
      "text/html": [
       "<div id=\"grid_WdZHVF9n2q\" align=\"center\"> \n",
       "<div id='graph_IsrrwlHZh0' class='graph'></div> \n",
       "</div> \n",
       "<script>\n",
       "var masonry = new Macy({\n",
       "    container: '#grid_WdZHVF9n2q',\n",
       "    debug: true,\n",
       "    mobileFirst: true,\n",
       "    columns: 1,\n",
       "  });\n",
       "\n",
       " var traces_IsrrwlHZh0 = [{\"name\":\"plWRbtemfV\",\"type\":\"histogram2dcontour\",\"mode\":\"markers\",\"x\":[1,2,3,4,5,6,7,8,9,10,11,12,13,14,15,16,17,18,19,20,21,22,23,24,25,26,27,28,29,30,31,32,33,34,35,36,37,38,39,40,41,42,43,44,45,46,47,48,49],\"y\":[44.28982522098581,90.32230990553836,89.82438664621873,97.07227795422378,29.42592775396324,96.96433172144978,72.91406762959313,74.44835567033981,81.62419880640942,46.264472554436,29.041860910131113,89.36923307870404,41.118866534518915,67.5678540178513,110.0246970958723,60.06970536571592,105.28886494951045,83.78791854015564,34.862328444936665,46.820465001903486,76.68219580597872,40.07407685786262,82.78948069300944,79.6308851923849,84.6628912100885,36.73018482040007,114.74337443121183,112.9763440271557,127.49760679619172,33.73306233970684,108.97968709093287,86.08100081114908,119.68713408046229,132.9698429114405,117.3707604160497,101.36891164730662,57.961425227796006,98.707479032269,110.34562532846743,133.40346097963575,138.59496667515054,46.82718084526492,80.48224910261625,45.96705999953644,68.56265991161982,119.00124538729901,117.43814633579868,125.8901346641571,113.54463262228154]}];\n",
       " var layout_IsrrwlHZh0 = {\"height\":550,\"width\":600,\"hovermode\":\"closest\",\"title\":{\"text\":\"2D Histogram Contour\"},\"showlegend\":false};\n",
       " var config_IsrrwlHZh0 = {\"responsive\":true,\"scrollZoom\":true,\"displaylogo\":false};\n",
       " Plotly.newPlot(\"graph_IsrrwlHZh0\", traces_IsrrwlHZh0, layout_IsrrwlHZh0, config_IsrrwlHZh0);\n",
       "</script> \n"
      ]
     },
     "metadata": {},
     "output_type": "display_data"
    }
   ],
   "source": [
    "val x = List.range(1, 50)\n",
    "val y = x.map(x => x + scala.util.Random.nextDouble()*100)\n",
    "\n",
    "val series = XY(x, y).asType(HISTOGRAM2DCONTOUR).drawMarkers\n",
    "\n",
    "val chart = (\n",
    "    Chart() addSeries series\n",
    "    setTitle \"2D Histogram Contour\"\n",
    ")\n",
    "\n",
    "Canvas().addCharts(chart).plotInline"
   ]
  },
  {
   "cell_type": "markdown",
   "metadata": {},
   "source": [
    "#### Adding additional axes\n",
    "\n",
    "As the above is a density plot, adding histograms can be useful too.\n",
    "\n",
    "We can add histograms as follows:"
   ]
  },
  {
   "cell_type": "code",
   "execution_count": 21,
   "metadata": {},
   "outputs": [],
   "source": [
    "import org.carbonateresearch.picta.options.histogram2d.Hist2dOptions"
   ]
  },
  {
   "cell_type": "code",
   "execution_count": 22,
   "metadata": {},
   "outputs": [
    {
     "data": {
      "text/html": [
       "<div id=\"grid_R9Nid8eNEb\" align=\"center\"> \n",
       "<div id='graph_nk9CxatNwP' class='graph'></div> \n",
       "</div> \n",
       "<script>\n",
       "var masonry = new Macy({\n",
       "    container: '#grid_R9Nid8eNEb',\n",
       "    debug: true,\n",
       "    mobileFirst: true,\n",
       "    columns: 1,\n",
       "  });\n",
       "\n",
       " var traces_nk9CxatNwP = [{\"name\":\"points\",\"type\":\"scatter\",\"mode\":\"markers\",\"marker\":{\"color\":\"rgb(102,0,0)\"},\"x\":[1,2,3,4,5,6,7,8,9,10,11,12,13,14,15,16,17,18,19,20,21,22,23,24,25,26,27,28,29,30,31,32,33,34,35,36,37,38,39,40,41,42,43,44,45,46,47,48,49],\"y\":[44.28982522098581,90.32230990553836,89.82438664621873,97.07227795422378,29.42592775396324,96.96433172144978,72.91406762959313,74.44835567033981,81.62419880640942,46.264472554436,29.041860910131113,89.36923307870404,41.118866534518915,67.5678540178513,110.0246970958723,60.06970536571592,105.28886494951045,83.78791854015564,34.862328444936665,46.820465001903486,76.68219580597872,40.07407685786262,82.78948069300944,79.6308851923849,84.6628912100885,36.73018482040007,114.74337443121183,112.9763440271557,127.49760679619172,33.73306233970684,108.97968709093287,86.08100081114908,119.68713408046229,132.9698429114405,117.3707604160497,101.36891164730662,57.961425227796006,98.707479032269,110.34562532846743,133.40346097963575,138.59496667515054,46.82718084526492,80.48224910261625,45.96705999953644,68.56265991161982,119.00124538729901,117.43814633579868,125.8901346641571,113.54463262228154]},{\"name\":\"density\",\"type\":\"histogram2dcontour\",\"ncontours\":20,\"reversescale\":false,\"showscale\":true,\"x\":[1,2,3,4,5,6,7,8,9,10,11,12,13,14,15,16,17,18,19,20,21,22,23,24,25,26,27,28,29,30,31,32,33,34,35,36,37,38,39,40,41,42,43,44,45,46,47,48,49],\"y\":[44.28982522098581,90.32230990553836,89.82438664621873,97.07227795422378,29.42592775396324,96.96433172144978,72.91406762959313,74.44835567033981,81.62419880640942,46.264472554436,29.041860910131113,89.36923307870404,41.118866534518915,67.5678540178513,110.0246970958723,60.06970536571592,105.28886494951045,83.78791854015564,34.862328444936665,46.820465001903486,76.68219580597872,40.07407685786262,82.78948069300944,79.6308851923849,84.6628912100885,36.73018482040007,114.74337443121183,112.9763440271557,127.49760679619172,33.73306233970684,108.97968709093287,86.08100081114908,119.68713408046229,132.9698429114405,117.3707604160497,101.36891164730662,57.961425227796006,98.707479032269,110.34562532846743,133.40346097963575,138.59496667515054,46.82718084526492,80.48224910261625,45.96705999953644,68.56265991161982,119.00124538729901,117.43814633579868,125.8901346641571,113.54463262228154]},{\"name\":\"histogram\",\"type\":\"histogram\",\"yaxis\":\"y2\",\"x\":[1,2,3,4,5,6,7,8,9,10,11,12,13,14,15,16,17,18,19,20,21,22,23,24,25,26,27,28,29,30,31,32,33,34,35,36,37,38,39,40,41,42,43,44,45,46,47,48,49]},{\"name\":\"y density\",\"type\":\"histogram\",\"xaxis\":\"x2\",\"marker\":{\"color\":\"rgb(102,0,0)\"},\"y\":[44.28982522098581,90.32230990553836,89.82438664621873,97.07227795422378,29.42592775396324,96.96433172144978,72.91406762959313,74.44835567033981,81.62419880640942,46.264472554436,29.041860910131113,89.36923307870404,41.118866534518915,67.5678540178513,110.0246970958723,60.06970536571592,105.28886494951045,83.78791854015564,34.862328444936665,46.820465001903486,76.68219580597872,40.07407685786262,82.78948069300944,79.6308851923849,84.6628912100885,36.73018482040007,114.74337443121183,112.9763440271557,127.49760679619172,33.73306233970684,108.97968709093287,86.08100081114908,119.68713408046229,132.9698429114405,117.3707604160497,101.36891164730662,57.961425227796006,98.707479032269,110.34562532846743,133.40346097963575,138.59496667515054,46.82718084526492,80.48224910261625,45.96705999953644,68.56265991161982,119.00124538729901,117.43814633579868,125.8901346641571,113.54463262228154]}];\n",
       " var layout_nk9CxatNwP = {\"height\":550,\"width\":600,\"hovermode\":\"closest\",\"title\":{\"text\":\"XY.Histogram2dContour.WithDensity\"},\"showlegend\":false,\"autosize\":false,\"xaxis\":{\"showgrid\":false,\"zeroline\":false,\"showline\":false,\"domain\":[0,0.85]},\"yaxis\":{\"showgrid\":false,\"zeroline\":false,\"showline\":false,\"domain\":[0,0.85]},\"xaxis2\":{\"showgrid\":false,\"zeroline\":false,\"showline\":false,\"domain\":[0.85,1]},\"yaxis2\":{\"showgrid\":false,\"zeroline\":false,\"showline\":false,\"domain\":[0.85,1]}};\n",
       " var config_nk9CxatNwP = {\"responsive\":true,\"scrollZoom\":true,\"displaylogo\":false};\n",
       " Plotly.newPlot(\"graph_nk9CxatNwP\", traces_nk9CxatNwP, layout_nk9CxatNwP, config_nk9CxatNwP);\n",
       "</script> \n"
      ]
     },
     "metadata": {},
     "output_type": "display_data"
    }
   ],
   "source": [
    "val marker = Marker() setColor \"rgb(102,0,0)\"\n",
    "\n",
    "val series1 = XY(x, y) \n",
    "            .asType(SCATTER)\n",
    "            .drawMarkers\n",
    "            .setName(\"points\")\n",
    "            .setMarker(marker)\n",
    "\n",
    "\n",
    "val hist2d_options = Hist2dOptions(ncontours = 20, reversescale = false, showscale = true)\n",
    "\n",
    "val series2 = XY(x, y) \n",
    "            .setName(\"density\")\n",
    "            .asType(HISTOGRAM2DCONTOUR)\n",
    "            .setHist2dOptions(hist2d_options)\n",
    "\n",
    "val series3 = XY(x = x)\n",
    "            .asType(HISTOGRAM)\n",
    "            .setName(\"histogram\")\n",
    "            .setAxes(XAxis(), YAxis(2))\n",
    "\n",
    "val series4 = (XY(y)\n",
    "            .setName(\"y density\")\n",
    "            .asType(HISTOGRAM)\n",
    "            .setAxis(XAxis(2))\n",
    "            .setMarker(marker)\n",
    "            .setHistOptions(HistOptions(orientation = HORIZONTAL)))\n",
    "\n",
    "val ax1 = XAxis(showgrid = false) setDomain(0.0, 0.85)\n",
    "val ax2 = YAxis(showgrid = false) setDomain(0.0, 0.85)\n",
    "val ax3 = XAxis(position = 2, showgrid = false) setDomain(0.85, 1.0)\n",
    "val ax4 = YAxis(position = 2, showgrid = false) setDomain(0.85, 1.0)\n",
    "\n",
    "val layout = (\n",
    "    Layout(\"XY.Histogram2dContour.WithDensity\", autosize = false) \n",
    "    setAxes(ax1, ax2, ax3, ax4)\n",
    ")\n",
    "\n",
    "val chart = Chart() addSeries(series1, series2, series3, series4) setLayout layout\n",
    "\n",
    "val canvas = Canvas() addCharts chart\n",
    "\n",
    "canvas.plotInline"
   ]
  },
  {
   "cell_type": "markdown",
   "metadata": {},
   "source": [
    "### 3D Charts\n",
    "\n",
    "3D charts are constructed using a `XYZ` series as they take in 3 `Series`' to create a single point.\n",
    "\n",
    "The Picta API does not accept nested lists, however the underlying Plotlyjs render does. In order to render any series that will make use of a nested list, we must flatten and provide the length of an element (before the list was flattened).\n",
    "\n",
    "The following examples will make it clearer.\n",
    "\n",
    "#### Contour"
   ]
  },
  {
   "cell_type": "code",
   "execution_count": 23,
   "metadata": {},
   "outputs": [],
   "source": [
    "// lets create some dummy adata for the third dimension\n",
    "val x = List(-9, -6, -5 , -3, -1)\n",
    "val y = List(0, 1, 4, 5, 7)\n",
    "val z = List(\n",
    "    List(10, 10.625, 12.5, 15.625, 20),\n",
    "    List(5.625, 6.25, 8.125, 11.25, 15.625),\n",
    "    List(2.5, 3.125, 5.0, 8.125, 12.5),\n",
    "    List(0.625, 1.25, 3.125, 6.25, 10.625),\n",
    "    List(0, 0.625, 2.5, 5.625, 10)\n",
    ")"
   ]
  },
  {
   "cell_type": "code",
   "execution_count": 24,
   "metadata": {},
   "outputs": [
    {
     "data": {
      "text/html": [
       "<div id=\"grid_HbeuIrd6Ng\" align=\"center\"> \n",
       "<div id='graph_WcBsYu7CCD' class='graph'></div> \n",
       "</div> \n",
       "<script>\n",
       "var masonry = new Macy({\n",
       "    container: '#grid_HbeuIrd6Ng',\n",
       "    debug: true,\n",
       "    mobileFirst: true,\n",
       "    columns: 1,\n",
       "  });\n",
       "\n",
       " var traces_WcBsYu7CCD = [{\"name\":\"5NgV8nlxPn\",\"type\":\"contour\",\"x\":[-9,-6,-5,-3,-1],\"y\":[0,1,4,5,7],\"z\":[[10,10.625,12.5,15.625,20],[5.625,6.25,8.125,11.25,15.625],[2.5,3.125,5,8.125,12.5],[0.625,1.25,3.125,6.25,10.625],[0,0.625,2.5,5.625,10]]}];\n",
       " var layout_WcBsYu7CCD = {\"height\":550,\"width\":600,\"hovermode\":\"closest\",\"title\":{\"text\":\"Contour\"},\"showlegend\":false};\n",
       " var config_WcBsYu7CCD = {\"responsive\":true,\"scrollZoom\":true,\"displaylogo\":false};\n",
       " Plotly.newPlot(\"graph_WcBsYu7CCD\", traces_WcBsYu7CCD, layout_WcBsYu7CCD, config_WcBsYu7CCD);\n",
       "</script> \n"
      ]
     },
     "metadata": {},
     "output_type": "display_data"
    }
   ],
   "source": [
    "// we flatten the nested list as we pass it into the Series constructor\n",
    "val series = XYZ(x=x, y=y, z=z.flatten, n=z(0).length).asType(CONTOUR)\n",
    "\n",
    "// set up the chart\n",
    "val chart = Chart()\n",
    "            .addSeries(series)\n",
    "            .setTitle(\"Contour\")\n",
    "\n",
    "// plot the chart\n",
    "Canvas()\n",
    ".addCharts(chart)\n",
    ".plotInline"
   ]
  },
  {
   "cell_type": "markdown",
   "metadata": {},
   "source": [
    "#### Heatmap"
   ]
  },
  {
   "cell_type": "code",
   "execution_count": 25,
   "metadata": {
    "scrolled": false
   },
   "outputs": [],
   "source": [
    "// create a new nested list for the heatmap\n",
    "val z = List.range(1, 101).map(e => e + scala.util.Random.nextDouble()*100).grouped(10).toList"
   ]
  },
  {
   "cell_type": "code",
   "execution_count": 26,
   "metadata": {},
   "outputs": [
    {
     "data": {
      "text/html": [
       "<div id=\"grid_b7Wi6wM6X1\" align=\"center\"> \n",
       "<div id='graph_JgSOkKGQyt' class='graph'></div> \n",
       "</div> \n",
       "<script>\n",
       "var masonry = new Macy({\n",
       "    container: '#grid_b7Wi6wM6X1',\n",
       "    debug: true,\n",
       "    mobileFirst: true,\n",
       "    columns: 1,\n",
       "  });\n",
       "\n",
       " var traces_JgSOkKGQyt = [{\"name\":\"lRpwStvQA6\",\"type\":\"heatmap\",\"z\":[[7.410704088411512,9.942236052127393,57.65953441864012,79.86176425490972,50.273406004779225,56.90887680035776,83.85606703170139,103.74832459455472,46.74178252249965,64.75880430432409],[52.13932526151633,51.1349212012304,103.42083844477719,33.96330841028745,57.409442906382054,25.79936952541307,38.71115976574194,67.22274008638666,69.18903823311118,89.28870444414298],[57.04738193574432,108.70781331770564,53.45100420808375,25.777561788600433,40.230777629943745,39.171446277203344,89.41675426945915,103.08793190429456,108.80092624510134,125.21298496776996],[102.48268276521023,115.50563358165645,71.7234656207862,130.83998332848915,120.07728220375246,36.704713965488594,113.62787017669655,99.96091313982134,58.52075046985756,94.39165594731129],[65.41138703383972,109.55555638214422,65.85357894180969,102.20717139651704,66.23210116781134,75.00804182261025,78.12003632736601,48.97403382990628,52.74632238425957,61.45078580680489],[94.73705683749154,150.55525412552277,104.90236820350006,117.9559025578348,142.3485830107469,115.38766390517875,136.6849268175163,105.02390511182307,75.95986881494912,61.18174605867276],[144.91120723362337,130.05780779184573,161.1658768665023,147.32933460099116,119.51208212976553,140.3740141781604,91.93235305420261,155.23660707256107,74.68850563477355,148.78968302521784],[124.6577558885618,157.1005345258499,81.91547184957176,82.93950121705215,151.13870021978758,162.57277835031564,172.97285968704455,156.21311708463602,90.58113631237573,122.30577778005818],[134.01449628430015,155.56775618052126,153.944013873096,97.5515552521702,130.14383917499356,129.45878173964758,122.67168395257343,175.78456542769055,184.04667013899416,137.74432703255806],[188.26587100657449,123.7456680465782,181.93828402548257,94.65833053610933,119.16753889872967,121.35511917138177,195.41460247471744,195.80960956755013,157.0635064017494,112.61820374989439]]}];\n",
       " var layout_JgSOkKGQyt = {\"height\":550,\"width\":600,\"hovermode\":\"closest\",\"title\":{\"text\":\"XYZ.Heatmap\"},\"showlegend\":false};\n",
       " var config_JgSOkKGQyt = {\"responsive\":true,\"scrollZoom\":true,\"displaylogo\":false};\n",
       " Plotly.newPlot(\"graph_JgSOkKGQyt\", traces_JgSOkKGQyt, layout_JgSOkKGQyt, config_JgSOkKGQyt);\n",
       "</script> \n"
      ]
     },
     "metadata": {},
     "output_type": "display_data"
    }
   ],
   "source": [
    "// we get the length of an element of the nested list\n",
    "val n = z(0).length\n",
    "\n",
    "// we now flatten the list and pass it into Series constructor, as well as 'n', the length of an element so that the \n",
    "// heatmap dimensions are correctly constructed\n",
    "val series = XYZ(z=z.flatten, n=n) asType HEATMAP\n",
    "\n",
    "val chart = Chart() addSeries series setTitle \"XYZ.Heatmap\"\n",
    "\n",
    "Canvas()\n",
    ".addCharts(chart)\n",
    ".plotInline"
   ]
  },
  {
   "cell_type": "markdown",
   "metadata": {},
   "source": [
    "#### Scatter3D"
   ]
  },
  {
   "cell_type": "code",
   "execution_count": 27,
   "metadata": {},
   "outputs": [
    {
     "data": {
      "text/html": [
       "<div id=\"grid_0065NKlkEP\" align=\"center\"> \n",
       "<div id='graph_vgqohYyBcc' class='graph'></div> \n",
       "</div> \n",
       "<script>\n",
       "var masonry = new Macy({\n",
       "    container: '#grid_0065NKlkEP',\n",
       "    debug: true,\n",
       "    mobileFirst: true,\n",
       "    columns: 1,\n",
       "  });\n",
       "\n",
       " var traces_vgqohYyBcc = [{\"name\":\"BMcXhNhjhu\",\"type\":\"scatter3d\",\"mode\":\"markers\",\"x\":[1,2,3,4,5,6,7,8,9,10,11,12,13,14,15,16,17,18,19,20,21,22,23,24,25,26,27,28,29,30,31,32,33,34,35,36,37,38,39,40,41,42,43,44,45,46,47,48,49,50,51,52,53,54,55,56,57,58,59,60,61,62,63,64,65,66,67,68,69,70,71,72,73,74,75,76,77,78,79,80,81,82,83,84,85,86,87,88,89,90,91,92,93,94,95,96,97,98,99],\"y\":[1,2,3,4,5,6,7,8,9,10,11,12,13,14,15,16,17,18,19,20,21,22,23,24,25,26,27,28,29,30,31,32,33,34,35,36,37,38,39,40,41,42,43,44,45,46,47,48,49,50,51,52,53,54,55,56,57,58,59,60,61,62,63,64,65,66,67,68,69,70,71,72,73,74,75,76,77,78,79,80,81,82,83,84,85,86,87,88,89,90,91,92,93,94,95,96,97,98,99],\"z\":[81.8974962095592,31.40696703692468,44.38713960602875,54.3706610922965,8.149300912812903,9.104494216648368,89.68038622432462,91.99253976764965,52.52462986639534,30.12977492903906,37.69530242937649,78.61515971454331,54.18964759100334,14.547710404906642,104.93833312110193,60.88214809512736,60.2996868620084,63.979350949188046,50.1769254367731,98.33182902726092,49.366354344925725,78.69976868535238,34.01180086071615,67.21636595021437,103.03363288182213,84.68131909024368,82.9205060109317,80.34083354627074,70.93152756444223,112.34560109074687,56.98187519646026,116.4921311982843,92.51416067570159,38.80695498724748,122.54175909031461,118.35976274035882,49.652418758677584,91.03485359795917,73.75618344974612,48.80744350371878,124.23959150454556,108.63211332816181,130.24887605886434,91.9366070399686,126.1817022613414,81.82032785749382,62.04589261237088,147.58987239604204,138.88252253245582,112.74349258107861,57.50081157782474,95.77456978259141,101.69652080215631,96.34532958760718,55.09981659008452,100.94346768721874,111.81131923297016,80.8453124973457,105.83670422679376,85.15185919278882,81.63446227413682,147.23297543687903,119.27368946703282,123.81720460338411,131.99761930560055,142.21956664933398,73.45458040704662,108.13956910452208,136.3546090472507,109.73067589452441,136.51280807455902,74.19808891622394,156.63792705459608,92.29298432189243,156.1174272577032,120.32078879843233,127.55171959513741,115.56282891597607,121.8260985087642,121.53204326140278,152.8174446096046,126.7637679037247,94.9648011741138,102.71405140680488,174.25174115488608,130.94491725610686,130.82978082304575,150.57570365454797,162.5442852503194,157.74130789801723,188.80808375606912,128.60425157310647,157.21674075369546,95.7120940965127,137.43873645890343,108.88224217678142,152.48214592438578,151.3519320127985,113.48747950457691]}];\n",
       " var layout_vgqohYyBcc = {\"height\":550,\"width\":600,\"hovermode\":\"closest\",\"title\":{\"text\":\"XYZ.Scatter3D\"},\"showlegend\":false};\n",
       " var config_vgqohYyBcc = {\"responsive\":true,\"scrollZoom\":true,\"displaylogo\":false};\n",
       " Plotly.newPlot(\"graph_vgqohYyBcc\", traces_vgqohYyBcc, layout_vgqohYyBcc, config_vgqohYyBcc);\n",
       "</script> \n"
      ]
     },
     "metadata": {},
     "output_type": "display_data"
    }
   ],
   "source": [
    "val x = List.range(1, 100)\n",
    "val y = List.range(1, 100)\n",
    "val z = List.range(1, 100).map(e => e + scala.util.Random.nextDouble()*100)\n",
    "\n",
    "val series = XYZ(x, y, z) asType SCATTER3D drawSymbol MARKERS\n",
    "val chart1 = Chart() addSeries series setLayout Layout(\"XYZ.Scatter3D\") setConfig config\n",
    "val canvas = Canvas() addCharts chart1\n",
    "canvas.plotInline"
   ]
  },
  {
   "cell_type": "markdown",
   "metadata": {},
   "source": [
    "#### Surface Plot"
   ]
  },
  {
   "cell_type": "code",
   "execution_count": 28,
   "metadata": {
    "scrolled": false
   },
   "outputs": [
    {
     "data": {
      "text/html": [
       "<div id=\"grid_iZUjTV3y5c\" align=\"center\"> \n",
       "<div id='graph_vIanETQKCM' class='graph'></div> \n",
       "</div> \n",
       "<script>\n",
       "var masonry = new Macy({\n",
       "    container: '#grid_iZUjTV3y5c',\n",
       "    debug: true,\n",
       "    mobileFirst: true,\n",
       "    columns: 1,\n",
       "  });\n",
       "\n",
       " var traces_vIanETQKCM = [{\"name\":\"5ZMYGNyJBg\",\"type\":\"surface\",\"z\":[[8.83,8.89,8.81,8.87,8.9,8.87],[8.89,8.94,8.85,8.94,8.96,8.92],[8.84,8.9,8.82,8.92,8.93,8.91],[8.79,8.85,8.79,8.9,8.94,8.92],[8.79,8.88,8.81,8.9,8.95,8.92],[8.8,8.82,8.78,8.91,8.94,8.92],[8.75,8.78,8.77,8.91,8.95,8.92],[8.8,8.8,8.77,8.91,8.95,8.94],[8.74,8.81,8.76,8.93,8.98,8.99],[8.89,8.99,8.92,9.1,9.13,9.11],[8.97,8.97,8.91,9.09,9.11,9.11],[9.04,9.08,9.05,9.25,9.28,9.27],[9,9.01,9,9.2,9.23,9.2],[8.99,8.99,8.98,9.18,9.2,9.19],[8.93,8.97,8.97,9.18,9.2,9.18]]}];\n",
       " var layout_vIanETQKCM = {\"height\":550,\"width\":600,\"hovermode\":\"closest\",\"title\":{\"text\":\"XYZ.Surface\"},\"showlegend\":false};\n",
       " var config_vIanETQKCM = {\"responsive\":true,\"scrollZoom\":true,\"displaylogo\":false};\n",
       " Plotly.newPlot(\"graph_vIanETQKCM\", traces_vIanETQKCM, layout_vIanETQKCM, config_vIanETQKCM);\n",
       "</script> \n"
      ]
     },
     "metadata": {},
     "output_type": "display_data"
    }
   ],
   "source": [
    "// 3d surface plot\n",
    "val k = List(\n",
    "    List(8.83,8.89,8.81,8.87,8.9,8.87),\n",
    "    List(8.89,8.94,8.85,8.94,8.96,8.92),\n",
    "    List(8.84,8.9,8.82,8.92,8.93,8.91),\n",
    "    List(8.79,8.85,8.79,8.9,8.94,8.92),\n",
    "    List(8.79,8.88,8.81,8.9,8.95,8.92),\n",
    "    List(8.8,8.82,8.78,8.91,8.94,8.92),\n",
    "    List(8.75,8.78,8.77,8.91,8.95,8.92),\n",
    "    List(8.8,8.8,8.77,8.91,8.95,8.94),\n",
    "    List(8.74,8.81,8.76,8.93,8.98,8.99),\n",
    "    List(8.89,8.99,8.92,9.1,9.13,9.11),\n",
    "    List(8.97,8.97,8.91,9.09,9.11,9.11),\n",
    "    List(9.04,9.08,9.05,9.25,9.28,9.27),\n",
    "    List(9,9.01,9,9.2,9.23,9.2),\n",
    "    List(8.99,8.99,8.98,9.18,9.2,9.19),\n",
    "    List(8.93,8.97,8.97,9.18,9.2,9.18)\n",
    "  )\n",
    "\n",
    "val series = XYZ(z=k.flatten, n = k(0).length) asType SURFACE\n",
    "val chart2 = Chart() addSeries series setLayout Layout(\"XYZ.Surface\") setConfig config\n",
    "val canvas = Canvas() addCharts chart2\n",
    "\n",
    "canvas.plotInline"
   ]
  },
  {
   "cell_type": "markdown",
   "metadata": {
    "scrolled": false
   },
   "source": [
    "#### Third Dimension as Color"
   ]
  },
  {
   "cell_type": "code",
   "execution_count": 29,
   "metadata": {},
   "outputs": [
    {
     "data": {
      "text/html": [
       "<div id=\"grid_7BKTSiSSfR\" align=\"center\"> \n",
       "<div id='graph_Q2tsYZGCL2' class='graph'></div> \n",
       "</div> \n",
       "<script>\n",
       "var masonry = new Macy({\n",
       "    container: '#grid_7BKTSiSSfR',\n",
       "    debug: true,\n",
       "    mobileFirst: true,\n",
       "    columns: 1,\n",
       "  });\n",
       "\n",
       " var traces_Q2tsYZGCL2 = [{\"name\":\"Mn3YJQTT8m\",\"type\":\"scatter\",\"mode\":\"markers\",\"marker\":{\"color\":[81.8974962095592,31.40696703692468,44.38713960602875,54.3706610922965,8.149300912812903,9.104494216648368,89.68038622432462,91.99253976764965,52.52462986639534,30.12977492903906,37.69530242937649,78.61515971454331,54.18964759100334,14.547710404906642,104.93833312110193,60.88214809512736,60.2996868620084,63.979350949188046,50.1769254367731,98.33182902726092,49.366354344925725,78.69976868535238,34.01180086071615,67.21636595021437,103.03363288182213,84.68131909024368,82.9205060109317,80.34083354627074,70.93152756444223,112.34560109074687,56.98187519646026,116.4921311982843,92.51416067570159,38.80695498724748,122.54175909031461,118.35976274035882,49.652418758677584,91.03485359795917,73.75618344974612,48.80744350371878,124.23959150454556,108.63211332816181,130.24887605886434,91.9366070399686,126.1817022613414,81.82032785749382,62.04589261237088,147.58987239604204,138.88252253245582,112.74349258107861,57.50081157782474,95.77456978259141,101.69652080215631,96.34532958760718,55.09981659008452,100.94346768721874,111.81131923297016,80.8453124973457,105.83670422679376,85.15185919278882,81.63446227413682,147.23297543687903,119.27368946703282,123.81720460338411,131.99761930560055,142.21956664933398,73.45458040704662,108.13956910452208,136.3546090472507,109.73067589452441,136.51280807455902,74.19808891622394,156.63792705459608,92.29298432189243,156.1174272577032,120.32078879843233,127.55171959513741,115.56282891597607,121.8260985087642,121.53204326140278,152.8174446096046,126.7637679037247,94.9648011741138,102.71405140680488,174.25174115488608,130.94491725610686,130.82978082304575,150.57570365454797,162.5442852503194,157.74130789801723,188.80808375606912,128.60425157310647,157.21674075369546,95.7120940965127,137.43873645890343,108.88224217678142,152.48214592438578,151.3519320127985,113.48747950457691]},\"x\":[1,2,3,4,5,6,7,8,9,10,11,12,13,14,15,16,17,18,19,20,21,22,23,24,25,26,27,28,29,30,31,32,33,34,35,36,37,38,39,40,41,42,43,44,45,46,47,48,49,50,51,52,53,54,55,56,57,58,59,60,61,62,63,64,65,66,67,68,69,70,71,72,73,74,75,76,77,78,79,80,81,82,83,84,85,86,87,88,89,90,91,92,93,94,95,96,97,98,99],\"y\":[1,2,3,4,5,6,7,8,9,10,11,12,13,14,15,16,17,18,19,20,21,22,23,24,25,26,27,28,29,30,31,32,33,34,35,36,37,38,39,40,41,42,43,44,45,46,47,48,49,50,51,52,53,54,55,56,57,58,59,60,61,62,63,64,65,66,67,68,69,70,71,72,73,74,75,76,77,78,79,80,81,82,83,84,85,86,87,88,89,90,91,92,93,94,95,96,97,98,99]}];\n",
       " var layout_Q2tsYZGCL2 = {\"height\":550,\"width\":600,\"hovermode\":\"closest\",\"title\":{\"text\":\"ScatterWithColor.Basic\"},\"showlegend\":false};\n",
       " var config_Q2tsYZGCL2 = {\"responsive\":true,\"scrollZoom\":true,\"displaylogo\":false};\n",
       " Plotly.newPlot(\"graph_Q2tsYZGCL2\", traces_Q2tsYZGCL2, layout_Q2tsYZGCL2, config_Q2tsYZGCL2);\n",
       "</script> \n"
      ]
     },
     "metadata": {},
     "output_type": "display_data"
    }
   ],
   "source": [
    "// multiple compositions can be used to create scatter charts with a color representing some third dimension\n",
    "val marker = Marker() setColor z\n",
    "val series = XY(x, y) asType SCATTER drawSymbol MARKERS setMarker marker\n",
    "val chart3 = Chart() addSeries series setLayout Layout(\"ScatterWithColor.Basic\")\n",
    "val canvas = Canvas() addCharts chart3\n",
    "canvas.plotInline"
   ]
  },
  {
   "cell_type": "markdown",
   "metadata": {},
   "source": [
    "#### Subplot\n",
    "\n",
    "The Subplot class can be used to generate subplots for an XYZ plots just as we did previously."
   ]
  },
  {
   "cell_type": "code",
   "execution_count": 30,
   "metadata": {},
   "outputs": [
    {
     "data": {
      "text/html": [
       "<div id=\"grid_z8TKCQpD1r\" align=\"center\"> \n",
       "<div id='graph_CAOr6dOEaJ' class='graph'></div> \n",
       "<div id='graph_5H6dvy64FM' class='graph'></div> \n",
       "<div id='graph_UuSCuL6rvp' class='graph'></div> \n",
       "<div id='graph_tD7nS5dLAi' class='graph'></div> \n",
       "</div> \n",
       "<script>\n",
       "var masonry = new Macy({\n",
       "    container: '#grid_z8TKCQpD1r',\n",
       "    debug: true,\n",
       "    mobileFirst: true,\n",
       "    columns: 2,\n",
       "  });\n",
       "\n",
       " var traces_CAOr6dOEaJ = [{\"name\":\"BMcXhNhjhu\",\"type\":\"scatter3d\",\"mode\":\"markers\",\"x\":[1,2,3,4,5,6,7,8,9,10,11,12,13,14,15,16,17,18,19,20,21,22,23,24,25,26,27,28,29,30,31,32,33,34,35,36,37,38,39,40,41,42,43,44,45,46,47,48,49,50,51,52,53,54,55,56,57,58,59,60,61,62,63,64,65,66,67,68,69,70,71,72,73,74,75,76,77,78,79,80,81,82,83,84,85,86,87,88,89,90,91,92,93,94,95,96,97,98,99],\"y\":[1,2,3,4,5,6,7,8,9,10,11,12,13,14,15,16,17,18,19,20,21,22,23,24,25,26,27,28,29,30,31,32,33,34,35,36,37,38,39,40,41,42,43,44,45,46,47,48,49,50,51,52,53,54,55,56,57,58,59,60,61,62,63,64,65,66,67,68,69,70,71,72,73,74,75,76,77,78,79,80,81,82,83,84,85,86,87,88,89,90,91,92,93,94,95,96,97,98,99],\"z\":[81.8974962095592,31.40696703692468,44.38713960602875,54.3706610922965,8.149300912812903,9.104494216648368,89.68038622432462,91.99253976764965,52.52462986639534,30.12977492903906,37.69530242937649,78.61515971454331,54.18964759100334,14.547710404906642,104.93833312110193,60.88214809512736,60.2996868620084,63.979350949188046,50.1769254367731,98.33182902726092,49.366354344925725,78.69976868535238,34.01180086071615,67.21636595021437,103.03363288182213,84.68131909024368,82.9205060109317,80.34083354627074,70.93152756444223,112.34560109074687,56.98187519646026,116.4921311982843,92.51416067570159,38.80695498724748,122.54175909031461,118.35976274035882,49.652418758677584,91.03485359795917,73.75618344974612,48.80744350371878,124.23959150454556,108.63211332816181,130.24887605886434,91.9366070399686,126.1817022613414,81.82032785749382,62.04589261237088,147.58987239604204,138.88252253245582,112.74349258107861,57.50081157782474,95.77456978259141,101.69652080215631,96.34532958760718,55.09981659008452,100.94346768721874,111.81131923297016,80.8453124973457,105.83670422679376,85.15185919278882,81.63446227413682,147.23297543687903,119.27368946703282,123.81720460338411,131.99761930560055,142.21956664933398,73.45458040704662,108.13956910452208,136.3546090472507,109.73067589452441,136.51280807455902,74.19808891622394,156.63792705459608,92.29298432189243,156.1174272577032,120.32078879843233,127.55171959513741,115.56282891597607,121.8260985087642,121.53204326140278,152.8174446096046,126.7637679037247,94.9648011741138,102.71405140680488,174.25174115488608,130.94491725610686,130.82978082304575,150.57570365454797,162.5442852503194,157.74130789801723,188.80808375606912,128.60425157310647,157.21674075369546,95.7120940965127,137.43873645890343,108.88224217678142,152.48214592438578,151.3519320127985,113.48747950457691]}];\n",
       " var layout_CAOr6dOEaJ = {\"height\":350,\"width\":350,\"hovermode\":\"closest\",\"title\":{\"text\":\"XYZ.Scatter3D\"},\"showlegend\":false,\"margin\":{\"l\":50,\"r\":50,\"t\":50,\"b\":50}};\n",
       " var config_CAOr6dOEaJ = {\"responsive\":true,\"scrollZoom\":true,\"displaylogo\":false};\n",
       " Plotly.newPlot(\"graph_CAOr6dOEaJ\", traces_CAOr6dOEaJ, layout_CAOr6dOEaJ, config_CAOr6dOEaJ);\n",
       "\n",
       " var traces_5H6dvy64FM = [{\"name\":\"5ZMYGNyJBg\",\"type\":\"surface\",\"z\":[[8.83,8.89,8.81,8.87,8.9,8.87],[8.89,8.94,8.85,8.94,8.96,8.92],[8.84,8.9,8.82,8.92,8.93,8.91],[8.79,8.85,8.79,8.9,8.94,8.92],[8.79,8.88,8.81,8.9,8.95,8.92],[8.8,8.82,8.78,8.91,8.94,8.92],[8.75,8.78,8.77,8.91,8.95,8.92],[8.8,8.8,8.77,8.91,8.95,8.94],[8.74,8.81,8.76,8.93,8.98,8.99],[8.89,8.99,8.92,9.1,9.13,9.11],[8.97,8.97,8.91,9.09,9.11,9.11],[9.04,9.08,9.05,9.25,9.28,9.27],[9,9.01,9,9.2,9.23,9.2],[8.99,8.99,8.98,9.18,9.2,9.19],[8.93,8.97,8.97,9.18,9.2,9.18]]}];\n",
       " var layout_5H6dvy64FM = {\"height\":350,\"width\":350,\"hovermode\":\"closest\",\"title\":{\"text\":\"XYZ.Surface\"},\"showlegend\":false,\"margin\":{\"l\":50,\"r\":50,\"t\":50,\"b\":50}};\n",
       " var config_5H6dvy64FM = {\"responsive\":true,\"scrollZoom\":true,\"displaylogo\":false};\n",
       " Plotly.newPlot(\"graph_5H6dvy64FM\", traces_5H6dvy64FM, layout_5H6dvy64FM, config_5H6dvy64FM);\n",
       "\n",
       " var traces_UuSCuL6rvp = [{\"name\":\"Mn3YJQTT8m\",\"type\":\"scatter\",\"mode\":\"markers\",\"marker\":{\"color\":[81.8974962095592,31.40696703692468,44.38713960602875,54.3706610922965,8.149300912812903,9.104494216648368,89.68038622432462,91.99253976764965,52.52462986639534,30.12977492903906,37.69530242937649,78.61515971454331,54.18964759100334,14.547710404906642,104.93833312110193,60.88214809512736,60.2996868620084,63.979350949188046,50.1769254367731,98.33182902726092,49.366354344925725,78.69976868535238,34.01180086071615,67.21636595021437,103.03363288182213,84.68131909024368,82.9205060109317,80.34083354627074,70.93152756444223,112.34560109074687,56.98187519646026,116.4921311982843,92.51416067570159,38.80695498724748,122.54175909031461,118.35976274035882,49.652418758677584,91.03485359795917,73.75618344974612,48.80744350371878,124.23959150454556,108.63211332816181,130.24887605886434,91.9366070399686,126.1817022613414,81.82032785749382,62.04589261237088,147.58987239604204,138.88252253245582,112.74349258107861,57.50081157782474,95.77456978259141,101.69652080215631,96.34532958760718,55.09981659008452,100.94346768721874,111.81131923297016,80.8453124973457,105.83670422679376,85.15185919278882,81.63446227413682,147.23297543687903,119.27368946703282,123.81720460338411,131.99761930560055,142.21956664933398,73.45458040704662,108.13956910452208,136.3546090472507,109.73067589452441,136.51280807455902,74.19808891622394,156.63792705459608,92.29298432189243,156.1174272577032,120.32078879843233,127.55171959513741,115.56282891597607,121.8260985087642,121.53204326140278,152.8174446096046,126.7637679037247,94.9648011741138,102.71405140680488,174.25174115488608,130.94491725610686,130.82978082304575,150.57570365454797,162.5442852503194,157.74130789801723,188.80808375606912,128.60425157310647,157.21674075369546,95.7120940965127,137.43873645890343,108.88224217678142,152.48214592438578,151.3519320127985,113.48747950457691]},\"x\":[1,2,3,4,5,6,7,8,9,10,11,12,13,14,15,16,17,18,19,20,21,22,23,24,25,26,27,28,29,30,31,32,33,34,35,36,37,38,39,40,41,42,43,44,45,46,47,48,49,50,51,52,53,54,55,56,57,58,59,60,61,62,63,64,65,66,67,68,69,70,71,72,73,74,75,76,77,78,79,80,81,82,83,84,85,86,87,88,89,90,91,92,93,94,95,96,97,98,99],\"y\":[1,2,3,4,5,6,7,8,9,10,11,12,13,14,15,16,17,18,19,20,21,22,23,24,25,26,27,28,29,30,31,32,33,34,35,36,37,38,39,40,41,42,43,44,45,46,47,48,49,50,51,52,53,54,55,56,57,58,59,60,61,62,63,64,65,66,67,68,69,70,71,72,73,74,75,76,77,78,79,80,81,82,83,84,85,86,87,88,89,90,91,92,93,94,95,96,97,98,99]}];\n",
       " var layout_UuSCuL6rvp = {\"height\":350,\"width\":350,\"hovermode\":\"closest\",\"title\":{\"text\":\"ScatterWithColor.Basic\"},\"showlegend\":false,\"margin\":{\"l\":50,\"r\":50,\"t\":50,\"b\":50}};\n",
       " var config_UuSCuL6rvp = {\"responsive\":true,\"scrollZoom\":true,\"displaylogo\":false};\n",
       " Plotly.newPlot(\"graph_UuSCuL6rvp\", traces_UuSCuL6rvp, layout_UuSCuL6rvp, config_UuSCuL6rvp);\n",
       "\n",
       " var traces_tD7nS5dLAi = [{\"name\":\"kePjiK05bC\",\"type\":\"scatter\",\"mode\":\"markers\",\"x\":[1,2,3],\"y\":[2,4,5]},{\"name\":\"k4x4c7pOAW\",\"type\":\"scatter\",\"mode\":\"markers\",\"xaxis\":\"x2\",\"yaxis\":\"y2\",\"x\":[32.749569168545975,25.71473904552449,8.903589799279388,40.18352410044281,34.495565989113814,43.21098850317388,38.71443117276223,10.479005065430764,38.14186090423647,37.685026382986315,2.3527434571149253,10.997412867630224,14.911599973343643,6.187377398949057,43.5170233530118,40.632823552253534,24.645622716417503,14.961975156576003,24.21249373700784,12.174118959512576,35.647163341381024,7.431833959585937,3.4389592432624294,27.311191290081087,13.09672809793241,1.726964917442797,45.96389149726581,28.77876257893553,29.206407455410748,23.807090513322255,41.22987534022842,10.578065424251227,0.8707725327792237,18.960220240792054,43.93969110516818,49.10139471440476,33.471867091597105,13.99917738847996,24.66895678053152,7.681806496023041,42.708740765815506,14.831668841769918,40.97536227586651,14.600014744830652,39.84731883812485,19.24550760236488,6.905220411330077,19.902791326573794,49.624325988654014,2.729136815790567,1.542150169195905,49.52193494457333,34.189342672680056,45.93856907615609,15.29937598497168,46.13016669545519,20.931993084000496,16.025434891482714,36.02626438481457,14.930045823530701,26.816636486444974,40.45678953296496,25.68134919145148,29.144278469874536,36.93481939736276,21.185890515754437,32.31824638991512,44.36056175525071,30.38615809486151,29.074137932391768,21.43750721535515,23.08136094632069,2.311192884924335,43.31790908894628,45.37657255059633,30.838790769526785,6.925145619824724,8.300025736114641,49.341663453017,33.05703335435812,42.739426065956835,20.764104640939625,37.929567260583816,47.47949715911576,17.808085195625377,33.50106328967113,46.54391437003022,40.425174500534986,19.7993458845258,17.840573952964455,27.979691906556013,46.398432442004754,22.967692156993213,16.15624616336695,25.63138401725275,39.64873703086069,41.68992424185765,37.321880865534716,11.274250263622248,43.161571663898854],\"y\":[38.128954172463374,2.597115189072402,17.174920617277984,25.259063721631136,9.802011166767644,36.7742983276942,39.40659878448001,6.498644365930057,21.35532222545613,19.584481799647328,31.675827072507317,29.880260944063643,3.6852320327550983,15.338884986284928,46.71190498350157,35.507502790194884,22.696081142486076,34.573245643948724,15.326669434264833,26.79520549609376,19.44811265181116,0.06595243858886213,31.6215293407609,19.07590137443083,43.22399190388447,41.01689869186506,36.50024108627161,23.029736594034837,39.130495516190415,23.402486163480518,10.640086965767104,34.74724165683901,12.252247494734647,41.56325509578952,2.3807389753780663,31.431599904226726,21.08731064566241,45.93408407755111,25.609245446934786,6.756853289601872,4.019822237946125,14.49298649434394,17.651205428484907,22.720700250251834,13.92275350815282,40.98297088846445,47.42234008600263,5.465367144748534,27.634253014406234,11.25251208304951,9.65132131834434,20.987239189070777,9.013947999922307,20.163657779940518,31.853847669740315,32.91575232850369,36.560940880302454,45.43281605970445,6.919588843481966,18.614283288313864,9.163148815838024,41.49780597315612,45.66779513527766,1.7405578140823552,16.44802079978003,46.04574363180986,20.533972176066612,49.10133892555169,3.4175429419633083,4.1898543857326835,43.66916402543479,27.145956958627583,22.57586304358315,10.449352291623304,40.165077083806906,18.765483539600368,0.595717639536536,46.664978501268415,39.8623398957679,14.19911736033097,0.7202729708246758,4.773874389058674,19.25590462461828,10.796631762387971,36.55985651520998,26.970938062881494,28.38069401927072,35.14548873349763,37.7184501368295,22.199839023276667,36.24225890255201,37.6434830086763,32.77272545868398,27.145384801540995,22.351337237220196,3.9825614324467407,0.5267648760289845,21.93994765367444,31.227866708000857,30.206722619171128]}];\n",
       " var layout_tD7nS5dLAi = {\"height\":350,\"width\":350,\"hovermode\":\"closest\",\"title\":{\"text\":\"The MultiChart from Above\"},\"showlegend\":false,\"margin\":{\"l\":50,\"r\":50,\"t\":50,\"b\":50},\"grid\":{\"rows\":1,\"columns\":2,\"pattern\":\"independent\"},\"xaxis\":{\"title\":{\"text\":\"x1\"},\"showgrid\":true,\"zeroline\":false,\"showline\":false},\"yaxis\":{\"showgrid\":true,\"zeroline\":false,\"showline\":false},\"xaxis2\":{\"title\":{\"text\":\"x2\"},\"showgrid\":true,\"zeroline\":false,\"showline\":false},\"yaxis2\":{\"showgrid\":true,\"zeroline\":false,\"showline\":false}};\n",
       " var config_tD7nS5dLAi = {\"responsive\":true,\"scrollZoom\":true,\"displaylogo\":false};\n",
       " Plotly.newPlot(\"graph_tD7nS5dLAi\", traces_tD7nS5dLAi, layout_tD7nS5dLAi, config_tD7nS5dLAi);\n",
       "</script> \n"
      ]
     },
     "metadata": {},
     "output_type": "display_data"
    }
   ],
   "source": [
    "// first define the x-axes we will use in the plot\n",
    "val ax1 = XAxis(title = \"x axis 1\")\n",
    "val ax2 = XAxis(title = \"x axis 2\")\n",
    "val ax3 = XAxis(title = \"x axis 3\")\n",
    "val ax4 = XAxis(title = \"x axis 4\")\n",
    "\n",
    "// first define the y-axes we will use in the plot\n",
    "val ax6 = YAxis(title = \"y axis 1\")\n",
    "val ax7 = YAxis(title = \"y axis 2\")\n",
    "val ax8 = YAxis(title = \"y axis 3\")\n",
    "val ax9 = YAxis(title = \"y axis 4\")\n",
    "\n",
    "// it may be necessary to play around with the chart dimensions and margin  in order to ensure a good fit on screen.\n",
    "val dim = 350\n",
    "\n",
    "// The canvas has an underlying grid. By default the underlying grid is 1x1, but we can pass in the dimensions we \n",
    "// require by passing in parameters in the constructor.\n",
    "Canvas(2, 2)\n",
    ".setChart(0, 0, chart1.setDimensions(width = dim, height = dim).setMargin(l=50, r=50, t=50, b=50))\n",
    ".setChart(0, 1, chart2.setDimensions(width = dim, height = dim)setMargin(l=50, r=50, t=50, b=50))\n",
    ".setChart(1, 0, chart3.setDimensions(width = dim, height = dim)setMargin(l=50, r=50, t=50, b=50))\n",
    ".setChart(1, 1, chart4.setDimensions(width = dim, height = dim)setMargin(l=50, r=50, t=50, b=50))\n",
    ".plotInline"
   ]
  },
  {
   "cell_type": "markdown",
   "metadata": {},
   "source": [
    "#### Map\n",
    "\n",
    "We can also create maps using the composition technique below."
   ]
  },
  {
   "cell_type": "code",
   "execution_count": 31,
   "metadata": {},
   "outputs": [],
   "source": [
    "import org.carbonateresearch.picta.options.{MapOptions, MapAxis, LatAxis, LongAxis, Margin}\n",
    "import org.carbonateresearch.picta.Map"
   ]
  },
  {
   "cell_type": "code",
   "execution_count": 36,
   "metadata": {},
   "outputs": [
    {
     "data": {
      "text/html": [
       "<div id=\"grid_HGIiD9WXSP\" align=\"center\"> \n",
       "<div id='graph_NmYKkUln8G' class='graph'></div> \n",
       "</div> \n",
       "<script>\n",
       "var masonry = new Macy({\n",
       "    container: '#grid_HGIiD9WXSP',\n",
       "    debug: true,\n",
       "    mobileFirst: true,\n",
       "    columns: 1,\n",
       "  });\n",
       "\n",
       " var traces_NmYKkUln8G = [{\"lat\":[40.7127,51.5072],\"lon\":[-74.0059,0.1275],\"type\":\"scattergeo\",\"mode\":\"lines\",\"line\":{\"width\":2,\"color\":\"red\"}}];\n",
       " var layout_NmYKkUln8G = {\"height\":550,\"width\":600,\"hovermode\":\"closest\",\"showlegend\":false,\"geo\":{\"resolution\":50,\"showland\":true,\"showlakes\":true,\"coastlinewidth\":2,\"landcolor\":\"rgb(204, 204, 204)\",\"lakecolor\":\"rgb(255, 255, 255)\",\"lataxis\":{\"range\":[20,60],\"showgrid\":true,\"dtick\":10},\"lonaxis\":{\"range\":[-100,20],\"showgrid\":true,\"dtick\":10}},\"margin\":{\"l\":0,\"r\":0,\"t\":0,\"b\":0}};\n",
       " var config_NmYKkUln8G = {\"responsive\":true,\"scrollZoom\":true,\"displaylogo\":false};\n",
       " Plotly.newPlot(\"graph_NmYKkUln8G\", traces_NmYKkUln8G, layout_NmYKkUln8G, config_NmYKkUln8G);\n",
       "</script> \n"
      ]
     },
     "metadata": {},
     "output_type": "display_data"
    }
   ],
   "source": [
    "// draw a line on the map that is red\n",
    "val line = Line(width = 2) setColor \"red\"\n",
    "\n",
    "// construct the map Series. It is an XY chart as it takes in a List of Longitude and Latitude\n",
    "val series = Map(List(40.7127, 51.5072), List(-74.0059, 0.1275)) drawSymbol LINES drawLine line\n",
    "\n",
    "// These are options that further specify the options for the map\n",
    "val geo = MapOptions(landcolor = \"rgb(204, 204, 204)\", lakecolor = \"rgb(255, 255, 255)\")\n",
    "              .setMapAxes(LatAxis(List(20, 60)), LongAxis(List(-100, 20)))\n",
    "\n",
    "val chart = (\n",
    "    Chart() \n",
    "    addSeries series \n",
    "    setConfig config\n",
    "    setMapOptions geo\n",
    "    setMargin(l=0, r=0, t=0, b=0)\n",
    ")\n",
    "\n",
    "val canvas = Canvas() addCharts chart\n",
    "\n",
    "canvas.plotInline"
   ]
  },
  {
   "cell_type": "markdown",
   "metadata": {},
   "source": [
    "### Animated Charts\n",
    "\n",
    "We can also create animated charts. This can be useful for tracking the evolution of a data over time.\n",
    "\n",
    "All `Series` types should be supported.\n",
    "\n",
    "#### 2D Animated Chart"
   ]
  },
  {
   "cell_type": "code",
   "execution_count": 41,
   "metadata": {},
   "outputs": [],
   "source": [
    "import org.carbonateresearch.picta.{XYSeries, XYZSeries}\n",
    "import org.carbonateresearch.picta.options.ColorOptions._\n",
    "\n",
    "// creates random XY for testing purposes\n",
    "def createXYSeries[T: Color]\n",
    "(numberToCreate: Int, count: Int = 0, length: Int = 10): List[XYSeries[Int, Double, T, T]] = {\n",
    "    if (count == numberToCreate) Nil\n",
    "    else {\n",
    "      val xs = List.range(0, length)\n",
    "      val ys = xs.map(x => scala.util.Random.nextDouble() * x)\n",
    "      val trace = XY(x = xs, y = ys, name = \"trace\" + count)\n",
    "      trace :: createXYSeries(numberToCreate, count + 1, length)\n",
    "    }\n",
    "}\n",
    "\n",
    "def createXYZSeries(numberToCreate: Int, count: Int = 0, length: Int = 10): List[XYZSeries] = {\n",
    "    if (count == numberToCreate) Nil\n",
    "    else {\n",
    "      val xs = List.range(0, length)\n",
    "      val ys = xs.map(x => scala.util.Random.nextDouble() * x)\n",
    "      val zs = xs.map(x => scala.util.Random.nextDouble() * x * scala.util.Random.nextInt())\n",
    "      val trace = XYZ(x = xs, y = ys, z = zs, name = \"trace\" + count, `type` = SCATTER3D)\n",
    "      trace :: createXYZSeries(numberToCreate, count + 1, length)\n",
    "    }\n",
    "}"
   ]
  },
  {
   "cell_type": "code",
   "execution_count": 42,
   "metadata": {
    "scrolled": false
   },
   "outputs": [
    {
     "data": {
      "text/html": [
       "<div id=\"grid_ZGklFnADys\" align=\"center\"> \n",
       "\n",
       "<div align=\"center\">\n",
       "  <div id='graph_PZM0mGhJTQ' class=\"graph\"></div>\n",
       "  <div class='animationInterface'>\n",
       "    <button id='play_PZM0mGhJTQ'>Play</button>\n",
       "    <button id='pause_PZM0mGhJTQ'>Pause</button>\n",
       "    <div id=\"sliderContainer_PZM0mGhJTQ\" class='progressBar'></div>\n",
       "    <div id='counterContainer_PZM0mGhJTQ' class='inline-div'>\n",
       "        <h3>Frame: </h3> <h3 id=\"value_PZM0mGhJTQ\">0</h3>\n",
       "    </div>\n",
       "   </div>\n",
       "</div> \n",
       "\n",
       "</div> \n",
       "<script>\n",
       "var masonry = new Macy({\n",
       "    container: '#grid_ZGklFnADys',\n",
       "    debug: true,\n",
       "    mobileFirst: true,\n",
       "    columns: 1,\n",
       "  });\n",
       "\n",
       "var graph_PZM0mGhJTQ = document.getElementById('graph_PZM0mGhJTQ')\n",
       "var traces_PZM0mGhJTQ = [{\"name\":\"trace0\",\"type\":\"scatter\",\"x\":[0,1,2,3,4,5,6,7,8,9,10,11,12,13,14,15,16,17,18,19,20,21,22,23,24,25,26,27,28,29],\"y\":[0,0.3816097488416388,0.23516799481558692,2.2461279963612193,0.5757481852564075,0.4358966136597492,1.3359243023411662,2.881007355826266,5.006633142708848,0.4840811652823185,8.017588481645475,10.703008705766187,1.203625605782996,5.001955964058906,7.292923155819279,0.8800772095582599,2.8336524673720564,7.8149778632592986,12.031535876310912,0.6503065176701796,16.839391599792208,17.66241424833676,16.26851096851161,4.675086167137076,13.194942758934317,12.160990684885842,13.16760648450828,18.99761364344857,6.362429322226738,19.9996828855944]}]\n",
       "var layout_PZM0mGhJTQ = {\"height\":550,\"width\":600,\"hovermode\":\"closest\",\"title\":{\"text\":\"Animation.XY\"},\"showlegend\":false,\"xaxis\":{\"title\":{\"text\":\"X Variable\"},\"showgrid\":true,\"zeroline\":false,\"showline\":false,\"range\":[0,10]},\"yaxis\":{\"title\":{\"text\":\"Y Variable\"},\"showgrid\":true,\"zeroline\":false,\"showline\":false,\"range\":[0,10]}}\n",
       "var frames_PZM0mGhJTQ = [{\"name\":\"trace0\",\"data\":[{\"name\":\"trace0\",\"type\":\"scatter\",\"x\":[0,1,2,3,4,5,6,7,8,9,10,11,12,13,14,15,16,17,18,19,20,21,22,23,24,25,26,27,28,29],\"y\":[0,0.3816097488416388,0.23516799481558692,2.2461279963612193,0.5757481852564075,0.4358966136597492,1.3359243023411662,2.881007355826266,5.006633142708848,0.4840811652823185,8.017588481645475,10.703008705766187,1.203625605782996,5.001955964058906,7.292923155819279,0.8800772095582599,2.8336524673720564,7.8149778632592986,12.031535876310912,0.6503065176701796,16.839391599792208,17.66241424833676,16.26851096851161,4.675086167137076,13.194942758934317,12.160990684885842,13.16760648450828,18.99761364344857,6.362429322226738,19.9996828855944]}]},{\"name\":\"trace1\",\"data\":[{\"name\":\"trace1\",\"type\":\"scatter\",\"x\":[0,1,2,3,4,5,6,7,8,9,10,11,12,13,14,15,16,17,18,19,20,21,22,23,24,25,26,27,28,29],\"y\":[0,0.6955466408563356,0.5691873997349137,1.8490803115711612,0.1033058057994447,3.530375036040381,3.839928459955836,4.539551008887253,0.6205656227694645,6.032715940257356,3.1845412352859626,0.07199587621011527,6.115703499159633,3.8182019039982076,5.663499231210947,4.199442955111121,1.2366545391509298,14.426132975642208,17.97887454399214,10.708891300686563,5.33341314911069,8.68095812368164,7.861930605638272,20.03923469513492,16.77563916252839,21.629182212118998,15.009289687668307,10.187944247723818,0.8150783339476737,18.679540779783327]}]},{\"name\":\"trace2\",\"data\":[{\"name\":\"trace2\",\"type\":\"scatter\",\"x\":[0,1,2,3,4,5,6,7,8,9,10,11,12,13,14,15,16,17,18,19,20,21,22,23,24,25,26,27,28,29],\"y\":[0,0.8243980709066085,0.5438947658607043,1.2668755554505933,1.0577469972198656,0.6300873645772265,4.13977603152895,2.3111398813477937,1.3696930774004734,7.138297112272174,7.318066407474568,3.5300076227494523,2.1392954087468365,4.127034462940022,0.34460577155171057,8.7801132013464,8.027976886840383,0.9507760793452678,1.6474132271361994,12.725998734019614,15.356853155923513,10.042579770152617,6.404987223624233,2.1783818855519366,0.3603199223013229,21.562742683794887,11.88524586419684,22.234842059857268,15.243305397995744,18.98818002475847]}]},{\"name\":\"trace3\",\"data\":[{\"name\":\"trace3\",\"type\":\"scatter\",\"x\":[0,1,2,3,4,5,6,7,8,9,10,11,12,13,14,15,16,17,18,19,20,21,22,23,24,25,26,27,28,29],\"y\":[0,0.8891132754219655,0.348758622229018,2.228796944554261,1.430862855466677,4.250313458212721,1.2122727032621463,5.878677155141731,1.7968005520942345,4.666202131412746,7.779556101195886,0.18660652030386804,4.911381902241414,7.524329363303876,6.437012293196567,2.804359922140569,2.6649299620974105,5.0934233492731495,7.678423398011885,18.85414373752133,11.636651347896716,11.120981845731032,4.558666897193746,2.922005350508292,18.109885545850652,14.111117055077365,20.932584858574455,15.929030477922664,16.503330051946747,7.941399772441976]}]},{\"name\":\"trace4\",\"data\":[{\"name\":\"trace4\",\"type\":\"scatter\",\"x\":[0,1,2,3,4,5,6,7,8,9,10,11,12,13,14,15,16,17,18,19,20,21,22,23,24,25,26,27,28,29],\"y\":[0,0.749448652278327,1.074319540519644,0.252386366870302,0.9359573569506265,1.9235428996176314,1.0347679682566109,0.19917953432642832,3.89631196089244,0.5546056124350749,1.9422474396022027,1.0471673471243925,2.3797246398034972,3.8935466434165122,4.091048503743465,7.994540298740846,9.634669885520335,16.832368720517895,6.036460251389489,11.462393752660594,16.221322961438386,9.273263549835185,11.14133005846963,11.759119199522535,14.42151281856352,5.9135195005560135,8.658548933832998,24.037976794158777,11.703269031121813,23.745902997890173]}]},{\"name\":\"trace5\",\"data\":[{\"name\":\"trace5\",\"type\":\"scatter\",\"x\":[0,1,2,3,4,5,6,7,8,9,10,11,12,13,14,15,16,17,18,19,20,21,22,23,24,25,26,27,28,29],\"y\":[0,0.2682194700877908,0.5516479380578048,1.0537964487977267,1.341035326215438,2.0039484077532643,4.804115172057881,6.471914131316976,2.9040954304994866,2.0000656404477852,9.317546183844472,7.028265232324086,10.229511364604093,5.633540924098502,9.596881407055616,6.437327600509693,2.6663242947710764,7.214511911525863,17.15230974023736,14.407170372857085,11.253344272152741,6.567298912095384,11.319706751213058,10.732105000235228,5.316016622145162,9.125763584934504,8.577177202861172,3.509138798493678,6.440027281126637,28.08809595385986]}]},{\"name\":\"trace6\",\"data\":[{\"name\":\"trace6\",\"type\":\"scatter\",\"x\":[0,1,2,3,4,5,6,7,8,9,10,11,12,13,14,15,16,17,18,19,20,21,22,23,24,25,26,27,28,29],\"y\":[0,0.2544849207361015,0.8458961983833604,1.8556761174085294,3.9140409501411835,2.578588356116296,5.284187875196143,0.6745788231446442,5.794112430156042,0.3184413269266424,9.219480638477272,1.3985396412963822,11.188564777571221,4.962955819922321,8.838488802298214,4.9016435463028944,1.2035648345038226,9.832192723479585,5.722422477474312,3.3105679072963894,14.828829356602533,19.114406955075214,17.90039720584773,1.805708653626676,12.083177074547478,18.211953302838506,4.921075050645593,9.414015686126445,18.434099229949744,22.369168554963867]}]},{\"name\":\"trace7\",\"data\":[{\"name\":\"trace7\",\"type\":\"scatter\",\"x\":[0,1,2,3,4,5,6,7,8,9,10,11,12,13,14,15,16,17,18,19,20,21,22,23,24,25,26,27,28,29],\"y\":[0,0.021155545222209304,0.5574494545438733,2.228222083119855,1.9251388676868242,0.24968460852637375,2.66923998679397,0.14260818508761652,0.8735472499526615,2.9102317938749476,6.203767880666147,4.4092141776545155,6.247328712125573,4.364692385128077,12.321233838033034,10.974499067531013,14.087645527662183,1.9083716550592222,1.8561382344882829,2.4476499821010953,13.523840796611177,3.408770528963136,6.661369373865108,5.378420710671841,12.930504974309407,20.498609767338554,25.51652109604604,16.850821322628736,26.20695286669482,9.234993508249723]}]},{\"name\":\"trace8\",\"data\":[{\"name\":\"trace8\",\"type\":\"scatter\",\"x\":[0,1,2,3,4,5,6,7,8,9,10,11,12,13,14,15,16,17,18,19,20,21,22,23,24,25,26,27,28,29],\"y\":[0,0.0594248579603166,0.7336935359059187,1.0282233016789377,2.5587040574213624,3.599907501904131,5.513537083881456,4.227428259041975,5.297654306102587,8.741770345389336,4.363693591993928,2.0795270234655145,7.5050093629876695,6.214534275873316,1.2895300008439785,0.7985290258944583,13.154657047214307,11.56819676680497,15.417178388819682,0.7898005417847117,19.441356440534616,15.680052726065332,4.663781998165187,5.872050111086857,13.228297087152349,2.9387606832203343,12.363115819936262,11.061374825692466,21.526922110088467,19.545200646992427]}]},{\"name\":\"trace9\",\"data\":[{\"name\":\"trace9\",\"type\":\"scatter\",\"x\":[0,1,2,3,4,5,6,7,8,9,10,11,12,13,14,15,16,17,18,19,20,21,22,23,24,25,26,27,28,29],\"y\":[0,0.06993402198134957,0.10601643118944248,1.1147517868794938,3.7187404605155434,1.4886899208439681,1.105986935532972,6.393714263966139,3.1238010686268005,2.6268633837273203,1.5258277295532152,7.255122607089932,2.2141898001259785,0.8460838701353747,5.619638481490559,7.653910948084924,10.629267500118912,1.0752035968537017,6.716731022894673,17.853133348047447,19.24327185783065,18.97463262002302,3.7315246426166953,16.276518143618386,13.959670382276453,2.1271759746325976,18.29577772326096,0.8540373528497375,19.60382971431569,17.639571021631696]}]},{\"name\":\"trace10\",\"data\":[{\"name\":\"trace10\",\"type\":\"scatter\",\"x\":[0,1,2,3,4,5,6,7,8,9,10,11,12,13,14,15,16,17,18,19,20,21,22,23,24,25,26,27,28,29],\"y\":[0,0.15981164354695032,1.3782332439439497,2.7863866452551895,2.554179278272955,1.7891157877399078,5.613127664957511,3.9719758586330887,5.917654589872473,2.620131798571836,7.77898654760092,10.981310650035976,3.8578182010287256,8.678189877561362,3.630849951004638,2.2056994175755564,6.25368832101411,13.423397915103438,7.972920820670767,17.930097468932168,17.51929612850303,7.533821025549835,5.183446103001151,20.612489438802164,12.848250452916062,11.811193547239307,0.594759019013078,15.581576105231429,7.107947088567141,7.533120038958894]}]},{\"name\":\"trace11\",\"data\":[{\"name\":\"trace11\",\"type\":\"scatter\",\"x\":[0,1,2,3,4,5,6,7,8,9,10,11,12,13,14,15,16,17,18,19,20,21,22,23,24,25,26,27,28,29],\"y\":[0,0.24869730595093809,1.33581418304504,0.03688976540663813,0.7606842429802692,2.9581642056539605,1.1072268937606264,6.892796363423351,7.5146966440972225,5.823038720997907,2.3730042125711814,2.8879728052423785,8.532034867867853,8.24388752612164,0.7901711183320002,3.3836639483736892,1.2281001464534498,4.488370700557665,5.790375566328904,3.2252795785926165,2.8880601461637645,11.1837407029095,17.88687728177888,13.679189642589371,2.1530022675059737,18.717045209595884,15.034791757627126,13.813865025081714,14.005834772089623,21.12999583233733]}]},{\"name\":\"trace12\",\"data\":[{\"name\":\"trace12\",\"type\":\"scatter\",\"x\":[0,1,2,3,4,5,6,7,8,9,10,11,12,13,14,15,16,17,18,19,20,21,22,23,24,25,26,27,28,29],\"y\":[0,0.8804410595059275,0.1454938617845445,2.013116168399377,1.6965031306076863,4.74370993529417,0.7520519235898881,1.517572375279698,7.303832763524006,7.462848897630819,4.591765627349709,6.519375286880891,7.865675150860265,1.6687248570641615,4.731404545495154,8.101786941913852,9.210486429785025,13.909434823779717,13.312433091398441,17.825159081170575,19.241647018111234,17.40009530360145,12.737536639131937,14.806579148999615,11.219022413987252,0.7689206125877646,7.832556661827695,2.524006071367697,1.236994982939521,11.05090898717021]}]},{\"name\":\"trace13\",\"data\":[{\"name\":\"trace13\",\"type\":\"scatter\",\"x\":[0,1,2,3,4,5,6,7,8,9,10,11,12,13,14,15,16,17,18,19,20,21,22,23,24,25,26,27,28,29],\"y\":[0,0.6371290861583674,0.9911815097432946,2.9952768972428365,0.13233119277761496,2.034715980792581,1.7320423556228355,6.025585607877789,3.688343901677281,6.886851385679885,8.958246259881019,6.851430143940837,7.084846971203663,0.24286789834624178,2.965643318407627,11.713244168596809,5.532798020865894,2.3803987434344016,9.479580352720536,0.7739681234897324,9.286956275759891,14.57990068724002,2.7583178157704262,6.461010645245105,11.609666694868611,0.823583963418062,21.686231687900086,25.517122192265433,7.006673935746638,2.5639335812297137]}]},{\"name\":\"trace14\",\"data\":[{\"name\":\"trace14\",\"type\":\"scatter\",\"x\":[0,1,2,3,4,5,6,7,8,9,10,11,12,13,14,15,16,17,18,19,20,21,22,23,24,25,26,27,28,29],\"y\":[0,0.04705127338145809,1.3574771824793839,2.3357574018958767,3.2773691570353503,1.1309278629189539,4.557295849292208,0.7997315244447619,4.9193787521743655,4.069309128548932,2.2574892729471054,6.502902822704197,7.093528206563247,0.5914671181247385,12.179456527750583,5.166474331267509,12.889810215508817,11.120794098829402,4.1569818260951905,16.03727445444445,6.697239113613587,14.819024856797801,5.677036435059492,14.245759567620427,22.19880547239897,16.03053162287759,15.744507353619785,16.558704756380347,21.85948274210467,26.97335375343868]}]},{\"name\":\"trace15\",\"data\":[{\"name\":\"trace15\",\"type\":\"scatter\",\"x\":[0,1,2,3,4,5,6,7,8,9,10,11,12,13,14,15,16,17,18,19,20,21,22,23,24,25,26,27,28,29],\"y\":[0,0.28870676487917313,1.1331574998314031,1.3844270820824116,3.0115572335909313,2.678869039259522,3.0144075280177844,2.9074141011321264,4.390154161172561,6.853831978969945,9.024718928987118,1.38810703069431,2.6160461676657527,3.6818610064665624,8.808379638789566,11.539670563460072,6.250018856070367,4.95576036426097,12.781185716216378,17.560428128414642,16.39370057433318,4.245935501884601,17.651567354809167,4.579724350370578,20.277033427758198,4.306623109873553,7.2564567937672715,3.679561661776593,0.9562287644906435,26.71916642368535]}]},{\"name\":\"trace16\",\"data\":[{\"name\":\"trace16\",\"type\":\"scatter\",\"x\":[0,1,2,3,4,5,6,7,8,9,10,11,12,13,14,15,16,17,18,19,20,21,22,23,24,25,26,27,28,29],\"y\":[0,0.5613220946648281,0.1641268526582924,2.3072771851119986,3.6206186459246337,1.9352194310267024,3.900440625917705,6.836304359757002,6.20160365714991,5.743148571877124,5.967071101177446,0.6898855148884302,11.124411052812283,1.6089411148228179,13.50200099271801,11.323505342880939,13.577565241111708,12.796891551080057,2.9748650801742857,11.985277944140641,10.296663959305938,20.14471475563179,0.8516848231085543,7.06952735634892,22.95193158782546,2.1819535259976988,21.918130316803698,6.563343765999196,18.645468150749604,25.16880624638349]}]},{\"name\":\"trace17\",\"data\":[{\"name\":\"trace17\",\"type\":\"scatter\",\"x\":[0,1,2,3,4,5,6,7,8,9,10,11,12,13,14,15,16,17,18,19,20,21,22,23,24,25,26,27,28,29],\"y\":[0,0.8328906359367045,1.9326692271920756,0.9484463640894172,1.5768378479002023,2.479264051366325,0.6940882332984124,3.3072624002798445,7.213922503119812,7.942409966588537,2.3644743846387395,4.6068367520893645,9.605119290910638,2.1005660368613537,1.6844190021627004,13.662151681114507,14.843664390100754,9.955521253813602,10.485928534953537,14.905821640042218,14.822322462182742,3.7697864966539054,7.003392425035466,0.45580714974957315,22.454751075727295,11.224315512125305,3.845495109503453,26.267116202760846,5.357258873076499,13.424823621697993]}]},{\"name\":\"trace18\",\"data\":[{\"name\":\"trace18\",\"type\":\"scatter\",\"x\":[0,1,2,3,4,5,6,7,8,9,10,11,12,13,14,15,16,17,18,19,20,21,22,23,24,25,26,27,28,29],\"y\":[0,0.8255649537204923,1.265277423949065,1.5860070948141627,1.0227120604561075,3.7149422418097537,3.185566859006334,6.642316961658547,3.1098973105754597,5.1988782246446705,8.892424780129172,0.2921515690271884,6.921086279401297,2.7967206382405565,11.337883398847717,8.495805005631519,3.198393353900512,13.873445411336125,17.364657735322346,11.617599515809445,3.8960027423000465,5.826037275118982,1.4079033424841025,1.1103163915705223,4.083736902258397,5.2238579119664035,24.683998741252335,0.4330237016829932,11.217347771017154,17.444229911454983]}]},{\"name\":\"trace19\",\"data\":[{\"name\":\"trace19\",\"type\":\"scatter\",\"x\":[0,1,2,3,4,5,6,7,8,9,10,11,12,13,14,15,16,17,18,19,20,21,22,23,24,25,26,27,28,29],\"y\":[0,0.7633529363501732,1.056517860427753,0.44768801571500094,0.7725271217060938,3.551406335275547,1.7873976442917159,6.160847239293404,1.816612652267767,8.944702453672356,8.060021731313078,3.838032653949154,8.872120046123406,9.127071331321666,7.731990474492122,2.2471650755824175,5.272155571869526,5.685087854382776,0.8843330857504852,17.458226015126343,0.6849969929889954,16.085383030045346,19.049214218643947,7.186388891696869,14.222579998576638,3.4550787866042376,19.84883882176607,18.15777479395446,12.066097846730466,18.868021117184956]}]},{\"name\":\"trace20\",\"data\":[{\"name\":\"trace20\",\"type\":\"scatter\",\"x\":[0,1,2,3,4,5,6,7,8,9,10,11,12,13,14,15,16,17,18,19,20,21,22,23,24,25,26,27,28,29],\"y\":[0,0.21836654411415068,1.2167045451581417,0.5580293573255031,0.21180388119430393,3.2095600874560053,1.5456514201957263,0.46182636541776834,3.9386769434913775,8.321931402587747,5.062597663031319,0.0450800517578408,7.891694114644306,0.57383417666456,6.576150451676758,7.511089802979138,3.3337514240687565,16.86258914840153,12.065728061932473,9.624590521718986,16.93984183178802,3.918271656513592,3.4182663821399,3.934257156659342,15.100680831925068,23.314730354293424,17.232162283257423,23.975217342565706,10.560765008013467,1.4283215984868345]}]},{\"name\":\"trace21\",\"data\":[{\"name\":\"trace21\",\"type\":\"scatter\",\"x\":[0,1,2,3,4,5,6,7,8,9,10,11,12,13,14,15,16,17,18,19,20,21,22,23,24,25,26,27,28,29],\"y\":[0,0.6511079771545475,0.775740444260087,0.5229470836267991,1.9972215224027638,4.710851778773415,5.810369932299851,3.7270965131257294,3.000063252719073,8.878242352165543,3.280284788719321,1.666421757668624,8.04102040177882,3.027121421958274,0.13561010184870392,9.120378246792729,6.1519404699515405,5.796149651361513,6.3560665942123835,7.378741163520969,11.026276930948974,16.629164706683177,9.855980203369699,19.840750197618064,14.764888370589267,11.942979850912339,17.08760384950051,18.54499694668231,2.8477593188492016,7.855402562255407]}]},{\"name\":\"trace22\",\"data\":[{\"name\":\"trace22\",\"type\":\"scatter\",\"x\":[0,1,2,3,4,5,6,7,8,9,10,11,12,13,14,15,16,17,18,19,20,21,22,23,24,25,26,27,28,29],\"y\":[0,0.1710827087604888,1.267235973294886,1.8765986733491142,0.6783278869375584,3.9130370656483766,5.930913152133996,5.0562085722599015,4.9995754314277105,4.3933078288543035,6.851384870459456,5.838617226433658,3.538436532807092,1.06906927242686,7.5239021682432385,6.528973476980232,8.342727411286111,16.95293228954332,12.954601885351789,14.17770489953373,5.622485067175451,7.251317279202786,3.331339657648111,11.549162435733603,0.28970746253326407,2.5995848584696613,11.101487308615527,12.33716242687601,22.33125004743951,12.301622563147923]}]},{\"name\":\"trace23\",\"data\":[{\"name\":\"trace23\",\"type\":\"scatter\",\"x\":[0,1,2,3,4,5,6,7,8,9,10,11,12,13,14,15,16,17,18,19,20,21,22,23,24,25,26,27,28,29],\"y\":[0,0.0419121368041937,0.23256601817257838,0.03969610121235956,3.2028778958844177,1.9745107295098259,3.3243362078199343,2.976547559595882,6.158392901787878,2.301323188497369,7.120626059562452,9.652905031889453,0.020241474835235973,8.346495062903454,0.6261174923735706,13.562560995149934,14.938526844215838,12.587565602470379,9.229659174358886,14.356467260000962,10.776434965897451,7.840053426739306,16.434715485060185,22.07192190935555,9.869389470186526,18.412108323579858,22.99492088506671,23.459159258632045,1.0663459196868437,24.37258679999433]}]},{\"name\":\"trace24\",\"data\":[{\"name\":\"trace24\",\"type\":\"scatter\",\"x\":[0,1,2,3,4,5,6,7,8,9,10,11,12,13,14,15,16,17,18,19,20,21,22,23,24,25,26,27,28,29],\"y\":[0,0.3374614147394802,0.5742752434663891,0.7045207331811246,2.8432777786717733,4.472282357545885,0.7112415964704091,1.0255898489536537,7.253681868689059,8.183934896305939,6.68427677773964,1.3192910352158922,9.158166500591502,3.679247807850952,2.0331469022262256,9.199439387631344,12.840966925655845,2.3662741433973995,7.739274115221687,14.697760699125112,5.632662439121723,17.626532886308777,19.322520626264364,18.19151263464559,4.540527229581703,10.011376899142205,15.201997873594795,22.029210430720156,20.31208827584289,1.580368061867547]}]},{\"name\":\"trace25\",\"data\":[{\"name\":\"trace25\",\"type\":\"scatter\",\"x\":[0,1,2,3,4,5,6,7,8,9,10,11,12,13,14,15,16,17,18,19,20,21,22,23,24,25,26,27,28,29],\"y\":[0,0.4115603794434519,0.29632465265274344,0.7720098060358482,0.6931402230158823,4.546290129331989,5.3938049596490085,6.49062635397464,0.4414478451647854,7.535459991606946,6.072330966026852,0.8109987940836554,9.8110293983557,10.40696118042102,12.748466839811744,3.953636811305199,8.419483976227443,13.657315303352817,0.49675436353086355,10.692376978696846,6.650548855426573,0.5863486324733395,14.770216827298317,15.922473415970392,3.4324093556900896,12.68943903186737,5.2852518936154596,3.7903687804050694,1.1470975239562131,28.066721556652304]}]},{\"name\":\"trace26\",\"data\":[{\"name\":\"trace26\",\"type\":\"scatter\",\"x\":[0,1,2,3,4,5,6,7,8,9,10,11,12,13,14,15,16,17,18,19,20,21,22,23,24,25,26,27,28,29],\"y\":[0,0.8848067563354396,1.2329787055259758,1.0381800596881603,3.018652486169996,0.9814170892479523,4.116010944374062,1.0336927354949053,6.201202207878443,6.461563445438659,3.6370392991358713,9.317261677574454,1.778602224366395,8.389024063097091,1.193903022802121,0.007660742721465885,14.246201779425547,6.24695012631979,17.604579579584307,11.45041259381077,6.488452548009358,7.829269426261774,20.28079975418595,11.200884869398955,21.31420084743952,14.272991680929442,19.547900346783983,6.755092399870484,7.446869867696459,12.677441862962311]}]},{\"name\":\"trace27\",\"data\":[{\"name\":\"trace27\",\"type\":\"scatter\",\"x\":[0,1,2,3,4,5,6,7,8,9,10,11,12,13,14,15,16,17,18,19,20,21,22,23,24,25,26,27,28,29],\"y\":[0,0.26071412558030693,0.12030900027325409,1.6442295721977354,2.0851053996531594,4.014581886313827,0.5289760512799513,0.9974506524749847,0.586194601956394,2.723038727647626,9.240138412146454,3.488283595452429,4.231691553263206,11.464131131896911,6.773060558419714,5.182265910469079,12.016970094403096,3.398763689810826,5.349826716691425,7.503622469036017,16.798871040893907,13.627417578063687,13.290900026810355,14.002370704047415,22.607636713528535,12.4133729975514,14.769660134726532,3.2340536061629,0.926918387580884,14.27834371324103]}]},{\"name\":\"trace28\",\"data\":[{\"name\":\"trace28\",\"type\":\"scatter\",\"x\":[0,1,2,3,4,5,6,7,8,9,10,11,12,13,14,15,16,17,18,19,20,21,22,23,24,25,26,27,28,29],\"y\":[0,0.06497864383832697,0.8297194808935258,2.365931507039116,0.477813075098676,0.4232970047732415,1.5982537793488227,5.35617299362617,1.312482352270452,0.9344580597029737,0.10018418989524602,5.428025203991907,1.3537200788556722,5.453978721082668,5.69101730487366,1.9115260894006358,10.05200727620546,4.192780671458634,7.790250900424249,8.84410400785043,1.7855423326285513,19.127968957651564,6.383168477784091,6.743224438800841,11.891062784297251,20.51224911081659,8.834039022101495,23.938789764188076,2.663167669573171,5.69913762468602]}]},{\"name\":\"trace29\",\"data\":[{\"name\":\"trace29\",\"type\":\"scatter\",\"x\":[0,1,2,3,4,5,6,7,8,9,10,11,12,13,14,15,16,17,18,19,20,21,22,23,24,25,26,27,28,29],\"y\":[0,0.2326523685259988,1.880728617175385,0.888061381185312,1.449545500487119,0.5291445534616762,1.7301347962079097,3.6727268552305343,6.7195258394160176,1.176541220243632,1.397115970857663,4.41948976140241,11.548046899563118,4.602128337706871,3.2729078189163543,12.217834482401706,12.100465025817432,11.089393185793735,9.084563250040247,7.1925975336365155,5.267933777830491,10.711230686204136,7.549858144439646,0.17285262279891733,22.29000951284106,7.886591798864496,0.15388226514015968,26.65009618603797,7.115655609428949,9.968454444939653]}]},{\"name\":\"trace30\",\"data\":[{\"name\":\"trace30\",\"type\":\"scatter\",\"x\":[0,1,2,3,4,5,6,7,8,9,10,11,12,13,14,15,16,17,18,19,20,21,22,23,24,25,26,27,28,29],\"y\":[0,0.9471557431562568,1.1933599840989442,0.06884734443518936,3.691784510830552,0.6591391253276835,0.036341951968244635,6.378572410665879,4.010885582840636,2.4813401346828106,1.623036886970659,0.5852283417854959,7.206736063163939,2.799764120598075,11.224907190211159,0.4358417371716211,7.944527100765086,1.463366091733394,8.99931001846844,1.1641807273544669,0.873343826047861,12.283235895766632,6.987688423811946,0.05350769892305618,6.210746997376961,7.930695501857346,15.881109811904361,24.04764324212746,12.121726114926622,19.8905439824687]}]},{\"name\":\"trace31\",\"data\":[{\"name\":\"trace31\",\"type\":\"scatter\",\"x\":[0,1,2,3,4,5,6,7,8,9,10,11,12,13,14,15,16,17,18,19,20,21,22,23,24,25,26,27,28,29],\"y\":[0,0.03284656367164274,1.235537520875825,0.3937046270753851,2.570381197430034,1.2337170079508253,5.358598497941522,5.493491028095071,0.5375077254278793,8.847809603430518,0.37437547935434634,8.365313989987243,6.527794381530366,6.925347903566457,1.3478676991914833,5.627479425925096,10.713520889389063,7.168754106968859,15.667872278583593,10.699096287496932,17.46074121586099,8.370694700895116,11.698731604014155,14.482566044262725,6.931076088522315,3.1570591692446497,10.767393647646958,7.426833563067559,14.820903655628056,23.32521096661277]}]},{\"name\":\"trace32\",\"data\":[{\"name\":\"trace32\",\"type\":\"scatter\",\"x\":[0,1,2,3,4,5,6,7,8,9,10,11,12,13,14,15,16,17,18,19,20,21,22,23,24,25,26,27,28,29],\"y\":[0,0.5116718663857684,1.668247944307247,1.408331284377589,1.9008103083394867,3.485265367953902,2.574994648512205,4.532325367887971,2.694588699622342,3.6859842936932647,4.428064547207314,3.9991377113396602,4.7989172920937,3.959779025591177,5.511669818404085,3.851046215335632,14.83004515315541,6.92196445016342,1.6379477066717338,13.116477184374762,15.539905110162307,10.911578758354686,16.9180410661054,6.933795870783577,5.046737245370657,13.83901406364179,10.805049102591543,10.552555567132837,7.568537488507721,18.315213350934773]}]},{\"name\":\"trace33\",\"data\":[{\"name\":\"trace33\",\"type\":\"scatter\",\"x\":[0,1,2,3,4,5,6,7,8,9,10,11,12,13,14,15,16,17,18,19,20,21,22,23,24,25,26,27,28,29],\"y\":[0,0.9185169198211927,1.7850567326279276,2.235753526250931,0.5649831292317362,3.2082370153389776,1.7288055658599983,4.247873075847355,0.11766160009440352,0.9616291538451187,2.1288303531578667,0.9297705299551904,9.088838862786204,10.311678897231886,6.248722842894716,4.11275967287005,2.821465257257337,11.744807588394156,3.219751816190242,15.709179184607017,6.78831142440605,20.9124090874268,0.7090458198071254,14.370763940574207,12.236856794899674,10.07994714958855,3.22046141487821,7.5731092300877,18.44454667590332,19.99184430007099]}]},{\"name\":\"trace34\",\"data\":[{\"name\":\"trace34\",\"type\":\"scatter\",\"x\":[0,1,2,3,4,5,6,7,8,9,10,11,12,13,14,15,16,17,18,19,20,21,22,23,24,25,26,27,28,29],\"y\":[0,0.21536894241628723,1.570738832145015,2.6628856195046953,2.678756101096421,1.3628893093951944,5.858601741185287,2.6758064359112463,5.510919326877147,8.20756663337819,9.90057708320016,7.404637306543044,5.117317250795702,0.5623264155449578,2.305735520587083,5.934395408425476,12.2943950570635,7.8814597005702165,11.179073922158375,7.974602794361848,0.22795097213107018,14.338553284446451,1.1166604538165095,11.464350426971711,0.9375600068966037,16.08771120446738,22.533569386581274,26.638596765870233,6.135142470561618,13.74637699501726]}]},{\"name\":\"trace35\",\"data\":[{\"name\":\"trace35\",\"type\":\"scatter\",\"x\":[0,1,2,3,4,5,6,7,8,9,10,11,12,13,14,15,16,17,18,19,20,21,22,23,24,25,26,27,28,29],\"y\":[0,0.6093363173240839,0.24795367165658178,2.838013532601818,1.7826601133143005,0.6208319773878263,2.5485635342717434,5.2757456513167,0.22243342382709752,8.91748122412859,2.1153975771501865,0.8588406805851225,1.4889658845035334,10.914416100075528,7.737818403927724,2.338837319658764,6.390108643466123,10.403930543118298,5.792011884867749,13.930888433261194,3.5837329285037045,15.49088173652016,4.231211899267106,8.077172335602747,2.10391641085768,15.125955413058934,5.972535938813988,10.42463989736973,9.239753034304082,25.73341173539691]}]},{\"name\":\"trace36\",\"data\":[{\"name\":\"trace36\",\"type\":\"scatter\",\"x\":[0,1,2,3,4,5,6,7,8,9,10,11,12,13,14,15,16,17,18,19,20,21,22,23,24,25,26,27,28,29],\"y\":[0,0.6437926660876118,1.5164402601436833,2.9753429827434994,2.0112334081728456,0.4825371864268885,5.423527784122342,0.10221032946011666,2.573417281840447,0.3743076693192817,3.610870913821882,1.1632244362949615,4.314369668829994,7.2854420889515845,3.6284731453530714,1.0879367444763894,12.96832852450145,11.232925967835763,1.4202239285913498,7.327295366046203,6.120805267741241,18.834835448752912,16.110371646046467,11.263410460391267,21.226430158128846,14.481306437033412,16.997919913280533,12.583034667331738,21.225460416442143,26.357330858615047]}]},{\"name\":\"trace37\",\"data\":[{\"name\":\"trace37\",\"type\":\"scatter\",\"x\":[0,1,2,3,4,5,6,7,8,9,10,11,12,13,14,15,16,17,18,19,20,21,22,23,24,25,26,27,28,29],\"y\":[0,0.6472048585928644,1.1852807741728744,1.5060238551653624,0.9494745574048808,3.7047842048756174,0.6293906576378248,5.643045897667971,0.3035672770388933,3.4666391608047324,5.31075195522879,9.36439928340495,1.9065957653236136,10.74168682906781,12.919476373187601,9.433509918784889,7.3086493265745975,10.029766608541635,5.149111004908482,2.7647231363938,5.103813649757574,12.529397574769527,6.479433383413738,19.779183584435433,13.204052054693708,4.057948666504313,17.719139792881727,21.04528170200771,18.422568435660256,20.9546966358448]}]},{\"name\":\"trace38\",\"data\":[{\"name\":\"trace38\",\"type\":\"scatter\",\"x\":[0,1,2,3,4,5,6,7,8,9,10,11,12,13,14,15,16,17,18,19,20,21,22,23,24,25,26,27,28,29],\"y\":[0,0.9641891297114953,1.0182638900693723,2.7521438392627133,2.6466015076699443,2.849106649681249,1.0922291454273445,6.187114861984351,1.0383727708877721,7.588147066269961,8.115336619633224,2.3952988824742896,10.697117170977165,8.82354828269353,9.938895417165046,1.2702171314851352,8.726091581071838,7.537058330954862,7.072526908997906,7.405605664781556,8.128336369131713,16.35628293103911,4.761727811756863,17.16541672616576,14.740846311527317,0.16757024376974905,12.970504334075185,6.05277695661816,25.045421253572975,16.62769733820843]}]},{\"name\":\"trace39\",\"data\":[{\"name\":\"trace39\",\"type\":\"scatter\",\"x\":[0,1,2,3,4,5,6,7,8,9,10,11,12,13,14,15,16,17,18,19,20,21,22,23,24,25,26,27,28,29],\"y\":[0,0.5035268672506418,1.9119172280093362,2.1019730422558593,2.9533041216583777,0.5594640762979108,2.6463087468994733,0.23673742079071236,4.518665159554147,7.91884712310721,9.393944073938215,6.7898512672801825,1.2896908046365692,8.00257169752748,11.482389262561016,14.544194646087636,10.373075201383417,4.559715305810953,9.766136272738741,7.1958055598840875,0.07229305418654963,11.08566476648861,14.591311687549982,18.21434374488538,12.93267966121465,22.298017322015834,25.365746900427894,22.62939014094489,13.962755027026326,20.795061199567684]}]},{\"name\":\"trace40\",\"data\":[{\"name\":\"trace40\",\"type\":\"scatter\",\"x\":[0,1,2,3,4,5,6,7,8,9,10,11,12,13,14,15,16,17,18,19,20,21,22,23,24,25,26,27,28,29],\"y\":[0,0.5856446704043718,0.15576038913535517,2.017768290049495,1.0922814016185018,3.0667335141474132,2.350691980068884,2.1758781096860575,4.934147467234904,7.672133828498574,3.91000204435577,1.982134457593245,3.7537000256263053,5.754817782529857,11.347840104825625,0.2875271548569347,7.597575933998389,9.154242228941731,7.970964629980684,1.734331695475039,19.36949011402011,12.605343888845491,8.371054999269306,14.877888729702741,14.073308011100071,5.240428168007849,10.09908074826695,22.4394147517029,9.87464271496087,24.93014241177956]}]},{\"name\":\"trace41\",\"data\":[{\"name\":\"trace41\",\"type\":\"scatter\",\"x\":[0,1,2,3,4,5,6,7,8,9,10,11,12,13,14,15,16,17,18,19,20,21,22,23,24,25,26,27,28,29],\"y\":[0,0.09667956536317523,1.7288967571271043,1.4638465303264505,2.4638536615010977,1.626763840038468,2.1463685268795376,5.2078155219022815,2.9227699226583406,3.7236448167475205,6.184891344007917,1.2376299140648186,7.502235002347675,0.4882003359170677,13.317675972931353,0.7579435150834507,2.249503249148491,11.425250239212737,2.956216708816487,4.514955074883343,2.722517118002672,15.066005540848924,20.533990955823576,20.439654822244194,21.990698059213493,18.85102494278047,25.15597777071834,22.468291839761047,2.0339733100342965,15.558276218080609]}]},{\"name\":\"trace42\",\"data\":[{\"name\":\"trace42\",\"type\":\"scatter\",\"x\":[0,1,2,3,4,5,6,7,8,9,10,11,12,13,14,15,16,17,18,19,20,21,22,23,24,25,26,27,28,29],\"y\":[0,0.7188425738270601,0.2041045495102416,0.9702007825634228,3.617101171378954,1.4645472707465246,1.891867746454681,3.754577323327179,0.8631536656625256,1.1799115083257943,1.474441447078435,5.971253496022083,5.619566058420362,8.26161521779082,5.154746724667694,8.485608902307042,3.7275477249069375,5.9782954280169065,4.237151786956845,6.398013927121962,0.18937445815968124,18.396196110161718,7.348501585765794,3.0238528689878583,4.104033375582168,17.885968359648245,18.205840312007663,6.747530343559749,9.347367618238826,13.528712742747713]}]},{\"name\":\"trace43\",\"data\":[{\"name\":\"trace43\",\"type\":\"scatter\",\"x\":[0,1,2,3,4,5,6,7,8,9,10,11,12,13,14,15,16,17,18,19,20,21,22,23,24,25,26,27,28,29],\"y\":[0,0.8403699852730971,0.7917471878181739,1.7790406295334784,1.7580997535808285,1.0158510268254295,1.4876077578022386,6.286428886700362,6.599381046416009,3.205973210586949,5.4749625006664004,5.613661335984599,10.075052695237666,9.053951608663619,12.310265899145413,12.51281664813674,4.540011280297769,0.8333815009401394,3.9244297492269338,8.537388541533298,19.676350431067654,5.466293966079458,18.814223871645957,8.929012504607742,10.674290820361621,19.03839387041835,22.257759845703468,15.331964412065561,4.583877969036364,5.98632773882589]}]},{\"name\":\"trace44\",\"data\":[{\"name\":\"trace44\",\"type\":\"scatter\",\"x\":[0,1,2,3,4,5,6,7,8,9,10,11,12,13,14,15,16,17,18,19,20,21,22,23,24,25,26,27,28,29],\"y\":[0,0.4077944047976163,1.8864878116080057,1.1073325184126577,2.983671791360603,4.135064819284778,5.771458893752553,6.8480006615138045,6.672927502758291,7.918120885393024,9.345928969315061,0.6445127557011419,3.2257160638711664,3.4385980933140896,5.976368974385704,9.78411515661326,9.668565827736872,13.921925955742433,4.954393166413999,9.538956157427583,18.065261298140058,18.939805368244798,2.392191673471459,8.979630846547181,10.336230694440438,6.335559406708907,4.374741969628795,9.480625924601346,18.802841451928572,15.205320123010246]}]},{\"name\":\"trace45\",\"data\":[{\"name\":\"trace45\",\"type\":\"scatter\",\"x\":[0,1,2,3,4,5,6,7,8,9,10,11,12,13,14,15,16,17,18,19,20,21,22,23,24,25,26,27,28,29],\"y\":[0,0.8953356420037729,0.7991058547180678,0.5123274494756753,3.672432818046418,3.639104487928929,5.935066420453209,5.746129839752239,3.8468651680549604,1.5140085974208408,2.8545727997819617,5.910118661164459,8.27006456046012,8.285493587521668,1.7477690978180844,9.358435260661102,4.7766458004388,2.0514662796580923,0.6175250366871781,14.330567872616975,8.250040171309934,10.060988920355973,15.997793241578648,5.416160713076948,12.00182022569067,21.027329973911236,19.784925478188047,4.436374040783535,6.59016984659504,2.3559394652022725]}]},{\"name\":\"trace46\",\"data\":[{\"name\":\"trace46\",\"type\":\"scatter\",\"x\":[0,1,2,3,4,5,6,7,8,9,10,11,12,13,14,15,16,17,18,19,20,21,22,23,24,25,26,27,28,29],\"y\":[0,0.07953547673709604,0.37656592931671207,1.6994775454772661,2.3730727722478284,2.3563807232685354,0.9485726737507214,6.544260549619145,2.9192926628181928,1.5077410585708595,8.603169711894846,7.265043416149206,11.33613621384622,2.424047613194369,10.53951245151561,8.30373376565885,2.7473434727787467,1.978699937578161,0.3307915652703841,2.8131286463909926,0.9472858967877662,9.767615852987298,2.387869356989107,3.0770030606012213,7.794162755170226,17.668408134856715,20.74305663426644,16.429012222095945,23.183273984121943,27.434988178270057]}]},{\"name\":\"trace47\",\"data\":[{\"name\":\"trace47\",\"type\":\"scatter\",\"x\":[0,1,2,3,4,5,6,7,8,9,10,11,12,13,14,15,16,17,18,19,20,21,22,23,24,25,26,27,28,29],\"y\":[0,0.9423509019102297,0.24251695539539875,0.6589533652601592,2.528542681808665,2.380879410659376,2.7479035630928115,3.203438926836742,5.637794947377821,0.9592545310120089,9.0509123430545,0.4452441224422513,2.694441254085808,0.666747528879178,2.2499639606515522,10.559268528147404,0.3724162979529222,12.456197640447417,15.498552867467483,5.086708234715704,6.906625843829774,16.17353372974162,2.354267273062251,6.75284907536189,13.111645587732104,13.21587738888432,13.843063306281731,8.517493501057492,6.299111361645451,15.565002448717104]}]},{\"name\":\"trace48\",\"data\":[{\"name\":\"trace48\",\"type\":\"scatter\",\"x\":[0,1,2,3,4,5,6,7,8,9,10,11,12,13,14,15,16,17,18,19,20,21,22,23,24,25,26,27,28,29],\"y\":[0,0.7251576910650634,1.3280008018237726,1.069703931291055,3.077409929031659,3.737480494023872,3.3724421353115437,1.1578977116047273,0.42117654347221123,1.7293323091001125,3.015896966392492,4.307277512447136,0.7714134538022672,10.809718782470433,5.825110380800503,3.5497445418837814,13.197421649699175,5.4568296890342785,8.929681634674598,15.419468561131634,9.646024994136564,11.583884864320723,11.087230889848014,21.054163788623775,14.663947254636312,5.127951607329761,9.243157842396315,5.255181864855781,18.00051207641319,1.9533491313443019]}]},{\"name\":\"trace49\",\"data\":[{\"name\":\"trace49\",\"type\":\"scatter\",\"x\":[0,1,2,3,4,5,6,7,8,9,10,11,12,13,14,15,16,17,18,19,20,21,22,23,24,25,26,27,28,29],\"y\":[0,0.5337601380377969,1.2024576709000863,1.0458013058225781,3.1808746444305753,0.2482915204454994,2.7615845485323653,6.004341140064441,4.4203043058573925,8.894729902446347,2.6346357530467923,4.207730092879044,8.353438766421906,2.021959131666197,8.393528725082716,0.5762171080938744,11.26120899604151,4.299992667463029,2.8227542804530352,12.680759891385334,7.578409701815245,13.342062851784759,18.81611185366279,13.570426236437866,16.919396610703455,13.953145674549308,12.737247152418028,3.914861206027072,15.098483766254647,27.283356139119185]}]}]\n",
       "var labels_PZM0mGhJTQ = [\"trace0\",\"trace1\",\"trace2\",\"trace3\",\"trace4\",\"trace5\",\"trace6\",\"trace7\",\"trace8\",\"trace9\",\"trace10\",\"trace11\",\"trace12\",\"trace13\",\"trace14\",\"trace15\",\"trace16\",\"trace17\",\"trace18\",\"trace19\",\"trace20\",\"trace21\",\"trace22\",\"trace23\",\"trace24\",\"trace25\",\"trace26\",\"trace27\",\"trace28\",\"trace29\",\"trace30\",\"trace31\",\"trace32\",\"trace33\",\"trace34\",\"trace35\",\"trace36\",\"trace37\",\"trace38\",\"trace39\",\"trace40\",\"trace41\",\"trace42\",\"trace43\",\"trace44\",\"trace45\",\"trace46\",\"trace47\",\"trace48\",\"trace49\"]\n",
       "var duration_PZM0mGhJTQ = 100\n",
       "var config_PZM0mGhJTQ = {\"responsive\":true,\"scrollZoom\":true,\"displaylogo\":false}\n",
       "\n",
       "var animation_settings_PZM0mGhJTQ = {\n",
       "    mode: \"immediate\",\n",
       "    direction: {},\n",
       "    fromcurrent: true,\n",
       "    frame: [\n",
       "      {duration: duration_PZM0mGhJTQ},\n",
       "      {duration: duration_PZM0mGhJTQ},\n",
       "      {redraw: true}\n",
       "    ],\n",
       "    transition: [\n",
       "      {duration: duration_PZM0mGhJTQ, easing: 'cubic-in-out'},\n",
       "      {duration: duration_PZM0mGhJTQ, easing: 'cubic-in-out'},\n",
       "    ],\n",
       "    ordering: \"layout first\"\n",
       "}\n",
       "\n",
       "var slider_PZM0mGhJTQ = document.createElement(\"input\")\n",
       "var play_PZM0mGhJTQ = document.getElementById(\"play_PZM0mGhJTQ\")\n",
       "var pause_PZM0mGhJTQ = document.getElementById(\"pause_PZM0mGhJTQ\")\n",
       "slider_PZM0mGhJTQ.id = \"slider_PZM0mGhJTQ\"\n",
       "slider_PZM0mGhJTQ.type = \"range\"\n",
       "slider_PZM0mGhJTQ.min = 0\n",
       "slider_PZM0mGhJTQ.max = frames_PZM0mGhJTQ.length - 1\n",
       "slider_PZM0mGhJTQ.value = 0\n",
       "document.getElementById(\"sliderContainer_PZM0mGhJTQ\").appendChild(slider_PZM0mGhJTQ);\n",
       "\n",
       "Plotly.newPlot(graph_PZM0mGhJTQ, traces_PZM0mGhJTQ, layout_PZM0mGhJTQ, config_PZM0mGhJTQ)\n",
       ".then(function () { Plotly.addFrames(graph_PZM0mGhJTQ, frames_PZM0mGhJTQ) })\n",
       "\n",
       "var trigger_PZM0mGhJTQ = true\n",
       "var reset_count_PZM0mGhJTQ = false\n",
       "\n",
       "\n",
       "play_PZM0mGhJTQ.addEventListener('click', function() {\n",
       "   trigger_PZM0mGhJTQ = true\n",
       "   if (reset_count_PZM0mGhJTQ) {\n",
       "      slider_PZM0mGhJTQ.value = 0\n",
       "      reset_count_PZM0mGhJTQ = false\n",
       "   }\n",
       "\n",
       "  const start_index = slider_PZM0mGhJTQ.value == labels_PZM0mGhJTQ.length - 1 ? 0 : slider_PZM0mGhJTQ.value\n",
       "  const end_index = labels_PZM0mGhJTQ.length\n",
       "  Plotly.animate(graph_PZM0mGhJTQ, labels_PZM0mGhJTQ.slice(start_index, end_index), animation_settings_PZM0mGhJTQ)\n",
       "})\n",
       "\n",
       "pause_PZM0mGhJTQ.addEventListener('click', function() {\n",
       "  Plotly.animate(graph_PZM0mGhJTQ, [null], animation_settings_PZM0mGhJTQ)\n",
       "})\n",
       "\n",
       "graph_PZM0mGhJTQ.on('plotly_redraw', () => {\n",
       "   value_PZM0mGhJTQ.innerHTML = slider_PZM0mGhJTQ.value;\n",
       "   if (trigger_PZM0mGhJTQ & !reset_count_PZM0mGhJTQ) ++slider_PZM0mGhJTQ.value\n",
       "   if (slider_PZM0mGhJTQ.value == labels_PZM0mGhJTQ.length - 1) reset_count_PZM0mGhJTQ = true\n",
       "});\n",
       "\n",
       "slider_PZM0mGhJTQ.oninput = function() {\n",
       "   Plotly.animate(graph_PZM0mGhJTQ, frames_PZM0mGhJTQ[this.value], animation_settings_PZM0mGhJTQ)\n",
       "   trigger_PZM0mGhJTQ = false\n",
       "   slider_PZM0mGhJTQ.value = this.value\n",
       "   value_PZM0mGhJTQ.innerHTML = this.value;\n",
       "   if (this.value == 0) reset_count_PZM0mGhJTQ = false\n",
       "   if (this.value == labels_PZM0mGhJTQ.length - 1) reset_count_PZM0mGhJTQ = true\n",
       "   reset_count_PZM0mGhJTQ = false\n",
       "}\n",
       "</script> \n"
      ]
     },
     "metadata": {},
     "output_type": "display_data"
    }
   ],
   "source": [
    "val xaxis = XAxis(title = \"X Variable\") setRange (0.0, 10.0)\n",
    "val yaxis = YAxis(title = \"Y Variable\") setRange (0.0, 10.0)\n",
    "\n",
    "val layout = Layout(\"Animation.XY\") setAxes(xaxis, yaxis)\n",
    "\n",
    "val series = createXYSeries(numberToCreate = 50, length = 30)\n",
    "\n",
    "val chart = Chart(animated = true) setLayout layout addSeries series\n",
    "\n",
    "val canvas = Canvas() addCharts chart\n",
    "\n",
    "canvas.plotInline"
   ]
  },
  {
   "cell_type": "markdown",
   "metadata": {},
   "source": [
    "### 3D Animated Chart"
   ]
  },
  {
   "cell_type": "code",
   "execution_count": 44,
   "metadata": {},
   "outputs": [
    {
     "name": "stderr",
     "output_type": "stream",
     "text": [
      "cmd44.sc:1: value asType is not a member of List[org.carbonateresearch.picta.XYZSeries]\n",
      "val series = createXYZSeries(numberToCreate = 10, length = 100) asType SCATTER3D\n",
      "                                                                ^Compilation Failed"
     ]
    },
    {
     "ename": "",
     "evalue": "",
     "output_type": "error",
     "traceback": [
      "Compilation Failed"
     ]
    }
   ],
   "source": [
    "val series = createXYZSeries(numberToCreate = 10, length = 100) asType SCATTER3D\n",
    "\n",
    "val layout = Layout(\"Animation.XYZ\")\n",
    "\n",
    "val chart = Chart(animated = true) setLayout layout addSeries series \n",
    "\n",
    "val canvas = Canvas() addCharts chart\n",
    "\n",
    "canvas.plotInline"
   ]
  },
  {
   "cell_type": "markdown",
   "metadata": {},
   "source": [
    "## IO + Utility Functions\n",
    "\n",
    "The library also comes with some basic CSV IO functions and a utility function for breaking down data"
   ]
  },
  {
   "cell_type": "code",
   "execution_count": null,
   "metadata": {},
   "outputs": [],
   "source": [
    "import picta.IO.IO.{getWorkingDirectory, readCSV}\n",
    "import picta.charts.Chart\n",
    "import picta.common.Utils.getSeriesbyCategory\n",
    "import picta.options.Layout\n",
    "import picta.series.XYSeries"
   ]
  },
  {
   "cell_type": "code",
   "execution_count": null,
   "metadata": {},
   "outputs": [],
   "source": [
    "val working_directory = getWorkingDirectory\n",
    "\n",
    "println(working_directory)"
   ]
  },
  {
   "cell_type": "code",
   "execution_count": null,
   "metadata": {},
   "outputs": [],
   "source": [
    "// by providing a path, we can read in a CSV\n",
    "val filepath = working_directory + \"/iris_csv.csv\"\n",
    "\n",
    "val data = readCSV(filepath)\n",
    "\n",
    "// by default, CSV are read in as strings. However we can convert the individual columns to the correct format\n",
    "val sepal_length = data(\"sepallength\").map(_.toDouble)\n",
    "val petal_width = data(\"petalwidth\").map(_.toDouble)\n",
    "val categories = data(\"class\")"
   ]
  },
  {
   "cell_type": "code",
   "execution_count": null,
   "metadata": {},
   "outputs": [],
   "source": [
    "val data = XY(sepal_length, petal_width, series_type=SCATTER, series_mode=MARKERS)\n",
    "\n",
    "val chart = Chart() setData data setLayout Layout(title = \"Uninformative Chart\")\n",
    "\n",
    "chart.plot_inline()"
   ]
  },
  {
   "cell_type": "markdown",
   "metadata": {},
   "source": [
    "The above chart is not very informative. However since we have the per data point category labels, we can use the utility function to display the data in the different clusters"
   ]
  },
  {
   "cell_type": "code",
   "execution_count": null,
   "metadata": {},
   "outputs": [],
   "source": [
    "val result: List[XYSeries] = getSeriesbyCategory(categories, (sepal_length, petal_width))\n",
    "\n",
    "val chart = Chart() setData result setLayout Layout(title = \"Iris\", showlegend = true)\n",
    "\n",
    "chart.plot_inline()"
   ]
  }
 ],
 "metadata": {
  "kernelspec": {
   "display_name": "Scala",
   "language": "scala",
   "name": "scala"
  },
  "language_info": {
   "codemirror_mode": "text/x-scala",
   "file_extension": ".scala",
   "mimetype": "text/x-scala",
   "name": "scala",
   "nbconvert_exporter": "script",
   "version": "2.13.2"
  }
 },
 "nbformat": 4,
 "nbformat_minor": 4
}
